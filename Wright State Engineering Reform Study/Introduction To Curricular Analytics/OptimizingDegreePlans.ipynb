{
 "cells": [
  {
   "cell_type": "markdown",
   "metadata": {},
   "source": [
    "# <center>Creating Optimized Degree Plans Using the Curricular Analyics Toolbox</center>\n",
    "\n",
    "<center>\n",
    "    <b>Gregory L. Heileman,$^\\star$ William G. Thompson-Arjona,$^\\dagger$ Orhan Abar,$^\\ddagger$ Hayden W. Free$^\\ddagger$ and Chaouki T. Abdallah$^\\bullet$</b> <br><br>\n",
    "    $^\\star$Department of Electrical & Computer Engineering <br>\n",
    "    University of Arizona <br>\n",
    "    heileman@arizona.edu <br><br>\n",
    "    $^\\dagger$Department of Electrical & Computer Engineering <br>\n",
    "    $^\\ddagger$Department of Computer Science <br>\n",
    "    University of Kentucky <br>\n",
    "    {wgthompson, orhan.abar,  hayden.free}@uky.edu<br><br>\n",
    "    $^\\bullet$Department of Electrical & Computer Engineering <br>\n",
    "    Georgia Institute of Technology <br>\n",
    "    ctabdallah@gatech.edu\n",
    "</center>\n",
    "\n",
    "## Introduction\n",
    "The Curricular Analytics Toolbox includes capablities that allow you to create customized degree plans according to various user-specifed optimization criteria. In order to use these capabilities, you first must have permission to access the CurricularOptimziation.jl package through a professional-level account. To obtain a professional-level account, please visit: http://CurricularAnalytics.org/pro. \n",
    "\n",
    "After obtaining your professional account, in order to use the CurricularOptimization tools, first enter package mode from the Julia REPL by pressing `]`, then enter: \n",
    "\n",
    "`pkg> add https://github.com/CurricularAnalytics/CurricularOptimization.jl.git`\n",
    "\n",
    "The curricular optimization features make use of the [JuMP](https://github.com/JuliaOpt/JuMP.jl) domain-specific language for specifying optimization problems in Julia, and call the [Gurobi](https://www.gurobi.com) solver in order to solve the optimzaton problems. In order to use these features you must also install the solver, called [Gurobi Optimizer](https://www.gurobi.com/downloads/gurobi-optimizer-eula). Gurobi is a commercial product, and requires a license key; however, [academic licenses](https://www.gurobi.com/downloads/end-user-license-agreement-academic) are available at no cost.\n",
    "\n",
    "After installing the Gurobi Solver on your computer, execute the following commands to use the optimization capabilities within the Curricular Analytics Toolbox: "
   ]
  },
  {
   "cell_type": "code",
   "execution_count": 1,
   "metadata": {
    "scrolled": false
   },
   "outputs": [
    {
     "data": {
      "text/html": [
       "<script>\n",
       "// Immediately-invoked-function-expression to avoid global variables.\n",
       "(function() {\n",
       "    var warning_div = document.getElementById(\"webio-warning-11680160990573209575\");\n",
       "    var hide = function () {\n",
       "        var script = document.getElementById(\"webio-setup-15280690358236524887\");\n",
       "        var parent = script && script.parentElement;\n",
       "        var grandparent = parent && parent.parentElement;\n",
       "        if (grandparent) {\n",
       "            grandparent.style.display = \"none\";\n",
       "        }\n",
       "        warning_div.style.display = \"none\";\n",
       "    };\n",
       "    if (typeof Jupyter !== \"undefined\") {\n",
       "        console.log(\"WebIO detected Jupyter notebook environment.\");\n",
       "        // Jupyter notebook.\n",
       "        var extensions = (\n",
       "            Jupyter\n",
       "            && Jupyter.notebook.config.data\n",
       "            && Jupyter.notebook.config.data.load_extensions\n",
       "        );\n",
       "        if (extensions && extensions[\"webio-jupyter-notebook\"]) {\n",
       "            // Extension already loaded.\n",
       "            console.log(\"Jupyter WebIO nbextension detected; not loading ad-hoc.\");\n",
       "            hide();\n",
       "            return;\n",
       "        }\n",
       "    } else if (window.location.pathname.includes(\"/lab\")) {\n",
       "        // Guessing JupyterLa\n",
       "        console.log(\"Jupyter Lab detected; make sure the @webio/jupyter-lab-provider labextension is installed.\");\n",
       "        hide();\n",
       "        return;\n",
       "    }\n",
       "})();\n",
       "\n",
       "</script>\n",
       "<p\n",
       "    id=\"webio-warning-11680160990573209575\"\n",
       "    class=\"output_text output_stderr\"\n",
       "    style=\"padding: 1em; font-weight: bold;\"\n",
       ">\n",
       "    Unable to load WebIO. Please make sure WebIO works for your Jupyter client.\n",
       "    For troubleshooting, please see <a href=\"https://juliagizmos.github.io/WebIO.jl/latest/providers/ijulia/\">\n",
       "    the WebIO/IJulia documentation</a>.\n",
       "    <!-- TODO: link to installation docs. -->\n",
       "</p>\n"
      ],
      "text/plain": [
       "HTML{String}(\"<script>\\n// Immediately-invoked-function-expression to avoid global variables.\\n(function() {\\n    var warning_div = document.getElementById(\\\"webio-warning-11680160990573209575\\\");\\n    var hide = function () {\\n        var script = document.getElementById(\\\"webio-setup-15280690358236524887\\\");\\n        var parent = script && script.parentElement;\\n        var grandparent = parent && parent.parentElement;\\n        if (grandparent) {\\n            grandparent.style.display = \\\"none\\\";\\n        }\\n        warning_div.style.display = \\\"none\\\";\\n    };\\n    if (typeof Jupyter !== \\\"undefined\\\") {\\n        console.log(\\\"WebIO detected Jupyter notebook environment.\\\");\\n        // Jupyter notebook.\\n        var extensions = (\\n            Jupyter\\n            && Jupyter.notebook.config.data\\n            && Jupyter.notebook.config.data.load_extensions\\n        );\\n        if (extensions && extensions[\\\"webio-jupyter-notebook\\\"]) {\\n            // Extension already loaded.\\n            console.log(\\\"Jupyter WebIO nbextension detected; not loading ad-hoc.\\\");\\n            hide();\\n            return;\\n        }\\n    } else if (window.location.pathname.includes(\\\"/lab\\\")) {\\n        // Guessing JupyterLa\\n        console.log(\\\"Jupyter Lab detected; make sure the @webio/jupyter-lab-provider labextension is installed.\\\");\\n        hide();\\n        return;\\n    }\\n})();\\n\\n</script>\\n<p\\n    id=\\\"webio-warning-11680160990573209575\\\"\\n    class=\\\"output_text output_stderr\\\"\\n    style=\\\"padding: 1em; font-weight: bold;\\\"\\n>\\n    Unable to load WebIO. Please make sure WebIO works for your Jupyter client.\\n    For troubleshooting, please see <a href=\\\"https://juliagizmos.github.io/WebIO.jl/latest/providers/ijulia/\\\">\\n    the WebIO/IJulia documentation</a>.\\n    <!-- TODO: link to installation docs. -->\\n</p>\\n\")"
      ]
     },
     "metadata": {},
     "output_type": "display_data"
    }
   ],
   "source": [
    "using CurricularAnalytics, CurricularVisualization, CurricularOptimization"
   ]
  },
  {
   "cell_type": "markdown",
   "metadata": {},
   "source": [
    "## Setting Up the Optimization Problems\n",
    "A brief overview of how we have structured the degree plan creation process as a mathematical optimzation problem is provided next. If you'd like to get straight to using the optimization features, you may skip to the code sections below.\n",
    "\n",
    "Assume a curriculum consisting of $n$ courses is organized over $m$ terms. The degree plan creation process involves a partitioning of the $n$ courses in a curriculum into $m$ disjoint sets. Thus, we can represent a degree plan an $n \\times m$ binary-valued assignment matrix $x$, where\n",
    "\n",
    "$$\n",
    "  x_{ij} = \\left\\{\n",
    "  \\begin{array}{ll}\n",
    "  1; & \\text{if course $i$ is assigned to term $j$ in the plan,} \\\\\n",
    "  0; & \\text{otherwise.}\n",
    "  \\end{array}\\right.\n",
    "$$\n",
    "\n",
    "### Constraints\n",
    "\n",
    "In order to be considered *minimally feasible*, a degree plan $P$ for a curriculum $C$ must satisfy two conditions:\n",
    "\n",
    "1. Every course in the curriculum $C$ must appear in one and only one term in the degree plan $P$.  (Note: $P$ may contain courses that are not in $C$.)\n",
    "2. The requisite relationships between the courses in $P$ must be respected across the terms in $P$.  That is, if course $a$ is a prerequisite for course $b$ in the curriculum, then course $a$ must appear in the degree plan $P$ in an earlier term than course $b$.\n",
    "\n",
    "These two conditions can be expressed in terms of the assignment variables in the form of *constraints*.  The first, which requires that each course be assigned to one and only one term, is:\n",
    "\n",
    "$$\n",
    "  \\mbox{Constraint 1:} \\ \\ \\sum_{j=1}^m  x_{ij} = 1, \\ \\ \\ \\ i = 1 \\ldots n.\n",
    "$$\n",
    "\n",
    "If we let $T_i$ denote the term that course $i$ is assigned to, i.e., $T_i = j \\iff x_{ij} = 1$, then the second condition, which requires the assignment to satisfy all requisites, yeilds three constraints depending upon the requisite type.  That is, if course $a$ is a *requisite* for course $b$, then:\n",
    "\n",
    "$$\n",
    "  \\mbox{Constraint 2 (prerequisite):} \\ \\ T_a \\ < \\ T_b, \\\\\n",
    "  \\mbox{Constraint 3 (co-requisite):} \\ \\ T_a \\ \\leq \\ T_b, \\\\\n",
    "  \\mbox{Constraint 4 (strict co-requisite):} \\ \\ T_a \\ = \\ T_b. \n",
    "$$\n",
    "\n",
    "Note that $T_i$ can be obtained from the assignment matrix using:\n",
    "\n",
    "$$\n",
    " T_i = \\sum_{j=1}^m j \\cdot x_{ij}. \n",
    "$$\n",
    "\n",
    "In order to guide the optimzation algorithms towards reasonable soluations, additional constraints are required.  In partciular, it is necessarey to specify the maximum number of terms you would like the degree plan to contain, denoted $\\alpha$, as well as the minimum and maximum  number of credit hours allowed in each term, denoted $\\beta$ and $\\gamma$ respectively. If we let $c_i$ denote the number of credit hours associated with course $i$, and $\\theta_j$ the number of credit hours in term $j$, then\n",
    "\n",
    "$$\n",
    " \\theta_j = \\sum_{i=1}^n c_i \\cdot x_{ij}, \\ \\ \\ \\ j = 1, \\ldots, m,\n",
    "$$\n",
    "\n",
    " and the aforementioned conditions may be expressed as the following constraints:\n",
    "\n",
    "$$\n",
    "  \\mbox{Constraint 5:} \\ \\ m \\ < \\ \\alpha , \\\\\n",
    "  \\mbox{Constraint 6:} \\ \\theta_j \\ \\ge \\ \\beta, \\ \\ \\ \\ j = 1, \\ldots, m. \\\\\n",
    "  \\mbox{Constraint 7:} \\ \\theta_j \\ \\leq \\ \\gamma, \\ \\ \\ \\ j = 1, \\ldots, m.\n",
    "$$\n",
    "\n",
    "### Single Objective Function\n",
    "\n",
    "A number of different objective functions have been defined for use in creating degree plans optimized around particular criteria.    \n",
    "\n",
    "For a single objective function $f(x)$, the optimzation problem can be stated as:\n",
    "$$\n",
    "\\min f(x), \\\\\n",
    "\\mbox{subject to: Constraints} \\ \\ 1-7.\n",
    "$$\n",
    "\n",
    "The currently supported objective functions are described next.  We will demonstrate the use of each these objective functions on the following curriculum:"
   ]
  },
  {
   "cell_type": "code",
   "execution_count": 2,
   "metadata": {
    "scrolled": false
   },
   "outputs": [
    {
     "data": {
      "application/vnd.webio.node+json": {
       "children": [
        {
         "children": [
          ""
         ],
         "instanceArgs": {
          "namespace": "html",
          "tag": "iframe"
         },
         "nodeType": "DOM",
         "props": {
          "events": {
           "load": "(function (){this.contentWindow.postMessage({\"options\":{\"hideTerms\":false,\"edit\":false},\"curriculum\":{\"name\":\"A Real EE Program\",\"dp_name\":\"2018-19 Plan\",\"curriculum_terms\":[{\"name\":\"Term 1\",\"curriculum_items\":[{\"curriculum_requisites\":[],\"name\":\"HIST 1377\",\"metrics\":{\"centrality\":0,\"complexity\":1.0,\"blocking factor\":0,\"delay factor\":1.0},\"nameSub\":\"The US to 1877\",\"id\":3824069494,\"credits\":3,\"nameCanonical\":\"\"},{\"curriculum_requisites\":[],\"name\":\"ENGL 1303\",\"metrics\":{\"centrality\":0,\"complexity\":13.0,\"blocking factor\":6,\"delay factor\":7.0},\"nameSub\":\"First Year Writing I\",\"id\":1324171406,\"credits\":3,\"nameCanonical\":\"\"},{\"curriculum_requisites\":[{\"source_id\":4175014649,\"target_id\":1764441140,\"type\":\"CurriculumCorequisite\"}],\"name\":\"ENGI 1100\",\"metrics\":{\"centrality\":85,\"complexity\":25.0,\"blocking factor\":15,\"delay factor\":10.0},\"nameSub\":\"Intro to Engr.\",\"id\":1764441140,\"credits\":1,\"nameCanonical\":\"\"},{\"curriculum_requisites\":[],\"name\":\"MATH 1431\",\"metrics\":{\"centrality\":0,\"complexity\":35.0,\"blocking factor\":23,\"delay factor\":12.0},\"nameSub\":\"Calculus I\",\"id\":4175014649,\"credits\":4,\"nameCanonical\":\"\"},{\"curriculum_requisites\":[],\"name\":\"CHEM 1331\",\"metrics\":{\"centrality\":0,\"complexity\":3.0,\"blocking factor\":1,\"delay factor\":2.0},\"nameSub\":\"Fund. of Chemistry\",\"id\":1351802580,\"credits\":3,\"nameCanonical\":\"\"},{\"curriculum_requisites\":[{\"source_id\":1351802580,\"target_id\":2195546016,\"type\":\"CurriculumCorequisite\"}],\"name\":\"CHEM 1111\",\"metrics\":{\"centrality\":0,\"complexity\":2.0,\"blocking factor\":0,\"delay factor\":2.0},\"nameSub\":\"Fund. of Chemistry Lab\",\"id\":2195546016,\"credits\":1,\"nameCanonical\":\"\"}],\"id\":1},{\"name\":\"Term 2\",\"curriculum_items\":[{\"curriculum_requisites\":[],\"name\":\"HIST 1378\",\"metrics\":{\"centrality\":0,\"complexity\":1.0,\"blocking factor\":0,\"delay factor\":1.0},\"nameSub\":\"US Since 1877\",\"id\":2731496025,\"credits\":3,\"nameCanonical\":\"\"},{\"curriculum_requisites\":[{\"source_id\":1324171406,\"target_id\":3195103903,\"type\":\"CurriculumPrerequisite\"}],\"name\":\"ENGL 1304\",\"metrics\":{\"centrality\":13,\"complexity\":12.0,\"blocking factor\":5,\"delay factor\":7.0},\"nameSub\":\"First Year Writing II\",\"id\":3195103903,\"credits\":3,\"nameCanonical\":\"\"},{\"curriculum_requisites\":[{\"source_id\":4175014649,\"target_id\":1051497550,\"type\":\"CurriculumPrerequisite\"},{\"source_id\":1764441140,\"target_id\":1051497550,\"type\":\"CurriculumPrerequisite\"}],\"name\":\"ENGI 1331\",\"metrics\":{\"centrality\":160,\"complexity\":24.0,\"blocking factor\":14,\"delay factor\":10.0},\"nameSub\":\"Computing & Prob. Solving\",\"id\":1051497550,\"credits\":3,\"nameCanonical\":\"\"},{\"curriculum_requisites\":[{\"source_id\":4175014649,\"target_id\":1177372781,\"type\":\"CurriculumPrerequisite\"}],\"name\":\"MATH 1432\",\"metrics\":{\"centrality\":607,\"complexity\":32.0,\"blocking factor\":20,\"delay factor\":12.0},\"nameSub\":\"Calculus II\",\"id\":1177372781,\"credits\":4,\"nameCanonical\":\"\"},{\"curriculum_requisites\":[{\"source_id\":1177372781,\"target_id\":2834873484,\"type\":\"CurriculumCorequisite\"}],\"name\":\"PHYS 1321\",\"metrics\":{\"centrality\":217,\"complexity\":28.0,\"blocking factor\":16,\"delay factor\":12.0},\"nameSub\":\"University Physics I\",\"id\":2834873484,\"credits\":3,\"nameCanonical\":\"\"},{\"curriculum_requisites\":[{\"source_id\":2834873484,\"target_id\":3178954113,\"type\":\"CurriculumCorequisite\"}],\"name\":\"PHYS 1121\",\"metrics\":{\"centrality\":0,\"complexity\":4.0,\"blocking factor\":0,\"delay factor\":4.0},\"nameSub\":\"Physics Lab I\",\"id\":3178954113,\"credits\":1,\"nameCanonical\":\"\"}],\"id\":2},{\"name\":\"Term 3\",\"curriculum_items\":[{\"curriculum_requisites\":[],\"name\":\"POLS 1336\",\"metrics\":{\"centrality\":0,\"complexity\":1.0,\"blocking factor\":0,\"delay factor\":1.0},\"nameSub\":\"US and TX Constitutions & Politics\",\"id\":1541543378,\"credits\":3,\"nameCanonical\":\"\"},{\"curriculum_requisites\":[{\"source_id\":1177372781,\"target_id\":947037850,\"type\":\"CurriculumPrerequisite\"}],\"name\":\"MATH 3321\",\"metrics\":{\"centrality\":93,\"complexity\":23.0,\"blocking factor\":13,\"delay factor\":10.0},\"nameSub\":\"Engineering Math\",\"id\":947037850,\"credits\":3,\"nameCanonical\":\"\"},{\"curriculum_requisites\":[{\"source_id\":3718777895,\"target_id\":2138760932,\"type\":\"CurriculumCorequisite\"},{\"source_id\":3059602497,\"target_id\":2138760932,\"type\":\"CurriculumCorequisite\"},{\"source_id\":2258215799,\"target_id\":2138760932,\"type\":\"CurriculumCorequisite\"},{\"source_id\":1051497550,\"target_id\":2138760932,\"type\":\"CurriculumPrerequisite\"},{\"source_id\":947037850,\"target_id\":2138760932,\"type\":\"CurriculumCorequisite\"}],\"name\":\"ECE 2201\",\"metrics\":{\"centrality\":677,\"complexity\":24.0,\"blocking factor\":12,\"delay factor\":12.0},\"nameSub\":\"Circuit Analysis I\",\"id\":2138760932,\"credits\":3,\"nameCanonical\":\"\"},{\"curriculum_requisites\":[{\"source_id\":1177372781,\"target_id\":2258215799,\"type\":\"CurriculumPrerequisite\"}],\"name\":\"MATH 2433\",\"metrics\":{\"centrality\":292,\"complexity\":27.0,\"blocking factor\":15,\"delay factor\":12.0},\"nameSub\":\"Calculus III\",\"id\":2258215799,\"credits\":3,\"nameCanonical\":\"\"},{\"curriculum_requisites\":[{\"source_id\":2258215799,\"target_id\":3718777895,\"type\":\"CurriculumCorequisite\"},{\"source_id\":2834873484,\"target_id\":3718777895,\"type\":\"CurriculumPrerequisite\"}],\"name\":\"PHYS 1322\",\"metrics\":{\"centrality\":426,\"complexity\":26.0,\"blocking factor\":14,\"delay factor\":12.0},\"nameSub\":\"University Physics II\",\"id\":3718777895,\"credits\":3,\"nameCanonical\":\"\"},{\"curriculum_requisites\":[{\"source_id\":3718777895,\"target_id\":3059602497,\"type\":\"CurriculumCorequisite\"}],\"name\":\"PHYS 1122\",\"metrics\":{\"centrality\":250,\"complexity\":25.0,\"blocking factor\":13,\"delay factor\":12.0},\"nameSub\":\"Physics Lab II\",\"id\":3059602497,\"credits\":1,\"nameCanonical\":\"\"}],\"id\":3},{\"name\":\"Term 4\",\"curriculum_items\":[{\"curriculum_requisites\":[{\"source_id\":3195103903,\"target_id\":1770099342,\"type\":\"CurriculumPrerequisite\"},{\"source_id\":2138760932,\"target_id\":1770099342,\"type\":\"CurriculumPrerequisite\"}],\"name\":\"ENGI 2304\",\"metrics\":{\"centrality\":159,\"complexity\":15.0,\"blocking factor\":4,\"delay factor\":11.0},\"nameSub\":\"Technical Communication\",\"id\":1770099342,\"credits\":3,\"nameCanonical\":\"\"},{\"curriculum_requisites\":[{\"source_id\":947037850,\"target_id\":649106202,\"type\":\"CurriculumPrerequisite\"},{\"source_id\":2138760932,\"target_id\":649106202,\"type\":\"CurriculumPrerequisite\"}],\"name\":\"ECE 3331\",\"metrics\":{\"centrality\":152,\"complexity\":14.0,\"blocking factor\":4,\"delay factor\":10.0},\"nameSub\":\"Programming Apps in ECE\",\"id\":649106202,\"credits\":3,\"nameCanonical\":\"\"},{\"curriculum_requisites\":[{\"source_id\":3059602497,\"target_id\":1083857781,\"type\":\"CurriculumPrerequisite\"},{\"source_id\":3887805990,\"target_id\":1083857781,\"type\":\"CurriculumCorequisite\"}],\"name\":\"ECE 2100\",\"metrics\":{\"centrality\":295,\"complexity\":17.0,\"blocking factor\":5,\"delay factor\":12.0},\"nameSub\":\"Circuits Lab\",\"id\":1083857781,\"credits\":1,\"nameCanonical\":\"\"},{\"curriculum_requisites\":[{\"source_id\":2138760932,\"target_id\":3887805990,\"type\":\"CurriculumPrerequisite\"}],\"name\":\"ECE 2202\",\"metrics\":{\"centrality\":393,\"complexity\":20.0,\"blocking factor\":8,\"delay factor\":12.0},\"nameSub\":\"Circuit Analysis II\",\"id\":3887805990,\"credits\":3,\"nameCanonical\":\"\"},{\"curriculum_requisites\":[{\"source_id\":3887805990,\"target_id\":2791403937,\"type\":\"CurriculumCorequisite\"}],\"name\":\"ECE 3337\",\"metrics\":{\"centrality\":154,\"complexity\":15.0,\"blocking factor\":4,\"delay factor\":11.0},\"nameSub\":\"Signals & Systems Analysis\",\"id\":2791403937,\"credits\":3,\"nameCanonical\":\"\"},{\"curriculum_requisites\":[{\"source_id\":1083857781,\"target_id\":4184346648,\"type\":\"CurriculumCorequisite\"},{\"source_id\":649106202,\"target_id\":4184346648,\"type\":\"CurriculumCorequisite\"}],\"name\":\"ECE 3436\",\"metrics\":{\"centrality\":171,\"complexity\":13.0,\"blocking factor\":2,\"delay factor\":11.0},\"nameSub\":\"Microprocessors\",\"id\":4184346648,\"credits\":3,\"nameCanonical\":\"\"}],\"id\":4},{\"name\":\"Term 5\",\"curriculum_items\":[{\"curriculum_requisites\":[],\"name\":\" \",\"metrics\":{\"centrality\":0,\"complexity\":1.0,\"blocking factor\":0,\"delay factor\":1.0},\"nameSub\":\"Creative Arts Core\",\"id\":848294223,\"credits\":3,\"nameCanonical\":\"\"},{\"curriculum_requisites\":[{\"source_id\":1083857781,\"target_id\":1966522372,\"type\":\"CurriculumPrerequisite\"},{\"source_id\":1770099342,\"target_id\":1966522372,\"type\":\"CurriculumPrerequisite\"}],\"name\":\"ECE 3155\",\"metrics\":{\"centrality\":359,\"complexity\":15.0,\"blocking factor\":3,\"delay factor\":12.0},\"nameSub\":\"Electronics Lab\",\"id\":1966522372,\"credits\":1,\"nameCanonical\":\"\"},{\"curriculum_requisites\":[{\"source_id\":1966522372,\"target_id\":4165958389,\"type\":\"CurriculumStrictCorequisite\"},{\"source_id\":2791403937,\"target_id\":4165958389,\"type\":\"CurriculumPrerequisite\"}],\"name\":\"ECE 3355\",\"metrics\":{\"centrality\":266,\"complexity\":14.0,\"blocking factor\":2,\"delay factor\":12.0},\"nameSub\":\"Electronics\",\"id\":4165958389,\"credits\":3,\"nameCanonical\":\"\"},{\"curriculum_requisites\":[],\"name\":\" \",\"metrics\":{\"centrality\":0,\"complexity\":1.0,\"blocking factor\":0,\"delay factor\":1.0},\"nameSub\":\"Concentration Elective 1\",\"id\":1056053313,\"credits\":3,\"nameCanonical\":\"\"},{\"curriculum_requisites\":[{\"source_id\":2791403937,\"target_id\":2252871414,\"type\":\"CurriculumPrerequisite\"}],\"name\":\"ECE 3317\",\"metrics\":{\"centrality\":77,\"complexity\":13.0,\"blocking factor\":2,\"delay factor\":11.0},\"nameSub\":\"Applied EM Waves\",\"id\":2252871414,\"credits\":3,\"nameCanonical\":\"\"},{\"curriculum_requisites\":[],\"name\":\" \",\"metrics\":{\"centrality\":0,\"complexity\":1.0,\"blocking factor\":0,\"delay factor\":1.0},\"nameSub\":\"ECE Elective 1\",\"id\":2051928090,\"credits\":3,\"nameCanonical\":\"\"}],\"id\":5},{\"name\":\"Term 6\",\"curriculum_items\":[{\"curriculum_requisites\":[],\"name\":\"POLS 1337\",\"metrics\":{\"centrality\":0,\"complexity\":1.0,\"blocking factor\":0,\"delay factor\":1.0},\"nameSub\":\"US Gov: Congress, President and Courts\",\"id\":951874139,\"credits\":3,\"nameCanonical\":\"\"},{\"curriculum_requisites\":[{\"source_id\":1051497550,\"target_id\":2888554139,\"type\":\"CurriculumPrerequisite\"},{\"source_id\":1177372781,\"target_id\":2888554139,\"type\":\"CurriculumPrerequisite\"}],\"name\":\"INDE 2333\",\"metrics\":{\"centrality\":16,\"complexity\":8.0,\"blocking factor\":2,\"delay factor\":6.0},\"nameSub\":\"Engineering Statistics\",\"id\":2888554139,\"credits\":3,\"nameCanonical\":\"\"},{\"curriculum_requisites\":[],\"name\":\" \",\"metrics\":{\"centrality\":0,\"complexity\":1.0,\"blocking factor\":0,\"delay factor\":1.0},\"nameSub\":\"Elective Lab 1\",\"id\":26700799,\"credits\":1,\"nameCanonical\":\"\"},{\"curriculum_requisites\":[],\"name\":\" \",\"metrics\":{\"centrality\":0,\"complexity\":1.0,\"blocking factor\":0,\"delay factor\":1.0},\"nameSub\":\"Concentration Elective 2\",\"id\":1745860227,\"credits\":3,\"nameCanonical\":\"\"},{\"curriculum_requisites\":[{\"source_id\":649106202,\"target_id\":3368026167,\"type\":\"CurriculumPrerequisite\"}],\"name\":\"ECE 3340\",\"metrics\":{\"centrality\":76,\"complexity\":12.0,\"blocking factor\":2,\"delay factor\":10.0},\"nameSub\":\"Numerical Methods\",\"id\":3368026167,\"credits\":3,\"nameCanonical\":\"\"},{\"curriculum_requisites\":[],\"name\":\" \",\"metrics\":{\"centrality\":0,\"complexity\":1.0,\"blocking factor\":0,\"delay factor\":1.0},\"nameSub\":\"ECE Elective 2\",\"id\":672829327,\"credits\":3,\"nameCanonical\":\"\"}],\"id\":6},{\"name\":\"Term 7\",\"curriculum_items\":[{\"curriculum_requisites\":[],\"name\":\"ECON 2304\",\"metrics\":{\"centrality\":0,\"complexity\":5.0,\"blocking factor\":2,\"delay factor\":3.0},\"nameSub\":\"Microeconomic Principles\",\"id\":3224555476,\"credits\":3,\"nameCanonical\":\"\"},{\"curriculum_requisites\":[{\"source_id\":1966522372,\"target_id\":1337097032,\"type\":\"CurriculumPrerequisite\"},{\"source_id\":4184346648,\"target_id\":1337097032,\"type\":\"CurriculumPrerequisite\"},{\"source_id\":3368026167,\"target_id\":1337097032,\"type\":\"CurriculumPrerequisite\"},{\"source_id\":2888554139,\"target_id\":1337097032,\"type\":\"CurriculumPrerequisite\"},{\"source_id\":4165958389,\"target_id\":1337097032,\"type\":\"CurriculumPrerequisite\"},{\"source_id\":3224555476,\"target_id\":1337097032,\"type\":\"CurriculumCorequisite\"},{\"source_id\":2252871414,\"target_id\":1337097032,\"type\":\"CurriculumPrerequisite\"}],\"name\":\"ECE 4335\",\"metrics\":{\"centrality\":779,\"complexity\":13.0,\"blocking factor\":1,\"delay factor\":12.0},\"nameSub\":\"ECE Design I\",\"id\":1337097032,\"credits\":3,\"nameCanonical\":\"\"},{\"curriculum_requisites\":[],\"name\":\" \",\"metrics\":{\"centrality\":0,\"complexity\":1.0,\"blocking factor\":0,\"delay factor\":1.0},\"nameSub\":\"Elective Lab 2\",\"id\":1296179090,\"credits\":1,\"nameCanonical\":\"\"},{\"curriculum_requisites\":[],\"name\":\" \",\"metrics\":{\"centrality\":0,\"complexity\":1.0,\"blocking factor\":0,\"delay factor\":1.0},\"nameSub\":\"Concentration Elective 3\",\"id\":1105094343,\"credits\":3,\"nameCanonical\":\"\"},{\"curriculum_requisites\":[],\"name\":\" \",\"metrics\":{\"centrality\":0,\"complexity\":1.0,\"blocking factor\":0,\"delay factor\":1.0},\"nameSub\":\"Concentration Elective 4\",\"id\":1819261218,\"credits\":3,\"nameCanonical\":\"\"},{\"curriculum_requisites\":[],\"name\":\" \",\"metrics\":{\"centrality\":0,\"complexity\":1.0,\"blocking factor\":0,\"delay factor\":1.0},\"nameSub\":\"Technical Elective\",\"id\":2529896330,\"credits\":3,\"nameCanonical\":\"\"}],\"id\":7},{\"name\":\"Term 8\",\"curriculum_items\":[{\"curriculum_requisites\":[],\"name\":\" \",\"metrics\":{\"centrality\":0,\"complexity\":1.0,\"blocking factor\":0,\"delay factor\":1.0},\"nameSub\":\"Lang., Phil. & Culture Core\",\"id\":1626752824,\"credits\":3,\"nameCanonical\":\"\"},{\"curriculum_requisites\":[{\"source_id\":1337097032,\"target_id\":1158404973,\"type\":\"CurriculumPrerequisite\"}],\"name\":\"ECE 4336\",\"metrics\":{\"centrality\":0,\"complexity\":12.0,\"blocking factor\":0,\"delay factor\":12.0},\"nameSub\":\"ECE Design II\",\"id\":1158404973,\"credits\":3,\"nameCanonical\":\"\"},{\"curriculum_requisites\":[],\"name\":\" \",\"metrics\":{\"centrality\":0,\"complexity\":1.0,\"blocking factor\":0,\"delay factor\":1.0},\"nameSub\":\"Elective Lab 3\",\"id\":3091492697,\"credits\":1,\"nameCanonical\":\"\"},{\"curriculum_requisites\":[],\"name\":\" \",\"metrics\":{\"centrality\":0,\"complexity\":1.0,\"blocking factor\":0,\"delay factor\":1.0},\"nameSub\":\"Concentration Elective 5\",\"id\":2070124031,\"credits\":3,\"nameCanonical\":\"\"},{\"curriculum_requisites\":[],\"name\":\" \",\"metrics\":{\"centrality\":0,\"complexity\":1.0,\"blocking factor\":0,\"delay factor\":1.0},\"nameSub\":\"Concentration Elective 6\",\"id\":1716266479,\"credits\":3,\"nameCanonical\":\"\"},{\"curriculum_requisites\":[],\"name\":\" \",\"metrics\":{\"centrality\":0,\"complexity\":1.0,\"blocking factor\":0,\"delay factor\":1.0},\"nameSub\":\"Concentration Elective 7\",\"id\":2584207151,\"credits\":3,\"nameCanonical\":\"\"},{\"curriculum_requisites\":[],\"name\":\" \",\"metrics\":{\"centrality\":0,\"complexity\":1.0,\"blocking factor\":0,\"delay factor\":1.0},\"nameSub\":\"Elective Lab 4\",\"id\":2450156574,\"credits\":1,\"nameCanonical\":\"\"}],\"id\":8}],\"institution\":\"ACME Univ.\"}},\"*\"); window.removeEventListener(\"message\",window.messageReceived); window.messageReceived=(function (event){return (event.data.curriculum!==undefined) ? (WebIO.setval({\"name\":\"curriculum-data\",\"scope\":\"490043330684972688\",\"id\":\"9842419840738364399\",\"type\":\"observable\"},event.data.curriculum)) : undefined}); return window.addEventListener(\"message\",window.messageReceived)})"
          },
          "id": "curriculum",
          "src": "https://curricula-api-embed.damoursystems.com/",
          "style": {
           "border": "none",
           "height": "100vh",
           "margin": "0",
           "padding": "0",
           "width": "100%"
          }
         },
         "type": "node"
        }
       ],
       "instanceArgs": {
        "handlers": {},
        "id": "490043330684972688",
        "imports": {
         "data": [],
         "type": "async_block"
        },
        "mount_callbacks": [],
        "observables": {
         "curriculum-data": {
          "id": "9842419840738364399",
          "sync": true,
          "value": {
           "curriculum": {
            "curriculum_terms": [
             {
              "curriculum_items": [
               {
                "credits": 3,
                "curriculum_requisites": [],
                "id": 3824069494,
                "metrics": {
                 "blocking factor": 0,
                 "centrality": 0,
                 "complexity": 1,
                 "delay factor": 1
                },
                "name": "HIST 1377",
                "nameCanonical": "",
                "nameSub": "The US to 1877"
               },
               {
                "credits": 3,
                "curriculum_requisites": [],
                "id": 1324171406,
                "metrics": {
                 "blocking factor": 6,
                 "centrality": 0,
                 "complexity": 13,
                 "delay factor": 7
                },
                "name": "ENGL 1303",
                "nameCanonical": "",
                "nameSub": "First Year Writing I"
               },
               {
                "credits": 1,
                "curriculum_requisites": [
                 {
                  "source_id": 4175014649,
                  "target_id": 1764441140,
                  "type": "CurriculumCorequisite"
                 }
                ],
                "id": 1764441140,
                "metrics": {
                 "blocking factor": 15,
                 "centrality": 85,
                 "complexity": 25,
                 "delay factor": 10
                },
                "name": "ENGI 1100",
                "nameCanonical": "",
                "nameSub": "Intro to Engr."
               },
               {
                "credits": 4,
                "curriculum_requisites": [],
                "id": 4175014649,
                "metrics": {
                 "blocking factor": 23,
                 "centrality": 0,
                 "complexity": 35,
                 "delay factor": 12
                },
                "name": "MATH 1431",
                "nameCanonical": "",
                "nameSub": "Calculus I"
               },
               {
                "credits": 3,
                "curriculum_requisites": [],
                "id": 1351802580,
                "metrics": {
                 "blocking factor": 1,
                 "centrality": 0,
                 "complexity": 3,
                 "delay factor": 2
                },
                "name": "CHEM 1331",
                "nameCanonical": "",
                "nameSub": "Fund. of Chemistry"
               },
               {
                "credits": 1,
                "curriculum_requisites": [
                 {
                  "source_id": 1351802580,
                  "target_id": 2195546016,
                  "type": "CurriculumCorequisite"
                 }
                ],
                "id": 2195546016,
                "metrics": {
                 "blocking factor": 0,
                 "centrality": 0,
                 "complexity": 2,
                 "delay factor": 2
                },
                "name": "CHEM 1111",
                "nameCanonical": "",
                "nameSub": "Fund. of Chemistry Lab"
               }
              ],
              "id": 1,
              "name": "Term 1"
             },
             {
              "curriculum_items": [
               {
                "credits": 3,
                "curriculum_requisites": [],
                "id": 2731496025,
                "metrics": {
                 "blocking factor": 0,
                 "centrality": 0,
                 "complexity": 1,
                 "delay factor": 1
                },
                "name": "HIST 1378",
                "nameCanonical": "",
                "nameSub": "US Since 1877"
               },
               {
                "credits": 3,
                "curriculum_requisites": [
                 {
                  "source_id": 1324171406,
                  "target_id": 3195103903,
                  "type": "CurriculumPrerequisite"
                 }
                ],
                "id": 3195103903,
                "metrics": {
                 "blocking factor": 5,
                 "centrality": 13,
                 "complexity": 12,
                 "delay factor": 7
                },
                "name": "ENGL 1304",
                "nameCanonical": "",
                "nameSub": "First Year Writing II"
               },
               {
                "credits": 3,
                "curriculum_requisites": [
                 {
                  "source_id": 4175014649,
                  "target_id": 1051497550,
                  "type": "CurriculumPrerequisite"
                 },
                 {
                  "source_id": 1764441140,
                  "target_id": 1051497550,
                  "type": "CurriculumPrerequisite"
                 }
                ],
                "id": 1051497550,
                "metrics": {
                 "blocking factor": 14,
                 "centrality": 160,
                 "complexity": 24,
                 "delay factor": 10
                },
                "name": "ENGI 1331",
                "nameCanonical": "",
                "nameSub": "Computing & Prob. Solving"
               },
               {
                "credits": 4,
                "curriculum_requisites": [
                 {
                  "source_id": 4175014649,
                  "target_id": 1177372781,
                  "type": "CurriculumPrerequisite"
                 }
                ],
                "id": 1177372781,
                "metrics": {
                 "blocking factor": 20,
                 "centrality": 607,
                 "complexity": 32,
                 "delay factor": 12
                },
                "name": "MATH 1432",
                "nameCanonical": "",
                "nameSub": "Calculus II"
               },
               {
                "credits": 3,
                "curriculum_requisites": [
                 {
                  "source_id": 1177372781,
                  "target_id": 2834873484,
                  "type": "CurriculumCorequisite"
                 }
                ],
                "id": 2834873484,
                "metrics": {
                 "blocking factor": 16,
                 "centrality": 217,
                 "complexity": 28,
                 "delay factor": 12
                },
                "name": "PHYS 1321",
                "nameCanonical": "",
                "nameSub": "University Physics I"
               },
               {
                "credits": 1,
                "curriculum_requisites": [
                 {
                  "source_id": 2834873484,
                  "target_id": 3178954113,
                  "type": "CurriculumCorequisite"
                 }
                ],
                "id": 3178954113,
                "metrics": {
                 "blocking factor": 0,
                 "centrality": 0,
                 "complexity": 4,
                 "delay factor": 4
                },
                "name": "PHYS 1121",
                "nameCanonical": "",
                "nameSub": "Physics Lab I"
               }
              ],
              "id": 2,
              "name": "Term 2"
             },
             {
              "curriculum_items": [
               {
                "credits": 3,
                "curriculum_requisites": [],
                "id": 1541543378,
                "metrics": {
                 "blocking factor": 0,
                 "centrality": 0,
                 "complexity": 1,
                 "delay factor": 1
                },
                "name": "POLS 1336",
                "nameCanonical": "",
                "nameSub": "US and TX Constitutions & Politics"
               },
               {
                "credits": 3,
                "curriculum_requisites": [
                 {
                  "source_id": 1177372781,
                  "target_id": 947037850,
                  "type": "CurriculumPrerequisite"
                 }
                ],
                "id": 947037850,
                "metrics": {
                 "blocking factor": 13,
                 "centrality": 93,
                 "complexity": 23,
                 "delay factor": 10
                },
                "name": "MATH 3321",
                "nameCanonical": "",
                "nameSub": "Engineering Math"
               },
               {
                "credits": 3,
                "curriculum_requisites": [
                 {
                  "source_id": 3718777895,
                  "target_id": 2138760932,
                  "type": "CurriculumCorequisite"
                 },
                 {
                  "source_id": 3059602497,
                  "target_id": 2138760932,
                  "type": "CurriculumCorequisite"
                 },
                 {
                  "source_id": 2258215799,
                  "target_id": 2138760932,
                  "type": "CurriculumCorequisite"
                 },
                 {
                  "source_id": 1051497550,
                  "target_id": 2138760932,
                  "type": "CurriculumPrerequisite"
                 },
                 {
                  "source_id": 947037850,
                  "target_id": 2138760932,
                  "type": "CurriculumCorequisite"
                 }
                ],
                "id": 2138760932,
                "metrics": {
                 "blocking factor": 12,
                 "centrality": 677,
                 "complexity": 24,
                 "delay factor": 12
                },
                "name": "ECE 2201",
                "nameCanonical": "",
                "nameSub": "Circuit Analysis I"
               },
               {
                "credits": 3,
                "curriculum_requisites": [
                 {
                  "source_id": 1177372781,
                  "target_id": 2258215799,
                  "type": "CurriculumPrerequisite"
                 }
                ],
                "id": 2258215799,
                "metrics": {
                 "blocking factor": 15,
                 "centrality": 292,
                 "complexity": 27,
                 "delay factor": 12
                },
                "name": "MATH 2433",
                "nameCanonical": "",
                "nameSub": "Calculus III"
               },
               {
                "credits": 3,
                "curriculum_requisites": [
                 {
                  "source_id": 2258215799,
                  "target_id": 3718777895,
                  "type": "CurriculumCorequisite"
                 },
                 {
                  "source_id": 2834873484,
                  "target_id": 3718777895,
                  "type": "CurriculumPrerequisite"
                 }
                ],
                "id": 3718777895,
                "metrics": {
                 "blocking factor": 14,
                 "centrality": 426,
                 "complexity": 26,
                 "delay factor": 12
                },
                "name": "PHYS 1322",
                "nameCanonical": "",
                "nameSub": "University Physics II"
               },
               {
                "credits": 1,
                "curriculum_requisites": [
                 {
                  "source_id": 3718777895,
                  "target_id": 3059602497,
                  "type": "CurriculumCorequisite"
                 }
                ],
                "id": 3059602497,
                "metrics": {
                 "blocking factor": 13,
                 "centrality": 250,
                 "complexity": 25,
                 "delay factor": 12
                },
                "name": "PHYS 1122",
                "nameCanonical": "",
                "nameSub": "Physics Lab II"
               }
              ],
              "id": 3,
              "name": "Term 3"
             },
             {
              "curriculum_items": [
               {
                "credits": 3,
                "curriculum_requisites": [
                 {
                  "source_id": 3195103903,
                  "target_id": 1770099342,
                  "type": "CurriculumPrerequisite"
                 },
                 {
                  "source_id": 2138760932,
                  "target_id": 1770099342,
                  "type": "CurriculumPrerequisite"
                 }
                ],
                "id": 1770099342,
                "metrics": {
                 "blocking factor": 4,
                 "centrality": 159,
                 "complexity": 15,
                 "delay factor": 11
                },
                "name": "ENGI 2304",
                "nameCanonical": "",
                "nameSub": "Technical Communication"
               },
               {
                "credits": 3,
                "curriculum_requisites": [
                 {
                  "source_id": 947037850,
                  "target_id": 649106202,
                  "type": "CurriculumPrerequisite"
                 },
                 {
                  "source_id": 2138760932,
                  "target_id": 649106202,
                  "type": "CurriculumPrerequisite"
                 }
                ],
                "id": 649106202,
                "metrics": {
                 "blocking factor": 4,
                 "centrality": 152,
                 "complexity": 14,
                 "delay factor": 10
                },
                "name": "ECE 3331",
                "nameCanonical": "",
                "nameSub": "Programming Apps in ECE"
               },
               {
                "credits": 1,
                "curriculum_requisites": [
                 {
                  "source_id": 3059602497,
                  "target_id": 1083857781,
                  "type": "CurriculumPrerequisite"
                 },
                 {
                  "source_id": 3887805990,
                  "target_id": 1083857781,
                  "type": "CurriculumCorequisite"
                 }
                ],
                "id": 1083857781,
                "metrics": {
                 "blocking factor": 5,
                 "centrality": 295,
                 "complexity": 17,
                 "delay factor": 12
                },
                "name": "ECE 2100",
                "nameCanonical": "",
                "nameSub": "Circuits Lab"
               },
               {
                "credits": 3,
                "curriculum_requisites": [
                 {
                  "source_id": 2138760932,
                  "target_id": 3887805990,
                  "type": "CurriculumPrerequisite"
                 }
                ],
                "id": 3887805990,
                "metrics": {
                 "blocking factor": 8,
                 "centrality": 393,
                 "complexity": 20,
                 "delay factor": 12
                },
                "name": "ECE 2202",
                "nameCanonical": "",
                "nameSub": "Circuit Analysis II"
               },
               {
                "credits": 3,
                "curriculum_requisites": [
                 {
                  "source_id": 3887805990,
                  "target_id": 2791403937,
                  "type": "CurriculumCorequisite"
                 }
                ],
                "id": 2791403937,
                "metrics": {
                 "blocking factor": 4,
                 "centrality": 154,
                 "complexity": 15,
                 "delay factor": 11
                },
                "name": "ECE 3337",
                "nameCanonical": "",
                "nameSub": "Signals & Systems Analysis"
               },
               {
                "credits": 3,
                "curriculum_requisites": [
                 {
                  "source_id": 1083857781,
                  "target_id": 4184346648,
                  "type": "CurriculumCorequisite"
                 },
                 {
                  "source_id": 649106202,
                  "target_id": 4184346648,
                  "type": "CurriculumCorequisite"
                 }
                ],
                "id": 4184346648,
                "metrics": {
                 "blocking factor": 2,
                 "centrality": 171,
                 "complexity": 13,
                 "delay factor": 11
                },
                "name": "ECE 3436",
                "nameCanonical": "",
                "nameSub": "Microprocessors"
               }
              ],
              "id": 4,
              "name": "Term 4"
             },
             {
              "curriculum_items": [
               {
                "credits": 3,
                "curriculum_requisites": [],
                "id": 848294223,
                "metrics": {
                 "blocking factor": 0,
                 "centrality": 0,
                 "complexity": 1,
                 "delay factor": 1
                },
                "name": " ",
                "nameCanonical": "",
                "nameSub": "Creative Arts Core"
               },
               {
                "credits": 1,
                "curriculum_requisites": [
                 {
                  "source_id": 1083857781,
                  "target_id": 1966522372,
                  "type": "CurriculumPrerequisite"
                 },
                 {
                  "source_id": 1770099342,
                  "target_id": 1966522372,
                  "type": "CurriculumPrerequisite"
                 }
                ],
                "id": 1966522372,
                "metrics": {
                 "blocking factor": 3,
                 "centrality": 359,
                 "complexity": 15,
                 "delay factor": 12
                },
                "name": "ECE 3155",
                "nameCanonical": "",
                "nameSub": "Electronics Lab"
               },
               {
                "credits": 3,
                "curriculum_requisites": [
                 {
                  "source_id": 1966522372,
                  "target_id": 4165958389,
                  "type": "CurriculumStrictCorequisite"
                 },
                 {
                  "source_id": 2791403937,
                  "target_id": 4165958389,
                  "type": "CurriculumPrerequisite"
                 }
                ],
                "id": 4165958389,
                "metrics": {
                 "blocking factor": 2,
                 "centrality": 266,
                 "complexity": 14,
                 "delay factor": 12
                },
                "name": "ECE 3355",
                "nameCanonical": "",
                "nameSub": "Electronics"
               },
               {
                "credits": 3,
                "curriculum_requisites": [],
                "id": 1056053313,
                "metrics": {
                 "blocking factor": 0,
                 "centrality": 0,
                 "complexity": 1,
                 "delay factor": 1
                },
                "name": " ",
                "nameCanonical": "",
                "nameSub": "Concentration Elective 1"
               },
               {
                "credits": 3,
                "curriculum_requisites": [
                 {
                  "source_id": 2791403937,
                  "target_id": 2252871414,
                  "type": "CurriculumPrerequisite"
                 }
                ],
                "id": 2252871414,
                "metrics": {
                 "blocking factor": 2,
                 "centrality": 77,
                 "complexity": 13,
                 "delay factor": 11
                },
                "name": "ECE 3317",
                "nameCanonical": "",
                "nameSub": "Applied EM Waves"
               },
               {
                "credits": 3,
                "curriculum_requisites": [],
                "id": 2051928090,
                "metrics": {
                 "blocking factor": 0,
                 "centrality": 0,
                 "complexity": 1,
                 "delay factor": 1
                },
                "name": " ",
                "nameCanonical": "",
                "nameSub": "ECE Elective 1"
               }
              ],
              "id": 5,
              "name": "Term 5"
             },
             {
              "curriculum_items": [
               {
                "credits": 3,
                "curriculum_requisites": [],
                "id": 951874139,
                "metrics": {
                 "blocking factor": 0,
                 "centrality": 0,
                 "complexity": 1,
                 "delay factor": 1
                },
                "name": "POLS 1337",
                "nameCanonical": "",
                "nameSub": "US Gov: Congress, President and Courts"
               },
               {
                "credits": 3,
                "curriculum_requisites": [
                 {
                  "source_id": 1051497550,
                  "target_id": 2888554139,
                  "type": "CurriculumPrerequisite"
                 },
                 {
                  "source_id": 1177372781,
                  "target_id": 2888554139,
                  "type": "CurriculumPrerequisite"
                 }
                ],
                "id": 2888554139,
                "metrics": {
                 "blocking factor": 2,
                 "centrality": 16,
                 "complexity": 8,
                 "delay factor": 6
                },
                "name": "INDE 2333",
                "nameCanonical": "",
                "nameSub": "Engineering Statistics"
               },
               {
                "credits": 1,
                "curriculum_requisites": [],
                "id": 26700799,
                "metrics": {
                 "blocking factor": 0,
                 "centrality": 0,
                 "complexity": 1,
                 "delay factor": 1
                },
                "name": " ",
                "nameCanonical": "",
                "nameSub": "Elective Lab 1"
               },
               {
                "credits": 3,
                "curriculum_requisites": [],
                "id": 1745860227,
                "metrics": {
                 "blocking factor": 0,
                 "centrality": 0,
                 "complexity": 1,
                 "delay factor": 1
                },
                "name": " ",
                "nameCanonical": "",
                "nameSub": "Concentration Elective 2"
               },
               {
                "credits": 3,
                "curriculum_requisites": [
                 {
                  "source_id": 649106202,
                  "target_id": 3368026167,
                  "type": "CurriculumPrerequisite"
                 }
                ],
                "id": 3368026167,
                "metrics": {
                 "blocking factor": 2,
                 "centrality": 76,
                 "complexity": 12,
                 "delay factor": 10
                },
                "name": "ECE 3340",
                "nameCanonical": "",
                "nameSub": "Numerical Methods"
               },
               {
                "credits": 3,
                "curriculum_requisites": [],
                "id": 672829327,
                "metrics": {
                 "blocking factor": 0,
                 "centrality": 0,
                 "complexity": 1,
                 "delay factor": 1
                },
                "name": " ",
                "nameCanonical": "",
                "nameSub": "ECE Elective 2"
               }
              ],
              "id": 6,
              "name": "Term 6"
             },
             {
              "curriculum_items": [
               {
                "credits": 3,
                "curriculum_requisites": [],
                "id": 3224555476,
                "metrics": {
                 "blocking factor": 2,
                 "centrality": 0,
                 "complexity": 5,
                 "delay factor": 3
                },
                "name": "ECON 2304",
                "nameCanonical": "",
                "nameSub": "Microeconomic Principles"
               },
               {
                "credits": 3,
                "curriculum_requisites": [
                 {
                  "source_id": 1966522372,
                  "target_id": 1337097032,
                  "type": "CurriculumPrerequisite"
                 },
                 {
                  "source_id": 4184346648,
                  "target_id": 1337097032,
                  "type": "CurriculumPrerequisite"
                 },
                 {
                  "source_id": 3368026167,
                  "target_id": 1337097032,
                  "type": "CurriculumPrerequisite"
                 },
                 {
                  "source_id": 2888554139,
                  "target_id": 1337097032,
                  "type": "CurriculumPrerequisite"
                 },
                 {
                  "source_id": 4165958389,
                  "target_id": 1337097032,
                  "type": "CurriculumPrerequisite"
                 },
                 {
                  "source_id": 3224555476,
                  "target_id": 1337097032,
                  "type": "CurriculumCorequisite"
                 },
                 {
                  "source_id": 2252871414,
                  "target_id": 1337097032,
                  "type": "CurriculumPrerequisite"
                 }
                ],
                "id": 1337097032,
                "metrics": {
                 "blocking factor": 1,
                 "centrality": 779,
                 "complexity": 13,
                 "delay factor": 12
                },
                "name": "ECE 4335",
                "nameCanonical": "",
                "nameSub": "ECE Design I"
               },
               {
                "credits": 1,
                "curriculum_requisites": [],
                "id": 1296179090,
                "metrics": {
                 "blocking factor": 0,
                 "centrality": 0,
                 "complexity": 1,
                 "delay factor": 1
                },
                "name": " ",
                "nameCanonical": "",
                "nameSub": "Elective Lab 2"
               },
               {
                "credits": 3,
                "curriculum_requisites": [],
                "id": 1105094343,
                "metrics": {
                 "blocking factor": 0,
                 "centrality": 0,
                 "complexity": 1,
                 "delay factor": 1
                },
                "name": " ",
                "nameCanonical": "",
                "nameSub": "Concentration Elective 3"
               },
               {
                "credits": 3,
                "curriculum_requisites": [],
                "id": 1819261218,
                "metrics": {
                 "blocking factor": 0,
                 "centrality": 0,
                 "complexity": 1,
                 "delay factor": 1
                },
                "name": " ",
                "nameCanonical": "",
                "nameSub": "Concentration Elective 4"
               },
               {
                "credits": 3,
                "curriculum_requisites": [],
                "id": 2529896330,
                "metrics": {
                 "blocking factor": 0,
                 "centrality": 0,
                 "complexity": 1,
                 "delay factor": 1
                },
                "name": " ",
                "nameCanonical": "",
                "nameSub": "Technical Elective"
               }
              ],
              "id": 7,
              "name": "Term 7"
             },
             {
              "curriculum_items": [
               {
                "credits": 3,
                "curriculum_requisites": [],
                "id": 1626752824,
                "metrics": {
                 "blocking factor": 0,
                 "centrality": 0,
                 "complexity": 1,
                 "delay factor": 1
                },
                "name": " ",
                "nameCanonical": "",
                "nameSub": "Lang., Phil. & Culture Core"
               },
               {
                "credits": 3,
                "curriculum_requisites": [
                 {
                  "source_id": 1337097032,
                  "target_id": 1158404973,
                  "type": "CurriculumPrerequisite"
                 }
                ],
                "id": 1158404973,
                "metrics": {
                 "blocking factor": 0,
                 "centrality": 0,
                 "complexity": 12,
                 "delay factor": 12
                },
                "name": "ECE 4336",
                "nameCanonical": "",
                "nameSub": "ECE Design II"
               },
               {
                "credits": 1,
                "curriculum_requisites": [],
                "id": 3091492697,
                "metrics": {
                 "blocking factor": 0,
                 "centrality": 0,
                 "complexity": 1,
                 "delay factor": 1
                },
                "name": " ",
                "nameCanonical": "",
                "nameSub": "Elective Lab 3"
               },
               {
                "credits": 3,
                "curriculum_requisites": [],
                "id": 2070124031,
                "metrics": {
                 "blocking factor": 0,
                 "centrality": 0,
                 "complexity": 1,
                 "delay factor": 1
                },
                "name": " ",
                "nameCanonical": "",
                "nameSub": "Concentration Elective 5"
               },
               {
                "credits": 3,
                "curriculum_requisites": [],
                "id": 1716266479,
                "metrics": {
                 "blocking factor": 0,
                 "centrality": 0,
                 "complexity": 1,
                 "delay factor": 1
                },
                "name": " ",
                "nameCanonical": "",
                "nameSub": "Concentration Elective 6"
               },
               {
                "credits": 3,
                "curriculum_requisites": [],
                "id": 2584207151,
                "metrics": {
                 "blocking factor": 0,
                 "centrality": 0,
                 "complexity": 1,
                 "delay factor": 1
                },
                "name": " ",
                "nameCanonical": "",
                "nameSub": "Concentration Elective 7"
               },
               {
                "credits": 1,
                "curriculum_requisites": [],
                "id": 2450156574,
                "metrics": {
                 "blocking factor": 0,
                 "centrality": 0,
                 "complexity": 1,
                 "delay factor": 1
                },
                "name": " ",
                "nameCanonical": "",
                "nameSub": "Elective Lab 4"
               }
              ],
              "id": 8,
              "name": "Term 8"
             }
            ],
            "dp_name": "2018-19 Plan",
            "institution": "ACME Univ.",
            "name": "A Real EE Program"
           },
           "options": {
            "edit": false,
            "hideTerms": false
           }
          }
         }
        },
        "systemjs_options": null
       },
       "nodeType": "Scope",
       "props": {},
       "type": "node"
      },
      "text/html": [
       "<div\n",
       "    class=\"webio-mountpoint\"\n",
       "    data-webio-mountpoint=\"13550164165222389399\"\n",
       ">\n",
       "    <script>\n",
       "    if (window.require && require.defined && require.defined(\"nbextensions/webio-jupyter-notebook\")) {\n",
       "        console.log(\"Jupyter WebIO extension detected, not mounting.\");\n",
       "    } else if (window.WebIO) {\n",
       "        WebIO.mount(\n",
       "            document.querySelector('[data-webio-mountpoint=\"13550164165222389399\"]'),\n",
       "            {\"props\":{},\"nodeType\":\"Scope\",\"type\":\"node\",\"instanceArgs\":{\"imports\":{\"data\":[],\"type\":\"async_block\"},\"id\":\"490043330684972688\",\"handlers\":{},\"systemjs_options\":null,\"mount_callbacks\":[],\"observables\":{\"curriculum-data\":{\"sync\":true,\"id\":\"9842419840738364399\",\"value\":{\"options\":{\"hideTerms\":false,\"edit\":false},\"curriculum\":{\"name\":\"A Real EE Program\",\"dp_name\":\"2018-19 Plan\",\"curriculum_terms\":[{\"name\":\"Term 1\",\"curriculum_items\":[{\"curriculum_requisites\":[],\"name\":\"HIST 1377\",\"metrics\":{\"centrality\":0,\"complexity\":1.0,\"blocking factor\":0,\"delay factor\":1.0},\"nameSub\":\"The US to 1877\",\"id\":3824069494,\"credits\":3,\"nameCanonical\":\"\"},{\"curriculum_requisites\":[],\"name\":\"ENGL 1303\",\"metrics\":{\"centrality\":0,\"complexity\":13.0,\"blocking factor\":6,\"delay factor\":7.0},\"nameSub\":\"First Year Writing I\",\"id\":1324171406,\"credits\":3,\"nameCanonical\":\"\"},{\"curriculum_requisites\":[{\"source_id\":4175014649,\"target_id\":1764441140,\"type\":\"CurriculumCorequisite\"}],\"name\":\"ENGI 1100\",\"metrics\":{\"centrality\":85,\"complexity\":25.0,\"blocking factor\":15,\"delay factor\":10.0},\"nameSub\":\"Intro to Engr.\",\"id\":1764441140,\"credits\":1,\"nameCanonical\":\"\"},{\"curriculum_requisites\":[],\"name\":\"MATH 1431\",\"metrics\":{\"centrality\":0,\"complexity\":35.0,\"blocking factor\":23,\"delay factor\":12.0},\"nameSub\":\"Calculus I\",\"id\":4175014649,\"credits\":4,\"nameCanonical\":\"\"},{\"curriculum_requisites\":[],\"name\":\"CHEM 1331\",\"metrics\":{\"centrality\":0,\"complexity\":3.0,\"blocking factor\":1,\"delay factor\":2.0},\"nameSub\":\"Fund. of Chemistry\",\"id\":1351802580,\"credits\":3,\"nameCanonical\":\"\"},{\"curriculum_requisites\":[{\"source_id\":1351802580,\"target_id\":2195546016,\"type\":\"CurriculumCorequisite\"}],\"name\":\"CHEM 1111\",\"metrics\":{\"centrality\":0,\"complexity\":2.0,\"blocking factor\":0,\"delay factor\":2.0},\"nameSub\":\"Fund. of Chemistry Lab\",\"id\":2195546016,\"credits\":1,\"nameCanonical\":\"\"}],\"id\":1},{\"name\":\"Term 2\",\"curriculum_items\":[{\"curriculum_requisites\":[],\"name\":\"HIST 1378\",\"metrics\":{\"centrality\":0,\"complexity\":1.0,\"blocking factor\":0,\"delay factor\":1.0},\"nameSub\":\"US Since 1877\",\"id\":2731496025,\"credits\":3,\"nameCanonical\":\"\"},{\"curriculum_requisites\":[{\"source_id\":1324171406,\"target_id\":3195103903,\"type\":\"CurriculumPrerequisite\"}],\"name\":\"ENGL 1304\",\"metrics\":{\"centrality\":13,\"complexity\":12.0,\"blocking factor\":5,\"delay factor\":7.0},\"nameSub\":\"First Year Writing II\",\"id\":3195103903,\"credits\":3,\"nameCanonical\":\"\"},{\"curriculum_requisites\":[{\"source_id\":4175014649,\"target_id\":1051497550,\"type\":\"CurriculumPrerequisite\"},{\"source_id\":1764441140,\"target_id\":1051497550,\"type\":\"CurriculumPrerequisite\"}],\"name\":\"ENGI 1331\",\"metrics\":{\"centrality\":160,\"complexity\":24.0,\"blocking factor\":14,\"delay factor\":10.0},\"nameSub\":\"Computing & Prob. Solving\",\"id\":1051497550,\"credits\":3,\"nameCanonical\":\"\"},{\"curriculum_requisites\":[{\"source_id\":4175014649,\"target_id\":1177372781,\"type\":\"CurriculumPrerequisite\"}],\"name\":\"MATH 1432\",\"metrics\":{\"centrality\":607,\"complexity\":32.0,\"blocking factor\":20,\"delay factor\":12.0},\"nameSub\":\"Calculus II\",\"id\":1177372781,\"credits\":4,\"nameCanonical\":\"\"},{\"curriculum_requisites\":[{\"source_id\":1177372781,\"target_id\":2834873484,\"type\":\"CurriculumCorequisite\"}],\"name\":\"PHYS 1321\",\"metrics\":{\"centrality\":217,\"complexity\":28.0,\"blocking factor\":16,\"delay factor\":12.0},\"nameSub\":\"University Physics I\",\"id\":2834873484,\"credits\":3,\"nameCanonical\":\"\"},{\"curriculum_requisites\":[{\"source_id\":2834873484,\"target_id\":3178954113,\"type\":\"CurriculumCorequisite\"}],\"name\":\"PHYS 1121\",\"metrics\":{\"centrality\":0,\"complexity\":4.0,\"blocking factor\":0,\"delay factor\":4.0},\"nameSub\":\"Physics Lab I\",\"id\":3178954113,\"credits\":1,\"nameCanonical\":\"\"}],\"id\":2},{\"name\":\"Term 3\",\"curriculum_items\":[{\"curriculum_requisites\":[],\"name\":\"POLS 1336\",\"metrics\":{\"centrality\":0,\"complexity\":1.0,\"blocking factor\":0,\"delay factor\":1.0},\"nameSub\":\"US and TX Constitutions & Politics\",\"id\":1541543378,\"credits\":3,\"nameCanonical\":\"\"},{\"curriculum_requisites\":[{\"source_id\":1177372781,\"target_id\":947037850,\"type\":\"CurriculumPrerequisite\"}],\"name\":\"MATH 3321\",\"metrics\":{\"centrality\":93,\"complexity\":23.0,\"blocking factor\":13,\"delay factor\":10.0},\"nameSub\":\"Engineering Math\",\"id\":947037850,\"credits\":3,\"nameCanonical\":\"\"},{\"curriculum_requisites\":[{\"source_id\":3718777895,\"target_id\":2138760932,\"type\":\"CurriculumCorequisite\"},{\"source_id\":3059602497,\"target_id\":2138760932,\"type\":\"CurriculumCorequisite\"},{\"source_id\":2258215799,\"target_id\":2138760932,\"type\":\"CurriculumCorequisite\"},{\"source_id\":1051497550,\"target_id\":2138760932,\"type\":\"CurriculumPrerequisite\"},{\"source_id\":947037850,\"target_id\":2138760932,\"type\":\"CurriculumCorequisite\"}],\"name\":\"ECE 2201\",\"metrics\":{\"centrality\":677,\"complexity\":24.0,\"blocking factor\":12,\"delay factor\":12.0},\"nameSub\":\"Circuit Analysis I\",\"id\":2138760932,\"credits\":3,\"nameCanonical\":\"\"},{\"curriculum_requisites\":[{\"source_id\":1177372781,\"target_id\":2258215799,\"type\":\"CurriculumPrerequisite\"}],\"name\":\"MATH 2433\",\"metrics\":{\"centrality\":292,\"complexity\":27.0,\"blocking factor\":15,\"delay factor\":12.0},\"nameSub\":\"Calculus III\",\"id\":2258215799,\"credits\":3,\"nameCanonical\":\"\"},{\"curriculum_requisites\":[{\"source_id\":2258215799,\"target_id\":3718777895,\"type\":\"CurriculumCorequisite\"},{\"source_id\":2834873484,\"target_id\":3718777895,\"type\":\"CurriculumPrerequisite\"}],\"name\":\"PHYS 1322\",\"metrics\":{\"centrality\":426,\"complexity\":26.0,\"blocking factor\":14,\"delay factor\":12.0},\"nameSub\":\"University Physics II\",\"id\":3718777895,\"credits\":3,\"nameCanonical\":\"\"},{\"curriculum_requisites\":[{\"source_id\":3718777895,\"target_id\":3059602497,\"type\":\"CurriculumCorequisite\"}],\"name\":\"PHYS 1122\",\"metrics\":{\"centrality\":250,\"complexity\":25.0,\"blocking factor\":13,\"delay factor\":12.0},\"nameSub\":\"Physics Lab II\",\"id\":3059602497,\"credits\":1,\"nameCanonical\":\"\"}],\"id\":3},{\"name\":\"Term 4\",\"curriculum_items\":[{\"curriculum_requisites\":[{\"source_id\":3195103903,\"target_id\":1770099342,\"type\":\"CurriculumPrerequisite\"},{\"source_id\":2138760932,\"target_id\":1770099342,\"type\":\"CurriculumPrerequisite\"}],\"name\":\"ENGI 2304\",\"metrics\":{\"centrality\":159,\"complexity\":15.0,\"blocking factor\":4,\"delay factor\":11.0},\"nameSub\":\"Technical Communication\",\"id\":1770099342,\"credits\":3,\"nameCanonical\":\"\"},{\"curriculum_requisites\":[{\"source_id\":947037850,\"target_id\":649106202,\"type\":\"CurriculumPrerequisite\"},{\"source_id\":2138760932,\"target_id\":649106202,\"type\":\"CurriculumPrerequisite\"}],\"name\":\"ECE 3331\",\"metrics\":{\"centrality\":152,\"complexity\":14.0,\"blocking factor\":4,\"delay factor\":10.0},\"nameSub\":\"Programming Apps in ECE\",\"id\":649106202,\"credits\":3,\"nameCanonical\":\"\"},{\"curriculum_requisites\":[{\"source_id\":3059602497,\"target_id\":1083857781,\"type\":\"CurriculumPrerequisite\"},{\"source_id\":3887805990,\"target_id\":1083857781,\"type\":\"CurriculumCorequisite\"}],\"name\":\"ECE 2100\",\"metrics\":{\"centrality\":295,\"complexity\":17.0,\"blocking factor\":5,\"delay factor\":12.0},\"nameSub\":\"Circuits Lab\",\"id\":1083857781,\"credits\":1,\"nameCanonical\":\"\"},{\"curriculum_requisites\":[{\"source_id\":2138760932,\"target_id\":3887805990,\"type\":\"CurriculumPrerequisite\"}],\"name\":\"ECE 2202\",\"metrics\":{\"centrality\":393,\"complexity\":20.0,\"blocking factor\":8,\"delay factor\":12.0},\"nameSub\":\"Circuit Analysis II\",\"id\":3887805990,\"credits\":3,\"nameCanonical\":\"\"},{\"curriculum_requisites\":[{\"source_id\":3887805990,\"target_id\":2791403937,\"type\":\"CurriculumCorequisite\"}],\"name\":\"ECE 3337\",\"metrics\":{\"centrality\":154,\"complexity\":15.0,\"blocking factor\":4,\"delay factor\":11.0},\"nameSub\":\"Signals & Systems Analysis\",\"id\":2791403937,\"credits\":3,\"nameCanonical\":\"\"},{\"curriculum_requisites\":[{\"source_id\":1083857781,\"target_id\":4184346648,\"type\":\"CurriculumCorequisite\"},{\"source_id\":649106202,\"target_id\":4184346648,\"type\":\"CurriculumCorequisite\"}],\"name\":\"ECE 3436\",\"metrics\":{\"centrality\":171,\"complexity\":13.0,\"blocking factor\":2,\"delay factor\":11.0},\"nameSub\":\"Microprocessors\",\"id\":4184346648,\"credits\":3,\"nameCanonical\":\"\"}],\"id\":4},{\"name\":\"Term 5\",\"curriculum_items\":[{\"curriculum_requisites\":[],\"name\":\" \",\"metrics\":{\"centrality\":0,\"complexity\":1.0,\"blocking factor\":0,\"delay factor\":1.0},\"nameSub\":\"Creative Arts Core\",\"id\":848294223,\"credits\":3,\"nameCanonical\":\"\"},{\"curriculum_requisites\":[{\"source_id\":1083857781,\"target_id\":1966522372,\"type\":\"CurriculumPrerequisite\"},{\"source_id\":1770099342,\"target_id\":1966522372,\"type\":\"CurriculumPrerequisite\"}],\"name\":\"ECE 3155\",\"metrics\":{\"centrality\":359,\"complexity\":15.0,\"blocking factor\":3,\"delay factor\":12.0},\"nameSub\":\"Electronics Lab\",\"id\":1966522372,\"credits\":1,\"nameCanonical\":\"\"},{\"curriculum_requisites\":[{\"source_id\":1966522372,\"target_id\":4165958389,\"type\":\"CurriculumStrictCorequisite\"},{\"source_id\":2791403937,\"target_id\":4165958389,\"type\":\"CurriculumPrerequisite\"}],\"name\":\"ECE 3355\",\"metrics\":{\"centrality\":266,\"complexity\":14.0,\"blocking factor\":2,\"delay factor\":12.0},\"nameSub\":\"Electronics\",\"id\":4165958389,\"credits\":3,\"nameCanonical\":\"\"},{\"curriculum_requisites\":[],\"name\":\" \",\"metrics\":{\"centrality\":0,\"complexity\":1.0,\"blocking factor\":0,\"delay factor\":1.0},\"nameSub\":\"Concentration Elective 1\",\"id\":1056053313,\"credits\":3,\"nameCanonical\":\"\"},{\"curriculum_requisites\":[{\"source_id\":2791403937,\"target_id\":2252871414,\"type\":\"CurriculumPrerequisite\"}],\"name\":\"ECE 3317\",\"metrics\":{\"centrality\":77,\"complexity\":13.0,\"blocking factor\":2,\"delay factor\":11.0},\"nameSub\":\"Applied EM Waves\",\"id\":2252871414,\"credits\":3,\"nameCanonical\":\"\"},{\"curriculum_requisites\":[],\"name\":\" \",\"metrics\":{\"centrality\":0,\"complexity\":1.0,\"blocking factor\":0,\"delay factor\":1.0},\"nameSub\":\"ECE Elective 1\",\"id\":2051928090,\"credits\":3,\"nameCanonical\":\"\"}],\"id\":5},{\"name\":\"Term 6\",\"curriculum_items\":[{\"curriculum_requisites\":[],\"name\":\"POLS 1337\",\"metrics\":{\"centrality\":0,\"complexity\":1.0,\"blocking factor\":0,\"delay factor\":1.0},\"nameSub\":\"US Gov: Congress, President and Courts\",\"id\":951874139,\"credits\":3,\"nameCanonical\":\"\"},{\"curriculum_requisites\":[{\"source_id\":1051497550,\"target_id\":2888554139,\"type\":\"CurriculumPrerequisite\"},{\"source_id\":1177372781,\"target_id\":2888554139,\"type\":\"CurriculumPrerequisite\"}],\"name\":\"INDE 2333\",\"metrics\":{\"centrality\":16,\"complexity\":8.0,\"blocking factor\":2,\"delay factor\":6.0},\"nameSub\":\"Engineering Statistics\",\"id\":2888554139,\"credits\":3,\"nameCanonical\":\"\"},{\"curriculum_requisites\":[],\"name\":\" \",\"metrics\":{\"centrality\":0,\"complexity\":1.0,\"blocking factor\":0,\"delay factor\":1.0},\"nameSub\":\"Elective Lab 1\",\"id\":26700799,\"credits\":1,\"nameCanonical\":\"\"},{\"curriculum_requisites\":[],\"name\":\" \",\"metrics\":{\"centrality\":0,\"complexity\":1.0,\"blocking factor\":0,\"delay factor\":1.0},\"nameSub\":\"Concentration Elective 2\",\"id\":1745860227,\"credits\":3,\"nameCanonical\":\"\"},{\"curriculum_requisites\":[{\"source_id\":649106202,\"target_id\":3368026167,\"type\":\"CurriculumPrerequisite\"}],\"name\":\"ECE 3340\",\"metrics\":{\"centrality\":76,\"complexity\":12.0,\"blocking factor\":2,\"delay factor\":10.0},\"nameSub\":\"Numerical Methods\",\"id\":3368026167,\"credits\":3,\"nameCanonical\":\"\"},{\"curriculum_requisites\":[],\"name\":\" \",\"metrics\":{\"centrality\":0,\"complexity\":1.0,\"blocking factor\":0,\"delay factor\":1.0},\"nameSub\":\"ECE Elective 2\",\"id\":672829327,\"credits\":3,\"nameCanonical\":\"\"}],\"id\":6},{\"name\":\"Term 7\",\"curriculum_items\":[{\"curriculum_requisites\":[],\"name\":\"ECON 2304\",\"metrics\":{\"centrality\":0,\"complexity\":5.0,\"blocking factor\":2,\"delay factor\":3.0},\"nameSub\":\"Microeconomic Principles\",\"id\":3224555476,\"credits\":3,\"nameCanonical\":\"\"},{\"curriculum_requisites\":[{\"source_id\":1966522372,\"target_id\":1337097032,\"type\":\"CurriculumPrerequisite\"},{\"source_id\":4184346648,\"target_id\":1337097032,\"type\":\"CurriculumPrerequisite\"},{\"source_id\":3368026167,\"target_id\":1337097032,\"type\":\"CurriculumPrerequisite\"},{\"source_id\":2888554139,\"target_id\":1337097032,\"type\":\"CurriculumPrerequisite\"},{\"source_id\":4165958389,\"target_id\":1337097032,\"type\":\"CurriculumPrerequisite\"},{\"source_id\":3224555476,\"target_id\":1337097032,\"type\":\"CurriculumCorequisite\"},{\"source_id\":2252871414,\"target_id\":1337097032,\"type\":\"CurriculumPrerequisite\"}],\"name\":\"ECE 4335\",\"metrics\":{\"centrality\":779,\"complexity\":13.0,\"blocking factor\":1,\"delay factor\":12.0},\"nameSub\":\"ECE Design I\",\"id\":1337097032,\"credits\":3,\"nameCanonical\":\"\"},{\"curriculum_requisites\":[],\"name\":\" \",\"metrics\":{\"centrality\":0,\"complexity\":1.0,\"blocking factor\":0,\"delay factor\":1.0},\"nameSub\":\"Elective Lab 2\",\"id\":1296179090,\"credits\":1,\"nameCanonical\":\"\"},{\"curriculum_requisites\":[],\"name\":\" \",\"metrics\":{\"centrality\":0,\"complexity\":1.0,\"blocking factor\":0,\"delay factor\":1.0},\"nameSub\":\"Concentration Elective 3\",\"id\":1105094343,\"credits\":3,\"nameCanonical\":\"\"},{\"curriculum_requisites\":[],\"name\":\" \",\"metrics\":{\"centrality\":0,\"complexity\":1.0,\"blocking factor\":0,\"delay factor\":1.0},\"nameSub\":\"Concentration Elective 4\",\"id\":1819261218,\"credits\":3,\"nameCanonical\":\"\"},{\"curriculum_requisites\":[],\"name\":\" \",\"metrics\":{\"centrality\":0,\"complexity\":1.0,\"blocking factor\":0,\"delay factor\":1.0},\"nameSub\":\"Technical Elective\",\"id\":2529896330,\"credits\":3,\"nameCanonical\":\"\"}],\"id\":7},{\"name\":\"Term 8\",\"curriculum_items\":[{\"curriculum_requisites\":[],\"name\":\" \",\"metrics\":{\"centrality\":0,\"complexity\":1.0,\"blocking factor\":0,\"delay factor\":1.0},\"nameSub\":\"Lang., Phil. & Culture Core\",\"id\":1626752824,\"credits\":3,\"nameCanonical\":\"\"},{\"curriculum_requisites\":[{\"source_id\":1337097032,\"target_id\":1158404973,\"type\":\"CurriculumPrerequisite\"}],\"name\":\"ECE 4336\",\"metrics\":{\"centrality\":0,\"complexity\":12.0,\"blocking factor\":0,\"delay factor\":12.0},\"nameSub\":\"ECE Design II\",\"id\":1158404973,\"credits\":3,\"nameCanonical\":\"\"},{\"curriculum_requisites\":[],\"name\":\" \",\"metrics\":{\"centrality\":0,\"complexity\":1.0,\"blocking factor\":0,\"delay factor\":1.0},\"nameSub\":\"Elective Lab 3\",\"id\":3091492697,\"credits\":1,\"nameCanonical\":\"\"},{\"curriculum_requisites\":[],\"name\":\" \",\"metrics\":{\"centrality\":0,\"complexity\":1.0,\"blocking factor\":0,\"delay factor\":1.0},\"nameSub\":\"Concentration Elective 5\",\"id\":2070124031,\"credits\":3,\"nameCanonical\":\"\"},{\"curriculum_requisites\":[],\"name\":\" \",\"metrics\":{\"centrality\":0,\"complexity\":1.0,\"blocking factor\":0,\"delay factor\":1.0},\"nameSub\":\"Concentration Elective 6\",\"id\":1716266479,\"credits\":3,\"nameCanonical\":\"\"},{\"curriculum_requisites\":[],\"name\":\" \",\"metrics\":{\"centrality\":0,\"complexity\":1.0,\"blocking factor\":0,\"delay factor\":1.0},\"nameSub\":\"Concentration Elective 7\",\"id\":2584207151,\"credits\":3,\"nameCanonical\":\"\"},{\"curriculum_requisites\":[],\"name\":\" \",\"metrics\":{\"centrality\":0,\"complexity\":1.0,\"blocking factor\":0,\"delay factor\":1.0},\"nameSub\":\"Elective Lab 4\",\"id\":2450156574,\"credits\":1,\"nameCanonical\":\"\"}],\"id\":8}],\"institution\":\"ACME Univ.\"}}}}},\"children\":[{\"props\":{\"src\":\"https:\\/\\/curricula-api-embed.damoursystems.com\\/\",\"id\":\"curriculum\",\"events\":{\"load\":\"(function (){this.contentWindow.postMessage({\\\"options\\\":{\\\"hideTerms\\\":false,\\\"edit\\\":false},\\\"curriculum\\\":{\\\"name\\\":\\\"A Real EE Program\\\",\\\"dp_name\\\":\\\"2018-19 Plan\\\",\\\"curriculum_terms\\\":[{\\\"name\\\":\\\"Term 1\\\",\\\"curriculum_items\\\":[{\\\"curriculum_requisites\\\":[],\\\"name\\\":\\\"HIST 1377\\\",\\\"metrics\\\":{\\\"centrality\\\":0,\\\"complexity\\\":1.0,\\\"blocking factor\\\":0,\\\"delay factor\\\":1.0},\\\"nameSub\\\":\\\"The US to 1877\\\",\\\"id\\\":3824069494,\\\"credits\\\":3,\\\"nameCanonical\\\":\\\"\\\"},{\\\"curriculum_requisites\\\":[],\\\"name\\\":\\\"ENGL 1303\\\",\\\"metrics\\\":{\\\"centrality\\\":0,\\\"complexity\\\":13.0,\\\"blocking factor\\\":6,\\\"delay factor\\\":7.0},\\\"nameSub\\\":\\\"First Year Writing I\\\",\\\"id\\\":1324171406,\\\"credits\\\":3,\\\"nameCanonical\\\":\\\"\\\"},{\\\"curriculum_requisites\\\":[{\\\"source_id\\\":4175014649,\\\"target_id\\\":1764441140,\\\"type\\\":\\\"CurriculumCorequisite\\\"}],\\\"name\\\":\\\"ENGI 1100\\\",\\\"metrics\\\":{\\\"centrality\\\":85,\\\"complexity\\\":25.0,\\\"blocking factor\\\":15,\\\"delay factor\\\":10.0},\\\"nameSub\\\":\\\"Intro to Engr.\\\",\\\"id\\\":1764441140,\\\"credits\\\":1,\\\"nameCanonical\\\":\\\"\\\"},{\\\"curriculum_requisites\\\":[],\\\"name\\\":\\\"MATH 1431\\\",\\\"metrics\\\":{\\\"centrality\\\":0,\\\"complexity\\\":35.0,\\\"blocking factor\\\":23,\\\"delay factor\\\":12.0},\\\"nameSub\\\":\\\"Calculus I\\\",\\\"id\\\":4175014649,\\\"credits\\\":4,\\\"nameCanonical\\\":\\\"\\\"},{\\\"curriculum_requisites\\\":[],\\\"name\\\":\\\"CHEM 1331\\\",\\\"metrics\\\":{\\\"centrality\\\":0,\\\"complexity\\\":3.0,\\\"blocking factor\\\":1,\\\"delay factor\\\":2.0},\\\"nameSub\\\":\\\"Fund. of Chemistry\\\",\\\"id\\\":1351802580,\\\"credits\\\":3,\\\"nameCanonical\\\":\\\"\\\"},{\\\"curriculum_requisites\\\":[{\\\"source_id\\\":1351802580,\\\"target_id\\\":2195546016,\\\"type\\\":\\\"CurriculumCorequisite\\\"}],\\\"name\\\":\\\"CHEM 1111\\\",\\\"metrics\\\":{\\\"centrality\\\":0,\\\"complexity\\\":2.0,\\\"blocking factor\\\":0,\\\"delay factor\\\":2.0},\\\"nameSub\\\":\\\"Fund. of Chemistry Lab\\\",\\\"id\\\":2195546016,\\\"credits\\\":1,\\\"nameCanonical\\\":\\\"\\\"}],\\\"id\\\":1},{\\\"name\\\":\\\"Term 2\\\",\\\"curriculum_items\\\":[{\\\"curriculum_requisites\\\":[],\\\"name\\\":\\\"HIST 1378\\\",\\\"metrics\\\":{\\\"centrality\\\":0,\\\"complexity\\\":1.0,\\\"blocking factor\\\":0,\\\"delay factor\\\":1.0},\\\"nameSub\\\":\\\"US Since 1877\\\",\\\"id\\\":2731496025,\\\"credits\\\":3,\\\"nameCanonical\\\":\\\"\\\"},{\\\"curriculum_requisites\\\":[{\\\"source_id\\\":1324171406,\\\"target_id\\\":3195103903,\\\"type\\\":\\\"CurriculumPrerequisite\\\"}],\\\"name\\\":\\\"ENGL 1304\\\",\\\"metrics\\\":{\\\"centrality\\\":13,\\\"complexity\\\":12.0,\\\"blocking factor\\\":5,\\\"delay factor\\\":7.0},\\\"nameSub\\\":\\\"First Year Writing II\\\",\\\"id\\\":3195103903,\\\"credits\\\":3,\\\"nameCanonical\\\":\\\"\\\"},{\\\"curriculum_requisites\\\":[{\\\"source_id\\\":4175014649,\\\"target_id\\\":1051497550,\\\"type\\\":\\\"CurriculumPrerequisite\\\"},{\\\"source_id\\\":1764441140,\\\"target_id\\\":1051497550,\\\"type\\\":\\\"CurriculumPrerequisite\\\"}],\\\"name\\\":\\\"ENGI 1331\\\",\\\"metrics\\\":{\\\"centrality\\\":160,\\\"complexity\\\":24.0,\\\"blocking factor\\\":14,\\\"delay factor\\\":10.0},\\\"nameSub\\\":\\\"Computing & Prob. Solving\\\",\\\"id\\\":1051497550,\\\"credits\\\":3,\\\"nameCanonical\\\":\\\"\\\"},{\\\"curriculum_requisites\\\":[{\\\"source_id\\\":4175014649,\\\"target_id\\\":1177372781,\\\"type\\\":\\\"CurriculumPrerequisite\\\"}],\\\"name\\\":\\\"MATH 1432\\\",\\\"metrics\\\":{\\\"centrality\\\":607,\\\"complexity\\\":32.0,\\\"blocking factor\\\":20,\\\"delay factor\\\":12.0},\\\"nameSub\\\":\\\"Calculus II\\\",\\\"id\\\":1177372781,\\\"credits\\\":4,\\\"nameCanonical\\\":\\\"\\\"},{\\\"curriculum_requisites\\\":[{\\\"source_id\\\":1177372781,\\\"target_id\\\":2834873484,\\\"type\\\":\\\"CurriculumCorequisite\\\"}],\\\"name\\\":\\\"PHYS 1321\\\",\\\"metrics\\\":{\\\"centrality\\\":217,\\\"complexity\\\":28.0,\\\"blocking factor\\\":16,\\\"delay factor\\\":12.0},\\\"nameSub\\\":\\\"University Physics I\\\",\\\"id\\\":2834873484,\\\"credits\\\":3,\\\"nameCanonical\\\":\\\"\\\"},{\\\"curriculum_requisites\\\":[{\\\"source_id\\\":2834873484,\\\"target_id\\\":3178954113,\\\"type\\\":\\\"CurriculumCorequisite\\\"}],\\\"name\\\":\\\"PHYS 1121\\\",\\\"metrics\\\":{\\\"centrality\\\":0,\\\"complexity\\\":4.0,\\\"blocking factor\\\":0,\\\"delay factor\\\":4.0},\\\"nameSub\\\":\\\"Physics Lab I\\\",\\\"id\\\":3178954113,\\\"credits\\\":1,\\\"nameCanonical\\\":\\\"\\\"}],\\\"id\\\":2},{\\\"name\\\":\\\"Term 3\\\",\\\"curriculum_items\\\":[{\\\"curriculum_requisites\\\":[],\\\"name\\\":\\\"POLS 1336\\\",\\\"metrics\\\":{\\\"centrality\\\":0,\\\"complexity\\\":1.0,\\\"blocking factor\\\":0,\\\"delay factor\\\":1.0},\\\"nameSub\\\":\\\"US and TX Constitutions & Politics\\\",\\\"id\\\":1541543378,\\\"credits\\\":3,\\\"nameCanonical\\\":\\\"\\\"},{\\\"curriculum_requisites\\\":[{\\\"source_id\\\":1177372781,\\\"target_id\\\":947037850,\\\"type\\\":\\\"CurriculumPrerequisite\\\"}],\\\"name\\\":\\\"MATH 3321\\\",\\\"metrics\\\":{\\\"centrality\\\":93,\\\"complexity\\\":23.0,\\\"blocking factor\\\":13,\\\"delay factor\\\":10.0},\\\"nameSub\\\":\\\"Engineering Math\\\",\\\"id\\\":947037850,\\\"credits\\\":3,\\\"nameCanonical\\\":\\\"\\\"},{\\\"curriculum_requisites\\\":[{\\\"source_id\\\":3718777895,\\\"target_id\\\":2138760932,\\\"type\\\":\\\"CurriculumCorequisite\\\"},{\\\"source_id\\\":3059602497,\\\"target_id\\\":2138760932,\\\"type\\\":\\\"CurriculumCorequisite\\\"},{\\\"source_id\\\":2258215799,\\\"target_id\\\":2138760932,\\\"type\\\":\\\"CurriculumCorequisite\\\"},{\\\"source_id\\\":1051497550,\\\"target_id\\\":2138760932,\\\"type\\\":\\\"CurriculumPrerequisite\\\"},{\\\"source_id\\\":947037850,\\\"target_id\\\":2138760932,\\\"type\\\":\\\"CurriculumCorequisite\\\"}],\\\"name\\\":\\\"ECE 2201\\\",\\\"metrics\\\":{\\\"centrality\\\":677,\\\"complexity\\\":24.0,\\\"blocking factor\\\":12,\\\"delay factor\\\":12.0},\\\"nameSub\\\":\\\"Circuit Analysis I\\\",\\\"id\\\":2138760932,\\\"credits\\\":3,\\\"nameCanonical\\\":\\\"\\\"},{\\\"curriculum_requisites\\\":[{\\\"source_id\\\":1177372781,\\\"target_id\\\":2258215799,\\\"type\\\":\\\"CurriculumPrerequisite\\\"}],\\\"name\\\":\\\"MATH 2433\\\",\\\"metrics\\\":{\\\"centrality\\\":292,\\\"complexity\\\":27.0,\\\"blocking factor\\\":15,\\\"delay factor\\\":12.0},\\\"nameSub\\\":\\\"Calculus III\\\",\\\"id\\\":2258215799,\\\"credits\\\":3,\\\"nameCanonical\\\":\\\"\\\"},{\\\"curriculum_requisites\\\":[{\\\"source_id\\\":2258215799,\\\"target_id\\\":3718777895,\\\"type\\\":\\\"CurriculumCorequisite\\\"},{\\\"source_id\\\":2834873484,\\\"target_id\\\":3718777895,\\\"type\\\":\\\"CurriculumPrerequisite\\\"}],\\\"name\\\":\\\"PHYS 1322\\\",\\\"metrics\\\":{\\\"centrality\\\":426,\\\"complexity\\\":26.0,\\\"blocking factor\\\":14,\\\"delay factor\\\":12.0},\\\"nameSub\\\":\\\"University Physics II\\\",\\\"id\\\":3718777895,\\\"credits\\\":3,\\\"nameCanonical\\\":\\\"\\\"},{\\\"curriculum_requisites\\\":[{\\\"source_id\\\":3718777895,\\\"target_id\\\":3059602497,\\\"type\\\":\\\"CurriculumCorequisite\\\"}],\\\"name\\\":\\\"PHYS 1122\\\",\\\"metrics\\\":{\\\"centrality\\\":250,\\\"complexity\\\":25.0,\\\"blocking factor\\\":13,\\\"delay factor\\\":12.0},\\\"nameSub\\\":\\\"Physics Lab II\\\",\\\"id\\\":3059602497,\\\"credits\\\":1,\\\"nameCanonical\\\":\\\"\\\"}],\\\"id\\\":3},{\\\"name\\\":\\\"Term 4\\\",\\\"curriculum_items\\\":[{\\\"curriculum_requisites\\\":[{\\\"source_id\\\":3195103903,\\\"target_id\\\":1770099342,\\\"type\\\":\\\"CurriculumPrerequisite\\\"},{\\\"source_id\\\":2138760932,\\\"target_id\\\":1770099342,\\\"type\\\":\\\"CurriculumPrerequisite\\\"}],\\\"name\\\":\\\"ENGI 2304\\\",\\\"metrics\\\":{\\\"centrality\\\":159,\\\"complexity\\\":15.0,\\\"blocking factor\\\":4,\\\"delay factor\\\":11.0},\\\"nameSub\\\":\\\"Technical Communication\\\",\\\"id\\\":1770099342,\\\"credits\\\":3,\\\"nameCanonical\\\":\\\"\\\"},{\\\"curriculum_requisites\\\":[{\\\"source_id\\\":947037850,\\\"target_id\\\":649106202,\\\"type\\\":\\\"CurriculumPrerequisite\\\"},{\\\"source_id\\\":2138760932,\\\"target_id\\\":649106202,\\\"type\\\":\\\"CurriculumPrerequisite\\\"}],\\\"name\\\":\\\"ECE 3331\\\",\\\"metrics\\\":{\\\"centrality\\\":152,\\\"complexity\\\":14.0,\\\"blocking factor\\\":4,\\\"delay factor\\\":10.0},\\\"nameSub\\\":\\\"Programming Apps in ECE\\\",\\\"id\\\":649106202,\\\"credits\\\":3,\\\"nameCanonical\\\":\\\"\\\"},{\\\"curriculum_requisites\\\":[{\\\"source_id\\\":3059602497,\\\"target_id\\\":1083857781,\\\"type\\\":\\\"CurriculumPrerequisite\\\"},{\\\"source_id\\\":3887805990,\\\"target_id\\\":1083857781,\\\"type\\\":\\\"CurriculumCorequisite\\\"}],\\\"name\\\":\\\"ECE 2100\\\",\\\"metrics\\\":{\\\"centrality\\\":295,\\\"complexity\\\":17.0,\\\"blocking factor\\\":5,\\\"delay factor\\\":12.0},\\\"nameSub\\\":\\\"Circuits Lab\\\",\\\"id\\\":1083857781,\\\"credits\\\":1,\\\"nameCanonical\\\":\\\"\\\"},{\\\"curriculum_requisites\\\":[{\\\"source_id\\\":2138760932,\\\"target_id\\\":3887805990,\\\"type\\\":\\\"CurriculumPrerequisite\\\"}],\\\"name\\\":\\\"ECE 2202\\\",\\\"metrics\\\":{\\\"centrality\\\":393,\\\"complexity\\\":20.0,\\\"blocking factor\\\":8,\\\"delay factor\\\":12.0},\\\"nameSub\\\":\\\"Circuit Analysis II\\\",\\\"id\\\":3887805990,\\\"credits\\\":3,\\\"nameCanonical\\\":\\\"\\\"},{\\\"curriculum_requisites\\\":[{\\\"source_id\\\":3887805990,\\\"target_id\\\":2791403937,\\\"type\\\":\\\"CurriculumCorequisite\\\"}],\\\"name\\\":\\\"ECE 3337\\\",\\\"metrics\\\":{\\\"centrality\\\":154,\\\"complexity\\\":15.0,\\\"blocking factor\\\":4,\\\"delay factor\\\":11.0},\\\"nameSub\\\":\\\"Signals & Systems Analysis\\\",\\\"id\\\":2791403937,\\\"credits\\\":3,\\\"nameCanonical\\\":\\\"\\\"},{\\\"curriculum_requisites\\\":[{\\\"source_id\\\":1083857781,\\\"target_id\\\":4184346648,\\\"type\\\":\\\"CurriculumCorequisite\\\"},{\\\"source_id\\\":649106202,\\\"target_id\\\":4184346648,\\\"type\\\":\\\"CurriculumCorequisite\\\"}],\\\"name\\\":\\\"ECE 3436\\\",\\\"metrics\\\":{\\\"centrality\\\":171,\\\"complexity\\\":13.0,\\\"blocking factor\\\":2,\\\"delay factor\\\":11.0},\\\"nameSub\\\":\\\"Microprocessors\\\",\\\"id\\\":4184346648,\\\"credits\\\":3,\\\"nameCanonical\\\":\\\"\\\"}],\\\"id\\\":4},{\\\"name\\\":\\\"Term 5\\\",\\\"curriculum_items\\\":[{\\\"curriculum_requisites\\\":[],\\\"name\\\":\\\" \\\",\\\"metrics\\\":{\\\"centrality\\\":0,\\\"complexity\\\":1.0,\\\"blocking factor\\\":0,\\\"delay factor\\\":1.0},\\\"nameSub\\\":\\\"Creative Arts Core\\\",\\\"id\\\":848294223,\\\"credits\\\":3,\\\"nameCanonical\\\":\\\"\\\"},{\\\"curriculum_requisites\\\":[{\\\"source_id\\\":1083857781,\\\"target_id\\\":1966522372,\\\"type\\\":\\\"CurriculumPrerequisite\\\"},{\\\"source_id\\\":1770099342,\\\"target_id\\\":1966522372,\\\"type\\\":\\\"CurriculumPrerequisite\\\"}],\\\"name\\\":\\\"ECE 3155\\\",\\\"metrics\\\":{\\\"centrality\\\":359,\\\"complexity\\\":15.0,\\\"blocking factor\\\":3,\\\"delay factor\\\":12.0},\\\"nameSub\\\":\\\"Electronics Lab\\\",\\\"id\\\":1966522372,\\\"credits\\\":1,\\\"nameCanonical\\\":\\\"\\\"},{\\\"curriculum_requisites\\\":[{\\\"source_id\\\":1966522372,\\\"target_id\\\":4165958389,\\\"type\\\":\\\"CurriculumStrictCorequisite\\\"},{\\\"source_id\\\":2791403937,\\\"target_id\\\":4165958389,\\\"type\\\":\\\"CurriculumPrerequisite\\\"}],\\\"name\\\":\\\"ECE 3355\\\",\\\"metrics\\\":{\\\"centrality\\\":266,\\\"complexity\\\":14.0,\\\"blocking factor\\\":2,\\\"delay factor\\\":12.0},\\\"nameSub\\\":\\\"Electronics\\\",\\\"id\\\":4165958389,\\\"credits\\\":3,\\\"nameCanonical\\\":\\\"\\\"},{\\\"curriculum_requisites\\\":[],\\\"name\\\":\\\" \\\",\\\"metrics\\\":{\\\"centrality\\\":0,\\\"complexity\\\":1.0,\\\"blocking factor\\\":0,\\\"delay factor\\\":1.0},\\\"nameSub\\\":\\\"Concentration Elective 1\\\",\\\"id\\\":1056053313,\\\"credits\\\":3,\\\"nameCanonical\\\":\\\"\\\"},{\\\"curriculum_requisites\\\":[{\\\"source_id\\\":2791403937,\\\"target_id\\\":2252871414,\\\"type\\\":\\\"CurriculumPrerequisite\\\"}],\\\"name\\\":\\\"ECE 3317\\\",\\\"metrics\\\":{\\\"centrality\\\":77,\\\"complexity\\\":13.0,\\\"blocking factor\\\":2,\\\"delay factor\\\":11.0},\\\"nameSub\\\":\\\"Applied EM Waves\\\",\\\"id\\\":2252871414,\\\"credits\\\":3,\\\"nameCanonical\\\":\\\"\\\"},{\\\"curriculum_requisites\\\":[],\\\"name\\\":\\\" \\\",\\\"metrics\\\":{\\\"centrality\\\":0,\\\"complexity\\\":1.0,\\\"blocking factor\\\":0,\\\"delay factor\\\":1.0},\\\"nameSub\\\":\\\"ECE Elective 1\\\",\\\"id\\\":2051928090,\\\"credits\\\":3,\\\"nameCanonical\\\":\\\"\\\"}],\\\"id\\\":5},{\\\"name\\\":\\\"Term 6\\\",\\\"curriculum_items\\\":[{\\\"curriculum_requisites\\\":[],\\\"name\\\":\\\"POLS 1337\\\",\\\"metrics\\\":{\\\"centrality\\\":0,\\\"complexity\\\":1.0,\\\"blocking factor\\\":0,\\\"delay factor\\\":1.0},\\\"nameSub\\\":\\\"US Gov: Congress, President and Courts\\\",\\\"id\\\":951874139,\\\"credits\\\":3,\\\"nameCanonical\\\":\\\"\\\"},{\\\"curriculum_requisites\\\":[{\\\"source_id\\\":1051497550,\\\"target_id\\\":2888554139,\\\"type\\\":\\\"CurriculumPrerequisite\\\"},{\\\"source_id\\\":1177372781,\\\"target_id\\\":2888554139,\\\"type\\\":\\\"CurriculumPrerequisite\\\"}],\\\"name\\\":\\\"INDE 2333\\\",\\\"metrics\\\":{\\\"centrality\\\":16,\\\"complexity\\\":8.0,\\\"blocking factor\\\":2,\\\"delay factor\\\":6.0},\\\"nameSub\\\":\\\"Engineering Statistics\\\",\\\"id\\\":2888554139,\\\"credits\\\":3,\\\"nameCanonical\\\":\\\"\\\"},{\\\"curriculum_requisites\\\":[],\\\"name\\\":\\\" \\\",\\\"metrics\\\":{\\\"centrality\\\":0,\\\"complexity\\\":1.0,\\\"blocking factor\\\":0,\\\"delay factor\\\":1.0},\\\"nameSub\\\":\\\"Elective Lab 1\\\",\\\"id\\\":26700799,\\\"credits\\\":1,\\\"nameCanonical\\\":\\\"\\\"},{\\\"curriculum_requisites\\\":[],\\\"name\\\":\\\" \\\",\\\"metrics\\\":{\\\"centrality\\\":0,\\\"complexity\\\":1.0,\\\"blocking factor\\\":0,\\\"delay factor\\\":1.0},\\\"nameSub\\\":\\\"Concentration Elective 2\\\",\\\"id\\\":1745860227,\\\"credits\\\":3,\\\"nameCanonical\\\":\\\"\\\"},{\\\"curriculum_requisites\\\":[{\\\"source_id\\\":649106202,\\\"target_id\\\":3368026167,\\\"type\\\":\\\"CurriculumPrerequisite\\\"}],\\\"name\\\":\\\"ECE 3340\\\",\\\"metrics\\\":{\\\"centrality\\\":76,\\\"complexity\\\":12.0,\\\"blocking factor\\\":2,\\\"delay factor\\\":10.0},\\\"nameSub\\\":\\\"Numerical Methods\\\",\\\"id\\\":3368026167,\\\"credits\\\":3,\\\"nameCanonical\\\":\\\"\\\"},{\\\"curriculum_requisites\\\":[],\\\"name\\\":\\\" \\\",\\\"metrics\\\":{\\\"centrality\\\":0,\\\"complexity\\\":1.0,\\\"blocking factor\\\":0,\\\"delay factor\\\":1.0},\\\"nameSub\\\":\\\"ECE Elective 2\\\",\\\"id\\\":672829327,\\\"credits\\\":3,\\\"nameCanonical\\\":\\\"\\\"}],\\\"id\\\":6},{\\\"name\\\":\\\"Term 7\\\",\\\"curriculum_items\\\":[{\\\"curriculum_requisites\\\":[],\\\"name\\\":\\\"ECON 2304\\\",\\\"metrics\\\":{\\\"centrality\\\":0,\\\"complexity\\\":5.0,\\\"blocking factor\\\":2,\\\"delay factor\\\":3.0},\\\"nameSub\\\":\\\"Microeconomic Principles\\\",\\\"id\\\":3224555476,\\\"credits\\\":3,\\\"nameCanonical\\\":\\\"\\\"},{\\\"curriculum_requisites\\\":[{\\\"source_id\\\":1966522372,\\\"target_id\\\":1337097032,\\\"type\\\":\\\"CurriculumPrerequisite\\\"},{\\\"source_id\\\":4184346648,\\\"target_id\\\":1337097032,\\\"type\\\":\\\"CurriculumPrerequisite\\\"},{\\\"source_id\\\":3368026167,\\\"target_id\\\":1337097032,\\\"type\\\":\\\"CurriculumPrerequisite\\\"},{\\\"source_id\\\":2888554139,\\\"target_id\\\":1337097032,\\\"type\\\":\\\"CurriculumPrerequisite\\\"},{\\\"source_id\\\":4165958389,\\\"target_id\\\":1337097032,\\\"type\\\":\\\"CurriculumPrerequisite\\\"},{\\\"source_id\\\":3224555476,\\\"target_id\\\":1337097032,\\\"type\\\":\\\"CurriculumCorequisite\\\"},{\\\"source_id\\\":2252871414,\\\"target_id\\\":1337097032,\\\"type\\\":\\\"CurriculumPrerequisite\\\"}],\\\"name\\\":\\\"ECE 4335\\\",\\\"metrics\\\":{\\\"centrality\\\":779,\\\"complexity\\\":13.0,\\\"blocking factor\\\":1,\\\"delay factor\\\":12.0},\\\"nameSub\\\":\\\"ECE Design I\\\",\\\"id\\\":1337097032,\\\"credits\\\":3,\\\"nameCanonical\\\":\\\"\\\"},{\\\"curriculum_requisites\\\":[],\\\"name\\\":\\\" \\\",\\\"metrics\\\":{\\\"centrality\\\":0,\\\"complexity\\\":1.0,\\\"blocking factor\\\":0,\\\"delay factor\\\":1.0},\\\"nameSub\\\":\\\"Elective Lab 2\\\",\\\"id\\\":1296179090,\\\"credits\\\":1,\\\"nameCanonical\\\":\\\"\\\"},{\\\"curriculum_requisites\\\":[],\\\"name\\\":\\\" \\\",\\\"metrics\\\":{\\\"centrality\\\":0,\\\"complexity\\\":1.0,\\\"blocking factor\\\":0,\\\"delay factor\\\":1.0},\\\"nameSub\\\":\\\"Concentration Elective 3\\\",\\\"id\\\":1105094343,\\\"credits\\\":3,\\\"nameCanonical\\\":\\\"\\\"},{\\\"curriculum_requisites\\\":[],\\\"name\\\":\\\" \\\",\\\"metrics\\\":{\\\"centrality\\\":0,\\\"complexity\\\":1.0,\\\"blocking factor\\\":0,\\\"delay factor\\\":1.0},\\\"nameSub\\\":\\\"Concentration Elective 4\\\",\\\"id\\\":1819261218,\\\"credits\\\":3,\\\"nameCanonical\\\":\\\"\\\"},{\\\"curriculum_requisites\\\":[],\\\"name\\\":\\\" \\\",\\\"metrics\\\":{\\\"centrality\\\":0,\\\"complexity\\\":1.0,\\\"blocking factor\\\":0,\\\"delay factor\\\":1.0},\\\"nameSub\\\":\\\"Technical Elective\\\",\\\"id\\\":2529896330,\\\"credits\\\":3,\\\"nameCanonical\\\":\\\"\\\"}],\\\"id\\\":7},{\\\"name\\\":\\\"Term 8\\\",\\\"curriculum_items\\\":[{\\\"curriculum_requisites\\\":[],\\\"name\\\":\\\" \\\",\\\"metrics\\\":{\\\"centrality\\\":0,\\\"complexity\\\":1.0,\\\"blocking factor\\\":0,\\\"delay factor\\\":1.0},\\\"nameSub\\\":\\\"Lang., Phil. & Culture Core\\\",\\\"id\\\":1626752824,\\\"credits\\\":3,\\\"nameCanonical\\\":\\\"\\\"},{\\\"curriculum_requisites\\\":[{\\\"source_id\\\":1337097032,\\\"target_id\\\":1158404973,\\\"type\\\":\\\"CurriculumPrerequisite\\\"}],\\\"name\\\":\\\"ECE 4336\\\",\\\"metrics\\\":{\\\"centrality\\\":0,\\\"complexity\\\":12.0,\\\"blocking factor\\\":0,\\\"delay factor\\\":12.0},\\\"nameSub\\\":\\\"ECE Design II\\\",\\\"id\\\":1158404973,\\\"credits\\\":3,\\\"nameCanonical\\\":\\\"\\\"},{\\\"curriculum_requisites\\\":[],\\\"name\\\":\\\" \\\",\\\"metrics\\\":{\\\"centrality\\\":0,\\\"complexity\\\":1.0,\\\"blocking factor\\\":0,\\\"delay factor\\\":1.0},\\\"nameSub\\\":\\\"Elective Lab 3\\\",\\\"id\\\":3091492697,\\\"credits\\\":1,\\\"nameCanonical\\\":\\\"\\\"},{\\\"curriculum_requisites\\\":[],\\\"name\\\":\\\" \\\",\\\"metrics\\\":{\\\"centrality\\\":0,\\\"complexity\\\":1.0,\\\"blocking factor\\\":0,\\\"delay factor\\\":1.0},\\\"nameSub\\\":\\\"Concentration Elective 5\\\",\\\"id\\\":2070124031,\\\"credits\\\":3,\\\"nameCanonical\\\":\\\"\\\"},{\\\"curriculum_requisites\\\":[],\\\"name\\\":\\\" \\\",\\\"metrics\\\":{\\\"centrality\\\":0,\\\"complexity\\\":1.0,\\\"blocking factor\\\":0,\\\"delay factor\\\":1.0},\\\"nameSub\\\":\\\"Concentration Elective 6\\\",\\\"id\\\":1716266479,\\\"credits\\\":3,\\\"nameCanonical\\\":\\\"\\\"},{\\\"curriculum_requisites\\\":[],\\\"name\\\":\\\" \\\",\\\"metrics\\\":{\\\"centrality\\\":0,\\\"complexity\\\":1.0,\\\"blocking factor\\\":0,\\\"delay factor\\\":1.0},\\\"nameSub\\\":\\\"Concentration Elective 7\\\",\\\"id\\\":2584207151,\\\"credits\\\":3,\\\"nameCanonical\\\":\\\"\\\"},{\\\"curriculum_requisites\\\":[],\\\"name\\\":\\\" \\\",\\\"metrics\\\":{\\\"centrality\\\":0,\\\"complexity\\\":1.0,\\\"blocking factor\\\":0,\\\"delay factor\\\":1.0},\\\"nameSub\\\":\\\"Elective Lab 4\\\",\\\"id\\\":2450156574,\\\"credits\\\":1,\\\"nameCanonical\\\":\\\"\\\"}],\\\"id\\\":8}],\\\"institution\\\":\\\"ACME Univ.\\\"}},\\\"*\\\"); window.removeEventListener(\\\"message\\\",window.messageReceived); window.messageReceived=(function (event){return (event.data.curriculum!==undefined) ? (WebIO.setval({\\\"name\\\":\\\"curriculum-data\\\",\\\"scope\\\":\\\"490043330684972688\\\",\\\"id\\\":\\\"9842419840738364399\\\",\\\"type\\\":\\\"observable\\\"},event.data.curriculum)) : undefined}); return window.addEventListener(\\\"message\\\",window.messageReceived)})\"},\"style\":{\"padding\":\"0\",\"height\":\"100vh\",\"margin\":\"0\",\"border\":\"none\",\"width\":\"100%\"}},\"nodeType\":\"DOM\",\"type\":\"node\",\"instanceArgs\":{\"namespace\":\"html\",\"tag\":\"iframe\"},\"children\":[\"\"]}]},\n",
       "            window,\n",
       "        );\n",
       "    } else {\n",
       "        document\n",
       "            .querySelector('[data-webio-mountpoint=\"13550164165222389399\"]')\n",
       "            .innerHTML = (\n",
       "                '<div style=\"padding: 1em; background-color: #f8d6da; border: 1px solid #f5c6cb\">' +\n",
       "                '<p><strong>WebIO not detected.</strong></p>' +\n",
       "                '<p>Please read ' +\n",
       "                '<a href=\"https://juliagizmos.github.io/WebIO.jl/latest/troubleshooting/not-detected/\" target=\"_blank\">the troubleshooting guide</a> ' +\n",
       "                'for more information on how to resolve this issue.</p>' +\n",
       "                '<p><a href=\"https://juliagizmos.github.io/WebIO.jl/latest/troubleshooting/not-detected/\" target=\"_blank\">https://juliagizmos.github.io/WebIO.jl/latest/troubleshooting/not-detected/</a></p>' +\n",
       "                '</div>'\n",
       "            );\n",
       "    }\n",
       "    </script>\n",
       "</div>\n"
      ],
      "text/plain": [
       "WebIO.Scope(WebIO.Node{WebIO.DOM}(WebIO.DOM(:html, :iframe), Any[\"\"], Dict{Symbol, Any}(:src => \"https://curricula-api-embed.damoursystems.com/\", :id => \"curriculum\", :events => Dict{Symbol, WebIO.JSString}(:load => WebIO.JSString(\"(function (){this.contentWindow.postMessage({\\\"options\\\":{\\\"hideTerms\\\":false,\\\"edit\\\":false},\\\"curriculum\\\":{\\\"name\\\":\\\"A Real EE Program\\\",\\\"dp_name\\\":\\\"2018-19 Plan\\\",\\\"curriculum_terms\\\":[{\\\"name\\\":\\\"Term 1\\\",\\\"curriculum_items\\\":[{\\\"curriculum_requisites\\\":[],\\\"name\\\":\\\"HIST 1377\\\",\\\"metrics\\\":{\\\"centrality\\\":0,\\\"complexity\\\":1.0,\\\"blocking factor\\\":0,\\\"delay factor\\\":1.0},\\\"nameSub\\\":\\\"The US to 1877\\\",\\\"id\\\":3824069494,\\\"credits\\\":3,\\\"nameCanonical\\\":\\\"\\\"},{\\\"curriculum_requisites\\\":[],\\\"name\\\":\\\"ENGL 1303\\\",\\\"metrics\\\":{\\\"centrality\\\":0,\\\"complexity\\\":13.0,\\\"blocking factor\\\":6,\\\"delay factor\\\":7.0},\\\"nameSub\\\":\\\"First Year Writing I\\\",\\\"id\\\":1324171406,\\\"credits\\\":3,\\\"nameCanonical\\\":\\\"\\\"},{\\\"curriculum_requisites\\\":[{\\\"source_id\\\":4175014649,\\\"target_id\\\":1764441140,\\\"type\\\":\\\"CurriculumCorequisite\\\"}],\\\"name\\\":\\\"ENGI 1100\\\",\\\"metrics\\\":{\\\"centrality\\\":85,\\\"complexity\\\":25.0,\\\"blocking factor\\\":15,\\\"delay factor\\\":10.0},\\\"nameSub\\\":\\\"Intro to Engr.\\\",\\\"id\\\":1764441140,\\\"credits\\\":1,\\\"nameCanonical\\\":\\\"\\\"},{\\\"curriculum_requisites\\\":[],\\\"name\\\":\\\"MATH 1431\\\",\\\"metrics\\\":{\\\"centrality\\\":0,\\\"complexity\\\":35.0,\\\"blocking factor\\\":23,\\\"delay factor\\\":12.0},\\\"nameSub\\\":\\\"Calculus I\\\",\\\"id\\\":4175014649,\\\"credits\\\":4,\\\"nameCanonical\\\":\\\"\\\"},{\\\"curriculum_requisites\\\":[],\\\"name\\\":\\\"CHEM 1331\\\",\\\"metrics\\\":{\\\"centrality\\\":0,\\\"complexity\\\":3.0,\\\"blocking factor\\\":1,\\\"delay factor\\\":2.0},\\\"nameSub\\\":\\\"Fund. of Chemistry\\\",\\\"id\\\":1351802580,\\\"credits\\\":3,\\\"nameCanonical\\\":\\\"\\\"},{\\\"curriculum_requisites\\\":[{\\\"source_id\\\":1351802580,\\\"target_id\\\":2195546016,\\\"type\\\":\\\"CurriculumCorequisite\\\"}],\\\"name\\\":\\\"CHEM 1111\\\",\\\"metrics\\\":{\\\"centrality\\\":0,\\\"complexity\\\":2.0,\\\"blocking factor\\\":0,\\\"delay factor\\\":2.0},\\\"nameSub\\\":\\\"Fund. of Chemistry Lab\\\",\\\"id\\\":2195546016,\\\"credits\\\":1,\\\"nameCanonical\\\":\\\"\\\"}],\\\"id\\\":1},{\\\"name\\\":\\\"Term 2\\\",\\\"curriculum_items\\\":[{\\\"curriculum_requisites\\\":[],\\\"name\\\":\\\"HIST 1378\\\",\\\"metrics\\\":{\\\"centrality\\\":0,\\\"complexity\\\":1.0,\\\"blocking factor\\\":0,\\\"delay factor\\\":1.0},\\\"nameSub\\\":\\\"US Since 1877\\\",\\\"id\\\":2731496025,\\\"credits\\\":3,\\\"nameCanonical\\\":\\\"\\\"},{\\\"curriculum_requisites\\\":[{\\\"source_id\\\":1324171406,\\\"target_id\\\":3195103903,\\\"type\\\":\\\"CurriculumPrerequisite\\\"}],\\\"name\\\":\\\"ENGL 1304\\\",\\\"metrics\\\":{\\\"centrality\\\":13,\\\"complexity\\\":12.0,\\\"blocking factor\\\":5,\\\"delay factor\\\":7.0},\\\"nameSub\\\":\\\"First Year Writing II\\\",\\\"id\\\":3195103903,\\\"credits\\\":3,\\\"nameCanonical\\\":\\\"\\\"},{\\\"curriculum_requisites\\\":[{\\\"source_id\\\":4175014649,\\\"target_id\\\":1051497550,\\\"type\\\":\\\"CurriculumPrerequisite\\\"},{\\\"source_id\\\":1764441140,\\\"target_id\\\":1051497550,\\\"type\\\":\\\"CurriculumPrerequisite\\\"}],\\\"name\\\":\\\"ENGI 1331\\\",\\\"metrics\\\":{\\\"centrality\\\":160,\\\"complexity\\\":24.0,\\\"blocking factor\\\":14,\\\"delay factor\\\":10.0},\\\"nameSub\\\":\\\"Computing & Prob. Solving\\\",\\\"id\\\":1051497550,\\\"credits\\\":3,\\\"nameCanonical\\\":\\\"\\\"},{\\\"curriculum_requisites\\\":[{\\\"source_id\\\":4175014649,\\\"target_id\\\":1177372781,\\\"type\\\":\\\"CurriculumPrerequisite\\\"}],\\\"name\\\":\\\"MATH 1432\\\",\\\"metrics\\\":{\\\"centrality\\\":607,\\\"complexity\\\":32.0,\\\"blocking factor\\\":20,\\\"delay factor\\\":12.0},\\\"nameSub\\\":\\\"Calculus II\\\",\\\"id\\\":1177372781,\\\"credits\\\":4,\\\"nameCanonical\\\":\\\"\\\"},{\\\"curriculum_requisites\\\":[{\\\"source_id\\\":1177372781,\\\"target_id\\\":2834873484,\\\"type\\\":\\\"CurriculumCorequisite\\\"}],\\\"name\\\":\\\"PHYS 1321\\\",\\\"metrics\\\":{\\\"centrality\\\":217,\\\"complexity\\\":28.0,\\\"blocking factor\\\":16,\\\"delay factor\\\":12.0},\\\"nameSub\\\":\\\"University Physics I\\\",\\\"id\\\":2834873484,\\\"credits\\\":3,\\\"nameCanonical\\\":\\\"\\\"},{\\\"curriculum_requisites\\\":[{\\\"source_id\\\":2834873484,\\\"target_id\\\":3178954113,\\\"type\\\":\\\"CurriculumCorequisite\\\"}],\\\"name\\\":\\\"PHYS 1121\\\",\\\"metrics\\\":{\\\"centrality\\\":0,\\\"complexity\\\":4.0,\\\"blocking factor\\\":0,\\\"delay factor\\\":4.0},\\\"nameSub\\\":\\\"Physics Lab I\\\",\\\"id\\\":3178954113,\\\"credits\\\":1,\\\"nameCanonical\\\":\\\"\\\"}],\\\"id\\\":2},{\\\"name\\\":\\\"Term 3\\\",\\\"curriculum_items\\\":[{\\\"curriculum_requisites\\\":[],\\\"name\\\":\\\"POLS 1336\\\",\\\"metrics\\\":{\\\"centrality\\\":0,\\\"complexity\\\":1.0,\\\"blocking factor\\\":0,\\\"delay factor\\\":1.0},\\\"nameSub\\\":\\\"US and TX Constitutions & Politics\\\",\\\"id\\\":1541543378,\\\"credits\\\":3,\\\"nameCanonical\\\":\\\"\\\"},{\\\"curriculum_requisites\\\":[{\\\"source_id\\\":1177372781,\\\"target_id\\\":947037850,\\\"type\\\":\\\"CurriculumPrerequisite\\\"}],\\\"name\\\":\\\"MATH 3321\\\",\\\"metrics\\\":{\\\"centrality\\\":93,\\\"complexity\\\":23.0,\\\"blocking factor\\\":13,\\\"delay factor\\\":10.0},\\\"nameSub\\\":\\\"Engineering Math\\\",\\\"id\\\":947037850,\\\"credits\\\":3,\\\"nameCanonical\\\":\\\"\\\"},{\\\"curriculum_requisites\\\":[{\\\"source_id\\\":3718777895,\\\"target_id\\\":2138760932,\\\"type\\\":\\\"CurriculumCorequisite\\\"},{\\\"source_id\\\":3059602497,\\\"target_id\\\":2138760932,\\\"type\\\":\\\"CurriculumCorequisite\\\"},{\\\"source_id\\\":2258215799,\\\"target_id\\\":2138760932,\\\"type\\\":\\\"CurriculumCorequisite\\\"},{\\\"source_id\\\":1051497550,\\\"target_id\\\":2138760932,\\\"type\\\":\\\"CurriculumPrerequisite\\\"},{\\\"source_id\\\":947037850,\\\"target_id\\\":2138760932,\\\"type\\\":\\\"CurriculumCorequisite\\\"}],\\\"name\\\":\\\"ECE 2201\\\",\\\"metrics\\\":{\\\"centrality\\\":677,\\\"complexity\\\":24.0,\\\"blocking factor\\\":12,\\\"delay factor\\\":12.0},\\\"nameSub\\\":\\\"Circuit Analysis I\\\",\\\"id\\\":2138760932,\\\"credits\\\":3,\\\"nameCanonical\\\":\\\"\\\"},{\\\"curriculum_requisites\\\":[{\\\"source_id\\\":1177372781,\\\"target_id\\\":2258215799,\\\"type\\\":\\\"CurriculumPrerequisite\\\"}],\\\"name\\\":\\\"MATH 2433\\\",\\\"metrics\\\":{\\\"centrality\\\":292,\\\"complexity\\\":27.0,\\\"blocking factor\\\":15,\\\"delay factor\\\":12.0},\\\"nameSub\\\":\\\"Calculus III\\\",\\\"id\\\":2258215799,\\\"credits\\\":3,\\\"nameCanonical\\\":\\\"\\\"},{\\\"curriculum_requisites\\\":[{\\\"source_id\\\":2258215799,\\\"target_id\\\":3718777895,\\\"type\\\":\\\"CurriculumCorequisite\\\"},{\\\"source_id\\\":2834873484,\\\"target_id\\\":3718777895,\\\"type\\\":\\\"CurriculumPrerequisite\\\"}],\\\"name\\\":\\\"PHYS 1322\\\",\\\"metrics\\\":{\\\"centrality\\\":426,\\\"complexity\\\":26.0,\\\"blocking factor\\\":14,\\\"delay factor\\\":12.0},\\\"nameSub\\\":\\\"University Physics II\\\",\\\"id\\\":3718777895,\\\"credits\\\":3,\\\"nameCanonical\\\":\\\"\\\"},{\\\"curriculum_requisites\\\":[{\\\"source_id\\\":3718777895,\\\"target_id\\\":3059602497,\\\"type\\\":\\\"CurriculumCorequisite\\\"}],\\\"name\\\":\\\"PHYS 1122\\\",\\\"metrics\\\":{\\\"centrality\\\":250,\\\"complexity\\\":25.0,\\\"blocking factor\\\":13,\\\"delay factor\\\":12.0},\\\"nameSub\\\":\\\"Physics Lab II\\\",\\\"id\\\":3059602497,\\\"credits\\\":1,\\\"nameCanonical\\\":\\\"\\\"}],\\\"id\\\":3},{\\\"name\\\":\\\"Term 4\\\",\\\"curriculum_items\\\":[{\\\"curriculum_requisites\\\":[{\\\"source_id\\\":3195103903,\\\"target_id\\\":1770099342,\\\"type\\\":\\\"CurriculumPrerequisite\\\"},{\\\"source_id\\\":2138760932,\\\"target_id\\\":1770099342,\\\"type\\\":\\\"CurriculumPrerequisite\\\"}],\\\"name\\\":\\\"ENGI 2304\\\",\\\"metrics\\\":{\\\"centrality\\\":159,\\\"complexity\\\":15.0,\\\"blocking factor\\\":4,\\\"delay factor\\\":11.0},\\\"nameSub\\\":\\\"Technical Communication\\\",\\\"id\\\":1770099342,\\\"credits\\\":3,\\\"nameCanonical\\\":\\\"\\\"},{\\\"curriculum_requisites\\\":[{\\\"source_id\\\":947037850,\\\"target_id\\\":649106202,\\\"type\\\":\\\"CurriculumPrerequisite\\\"},{\\\"source_id\\\":2138760932,\\\"target_id\\\":649106202,\\\"type\\\":\\\"CurriculumPrerequisite\\\"}],\\\"name\\\":\\\"ECE 3331\\\",\\\"metrics\\\":{\\\"centrality\\\":152,\\\"complexity\\\":14.0,\\\"blocking factor\\\":4,\\\"delay factor\\\":10.0},\\\"nameSub\\\":\\\"Programming Apps in ECE\\\",\\\"id\\\":649106202,\\\"credits\\\":3,\\\"nameCanonical\\\":\\\"\\\"},{\\\"curriculum_requisites\\\":[{\\\"source_id\\\":3059602497,\\\"target_id\\\":1083857781,\\\"type\\\":\\\"CurriculumPrerequisite\\\"},{\\\"source_id\\\":3887805990,\\\"target_id\\\":1083857781,\\\"type\\\":\\\"CurriculumCorequisite\\\"}],\\\"name\\\":\\\"ECE 2100\\\",\\\"metrics\\\":{\\\"centrality\\\":295,\\\"complexity\\\":17.0,\\\"blocking factor\\\":5,\\\"delay factor\\\":12.0},\\\"nameSub\\\":\\\"Circuits Lab\\\",\\\"id\\\":1083857781,\\\"credits\\\":1,\\\"nameCanonical\\\":\\\"\\\"},{\\\"curriculum_requisites\\\":[{\\\"source_id\\\":2138760932,\\\"target_id\\\":3887805990,\\\"type\\\":\\\"CurriculumPrerequisite\\\"}],\\\"name\\\":\\\"ECE 2202\\\",\\\"metrics\\\":{\\\"centrality\\\":393,\\\"complexity\\\":20.0,\\\"blocking factor\\\":8,\\\"delay factor\\\":12.0},\\\"nameSub\\\":\\\"Circuit Analysis II\\\",\\\"id\\\":3887805990,\\\"credits\\\":3,\\\"nameCanonical\\\":\\\"\\\"},{\\\"curriculum_requisites\\\":[{\\\"source_id\\\":3887805990,\\\"target_id\\\":2791403937,\\\"type\\\":\\\"CurriculumCorequisite\\\"}],\\\"name\\\":\\\"ECE 3337\\\",\\\"metrics\\\":{\\\"centrality\\\":154,\\\"complexity\\\":15.0,\\\"blocking factor\\\":4,\\\"delay factor\\\":11.0},\\\"nameSub\\\":\\\"Signals & Systems Analysis\\\",\\\"id\\\":2791403937,\\\"credits\\\":3,\\\"nameCanonical\\\":\\\"\\\"},{\\\"curriculum_requisites\\\":[{\\\"source_id\\\":1083857781,\\\"target_id\\\":4184346648,\\\"type\\\":\\\"CurriculumCorequisite\\\"},{\\\"source_id\\\":649106202,\\\"target_id\\\":4184346648,\\\"type\\\":\\\"CurriculumCorequisite\\\"}],\\\"name\\\":\\\"ECE 3436\\\",\\\"metrics\\\":{\\\"centrality\\\":171,\\\"complexity\\\":13.0,\\\"blocking factor\\\":2,\\\"delay factor\\\":11.0},\\\"nameSub\\\":\\\"Microprocessors\\\",\\\"id\\\":4184346648,\\\"credits\\\":3,\\\"nameCanonical\\\":\\\"\\\"}],\\\"id\\\":4},{\\\"name\\\":\\\"Term 5\\\",\\\"curriculum_items\\\":[{\\\"curriculum_requisites\\\":[],\\\"name\\\":\\\" \\\",\\\"metrics\\\":{\\\"centrality\\\":0,\\\"complexity\\\":1.0,\\\"blocking factor\\\":0,\\\"delay factor\\\":1.0},\\\"nameSub\\\":\\\"Creative Arts Core\\\",\\\"id\\\":848294223,\\\"credits\\\":3,\\\"nameCanonical\\\":\\\"\\\"},{\\\"curriculum_requisites\\\":[{\\\"source_id\\\":1083857781,\\\"target_id\\\":1966522372,\\\"type\\\":\\\"CurriculumPrerequisite\\\"},{\\\"source_id\\\":1770099342,\\\"target_id\\\":1966522372,\\\"type\\\":\\\"CurriculumPrerequisite\\\"}],\\\"name\\\":\\\"ECE 3155\\\",\\\"metrics\\\":{\\\"centrality\\\":359,\\\"complexity\\\":15.0,\\\"blocking factor\\\":3,\\\"delay factor\\\":12.0},\\\"nameSub\\\":\\\"Electronics Lab\\\",\\\"id\\\":1966522372,\\\"credits\\\":1,\\\"nameCanonical\\\":\\\"\\\"},{\\\"curriculum_requisites\\\":[{\\\"source_id\\\":1966522372,\\\"target_id\\\":4165958389,\\\"type\\\":\\\"CurriculumStrictCorequisite\\\"},{\\\"source_id\\\":2791403937,\\\"target_id\\\":4165958389,\\\"type\\\":\\\"CurriculumPrerequisite\\\"}],\\\"name\\\":\\\"ECE 3355\\\",\\\"metrics\\\":{\\\"centrality\\\":266,\\\"complexity\\\":14.0,\\\"blocking factor\\\":2,\\\"delay factor\\\":12.0},\\\"nameSub\\\":\\\"Electronics\\\",\\\"id\\\":4165958389,\\\"credits\\\":3,\\\"nameCanonical\\\":\\\"\\\"},{\\\"curriculum_requisites\\\":[],\\\"name\\\":\\\" \\\",\\\"metrics\\\":{\\\"centrality\\\":0,\\\"complexity\\\":1.0,\\\"blocking factor\\\":0,\\\"delay factor\\\":1.0},\\\"nameSub\\\":\\\"Concentration Elective 1\\\",\\\"id\\\":1056053313,\\\"credits\\\":3,\\\"nameCanonical\\\":\\\"\\\"},{\\\"curriculum_requisites\\\":[{\\\"source_id\\\":2791403937,\\\"target_id\\\":2252871414,\\\"type\\\":\\\"CurriculumPrerequisite\\\"}],\\\"name\\\":\\\"ECE 3317\\\",\\\"metrics\\\":{\\\"centrality\\\":77,\\\"complexity\\\":13.0,\\\"blocking factor\\\":2,\\\"delay factor\\\":11.0},\\\"nameSub\\\":\\\"Applied EM Waves\\\",\\\"id\\\":2252871414,\\\"credits\\\":3,\\\"nameCanonical\\\":\\\"\\\"},{\\\"curriculum_requisites\\\":[],\\\"name\\\":\\\" \\\",\\\"metrics\\\":{\\\"centrality\\\":0,\\\"complexity\\\":1.0,\\\"blocking factor\\\":0,\\\"delay factor\\\":1.0},\\\"nameSub\\\":\\\"ECE Elective 1\\\",\\\"id\\\":2051928090,\\\"credits\\\":3,\\\"nameCanonical\\\":\\\"\\\"}],\\\"id\\\":5},{\\\"name\\\":\\\"Term 6\\\",\\\"curriculum_items\\\":[{\\\"curriculum_requisites\\\":[],\\\"name\\\":\\\"POLS 1337\\\",\\\"metrics\\\":{\\\"centrality\\\":0,\\\"complexity\\\":1.0,\\\"blocking factor\\\":0,\\\"delay factor\\\":1.0},\\\"nameSub\\\":\\\"US Gov: Congress, President and Courts\\\",\\\"id\\\":951874139,\\\"credits\\\":3,\\\"nameCanonical\\\":\\\"\\\"},{\\\"curriculum_requisites\\\":[{\\\"source_id\\\":1051497550,\\\"target_id\\\":2888554139,\\\"type\\\":\\\"CurriculumPrerequisite\\\"},{\\\"source_id\\\":1177372781,\\\"target_id\\\":2888554139,\\\"type\\\":\\\"CurriculumPrerequisite\\\"}],\\\"name\\\":\\\"INDE 2333\\\",\\\"metrics\\\":{\\\"centrality\\\":16,\\\"complexity\\\":8.0,\\\"blocking factor\\\":2,\\\"delay factor\\\":6.0},\\\"nameSub\\\":\\\"Engineering Statistics\\\",\\\"id\\\":2888554139,\\\"credits\\\":3,\\\"nameCanonical\\\":\\\"\\\"},{\\\"curriculum_requisites\\\":[],\\\"name\\\":\\\" \\\",\\\"metrics\\\":{\\\"centrality\\\":0,\\\"complexity\\\":1.0,\\\"blocking factor\\\":0,\\\"delay factor\\\":1.0},\\\"nameSub\\\":\\\"Elective Lab 1\\\",\\\"id\\\":26700799,\\\"credits\\\":1,\\\"nameCanonical\\\":\\\"\\\"},{\\\"curriculum_requisites\\\":[],\\\"name\\\":\\\" \\\",\\\"metrics\\\":{\\\"centrality\\\":0,\\\"complexity\\\":1.0,\\\"blocking factor\\\":0,\\\"delay factor\\\":1.0},\\\"nameSub\\\":\\\"Concentration Elective 2\\\",\\\"id\\\":1745860227,\\\"credits\\\":3,\\\"nameCanonical\\\":\\\"\\\"},{\\\"curriculum_requisites\\\":[{\\\"source_id\\\":649106202,\\\"target_id\\\":3368026167,\\\"type\\\":\\\"CurriculumPrerequisite\\\"}],\\\"name\\\":\\\"ECE 3340\\\",\\\"metrics\\\":{\\\"centrality\\\":76,\\\"complexity\\\":12.0,\\\"blocking factor\\\":2,\\\"delay factor\\\":10.0},\\\"nameSub\\\":\\\"Numerical Methods\\\",\\\"id\\\":3368026167,\\\"credits\\\":3,\\\"nameCanonical\\\":\\\"\\\"},{\\\"curriculum_requisites\\\":[],\\\"name\\\":\\\" \\\",\\\"metrics\\\":{\\\"centrality\\\":0,\\\"complexity\\\":1.0,\\\"blocking factor\\\":0,\\\"delay factor\\\":1.0},\\\"nameSub\\\":\\\"ECE Elective 2\\\",\\\"id\\\":672829327,\\\"credits\\\":3,\\\"nameCanonical\\\":\\\"\\\"}],\\\"id\\\":6},{\\\"name\\\":\\\"Term 7\\\",\\\"curriculum_items\\\":[{\\\"curriculum_requisites\\\":[],\\\"name\\\":\\\"ECON 2304\\\",\\\"metrics\\\":{\\\"centrality\\\":0,\\\"complexity\\\":5.0,\\\"blocking factor\\\":2,\\\"delay factor\\\":3.0},\\\"nameSub\\\":\\\"Microeconomic Principles\\\",\\\"id\\\":3224555476,\\\"credits\\\":3,\\\"nameCanonical\\\":\\\"\\\"},{\\\"curriculum_requisites\\\":[{\\\"source_id\\\":1966522372,\\\"target_id\\\":1337097032,\\\"type\\\":\\\"CurriculumPrerequisite\\\"},{\\\"source_id\\\":4184346648,\\\"target_id\\\":1337097032,\\\"type\\\":\\\"CurriculumPrerequisite\\\"},{\\\"source_id\\\":3368026167,\\\"target_id\\\":1337097032,\\\"type\\\":\\\"CurriculumPrerequisite\\\"},{\\\"source_id\\\":2888554139,\\\"target_id\\\":1337097032,\\\"type\\\":\\\"CurriculumPrerequisite\\\"},{\\\"source_id\\\":4165958389,\\\"target_id\\\":1337097032,\\\"type\\\":\\\"CurriculumPrerequisite\\\"},{\\\"source_id\\\":3224555476,\\\"target_id\\\":1337097032,\\\"type\\\":\\\"CurriculumCorequisite\\\"},{\\\"source_id\\\":2252871414,\\\"target_id\\\":1337097032,\\\"type\\\":\\\"CurriculumPrerequisite\\\"}],\\\"name\\\":\\\"ECE 4335\\\",\\\"metrics\\\":{\\\"centrality\\\":779,\\\"complexity\\\":13.0,\\\"blocking factor\\\":1,\\\"delay factor\\\":12.0},\\\"nameSub\\\":\\\"ECE Design I\\\",\\\"id\\\":1337097032,\\\"credits\\\":3,\\\"nameCanonical\\\":\\\"\\\"},{\\\"curriculum_requisites\\\":[],\\\"name\\\":\\\" \\\",\\\"metrics\\\":{\\\"centrality\\\":0,\\\"complexity\\\":1.0,\\\"blocking factor\\\":0,\\\"delay factor\\\":1.0},\\\"nameSub\\\":\\\"Elective Lab 2\\\",\\\"id\\\":1296179090,\\\"credits\\\":1,\\\"nameCanonical\\\":\\\"\\\"},{\\\"curriculum_requisites\\\":[],\\\"name\\\":\\\" \\\",\\\"metrics\\\":{\\\"centrality\\\":0,\\\"complexity\\\":1.0,\\\"blocking factor\\\":0,\\\"delay factor\\\":1.0},\\\"nameSub\\\":\\\"Concentration Elective 3\\\",\\\"id\\\":1105094343,\\\"credits\\\":3,\\\"nameCanonical\\\":\\\"\\\"},{\\\"curriculum_requisites\\\":[],\\\"name\\\":\\\" \\\",\\\"metrics\\\":{\\\"centrality\\\":0,\\\"complexity\\\":1.0,\\\"blocking factor\\\":0,\\\"delay factor\\\":1.0},\\\"nameSub\\\":\\\"Concentration Elective 4\\\",\\\"id\\\":1819261218,\\\"credits\\\":3,\\\"nameCanonical\\\":\\\"\\\"},{\\\"curriculum_requisites\\\":[],\\\"name\\\":\\\" \\\",\\\"metrics\\\":{\\\"centrality\\\":0,\\\"complexity\\\":1.0,\\\"blocking factor\\\":0,\\\"delay factor\\\":1.0},\\\"nameSub\\\":\\\"Technical Elective\\\",\\\"id\\\":2529896330,\\\"credits\\\":3,\\\"nameCanonical\\\":\\\"\\\"}],\\\"id\\\":7},{\\\"name\\\":\\\"Term 8\\\",\\\"curriculum_items\\\":[{\\\"curriculum_requisites\\\":[],\\\"name\\\":\\\" \\\",\\\"metrics\\\":{\\\"centrality\\\":0,\\\"complexity\\\":1.0,\\\"blocking factor\\\":0,\\\"delay factor\\\":1.0},\\\"nameSub\\\":\\\"Lang., Phil. & Culture Core\\\",\\\"id\\\":1626752824,\\\"credits\\\":3,\\\"nameCanonical\\\":\\\"\\\"},{\\\"curriculum_requisites\\\":[{\\\"source_id\\\":1337097032,\\\"target_id\\\":1158404973,\\\"type\\\":\\\"CurriculumPrerequisite\\\"}],\\\"name\\\":\\\"ECE 4336\\\",\\\"metrics\\\":{\\\"centrality\\\":0,\\\"complexity\\\":12.0,\\\"blocking factor\\\":0,\\\"delay factor\\\":12.0},\\\"nameSub\\\":\\\"ECE Design II\\\",\\\"id\\\":1158404973,\\\"credits\\\":3,\\\"nameCanonical\\\":\\\"\\\"},{\\\"curriculum_requisites\\\":[],\\\"name\\\":\\\" \\\",\\\"metrics\\\":{\\\"centrality\\\":0,\\\"complexity\\\":1.0,\\\"blocking factor\\\":0,\\\"delay factor\\\":1.0},\\\"nameSub\\\":\\\"Elective Lab 3\\\",\\\"id\\\":3091492697,\\\"credits\\\":1,\\\"nameCanonical\\\":\\\"\\\"},{\\\"curriculum_requisites\\\":[],\\\"name\\\":\\\" \\\",\\\"metrics\\\":{\\\"centrality\\\":0,\\\"complexity\\\":1.0,\\\"blocking factor\\\":0,\\\"delay factor\\\":1.0},\\\"nameSub\\\":\\\"Concentration Elective 5\\\",\\\"id\\\":2070124031,\\\"credits\\\":3,\\\"nameCanonical\\\":\\\"\\\"},{\\\"curriculum_requisites\\\":[],\\\"name\\\":\\\" \\\",\\\"metrics\\\":{\\\"centrality\\\":0,\\\"complexity\\\":1.0,\\\"blocking factor\\\":0,\\\"delay factor\\\":1.0},\\\"nameSub\\\":\\\"Concentration Elective 6\\\",\\\"id\\\":1716266479,\\\"credits\\\":3,\\\"nameCanonical\\\":\\\"\\\"},{\\\"curriculum_requisites\\\":[],\\\"name\\\":\\\" \\\",\\\"metrics\\\":{\\\"centrality\\\":0,\\\"complexity\\\":1.0,\\\"blocking factor\\\":0,\\\"delay factor\\\":1.0},\\\"nameSub\\\":\\\"Concentration Elective 7\\\",\\\"id\\\":2584207151,\\\"credits\\\":3,\\\"nameCanonical\\\":\\\"\\\"},{\\\"curriculum_requisites\\\":[],\\\"name\\\":\\\" \\\",\\\"metrics\\\":{\\\"centrality\\\":0,\\\"complexity\\\":1.0,\\\"blocking factor\\\":0,\\\"delay factor\\\":1.0},\\\"nameSub\\\":\\\"Elective Lab 4\\\",\\\"id\\\":2450156574,\\\"credits\\\":1,\\\"nameCanonical\\\":\\\"\\\"}],\\\"id\\\":8}],\\\"institution\\\":\\\"ACME Univ.\\\"}},\\\"*\\\"); window.removeEventListener(\\\"message\\\",window.messageReceived); window.messageReceived=(function (event){return (event.data.curriculum!==undefined) ? (WebIO.setval({\\\"name\\\":\\\"curriculum-data\\\",\\\"scope\\\":\\\"490043330684972688\\\",\\\"id\\\":\\\"9842419840738364399\\\",\\\"type\\\":\\\"observable\\\"},event.data.curriculum)) : undefined}); return window.addEventListener(\\\"message\\\",window.messageReceived)})\")), :style => Dict(:padding => \"0\", :height => \"100vh\", :margin => \"0\", :border => \"none\", :width => \"100%\"))), Dict{String, Tuple{Observables.AbstractObservable, Union{Nothing, Bool}}}(\"curriculum-data\" => (Observable{Dict{String, Any}} with 1 listeners. Value:\n",
       "Dict{String, Any}(\"options\" => Dict{String, Any}(\"hideTerms\" => false, \"edit\" => false), \"curriculum\" => Dict{String, Any}(\"name\" => \"A Real EE Program\", \"dp_name\" => \"2018-19 Plan\", \"curriculum_terms\" => Dict{String, Any}[Dict(\"name\" => \"Term 1\", \"curriculum_items\" => Dict{String, Any}[Dict(\"curriculum_requisites\" => Dict{String, Any}[], \"name\" => \"HIST 1377\", \"metrics\" => Dict{String, Any}(\"centrality\" => 0, \"complexity\" => 1.0, \"blocking factor\" => 0, \"delay factor\" => 1.0), \"nameSub\" => \"The US to 1877\", \"id\" => 3824069494, \"credits\" => 3, \"nameCanonical\" => \"\"), Dict(\"curriculum_requisites\" => Dict{String, Any}[], \"name\" => \"ENGL 1303\", \"metrics\" => Dict{String, Any}(\"centrality\" => 0, \"complexity\" => 13.0, \"blocking factor\" => 6, \"delay factor\" => 7.0), \"nameSub\" => \"First Year Writing I\", \"id\" => 1324171406, \"credits\" => 3, \"nameCanonical\" => \"\"), Dict(\"curriculum_requisites\" => Dict{String, Any}[Dict(\"source_id\" => 4175014649, \"target_id\" => 1764441140, \"type\" => \"CurriculumCorequisite\")], \"name\" => \"ENGI 1100\", \"metrics\" => Dict{String, Any}(\"centrality\" => 85, \"complexity\" => 25.0, \"blocking factor\" => 15, \"delay factor\" => 10.0), \"nameSub\" => \"Intro to Engr.\", \"id\" => 1764441140, \"credits\" => 1, \"nameCanonical\" => \"\"), Dict(\"curriculum_requisites\" => Dict{String, Any}[], \"name\" => \"MATH 1431\", \"metrics\" => Dict{String, Any}(\"centrality\" => 0, \"complexity\" => 35.0, \"blocking factor\" => 23, \"delay factor\" => 12.0), \"nameSub\" => \"Calculus I\", \"id\" => 4175014649, \"credits\" => 4, \"nameCanonical\" => \"\"), Dict(\"curriculum_requisites\" => Dict{String, Any}[], \"name\" => \"CHEM 1331\", \"metrics\" => Dict{String, Any}(\"centrality\" => 0, \"complexity\" => 3.0, \"blocking factor\" => 1, \"delay factor\" => 2.0), \"nameSub\" => \"Fund. of Chemistry\", \"id\" => 1351802580, \"credits\" => 3, \"nameCanonical\" => \"\"), Dict(\"curriculum_requisites\" => Dict{String, Any}[Dict(\"source_id\" => 1351802580, \"target_id\" => 2195546016, \"type\" => \"CurriculumCorequisite\")], \"name\" => \"CHEM 1111\", \"metrics\" => Dict{String, Any}(\"centrality\" => 0, \"complexity\" => 2.0, \"blocking factor\" => 0, \"delay factor\" => 2.0), \"nameSub\" => \"Fund. of Chemistry Lab\", \"id\" => 2195546016, \"credits\" => 1, \"nameCanonical\" => \"\")], \"id\" => 1), Dict(\"name\" => \"Term 2\", \"curriculum_items\" => Dict{String, Any}[Dict(\"curriculum_requisites\" => Dict{String, Any}[], \"name\" => \"HIST 1378\", \"metrics\" => Dict{String, Any}(\"centrality\" => 0, \"complexity\" => 1.0, \"blocking factor\" => 0, \"delay factor\" => 1.0), \"nameSub\" => \"US Since 1877\", \"id\" => 2731496025, \"credits\" => 3, \"nameCanonical\" => \"\"), Dict(\"curriculum_requisites\" => Dict{String, Any}[Dict(\"source_id\" => 1324171406, \"target_id\" => 3195103903, \"type\" => \"CurriculumPrerequisite\")], \"name\" => \"ENGL 1304\", \"metrics\" => Dict{String, Any}(\"centrality\" => 13, \"complexity\" => 12.0, \"blocking factor\" => 5, \"delay factor\" => 7.0), \"nameSub\" => \"First Year Writing II\", \"id\" => 3195103903, \"credits\" => 3, \"nameCanonical\" => \"\"), Dict(\"curriculum_requisites\" => Dict{String, Any}[Dict(\"source_id\" => 4175014649, \"target_id\" => 1051497550, \"type\" => \"CurriculumPrerequisite\"), Dict(\"source_id\" => 1764441140, \"target_id\" => 1051497550, \"type\" => \"CurriculumPrerequisite\")], \"name\" => \"ENGI 1331\", \"metrics\" => Dict{String, Any}(\"centrality\" => 160, \"complexity\" => 24.0, \"blocking factor\" => 14, \"delay factor\" => 10.0), \"nameSub\" => \"Computing & Prob. Solving\", \"id\" => 1051497550, \"credits\" => 3, \"nameCanonical\" => \"\"), Dict(\"curriculum_requisites\" => Dict{String, Any}[Dict(\"source_id\" => 4175014649, \"target_id\" => 1177372781, \"type\" => \"CurriculumPrerequisite\")], \"name\" => \"MATH 1432\", \"metrics\" => Dict{String, Any}(\"centrality\" => 607, \"complexity\" => 32.0, \"blocking factor\" => 20, \"delay factor\" => 12.0), \"nameSub\" => \"Calculus II\", \"id\" => 1177372781, \"credits\" => 4, \"nameCanonical\" => \"\"), Dict(\"curriculum_requisites\" => Dict{String, Any}[Dict(\"source_id\" => 1177372781, \"target_id\" => 2834873484, \"type\" => \"CurriculumCorequisite\")], \"name\" => \"PHYS 1321\", \"metrics\" => Dict{String, Any}(\"centrality\" => 217, \"complexity\" => 28.0, \"blocking factor\" => 16, \"delay factor\" => 12.0), \"nameSub\" => \"University Physics I\", \"id\" => 2834873484, \"credits\" => 3, \"nameCanonical\" => \"\"), Dict(\"curriculum_requisites\" => Dict{String, Any}[Dict(\"source_id\" => 2834873484, \"target_id\" => 3178954113, \"type\" => \"CurriculumCorequisite\")], \"name\" => \"PHYS 1121\", \"metrics\" => Dict{String, Any}(\"centrality\" => 0, \"complexity\" => 4.0, \"blocking factor\" => 0, \"delay factor\" => 4.0), \"nameSub\" => \"Physics Lab I\", \"id\" => 3178954113, \"credits\" => 1, \"nameCanonical\" => \"\")], \"id\" => 2), Dict(\"name\" => \"Term 3\", \"curriculum_items\" => Dict{String, Any}[Dict(\"curriculum_requisites\" => Dict{String, Any}[], \"name\" => \"POLS 1336\", \"metrics\" => Dict{String, Any}(\"centrality\" => 0, \"complexity\" => 1.0, \"blocking factor\" => 0, \"delay factor\" => 1.0), \"nameSub\" => \"US and TX Constitutions & Politics\", \"id\" => 1541543378, \"credits\" => 3, \"nameCanonical\" => \"\"), Dict(\"curriculum_requisites\" => Dict{String, Any}[Dict(\"source_id\" => 1177372781, \"target_id\" => 947037850, \"type\" => \"CurriculumPrerequisite\")], \"name\" => \"MATH 3321\", \"metrics\" => Dict{String, Any}(\"centrality\" => 93, \"complexity\" => 23.0, \"blocking factor\" => 13, \"delay factor\" => 10.0), \"nameSub\" => \"Engineering Math\", \"id\" => 947037850, \"credits\" => 3, \"nameCanonical\" => \"\"), Dict(\"curriculum_requisites\" => Dict{String, Any}[Dict(\"source_id\" => 3718777895, \"target_id\" => 2138760932, \"type\" => \"CurriculumCorequisite\"), Dict(\"source_id\" => 3059602497, \"target_id\" => 2138760932, \"type\" => \"CurriculumCorequisite\"), Dict(\"source_id\" => 2258215799, \"target_id\" => 2138760932, \"type\" => \"CurriculumCorequisite\"), Dict(\"source_id\" => 1051497550, \"target_id\" => 2138760932, \"type\" => \"CurriculumPrerequisite\"), Dict(\"source_id\" => 947037850, \"target_id\" => 2138760932, \"type\" => \"CurriculumCorequisite\")], \"name\" => \"ECE 2201\", \"metrics\" => Dict{String, Any}(\"centrality\" => 677, \"complexity\" => 24.0, \"blocking factor\" => 12, \"delay factor\" => 12.0), \"nameSub\" => \"Circuit Analysis I\", \"id\" => 2138760932, \"credits\" => 3, \"nameCanonical\" => \"\"), Dict(\"curriculum_requisites\" => Dict{String, Any}[Dict(\"source_id\" => 1177372781, \"target_id\" => 2258215799, \"type\" => \"CurriculumPrerequisite\")], \"name\" => \"MATH 2433\", \"metrics\" => Dict{String, Any}(\"centrality\" => 292, \"complexity\" => 27.0, \"blocking factor\" => 15, \"delay factor\" => 12.0), \"nameSub\" => \"Calculus III\", \"id\" => 2258215799, \"credits\" => 3, \"nameCanonical\" => \"\"), Dict(\"curriculum_requisites\" => Dict{String, Any}[Dict(\"source_id\" => 2258215799, \"target_id\" => 3718777895, \"type\" => \"CurriculumCorequisite\"), Dict(\"source_id\" => 2834873484, \"target_id\" => 3718777895, \"type\" => \"CurriculumPrerequisite\")], \"name\" => \"PHYS 1322\", \"metrics\" => Dict{String, Any}(\"centrality\" => 426, \"complexity\" => 26.0, \"blocking factor\" => 14, \"delay factor\" => 12.0), \"nameSub\" => \"University Physics II\", \"id\" => 3718777895, \"credits\" => 3, \"nameCanonical\" => \"\"), Dict(\"curriculum_requisites\" => Dict{String, Any}[Dict(\"source_id\" => 3718777895, \"target_id\" => 3059602497, \"type\" => \"CurriculumCorequisite\")], \"name\" => \"PHYS 1122\", \"metrics\" => Dict{String, Any}(\"centrality\" => 250, \"complexity\" => 25.0, \"blocking factor\" => 13, \"delay factor\" => 12.0), \"nameSub\" => \"Physics Lab II\", \"id\" => 3059602497, \"credits\" => 1, \"nameCanonical\" => \"\")], \"id\" => 3), Dict(\"name\" => \"Term 4\", \"curriculum_items\" => Dict{String, Any}[Dict(\"curriculum_requisites\" => Dict{String, Any}[Dict(\"source_id\" => 3195103903, \"target_id\" => 1770099342, \"type\" => \"CurriculumPrerequisite\"), Dict(\"source_id\" => 2138760932, \"target_id\" => 1770099342, \"type\" => \"CurriculumPrerequisite\")], \"name\" => \"ENGI 2304\", \"metrics\" => Dict{String, Any}(\"centrality\" => 159, \"complexity\" => 15.0, \"blocking factor\" => 4, \"delay factor\" => 11.0), \"nameSub\" => \"Technical Communication\", \"id\" => 1770099342, \"credits\" => 3, \"nameCanonical\" => \"\"), Dict(\"curriculum_requisites\" => Dict{String, Any}[Dict(\"source_id\" => 947037850, \"target_id\" => 649106202, \"type\" => \"CurriculumPrerequisite\"), Dict(\"source_id\" => 2138760932, \"target_id\" => 649106202, \"type\" => \"CurriculumPrerequisite\")], \"name\" => \"ECE 3331\", \"metrics\" => Dict{String, Any}(\"centrality\" => 152, \"complexity\" => 14.0, \"blocking factor\" => 4, \"delay factor\" => 10.0), \"nameSub\" => \"Programming Apps in ECE\", \"id\" => 649106202, \"credits\" => 3, \"nameCanonical\" => \"\"), Dict(\"curriculum_requisites\" => Dict{String, Any}[Dict(\"source_id\" => 3059602497, \"target_id\" => 1083857781, \"type\" => \"CurriculumPrerequisite\"), Dict(\"source_id\" => 3887805990, \"target_id\" => 1083857781, \"type\" => \"CurriculumCorequisite\")], \"name\" => \"ECE 2100\", \"metrics\" => Dict{String, Any}(\"centrality\" => 295, \"complexity\" => 17.0, \"blocking factor\" => 5, \"delay factor\" => 12.0), \"nameSub\" => \"Circuits Lab\", \"id\" => 1083857781, \"credits\" => 1, \"nameCanonical\" => \"\"), Dict(\"curriculum_requisites\" => Dict{String, Any}[Dict(\"source_id\" => 2138760932, \"target_id\" => 3887805990, \"type\" => \"CurriculumPrerequisite\")], \"name\" => \"ECE 2202\", \"metrics\" => Dict{String, Any}(\"centrality\" => 393, \"complexity\" => 20.0, \"blocking factor\" => 8, \"delay factor\" => 12.0), \"nameSub\" => \"Circuit Analysis II\", \"id\" => 3887805990, \"credits\" => 3, \"nameCanonical\" => \"\"), Dict(\"curriculum_requisites\" => Dict{String, Any}[Dict(\"source_id\" => 3887805990, \"target_id\" => 2791403937, \"type\" => \"CurriculumCorequisite\")], \"name\" => \"ECE 3337\", \"metrics\" => Dict{String, Any}(\"centrality\" => 154, \"complexity\" => 15.0, \"blocking factor\" => 4, \"delay factor\" => 11.0), \"nameSub\" => \"Signals & Systems Analysis\", \"id\" => 2791403937, \"credits\" => 3, \"nameCanonical\" => \"\"), Dict(\"curriculum_requisites\" => Dict{String, Any}[Dict(\"source_id\" => 1083857781, \"target_id\" => 4184346648, \"type\" => \"CurriculumCorequisite\"), Dict(\"source_id\" => 649106202, \"target_id\" => 4184346648, \"type\" => \"CurriculumCorequisite\")], \"name\" => \"ECE 3436\", \"metrics\" => Dict{String, Any}(\"centrality\" => 171, \"complexity\" => 13.0, \"blocking factor\" => 2, \"delay factor\" => 11.0), \"nameSub\" => \"Microprocessors\", \"id\" => 4184346648, \"credits\" => 3, \"nameCanonical\" => \"\")], \"id\" => 4), Dict(\"name\" => \"Term 5\", \"curriculum_items\" => Dict{String, Any}[Dict(\"curriculum_requisites\" => Dict{String, Any}[], \"name\" => \" \", \"metrics\" => Dict{String, Any}(\"centrality\" => 0, \"complexity\" => 1.0, \"blocking factor\" => 0, \"delay factor\" => 1.0), \"nameSub\" => \"Creative Arts Core\", \"id\" => 848294223, \"credits\" => 3, \"nameCanonical\" => \"\"), Dict(\"curriculum_requisites\" => Dict{String, Any}[Dict(\"source_id\" => 1083857781, \"target_id\" => 1966522372, \"type\" => \"CurriculumPrerequisite\"), Dict(\"source_id\" => 1770099342, \"target_id\" => 1966522372, \"type\" => \"CurriculumPrerequisite\")], \"name\" => \"ECE 3155\", \"metrics\" => Dict{String, Any}(\"centrality\" => 359, \"complexity\" => 15.0, \"blocking factor\" => 3, \"delay factor\" => 12.0), \"nameSub\" => \"Electronics Lab\", \"id\" => 1966522372, \"credits\" => 1, \"nameCanonical\" => \"\"), Dict(\"curriculum_requisites\" => Dict{String, Any}[Dict(\"source_id\" => 1966522372, \"target_id\" => 4165958389, \"type\" => \"CurriculumStrictCorequisite\"), Dict(\"source_id\" => 2791403937, \"target_id\" => 4165958389, \"type\" => \"CurriculumPrerequisite\")], \"name\" => \"ECE 3355\", \"metrics\" => Dict{String, Any}(\"centrality\" => 266, \"complexity\" => 14.0, \"blocking factor\" => 2, \"delay factor\" => 12.0), \"nameSub\" => \"Electronics\", \"id\" => 4165958389, \"credits\" => 3, \"nameCanonical\" => \"\"), Dict(\"curriculum_requisites\" => Dict{String, Any}[], \"name\" => \" \", \"metrics\" => Dict{String, Any}(\"centrality\" => 0, \"complexity\" => 1.0, \"blocking factor\" => 0, \"delay factor\" => 1.0), \"nameSub\" => \"Concentration Elective 1\", \"id\" => 1056053313, \"credits\" => 3, \"nameCanonical\" => \"\"), Dict(\"curriculum_requisites\" => Dict{String, Any}[Dict(\"source_id\" => 2791403937, \"target_id\" => 2252871414, \"type\" => \"CurriculumPrerequisite\")], \"name\" => \"ECE 3317\", \"metrics\" => Dict{String, Any}(\"centrality\" => 77, \"complexity\" => 13.0, \"blocking factor\" => 2, \"delay factor\" => 11.0), \"nameSub\" => \"Applied EM Waves\", \"id\" => 2252871414, \"credits\" => 3, \"nameCanonical\" => \"\"), Dict(\"curriculum_requisites\" => Dict{String, Any}[], \"name\" => \" \", \"metrics\" => Dict{String, Any}(\"centrality\" => 0, \"complexity\" => 1.0, \"blocking factor\" => 0, \"delay factor\" => 1.0), \"nameSub\" => \"ECE Elective 1\", \"id\" => 2051928090, \"credits\" => 3, \"nameCanonical\" => \"\")], \"id\" => 5), Dict(\"name\" => \"Term 6\", \"curriculum_items\" => Dict{String, Any}[Dict(\"curriculum_requisites\" => Dict{String, Any}[], \"name\" => \"POLS 1337\", \"metrics\" => Dict{String, Any}(\"centrality\" => 0, \"complexity\" => 1.0, \"blocking factor\" => 0, \"delay factor\" => 1.0), \"nameSub\" => \"US Gov: Congress, President and Courts\", \"id\" => 951874139, \"credits\" => 3, \"nameCanonical\" => \"\"), Dict(\"curriculum_requisites\" => Dict{String, Any}[Dict(\"source_id\" => 1051497550, \"target_id\" => 2888554139, \"type\" => \"CurriculumPrerequisite\"), Dict(\"source_id\" => 1177372781, \"target_id\" => 2888554139, \"type\" => \"CurriculumPrerequisite\")], \"name\" => \"INDE 2333\", \"metrics\" => Dict{String, Any}(\"centrality\" => 16, \"complexity\" => 8.0, \"blocking factor\" => 2, \"delay factor\" => 6.0), \"nameSub\" => \"Engineering Statistics\", \"id\" => 2888554139, \"credits\" => 3, \"nameCanonical\" => \"\"), Dict(\"curriculum_requisites\" => Dict{String, Any}[], \"name\" => \" \", \"metrics\" => Dict{String, Any}(\"centrality\" => 0, \"complexity\" => 1.0, \"blocking factor\" => 0, \"delay factor\" => 1.0), \"nameSub\" => \"Elective Lab 1\", \"id\" => 26700799, \"credits\" => 1, \"nameCanonical\" => \"\"), Dict(\"curriculum_requisites\" => Dict{String, Any}[], \"name\" => \" \", \"metrics\" => Dict{String, Any}(\"centrality\" => 0, \"complexity\" => 1.0, \"blocking factor\" => 0, \"delay factor\" => 1.0), \"nameSub\" => \"Concentration Elective 2\", \"id\" => 1745860227, \"credits\" => 3, \"nameCanonical\" => \"\"), Dict(\"curriculum_requisites\" => Dict{String, Any}[Dict(\"source_id\" => 649106202, \"target_id\" => 3368026167, \"type\" => \"CurriculumPrerequisite\")], \"name\" => \"ECE 3340\", \"metrics\" => Dict{String, Any}(\"centrality\" => 76, \"complexity\" => 12.0, \"blocking factor\" => 2, \"delay factor\" => 10.0), \"nameSub\" => \"Numerical Methods\", \"id\" => 3368026167, \"credits\" => 3, \"nameCanonical\" => \"\"), Dict(\"curriculum_requisites\" => Dict{String, Any}[], \"name\" => \" \", \"metrics\" => Dict{String, Any}(\"centrality\" => 0, \"complexity\" => 1.0, \"blocking factor\" => 0, \"delay factor\" => 1.0), \"nameSub\" => \"ECE Elective 2\", \"id\" => 672829327, \"credits\" => 3, \"nameCanonical\" => \"\")], \"id\" => 6), Dict(\"name\" => \"Term 7\", \"curriculum_items\" => Dict{String, Any}[Dict(\"curriculum_requisites\" => Dict{String, Any}[], \"name\" => \"ECON 2304\", \"metrics\" => Dict{String, Any}(\"centrality\" => 0, \"complexity\" => 5.0, \"blocking factor\" => 2, \"delay factor\" => 3.0), \"nameSub\" => \"Microeconomic Principles\", \"id\" => 3224555476, \"credits\" => 3, \"nameCanonical\" => \"\"), Dict(\"curriculum_requisites\" => Dict{String, Any}[Dict(\"source_id\" => 1966522372, \"target_id\" => 1337097032, \"type\" => \"CurriculumPrerequisite\"), Dict(\"source_id\" => 4184346648, \"target_id\" => 1337097032, \"type\" => \"CurriculumPrerequisite\"), Dict(\"source_id\" => 3368026167, \"target_id\" => 1337097032, \"type\" => \"CurriculumPrerequisite\"), Dict(\"source_id\" => 2888554139, \"target_id\" => 1337097032, \"type\" => \"CurriculumPrerequisite\"), Dict(\"source_id\" => 4165958389, \"target_id\" => 1337097032, \"type\" => \"CurriculumPrerequisite\"), Dict(\"source_id\" => 3224555476, \"target_id\" => 1337097032, \"type\" => \"CurriculumCorequisite\"), Dict(\"source_id\" => 2252871414, \"target_id\" => 1337097032, \"type\" => \"CurriculumPrerequisite\")], \"name\" => \"ECE 4335\", \"metrics\" => Dict{String, Any}(\"centrality\" => 779, \"complexity\" => 13.0, \"blocking factor\" => 1, \"delay factor\" => 12.0), \"nameSub\" => \"ECE Design I\", \"id\" => 1337097032, \"credits\" => 3, \"nameCanonical\" => \"\"), Dict(\"curriculum_requisites\" => Dict{String, Any}[], \"name\" => \" \", \"metrics\" => Dict{String, Any}(\"centrality\" => 0, \"complexity\" => 1.0, \"blocking factor\" => 0, \"delay factor\" => 1.0), \"nameSub\" => \"Elective Lab 2\", \"id\" => 1296179090, \"credits\" => 1, \"nameCanonical\" => \"\"), Dict(\"curriculum_requisites\" => Dict{String, Any}[], \"name\" => \" \", \"metrics\" => Dict{String, Any}(\"centrality\" => 0, \"complexity\" => 1.0, \"blocking factor\" => 0, \"delay factor\" => 1.0), \"nameSub\" => \"Concentration Elective 3\", \"id\" => 1105094343, \"credits\" => 3, \"nameCanonical\" => \"\"), Dict(\"curriculum_requisites\" => Dict{String, Any}[], \"name\" => \" \", \"metrics\" => Dict{String, Any}(\"centrality\" => 0, \"complexity\" => 1.0, \"blocking factor\" => 0, \"delay factor\" => 1.0), \"nameSub\" => \"Concentration Elective 4\", \"id\" => 1819261218, \"credits\" => 3, \"nameCanonical\" => \"\"), Dict(\"curriculum_requisites\" => Dict{String, Any}[], \"name\" => \" \", \"metrics\" => Dict{String, Any}(\"centrality\" => 0, \"complexity\" => 1.0, \"blocking factor\" => 0, \"delay factor\" => 1.0), \"nameSub\" => \"Technical Elective\", \"id\" => 2529896330, \"credits\" => 3, \"nameCanonical\" => \"\")], \"id\" => 7), Dict(\"name\" => \"Term 8\", \"curriculum_items\" => Dict{String, Any}[Dict(\"curriculum_requisites\" => Dict{String, Any}[], \"name\" => \" \", \"metrics\" => Dict{String, Any}(\"centrality\" => 0, \"complexity\" => 1.0, \"blocking factor\" => 0, \"delay factor\" => 1.0), \"nameSub\" => \"Lang., Phil. & Culture Core\", \"id\" => 1626752824, \"credits\" => 3, \"nameCanonical\" => \"\"), Dict(\"curriculum_requisites\" => Dict{String, Any}[Dict(\"source_id\" => 1337097032, \"target_id\" => 1158404973, \"type\" => \"CurriculumPrerequisite\")], \"name\" => \"ECE 4336\", \"metrics\" => Dict{String, Any}(\"centrality\" => 0, \"complexity\" => 12.0, \"blocking factor\" => 0, \"delay factor\" => 12.0), \"nameSub\" => \"ECE Design II\", \"id\" => 1158404973, \"credits\" => 3, \"nameCanonical\" => \"\"), Dict(\"curriculum_requisites\" => Dict{String, Any}[], \"name\" => \" \", \"metrics\" => Dict{String, Any}(\"centrality\" => 0, \"complexity\" => 1.0, \"blocking factor\" => 0, \"delay factor\" => 1.0), \"nameSub\" => \"Elective Lab 3\", \"id\" => 3091492697, \"credits\" => 1, \"nameCanonical\" => \"\"), Dict(\"curriculum_requisites\" => Dict{String, Any}[], \"name\" => \" \", \"metrics\" => Dict{String, Any}(\"centrality\" => 0, \"complexity\" => 1.0, \"blocking factor\" => 0, \"delay factor\" => 1.0), \"nameSub\" => \"Concentration Elective 5\", \"id\" => 2070124031, \"credits\" => 3, \"nameCanonical\" => \"\"), Dict(\"curriculum_requisites\" => Dict{String, Any}[], \"name\" => \" \", \"metrics\" => Dict{String, Any}(\"centrality\" => 0, \"complexity\" => 1.0, \"blocking factor\" => 0, \"delay factor\" => 1.0), \"nameSub\" => \"Concentration Elective 6\", \"id\" => 1716266479, \"credits\" => 3, \"nameCanonical\" => \"\"), Dict(\"curriculum_requisites\" => Dict{String, Any}[], \"name\" => \" \", \"metrics\" => Dict{String, Any}(\"centrality\" => 0, \"complexity\" => 1.0, \"blocking factor\" => 0, \"delay factor\" => 1.0), \"nameSub\" => \"Concentration Elective 7\", \"id\" => 2584207151, \"credits\" => 3, \"nameCanonical\" => \"\"), Dict(\"curriculum_requisites\" => Dict{String, Any}[], \"name\" => \" \", \"metrics\" => Dict{String, Any}(\"centrality\" => 0, \"complexity\" => 1.0, \"blocking factor\" => 0, \"delay factor\" => 1.0), \"nameSub\" => \"Elective Lab 4\", \"id\" => 2450156574, \"credits\" => 1, \"nameCanonical\" => \"\")], \"id\" => 8)], \"institution\" => \"ACME Univ.\")), nothing)), Set{String}(), nothing, WebIO.Asset[], Dict{Any, Any}(), WebIO.ConnectionPool(Channel{Any}(32), Set{WebIO.AbstractConnection}(), Condition(Base.InvasiveLinkedList{Task}(Task (runnable) @0x000000017931b0f0, Task (runnable) @0x000000017931b0f0), Base.AlwaysLockedST(1))), WebIO.JSString[])"
      ]
     },
     "execution_count": 2,
     "metadata": {
      "application/vnd.webio.node+json": {
       "kernelId": "03baf36f-77b1-4e7b-af16-f5691a6c766f"
      }
     },
     "output_type": "execute_result"
    }
   ],
   "source": [
    "dp = read_csv(\"Sample_EE_degree_plan.csv\")\n",
    "visualize(dp, notebook=true)"
   ]
  },
  {
   "cell_type": "code",
   "execution_count": 3,
   "metadata": {},
   "outputs": [
    {
     "name": "stdout",
     "output_type": "stream",
     "text": [
      "\n",
      "Curriculum: A Real EE Program\n",
      "Degree Plan: 2018-19 Plan\n",
      "  total credit hours = 129\n",
      "  number of terms = 8\n",
      "  max. credits in a term = 17, in term 2\n",
      "  min. credits in a term = 15, in term 1\n",
      "  avg. credits per term = 16.125, with std. dev. = 0.5994789404140899\n",
      "\n"
     ]
    }
   ],
   "source": [
    "println(String(take!(basic_metrics(dp))))"
   ]
  },
  {
   "cell_type": "code",
   "execution_count": 4,
   "metadata": {
    "scrolled": false
   },
   "outputs": [
    {
     "name": "stdout",
     "output_type": "stream",
     "text": [
      "Curriculum A Real EE Program is valid\n"
     ]
    },
    {
     "data": {
      "application/vnd.webio.node+json": {
       "children": [
        {
         "children": [
          ""
         ],
         "instanceArgs": {
          "namespace": "html",
          "tag": "iframe"
         },
         "nodeType": "DOM",
         "props": {
          "events": {
           "load": "(function (){this.contentWindow.postMessage({\"options\":{\"hideTerms\":true,\"edit\":false},\"curriculum\":{\"name\":\"A Real EE Program\",\"dp_name\":\"\",\"curriculum_terms\":[{\"name\":\"Term 1\",\"curriculum_items\":[{\"curriculum_requisites\":[],\"name\":\"ENGL 1303\",\"metrics\":{\"centrality\":0,\"complexity\":13.0,\"blocking factor\":6,\"delay factor\":7.0},\"nameSub\":\"First Year Writing I\",\"id\":1324171406,\"credits\":3,\"nameCanonical\":\"\"},{\"curriculum_requisites\":[],\"name\":\"CHEM 1331\",\"metrics\":{\"centrality\":0,\"complexity\":3.0,\"blocking factor\":1,\"delay factor\":2.0},\"nameSub\":\"Fund. of Chemistry\",\"id\":1351802580,\"credits\":3,\"nameCanonical\":\"\"},{\"curriculum_requisites\":[{\"source_id\":1351802580,\"target_id\":2195546016,\"type\":\"CurriculumCorequisite\"}],\"name\":\"CHEM 1111\",\"metrics\":{\"centrality\":0,\"complexity\":2.0,\"blocking factor\":0,\"delay factor\":2.0},\"nameSub\":\"Fund. of Chemistry Lab\",\"id\":2195546016,\"credits\":1,\"nameCanonical\":\"\"},{\"curriculum_requisites\":[],\"name\":\"POLS 1336\",\"metrics\":{\"centrality\":0,\"complexity\":1.0,\"blocking factor\":0,\"delay factor\":1.0},\"nameSub\":\"US and TX Constitutions & Politics\",\"id\":1541543378,\"credits\":3,\"nameCanonical\":\"\"},{\"curriculum_requisites\":[],\"name\":\"POLS 1337\",\"metrics\":{\"centrality\":0,\"complexity\":1.0,\"blocking factor\":0,\"delay factor\":1.0},\"nameSub\":\"US Gov: Congress, President and Courts\",\"id\":951874139,\"credits\":3,\"nameCanonical\":\"\"},{\"curriculum_requisites\":[],\"name\":\"HIST 1377\",\"metrics\":{\"centrality\":0,\"complexity\":1.0,\"blocking factor\":0,\"delay factor\":1.0},\"nameSub\":\"The US to 1877\",\"id\":3824069494,\"credits\":3,\"nameCanonical\":\"\"},{\"curriculum_requisites\":[],\"name\":\"HIST 1378\",\"metrics\":{\"centrality\":0,\"complexity\":1.0,\"blocking factor\":0,\"delay factor\":1.0},\"nameSub\":\"US Since 1877\",\"id\":2731496025,\"credits\":3,\"nameCanonical\":\"\"}],\"id\":1},{\"name\":\"Term 2\",\"curriculum_items\":[{\"curriculum_requisites\":[],\"name\":\"MATH 1431\",\"metrics\":{\"centrality\":0,\"complexity\":35.0,\"blocking factor\":23,\"delay factor\":12.0},\"nameSub\":\"Calculus I\",\"id\":4175014649,\"credits\":4,\"nameCanonical\":\"\"},{\"curriculum_requisites\":[{\"source_id\":4175014649,\"target_id\":1764441140,\"type\":\"CurriculumCorequisite\"}],\"name\":\"ENGI 1100\",\"metrics\":{\"centrality\":85,\"complexity\":25.0,\"blocking factor\":15,\"delay factor\":10.0},\"nameSub\":\"Intro to Engr.\",\"id\":1764441140,\"credits\":1,\"nameCanonical\":\"\"},{\"curriculum_requisites\":[{\"source_id\":1324171406,\"target_id\":3195103903,\"type\":\"CurriculumPrerequisite\"}],\"name\":\"ENGL 1304\",\"metrics\":{\"centrality\":13,\"complexity\":12.0,\"blocking factor\":5,\"delay factor\":7.0},\"nameSub\":\"First Year Writing II\",\"id\":3195103903,\"credits\":3,\"nameCanonical\":\"\"},{\"curriculum_requisites\":[],\"name\":\"ECON 2304\",\"metrics\":{\"centrality\":0,\"complexity\":5.0,\"blocking factor\":2,\"delay factor\":3.0},\"nameSub\":\"Microeconomic Principles\",\"id\":3224555476,\"credits\":3,\"nameCanonical\":\"\"},{\"curriculum_requisites\":[],\"name\":\" \",\"metrics\":{\"centrality\":0,\"complexity\":1.0,\"blocking factor\":0,\"delay factor\":1.0},\"nameSub\":\"Concentration Elective 1\",\"id\":1056053313,\"credits\":3,\"nameCanonical\":\"\"},{\"curriculum_requisites\":[],\"name\":\" \",\"metrics\":{\"centrality\":0,\"complexity\":1.0,\"blocking factor\":0,\"delay factor\":1.0},\"nameSub\":\"Concentration Elective 2\",\"id\":1745860227,\"credits\":3,\"nameCanonical\":\"\"},{\"curriculum_requisites\":[],\"name\":\" \",\"metrics\":{\"centrality\":0,\"complexity\":1.0,\"blocking factor\":0,\"delay factor\":1.0},\"nameSub\":\"Concentration Elective 3\",\"id\":1105094343,\"credits\":3,\"nameCanonical\":\"\"}],\"id\":2},{\"name\":\"Term 3\",\"curriculum_items\":[{\"curriculum_requisites\":[],\"name\":\" \",\"metrics\":{\"centrality\":0,\"complexity\":1.0,\"blocking factor\":0,\"delay factor\":1.0},\"nameSub\":\"Concentration Elective 4\",\"id\":1819261218,\"credits\":3,\"nameCanonical\":\"\"},{\"curriculum_requisites\":[{\"source_id\":4175014649,\"target_id\":1051497550,\"type\":\"CurriculumPrerequisite\"},{\"source_id\":1764441140,\"target_id\":1051497550,\"type\":\"CurriculumPrerequisite\"}],\"name\":\"ENGI 1331\",\"metrics\":{\"centrality\":160,\"complexity\":24.0,\"blocking factor\":14,\"delay factor\":10.0},\"nameSub\":\"Computing & Prob. Solving\",\"id\":1051497550,\"credits\":3,\"nameCanonical\":\"\"},{\"curriculum_requisites\":[{\"source_id\":4175014649,\"target_id\":1177372781,\"type\":\"CurriculumPrerequisite\"}],\"name\":\"MATH 1432\",\"metrics\":{\"centrality\":607,\"complexity\":32.0,\"blocking factor\":20,\"delay factor\":12.0},\"nameSub\":\"Calculus II\",\"id\":1177372781,\"credits\":4,\"nameCanonical\":\"\"},{\"curriculum_requisites\":[{\"source_id\":1177372781,\"target_id\":2834873484,\"type\":\"CurriculumCorequisite\"}],\"name\":\"PHYS 1321\",\"metrics\":{\"centrality\":217,\"complexity\":28.0,\"blocking factor\":16,\"delay factor\":12.0},\"nameSub\":\"University Physics I\",\"id\":2834873484,\"credits\":3,\"nameCanonical\":\"\"},{\"curriculum_requisites\":[{\"source_id\":2834873484,\"target_id\":3178954113,\"type\":\"CurriculumCorequisite\"}],\"name\":\"PHYS 1121\",\"metrics\":{\"centrality\":0,\"complexity\":4.0,\"blocking factor\":0,\"delay factor\":4.0},\"nameSub\":\"Physics Lab I\",\"id\":3178954113,\"credits\":1,\"nameCanonical\":\"\"},{\"curriculum_requisites\":[],\"name\":\" \",\"metrics\":{\"centrality\":0,\"complexity\":1.0,\"blocking factor\":0,\"delay factor\":1.0},\"nameSub\":\"Concentration Elective 5\",\"id\":2070124031,\"credits\":3,\"nameCanonical\":\"\"},{\"curriculum_requisites\":[],\"name\":\" \",\"metrics\":{\"centrality\":0,\"complexity\":1.0,\"blocking factor\":0,\"delay factor\":1.0},\"nameSub\":\"Concentration Elective 6\",\"id\":1716266479,\"credits\":3,\"nameCanonical\":\"\"}],\"id\":3},{\"name\":\"Term 4\",\"curriculum_items\":[{\"curriculum_requisites\":[],\"name\":\" \",\"metrics\":{\"centrality\":0,\"complexity\":1.0,\"blocking factor\":0,\"delay factor\":1.0},\"nameSub\":\"Concentration Elective 7\",\"id\":2584207151,\"credits\":3,\"nameCanonical\":\"\"},{\"curriculum_requisites\":[{\"source_id\":1051497550,\"target_id\":2888554139,\"type\":\"CurriculumPrerequisite\"},{\"source_id\":1177372781,\"target_id\":2888554139,\"type\":\"CurriculumPrerequisite\"}],\"name\":\"INDE 2333\",\"metrics\":{\"centrality\":16,\"complexity\":8.0,\"blocking factor\":2,\"delay factor\":6.0},\"nameSub\":\"Engineering Statistics\",\"id\":2888554139,\"credits\":3,\"nameCanonical\":\"\"},{\"curriculum_requisites\":[{\"source_id\":1177372781,\"target_id\":2258215799,\"type\":\"CurriculumPrerequisite\"}],\"name\":\"MATH 2433\",\"metrics\":{\"centrality\":292,\"complexity\":27.0,\"blocking factor\":15,\"delay factor\":12.0},\"nameSub\":\"Calculus III\",\"id\":2258215799,\"credits\":3,\"nameCanonical\":\"\"},{\"curriculum_requisites\":[{\"source_id\":2258215799,\"target_id\":3718777895,\"type\":\"CurriculumCorequisite\"},{\"source_id\":2834873484,\"target_id\":3718777895,\"type\":\"CurriculumPrerequisite\"}],\"name\":\"PHYS 1322\",\"metrics\":{\"centrality\":426,\"complexity\":26.0,\"blocking factor\":14,\"delay factor\":12.0},\"nameSub\":\"University Physics II\",\"id\":3718777895,\"credits\":3,\"nameCanonical\":\"\"},{\"curriculum_requisites\":[{\"source_id\":3718777895,\"target_id\":3059602497,\"type\":\"CurriculumCorequisite\"}],\"name\":\"PHYS 1122\",\"metrics\":{\"centrality\":250,\"complexity\":25.0,\"blocking factor\":13,\"delay factor\":12.0},\"nameSub\":\"Physics Lab II\",\"id\":3059602497,\"credits\":1,\"nameCanonical\":\"\"},{\"curriculum_requisites\":[{\"source_id\":1177372781,\"target_id\":947037850,\"type\":\"CurriculumPrerequisite\"}],\"name\":\"MATH 3321\",\"metrics\":{\"centrality\":93,\"complexity\":23.0,\"blocking factor\":13,\"delay factor\":10.0},\"nameSub\":\"Engineering Math\",\"id\":947037850,\"credits\":3,\"nameCanonical\":\"\"},{\"curriculum_requisites\":[{\"source_id\":3718777895,\"target_id\":2138760932,\"type\":\"CurriculumCorequisite\"},{\"source_id\":3059602497,\"target_id\":2138760932,\"type\":\"CurriculumCorequisite\"},{\"source_id\":2258215799,\"target_id\":2138760932,\"type\":\"CurriculumCorequisite\"},{\"source_id\":1051497550,\"target_id\":2138760932,\"type\":\"CurriculumPrerequisite\"},{\"source_id\":947037850,\"target_id\":2138760932,\"type\":\"CurriculumCorequisite\"}],\"name\":\"ECE 2201\",\"metrics\":{\"centrality\":677,\"complexity\":24.0,\"blocking factor\":12,\"delay factor\":12.0},\"nameSub\":\"Circuit Analysis I\",\"id\":2138760932,\"credits\":3,\"nameCanonical\":\"\"}],\"id\":4},{\"name\":\"Term 5\",\"curriculum_items\":[{\"curriculum_requisites\":[],\"name\":\" \",\"metrics\":{\"centrality\":0,\"complexity\":1.0,\"blocking factor\":0,\"delay factor\":1.0},\"nameSub\":\"Creative Arts Core\",\"id\":848294223,\"credits\":3,\"nameCanonical\":\"\"},{\"curriculum_requisites\":[{\"source_id\":2138760932,\"target_id\":3887805990,\"type\":\"CurriculumPrerequisite\"}],\"name\":\"ECE 2202\",\"metrics\":{\"centrality\":393,\"complexity\":20.0,\"blocking factor\":8,\"delay factor\":12.0},\"nameSub\":\"Circuit Analysis II\",\"id\":3887805990,\"credits\":3,\"nameCanonical\":\"\"},{\"curriculum_requisites\":[{\"source_id\":3059602497,\"target_id\":1083857781,\"type\":\"CurriculumPrerequisite\"},{\"source_id\":3887805990,\"target_id\":1083857781,\"type\":\"CurriculumCorequisite\"}],\"name\":\"ECE 2100\",\"metrics\":{\"centrality\":295,\"complexity\":17.0,\"blocking factor\":5,\"delay factor\":12.0},\"nameSub\":\"Circuits Lab\",\"id\":1083857781,\"credits\":1,\"nameCanonical\":\"\"},{\"curriculum_requisites\":[{\"source_id\":3195103903,\"target_id\":1770099342,\"type\":\"CurriculumPrerequisite\"},{\"source_id\":2138760932,\"target_id\":1770099342,\"type\":\"CurriculumPrerequisite\"}],\"name\":\"ENGI 2304\",\"metrics\":{\"centrality\":159,\"complexity\":15.0,\"blocking factor\":4,\"delay factor\":11.0},\"nameSub\":\"Technical Communication\",\"id\":1770099342,\"credits\":3,\"nameCanonical\":\"\"},{\"curriculum_requisites\":[{\"source_id\":947037850,\"target_id\":649106202,\"type\":\"CurriculumPrerequisite\"},{\"source_id\":2138760932,\"target_id\":649106202,\"type\":\"CurriculumPrerequisite\"}],\"name\":\"ECE 3331\",\"metrics\":{\"centrality\":152,\"complexity\":14.0,\"blocking factor\":4,\"delay factor\":10.0},\"nameSub\":\"Programming Apps in ECE\",\"id\":649106202,\"credits\":3,\"nameCanonical\":\"\"},{\"curriculum_requisites\":[{\"source_id\":3887805990,\"target_id\":2791403937,\"type\":\"CurriculumCorequisite\"}],\"name\":\"ECE 3337\",\"metrics\":{\"centrality\":154,\"complexity\":15.0,\"blocking factor\":4,\"delay factor\":11.0},\"nameSub\":\"Signals & Systems Analysis\",\"id\":2791403937,\"credits\":3,\"nameCanonical\":\"\"},{\"curriculum_requisites\":[{\"source_id\":1083857781,\"target_id\":4184346648,\"type\":\"CurriculumCorequisite\"},{\"source_id\":649106202,\"target_id\":4184346648,\"type\":\"CurriculumCorequisite\"}],\"name\":\"ECE 3436\",\"metrics\":{\"centrality\":171,\"complexity\":13.0,\"blocking factor\":2,\"delay factor\":11.0},\"nameSub\":\"Microprocessors\",\"id\":4184346648,\"credits\":3,\"nameCanonical\":\"\"}],\"id\":5},{\"name\":\"Term 6\",\"curriculum_items\":[{\"curriculum_requisites\":[],\"name\":\" \",\"metrics\":{\"centrality\":0,\"complexity\":1.0,\"blocking factor\":0,\"delay factor\":1.0},\"nameSub\":\"ECE Elective 1\",\"id\":2051928090,\"credits\":3,\"nameCanonical\":\"\"},{\"curriculum_requisites\":[{\"source_id\":1083857781,\"target_id\":1966522372,\"type\":\"CurriculumPrerequisite\"},{\"source_id\":1770099342,\"target_id\":1966522372,\"type\":\"CurriculumPrerequisite\"}],\"name\":\"ECE 3155\",\"metrics\":{\"centrality\":359,\"complexity\":15.0,\"blocking factor\":3,\"delay factor\":12.0},\"nameSub\":\"Electronics Lab\",\"id\":1966522372,\"credits\":1,\"nameCanonical\":\"\"},{\"curriculum_requisites\":[{\"source_id\":1966522372,\"target_id\":4165958389,\"type\":\"CurriculumStrictCorequisite\"},{\"source_id\":2791403937,\"target_id\":4165958389,\"type\":\"CurriculumPrerequisite\"}],\"name\":\"ECE 3355\",\"metrics\":{\"centrality\":266,\"complexity\":14.0,\"blocking factor\":2,\"delay factor\":12.0},\"nameSub\":\"Electronics\",\"id\":4165958389,\"credits\":3,\"nameCanonical\":\"\"},{\"curriculum_requisites\":[{\"source_id\":2791403937,\"target_id\":2252871414,\"type\":\"CurriculumPrerequisite\"}],\"name\":\"ECE 3317\",\"metrics\":{\"centrality\":77,\"complexity\":13.0,\"blocking factor\":2,\"delay factor\":11.0},\"nameSub\":\"Applied EM Waves\",\"id\":2252871414,\"credits\":3,\"nameCanonical\":\"\"},{\"curriculum_requisites\":[{\"source_id\":649106202,\"target_id\":3368026167,\"type\":\"CurriculumPrerequisite\"}],\"name\":\"ECE 3340\",\"metrics\":{\"centrality\":76,\"complexity\":12.0,\"blocking factor\":2,\"delay factor\":10.0},\"nameSub\":\"Numerical Methods\",\"id\":3368026167,\"credits\":3,\"nameCanonical\":\"\"},{\"curriculum_requisites\":[],\"name\":\" \",\"metrics\":{\"centrality\":0,\"complexity\":1.0,\"blocking factor\":0,\"delay factor\":1.0},\"nameSub\":\"ECE Elective 2\",\"id\":672829327,\"credits\":3,\"nameCanonical\":\"\"},{\"curriculum_requisites\":[],\"name\":\" \",\"metrics\":{\"centrality\":0,\"complexity\":1.0,\"blocking factor\":0,\"delay factor\":1.0},\"nameSub\":\"Elective Lab 1\",\"id\":26700799,\"credits\":1,\"nameCanonical\":\"\"},{\"curriculum_requisites\":[],\"name\":\" \",\"metrics\":{\"centrality\":0,\"complexity\":1.0,\"blocking factor\":0,\"delay factor\":1.0},\"nameSub\":\"Elective Lab 2\",\"id\":1296179090,\"credits\":1,\"nameCanonical\":\"\"},{\"curriculum_requisites\":[],\"name\":\" \",\"metrics\":{\"centrality\":0,\"complexity\":1.0,\"blocking factor\":0,\"delay factor\":1.0},\"nameSub\":\"Elective Lab 3\",\"id\":3091492697,\"credits\":1,\"nameCanonical\":\"\"},{\"curriculum_requisites\":[],\"name\":\" \",\"metrics\":{\"centrality\":0,\"complexity\":1.0,\"blocking factor\":0,\"delay factor\":1.0},\"nameSub\":\"Elective Lab 4\",\"id\":2450156574,\"credits\":1,\"nameCanonical\":\"\"}],\"id\":6},{\"name\":\"Term 7\",\"curriculum_items\":[{\"curriculum_requisites\":[],\"name\":\" \",\"metrics\":{\"centrality\":0,\"complexity\":1.0,\"blocking factor\":0,\"delay factor\":1.0},\"nameSub\":\"Lang., Phil. & Culture Core\",\"id\":1626752824,\"credits\":3,\"nameCanonical\":\"\"},{\"curriculum_requisites\":[{\"source_id\":1966522372,\"target_id\":1337097032,\"type\":\"CurriculumPrerequisite\"},{\"source_id\":4184346648,\"target_id\":1337097032,\"type\":\"CurriculumPrerequisite\"},{\"source_id\":3368026167,\"target_id\":1337097032,\"type\":\"CurriculumPrerequisite\"},{\"source_id\":2888554139,\"target_id\":1337097032,\"type\":\"CurriculumPrerequisite\"},{\"source_id\":4165958389,\"target_id\":1337097032,\"type\":\"CurriculumPrerequisite\"},{\"source_id\":3224555476,\"target_id\":1337097032,\"type\":\"CurriculumCorequisite\"},{\"source_id\":2252871414,\"target_id\":1337097032,\"type\":\"CurriculumPrerequisite\"}],\"name\":\"ECE 4335\",\"metrics\":{\"centrality\":779,\"complexity\":13.0,\"blocking factor\":1,\"delay factor\":12.0},\"nameSub\":\"ECE Design I\",\"id\":1337097032,\"credits\":3,\"nameCanonical\":\"\"},{\"curriculum_requisites\":[],\"name\":\" \",\"metrics\":{\"centrality\":0,\"complexity\":1.0,\"blocking factor\":0,\"delay factor\":1.0},\"nameSub\":\"Technical Elective\",\"id\":2529896330,\"credits\":3,\"nameCanonical\":\"\"}],\"id\":7},{\"name\":\"Term 8\",\"curriculum_items\":[{\"curriculum_requisites\":[{\"source_id\":1337097032,\"target_id\":1158404973,\"type\":\"CurriculumPrerequisite\"}],\"name\":\"ECE 4336\",\"metrics\":{\"centrality\":0,\"complexity\":12.0,\"blocking factor\":0,\"delay factor\":12.0},\"nameSub\":\"ECE Design II\",\"id\":1158404973,\"credits\":3,\"nameCanonical\":\"\"}],\"id\":8}],\"institution\":\"ACME Univ.\"}},\"*\"); window.removeEventListener(\"message\",window.messageReceived); window.messageReceived=(function (event){return (event.data.curriculum!==undefined) ? (WebIO.setval({\"name\":\"curriculum-data\",\"scope\":\"8021538582331169813\",\"id\":\"4021725585851844889\",\"type\":\"observable\"},event.data.curriculum)) : undefined}); return window.addEventListener(\"message\",window.messageReceived)})"
          },
          "id": "curriculum",
          "src": "https://curricula-api-embed.damoursystems.com/",
          "style": {
           "border": "none",
           "height": "100vh",
           "margin": "0",
           "padding": "0",
           "width": "100%"
          }
         },
         "type": "node"
        }
       ],
       "instanceArgs": {
        "handlers": {},
        "id": "8021538582331169813",
        "imports": {
         "data": [],
         "type": "async_block"
        },
        "mount_callbacks": [],
        "observables": {
         "curriculum-data": {
          "id": "4021725585851844889",
          "sync": true,
          "value": {
           "curriculum": {
            "curriculum_terms": [
             {
              "curriculum_items": [
               {
                "credits": 3,
                "curriculum_requisites": [],
                "id": 1324171406,
                "metrics": {
                 "blocking factor": 6,
                 "centrality": 0,
                 "complexity": 13,
                 "delay factor": 7
                },
                "name": "ENGL 1303",
                "nameCanonical": "",
                "nameSub": "First Year Writing I"
               },
               {
                "credits": 3,
                "curriculum_requisites": [],
                "id": 1351802580,
                "metrics": {
                 "blocking factor": 1,
                 "centrality": 0,
                 "complexity": 3,
                 "delay factor": 2
                },
                "name": "CHEM 1331",
                "nameCanonical": "",
                "nameSub": "Fund. of Chemistry"
               },
               {
                "credits": 1,
                "curriculum_requisites": [
                 {
                  "source_id": 1351802580,
                  "target_id": 2195546016,
                  "type": "CurriculumCorequisite"
                 }
                ],
                "id": 2195546016,
                "metrics": {
                 "blocking factor": 0,
                 "centrality": 0,
                 "complexity": 2,
                 "delay factor": 2
                },
                "name": "CHEM 1111",
                "nameCanonical": "",
                "nameSub": "Fund. of Chemistry Lab"
               },
               {
                "credits": 3,
                "curriculum_requisites": [],
                "id": 1541543378,
                "metrics": {
                 "blocking factor": 0,
                 "centrality": 0,
                 "complexity": 1,
                 "delay factor": 1
                },
                "name": "POLS 1336",
                "nameCanonical": "",
                "nameSub": "US and TX Constitutions & Politics"
               },
               {
                "credits": 3,
                "curriculum_requisites": [],
                "id": 951874139,
                "metrics": {
                 "blocking factor": 0,
                 "centrality": 0,
                 "complexity": 1,
                 "delay factor": 1
                },
                "name": "POLS 1337",
                "nameCanonical": "",
                "nameSub": "US Gov: Congress, President and Courts"
               },
               {
                "credits": 3,
                "curriculum_requisites": [],
                "id": 3824069494,
                "metrics": {
                 "blocking factor": 0,
                 "centrality": 0,
                 "complexity": 1,
                 "delay factor": 1
                },
                "name": "HIST 1377",
                "nameCanonical": "",
                "nameSub": "The US to 1877"
               },
               {
                "credits": 3,
                "curriculum_requisites": [],
                "id": 2731496025,
                "metrics": {
                 "blocking factor": 0,
                 "centrality": 0,
                 "complexity": 1,
                 "delay factor": 1
                },
                "name": "HIST 1378",
                "nameCanonical": "",
                "nameSub": "US Since 1877"
               }
              ],
              "id": 1,
              "name": "Term 1"
             },
             {
              "curriculum_items": [
               {
                "credits": 4,
                "curriculum_requisites": [],
                "id": 4175014649,
                "metrics": {
                 "blocking factor": 23,
                 "centrality": 0,
                 "complexity": 35,
                 "delay factor": 12
                },
                "name": "MATH 1431",
                "nameCanonical": "",
                "nameSub": "Calculus I"
               },
               {
                "credits": 1,
                "curriculum_requisites": [
                 {
                  "source_id": 4175014649,
                  "target_id": 1764441140,
                  "type": "CurriculumCorequisite"
                 }
                ],
                "id": 1764441140,
                "metrics": {
                 "blocking factor": 15,
                 "centrality": 85,
                 "complexity": 25,
                 "delay factor": 10
                },
                "name": "ENGI 1100",
                "nameCanonical": "",
                "nameSub": "Intro to Engr."
               },
               {
                "credits": 3,
                "curriculum_requisites": [
                 {
                  "source_id": 1324171406,
                  "target_id": 3195103903,
                  "type": "CurriculumPrerequisite"
                 }
                ],
                "id": 3195103903,
                "metrics": {
                 "blocking factor": 5,
                 "centrality": 13,
                 "complexity": 12,
                 "delay factor": 7
                },
                "name": "ENGL 1304",
                "nameCanonical": "",
                "nameSub": "First Year Writing II"
               },
               {
                "credits": 3,
                "curriculum_requisites": [],
                "id": 3224555476,
                "metrics": {
                 "blocking factor": 2,
                 "centrality": 0,
                 "complexity": 5,
                 "delay factor": 3
                },
                "name": "ECON 2304",
                "nameCanonical": "",
                "nameSub": "Microeconomic Principles"
               },
               {
                "credits": 3,
                "curriculum_requisites": [],
                "id": 1056053313,
                "metrics": {
                 "blocking factor": 0,
                 "centrality": 0,
                 "complexity": 1,
                 "delay factor": 1
                },
                "name": " ",
                "nameCanonical": "",
                "nameSub": "Concentration Elective 1"
               },
               {
                "credits": 3,
                "curriculum_requisites": [],
                "id": 1745860227,
                "metrics": {
                 "blocking factor": 0,
                 "centrality": 0,
                 "complexity": 1,
                 "delay factor": 1
                },
                "name": " ",
                "nameCanonical": "",
                "nameSub": "Concentration Elective 2"
               },
               {
                "credits": 3,
                "curriculum_requisites": [],
                "id": 1105094343,
                "metrics": {
                 "blocking factor": 0,
                 "centrality": 0,
                 "complexity": 1,
                 "delay factor": 1
                },
                "name": " ",
                "nameCanonical": "",
                "nameSub": "Concentration Elective 3"
               }
              ],
              "id": 2,
              "name": "Term 2"
             },
             {
              "curriculum_items": [
               {
                "credits": 3,
                "curriculum_requisites": [],
                "id": 1819261218,
                "metrics": {
                 "blocking factor": 0,
                 "centrality": 0,
                 "complexity": 1,
                 "delay factor": 1
                },
                "name": " ",
                "nameCanonical": "",
                "nameSub": "Concentration Elective 4"
               },
               {
                "credits": 3,
                "curriculum_requisites": [
                 {
                  "source_id": 4175014649,
                  "target_id": 1051497550,
                  "type": "CurriculumPrerequisite"
                 },
                 {
                  "source_id": 1764441140,
                  "target_id": 1051497550,
                  "type": "CurriculumPrerequisite"
                 }
                ],
                "id": 1051497550,
                "metrics": {
                 "blocking factor": 14,
                 "centrality": 160,
                 "complexity": 24,
                 "delay factor": 10
                },
                "name": "ENGI 1331",
                "nameCanonical": "",
                "nameSub": "Computing & Prob. Solving"
               },
               {
                "credits": 4,
                "curriculum_requisites": [
                 {
                  "source_id": 4175014649,
                  "target_id": 1177372781,
                  "type": "CurriculumPrerequisite"
                 }
                ],
                "id": 1177372781,
                "metrics": {
                 "blocking factor": 20,
                 "centrality": 607,
                 "complexity": 32,
                 "delay factor": 12
                },
                "name": "MATH 1432",
                "nameCanonical": "",
                "nameSub": "Calculus II"
               },
               {
                "credits": 3,
                "curriculum_requisites": [
                 {
                  "source_id": 1177372781,
                  "target_id": 2834873484,
                  "type": "CurriculumCorequisite"
                 }
                ],
                "id": 2834873484,
                "metrics": {
                 "blocking factor": 16,
                 "centrality": 217,
                 "complexity": 28,
                 "delay factor": 12
                },
                "name": "PHYS 1321",
                "nameCanonical": "",
                "nameSub": "University Physics I"
               },
               {
                "credits": 1,
                "curriculum_requisites": [
                 {
                  "source_id": 2834873484,
                  "target_id": 3178954113,
                  "type": "CurriculumCorequisite"
                 }
                ],
                "id": 3178954113,
                "metrics": {
                 "blocking factor": 0,
                 "centrality": 0,
                 "complexity": 4,
                 "delay factor": 4
                },
                "name": "PHYS 1121",
                "nameCanonical": "",
                "nameSub": "Physics Lab I"
               },
               {
                "credits": 3,
                "curriculum_requisites": [],
                "id": 2070124031,
                "metrics": {
                 "blocking factor": 0,
                 "centrality": 0,
                 "complexity": 1,
                 "delay factor": 1
                },
                "name": " ",
                "nameCanonical": "",
                "nameSub": "Concentration Elective 5"
               },
               {
                "credits": 3,
                "curriculum_requisites": [],
                "id": 1716266479,
                "metrics": {
                 "blocking factor": 0,
                 "centrality": 0,
                 "complexity": 1,
                 "delay factor": 1
                },
                "name": " ",
                "nameCanonical": "",
                "nameSub": "Concentration Elective 6"
               }
              ],
              "id": 3,
              "name": "Term 3"
             },
             {
              "curriculum_items": [
               {
                "credits": 3,
                "curriculum_requisites": [],
                "id": 2584207151,
                "metrics": {
                 "blocking factor": 0,
                 "centrality": 0,
                 "complexity": 1,
                 "delay factor": 1
                },
                "name": " ",
                "nameCanonical": "",
                "nameSub": "Concentration Elective 7"
               },
               {
                "credits": 3,
                "curriculum_requisites": [
                 {
                  "source_id": 1051497550,
                  "target_id": 2888554139,
                  "type": "CurriculumPrerequisite"
                 },
                 {
                  "source_id": 1177372781,
                  "target_id": 2888554139,
                  "type": "CurriculumPrerequisite"
                 }
                ],
                "id": 2888554139,
                "metrics": {
                 "blocking factor": 2,
                 "centrality": 16,
                 "complexity": 8,
                 "delay factor": 6
                },
                "name": "INDE 2333",
                "nameCanonical": "",
                "nameSub": "Engineering Statistics"
               },
               {
                "credits": 3,
                "curriculum_requisites": [
                 {
                  "source_id": 1177372781,
                  "target_id": 2258215799,
                  "type": "CurriculumPrerequisite"
                 }
                ],
                "id": 2258215799,
                "metrics": {
                 "blocking factor": 15,
                 "centrality": 292,
                 "complexity": 27,
                 "delay factor": 12
                },
                "name": "MATH 2433",
                "nameCanonical": "",
                "nameSub": "Calculus III"
               },
               {
                "credits": 3,
                "curriculum_requisites": [
                 {
                  "source_id": 2258215799,
                  "target_id": 3718777895,
                  "type": "CurriculumCorequisite"
                 },
                 {
                  "source_id": 2834873484,
                  "target_id": 3718777895,
                  "type": "CurriculumPrerequisite"
                 }
                ],
                "id": 3718777895,
                "metrics": {
                 "blocking factor": 14,
                 "centrality": 426,
                 "complexity": 26,
                 "delay factor": 12
                },
                "name": "PHYS 1322",
                "nameCanonical": "",
                "nameSub": "University Physics II"
               },
               {
                "credits": 1,
                "curriculum_requisites": [
                 {
                  "source_id": 3718777895,
                  "target_id": 3059602497,
                  "type": "CurriculumCorequisite"
                 }
                ],
                "id": 3059602497,
                "metrics": {
                 "blocking factor": 13,
                 "centrality": 250,
                 "complexity": 25,
                 "delay factor": 12
                },
                "name": "PHYS 1122",
                "nameCanonical": "",
                "nameSub": "Physics Lab II"
               },
               {
                "credits": 3,
                "curriculum_requisites": [
                 {
                  "source_id": 1177372781,
                  "target_id": 947037850,
                  "type": "CurriculumPrerequisite"
                 }
                ],
                "id": 947037850,
                "metrics": {
                 "blocking factor": 13,
                 "centrality": 93,
                 "complexity": 23,
                 "delay factor": 10
                },
                "name": "MATH 3321",
                "nameCanonical": "",
                "nameSub": "Engineering Math"
               },
               {
                "credits": 3,
                "curriculum_requisites": [
                 {
                  "source_id": 3718777895,
                  "target_id": 2138760932,
                  "type": "CurriculumCorequisite"
                 },
                 {
                  "source_id": 3059602497,
                  "target_id": 2138760932,
                  "type": "CurriculumCorequisite"
                 },
                 {
                  "source_id": 2258215799,
                  "target_id": 2138760932,
                  "type": "CurriculumCorequisite"
                 },
                 {
                  "source_id": 1051497550,
                  "target_id": 2138760932,
                  "type": "CurriculumPrerequisite"
                 },
                 {
                  "source_id": 947037850,
                  "target_id": 2138760932,
                  "type": "CurriculumCorequisite"
                 }
                ],
                "id": 2138760932,
                "metrics": {
                 "blocking factor": 12,
                 "centrality": 677,
                 "complexity": 24,
                 "delay factor": 12
                },
                "name": "ECE 2201",
                "nameCanonical": "",
                "nameSub": "Circuit Analysis I"
               }
              ],
              "id": 4,
              "name": "Term 4"
             },
             {
              "curriculum_items": [
               {
                "credits": 3,
                "curriculum_requisites": [],
                "id": 848294223,
                "metrics": {
                 "blocking factor": 0,
                 "centrality": 0,
                 "complexity": 1,
                 "delay factor": 1
                },
                "name": " ",
                "nameCanonical": "",
                "nameSub": "Creative Arts Core"
               },
               {
                "credits": 3,
                "curriculum_requisites": [
                 {
                  "source_id": 2138760932,
                  "target_id": 3887805990,
                  "type": "CurriculumPrerequisite"
                 }
                ],
                "id": 3887805990,
                "metrics": {
                 "blocking factor": 8,
                 "centrality": 393,
                 "complexity": 20,
                 "delay factor": 12
                },
                "name": "ECE 2202",
                "nameCanonical": "",
                "nameSub": "Circuit Analysis II"
               },
               {
                "credits": 1,
                "curriculum_requisites": [
                 {
                  "source_id": 3059602497,
                  "target_id": 1083857781,
                  "type": "CurriculumPrerequisite"
                 },
                 {
                  "source_id": 3887805990,
                  "target_id": 1083857781,
                  "type": "CurriculumCorequisite"
                 }
                ],
                "id": 1083857781,
                "metrics": {
                 "blocking factor": 5,
                 "centrality": 295,
                 "complexity": 17,
                 "delay factor": 12
                },
                "name": "ECE 2100",
                "nameCanonical": "",
                "nameSub": "Circuits Lab"
               },
               {
                "credits": 3,
                "curriculum_requisites": [
                 {
                  "source_id": 3195103903,
                  "target_id": 1770099342,
                  "type": "CurriculumPrerequisite"
                 },
                 {
                  "source_id": 2138760932,
                  "target_id": 1770099342,
                  "type": "CurriculumPrerequisite"
                 }
                ],
                "id": 1770099342,
                "metrics": {
                 "blocking factor": 4,
                 "centrality": 159,
                 "complexity": 15,
                 "delay factor": 11
                },
                "name": "ENGI 2304",
                "nameCanonical": "",
                "nameSub": "Technical Communication"
               },
               {
                "credits": 3,
                "curriculum_requisites": [
                 {
                  "source_id": 947037850,
                  "target_id": 649106202,
                  "type": "CurriculumPrerequisite"
                 },
                 {
                  "source_id": 2138760932,
                  "target_id": 649106202,
                  "type": "CurriculumPrerequisite"
                 }
                ],
                "id": 649106202,
                "metrics": {
                 "blocking factor": 4,
                 "centrality": 152,
                 "complexity": 14,
                 "delay factor": 10
                },
                "name": "ECE 3331",
                "nameCanonical": "",
                "nameSub": "Programming Apps in ECE"
               },
               {
                "credits": 3,
                "curriculum_requisites": [
                 {
                  "source_id": 3887805990,
                  "target_id": 2791403937,
                  "type": "CurriculumCorequisite"
                 }
                ],
                "id": 2791403937,
                "metrics": {
                 "blocking factor": 4,
                 "centrality": 154,
                 "complexity": 15,
                 "delay factor": 11
                },
                "name": "ECE 3337",
                "nameCanonical": "",
                "nameSub": "Signals & Systems Analysis"
               },
               {
                "credits": 3,
                "curriculum_requisites": [
                 {
                  "source_id": 1083857781,
                  "target_id": 4184346648,
                  "type": "CurriculumCorequisite"
                 },
                 {
                  "source_id": 649106202,
                  "target_id": 4184346648,
                  "type": "CurriculumCorequisite"
                 }
                ],
                "id": 4184346648,
                "metrics": {
                 "blocking factor": 2,
                 "centrality": 171,
                 "complexity": 13,
                 "delay factor": 11
                },
                "name": "ECE 3436",
                "nameCanonical": "",
                "nameSub": "Microprocessors"
               }
              ],
              "id": 5,
              "name": "Term 5"
             },
             {
              "curriculum_items": [
               {
                "credits": 3,
                "curriculum_requisites": [],
                "id": 2051928090,
                "metrics": {
                 "blocking factor": 0,
                 "centrality": 0,
                 "complexity": 1,
                 "delay factor": 1
                },
                "name": " ",
                "nameCanonical": "",
                "nameSub": "ECE Elective 1"
               },
               {
                "credits": 1,
                "curriculum_requisites": [
                 {
                  "source_id": 1083857781,
                  "target_id": 1966522372,
                  "type": "CurriculumPrerequisite"
                 },
                 {
                  "source_id": 1770099342,
                  "target_id": 1966522372,
                  "type": "CurriculumPrerequisite"
                 }
                ],
                "id": 1966522372,
                "metrics": {
                 "blocking factor": 3,
                 "centrality": 359,
                 "complexity": 15,
                 "delay factor": 12
                },
                "name": "ECE 3155",
                "nameCanonical": "",
                "nameSub": "Electronics Lab"
               },
               {
                "credits": 3,
                "curriculum_requisites": [
                 {
                  "source_id": 1966522372,
                  "target_id": 4165958389,
                  "type": "CurriculumStrictCorequisite"
                 },
                 {
                  "source_id": 2791403937,
                  "target_id": 4165958389,
                  "type": "CurriculumPrerequisite"
                 }
                ],
                "id": 4165958389,
                "metrics": {
                 "blocking factor": 2,
                 "centrality": 266,
                 "complexity": 14,
                 "delay factor": 12
                },
                "name": "ECE 3355",
                "nameCanonical": "",
                "nameSub": "Electronics"
               },
               {
                "credits": 3,
                "curriculum_requisites": [
                 {
                  "source_id": 2791403937,
                  "target_id": 2252871414,
                  "type": "CurriculumPrerequisite"
                 }
                ],
                "id": 2252871414,
                "metrics": {
                 "blocking factor": 2,
                 "centrality": 77,
                 "complexity": 13,
                 "delay factor": 11
                },
                "name": "ECE 3317",
                "nameCanonical": "",
                "nameSub": "Applied EM Waves"
               },
               {
                "credits": 3,
                "curriculum_requisites": [
                 {
                  "source_id": 649106202,
                  "target_id": 3368026167,
                  "type": "CurriculumPrerequisite"
                 }
                ],
                "id": 3368026167,
                "metrics": {
                 "blocking factor": 2,
                 "centrality": 76,
                 "complexity": 12,
                 "delay factor": 10
                },
                "name": "ECE 3340",
                "nameCanonical": "",
                "nameSub": "Numerical Methods"
               },
               {
                "credits": 3,
                "curriculum_requisites": [],
                "id": 672829327,
                "metrics": {
                 "blocking factor": 0,
                 "centrality": 0,
                 "complexity": 1,
                 "delay factor": 1
                },
                "name": " ",
                "nameCanonical": "",
                "nameSub": "ECE Elective 2"
               },
               {
                "credits": 1,
                "curriculum_requisites": [],
                "id": 26700799,
                "metrics": {
                 "blocking factor": 0,
                 "centrality": 0,
                 "complexity": 1,
                 "delay factor": 1
                },
                "name": " ",
                "nameCanonical": "",
                "nameSub": "Elective Lab 1"
               },
               {
                "credits": 1,
                "curriculum_requisites": [],
                "id": 1296179090,
                "metrics": {
                 "blocking factor": 0,
                 "centrality": 0,
                 "complexity": 1,
                 "delay factor": 1
                },
                "name": " ",
                "nameCanonical": "",
                "nameSub": "Elective Lab 2"
               },
               {
                "credits": 1,
                "curriculum_requisites": [],
                "id": 3091492697,
                "metrics": {
                 "blocking factor": 0,
                 "centrality": 0,
                 "complexity": 1,
                 "delay factor": 1
                },
                "name": " ",
                "nameCanonical": "",
                "nameSub": "Elective Lab 3"
               },
               {
                "credits": 1,
                "curriculum_requisites": [],
                "id": 2450156574,
                "metrics": {
                 "blocking factor": 0,
                 "centrality": 0,
                 "complexity": 1,
                 "delay factor": 1
                },
                "name": " ",
                "nameCanonical": "",
                "nameSub": "Elective Lab 4"
               }
              ],
              "id": 6,
              "name": "Term 6"
             },
             {
              "curriculum_items": [
               {
                "credits": 3,
                "curriculum_requisites": [],
                "id": 1626752824,
                "metrics": {
                 "blocking factor": 0,
                 "centrality": 0,
                 "complexity": 1,
                 "delay factor": 1
                },
                "name": " ",
                "nameCanonical": "",
                "nameSub": "Lang., Phil. & Culture Core"
               },
               {
                "credits": 3,
                "curriculum_requisites": [
                 {
                  "source_id": 1966522372,
                  "target_id": 1337097032,
                  "type": "CurriculumPrerequisite"
                 },
                 {
                  "source_id": 4184346648,
                  "target_id": 1337097032,
                  "type": "CurriculumPrerequisite"
                 },
                 {
                  "source_id": 3368026167,
                  "target_id": 1337097032,
                  "type": "CurriculumPrerequisite"
                 },
                 {
                  "source_id": 2888554139,
                  "target_id": 1337097032,
                  "type": "CurriculumPrerequisite"
                 },
                 {
                  "source_id": 4165958389,
                  "target_id": 1337097032,
                  "type": "CurriculumPrerequisite"
                 },
                 {
                  "source_id": 3224555476,
                  "target_id": 1337097032,
                  "type": "CurriculumCorequisite"
                 },
                 {
                  "source_id": 2252871414,
                  "target_id": 1337097032,
                  "type": "CurriculumPrerequisite"
                 }
                ],
                "id": 1337097032,
                "metrics": {
                 "blocking factor": 1,
                 "centrality": 779,
                 "complexity": 13,
                 "delay factor": 12
                },
                "name": "ECE 4335",
                "nameCanonical": "",
                "nameSub": "ECE Design I"
               },
               {
                "credits": 3,
                "curriculum_requisites": [],
                "id": 2529896330,
                "metrics": {
                 "blocking factor": 0,
                 "centrality": 0,
                 "complexity": 1,
                 "delay factor": 1
                },
                "name": " ",
                "nameCanonical": "",
                "nameSub": "Technical Elective"
               }
              ],
              "id": 7,
              "name": "Term 7"
             },
             {
              "curriculum_items": [
               {
                "credits": 3,
                "curriculum_requisites": [
                 {
                  "source_id": 1337097032,
                  "target_id": 1158404973,
                  "type": "CurriculumPrerequisite"
                 }
                ],
                "id": 1158404973,
                "metrics": {
                 "blocking factor": 0,
                 "centrality": 0,
                 "complexity": 12,
                 "delay factor": 12
                },
                "name": "ECE 4336",
                "nameCanonical": "",
                "nameSub": "ECE Design II"
               }
              ],
              "id": 8,
              "name": "Term 8"
             }
            ],
            "dp_name": "",
            "institution": "ACME Univ.",
            "name": "A Real EE Program"
           },
           "options": {
            "edit": false,
            "hideTerms": true
           }
          }
         }
        },
        "systemjs_options": null
       },
       "nodeType": "Scope",
       "props": {},
       "type": "node"
      },
      "text/html": [
       "<div\n",
       "    class=\"webio-mountpoint\"\n",
       "    data-webio-mountpoint=\"2857109145228082846\"\n",
       ">\n",
       "    <script>\n",
       "    if (window.require && require.defined && require.defined(\"nbextensions/webio-jupyter-notebook\")) {\n",
       "        console.log(\"Jupyter WebIO extension detected, not mounting.\");\n",
       "    } else if (window.WebIO) {\n",
       "        WebIO.mount(\n",
       "            document.querySelector('[data-webio-mountpoint=\"2857109145228082846\"]'),\n",
       "            {\"props\":{},\"nodeType\":\"Scope\",\"type\":\"node\",\"instanceArgs\":{\"imports\":{\"data\":[],\"type\":\"async_block\"},\"id\":\"8021538582331169813\",\"handlers\":{},\"systemjs_options\":null,\"mount_callbacks\":[],\"observables\":{\"curriculum-data\":{\"sync\":true,\"id\":\"4021725585851844889\",\"value\":{\"options\":{\"hideTerms\":true,\"edit\":false},\"curriculum\":{\"name\":\"A Real EE Program\",\"dp_name\":\"\",\"curriculum_terms\":[{\"name\":\"Term 1\",\"curriculum_items\":[{\"curriculum_requisites\":[],\"name\":\"ENGL 1303\",\"metrics\":{\"centrality\":0,\"complexity\":13.0,\"blocking factor\":6,\"delay factor\":7.0},\"nameSub\":\"First Year Writing I\",\"id\":1324171406,\"credits\":3,\"nameCanonical\":\"\"},{\"curriculum_requisites\":[],\"name\":\"CHEM 1331\",\"metrics\":{\"centrality\":0,\"complexity\":3.0,\"blocking factor\":1,\"delay factor\":2.0},\"nameSub\":\"Fund. of Chemistry\",\"id\":1351802580,\"credits\":3,\"nameCanonical\":\"\"},{\"curriculum_requisites\":[{\"source_id\":1351802580,\"target_id\":2195546016,\"type\":\"CurriculumCorequisite\"}],\"name\":\"CHEM 1111\",\"metrics\":{\"centrality\":0,\"complexity\":2.0,\"blocking factor\":0,\"delay factor\":2.0},\"nameSub\":\"Fund. of Chemistry Lab\",\"id\":2195546016,\"credits\":1,\"nameCanonical\":\"\"},{\"curriculum_requisites\":[],\"name\":\"POLS 1336\",\"metrics\":{\"centrality\":0,\"complexity\":1.0,\"blocking factor\":0,\"delay factor\":1.0},\"nameSub\":\"US and TX Constitutions & Politics\",\"id\":1541543378,\"credits\":3,\"nameCanonical\":\"\"},{\"curriculum_requisites\":[],\"name\":\"POLS 1337\",\"metrics\":{\"centrality\":0,\"complexity\":1.0,\"blocking factor\":0,\"delay factor\":1.0},\"nameSub\":\"US Gov: Congress, President and Courts\",\"id\":951874139,\"credits\":3,\"nameCanonical\":\"\"},{\"curriculum_requisites\":[],\"name\":\"HIST 1377\",\"metrics\":{\"centrality\":0,\"complexity\":1.0,\"blocking factor\":0,\"delay factor\":1.0},\"nameSub\":\"The US to 1877\",\"id\":3824069494,\"credits\":3,\"nameCanonical\":\"\"},{\"curriculum_requisites\":[],\"name\":\"HIST 1378\",\"metrics\":{\"centrality\":0,\"complexity\":1.0,\"blocking factor\":0,\"delay factor\":1.0},\"nameSub\":\"US Since 1877\",\"id\":2731496025,\"credits\":3,\"nameCanonical\":\"\"}],\"id\":1},{\"name\":\"Term 2\",\"curriculum_items\":[{\"curriculum_requisites\":[],\"name\":\"MATH 1431\",\"metrics\":{\"centrality\":0,\"complexity\":35.0,\"blocking factor\":23,\"delay factor\":12.0},\"nameSub\":\"Calculus I\",\"id\":4175014649,\"credits\":4,\"nameCanonical\":\"\"},{\"curriculum_requisites\":[{\"source_id\":4175014649,\"target_id\":1764441140,\"type\":\"CurriculumCorequisite\"}],\"name\":\"ENGI 1100\",\"metrics\":{\"centrality\":85,\"complexity\":25.0,\"blocking factor\":15,\"delay factor\":10.0},\"nameSub\":\"Intro to Engr.\",\"id\":1764441140,\"credits\":1,\"nameCanonical\":\"\"},{\"curriculum_requisites\":[{\"source_id\":1324171406,\"target_id\":3195103903,\"type\":\"CurriculumPrerequisite\"}],\"name\":\"ENGL 1304\",\"metrics\":{\"centrality\":13,\"complexity\":12.0,\"blocking factor\":5,\"delay factor\":7.0},\"nameSub\":\"First Year Writing II\",\"id\":3195103903,\"credits\":3,\"nameCanonical\":\"\"},{\"curriculum_requisites\":[],\"name\":\"ECON 2304\",\"metrics\":{\"centrality\":0,\"complexity\":5.0,\"blocking factor\":2,\"delay factor\":3.0},\"nameSub\":\"Microeconomic Principles\",\"id\":3224555476,\"credits\":3,\"nameCanonical\":\"\"},{\"curriculum_requisites\":[],\"name\":\" \",\"metrics\":{\"centrality\":0,\"complexity\":1.0,\"blocking factor\":0,\"delay factor\":1.0},\"nameSub\":\"Concentration Elective 1\",\"id\":1056053313,\"credits\":3,\"nameCanonical\":\"\"},{\"curriculum_requisites\":[],\"name\":\" \",\"metrics\":{\"centrality\":0,\"complexity\":1.0,\"blocking factor\":0,\"delay factor\":1.0},\"nameSub\":\"Concentration Elective 2\",\"id\":1745860227,\"credits\":3,\"nameCanonical\":\"\"},{\"curriculum_requisites\":[],\"name\":\" \",\"metrics\":{\"centrality\":0,\"complexity\":1.0,\"blocking factor\":0,\"delay factor\":1.0},\"nameSub\":\"Concentration Elective 3\",\"id\":1105094343,\"credits\":3,\"nameCanonical\":\"\"}],\"id\":2},{\"name\":\"Term 3\",\"curriculum_items\":[{\"curriculum_requisites\":[],\"name\":\" \",\"metrics\":{\"centrality\":0,\"complexity\":1.0,\"blocking factor\":0,\"delay factor\":1.0},\"nameSub\":\"Concentration Elective 4\",\"id\":1819261218,\"credits\":3,\"nameCanonical\":\"\"},{\"curriculum_requisites\":[{\"source_id\":4175014649,\"target_id\":1051497550,\"type\":\"CurriculumPrerequisite\"},{\"source_id\":1764441140,\"target_id\":1051497550,\"type\":\"CurriculumPrerequisite\"}],\"name\":\"ENGI 1331\",\"metrics\":{\"centrality\":160,\"complexity\":24.0,\"blocking factor\":14,\"delay factor\":10.0},\"nameSub\":\"Computing & Prob. Solving\",\"id\":1051497550,\"credits\":3,\"nameCanonical\":\"\"},{\"curriculum_requisites\":[{\"source_id\":4175014649,\"target_id\":1177372781,\"type\":\"CurriculumPrerequisite\"}],\"name\":\"MATH 1432\",\"metrics\":{\"centrality\":607,\"complexity\":32.0,\"blocking factor\":20,\"delay factor\":12.0},\"nameSub\":\"Calculus II\",\"id\":1177372781,\"credits\":4,\"nameCanonical\":\"\"},{\"curriculum_requisites\":[{\"source_id\":1177372781,\"target_id\":2834873484,\"type\":\"CurriculumCorequisite\"}],\"name\":\"PHYS 1321\",\"metrics\":{\"centrality\":217,\"complexity\":28.0,\"blocking factor\":16,\"delay factor\":12.0},\"nameSub\":\"University Physics I\",\"id\":2834873484,\"credits\":3,\"nameCanonical\":\"\"},{\"curriculum_requisites\":[{\"source_id\":2834873484,\"target_id\":3178954113,\"type\":\"CurriculumCorequisite\"}],\"name\":\"PHYS 1121\",\"metrics\":{\"centrality\":0,\"complexity\":4.0,\"blocking factor\":0,\"delay factor\":4.0},\"nameSub\":\"Physics Lab I\",\"id\":3178954113,\"credits\":1,\"nameCanonical\":\"\"},{\"curriculum_requisites\":[],\"name\":\" \",\"metrics\":{\"centrality\":0,\"complexity\":1.0,\"blocking factor\":0,\"delay factor\":1.0},\"nameSub\":\"Concentration Elective 5\",\"id\":2070124031,\"credits\":3,\"nameCanonical\":\"\"},{\"curriculum_requisites\":[],\"name\":\" \",\"metrics\":{\"centrality\":0,\"complexity\":1.0,\"blocking factor\":0,\"delay factor\":1.0},\"nameSub\":\"Concentration Elective 6\",\"id\":1716266479,\"credits\":3,\"nameCanonical\":\"\"}],\"id\":3},{\"name\":\"Term 4\",\"curriculum_items\":[{\"curriculum_requisites\":[],\"name\":\" \",\"metrics\":{\"centrality\":0,\"complexity\":1.0,\"blocking factor\":0,\"delay factor\":1.0},\"nameSub\":\"Concentration Elective 7\",\"id\":2584207151,\"credits\":3,\"nameCanonical\":\"\"},{\"curriculum_requisites\":[{\"source_id\":1051497550,\"target_id\":2888554139,\"type\":\"CurriculumPrerequisite\"},{\"source_id\":1177372781,\"target_id\":2888554139,\"type\":\"CurriculumPrerequisite\"}],\"name\":\"INDE 2333\",\"metrics\":{\"centrality\":16,\"complexity\":8.0,\"blocking factor\":2,\"delay factor\":6.0},\"nameSub\":\"Engineering Statistics\",\"id\":2888554139,\"credits\":3,\"nameCanonical\":\"\"},{\"curriculum_requisites\":[{\"source_id\":1177372781,\"target_id\":2258215799,\"type\":\"CurriculumPrerequisite\"}],\"name\":\"MATH 2433\",\"metrics\":{\"centrality\":292,\"complexity\":27.0,\"blocking factor\":15,\"delay factor\":12.0},\"nameSub\":\"Calculus III\",\"id\":2258215799,\"credits\":3,\"nameCanonical\":\"\"},{\"curriculum_requisites\":[{\"source_id\":2258215799,\"target_id\":3718777895,\"type\":\"CurriculumCorequisite\"},{\"source_id\":2834873484,\"target_id\":3718777895,\"type\":\"CurriculumPrerequisite\"}],\"name\":\"PHYS 1322\",\"metrics\":{\"centrality\":426,\"complexity\":26.0,\"blocking factor\":14,\"delay factor\":12.0},\"nameSub\":\"University Physics II\",\"id\":3718777895,\"credits\":3,\"nameCanonical\":\"\"},{\"curriculum_requisites\":[{\"source_id\":3718777895,\"target_id\":3059602497,\"type\":\"CurriculumCorequisite\"}],\"name\":\"PHYS 1122\",\"metrics\":{\"centrality\":250,\"complexity\":25.0,\"blocking factor\":13,\"delay factor\":12.0},\"nameSub\":\"Physics Lab II\",\"id\":3059602497,\"credits\":1,\"nameCanonical\":\"\"},{\"curriculum_requisites\":[{\"source_id\":1177372781,\"target_id\":947037850,\"type\":\"CurriculumPrerequisite\"}],\"name\":\"MATH 3321\",\"metrics\":{\"centrality\":93,\"complexity\":23.0,\"blocking factor\":13,\"delay factor\":10.0},\"nameSub\":\"Engineering Math\",\"id\":947037850,\"credits\":3,\"nameCanonical\":\"\"},{\"curriculum_requisites\":[{\"source_id\":3718777895,\"target_id\":2138760932,\"type\":\"CurriculumCorequisite\"},{\"source_id\":3059602497,\"target_id\":2138760932,\"type\":\"CurriculumCorequisite\"},{\"source_id\":2258215799,\"target_id\":2138760932,\"type\":\"CurriculumCorequisite\"},{\"source_id\":1051497550,\"target_id\":2138760932,\"type\":\"CurriculumPrerequisite\"},{\"source_id\":947037850,\"target_id\":2138760932,\"type\":\"CurriculumCorequisite\"}],\"name\":\"ECE 2201\",\"metrics\":{\"centrality\":677,\"complexity\":24.0,\"blocking factor\":12,\"delay factor\":12.0},\"nameSub\":\"Circuit Analysis I\",\"id\":2138760932,\"credits\":3,\"nameCanonical\":\"\"}],\"id\":4},{\"name\":\"Term 5\",\"curriculum_items\":[{\"curriculum_requisites\":[],\"name\":\" \",\"metrics\":{\"centrality\":0,\"complexity\":1.0,\"blocking factor\":0,\"delay factor\":1.0},\"nameSub\":\"Creative Arts Core\",\"id\":848294223,\"credits\":3,\"nameCanonical\":\"\"},{\"curriculum_requisites\":[{\"source_id\":2138760932,\"target_id\":3887805990,\"type\":\"CurriculumPrerequisite\"}],\"name\":\"ECE 2202\",\"metrics\":{\"centrality\":393,\"complexity\":20.0,\"blocking factor\":8,\"delay factor\":12.0},\"nameSub\":\"Circuit Analysis II\",\"id\":3887805990,\"credits\":3,\"nameCanonical\":\"\"},{\"curriculum_requisites\":[{\"source_id\":3059602497,\"target_id\":1083857781,\"type\":\"CurriculumPrerequisite\"},{\"source_id\":3887805990,\"target_id\":1083857781,\"type\":\"CurriculumCorequisite\"}],\"name\":\"ECE 2100\",\"metrics\":{\"centrality\":295,\"complexity\":17.0,\"blocking factor\":5,\"delay factor\":12.0},\"nameSub\":\"Circuits Lab\",\"id\":1083857781,\"credits\":1,\"nameCanonical\":\"\"},{\"curriculum_requisites\":[{\"source_id\":3195103903,\"target_id\":1770099342,\"type\":\"CurriculumPrerequisite\"},{\"source_id\":2138760932,\"target_id\":1770099342,\"type\":\"CurriculumPrerequisite\"}],\"name\":\"ENGI 2304\",\"metrics\":{\"centrality\":159,\"complexity\":15.0,\"blocking factor\":4,\"delay factor\":11.0},\"nameSub\":\"Technical Communication\",\"id\":1770099342,\"credits\":3,\"nameCanonical\":\"\"},{\"curriculum_requisites\":[{\"source_id\":947037850,\"target_id\":649106202,\"type\":\"CurriculumPrerequisite\"},{\"source_id\":2138760932,\"target_id\":649106202,\"type\":\"CurriculumPrerequisite\"}],\"name\":\"ECE 3331\",\"metrics\":{\"centrality\":152,\"complexity\":14.0,\"blocking factor\":4,\"delay factor\":10.0},\"nameSub\":\"Programming Apps in ECE\",\"id\":649106202,\"credits\":3,\"nameCanonical\":\"\"},{\"curriculum_requisites\":[{\"source_id\":3887805990,\"target_id\":2791403937,\"type\":\"CurriculumCorequisite\"}],\"name\":\"ECE 3337\",\"metrics\":{\"centrality\":154,\"complexity\":15.0,\"blocking factor\":4,\"delay factor\":11.0},\"nameSub\":\"Signals & Systems Analysis\",\"id\":2791403937,\"credits\":3,\"nameCanonical\":\"\"},{\"curriculum_requisites\":[{\"source_id\":1083857781,\"target_id\":4184346648,\"type\":\"CurriculumCorequisite\"},{\"source_id\":649106202,\"target_id\":4184346648,\"type\":\"CurriculumCorequisite\"}],\"name\":\"ECE 3436\",\"metrics\":{\"centrality\":171,\"complexity\":13.0,\"blocking factor\":2,\"delay factor\":11.0},\"nameSub\":\"Microprocessors\",\"id\":4184346648,\"credits\":3,\"nameCanonical\":\"\"}],\"id\":5},{\"name\":\"Term 6\",\"curriculum_items\":[{\"curriculum_requisites\":[],\"name\":\" \",\"metrics\":{\"centrality\":0,\"complexity\":1.0,\"blocking factor\":0,\"delay factor\":1.0},\"nameSub\":\"ECE Elective 1\",\"id\":2051928090,\"credits\":3,\"nameCanonical\":\"\"},{\"curriculum_requisites\":[{\"source_id\":1083857781,\"target_id\":1966522372,\"type\":\"CurriculumPrerequisite\"},{\"source_id\":1770099342,\"target_id\":1966522372,\"type\":\"CurriculumPrerequisite\"}],\"name\":\"ECE 3155\",\"metrics\":{\"centrality\":359,\"complexity\":15.0,\"blocking factor\":3,\"delay factor\":12.0},\"nameSub\":\"Electronics Lab\",\"id\":1966522372,\"credits\":1,\"nameCanonical\":\"\"},{\"curriculum_requisites\":[{\"source_id\":1966522372,\"target_id\":4165958389,\"type\":\"CurriculumStrictCorequisite\"},{\"source_id\":2791403937,\"target_id\":4165958389,\"type\":\"CurriculumPrerequisite\"}],\"name\":\"ECE 3355\",\"metrics\":{\"centrality\":266,\"complexity\":14.0,\"blocking factor\":2,\"delay factor\":12.0},\"nameSub\":\"Electronics\",\"id\":4165958389,\"credits\":3,\"nameCanonical\":\"\"},{\"curriculum_requisites\":[{\"source_id\":2791403937,\"target_id\":2252871414,\"type\":\"CurriculumPrerequisite\"}],\"name\":\"ECE 3317\",\"metrics\":{\"centrality\":77,\"complexity\":13.0,\"blocking factor\":2,\"delay factor\":11.0},\"nameSub\":\"Applied EM Waves\",\"id\":2252871414,\"credits\":3,\"nameCanonical\":\"\"},{\"curriculum_requisites\":[{\"source_id\":649106202,\"target_id\":3368026167,\"type\":\"CurriculumPrerequisite\"}],\"name\":\"ECE 3340\",\"metrics\":{\"centrality\":76,\"complexity\":12.0,\"blocking factor\":2,\"delay factor\":10.0},\"nameSub\":\"Numerical Methods\",\"id\":3368026167,\"credits\":3,\"nameCanonical\":\"\"},{\"curriculum_requisites\":[],\"name\":\" \",\"metrics\":{\"centrality\":0,\"complexity\":1.0,\"blocking factor\":0,\"delay factor\":1.0},\"nameSub\":\"ECE Elective 2\",\"id\":672829327,\"credits\":3,\"nameCanonical\":\"\"},{\"curriculum_requisites\":[],\"name\":\" \",\"metrics\":{\"centrality\":0,\"complexity\":1.0,\"blocking factor\":0,\"delay factor\":1.0},\"nameSub\":\"Elective Lab 1\",\"id\":26700799,\"credits\":1,\"nameCanonical\":\"\"},{\"curriculum_requisites\":[],\"name\":\" \",\"metrics\":{\"centrality\":0,\"complexity\":1.0,\"blocking factor\":0,\"delay factor\":1.0},\"nameSub\":\"Elective Lab 2\",\"id\":1296179090,\"credits\":1,\"nameCanonical\":\"\"},{\"curriculum_requisites\":[],\"name\":\" \",\"metrics\":{\"centrality\":0,\"complexity\":1.0,\"blocking factor\":0,\"delay factor\":1.0},\"nameSub\":\"Elective Lab 3\",\"id\":3091492697,\"credits\":1,\"nameCanonical\":\"\"},{\"curriculum_requisites\":[],\"name\":\" \",\"metrics\":{\"centrality\":0,\"complexity\":1.0,\"blocking factor\":0,\"delay factor\":1.0},\"nameSub\":\"Elective Lab 4\",\"id\":2450156574,\"credits\":1,\"nameCanonical\":\"\"}],\"id\":6},{\"name\":\"Term 7\",\"curriculum_items\":[{\"curriculum_requisites\":[],\"name\":\" \",\"metrics\":{\"centrality\":0,\"complexity\":1.0,\"blocking factor\":0,\"delay factor\":1.0},\"nameSub\":\"Lang., Phil. & Culture Core\",\"id\":1626752824,\"credits\":3,\"nameCanonical\":\"\"},{\"curriculum_requisites\":[{\"source_id\":1966522372,\"target_id\":1337097032,\"type\":\"CurriculumPrerequisite\"},{\"source_id\":4184346648,\"target_id\":1337097032,\"type\":\"CurriculumPrerequisite\"},{\"source_id\":3368026167,\"target_id\":1337097032,\"type\":\"CurriculumPrerequisite\"},{\"source_id\":2888554139,\"target_id\":1337097032,\"type\":\"CurriculumPrerequisite\"},{\"source_id\":4165958389,\"target_id\":1337097032,\"type\":\"CurriculumPrerequisite\"},{\"source_id\":3224555476,\"target_id\":1337097032,\"type\":\"CurriculumCorequisite\"},{\"source_id\":2252871414,\"target_id\":1337097032,\"type\":\"CurriculumPrerequisite\"}],\"name\":\"ECE 4335\",\"metrics\":{\"centrality\":779,\"complexity\":13.0,\"blocking factor\":1,\"delay factor\":12.0},\"nameSub\":\"ECE Design I\",\"id\":1337097032,\"credits\":3,\"nameCanonical\":\"\"},{\"curriculum_requisites\":[],\"name\":\" \",\"metrics\":{\"centrality\":0,\"complexity\":1.0,\"blocking factor\":0,\"delay factor\":1.0},\"nameSub\":\"Technical Elective\",\"id\":2529896330,\"credits\":3,\"nameCanonical\":\"\"}],\"id\":7},{\"name\":\"Term 8\",\"curriculum_items\":[{\"curriculum_requisites\":[{\"source_id\":1337097032,\"target_id\":1158404973,\"type\":\"CurriculumPrerequisite\"}],\"name\":\"ECE 4336\",\"metrics\":{\"centrality\":0,\"complexity\":12.0,\"blocking factor\":0,\"delay factor\":12.0},\"nameSub\":\"ECE Design II\",\"id\":1158404973,\"credits\":3,\"nameCanonical\":\"\"}],\"id\":8}],\"institution\":\"ACME Univ.\"}}}}},\"children\":[{\"props\":{\"src\":\"https:\\/\\/curricula-api-embed.damoursystems.com\\/\",\"id\":\"curriculum\",\"events\":{\"load\":\"(function (){this.contentWindow.postMessage({\\\"options\\\":{\\\"hideTerms\\\":true,\\\"edit\\\":false},\\\"curriculum\\\":{\\\"name\\\":\\\"A Real EE Program\\\",\\\"dp_name\\\":\\\"\\\",\\\"curriculum_terms\\\":[{\\\"name\\\":\\\"Term 1\\\",\\\"curriculum_items\\\":[{\\\"curriculum_requisites\\\":[],\\\"name\\\":\\\"ENGL 1303\\\",\\\"metrics\\\":{\\\"centrality\\\":0,\\\"complexity\\\":13.0,\\\"blocking factor\\\":6,\\\"delay factor\\\":7.0},\\\"nameSub\\\":\\\"First Year Writing I\\\",\\\"id\\\":1324171406,\\\"credits\\\":3,\\\"nameCanonical\\\":\\\"\\\"},{\\\"curriculum_requisites\\\":[],\\\"name\\\":\\\"CHEM 1331\\\",\\\"metrics\\\":{\\\"centrality\\\":0,\\\"complexity\\\":3.0,\\\"blocking factor\\\":1,\\\"delay factor\\\":2.0},\\\"nameSub\\\":\\\"Fund. of Chemistry\\\",\\\"id\\\":1351802580,\\\"credits\\\":3,\\\"nameCanonical\\\":\\\"\\\"},{\\\"curriculum_requisites\\\":[{\\\"source_id\\\":1351802580,\\\"target_id\\\":2195546016,\\\"type\\\":\\\"CurriculumCorequisite\\\"}],\\\"name\\\":\\\"CHEM 1111\\\",\\\"metrics\\\":{\\\"centrality\\\":0,\\\"complexity\\\":2.0,\\\"blocking factor\\\":0,\\\"delay factor\\\":2.0},\\\"nameSub\\\":\\\"Fund. of Chemistry Lab\\\",\\\"id\\\":2195546016,\\\"credits\\\":1,\\\"nameCanonical\\\":\\\"\\\"},{\\\"curriculum_requisites\\\":[],\\\"name\\\":\\\"POLS 1336\\\",\\\"metrics\\\":{\\\"centrality\\\":0,\\\"complexity\\\":1.0,\\\"blocking factor\\\":0,\\\"delay factor\\\":1.0},\\\"nameSub\\\":\\\"US and TX Constitutions & Politics\\\",\\\"id\\\":1541543378,\\\"credits\\\":3,\\\"nameCanonical\\\":\\\"\\\"},{\\\"curriculum_requisites\\\":[],\\\"name\\\":\\\"POLS 1337\\\",\\\"metrics\\\":{\\\"centrality\\\":0,\\\"complexity\\\":1.0,\\\"blocking factor\\\":0,\\\"delay factor\\\":1.0},\\\"nameSub\\\":\\\"US Gov: Congress, President and Courts\\\",\\\"id\\\":951874139,\\\"credits\\\":3,\\\"nameCanonical\\\":\\\"\\\"},{\\\"curriculum_requisites\\\":[],\\\"name\\\":\\\"HIST 1377\\\",\\\"metrics\\\":{\\\"centrality\\\":0,\\\"complexity\\\":1.0,\\\"blocking factor\\\":0,\\\"delay factor\\\":1.0},\\\"nameSub\\\":\\\"The US to 1877\\\",\\\"id\\\":3824069494,\\\"credits\\\":3,\\\"nameCanonical\\\":\\\"\\\"},{\\\"curriculum_requisites\\\":[],\\\"name\\\":\\\"HIST 1378\\\",\\\"metrics\\\":{\\\"centrality\\\":0,\\\"complexity\\\":1.0,\\\"blocking factor\\\":0,\\\"delay factor\\\":1.0},\\\"nameSub\\\":\\\"US Since 1877\\\",\\\"id\\\":2731496025,\\\"credits\\\":3,\\\"nameCanonical\\\":\\\"\\\"}],\\\"id\\\":1},{\\\"name\\\":\\\"Term 2\\\",\\\"curriculum_items\\\":[{\\\"curriculum_requisites\\\":[],\\\"name\\\":\\\"MATH 1431\\\",\\\"metrics\\\":{\\\"centrality\\\":0,\\\"complexity\\\":35.0,\\\"blocking factor\\\":23,\\\"delay factor\\\":12.0},\\\"nameSub\\\":\\\"Calculus I\\\",\\\"id\\\":4175014649,\\\"credits\\\":4,\\\"nameCanonical\\\":\\\"\\\"},{\\\"curriculum_requisites\\\":[{\\\"source_id\\\":4175014649,\\\"target_id\\\":1764441140,\\\"type\\\":\\\"CurriculumCorequisite\\\"}],\\\"name\\\":\\\"ENGI 1100\\\",\\\"metrics\\\":{\\\"centrality\\\":85,\\\"complexity\\\":25.0,\\\"blocking factor\\\":15,\\\"delay factor\\\":10.0},\\\"nameSub\\\":\\\"Intro to Engr.\\\",\\\"id\\\":1764441140,\\\"credits\\\":1,\\\"nameCanonical\\\":\\\"\\\"},{\\\"curriculum_requisites\\\":[{\\\"source_id\\\":1324171406,\\\"target_id\\\":3195103903,\\\"type\\\":\\\"CurriculumPrerequisite\\\"}],\\\"name\\\":\\\"ENGL 1304\\\",\\\"metrics\\\":{\\\"centrality\\\":13,\\\"complexity\\\":12.0,\\\"blocking factor\\\":5,\\\"delay factor\\\":7.0},\\\"nameSub\\\":\\\"First Year Writing II\\\",\\\"id\\\":3195103903,\\\"credits\\\":3,\\\"nameCanonical\\\":\\\"\\\"},{\\\"curriculum_requisites\\\":[],\\\"name\\\":\\\"ECON 2304\\\",\\\"metrics\\\":{\\\"centrality\\\":0,\\\"complexity\\\":5.0,\\\"blocking factor\\\":2,\\\"delay factor\\\":3.0},\\\"nameSub\\\":\\\"Microeconomic Principles\\\",\\\"id\\\":3224555476,\\\"credits\\\":3,\\\"nameCanonical\\\":\\\"\\\"},{\\\"curriculum_requisites\\\":[],\\\"name\\\":\\\" \\\",\\\"metrics\\\":{\\\"centrality\\\":0,\\\"complexity\\\":1.0,\\\"blocking factor\\\":0,\\\"delay factor\\\":1.0},\\\"nameSub\\\":\\\"Concentration Elective 1\\\",\\\"id\\\":1056053313,\\\"credits\\\":3,\\\"nameCanonical\\\":\\\"\\\"},{\\\"curriculum_requisites\\\":[],\\\"name\\\":\\\" \\\",\\\"metrics\\\":{\\\"centrality\\\":0,\\\"complexity\\\":1.0,\\\"blocking factor\\\":0,\\\"delay factor\\\":1.0},\\\"nameSub\\\":\\\"Concentration Elective 2\\\",\\\"id\\\":1745860227,\\\"credits\\\":3,\\\"nameCanonical\\\":\\\"\\\"},{\\\"curriculum_requisites\\\":[],\\\"name\\\":\\\" \\\",\\\"metrics\\\":{\\\"centrality\\\":0,\\\"complexity\\\":1.0,\\\"blocking factor\\\":0,\\\"delay factor\\\":1.0},\\\"nameSub\\\":\\\"Concentration Elective 3\\\",\\\"id\\\":1105094343,\\\"credits\\\":3,\\\"nameCanonical\\\":\\\"\\\"}],\\\"id\\\":2},{\\\"name\\\":\\\"Term 3\\\",\\\"curriculum_items\\\":[{\\\"curriculum_requisites\\\":[],\\\"name\\\":\\\" \\\",\\\"metrics\\\":{\\\"centrality\\\":0,\\\"complexity\\\":1.0,\\\"blocking factor\\\":0,\\\"delay factor\\\":1.0},\\\"nameSub\\\":\\\"Concentration Elective 4\\\",\\\"id\\\":1819261218,\\\"credits\\\":3,\\\"nameCanonical\\\":\\\"\\\"},{\\\"curriculum_requisites\\\":[{\\\"source_id\\\":4175014649,\\\"target_id\\\":1051497550,\\\"type\\\":\\\"CurriculumPrerequisite\\\"},{\\\"source_id\\\":1764441140,\\\"target_id\\\":1051497550,\\\"type\\\":\\\"CurriculumPrerequisite\\\"}],\\\"name\\\":\\\"ENGI 1331\\\",\\\"metrics\\\":{\\\"centrality\\\":160,\\\"complexity\\\":24.0,\\\"blocking factor\\\":14,\\\"delay factor\\\":10.0},\\\"nameSub\\\":\\\"Computing & Prob. Solving\\\",\\\"id\\\":1051497550,\\\"credits\\\":3,\\\"nameCanonical\\\":\\\"\\\"},{\\\"curriculum_requisites\\\":[{\\\"source_id\\\":4175014649,\\\"target_id\\\":1177372781,\\\"type\\\":\\\"CurriculumPrerequisite\\\"}],\\\"name\\\":\\\"MATH 1432\\\",\\\"metrics\\\":{\\\"centrality\\\":607,\\\"complexity\\\":32.0,\\\"blocking factor\\\":20,\\\"delay factor\\\":12.0},\\\"nameSub\\\":\\\"Calculus II\\\",\\\"id\\\":1177372781,\\\"credits\\\":4,\\\"nameCanonical\\\":\\\"\\\"},{\\\"curriculum_requisites\\\":[{\\\"source_id\\\":1177372781,\\\"target_id\\\":2834873484,\\\"type\\\":\\\"CurriculumCorequisite\\\"}],\\\"name\\\":\\\"PHYS 1321\\\",\\\"metrics\\\":{\\\"centrality\\\":217,\\\"complexity\\\":28.0,\\\"blocking factor\\\":16,\\\"delay factor\\\":12.0},\\\"nameSub\\\":\\\"University Physics I\\\",\\\"id\\\":2834873484,\\\"credits\\\":3,\\\"nameCanonical\\\":\\\"\\\"},{\\\"curriculum_requisites\\\":[{\\\"source_id\\\":2834873484,\\\"target_id\\\":3178954113,\\\"type\\\":\\\"CurriculumCorequisite\\\"}],\\\"name\\\":\\\"PHYS 1121\\\",\\\"metrics\\\":{\\\"centrality\\\":0,\\\"complexity\\\":4.0,\\\"blocking factor\\\":0,\\\"delay factor\\\":4.0},\\\"nameSub\\\":\\\"Physics Lab I\\\",\\\"id\\\":3178954113,\\\"credits\\\":1,\\\"nameCanonical\\\":\\\"\\\"},{\\\"curriculum_requisites\\\":[],\\\"name\\\":\\\" \\\",\\\"metrics\\\":{\\\"centrality\\\":0,\\\"complexity\\\":1.0,\\\"blocking factor\\\":0,\\\"delay factor\\\":1.0},\\\"nameSub\\\":\\\"Concentration Elective 5\\\",\\\"id\\\":2070124031,\\\"credits\\\":3,\\\"nameCanonical\\\":\\\"\\\"},{\\\"curriculum_requisites\\\":[],\\\"name\\\":\\\" \\\",\\\"metrics\\\":{\\\"centrality\\\":0,\\\"complexity\\\":1.0,\\\"blocking factor\\\":0,\\\"delay factor\\\":1.0},\\\"nameSub\\\":\\\"Concentration Elective 6\\\",\\\"id\\\":1716266479,\\\"credits\\\":3,\\\"nameCanonical\\\":\\\"\\\"}],\\\"id\\\":3},{\\\"name\\\":\\\"Term 4\\\",\\\"curriculum_items\\\":[{\\\"curriculum_requisites\\\":[],\\\"name\\\":\\\" \\\",\\\"metrics\\\":{\\\"centrality\\\":0,\\\"complexity\\\":1.0,\\\"blocking factor\\\":0,\\\"delay factor\\\":1.0},\\\"nameSub\\\":\\\"Concentration Elective 7\\\",\\\"id\\\":2584207151,\\\"credits\\\":3,\\\"nameCanonical\\\":\\\"\\\"},{\\\"curriculum_requisites\\\":[{\\\"source_id\\\":1051497550,\\\"target_id\\\":2888554139,\\\"type\\\":\\\"CurriculumPrerequisite\\\"},{\\\"source_id\\\":1177372781,\\\"target_id\\\":2888554139,\\\"type\\\":\\\"CurriculumPrerequisite\\\"}],\\\"name\\\":\\\"INDE 2333\\\",\\\"metrics\\\":{\\\"centrality\\\":16,\\\"complexity\\\":8.0,\\\"blocking factor\\\":2,\\\"delay factor\\\":6.0},\\\"nameSub\\\":\\\"Engineering Statistics\\\",\\\"id\\\":2888554139,\\\"credits\\\":3,\\\"nameCanonical\\\":\\\"\\\"},{\\\"curriculum_requisites\\\":[{\\\"source_id\\\":1177372781,\\\"target_id\\\":2258215799,\\\"type\\\":\\\"CurriculumPrerequisite\\\"}],\\\"name\\\":\\\"MATH 2433\\\",\\\"metrics\\\":{\\\"centrality\\\":292,\\\"complexity\\\":27.0,\\\"blocking factor\\\":15,\\\"delay factor\\\":12.0},\\\"nameSub\\\":\\\"Calculus III\\\",\\\"id\\\":2258215799,\\\"credits\\\":3,\\\"nameCanonical\\\":\\\"\\\"},{\\\"curriculum_requisites\\\":[{\\\"source_id\\\":2258215799,\\\"target_id\\\":3718777895,\\\"type\\\":\\\"CurriculumCorequisite\\\"},{\\\"source_id\\\":2834873484,\\\"target_id\\\":3718777895,\\\"type\\\":\\\"CurriculumPrerequisite\\\"}],\\\"name\\\":\\\"PHYS 1322\\\",\\\"metrics\\\":{\\\"centrality\\\":426,\\\"complexity\\\":26.0,\\\"blocking factor\\\":14,\\\"delay factor\\\":12.0},\\\"nameSub\\\":\\\"University Physics II\\\",\\\"id\\\":3718777895,\\\"credits\\\":3,\\\"nameCanonical\\\":\\\"\\\"},{\\\"curriculum_requisites\\\":[{\\\"source_id\\\":3718777895,\\\"target_id\\\":3059602497,\\\"type\\\":\\\"CurriculumCorequisite\\\"}],\\\"name\\\":\\\"PHYS 1122\\\",\\\"metrics\\\":{\\\"centrality\\\":250,\\\"complexity\\\":25.0,\\\"blocking factor\\\":13,\\\"delay factor\\\":12.0},\\\"nameSub\\\":\\\"Physics Lab II\\\",\\\"id\\\":3059602497,\\\"credits\\\":1,\\\"nameCanonical\\\":\\\"\\\"},{\\\"curriculum_requisites\\\":[{\\\"source_id\\\":1177372781,\\\"target_id\\\":947037850,\\\"type\\\":\\\"CurriculumPrerequisite\\\"}],\\\"name\\\":\\\"MATH 3321\\\",\\\"metrics\\\":{\\\"centrality\\\":93,\\\"complexity\\\":23.0,\\\"blocking factor\\\":13,\\\"delay factor\\\":10.0},\\\"nameSub\\\":\\\"Engineering Math\\\",\\\"id\\\":947037850,\\\"credits\\\":3,\\\"nameCanonical\\\":\\\"\\\"},{\\\"curriculum_requisites\\\":[{\\\"source_id\\\":3718777895,\\\"target_id\\\":2138760932,\\\"type\\\":\\\"CurriculumCorequisite\\\"},{\\\"source_id\\\":3059602497,\\\"target_id\\\":2138760932,\\\"type\\\":\\\"CurriculumCorequisite\\\"},{\\\"source_id\\\":2258215799,\\\"target_id\\\":2138760932,\\\"type\\\":\\\"CurriculumCorequisite\\\"},{\\\"source_id\\\":1051497550,\\\"target_id\\\":2138760932,\\\"type\\\":\\\"CurriculumPrerequisite\\\"},{\\\"source_id\\\":947037850,\\\"target_id\\\":2138760932,\\\"type\\\":\\\"CurriculumCorequisite\\\"}],\\\"name\\\":\\\"ECE 2201\\\",\\\"metrics\\\":{\\\"centrality\\\":677,\\\"complexity\\\":24.0,\\\"blocking factor\\\":12,\\\"delay factor\\\":12.0},\\\"nameSub\\\":\\\"Circuit Analysis I\\\",\\\"id\\\":2138760932,\\\"credits\\\":3,\\\"nameCanonical\\\":\\\"\\\"}],\\\"id\\\":4},{\\\"name\\\":\\\"Term 5\\\",\\\"curriculum_items\\\":[{\\\"curriculum_requisites\\\":[],\\\"name\\\":\\\" \\\",\\\"metrics\\\":{\\\"centrality\\\":0,\\\"complexity\\\":1.0,\\\"blocking factor\\\":0,\\\"delay factor\\\":1.0},\\\"nameSub\\\":\\\"Creative Arts Core\\\",\\\"id\\\":848294223,\\\"credits\\\":3,\\\"nameCanonical\\\":\\\"\\\"},{\\\"curriculum_requisites\\\":[{\\\"source_id\\\":2138760932,\\\"target_id\\\":3887805990,\\\"type\\\":\\\"CurriculumPrerequisite\\\"}],\\\"name\\\":\\\"ECE 2202\\\",\\\"metrics\\\":{\\\"centrality\\\":393,\\\"complexity\\\":20.0,\\\"blocking factor\\\":8,\\\"delay factor\\\":12.0},\\\"nameSub\\\":\\\"Circuit Analysis II\\\",\\\"id\\\":3887805990,\\\"credits\\\":3,\\\"nameCanonical\\\":\\\"\\\"},{\\\"curriculum_requisites\\\":[{\\\"source_id\\\":3059602497,\\\"target_id\\\":1083857781,\\\"type\\\":\\\"CurriculumPrerequisite\\\"},{\\\"source_id\\\":3887805990,\\\"target_id\\\":1083857781,\\\"type\\\":\\\"CurriculumCorequisite\\\"}],\\\"name\\\":\\\"ECE 2100\\\",\\\"metrics\\\":{\\\"centrality\\\":295,\\\"complexity\\\":17.0,\\\"blocking factor\\\":5,\\\"delay factor\\\":12.0},\\\"nameSub\\\":\\\"Circuits Lab\\\",\\\"id\\\":1083857781,\\\"credits\\\":1,\\\"nameCanonical\\\":\\\"\\\"},{\\\"curriculum_requisites\\\":[{\\\"source_id\\\":3195103903,\\\"target_id\\\":1770099342,\\\"type\\\":\\\"CurriculumPrerequisite\\\"},{\\\"source_id\\\":2138760932,\\\"target_id\\\":1770099342,\\\"type\\\":\\\"CurriculumPrerequisite\\\"}],\\\"name\\\":\\\"ENGI 2304\\\",\\\"metrics\\\":{\\\"centrality\\\":159,\\\"complexity\\\":15.0,\\\"blocking factor\\\":4,\\\"delay factor\\\":11.0},\\\"nameSub\\\":\\\"Technical Communication\\\",\\\"id\\\":1770099342,\\\"credits\\\":3,\\\"nameCanonical\\\":\\\"\\\"},{\\\"curriculum_requisites\\\":[{\\\"source_id\\\":947037850,\\\"target_id\\\":649106202,\\\"type\\\":\\\"CurriculumPrerequisite\\\"},{\\\"source_id\\\":2138760932,\\\"target_id\\\":649106202,\\\"type\\\":\\\"CurriculumPrerequisite\\\"}],\\\"name\\\":\\\"ECE 3331\\\",\\\"metrics\\\":{\\\"centrality\\\":152,\\\"complexity\\\":14.0,\\\"blocking factor\\\":4,\\\"delay factor\\\":10.0},\\\"nameSub\\\":\\\"Programming Apps in ECE\\\",\\\"id\\\":649106202,\\\"credits\\\":3,\\\"nameCanonical\\\":\\\"\\\"},{\\\"curriculum_requisites\\\":[{\\\"source_id\\\":3887805990,\\\"target_id\\\":2791403937,\\\"type\\\":\\\"CurriculumCorequisite\\\"}],\\\"name\\\":\\\"ECE 3337\\\",\\\"metrics\\\":{\\\"centrality\\\":154,\\\"complexity\\\":15.0,\\\"blocking factor\\\":4,\\\"delay factor\\\":11.0},\\\"nameSub\\\":\\\"Signals & Systems Analysis\\\",\\\"id\\\":2791403937,\\\"credits\\\":3,\\\"nameCanonical\\\":\\\"\\\"},{\\\"curriculum_requisites\\\":[{\\\"source_id\\\":1083857781,\\\"target_id\\\":4184346648,\\\"type\\\":\\\"CurriculumCorequisite\\\"},{\\\"source_id\\\":649106202,\\\"target_id\\\":4184346648,\\\"type\\\":\\\"CurriculumCorequisite\\\"}],\\\"name\\\":\\\"ECE 3436\\\",\\\"metrics\\\":{\\\"centrality\\\":171,\\\"complexity\\\":13.0,\\\"blocking factor\\\":2,\\\"delay factor\\\":11.0},\\\"nameSub\\\":\\\"Microprocessors\\\",\\\"id\\\":4184346648,\\\"credits\\\":3,\\\"nameCanonical\\\":\\\"\\\"}],\\\"id\\\":5},{\\\"name\\\":\\\"Term 6\\\",\\\"curriculum_items\\\":[{\\\"curriculum_requisites\\\":[],\\\"name\\\":\\\" \\\",\\\"metrics\\\":{\\\"centrality\\\":0,\\\"complexity\\\":1.0,\\\"blocking factor\\\":0,\\\"delay factor\\\":1.0},\\\"nameSub\\\":\\\"ECE Elective 1\\\",\\\"id\\\":2051928090,\\\"credits\\\":3,\\\"nameCanonical\\\":\\\"\\\"},{\\\"curriculum_requisites\\\":[{\\\"source_id\\\":1083857781,\\\"target_id\\\":1966522372,\\\"type\\\":\\\"CurriculumPrerequisite\\\"},{\\\"source_id\\\":1770099342,\\\"target_id\\\":1966522372,\\\"type\\\":\\\"CurriculumPrerequisite\\\"}],\\\"name\\\":\\\"ECE 3155\\\",\\\"metrics\\\":{\\\"centrality\\\":359,\\\"complexity\\\":15.0,\\\"blocking factor\\\":3,\\\"delay factor\\\":12.0},\\\"nameSub\\\":\\\"Electronics Lab\\\",\\\"id\\\":1966522372,\\\"credits\\\":1,\\\"nameCanonical\\\":\\\"\\\"},{\\\"curriculum_requisites\\\":[{\\\"source_id\\\":1966522372,\\\"target_id\\\":4165958389,\\\"type\\\":\\\"CurriculumStrictCorequisite\\\"},{\\\"source_id\\\":2791403937,\\\"target_id\\\":4165958389,\\\"type\\\":\\\"CurriculumPrerequisite\\\"}],\\\"name\\\":\\\"ECE 3355\\\",\\\"metrics\\\":{\\\"centrality\\\":266,\\\"complexity\\\":14.0,\\\"blocking factor\\\":2,\\\"delay factor\\\":12.0},\\\"nameSub\\\":\\\"Electronics\\\",\\\"id\\\":4165958389,\\\"credits\\\":3,\\\"nameCanonical\\\":\\\"\\\"},{\\\"curriculum_requisites\\\":[{\\\"source_id\\\":2791403937,\\\"target_id\\\":2252871414,\\\"type\\\":\\\"CurriculumPrerequisite\\\"}],\\\"name\\\":\\\"ECE 3317\\\",\\\"metrics\\\":{\\\"centrality\\\":77,\\\"complexity\\\":13.0,\\\"blocking factor\\\":2,\\\"delay factor\\\":11.0},\\\"nameSub\\\":\\\"Applied EM Waves\\\",\\\"id\\\":2252871414,\\\"credits\\\":3,\\\"nameCanonical\\\":\\\"\\\"},{\\\"curriculum_requisites\\\":[{\\\"source_id\\\":649106202,\\\"target_id\\\":3368026167,\\\"type\\\":\\\"CurriculumPrerequisite\\\"}],\\\"name\\\":\\\"ECE 3340\\\",\\\"metrics\\\":{\\\"centrality\\\":76,\\\"complexity\\\":12.0,\\\"blocking factor\\\":2,\\\"delay factor\\\":10.0},\\\"nameSub\\\":\\\"Numerical Methods\\\",\\\"id\\\":3368026167,\\\"credits\\\":3,\\\"nameCanonical\\\":\\\"\\\"},{\\\"curriculum_requisites\\\":[],\\\"name\\\":\\\" \\\",\\\"metrics\\\":{\\\"centrality\\\":0,\\\"complexity\\\":1.0,\\\"blocking factor\\\":0,\\\"delay factor\\\":1.0},\\\"nameSub\\\":\\\"ECE Elective 2\\\",\\\"id\\\":672829327,\\\"credits\\\":3,\\\"nameCanonical\\\":\\\"\\\"},{\\\"curriculum_requisites\\\":[],\\\"name\\\":\\\" \\\",\\\"metrics\\\":{\\\"centrality\\\":0,\\\"complexity\\\":1.0,\\\"blocking factor\\\":0,\\\"delay factor\\\":1.0},\\\"nameSub\\\":\\\"Elective Lab 1\\\",\\\"id\\\":26700799,\\\"credits\\\":1,\\\"nameCanonical\\\":\\\"\\\"},{\\\"curriculum_requisites\\\":[],\\\"name\\\":\\\" \\\",\\\"metrics\\\":{\\\"centrality\\\":0,\\\"complexity\\\":1.0,\\\"blocking factor\\\":0,\\\"delay factor\\\":1.0},\\\"nameSub\\\":\\\"Elective Lab 2\\\",\\\"id\\\":1296179090,\\\"credits\\\":1,\\\"nameCanonical\\\":\\\"\\\"},{\\\"curriculum_requisites\\\":[],\\\"name\\\":\\\" \\\",\\\"metrics\\\":{\\\"centrality\\\":0,\\\"complexity\\\":1.0,\\\"blocking factor\\\":0,\\\"delay factor\\\":1.0},\\\"nameSub\\\":\\\"Elective Lab 3\\\",\\\"id\\\":3091492697,\\\"credits\\\":1,\\\"nameCanonical\\\":\\\"\\\"},{\\\"curriculum_requisites\\\":[],\\\"name\\\":\\\" \\\",\\\"metrics\\\":{\\\"centrality\\\":0,\\\"complexity\\\":1.0,\\\"blocking factor\\\":0,\\\"delay factor\\\":1.0},\\\"nameSub\\\":\\\"Elective Lab 4\\\",\\\"id\\\":2450156574,\\\"credits\\\":1,\\\"nameCanonical\\\":\\\"\\\"}],\\\"id\\\":6},{\\\"name\\\":\\\"Term 7\\\",\\\"curriculum_items\\\":[{\\\"curriculum_requisites\\\":[],\\\"name\\\":\\\" \\\",\\\"metrics\\\":{\\\"centrality\\\":0,\\\"complexity\\\":1.0,\\\"blocking factor\\\":0,\\\"delay factor\\\":1.0},\\\"nameSub\\\":\\\"Lang., Phil. & Culture Core\\\",\\\"id\\\":1626752824,\\\"credits\\\":3,\\\"nameCanonical\\\":\\\"\\\"},{\\\"curriculum_requisites\\\":[{\\\"source_id\\\":1966522372,\\\"target_id\\\":1337097032,\\\"type\\\":\\\"CurriculumPrerequisite\\\"},{\\\"source_id\\\":4184346648,\\\"target_id\\\":1337097032,\\\"type\\\":\\\"CurriculumPrerequisite\\\"},{\\\"source_id\\\":3368026167,\\\"target_id\\\":1337097032,\\\"type\\\":\\\"CurriculumPrerequisite\\\"},{\\\"source_id\\\":2888554139,\\\"target_id\\\":1337097032,\\\"type\\\":\\\"CurriculumPrerequisite\\\"},{\\\"source_id\\\":4165958389,\\\"target_id\\\":1337097032,\\\"type\\\":\\\"CurriculumPrerequisite\\\"},{\\\"source_id\\\":3224555476,\\\"target_id\\\":1337097032,\\\"type\\\":\\\"CurriculumCorequisite\\\"},{\\\"source_id\\\":2252871414,\\\"target_id\\\":1337097032,\\\"type\\\":\\\"CurriculumPrerequisite\\\"}],\\\"name\\\":\\\"ECE 4335\\\",\\\"metrics\\\":{\\\"centrality\\\":779,\\\"complexity\\\":13.0,\\\"blocking factor\\\":1,\\\"delay factor\\\":12.0},\\\"nameSub\\\":\\\"ECE Design I\\\",\\\"id\\\":1337097032,\\\"credits\\\":3,\\\"nameCanonical\\\":\\\"\\\"},{\\\"curriculum_requisites\\\":[],\\\"name\\\":\\\" \\\",\\\"metrics\\\":{\\\"centrality\\\":0,\\\"complexity\\\":1.0,\\\"blocking factor\\\":0,\\\"delay factor\\\":1.0},\\\"nameSub\\\":\\\"Technical Elective\\\",\\\"id\\\":2529896330,\\\"credits\\\":3,\\\"nameCanonical\\\":\\\"\\\"}],\\\"id\\\":7},{\\\"name\\\":\\\"Term 8\\\",\\\"curriculum_items\\\":[{\\\"curriculum_requisites\\\":[{\\\"source_id\\\":1337097032,\\\"target_id\\\":1158404973,\\\"type\\\":\\\"CurriculumPrerequisite\\\"}],\\\"name\\\":\\\"ECE 4336\\\",\\\"metrics\\\":{\\\"centrality\\\":0,\\\"complexity\\\":12.0,\\\"blocking factor\\\":0,\\\"delay factor\\\":12.0},\\\"nameSub\\\":\\\"ECE Design II\\\",\\\"id\\\":1158404973,\\\"credits\\\":3,\\\"nameCanonical\\\":\\\"\\\"}],\\\"id\\\":8}],\\\"institution\\\":\\\"ACME Univ.\\\"}},\\\"*\\\"); window.removeEventListener(\\\"message\\\",window.messageReceived); window.messageReceived=(function (event){return (event.data.curriculum!==undefined) ? (WebIO.setval({\\\"name\\\":\\\"curriculum-data\\\",\\\"scope\\\":\\\"8021538582331169813\\\",\\\"id\\\":\\\"4021725585851844889\\\",\\\"type\\\":\\\"observable\\\"},event.data.curriculum)) : undefined}); return window.addEventListener(\\\"message\\\",window.messageReceived)})\"},\"style\":{\"padding\":\"0\",\"height\":\"100vh\",\"margin\":\"0\",\"border\":\"none\",\"width\":\"100%\"}},\"nodeType\":\"DOM\",\"type\":\"node\",\"instanceArgs\":{\"namespace\":\"html\",\"tag\":\"iframe\"},\"children\":[\"\"]}]},\n",
       "            window,\n",
       "        );\n",
       "    } else {\n",
       "        document\n",
       "            .querySelector('[data-webio-mountpoint=\"2857109145228082846\"]')\n",
       "            .innerHTML = (\n",
       "                '<div style=\"padding: 1em; background-color: #f8d6da; border: 1px solid #f5c6cb\">' +\n",
       "                '<p><strong>WebIO not detected.</strong></p>' +\n",
       "                '<p>Please read ' +\n",
       "                '<a href=\"https://juliagizmos.github.io/WebIO.jl/latest/troubleshooting/not-detected/\" target=\"_blank\">the troubleshooting guide</a> ' +\n",
       "                'for more information on how to resolve this issue.</p>' +\n",
       "                '<p><a href=\"https://juliagizmos.github.io/WebIO.jl/latest/troubleshooting/not-detected/\" target=\"_blank\">https://juliagizmos.github.io/WebIO.jl/latest/troubleshooting/not-detected/</a></p>' +\n",
       "                '</div>'\n",
       "            );\n",
       "    }\n",
       "    </script>\n",
       "</div>\n"
      ],
      "text/plain": [
       "WebIO.Scope(WebIO.Node{WebIO.DOM}(WebIO.DOM(:html, :iframe), Any[\"\"], Dict{Symbol, Any}(:src => \"https://curricula-api-embed.damoursystems.com/\", :id => \"curriculum\", :events => Dict{Symbol, WebIO.JSString}(:load => WebIO.JSString(\"(function (){this.contentWindow.postMessage({\\\"options\\\":{\\\"hideTerms\\\":true,\\\"edit\\\":false},\\\"curriculum\\\":{\\\"name\\\":\\\"A Real EE Program\\\",\\\"dp_name\\\":\\\"\\\",\\\"curriculum_terms\\\":[{\\\"name\\\":\\\"Term 1\\\",\\\"curriculum_items\\\":[{\\\"curriculum_requisites\\\":[],\\\"name\\\":\\\"ENGL 1303\\\",\\\"metrics\\\":{\\\"centrality\\\":0,\\\"complexity\\\":13.0,\\\"blocking factor\\\":6,\\\"delay factor\\\":7.0},\\\"nameSub\\\":\\\"First Year Writing I\\\",\\\"id\\\":1324171406,\\\"credits\\\":3,\\\"nameCanonical\\\":\\\"\\\"},{\\\"curriculum_requisites\\\":[],\\\"name\\\":\\\"CHEM 1331\\\",\\\"metrics\\\":{\\\"centrality\\\":0,\\\"complexity\\\":3.0,\\\"blocking factor\\\":1,\\\"delay factor\\\":2.0},\\\"nameSub\\\":\\\"Fund. of Chemistry\\\",\\\"id\\\":1351802580,\\\"credits\\\":3,\\\"nameCanonical\\\":\\\"\\\"},{\\\"curriculum_requisites\\\":[{\\\"source_id\\\":1351802580,\\\"target_id\\\":2195546016,\\\"type\\\":\\\"CurriculumCorequisite\\\"}],\\\"name\\\":\\\"CHEM 1111\\\",\\\"metrics\\\":{\\\"centrality\\\":0,\\\"complexity\\\":2.0,\\\"blocking factor\\\":0,\\\"delay factor\\\":2.0},\\\"nameSub\\\":\\\"Fund. of Chemistry Lab\\\",\\\"id\\\":2195546016,\\\"credits\\\":1,\\\"nameCanonical\\\":\\\"\\\"},{\\\"curriculum_requisites\\\":[],\\\"name\\\":\\\"POLS 1336\\\",\\\"metrics\\\":{\\\"centrality\\\":0,\\\"complexity\\\":1.0,\\\"blocking factor\\\":0,\\\"delay factor\\\":1.0},\\\"nameSub\\\":\\\"US and TX Constitutions & Politics\\\",\\\"id\\\":1541543378,\\\"credits\\\":3,\\\"nameCanonical\\\":\\\"\\\"},{\\\"curriculum_requisites\\\":[],\\\"name\\\":\\\"POLS 1337\\\",\\\"metrics\\\":{\\\"centrality\\\":0,\\\"complexity\\\":1.0,\\\"blocking factor\\\":0,\\\"delay factor\\\":1.0},\\\"nameSub\\\":\\\"US Gov: Congress, President and Courts\\\",\\\"id\\\":951874139,\\\"credits\\\":3,\\\"nameCanonical\\\":\\\"\\\"},{\\\"curriculum_requisites\\\":[],\\\"name\\\":\\\"HIST 1377\\\",\\\"metrics\\\":{\\\"centrality\\\":0,\\\"complexity\\\":1.0,\\\"blocking factor\\\":0,\\\"delay factor\\\":1.0},\\\"nameSub\\\":\\\"The US to 1877\\\",\\\"id\\\":3824069494,\\\"credits\\\":3,\\\"nameCanonical\\\":\\\"\\\"},{\\\"curriculum_requisites\\\":[],\\\"name\\\":\\\"HIST 1378\\\",\\\"metrics\\\":{\\\"centrality\\\":0,\\\"complexity\\\":1.0,\\\"blocking factor\\\":0,\\\"delay factor\\\":1.0},\\\"nameSub\\\":\\\"US Since 1877\\\",\\\"id\\\":2731496025,\\\"credits\\\":3,\\\"nameCanonical\\\":\\\"\\\"}],\\\"id\\\":1},{\\\"name\\\":\\\"Term 2\\\",\\\"curriculum_items\\\":[{\\\"curriculum_requisites\\\":[],\\\"name\\\":\\\"MATH 1431\\\",\\\"metrics\\\":{\\\"centrality\\\":0,\\\"complexity\\\":35.0,\\\"blocking factor\\\":23,\\\"delay factor\\\":12.0},\\\"nameSub\\\":\\\"Calculus I\\\",\\\"id\\\":4175014649,\\\"credits\\\":4,\\\"nameCanonical\\\":\\\"\\\"},{\\\"curriculum_requisites\\\":[{\\\"source_id\\\":4175014649,\\\"target_id\\\":1764441140,\\\"type\\\":\\\"CurriculumCorequisite\\\"}],\\\"name\\\":\\\"ENGI 1100\\\",\\\"metrics\\\":{\\\"centrality\\\":85,\\\"complexity\\\":25.0,\\\"blocking factor\\\":15,\\\"delay factor\\\":10.0},\\\"nameSub\\\":\\\"Intro to Engr.\\\",\\\"id\\\":1764441140,\\\"credits\\\":1,\\\"nameCanonical\\\":\\\"\\\"},{\\\"curriculum_requisites\\\":[{\\\"source_id\\\":1324171406,\\\"target_id\\\":3195103903,\\\"type\\\":\\\"CurriculumPrerequisite\\\"}],\\\"name\\\":\\\"ENGL 1304\\\",\\\"metrics\\\":{\\\"centrality\\\":13,\\\"complexity\\\":12.0,\\\"blocking factor\\\":5,\\\"delay factor\\\":7.0},\\\"nameSub\\\":\\\"First Year Writing II\\\",\\\"id\\\":3195103903,\\\"credits\\\":3,\\\"nameCanonical\\\":\\\"\\\"},{\\\"curriculum_requisites\\\":[],\\\"name\\\":\\\"ECON 2304\\\",\\\"metrics\\\":{\\\"centrality\\\":0,\\\"complexity\\\":5.0,\\\"blocking factor\\\":2,\\\"delay factor\\\":3.0},\\\"nameSub\\\":\\\"Microeconomic Principles\\\",\\\"id\\\":3224555476,\\\"credits\\\":3,\\\"nameCanonical\\\":\\\"\\\"},{\\\"curriculum_requisites\\\":[],\\\"name\\\":\\\" \\\",\\\"metrics\\\":{\\\"centrality\\\":0,\\\"complexity\\\":1.0,\\\"blocking factor\\\":0,\\\"delay factor\\\":1.0},\\\"nameSub\\\":\\\"Concentration Elective 1\\\",\\\"id\\\":1056053313,\\\"credits\\\":3,\\\"nameCanonical\\\":\\\"\\\"},{\\\"curriculum_requisites\\\":[],\\\"name\\\":\\\" \\\",\\\"metrics\\\":{\\\"centrality\\\":0,\\\"complexity\\\":1.0,\\\"blocking factor\\\":0,\\\"delay factor\\\":1.0},\\\"nameSub\\\":\\\"Concentration Elective 2\\\",\\\"id\\\":1745860227,\\\"credits\\\":3,\\\"nameCanonical\\\":\\\"\\\"},{\\\"curriculum_requisites\\\":[],\\\"name\\\":\\\" \\\",\\\"metrics\\\":{\\\"centrality\\\":0,\\\"complexity\\\":1.0,\\\"blocking factor\\\":0,\\\"delay factor\\\":1.0},\\\"nameSub\\\":\\\"Concentration Elective 3\\\",\\\"id\\\":1105094343,\\\"credits\\\":3,\\\"nameCanonical\\\":\\\"\\\"}],\\\"id\\\":2},{\\\"name\\\":\\\"Term 3\\\",\\\"curriculum_items\\\":[{\\\"curriculum_requisites\\\":[],\\\"name\\\":\\\" \\\",\\\"metrics\\\":{\\\"centrality\\\":0,\\\"complexity\\\":1.0,\\\"blocking factor\\\":0,\\\"delay factor\\\":1.0},\\\"nameSub\\\":\\\"Concentration Elective 4\\\",\\\"id\\\":1819261218,\\\"credits\\\":3,\\\"nameCanonical\\\":\\\"\\\"},{\\\"curriculum_requisites\\\":[{\\\"source_id\\\":4175014649,\\\"target_id\\\":1051497550,\\\"type\\\":\\\"CurriculumPrerequisite\\\"},{\\\"source_id\\\":1764441140,\\\"target_id\\\":1051497550,\\\"type\\\":\\\"CurriculumPrerequisite\\\"}],\\\"name\\\":\\\"ENGI 1331\\\",\\\"metrics\\\":{\\\"centrality\\\":160,\\\"complexity\\\":24.0,\\\"blocking factor\\\":14,\\\"delay factor\\\":10.0},\\\"nameSub\\\":\\\"Computing & Prob. Solving\\\",\\\"id\\\":1051497550,\\\"credits\\\":3,\\\"nameCanonical\\\":\\\"\\\"},{\\\"curriculum_requisites\\\":[{\\\"source_id\\\":4175014649,\\\"target_id\\\":1177372781,\\\"type\\\":\\\"CurriculumPrerequisite\\\"}],\\\"name\\\":\\\"MATH 1432\\\",\\\"metrics\\\":{\\\"centrality\\\":607,\\\"complexity\\\":32.0,\\\"blocking factor\\\":20,\\\"delay factor\\\":12.0},\\\"nameSub\\\":\\\"Calculus II\\\",\\\"id\\\":1177372781,\\\"credits\\\":4,\\\"nameCanonical\\\":\\\"\\\"},{\\\"curriculum_requisites\\\":[{\\\"source_id\\\":1177372781,\\\"target_id\\\":2834873484,\\\"type\\\":\\\"CurriculumCorequisite\\\"}],\\\"name\\\":\\\"PHYS 1321\\\",\\\"metrics\\\":{\\\"centrality\\\":217,\\\"complexity\\\":28.0,\\\"blocking factor\\\":16,\\\"delay factor\\\":12.0},\\\"nameSub\\\":\\\"University Physics I\\\",\\\"id\\\":2834873484,\\\"credits\\\":3,\\\"nameCanonical\\\":\\\"\\\"},{\\\"curriculum_requisites\\\":[{\\\"source_id\\\":2834873484,\\\"target_id\\\":3178954113,\\\"type\\\":\\\"CurriculumCorequisite\\\"}],\\\"name\\\":\\\"PHYS 1121\\\",\\\"metrics\\\":{\\\"centrality\\\":0,\\\"complexity\\\":4.0,\\\"blocking factor\\\":0,\\\"delay factor\\\":4.0},\\\"nameSub\\\":\\\"Physics Lab I\\\",\\\"id\\\":3178954113,\\\"credits\\\":1,\\\"nameCanonical\\\":\\\"\\\"},{\\\"curriculum_requisites\\\":[],\\\"name\\\":\\\" \\\",\\\"metrics\\\":{\\\"centrality\\\":0,\\\"complexity\\\":1.0,\\\"blocking factor\\\":0,\\\"delay factor\\\":1.0},\\\"nameSub\\\":\\\"Concentration Elective 5\\\",\\\"id\\\":2070124031,\\\"credits\\\":3,\\\"nameCanonical\\\":\\\"\\\"},{\\\"curriculum_requisites\\\":[],\\\"name\\\":\\\" \\\",\\\"metrics\\\":{\\\"centrality\\\":0,\\\"complexity\\\":1.0,\\\"blocking factor\\\":0,\\\"delay factor\\\":1.0},\\\"nameSub\\\":\\\"Concentration Elective 6\\\",\\\"id\\\":1716266479,\\\"credits\\\":3,\\\"nameCanonical\\\":\\\"\\\"}],\\\"id\\\":3},{\\\"name\\\":\\\"Term 4\\\",\\\"curriculum_items\\\":[{\\\"curriculum_requisites\\\":[],\\\"name\\\":\\\" \\\",\\\"metrics\\\":{\\\"centrality\\\":0,\\\"complexity\\\":1.0,\\\"blocking factor\\\":0,\\\"delay factor\\\":1.0},\\\"nameSub\\\":\\\"Concentration Elective 7\\\",\\\"id\\\":2584207151,\\\"credits\\\":3,\\\"nameCanonical\\\":\\\"\\\"},{\\\"curriculum_requisites\\\":[{\\\"source_id\\\":1051497550,\\\"target_id\\\":2888554139,\\\"type\\\":\\\"CurriculumPrerequisite\\\"},{\\\"source_id\\\":1177372781,\\\"target_id\\\":2888554139,\\\"type\\\":\\\"CurriculumPrerequisite\\\"}],\\\"name\\\":\\\"INDE 2333\\\",\\\"metrics\\\":{\\\"centrality\\\":16,\\\"complexity\\\":8.0,\\\"blocking factor\\\":2,\\\"delay factor\\\":6.0},\\\"nameSub\\\":\\\"Engineering Statistics\\\",\\\"id\\\":2888554139,\\\"credits\\\":3,\\\"nameCanonical\\\":\\\"\\\"},{\\\"curriculum_requisites\\\":[{\\\"source_id\\\":1177372781,\\\"target_id\\\":2258215799,\\\"type\\\":\\\"CurriculumPrerequisite\\\"}],\\\"name\\\":\\\"MATH 2433\\\",\\\"metrics\\\":{\\\"centrality\\\":292,\\\"complexity\\\":27.0,\\\"blocking factor\\\":15,\\\"delay factor\\\":12.0},\\\"nameSub\\\":\\\"Calculus III\\\",\\\"id\\\":2258215799,\\\"credits\\\":3,\\\"nameCanonical\\\":\\\"\\\"},{\\\"curriculum_requisites\\\":[{\\\"source_id\\\":2258215799,\\\"target_id\\\":3718777895,\\\"type\\\":\\\"CurriculumCorequisite\\\"},{\\\"source_id\\\":2834873484,\\\"target_id\\\":3718777895,\\\"type\\\":\\\"CurriculumPrerequisite\\\"}],\\\"name\\\":\\\"PHYS 1322\\\",\\\"metrics\\\":{\\\"centrality\\\":426,\\\"complexity\\\":26.0,\\\"blocking factor\\\":14,\\\"delay factor\\\":12.0},\\\"nameSub\\\":\\\"University Physics II\\\",\\\"id\\\":3718777895,\\\"credits\\\":3,\\\"nameCanonical\\\":\\\"\\\"},{\\\"curriculum_requisites\\\":[{\\\"source_id\\\":3718777895,\\\"target_id\\\":3059602497,\\\"type\\\":\\\"CurriculumCorequisite\\\"}],\\\"name\\\":\\\"PHYS 1122\\\",\\\"metrics\\\":{\\\"centrality\\\":250,\\\"complexity\\\":25.0,\\\"blocking factor\\\":13,\\\"delay factor\\\":12.0},\\\"nameSub\\\":\\\"Physics Lab II\\\",\\\"id\\\":3059602497,\\\"credits\\\":1,\\\"nameCanonical\\\":\\\"\\\"},{\\\"curriculum_requisites\\\":[{\\\"source_id\\\":1177372781,\\\"target_id\\\":947037850,\\\"type\\\":\\\"CurriculumPrerequisite\\\"}],\\\"name\\\":\\\"MATH 3321\\\",\\\"metrics\\\":{\\\"centrality\\\":93,\\\"complexity\\\":23.0,\\\"blocking factor\\\":13,\\\"delay factor\\\":10.0},\\\"nameSub\\\":\\\"Engineering Math\\\",\\\"id\\\":947037850,\\\"credits\\\":3,\\\"nameCanonical\\\":\\\"\\\"},{\\\"curriculum_requisites\\\":[{\\\"source_id\\\":3718777895,\\\"target_id\\\":2138760932,\\\"type\\\":\\\"CurriculumCorequisite\\\"},{\\\"source_id\\\":3059602497,\\\"target_id\\\":2138760932,\\\"type\\\":\\\"CurriculumCorequisite\\\"},{\\\"source_id\\\":2258215799,\\\"target_id\\\":2138760932,\\\"type\\\":\\\"CurriculumCorequisite\\\"},{\\\"source_id\\\":1051497550,\\\"target_id\\\":2138760932,\\\"type\\\":\\\"CurriculumPrerequisite\\\"},{\\\"source_id\\\":947037850,\\\"target_id\\\":2138760932,\\\"type\\\":\\\"CurriculumCorequisite\\\"}],\\\"name\\\":\\\"ECE 2201\\\",\\\"metrics\\\":{\\\"centrality\\\":677,\\\"complexity\\\":24.0,\\\"blocking factor\\\":12,\\\"delay factor\\\":12.0},\\\"nameSub\\\":\\\"Circuit Analysis I\\\",\\\"id\\\":2138760932,\\\"credits\\\":3,\\\"nameCanonical\\\":\\\"\\\"}],\\\"id\\\":4},{\\\"name\\\":\\\"Term 5\\\",\\\"curriculum_items\\\":[{\\\"curriculum_requisites\\\":[],\\\"name\\\":\\\" \\\",\\\"metrics\\\":{\\\"centrality\\\":0,\\\"complexity\\\":1.0,\\\"blocking factor\\\":0,\\\"delay factor\\\":1.0},\\\"nameSub\\\":\\\"Creative Arts Core\\\",\\\"id\\\":848294223,\\\"credits\\\":3,\\\"nameCanonical\\\":\\\"\\\"},{\\\"curriculum_requisites\\\":[{\\\"source_id\\\":2138760932,\\\"target_id\\\":3887805990,\\\"type\\\":\\\"CurriculumPrerequisite\\\"}],\\\"name\\\":\\\"ECE 2202\\\",\\\"metrics\\\":{\\\"centrality\\\":393,\\\"complexity\\\":20.0,\\\"blocking factor\\\":8,\\\"delay factor\\\":12.0},\\\"nameSub\\\":\\\"Circuit Analysis II\\\",\\\"id\\\":3887805990,\\\"credits\\\":3,\\\"nameCanonical\\\":\\\"\\\"},{\\\"curriculum_requisites\\\":[{\\\"source_id\\\":3059602497,\\\"target_id\\\":1083857781,\\\"type\\\":\\\"CurriculumPrerequisite\\\"},{\\\"source_id\\\":3887805990,\\\"target_id\\\":1083857781,\\\"type\\\":\\\"CurriculumCorequisite\\\"}],\\\"name\\\":\\\"ECE 2100\\\",\\\"metrics\\\":{\\\"centrality\\\":295,\\\"complexity\\\":17.0,\\\"blocking factor\\\":5,\\\"delay factor\\\":12.0},\\\"nameSub\\\":\\\"Circuits Lab\\\",\\\"id\\\":1083857781,\\\"credits\\\":1,\\\"nameCanonical\\\":\\\"\\\"},{\\\"curriculum_requisites\\\":[{\\\"source_id\\\":3195103903,\\\"target_id\\\":1770099342,\\\"type\\\":\\\"CurriculumPrerequisite\\\"},{\\\"source_id\\\":2138760932,\\\"target_id\\\":1770099342,\\\"type\\\":\\\"CurriculumPrerequisite\\\"}],\\\"name\\\":\\\"ENGI 2304\\\",\\\"metrics\\\":{\\\"centrality\\\":159,\\\"complexity\\\":15.0,\\\"blocking factor\\\":4,\\\"delay factor\\\":11.0},\\\"nameSub\\\":\\\"Technical Communication\\\",\\\"id\\\":1770099342,\\\"credits\\\":3,\\\"nameCanonical\\\":\\\"\\\"},{\\\"curriculum_requisites\\\":[{\\\"source_id\\\":947037850,\\\"target_id\\\":649106202,\\\"type\\\":\\\"CurriculumPrerequisite\\\"},{\\\"source_id\\\":2138760932,\\\"target_id\\\":649106202,\\\"type\\\":\\\"CurriculumPrerequisite\\\"}],\\\"name\\\":\\\"ECE 3331\\\",\\\"metrics\\\":{\\\"centrality\\\":152,\\\"complexity\\\":14.0,\\\"blocking factor\\\":4,\\\"delay factor\\\":10.0},\\\"nameSub\\\":\\\"Programming Apps in ECE\\\",\\\"id\\\":649106202,\\\"credits\\\":3,\\\"nameCanonical\\\":\\\"\\\"},{\\\"curriculum_requisites\\\":[{\\\"source_id\\\":3887805990,\\\"target_id\\\":2791403937,\\\"type\\\":\\\"CurriculumCorequisite\\\"}],\\\"name\\\":\\\"ECE 3337\\\",\\\"metrics\\\":{\\\"centrality\\\":154,\\\"complexity\\\":15.0,\\\"blocking factor\\\":4,\\\"delay factor\\\":11.0},\\\"nameSub\\\":\\\"Signals & Systems Analysis\\\",\\\"id\\\":2791403937,\\\"credits\\\":3,\\\"nameCanonical\\\":\\\"\\\"},{\\\"curriculum_requisites\\\":[{\\\"source_id\\\":1083857781,\\\"target_id\\\":4184346648,\\\"type\\\":\\\"CurriculumCorequisite\\\"},{\\\"source_id\\\":649106202,\\\"target_id\\\":4184346648,\\\"type\\\":\\\"CurriculumCorequisite\\\"}],\\\"name\\\":\\\"ECE 3436\\\",\\\"metrics\\\":{\\\"centrality\\\":171,\\\"complexity\\\":13.0,\\\"blocking factor\\\":2,\\\"delay factor\\\":11.0},\\\"nameSub\\\":\\\"Microprocessors\\\",\\\"id\\\":4184346648,\\\"credits\\\":3,\\\"nameCanonical\\\":\\\"\\\"}],\\\"id\\\":5},{\\\"name\\\":\\\"Term 6\\\",\\\"curriculum_items\\\":[{\\\"curriculum_requisites\\\":[],\\\"name\\\":\\\" \\\",\\\"metrics\\\":{\\\"centrality\\\":0,\\\"complexity\\\":1.0,\\\"blocking factor\\\":0,\\\"delay factor\\\":1.0},\\\"nameSub\\\":\\\"ECE Elective 1\\\",\\\"id\\\":2051928090,\\\"credits\\\":3,\\\"nameCanonical\\\":\\\"\\\"},{\\\"curriculum_requisites\\\":[{\\\"source_id\\\":1083857781,\\\"target_id\\\":1966522372,\\\"type\\\":\\\"CurriculumPrerequisite\\\"},{\\\"source_id\\\":1770099342,\\\"target_id\\\":1966522372,\\\"type\\\":\\\"CurriculumPrerequisite\\\"}],\\\"name\\\":\\\"ECE 3155\\\",\\\"metrics\\\":{\\\"centrality\\\":359,\\\"complexity\\\":15.0,\\\"blocking factor\\\":3,\\\"delay factor\\\":12.0},\\\"nameSub\\\":\\\"Electronics Lab\\\",\\\"id\\\":1966522372,\\\"credits\\\":1,\\\"nameCanonical\\\":\\\"\\\"},{\\\"curriculum_requisites\\\":[{\\\"source_id\\\":1966522372,\\\"target_id\\\":4165958389,\\\"type\\\":\\\"CurriculumStrictCorequisite\\\"},{\\\"source_id\\\":2791403937,\\\"target_id\\\":4165958389,\\\"type\\\":\\\"CurriculumPrerequisite\\\"}],\\\"name\\\":\\\"ECE 3355\\\",\\\"metrics\\\":{\\\"centrality\\\":266,\\\"complexity\\\":14.0,\\\"blocking factor\\\":2,\\\"delay factor\\\":12.0},\\\"nameSub\\\":\\\"Electronics\\\",\\\"id\\\":4165958389,\\\"credits\\\":3,\\\"nameCanonical\\\":\\\"\\\"},{\\\"curriculum_requisites\\\":[{\\\"source_id\\\":2791403937,\\\"target_id\\\":2252871414,\\\"type\\\":\\\"CurriculumPrerequisite\\\"}],\\\"name\\\":\\\"ECE 3317\\\",\\\"metrics\\\":{\\\"centrality\\\":77,\\\"complexity\\\":13.0,\\\"blocking factor\\\":2,\\\"delay factor\\\":11.0},\\\"nameSub\\\":\\\"Applied EM Waves\\\",\\\"id\\\":2252871414,\\\"credits\\\":3,\\\"nameCanonical\\\":\\\"\\\"},{\\\"curriculum_requisites\\\":[{\\\"source_id\\\":649106202,\\\"target_id\\\":3368026167,\\\"type\\\":\\\"CurriculumPrerequisite\\\"}],\\\"name\\\":\\\"ECE 3340\\\",\\\"metrics\\\":{\\\"centrality\\\":76,\\\"complexity\\\":12.0,\\\"blocking factor\\\":2,\\\"delay factor\\\":10.0},\\\"nameSub\\\":\\\"Numerical Methods\\\",\\\"id\\\":3368026167,\\\"credits\\\":3,\\\"nameCanonical\\\":\\\"\\\"},{\\\"curriculum_requisites\\\":[],\\\"name\\\":\\\" \\\",\\\"metrics\\\":{\\\"centrality\\\":0,\\\"complexity\\\":1.0,\\\"blocking factor\\\":0,\\\"delay factor\\\":1.0},\\\"nameSub\\\":\\\"ECE Elective 2\\\",\\\"id\\\":672829327,\\\"credits\\\":3,\\\"nameCanonical\\\":\\\"\\\"},{\\\"curriculum_requisites\\\":[],\\\"name\\\":\\\" \\\",\\\"metrics\\\":{\\\"centrality\\\":0,\\\"complexity\\\":1.0,\\\"blocking factor\\\":0,\\\"delay factor\\\":1.0},\\\"nameSub\\\":\\\"Elective Lab 1\\\",\\\"id\\\":26700799,\\\"credits\\\":1,\\\"nameCanonical\\\":\\\"\\\"},{\\\"curriculum_requisites\\\":[],\\\"name\\\":\\\" \\\",\\\"metrics\\\":{\\\"centrality\\\":0,\\\"complexity\\\":1.0,\\\"blocking factor\\\":0,\\\"delay factor\\\":1.0},\\\"nameSub\\\":\\\"Elective Lab 2\\\",\\\"id\\\":1296179090,\\\"credits\\\":1,\\\"nameCanonical\\\":\\\"\\\"},{\\\"curriculum_requisites\\\":[],\\\"name\\\":\\\" \\\",\\\"metrics\\\":{\\\"centrality\\\":0,\\\"complexity\\\":1.0,\\\"blocking factor\\\":0,\\\"delay factor\\\":1.0},\\\"nameSub\\\":\\\"Elective Lab 3\\\",\\\"id\\\":3091492697,\\\"credits\\\":1,\\\"nameCanonical\\\":\\\"\\\"},{\\\"curriculum_requisites\\\":[],\\\"name\\\":\\\" \\\",\\\"metrics\\\":{\\\"centrality\\\":0,\\\"complexity\\\":1.0,\\\"blocking factor\\\":0,\\\"delay factor\\\":1.0},\\\"nameSub\\\":\\\"Elective Lab 4\\\",\\\"id\\\":2450156574,\\\"credits\\\":1,\\\"nameCanonical\\\":\\\"\\\"}],\\\"id\\\":6},{\\\"name\\\":\\\"Term 7\\\",\\\"curriculum_items\\\":[{\\\"curriculum_requisites\\\":[],\\\"name\\\":\\\" \\\",\\\"metrics\\\":{\\\"centrality\\\":0,\\\"complexity\\\":1.0,\\\"blocking factor\\\":0,\\\"delay factor\\\":1.0},\\\"nameSub\\\":\\\"Lang., Phil. & Culture Core\\\",\\\"id\\\":1626752824,\\\"credits\\\":3,\\\"nameCanonical\\\":\\\"\\\"},{\\\"curriculum_requisites\\\":[{\\\"source_id\\\":1966522372,\\\"target_id\\\":1337097032,\\\"type\\\":\\\"CurriculumPrerequisite\\\"},{\\\"source_id\\\":4184346648,\\\"target_id\\\":1337097032,\\\"type\\\":\\\"CurriculumPrerequisite\\\"},{\\\"source_id\\\":3368026167,\\\"target_id\\\":1337097032,\\\"type\\\":\\\"CurriculumPrerequisite\\\"},{\\\"source_id\\\":2888554139,\\\"target_id\\\":1337097032,\\\"type\\\":\\\"CurriculumPrerequisite\\\"},{\\\"source_id\\\":4165958389,\\\"target_id\\\":1337097032,\\\"type\\\":\\\"CurriculumPrerequisite\\\"},{\\\"source_id\\\":3224555476,\\\"target_id\\\":1337097032,\\\"type\\\":\\\"CurriculumCorequisite\\\"},{\\\"source_id\\\":2252871414,\\\"target_id\\\":1337097032,\\\"type\\\":\\\"CurriculumPrerequisite\\\"}],\\\"name\\\":\\\"ECE 4335\\\",\\\"metrics\\\":{\\\"centrality\\\":779,\\\"complexity\\\":13.0,\\\"blocking factor\\\":1,\\\"delay factor\\\":12.0},\\\"nameSub\\\":\\\"ECE Design I\\\",\\\"id\\\":1337097032,\\\"credits\\\":3,\\\"nameCanonical\\\":\\\"\\\"},{\\\"curriculum_requisites\\\":[],\\\"name\\\":\\\" \\\",\\\"metrics\\\":{\\\"centrality\\\":0,\\\"complexity\\\":1.0,\\\"blocking factor\\\":0,\\\"delay factor\\\":1.0},\\\"nameSub\\\":\\\"Technical Elective\\\",\\\"id\\\":2529896330,\\\"credits\\\":3,\\\"nameCanonical\\\":\\\"\\\"}],\\\"id\\\":7},{\\\"name\\\":\\\"Term 8\\\",\\\"curriculum_items\\\":[{\\\"curriculum_requisites\\\":[{\\\"source_id\\\":1337097032,\\\"target_id\\\":1158404973,\\\"type\\\":\\\"CurriculumPrerequisite\\\"}],\\\"name\\\":\\\"ECE 4336\\\",\\\"metrics\\\":{\\\"centrality\\\":0,\\\"complexity\\\":12.0,\\\"blocking factor\\\":0,\\\"delay factor\\\":12.0},\\\"nameSub\\\":\\\"ECE Design II\\\",\\\"id\\\":1158404973,\\\"credits\\\":3,\\\"nameCanonical\\\":\\\"\\\"}],\\\"id\\\":8}],\\\"institution\\\":\\\"ACME Univ.\\\"}},\\\"*\\\"); window.removeEventListener(\\\"message\\\",window.messageReceived); window.messageReceived=(function (event){return (event.data.curriculum!==undefined) ? (WebIO.setval({\\\"name\\\":\\\"curriculum-data\\\",\\\"scope\\\":\\\"8021538582331169813\\\",\\\"id\\\":\\\"4021725585851844889\\\",\\\"type\\\":\\\"observable\\\"},event.data.curriculum)) : undefined}); return window.addEventListener(\\\"message\\\",window.messageReceived)})\")), :style => Dict(:padding => \"0\", :height => \"100vh\", :margin => \"0\", :border => \"none\", :width => \"100%\"))), Dict{String, Tuple{Observables.AbstractObservable, Union{Nothing, Bool}}}(\"curriculum-data\" => (Observable{Dict{String, Any}} with 1 listeners. Value:\n",
       "Dict{String, Any}(\"options\" => Dict{String, Any}(\"hideTerms\" => true, \"edit\" => false), \"curriculum\" => Dict{String, Any}(\"name\" => \"A Real EE Program\", \"dp_name\" => \"\", \"curriculum_terms\" => Dict{String, Any}[Dict(\"name\" => \"Term 1\", \"curriculum_items\" => Dict{String, Any}[Dict(\"curriculum_requisites\" => Dict{String, Any}[], \"name\" => \"ENGL 1303\", \"metrics\" => Dict{String, Any}(\"centrality\" => 0, \"complexity\" => 13.0, \"blocking factor\" => 6, \"delay factor\" => 7.0), \"nameSub\" => \"First Year Writing I\", \"id\" => 1324171406, \"credits\" => 3, \"nameCanonical\" => \"\"), Dict(\"curriculum_requisites\" => Dict{String, Any}[], \"name\" => \"CHEM 1331\", \"metrics\" => Dict{String, Any}(\"centrality\" => 0, \"complexity\" => 3.0, \"blocking factor\" => 1, \"delay factor\" => 2.0), \"nameSub\" => \"Fund. of Chemistry\", \"id\" => 1351802580, \"credits\" => 3, \"nameCanonical\" => \"\"), Dict(\"curriculum_requisites\" => Dict{String, Any}[Dict(\"source_id\" => 1351802580, \"target_id\" => 2195546016, \"type\" => \"CurriculumCorequisite\")], \"name\" => \"CHEM 1111\", \"metrics\" => Dict{String, Any}(\"centrality\" => 0, \"complexity\" => 2.0, \"blocking factor\" => 0, \"delay factor\" => 2.0), \"nameSub\" => \"Fund. of Chemistry Lab\", \"id\" => 2195546016, \"credits\" => 1, \"nameCanonical\" => \"\"), Dict(\"curriculum_requisites\" => Dict{String, Any}[], \"name\" => \"POLS 1336\", \"metrics\" => Dict{String, Any}(\"centrality\" => 0, \"complexity\" => 1.0, \"blocking factor\" => 0, \"delay factor\" => 1.0), \"nameSub\" => \"US and TX Constitutions & Politics\", \"id\" => 1541543378, \"credits\" => 3, \"nameCanonical\" => \"\"), Dict(\"curriculum_requisites\" => Dict{String, Any}[], \"name\" => \"POLS 1337\", \"metrics\" => Dict{String, Any}(\"centrality\" => 0, \"complexity\" => 1.0, \"blocking factor\" => 0, \"delay factor\" => 1.0), \"nameSub\" => \"US Gov: Congress, President and Courts\", \"id\" => 951874139, \"credits\" => 3, \"nameCanonical\" => \"\"), Dict(\"curriculum_requisites\" => Dict{String, Any}[], \"name\" => \"HIST 1377\", \"metrics\" => Dict{String, Any}(\"centrality\" => 0, \"complexity\" => 1.0, \"blocking factor\" => 0, \"delay factor\" => 1.0), \"nameSub\" => \"The US to 1877\", \"id\" => 3824069494, \"credits\" => 3, \"nameCanonical\" => \"\"), Dict(\"curriculum_requisites\" => Dict{String, Any}[], \"name\" => \"HIST 1378\", \"metrics\" => Dict{String, Any}(\"centrality\" => 0, \"complexity\" => 1.0, \"blocking factor\" => 0, \"delay factor\" => 1.0), \"nameSub\" => \"US Since 1877\", \"id\" => 2731496025, \"credits\" => 3, \"nameCanonical\" => \"\")], \"id\" => 1), Dict(\"name\" => \"Term 2\", \"curriculum_items\" => Dict{String, Any}[Dict(\"curriculum_requisites\" => Dict{String, Any}[], \"name\" => \"MATH 1431\", \"metrics\" => Dict{String, Any}(\"centrality\" => 0, \"complexity\" => 35.0, \"blocking factor\" => 23, \"delay factor\" => 12.0), \"nameSub\" => \"Calculus I\", \"id\" => 4175014649, \"credits\" => 4, \"nameCanonical\" => \"\"), Dict(\"curriculum_requisites\" => Dict{String, Any}[Dict(\"source_id\" => 4175014649, \"target_id\" => 1764441140, \"type\" => \"CurriculumCorequisite\")], \"name\" => \"ENGI 1100\", \"metrics\" => Dict{String, Any}(\"centrality\" => 85, \"complexity\" => 25.0, \"blocking factor\" => 15, \"delay factor\" => 10.0), \"nameSub\" => \"Intro to Engr.\", \"id\" => 1764441140, \"credits\" => 1, \"nameCanonical\" => \"\"), Dict(\"curriculum_requisites\" => Dict{String, Any}[Dict(\"source_id\" => 1324171406, \"target_id\" => 3195103903, \"type\" => \"CurriculumPrerequisite\")], \"name\" => \"ENGL 1304\", \"metrics\" => Dict{String, Any}(\"centrality\" => 13, \"complexity\" => 12.0, \"blocking factor\" => 5, \"delay factor\" => 7.0), \"nameSub\" => \"First Year Writing II\", \"id\" => 3195103903, \"credits\" => 3, \"nameCanonical\" => \"\"), Dict(\"curriculum_requisites\" => Dict{String, Any}[], \"name\" => \"ECON 2304\", \"metrics\" => Dict{String, Any}(\"centrality\" => 0, \"complexity\" => 5.0, \"blocking factor\" => 2, \"delay factor\" => 3.0), \"nameSub\" => \"Microeconomic Principles\", \"id\" => 3224555476, \"credits\" => 3, \"nameCanonical\" => \"\"), Dict(\"curriculum_requisites\" => Dict{String, Any}[], \"name\" => \" \", \"metrics\" => Dict{String, Any}(\"centrality\" => 0, \"complexity\" => 1.0, \"blocking factor\" => 0, \"delay factor\" => 1.0), \"nameSub\" => \"Concentration Elective 1\", \"id\" => 1056053313, \"credits\" => 3, \"nameCanonical\" => \"\"), Dict(\"curriculum_requisites\" => Dict{String, Any}[], \"name\" => \" \", \"metrics\" => Dict{String, Any}(\"centrality\" => 0, \"complexity\" => 1.0, \"blocking factor\" => 0, \"delay factor\" => 1.0), \"nameSub\" => \"Concentration Elective 2\", \"id\" => 1745860227, \"credits\" => 3, \"nameCanonical\" => \"\"), Dict(\"curriculum_requisites\" => Dict{String, Any}[], \"name\" => \" \", \"metrics\" => Dict{String, Any}(\"centrality\" => 0, \"complexity\" => 1.0, \"blocking factor\" => 0, \"delay factor\" => 1.0), \"nameSub\" => \"Concentration Elective 3\", \"id\" => 1105094343, \"credits\" => 3, \"nameCanonical\" => \"\")], \"id\" => 2), Dict(\"name\" => \"Term 3\", \"curriculum_items\" => Dict{String, Any}[Dict(\"curriculum_requisites\" => Dict{String, Any}[], \"name\" => \" \", \"metrics\" => Dict{String, Any}(\"centrality\" => 0, \"complexity\" => 1.0, \"blocking factor\" => 0, \"delay factor\" => 1.0), \"nameSub\" => \"Concentration Elective 4\", \"id\" => 1819261218, \"credits\" => 3, \"nameCanonical\" => \"\"), Dict(\"curriculum_requisites\" => Dict{String, Any}[Dict(\"source_id\" => 4175014649, \"target_id\" => 1051497550, \"type\" => \"CurriculumPrerequisite\"), Dict(\"source_id\" => 1764441140, \"target_id\" => 1051497550, \"type\" => \"CurriculumPrerequisite\")], \"name\" => \"ENGI 1331\", \"metrics\" => Dict{String, Any}(\"centrality\" => 160, \"complexity\" => 24.0, \"blocking factor\" => 14, \"delay factor\" => 10.0), \"nameSub\" => \"Computing & Prob. Solving\", \"id\" => 1051497550, \"credits\" => 3, \"nameCanonical\" => \"\"), Dict(\"curriculum_requisites\" => Dict{String, Any}[Dict(\"source_id\" => 4175014649, \"target_id\" => 1177372781, \"type\" => \"CurriculumPrerequisite\")], \"name\" => \"MATH 1432\", \"metrics\" => Dict{String, Any}(\"centrality\" => 607, \"complexity\" => 32.0, \"blocking factor\" => 20, \"delay factor\" => 12.0), \"nameSub\" => \"Calculus II\", \"id\" => 1177372781, \"credits\" => 4, \"nameCanonical\" => \"\"), Dict(\"curriculum_requisites\" => Dict{String, Any}[Dict(\"source_id\" => 1177372781, \"target_id\" => 2834873484, \"type\" => \"CurriculumCorequisite\")], \"name\" => \"PHYS 1321\", \"metrics\" => Dict{String, Any}(\"centrality\" => 217, \"complexity\" => 28.0, \"blocking factor\" => 16, \"delay factor\" => 12.0), \"nameSub\" => \"University Physics I\", \"id\" => 2834873484, \"credits\" => 3, \"nameCanonical\" => \"\"), Dict(\"curriculum_requisites\" => Dict{String, Any}[Dict(\"source_id\" => 2834873484, \"target_id\" => 3178954113, \"type\" => \"CurriculumCorequisite\")], \"name\" => \"PHYS 1121\", \"metrics\" => Dict{String, Any}(\"centrality\" => 0, \"complexity\" => 4.0, \"blocking factor\" => 0, \"delay factor\" => 4.0), \"nameSub\" => \"Physics Lab I\", \"id\" => 3178954113, \"credits\" => 1, \"nameCanonical\" => \"\"), Dict(\"curriculum_requisites\" => Dict{String, Any}[], \"name\" => \" \", \"metrics\" => Dict{String, Any}(\"centrality\" => 0, \"complexity\" => 1.0, \"blocking factor\" => 0, \"delay factor\" => 1.0), \"nameSub\" => \"Concentration Elective 5\", \"id\" => 2070124031, \"credits\" => 3, \"nameCanonical\" => \"\"), Dict(\"curriculum_requisites\" => Dict{String, Any}[], \"name\" => \" \", \"metrics\" => Dict{String, Any}(\"centrality\" => 0, \"complexity\" => 1.0, \"blocking factor\" => 0, \"delay factor\" => 1.0), \"nameSub\" => \"Concentration Elective 6\", \"id\" => 1716266479, \"credits\" => 3, \"nameCanonical\" => \"\")], \"id\" => 3), Dict(\"name\" => \"Term 4\", \"curriculum_items\" => Dict{String, Any}[Dict(\"curriculum_requisites\" => Dict{String, Any}[], \"name\" => \" \", \"metrics\" => Dict{String, Any}(\"centrality\" => 0, \"complexity\" => 1.0, \"blocking factor\" => 0, \"delay factor\" => 1.0), \"nameSub\" => \"Concentration Elective 7\", \"id\" => 2584207151, \"credits\" => 3, \"nameCanonical\" => \"\"), Dict(\"curriculum_requisites\" => Dict{String, Any}[Dict(\"source_id\" => 1051497550, \"target_id\" => 2888554139, \"type\" => \"CurriculumPrerequisite\"), Dict(\"source_id\" => 1177372781, \"target_id\" => 2888554139, \"type\" => \"CurriculumPrerequisite\")], \"name\" => \"INDE 2333\", \"metrics\" => Dict{String, Any}(\"centrality\" => 16, \"complexity\" => 8.0, \"blocking factor\" => 2, \"delay factor\" => 6.0), \"nameSub\" => \"Engineering Statistics\", \"id\" => 2888554139, \"credits\" => 3, \"nameCanonical\" => \"\"), Dict(\"curriculum_requisites\" => Dict{String, Any}[Dict(\"source_id\" => 1177372781, \"target_id\" => 2258215799, \"type\" => \"CurriculumPrerequisite\")], \"name\" => \"MATH 2433\", \"metrics\" => Dict{String, Any}(\"centrality\" => 292, \"complexity\" => 27.0, \"blocking factor\" => 15, \"delay factor\" => 12.0), \"nameSub\" => \"Calculus III\", \"id\" => 2258215799, \"credits\" => 3, \"nameCanonical\" => \"\"), Dict(\"curriculum_requisites\" => Dict{String, Any}[Dict(\"source_id\" => 2258215799, \"target_id\" => 3718777895, \"type\" => \"CurriculumCorequisite\"), Dict(\"source_id\" => 2834873484, \"target_id\" => 3718777895, \"type\" => \"CurriculumPrerequisite\")], \"name\" => \"PHYS 1322\", \"metrics\" => Dict{String, Any}(\"centrality\" => 426, \"complexity\" => 26.0, \"blocking factor\" => 14, \"delay factor\" => 12.0), \"nameSub\" => \"University Physics II\", \"id\" => 3718777895, \"credits\" => 3, \"nameCanonical\" => \"\"), Dict(\"curriculum_requisites\" => Dict{String, Any}[Dict(\"source_id\" => 3718777895, \"target_id\" => 3059602497, \"type\" => \"CurriculumCorequisite\")], \"name\" => \"PHYS 1122\", \"metrics\" => Dict{String, Any}(\"centrality\" => 250, \"complexity\" => 25.0, \"blocking factor\" => 13, \"delay factor\" => 12.0), \"nameSub\" => \"Physics Lab II\", \"id\" => 3059602497, \"credits\" => 1, \"nameCanonical\" => \"\"), Dict(\"curriculum_requisites\" => Dict{String, Any}[Dict(\"source_id\" => 1177372781, \"target_id\" => 947037850, \"type\" => \"CurriculumPrerequisite\")], \"name\" => \"MATH 3321\", \"metrics\" => Dict{String, Any}(\"centrality\" => 93, \"complexity\" => 23.0, \"blocking factor\" => 13, \"delay factor\" => 10.0), \"nameSub\" => \"Engineering Math\", \"id\" => 947037850, \"credits\" => 3, \"nameCanonical\" => \"\"), Dict(\"curriculum_requisites\" => Dict{String, Any}[Dict(\"source_id\" => 3718777895, \"target_id\" => 2138760932, \"type\" => \"CurriculumCorequisite\"), Dict(\"source_id\" => 3059602497, \"target_id\" => 2138760932, \"type\" => \"CurriculumCorequisite\"), Dict(\"source_id\" => 2258215799, \"target_id\" => 2138760932, \"type\" => \"CurriculumCorequisite\"), Dict(\"source_id\" => 1051497550, \"target_id\" => 2138760932, \"type\" => \"CurriculumPrerequisite\"), Dict(\"source_id\" => 947037850, \"target_id\" => 2138760932, \"type\" => \"CurriculumCorequisite\")], \"name\" => \"ECE 2201\", \"metrics\" => Dict{String, Any}(\"centrality\" => 677, \"complexity\" => 24.0, \"blocking factor\" => 12, \"delay factor\" => 12.0), \"nameSub\" => \"Circuit Analysis I\", \"id\" => 2138760932, \"credits\" => 3, \"nameCanonical\" => \"\")], \"id\" => 4), Dict(\"name\" => \"Term 5\", \"curriculum_items\" => Dict{String, Any}[Dict(\"curriculum_requisites\" => Dict{String, Any}[], \"name\" => \" \", \"metrics\" => Dict{String, Any}(\"centrality\" => 0, \"complexity\" => 1.0, \"blocking factor\" => 0, \"delay factor\" => 1.0), \"nameSub\" => \"Creative Arts Core\", \"id\" => 848294223, \"credits\" => 3, \"nameCanonical\" => \"\"), Dict(\"curriculum_requisites\" => Dict{String, Any}[Dict(\"source_id\" => 2138760932, \"target_id\" => 3887805990, \"type\" => \"CurriculumPrerequisite\")], \"name\" => \"ECE 2202\", \"metrics\" => Dict{String, Any}(\"centrality\" => 393, \"complexity\" => 20.0, \"blocking factor\" => 8, \"delay factor\" => 12.0), \"nameSub\" => \"Circuit Analysis II\", \"id\" => 3887805990, \"credits\" => 3, \"nameCanonical\" => \"\"), Dict(\"curriculum_requisites\" => Dict{String, Any}[Dict(\"source_id\" => 3059602497, \"target_id\" => 1083857781, \"type\" => \"CurriculumPrerequisite\"), Dict(\"source_id\" => 3887805990, \"target_id\" => 1083857781, \"type\" => \"CurriculumCorequisite\")], \"name\" => \"ECE 2100\", \"metrics\" => Dict{String, Any}(\"centrality\" => 295, \"complexity\" => 17.0, \"blocking factor\" => 5, \"delay factor\" => 12.0), \"nameSub\" => \"Circuits Lab\", \"id\" => 1083857781, \"credits\" => 1, \"nameCanonical\" => \"\"), Dict(\"curriculum_requisites\" => Dict{String, Any}[Dict(\"source_id\" => 3195103903, \"target_id\" => 1770099342, \"type\" => \"CurriculumPrerequisite\"), Dict(\"source_id\" => 2138760932, \"target_id\" => 1770099342, \"type\" => \"CurriculumPrerequisite\")], \"name\" => \"ENGI 2304\", \"metrics\" => Dict{String, Any}(\"centrality\" => 159, \"complexity\" => 15.0, \"blocking factor\" => 4, \"delay factor\" => 11.0), \"nameSub\" => \"Technical Communication\", \"id\" => 1770099342, \"credits\" => 3, \"nameCanonical\" => \"\"), Dict(\"curriculum_requisites\" => Dict{String, Any}[Dict(\"source_id\" => 947037850, \"target_id\" => 649106202, \"type\" => \"CurriculumPrerequisite\"), Dict(\"source_id\" => 2138760932, \"target_id\" => 649106202, \"type\" => \"CurriculumPrerequisite\")], \"name\" => \"ECE 3331\", \"metrics\" => Dict{String, Any}(\"centrality\" => 152, \"complexity\" => 14.0, \"blocking factor\" => 4, \"delay factor\" => 10.0), \"nameSub\" => \"Programming Apps in ECE\", \"id\" => 649106202, \"credits\" => 3, \"nameCanonical\" => \"\"), Dict(\"curriculum_requisites\" => Dict{String, Any}[Dict(\"source_id\" => 3887805990, \"target_id\" => 2791403937, \"type\" => \"CurriculumCorequisite\")], \"name\" => \"ECE 3337\", \"metrics\" => Dict{String, Any}(\"centrality\" => 154, \"complexity\" => 15.0, \"blocking factor\" => 4, \"delay factor\" => 11.0), \"nameSub\" => \"Signals & Systems Analysis\", \"id\" => 2791403937, \"credits\" => 3, \"nameCanonical\" => \"\"), Dict(\"curriculum_requisites\" => Dict{String, Any}[Dict(\"source_id\" => 1083857781, \"target_id\" => 4184346648, \"type\" => \"CurriculumCorequisite\"), Dict(\"source_id\" => 649106202, \"target_id\" => 4184346648, \"type\" => \"CurriculumCorequisite\")], \"name\" => \"ECE 3436\", \"metrics\" => Dict{String, Any}(\"centrality\" => 171, \"complexity\" => 13.0, \"blocking factor\" => 2, \"delay factor\" => 11.0), \"nameSub\" => \"Microprocessors\", \"id\" => 4184346648, \"credits\" => 3, \"nameCanonical\" => \"\")], \"id\" => 5), Dict(\"name\" => \"Term 6\", \"curriculum_items\" => Dict{String, Any}[Dict(\"curriculum_requisites\" => Dict{String, Any}[], \"name\" => \" \", \"metrics\" => Dict{String, Any}(\"centrality\" => 0, \"complexity\" => 1.0, \"blocking factor\" => 0, \"delay factor\" => 1.0), \"nameSub\" => \"ECE Elective 1\", \"id\" => 2051928090, \"credits\" => 3, \"nameCanonical\" => \"\"), Dict(\"curriculum_requisites\" => Dict{String, Any}[Dict(\"source_id\" => 1083857781, \"target_id\" => 1966522372, \"type\" => \"CurriculumPrerequisite\"), Dict(\"source_id\" => 1770099342, \"target_id\" => 1966522372, \"type\" => \"CurriculumPrerequisite\")], \"name\" => \"ECE 3155\", \"metrics\" => Dict{String, Any}(\"centrality\" => 359, \"complexity\" => 15.0, \"blocking factor\" => 3, \"delay factor\" => 12.0), \"nameSub\" => \"Electronics Lab\", \"id\" => 1966522372, \"credits\" => 1, \"nameCanonical\" => \"\"), Dict(\"curriculum_requisites\" => Dict{String, Any}[Dict(\"source_id\" => 1966522372, \"target_id\" => 4165958389, \"type\" => \"CurriculumStrictCorequisite\"), Dict(\"source_id\" => 2791403937, \"target_id\" => 4165958389, \"type\" => \"CurriculumPrerequisite\")], \"name\" => \"ECE 3355\", \"metrics\" => Dict{String, Any}(\"centrality\" => 266, \"complexity\" => 14.0, \"blocking factor\" => 2, \"delay factor\" => 12.0), \"nameSub\" => \"Electronics\", \"id\" => 4165958389, \"credits\" => 3, \"nameCanonical\" => \"\"), Dict(\"curriculum_requisites\" => Dict{String, Any}[Dict(\"source_id\" => 2791403937, \"target_id\" => 2252871414, \"type\" => \"CurriculumPrerequisite\")], \"name\" => \"ECE 3317\", \"metrics\" => Dict{String, Any}(\"centrality\" => 77, \"complexity\" => 13.0, \"blocking factor\" => 2, \"delay factor\" => 11.0), \"nameSub\" => \"Applied EM Waves\", \"id\" => 2252871414, \"credits\" => 3, \"nameCanonical\" => \"\"), Dict(\"curriculum_requisites\" => Dict{String, Any}[Dict(\"source_id\" => 649106202, \"target_id\" => 3368026167, \"type\" => \"CurriculumPrerequisite\")], \"name\" => \"ECE 3340\", \"metrics\" => Dict{String, Any}(\"centrality\" => 76, \"complexity\" => 12.0, \"blocking factor\" => 2, \"delay factor\" => 10.0), \"nameSub\" => \"Numerical Methods\", \"id\" => 3368026167, \"credits\" => 3, \"nameCanonical\" => \"\"), Dict(\"curriculum_requisites\" => Dict{String, Any}[], \"name\" => \" \", \"metrics\" => Dict{String, Any}(\"centrality\" => 0, \"complexity\" => 1.0, \"blocking factor\" => 0, \"delay factor\" => 1.0), \"nameSub\" => \"ECE Elective 2\", \"id\" => 672829327, \"credits\" => 3, \"nameCanonical\" => \"\"), Dict(\"curriculum_requisites\" => Dict{String, Any}[], \"name\" => \" \", \"metrics\" => Dict{String, Any}(\"centrality\" => 0, \"complexity\" => 1.0, \"blocking factor\" => 0, \"delay factor\" => 1.0), \"nameSub\" => \"Elective Lab 1\", \"id\" => 26700799, \"credits\" => 1, \"nameCanonical\" => \"\"), Dict(\"curriculum_requisites\" => Dict{String, Any}[], \"name\" => \" \", \"metrics\" => Dict{String, Any}(\"centrality\" => 0, \"complexity\" => 1.0, \"blocking factor\" => 0, \"delay factor\" => 1.0), \"nameSub\" => \"Elective Lab 2\", \"id\" => 1296179090, \"credits\" => 1, \"nameCanonical\" => \"\"), Dict(\"curriculum_requisites\" => Dict{String, Any}[], \"name\" => \" \", \"metrics\" => Dict{String, Any}(\"centrality\" => 0, \"complexity\" => 1.0, \"blocking factor\" => 0, \"delay factor\" => 1.0), \"nameSub\" => \"Elective Lab 3\", \"id\" => 3091492697, \"credits\" => 1, \"nameCanonical\" => \"\"), Dict(\"curriculum_requisites\" => Dict{String, Any}[], \"name\" => \" \", \"metrics\" => Dict{String, Any}(\"centrality\" => 0, \"complexity\" => 1.0, \"blocking factor\" => 0, \"delay factor\" => 1.0), \"nameSub\" => \"Elective Lab 4\", \"id\" => 2450156574, \"credits\" => 1, \"nameCanonical\" => \"\")], \"id\" => 6), Dict(\"name\" => \"Term 7\", \"curriculum_items\" => Dict{String, Any}[Dict(\"curriculum_requisites\" => Dict{String, Any}[], \"name\" => \" \", \"metrics\" => Dict{String, Any}(\"centrality\" => 0, \"complexity\" => 1.0, \"blocking factor\" => 0, \"delay factor\" => 1.0), \"nameSub\" => \"Lang., Phil. & Culture Core\", \"id\" => 1626752824, \"credits\" => 3, \"nameCanonical\" => \"\"), Dict(\"curriculum_requisites\" => Dict{String, Any}[Dict(\"source_id\" => 1966522372, \"target_id\" => 1337097032, \"type\" => \"CurriculumPrerequisite\"), Dict(\"source_id\" => 4184346648, \"target_id\" => 1337097032, \"type\" => \"CurriculumPrerequisite\"), Dict(\"source_id\" => 3368026167, \"target_id\" => 1337097032, \"type\" => \"CurriculumPrerequisite\"), Dict(\"source_id\" => 2888554139, \"target_id\" => 1337097032, \"type\" => \"CurriculumPrerequisite\"), Dict(\"source_id\" => 4165958389, \"target_id\" => 1337097032, \"type\" => \"CurriculumPrerequisite\"), Dict(\"source_id\" => 3224555476, \"target_id\" => 1337097032, \"type\" => \"CurriculumCorequisite\"), Dict(\"source_id\" => 2252871414, \"target_id\" => 1337097032, \"type\" => \"CurriculumPrerequisite\")], \"name\" => \"ECE 4335\", \"metrics\" => Dict{String, Any}(\"centrality\" => 779, \"complexity\" => 13.0, \"blocking factor\" => 1, \"delay factor\" => 12.0), \"nameSub\" => \"ECE Design I\", \"id\" => 1337097032, \"credits\" => 3, \"nameCanonical\" => \"\"), Dict(\"curriculum_requisites\" => Dict{String, Any}[], \"name\" => \" \", \"metrics\" => Dict{String, Any}(\"centrality\" => 0, \"complexity\" => 1.0, \"blocking factor\" => 0, \"delay factor\" => 1.0), \"nameSub\" => \"Technical Elective\", \"id\" => 2529896330, \"credits\" => 3, \"nameCanonical\" => \"\")], \"id\" => 7), Dict(\"name\" => \"Term 8\", \"curriculum_items\" => Dict{String, Any}[Dict(\"curriculum_requisites\" => Dict{String, Any}[Dict(\"source_id\" => 1337097032, \"target_id\" => 1158404973, \"type\" => \"CurriculumPrerequisite\")], \"name\" => \"ECE 4336\", \"metrics\" => Dict{String, Any}(\"centrality\" => 0, \"complexity\" => 12.0, \"blocking factor\" => 0, \"delay factor\" => 12.0), \"nameSub\" => \"ECE Design II\", \"id\" => 1158404973, \"credits\" => 3, \"nameCanonical\" => \"\")], \"id\" => 8)], \"institution\" => \"ACME Univ.\")), nothing)), Set{String}(), nothing, WebIO.Asset[], Dict{Any, Any}(), WebIO.ConnectionPool(Channel{Any}(32), Set{WebIO.AbstractConnection}(), Condition(Base.InvasiveLinkedList{Task}(Task (runnable) @0x000000017435b640, Task (runnable) @0x000000017435b640), Base.AlwaysLockedST(1))), WebIO.JSString[])"
      ]
     },
     "execution_count": 4,
     "metadata": {
      "application/vnd.webio.node+json": {
       "kernelId": "03baf36f-77b1-4e7b-af16-f5691a6c766f"
      }
     },
     "output_type": "execute_result"
    }
   ],
   "source": [
    "curric = dp.curriculum\n",
    "errors = IOBuffer()\n",
    "if isvalid_curriculum(curric, errors)\n",
    "    println(\"Curriculum $(curric.name) is valid\")\n",
    "else\n",
    "    println(\"Curriculum $(curric.name) is not valid:\")\n",
    "    print(String(take!(errors)))\n",
    "end\n",
    "visualize(curric, notebook=true)"
   ]
  },
  {
   "cell_type": "markdown",
   "metadata": {},
   "source": [
    "As a basis for comparison, we will compare the degree plans created using the optimzation techniques to a naïve bin-filling degree plan creation algorithm.  The bin-filling algorithm treats terms as bins that are filled with courses up to each bin's capacity (where capacity is in terms of credit hours)."
   ]
  },
  {
   "cell_type": "code",
   "execution_count": 5,
   "metadata": {
    "scrolled": false
   },
   "outputs": [
    {
     "data": {
      "application/vnd.webio.node+json": {
       "children": [
        {
         "children": [
          ""
         ],
         "instanceArgs": {
          "namespace": "html",
          "tag": "iframe"
         },
         "nodeType": "DOM",
         "props": {
          "events": {
           "load": "(function (){this.contentWindow.postMessage({\"options\":{\"hideTerms\":false,\"edit\":false},\"curriculum\":{\"name\":\"A Real EE Program\",\"dp_name\":\"\",\"curriculum_terms\":[{\"name\":\"Term 1\",\"curriculum_items\":[{\"curriculum_requisites\":[],\"name\":\"ENGL 1303\",\"metrics\":{\"centrality\":0,\"complexity\":13.0,\"blocking factor\":6,\"delay factor\":7.0},\"nameSub\":\"First Year Writing I\",\"id\":1324171406,\"credits\":3,\"nameCanonical\":\"\"},{\"curriculum_requisites\":[],\"name\":\"CHEM 1331\",\"metrics\":{\"centrality\":0,\"complexity\":3.0,\"blocking factor\":1,\"delay factor\":2.0},\"nameSub\":\"Fund. of Chemistry\",\"id\":1351802580,\"credits\":3,\"nameCanonical\":\"\"},{\"curriculum_requisites\":[{\"source_id\":1351802580,\"target_id\":2195546016,\"type\":\"CurriculumCorequisite\"}],\"name\":\"CHEM 1111\",\"metrics\":{\"centrality\":0,\"complexity\":2.0,\"blocking factor\":0,\"delay factor\":2.0},\"nameSub\":\"Fund. of Chemistry Lab\",\"id\":2195546016,\"credits\":1,\"nameCanonical\":\"\"},{\"curriculum_requisites\":[],\"name\":\"POLS 1336\",\"metrics\":{\"centrality\":0,\"complexity\":1.0,\"blocking factor\":0,\"delay factor\":1.0},\"nameSub\":\"US and TX Constitutions & Politics\",\"id\":1541543378,\"credits\":3,\"nameCanonical\":\"\"},{\"curriculum_requisites\":[],\"name\":\"POLS 1337\",\"metrics\":{\"centrality\":0,\"complexity\":1.0,\"blocking factor\":0,\"delay factor\":1.0},\"nameSub\":\"US Gov: Congress, President and Courts\",\"id\":951874139,\"credits\":3,\"nameCanonical\":\"\"},{\"curriculum_requisites\":[],\"name\":\"HIST 1377\",\"metrics\":{\"centrality\":0,\"complexity\":1.0,\"blocking factor\":0,\"delay factor\":1.0},\"nameSub\":\"The US to 1877\",\"id\":3824069494,\"credits\":3,\"nameCanonical\":\"\"},{\"curriculum_requisites\":[],\"name\":\"HIST 1378\",\"metrics\":{\"centrality\":0,\"complexity\":1.0,\"blocking factor\":0,\"delay factor\":1.0},\"nameSub\":\"US Since 1877\",\"id\":2731496025,\"credits\":3,\"nameCanonical\":\"\"}],\"id\":1},{\"name\":\"Term 2\",\"curriculum_items\":[{\"curriculum_requisites\":[],\"name\":\"MATH 1431\",\"metrics\":{\"centrality\":0,\"complexity\":35.0,\"blocking factor\":23,\"delay factor\":12.0},\"nameSub\":\"Calculus I\",\"id\":4175014649,\"credits\":4,\"nameCanonical\":\"\"},{\"curriculum_requisites\":[{\"source_id\":4175014649,\"target_id\":1764441140,\"type\":\"CurriculumCorequisite\"}],\"name\":\"ENGI 1100\",\"metrics\":{\"centrality\":85,\"complexity\":25.0,\"blocking factor\":15,\"delay factor\":10.0},\"nameSub\":\"Intro to Engr.\",\"id\":1764441140,\"credits\":1,\"nameCanonical\":\"\"},{\"curriculum_requisites\":[{\"source_id\":1324171406,\"target_id\":3195103903,\"type\":\"CurriculumPrerequisite\"}],\"name\":\"ENGL 1304\",\"metrics\":{\"centrality\":13,\"complexity\":12.0,\"blocking factor\":5,\"delay factor\":7.0},\"nameSub\":\"First Year Writing II\",\"id\":3195103903,\"credits\":3,\"nameCanonical\":\"\"},{\"curriculum_requisites\":[],\"name\":\"ECON 2304\",\"metrics\":{\"centrality\":0,\"complexity\":5.0,\"blocking factor\":2,\"delay factor\":3.0},\"nameSub\":\"Microeconomic Principles\",\"id\":3224555476,\"credits\":3,\"nameCanonical\":\"\"},{\"curriculum_requisites\":[],\"name\":\" \",\"metrics\":{\"centrality\":0,\"complexity\":1.0,\"blocking factor\":0,\"delay factor\":1.0},\"nameSub\":\"Concentration Elective 1\",\"id\":1056053313,\"credits\":3,\"nameCanonical\":\"\"},{\"curriculum_requisites\":[],\"name\":\" \",\"metrics\":{\"centrality\":0,\"complexity\":1.0,\"blocking factor\":0,\"delay factor\":1.0},\"nameSub\":\"Concentration Elective 2\",\"id\":1745860227,\"credits\":3,\"nameCanonical\":\"\"}],\"id\":2},{\"name\":\"Term 3\",\"curriculum_items\":[{\"curriculum_requisites\":[],\"name\":\" \",\"metrics\":{\"centrality\":0,\"complexity\":1.0,\"blocking factor\":0,\"delay factor\":1.0},\"nameSub\":\"Concentration Elective 3\",\"id\":1105094343,\"credits\":3,\"nameCanonical\":\"\"},{\"curriculum_requisites\":[{\"source_id\":4175014649,\"target_id\":1051497550,\"type\":\"CurriculumPrerequisite\"},{\"source_id\":1764441140,\"target_id\":1051497550,\"type\":\"CurriculumPrerequisite\"}],\"name\":\"ENGI 1331\",\"metrics\":{\"centrality\":160,\"complexity\":24.0,\"blocking factor\":14,\"delay factor\":10.0},\"nameSub\":\"Computing & Prob. Solving\",\"id\":1051497550,\"credits\":3,\"nameCanonical\":\"\"},{\"curriculum_requisites\":[{\"source_id\":4175014649,\"target_id\":1177372781,\"type\":\"CurriculumPrerequisite\"}],\"name\":\"MATH 1432\",\"metrics\":{\"centrality\":607,\"complexity\":32.0,\"blocking factor\":20,\"delay factor\":12.0},\"nameSub\":\"Calculus II\",\"id\":1177372781,\"credits\":4,\"nameCanonical\":\"\"},{\"curriculum_requisites\":[{\"source_id\":1177372781,\"target_id\":2834873484,\"type\":\"CurriculumCorequisite\"}],\"name\":\"PHYS 1321\",\"metrics\":{\"centrality\":217,\"complexity\":28.0,\"blocking factor\":16,\"delay factor\":12.0},\"nameSub\":\"University Physics I\",\"id\":2834873484,\"credits\":3,\"nameCanonical\":\"\"},{\"curriculum_requisites\":[{\"source_id\":2834873484,\"target_id\":3178954113,\"type\":\"CurriculumCorequisite\"}],\"name\":\"PHYS 1121\",\"metrics\":{\"centrality\":0,\"complexity\":4.0,\"blocking factor\":0,\"delay factor\":4.0},\"nameSub\":\"Physics Lab I\",\"id\":3178954113,\"credits\":1,\"nameCanonical\":\"\"},{\"curriculum_requisites\":[],\"name\":\" \",\"metrics\":{\"centrality\":0,\"complexity\":1.0,\"blocking factor\":0,\"delay factor\":1.0},\"nameSub\":\"Concentration Elective 4\",\"id\":1819261218,\"credits\":3,\"nameCanonical\":\"\"}],\"id\":3},{\"name\":\"Term 4\",\"curriculum_items\":[{\"curriculum_requisites\":[],\"name\":\" \",\"metrics\":{\"centrality\":0,\"complexity\":1.0,\"blocking factor\":0,\"delay factor\":1.0},\"nameSub\":\"Concentration Elective 5\",\"id\":2070124031,\"credits\":3,\"nameCanonical\":\"\"},{\"curriculum_requisites\":[{\"source_id\":1051497550,\"target_id\":2888554139,\"type\":\"CurriculumPrerequisite\"},{\"source_id\":1177372781,\"target_id\":2888554139,\"type\":\"CurriculumPrerequisite\"}],\"name\":\"INDE 2333\",\"metrics\":{\"centrality\":16,\"complexity\":8.0,\"blocking factor\":2,\"delay factor\":6.0},\"nameSub\":\"Engineering Statistics\",\"id\":2888554139,\"credits\":3,\"nameCanonical\":\"\"},{\"curriculum_requisites\":[{\"source_id\":1177372781,\"target_id\":2258215799,\"type\":\"CurriculumPrerequisite\"}],\"name\":\"MATH 2433\",\"metrics\":{\"centrality\":292,\"complexity\":27.0,\"blocking factor\":15,\"delay factor\":12.0},\"nameSub\":\"Calculus III\",\"id\":2258215799,\"credits\":3,\"nameCanonical\":\"\"},{\"curriculum_requisites\":[{\"source_id\":2258215799,\"target_id\":3718777895,\"type\":\"CurriculumCorequisite\"},{\"source_id\":2834873484,\"target_id\":3718777895,\"type\":\"CurriculumPrerequisite\"}],\"name\":\"PHYS 1322\",\"metrics\":{\"centrality\":426,\"complexity\":26.0,\"blocking factor\":14,\"delay factor\":12.0},\"nameSub\":\"University Physics II\",\"id\":3718777895,\"credits\":3,\"nameCanonical\":\"\"},{\"curriculum_requisites\":[{\"source_id\":3718777895,\"target_id\":3059602497,\"type\":\"CurriculumCorequisite\"}],\"name\":\"PHYS 1122\",\"metrics\":{\"centrality\":250,\"complexity\":25.0,\"blocking factor\":13,\"delay factor\":12.0},\"nameSub\":\"Physics Lab II\",\"id\":3059602497,\"credits\":1,\"nameCanonical\":\"\"},{\"curriculum_requisites\":[{\"source_id\":1177372781,\"target_id\":947037850,\"type\":\"CurriculumPrerequisite\"}],\"name\":\"MATH 3321\",\"metrics\":{\"centrality\":93,\"complexity\":23.0,\"blocking factor\":13,\"delay factor\":10.0},\"nameSub\":\"Engineering Math\",\"id\":947037850,\"credits\":3,\"nameCanonical\":\"\"},{\"curriculum_requisites\":[{\"source_id\":3718777895,\"target_id\":2138760932,\"type\":\"CurriculumCorequisite\"},{\"source_id\":3059602497,\"target_id\":2138760932,\"type\":\"CurriculumCorequisite\"},{\"source_id\":2258215799,\"target_id\":2138760932,\"type\":\"CurriculumCorequisite\"},{\"source_id\":1051497550,\"target_id\":2138760932,\"type\":\"CurriculumPrerequisite\"},{\"source_id\":947037850,\"target_id\":2138760932,\"type\":\"CurriculumCorequisite\"}],\"name\":\"ECE 2201\",\"metrics\":{\"centrality\":677,\"complexity\":24.0,\"blocking factor\":12,\"delay factor\":12.0},\"nameSub\":\"Circuit Analysis I\",\"id\":2138760932,\"credits\":3,\"nameCanonical\":\"\"}],\"id\":4},{\"name\":\"Term 5\",\"curriculum_items\":[{\"curriculum_requisites\":[],\"name\":\" \",\"metrics\":{\"centrality\":0,\"complexity\":1.0,\"blocking factor\":0,\"delay factor\":1.0},\"nameSub\":\"Concentration Elective 6\",\"id\":1716266479,\"credits\":3,\"nameCanonical\":\"\"},{\"curriculum_requisites\":[{\"source_id\":2138760932,\"target_id\":3887805990,\"type\":\"CurriculumPrerequisite\"}],\"name\":\"ECE 2202\",\"metrics\":{\"centrality\":393,\"complexity\":20.0,\"blocking factor\":8,\"delay factor\":12.0},\"nameSub\":\"Circuit Analysis II\",\"id\":3887805990,\"credits\":3,\"nameCanonical\":\"\"},{\"curriculum_requisites\":[{\"source_id\":3059602497,\"target_id\":1083857781,\"type\":\"CurriculumPrerequisite\"},{\"source_id\":3887805990,\"target_id\":1083857781,\"type\":\"CurriculumCorequisite\"}],\"name\":\"ECE 2100\",\"metrics\":{\"centrality\":295,\"complexity\":17.0,\"blocking factor\":5,\"delay factor\":12.0},\"nameSub\":\"Circuits Lab\",\"id\":1083857781,\"credits\":1,\"nameCanonical\":\"\"},{\"curriculum_requisites\":[{\"source_id\":3195103903,\"target_id\":1770099342,\"type\":\"CurriculumPrerequisite\"},{\"source_id\":2138760932,\"target_id\":1770099342,\"type\":\"CurriculumPrerequisite\"}],\"name\":\"ENGI 2304\",\"metrics\":{\"centrality\":159,\"complexity\":15.0,\"blocking factor\":4,\"delay factor\":11.0},\"nameSub\":\"Technical Communication\",\"id\":1770099342,\"credits\":3,\"nameCanonical\":\"\"},{\"curriculum_requisites\":[{\"source_id\":947037850,\"target_id\":649106202,\"type\":\"CurriculumPrerequisite\"},{\"source_id\":2138760932,\"target_id\":649106202,\"type\":\"CurriculumPrerequisite\"}],\"name\":\"ECE 3331\",\"metrics\":{\"centrality\":152,\"complexity\":14.0,\"blocking factor\":4,\"delay factor\":10.0},\"nameSub\":\"Programming Apps in ECE\",\"id\":649106202,\"credits\":3,\"nameCanonical\":\"\"},{\"curriculum_requisites\":[{\"source_id\":3887805990,\"target_id\":2791403937,\"type\":\"CurriculumCorequisite\"}],\"name\":\"ECE 3337\",\"metrics\":{\"centrality\":154,\"complexity\":15.0,\"blocking factor\":4,\"delay factor\":11.0},\"nameSub\":\"Signals & Systems Analysis\",\"id\":2791403937,\"credits\":3,\"nameCanonical\":\"\"},{\"curriculum_requisites\":[{\"source_id\":1083857781,\"target_id\":4184346648,\"type\":\"CurriculumCorequisite\"},{\"source_id\":649106202,\"target_id\":4184346648,\"type\":\"CurriculumCorequisite\"}],\"name\":\"ECE 3436\",\"metrics\":{\"centrality\":171,\"complexity\":13.0,\"blocking factor\":2,\"delay factor\":11.0},\"nameSub\":\"Microprocessors\",\"id\":4184346648,\"credits\":3,\"nameCanonical\":\"\"}],\"id\":5},{\"name\":\"Term 6\",\"curriculum_items\":[{\"curriculum_requisites\":[],\"name\":\" \",\"metrics\":{\"centrality\":0,\"complexity\":1.0,\"blocking factor\":0,\"delay factor\":1.0},\"nameSub\":\"Concentration Elective 7\",\"id\":2584207151,\"credits\":3,\"nameCanonical\":\"\"},{\"curriculum_requisites\":[{\"source_id\":1083857781,\"target_id\":1966522372,\"type\":\"CurriculumPrerequisite\"},{\"source_id\":1770099342,\"target_id\":1966522372,\"type\":\"CurriculumPrerequisite\"}],\"name\":\"ECE 3155\",\"metrics\":{\"centrality\":359,\"complexity\":15.0,\"blocking factor\":3,\"delay factor\":12.0},\"nameSub\":\"Electronics Lab\",\"id\":1966522372,\"credits\":1,\"nameCanonical\":\"\"},{\"curriculum_requisites\":[{\"source_id\":1966522372,\"target_id\":4165958389,\"type\":\"CurriculumStrictCorequisite\"},{\"source_id\":2791403937,\"target_id\":4165958389,\"type\":\"CurriculumPrerequisite\"}],\"name\":\"ECE 3355\",\"metrics\":{\"centrality\":266,\"complexity\":14.0,\"blocking factor\":2,\"delay factor\":12.0},\"nameSub\":\"Electronics\",\"id\":4165958389,\"credits\":3,\"nameCanonical\":\"\"},{\"curriculum_requisites\":[{\"source_id\":2791403937,\"target_id\":2252871414,\"type\":\"CurriculumPrerequisite\"}],\"name\":\"ECE 3317\",\"metrics\":{\"centrality\":77,\"complexity\":13.0,\"blocking factor\":2,\"delay factor\":11.0},\"nameSub\":\"Applied EM Waves\",\"id\":2252871414,\"credits\":3,\"nameCanonical\":\"\"},{\"curriculum_requisites\":[{\"source_id\":649106202,\"target_id\":3368026167,\"type\":\"CurriculumPrerequisite\"}],\"name\":\"ECE 3340\",\"metrics\":{\"centrality\":76,\"complexity\":12.0,\"blocking factor\":2,\"delay factor\":10.0},\"nameSub\":\"Numerical Methods\",\"id\":3368026167,\"credits\":3,\"nameCanonical\":\"\"},{\"curriculum_requisites\":[],\"name\":\" \",\"metrics\":{\"centrality\":0,\"complexity\":1.0,\"blocking factor\":0,\"delay factor\":1.0},\"nameSub\":\"Creative Arts Core\",\"id\":848294223,\"credits\":3,\"nameCanonical\":\"\"},{\"curriculum_requisites\":[],\"name\":\" \",\"metrics\":{\"centrality\":0,\"complexity\":1.0,\"blocking factor\":0,\"delay factor\":1.0},\"nameSub\":\"ECE Elective 1\",\"id\":2051928090,\"credits\":3,\"nameCanonical\":\"\"}],\"id\":6},{\"name\":\"Term 7\",\"curriculum_items\":[{\"curriculum_requisites\":[],\"name\":\" \",\"metrics\":{\"centrality\":0,\"complexity\":1.0,\"blocking factor\":0,\"delay factor\":1.0},\"nameSub\":\"ECE Elective 2\",\"id\":672829327,\"credits\":3,\"nameCanonical\":\"\"},{\"curriculum_requisites\":[{\"source_id\":1966522372,\"target_id\":1337097032,\"type\":\"CurriculumPrerequisite\"},{\"source_id\":4184346648,\"target_id\":1337097032,\"type\":\"CurriculumPrerequisite\"},{\"source_id\":3368026167,\"target_id\":1337097032,\"type\":\"CurriculumPrerequisite\"},{\"source_id\":2888554139,\"target_id\":1337097032,\"type\":\"CurriculumPrerequisite\"},{\"source_id\":4165958389,\"target_id\":1337097032,\"type\":\"CurriculumPrerequisite\"},{\"source_id\":3224555476,\"target_id\":1337097032,\"type\":\"CurriculumCorequisite\"},{\"source_id\":2252871414,\"target_id\":1337097032,\"type\":\"CurriculumPrerequisite\"}],\"name\":\"ECE 4335\",\"metrics\":{\"centrality\":779,\"complexity\":13.0,\"blocking factor\":1,\"delay factor\":12.0},\"nameSub\":\"ECE Design I\",\"id\":1337097032,\"credits\":3,\"nameCanonical\":\"\"},{\"curriculum_requisites\":[],\"name\":\" \",\"metrics\":{\"centrality\":0,\"complexity\":1.0,\"blocking factor\":0,\"delay factor\":1.0},\"nameSub\":\"Elective Lab 1\",\"id\":26700799,\"credits\":1,\"nameCanonical\":\"\"},{\"curriculum_requisites\":[],\"name\":\" \",\"metrics\":{\"centrality\":0,\"complexity\":1.0,\"blocking factor\":0,\"delay factor\":1.0},\"nameSub\":\"Elective Lab 2\",\"id\":1296179090,\"credits\":1,\"nameCanonical\":\"\"},{\"curriculum_requisites\":[],\"name\":\" \",\"metrics\":{\"centrality\":0,\"complexity\":1.0,\"blocking factor\":0,\"delay factor\":1.0},\"nameSub\":\"Elective Lab 3\",\"id\":3091492697,\"credits\":1,\"nameCanonical\":\"\"},{\"curriculum_requisites\":[],\"name\":\" \",\"metrics\":{\"centrality\":0,\"complexity\":1.0,\"blocking factor\":0,\"delay factor\":1.0},\"nameSub\":\"Elective Lab 4\",\"id\":2450156574,\"credits\":1,\"nameCanonical\":\"\"},{\"curriculum_requisites\":[],\"name\":\" \",\"metrics\":{\"centrality\":0,\"complexity\":1.0,\"blocking factor\":0,\"delay factor\":1.0},\"nameSub\":\"Lang., Phil. & Culture Core\",\"id\":1626752824,\"credits\":3,\"nameCanonical\":\"\"},{\"curriculum_requisites\":[],\"name\":\" \",\"metrics\":{\"centrality\":0,\"complexity\":1.0,\"blocking factor\":0,\"delay factor\":1.0},\"nameSub\":\"Technical Elective\",\"id\":2529896330,\"credits\":3,\"nameCanonical\":\"\"}],\"id\":7},{\"name\":\"Term 8\",\"curriculum_items\":[{\"curriculum_requisites\":[{\"source_id\":1337097032,\"target_id\":1158404973,\"type\":\"CurriculumPrerequisite\"}],\"name\":\"ECE 4336\",\"metrics\":{\"centrality\":0,\"complexity\":12.0,\"blocking factor\":0,\"delay factor\":12.0},\"nameSub\":\"ECE Design II\",\"id\":1158404973,\"credits\":3,\"nameCanonical\":\"\"}],\"id\":8}],\"institution\":\"ACME Univ.\"}},\"*\"); window.removeEventListener(\"message\",window.messageReceived); window.messageReceived=(function (event){return (event.data.curriculum!==undefined) ? (WebIO.setval({\"name\":\"curriculum-data\",\"scope\":\"4584900451068212633\",\"id\":\"10354859149323509535\",\"type\":\"observable\"},event.data.curriculum)) : undefined}); return window.addEventListener(\"message\",window.messageReceived)})"
          },
          "id": "curriculum",
          "src": "https://curricula-api-embed.damoursystems.com/",
          "style": {
           "border": "none",
           "height": "100vh",
           "margin": "0",
           "padding": "0",
           "width": "100%"
          }
         },
         "type": "node"
        }
       ],
       "instanceArgs": {
        "handlers": {},
        "id": "4584900451068212633",
        "imports": {
         "data": [],
         "type": "async_block"
        },
        "mount_callbacks": [],
        "observables": {
         "curriculum-data": {
          "id": "10354859149323509535",
          "sync": true,
          "value": {
           "curriculum": {
            "curriculum_terms": [
             {
              "curriculum_items": [
               {
                "credits": 3,
                "curriculum_requisites": [],
                "id": 1324171406,
                "metrics": {
                 "blocking factor": 6,
                 "centrality": 0,
                 "complexity": 13,
                 "delay factor": 7
                },
                "name": "ENGL 1303",
                "nameCanonical": "",
                "nameSub": "First Year Writing I"
               },
               {
                "credits": 3,
                "curriculum_requisites": [],
                "id": 1351802580,
                "metrics": {
                 "blocking factor": 1,
                 "centrality": 0,
                 "complexity": 3,
                 "delay factor": 2
                },
                "name": "CHEM 1331",
                "nameCanonical": "",
                "nameSub": "Fund. of Chemistry"
               },
               {
                "credits": 1,
                "curriculum_requisites": [
                 {
                  "source_id": 1351802580,
                  "target_id": 2195546016,
                  "type": "CurriculumCorequisite"
                 }
                ],
                "id": 2195546016,
                "metrics": {
                 "blocking factor": 0,
                 "centrality": 0,
                 "complexity": 2,
                 "delay factor": 2
                },
                "name": "CHEM 1111",
                "nameCanonical": "",
                "nameSub": "Fund. of Chemistry Lab"
               },
               {
                "credits": 3,
                "curriculum_requisites": [],
                "id": 1541543378,
                "metrics": {
                 "blocking factor": 0,
                 "centrality": 0,
                 "complexity": 1,
                 "delay factor": 1
                },
                "name": "POLS 1336",
                "nameCanonical": "",
                "nameSub": "US and TX Constitutions & Politics"
               },
               {
                "credits": 3,
                "curriculum_requisites": [],
                "id": 951874139,
                "metrics": {
                 "blocking factor": 0,
                 "centrality": 0,
                 "complexity": 1,
                 "delay factor": 1
                },
                "name": "POLS 1337",
                "nameCanonical": "",
                "nameSub": "US Gov: Congress, President and Courts"
               },
               {
                "credits": 3,
                "curriculum_requisites": [],
                "id": 3824069494,
                "metrics": {
                 "blocking factor": 0,
                 "centrality": 0,
                 "complexity": 1,
                 "delay factor": 1
                },
                "name": "HIST 1377",
                "nameCanonical": "",
                "nameSub": "The US to 1877"
               },
               {
                "credits": 3,
                "curriculum_requisites": [],
                "id": 2731496025,
                "metrics": {
                 "blocking factor": 0,
                 "centrality": 0,
                 "complexity": 1,
                 "delay factor": 1
                },
                "name": "HIST 1378",
                "nameCanonical": "",
                "nameSub": "US Since 1877"
               }
              ],
              "id": 1,
              "name": "Term 1"
             },
             {
              "curriculum_items": [
               {
                "credits": 4,
                "curriculum_requisites": [],
                "id": 4175014649,
                "metrics": {
                 "blocking factor": 23,
                 "centrality": 0,
                 "complexity": 35,
                 "delay factor": 12
                },
                "name": "MATH 1431",
                "nameCanonical": "",
                "nameSub": "Calculus I"
               },
               {
                "credits": 1,
                "curriculum_requisites": [
                 {
                  "source_id": 4175014649,
                  "target_id": 1764441140,
                  "type": "CurriculumCorequisite"
                 }
                ],
                "id": 1764441140,
                "metrics": {
                 "blocking factor": 15,
                 "centrality": 85,
                 "complexity": 25,
                 "delay factor": 10
                },
                "name": "ENGI 1100",
                "nameCanonical": "",
                "nameSub": "Intro to Engr."
               },
               {
                "credits": 3,
                "curriculum_requisites": [
                 {
                  "source_id": 1324171406,
                  "target_id": 3195103903,
                  "type": "CurriculumPrerequisite"
                 }
                ],
                "id": 3195103903,
                "metrics": {
                 "blocking factor": 5,
                 "centrality": 13,
                 "complexity": 12,
                 "delay factor": 7
                },
                "name": "ENGL 1304",
                "nameCanonical": "",
                "nameSub": "First Year Writing II"
               },
               {
                "credits": 3,
                "curriculum_requisites": [],
                "id": 3224555476,
                "metrics": {
                 "blocking factor": 2,
                 "centrality": 0,
                 "complexity": 5,
                 "delay factor": 3
                },
                "name": "ECON 2304",
                "nameCanonical": "",
                "nameSub": "Microeconomic Principles"
               },
               {
                "credits": 3,
                "curriculum_requisites": [],
                "id": 1056053313,
                "metrics": {
                 "blocking factor": 0,
                 "centrality": 0,
                 "complexity": 1,
                 "delay factor": 1
                },
                "name": " ",
                "nameCanonical": "",
                "nameSub": "Concentration Elective 1"
               },
               {
                "credits": 3,
                "curriculum_requisites": [],
                "id": 1745860227,
                "metrics": {
                 "blocking factor": 0,
                 "centrality": 0,
                 "complexity": 1,
                 "delay factor": 1
                },
                "name": " ",
                "nameCanonical": "",
                "nameSub": "Concentration Elective 2"
               }
              ],
              "id": 2,
              "name": "Term 2"
             },
             {
              "curriculum_items": [
               {
                "credits": 3,
                "curriculum_requisites": [],
                "id": 1105094343,
                "metrics": {
                 "blocking factor": 0,
                 "centrality": 0,
                 "complexity": 1,
                 "delay factor": 1
                },
                "name": " ",
                "nameCanonical": "",
                "nameSub": "Concentration Elective 3"
               },
               {
                "credits": 3,
                "curriculum_requisites": [
                 {
                  "source_id": 4175014649,
                  "target_id": 1051497550,
                  "type": "CurriculumPrerequisite"
                 },
                 {
                  "source_id": 1764441140,
                  "target_id": 1051497550,
                  "type": "CurriculumPrerequisite"
                 }
                ],
                "id": 1051497550,
                "metrics": {
                 "blocking factor": 14,
                 "centrality": 160,
                 "complexity": 24,
                 "delay factor": 10
                },
                "name": "ENGI 1331",
                "nameCanonical": "",
                "nameSub": "Computing & Prob. Solving"
               },
               {
                "credits": 4,
                "curriculum_requisites": [
                 {
                  "source_id": 4175014649,
                  "target_id": 1177372781,
                  "type": "CurriculumPrerequisite"
                 }
                ],
                "id": 1177372781,
                "metrics": {
                 "blocking factor": 20,
                 "centrality": 607,
                 "complexity": 32,
                 "delay factor": 12
                },
                "name": "MATH 1432",
                "nameCanonical": "",
                "nameSub": "Calculus II"
               },
               {
                "credits": 3,
                "curriculum_requisites": [
                 {
                  "source_id": 1177372781,
                  "target_id": 2834873484,
                  "type": "CurriculumCorequisite"
                 }
                ],
                "id": 2834873484,
                "metrics": {
                 "blocking factor": 16,
                 "centrality": 217,
                 "complexity": 28,
                 "delay factor": 12
                },
                "name": "PHYS 1321",
                "nameCanonical": "",
                "nameSub": "University Physics I"
               },
               {
                "credits": 1,
                "curriculum_requisites": [
                 {
                  "source_id": 2834873484,
                  "target_id": 3178954113,
                  "type": "CurriculumCorequisite"
                 }
                ],
                "id": 3178954113,
                "metrics": {
                 "blocking factor": 0,
                 "centrality": 0,
                 "complexity": 4,
                 "delay factor": 4
                },
                "name": "PHYS 1121",
                "nameCanonical": "",
                "nameSub": "Physics Lab I"
               },
               {
                "credits": 3,
                "curriculum_requisites": [],
                "id": 1819261218,
                "metrics": {
                 "blocking factor": 0,
                 "centrality": 0,
                 "complexity": 1,
                 "delay factor": 1
                },
                "name": " ",
                "nameCanonical": "",
                "nameSub": "Concentration Elective 4"
               }
              ],
              "id": 3,
              "name": "Term 3"
             },
             {
              "curriculum_items": [
               {
                "credits": 3,
                "curriculum_requisites": [],
                "id": 2070124031,
                "metrics": {
                 "blocking factor": 0,
                 "centrality": 0,
                 "complexity": 1,
                 "delay factor": 1
                },
                "name": " ",
                "nameCanonical": "",
                "nameSub": "Concentration Elective 5"
               },
               {
                "credits": 3,
                "curriculum_requisites": [
                 {
                  "source_id": 1051497550,
                  "target_id": 2888554139,
                  "type": "CurriculumPrerequisite"
                 },
                 {
                  "source_id": 1177372781,
                  "target_id": 2888554139,
                  "type": "CurriculumPrerequisite"
                 }
                ],
                "id": 2888554139,
                "metrics": {
                 "blocking factor": 2,
                 "centrality": 16,
                 "complexity": 8,
                 "delay factor": 6
                },
                "name": "INDE 2333",
                "nameCanonical": "",
                "nameSub": "Engineering Statistics"
               },
               {
                "credits": 3,
                "curriculum_requisites": [
                 {
                  "source_id": 1177372781,
                  "target_id": 2258215799,
                  "type": "CurriculumPrerequisite"
                 }
                ],
                "id": 2258215799,
                "metrics": {
                 "blocking factor": 15,
                 "centrality": 292,
                 "complexity": 27,
                 "delay factor": 12
                },
                "name": "MATH 2433",
                "nameCanonical": "",
                "nameSub": "Calculus III"
               },
               {
                "credits": 3,
                "curriculum_requisites": [
                 {
                  "source_id": 2258215799,
                  "target_id": 3718777895,
                  "type": "CurriculumCorequisite"
                 },
                 {
                  "source_id": 2834873484,
                  "target_id": 3718777895,
                  "type": "CurriculumPrerequisite"
                 }
                ],
                "id": 3718777895,
                "metrics": {
                 "blocking factor": 14,
                 "centrality": 426,
                 "complexity": 26,
                 "delay factor": 12
                },
                "name": "PHYS 1322",
                "nameCanonical": "",
                "nameSub": "University Physics II"
               },
               {
                "credits": 1,
                "curriculum_requisites": [
                 {
                  "source_id": 3718777895,
                  "target_id": 3059602497,
                  "type": "CurriculumCorequisite"
                 }
                ],
                "id": 3059602497,
                "metrics": {
                 "blocking factor": 13,
                 "centrality": 250,
                 "complexity": 25,
                 "delay factor": 12
                },
                "name": "PHYS 1122",
                "nameCanonical": "",
                "nameSub": "Physics Lab II"
               },
               {
                "credits": 3,
                "curriculum_requisites": [
                 {
                  "source_id": 1177372781,
                  "target_id": 947037850,
                  "type": "CurriculumPrerequisite"
                 }
                ],
                "id": 947037850,
                "metrics": {
                 "blocking factor": 13,
                 "centrality": 93,
                 "complexity": 23,
                 "delay factor": 10
                },
                "name": "MATH 3321",
                "nameCanonical": "",
                "nameSub": "Engineering Math"
               },
               {
                "credits": 3,
                "curriculum_requisites": [
                 {
                  "source_id": 3718777895,
                  "target_id": 2138760932,
                  "type": "CurriculumCorequisite"
                 },
                 {
                  "source_id": 3059602497,
                  "target_id": 2138760932,
                  "type": "CurriculumCorequisite"
                 },
                 {
                  "source_id": 2258215799,
                  "target_id": 2138760932,
                  "type": "CurriculumCorequisite"
                 },
                 {
                  "source_id": 1051497550,
                  "target_id": 2138760932,
                  "type": "CurriculumPrerequisite"
                 },
                 {
                  "source_id": 947037850,
                  "target_id": 2138760932,
                  "type": "CurriculumCorequisite"
                 }
                ],
                "id": 2138760932,
                "metrics": {
                 "blocking factor": 12,
                 "centrality": 677,
                 "complexity": 24,
                 "delay factor": 12
                },
                "name": "ECE 2201",
                "nameCanonical": "",
                "nameSub": "Circuit Analysis I"
               }
              ],
              "id": 4,
              "name": "Term 4"
             },
             {
              "curriculum_items": [
               {
                "credits": 3,
                "curriculum_requisites": [],
                "id": 1716266479,
                "metrics": {
                 "blocking factor": 0,
                 "centrality": 0,
                 "complexity": 1,
                 "delay factor": 1
                },
                "name": " ",
                "nameCanonical": "",
                "nameSub": "Concentration Elective 6"
               },
               {
                "credits": 3,
                "curriculum_requisites": [
                 {
                  "source_id": 2138760932,
                  "target_id": 3887805990,
                  "type": "CurriculumPrerequisite"
                 }
                ],
                "id": 3887805990,
                "metrics": {
                 "blocking factor": 8,
                 "centrality": 393,
                 "complexity": 20,
                 "delay factor": 12
                },
                "name": "ECE 2202",
                "nameCanonical": "",
                "nameSub": "Circuit Analysis II"
               },
               {
                "credits": 1,
                "curriculum_requisites": [
                 {
                  "source_id": 3059602497,
                  "target_id": 1083857781,
                  "type": "CurriculumPrerequisite"
                 },
                 {
                  "source_id": 3887805990,
                  "target_id": 1083857781,
                  "type": "CurriculumCorequisite"
                 }
                ],
                "id": 1083857781,
                "metrics": {
                 "blocking factor": 5,
                 "centrality": 295,
                 "complexity": 17,
                 "delay factor": 12
                },
                "name": "ECE 2100",
                "nameCanonical": "",
                "nameSub": "Circuits Lab"
               },
               {
                "credits": 3,
                "curriculum_requisites": [
                 {
                  "source_id": 3195103903,
                  "target_id": 1770099342,
                  "type": "CurriculumPrerequisite"
                 },
                 {
                  "source_id": 2138760932,
                  "target_id": 1770099342,
                  "type": "CurriculumPrerequisite"
                 }
                ],
                "id": 1770099342,
                "metrics": {
                 "blocking factor": 4,
                 "centrality": 159,
                 "complexity": 15,
                 "delay factor": 11
                },
                "name": "ENGI 2304",
                "nameCanonical": "",
                "nameSub": "Technical Communication"
               },
               {
                "credits": 3,
                "curriculum_requisites": [
                 {
                  "source_id": 947037850,
                  "target_id": 649106202,
                  "type": "CurriculumPrerequisite"
                 },
                 {
                  "source_id": 2138760932,
                  "target_id": 649106202,
                  "type": "CurriculumPrerequisite"
                 }
                ],
                "id": 649106202,
                "metrics": {
                 "blocking factor": 4,
                 "centrality": 152,
                 "complexity": 14,
                 "delay factor": 10
                },
                "name": "ECE 3331",
                "nameCanonical": "",
                "nameSub": "Programming Apps in ECE"
               },
               {
                "credits": 3,
                "curriculum_requisites": [
                 {
                  "source_id": 3887805990,
                  "target_id": 2791403937,
                  "type": "CurriculumCorequisite"
                 }
                ],
                "id": 2791403937,
                "metrics": {
                 "blocking factor": 4,
                 "centrality": 154,
                 "complexity": 15,
                 "delay factor": 11
                },
                "name": "ECE 3337",
                "nameCanonical": "",
                "nameSub": "Signals & Systems Analysis"
               },
               {
                "credits": 3,
                "curriculum_requisites": [
                 {
                  "source_id": 1083857781,
                  "target_id": 4184346648,
                  "type": "CurriculumCorequisite"
                 },
                 {
                  "source_id": 649106202,
                  "target_id": 4184346648,
                  "type": "CurriculumCorequisite"
                 }
                ],
                "id": 4184346648,
                "metrics": {
                 "blocking factor": 2,
                 "centrality": 171,
                 "complexity": 13,
                 "delay factor": 11
                },
                "name": "ECE 3436",
                "nameCanonical": "",
                "nameSub": "Microprocessors"
               }
              ],
              "id": 5,
              "name": "Term 5"
             },
             {
              "curriculum_items": [
               {
                "credits": 3,
                "curriculum_requisites": [],
                "id": 2584207151,
                "metrics": {
                 "blocking factor": 0,
                 "centrality": 0,
                 "complexity": 1,
                 "delay factor": 1
                },
                "name": " ",
                "nameCanonical": "",
                "nameSub": "Concentration Elective 7"
               },
               {
                "credits": 1,
                "curriculum_requisites": [
                 {
                  "source_id": 1083857781,
                  "target_id": 1966522372,
                  "type": "CurriculumPrerequisite"
                 },
                 {
                  "source_id": 1770099342,
                  "target_id": 1966522372,
                  "type": "CurriculumPrerequisite"
                 }
                ],
                "id": 1966522372,
                "metrics": {
                 "blocking factor": 3,
                 "centrality": 359,
                 "complexity": 15,
                 "delay factor": 12
                },
                "name": "ECE 3155",
                "nameCanonical": "",
                "nameSub": "Electronics Lab"
               },
               {
                "credits": 3,
                "curriculum_requisites": [
                 {
                  "source_id": 1966522372,
                  "target_id": 4165958389,
                  "type": "CurriculumStrictCorequisite"
                 },
                 {
                  "source_id": 2791403937,
                  "target_id": 4165958389,
                  "type": "CurriculumPrerequisite"
                 }
                ],
                "id": 4165958389,
                "metrics": {
                 "blocking factor": 2,
                 "centrality": 266,
                 "complexity": 14,
                 "delay factor": 12
                },
                "name": "ECE 3355",
                "nameCanonical": "",
                "nameSub": "Electronics"
               },
               {
                "credits": 3,
                "curriculum_requisites": [
                 {
                  "source_id": 2791403937,
                  "target_id": 2252871414,
                  "type": "CurriculumPrerequisite"
                 }
                ],
                "id": 2252871414,
                "metrics": {
                 "blocking factor": 2,
                 "centrality": 77,
                 "complexity": 13,
                 "delay factor": 11
                },
                "name": "ECE 3317",
                "nameCanonical": "",
                "nameSub": "Applied EM Waves"
               },
               {
                "credits": 3,
                "curriculum_requisites": [
                 {
                  "source_id": 649106202,
                  "target_id": 3368026167,
                  "type": "CurriculumPrerequisite"
                 }
                ],
                "id": 3368026167,
                "metrics": {
                 "blocking factor": 2,
                 "centrality": 76,
                 "complexity": 12,
                 "delay factor": 10
                },
                "name": "ECE 3340",
                "nameCanonical": "",
                "nameSub": "Numerical Methods"
               },
               {
                "credits": 3,
                "curriculum_requisites": [],
                "id": 848294223,
                "metrics": {
                 "blocking factor": 0,
                 "centrality": 0,
                 "complexity": 1,
                 "delay factor": 1
                },
                "name": " ",
                "nameCanonical": "",
                "nameSub": "Creative Arts Core"
               },
               {
                "credits": 3,
                "curriculum_requisites": [],
                "id": 2051928090,
                "metrics": {
                 "blocking factor": 0,
                 "centrality": 0,
                 "complexity": 1,
                 "delay factor": 1
                },
                "name": " ",
                "nameCanonical": "",
                "nameSub": "ECE Elective 1"
               }
              ],
              "id": 6,
              "name": "Term 6"
             },
             {
              "curriculum_items": [
               {
                "credits": 3,
                "curriculum_requisites": [],
                "id": 672829327,
                "metrics": {
                 "blocking factor": 0,
                 "centrality": 0,
                 "complexity": 1,
                 "delay factor": 1
                },
                "name": " ",
                "nameCanonical": "",
                "nameSub": "ECE Elective 2"
               },
               {
                "credits": 3,
                "curriculum_requisites": [
                 {
                  "source_id": 1966522372,
                  "target_id": 1337097032,
                  "type": "CurriculumPrerequisite"
                 },
                 {
                  "source_id": 4184346648,
                  "target_id": 1337097032,
                  "type": "CurriculumPrerequisite"
                 },
                 {
                  "source_id": 3368026167,
                  "target_id": 1337097032,
                  "type": "CurriculumPrerequisite"
                 },
                 {
                  "source_id": 2888554139,
                  "target_id": 1337097032,
                  "type": "CurriculumPrerequisite"
                 },
                 {
                  "source_id": 4165958389,
                  "target_id": 1337097032,
                  "type": "CurriculumPrerequisite"
                 },
                 {
                  "source_id": 3224555476,
                  "target_id": 1337097032,
                  "type": "CurriculumCorequisite"
                 },
                 {
                  "source_id": 2252871414,
                  "target_id": 1337097032,
                  "type": "CurriculumPrerequisite"
                 }
                ],
                "id": 1337097032,
                "metrics": {
                 "blocking factor": 1,
                 "centrality": 779,
                 "complexity": 13,
                 "delay factor": 12
                },
                "name": "ECE 4335",
                "nameCanonical": "",
                "nameSub": "ECE Design I"
               },
               {
                "credits": 1,
                "curriculum_requisites": [],
                "id": 26700799,
                "metrics": {
                 "blocking factor": 0,
                 "centrality": 0,
                 "complexity": 1,
                 "delay factor": 1
                },
                "name": " ",
                "nameCanonical": "",
                "nameSub": "Elective Lab 1"
               },
               {
                "credits": 1,
                "curriculum_requisites": [],
                "id": 1296179090,
                "metrics": {
                 "blocking factor": 0,
                 "centrality": 0,
                 "complexity": 1,
                 "delay factor": 1
                },
                "name": " ",
                "nameCanonical": "",
                "nameSub": "Elective Lab 2"
               },
               {
                "credits": 1,
                "curriculum_requisites": [],
                "id": 3091492697,
                "metrics": {
                 "blocking factor": 0,
                 "centrality": 0,
                 "complexity": 1,
                 "delay factor": 1
                },
                "name": " ",
                "nameCanonical": "",
                "nameSub": "Elective Lab 3"
               },
               {
                "credits": 1,
                "curriculum_requisites": [],
                "id": 2450156574,
                "metrics": {
                 "blocking factor": 0,
                 "centrality": 0,
                 "complexity": 1,
                 "delay factor": 1
                },
                "name": " ",
                "nameCanonical": "",
                "nameSub": "Elective Lab 4"
               },
               {
                "credits": 3,
                "curriculum_requisites": [],
                "id": 1626752824,
                "metrics": {
                 "blocking factor": 0,
                 "centrality": 0,
                 "complexity": 1,
                 "delay factor": 1
                },
                "name": " ",
                "nameCanonical": "",
                "nameSub": "Lang., Phil. & Culture Core"
               },
               {
                "credits": 3,
                "curriculum_requisites": [],
                "id": 2529896330,
                "metrics": {
                 "blocking factor": 0,
                 "centrality": 0,
                 "complexity": 1,
                 "delay factor": 1
                },
                "name": " ",
                "nameCanonical": "",
                "nameSub": "Technical Elective"
               }
              ],
              "id": 7,
              "name": "Term 7"
             },
             {
              "curriculum_items": [
               {
                "credits": 3,
                "curriculum_requisites": [
                 {
                  "source_id": 1337097032,
                  "target_id": 1158404973,
                  "type": "CurriculumPrerequisite"
                 }
                ],
                "id": 1158404973,
                "metrics": {
                 "blocking factor": 0,
                 "centrality": 0,
                 "complexity": 12,
                 "delay factor": 12
                },
                "name": "ECE 4336",
                "nameCanonical": "",
                "nameSub": "ECE Design II"
               }
              ],
              "id": 8,
              "name": "Term 8"
             }
            ],
            "dp_name": "",
            "institution": "ACME Univ.",
            "name": "A Real EE Program"
           },
           "options": {
            "edit": false,
            "hideTerms": false
           }
          }
         }
        },
        "systemjs_options": null
       },
       "nodeType": "Scope",
       "props": {},
       "type": "node"
      },
      "text/html": [
       "<div\n",
       "    class=\"webio-mountpoint\"\n",
       "    data-webio-mountpoint=\"8446549048689332956\"\n",
       ">\n",
       "    <script>\n",
       "    if (window.require && require.defined && require.defined(\"nbextensions/webio-jupyter-notebook\")) {\n",
       "        console.log(\"Jupyter WebIO extension detected, not mounting.\");\n",
       "    } else if (window.WebIO) {\n",
       "        WebIO.mount(\n",
       "            document.querySelector('[data-webio-mountpoint=\"8446549048689332956\"]'),\n",
       "            {\"props\":{},\"nodeType\":\"Scope\",\"type\":\"node\",\"instanceArgs\":{\"imports\":{\"data\":[],\"type\":\"async_block\"},\"id\":\"4584900451068212633\",\"handlers\":{},\"systemjs_options\":null,\"mount_callbacks\":[],\"observables\":{\"curriculum-data\":{\"sync\":true,\"id\":\"10354859149323509535\",\"value\":{\"options\":{\"hideTerms\":false,\"edit\":false},\"curriculum\":{\"name\":\"A Real EE Program\",\"dp_name\":\"\",\"curriculum_terms\":[{\"name\":\"Term 1\",\"curriculum_items\":[{\"curriculum_requisites\":[],\"name\":\"ENGL 1303\",\"metrics\":{\"centrality\":0,\"complexity\":13.0,\"blocking factor\":6,\"delay factor\":7.0},\"nameSub\":\"First Year Writing I\",\"id\":1324171406,\"credits\":3,\"nameCanonical\":\"\"},{\"curriculum_requisites\":[],\"name\":\"CHEM 1331\",\"metrics\":{\"centrality\":0,\"complexity\":3.0,\"blocking factor\":1,\"delay factor\":2.0},\"nameSub\":\"Fund. of Chemistry\",\"id\":1351802580,\"credits\":3,\"nameCanonical\":\"\"},{\"curriculum_requisites\":[{\"source_id\":1351802580,\"target_id\":2195546016,\"type\":\"CurriculumCorequisite\"}],\"name\":\"CHEM 1111\",\"metrics\":{\"centrality\":0,\"complexity\":2.0,\"blocking factor\":0,\"delay factor\":2.0},\"nameSub\":\"Fund. of Chemistry Lab\",\"id\":2195546016,\"credits\":1,\"nameCanonical\":\"\"},{\"curriculum_requisites\":[],\"name\":\"POLS 1336\",\"metrics\":{\"centrality\":0,\"complexity\":1.0,\"blocking factor\":0,\"delay factor\":1.0},\"nameSub\":\"US and TX Constitutions & Politics\",\"id\":1541543378,\"credits\":3,\"nameCanonical\":\"\"},{\"curriculum_requisites\":[],\"name\":\"POLS 1337\",\"metrics\":{\"centrality\":0,\"complexity\":1.0,\"blocking factor\":0,\"delay factor\":1.0},\"nameSub\":\"US Gov: Congress, President and Courts\",\"id\":951874139,\"credits\":3,\"nameCanonical\":\"\"},{\"curriculum_requisites\":[],\"name\":\"HIST 1377\",\"metrics\":{\"centrality\":0,\"complexity\":1.0,\"blocking factor\":0,\"delay factor\":1.0},\"nameSub\":\"The US to 1877\",\"id\":3824069494,\"credits\":3,\"nameCanonical\":\"\"},{\"curriculum_requisites\":[],\"name\":\"HIST 1378\",\"metrics\":{\"centrality\":0,\"complexity\":1.0,\"blocking factor\":0,\"delay factor\":1.0},\"nameSub\":\"US Since 1877\",\"id\":2731496025,\"credits\":3,\"nameCanonical\":\"\"}],\"id\":1},{\"name\":\"Term 2\",\"curriculum_items\":[{\"curriculum_requisites\":[],\"name\":\"MATH 1431\",\"metrics\":{\"centrality\":0,\"complexity\":35.0,\"blocking factor\":23,\"delay factor\":12.0},\"nameSub\":\"Calculus I\",\"id\":4175014649,\"credits\":4,\"nameCanonical\":\"\"},{\"curriculum_requisites\":[{\"source_id\":4175014649,\"target_id\":1764441140,\"type\":\"CurriculumCorequisite\"}],\"name\":\"ENGI 1100\",\"metrics\":{\"centrality\":85,\"complexity\":25.0,\"blocking factor\":15,\"delay factor\":10.0},\"nameSub\":\"Intro to Engr.\",\"id\":1764441140,\"credits\":1,\"nameCanonical\":\"\"},{\"curriculum_requisites\":[{\"source_id\":1324171406,\"target_id\":3195103903,\"type\":\"CurriculumPrerequisite\"}],\"name\":\"ENGL 1304\",\"metrics\":{\"centrality\":13,\"complexity\":12.0,\"blocking factor\":5,\"delay factor\":7.0},\"nameSub\":\"First Year Writing II\",\"id\":3195103903,\"credits\":3,\"nameCanonical\":\"\"},{\"curriculum_requisites\":[],\"name\":\"ECON 2304\",\"metrics\":{\"centrality\":0,\"complexity\":5.0,\"blocking factor\":2,\"delay factor\":3.0},\"nameSub\":\"Microeconomic Principles\",\"id\":3224555476,\"credits\":3,\"nameCanonical\":\"\"},{\"curriculum_requisites\":[],\"name\":\" \",\"metrics\":{\"centrality\":0,\"complexity\":1.0,\"blocking factor\":0,\"delay factor\":1.0},\"nameSub\":\"Concentration Elective 1\",\"id\":1056053313,\"credits\":3,\"nameCanonical\":\"\"},{\"curriculum_requisites\":[],\"name\":\" \",\"metrics\":{\"centrality\":0,\"complexity\":1.0,\"blocking factor\":0,\"delay factor\":1.0},\"nameSub\":\"Concentration Elective 2\",\"id\":1745860227,\"credits\":3,\"nameCanonical\":\"\"}],\"id\":2},{\"name\":\"Term 3\",\"curriculum_items\":[{\"curriculum_requisites\":[],\"name\":\" \",\"metrics\":{\"centrality\":0,\"complexity\":1.0,\"blocking factor\":0,\"delay factor\":1.0},\"nameSub\":\"Concentration Elective 3\",\"id\":1105094343,\"credits\":3,\"nameCanonical\":\"\"},{\"curriculum_requisites\":[{\"source_id\":4175014649,\"target_id\":1051497550,\"type\":\"CurriculumPrerequisite\"},{\"source_id\":1764441140,\"target_id\":1051497550,\"type\":\"CurriculumPrerequisite\"}],\"name\":\"ENGI 1331\",\"metrics\":{\"centrality\":160,\"complexity\":24.0,\"blocking factor\":14,\"delay factor\":10.0},\"nameSub\":\"Computing & Prob. Solving\",\"id\":1051497550,\"credits\":3,\"nameCanonical\":\"\"},{\"curriculum_requisites\":[{\"source_id\":4175014649,\"target_id\":1177372781,\"type\":\"CurriculumPrerequisite\"}],\"name\":\"MATH 1432\",\"metrics\":{\"centrality\":607,\"complexity\":32.0,\"blocking factor\":20,\"delay factor\":12.0},\"nameSub\":\"Calculus II\",\"id\":1177372781,\"credits\":4,\"nameCanonical\":\"\"},{\"curriculum_requisites\":[{\"source_id\":1177372781,\"target_id\":2834873484,\"type\":\"CurriculumCorequisite\"}],\"name\":\"PHYS 1321\",\"metrics\":{\"centrality\":217,\"complexity\":28.0,\"blocking factor\":16,\"delay factor\":12.0},\"nameSub\":\"University Physics I\",\"id\":2834873484,\"credits\":3,\"nameCanonical\":\"\"},{\"curriculum_requisites\":[{\"source_id\":2834873484,\"target_id\":3178954113,\"type\":\"CurriculumCorequisite\"}],\"name\":\"PHYS 1121\",\"metrics\":{\"centrality\":0,\"complexity\":4.0,\"blocking factor\":0,\"delay factor\":4.0},\"nameSub\":\"Physics Lab I\",\"id\":3178954113,\"credits\":1,\"nameCanonical\":\"\"},{\"curriculum_requisites\":[],\"name\":\" \",\"metrics\":{\"centrality\":0,\"complexity\":1.0,\"blocking factor\":0,\"delay factor\":1.0},\"nameSub\":\"Concentration Elective 4\",\"id\":1819261218,\"credits\":3,\"nameCanonical\":\"\"}],\"id\":3},{\"name\":\"Term 4\",\"curriculum_items\":[{\"curriculum_requisites\":[],\"name\":\" \",\"metrics\":{\"centrality\":0,\"complexity\":1.0,\"blocking factor\":0,\"delay factor\":1.0},\"nameSub\":\"Concentration Elective 5\",\"id\":2070124031,\"credits\":3,\"nameCanonical\":\"\"},{\"curriculum_requisites\":[{\"source_id\":1051497550,\"target_id\":2888554139,\"type\":\"CurriculumPrerequisite\"},{\"source_id\":1177372781,\"target_id\":2888554139,\"type\":\"CurriculumPrerequisite\"}],\"name\":\"INDE 2333\",\"metrics\":{\"centrality\":16,\"complexity\":8.0,\"blocking factor\":2,\"delay factor\":6.0},\"nameSub\":\"Engineering Statistics\",\"id\":2888554139,\"credits\":3,\"nameCanonical\":\"\"},{\"curriculum_requisites\":[{\"source_id\":1177372781,\"target_id\":2258215799,\"type\":\"CurriculumPrerequisite\"}],\"name\":\"MATH 2433\",\"metrics\":{\"centrality\":292,\"complexity\":27.0,\"blocking factor\":15,\"delay factor\":12.0},\"nameSub\":\"Calculus III\",\"id\":2258215799,\"credits\":3,\"nameCanonical\":\"\"},{\"curriculum_requisites\":[{\"source_id\":2258215799,\"target_id\":3718777895,\"type\":\"CurriculumCorequisite\"},{\"source_id\":2834873484,\"target_id\":3718777895,\"type\":\"CurriculumPrerequisite\"}],\"name\":\"PHYS 1322\",\"metrics\":{\"centrality\":426,\"complexity\":26.0,\"blocking factor\":14,\"delay factor\":12.0},\"nameSub\":\"University Physics II\",\"id\":3718777895,\"credits\":3,\"nameCanonical\":\"\"},{\"curriculum_requisites\":[{\"source_id\":3718777895,\"target_id\":3059602497,\"type\":\"CurriculumCorequisite\"}],\"name\":\"PHYS 1122\",\"metrics\":{\"centrality\":250,\"complexity\":25.0,\"blocking factor\":13,\"delay factor\":12.0},\"nameSub\":\"Physics Lab II\",\"id\":3059602497,\"credits\":1,\"nameCanonical\":\"\"},{\"curriculum_requisites\":[{\"source_id\":1177372781,\"target_id\":947037850,\"type\":\"CurriculumPrerequisite\"}],\"name\":\"MATH 3321\",\"metrics\":{\"centrality\":93,\"complexity\":23.0,\"blocking factor\":13,\"delay factor\":10.0},\"nameSub\":\"Engineering Math\",\"id\":947037850,\"credits\":3,\"nameCanonical\":\"\"},{\"curriculum_requisites\":[{\"source_id\":3718777895,\"target_id\":2138760932,\"type\":\"CurriculumCorequisite\"},{\"source_id\":3059602497,\"target_id\":2138760932,\"type\":\"CurriculumCorequisite\"},{\"source_id\":2258215799,\"target_id\":2138760932,\"type\":\"CurriculumCorequisite\"},{\"source_id\":1051497550,\"target_id\":2138760932,\"type\":\"CurriculumPrerequisite\"},{\"source_id\":947037850,\"target_id\":2138760932,\"type\":\"CurriculumCorequisite\"}],\"name\":\"ECE 2201\",\"metrics\":{\"centrality\":677,\"complexity\":24.0,\"blocking factor\":12,\"delay factor\":12.0},\"nameSub\":\"Circuit Analysis I\",\"id\":2138760932,\"credits\":3,\"nameCanonical\":\"\"}],\"id\":4},{\"name\":\"Term 5\",\"curriculum_items\":[{\"curriculum_requisites\":[],\"name\":\" \",\"metrics\":{\"centrality\":0,\"complexity\":1.0,\"blocking factor\":0,\"delay factor\":1.0},\"nameSub\":\"Concentration Elective 6\",\"id\":1716266479,\"credits\":3,\"nameCanonical\":\"\"},{\"curriculum_requisites\":[{\"source_id\":2138760932,\"target_id\":3887805990,\"type\":\"CurriculumPrerequisite\"}],\"name\":\"ECE 2202\",\"metrics\":{\"centrality\":393,\"complexity\":20.0,\"blocking factor\":8,\"delay factor\":12.0},\"nameSub\":\"Circuit Analysis II\",\"id\":3887805990,\"credits\":3,\"nameCanonical\":\"\"},{\"curriculum_requisites\":[{\"source_id\":3059602497,\"target_id\":1083857781,\"type\":\"CurriculumPrerequisite\"},{\"source_id\":3887805990,\"target_id\":1083857781,\"type\":\"CurriculumCorequisite\"}],\"name\":\"ECE 2100\",\"metrics\":{\"centrality\":295,\"complexity\":17.0,\"blocking factor\":5,\"delay factor\":12.0},\"nameSub\":\"Circuits Lab\",\"id\":1083857781,\"credits\":1,\"nameCanonical\":\"\"},{\"curriculum_requisites\":[{\"source_id\":3195103903,\"target_id\":1770099342,\"type\":\"CurriculumPrerequisite\"},{\"source_id\":2138760932,\"target_id\":1770099342,\"type\":\"CurriculumPrerequisite\"}],\"name\":\"ENGI 2304\",\"metrics\":{\"centrality\":159,\"complexity\":15.0,\"blocking factor\":4,\"delay factor\":11.0},\"nameSub\":\"Technical Communication\",\"id\":1770099342,\"credits\":3,\"nameCanonical\":\"\"},{\"curriculum_requisites\":[{\"source_id\":947037850,\"target_id\":649106202,\"type\":\"CurriculumPrerequisite\"},{\"source_id\":2138760932,\"target_id\":649106202,\"type\":\"CurriculumPrerequisite\"}],\"name\":\"ECE 3331\",\"metrics\":{\"centrality\":152,\"complexity\":14.0,\"blocking factor\":4,\"delay factor\":10.0},\"nameSub\":\"Programming Apps in ECE\",\"id\":649106202,\"credits\":3,\"nameCanonical\":\"\"},{\"curriculum_requisites\":[{\"source_id\":3887805990,\"target_id\":2791403937,\"type\":\"CurriculumCorequisite\"}],\"name\":\"ECE 3337\",\"metrics\":{\"centrality\":154,\"complexity\":15.0,\"blocking factor\":4,\"delay factor\":11.0},\"nameSub\":\"Signals & Systems Analysis\",\"id\":2791403937,\"credits\":3,\"nameCanonical\":\"\"},{\"curriculum_requisites\":[{\"source_id\":1083857781,\"target_id\":4184346648,\"type\":\"CurriculumCorequisite\"},{\"source_id\":649106202,\"target_id\":4184346648,\"type\":\"CurriculumCorequisite\"}],\"name\":\"ECE 3436\",\"metrics\":{\"centrality\":171,\"complexity\":13.0,\"blocking factor\":2,\"delay factor\":11.0},\"nameSub\":\"Microprocessors\",\"id\":4184346648,\"credits\":3,\"nameCanonical\":\"\"}],\"id\":5},{\"name\":\"Term 6\",\"curriculum_items\":[{\"curriculum_requisites\":[],\"name\":\" \",\"metrics\":{\"centrality\":0,\"complexity\":1.0,\"blocking factor\":0,\"delay factor\":1.0},\"nameSub\":\"Concentration Elective 7\",\"id\":2584207151,\"credits\":3,\"nameCanonical\":\"\"},{\"curriculum_requisites\":[{\"source_id\":1083857781,\"target_id\":1966522372,\"type\":\"CurriculumPrerequisite\"},{\"source_id\":1770099342,\"target_id\":1966522372,\"type\":\"CurriculumPrerequisite\"}],\"name\":\"ECE 3155\",\"metrics\":{\"centrality\":359,\"complexity\":15.0,\"blocking factor\":3,\"delay factor\":12.0},\"nameSub\":\"Electronics Lab\",\"id\":1966522372,\"credits\":1,\"nameCanonical\":\"\"},{\"curriculum_requisites\":[{\"source_id\":1966522372,\"target_id\":4165958389,\"type\":\"CurriculumStrictCorequisite\"},{\"source_id\":2791403937,\"target_id\":4165958389,\"type\":\"CurriculumPrerequisite\"}],\"name\":\"ECE 3355\",\"metrics\":{\"centrality\":266,\"complexity\":14.0,\"blocking factor\":2,\"delay factor\":12.0},\"nameSub\":\"Electronics\",\"id\":4165958389,\"credits\":3,\"nameCanonical\":\"\"},{\"curriculum_requisites\":[{\"source_id\":2791403937,\"target_id\":2252871414,\"type\":\"CurriculumPrerequisite\"}],\"name\":\"ECE 3317\",\"metrics\":{\"centrality\":77,\"complexity\":13.0,\"blocking factor\":2,\"delay factor\":11.0},\"nameSub\":\"Applied EM Waves\",\"id\":2252871414,\"credits\":3,\"nameCanonical\":\"\"},{\"curriculum_requisites\":[{\"source_id\":649106202,\"target_id\":3368026167,\"type\":\"CurriculumPrerequisite\"}],\"name\":\"ECE 3340\",\"metrics\":{\"centrality\":76,\"complexity\":12.0,\"blocking factor\":2,\"delay factor\":10.0},\"nameSub\":\"Numerical Methods\",\"id\":3368026167,\"credits\":3,\"nameCanonical\":\"\"},{\"curriculum_requisites\":[],\"name\":\" \",\"metrics\":{\"centrality\":0,\"complexity\":1.0,\"blocking factor\":0,\"delay factor\":1.0},\"nameSub\":\"Creative Arts Core\",\"id\":848294223,\"credits\":3,\"nameCanonical\":\"\"},{\"curriculum_requisites\":[],\"name\":\" \",\"metrics\":{\"centrality\":0,\"complexity\":1.0,\"blocking factor\":0,\"delay factor\":1.0},\"nameSub\":\"ECE Elective 1\",\"id\":2051928090,\"credits\":3,\"nameCanonical\":\"\"}],\"id\":6},{\"name\":\"Term 7\",\"curriculum_items\":[{\"curriculum_requisites\":[],\"name\":\" \",\"metrics\":{\"centrality\":0,\"complexity\":1.0,\"blocking factor\":0,\"delay factor\":1.0},\"nameSub\":\"ECE Elective 2\",\"id\":672829327,\"credits\":3,\"nameCanonical\":\"\"},{\"curriculum_requisites\":[{\"source_id\":1966522372,\"target_id\":1337097032,\"type\":\"CurriculumPrerequisite\"},{\"source_id\":4184346648,\"target_id\":1337097032,\"type\":\"CurriculumPrerequisite\"},{\"source_id\":3368026167,\"target_id\":1337097032,\"type\":\"CurriculumPrerequisite\"},{\"source_id\":2888554139,\"target_id\":1337097032,\"type\":\"CurriculumPrerequisite\"},{\"source_id\":4165958389,\"target_id\":1337097032,\"type\":\"CurriculumPrerequisite\"},{\"source_id\":3224555476,\"target_id\":1337097032,\"type\":\"CurriculumCorequisite\"},{\"source_id\":2252871414,\"target_id\":1337097032,\"type\":\"CurriculumPrerequisite\"}],\"name\":\"ECE 4335\",\"metrics\":{\"centrality\":779,\"complexity\":13.0,\"blocking factor\":1,\"delay factor\":12.0},\"nameSub\":\"ECE Design I\",\"id\":1337097032,\"credits\":3,\"nameCanonical\":\"\"},{\"curriculum_requisites\":[],\"name\":\" \",\"metrics\":{\"centrality\":0,\"complexity\":1.0,\"blocking factor\":0,\"delay factor\":1.0},\"nameSub\":\"Elective Lab 1\",\"id\":26700799,\"credits\":1,\"nameCanonical\":\"\"},{\"curriculum_requisites\":[],\"name\":\" \",\"metrics\":{\"centrality\":0,\"complexity\":1.0,\"blocking factor\":0,\"delay factor\":1.0},\"nameSub\":\"Elective Lab 2\",\"id\":1296179090,\"credits\":1,\"nameCanonical\":\"\"},{\"curriculum_requisites\":[],\"name\":\" \",\"metrics\":{\"centrality\":0,\"complexity\":1.0,\"blocking factor\":0,\"delay factor\":1.0},\"nameSub\":\"Elective Lab 3\",\"id\":3091492697,\"credits\":1,\"nameCanonical\":\"\"},{\"curriculum_requisites\":[],\"name\":\" \",\"metrics\":{\"centrality\":0,\"complexity\":1.0,\"blocking factor\":0,\"delay factor\":1.0},\"nameSub\":\"Elective Lab 4\",\"id\":2450156574,\"credits\":1,\"nameCanonical\":\"\"},{\"curriculum_requisites\":[],\"name\":\" \",\"metrics\":{\"centrality\":0,\"complexity\":1.0,\"blocking factor\":0,\"delay factor\":1.0},\"nameSub\":\"Lang., Phil. & Culture Core\",\"id\":1626752824,\"credits\":3,\"nameCanonical\":\"\"},{\"curriculum_requisites\":[],\"name\":\" \",\"metrics\":{\"centrality\":0,\"complexity\":1.0,\"blocking factor\":0,\"delay factor\":1.0},\"nameSub\":\"Technical Elective\",\"id\":2529896330,\"credits\":3,\"nameCanonical\":\"\"}],\"id\":7},{\"name\":\"Term 8\",\"curriculum_items\":[{\"curriculum_requisites\":[{\"source_id\":1337097032,\"target_id\":1158404973,\"type\":\"CurriculumPrerequisite\"}],\"name\":\"ECE 4336\",\"metrics\":{\"centrality\":0,\"complexity\":12.0,\"blocking factor\":0,\"delay factor\":12.0},\"nameSub\":\"ECE Design II\",\"id\":1158404973,\"credits\":3,\"nameCanonical\":\"\"}],\"id\":8}],\"institution\":\"ACME Univ.\"}}}}},\"children\":[{\"props\":{\"src\":\"https:\\/\\/curricula-api-embed.damoursystems.com\\/\",\"id\":\"curriculum\",\"events\":{\"load\":\"(function (){this.contentWindow.postMessage({\\\"options\\\":{\\\"hideTerms\\\":false,\\\"edit\\\":false},\\\"curriculum\\\":{\\\"name\\\":\\\"A Real EE Program\\\",\\\"dp_name\\\":\\\"\\\",\\\"curriculum_terms\\\":[{\\\"name\\\":\\\"Term 1\\\",\\\"curriculum_items\\\":[{\\\"curriculum_requisites\\\":[],\\\"name\\\":\\\"ENGL 1303\\\",\\\"metrics\\\":{\\\"centrality\\\":0,\\\"complexity\\\":13.0,\\\"blocking factor\\\":6,\\\"delay factor\\\":7.0},\\\"nameSub\\\":\\\"First Year Writing I\\\",\\\"id\\\":1324171406,\\\"credits\\\":3,\\\"nameCanonical\\\":\\\"\\\"},{\\\"curriculum_requisites\\\":[],\\\"name\\\":\\\"CHEM 1331\\\",\\\"metrics\\\":{\\\"centrality\\\":0,\\\"complexity\\\":3.0,\\\"blocking factor\\\":1,\\\"delay factor\\\":2.0},\\\"nameSub\\\":\\\"Fund. of Chemistry\\\",\\\"id\\\":1351802580,\\\"credits\\\":3,\\\"nameCanonical\\\":\\\"\\\"},{\\\"curriculum_requisites\\\":[{\\\"source_id\\\":1351802580,\\\"target_id\\\":2195546016,\\\"type\\\":\\\"CurriculumCorequisite\\\"}],\\\"name\\\":\\\"CHEM 1111\\\",\\\"metrics\\\":{\\\"centrality\\\":0,\\\"complexity\\\":2.0,\\\"blocking factor\\\":0,\\\"delay factor\\\":2.0},\\\"nameSub\\\":\\\"Fund. of Chemistry Lab\\\",\\\"id\\\":2195546016,\\\"credits\\\":1,\\\"nameCanonical\\\":\\\"\\\"},{\\\"curriculum_requisites\\\":[],\\\"name\\\":\\\"POLS 1336\\\",\\\"metrics\\\":{\\\"centrality\\\":0,\\\"complexity\\\":1.0,\\\"blocking factor\\\":0,\\\"delay factor\\\":1.0},\\\"nameSub\\\":\\\"US and TX Constitutions & Politics\\\",\\\"id\\\":1541543378,\\\"credits\\\":3,\\\"nameCanonical\\\":\\\"\\\"},{\\\"curriculum_requisites\\\":[],\\\"name\\\":\\\"POLS 1337\\\",\\\"metrics\\\":{\\\"centrality\\\":0,\\\"complexity\\\":1.0,\\\"blocking factor\\\":0,\\\"delay factor\\\":1.0},\\\"nameSub\\\":\\\"US Gov: Congress, President and Courts\\\",\\\"id\\\":951874139,\\\"credits\\\":3,\\\"nameCanonical\\\":\\\"\\\"},{\\\"curriculum_requisites\\\":[],\\\"name\\\":\\\"HIST 1377\\\",\\\"metrics\\\":{\\\"centrality\\\":0,\\\"complexity\\\":1.0,\\\"blocking factor\\\":0,\\\"delay factor\\\":1.0},\\\"nameSub\\\":\\\"The US to 1877\\\",\\\"id\\\":3824069494,\\\"credits\\\":3,\\\"nameCanonical\\\":\\\"\\\"},{\\\"curriculum_requisites\\\":[],\\\"name\\\":\\\"HIST 1378\\\",\\\"metrics\\\":{\\\"centrality\\\":0,\\\"complexity\\\":1.0,\\\"blocking factor\\\":0,\\\"delay factor\\\":1.0},\\\"nameSub\\\":\\\"US Since 1877\\\",\\\"id\\\":2731496025,\\\"credits\\\":3,\\\"nameCanonical\\\":\\\"\\\"}],\\\"id\\\":1},{\\\"name\\\":\\\"Term 2\\\",\\\"curriculum_items\\\":[{\\\"curriculum_requisites\\\":[],\\\"name\\\":\\\"MATH 1431\\\",\\\"metrics\\\":{\\\"centrality\\\":0,\\\"complexity\\\":35.0,\\\"blocking factor\\\":23,\\\"delay factor\\\":12.0},\\\"nameSub\\\":\\\"Calculus I\\\",\\\"id\\\":4175014649,\\\"credits\\\":4,\\\"nameCanonical\\\":\\\"\\\"},{\\\"curriculum_requisites\\\":[{\\\"source_id\\\":4175014649,\\\"target_id\\\":1764441140,\\\"type\\\":\\\"CurriculumCorequisite\\\"}],\\\"name\\\":\\\"ENGI 1100\\\",\\\"metrics\\\":{\\\"centrality\\\":85,\\\"complexity\\\":25.0,\\\"blocking factor\\\":15,\\\"delay factor\\\":10.0},\\\"nameSub\\\":\\\"Intro to Engr.\\\",\\\"id\\\":1764441140,\\\"credits\\\":1,\\\"nameCanonical\\\":\\\"\\\"},{\\\"curriculum_requisites\\\":[{\\\"source_id\\\":1324171406,\\\"target_id\\\":3195103903,\\\"type\\\":\\\"CurriculumPrerequisite\\\"}],\\\"name\\\":\\\"ENGL 1304\\\",\\\"metrics\\\":{\\\"centrality\\\":13,\\\"complexity\\\":12.0,\\\"blocking factor\\\":5,\\\"delay factor\\\":7.0},\\\"nameSub\\\":\\\"First Year Writing II\\\",\\\"id\\\":3195103903,\\\"credits\\\":3,\\\"nameCanonical\\\":\\\"\\\"},{\\\"curriculum_requisites\\\":[],\\\"name\\\":\\\"ECON 2304\\\",\\\"metrics\\\":{\\\"centrality\\\":0,\\\"complexity\\\":5.0,\\\"blocking factor\\\":2,\\\"delay factor\\\":3.0},\\\"nameSub\\\":\\\"Microeconomic Principles\\\",\\\"id\\\":3224555476,\\\"credits\\\":3,\\\"nameCanonical\\\":\\\"\\\"},{\\\"curriculum_requisites\\\":[],\\\"name\\\":\\\" \\\",\\\"metrics\\\":{\\\"centrality\\\":0,\\\"complexity\\\":1.0,\\\"blocking factor\\\":0,\\\"delay factor\\\":1.0},\\\"nameSub\\\":\\\"Concentration Elective 1\\\",\\\"id\\\":1056053313,\\\"credits\\\":3,\\\"nameCanonical\\\":\\\"\\\"},{\\\"curriculum_requisites\\\":[],\\\"name\\\":\\\" \\\",\\\"metrics\\\":{\\\"centrality\\\":0,\\\"complexity\\\":1.0,\\\"blocking factor\\\":0,\\\"delay factor\\\":1.0},\\\"nameSub\\\":\\\"Concentration Elective 2\\\",\\\"id\\\":1745860227,\\\"credits\\\":3,\\\"nameCanonical\\\":\\\"\\\"}],\\\"id\\\":2},{\\\"name\\\":\\\"Term 3\\\",\\\"curriculum_items\\\":[{\\\"curriculum_requisites\\\":[],\\\"name\\\":\\\" \\\",\\\"metrics\\\":{\\\"centrality\\\":0,\\\"complexity\\\":1.0,\\\"blocking factor\\\":0,\\\"delay factor\\\":1.0},\\\"nameSub\\\":\\\"Concentration Elective 3\\\",\\\"id\\\":1105094343,\\\"credits\\\":3,\\\"nameCanonical\\\":\\\"\\\"},{\\\"curriculum_requisites\\\":[{\\\"source_id\\\":4175014649,\\\"target_id\\\":1051497550,\\\"type\\\":\\\"CurriculumPrerequisite\\\"},{\\\"source_id\\\":1764441140,\\\"target_id\\\":1051497550,\\\"type\\\":\\\"CurriculumPrerequisite\\\"}],\\\"name\\\":\\\"ENGI 1331\\\",\\\"metrics\\\":{\\\"centrality\\\":160,\\\"complexity\\\":24.0,\\\"blocking factor\\\":14,\\\"delay factor\\\":10.0},\\\"nameSub\\\":\\\"Computing & Prob. Solving\\\",\\\"id\\\":1051497550,\\\"credits\\\":3,\\\"nameCanonical\\\":\\\"\\\"},{\\\"curriculum_requisites\\\":[{\\\"source_id\\\":4175014649,\\\"target_id\\\":1177372781,\\\"type\\\":\\\"CurriculumPrerequisite\\\"}],\\\"name\\\":\\\"MATH 1432\\\",\\\"metrics\\\":{\\\"centrality\\\":607,\\\"complexity\\\":32.0,\\\"blocking factor\\\":20,\\\"delay factor\\\":12.0},\\\"nameSub\\\":\\\"Calculus II\\\",\\\"id\\\":1177372781,\\\"credits\\\":4,\\\"nameCanonical\\\":\\\"\\\"},{\\\"curriculum_requisites\\\":[{\\\"source_id\\\":1177372781,\\\"target_id\\\":2834873484,\\\"type\\\":\\\"CurriculumCorequisite\\\"}],\\\"name\\\":\\\"PHYS 1321\\\",\\\"metrics\\\":{\\\"centrality\\\":217,\\\"complexity\\\":28.0,\\\"blocking factor\\\":16,\\\"delay factor\\\":12.0},\\\"nameSub\\\":\\\"University Physics I\\\",\\\"id\\\":2834873484,\\\"credits\\\":3,\\\"nameCanonical\\\":\\\"\\\"},{\\\"curriculum_requisites\\\":[{\\\"source_id\\\":2834873484,\\\"target_id\\\":3178954113,\\\"type\\\":\\\"CurriculumCorequisite\\\"}],\\\"name\\\":\\\"PHYS 1121\\\",\\\"metrics\\\":{\\\"centrality\\\":0,\\\"complexity\\\":4.0,\\\"blocking factor\\\":0,\\\"delay factor\\\":4.0},\\\"nameSub\\\":\\\"Physics Lab I\\\",\\\"id\\\":3178954113,\\\"credits\\\":1,\\\"nameCanonical\\\":\\\"\\\"},{\\\"curriculum_requisites\\\":[],\\\"name\\\":\\\" \\\",\\\"metrics\\\":{\\\"centrality\\\":0,\\\"complexity\\\":1.0,\\\"blocking factor\\\":0,\\\"delay factor\\\":1.0},\\\"nameSub\\\":\\\"Concentration Elective 4\\\",\\\"id\\\":1819261218,\\\"credits\\\":3,\\\"nameCanonical\\\":\\\"\\\"}],\\\"id\\\":3},{\\\"name\\\":\\\"Term 4\\\",\\\"curriculum_items\\\":[{\\\"curriculum_requisites\\\":[],\\\"name\\\":\\\" \\\",\\\"metrics\\\":{\\\"centrality\\\":0,\\\"complexity\\\":1.0,\\\"blocking factor\\\":0,\\\"delay factor\\\":1.0},\\\"nameSub\\\":\\\"Concentration Elective 5\\\",\\\"id\\\":2070124031,\\\"credits\\\":3,\\\"nameCanonical\\\":\\\"\\\"},{\\\"curriculum_requisites\\\":[{\\\"source_id\\\":1051497550,\\\"target_id\\\":2888554139,\\\"type\\\":\\\"CurriculumPrerequisite\\\"},{\\\"source_id\\\":1177372781,\\\"target_id\\\":2888554139,\\\"type\\\":\\\"CurriculumPrerequisite\\\"}],\\\"name\\\":\\\"INDE 2333\\\",\\\"metrics\\\":{\\\"centrality\\\":16,\\\"complexity\\\":8.0,\\\"blocking factor\\\":2,\\\"delay factor\\\":6.0},\\\"nameSub\\\":\\\"Engineering Statistics\\\",\\\"id\\\":2888554139,\\\"credits\\\":3,\\\"nameCanonical\\\":\\\"\\\"},{\\\"curriculum_requisites\\\":[{\\\"source_id\\\":1177372781,\\\"target_id\\\":2258215799,\\\"type\\\":\\\"CurriculumPrerequisite\\\"}],\\\"name\\\":\\\"MATH 2433\\\",\\\"metrics\\\":{\\\"centrality\\\":292,\\\"complexity\\\":27.0,\\\"blocking factor\\\":15,\\\"delay factor\\\":12.0},\\\"nameSub\\\":\\\"Calculus III\\\",\\\"id\\\":2258215799,\\\"credits\\\":3,\\\"nameCanonical\\\":\\\"\\\"},{\\\"curriculum_requisites\\\":[{\\\"source_id\\\":2258215799,\\\"target_id\\\":3718777895,\\\"type\\\":\\\"CurriculumCorequisite\\\"},{\\\"source_id\\\":2834873484,\\\"target_id\\\":3718777895,\\\"type\\\":\\\"CurriculumPrerequisite\\\"}],\\\"name\\\":\\\"PHYS 1322\\\",\\\"metrics\\\":{\\\"centrality\\\":426,\\\"complexity\\\":26.0,\\\"blocking factor\\\":14,\\\"delay factor\\\":12.0},\\\"nameSub\\\":\\\"University Physics II\\\",\\\"id\\\":3718777895,\\\"credits\\\":3,\\\"nameCanonical\\\":\\\"\\\"},{\\\"curriculum_requisites\\\":[{\\\"source_id\\\":3718777895,\\\"target_id\\\":3059602497,\\\"type\\\":\\\"CurriculumCorequisite\\\"}],\\\"name\\\":\\\"PHYS 1122\\\",\\\"metrics\\\":{\\\"centrality\\\":250,\\\"complexity\\\":25.0,\\\"blocking factor\\\":13,\\\"delay factor\\\":12.0},\\\"nameSub\\\":\\\"Physics Lab II\\\",\\\"id\\\":3059602497,\\\"credits\\\":1,\\\"nameCanonical\\\":\\\"\\\"},{\\\"curriculum_requisites\\\":[{\\\"source_id\\\":1177372781,\\\"target_id\\\":947037850,\\\"type\\\":\\\"CurriculumPrerequisite\\\"}],\\\"name\\\":\\\"MATH 3321\\\",\\\"metrics\\\":{\\\"centrality\\\":93,\\\"complexity\\\":23.0,\\\"blocking factor\\\":13,\\\"delay factor\\\":10.0},\\\"nameSub\\\":\\\"Engineering Math\\\",\\\"id\\\":947037850,\\\"credits\\\":3,\\\"nameCanonical\\\":\\\"\\\"},{\\\"curriculum_requisites\\\":[{\\\"source_id\\\":3718777895,\\\"target_id\\\":2138760932,\\\"type\\\":\\\"CurriculumCorequisite\\\"},{\\\"source_id\\\":3059602497,\\\"target_id\\\":2138760932,\\\"type\\\":\\\"CurriculumCorequisite\\\"},{\\\"source_id\\\":2258215799,\\\"target_id\\\":2138760932,\\\"type\\\":\\\"CurriculumCorequisite\\\"},{\\\"source_id\\\":1051497550,\\\"target_id\\\":2138760932,\\\"type\\\":\\\"CurriculumPrerequisite\\\"},{\\\"source_id\\\":947037850,\\\"target_id\\\":2138760932,\\\"type\\\":\\\"CurriculumCorequisite\\\"}],\\\"name\\\":\\\"ECE 2201\\\",\\\"metrics\\\":{\\\"centrality\\\":677,\\\"complexity\\\":24.0,\\\"blocking factor\\\":12,\\\"delay factor\\\":12.0},\\\"nameSub\\\":\\\"Circuit Analysis I\\\",\\\"id\\\":2138760932,\\\"credits\\\":3,\\\"nameCanonical\\\":\\\"\\\"}],\\\"id\\\":4},{\\\"name\\\":\\\"Term 5\\\",\\\"curriculum_items\\\":[{\\\"curriculum_requisites\\\":[],\\\"name\\\":\\\" \\\",\\\"metrics\\\":{\\\"centrality\\\":0,\\\"complexity\\\":1.0,\\\"blocking factor\\\":0,\\\"delay factor\\\":1.0},\\\"nameSub\\\":\\\"Concentration Elective 6\\\",\\\"id\\\":1716266479,\\\"credits\\\":3,\\\"nameCanonical\\\":\\\"\\\"},{\\\"curriculum_requisites\\\":[{\\\"source_id\\\":2138760932,\\\"target_id\\\":3887805990,\\\"type\\\":\\\"CurriculumPrerequisite\\\"}],\\\"name\\\":\\\"ECE 2202\\\",\\\"metrics\\\":{\\\"centrality\\\":393,\\\"complexity\\\":20.0,\\\"blocking factor\\\":8,\\\"delay factor\\\":12.0},\\\"nameSub\\\":\\\"Circuit Analysis II\\\",\\\"id\\\":3887805990,\\\"credits\\\":3,\\\"nameCanonical\\\":\\\"\\\"},{\\\"curriculum_requisites\\\":[{\\\"source_id\\\":3059602497,\\\"target_id\\\":1083857781,\\\"type\\\":\\\"CurriculumPrerequisite\\\"},{\\\"source_id\\\":3887805990,\\\"target_id\\\":1083857781,\\\"type\\\":\\\"CurriculumCorequisite\\\"}],\\\"name\\\":\\\"ECE 2100\\\",\\\"metrics\\\":{\\\"centrality\\\":295,\\\"complexity\\\":17.0,\\\"blocking factor\\\":5,\\\"delay factor\\\":12.0},\\\"nameSub\\\":\\\"Circuits Lab\\\",\\\"id\\\":1083857781,\\\"credits\\\":1,\\\"nameCanonical\\\":\\\"\\\"},{\\\"curriculum_requisites\\\":[{\\\"source_id\\\":3195103903,\\\"target_id\\\":1770099342,\\\"type\\\":\\\"CurriculumPrerequisite\\\"},{\\\"source_id\\\":2138760932,\\\"target_id\\\":1770099342,\\\"type\\\":\\\"CurriculumPrerequisite\\\"}],\\\"name\\\":\\\"ENGI 2304\\\",\\\"metrics\\\":{\\\"centrality\\\":159,\\\"complexity\\\":15.0,\\\"blocking factor\\\":4,\\\"delay factor\\\":11.0},\\\"nameSub\\\":\\\"Technical Communication\\\",\\\"id\\\":1770099342,\\\"credits\\\":3,\\\"nameCanonical\\\":\\\"\\\"},{\\\"curriculum_requisites\\\":[{\\\"source_id\\\":947037850,\\\"target_id\\\":649106202,\\\"type\\\":\\\"CurriculumPrerequisite\\\"},{\\\"source_id\\\":2138760932,\\\"target_id\\\":649106202,\\\"type\\\":\\\"CurriculumPrerequisite\\\"}],\\\"name\\\":\\\"ECE 3331\\\",\\\"metrics\\\":{\\\"centrality\\\":152,\\\"complexity\\\":14.0,\\\"blocking factor\\\":4,\\\"delay factor\\\":10.0},\\\"nameSub\\\":\\\"Programming Apps in ECE\\\",\\\"id\\\":649106202,\\\"credits\\\":3,\\\"nameCanonical\\\":\\\"\\\"},{\\\"curriculum_requisites\\\":[{\\\"source_id\\\":3887805990,\\\"target_id\\\":2791403937,\\\"type\\\":\\\"CurriculumCorequisite\\\"}],\\\"name\\\":\\\"ECE 3337\\\",\\\"metrics\\\":{\\\"centrality\\\":154,\\\"complexity\\\":15.0,\\\"blocking factor\\\":4,\\\"delay factor\\\":11.0},\\\"nameSub\\\":\\\"Signals & Systems Analysis\\\",\\\"id\\\":2791403937,\\\"credits\\\":3,\\\"nameCanonical\\\":\\\"\\\"},{\\\"curriculum_requisites\\\":[{\\\"source_id\\\":1083857781,\\\"target_id\\\":4184346648,\\\"type\\\":\\\"CurriculumCorequisite\\\"},{\\\"source_id\\\":649106202,\\\"target_id\\\":4184346648,\\\"type\\\":\\\"CurriculumCorequisite\\\"}],\\\"name\\\":\\\"ECE 3436\\\",\\\"metrics\\\":{\\\"centrality\\\":171,\\\"complexity\\\":13.0,\\\"blocking factor\\\":2,\\\"delay factor\\\":11.0},\\\"nameSub\\\":\\\"Microprocessors\\\",\\\"id\\\":4184346648,\\\"credits\\\":3,\\\"nameCanonical\\\":\\\"\\\"}],\\\"id\\\":5},{\\\"name\\\":\\\"Term 6\\\",\\\"curriculum_items\\\":[{\\\"curriculum_requisites\\\":[],\\\"name\\\":\\\" \\\",\\\"metrics\\\":{\\\"centrality\\\":0,\\\"complexity\\\":1.0,\\\"blocking factor\\\":0,\\\"delay factor\\\":1.0},\\\"nameSub\\\":\\\"Concentration Elective 7\\\",\\\"id\\\":2584207151,\\\"credits\\\":3,\\\"nameCanonical\\\":\\\"\\\"},{\\\"curriculum_requisites\\\":[{\\\"source_id\\\":1083857781,\\\"target_id\\\":1966522372,\\\"type\\\":\\\"CurriculumPrerequisite\\\"},{\\\"source_id\\\":1770099342,\\\"target_id\\\":1966522372,\\\"type\\\":\\\"CurriculumPrerequisite\\\"}],\\\"name\\\":\\\"ECE 3155\\\",\\\"metrics\\\":{\\\"centrality\\\":359,\\\"complexity\\\":15.0,\\\"blocking factor\\\":3,\\\"delay factor\\\":12.0},\\\"nameSub\\\":\\\"Electronics Lab\\\",\\\"id\\\":1966522372,\\\"credits\\\":1,\\\"nameCanonical\\\":\\\"\\\"},{\\\"curriculum_requisites\\\":[{\\\"source_id\\\":1966522372,\\\"target_id\\\":4165958389,\\\"type\\\":\\\"CurriculumStrictCorequisite\\\"},{\\\"source_id\\\":2791403937,\\\"target_id\\\":4165958389,\\\"type\\\":\\\"CurriculumPrerequisite\\\"}],\\\"name\\\":\\\"ECE 3355\\\",\\\"metrics\\\":{\\\"centrality\\\":266,\\\"complexity\\\":14.0,\\\"blocking factor\\\":2,\\\"delay factor\\\":12.0},\\\"nameSub\\\":\\\"Electronics\\\",\\\"id\\\":4165958389,\\\"credits\\\":3,\\\"nameCanonical\\\":\\\"\\\"},{\\\"curriculum_requisites\\\":[{\\\"source_id\\\":2791403937,\\\"target_id\\\":2252871414,\\\"type\\\":\\\"CurriculumPrerequisite\\\"}],\\\"name\\\":\\\"ECE 3317\\\",\\\"metrics\\\":{\\\"centrality\\\":77,\\\"complexity\\\":13.0,\\\"blocking factor\\\":2,\\\"delay factor\\\":11.0},\\\"nameSub\\\":\\\"Applied EM Waves\\\",\\\"id\\\":2252871414,\\\"credits\\\":3,\\\"nameCanonical\\\":\\\"\\\"},{\\\"curriculum_requisites\\\":[{\\\"source_id\\\":649106202,\\\"target_id\\\":3368026167,\\\"type\\\":\\\"CurriculumPrerequisite\\\"}],\\\"name\\\":\\\"ECE 3340\\\",\\\"metrics\\\":{\\\"centrality\\\":76,\\\"complexity\\\":12.0,\\\"blocking factor\\\":2,\\\"delay factor\\\":10.0},\\\"nameSub\\\":\\\"Numerical Methods\\\",\\\"id\\\":3368026167,\\\"credits\\\":3,\\\"nameCanonical\\\":\\\"\\\"},{\\\"curriculum_requisites\\\":[],\\\"name\\\":\\\" \\\",\\\"metrics\\\":{\\\"centrality\\\":0,\\\"complexity\\\":1.0,\\\"blocking factor\\\":0,\\\"delay factor\\\":1.0},\\\"nameSub\\\":\\\"Creative Arts Core\\\",\\\"id\\\":848294223,\\\"credits\\\":3,\\\"nameCanonical\\\":\\\"\\\"},{\\\"curriculum_requisites\\\":[],\\\"name\\\":\\\" \\\",\\\"metrics\\\":{\\\"centrality\\\":0,\\\"complexity\\\":1.0,\\\"blocking factor\\\":0,\\\"delay factor\\\":1.0},\\\"nameSub\\\":\\\"ECE Elective 1\\\",\\\"id\\\":2051928090,\\\"credits\\\":3,\\\"nameCanonical\\\":\\\"\\\"}],\\\"id\\\":6},{\\\"name\\\":\\\"Term 7\\\",\\\"curriculum_items\\\":[{\\\"curriculum_requisites\\\":[],\\\"name\\\":\\\" \\\",\\\"metrics\\\":{\\\"centrality\\\":0,\\\"complexity\\\":1.0,\\\"blocking factor\\\":0,\\\"delay factor\\\":1.0},\\\"nameSub\\\":\\\"ECE Elective 2\\\",\\\"id\\\":672829327,\\\"credits\\\":3,\\\"nameCanonical\\\":\\\"\\\"},{\\\"curriculum_requisites\\\":[{\\\"source_id\\\":1966522372,\\\"target_id\\\":1337097032,\\\"type\\\":\\\"CurriculumPrerequisite\\\"},{\\\"source_id\\\":4184346648,\\\"target_id\\\":1337097032,\\\"type\\\":\\\"CurriculumPrerequisite\\\"},{\\\"source_id\\\":3368026167,\\\"target_id\\\":1337097032,\\\"type\\\":\\\"CurriculumPrerequisite\\\"},{\\\"source_id\\\":2888554139,\\\"target_id\\\":1337097032,\\\"type\\\":\\\"CurriculumPrerequisite\\\"},{\\\"source_id\\\":4165958389,\\\"target_id\\\":1337097032,\\\"type\\\":\\\"CurriculumPrerequisite\\\"},{\\\"source_id\\\":3224555476,\\\"target_id\\\":1337097032,\\\"type\\\":\\\"CurriculumCorequisite\\\"},{\\\"source_id\\\":2252871414,\\\"target_id\\\":1337097032,\\\"type\\\":\\\"CurriculumPrerequisite\\\"}],\\\"name\\\":\\\"ECE 4335\\\",\\\"metrics\\\":{\\\"centrality\\\":779,\\\"complexity\\\":13.0,\\\"blocking factor\\\":1,\\\"delay factor\\\":12.0},\\\"nameSub\\\":\\\"ECE Design I\\\",\\\"id\\\":1337097032,\\\"credits\\\":3,\\\"nameCanonical\\\":\\\"\\\"},{\\\"curriculum_requisites\\\":[],\\\"name\\\":\\\" \\\",\\\"metrics\\\":{\\\"centrality\\\":0,\\\"complexity\\\":1.0,\\\"blocking factor\\\":0,\\\"delay factor\\\":1.0},\\\"nameSub\\\":\\\"Elective Lab 1\\\",\\\"id\\\":26700799,\\\"credits\\\":1,\\\"nameCanonical\\\":\\\"\\\"},{\\\"curriculum_requisites\\\":[],\\\"name\\\":\\\" \\\",\\\"metrics\\\":{\\\"centrality\\\":0,\\\"complexity\\\":1.0,\\\"blocking factor\\\":0,\\\"delay factor\\\":1.0},\\\"nameSub\\\":\\\"Elective Lab 2\\\",\\\"id\\\":1296179090,\\\"credits\\\":1,\\\"nameCanonical\\\":\\\"\\\"},{\\\"curriculum_requisites\\\":[],\\\"name\\\":\\\" \\\",\\\"metrics\\\":{\\\"centrality\\\":0,\\\"complexity\\\":1.0,\\\"blocking factor\\\":0,\\\"delay factor\\\":1.0},\\\"nameSub\\\":\\\"Elective Lab 3\\\",\\\"id\\\":3091492697,\\\"credits\\\":1,\\\"nameCanonical\\\":\\\"\\\"},{\\\"curriculum_requisites\\\":[],\\\"name\\\":\\\" \\\",\\\"metrics\\\":{\\\"centrality\\\":0,\\\"complexity\\\":1.0,\\\"blocking factor\\\":0,\\\"delay factor\\\":1.0},\\\"nameSub\\\":\\\"Elective Lab 4\\\",\\\"id\\\":2450156574,\\\"credits\\\":1,\\\"nameCanonical\\\":\\\"\\\"},{\\\"curriculum_requisites\\\":[],\\\"name\\\":\\\" \\\",\\\"metrics\\\":{\\\"centrality\\\":0,\\\"complexity\\\":1.0,\\\"blocking factor\\\":0,\\\"delay factor\\\":1.0},\\\"nameSub\\\":\\\"Lang., Phil. & Culture Core\\\",\\\"id\\\":1626752824,\\\"credits\\\":3,\\\"nameCanonical\\\":\\\"\\\"},{\\\"curriculum_requisites\\\":[],\\\"name\\\":\\\" \\\",\\\"metrics\\\":{\\\"centrality\\\":0,\\\"complexity\\\":1.0,\\\"blocking factor\\\":0,\\\"delay factor\\\":1.0},\\\"nameSub\\\":\\\"Technical Elective\\\",\\\"id\\\":2529896330,\\\"credits\\\":3,\\\"nameCanonical\\\":\\\"\\\"}],\\\"id\\\":7},{\\\"name\\\":\\\"Term 8\\\",\\\"curriculum_items\\\":[{\\\"curriculum_requisites\\\":[{\\\"source_id\\\":1337097032,\\\"target_id\\\":1158404973,\\\"type\\\":\\\"CurriculumPrerequisite\\\"}],\\\"name\\\":\\\"ECE 4336\\\",\\\"metrics\\\":{\\\"centrality\\\":0,\\\"complexity\\\":12.0,\\\"blocking factor\\\":0,\\\"delay factor\\\":12.0},\\\"nameSub\\\":\\\"ECE Design II\\\",\\\"id\\\":1158404973,\\\"credits\\\":3,\\\"nameCanonical\\\":\\\"\\\"}],\\\"id\\\":8}],\\\"institution\\\":\\\"ACME Univ.\\\"}},\\\"*\\\"); window.removeEventListener(\\\"message\\\",window.messageReceived); window.messageReceived=(function (event){return (event.data.curriculum!==undefined) ? (WebIO.setval({\\\"name\\\":\\\"curriculum-data\\\",\\\"scope\\\":\\\"4584900451068212633\\\",\\\"id\\\":\\\"10354859149323509535\\\",\\\"type\\\":\\\"observable\\\"},event.data.curriculum)) : undefined}); return window.addEventListener(\\\"message\\\",window.messageReceived)})\"},\"style\":{\"padding\":\"0\",\"height\":\"100vh\",\"margin\":\"0\",\"border\":\"none\",\"width\":\"100%\"}},\"nodeType\":\"DOM\",\"type\":\"node\",\"instanceArgs\":{\"namespace\":\"html\",\"tag\":\"iframe\"},\"children\":[\"\"]}]},\n",
       "            window,\n",
       "        );\n",
       "    } else {\n",
       "        document\n",
       "            .querySelector('[data-webio-mountpoint=\"8446549048689332956\"]')\n",
       "            .innerHTML = (\n",
       "                '<div style=\"padding: 1em; background-color: #f8d6da; border: 1px solid #f5c6cb\">' +\n",
       "                '<p><strong>WebIO not detected.</strong></p>' +\n",
       "                '<p>Please read ' +\n",
       "                '<a href=\"https://juliagizmos.github.io/WebIO.jl/latest/troubleshooting/not-detected/\" target=\"_blank\">the troubleshooting guide</a> ' +\n",
       "                'for more information on how to resolve this issue.</p>' +\n",
       "                '<p><a href=\"https://juliagizmos.github.io/WebIO.jl/latest/troubleshooting/not-detected/\" target=\"_blank\">https://juliagizmos.github.io/WebIO.jl/latest/troubleshooting/not-detected/</a></p>' +\n",
       "                '</div>'\n",
       "            );\n",
       "    }\n",
       "    </script>\n",
       "</div>\n"
      ],
      "text/plain": [
       "WebIO.Scope(WebIO.Node{WebIO.DOM}(WebIO.DOM(:html, :iframe), Any[\"\"], Dict{Symbol, Any}(:src => \"https://curricula-api-embed.damoursystems.com/\", :id => \"curriculum\", :events => Dict{Symbol, WebIO.JSString}(:load => WebIO.JSString(\"(function (){this.contentWindow.postMessage({\\\"options\\\":{\\\"hideTerms\\\":false,\\\"edit\\\":false},\\\"curriculum\\\":{\\\"name\\\":\\\"A Real EE Program\\\",\\\"dp_name\\\":\\\"\\\",\\\"curriculum_terms\\\":[{\\\"name\\\":\\\"Term 1\\\",\\\"curriculum_items\\\":[{\\\"curriculum_requisites\\\":[],\\\"name\\\":\\\"ENGL 1303\\\",\\\"metrics\\\":{\\\"centrality\\\":0,\\\"complexity\\\":13.0,\\\"blocking factor\\\":6,\\\"delay factor\\\":7.0},\\\"nameSub\\\":\\\"First Year Writing I\\\",\\\"id\\\":1324171406,\\\"credits\\\":3,\\\"nameCanonical\\\":\\\"\\\"},{\\\"curriculum_requisites\\\":[],\\\"name\\\":\\\"CHEM 1331\\\",\\\"metrics\\\":{\\\"centrality\\\":0,\\\"complexity\\\":3.0,\\\"blocking factor\\\":1,\\\"delay factor\\\":2.0},\\\"nameSub\\\":\\\"Fund. of Chemistry\\\",\\\"id\\\":1351802580,\\\"credits\\\":3,\\\"nameCanonical\\\":\\\"\\\"},{\\\"curriculum_requisites\\\":[{\\\"source_id\\\":1351802580,\\\"target_id\\\":2195546016,\\\"type\\\":\\\"CurriculumCorequisite\\\"}],\\\"name\\\":\\\"CHEM 1111\\\",\\\"metrics\\\":{\\\"centrality\\\":0,\\\"complexity\\\":2.0,\\\"blocking factor\\\":0,\\\"delay factor\\\":2.0},\\\"nameSub\\\":\\\"Fund. of Chemistry Lab\\\",\\\"id\\\":2195546016,\\\"credits\\\":1,\\\"nameCanonical\\\":\\\"\\\"},{\\\"curriculum_requisites\\\":[],\\\"name\\\":\\\"POLS 1336\\\",\\\"metrics\\\":{\\\"centrality\\\":0,\\\"complexity\\\":1.0,\\\"blocking factor\\\":0,\\\"delay factor\\\":1.0},\\\"nameSub\\\":\\\"US and TX Constitutions & Politics\\\",\\\"id\\\":1541543378,\\\"credits\\\":3,\\\"nameCanonical\\\":\\\"\\\"},{\\\"curriculum_requisites\\\":[],\\\"name\\\":\\\"POLS 1337\\\",\\\"metrics\\\":{\\\"centrality\\\":0,\\\"complexity\\\":1.0,\\\"blocking factor\\\":0,\\\"delay factor\\\":1.0},\\\"nameSub\\\":\\\"US Gov: Congress, President and Courts\\\",\\\"id\\\":951874139,\\\"credits\\\":3,\\\"nameCanonical\\\":\\\"\\\"},{\\\"curriculum_requisites\\\":[],\\\"name\\\":\\\"HIST 1377\\\",\\\"metrics\\\":{\\\"centrality\\\":0,\\\"complexity\\\":1.0,\\\"blocking factor\\\":0,\\\"delay factor\\\":1.0},\\\"nameSub\\\":\\\"The US to 1877\\\",\\\"id\\\":3824069494,\\\"credits\\\":3,\\\"nameCanonical\\\":\\\"\\\"},{\\\"curriculum_requisites\\\":[],\\\"name\\\":\\\"HIST 1378\\\",\\\"metrics\\\":{\\\"centrality\\\":0,\\\"complexity\\\":1.0,\\\"blocking factor\\\":0,\\\"delay factor\\\":1.0},\\\"nameSub\\\":\\\"US Since 1877\\\",\\\"id\\\":2731496025,\\\"credits\\\":3,\\\"nameCanonical\\\":\\\"\\\"}],\\\"id\\\":1},{\\\"name\\\":\\\"Term 2\\\",\\\"curriculum_items\\\":[{\\\"curriculum_requisites\\\":[],\\\"name\\\":\\\"MATH 1431\\\",\\\"metrics\\\":{\\\"centrality\\\":0,\\\"complexity\\\":35.0,\\\"blocking factor\\\":23,\\\"delay factor\\\":12.0},\\\"nameSub\\\":\\\"Calculus I\\\",\\\"id\\\":4175014649,\\\"credits\\\":4,\\\"nameCanonical\\\":\\\"\\\"},{\\\"curriculum_requisites\\\":[{\\\"source_id\\\":4175014649,\\\"target_id\\\":1764441140,\\\"type\\\":\\\"CurriculumCorequisite\\\"}],\\\"name\\\":\\\"ENGI 1100\\\",\\\"metrics\\\":{\\\"centrality\\\":85,\\\"complexity\\\":25.0,\\\"blocking factor\\\":15,\\\"delay factor\\\":10.0},\\\"nameSub\\\":\\\"Intro to Engr.\\\",\\\"id\\\":1764441140,\\\"credits\\\":1,\\\"nameCanonical\\\":\\\"\\\"},{\\\"curriculum_requisites\\\":[{\\\"source_id\\\":1324171406,\\\"target_id\\\":3195103903,\\\"type\\\":\\\"CurriculumPrerequisite\\\"}],\\\"name\\\":\\\"ENGL 1304\\\",\\\"metrics\\\":{\\\"centrality\\\":13,\\\"complexity\\\":12.0,\\\"blocking factor\\\":5,\\\"delay factor\\\":7.0},\\\"nameSub\\\":\\\"First Year Writing II\\\",\\\"id\\\":3195103903,\\\"credits\\\":3,\\\"nameCanonical\\\":\\\"\\\"},{\\\"curriculum_requisites\\\":[],\\\"name\\\":\\\"ECON 2304\\\",\\\"metrics\\\":{\\\"centrality\\\":0,\\\"complexity\\\":5.0,\\\"blocking factor\\\":2,\\\"delay factor\\\":3.0},\\\"nameSub\\\":\\\"Microeconomic Principles\\\",\\\"id\\\":3224555476,\\\"credits\\\":3,\\\"nameCanonical\\\":\\\"\\\"},{\\\"curriculum_requisites\\\":[],\\\"name\\\":\\\" \\\",\\\"metrics\\\":{\\\"centrality\\\":0,\\\"complexity\\\":1.0,\\\"blocking factor\\\":0,\\\"delay factor\\\":1.0},\\\"nameSub\\\":\\\"Concentration Elective 1\\\",\\\"id\\\":1056053313,\\\"credits\\\":3,\\\"nameCanonical\\\":\\\"\\\"},{\\\"curriculum_requisites\\\":[],\\\"name\\\":\\\" \\\",\\\"metrics\\\":{\\\"centrality\\\":0,\\\"complexity\\\":1.0,\\\"blocking factor\\\":0,\\\"delay factor\\\":1.0},\\\"nameSub\\\":\\\"Concentration Elective 2\\\",\\\"id\\\":1745860227,\\\"credits\\\":3,\\\"nameCanonical\\\":\\\"\\\"}],\\\"id\\\":2},{\\\"name\\\":\\\"Term 3\\\",\\\"curriculum_items\\\":[{\\\"curriculum_requisites\\\":[],\\\"name\\\":\\\" \\\",\\\"metrics\\\":{\\\"centrality\\\":0,\\\"complexity\\\":1.0,\\\"blocking factor\\\":0,\\\"delay factor\\\":1.0},\\\"nameSub\\\":\\\"Concentration Elective 3\\\",\\\"id\\\":1105094343,\\\"credits\\\":3,\\\"nameCanonical\\\":\\\"\\\"},{\\\"curriculum_requisites\\\":[{\\\"source_id\\\":4175014649,\\\"target_id\\\":1051497550,\\\"type\\\":\\\"CurriculumPrerequisite\\\"},{\\\"source_id\\\":1764441140,\\\"target_id\\\":1051497550,\\\"type\\\":\\\"CurriculumPrerequisite\\\"}],\\\"name\\\":\\\"ENGI 1331\\\",\\\"metrics\\\":{\\\"centrality\\\":160,\\\"complexity\\\":24.0,\\\"blocking factor\\\":14,\\\"delay factor\\\":10.0},\\\"nameSub\\\":\\\"Computing & Prob. Solving\\\",\\\"id\\\":1051497550,\\\"credits\\\":3,\\\"nameCanonical\\\":\\\"\\\"},{\\\"curriculum_requisites\\\":[{\\\"source_id\\\":4175014649,\\\"target_id\\\":1177372781,\\\"type\\\":\\\"CurriculumPrerequisite\\\"}],\\\"name\\\":\\\"MATH 1432\\\",\\\"metrics\\\":{\\\"centrality\\\":607,\\\"complexity\\\":32.0,\\\"blocking factor\\\":20,\\\"delay factor\\\":12.0},\\\"nameSub\\\":\\\"Calculus II\\\",\\\"id\\\":1177372781,\\\"credits\\\":4,\\\"nameCanonical\\\":\\\"\\\"},{\\\"curriculum_requisites\\\":[{\\\"source_id\\\":1177372781,\\\"target_id\\\":2834873484,\\\"type\\\":\\\"CurriculumCorequisite\\\"}],\\\"name\\\":\\\"PHYS 1321\\\",\\\"metrics\\\":{\\\"centrality\\\":217,\\\"complexity\\\":28.0,\\\"blocking factor\\\":16,\\\"delay factor\\\":12.0},\\\"nameSub\\\":\\\"University Physics I\\\",\\\"id\\\":2834873484,\\\"credits\\\":3,\\\"nameCanonical\\\":\\\"\\\"},{\\\"curriculum_requisites\\\":[{\\\"source_id\\\":2834873484,\\\"target_id\\\":3178954113,\\\"type\\\":\\\"CurriculumCorequisite\\\"}],\\\"name\\\":\\\"PHYS 1121\\\",\\\"metrics\\\":{\\\"centrality\\\":0,\\\"complexity\\\":4.0,\\\"blocking factor\\\":0,\\\"delay factor\\\":4.0},\\\"nameSub\\\":\\\"Physics Lab I\\\",\\\"id\\\":3178954113,\\\"credits\\\":1,\\\"nameCanonical\\\":\\\"\\\"},{\\\"curriculum_requisites\\\":[],\\\"name\\\":\\\" \\\",\\\"metrics\\\":{\\\"centrality\\\":0,\\\"complexity\\\":1.0,\\\"blocking factor\\\":0,\\\"delay factor\\\":1.0},\\\"nameSub\\\":\\\"Concentration Elective 4\\\",\\\"id\\\":1819261218,\\\"credits\\\":3,\\\"nameCanonical\\\":\\\"\\\"}],\\\"id\\\":3},{\\\"name\\\":\\\"Term 4\\\",\\\"curriculum_items\\\":[{\\\"curriculum_requisites\\\":[],\\\"name\\\":\\\" \\\",\\\"metrics\\\":{\\\"centrality\\\":0,\\\"complexity\\\":1.0,\\\"blocking factor\\\":0,\\\"delay factor\\\":1.0},\\\"nameSub\\\":\\\"Concentration Elective 5\\\",\\\"id\\\":2070124031,\\\"credits\\\":3,\\\"nameCanonical\\\":\\\"\\\"},{\\\"curriculum_requisites\\\":[{\\\"source_id\\\":1051497550,\\\"target_id\\\":2888554139,\\\"type\\\":\\\"CurriculumPrerequisite\\\"},{\\\"source_id\\\":1177372781,\\\"target_id\\\":2888554139,\\\"type\\\":\\\"CurriculumPrerequisite\\\"}],\\\"name\\\":\\\"INDE 2333\\\",\\\"metrics\\\":{\\\"centrality\\\":16,\\\"complexity\\\":8.0,\\\"blocking factor\\\":2,\\\"delay factor\\\":6.0},\\\"nameSub\\\":\\\"Engineering Statistics\\\",\\\"id\\\":2888554139,\\\"credits\\\":3,\\\"nameCanonical\\\":\\\"\\\"},{\\\"curriculum_requisites\\\":[{\\\"source_id\\\":1177372781,\\\"target_id\\\":2258215799,\\\"type\\\":\\\"CurriculumPrerequisite\\\"}],\\\"name\\\":\\\"MATH 2433\\\",\\\"metrics\\\":{\\\"centrality\\\":292,\\\"complexity\\\":27.0,\\\"blocking factor\\\":15,\\\"delay factor\\\":12.0},\\\"nameSub\\\":\\\"Calculus III\\\",\\\"id\\\":2258215799,\\\"credits\\\":3,\\\"nameCanonical\\\":\\\"\\\"},{\\\"curriculum_requisites\\\":[{\\\"source_id\\\":2258215799,\\\"target_id\\\":3718777895,\\\"type\\\":\\\"CurriculumCorequisite\\\"},{\\\"source_id\\\":2834873484,\\\"target_id\\\":3718777895,\\\"type\\\":\\\"CurriculumPrerequisite\\\"}],\\\"name\\\":\\\"PHYS 1322\\\",\\\"metrics\\\":{\\\"centrality\\\":426,\\\"complexity\\\":26.0,\\\"blocking factor\\\":14,\\\"delay factor\\\":12.0},\\\"nameSub\\\":\\\"University Physics II\\\",\\\"id\\\":3718777895,\\\"credits\\\":3,\\\"nameCanonical\\\":\\\"\\\"},{\\\"curriculum_requisites\\\":[{\\\"source_id\\\":3718777895,\\\"target_id\\\":3059602497,\\\"type\\\":\\\"CurriculumCorequisite\\\"}],\\\"name\\\":\\\"PHYS 1122\\\",\\\"metrics\\\":{\\\"centrality\\\":250,\\\"complexity\\\":25.0,\\\"blocking factor\\\":13,\\\"delay factor\\\":12.0},\\\"nameSub\\\":\\\"Physics Lab II\\\",\\\"id\\\":3059602497,\\\"credits\\\":1,\\\"nameCanonical\\\":\\\"\\\"},{\\\"curriculum_requisites\\\":[{\\\"source_id\\\":1177372781,\\\"target_id\\\":947037850,\\\"type\\\":\\\"CurriculumPrerequisite\\\"}],\\\"name\\\":\\\"MATH 3321\\\",\\\"metrics\\\":{\\\"centrality\\\":93,\\\"complexity\\\":23.0,\\\"blocking factor\\\":13,\\\"delay factor\\\":10.0},\\\"nameSub\\\":\\\"Engineering Math\\\",\\\"id\\\":947037850,\\\"credits\\\":3,\\\"nameCanonical\\\":\\\"\\\"},{\\\"curriculum_requisites\\\":[{\\\"source_id\\\":3718777895,\\\"target_id\\\":2138760932,\\\"type\\\":\\\"CurriculumCorequisite\\\"},{\\\"source_id\\\":3059602497,\\\"target_id\\\":2138760932,\\\"type\\\":\\\"CurriculumCorequisite\\\"},{\\\"source_id\\\":2258215799,\\\"target_id\\\":2138760932,\\\"type\\\":\\\"CurriculumCorequisite\\\"},{\\\"source_id\\\":1051497550,\\\"target_id\\\":2138760932,\\\"type\\\":\\\"CurriculumPrerequisite\\\"},{\\\"source_id\\\":947037850,\\\"target_id\\\":2138760932,\\\"type\\\":\\\"CurriculumCorequisite\\\"}],\\\"name\\\":\\\"ECE 2201\\\",\\\"metrics\\\":{\\\"centrality\\\":677,\\\"complexity\\\":24.0,\\\"blocking factor\\\":12,\\\"delay factor\\\":12.0},\\\"nameSub\\\":\\\"Circuit Analysis I\\\",\\\"id\\\":2138760932,\\\"credits\\\":3,\\\"nameCanonical\\\":\\\"\\\"}],\\\"id\\\":4},{\\\"name\\\":\\\"Term 5\\\",\\\"curriculum_items\\\":[{\\\"curriculum_requisites\\\":[],\\\"name\\\":\\\" \\\",\\\"metrics\\\":{\\\"centrality\\\":0,\\\"complexity\\\":1.0,\\\"blocking factor\\\":0,\\\"delay factor\\\":1.0},\\\"nameSub\\\":\\\"Concentration Elective 6\\\",\\\"id\\\":1716266479,\\\"credits\\\":3,\\\"nameCanonical\\\":\\\"\\\"},{\\\"curriculum_requisites\\\":[{\\\"source_id\\\":2138760932,\\\"target_id\\\":3887805990,\\\"type\\\":\\\"CurriculumPrerequisite\\\"}],\\\"name\\\":\\\"ECE 2202\\\",\\\"metrics\\\":{\\\"centrality\\\":393,\\\"complexity\\\":20.0,\\\"blocking factor\\\":8,\\\"delay factor\\\":12.0},\\\"nameSub\\\":\\\"Circuit Analysis II\\\",\\\"id\\\":3887805990,\\\"credits\\\":3,\\\"nameCanonical\\\":\\\"\\\"},{\\\"curriculum_requisites\\\":[{\\\"source_id\\\":3059602497,\\\"target_id\\\":1083857781,\\\"type\\\":\\\"CurriculumPrerequisite\\\"},{\\\"source_id\\\":3887805990,\\\"target_id\\\":1083857781,\\\"type\\\":\\\"CurriculumCorequisite\\\"}],\\\"name\\\":\\\"ECE 2100\\\",\\\"metrics\\\":{\\\"centrality\\\":295,\\\"complexity\\\":17.0,\\\"blocking factor\\\":5,\\\"delay factor\\\":12.0},\\\"nameSub\\\":\\\"Circuits Lab\\\",\\\"id\\\":1083857781,\\\"credits\\\":1,\\\"nameCanonical\\\":\\\"\\\"},{\\\"curriculum_requisites\\\":[{\\\"source_id\\\":3195103903,\\\"target_id\\\":1770099342,\\\"type\\\":\\\"CurriculumPrerequisite\\\"},{\\\"source_id\\\":2138760932,\\\"target_id\\\":1770099342,\\\"type\\\":\\\"CurriculumPrerequisite\\\"}],\\\"name\\\":\\\"ENGI 2304\\\",\\\"metrics\\\":{\\\"centrality\\\":159,\\\"complexity\\\":15.0,\\\"blocking factor\\\":4,\\\"delay factor\\\":11.0},\\\"nameSub\\\":\\\"Technical Communication\\\",\\\"id\\\":1770099342,\\\"credits\\\":3,\\\"nameCanonical\\\":\\\"\\\"},{\\\"curriculum_requisites\\\":[{\\\"source_id\\\":947037850,\\\"target_id\\\":649106202,\\\"type\\\":\\\"CurriculumPrerequisite\\\"},{\\\"source_id\\\":2138760932,\\\"target_id\\\":649106202,\\\"type\\\":\\\"CurriculumPrerequisite\\\"}],\\\"name\\\":\\\"ECE 3331\\\",\\\"metrics\\\":{\\\"centrality\\\":152,\\\"complexity\\\":14.0,\\\"blocking factor\\\":4,\\\"delay factor\\\":10.0},\\\"nameSub\\\":\\\"Programming Apps in ECE\\\",\\\"id\\\":649106202,\\\"credits\\\":3,\\\"nameCanonical\\\":\\\"\\\"},{\\\"curriculum_requisites\\\":[{\\\"source_id\\\":3887805990,\\\"target_id\\\":2791403937,\\\"type\\\":\\\"CurriculumCorequisite\\\"}],\\\"name\\\":\\\"ECE 3337\\\",\\\"metrics\\\":{\\\"centrality\\\":154,\\\"complexity\\\":15.0,\\\"blocking factor\\\":4,\\\"delay factor\\\":11.0},\\\"nameSub\\\":\\\"Signals & Systems Analysis\\\",\\\"id\\\":2791403937,\\\"credits\\\":3,\\\"nameCanonical\\\":\\\"\\\"},{\\\"curriculum_requisites\\\":[{\\\"source_id\\\":1083857781,\\\"target_id\\\":4184346648,\\\"type\\\":\\\"CurriculumCorequisite\\\"},{\\\"source_id\\\":649106202,\\\"target_id\\\":4184346648,\\\"type\\\":\\\"CurriculumCorequisite\\\"}],\\\"name\\\":\\\"ECE 3436\\\",\\\"metrics\\\":{\\\"centrality\\\":171,\\\"complexity\\\":13.0,\\\"blocking factor\\\":2,\\\"delay factor\\\":11.0},\\\"nameSub\\\":\\\"Microprocessors\\\",\\\"id\\\":4184346648,\\\"credits\\\":3,\\\"nameCanonical\\\":\\\"\\\"}],\\\"id\\\":5},{\\\"name\\\":\\\"Term 6\\\",\\\"curriculum_items\\\":[{\\\"curriculum_requisites\\\":[],\\\"name\\\":\\\" \\\",\\\"metrics\\\":{\\\"centrality\\\":0,\\\"complexity\\\":1.0,\\\"blocking factor\\\":0,\\\"delay factor\\\":1.0},\\\"nameSub\\\":\\\"Concentration Elective 7\\\",\\\"id\\\":2584207151,\\\"credits\\\":3,\\\"nameCanonical\\\":\\\"\\\"},{\\\"curriculum_requisites\\\":[{\\\"source_id\\\":1083857781,\\\"target_id\\\":1966522372,\\\"type\\\":\\\"CurriculumPrerequisite\\\"},{\\\"source_id\\\":1770099342,\\\"target_id\\\":1966522372,\\\"type\\\":\\\"CurriculumPrerequisite\\\"}],\\\"name\\\":\\\"ECE 3155\\\",\\\"metrics\\\":{\\\"centrality\\\":359,\\\"complexity\\\":15.0,\\\"blocking factor\\\":3,\\\"delay factor\\\":12.0},\\\"nameSub\\\":\\\"Electronics Lab\\\",\\\"id\\\":1966522372,\\\"credits\\\":1,\\\"nameCanonical\\\":\\\"\\\"},{\\\"curriculum_requisites\\\":[{\\\"source_id\\\":1966522372,\\\"target_id\\\":4165958389,\\\"type\\\":\\\"CurriculumStrictCorequisite\\\"},{\\\"source_id\\\":2791403937,\\\"target_id\\\":4165958389,\\\"type\\\":\\\"CurriculumPrerequisite\\\"}],\\\"name\\\":\\\"ECE 3355\\\",\\\"metrics\\\":{\\\"centrality\\\":266,\\\"complexity\\\":14.0,\\\"blocking factor\\\":2,\\\"delay factor\\\":12.0},\\\"nameSub\\\":\\\"Electronics\\\",\\\"id\\\":4165958389,\\\"credits\\\":3,\\\"nameCanonical\\\":\\\"\\\"},{\\\"curriculum_requisites\\\":[{\\\"source_id\\\":2791403937,\\\"target_id\\\":2252871414,\\\"type\\\":\\\"CurriculumPrerequisite\\\"}],\\\"name\\\":\\\"ECE 3317\\\",\\\"metrics\\\":{\\\"centrality\\\":77,\\\"complexity\\\":13.0,\\\"blocking factor\\\":2,\\\"delay factor\\\":11.0},\\\"nameSub\\\":\\\"Applied EM Waves\\\",\\\"id\\\":2252871414,\\\"credits\\\":3,\\\"nameCanonical\\\":\\\"\\\"},{\\\"curriculum_requisites\\\":[{\\\"source_id\\\":649106202,\\\"target_id\\\":3368026167,\\\"type\\\":\\\"CurriculumPrerequisite\\\"}],\\\"name\\\":\\\"ECE 3340\\\",\\\"metrics\\\":{\\\"centrality\\\":76,\\\"complexity\\\":12.0,\\\"blocking factor\\\":2,\\\"delay factor\\\":10.0},\\\"nameSub\\\":\\\"Numerical Methods\\\",\\\"id\\\":3368026167,\\\"credits\\\":3,\\\"nameCanonical\\\":\\\"\\\"},{\\\"curriculum_requisites\\\":[],\\\"name\\\":\\\" \\\",\\\"metrics\\\":{\\\"centrality\\\":0,\\\"complexity\\\":1.0,\\\"blocking factor\\\":0,\\\"delay factor\\\":1.0},\\\"nameSub\\\":\\\"Creative Arts Core\\\",\\\"id\\\":848294223,\\\"credits\\\":3,\\\"nameCanonical\\\":\\\"\\\"},{\\\"curriculum_requisites\\\":[],\\\"name\\\":\\\" \\\",\\\"metrics\\\":{\\\"centrality\\\":0,\\\"complexity\\\":1.0,\\\"blocking factor\\\":0,\\\"delay factor\\\":1.0},\\\"nameSub\\\":\\\"ECE Elective 1\\\",\\\"id\\\":2051928090,\\\"credits\\\":3,\\\"nameCanonical\\\":\\\"\\\"}],\\\"id\\\":6},{\\\"name\\\":\\\"Term 7\\\",\\\"curriculum_items\\\":[{\\\"curriculum_requisites\\\":[],\\\"name\\\":\\\" \\\",\\\"metrics\\\":{\\\"centrality\\\":0,\\\"complexity\\\":1.0,\\\"blocking factor\\\":0,\\\"delay factor\\\":1.0},\\\"nameSub\\\":\\\"ECE Elective 2\\\",\\\"id\\\":672829327,\\\"credits\\\":3,\\\"nameCanonical\\\":\\\"\\\"},{\\\"curriculum_requisites\\\":[{\\\"source_id\\\":1966522372,\\\"target_id\\\":1337097032,\\\"type\\\":\\\"CurriculumPrerequisite\\\"},{\\\"source_id\\\":4184346648,\\\"target_id\\\":1337097032,\\\"type\\\":\\\"CurriculumPrerequisite\\\"},{\\\"source_id\\\":3368026167,\\\"target_id\\\":1337097032,\\\"type\\\":\\\"CurriculumPrerequisite\\\"},{\\\"source_id\\\":2888554139,\\\"target_id\\\":1337097032,\\\"type\\\":\\\"CurriculumPrerequisite\\\"},{\\\"source_id\\\":4165958389,\\\"target_id\\\":1337097032,\\\"type\\\":\\\"CurriculumPrerequisite\\\"},{\\\"source_id\\\":3224555476,\\\"target_id\\\":1337097032,\\\"type\\\":\\\"CurriculumCorequisite\\\"},{\\\"source_id\\\":2252871414,\\\"target_id\\\":1337097032,\\\"type\\\":\\\"CurriculumPrerequisite\\\"}],\\\"name\\\":\\\"ECE 4335\\\",\\\"metrics\\\":{\\\"centrality\\\":779,\\\"complexity\\\":13.0,\\\"blocking factor\\\":1,\\\"delay factor\\\":12.0},\\\"nameSub\\\":\\\"ECE Design I\\\",\\\"id\\\":1337097032,\\\"credits\\\":3,\\\"nameCanonical\\\":\\\"\\\"},{\\\"curriculum_requisites\\\":[],\\\"name\\\":\\\" \\\",\\\"metrics\\\":{\\\"centrality\\\":0,\\\"complexity\\\":1.0,\\\"blocking factor\\\":0,\\\"delay factor\\\":1.0},\\\"nameSub\\\":\\\"Elective Lab 1\\\",\\\"id\\\":26700799,\\\"credits\\\":1,\\\"nameCanonical\\\":\\\"\\\"},{\\\"curriculum_requisites\\\":[],\\\"name\\\":\\\" \\\",\\\"metrics\\\":{\\\"centrality\\\":0,\\\"complexity\\\":1.0,\\\"blocking factor\\\":0,\\\"delay factor\\\":1.0},\\\"nameSub\\\":\\\"Elective Lab 2\\\",\\\"id\\\":1296179090,\\\"credits\\\":1,\\\"nameCanonical\\\":\\\"\\\"},{\\\"curriculum_requisites\\\":[],\\\"name\\\":\\\" \\\",\\\"metrics\\\":{\\\"centrality\\\":0,\\\"complexity\\\":1.0,\\\"blocking factor\\\":0,\\\"delay factor\\\":1.0},\\\"nameSub\\\":\\\"Elective Lab 3\\\",\\\"id\\\":3091492697,\\\"credits\\\":1,\\\"nameCanonical\\\":\\\"\\\"},{\\\"curriculum_requisites\\\":[],\\\"name\\\":\\\" \\\",\\\"metrics\\\":{\\\"centrality\\\":0,\\\"complexity\\\":1.0,\\\"blocking factor\\\":0,\\\"delay factor\\\":1.0},\\\"nameSub\\\":\\\"Elective Lab 4\\\",\\\"id\\\":2450156574,\\\"credits\\\":1,\\\"nameCanonical\\\":\\\"\\\"},{\\\"curriculum_requisites\\\":[],\\\"name\\\":\\\" \\\",\\\"metrics\\\":{\\\"centrality\\\":0,\\\"complexity\\\":1.0,\\\"blocking factor\\\":0,\\\"delay factor\\\":1.0},\\\"nameSub\\\":\\\"Lang., Phil. & Culture Core\\\",\\\"id\\\":1626752824,\\\"credits\\\":3,\\\"nameCanonical\\\":\\\"\\\"},{\\\"curriculum_requisites\\\":[],\\\"name\\\":\\\" \\\",\\\"metrics\\\":{\\\"centrality\\\":0,\\\"complexity\\\":1.0,\\\"blocking factor\\\":0,\\\"delay factor\\\":1.0},\\\"nameSub\\\":\\\"Technical Elective\\\",\\\"id\\\":2529896330,\\\"credits\\\":3,\\\"nameCanonical\\\":\\\"\\\"}],\\\"id\\\":7},{\\\"name\\\":\\\"Term 8\\\",\\\"curriculum_items\\\":[{\\\"curriculum_requisites\\\":[{\\\"source_id\\\":1337097032,\\\"target_id\\\":1158404973,\\\"type\\\":\\\"CurriculumPrerequisite\\\"}],\\\"name\\\":\\\"ECE 4336\\\",\\\"metrics\\\":{\\\"centrality\\\":0,\\\"complexity\\\":12.0,\\\"blocking factor\\\":0,\\\"delay factor\\\":12.0},\\\"nameSub\\\":\\\"ECE Design II\\\",\\\"id\\\":1158404973,\\\"credits\\\":3,\\\"nameCanonical\\\":\\\"\\\"}],\\\"id\\\":8}],\\\"institution\\\":\\\"ACME Univ.\\\"}},\\\"*\\\"); window.removeEventListener(\\\"message\\\",window.messageReceived); window.messageReceived=(function (event){return (event.data.curriculum!==undefined) ? (WebIO.setval({\\\"name\\\":\\\"curriculum-data\\\",\\\"scope\\\":\\\"4584900451068212633\\\",\\\"id\\\":\\\"10354859149323509535\\\",\\\"type\\\":\\\"observable\\\"},event.data.curriculum)) : undefined}); return window.addEventListener(\\\"message\\\",window.messageReceived)})\")), :style => Dict(:padding => \"0\", :height => \"100vh\", :margin => \"0\", :border => \"none\", :width => \"100%\"))), Dict{String, Tuple{Observables.AbstractObservable, Union{Nothing, Bool}}}(\"curriculum-data\" => (Observable{Dict{String, Any}} with 1 listeners. Value:\n",
       "Dict{String, Any}(\"options\" => Dict{String, Any}(\"hideTerms\" => false, \"edit\" => false), \"curriculum\" => Dict{String, Any}(\"name\" => \"A Real EE Program\", \"dp_name\" => \"\", \"curriculum_terms\" => Dict{String, Any}[Dict(\"name\" => \"Term 1\", \"curriculum_items\" => Dict{String, Any}[Dict(\"curriculum_requisites\" => Dict{String, Any}[], \"name\" => \"ENGL 1303\", \"metrics\" => Dict{String, Any}(\"centrality\" => 0, \"complexity\" => 13.0, \"blocking factor\" => 6, \"delay factor\" => 7.0), \"nameSub\" => \"First Year Writing I\", \"id\" => 1324171406, \"credits\" => 3, \"nameCanonical\" => \"\"), Dict(\"curriculum_requisites\" => Dict{String, Any}[], \"name\" => \"CHEM 1331\", \"metrics\" => Dict{String, Any}(\"centrality\" => 0, \"complexity\" => 3.0, \"blocking factor\" => 1, \"delay factor\" => 2.0), \"nameSub\" => \"Fund. of Chemistry\", \"id\" => 1351802580, \"credits\" => 3, \"nameCanonical\" => \"\"), Dict(\"curriculum_requisites\" => Dict{String, Any}[Dict(\"source_id\" => 1351802580, \"target_id\" => 2195546016, \"type\" => \"CurriculumCorequisite\")], \"name\" => \"CHEM 1111\", \"metrics\" => Dict{String, Any}(\"centrality\" => 0, \"complexity\" => 2.0, \"blocking factor\" => 0, \"delay factor\" => 2.0), \"nameSub\" => \"Fund. of Chemistry Lab\", \"id\" => 2195546016, \"credits\" => 1, \"nameCanonical\" => \"\"), Dict(\"curriculum_requisites\" => Dict{String, Any}[], \"name\" => \"POLS 1336\", \"metrics\" => Dict{String, Any}(\"centrality\" => 0, \"complexity\" => 1.0, \"blocking factor\" => 0, \"delay factor\" => 1.0), \"nameSub\" => \"US and TX Constitutions & Politics\", \"id\" => 1541543378, \"credits\" => 3, \"nameCanonical\" => \"\"), Dict(\"curriculum_requisites\" => Dict{String, Any}[], \"name\" => \"POLS 1337\", \"metrics\" => Dict{String, Any}(\"centrality\" => 0, \"complexity\" => 1.0, \"blocking factor\" => 0, \"delay factor\" => 1.0), \"nameSub\" => \"US Gov: Congress, President and Courts\", \"id\" => 951874139, \"credits\" => 3, \"nameCanonical\" => \"\"), Dict(\"curriculum_requisites\" => Dict{String, Any}[], \"name\" => \"HIST 1377\", \"metrics\" => Dict{String, Any}(\"centrality\" => 0, \"complexity\" => 1.0, \"blocking factor\" => 0, \"delay factor\" => 1.0), \"nameSub\" => \"The US to 1877\", \"id\" => 3824069494, \"credits\" => 3, \"nameCanonical\" => \"\"), Dict(\"curriculum_requisites\" => Dict{String, Any}[], \"name\" => \"HIST 1378\", \"metrics\" => Dict{String, Any}(\"centrality\" => 0, \"complexity\" => 1.0, \"blocking factor\" => 0, \"delay factor\" => 1.0), \"nameSub\" => \"US Since 1877\", \"id\" => 2731496025, \"credits\" => 3, \"nameCanonical\" => \"\")], \"id\" => 1), Dict(\"name\" => \"Term 2\", \"curriculum_items\" => Dict{String, Any}[Dict(\"curriculum_requisites\" => Dict{String, Any}[], \"name\" => \"MATH 1431\", \"metrics\" => Dict{String, Any}(\"centrality\" => 0, \"complexity\" => 35.0, \"blocking factor\" => 23, \"delay factor\" => 12.0), \"nameSub\" => \"Calculus I\", \"id\" => 4175014649, \"credits\" => 4, \"nameCanonical\" => \"\"), Dict(\"curriculum_requisites\" => Dict{String, Any}[Dict(\"source_id\" => 4175014649, \"target_id\" => 1764441140, \"type\" => \"CurriculumCorequisite\")], \"name\" => \"ENGI 1100\", \"metrics\" => Dict{String, Any}(\"centrality\" => 85, \"complexity\" => 25.0, \"blocking factor\" => 15, \"delay factor\" => 10.0), \"nameSub\" => \"Intro to Engr.\", \"id\" => 1764441140, \"credits\" => 1, \"nameCanonical\" => \"\"), Dict(\"curriculum_requisites\" => Dict{String, Any}[Dict(\"source_id\" => 1324171406, \"target_id\" => 3195103903, \"type\" => \"CurriculumPrerequisite\")], \"name\" => \"ENGL 1304\", \"metrics\" => Dict{String, Any}(\"centrality\" => 13, \"complexity\" => 12.0, \"blocking factor\" => 5, \"delay factor\" => 7.0), \"nameSub\" => \"First Year Writing II\", \"id\" => 3195103903, \"credits\" => 3, \"nameCanonical\" => \"\"), Dict(\"curriculum_requisites\" => Dict{String, Any}[], \"name\" => \"ECON 2304\", \"metrics\" => Dict{String, Any}(\"centrality\" => 0, \"complexity\" => 5.0, \"blocking factor\" => 2, \"delay factor\" => 3.0), \"nameSub\" => \"Microeconomic Principles\", \"id\" => 3224555476, \"credits\" => 3, \"nameCanonical\" => \"\"), Dict(\"curriculum_requisites\" => Dict{String, Any}[], \"name\" => \" \", \"metrics\" => Dict{String, Any}(\"centrality\" => 0, \"complexity\" => 1.0, \"blocking factor\" => 0, \"delay factor\" => 1.0), \"nameSub\" => \"Concentration Elective 1\", \"id\" => 1056053313, \"credits\" => 3, \"nameCanonical\" => \"\"), Dict(\"curriculum_requisites\" => Dict{String, Any}[], \"name\" => \" \", \"metrics\" => Dict{String, Any}(\"centrality\" => 0, \"complexity\" => 1.0, \"blocking factor\" => 0, \"delay factor\" => 1.0), \"nameSub\" => \"Concentration Elective 2\", \"id\" => 1745860227, \"credits\" => 3, \"nameCanonical\" => \"\")], \"id\" => 2), Dict(\"name\" => \"Term 3\", \"curriculum_items\" => Dict{String, Any}[Dict(\"curriculum_requisites\" => Dict{String, Any}[], \"name\" => \" \", \"metrics\" => Dict{String, Any}(\"centrality\" => 0, \"complexity\" => 1.0, \"blocking factor\" => 0, \"delay factor\" => 1.0), \"nameSub\" => \"Concentration Elective 3\", \"id\" => 1105094343, \"credits\" => 3, \"nameCanonical\" => \"\"), Dict(\"curriculum_requisites\" => Dict{String, Any}[Dict(\"source_id\" => 4175014649, \"target_id\" => 1051497550, \"type\" => \"CurriculumPrerequisite\"), Dict(\"source_id\" => 1764441140, \"target_id\" => 1051497550, \"type\" => \"CurriculumPrerequisite\")], \"name\" => \"ENGI 1331\", \"metrics\" => Dict{String, Any}(\"centrality\" => 160, \"complexity\" => 24.0, \"blocking factor\" => 14, \"delay factor\" => 10.0), \"nameSub\" => \"Computing & Prob. Solving\", \"id\" => 1051497550, \"credits\" => 3, \"nameCanonical\" => \"\"), Dict(\"curriculum_requisites\" => Dict{String, Any}[Dict(\"source_id\" => 4175014649, \"target_id\" => 1177372781, \"type\" => \"CurriculumPrerequisite\")], \"name\" => \"MATH 1432\", \"metrics\" => Dict{String, Any}(\"centrality\" => 607, \"complexity\" => 32.0, \"blocking factor\" => 20, \"delay factor\" => 12.0), \"nameSub\" => \"Calculus II\", \"id\" => 1177372781, \"credits\" => 4, \"nameCanonical\" => \"\"), Dict(\"curriculum_requisites\" => Dict{String, Any}[Dict(\"source_id\" => 1177372781, \"target_id\" => 2834873484, \"type\" => \"CurriculumCorequisite\")], \"name\" => \"PHYS 1321\", \"metrics\" => Dict{String, Any}(\"centrality\" => 217, \"complexity\" => 28.0, \"blocking factor\" => 16, \"delay factor\" => 12.0), \"nameSub\" => \"University Physics I\", \"id\" => 2834873484, \"credits\" => 3, \"nameCanonical\" => \"\"), Dict(\"curriculum_requisites\" => Dict{String, Any}[Dict(\"source_id\" => 2834873484, \"target_id\" => 3178954113, \"type\" => \"CurriculumCorequisite\")], \"name\" => \"PHYS 1121\", \"metrics\" => Dict{String, Any}(\"centrality\" => 0, \"complexity\" => 4.0, \"blocking factor\" => 0, \"delay factor\" => 4.0), \"nameSub\" => \"Physics Lab I\", \"id\" => 3178954113, \"credits\" => 1, \"nameCanonical\" => \"\"), Dict(\"curriculum_requisites\" => Dict{String, Any}[], \"name\" => \" \", \"metrics\" => Dict{String, Any}(\"centrality\" => 0, \"complexity\" => 1.0, \"blocking factor\" => 0, \"delay factor\" => 1.0), \"nameSub\" => \"Concentration Elective 4\", \"id\" => 1819261218, \"credits\" => 3, \"nameCanonical\" => \"\")], \"id\" => 3), Dict(\"name\" => \"Term 4\", \"curriculum_items\" => Dict{String, Any}[Dict(\"curriculum_requisites\" => Dict{String, Any}[], \"name\" => \" \", \"metrics\" => Dict{String, Any}(\"centrality\" => 0, \"complexity\" => 1.0, \"blocking factor\" => 0, \"delay factor\" => 1.0), \"nameSub\" => \"Concentration Elective 5\", \"id\" => 2070124031, \"credits\" => 3, \"nameCanonical\" => \"\"), Dict(\"curriculum_requisites\" => Dict{String, Any}[Dict(\"source_id\" => 1051497550, \"target_id\" => 2888554139, \"type\" => \"CurriculumPrerequisite\"), Dict(\"source_id\" => 1177372781, \"target_id\" => 2888554139, \"type\" => \"CurriculumPrerequisite\")], \"name\" => \"INDE 2333\", \"metrics\" => Dict{String, Any}(\"centrality\" => 16, \"complexity\" => 8.0, \"blocking factor\" => 2, \"delay factor\" => 6.0), \"nameSub\" => \"Engineering Statistics\", \"id\" => 2888554139, \"credits\" => 3, \"nameCanonical\" => \"\"), Dict(\"curriculum_requisites\" => Dict{String, Any}[Dict(\"source_id\" => 1177372781, \"target_id\" => 2258215799, \"type\" => \"CurriculumPrerequisite\")], \"name\" => \"MATH 2433\", \"metrics\" => Dict{String, Any}(\"centrality\" => 292, \"complexity\" => 27.0, \"blocking factor\" => 15, \"delay factor\" => 12.0), \"nameSub\" => \"Calculus III\", \"id\" => 2258215799, \"credits\" => 3, \"nameCanonical\" => \"\"), Dict(\"curriculum_requisites\" => Dict{String, Any}[Dict(\"source_id\" => 2258215799, \"target_id\" => 3718777895, \"type\" => \"CurriculumCorequisite\"), Dict(\"source_id\" => 2834873484, \"target_id\" => 3718777895, \"type\" => \"CurriculumPrerequisite\")], \"name\" => \"PHYS 1322\", \"metrics\" => Dict{String, Any}(\"centrality\" => 426, \"complexity\" => 26.0, \"blocking factor\" => 14, \"delay factor\" => 12.0), \"nameSub\" => \"University Physics II\", \"id\" => 3718777895, \"credits\" => 3, \"nameCanonical\" => \"\"), Dict(\"curriculum_requisites\" => Dict{String, Any}[Dict(\"source_id\" => 3718777895, \"target_id\" => 3059602497, \"type\" => \"CurriculumCorequisite\")], \"name\" => \"PHYS 1122\", \"metrics\" => Dict{String, Any}(\"centrality\" => 250, \"complexity\" => 25.0, \"blocking factor\" => 13, \"delay factor\" => 12.0), \"nameSub\" => \"Physics Lab II\", \"id\" => 3059602497, \"credits\" => 1, \"nameCanonical\" => \"\"), Dict(\"curriculum_requisites\" => Dict{String, Any}[Dict(\"source_id\" => 1177372781, \"target_id\" => 947037850, \"type\" => \"CurriculumPrerequisite\")], \"name\" => \"MATH 3321\", \"metrics\" => Dict{String, Any}(\"centrality\" => 93, \"complexity\" => 23.0, \"blocking factor\" => 13, \"delay factor\" => 10.0), \"nameSub\" => \"Engineering Math\", \"id\" => 947037850, \"credits\" => 3, \"nameCanonical\" => \"\"), Dict(\"curriculum_requisites\" => Dict{String, Any}[Dict(\"source_id\" => 3718777895, \"target_id\" => 2138760932, \"type\" => \"CurriculumCorequisite\"), Dict(\"source_id\" => 3059602497, \"target_id\" => 2138760932, \"type\" => \"CurriculumCorequisite\"), Dict(\"source_id\" => 2258215799, \"target_id\" => 2138760932, \"type\" => \"CurriculumCorequisite\"), Dict(\"source_id\" => 1051497550, \"target_id\" => 2138760932, \"type\" => \"CurriculumPrerequisite\"), Dict(\"source_id\" => 947037850, \"target_id\" => 2138760932, \"type\" => \"CurriculumCorequisite\")], \"name\" => \"ECE 2201\", \"metrics\" => Dict{String, Any}(\"centrality\" => 677, \"complexity\" => 24.0, \"blocking factor\" => 12, \"delay factor\" => 12.0), \"nameSub\" => \"Circuit Analysis I\", \"id\" => 2138760932, \"credits\" => 3, \"nameCanonical\" => \"\")], \"id\" => 4), Dict(\"name\" => \"Term 5\", \"curriculum_items\" => Dict{String, Any}[Dict(\"curriculum_requisites\" => Dict{String, Any}[], \"name\" => \" \", \"metrics\" => Dict{String, Any}(\"centrality\" => 0, \"complexity\" => 1.0, \"blocking factor\" => 0, \"delay factor\" => 1.0), \"nameSub\" => \"Concentration Elective 6\", \"id\" => 1716266479, \"credits\" => 3, \"nameCanonical\" => \"\"), Dict(\"curriculum_requisites\" => Dict{String, Any}[Dict(\"source_id\" => 2138760932, \"target_id\" => 3887805990, \"type\" => \"CurriculumPrerequisite\")], \"name\" => \"ECE 2202\", \"metrics\" => Dict{String, Any}(\"centrality\" => 393, \"complexity\" => 20.0, \"blocking factor\" => 8, \"delay factor\" => 12.0), \"nameSub\" => \"Circuit Analysis II\", \"id\" => 3887805990, \"credits\" => 3, \"nameCanonical\" => \"\"), Dict(\"curriculum_requisites\" => Dict{String, Any}[Dict(\"source_id\" => 3059602497, \"target_id\" => 1083857781, \"type\" => \"CurriculumPrerequisite\"), Dict(\"source_id\" => 3887805990, \"target_id\" => 1083857781, \"type\" => \"CurriculumCorequisite\")], \"name\" => \"ECE 2100\", \"metrics\" => Dict{String, Any}(\"centrality\" => 295, \"complexity\" => 17.0, \"blocking factor\" => 5, \"delay factor\" => 12.0), \"nameSub\" => \"Circuits Lab\", \"id\" => 1083857781, \"credits\" => 1, \"nameCanonical\" => \"\"), Dict(\"curriculum_requisites\" => Dict{String, Any}[Dict(\"source_id\" => 3195103903, \"target_id\" => 1770099342, \"type\" => \"CurriculumPrerequisite\"), Dict(\"source_id\" => 2138760932, \"target_id\" => 1770099342, \"type\" => \"CurriculumPrerequisite\")], \"name\" => \"ENGI 2304\", \"metrics\" => Dict{String, Any}(\"centrality\" => 159, \"complexity\" => 15.0, \"blocking factor\" => 4, \"delay factor\" => 11.0), \"nameSub\" => \"Technical Communication\", \"id\" => 1770099342, \"credits\" => 3, \"nameCanonical\" => \"\"), Dict(\"curriculum_requisites\" => Dict{String, Any}[Dict(\"source_id\" => 947037850, \"target_id\" => 649106202, \"type\" => \"CurriculumPrerequisite\"), Dict(\"source_id\" => 2138760932, \"target_id\" => 649106202, \"type\" => \"CurriculumPrerequisite\")], \"name\" => \"ECE 3331\", \"metrics\" => Dict{String, Any}(\"centrality\" => 152, \"complexity\" => 14.0, \"blocking factor\" => 4, \"delay factor\" => 10.0), \"nameSub\" => \"Programming Apps in ECE\", \"id\" => 649106202, \"credits\" => 3, \"nameCanonical\" => \"\"), Dict(\"curriculum_requisites\" => Dict{String, Any}[Dict(\"source_id\" => 3887805990, \"target_id\" => 2791403937, \"type\" => \"CurriculumCorequisite\")], \"name\" => \"ECE 3337\", \"metrics\" => Dict{String, Any}(\"centrality\" => 154, \"complexity\" => 15.0, \"blocking factor\" => 4, \"delay factor\" => 11.0), \"nameSub\" => \"Signals & Systems Analysis\", \"id\" => 2791403937, \"credits\" => 3, \"nameCanonical\" => \"\"), Dict(\"curriculum_requisites\" => Dict{String, Any}[Dict(\"source_id\" => 1083857781, \"target_id\" => 4184346648, \"type\" => \"CurriculumCorequisite\"), Dict(\"source_id\" => 649106202, \"target_id\" => 4184346648, \"type\" => \"CurriculumCorequisite\")], \"name\" => \"ECE 3436\", \"metrics\" => Dict{String, Any}(\"centrality\" => 171, \"complexity\" => 13.0, \"blocking factor\" => 2, \"delay factor\" => 11.0), \"nameSub\" => \"Microprocessors\", \"id\" => 4184346648, \"credits\" => 3, \"nameCanonical\" => \"\")], \"id\" => 5), Dict(\"name\" => \"Term 6\", \"curriculum_items\" => Dict{String, Any}[Dict(\"curriculum_requisites\" => Dict{String, Any}[], \"name\" => \" \", \"metrics\" => Dict{String, Any}(\"centrality\" => 0, \"complexity\" => 1.0, \"blocking factor\" => 0, \"delay factor\" => 1.0), \"nameSub\" => \"Concentration Elective 7\", \"id\" => 2584207151, \"credits\" => 3, \"nameCanonical\" => \"\"), Dict(\"curriculum_requisites\" => Dict{String, Any}[Dict(\"source_id\" => 1083857781, \"target_id\" => 1966522372, \"type\" => \"CurriculumPrerequisite\"), Dict(\"source_id\" => 1770099342, \"target_id\" => 1966522372, \"type\" => \"CurriculumPrerequisite\")], \"name\" => \"ECE 3155\", \"metrics\" => Dict{String, Any}(\"centrality\" => 359, \"complexity\" => 15.0, \"blocking factor\" => 3, \"delay factor\" => 12.0), \"nameSub\" => \"Electronics Lab\", \"id\" => 1966522372, \"credits\" => 1, \"nameCanonical\" => \"\"), Dict(\"curriculum_requisites\" => Dict{String, Any}[Dict(\"source_id\" => 1966522372, \"target_id\" => 4165958389, \"type\" => \"CurriculumStrictCorequisite\"), Dict(\"source_id\" => 2791403937, \"target_id\" => 4165958389, \"type\" => \"CurriculumPrerequisite\")], \"name\" => \"ECE 3355\", \"metrics\" => Dict{String, Any}(\"centrality\" => 266, \"complexity\" => 14.0, \"blocking factor\" => 2, \"delay factor\" => 12.0), \"nameSub\" => \"Electronics\", \"id\" => 4165958389, \"credits\" => 3, \"nameCanonical\" => \"\"), Dict(\"curriculum_requisites\" => Dict{String, Any}[Dict(\"source_id\" => 2791403937, \"target_id\" => 2252871414, \"type\" => \"CurriculumPrerequisite\")], \"name\" => \"ECE 3317\", \"metrics\" => Dict{String, Any}(\"centrality\" => 77, \"complexity\" => 13.0, \"blocking factor\" => 2, \"delay factor\" => 11.0), \"nameSub\" => \"Applied EM Waves\", \"id\" => 2252871414, \"credits\" => 3, \"nameCanonical\" => \"\"), Dict(\"curriculum_requisites\" => Dict{String, Any}[Dict(\"source_id\" => 649106202, \"target_id\" => 3368026167, \"type\" => \"CurriculumPrerequisite\")], \"name\" => \"ECE 3340\", \"metrics\" => Dict{String, Any}(\"centrality\" => 76, \"complexity\" => 12.0, \"blocking factor\" => 2, \"delay factor\" => 10.0), \"nameSub\" => \"Numerical Methods\", \"id\" => 3368026167, \"credits\" => 3, \"nameCanonical\" => \"\"), Dict(\"curriculum_requisites\" => Dict{String, Any}[], \"name\" => \" \", \"metrics\" => Dict{String, Any}(\"centrality\" => 0, \"complexity\" => 1.0, \"blocking factor\" => 0, \"delay factor\" => 1.0), \"nameSub\" => \"Creative Arts Core\", \"id\" => 848294223, \"credits\" => 3, \"nameCanonical\" => \"\"), Dict(\"curriculum_requisites\" => Dict{String, Any}[], \"name\" => \" \", \"metrics\" => Dict{String, Any}(\"centrality\" => 0, \"complexity\" => 1.0, \"blocking factor\" => 0, \"delay factor\" => 1.0), \"nameSub\" => \"ECE Elective 1\", \"id\" => 2051928090, \"credits\" => 3, \"nameCanonical\" => \"\")], \"id\" => 6), Dict(\"name\" => \"Term 7\", \"curriculum_items\" => Dict{String, Any}[Dict(\"curriculum_requisites\" => Dict{String, Any}[], \"name\" => \" \", \"metrics\" => Dict{String, Any}(\"centrality\" => 0, \"complexity\" => 1.0, \"blocking factor\" => 0, \"delay factor\" => 1.0), \"nameSub\" => \"ECE Elective 2\", \"id\" => 672829327, \"credits\" => 3, \"nameCanonical\" => \"\"), Dict(\"curriculum_requisites\" => Dict{String, Any}[Dict(\"source_id\" => 1966522372, \"target_id\" => 1337097032, \"type\" => \"CurriculumPrerequisite\"), Dict(\"source_id\" => 4184346648, \"target_id\" => 1337097032, \"type\" => \"CurriculumPrerequisite\"), Dict(\"source_id\" => 3368026167, \"target_id\" => 1337097032, \"type\" => \"CurriculumPrerequisite\"), Dict(\"source_id\" => 2888554139, \"target_id\" => 1337097032, \"type\" => \"CurriculumPrerequisite\"), Dict(\"source_id\" => 4165958389, \"target_id\" => 1337097032, \"type\" => \"CurriculumPrerequisite\"), Dict(\"source_id\" => 3224555476, \"target_id\" => 1337097032, \"type\" => \"CurriculumCorequisite\"), Dict(\"source_id\" => 2252871414, \"target_id\" => 1337097032, \"type\" => \"CurriculumPrerequisite\")], \"name\" => \"ECE 4335\", \"metrics\" => Dict{String, Any}(\"centrality\" => 779, \"complexity\" => 13.0, \"blocking factor\" => 1, \"delay factor\" => 12.0), \"nameSub\" => \"ECE Design I\", \"id\" => 1337097032, \"credits\" => 3, \"nameCanonical\" => \"\"), Dict(\"curriculum_requisites\" => Dict{String, Any}[], \"name\" => \" \", \"metrics\" => Dict{String, Any}(\"centrality\" => 0, \"complexity\" => 1.0, \"blocking factor\" => 0, \"delay factor\" => 1.0), \"nameSub\" => \"Elective Lab 1\", \"id\" => 26700799, \"credits\" => 1, \"nameCanonical\" => \"\"), Dict(\"curriculum_requisites\" => Dict{String, Any}[], \"name\" => \" \", \"metrics\" => Dict{String, Any}(\"centrality\" => 0, \"complexity\" => 1.0, \"blocking factor\" => 0, \"delay factor\" => 1.0), \"nameSub\" => \"Elective Lab 2\", \"id\" => 1296179090, \"credits\" => 1, \"nameCanonical\" => \"\"), Dict(\"curriculum_requisites\" => Dict{String, Any}[], \"name\" => \" \", \"metrics\" => Dict{String, Any}(\"centrality\" => 0, \"complexity\" => 1.0, \"blocking factor\" => 0, \"delay factor\" => 1.0), \"nameSub\" => \"Elective Lab 3\", \"id\" => 3091492697, \"credits\" => 1, \"nameCanonical\" => \"\"), Dict(\"curriculum_requisites\" => Dict{String, Any}[], \"name\" => \" \", \"metrics\" => Dict{String, Any}(\"centrality\" => 0, \"complexity\" => 1.0, \"blocking factor\" => 0, \"delay factor\" => 1.0), \"nameSub\" => \"Elective Lab 4\", \"id\" => 2450156574, \"credits\" => 1, \"nameCanonical\" => \"\"), Dict(\"curriculum_requisites\" => Dict{String, Any}[], \"name\" => \" \", \"metrics\" => Dict{String, Any}(\"centrality\" => 0, \"complexity\" => 1.0, \"blocking factor\" => 0, \"delay factor\" => 1.0), \"nameSub\" => \"Lang., Phil. & Culture Core\", \"id\" => 1626752824, \"credits\" => 3, \"nameCanonical\" => \"\"), Dict(\"curriculum_requisites\" => Dict{String, Any}[], \"name\" => \" \", \"metrics\" => Dict{String, Any}(\"centrality\" => 0, \"complexity\" => 1.0, \"blocking factor\" => 0, \"delay factor\" => 1.0), \"nameSub\" => \"Technical Elective\", \"id\" => 2529896330, \"credits\" => 3, \"nameCanonical\" => \"\")], \"id\" => 7), Dict(\"name\" => \"Term 8\", \"curriculum_items\" => Dict{String, Any}[Dict(\"curriculum_requisites\" => Dict{String, Any}[Dict(\"source_id\" => 1337097032, \"target_id\" => 1158404973, \"type\" => \"CurriculumPrerequisite\")], \"name\" => \"ECE 4336\", \"metrics\" => Dict{String, Any}(\"centrality\" => 0, \"complexity\" => 12.0, \"blocking factor\" => 0, \"delay factor\" => 12.0), \"nameSub\" => \"ECE Design II\", \"id\" => 1158404973, \"credits\" => 3, \"nameCanonical\" => \"\")], \"id\" => 8)], \"institution\" => \"ACME Univ.\")), nothing)), Set{String}(), nothing, WebIO.Asset[], Dict{Any, Any}(), WebIO.ConnectionPool(Channel{Any}(32), Set{WebIO.AbstractConnection}(), Condition(Base.InvasiveLinkedList{Task}(Task (runnable) @0x000000017931b310, Task (runnable) @0x000000017931b310), Base.AlwaysLockedST(1))), WebIO.JSString[])"
      ]
     },
     "execution_count": 5,
     "metadata": {
      "application/vnd.webio.node+json": {
       "kernelId": "03baf36f-77b1-4e7b-af16-f5691a6c766f"
      }
     },
     "output_type": "execute_result"
    }
   ],
   "source": [
    "dp = create_degree_plan(curric, bin_filling, max_terms=8)\n",
    "visualize(dp, notebook=true)"
   ]
  },
  {
   "cell_type": "markdown",
   "metadata": {},
   "source": [
    "Basic metrics associated with the credit hour distribution of this degree plan can be computed as follows:"
   ]
  },
  {
   "cell_type": "code",
   "execution_count": 6,
   "metadata": {},
   "outputs": [
    {
     "name": "stdout",
     "output_type": "stream",
     "text": [
      "\n",
      "Curriculum: A Real EE Program\n",
      "Degree Plan: \n",
      "  total credit hours = 129\n",
      "  number of terms = 8\n",
      "  max. credits in a term = 19, in term 1\n",
      "  min. credits in a term = 3, in term 8\n",
      "  avg. credits per term = 16.125, with std. dev. = 5.085211401701998\n",
      "\n"
     ]
    }
   ],
   "source": [
    "println(String(take!(basic_metrics(dp))))"
   ]
  },
  {
   "cell_type": "markdown",
   "metadata": {},
   "source": [
    "Now, let us consider the creation of degree plans using optimization theory.  We will first consider an objective function that is meant to evenly distrubite course credit hours across the terms in a degree plan.\n",
    "\n",
    "**Balanced curriculum objective.**  The goal of this objective function is to create degree plans that have roughly the same number of credit hours in every term.  This can be expressed as:\n",
    "$$\n",
    "f(x) = \\min \\left( \\sum_{i=1}^m \\sum_{j=1}^m \\left\\vert \\theta_i(x) - \\theta_j(x)\\right\\vert \\right).\n",
    "$$\n",
    "which may be rewritten as a set of linear objective function so that integer linear programming may be applied.\n",
    "\n",
    "The following commands will compute a degree plan for the previous curriculum using this objective function:"
   ]
  },
  {
   "cell_type": "code",
   "execution_count": 7,
   "metadata": {
    "scrolled": false
   },
   "outputs": [
    {
     "ename": "LoadError",
     "evalue": "Gurobi Error 10009: Failed to obtain a valid license",
     "output_type": "error",
     "traceback": [
      "Gurobi Error 10009: Failed to obtain a valid license",
      "",
      "Stacktrace:",
      "  [1] error(s::String)",
      "    @ Base ./error.jl:33",
      "  [2] Gurobi.Env()",
      "    @ Gurobi ~/.julia/packages/Gurobi/Dn7m0/src/MOI_wrapper.jl:89",
      "  [3] Gurobi.Optimizer(env::Nothing; enable_interrupts::Bool, kwargs::Base.Iterators.Pairs{Union{}, Union{}, Tuple{}, NamedTuple{(), Tuple{}}})",
      "    @ Gurobi ~/.julia/packages/Gurobi/Dn7m0/src/MOI_wrapper.jl:254",
      "  [4] Optimizer (repeats 2 times)",
      "    @ ~/.julia/packages/Gurobi/Dn7m0/src/MOI_wrapper.jl:252 [inlined]",
      "  [5] optimize_plan(curric::Curriculum, term_count::Int64, min_cpt::Int64, max_cpt::Int64, objective::Vector{Function}; name::String, fixed_terms::Dict{Course, Int64}, consecutive_terms::Vector{Pair{Course, Course}}, term_range::Dict{Course, Pair{Int64, Int64}}, toxic_courses::Vector{Pair{Course, Course}}, synergistic_courses::Vector{Pair{Course, Course}}, fall_only_courses::Vector{Course}, spring_only_courses::Vector{Course}, prior_courses::Vector{Course}, prior_terms::Vector{Term}, toxicity_dict::Dict{Pair{Course, Course}, Float64}, suppress_output::Bool)",
      "    @ CurricularOptimization ~/.julia/packages/CurricularOptimization/Ih1NZ/src/DegreePlanCreation.jl:86",
      "  [6] #optimize_plan#4",
      "    @ ~/.julia/packages/CurricularOptimization/Ih1NZ/src/DegreePlanCreation.jl:136 [inlined]",
      "  [7] optimize_plan(curric::Curriculum, term_count::Int64, min_cpt::Int64, max_cpt::Int64, objective::Function)",
      "    @ CurricularOptimization ~/.julia/packages/CurricularOptimization/Ih1NZ/src/DegreePlanCreation.jl:134",
      "  [8] top-level scope",
      "    @ In[7]:1",
      "  [9] eval",
      "    @ ./boot.jl:360 [inlined]",
      " [10] include_string(mapexpr::typeof(REPL.softscope), mod::Module, code::String, filename::String)",
      "    @ Base ./loading.jl:1094"
     ]
    }
   ],
   "source": [
    "dp = optimize_plan(curric, 8, 12, 18, balance_obj)\n",
    "visualize(dp, notebook=true)"
   ]
  },
  {
   "cell_type": "code",
   "execution_count": 8,
   "metadata": {},
   "outputs": [
    {
     "name": "stdout",
     "output_type": "stream",
     "text": [
      "\n",
      "Curriculum: A Real EE Program\n",
      "Degree Plan: \n",
      "  total credit hours = 129\n",
      "  number of terms = 8\n",
      "  max. credits in a term = 19, in term 1\n",
      "  min. credits in a term = 3, in term 8\n",
      "  avg. credits per term = 16.125, with std. dev. = 5.085211401701998\n",
      "\n"
     ]
    }
   ],
   "source": [
    "println(String(take!(basic_metrics(dp))))"
   ]
  },
  {
   "cell_type": "markdown",
   "metadata": {},
   "source": [
    "Notice that the credit hours are fairly well balanced across the terms.  In particular, the credit hour standard deviation is reduced from $0.93$ in the naïve plan, to $0.33$ in the balanced plan.  Other aspects of this degree plan, however, are not so desireable.  For instance, notice in the above plan that the laboratory associated with Fundamentals of Chemistry (CHEM 1331) occurs two semsters after the course.  The course occurs in Term 2 while the laboratory is in Term 5. In order to address this issue the following objective function was created.\n",
    "\n",
    "**Requisite distance objective.**  The goal of this objective function is to create degree plans where the pre- and co-requisites for every course $c$ in a curriculum appears as close as possible to the term in which $c$ appears in the degree plan.  Consider a curriculum graph $G = (V,E)$.  The objective function can then be expressed as:\n",
    "\n",
    "$$\n",
    "  f(x) = min\\left( \\left\\vert T_j(x) - T_i(x) \\right\\vert \\right) \\ \\  \\forall e = (i,j) \\in E.\n",
    "$$\n",
    "\n",
    "which may be rewritten as a set of linear objective functions so that integer linear programming may be applied.\n",
    "\n",
    "The following commands will compute a degree plan for the previous curriculum using this objective function:"
   ]
  },
  {
   "cell_type": "code",
   "execution_count": 9,
   "metadata": {
    "scrolled": false
   },
   "outputs": [
    {
     "ename": "LoadError",
     "evalue": "Gurobi Error 10009: Failed to obtain a valid license",
     "output_type": "error",
     "traceback": [
      "Gurobi Error 10009: Failed to obtain a valid license",
      "",
      "Stacktrace:",
      "  [1] error(s::String)",
      "    @ Base ./error.jl:33",
      "  [2] Gurobi.Env()",
      "    @ Gurobi ~/.julia/packages/Gurobi/Dn7m0/src/MOI_wrapper.jl:89",
      "  [3] Gurobi.Optimizer(env::Nothing; enable_interrupts::Bool, kwargs::Base.Iterators.Pairs{Union{}, Union{}, Tuple{}, NamedTuple{(), Tuple{}}})",
      "    @ Gurobi ~/.julia/packages/Gurobi/Dn7m0/src/MOI_wrapper.jl:254",
      "  [4] Optimizer (repeats 2 times)",
      "    @ ~/.julia/packages/Gurobi/Dn7m0/src/MOI_wrapper.jl:252 [inlined]",
      "  [5] optimize_plan(curric::Curriculum, term_count::Int64, min_cpt::Int64, max_cpt::Int64, objective::Vector{Function}; name::String, fixed_terms::Dict{Course, Int64}, consecutive_terms::Vector{Pair{Course, Course}}, term_range::Dict{Course, Pair{Int64, Int64}}, toxic_courses::Vector{Pair{Course, Course}}, synergistic_courses::Vector{Pair{Course, Course}}, fall_only_courses::Vector{Course}, spring_only_courses::Vector{Course}, prior_courses::Vector{Course}, prior_terms::Vector{Term}, toxicity_dict::Dict{Pair{Course, Course}, Float64}, suppress_output::Bool)",
      "    @ CurricularOptimization ~/.julia/packages/CurricularOptimization/Ih1NZ/src/DegreePlanCreation.jl:86",
      "  [6] #optimize_plan#4",
      "    @ ~/.julia/packages/CurricularOptimization/Ih1NZ/src/DegreePlanCreation.jl:136 [inlined]",
      "  [7] optimize_plan(curric::Curriculum, term_count::Int64, min_cpt::Int64, max_cpt::Int64, objective::Function)",
      "    @ CurricularOptimization ~/.julia/packages/CurricularOptimization/Ih1NZ/src/DegreePlanCreation.jl:134",
      "  [8] top-level scope",
      "    @ In[9]:1",
      "  [9] eval",
      "    @ ./boot.jl:360 [inlined]",
      " [10] include_string(mapexpr::typeof(REPL.softscope), mod::Module, code::String, filename::String)",
      "    @ Base ./loading.jl:1094"
     ]
    }
   ],
   "source": [
    "dp = optimize_plan(curric, 8, 12, 19, req_distance_obj);\n",
    "visualize(dp, notebook=true)"
   ]
  },
  {
   "cell_type": "code",
   "execution_count": 10,
   "metadata": {},
   "outputs": [
    {
     "name": "stdout",
     "output_type": "stream",
     "text": [
      "\n",
      "Curriculum: A Real EE Program\n",
      "Degree Plan: \n",
      "  total credit hours = 129\n",
      "  number of terms = 8\n",
      "  max. credits in a term = 19, in term 1\n",
      "  min. credits in a term = 3, in term 8\n",
      "  avg. credits per term = 16.125, with std. dev. = 5.085211401701998\n",
      "\n"
     ]
    }
   ],
   "source": [
    "println(String(take!(basic_metrics(dp))))"
   ]
  },
  {
   "cell_type": "markdown",
   "metadata": {},
   "source": [
    "The pre- and co-requisites assoicated with all courses in this degree plan are now much closer to the courses that require them, but the credit hour variance accross the terms is once gain high (the standard deviation is now 1.83).  This leads to the next approach, which involves using both objective functions.\n",
    "\n",
    "### Multi-Objective Optimization\n",
    "\n",
    "The Curricular Analytics toolbox also supports a multi-objetive framework, allowing more than one objective function to be simultaneously applied while creating degree plans.  For multiple objective functions $f_1(x), f(_2(x), \\ldots$, the mulit-objective optimzation problem can be stated as:\n",
    "$$\n",
    "\\min \\left\\{ f_1(x), \\ f_2(x), \\ldots \\right\\}, \\\\\n",
    "\\mbox{subject to: Constraints} \\ \\ 1-7.\n",
    "$$\n",
    "\n",
    "The `optimize_plan` function is able to make use of multiple objective functions.  In the next example a degree plan is created using both the objective function aimed at balancing credit hours across terms, as well as the objective function that favors keeping pre- and co-requisites close to the classes that require them."
   ]
  },
  {
   "cell_type": "code",
   "execution_count": 11,
   "metadata": {
    "scrolled": false
   },
   "outputs": [
    {
     "ename": "LoadError",
     "evalue": "Gurobi Error 10009: Failed to obtain a valid license",
     "output_type": "error",
     "traceback": [
      "Gurobi Error 10009: Failed to obtain a valid license",
      "",
      "Stacktrace:",
      " [1] error(s::String)",
      "   @ Base ./error.jl:33",
      " [2] Gurobi.Env()",
      "   @ Gurobi ~/.julia/packages/Gurobi/Dn7m0/src/MOI_wrapper.jl:89",
      " [3] Gurobi.Optimizer(env::Nothing; enable_interrupts::Bool, kwargs::Base.Iterators.Pairs{Union{}, Union{}, Tuple{}, NamedTuple{(), Tuple{}}})",
      "   @ Gurobi ~/.julia/packages/Gurobi/Dn7m0/src/MOI_wrapper.jl:254",
      " [4] Optimizer (repeats 2 times)",
      "   @ ~/.julia/packages/Gurobi/Dn7m0/src/MOI_wrapper.jl:252 [inlined]",
      " [5] optimize_plan(curric::Curriculum, term_count::Int64, min_cpt::Int64, max_cpt::Int64, objective::Vector{Function}; name::String, fixed_terms::Dict{Course, Int64}, consecutive_terms::Vector{Pair{Course, Course}}, term_range::Dict{Course, Pair{Int64, Int64}}, toxic_courses::Vector{Pair{Course, Course}}, synergistic_courses::Vector{Pair{Course, Course}}, fall_only_courses::Vector{Course}, spring_only_courses::Vector{Course}, prior_courses::Vector{Course}, prior_terms::Vector{Term}, toxicity_dict::Dict{Pair{Course, Course}, Float64}, suppress_output::Bool)",
      "   @ CurricularOptimization ~/.julia/packages/CurricularOptimization/Ih1NZ/src/DegreePlanCreation.jl:86",
      " [6] optimize_plan(curric::Curriculum, term_count::Int64, min_cpt::Int64, max_cpt::Int64, objective::Vector{Function})",
      "   @ CurricularOptimization ~/.julia/packages/CurricularOptimization/Ih1NZ/src/DegreePlanCreation.jl:81",
      " [7] top-level scope",
      "   @ In[11]:1",
      " [8] eval",
      "   @ ./boot.jl:360 [inlined]",
      " [9] include_string(mapexpr::typeof(REPL.softscope), mod::Module, code::String, filename::String)",
      "   @ Base ./loading.jl:1094"
     ]
    }
   ],
   "source": [
    "dp = optimize_plan(curric, 8, 12, 19, [balance_obj, req_distance_obj]);\n",
    "visualize(dp, notebook=true)"
   ]
  },
  {
   "cell_type": "code",
   "execution_count": 12,
   "metadata": {},
   "outputs": [
    {
     "name": "stdout",
     "output_type": "stream",
     "text": [
      "\n",
      "Curriculum: A Real EE Program\n",
      "Degree Plan: \n",
      "  total credit hours = 129\n",
      "  number of terms = 8\n",
      "  max. credits in a term = 19, in term 1\n",
      "  min. credits in a term = 3, in term 8\n",
      "  avg. credits per term = 16.125, with std. dev. = 5.085211401701998\n",
      "\n"
     ]
    }
   ],
   "source": [
    "println(String(take!(basic_metrics(dp))))"
   ]
  },
  {
   "cell_type": "markdown",
   "metadata": {},
   "source": [
    "Here we have a degree plan where the credit hours are evenly balanced across the terms, and the total distance between pre- and co-requisites and the courses that require them is small.  "
   ]
  },
  {
   "cell_type": "markdown",
   "metadata": {},
   "source": [
    "**Toxic course combination avoidance objective.**  For some students, it is the case that certain courses have a toxic impact on other courses in the curriculum if they are taken together in the same term.  That is, course $a$ has a toxic impact on course $b$ if a student is less likely to pass course $b$ if it is taken in the same term as course $a$.  The goal of this objective function is to schedule courses so that toxic course combinations do not appear in the same term in the degree plan.\n",
    "\n",
    "Let $-1 \\leq \\aleph_{ij} \\leq 1$ denote the toxic impact that course $i$ has on course $j$ if they are taken together in the same term.  (Note: negative values of $\\aleph_{ij}$ actually indicate that course $i$ has a synergistic impact on course $j$.) A quadratic objective function for toxic course avoidance can then be expressed as:\n",
    "\n",
    "$$\n",
    "f(x) = \\min \\left( \\sum_{t=1}^m \\sum_{i=1}^n \\sum_{j=1}^n  \\aleph_{ij} \\cdot x_{it} \\cdot x_{jt} \\right).\n",
    "$$"
   ]
  },
  {
   "cell_type": "code",
   "execution_count": 13,
   "metadata": {},
   "outputs": [],
   "source": [
    "curric = convert_ids(curric)\n",
    "toxic = Array{Pair{Course,Course},1}()\n",
    "# Physics I is toxic to Calculus I\n",
    "push!(toxic, course(curric, \"PHYS\", \"1321\", \"University Physics I\", \"ACME Univ.\") => course(curric, \"MATH\", \"1431\", \"Calculus I\", \"ACME Univ.\"))\n",
    "# Fundamentals of Chemistry is toxic to Calculus I\n",
    "push!(toxic, course(curric, \"CHEM\", \"1331\", \"Fund. of Chemistry\", \"ACME Univ.\") => course(curric, \"MATH\", \"1431\", \"Calculus I\", \"ACME Univ.\"))\n",
    "# Calculus III is toxic to Engineering Math\n",
    "push!(toxic, course(curric, \"MATH\", \"2433\", \"Calculus III\", \"ACME Univ.\") => course(curric, \"MATH\", \"3321\", \"Engineering Math\", \"ACME Univ.\"));"
   ]
  },
  {
   "cell_type": "code",
   "execution_count": 14,
   "metadata": {},
   "outputs": [
    {
     "ename": "LoadError",
     "evalue": "Gurobi Error 10009: Failed to obtain a valid license",
     "output_type": "error",
     "traceback": [
      "Gurobi Error 10009: Failed to obtain a valid license",
      "",
      "Stacktrace:",
      " [1] error(s::String)",
      "   @ Base ./error.jl:33",
      " [2] Gurobi.Env()",
      "   @ Gurobi ~/.julia/packages/Gurobi/Dn7m0/src/MOI_wrapper.jl:89",
      " [3] Gurobi.Optimizer(env::Nothing; enable_interrupts::Bool, kwargs::Base.Iterators.Pairs{Union{}, Union{}, Tuple{}, NamedTuple{(), Tuple{}}})",
      "   @ Gurobi ~/.julia/packages/Gurobi/Dn7m0/src/MOI_wrapper.jl:254",
      " [4] Optimizer (repeats 2 times)",
      "   @ ~/.julia/packages/Gurobi/Dn7m0/src/MOI_wrapper.jl:252 [inlined]",
      " [5] optimize_plan(curric::Curriculum, term_count::Int64, min_cpt::Int64, max_cpt::Int64, objective::Vector{Function}; name::String, fixed_terms::Dict{Course, Int64}, consecutive_terms::Vector{Pair{Course, Course}}, term_range::Dict{Course, Pair{Int64, Int64}}, toxic_courses::Vector{Pair{Course, Course}}, synergistic_courses::Vector{Pair{Course, Course}}, fall_only_courses::Vector{Course}, spring_only_courses::Vector{Course}, prior_courses::Vector{Course}, prior_terms::Vector{Term}, toxicity_dict::Dict{Pair{Course, Course}, Float64}, suppress_output::Bool)",
      "   @ CurricularOptimization ~/.julia/packages/CurricularOptimization/Ih1NZ/src/DegreePlanCreation.jl:86",
      " [6] top-level scope",
      "   @ In[14]:1",
      " [7] eval",
      "   @ ./boot.jl:360 [inlined]",
      " [8] include_string(mapexpr::typeof(REPL.softscope), mod::Module, code::String, filename::String)",
      "   @ Base ./loading.jl:1094"
     ]
    }
   ],
   "source": [
    "dp = optimize_plan(curric, 8, 12, 19, [balance_obj, req_distance_obj], toxic_courses=toxic);\n",
    "visualize(dp, notebook=true)"
   ]
  },
  {
   "cell_type": "code",
   "execution_count": 15,
   "metadata": {},
   "outputs": [
    {
     "name": "stdout",
     "output_type": "stream",
     "text": [
      "\n",
      "Curriculum: A Real EE Program\n",
      "Degree Plan: \n",
      "  total credit hours = 129\n",
      "  number of terms = 8\n",
      "  max. credits in a term = 19, in term 1\n",
      "  min. credits in a term = 3, in term 8\n",
      "  avg. credits per term = 16.125, with std. dev. = 5.085211401701998\n",
      "\n"
     ]
    }
   ],
   "source": [
    "println(String(take!(basic_metrics(dp))))"
   ]
  },
  {
   "cell_type": "code",
   "execution_count": 16,
   "metadata": {},
   "outputs": [
    {
     "ename": "LoadError",
     "evalue": "Gurobi Error 10009: Failed to obtain a valid license",
     "output_type": "error",
     "traceback": [
      "Gurobi Error 10009: Failed to obtain a valid license",
      "",
      "Stacktrace:",
      " [1] error(s::String)",
      "   @ Base ./error.jl:33",
      " [2] Gurobi.Env()",
      "   @ Gurobi ~/.julia/packages/Gurobi/Dn7m0/src/MOI_wrapper.jl:89",
      " [3] Gurobi.Optimizer(env::Nothing; enable_interrupts::Bool, kwargs::Base.Iterators.Pairs{Union{}, Union{}, Tuple{}, NamedTuple{(), Tuple{}}})",
      "   @ Gurobi ~/.julia/packages/Gurobi/Dn7m0/src/MOI_wrapper.jl:254",
      " [4] Optimizer (repeats 2 times)",
      "   @ ~/.julia/packages/Gurobi/Dn7m0/src/MOI_wrapper.jl:252 [inlined]",
      " [5] optimize_plan(curric::Curriculum, term_count::Int64, min_cpt::Int64, max_cpt::Int64, objective::Vector{Function}; name::String, fixed_terms::Dict{Course, Int64}, consecutive_terms::Vector{Pair{Course, Course}}, term_range::Dict{Course, Pair{Int64, Int64}}, toxic_courses::Vector{Pair{Course, Course}}, synergistic_courses::Vector{Pair{Course, Course}}, fall_only_courses::Vector{Course}, spring_only_courses::Vector{Course}, prior_courses::Vector{Course}, prior_terms::Vector{Term}, toxicity_dict::Dict{Pair{Course, Course}, Float64}, suppress_output::Bool)",
      "   @ CurricularOptimization ~/.julia/packages/CurricularOptimization/Ih1NZ/src/DegreePlanCreation.jl:86",
      " [6] top-level scope",
      "   @ In[16]:3",
      " [7] eval",
      "   @ ./boot.jl:360 [inlined]",
      " [8] include_string(mapexpr::typeof(REPL.softscope), mod::Module, code::String, filename::String)",
      "   @ Base ./loading.jl:1094"
     ]
    }
   ],
   "source": [
    "rng = Dict{Course, Pair{Int,Int}}()\n",
    "rng[course(curric, \"CHEM\", \"1331\", \"Fund. of Chemistry\", \"ACME Univ.\")] = 1=>4\n",
    "dp = optimize_plan(curric, 8, 12, 19, [balance_obj, req_distance_obj], toxic_courses=toxic, term_range=rng);\n",
    "visualize(dp, notebook=true)"
   ]
  },
  {
   "cell_type": "code",
   "execution_count": 17,
   "metadata": {},
   "outputs": [
    {
     "name": "stdout",
     "output_type": "stream",
     "text": [
      "\n",
      "Curriculum: A Real EE Program\n",
      "Degree Plan: \n",
      "  total credit hours = 129\n",
      "  number of terms = 8\n",
      "  max. credits in a term = 19, in term 1\n",
      "  min. credits in a term = 3, in term 8\n",
      "  avg. credits per term = 16.125, with std. dev. = 5.085211401701998\n",
      "\n"
     ]
    }
   ],
   "source": [
    "println(String(take!(basic_metrics(dp))))"
   ]
  }
 ],
 "metadata": {
  "@webio": {
   "lastCommId": "f71f1295905e45079459e676f0382d0e",
   "lastKernelId": "03baf36f-77b1-4e7b-af16-f5691a6c766f"
  },
  "kernelspec": {
   "display_name": "Julia 1.6.0",
   "language": "julia",
   "name": "julia-1.6"
  },
  "language_info": {
   "file_extension": ".jl",
   "mimetype": "application/julia",
   "name": "julia",
   "version": "1.6.0"
  }
 },
 "nbformat": 4,
 "nbformat_minor": 2
}
