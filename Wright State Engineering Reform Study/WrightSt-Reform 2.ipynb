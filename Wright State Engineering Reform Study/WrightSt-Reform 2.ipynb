{
 "cells": [
  {
   "cell_type": "markdown",
   "metadata": {},
   "source": [
    "# <center>Adapting Electrical Engineering Curricula to Incoming Student Preparation</center>\n",
    "\n",
    "<center>\n",
    "    <b>Gregory L. Heileman</b> <br>\n",
    "    Department of Electrical & Computer Engineering <br>\n",
    "    Univeristy of Arizaon <br>\n",
    "    heileman@arizona.edu\n",
    "</center>\n",
    "\n",
    "## Introduction\n",
    "In this notebook we investigate, using curricular analytics, the impact of student prepartion on progression through engineering programs.  We then consider how the curricular reforms implemented by the College of Engineering at Wright St. University facilitate student progression.  This analysis is specific to the Electrical Engineering (EE) programs; however, it is broadly applicable to engineering undergraduate programs at any institution. \n",
    "\n",
    "This analysis will make use of the Curricular Analytics toolbox (see <cite data-cite=\"he:18\">Heileman, et. al, (2018)</cite> and <cite data-cite=\"he:18\">Heileman, et. al. (2019)</cite>) for detailed documentation about this toolbox), a Julia programming language package created to support the study of university curricula.  The following commands will install the toolbox: "
   ]
  },
  {
   "cell_type": "code",
   "execution_count": null,
   "metadata": {},
   "outputs": [],
   "source": [
    "using CurricularAnalytics, CurricularVisualization"
   ]
  },
  {
   "cell_type": "markdown",
   "metadata": {},
   "source": [
    "## Complexity of Electrical Engineering Programs\n",
    "First consider an example electrical engineering curriculum, in particular, the one offered by <cite data-cite=\"\">University of Kentucky, (2018)</cite>.  The degree plan associated with this curriculum has been stored in a comma separated values (CSV) file entitled UKY_EE_plan.csv. The required file format is described in the Curricular Analtyics toolbox documentation set <cite data-cite=\"\">(Heileman et al., 2019)</cite>.  The following toolbox commands will read, analyze and produce a visualization of the degree plan stored in the CSV file:"
   ]
  },
  {
   "cell_type": "code",
   "execution_count": null,
   "metadata": {},
   "outputs": [],
   "source": [
    "visualize(read_csv(\"UKY_EE_plan.csv\"), notebook=true)"
   ]
  },
  {
   "cell_type": "markdown",
   "metadata": {},
   "source": [
    "In the figure above, if you hover over *EE 211 - Circuits I* in the third term, you will see that this course is on a path of length 8 (this determines the delay factor metric shown in the figure), there are eight course that serve as pre- or co-requisites courses that must be completed before a student may take Circuit Analysis I, and Circuit Analysis I \"blocks\" twelve other courses in the curriculum (i.e., these courses cannot be attempted until Circuit Analysis I has been successfully completed).  Thus, Circuit Analysis I is a very important course in this curriculum.  Another way to say this is that Circuit Analysis I is central to the curriculum.  Indeed, it is course with the highest centrality factor in the curriculum.  The centrality factor is measure of how many course prerequisite pathways include a given course. For more information on these measures, see <cite data-cite=\"he2018\">(Heileman, et al., 2018)</cite>.\n",
    "\n",
    "Below is another example example electrical engineering curriculum; in this case the one offered by the <cite data-cite=\"\">University of Houston (2018)</cite>."
   ]
  },
  {
   "cell_type": "code",
   "execution_count": null,
   "metadata": {},
   "outputs": [],
   "source": [
    "include(\"UH_EE_curric.jl\")\n",
    "visualize(dp; notebook=true)"
   ]
  },
  {
   "cell_type": "markdown",
   "metadata": {},
   "source": [
    "Notice once again that the Circuit Analysis I course in the third term is the course with the highest centrality in the curriculum. The overall complexity of this curriculum is 487, computed as the total amount of the delay and blocking factors associated with all courses in the curriculum.\n",
    "\n",
    "Let us consider one more electrical engineering program, in this case the one offered by  <cite data-cite=\"\">Cornell University (2018)</cite>."
   ]
  },
  {
   "cell_type": "code",
   "execution_count": null,
   "metadata": {
    "scrolled": false
   },
   "outputs": [],
   "source": [
    "visualize(read_csv(\"Cornell_EE_plan.csv\"), notebook=true, scale = 0.9)"
   ]
  },
  {
   "cell_type": "markdown",
   "metadata": {},
   "source": [
    "Once again, the Circuits I course (called Intro. to Circuits in this curriculum) is the most central course in the curriculum; however, note that its centrality factor is much lower, as are its delay and blocking factors. The complexity of this curriculum is the minimum of the three we have considered.\n",
    "\n",
    "It is interesting to note that the three programs shown above have identical ABET accreditation. This means that each program satisfies the same eleven ABET program learning outcomes.  Thus, from the perspective of ABET, each program is of sufficient quality that the engineers they produce should be prepared to have successful careers. Even though these programs are identically accredited with identical program learning outcomes, it is readily apparent that their structures are quite dissimilar.  A more detailed look at the differneces between the curricular complexities of various electrical engineerig programs, and how this relates to program quality, is considered in a companion notebook (see <cite data-cite=\"he:18\">Thompson, et. al, (2019)</cite>)."
   ]
  },
  {
   "cell_type": "markdown",
   "metadata": {},
   "source": [
    "## Curricular Design Patterns\n",
    "Even though the three curricula consider above have dissimilar structures (and therefore complexities), they do share a common pattern of courses involving Circuits I, which appears to be one of the most important courses in an electrical engineering curriculum.  Indeed, we argue that nearly every bachelor's-level electrical engineering program has a pattern in their curriculm that involves:\n",
    "1. Mathematics through Differential Equations, which then serves as a pre- or co-requisite for Circuits I,\n",
    "2. Physics, including associated laboratories, through Physics II, which then serves as a pre- or co-requisite for Circuits I, and\n",
    "3. A Circuits II or similar course that builds upon Circuits I.\n",
    "\n",
    "We may depict this set of requirements as a generic *curricular design pattern* for Circuits I, as shown below.\n"
   ]
  },
  {
   "cell_type": "code",
   "execution_count": null,
   "metadata": {},
   "outputs": [],
   "source": [
    "visualize(read_csv(\"EE-CalculusReady.csv\"), notebook=true, scale=0.7)"
   ]
  },
  {
   "cell_type": "markdown",
   "metadata": {},
   "source": [
    "## Circuit I Design Pattern - Adapted According to Preparation\n",
    "To learn more about the curricular reforms implemented at Wright St. University, see <cite data-cite=\"kl:13\">Klingbiel et al., (2013)</cite>"
   ]
  },
  {
   "cell_type": "code",
   "execution_count": null,
   "metadata": {},
   "outputs": [],
   "source": [
    "visualize(read_csv(\"UKY_EE_plan_basic_math.csv\"), notebook=true)"
   ]
  },
  {
   "cell_type": "markdown",
   "metadata": {},
   "source": [
    "### Analyzing the Curricular Design Pattern\n",
    "\n",
    "#### The pattern for Calculus I ready students. \n",
    "In the design pattern displayed above, for an electrical engineering program, notice that the assumption is that students enter Calculus I ready, and that if they are able to successfully complete all of the prerequisite courses, they will be able to take Circuits I (a foundational electrical engineering course) in the second semester of their sophomore year. Notice that the overall curricular complexity of this design pattern is ?.\n",
    "\n",
    "#### The pattern for Precalculus ready students.\n",
    "Now let's look at what happens to students who are not Calculus I ready when they enter the institution -- let's assume instead that they are Precalculus ready.  The curricular complexity increases to ?."
   ]
  },
  {
   "cell_type": "code",
   "execution_count": null,
   "metadata": {
    "scrolled": false
   },
   "outputs": [],
   "source": [
    "visualize(read_csv(\"EE-PrecalculusReady.csv\"), notebook=true, scale=0.8)"
   ]
  },
  {
   "cell_type": "markdown",
   "metadata": {},
   "source": [
    "#### The pattern for College Algebra ready students.\n",
    "Now let's look at what happens to students who are not Precalculus ready when they enter the institution -- let's assume instead that they are College Algebra ready. Notice that the longest path through the design pattern is growing, and that due to the prerequisite structure there is limited opportunity to move courses around.  The curricular complexity is now ?. "
   ]
  },
  {
   "cell_type": "code",
   "execution_count": null,
   "metadata": {},
   "outputs": [],
   "source": [
    "visualize(read_csv(\"EE-AlgebraReady.csv\"), notebook=true, scale=0.8)"
   ]
  },
  {
   "cell_type": "markdown",
   "metadata": {},
   "source": [
    "#### The pattern for Foundational Math students\n",
    "Finally let's look at what happens to students who enter the institution starting with Foundational Math.  The curricular complexity is now ?. "
   ]
  },
  {
   "cell_type": "code",
   "execution_count": null,
   "metadata": {},
   "outputs": [],
   "source": [
    "visualize(read_csv(\"EE-FoundationalMath.csv\"), notebook=true, scale=0.8)"
   ]
  },
  {
   "cell_type": "markdown",
   "metadata": {},
   "source": [
    "### Wright State University Reform\n",
    "A reformed curriculum was implemented at Wright State University.  The key factor enabling this innovation is that fact that a typical Circuits I course only requires the ability to solve first order differential equations, and that it's possible to teach basic concepts regarding first order differential equations, as well as solution techniques, to students prior to taking Calculus I.  At Wright State University, this knowledge is imparted in the Engineering 101 class in the very first semester.  Here's what the reformed curriculum looks like:"
   ]
  },
  {
   "cell_type": "code",
   "execution_count": null,
   "metadata": {},
   "outputs": [],
   "source": [
    "visualize(read_csv(\"EE-Reformed.csv\"), notebook=true, scale=0.8)"
   ]
  },
  {
   "cell_type": "markdown",
   "metadata": {},
   "source": [
    "## References\n",
    "Accreditation Board for Engineering and Technology (ABET) (2017). Criteria for Accrediting Engineering Programs: Effective for Reviews During the 2017–2018 Accreditation Cycle. www.abet.org.\n",
    "\n",
    "Cornell University, Electrical and Computer Engineering, Program Requirements, (accessed August 10, 2018). www.ece.cornell.edu/ece/programs/undergraduate-programs/majors/program-requirements.\n",
    "\n",
    "Heileman, G. L., Abdallah, C.T., Slim, A., and Hickman, M. (2018). Curricular analytics: A framework for quantifying the impact of curricular reforms and pedagogical innovations. www.arXiv.org, arXiv:1811.09676 [cs.CY].\n",
    "\n",
    "Heileman, G. L., Free, H. W., Abar, O. and Thompson-Arjona, W. G, (2019). CurricularAnalytics.jl Toolbox. https://github.com/heileman/CurricularAnalytics.jl.\n",
    "\n",
    "Klingbeil, N. W., and Bourne, A. (2015). The Wright State model for engineering mathematics education: Longitudinal impact on initially underprepared students. In *Proceedings of the 122nd ASEE Annual Conference*, Seattle, WA.\n",
    "\n",
    "University of Houston, Electrical and Computer Engineering, Program Requirements, 2017-18 Undergradaute Catalog, (accessed August 10, 2018). http://publications.uh.edu/index.php?catoid=25.\n",
    "\n",
    "University of Kentucky, College of Engineering, Electrical Engineering Program, (accessed August 10, 2018). https://www.engr.uky.edu/research-faculty/departments/electrical-computer-engineering/students/undergraduate/electrical."
   ]
  }
 ],
 "metadata": {
  "@webio": {
   "lastCommId": "12787c52338547a88fb65d2894f1fcd4",
   "lastKernelId": "5e3db0a7-2a60-44b2-a8e3-4bd56fdb691a"
  },
  "kernelspec": {
   "display_name": "Julia 1.5.0",
   "language": "julia",
   "name": "julia-1.5"
  },
  "language_info": {
   "file_extension": ".jl",
   "mimetype": "application/julia",
   "name": "julia",
   "version": "1.1.1"
  }
 },
 "nbformat": 4,
 "nbformat_minor": 2
}
