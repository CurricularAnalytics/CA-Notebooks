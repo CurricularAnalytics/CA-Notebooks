{
 "cells": [
  {
   "cell_type": "markdown",
   "metadata": {},
   "source": [
    "# <center>Adapting Electrical Engineering Curricula to Incoming Student Preparation</center>\n",
    "\n",
    "<center>\n",
    "    <b>Gregory L. Heileman</b> <br>\n",
    "    Department of Electrical & Computer Engineering <br>\n",
    "    Univeristy of Arizaon <br>\n",
    "    heileman@arizona.edu\n",
    "</center>\n",
    "\n",
    "## Introduction\n",
    "In this notebook we investigate, using curricular analytics, the impact of student prepartion on progression through engineering programs.  We then consider how the curricular reforms implemented by the College of Engineering at Wright St. University facilitate student progression.  This analysis is specific to the Electrical Engineering (EE) programs; however, it is broadly applicable to engineering undergraduate programs at any institution. \n",
    "\n",
    "This analysis will make use of the Curricular Analytics toolbox (see <cite data-cite=\"he:18\">Heileman, et. al, (2018)</cite> and <cite data-cite=\"he:18\">Heileman, et. al. (2019)</cite>) for detailed documentation about this toolbox), a Julia programming language package created to support the study of university curricula.  The following commands will install the toolbox: "
   ]
  },
  {
   "cell_type": "code",
   "execution_count": 1,
   "metadata": {},
   "outputs": [
    {
     "data": {
      "text/html": [
       "<script>\n",
       "// Immediately-invoked-function-expression to avoid global variables.\n",
       "(function() {\n",
       "    var warning_div = document.getElementById(\"webio-warning-11514007291769356814\");\n",
       "    var hide = function () {\n",
       "        var script = document.getElementById(\"webio-setup-15604683797681035979\");\n",
       "        var parent = script && script.parentElement;\n",
       "        var grandparent = parent && parent.parentElement;\n",
       "        if (grandparent) {\n",
       "            grandparent.style.display = \"none\";\n",
       "        }\n",
       "        warning_div.style.display = \"none\";\n",
       "    };\n",
       "    if (typeof Jupyter !== \"undefined\") {\n",
       "        console.log(\"WebIO detected Jupyter notebook environment.\");\n",
       "        // Jupyter notebook.\n",
       "        var extensions = (\n",
       "            Jupyter\n",
       "            && Jupyter.notebook.config.data\n",
       "            && Jupyter.notebook.config.data.load_extensions\n",
       "        );\n",
       "        if (extensions && extensions[\"webio-jupyter-notebook\"]) {\n",
       "            // Extension already loaded.\n",
       "            console.log(\"Jupyter WebIO nbextension detected; not loading ad-hoc.\");\n",
       "            hide();\n",
       "            return;\n",
       "        }\n",
       "    } else if (window.location.pathname.includes(\"/lab\")) {\n",
       "        // Guessing JupyterLa\n",
       "        console.log(\"Jupyter Lab detected; make sure the @webio/jupyter-lab-provider labextension is installed.\");\n",
       "        hide();\n",
       "        return;\n",
       "    }\n",
       "})();\n",
       "\n",
       "</script>\n",
       "<p\n",
       "    id=\"webio-warning-11514007291769356814\"\n",
       "    class=\"output_text output_stderr\"\n",
       "    style=\"padding: 1em; font-weight: bold;\"\n",
       ">\n",
       "    Unable to load WebIO. Please make sure WebIO works for your Jupyter client.\n",
       "    For troubleshooting, please see <a href=\"https://juliagizmos.github.io/WebIO.jl/latest/providers/ijulia/\">\n",
       "    the WebIO/IJulia documentation</a>.\n",
       "    <!-- TODO: link to installation docs. -->\n",
       "</p>\n"
      ],
      "text/plain": [
       "HTML{String}(\"<script>\\n// Immediately-invoked-function-expression to avoid global variables.\\n(function() {\\n    var warning_div = document.getElementById(\\\"webio-warning-11514007291769356814\\\");\\n    var hide = function () {\\n        var script = document.getElementById(\\\"webio-setup-15604683797681035979\\\");\\n        var parent = script && script.parentElement;\\n        var grandparent = parent && parent.parentElement;\\n        if (grandparent) {\\n            grandparent.style.display = \\\"none\\\";\\n        }\\n        warning_div.style.display = \\\"none\\\";\\n    };\\n    if (typeof Jupyter !== \\\"undefined\\\") {\\n        console.log(\\\"WebIO detected Jupyter notebook environment.\\\");\\n        // Jupyter notebook.\\n        var extensions = (\\n            Jupyter\\n            && Jupyter.notebook.config.data\\n            && Jupyter.notebook.config.data.load_extensions\\n        );\\n        if (extensions && extensions[\\\"webio-jupyter-notebook\\\"]) {\\n            // Extension already loaded.\\n            console.log(\\\"Jupyter WebIO nbextension detected; not loading ad-hoc.\\\");\\n            hide();\\n            return;\\n        }\\n    } else if (window.location.pathname.includes(\\\"/lab\\\")) {\\n        // Guessing JupyterLa\\n        console.log(\\\"Jupyter Lab detected; make sure the @webio/jupyter-lab-provider labextension is installed.\\\");\\n        hide();\\n        return;\\n    }\\n})();\\n\\n</script>\\n<p\\n    id=\\\"webio-warning-11514007291769356814\\\"\\n    class=\\\"output_text output_stderr\\\"\\n    style=\\\"padding: 1em; font-weight: bold;\\\"\\n>\\n    Unable to load WebIO. Please make sure WebIO works for your Jupyter client.\\n    For troubleshooting, please see <a href=\\\"https://juliagizmos.github.io/WebIO.jl/latest/providers/ijulia/\\\">\\n    the WebIO/IJulia documentation</a>.\\n    <!-- TODO: link to installation docs. -->\\n</p>\\n\")"
      ]
     },
     "metadata": {},
     "output_type": "display_data"
    }
   ],
   "source": [
    "using CurricularAnalytics, CurricularVisualization"
   ]
  },
  {
   "cell_type": "markdown",
   "metadata": {},
   "source": [
    "## Complexity of Electrical Engineering Programs\n",
    "First consider an example electrical engineering curriculum, in particular, the one offered by <cite data-cite=\"\">University of Kentucky, (2018)</cite>.  The degree plan associated with this curriculum has been stored in a comma separated values (CSV) file entitled UKY_EE_plan.csv. The required file format is described in the Curricular Analtyics toolbox documentation set <cite data-cite=\"\">(Heileman et al., 2019)</cite>.  The following toolbox commands will read, analyze and produce a visualization of the degree plan stored in the CSV file:"
   ]
  },
  {
   "cell_type": "code",
   "execution_count": 2,
   "metadata": {},
   "outputs": [
    {
     "data": {
      "application/vnd.webio.node+json": {
       "children": [
        {
         "children": [
          ""
         ],
         "instanceArgs": {
          "namespace": "html",
          "tag": "iframe"
         },
         "nodeType": "DOM",
         "props": {
          "events": {
           "load": "(function (){this.contentWindow.postMessage({\"options\":{\"hideTerms\":false,\"edit\":false},\"curriculum\":{\"name\":\"University of Kentucky EE Program\",\"dp_name\":\"University of Kentucky EE Program 4-year Plan\",\"curriculum_terms\":[{\"name\":\"Term 1\",\"curriculum_items\":[{\"curriculum_requisites\":[],\"name\":\"EGR 101\",\"metrics\":{\"centrality\":0,\"complexity\":1.0,\"blocking factor\":0,\"delay factor\":1.0},\"nameSub\":\"Engineering Exploration I\",\"id\":2071595408,\"credits\":1,\"nameCanonical\":\"\"},{\"curriculum_requisites\":[],\"name\":\"EGR 102\",\"metrics\":{\"centrality\":0,\"complexity\":6.0,\"blocking factor\":3,\"delay factor\":3.0},\"nameSub\":\"Fundamentals of Engineering Computing\",\"id\":502542156,\"credits\":2,\"nameCanonical\":\"\"},{\"curriculum_requisites\":[{\"source_id\":3389674827,\"target_id\":2865398329,\"type\":\"CurriculumCorequisite\"}],\"name\":\"PHY 231\",\"metrics\":{\"centrality\":62,\"complexity\":17.0,\"blocking factor\":10,\"delay factor\":7.0},\"nameSub\":\"General University Physics\",\"id\":2865398329,\"credits\":4,\"nameCanonical\":\"\"},{\"curriculum_requisites\":[{\"source_id\":2865398329,\"target_id\":746915474,\"type\":\"CurriculumCorequisite\"}],\"name\":\"PHY 241\",\"metrics\":{\"centrality\":0,\"complexity\":3.0,\"blocking factor\":0,\"delay factor\":3.0},\"nameSub\":\"General University Physics Lab\",\"id\":746915474,\"credits\":1,\"nameCanonical\":\"\"},{\"curriculum_requisites\":[],\"name\":\"CIS/WRD 110\",\"metrics\":{\"centrality\":0,\"complexity\":3.0,\"blocking factor\":1,\"delay factor\":2.0},\"nameSub\":\"Composition and Communication I\",\"id\":858428248,\"credits\":3,\"nameCanonical\":\"\"},{\"curriculum_requisites\":[],\"name\":\"MA 113\",\"metrics\":{\"centrality\":0,\"complexity\":23.0,\"blocking factor\":15,\"delay factor\":8.0},\"nameSub\":\"Calculus I\",\"id\":3389674827,\"credits\":4,\"nameCanonical\":\"\"}],\"id\":1},{\"name\":\"Term 2\",\"curriculum_items\":[{\"curriculum_requisites\":[{\"source_id\":2865398329,\"target_id\":1123828828,\"type\":\"CurriculumCorequisite\"},{\"source_id\":502542156,\"target_id\":1123828828,\"type\":\"CurriculumPrerequisite\"},{\"source_id\":738464693,\"target_id\":1123828828,\"type\":\"CurriculumCorequisite\"},{\"source_id\":3389674827,\"target_id\":1123828828,\"type\":\"CurriculumCorequisite\"}],\"name\":\"EGR 103\",\"metrics\":{\"centrality\":0,\"complexity\":3.0,\"blocking factor\":0,\"delay factor\":3.0},\"nameSub\":\"Engineering Exploration II\",\"id\":1123828828,\"credits\":2,\"nameCanonical\":\"\"},{\"curriculum_requisites\":[{\"source_id\":858428248,\"target_id\":3660518225,\"type\":\"CurriculumPrerequisite\"}],\"name\":\"CIS/WRD 111\",\"metrics\":{\"centrality\":0,\"complexity\":2.0,\"blocking factor\":0,\"delay factor\":2.0},\"nameSub\":\"Composition and Communication II\",\"id\":3660518225,\"credits\":3,\"nameCanonical\":\"\"},{\"curriculum_requisites\":[{\"source_id\":3389674827,\"target_id\":2966989896,\"type\":\"CurriculumPrerequisite\"}],\"name\":\"MA 114\",\"metrics\":{\"centrality\":102,\"complexity\":19.0,\"blocking factor\":11,\"delay factor\":8.0},\"nameSub\":\"Calculus II\",\"id\":2966989896,\"credits\":4,\"nameCanonical\":\"\"},{\"curriculum_requisites\":[],\"name\":\"CHE 105\",\"metrics\":{\"centrality\":0,\"complexity\":3.0,\"blocking factor\":1,\"delay factor\":2.0},\"nameSub\":\"General College Chemistry I\",\"id\":738464693,\"credits\":4,\"nameCanonical\":\"\"},{\"curriculum_requisites\":[],\"name\":\" \",\"metrics\":{\"centrality\":0,\"complexity\":1.0,\"blocking factor\":0,\"delay factor\":1.0},\"nameSub\":\"UK Core - Social Sciences\",\"id\":1586162741,\"credits\":3,\"nameCanonical\":\"\"}],\"id\":2},{\"name\":\"Term 3\",\"curriculum_items\":[{\"curriculum_requisites\":[{\"source_id\":2966989896,\"target_id\":2193700744,\"type\":\"CurriculumPrerequisite\"}],\"name\":\"MA 213\",\"metrics\":{\"centrality\":102,\"complexity\":18.0,\"blocking factor\":10,\"delay factor\":8.0},\"nameSub\":\"Calculus III\",\"id\":2193700744,\"credits\":4,\"nameCanonical\":\"\"},{\"curriculum_requisites\":[{\"source_id\":2865398329,\"target_id\":24551683,\"type\":\"CurriculumPrerequisite\"},{\"source_id\":2193700744,\"target_id\":24551683,\"type\":\"CurriculumCorequisite\"}],\"name\":\"PHY 232\",\"metrics\":{\"centrality\":121,\"complexity\":15.0,\"blocking factor\":7,\"delay factor\":8.0},\"nameSub\":\"General University Physics\",\"id\":24551683,\"credits\":4,\"nameCanonical\":\"\"},{\"curriculum_requisites\":[{\"source_id\":24551683,\"target_id\":4109240503,\"type\":\"CurriculumCorequisite\"}],\"name\":\"PHY 242\",\"metrics\":{\"centrality\":60,\"complexity\":14.0,\"blocking factor\":6,\"delay factor\":8.0},\"nameSub\":\"General University Physics Lab\",\"id\":4109240503,\"credits\":1,\"nameCanonical\":\"\"},{\"curriculum_requisites\":[{\"source_id\":24551683,\"target_id\":1017230148,\"type\":\"CurriculumCorequisite\"},{\"source_id\":4109240503,\"target_id\":1017230148,\"type\":\"CurriculumCorequisite\"}],\"name\":\"EE 211\",\"metrics\":{\"centrality\":112,\"complexity\":13.0,\"blocking factor\":5,\"delay factor\":8.0},\"nameSub\":\"Circuits I\",\"id\":1017230148,\"credits\":4,\"nameCanonical\":\"\"},{\"curriculum_requisites\":[{\"source_id\":502542156,\"target_id\":1416959221,\"type\":\"CurriculumPrerequisite\"}],\"name\":\"EE 282\",\"metrics\":{\"centrality\":3,\"complexity\":4.0,\"blocking factor\":1,\"delay factor\":3.0},\"nameSub\":\"Digital Logic Design\",\"id\":1416959221,\"credits\":4,\"nameCanonical\":\"\"}],\"id\":3},{\"name\":\"Term 4\",\"curriculum_items\":[{\"curriculum_requisites\":[{\"source_id\":2193700744,\"target_id\":713164423,\"type\":\"CurriculumPrerequisite\"}],\"name\":\"MA 214\",\"metrics\":{\"centrality\":29,\"complexity\":11.0,\"blocking factor\":5,\"delay factor\":6.0},\"nameSub\":\"Calculus IV\",\"id\":713164423,\"credits\":3,\"nameCanonical\":\"\"},{\"curriculum_requisites\":[{\"source_id\":1017230148,\"target_id\":2281989961,\"type\":\"CurriculumPrerequisite\"},{\"source_id\":713164423,\"target_id\":2281989961,\"type\":\"CurriculumCorequisite\"}],\"name\":\"EE 223\",\"metrics\":{\"centrality\":136,\"complexity\":12.0,\"blocking factor\":4,\"delay factor\":8.0},\"nameSub\":\"AC Circuits\",\"id\":2281989961,\"credits\":4,\"nameCanonical\":\"\"},{\"curriculum_requisites\":[{\"source_id\":1332377596,\"target_id\":1647567702,\"type\":\"CurriculumCorequisite\"},{\"source_id\":1416959221,\"target_id\":1647567702,\"type\":\"CurriculumPrerequisite\"}],\"name\":\"EE 287\",\"metrics\":{\"centrality\":0,\"complexity\":3.0,\"blocking factor\":0,\"delay factor\":3.0},\"nameSub\":\"Intro. to Embedded Systems\",\"id\":1647567702,\"credits\":4,\"nameCanonical\":\"\"},{\"curriculum_requisites\":[],\"name\":\"CS 215\",\"metrics\":{\"centrality\":0,\"complexity\":3.0,\"blocking factor\":1,\"delay factor\":2.0},\"nameSub\":\"Intro. to Program Design Abstraction and Problem Solving\",\"id\":1332377596,\"credits\":4,\"nameCanonical\":\"\"},{\"curriculum_requisites\":[],\"name\":\" \",\"metrics\":{\"centrality\":0,\"complexity\":1.0,\"blocking factor\":0,\"delay factor\":1.0},\"nameSub\":\"UK Core - Humanities\",\"id\":699408466,\"credits\":3,\"nameCanonical\":\"\"}],\"id\":4},{\"name\":\"Term 5\",\"curriculum_items\":[{\"curriculum_requisites\":[{\"source_id\":24551683,\"target_id\":3945639322,\"type\":\"CurriculumPrerequisite\"},{\"source_id\":2281989961,\"target_id\":3945639322,\"type\":\"CurriculumPrerequisite\"}],\"name\":\"EE 415G\",\"metrics\":{\"centrality\":0,\"complexity\":8.0,\"blocking factor\":0,\"delay factor\":8.0},\"nameSub\":\"Electromechanics\",\"id\":3945639322,\"credits\":3,\"nameCanonical\":\"\"},{\"curriculum_requisites\":[{\"source_id\":2281989961,\"target_id\":2950065960,\"type\":\"CurriculumPrerequisite\"},{\"source_id\":713164423,\"target_id\":2950065960,\"type\":\"CurriculumPrerequisite\"}],\"name\":\"EE 421G\",\"metrics\":{\"centrality\":0,\"complexity\":8.0,\"blocking factor\":0,\"delay factor\":8.0},\"nameSub\":\"Signals & Systems\",\"id\":2950065960,\"credits\":3,\"nameCanonical\":\"\"},{\"curriculum_requisites\":[],\"name\":\" \",\"metrics\":{\"centrality\":0,\"complexity\":1.0,\"blocking factor\":0,\"delay factor\":1.0},\"nameSub\":\"Elective EE Laboratory 1\",\"id\":448709314,\"credits\":2,\"nameCanonical\":\"\"},{\"curriculum_requisites\":[{\"source_id\":2281989961,\"target_id\":16242192,\"type\":\"CurriculumPrerequisite\"}],\"name\":\"EE 461G\",\"metrics\":{\"centrality\":0,\"complexity\":8.0,\"blocking factor\":0,\"delay factor\":8.0},\"nameSub\":\"Intro. to Electronics\",\"id\":16242192,\"credits\":3,\"nameCanonical\":\"\"},{\"curriculum_requisites\":[{\"source_id\":2193700744,\"target_id\":2756944549,\"type\":\"CurriculumPrerequisite\"}],\"name\":\"MA 320\",\"metrics\":{\"centrality\":0,\"complexity\":4.0,\"blocking factor\":0,\"delay factor\":4.0},\"nameSub\":\"Introductory Probability\",\"id\":2756944549,\"credits\":3,\"nameCanonical\":\"\"},{\"curriculum_requisites\":[],\"name\":\" \",\"metrics\":{\"centrality\":0,\"complexity\":1.0,\"blocking factor\":0,\"delay factor\":1.0},\"nameSub\":\"Technical Elective 1\",\"id\":3654615878,\"credits\":3,\"nameCanonical\":\"\"}],\"id\":5},{\"name\":\"Term 6\",\"curriculum_items\":[{\"curriculum_requisites\":[{\"source_id\":2281989961,\"target_id\":1400716874,\"type\":\"CurriculumPrerequisite\"},{\"source_id\":2193700744,\"target_id\":1400716874,\"type\":\"CurriculumPrerequisite\"}],\"name\":\"EE 468G\",\"metrics\":{\"centrality\":0,\"complexity\":8.0,\"blocking factor\":0,\"delay factor\":8.0},\"nameSub\":\"Intro. to Engineering Electromagnetics\",\"id\":1400716874,\"credits\":4,\"nameCanonical\":\"\"},{\"curriculum_requisites\":[],\"name\":\" \",\"metrics\":{\"centrality\":0,\"complexity\":1.0,\"blocking factor\":0,\"delay factor\":1.0},\"nameSub\":\"Elective EE Laboratory 2\",\"id\":3008452217,\"credits\":2,\"nameCanonical\":\"\"},{\"curriculum_requisites\":[],\"name\":\" \",\"metrics\":{\"centrality\":0,\"complexity\":1.0,\"blocking factor\":0,\"delay factor\":1.0},\"nameSub\":\"Engineering/Science Elective 1\",\"id\":1824271747,\"credits\":3,\"nameCanonical\":\"\"},{\"curriculum_requisites\":[],\"name\":\" \",\"metrics\":{\"centrality\":0,\"complexity\":1.0,\"blocking factor\":0,\"delay factor\":1.0},\"nameSub\":\"Technical Elective 2\",\"id\":3697264218,\"credits\":3,\"nameCanonical\":\"\"},{\"curriculum_requisites\":[],\"name\":\" \",\"metrics\":{\"centrality\":0,\"complexity\":1.0,\"blocking factor\":0,\"delay factor\":1.0},\"nameSub\":\"UK Core - Citizenship - USA\",\"id\":1496407185,\"credits\":3,\"nameCanonical\":\"\"}],\"id\":6},{\"name\":\"Term 7\",\"curriculum_items\":[{\"curriculum_requisites\":[],\"name\":\"EE 490\",\"metrics\":{\"centrality\":0,\"complexity\":3.0,\"blocking factor\":1,\"delay factor\":2.0},\"nameSub\":\"EE Capstone Design\",\"id\":1116551982,\"credits\":3,\"nameCanonical\":\"\"},{\"curriculum_requisites\":[],\"name\":\" \",\"metrics\":{\"centrality\":0,\"complexity\":1.0,\"blocking factor\":0,\"delay factor\":1.0},\"nameSub\":\"EE Technical Elective 1\",\"id\":1373040133,\"credits\":3,\"nameCanonical\":\"\"},{\"curriculum_requisites\":[],\"name\":\" \",\"metrics\":{\"centrality\":0,\"complexity\":1.0,\"blocking factor\":0,\"delay factor\":1.0},\"nameSub\":\"EE Technical Elective 2\",\"id\":2900608954,\"credits\":3,\"nameCanonical\":\"\"},{\"curriculum_requisites\":[],\"name\":\" \",\"metrics\":{\"centrality\":0,\"complexity\":1.0,\"blocking factor\":0,\"delay factor\":1.0},\"nameSub\":\"Math/Statistics Elective\",\"id\":147960851,\"credits\":3,\"nameCanonical\":\"\"},{\"curriculum_requisites\":[],\"name\":\" \",\"metrics\":{\"centrality\":0,\"complexity\":1.0,\"blocking factor\":0,\"delay factor\":1.0},\"nameSub\":\"UK Core - Global Dynamics\",\"id\":819264340,\"credits\":3,\"nameCanonical\":\"\"}],\"id\":7},{\"name\":\"Term 8\",\"curriculum_items\":[{\"curriculum_requisites\":[{\"source_id\":1116551982,\"target_id\":2674820998,\"type\":\"CurriculumPrerequisite\"}],\"name\":\"EE 491\",\"metrics\":{\"centrality\":0,\"complexity\":2.0,\"blocking factor\":0,\"delay factor\":2.0},\"nameSub\":\"EE Capstone Design\",\"id\":2674820998,\"credits\":3,\"nameCanonical\":\"\"},{\"curriculum_requisites\":[],\"name\":\" \",\"metrics\":{\"centrality\":0,\"complexity\":1.0,\"blocking factor\":0,\"delay factor\":1.0},\"nameSub\":\"EE Technical Elective 3\",\"id\":3472050261,\"credits\":3,\"nameCanonical\":\"\"},{\"curriculum_requisites\":[],\"name\":\" \",\"metrics\":{\"centrality\":0,\"complexity\":1.0,\"blocking factor\":0,\"delay factor\":1.0},\"nameSub\":\"EE Technical Elective 4\",\"id\":3141179749,\"credits\":3,\"nameCanonical\":\"\"},{\"curriculum_requisites\":[],\"name\":\" \",\"metrics\":{\"centrality\":0,\"complexity\":1.0,\"blocking factor\":0,\"delay factor\":1.0},\"nameSub\":\"Supportive Elective\",\"id\":109586583,\"credits\":3,\"nameCanonical\":\"\"},{\"curriculum_requisites\":[],\"name\":\" \",\"metrics\":{\"centrality\":0,\"complexity\":1.0,\"blocking factor\":0,\"delay factor\":1.0},\"nameSub\":\"Engineering/Science Elective 2\",\"id\":1227973603,\"credits\":3,\"nameCanonical\":\"\"},{\"curriculum_requisites\":[],\"name\":\" \",\"metrics\":{\"centrality\":0,\"complexity\":1.0,\"blocking factor\":0,\"delay factor\":1.0},\"nameSub\":\"UK Core - Statistical Inferential Reasoning\",\"id\":599971617,\"credits\":3,\"nameCanonical\":\"\"}],\"id\":8}],\"institution\":\"\"}},\"*\"); window.removeEventListener(\"message\",window.messageReceived); window.messageReceived=(function (event){return (event.data.curriculum!==undefined) ? (WebIO.setval({\"name\":\"curriculum-data\",\"scope\":\"9566280307917419049\",\"id\":\"9796242514536379286\",\"type\":\"observable\"},event.data.curriculum)) : undefined}); return window.addEventListener(\"message\",window.messageReceived)})"
          },
          "id": "curriculum",
          "src": "https://curricula-api-embed.damoursystems.com/",
          "style": {
           "border": "none",
           "height": "100vh",
           "margin": "0",
           "padding": "0",
           "width": "100%"
          }
         },
         "type": "node"
        }
       ],
       "instanceArgs": {
        "handlers": {},
        "id": "9566280307917419049",
        "imports": {
         "data": [],
         "type": "async_block"
        },
        "mount_callbacks": [],
        "observables": {
         "curriculum-data": {
          "id": "9796242514536379286",
          "sync": true,
          "value": {
           "curriculum": {
            "curriculum_terms": [
             {
              "curriculum_items": [
               {
                "credits": 1,
                "curriculum_requisites": [],
                "id": 2071595408,
                "metrics": {
                 "blocking factor": 0,
                 "centrality": 0,
                 "complexity": 1,
                 "delay factor": 1
                },
                "name": "EGR 101",
                "nameCanonical": "",
                "nameSub": "Engineering Exploration I"
               },
               {
                "credits": 2,
                "curriculum_requisites": [],
                "id": 502542156,
                "metrics": {
                 "blocking factor": 3,
                 "centrality": 0,
                 "complexity": 6,
                 "delay factor": 3
                },
                "name": "EGR 102",
                "nameCanonical": "",
                "nameSub": "Fundamentals of Engineering Computing"
               },
               {
                "credits": 4,
                "curriculum_requisites": [
                 {
                  "source_id": 3389674827,
                  "target_id": 2865398329,
                  "type": "CurriculumCorequisite"
                 }
                ],
                "id": 2865398329,
                "metrics": {
                 "blocking factor": 10,
                 "centrality": 62,
                 "complexity": 17,
                 "delay factor": 7
                },
                "name": "PHY 231",
                "nameCanonical": "",
                "nameSub": "General University Physics"
               },
               {
                "credits": 1,
                "curriculum_requisites": [
                 {
                  "source_id": 2865398329,
                  "target_id": 746915474,
                  "type": "CurriculumCorequisite"
                 }
                ],
                "id": 746915474,
                "metrics": {
                 "blocking factor": 0,
                 "centrality": 0,
                 "complexity": 3,
                 "delay factor": 3
                },
                "name": "PHY 241",
                "nameCanonical": "",
                "nameSub": "General University Physics Lab"
               },
               {
                "credits": 3,
                "curriculum_requisites": [],
                "id": 858428248,
                "metrics": {
                 "blocking factor": 1,
                 "centrality": 0,
                 "complexity": 3,
                 "delay factor": 2
                },
                "name": "CIS/WRD 110",
                "nameCanonical": "",
                "nameSub": "Composition and Communication I"
               },
               {
                "credits": 4,
                "curriculum_requisites": [],
                "id": 3389674827,
                "metrics": {
                 "blocking factor": 15,
                 "centrality": 0,
                 "complexity": 23,
                 "delay factor": 8
                },
                "name": "MA 113",
                "nameCanonical": "",
                "nameSub": "Calculus I"
               }
              ],
              "id": 1,
              "name": "Term 1"
             },
             {
              "curriculum_items": [
               {
                "credits": 2,
                "curriculum_requisites": [
                 {
                  "source_id": 2865398329,
                  "target_id": 1123828828,
                  "type": "CurriculumCorequisite"
                 },
                 {
                  "source_id": 502542156,
                  "target_id": 1123828828,
                  "type": "CurriculumPrerequisite"
                 },
                 {
                  "source_id": 738464693,
                  "target_id": 1123828828,
                  "type": "CurriculumCorequisite"
                 },
                 {
                  "source_id": 3389674827,
                  "target_id": 1123828828,
                  "type": "CurriculumCorequisite"
                 }
                ],
                "id": 1123828828,
                "metrics": {
                 "blocking factor": 0,
                 "centrality": 0,
                 "complexity": 3,
                 "delay factor": 3
                },
                "name": "EGR 103",
                "nameCanonical": "",
                "nameSub": "Engineering Exploration II"
               },
               {
                "credits": 3,
                "curriculum_requisites": [
                 {
                  "source_id": 858428248,
                  "target_id": 3660518225,
                  "type": "CurriculumPrerequisite"
                 }
                ],
                "id": 3660518225,
                "metrics": {
                 "blocking factor": 0,
                 "centrality": 0,
                 "complexity": 2,
                 "delay factor": 2
                },
                "name": "CIS/WRD 111",
                "nameCanonical": "",
                "nameSub": "Composition and Communication II"
               },
               {
                "credits": 4,
                "curriculum_requisites": [
                 {
                  "source_id": 3389674827,
                  "target_id": 2966989896,
                  "type": "CurriculumPrerequisite"
                 }
                ],
                "id": 2966989896,
                "metrics": {
                 "blocking factor": 11,
                 "centrality": 102,
                 "complexity": 19,
                 "delay factor": 8
                },
                "name": "MA 114",
                "nameCanonical": "",
                "nameSub": "Calculus II"
               },
               {
                "credits": 4,
                "curriculum_requisites": [],
                "id": 738464693,
                "metrics": {
                 "blocking factor": 1,
                 "centrality": 0,
                 "complexity": 3,
                 "delay factor": 2
                },
                "name": "CHE 105",
                "nameCanonical": "",
                "nameSub": "General College Chemistry I"
               },
               {
                "credits": 3,
                "curriculum_requisites": [],
                "id": 1586162741,
                "metrics": {
                 "blocking factor": 0,
                 "centrality": 0,
                 "complexity": 1,
                 "delay factor": 1
                },
                "name": " ",
                "nameCanonical": "",
                "nameSub": "UK Core - Social Sciences"
               }
              ],
              "id": 2,
              "name": "Term 2"
             },
             {
              "curriculum_items": [
               {
                "credits": 4,
                "curriculum_requisites": [
                 {
                  "source_id": 2966989896,
                  "target_id": 2193700744,
                  "type": "CurriculumPrerequisite"
                 }
                ],
                "id": 2193700744,
                "metrics": {
                 "blocking factor": 10,
                 "centrality": 102,
                 "complexity": 18,
                 "delay factor": 8
                },
                "name": "MA 213",
                "nameCanonical": "",
                "nameSub": "Calculus III"
               },
               {
                "credits": 4,
                "curriculum_requisites": [
                 {
                  "source_id": 2865398329,
                  "target_id": 24551683,
                  "type": "CurriculumPrerequisite"
                 },
                 {
                  "source_id": 2193700744,
                  "target_id": 24551683,
                  "type": "CurriculumCorequisite"
                 }
                ],
                "id": 24551683,
                "metrics": {
                 "blocking factor": 7,
                 "centrality": 121,
                 "complexity": 15,
                 "delay factor": 8
                },
                "name": "PHY 232",
                "nameCanonical": "",
                "nameSub": "General University Physics"
               },
               {
                "credits": 1,
                "curriculum_requisites": [
                 {
                  "source_id": 24551683,
                  "target_id": 4109240503,
                  "type": "CurriculumCorequisite"
                 }
                ],
                "id": 4109240503,
                "metrics": {
                 "blocking factor": 6,
                 "centrality": 60,
                 "complexity": 14,
                 "delay factor": 8
                },
                "name": "PHY 242",
                "nameCanonical": "",
                "nameSub": "General University Physics Lab"
               },
               {
                "credits": 4,
                "curriculum_requisites": [
                 {
                  "source_id": 24551683,
                  "target_id": 1017230148,
                  "type": "CurriculumCorequisite"
                 },
                 {
                  "source_id": 4109240503,
                  "target_id": 1017230148,
                  "type": "CurriculumCorequisite"
                 }
                ],
                "id": 1017230148,
                "metrics": {
                 "blocking factor": 5,
                 "centrality": 112,
                 "complexity": 13,
                 "delay factor": 8
                },
                "name": "EE 211",
                "nameCanonical": "",
                "nameSub": "Circuits I"
               },
               {
                "credits": 4,
                "curriculum_requisites": [
                 {
                  "source_id": 502542156,
                  "target_id": 1416959221,
                  "type": "CurriculumPrerequisite"
                 }
                ],
                "id": 1416959221,
                "metrics": {
                 "blocking factor": 1,
                 "centrality": 3,
                 "complexity": 4,
                 "delay factor": 3
                },
                "name": "EE 282",
                "nameCanonical": "",
                "nameSub": "Digital Logic Design"
               }
              ],
              "id": 3,
              "name": "Term 3"
             },
             {
              "curriculum_items": [
               {
                "credits": 3,
                "curriculum_requisites": [
                 {
                  "source_id": 2193700744,
                  "target_id": 713164423,
                  "type": "CurriculumPrerequisite"
                 }
                ],
                "id": 713164423,
                "metrics": {
                 "blocking factor": 5,
                 "centrality": 29,
                 "complexity": 11,
                 "delay factor": 6
                },
                "name": "MA 214",
                "nameCanonical": "",
                "nameSub": "Calculus IV"
               },
               {
                "credits": 4,
                "curriculum_requisites": [
                 {
                  "source_id": 1017230148,
                  "target_id": 2281989961,
                  "type": "CurriculumPrerequisite"
                 },
                 {
                  "source_id": 713164423,
                  "target_id": 2281989961,
                  "type": "CurriculumCorequisite"
                 }
                ],
                "id": 2281989961,
                "metrics": {
                 "blocking factor": 4,
                 "centrality": 136,
                 "complexity": 12,
                 "delay factor": 8
                },
                "name": "EE 223",
                "nameCanonical": "",
                "nameSub": "AC Circuits"
               },
               {
                "credits": 4,
                "curriculum_requisites": [
                 {
                  "source_id": 1332377596,
                  "target_id": 1647567702,
                  "type": "CurriculumCorequisite"
                 },
                 {
                  "source_id": 1416959221,
                  "target_id": 1647567702,
                  "type": "CurriculumPrerequisite"
                 }
                ],
                "id": 1647567702,
                "metrics": {
                 "blocking factor": 0,
                 "centrality": 0,
                 "complexity": 3,
                 "delay factor": 3
                },
                "name": "EE 287",
                "nameCanonical": "",
                "nameSub": "Intro. to Embedded Systems"
               },
               {
                "credits": 4,
                "curriculum_requisites": [],
                "id": 1332377596,
                "metrics": {
                 "blocking factor": 1,
                 "centrality": 0,
                 "complexity": 3,
                 "delay factor": 2
                },
                "name": "CS 215",
                "nameCanonical": "",
                "nameSub": "Intro. to Program Design Abstraction and Problem Solving"
               },
               {
                "credits": 3,
                "curriculum_requisites": [],
                "id": 699408466,
                "metrics": {
                 "blocking factor": 0,
                 "centrality": 0,
                 "complexity": 1,
                 "delay factor": 1
                },
                "name": " ",
                "nameCanonical": "",
                "nameSub": "UK Core - Humanities"
               }
              ],
              "id": 4,
              "name": "Term 4"
             },
             {
              "curriculum_items": [
               {
                "credits": 3,
                "curriculum_requisites": [
                 {
                  "source_id": 24551683,
                  "target_id": 3945639322,
                  "type": "CurriculumPrerequisite"
                 },
                 {
                  "source_id": 2281989961,
                  "target_id": 3945639322,
                  "type": "CurriculumPrerequisite"
                 }
                ],
                "id": 3945639322,
                "metrics": {
                 "blocking factor": 0,
                 "centrality": 0,
                 "complexity": 8,
                 "delay factor": 8
                },
                "name": "EE 415G",
                "nameCanonical": "",
                "nameSub": "Electromechanics"
               },
               {
                "credits": 3,
                "curriculum_requisites": [
                 {
                  "source_id": 2281989961,
                  "target_id": 2950065960,
                  "type": "CurriculumPrerequisite"
                 },
                 {
                  "source_id": 713164423,
                  "target_id": 2950065960,
                  "type": "CurriculumPrerequisite"
                 }
                ],
                "id": 2950065960,
                "metrics": {
                 "blocking factor": 0,
                 "centrality": 0,
                 "complexity": 8,
                 "delay factor": 8
                },
                "name": "EE 421G",
                "nameCanonical": "",
                "nameSub": "Signals & Systems"
               },
               {
                "credits": 2,
                "curriculum_requisites": [],
                "id": 448709314,
                "metrics": {
                 "blocking factor": 0,
                 "centrality": 0,
                 "complexity": 1,
                 "delay factor": 1
                },
                "name": " ",
                "nameCanonical": "",
                "nameSub": "Elective EE Laboratory 1"
               },
               {
                "credits": 3,
                "curriculum_requisites": [
                 {
                  "source_id": 2281989961,
                  "target_id": 16242192,
                  "type": "CurriculumPrerequisite"
                 }
                ],
                "id": 16242192,
                "metrics": {
                 "blocking factor": 0,
                 "centrality": 0,
                 "complexity": 8,
                 "delay factor": 8
                },
                "name": "EE 461G",
                "nameCanonical": "",
                "nameSub": "Intro. to Electronics"
               },
               {
                "credits": 3,
                "curriculum_requisites": [
                 {
                  "source_id": 2193700744,
                  "target_id": 2756944549,
                  "type": "CurriculumPrerequisite"
                 }
                ],
                "id": 2756944549,
                "metrics": {
                 "blocking factor": 0,
                 "centrality": 0,
                 "complexity": 4,
                 "delay factor": 4
                },
                "name": "MA 320",
                "nameCanonical": "",
                "nameSub": "Introductory Probability"
               },
               {
                "credits": 3,
                "curriculum_requisites": [],
                "id": 3654615878,
                "metrics": {
                 "blocking factor": 0,
                 "centrality": 0,
                 "complexity": 1,
                 "delay factor": 1
                },
                "name": " ",
                "nameCanonical": "",
                "nameSub": "Technical Elective 1"
               }
              ],
              "id": 5,
              "name": "Term 5"
             },
             {
              "curriculum_items": [
               {
                "credits": 4,
                "curriculum_requisites": [
                 {
                  "source_id": 2281989961,
                  "target_id": 1400716874,
                  "type": "CurriculumPrerequisite"
                 },
                 {
                  "source_id": 2193700744,
                  "target_id": 1400716874,
                  "type": "CurriculumPrerequisite"
                 }
                ],
                "id": 1400716874,
                "metrics": {
                 "blocking factor": 0,
                 "centrality": 0,
                 "complexity": 8,
                 "delay factor": 8
                },
                "name": "EE 468G",
                "nameCanonical": "",
                "nameSub": "Intro. to Engineering Electromagnetics"
               },
               {
                "credits": 2,
                "curriculum_requisites": [],
                "id": 3008452217,
                "metrics": {
                 "blocking factor": 0,
                 "centrality": 0,
                 "complexity": 1,
                 "delay factor": 1
                },
                "name": " ",
                "nameCanonical": "",
                "nameSub": "Elective EE Laboratory 2"
               },
               {
                "credits": 3,
                "curriculum_requisites": [],
                "id": 1824271747,
                "metrics": {
                 "blocking factor": 0,
                 "centrality": 0,
                 "complexity": 1,
                 "delay factor": 1
                },
                "name": " ",
                "nameCanonical": "",
                "nameSub": "Engineering/Science Elective 1"
               },
               {
                "credits": 3,
                "curriculum_requisites": [],
                "id": 3697264218,
                "metrics": {
                 "blocking factor": 0,
                 "centrality": 0,
                 "complexity": 1,
                 "delay factor": 1
                },
                "name": " ",
                "nameCanonical": "",
                "nameSub": "Technical Elective 2"
               },
               {
                "credits": 3,
                "curriculum_requisites": [],
                "id": 1496407185,
                "metrics": {
                 "blocking factor": 0,
                 "centrality": 0,
                 "complexity": 1,
                 "delay factor": 1
                },
                "name": " ",
                "nameCanonical": "",
                "nameSub": "UK Core - Citizenship - USA"
               }
              ],
              "id": 6,
              "name": "Term 6"
             },
             {
              "curriculum_items": [
               {
                "credits": 3,
                "curriculum_requisites": [],
                "id": 1116551982,
                "metrics": {
                 "blocking factor": 1,
                 "centrality": 0,
                 "complexity": 3,
                 "delay factor": 2
                },
                "name": "EE 490",
                "nameCanonical": "",
                "nameSub": "EE Capstone Design"
               },
               {
                "credits": 3,
                "curriculum_requisites": [],
                "id": 1373040133,
                "metrics": {
                 "blocking factor": 0,
                 "centrality": 0,
                 "complexity": 1,
                 "delay factor": 1
                },
                "name": " ",
                "nameCanonical": "",
                "nameSub": "EE Technical Elective 1"
               },
               {
                "credits": 3,
                "curriculum_requisites": [],
                "id": 2900608954,
                "metrics": {
                 "blocking factor": 0,
                 "centrality": 0,
                 "complexity": 1,
                 "delay factor": 1
                },
                "name": " ",
                "nameCanonical": "",
                "nameSub": "EE Technical Elective 2"
               },
               {
                "credits": 3,
                "curriculum_requisites": [],
                "id": 147960851,
                "metrics": {
                 "blocking factor": 0,
                 "centrality": 0,
                 "complexity": 1,
                 "delay factor": 1
                },
                "name": " ",
                "nameCanonical": "",
                "nameSub": "Math/Statistics Elective"
               },
               {
                "credits": 3,
                "curriculum_requisites": [],
                "id": 819264340,
                "metrics": {
                 "blocking factor": 0,
                 "centrality": 0,
                 "complexity": 1,
                 "delay factor": 1
                },
                "name": " ",
                "nameCanonical": "",
                "nameSub": "UK Core - Global Dynamics"
               }
              ],
              "id": 7,
              "name": "Term 7"
             },
             {
              "curriculum_items": [
               {
                "credits": 3,
                "curriculum_requisites": [
                 {
                  "source_id": 1116551982,
                  "target_id": 2674820998,
                  "type": "CurriculumPrerequisite"
                 }
                ],
                "id": 2674820998,
                "metrics": {
                 "blocking factor": 0,
                 "centrality": 0,
                 "complexity": 2,
                 "delay factor": 2
                },
                "name": "EE 491",
                "nameCanonical": "",
                "nameSub": "EE Capstone Design"
               },
               {
                "credits": 3,
                "curriculum_requisites": [],
                "id": 3472050261,
                "metrics": {
                 "blocking factor": 0,
                 "centrality": 0,
                 "complexity": 1,
                 "delay factor": 1
                },
                "name": " ",
                "nameCanonical": "",
                "nameSub": "EE Technical Elective 3"
               },
               {
                "credits": 3,
                "curriculum_requisites": [],
                "id": 3141179749,
                "metrics": {
                 "blocking factor": 0,
                 "centrality": 0,
                 "complexity": 1,
                 "delay factor": 1
                },
                "name": " ",
                "nameCanonical": "",
                "nameSub": "EE Technical Elective 4"
               },
               {
                "credits": 3,
                "curriculum_requisites": [],
                "id": 109586583,
                "metrics": {
                 "blocking factor": 0,
                 "centrality": 0,
                 "complexity": 1,
                 "delay factor": 1
                },
                "name": " ",
                "nameCanonical": "",
                "nameSub": "Supportive Elective"
               },
               {
                "credits": 3,
                "curriculum_requisites": [],
                "id": 1227973603,
                "metrics": {
                 "blocking factor": 0,
                 "centrality": 0,
                 "complexity": 1,
                 "delay factor": 1
                },
                "name": " ",
                "nameCanonical": "",
                "nameSub": "Engineering/Science Elective 2"
               },
               {
                "credits": 3,
                "curriculum_requisites": [],
                "id": 599971617,
                "metrics": {
                 "blocking factor": 0,
                 "centrality": 0,
                 "complexity": 1,
                 "delay factor": 1
                },
                "name": " ",
                "nameCanonical": "",
                "nameSub": "UK Core - Statistical Inferential Reasoning"
               }
              ],
              "id": 8,
              "name": "Term 8"
             }
            ],
            "dp_name": "University of Kentucky EE Program 4-year Plan",
            "institution": "",
            "name": "University of Kentucky EE Program"
           },
           "options": {
            "edit": false,
            "hideTerms": false
           }
          }
         }
        },
        "systemjs_options": null
       },
       "nodeType": "Scope",
       "props": {},
       "type": "node"
      },
      "text/html": [
       "<div\n",
       "    class=\"webio-mountpoint\"\n",
       "    data-webio-mountpoint=\"11504137164782772792\"\n",
       ">\n",
       "    <script>\n",
       "    if (window.require && require.defined && require.defined(\"nbextensions/webio-jupyter-notebook\")) {\n",
       "        console.log(\"Jupyter WebIO extension detected, not mounting.\");\n",
       "    } else if (window.WebIO) {\n",
       "        WebIO.mount(\n",
       "            document.querySelector('[data-webio-mountpoint=\"11504137164782772792\"]'),\n",
       "            {\"props\":{},\"nodeType\":\"Scope\",\"type\":\"node\",\"instanceArgs\":{\"imports\":{\"data\":[],\"type\":\"async_block\"},\"id\":\"9566280307917419049\",\"handlers\":{},\"systemjs_options\":null,\"mount_callbacks\":[],\"observables\":{\"curriculum-data\":{\"sync\":true,\"id\":\"9796242514536379286\",\"value\":{\"options\":{\"hideTerms\":false,\"edit\":false},\"curriculum\":{\"name\":\"University of Kentucky EE Program\",\"dp_name\":\"University of Kentucky EE Program 4-year Plan\",\"curriculum_terms\":[{\"name\":\"Term 1\",\"curriculum_items\":[{\"curriculum_requisites\":[],\"name\":\"EGR 101\",\"metrics\":{\"centrality\":0,\"complexity\":1.0,\"blocking factor\":0,\"delay factor\":1.0},\"nameSub\":\"Engineering Exploration I\",\"id\":2071595408,\"credits\":1,\"nameCanonical\":\"\"},{\"curriculum_requisites\":[],\"name\":\"EGR 102\",\"metrics\":{\"centrality\":0,\"complexity\":6.0,\"blocking factor\":3,\"delay factor\":3.0},\"nameSub\":\"Fundamentals of Engineering Computing\",\"id\":502542156,\"credits\":2,\"nameCanonical\":\"\"},{\"curriculum_requisites\":[{\"source_id\":3389674827,\"target_id\":2865398329,\"type\":\"CurriculumCorequisite\"}],\"name\":\"PHY 231\",\"metrics\":{\"centrality\":62,\"complexity\":17.0,\"blocking factor\":10,\"delay factor\":7.0},\"nameSub\":\"General University Physics\",\"id\":2865398329,\"credits\":4,\"nameCanonical\":\"\"},{\"curriculum_requisites\":[{\"source_id\":2865398329,\"target_id\":746915474,\"type\":\"CurriculumCorequisite\"}],\"name\":\"PHY 241\",\"metrics\":{\"centrality\":0,\"complexity\":3.0,\"blocking factor\":0,\"delay factor\":3.0},\"nameSub\":\"General University Physics Lab\",\"id\":746915474,\"credits\":1,\"nameCanonical\":\"\"},{\"curriculum_requisites\":[],\"name\":\"CIS\\/WRD 110\",\"metrics\":{\"centrality\":0,\"complexity\":3.0,\"blocking factor\":1,\"delay factor\":2.0},\"nameSub\":\"Composition and Communication I\",\"id\":858428248,\"credits\":3,\"nameCanonical\":\"\"},{\"curriculum_requisites\":[],\"name\":\"MA 113\",\"metrics\":{\"centrality\":0,\"complexity\":23.0,\"blocking factor\":15,\"delay factor\":8.0},\"nameSub\":\"Calculus I\",\"id\":3389674827,\"credits\":4,\"nameCanonical\":\"\"}],\"id\":1},{\"name\":\"Term 2\",\"curriculum_items\":[{\"curriculum_requisites\":[{\"source_id\":2865398329,\"target_id\":1123828828,\"type\":\"CurriculumCorequisite\"},{\"source_id\":502542156,\"target_id\":1123828828,\"type\":\"CurriculumPrerequisite\"},{\"source_id\":738464693,\"target_id\":1123828828,\"type\":\"CurriculumCorequisite\"},{\"source_id\":3389674827,\"target_id\":1123828828,\"type\":\"CurriculumCorequisite\"}],\"name\":\"EGR 103\",\"metrics\":{\"centrality\":0,\"complexity\":3.0,\"blocking factor\":0,\"delay factor\":3.0},\"nameSub\":\"Engineering Exploration II\",\"id\":1123828828,\"credits\":2,\"nameCanonical\":\"\"},{\"curriculum_requisites\":[{\"source_id\":858428248,\"target_id\":3660518225,\"type\":\"CurriculumPrerequisite\"}],\"name\":\"CIS\\/WRD 111\",\"metrics\":{\"centrality\":0,\"complexity\":2.0,\"blocking factor\":0,\"delay factor\":2.0},\"nameSub\":\"Composition and Communication II\",\"id\":3660518225,\"credits\":3,\"nameCanonical\":\"\"},{\"curriculum_requisites\":[{\"source_id\":3389674827,\"target_id\":2966989896,\"type\":\"CurriculumPrerequisite\"}],\"name\":\"MA 114\",\"metrics\":{\"centrality\":102,\"complexity\":19.0,\"blocking factor\":11,\"delay factor\":8.0},\"nameSub\":\"Calculus II\",\"id\":2966989896,\"credits\":4,\"nameCanonical\":\"\"},{\"curriculum_requisites\":[],\"name\":\"CHE 105\",\"metrics\":{\"centrality\":0,\"complexity\":3.0,\"blocking factor\":1,\"delay factor\":2.0},\"nameSub\":\"General College Chemistry I\",\"id\":738464693,\"credits\":4,\"nameCanonical\":\"\"},{\"curriculum_requisites\":[],\"name\":\" \",\"metrics\":{\"centrality\":0,\"complexity\":1.0,\"blocking factor\":0,\"delay factor\":1.0},\"nameSub\":\"UK Core - Social Sciences\",\"id\":1586162741,\"credits\":3,\"nameCanonical\":\"\"}],\"id\":2},{\"name\":\"Term 3\",\"curriculum_items\":[{\"curriculum_requisites\":[{\"source_id\":2966989896,\"target_id\":2193700744,\"type\":\"CurriculumPrerequisite\"}],\"name\":\"MA 213\",\"metrics\":{\"centrality\":102,\"complexity\":18.0,\"blocking factor\":10,\"delay factor\":8.0},\"nameSub\":\"Calculus III\",\"id\":2193700744,\"credits\":4,\"nameCanonical\":\"\"},{\"curriculum_requisites\":[{\"source_id\":2865398329,\"target_id\":24551683,\"type\":\"CurriculumPrerequisite\"},{\"source_id\":2193700744,\"target_id\":24551683,\"type\":\"CurriculumCorequisite\"}],\"name\":\"PHY 232\",\"metrics\":{\"centrality\":121,\"complexity\":15.0,\"blocking factor\":7,\"delay factor\":8.0},\"nameSub\":\"General University Physics\",\"id\":24551683,\"credits\":4,\"nameCanonical\":\"\"},{\"curriculum_requisites\":[{\"source_id\":24551683,\"target_id\":4109240503,\"type\":\"CurriculumCorequisite\"}],\"name\":\"PHY 242\",\"metrics\":{\"centrality\":60,\"complexity\":14.0,\"blocking factor\":6,\"delay factor\":8.0},\"nameSub\":\"General University Physics Lab\",\"id\":4109240503,\"credits\":1,\"nameCanonical\":\"\"},{\"curriculum_requisites\":[{\"source_id\":24551683,\"target_id\":1017230148,\"type\":\"CurriculumCorequisite\"},{\"source_id\":4109240503,\"target_id\":1017230148,\"type\":\"CurriculumCorequisite\"}],\"name\":\"EE 211\",\"metrics\":{\"centrality\":112,\"complexity\":13.0,\"blocking factor\":5,\"delay factor\":8.0},\"nameSub\":\"Circuits I\",\"id\":1017230148,\"credits\":4,\"nameCanonical\":\"\"},{\"curriculum_requisites\":[{\"source_id\":502542156,\"target_id\":1416959221,\"type\":\"CurriculumPrerequisite\"}],\"name\":\"EE 282\",\"metrics\":{\"centrality\":3,\"complexity\":4.0,\"blocking factor\":1,\"delay factor\":3.0},\"nameSub\":\"Digital Logic Design\",\"id\":1416959221,\"credits\":4,\"nameCanonical\":\"\"}],\"id\":3},{\"name\":\"Term 4\",\"curriculum_items\":[{\"curriculum_requisites\":[{\"source_id\":2193700744,\"target_id\":713164423,\"type\":\"CurriculumPrerequisite\"}],\"name\":\"MA 214\",\"metrics\":{\"centrality\":29,\"complexity\":11.0,\"blocking factor\":5,\"delay factor\":6.0},\"nameSub\":\"Calculus IV\",\"id\":713164423,\"credits\":3,\"nameCanonical\":\"\"},{\"curriculum_requisites\":[{\"source_id\":1017230148,\"target_id\":2281989961,\"type\":\"CurriculumPrerequisite\"},{\"source_id\":713164423,\"target_id\":2281989961,\"type\":\"CurriculumCorequisite\"}],\"name\":\"EE 223\",\"metrics\":{\"centrality\":136,\"complexity\":12.0,\"blocking factor\":4,\"delay factor\":8.0},\"nameSub\":\"AC Circuits\",\"id\":2281989961,\"credits\":4,\"nameCanonical\":\"\"},{\"curriculum_requisites\":[{\"source_id\":1332377596,\"target_id\":1647567702,\"type\":\"CurriculumCorequisite\"},{\"source_id\":1416959221,\"target_id\":1647567702,\"type\":\"CurriculumPrerequisite\"}],\"name\":\"EE 287\",\"metrics\":{\"centrality\":0,\"complexity\":3.0,\"blocking factor\":0,\"delay factor\":3.0},\"nameSub\":\"Intro. to Embedded Systems\",\"id\":1647567702,\"credits\":4,\"nameCanonical\":\"\"},{\"curriculum_requisites\":[],\"name\":\"CS 215\",\"metrics\":{\"centrality\":0,\"complexity\":3.0,\"blocking factor\":1,\"delay factor\":2.0},\"nameSub\":\"Intro. to Program Design Abstraction and Problem Solving\",\"id\":1332377596,\"credits\":4,\"nameCanonical\":\"\"},{\"curriculum_requisites\":[],\"name\":\" \",\"metrics\":{\"centrality\":0,\"complexity\":1.0,\"blocking factor\":0,\"delay factor\":1.0},\"nameSub\":\"UK Core - Humanities\",\"id\":699408466,\"credits\":3,\"nameCanonical\":\"\"}],\"id\":4},{\"name\":\"Term 5\",\"curriculum_items\":[{\"curriculum_requisites\":[{\"source_id\":24551683,\"target_id\":3945639322,\"type\":\"CurriculumPrerequisite\"},{\"source_id\":2281989961,\"target_id\":3945639322,\"type\":\"CurriculumPrerequisite\"}],\"name\":\"EE 415G\",\"metrics\":{\"centrality\":0,\"complexity\":8.0,\"blocking factor\":0,\"delay factor\":8.0},\"nameSub\":\"Electromechanics\",\"id\":3945639322,\"credits\":3,\"nameCanonical\":\"\"},{\"curriculum_requisites\":[{\"source_id\":2281989961,\"target_id\":2950065960,\"type\":\"CurriculumPrerequisite\"},{\"source_id\":713164423,\"target_id\":2950065960,\"type\":\"CurriculumPrerequisite\"}],\"name\":\"EE 421G\",\"metrics\":{\"centrality\":0,\"complexity\":8.0,\"blocking factor\":0,\"delay factor\":8.0},\"nameSub\":\"Signals & Systems\",\"id\":2950065960,\"credits\":3,\"nameCanonical\":\"\"},{\"curriculum_requisites\":[],\"name\":\" \",\"metrics\":{\"centrality\":0,\"complexity\":1.0,\"blocking factor\":0,\"delay factor\":1.0},\"nameSub\":\"Elective EE Laboratory 1\",\"id\":448709314,\"credits\":2,\"nameCanonical\":\"\"},{\"curriculum_requisites\":[{\"source_id\":2281989961,\"target_id\":16242192,\"type\":\"CurriculumPrerequisite\"}],\"name\":\"EE 461G\",\"metrics\":{\"centrality\":0,\"complexity\":8.0,\"blocking factor\":0,\"delay factor\":8.0},\"nameSub\":\"Intro. to Electronics\",\"id\":16242192,\"credits\":3,\"nameCanonical\":\"\"},{\"curriculum_requisites\":[{\"source_id\":2193700744,\"target_id\":2756944549,\"type\":\"CurriculumPrerequisite\"}],\"name\":\"MA 320\",\"metrics\":{\"centrality\":0,\"complexity\":4.0,\"blocking factor\":0,\"delay factor\":4.0},\"nameSub\":\"Introductory Probability\",\"id\":2756944549,\"credits\":3,\"nameCanonical\":\"\"},{\"curriculum_requisites\":[],\"name\":\" \",\"metrics\":{\"centrality\":0,\"complexity\":1.0,\"blocking factor\":0,\"delay factor\":1.0},\"nameSub\":\"Technical Elective 1\",\"id\":3654615878,\"credits\":3,\"nameCanonical\":\"\"}],\"id\":5},{\"name\":\"Term 6\",\"curriculum_items\":[{\"curriculum_requisites\":[{\"source_id\":2281989961,\"target_id\":1400716874,\"type\":\"CurriculumPrerequisite\"},{\"source_id\":2193700744,\"target_id\":1400716874,\"type\":\"CurriculumPrerequisite\"}],\"name\":\"EE 468G\",\"metrics\":{\"centrality\":0,\"complexity\":8.0,\"blocking factor\":0,\"delay factor\":8.0},\"nameSub\":\"Intro. to Engineering Electromagnetics\",\"id\":1400716874,\"credits\":4,\"nameCanonical\":\"\"},{\"curriculum_requisites\":[],\"name\":\" \",\"metrics\":{\"centrality\":0,\"complexity\":1.0,\"blocking factor\":0,\"delay factor\":1.0},\"nameSub\":\"Elective EE Laboratory 2\",\"id\":3008452217,\"credits\":2,\"nameCanonical\":\"\"},{\"curriculum_requisites\":[],\"name\":\" \",\"metrics\":{\"centrality\":0,\"complexity\":1.0,\"blocking factor\":0,\"delay factor\":1.0},\"nameSub\":\"Engineering\\/Science Elective 1\",\"id\":1824271747,\"credits\":3,\"nameCanonical\":\"\"},{\"curriculum_requisites\":[],\"name\":\" \",\"metrics\":{\"centrality\":0,\"complexity\":1.0,\"blocking factor\":0,\"delay factor\":1.0},\"nameSub\":\"Technical Elective 2\",\"id\":3697264218,\"credits\":3,\"nameCanonical\":\"\"},{\"curriculum_requisites\":[],\"name\":\" \",\"metrics\":{\"centrality\":0,\"complexity\":1.0,\"blocking factor\":0,\"delay factor\":1.0},\"nameSub\":\"UK Core - Citizenship - USA\",\"id\":1496407185,\"credits\":3,\"nameCanonical\":\"\"}],\"id\":6},{\"name\":\"Term 7\",\"curriculum_items\":[{\"curriculum_requisites\":[],\"name\":\"EE 490\",\"metrics\":{\"centrality\":0,\"complexity\":3.0,\"blocking factor\":1,\"delay factor\":2.0},\"nameSub\":\"EE Capstone Design\",\"id\":1116551982,\"credits\":3,\"nameCanonical\":\"\"},{\"curriculum_requisites\":[],\"name\":\" \",\"metrics\":{\"centrality\":0,\"complexity\":1.0,\"blocking factor\":0,\"delay factor\":1.0},\"nameSub\":\"EE Technical Elective 1\",\"id\":1373040133,\"credits\":3,\"nameCanonical\":\"\"},{\"curriculum_requisites\":[],\"name\":\" \",\"metrics\":{\"centrality\":0,\"complexity\":1.0,\"blocking factor\":0,\"delay factor\":1.0},\"nameSub\":\"EE Technical Elective 2\",\"id\":2900608954,\"credits\":3,\"nameCanonical\":\"\"},{\"curriculum_requisites\":[],\"name\":\" \",\"metrics\":{\"centrality\":0,\"complexity\":1.0,\"blocking factor\":0,\"delay factor\":1.0},\"nameSub\":\"Math\\/Statistics Elective\",\"id\":147960851,\"credits\":3,\"nameCanonical\":\"\"},{\"curriculum_requisites\":[],\"name\":\" \",\"metrics\":{\"centrality\":0,\"complexity\":1.0,\"blocking factor\":0,\"delay factor\":1.0},\"nameSub\":\"UK Core - Global Dynamics\",\"id\":819264340,\"credits\":3,\"nameCanonical\":\"\"}],\"id\":7},{\"name\":\"Term 8\",\"curriculum_items\":[{\"curriculum_requisites\":[{\"source_id\":1116551982,\"target_id\":2674820998,\"type\":\"CurriculumPrerequisite\"}],\"name\":\"EE 491\",\"metrics\":{\"centrality\":0,\"complexity\":2.0,\"blocking factor\":0,\"delay factor\":2.0},\"nameSub\":\"EE Capstone Design\",\"id\":2674820998,\"credits\":3,\"nameCanonical\":\"\"},{\"curriculum_requisites\":[],\"name\":\" \",\"metrics\":{\"centrality\":0,\"complexity\":1.0,\"blocking factor\":0,\"delay factor\":1.0},\"nameSub\":\"EE Technical Elective 3\",\"id\":3472050261,\"credits\":3,\"nameCanonical\":\"\"},{\"curriculum_requisites\":[],\"name\":\" \",\"metrics\":{\"centrality\":0,\"complexity\":1.0,\"blocking factor\":0,\"delay factor\":1.0},\"nameSub\":\"EE Technical Elective 4\",\"id\":3141179749,\"credits\":3,\"nameCanonical\":\"\"},{\"curriculum_requisites\":[],\"name\":\" \",\"metrics\":{\"centrality\":0,\"complexity\":1.0,\"blocking factor\":0,\"delay factor\":1.0},\"nameSub\":\"Supportive Elective\",\"id\":109586583,\"credits\":3,\"nameCanonical\":\"\"},{\"curriculum_requisites\":[],\"name\":\" \",\"metrics\":{\"centrality\":0,\"complexity\":1.0,\"blocking factor\":0,\"delay factor\":1.0},\"nameSub\":\"Engineering\\/Science Elective 2\",\"id\":1227973603,\"credits\":3,\"nameCanonical\":\"\"},{\"curriculum_requisites\":[],\"name\":\" \",\"metrics\":{\"centrality\":0,\"complexity\":1.0,\"blocking factor\":0,\"delay factor\":1.0},\"nameSub\":\"UK Core - Statistical Inferential Reasoning\",\"id\":599971617,\"credits\":3,\"nameCanonical\":\"\"}],\"id\":8}],\"institution\":\"\"}}}}},\"children\":[{\"props\":{\"src\":\"https:\\/\\/curricula-api-embed.damoursystems.com\\/\",\"id\":\"curriculum\",\"events\":{\"load\":\"(function (){this.contentWindow.postMessage({\\\"options\\\":{\\\"hideTerms\\\":false,\\\"edit\\\":false},\\\"curriculum\\\":{\\\"name\\\":\\\"University of Kentucky EE Program\\\",\\\"dp_name\\\":\\\"University of Kentucky EE Program 4-year Plan\\\",\\\"curriculum_terms\\\":[{\\\"name\\\":\\\"Term 1\\\",\\\"curriculum_items\\\":[{\\\"curriculum_requisites\\\":[],\\\"name\\\":\\\"EGR 101\\\",\\\"metrics\\\":{\\\"centrality\\\":0,\\\"complexity\\\":1.0,\\\"blocking factor\\\":0,\\\"delay factor\\\":1.0},\\\"nameSub\\\":\\\"Engineering Exploration I\\\",\\\"id\\\":2071595408,\\\"credits\\\":1,\\\"nameCanonical\\\":\\\"\\\"},{\\\"curriculum_requisites\\\":[],\\\"name\\\":\\\"EGR 102\\\",\\\"metrics\\\":{\\\"centrality\\\":0,\\\"complexity\\\":6.0,\\\"blocking factor\\\":3,\\\"delay factor\\\":3.0},\\\"nameSub\\\":\\\"Fundamentals of Engineering Computing\\\",\\\"id\\\":502542156,\\\"credits\\\":2,\\\"nameCanonical\\\":\\\"\\\"},{\\\"curriculum_requisites\\\":[{\\\"source_id\\\":3389674827,\\\"target_id\\\":2865398329,\\\"type\\\":\\\"CurriculumCorequisite\\\"}],\\\"name\\\":\\\"PHY 231\\\",\\\"metrics\\\":{\\\"centrality\\\":62,\\\"complexity\\\":17.0,\\\"blocking factor\\\":10,\\\"delay factor\\\":7.0},\\\"nameSub\\\":\\\"General University Physics\\\",\\\"id\\\":2865398329,\\\"credits\\\":4,\\\"nameCanonical\\\":\\\"\\\"},{\\\"curriculum_requisites\\\":[{\\\"source_id\\\":2865398329,\\\"target_id\\\":746915474,\\\"type\\\":\\\"CurriculumCorequisite\\\"}],\\\"name\\\":\\\"PHY 241\\\",\\\"metrics\\\":{\\\"centrality\\\":0,\\\"complexity\\\":3.0,\\\"blocking factor\\\":0,\\\"delay factor\\\":3.0},\\\"nameSub\\\":\\\"General University Physics Lab\\\",\\\"id\\\":746915474,\\\"credits\\\":1,\\\"nameCanonical\\\":\\\"\\\"},{\\\"curriculum_requisites\\\":[],\\\"name\\\":\\\"CIS\\/WRD 110\\\",\\\"metrics\\\":{\\\"centrality\\\":0,\\\"complexity\\\":3.0,\\\"blocking factor\\\":1,\\\"delay factor\\\":2.0},\\\"nameSub\\\":\\\"Composition and Communication I\\\",\\\"id\\\":858428248,\\\"credits\\\":3,\\\"nameCanonical\\\":\\\"\\\"},{\\\"curriculum_requisites\\\":[],\\\"name\\\":\\\"MA 113\\\",\\\"metrics\\\":{\\\"centrality\\\":0,\\\"complexity\\\":23.0,\\\"blocking factor\\\":15,\\\"delay factor\\\":8.0},\\\"nameSub\\\":\\\"Calculus I\\\",\\\"id\\\":3389674827,\\\"credits\\\":4,\\\"nameCanonical\\\":\\\"\\\"}],\\\"id\\\":1},{\\\"name\\\":\\\"Term 2\\\",\\\"curriculum_items\\\":[{\\\"curriculum_requisites\\\":[{\\\"source_id\\\":2865398329,\\\"target_id\\\":1123828828,\\\"type\\\":\\\"CurriculumCorequisite\\\"},{\\\"source_id\\\":502542156,\\\"target_id\\\":1123828828,\\\"type\\\":\\\"CurriculumPrerequisite\\\"},{\\\"source_id\\\":738464693,\\\"target_id\\\":1123828828,\\\"type\\\":\\\"CurriculumCorequisite\\\"},{\\\"source_id\\\":3389674827,\\\"target_id\\\":1123828828,\\\"type\\\":\\\"CurriculumCorequisite\\\"}],\\\"name\\\":\\\"EGR 103\\\",\\\"metrics\\\":{\\\"centrality\\\":0,\\\"complexity\\\":3.0,\\\"blocking factor\\\":0,\\\"delay factor\\\":3.0},\\\"nameSub\\\":\\\"Engineering Exploration II\\\",\\\"id\\\":1123828828,\\\"credits\\\":2,\\\"nameCanonical\\\":\\\"\\\"},{\\\"curriculum_requisites\\\":[{\\\"source_id\\\":858428248,\\\"target_id\\\":3660518225,\\\"type\\\":\\\"CurriculumPrerequisite\\\"}],\\\"name\\\":\\\"CIS\\/WRD 111\\\",\\\"metrics\\\":{\\\"centrality\\\":0,\\\"complexity\\\":2.0,\\\"blocking factor\\\":0,\\\"delay factor\\\":2.0},\\\"nameSub\\\":\\\"Composition and Communication II\\\",\\\"id\\\":3660518225,\\\"credits\\\":3,\\\"nameCanonical\\\":\\\"\\\"},{\\\"curriculum_requisites\\\":[{\\\"source_id\\\":3389674827,\\\"target_id\\\":2966989896,\\\"type\\\":\\\"CurriculumPrerequisite\\\"}],\\\"name\\\":\\\"MA 114\\\",\\\"metrics\\\":{\\\"centrality\\\":102,\\\"complexity\\\":19.0,\\\"blocking factor\\\":11,\\\"delay factor\\\":8.0},\\\"nameSub\\\":\\\"Calculus II\\\",\\\"id\\\":2966989896,\\\"credits\\\":4,\\\"nameCanonical\\\":\\\"\\\"},{\\\"curriculum_requisites\\\":[],\\\"name\\\":\\\"CHE 105\\\",\\\"metrics\\\":{\\\"centrality\\\":0,\\\"complexity\\\":3.0,\\\"blocking factor\\\":1,\\\"delay factor\\\":2.0},\\\"nameSub\\\":\\\"General College Chemistry I\\\",\\\"id\\\":738464693,\\\"credits\\\":4,\\\"nameCanonical\\\":\\\"\\\"},{\\\"curriculum_requisites\\\":[],\\\"name\\\":\\\" \\\",\\\"metrics\\\":{\\\"centrality\\\":0,\\\"complexity\\\":1.0,\\\"blocking factor\\\":0,\\\"delay factor\\\":1.0},\\\"nameSub\\\":\\\"UK Core - Social Sciences\\\",\\\"id\\\":1586162741,\\\"credits\\\":3,\\\"nameCanonical\\\":\\\"\\\"}],\\\"id\\\":2},{\\\"name\\\":\\\"Term 3\\\",\\\"curriculum_items\\\":[{\\\"curriculum_requisites\\\":[{\\\"source_id\\\":2966989896,\\\"target_id\\\":2193700744,\\\"type\\\":\\\"CurriculumPrerequisite\\\"}],\\\"name\\\":\\\"MA 213\\\",\\\"metrics\\\":{\\\"centrality\\\":102,\\\"complexity\\\":18.0,\\\"blocking factor\\\":10,\\\"delay factor\\\":8.0},\\\"nameSub\\\":\\\"Calculus III\\\",\\\"id\\\":2193700744,\\\"credits\\\":4,\\\"nameCanonical\\\":\\\"\\\"},{\\\"curriculum_requisites\\\":[{\\\"source_id\\\":2865398329,\\\"target_id\\\":24551683,\\\"type\\\":\\\"CurriculumPrerequisite\\\"},{\\\"source_id\\\":2193700744,\\\"target_id\\\":24551683,\\\"type\\\":\\\"CurriculumCorequisite\\\"}],\\\"name\\\":\\\"PHY 232\\\",\\\"metrics\\\":{\\\"centrality\\\":121,\\\"complexity\\\":15.0,\\\"blocking factor\\\":7,\\\"delay factor\\\":8.0},\\\"nameSub\\\":\\\"General University Physics\\\",\\\"id\\\":24551683,\\\"credits\\\":4,\\\"nameCanonical\\\":\\\"\\\"},{\\\"curriculum_requisites\\\":[{\\\"source_id\\\":24551683,\\\"target_id\\\":4109240503,\\\"type\\\":\\\"CurriculumCorequisite\\\"}],\\\"name\\\":\\\"PHY 242\\\",\\\"metrics\\\":{\\\"centrality\\\":60,\\\"complexity\\\":14.0,\\\"blocking factor\\\":6,\\\"delay factor\\\":8.0},\\\"nameSub\\\":\\\"General University Physics Lab\\\",\\\"id\\\":4109240503,\\\"credits\\\":1,\\\"nameCanonical\\\":\\\"\\\"},{\\\"curriculum_requisites\\\":[{\\\"source_id\\\":24551683,\\\"target_id\\\":1017230148,\\\"type\\\":\\\"CurriculumCorequisite\\\"},{\\\"source_id\\\":4109240503,\\\"target_id\\\":1017230148,\\\"type\\\":\\\"CurriculumCorequisite\\\"}],\\\"name\\\":\\\"EE 211\\\",\\\"metrics\\\":{\\\"centrality\\\":112,\\\"complexity\\\":13.0,\\\"blocking factor\\\":5,\\\"delay factor\\\":8.0},\\\"nameSub\\\":\\\"Circuits I\\\",\\\"id\\\":1017230148,\\\"credits\\\":4,\\\"nameCanonical\\\":\\\"\\\"},{\\\"curriculum_requisites\\\":[{\\\"source_id\\\":502542156,\\\"target_id\\\":1416959221,\\\"type\\\":\\\"CurriculumPrerequisite\\\"}],\\\"name\\\":\\\"EE 282\\\",\\\"metrics\\\":{\\\"centrality\\\":3,\\\"complexity\\\":4.0,\\\"blocking factor\\\":1,\\\"delay factor\\\":3.0},\\\"nameSub\\\":\\\"Digital Logic Design\\\",\\\"id\\\":1416959221,\\\"credits\\\":4,\\\"nameCanonical\\\":\\\"\\\"}],\\\"id\\\":3},{\\\"name\\\":\\\"Term 4\\\",\\\"curriculum_items\\\":[{\\\"curriculum_requisites\\\":[{\\\"source_id\\\":2193700744,\\\"target_id\\\":713164423,\\\"type\\\":\\\"CurriculumPrerequisite\\\"}],\\\"name\\\":\\\"MA 214\\\",\\\"metrics\\\":{\\\"centrality\\\":29,\\\"complexity\\\":11.0,\\\"blocking factor\\\":5,\\\"delay factor\\\":6.0},\\\"nameSub\\\":\\\"Calculus IV\\\",\\\"id\\\":713164423,\\\"credits\\\":3,\\\"nameCanonical\\\":\\\"\\\"},{\\\"curriculum_requisites\\\":[{\\\"source_id\\\":1017230148,\\\"target_id\\\":2281989961,\\\"type\\\":\\\"CurriculumPrerequisite\\\"},{\\\"source_id\\\":713164423,\\\"target_id\\\":2281989961,\\\"type\\\":\\\"CurriculumCorequisite\\\"}],\\\"name\\\":\\\"EE 223\\\",\\\"metrics\\\":{\\\"centrality\\\":136,\\\"complexity\\\":12.0,\\\"blocking factor\\\":4,\\\"delay factor\\\":8.0},\\\"nameSub\\\":\\\"AC Circuits\\\",\\\"id\\\":2281989961,\\\"credits\\\":4,\\\"nameCanonical\\\":\\\"\\\"},{\\\"curriculum_requisites\\\":[{\\\"source_id\\\":1332377596,\\\"target_id\\\":1647567702,\\\"type\\\":\\\"CurriculumCorequisite\\\"},{\\\"source_id\\\":1416959221,\\\"target_id\\\":1647567702,\\\"type\\\":\\\"CurriculumPrerequisite\\\"}],\\\"name\\\":\\\"EE 287\\\",\\\"metrics\\\":{\\\"centrality\\\":0,\\\"complexity\\\":3.0,\\\"blocking factor\\\":0,\\\"delay factor\\\":3.0},\\\"nameSub\\\":\\\"Intro. to Embedded Systems\\\",\\\"id\\\":1647567702,\\\"credits\\\":4,\\\"nameCanonical\\\":\\\"\\\"},{\\\"curriculum_requisites\\\":[],\\\"name\\\":\\\"CS 215\\\",\\\"metrics\\\":{\\\"centrality\\\":0,\\\"complexity\\\":3.0,\\\"blocking factor\\\":1,\\\"delay factor\\\":2.0},\\\"nameSub\\\":\\\"Intro. to Program Design Abstraction and Problem Solving\\\",\\\"id\\\":1332377596,\\\"credits\\\":4,\\\"nameCanonical\\\":\\\"\\\"},{\\\"curriculum_requisites\\\":[],\\\"name\\\":\\\" \\\",\\\"metrics\\\":{\\\"centrality\\\":0,\\\"complexity\\\":1.0,\\\"blocking factor\\\":0,\\\"delay factor\\\":1.0},\\\"nameSub\\\":\\\"UK Core - Humanities\\\",\\\"id\\\":699408466,\\\"credits\\\":3,\\\"nameCanonical\\\":\\\"\\\"}],\\\"id\\\":4},{\\\"name\\\":\\\"Term 5\\\",\\\"curriculum_items\\\":[{\\\"curriculum_requisites\\\":[{\\\"source_id\\\":24551683,\\\"target_id\\\":3945639322,\\\"type\\\":\\\"CurriculumPrerequisite\\\"},{\\\"source_id\\\":2281989961,\\\"target_id\\\":3945639322,\\\"type\\\":\\\"CurriculumPrerequisite\\\"}],\\\"name\\\":\\\"EE 415G\\\",\\\"metrics\\\":{\\\"centrality\\\":0,\\\"complexity\\\":8.0,\\\"blocking factor\\\":0,\\\"delay factor\\\":8.0},\\\"nameSub\\\":\\\"Electromechanics\\\",\\\"id\\\":3945639322,\\\"credits\\\":3,\\\"nameCanonical\\\":\\\"\\\"},{\\\"curriculum_requisites\\\":[{\\\"source_id\\\":2281989961,\\\"target_id\\\":2950065960,\\\"type\\\":\\\"CurriculumPrerequisite\\\"},{\\\"source_id\\\":713164423,\\\"target_id\\\":2950065960,\\\"type\\\":\\\"CurriculumPrerequisite\\\"}],\\\"name\\\":\\\"EE 421G\\\",\\\"metrics\\\":{\\\"centrality\\\":0,\\\"complexity\\\":8.0,\\\"blocking factor\\\":0,\\\"delay factor\\\":8.0},\\\"nameSub\\\":\\\"Signals & Systems\\\",\\\"id\\\":2950065960,\\\"credits\\\":3,\\\"nameCanonical\\\":\\\"\\\"},{\\\"curriculum_requisites\\\":[],\\\"name\\\":\\\" \\\",\\\"metrics\\\":{\\\"centrality\\\":0,\\\"complexity\\\":1.0,\\\"blocking factor\\\":0,\\\"delay factor\\\":1.0},\\\"nameSub\\\":\\\"Elective EE Laboratory 1\\\",\\\"id\\\":448709314,\\\"credits\\\":2,\\\"nameCanonical\\\":\\\"\\\"},{\\\"curriculum_requisites\\\":[{\\\"source_id\\\":2281989961,\\\"target_id\\\":16242192,\\\"type\\\":\\\"CurriculumPrerequisite\\\"}],\\\"name\\\":\\\"EE 461G\\\",\\\"metrics\\\":{\\\"centrality\\\":0,\\\"complexity\\\":8.0,\\\"blocking factor\\\":0,\\\"delay factor\\\":8.0},\\\"nameSub\\\":\\\"Intro. to Electronics\\\",\\\"id\\\":16242192,\\\"credits\\\":3,\\\"nameCanonical\\\":\\\"\\\"},{\\\"curriculum_requisites\\\":[{\\\"source_id\\\":2193700744,\\\"target_id\\\":2756944549,\\\"type\\\":\\\"CurriculumPrerequisite\\\"}],\\\"name\\\":\\\"MA 320\\\",\\\"metrics\\\":{\\\"centrality\\\":0,\\\"complexity\\\":4.0,\\\"blocking factor\\\":0,\\\"delay factor\\\":4.0},\\\"nameSub\\\":\\\"Introductory Probability\\\",\\\"id\\\":2756944549,\\\"credits\\\":3,\\\"nameCanonical\\\":\\\"\\\"},{\\\"curriculum_requisites\\\":[],\\\"name\\\":\\\" \\\",\\\"metrics\\\":{\\\"centrality\\\":0,\\\"complexity\\\":1.0,\\\"blocking factor\\\":0,\\\"delay factor\\\":1.0},\\\"nameSub\\\":\\\"Technical Elective 1\\\",\\\"id\\\":3654615878,\\\"credits\\\":3,\\\"nameCanonical\\\":\\\"\\\"}],\\\"id\\\":5},{\\\"name\\\":\\\"Term 6\\\",\\\"curriculum_items\\\":[{\\\"curriculum_requisites\\\":[{\\\"source_id\\\":2281989961,\\\"target_id\\\":1400716874,\\\"type\\\":\\\"CurriculumPrerequisite\\\"},{\\\"source_id\\\":2193700744,\\\"target_id\\\":1400716874,\\\"type\\\":\\\"CurriculumPrerequisite\\\"}],\\\"name\\\":\\\"EE 468G\\\",\\\"metrics\\\":{\\\"centrality\\\":0,\\\"complexity\\\":8.0,\\\"blocking factor\\\":0,\\\"delay factor\\\":8.0},\\\"nameSub\\\":\\\"Intro. to Engineering Electromagnetics\\\",\\\"id\\\":1400716874,\\\"credits\\\":4,\\\"nameCanonical\\\":\\\"\\\"},{\\\"curriculum_requisites\\\":[],\\\"name\\\":\\\" \\\",\\\"metrics\\\":{\\\"centrality\\\":0,\\\"complexity\\\":1.0,\\\"blocking factor\\\":0,\\\"delay factor\\\":1.0},\\\"nameSub\\\":\\\"Elective EE Laboratory 2\\\",\\\"id\\\":3008452217,\\\"credits\\\":2,\\\"nameCanonical\\\":\\\"\\\"},{\\\"curriculum_requisites\\\":[],\\\"name\\\":\\\" \\\",\\\"metrics\\\":{\\\"centrality\\\":0,\\\"complexity\\\":1.0,\\\"blocking factor\\\":0,\\\"delay factor\\\":1.0},\\\"nameSub\\\":\\\"Engineering\\/Science Elective 1\\\",\\\"id\\\":1824271747,\\\"credits\\\":3,\\\"nameCanonical\\\":\\\"\\\"},{\\\"curriculum_requisites\\\":[],\\\"name\\\":\\\" \\\",\\\"metrics\\\":{\\\"centrality\\\":0,\\\"complexity\\\":1.0,\\\"blocking factor\\\":0,\\\"delay factor\\\":1.0},\\\"nameSub\\\":\\\"Technical Elective 2\\\",\\\"id\\\":3697264218,\\\"credits\\\":3,\\\"nameCanonical\\\":\\\"\\\"},{\\\"curriculum_requisites\\\":[],\\\"name\\\":\\\" \\\",\\\"metrics\\\":{\\\"centrality\\\":0,\\\"complexity\\\":1.0,\\\"blocking factor\\\":0,\\\"delay factor\\\":1.0},\\\"nameSub\\\":\\\"UK Core - Citizenship - USA\\\",\\\"id\\\":1496407185,\\\"credits\\\":3,\\\"nameCanonical\\\":\\\"\\\"}],\\\"id\\\":6},{\\\"name\\\":\\\"Term 7\\\",\\\"curriculum_items\\\":[{\\\"curriculum_requisites\\\":[],\\\"name\\\":\\\"EE 490\\\",\\\"metrics\\\":{\\\"centrality\\\":0,\\\"complexity\\\":3.0,\\\"blocking factor\\\":1,\\\"delay factor\\\":2.0},\\\"nameSub\\\":\\\"EE Capstone Design\\\",\\\"id\\\":1116551982,\\\"credits\\\":3,\\\"nameCanonical\\\":\\\"\\\"},{\\\"curriculum_requisites\\\":[],\\\"name\\\":\\\" \\\",\\\"metrics\\\":{\\\"centrality\\\":0,\\\"complexity\\\":1.0,\\\"blocking factor\\\":0,\\\"delay factor\\\":1.0},\\\"nameSub\\\":\\\"EE Technical Elective 1\\\",\\\"id\\\":1373040133,\\\"credits\\\":3,\\\"nameCanonical\\\":\\\"\\\"},{\\\"curriculum_requisites\\\":[],\\\"name\\\":\\\" \\\",\\\"metrics\\\":{\\\"centrality\\\":0,\\\"complexity\\\":1.0,\\\"blocking factor\\\":0,\\\"delay factor\\\":1.0},\\\"nameSub\\\":\\\"EE Technical Elective 2\\\",\\\"id\\\":2900608954,\\\"credits\\\":3,\\\"nameCanonical\\\":\\\"\\\"},{\\\"curriculum_requisites\\\":[],\\\"name\\\":\\\" \\\",\\\"metrics\\\":{\\\"centrality\\\":0,\\\"complexity\\\":1.0,\\\"blocking factor\\\":0,\\\"delay factor\\\":1.0},\\\"nameSub\\\":\\\"Math\\/Statistics Elective\\\",\\\"id\\\":147960851,\\\"credits\\\":3,\\\"nameCanonical\\\":\\\"\\\"},{\\\"curriculum_requisites\\\":[],\\\"name\\\":\\\" \\\",\\\"metrics\\\":{\\\"centrality\\\":0,\\\"complexity\\\":1.0,\\\"blocking factor\\\":0,\\\"delay factor\\\":1.0},\\\"nameSub\\\":\\\"UK Core - Global Dynamics\\\",\\\"id\\\":819264340,\\\"credits\\\":3,\\\"nameCanonical\\\":\\\"\\\"}],\\\"id\\\":7},{\\\"name\\\":\\\"Term 8\\\",\\\"curriculum_items\\\":[{\\\"curriculum_requisites\\\":[{\\\"source_id\\\":1116551982,\\\"target_id\\\":2674820998,\\\"type\\\":\\\"CurriculumPrerequisite\\\"}],\\\"name\\\":\\\"EE 491\\\",\\\"metrics\\\":{\\\"centrality\\\":0,\\\"complexity\\\":2.0,\\\"blocking factor\\\":0,\\\"delay factor\\\":2.0},\\\"nameSub\\\":\\\"EE Capstone Design\\\",\\\"id\\\":2674820998,\\\"credits\\\":3,\\\"nameCanonical\\\":\\\"\\\"},{\\\"curriculum_requisites\\\":[],\\\"name\\\":\\\" \\\",\\\"metrics\\\":{\\\"centrality\\\":0,\\\"complexity\\\":1.0,\\\"blocking factor\\\":0,\\\"delay factor\\\":1.0},\\\"nameSub\\\":\\\"EE Technical Elective 3\\\",\\\"id\\\":3472050261,\\\"credits\\\":3,\\\"nameCanonical\\\":\\\"\\\"},{\\\"curriculum_requisites\\\":[],\\\"name\\\":\\\" \\\",\\\"metrics\\\":{\\\"centrality\\\":0,\\\"complexity\\\":1.0,\\\"blocking factor\\\":0,\\\"delay factor\\\":1.0},\\\"nameSub\\\":\\\"EE Technical Elective 4\\\",\\\"id\\\":3141179749,\\\"credits\\\":3,\\\"nameCanonical\\\":\\\"\\\"},{\\\"curriculum_requisites\\\":[],\\\"name\\\":\\\" \\\",\\\"metrics\\\":{\\\"centrality\\\":0,\\\"complexity\\\":1.0,\\\"blocking factor\\\":0,\\\"delay factor\\\":1.0},\\\"nameSub\\\":\\\"Supportive Elective\\\",\\\"id\\\":109586583,\\\"credits\\\":3,\\\"nameCanonical\\\":\\\"\\\"},{\\\"curriculum_requisites\\\":[],\\\"name\\\":\\\" \\\",\\\"metrics\\\":{\\\"centrality\\\":0,\\\"complexity\\\":1.0,\\\"blocking factor\\\":0,\\\"delay factor\\\":1.0},\\\"nameSub\\\":\\\"Engineering\\/Science Elective 2\\\",\\\"id\\\":1227973603,\\\"credits\\\":3,\\\"nameCanonical\\\":\\\"\\\"},{\\\"curriculum_requisites\\\":[],\\\"name\\\":\\\" \\\",\\\"metrics\\\":{\\\"centrality\\\":0,\\\"complexity\\\":1.0,\\\"blocking factor\\\":0,\\\"delay factor\\\":1.0},\\\"nameSub\\\":\\\"UK Core - Statistical Inferential Reasoning\\\",\\\"id\\\":599971617,\\\"credits\\\":3,\\\"nameCanonical\\\":\\\"\\\"}],\\\"id\\\":8}],\\\"institution\\\":\\\"\\\"}},\\\"*\\\"); window.removeEventListener(\\\"message\\\",window.messageReceived); window.messageReceived=(function (event){return (event.data.curriculum!==undefined) ? (WebIO.setval({\\\"name\\\":\\\"curriculum-data\\\",\\\"scope\\\":\\\"9566280307917419049\\\",\\\"id\\\":\\\"9796242514536379286\\\",\\\"type\\\":\\\"observable\\\"},event.data.curriculum)) : undefined}); return window.addEventListener(\\\"message\\\",window.messageReceived)})\"},\"style\":{\"padding\":\"0\",\"height\":\"100vh\",\"margin\":\"0\",\"border\":\"none\",\"width\":\"100%\"}},\"nodeType\":\"DOM\",\"type\":\"node\",\"instanceArgs\":{\"namespace\":\"html\",\"tag\":\"iframe\"},\"children\":[\"\"]}]},\n",
       "            window,\n",
       "        );\n",
       "    } else {\n",
       "        document\n",
       "            .querySelector('[data-webio-mountpoint=\"11504137164782772792\"]')\n",
       "            .innerHTML = (\n",
       "                '<div style=\"padding: 1em; background-color: #f8d6da; border: 1px solid #f5c6cb\">' +\n",
       "                '<p><strong>WebIO not detected.</strong></p>' +\n",
       "                '<p>Please read ' +\n",
       "                '<a href=\"https://juliagizmos.github.io/WebIO.jl/latest/troubleshooting/not-detected/\" target=\"_blank\">the troubleshooting guide</a> ' +\n",
       "                'for more information on how to resolve this issue.</p>' +\n",
       "                '<p><a href=\"https://juliagizmos.github.io/WebIO.jl/latest/troubleshooting/not-detected/\" target=\"_blank\">https://juliagizmos.github.io/WebIO.jl/latest/troubleshooting/not-detected/</a></p>' +\n",
       "                '</div>'\n",
       "            );\n",
       "    }\n",
       "    </script>\n",
       "</div>\n"
      ],
      "text/plain": [
       "WebIO.Scope(WebIO.Node{WebIO.DOM}(WebIO.DOM(:html, :iframe), Any[\"\"], Dict{Symbol, Any}(:src => \"https://curricula-api-embed.damoursystems.com/\", :id => \"curriculum\", :events => Dict{Symbol, WebIO.JSString}(:load => WebIO.JSString(\"(function (){this.contentWindow.postMessage({\\\"options\\\":{\\\"hideTerms\\\":false,\\\"edit\\\":false},\\\"curriculum\\\":{\\\"name\\\":\\\"University of Kentucky EE Program\\\",\\\"dp_name\\\":\\\"University of Kentucky EE Program 4-year Plan\\\",\\\"curriculum_terms\\\":[{\\\"name\\\":\\\"Term 1\\\",\\\"curriculum_items\\\":[{\\\"curriculum_requisites\\\":[],\\\"name\\\":\\\"EGR 101\\\",\\\"metrics\\\":{\\\"centrality\\\":0,\\\"complexity\\\":1.0,\\\"blocking factor\\\":0,\\\"delay factor\\\":1.0},\\\"nameSub\\\":\\\"Engineering Exploration I\\\",\\\"id\\\":2071595408,\\\"credits\\\":1,\\\"nameCanonical\\\":\\\"\\\"},{\\\"curriculum_requisites\\\":[],\\\"name\\\":\\\"EGR 102\\\",\\\"metrics\\\":{\\\"centrality\\\":0,\\\"complexity\\\":6.0,\\\"blocking factor\\\":3,\\\"delay factor\\\":3.0},\\\"nameSub\\\":\\\"Fundamentals of Engineering Computing\\\",\\\"id\\\":502542156,\\\"credits\\\":2,\\\"nameCanonical\\\":\\\"\\\"},{\\\"curriculum_requisites\\\":[{\\\"source_id\\\":3389674827,\\\"target_id\\\":2865398329,\\\"type\\\":\\\"CurriculumCorequisite\\\"}],\\\"name\\\":\\\"PHY 231\\\",\\\"metrics\\\":{\\\"centrality\\\":62,\\\"complexity\\\":17.0,\\\"blocking factor\\\":10,\\\"delay factor\\\":7.0},\\\"nameSub\\\":\\\"General University Physics\\\",\\\"id\\\":2865398329,\\\"credits\\\":4,\\\"nameCanonical\\\":\\\"\\\"},{\\\"curriculum_requisites\\\":[{\\\"source_id\\\":2865398329,\\\"target_id\\\":746915474,\\\"type\\\":\\\"CurriculumCorequisite\\\"}],\\\"name\\\":\\\"PHY 241\\\",\\\"metrics\\\":{\\\"centrality\\\":0,\\\"complexity\\\":3.0,\\\"blocking factor\\\":0,\\\"delay factor\\\":3.0},\\\"nameSub\\\":\\\"General University Physics Lab\\\",\\\"id\\\":746915474,\\\"credits\\\":1,\\\"nameCanonical\\\":\\\"\\\"},{\\\"curriculum_requisites\\\":[],\\\"name\\\":\\\"CIS/WRD 110\\\",\\\"metrics\\\":{\\\"centrality\\\":0,\\\"complexity\\\":3.0,\\\"blocking factor\\\":1,\\\"delay factor\\\":2.0},\\\"nameSub\\\":\\\"Composition and Communication I\\\",\\\"id\\\":858428248,\\\"credits\\\":3,\\\"nameCanonical\\\":\\\"\\\"},{\\\"curriculum_requisites\\\":[],\\\"name\\\":\\\"MA 113\\\",\\\"metrics\\\":{\\\"centrality\\\":0,\\\"complexity\\\":23.0,\\\"blocking factor\\\":15,\\\"delay factor\\\":8.0},\\\"nameSub\\\":\\\"Calculus I\\\",\\\"id\\\":3389674827,\\\"credits\\\":4,\\\"nameCanonical\\\":\\\"\\\"}],\\\"id\\\":1},{\\\"name\\\":\\\"Term 2\\\",\\\"curriculum_items\\\":[{\\\"curriculum_requisites\\\":[{\\\"source_id\\\":2865398329,\\\"target_id\\\":1123828828,\\\"type\\\":\\\"CurriculumCorequisite\\\"},{\\\"source_id\\\":502542156,\\\"target_id\\\":1123828828,\\\"type\\\":\\\"CurriculumPrerequisite\\\"},{\\\"source_id\\\":738464693,\\\"target_id\\\":1123828828,\\\"type\\\":\\\"CurriculumCorequisite\\\"},{\\\"source_id\\\":3389674827,\\\"target_id\\\":1123828828,\\\"type\\\":\\\"CurriculumCorequisite\\\"}],\\\"name\\\":\\\"EGR 103\\\",\\\"metrics\\\":{\\\"centrality\\\":0,\\\"complexity\\\":3.0,\\\"blocking factor\\\":0,\\\"delay factor\\\":3.0},\\\"nameSub\\\":\\\"Engineering Exploration II\\\",\\\"id\\\":1123828828,\\\"credits\\\":2,\\\"nameCanonical\\\":\\\"\\\"},{\\\"curriculum_requisites\\\":[{\\\"source_id\\\":858428248,\\\"target_id\\\":3660518225,\\\"type\\\":\\\"CurriculumPrerequisite\\\"}],\\\"name\\\":\\\"CIS/WRD 111\\\",\\\"metrics\\\":{\\\"centrality\\\":0,\\\"complexity\\\":2.0,\\\"blocking factor\\\":0,\\\"delay factor\\\":2.0},\\\"nameSub\\\":\\\"Composition and Communication II\\\",\\\"id\\\":3660518225,\\\"credits\\\":3,\\\"nameCanonical\\\":\\\"\\\"},{\\\"curriculum_requisites\\\":[{\\\"source_id\\\":3389674827,\\\"target_id\\\":2966989896,\\\"type\\\":\\\"CurriculumPrerequisite\\\"}],\\\"name\\\":\\\"MA 114\\\",\\\"metrics\\\":{\\\"centrality\\\":102,\\\"complexity\\\":19.0,\\\"blocking factor\\\":11,\\\"delay factor\\\":8.0},\\\"nameSub\\\":\\\"Calculus II\\\",\\\"id\\\":2966989896,\\\"credits\\\":4,\\\"nameCanonical\\\":\\\"\\\"},{\\\"curriculum_requisites\\\":[],\\\"name\\\":\\\"CHE 105\\\",\\\"metrics\\\":{\\\"centrality\\\":0,\\\"complexity\\\":3.0,\\\"blocking factor\\\":1,\\\"delay factor\\\":2.0},\\\"nameSub\\\":\\\"General College Chemistry I\\\",\\\"id\\\":738464693,\\\"credits\\\":4,\\\"nameCanonical\\\":\\\"\\\"},{\\\"curriculum_requisites\\\":[],\\\"name\\\":\\\" \\\",\\\"metrics\\\":{\\\"centrality\\\":0,\\\"complexity\\\":1.0,\\\"blocking factor\\\":0,\\\"delay factor\\\":1.0},\\\"nameSub\\\":\\\"UK Core - Social Sciences\\\",\\\"id\\\":1586162741,\\\"credits\\\":3,\\\"nameCanonical\\\":\\\"\\\"}],\\\"id\\\":2},{\\\"name\\\":\\\"Term 3\\\",\\\"curriculum_items\\\":[{\\\"curriculum_requisites\\\":[{\\\"source_id\\\":2966989896,\\\"target_id\\\":2193700744,\\\"type\\\":\\\"CurriculumPrerequisite\\\"}],\\\"name\\\":\\\"MA 213\\\",\\\"metrics\\\":{\\\"centrality\\\":102,\\\"complexity\\\":18.0,\\\"blocking factor\\\":10,\\\"delay factor\\\":8.0},\\\"nameSub\\\":\\\"Calculus III\\\",\\\"id\\\":2193700744,\\\"credits\\\":4,\\\"nameCanonical\\\":\\\"\\\"},{\\\"curriculum_requisites\\\":[{\\\"source_id\\\":2865398329,\\\"target_id\\\":24551683,\\\"type\\\":\\\"CurriculumPrerequisite\\\"},{\\\"source_id\\\":2193700744,\\\"target_id\\\":24551683,\\\"type\\\":\\\"CurriculumCorequisite\\\"}],\\\"name\\\":\\\"PHY 232\\\",\\\"metrics\\\":{\\\"centrality\\\":121,\\\"complexity\\\":15.0,\\\"blocking factor\\\":7,\\\"delay factor\\\":8.0},\\\"nameSub\\\":\\\"General University Physics\\\",\\\"id\\\":24551683,\\\"credits\\\":4,\\\"nameCanonical\\\":\\\"\\\"},{\\\"curriculum_requisites\\\":[{\\\"source_id\\\":24551683,\\\"target_id\\\":4109240503,\\\"type\\\":\\\"CurriculumCorequisite\\\"}],\\\"name\\\":\\\"PHY 242\\\",\\\"metrics\\\":{\\\"centrality\\\":60,\\\"complexity\\\":14.0,\\\"blocking factor\\\":6,\\\"delay factor\\\":8.0},\\\"nameSub\\\":\\\"General University Physics Lab\\\",\\\"id\\\":4109240503,\\\"credits\\\":1,\\\"nameCanonical\\\":\\\"\\\"},{\\\"curriculum_requisites\\\":[{\\\"source_id\\\":24551683,\\\"target_id\\\":1017230148,\\\"type\\\":\\\"CurriculumCorequisite\\\"},{\\\"source_id\\\":4109240503,\\\"target_id\\\":1017230148,\\\"type\\\":\\\"CurriculumCorequisite\\\"}],\\\"name\\\":\\\"EE 211\\\",\\\"metrics\\\":{\\\"centrality\\\":112,\\\"complexity\\\":13.0,\\\"blocking factor\\\":5,\\\"delay factor\\\":8.0},\\\"nameSub\\\":\\\"Circuits I\\\",\\\"id\\\":1017230148,\\\"credits\\\":4,\\\"nameCanonical\\\":\\\"\\\"},{\\\"curriculum_requisites\\\":[{\\\"source_id\\\":502542156,\\\"target_id\\\":1416959221,\\\"type\\\":\\\"CurriculumPrerequisite\\\"}],\\\"name\\\":\\\"EE 282\\\",\\\"metrics\\\":{\\\"centrality\\\":3,\\\"complexity\\\":4.0,\\\"blocking factor\\\":1,\\\"delay factor\\\":3.0},\\\"nameSub\\\":\\\"Digital Logic Design\\\",\\\"id\\\":1416959221,\\\"credits\\\":4,\\\"nameCanonical\\\":\\\"\\\"}],\\\"id\\\":3},{\\\"name\\\":\\\"Term 4\\\",\\\"curriculum_items\\\":[{\\\"curriculum_requisites\\\":[{\\\"source_id\\\":2193700744,\\\"target_id\\\":713164423,\\\"type\\\":\\\"CurriculumPrerequisite\\\"}],\\\"name\\\":\\\"MA 214\\\",\\\"metrics\\\":{\\\"centrality\\\":29,\\\"complexity\\\":11.0,\\\"blocking factor\\\":5,\\\"delay factor\\\":6.0},\\\"nameSub\\\":\\\"Calculus IV\\\",\\\"id\\\":713164423,\\\"credits\\\":3,\\\"nameCanonical\\\":\\\"\\\"},{\\\"curriculum_requisites\\\":[{\\\"source_id\\\":1017230148,\\\"target_id\\\":2281989961,\\\"type\\\":\\\"CurriculumPrerequisite\\\"},{\\\"source_id\\\":713164423,\\\"target_id\\\":2281989961,\\\"type\\\":\\\"CurriculumCorequisite\\\"}],\\\"name\\\":\\\"EE 223\\\",\\\"metrics\\\":{\\\"centrality\\\":136,\\\"complexity\\\":12.0,\\\"blocking factor\\\":4,\\\"delay factor\\\":8.0},\\\"nameSub\\\":\\\"AC Circuits\\\",\\\"id\\\":2281989961,\\\"credits\\\":4,\\\"nameCanonical\\\":\\\"\\\"},{\\\"curriculum_requisites\\\":[{\\\"source_id\\\":1332377596,\\\"target_id\\\":1647567702,\\\"type\\\":\\\"CurriculumCorequisite\\\"},{\\\"source_id\\\":1416959221,\\\"target_id\\\":1647567702,\\\"type\\\":\\\"CurriculumPrerequisite\\\"}],\\\"name\\\":\\\"EE 287\\\",\\\"metrics\\\":{\\\"centrality\\\":0,\\\"complexity\\\":3.0,\\\"blocking factor\\\":0,\\\"delay factor\\\":3.0},\\\"nameSub\\\":\\\"Intro. to Embedded Systems\\\",\\\"id\\\":1647567702,\\\"credits\\\":4,\\\"nameCanonical\\\":\\\"\\\"},{\\\"curriculum_requisites\\\":[],\\\"name\\\":\\\"CS 215\\\",\\\"metrics\\\":{\\\"centrality\\\":0,\\\"complexity\\\":3.0,\\\"blocking factor\\\":1,\\\"delay factor\\\":2.0},\\\"nameSub\\\":\\\"Intro. to Program Design Abstraction and Problem Solving\\\",\\\"id\\\":1332377596,\\\"credits\\\":4,\\\"nameCanonical\\\":\\\"\\\"},{\\\"curriculum_requisites\\\":[],\\\"name\\\":\\\" \\\",\\\"metrics\\\":{\\\"centrality\\\":0,\\\"complexity\\\":1.0,\\\"blocking factor\\\":0,\\\"delay factor\\\":1.0},\\\"nameSub\\\":\\\"UK Core - Humanities\\\",\\\"id\\\":699408466,\\\"credits\\\":3,\\\"nameCanonical\\\":\\\"\\\"}],\\\"id\\\":4},{\\\"name\\\":\\\"Term 5\\\",\\\"curriculum_items\\\":[{\\\"curriculum_requisites\\\":[{\\\"source_id\\\":24551683,\\\"target_id\\\":3945639322,\\\"type\\\":\\\"CurriculumPrerequisite\\\"},{\\\"source_id\\\":2281989961,\\\"target_id\\\":3945639322,\\\"type\\\":\\\"CurriculumPrerequisite\\\"}],\\\"name\\\":\\\"EE 415G\\\",\\\"metrics\\\":{\\\"centrality\\\":0,\\\"complexity\\\":8.0,\\\"blocking factor\\\":0,\\\"delay factor\\\":8.0},\\\"nameSub\\\":\\\"Electromechanics\\\",\\\"id\\\":3945639322,\\\"credits\\\":3,\\\"nameCanonical\\\":\\\"\\\"},{\\\"curriculum_requisites\\\":[{\\\"source_id\\\":2281989961,\\\"target_id\\\":2950065960,\\\"type\\\":\\\"CurriculumPrerequisite\\\"},{\\\"source_id\\\":713164423,\\\"target_id\\\":2950065960,\\\"type\\\":\\\"CurriculumPrerequisite\\\"}],\\\"name\\\":\\\"EE 421G\\\",\\\"metrics\\\":{\\\"centrality\\\":0,\\\"complexity\\\":8.0,\\\"blocking factor\\\":0,\\\"delay factor\\\":8.0},\\\"nameSub\\\":\\\"Signals & Systems\\\",\\\"id\\\":2950065960,\\\"credits\\\":3,\\\"nameCanonical\\\":\\\"\\\"},{\\\"curriculum_requisites\\\":[],\\\"name\\\":\\\" \\\",\\\"metrics\\\":{\\\"centrality\\\":0,\\\"complexity\\\":1.0,\\\"blocking factor\\\":0,\\\"delay factor\\\":1.0},\\\"nameSub\\\":\\\"Elective EE Laboratory 1\\\",\\\"id\\\":448709314,\\\"credits\\\":2,\\\"nameCanonical\\\":\\\"\\\"},{\\\"curriculum_requisites\\\":[{\\\"source_id\\\":2281989961,\\\"target_id\\\":16242192,\\\"type\\\":\\\"CurriculumPrerequisite\\\"}],\\\"name\\\":\\\"EE 461G\\\",\\\"metrics\\\":{\\\"centrality\\\":0,\\\"complexity\\\":8.0,\\\"blocking factor\\\":0,\\\"delay factor\\\":8.0},\\\"nameSub\\\":\\\"Intro. to Electronics\\\",\\\"id\\\":16242192,\\\"credits\\\":3,\\\"nameCanonical\\\":\\\"\\\"},{\\\"curriculum_requisites\\\":[{\\\"source_id\\\":2193700744,\\\"target_id\\\":2756944549,\\\"type\\\":\\\"CurriculumPrerequisite\\\"}],\\\"name\\\":\\\"MA 320\\\",\\\"metrics\\\":{\\\"centrality\\\":0,\\\"complexity\\\":4.0,\\\"blocking factor\\\":0,\\\"delay factor\\\":4.0},\\\"nameSub\\\":\\\"Introductory Probability\\\",\\\"id\\\":2756944549,\\\"credits\\\":3,\\\"nameCanonical\\\":\\\"\\\"},{\\\"curriculum_requisites\\\":[],\\\"name\\\":\\\" \\\",\\\"metrics\\\":{\\\"centrality\\\":0,\\\"complexity\\\":1.0,\\\"blocking factor\\\":0,\\\"delay factor\\\":1.0},\\\"nameSub\\\":\\\"Technical Elective 1\\\",\\\"id\\\":3654615878,\\\"credits\\\":3,\\\"nameCanonical\\\":\\\"\\\"}],\\\"id\\\":5},{\\\"name\\\":\\\"Term 6\\\",\\\"curriculum_items\\\":[{\\\"curriculum_requisites\\\":[{\\\"source_id\\\":2281989961,\\\"target_id\\\":1400716874,\\\"type\\\":\\\"CurriculumPrerequisite\\\"},{\\\"source_id\\\":2193700744,\\\"target_id\\\":1400716874,\\\"type\\\":\\\"CurriculumPrerequisite\\\"}],\\\"name\\\":\\\"EE 468G\\\",\\\"metrics\\\":{\\\"centrality\\\":0,\\\"complexity\\\":8.0,\\\"blocking factor\\\":0,\\\"delay factor\\\":8.0},\\\"nameSub\\\":\\\"Intro. to Engineering Electromagnetics\\\",\\\"id\\\":1400716874,\\\"credits\\\":4,\\\"nameCanonical\\\":\\\"\\\"},{\\\"curriculum_requisites\\\":[],\\\"name\\\":\\\" \\\",\\\"metrics\\\":{\\\"centrality\\\":0,\\\"complexity\\\":1.0,\\\"blocking factor\\\":0,\\\"delay factor\\\":1.0},\\\"nameSub\\\":\\\"Elective EE Laboratory 2\\\",\\\"id\\\":3008452217,\\\"credits\\\":2,\\\"nameCanonical\\\":\\\"\\\"},{\\\"curriculum_requisites\\\":[],\\\"name\\\":\\\" \\\",\\\"metrics\\\":{\\\"centrality\\\":0,\\\"complexity\\\":1.0,\\\"blocking factor\\\":0,\\\"delay factor\\\":1.0},\\\"nameSub\\\":\\\"Engineering/Science Elective 1\\\",\\\"id\\\":1824271747,\\\"credits\\\":3,\\\"nameCanonical\\\":\\\"\\\"},{\\\"curriculum_requisites\\\":[],\\\"name\\\":\\\" \\\",\\\"metrics\\\":{\\\"centrality\\\":0,\\\"complexity\\\":1.0,\\\"blocking factor\\\":0,\\\"delay factor\\\":1.0},\\\"nameSub\\\":\\\"Technical Elective 2\\\",\\\"id\\\":3697264218,\\\"credits\\\":3,\\\"nameCanonical\\\":\\\"\\\"},{\\\"curriculum_requisites\\\":[],\\\"name\\\":\\\" \\\",\\\"metrics\\\":{\\\"centrality\\\":0,\\\"complexity\\\":1.0,\\\"blocking factor\\\":0,\\\"delay factor\\\":1.0},\\\"nameSub\\\":\\\"UK Core - Citizenship - USA\\\",\\\"id\\\":1496407185,\\\"credits\\\":3,\\\"nameCanonical\\\":\\\"\\\"}],\\\"id\\\":6},{\\\"name\\\":\\\"Term 7\\\",\\\"curriculum_items\\\":[{\\\"curriculum_requisites\\\":[],\\\"name\\\":\\\"EE 490\\\",\\\"metrics\\\":{\\\"centrality\\\":0,\\\"complexity\\\":3.0,\\\"blocking factor\\\":1,\\\"delay factor\\\":2.0},\\\"nameSub\\\":\\\"EE Capstone Design\\\",\\\"id\\\":1116551982,\\\"credits\\\":3,\\\"nameCanonical\\\":\\\"\\\"},{\\\"curriculum_requisites\\\":[],\\\"name\\\":\\\" \\\",\\\"metrics\\\":{\\\"centrality\\\":0,\\\"complexity\\\":1.0,\\\"blocking factor\\\":0,\\\"delay factor\\\":1.0},\\\"nameSub\\\":\\\"EE Technical Elective 1\\\",\\\"id\\\":1373040133,\\\"credits\\\":3,\\\"nameCanonical\\\":\\\"\\\"},{\\\"curriculum_requisites\\\":[],\\\"name\\\":\\\" \\\",\\\"metrics\\\":{\\\"centrality\\\":0,\\\"complexity\\\":1.0,\\\"blocking factor\\\":0,\\\"delay factor\\\":1.0},\\\"nameSub\\\":\\\"EE Technical Elective 2\\\",\\\"id\\\":2900608954,\\\"credits\\\":3,\\\"nameCanonical\\\":\\\"\\\"},{\\\"curriculum_requisites\\\":[],\\\"name\\\":\\\" \\\",\\\"metrics\\\":{\\\"centrality\\\":0,\\\"complexity\\\":1.0,\\\"blocking factor\\\":0,\\\"delay factor\\\":1.0},\\\"nameSub\\\":\\\"Math/Statistics Elective\\\",\\\"id\\\":147960851,\\\"credits\\\":3,\\\"nameCanonical\\\":\\\"\\\"},{\\\"curriculum_requisites\\\":[],\\\"name\\\":\\\" \\\",\\\"metrics\\\":{\\\"centrality\\\":0,\\\"complexity\\\":1.0,\\\"blocking factor\\\":0,\\\"delay factor\\\":1.0},\\\"nameSub\\\":\\\"UK Core - Global Dynamics\\\",\\\"id\\\":819264340,\\\"credits\\\":3,\\\"nameCanonical\\\":\\\"\\\"}],\\\"id\\\":7},{\\\"name\\\":\\\"Term 8\\\",\\\"curriculum_items\\\":[{\\\"curriculum_requisites\\\":[{\\\"source_id\\\":1116551982,\\\"target_id\\\":2674820998,\\\"type\\\":\\\"CurriculumPrerequisite\\\"}],\\\"name\\\":\\\"EE 491\\\",\\\"metrics\\\":{\\\"centrality\\\":0,\\\"complexity\\\":2.0,\\\"blocking factor\\\":0,\\\"delay factor\\\":2.0},\\\"nameSub\\\":\\\"EE Capstone Design\\\",\\\"id\\\":2674820998,\\\"credits\\\":3,\\\"nameCanonical\\\":\\\"\\\"},{\\\"curriculum_requisites\\\":[],\\\"name\\\":\\\" \\\",\\\"metrics\\\":{\\\"centrality\\\":0,\\\"complexity\\\":1.0,\\\"blocking factor\\\":0,\\\"delay factor\\\":1.0},\\\"nameSub\\\":\\\"EE Technical Elective 3\\\",\\\"id\\\":3472050261,\\\"credits\\\":3,\\\"nameCanonical\\\":\\\"\\\"},{\\\"curriculum_requisites\\\":[],\\\"name\\\":\\\" \\\",\\\"metrics\\\":{\\\"centrality\\\":0,\\\"complexity\\\":1.0,\\\"blocking factor\\\":0,\\\"delay factor\\\":1.0},\\\"nameSub\\\":\\\"EE Technical Elective 4\\\",\\\"id\\\":3141179749,\\\"credits\\\":3,\\\"nameCanonical\\\":\\\"\\\"},{\\\"curriculum_requisites\\\":[],\\\"name\\\":\\\" \\\",\\\"metrics\\\":{\\\"centrality\\\":0,\\\"complexity\\\":1.0,\\\"blocking factor\\\":0,\\\"delay factor\\\":1.0},\\\"nameSub\\\":\\\"Supportive Elective\\\",\\\"id\\\":109586583,\\\"credits\\\":3,\\\"nameCanonical\\\":\\\"\\\"},{\\\"curriculum_requisites\\\":[],\\\"name\\\":\\\" \\\",\\\"metrics\\\":{\\\"centrality\\\":0,\\\"complexity\\\":1.0,\\\"blocking factor\\\":0,\\\"delay factor\\\":1.0},\\\"nameSub\\\":\\\"Engineering/Science Elective 2\\\",\\\"id\\\":1227973603,\\\"credits\\\":3,\\\"nameCanonical\\\":\\\"\\\"},{\\\"curriculum_requisites\\\":[],\\\"name\\\":\\\" \\\",\\\"metrics\\\":{\\\"centrality\\\":0,\\\"complexity\\\":1.0,\\\"blocking factor\\\":0,\\\"delay factor\\\":1.0},\\\"nameSub\\\":\\\"UK Core - Statistical Inferential Reasoning\\\",\\\"id\\\":599971617,\\\"credits\\\":3,\\\"nameCanonical\\\":\\\"\\\"}],\\\"id\\\":8}],\\\"institution\\\":\\\"\\\"}},\\\"*\\\"); window.removeEventListener(\\\"message\\\",window.messageReceived); window.messageReceived=(function (event){return (event.data.curriculum!==undefined) ? (WebIO.setval({\\\"name\\\":\\\"curriculum-data\\\",\\\"scope\\\":\\\"9566280307917419049\\\",\\\"id\\\":\\\"9796242514536379286\\\",\\\"type\\\":\\\"observable\\\"},event.data.curriculum)) : undefined}); return window.addEventListener(\\\"message\\\",window.messageReceived)})\")), :style => Dict(:padding => \"0\", :height => \"100vh\", :margin => \"0\", :border => \"none\", :width => \"100%\"))), Dict{String, Tuple{Observables.AbstractObservable, Union{Nothing, Bool}}}(\"curriculum-data\" => (Observable{Dict{String, Any}} with 1 listeners. Value:\n",
       "Dict{String, Any}(\"options\" => Dict{String, Any}(\"hideTerms\" => false, \"edit\" => false), \"curriculum\" => Dict{String, Any}(\"name\" => \"University of Kentucky EE Program\", \"dp_name\" => \"University of Kentucky EE Program 4-year Plan\", \"curriculum_terms\" => Dict{String, Any}[Dict(\"name\" => \"Term 1\", \"curriculum_items\" => Dict{String, Any}[Dict(\"curriculum_requisites\" => Dict{String, Any}[], \"name\" => \"EGR 101\", \"metrics\" => Dict{String, Any}(\"centrality\" => 0, \"complexity\" => 1.0, \"blocking factor\" => 0, \"delay factor\" => 1.0), \"nameSub\" => \"Engineering Exploration I\", \"id\" => 2071595408, \"credits\" => 1, \"nameCanonical\" => \"\"), Dict(\"curriculum_requisites\" => Dict{String, Any}[], \"name\" => \"EGR 102\", \"metrics\" => Dict{String, Any}(\"centrality\" => 0, \"complexity\" => 6.0, \"blocking factor\" => 3, \"delay factor\" => 3.0), \"nameSub\" => \"Fundamentals of Engineering Computing\", \"id\" => 502542156, \"credits\" => 2, \"nameCanonical\" => \"\"), Dict(\"curriculum_requisites\" => Dict{String, Any}[Dict(\"source_id\" => 3389674827, \"target_id\" => 2865398329, \"type\" => \"CurriculumCorequisite\")], \"name\" => \"PHY 231\", \"metrics\" => Dict{String, Any}(\"centrality\" => 62, \"complexity\" => 17.0, \"blocking factor\" => 10, \"delay factor\" => 7.0), \"nameSub\" => \"General University Physics\", \"id\" => 2865398329, \"credits\" => 4, \"nameCanonical\" => \"\"), Dict(\"curriculum_requisites\" => Dict{String, Any}[Dict(\"source_id\" => 2865398329, \"target_id\" => 746915474, \"type\" => \"CurriculumCorequisite\")], \"name\" => \"PHY 241\", \"metrics\" => Dict{String, Any}(\"centrality\" => 0, \"complexity\" => 3.0, \"blocking factor\" => 0, \"delay factor\" => 3.0), \"nameSub\" => \"General University Physics Lab\", \"id\" => 746915474, \"credits\" => 1, \"nameCanonical\" => \"\"), Dict(\"curriculum_requisites\" => Dict{String, Any}[], \"name\" => \"CIS/WRD 110\", \"metrics\" => Dict{String, Any}(\"centrality\" => 0, \"complexity\" => 3.0, \"blocking factor\" => 1, \"delay factor\" => 2.0), \"nameSub\" => \"Composition and Communication I\", \"id\" => 858428248, \"credits\" => 3, \"nameCanonical\" => \"\"), Dict(\"curriculum_requisites\" => Dict{String, Any}[], \"name\" => \"MA 113\", \"metrics\" => Dict{String, Any}(\"centrality\" => 0, \"complexity\" => 23.0, \"blocking factor\" => 15, \"delay factor\" => 8.0), \"nameSub\" => \"Calculus I\", \"id\" => 3389674827, \"credits\" => 4, \"nameCanonical\" => \"\")], \"id\" => 1), Dict(\"name\" => \"Term 2\", \"curriculum_items\" => Dict{String, Any}[Dict(\"curriculum_requisites\" => Dict{String, Any}[Dict(\"source_id\" => 2865398329, \"target_id\" => 1123828828, \"type\" => \"CurriculumCorequisite\"), Dict(\"source_id\" => 502542156, \"target_id\" => 1123828828, \"type\" => \"CurriculumPrerequisite\"), Dict(\"source_id\" => 738464693, \"target_id\" => 1123828828, \"type\" => \"CurriculumCorequisite\"), Dict(\"source_id\" => 3389674827, \"target_id\" => 1123828828, \"type\" => \"CurriculumCorequisite\")], \"name\" => \"EGR 103\", \"metrics\" => Dict{String, Any}(\"centrality\" => 0, \"complexity\" => 3.0, \"blocking factor\" => 0, \"delay factor\" => 3.0), \"nameSub\" => \"Engineering Exploration II\", \"id\" => 1123828828, \"credits\" => 2, \"nameCanonical\" => \"\"), Dict(\"curriculum_requisites\" => Dict{String, Any}[Dict(\"source_id\" => 858428248, \"target_id\" => 3660518225, \"type\" => \"CurriculumPrerequisite\")], \"name\" => \"CIS/WRD 111\", \"metrics\" => Dict{String, Any}(\"centrality\" => 0, \"complexity\" => 2.0, \"blocking factor\" => 0, \"delay factor\" => 2.0), \"nameSub\" => \"Composition and Communication II\", \"id\" => 3660518225, \"credits\" => 3, \"nameCanonical\" => \"\"), Dict(\"curriculum_requisites\" => Dict{String, Any}[Dict(\"source_id\" => 3389674827, \"target_id\" => 2966989896, \"type\" => \"CurriculumPrerequisite\")], \"name\" => \"MA 114\", \"metrics\" => Dict{String, Any}(\"centrality\" => 102, \"complexity\" => 19.0, \"blocking factor\" => 11, \"delay factor\" => 8.0), \"nameSub\" => \"Calculus II\", \"id\" => 2966989896, \"credits\" => 4, \"nameCanonical\" => \"\"), Dict(\"curriculum_requisites\" => Dict{String, Any}[], \"name\" => \"CHE 105\", \"metrics\" => Dict{String, Any}(\"centrality\" => 0, \"complexity\" => 3.0, \"blocking factor\" => 1, \"delay factor\" => 2.0), \"nameSub\" => \"General College Chemistry I\", \"id\" => 738464693, \"credits\" => 4, \"nameCanonical\" => \"\"), Dict(\"curriculum_requisites\" => Dict{String, Any}[], \"name\" => \" \", \"metrics\" => Dict{String, Any}(\"centrality\" => 0, \"complexity\" => 1.0, \"blocking factor\" => 0, \"delay factor\" => 1.0), \"nameSub\" => \"UK Core - Social Sciences\", \"id\" => 1586162741, \"credits\" => 3, \"nameCanonical\" => \"\")], \"id\" => 2), Dict(\"name\" => \"Term 3\", \"curriculum_items\" => Dict{String, Any}[Dict(\"curriculum_requisites\" => Dict{String, Any}[Dict(\"source_id\" => 2966989896, \"target_id\" => 2193700744, \"type\" => \"CurriculumPrerequisite\")], \"name\" => \"MA 213\", \"metrics\" => Dict{String, Any}(\"centrality\" => 102, \"complexity\" => 18.0, \"blocking factor\" => 10, \"delay factor\" => 8.0), \"nameSub\" => \"Calculus III\", \"id\" => 2193700744, \"credits\" => 4, \"nameCanonical\" => \"\"), Dict(\"curriculum_requisites\" => Dict{String, Any}[Dict(\"source_id\" => 2865398329, \"target_id\" => 24551683, \"type\" => \"CurriculumPrerequisite\"), Dict(\"source_id\" => 2193700744, \"target_id\" => 24551683, \"type\" => \"CurriculumCorequisite\")], \"name\" => \"PHY 232\", \"metrics\" => Dict{String, Any}(\"centrality\" => 121, \"complexity\" => 15.0, \"blocking factor\" => 7, \"delay factor\" => 8.0), \"nameSub\" => \"General University Physics\", \"id\" => 24551683, \"credits\" => 4, \"nameCanonical\" => \"\"), Dict(\"curriculum_requisites\" => Dict{String, Any}[Dict(\"source_id\" => 24551683, \"target_id\" => 4109240503, \"type\" => \"CurriculumCorequisite\")], \"name\" => \"PHY 242\", \"metrics\" => Dict{String, Any}(\"centrality\" => 60, \"complexity\" => 14.0, \"blocking factor\" => 6, \"delay factor\" => 8.0), \"nameSub\" => \"General University Physics Lab\", \"id\" => 4109240503, \"credits\" => 1, \"nameCanonical\" => \"\"), Dict(\"curriculum_requisites\" => Dict{String, Any}[Dict(\"source_id\" => 24551683, \"target_id\" => 1017230148, \"type\" => \"CurriculumCorequisite\"), Dict(\"source_id\" => 4109240503, \"target_id\" => 1017230148, \"type\" => \"CurriculumCorequisite\")], \"name\" => \"EE 211\", \"metrics\" => Dict{String, Any}(\"centrality\" => 112, \"complexity\" => 13.0, \"blocking factor\" => 5, \"delay factor\" => 8.0), \"nameSub\" => \"Circuits I\", \"id\" => 1017230148, \"credits\" => 4, \"nameCanonical\" => \"\"), Dict(\"curriculum_requisites\" => Dict{String, Any}[Dict(\"source_id\" => 502542156, \"target_id\" => 1416959221, \"type\" => \"CurriculumPrerequisite\")], \"name\" => \"EE 282\", \"metrics\" => Dict{String, Any}(\"centrality\" => 3, \"complexity\" => 4.0, \"blocking factor\" => 1, \"delay factor\" => 3.0), \"nameSub\" => \"Digital Logic Design\", \"id\" => 1416959221, \"credits\" => 4, \"nameCanonical\" => \"\")], \"id\" => 3), Dict(\"name\" => \"Term 4\", \"curriculum_items\" => Dict{String, Any}[Dict(\"curriculum_requisites\" => Dict{String, Any}[Dict(\"source_id\" => 2193700744, \"target_id\" => 713164423, \"type\" => \"CurriculumPrerequisite\")], \"name\" => \"MA 214\", \"metrics\" => Dict{String, Any}(\"centrality\" => 29, \"complexity\" => 11.0, \"blocking factor\" => 5, \"delay factor\" => 6.0), \"nameSub\" => \"Calculus IV\", \"id\" => 713164423, \"credits\" => 3, \"nameCanonical\" => \"\"), Dict(\"curriculum_requisites\" => Dict{String, Any}[Dict(\"source_id\" => 1017230148, \"target_id\" => 2281989961, \"type\" => \"CurriculumPrerequisite\"), Dict(\"source_id\" => 713164423, \"target_id\" => 2281989961, \"type\" => \"CurriculumCorequisite\")], \"name\" => \"EE 223\", \"metrics\" => Dict{String, Any}(\"centrality\" => 136, \"complexity\" => 12.0, \"blocking factor\" => 4, \"delay factor\" => 8.0), \"nameSub\" => \"AC Circuits\", \"id\" => 2281989961, \"credits\" => 4, \"nameCanonical\" => \"\"), Dict(\"curriculum_requisites\" => Dict{String, Any}[Dict(\"source_id\" => 1332377596, \"target_id\" => 1647567702, \"type\" => \"CurriculumCorequisite\"), Dict(\"source_id\" => 1416959221, \"target_id\" => 1647567702, \"type\" => \"CurriculumPrerequisite\")], \"name\" => \"EE 287\", \"metrics\" => Dict{String, Any}(\"centrality\" => 0, \"complexity\" => 3.0, \"blocking factor\" => 0, \"delay factor\" => 3.0), \"nameSub\" => \"Intro. to Embedded Systems\", \"id\" => 1647567702, \"credits\" => 4, \"nameCanonical\" => \"\"), Dict(\"curriculum_requisites\" => Dict{String, Any}[], \"name\" => \"CS 215\", \"metrics\" => Dict{String, Any}(\"centrality\" => 0, \"complexity\" => 3.0, \"blocking factor\" => 1, \"delay factor\" => 2.0), \"nameSub\" => \"Intro. to Program Design Abstraction and Problem Solving\", \"id\" => 1332377596, \"credits\" => 4, \"nameCanonical\" => \"\"), Dict(\"curriculum_requisites\" => Dict{String, Any}[], \"name\" => \" \", \"metrics\" => Dict{String, Any}(\"centrality\" => 0, \"complexity\" => 1.0, \"blocking factor\" => 0, \"delay factor\" => 1.0), \"nameSub\" => \"UK Core - Humanities\", \"id\" => 699408466, \"credits\" => 3, \"nameCanonical\" => \"\")], \"id\" => 4), Dict(\"name\" => \"Term 5\", \"curriculum_items\" => Dict{String, Any}[Dict(\"curriculum_requisites\" => Dict{String, Any}[Dict(\"source_id\" => 24551683, \"target_id\" => 3945639322, \"type\" => \"CurriculumPrerequisite\"), Dict(\"source_id\" => 2281989961, \"target_id\" => 3945639322, \"type\" => \"CurriculumPrerequisite\")], \"name\" => \"EE 415G\", \"metrics\" => Dict{String, Any}(\"centrality\" => 0, \"complexity\" => 8.0, \"blocking factor\" => 0, \"delay factor\" => 8.0), \"nameSub\" => \"Electromechanics\", \"id\" => 3945639322, \"credits\" => 3, \"nameCanonical\" => \"\"), Dict(\"curriculum_requisites\" => Dict{String, Any}[Dict(\"source_id\" => 2281989961, \"target_id\" => 2950065960, \"type\" => \"CurriculumPrerequisite\"), Dict(\"source_id\" => 713164423, \"target_id\" => 2950065960, \"type\" => \"CurriculumPrerequisite\")], \"name\" => \"EE 421G\", \"metrics\" => Dict{String, Any}(\"centrality\" => 0, \"complexity\" => 8.0, \"blocking factor\" => 0, \"delay factor\" => 8.0), \"nameSub\" => \"Signals & Systems\", \"id\" => 2950065960, \"credits\" => 3, \"nameCanonical\" => \"\"), Dict(\"curriculum_requisites\" => Dict{String, Any}[], \"name\" => \" \", \"metrics\" => Dict{String, Any}(\"centrality\" => 0, \"complexity\" => 1.0, \"blocking factor\" => 0, \"delay factor\" => 1.0), \"nameSub\" => \"Elective EE Laboratory 1\", \"id\" => 448709314, \"credits\" => 2, \"nameCanonical\" => \"\"), Dict(\"curriculum_requisites\" => Dict{String, Any}[Dict(\"source_id\" => 2281989961, \"target_id\" => 16242192, \"type\" => \"CurriculumPrerequisite\")], \"name\" => \"EE 461G\", \"metrics\" => Dict{String, Any}(\"centrality\" => 0, \"complexity\" => 8.0, \"blocking factor\" => 0, \"delay factor\" => 8.0), \"nameSub\" => \"Intro. to Electronics\", \"id\" => 16242192, \"credits\" => 3, \"nameCanonical\" => \"\"), Dict(\"curriculum_requisites\" => Dict{String, Any}[Dict(\"source_id\" => 2193700744, \"target_id\" => 2756944549, \"type\" => \"CurriculumPrerequisite\")], \"name\" => \"MA 320\", \"metrics\" => Dict{String, Any}(\"centrality\" => 0, \"complexity\" => 4.0, \"blocking factor\" => 0, \"delay factor\" => 4.0), \"nameSub\" => \"Introductory Probability\", \"id\" => 2756944549, \"credits\" => 3, \"nameCanonical\" => \"\"), Dict(\"curriculum_requisites\" => Dict{String, Any}[], \"name\" => \" \", \"metrics\" => Dict{String, Any}(\"centrality\" => 0, \"complexity\" => 1.0, \"blocking factor\" => 0, \"delay factor\" => 1.0), \"nameSub\" => \"Technical Elective 1\", \"id\" => 3654615878, \"credits\" => 3, \"nameCanonical\" => \"\")], \"id\" => 5), Dict(\"name\" => \"Term 6\", \"curriculum_items\" => Dict{String, Any}[Dict(\"curriculum_requisites\" => Dict{String, Any}[Dict(\"source_id\" => 2281989961, \"target_id\" => 1400716874, \"type\" => \"CurriculumPrerequisite\"), Dict(\"source_id\" => 2193700744, \"target_id\" => 1400716874, \"type\" => \"CurriculumPrerequisite\")], \"name\" => \"EE 468G\", \"metrics\" => Dict{String, Any}(\"centrality\" => 0, \"complexity\" => 8.0, \"blocking factor\" => 0, \"delay factor\" => 8.0), \"nameSub\" => \"Intro. to Engineering Electromagnetics\", \"id\" => 1400716874, \"credits\" => 4, \"nameCanonical\" => \"\"), Dict(\"curriculum_requisites\" => Dict{String, Any}[], \"name\" => \" \", \"metrics\" => Dict{String, Any}(\"centrality\" => 0, \"complexity\" => 1.0, \"blocking factor\" => 0, \"delay factor\" => 1.0), \"nameSub\" => \"Elective EE Laboratory 2\", \"id\" => 3008452217, \"credits\" => 2, \"nameCanonical\" => \"\"), Dict(\"curriculum_requisites\" => Dict{String, Any}[], \"name\" => \" \", \"metrics\" => Dict{String, Any}(\"centrality\" => 0, \"complexity\" => 1.0, \"blocking factor\" => 0, \"delay factor\" => 1.0), \"nameSub\" => \"Engineering/Science Elective 1\", \"id\" => 1824271747, \"credits\" => 3, \"nameCanonical\" => \"\"), Dict(\"curriculum_requisites\" => Dict{String, Any}[], \"name\" => \" \", \"metrics\" => Dict{String, Any}(\"centrality\" => 0, \"complexity\" => 1.0, \"blocking factor\" => 0, \"delay factor\" => 1.0), \"nameSub\" => \"Technical Elective 2\", \"id\" => 3697264218, \"credits\" => 3, \"nameCanonical\" => \"\"), Dict(\"curriculum_requisites\" => Dict{String, Any}[], \"name\" => \" \", \"metrics\" => Dict{String, Any}(\"centrality\" => 0, \"complexity\" => 1.0, \"blocking factor\" => 0, \"delay factor\" => 1.0), \"nameSub\" => \"UK Core - Citizenship - USA\", \"id\" => 1496407185, \"credits\" => 3, \"nameCanonical\" => \"\")], \"id\" => 6), Dict(\"name\" => \"Term 7\", \"curriculum_items\" => Dict{String, Any}[Dict(\"curriculum_requisites\" => Dict{String, Any}[], \"name\" => \"EE 490\", \"metrics\" => Dict{String, Any}(\"centrality\" => 0, \"complexity\" => 3.0, \"blocking factor\" => 1, \"delay factor\" => 2.0), \"nameSub\" => \"EE Capstone Design\", \"id\" => 1116551982, \"credits\" => 3, \"nameCanonical\" => \"\"), Dict(\"curriculum_requisites\" => Dict{String, Any}[], \"name\" => \" \", \"metrics\" => Dict{String, Any}(\"centrality\" => 0, \"complexity\" => 1.0, \"blocking factor\" => 0, \"delay factor\" => 1.0), \"nameSub\" => \"EE Technical Elective 1\", \"id\" => 1373040133, \"credits\" => 3, \"nameCanonical\" => \"\"), Dict(\"curriculum_requisites\" => Dict{String, Any}[], \"name\" => \" \", \"metrics\" => Dict{String, Any}(\"centrality\" => 0, \"complexity\" => 1.0, \"blocking factor\" => 0, \"delay factor\" => 1.0), \"nameSub\" => \"EE Technical Elective 2\", \"id\" => 2900608954, \"credits\" => 3, \"nameCanonical\" => \"\"), Dict(\"curriculum_requisites\" => Dict{String, Any}[], \"name\" => \" \", \"metrics\" => Dict{String, Any}(\"centrality\" => 0, \"complexity\" => 1.0, \"blocking factor\" => 0, \"delay factor\" => 1.0), \"nameSub\" => \"Math/Statistics Elective\", \"id\" => 147960851, \"credits\" => 3, \"nameCanonical\" => \"\"), Dict(\"curriculum_requisites\" => Dict{String, Any}[], \"name\" => \" \", \"metrics\" => Dict{String, Any}(\"centrality\" => 0, \"complexity\" => 1.0, \"blocking factor\" => 0, \"delay factor\" => 1.0), \"nameSub\" => \"UK Core - Global Dynamics\", \"id\" => 819264340, \"credits\" => 3, \"nameCanonical\" => \"\")], \"id\" => 7), Dict(\"name\" => \"Term 8\", \"curriculum_items\" => Dict{String, Any}[Dict(\"curriculum_requisites\" => Dict{String, Any}[Dict(\"source_id\" => 1116551982, \"target_id\" => 2674820998, \"type\" => \"CurriculumPrerequisite\")], \"name\" => \"EE 491\", \"metrics\" => Dict{String, Any}(\"centrality\" => 0, \"complexity\" => 2.0, \"blocking factor\" => 0, \"delay factor\" => 2.0), \"nameSub\" => \"EE Capstone Design\", \"id\" => 2674820998, \"credits\" => 3, \"nameCanonical\" => \"\"), Dict(\"curriculum_requisites\" => Dict{String, Any}[], \"name\" => \" \", \"metrics\" => Dict{String, Any}(\"centrality\" => 0, \"complexity\" => 1.0, \"blocking factor\" => 0, \"delay factor\" => 1.0), \"nameSub\" => \"EE Technical Elective 3\", \"id\" => 3472050261, \"credits\" => 3, \"nameCanonical\" => \"\"), Dict(\"curriculum_requisites\" => Dict{String, Any}[], \"name\" => \" \", \"metrics\" => Dict{String, Any}(\"centrality\" => 0, \"complexity\" => 1.0, \"blocking factor\" => 0, \"delay factor\" => 1.0), \"nameSub\" => \"EE Technical Elective 4\", \"id\" => 3141179749, \"credits\" => 3, \"nameCanonical\" => \"\"), Dict(\"curriculum_requisites\" => Dict{String, Any}[], \"name\" => \" \", \"metrics\" => Dict{String, Any}(\"centrality\" => 0, \"complexity\" => 1.0, \"blocking factor\" => 0, \"delay factor\" => 1.0), \"nameSub\" => \"Supportive Elective\", \"id\" => 109586583, \"credits\" => 3, \"nameCanonical\" => \"\"), Dict(\"curriculum_requisites\" => Dict{String, Any}[], \"name\" => \" \", \"metrics\" => Dict{String, Any}(\"centrality\" => 0, \"complexity\" => 1.0, \"blocking factor\" => 0, \"delay factor\" => 1.0), \"nameSub\" => \"Engineering/Science Elective 2\", \"id\" => 1227973603, \"credits\" => 3, \"nameCanonical\" => \"\"), Dict(\"curriculum_requisites\" => Dict{String, Any}[], \"name\" => \" \", \"metrics\" => Dict{String, Any}(\"centrality\" => 0, \"complexity\" => 1.0, \"blocking factor\" => 0, \"delay factor\" => 1.0), \"nameSub\" => \"UK Core - Statistical Inferential Reasoning\", \"id\" => 599971617, \"credits\" => 3, \"nameCanonical\" => \"\")], \"id\" => 8)], \"institution\" => \"\")), nothing)), Set{String}(), nothing, WebIO.Asset[], Dict{Any, Any}(), WebIO.ConnectionPool(Channel{Any}(32), Set{WebIO.AbstractConnection}(), Condition(Base.InvasiveLinkedList{Task}(Task (runnable) @0x0000000173b49dd0, Task (runnable) @0x0000000173b49dd0), Base.AlwaysLockedST(1))), WebIO.JSString[])"
      ]
     },
     "execution_count": 2,
     "metadata": {
      "application/vnd.webio.node+json": {
       "kernelId": "608747ee-a133-469f-a5ab-d2379c850c6c"
      }
     },
     "output_type": "execute_result"
    }
   ],
   "source": [
    "visualize(read_csv(\"UKY_EE_plan.csv\"), notebook=true)"
   ]
  },
  {
   "cell_type": "markdown",
   "metadata": {},
   "source": [
    "In the figure above, if you hover over *EE 211 - Circuits I* in the third term, you will see that this course is on a path of length 8 (this determines the delay factor metric shown in the figure), there are eight course that serve as pre- or co-requisites courses that must be completed before a student may take Circuit Analysis I, and Circuit Analysis I \"blocks\" twelve other courses in the curriculum (i.e., these courses cannot be attempted until Circuit Analysis I has been successfully completed).  Thus, Circuit Analysis I is a very important course in this curriculum.  Another way to say this is that Circuit Analysis I is central to the curriculum.  Indeed, it is course with the highest centrality factor in the curriculum.  The centrality factor is measure of how many course prerequisite pathways include a given course. For more information on these measures, see <cite data-cite=\"he2018\">(Heileman, et al., 2018)</cite>.\n",
    "\n",
    "Below is another example example electrical engineering curriculum; in this case the one offered by the <cite data-cite=\"\">University of Houston (2018)</cite>."
   ]
  },
  {
   "cell_type": "code",
   "execution_count": 3,
   "metadata": {},
   "outputs": [
    {
     "data": {
      "application/vnd.webio.node+json": {
       "children": [
        {
         "children": [
          ""
         ],
         "instanceArgs": {
          "namespace": "html",
          "tag": "iframe"
         },
         "nodeType": "DOM",
         "props": {
          "events": {
           "load": "(function (){this.contentWindow.postMessage({\"options\":{\"hideTerms\":false,\"edit\":false},\"curriculum\":{\"name\":\"University of Houston EE Program\",\"dp_name\":\"University of Houston EE Program 4-year Plan\",\"curriculum_terms\":[{\"name\":\"Term 1\",\"curriculum_items\":[{\"curriculum_requisites\":[],\"name\":\"HIST 1377\",\"metrics\":{\"complexity\":1.0,\"centrality\":0,\"blocking factor\":0,\"delay factor\":1.0},\"nameSub\":\"The US to 1877\",\"id\":3824069494,\"credits\":3,\"nameCanonical\":\"\"},{\"curriculum_requisites\":[],\"name\":\"ENGL 1303\",\"metrics\":{\"complexity\":13.0,\"centrality\":0,\"blocking factor\":6,\"delay factor\":7.0},\"nameSub\":\"First Year Writing I\",\"id\":1324171406,\"credits\":3,\"nameCanonical\":\"\"},{\"curriculum_requisites\":[{\"source_id\":4175014649,\"target_id\":1764441140,\"type\":\"CurriculumCorequisite\"}],\"name\":\"ENGI 1100\",\"metrics\":{\"complexity\":25.0,\"centrality\":85,\"blocking factor\":15,\"delay factor\":10.0},\"nameSub\":\"Intro to Engr.\",\"id\":1764441140,\"credits\":1,\"nameCanonical\":\"\"},{\"curriculum_requisites\":[],\"name\":\"MATH 1431\",\"metrics\":{\"complexity\":35.0,\"centrality\":0,\"blocking factor\":23,\"delay factor\":12.0},\"nameSub\":\"Calculus I\",\"id\":4175014649,\"credits\":4,\"nameCanonical\":\"\"},{\"curriculum_requisites\":[],\"name\":\"CHEM 1331\",\"metrics\":{\"complexity\":3.0,\"centrality\":0,\"blocking factor\":1,\"delay factor\":2.0},\"nameSub\":\"Fund. of Chemistry\",\"id\":1351802580,\"credits\":3,\"nameCanonical\":\"\"},{\"curriculum_requisites\":[{\"source_id\":1351802580,\"target_id\":2195546016,\"type\":\"CurriculumCorequisite\"}],\"name\":\"CHEM 1111\",\"metrics\":{\"complexity\":2.0,\"centrality\":0,\"blocking factor\":0,\"delay factor\":2.0},\"nameSub\":\"Fund. of Chemistry Lab\",\"id\":2195546016,\"credits\":1,\"nameCanonical\":\"\"}],\"id\":1},{\"name\":\"Term 2\",\"curriculum_items\":[{\"curriculum_requisites\":[],\"name\":\"HIST 1378\",\"metrics\":{\"complexity\":1.0,\"centrality\":0,\"blocking factor\":0,\"delay factor\":1.0},\"nameSub\":\"US Since 1877\",\"id\":2731496025,\"credits\":3,\"nameCanonical\":\"\"},{\"curriculum_requisites\":[{\"source_id\":1324171406,\"target_id\":3195103903,\"type\":\"CurriculumPrerequisite\"}],\"name\":\"ENGL 1304\",\"metrics\":{\"complexity\":12.0,\"centrality\":13,\"blocking factor\":5,\"delay factor\":7.0},\"nameSub\":\"First Year Writing II\",\"id\":3195103903,\"credits\":3,\"nameCanonical\":\"\"},{\"curriculum_requisites\":[{\"source_id\":4175014649,\"target_id\":1051497550,\"type\":\"CurriculumPrerequisite\"},{\"source_id\":1764441140,\"target_id\":1051497550,\"type\":\"CurriculumPrerequisite\"}],\"name\":\"ENGI 1331\",\"metrics\":{\"complexity\":24.0,\"centrality\":160,\"blocking factor\":14,\"delay factor\":10.0},\"nameSub\":\"Computing & Prob. Solving\",\"id\":1051497550,\"credits\":3,\"nameCanonical\":\"\"},{\"curriculum_requisites\":[{\"source_id\":4175014649,\"target_id\":1177372781,\"type\":\"CurriculumPrerequisite\"}],\"name\":\"MATH 1432\",\"metrics\":{\"complexity\":32.0,\"centrality\":607,\"blocking factor\":20,\"delay factor\":12.0},\"nameSub\":\"Calculus II\",\"id\":1177372781,\"credits\":4,\"nameCanonical\":\"\"},{\"curriculum_requisites\":[{\"source_id\":1177372781,\"target_id\":2834873484,\"type\":\"CurriculumCorequisite\"}],\"name\":\"PHYS 1321\",\"metrics\":{\"complexity\":28.0,\"centrality\":217,\"blocking factor\":16,\"delay factor\":12.0},\"nameSub\":\"University Physics I\",\"id\":2834873484,\"credits\":3,\"nameCanonical\":\"\"},{\"curriculum_requisites\":[{\"source_id\":2834873484,\"target_id\":3178954113,\"type\":\"CurriculumCorequisite\"}],\"name\":\"PHYS 1121\",\"metrics\":{\"complexity\":4.0,\"centrality\":0,\"blocking factor\":0,\"delay factor\":4.0},\"nameSub\":\"Physics Lab I\",\"id\":3178954113,\"credits\":1,\"nameCanonical\":\"\"}],\"id\":2},{\"name\":\"Term 3\",\"curriculum_items\":[{\"curriculum_requisites\":[],\"name\":\"POLS 1336\",\"metrics\":{\"complexity\":1.0,\"centrality\":0,\"blocking factor\":0,\"delay factor\":1.0},\"nameSub\":\"US and TX Constitutions & Politics\",\"id\":1541543378,\"credits\":3,\"nameCanonical\":\"\"},{\"curriculum_requisites\":[{\"source_id\":1177372781,\"target_id\":947037850,\"type\":\"CurriculumPrerequisite\"}],\"name\":\"MATH 3321\",\"metrics\":{\"complexity\":23.0,\"centrality\":93,\"blocking factor\":13,\"delay factor\":10.0},\"nameSub\":\"Engineering Math\",\"id\":947037850,\"credits\":3,\"nameCanonical\":\"\"},{\"curriculum_requisites\":[{\"source_id\":3718777895,\"target_id\":2138760932,\"type\":\"CurriculumCorequisite\"},{\"source_id\":3059602497,\"target_id\":2138760932,\"type\":\"CurriculumCorequisite\"},{\"source_id\":2258215799,\"target_id\":2138760932,\"type\":\"CurriculumCorequisite\"},{\"source_id\":1051497550,\"target_id\":2138760932,\"type\":\"CurriculumPrerequisite\"},{\"source_id\":947037850,\"target_id\":2138760932,\"type\":\"CurriculumCorequisite\"}],\"name\":\"ECE 2201\",\"metrics\":{\"complexity\":24.0,\"centrality\":677,\"blocking factor\":12,\"delay factor\":12.0},\"nameSub\":\"Circuit Analysis I\",\"id\":2138760932,\"credits\":3,\"nameCanonical\":\"\"},{\"curriculum_requisites\":[{\"source_id\":1177372781,\"target_id\":2258215799,\"type\":\"CurriculumPrerequisite\"}],\"name\":\"MATH 2433\",\"metrics\":{\"complexity\":27.0,\"centrality\":292,\"blocking factor\":15,\"delay factor\":12.0},\"nameSub\":\"Calculus III\",\"id\":2258215799,\"credits\":3,\"nameCanonical\":\"\"},{\"curriculum_requisites\":[{\"source_id\":2258215799,\"target_id\":3718777895,\"type\":\"CurriculumCorequisite\"},{\"source_id\":2834873484,\"target_id\":3718777895,\"type\":\"CurriculumPrerequisite\"}],\"name\":\"PHYS 1322\",\"metrics\":{\"complexity\":26.0,\"centrality\":426,\"blocking factor\":14,\"delay factor\":12.0},\"nameSub\":\"University Physics II\",\"id\":3718777895,\"credits\":3,\"nameCanonical\":\"\"},{\"curriculum_requisites\":[{\"source_id\":3718777895,\"target_id\":3059602497,\"type\":\"CurriculumCorequisite\"}],\"name\":\"PHYS 1122\",\"metrics\":{\"complexity\":25.0,\"centrality\":250,\"blocking factor\":13,\"delay factor\":12.0},\"nameSub\":\"Physics Lab II\",\"id\":3059602497,\"credits\":1,\"nameCanonical\":\"\"}],\"id\":3},{\"name\":\"Term 4\",\"curriculum_items\":[{\"curriculum_requisites\":[{\"source_id\":3195103903,\"target_id\":1770099342,\"type\":\"CurriculumPrerequisite\"},{\"source_id\":2138760932,\"target_id\":1770099342,\"type\":\"CurriculumPrerequisite\"}],\"name\":\"ENGI 2304\",\"metrics\":{\"complexity\":15.0,\"centrality\":159,\"blocking factor\":4,\"delay factor\":11.0},\"nameSub\":\"Technical Communication\",\"id\":1770099342,\"credits\":3,\"nameCanonical\":\"\"},{\"curriculum_requisites\":[{\"source_id\":947037850,\"target_id\":649106202,\"type\":\"CurriculumPrerequisite\"},{\"source_id\":2138760932,\"target_id\":649106202,\"type\":\"CurriculumPrerequisite\"}],\"name\":\"ECE 3331\",\"metrics\":{\"complexity\":14.0,\"centrality\":152,\"blocking factor\":4,\"delay factor\":10.0},\"nameSub\":\"Programming Apps in ECE\",\"id\":649106202,\"credits\":3,\"nameCanonical\":\"\"},{\"curriculum_requisites\":[{\"source_id\":3059602497,\"target_id\":1083857781,\"type\":\"CurriculumPrerequisite\"},{\"source_id\":3887805990,\"target_id\":1083857781,\"type\":\"CurriculumCorequisite\"}],\"name\":\"ECE 2100\",\"metrics\":{\"complexity\":17.0,\"centrality\":295,\"blocking factor\":5,\"delay factor\":12.0},\"nameSub\":\"Circuits Lab\",\"id\":1083857781,\"credits\":1,\"nameCanonical\":\"\"},{\"curriculum_requisites\":[{\"source_id\":2138760932,\"target_id\":3887805990,\"type\":\"CurriculumPrerequisite\"}],\"name\":\"ECE 2202\",\"metrics\":{\"complexity\":20.0,\"centrality\":393,\"blocking factor\":8,\"delay factor\":12.0},\"nameSub\":\"Circuit Analysis II\",\"id\":3887805990,\"credits\":3,\"nameCanonical\":\"\"},{\"curriculum_requisites\":[{\"source_id\":3887805990,\"target_id\":2791403937,\"type\":\"CurriculumCorequisite\"}],\"name\":\"ECE 3337\",\"metrics\":{\"complexity\":15.0,\"centrality\":154,\"blocking factor\":4,\"delay factor\":11.0},\"nameSub\":\"Signals & Systems Analysis\",\"id\":2791403937,\"credits\":3,\"nameCanonical\":\"\"},{\"curriculum_requisites\":[{\"source_id\":1083857781,\"target_id\":4184346648,\"type\":\"CurriculumCorequisite\"},{\"source_id\":649106202,\"target_id\":4184346648,\"type\":\"CurriculumCorequisite\"}],\"name\":\"ECE 3436\",\"metrics\":{\"complexity\":13.0,\"centrality\":171,\"blocking factor\":2,\"delay factor\":11.0},\"nameSub\":\"Microprocessors\",\"id\":4184346648,\"credits\":3,\"nameCanonical\":\"\"}],\"id\":4},{\"name\":\"Term 5\",\"curriculum_items\":[{\"curriculum_requisites\":[],\"name\":\" \",\"metrics\":{\"complexity\":1.0,\"centrality\":0,\"blocking factor\":0,\"delay factor\":1.0},\"nameSub\":\"Creative Arts Core\",\"id\":848294223,\"credits\":3,\"nameCanonical\":\"\"},{\"curriculum_requisites\":[{\"source_id\":1083857781,\"target_id\":1966522372,\"type\":\"CurriculumPrerequisite\"},{\"source_id\":1770099342,\"target_id\":1966522372,\"type\":\"CurriculumPrerequisite\"}],\"name\":\"ECE 3155\",\"metrics\":{\"complexity\":15.0,\"centrality\":359,\"blocking factor\":3,\"delay factor\":12.0},\"nameSub\":\"Electronics Lab\",\"id\":1966522372,\"credits\":1,\"nameCanonical\":\"\"},{\"curriculum_requisites\":[{\"source_id\":1966522372,\"target_id\":4165958389,\"type\":\"CurriculumStrictCorequisite\"},{\"source_id\":2791403937,\"target_id\":4165958389,\"type\":\"CurriculumPrerequisite\"}],\"name\":\"ECE 3355\",\"metrics\":{\"complexity\":14.0,\"centrality\":266,\"blocking factor\":2,\"delay factor\":12.0},\"nameSub\":\"Electronics\",\"id\":4165958389,\"credits\":3,\"nameCanonical\":\"\"},{\"curriculum_requisites\":[],\"name\":\" \",\"metrics\":{\"complexity\":1.0,\"centrality\":0,\"blocking factor\":0,\"delay factor\":1.0},\"nameSub\":\"Concentration Elective 1\",\"id\":1056053313,\"credits\":3,\"nameCanonical\":\"\"},{\"curriculum_requisites\":[{\"source_id\":2791403937,\"target_id\":2252871414,\"type\":\"CurriculumPrerequisite\"}],\"name\":\"ECE 3317\",\"metrics\":{\"complexity\":13.0,\"centrality\":77,\"blocking factor\":2,\"delay factor\":11.0},\"nameSub\":\"Applied EM Waves\",\"id\":2252871414,\"credits\":3,\"nameCanonical\":\"\"},{\"curriculum_requisites\":[],\"name\":\" \",\"metrics\":{\"complexity\":1.0,\"centrality\":0,\"blocking factor\":0,\"delay factor\":1.0},\"nameSub\":\"ECE Elective 1\",\"id\":2051928090,\"credits\":3,\"nameCanonical\":\"\"}],\"id\":5},{\"name\":\"Term 6\",\"curriculum_items\":[{\"curriculum_requisites\":[],\"name\":\"POLS 1337\",\"metrics\":{\"complexity\":1.0,\"centrality\":0,\"blocking factor\":0,\"delay factor\":1.0},\"nameSub\":\"US Gov: Congress, President and Courts\",\"id\":951874139,\"credits\":3,\"nameCanonical\":\"\"},{\"curriculum_requisites\":[{\"source_id\":1051497550,\"target_id\":2888554139,\"type\":\"CurriculumPrerequisite\"},{\"source_id\":1177372781,\"target_id\":2888554139,\"type\":\"CurriculumPrerequisite\"}],\"name\":\"INDE 2333\",\"metrics\":{\"complexity\":8.0,\"centrality\":16,\"blocking factor\":2,\"delay factor\":6.0},\"nameSub\":\"Engineering Statistics\",\"id\":2888554139,\"credits\":3,\"nameCanonical\":\"\"},{\"curriculum_requisites\":[],\"name\":\" \",\"metrics\":{\"complexity\":1.0,\"centrality\":0,\"blocking factor\":0,\"delay factor\":1.0},\"nameSub\":\"Elective Lab 1\",\"id\":26700799,\"credits\":1,\"nameCanonical\":\"\"},{\"curriculum_requisites\":[],\"name\":\" \",\"metrics\":{\"complexity\":1.0,\"centrality\":0,\"blocking factor\":0,\"delay factor\":1.0},\"nameSub\":\"Concentration Elective 2\",\"id\":1745860227,\"credits\":3,\"nameCanonical\":\"\"},{\"curriculum_requisites\":[{\"source_id\":649106202,\"target_id\":3368026167,\"type\":\"CurriculumPrerequisite\"}],\"name\":\"ECE 3340\",\"metrics\":{\"complexity\":12.0,\"centrality\":76,\"blocking factor\":2,\"delay factor\":10.0},\"nameSub\":\"Numerical Methods\",\"id\":3368026167,\"credits\":3,\"nameCanonical\":\"\"},{\"curriculum_requisites\":[],\"name\":\" \",\"metrics\":{\"complexity\":1.0,\"centrality\":0,\"blocking factor\":0,\"delay factor\":1.0},\"nameSub\":\"ECE Elective 2\",\"id\":672829327,\"credits\":3,\"nameCanonical\":\"\"}],\"id\":6},{\"name\":\"Term 7\",\"curriculum_items\":[{\"curriculum_requisites\":[],\"name\":\"ECON 2304\",\"metrics\":{\"complexity\":5.0,\"centrality\":0,\"blocking factor\":2,\"delay factor\":3.0},\"nameSub\":\"Microeconomic Principles\",\"id\":3224555476,\"credits\":3,\"nameCanonical\":\"\"},{\"curriculum_requisites\":[{\"source_id\":1966522372,\"target_id\":1337097032,\"type\":\"CurriculumPrerequisite\"},{\"source_id\":4184346648,\"target_id\":1337097032,\"type\":\"CurriculumPrerequisite\"},{\"source_id\":3368026167,\"target_id\":1337097032,\"type\":\"CurriculumPrerequisite\"},{\"source_id\":2888554139,\"target_id\":1337097032,\"type\":\"CurriculumPrerequisite\"},{\"source_id\":4165958389,\"target_id\":1337097032,\"type\":\"CurriculumPrerequisite\"},{\"source_id\":3224555476,\"target_id\":1337097032,\"type\":\"CurriculumCorequisite\"},{\"source_id\":2252871414,\"target_id\":1337097032,\"type\":\"CurriculumPrerequisite\"}],\"name\":\"ECE 4335\",\"metrics\":{\"complexity\":13.0,\"centrality\":779,\"blocking factor\":1,\"delay factor\":12.0},\"nameSub\":\"ECE Design I\",\"id\":1337097032,\"credits\":3,\"nameCanonical\":\"\"},{\"curriculum_requisites\":[],\"name\":\" \",\"metrics\":{\"complexity\":1.0,\"centrality\":0,\"blocking factor\":0,\"delay factor\":1.0},\"nameSub\":\"Elective Lab 2\",\"id\":1296179090,\"credits\":1,\"nameCanonical\":\"\"},{\"curriculum_requisites\":[],\"name\":\" \",\"metrics\":{\"complexity\":1.0,\"centrality\":0,\"blocking factor\":0,\"delay factor\":1.0},\"nameSub\":\"Concentration Elective 3\",\"id\":1105094343,\"credits\":3,\"nameCanonical\":\"\"},{\"curriculum_requisites\":[],\"name\":\" \",\"metrics\":{\"complexity\":1.0,\"centrality\":0,\"blocking factor\":0,\"delay factor\":1.0},\"nameSub\":\"Concentration Elective 4\",\"id\":1819261218,\"credits\":3,\"nameCanonical\":\"\"},{\"curriculum_requisites\":[],\"name\":\" \",\"metrics\":{\"complexity\":1.0,\"centrality\":0,\"blocking factor\":0,\"delay factor\":1.0},\"nameSub\":\"Technical Elective\",\"id\":2529896330,\"credits\":3,\"nameCanonical\":\"\"}],\"id\":7},{\"name\":\"Term 8\",\"curriculum_items\":[{\"curriculum_requisites\":[],\"name\":\" \",\"metrics\":{\"complexity\":1.0,\"centrality\":0,\"blocking factor\":0,\"delay factor\":1.0},\"nameSub\":\"Lang., Phil. & Culture Core\",\"id\":1626752824,\"credits\":3,\"nameCanonical\":\"\"},{\"curriculum_requisites\":[{\"source_id\":1337097032,\"target_id\":1158404973,\"type\":\"CurriculumPrerequisite\"}],\"name\":\"ECE 4336\",\"metrics\":{\"complexity\":12.0,\"centrality\":0,\"blocking factor\":0,\"delay factor\":12.0},\"nameSub\":\"ECE Design II\",\"id\":1158404973,\"credits\":3,\"nameCanonical\":\"\"},{\"curriculum_requisites\":[],\"name\":\" \",\"metrics\":{\"complexity\":1.0,\"centrality\":0,\"blocking factor\":0,\"delay factor\":1.0},\"nameSub\":\"Elective Lab 3\",\"id\":3091492697,\"credits\":1,\"nameCanonical\":\"\"},{\"curriculum_requisites\":[],\"name\":\" \",\"metrics\":{\"complexity\":1.0,\"centrality\":0,\"blocking factor\":0,\"delay factor\":1.0},\"nameSub\":\"Concentration Elective 5\",\"id\":2070124031,\"credits\":3,\"nameCanonical\":\"\"},{\"curriculum_requisites\":[],\"name\":\" \",\"metrics\":{\"complexity\":1.0,\"centrality\":0,\"blocking factor\":0,\"delay factor\":1.0},\"nameSub\":\"Concentration Elective 6\",\"id\":1716266479,\"credits\":3,\"nameCanonical\":\"\"},{\"curriculum_requisites\":[],\"name\":\" \",\"metrics\":{\"complexity\":1.0,\"centrality\":0,\"blocking factor\":0,\"delay factor\":1.0},\"nameSub\":\"Concentration Elective 7\",\"id\":2584207151,\"credits\":3,\"nameCanonical\":\"\"},{\"curriculum_requisites\":[],\"name\":\" \",\"metrics\":{\"complexity\":1.0,\"centrality\":0,\"blocking factor\":0,\"delay factor\":1.0},\"nameSub\":\"Elective Lab 4\",\"id\":2450156574,\"credits\":1,\"nameCanonical\":\"\"}],\"id\":8}],\"institution\":\"\"}},\"*\"); window.removeEventListener(\"message\",window.messageReceived); window.messageReceived=(function (event){return (event.data.curriculum!==undefined) ? (WebIO.setval({\"name\":\"curriculum-data\",\"scope\":\"9720072848119972937\",\"id\":\"3041958610981554902\",\"type\":\"observable\"},event.data.curriculum)) : undefined}); return window.addEventListener(\"message\",window.messageReceived)})"
          },
          "id": "curriculum",
          "src": "https://curricula-api-embed.damoursystems.com/",
          "style": {
           "border": "none",
           "height": "100vh",
           "margin": "0",
           "padding": "0",
           "width": "100%"
          }
         },
         "type": "node"
        }
       ],
       "instanceArgs": {
        "handlers": {},
        "id": "9720072848119972937",
        "imports": {
         "data": [],
         "type": "async_block"
        },
        "mount_callbacks": [],
        "observables": {
         "curriculum-data": {
          "id": "3041958610981554902",
          "sync": true,
          "value": {
           "curriculum": {
            "curriculum_terms": [
             {
              "curriculum_items": [
               {
                "credits": 3,
                "curriculum_requisites": [],
                "id": 3824069494,
                "metrics": {
                 "blocking factor": 0,
                 "centrality": 0,
                 "complexity": 1,
                 "delay factor": 1
                },
                "name": "HIST 1377",
                "nameCanonical": "",
                "nameSub": "The US to 1877"
               },
               {
                "credits": 3,
                "curriculum_requisites": [],
                "id": 1324171406,
                "metrics": {
                 "blocking factor": 6,
                 "centrality": 0,
                 "complexity": 13,
                 "delay factor": 7
                },
                "name": "ENGL 1303",
                "nameCanonical": "",
                "nameSub": "First Year Writing I"
               },
               {
                "credits": 1,
                "curriculum_requisites": [
                 {
                  "source_id": 4175014649,
                  "target_id": 1764441140,
                  "type": "CurriculumCorequisite"
                 }
                ],
                "id": 1764441140,
                "metrics": {
                 "blocking factor": 15,
                 "centrality": 85,
                 "complexity": 25,
                 "delay factor": 10
                },
                "name": "ENGI 1100",
                "nameCanonical": "",
                "nameSub": "Intro to Engr."
               },
               {
                "credits": 4,
                "curriculum_requisites": [],
                "id": 4175014649,
                "metrics": {
                 "blocking factor": 23,
                 "centrality": 0,
                 "complexity": 35,
                 "delay factor": 12
                },
                "name": "MATH 1431",
                "nameCanonical": "",
                "nameSub": "Calculus I"
               },
               {
                "credits": 3,
                "curriculum_requisites": [],
                "id": 1351802580,
                "metrics": {
                 "blocking factor": 1,
                 "centrality": 0,
                 "complexity": 3,
                 "delay factor": 2
                },
                "name": "CHEM 1331",
                "nameCanonical": "",
                "nameSub": "Fund. of Chemistry"
               },
               {
                "credits": 1,
                "curriculum_requisites": [
                 {
                  "source_id": 1351802580,
                  "target_id": 2195546016,
                  "type": "CurriculumCorequisite"
                 }
                ],
                "id": 2195546016,
                "metrics": {
                 "blocking factor": 0,
                 "centrality": 0,
                 "complexity": 2,
                 "delay factor": 2
                },
                "name": "CHEM 1111",
                "nameCanonical": "",
                "nameSub": "Fund. of Chemistry Lab"
               }
              ],
              "id": 1,
              "name": "Term 1"
             },
             {
              "curriculum_items": [
               {
                "credits": 3,
                "curriculum_requisites": [],
                "id": 2731496025,
                "metrics": {
                 "blocking factor": 0,
                 "centrality": 0,
                 "complexity": 1,
                 "delay factor": 1
                },
                "name": "HIST 1378",
                "nameCanonical": "",
                "nameSub": "US Since 1877"
               },
               {
                "credits": 3,
                "curriculum_requisites": [
                 {
                  "source_id": 1324171406,
                  "target_id": 3195103903,
                  "type": "CurriculumPrerequisite"
                 }
                ],
                "id": 3195103903,
                "metrics": {
                 "blocking factor": 5,
                 "centrality": 13,
                 "complexity": 12,
                 "delay factor": 7
                },
                "name": "ENGL 1304",
                "nameCanonical": "",
                "nameSub": "First Year Writing II"
               },
               {
                "credits": 3,
                "curriculum_requisites": [
                 {
                  "source_id": 4175014649,
                  "target_id": 1051497550,
                  "type": "CurriculumPrerequisite"
                 },
                 {
                  "source_id": 1764441140,
                  "target_id": 1051497550,
                  "type": "CurriculumPrerequisite"
                 }
                ],
                "id": 1051497550,
                "metrics": {
                 "blocking factor": 14,
                 "centrality": 160,
                 "complexity": 24,
                 "delay factor": 10
                },
                "name": "ENGI 1331",
                "nameCanonical": "",
                "nameSub": "Computing & Prob. Solving"
               },
               {
                "credits": 4,
                "curriculum_requisites": [
                 {
                  "source_id": 4175014649,
                  "target_id": 1177372781,
                  "type": "CurriculumPrerequisite"
                 }
                ],
                "id": 1177372781,
                "metrics": {
                 "blocking factor": 20,
                 "centrality": 607,
                 "complexity": 32,
                 "delay factor": 12
                },
                "name": "MATH 1432",
                "nameCanonical": "",
                "nameSub": "Calculus II"
               },
               {
                "credits": 3,
                "curriculum_requisites": [
                 {
                  "source_id": 1177372781,
                  "target_id": 2834873484,
                  "type": "CurriculumCorequisite"
                 }
                ],
                "id": 2834873484,
                "metrics": {
                 "blocking factor": 16,
                 "centrality": 217,
                 "complexity": 28,
                 "delay factor": 12
                },
                "name": "PHYS 1321",
                "nameCanonical": "",
                "nameSub": "University Physics I"
               },
               {
                "credits": 1,
                "curriculum_requisites": [
                 {
                  "source_id": 2834873484,
                  "target_id": 3178954113,
                  "type": "CurriculumCorequisite"
                 }
                ],
                "id": 3178954113,
                "metrics": {
                 "blocking factor": 0,
                 "centrality": 0,
                 "complexity": 4,
                 "delay factor": 4
                },
                "name": "PHYS 1121",
                "nameCanonical": "",
                "nameSub": "Physics Lab I"
               }
              ],
              "id": 2,
              "name": "Term 2"
             },
             {
              "curriculum_items": [
               {
                "credits": 3,
                "curriculum_requisites": [],
                "id": 1541543378,
                "metrics": {
                 "blocking factor": 0,
                 "centrality": 0,
                 "complexity": 1,
                 "delay factor": 1
                },
                "name": "POLS 1336",
                "nameCanonical": "",
                "nameSub": "US and TX Constitutions & Politics"
               },
               {
                "credits": 3,
                "curriculum_requisites": [
                 {
                  "source_id": 1177372781,
                  "target_id": 947037850,
                  "type": "CurriculumPrerequisite"
                 }
                ],
                "id": 947037850,
                "metrics": {
                 "blocking factor": 13,
                 "centrality": 93,
                 "complexity": 23,
                 "delay factor": 10
                },
                "name": "MATH 3321",
                "nameCanonical": "",
                "nameSub": "Engineering Math"
               },
               {
                "credits": 3,
                "curriculum_requisites": [
                 {
                  "source_id": 3718777895,
                  "target_id": 2138760932,
                  "type": "CurriculumCorequisite"
                 },
                 {
                  "source_id": 3059602497,
                  "target_id": 2138760932,
                  "type": "CurriculumCorequisite"
                 },
                 {
                  "source_id": 2258215799,
                  "target_id": 2138760932,
                  "type": "CurriculumCorequisite"
                 },
                 {
                  "source_id": 1051497550,
                  "target_id": 2138760932,
                  "type": "CurriculumPrerequisite"
                 },
                 {
                  "source_id": 947037850,
                  "target_id": 2138760932,
                  "type": "CurriculumCorequisite"
                 }
                ],
                "id": 2138760932,
                "metrics": {
                 "blocking factor": 12,
                 "centrality": 677,
                 "complexity": 24,
                 "delay factor": 12
                },
                "name": "ECE 2201",
                "nameCanonical": "",
                "nameSub": "Circuit Analysis I"
               },
               {
                "credits": 3,
                "curriculum_requisites": [
                 {
                  "source_id": 1177372781,
                  "target_id": 2258215799,
                  "type": "CurriculumPrerequisite"
                 }
                ],
                "id": 2258215799,
                "metrics": {
                 "blocking factor": 15,
                 "centrality": 292,
                 "complexity": 27,
                 "delay factor": 12
                },
                "name": "MATH 2433",
                "nameCanonical": "",
                "nameSub": "Calculus III"
               },
               {
                "credits": 3,
                "curriculum_requisites": [
                 {
                  "source_id": 2258215799,
                  "target_id": 3718777895,
                  "type": "CurriculumCorequisite"
                 },
                 {
                  "source_id": 2834873484,
                  "target_id": 3718777895,
                  "type": "CurriculumPrerequisite"
                 }
                ],
                "id": 3718777895,
                "metrics": {
                 "blocking factor": 14,
                 "centrality": 426,
                 "complexity": 26,
                 "delay factor": 12
                },
                "name": "PHYS 1322",
                "nameCanonical": "",
                "nameSub": "University Physics II"
               },
               {
                "credits": 1,
                "curriculum_requisites": [
                 {
                  "source_id": 3718777895,
                  "target_id": 3059602497,
                  "type": "CurriculumCorequisite"
                 }
                ],
                "id": 3059602497,
                "metrics": {
                 "blocking factor": 13,
                 "centrality": 250,
                 "complexity": 25,
                 "delay factor": 12
                },
                "name": "PHYS 1122",
                "nameCanonical": "",
                "nameSub": "Physics Lab II"
               }
              ],
              "id": 3,
              "name": "Term 3"
             },
             {
              "curriculum_items": [
               {
                "credits": 3,
                "curriculum_requisites": [
                 {
                  "source_id": 3195103903,
                  "target_id": 1770099342,
                  "type": "CurriculumPrerequisite"
                 },
                 {
                  "source_id": 2138760932,
                  "target_id": 1770099342,
                  "type": "CurriculumPrerequisite"
                 }
                ],
                "id": 1770099342,
                "metrics": {
                 "blocking factor": 4,
                 "centrality": 159,
                 "complexity": 15,
                 "delay factor": 11
                },
                "name": "ENGI 2304",
                "nameCanonical": "",
                "nameSub": "Technical Communication"
               },
               {
                "credits": 3,
                "curriculum_requisites": [
                 {
                  "source_id": 947037850,
                  "target_id": 649106202,
                  "type": "CurriculumPrerequisite"
                 },
                 {
                  "source_id": 2138760932,
                  "target_id": 649106202,
                  "type": "CurriculumPrerequisite"
                 }
                ],
                "id": 649106202,
                "metrics": {
                 "blocking factor": 4,
                 "centrality": 152,
                 "complexity": 14,
                 "delay factor": 10
                },
                "name": "ECE 3331",
                "nameCanonical": "",
                "nameSub": "Programming Apps in ECE"
               },
               {
                "credits": 1,
                "curriculum_requisites": [
                 {
                  "source_id": 3059602497,
                  "target_id": 1083857781,
                  "type": "CurriculumPrerequisite"
                 },
                 {
                  "source_id": 3887805990,
                  "target_id": 1083857781,
                  "type": "CurriculumCorequisite"
                 }
                ],
                "id": 1083857781,
                "metrics": {
                 "blocking factor": 5,
                 "centrality": 295,
                 "complexity": 17,
                 "delay factor": 12
                },
                "name": "ECE 2100",
                "nameCanonical": "",
                "nameSub": "Circuits Lab"
               },
               {
                "credits": 3,
                "curriculum_requisites": [
                 {
                  "source_id": 2138760932,
                  "target_id": 3887805990,
                  "type": "CurriculumPrerequisite"
                 }
                ],
                "id": 3887805990,
                "metrics": {
                 "blocking factor": 8,
                 "centrality": 393,
                 "complexity": 20,
                 "delay factor": 12
                },
                "name": "ECE 2202",
                "nameCanonical": "",
                "nameSub": "Circuit Analysis II"
               },
               {
                "credits": 3,
                "curriculum_requisites": [
                 {
                  "source_id": 3887805990,
                  "target_id": 2791403937,
                  "type": "CurriculumCorequisite"
                 }
                ],
                "id": 2791403937,
                "metrics": {
                 "blocking factor": 4,
                 "centrality": 154,
                 "complexity": 15,
                 "delay factor": 11
                },
                "name": "ECE 3337",
                "nameCanonical": "",
                "nameSub": "Signals & Systems Analysis"
               },
               {
                "credits": 3,
                "curriculum_requisites": [
                 {
                  "source_id": 1083857781,
                  "target_id": 4184346648,
                  "type": "CurriculumCorequisite"
                 },
                 {
                  "source_id": 649106202,
                  "target_id": 4184346648,
                  "type": "CurriculumCorequisite"
                 }
                ],
                "id": 4184346648,
                "metrics": {
                 "blocking factor": 2,
                 "centrality": 171,
                 "complexity": 13,
                 "delay factor": 11
                },
                "name": "ECE 3436",
                "nameCanonical": "",
                "nameSub": "Microprocessors"
               }
              ],
              "id": 4,
              "name": "Term 4"
             },
             {
              "curriculum_items": [
               {
                "credits": 3,
                "curriculum_requisites": [],
                "id": 848294223,
                "metrics": {
                 "blocking factor": 0,
                 "centrality": 0,
                 "complexity": 1,
                 "delay factor": 1
                },
                "name": " ",
                "nameCanonical": "",
                "nameSub": "Creative Arts Core"
               },
               {
                "credits": 1,
                "curriculum_requisites": [
                 {
                  "source_id": 1083857781,
                  "target_id": 1966522372,
                  "type": "CurriculumPrerequisite"
                 },
                 {
                  "source_id": 1770099342,
                  "target_id": 1966522372,
                  "type": "CurriculumPrerequisite"
                 }
                ],
                "id": 1966522372,
                "metrics": {
                 "blocking factor": 3,
                 "centrality": 359,
                 "complexity": 15,
                 "delay factor": 12
                },
                "name": "ECE 3155",
                "nameCanonical": "",
                "nameSub": "Electronics Lab"
               },
               {
                "credits": 3,
                "curriculum_requisites": [
                 {
                  "source_id": 1966522372,
                  "target_id": 4165958389,
                  "type": "CurriculumStrictCorequisite"
                 },
                 {
                  "source_id": 2791403937,
                  "target_id": 4165958389,
                  "type": "CurriculumPrerequisite"
                 }
                ],
                "id": 4165958389,
                "metrics": {
                 "blocking factor": 2,
                 "centrality": 266,
                 "complexity": 14,
                 "delay factor": 12
                },
                "name": "ECE 3355",
                "nameCanonical": "",
                "nameSub": "Electronics"
               },
               {
                "credits": 3,
                "curriculum_requisites": [],
                "id": 1056053313,
                "metrics": {
                 "blocking factor": 0,
                 "centrality": 0,
                 "complexity": 1,
                 "delay factor": 1
                },
                "name": " ",
                "nameCanonical": "",
                "nameSub": "Concentration Elective 1"
               },
               {
                "credits": 3,
                "curriculum_requisites": [
                 {
                  "source_id": 2791403937,
                  "target_id": 2252871414,
                  "type": "CurriculumPrerequisite"
                 }
                ],
                "id": 2252871414,
                "metrics": {
                 "blocking factor": 2,
                 "centrality": 77,
                 "complexity": 13,
                 "delay factor": 11
                },
                "name": "ECE 3317",
                "nameCanonical": "",
                "nameSub": "Applied EM Waves"
               },
               {
                "credits": 3,
                "curriculum_requisites": [],
                "id": 2051928090,
                "metrics": {
                 "blocking factor": 0,
                 "centrality": 0,
                 "complexity": 1,
                 "delay factor": 1
                },
                "name": " ",
                "nameCanonical": "",
                "nameSub": "ECE Elective 1"
               }
              ],
              "id": 5,
              "name": "Term 5"
             },
             {
              "curriculum_items": [
               {
                "credits": 3,
                "curriculum_requisites": [],
                "id": 951874139,
                "metrics": {
                 "blocking factor": 0,
                 "centrality": 0,
                 "complexity": 1,
                 "delay factor": 1
                },
                "name": "POLS 1337",
                "nameCanonical": "",
                "nameSub": "US Gov: Congress, President and Courts"
               },
               {
                "credits": 3,
                "curriculum_requisites": [
                 {
                  "source_id": 1051497550,
                  "target_id": 2888554139,
                  "type": "CurriculumPrerequisite"
                 },
                 {
                  "source_id": 1177372781,
                  "target_id": 2888554139,
                  "type": "CurriculumPrerequisite"
                 }
                ],
                "id": 2888554139,
                "metrics": {
                 "blocking factor": 2,
                 "centrality": 16,
                 "complexity": 8,
                 "delay factor": 6
                },
                "name": "INDE 2333",
                "nameCanonical": "",
                "nameSub": "Engineering Statistics"
               },
               {
                "credits": 1,
                "curriculum_requisites": [],
                "id": 26700799,
                "metrics": {
                 "blocking factor": 0,
                 "centrality": 0,
                 "complexity": 1,
                 "delay factor": 1
                },
                "name": " ",
                "nameCanonical": "",
                "nameSub": "Elective Lab 1"
               },
               {
                "credits": 3,
                "curriculum_requisites": [],
                "id": 1745860227,
                "metrics": {
                 "blocking factor": 0,
                 "centrality": 0,
                 "complexity": 1,
                 "delay factor": 1
                },
                "name": " ",
                "nameCanonical": "",
                "nameSub": "Concentration Elective 2"
               },
               {
                "credits": 3,
                "curriculum_requisites": [
                 {
                  "source_id": 649106202,
                  "target_id": 3368026167,
                  "type": "CurriculumPrerequisite"
                 }
                ],
                "id": 3368026167,
                "metrics": {
                 "blocking factor": 2,
                 "centrality": 76,
                 "complexity": 12,
                 "delay factor": 10
                },
                "name": "ECE 3340",
                "nameCanonical": "",
                "nameSub": "Numerical Methods"
               },
               {
                "credits": 3,
                "curriculum_requisites": [],
                "id": 672829327,
                "metrics": {
                 "blocking factor": 0,
                 "centrality": 0,
                 "complexity": 1,
                 "delay factor": 1
                },
                "name": " ",
                "nameCanonical": "",
                "nameSub": "ECE Elective 2"
               }
              ],
              "id": 6,
              "name": "Term 6"
             },
             {
              "curriculum_items": [
               {
                "credits": 3,
                "curriculum_requisites": [],
                "id": 3224555476,
                "metrics": {
                 "blocking factor": 2,
                 "centrality": 0,
                 "complexity": 5,
                 "delay factor": 3
                },
                "name": "ECON 2304",
                "nameCanonical": "",
                "nameSub": "Microeconomic Principles"
               },
               {
                "credits": 3,
                "curriculum_requisites": [
                 {
                  "source_id": 1966522372,
                  "target_id": 1337097032,
                  "type": "CurriculumPrerequisite"
                 },
                 {
                  "source_id": 4184346648,
                  "target_id": 1337097032,
                  "type": "CurriculumPrerequisite"
                 },
                 {
                  "source_id": 3368026167,
                  "target_id": 1337097032,
                  "type": "CurriculumPrerequisite"
                 },
                 {
                  "source_id": 2888554139,
                  "target_id": 1337097032,
                  "type": "CurriculumPrerequisite"
                 },
                 {
                  "source_id": 4165958389,
                  "target_id": 1337097032,
                  "type": "CurriculumPrerequisite"
                 },
                 {
                  "source_id": 3224555476,
                  "target_id": 1337097032,
                  "type": "CurriculumCorequisite"
                 },
                 {
                  "source_id": 2252871414,
                  "target_id": 1337097032,
                  "type": "CurriculumPrerequisite"
                 }
                ],
                "id": 1337097032,
                "metrics": {
                 "blocking factor": 1,
                 "centrality": 779,
                 "complexity": 13,
                 "delay factor": 12
                },
                "name": "ECE 4335",
                "nameCanonical": "",
                "nameSub": "ECE Design I"
               },
               {
                "credits": 1,
                "curriculum_requisites": [],
                "id": 1296179090,
                "metrics": {
                 "blocking factor": 0,
                 "centrality": 0,
                 "complexity": 1,
                 "delay factor": 1
                },
                "name": " ",
                "nameCanonical": "",
                "nameSub": "Elective Lab 2"
               },
               {
                "credits": 3,
                "curriculum_requisites": [],
                "id": 1105094343,
                "metrics": {
                 "blocking factor": 0,
                 "centrality": 0,
                 "complexity": 1,
                 "delay factor": 1
                },
                "name": " ",
                "nameCanonical": "",
                "nameSub": "Concentration Elective 3"
               },
               {
                "credits": 3,
                "curriculum_requisites": [],
                "id": 1819261218,
                "metrics": {
                 "blocking factor": 0,
                 "centrality": 0,
                 "complexity": 1,
                 "delay factor": 1
                },
                "name": " ",
                "nameCanonical": "",
                "nameSub": "Concentration Elective 4"
               },
               {
                "credits": 3,
                "curriculum_requisites": [],
                "id": 2529896330,
                "metrics": {
                 "blocking factor": 0,
                 "centrality": 0,
                 "complexity": 1,
                 "delay factor": 1
                },
                "name": " ",
                "nameCanonical": "",
                "nameSub": "Technical Elective"
               }
              ],
              "id": 7,
              "name": "Term 7"
             },
             {
              "curriculum_items": [
               {
                "credits": 3,
                "curriculum_requisites": [],
                "id": 1626752824,
                "metrics": {
                 "blocking factor": 0,
                 "centrality": 0,
                 "complexity": 1,
                 "delay factor": 1
                },
                "name": " ",
                "nameCanonical": "",
                "nameSub": "Lang., Phil. & Culture Core"
               },
               {
                "credits": 3,
                "curriculum_requisites": [
                 {
                  "source_id": 1337097032,
                  "target_id": 1158404973,
                  "type": "CurriculumPrerequisite"
                 }
                ],
                "id": 1158404973,
                "metrics": {
                 "blocking factor": 0,
                 "centrality": 0,
                 "complexity": 12,
                 "delay factor": 12
                },
                "name": "ECE 4336",
                "nameCanonical": "",
                "nameSub": "ECE Design II"
               },
               {
                "credits": 1,
                "curriculum_requisites": [],
                "id": 3091492697,
                "metrics": {
                 "blocking factor": 0,
                 "centrality": 0,
                 "complexity": 1,
                 "delay factor": 1
                },
                "name": " ",
                "nameCanonical": "",
                "nameSub": "Elective Lab 3"
               },
               {
                "credits": 3,
                "curriculum_requisites": [],
                "id": 2070124031,
                "metrics": {
                 "blocking factor": 0,
                 "centrality": 0,
                 "complexity": 1,
                 "delay factor": 1
                },
                "name": " ",
                "nameCanonical": "",
                "nameSub": "Concentration Elective 5"
               },
               {
                "credits": 3,
                "curriculum_requisites": [],
                "id": 1716266479,
                "metrics": {
                 "blocking factor": 0,
                 "centrality": 0,
                 "complexity": 1,
                 "delay factor": 1
                },
                "name": " ",
                "nameCanonical": "",
                "nameSub": "Concentration Elective 6"
               },
               {
                "credits": 3,
                "curriculum_requisites": [],
                "id": 2584207151,
                "metrics": {
                 "blocking factor": 0,
                 "centrality": 0,
                 "complexity": 1,
                 "delay factor": 1
                },
                "name": " ",
                "nameCanonical": "",
                "nameSub": "Concentration Elective 7"
               },
               {
                "credits": 1,
                "curriculum_requisites": [],
                "id": 2450156574,
                "metrics": {
                 "blocking factor": 0,
                 "centrality": 0,
                 "complexity": 1,
                 "delay factor": 1
                },
                "name": " ",
                "nameCanonical": "",
                "nameSub": "Elective Lab 4"
               }
              ],
              "id": 8,
              "name": "Term 8"
             }
            ],
            "dp_name": "University of Houston EE Program 4-year Plan",
            "institution": "",
            "name": "University of Houston EE Program"
           },
           "options": {
            "edit": false,
            "hideTerms": false
           }
          }
         }
        },
        "systemjs_options": null
       },
       "nodeType": "Scope",
       "props": {},
       "type": "node"
      },
      "text/html": [
       "<div\n",
       "    class=\"webio-mountpoint\"\n",
       "    data-webio-mountpoint=\"8732298484489864691\"\n",
       ">\n",
       "    <script>\n",
       "    if (window.require && require.defined && require.defined(\"nbextensions/webio-jupyter-notebook\")) {\n",
       "        console.log(\"Jupyter WebIO extension detected, not mounting.\");\n",
       "    } else if (window.WebIO) {\n",
       "        WebIO.mount(\n",
       "            document.querySelector('[data-webio-mountpoint=\"8732298484489864691\"]'),\n",
       "            {\"props\":{},\"nodeType\":\"Scope\",\"type\":\"node\",\"instanceArgs\":{\"imports\":{\"data\":[],\"type\":\"async_block\"},\"id\":\"9720072848119972937\",\"handlers\":{},\"systemjs_options\":null,\"mount_callbacks\":[],\"observables\":{\"curriculum-data\":{\"sync\":true,\"id\":\"3041958610981554902\",\"value\":{\"options\":{\"hideTerms\":false,\"edit\":false},\"curriculum\":{\"name\":\"University of Houston EE Program\",\"dp_name\":\"University of Houston EE Program 4-year Plan\",\"curriculum_terms\":[{\"name\":\"Term 1\",\"curriculum_items\":[{\"curriculum_requisites\":[],\"name\":\"HIST 1377\",\"metrics\":{\"complexity\":1.0,\"centrality\":0,\"blocking factor\":0,\"delay factor\":1.0},\"nameSub\":\"The US to 1877\",\"id\":3824069494,\"credits\":3,\"nameCanonical\":\"\"},{\"curriculum_requisites\":[],\"name\":\"ENGL 1303\",\"metrics\":{\"complexity\":13.0,\"centrality\":0,\"blocking factor\":6,\"delay factor\":7.0},\"nameSub\":\"First Year Writing I\",\"id\":1324171406,\"credits\":3,\"nameCanonical\":\"\"},{\"curriculum_requisites\":[{\"source_id\":4175014649,\"target_id\":1764441140,\"type\":\"CurriculumCorequisite\"}],\"name\":\"ENGI 1100\",\"metrics\":{\"complexity\":25.0,\"centrality\":85,\"blocking factor\":15,\"delay factor\":10.0},\"nameSub\":\"Intro to Engr.\",\"id\":1764441140,\"credits\":1,\"nameCanonical\":\"\"},{\"curriculum_requisites\":[],\"name\":\"MATH 1431\",\"metrics\":{\"complexity\":35.0,\"centrality\":0,\"blocking factor\":23,\"delay factor\":12.0},\"nameSub\":\"Calculus I\",\"id\":4175014649,\"credits\":4,\"nameCanonical\":\"\"},{\"curriculum_requisites\":[],\"name\":\"CHEM 1331\",\"metrics\":{\"complexity\":3.0,\"centrality\":0,\"blocking factor\":1,\"delay factor\":2.0},\"nameSub\":\"Fund. of Chemistry\",\"id\":1351802580,\"credits\":3,\"nameCanonical\":\"\"},{\"curriculum_requisites\":[{\"source_id\":1351802580,\"target_id\":2195546016,\"type\":\"CurriculumCorequisite\"}],\"name\":\"CHEM 1111\",\"metrics\":{\"complexity\":2.0,\"centrality\":0,\"blocking factor\":0,\"delay factor\":2.0},\"nameSub\":\"Fund. of Chemistry Lab\",\"id\":2195546016,\"credits\":1,\"nameCanonical\":\"\"}],\"id\":1},{\"name\":\"Term 2\",\"curriculum_items\":[{\"curriculum_requisites\":[],\"name\":\"HIST 1378\",\"metrics\":{\"complexity\":1.0,\"centrality\":0,\"blocking factor\":0,\"delay factor\":1.0},\"nameSub\":\"US Since 1877\",\"id\":2731496025,\"credits\":3,\"nameCanonical\":\"\"},{\"curriculum_requisites\":[{\"source_id\":1324171406,\"target_id\":3195103903,\"type\":\"CurriculumPrerequisite\"}],\"name\":\"ENGL 1304\",\"metrics\":{\"complexity\":12.0,\"centrality\":13,\"blocking factor\":5,\"delay factor\":7.0},\"nameSub\":\"First Year Writing II\",\"id\":3195103903,\"credits\":3,\"nameCanonical\":\"\"},{\"curriculum_requisites\":[{\"source_id\":4175014649,\"target_id\":1051497550,\"type\":\"CurriculumPrerequisite\"},{\"source_id\":1764441140,\"target_id\":1051497550,\"type\":\"CurriculumPrerequisite\"}],\"name\":\"ENGI 1331\",\"metrics\":{\"complexity\":24.0,\"centrality\":160,\"blocking factor\":14,\"delay factor\":10.0},\"nameSub\":\"Computing & Prob. Solving\",\"id\":1051497550,\"credits\":3,\"nameCanonical\":\"\"},{\"curriculum_requisites\":[{\"source_id\":4175014649,\"target_id\":1177372781,\"type\":\"CurriculumPrerequisite\"}],\"name\":\"MATH 1432\",\"metrics\":{\"complexity\":32.0,\"centrality\":607,\"blocking factor\":20,\"delay factor\":12.0},\"nameSub\":\"Calculus II\",\"id\":1177372781,\"credits\":4,\"nameCanonical\":\"\"},{\"curriculum_requisites\":[{\"source_id\":1177372781,\"target_id\":2834873484,\"type\":\"CurriculumCorequisite\"}],\"name\":\"PHYS 1321\",\"metrics\":{\"complexity\":28.0,\"centrality\":217,\"blocking factor\":16,\"delay factor\":12.0},\"nameSub\":\"University Physics I\",\"id\":2834873484,\"credits\":3,\"nameCanonical\":\"\"},{\"curriculum_requisites\":[{\"source_id\":2834873484,\"target_id\":3178954113,\"type\":\"CurriculumCorequisite\"}],\"name\":\"PHYS 1121\",\"metrics\":{\"complexity\":4.0,\"centrality\":0,\"blocking factor\":0,\"delay factor\":4.0},\"nameSub\":\"Physics Lab I\",\"id\":3178954113,\"credits\":1,\"nameCanonical\":\"\"}],\"id\":2},{\"name\":\"Term 3\",\"curriculum_items\":[{\"curriculum_requisites\":[],\"name\":\"POLS 1336\",\"metrics\":{\"complexity\":1.0,\"centrality\":0,\"blocking factor\":0,\"delay factor\":1.0},\"nameSub\":\"US and TX Constitutions & Politics\",\"id\":1541543378,\"credits\":3,\"nameCanonical\":\"\"},{\"curriculum_requisites\":[{\"source_id\":1177372781,\"target_id\":947037850,\"type\":\"CurriculumPrerequisite\"}],\"name\":\"MATH 3321\",\"metrics\":{\"complexity\":23.0,\"centrality\":93,\"blocking factor\":13,\"delay factor\":10.0},\"nameSub\":\"Engineering Math\",\"id\":947037850,\"credits\":3,\"nameCanonical\":\"\"},{\"curriculum_requisites\":[{\"source_id\":3718777895,\"target_id\":2138760932,\"type\":\"CurriculumCorequisite\"},{\"source_id\":3059602497,\"target_id\":2138760932,\"type\":\"CurriculumCorequisite\"},{\"source_id\":2258215799,\"target_id\":2138760932,\"type\":\"CurriculumCorequisite\"},{\"source_id\":1051497550,\"target_id\":2138760932,\"type\":\"CurriculumPrerequisite\"},{\"source_id\":947037850,\"target_id\":2138760932,\"type\":\"CurriculumCorequisite\"}],\"name\":\"ECE 2201\",\"metrics\":{\"complexity\":24.0,\"centrality\":677,\"blocking factor\":12,\"delay factor\":12.0},\"nameSub\":\"Circuit Analysis I\",\"id\":2138760932,\"credits\":3,\"nameCanonical\":\"\"},{\"curriculum_requisites\":[{\"source_id\":1177372781,\"target_id\":2258215799,\"type\":\"CurriculumPrerequisite\"}],\"name\":\"MATH 2433\",\"metrics\":{\"complexity\":27.0,\"centrality\":292,\"blocking factor\":15,\"delay factor\":12.0},\"nameSub\":\"Calculus III\",\"id\":2258215799,\"credits\":3,\"nameCanonical\":\"\"},{\"curriculum_requisites\":[{\"source_id\":2258215799,\"target_id\":3718777895,\"type\":\"CurriculumCorequisite\"},{\"source_id\":2834873484,\"target_id\":3718777895,\"type\":\"CurriculumPrerequisite\"}],\"name\":\"PHYS 1322\",\"metrics\":{\"complexity\":26.0,\"centrality\":426,\"blocking factor\":14,\"delay factor\":12.0},\"nameSub\":\"University Physics II\",\"id\":3718777895,\"credits\":3,\"nameCanonical\":\"\"},{\"curriculum_requisites\":[{\"source_id\":3718777895,\"target_id\":3059602497,\"type\":\"CurriculumCorequisite\"}],\"name\":\"PHYS 1122\",\"metrics\":{\"complexity\":25.0,\"centrality\":250,\"blocking factor\":13,\"delay factor\":12.0},\"nameSub\":\"Physics Lab II\",\"id\":3059602497,\"credits\":1,\"nameCanonical\":\"\"}],\"id\":3},{\"name\":\"Term 4\",\"curriculum_items\":[{\"curriculum_requisites\":[{\"source_id\":3195103903,\"target_id\":1770099342,\"type\":\"CurriculumPrerequisite\"},{\"source_id\":2138760932,\"target_id\":1770099342,\"type\":\"CurriculumPrerequisite\"}],\"name\":\"ENGI 2304\",\"metrics\":{\"complexity\":15.0,\"centrality\":159,\"blocking factor\":4,\"delay factor\":11.0},\"nameSub\":\"Technical Communication\",\"id\":1770099342,\"credits\":3,\"nameCanonical\":\"\"},{\"curriculum_requisites\":[{\"source_id\":947037850,\"target_id\":649106202,\"type\":\"CurriculumPrerequisite\"},{\"source_id\":2138760932,\"target_id\":649106202,\"type\":\"CurriculumPrerequisite\"}],\"name\":\"ECE 3331\",\"metrics\":{\"complexity\":14.0,\"centrality\":152,\"blocking factor\":4,\"delay factor\":10.0},\"nameSub\":\"Programming Apps in ECE\",\"id\":649106202,\"credits\":3,\"nameCanonical\":\"\"},{\"curriculum_requisites\":[{\"source_id\":3059602497,\"target_id\":1083857781,\"type\":\"CurriculumPrerequisite\"},{\"source_id\":3887805990,\"target_id\":1083857781,\"type\":\"CurriculumCorequisite\"}],\"name\":\"ECE 2100\",\"metrics\":{\"complexity\":17.0,\"centrality\":295,\"blocking factor\":5,\"delay factor\":12.0},\"nameSub\":\"Circuits Lab\",\"id\":1083857781,\"credits\":1,\"nameCanonical\":\"\"},{\"curriculum_requisites\":[{\"source_id\":2138760932,\"target_id\":3887805990,\"type\":\"CurriculumPrerequisite\"}],\"name\":\"ECE 2202\",\"metrics\":{\"complexity\":20.0,\"centrality\":393,\"blocking factor\":8,\"delay factor\":12.0},\"nameSub\":\"Circuit Analysis II\",\"id\":3887805990,\"credits\":3,\"nameCanonical\":\"\"},{\"curriculum_requisites\":[{\"source_id\":3887805990,\"target_id\":2791403937,\"type\":\"CurriculumCorequisite\"}],\"name\":\"ECE 3337\",\"metrics\":{\"complexity\":15.0,\"centrality\":154,\"blocking factor\":4,\"delay factor\":11.0},\"nameSub\":\"Signals & Systems Analysis\",\"id\":2791403937,\"credits\":3,\"nameCanonical\":\"\"},{\"curriculum_requisites\":[{\"source_id\":1083857781,\"target_id\":4184346648,\"type\":\"CurriculumCorequisite\"},{\"source_id\":649106202,\"target_id\":4184346648,\"type\":\"CurriculumCorequisite\"}],\"name\":\"ECE 3436\",\"metrics\":{\"complexity\":13.0,\"centrality\":171,\"blocking factor\":2,\"delay factor\":11.0},\"nameSub\":\"Microprocessors\",\"id\":4184346648,\"credits\":3,\"nameCanonical\":\"\"}],\"id\":4},{\"name\":\"Term 5\",\"curriculum_items\":[{\"curriculum_requisites\":[],\"name\":\" \",\"metrics\":{\"complexity\":1.0,\"centrality\":0,\"blocking factor\":0,\"delay factor\":1.0},\"nameSub\":\"Creative Arts Core\",\"id\":848294223,\"credits\":3,\"nameCanonical\":\"\"},{\"curriculum_requisites\":[{\"source_id\":1083857781,\"target_id\":1966522372,\"type\":\"CurriculumPrerequisite\"},{\"source_id\":1770099342,\"target_id\":1966522372,\"type\":\"CurriculumPrerequisite\"}],\"name\":\"ECE 3155\",\"metrics\":{\"complexity\":15.0,\"centrality\":359,\"blocking factor\":3,\"delay factor\":12.0},\"nameSub\":\"Electronics Lab\",\"id\":1966522372,\"credits\":1,\"nameCanonical\":\"\"},{\"curriculum_requisites\":[{\"source_id\":1966522372,\"target_id\":4165958389,\"type\":\"CurriculumStrictCorequisite\"},{\"source_id\":2791403937,\"target_id\":4165958389,\"type\":\"CurriculumPrerequisite\"}],\"name\":\"ECE 3355\",\"metrics\":{\"complexity\":14.0,\"centrality\":266,\"blocking factor\":2,\"delay factor\":12.0},\"nameSub\":\"Electronics\",\"id\":4165958389,\"credits\":3,\"nameCanonical\":\"\"},{\"curriculum_requisites\":[],\"name\":\" \",\"metrics\":{\"complexity\":1.0,\"centrality\":0,\"blocking factor\":0,\"delay factor\":1.0},\"nameSub\":\"Concentration Elective 1\",\"id\":1056053313,\"credits\":3,\"nameCanonical\":\"\"},{\"curriculum_requisites\":[{\"source_id\":2791403937,\"target_id\":2252871414,\"type\":\"CurriculumPrerequisite\"}],\"name\":\"ECE 3317\",\"metrics\":{\"complexity\":13.0,\"centrality\":77,\"blocking factor\":2,\"delay factor\":11.0},\"nameSub\":\"Applied EM Waves\",\"id\":2252871414,\"credits\":3,\"nameCanonical\":\"\"},{\"curriculum_requisites\":[],\"name\":\" \",\"metrics\":{\"complexity\":1.0,\"centrality\":0,\"blocking factor\":0,\"delay factor\":1.0},\"nameSub\":\"ECE Elective 1\",\"id\":2051928090,\"credits\":3,\"nameCanonical\":\"\"}],\"id\":5},{\"name\":\"Term 6\",\"curriculum_items\":[{\"curriculum_requisites\":[],\"name\":\"POLS 1337\",\"metrics\":{\"complexity\":1.0,\"centrality\":0,\"blocking factor\":0,\"delay factor\":1.0},\"nameSub\":\"US Gov: Congress, President and Courts\",\"id\":951874139,\"credits\":3,\"nameCanonical\":\"\"},{\"curriculum_requisites\":[{\"source_id\":1051497550,\"target_id\":2888554139,\"type\":\"CurriculumPrerequisite\"},{\"source_id\":1177372781,\"target_id\":2888554139,\"type\":\"CurriculumPrerequisite\"}],\"name\":\"INDE 2333\",\"metrics\":{\"complexity\":8.0,\"centrality\":16,\"blocking factor\":2,\"delay factor\":6.0},\"nameSub\":\"Engineering Statistics\",\"id\":2888554139,\"credits\":3,\"nameCanonical\":\"\"},{\"curriculum_requisites\":[],\"name\":\" \",\"metrics\":{\"complexity\":1.0,\"centrality\":0,\"blocking factor\":0,\"delay factor\":1.0},\"nameSub\":\"Elective Lab 1\",\"id\":26700799,\"credits\":1,\"nameCanonical\":\"\"},{\"curriculum_requisites\":[],\"name\":\" \",\"metrics\":{\"complexity\":1.0,\"centrality\":0,\"blocking factor\":0,\"delay factor\":1.0},\"nameSub\":\"Concentration Elective 2\",\"id\":1745860227,\"credits\":3,\"nameCanonical\":\"\"},{\"curriculum_requisites\":[{\"source_id\":649106202,\"target_id\":3368026167,\"type\":\"CurriculumPrerequisite\"}],\"name\":\"ECE 3340\",\"metrics\":{\"complexity\":12.0,\"centrality\":76,\"blocking factor\":2,\"delay factor\":10.0},\"nameSub\":\"Numerical Methods\",\"id\":3368026167,\"credits\":3,\"nameCanonical\":\"\"},{\"curriculum_requisites\":[],\"name\":\" \",\"metrics\":{\"complexity\":1.0,\"centrality\":0,\"blocking factor\":0,\"delay factor\":1.0},\"nameSub\":\"ECE Elective 2\",\"id\":672829327,\"credits\":3,\"nameCanonical\":\"\"}],\"id\":6},{\"name\":\"Term 7\",\"curriculum_items\":[{\"curriculum_requisites\":[],\"name\":\"ECON 2304\",\"metrics\":{\"complexity\":5.0,\"centrality\":0,\"blocking factor\":2,\"delay factor\":3.0},\"nameSub\":\"Microeconomic Principles\",\"id\":3224555476,\"credits\":3,\"nameCanonical\":\"\"},{\"curriculum_requisites\":[{\"source_id\":1966522372,\"target_id\":1337097032,\"type\":\"CurriculumPrerequisite\"},{\"source_id\":4184346648,\"target_id\":1337097032,\"type\":\"CurriculumPrerequisite\"},{\"source_id\":3368026167,\"target_id\":1337097032,\"type\":\"CurriculumPrerequisite\"},{\"source_id\":2888554139,\"target_id\":1337097032,\"type\":\"CurriculumPrerequisite\"},{\"source_id\":4165958389,\"target_id\":1337097032,\"type\":\"CurriculumPrerequisite\"},{\"source_id\":3224555476,\"target_id\":1337097032,\"type\":\"CurriculumCorequisite\"},{\"source_id\":2252871414,\"target_id\":1337097032,\"type\":\"CurriculumPrerequisite\"}],\"name\":\"ECE 4335\",\"metrics\":{\"complexity\":13.0,\"centrality\":779,\"blocking factor\":1,\"delay factor\":12.0},\"nameSub\":\"ECE Design I\",\"id\":1337097032,\"credits\":3,\"nameCanonical\":\"\"},{\"curriculum_requisites\":[],\"name\":\" \",\"metrics\":{\"complexity\":1.0,\"centrality\":0,\"blocking factor\":0,\"delay factor\":1.0},\"nameSub\":\"Elective Lab 2\",\"id\":1296179090,\"credits\":1,\"nameCanonical\":\"\"},{\"curriculum_requisites\":[],\"name\":\" \",\"metrics\":{\"complexity\":1.0,\"centrality\":0,\"blocking factor\":0,\"delay factor\":1.0},\"nameSub\":\"Concentration Elective 3\",\"id\":1105094343,\"credits\":3,\"nameCanonical\":\"\"},{\"curriculum_requisites\":[],\"name\":\" \",\"metrics\":{\"complexity\":1.0,\"centrality\":0,\"blocking factor\":0,\"delay factor\":1.0},\"nameSub\":\"Concentration Elective 4\",\"id\":1819261218,\"credits\":3,\"nameCanonical\":\"\"},{\"curriculum_requisites\":[],\"name\":\" \",\"metrics\":{\"complexity\":1.0,\"centrality\":0,\"blocking factor\":0,\"delay factor\":1.0},\"nameSub\":\"Technical Elective\",\"id\":2529896330,\"credits\":3,\"nameCanonical\":\"\"}],\"id\":7},{\"name\":\"Term 8\",\"curriculum_items\":[{\"curriculum_requisites\":[],\"name\":\" \",\"metrics\":{\"complexity\":1.0,\"centrality\":0,\"blocking factor\":0,\"delay factor\":1.0},\"nameSub\":\"Lang., Phil. & Culture Core\",\"id\":1626752824,\"credits\":3,\"nameCanonical\":\"\"},{\"curriculum_requisites\":[{\"source_id\":1337097032,\"target_id\":1158404973,\"type\":\"CurriculumPrerequisite\"}],\"name\":\"ECE 4336\",\"metrics\":{\"complexity\":12.0,\"centrality\":0,\"blocking factor\":0,\"delay factor\":12.0},\"nameSub\":\"ECE Design II\",\"id\":1158404973,\"credits\":3,\"nameCanonical\":\"\"},{\"curriculum_requisites\":[],\"name\":\" \",\"metrics\":{\"complexity\":1.0,\"centrality\":0,\"blocking factor\":0,\"delay factor\":1.0},\"nameSub\":\"Elective Lab 3\",\"id\":3091492697,\"credits\":1,\"nameCanonical\":\"\"},{\"curriculum_requisites\":[],\"name\":\" \",\"metrics\":{\"complexity\":1.0,\"centrality\":0,\"blocking factor\":0,\"delay factor\":1.0},\"nameSub\":\"Concentration Elective 5\",\"id\":2070124031,\"credits\":3,\"nameCanonical\":\"\"},{\"curriculum_requisites\":[],\"name\":\" \",\"metrics\":{\"complexity\":1.0,\"centrality\":0,\"blocking factor\":0,\"delay factor\":1.0},\"nameSub\":\"Concentration Elective 6\",\"id\":1716266479,\"credits\":3,\"nameCanonical\":\"\"},{\"curriculum_requisites\":[],\"name\":\" \",\"metrics\":{\"complexity\":1.0,\"centrality\":0,\"blocking factor\":0,\"delay factor\":1.0},\"nameSub\":\"Concentration Elective 7\",\"id\":2584207151,\"credits\":3,\"nameCanonical\":\"\"},{\"curriculum_requisites\":[],\"name\":\" \",\"metrics\":{\"complexity\":1.0,\"centrality\":0,\"blocking factor\":0,\"delay factor\":1.0},\"nameSub\":\"Elective Lab 4\",\"id\":2450156574,\"credits\":1,\"nameCanonical\":\"\"}],\"id\":8}],\"institution\":\"\"}}}}},\"children\":[{\"props\":{\"src\":\"https:\\/\\/curricula-api-embed.damoursystems.com\\/\",\"id\":\"curriculum\",\"events\":{\"load\":\"(function (){this.contentWindow.postMessage({\\\"options\\\":{\\\"hideTerms\\\":false,\\\"edit\\\":false},\\\"curriculum\\\":{\\\"name\\\":\\\"University of Houston EE Program\\\",\\\"dp_name\\\":\\\"University of Houston EE Program 4-year Plan\\\",\\\"curriculum_terms\\\":[{\\\"name\\\":\\\"Term 1\\\",\\\"curriculum_items\\\":[{\\\"curriculum_requisites\\\":[],\\\"name\\\":\\\"HIST 1377\\\",\\\"metrics\\\":{\\\"complexity\\\":1.0,\\\"centrality\\\":0,\\\"blocking factor\\\":0,\\\"delay factor\\\":1.0},\\\"nameSub\\\":\\\"The US to 1877\\\",\\\"id\\\":3824069494,\\\"credits\\\":3,\\\"nameCanonical\\\":\\\"\\\"},{\\\"curriculum_requisites\\\":[],\\\"name\\\":\\\"ENGL 1303\\\",\\\"metrics\\\":{\\\"complexity\\\":13.0,\\\"centrality\\\":0,\\\"blocking factor\\\":6,\\\"delay factor\\\":7.0},\\\"nameSub\\\":\\\"First Year Writing I\\\",\\\"id\\\":1324171406,\\\"credits\\\":3,\\\"nameCanonical\\\":\\\"\\\"},{\\\"curriculum_requisites\\\":[{\\\"source_id\\\":4175014649,\\\"target_id\\\":1764441140,\\\"type\\\":\\\"CurriculumCorequisite\\\"}],\\\"name\\\":\\\"ENGI 1100\\\",\\\"metrics\\\":{\\\"complexity\\\":25.0,\\\"centrality\\\":85,\\\"blocking factor\\\":15,\\\"delay factor\\\":10.0},\\\"nameSub\\\":\\\"Intro to Engr.\\\",\\\"id\\\":1764441140,\\\"credits\\\":1,\\\"nameCanonical\\\":\\\"\\\"},{\\\"curriculum_requisites\\\":[],\\\"name\\\":\\\"MATH 1431\\\",\\\"metrics\\\":{\\\"complexity\\\":35.0,\\\"centrality\\\":0,\\\"blocking factor\\\":23,\\\"delay factor\\\":12.0},\\\"nameSub\\\":\\\"Calculus I\\\",\\\"id\\\":4175014649,\\\"credits\\\":4,\\\"nameCanonical\\\":\\\"\\\"},{\\\"curriculum_requisites\\\":[],\\\"name\\\":\\\"CHEM 1331\\\",\\\"metrics\\\":{\\\"complexity\\\":3.0,\\\"centrality\\\":0,\\\"blocking factor\\\":1,\\\"delay factor\\\":2.0},\\\"nameSub\\\":\\\"Fund. of Chemistry\\\",\\\"id\\\":1351802580,\\\"credits\\\":3,\\\"nameCanonical\\\":\\\"\\\"},{\\\"curriculum_requisites\\\":[{\\\"source_id\\\":1351802580,\\\"target_id\\\":2195546016,\\\"type\\\":\\\"CurriculumCorequisite\\\"}],\\\"name\\\":\\\"CHEM 1111\\\",\\\"metrics\\\":{\\\"complexity\\\":2.0,\\\"centrality\\\":0,\\\"blocking factor\\\":0,\\\"delay factor\\\":2.0},\\\"nameSub\\\":\\\"Fund. of Chemistry Lab\\\",\\\"id\\\":2195546016,\\\"credits\\\":1,\\\"nameCanonical\\\":\\\"\\\"}],\\\"id\\\":1},{\\\"name\\\":\\\"Term 2\\\",\\\"curriculum_items\\\":[{\\\"curriculum_requisites\\\":[],\\\"name\\\":\\\"HIST 1378\\\",\\\"metrics\\\":{\\\"complexity\\\":1.0,\\\"centrality\\\":0,\\\"blocking factor\\\":0,\\\"delay factor\\\":1.0},\\\"nameSub\\\":\\\"US Since 1877\\\",\\\"id\\\":2731496025,\\\"credits\\\":3,\\\"nameCanonical\\\":\\\"\\\"},{\\\"curriculum_requisites\\\":[{\\\"source_id\\\":1324171406,\\\"target_id\\\":3195103903,\\\"type\\\":\\\"CurriculumPrerequisite\\\"}],\\\"name\\\":\\\"ENGL 1304\\\",\\\"metrics\\\":{\\\"complexity\\\":12.0,\\\"centrality\\\":13,\\\"blocking factor\\\":5,\\\"delay factor\\\":7.0},\\\"nameSub\\\":\\\"First Year Writing II\\\",\\\"id\\\":3195103903,\\\"credits\\\":3,\\\"nameCanonical\\\":\\\"\\\"},{\\\"curriculum_requisites\\\":[{\\\"source_id\\\":4175014649,\\\"target_id\\\":1051497550,\\\"type\\\":\\\"CurriculumPrerequisite\\\"},{\\\"source_id\\\":1764441140,\\\"target_id\\\":1051497550,\\\"type\\\":\\\"CurriculumPrerequisite\\\"}],\\\"name\\\":\\\"ENGI 1331\\\",\\\"metrics\\\":{\\\"complexity\\\":24.0,\\\"centrality\\\":160,\\\"blocking factor\\\":14,\\\"delay factor\\\":10.0},\\\"nameSub\\\":\\\"Computing & Prob. Solving\\\",\\\"id\\\":1051497550,\\\"credits\\\":3,\\\"nameCanonical\\\":\\\"\\\"},{\\\"curriculum_requisites\\\":[{\\\"source_id\\\":4175014649,\\\"target_id\\\":1177372781,\\\"type\\\":\\\"CurriculumPrerequisite\\\"}],\\\"name\\\":\\\"MATH 1432\\\",\\\"metrics\\\":{\\\"complexity\\\":32.0,\\\"centrality\\\":607,\\\"blocking factor\\\":20,\\\"delay factor\\\":12.0},\\\"nameSub\\\":\\\"Calculus II\\\",\\\"id\\\":1177372781,\\\"credits\\\":4,\\\"nameCanonical\\\":\\\"\\\"},{\\\"curriculum_requisites\\\":[{\\\"source_id\\\":1177372781,\\\"target_id\\\":2834873484,\\\"type\\\":\\\"CurriculumCorequisite\\\"}],\\\"name\\\":\\\"PHYS 1321\\\",\\\"metrics\\\":{\\\"complexity\\\":28.0,\\\"centrality\\\":217,\\\"blocking factor\\\":16,\\\"delay factor\\\":12.0},\\\"nameSub\\\":\\\"University Physics I\\\",\\\"id\\\":2834873484,\\\"credits\\\":3,\\\"nameCanonical\\\":\\\"\\\"},{\\\"curriculum_requisites\\\":[{\\\"source_id\\\":2834873484,\\\"target_id\\\":3178954113,\\\"type\\\":\\\"CurriculumCorequisite\\\"}],\\\"name\\\":\\\"PHYS 1121\\\",\\\"metrics\\\":{\\\"complexity\\\":4.0,\\\"centrality\\\":0,\\\"blocking factor\\\":0,\\\"delay factor\\\":4.0},\\\"nameSub\\\":\\\"Physics Lab I\\\",\\\"id\\\":3178954113,\\\"credits\\\":1,\\\"nameCanonical\\\":\\\"\\\"}],\\\"id\\\":2},{\\\"name\\\":\\\"Term 3\\\",\\\"curriculum_items\\\":[{\\\"curriculum_requisites\\\":[],\\\"name\\\":\\\"POLS 1336\\\",\\\"metrics\\\":{\\\"complexity\\\":1.0,\\\"centrality\\\":0,\\\"blocking factor\\\":0,\\\"delay factor\\\":1.0},\\\"nameSub\\\":\\\"US and TX Constitutions & Politics\\\",\\\"id\\\":1541543378,\\\"credits\\\":3,\\\"nameCanonical\\\":\\\"\\\"},{\\\"curriculum_requisites\\\":[{\\\"source_id\\\":1177372781,\\\"target_id\\\":947037850,\\\"type\\\":\\\"CurriculumPrerequisite\\\"}],\\\"name\\\":\\\"MATH 3321\\\",\\\"metrics\\\":{\\\"complexity\\\":23.0,\\\"centrality\\\":93,\\\"blocking factor\\\":13,\\\"delay factor\\\":10.0},\\\"nameSub\\\":\\\"Engineering Math\\\",\\\"id\\\":947037850,\\\"credits\\\":3,\\\"nameCanonical\\\":\\\"\\\"},{\\\"curriculum_requisites\\\":[{\\\"source_id\\\":3718777895,\\\"target_id\\\":2138760932,\\\"type\\\":\\\"CurriculumCorequisite\\\"},{\\\"source_id\\\":3059602497,\\\"target_id\\\":2138760932,\\\"type\\\":\\\"CurriculumCorequisite\\\"},{\\\"source_id\\\":2258215799,\\\"target_id\\\":2138760932,\\\"type\\\":\\\"CurriculumCorequisite\\\"},{\\\"source_id\\\":1051497550,\\\"target_id\\\":2138760932,\\\"type\\\":\\\"CurriculumPrerequisite\\\"},{\\\"source_id\\\":947037850,\\\"target_id\\\":2138760932,\\\"type\\\":\\\"CurriculumCorequisite\\\"}],\\\"name\\\":\\\"ECE 2201\\\",\\\"metrics\\\":{\\\"complexity\\\":24.0,\\\"centrality\\\":677,\\\"blocking factor\\\":12,\\\"delay factor\\\":12.0},\\\"nameSub\\\":\\\"Circuit Analysis I\\\",\\\"id\\\":2138760932,\\\"credits\\\":3,\\\"nameCanonical\\\":\\\"\\\"},{\\\"curriculum_requisites\\\":[{\\\"source_id\\\":1177372781,\\\"target_id\\\":2258215799,\\\"type\\\":\\\"CurriculumPrerequisite\\\"}],\\\"name\\\":\\\"MATH 2433\\\",\\\"metrics\\\":{\\\"complexity\\\":27.0,\\\"centrality\\\":292,\\\"blocking factor\\\":15,\\\"delay factor\\\":12.0},\\\"nameSub\\\":\\\"Calculus III\\\",\\\"id\\\":2258215799,\\\"credits\\\":3,\\\"nameCanonical\\\":\\\"\\\"},{\\\"curriculum_requisites\\\":[{\\\"source_id\\\":2258215799,\\\"target_id\\\":3718777895,\\\"type\\\":\\\"CurriculumCorequisite\\\"},{\\\"source_id\\\":2834873484,\\\"target_id\\\":3718777895,\\\"type\\\":\\\"CurriculumPrerequisite\\\"}],\\\"name\\\":\\\"PHYS 1322\\\",\\\"metrics\\\":{\\\"complexity\\\":26.0,\\\"centrality\\\":426,\\\"blocking factor\\\":14,\\\"delay factor\\\":12.0},\\\"nameSub\\\":\\\"University Physics II\\\",\\\"id\\\":3718777895,\\\"credits\\\":3,\\\"nameCanonical\\\":\\\"\\\"},{\\\"curriculum_requisites\\\":[{\\\"source_id\\\":3718777895,\\\"target_id\\\":3059602497,\\\"type\\\":\\\"CurriculumCorequisite\\\"}],\\\"name\\\":\\\"PHYS 1122\\\",\\\"metrics\\\":{\\\"complexity\\\":25.0,\\\"centrality\\\":250,\\\"blocking factor\\\":13,\\\"delay factor\\\":12.0},\\\"nameSub\\\":\\\"Physics Lab II\\\",\\\"id\\\":3059602497,\\\"credits\\\":1,\\\"nameCanonical\\\":\\\"\\\"}],\\\"id\\\":3},{\\\"name\\\":\\\"Term 4\\\",\\\"curriculum_items\\\":[{\\\"curriculum_requisites\\\":[{\\\"source_id\\\":3195103903,\\\"target_id\\\":1770099342,\\\"type\\\":\\\"CurriculumPrerequisite\\\"},{\\\"source_id\\\":2138760932,\\\"target_id\\\":1770099342,\\\"type\\\":\\\"CurriculumPrerequisite\\\"}],\\\"name\\\":\\\"ENGI 2304\\\",\\\"metrics\\\":{\\\"complexity\\\":15.0,\\\"centrality\\\":159,\\\"blocking factor\\\":4,\\\"delay factor\\\":11.0},\\\"nameSub\\\":\\\"Technical Communication\\\",\\\"id\\\":1770099342,\\\"credits\\\":3,\\\"nameCanonical\\\":\\\"\\\"},{\\\"curriculum_requisites\\\":[{\\\"source_id\\\":947037850,\\\"target_id\\\":649106202,\\\"type\\\":\\\"CurriculumPrerequisite\\\"},{\\\"source_id\\\":2138760932,\\\"target_id\\\":649106202,\\\"type\\\":\\\"CurriculumPrerequisite\\\"}],\\\"name\\\":\\\"ECE 3331\\\",\\\"metrics\\\":{\\\"complexity\\\":14.0,\\\"centrality\\\":152,\\\"blocking factor\\\":4,\\\"delay factor\\\":10.0},\\\"nameSub\\\":\\\"Programming Apps in ECE\\\",\\\"id\\\":649106202,\\\"credits\\\":3,\\\"nameCanonical\\\":\\\"\\\"},{\\\"curriculum_requisites\\\":[{\\\"source_id\\\":3059602497,\\\"target_id\\\":1083857781,\\\"type\\\":\\\"CurriculumPrerequisite\\\"},{\\\"source_id\\\":3887805990,\\\"target_id\\\":1083857781,\\\"type\\\":\\\"CurriculumCorequisite\\\"}],\\\"name\\\":\\\"ECE 2100\\\",\\\"metrics\\\":{\\\"complexity\\\":17.0,\\\"centrality\\\":295,\\\"blocking factor\\\":5,\\\"delay factor\\\":12.0},\\\"nameSub\\\":\\\"Circuits Lab\\\",\\\"id\\\":1083857781,\\\"credits\\\":1,\\\"nameCanonical\\\":\\\"\\\"},{\\\"curriculum_requisites\\\":[{\\\"source_id\\\":2138760932,\\\"target_id\\\":3887805990,\\\"type\\\":\\\"CurriculumPrerequisite\\\"}],\\\"name\\\":\\\"ECE 2202\\\",\\\"metrics\\\":{\\\"complexity\\\":20.0,\\\"centrality\\\":393,\\\"blocking factor\\\":8,\\\"delay factor\\\":12.0},\\\"nameSub\\\":\\\"Circuit Analysis II\\\",\\\"id\\\":3887805990,\\\"credits\\\":3,\\\"nameCanonical\\\":\\\"\\\"},{\\\"curriculum_requisites\\\":[{\\\"source_id\\\":3887805990,\\\"target_id\\\":2791403937,\\\"type\\\":\\\"CurriculumCorequisite\\\"}],\\\"name\\\":\\\"ECE 3337\\\",\\\"metrics\\\":{\\\"complexity\\\":15.0,\\\"centrality\\\":154,\\\"blocking factor\\\":4,\\\"delay factor\\\":11.0},\\\"nameSub\\\":\\\"Signals & Systems Analysis\\\",\\\"id\\\":2791403937,\\\"credits\\\":3,\\\"nameCanonical\\\":\\\"\\\"},{\\\"curriculum_requisites\\\":[{\\\"source_id\\\":1083857781,\\\"target_id\\\":4184346648,\\\"type\\\":\\\"CurriculumCorequisite\\\"},{\\\"source_id\\\":649106202,\\\"target_id\\\":4184346648,\\\"type\\\":\\\"CurriculumCorequisite\\\"}],\\\"name\\\":\\\"ECE 3436\\\",\\\"metrics\\\":{\\\"complexity\\\":13.0,\\\"centrality\\\":171,\\\"blocking factor\\\":2,\\\"delay factor\\\":11.0},\\\"nameSub\\\":\\\"Microprocessors\\\",\\\"id\\\":4184346648,\\\"credits\\\":3,\\\"nameCanonical\\\":\\\"\\\"}],\\\"id\\\":4},{\\\"name\\\":\\\"Term 5\\\",\\\"curriculum_items\\\":[{\\\"curriculum_requisites\\\":[],\\\"name\\\":\\\" \\\",\\\"metrics\\\":{\\\"complexity\\\":1.0,\\\"centrality\\\":0,\\\"blocking factor\\\":0,\\\"delay factor\\\":1.0},\\\"nameSub\\\":\\\"Creative Arts Core\\\",\\\"id\\\":848294223,\\\"credits\\\":3,\\\"nameCanonical\\\":\\\"\\\"},{\\\"curriculum_requisites\\\":[{\\\"source_id\\\":1083857781,\\\"target_id\\\":1966522372,\\\"type\\\":\\\"CurriculumPrerequisite\\\"},{\\\"source_id\\\":1770099342,\\\"target_id\\\":1966522372,\\\"type\\\":\\\"CurriculumPrerequisite\\\"}],\\\"name\\\":\\\"ECE 3155\\\",\\\"metrics\\\":{\\\"complexity\\\":15.0,\\\"centrality\\\":359,\\\"blocking factor\\\":3,\\\"delay factor\\\":12.0},\\\"nameSub\\\":\\\"Electronics Lab\\\",\\\"id\\\":1966522372,\\\"credits\\\":1,\\\"nameCanonical\\\":\\\"\\\"},{\\\"curriculum_requisites\\\":[{\\\"source_id\\\":1966522372,\\\"target_id\\\":4165958389,\\\"type\\\":\\\"CurriculumStrictCorequisite\\\"},{\\\"source_id\\\":2791403937,\\\"target_id\\\":4165958389,\\\"type\\\":\\\"CurriculumPrerequisite\\\"}],\\\"name\\\":\\\"ECE 3355\\\",\\\"metrics\\\":{\\\"complexity\\\":14.0,\\\"centrality\\\":266,\\\"blocking factor\\\":2,\\\"delay factor\\\":12.0},\\\"nameSub\\\":\\\"Electronics\\\",\\\"id\\\":4165958389,\\\"credits\\\":3,\\\"nameCanonical\\\":\\\"\\\"},{\\\"curriculum_requisites\\\":[],\\\"name\\\":\\\" \\\",\\\"metrics\\\":{\\\"complexity\\\":1.0,\\\"centrality\\\":0,\\\"blocking factor\\\":0,\\\"delay factor\\\":1.0},\\\"nameSub\\\":\\\"Concentration Elective 1\\\",\\\"id\\\":1056053313,\\\"credits\\\":3,\\\"nameCanonical\\\":\\\"\\\"},{\\\"curriculum_requisites\\\":[{\\\"source_id\\\":2791403937,\\\"target_id\\\":2252871414,\\\"type\\\":\\\"CurriculumPrerequisite\\\"}],\\\"name\\\":\\\"ECE 3317\\\",\\\"metrics\\\":{\\\"complexity\\\":13.0,\\\"centrality\\\":77,\\\"blocking factor\\\":2,\\\"delay factor\\\":11.0},\\\"nameSub\\\":\\\"Applied EM Waves\\\",\\\"id\\\":2252871414,\\\"credits\\\":3,\\\"nameCanonical\\\":\\\"\\\"},{\\\"curriculum_requisites\\\":[],\\\"name\\\":\\\" \\\",\\\"metrics\\\":{\\\"complexity\\\":1.0,\\\"centrality\\\":0,\\\"blocking factor\\\":0,\\\"delay factor\\\":1.0},\\\"nameSub\\\":\\\"ECE Elective 1\\\",\\\"id\\\":2051928090,\\\"credits\\\":3,\\\"nameCanonical\\\":\\\"\\\"}],\\\"id\\\":5},{\\\"name\\\":\\\"Term 6\\\",\\\"curriculum_items\\\":[{\\\"curriculum_requisites\\\":[],\\\"name\\\":\\\"POLS 1337\\\",\\\"metrics\\\":{\\\"complexity\\\":1.0,\\\"centrality\\\":0,\\\"blocking factor\\\":0,\\\"delay factor\\\":1.0},\\\"nameSub\\\":\\\"US Gov: Congress, President and Courts\\\",\\\"id\\\":951874139,\\\"credits\\\":3,\\\"nameCanonical\\\":\\\"\\\"},{\\\"curriculum_requisites\\\":[{\\\"source_id\\\":1051497550,\\\"target_id\\\":2888554139,\\\"type\\\":\\\"CurriculumPrerequisite\\\"},{\\\"source_id\\\":1177372781,\\\"target_id\\\":2888554139,\\\"type\\\":\\\"CurriculumPrerequisite\\\"}],\\\"name\\\":\\\"INDE 2333\\\",\\\"metrics\\\":{\\\"complexity\\\":8.0,\\\"centrality\\\":16,\\\"blocking factor\\\":2,\\\"delay factor\\\":6.0},\\\"nameSub\\\":\\\"Engineering Statistics\\\",\\\"id\\\":2888554139,\\\"credits\\\":3,\\\"nameCanonical\\\":\\\"\\\"},{\\\"curriculum_requisites\\\":[],\\\"name\\\":\\\" \\\",\\\"metrics\\\":{\\\"complexity\\\":1.0,\\\"centrality\\\":0,\\\"blocking factor\\\":0,\\\"delay factor\\\":1.0},\\\"nameSub\\\":\\\"Elective Lab 1\\\",\\\"id\\\":26700799,\\\"credits\\\":1,\\\"nameCanonical\\\":\\\"\\\"},{\\\"curriculum_requisites\\\":[],\\\"name\\\":\\\" \\\",\\\"metrics\\\":{\\\"complexity\\\":1.0,\\\"centrality\\\":0,\\\"blocking factor\\\":0,\\\"delay factor\\\":1.0},\\\"nameSub\\\":\\\"Concentration Elective 2\\\",\\\"id\\\":1745860227,\\\"credits\\\":3,\\\"nameCanonical\\\":\\\"\\\"},{\\\"curriculum_requisites\\\":[{\\\"source_id\\\":649106202,\\\"target_id\\\":3368026167,\\\"type\\\":\\\"CurriculumPrerequisite\\\"}],\\\"name\\\":\\\"ECE 3340\\\",\\\"metrics\\\":{\\\"complexity\\\":12.0,\\\"centrality\\\":76,\\\"blocking factor\\\":2,\\\"delay factor\\\":10.0},\\\"nameSub\\\":\\\"Numerical Methods\\\",\\\"id\\\":3368026167,\\\"credits\\\":3,\\\"nameCanonical\\\":\\\"\\\"},{\\\"curriculum_requisites\\\":[],\\\"name\\\":\\\" \\\",\\\"metrics\\\":{\\\"complexity\\\":1.0,\\\"centrality\\\":0,\\\"blocking factor\\\":0,\\\"delay factor\\\":1.0},\\\"nameSub\\\":\\\"ECE Elective 2\\\",\\\"id\\\":672829327,\\\"credits\\\":3,\\\"nameCanonical\\\":\\\"\\\"}],\\\"id\\\":6},{\\\"name\\\":\\\"Term 7\\\",\\\"curriculum_items\\\":[{\\\"curriculum_requisites\\\":[],\\\"name\\\":\\\"ECON 2304\\\",\\\"metrics\\\":{\\\"complexity\\\":5.0,\\\"centrality\\\":0,\\\"blocking factor\\\":2,\\\"delay factor\\\":3.0},\\\"nameSub\\\":\\\"Microeconomic Principles\\\",\\\"id\\\":3224555476,\\\"credits\\\":3,\\\"nameCanonical\\\":\\\"\\\"},{\\\"curriculum_requisites\\\":[{\\\"source_id\\\":1966522372,\\\"target_id\\\":1337097032,\\\"type\\\":\\\"CurriculumPrerequisite\\\"},{\\\"source_id\\\":4184346648,\\\"target_id\\\":1337097032,\\\"type\\\":\\\"CurriculumPrerequisite\\\"},{\\\"source_id\\\":3368026167,\\\"target_id\\\":1337097032,\\\"type\\\":\\\"CurriculumPrerequisite\\\"},{\\\"source_id\\\":2888554139,\\\"target_id\\\":1337097032,\\\"type\\\":\\\"CurriculumPrerequisite\\\"},{\\\"source_id\\\":4165958389,\\\"target_id\\\":1337097032,\\\"type\\\":\\\"CurriculumPrerequisite\\\"},{\\\"source_id\\\":3224555476,\\\"target_id\\\":1337097032,\\\"type\\\":\\\"CurriculumCorequisite\\\"},{\\\"source_id\\\":2252871414,\\\"target_id\\\":1337097032,\\\"type\\\":\\\"CurriculumPrerequisite\\\"}],\\\"name\\\":\\\"ECE 4335\\\",\\\"metrics\\\":{\\\"complexity\\\":13.0,\\\"centrality\\\":779,\\\"blocking factor\\\":1,\\\"delay factor\\\":12.0},\\\"nameSub\\\":\\\"ECE Design I\\\",\\\"id\\\":1337097032,\\\"credits\\\":3,\\\"nameCanonical\\\":\\\"\\\"},{\\\"curriculum_requisites\\\":[],\\\"name\\\":\\\" \\\",\\\"metrics\\\":{\\\"complexity\\\":1.0,\\\"centrality\\\":0,\\\"blocking factor\\\":0,\\\"delay factor\\\":1.0},\\\"nameSub\\\":\\\"Elective Lab 2\\\",\\\"id\\\":1296179090,\\\"credits\\\":1,\\\"nameCanonical\\\":\\\"\\\"},{\\\"curriculum_requisites\\\":[],\\\"name\\\":\\\" \\\",\\\"metrics\\\":{\\\"complexity\\\":1.0,\\\"centrality\\\":0,\\\"blocking factor\\\":0,\\\"delay factor\\\":1.0},\\\"nameSub\\\":\\\"Concentration Elective 3\\\",\\\"id\\\":1105094343,\\\"credits\\\":3,\\\"nameCanonical\\\":\\\"\\\"},{\\\"curriculum_requisites\\\":[],\\\"name\\\":\\\" \\\",\\\"metrics\\\":{\\\"complexity\\\":1.0,\\\"centrality\\\":0,\\\"blocking factor\\\":0,\\\"delay factor\\\":1.0},\\\"nameSub\\\":\\\"Concentration Elective 4\\\",\\\"id\\\":1819261218,\\\"credits\\\":3,\\\"nameCanonical\\\":\\\"\\\"},{\\\"curriculum_requisites\\\":[],\\\"name\\\":\\\" \\\",\\\"metrics\\\":{\\\"complexity\\\":1.0,\\\"centrality\\\":0,\\\"blocking factor\\\":0,\\\"delay factor\\\":1.0},\\\"nameSub\\\":\\\"Technical Elective\\\",\\\"id\\\":2529896330,\\\"credits\\\":3,\\\"nameCanonical\\\":\\\"\\\"}],\\\"id\\\":7},{\\\"name\\\":\\\"Term 8\\\",\\\"curriculum_items\\\":[{\\\"curriculum_requisites\\\":[],\\\"name\\\":\\\" \\\",\\\"metrics\\\":{\\\"complexity\\\":1.0,\\\"centrality\\\":0,\\\"blocking factor\\\":0,\\\"delay factor\\\":1.0},\\\"nameSub\\\":\\\"Lang., Phil. & Culture Core\\\",\\\"id\\\":1626752824,\\\"credits\\\":3,\\\"nameCanonical\\\":\\\"\\\"},{\\\"curriculum_requisites\\\":[{\\\"source_id\\\":1337097032,\\\"target_id\\\":1158404973,\\\"type\\\":\\\"CurriculumPrerequisite\\\"}],\\\"name\\\":\\\"ECE 4336\\\",\\\"metrics\\\":{\\\"complexity\\\":12.0,\\\"centrality\\\":0,\\\"blocking factor\\\":0,\\\"delay factor\\\":12.0},\\\"nameSub\\\":\\\"ECE Design II\\\",\\\"id\\\":1158404973,\\\"credits\\\":3,\\\"nameCanonical\\\":\\\"\\\"},{\\\"curriculum_requisites\\\":[],\\\"name\\\":\\\" \\\",\\\"metrics\\\":{\\\"complexity\\\":1.0,\\\"centrality\\\":0,\\\"blocking factor\\\":0,\\\"delay factor\\\":1.0},\\\"nameSub\\\":\\\"Elective Lab 3\\\",\\\"id\\\":3091492697,\\\"credits\\\":1,\\\"nameCanonical\\\":\\\"\\\"},{\\\"curriculum_requisites\\\":[],\\\"name\\\":\\\" \\\",\\\"metrics\\\":{\\\"complexity\\\":1.0,\\\"centrality\\\":0,\\\"blocking factor\\\":0,\\\"delay factor\\\":1.0},\\\"nameSub\\\":\\\"Concentration Elective 5\\\",\\\"id\\\":2070124031,\\\"credits\\\":3,\\\"nameCanonical\\\":\\\"\\\"},{\\\"curriculum_requisites\\\":[],\\\"name\\\":\\\" \\\",\\\"metrics\\\":{\\\"complexity\\\":1.0,\\\"centrality\\\":0,\\\"blocking factor\\\":0,\\\"delay factor\\\":1.0},\\\"nameSub\\\":\\\"Concentration Elective 6\\\",\\\"id\\\":1716266479,\\\"credits\\\":3,\\\"nameCanonical\\\":\\\"\\\"},{\\\"curriculum_requisites\\\":[],\\\"name\\\":\\\" \\\",\\\"metrics\\\":{\\\"complexity\\\":1.0,\\\"centrality\\\":0,\\\"blocking factor\\\":0,\\\"delay factor\\\":1.0},\\\"nameSub\\\":\\\"Concentration Elective 7\\\",\\\"id\\\":2584207151,\\\"credits\\\":3,\\\"nameCanonical\\\":\\\"\\\"},{\\\"curriculum_requisites\\\":[],\\\"name\\\":\\\" \\\",\\\"metrics\\\":{\\\"complexity\\\":1.0,\\\"centrality\\\":0,\\\"blocking factor\\\":0,\\\"delay factor\\\":1.0},\\\"nameSub\\\":\\\"Elective Lab 4\\\",\\\"id\\\":2450156574,\\\"credits\\\":1,\\\"nameCanonical\\\":\\\"\\\"}],\\\"id\\\":8}],\\\"institution\\\":\\\"\\\"}},\\\"*\\\"); window.removeEventListener(\\\"message\\\",window.messageReceived); window.messageReceived=(function (event){return (event.data.curriculum!==undefined) ? (WebIO.setval({\\\"name\\\":\\\"curriculum-data\\\",\\\"scope\\\":\\\"9720072848119972937\\\",\\\"id\\\":\\\"3041958610981554902\\\",\\\"type\\\":\\\"observable\\\"},event.data.curriculum)) : undefined}); return window.addEventListener(\\\"message\\\",window.messageReceived)})\"},\"style\":{\"padding\":\"0\",\"height\":\"100vh\",\"margin\":\"0\",\"border\":\"none\",\"width\":\"100%\"}},\"nodeType\":\"DOM\",\"type\":\"node\",\"instanceArgs\":{\"namespace\":\"html\",\"tag\":\"iframe\"},\"children\":[\"\"]}]},\n",
       "            window,\n",
       "        );\n",
       "    } else {\n",
       "        document\n",
       "            .querySelector('[data-webio-mountpoint=\"8732298484489864691\"]')\n",
       "            .innerHTML = (\n",
       "                '<div style=\"padding: 1em; background-color: #f8d6da; border: 1px solid #f5c6cb\">' +\n",
       "                '<p><strong>WebIO not detected.</strong></p>' +\n",
       "                '<p>Please read ' +\n",
       "                '<a href=\"https://juliagizmos.github.io/WebIO.jl/latest/troubleshooting/not-detected/\" target=\"_blank\">the troubleshooting guide</a> ' +\n",
       "                'for more information on how to resolve this issue.</p>' +\n",
       "                '<p><a href=\"https://juliagizmos.github.io/WebIO.jl/latest/troubleshooting/not-detected/\" target=\"_blank\">https://juliagizmos.github.io/WebIO.jl/latest/troubleshooting/not-detected/</a></p>' +\n",
       "                '</div>'\n",
       "            );\n",
       "    }\n",
       "    </script>\n",
       "</div>\n"
      ],
      "text/plain": [
       "WebIO.Scope(WebIO.Node{WebIO.DOM}(WebIO.DOM(:html, :iframe), Any[\"\"], Dict{Symbol, Any}(:src => \"https://curricula-api-embed.damoursystems.com/\", :id => \"curriculum\", :events => Dict{Symbol, WebIO.JSString}(:load => WebIO.JSString(\"(function (){this.contentWindow.postMessage({\\\"options\\\":{\\\"hideTerms\\\":false,\\\"edit\\\":false},\\\"curriculum\\\":{\\\"name\\\":\\\"University of Houston EE Program\\\",\\\"dp_name\\\":\\\"University of Houston EE Program 4-year Plan\\\",\\\"curriculum_terms\\\":[{\\\"name\\\":\\\"Term 1\\\",\\\"curriculum_items\\\":[{\\\"curriculum_requisites\\\":[],\\\"name\\\":\\\"HIST 1377\\\",\\\"metrics\\\":{\\\"complexity\\\":1.0,\\\"centrality\\\":0,\\\"blocking factor\\\":0,\\\"delay factor\\\":1.0},\\\"nameSub\\\":\\\"The US to 1877\\\",\\\"id\\\":3824069494,\\\"credits\\\":3,\\\"nameCanonical\\\":\\\"\\\"},{\\\"curriculum_requisites\\\":[],\\\"name\\\":\\\"ENGL 1303\\\",\\\"metrics\\\":{\\\"complexity\\\":13.0,\\\"centrality\\\":0,\\\"blocking factor\\\":6,\\\"delay factor\\\":7.0},\\\"nameSub\\\":\\\"First Year Writing I\\\",\\\"id\\\":1324171406,\\\"credits\\\":3,\\\"nameCanonical\\\":\\\"\\\"},{\\\"curriculum_requisites\\\":[{\\\"source_id\\\":4175014649,\\\"target_id\\\":1764441140,\\\"type\\\":\\\"CurriculumCorequisite\\\"}],\\\"name\\\":\\\"ENGI 1100\\\",\\\"metrics\\\":{\\\"complexity\\\":25.0,\\\"centrality\\\":85,\\\"blocking factor\\\":15,\\\"delay factor\\\":10.0},\\\"nameSub\\\":\\\"Intro to Engr.\\\",\\\"id\\\":1764441140,\\\"credits\\\":1,\\\"nameCanonical\\\":\\\"\\\"},{\\\"curriculum_requisites\\\":[],\\\"name\\\":\\\"MATH 1431\\\",\\\"metrics\\\":{\\\"complexity\\\":35.0,\\\"centrality\\\":0,\\\"blocking factor\\\":23,\\\"delay factor\\\":12.0},\\\"nameSub\\\":\\\"Calculus I\\\",\\\"id\\\":4175014649,\\\"credits\\\":4,\\\"nameCanonical\\\":\\\"\\\"},{\\\"curriculum_requisites\\\":[],\\\"name\\\":\\\"CHEM 1331\\\",\\\"metrics\\\":{\\\"complexity\\\":3.0,\\\"centrality\\\":0,\\\"blocking factor\\\":1,\\\"delay factor\\\":2.0},\\\"nameSub\\\":\\\"Fund. of Chemistry\\\",\\\"id\\\":1351802580,\\\"credits\\\":3,\\\"nameCanonical\\\":\\\"\\\"},{\\\"curriculum_requisites\\\":[{\\\"source_id\\\":1351802580,\\\"target_id\\\":2195546016,\\\"type\\\":\\\"CurriculumCorequisite\\\"}],\\\"name\\\":\\\"CHEM 1111\\\",\\\"metrics\\\":{\\\"complexity\\\":2.0,\\\"centrality\\\":0,\\\"blocking factor\\\":0,\\\"delay factor\\\":2.0},\\\"nameSub\\\":\\\"Fund. of Chemistry Lab\\\",\\\"id\\\":2195546016,\\\"credits\\\":1,\\\"nameCanonical\\\":\\\"\\\"}],\\\"id\\\":1},{\\\"name\\\":\\\"Term 2\\\",\\\"curriculum_items\\\":[{\\\"curriculum_requisites\\\":[],\\\"name\\\":\\\"HIST 1378\\\",\\\"metrics\\\":{\\\"complexity\\\":1.0,\\\"centrality\\\":0,\\\"blocking factor\\\":0,\\\"delay factor\\\":1.0},\\\"nameSub\\\":\\\"US Since 1877\\\",\\\"id\\\":2731496025,\\\"credits\\\":3,\\\"nameCanonical\\\":\\\"\\\"},{\\\"curriculum_requisites\\\":[{\\\"source_id\\\":1324171406,\\\"target_id\\\":3195103903,\\\"type\\\":\\\"CurriculumPrerequisite\\\"}],\\\"name\\\":\\\"ENGL 1304\\\",\\\"metrics\\\":{\\\"complexity\\\":12.0,\\\"centrality\\\":13,\\\"blocking factor\\\":5,\\\"delay factor\\\":7.0},\\\"nameSub\\\":\\\"First Year Writing II\\\",\\\"id\\\":3195103903,\\\"credits\\\":3,\\\"nameCanonical\\\":\\\"\\\"},{\\\"curriculum_requisites\\\":[{\\\"source_id\\\":4175014649,\\\"target_id\\\":1051497550,\\\"type\\\":\\\"CurriculumPrerequisite\\\"},{\\\"source_id\\\":1764441140,\\\"target_id\\\":1051497550,\\\"type\\\":\\\"CurriculumPrerequisite\\\"}],\\\"name\\\":\\\"ENGI 1331\\\",\\\"metrics\\\":{\\\"complexity\\\":24.0,\\\"centrality\\\":160,\\\"blocking factor\\\":14,\\\"delay factor\\\":10.0},\\\"nameSub\\\":\\\"Computing & Prob. Solving\\\",\\\"id\\\":1051497550,\\\"credits\\\":3,\\\"nameCanonical\\\":\\\"\\\"},{\\\"curriculum_requisites\\\":[{\\\"source_id\\\":4175014649,\\\"target_id\\\":1177372781,\\\"type\\\":\\\"CurriculumPrerequisite\\\"}],\\\"name\\\":\\\"MATH 1432\\\",\\\"metrics\\\":{\\\"complexity\\\":32.0,\\\"centrality\\\":607,\\\"blocking factor\\\":20,\\\"delay factor\\\":12.0},\\\"nameSub\\\":\\\"Calculus II\\\",\\\"id\\\":1177372781,\\\"credits\\\":4,\\\"nameCanonical\\\":\\\"\\\"},{\\\"curriculum_requisites\\\":[{\\\"source_id\\\":1177372781,\\\"target_id\\\":2834873484,\\\"type\\\":\\\"CurriculumCorequisite\\\"}],\\\"name\\\":\\\"PHYS 1321\\\",\\\"metrics\\\":{\\\"complexity\\\":28.0,\\\"centrality\\\":217,\\\"blocking factor\\\":16,\\\"delay factor\\\":12.0},\\\"nameSub\\\":\\\"University Physics I\\\",\\\"id\\\":2834873484,\\\"credits\\\":3,\\\"nameCanonical\\\":\\\"\\\"},{\\\"curriculum_requisites\\\":[{\\\"source_id\\\":2834873484,\\\"target_id\\\":3178954113,\\\"type\\\":\\\"CurriculumCorequisite\\\"}],\\\"name\\\":\\\"PHYS 1121\\\",\\\"metrics\\\":{\\\"complexity\\\":4.0,\\\"centrality\\\":0,\\\"blocking factor\\\":0,\\\"delay factor\\\":4.0},\\\"nameSub\\\":\\\"Physics Lab I\\\",\\\"id\\\":3178954113,\\\"credits\\\":1,\\\"nameCanonical\\\":\\\"\\\"}],\\\"id\\\":2},{\\\"name\\\":\\\"Term 3\\\",\\\"curriculum_items\\\":[{\\\"curriculum_requisites\\\":[],\\\"name\\\":\\\"POLS 1336\\\",\\\"metrics\\\":{\\\"complexity\\\":1.0,\\\"centrality\\\":0,\\\"blocking factor\\\":0,\\\"delay factor\\\":1.0},\\\"nameSub\\\":\\\"US and TX Constitutions & Politics\\\",\\\"id\\\":1541543378,\\\"credits\\\":3,\\\"nameCanonical\\\":\\\"\\\"},{\\\"curriculum_requisites\\\":[{\\\"source_id\\\":1177372781,\\\"target_id\\\":947037850,\\\"type\\\":\\\"CurriculumPrerequisite\\\"}],\\\"name\\\":\\\"MATH 3321\\\",\\\"metrics\\\":{\\\"complexity\\\":23.0,\\\"centrality\\\":93,\\\"blocking factor\\\":13,\\\"delay factor\\\":10.0},\\\"nameSub\\\":\\\"Engineering Math\\\",\\\"id\\\":947037850,\\\"credits\\\":3,\\\"nameCanonical\\\":\\\"\\\"},{\\\"curriculum_requisites\\\":[{\\\"source_id\\\":3718777895,\\\"target_id\\\":2138760932,\\\"type\\\":\\\"CurriculumCorequisite\\\"},{\\\"source_id\\\":3059602497,\\\"target_id\\\":2138760932,\\\"type\\\":\\\"CurriculumCorequisite\\\"},{\\\"source_id\\\":2258215799,\\\"target_id\\\":2138760932,\\\"type\\\":\\\"CurriculumCorequisite\\\"},{\\\"source_id\\\":1051497550,\\\"target_id\\\":2138760932,\\\"type\\\":\\\"CurriculumPrerequisite\\\"},{\\\"source_id\\\":947037850,\\\"target_id\\\":2138760932,\\\"type\\\":\\\"CurriculumCorequisite\\\"}],\\\"name\\\":\\\"ECE 2201\\\",\\\"metrics\\\":{\\\"complexity\\\":24.0,\\\"centrality\\\":677,\\\"blocking factor\\\":12,\\\"delay factor\\\":12.0},\\\"nameSub\\\":\\\"Circuit Analysis I\\\",\\\"id\\\":2138760932,\\\"credits\\\":3,\\\"nameCanonical\\\":\\\"\\\"},{\\\"curriculum_requisites\\\":[{\\\"source_id\\\":1177372781,\\\"target_id\\\":2258215799,\\\"type\\\":\\\"CurriculumPrerequisite\\\"}],\\\"name\\\":\\\"MATH 2433\\\",\\\"metrics\\\":{\\\"complexity\\\":27.0,\\\"centrality\\\":292,\\\"blocking factor\\\":15,\\\"delay factor\\\":12.0},\\\"nameSub\\\":\\\"Calculus III\\\",\\\"id\\\":2258215799,\\\"credits\\\":3,\\\"nameCanonical\\\":\\\"\\\"},{\\\"curriculum_requisites\\\":[{\\\"source_id\\\":2258215799,\\\"target_id\\\":3718777895,\\\"type\\\":\\\"CurriculumCorequisite\\\"},{\\\"source_id\\\":2834873484,\\\"target_id\\\":3718777895,\\\"type\\\":\\\"CurriculumPrerequisite\\\"}],\\\"name\\\":\\\"PHYS 1322\\\",\\\"metrics\\\":{\\\"complexity\\\":26.0,\\\"centrality\\\":426,\\\"blocking factor\\\":14,\\\"delay factor\\\":12.0},\\\"nameSub\\\":\\\"University Physics II\\\",\\\"id\\\":3718777895,\\\"credits\\\":3,\\\"nameCanonical\\\":\\\"\\\"},{\\\"curriculum_requisites\\\":[{\\\"source_id\\\":3718777895,\\\"target_id\\\":3059602497,\\\"type\\\":\\\"CurriculumCorequisite\\\"}],\\\"name\\\":\\\"PHYS 1122\\\",\\\"metrics\\\":{\\\"complexity\\\":25.0,\\\"centrality\\\":250,\\\"blocking factor\\\":13,\\\"delay factor\\\":12.0},\\\"nameSub\\\":\\\"Physics Lab II\\\",\\\"id\\\":3059602497,\\\"credits\\\":1,\\\"nameCanonical\\\":\\\"\\\"}],\\\"id\\\":3},{\\\"name\\\":\\\"Term 4\\\",\\\"curriculum_items\\\":[{\\\"curriculum_requisites\\\":[{\\\"source_id\\\":3195103903,\\\"target_id\\\":1770099342,\\\"type\\\":\\\"CurriculumPrerequisite\\\"},{\\\"source_id\\\":2138760932,\\\"target_id\\\":1770099342,\\\"type\\\":\\\"CurriculumPrerequisite\\\"}],\\\"name\\\":\\\"ENGI 2304\\\",\\\"metrics\\\":{\\\"complexity\\\":15.0,\\\"centrality\\\":159,\\\"blocking factor\\\":4,\\\"delay factor\\\":11.0},\\\"nameSub\\\":\\\"Technical Communication\\\",\\\"id\\\":1770099342,\\\"credits\\\":3,\\\"nameCanonical\\\":\\\"\\\"},{\\\"curriculum_requisites\\\":[{\\\"source_id\\\":947037850,\\\"target_id\\\":649106202,\\\"type\\\":\\\"CurriculumPrerequisite\\\"},{\\\"source_id\\\":2138760932,\\\"target_id\\\":649106202,\\\"type\\\":\\\"CurriculumPrerequisite\\\"}],\\\"name\\\":\\\"ECE 3331\\\",\\\"metrics\\\":{\\\"complexity\\\":14.0,\\\"centrality\\\":152,\\\"blocking factor\\\":4,\\\"delay factor\\\":10.0},\\\"nameSub\\\":\\\"Programming Apps in ECE\\\",\\\"id\\\":649106202,\\\"credits\\\":3,\\\"nameCanonical\\\":\\\"\\\"},{\\\"curriculum_requisites\\\":[{\\\"source_id\\\":3059602497,\\\"target_id\\\":1083857781,\\\"type\\\":\\\"CurriculumPrerequisite\\\"},{\\\"source_id\\\":3887805990,\\\"target_id\\\":1083857781,\\\"type\\\":\\\"CurriculumCorequisite\\\"}],\\\"name\\\":\\\"ECE 2100\\\",\\\"metrics\\\":{\\\"complexity\\\":17.0,\\\"centrality\\\":295,\\\"blocking factor\\\":5,\\\"delay factor\\\":12.0},\\\"nameSub\\\":\\\"Circuits Lab\\\",\\\"id\\\":1083857781,\\\"credits\\\":1,\\\"nameCanonical\\\":\\\"\\\"},{\\\"curriculum_requisites\\\":[{\\\"source_id\\\":2138760932,\\\"target_id\\\":3887805990,\\\"type\\\":\\\"CurriculumPrerequisite\\\"}],\\\"name\\\":\\\"ECE 2202\\\",\\\"metrics\\\":{\\\"complexity\\\":20.0,\\\"centrality\\\":393,\\\"blocking factor\\\":8,\\\"delay factor\\\":12.0},\\\"nameSub\\\":\\\"Circuit Analysis II\\\",\\\"id\\\":3887805990,\\\"credits\\\":3,\\\"nameCanonical\\\":\\\"\\\"},{\\\"curriculum_requisites\\\":[{\\\"source_id\\\":3887805990,\\\"target_id\\\":2791403937,\\\"type\\\":\\\"CurriculumCorequisite\\\"}],\\\"name\\\":\\\"ECE 3337\\\",\\\"metrics\\\":{\\\"complexity\\\":15.0,\\\"centrality\\\":154,\\\"blocking factor\\\":4,\\\"delay factor\\\":11.0},\\\"nameSub\\\":\\\"Signals & Systems Analysis\\\",\\\"id\\\":2791403937,\\\"credits\\\":3,\\\"nameCanonical\\\":\\\"\\\"},{\\\"curriculum_requisites\\\":[{\\\"source_id\\\":1083857781,\\\"target_id\\\":4184346648,\\\"type\\\":\\\"CurriculumCorequisite\\\"},{\\\"source_id\\\":649106202,\\\"target_id\\\":4184346648,\\\"type\\\":\\\"CurriculumCorequisite\\\"}],\\\"name\\\":\\\"ECE 3436\\\",\\\"metrics\\\":{\\\"complexity\\\":13.0,\\\"centrality\\\":171,\\\"blocking factor\\\":2,\\\"delay factor\\\":11.0},\\\"nameSub\\\":\\\"Microprocessors\\\",\\\"id\\\":4184346648,\\\"credits\\\":3,\\\"nameCanonical\\\":\\\"\\\"}],\\\"id\\\":4},{\\\"name\\\":\\\"Term 5\\\",\\\"curriculum_items\\\":[{\\\"curriculum_requisites\\\":[],\\\"name\\\":\\\" \\\",\\\"metrics\\\":{\\\"complexity\\\":1.0,\\\"centrality\\\":0,\\\"blocking factor\\\":0,\\\"delay factor\\\":1.0},\\\"nameSub\\\":\\\"Creative Arts Core\\\",\\\"id\\\":848294223,\\\"credits\\\":3,\\\"nameCanonical\\\":\\\"\\\"},{\\\"curriculum_requisites\\\":[{\\\"source_id\\\":1083857781,\\\"target_id\\\":1966522372,\\\"type\\\":\\\"CurriculumPrerequisite\\\"},{\\\"source_id\\\":1770099342,\\\"target_id\\\":1966522372,\\\"type\\\":\\\"CurriculumPrerequisite\\\"}],\\\"name\\\":\\\"ECE 3155\\\",\\\"metrics\\\":{\\\"complexity\\\":15.0,\\\"centrality\\\":359,\\\"blocking factor\\\":3,\\\"delay factor\\\":12.0},\\\"nameSub\\\":\\\"Electronics Lab\\\",\\\"id\\\":1966522372,\\\"credits\\\":1,\\\"nameCanonical\\\":\\\"\\\"},{\\\"curriculum_requisites\\\":[{\\\"source_id\\\":1966522372,\\\"target_id\\\":4165958389,\\\"type\\\":\\\"CurriculumStrictCorequisite\\\"},{\\\"source_id\\\":2791403937,\\\"target_id\\\":4165958389,\\\"type\\\":\\\"CurriculumPrerequisite\\\"}],\\\"name\\\":\\\"ECE 3355\\\",\\\"metrics\\\":{\\\"complexity\\\":14.0,\\\"centrality\\\":266,\\\"blocking factor\\\":2,\\\"delay factor\\\":12.0},\\\"nameSub\\\":\\\"Electronics\\\",\\\"id\\\":4165958389,\\\"credits\\\":3,\\\"nameCanonical\\\":\\\"\\\"},{\\\"curriculum_requisites\\\":[],\\\"name\\\":\\\" \\\",\\\"metrics\\\":{\\\"complexity\\\":1.0,\\\"centrality\\\":0,\\\"blocking factor\\\":0,\\\"delay factor\\\":1.0},\\\"nameSub\\\":\\\"Concentration Elective 1\\\",\\\"id\\\":1056053313,\\\"credits\\\":3,\\\"nameCanonical\\\":\\\"\\\"},{\\\"curriculum_requisites\\\":[{\\\"source_id\\\":2791403937,\\\"target_id\\\":2252871414,\\\"type\\\":\\\"CurriculumPrerequisite\\\"}],\\\"name\\\":\\\"ECE 3317\\\",\\\"metrics\\\":{\\\"complexity\\\":13.0,\\\"centrality\\\":77,\\\"blocking factor\\\":2,\\\"delay factor\\\":11.0},\\\"nameSub\\\":\\\"Applied EM Waves\\\",\\\"id\\\":2252871414,\\\"credits\\\":3,\\\"nameCanonical\\\":\\\"\\\"},{\\\"curriculum_requisites\\\":[],\\\"name\\\":\\\" \\\",\\\"metrics\\\":{\\\"complexity\\\":1.0,\\\"centrality\\\":0,\\\"blocking factor\\\":0,\\\"delay factor\\\":1.0},\\\"nameSub\\\":\\\"ECE Elective 1\\\",\\\"id\\\":2051928090,\\\"credits\\\":3,\\\"nameCanonical\\\":\\\"\\\"}],\\\"id\\\":5},{\\\"name\\\":\\\"Term 6\\\",\\\"curriculum_items\\\":[{\\\"curriculum_requisites\\\":[],\\\"name\\\":\\\"POLS 1337\\\",\\\"metrics\\\":{\\\"complexity\\\":1.0,\\\"centrality\\\":0,\\\"blocking factor\\\":0,\\\"delay factor\\\":1.0},\\\"nameSub\\\":\\\"US Gov: Congress, President and Courts\\\",\\\"id\\\":951874139,\\\"credits\\\":3,\\\"nameCanonical\\\":\\\"\\\"},{\\\"curriculum_requisites\\\":[{\\\"source_id\\\":1051497550,\\\"target_id\\\":2888554139,\\\"type\\\":\\\"CurriculumPrerequisite\\\"},{\\\"source_id\\\":1177372781,\\\"target_id\\\":2888554139,\\\"type\\\":\\\"CurriculumPrerequisite\\\"}],\\\"name\\\":\\\"INDE 2333\\\",\\\"metrics\\\":{\\\"complexity\\\":8.0,\\\"centrality\\\":16,\\\"blocking factor\\\":2,\\\"delay factor\\\":6.0},\\\"nameSub\\\":\\\"Engineering Statistics\\\",\\\"id\\\":2888554139,\\\"credits\\\":3,\\\"nameCanonical\\\":\\\"\\\"},{\\\"curriculum_requisites\\\":[],\\\"name\\\":\\\" \\\",\\\"metrics\\\":{\\\"complexity\\\":1.0,\\\"centrality\\\":0,\\\"blocking factor\\\":0,\\\"delay factor\\\":1.0},\\\"nameSub\\\":\\\"Elective Lab 1\\\",\\\"id\\\":26700799,\\\"credits\\\":1,\\\"nameCanonical\\\":\\\"\\\"},{\\\"curriculum_requisites\\\":[],\\\"name\\\":\\\" \\\",\\\"metrics\\\":{\\\"complexity\\\":1.0,\\\"centrality\\\":0,\\\"blocking factor\\\":0,\\\"delay factor\\\":1.0},\\\"nameSub\\\":\\\"Concentration Elective 2\\\",\\\"id\\\":1745860227,\\\"credits\\\":3,\\\"nameCanonical\\\":\\\"\\\"},{\\\"curriculum_requisites\\\":[{\\\"source_id\\\":649106202,\\\"target_id\\\":3368026167,\\\"type\\\":\\\"CurriculumPrerequisite\\\"}],\\\"name\\\":\\\"ECE 3340\\\",\\\"metrics\\\":{\\\"complexity\\\":12.0,\\\"centrality\\\":76,\\\"blocking factor\\\":2,\\\"delay factor\\\":10.0},\\\"nameSub\\\":\\\"Numerical Methods\\\",\\\"id\\\":3368026167,\\\"credits\\\":3,\\\"nameCanonical\\\":\\\"\\\"},{\\\"curriculum_requisites\\\":[],\\\"name\\\":\\\" \\\",\\\"metrics\\\":{\\\"complexity\\\":1.0,\\\"centrality\\\":0,\\\"blocking factor\\\":0,\\\"delay factor\\\":1.0},\\\"nameSub\\\":\\\"ECE Elective 2\\\",\\\"id\\\":672829327,\\\"credits\\\":3,\\\"nameCanonical\\\":\\\"\\\"}],\\\"id\\\":6},{\\\"name\\\":\\\"Term 7\\\",\\\"curriculum_items\\\":[{\\\"curriculum_requisites\\\":[],\\\"name\\\":\\\"ECON 2304\\\",\\\"metrics\\\":{\\\"complexity\\\":5.0,\\\"centrality\\\":0,\\\"blocking factor\\\":2,\\\"delay factor\\\":3.0},\\\"nameSub\\\":\\\"Microeconomic Principles\\\",\\\"id\\\":3224555476,\\\"credits\\\":3,\\\"nameCanonical\\\":\\\"\\\"},{\\\"curriculum_requisites\\\":[{\\\"source_id\\\":1966522372,\\\"target_id\\\":1337097032,\\\"type\\\":\\\"CurriculumPrerequisite\\\"},{\\\"source_id\\\":4184346648,\\\"target_id\\\":1337097032,\\\"type\\\":\\\"CurriculumPrerequisite\\\"},{\\\"source_id\\\":3368026167,\\\"target_id\\\":1337097032,\\\"type\\\":\\\"CurriculumPrerequisite\\\"},{\\\"source_id\\\":2888554139,\\\"target_id\\\":1337097032,\\\"type\\\":\\\"CurriculumPrerequisite\\\"},{\\\"source_id\\\":4165958389,\\\"target_id\\\":1337097032,\\\"type\\\":\\\"CurriculumPrerequisite\\\"},{\\\"source_id\\\":3224555476,\\\"target_id\\\":1337097032,\\\"type\\\":\\\"CurriculumCorequisite\\\"},{\\\"source_id\\\":2252871414,\\\"target_id\\\":1337097032,\\\"type\\\":\\\"CurriculumPrerequisite\\\"}],\\\"name\\\":\\\"ECE 4335\\\",\\\"metrics\\\":{\\\"complexity\\\":13.0,\\\"centrality\\\":779,\\\"blocking factor\\\":1,\\\"delay factor\\\":12.0},\\\"nameSub\\\":\\\"ECE Design I\\\",\\\"id\\\":1337097032,\\\"credits\\\":3,\\\"nameCanonical\\\":\\\"\\\"},{\\\"curriculum_requisites\\\":[],\\\"name\\\":\\\" \\\",\\\"metrics\\\":{\\\"complexity\\\":1.0,\\\"centrality\\\":0,\\\"blocking factor\\\":0,\\\"delay factor\\\":1.0},\\\"nameSub\\\":\\\"Elective Lab 2\\\",\\\"id\\\":1296179090,\\\"credits\\\":1,\\\"nameCanonical\\\":\\\"\\\"},{\\\"curriculum_requisites\\\":[],\\\"name\\\":\\\" \\\",\\\"metrics\\\":{\\\"complexity\\\":1.0,\\\"centrality\\\":0,\\\"blocking factor\\\":0,\\\"delay factor\\\":1.0},\\\"nameSub\\\":\\\"Concentration Elective 3\\\",\\\"id\\\":1105094343,\\\"credits\\\":3,\\\"nameCanonical\\\":\\\"\\\"},{\\\"curriculum_requisites\\\":[],\\\"name\\\":\\\" \\\",\\\"metrics\\\":{\\\"complexity\\\":1.0,\\\"centrality\\\":0,\\\"blocking factor\\\":0,\\\"delay factor\\\":1.0},\\\"nameSub\\\":\\\"Concentration Elective 4\\\",\\\"id\\\":1819261218,\\\"credits\\\":3,\\\"nameCanonical\\\":\\\"\\\"},{\\\"curriculum_requisites\\\":[],\\\"name\\\":\\\" \\\",\\\"metrics\\\":{\\\"complexity\\\":1.0,\\\"centrality\\\":0,\\\"blocking factor\\\":0,\\\"delay factor\\\":1.0},\\\"nameSub\\\":\\\"Technical Elective\\\",\\\"id\\\":2529896330,\\\"credits\\\":3,\\\"nameCanonical\\\":\\\"\\\"}],\\\"id\\\":7},{\\\"name\\\":\\\"Term 8\\\",\\\"curriculum_items\\\":[{\\\"curriculum_requisites\\\":[],\\\"name\\\":\\\" \\\",\\\"metrics\\\":{\\\"complexity\\\":1.0,\\\"centrality\\\":0,\\\"blocking factor\\\":0,\\\"delay factor\\\":1.0},\\\"nameSub\\\":\\\"Lang., Phil. & Culture Core\\\",\\\"id\\\":1626752824,\\\"credits\\\":3,\\\"nameCanonical\\\":\\\"\\\"},{\\\"curriculum_requisites\\\":[{\\\"source_id\\\":1337097032,\\\"target_id\\\":1158404973,\\\"type\\\":\\\"CurriculumPrerequisite\\\"}],\\\"name\\\":\\\"ECE 4336\\\",\\\"metrics\\\":{\\\"complexity\\\":12.0,\\\"centrality\\\":0,\\\"blocking factor\\\":0,\\\"delay factor\\\":12.0},\\\"nameSub\\\":\\\"ECE Design II\\\",\\\"id\\\":1158404973,\\\"credits\\\":3,\\\"nameCanonical\\\":\\\"\\\"},{\\\"curriculum_requisites\\\":[],\\\"name\\\":\\\" \\\",\\\"metrics\\\":{\\\"complexity\\\":1.0,\\\"centrality\\\":0,\\\"blocking factor\\\":0,\\\"delay factor\\\":1.0},\\\"nameSub\\\":\\\"Elective Lab 3\\\",\\\"id\\\":3091492697,\\\"credits\\\":1,\\\"nameCanonical\\\":\\\"\\\"},{\\\"curriculum_requisites\\\":[],\\\"name\\\":\\\" \\\",\\\"metrics\\\":{\\\"complexity\\\":1.0,\\\"centrality\\\":0,\\\"blocking factor\\\":0,\\\"delay factor\\\":1.0},\\\"nameSub\\\":\\\"Concentration Elective 5\\\",\\\"id\\\":2070124031,\\\"credits\\\":3,\\\"nameCanonical\\\":\\\"\\\"},{\\\"curriculum_requisites\\\":[],\\\"name\\\":\\\" \\\",\\\"metrics\\\":{\\\"complexity\\\":1.0,\\\"centrality\\\":0,\\\"blocking factor\\\":0,\\\"delay factor\\\":1.0},\\\"nameSub\\\":\\\"Concentration Elective 6\\\",\\\"id\\\":1716266479,\\\"credits\\\":3,\\\"nameCanonical\\\":\\\"\\\"},{\\\"curriculum_requisites\\\":[],\\\"name\\\":\\\" \\\",\\\"metrics\\\":{\\\"complexity\\\":1.0,\\\"centrality\\\":0,\\\"blocking factor\\\":0,\\\"delay factor\\\":1.0},\\\"nameSub\\\":\\\"Concentration Elective 7\\\",\\\"id\\\":2584207151,\\\"credits\\\":3,\\\"nameCanonical\\\":\\\"\\\"},{\\\"curriculum_requisites\\\":[],\\\"name\\\":\\\" \\\",\\\"metrics\\\":{\\\"complexity\\\":1.0,\\\"centrality\\\":0,\\\"blocking factor\\\":0,\\\"delay factor\\\":1.0},\\\"nameSub\\\":\\\"Elective Lab 4\\\",\\\"id\\\":2450156574,\\\"credits\\\":1,\\\"nameCanonical\\\":\\\"\\\"}],\\\"id\\\":8}],\\\"institution\\\":\\\"\\\"}},\\\"*\\\"); window.removeEventListener(\\\"message\\\",window.messageReceived); window.messageReceived=(function (event){return (event.data.curriculum!==undefined) ? (WebIO.setval({\\\"name\\\":\\\"curriculum-data\\\",\\\"scope\\\":\\\"9720072848119972937\\\",\\\"id\\\":\\\"3041958610981554902\\\",\\\"type\\\":\\\"observable\\\"},event.data.curriculum)) : undefined}); return window.addEventListener(\\\"message\\\",window.messageReceived)})\")), :style => Dict(:padding => \"0\", :height => \"100vh\", :margin => \"0\", :border => \"none\", :width => \"100%\"))), Dict{String, Tuple{Observables.AbstractObservable, Union{Nothing, Bool}}}(\"curriculum-data\" => (Observable{Dict{String, Any}} with 1 listeners. Value:\n",
       "Dict{String, Any}(\"options\" => Dict{String, Any}(\"hideTerms\" => false, \"edit\" => false), \"curriculum\" => Dict{String, Any}(\"name\" => \"University of Houston EE Program\", \"dp_name\" => \"University of Houston EE Program 4-year Plan\", \"curriculum_terms\" => Dict{String, Any}[Dict(\"name\" => \"Term 1\", \"curriculum_items\" => Dict{String, Any}[Dict(\"curriculum_requisites\" => Dict{String, Any}[], \"name\" => \"HIST 1377\", \"metrics\" => Dict{String, Any}(\"complexity\" => 1.0, \"centrality\" => 0, \"blocking factor\" => 0, \"delay factor\" => 1.0), \"nameSub\" => \"The US to 1877\", \"id\" => 3824069494, \"credits\" => 3, \"nameCanonical\" => \"\"), Dict(\"curriculum_requisites\" => Dict{String, Any}[], \"name\" => \"ENGL 1303\", \"metrics\" => Dict{String, Any}(\"complexity\" => 13.0, \"centrality\" => 0, \"blocking factor\" => 6, \"delay factor\" => 7.0), \"nameSub\" => \"First Year Writing I\", \"id\" => 1324171406, \"credits\" => 3, \"nameCanonical\" => \"\"), Dict(\"curriculum_requisites\" => Dict{String, Any}[Dict(\"source_id\" => 4175014649, \"target_id\" => 1764441140, \"type\" => \"CurriculumCorequisite\")], \"name\" => \"ENGI 1100\", \"metrics\" => Dict{String, Any}(\"complexity\" => 25.0, \"centrality\" => 85, \"blocking factor\" => 15, \"delay factor\" => 10.0), \"nameSub\" => \"Intro to Engr.\", \"id\" => 1764441140, \"credits\" => 1, \"nameCanonical\" => \"\"), Dict(\"curriculum_requisites\" => Dict{String, Any}[], \"name\" => \"MATH 1431\", \"metrics\" => Dict{String, Any}(\"complexity\" => 35.0, \"centrality\" => 0, \"blocking factor\" => 23, \"delay factor\" => 12.0), \"nameSub\" => \"Calculus I\", \"id\" => 4175014649, \"credits\" => 4, \"nameCanonical\" => \"\"), Dict(\"curriculum_requisites\" => Dict{String, Any}[], \"name\" => \"CHEM 1331\", \"metrics\" => Dict{String, Any}(\"complexity\" => 3.0, \"centrality\" => 0, \"blocking factor\" => 1, \"delay factor\" => 2.0), \"nameSub\" => \"Fund. of Chemistry\", \"id\" => 1351802580, \"credits\" => 3, \"nameCanonical\" => \"\"), Dict(\"curriculum_requisites\" => Dict{String, Any}[Dict(\"source_id\" => 1351802580, \"target_id\" => 2195546016, \"type\" => \"CurriculumCorequisite\")], \"name\" => \"CHEM 1111\", \"metrics\" => Dict{String, Any}(\"complexity\" => 2.0, \"centrality\" => 0, \"blocking factor\" => 0, \"delay factor\" => 2.0), \"nameSub\" => \"Fund. of Chemistry Lab\", \"id\" => 2195546016, \"credits\" => 1, \"nameCanonical\" => \"\")], \"id\" => 1), Dict(\"name\" => \"Term 2\", \"curriculum_items\" => Dict{String, Any}[Dict(\"curriculum_requisites\" => Dict{String, Any}[], \"name\" => \"HIST 1378\", \"metrics\" => Dict{String, Any}(\"complexity\" => 1.0, \"centrality\" => 0, \"blocking factor\" => 0, \"delay factor\" => 1.0), \"nameSub\" => \"US Since 1877\", \"id\" => 2731496025, \"credits\" => 3, \"nameCanonical\" => \"\"), Dict(\"curriculum_requisites\" => Dict{String, Any}[Dict(\"source_id\" => 1324171406, \"target_id\" => 3195103903, \"type\" => \"CurriculumPrerequisite\")], \"name\" => \"ENGL 1304\", \"metrics\" => Dict{String, Any}(\"complexity\" => 12.0, \"centrality\" => 13, \"blocking factor\" => 5, \"delay factor\" => 7.0), \"nameSub\" => \"First Year Writing II\", \"id\" => 3195103903, \"credits\" => 3, \"nameCanonical\" => \"\"), Dict(\"curriculum_requisites\" => Dict{String, Any}[Dict(\"source_id\" => 4175014649, \"target_id\" => 1051497550, \"type\" => \"CurriculumPrerequisite\"), Dict(\"source_id\" => 1764441140, \"target_id\" => 1051497550, \"type\" => \"CurriculumPrerequisite\")], \"name\" => \"ENGI 1331\", \"metrics\" => Dict{String, Any}(\"complexity\" => 24.0, \"centrality\" => 160, \"blocking factor\" => 14, \"delay factor\" => 10.0), \"nameSub\" => \"Computing & Prob. Solving\", \"id\" => 1051497550, \"credits\" => 3, \"nameCanonical\" => \"\"), Dict(\"curriculum_requisites\" => Dict{String, Any}[Dict(\"source_id\" => 4175014649, \"target_id\" => 1177372781, \"type\" => \"CurriculumPrerequisite\")], \"name\" => \"MATH 1432\", \"metrics\" => Dict{String, Any}(\"complexity\" => 32.0, \"centrality\" => 607, \"blocking factor\" => 20, \"delay factor\" => 12.0), \"nameSub\" => \"Calculus II\", \"id\" => 1177372781, \"credits\" => 4, \"nameCanonical\" => \"\"), Dict(\"curriculum_requisites\" => Dict{String, Any}[Dict(\"source_id\" => 1177372781, \"target_id\" => 2834873484, \"type\" => \"CurriculumCorequisite\")], \"name\" => \"PHYS 1321\", \"metrics\" => Dict{String, Any}(\"complexity\" => 28.0, \"centrality\" => 217, \"blocking factor\" => 16, \"delay factor\" => 12.0), \"nameSub\" => \"University Physics I\", \"id\" => 2834873484, \"credits\" => 3, \"nameCanonical\" => \"\"), Dict(\"curriculum_requisites\" => Dict{String, Any}[Dict(\"source_id\" => 2834873484, \"target_id\" => 3178954113, \"type\" => \"CurriculumCorequisite\")], \"name\" => \"PHYS 1121\", \"metrics\" => Dict{String, Any}(\"complexity\" => 4.0, \"centrality\" => 0, \"blocking factor\" => 0, \"delay factor\" => 4.0), \"nameSub\" => \"Physics Lab I\", \"id\" => 3178954113, \"credits\" => 1, \"nameCanonical\" => \"\")], \"id\" => 2), Dict(\"name\" => \"Term 3\", \"curriculum_items\" => Dict{String, Any}[Dict(\"curriculum_requisites\" => Dict{String, Any}[], \"name\" => \"POLS 1336\", \"metrics\" => Dict{String, Any}(\"complexity\" => 1.0, \"centrality\" => 0, \"blocking factor\" => 0, \"delay factor\" => 1.0), \"nameSub\" => \"US and TX Constitutions & Politics\", \"id\" => 1541543378, \"credits\" => 3, \"nameCanonical\" => \"\"), Dict(\"curriculum_requisites\" => Dict{String, Any}[Dict(\"source_id\" => 1177372781, \"target_id\" => 947037850, \"type\" => \"CurriculumPrerequisite\")], \"name\" => \"MATH 3321\", \"metrics\" => Dict{String, Any}(\"complexity\" => 23.0, \"centrality\" => 93, \"blocking factor\" => 13, \"delay factor\" => 10.0), \"nameSub\" => \"Engineering Math\", \"id\" => 947037850, \"credits\" => 3, \"nameCanonical\" => \"\"), Dict(\"curriculum_requisites\" => Dict{String, Any}[Dict(\"source_id\" => 3718777895, \"target_id\" => 2138760932, \"type\" => \"CurriculumCorequisite\"), Dict(\"source_id\" => 3059602497, \"target_id\" => 2138760932, \"type\" => \"CurriculumCorequisite\"), Dict(\"source_id\" => 2258215799, \"target_id\" => 2138760932, \"type\" => \"CurriculumCorequisite\"), Dict(\"source_id\" => 1051497550, \"target_id\" => 2138760932, \"type\" => \"CurriculumPrerequisite\"), Dict(\"source_id\" => 947037850, \"target_id\" => 2138760932, \"type\" => \"CurriculumCorequisite\")], \"name\" => \"ECE 2201\", \"metrics\" => Dict{String, Any}(\"complexity\" => 24.0, \"centrality\" => 677, \"blocking factor\" => 12, \"delay factor\" => 12.0), \"nameSub\" => \"Circuit Analysis I\", \"id\" => 2138760932, \"credits\" => 3, \"nameCanonical\" => \"\"), Dict(\"curriculum_requisites\" => Dict{String, Any}[Dict(\"source_id\" => 1177372781, \"target_id\" => 2258215799, \"type\" => \"CurriculumPrerequisite\")], \"name\" => \"MATH 2433\", \"metrics\" => Dict{String, Any}(\"complexity\" => 27.0, \"centrality\" => 292, \"blocking factor\" => 15, \"delay factor\" => 12.0), \"nameSub\" => \"Calculus III\", \"id\" => 2258215799, \"credits\" => 3, \"nameCanonical\" => \"\"), Dict(\"curriculum_requisites\" => Dict{String, Any}[Dict(\"source_id\" => 2258215799, \"target_id\" => 3718777895, \"type\" => \"CurriculumCorequisite\"), Dict(\"source_id\" => 2834873484, \"target_id\" => 3718777895, \"type\" => \"CurriculumPrerequisite\")], \"name\" => \"PHYS 1322\", \"metrics\" => Dict{String, Any}(\"complexity\" => 26.0, \"centrality\" => 426, \"blocking factor\" => 14, \"delay factor\" => 12.0), \"nameSub\" => \"University Physics II\", \"id\" => 3718777895, \"credits\" => 3, \"nameCanonical\" => \"\"), Dict(\"curriculum_requisites\" => Dict{String, Any}[Dict(\"source_id\" => 3718777895, \"target_id\" => 3059602497, \"type\" => \"CurriculumCorequisite\")], \"name\" => \"PHYS 1122\", \"metrics\" => Dict{String, Any}(\"complexity\" => 25.0, \"centrality\" => 250, \"blocking factor\" => 13, \"delay factor\" => 12.0), \"nameSub\" => \"Physics Lab II\", \"id\" => 3059602497, \"credits\" => 1, \"nameCanonical\" => \"\")], \"id\" => 3), Dict(\"name\" => \"Term 4\", \"curriculum_items\" => Dict{String, Any}[Dict(\"curriculum_requisites\" => Dict{String, Any}[Dict(\"source_id\" => 3195103903, \"target_id\" => 1770099342, \"type\" => \"CurriculumPrerequisite\"), Dict(\"source_id\" => 2138760932, \"target_id\" => 1770099342, \"type\" => \"CurriculumPrerequisite\")], \"name\" => \"ENGI 2304\", \"metrics\" => Dict{String, Any}(\"complexity\" => 15.0, \"centrality\" => 159, \"blocking factor\" => 4, \"delay factor\" => 11.0), \"nameSub\" => \"Technical Communication\", \"id\" => 1770099342, \"credits\" => 3, \"nameCanonical\" => \"\"), Dict(\"curriculum_requisites\" => Dict{String, Any}[Dict(\"source_id\" => 947037850, \"target_id\" => 649106202, \"type\" => \"CurriculumPrerequisite\"), Dict(\"source_id\" => 2138760932, \"target_id\" => 649106202, \"type\" => \"CurriculumPrerequisite\")], \"name\" => \"ECE 3331\", \"metrics\" => Dict{String, Any}(\"complexity\" => 14.0, \"centrality\" => 152, \"blocking factor\" => 4, \"delay factor\" => 10.0), \"nameSub\" => \"Programming Apps in ECE\", \"id\" => 649106202, \"credits\" => 3, \"nameCanonical\" => \"\"), Dict(\"curriculum_requisites\" => Dict{String, Any}[Dict(\"source_id\" => 3059602497, \"target_id\" => 1083857781, \"type\" => \"CurriculumPrerequisite\"), Dict(\"source_id\" => 3887805990, \"target_id\" => 1083857781, \"type\" => \"CurriculumCorequisite\")], \"name\" => \"ECE 2100\", \"metrics\" => Dict{String, Any}(\"complexity\" => 17.0, \"centrality\" => 295, \"blocking factor\" => 5, \"delay factor\" => 12.0), \"nameSub\" => \"Circuits Lab\", \"id\" => 1083857781, \"credits\" => 1, \"nameCanonical\" => \"\"), Dict(\"curriculum_requisites\" => Dict{String, Any}[Dict(\"source_id\" => 2138760932, \"target_id\" => 3887805990, \"type\" => \"CurriculumPrerequisite\")], \"name\" => \"ECE 2202\", \"metrics\" => Dict{String, Any}(\"complexity\" => 20.0, \"centrality\" => 393, \"blocking factor\" => 8, \"delay factor\" => 12.0), \"nameSub\" => \"Circuit Analysis II\", \"id\" => 3887805990, \"credits\" => 3, \"nameCanonical\" => \"\"), Dict(\"curriculum_requisites\" => Dict{String, Any}[Dict(\"source_id\" => 3887805990, \"target_id\" => 2791403937, \"type\" => \"CurriculumCorequisite\")], \"name\" => \"ECE 3337\", \"metrics\" => Dict{String, Any}(\"complexity\" => 15.0, \"centrality\" => 154, \"blocking factor\" => 4, \"delay factor\" => 11.0), \"nameSub\" => \"Signals & Systems Analysis\", \"id\" => 2791403937, \"credits\" => 3, \"nameCanonical\" => \"\"), Dict(\"curriculum_requisites\" => Dict{String, Any}[Dict(\"source_id\" => 1083857781, \"target_id\" => 4184346648, \"type\" => \"CurriculumCorequisite\"), Dict(\"source_id\" => 649106202, \"target_id\" => 4184346648, \"type\" => \"CurriculumCorequisite\")], \"name\" => \"ECE 3436\", \"metrics\" => Dict{String, Any}(\"complexity\" => 13.0, \"centrality\" => 171, \"blocking factor\" => 2, \"delay factor\" => 11.0), \"nameSub\" => \"Microprocessors\", \"id\" => 4184346648, \"credits\" => 3, \"nameCanonical\" => \"\")], \"id\" => 4), Dict(\"name\" => \"Term 5\", \"curriculum_items\" => Dict{String, Any}[Dict(\"curriculum_requisites\" => Dict{String, Any}[], \"name\" => \" \", \"metrics\" => Dict{String, Any}(\"complexity\" => 1.0, \"centrality\" => 0, \"blocking factor\" => 0, \"delay factor\" => 1.0), \"nameSub\" => \"Creative Arts Core\", \"id\" => 848294223, \"credits\" => 3, \"nameCanonical\" => \"\"), Dict(\"curriculum_requisites\" => Dict{String, Any}[Dict(\"source_id\" => 1083857781, \"target_id\" => 1966522372, \"type\" => \"CurriculumPrerequisite\"), Dict(\"source_id\" => 1770099342, \"target_id\" => 1966522372, \"type\" => \"CurriculumPrerequisite\")], \"name\" => \"ECE 3155\", \"metrics\" => Dict{String, Any}(\"complexity\" => 15.0, \"centrality\" => 359, \"blocking factor\" => 3, \"delay factor\" => 12.0), \"nameSub\" => \"Electronics Lab\", \"id\" => 1966522372, \"credits\" => 1, \"nameCanonical\" => \"\"), Dict(\"curriculum_requisites\" => Dict{String, Any}[Dict(\"source_id\" => 1966522372, \"target_id\" => 4165958389, \"type\" => \"CurriculumStrictCorequisite\"), Dict(\"source_id\" => 2791403937, \"target_id\" => 4165958389, \"type\" => \"CurriculumPrerequisite\")], \"name\" => \"ECE 3355\", \"metrics\" => Dict{String, Any}(\"complexity\" => 14.0, \"centrality\" => 266, \"blocking factor\" => 2, \"delay factor\" => 12.0), \"nameSub\" => \"Electronics\", \"id\" => 4165958389, \"credits\" => 3, \"nameCanonical\" => \"\"), Dict(\"curriculum_requisites\" => Dict{String, Any}[], \"name\" => \" \", \"metrics\" => Dict{String, Any}(\"complexity\" => 1.0, \"centrality\" => 0, \"blocking factor\" => 0, \"delay factor\" => 1.0), \"nameSub\" => \"Concentration Elective 1\", \"id\" => 1056053313, \"credits\" => 3, \"nameCanonical\" => \"\"), Dict(\"curriculum_requisites\" => Dict{String, Any}[Dict(\"source_id\" => 2791403937, \"target_id\" => 2252871414, \"type\" => \"CurriculumPrerequisite\")], \"name\" => \"ECE 3317\", \"metrics\" => Dict{String, Any}(\"complexity\" => 13.0, \"centrality\" => 77, \"blocking factor\" => 2, \"delay factor\" => 11.0), \"nameSub\" => \"Applied EM Waves\", \"id\" => 2252871414, \"credits\" => 3, \"nameCanonical\" => \"\"), Dict(\"curriculum_requisites\" => Dict{String, Any}[], \"name\" => \" \", \"metrics\" => Dict{String, Any}(\"complexity\" => 1.0, \"centrality\" => 0, \"blocking factor\" => 0, \"delay factor\" => 1.0), \"nameSub\" => \"ECE Elective 1\", \"id\" => 2051928090, \"credits\" => 3, \"nameCanonical\" => \"\")], \"id\" => 5), Dict(\"name\" => \"Term 6\", \"curriculum_items\" => Dict{String, Any}[Dict(\"curriculum_requisites\" => Dict{String, Any}[], \"name\" => \"POLS 1337\", \"metrics\" => Dict{String, Any}(\"complexity\" => 1.0, \"centrality\" => 0, \"blocking factor\" => 0, \"delay factor\" => 1.0), \"nameSub\" => \"US Gov: Congress, President and Courts\", \"id\" => 951874139, \"credits\" => 3, \"nameCanonical\" => \"\"), Dict(\"curriculum_requisites\" => Dict{String, Any}[Dict(\"source_id\" => 1051497550, \"target_id\" => 2888554139, \"type\" => \"CurriculumPrerequisite\"), Dict(\"source_id\" => 1177372781, \"target_id\" => 2888554139, \"type\" => \"CurriculumPrerequisite\")], \"name\" => \"INDE 2333\", \"metrics\" => Dict{String, Any}(\"complexity\" => 8.0, \"centrality\" => 16, \"blocking factor\" => 2, \"delay factor\" => 6.0), \"nameSub\" => \"Engineering Statistics\", \"id\" => 2888554139, \"credits\" => 3, \"nameCanonical\" => \"\"), Dict(\"curriculum_requisites\" => Dict{String, Any}[], \"name\" => \" \", \"metrics\" => Dict{String, Any}(\"complexity\" => 1.0, \"centrality\" => 0, \"blocking factor\" => 0, \"delay factor\" => 1.0), \"nameSub\" => \"Elective Lab 1\", \"id\" => 26700799, \"credits\" => 1, \"nameCanonical\" => \"\"), Dict(\"curriculum_requisites\" => Dict{String, Any}[], \"name\" => \" \", \"metrics\" => Dict{String, Any}(\"complexity\" => 1.0, \"centrality\" => 0, \"blocking factor\" => 0, \"delay factor\" => 1.0), \"nameSub\" => \"Concentration Elective 2\", \"id\" => 1745860227, \"credits\" => 3, \"nameCanonical\" => \"\"), Dict(\"curriculum_requisites\" => Dict{String, Any}[Dict(\"source_id\" => 649106202, \"target_id\" => 3368026167, \"type\" => \"CurriculumPrerequisite\")], \"name\" => \"ECE 3340\", \"metrics\" => Dict{String, Any}(\"complexity\" => 12.0, \"centrality\" => 76, \"blocking factor\" => 2, \"delay factor\" => 10.0), \"nameSub\" => \"Numerical Methods\", \"id\" => 3368026167, \"credits\" => 3, \"nameCanonical\" => \"\"), Dict(\"curriculum_requisites\" => Dict{String, Any}[], \"name\" => \" \", \"metrics\" => Dict{String, Any}(\"complexity\" => 1.0, \"centrality\" => 0, \"blocking factor\" => 0, \"delay factor\" => 1.0), \"nameSub\" => \"ECE Elective 2\", \"id\" => 672829327, \"credits\" => 3, \"nameCanonical\" => \"\")], \"id\" => 6), Dict(\"name\" => \"Term 7\", \"curriculum_items\" => Dict{String, Any}[Dict(\"curriculum_requisites\" => Dict{String, Any}[], \"name\" => \"ECON 2304\", \"metrics\" => Dict{String, Any}(\"complexity\" => 5.0, \"centrality\" => 0, \"blocking factor\" => 2, \"delay factor\" => 3.0), \"nameSub\" => \"Microeconomic Principles\", \"id\" => 3224555476, \"credits\" => 3, \"nameCanonical\" => \"\"), Dict(\"curriculum_requisites\" => Dict{String, Any}[Dict(\"source_id\" => 1966522372, \"target_id\" => 1337097032, \"type\" => \"CurriculumPrerequisite\"), Dict(\"source_id\" => 4184346648, \"target_id\" => 1337097032, \"type\" => \"CurriculumPrerequisite\"), Dict(\"source_id\" => 3368026167, \"target_id\" => 1337097032, \"type\" => \"CurriculumPrerequisite\"), Dict(\"source_id\" => 2888554139, \"target_id\" => 1337097032, \"type\" => \"CurriculumPrerequisite\"), Dict(\"source_id\" => 4165958389, \"target_id\" => 1337097032, \"type\" => \"CurriculumPrerequisite\"), Dict(\"source_id\" => 3224555476, \"target_id\" => 1337097032, \"type\" => \"CurriculumCorequisite\"), Dict(\"source_id\" => 2252871414, \"target_id\" => 1337097032, \"type\" => \"CurriculumPrerequisite\")], \"name\" => \"ECE 4335\", \"metrics\" => Dict{String, Any}(\"complexity\" => 13.0, \"centrality\" => 779, \"blocking factor\" => 1, \"delay factor\" => 12.0), \"nameSub\" => \"ECE Design I\", \"id\" => 1337097032, \"credits\" => 3, \"nameCanonical\" => \"\"), Dict(\"curriculum_requisites\" => Dict{String, Any}[], \"name\" => \" \", \"metrics\" => Dict{String, Any}(\"complexity\" => 1.0, \"centrality\" => 0, \"blocking factor\" => 0, \"delay factor\" => 1.0), \"nameSub\" => \"Elective Lab 2\", \"id\" => 1296179090, \"credits\" => 1, \"nameCanonical\" => \"\"), Dict(\"curriculum_requisites\" => Dict{String, Any}[], \"name\" => \" \", \"metrics\" => Dict{String, Any}(\"complexity\" => 1.0, \"centrality\" => 0, \"blocking factor\" => 0, \"delay factor\" => 1.0), \"nameSub\" => \"Concentration Elective 3\", \"id\" => 1105094343, \"credits\" => 3, \"nameCanonical\" => \"\"), Dict(\"curriculum_requisites\" => Dict{String, Any}[], \"name\" => \" \", \"metrics\" => Dict{String, Any}(\"complexity\" => 1.0, \"centrality\" => 0, \"blocking factor\" => 0, \"delay factor\" => 1.0), \"nameSub\" => \"Concentration Elective 4\", \"id\" => 1819261218, \"credits\" => 3, \"nameCanonical\" => \"\"), Dict(\"curriculum_requisites\" => Dict{String, Any}[], \"name\" => \" \", \"metrics\" => Dict{String, Any}(\"complexity\" => 1.0, \"centrality\" => 0, \"blocking factor\" => 0, \"delay factor\" => 1.0), \"nameSub\" => \"Technical Elective\", \"id\" => 2529896330, \"credits\" => 3, \"nameCanonical\" => \"\")], \"id\" => 7), Dict(\"name\" => \"Term 8\", \"curriculum_items\" => Dict{String, Any}[Dict(\"curriculum_requisites\" => Dict{String, Any}[], \"name\" => \" \", \"metrics\" => Dict{String, Any}(\"complexity\" => 1.0, \"centrality\" => 0, \"blocking factor\" => 0, \"delay factor\" => 1.0), \"nameSub\" => \"Lang., Phil. & Culture Core\", \"id\" => 1626752824, \"credits\" => 3, \"nameCanonical\" => \"\"), Dict(\"curriculum_requisites\" => Dict{String, Any}[Dict(\"source_id\" => 1337097032, \"target_id\" => 1158404973, \"type\" => \"CurriculumPrerequisite\")], \"name\" => \"ECE 4336\", \"metrics\" => Dict{String, Any}(\"complexity\" => 12.0, \"centrality\" => 0, \"blocking factor\" => 0, \"delay factor\" => 12.0), \"nameSub\" => \"ECE Design II\", \"id\" => 1158404973, \"credits\" => 3, \"nameCanonical\" => \"\"), Dict(\"curriculum_requisites\" => Dict{String, Any}[], \"name\" => \" \", \"metrics\" => Dict{String, Any}(\"complexity\" => 1.0, \"centrality\" => 0, \"blocking factor\" => 0, \"delay factor\" => 1.0), \"nameSub\" => \"Elective Lab 3\", \"id\" => 3091492697, \"credits\" => 1, \"nameCanonical\" => \"\"), Dict(\"curriculum_requisites\" => Dict{String, Any}[], \"name\" => \" \", \"metrics\" => Dict{String, Any}(\"complexity\" => 1.0, \"centrality\" => 0, \"blocking factor\" => 0, \"delay factor\" => 1.0), \"nameSub\" => \"Concentration Elective 5\", \"id\" => 2070124031, \"credits\" => 3, \"nameCanonical\" => \"\"), Dict(\"curriculum_requisites\" => Dict{String, Any}[], \"name\" => \" \", \"metrics\" => Dict{String, Any}(\"complexity\" => 1.0, \"centrality\" => 0, \"blocking factor\" => 0, \"delay factor\" => 1.0), \"nameSub\" => \"Concentration Elective 6\", \"id\" => 1716266479, \"credits\" => 3, \"nameCanonical\" => \"\"), Dict(\"curriculum_requisites\" => Dict{String, Any}[], \"name\" => \" \", \"metrics\" => Dict{String, Any}(\"complexity\" => 1.0, \"centrality\" => 0, \"blocking factor\" => 0, \"delay factor\" => 1.0), \"nameSub\" => \"Concentration Elective 7\", \"id\" => 2584207151, \"credits\" => 3, \"nameCanonical\" => \"\"), Dict(\"curriculum_requisites\" => Dict{String, Any}[], \"name\" => \" \", \"metrics\" => Dict{String, Any}(\"complexity\" => 1.0, \"centrality\" => 0, \"blocking factor\" => 0, \"delay factor\" => 1.0), \"nameSub\" => \"Elective Lab 4\", \"id\" => 2450156574, \"credits\" => 1, \"nameCanonical\" => \"\")], \"id\" => 8)], \"institution\" => \"\")), nothing)), Set{String}(), nothing, WebIO.Asset[], Dict{Any, Any}(), WebIO.ConnectionPool(Channel{Any}(32), Set{WebIO.AbstractConnection}(), Condition(Base.InvasiveLinkedList{Task}(Task (runnable) @0x000000017365d220, Task (runnable) @0x000000017365d220), Base.AlwaysLockedST(1))), WebIO.JSString[])"
      ]
     },
     "execution_count": 3,
     "metadata": {
      "application/vnd.webio.node+json": {
       "kernelId": "608747ee-a133-469f-a5ab-d2379c850c6c"
      }
     },
     "output_type": "execute_result"
    }
   ],
   "source": [
    "include(\"UH_EE_curric.jl\")\n",
    "visualize(dp, notebook=true)"
   ]
  },
  {
   "cell_type": "markdown",
   "metadata": {},
   "source": [
    "Notice once again that the Circuit Analysis I course in the third term is the course with the highest centrality in the curriculum. The overall complexity of this curriculum is 487, computed as the total amount of the delay and blocking factors associated with all courses in the curriculum.\n",
    "\n",
    "Let us consider one more electrical engineering program, in this case the one offered by  <cite data-cite=\"\">Cornell University (2018)</cite>."
   ]
  },
  {
   "cell_type": "code",
   "execution_count": 4,
   "metadata": {
    "scrolled": false
   },
   "outputs": [
    {
     "data": {
      "application/vnd.webio.node+json": {
       "children": [
        {
         "children": [
          ""
         ],
         "instanceArgs": {
          "namespace": "html",
          "tag": "iframe"
         },
         "nodeType": "DOM",
         "props": {
          "events": {
           "load": "(function (){this.contentWindow.postMessage({\"options\":{\"hideTerms\":false,\"edit\":false},\"curriculum\":{\"name\":\"Cornell University EE Program\",\"dp_name\":\"Cornell University EE Program 4-year Plan\",\"curriculum_terms\":[{\"name\":\"Term 1\",\"curriculum_items\":[{\"curriculum_requisites\":[],\"name\":\"CHEM  2090\",\"metrics\":{\"centrality\":0,\"complexity\":1.0,\"blocking factor\":0,\"delay factor\":1.0},\"nameSub\":\"Engineering Gen. Chemistry\",\"id\":3732084628,\"credits\":4,\"nameCanonical\":\"\"},{\"curriculum_requisites\":[],\"name\":\"MATH 1910\",\"metrics\":{\"centrality\":0,\"complexity\":15.0,\"blocking factor\":10,\"delay factor\":5.0},\"nameSub\":\"Calculus for Engineers\",\"id\":4274504294,\"credits\":4,\"nameCanonical\":\"\"},{\"curriculum_requisites\":[],\"name\":\"ENGRI 1xxx\",\"metrics\":{\"centrality\":0,\"complexity\":1.0,\"blocking factor\":0,\"delay factor\":1.0},\"nameSub\":\"Engineering Distribution 1\",\"id\":3683554939,\"credits\":3,\"nameCanonical\":\"\"},{\"curriculum_requisites\":[],\"name\":\" \",\"metrics\":{\"centrality\":0,\"complexity\":1.0,\"blocking factor\":0,\"delay factor\":1.0},\"nameSub\":\"1st Yr Writing Seminar 1\",\"id\":239686930,\"credits\":3,\"nameCanonical\":\"\"},{\"curriculum_requisites\":[],\"name\":\" \",\"metrics\":{\"centrality\":0,\"complexity\":1.0,\"blocking factor\":0,\"delay factor\":1.0},\"nameSub\":\"PE 1\",\"id\":1523633189,\"credits\":3,\"nameCanonical\":\"\"}],\"id\":1},{\"name\":\"Term 2\",\"curriculum_items\":[{\"curriculum_requisites\":[{\"source_id\":4274504294,\"target_id\":177051436,\"type\":\"CurriculumPrerequisite\"}],\"name\":\"PHYS 1112\",\"metrics\":{\"centrality\":9,\"complexity\":9.0,\"blocking factor\":4,\"delay factor\":5.0},\"nameSub\":\"Physics I: Mechanics & Heat\",\"id\":177051436,\"credits\":4,\"nameCanonical\":\"\"},{\"curriculum_requisites\":[{\"source_id\":4274504294,\"target_id\":2644941087,\"type\":\"CurriculumPrerequisite\"}],\"name\":\"MATH 1920\",\"metrics\":{\"centrality\":28,\"complexity\":13.0,\"blocking factor\":8,\"delay factor\":5.0},\"nameSub\":\"Multivariable Calc. for Engineers\",\"id\":2644941087,\"credits\":4,\"nameCanonical\":\"\"},{\"curriculum_requisites\":[],\"name\":\"CS 111x\",\"metrics\":{\"centrality\":0,\"complexity\":6.0,\"blocking factor\":3,\"delay factor\":3.0},\"nameSub\":\"Intro. to Computing\",\"id\":4226399557,\"credits\":4,\"nameCanonical\":\"\"},{\"curriculum_requisites\":[],\"name\":\" \",\"metrics\":{\"centrality\":0,\"complexity\":1.0,\"blocking factor\":0,\"delay factor\":1.0},\"nameSub\":\"1st Yr Writing Seminar 2\",\"id\":4073672988,\"credits\":3,\"nameCanonical\":\"\"},{\"curriculum_requisites\":[],\"name\":\" \",\"metrics\":{\"centrality\":0,\"complexity\":1.0,\"blocking factor\":0,\"delay factor\":1.0},\"nameSub\":\"PE 2\",\"id\":335346848,\"credits\":3,\"nameCanonical\":\"\"}],\"id\":2},{\"name\":\"Term 3\",\"curriculum_items\":[{\"curriculum_requisites\":[{\"source_id\":177051436,\"target_id\":670953379,\"type\":\"CurriculumPrerequisite\"},{\"source_id\":2644941087,\"target_id\":670953379,\"type\":\"CurriculumPrerequisite\"}],\"name\":\"PHYS 2213\",\"metrics\":{\"centrality\":18,\"complexity\":8.0,\"blocking factor\":3,\"delay factor\":5.0},\"nameSub\":\"Physics II: Electromagnetism\",\"id\":670953379,\"credits\":4,\"nameCanonical\":\"\"},{\"curriculum_requisites\":[{\"source_id\":2644941087,\"target_id\":1926321183,\"type\":\"CurriculumPrerequisite\"}],\"name\":\"MATH 2930\",\"metrics\":{\"centrality\":14,\"complexity\":9.0,\"blocking factor\":4,\"delay factor\":5.0},\"nameSub\":\"Diff. Eqs. for Engineers\",\"id\":1926321183,\"credits\":4,\"nameCanonical\":\"\"},{\"curriculum_requisites\":[{\"source_id\":1926321183,\"target_id\":3693590979,\"type\":\"CurriculumCorequisite\"},{\"source_id\":670953379,\"target_id\":3693590979,\"type\":\"CurriculumCorequisite\"}],\"name\":\"ECE/ENGRD 2100\",\"metrics\":{\"centrality\":15,\"complexity\":6.0,\"blocking factor\":1,\"delay factor\":5.0},\"nameSub\":\"Intro. to Circuits\",\"id\":3693590979,\"credits\":4,\"nameCanonical\":\"\"},{\"curriculum_requisites\":[{\"source_id\":4226399557,\"target_id\":986524819,\"type\":\"CurriculumPrerequisite\"}],\"name\":\"ECE/ENGRD 2300\",\"metrics\":{\"centrality\":3,\"complexity\":4.0,\"blocking factor\":1,\"delay factor\":3.0},\"nameSub\":\"Digital Logic & Computer Org.\",\"id\":986524819,\"credits\":4,\"nameCanonical\":\"\"},{\"curriculum_requisites\":[],\"name\":\" \",\"metrics\":{\"centrality\":0,\"complexity\":1.0,\"blocking factor\":0,\"delay factor\":1.0},\"nameSub\":\"Liberal Studies 1\",\"id\":1558052753,\"credits\":3,\"nameCanonical\":\"\"}],\"id\":3},{\"name\":\"Term 4\",\"curriculum_items\":[{\"curriculum_requisites\":[{\"source_id\":1926321183,\"target_id\":3377751592,\"type\":\"CurriculumCorequisite\"}],\"name\":\"PHYS 2214\",\"metrics\":{\"centrality\":0,\"complexity\":4.0,\"blocking factor\":0,\"delay factor\":4.0},\"nameSub\":\"Physics III: Oscillations, Waves, and Quantum Physics\",\"id\":3377751592,\"credits\":4,\"nameCanonical\":\"\"},{\"curriculum_requisites\":[{\"source_id\":2644941087,\"target_id\":1135328629,\"type\":\"CurriculumPrerequisite\"}],\"name\":\"MATH 2940\",\"metrics\":{\"centrality\":5,\"complexity\":7.0,\"blocking factor\":2,\"delay factor\":5.0},\"nameSub\":\"Linear Algebra for Engineers\",\"id\":1135328629,\"credits\":4,\"nameCanonical\":\"\"},{\"curriculum_requisites\":[{\"source_id\":670953379,\"target_id\":1098106156,\"type\":\"CurriculumPrerequisite\"}],\"name\":\"ENGRD 2xxx\",\"metrics\":{\"centrality\":0,\"complexity\":4.0,\"blocking factor\":0,\"delay factor\":4.0},\"nameSub\":\"Engineering Distribution 2\",\"id\":1098106156,\"credits\":3,\"nameCanonical\":\"\"},{\"curriculum_requisites\":[{\"source_id\":1926321183,\"target_id\":2066269668,\"type\":\"CurriculumPrerequisite\"},{\"source_id\":1135328629,\"target_id\":2066269668,\"type\":\"CurriculumCorequisite\"}],\"name\":\"ECE/ENGRD 2200/2220\",\"metrics\":{\"centrality\":10,\"complexity\":6.0,\"blocking factor\":1,\"delay factor\":5.0},\"nameSub\":\"Signals and Information\",\"id\":2066269668,\"credits\":4,\"nameCanonical\":\"\"},{\"curriculum_requisites\":[],\"name\":\" \",\"metrics\":{\"centrality\":0,\"complexity\":1.0,\"blocking factor\":0,\"delay factor\":1.0},\"nameSub\":\"Liberal Studies 2\",\"id\":2054345146,\"credits\":3,\"nameCanonical\":\"\"}],\"id\":4},{\"name\":\"Term 5\",\"curriculum_items\":[{\"curriculum_requisites\":[],\"name\":\" \",\"metrics\":{\"centrality\":0,\"complexity\":1.0,\"blocking factor\":0,\"delay factor\":1.0},\"nameSub\":\"ECE Foundations 1\",\"id\":743914989,\"credits\":3,\"nameCanonical\":\"\"},{\"curriculum_requisites\":[],\"name\":\" \",\"metrics\":{\"centrality\":0,\"complexity\":1.0,\"blocking factor\":0,\"delay factor\":1.0},\"nameSub\":\"Elective 1\",\"id\":2064696548,\"credits\":3,\"nameCanonical\":\"\"},{\"curriculum_requisites\":[{\"source_id\":4226399557,\"target_id\":329854095,\"type\":\"CurriculumPrerequisite\"}],\"name\":\" \",\"metrics\":{\"centrality\":0,\"complexity\":2.0,\"blocking factor\":0,\"delay factor\":2.0},\"nameSub\":\"Outside Tech. Elective 1\",\"id\":329854095,\"credits\":3,\"nameCanonical\":\"\"},{\"curriculum_requisites\":[{\"source_id\":986524819,\"target_id\":1413999863,\"type\":\"CurriculumPrerequisite\"},{\"source_id\":2066269668,\"target_id\":1413999863,\"type\":\"CurriculumPrerequisite\"},{\"source_id\":3693590979,\"target_id\":1413999863,\"type\":\"CurriculumPrerequisite\"}],\"name\":\"ECE 3400\",\"metrics\":{\"centrality\":0,\"complexity\":5.0,\"blocking factor\":0,\"delay factor\":5.0},\"nameSub\":\"Intelligent Physical Systems\",\"id\":1413999863,\"credits\":3,\"nameCanonical\":\"\"},{\"curriculum_requisites\":[],\"name\":\" \",\"metrics\":{\"centrality\":0,\"complexity\":1.0,\"blocking factor\":0,\"delay factor\":1.0},\"nameSub\":\"Liberal Studies 3\",\"id\":1637204683,\"credits\":3,\"nameCanonical\":\"\"}],\"id\":5},{\"name\":\"Term 6\",\"curriculum_items\":[{\"curriculum_requisites\":[],\"name\":\" \",\"metrics\":{\"centrality\":0,\"complexity\":1.0,\"blocking factor\":0,\"delay factor\":1.0},\"nameSub\":\"ECE Foundations 2\",\"id\":121333895,\"credits\":3,\"nameCanonical\":\"\"},{\"curriculum_requisites\":[],\"name\":\" \",\"metrics\":{\"centrality\":0,\"complexity\":1.0,\"blocking factor\":0,\"delay factor\":1.0},\"nameSub\":\"ECE Foundations 3\",\"id\":1218469900,\"credits\":3,\"nameCanonical\":\"\"},{\"curriculum_requisites\":[],\"name\":\" \",\"metrics\":{\"centrality\":0,\"complexity\":1.0,\"blocking factor\":0,\"delay factor\":1.0},\"nameSub\":\"Outside Tech. Elective 2\",\"id\":329854096,\"credits\":3,\"nameCanonical\":\"\"},{\"curriculum_requisites\":[],\"name\":\" \",\"metrics\":{\"centrality\":0,\"complexity\":1.0,\"blocking factor\":0,\"delay factor\":1.0},\"nameSub\":\"Elective 2\",\"id\":266560209,\"credits\":3,\"nameCanonical\":\"\"},{\"curriculum_requisites\":[],\"name\":\" \",\"metrics\":{\"centrality\":0,\"complexity\":1.0,\"blocking factor\":0,\"delay factor\":1.0},\"nameSub\":\"Liberal Studies 4\",\"id\":1720176282,\"credits\":3,\"nameCanonical\":\"\"}],\"id\":6},{\"name\":\"Term 7\",\"curriculum_items\":[{\"curriculum_requisites\":[],\"name\":\" \",\"metrics\":{\"centrality\":0,\"complexity\":1.0,\"blocking factor\":0,\"delay factor\":1.0},\"nameSub\":\"ECE Elective (CDE)\",\"id\":3224403962,\"credits\":3,\"nameCanonical\":\"\"},{\"curriculum_requisites\":[],\"name\":\" \",\"metrics\":{\"centrality\":0,\"complexity\":1.0,\"blocking factor\":0,\"delay factor\":1.0},\"nameSub\":\"ECE Elective 1\",\"id\":2051928090,\"credits\":3,\"nameCanonical\":\"\"},{\"curriculum_requisites\":[],\"name\":\" \",\"metrics\":{\"centrality\":0,\"complexity\":1.0,\"blocking factor\":0,\"delay factor\":1.0},\"nameSub\":\"Outside Tech. Elective 3\",\"id\":329854097,\"credits\":3,\"nameCanonical\":\"\"},{\"curriculum_requisites\":[],\"name\":\" \",\"metrics\":{\"centrality\":0,\"complexity\":1.0,\"blocking factor\":0,\"delay factor\":1.0},\"nameSub\":\"Liberal Studies 5\",\"id\":3411438757,\"credits\":3,\"nameCanonical\":\"\"}],\"id\":7},{\"name\":\"Term 8\",\"curriculum_items\":[{\"curriculum_requisites\":[],\"name\":\" \",\"metrics\":{\"centrality\":0,\"complexity\":1.0,\"blocking factor\":0,\"delay factor\":1.0},\"nameSub\":\"ECE Elective 2\",\"id\":672829327,\"credits\":3,\"nameCanonical\":\"\"},{\"curriculum_requisites\":[],\"name\":\" \",\"metrics\":{\"centrality\":0,\"complexity\":1.0,\"blocking factor\":0,\"delay factor\":1.0},\"nameSub\":\"ECE Elective 3\",\"id\":562628024,\"credits\":3,\"nameCanonical\":\"\"},{\"curriculum_requisites\":[],\"name\":\" \",\"metrics\":{\"centrality\":0,\"complexity\":1.0,\"blocking factor\":0,\"delay factor\":1.0},\"nameSub\":\"ECE Elective 4\",\"id\":3443198019,\"credits\":3,\"nameCanonical\":\"\"},{\"curriculum_requisites\":[],\"name\":\" \",\"metrics\":{\"centrality\":0,\"complexity\":1.0,\"blocking factor\":0,\"delay factor\":1.0},\"nameSub\":\"Liberal Studies 6\",\"id\":2066864807,\"credits\":3,\"nameCanonical\":\"\"}],\"id\":8}],\"institution\":\"\"}},\"*\"); window.removeEventListener(\"message\",window.messageReceived); window.messageReceived=(function (event){return (event.data.curriculum!==undefined) ? (WebIO.setval({\"name\":\"curriculum-data\",\"scope\":\"15211580818023264146\",\"id\":\"12833768650178820664\",\"type\":\"observable\"},event.data.curriculum)) : undefined}); return window.addEventListener(\"message\",window.messageReceived)})"
          },
          "id": "curriculum",
          "src": "https://curricula-api-embed.damoursystems.com/",
          "style": {
           "border": "none",
           "height": "90vh",
           "margin": "0",
           "padding": "0",
           "width": "100%"
          }
         },
         "type": "node"
        }
       ],
       "instanceArgs": {
        "handlers": {},
        "id": "15211580818023264146",
        "imports": {
         "data": [],
         "type": "async_block"
        },
        "mount_callbacks": [],
        "observables": {
         "curriculum-data": {
          "id": "12833768650178820664",
          "sync": true,
          "value": {
           "curriculum": {
            "curriculum_terms": [
             {
              "curriculum_items": [
               {
                "credits": 4,
                "curriculum_requisites": [],
                "id": 3732084628,
                "metrics": {
                 "blocking factor": 0,
                 "centrality": 0,
                 "complexity": 1,
                 "delay factor": 1
                },
                "name": "CHEM  2090",
                "nameCanonical": "",
                "nameSub": "Engineering Gen. Chemistry"
               },
               {
                "credits": 4,
                "curriculum_requisites": [],
                "id": 4274504294,
                "metrics": {
                 "blocking factor": 10,
                 "centrality": 0,
                 "complexity": 15,
                 "delay factor": 5
                },
                "name": "MATH 1910",
                "nameCanonical": "",
                "nameSub": "Calculus for Engineers"
               },
               {
                "credits": 3,
                "curriculum_requisites": [],
                "id": 3683554939,
                "metrics": {
                 "blocking factor": 0,
                 "centrality": 0,
                 "complexity": 1,
                 "delay factor": 1
                },
                "name": "ENGRI 1xxx",
                "nameCanonical": "",
                "nameSub": "Engineering Distribution 1"
               },
               {
                "credits": 3,
                "curriculum_requisites": [],
                "id": 239686930,
                "metrics": {
                 "blocking factor": 0,
                 "centrality": 0,
                 "complexity": 1,
                 "delay factor": 1
                },
                "name": " ",
                "nameCanonical": "",
                "nameSub": "1st Yr Writing Seminar 1"
               },
               {
                "credits": 3,
                "curriculum_requisites": [],
                "id": 1523633189,
                "metrics": {
                 "blocking factor": 0,
                 "centrality": 0,
                 "complexity": 1,
                 "delay factor": 1
                },
                "name": " ",
                "nameCanonical": "",
                "nameSub": "PE 1"
               }
              ],
              "id": 1,
              "name": "Term 1"
             },
             {
              "curriculum_items": [
               {
                "credits": 4,
                "curriculum_requisites": [
                 {
                  "source_id": 4274504294,
                  "target_id": 177051436,
                  "type": "CurriculumPrerequisite"
                 }
                ],
                "id": 177051436,
                "metrics": {
                 "blocking factor": 4,
                 "centrality": 9,
                 "complexity": 9,
                 "delay factor": 5
                },
                "name": "PHYS 1112",
                "nameCanonical": "",
                "nameSub": "Physics I: Mechanics & Heat"
               },
               {
                "credits": 4,
                "curriculum_requisites": [
                 {
                  "source_id": 4274504294,
                  "target_id": 2644941087,
                  "type": "CurriculumPrerequisite"
                 }
                ],
                "id": 2644941087,
                "metrics": {
                 "blocking factor": 8,
                 "centrality": 28,
                 "complexity": 13,
                 "delay factor": 5
                },
                "name": "MATH 1920",
                "nameCanonical": "",
                "nameSub": "Multivariable Calc. for Engineers"
               },
               {
                "credits": 4,
                "curriculum_requisites": [],
                "id": 4226399557,
                "metrics": {
                 "blocking factor": 3,
                 "centrality": 0,
                 "complexity": 6,
                 "delay factor": 3
                },
                "name": "CS 111x",
                "nameCanonical": "",
                "nameSub": "Intro. to Computing"
               },
               {
                "credits": 3,
                "curriculum_requisites": [],
                "id": 4073672988,
                "metrics": {
                 "blocking factor": 0,
                 "centrality": 0,
                 "complexity": 1,
                 "delay factor": 1
                },
                "name": " ",
                "nameCanonical": "",
                "nameSub": "1st Yr Writing Seminar 2"
               },
               {
                "credits": 3,
                "curriculum_requisites": [],
                "id": 335346848,
                "metrics": {
                 "blocking factor": 0,
                 "centrality": 0,
                 "complexity": 1,
                 "delay factor": 1
                },
                "name": " ",
                "nameCanonical": "",
                "nameSub": "PE 2"
               }
              ],
              "id": 2,
              "name": "Term 2"
             },
             {
              "curriculum_items": [
               {
                "credits": 4,
                "curriculum_requisites": [
                 {
                  "source_id": 177051436,
                  "target_id": 670953379,
                  "type": "CurriculumPrerequisite"
                 },
                 {
                  "source_id": 2644941087,
                  "target_id": 670953379,
                  "type": "CurriculumPrerequisite"
                 }
                ],
                "id": 670953379,
                "metrics": {
                 "blocking factor": 3,
                 "centrality": 18,
                 "complexity": 8,
                 "delay factor": 5
                },
                "name": "PHYS 2213",
                "nameCanonical": "",
                "nameSub": "Physics II: Electromagnetism"
               },
               {
                "credits": 4,
                "curriculum_requisites": [
                 {
                  "source_id": 2644941087,
                  "target_id": 1926321183,
                  "type": "CurriculumPrerequisite"
                 }
                ],
                "id": 1926321183,
                "metrics": {
                 "blocking factor": 4,
                 "centrality": 14,
                 "complexity": 9,
                 "delay factor": 5
                },
                "name": "MATH 2930",
                "nameCanonical": "",
                "nameSub": "Diff. Eqs. for Engineers"
               },
               {
                "credits": 4,
                "curriculum_requisites": [
                 {
                  "source_id": 1926321183,
                  "target_id": 3693590979,
                  "type": "CurriculumCorequisite"
                 },
                 {
                  "source_id": 670953379,
                  "target_id": 3693590979,
                  "type": "CurriculumCorequisite"
                 }
                ],
                "id": 3693590979,
                "metrics": {
                 "blocking factor": 1,
                 "centrality": 15,
                 "complexity": 6,
                 "delay factor": 5
                },
                "name": "ECE/ENGRD 2100",
                "nameCanonical": "",
                "nameSub": "Intro. to Circuits"
               },
               {
                "credits": 4,
                "curriculum_requisites": [
                 {
                  "source_id": 4226399557,
                  "target_id": 986524819,
                  "type": "CurriculumPrerequisite"
                 }
                ],
                "id": 986524819,
                "metrics": {
                 "blocking factor": 1,
                 "centrality": 3,
                 "complexity": 4,
                 "delay factor": 3
                },
                "name": "ECE/ENGRD 2300",
                "nameCanonical": "",
                "nameSub": "Digital Logic & Computer Org."
               },
               {
                "credits": 3,
                "curriculum_requisites": [],
                "id": 1558052753,
                "metrics": {
                 "blocking factor": 0,
                 "centrality": 0,
                 "complexity": 1,
                 "delay factor": 1
                },
                "name": " ",
                "nameCanonical": "",
                "nameSub": "Liberal Studies 1"
               }
              ],
              "id": 3,
              "name": "Term 3"
             },
             {
              "curriculum_items": [
               {
                "credits": 4,
                "curriculum_requisites": [
                 {
                  "source_id": 1926321183,
                  "target_id": 3377751592,
                  "type": "CurriculumCorequisite"
                 }
                ],
                "id": 3377751592,
                "metrics": {
                 "blocking factor": 0,
                 "centrality": 0,
                 "complexity": 4,
                 "delay factor": 4
                },
                "name": "PHYS 2214",
                "nameCanonical": "",
                "nameSub": "Physics III: Oscillations, Waves, and Quantum Physics"
               },
               {
                "credits": 4,
                "curriculum_requisites": [
                 {
                  "source_id": 2644941087,
                  "target_id": 1135328629,
                  "type": "CurriculumPrerequisite"
                 }
                ],
                "id": 1135328629,
                "metrics": {
                 "blocking factor": 2,
                 "centrality": 5,
                 "complexity": 7,
                 "delay factor": 5
                },
                "name": "MATH 2940",
                "nameCanonical": "",
                "nameSub": "Linear Algebra for Engineers"
               },
               {
                "credits": 3,
                "curriculum_requisites": [
                 {
                  "source_id": 670953379,
                  "target_id": 1098106156,
                  "type": "CurriculumPrerequisite"
                 }
                ],
                "id": 1098106156,
                "metrics": {
                 "blocking factor": 0,
                 "centrality": 0,
                 "complexity": 4,
                 "delay factor": 4
                },
                "name": "ENGRD 2xxx",
                "nameCanonical": "",
                "nameSub": "Engineering Distribution 2"
               },
               {
                "credits": 4,
                "curriculum_requisites": [
                 {
                  "source_id": 1926321183,
                  "target_id": 2066269668,
                  "type": "CurriculumPrerequisite"
                 },
                 {
                  "source_id": 1135328629,
                  "target_id": 2066269668,
                  "type": "CurriculumCorequisite"
                 }
                ],
                "id": 2066269668,
                "metrics": {
                 "blocking factor": 1,
                 "centrality": 10,
                 "complexity": 6,
                 "delay factor": 5
                },
                "name": "ECE/ENGRD 2200/2220",
                "nameCanonical": "",
                "nameSub": "Signals and Information"
               },
               {
                "credits": 3,
                "curriculum_requisites": [],
                "id": 2054345146,
                "metrics": {
                 "blocking factor": 0,
                 "centrality": 0,
                 "complexity": 1,
                 "delay factor": 1
                },
                "name": " ",
                "nameCanonical": "",
                "nameSub": "Liberal Studies 2"
               }
              ],
              "id": 4,
              "name": "Term 4"
             },
             {
              "curriculum_items": [
               {
                "credits": 3,
                "curriculum_requisites": [],
                "id": 743914989,
                "metrics": {
                 "blocking factor": 0,
                 "centrality": 0,
                 "complexity": 1,
                 "delay factor": 1
                },
                "name": " ",
                "nameCanonical": "",
                "nameSub": "ECE Foundations 1"
               },
               {
                "credits": 3,
                "curriculum_requisites": [],
                "id": 2064696548,
                "metrics": {
                 "blocking factor": 0,
                 "centrality": 0,
                 "complexity": 1,
                 "delay factor": 1
                },
                "name": " ",
                "nameCanonical": "",
                "nameSub": "Elective 1"
               },
               {
                "credits": 3,
                "curriculum_requisites": [
                 {
                  "source_id": 4226399557,
                  "target_id": 329854095,
                  "type": "CurriculumPrerequisite"
                 }
                ],
                "id": 329854095,
                "metrics": {
                 "blocking factor": 0,
                 "centrality": 0,
                 "complexity": 2,
                 "delay factor": 2
                },
                "name": " ",
                "nameCanonical": "",
                "nameSub": "Outside Tech. Elective 1"
               },
               {
                "credits": 3,
                "curriculum_requisites": [
                 {
                  "source_id": 986524819,
                  "target_id": 1413999863,
                  "type": "CurriculumPrerequisite"
                 },
                 {
                  "source_id": 2066269668,
                  "target_id": 1413999863,
                  "type": "CurriculumPrerequisite"
                 },
                 {
                  "source_id": 3693590979,
                  "target_id": 1413999863,
                  "type": "CurriculumPrerequisite"
                 }
                ],
                "id": 1413999863,
                "metrics": {
                 "blocking factor": 0,
                 "centrality": 0,
                 "complexity": 5,
                 "delay factor": 5
                },
                "name": "ECE 3400",
                "nameCanonical": "",
                "nameSub": "Intelligent Physical Systems"
               },
               {
                "credits": 3,
                "curriculum_requisites": [],
                "id": 1637204683,
                "metrics": {
                 "blocking factor": 0,
                 "centrality": 0,
                 "complexity": 1,
                 "delay factor": 1
                },
                "name": " ",
                "nameCanonical": "",
                "nameSub": "Liberal Studies 3"
               }
              ],
              "id": 5,
              "name": "Term 5"
             },
             {
              "curriculum_items": [
               {
                "credits": 3,
                "curriculum_requisites": [],
                "id": 121333895,
                "metrics": {
                 "blocking factor": 0,
                 "centrality": 0,
                 "complexity": 1,
                 "delay factor": 1
                },
                "name": " ",
                "nameCanonical": "",
                "nameSub": "ECE Foundations 2"
               },
               {
                "credits": 3,
                "curriculum_requisites": [],
                "id": 1218469900,
                "metrics": {
                 "blocking factor": 0,
                 "centrality": 0,
                 "complexity": 1,
                 "delay factor": 1
                },
                "name": " ",
                "nameCanonical": "",
                "nameSub": "ECE Foundations 3"
               },
               {
                "credits": 3,
                "curriculum_requisites": [],
                "id": 329854096,
                "metrics": {
                 "blocking factor": 0,
                 "centrality": 0,
                 "complexity": 1,
                 "delay factor": 1
                },
                "name": " ",
                "nameCanonical": "",
                "nameSub": "Outside Tech. Elective 2"
               },
               {
                "credits": 3,
                "curriculum_requisites": [],
                "id": 266560209,
                "metrics": {
                 "blocking factor": 0,
                 "centrality": 0,
                 "complexity": 1,
                 "delay factor": 1
                },
                "name": " ",
                "nameCanonical": "",
                "nameSub": "Elective 2"
               },
               {
                "credits": 3,
                "curriculum_requisites": [],
                "id": 1720176282,
                "metrics": {
                 "blocking factor": 0,
                 "centrality": 0,
                 "complexity": 1,
                 "delay factor": 1
                },
                "name": " ",
                "nameCanonical": "",
                "nameSub": "Liberal Studies 4"
               }
              ],
              "id": 6,
              "name": "Term 6"
             },
             {
              "curriculum_items": [
               {
                "credits": 3,
                "curriculum_requisites": [],
                "id": 3224403962,
                "metrics": {
                 "blocking factor": 0,
                 "centrality": 0,
                 "complexity": 1,
                 "delay factor": 1
                },
                "name": " ",
                "nameCanonical": "",
                "nameSub": "ECE Elective (CDE)"
               },
               {
                "credits": 3,
                "curriculum_requisites": [],
                "id": 2051928090,
                "metrics": {
                 "blocking factor": 0,
                 "centrality": 0,
                 "complexity": 1,
                 "delay factor": 1
                },
                "name": " ",
                "nameCanonical": "",
                "nameSub": "ECE Elective 1"
               },
               {
                "credits": 3,
                "curriculum_requisites": [],
                "id": 329854097,
                "metrics": {
                 "blocking factor": 0,
                 "centrality": 0,
                 "complexity": 1,
                 "delay factor": 1
                },
                "name": " ",
                "nameCanonical": "",
                "nameSub": "Outside Tech. Elective 3"
               },
               {
                "credits": 3,
                "curriculum_requisites": [],
                "id": 3411438757,
                "metrics": {
                 "blocking factor": 0,
                 "centrality": 0,
                 "complexity": 1,
                 "delay factor": 1
                },
                "name": " ",
                "nameCanonical": "",
                "nameSub": "Liberal Studies 5"
               }
              ],
              "id": 7,
              "name": "Term 7"
             },
             {
              "curriculum_items": [
               {
                "credits": 3,
                "curriculum_requisites": [],
                "id": 672829327,
                "metrics": {
                 "blocking factor": 0,
                 "centrality": 0,
                 "complexity": 1,
                 "delay factor": 1
                },
                "name": " ",
                "nameCanonical": "",
                "nameSub": "ECE Elective 2"
               },
               {
                "credits": 3,
                "curriculum_requisites": [],
                "id": 562628024,
                "metrics": {
                 "blocking factor": 0,
                 "centrality": 0,
                 "complexity": 1,
                 "delay factor": 1
                },
                "name": " ",
                "nameCanonical": "",
                "nameSub": "ECE Elective 3"
               },
               {
                "credits": 3,
                "curriculum_requisites": [],
                "id": 3443198019,
                "metrics": {
                 "blocking factor": 0,
                 "centrality": 0,
                 "complexity": 1,
                 "delay factor": 1
                },
                "name": " ",
                "nameCanonical": "",
                "nameSub": "ECE Elective 4"
               },
               {
                "credits": 3,
                "curriculum_requisites": [],
                "id": 2066864807,
                "metrics": {
                 "blocking factor": 0,
                 "centrality": 0,
                 "complexity": 1,
                 "delay factor": 1
                },
                "name": " ",
                "nameCanonical": "",
                "nameSub": "Liberal Studies 6"
               }
              ],
              "id": 8,
              "name": "Term 8"
             }
            ],
            "dp_name": "Cornell University EE Program 4-year Plan",
            "institution": "",
            "name": "Cornell University EE Program"
           },
           "options": {
            "edit": false,
            "hideTerms": false
           }
          }
         }
        },
        "systemjs_options": null
       },
       "nodeType": "Scope",
       "props": {},
       "type": "node"
      },
      "text/html": [
       "<div\n",
       "    class=\"webio-mountpoint\"\n",
       "    data-webio-mountpoint=\"4859853941908715016\"\n",
       ">\n",
       "    <script>\n",
       "    if (window.require && require.defined && require.defined(\"nbextensions/webio-jupyter-notebook\")) {\n",
       "        console.log(\"Jupyter WebIO extension detected, not mounting.\");\n",
       "    } else if (window.WebIO) {\n",
       "        WebIO.mount(\n",
       "            document.querySelector('[data-webio-mountpoint=\"4859853941908715016\"]'),\n",
       "            {\"props\":{},\"nodeType\":\"Scope\",\"type\":\"node\",\"instanceArgs\":{\"imports\":{\"data\":[],\"type\":\"async_block\"},\"id\":\"15211580818023264146\",\"handlers\":{},\"systemjs_options\":null,\"mount_callbacks\":[],\"observables\":{\"curriculum-data\":{\"sync\":true,\"id\":\"12833768650178820664\",\"value\":{\"options\":{\"hideTerms\":false,\"edit\":false},\"curriculum\":{\"name\":\"Cornell University EE Program\",\"dp_name\":\"Cornell University EE Program 4-year Plan\",\"curriculum_terms\":[{\"name\":\"Term 1\",\"curriculum_items\":[{\"curriculum_requisites\":[],\"name\":\"CHEM  2090\",\"metrics\":{\"centrality\":0,\"complexity\":1.0,\"blocking factor\":0,\"delay factor\":1.0},\"nameSub\":\"Engineering Gen. Chemistry\",\"id\":3732084628,\"credits\":4,\"nameCanonical\":\"\"},{\"curriculum_requisites\":[],\"name\":\"MATH 1910\",\"metrics\":{\"centrality\":0,\"complexity\":15.0,\"blocking factor\":10,\"delay factor\":5.0},\"nameSub\":\"Calculus for Engineers\",\"id\":4274504294,\"credits\":4,\"nameCanonical\":\"\"},{\"curriculum_requisites\":[],\"name\":\"ENGRI 1xxx\",\"metrics\":{\"centrality\":0,\"complexity\":1.0,\"blocking factor\":0,\"delay factor\":1.0},\"nameSub\":\"Engineering Distribution 1\",\"id\":3683554939,\"credits\":3,\"nameCanonical\":\"\"},{\"curriculum_requisites\":[],\"name\":\" \",\"metrics\":{\"centrality\":0,\"complexity\":1.0,\"blocking factor\":0,\"delay factor\":1.0},\"nameSub\":\"1st Yr Writing Seminar 1\",\"id\":239686930,\"credits\":3,\"nameCanonical\":\"\"},{\"curriculum_requisites\":[],\"name\":\" \",\"metrics\":{\"centrality\":0,\"complexity\":1.0,\"blocking factor\":0,\"delay factor\":1.0},\"nameSub\":\"PE 1\",\"id\":1523633189,\"credits\":3,\"nameCanonical\":\"\"}],\"id\":1},{\"name\":\"Term 2\",\"curriculum_items\":[{\"curriculum_requisites\":[{\"source_id\":4274504294,\"target_id\":177051436,\"type\":\"CurriculumPrerequisite\"}],\"name\":\"PHYS 1112\",\"metrics\":{\"centrality\":9,\"complexity\":9.0,\"blocking factor\":4,\"delay factor\":5.0},\"nameSub\":\"Physics I: Mechanics & Heat\",\"id\":177051436,\"credits\":4,\"nameCanonical\":\"\"},{\"curriculum_requisites\":[{\"source_id\":4274504294,\"target_id\":2644941087,\"type\":\"CurriculumPrerequisite\"}],\"name\":\"MATH 1920\",\"metrics\":{\"centrality\":28,\"complexity\":13.0,\"blocking factor\":8,\"delay factor\":5.0},\"nameSub\":\"Multivariable Calc. for Engineers\",\"id\":2644941087,\"credits\":4,\"nameCanonical\":\"\"},{\"curriculum_requisites\":[],\"name\":\"CS 111x\",\"metrics\":{\"centrality\":0,\"complexity\":6.0,\"blocking factor\":3,\"delay factor\":3.0},\"nameSub\":\"Intro. to Computing\",\"id\":4226399557,\"credits\":4,\"nameCanonical\":\"\"},{\"curriculum_requisites\":[],\"name\":\" \",\"metrics\":{\"centrality\":0,\"complexity\":1.0,\"blocking factor\":0,\"delay factor\":1.0},\"nameSub\":\"1st Yr Writing Seminar 2\",\"id\":4073672988,\"credits\":3,\"nameCanonical\":\"\"},{\"curriculum_requisites\":[],\"name\":\" \",\"metrics\":{\"centrality\":0,\"complexity\":1.0,\"blocking factor\":0,\"delay factor\":1.0},\"nameSub\":\"PE 2\",\"id\":335346848,\"credits\":3,\"nameCanonical\":\"\"}],\"id\":2},{\"name\":\"Term 3\",\"curriculum_items\":[{\"curriculum_requisites\":[{\"source_id\":177051436,\"target_id\":670953379,\"type\":\"CurriculumPrerequisite\"},{\"source_id\":2644941087,\"target_id\":670953379,\"type\":\"CurriculumPrerequisite\"}],\"name\":\"PHYS 2213\",\"metrics\":{\"centrality\":18,\"complexity\":8.0,\"blocking factor\":3,\"delay factor\":5.0},\"nameSub\":\"Physics II: Electromagnetism\",\"id\":670953379,\"credits\":4,\"nameCanonical\":\"\"},{\"curriculum_requisites\":[{\"source_id\":2644941087,\"target_id\":1926321183,\"type\":\"CurriculumPrerequisite\"}],\"name\":\"MATH 2930\",\"metrics\":{\"centrality\":14,\"complexity\":9.0,\"blocking factor\":4,\"delay factor\":5.0},\"nameSub\":\"Diff. Eqs. for Engineers\",\"id\":1926321183,\"credits\":4,\"nameCanonical\":\"\"},{\"curriculum_requisites\":[{\"source_id\":1926321183,\"target_id\":3693590979,\"type\":\"CurriculumCorequisite\"},{\"source_id\":670953379,\"target_id\":3693590979,\"type\":\"CurriculumCorequisite\"}],\"name\":\"ECE\\/ENGRD 2100\",\"metrics\":{\"centrality\":15,\"complexity\":6.0,\"blocking factor\":1,\"delay factor\":5.0},\"nameSub\":\"Intro. to Circuits\",\"id\":3693590979,\"credits\":4,\"nameCanonical\":\"\"},{\"curriculum_requisites\":[{\"source_id\":4226399557,\"target_id\":986524819,\"type\":\"CurriculumPrerequisite\"}],\"name\":\"ECE\\/ENGRD 2300\",\"metrics\":{\"centrality\":3,\"complexity\":4.0,\"blocking factor\":1,\"delay factor\":3.0},\"nameSub\":\"Digital Logic & Computer Org.\",\"id\":986524819,\"credits\":4,\"nameCanonical\":\"\"},{\"curriculum_requisites\":[],\"name\":\" \",\"metrics\":{\"centrality\":0,\"complexity\":1.0,\"blocking factor\":0,\"delay factor\":1.0},\"nameSub\":\"Liberal Studies 1\",\"id\":1558052753,\"credits\":3,\"nameCanonical\":\"\"}],\"id\":3},{\"name\":\"Term 4\",\"curriculum_items\":[{\"curriculum_requisites\":[{\"source_id\":1926321183,\"target_id\":3377751592,\"type\":\"CurriculumCorequisite\"}],\"name\":\"PHYS 2214\",\"metrics\":{\"centrality\":0,\"complexity\":4.0,\"blocking factor\":0,\"delay factor\":4.0},\"nameSub\":\"Physics III: Oscillations, Waves, and Quantum Physics\",\"id\":3377751592,\"credits\":4,\"nameCanonical\":\"\"},{\"curriculum_requisites\":[{\"source_id\":2644941087,\"target_id\":1135328629,\"type\":\"CurriculumPrerequisite\"}],\"name\":\"MATH 2940\",\"metrics\":{\"centrality\":5,\"complexity\":7.0,\"blocking factor\":2,\"delay factor\":5.0},\"nameSub\":\"Linear Algebra for Engineers\",\"id\":1135328629,\"credits\":4,\"nameCanonical\":\"\"},{\"curriculum_requisites\":[{\"source_id\":670953379,\"target_id\":1098106156,\"type\":\"CurriculumPrerequisite\"}],\"name\":\"ENGRD 2xxx\",\"metrics\":{\"centrality\":0,\"complexity\":4.0,\"blocking factor\":0,\"delay factor\":4.0},\"nameSub\":\"Engineering Distribution 2\",\"id\":1098106156,\"credits\":3,\"nameCanonical\":\"\"},{\"curriculum_requisites\":[{\"source_id\":1926321183,\"target_id\":2066269668,\"type\":\"CurriculumPrerequisite\"},{\"source_id\":1135328629,\"target_id\":2066269668,\"type\":\"CurriculumCorequisite\"}],\"name\":\"ECE\\/ENGRD 2200\\/2220\",\"metrics\":{\"centrality\":10,\"complexity\":6.0,\"blocking factor\":1,\"delay factor\":5.0},\"nameSub\":\"Signals and Information\",\"id\":2066269668,\"credits\":4,\"nameCanonical\":\"\"},{\"curriculum_requisites\":[],\"name\":\" \",\"metrics\":{\"centrality\":0,\"complexity\":1.0,\"blocking factor\":0,\"delay factor\":1.0},\"nameSub\":\"Liberal Studies 2\",\"id\":2054345146,\"credits\":3,\"nameCanonical\":\"\"}],\"id\":4},{\"name\":\"Term 5\",\"curriculum_items\":[{\"curriculum_requisites\":[],\"name\":\" \",\"metrics\":{\"centrality\":0,\"complexity\":1.0,\"blocking factor\":0,\"delay factor\":1.0},\"nameSub\":\"ECE Foundations 1\",\"id\":743914989,\"credits\":3,\"nameCanonical\":\"\"},{\"curriculum_requisites\":[],\"name\":\" \",\"metrics\":{\"centrality\":0,\"complexity\":1.0,\"blocking factor\":0,\"delay factor\":1.0},\"nameSub\":\"Elective 1\",\"id\":2064696548,\"credits\":3,\"nameCanonical\":\"\"},{\"curriculum_requisites\":[{\"source_id\":4226399557,\"target_id\":329854095,\"type\":\"CurriculumPrerequisite\"}],\"name\":\" \",\"metrics\":{\"centrality\":0,\"complexity\":2.0,\"blocking factor\":0,\"delay factor\":2.0},\"nameSub\":\"Outside Tech. Elective 1\",\"id\":329854095,\"credits\":3,\"nameCanonical\":\"\"},{\"curriculum_requisites\":[{\"source_id\":986524819,\"target_id\":1413999863,\"type\":\"CurriculumPrerequisite\"},{\"source_id\":2066269668,\"target_id\":1413999863,\"type\":\"CurriculumPrerequisite\"},{\"source_id\":3693590979,\"target_id\":1413999863,\"type\":\"CurriculumPrerequisite\"}],\"name\":\"ECE 3400\",\"metrics\":{\"centrality\":0,\"complexity\":5.0,\"blocking factor\":0,\"delay factor\":5.0},\"nameSub\":\"Intelligent Physical Systems\",\"id\":1413999863,\"credits\":3,\"nameCanonical\":\"\"},{\"curriculum_requisites\":[],\"name\":\" \",\"metrics\":{\"centrality\":0,\"complexity\":1.0,\"blocking factor\":0,\"delay factor\":1.0},\"nameSub\":\"Liberal Studies 3\",\"id\":1637204683,\"credits\":3,\"nameCanonical\":\"\"}],\"id\":5},{\"name\":\"Term 6\",\"curriculum_items\":[{\"curriculum_requisites\":[],\"name\":\" \",\"metrics\":{\"centrality\":0,\"complexity\":1.0,\"blocking factor\":0,\"delay factor\":1.0},\"nameSub\":\"ECE Foundations 2\",\"id\":121333895,\"credits\":3,\"nameCanonical\":\"\"},{\"curriculum_requisites\":[],\"name\":\" \",\"metrics\":{\"centrality\":0,\"complexity\":1.0,\"blocking factor\":0,\"delay factor\":1.0},\"nameSub\":\"ECE Foundations 3\",\"id\":1218469900,\"credits\":3,\"nameCanonical\":\"\"},{\"curriculum_requisites\":[],\"name\":\" \",\"metrics\":{\"centrality\":0,\"complexity\":1.0,\"blocking factor\":0,\"delay factor\":1.0},\"nameSub\":\"Outside Tech. Elective 2\",\"id\":329854096,\"credits\":3,\"nameCanonical\":\"\"},{\"curriculum_requisites\":[],\"name\":\" \",\"metrics\":{\"centrality\":0,\"complexity\":1.0,\"blocking factor\":0,\"delay factor\":1.0},\"nameSub\":\"Elective 2\",\"id\":266560209,\"credits\":3,\"nameCanonical\":\"\"},{\"curriculum_requisites\":[],\"name\":\" \",\"metrics\":{\"centrality\":0,\"complexity\":1.0,\"blocking factor\":0,\"delay factor\":1.0},\"nameSub\":\"Liberal Studies 4\",\"id\":1720176282,\"credits\":3,\"nameCanonical\":\"\"}],\"id\":6},{\"name\":\"Term 7\",\"curriculum_items\":[{\"curriculum_requisites\":[],\"name\":\" \",\"metrics\":{\"centrality\":0,\"complexity\":1.0,\"blocking factor\":0,\"delay factor\":1.0},\"nameSub\":\"ECE Elective (CDE)\",\"id\":3224403962,\"credits\":3,\"nameCanonical\":\"\"},{\"curriculum_requisites\":[],\"name\":\" \",\"metrics\":{\"centrality\":0,\"complexity\":1.0,\"blocking factor\":0,\"delay factor\":1.0},\"nameSub\":\"ECE Elective 1\",\"id\":2051928090,\"credits\":3,\"nameCanonical\":\"\"},{\"curriculum_requisites\":[],\"name\":\" \",\"metrics\":{\"centrality\":0,\"complexity\":1.0,\"blocking factor\":0,\"delay factor\":1.0},\"nameSub\":\"Outside Tech. Elective 3\",\"id\":329854097,\"credits\":3,\"nameCanonical\":\"\"},{\"curriculum_requisites\":[],\"name\":\" \",\"metrics\":{\"centrality\":0,\"complexity\":1.0,\"blocking factor\":0,\"delay factor\":1.0},\"nameSub\":\"Liberal Studies 5\",\"id\":3411438757,\"credits\":3,\"nameCanonical\":\"\"}],\"id\":7},{\"name\":\"Term 8\",\"curriculum_items\":[{\"curriculum_requisites\":[],\"name\":\" \",\"metrics\":{\"centrality\":0,\"complexity\":1.0,\"blocking factor\":0,\"delay factor\":1.0},\"nameSub\":\"ECE Elective 2\",\"id\":672829327,\"credits\":3,\"nameCanonical\":\"\"},{\"curriculum_requisites\":[],\"name\":\" \",\"metrics\":{\"centrality\":0,\"complexity\":1.0,\"blocking factor\":0,\"delay factor\":1.0},\"nameSub\":\"ECE Elective 3\",\"id\":562628024,\"credits\":3,\"nameCanonical\":\"\"},{\"curriculum_requisites\":[],\"name\":\" \",\"metrics\":{\"centrality\":0,\"complexity\":1.0,\"blocking factor\":0,\"delay factor\":1.0},\"nameSub\":\"ECE Elective 4\",\"id\":3443198019,\"credits\":3,\"nameCanonical\":\"\"},{\"curriculum_requisites\":[],\"name\":\" \",\"metrics\":{\"centrality\":0,\"complexity\":1.0,\"blocking factor\":0,\"delay factor\":1.0},\"nameSub\":\"Liberal Studies 6\",\"id\":2066864807,\"credits\":3,\"nameCanonical\":\"\"}],\"id\":8}],\"institution\":\"\"}}}}},\"children\":[{\"props\":{\"src\":\"https:\\/\\/curricula-api-embed.damoursystems.com\\/\",\"id\":\"curriculum\",\"events\":{\"load\":\"(function (){this.contentWindow.postMessage({\\\"options\\\":{\\\"hideTerms\\\":false,\\\"edit\\\":false},\\\"curriculum\\\":{\\\"name\\\":\\\"Cornell University EE Program\\\",\\\"dp_name\\\":\\\"Cornell University EE Program 4-year Plan\\\",\\\"curriculum_terms\\\":[{\\\"name\\\":\\\"Term 1\\\",\\\"curriculum_items\\\":[{\\\"curriculum_requisites\\\":[],\\\"name\\\":\\\"CHEM  2090\\\",\\\"metrics\\\":{\\\"centrality\\\":0,\\\"complexity\\\":1.0,\\\"blocking factor\\\":0,\\\"delay factor\\\":1.0},\\\"nameSub\\\":\\\"Engineering Gen. Chemistry\\\",\\\"id\\\":3732084628,\\\"credits\\\":4,\\\"nameCanonical\\\":\\\"\\\"},{\\\"curriculum_requisites\\\":[],\\\"name\\\":\\\"MATH 1910\\\",\\\"metrics\\\":{\\\"centrality\\\":0,\\\"complexity\\\":15.0,\\\"blocking factor\\\":10,\\\"delay factor\\\":5.0},\\\"nameSub\\\":\\\"Calculus for Engineers\\\",\\\"id\\\":4274504294,\\\"credits\\\":4,\\\"nameCanonical\\\":\\\"\\\"},{\\\"curriculum_requisites\\\":[],\\\"name\\\":\\\"ENGRI 1xxx\\\",\\\"metrics\\\":{\\\"centrality\\\":0,\\\"complexity\\\":1.0,\\\"blocking factor\\\":0,\\\"delay factor\\\":1.0},\\\"nameSub\\\":\\\"Engineering Distribution 1\\\",\\\"id\\\":3683554939,\\\"credits\\\":3,\\\"nameCanonical\\\":\\\"\\\"},{\\\"curriculum_requisites\\\":[],\\\"name\\\":\\\" \\\",\\\"metrics\\\":{\\\"centrality\\\":0,\\\"complexity\\\":1.0,\\\"blocking factor\\\":0,\\\"delay factor\\\":1.0},\\\"nameSub\\\":\\\"1st Yr Writing Seminar 1\\\",\\\"id\\\":239686930,\\\"credits\\\":3,\\\"nameCanonical\\\":\\\"\\\"},{\\\"curriculum_requisites\\\":[],\\\"name\\\":\\\" \\\",\\\"metrics\\\":{\\\"centrality\\\":0,\\\"complexity\\\":1.0,\\\"blocking factor\\\":0,\\\"delay factor\\\":1.0},\\\"nameSub\\\":\\\"PE 1\\\",\\\"id\\\":1523633189,\\\"credits\\\":3,\\\"nameCanonical\\\":\\\"\\\"}],\\\"id\\\":1},{\\\"name\\\":\\\"Term 2\\\",\\\"curriculum_items\\\":[{\\\"curriculum_requisites\\\":[{\\\"source_id\\\":4274504294,\\\"target_id\\\":177051436,\\\"type\\\":\\\"CurriculumPrerequisite\\\"}],\\\"name\\\":\\\"PHYS 1112\\\",\\\"metrics\\\":{\\\"centrality\\\":9,\\\"complexity\\\":9.0,\\\"blocking factor\\\":4,\\\"delay factor\\\":5.0},\\\"nameSub\\\":\\\"Physics I: Mechanics & Heat\\\",\\\"id\\\":177051436,\\\"credits\\\":4,\\\"nameCanonical\\\":\\\"\\\"},{\\\"curriculum_requisites\\\":[{\\\"source_id\\\":4274504294,\\\"target_id\\\":2644941087,\\\"type\\\":\\\"CurriculumPrerequisite\\\"}],\\\"name\\\":\\\"MATH 1920\\\",\\\"metrics\\\":{\\\"centrality\\\":28,\\\"complexity\\\":13.0,\\\"blocking factor\\\":8,\\\"delay factor\\\":5.0},\\\"nameSub\\\":\\\"Multivariable Calc. for Engineers\\\",\\\"id\\\":2644941087,\\\"credits\\\":4,\\\"nameCanonical\\\":\\\"\\\"},{\\\"curriculum_requisites\\\":[],\\\"name\\\":\\\"CS 111x\\\",\\\"metrics\\\":{\\\"centrality\\\":0,\\\"complexity\\\":6.0,\\\"blocking factor\\\":3,\\\"delay factor\\\":3.0},\\\"nameSub\\\":\\\"Intro. to Computing\\\",\\\"id\\\":4226399557,\\\"credits\\\":4,\\\"nameCanonical\\\":\\\"\\\"},{\\\"curriculum_requisites\\\":[],\\\"name\\\":\\\" \\\",\\\"metrics\\\":{\\\"centrality\\\":0,\\\"complexity\\\":1.0,\\\"blocking factor\\\":0,\\\"delay factor\\\":1.0},\\\"nameSub\\\":\\\"1st Yr Writing Seminar 2\\\",\\\"id\\\":4073672988,\\\"credits\\\":3,\\\"nameCanonical\\\":\\\"\\\"},{\\\"curriculum_requisites\\\":[],\\\"name\\\":\\\" \\\",\\\"metrics\\\":{\\\"centrality\\\":0,\\\"complexity\\\":1.0,\\\"blocking factor\\\":0,\\\"delay factor\\\":1.0},\\\"nameSub\\\":\\\"PE 2\\\",\\\"id\\\":335346848,\\\"credits\\\":3,\\\"nameCanonical\\\":\\\"\\\"}],\\\"id\\\":2},{\\\"name\\\":\\\"Term 3\\\",\\\"curriculum_items\\\":[{\\\"curriculum_requisites\\\":[{\\\"source_id\\\":177051436,\\\"target_id\\\":670953379,\\\"type\\\":\\\"CurriculumPrerequisite\\\"},{\\\"source_id\\\":2644941087,\\\"target_id\\\":670953379,\\\"type\\\":\\\"CurriculumPrerequisite\\\"}],\\\"name\\\":\\\"PHYS 2213\\\",\\\"metrics\\\":{\\\"centrality\\\":18,\\\"complexity\\\":8.0,\\\"blocking factor\\\":3,\\\"delay factor\\\":5.0},\\\"nameSub\\\":\\\"Physics II: Electromagnetism\\\",\\\"id\\\":670953379,\\\"credits\\\":4,\\\"nameCanonical\\\":\\\"\\\"},{\\\"curriculum_requisites\\\":[{\\\"source_id\\\":2644941087,\\\"target_id\\\":1926321183,\\\"type\\\":\\\"CurriculumPrerequisite\\\"}],\\\"name\\\":\\\"MATH 2930\\\",\\\"metrics\\\":{\\\"centrality\\\":14,\\\"complexity\\\":9.0,\\\"blocking factor\\\":4,\\\"delay factor\\\":5.0},\\\"nameSub\\\":\\\"Diff. Eqs. for Engineers\\\",\\\"id\\\":1926321183,\\\"credits\\\":4,\\\"nameCanonical\\\":\\\"\\\"},{\\\"curriculum_requisites\\\":[{\\\"source_id\\\":1926321183,\\\"target_id\\\":3693590979,\\\"type\\\":\\\"CurriculumCorequisite\\\"},{\\\"source_id\\\":670953379,\\\"target_id\\\":3693590979,\\\"type\\\":\\\"CurriculumCorequisite\\\"}],\\\"name\\\":\\\"ECE\\/ENGRD 2100\\\",\\\"metrics\\\":{\\\"centrality\\\":15,\\\"complexity\\\":6.0,\\\"blocking factor\\\":1,\\\"delay factor\\\":5.0},\\\"nameSub\\\":\\\"Intro. to Circuits\\\",\\\"id\\\":3693590979,\\\"credits\\\":4,\\\"nameCanonical\\\":\\\"\\\"},{\\\"curriculum_requisites\\\":[{\\\"source_id\\\":4226399557,\\\"target_id\\\":986524819,\\\"type\\\":\\\"CurriculumPrerequisite\\\"}],\\\"name\\\":\\\"ECE\\/ENGRD 2300\\\",\\\"metrics\\\":{\\\"centrality\\\":3,\\\"complexity\\\":4.0,\\\"blocking factor\\\":1,\\\"delay factor\\\":3.0},\\\"nameSub\\\":\\\"Digital Logic & Computer Org.\\\",\\\"id\\\":986524819,\\\"credits\\\":4,\\\"nameCanonical\\\":\\\"\\\"},{\\\"curriculum_requisites\\\":[],\\\"name\\\":\\\" \\\",\\\"metrics\\\":{\\\"centrality\\\":0,\\\"complexity\\\":1.0,\\\"blocking factor\\\":0,\\\"delay factor\\\":1.0},\\\"nameSub\\\":\\\"Liberal Studies 1\\\",\\\"id\\\":1558052753,\\\"credits\\\":3,\\\"nameCanonical\\\":\\\"\\\"}],\\\"id\\\":3},{\\\"name\\\":\\\"Term 4\\\",\\\"curriculum_items\\\":[{\\\"curriculum_requisites\\\":[{\\\"source_id\\\":1926321183,\\\"target_id\\\":3377751592,\\\"type\\\":\\\"CurriculumCorequisite\\\"}],\\\"name\\\":\\\"PHYS 2214\\\",\\\"metrics\\\":{\\\"centrality\\\":0,\\\"complexity\\\":4.0,\\\"blocking factor\\\":0,\\\"delay factor\\\":4.0},\\\"nameSub\\\":\\\"Physics III: Oscillations, Waves, and Quantum Physics\\\",\\\"id\\\":3377751592,\\\"credits\\\":4,\\\"nameCanonical\\\":\\\"\\\"},{\\\"curriculum_requisites\\\":[{\\\"source_id\\\":2644941087,\\\"target_id\\\":1135328629,\\\"type\\\":\\\"CurriculumPrerequisite\\\"}],\\\"name\\\":\\\"MATH 2940\\\",\\\"metrics\\\":{\\\"centrality\\\":5,\\\"complexity\\\":7.0,\\\"blocking factor\\\":2,\\\"delay factor\\\":5.0},\\\"nameSub\\\":\\\"Linear Algebra for Engineers\\\",\\\"id\\\":1135328629,\\\"credits\\\":4,\\\"nameCanonical\\\":\\\"\\\"},{\\\"curriculum_requisites\\\":[{\\\"source_id\\\":670953379,\\\"target_id\\\":1098106156,\\\"type\\\":\\\"CurriculumPrerequisite\\\"}],\\\"name\\\":\\\"ENGRD 2xxx\\\",\\\"metrics\\\":{\\\"centrality\\\":0,\\\"complexity\\\":4.0,\\\"blocking factor\\\":0,\\\"delay factor\\\":4.0},\\\"nameSub\\\":\\\"Engineering Distribution 2\\\",\\\"id\\\":1098106156,\\\"credits\\\":3,\\\"nameCanonical\\\":\\\"\\\"},{\\\"curriculum_requisites\\\":[{\\\"source_id\\\":1926321183,\\\"target_id\\\":2066269668,\\\"type\\\":\\\"CurriculumPrerequisite\\\"},{\\\"source_id\\\":1135328629,\\\"target_id\\\":2066269668,\\\"type\\\":\\\"CurriculumCorequisite\\\"}],\\\"name\\\":\\\"ECE\\/ENGRD 2200\\/2220\\\",\\\"metrics\\\":{\\\"centrality\\\":10,\\\"complexity\\\":6.0,\\\"blocking factor\\\":1,\\\"delay factor\\\":5.0},\\\"nameSub\\\":\\\"Signals and Information\\\",\\\"id\\\":2066269668,\\\"credits\\\":4,\\\"nameCanonical\\\":\\\"\\\"},{\\\"curriculum_requisites\\\":[],\\\"name\\\":\\\" \\\",\\\"metrics\\\":{\\\"centrality\\\":0,\\\"complexity\\\":1.0,\\\"blocking factor\\\":0,\\\"delay factor\\\":1.0},\\\"nameSub\\\":\\\"Liberal Studies 2\\\",\\\"id\\\":2054345146,\\\"credits\\\":3,\\\"nameCanonical\\\":\\\"\\\"}],\\\"id\\\":4},{\\\"name\\\":\\\"Term 5\\\",\\\"curriculum_items\\\":[{\\\"curriculum_requisites\\\":[],\\\"name\\\":\\\" \\\",\\\"metrics\\\":{\\\"centrality\\\":0,\\\"complexity\\\":1.0,\\\"blocking factor\\\":0,\\\"delay factor\\\":1.0},\\\"nameSub\\\":\\\"ECE Foundations 1\\\",\\\"id\\\":743914989,\\\"credits\\\":3,\\\"nameCanonical\\\":\\\"\\\"},{\\\"curriculum_requisites\\\":[],\\\"name\\\":\\\" \\\",\\\"metrics\\\":{\\\"centrality\\\":0,\\\"complexity\\\":1.0,\\\"blocking factor\\\":0,\\\"delay factor\\\":1.0},\\\"nameSub\\\":\\\"Elective 1\\\",\\\"id\\\":2064696548,\\\"credits\\\":3,\\\"nameCanonical\\\":\\\"\\\"},{\\\"curriculum_requisites\\\":[{\\\"source_id\\\":4226399557,\\\"target_id\\\":329854095,\\\"type\\\":\\\"CurriculumPrerequisite\\\"}],\\\"name\\\":\\\" \\\",\\\"metrics\\\":{\\\"centrality\\\":0,\\\"complexity\\\":2.0,\\\"blocking factor\\\":0,\\\"delay factor\\\":2.0},\\\"nameSub\\\":\\\"Outside Tech. Elective 1\\\",\\\"id\\\":329854095,\\\"credits\\\":3,\\\"nameCanonical\\\":\\\"\\\"},{\\\"curriculum_requisites\\\":[{\\\"source_id\\\":986524819,\\\"target_id\\\":1413999863,\\\"type\\\":\\\"CurriculumPrerequisite\\\"},{\\\"source_id\\\":2066269668,\\\"target_id\\\":1413999863,\\\"type\\\":\\\"CurriculumPrerequisite\\\"},{\\\"source_id\\\":3693590979,\\\"target_id\\\":1413999863,\\\"type\\\":\\\"CurriculumPrerequisite\\\"}],\\\"name\\\":\\\"ECE 3400\\\",\\\"metrics\\\":{\\\"centrality\\\":0,\\\"complexity\\\":5.0,\\\"blocking factor\\\":0,\\\"delay factor\\\":5.0},\\\"nameSub\\\":\\\"Intelligent Physical Systems\\\",\\\"id\\\":1413999863,\\\"credits\\\":3,\\\"nameCanonical\\\":\\\"\\\"},{\\\"curriculum_requisites\\\":[],\\\"name\\\":\\\" \\\",\\\"metrics\\\":{\\\"centrality\\\":0,\\\"complexity\\\":1.0,\\\"blocking factor\\\":0,\\\"delay factor\\\":1.0},\\\"nameSub\\\":\\\"Liberal Studies 3\\\",\\\"id\\\":1637204683,\\\"credits\\\":3,\\\"nameCanonical\\\":\\\"\\\"}],\\\"id\\\":5},{\\\"name\\\":\\\"Term 6\\\",\\\"curriculum_items\\\":[{\\\"curriculum_requisites\\\":[],\\\"name\\\":\\\" \\\",\\\"metrics\\\":{\\\"centrality\\\":0,\\\"complexity\\\":1.0,\\\"blocking factor\\\":0,\\\"delay factor\\\":1.0},\\\"nameSub\\\":\\\"ECE Foundations 2\\\",\\\"id\\\":121333895,\\\"credits\\\":3,\\\"nameCanonical\\\":\\\"\\\"},{\\\"curriculum_requisites\\\":[],\\\"name\\\":\\\" \\\",\\\"metrics\\\":{\\\"centrality\\\":0,\\\"complexity\\\":1.0,\\\"blocking factor\\\":0,\\\"delay factor\\\":1.0},\\\"nameSub\\\":\\\"ECE Foundations 3\\\",\\\"id\\\":1218469900,\\\"credits\\\":3,\\\"nameCanonical\\\":\\\"\\\"},{\\\"curriculum_requisites\\\":[],\\\"name\\\":\\\" \\\",\\\"metrics\\\":{\\\"centrality\\\":0,\\\"complexity\\\":1.0,\\\"blocking factor\\\":0,\\\"delay factor\\\":1.0},\\\"nameSub\\\":\\\"Outside Tech. Elective 2\\\",\\\"id\\\":329854096,\\\"credits\\\":3,\\\"nameCanonical\\\":\\\"\\\"},{\\\"curriculum_requisites\\\":[],\\\"name\\\":\\\" \\\",\\\"metrics\\\":{\\\"centrality\\\":0,\\\"complexity\\\":1.0,\\\"blocking factor\\\":0,\\\"delay factor\\\":1.0},\\\"nameSub\\\":\\\"Elective 2\\\",\\\"id\\\":266560209,\\\"credits\\\":3,\\\"nameCanonical\\\":\\\"\\\"},{\\\"curriculum_requisites\\\":[],\\\"name\\\":\\\" \\\",\\\"metrics\\\":{\\\"centrality\\\":0,\\\"complexity\\\":1.0,\\\"blocking factor\\\":0,\\\"delay factor\\\":1.0},\\\"nameSub\\\":\\\"Liberal Studies 4\\\",\\\"id\\\":1720176282,\\\"credits\\\":3,\\\"nameCanonical\\\":\\\"\\\"}],\\\"id\\\":6},{\\\"name\\\":\\\"Term 7\\\",\\\"curriculum_items\\\":[{\\\"curriculum_requisites\\\":[],\\\"name\\\":\\\" \\\",\\\"metrics\\\":{\\\"centrality\\\":0,\\\"complexity\\\":1.0,\\\"blocking factor\\\":0,\\\"delay factor\\\":1.0},\\\"nameSub\\\":\\\"ECE Elective (CDE)\\\",\\\"id\\\":3224403962,\\\"credits\\\":3,\\\"nameCanonical\\\":\\\"\\\"},{\\\"curriculum_requisites\\\":[],\\\"name\\\":\\\" \\\",\\\"metrics\\\":{\\\"centrality\\\":0,\\\"complexity\\\":1.0,\\\"blocking factor\\\":0,\\\"delay factor\\\":1.0},\\\"nameSub\\\":\\\"ECE Elective 1\\\",\\\"id\\\":2051928090,\\\"credits\\\":3,\\\"nameCanonical\\\":\\\"\\\"},{\\\"curriculum_requisites\\\":[],\\\"name\\\":\\\" \\\",\\\"metrics\\\":{\\\"centrality\\\":0,\\\"complexity\\\":1.0,\\\"blocking factor\\\":0,\\\"delay factor\\\":1.0},\\\"nameSub\\\":\\\"Outside Tech. Elective 3\\\",\\\"id\\\":329854097,\\\"credits\\\":3,\\\"nameCanonical\\\":\\\"\\\"},{\\\"curriculum_requisites\\\":[],\\\"name\\\":\\\" \\\",\\\"metrics\\\":{\\\"centrality\\\":0,\\\"complexity\\\":1.0,\\\"blocking factor\\\":0,\\\"delay factor\\\":1.0},\\\"nameSub\\\":\\\"Liberal Studies 5\\\",\\\"id\\\":3411438757,\\\"credits\\\":3,\\\"nameCanonical\\\":\\\"\\\"}],\\\"id\\\":7},{\\\"name\\\":\\\"Term 8\\\",\\\"curriculum_items\\\":[{\\\"curriculum_requisites\\\":[],\\\"name\\\":\\\" \\\",\\\"metrics\\\":{\\\"centrality\\\":0,\\\"complexity\\\":1.0,\\\"blocking factor\\\":0,\\\"delay factor\\\":1.0},\\\"nameSub\\\":\\\"ECE Elective 2\\\",\\\"id\\\":672829327,\\\"credits\\\":3,\\\"nameCanonical\\\":\\\"\\\"},{\\\"curriculum_requisites\\\":[],\\\"name\\\":\\\" \\\",\\\"metrics\\\":{\\\"centrality\\\":0,\\\"complexity\\\":1.0,\\\"blocking factor\\\":0,\\\"delay factor\\\":1.0},\\\"nameSub\\\":\\\"ECE Elective 3\\\",\\\"id\\\":562628024,\\\"credits\\\":3,\\\"nameCanonical\\\":\\\"\\\"},{\\\"curriculum_requisites\\\":[],\\\"name\\\":\\\" \\\",\\\"metrics\\\":{\\\"centrality\\\":0,\\\"complexity\\\":1.0,\\\"blocking factor\\\":0,\\\"delay factor\\\":1.0},\\\"nameSub\\\":\\\"ECE Elective 4\\\",\\\"id\\\":3443198019,\\\"credits\\\":3,\\\"nameCanonical\\\":\\\"\\\"},{\\\"curriculum_requisites\\\":[],\\\"name\\\":\\\" \\\",\\\"metrics\\\":{\\\"centrality\\\":0,\\\"complexity\\\":1.0,\\\"blocking factor\\\":0,\\\"delay factor\\\":1.0},\\\"nameSub\\\":\\\"Liberal Studies 6\\\",\\\"id\\\":2066864807,\\\"credits\\\":3,\\\"nameCanonical\\\":\\\"\\\"}],\\\"id\\\":8}],\\\"institution\\\":\\\"\\\"}},\\\"*\\\"); window.removeEventListener(\\\"message\\\",window.messageReceived); window.messageReceived=(function (event){return (event.data.curriculum!==undefined) ? (WebIO.setval({\\\"name\\\":\\\"curriculum-data\\\",\\\"scope\\\":\\\"15211580818023264146\\\",\\\"id\\\":\\\"12833768650178820664\\\",\\\"type\\\":\\\"observable\\\"},event.data.curriculum)) : undefined}); return window.addEventListener(\\\"message\\\",window.messageReceived)})\"},\"style\":{\"padding\":\"0\",\"height\":\"90vh\",\"margin\":\"0\",\"border\":\"none\",\"width\":\"100%\"}},\"nodeType\":\"DOM\",\"type\":\"node\",\"instanceArgs\":{\"namespace\":\"html\",\"tag\":\"iframe\"},\"children\":[\"\"]}]},\n",
       "            window,\n",
       "        );\n",
       "    } else {\n",
       "        document\n",
       "            .querySelector('[data-webio-mountpoint=\"4859853941908715016\"]')\n",
       "            .innerHTML = (\n",
       "                '<div style=\"padding: 1em; background-color: #f8d6da; border: 1px solid #f5c6cb\">' +\n",
       "                '<p><strong>WebIO not detected.</strong></p>' +\n",
       "                '<p>Please read ' +\n",
       "                '<a href=\"https://juliagizmos.github.io/WebIO.jl/latest/troubleshooting/not-detected/\" target=\"_blank\">the troubleshooting guide</a> ' +\n",
       "                'for more information on how to resolve this issue.</p>' +\n",
       "                '<p><a href=\"https://juliagizmos.github.io/WebIO.jl/latest/troubleshooting/not-detected/\" target=\"_blank\">https://juliagizmos.github.io/WebIO.jl/latest/troubleshooting/not-detected/</a></p>' +\n",
       "                '</div>'\n",
       "            );\n",
       "    }\n",
       "    </script>\n",
       "</div>\n"
      ],
      "text/plain": [
       "WebIO.Scope(WebIO.Node{WebIO.DOM}(WebIO.DOM(:html, :iframe), Any[\"\"], Dict{Symbol, Any}(:src => \"https://curricula-api-embed.damoursystems.com/\", :id => \"curriculum\", :events => Dict{Symbol, WebIO.JSString}(:load => WebIO.JSString(\"(function (){this.contentWindow.postMessage({\\\"options\\\":{\\\"hideTerms\\\":false,\\\"edit\\\":false},\\\"curriculum\\\":{\\\"name\\\":\\\"Cornell University EE Program\\\",\\\"dp_name\\\":\\\"Cornell University EE Program 4-year Plan\\\",\\\"curriculum_terms\\\":[{\\\"name\\\":\\\"Term 1\\\",\\\"curriculum_items\\\":[{\\\"curriculum_requisites\\\":[],\\\"name\\\":\\\"CHEM  2090\\\",\\\"metrics\\\":{\\\"centrality\\\":0,\\\"complexity\\\":1.0,\\\"blocking factor\\\":0,\\\"delay factor\\\":1.0},\\\"nameSub\\\":\\\"Engineering Gen. Chemistry\\\",\\\"id\\\":3732084628,\\\"credits\\\":4,\\\"nameCanonical\\\":\\\"\\\"},{\\\"curriculum_requisites\\\":[],\\\"name\\\":\\\"MATH 1910\\\",\\\"metrics\\\":{\\\"centrality\\\":0,\\\"complexity\\\":15.0,\\\"blocking factor\\\":10,\\\"delay factor\\\":5.0},\\\"nameSub\\\":\\\"Calculus for Engineers\\\",\\\"id\\\":4274504294,\\\"credits\\\":4,\\\"nameCanonical\\\":\\\"\\\"},{\\\"curriculum_requisites\\\":[],\\\"name\\\":\\\"ENGRI 1xxx\\\",\\\"metrics\\\":{\\\"centrality\\\":0,\\\"complexity\\\":1.0,\\\"blocking factor\\\":0,\\\"delay factor\\\":1.0},\\\"nameSub\\\":\\\"Engineering Distribution 1\\\",\\\"id\\\":3683554939,\\\"credits\\\":3,\\\"nameCanonical\\\":\\\"\\\"},{\\\"curriculum_requisites\\\":[],\\\"name\\\":\\\" \\\",\\\"metrics\\\":{\\\"centrality\\\":0,\\\"complexity\\\":1.0,\\\"blocking factor\\\":0,\\\"delay factor\\\":1.0},\\\"nameSub\\\":\\\"1st Yr Writing Seminar 1\\\",\\\"id\\\":239686930,\\\"credits\\\":3,\\\"nameCanonical\\\":\\\"\\\"},{\\\"curriculum_requisites\\\":[],\\\"name\\\":\\\" \\\",\\\"metrics\\\":{\\\"centrality\\\":0,\\\"complexity\\\":1.0,\\\"blocking factor\\\":0,\\\"delay factor\\\":1.0},\\\"nameSub\\\":\\\"PE 1\\\",\\\"id\\\":1523633189,\\\"credits\\\":3,\\\"nameCanonical\\\":\\\"\\\"}],\\\"id\\\":1},{\\\"name\\\":\\\"Term 2\\\",\\\"curriculum_items\\\":[{\\\"curriculum_requisites\\\":[{\\\"source_id\\\":4274504294,\\\"target_id\\\":177051436,\\\"type\\\":\\\"CurriculumPrerequisite\\\"}],\\\"name\\\":\\\"PHYS 1112\\\",\\\"metrics\\\":{\\\"centrality\\\":9,\\\"complexity\\\":9.0,\\\"blocking factor\\\":4,\\\"delay factor\\\":5.0},\\\"nameSub\\\":\\\"Physics I: Mechanics & Heat\\\",\\\"id\\\":177051436,\\\"credits\\\":4,\\\"nameCanonical\\\":\\\"\\\"},{\\\"curriculum_requisites\\\":[{\\\"source_id\\\":4274504294,\\\"target_id\\\":2644941087,\\\"type\\\":\\\"CurriculumPrerequisite\\\"}],\\\"name\\\":\\\"MATH 1920\\\",\\\"metrics\\\":{\\\"centrality\\\":28,\\\"complexity\\\":13.0,\\\"blocking factor\\\":8,\\\"delay factor\\\":5.0},\\\"nameSub\\\":\\\"Multivariable Calc. for Engineers\\\",\\\"id\\\":2644941087,\\\"credits\\\":4,\\\"nameCanonical\\\":\\\"\\\"},{\\\"curriculum_requisites\\\":[],\\\"name\\\":\\\"CS 111x\\\",\\\"metrics\\\":{\\\"centrality\\\":0,\\\"complexity\\\":6.0,\\\"blocking factor\\\":3,\\\"delay factor\\\":3.0},\\\"nameSub\\\":\\\"Intro. to Computing\\\",\\\"id\\\":4226399557,\\\"credits\\\":4,\\\"nameCanonical\\\":\\\"\\\"},{\\\"curriculum_requisites\\\":[],\\\"name\\\":\\\" \\\",\\\"metrics\\\":{\\\"centrality\\\":0,\\\"complexity\\\":1.0,\\\"blocking factor\\\":0,\\\"delay factor\\\":1.0},\\\"nameSub\\\":\\\"1st Yr Writing Seminar 2\\\",\\\"id\\\":4073672988,\\\"credits\\\":3,\\\"nameCanonical\\\":\\\"\\\"},{\\\"curriculum_requisites\\\":[],\\\"name\\\":\\\" \\\",\\\"metrics\\\":{\\\"centrality\\\":0,\\\"complexity\\\":1.0,\\\"blocking factor\\\":0,\\\"delay factor\\\":1.0},\\\"nameSub\\\":\\\"PE 2\\\",\\\"id\\\":335346848,\\\"credits\\\":3,\\\"nameCanonical\\\":\\\"\\\"}],\\\"id\\\":2},{\\\"name\\\":\\\"Term 3\\\",\\\"curriculum_items\\\":[{\\\"curriculum_requisites\\\":[{\\\"source_id\\\":177051436,\\\"target_id\\\":670953379,\\\"type\\\":\\\"CurriculumPrerequisite\\\"},{\\\"source_id\\\":2644941087,\\\"target_id\\\":670953379,\\\"type\\\":\\\"CurriculumPrerequisite\\\"}],\\\"name\\\":\\\"PHYS 2213\\\",\\\"metrics\\\":{\\\"centrality\\\":18,\\\"complexity\\\":8.0,\\\"blocking factor\\\":3,\\\"delay factor\\\":5.0},\\\"nameSub\\\":\\\"Physics II: Electromagnetism\\\",\\\"id\\\":670953379,\\\"credits\\\":4,\\\"nameCanonical\\\":\\\"\\\"},{\\\"curriculum_requisites\\\":[{\\\"source_id\\\":2644941087,\\\"target_id\\\":1926321183,\\\"type\\\":\\\"CurriculumPrerequisite\\\"}],\\\"name\\\":\\\"MATH 2930\\\",\\\"metrics\\\":{\\\"centrality\\\":14,\\\"complexity\\\":9.0,\\\"blocking factor\\\":4,\\\"delay factor\\\":5.0},\\\"nameSub\\\":\\\"Diff. Eqs. for Engineers\\\",\\\"id\\\":1926321183,\\\"credits\\\":4,\\\"nameCanonical\\\":\\\"\\\"},{\\\"curriculum_requisites\\\":[{\\\"source_id\\\":1926321183,\\\"target_id\\\":3693590979,\\\"type\\\":\\\"CurriculumCorequisite\\\"},{\\\"source_id\\\":670953379,\\\"target_id\\\":3693590979,\\\"type\\\":\\\"CurriculumCorequisite\\\"}],\\\"name\\\":\\\"ECE/ENGRD 2100\\\",\\\"metrics\\\":{\\\"centrality\\\":15,\\\"complexity\\\":6.0,\\\"blocking factor\\\":1,\\\"delay factor\\\":5.0},\\\"nameSub\\\":\\\"Intro. to Circuits\\\",\\\"id\\\":3693590979,\\\"credits\\\":4,\\\"nameCanonical\\\":\\\"\\\"},{\\\"curriculum_requisites\\\":[{\\\"source_id\\\":4226399557,\\\"target_id\\\":986524819,\\\"type\\\":\\\"CurriculumPrerequisite\\\"}],\\\"name\\\":\\\"ECE/ENGRD 2300\\\",\\\"metrics\\\":{\\\"centrality\\\":3,\\\"complexity\\\":4.0,\\\"blocking factor\\\":1,\\\"delay factor\\\":3.0},\\\"nameSub\\\":\\\"Digital Logic & Computer Org.\\\",\\\"id\\\":986524819,\\\"credits\\\":4,\\\"nameCanonical\\\":\\\"\\\"},{\\\"curriculum_requisites\\\":[],\\\"name\\\":\\\" \\\",\\\"metrics\\\":{\\\"centrality\\\":0,\\\"complexity\\\":1.0,\\\"blocking factor\\\":0,\\\"delay factor\\\":1.0},\\\"nameSub\\\":\\\"Liberal Studies 1\\\",\\\"id\\\":1558052753,\\\"credits\\\":3,\\\"nameCanonical\\\":\\\"\\\"}],\\\"id\\\":3},{\\\"name\\\":\\\"Term 4\\\",\\\"curriculum_items\\\":[{\\\"curriculum_requisites\\\":[{\\\"source_id\\\":1926321183,\\\"target_id\\\":3377751592,\\\"type\\\":\\\"CurriculumCorequisite\\\"}],\\\"name\\\":\\\"PHYS 2214\\\",\\\"metrics\\\":{\\\"centrality\\\":0,\\\"complexity\\\":4.0,\\\"blocking factor\\\":0,\\\"delay factor\\\":4.0},\\\"nameSub\\\":\\\"Physics III: Oscillations, Waves, and Quantum Physics\\\",\\\"id\\\":3377751592,\\\"credits\\\":4,\\\"nameCanonical\\\":\\\"\\\"},{\\\"curriculum_requisites\\\":[{\\\"source_id\\\":2644941087,\\\"target_id\\\":1135328629,\\\"type\\\":\\\"CurriculumPrerequisite\\\"}],\\\"name\\\":\\\"MATH 2940\\\",\\\"metrics\\\":{\\\"centrality\\\":5,\\\"complexity\\\":7.0,\\\"blocking factor\\\":2,\\\"delay factor\\\":5.0},\\\"nameSub\\\":\\\"Linear Algebra for Engineers\\\",\\\"id\\\":1135328629,\\\"credits\\\":4,\\\"nameCanonical\\\":\\\"\\\"},{\\\"curriculum_requisites\\\":[{\\\"source_id\\\":670953379,\\\"target_id\\\":1098106156,\\\"type\\\":\\\"CurriculumPrerequisite\\\"}],\\\"name\\\":\\\"ENGRD 2xxx\\\",\\\"metrics\\\":{\\\"centrality\\\":0,\\\"complexity\\\":4.0,\\\"blocking factor\\\":0,\\\"delay factor\\\":4.0},\\\"nameSub\\\":\\\"Engineering Distribution 2\\\",\\\"id\\\":1098106156,\\\"credits\\\":3,\\\"nameCanonical\\\":\\\"\\\"},{\\\"curriculum_requisites\\\":[{\\\"source_id\\\":1926321183,\\\"target_id\\\":2066269668,\\\"type\\\":\\\"CurriculumPrerequisite\\\"},{\\\"source_id\\\":1135328629,\\\"target_id\\\":2066269668,\\\"type\\\":\\\"CurriculumCorequisite\\\"}],\\\"name\\\":\\\"ECE/ENGRD 2200/2220\\\",\\\"metrics\\\":{\\\"centrality\\\":10,\\\"complexity\\\":6.0,\\\"blocking factor\\\":1,\\\"delay factor\\\":5.0},\\\"nameSub\\\":\\\"Signals and Information\\\",\\\"id\\\":2066269668,\\\"credits\\\":4,\\\"nameCanonical\\\":\\\"\\\"},{\\\"curriculum_requisites\\\":[],\\\"name\\\":\\\" \\\",\\\"metrics\\\":{\\\"centrality\\\":0,\\\"complexity\\\":1.0,\\\"blocking factor\\\":0,\\\"delay factor\\\":1.0},\\\"nameSub\\\":\\\"Liberal Studies 2\\\",\\\"id\\\":2054345146,\\\"credits\\\":3,\\\"nameCanonical\\\":\\\"\\\"}],\\\"id\\\":4},{\\\"name\\\":\\\"Term 5\\\",\\\"curriculum_items\\\":[{\\\"curriculum_requisites\\\":[],\\\"name\\\":\\\" \\\",\\\"metrics\\\":{\\\"centrality\\\":0,\\\"complexity\\\":1.0,\\\"blocking factor\\\":0,\\\"delay factor\\\":1.0},\\\"nameSub\\\":\\\"ECE Foundations 1\\\",\\\"id\\\":743914989,\\\"credits\\\":3,\\\"nameCanonical\\\":\\\"\\\"},{\\\"curriculum_requisites\\\":[],\\\"name\\\":\\\" \\\",\\\"metrics\\\":{\\\"centrality\\\":0,\\\"complexity\\\":1.0,\\\"blocking factor\\\":0,\\\"delay factor\\\":1.0},\\\"nameSub\\\":\\\"Elective 1\\\",\\\"id\\\":2064696548,\\\"credits\\\":3,\\\"nameCanonical\\\":\\\"\\\"},{\\\"curriculum_requisites\\\":[{\\\"source_id\\\":4226399557,\\\"target_id\\\":329854095,\\\"type\\\":\\\"CurriculumPrerequisite\\\"}],\\\"name\\\":\\\" \\\",\\\"metrics\\\":{\\\"centrality\\\":0,\\\"complexity\\\":2.0,\\\"blocking factor\\\":0,\\\"delay factor\\\":2.0},\\\"nameSub\\\":\\\"Outside Tech. Elective 1\\\",\\\"id\\\":329854095,\\\"credits\\\":3,\\\"nameCanonical\\\":\\\"\\\"},{\\\"curriculum_requisites\\\":[{\\\"source_id\\\":986524819,\\\"target_id\\\":1413999863,\\\"type\\\":\\\"CurriculumPrerequisite\\\"},{\\\"source_id\\\":2066269668,\\\"target_id\\\":1413999863,\\\"type\\\":\\\"CurriculumPrerequisite\\\"},{\\\"source_id\\\":3693590979,\\\"target_id\\\":1413999863,\\\"type\\\":\\\"CurriculumPrerequisite\\\"}],\\\"name\\\":\\\"ECE 3400\\\",\\\"metrics\\\":{\\\"centrality\\\":0,\\\"complexity\\\":5.0,\\\"blocking factor\\\":0,\\\"delay factor\\\":5.0},\\\"nameSub\\\":\\\"Intelligent Physical Systems\\\",\\\"id\\\":1413999863,\\\"credits\\\":3,\\\"nameCanonical\\\":\\\"\\\"},{\\\"curriculum_requisites\\\":[],\\\"name\\\":\\\" \\\",\\\"metrics\\\":{\\\"centrality\\\":0,\\\"complexity\\\":1.0,\\\"blocking factor\\\":0,\\\"delay factor\\\":1.0},\\\"nameSub\\\":\\\"Liberal Studies 3\\\",\\\"id\\\":1637204683,\\\"credits\\\":3,\\\"nameCanonical\\\":\\\"\\\"}],\\\"id\\\":5},{\\\"name\\\":\\\"Term 6\\\",\\\"curriculum_items\\\":[{\\\"curriculum_requisites\\\":[],\\\"name\\\":\\\" \\\",\\\"metrics\\\":{\\\"centrality\\\":0,\\\"complexity\\\":1.0,\\\"blocking factor\\\":0,\\\"delay factor\\\":1.0},\\\"nameSub\\\":\\\"ECE Foundations 2\\\",\\\"id\\\":121333895,\\\"credits\\\":3,\\\"nameCanonical\\\":\\\"\\\"},{\\\"curriculum_requisites\\\":[],\\\"name\\\":\\\" \\\",\\\"metrics\\\":{\\\"centrality\\\":0,\\\"complexity\\\":1.0,\\\"blocking factor\\\":0,\\\"delay factor\\\":1.0},\\\"nameSub\\\":\\\"ECE Foundations 3\\\",\\\"id\\\":1218469900,\\\"credits\\\":3,\\\"nameCanonical\\\":\\\"\\\"},{\\\"curriculum_requisites\\\":[],\\\"name\\\":\\\" \\\",\\\"metrics\\\":{\\\"centrality\\\":0,\\\"complexity\\\":1.0,\\\"blocking factor\\\":0,\\\"delay factor\\\":1.0},\\\"nameSub\\\":\\\"Outside Tech. Elective 2\\\",\\\"id\\\":329854096,\\\"credits\\\":3,\\\"nameCanonical\\\":\\\"\\\"},{\\\"curriculum_requisites\\\":[],\\\"name\\\":\\\" \\\",\\\"metrics\\\":{\\\"centrality\\\":0,\\\"complexity\\\":1.0,\\\"blocking factor\\\":0,\\\"delay factor\\\":1.0},\\\"nameSub\\\":\\\"Elective 2\\\",\\\"id\\\":266560209,\\\"credits\\\":3,\\\"nameCanonical\\\":\\\"\\\"},{\\\"curriculum_requisites\\\":[],\\\"name\\\":\\\" \\\",\\\"metrics\\\":{\\\"centrality\\\":0,\\\"complexity\\\":1.0,\\\"blocking factor\\\":0,\\\"delay factor\\\":1.0},\\\"nameSub\\\":\\\"Liberal Studies 4\\\",\\\"id\\\":1720176282,\\\"credits\\\":3,\\\"nameCanonical\\\":\\\"\\\"}],\\\"id\\\":6},{\\\"name\\\":\\\"Term 7\\\",\\\"curriculum_items\\\":[{\\\"curriculum_requisites\\\":[],\\\"name\\\":\\\" \\\",\\\"metrics\\\":{\\\"centrality\\\":0,\\\"complexity\\\":1.0,\\\"blocking factor\\\":0,\\\"delay factor\\\":1.0},\\\"nameSub\\\":\\\"ECE Elective (CDE)\\\",\\\"id\\\":3224403962,\\\"credits\\\":3,\\\"nameCanonical\\\":\\\"\\\"},{\\\"curriculum_requisites\\\":[],\\\"name\\\":\\\" \\\",\\\"metrics\\\":{\\\"centrality\\\":0,\\\"complexity\\\":1.0,\\\"blocking factor\\\":0,\\\"delay factor\\\":1.0},\\\"nameSub\\\":\\\"ECE Elective 1\\\",\\\"id\\\":2051928090,\\\"credits\\\":3,\\\"nameCanonical\\\":\\\"\\\"},{\\\"curriculum_requisites\\\":[],\\\"name\\\":\\\" \\\",\\\"metrics\\\":{\\\"centrality\\\":0,\\\"complexity\\\":1.0,\\\"blocking factor\\\":0,\\\"delay factor\\\":1.0},\\\"nameSub\\\":\\\"Outside Tech. Elective 3\\\",\\\"id\\\":329854097,\\\"credits\\\":3,\\\"nameCanonical\\\":\\\"\\\"},{\\\"curriculum_requisites\\\":[],\\\"name\\\":\\\" \\\",\\\"metrics\\\":{\\\"centrality\\\":0,\\\"complexity\\\":1.0,\\\"blocking factor\\\":0,\\\"delay factor\\\":1.0},\\\"nameSub\\\":\\\"Liberal Studies 5\\\",\\\"id\\\":3411438757,\\\"credits\\\":3,\\\"nameCanonical\\\":\\\"\\\"}],\\\"id\\\":7},{\\\"name\\\":\\\"Term 8\\\",\\\"curriculum_items\\\":[{\\\"curriculum_requisites\\\":[],\\\"name\\\":\\\" \\\",\\\"metrics\\\":{\\\"centrality\\\":0,\\\"complexity\\\":1.0,\\\"blocking factor\\\":0,\\\"delay factor\\\":1.0},\\\"nameSub\\\":\\\"ECE Elective 2\\\",\\\"id\\\":672829327,\\\"credits\\\":3,\\\"nameCanonical\\\":\\\"\\\"},{\\\"curriculum_requisites\\\":[],\\\"name\\\":\\\" \\\",\\\"metrics\\\":{\\\"centrality\\\":0,\\\"complexity\\\":1.0,\\\"blocking factor\\\":0,\\\"delay factor\\\":1.0},\\\"nameSub\\\":\\\"ECE Elective 3\\\",\\\"id\\\":562628024,\\\"credits\\\":3,\\\"nameCanonical\\\":\\\"\\\"},{\\\"curriculum_requisites\\\":[],\\\"name\\\":\\\" \\\",\\\"metrics\\\":{\\\"centrality\\\":0,\\\"complexity\\\":1.0,\\\"blocking factor\\\":0,\\\"delay factor\\\":1.0},\\\"nameSub\\\":\\\"ECE Elective 4\\\",\\\"id\\\":3443198019,\\\"credits\\\":3,\\\"nameCanonical\\\":\\\"\\\"},{\\\"curriculum_requisites\\\":[],\\\"name\\\":\\\" \\\",\\\"metrics\\\":{\\\"centrality\\\":0,\\\"complexity\\\":1.0,\\\"blocking factor\\\":0,\\\"delay factor\\\":1.0},\\\"nameSub\\\":\\\"Liberal Studies 6\\\",\\\"id\\\":2066864807,\\\"credits\\\":3,\\\"nameCanonical\\\":\\\"\\\"}],\\\"id\\\":8}],\\\"institution\\\":\\\"\\\"}},\\\"*\\\"); window.removeEventListener(\\\"message\\\",window.messageReceived); window.messageReceived=(function (event){return (event.data.curriculum!==undefined) ? (WebIO.setval({\\\"name\\\":\\\"curriculum-data\\\",\\\"scope\\\":\\\"15211580818023264146\\\",\\\"id\\\":\\\"12833768650178820664\\\",\\\"type\\\":\\\"observable\\\"},event.data.curriculum)) : undefined}); return window.addEventListener(\\\"message\\\",window.messageReceived)})\")), :style => Dict(:padding => \"0\", :height => \"90vh\", :margin => \"0\", :border => \"none\", :width => \"100%\"))), Dict{String, Tuple{Observables.AbstractObservable, Union{Nothing, Bool}}}(\"curriculum-data\" => (Observable{Dict{String, Any}} with 1 listeners. Value:\n",
       "Dict{String, Any}(\"options\" => Dict{String, Any}(\"hideTerms\" => false, \"edit\" => false), \"curriculum\" => Dict{String, Any}(\"name\" => \"Cornell University EE Program\", \"dp_name\" => \"Cornell University EE Program 4-year Plan\", \"curriculum_terms\" => Dict{String, Any}[Dict(\"name\" => \"Term 1\", \"curriculum_items\" => Dict{String, Any}[Dict(\"curriculum_requisites\" => Dict{String, Any}[], \"name\" => \"CHEM  2090\", \"metrics\" => Dict{String, Any}(\"centrality\" => 0, \"complexity\" => 1.0, \"blocking factor\" => 0, \"delay factor\" => 1.0), \"nameSub\" => \"Engineering Gen. Chemistry\", \"id\" => 3732084628, \"credits\" => 4, \"nameCanonical\" => \"\"), Dict(\"curriculum_requisites\" => Dict{String, Any}[], \"name\" => \"MATH 1910\", \"metrics\" => Dict{String, Any}(\"centrality\" => 0, \"complexity\" => 15.0, \"blocking factor\" => 10, \"delay factor\" => 5.0), \"nameSub\" => \"Calculus for Engineers\", \"id\" => 4274504294, \"credits\" => 4, \"nameCanonical\" => \"\"), Dict(\"curriculum_requisites\" => Dict{String, Any}[], \"name\" => \"ENGRI 1xxx\", \"metrics\" => Dict{String, Any}(\"centrality\" => 0, \"complexity\" => 1.0, \"blocking factor\" => 0, \"delay factor\" => 1.0), \"nameSub\" => \"Engineering Distribution 1\", \"id\" => 3683554939, \"credits\" => 3, \"nameCanonical\" => \"\"), Dict(\"curriculum_requisites\" => Dict{String, Any}[], \"name\" => \" \", \"metrics\" => Dict{String, Any}(\"centrality\" => 0, \"complexity\" => 1.0, \"blocking factor\" => 0, \"delay factor\" => 1.0), \"nameSub\" => \"1st Yr Writing Seminar 1\", \"id\" => 239686930, \"credits\" => 3, \"nameCanonical\" => \"\"), Dict(\"curriculum_requisites\" => Dict{String, Any}[], \"name\" => \" \", \"metrics\" => Dict{String, Any}(\"centrality\" => 0, \"complexity\" => 1.0, \"blocking factor\" => 0, \"delay factor\" => 1.0), \"nameSub\" => \"PE 1\", \"id\" => 1523633189, \"credits\" => 3, \"nameCanonical\" => \"\")], \"id\" => 1), Dict(\"name\" => \"Term 2\", \"curriculum_items\" => Dict{String, Any}[Dict(\"curriculum_requisites\" => Dict{String, Any}[Dict(\"source_id\" => 4274504294, \"target_id\" => 177051436, \"type\" => \"CurriculumPrerequisite\")], \"name\" => \"PHYS 1112\", \"metrics\" => Dict{String, Any}(\"centrality\" => 9, \"complexity\" => 9.0, \"blocking factor\" => 4, \"delay factor\" => 5.0), \"nameSub\" => \"Physics I: Mechanics & Heat\", \"id\" => 177051436, \"credits\" => 4, \"nameCanonical\" => \"\"), Dict(\"curriculum_requisites\" => Dict{String, Any}[Dict(\"source_id\" => 4274504294, \"target_id\" => 2644941087, \"type\" => \"CurriculumPrerequisite\")], \"name\" => \"MATH 1920\", \"metrics\" => Dict{String, Any}(\"centrality\" => 28, \"complexity\" => 13.0, \"blocking factor\" => 8, \"delay factor\" => 5.0), \"nameSub\" => \"Multivariable Calc. for Engineers\", \"id\" => 2644941087, \"credits\" => 4, \"nameCanonical\" => \"\"), Dict(\"curriculum_requisites\" => Dict{String, Any}[], \"name\" => \"CS 111x\", \"metrics\" => Dict{String, Any}(\"centrality\" => 0, \"complexity\" => 6.0, \"blocking factor\" => 3, \"delay factor\" => 3.0), \"nameSub\" => \"Intro. to Computing\", \"id\" => 4226399557, \"credits\" => 4, \"nameCanonical\" => \"\"), Dict(\"curriculum_requisites\" => Dict{String, Any}[], \"name\" => \" \", \"metrics\" => Dict{String, Any}(\"centrality\" => 0, \"complexity\" => 1.0, \"blocking factor\" => 0, \"delay factor\" => 1.0), \"nameSub\" => \"1st Yr Writing Seminar 2\", \"id\" => 4073672988, \"credits\" => 3, \"nameCanonical\" => \"\"), Dict(\"curriculum_requisites\" => Dict{String, Any}[], \"name\" => \" \", \"metrics\" => Dict{String, Any}(\"centrality\" => 0, \"complexity\" => 1.0, \"blocking factor\" => 0, \"delay factor\" => 1.0), \"nameSub\" => \"PE 2\", \"id\" => 335346848, \"credits\" => 3, \"nameCanonical\" => \"\")], \"id\" => 2), Dict(\"name\" => \"Term 3\", \"curriculum_items\" => Dict{String, Any}[Dict(\"curriculum_requisites\" => Dict{String, Any}[Dict(\"source_id\" => 177051436, \"target_id\" => 670953379, \"type\" => \"CurriculumPrerequisite\"), Dict(\"source_id\" => 2644941087, \"target_id\" => 670953379, \"type\" => \"CurriculumPrerequisite\")], \"name\" => \"PHYS 2213\", \"metrics\" => Dict{String, Any}(\"centrality\" => 18, \"complexity\" => 8.0, \"blocking factor\" => 3, \"delay factor\" => 5.0), \"nameSub\" => \"Physics II: Electromagnetism\", \"id\" => 670953379, \"credits\" => 4, \"nameCanonical\" => \"\"), Dict(\"curriculum_requisites\" => Dict{String, Any}[Dict(\"source_id\" => 2644941087, \"target_id\" => 1926321183, \"type\" => \"CurriculumPrerequisite\")], \"name\" => \"MATH 2930\", \"metrics\" => Dict{String, Any}(\"centrality\" => 14, \"complexity\" => 9.0, \"blocking factor\" => 4, \"delay factor\" => 5.0), \"nameSub\" => \"Diff. Eqs. for Engineers\", \"id\" => 1926321183, \"credits\" => 4, \"nameCanonical\" => \"\"), Dict(\"curriculum_requisites\" => Dict{String, Any}[Dict(\"source_id\" => 1926321183, \"target_id\" => 3693590979, \"type\" => \"CurriculumCorequisite\"), Dict(\"source_id\" => 670953379, \"target_id\" => 3693590979, \"type\" => \"CurriculumCorequisite\")], \"name\" => \"ECE/ENGRD 2100\", \"metrics\" => Dict{String, Any}(\"centrality\" => 15, \"complexity\" => 6.0, \"blocking factor\" => 1, \"delay factor\" => 5.0), \"nameSub\" => \"Intro. to Circuits\", \"id\" => 3693590979, \"credits\" => 4, \"nameCanonical\" => \"\"), Dict(\"curriculum_requisites\" => Dict{String, Any}[Dict(\"source_id\" => 4226399557, \"target_id\" => 986524819, \"type\" => \"CurriculumPrerequisite\")], \"name\" => \"ECE/ENGRD 2300\", \"metrics\" => Dict{String, Any}(\"centrality\" => 3, \"complexity\" => 4.0, \"blocking factor\" => 1, \"delay factor\" => 3.0), \"nameSub\" => \"Digital Logic & Computer Org.\", \"id\" => 986524819, \"credits\" => 4, \"nameCanonical\" => \"\"), Dict(\"curriculum_requisites\" => Dict{String, Any}[], \"name\" => \" \", \"metrics\" => Dict{String, Any}(\"centrality\" => 0, \"complexity\" => 1.0, \"blocking factor\" => 0, \"delay factor\" => 1.0), \"nameSub\" => \"Liberal Studies 1\", \"id\" => 1558052753, \"credits\" => 3, \"nameCanonical\" => \"\")], \"id\" => 3), Dict(\"name\" => \"Term 4\", \"curriculum_items\" => Dict{String, Any}[Dict(\"curriculum_requisites\" => Dict{String, Any}[Dict(\"source_id\" => 1926321183, \"target_id\" => 3377751592, \"type\" => \"CurriculumCorequisite\")], \"name\" => \"PHYS 2214\", \"metrics\" => Dict{String, Any}(\"centrality\" => 0, \"complexity\" => 4.0, \"blocking factor\" => 0, \"delay factor\" => 4.0), \"nameSub\" => \"Physics III: Oscillations, Waves, and Quantum Physics\", \"id\" => 3377751592, \"credits\" => 4, \"nameCanonical\" => \"\"), Dict(\"curriculum_requisites\" => Dict{String, Any}[Dict(\"source_id\" => 2644941087, \"target_id\" => 1135328629, \"type\" => \"CurriculumPrerequisite\")], \"name\" => \"MATH 2940\", \"metrics\" => Dict{String, Any}(\"centrality\" => 5, \"complexity\" => 7.0, \"blocking factor\" => 2, \"delay factor\" => 5.0), \"nameSub\" => \"Linear Algebra for Engineers\", \"id\" => 1135328629, \"credits\" => 4, \"nameCanonical\" => \"\"), Dict(\"curriculum_requisites\" => Dict{String, Any}[Dict(\"source_id\" => 670953379, \"target_id\" => 1098106156, \"type\" => \"CurriculumPrerequisite\")], \"name\" => \"ENGRD 2xxx\", \"metrics\" => Dict{String, Any}(\"centrality\" => 0, \"complexity\" => 4.0, \"blocking factor\" => 0, \"delay factor\" => 4.0), \"nameSub\" => \"Engineering Distribution 2\", \"id\" => 1098106156, \"credits\" => 3, \"nameCanonical\" => \"\"), Dict(\"curriculum_requisites\" => Dict{String, Any}[Dict(\"source_id\" => 1926321183, \"target_id\" => 2066269668, \"type\" => \"CurriculumPrerequisite\"), Dict(\"source_id\" => 1135328629, \"target_id\" => 2066269668, \"type\" => \"CurriculumCorequisite\")], \"name\" => \"ECE/ENGRD 2200/2220\", \"metrics\" => Dict{String, Any}(\"centrality\" => 10, \"complexity\" => 6.0, \"blocking factor\" => 1, \"delay factor\" => 5.0), \"nameSub\" => \"Signals and Information\", \"id\" => 2066269668, \"credits\" => 4, \"nameCanonical\" => \"\"), Dict(\"curriculum_requisites\" => Dict{String, Any}[], \"name\" => \" \", \"metrics\" => Dict{String, Any}(\"centrality\" => 0, \"complexity\" => 1.0, \"blocking factor\" => 0, \"delay factor\" => 1.0), \"nameSub\" => \"Liberal Studies 2\", \"id\" => 2054345146, \"credits\" => 3, \"nameCanonical\" => \"\")], \"id\" => 4), Dict(\"name\" => \"Term 5\", \"curriculum_items\" => Dict{String, Any}[Dict(\"curriculum_requisites\" => Dict{String, Any}[], \"name\" => \" \", \"metrics\" => Dict{String, Any}(\"centrality\" => 0, \"complexity\" => 1.0, \"blocking factor\" => 0, \"delay factor\" => 1.0), \"nameSub\" => \"ECE Foundations 1\", \"id\" => 743914989, \"credits\" => 3, \"nameCanonical\" => \"\"), Dict(\"curriculum_requisites\" => Dict{String, Any}[], \"name\" => \" \", \"metrics\" => Dict{String, Any}(\"centrality\" => 0, \"complexity\" => 1.0, \"blocking factor\" => 0, \"delay factor\" => 1.0), \"nameSub\" => \"Elective 1\", \"id\" => 2064696548, \"credits\" => 3, \"nameCanonical\" => \"\"), Dict(\"curriculum_requisites\" => Dict{String, Any}[Dict(\"source_id\" => 4226399557, \"target_id\" => 329854095, \"type\" => \"CurriculumPrerequisite\")], \"name\" => \" \", \"metrics\" => Dict{String, Any}(\"centrality\" => 0, \"complexity\" => 2.0, \"blocking factor\" => 0, \"delay factor\" => 2.0), \"nameSub\" => \"Outside Tech. Elective 1\", \"id\" => 329854095, \"credits\" => 3, \"nameCanonical\" => \"\"), Dict(\"curriculum_requisites\" => Dict{String, Any}[Dict(\"source_id\" => 986524819, \"target_id\" => 1413999863, \"type\" => \"CurriculumPrerequisite\"), Dict(\"source_id\" => 2066269668, \"target_id\" => 1413999863, \"type\" => \"CurriculumPrerequisite\"), Dict(\"source_id\" => 3693590979, \"target_id\" => 1413999863, \"type\" => \"CurriculumPrerequisite\")], \"name\" => \"ECE 3400\", \"metrics\" => Dict{String, Any}(\"centrality\" => 0, \"complexity\" => 5.0, \"blocking factor\" => 0, \"delay factor\" => 5.0), \"nameSub\" => \"Intelligent Physical Systems\", \"id\" => 1413999863, \"credits\" => 3, \"nameCanonical\" => \"\"), Dict(\"curriculum_requisites\" => Dict{String, Any}[], \"name\" => \" \", \"metrics\" => Dict{String, Any}(\"centrality\" => 0, \"complexity\" => 1.0, \"blocking factor\" => 0, \"delay factor\" => 1.0), \"nameSub\" => \"Liberal Studies 3\", \"id\" => 1637204683, \"credits\" => 3, \"nameCanonical\" => \"\")], \"id\" => 5), Dict(\"name\" => \"Term 6\", \"curriculum_items\" => Dict{String, Any}[Dict(\"curriculum_requisites\" => Dict{String, Any}[], \"name\" => \" \", \"metrics\" => Dict{String, Any}(\"centrality\" => 0, \"complexity\" => 1.0, \"blocking factor\" => 0, \"delay factor\" => 1.0), \"nameSub\" => \"ECE Foundations 2\", \"id\" => 121333895, \"credits\" => 3, \"nameCanonical\" => \"\"), Dict(\"curriculum_requisites\" => Dict{String, Any}[], \"name\" => \" \", \"metrics\" => Dict{String, Any}(\"centrality\" => 0, \"complexity\" => 1.0, \"blocking factor\" => 0, \"delay factor\" => 1.0), \"nameSub\" => \"ECE Foundations 3\", \"id\" => 1218469900, \"credits\" => 3, \"nameCanonical\" => \"\"), Dict(\"curriculum_requisites\" => Dict{String, Any}[], \"name\" => \" \", \"metrics\" => Dict{String, Any}(\"centrality\" => 0, \"complexity\" => 1.0, \"blocking factor\" => 0, \"delay factor\" => 1.0), \"nameSub\" => \"Outside Tech. Elective 2\", \"id\" => 329854096, \"credits\" => 3, \"nameCanonical\" => \"\"), Dict(\"curriculum_requisites\" => Dict{String, Any}[], \"name\" => \" \", \"metrics\" => Dict{String, Any}(\"centrality\" => 0, \"complexity\" => 1.0, \"blocking factor\" => 0, \"delay factor\" => 1.0), \"nameSub\" => \"Elective 2\", \"id\" => 266560209, \"credits\" => 3, \"nameCanonical\" => \"\"), Dict(\"curriculum_requisites\" => Dict{String, Any}[], \"name\" => \" \", \"metrics\" => Dict{String, Any}(\"centrality\" => 0, \"complexity\" => 1.0, \"blocking factor\" => 0, \"delay factor\" => 1.0), \"nameSub\" => \"Liberal Studies 4\", \"id\" => 1720176282, \"credits\" => 3, \"nameCanonical\" => \"\")], \"id\" => 6), Dict(\"name\" => \"Term 7\", \"curriculum_items\" => Dict{String, Any}[Dict(\"curriculum_requisites\" => Dict{String, Any}[], \"name\" => \" \", \"metrics\" => Dict{String, Any}(\"centrality\" => 0, \"complexity\" => 1.0, \"blocking factor\" => 0, \"delay factor\" => 1.0), \"nameSub\" => \"ECE Elective (CDE)\", \"id\" => 3224403962, \"credits\" => 3, \"nameCanonical\" => \"\"), Dict(\"curriculum_requisites\" => Dict{String, Any}[], \"name\" => \" \", \"metrics\" => Dict{String, Any}(\"centrality\" => 0, \"complexity\" => 1.0, \"blocking factor\" => 0, \"delay factor\" => 1.0), \"nameSub\" => \"ECE Elective 1\", \"id\" => 2051928090, \"credits\" => 3, \"nameCanonical\" => \"\"), Dict(\"curriculum_requisites\" => Dict{String, Any}[], \"name\" => \" \", \"metrics\" => Dict{String, Any}(\"centrality\" => 0, \"complexity\" => 1.0, \"blocking factor\" => 0, \"delay factor\" => 1.0), \"nameSub\" => \"Outside Tech. Elective 3\", \"id\" => 329854097, \"credits\" => 3, \"nameCanonical\" => \"\"), Dict(\"curriculum_requisites\" => Dict{String, Any}[], \"name\" => \" \", \"metrics\" => Dict{String, Any}(\"centrality\" => 0, \"complexity\" => 1.0, \"blocking factor\" => 0, \"delay factor\" => 1.0), \"nameSub\" => \"Liberal Studies 5\", \"id\" => 3411438757, \"credits\" => 3, \"nameCanonical\" => \"\")], \"id\" => 7), Dict(\"name\" => \"Term 8\", \"curriculum_items\" => Dict{String, Any}[Dict(\"curriculum_requisites\" => Dict{String, Any}[], \"name\" => \" \", \"metrics\" => Dict{String, Any}(\"centrality\" => 0, \"complexity\" => 1.0, \"blocking factor\" => 0, \"delay factor\" => 1.0), \"nameSub\" => \"ECE Elective 2\", \"id\" => 672829327, \"credits\" => 3, \"nameCanonical\" => \"\"), Dict(\"curriculum_requisites\" => Dict{String, Any}[], \"name\" => \" \", \"metrics\" => Dict{String, Any}(\"centrality\" => 0, \"complexity\" => 1.0, \"blocking factor\" => 0, \"delay factor\" => 1.0), \"nameSub\" => \"ECE Elective 3\", \"id\" => 562628024, \"credits\" => 3, \"nameCanonical\" => \"\"), Dict(\"curriculum_requisites\" => Dict{String, Any}[], \"name\" => \" \", \"metrics\" => Dict{String, Any}(\"centrality\" => 0, \"complexity\" => 1.0, \"blocking factor\" => 0, \"delay factor\" => 1.0), \"nameSub\" => \"ECE Elective 4\", \"id\" => 3443198019, \"credits\" => 3, \"nameCanonical\" => \"\"), Dict(\"curriculum_requisites\" => Dict{String, Any}[], \"name\" => \" \", \"metrics\" => Dict{String, Any}(\"centrality\" => 0, \"complexity\" => 1.0, \"blocking factor\" => 0, \"delay factor\" => 1.0), \"nameSub\" => \"Liberal Studies 6\", \"id\" => 2066864807, \"credits\" => 3, \"nameCanonical\" => \"\")], \"id\" => 8)], \"institution\" => \"\")), nothing)), Set{String}(), nothing, WebIO.Asset[], Dict{Any, Any}(), WebIO.ConnectionPool(Channel{Any}(32), Set{WebIO.AbstractConnection}(), Condition(Base.InvasiveLinkedList{Task}(Task (runnable) @0x000000017062aba0, Task (runnable) @0x000000017062aba0), Base.AlwaysLockedST(1))), WebIO.JSString[])"
      ]
     },
     "execution_count": 4,
     "metadata": {
      "application/vnd.webio.node+json": {
       "kernelId": "608747ee-a133-469f-a5ab-d2379c850c6c"
      }
     },
     "output_type": "execute_result"
    }
   ],
   "source": [
    "visualize(read_csv(\"Cornell_EE_plan.csv\"), notebook=true, scale = 0.9)"
   ]
  },
  {
   "cell_type": "markdown",
   "metadata": {},
   "source": [
    "Once again, the Circuits I course (called Intro. to Circuits in this curriculum) is the most central course in the curriculum; however, note that its centrality factor is much lower, as are its delay and blocking factors. The complexity of this curriculum is the minimum of the three we have considered.\n",
    "\n",
    "It is interesting to note that the three programs shown above have identical ABET accreditation. This means that each program satisfies the same eleven ABET program learning outcomes.  Thus, from the perspective of ABET, each program is of sufficient quality that the engineers they produce should be prepared to have successful careers. Even though these programs are identically accredited with identical program learning outcomes, it is readily apparent that their structures are quite dissimilar.  A more detailed look at the differneces between the curricular complexities of various electrical engineerig programs, and how this relates to program quality, is considered in a companion notebook (see <cite data-cite=\"he:18\">Thompson, et. al, (2019)</cite>)."
   ]
  },
  {
   "cell_type": "markdown",
   "metadata": {},
   "source": [
    "## Curricular Design Patterns\n",
    "Even though the three curricula consider above have dissimilar structures (and therefore complexities), they do share a common pattern of courses involving Circuits I, which appears to be one of the most important courses in an electrical engineering curriculum.  Indeed, we argue that nearly every bachelor's-level electrical engineering program has a pattern in their curriculm that involves:\n",
    "1. Mathematics through Differential Equations, which then serves as a pre- or co-requisite for Circuits I,\n",
    "2. Physics, including associated laboratories, through Physics II, which then serves as a pre- or co-requisite for Circuits I, and\n",
    "3. A Circuits II or similar course that builds upon Circuits I.\n",
    "\n",
    "We may depict this set of requirements as a generic *curricular design pattern* for Circuits I, as shown below.\n"
   ]
  },
  {
   "cell_type": "code",
   "execution_count": 5,
   "metadata": {
    "scrolled": false
   },
   "outputs": [
    {
     "data": {
      "application/vnd.webio.node+json": {
       "children": [
        {
         "children": [
          ""
         ],
         "instanceArgs": {
          "namespace": "html",
          "tag": "iframe"
         },
         "nodeType": "DOM",
         "props": {
          "events": {
           "load": "(function (){this.contentWindow.postMessage({\"options\":{\"hideTerms\":false,\"edit\":false},\"curriculum\":{\"name\":\"Circuits I Design Pattern\",\"dp_name\":\"Calculus ready\",\"curriculum_terms\":[{\"name\":\"Term 1\",\"curriculum_items\":[{\"curriculum_requisites\":[],\"name\":\" \",\"metrics\":{\"centrality\":0,\"complexity\":14.0,\"blocking factor\":8,\"delay factor\":6.0},\"nameSub\":\"Calculus I\",\"id\":1,\"credits\":4,\"nameCanonical\":\"\"}],\"id\":1},{\"name\":\"Term 2\",\"curriculum_items\":[{\"curriculum_requisites\":[{\"source_id\":1,\"target_id\":2,\"type\":\"CurriculumPrerequisite\"}],\"name\":\" \",\"metrics\":{\"centrality\":5,\"complexity\":8.0,\"blocking factor\":3,\"delay factor\":5.0},\"nameSub\":\"Calculus II\",\"id\":2,\"credits\":4,\"nameCanonical\":\"\"},{\"curriculum_requisites\":[{\"source_id\":1,\"target_id\":3,\"type\":\"CurriculumPrerequisite\"}],\"name\":\" \",\"metrics\":{\"centrality\":20,\"complexity\":11.0,\"blocking factor\":5,\"delay factor\":6.0},\"nameSub\":\"Physics I\",\"id\":3,\"credits\":3,\"nameCanonical\":\"\"},{\"curriculum_requisites\":[{\"source_id\":3,\"target_id\":4,\"type\":\"CurriculumCorequisite\"}],\"name\":\" \",\"metrics\":{\"centrality\":11,\"complexity\":10.0,\"blocking factor\":4,\"delay factor\":6.0},\"nameSub\":\"Physics I Lab\",\"id\":4,\"credits\":1,\"nameCanonical\":\"\"}],\"id\":2},{\"name\":\"Term 3\",\"curriculum_items\":[{\"curriculum_requisites\":[{\"source_id\":4,\"target_id\":5,\"type\":\"CurriculumPrerequisite\"},{\"source_id\":3,\"target_id\":5,\"type\":\"CurriculumPrerequisite\"}],\"name\":\" \",\"metrics\":{\"centrality\":20,\"complexity\":9.0,\"blocking factor\":3,\"delay factor\":6.0},\"nameSub\":\"Physics II\",\"id\":5,\"credits\":3,\"nameCanonical\":\"\"},{\"curriculum_requisites\":[{\"source_id\":5,\"target_id\":6,\"type\":\"CurriculumCorequisite\"}],\"name\":\" \",\"metrics\":{\"centrality\":0,\"complexity\":5.0,\"blocking factor\":0,\"delay factor\":5.0},\"nameSub\":\"Physics II Lab\",\"id\":6,\"credits\":1,\"nameCanonical\":\"\"},{\"curriculum_requisites\":[{\"source_id\":2,\"target_id\":7,\"type\":\"CurriculumPrerequisite\"}],\"name\":\" \",\"metrics\":{\"centrality\":5,\"complexity\":7.0,\"blocking factor\":2,\"delay factor\":5.0},\"nameSub\":\"Differential Eqs.\",\"id\":7,\"credits\":3,\"nameCanonical\":\"\"},{\"curriculum_requisites\":[{\"source_id\":5,\"target_id\":8,\"type\":\"CurriculumPrerequisite\"},{\"source_id\":7,\"target_id\":8,\"type\":\"CurriculumPrerequisite\"}],\"name\":\" \",\"metrics\":{\"centrality\":16,\"complexity\":7.0,\"blocking factor\":1,\"delay factor\":6.0},\"nameSub\":\"Circuits I\",\"id\":8,\"credits\":3,\"nameCanonical\":\"\"}],\"id\":3},{\"name\":\"Term 4\",\"curriculum_items\":[{\"curriculum_requisites\":[{\"source_id\":8,\"target_id\":9,\"type\":\"CurriculumPrerequisite\"}],\"name\":\" \",\"metrics\":{\"centrality\":0,\"complexity\":6.0,\"blocking factor\":0,\"delay factor\":6.0},\"nameSub\":\"Circuits II\",\"id\":9,\"credits\":3,\"nameCanonical\":\"\"}],\"id\":4}],\"institution\":\"\"}},\"*\"); window.removeEventListener(\"message\",window.messageReceived); window.messageReceived=(function (event){return (event.data.curriculum!==undefined) ? (WebIO.setval({\"name\":\"curriculum-data\",\"scope\":\"17924432312351413969\",\"id\":\"11586830757717080332\",\"type\":\"observable\"},event.data.curriculum)) : undefined}); return window.addEventListener(\"message\",window.messageReceived)})"
          },
          "id": "curriculum",
          "src": "https://curricula-api-embed.damoursystems.com/",
          "style": {
           "border": "none",
           "height": "70vh",
           "margin": "0",
           "padding": "0",
           "width": "100%"
          }
         },
         "type": "node"
        }
       ],
       "instanceArgs": {
        "handlers": {},
        "id": "17924432312351413969",
        "imports": {
         "data": [],
         "type": "async_block"
        },
        "mount_callbacks": [],
        "observables": {
         "curriculum-data": {
          "id": "11586830757717080332",
          "sync": true,
          "value": {
           "curriculum": {
            "curriculum_terms": [
             {
              "curriculum_items": [
               {
                "credits": 4,
                "curriculum_requisites": [],
                "id": 1,
                "metrics": {
                 "blocking factor": 8,
                 "centrality": 0,
                 "complexity": 14,
                 "delay factor": 6
                },
                "name": " ",
                "nameCanonical": "",
                "nameSub": "Calculus I"
               }
              ],
              "id": 1,
              "name": "Term 1"
             },
             {
              "curriculum_items": [
               {
                "credits": 4,
                "curriculum_requisites": [
                 {
                  "source_id": 1,
                  "target_id": 2,
                  "type": "CurriculumPrerequisite"
                 }
                ],
                "id": 2,
                "metrics": {
                 "blocking factor": 3,
                 "centrality": 5,
                 "complexity": 8,
                 "delay factor": 5
                },
                "name": " ",
                "nameCanonical": "",
                "nameSub": "Calculus II"
               },
               {
                "credits": 3,
                "curriculum_requisites": [
                 {
                  "source_id": 1,
                  "target_id": 3,
                  "type": "CurriculumPrerequisite"
                 }
                ],
                "id": 3,
                "metrics": {
                 "blocking factor": 5,
                 "centrality": 20,
                 "complexity": 11,
                 "delay factor": 6
                },
                "name": " ",
                "nameCanonical": "",
                "nameSub": "Physics I"
               },
               {
                "credits": 1,
                "curriculum_requisites": [
                 {
                  "source_id": 3,
                  "target_id": 4,
                  "type": "CurriculumCorequisite"
                 }
                ],
                "id": 4,
                "metrics": {
                 "blocking factor": 4,
                 "centrality": 11,
                 "complexity": 10,
                 "delay factor": 6
                },
                "name": " ",
                "nameCanonical": "",
                "nameSub": "Physics I Lab"
               }
              ],
              "id": 2,
              "name": "Term 2"
             },
             {
              "curriculum_items": [
               {
                "credits": 3,
                "curriculum_requisites": [
                 {
                  "source_id": 4,
                  "target_id": 5,
                  "type": "CurriculumPrerequisite"
                 },
                 {
                  "source_id": 3,
                  "target_id": 5,
                  "type": "CurriculumPrerequisite"
                 }
                ],
                "id": 5,
                "metrics": {
                 "blocking factor": 3,
                 "centrality": 20,
                 "complexity": 9,
                 "delay factor": 6
                },
                "name": " ",
                "nameCanonical": "",
                "nameSub": "Physics II"
               },
               {
                "credits": 1,
                "curriculum_requisites": [
                 {
                  "source_id": 5,
                  "target_id": 6,
                  "type": "CurriculumCorequisite"
                 }
                ],
                "id": 6,
                "metrics": {
                 "blocking factor": 0,
                 "centrality": 0,
                 "complexity": 5,
                 "delay factor": 5
                },
                "name": " ",
                "nameCanonical": "",
                "nameSub": "Physics II Lab"
               },
               {
                "credits": 3,
                "curriculum_requisites": [
                 {
                  "source_id": 2,
                  "target_id": 7,
                  "type": "CurriculumPrerequisite"
                 }
                ],
                "id": 7,
                "metrics": {
                 "blocking factor": 2,
                 "centrality": 5,
                 "complexity": 7,
                 "delay factor": 5
                },
                "name": " ",
                "nameCanonical": "",
                "nameSub": "Differential Eqs."
               },
               {
                "credits": 3,
                "curriculum_requisites": [
                 {
                  "source_id": 5,
                  "target_id": 8,
                  "type": "CurriculumPrerequisite"
                 },
                 {
                  "source_id": 7,
                  "target_id": 8,
                  "type": "CurriculumPrerequisite"
                 }
                ],
                "id": 8,
                "metrics": {
                 "blocking factor": 1,
                 "centrality": 16,
                 "complexity": 7,
                 "delay factor": 6
                },
                "name": " ",
                "nameCanonical": "",
                "nameSub": "Circuits I"
               }
              ],
              "id": 3,
              "name": "Term 3"
             },
             {
              "curriculum_items": [
               {
                "credits": 3,
                "curriculum_requisites": [
                 {
                  "source_id": 8,
                  "target_id": 9,
                  "type": "CurriculumPrerequisite"
                 }
                ],
                "id": 9,
                "metrics": {
                 "blocking factor": 0,
                 "centrality": 0,
                 "complexity": 6,
                 "delay factor": 6
                },
                "name": " ",
                "nameCanonical": "",
                "nameSub": "Circuits II"
               }
              ],
              "id": 4,
              "name": "Term 4"
             }
            ],
            "dp_name": "Calculus ready",
            "institution": "",
            "name": "Circuits I Design Pattern"
           },
           "options": {
            "edit": false,
            "hideTerms": false
           }
          }
         }
        },
        "systemjs_options": null
       },
       "nodeType": "Scope",
       "props": {},
       "type": "node"
      },
      "text/html": [
       "<div\n",
       "    class=\"webio-mountpoint\"\n",
       "    data-webio-mountpoint=\"8144647648179056888\"\n",
       ">\n",
       "    <script>\n",
       "    if (window.require && require.defined && require.defined(\"nbextensions/webio-jupyter-notebook\")) {\n",
       "        console.log(\"Jupyter WebIO extension detected, not mounting.\");\n",
       "    } else if (window.WebIO) {\n",
       "        WebIO.mount(\n",
       "            document.querySelector('[data-webio-mountpoint=\"8144647648179056888\"]'),\n",
       "            {\"props\":{},\"nodeType\":\"Scope\",\"type\":\"node\",\"instanceArgs\":{\"imports\":{\"data\":[],\"type\":\"async_block\"},\"id\":\"17924432312351413969\",\"handlers\":{},\"systemjs_options\":null,\"mount_callbacks\":[],\"observables\":{\"curriculum-data\":{\"sync\":true,\"id\":\"11586830757717080332\",\"value\":{\"options\":{\"hideTerms\":false,\"edit\":false},\"curriculum\":{\"name\":\"Circuits I Design Pattern\",\"dp_name\":\"Calculus ready\",\"curriculum_terms\":[{\"name\":\"Term 1\",\"curriculum_items\":[{\"curriculum_requisites\":[],\"name\":\" \",\"metrics\":{\"centrality\":0,\"complexity\":14.0,\"blocking factor\":8,\"delay factor\":6.0},\"nameSub\":\"Calculus I\",\"id\":1,\"credits\":4,\"nameCanonical\":\"\"}],\"id\":1},{\"name\":\"Term 2\",\"curriculum_items\":[{\"curriculum_requisites\":[{\"source_id\":1,\"target_id\":2,\"type\":\"CurriculumPrerequisite\"}],\"name\":\" \",\"metrics\":{\"centrality\":5,\"complexity\":8.0,\"blocking factor\":3,\"delay factor\":5.0},\"nameSub\":\"Calculus II\",\"id\":2,\"credits\":4,\"nameCanonical\":\"\"},{\"curriculum_requisites\":[{\"source_id\":1,\"target_id\":3,\"type\":\"CurriculumPrerequisite\"}],\"name\":\" \",\"metrics\":{\"centrality\":20,\"complexity\":11.0,\"blocking factor\":5,\"delay factor\":6.0},\"nameSub\":\"Physics I\",\"id\":3,\"credits\":3,\"nameCanonical\":\"\"},{\"curriculum_requisites\":[{\"source_id\":3,\"target_id\":4,\"type\":\"CurriculumCorequisite\"}],\"name\":\" \",\"metrics\":{\"centrality\":11,\"complexity\":10.0,\"blocking factor\":4,\"delay factor\":6.0},\"nameSub\":\"Physics I Lab\",\"id\":4,\"credits\":1,\"nameCanonical\":\"\"}],\"id\":2},{\"name\":\"Term 3\",\"curriculum_items\":[{\"curriculum_requisites\":[{\"source_id\":4,\"target_id\":5,\"type\":\"CurriculumPrerequisite\"},{\"source_id\":3,\"target_id\":5,\"type\":\"CurriculumPrerequisite\"}],\"name\":\" \",\"metrics\":{\"centrality\":20,\"complexity\":9.0,\"blocking factor\":3,\"delay factor\":6.0},\"nameSub\":\"Physics II\",\"id\":5,\"credits\":3,\"nameCanonical\":\"\"},{\"curriculum_requisites\":[{\"source_id\":5,\"target_id\":6,\"type\":\"CurriculumCorequisite\"}],\"name\":\" \",\"metrics\":{\"centrality\":0,\"complexity\":5.0,\"blocking factor\":0,\"delay factor\":5.0},\"nameSub\":\"Physics II Lab\",\"id\":6,\"credits\":1,\"nameCanonical\":\"\"},{\"curriculum_requisites\":[{\"source_id\":2,\"target_id\":7,\"type\":\"CurriculumPrerequisite\"}],\"name\":\" \",\"metrics\":{\"centrality\":5,\"complexity\":7.0,\"blocking factor\":2,\"delay factor\":5.0},\"nameSub\":\"Differential Eqs.\",\"id\":7,\"credits\":3,\"nameCanonical\":\"\"},{\"curriculum_requisites\":[{\"source_id\":5,\"target_id\":8,\"type\":\"CurriculumPrerequisite\"},{\"source_id\":7,\"target_id\":8,\"type\":\"CurriculumPrerequisite\"}],\"name\":\" \",\"metrics\":{\"centrality\":16,\"complexity\":7.0,\"blocking factor\":1,\"delay factor\":6.0},\"nameSub\":\"Circuits I\",\"id\":8,\"credits\":3,\"nameCanonical\":\"\"}],\"id\":3},{\"name\":\"Term 4\",\"curriculum_items\":[{\"curriculum_requisites\":[{\"source_id\":8,\"target_id\":9,\"type\":\"CurriculumPrerequisite\"}],\"name\":\" \",\"metrics\":{\"centrality\":0,\"complexity\":6.0,\"blocking factor\":0,\"delay factor\":6.0},\"nameSub\":\"Circuits II\",\"id\":9,\"credits\":3,\"nameCanonical\":\"\"}],\"id\":4}],\"institution\":\"\"}}}}},\"children\":[{\"props\":{\"src\":\"https:\\/\\/curricula-api-embed.damoursystems.com\\/\",\"id\":\"curriculum\",\"events\":{\"load\":\"(function (){this.contentWindow.postMessage({\\\"options\\\":{\\\"hideTerms\\\":false,\\\"edit\\\":false},\\\"curriculum\\\":{\\\"name\\\":\\\"Circuits I Design Pattern\\\",\\\"dp_name\\\":\\\"Calculus ready\\\",\\\"curriculum_terms\\\":[{\\\"name\\\":\\\"Term 1\\\",\\\"curriculum_items\\\":[{\\\"curriculum_requisites\\\":[],\\\"name\\\":\\\" \\\",\\\"metrics\\\":{\\\"centrality\\\":0,\\\"complexity\\\":14.0,\\\"blocking factor\\\":8,\\\"delay factor\\\":6.0},\\\"nameSub\\\":\\\"Calculus I\\\",\\\"id\\\":1,\\\"credits\\\":4,\\\"nameCanonical\\\":\\\"\\\"}],\\\"id\\\":1},{\\\"name\\\":\\\"Term 2\\\",\\\"curriculum_items\\\":[{\\\"curriculum_requisites\\\":[{\\\"source_id\\\":1,\\\"target_id\\\":2,\\\"type\\\":\\\"CurriculumPrerequisite\\\"}],\\\"name\\\":\\\" \\\",\\\"metrics\\\":{\\\"centrality\\\":5,\\\"complexity\\\":8.0,\\\"blocking factor\\\":3,\\\"delay factor\\\":5.0},\\\"nameSub\\\":\\\"Calculus II\\\",\\\"id\\\":2,\\\"credits\\\":4,\\\"nameCanonical\\\":\\\"\\\"},{\\\"curriculum_requisites\\\":[{\\\"source_id\\\":1,\\\"target_id\\\":3,\\\"type\\\":\\\"CurriculumPrerequisite\\\"}],\\\"name\\\":\\\" \\\",\\\"metrics\\\":{\\\"centrality\\\":20,\\\"complexity\\\":11.0,\\\"blocking factor\\\":5,\\\"delay factor\\\":6.0},\\\"nameSub\\\":\\\"Physics I\\\",\\\"id\\\":3,\\\"credits\\\":3,\\\"nameCanonical\\\":\\\"\\\"},{\\\"curriculum_requisites\\\":[{\\\"source_id\\\":3,\\\"target_id\\\":4,\\\"type\\\":\\\"CurriculumCorequisite\\\"}],\\\"name\\\":\\\" \\\",\\\"metrics\\\":{\\\"centrality\\\":11,\\\"complexity\\\":10.0,\\\"blocking factor\\\":4,\\\"delay factor\\\":6.0},\\\"nameSub\\\":\\\"Physics I Lab\\\",\\\"id\\\":4,\\\"credits\\\":1,\\\"nameCanonical\\\":\\\"\\\"}],\\\"id\\\":2},{\\\"name\\\":\\\"Term 3\\\",\\\"curriculum_items\\\":[{\\\"curriculum_requisites\\\":[{\\\"source_id\\\":4,\\\"target_id\\\":5,\\\"type\\\":\\\"CurriculumPrerequisite\\\"},{\\\"source_id\\\":3,\\\"target_id\\\":5,\\\"type\\\":\\\"CurriculumPrerequisite\\\"}],\\\"name\\\":\\\" \\\",\\\"metrics\\\":{\\\"centrality\\\":20,\\\"complexity\\\":9.0,\\\"blocking factor\\\":3,\\\"delay factor\\\":6.0},\\\"nameSub\\\":\\\"Physics II\\\",\\\"id\\\":5,\\\"credits\\\":3,\\\"nameCanonical\\\":\\\"\\\"},{\\\"curriculum_requisites\\\":[{\\\"source_id\\\":5,\\\"target_id\\\":6,\\\"type\\\":\\\"CurriculumCorequisite\\\"}],\\\"name\\\":\\\" \\\",\\\"metrics\\\":{\\\"centrality\\\":0,\\\"complexity\\\":5.0,\\\"blocking factor\\\":0,\\\"delay factor\\\":5.0},\\\"nameSub\\\":\\\"Physics II Lab\\\",\\\"id\\\":6,\\\"credits\\\":1,\\\"nameCanonical\\\":\\\"\\\"},{\\\"curriculum_requisites\\\":[{\\\"source_id\\\":2,\\\"target_id\\\":7,\\\"type\\\":\\\"CurriculumPrerequisite\\\"}],\\\"name\\\":\\\" \\\",\\\"metrics\\\":{\\\"centrality\\\":5,\\\"complexity\\\":7.0,\\\"blocking factor\\\":2,\\\"delay factor\\\":5.0},\\\"nameSub\\\":\\\"Differential Eqs.\\\",\\\"id\\\":7,\\\"credits\\\":3,\\\"nameCanonical\\\":\\\"\\\"},{\\\"curriculum_requisites\\\":[{\\\"source_id\\\":5,\\\"target_id\\\":8,\\\"type\\\":\\\"CurriculumPrerequisite\\\"},{\\\"source_id\\\":7,\\\"target_id\\\":8,\\\"type\\\":\\\"CurriculumPrerequisite\\\"}],\\\"name\\\":\\\" \\\",\\\"metrics\\\":{\\\"centrality\\\":16,\\\"complexity\\\":7.0,\\\"blocking factor\\\":1,\\\"delay factor\\\":6.0},\\\"nameSub\\\":\\\"Circuits I\\\",\\\"id\\\":8,\\\"credits\\\":3,\\\"nameCanonical\\\":\\\"\\\"}],\\\"id\\\":3},{\\\"name\\\":\\\"Term 4\\\",\\\"curriculum_items\\\":[{\\\"curriculum_requisites\\\":[{\\\"source_id\\\":8,\\\"target_id\\\":9,\\\"type\\\":\\\"CurriculumPrerequisite\\\"}],\\\"name\\\":\\\" \\\",\\\"metrics\\\":{\\\"centrality\\\":0,\\\"complexity\\\":6.0,\\\"blocking factor\\\":0,\\\"delay factor\\\":6.0},\\\"nameSub\\\":\\\"Circuits II\\\",\\\"id\\\":9,\\\"credits\\\":3,\\\"nameCanonical\\\":\\\"\\\"}],\\\"id\\\":4}],\\\"institution\\\":\\\"\\\"}},\\\"*\\\"); window.removeEventListener(\\\"message\\\",window.messageReceived); window.messageReceived=(function (event){return (event.data.curriculum!==undefined) ? (WebIO.setval({\\\"name\\\":\\\"curriculum-data\\\",\\\"scope\\\":\\\"17924432312351413969\\\",\\\"id\\\":\\\"11586830757717080332\\\",\\\"type\\\":\\\"observable\\\"},event.data.curriculum)) : undefined}); return window.addEventListener(\\\"message\\\",window.messageReceived)})\"},\"style\":{\"padding\":\"0\",\"height\":\"70vh\",\"margin\":\"0\",\"border\":\"none\",\"width\":\"100%\"}},\"nodeType\":\"DOM\",\"type\":\"node\",\"instanceArgs\":{\"namespace\":\"html\",\"tag\":\"iframe\"},\"children\":[\"\"]}]},\n",
       "            window,\n",
       "        );\n",
       "    } else {\n",
       "        document\n",
       "            .querySelector('[data-webio-mountpoint=\"8144647648179056888\"]')\n",
       "            .innerHTML = (\n",
       "                '<div style=\"padding: 1em; background-color: #f8d6da; border: 1px solid #f5c6cb\">' +\n",
       "                '<p><strong>WebIO not detected.</strong></p>' +\n",
       "                '<p>Please read ' +\n",
       "                '<a href=\"https://juliagizmos.github.io/WebIO.jl/latest/troubleshooting/not-detected/\" target=\"_blank\">the troubleshooting guide</a> ' +\n",
       "                'for more information on how to resolve this issue.</p>' +\n",
       "                '<p><a href=\"https://juliagizmos.github.io/WebIO.jl/latest/troubleshooting/not-detected/\" target=\"_blank\">https://juliagizmos.github.io/WebIO.jl/latest/troubleshooting/not-detected/</a></p>' +\n",
       "                '</div>'\n",
       "            );\n",
       "    }\n",
       "    </script>\n",
       "</div>\n"
      ],
      "text/plain": [
       "WebIO.Scope(WebIO.Node{WebIO.DOM}(WebIO.DOM(:html, :iframe), Any[\"\"], Dict{Symbol, Any}(:src => \"https://curricula-api-embed.damoursystems.com/\", :id => \"curriculum\", :events => Dict{Symbol, WebIO.JSString}(:load => WebIO.JSString(\"(function (){this.contentWindow.postMessage({\\\"options\\\":{\\\"hideTerms\\\":false,\\\"edit\\\":false},\\\"curriculum\\\":{\\\"name\\\":\\\"Circuits I Design Pattern\\\",\\\"dp_name\\\":\\\"Calculus ready\\\",\\\"curriculum_terms\\\":[{\\\"name\\\":\\\"Term 1\\\",\\\"curriculum_items\\\":[{\\\"curriculum_requisites\\\":[],\\\"name\\\":\\\" \\\",\\\"metrics\\\":{\\\"centrality\\\":0,\\\"complexity\\\":14.0,\\\"blocking factor\\\":8,\\\"delay factor\\\":6.0},\\\"nameSub\\\":\\\"Calculus I\\\",\\\"id\\\":1,\\\"credits\\\":4,\\\"nameCanonical\\\":\\\"\\\"}],\\\"id\\\":1},{\\\"name\\\":\\\"Term 2\\\",\\\"curriculum_items\\\":[{\\\"curriculum_requisites\\\":[{\\\"source_id\\\":1,\\\"target_id\\\":2,\\\"type\\\":\\\"CurriculumPrerequisite\\\"}],\\\"name\\\":\\\" \\\",\\\"metrics\\\":{\\\"centrality\\\":5,\\\"complexity\\\":8.0,\\\"blocking factor\\\":3,\\\"delay factor\\\":5.0},\\\"nameSub\\\":\\\"Calculus II\\\",\\\"id\\\":2,\\\"credits\\\":4,\\\"nameCanonical\\\":\\\"\\\"},{\\\"curriculum_requisites\\\":[{\\\"source_id\\\":1,\\\"target_id\\\":3,\\\"type\\\":\\\"CurriculumPrerequisite\\\"}],\\\"name\\\":\\\" \\\",\\\"metrics\\\":{\\\"centrality\\\":20,\\\"complexity\\\":11.0,\\\"blocking factor\\\":5,\\\"delay factor\\\":6.0},\\\"nameSub\\\":\\\"Physics I\\\",\\\"id\\\":3,\\\"credits\\\":3,\\\"nameCanonical\\\":\\\"\\\"},{\\\"curriculum_requisites\\\":[{\\\"source_id\\\":3,\\\"target_id\\\":4,\\\"type\\\":\\\"CurriculumCorequisite\\\"}],\\\"name\\\":\\\" \\\",\\\"metrics\\\":{\\\"centrality\\\":11,\\\"complexity\\\":10.0,\\\"blocking factor\\\":4,\\\"delay factor\\\":6.0},\\\"nameSub\\\":\\\"Physics I Lab\\\",\\\"id\\\":4,\\\"credits\\\":1,\\\"nameCanonical\\\":\\\"\\\"}],\\\"id\\\":2},{\\\"name\\\":\\\"Term 3\\\",\\\"curriculum_items\\\":[{\\\"curriculum_requisites\\\":[{\\\"source_id\\\":4,\\\"target_id\\\":5,\\\"type\\\":\\\"CurriculumPrerequisite\\\"},{\\\"source_id\\\":3,\\\"target_id\\\":5,\\\"type\\\":\\\"CurriculumPrerequisite\\\"}],\\\"name\\\":\\\" \\\",\\\"metrics\\\":{\\\"centrality\\\":20,\\\"complexity\\\":9.0,\\\"blocking factor\\\":3,\\\"delay factor\\\":6.0},\\\"nameSub\\\":\\\"Physics II\\\",\\\"id\\\":5,\\\"credits\\\":3,\\\"nameCanonical\\\":\\\"\\\"},{\\\"curriculum_requisites\\\":[{\\\"source_id\\\":5,\\\"target_id\\\":6,\\\"type\\\":\\\"CurriculumCorequisite\\\"}],\\\"name\\\":\\\" \\\",\\\"metrics\\\":{\\\"centrality\\\":0,\\\"complexity\\\":5.0,\\\"blocking factor\\\":0,\\\"delay factor\\\":5.0},\\\"nameSub\\\":\\\"Physics II Lab\\\",\\\"id\\\":6,\\\"credits\\\":1,\\\"nameCanonical\\\":\\\"\\\"},{\\\"curriculum_requisites\\\":[{\\\"source_id\\\":2,\\\"target_id\\\":7,\\\"type\\\":\\\"CurriculumPrerequisite\\\"}],\\\"name\\\":\\\" \\\",\\\"metrics\\\":{\\\"centrality\\\":5,\\\"complexity\\\":7.0,\\\"blocking factor\\\":2,\\\"delay factor\\\":5.0},\\\"nameSub\\\":\\\"Differential Eqs.\\\",\\\"id\\\":7,\\\"credits\\\":3,\\\"nameCanonical\\\":\\\"\\\"},{\\\"curriculum_requisites\\\":[{\\\"source_id\\\":5,\\\"target_id\\\":8,\\\"type\\\":\\\"CurriculumPrerequisite\\\"},{\\\"source_id\\\":7,\\\"target_id\\\":8,\\\"type\\\":\\\"CurriculumPrerequisite\\\"}],\\\"name\\\":\\\" \\\",\\\"metrics\\\":{\\\"centrality\\\":16,\\\"complexity\\\":7.0,\\\"blocking factor\\\":1,\\\"delay factor\\\":6.0},\\\"nameSub\\\":\\\"Circuits I\\\",\\\"id\\\":8,\\\"credits\\\":3,\\\"nameCanonical\\\":\\\"\\\"}],\\\"id\\\":3},{\\\"name\\\":\\\"Term 4\\\",\\\"curriculum_items\\\":[{\\\"curriculum_requisites\\\":[{\\\"source_id\\\":8,\\\"target_id\\\":9,\\\"type\\\":\\\"CurriculumPrerequisite\\\"}],\\\"name\\\":\\\" \\\",\\\"metrics\\\":{\\\"centrality\\\":0,\\\"complexity\\\":6.0,\\\"blocking factor\\\":0,\\\"delay factor\\\":6.0},\\\"nameSub\\\":\\\"Circuits II\\\",\\\"id\\\":9,\\\"credits\\\":3,\\\"nameCanonical\\\":\\\"\\\"}],\\\"id\\\":4}],\\\"institution\\\":\\\"\\\"}},\\\"*\\\"); window.removeEventListener(\\\"message\\\",window.messageReceived); window.messageReceived=(function (event){return (event.data.curriculum!==undefined) ? (WebIO.setval({\\\"name\\\":\\\"curriculum-data\\\",\\\"scope\\\":\\\"17924432312351413969\\\",\\\"id\\\":\\\"11586830757717080332\\\",\\\"type\\\":\\\"observable\\\"},event.data.curriculum)) : undefined}); return window.addEventListener(\\\"message\\\",window.messageReceived)})\")), :style => Dict(:padding => \"0\", :height => \"70vh\", :margin => \"0\", :border => \"none\", :width => \"100%\"))), Dict{String, Tuple{Observables.AbstractObservable, Union{Nothing, Bool}}}(\"curriculum-data\" => (Observable{Dict{String, Any}} with 1 listeners. Value:\n",
       "Dict{String, Any}(\"options\" => Dict{String, Any}(\"hideTerms\" => false, \"edit\" => false), \"curriculum\" => Dict{String, Any}(\"name\" => \"Circuits I Design Pattern\", \"dp_name\" => \"Calculus ready\", \"curriculum_terms\" => Dict{String, Any}[Dict(\"name\" => \"Term 1\", \"curriculum_items\" => Dict{String, Any}[Dict(\"curriculum_requisites\" => Dict{String, Any}[], \"name\" => \" \", \"metrics\" => Dict{String, Any}(\"centrality\" => 0, \"complexity\" => 14.0, \"blocking factor\" => 8, \"delay factor\" => 6.0), \"nameSub\" => \"Calculus I\", \"id\" => 1, \"credits\" => 4, \"nameCanonical\" => \"\")], \"id\" => 1), Dict(\"name\" => \"Term 2\", \"curriculum_items\" => Dict{String, Any}[Dict(\"curriculum_requisites\" => Dict{String, Any}[Dict(\"source_id\" => 1, \"target_id\" => 2, \"type\" => \"CurriculumPrerequisite\")], \"name\" => \" \", \"metrics\" => Dict{String, Any}(\"centrality\" => 5, \"complexity\" => 8.0, \"blocking factor\" => 3, \"delay factor\" => 5.0), \"nameSub\" => \"Calculus II\", \"id\" => 2, \"credits\" => 4, \"nameCanonical\" => \"\"), Dict(\"curriculum_requisites\" => Dict{String, Any}[Dict(\"source_id\" => 1, \"target_id\" => 3, \"type\" => \"CurriculumPrerequisite\")], \"name\" => \" \", \"metrics\" => Dict{String, Any}(\"centrality\" => 20, \"complexity\" => 11.0, \"blocking factor\" => 5, \"delay factor\" => 6.0), \"nameSub\" => \"Physics I\", \"id\" => 3, \"credits\" => 3, \"nameCanonical\" => \"\"), Dict(\"curriculum_requisites\" => Dict{String, Any}[Dict(\"source_id\" => 3, \"target_id\" => 4, \"type\" => \"CurriculumCorequisite\")], \"name\" => \" \", \"metrics\" => Dict{String, Any}(\"centrality\" => 11, \"complexity\" => 10.0, \"blocking factor\" => 4, \"delay factor\" => 6.0), \"nameSub\" => \"Physics I Lab\", \"id\" => 4, \"credits\" => 1, \"nameCanonical\" => \"\")], \"id\" => 2), Dict(\"name\" => \"Term 3\", \"curriculum_items\" => Dict{String, Any}[Dict(\"curriculum_requisites\" => Dict{String, Any}[Dict(\"source_id\" => 4, \"target_id\" => 5, \"type\" => \"CurriculumPrerequisite\"), Dict(\"source_id\" => 3, \"target_id\" => 5, \"type\" => \"CurriculumPrerequisite\")], \"name\" => \" \", \"metrics\" => Dict{String, Any}(\"centrality\" => 20, \"complexity\" => 9.0, \"blocking factor\" => 3, \"delay factor\" => 6.0), \"nameSub\" => \"Physics II\", \"id\" => 5, \"credits\" => 3, \"nameCanonical\" => \"\"), Dict(\"curriculum_requisites\" => Dict{String, Any}[Dict(\"source_id\" => 5, \"target_id\" => 6, \"type\" => \"CurriculumCorequisite\")], \"name\" => \" \", \"metrics\" => Dict{String, Any}(\"centrality\" => 0, \"complexity\" => 5.0, \"blocking factor\" => 0, \"delay factor\" => 5.0), \"nameSub\" => \"Physics II Lab\", \"id\" => 6, \"credits\" => 1, \"nameCanonical\" => \"\"), Dict(\"curriculum_requisites\" => Dict{String, Any}[Dict(\"source_id\" => 2, \"target_id\" => 7, \"type\" => \"CurriculumPrerequisite\")], \"name\" => \" \", \"metrics\" => Dict{String, Any}(\"centrality\" => 5, \"complexity\" => 7.0, \"blocking factor\" => 2, \"delay factor\" => 5.0), \"nameSub\" => \"Differential Eqs.\", \"id\" => 7, \"credits\" => 3, \"nameCanonical\" => \"\"), Dict(\"curriculum_requisites\" => Dict{String, Any}[Dict(\"source_id\" => 5, \"target_id\" => 8, \"type\" => \"CurriculumPrerequisite\"), Dict(\"source_id\" => 7, \"target_id\" => 8, \"type\" => \"CurriculumPrerequisite\")], \"name\" => \" \", \"metrics\" => Dict{String, Any}(\"centrality\" => 16, \"complexity\" => 7.0, \"blocking factor\" => 1, \"delay factor\" => 6.0), \"nameSub\" => \"Circuits I\", \"id\" => 8, \"credits\" => 3, \"nameCanonical\" => \"\")], \"id\" => 3), Dict(\"name\" => \"Term 4\", \"curriculum_items\" => Dict{String, Any}[Dict(\"curriculum_requisites\" => Dict{String, Any}[Dict(\"source_id\" => 8, \"target_id\" => 9, \"type\" => \"CurriculumPrerequisite\")], \"name\" => \" \", \"metrics\" => Dict{String, Any}(\"centrality\" => 0, \"complexity\" => 6.0, \"blocking factor\" => 0, \"delay factor\" => 6.0), \"nameSub\" => \"Circuits II\", \"id\" => 9, \"credits\" => 3, \"nameCanonical\" => \"\")], \"id\" => 4)], \"institution\" => \"\")), nothing)), Set{String}(), nothing, WebIO.Asset[], Dict{Any, Any}(), WebIO.ConnectionPool(Channel{Any}(32), Set{WebIO.AbstractConnection}(), Condition(Base.InvasiveLinkedList{Task}(Task (runnable) @0x000000011be30120, Task (runnable) @0x000000011be30120), Base.AlwaysLockedST(1))), WebIO.JSString[])"
      ]
     },
     "execution_count": 5,
     "metadata": {
      "application/vnd.webio.node+json": {
       "kernelId": "608747ee-a133-469f-a5ab-d2379c850c6c"
      }
     },
     "output_type": "execute_result"
    }
   ],
   "source": [
    "calc_ready = read_csv(\"EE-CalculusReady.csv\")\n",
    "visualize(calc_ready, notebook=true, scale=0.7)"
   ]
  },
  {
   "cell_type": "markdown",
   "metadata": {},
   "source": [
    "## Circuit I Design Pattern - Adapted According to Preparation\n",
    "Next we will consider the reforms related to math perparation at Wright St. University.  To learn more about the curricular reforms implemented at Wright St. University, see <cite data-cite=\"kl:13\">Klingbiel et al., (2013)</cite>"
   ]
  },
  {
   "cell_type": "markdown",
   "metadata": {},
   "source": [
    "### Analyzing the Curricular Design Pattern\n",
    "\n",
    "#### The pattern for Calculus I ready students. \n",
    "In the design pattern displayed above, for an electrical engineering program, notice that the assumption is that students enter Calculus I ready, and that if they are able to successfully complete all of the prerequisite courses, they will be able to take Circuits I (a foundational electrical engineering course) in the second semester of their sophomore year. Notice that the overall curricular complexity of this design pattern is ?.\n",
    "\n",
    "#### The pattern for Precalculus ready students.\n",
    "Now let's look at what happens to students who are not Calculus I ready when they enter the institution -- let's assume instead that they are Precalculus ready.  The curricular complexity increases to ?."
   ]
  },
  {
   "cell_type": "code",
   "execution_count": 6,
   "metadata": {
    "scrolled": false
   },
   "outputs": [
    {
     "data": {
      "application/vnd.webio.node+json": {
       "children": [
        {
         "children": [
          ""
         ],
         "instanceArgs": {
          "namespace": "html",
          "tag": "iframe"
         },
         "nodeType": "DOM",
         "props": {
          "events": {
           "load": "(function (){this.contentWindow.postMessage({\"options\":{\"hideTerms\":false,\"edit\":false},\"curriculum\":{\"name\":\"Circuits I Design Pattern\",\"dp_name\":\"Precalculus ready\",\"curriculum_terms\":[{\"name\":\"Term 1\",\"curriculum_items\":[{\"curriculum_requisites\":[],\"name\":\" \",\"metrics\":{\"centrality\":0,\"complexity\":16.0,\"blocking factor\":9,\"delay factor\":7.0},\"nameSub\":\"Precalculus\",\"id\":10,\"credits\":4,\"nameCanonical\":\"\"}],\"id\":1},{\"name\":\"Term 2\",\"curriculum_items\":[{\"curriculum_requisites\":[{\"source_id\":10,\"target_id\":1,\"type\":\"CurriculumPrerequisite\"}],\"name\":\" \",\"metrics\":{\"centrality\":30,\"complexity\":15.0,\"blocking factor\":8,\"delay factor\":7.0},\"nameSub\":\"Calculus I\",\"id\":1,\"credits\":4,\"nameCanonical\":\"\"}],\"id\":2},{\"name\":\"Term 3\",\"curriculum_items\":[{\"curriculum_requisites\":[{\"source_id\":1,\"target_id\":2,\"type\":\"CurriculumPrerequisite\"}],\"name\":\" \",\"metrics\":{\"centrality\":6,\"complexity\":9.0,\"blocking factor\":3,\"delay factor\":6.0},\"nameSub\":\"Calculus II\",\"id\":2,\"credits\":4,\"nameCanonical\":\"\"},{\"curriculum_requisites\":[{\"source_id\":1,\"target_id\":3,\"type\":\"CurriculumPrerequisite\"}],\"name\":\" \",\"metrics\":{\"centrality\":24,\"complexity\":12.0,\"blocking factor\":5,\"delay factor\":7.0},\"nameSub\":\"Physics I\",\"id\":3,\"credits\":3,\"nameCanonical\":\"\"},{\"curriculum_requisites\":[{\"source_id\":3,\"target_id\":4,\"type\":\"CurriculumCorequisite\"}],\"name\":\" \",\"metrics\":{\"centrality\":13,\"complexity\":11.0,\"blocking factor\":4,\"delay factor\":7.0},\"nameSub\":\"Physics I Lab\",\"id\":4,\"credits\":1,\"nameCanonical\":\"\"}],\"id\":3},{\"name\":\"Term 4\",\"curriculum_items\":[{\"curriculum_requisites\":[{\"source_id\":4,\"target_id\":5,\"type\":\"CurriculumPrerequisite\"},{\"source_id\":3,\"target_id\":5,\"type\":\"CurriculumPrerequisite\"}],\"name\":\" \",\"metrics\":{\"centrality\":24,\"complexity\":10.0,\"blocking factor\":3,\"delay factor\":7.0},\"nameSub\":\"Physics II\",\"id\":5,\"credits\":3,\"nameCanonical\":\"\"},{\"curriculum_requisites\":[{\"source_id\":5,\"target_id\":6,\"type\":\"CurriculumCorequisite\"}],\"name\":\" \",\"metrics\":{\"centrality\":0,\"complexity\":6.0,\"blocking factor\":0,\"delay factor\":6.0},\"nameSub\":\"Physics II Lab\",\"id\":6,\"credits\":1,\"nameCanonical\":\"\"},{\"curriculum_requisites\":[{\"source_id\":2,\"target_id\":7,\"type\":\"CurriculumPrerequisite\"}],\"name\":\" \",\"metrics\":{\"centrality\":6,\"complexity\":8.0,\"blocking factor\":2,\"delay factor\":6.0},\"nameSub\":\"Differential Eqs.\",\"id\":7,\"credits\":3,\"nameCanonical\":\"\"},{\"curriculum_requisites\":[{\"source_id\":5,\"target_id\":8,\"type\":\"CurriculumPrerequisite\"},{\"source_id\":7,\"target_id\":8,\"type\":\"CurriculumPrerequisite\"}],\"name\":\" \",\"metrics\":{\"centrality\":19,\"complexity\":8.0,\"blocking factor\":1,\"delay factor\":7.0},\"nameSub\":\"Circuits I\",\"id\":8,\"credits\":3,\"nameCanonical\":\"\"}],\"id\":4},{\"name\":\"Term 5\",\"curriculum_items\":[{\"curriculum_requisites\":[{\"source_id\":8,\"target_id\":9,\"type\":\"CurriculumPrerequisite\"}],\"name\":\" \",\"metrics\":{\"centrality\":0,\"complexity\":7.0,\"blocking factor\":0,\"delay factor\":7.0},\"nameSub\":\"Circuits II\",\"id\":9,\"credits\":3,\"nameCanonical\":\"\"}],\"id\":5}],\"institution\":\"\"}},\"*\"); window.removeEventListener(\"message\",window.messageReceived); window.messageReceived=(function (event){return (event.data.curriculum!==undefined) ? (WebIO.setval({\"name\":\"curriculum-data\",\"scope\":\"6872581497887227250\",\"id\":\"13644103121897036557\",\"type\":\"observable\"},event.data.curriculum)) : undefined}); return window.addEventListener(\"message\",window.messageReceived)})"
          },
          "id": "curriculum",
          "src": "https://curricula-api-embed.damoursystems.com/",
          "style": {
           "border": "none",
           "height": "80vh",
           "margin": "0",
           "padding": "0",
           "width": "100%"
          }
         },
         "type": "node"
        }
       ],
       "instanceArgs": {
        "handlers": {},
        "id": "6872581497887227250",
        "imports": {
         "data": [],
         "type": "async_block"
        },
        "mount_callbacks": [],
        "observables": {
         "curriculum-data": {
          "id": "13644103121897036557",
          "sync": true,
          "value": {
           "curriculum": {
            "curriculum_terms": [
             {
              "curriculum_items": [
               {
                "credits": 4,
                "curriculum_requisites": [],
                "id": 10,
                "metrics": {
                 "blocking factor": 9,
                 "centrality": 0,
                 "complexity": 16,
                 "delay factor": 7
                },
                "name": " ",
                "nameCanonical": "",
                "nameSub": "Precalculus"
               }
              ],
              "id": 1,
              "name": "Term 1"
             },
             {
              "curriculum_items": [
               {
                "credits": 4,
                "curriculum_requisites": [
                 {
                  "source_id": 10,
                  "target_id": 1,
                  "type": "CurriculumPrerequisite"
                 }
                ],
                "id": 1,
                "metrics": {
                 "blocking factor": 8,
                 "centrality": 30,
                 "complexity": 15,
                 "delay factor": 7
                },
                "name": " ",
                "nameCanonical": "",
                "nameSub": "Calculus I"
               }
              ],
              "id": 2,
              "name": "Term 2"
             },
             {
              "curriculum_items": [
               {
                "credits": 4,
                "curriculum_requisites": [
                 {
                  "source_id": 1,
                  "target_id": 2,
                  "type": "CurriculumPrerequisite"
                 }
                ],
                "id": 2,
                "metrics": {
                 "blocking factor": 3,
                 "centrality": 6,
                 "complexity": 9,
                 "delay factor": 6
                },
                "name": " ",
                "nameCanonical": "",
                "nameSub": "Calculus II"
               },
               {
                "credits": 3,
                "curriculum_requisites": [
                 {
                  "source_id": 1,
                  "target_id": 3,
                  "type": "CurriculumPrerequisite"
                 }
                ],
                "id": 3,
                "metrics": {
                 "blocking factor": 5,
                 "centrality": 24,
                 "complexity": 12,
                 "delay factor": 7
                },
                "name": " ",
                "nameCanonical": "",
                "nameSub": "Physics I"
               },
               {
                "credits": 1,
                "curriculum_requisites": [
                 {
                  "source_id": 3,
                  "target_id": 4,
                  "type": "CurriculumCorequisite"
                 }
                ],
                "id": 4,
                "metrics": {
                 "blocking factor": 4,
                 "centrality": 13,
                 "complexity": 11,
                 "delay factor": 7
                },
                "name": " ",
                "nameCanonical": "",
                "nameSub": "Physics I Lab"
               }
              ],
              "id": 3,
              "name": "Term 3"
             },
             {
              "curriculum_items": [
               {
                "credits": 3,
                "curriculum_requisites": [
                 {
                  "source_id": 4,
                  "target_id": 5,
                  "type": "CurriculumPrerequisite"
                 },
                 {
                  "source_id": 3,
                  "target_id": 5,
                  "type": "CurriculumPrerequisite"
                 }
                ],
                "id": 5,
                "metrics": {
                 "blocking factor": 3,
                 "centrality": 24,
                 "complexity": 10,
                 "delay factor": 7
                },
                "name": " ",
                "nameCanonical": "",
                "nameSub": "Physics II"
               },
               {
                "credits": 1,
                "curriculum_requisites": [
                 {
                  "source_id": 5,
                  "target_id": 6,
                  "type": "CurriculumCorequisite"
                 }
                ],
                "id": 6,
                "metrics": {
                 "blocking factor": 0,
                 "centrality": 0,
                 "complexity": 6,
                 "delay factor": 6
                },
                "name": " ",
                "nameCanonical": "",
                "nameSub": "Physics II Lab"
               },
               {
                "credits": 3,
                "curriculum_requisites": [
                 {
                  "source_id": 2,
                  "target_id": 7,
                  "type": "CurriculumPrerequisite"
                 }
                ],
                "id": 7,
                "metrics": {
                 "blocking factor": 2,
                 "centrality": 6,
                 "complexity": 8,
                 "delay factor": 6
                },
                "name": " ",
                "nameCanonical": "",
                "nameSub": "Differential Eqs."
               },
               {
                "credits": 3,
                "curriculum_requisites": [
                 {
                  "source_id": 5,
                  "target_id": 8,
                  "type": "CurriculumPrerequisite"
                 },
                 {
                  "source_id": 7,
                  "target_id": 8,
                  "type": "CurriculumPrerequisite"
                 }
                ],
                "id": 8,
                "metrics": {
                 "blocking factor": 1,
                 "centrality": 19,
                 "complexity": 8,
                 "delay factor": 7
                },
                "name": " ",
                "nameCanonical": "",
                "nameSub": "Circuits I"
               }
              ],
              "id": 4,
              "name": "Term 4"
             },
             {
              "curriculum_items": [
               {
                "credits": 3,
                "curriculum_requisites": [
                 {
                  "source_id": 8,
                  "target_id": 9,
                  "type": "CurriculumPrerequisite"
                 }
                ],
                "id": 9,
                "metrics": {
                 "blocking factor": 0,
                 "centrality": 0,
                 "complexity": 7,
                 "delay factor": 7
                },
                "name": " ",
                "nameCanonical": "",
                "nameSub": "Circuits II"
               }
              ],
              "id": 5,
              "name": "Term 5"
             }
            ],
            "dp_name": "Precalculus ready",
            "institution": "",
            "name": "Circuits I Design Pattern"
           },
           "options": {
            "edit": false,
            "hideTerms": false
           }
          }
         }
        },
        "systemjs_options": null
       },
       "nodeType": "Scope",
       "props": {},
       "type": "node"
      },
      "text/html": [
       "<div\n",
       "    class=\"webio-mountpoint\"\n",
       "    data-webio-mountpoint=\"4761255491279008296\"\n",
       ">\n",
       "    <script>\n",
       "    if (window.require && require.defined && require.defined(\"nbextensions/webio-jupyter-notebook\")) {\n",
       "        console.log(\"Jupyter WebIO extension detected, not mounting.\");\n",
       "    } else if (window.WebIO) {\n",
       "        WebIO.mount(\n",
       "            document.querySelector('[data-webio-mountpoint=\"4761255491279008296\"]'),\n",
       "            {\"props\":{},\"nodeType\":\"Scope\",\"type\":\"node\",\"instanceArgs\":{\"imports\":{\"data\":[],\"type\":\"async_block\"},\"id\":\"6872581497887227250\",\"handlers\":{},\"systemjs_options\":null,\"mount_callbacks\":[],\"observables\":{\"curriculum-data\":{\"sync\":true,\"id\":\"13644103121897036557\",\"value\":{\"options\":{\"hideTerms\":false,\"edit\":false},\"curriculum\":{\"name\":\"Circuits I Design Pattern\",\"dp_name\":\"Precalculus ready\",\"curriculum_terms\":[{\"name\":\"Term 1\",\"curriculum_items\":[{\"curriculum_requisites\":[],\"name\":\" \",\"metrics\":{\"centrality\":0,\"complexity\":16.0,\"blocking factor\":9,\"delay factor\":7.0},\"nameSub\":\"Precalculus\",\"id\":10,\"credits\":4,\"nameCanonical\":\"\"}],\"id\":1},{\"name\":\"Term 2\",\"curriculum_items\":[{\"curriculum_requisites\":[{\"source_id\":10,\"target_id\":1,\"type\":\"CurriculumPrerequisite\"}],\"name\":\" \",\"metrics\":{\"centrality\":30,\"complexity\":15.0,\"blocking factor\":8,\"delay factor\":7.0},\"nameSub\":\"Calculus I\",\"id\":1,\"credits\":4,\"nameCanonical\":\"\"}],\"id\":2},{\"name\":\"Term 3\",\"curriculum_items\":[{\"curriculum_requisites\":[{\"source_id\":1,\"target_id\":2,\"type\":\"CurriculumPrerequisite\"}],\"name\":\" \",\"metrics\":{\"centrality\":6,\"complexity\":9.0,\"blocking factor\":3,\"delay factor\":6.0},\"nameSub\":\"Calculus II\",\"id\":2,\"credits\":4,\"nameCanonical\":\"\"},{\"curriculum_requisites\":[{\"source_id\":1,\"target_id\":3,\"type\":\"CurriculumPrerequisite\"}],\"name\":\" \",\"metrics\":{\"centrality\":24,\"complexity\":12.0,\"blocking factor\":5,\"delay factor\":7.0},\"nameSub\":\"Physics I\",\"id\":3,\"credits\":3,\"nameCanonical\":\"\"},{\"curriculum_requisites\":[{\"source_id\":3,\"target_id\":4,\"type\":\"CurriculumCorequisite\"}],\"name\":\" \",\"metrics\":{\"centrality\":13,\"complexity\":11.0,\"blocking factor\":4,\"delay factor\":7.0},\"nameSub\":\"Physics I Lab\",\"id\":4,\"credits\":1,\"nameCanonical\":\"\"}],\"id\":3},{\"name\":\"Term 4\",\"curriculum_items\":[{\"curriculum_requisites\":[{\"source_id\":4,\"target_id\":5,\"type\":\"CurriculumPrerequisite\"},{\"source_id\":3,\"target_id\":5,\"type\":\"CurriculumPrerequisite\"}],\"name\":\" \",\"metrics\":{\"centrality\":24,\"complexity\":10.0,\"blocking factor\":3,\"delay factor\":7.0},\"nameSub\":\"Physics II\",\"id\":5,\"credits\":3,\"nameCanonical\":\"\"},{\"curriculum_requisites\":[{\"source_id\":5,\"target_id\":6,\"type\":\"CurriculumCorequisite\"}],\"name\":\" \",\"metrics\":{\"centrality\":0,\"complexity\":6.0,\"blocking factor\":0,\"delay factor\":6.0},\"nameSub\":\"Physics II Lab\",\"id\":6,\"credits\":1,\"nameCanonical\":\"\"},{\"curriculum_requisites\":[{\"source_id\":2,\"target_id\":7,\"type\":\"CurriculumPrerequisite\"}],\"name\":\" \",\"metrics\":{\"centrality\":6,\"complexity\":8.0,\"blocking factor\":2,\"delay factor\":6.0},\"nameSub\":\"Differential Eqs.\",\"id\":7,\"credits\":3,\"nameCanonical\":\"\"},{\"curriculum_requisites\":[{\"source_id\":5,\"target_id\":8,\"type\":\"CurriculumPrerequisite\"},{\"source_id\":7,\"target_id\":8,\"type\":\"CurriculumPrerequisite\"}],\"name\":\" \",\"metrics\":{\"centrality\":19,\"complexity\":8.0,\"blocking factor\":1,\"delay factor\":7.0},\"nameSub\":\"Circuits I\",\"id\":8,\"credits\":3,\"nameCanonical\":\"\"}],\"id\":4},{\"name\":\"Term 5\",\"curriculum_items\":[{\"curriculum_requisites\":[{\"source_id\":8,\"target_id\":9,\"type\":\"CurriculumPrerequisite\"}],\"name\":\" \",\"metrics\":{\"centrality\":0,\"complexity\":7.0,\"blocking factor\":0,\"delay factor\":7.0},\"nameSub\":\"Circuits II\",\"id\":9,\"credits\":3,\"nameCanonical\":\"\"}],\"id\":5}],\"institution\":\"\"}}}}},\"children\":[{\"props\":{\"src\":\"https:\\/\\/curricula-api-embed.damoursystems.com\\/\",\"id\":\"curriculum\",\"events\":{\"load\":\"(function (){this.contentWindow.postMessage({\\\"options\\\":{\\\"hideTerms\\\":false,\\\"edit\\\":false},\\\"curriculum\\\":{\\\"name\\\":\\\"Circuits I Design Pattern\\\",\\\"dp_name\\\":\\\"Precalculus ready\\\",\\\"curriculum_terms\\\":[{\\\"name\\\":\\\"Term 1\\\",\\\"curriculum_items\\\":[{\\\"curriculum_requisites\\\":[],\\\"name\\\":\\\" \\\",\\\"metrics\\\":{\\\"centrality\\\":0,\\\"complexity\\\":16.0,\\\"blocking factor\\\":9,\\\"delay factor\\\":7.0},\\\"nameSub\\\":\\\"Precalculus\\\",\\\"id\\\":10,\\\"credits\\\":4,\\\"nameCanonical\\\":\\\"\\\"}],\\\"id\\\":1},{\\\"name\\\":\\\"Term 2\\\",\\\"curriculum_items\\\":[{\\\"curriculum_requisites\\\":[{\\\"source_id\\\":10,\\\"target_id\\\":1,\\\"type\\\":\\\"CurriculumPrerequisite\\\"}],\\\"name\\\":\\\" \\\",\\\"metrics\\\":{\\\"centrality\\\":30,\\\"complexity\\\":15.0,\\\"blocking factor\\\":8,\\\"delay factor\\\":7.0},\\\"nameSub\\\":\\\"Calculus I\\\",\\\"id\\\":1,\\\"credits\\\":4,\\\"nameCanonical\\\":\\\"\\\"}],\\\"id\\\":2},{\\\"name\\\":\\\"Term 3\\\",\\\"curriculum_items\\\":[{\\\"curriculum_requisites\\\":[{\\\"source_id\\\":1,\\\"target_id\\\":2,\\\"type\\\":\\\"CurriculumPrerequisite\\\"}],\\\"name\\\":\\\" \\\",\\\"metrics\\\":{\\\"centrality\\\":6,\\\"complexity\\\":9.0,\\\"blocking factor\\\":3,\\\"delay factor\\\":6.0},\\\"nameSub\\\":\\\"Calculus II\\\",\\\"id\\\":2,\\\"credits\\\":4,\\\"nameCanonical\\\":\\\"\\\"},{\\\"curriculum_requisites\\\":[{\\\"source_id\\\":1,\\\"target_id\\\":3,\\\"type\\\":\\\"CurriculumPrerequisite\\\"}],\\\"name\\\":\\\" \\\",\\\"metrics\\\":{\\\"centrality\\\":24,\\\"complexity\\\":12.0,\\\"blocking factor\\\":5,\\\"delay factor\\\":7.0},\\\"nameSub\\\":\\\"Physics I\\\",\\\"id\\\":3,\\\"credits\\\":3,\\\"nameCanonical\\\":\\\"\\\"},{\\\"curriculum_requisites\\\":[{\\\"source_id\\\":3,\\\"target_id\\\":4,\\\"type\\\":\\\"CurriculumCorequisite\\\"}],\\\"name\\\":\\\" \\\",\\\"metrics\\\":{\\\"centrality\\\":13,\\\"complexity\\\":11.0,\\\"blocking factor\\\":4,\\\"delay factor\\\":7.0},\\\"nameSub\\\":\\\"Physics I Lab\\\",\\\"id\\\":4,\\\"credits\\\":1,\\\"nameCanonical\\\":\\\"\\\"}],\\\"id\\\":3},{\\\"name\\\":\\\"Term 4\\\",\\\"curriculum_items\\\":[{\\\"curriculum_requisites\\\":[{\\\"source_id\\\":4,\\\"target_id\\\":5,\\\"type\\\":\\\"CurriculumPrerequisite\\\"},{\\\"source_id\\\":3,\\\"target_id\\\":5,\\\"type\\\":\\\"CurriculumPrerequisite\\\"}],\\\"name\\\":\\\" \\\",\\\"metrics\\\":{\\\"centrality\\\":24,\\\"complexity\\\":10.0,\\\"blocking factor\\\":3,\\\"delay factor\\\":7.0},\\\"nameSub\\\":\\\"Physics II\\\",\\\"id\\\":5,\\\"credits\\\":3,\\\"nameCanonical\\\":\\\"\\\"},{\\\"curriculum_requisites\\\":[{\\\"source_id\\\":5,\\\"target_id\\\":6,\\\"type\\\":\\\"CurriculumCorequisite\\\"}],\\\"name\\\":\\\" \\\",\\\"metrics\\\":{\\\"centrality\\\":0,\\\"complexity\\\":6.0,\\\"blocking factor\\\":0,\\\"delay factor\\\":6.0},\\\"nameSub\\\":\\\"Physics II Lab\\\",\\\"id\\\":6,\\\"credits\\\":1,\\\"nameCanonical\\\":\\\"\\\"},{\\\"curriculum_requisites\\\":[{\\\"source_id\\\":2,\\\"target_id\\\":7,\\\"type\\\":\\\"CurriculumPrerequisite\\\"}],\\\"name\\\":\\\" \\\",\\\"metrics\\\":{\\\"centrality\\\":6,\\\"complexity\\\":8.0,\\\"blocking factor\\\":2,\\\"delay factor\\\":6.0},\\\"nameSub\\\":\\\"Differential Eqs.\\\",\\\"id\\\":7,\\\"credits\\\":3,\\\"nameCanonical\\\":\\\"\\\"},{\\\"curriculum_requisites\\\":[{\\\"source_id\\\":5,\\\"target_id\\\":8,\\\"type\\\":\\\"CurriculumPrerequisite\\\"},{\\\"source_id\\\":7,\\\"target_id\\\":8,\\\"type\\\":\\\"CurriculumPrerequisite\\\"}],\\\"name\\\":\\\" \\\",\\\"metrics\\\":{\\\"centrality\\\":19,\\\"complexity\\\":8.0,\\\"blocking factor\\\":1,\\\"delay factor\\\":7.0},\\\"nameSub\\\":\\\"Circuits I\\\",\\\"id\\\":8,\\\"credits\\\":3,\\\"nameCanonical\\\":\\\"\\\"}],\\\"id\\\":4},{\\\"name\\\":\\\"Term 5\\\",\\\"curriculum_items\\\":[{\\\"curriculum_requisites\\\":[{\\\"source_id\\\":8,\\\"target_id\\\":9,\\\"type\\\":\\\"CurriculumPrerequisite\\\"}],\\\"name\\\":\\\" \\\",\\\"metrics\\\":{\\\"centrality\\\":0,\\\"complexity\\\":7.0,\\\"blocking factor\\\":0,\\\"delay factor\\\":7.0},\\\"nameSub\\\":\\\"Circuits II\\\",\\\"id\\\":9,\\\"credits\\\":3,\\\"nameCanonical\\\":\\\"\\\"}],\\\"id\\\":5}],\\\"institution\\\":\\\"\\\"}},\\\"*\\\"); window.removeEventListener(\\\"message\\\",window.messageReceived); window.messageReceived=(function (event){return (event.data.curriculum!==undefined) ? (WebIO.setval({\\\"name\\\":\\\"curriculum-data\\\",\\\"scope\\\":\\\"6872581497887227250\\\",\\\"id\\\":\\\"13644103121897036557\\\",\\\"type\\\":\\\"observable\\\"},event.data.curriculum)) : undefined}); return window.addEventListener(\\\"message\\\",window.messageReceived)})\"},\"style\":{\"padding\":\"0\",\"height\":\"80vh\",\"margin\":\"0\",\"border\":\"none\",\"width\":\"100%\"}},\"nodeType\":\"DOM\",\"type\":\"node\",\"instanceArgs\":{\"namespace\":\"html\",\"tag\":\"iframe\"},\"children\":[\"\"]}]},\n",
       "            window,\n",
       "        );\n",
       "    } else {\n",
       "        document\n",
       "            .querySelector('[data-webio-mountpoint=\"4761255491279008296\"]')\n",
       "            .innerHTML = (\n",
       "                '<div style=\"padding: 1em; background-color: #f8d6da; border: 1px solid #f5c6cb\">' +\n",
       "                '<p><strong>WebIO not detected.</strong></p>' +\n",
       "                '<p>Please read ' +\n",
       "                '<a href=\"https://juliagizmos.github.io/WebIO.jl/latest/troubleshooting/not-detected/\" target=\"_blank\">the troubleshooting guide</a> ' +\n",
       "                'for more information on how to resolve this issue.</p>' +\n",
       "                '<p><a href=\"https://juliagizmos.github.io/WebIO.jl/latest/troubleshooting/not-detected/\" target=\"_blank\">https://juliagizmos.github.io/WebIO.jl/latest/troubleshooting/not-detected/</a></p>' +\n",
       "                '</div>'\n",
       "            );\n",
       "    }\n",
       "    </script>\n",
       "</div>\n"
      ],
      "text/plain": [
       "WebIO.Scope(WebIO.Node{WebIO.DOM}(WebIO.DOM(:html, :iframe), Any[\"\"], Dict{Symbol, Any}(:src => \"https://curricula-api-embed.damoursystems.com/\", :id => \"curriculum\", :events => Dict{Symbol, WebIO.JSString}(:load => WebIO.JSString(\"(function (){this.contentWindow.postMessage({\\\"options\\\":{\\\"hideTerms\\\":false,\\\"edit\\\":false},\\\"curriculum\\\":{\\\"name\\\":\\\"Circuits I Design Pattern\\\",\\\"dp_name\\\":\\\"Precalculus ready\\\",\\\"curriculum_terms\\\":[{\\\"name\\\":\\\"Term 1\\\",\\\"curriculum_items\\\":[{\\\"curriculum_requisites\\\":[],\\\"name\\\":\\\" \\\",\\\"metrics\\\":{\\\"centrality\\\":0,\\\"complexity\\\":16.0,\\\"blocking factor\\\":9,\\\"delay factor\\\":7.0},\\\"nameSub\\\":\\\"Precalculus\\\",\\\"id\\\":10,\\\"credits\\\":4,\\\"nameCanonical\\\":\\\"\\\"}],\\\"id\\\":1},{\\\"name\\\":\\\"Term 2\\\",\\\"curriculum_items\\\":[{\\\"curriculum_requisites\\\":[{\\\"source_id\\\":10,\\\"target_id\\\":1,\\\"type\\\":\\\"CurriculumPrerequisite\\\"}],\\\"name\\\":\\\" \\\",\\\"metrics\\\":{\\\"centrality\\\":30,\\\"complexity\\\":15.0,\\\"blocking factor\\\":8,\\\"delay factor\\\":7.0},\\\"nameSub\\\":\\\"Calculus I\\\",\\\"id\\\":1,\\\"credits\\\":4,\\\"nameCanonical\\\":\\\"\\\"}],\\\"id\\\":2},{\\\"name\\\":\\\"Term 3\\\",\\\"curriculum_items\\\":[{\\\"curriculum_requisites\\\":[{\\\"source_id\\\":1,\\\"target_id\\\":2,\\\"type\\\":\\\"CurriculumPrerequisite\\\"}],\\\"name\\\":\\\" \\\",\\\"metrics\\\":{\\\"centrality\\\":6,\\\"complexity\\\":9.0,\\\"blocking factor\\\":3,\\\"delay factor\\\":6.0},\\\"nameSub\\\":\\\"Calculus II\\\",\\\"id\\\":2,\\\"credits\\\":4,\\\"nameCanonical\\\":\\\"\\\"},{\\\"curriculum_requisites\\\":[{\\\"source_id\\\":1,\\\"target_id\\\":3,\\\"type\\\":\\\"CurriculumPrerequisite\\\"}],\\\"name\\\":\\\" \\\",\\\"metrics\\\":{\\\"centrality\\\":24,\\\"complexity\\\":12.0,\\\"blocking factor\\\":5,\\\"delay factor\\\":7.0},\\\"nameSub\\\":\\\"Physics I\\\",\\\"id\\\":3,\\\"credits\\\":3,\\\"nameCanonical\\\":\\\"\\\"},{\\\"curriculum_requisites\\\":[{\\\"source_id\\\":3,\\\"target_id\\\":4,\\\"type\\\":\\\"CurriculumCorequisite\\\"}],\\\"name\\\":\\\" \\\",\\\"metrics\\\":{\\\"centrality\\\":13,\\\"complexity\\\":11.0,\\\"blocking factor\\\":4,\\\"delay factor\\\":7.0},\\\"nameSub\\\":\\\"Physics I Lab\\\",\\\"id\\\":4,\\\"credits\\\":1,\\\"nameCanonical\\\":\\\"\\\"}],\\\"id\\\":3},{\\\"name\\\":\\\"Term 4\\\",\\\"curriculum_items\\\":[{\\\"curriculum_requisites\\\":[{\\\"source_id\\\":4,\\\"target_id\\\":5,\\\"type\\\":\\\"CurriculumPrerequisite\\\"},{\\\"source_id\\\":3,\\\"target_id\\\":5,\\\"type\\\":\\\"CurriculumPrerequisite\\\"}],\\\"name\\\":\\\" \\\",\\\"metrics\\\":{\\\"centrality\\\":24,\\\"complexity\\\":10.0,\\\"blocking factor\\\":3,\\\"delay factor\\\":7.0},\\\"nameSub\\\":\\\"Physics II\\\",\\\"id\\\":5,\\\"credits\\\":3,\\\"nameCanonical\\\":\\\"\\\"},{\\\"curriculum_requisites\\\":[{\\\"source_id\\\":5,\\\"target_id\\\":6,\\\"type\\\":\\\"CurriculumCorequisite\\\"}],\\\"name\\\":\\\" \\\",\\\"metrics\\\":{\\\"centrality\\\":0,\\\"complexity\\\":6.0,\\\"blocking factor\\\":0,\\\"delay factor\\\":6.0},\\\"nameSub\\\":\\\"Physics II Lab\\\",\\\"id\\\":6,\\\"credits\\\":1,\\\"nameCanonical\\\":\\\"\\\"},{\\\"curriculum_requisites\\\":[{\\\"source_id\\\":2,\\\"target_id\\\":7,\\\"type\\\":\\\"CurriculumPrerequisite\\\"}],\\\"name\\\":\\\" \\\",\\\"metrics\\\":{\\\"centrality\\\":6,\\\"complexity\\\":8.0,\\\"blocking factor\\\":2,\\\"delay factor\\\":6.0},\\\"nameSub\\\":\\\"Differential Eqs.\\\",\\\"id\\\":7,\\\"credits\\\":3,\\\"nameCanonical\\\":\\\"\\\"},{\\\"curriculum_requisites\\\":[{\\\"source_id\\\":5,\\\"target_id\\\":8,\\\"type\\\":\\\"CurriculumPrerequisite\\\"},{\\\"source_id\\\":7,\\\"target_id\\\":8,\\\"type\\\":\\\"CurriculumPrerequisite\\\"}],\\\"name\\\":\\\" \\\",\\\"metrics\\\":{\\\"centrality\\\":19,\\\"complexity\\\":8.0,\\\"blocking factor\\\":1,\\\"delay factor\\\":7.0},\\\"nameSub\\\":\\\"Circuits I\\\",\\\"id\\\":8,\\\"credits\\\":3,\\\"nameCanonical\\\":\\\"\\\"}],\\\"id\\\":4},{\\\"name\\\":\\\"Term 5\\\",\\\"curriculum_items\\\":[{\\\"curriculum_requisites\\\":[{\\\"source_id\\\":8,\\\"target_id\\\":9,\\\"type\\\":\\\"CurriculumPrerequisite\\\"}],\\\"name\\\":\\\" \\\",\\\"metrics\\\":{\\\"centrality\\\":0,\\\"complexity\\\":7.0,\\\"blocking factor\\\":0,\\\"delay factor\\\":7.0},\\\"nameSub\\\":\\\"Circuits II\\\",\\\"id\\\":9,\\\"credits\\\":3,\\\"nameCanonical\\\":\\\"\\\"}],\\\"id\\\":5}],\\\"institution\\\":\\\"\\\"}},\\\"*\\\"); window.removeEventListener(\\\"message\\\",window.messageReceived); window.messageReceived=(function (event){return (event.data.curriculum!==undefined) ? (WebIO.setval({\\\"name\\\":\\\"curriculum-data\\\",\\\"scope\\\":\\\"6872581497887227250\\\",\\\"id\\\":\\\"13644103121897036557\\\",\\\"type\\\":\\\"observable\\\"},event.data.curriculum)) : undefined}); return window.addEventListener(\\\"message\\\",window.messageReceived)})\")), :style => Dict(:padding => \"0\", :height => \"80vh\", :margin => \"0\", :border => \"none\", :width => \"100%\"))), Dict{String, Tuple{Observables.AbstractObservable, Union{Nothing, Bool}}}(\"curriculum-data\" => (Observable{Dict{String, Any}} with 1 listeners. Value:\n",
       "Dict{String, Any}(\"options\" => Dict{String, Any}(\"hideTerms\" => false, \"edit\" => false), \"curriculum\" => Dict{String, Any}(\"name\" => \"Circuits I Design Pattern\", \"dp_name\" => \"Precalculus ready\", \"curriculum_terms\" => Dict{String, Any}[Dict(\"name\" => \"Term 1\", \"curriculum_items\" => Dict{String, Any}[Dict(\"curriculum_requisites\" => Dict{String, Any}[], \"name\" => \" \", \"metrics\" => Dict{String, Any}(\"centrality\" => 0, \"complexity\" => 16.0, \"blocking factor\" => 9, \"delay factor\" => 7.0), \"nameSub\" => \"Precalculus\", \"id\" => 10, \"credits\" => 4, \"nameCanonical\" => \"\")], \"id\" => 1), Dict(\"name\" => \"Term 2\", \"curriculum_items\" => Dict{String, Any}[Dict(\"curriculum_requisites\" => Dict{String, Any}[Dict(\"source_id\" => 10, \"target_id\" => 1, \"type\" => \"CurriculumPrerequisite\")], \"name\" => \" \", \"metrics\" => Dict{String, Any}(\"centrality\" => 30, \"complexity\" => 15.0, \"blocking factor\" => 8, \"delay factor\" => 7.0), \"nameSub\" => \"Calculus I\", \"id\" => 1, \"credits\" => 4, \"nameCanonical\" => \"\")], \"id\" => 2), Dict(\"name\" => \"Term 3\", \"curriculum_items\" => Dict{String, Any}[Dict(\"curriculum_requisites\" => Dict{String, Any}[Dict(\"source_id\" => 1, \"target_id\" => 2, \"type\" => \"CurriculumPrerequisite\")], \"name\" => \" \", \"metrics\" => Dict{String, Any}(\"centrality\" => 6, \"complexity\" => 9.0, \"blocking factor\" => 3, \"delay factor\" => 6.0), \"nameSub\" => \"Calculus II\", \"id\" => 2, \"credits\" => 4, \"nameCanonical\" => \"\"), Dict(\"curriculum_requisites\" => Dict{String, Any}[Dict(\"source_id\" => 1, \"target_id\" => 3, \"type\" => \"CurriculumPrerequisite\")], \"name\" => \" \", \"metrics\" => Dict{String, Any}(\"centrality\" => 24, \"complexity\" => 12.0, \"blocking factor\" => 5, \"delay factor\" => 7.0), \"nameSub\" => \"Physics I\", \"id\" => 3, \"credits\" => 3, \"nameCanonical\" => \"\"), Dict(\"curriculum_requisites\" => Dict{String, Any}[Dict(\"source_id\" => 3, \"target_id\" => 4, \"type\" => \"CurriculumCorequisite\")], \"name\" => \" \", \"metrics\" => Dict{String, Any}(\"centrality\" => 13, \"complexity\" => 11.0, \"blocking factor\" => 4, \"delay factor\" => 7.0), \"nameSub\" => \"Physics I Lab\", \"id\" => 4, \"credits\" => 1, \"nameCanonical\" => \"\")], \"id\" => 3), Dict(\"name\" => \"Term 4\", \"curriculum_items\" => Dict{String, Any}[Dict(\"curriculum_requisites\" => Dict{String, Any}[Dict(\"source_id\" => 4, \"target_id\" => 5, \"type\" => \"CurriculumPrerequisite\"), Dict(\"source_id\" => 3, \"target_id\" => 5, \"type\" => \"CurriculumPrerequisite\")], \"name\" => \" \", \"metrics\" => Dict{String, Any}(\"centrality\" => 24, \"complexity\" => 10.0, \"blocking factor\" => 3, \"delay factor\" => 7.0), \"nameSub\" => \"Physics II\", \"id\" => 5, \"credits\" => 3, \"nameCanonical\" => \"\"), Dict(\"curriculum_requisites\" => Dict{String, Any}[Dict(\"source_id\" => 5, \"target_id\" => 6, \"type\" => \"CurriculumCorequisite\")], \"name\" => \" \", \"metrics\" => Dict{String, Any}(\"centrality\" => 0, \"complexity\" => 6.0, \"blocking factor\" => 0, \"delay factor\" => 6.0), \"nameSub\" => \"Physics II Lab\", \"id\" => 6, \"credits\" => 1, \"nameCanonical\" => \"\"), Dict(\"curriculum_requisites\" => Dict{String, Any}[Dict(\"source_id\" => 2, \"target_id\" => 7, \"type\" => \"CurriculumPrerequisite\")], \"name\" => \" \", \"metrics\" => Dict{String, Any}(\"centrality\" => 6, \"complexity\" => 8.0, \"blocking factor\" => 2, \"delay factor\" => 6.0), \"nameSub\" => \"Differential Eqs.\", \"id\" => 7, \"credits\" => 3, \"nameCanonical\" => \"\"), Dict(\"curriculum_requisites\" => Dict{String, Any}[Dict(\"source_id\" => 5, \"target_id\" => 8, \"type\" => \"CurriculumPrerequisite\"), Dict(\"source_id\" => 7, \"target_id\" => 8, \"type\" => \"CurriculumPrerequisite\")], \"name\" => \" \", \"metrics\" => Dict{String, Any}(\"centrality\" => 19, \"complexity\" => 8.0, \"blocking factor\" => 1, \"delay factor\" => 7.0), \"nameSub\" => \"Circuits I\", \"id\" => 8, \"credits\" => 3, \"nameCanonical\" => \"\")], \"id\" => 4), Dict(\"name\" => \"Term 5\", \"curriculum_items\" => Dict{String, Any}[Dict(\"curriculum_requisites\" => Dict{String, Any}[Dict(\"source_id\" => 8, \"target_id\" => 9, \"type\" => \"CurriculumPrerequisite\")], \"name\" => \" \", \"metrics\" => Dict{String, Any}(\"centrality\" => 0, \"complexity\" => 7.0, \"blocking factor\" => 0, \"delay factor\" => 7.0), \"nameSub\" => \"Circuits II\", \"id\" => 9, \"credits\" => 3, \"nameCanonical\" => \"\")], \"id\" => 5)], \"institution\" => \"\")), nothing)), Set{String}(), nothing, WebIO.Asset[], Dict{Any, Any}(), WebIO.ConnectionPool(Channel{Any}(32), Set{WebIO.AbstractConnection}(), Condition(Base.InvasiveLinkedList{Task}(Task (runnable) @0x000000011be30340, Task (runnable) @0x000000011be30340), Base.AlwaysLockedST(1))), WebIO.JSString[])"
      ]
     },
     "execution_count": 6,
     "metadata": {
      "application/vnd.webio.node+json": {
       "kernelId": "608747ee-a133-469f-a5ab-d2379c850c6c"
      }
     },
     "output_type": "execute_result"
    }
   ],
   "source": [
    "precalc_ready = read_csv(\"EE-PrecalculusReady.csv\")\n",
    "visualize(precalc_ready, notebook=true, scale=0.8)"
   ]
  },
  {
   "cell_type": "markdown",
   "metadata": {},
   "source": [
    "#### The pattern for College Algebra ready students.\n",
    "Now let's look at what happens to students who are not Precalculus ready when they enter the institution -- let's assume instead that they are College Algebra ready. Notice that the longest path through the design pattern is growing, and that due to the prerequisite structure there is limited opportunity to move courses around.  The curricular complexity is now ?. "
   ]
  },
  {
   "cell_type": "code",
   "execution_count": 7,
   "metadata": {},
   "outputs": [
    {
     "data": {
      "application/vnd.webio.node+json": {
       "children": [
        {
         "children": [
          ""
         ],
         "instanceArgs": {
          "namespace": "html",
          "tag": "iframe"
         },
         "nodeType": "DOM",
         "props": {
          "events": {
           "load": "(function (){this.contentWindow.postMessage({\"options\":{\"hideTerms\":false,\"edit\":false},\"curriculum\":{\"name\":\"Circuits I Design Pattern\",\"dp_name\":\"Algebra ready\",\"curriculum_terms\":[{\"name\":\"Term 1\",\"curriculum_items\":[{\"curriculum_requisites\":[],\"name\":\" \",\"metrics\":{\"centrality\":0,\"complexity\":18.0,\"blocking factor\":10,\"delay factor\":8.0},\"nameSub\":\"College Algebra\",\"id\":11,\"credits\":3,\"nameCanonical\":\"\"}],\"id\":1},{\"name\":\"Term 2\",\"curriculum_items\":[{\"curriculum_requisites\":[{\"source_id\":11,\"target_id\":10,\"type\":\"CurriculumPrerequisite\"}],\"name\":\" \",\"metrics\":{\"centrality\":35,\"complexity\":17.0,\"blocking factor\":9,\"delay factor\":8.0},\"nameSub\":\"Precalculus\",\"id\":10,\"credits\":4,\"nameCanonical\":\"\"}],\"id\":2},{\"name\":\"Term 3\",\"curriculum_items\":[{\"curriculum_requisites\":[{\"source_id\":10,\"target_id\":1,\"type\":\"CurriculumPrerequisite\"}],\"name\":\" \",\"metrics\":{\"centrality\":35,\"complexity\":16.0,\"blocking factor\":8,\"delay factor\":8.0},\"nameSub\":\"Calculus I\",\"id\":1,\"credits\":4,\"nameCanonical\":\"\"}],\"id\":3},{\"name\":\"Term 4\",\"curriculum_items\":[{\"curriculum_requisites\":[{\"source_id\":1,\"target_id\":2,\"type\":\"CurriculumPrerequisite\"}],\"name\":\" \",\"metrics\":{\"centrality\":7,\"complexity\":10.0,\"blocking factor\":3,\"delay factor\":7.0},\"nameSub\":\"Calculus II\",\"id\":2,\"credits\":4,\"nameCanonical\":\"\"},{\"curriculum_requisites\":[{\"source_id\":1,\"target_id\":3,\"type\":\"CurriculumPrerequisite\"}],\"name\":\" \",\"metrics\":{\"centrality\":28,\"complexity\":13.0,\"blocking factor\":5,\"delay factor\":8.0},\"nameSub\":\"Physics I\",\"id\":3,\"credits\":3,\"nameCanonical\":\"\"},{\"curriculum_requisites\":[{\"source_id\":3,\"target_id\":4,\"type\":\"CurriculumCorequisite\"}],\"name\":\" \",\"metrics\":{\"centrality\":15,\"complexity\":12.0,\"blocking factor\":4,\"delay factor\":8.0},\"nameSub\":\"Physics I Lab\",\"id\":4,\"credits\":1,\"nameCanonical\":\"\"}],\"id\":4},{\"name\":\"Term 5\",\"curriculum_items\":[{\"curriculum_requisites\":[{\"source_id\":4,\"target_id\":5,\"type\":\"CurriculumPrerequisite\"},{\"source_id\":3,\"target_id\":5,\"type\":\"CurriculumPrerequisite\"}],\"name\":\" \",\"metrics\":{\"centrality\":28,\"complexity\":11.0,\"blocking factor\":3,\"delay factor\":8.0},\"nameSub\":\"Physics II\",\"id\":5,\"credits\":3,\"nameCanonical\":\"\"},{\"curriculum_requisites\":[{\"source_id\":5,\"target_id\":6,\"type\":\"CurriculumCorequisite\"}],\"name\":\" \",\"metrics\":{\"centrality\":0,\"complexity\":7.0,\"blocking factor\":0,\"delay factor\":7.0},\"nameSub\":\"Physics II Lab\",\"id\":6,\"credits\":1,\"nameCanonical\":\"\"},{\"curriculum_requisites\":[{\"source_id\":2,\"target_id\":7,\"type\":\"CurriculumPrerequisite\"}],\"name\":\" \",\"metrics\":{\"centrality\":7,\"complexity\":9.0,\"blocking factor\":2,\"delay factor\":7.0},\"nameSub\":\"Differential Eqs.\",\"id\":7,\"credits\":3,\"nameCanonical\":\"\"},{\"curriculum_requisites\":[{\"source_id\":5,\"target_id\":8,\"type\":\"CurriculumPrerequisite\"},{\"source_id\":7,\"target_id\":8,\"type\":\"CurriculumPrerequisite\"}],\"name\":\" \",\"metrics\":{\"centrality\":22,\"complexity\":9.0,\"blocking factor\":1,\"delay factor\":8.0},\"nameSub\":\"Circuits I\",\"id\":8,\"credits\":3,\"nameCanonical\":\"\"}],\"id\":5},{\"name\":\"Term 6\",\"curriculum_items\":[{\"curriculum_requisites\":[{\"source_id\":8,\"target_id\":9,\"type\":\"CurriculumPrerequisite\"}],\"name\":\" \",\"metrics\":{\"centrality\":0,\"complexity\":8.0,\"blocking factor\":0,\"delay factor\":8.0},\"nameSub\":\"Circuits II\",\"id\":9,\"credits\":3,\"nameCanonical\":\"\"}],\"id\":6}],\"institution\":\"\"}},\"*\"); window.removeEventListener(\"message\",window.messageReceived); window.messageReceived=(function (event){return (event.data.curriculum!==undefined) ? (WebIO.setval({\"name\":\"curriculum-data\",\"scope\":\"9396210237440213181\",\"id\":\"896852243296127854\",\"type\":\"observable\"},event.data.curriculum)) : undefined}); return window.addEventListener(\"message\",window.messageReceived)})"
          },
          "id": "curriculum",
          "src": "https://curricula-api-embed.damoursystems.com/",
          "style": {
           "border": "none",
           "height": "80vh",
           "margin": "0",
           "padding": "0",
           "width": "100%"
          }
         },
         "type": "node"
        }
       ],
       "instanceArgs": {
        "handlers": {},
        "id": "9396210237440213181",
        "imports": {
         "data": [],
         "type": "async_block"
        },
        "mount_callbacks": [],
        "observables": {
         "curriculum-data": {
          "id": "896852243296127854",
          "sync": true,
          "value": {
           "curriculum": {
            "curriculum_terms": [
             {
              "curriculum_items": [
               {
                "credits": 3,
                "curriculum_requisites": [],
                "id": 11,
                "metrics": {
                 "blocking factor": 10,
                 "centrality": 0,
                 "complexity": 18,
                 "delay factor": 8
                },
                "name": " ",
                "nameCanonical": "",
                "nameSub": "College Algebra"
               }
              ],
              "id": 1,
              "name": "Term 1"
             },
             {
              "curriculum_items": [
               {
                "credits": 4,
                "curriculum_requisites": [
                 {
                  "source_id": 11,
                  "target_id": 10,
                  "type": "CurriculumPrerequisite"
                 }
                ],
                "id": 10,
                "metrics": {
                 "blocking factor": 9,
                 "centrality": 35,
                 "complexity": 17,
                 "delay factor": 8
                },
                "name": " ",
                "nameCanonical": "",
                "nameSub": "Precalculus"
               }
              ],
              "id": 2,
              "name": "Term 2"
             },
             {
              "curriculum_items": [
               {
                "credits": 4,
                "curriculum_requisites": [
                 {
                  "source_id": 10,
                  "target_id": 1,
                  "type": "CurriculumPrerequisite"
                 }
                ],
                "id": 1,
                "metrics": {
                 "blocking factor": 8,
                 "centrality": 35,
                 "complexity": 16,
                 "delay factor": 8
                },
                "name": " ",
                "nameCanonical": "",
                "nameSub": "Calculus I"
               }
              ],
              "id": 3,
              "name": "Term 3"
             },
             {
              "curriculum_items": [
               {
                "credits": 4,
                "curriculum_requisites": [
                 {
                  "source_id": 1,
                  "target_id": 2,
                  "type": "CurriculumPrerequisite"
                 }
                ],
                "id": 2,
                "metrics": {
                 "blocking factor": 3,
                 "centrality": 7,
                 "complexity": 10,
                 "delay factor": 7
                },
                "name": " ",
                "nameCanonical": "",
                "nameSub": "Calculus II"
               },
               {
                "credits": 3,
                "curriculum_requisites": [
                 {
                  "source_id": 1,
                  "target_id": 3,
                  "type": "CurriculumPrerequisite"
                 }
                ],
                "id": 3,
                "metrics": {
                 "blocking factor": 5,
                 "centrality": 28,
                 "complexity": 13,
                 "delay factor": 8
                },
                "name": " ",
                "nameCanonical": "",
                "nameSub": "Physics I"
               },
               {
                "credits": 1,
                "curriculum_requisites": [
                 {
                  "source_id": 3,
                  "target_id": 4,
                  "type": "CurriculumCorequisite"
                 }
                ],
                "id": 4,
                "metrics": {
                 "blocking factor": 4,
                 "centrality": 15,
                 "complexity": 12,
                 "delay factor": 8
                },
                "name": " ",
                "nameCanonical": "",
                "nameSub": "Physics I Lab"
               }
              ],
              "id": 4,
              "name": "Term 4"
             },
             {
              "curriculum_items": [
               {
                "credits": 3,
                "curriculum_requisites": [
                 {
                  "source_id": 4,
                  "target_id": 5,
                  "type": "CurriculumPrerequisite"
                 },
                 {
                  "source_id": 3,
                  "target_id": 5,
                  "type": "CurriculumPrerequisite"
                 }
                ],
                "id": 5,
                "metrics": {
                 "blocking factor": 3,
                 "centrality": 28,
                 "complexity": 11,
                 "delay factor": 8
                },
                "name": " ",
                "nameCanonical": "",
                "nameSub": "Physics II"
               },
               {
                "credits": 1,
                "curriculum_requisites": [
                 {
                  "source_id": 5,
                  "target_id": 6,
                  "type": "CurriculumCorequisite"
                 }
                ],
                "id": 6,
                "metrics": {
                 "blocking factor": 0,
                 "centrality": 0,
                 "complexity": 7,
                 "delay factor": 7
                },
                "name": " ",
                "nameCanonical": "",
                "nameSub": "Physics II Lab"
               },
               {
                "credits": 3,
                "curriculum_requisites": [
                 {
                  "source_id": 2,
                  "target_id": 7,
                  "type": "CurriculumPrerequisite"
                 }
                ],
                "id": 7,
                "metrics": {
                 "blocking factor": 2,
                 "centrality": 7,
                 "complexity": 9,
                 "delay factor": 7
                },
                "name": " ",
                "nameCanonical": "",
                "nameSub": "Differential Eqs."
               },
               {
                "credits": 3,
                "curriculum_requisites": [
                 {
                  "source_id": 5,
                  "target_id": 8,
                  "type": "CurriculumPrerequisite"
                 },
                 {
                  "source_id": 7,
                  "target_id": 8,
                  "type": "CurriculumPrerequisite"
                 }
                ],
                "id": 8,
                "metrics": {
                 "blocking factor": 1,
                 "centrality": 22,
                 "complexity": 9,
                 "delay factor": 8
                },
                "name": " ",
                "nameCanonical": "",
                "nameSub": "Circuits I"
               }
              ],
              "id": 5,
              "name": "Term 5"
             },
             {
              "curriculum_items": [
               {
                "credits": 3,
                "curriculum_requisites": [
                 {
                  "source_id": 8,
                  "target_id": 9,
                  "type": "CurriculumPrerequisite"
                 }
                ],
                "id": 9,
                "metrics": {
                 "blocking factor": 0,
                 "centrality": 0,
                 "complexity": 8,
                 "delay factor": 8
                },
                "name": " ",
                "nameCanonical": "",
                "nameSub": "Circuits II"
               }
              ],
              "id": 6,
              "name": "Term 6"
             }
            ],
            "dp_name": "Algebra ready",
            "institution": "",
            "name": "Circuits I Design Pattern"
           },
           "options": {
            "edit": false,
            "hideTerms": false
           }
          }
         }
        },
        "systemjs_options": null
       },
       "nodeType": "Scope",
       "props": {},
       "type": "node"
      },
      "text/html": [
       "<div\n",
       "    class=\"webio-mountpoint\"\n",
       "    data-webio-mountpoint=\"2984963784803062091\"\n",
       ">\n",
       "    <script>\n",
       "    if (window.require && require.defined && require.defined(\"nbextensions/webio-jupyter-notebook\")) {\n",
       "        console.log(\"Jupyter WebIO extension detected, not mounting.\");\n",
       "    } else if (window.WebIO) {\n",
       "        WebIO.mount(\n",
       "            document.querySelector('[data-webio-mountpoint=\"2984963784803062091\"]'),\n",
       "            {\"props\":{},\"nodeType\":\"Scope\",\"type\":\"node\",\"instanceArgs\":{\"imports\":{\"data\":[],\"type\":\"async_block\"},\"id\":\"9396210237440213181\",\"handlers\":{},\"systemjs_options\":null,\"mount_callbacks\":[],\"observables\":{\"curriculum-data\":{\"sync\":true,\"id\":\"896852243296127854\",\"value\":{\"options\":{\"hideTerms\":false,\"edit\":false},\"curriculum\":{\"name\":\"Circuits I Design Pattern\",\"dp_name\":\"Algebra ready\",\"curriculum_terms\":[{\"name\":\"Term 1\",\"curriculum_items\":[{\"curriculum_requisites\":[],\"name\":\" \",\"metrics\":{\"centrality\":0,\"complexity\":18.0,\"blocking factor\":10,\"delay factor\":8.0},\"nameSub\":\"College Algebra\",\"id\":11,\"credits\":3,\"nameCanonical\":\"\"}],\"id\":1},{\"name\":\"Term 2\",\"curriculum_items\":[{\"curriculum_requisites\":[{\"source_id\":11,\"target_id\":10,\"type\":\"CurriculumPrerequisite\"}],\"name\":\" \",\"metrics\":{\"centrality\":35,\"complexity\":17.0,\"blocking factor\":9,\"delay factor\":8.0},\"nameSub\":\"Precalculus\",\"id\":10,\"credits\":4,\"nameCanonical\":\"\"}],\"id\":2},{\"name\":\"Term 3\",\"curriculum_items\":[{\"curriculum_requisites\":[{\"source_id\":10,\"target_id\":1,\"type\":\"CurriculumPrerequisite\"}],\"name\":\" \",\"metrics\":{\"centrality\":35,\"complexity\":16.0,\"blocking factor\":8,\"delay factor\":8.0},\"nameSub\":\"Calculus I\",\"id\":1,\"credits\":4,\"nameCanonical\":\"\"}],\"id\":3},{\"name\":\"Term 4\",\"curriculum_items\":[{\"curriculum_requisites\":[{\"source_id\":1,\"target_id\":2,\"type\":\"CurriculumPrerequisite\"}],\"name\":\" \",\"metrics\":{\"centrality\":7,\"complexity\":10.0,\"blocking factor\":3,\"delay factor\":7.0},\"nameSub\":\"Calculus II\",\"id\":2,\"credits\":4,\"nameCanonical\":\"\"},{\"curriculum_requisites\":[{\"source_id\":1,\"target_id\":3,\"type\":\"CurriculumPrerequisite\"}],\"name\":\" \",\"metrics\":{\"centrality\":28,\"complexity\":13.0,\"blocking factor\":5,\"delay factor\":8.0},\"nameSub\":\"Physics I\",\"id\":3,\"credits\":3,\"nameCanonical\":\"\"},{\"curriculum_requisites\":[{\"source_id\":3,\"target_id\":4,\"type\":\"CurriculumCorequisite\"}],\"name\":\" \",\"metrics\":{\"centrality\":15,\"complexity\":12.0,\"blocking factor\":4,\"delay factor\":8.0},\"nameSub\":\"Physics I Lab\",\"id\":4,\"credits\":1,\"nameCanonical\":\"\"}],\"id\":4},{\"name\":\"Term 5\",\"curriculum_items\":[{\"curriculum_requisites\":[{\"source_id\":4,\"target_id\":5,\"type\":\"CurriculumPrerequisite\"},{\"source_id\":3,\"target_id\":5,\"type\":\"CurriculumPrerequisite\"}],\"name\":\" \",\"metrics\":{\"centrality\":28,\"complexity\":11.0,\"blocking factor\":3,\"delay factor\":8.0},\"nameSub\":\"Physics II\",\"id\":5,\"credits\":3,\"nameCanonical\":\"\"},{\"curriculum_requisites\":[{\"source_id\":5,\"target_id\":6,\"type\":\"CurriculumCorequisite\"}],\"name\":\" \",\"metrics\":{\"centrality\":0,\"complexity\":7.0,\"blocking factor\":0,\"delay factor\":7.0},\"nameSub\":\"Physics II Lab\",\"id\":6,\"credits\":1,\"nameCanonical\":\"\"},{\"curriculum_requisites\":[{\"source_id\":2,\"target_id\":7,\"type\":\"CurriculumPrerequisite\"}],\"name\":\" \",\"metrics\":{\"centrality\":7,\"complexity\":9.0,\"blocking factor\":2,\"delay factor\":7.0},\"nameSub\":\"Differential Eqs.\",\"id\":7,\"credits\":3,\"nameCanonical\":\"\"},{\"curriculum_requisites\":[{\"source_id\":5,\"target_id\":8,\"type\":\"CurriculumPrerequisite\"},{\"source_id\":7,\"target_id\":8,\"type\":\"CurriculumPrerequisite\"}],\"name\":\" \",\"metrics\":{\"centrality\":22,\"complexity\":9.0,\"blocking factor\":1,\"delay factor\":8.0},\"nameSub\":\"Circuits I\",\"id\":8,\"credits\":3,\"nameCanonical\":\"\"}],\"id\":5},{\"name\":\"Term 6\",\"curriculum_items\":[{\"curriculum_requisites\":[{\"source_id\":8,\"target_id\":9,\"type\":\"CurriculumPrerequisite\"}],\"name\":\" \",\"metrics\":{\"centrality\":0,\"complexity\":8.0,\"blocking factor\":0,\"delay factor\":8.0},\"nameSub\":\"Circuits II\",\"id\":9,\"credits\":3,\"nameCanonical\":\"\"}],\"id\":6}],\"institution\":\"\"}}}}},\"children\":[{\"props\":{\"src\":\"https:\\/\\/curricula-api-embed.damoursystems.com\\/\",\"id\":\"curriculum\",\"events\":{\"load\":\"(function (){this.contentWindow.postMessage({\\\"options\\\":{\\\"hideTerms\\\":false,\\\"edit\\\":false},\\\"curriculum\\\":{\\\"name\\\":\\\"Circuits I Design Pattern\\\",\\\"dp_name\\\":\\\"Algebra ready\\\",\\\"curriculum_terms\\\":[{\\\"name\\\":\\\"Term 1\\\",\\\"curriculum_items\\\":[{\\\"curriculum_requisites\\\":[],\\\"name\\\":\\\" \\\",\\\"metrics\\\":{\\\"centrality\\\":0,\\\"complexity\\\":18.0,\\\"blocking factor\\\":10,\\\"delay factor\\\":8.0},\\\"nameSub\\\":\\\"College Algebra\\\",\\\"id\\\":11,\\\"credits\\\":3,\\\"nameCanonical\\\":\\\"\\\"}],\\\"id\\\":1},{\\\"name\\\":\\\"Term 2\\\",\\\"curriculum_items\\\":[{\\\"curriculum_requisites\\\":[{\\\"source_id\\\":11,\\\"target_id\\\":10,\\\"type\\\":\\\"CurriculumPrerequisite\\\"}],\\\"name\\\":\\\" \\\",\\\"metrics\\\":{\\\"centrality\\\":35,\\\"complexity\\\":17.0,\\\"blocking factor\\\":9,\\\"delay factor\\\":8.0},\\\"nameSub\\\":\\\"Precalculus\\\",\\\"id\\\":10,\\\"credits\\\":4,\\\"nameCanonical\\\":\\\"\\\"}],\\\"id\\\":2},{\\\"name\\\":\\\"Term 3\\\",\\\"curriculum_items\\\":[{\\\"curriculum_requisites\\\":[{\\\"source_id\\\":10,\\\"target_id\\\":1,\\\"type\\\":\\\"CurriculumPrerequisite\\\"}],\\\"name\\\":\\\" \\\",\\\"metrics\\\":{\\\"centrality\\\":35,\\\"complexity\\\":16.0,\\\"blocking factor\\\":8,\\\"delay factor\\\":8.0},\\\"nameSub\\\":\\\"Calculus I\\\",\\\"id\\\":1,\\\"credits\\\":4,\\\"nameCanonical\\\":\\\"\\\"}],\\\"id\\\":3},{\\\"name\\\":\\\"Term 4\\\",\\\"curriculum_items\\\":[{\\\"curriculum_requisites\\\":[{\\\"source_id\\\":1,\\\"target_id\\\":2,\\\"type\\\":\\\"CurriculumPrerequisite\\\"}],\\\"name\\\":\\\" \\\",\\\"metrics\\\":{\\\"centrality\\\":7,\\\"complexity\\\":10.0,\\\"blocking factor\\\":3,\\\"delay factor\\\":7.0},\\\"nameSub\\\":\\\"Calculus II\\\",\\\"id\\\":2,\\\"credits\\\":4,\\\"nameCanonical\\\":\\\"\\\"},{\\\"curriculum_requisites\\\":[{\\\"source_id\\\":1,\\\"target_id\\\":3,\\\"type\\\":\\\"CurriculumPrerequisite\\\"}],\\\"name\\\":\\\" \\\",\\\"metrics\\\":{\\\"centrality\\\":28,\\\"complexity\\\":13.0,\\\"blocking factor\\\":5,\\\"delay factor\\\":8.0},\\\"nameSub\\\":\\\"Physics I\\\",\\\"id\\\":3,\\\"credits\\\":3,\\\"nameCanonical\\\":\\\"\\\"},{\\\"curriculum_requisites\\\":[{\\\"source_id\\\":3,\\\"target_id\\\":4,\\\"type\\\":\\\"CurriculumCorequisite\\\"}],\\\"name\\\":\\\" \\\",\\\"metrics\\\":{\\\"centrality\\\":15,\\\"complexity\\\":12.0,\\\"blocking factor\\\":4,\\\"delay factor\\\":8.0},\\\"nameSub\\\":\\\"Physics I Lab\\\",\\\"id\\\":4,\\\"credits\\\":1,\\\"nameCanonical\\\":\\\"\\\"}],\\\"id\\\":4},{\\\"name\\\":\\\"Term 5\\\",\\\"curriculum_items\\\":[{\\\"curriculum_requisites\\\":[{\\\"source_id\\\":4,\\\"target_id\\\":5,\\\"type\\\":\\\"CurriculumPrerequisite\\\"},{\\\"source_id\\\":3,\\\"target_id\\\":5,\\\"type\\\":\\\"CurriculumPrerequisite\\\"}],\\\"name\\\":\\\" \\\",\\\"metrics\\\":{\\\"centrality\\\":28,\\\"complexity\\\":11.0,\\\"blocking factor\\\":3,\\\"delay factor\\\":8.0},\\\"nameSub\\\":\\\"Physics II\\\",\\\"id\\\":5,\\\"credits\\\":3,\\\"nameCanonical\\\":\\\"\\\"},{\\\"curriculum_requisites\\\":[{\\\"source_id\\\":5,\\\"target_id\\\":6,\\\"type\\\":\\\"CurriculumCorequisite\\\"}],\\\"name\\\":\\\" \\\",\\\"metrics\\\":{\\\"centrality\\\":0,\\\"complexity\\\":7.0,\\\"blocking factor\\\":0,\\\"delay factor\\\":7.0},\\\"nameSub\\\":\\\"Physics II Lab\\\",\\\"id\\\":6,\\\"credits\\\":1,\\\"nameCanonical\\\":\\\"\\\"},{\\\"curriculum_requisites\\\":[{\\\"source_id\\\":2,\\\"target_id\\\":7,\\\"type\\\":\\\"CurriculumPrerequisite\\\"}],\\\"name\\\":\\\" \\\",\\\"metrics\\\":{\\\"centrality\\\":7,\\\"complexity\\\":9.0,\\\"blocking factor\\\":2,\\\"delay factor\\\":7.0},\\\"nameSub\\\":\\\"Differential Eqs.\\\",\\\"id\\\":7,\\\"credits\\\":3,\\\"nameCanonical\\\":\\\"\\\"},{\\\"curriculum_requisites\\\":[{\\\"source_id\\\":5,\\\"target_id\\\":8,\\\"type\\\":\\\"CurriculumPrerequisite\\\"},{\\\"source_id\\\":7,\\\"target_id\\\":8,\\\"type\\\":\\\"CurriculumPrerequisite\\\"}],\\\"name\\\":\\\" \\\",\\\"metrics\\\":{\\\"centrality\\\":22,\\\"complexity\\\":9.0,\\\"blocking factor\\\":1,\\\"delay factor\\\":8.0},\\\"nameSub\\\":\\\"Circuits I\\\",\\\"id\\\":8,\\\"credits\\\":3,\\\"nameCanonical\\\":\\\"\\\"}],\\\"id\\\":5},{\\\"name\\\":\\\"Term 6\\\",\\\"curriculum_items\\\":[{\\\"curriculum_requisites\\\":[{\\\"source_id\\\":8,\\\"target_id\\\":9,\\\"type\\\":\\\"CurriculumPrerequisite\\\"}],\\\"name\\\":\\\" \\\",\\\"metrics\\\":{\\\"centrality\\\":0,\\\"complexity\\\":8.0,\\\"blocking factor\\\":0,\\\"delay factor\\\":8.0},\\\"nameSub\\\":\\\"Circuits II\\\",\\\"id\\\":9,\\\"credits\\\":3,\\\"nameCanonical\\\":\\\"\\\"}],\\\"id\\\":6}],\\\"institution\\\":\\\"\\\"}},\\\"*\\\"); window.removeEventListener(\\\"message\\\",window.messageReceived); window.messageReceived=(function (event){return (event.data.curriculum!==undefined) ? (WebIO.setval({\\\"name\\\":\\\"curriculum-data\\\",\\\"scope\\\":\\\"9396210237440213181\\\",\\\"id\\\":\\\"896852243296127854\\\",\\\"type\\\":\\\"observable\\\"},event.data.curriculum)) : undefined}); return window.addEventListener(\\\"message\\\",window.messageReceived)})\"},\"style\":{\"padding\":\"0\",\"height\":\"80vh\",\"margin\":\"0\",\"border\":\"none\",\"width\":\"100%\"}},\"nodeType\":\"DOM\",\"type\":\"node\",\"instanceArgs\":{\"namespace\":\"html\",\"tag\":\"iframe\"},\"children\":[\"\"]}]},\n",
       "            window,\n",
       "        );\n",
       "    } else {\n",
       "        document\n",
       "            .querySelector('[data-webio-mountpoint=\"2984963784803062091\"]')\n",
       "            .innerHTML = (\n",
       "                '<div style=\"padding: 1em; background-color: #f8d6da; border: 1px solid #f5c6cb\">' +\n",
       "                '<p><strong>WebIO not detected.</strong></p>' +\n",
       "                '<p>Please read ' +\n",
       "                '<a href=\"https://juliagizmos.github.io/WebIO.jl/latest/troubleshooting/not-detected/\" target=\"_blank\">the troubleshooting guide</a> ' +\n",
       "                'for more information on how to resolve this issue.</p>' +\n",
       "                '<p><a href=\"https://juliagizmos.github.io/WebIO.jl/latest/troubleshooting/not-detected/\" target=\"_blank\">https://juliagizmos.github.io/WebIO.jl/latest/troubleshooting/not-detected/</a></p>' +\n",
       "                '</div>'\n",
       "            );\n",
       "    }\n",
       "    </script>\n",
       "</div>\n"
      ],
      "text/plain": [
       "WebIO.Scope(WebIO.Node{WebIO.DOM}(WebIO.DOM(:html, :iframe), Any[\"\"], Dict{Symbol, Any}(:src => \"https://curricula-api-embed.damoursystems.com/\", :id => \"curriculum\", :events => Dict{Symbol, WebIO.JSString}(:load => WebIO.JSString(\"(function (){this.contentWindow.postMessage({\\\"options\\\":{\\\"hideTerms\\\":false,\\\"edit\\\":false},\\\"curriculum\\\":{\\\"name\\\":\\\"Circuits I Design Pattern\\\",\\\"dp_name\\\":\\\"Algebra ready\\\",\\\"curriculum_terms\\\":[{\\\"name\\\":\\\"Term 1\\\",\\\"curriculum_items\\\":[{\\\"curriculum_requisites\\\":[],\\\"name\\\":\\\" \\\",\\\"metrics\\\":{\\\"centrality\\\":0,\\\"complexity\\\":18.0,\\\"blocking factor\\\":10,\\\"delay factor\\\":8.0},\\\"nameSub\\\":\\\"College Algebra\\\",\\\"id\\\":11,\\\"credits\\\":3,\\\"nameCanonical\\\":\\\"\\\"}],\\\"id\\\":1},{\\\"name\\\":\\\"Term 2\\\",\\\"curriculum_items\\\":[{\\\"curriculum_requisites\\\":[{\\\"source_id\\\":11,\\\"target_id\\\":10,\\\"type\\\":\\\"CurriculumPrerequisite\\\"}],\\\"name\\\":\\\" \\\",\\\"metrics\\\":{\\\"centrality\\\":35,\\\"complexity\\\":17.0,\\\"blocking factor\\\":9,\\\"delay factor\\\":8.0},\\\"nameSub\\\":\\\"Precalculus\\\",\\\"id\\\":10,\\\"credits\\\":4,\\\"nameCanonical\\\":\\\"\\\"}],\\\"id\\\":2},{\\\"name\\\":\\\"Term 3\\\",\\\"curriculum_items\\\":[{\\\"curriculum_requisites\\\":[{\\\"source_id\\\":10,\\\"target_id\\\":1,\\\"type\\\":\\\"CurriculumPrerequisite\\\"}],\\\"name\\\":\\\" \\\",\\\"metrics\\\":{\\\"centrality\\\":35,\\\"complexity\\\":16.0,\\\"blocking factor\\\":8,\\\"delay factor\\\":8.0},\\\"nameSub\\\":\\\"Calculus I\\\",\\\"id\\\":1,\\\"credits\\\":4,\\\"nameCanonical\\\":\\\"\\\"}],\\\"id\\\":3},{\\\"name\\\":\\\"Term 4\\\",\\\"curriculum_items\\\":[{\\\"curriculum_requisites\\\":[{\\\"source_id\\\":1,\\\"target_id\\\":2,\\\"type\\\":\\\"CurriculumPrerequisite\\\"}],\\\"name\\\":\\\" \\\",\\\"metrics\\\":{\\\"centrality\\\":7,\\\"complexity\\\":10.0,\\\"blocking factor\\\":3,\\\"delay factor\\\":7.0},\\\"nameSub\\\":\\\"Calculus II\\\",\\\"id\\\":2,\\\"credits\\\":4,\\\"nameCanonical\\\":\\\"\\\"},{\\\"curriculum_requisites\\\":[{\\\"source_id\\\":1,\\\"target_id\\\":3,\\\"type\\\":\\\"CurriculumPrerequisite\\\"}],\\\"name\\\":\\\" \\\",\\\"metrics\\\":{\\\"centrality\\\":28,\\\"complexity\\\":13.0,\\\"blocking factor\\\":5,\\\"delay factor\\\":8.0},\\\"nameSub\\\":\\\"Physics I\\\",\\\"id\\\":3,\\\"credits\\\":3,\\\"nameCanonical\\\":\\\"\\\"},{\\\"curriculum_requisites\\\":[{\\\"source_id\\\":3,\\\"target_id\\\":4,\\\"type\\\":\\\"CurriculumCorequisite\\\"}],\\\"name\\\":\\\" \\\",\\\"metrics\\\":{\\\"centrality\\\":15,\\\"complexity\\\":12.0,\\\"blocking factor\\\":4,\\\"delay factor\\\":8.0},\\\"nameSub\\\":\\\"Physics I Lab\\\",\\\"id\\\":4,\\\"credits\\\":1,\\\"nameCanonical\\\":\\\"\\\"}],\\\"id\\\":4},{\\\"name\\\":\\\"Term 5\\\",\\\"curriculum_items\\\":[{\\\"curriculum_requisites\\\":[{\\\"source_id\\\":4,\\\"target_id\\\":5,\\\"type\\\":\\\"CurriculumPrerequisite\\\"},{\\\"source_id\\\":3,\\\"target_id\\\":5,\\\"type\\\":\\\"CurriculumPrerequisite\\\"}],\\\"name\\\":\\\" \\\",\\\"metrics\\\":{\\\"centrality\\\":28,\\\"complexity\\\":11.0,\\\"blocking factor\\\":3,\\\"delay factor\\\":8.0},\\\"nameSub\\\":\\\"Physics II\\\",\\\"id\\\":5,\\\"credits\\\":3,\\\"nameCanonical\\\":\\\"\\\"},{\\\"curriculum_requisites\\\":[{\\\"source_id\\\":5,\\\"target_id\\\":6,\\\"type\\\":\\\"CurriculumCorequisite\\\"}],\\\"name\\\":\\\" \\\",\\\"metrics\\\":{\\\"centrality\\\":0,\\\"complexity\\\":7.0,\\\"blocking factor\\\":0,\\\"delay factor\\\":7.0},\\\"nameSub\\\":\\\"Physics II Lab\\\",\\\"id\\\":6,\\\"credits\\\":1,\\\"nameCanonical\\\":\\\"\\\"},{\\\"curriculum_requisites\\\":[{\\\"source_id\\\":2,\\\"target_id\\\":7,\\\"type\\\":\\\"CurriculumPrerequisite\\\"}],\\\"name\\\":\\\" \\\",\\\"metrics\\\":{\\\"centrality\\\":7,\\\"complexity\\\":9.0,\\\"blocking factor\\\":2,\\\"delay factor\\\":7.0},\\\"nameSub\\\":\\\"Differential Eqs.\\\",\\\"id\\\":7,\\\"credits\\\":3,\\\"nameCanonical\\\":\\\"\\\"},{\\\"curriculum_requisites\\\":[{\\\"source_id\\\":5,\\\"target_id\\\":8,\\\"type\\\":\\\"CurriculumPrerequisite\\\"},{\\\"source_id\\\":7,\\\"target_id\\\":8,\\\"type\\\":\\\"CurriculumPrerequisite\\\"}],\\\"name\\\":\\\" \\\",\\\"metrics\\\":{\\\"centrality\\\":22,\\\"complexity\\\":9.0,\\\"blocking factor\\\":1,\\\"delay factor\\\":8.0},\\\"nameSub\\\":\\\"Circuits I\\\",\\\"id\\\":8,\\\"credits\\\":3,\\\"nameCanonical\\\":\\\"\\\"}],\\\"id\\\":5},{\\\"name\\\":\\\"Term 6\\\",\\\"curriculum_items\\\":[{\\\"curriculum_requisites\\\":[{\\\"source_id\\\":8,\\\"target_id\\\":9,\\\"type\\\":\\\"CurriculumPrerequisite\\\"}],\\\"name\\\":\\\" \\\",\\\"metrics\\\":{\\\"centrality\\\":0,\\\"complexity\\\":8.0,\\\"blocking factor\\\":0,\\\"delay factor\\\":8.0},\\\"nameSub\\\":\\\"Circuits II\\\",\\\"id\\\":9,\\\"credits\\\":3,\\\"nameCanonical\\\":\\\"\\\"}],\\\"id\\\":6}],\\\"institution\\\":\\\"\\\"}},\\\"*\\\"); window.removeEventListener(\\\"message\\\",window.messageReceived); window.messageReceived=(function (event){return (event.data.curriculum!==undefined) ? (WebIO.setval({\\\"name\\\":\\\"curriculum-data\\\",\\\"scope\\\":\\\"9396210237440213181\\\",\\\"id\\\":\\\"896852243296127854\\\",\\\"type\\\":\\\"observable\\\"},event.data.curriculum)) : undefined}); return window.addEventListener(\\\"message\\\",window.messageReceived)})\")), :style => Dict(:padding => \"0\", :height => \"80vh\", :margin => \"0\", :border => \"none\", :width => \"100%\"))), Dict{String, Tuple{Observables.AbstractObservable, Union{Nothing, Bool}}}(\"curriculum-data\" => (Observable{Dict{String, Any}} with 1 listeners. Value:\n",
       "Dict{String, Any}(\"options\" => Dict{String, Any}(\"hideTerms\" => false, \"edit\" => false), \"curriculum\" => Dict{String, Any}(\"name\" => \"Circuits I Design Pattern\", \"dp_name\" => \"Algebra ready\", \"curriculum_terms\" => Dict{String, Any}[Dict(\"name\" => \"Term 1\", \"curriculum_items\" => Dict{String, Any}[Dict(\"curriculum_requisites\" => Dict{String, Any}[], \"name\" => \" \", \"metrics\" => Dict{String, Any}(\"centrality\" => 0, \"complexity\" => 18.0, \"blocking factor\" => 10, \"delay factor\" => 8.0), \"nameSub\" => \"College Algebra\", \"id\" => 11, \"credits\" => 3, \"nameCanonical\" => \"\")], \"id\" => 1), Dict(\"name\" => \"Term 2\", \"curriculum_items\" => Dict{String, Any}[Dict(\"curriculum_requisites\" => Dict{String, Any}[Dict(\"source_id\" => 11, \"target_id\" => 10, \"type\" => \"CurriculumPrerequisite\")], \"name\" => \" \", \"metrics\" => Dict{String, Any}(\"centrality\" => 35, \"complexity\" => 17.0, \"blocking factor\" => 9, \"delay factor\" => 8.0), \"nameSub\" => \"Precalculus\", \"id\" => 10, \"credits\" => 4, \"nameCanonical\" => \"\")], \"id\" => 2), Dict(\"name\" => \"Term 3\", \"curriculum_items\" => Dict{String, Any}[Dict(\"curriculum_requisites\" => Dict{String, Any}[Dict(\"source_id\" => 10, \"target_id\" => 1, \"type\" => \"CurriculumPrerequisite\")], \"name\" => \" \", \"metrics\" => Dict{String, Any}(\"centrality\" => 35, \"complexity\" => 16.0, \"blocking factor\" => 8, \"delay factor\" => 8.0), \"nameSub\" => \"Calculus I\", \"id\" => 1, \"credits\" => 4, \"nameCanonical\" => \"\")], \"id\" => 3), Dict(\"name\" => \"Term 4\", \"curriculum_items\" => Dict{String, Any}[Dict(\"curriculum_requisites\" => Dict{String, Any}[Dict(\"source_id\" => 1, \"target_id\" => 2, \"type\" => \"CurriculumPrerequisite\")], \"name\" => \" \", \"metrics\" => Dict{String, Any}(\"centrality\" => 7, \"complexity\" => 10.0, \"blocking factor\" => 3, \"delay factor\" => 7.0), \"nameSub\" => \"Calculus II\", \"id\" => 2, \"credits\" => 4, \"nameCanonical\" => \"\"), Dict(\"curriculum_requisites\" => Dict{String, Any}[Dict(\"source_id\" => 1, \"target_id\" => 3, \"type\" => \"CurriculumPrerequisite\")], \"name\" => \" \", \"metrics\" => Dict{String, Any}(\"centrality\" => 28, \"complexity\" => 13.0, \"blocking factor\" => 5, \"delay factor\" => 8.0), \"nameSub\" => \"Physics I\", \"id\" => 3, \"credits\" => 3, \"nameCanonical\" => \"\"), Dict(\"curriculum_requisites\" => Dict{String, Any}[Dict(\"source_id\" => 3, \"target_id\" => 4, \"type\" => \"CurriculumCorequisite\")], \"name\" => \" \", \"metrics\" => Dict{String, Any}(\"centrality\" => 15, \"complexity\" => 12.0, \"blocking factor\" => 4, \"delay factor\" => 8.0), \"nameSub\" => \"Physics I Lab\", \"id\" => 4, \"credits\" => 1, \"nameCanonical\" => \"\")], \"id\" => 4), Dict(\"name\" => \"Term 5\", \"curriculum_items\" => Dict{String, Any}[Dict(\"curriculum_requisites\" => Dict{String, Any}[Dict(\"source_id\" => 4, \"target_id\" => 5, \"type\" => \"CurriculumPrerequisite\"), Dict(\"source_id\" => 3, \"target_id\" => 5, \"type\" => \"CurriculumPrerequisite\")], \"name\" => \" \", \"metrics\" => Dict{String, Any}(\"centrality\" => 28, \"complexity\" => 11.0, \"blocking factor\" => 3, \"delay factor\" => 8.0), \"nameSub\" => \"Physics II\", \"id\" => 5, \"credits\" => 3, \"nameCanonical\" => \"\"), Dict(\"curriculum_requisites\" => Dict{String, Any}[Dict(\"source_id\" => 5, \"target_id\" => 6, \"type\" => \"CurriculumCorequisite\")], \"name\" => \" \", \"metrics\" => Dict{String, Any}(\"centrality\" => 0, \"complexity\" => 7.0, \"blocking factor\" => 0, \"delay factor\" => 7.0), \"nameSub\" => \"Physics II Lab\", \"id\" => 6, \"credits\" => 1, \"nameCanonical\" => \"\"), Dict(\"curriculum_requisites\" => Dict{String, Any}[Dict(\"source_id\" => 2, \"target_id\" => 7, \"type\" => \"CurriculumPrerequisite\")], \"name\" => \" \", \"metrics\" => Dict{String, Any}(\"centrality\" => 7, \"complexity\" => 9.0, \"blocking factor\" => 2, \"delay factor\" => 7.0), \"nameSub\" => \"Differential Eqs.\", \"id\" => 7, \"credits\" => 3, \"nameCanonical\" => \"\"), Dict(\"curriculum_requisites\" => Dict{String, Any}[Dict(\"source_id\" => 5, \"target_id\" => 8, \"type\" => \"CurriculumPrerequisite\"), Dict(\"source_id\" => 7, \"target_id\" => 8, \"type\" => \"CurriculumPrerequisite\")], \"name\" => \" \", \"metrics\" => Dict{String, Any}(\"centrality\" => 22, \"complexity\" => 9.0, \"blocking factor\" => 1, \"delay factor\" => 8.0), \"nameSub\" => \"Circuits I\", \"id\" => 8, \"credits\" => 3, \"nameCanonical\" => \"\")], \"id\" => 5), Dict(\"name\" => \"Term 6\", \"curriculum_items\" => Dict{String, Any}[Dict(\"curriculum_requisites\" => Dict{String, Any}[Dict(\"source_id\" => 8, \"target_id\" => 9, \"type\" => \"CurriculumPrerequisite\")], \"name\" => \" \", \"metrics\" => Dict{String, Any}(\"centrality\" => 0, \"complexity\" => 8.0, \"blocking factor\" => 0, \"delay factor\" => 8.0), \"nameSub\" => \"Circuits II\", \"id\" => 9, \"credits\" => 3, \"nameCanonical\" => \"\")], \"id\" => 6)], \"institution\" => \"\")), nothing)), Set{String}(), nothing, WebIO.Asset[], Dict{Any, Any}(), WebIO.ConnectionPool(Channel{Any}(32), Set{WebIO.AbstractConnection}(), Condition(Base.InvasiveLinkedList{Task}(Task (runnable) @0x000000011be30450, Task (runnable) @0x000000011be30450), Base.AlwaysLockedST(1))), WebIO.JSString[])"
      ]
     },
     "execution_count": 7,
     "metadata": {
      "application/vnd.webio.node+json": {
       "kernelId": "608747ee-a133-469f-a5ab-d2379c850c6c"
      }
     },
     "output_type": "execute_result"
    }
   ],
   "source": [
    "algebra_ready = read_csv(\"EE-AlgebraReady.csv\")\n",
    "visualize(algebra_ready, notebook=true, scale=0.8)"
   ]
  },
  {
   "cell_type": "markdown",
   "metadata": {},
   "source": [
    "#### The pattern for Foundational Math students\n",
    "Finally let's look at what happens to students who enter the institution starting with Foundational Math.  The curricular complexity is now ?. "
   ]
  },
  {
   "cell_type": "code",
   "execution_count": 8,
   "metadata": {},
   "outputs": [
    {
     "data": {
      "application/vnd.webio.node+json": {
       "children": [
        {
         "children": [
          ""
         ],
         "instanceArgs": {
          "namespace": "html",
          "tag": "iframe"
         },
         "nodeType": "DOM",
         "props": {
          "events": {
           "load": "(function (){this.contentWindow.postMessage({\"options\":{\"hideTerms\":false,\"edit\":false},\"curriculum\":{\"name\":\"Circuits I Design Pattern\",\"dp_name\":\"Foundational Math\",\"curriculum_terms\":[{\"name\":\"Term 1\",\"curriculum_items\":[{\"curriculum_requisites\":[],\"name\":\" \",\"metrics\":{\"centrality\":0,\"complexity\":20.0,\"blocking factor\":11,\"delay factor\":9.0},\"nameSub\":\"Foundational Math\",\"id\":12,\"credits\":3,\"nameCanonical\":\"\"}],\"id\":1},{\"name\":\"Term 2\",\"curriculum_items\":[{\"curriculum_requisites\":[{\"source_id\":12,\"target_id\":11,\"type\":\"CurriculumPrerequisite\"}],\"name\":\" \",\"metrics\":{\"centrality\":40,\"complexity\":19.0,\"blocking factor\":10,\"delay factor\":9.0},\"nameSub\":\"College Algebra\",\"id\":11,\"credits\":3,\"nameCanonical\":\"\"}],\"id\":2},{\"name\":\"Term 3\",\"curriculum_items\":[{\"curriculum_requisites\":[{\"source_id\":11,\"target_id\":10,\"type\":\"CurriculumPrerequisite\"}],\"name\":\" \",\"metrics\":{\"centrality\":40,\"complexity\":18.0,\"blocking factor\":9,\"delay factor\":9.0},\"nameSub\":\"Precalculus\",\"id\":10,\"credits\":4,\"nameCanonical\":\"\"}],\"id\":3},{\"name\":\"Term 4\",\"curriculum_items\":[{\"curriculum_requisites\":[{\"source_id\":10,\"target_id\":1,\"type\":\"CurriculumPrerequisite\"}],\"name\":\" \",\"metrics\":{\"centrality\":40,\"complexity\":17.0,\"blocking factor\":8,\"delay factor\":9.0},\"nameSub\":\"Calculus I\",\"id\":1,\"credits\":4,\"nameCanonical\":\"\"}],\"id\":4},{\"name\":\"Term 5\",\"curriculum_items\":[{\"curriculum_requisites\":[{\"source_id\":1,\"target_id\":2,\"type\":\"CurriculumPrerequisite\"}],\"name\":\" \",\"metrics\":{\"centrality\":8,\"complexity\":11.0,\"blocking factor\":3,\"delay factor\":8.0},\"nameSub\":\"Calculus II\",\"id\":2,\"credits\":4,\"nameCanonical\":\"\"},{\"curriculum_requisites\":[{\"source_id\":1,\"target_id\":3,\"type\":\"CurriculumPrerequisite\"}],\"name\":\" \",\"metrics\":{\"centrality\":32,\"complexity\":14.0,\"blocking factor\":5,\"delay factor\":9.0},\"nameSub\":\"Physics I\",\"id\":3,\"credits\":3,\"nameCanonical\":\"\"},{\"curriculum_requisites\":[{\"source_id\":3,\"target_id\":4,\"type\":\"CurriculumCorequisite\"}],\"name\":\" \",\"metrics\":{\"centrality\":17,\"complexity\":13.0,\"blocking factor\":4,\"delay factor\":9.0},\"nameSub\":\"Physics I Lab\",\"id\":4,\"credits\":1,\"nameCanonical\":\"\"}],\"id\":5},{\"name\":\"Term 6\",\"curriculum_items\":[{\"curriculum_requisites\":[{\"source_id\":4,\"target_id\":5,\"type\":\"CurriculumPrerequisite\"},{\"source_id\":3,\"target_id\":5,\"type\":\"CurriculumPrerequisite\"}],\"name\":\" \",\"metrics\":{\"centrality\":32,\"complexity\":12.0,\"blocking factor\":3,\"delay factor\":9.0},\"nameSub\":\"Physics II\",\"id\":5,\"credits\":3,\"nameCanonical\":\"\"},{\"curriculum_requisites\":[{\"source_id\":5,\"target_id\":6,\"type\":\"CurriculumCorequisite\"}],\"name\":\" \",\"metrics\":{\"centrality\":0,\"complexity\":8.0,\"blocking factor\":0,\"delay factor\":8.0},\"nameSub\":\"Physics II Lab\",\"id\":6,\"credits\":1,\"nameCanonical\":\"\"},{\"curriculum_requisites\":[{\"source_id\":2,\"target_id\":7,\"type\":\"CurriculumPrerequisite\"}],\"name\":\" \",\"metrics\":{\"centrality\":8,\"complexity\":10.0,\"blocking factor\":2,\"delay factor\":8.0},\"nameSub\":\"Differential Eqs.\",\"id\":7,\"credits\":3,\"nameCanonical\":\"\"},{\"curriculum_requisites\":[{\"source_id\":5,\"target_id\":8,\"type\":\"CurriculumPrerequisite\"},{\"source_id\":7,\"target_id\":8,\"type\":\"CurriculumPrerequisite\"}],\"name\":\" \",\"metrics\":{\"centrality\":25,\"complexity\":10.0,\"blocking factor\":1,\"delay factor\":9.0},\"nameSub\":\"Circuits I\",\"id\":8,\"credits\":3,\"nameCanonical\":\"\"}],\"id\":6},{\"name\":\"Term 7\",\"curriculum_items\":[{\"curriculum_requisites\":[{\"source_id\":8,\"target_id\":9,\"type\":\"CurriculumPrerequisite\"}],\"name\":\" \",\"metrics\":{\"centrality\":0,\"complexity\":9.0,\"blocking factor\":0,\"delay factor\":9.0},\"nameSub\":\"Circuits II\",\"id\":9,\"credits\":3,\"nameCanonical\":\"\"}],\"id\":7}],\"institution\":\"\"}},\"*\"); window.removeEventListener(\"message\",window.messageReceived); window.messageReceived=(function (event){return (event.data.curriculum!==undefined) ? (WebIO.setval({\"name\":\"curriculum-data\",\"scope\":\"7672716349824602987\",\"id\":\"13430819615717587345\",\"type\":\"observable\"},event.data.curriculum)) : undefined}); return window.addEventListener(\"message\",window.messageReceived)})"
          },
          "id": "curriculum",
          "src": "https://curricula-api-embed.damoursystems.com/",
          "style": {
           "border": "none",
           "height": "80vh",
           "margin": "0",
           "padding": "0",
           "width": "100%"
          }
         },
         "type": "node"
        }
       ],
       "instanceArgs": {
        "handlers": {},
        "id": "7672716349824602987",
        "imports": {
         "data": [],
         "type": "async_block"
        },
        "mount_callbacks": [],
        "observables": {
         "curriculum-data": {
          "id": "13430819615717587345",
          "sync": true,
          "value": {
           "curriculum": {
            "curriculum_terms": [
             {
              "curriculum_items": [
               {
                "credits": 3,
                "curriculum_requisites": [],
                "id": 12,
                "metrics": {
                 "blocking factor": 11,
                 "centrality": 0,
                 "complexity": 20,
                 "delay factor": 9
                },
                "name": " ",
                "nameCanonical": "",
                "nameSub": "Foundational Math"
               }
              ],
              "id": 1,
              "name": "Term 1"
             },
             {
              "curriculum_items": [
               {
                "credits": 3,
                "curriculum_requisites": [
                 {
                  "source_id": 12,
                  "target_id": 11,
                  "type": "CurriculumPrerequisite"
                 }
                ],
                "id": 11,
                "metrics": {
                 "blocking factor": 10,
                 "centrality": 40,
                 "complexity": 19,
                 "delay factor": 9
                },
                "name": " ",
                "nameCanonical": "",
                "nameSub": "College Algebra"
               }
              ],
              "id": 2,
              "name": "Term 2"
             },
             {
              "curriculum_items": [
               {
                "credits": 4,
                "curriculum_requisites": [
                 {
                  "source_id": 11,
                  "target_id": 10,
                  "type": "CurriculumPrerequisite"
                 }
                ],
                "id": 10,
                "metrics": {
                 "blocking factor": 9,
                 "centrality": 40,
                 "complexity": 18,
                 "delay factor": 9
                },
                "name": " ",
                "nameCanonical": "",
                "nameSub": "Precalculus"
               }
              ],
              "id": 3,
              "name": "Term 3"
             },
             {
              "curriculum_items": [
               {
                "credits": 4,
                "curriculum_requisites": [
                 {
                  "source_id": 10,
                  "target_id": 1,
                  "type": "CurriculumPrerequisite"
                 }
                ],
                "id": 1,
                "metrics": {
                 "blocking factor": 8,
                 "centrality": 40,
                 "complexity": 17,
                 "delay factor": 9
                },
                "name": " ",
                "nameCanonical": "",
                "nameSub": "Calculus I"
               }
              ],
              "id": 4,
              "name": "Term 4"
             },
             {
              "curriculum_items": [
               {
                "credits": 4,
                "curriculum_requisites": [
                 {
                  "source_id": 1,
                  "target_id": 2,
                  "type": "CurriculumPrerequisite"
                 }
                ],
                "id": 2,
                "metrics": {
                 "blocking factor": 3,
                 "centrality": 8,
                 "complexity": 11,
                 "delay factor": 8
                },
                "name": " ",
                "nameCanonical": "",
                "nameSub": "Calculus II"
               },
               {
                "credits": 3,
                "curriculum_requisites": [
                 {
                  "source_id": 1,
                  "target_id": 3,
                  "type": "CurriculumPrerequisite"
                 }
                ],
                "id": 3,
                "metrics": {
                 "blocking factor": 5,
                 "centrality": 32,
                 "complexity": 14,
                 "delay factor": 9
                },
                "name": " ",
                "nameCanonical": "",
                "nameSub": "Physics I"
               },
               {
                "credits": 1,
                "curriculum_requisites": [
                 {
                  "source_id": 3,
                  "target_id": 4,
                  "type": "CurriculumCorequisite"
                 }
                ],
                "id": 4,
                "metrics": {
                 "blocking factor": 4,
                 "centrality": 17,
                 "complexity": 13,
                 "delay factor": 9
                },
                "name": " ",
                "nameCanonical": "",
                "nameSub": "Physics I Lab"
               }
              ],
              "id": 5,
              "name": "Term 5"
             },
             {
              "curriculum_items": [
               {
                "credits": 3,
                "curriculum_requisites": [
                 {
                  "source_id": 4,
                  "target_id": 5,
                  "type": "CurriculumPrerequisite"
                 },
                 {
                  "source_id": 3,
                  "target_id": 5,
                  "type": "CurriculumPrerequisite"
                 }
                ],
                "id": 5,
                "metrics": {
                 "blocking factor": 3,
                 "centrality": 32,
                 "complexity": 12,
                 "delay factor": 9
                },
                "name": " ",
                "nameCanonical": "",
                "nameSub": "Physics II"
               },
               {
                "credits": 1,
                "curriculum_requisites": [
                 {
                  "source_id": 5,
                  "target_id": 6,
                  "type": "CurriculumCorequisite"
                 }
                ],
                "id": 6,
                "metrics": {
                 "blocking factor": 0,
                 "centrality": 0,
                 "complexity": 8,
                 "delay factor": 8
                },
                "name": " ",
                "nameCanonical": "",
                "nameSub": "Physics II Lab"
               },
               {
                "credits": 3,
                "curriculum_requisites": [
                 {
                  "source_id": 2,
                  "target_id": 7,
                  "type": "CurriculumPrerequisite"
                 }
                ],
                "id": 7,
                "metrics": {
                 "blocking factor": 2,
                 "centrality": 8,
                 "complexity": 10,
                 "delay factor": 8
                },
                "name": " ",
                "nameCanonical": "",
                "nameSub": "Differential Eqs."
               },
               {
                "credits": 3,
                "curriculum_requisites": [
                 {
                  "source_id": 5,
                  "target_id": 8,
                  "type": "CurriculumPrerequisite"
                 },
                 {
                  "source_id": 7,
                  "target_id": 8,
                  "type": "CurriculumPrerequisite"
                 }
                ],
                "id": 8,
                "metrics": {
                 "blocking factor": 1,
                 "centrality": 25,
                 "complexity": 10,
                 "delay factor": 9
                },
                "name": " ",
                "nameCanonical": "",
                "nameSub": "Circuits I"
               }
              ],
              "id": 6,
              "name": "Term 6"
             },
             {
              "curriculum_items": [
               {
                "credits": 3,
                "curriculum_requisites": [
                 {
                  "source_id": 8,
                  "target_id": 9,
                  "type": "CurriculumPrerequisite"
                 }
                ],
                "id": 9,
                "metrics": {
                 "blocking factor": 0,
                 "centrality": 0,
                 "complexity": 9,
                 "delay factor": 9
                },
                "name": " ",
                "nameCanonical": "",
                "nameSub": "Circuits II"
               }
              ],
              "id": 7,
              "name": "Term 7"
             }
            ],
            "dp_name": "Foundational Math",
            "institution": "",
            "name": "Circuits I Design Pattern"
           },
           "options": {
            "edit": false,
            "hideTerms": false
           }
          }
         }
        },
        "systemjs_options": null
       },
       "nodeType": "Scope",
       "props": {},
       "type": "node"
      },
      "text/html": [
       "<div\n",
       "    class=\"webio-mountpoint\"\n",
       "    data-webio-mountpoint=\"9524068107984893353\"\n",
       ">\n",
       "    <script>\n",
       "    if (window.require && require.defined && require.defined(\"nbextensions/webio-jupyter-notebook\")) {\n",
       "        console.log(\"Jupyter WebIO extension detected, not mounting.\");\n",
       "    } else if (window.WebIO) {\n",
       "        WebIO.mount(\n",
       "            document.querySelector('[data-webio-mountpoint=\"9524068107984893353\"]'),\n",
       "            {\"props\":{},\"nodeType\":\"Scope\",\"type\":\"node\",\"instanceArgs\":{\"imports\":{\"data\":[],\"type\":\"async_block\"},\"id\":\"7672716349824602987\",\"handlers\":{},\"systemjs_options\":null,\"mount_callbacks\":[],\"observables\":{\"curriculum-data\":{\"sync\":true,\"id\":\"13430819615717587345\",\"value\":{\"options\":{\"hideTerms\":false,\"edit\":false},\"curriculum\":{\"name\":\"Circuits I Design Pattern\",\"dp_name\":\"Foundational Math\",\"curriculum_terms\":[{\"name\":\"Term 1\",\"curriculum_items\":[{\"curriculum_requisites\":[],\"name\":\" \",\"metrics\":{\"centrality\":0,\"complexity\":20.0,\"blocking factor\":11,\"delay factor\":9.0},\"nameSub\":\"Foundational Math\",\"id\":12,\"credits\":3,\"nameCanonical\":\"\"}],\"id\":1},{\"name\":\"Term 2\",\"curriculum_items\":[{\"curriculum_requisites\":[{\"source_id\":12,\"target_id\":11,\"type\":\"CurriculumPrerequisite\"}],\"name\":\" \",\"metrics\":{\"centrality\":40,\"complexity\":19.0,\"blocking factor\":10,\"delay factor\":9.0},\"nameSub\":\"College Algebra\",\"id\":11,\"credits\":3,\"nameCanonical\":\"\"}],\"id\":2},{\"name\":\"Term 3\",\"curriculum_items\":[{\"curriculum_requisites\":[{\"source_id\":11,\"target_id\":10,\"type\":\"CurriculumPrerequisite\"}],\"name\":\" \",\"metrics\":{\"centrality\":40,\"complexity\":18.0,\"blocking factor\":9,\"delay factor\":9.0},\"nameSub\":\"Precalculus\",\"id\":10,\"credits\":4,\"nameCanonical\":\"\"}],\"id\":3},{\"name\":\"Term 4\",\"curriculum_items\":[{\"curriculum_requisites\":[{\"source_id\":10,\"target_id\":1,\"type\":\"CurriculumPrerequisite\"}],\"name\":\" \",\"metrics\":{\"centrality\":40,\"complexity\":17.0,\"blocking factor\":8,\"delay factor\":9.0},\"nameSub\":\"Calculus I\",\"id\":1,\"credits\":4,\"nameCanonical\":\"\"}],\"id\":4},{\"name\":\"Term 5\",\"curriculum_items\":[{\"curriculum_requisites\":[{\"source_id\":1,\"target_id\":2,\"type\":\"CurriculumPrerequisite\"}],\"name\":\" \",\"metrics\":{\"centrality\":8,\"complexity\":11.0,\"blocking factor\":3,\"delay factor\":8.0},\"nameSub\":\"Calculus II\",\"id\":2,\"credits\":4,\"nameCanonical\":\"\"},{\"curriculum_requisites\":[{\"source_id\":1,\"target_id\":3,\"type\":\"CurriculumPrerequisite\"}],\"name\":\" \",\"metrics\":{\"centrality\":32,\"complexity\":14.0,\"blocking factor\":5,\"delay factor\":9.0},\"nameSub\":\"Physics I\",\"id\":3,\"credits\":3,\"nameCanonical\":\"\"},{\"curriculum_requisites\":[{\"source_id\":3,\"target_id\":4,\"type\":\"CurriculumCorequisite\"}],\"name\":\" \",\"metrics\":{\"centrality\":17,\"complexity\":13.0,\"blocking factor\":4,\"delay factor\":9.0},\"nameSub\":\"Physics I Lab\",\"id\":4,\"credits\":1,\"nameCanonical\":\"\"}],\"id\":5},{\"name\":\"Term 6\",\"curriculum_items\":[{\"curriculum_requisites\":[{\"source_id\":4,\"target_id\":5,\"type\":\"CurriculumPrerequisite\"},{\"source_id\":3,\"target_id\":5,\"type\":\"CurriculumPrerequisite\"}],\"name\":\" \",\"metrics\":{\"centrality\":32,\"complexity\":12.0,\"blocking factor\":3,\"delay factor\":9.0},\"nameSub\":\"Physics II\",\"id\":5,\"credits\":3,\"nameCanonical\":\"\"},{\"curriculum_requisites\":[{\"source_id\":5,\"target_id\":6,\"type\":\"CurriculumCorequisite\"}],\"name\":\" \",\"metrics\":{\"centrality\":0,\"complexity\":8.0,\"blocking factor\":0,\"delay factor\":8.0},\"nameSub\":\"Physics II Lab\",\"id\":6,\"credits\":1,\"nameCanonical\":\"\"},{\"curriculum_requisites\":[{\"source_id\":2,\"target_id\":7,\"type\":\"CurriculumPrerequisite\"}],\"name\":\" \",\"metrics\":{\"centrality\":8,\"complexity\":10.0,\"blocking factor\":2,\"delay factor\":8.0},\"nameSub\":\"Differential Eqs.\",\"id\":7,\"credits\":3,\"nameCanonical\":\"\"},{\"curriculum_requisites\":[{\"source_id\":5,\"target_id\":8,\"type\":\"CurriculumPrerequisite\"},{\"source_id\":7,\"target_id\":8,\"type\":\"CurriculumPrerequisite\"}],\"name\":\" \",\"metrics\":{\"centrality\":25,\"complexity\":10.0,\"blocking factor\":1,\"delay factor\":9.0},\"nameSub\":\"Circuits I\",\"id\":8,\"credits\":3,\"nameCanonical\":\"\"}],\"id\":6},{\"name\":\"Term 7\",\"curriculum_items\":[{\"curriculum_requisites\":[{\"source_id\":8,\"target_id\":9,\"type\":\"CurriculumPrerequisite\"}],\"name\":\" \",\"metrics\":{\"centrality\":0,\"complexity\":9.0,\"blocking factor\":0,\"delay factor\":9.0},\"nameSub\":\"Circuits II\",\"id\":9,\"credits\":3,\"nameCanonical\":\"\"}],\"id\":7}],\"institution\":\"\"}}}}},\"children\":[{\"props\":{\"src\":\"https:\\/\\/curricula-api-embed.damoursystems.com\\/\",\"id\":\"curriculum\",\"events\":{\"load\":\"(function (){this.contentWindow.postMessage({\\\"options\\\":{\\\"hideTerms\\\":false,\\\"edit\\\":false},\\\"curriculum\\\":{\\\"name\\\":\\\"Circuits I Design Pattern\\\",\\\"dp_name\\\":\\\"Foundational Math\\\",\\\"curriculum_terms\\\":[{\\\"name\\\":\\\"Term 1\\\",\\\"curriculum_items\\\":[{\\\"curriculum_requisites\\\":[],\\\"name\\\":\\\" \\\",\\\"metrics\\\":{\\\"centrality\\\":0,\\\"complexity\\\":20.0,\\\"blocking factor\\\":11,\\\"delay factor\\\":9.0},\\\"nameSub\\\":\\\"Foundational Math\\\",\\\"id\\\":12,\\\"credits\\\":3,\\\"nameCanonical\\\":\\\"\\\"}],\\\"id\\\":1},{\\\"name\\\":\\\"Term 2\\\",\\\"curriculum_items\\\":[{\\\"curriculum_requisites\\\":[{\\\"source_id\\\":12,\\\"target_id\\\":11,\\\"type\\\":\\\"CurriculumPrerequisite\\\"}],\\\"name\\\":\\\" \\\",\\\"metrics\\\":{\\\"centrality\\\":40,\\\"complexity\\\":19.0,\\\"blocking factor\\\":10,\\\"delay factor\\\":9.0},\\\"nameSub\\\":\\\"College Algebra\\\",\\\"id\\\":11,\\\"credits\\\":3,\\\"nameCanonical\\\":\\\"\\\"}],\\\"id\\\":2},{\\\"name\\\":\\\"Term 3\\\",\\\"curriculum_items\\\":[{\\\"curriculum_requisites\\\":[{\\\"source_id\\\":11,\\\"target_id\\\":10,\\\"type\\\":\\\"CurriculumPrerequisite\\\"}],\\\"name\\\":\\\" \\\",\\\"metrics\\\":{\\\"centrality\\\":40,\\\"complexity\\\":18.0,\\\"blocking factor\\\":9,\\\"delay factor\\\":9.0},\\\"nameSub\\\":\\\"Precalculus\\\",\\\"id\\\":10,\\\"credits\\\":4,\\\"nameCanonical\\\":\\\"\\\"}],\\\"id\\\":3},{\\\"name\\\":\\\"Term 4\\\",\\\"curriculum_items\\\":[{\\\"curriculum_requisites\\\":[{\\\"source_id\\\":10,\\\"target_id\\\":1,\\\"type\\\":\\\"CurriculumPrerequisite\\\"}],\\\"name\\\":\\\" \\\",\\\"metrics\\\":{\\\"centrality\\\":40,\\\"complexity\\\":17.0,\\\"blocking factor\\\":8,\\\"delay factor\\\":9.0},\\\"nameSub\\\":\\\"Calculus I\\\",\\\"id\\\":1,\\\"credits\\\":4,\\\"nameCanonical\\\":\\\"\\\"}],\\\"id\\\":4},{\\\"name\\\":\\\"Term 5\\\",\\\"curriculum_items\\\":[{\\\"curriculum_requisites\\\":[{\\\"source_id\\\":1,\\\"target_id\\\":2,\\\"type\\\":\\\"CurriculumPrerequisite\\\"}],\\\"name\\\":\\\" \\\",\\\"metrics\\\":{\\\"centrality\\\":8,\\\"complexity\\\":11.0,\\\"blocking factor\\\":3,\\\"delay factor\\\":8.0},\\\"nameSub\\\":\\\"Calculus II\\\",\\\"id\\\":2,\\\"credits\\\":4,\\\"nameCanonical\\\":\\\"\\\"},{\\\"curriculum_requisites\\\":[{\\\"source_id\\\":1,\\\"target_id\\\":3,\\\"type\\\":\\\"CurriculumPrerequisite\\\"}],\\\"name\\\":\\\" \\\",\\\"metrics\\\":{\\\"centrality\\\":32,\\\"complexity\\\":14.0,\\\"blocking factor\\\":5,\\\"delay factor\\\":9.0},\\\"nameSub\\\":\\\"Physics I\\\",\\\"id\\\":3,\\\"credits\\\":3,\\\"nameCanonical\\\":\\\"\\\"},{\\\"curriculum_requisites\\\":[{\\\"source_id\\\":3,\\\"target_id\\\":4,\\\"type\\\":\\\"CurriculumCorequisite\\\"}],\\\"name\\\":\\\" \\\",\\\"metrics\\\":{\\\"centrality\\\":17,\\\"complexity\\\":13.0,\\\"blocking factor\\\":4,\\\"delay factor\\\":9.0},\\\"nameSub\\\":\\\"Physics I Lab\\\",\\\"id\\\":4,\\\"credits\\\":1,\\\"nameCanonical\\\":\\\"\\\"}],\\\"id\\\":5},{\\\"name\\\":\\\"Term 6\\\",\\\"curriculum_items\\\":[{\\\"curriculum_requisites\\\":[{\\\"source_id\\\":4,\\\"target_id\\\":5,\\\"type\\\":\\\"CurriculumPrerequisite\\\"},{\\\"source_id\\\":3,\\\"target_id\\\":5,\\\"type\\\":\\\"CurriculumPrerequisite\\\"}],\\\"name\\\":\\\" \\\",\\\"metrics\\\":{\\\"centrality\\\":32,\\\"complexity\\\":12.0,\\\"blocking factor\\\":3,\\\"delay factor\\\":9.0},\\\"nameSub\\\":\\\"Physics II\\\",\\\"id\\\":5,\\\"credits\\\":3,\\\"nameCanonical\\\":\\\"\\\"},{\\\"curriculum_requisites\\\":[{\\\"source_id\\\":5,\\\"target_id\\\":6,\\\"type\\\":\\\"CurriculumCorequisite\\\"}],\\\"name\\\":\\\" \\\",\\\"metrics\\\":{\\\"centrality\\\":0,\\\"complexity\\\":8.0,\\\"blocking factor\\\":0,\\\"delay factor\\\":8.0},\\\"nameSub\\\":\\\"Physics II Lab\\\",\\\"id\\\":6,\\\"credits\\\":1,\\\"nameCanonical\\\":\\\"\\\"},{\\\"curriculum_requisites\\\":[{\\\"source_id\\\":2,\\\"target_id\\\":7,\\\"type\\\":\\\"CurriculumPrerequisite\\\"}],\\\"name\\\":\\\" \\\",\\\"metrics\\\":{\\\"centrality\\\":8,\\\"complexity\\\":10.0,\\\"blocking factor\\\":2,\\\"delay factor\\\":8.0},\\\"nameSub\\\":\\\"Differential Eqs.\\\",\\\"id\\\":7,\\\"credits\\\":3,\\\"nameCanonical\\\":\\\"\\\"},{\\\"curriculum_requisites\\\":[{\\\"source_id\\\":5,\\\"target_id\\\":8,\\\"type\\\":\\\"CurriculumPrerequisite\\\"},{\\\"source_id\\\":7,\\\"target_id\\\":8,\\\"type\\\":\\\"CurriculumPrerequisite\\\"}],\\\"name\\\":\\\" \\\",\\\"metrics\\\":{\\\"centrality\\\":25,\\\"complexity\\\":10.0,\\\"blocking factor\\\":1,\\\"delay factor\\\":9.0},\\\"nameSub\\\":\\\"Circuits I\\\",\\\"id\\\":8,\\\"credits\\\":3,\\\"nameCanonical\\\":\\\"\\\"}],\\\"id\\\":6},{\\\"name\\\":\\\"Term 7\\\",\\\"curriculum_items\\\":[{\\\"curriculum_requisites\\\":[{\\\"source_id\\\":8,\\\"target_id\\\":9,\\\"type\\\":\\\"CurriculumPrerequisite\\\"}],\\\"name\\\":\\\" \\\",\\\"metrics\\\":{\\\"centrality\\\":0,\\\"complexity\\\":9.0,\\\"blocking factor\\\":0,\\\"delay factor\\\":9.0},\\\"nameSub\\\":\\\"Circuits II\\\",\\\"id\\\":9,\\\"credits\\\":3,\\\"nameCanonical\\\":\\\"\\\"}],\\\"id\\\":7}],\\\"institution\\\":\\\"\\\"}},\\\"*\\\"); window.removeEventListener(\\\"message\\\",window.messageReceived); window.messageReceived=(function (event){return (event.data.curriculum!==undefined) ? (WebIO.setval({\\\"name\\\":\\\"curriculum-data\\\",\\\"scope\\\":\\\"7672716349824602987\\\",\\\"id\\\":\\\"13430819615717587345\\\",\\\"type\\\":\\\"observable\\\"},event.data.curriculum)) : undefined}); return window.addEventListener(\\\"message\\\",window.messageReceived)})\"},\"style\":{\"padding\":\"0\",\"height\":\"80vh\",\"margin\":\"0\",\"border\":\"none\",\"width\":\"100%\"}},\"nodeType\":\"DOM\",\"type\":\"node\",\"instanceArgs\":{\"namespace\":\"html\",\"tag\":\"iframe\"},\"children\":[\"\"]}]},\n",
       "            window,\n",
       "        );\n",
       "    } else {\n",
       "        document\n",
       "            .querySelector('[data-webio-mountpoint=\"9524068107984893353\"]')\n",
       "            .innerHTML = (\n",
       "                '<div style=\"padding: 1em; background-color: #f8d6da; border: 1px solid #f5c6cb\">' +\n",
       "                '<p><strong>WebIO not detected.</strong></p>' +\n",
       "                '<p>Please read ' +\n",
       "                '<a href=\"https://juliagizmos.github.io/WebIO.jl/latest/troubleshooting/not-detected/\" target=\"_blank\">the troubleshooting guide</a> ' +\n",
       "                'for more information on how to resolve this issue.</p>' +\n",
       "                '<p><a href=\"https://juliagizmos.github.io/WebIO.jl/latest/troubleshooting/not-detected/\" target=\"_blank\">https://juliagizmos.github.io/WebIO.jl/latest/troubleshooting/not-detected/</a></p>' +\n",
       "                '</div>'\n",
       "            );\n",
       "    }\n",
       "    </script>\n",
       "</div>\n"
      ],
      "text/plain": [
       "WebIO.Scope(WebIO.Node{WebIO.DOM}(WebIO.DOM(:html, :iframe), Any[\"\"], Dict{Symbol, Any}(:src => \"https://curricula-api-embed.damoursystems.com/\", :id => \"curriculum\", :events => Dict{Symbol, WebIO.JSString}(:load => WebIO.JSString(\"(function (){this.contentWindow.postMessage({\\\"options\\\":{\\\"hideTerms\\\":false,\\\"edit\\\":false},\\\"curriculum\\\":{\\\"name\\\":\\\"Circuits I Design Pattern\\\",\\\"dp_name\\\":\\\"Foundational Math\\\",\\\"curriculum_terms\\\":[{\\\"name\\\":\\\"Term 1\\\",\\\"curriculum_items\\\":[{\\\"curriculum_requisites\\\":[],\\\"name\\\":\\\" \\\",\\\"metrics\\\":{\\\"centrality\\\":0,\\\"complexity\\\":20.0,\\\"blocking factor\\\":11,\\\"delay factor\\\":9.0},\\\"nameSub\\\":\\\"Foundational Math\\\",\\\"id\\\":12,\\\"credits\\\":3,\\\"nameCanonical\\\":\\\"\\\"}],\\\"id\\\":1},{\\\"name\\\":\\\"Term 2\\\",\\\"curriculum_items\\\":[{\\\"curriculum_requisites\\\":[{\\\"source_id\\\":12,\\\"target_id\\\":11,\\\"type\\\":\\\"CurriculumPrerequisite\\\"}],\\\"name\\\":\\\" \\\",\\\"metrics\\\":{\\\"centrality\\\":40,\\\"complexity\\\":19.0,\\\"blocking factor\\\":10,\\\"delay factor\\\":9.0},\\\"nameSub\\\":\\\"College Algebra\\\",\\\"id\\\":11,\\\"credits\\\":3,\\\"nameCanonical\\\":\\\"\\\"}],\\\"id\\\":2},{\\\"name\\\":\\\"Term 3\\\",\\\"curriculum_items\\\":[{\\\"curriculum_requisites\\\":[{\\\"source_id\\\":11,\\\"target_id\\\":10,\\\"type\\\":\\\"CurriculumPrerequisite\\\"}],\\\"name\\\":\\\" \\\",\\\"metrics\\\":{\\\"centrality\\\":40,\\\"complexity\\\":18.0,\\\"blocking factor\\\":9,\\\"delay factor\\\":9.0},\\\"nameSub\\\":\\\"Precalculus\\\",\\\"id\\\":10,\\\"credits\\\":4,\\\"nameCanonical\\\":\\\"\\\"}],\\\"id\\\":3},{\\\"name\\\":\\\"Term 4\\\",\\\"curriculum_items\\\":[{\\\"curriculum_requisites\\\":[{\\\"source_id\\\":10,\\\"target_id\\\":1,\\\"type\\\":\\\"CurriculumPrerequisite\\\"}],\\\"name\\\":\\\" \\\",\\\"metrics\\\":{\\\"centrality\\\":40,\\\"complexity\\\":17.0,\\\"blocking factor\\\":8,\\\"delay factor\\\":9.0},\\\"nameSub\\\":\\\"Calculus I\\\",\\\"id\\\":1,\\\"credits\\\":4,\\\"nameCanonical\\\":\\\"\\\"}],\\\"id\\\":4},{\\\"name\\\":\\\"Term 5\\\",\\\"curriculum_items\\\":[{\\\"curriculum_requisites\\\":[{\\\"source_id\\\":1,\\\"target_id\\\":2,\\\"type\\\":\\\"CurriculumPrerequisite\\\"}],\\\"name\\\":\\\" \\\",\\\"metrics\\\":{\\\"centrality\\\":8,\\\"complexity\\\":11.0,\\\"blocking factor\\\":3,\\\"delay factor\\\":8.0},\\\"nameSub\\\":\\\"Calculus II\\\",\\\"id\\\":2,\\\"credits\\\":4,\\\"nameCanonical\\\":\\\"\\\"},{\\\"curriculum_requisites\\\":[{\\\"source_id\\\":1,\\\"target_id\\\":3,\\\"type\\\":\\\"CurriculumPrerequisite\\\"}],\\\"name\\\":\\\" \\\",\\\"metrics\\\":{\\\"centrality\\\":32,\\\"complexity\\\":14.0,\\\"blocking factor\\\":5,\\\"delay factor\\\":9.0},\\\"nameSub\\\":\\\"Physics I\\\",\\\"id\\\":3,\\\"credits\\\":3,\\\"nameCanonical\\\":\\\"\\\"},{\\\"curriculum_requisites\\\":[{\\\"source_id\\\":3,\\\"target_id\\\":4,\\\"type\\\":\\\"CurriculumCorequisite\\\"}],\\\"name\\\":\\\" \\\",\\\"metrics\\\":{\\\"centrality\\\":17,\\\"complexity\\\":13.0,\\\"blocking factor\\\":4,\\\"delay factor\\\":9.0},\\\"nameSub\\\":\\\"Physics I Lab\\\",\\\"id\\\":4,\\\"credits\\\":1,\\\"nameCanonical\\\":\\\"\\\"}],\\\"id\\\":5},{\\\"name\\\":\\\"Term 6\\\",\\\"curriculum_items\\\":[{\\\"curriculum_requisites\\\":[{\\\"source_id\\\":4,\\\"target_id\\\":5,\\\"type\\\":\\\"CurriculumPrerequisite\\\"},{\\\"source_id\\\":3,\\\"target_id\\\":5,\\\"type\\\":\\\"CurriculumPrerequisite\\\"}],\\\"name\\\":\\\" \\\",\\\"metrics\\\":{\\\"centrality\\\":32,\\\"complexity\\\":12.0,\\\"blocking factor\\\":3,\\\"delay factor\\\":9.0},\\\"nameSub\\\":\\\"Physics II\\\",\\\"id\\\":5,\\\"credits\\\":3,\\\"nameCanonical\\\":\\\"\\\"},{\\\"curriculum_requisites\\\":[{\\\"source_id\\\":5,\\\"target_id\\\":6,\\\"type\\\":\\\"CurriculumCorequisite\\\"}],\\\"name\\\":\\\" \\\",\\\"metrics\\\":{\\\"centrality\\\":0,\\\"complexity\\\":8.0,\\\"blocking factor\\\":0,\\\"delay factor\\\":8.0},\\\"nameSub\\\":\\\"Physics II Lab\\\",\\\"id\\\":6,\\\"credits\\\":1,\\\"nameCanonical\\\":\\\"\\\"},{\\\"curriculum_requisites\\\":[{\\\"source_id\\\":2,\\\"target_id\\\":7,\\\"type\\\":\\\"CurriculumPrerequisite\\\"}],\\\"name\\\":\\\" \\\",\\\"metrics\\\":{\\\"centrality\\\":8,\\\"complexity\\\":10.0,\\\"blocking factor\\\":2,\\\"delay factor\\\":8.0},\\\"nameSub\\\":\\\"Differential Eqs.\\\",\\\"id\\\":7,\\\"credits\\\":3,\\\"nameCanonical\\\":\\\"\\\"},{\\\"curriculum_requisites\\\":[{\\\"source_id\\\":5,\\\"target_id\\\":8,\\\"type\\\":\\\"CurriculumPrerequisite\\\"},{\\\"source_id\\\":7,\\\"target_id\\\":8,\\\"type\\\":\\\"CurriculumPrerequisite\\\"}],\\\"name\\\":\\\" \\\",\\\"metrics\\\":{\\\"centrality\\\":25,\\\"complexity\\\":10.0,\\\"blocking factor\\\":1,\\\"delay factor\\\":9.0},\\\"nameSub\\\":\\\"Circuits I\\\",\\\"id\\\":8,\\\"credits\\\":3,\\\"nameCanonical\\\":\\\"\\\"}],\\\"id\\\":6},{\\\"name\\\":\\\"Term 7\\\",\\\"curriculum_items\\\":[{\\\"curriculum_requisites\\\":[{\\\"source_id\\\":8,\\\"target_id\\\":9,\\\"type\\\":\\\"CurriculumPrerequisite\\\"}],\\\"name\\\":\\\" \\\",\\\"metrics\\\":{\\\"centrality\\\":0,\\\"complexity\\\":9.0,\\\"blocking factor\\\":0,\\\"delay factor\\\":9.0},\\\"nameSub\\\":\\\"Circuits II\\\",\\\"id\\\":9,\\\"credits\\\":3,\\\"nameCanonical\\\":\\\"\\\"}],\\\"id\\\":7}],\\\"institution\\\":\\\"\\\"}},\\\"*\\\"); window.removeEventListener(\\\"message\\\",window.messageReceived); window.messageReceived=(function (event){return (event.data.curriculum!==undefined) ? (WebIO.setval({\\\"name\\\":\\\"curriculum-data\\\",\\\"scope\\\":\\\"7672716349824602987\\\",\\\"id\\\":\\\"13430819615717587345\\\",\\\"type\\\":\\\"observable\\\"},event.data.curriculum)) : undefined}); return window.addEventListener(\\\"message\\\",window.messageReceived)})\")), :style => Dict(:padding => \"0\", :height => \"80vh\", :margin => \"0\", :border => \"none\", :width => \"100%\"))), Dict{String, Tuple{Observables.AbstractObservable, Union{Nothing, Bool}}}(\"curriculum-data\" => (Observable{Dict{String, Any}} with 1 listeners. Value:\n",
       "Dict{String, Any}(\"options\" => Dict{String, Any}(\"hideTerms\" => false, \"edit\" => false), \"curriculum\" => Dict{String, Any}(\"name\" => \"Circuits I Design Pattern\", \"dp_name\" => \"Foundational Math\", \"curriculum_terms\" => Dict{String, Any}[Dict(\"name\" => \"Term 1\", \"curriculum_items\" => Dict{String, Any}[Dict(\"curriculum_requisites\" => Dict{String, Any}[], \"name\" => \" \", \"metrics\" => Dict{String, Any}(\"centrality\" => 0, \"complexity\" => 20.0, \"blocking factor\" => 11, \"delay factor\" => 9.0), \"nameSub\" => \"Foundational Math\", \"id\" => 12, \"credits\" => 3, \"nameCanonical\" => \"\")], \"id\" => 1), Dict(\"name\" => \"Term 2\", \"curriculum_items\" => Dict{String, Any}[Dict(\"curriculum_requisites\" => Dict{String, Any}[Dict(\"source_id\" => 12, \"target_id\" => 11, \"type\" => \"CurriculumPrerequisite\")], \"name\" => \" \", \"metrics\" => Dict{String, Any}(\"centrality\" => 40, \"complexity\" => 19.0, \"blocking factor\" => 10, \"delay factor\" => 9.0), \"nameSub\" => \"College Algebra\", \"id\" => 11, \"credits\" => 3, \"nameCanonical\" => \"\")], \"id\" => 2), Dict(\"name\" => \"Term 3\", \"curriculum_items\" => Dict{String, Any}[Dict(\"curriculum_requisites\" => Dict{String, Any}[Dict(\"source_id\" => 11, \"target_id\" => 10, \"type\" => \"CurriculumPrerequisite\")], \"name\" => \" \", \"metrics\" => Dict{String, Any}(\"centrality\" => 40, \"complexity\" => 18.0, \"blocking factor\" => 9, \"delay factor\" => 9.0), \"nameSub\" => \"Precalculus\", \"id\" => 10, \"credits\" => 4, \"nameCanonical\" => \"\")], \"id\" => 3), Dict(\"name\" => \"Term 4\", \"curriculum_items\" => Dict{String, Any}[Dict(\"curriculum_requisites\" => Dict{String, Any}[Dict(\"source_id\" => 10, \"target_id\" => 1, \"type\" => \"CurriculumPrerequisite\")], \"name\" => \" \", \"metrics\" => Dict{String, Any}(\"centrality\" => 40, \"complexity\" => 17.0, \"blocking factor\" => 8, \"delay factor\" => 9.0), \"nameSub\" => \"Calculus I\", \"id\" => 1, \"credits\" => 4, \"nameCanonical\" => \"\")], \"id\" => 4), Dict(\"name\" => \"Term 5\", \"curriculum_items\" => Dict{String, Any}[Dict(\"curriculum_requisites\" => Dict{String, Any}[Dict(\"source_id\" => 1, \"target_id\" => 2, \"type\" => \"CurriculumPrerequisite\")], \"name\" => \" \", \"metrics\" => Dict{String, Any}(\"centrality\" => 8, \"complexity\" => 11.0, \"blocking factor\" => 3, \"delay factor\" => 8.0), \"nameSub\" => \"Calculus II\", \"id\" => 2, \"credits\" => 4, \"nameCanonical\" => \"\"), Dict(\"curriculum_requisites\" => Dict{String, Any}[Dict(\"source_id\" => 1, \"target_id\" => 3, \"type\" => \"CurriculumPrerequisite\")], \"name\" => \" \", \"metrics\" => Dict{String, Any}(\"centrality\" => 32, \"complexity\" => 14.0, \"blocking factor\" => 5, \"delay factor\" => 9.0), \"nameSub\" => \"Physics I\", \"id\" => 3, \"credits\" => 3, \"nameCanonical\" => \"\"), Dict(\"curriculum_requisites\" => Dict{String, Any}[Dict(\"source_id\" => 3, \"target_id\" => 4, \"type\" => \"CurriculumCorequisite\")], \"name\" => \" \", \"metrics\" => Dict{String, Any}(\"centrality\" => 17, \"complexity\" => 13.0, \"blocking factor\" => 4, \"delay factor\" => 9.0), \"nameSub\" => \"Physics I Lab\", \"id\" => 4, \"credits\" => 1, \"nameCanonical\" => \"\")], \"id\" => 5), Dict(\"name\" => \"Term 6\", \"curriculum_items\" => Dict{String, Any}[Dict(\"curriculum_requisites\" => Dict{String, Any}[Dict(\"source_id\" => 4, \"target_id\" => 5, \"type\" => \"CurriculumPrerequisite\"), Dict(\"source_id\" => 3, \"target_id\" => 5, \"type\" => \"CurriculumPrerequisite\")], \"name\" => \" \", \"metrics\" => Dict{String, Any}(\"centrality\" => 32, \"complexity\" => 12.0, \"blocking factor\" => 3, \"delay factor\" => 9.0), \"nameSub\" => \"Physics II\", \"id\" => 5, \"credits\" => 3, \"nameCanonical\" => \"\"), Dict(\"curriculum_requisites\" => Dict{String, Any}[Dict(\"source_id\" => 5, \"target_id\" => 6, \"type\" => \"CurriculumCorequisite\")], \"name\" => \" \", \"metrics\" => Dict{String, Any}(\"centrality\" => 0, \"complexity\" => 8.0, \"blocking factor\" => 0, \"delay factor\" => 8.0), \"nameSub\" => \"Physics II Lab\", \"id\" => 6, \"credits\" => 1, \"nameCanonical\" => \"\"), Dict(\"curriculum_requisites\" => Dict{String, Any}[Dict(\"source_id\" => 2, \"target_id\" => 7, \"type\" => \"CurriculumPrerequisite\")], \"name\" => \" \", \"metrics\" => Dict{String, Any}(\"centrality\" => 8, \"complexity\" => 10.0, \"blocking factor\" => 2, \"delay factor\" => 8.0), \"nameSub\" => \"Differential Eqs.\", \"id\" => 7, \"credits\" => 3, \"nameCanonical\" => \"\"), Dict(\"curriculum_requisites\" => Dict{String, Any}[Dict(\"source_id\" => 5, \"target_id\" => 8, \"type\" => \"CurriculumPrerequisite\"), Dict(\"source_id\" => 7, \"target_id\" => 8, \"type\" => \"CurriculumPrerequisite\")], \"name\" => \" \", \"metrics\" => Dict{String, Any}(\"centrality\" => 25, \"complexity\" => 10.0, \"blocking factor\" => 1, \"delay factor\" => 9.0), \"nameSub\" => \"Circuits I\", \"id\" => 8, \"credits\" => 3, \"nameCanonical\" => \"\")], \"id\" => 6), Dict(\"name\" => \"Term 7\", \"curriculum_items\" => Dict{String, Any}[Dict(\"curriculum_requisites\" => Dict{String, Any}[Dict(\"source_id\" => 8, \"target_id\" => 9, \"type\" => \"CurriculumPrerequisite\")], \"name\" => \" \", \"metrics\" => Dict{String, Any}(\"centrality\" => 0, \"complexity\" => 9.0, \"blocking factor\" => 0, \"delay factor\" => 9.0), \"nameSub\" => \"Circuits II\", \"id\" => 9, \"credits\" => 3, \"nameCanonical\" => \"\")], \"id\" => 7)], \"institution\" => \"\")), nothing)), Set{String}(), nothing, WebIO.Asset[], Dict{Any, Any}(), WebIO.ConnectionPool(Channel{Any}(32), Set{WebIO.AbstractConnection}(), Condition(Base.InvasiveLinkedList{Task}(Task (runnable) @0x000000011be32650, Task (runnable) @0x000000011be32650), Base.AlwaysLockedST(1))), WebIO.JSString[])"
      ]
     },
     "execution_count": 8,
     "metadata": {
      "application/vnd.webio.node+json": {
       "kernelId": "608747ee-a133-469f-a5ab-d2379c850c6c"
      }
     },
     "output_type": "execute_result"
    }
   ],
   "source": [
    "foundational_math = read_csv(\"EE-FoundationalMath.csv\")\n",
    "visualize(foundational_math, notebook=true, scale=0.8)"
   ]
  },
  {
   "cell_type": "markdown",
   "metadata": {},
   "source": [
    "If the design pattern associated with a Foundational Math starting point is added to a real curriculum, in this case the University of Kentucky EE program shown below, there is a significant increase in overall curricular complexity, which in turn will lead to a concomitant decrease in graduation rates.  Note: we have simply tacked on the additional math courses to the beginning of the degree plan. Courses from later terms could be shifted into the first three terms in order to reduced the total number of terms in the degree plan; however, this will not reduced the overall curricular complexity of the revised program."
   ]
  },
  {
   "cell_type": "code",
   "execution_count": 9,
   "metadata": {},
   "outputs": [
    {
     "data": {
      "application/vnd.webio.node+json": {
       "children": [
        {
         "children": [
          ""
         ],
         "instanceArgs": {
          "namespace": "html",
          "tag": "iframe"
         },
         "nodeType": "DOM",
         "props": {
          "events": {
           "load": "(function (){this.contentWindow.postMessage({\"options\":{\"hideTerms\":false,\"edit\":false},\"curriculum\":{\"name\":\"University of Kentucky EE Program\",\"dp_name\":\"University of Kentucky EE Program 4-year Plan\",\"curriculum_terms\":[{\"name\":\"Term 1\",\"curriculum_items\":[{\"curriculum_requisites\":[],\"name\":\"MA 108R\",\"metrics\":{\"centrality\":0,\"complexity\":29.0,\"blocking factor\":18,\"delay factor\":11.0},\"nameSub\":\"Intermediate Algebra\",\"id\":1,\"credits\":3,\"nameCanonical\":\"\"}],\"id\":1},{\"name\":\"Term 2\",\"curriculum_items\":[{\"curriculum_requisites\":[{\"source_id\":1,\"target_id\":2,\"type\":\"CurriculumPrerequisite\"}],\"name\":\"MA 109\",\"metrics\":{\"centrality\":250,\"complexity\":28.0,\"blocking factor\":17,\"delay factor\":11.0},\"nameSub\":\"College Algebra\",\"id\":2,\"credits\":3,\"nameCanonical\":\"\"}],\"id\":2},{\"name\":\"Term 3\",\"curriculum_items\":[{\"curriculum_requisites\":[{\"source_id\":2,\"target_id\":3,\"type\":\"CurriculumPrerequisite\"}],\"name\":\"MA  110\",\"metrics\":{\"centrality\":250,\"complexity\":27.0,\"blocking factor\":16,\"delay factor\":11.0},\"nameSub\":\"Algebra & Trigonometry\",\"id\":3,\"credits\":4,\"nameCanonical\":\"\"}],\"id\":3},{\"name\":\"Term 4\",\"curriculum_items\":[{\"curriculum_requisites\":[],\"name\":\"EGR 101\",\"metrics\":{\"centrality\":0,\"complexity\":1.0,\"blocking factor\":0,\"delay factor\":1.0},\"nameSub\":\"Engineering Exploration I\",\"id\":2071595408,\"credits\":1,\"nameCanonical\":\"\"},{\"curriculum_requisites\":[],\"name\":\"EGR 102\",\"metrics\":{\"centrality\":0,\"complexity\":6.0,\"blocking factor\":3,\"delay factor\":3.0},\"nameSub\":\"Fundamentals of Engineering Computing\",\"id\":502542156,\"credits\":2,\"nameCanonical\":\"\"},{\"curriculum_requisites\":[{\"source_id\":3389674827,\"target_id\":2865398329,\"type\":\"CurriculumCorequisite\"}],\"name\":\"PHY 231\",\"metrics\":{\"centrality\":95,\"complexity\":20.0,\"blocking factor\":10,\"delay factor\":10.0},\"nameSub\":\"General University Physics\",\"id\":2865398329,\"credits\":4,\"nameCanonical\":\"\"},{\"curriculum_requisites\":[{\"source_id\":2865398329,\"target_id\":746915474,\"type\":\"CurriculumCorequisite\"}],\"name\":\"PHY 241\",\"metrics\":{\"centrality\":0,\"complexity\":6.0,\"blocking factor\":0,\"delay factor\":6.0},\"nameSub\":\"General University Physics Lab\",\"id\":746915474,\"credits\":1,\"nameCanonical\":\"\"},{\"curriculum_requisites\":[],\"name\":\"CIS/WRD 110\",\"metrics\":{\"centrality\":0,\"complexity\":3.0,\"blocking factor\":1,\"delay factor\":2.0},\"nameSub\":\"Composition and Communication I\",\"id\":858428248,\"credits\":3,\"nameCanonical\":\"\"},{\"curriculum_requisites\":[{\"source_id\":3,\"target_id\":3389674827,\"type\":\"CurriculumCorequisite\"}],\"name\":\"MA 113\",\"metrics\":{\"centrality\":250,\"complexity\":26.0,\"blocking factor\":15,\"delay factor\":11.0},\"nameSub\":\"Calculus I\",\"id\":3389674827,\"credits\":4,\"nameCanonical\":\"\"}],\"id\":4},{\"name\":\"Term 5\",\"curriculum_items\":[{\"curriculum_requisites\":[{\"source_id\":2865398329,\"target_id\":1123828828,\"type\":\"CurriculumCorequisite\"},{\"source_id\":502542156,\"target_id\":1123828828,\"type\":\"CurriculumPrerequisite\"},{\"source_id\":738464693,\"target_id\":1123828828,\"type\":\"CurriculumCorequisite\"},{\"source_id\":3389674827,\"target_id\":1123828828,\"type\":\"CurriculumCorequisite\"}],\"name\":\"EGR 103\",\"metrics\":{\"centrality\":0,\"complexity\":6.0,\"blocking factor\":0,\"delay factor\":6.0},\"nameSub\":\"Engineering Exploration II\",\"id\":1123828828,\"credits\":2,\"nameCanonical\":\"\"},{\"curriculum_requisites\":[{\"source_id\":858428248,\"target_id\":3660518225,\"type\":\"CurriculumPrerequisite\"}],\"name\":\"CIS/WRD 111\",\"metrics\":{\"centrality\":0,\"complexity\":2.0,\"blocking factor\":0,\"delay factor\":2.0},\"nameSub\":\"Composition and Communication II\",\"id\":3660518225,\"credits\":3,\"nameCanonical\":\"\"},{\"curriculum_requisites\":[{\"source_id\":3389674827,\"target_id\":2966989896,\"type\":\"CurriculumPrerequisite\"}],\"name\":\"MA 114\",\"metrics\":{\"centrality\":150,\"complexity\":22.0,\"blocking factor\":11,\"delay factor\":11.0},\"nameSub\":\"Calculus II\",\"id\":2966989896,\"credits\":4,\"nameCanonical\":\"\"},{\"curriculum_requisites\":[],\"name\":\"CHE 105\",\"metrics\":{\"centrality\":0,\"complexity\":3.0,\"blocking factor\":1,\"delay factor\":2.0},\"nameSub\":\"General College Chemistry I\",\"id\":738464693,\"credits\":4,\"nameCanonical\":\"\"},{\"curriculum_requisites\":[],\"name\":\" \",\"metrics\":{\"centrality\":0,\"complexity\":1.0,\"blocking factor\":0,\"delay factor\":1.0},\"nameSub\":\"UK Core - Social Sciences\",\"id\":1586162741,\"credits\":3,\"nameCanonical\":\"\"}],\"id\":5},{\"name\":\"Term 6\",\"curriculum_items\":[{\"curriculum_requisites\":[{\"source_id\":2966989896,\"target_id\":2193700744,\"type\":\"CurriculumPrerequisite\"}],\"name\":\"MA 213\",\"metrics\":{\"centrality\":150,\"complexity\":21.0,\"blocking factor\":10,\"delay factor\":11.0},\"nameSub\":\"Calculus III\",\"id\":2193700744,\"credits\":4,\"nameCanonical\":\"\"},{\"curriculum_requisites\":[{\"source_id\":2865398329,\"target_id\":24551683,\"type\":\"CurriculumPrerequisite\"},{\"source_id\":2193700744,\"target_id\":24551683,\"type\":\"CurriculumCorequisite\"}],\"name\":\"PHY 232\",\"metrics\":{\"centrality\":175,\"complexity\":18.0,\"blocking factor\":7,\"delay factor\":11.0},\"nameSub\":\"General University Physics\",\"id\":24551683,\"credits\":4,\"nameCanonical\":\"\"},{\"curriculum_requisites\":[{\"source_id\":24551683,\"target_id\":4109240503,\"type\":\"CurriculumCorequisite\"}],\"name\":\"PHY 242\",\"metrics\":{\"centrality\":84,\"complexity\":17.0,\"blocking factor\":6,\"delay factor\":11.0},\"nameSub\":\"General University Physics Lab\",\"id\":4109240503,\"credits\":1,\"nameCanonical\":\"\"},{\"curriculum_requisites\":[{\"source_id\":24551683,\"target_id\":1017230148,\"type\":\"CurriculumCorequisite\"},{\"source_id\":4109240503,\"target_id\":1017230148,\"type\":\"CurriculumCorequisite\"}],\"name\":\"EE 211\",\"metrics\":{\"centrality\":160,\"complexity\":16.0,\"blocking factor\":5,\"delay factor\":11.0},\"nameSub\":\"Circuits I\",\"id\":1017230148,\"credits\":4,\"nameCanonical\":\"\"},{\"curriculum_requisites\":[{\"source_id\":502542156,\"target_id\":1416959221,\"type\":\"CurriculumPrerequisite\"}],\"name\":\"EE 282\",\"metrics\":{\"centrality\":3,\"complexity\":4.0,\"blocking factor\":1,\"delay factor\":3.0},\"nameSub\":\"Digital Logic Design\",\"id\":1416959221,\"credits\":4,\"nameCanonical\":\"\"}],\"id\":6},{\"name\":\"Term 7\",\"curriculum_items\":[{\"curriculum_requisites\":[{\"source_id\":2193700744,\"target_id\":713164423,\"type\":\"CurriculumPrerequisite\"}],\"name\":\"MA 214\",\"metrics\":{\"centrality\":44,\"complexity\":14.0,\"blocking factor\":5,\"delay factor\":9.0},\"nameSub\":\"Calculus IV\",\"id\":713164423,\"credits\":3,\"nameCanonical\":\"\"},{\"curriculum_requisites\":[{\"source_id\":1017230148,\"target_id\":2281989961,\"type\":\"CurriculumPrerequisite\"},{\"source_id\":713164423,\"target_id\":2281989961,\"type\":\"CurriculumCorequisite\"}],\"name\":\"EE 223\",\"metrics\":{\"centrality\":196,\"complexity\":15.0,\"blocking factor\":4,\"delay factor\":11.0},\"nameSub\":\"AC Circuits\",\"id\":2281989961,\"credits\":4,\"nameCanonical\":\"\"},{\"curriculum_requisites\":[{\"source_id\":1332377596,\"target_id\":1647567702,\"type\":\"CurriculumCorequisite\"},{\"source_id\":1416959221,\"target_id\":1647567702,\"type\":\"CurriculumPrerequisite\"}],\"name\":\"EE 287\",\"metrics\":{\"centrality\":0,\"complexity\":3.0,\"blocking factor\":0,\"delay factor\":3.0},\"nameSub\":\"Intro. to Embedded Systems\",\"id\":1647567702,\"credits\":4,\"nameCanonical\":\"\"},{\"curriculum_requisites\":[],\"name\":\"CS 215\",\"metrics\":{\"centrality\":0,\"complexity\":3.0,\"blocking factor\":1,\"delay factor\":2.0},\"nameSub\":\"Intro. to Program Design Abstraction and Problem Solving\",\"id\":1332377596,\"credits\":4,\"nameCanonical\":\"\"},{\"curriculum_requisites\":[],\"name\":\" \",\"metrics\":{\"centrality\":0,\"complexity\":1.0,\"blocking factor\":0,\"delay factor\":1.0},\"nameSub\":\"UK Core - Humanities\",\"id\":699408466,\"credits\":3,\"nameCanonical\":\"\"}],\"id\":7},{\"name\":\"Term 8\",\"curriculum_items\":[{\"curriculum_requisites\":[{\"source_id\":24551683,\"target_id\":3945639322,\"type\":\"CurriculumPrerequisite\"},{\"source_id\":2281989961,\"target_id\":3945639322,\"type\":\"CurriculumPrerequisite\"}],\"name\":\"EE 415G\",\"metrics\":{\"centrality\":0,\"complexity\":11.0,\"blocking factor\":0,\"delay factor\":11.0},\"nameSub\":\"Electromechanics\",\"id\":3945639322,\"credits\":3,\"nameCanonical\":\"\"},{\"curriculum_requisites\":[{\"source_id\":2281989961,\"target_id\":2950065960,\"type\":\"CurriculumPrerequisite\"},{\"source_id\":713164423,\"target_id\":2950065960,\"type\":\"CurriculumPrerequisite\"}],\"name\":\"EE 421G\",\"metrics\":{\"centrality\":0,\"complexity\":11.0,\"blocking factor\":0,\"delay factor\":11.0},\"nameSub\":\"Signals & Systems\",\"id\":2950065960,\"credits\":3,\"nameCanonical\":\"\"},{\"curriculum_requisites\":[],\"name\":\" \",\"metrics\":{\"centrality\":0,\"complexity\":1.0,\"blocking factor\":0,\"delay factor\":1.0},\"nameSub\":\"Elective EE Laboratory 1\",\"id\":448709314,\"credits\":2,\"nameCanonical\":\"\"},{\"curriculum_requisites\":[{\"source_id\":2281989961,\"target_id\":16242192,\"type\":\"CurriculumPrerequisite\"}],\"name\":\"EE 461G\",\"metrics\":{\"centrality\":0,\"complexity\":11.0,\"blocking factor\":0,\"delay factor\":11.0},\"nameSub\":\"Intro. to Electronics\",\"id\":16242192,\"credits\":3,\"nameCanonical\":\"\"},{\"curriculum_requisites\":[{\"source_id\":2193700744,\"target_id\":2756944549,\"type\":\"CurriculumPrerequisite\"}],\"name\":\"MA 320\",\"metrics\":{\"centrality\":0,\"complexity\":7.0,\"blocking factor\":0,\"delay factor\":7.0},\"nameSub\":\"Introductory Probability\",\"id\":2756944549,\"credits\":3,\"nameCanonical\":\"\"},{\"curriculum_requisites\":[],\"name\":\" \",\"metrics\":{\"centrality\":0,\"complexity\":1.0,\"blocking factor\":0,\"delay factor\":1.0},\"nameSub\":\"Technical Elective 1\",\"id\":3654615878,\"credits\":3,\"nameCanonical\":\"\"}],\"id\":8},{\"name\":\"Term 9\",\"curriculum_items\":[{\"curriculum_requisites\":[{\"source_id\":2281989961,\"target_id\":1400716874,\"type\":\"CurriculumPrerequisite\"},{\"source_id\":2193700744,\"target_id\":1400716874,\"type\":\"CurriculumPrerequisite\"}],\"name\":\"EE 468G\",\"metrics\":{\"centrality\":0,\"complexity\":11.0,\"blocking factor\":0,\"delay factor\":11.0},\"nameSub\":\"Intro. to Engineering Electromagnetics\",\"id\":1400716874,\"credits\":4,\"nameCanonical\":\"\"},{\"curriculum_requisites\":[],\"name\":\" \",\"metrics\":{\"centrality\":0,\"complexity\":1.0,\"blocking factor\":0,\"delay factor\":1.0},\"nameSub\":\"Elective EE Laboratory 2\",\"id\":3008452217,\"credits\":2,\"nameCanonical\":\"\"},{\"curriculum_requisites\":[],\"name\":\" \",\"metrics\":{\"centrality\":0,\"complexity\":1.0,\"blocking factor\":0,\"delay factor\":1.0},\"nameSub\":\"Engineering/Science Elective 1\",\"id\":1824271747,\"credits\":3,\"nameCanonical\":\"\"},{\"curriculum_requisites\":[],\"name\":\" \",\"metrics\":{\"centrality\":0,\"complexity\":1.0,\"blocking factor\":0,\"delay factor\":1.0},\"nameSub\":\"Technical Elective 2\",\"id\":3697264218,\"credits\":3,\"nameCanonical\":\"\"},{\"curriculum_requisites\":[],\"name\":\" \",\"metrics\":{\"centrality\":0,\"complexity\":1.0,\"blocking factor\":0,\"delay factor\":1.0},\"nameSub\":\"UK Core - Citizenship - USA\",\"id\":1496407185,\"credits\":3,\"nameCanonical\":\"\"}],\"id\":9},{\"name\":\"Term 10\",\"curriculum_items\":[{\"curriculum_requisites\":[],\"name\":\"EE 490\",\"metrics\":{\"centrality\":0,\"complexity\":3.0,\"blocking factor\":1,\"delay factor\":2.0},\"nameSub\":\"EE Capstone Design\",\"id\":1116551982,\"credits\":3,\"nameCanonical\":\"\"},{\"curriculum_requisites\":[],\"name\":\" \",\"metrics\":{\"centrality\":0,\"complexity\":1.0,\"blocking factor\":0,\"delay factor\":1.0},\"nameSub\":\"EE Technical Elective 1\",\"id\":1373040133,\"credits\":3,\"nameCanonical\":\"\"},{\"curriculum_requisites\":[],\"name\":\" \",\"metrics\":{\"centrality\":0,\"complexity\":1.0,\"blocking factor\":0,\"delay factor\":1.0},\"nameSub\":\"EE Technical Elective 2\",\"id\":2900608954,\"credits\":3,\"nameCanonical\":\"\"},{\"curriculum_requisites\":[],\"name\":\" \",\"metrics\":{\"centrality\":0,\"complexity\":1.0,\"blocking factor\":0,\"delay factor\":1.0},\"nameSub\":\"Math/Statistics Elective\",\"id\":147960851,\"credits\":3,\"nameCanonical\":\"\"},{\"curriculum_requisites\":[],\"name\":\" \",\"metrics\":{\"centrality\":0,\"complexity\":1.0,\"blocking factor\":0,\"delay factor\":1.0},\"nameSub\":\"UK Core - Global Dynamics\",\"id\":819264340,\"credits\":3,\"nameCanonical\":\"\"}],\"id\":10},{\"name\":\"Term 11\",\"curriculum_items\":[{\"curriculum_requisites\":[{\"source_id\":1116551982,\"target_id\":2674820998,\"type\":\"CurriculumPrerequisite\"}],\"name\":\"EE 491\",\"metrics\":{\"centrality\":0,\"complexity\":2.0,\"blocking factor\":0,\"delay factor\":2.0},\"nameSub\":\"EE Capstone Design\",\"id\":2674820998,\"credits\":3,\"nameCanonical\":\"\"},{\"curriculum_requisites\":[],\"name\":\" \",\"metrics\":{\"centrality\":0,\"complexity\":1.0,\"blocking factor\":0,\"delay factor\":1.0},\"nameSub\":\"EE Technical Elective 3\",\"id\":3472050261,\"credits\":3,\"nameCanonical\":\"\"},{\"curriculum_requisites\":[],\"name\":\" \",\"metrics\":{\"centrality\":0,\"complexity\":1.0,\"blocking factor\":0,\"delay factor\":1.0},\"nameSub\":\"EE Technical Elective 4\",\"id\":3141179749,\"credits\":3,\"nameCanonical\":\"\"},{\"curriculum_requisites\":[],\"name\":\" \",\"metrics\":{\"centrality\":0,\"complexity\":1.0,\"blocking factor\":0,\"delay factor\":1.0},\"nameSub\":\"Supportive Elective\",\"id\":109586583,\"credits\":3,\"nameCanonical\":\"\"},{\"curriculum_requisites\":[],\"name\":\" \",\"metrics\":{\"centrality\":0,\"complexity\":1.0,\"blocking factor\":0,\"delay factor\":1.0},\"nameSub\":\"Engineering/Science Elective 2\",\"id\":1227973603,\"credits\":3,\"nameCanonical\":\"\"},{\"curriculum_requisites\":[],\"name\":\" \",\"metrics\":{\"centrality\":0,\"complexity\":1.0,\"blocking factor\":0,\"delay factor\":1.0},\"nameSub\":\"UK Core - Statistical Inferential Reasoning\",\"id\":599971617,\"credits\":3,\"nameCanonical\":\"\"}],\"id\":11}],\"institution\":\"\"}},\"*\"); window.removeEventListener(\"message\",window.messageReceived); window.messageReceived=(function (event){return (event.data.curriculum!==undefined) ? (WebIO.setval({\"name\":\"curriculum-data\",\"scope\":\"12328287345437886037\",\"id\":\"17052827016151560397\",\"type\":\"observable\"},event.data.curriculum)) : undefined}); return window.addEventListener(\"message\",window.messageReceived)})"
          },
          "id": "curriculum",
          "src": "https://curricula-api-embed.damoursystems.com/",
          "style": {
           "border": "none",
           "height": "100vh",
           "margin": "0",
           "padding": "0",
           "width": "100%"
          }
         },
         "type": "node"
        }
       ],
       "instanceArgs": {
        "handlers": {},
        "id": "12328287345437886037",
        "imports": {
         "data": [],
         "type": "async_block"
        },
        "mount_callbacks": [],
        "observables": {
         "curriculum-data": {
          "id": "17052827016151560397",
          "sync": true,
          "value": {
           "curriculum": {
            "curriculum_terms": [
             {
              "curriculum_items": [
               {
                "credits": 3,
                "curriculum_requisites": [],
                "id": 1,
                "metrics": {
                 "blocking factor": 18,
                 "centrality": 0,
                 "complexity": 29,
                 "delay factor": 11
                },
                "name": "MA 108R",
                "nameCanonical": "",
                "nameSub": "Intermediate Algebra"
               }
              ],
              "id": 1,
              "name": "Term 1"
             },
             {
              "curriculum_items": [
               {
                "credits": 3,
                "curriculum_requisites": [
                 {
                  "source_id": 1,
                  "target_id": 2,
                  "type": "CurriculumPrerequisite"
                 }
                ],
                "id": 2,
                "metrics": {
                 "blocking factor": 17,
                 "centrality": 250,
                 "complexity": 28,
                 "delay factor": 11
                },
                "name": "MA 109",
                "nameCanonical": "",
                "nameSub": "College Algebra"
               }
              ],
              "id": 2,
              "name": "Term 2"
             },
             {
              "curriculum_items": [
               {
                "credits": 4,
                "curriculum_requisites": [
                 {
                  "source_id": 2,
                  "target_id": 3,
                  "type": "CurriculumPrerequisite"
                 }
                ],
                "id": 3,
                "metrics": {
                 "blocking factor": 16,
                 "centrality": 250,
                 "complexity": 27,
                 "delay factor": 11
                },
                "name": "MA  110",
                "nameCanonical": "",
                "nameSub": "Algebra & Trigonometry"
               }
              ],
              "id": 3,
              "name": "Term 3"
             },
             {
              "curriculum_items": [
               {
                "credits": 1,
                "curriculum_requisites": [],
                "id": 2071595408,
                "metrics": {
                 "blocking factor": 0,
                 "centrality": 0,
                 "complexity": 1,
                 "delay factor": 1
                },
                "name": "EGR 101",
                "nameCanonical": "",
                "nameSub": "Engineering Exploration I"
               },
               {
                "credits": 2,
                "curriculum_requisites": [],
                "id": 502542156,
                "metrics": {
                 "blocking factor": 3,
                 "centrality": 0,
                 "complexity": 6,
                 "delay factor": 3
                },
                "name": "EGR 102",
                "nameCanonical": "",
                "nameSub": "Fundamentals of Engineering Computing"
               },
               {
                "credits": 4,
                "curriculum_requisites": [
                 {
                  "source_id": 3389674827,
                  "target_id": 2865398329,
                  "type": "CurriculumCorequisite"
                 }
                ],
                "id": 2865398329,
                "metrics": {
                 "blocking factor": 10,
                 "centrality": 95,
                 "complexity": 20,
                 "delay factor": 10
                },
                "name": "PHY 231",
                "nameCanonical": "",
                "nameSub": "General University Physics"
               },
               {
                "credits": 1,
                "curriculum_requisites": [
                 {
                  "source_id": 2865398329,
                  "target_id": 746915474,
                  "type": "CurriculumCorequisite"
                 }
                ],
                "id": 746915474,
                "metrics": {
                 "blocking factor": 0,
                 "centrality": 0,
                 "complexity": 6,
                 "delay factor": 6
                },
                "name": "PHY 241",
                "nameCanonical": "",
                "nameSub": "General University Physics Lab"
               },
               {
                "credits": 3,
                "curriculum_requisites": [],
                "id": 858428248,
                "metrics": {
                 "blocking factor": 1,
                 "centrality": 0,
                 "complexity": 3,
                 "delay factor": 2
                },
                "name": "CIS/WRD 110",
                "nameCanonical": "",
                "nameSub": "Composition and Communication I"
               },
               {
                "credits": 4,
                "curriculum_requisites": [
                 {
                  "source_id": 3,
                  "target_id": 3389674827,
                  "type": "CurriculumCorequisite"
                 }
                ],
                "id": 3389674827,
                "metrics": {
                 "blocking factor": 15,
                 "centrality": 250,
                 "complexity": 26,
                 "delay factor": 11
                },
                "name": "MA 113",
                "nameCanonical": "",
                "nameSub": "Calculus I"
               }
              ],
              "id": 4,
              "name": "Term 4"
             },
             {
              "curriculum_items": [
               {
                "credits": 2,
                "curriculum_requisites": [
                 {
                  "source_id": 2865398329,
                  "target_id": 1123828828,
                  "type": "CurriculumCorequisite"
                 },
                 {
                  "source_id": 502542156,
                  "target_id": 1123828828,
                  "type": "CurriculumPrerequisite"
                 },
                 {
                  "source_id": 738464693,
                  "target_id": 1123828828,
                  "type": "CurriculumCorequisite"
                 },
                 {
                  "source_id": 3389674827,
                  "target_id": 1123828828,
                  "type": "CurriculumCorequisite"
                 }
                ],
                "id": 1123828828,
                "metrics": {
                 "blocking factor": 0,
                 "centrality": 0,
                 "complexity": 6,
                 "delay factor": 6
                },
                "name": "EGR 103",
                "nameCanonical": "",
                "nameSub": "Engineering Exploration II"
               },
               {
                "credits": 3,
                "curriculum_requisites": [
                 {
                  "source_id": 858428248,
                  "target_id": 3660518225,
                  "type": "CurriculumPrerequisite"
                 }
                ],
                "id": 3660518225,
                "metrics": {
                 "blocking factor": 0,
                 "centrality": 0,
                 "complexity": 2,
                 "delay factor": 2
                },
                "name": "CIS/WRD 111",
                "nameCanonical": "",
                "nameSub": "Composition and Communication II"
               },
               {
                "credits": 4,
                "curriculum_requisites": [
                 {
                  "source_id": 3389674827,
                  "target_id": 2966989896,
                  "type": "CurriculumPrerequisite"
                 }
                ],
                "id": 2966989896,
                "metrics": {
                 "blocking factor": 11,
                 "centrality": 150,
                 "complexity": 22,
                 "delay factor": 11
                },
                "name": "MA 114",
                "nameCanonical": "",
                "nameSub": "Calculus II"
               },
               {
                "credits": 4,
                "curriculum_requisites": [],
                "id": 738464693,
                "metrics": {
                 "blocking factor": 1,
                 "centrality": 0,
                 "complexity": 3,
                 "delay factor": 2
                },
                "name": "CHE 105",
                "nameCanonical": "",
                "nameSub": "General College Chemistry I"
               },
               {
                "credits": 3,
                "curriculum_requisites": [],
                "id": 1586162741,
                "metrics": {
                 "blocking factor": 0,
                 "centrality": 0,
                 "complexity": 1,
                 "delay factor": 1
                },
                "name": " ",
                "nameCanonical": "",
                "nameSub": "UK Core - Social Sciences"
               }
              ],
              "id": 5,
              "name": "Term 5"
             },
             {
              "curriculum_items": [
               {
                "credits": 4,
                "curriculum_requisites": [
                 {
                  "source_id": 2966989896,
                  "target_id": 2193700744,
                  "type": "CurriculumPrerequisite"
                 }
                ],
                "id": 2193700744,
                "metrics": {
                 "blocking factor": 10,
                 "centrality": 150,
                 "complexity": 21,
                 "delay factor": 11
                },
                "name": "MA 213",
                "nameCanonical": "",
                "nameSub": "Calculus III"
               },
               {
                "credits": 4,
                "curriculum_requisites": [
                 {
                  "source_id": 2865398329,
                  "target_id": 24551683,
                  "type": "CurriculumPrerequisite"
                 },
                 {
                  "source_id": 2193700744,
                  "target_id": 24551683,
                  "type": "CurriculumCorequisite"
                 }
                ],
                "id": 24551683,
                "metrics": {
                 "blocking factor": 7,
                 "centrality": 175,
                 "complexity": 18,
                 "delay factor": 11
                },
                "name": "PHY 232",
                "nameCanonical": "",
                "nameSub": "General University Physics"
               },
               {
                "credits": 1,
                "curriculum_requisites": [
                 {
                  "source_id": 24551683,
                  "target_id": 4109240503,
                  "type": "CurriculumCorequisite"
                 }
                ],
                "id": 4109240503,
                "metrics": {
                 "blocking factor": 6,
                 "centrality": 84,
                 "complexity": 17,
                 "delay factor": 11
                },
                "name": "PHY 242",
                "nameCanonical": "",
                "nameSub": "General University Physics Lab"
               },
               {
                "credits": 4,
                "curriculum_requisites": [
                 {
                  "source_id": 24551683,
                  "target_id": 1017230148,
                  "type": "CurriculumCorequisite"
                 },
                 {
                  "source_id": 4109240503,
                  "target_id": 1017230148,
                  "type": "CurriculumCorequisite"
                 }
                ],
                "id": 1017230148,
                "metrics": {
                 "blocking factor": 5,
                 "centrality": 160,
                 "complexity": 16,
                 "delay factor": 11
                },
                "name": "EE 211",
                "nameCanonical": "",
                "nameSub": "Circuits I"
               },
               {
                "credits": 4,
                "curriculum_requisites": [
                 {
                  "source_id": 502542156,
                  "target_id": 1416959221,
                  "type": "CurriculumPrerequisite"
                 }
                ],
                "id": 1416959221,
                "metrics": {
                 "blocking factor": 1,
                 "centrality": 3,
                 "complexity": 4,
                 "delay factor": 3
                },
                "name": "EE 282",
                "nameCanonical": "",
                "nameSub": "Digital Logic Design"
               }
              ],
              "id": 6,
              "name": "Term 6"
             },
             {
              "curriculum_items": [
               {
                "credits": 3,
                "curriculum_requisites": [
                 {
                  "source_id": 2193700744,
                  "target_id": 713164423,
                  "type": "CurriculumPrerequisite"
                 }
                ],
                "id": 713164423,
                "metrics": {
                 "blocking factor": 5,
                 "centrality": 44,
                 "complexity": 14,
                 "delay factor": 9
                },
                "name": "MA 214",
                "nameCanonical": "",
                "nameSub": "Calculus IV"
               },
               {
                "credits": 4,
                "curriculum_requisites": [
                 {
                  "source_id": 1017230148,
                  "target_id": 2281989961,
                  "type": "CurriculumPrerequisite"
                 },
                 {
                  "source_id": 713164423,
                  "target_id": 2281989961,
                  "type": "CurriculumCorequisite"
                 }
                ],
                "id": 2281989961,
                "metrics": {
                 "blocking factor": 4,
                 "centrality": 196,
                 "complexity": 15,
                 "delay factor": 11
                },
                "name": "EE 223",
                "nameCanonical": "",
                "nameSub": "AC Circuits"
               },
               {
                "credits": 4,
                "curriculum_requisites": [
                 {
                  "source_id": 1332377596,
                  "target_id": 1647567702,
                  "type": "CurriculumCorequisite"
                 },
                 {
                  "source_id": 1416959221,
                  "target_id": 1647567702,
                  "type": "CurriculumPrerequisite"
                 }
                ],
                "id": 1647567702,
                "metrics": {
                 "blocking factor": 0,
                 "centrality": 0,
                 "complexity": 3,
                 "delay factor": 3
                },
                "name": "EE 287",
                "nameCanonical": "",
                "nameSub": "Intro. to Embedded Systems"
               },
               {
                "credits": 4,
                "curriculum_requisites": [],
                "id": 1332377596,
                "metrics": {
                 "blocking factor": 1,
                 "centrality": 0,
                 "complexity": 3,
                 "delay factor": 2
                },
                "name": "CS 215",
                "nameCanonical": "",
                "nameSub": "Intro. to Program Design Abstraction and Problem Solving"
               },
               {
                "credits": 3,
                "curriculum_requisites": [],
                "id": 699408466,
                "metrics": {
                 "blocking factor": 0,
                 "centrality": 0,
                 "complexity": 1,
                 "delay factor": 1
                },
                "name": " ",
                "nameCanonical": "",
                "nameSub": "UK Core - Humanities"
               }
              ],
              "id": 7,
              "name": "Term 7"
             },
             {
              "curriculum_items": [
               {
                "credits": 3,
                "curriculum_requisites": [
                 {
                  "source_id": 24551683,
                  "target_id": 3945639322,
                  "type": "CurriculumPrerequisite"
                 },
                 {
                  "source_id": 2281989961,
                  "target_id": 3945639322,
                  "type": "CurriculumPrerequisite"
                 }
                ],
                "id": 3945639322,
                "metrics": {
                 "blocking factor": 0,
                 "centrality": 0,
                 "complexity": 11,
                 "delay factor": 11
                },
                "name": "EE 415G",
                "nameCanonical": "",
                "nameSub": "Electromechanics"
               },
               {
                "credits": 3,
                "curriculum_requisites": [
                 {
                  "source_id": 2281989961,
                  "target_id": 2950065960,
                  "type": "CurriculumPrerequisite"
                 },
                 {
                  "source_id": 713164423,
                  "target_id": 2950065960,
                  "type": "CurriculumPrerequisite"
                 }
                ],
                "id": 2950065960,
                "metrics": {
                 "blocking factor": 0,
                 "centrality": 0,
                 "complexity": 11,
                 "delay factor": 11
                },
                "name": "EE 421G",
                "nameCanonical": "",
                "nameSub": "Signals & Systems"
               },
               {
                "credits": 2,
                "curriculum_requisites": [],
                "id": 448709314,
                "metrics": {
                 "blocking factor": 0,
                 "centrality": 0,
                 "complexity": 1,
                 "delay factor": 1
                },
                "name": " ",
                "nameCanonical": "",
                "nameSub": "Elective EE Laboratory 1"
               },
               {
                "credits": 3,
                "curriculum_requisites": [
                 {
                  "source_id": 2281989961,
                  "target_id": 16242192,
                  "type": "CurriculumPrerequisite"
                 }
                ],
                "id": 16242192,
                "metrics": {
                 "blocking factor": 0,
                 "centrality": 0,
                 "complexity": 11,
                 "delay factor": 11
                },
                "name": "EE 461G",
                "nameCanonical": "",
                "nameSub": "Intro. to Electronics"
               },
               {
                "credits": 3,
                "curriculum_requisites": [
                 {
                  "source_id": 2193700744,
                  "target_id": 2756944549,
                  "type": "CurriculumPrerequisite"
                 }
                ],
                "id": 2756944549,
                "metrics": {
                 "blocking factor": 0,
                 "centrality": 0,
                 "complexity": 7,
                 "delay factor": 7
                },
                "name": "MA 320",
                "nameCanonical": "",
                "nameSub": "Introductory Probability"
               },
               {
                "credits": 3,
                "curriculum_requisites": [],
                "id": 3654615878,
                "metrics": {
                 "blocking factor": 0,
                 "centrality": 0,
                 "complexity": 1,
                 "delay factor": 1
                },
                "name": " ",
                "nameCanonical": "",
                "nameSub": "Technical Elective 1"
               }
              ],
              "id": 8,
              "name": "Term 8"
             },
             {
              "curriculum_items": [
               {
                "credits": 4,
                "curriculum_requisites": [
                 {
                  "source_id": 2281989961,
                  "target_id": 1400716874,
                  "type": "CurriculumPrerequisite"
                 },
                 {
                  "source_id": 2193700744,
                  "target_id": 1400716874,
                  "type": "CurriculumPrerequisite"
                 }
                ],
                "id": 1400716874,
                "metrics": {
                 "blocking factor": 0,
                 "centrality": 0,
                 "complexity": 11,
                 "delay factor": 11
                },
                "name": "EE 468G",
                "nameCanonical": "",
                "nameSub": "Intro. to Engineering Electromagnetics"
               },
               {
                "credits": 2,
                "curriculum_requisites": [],
                "id": 3008452217,
                "metrics": {
                 "blocking factor": 0,
                 "centrality": 0,
                 "complexity": 1,
                 "delay factor": 1
                },
                "name": " ",
                "nameCanonical": "",
                "nameSub": "Elective EE Laboratory 2"
               },
               {
                "credits": 3,
                "curriculum_requisites": [],
                "id": 1824271747,
                "metrics": {
                 "blocking factor": 0,
                 "centrality": 0,
                 "complexity": 1,
                 "delay factor": 1
                },
                "name": " ",
                "nameCanonical": "",
                "nameSub": "Engineering/Science Elective 1"
               },
               {
                "credits": 3,
                "curriculum_requisites": [],
                "id": 3697264218,
                "metrics": {
                 "blocking factor": 0,
                 "centrality": 0,
                 "complexity": 1,
                 "delay factor": 1
                },
                "name": " ",
                "nameCanonical": "",
                "nameSub": "Technical Elective 2"
               },
               {
                "credits": 3,
                "curriculum_requisites": [],
                "id": 1496407185,
                "metrics": {
                 "blocking factor": 0,
                 "centrality": 0,
                 "complexity": 1,
                 "delay factor": 1
                },
                "name": " ",
                "nameCanonical": "",
                "nameSub": "UK Core - Citizenship - USA"
               }
              ],
              "id": 9,
              "name": "Term 9"
             },
             {
              "curriculum_items": [
               {
                "credits": 3,
                "curriculum_requisites": [],
                "id": 1116551982,
                "metrics": {
                 "blocking factor": 1,
                 "centrality": 0,
                 "complexity": 3,
                 "delay factor": 2
                },
                "name": "EE 490",
                "nameCanonical": "",
                "nameSub": "EE Capstone Design"
               },
               {
                "credits": 3,
                "curriculum_requisites": [],
                "id": 1373040133,
                "metrics": {
                 "blocking factor": 0,
                 "centrality": 0,
                 "complexity": 1,
                 "delay factor": 1
                },
                "name": " ",
                "nameCanonical": "",
                "nameSub": "EE Technical Elective 1"
               },
               {
                "credits": 3,
                "curriculum_requisites": [],
                "id": 2900608954,
                "metrics": {
                 "blocking factor": 0,
                 "centrality": 0,
                 "complexity": 1,
                 "delay factor": 1
                },
                "name": " ",
                "nameCanonical": "",
                "nameSub": "EE Technical Elective 2"
               },
               {
                "credits": 3,
                "curriculum_requisites": [],
                "id": 147960851,
                "metrics": {
                 "blocking factor": 0,
                 "centrality": 0,
                 "complexity": 1,
                 "delay factor": 1
                },
                "name": " ",
                "nameCanonical": "",
                "nameSub": "Math/Statistics Elective"
               },
               {
                "credits": 3,
                "curriculum_requisites": [],
                "id": 819264340,
                "metrics": {
                 "blocking factor": 0,
                 "centrality": 0,
                 "complexity": 1,
                 "delay factor": 1
                },
                "name": " ",
                "nameCanonical": "",
                "nameSub": "UK Core - Global Dynamics"
               }
              ],
              "id": 10,
              "name": "Term 10"
             },
             {
              "curriculum_items": [
               {
                "credits": 3,
                "curriculum_requisites": [
                 {
                  "source_id": 1116551982,
                  "target_id": 2674820998,
                  "type": "CurriculumPrerequisite"
                 }
                ],
                "id": 2674820998,
                "metrics": {
                 "blocking factor": 0,
                 "centrality": 0,
                 "complexity": 2,
                 "delay factor": 2
                },
                "name": "EE 491",
                "nameCanonical": "",
                "nameSub": "EE Capstone Design"
               },
               {
                "credits": 3,
                "curriculum_requisites": [],
                "id": 3472050261,
                "metrics": {
                 "blocking factor": 0,
                 "centrality": 0,
                 "complexity": 1,
                 "delay factor": 1
                },
                "name": " ",
                "nameCanonical": "",
                "nameSub": "EE Technical Elective 3"
               },
               {
                "credits": 3,
                "curriculum_requisites": [],
                "id": 3141179749,
                "metrics": {
                 "blocking factor": 0,
                 "centrality": 0,
                 "complexity": 1,
                 "delay factor": 1
                },
                "name": " ",
                "nameCanonical": "",
                "nameSub": "EE Technical Elective 4"
               },
               {
                "credits": 3,
                "curriculum_requisites": [],
                "id": 109586583,
                "metrics": {
                 "blocking factor": 0,
                 "centrality": 0,
                 "complexity": 1,
                 "delay factor": 1
                },
                "name": " ",
                "nameCanonical": "",
                "nameSub": "Supportive Elective"
               },
               {
                "credits": 3,
                "curriculum_requisites": [],
                "id": 1227973603,
                "metrics": {
                 "blocking factor": 0,
                 "centrality": 0,
                 "complexity": 1,
                 "delay factor": 1
                },
                "name": " ",
                "nameCanonical": "",
                "nameSub": "Engineering/Science Elective 2"
               },
               {
                "credits": 3,
                "curriculum_requisites": [],
                "id": 599971617,
                "metrics": {
                 "blocking factor": 0,
                 "centrality": 0,
                 "complexity": 1,
                 "delay factor": 1
                },
                "name": " ",
                "nameCanonical": "",
                "nameSub": "UK Core - Statistical Inferential Reasoning"
               }
              ],
              "id": 11,
              "name": "Term 11"
             }
            ],
            "dp_name": "University of Kentucky EE Program 4-year Plan",
            "institution": "",
            "name": "University of Kentucky EE Program"
           },
           "options": {
            "edit": false,
            "hideTerms": false
           }
          }
         }
        },
        "systemjs_options": null
       },
       "nodeType": "Scope",
       "props": {},
       "type": "node"
      },
      "text/html": [
       "<div\n",
       "    class=\"webio-mountpoint\"\n",
       "    data-webio-mountpoint=\"10278901974240311928\"\n",
       ">\n",
       "    <script>\n",
       "    if (window.require && require.defined && require.defined(\"nbextensions/webio-jupyter-notebook\")) {\n",
       "        console.log(\"Jupyter WebIO extension detected, not mounting.\");\n",
       "    } else if (window.WebIO) {\n",
       "        WebIO.mount(\n",
       "            document.querySelector('[data-webio-mountpoint=\"10278901974240311928\"]'),\n",
       "            {\"props\":{},\"nodeType\":\"Scope\",\"type\":\"node\",\"instanceArgs\":{\"imports\":{\"data\":[],\"type\":\"async_block\"},\"id\":\"12328287345437886037\",\"handlers\":{},\"systemjs_options\":null,\"mount_callbacks\":[],\"observables\":{\"curriculum-data\":{\"sync\":true,\"id\":\"17052827016151560397\",\"value\":{\"options\":{\"hideTerms\":false,\"edit\":false},\"curriculum\":{\"name\":\"University of Kentucky EE Program\",\"dp_name\":\"University of Kentucky EE Program 4-year Plan\",\"curriculum_terms\":[{\"name\":\"Term 1\",\"curriculum_items\":[{\"curriculum_requisites\":[],\"name\":\"MA 108R\",\"metrics\":{\"centrality\":0,\"complexity\":29.0,\"blocking factor\":18,\"delay factor\":11.0},\"nameSub\":\"Intermediate Algebra\",\"id\":1,\"credits\":3,\"nameCanonical\":\"\"}],\"id\":1},{\"name\":\"Term 2\",\"curriculum_items\":[{\"curriculum_requisites\":[{\"source_id\":1,\"target_id\":2,\"type\":\"CurriculumPrerequisite\"}],\"name\":\"MA 109\",\"metrics\":{\"centrality\":250,\"complexity\":28.0,\"blocking factor\":17,\"delay factor\":11.0},\"nameSub\":\"College Algebra\",\"id\":2,\"credits\":3,\"nameCanonical\":\"\"}],\"id\":2},{\"name\":\"Term 3\",\"curriculum_items\":[{\"curriculum_requisites\":[{\"source_id\":2,\"target_id\":3,\"type\":\"CurriculumPrerequisite\"}],\"name\":\"MA  110\",\"metrics\":{\"centrality\":250,\"complexity\":27.0,\"blocking factor\":16,\"delay factor\":11.0},\"nameSub\":\"Algebra & Trigonometry\",\"id\":3,\"credits\":4,\"nameCanonical\":\"\"}],\"id\":3},{\"name\":\"Term 4\",\"curriculum_items\":[{\"curriculum_requisites\":[],\"name\":\"EGR 101\",\"metrics\":{\"centrality\":0,\"complexity\":1.0,\"blocking factor\":0,\"delay factor\":1.0},\"nameSub\":\"Engineering Exploration I\",\"id\":2071595408,\"credits\":1,\"nameCanonical\":\"\"},{\"curriculum_requisites\":[],\"name\":\"EGR 102\",\"metrics\":{\"centrality\":0,\"complexity\":6.0,\"blocking factor\":3,\"delay factor\":3.0},\"nameSub\":\"Fundamentals of Engineering Computing\",\"id\":502542156,\"credits\":2,\"nameCanonical\":\"\"},{\"curriculum_requisites\":[{\"source_id\":3389674827,\"target_id\":2865398329,\"type\":\"CurriculumCorequisite\"}],\"name\":\"PHY 231\",\"metrics\":{\"centrality\":95,\"complexity\":20.0,\"blocking factor\":10,\"delay factor\":10.0},\"nameSub\":\"General University Physics\",\"id\":2865398329,\"credits\":4,\"nameCanonical\":\"\"},{\"curriculum_requisites\":[{\"source_id\":2865398329,\"target_id\":746915474,\"type\":\"CurriculumCorequisite\"}],\"name\":\"PHY 241\",\"metrics\":{\"centrality\":0,\"complexity\":6.0,\"blocking factor\":0,\"delay factor\":6.0},\"nameSub\":\"General University Physics Lab\",\"id\":746915474,\"credits\":1,\"nameCanonical\":\"\"},{\"curriculum_requisites\":[],\"name\":\"CIS\\/WRD 110\",\"metrics\":{\"centrality\":0,\"complexity\":3.0,\"blocking factor\":1,\"delay factor\":2.0},\"nameSub\":\"Composition and Communication I\",\"id\":858428248,\"credits\":3,\"nameCanonical\":\"\"},{\"curriculum_requisites\":[{\"source_id\":3,\"target_id\":3389674827,\"type\":\"CurriculumCorequisite\"}],\"name\":\"MA 113\",\"metrics\":{\"centrality\":250,\"complexity\":26.0,\"blocking factor\":15,\"delay factor\":11.0},\"nameSub\":\"Calculus I\",\"id\":3389674827,\"credits\":4,\"nameCanonical\":\"\"}],\"id\":4},{\"name\":\"Term 5\",\"curriculum_items\":[{\"curriculum_requisites\":[{\"source_id\":2865398329,\"target_id\":1123828828,\"type\":\"CurriculumCorequisite\"},{\"source_id\":502542156,\"target_id\":1123828828,\"type\":\"CurriculumPrerequisite\"},{\"source_id\":738464693,\"target_id\":1123828828,\"type\":\"CurriculumCorequisite\"},{\"source_id\":3389674827,\"target_id\":1123828828,\"type\":\"CurriculumCorequisite\"}],\"name\":\"EGR 103\",\"metrics\":{\"centrality\":0,\"complexity\":6.0,\"blocking factor\":0,\"delay factor\":6.0},\"nameSub\":\"Engineering Exploration II\",\"id\":1123828828,\"credits\":2,\"nameCanonical\":\"\"},{\"curriculum_requisites\":[{\"source_id\":858428248,\"target_id\":3660518225,\"type\":\"CurriculumPrerequisite\"}],\"name\":\"CIS\\/WRD 111\",\"metrics\":{\"centrality\":0,\"complexity\":2.0,\"blocking factor\":0,\"delay factor\":2.0},\"nameSub\":\"Composition and Communication II\",\"id\":3660518225,\"credits\":3,\"nameCanonical\":\"\"},{\"curriculum_requisites\":[{\"source_id\":3389674827,\"target_id\":2966989896,\"type\":\"CurriculumPrerequisite\"}],\"name\":\"MA 114\",\"metrics\":{\"centrality\":150,\"complexity\":22.0,\"blocking factor\":11,\"delay factor\":11.0},\"nameSub\":\"Calculus II\",\"id\":2966989896,\"credits\":4,\"nameCanonical\":\"\"},{\"curriculum_requisites\":[],\"name\":\"CHE 105\",\"metrics\":{\"centrality\":0,\"complexity\":3.0,\"blocking factor\":1,\"delay factor\":2.0},\"nameSub\":\"General College Chemistry I\",\"id\":738464693,\"credits\":4,\"nameCanonical\":\"\"},{\"curriculum_requisites\":[],\"name\":\" \",\"metrics\":{\"centrality\":0,\"complexity\":1.0,\"blocking factor\":0,\"delay factor\":1.0},\"nameSub\":\"UK Core - Social Sciences\",\"id\":1586162741,\"credits\":3,\"nameCanonical\":\"\"}],\"id\":5},{\"name\":\"Term 6\",\"curriculum_items\":[{\"curriculum_requisites\":[{\"source_id\":2966989896,\"target_id\":2193700744,\"type\":\"CurriculumPrerequisite\"}],\"name\":\"MA 213\",\"metrics\":{\"centrality\":150,\"complexity\":21.0,\"blocking factor\":10,\"delay factor\":11.0},\"nameSub\":\"Calculus III\",\"id\":2193700744,\"credits\":4,\"nameCanonical\":\"\"},{\"curriculum_requisites\":[{\"source_id\":2865398329,\"target_id\":24551683,\"type\":\"CurriculumPrerequisite\"},{\"source_id\":2193700744,\"target_id\":24551683,\"type\":\"CurriculumCorequisite\"}],\"name\":\"PHY 232\",\"metrics\":{\"centrality\":175,\"complexity\":18.0,\"blocking factor\":7,\"delay factor\":11.0},\"nameSub\":\"General University Physics\",\"id\":24551683,\"credits\":4,\"nameCanonical\":\"\"},{\"curriculum_requisites\":[{\"source_id\":24551683,\"target_id\":4109240503,\"type\":\"CurriculumCorequisite\"}],\"name\":\"PHY 242\",\"metrics\":{\"centrality\":84,\"complexity\":17.0,\"blocking factor\":6,\"delay factor\":11.0},\"nameSub\":\"General University Physics Lab\",\"id\":4109240503,\"credits\":1,\"nameCanonical\":\"\"},{\"curriculum_requisites\":[{\"source_id\":24551683,\"target_id\":1017230148,\"type\":\"CurriculumCorequisite\"},{\"source_id\":4109240503,\"target_id\":1017230148,\"type\":\"CurriculumCorequisite\"}],\"name\":\"EE 211\",\"metrics\":{\"centrality\":160,\"complexity\":16.0,\"blocking factor\":5,\"delay factor\":11.0},\"nameSub\":\"Circuits I\",\"id\":1017230148,\"credits\":4,\"nameCanonical\":\"\"},{\"curriculum_requisites\":[{\"source_id\":502542156,\"target_id\":1416959221,\"type\":\"CurriculumPrerequisite\"}],\"name\":\"EE 282\",\"metrics\":{\"centrality\":3,\"complexity\":4.0,\"blocking factor\":1,\"delay factor\":3.0},\"nameSub\":\"Digital Logic Design\",\"id\":1416959221,\"credits\":4,\"nameCanonical\":\"\"}],\"id\":6},{\"name\":\"Term 7\",\"curriculum_items\":[{\"curriculum_requisites\":[{\"source_id\":2193700744,\"target_id\":713164423,\"type\":\"CurriculumPrerequisite\"}],\"name\":\"MA 214\",\"metrics\":{\"centrality\":44,\"complexity\":14.0,\"blocking factor\":5,\"delay factor\":9.0},\"nameSub\":\"Calculus IV\",\"id\":713164423,\"credits\":3,\"nameCanonical\":\"\"},{\"curriculum_requisites\":[{\"source_id\":1017230148,\"target_id\":2281989961,\"type\":\"CurriculumPrerequisite\"},{\"source_id\":713164423,\"target_id\":2281989961,\"type\":\"CurriculumCorequisite\"}],\"name\":\"EE 223\",\"metrics\":{\"centrality\":196,\"complexity\":15.0,\"blocking factor\":4,\"delay factor\":11.0},\"nameSub\":\"AC Circuits\",\"id\":2281989961,\"credits\":4,\"nameCanonical\":\"\"},{\"curriculum_requisites\":[{\"source_id\":1332377596,\"target_id\":1647567702,\"type\":\"CurriculumCorequisite\"},{\"source_id\":1416959221,\"target_id\":1647567702,\"type\":\"CurriculumPrerequisite\"}],\"name\":\"EE 287\",\"metrics\":{\"centrality\":0,\"complexity\":3.0,\"blocking factor\":0,\"delay factor\":3.0},\"nameSub\":\"Intro. to Embedded Systems\",\"id\":1647567702,\"credits\":4,\"nameCanonical\":\"\"},{\"curriculum_requisites\":[],\"name\":\"CS 215\",\"metrics\":{\"centrality\":0,\"complexity\":3.0,\"blocking factor\":1,\"delay factor\":2.0},\"nameSub\":\"Intro. to Program Design Abstraction and Problem Solving\",\"id\":1332377596,\"credits\":4,\"nameCanonical\":\"\"},{\"curriculum_requisites\":[],\"name\":\" \",\"metrics\":{\"centrality\":0,\"complexity\":1.0,\"blocking factor\":0,\"delay factor\":1.0},\"nameSub\":\"UK Core - Humanities\",\"id\":699408466,\"credits\":3,\"nameCanonical\":\"\"}],\"id\":7},{\"name\":\"Term 8\",\"curriculum_items\":[{\"curriculum_requisites\":[{\"source_id\":24551683,\"target_id\":3945639322,\"type\":\"CurriculumPrerequisite\"},{\"source_id\":2281989961,\"target_id\":3945639322,\"type\":\"CurriculumPrerequisite\"}],\"name\":\"EE 415G\",\"metrics\":{\"centrality\":0,\"complexity\":11.0,\"blocking factor\":0,\"delay factor\":11.0},\"nameSub\":\"Electromechanics\",\"id\":3945639322,\"credits\":3,\"nameCanonical\":\"\"},{\"curriculum_requisites\":[{\"source_id\":2281989961,\"target_id\":2950065960,\"type\":\"CurriculumPrerequisite\"},{\"source_id\":713164423,\"target_id\":2950065960,\"type\":\"CurriculumPrerequisite\"}],\"name\":\"EE 421G\",\"metrics\":{\"centrality\":0,\"complexity\":11.0,\"blocking factor\":0,\"delay factor\":11.0},\"nameSub\":\"Signals & Systems\",\"id\":2950065960,\"credits\":3,\"nameCanonical\":\"\"},{\"curriculum_requisites\":[],\"name\":\" \",\"metrics\":{\"centrality\":0,\"complexity\":1.0,\"blocking factor\":0,\"delay factor\":1.0},\"nameSub\":\"Elective EE Laboratory 1\",\"id\":448709314,\"credits\":2,\"nameCanonical\":\"\"},{\"curriculum_requisites\":[{\"source_id\":2281989961,\"target_id\":16242192,\"type\":\"CurriculumPrerequisite\"}],\"name\":\"EE 461G\",\"metrics\":{\"centrality\":0,\"complexity\":11.0,\"blocking factor\":0,\"delay factor\":11.0},\"nameSub\":\"Intro. to Electronics\",\"id\":16242192,\"credits\":3,\"nameCanonical\":\"\"},{\"curriculum_requisites\":[{\"source_id\":2193700744,\"target_id\":2756944549,\"type\":\"CurriculumPrerequisite\"}],\"name\":\"MA 320\",\"metrics\":{\"centrality\":0,\"complexity\":7.0,\"blocking factor\":0,\"delay factor\":7.0},\"nameSub\":\"Introductory Probability\",\"id\":2756944549,\"credits\":3,\"nameCanonical\":\"\"},{\"curriculum_requisites\":[],\"name\":\" \",\"metrics\":{\"centrality\":0,\"complexity\":1.0,\"blocking factor\":0,\"delay factor\":1.0},\"nameSub\":\"Technical Elective 1\",\"id\":3654615878,\"credits\":3,\"nameCanonical\":\"\"}],\"id\":8},{\"name\":\"Term 9\",\"curriculum_items\":[{\"curriculum_requisites\":[{\"source_id\":2281989961,\"target_id\":1400716874,\"type\":\"CurriculumPrerequisite\"},{\"source_id\":2193700744,\"target_id\":1400716874,\"type\":\"CurriculumPrerequisite\"}],\"name\":\"EE 468G\",\"metrics\":{\"centrality\":0,\"complexity\":11.0,\"blocking factor\":0,\"delay factor\":11.0},\"nameSub\":\"Intro. to Engineering Electromagnetics\",\"id\":1400716874,\"credits\":4,\"nameCanonical\":\"\"},{\"curriculum_requisites\":[],\"name\":\" \",\"metrics\":{\"centrality\":0,\"complexity\":1.0,\"blocking factor\":0,\"delay factor\":1.0},\"nameSub\":\"Elective EE Laboratory 2\",\"id\":3008452217,\"credits\":2,\"nameCanonical\":\"\"},{\"curriculum_requisites\":[],\"name\":\" \",\"metrics\":{\"centrality\":0,\"complexity\":1.0,\"blocking factor\":0,\"delay factor\":1.0},\"nameSub\":\"Engineering\\/Science Elective 1\",\"id\":1824271747,\"credits\":3,\"nameCanonical\":\"\"},{\"curriculum_requisites\":[],\"name\":\" \",\"metrics\":{\"centrality\":0,\"complexity\":1.0,\"blocking factor\":0,\"delay factor\":1.0},\"nameSub\":\"Technical Elective 2\",\"id\":3697264218,\"credits\":3,\"nameCanonical\":\"\"},{\"curriculum_requisites\":[],\"name\":\" \",\"metrics\":{\"centrality\":0,\"complexity\":1.0,\"blocking factor\":0,\"delay factor\":1.0},\"nameSub\":\"UK Core - Citizenship - USA\",\"id\":1496407185,\"credits\":3,\"nameCanonical\":\"\"}],\"id\":9},{\"name\":\"Term 10\",\"curriculum_items\":[{\"curriculum_requisites\":[],\"name\":\"EE 490\",\"metrics\":{\"centrality\":0,\"complexity\":3.0,\"blocking factor\":1,\"delay factor\":2.0},\"nameSub\":\"EE Capstone Design\",\"id\":1116551982,\"credits\":3,\"nameCanonical\":\"\"},{\"curriculum_requisites\":[],\"name\":\" \",\"metrics\":{\"centrality\":0,\"complexity\":1.0,\"blocking factor\":0,\"delay factor\":1.0},\"nameSub\":\"EE Technical Elective 1\",\"id\":1373040133,\"credits\":3,\"nameCanonical\":\"\"},{\"curriculum_requisites\":[],\"name\":\" \",\"metrics\":{\"centrality\":0,\"complexity\":1.0,\"blocking factor\":0,\"delay factor\":1.0},\"nameSub\":\"EE Technical Elective 2\",\"id\":2900608954,\"credits\":3,\"nameCanonical\":\"\"},{\"curriculum_requisites\":[],\"name\":\" \",\"metrics\":{\"centrality\":0,\"complexity\":1.0,\"blocking factor\":0,\"delay factor\":1.0},\"nameSub\":\"Math\\/Statistics Elective\",\"id\":147960851,\"credits\":3,\"nameCanonical\":\"\"},{\"curriculum_requisites\":[],\"name\":\" \",\"metrics\":{\"centrality\":0,\"complexity\":1.0,\"blocking factor\":0,\"delay factor\":1.0},\"nameSub\":\"UK Core - Global Dynamics\",\"id\":819264340,\"credits\":3,\"nameCanonical\":\"\"}],\"id\":10},{\"name\":\"Term 11\",\"curriculum_items\":[{\"curriculum_requisites\":[{\"source_id\":1116551982,\"target_id\":2674820998,\"type\":\"CurriculumPrerequisite\"}],\"name\":\"EE 491\",\"metrics\":{\"centrality\":0,\"complexity\":2.0,\"blocking factor\":0,\"delay factor\":2.0},\"nameSub\":\"EE Capstone Design\",\"id\":2674820998,\"credits\":3,\"nameCanonical\":\"\"},{\"curriculum_requisites\":[],\"name\":\" \",\"metrics\":{\"centrality\":0,\"complexity\":1.0,\"blocking factor\":0,\"delay factor\":1.0},\"nameSub\":\"EE Technical Elective 3\",\"id\":3472050261,\"credits\":3,\"nameCanonical\":\"\"},{\"curriculum_requisites\":[],\"name\":\" \",\"metrics\":{\"centrality\":0,\"complexity\":1.0,\"blocking factor\":0,\"delay factor\":1.0},\"nameSub\":\"EE Technical Elective 4\",\"id\":3141179749,\"credits\":3,\"nameCanonical\":\"\"},{\"curriculum_requisites\":[],\"name\":\" \",\"metrics\":{\"centrality\":0,\"complexity\":1.0,\"blocking factor\":0,\"delay factor\":1.0},\"nameSub\":\"Supportive Elective\",\"id\":109586583,\"credits\":3,\"nameCanonical\":\"\"},{\"curriculum_requisites\":[],\"name\":\" \",\"metrics\":{\"centrality\":0,\"complexity\":1.0,\"blocking factor\":0,\"delay factor\":1.0},\"nameSub\":\"Engineering\\/Science Elective 2\",\"id\":1227973603,\"credits\":3,\"nameCanonical\":\"\"},{\"curriculum_requisites\":[],\"name\":\" \",\"metrics\":{\"centrality\":0,\"complexity\":1.0,\"blocking factor\":0,\"delay factor\":1.0},\"nameSub\":\"UK Core - Statistical Inferential Reasoning\",\"id\":599971617,\"credits\":3,\"nameCanonical\":\"\"}],\"id\":11}],\"institution\":\"\"}}}}},\"children\":[{\"props\":{\"src\":\"https:\\/\\/curricula-api-embed.damoursystems.com\\/\",\"id\":\"curriculum\",\"events\":{\"load\":\"(function (){this.contentWindow.postMessage({\\\"options\\\":{\\\"hideTerms\\\":false,\\\"edit\\\":false},\\\"curriculum\\\":{\\\"name\\\":\\\"University of Kentucky EE Program\\\",\\\"dp_name\\\":\\\"University of Kentucky EE Program 4-year Plan\\\",\\\"curriculum_terms\\\":[{\\\"name\\\":\\\"Term 1\\\",\\\"curriculum_items\\\":[{\\\"curriculum_requisites\\\":[],\\\"name\\\":\\\"MA 108R\\\",\\\"metrics\\\":{\\\"centrality\\\":0,\\\"complexity\\\":29.0,\\\"blocking factor\\\":18,\\\"delay factor\\\":11.0},\\\"nameSub\\\":\\\"Intermediate Algebra\\\",\\\"id\\\":1,\\\"credits\\\":3,\\\"nameCanonical\\\":\\\"\\\"}],\\\"id\\\":1},{\\\"name\\\":\\\"Term 2\\\",\\\"curriculum_items\\\":[{\\\"curriculum_requisites\\\":[{\\\"source_id\\\":1,\\\"target_id\\\":2,\\\"type\\\":\\\"CurriculumPrerequisite\\\"}],\\\"name\\\":\\\"MA 109\\\",\\\"metrics\\\":{\\\"centrality\\\":250,\\\"complexity\\\":28.0,\\\"blocking factor\\\":17,\\\"delay factor\\\":11.0},\\\"nameSub\\\":\\\"College Algebra\\\",\\\"id\\\":2,\\\"credits\\\":3,\\\"nameCanonical\\\":\\\"\\\"}],\\\"id\\\":2},{\\\"name\\\":\\\"Term 3\\\",\\\"curriculum_items\\\":[{\\\"curriculum_requisites\\\":[{\\\"source_id\\\":2,\\\"target_id\\\":3,\\\"type\\\":\\\"CurriculumPrerequisite\\\"}],\\\"name\\\":\\\"MA  110\\\",\\\"metrics\\\":{\\\"centrality\\\":250,\\\"complexity\\\":27.0,\\\"blocking factor\\\":16,\\\"delay factor\\\":11.0},\\\"nameSub\\\":\\\"Algebra & Trigonometry\\\",\\\"id\\\":3,\\\"credits\\\":4,\\\"nameCanonical\\\":\\\"\\\"}],\\\"id\\\":3},{\\\"name\\\":\\\"Term 4\\\",\\\"curriculum_items\\\":[{\\\"curriculum_requisites\\\":[],\\\"name\\\":\\\"EGR 101\\\",\\\"metrics\\\":{\\\"centrality\\\":0,\\\"complexity\\\":1.0,\\\"blocking factor\\\":0,\\\"delay factor\\\":1.0},\\\"nameSub\\\":\\\"Engineering Exploration I\\\",\\\"id\\\":2071595408,\\\"credits\\\":1,\\\"nameCanonical\\\":\\\"\\\"},{\\\"curriculum_requisites\\\":[],\\\"name\\\":\\\"EGR 102\\\",\\\"metrics\\\":{\\\"centrality\\\":0,\\\"complexity\\\":6.0,\\\"blocking factor\\\":3,\\\"delay factor\\\":3.0},\\\"nameSub\\\":\\\"Fundamentals of Engineering Computing\\\",\\\"id\\\":502542156,\\\"credits\\\":2,\\\"nameCanonical\\\":\\\"\\\"},{\\\"curriculum_requisites\\\":[{\\\"source_id\\\":3389674827,\\\"target_id\\\":2865398329,\\\"type\\\":\\\"CurriculumCorequisite\\\"}],\\\"name\\\":\\\"PHY 231\\\",\\\"metrics\\\":{\\\"centrality\\\":95,\\\"complexity\\\":20.0,\\\"blocking factor\\\":10,\\\"delay factor\\\":10.0},\\\"nameSub\\\":\\\"General University Physics\\\",\\\"id\\\":2865398329,\\\"credits\\\":4,\\\"nameCanonical\\\":\\\"\\\"},{\\\"curriculum_requisites\\\":[{\\\"source_id\\\":2865398329,\\\"target_id\\\":746915474,\\\"type\\\":\\\"CurriculumCorequisite\\\"}],\\\"name\\\":\\\"PHY 241\\\",\\\"metrics\\\":{\\\"centrality\\\":0,\\\"complexity\\\":6.0,\\\"blocking factor\\\":0,\\\"delay factor\\\":6.0},\\\"nameSub\\\":\\\"General University Physics Lab\\\",\\\"id\\\":746915474,\\\"credits\\\":1,\\\"nameCanonical\\\":\\\"\\\"},{\\\"curriculum_requisites\\\":[],\\\"name\\\":\\\"CIS\\/WRD 110\\\",\\\"metrics\\\":{\\\"centrality\\\":0,\\\"complexity\\\":3.0,\\\"blocking factor\\\":1,\\\"delay factor\\\":2.0},\\\"nameSub\\\":\\\"Composition and Communication I\\\",\\\"id\\\":858428248,\\\"credits\\\":3,\\\"nameCanonical\\\":\\\"\\\"},{\\\"curriculum_requisites\\\":[{\\\"source_id\\\":3,\\\"target_id\\\":3389674827,\\\"type\\\":\\\"CurriculumCorequisite\\\"}],\\\"name\\\":\\\"MA 113\\\",\\\"metrics\\\":{\\\"centrality\\\":250,\\\"complexity\\\":26.0,\\\"blocking factor\\\":15,\\\"delay factor\\\":11.0},\\\"nameSub\\\":\\\"Calculus I\\\",\\\"id\\\":3389674827,\\\"credits\\\":4,\\\"nameCanonical\\\":\\\"\\\"}],\\\"id\\\":4},{\\\"name\\\":\\\"Term 5\\\",\\\"curriculum_items\\\":[{\\\"curriculum_requisites\\\":[{\\\"source_id\\\":2865398329,\\\"target_id\\\":1123828828,\\\"type\\\":\\\"CurriculumCorequisite\\\"},{\\\"source_id\\\":502542156,\\\"target_id\\\":1123828828,\\\"type\\\":\\\"CurriculumPrerequisite\\\"},{\\\"source_id\\\":738464693,\\\"target_id\\\":1123828828,\\\"type\\\":\\\"CurriculumCorequisite\\\"},{\\\"source_id\\\":3389674827,\\\"target_id\\\":1123828828,\\\"type\\\":\\\"CurriculumCorequisite\\\"}],\\\"name\\\":\\\"EGR 103\\\",\\\"metrics\\\":{\\\"centrality\\\":0,\\\"complexity\\\":6.0,\\\"blocking factor\\\":0,\\\"delay factor\\\":6.0},\\\"nameSub\\\":\\\"Engineering Exploration II\\\",\\\"id\\\":1123828828,\\\"credits\\\":2,\\\"nameCanonical\\\":\\\"\\\"},{\\\"curriculum_requisites\\\":[{\\\"source_id\\\":858428248,\\\"target_id\\\":3660518225,\\\"type\\\":\\\"CurriculumPrerequisite\\\"}],\\\"name\\\":\\\"CIS\\/WRD 111\\\",\\\"metrics\\\":{\\\"centrality\\\":0,\\\"complexity\\\":2.0,\\\"blocking factor\\\":0,\\\"delay factor\\\":2.0},\\\"nameSub\\\":\\\"Composition and Communication II\\\",\\\"id\\\":3660518225,\\\"credits\\\":3,\\\"nameCanonical\\\":\\\"\\\"},{\\\"curriculum_requisites\\\":[{\\\"source_id\\\":3389674827,\\\"target_id\\\":2966989896,\\\"type\\\":\\\"CurriculumPrerequisite\\\"}],\\\"name\\\":\\\"MA 114\\\",\\\"metrics\\\":{\\\"centrality\\\":150,\\\"complexity\\\":22.0,\\\"blocking factor\\\":11,\\\"delay factor\\\":11.0},\\\"nameSub\\\":\\\"Calculus II\\\",\\\"id\\\":2966989896,\\\"credits\\\":4,\\\"nameCanonical\\\":\\\"\\\"},{\\\"curriculum_requisites\\\":[],\\\"name\\\":\\\"CHE 105\\\",\\\"metrics\\\":{\\\"centrality\\\":0,\\\"complexity\\\":3.0,\\\"blocking factor\\\":1,\\\"delay factor\\\":2.0},\\\"nameSub\\\":\\\"General College Chemistry I\\\",\\\"id\\\":738464693,\\\"credits\\\":4,\\\"nameCanonical\\\":\\\"\\\"},{\\\"curriculum_requisites\\\":[],\\\"name\\\":\\\" \\\",\\\"metrics\\\":{\\\"centrality\\\":0,\\\"complexity\\\":1.0,\\\"blocking factor\\\":0,\\\"delay factor\\\":1.0},\\\"nameSub\\\":\\\"UK Core - Social Sciences\\\",\\\"id\\\":1586162741,\\\"credits\\\":3,\\\"nameCanonical\\\":\\\"\\\"}],\\\"id\\\":5},{\\\"name\\\":\\\"Term 6\\\",\\\"curriculum_items\\\":[{\\\"curriculum_requisites\\\":[{\\\"source_id\\\":2966989896,\\\"target_id\\\":2193700744,\\\"type\\\":\\\"CurriculumPrerequisite\\\"}],\\\"name\\\":\\\"MA 213\\\",\\\"metrics\\\":{\\\"centrality\\\":150,\\\"complexity\\\":21.0,\\\"blocking factor\\\":10,\\\"delay factor\\\":11.0},\\\"nameSub\\\":\\\"Calculus III\\\",\\\"id\\\":2193700744,\\\"credits\\\":4,\\\"nameCanonical\\\":\\\"\\\"},{\\\"curriculum_requisites\\\":[{\\\"source_id\\\":2865398329,\\\"target_id\\\":24551683,\\\"type\\\":\\\"CurriculumPrerequisite\\\"},{\\\"source_id\\\":2193700744,\\\"target_id\\\":24551683,\\\"type\\\":\\\"CurriculumCorequisite\\\"}],\\\"name\\\":\\\"PHY 232\\\",\\\"metrics\\\":{\\\"centrality\\\":175,\\\"complexity\\\":18.0,\\\"blocking factor\\\":7,\\\"delay factor\\\":11.0},\\\"nameSub\\\":\\\"General University Physics\\\",\\\"id\\\":24551683,\\\"credits\\\":4,\\\"nameCanonical\\\":\\\"\\\"},{\\\"curriculum_requisites\\\":[{\\\"source_id\\\":24551683,\\\"target_id\\\":4109240503,\\\"type\\\":\\\"CurriculumCorequisite\\\"}],\\\"name\\\":\\\"PHY 242\\\",\\\"metrics\\\":{\\\"centrality\\\":84,\\\"complexity\\\":17.0,\\\"blocking factor\\\":6,\\\"delay factor\\\":11.0},\\\"nameSub\\\":\\\"General University Physics Lab\\\",\\\"id\\\":4109240503,\\\"credits\\\":1,\\\"nameCanonical\\\":\\\"\\\"},{\\\"curriculum_requisites\\\":[{\\\"source_id\\\":24551683,\\\"target_id\\\":1017230148,\\\"type\\\":\\\"CurriculumCorequisite\\\"},{\\\"source_id\\\":4109240503,\\\"target_id\\\":1017230148,\\\"type\\\":\\\"CurriculumCorequisite\\\"}],\\\"name\\\":\\\"EE 211\\\",\\\"metrics\\\":{\\\"centrality\\\":160,\\\"complexity\\\":16.0,\\\"blocking factor\\\":5,\\\"delay factor\\\":11.0},\\\"nameSub\\\":\\\"Circuits I\\\",\\\"id\\\":1017230148,\\\"credits\\\":4,\\\"nameCanonical\\\":\\\"\\\"},{\\\"curriculum_requisites\\\":[{\\\"source_id\\\":502542156,\\\"target_id\\\":1416959221,\\\"type\\\":\\\"CurriculumPrerequisite\\\"}],\\\"name\\\":\\\"EE 282\\\",\\\"metrics\\\":{\\\"centrality\\\":3,\\\"complexity\\\":4.0,\\\"blocking factor\\\":1,\\\"delay factor\\\":3.0},\\\"nameSub\\\":\\\"Digital Logic Design\\\",\\\"id\\\":1416959221,\\\"credits\\\":4,\\\"nameCanonical\\\":\\\"\\\"}],\\\"id\\\":6},{\\\"name\\\":\\\"Term 7\\\",\\\"curriculum_items\\\":[{\\\"curriculum_requisites\\\":[{\\\"source_id\\\":2193700744,\\\"target_id\\\":713164423,\\\"type\\\":\\\"CurriculumPrerequisite\\\"}],\\\"name\\\":\\\"MA 214\\\",\\\"metrics\\\":{\\\"centrality\\\":44,\\\"complexity\\\":14.0,\\\"blocking factor\\\":5,\\\"delay factor\\\":9.0},\\\"nameSub\\\":\\\"Calculus IV\\\",\\\"id\\\":713164423,\\\"credits\\\":3,\\\"nameCanonical\\\":\\\"\\\"},{\\\"curriculum_requisites\\\":[{\\\"source_id\\\":1017230148,\\\"target_id\\\":2281989961,\\\"type\\\":\\\"CurriculumPrerequisite\\\"},{\\\"source_id\\\":713164423,\\\"target_id\\\":2281989961,\\\"type\\\":\\\"CurriculumCorequisite\\\"}],\\\"name\\\":\\\"EE 223\\\",\\\"metrics\\\":{\\\"centrality\\\":196,\\\"complexity\\\":15.0,\\\"blocking factor\\\":4,\\\"delay factor\\\":11.0},\\\"nameSub\\\":\\\"AC Circuits\\\",\\\"id\\\":2281989961,\\\"credits\\\":4,\\\"nameCanonical\\\":\\\"\\\"},{\\\"curriculum_requisites\\\":[{\\\"source_id\\\":1332377596,\\\"target_id\\\":1647567702,\\\"type\\\":\\\"CurriculumCorequisite\\\"},{\\\"source_id\\\":1416959221,\\\"target_id\\\":1647567702,\\\"type\\\":\\\"CurriculumPrerequisite\\\"}],\\\"name\\\":\\\"EE 287\\\",\\\"metrics\\\":{\\\"centrality\\\":0,\\\"complexity\\\":3.0,\\\"blocking factor\\\":0,\\\"delay factor\\\":3.0},\\\"nameSub\\\":\\\"Intro. to Embedded Systems\\\",\\\"id\\\":1647567702,\\\"credits\\\":4,\\\"nameCanonical\\\":\\\"\\\"},{\\\"curriculum_requisites\\\":[],\\\"name\\\":\\\"CS 215\\\",\\\"metrics\\\":{\\\"centrality\\\":0,\\\"complexity\\\":3.0,\\\"blocking factor\\\":1,\\\"delay factor\\\":2.0},\\\"nameSub\\\":\\\"Intro. to Program Design Abstraction and Problem Solving\\\",\\\"id\\\":1332377596,\\\"credits\\\":4,\\\"nameCanonical\\\":\\\"\\\"},{\\\"curriculum_requisites\\\":[],\\\"name\\\":\\\" \\\",\\\"metrics\\\":{\\\"centrality\\\":0,\\\"complexity\\\":1.0,\\\"blocking factor\\\":0,\\\"delay factor\\\":1.0},\\\"nameSub\\\":\\\"UK Core - Humanities\\\",\\\"id\\\":699408466,\\\"credits\\\":3,\\\"nameCanonical\\\":\\\"\\\"}],\\\"id\\\":7},{\\\"name\\\":\\\"Term 8\\\",\\\"curriculum_items\\\":[{\\\"curriculum_requisites\\\":[{\\\"source_id\\\":24551683,\\\"target_id\\\":3945639322,\\\"type\\\":\\\"CurriculumPrerequisite\\\"},{\\\"source_id\\\":2281989961,\\\"target_id\\\":3945639322,\\\"type\\\":\\\"CurriculumPrerequisite\\\"}],\\\"name\\\":\\\"EE 415G\\\",\\\"metrics\\\":{\\\"centrality\\\":0,\\\"complexity\\\":11.0,\\\"blocking factor\\\":0,\\\"delay factor\\\":11.0},\\\"nameSub\\\":\\\"Electromechanics\\\",\\\"id\\\":3945639322,\\\"credits\\\":3,\\\"nameCanonical\\\":\\\"\\\"},{\\\"curriculum_requisites\\\":[{\\\"source_id\\\":2281989961,\\\"target_id\\\":2950065960,\\\"type\\\":\\\"CurriculumPrerequisite\\\"},{\\\"source_id\\\":713164423,\\\"target_id\\\":2950065960,\\\"type\\\":\\\"CurriculumPrerequisite\\\"}],\\\"name\\\":\\\"EE 421G\\\",\\\"metrics\\\":{\\\"centrality\\\":0,\\\"complexity\\\":11.0,\\\"blocking factor\\\":0,\\\"delay factor\\\":11.0},\\\"nameSub\\\":\\\"Signals & Systems\\\",\\\"id\\\":2950065960,\\\"credits\\\":3,\\\"nameCanonical\\\":\\\"\\\"},{\\\"curriculum_requisites\\\":[],\\\"name\\\":\\\" \\\",\\\"metrics\\\":{\\\"centrality\\\":0,\\\"complexity\\\":1.0,\\\"blocking factor\\\":0,\\\"delay factor\\\":1.0},\\\"nameSub\\\":\\\"Elective EE Laboratory 1\\\",\\\"id\\\":448709314,\\\"credits\\\":2,\\\"nameCanonical\\\":\\\"\\\"},{\\\"curriculum_requisites\\\":[{\\\"source_id\\\":2281989961,\\\"target_id\\\":16242192,\\\"type\\\":\\\"CurriculumPrerequisite\\\"}],\\\"name\\\":\\\"EE 461G\\\",\\\"metrics\\\":{\\\"centrality\\\":0,\\\"complexity\\\":11.0,\\\"blocking factor\\\":0,\\\"delay factor\\\":11.0},\\\"nameSub\\\":\\\"Intro. to Electronics\\\",\\\"id\\\":16242192,\\\"credits\\\":3,\\\"nameCanonical\\\":\\\"\\\"},{\\\"curriculum_requisites\\\":[{\\\"source_id\\\":2193700744,\\\"target_id\\\":2756944549,\\\"type\\\":\\\"CurriculumPrerequisite\\\"}],\\\"name\\\":\\\"MA 320\\\",\\\"metrics\\\":{\\\"centrality\\\":0,\\\"complexity\\\":7.0,\\\"blocking factor\\\":0,\\\"delay factor\\\":7.0},\\\"nameSub\\\":\\\"Introductory Probability\\\",\\\"id\\\":2756944549,\\\"credits\\\":3,\\\"nameCanonical\\\":\\\"\\\"},{\\\"curriculum_requisites\\\":[],\\\"name\\\":\\\" \\\",\\\"metrics\\\":{\\\"centrality\\\":0,\\\"complexity\\\":1.0,\\\"blocking factor\\\":0,\\\"delay factor\\\":1.0},\\\"nameSub\\\":\\\"Technical Elective 1\\\",\\\"id\\\":3654615878,\\\"credits\\\":3,\\\"nameCanonical\\\":\\\"\\\"}],\\\"id\\\":8},{\\\"name\\\":\\\"Term 9\\\",\\\"curriculum_items\\\":[{\\\"curriculum_requisites\\\":[{\\\"source_id\\\":2281989961,\\\"target_id\\\":1400716874,\\\"type\\\":\\\"CurriculumPrerequisite\\\"},{\\\"source_id\\\":2193700744,\\\"target_id\\\":1400716874,\\\"type\\\":\\\"CurriculumPrerequisite\\\"}],\\\"name\\\":\\\"EE 468G\\\",\\\"metrics\\\":{\\\"centrality\\\":0,\\\"complexity\\\":11.0,\\\"blocking factor\\\":0,\\\"delay factor\\\":11.0},\\\"nameSub\\\":\\\"Intro. to Engineering Electromagnetics\\\",\\\"id\\\":1400716874,\\\"credits\\\":4,\\\"nameCanonical\\\":\\\"\\\"},{\\\"curriculum_requisites\\\":[],\\\"name\\\":\\\" \\\",\\\"metrics\\\":{\\\"centrality\\\":0,\\\"complexity\\\":1.0,\\\"blocking factor\\\":0,\\\"delay factor\\\":1.0},\\\"nameSub\\\":\\\"Elective EE Laboratory 2\\\",\\\"id\\\":3008452217,\\\"credits\\\":2,\\\"nameCanonical\\\":\\\"\\\"},{\\\"curriculum_requisites\\\":[],\\\"name\\\":\\\" \\\",\\\"metrics\\\":{\\\"centrality\\\":0,\\\"complexity\\\":1.0,\\\"blocking factor\\\":0,\\\"delay factor\\\":1.0},\\\"nameSub\\\":\\\"Engineering\\/Science Elective 1\\\",\\\"id\\\":1824271747,\\\"credits\\\":3,\\\"nameCanonical\\\":\\\"\\\"},{\\\"curriculum_requisites\\\":[],\\\"name\\\":\\\" \\\",\\\"metrics\\\":{\\\"centrality\\\":0,\\\"complexity\\\":1.0,\\\"blocking factor\\\":0,\\\"delay factor\\\":1.0},\\\"nameSub\\\":\\\"Technical Elective 2\\\",\\\"id\\\":3697264218,\\\"credits\\\":3,\\\"nameCanonical\\\":\\\"\\\"},{\\\"curriculum_requisites\\\":[],\\\"name\\\":\\\" \\\",\\\"metrics\\\":{\\\"centrality\\\":0,\\\"complexity\\\":1.0,\\\"blocking factor\\\":0,\\\"delay factor\\\":1.0},\\\"nameSub\\\":\\\"UK Core - Citizenship - USA\\\",\\\"id\\\":1496407185,\\\"credits\\\":3,\\\"nameCanonical\\\":\\\"\\\"}],\\\"id\\\":9},{\\\"name\\\":\\\"Term 10\\\",\\\"curriculum_items\\\":[{\\\"curriculum_requisites\\\":[],\\\"name\\\":\\\"EE 490\\\",\\\"metrics\\\":{\\\"centrality\\\":0,\\\"complexity\\\":3.0,\\\"blocking factor\\\":1,\\\"delay factor\\\":2.0},\\\"nameSub\\\":\\\"EE Capstone Design\\\",\\\"id\\\":1116551982,\\\"credits\\\":3,\\\"nameCanonical\\\":\\\"\\\"},{\\\"curriculum_requisites\\\":[],\\\"name\\\":\\\" \\\",\\\"metrics\\\":{\\\"centrality\\\":0,\\\"complexity\\\":1.0,\\\"blocking factor\\\":0,\\\"delay factor\\\":1.0},\\\"nameSub\\\":\\\"EE Technical Elective 1\\\",\\\"id\\\":1373040133,\\\"credits\\\":3,\\\"nameCanonical\\\":\\\"\\\"},{\\\"curriculum_requisites\\\":[],\\\"name\\\":\\\" \\\",\\\"metrics\\\":{\\\"centrality\\\":0,\\\"complexity\\\":1.0,\\\"blocking factor\\\":0,\\\"delay factor\\\":1.0},\\\"nameSub\\\":\\\"EE Technical Elective 2\\\",\\\"id\\\":2900608954,\\\"credits\\\":3,\\\"nameCanonical\\\":\\\"\\\"},{\\\"curriculum_requisites\\\":[],\\\"name\\\":\\\" \\\",\\\"metrics\\\":{\\\"centrality\\\":0,\\\"complexity\\\":1.0,\\\"blocking factor\\\":0,\\\"delay factor\\\":1.0},\\\"nameSub\\\":\\\"Math\\/Statistics Elective\\\",\\\"id\\\":147960851,\\\"credits\\\":3,\\\"nameCanonical\\\":\\\"\\\"},{\\\"curriculum_requisites\\\":[],\\\"name\\\":\\\" \\\",\\\"metrics\\\":{\\\"centrality\\\":0,\\\"complexity\\\":1.0,\\\"blocking factor\\\":0,\\\"delay factor\\\":1.0},\\\"nameSub\\\":\\\"UK Core - Global Dynamics\\\",\\\"id\\\":819264340,\\\"credits\\\":3,\\\"nameCanonical\\\":\\\"\\\"}],\\\"id\\\":10},{\\\"name\\\":\\\"Term 11\\\",\\\"curriculum_items\\\":[{\\\"curriculum_requisites\\\":[{\\\"source_id\\\":1116551982,\\\"target_id\\\":2674820998,\\\"type\\\":\\\"CurriculumPrerequisite\\\"}],\\\"name\\\":\\\"EE 491\\\",\\\"metrics\\\":{\\\"centrality\\\":0,\\\"complexity\\\":2.0,\\\"blocking factor\\\":0,\\\"delay factor\\\":2.0},\\\"nameSub\\\":\\\"EE Capstone Design\\\",\\\"id\\\":2674820998,\\\"credits\\\":3,\\\"nameCanonical\\\":\\\"\\\"},{\\\"curriculum_requisites\\\":[],\\\"name\\\":\\\" \\\",\\\"metrics\\\":{\\\"centrality\\\":0,\\\"complexity\\\":1.0,\\\"blocking factor\\\":0,\\\"delay factor\\\":1.0},\\\"nameSub\\\":\\\"EE Technical Elective 3\\\",\\\"id\\\":3472050261,\\\"credits\\\":3,\\\"nameCanonical\\\":\\\"\\\"},{\\\"curriculum_requisites\\\":[],\\\"name\\\":\\\" \\\",\\\"metrics\\\":{\\\"centrality\\\":0,\\\"complexity\\\":1.0,\\\"blocking factor\\\":0,\\\"delay factor\\\":1.0},\\\"nameSub\\\":\\\"EE Technical Elective 4\\\",\\\"id\\\":3141179749,\\\"credits\\\":3,\\\"nameCanonical\\\":\\\"\\\"},{\\\"curriculum_requisites\\\":[],\\\"name\\\":\\\" \\\",\\\"metrics\\\":{\\\"centrality\\\":0,\\\"complexity\\\":1.0,\\\"blocking factor\\\":0,\\\"delay factor\\\":1.0},\\\"nameSub\\\":\\\"Supportive Elective\\\",\\\"id\\\":109586583,\\\"credits\\\":3,\\\"nameCanonical\\\":\\\"\\\"},{\\\"curriculum_requisites\\\":[],\\\"name\\\":\\\" \\\",\\\"metrics\\\":{\\\"centrality\\\":0,\\\"complexity\\\":1.0,\\\"blocking factor\\\":0,\\\"delay factor\\\":1.0},\\\"nameSub\\\":\\\"Engineering\\/Science Elective 2\\\",\\\"id\\\":1227973603,\\\"credits\\\":3,\\\"nameCanonical\\\":\\\"\\\"},{\\\"curriculum_requisites\\\":[],\\\"name\\\":\\\" \\\",\\\"metrics\\\":{\\\"centrality\\\":0,\\\"complexity\\\":1.0,\\\"blocking factor\\\":0,\\\"delay factor\\\":1.0},\\\"nameSub\\\":\\\"UK Core - Statistical Inferential Reasoning\\\",\\\"id\\\":599971617,\\\"credits\\\":3,\\\"nameCanonical\\\":\\\"\\\"}],\\\"id\\\":11}],\\\"institution\\\":\\\"\\\"}},\\\"*\\\"); window.removeEventListener(\\\"message\\\",window.messageReceived); window.messageReceived=(function (event){return (event.data.curriculum!==undefined) ? (WebIO.setval({\\\"name\\\":\\\"curriculum-data\\\",\\\"scope\\\":\\\"12328287345437886037\\\",\\\"id\\\":\\\"17052827016151560397\\\",\\\"type\\\":\\\"observable\\\"},event.data.curriculum)) : undefined}); return window.addEventListener(\\\"message\\\",window.messageReceived)})\"},\"style\":{\"padding\":\"0\",\"height\":\"100vh\",\"margin\":\"0\",\"border\":\"none\",\"width\":\"100%\"}},\"nodeType\":\"DOM\",\"type\":\"node\",\"instanceArgs\":{\"namespace\":\"html\",\"tag\":\"iframe\"},\"children\":[\"\"]}]},\n",
       "            window,\n",
       "        );\n",
       "    } else {\n",
       "        document\n",
       "            .querySelector('[data-webio-mountpoint=\"10278901974240311928\"]')\n",
       "            .innerHTML = (\n",
       "                '<div style=\"padding: 1em; background-color: #f8d6da; border: 1px solid #f5c6cb\">' +\n",
       "                '<p><strong>WebIO not detected.</strong></p>' +\n",
       "                '<p>Please read ' +\n",
       "                '<a href=\"https://juliagizmos.github.io/WebIO.jl/latest/troubleshooting/not-detected/\" target=\"_blank\">the troubleshooting guide</a> ' +\n",
       "                'for more information on how to resolve this issue.</p>' +\n",
       "                '<p><a href=\"https://juliagizmos.github.io/WebIO.jl/latest/troubleshooting/not-detected/\" target=\"_blank\">https://juliagizmos.github.io/WebIO.jl/latest/troubleshooting/not-detected/</a></p>' +\n",
       "                '</div>'\n",
       "            );\n",
       "    }\n",
       "    </script>\n",
       "</div>\n"
      ],
      "text/plain": [
       "WebIO.Scope(WebIO.Node{WebIO.DOM}(WebIO.DOM(:html, :iframe), Any[\"\"], Dict{Symbol, Any}(:src => \"https://curricula-api-embed.damoursystems.com/\", :id => \"curriculum\", :events => Dict{Symbol, WebIO.JSString}(:load => WebIO.JSString(\"(function (){this.contentWindow.postMessage({\\\"options\\\":{\\\"hideTerms\\\":false,\\\"edit\\\":false},\\\"curriculum\\\":{\\\"name\\\":\\\"University of Kentucky EE Program\\\",\\\"dp_name\\\":\\\"University of Kentucky EE Program 4-year Plan\\\",\\\"curriculum_terms\\\":[{\\\"name\\\":\\\"Term 1\\\",\\\"curriculum_items\\\":[{\\\"curriculum_requisites\\\":[],\\\"name\\\":\\\"MA 108R\\\",\\\"metrics\\\":{\\\"centrality\\\":0,\\\"complexity\\\":29.0,\\\"blocking factor\\\":18,\\\"delay factor\\\":11.0},\\\"nameSub\\\":\\\"Intermediate Algebra\\\",\\\"id\\\":1,\\\"credits\\\":3,\\\"nameCanonical\\\":\\\"\\\"}],\\\"id\\\":1},{\\\"name\\\":\\\"Term 2\\\",\\\"curriculum_items\\\":[{\\\"curriculum_requisites\\\":[{\\\"source_id\\\":1,\\\"target_id\\\":2,\\\"type\\\":\\\"CurriculumPrerequisite\\\"}],\\\"name\\\":\\\"MA 109\\\",\\\"metrics\\\":{\\\"centrality\\\":250,\\\"complexity\\\":28.0,\\\"blocking factor\\\":17,\\\"delay factor\\\":11.0},\\\"nameSub\\\":\\\"College Algebra\\\",\\\"id\\\":2,\\\"credits\\\":3,\\\"nameCanonical\\\":\\\"\\\"}],\\\"id\\\":2},{\\\"name\\\":\\\"Term 3\\\",\\\"curriculum_items\\\":[{\\\"curriculum_requisites\\\":[{\\\"source_id\\\":2,\\\"target_id\\\":3,\\\"type\\\":\\\"CurriculumPrerequisite\\\"}],\\\"name\\\":\\\"MA  110\\\",\\\"metrics\\\":{\\\"centrality\\\":250,\\\"complexity\\\":27.0,\\\"blocking factor\\\":16,\\\"delay factor\\\":11.0},\\\"nameSub\\\":\\\"Algebra & Trigonometry\\\",\\\"id\\\":3,\\\"credits\\\":4,\\\"nameCanonical\\\":\\\"\\\"}],\\\"id\\\":3},{\\\"name\\\":\\\"Term 4\\\",\\\"curriculum_items\\\":[{\\\"curriculum_requisites\\\":[],\\\"name\\\":\\\"EGR 101\\\",\\\"metrics\\\":{\\\"centrality\\\":0,\\\"complexity\\\":1.0,\\\"blocking factor\\\":0,\\\"delay factor\\\":1.0},\\\"nameSub\\\":\\\"Engineering Exploration I\\\",\\\"id\\\":2071595408,\\\"credits\\\":1,\\\"nameCanonical\\\":\\\"\\\"},{\\\"curriculum_requisites\\\":[],\\\"name\\\":\\\"EGR 102\\\",\\\"metrics\\\":{\\\"centrality\\\":0,\\\"complexity\\\":6.0,\\\"blocking factor\\\":3,\\\"delay factor\\\":3.0},\\\"nameSub\\\":\\\"Fundamentals of Engineering Computing\\\",\\\"id\\\":502542156,\\\"credits\\\":2,\\\"nameCanonical\\\":\\\"\\\"},{\\\"curriculum_requisites\\\":[{\\\"source_id\\\":3389674827,\\\"target_id\\\":2865398329,\\\"type\\\":\\\"CurriculumCorequisite\\\"}],\\\"name\\\":\\\"PHY 231\\\",\\\"metrics\\\":{\\\"centrality\\\":95,\\\"complexity\\\":20.0,\\\"blocking factor\\\":10,\\\"delay factor\\\":10.0},\\\"nameSub\\\":\\\"General University Physics\\\",\\\"id\\\":2865398329,\\\"credits\\\":4,\\\"nameCanonical\\\":\\\"\\\"},{\\\"curriculum_requisites\\\":[{\\\"source_id\\\":2865398329,\\\"target_id\\\":746915474,\\\"type\\\":\\\"CurriculumCorequisite\\\"}],\\\"name\\\":\\\"PHY 241\\\",\\\"metrics\\\":{\\\"centrality\\\":0,\\\"complexity\\\":6.0,\\\"blocking factor\\\":0,\\\"delay factor\\\":6.0},\\\"nameSub\\\":\\\"General University Physics Lab\\\",\\\"id\\\":746915474,\\\"credits\\\":1,\\\"nameCanonical\\\":\\\"\\\"},{\\\"curriculum_requisites\\\":[],\\\"name\\\":\\\"CIS/WRD 110\\\",\\\"metrics\\\":{\\\"centrality\\\":0,\\\"complexity\\\":3.0,\\\"blocking factor\\\":1,\\\"delay factor\\\":2.0},\\\"nameSub\\\":\\\"Composition and Communication I\\\",\\\"id\\\":858428248,\\\"credits\\\":3,\\\"nameCanonical\\\":\\\"\\\"},{\\\"curriculum_requisites\\\":[{\\\"source_id\\\":3,\\\"target_id\\\":3389674827,\\\"type\\\":\\\"CurriculumCorequisite\\\"}],\\\"name\\\":\\\"MA 113\\\",\\\"metrics\\\":{\\\"centrality\\\":250,\\\"complexity\\\":26.0,\\\"blocking factor\\\":15,\\\"delay factor\\\":11.0},\\\"nameSub\\\":\\\"Calculus I\\\",\\\"id\\\":3389674827,\\\"credits\\\":4,\\\"nameCanonical\\\":\\\"\\\"}],\\\"id\\\":4},{\\\"name\\\":\\\"Term 5\\\",\\\"curriculum_items\\\":[{\\\"curriculum_requisites\\\":[{\\\"source_id\\\":2865398329,\\\"target_id\\\":1123828828,\\\"type\\\":\\\"CurriculumCorequisite\\\"},{\\\"source_id\\\":502542156,\\\"target_id\\\":1123828828,\\\"type\\\":\\\"CurriculumPrerequisite\\\"},{\\\"source_id\\\":738464693,\\\"target_id\\\":1123828828,\\\"type\\\":\\\"CurriculumCorequisite\\\"},{\\\"source_id\\\":3389674827,\\\"target_id\\\":1123828828,\\\"type\\\":\\\"CurriculumCorequisite\\\"}],\\\"name\\\":\\\"EGR 103\\\",\\\"metrics\\\":{\\\"centrality\\\":0,\\\"complexity\\\":6.0,\\\"blocking factor\\\":0,\\\"delay factor\\\":6.0},\\\"nameSub\\\":\\\"Engineering Exploration II\\\",\\\"id\\\":1123828828,\\\"credits\\\":2,\\\"nameCanonical\\\":\\\"\\\"},{\\\"curriculum_requisites\\\":[{\\\"source_id\\\":858428248,\\\"target_id\\\":3660518225,\\\"type\\\":\\\"CurriculumPrerequisite\\\"}],\\\"name\\\":\\\"CIS/WRD 111\\\",\\\"metrics\\\":{\\\"centrality\\\":0,\\\"complexity\\\":2.0,\\\"blocking factor\\\":0,\\\"delay factor\\\":2.0},\\\"nameSub\\\":\\\"Composition and Communication II\\\",\\\"id\\\":3660518225,\\\"credits\\\":3,\\\"nameCanonical\\\":\\\"\\\"},{\\\"curriculum_requisites\\\":[{\\\"source_id\\\":3389674827,\\\"target_id\\\":2966989896,\\\"type\\\":\\\"CurriculumPrerequisite\\\"}],\\\"name\\\":\\\"MA 114\\\",\\\"metrics\\\":{\\\"centrality\\\":150,\\\"complexity\\\":22.0,\\\"blocking factor\\\":11,\\\"delay factor\\\":11.0},\\\"nameSub\\\":\\\"Calculus II\\\",\\\"id\\\":2966989896,\\\"credits\\\":4,\\\"nameCanonical\\\":\\\"\\\"},{\\\"curriculum_requisites\\\":[],\\\"name\\\":\\\"CHE 105\\\",\\\"metrics\\\":{\\\"centrality\\\":0,\\\"complexity\\\":3.0,\\\"blocking factor\\\":1,\\\"delay factor\\\":2.0},\\\"nameSub\\\":\\\"General College Chemistry I\\\",\\\"id\\\":738464693,\\\"credits\\\":4,\\\"nameCanonical\\\":\\\"\\\"},{\\\"curriculum_requisites\\\":[],\\\"name\\\":\\\" \\\",\\\"metrics\\\":{\\\"centrality\\\":0,\\\"complexity\\\":1.0,\\\"blocking factor\\\":0,\\\"delay factor\\\":1.0},\\\"nameSub\\\":\\\"UK Core - Social Sciences\\\",\\\"id\\\":1586162741,\\\"credits\\\":3,\\\"nameCanonical\\\":\\\"\\\"}],\\\"id\\\":5},{\\\"name\\\":\\\"Term 6\\\",\\\"curriculum_items\\\":[{\\\"curriculum_requisites\\\":[{\\\"source_id\\\":2966989896,\\\"target_id\\\":2193700744,\\\"type\\\":\\\"CurriculumPrerequisite\\\"}],\\\"name\\\":\\\"MA 213\\\",\\\"metrics\\\":{\\\"centrality\\\":150,\\\"complexity\\\":21.0,\\\"blocking factor\\\":10,\\\"delay factor\\\":11.0},\\\"nameSub\\\":\\\"Calculus III\\\",\\\"id\\\":2193700744,\\\"credits\\\":4,\\\"nameCanonical\\\":\\\"\\\"},{\\\"curriculum_requisites\\\":[{\\\"source_id\\\":2865398329,\\\"target_id\\\":24551683,\\\"type\\\":\\\"CurriculumPrerequisite\\\"},{\\\"source_id\\\":2193700744,\\\"target_id\\\":24551683,\\\"type\\\":\\\"CurriculumCorequisite\\\"}],\\\"name\\\":\\\"PHY 232\\\",\\\"metrics\\\":{\\\"centrality\\\":175,\\\"complexity\\\":18.0,\\\"blocking factor\\\":7,\\\"delay factor\\\":11.0},\\\"nameSub\\\":\\\"General University Physics\\\",\\\"id\\\":24551683,\\\"credits\\\":4,\\\"nameCanonical\\\":\\\"\\\"},{\\\"curriculum_requisites\\\":[{\\\"source_id\\\":24551683,\\\"target_id\\\":4109240503,\\\"type\\\":\\\"CurriculumCorequisite\\\"}],\\\"name\\\":\\\"PHY 242\\\",\\\"metrics\\\":{\\\"centrality\\\":84,\\\"complexity\\\":17.0,\\\"blocking factor\\\":6,\\\"delay factor\\\":11.0},\\\"nameSub\\\":\\\"General University Physics Lab\\\",\\\"id\\\":4109240503,\\\"credits\\\":1,\\\"nameCanonical\\\":\\\"\\\"},{\\\"curriculum_requisites\\\":[{\\\"source_id\\\":24551683,\\\"target_id\\\":1017230148,\\\"type\\\":\\\"CurriculumCorequisite\\\"},{\\\"source_id\\\":4109240503,\\\"target_id\\\":1017230148,\\\"type\\\":\\\"CurriculumCorequisite\\\"}],\\\"name\\\":\\\"EE 211\\\",\\\"metrics\\\":{\\\"centrality\\\":160,\\\"complexity\\\":16.0,\\\"blocking factor\\\":5,\\\"delay factor\\\":11.0},\\\"nameSub\\\":\\\"Circuits I\\\",\\\"id\\\":1017230148,\\\"credits\\\":4,\\\"nameCanonical\\\":\\\"\\\"},{\\\"curriculum_requisites\\\":[{\\\"source_id\\\":502542156,\\\"target_id\\\":1416959221,\\\"type\\\":\\\"CurriculumPrerequisite\\\"}],\\\"name\\\":\\\"EE 282\\\",\\\"metrics\\\":{\\\"centrality\\\":3,\\\"complexity\\\":4.0,\\\"blocking factor\\\":1,\\\"delay factor\\\":3.0},\\\"nameSub\\\":\\\"Digital Logic Design\\\",\\\"id\\\":1416959221,\\\"credits\\\":4,\\\"nameCanonical\\\":\\\"\\\"}],\\\"id\\\":6},{\\\"name\\\":\\\"Term 7\\\",\\\"curriculum_items\\\":[{\\\"curriculum_requisites\\\":[{\\\"source_id\\\":2193700744,\\\"target_id\\\":713164423,\\\"type\\\":\\\"CurriculumPrerequisite\\\"}],\\\"name\\\":\\\"MA 214\\\",\\\"metrics\\\":{\\\"centrality\\\":44,\\\"complexity\\\":14.0,\\\"blocking factor\\\":5,\\\"delay factor\\\":9.0},\\\"nameSub\\\":\\\"Calculus IV\\\",\\\"id\\\":713164423,\\\"credits\\\":3,\\\"nameCanonical\\\":\\\"\\\"},{\\\"curriculum_requisites\\\":[{\\\"source_id\\\":1017230148,\\\"target_id\\\":2281989961,\\\"type\\\":\\\"CurriculumPrerequisite\\\"},{\\\"source_id\\\":713164423,\\\"target_id\\\":2281989961,\\\"type\\\":\\\"CurriculumCorequisite\\\"}],\\\"name\\\":\\\"EE 223\\\",\\\"metrics\\\":{\\\"centrality\\\":196,\\\"complexity\\\":15.0,\\\"blocking factor\\\":4,\\\"delay factor\\\":11.0},\\\"nameSub\\\":\\\"AC Circuits\\\",\\\"id\\\":2281989961,\\\"credits\\\":4,\\\"nameCanonical\\\":\\\"\\\"},{\\\"curriculum_requisites\\\":[{\\\"source_id\\\":1332377596,\\\"target_id\\\":1647567702,\\\"type\\\":\\\"CurriculumCorequisite\\\"},{\\\"source_id\\\":1416959221,\\\"target_id\\\":1647567702,\\\"type\\\":\\\"CurriculumPrerequisite\\\"}],\\\"name\\\":\\\"EE 287\\\",\\\"metrics\\\":{\\\"centrality\\\":0,\\\"complexity\\\":3.0,\\\"blocking factor\\\":0,\\\"delay factor\\\":3.0},\\\"nameSub\\\":\\\"Intro. to Embedded Systems\\\",\\\"id\\\":1647567702,\\\"credits\\\":4,\\\"nameCanonical\\\":\\\"\\\"},{\\\"curriculum_requisites\\\":[],\\\"name\\\":\\\"CS 215\\\",\\\"metrics\\\":{\\\"centrality\\\":0,\\\"complexity\\\":3.0,\\\"blocking factor\\\":1,\\\"delay factor\\\":2.0},\\\"nameSub\\\":\\\"Intro. to Program Design Abstraction and Problem Solving\\\",\\\"id\\\":1332377596,\\\"credits\\\":4,\\\"nameCanonical\\\":\\\"\\\"},{\\\"curriculum_requisites\\\":[],\\\"name\\\":\\\" \\\",\\\"metrics\\\":{\\\"centrality\\\":0,\\\"complexity\\\":1.0,\\\"blocking factor\\\":0,\\\"delay factor\\\":1.0},\\\"nameSub\\\":\\\"UK Core - Humanities\\\",\\\"id\\\":699408466,\\\"credits\\\":3,\\\"nameCanonical\\\":\\\"\\\"}],\\\"id\\\":7},{\\\"name\\\":\\\"Term 8\\\",\\\"curriculum_items\\\":[{\\\"curriculum_requisites\\\":[{\\\"source_id\\\":24551683,\\\"target_id\\\":3945639322,\\\"type\\\":\\\"CurriculumPrerequisite\\\"},{\\\"source_id\\\":2281989961,\\\"target_id\\\":3945639322,\\\"type\\\":\\\"CurriculumPrerequisite\\\"}],\\\"name\\\":\\\"EE 415G\\\",\\\"metrics\\\":{\\\"centrality\\\":0,\\\"complexity\\\":11.0,\\\"blocking factor\\\":0,\\\"delay factor\\\":11.0},\\\"nameSub\\\":\\\"Electromechanics\\\",\\\"id\\\":3945639322,\\\"credits\\\":3,\\\"nameCanonical\\\":\\\"\\\"},{\\\"curriculum_requisites\\\":[{\\\"source_id\\\":2281989961,\\\"target_id\\\":2950065960,\\\"type\\\":\\\"CurriculumPrerequisite\\\"},{\\\"source_id\\\":713164423,\\\"target_id\\\":2950065960,\\\"type\\\":\\\"CurriculumPrerequisite\\\"}],\\\"name\\\":\\\"EE 421G\\\",\\\"metrics\\\":{\\\"centrality\\\":0,\\\"complexity\\\":11.0,\\\"blocking factor\\\":0,\\\"delay factor\\\":11.0},\\\"nameSub\\\":\\\"Signals & Systems\\\",\\\"id\\\":2950065960,\\\"credits\\\":3,\\\"nameCanonical\\\":\\\"\\\"},{\\\"curriculum_requisites\\\":[],\\\"name\\\":\\\" \\\",\\\"metrics\\\":{\\\"centrality\\\":0,\\\"complexity\\\":1.0,\\\"blocking factor\\\":0,\\\"delay factor\\\":1.0},\\\"nameSub\\\":\\\"Elective EE Laboratory 1\\\",\\\"id\\\":448709314,\\\"credits\\\":2,\\\"nameCanonical\\\":\\\"\\\"},{\\\"curriculum_requisites\\\":[{\\\"source_id\\\":2281989961,\\\"target_id\\\":16242192,\\\"type\\\":\\\"CurriculumPrerequisite\\\"}],\\\"name\\\":\\\"EE 461G\\\",\\\"metrics\\\":{\\\"centrality\\\":0,\\\"complexity\\\":11.0,\\\"blocking factor\\\":0,\\\"delay factor\\\":11.0},\\\"nameSub\\\":\\\"Intro. to Electronics\\\",\\\"id\\\":16242192,\\\"credits\\\":3,\\\"nameCanonical\\\":\\\"\\\"},{\\\"curriculum_requisites\\\":[{\\\"source_id\\\":2193700744,\\\"target_id\\\":2756944549,\\\"type\\\":\\\"CurriculumPrerequisite\\\"}],\\\"name\\\":\\\"MA 320\\\",\\\"metrics\\\":{\\\"centrality\\\":0,\\\"complexity\\\":7.0,\\\"blocking factor\\\":0,\\\"delay factor\\\":7.0},\\\"nameSub\\\":\\\"Introductory Probability\\\",\\\"id\\\":2756944549,\\\"credits\\\":3,\\\"nameCanonical\\\":\\\"\\\"},{\\\"curriculum_requisites\\\":[],\\\"name\\\":\\\" \\\",\\\"metrics\\\":{\\\"centrality\\\":0,\\\"complexity\\\":1.0,\\\"blocking factor\\\":0,\\\"delay factor\\\":1.0},\\\"nameSub\\\":\\\"Technical Elective 1\\\",\\\"id\\\":3654615878,\\\"credits\\\":3,\\\"nameCanonical\\\":\\\"\\\"}],\\\"id\\\":8},{\\\"name\\\":\\\"Term 9\\\",\\\"curriculum_items\\\":[{\\\"curriculum_requisites\\\":[{\\\"source_id\\\":2281989961,\\\"target_id\\\":1400716874,\\\"type\\\":\\\"CurriculumPrerequisite\\\"},{\\\"source_id\\\":2193700744,\\\"target_id\\\":1400716874,\\\"type\\\":\\\"CurriculumPrerequisite\\\"}],\\\"name\\\":\\\"EE 468G\\\",\\\"metrics\\\":{\\\"centrality\\\":0,\\\"complexity\\\":11.0,\\\"blocking factor\\\":0,\\\"delay factor\\\":11.0},\\\"nameSub\\\":\\\"Intro. to Engineering Electromagnetics\\\",\\\"id\\\":1400716874,\\\"credits\\\":4,\\\"nameCanonical\\\":\\\"\\\"},{\\\"curriculum_requisites\\\":[],\\\"name\\\":\\\" \\\",\\\"metrics\\\":{\\\"centrality\\\":0,\\\"complexity\\\":1.0,\\\"blocking factor\\\":0,\\\"delay factor\\\":1.0},\\\"nameSub\\\":\\\"Elective EE Laboratory 2\\\",\\\"id\\\":3008452217,\\\"credits\\\":2,\\\"nameCanonical\\\":\\\"\\\"},{\\\"curriculum_requisites\\\":[],\\\"name\\\":\\\" \\\",\\\"metrics\\\":{\\\"centrality\\\":0,\\\"complexity\\\":1.0,\\\"blocking factor\\\":0,\\\"delay factor\\\":1.0},\\\"nameSub\\\":\\\"Engineering/Science Elective 1\\\",\\\"id\\\":1824271747,\\\"credits\\\":3,\\\"nameCanonical\\\":\\\"\\\"},{\\\"curriculum_requisites\\\":[],\\\"name\\\":\\\" \\\",\\\"metrics\\\":{\\\"centrality\\\":0,\\\"complexity\\\":1.0,\\\"blocking factor\\\":0,\\\"delay factor\\\":1.0},\\\"nameSub\\\":\\\"Technical Elective 2\\\",\\\"id\\\":3697264218,\\\"credits\\\":3,\\\"nameCanonical\\\":\\\"\\\"},{\\\"curriculum_requisites\\\":[],\\\"name\\\":\\\" \\\",\\\"metrics\\\":{\\\"centrality\\\":0,\\\"complexity\\\":1.0,\\\"blocking factor\\\":0,\\\"delay factor\\\":1.0},\\\"nameSub\\\":\\\"UK Core - Citizenship - USA\\\",\\\"id\\\":1496407185,\\\"credits\\\":3,\\\"nameCanonical\\\":\\\"\\\"}],\\\"id\\\":9},{\\\"name\\\":\\\"Term 10\\\",\\\"curriculum_items\\\":[{\\\"curriculum_requisites\\\":[],\\\"name\\\":\\\"EE 490\\\",\\\"metrics\\\":{\\\"centrality\\\":0,\\\"complexity\\\":3.0,\\\"blocking factor\\\":1,\\\"delay factor\\\":2.0},\\\"nameSub\\\":\\\"EE Capstone Design\\\",\\\"id\\\":1116551982,\\\"credits\\\":3,\\\"nameCanonical\\\":\\\"\\\"},{\\\"curriculum_requisites\\\":[],\\\"name\\\":\\\" \\\",\\\"metrics\\\":{\\\"centrality\\\":0,\\\"complexity\\\":1.0,\\\"blocking factor\\\":0,\\\"delay factor\\\":1.0},\\\"nameSub\\\":\\\"EE Technical Elective 1\\\",\\\"id\\\":1373040133,\\\"credits\\\":3,\\\"nameCanonical\\\":\\\"\\\"},{\\\"curriculum_requisites\\\":[],\\\"name\\\":\\\" \\\",\\\"metrics\\\":{\\\"centrality\\\":0,\\\"complexity\\\":1.0,\\\"blocking factor\\\":0,\\\"delay factor\\\":1.0},\\\"nameSub\\\":\\\"EE Technical Elective 2\\\",\\\"id\\\":2900608954,\\\"credits\\\":3,\\\"nameCanonical\\\":\\\"\\\"},{\\\"curriculum_requisites\\\":[],\\\"name\\\":\\\" \\\",\\\"metrics\\\":{\\\"centrality\\\":0,\\\"complexity\\\":1.0,\\\"blocking factor\\\":0,\\\"delay factor\\\":1.0},\\\"nameSub\\\":\\\"Math/Statistics Elective\\\",\\\"id\\\":147960851,\\\"credits\\\":3,\\\"nameCanonical\\\":\\\"\\\"},{\\\"curriculum_requisites\\\":[],\\\"name\\\":\\\" \\\",\\\"metrics\\\":{\\\"centrality\\\":0,\\\"complexity\\\":1.0,\\\"blocking factor\\\":0,\\\"delay factor\\\":1.0},\\\"nameSub\\\":\\\"UK Core - Global Dynamics\\\",\\\"id\\\":819264340,\\\"credits\\\":3,\\\"nameCanonical\\\":\\\"\\\"}],\\\"id\\\":10},{\\\"name\\\":\\\"Term 11\\\",\\\"curriculum_items\\\":[{\\\"curriculum_requisites\\\":[{\\\"source_id\\\":1116551982,\\\"target_id\\\":2674820998,\\\"type\\\":\\\"CurriculumPrerequisite\\\"}],\\\"name\\\":\\\"EE 491\\\",\\\"metrics\\\":{\\\"centrality\\\":0,\\\"complexity\\\":2.0,\\\"blocking factor\\\":0,\\\"delay factor\\\":2.0},\\\"nameSub\\\":\\\"EE Capstone Design\\\",\\\"id\\\":2674820998,\\\"credits\\\":3,\\\"nameCanonical\\\":\\\"\\\"},{\\\"curriculum_requisites\\\":[],\\\"name\\\":\\\" \\\",\\\"metrics\\\":{\\\"centrality\\\":0,\\\"complexity\\\":1.0,\\\"blocking factor\\\":0,\\\"delay factor\\\":1.0},\\\"nameSub\\\":\\\"EE Technical Elective 3\\\",\\\"id\\\":3472050261,\\\"credits\\\":3,\\\"nameCanonical\\\":\\\"\\\"},{\\\"curriculum_requisites\\\":[],\\\"name\\\":\\\" \\\",\\\"metrics\\\":{\\\"centrality\\\":0,\\\"complexity\\\":1.0,\\\"blocking factor\\\":0,\\\"delay factor\\\":1.0},\\\"nameSub\\\":\\\"EE Technical Elective 4\\\",\\\"id\\\":3141179749,\\\"credits\\\":3,\\\"nameCanonical\\\":\\\"\\\"},{\\\"curriculum_requisites\\\":[],\\\"name\\\":\\\" \\\",\\\"metrics\\\":{\\\"centrality\\\":0,\\\"complexity\\\":1.0,\\\"blocking factor\\\":0,\\\"delay factor\\\":1.0},\\\"nameSub\\\":\\\"Supportive Elective\\\",\\\"id\\\":109586583,\\\"credits\\\":3,\\\"nameCanonical\\\":\\\"\\\"},{\\\"curriculum_requisites\\\":[],\\\"name\\\":\\\" \\\",\\\"metrics\\\":{\\\"centrality\\\":0,\\\"complexity\\\":1.0,\\\"blocking factor\\\":0,\\\"delay factor\\\":1.0},\\\"nameSub\\\":\\\"Engineering/Science Elective 2\\\",\\\"id\\\":1227973603,\\\"credits\\\":3,\\\"nameCanonical\\\":\\\"\\\"},{\\\"curriculum_requisites\\\":[],\\\"name\\\":\\\" \\\",\\\"metrics\\\":{\\\"centrality\\\":0,\\\"complexity\\\":1.0,\\\"blocking factor\\\":0,\\\"delay factor\\\":1.0},\\\"nameSub\\\":\\\"UK Core - Statistical Inferential Reasoning\\\",\\\"id\\\":599971617,\\\"credits\\\":3,\\\"nameCanonical\\\":\\\"\\\"}],\\\"id\\\":11}],\\\"institution\\\":\\\"\\\"}},\\\"*\\\"); window.removeEventListener(\\\"message\\\",window.messageReceived); window.messageReceived=(function (event){return (event.data.curriculum!==undefined) ? (WebIO.setval({\\\"name\\\":\\\"curriculum-data\\\",\\\"scope\\\":\\\"12328287345437886037\\\",\\\"id\\\":\\\"17052827016151560397\\\",\\\"type\\\":\\\"observable\\\"},event.data.curriculum)) : undefined}); return window.addEventListener(\\\"message\\\",window.messageReceived)})\")), :style => Dict(:padding => \"0\", :height => \"100vh\", :margin => \"0\", :border => \"none\", :width => \"100%\"))), Dict{String, Tuple{Observables.AbstractObservable, Union{Nothing, Bool}}}(\"curriculum-data\" => (Observable{Dict{String, Any}} with 1 listeners. Value:\n",
       "Dict{String, Any}(\"options\" => Dict{String, Any}(\"hideTerms\" => false, \"edit\" => false), \"curriculum\" => Dict{String, Any}(\"name\" => \"University of Kentucky EE Program\", \"dp_name\" => \"University of Kentucky EE Program 4-year Plan\", \"curriculum_terms\" => Dict{String, Any}[Dict(\"name\" => \"Term 1\", \"curriculum_items\" => Dict{String, Any}[Dict(\"curriculum_requisites\" => Dict{String, Any}[], \"name\" => \"MA 108R\", \"metrics\" => Dict{String, Any}(\"centrality\" => 0, \"complexity\" => 29.0, \"blocking factor\" => 18, \"delay factor\" => 11.0), \"nameSub\" => \"Intermediate Algebra\", \"id\" => 1, \"credits\" => 3, \"nameCanonical\" => \"\")], \"id\" => 1), Dict(\"name\" => \"Term 2\", \"curriculum_items\" => Dict{String, Any}[Dict(\"curriculum_requisites\" => Dict{String, Any}[Dict(\"source_id\" => 1, \"target_id\" => 2, \"type\" => \"CurriculumPrerequisite\")], \"name\" => \"MA 109\", \"metrics\" => Dict{String, Any}(\"centrality\" => 250, \"complexity\" => 28.0, \"blocking factor\" => 17, \"delay factor\" => 11.0), \"nameSub\" => \"College Algebra\", \"id\" => 2, \"credits\" => 3, \"nameCanonical\" => \"\")], \"id\" => 2), Dict(\"name\" => \"Term 3\", \"curriculum_items\" => Dict{String, Any}[Dict(\"curriculum_requisites\" => Dict{String, Any}[Dict(\"source_id\" => 2, \"target_id\" => 3, \"type\" => \"CurriculumPrerequisite\")], \"name\" => \"MA  110\", \"metrics\" => Dict{String, Any}(\"centrality\" => 250, \"complexity\" => 27.0, \"blocking factor\" => 16, \"delay factor\" => 11.0), \"nameSub\" => \"Algebra & Trigonometry\", \"id\" => 3, \"credits\" => 4, \"nameCanonical\" => \"\")], \"id\" => 3), Dict(\"name\" => \"Term 4\", \"curriculum_items\" => Dict{String, Any}[Dict(\"curriculum_requisites\" => Dict{String, Any}[], \"name\" => \"EGR 101\", \"metrics\" => Dict{String, Any}(\"centrality\" => 0, \"complexity\" => 1.0, \"blocking factor\" => 0, \"delay factor\" => 1.0), \"nameSub\" => \"Engineering Exploration I\", \"id\" => 2071595408, \"credits\" => 1, \"nameCanonical\" => \"\"), Dict(\"curriculum_requisites\" => Dict{String, Any}[], \"name\" => \"EGR 102\", \"metrics\" => Dict{String, Any}(\"centrality\" => 0, \"complexity\" => 6.0, \"blocking factor\" => 3, \"delay factor\" => 3.0), \"nameSub\" => \"Fundamentals of Engineering Computing\", \"id\" => 502542156, \"credits\" => 2, \"nameCanonical\" => \"\"), Dict(\"curriculum_requisites\" => Dict{String, Any}[Dict(\"source_id\" => 3389674827, \"target_id\" => 2865398329, \"type\" => \"CurriculumCorequisite\")], \"name\" => \"PHY 231\", \"metrics\" => Dict{String, Any}(\"centrality\" => 95, \"complexity\" => 20.0, \"blocking factor\" => 10, \"delay factor\" => 10.0), \"nameSub\" => \"General University Physics\", \"id\" => 2865398329, \"credits\" => 4, \"nameCanonical\" => \"\"), Dict(\"curriculum_requisites\" => Dict{String, Any}[Dict(\"source_id\" => 2865398329, \"target_id\" => 746915474, \"type\" => \"CurriculumCorequisite\")], \"name\" => \"PHY 241\", \"metrics\" => Dict{String, Any}(\"centrality\" => 0, \"complexity\" => 6.0, \"blocking factor\" => 0, \"delay factor\" => 6.0), \"nameSub\" => \"General University Physics Lab\", \"id\" => 746915474, \"credits\" => 1, \"nameCanonical\" => \"\"), Dict(\"curriculum_requisites\" => Dict{String, Any}[], \"name\" => \"CIS/WRD 110\", \"metrics\" => Dict{String, Any}(\"centrality\" => 0, \"complexity\" => 3.0, \"blocking factor\" => 1, \"delay factor\" => 2.0), \"nameSub\" => \"Composition and Communication I\", \"id\" => 858428248, \"credits\" => 3, \"nameCanonical\" => \"\"), Dict(\"curriculum_requisites\" => Dict{String, Any}[Dict(\"source_id\" => 3, \"target_id\" => 3389674827, \"type\" => \"CurriculumCorequisite\")], \"name\" => \"MA 113\", \"metrics\" => Dict{String, Any}(\"centrality\" => 250, \"complexity\" => 26.0, \"blocking factor\" => 15, \"delay factor\" => 11.0), \"nameSub\" => \"Calculus I\", \"id\" => 3389674827, \"credits\" => 4, \"nameCanonical\" => \"\")], \"id\" => 4), Dict(\"name\" => \"Term 5\", \"curriculum_items\" => Dict{String, Any}[Dict(\"curriculum_requisites\" => Dict{String, Any}[Dict(\"source_id\" => 2865398329, \"target_id\" => 1123828828, \"type\" => \"CurriculumCorequisite\"), Dict(\"source_id\" => 502542156, \"target_id\" => 1123828828, \"type\" => \"CurriculumPrerequisite\"), Dict(\"source_id\" => 738464693, \"target_id\" => 1123828828, \"type\" => \"CurriculumCorequisite\"), Dict(\"source_id\" => 3389674827, \"target_id\" => 1123828828, \"type\" => \"CurriculumCorequisite\")], \"name\" => \"EGR 103\", \"metrics\" => Dict{String, Any}(\"centrality\" => 0, \"complexity\" => 6.0, \"blocking factor\" => 0, \"delay factor\" => 6.0), \"nameSub\" => \"Engineering Exploration II\", \"id\" => 1123828828, \"credits\" => 2, \"nameCanonical\" => \"\"), Dict(\"curriculum_requisites\" => Dict{String, Any}[Dict(\"source_id\" => 858428248, \"target_id\" => 3660518225, \"type\" => \"CurriculumPrerequisite\")], \"name\" => \"CIS/WRD 111\", \"metrics\" => Dict{String, Any}(\"centrality\" => 0, \"complexity\" => 2.0, \"blocking factor\" => 0, \"delay factor\" => 2.0), \"nameSub\" => \"Composition and Communication II\", \"id\" => 3660518225, \"credits\" => 3, \"nameCanonical\" => \"\"), Dict(\"curriculum_requisites\" => Dict{String, Any}[Dict(\"source_id\" => 3389674827, \"target_id\" => 2966989896, \"type\" => \"CurriculumPrerequisite\")], \"name\" => \"MA 114\", \"metrics\" => Dict{String, Any}(\"centrality\" => 150, \"complexity\" => 22.0, \"blocking factor\" => 11, \"delay factor\" => 11.0), \"nameSub\" => \"Calculus II\", \"id\" => 2966989896, \"credits\" => 4, \"nameCanonical\" => \"\"), Dict(\"curriculum_requisites\" => Dict{String, Any}[], \"name\" => \"CHE 105\", \"metrics\" => Dict{String, Any}(\"centrality\" => 0, \"complexity\" => 3.0, \"blocking factor\" => 1, \"delay factor\" => 2.0), \"nameSub\" => \"General College Chemistry I\", \"id\" => 738464693, \"credits\" => 4, \"nameCanonical\" => \"\"), Dict(\"curriculum_requisites\" => Dict{String, Any}[], \"name\" => \" \", \"metrics\" => Dict{String, Any}(\"centrality\" => 0, \"complexity\" => 1.0, \"blocking factor\" => 0, \"delay factor\" => 1.0), \"nameSub\" => \"UK Core - Social Sciences\", \"id\" => 1586162741, \"credits\" => 3, \"nameCanonical\" => \"\")], \"id\" => 5), Dict(\"name\" => \"Term 6\", \"curriculum_items\" => Dict{String, Any}[Dict(\"curriculum_requisites\" => Dict{String, Any}[Dict(\"source_id\" => 2966989896, \"target_id\" => 2193700744, \"type\" => \"CurriculumPrerequisite\")], \"name\" => \"MA 213\", \"metrics\" => Dict{String, Any}(\"centrality\" => 150, \"complexity\" => 21.0, \"blocking factor\" => 10, \"delay factor\" => 11.0), \"nameSub\" => \"Calculus III\", \"id\" => 2193700744, \"credits\" => 4, \"nameCanonical\" => \"\"), Dict(\"curriculum_requisites\" => Dict{String, Any}[Dict(\"source_id\" => 2865398329, \"target_id\" => 24551683, \"type\" => \"CurriculumPrerequisite\"), Dict(\"source_id\" => 2193700744, \"target_id\" => 24551683, \"type\" => \"CurriculumCorequisite\")], \"name\" => \"PHY 232\", \"metrics\" => Dict{String, Any}(\"centrality\" => 175, \"complexity\" => 18.0, \"blocking factor\" => 7, \"delay factor\" => 11.0), \"nameSub\" => \"General University Physics\", \"id\" => 24551683, \"credits\" => 4, \"nameCanonical\" => \"\"), Dict(\"curriculum_requisites\" => Dict{String, Any}[Dict(\"source_id\" => 24551683, \"target_id\" => 4109240503, \"type\" => \"CurriculumCorequisite\")], \"name\" => \"PHY 242\", \"metrics\" => Dict{String, Any}(\"centrality\" => 84, \"complexity\" => 17.0, \"blocking factor\" => 6, \"delay factor\" => 11.0), \"nameSub\" => \"General University Physics Lab\", \"id\" => 4109240503, \"credits\" => 1, \"nameCanonical\" => \"\"), Dict(\"curriculum_requisites\" => Dict{String, Any}[Dict(\"source_id\" => 24551683, \"target_id\" => 1017230148, \"type\" => \"CurriculumCorequisite\"), Dict(\"source_id\" => 4109240503, \"target_id\" => 1017230148, \"type\" => \"CurriculumCorequisite\")], \"name\" => \"EE 211\", \"metrics\" => Dict{String, Any}(\"centrality\" => 160, \"complexity\" => 16.0, \"blocking factor\" => 5, \"delay factor\" => 11.0), \"nameSub\" => \"Circuits I\", \"id\" => 1017230148, \"credits\" => 4, \"nameCanonical\" => \"\"), Dict(\"curriculum_requisites\" => Dict{String, Any}[Dict(\"source_id\" => 502542156, \"target_id\" => 1416959221, \"type\" => \"CurriculumPrerequisite\")], \"name\" => \"EE 282\", \"metrics\" => Dict{String, Any}(\"centrality\" => 3, \"complexity\" => 4.0, \"blocking factor\" => 1, \"delay factor\" => 3.0), \"nameSub\" => \"Digital Logic Design\", \"id\" => 1416959221, \"credits\" => 4, \"nameCanonical\" => \"\")], \"id\" => 6), Dict(\"name\" => \"Term 7\", \"curriculum_items\" => Dict{String, Any}[Dict(\"curriculum_requisites\" => Dict{String, Any}[Dict(\"source_id\" => 2193700744, \"target_id\" => 713164423, \"type\" => \"CurriculumPrerequisite\")], \"name\" => \"MA 214\", \"metrics\" => Dict{String, Any}(\"centrality\" => 44, \"complexity\" => 14.0, \"blocking factor\" => 5, \"delay factor\" => 9.0), \"nameSub\" => \"Calculus IV\", \"id\" => 713164423, \"credits\" => 3, \"nameCanonical\" => \"\"), Dict(\"curriculum_requisites\" => Dict{String, Any}[Dict(\"source_id\" => 1017230148, \"target_id\" => 2281989961, \"type\" => \"CurriculumPrerequisite\"), Dict(\"source_id\" => 713164423, \"target_id\" => 2281989961, \"type\" => \"CurriculumCorequisite\")], \"name\" => \"EE 223\", \"metrics\" => Dict{String, Any}(\"centrality\" => 196, \"complexity\" => 15.0, \"blocking factor\" => 4, \"delay factor\" => 11.0), \"nameSub\" => \"AC Circuits\", \"id\" => 2281989961, \"credits\" => 4, \"nameCanonical\" => \"\"), Dict(\"curriculum_requisites\" => Dict{String, Any}[Dict(\"source_id\" => 1332377596, \"target_id\" => 1647567702, \"type\" => \"CurriculumCorequisite\"), Dict(\"source_id\" => 1416959221, \"target_id\" => 1647567702, \"type\" => \"CurriculumPrerequisite\")], \"name\" => \"EE 287\", \"metrics\" => Dict{String, Any}(\"centrality\" => 0, \"complexity\" => 3.0, \"blocking factor\" => 0, \"delay factor\" => 3.0), \"nameSub\" => \"Intro. to Embedded Systems\", \"id\" => 1647567702, \"credits\" => 4, \"nameCanonical\" => \"\"), Dict(\"curriculum_requisites\" => Dict{String, Any}[], \"name\" => \"CS 215\", \"metrics\" => Dict{String, Any}(\"centrality\" => 0, \"complexity\" => 3.0, \"blocking factor\" => 1, \"delay factor\" => 2.0), \"nameSub\" => \"Intro. to Program Design Abstraction and Problem Solving\", \"id\" => 1332377596, \"credits\" => 4, \"nameCanonical\" => \"\"), Dict(\"curriculum_requisites\" => Dict{String, Any}[], \"name\" => \" \", \"metrics\" => Dict{String, Any}(\"centrality\" => 0, \"complexity\" => 1.0, \"blocking factor\" => 0, \"delay factor\" => 1.0), \"nameSub\" => \"UK Core - Humanities\", \"id\" => 699408466, \"credits\" => 3, \"nameCanonical\" => \"\")], \"id\" => 7), Dict(\"name\" => \"Term 8\", \"curriculum_items\" => Dict{String, Any}[Dict(\"curriculum_requisites\" => Dict{String, Any}[Dict(\"source_id\" => 24551683, \"target_id\" => 3945639322, \"type\" => \"CurriculumPrerequisite\"), Dict(\"source_id\" => 2281989961, \"target_id\" => 3945639322, \"type\" => \"CurriculumPrerequisite\")], \"name\" => \"EE 415G\", \"metrics\" => Dict{String, Any}(\"centrality\" => 0, \"complexity\" => 11.0, \"blocking factor\" => 0, \"delay factor\" => 11.0), \"nameSub\" => \"Electromechanics\", \"id\" => 3945639322, \"credits\" => 3, \"nameCanonical\" => \"\"), Dict(\"curriculum_requisites\" => Dict{String, Any}[Dict(\"source_id\" => 2281989961, \"target_id\" => 2950065960, \"type\" => \"CurriculumPrerequisite\"), Dict(\"source_id\" => 713164423, \"target_id\" => 2950065960, \"type\" => \"CurriculumPrerequisite\")], \"name\" => \"EE 421G\", \"metrics\" => Dict{String, Any}(\"centrality\" => 0, \"complexity\" => 11.0, \"blocking factor\" => 0, \"delay factor\" => 11.0), \"nameSub\" => \"Signals & Systems\", \"id\" => 2950065960, \"credits\" => 3, \"nameCanonical\" => \"\"), Dict(\"curriculum_requisites\" => Dict{String, Any}[], \"name\" => \" \", \"metrics\" => Dict{String, Any}(\"centrality\" => 0, \"complexity\" => 1.0, \"blocking factor\" => 0, \"delay factor\" => 1.0), \"nameSub\" => \"Elective EE Laboratory 1\", \"id\" => 448709314, \"credits\" => 2, \"nameCanonical\" => \"\"), Dict(\"curriculum_requisites\" => Dict{String, Any}[Dict(\"source_id\" => 2281989961, \"target_id\" => 16242192, \"type\" => \"CurriculumPrerequisite\")], \"name\" => \"EE 461G\", \"metrics\" => Dict{String, Any}(\"centrality\" => 0, \"complexity\" => 11.0, \"blocking factor\" => 0, \"delay factor\" => 11.0), \"nameSub\" => \"Intro. to Electronics\", \"id\" => 16242192, \"credits\" => 3, \"nameCanonical\" => \"\"), Dict(\"curriculum_requisites\" => Dict{String, Any}[Dict(\"source_id\" => 2193700744, \"target_id\" => 2756944549, \"type\" => \"CurriculumPrerequisite\")], \"name\" => \"MA 320\", \"metrics\" => Dict{String, Any}(\"centrality\" => 0, \"complexity\" => 7.0, \"blocking factor\" => 0, \"delay factor\" => 7.0), \"nameSub\" => \"Introductory Probability\", \"id\" => 2756944549, \"credits\" => 3, \"nameCanonical\" => \"\"), Dict(\"curriculum_requisites\" => Dict{String, Any}[], \"name\" => \" \", \"metrics\" => Dict{String, Any}(\"centrality\" => 0, \"complexity\" => 1.0, \"blocking factor\" => 0, \"delay factor\" => 1.0), \"nameSub\" => \"Technical Elective 1\", \"id\" => 3654615878, \"credits\" => 3, \"nameCanonical\" => \"\")], \"id\" => 8), Dict(\"name\" => \"Term 9\", \"curriculum_items\" => Dict{String, Any}[Dict(\"curriculum_requisites\" => Dict{String, Any}[Dict(\"source_id\" => 2281989961, \"target_id\" => 1400716874, \"type\" => \"CurriculumPrerequisite\"), Dict(\"source_id\" => 2193700744, \"target_id\" => 1400716874, \"type\" => \"CurriculumPrerequisite\")], \"name\" => \"EE 468G\", \"metrics\" => Dict{String, Any}(\"centrality\" => 0, \"complexity\" => 11.0, \"blocking factor\" => 0, \"delay factor\" => 11.0), \"nameSub\" => \"Intro. to Engineering Electromagnetics\", \"id\" => 1400716874, \"credits\" => 4, \"nameCanonical\" => \"\"), Dict(\"curriculum_requisites\" => Dict{String, Any}[], \"name\" => \" \", \"metrics\" => Dict{String, Any}(\"centrality\" => 0, \"complexity\" => 1.0, \"blocking factor\" => 0, \"delay factor\" => 1.0), \"nameSub\" => \"Elective EE Laboratory 2\", \"id\" => 3008452217, \"credits\" => 2, \"nameCanonical\" => \"\"), Dict(\"curriculum_requisites\" => Dict{String, Any}[], \"name\" => \" \", \"metrics\" => Dict{String, Any}(\"centrality\" => 0, \"complexity\" => 1.0, \"blocking factor\" => 0, \"delay factor\" => 1.0), \"nameSub\" => \"Engineering/Science Elective 1\", \"id\" => 1824271747, \"credits\" => 3, \"nameCanonical\" => \"\"), Dict(\"curriculum_requisites\" => Dict{String, Any}[], \"name\" => \" \", \"metrics\" => Dict{String, Any}(\"centrality\" => 0, \"complexity\" => 1.0, \"blocking factor\" => 0, \"delay factor\" => 1.0), \"nameSub\" => \"Technical Elective 2\", \"id\" => 3697264218, \"credits\" => 3, \"nameCanonical\" => \"\"), Dict(\"curriculum_requisites\" => Dict{String, Any}[], \"name\" => \" \", \"metrics\" => Dict{String, Any}(\"centrality\" => 0, \"complexity\" => 1.0, \"blocking factor\" => 0, \"delay factor\" => 1.0), \"nameSub\" => \"UK Core - Citizenship - USA\", \"id\" => 1496407185, \"credits\" => 3, \"nameCanonical\" => \"\")], \"id\" => 9), Dict(\"name\" => \"Term 10\", \"curriculum_items\" => Dict{String, Any}[Dict(\"curriculum_requisites\" => Dict{String, Any}[], \"name\" => \"EE 490\", \"metrics\" => Dict{String, Any}(\"centrality\" => 0, \"complexity\" => 3.0, \"blocking factor\" => 1, \"delay factor\" => 2.0), \"nameSub\" => \"EE Capstone Design\", \"id\" => 1116551982, \"credits\" => 3, \"nameCanonical\" => \"\"), Dict(\"curriculum_requisites\" => Dict{String, Any}[], \"name\" => \" \", \"metrics\" => Dict{String, Any}(\"centrality\" => 0, \"complexity\" => 1.0, \"blocking factor\" => 0, \"delay factor\" => 1.0), \"nameSub\" => \"EE Technical Elective 1\", \"id\" => 1373040133, \"credits\" => 3, \"nameCanonical\" => \"\"), Dict(\"curriculum_requisites\" => Dict{String, Any}[], \"name\" => \" \", \"metrics\" => Dict{String, Any}(\"centrality\" => 0, \"complexity\" => 1.0, \"blocking factor\" => 0, \"delay factor\" => 1.0), \"nameSub\" => \"EE Technical Elective 2\", \"id\" => 2900608954, \"credits\" => 3, \"nameCanonical\" => \"\"), Dict(\"curriculum_requisites\" => Dict{String, Any}[], \"name\" => \" \", \"metrics\" => Dict{String, Any}(\"centrality\" => 0, \"complexity\" => 1.0, \"blocking factor\" => 0, \"delay factor\" => 1.0), \"nameSub\" => \"Math/Statistics Elective\", \"id\" => 147960851, \"credits\" => 3, \"nameCanonical\" => \"\"), Dict(\"curriculum_requisites\" => Dict{String, Any}[], \"name\" => \" \", \"metrics\" => Dict{String, Any}(\"centrality\" => 0, \"complexity\" => 1.0, \"blocking factor\" => 0, \"delay factor\" => 1.0), \"nameSub\" => \"UK Core - Global Dynamics\", \"id\" => 819264340, \"credits\" => 3, \"nameCanonical\" => \"\")], \"id\" => 10), Dict(\"name\" => \"Term 11\", \"curriculum_items\" => Dict{String, Any}[Dict(\"curriculum_requisites\" => Dict{String, Any}[Dict(\"source_id\" => 1116551982, \"target_id\" => 2674820998, \"type\" => \"CurriculumPrerequisite\")], \"name\" => \"EE 491\", \"metrics\" => Dict{String, Any}(\"centrality\" => 0, \"complexity\" => 2.0, \"blocking factor\" => 0, \"delay factor\" => 2.0), \"nameSub\" => \"EE Capstone Design\", \"id\" => 2674820998, \"credits\" => 3, \"nameCanonical\" => \"\"), Dict(\"curriculum_requisites\" => Dict{String, Any}[], \"name\" => \" \", \"metrics\" => Dict{String, Any}(\"centrality\" => 0, \"complexity\" => 1.0, \"blocking factor\" => 0, \"delay factor\" => 1.0), \"nameSub\" => \"EE Technical Elective 3\", \"id\" => 3472050261, \"credits\" => 3, \"nameCanonical\" => \"\"), Dict(\"curriculum_requisites\" => Dict{String, Any}[], \"name\" => \" \", \"metrics\" => Dict{String, Any}(\"centrality\" => 0, \"complexity\" => 1.0, \"blocking factor\" => 0, \"delay factor\" => 1.0), \"nameSub\" => \"EE Technical Elective 4\", \"id\" => 3141179749, \"credits\" => 3, \"nameCanonical\" => \"\"), Dict(\"curriculum_requisites\" => Dict{String, Any}[], \"name\" => \" \", \"metrics\" => Dict{String, Any}(\"centrality\" => 0, \"complexity\" => 1.0, \"blocking factor\" => 0, \"delay factor\" => 1.0), \"nameSub\" => \"Supportive Elective\", \"id\" => 109586583, \"credits\" => 3, \"nameCanonical\" => \"\"), Dict(\"curriculum_requisites\" => Dict{String, Any}[], \"name\" => \" \", \"metrics\" => Dict{String, Any}(\"centrality\" => 0, \"complexity\" => 1.0, \"blocking factor\" => 0, \"delay factor\" => 1.0), \"nameSub\" => \"Engineering/Science Elective 2\", \"id\" => 1227973603, \"credits\" => 3, \"nameCanonical\" => \"\"), Dict(\"curriculum_requisites\" => Dict{String, Any}[], \"name\" => \" \", \"metrics\" => Dict{String, Any}(\"centrality\" => 0, \"complexity\" => 1.0, \"blocking factor\" => 0, \"delay factor\" => 1.0), \"nameSub\" => \"UK Core - Statistical Inferential Reasoning\", \"id\" => 599971617, \"credits\" => 3, \"nameCanonical\" => \"\")], \"id\" => 11)], \"institution\" => \"\")), nothing)), Set{String}(), nothing, WebIO.Asset[], Dict{Any, Any}(), WebIO.ConnectionPool(Channel{Any}(32), Set{WebIO.AbstractConnection}(), Condition(Base.InvasiveLinkedList{Task}(Task (runnable) @0x000000011f0ab0f0, Task (runnable) @0x000000011f0ab0f0), Base.AlwaysLockedST(1))), WebIO.JSString[])"
      ]
     },
     "execution_count": 9,
     "metadata": {
      "application/vnd.webio.node+json": {
       "kernelId": "608747ee-a133-469f-a5ab-d2379c850c6c"
      }
     },
     "output_type": "execute_result"
    }
   ],
   "source": [
    "visualize(read_csv(\"UKY_EE_plan_basic_math.csv\"), notebook=true)"
   ]
  },
  {
   "cell_type": "markdown",
   "metadata": {},
   "source": [
    "### Wright State University Reform\n",
    "A reformed curriculum was implemented at Wright State University.  The key factor enabling this innovation is that fact that a typical Circuits I course only requires the ability to solve first order differential equations, and that it's possible to teach basic concepts regarding first order differential equations, as well as solution techniques, to students prior to taking Calculus I.  At Wright State University, this knowledge is imparted in the Engineering 101 class in the very first semester.  Here's what the reformed curriculum looks like:"
   ]
  },
  {
   "cell_type": "code",
   "execution_count": 10,
   "metadata": {},
   "outputs": [
    {
     "data": {
      "application/vnd.webio.node+json": {
       "children": [
        {
         "children": [
          ""
         ],
         "instanceArgs": {
          "namespace": "html",
          "tag": "iframe"
         },
         "nodeType": "DOM",
         "props": {
          "events": {
           "load": "(function (){this.contentWindow.postMessage({\"options\":{\"hideTerms\":false,\"edit\":false},\"curriculum\":{\"name\":\"Circuits I Design Pattern\",\"dp_name\":\"Engineering 101 ready\",\"curriculum_terms\":[{\"name\":\"Term 1\",\"curriculum_items\":[{\"curriculum_requisites\":[],\"name\":\" \",\"metrics\":{\"centrality\":0,\"complexity\":15.0,\"blocking factor\":9,\"delay factor\":6.0},\"nameSub\":\"Engineering 101\",\"id\":10,\"credits\":4,\"nameCanonical\":\"\"}],\"id\":1},{\"name\":\"Term 2\",\"curriculum_items\":[{\"curriculum_requisites\":[{\"source_id\":10,\"target_id\":1,\"type\":\"CurriculumPrerequisite\"}],\"name\":\" \",\"metrics\":{\"centrality\":16,\"complexity\":13.0,\"blocking factor\":7,\"delay factor\":6.0},\"nameSub\":\"Calculus I\",\"id\":1,\"credits\":4,\"nameCanonical\":\"\"}],\"id\":2},{\"name\":\"Term 3\",\"curriculum_items\":[{\"curriculum_requisites\":[{\"source_id\":1,\"target_id\":2,\"type\":\"CurriculumPrerequisite\"}],\"name\":\" \",\"metrics\":{\"centrality\":5,\"complexity\":7.0,\"blocking factor\":2,\"delay factor\":5.0},\"nameSub\":\"Calculus II\",\"id\":2,\"credits\":4,\"nameCanonical\":\"\"},{\"curriculum_requisites\":[{\"source_id\":1,\"target_id\":3,\"type\":\"CurriculumPrerequisite\"}],\"name\":\" \",\"metrics\":{\"centrality\":11,\"complexity\":9.0,\"blocking factor\":3,\"delay factor\":6.0},\"nameSub\":\"Physics I\",\"id\":3,\"credits\":3,\"nameCanonical\":\"\"},{\"curriculum_requisites\":[{\"source_id\":3,\"target_id\":4,\"type\":\"CurriculumCorequisite\"}],\"name\":\" \",\"metrics\":{\"centrality\":6,\"complexity\":8.0,\"blocking factor\":2,\"delay factor\":6.0},\"nameSub\":\"Physics I Lab\",\"id\":4,\"credits\":1,\"nameCanonical\":\"\"},{\"curriculum_requisites\":[{\"source_id\":10,\"target_id\":8,\"type\":\"CurriculumPrerequisite\"}],\"name\":\" \",\"metrics\":{\"centrality\":3,\"complexity\":4.0,\"blocking factor\":1,\"delay factor\":3.0},\"nameSub\":\"Circuits I\",\"id\":8,\"credits\":3,\"nameCanonical\":\"\"}],\"id\":3},{\"name\":\"Term 4\",\"curriculum_items\":[{\"curriculum_requisites\":[{\"source_id\":4,\"target_id\":5,\"type\":\"CurriculumPrerequisite\"},{\"source_id\":3,\"target_id\":5,\"type\":\"CurriculumPrerequisite\"}],\"name\":\" \",\"metrics\":{\"centrality\":11,\"complexity\":7.0,\"blocking factor\":1,\"delay factor\":6.0},\"nameSub\":\"Physics II\",\"id\":5,\"credits\":3,\"nameCanonical\":\"\"},{\"curriculum_requisites\":[{\"source_id\":5,\"target_id\":6,\"type\":\"CurriculumCorequisite\"}],\"name\":\" \",\"metrics\":{\"centrality\":0,\"complexity\":6.0,\"blocking factor\":0,\"delay factor\":6.0},\"nameSub\":\"Physics II Lab\",\"id\":6,\"credits\":1,\"nameCanonical\":\"\"},{\"curriculum_requisites\":[{\"source_id\":2,\"target_id\":7,\"type\":\"CurriculumPrerequisite\"}],\"name\":\" \",\"metrics\":{\"centrality\":5,\"complexity\":6.0,\"blocking factor\":1,\"delay factor\":5.0},\"nameSub\":\"Differential Eqs.\",\"id\":7,\"credits\":3,\"nameCanonical\":\"\"}],\"id\":4},{\"name\":\"Term 5\",\"curriculum_items\":[{\"curriculum_requisites\":[{\"source_id\":7,\"target_id\":9,\"type\":\"CurriculumPrerequisite\"},{\"source_id\":8,\"target_id\":9,\"type\":\"CurriculumPrerequisite\"}],\"name\":\" \",\"metrics\":{\"centrality\":0,\"complexity\":5.0,\"blocking factor\":0,\"delay factor\":5.0},\"nameSub\":\"Circuits II\",\"id\":9,\"credits\":3,\"nameCanonical\":\"\"}],\"id\":5}],\"institution\":\"\"}},\"*\"); window.removeEventListener(\"message\",window.messageReceived); window.messageReceived=(function (event){return (event.data.curriculum!==undefined) ? (WebIO.setval({\"name\":\"curriculum-data\",\"scope\":\"12608622616285860580\",\"id\":\"1238118628122951946\",\"type\":\"observable\"},event.data.curriculum)) : undefined}); return window.addEventListener(\"message\",window.messageReceived)})"
          },
          "id": "curriculum",
          "src": "https://curricula-api-embed.damoursystems.com/",
          "style": {
           "border": "none",
           "height": "80vh",
           "margin": "0",
           "padding": "0",
           "width": "100%"
          }
         },
         "type": "node"
        }
       ],
       "instanceArgs": {
        "handlers": {},
        "id": "12608622616285860580",
        "imports": {
         "data": [],
         "type": "async_block"
        },
        "mount_callbacks": [],
        "observables": {
         "curriculum-data": {
          "id": "1238118628122951946",
          "sync": true,
          "value": {
           "curriculum": {
            "curriculum_terms": [
             {
              "curriculum_items": [
               {
                "credits": 4,
                "curriculum_requisites": [],
                "id": 10,
                "metrics": {
                 "blocking factor": 9,
                 "centrality": 0,
                 "complexity": 15,
                 "delay factor": 6
                },
                "name": " ",
                "nameCanonical": "",
                "nameSub": "Engineering 101"
               }
              ],
              "id": 1,
              "name": "Term 1"
             },
             {
              "curriculum_items": [
               {
                "credits": 4,
                "curriculum_requisites": [
                 {
                  "source_id": 10,
                  "target_id": 1,
                  "type": "CurriculumPrerequisite"
                 }
                ],
                "id": 1,
                "metrics": {
                 "blocking factor": 7,
                 "centrality": 16,
                 "complexity": 13,
                 "delay factor": 6
                },
                "name": " ",
                "nameCanonical": "",
                "nameSub": "Calculus I"
               }
              ],
              "id": 2,
              "name": "Term 2"
             },
             {
              "curriculum_items": [
               {
                "credits": 4,
                "curriculum_requisites": [
                 {
                  "source_id": 1,
                  "target_id": 2,
                  "type": "CurriculumPrerequisite"
                 }
                ],
                "id": 2,
                "metrics": {
                 "blocking factor": 2,
                 "centrality": 5,
                 "complexity": 7,
                 "delay factor": 5
                },
                "name": " ",
                "nameCanonical": "",
                "nameSub": "Calculus II"
               },
               {
                "credits": 3,
                "curriculum_requisites": [
                 {
                  "source_id": 1,
                  "target_id": 3,
                  "type": "CurriculumPrerequisite"
                 }
                ],
                "id": 3,
                "metrics": {
                 "blocking factor": 3,
                 "centrality": 11,
                 "complexity": 9,
                 "delay factor": 6
                },
                "name": " ",
                "nameCanonical": "",
                "nameSub": "Physics I"
               },
               {
                "credits": 1,
                "curriculum_requisites": [
                 {
                  "source_id": 3,
                  "target_id": 4,
                  "type": "CurriculumCorequisite"
                 }
                ],
                "id": 4,
                "metrics": {
                 "blocking factor": 2,
                 "centrality": 6,
                 "complexity": 8,
                 "delay factor": 6
                },
                "name": " ",
                "nameCanonical": "",
                "nameSub": "Physics I Lab"
               },
               {
                "credits": 3,
                "curriculum_requisites": [
                 {
                  "source_id": 10,
                  "target_id": 8,
                  "type": "CurriculumPrerequisite"
                 }
                ],
                "id": 8,
                "metrics": {
                 "blocking factor": 1,
                 "centrality": 3,
                 "complexity": 4,
                 "delay factor": 3
                },
                "name": " ",
                "nameCanonical": "",
                "nameSub": "Circuits I"
               }
              ],
              "id": 3,
              "name": "Term 3"
             },
             {
              "curriculum_items": [
               {
                "credits": 3,
                "curriculum_requisites": [
                 {
                  "source_id": 4,
                  "target_id": 5,
                  "type": "CurriculumPrerequisite"
                 },
                 {
                  "source_id": 3,
                  "target_id": 5,
                  "type": "CurriculumPrerequisite"
                 }
                ],
                "id": 5,
                "metrics": {
                 "blocking factor": 1,
                 "centrality": 11,
                 "complexity": 7,
                 "delay factor": 6
                },
                "name": " ",
                "nameCanonical": "",
                "nameSub": "Physics II"
               },
               {
                "credits": 1,
                "curriculum_requisites": [
                 {
                  "source_id": 5,
                  "target_id": 6,
                  "type": "CurriculumCorequisite"
                 }
                ],
                "id": 6,
                "metrics": {
                 "blocking factor": 0,
                 "centrality": 0,
                 "complexity": 6,
                 "delay factor": 6
                },
                "name": " ",
                "nameCanonical": "",
                "nameSub": "Physics II Lab"
               },
               {
                "credits": 3,
                "curriculum_requisites": [
                 {
                  "source_id": 2,
                  "target_id": 7,
                  "type": "CurriculumPrerequisite"
                 }
                ],
                "id": 7,
                "metrics": {
                 "blocking factor": 1,
                 "centrality": 5,
                 "complexity": 6,
                 "delay factor": 5
                },
                "name": " ",
                "nameCanonical": "",
                "nameSub": "Differential Eqs."
               }
              ],
              "id": 4,
              "name": "Term 4"
             },
             {
              "curriculum_items": [
               {
                "credits": 3,
                "curriculum_requisites": [
                 {
                  "source_id": 7,
                  "target_id": 9,
                  "type": "CurriculumPrerequisite"
                 },
                 {
                  "source_id": 8,
                  "target_id": 9,
                  "type": "CurriculumPrerequisite"
                 }
                ],
                "id": 9,
                "metrics": {
                 "blocking factor": 0,
                 "centrality": 0,
                 "complexity": 5,
                 "delay factor": 5
                },
                "name": " ",
                "nameCanonical": "",
                "nameSub": "Circuits II"
               }
              ],
              "id": 5,
              "name": "Term 5"
             }
            ],
            "dp_name": "Engineering 101 ready",
            "institution": "",
            "name": "Circuits I Design Pattern"
           },
           "options": {
            "edit": false,
            "hideTerms": false
           }
          }
         }
        },
        "systemjs_options": null
       },
       "nodeType": "Scope",
       "props": {},
       "type": "node"
      },
      "text/html": [
       "<div\n",
       "    class=\"webio-mountpoint\"\n",
       "    data-webio-mountpoint=\"2000621230245553315\"\n",
       ">\n",
       "    <script>\n",
       "    if (window.require && require.defined && require.defined(\"nbextensions/webio-jupyter-notebook\")) {\n",
       "        console.log(\"Jupyter WebIO extension detected, not mounting.\");\n",
       "    } else if (window.WebIO) {\n",
       "        WebIO.mount(\n",
       "            document.querySelector('[data-webio-mountpoint=\"2000621230245553315\"]'),\n",
       "            {\"props\":{},\"nodeType\":\"Scope\",\"type\":\"node\",\"instanceArgs\":{\"imports\":{\"data\":[],\"type\":\"async_block\"},\"id\":\"12608622616285860580\",\"handlers\":{},\"systemjs_options\":null,\"mount_callbacks\":[],\"observables\":{\"curriculum-data\":{\"sync\":true,\"id\":\"1238118628122951946\",\"value\":{\"options\":{\"hideTerms\":false,\"edit\":false},\"curriculum\":{\"name\":\"Circuits I Design Pattern\",\"dp_name\":\"Engineering 101 ready\",\"curriculum_terms\":[{\"name\":\"Term 1\",\"curriculum_items\":[{\"curriculum_requisites\":[],\"name\":\" \",\"metrics\":{\"centrality\":0,\"complexity\":15.0,\"blocking factor\":9,\"delay factor\":6.0},\"nameSub\":\"Engineering 101\",\"id\":10,\"credits\":4,\"nameCanonical\":\"\"}],\"id\":1},{\"name\":\"Term 2\",\"curriculum_items\":[{\"curriculum_requisites\":[{\"source_id\":10,\"target_id\":1,\"type\":\"CurriculumPrerequisite\"}],\"name\":\" \",\"metrics\":{\"centrality\":16,\"complexity\":13.0,\"blocking factor\":7,\"delay factor\":6.0},\"nameSub\":\"Calculus I\",\"id\":1,\"credits\":4,\"nameCanonical\":\"\"}],\"id\":2},{\"name\":\"Term 3\",\"curriculum_items\":[{\"curriculum_requisites\":[{\"source_id\":1,\"target_id\":2,\"type\":\"CurriculumPrerequisite\"}],\"name\":\" \",\"metrics\":{\"centrality\":5,\"complexity\":7.0,\"blocking factor\":2,\"delay factor\":5.0},\"nameSub\":\"Calculus II\",\"id\":2,\"credits\":4,\"nameCanonical\":\"\"},{\"curriculum_requisites\":[{\"source_id\":1,\"target_id\":3,\"type\":\"CurriculumPrerequisite\"}],\"name\":\" \",\"metrics\":{\"centrality\":11,\"complexity\":9.0,\"blocking factor\":3,\"delay factor\":6.0},\"nameSub\":\"Physics I\",\"id\":3,\"credits\":3,\"nameCanonical\":\"\"},{\"curriculum_requisites\":[{\"source_id\":3,\"target_id\":4,\"type\":\"CurriculumCorequisite\"}],\"name\":\" \",\"metrics\":{\"centrality\":6,\"complexity\":8.0,\"blocking factor\":2,\"delay factor\":6.0},\"nameSub\":\"Physics I Lab\",\"id\":4,\"credits\":1,\"nameCanonical\":\"\"},{\"curriculum_requisites\":[{\"source_id\":10,\"target_id\":8,\"type\":\"CurriculumPrerequisite\"}],\"name\":\" \",\"metrics\":{\"centrality\":3,\"complexity\":4.0,\"blocking factor\":1,\"delay factor\":3.0},\"nameSub\":\"Circuits I\",\"id\":8,\"credits\":3,\"nameCanonical\":\"\"}],\"id\":3},{\"name\":\"Term 4\",\"curriculum_items\":[{\"curriculum_requisites\":[{\"source_id\":4,\"target_id\":5,\"type\":\"CurriculumPrerequisite\"},{\"source_id\":3,\"target_id\":5,\"type\":\"CurriculumPrerequisite\"}],\"name\":\" \",\"metrics\":{\"centrality\":11,\"complexity\":7.0,\"blocking factor\":1,\"delay factor\":6.0},\"nameSub\":\"Physics II\",\"id\":5,\"credits\":3,\"nameCanonical\":\"\"},{\"curriculum_requisites\":[{\"source_id\":5,\"target_id\":6,\"type\":\"CurriculumCorequisite\"}],\"name\":\" \",\"metrics\":{\"centrality\":0,\"complexity\":6.0,\"blocking factor\":0,\"delay factor\":6.0},\"nameSub\":\"Physics II Lab\",\"id\":6,\"credits\":1,\"nameCanonical\":\"\"},{\"curriculum_requisites\":[{\"source_id\":2,\"target_id\":7,\"type\":\"CurriculumPrerequisite\"}],\"name\":\" \",\"metrics\":{\"centrality\":5,\"complexity\":6.0,\"blocking factor\":1,\"delay factor\":5.0},\"nameSub\":\"Differential Eqs.\",\"id\":7,\"credits\":3,\"nameCanonical\":\"\"}],\"id\":4},{\"name\":\"Term 5\",\"curriculum_items\":[{\"curriculum_requisites\":[{\"source_id\":7,\"target_id\":9,\"type\":\"CurriculumPrerequisite\"},{\"source_id\":8,\"target_id\":9,\"type\":\"CurriculumPrerequisite\"}],\"name\":\" \",\"metrics\":{\"centrality\":0,\"complexity\":5.0,\"blocking factor\":0,\"delay factor\":5.0},\"nameSub\":\"Circuits II\",\"id\":9,\"credits\":3,\"nameCanonical\":\"\"}],\"id\":5}],\"institution\":\"\"}}}}},\"children\":[{\"props\":{\"src\":\"https:\\/\\/curricula-api-embed.damoursystems.com\\/\",\"id\":\"curriculum\",\"events\":{\"load\":\"(function (){this.contentWindow.postMessage({\\\"options\\\":{\\\"hideTerms\\\":false,\\\"edit\\\":false},\\\"curriculum\\\":{\\\"name\\\":\\\"Circuits I Design Pattern\\\",\\\"dp_name\\\":\\\"Engineering 101 ready\\\",\\\"curriculum_terms\\\":[{\\\"name\\\":\\\"Term 1\\\",\\\"curriculum_items\\\":[{\\\"curriculum_requisites\\\":[],\\\"name\\\":\\\" \\\",\\\"metrics\\\":{\\\"centrality\\\":0,\\\"complexity\\\":15.0,\\\"blocking factor\\\":9,\\\"delay factor\\\":6.0},\\\"nameSub\\\":\\\"Engineering 101\\\",\\\"id\\\":10,\\\"credits\\\":4,\\\"nameCanonical\\\":\\\"\\\"}],\\\"id\\\":1},{\\\"name\\\":\\\"Term 2\\\",\\\"curriculum_items\\\":[{\\\"curriculum_requisites\\\":[{\\\"source_id\\\":10,\\\"target_id\\\":1,\\\"type\\\":\\\"CurriculumPrerequisite\\\"}],\\\"name\\\":\\\" \\\",\\\"metrics\\\":{\\\"centrality\\\":16,\\\"complexity\\\":13.0,\\\"blocking factor\\\":7,\\\"delay factor\\\":6.0},\\\"nameSub\\\":\\\"Calculus I\\\",\\\"id\\\":1,\\\"credits\\\":4,\\\"nameCanonical\\\":\\\"\\\"}],\\\"id\\\":2},{\\\"name\\\":\\\"Term 3\\\",\\\"curriculum_items\\\":[{\\\"curriculum_requisites\\\":[{\\\"source_id\\\":1,\\\"target_id\\\":2,\\\"type\\\":\\\"CurriculumPrerequisite\\\"}],\\\"name\\\":\\\" \\\",\\\"metrics\\\":{\\\"centrality\\\":5,\\\"complexity\\\":7.0,\\\"blocking factor\\\":2,\\\"delay factor\\\":5.0},\\\"nameSub\\\":\\\"Calculus II\\\",\\\"id\\\":2,\\\"credits\\\":4,\\\"nameCanonical\\\":\\\"\\\"},{\\\"curriculum_requisites\\\":[{\\\"source_id\\\":1,\\\"target_id\\\":3,\\\"type\\\":\\\"CurriculumPrerequisite\\\"}],\\\"name\\\":\\\" \\\",\\\"metrics\\\":{\\\"centrality\\\":11,\\\"complexity\\\":9.0,\\\"blocking factor\\\":3,\\\"delay factor\\\":6.0},\\\"nameSub\\\":\\\"Physics I\\\",\\\"id\\\":3,\\\"credits\\\":3,\\\"nameCanonical\\\":\\\"\\\"},{\\\"curriculum_requisites\\\":[{\\\"source_id\\\":3,\\\"target_id\\\":4,\\\"type\\\":\\\"CurriculumCorequisite\\\"}],\\\"name\\\":\\\" \\\",\\\"metrics\\\":{\\\"centrality\\\":6,\\\"complexity\\\":8.0,\\\"blocking factor\\\":2,\\\"delay factor\\\":6.0},\\\"nameSub\\\":\\\"Physics I Lab\\\",\\\"id\\\":4,\\\"credits\\\":1,\\\"nameCanonical\\\":\\\"\\\"},{\\\"curriculum_requisites\\\":[{\\\"source_id\\\":10,\\\"target_id\\\":8,\\\"type\\\":\\\"CurriculumPrerequisite\\\"}],\\\"name\\\":\\\" \\\",\\\"metrics\\\":{\\\"centrality\\\":3,\\\"complexity\\\":4.0,\\\"blocking factor\\\":1,\\\"delay factor\\\":3.0},\\\"nameSub\\\":\\\"Circuits I\\\",\\\"id\\\":8,\\\"credits\\\":3,\\\"nameCanonical\\\":\\\"\\\"}],\\\"id\\\":3},{\\\"name\\\":\\\"Term 4\\\",\\\"curriculum_items\\\":[{\\\"curriculum_requisites\\\":[{\\\"source_id\\\":4,\\\"target_id\\\":5,\\\"type\\\":\\\"CurriculumPrerequisite\\\"},{\\\"source_id\\\":3,\\\"target_id\\\":5,\\\"type\\\":\\\"CurriculumPrerequisite\\\"}],\\\"name\\\":\\\" \\\",\\\"metrics\\\":{\\\"centrality\\\":11,\\\"complexity\\\":7.0,\\\"blocking factor\\\":1,\\\"delay factor\\\":6.0},\\\"nameSub\\\":\\\"Physics II\\\",\\\"id\\\":5,\\\"credits\\\":3,\\\"nameCanonical\\\":\\\"\\\"},{\\\"curriculum_requisites\\\":[{\\\"source_id\\\":5,\\\"target_id\\\":6,\\\"type\\\":\\\"CurriculumCorequisite\\\"}],\\\"name\\\":\\\" \\\",\\\"metrics\\\":{\\\"centrality\\\":0,\\\"complexity\\\":6.0,\\\"blocking factor\\\":0,\\\"delay factor\\\":6.0},\\\"nameSub\\\":\\\"Physics II Lab\\\",\\\"id\\\":6,\\\"credits\\\":1,\\\"nameCanonical\\\":\\\"\\\"},{\\\"curriculum_requisites\\\":[{\\\"source_id\\\":2,\\\"target_id\\\":7,\\\"type\\\":\\\"CurriculumPrerequisite\\\"}],\\\"name\\\":\\\" \\\",\\\"metrics\\\":{\\\"centrality\\\":5,\\\"complexity\\\":6.0,\\\"blocking factor\\\":1,\\\"delay factor\\\":5.0},\\\"nameSub\\\":\\\"Differential Eqs.\\\",\\\"id\\\":7,\\\"credits\\\":3,\\\"nameCanonical\\\":\\\"\\\"}],\\\"id\\\":4},{\\\"name\\\":\\\"Term 5\\\",\\\"curriculum_items\\\":[{\\\"curriculum_requisites\\\":[{\\\"source_id\\\":7,\\\"target_id\\\":9,\\\"type\\\":\\\"CurriculumPrerequisite\\\"},{\\\"source_id\\\":8,\\\"target_id\\\":9,\\\"type\\\":\\\"CurriculumPrerequisite\\\"}],\\\"name\\\":\\\" \\\",\\\"metrics\\\":{\\\"centrality\\\":0,\\\"complexity\\\":5.0,\\\"blocking factor\\\":0,\\\"delay factor\\\":5.0},\\\"nameSub\\\":\\\"Circuits II\\\",\\\"id\\\":9,\\\"credits\\\":3,\\\"nameCanonical\\\":\\\"\\\"}],\\\"id\\\":5}],\\\"institution\\\":\\\"\\\"}},\\\"*\\\"); window.removeEventListener(\\\"message\\\",window.messageReceived); window.messageReceived=(function (event){return (event.data.curriculum!==undefined) ? (WebIO.setval({\\\"name\\\":\\\"curriculum-data\\\",\\\"scope\\\":\\\"12608622616285860580\\\",\\\"id\\\":\\\"1238118628122951946\\\",\\\"type\\\":\\\"observable\\\"},event.data.curriculum)) : undefined}); return window.addEventListener(\\\"message\\\",window.messageReceived)})\"},\"style\":{\"padding\":\"0\",\"height\":\"80vh\",\"margin\":\"0\",\"border\":\"none\",\"width\":\"100%\"}},\"nodeType\":\"DOM\",\"type\":\"node\",\"instanceArgs\":{\"namespace\":\"html\",\"tag\":\"iframe\"},\"children\":[\"\"]}]},\n",
       "            window,\n",
       "        );\n",
       "    } else {\n",
       "        document\n",
       "            .querySelector('[data-webio-mountpoint=\"2000621230245553315\"]')\n",
       "            .innerHTML = (\n",
       "                '<div style=\"padding: 1em; background-color: #f8d6da; border: 1px solid #f5c6cb\">' +\n",
       "                '<p><strong>WebIO not detected.</strong></p>' +\n",
       "                '<p>Please read ' +\n",
       "                '<a href=\"https://juliagizmos.github.io/WebIO.jl/latest/troubleshooting/not-detected/\" target=\"_blank\">the troubleshooting guide</a> ' +\n",
       "                'for more information on how to resolve this issue.</p>' +\n",
       "                '<p><a href=\"https://juliagizmos.github.io/WebIO.jl/latest/troubleshooting/not-detected/\" target=\"_blank\">https://juliagizmos.github.io/WebIO.jl/latest/troubleshooting/not-detected/</a></p>' +\n",
       "                '</div>'\n",
       "            );\n",
       "    }\n",
       "    </script>\n",
       "</div>\n"
      ],
      "text/plain": [
       "WebIO.Scope(WebIO.Node{WebIO.DOM}(WebIO.DOM(:html, :iframe), Any[\"\"], Dict{Symbol, Any}(:src => \"https://curricula-api-embed.damoursystems.com/\", :id => \"curriculum\", :events => Dict{Symbol, WebIO.JSString}(:load => WebIO.JSString(\"(function (){this.contentWindow.postMessage({\\\"options\\\":{\\\"hideTerms\\\":false,\\\"edit\\\":false},\\\"curriculum\\\":{\\\"name\\\":\\\"Circuits I Design Pattern\\\",\\\"dp_name\\\":\\\"Engineering 101 ready\\\",\\\"curriculum_terms\\\":[{\\\"name\\\":\\\"Term 1\\\",\\\"curriculum_items\\\":[{\\\"curriculum_requisites\\\":[],\\\"name\\\":\\\" \\\",\\\"metrics\\\":{\\\"centrality\\\":0,\\\"complexity\\\":15.0,\\\"blocking factor\\\":9,\\\"delay factor\\\":6.0},\\\"nameSub\\\":\\\"Engineering 101\\\",\\\"id\\\":10,\\\"credits\\\":4,\\\"nameCanonical\\\":\\\"\\\"}],\\\"id\\\":1},{\\\"name\\\":\\\"Term 2\\\",\\\"curriculum_items\\\":[{\\\"curriculum_requisites\\\":[{\\\"source_id\\\":10,\\\"target_id\\\":1,\\\"type\\\":\\\"CurriculumPrerequisite\\\"}],\\\"name\\\":\\\" \\\",\\\"metrics\\\":{\\\"centrality\\\":16,\\\"complexity\\\":13.0,\\\"blocking factor\\\":7,\\\"delay factor\\\":6.0},\\\"nameSub\\\":\\\"Calculus I\\\",\\\"id\\\":1,\\\"credits\\\":4,\\\"nameCanonical\\\":\\\"\\\"}],\\\"id\\\":2},{\\\"name\\\":\\\"Term 3\\\",\\\"curriculum_items\\\":[{\\\"curriculum_requisites\\\":[{\\\"source_id\\\":1,\\\"target_id\\\":2,\\\"type\\\":\\\"CurriculumPrerequisite\\\"}],\\\"name\\\":\\\" \\\",\\\"metrics\\\":{\\\"centrality\\\":5,\\\"complexity\\\":7.0,\\\"blocking factor\\\":2,\\\"delay factor\\\":5.0},\\\"nameSub\\\":\\\"Calculus II\\\",\\\"id\\\":2,\\\"credits\\\":4,\\\"nameCanonical\\\":\\\"\\\"},{\\\"curriculum_requisites\\\":[{\\\"source_id\\\":1,\\\"target_id\\\":3,\\\"type\\\":\\\"CurriculumPrerequisite\\\"}],\\\"name\\\":\\\" \\\",\\\"metrics\\\":{\\\"centrality\\\":11,\\\"complexity\\\":9.0,\\\"blocking factor\\\":3,\\\"delay factor\\\":6.0},\\\"nameSub\\\":\\\"Physics I\\\",\\\"id\\\":3,\\\"credits\\\":3,\\\"nameCanonical\\\":\\\"\\\"},{\\\"curriculum_requisites\\\":[{\\\"source_id\\\":3,\\\"target_id\\\":4,\\\"type\\\":\\\"CurriculumCorequisite\\\"}],\\\"name\\\":\\\" \\\",\\\"metrics\\\":{\\\"centrality\\\":6,\\\"complexity\\\":8.0,\\\"blocking factor\\\":2,\\\"delay factor\\\":6.0},\\\"nameSub\\\":\\\"Physics I Lab\\\",\\\"id\\\":4,\\\"credits\\\":1,\\\"nameCanonical\\\":\\\"\\\"},{\\\"curriculum_requisites\\\":[{\\\"source_id\\\":10,\\\"target_id\\\":8,\\\"type\\\":\\\"CurriculumPrerequisite\\\"}],\\\"name\\\":\\\" \\\",\\\"metrics\\\":{\\\"centrality\\\":3,\\\"complexity\\\":4.0,\\\"blocking factor\\\":1,\\\"delay factor\\\":3.0},\\\"nameSub\\\":\\\"Circuits I\\\",\\\"id\\\":8,\\\"credits\\\":3,\\\"nameCanonical\\\":\\\"\\\"}],\\\"id\\\":3},{\\\"name\\\":\\\"Term 4\\\",\\\"curriculum_items\\\":[{\\\"curriculum_requisites\\\":[{\\\"source_id\\\":4,\\\"target_id\\\":5,\\\"type\\\":\\\"CurriculumPrerequisite\\\"},{\\\"source_id\\\":3,\\\"target_id\\\":5,\\\"type\\\":\\\"CurriculumPrerequisite\\\"}],\\\"name\\\":\\\" \\\",\\\"metrics\\\":{\\\"centrality\\\":11,\\\"complexity\\\":7.0,\\\"blocking factor\\\":1,\\\"delay factor\\\":6.0},\\\"nameSub\\\":\\\"Physics II\\\",\\\"id\\\":5,\\\"credits\\\":3,\\\"nameCanonical\\\":\\\"\\\"},{\\\"curriculum_requisites\\\":[{\\\"source_id\\\":5,\\\"target_id\\\":6,\\\"type\\\":\\\"CurriculumCorequisite\\\"}],\\\"name\\\":\\\" \\\",\\\"metrics\\\":{\\\"centrality\\\":0,\\\"complexity\\\":6.0,\\\"blocking factor\\\":0,\\\"delay factor\\\":6.0},\\\"nameSub\\\":\\\"Physics II Lab\\\",\\\"id\\\":6,\\\"credits\\\":1,\\\"nameCanonical\\\":\\\"\\\"},{\\\"curriculum_requisites\\\":[{\\\"source_id\\\":2,\\\"target_id\\\":7,\\\"type\\\":\\\"CurriculumPrerequisite\\\"}],\\\"name\\\":\\\" \\\",\\\"metrics\\\":{\\\"centrality\\\":5,\\\"complexity\\\":6.0,\\\"blocking factor\\\":1,\\\"delay factor\\\":5.0},\\\"nameSub\\\":\\\"Differential Eqs.\\\",\\\"id\\\":7,\\\"credits\\\":3,\\\"nameCanonical\\\":\\\"\\\"}],\\\"id\\\":4},{\\\"name\\\":\\\"Term 5\\\",\\\"curriculum_items\\\":[{\\\"curriculum_requisites\\\":[{\\\"source_id\\\":7,\\\"target_id\\\":9,\\\"type\\\":\\\"CurriculumPrerequisite\\\"},{\\\"source_id\\\":8,\\\"target_id\\\":9,\\\"type\\\":\\\"CurriculumPrerequisite\\\"}],\\\"name\\\":\\\" \\\",\\\"metrics\\\":{\\\"centrality\\\":0,\\\"complexity\\\":5.0,\\\"blocking factor\\\":0,\\\"delay factor\\\":5.0},\\\"nameSub\\\":\\\"Circuits II\\\",\\\"id\\\":9,\\\"credits\\\":3,\\\"nameCanonical\\\":\\\"\\\"}],\\\"id\\\":5}],\\\"institution\\\":\\\"\\\"}},\\\"*\\\"); window.removeEventListener(\\\"message\\\",window.messageReceived); window.messageReceived=(function (event){return (event.data.curriculum!==undefined) ? (WebIO.setval({\\\"name\\\":\\\"curriculum-data\\\",\\\"scope\\\":\\\"12608622616285860580\\\",\\\"id\\\":\\\"1238118628122951946\\\",\\\"type\\\":\\\"observable\\\"},event.data.curriculum)) : undefined}); return window.addEventListener(\\\"message\\\",window.messageReceived)})\")), :style => Dict(:padding => \"0\", :height => \"80vh\", :margin => \"0\", :border => \"none\", :width => \"100%\"))), Dict{String, Tuple{Observables.AbstractObservable, Union{Nothing, Bool}}}(\"curriculum-data\" => (Observable{Dict{String, Any}} with 1 listeners. Value:\n",
       "Dict{String, Any}(\"options\" => Dict{String, Any}(\"hideTerms\" => false, \"edit\" => false), \"curriculum\" => Dict{String, Any}(\"name\" => \"Circuits I Design Pattern\", \"dp_name\" => \"Engineering 101 ready\", \"curriculum_terms\" => Dict{String, Any}[Dict(\"name\" => \"Term 1\", \"curriculum_items\" => Dict{String, Any}[Dict(\"curriculum_requisites\" => Dict{String, Any}[], \"name\" => \" \", \"metrics\" => Dict{String, Any}(\"centrality\" => 0, \"complexity\" => 15.0, \"blocking factor\" => 9, \"delay factor\" => 6.0), \"nameSub\" => \"Engineering 101\", \"id\" => 10, \"credits\" => 4, \"nameCanonical\" => \"\")], \"id\" => 1), Dict(\"name\" => \"Term 2\", \"curriculum_items\" => Dict{String, Any}[Dict(\"curriculum_requisites\" => Dict{String, Any}[Dict(\"source_id\" => 10, \"target_id\" => 1, \"type\" => \"CurriculumPrerequisite\")], \"name\" => \" \", \"metrics\" => Dict{String, Any}(\"centrality\" => 16, \"complexity\" => 13.0, \"blocking factor\" => 7, \"delay factor\" => 6.0), \"nameSub\" => \"Calculus I\", \"id\" => 1, \"credits\" => 4, \"nameCanonical\" => \"\")], \"id\" => 2), Dict(\"name\" => \"Term 3\", \"curriculum_items\" => Dict{String, Any}[Dict(\"curriculum_requisites\" => Dict{String, Any}[Dict(\"source_id\" => 1, \"target_id\" => 2, \"type\" => \"CurriculumPrerequisite\")], \"name\" => \" \", \"metrics\" => Dict{String, Any}(\"centrality\" => 5, \"complexity\" => 7.0, \"blocking factor\" => 2, \"delay factor\" => 5.0), \"nameSub\" => \"Calculus II\", \"id\" => 2, \"credits\" => 4, \"nameCanonical\" => \"\"), Dict(\"curriculum_requisites\" => Dict{String, Any}[Dict(\"source_id\" => 1, \"target_id\" => 3, \"type\" => \"CurriculumPrerequisite\")], \"name\" => \" \", \"metrics\" => Dict{String, Any}(\"centrality\" => 11, \"complexity\" => 9.0, \"blocking factor\" => 3, \"delay factor\" => 6.0), \"nameSub\" => \"Physics I\", \"id\" => 3, \"credits\" => 3, \"nameCanonical\" => \"\"), Dict(\"curriculum_requisites\" => Dict{String, Any}[Dict(\"source_id\" => 3, \"target_id\" => 4, \"type\" => \"CurriculumCorequisite\")], \"name\" => \" \", \"metrics\" => Dict{String, Any}(\"centrality\" => 6, \"complexity\" => 8.0, \"blocking factor\" => 2, \"delay factor\" => 6.0), \"nameSub\" => \"Physics I Lab\", \"id\" => 4, \"credits\" => 1, \"nameCanonical\" => \"\"), Dict(\"curriculum_requisites\" => Dict{String, Any}[Dict(\"source_id\" => 10, \"target_id\" => 8, \"type\" => \"CurriculumPrerequisite\")], \"name\" => \" \", \"metrics\" => Dict{String, Any}(\"centrality\" => 3, \"complexity\" => 4.0, \"blocking factor\" => 1, \"delay factor\" => 3.0), \"nameSub\" => \"Circuits I\", \"id\" => 8, \"credits\" => 3, \"nameCanonical\" => \"\")], \"id\" => 3), Dict(\"name\" => \"Term 4\", \"curriculum_items\" => Dict{String, Any}[Dict(\"curriculum_requisites\" => Dict{String, Any}[Dict(\"source_id\" => 4, \"target_id\" => 5, \"type\" => \"CurriculumPrerequisite\"), Dict(\"source_id\" => 3, \"target_id\" => 5, \"type\" => \"CurriculumPrerequisite\")], \"name\" => \" \", \"metrics\" => Dict{String, Any}(\"centrality\" => 11, \"complexity\" => 7.0, \"blocking factor\" => 1, \"delay factor\" => 6.0), \"nameSub\" => \"Physics II\", \"id\" => 5, \"credits\" => 3, \"nameCanonical\" => \"\"), Dict(\"curriculum_requisites\" => Dict{String, Any}[Dict(\"source_id\" => 5, \"target_id\" => 6, \"type\" => \"CurriculumCorequisite\")], \"name\" => \" \", \"metrics\" => Dict{String, Any}(\"centrality\" => 0, \"complexity\" => 6.0, \"blocking factor\" => 0, \"delay factor\" => 6.0), \"nameSub\" => \"Physics II Lab\", \"id\" => 6, \"credits\" => 1, \"nameCanonical\" => \"\"), Dict(\"curriculum_requisites\" => Dict{String, Any}[Dict(\"source_id\" => 2, \"target_id\" => 7, \"type\" => \"CurriculumPrerequisite\")], \"name\" => \" \", \"metrics\" => Dict{String, Any}(\"centrality\" => 5, \"complexity\" => 6.0, \"blocking factor\" => 1, \"delay factor\" => 5.0), \"nameSub\" => \"Differential Eqs.\", \"id\" => 7, \"credits\" => 3, \"nameCanonical\" => \"\")], \"id\" => 4), Dict(\"name\" => \"Term 5\", \"curriculum_items\" => Dict{String, Any}[Dict(\"curriculum_requisites\" => Dict{String, Any}[Dict(\"source_id\" => 7, \"target_id\" => 9, \"type\" => \"CurriculumPrerequisite\"), Dict(\"source_id\" => 8, \"target_id\" => 9, \"type\" => \"CurriculumPrerequisite\")], \"name\" => \" \", \"metrics\" => Dict{String, Any}(\"centrality\" => 0, \"complexity\" => 5.0, \"blocking factor\" => 0, \"delay factor\" => 5.0), \"nameSub\" => \"Circuits II\", \"id\" => 9, \"credits\" => 3, \"nameCanonical\" => \"\")], \"id\" => 5)], \"institution\" => \"\")), nothing)), Set{String}(), nothing, WebIO.Asset[], Dict{Any, Any}(), WebIO.ConnectionPool(Channel{Any}(32), Set{WebIO.AbstractConnection}(), Condition(Base.InvasiveLinkedList{Task}(Task (runnable) @0x000000011be32760, Task (runnable) @0x000000011be32760), Base.AlwaysLockedST(1))), WebIO.JSString[])"
      ]
     },
     "execution_count": 10,
     "metadata": {
      "application/vnd.webio.node+json": {
       "kernelId": "608747ee-a133-469f-a5ab-d2379c850c6c"
      }
     },
     "output_type": "execute_result"
    }
   ],
   "source": [
    "reformed = read_csv(\"EE-Reformed.csv\")\n",
    "visualize(reformed, notebook=true, scale=0.8)"
   ]
  },
  {
   "cell_type": "markdown",
   "metadata": {},
   "source": [
    "## Simulating Student Progress\n",
    "Next, let's simuilate what happens when student attempt to complete these curricular design patterns.\n",
    "Consider first the case of Calculus-ready students."
   ]
  },
  {
   "cell_type": "code",
   "execution_count": 11,
   "metadata": {},
   "outputs": [],
   "source": [
    "enrollment_model = Enrollment  # use the Enrollment module to determine if/when student may enroll in a course\n",
    "stopouts = false  # assume that student may NOT stop out of the cohort, i.e., they are completely resilient \n",
    "n = 1000   # student cohort size will be 100\n",
    "students = simple_students(n);  # create a student cohort\n",
    "max_credits = 10  # the maximum number of credits in the pattern a student may enroll in during a semester\n",
    "duration_lock = false # rather than simulating until no students are left in the cohort, run for a fixed number of terms\n",
    "num_terms = 12  # the maximum number of terms in the simulation\n",
    "course_attempt_limit = 3;  # number of times a student may attempt a course\n",
    "performance_model = PassRate\n",
    "real_passrate = false\n",
    "set_passrates(calc_ready.curriculum.courses, 0.7)\n",
    "course_passrate = 0.8;"
   ]
  },
  {
   "cell_type": "code",
   "execution_count": 12,
   "metadata": {},
   "outputs": [],
   "source": [
    "simulation = simulate(calc_ready, course_attempt_limit, students,\n",
    "                      max_credits = max_credits,\n",
    "                      performance_model = performance_model,\n",
    "                      enrollment_model = enrollment_model,\n",
    "                      duration = num_terms,\n",
    "                      duration_lock = duration_lock,\n",
    "                      stopouts = stopouts);"
   ]
  },
  {
   "cell_type": "code",
   "execution_count": 29,
   "metadata": {},
   "outputs": [
    {
     "name": "stdout",
     "output_type": "stream",
     "text": [
      "\n",
      "\u001b[0m\u001b[1m------------ Simulation Report ------------\u001b[22m\n",
      "Circuits I Design Pattern, BS -- Calculus ready\n",
      "\n",
      "-------- Simulation Statistics --------\n",
      "Number of terms: 12\n",
      "Max Credits per Term: 10\n",
      "Max Course Attempts: 3\n",
      "Number of Students: 1000\n",
      "Preset Course Pass Rates: 80.0%\n",
      "\n",
      "-------- Graduation Statistics --------\n",
      "Number of Students Graduated: 984\n",
      "Graduation Rate: 98.4%\n",
      "Term Graduation Rates: \n",
      "[0.0, 0.0, 0.0, 0.0, 0.072, 0.264, 0.506, 0.693, 0.828, 0.914, 0.964, 0.984]\n",
      "Average time to degree: 7.690040650406504 terms\n",
      "\n",
      "-------- Stop out Statistics --------\n",
      "Number of Students Stopped Out (Stopout Model Prediction + Reached Max Attempts): 0\n",
      "Number of Students Reaching Max Attempts: 255\n",
      "Stop-out Rate: 0.0%\n",
      "Cumulative Term Stop-out Rates (including reached max course attempts students): \n",
      "[0.0, 0.0, 0.0, 0.0, 0.0, 0.0, 0.0, 0.0, 0.0, 0.0, 0.0, 0.0]\n",
      "\n",
      "Cumulative Term Stop-out Rates (excluding reaching max course attempts students): \n",
      "[0.0, 0.0, -0.095, -0.13, -0.164, -0.191, -0.218, -0.23, -0.241, -0.25, -0.255, -0.255]\n",
      "\n",
      "Cumulative Term Reached Max Course Attempts Rates: \n",
      "[0.0, 0.0, 0.095, 0.13, 0.164, 0.191, 0.218, 0.23, 0.241, 0.25, 0.255, 0.255]\n",
      "\n",
      "\n",
      "-------- Course Pass Rates by Term --------\n",
      "\n",
      "│ Row │ COUSE             │ TERM1 │ TERM2 │ TERM3 │ TERM4 │ TERM5 │ TERM6  │\n",
      "├─────┼───────────────────┼───────┼───────┼───────┼───────┼───────┼────────┤\n",
      "│ 1   │ Calculus I        │ 68.5% │ 90.9% │ 97.5% │ 99.3% │ 99.6% │ 100.0% │\n",
      "│ 2   │ Calculus II       │ 0.0%  │ 47.8% │ 76.8% │ 91.1% │ 97.9% │ 99.0%  │\n",
      "│ 3   │ Physics I         │ 0.0%  │ 46.6% │ 77.0% │ 91.4% │ 97.0% │ 99.0%  │\n",
      "│ 4   │ Physics I Lab     │ 67.7% │ 89.4% │ 96.6% │ 99.2% │ 99.9% │ 99.9%  │\n",
      "│ 5   │ Physics II        │ 0.0%  │ 0.0%  │ 30.9% │ 61.0% │ 82.2% │ 92.1%  │\n",
      "│ 6   │ Physics II Lab    │ 69.6% │ 91.8% │ 96.4% │ 99.1% │ 99.5% │ 99.8%  │\n",
      "│ 7   │ Differential Eqs. │ 0.0%  │ 0.0%  │ 34.3% │ 65.2% │ 82.7% │ 92.4%  │\n",
      "│ 8   │ Circuits I        │ 0.0%  │ 0.0%  │ 0.0%  │ 10.9% │ 34.3% │ 58.6%  │\n",
      "│ 9   │ Circuits II       │ 0.0%  │ 0.0%  │ 0.0%  │ 0.0%  │ 7.2%  │ 26.5%  │\n",
      "│ 10  │ GRAD RATE         │ 0.0%  │ 0.0%  │ 0.0%  │ 0.0%  │ 7.2%  │ 26.4%  │\n",
      "\n",
      "│ Row │ TERM7  │ TERM8  │ TERM9  │ TERM10 │ TERM11 │ TERM12 │\n",
      "├─────┼────────┼────────┼────────┼────────┼────────┼────────┤\n",
      "│ 1   │ 100.0% │ 100.0% │ 100.0% │ 100.0% │ 100.0% │ 100.0% │\n",
      "│ 2   │ 99.6%  │ 99.8%  │ 100.0% │ 100.0% │ 100.0% │ 100.0% │\n",
      "│ 3   │ 99.7%  │ 99.8%  │ 99.9%  │ 100.0% │ 100.0% │ 100.0% │\n",
      "│ 4   │ 99.9%  │ 100.0% │ 100.0% │ 100.0% │ 100.0% │ 100.0% │\n",
      "│ 5   │ 96.4%  │ 98.9%  │ 99.5%  │ 99.8%  │ 100.0% │ 100.0% │\n",
      "│ 6   │ 99.9%  │ 100.0% │ 100.0% │ 100.0% │ 100.0% │ 100.0% │\n",
      "│ 7   │ 96.0%  │ 98.6%  │ 99.6%  │ 99.8%  │ 100.0% │ 100.0% │\n",
      "│ 8   │ 78.5%  │ 88.9%  │ 95.1%  │ 98.3%  │ 99.1%  │ 99.8%  │\n",
      "│ 9   │ 50.7%  │ 69.3%  │ 82.8%  │ 91.4%  │ 96.4%  │ 98.4%  │\n",
      "│ 10  │ 50.6%  │ 69.3%  │ 82.8%  │ 91.4%  │ 96.4%  │ 98.4%  │"
     ]
    }
   ],
   "source": [
    "simulation_report(simulation, num_terms, course_passrate, max_credits, real_passrate)"
   ]
  },
  {
   "cell_type": "markdown",
   "metadata": {},
   "source": [
    "Notice that with a 70% pass rate for all courses in these patterns, after four terms (allowing students one additional term to complete the pattern through Circuits I), 35.5% of the students will have completed the Circuits I course.  Next let's model the same scenario, but in this case with a Foundational Math starting point."
   ]
  },
  {
   "cell_type": "code",
   "execution_count": 30,
   "metadata": {},
   "outputs": [],
   "source": [
    "set_passrates(foundational_math.curriculum.courses, 0.7)\n",
    "simulation = simulate(foundational_math, course_attempt_limit, students,\n",
    "                      max_credits = max_credits,\n",
    "                      performance_model = performance_model,\n",
    "                      enrollment_model = enrollment_model,\n",
    "                      duration = num_terms,\n",
    "                      duration_lock = duration_lock,\n",
    "                      stopouts = stopouts);"
   ]
  },
  {
   "cell_type": "code",
   "execution_count": 31,
   "metadata": {},
   "outputs": [
    {
     "name": "stdout",
     "output_type": "stream",
     "text": [
      "\n",
      "\u001b[0m\u001b[1m------------ Simulation Report ------------\u001b[22m\n",
      "Circuits I Design Pattern, BS -- Foundational Math\n",
      "\n",
      "-------- Simulation Statistics --------\n",
      "Number of terms: 12\n",
      "Max Credits per Term: 10\n",
      "Max Course Attempts: 3\n",
      "Number of Students: 1000\n",
      "Preset Course Pass Rates: 80.0%\n",
      "\n",
      "-------- Graduation Statistics --------\n",
      "Number of Students Graduated: 651\n",
      "Graduation Rate: 65.10000000000001%\n",
      "Term Graduation Rates: \n",
      "[0.0, 0.0, 0.0, 0.0, 0.0, 0.0, 0.0, 0.025, 0.141, 0.285, 0.467, 0.651]\n",
      "Average time to degree: 10.589861751152073 terms\n",
      "\n",
      "-------- Stop out Statistics --------\n",
      "Number of Students Stopped Out (Stopout Model Prediction + Reached Max Attempts): 0\n",
      "Number of Students Reaching Max Attempts: 291\n",
      "Stop-out Rate: 0.0%\n",
      "Cumulative Term Stop-out Rates (including reached max course attempts students): \n",
      "[0.0, 0.0, 0.0, 0.0, 0.0, 0.0, 0.0, 0.0, 0.0, 0.0, 0.0, 0.0]\n",
      "\n",
      "Cumulative Term Stop-out Rates (excluding reaching max course attempts students): \n",
      "[0.0, 0.0, -0.099, -0.117, -0.134, -0.15, -0.169, -0.194, -0.225, -0.246, -0.267, -0.291]\n",
      "\n",
      "Cumulative Term Reached Max Course Attempts Rates: \n",
      "[0.0, 0.0, 0.099, 0.117, 0.134, 0.15, 0.169, 0.194, 0.225, 0.246, 0.267, 0.291]\n",
      "\n",
      "\n",
      "-------- Course Pass Rates by Term --------\n",
      "\n",
      "│ Row │ COUSE             │ TERM1 │ TERM2 │ TERM3 │ TERM4 │ TERM5 │ TERM6  │\n",
      "├─────┼───────────────────┼───────┼───────┼───────┼───────┼───────┼────────┤\n",
      "│ 1   │ Calculus I        │ 0.0%  │ 0.0%  │ 0.0%  │ 21.8% │ 52.6% │ 74.1%  │\n",
      "│ 2   │ Calculus II       │ 0.0%  │ 0.0%  │ 0.0%  │ 0.0%  │ 15.8% │ 42.5%  │\n",
      "│ 3   │ Physics I         │ 0.0%  │ 0.0%  │ 0.0%  │ 0.0%  │ 14.9% │ 42.5%  │\n",
      "│ 4   │ Physics I Lab     │ 69.8% │ 89.8% │ 96.1% │ 98.9% │ 99.8% │ 100.0% │\n",
      "│ 5   │ Physics II        │ 0.0%  │ 0.0%  │ 0.0%  │ 0.0%  │ 0.0%  │ 10.8%  │\n",
      "│ 6   │ Physics II Lab    │ 67.7% │ 89.7% │ 97.1% │ 99.3% │ 99.6% │ 100.0% │\n",
      "│ 7   │ Differential Eqs. │ 0.0%  │ 0.0%  │ 0.0%  │ 0.0%  │ 0.0%  │ 11.0%  │\n",
      "│ 8   │ Circuits I        │ 0.0%  │ 0.0%  │ 0.0%  │ 0.0%  │ 0.0%  │ 0.0%   │\n",
      "│ 9   │ Circuits II       │ 0.0%  │ 0.0%  │ 0.0%  │ 0.0%  │ 0.0%  │ 0.0%   │\n",
      "│ 10  │ Precalculus       │ 0.0%  │ 0.0%  │ 32.5% │ 64.2% │ 83.0% │ 92.3%  │\n",
      "│ 11  │ College Algebra   │ 0.0%  │ 47.8% │ 77.5% │ 90.2% │ 96.2% │ 98.4%  │\n",
      "│ 12  │ Foundational Math │ 67.0% │ 90.6% │ 96.9% │ 99.3% │ 99.5% │ 99.7%  │\n",
      "│ 13  │ GRAD RATE         │ 0.0%  │ 0.0%  │ 0.0%  │ 0.0%  │ 0.0%  │ 0.0%   │\n",
      "\n",
      "│ Row │ TERM7  │ TERM8  │ TERM9  │ TERM10 │ TERM11 │ TERM12 │\n",
      "├─────┼────────┼────────┼────────┼────────┼────────┼────────┤\n",
      "│ 1   │ 86.4%  │ 93.1%  │ 96.4%  │ 98.3%  │ 99.3%  │ 99.5%  │\n",
      "│ 2   │ 66.9%  │ 81.6%  │ 90.2%  │ 95.2%  │ 97.3%  │ 98.9%  │\n",
      "│ 3   │ 64.0%  │ 80.0%  │ 89.6%  │ 95.1%  │ 97.1%  │ 98.3%  │\n",
      "│ 4   │ 100.0% │ 100.0% │ 100.0% │ 100.0% │ 100.0% │ 100.0% │\n",
      "│ 5   │ 34.1%  │ 54.6%  │ 71.6%  │ 83.6%  │ 91.7%  │ 96.1%  │\n",
      "│ 6   │ 100.0% │ 100.0% │ 100.0% │ 100.0% │ 100.0% │ 100.0% │\n",
      "│ 7   │ 33.3%  │ 56.8%  │ 73.8%  │ 85.9%  │ 92.4%  │ 95.3%  │\n",
      "│ 8   │ 3.7%   │ 17.2%  │ 35.3%  │ 55.1%  │ 70.5%  │ 83.6%  │\n",
      "│ 9   │ 0.0%   │ 2.5%   │ 14.1%  │ 28.5%  │ 46.7%  │ 65.1%  │\n",
      "│ 10  │ 96.5%  │ 98.4%  │ 99.4%  │ 99.6%  │ 99.8%  │ 99.9%  │\n",
      "│ 11  │ 99.5%  │ 99.8%  │ 99.9%  │ 99.9%  │ 100.0% │ 100.0% │\n",
      "│ 12  │ 99.8%  │ 99.9%  │ 99.9%  │ 100.0% │ 100.0% │ 100.0% │\n",
      "│ 13  │ 0.0%   │ 2.5%   │ 14.1%  │ 28.5%  │ 46.7%  │ 65.1%  │"
     ]
    }
   ],
   "source": [
    "simulation_report(simulation, num_terms, course_passrate, max_credits, real_passrate)"
   ]
  },
  {
   "cell_type": "markdown",
   "metadata": {},
   "source": [
    "In this pattern, after seven terms (allowing students one additional term to complete the pattern through Circuits I), only 4.9% of the students will have completed the Circuits I course.  Finally, let's model the same scenario, but in this case using the reformed pattern pioneered at Wright St. University.  This low success rate seems to be in agreement with the low graduation rates, in engineering programs, for students who begin their college careers in foundational math."
   ]
  },
  {
   "cell_type": "code",
   "execution_count": 32,
   "metadata": {},
   "outputs": [],
   "source": [
    "set_passrates(reformed.curriculum.courses, 0.7)\n",
    "simulation = simulate(reformed, course_attempt_limit, students,\n",
    "                      max_credits = max_credits,\n",
    "                      performance_model = performance_model,\n",
    "                      enrollment_model = enrollment_model,\n",
    "                      duration = num_terms,\n",
    "                      duration_lock = duration_lock,\n",
    "                      stopouts = stopouts);"
   ]
  },
  {
   "cell_type": "code",
   "execution_count": 33,
   "metadata": {},
   "outputs": [
    {
     "name": "stdout",
     "output_type": "stream",
     "text": [
      "\n",
      "\u001b[0m\u001b[1m------------ Simulation Report ------------\u001b[22m\n",
      "Circuits I Design Pattern, BS -- Engineering 101 ready\n",
      "\n",
      "-------- Simulation Statistics --------\n",
      "Number of terms: 12\n",
      "Max Credits per Term: 10\n",
      "Max Course Attempts: 3\n",
      "Number of Students: 1000\n",
      "Preset Course Pass Rates: 80.0%\n",
      "\n",
      "-------- Graduation Statistics --------\n",
      "Number of Students Graduated: 984\n",
      "Graduation Rate: 98.4%\n",
      "Term Graduation Rates: \n",
      "[0.0, 0.0, 0.0, 0.0, 0.116, 0.372, 0.624, 0.793, 0.88, 0.95, 0.973, 0.984]\n",
      "Average time to degree: 7.215447154471545 terms\n",
      "\n",
      "-------- Stop out Statistics --------\n",
      "Number of Students Stopped Out (Stopout Model Prediction + Reached Max Attempts): 0\n",
      "Number of Students Reaching Max Attempts: 258\n",
      "Stop-out Rate: 0.0%\n",
      "Cumulative Term Stop-out Rates (including reached max course attempts students): \n",
      "[0.0, 0.0, 0.0, 0.0, 0.0, 0.0, 0.0, 0.0, 0.0, 0.0, 0.0, 0.0]\n",
      "\n",
      "Cumulative Term Stop-out Rates (excluding reaching max course attempts students): \n",
      "[0.0, 0.0, -0.071, -0.11, -0.149, -0.181, -0.205, -0.237, -0.245, -0.251, -0.254, -0.258]\n",
      "\n",
      "Cumulative Term Reached Max Course Attempts Rates: \n",
      "[0.0, 0.0, 0.071, 0.11, 0.149, 0.181, 0.205, 0.237, 0.245, 0.251, 0.254, 0.258]\n",
      "\n",
      "\n",
      "-------- Course Pass Rates by Term --------\n",
      "\n",
      "│ Row │ COUSE             │ TERM1 │ TERM2 │ TERM3 │ TERM4 │ TERM5 │ TERM6 │\n",
      "├─────┼───────────────────┼───────┼───────┼───────┼───────┼───────┼───────┤\n",
      "│ 1   │ Calculus I        │ 0.0%  │ 50.2% │ 78.7% │ 92.0% │ 97.1% │ 99.1% │\n",
      "│ 2   │ Calculus II       │ 0.0%  │ 0.0%  │ 34.5% │ 65.7% │ 85.2% │ 93.6% │\n",
      "│ 3   │ Physics I         │ 0.0%  │ 0.0%  │ 35.3% │ 66.3% │ 85.8% │ 93.7% │\n",
      "│ 4   │ Physics I Lab     │ 69.1% │ 89.9% │ 97.4% │ 99.3% │ 99.9% │ 99.9% │\n",
      "│ 5   │ Physics II        │ 0.0%  │ 0.0%  │ 0.0%  │ 24.0% │ 52.0% │ 75.4% │\n",
      "│ 6   │ Physics II Lab    │ 69.7% │ 92.2% │ 96.6% │ 98.7% │ 99.5% │ 99.7% │\n",
      "│ 7   │ Differential Eqs. │ 0.0%  │ 0.0%  │ 0.0%  │ 25.2% │ 54.2% │ 76.0% │\n",
      "│ 8   │ Circuits I        │ 0.0%  │ 48.8% │ 79.0% │ 92.3% │ 97.1% │ 99.1% │\n",
      "│ 9   │ Circuits II       │ 0.0%  │ 0.0%  │ 0.0%  │ 0.0%  │ 16.6% │ 42.3% │\n",
      "│ 10  │ Engineering 101   │ 70.2% │ 92.2% │ 97.8% │ 99.2% │ 99.8% │ 99.9% │\n",
      "│ 11  │ GRAD RATE         │ 0.0%  │ 0.0%  │ 0.0%  │ 0.0%  │ 11.6% │ 37.2% │\n",
      "\n",
      "│ Row │ TERM7  │ TERM8  │ TERM9  │ TERM10 │ TERM11 │ TERM12 │\n",
      "├─────┼────────┼────────┼────────┼────────┼────────┼────────┤\n",
      "│ 1   │ 99.4%  │ 99.8%  │ 99.8%  │ 100.0% │ 100.0% │ 100.0% │\n",
      "│ 2   │ 97.4%  │ 98.5%  │ 99.3%  │ 99.6%  │ 99.9%  │ 99.9%  │\n",
      "│ 3   │ 98.2%  │ 99.1%  │ 99.5%  │ 99.7%  │ 99.9%  │ 100.0% │\n",
      "│ 4   │ 100.0% │ 100.0% │ 100.0% │ 100.0% │ 100.0% │ 100.0% │\n",
      "│ 5   │ 88.2%  │ 95.3%  │ 97.7%  │ 99.0%  │ 99.3%  │ 99.6%  │\n",
      "│ 6   │ 99.9%  │ 100.0% │ 100.0% │ 100.0% │ 100.0% │ 100.0% │\n",
      "│ 7   │ 88.1%  │ 94.0%  │ 97.4%  │ 98.5%  │ 99.3%  │ 99.6%  │\n",
      "│ 8   │ 99.7%  │ 100.0% │ 100.0% │ 100.0% │ 100.0% │ 100.0% │\n",
      "│ 9   │ 65.9%  │ 81.1%  │ 89.3%  │ 95.6%  │ 97.7%  │ 98.7%  │\n",
      "│ 10  │ 100.0% │ 100.0% │ 100.0% │ 100.0% │ 100.0% │ 100.0% │\n",
      "│ 11  │ 62.4%  │ 79.3%  │ 88.0%  │ 95.0%  │ 97.3%  │ 98.4%  │"
     ]
    }
   ],
   "source": [
    "simulation_report(simulation, num_terms, course_passrate, max_credits, real_passrate)"
   ]
  },
  {
   "cell_type": "markdown",
   "metadata": {},
   "source": [
    "In this pattern, after four terms (allowing students one additional term to complete the pattern through Circuits I), 90.7% of the students will have completed the Circuits I course.  This dramatic improvement in the success rate for completing Circuits I should produce a much higher graduation rate from the program as a whole for students who enter college not Calculus I ready. This is indeed what happened when this reformed pattern was implemented at Wright St. University."
   ]
  },
  {
   "cell_type": "markdown",
   "metadata": {},
   "source": [
    "## References\n",
    "Accreditation Board for Engineering and Technology (ABET) (2017). Criteria for Accrediting Engineering Programs: Effective for Reviews During the 2017–2018 Accreditation Cycle. www.abet.org.\n",
    "\n",
    "Cornell University, Electrical and Computer Engineering, Program Requirements, (accessed August 10, 2018). www.ece.cornell.edu/ece/programs/undergraduate-programs/majors/program-requirements.\n",
    "\n",
    "Heileman, G. L., Abdallah, C.T., Slim, A., and Hickman, M. (2018). Curricular analytics: A framework for quantifying the impact of curricular reforms and pedagogical innovations. www.arXiv.org, arXiv:1811.09676 [cs.CY].\n",
    "\n",
    "Heileman, G. L., Free, H. W., Abar, O. and Thompson-Arjona, W. G, (2019). CurricularAnalytics.jl Toolbox. https://github.com/heileman/CurricularAnalytics.jl.\n",
    "\n",
    "Klingbeil, N. W., and Bourne, A. (2015). The Wright State model for engineering mathematics education: Longitudinal impact on initially underprepared students. In *Proceedings of the 122nd ASEE Annual Conference*, Seattle, WA.\n",
    "\n",
    "University of Houston, Electrical and Computer Engineering, Program Requirements, 2017-18 Undergradaute Catalog, (accessed August 10, 2018). http://publications.uh.edu/index.php?catoid=25.\n",
    "\n",
    "University of Kentucky, College of Engineering, Electrical Engineering Program, (accessed August 10, 2018). https://www.engr.uky.edu/research-faculty/departments/electrical-computer-engineering/students/undergraduate/electrical."
   ]
  }
 ],
 "metadata": {
  "@webio": {
   "lastCommId": "252ee463b08c4444918b0426bf1d1e3a",
   "lastKernelId": "608747ee-a133-469f-a5ab-d2379c850c6c"
  },
  "kernelspec": {
   "display_name": "Julia 1.6.0",
   "language": "julia",
   "name": "julia-1.6"
  },
  "language_info": {
   "file_extension": ".jl",
   "mimetype": "application/julia",
   "name": "julia",
   "version": "1.6.0"
  }
 },
 "nbformat": 4,
 "nbformat_minor": 2
}
