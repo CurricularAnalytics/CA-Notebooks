{
 "cells": [
  {
   "cell_type": "markdown",
   "metadata": {},
   "source": [
    "# <center>Transfer Pathway Analyses at the University of Arizona</center>"
   ]
  },
  {
   "cell_type": "markdown",
   "metadata": {},
   "source": [
    "## Introduction\n",
    "In this notebook we consider a few of the transfer pathways from community colleges in the State of Arizona to bachelor's degree programs at the University of Arizona. Repeating the analyses provided here, other transfer pathways can easily be considered. Each analysis considers curriculum-based metrics on either side of the institutional boundary articulated in the transfer plan, as well as a comparion of the transfer (2-year-to-4-year) pathway versus the 4-year pathway that does not involve transfer articulation. \n",
    "\n",
    "The following Julia programming language packages are used in this notebook:"
   ]
  },
  {
   "cell_type": "code",
   "execution_count": 18,
   "metadata": {
    "scrolled": true
   },
   "outputs": [
    {
     "ename": "LoadError",
     "evalue": "ArgumentError: Package CurricularOptimization not found in current path:\n- Run `import Pkg; Pkg.add(\"CurricularOptimization\")` to install the CurricularOptimization package.\n",
     "output_type": "error",
     "traceback": [
      "ArgumentError: Package CurricularOptimization not found in current path:\n- Run `import Pkg; Pkg.add(\"CurricularOptimization\")` to install the CurricularOptimization package.\n",
      "",
      "Stacktrace:",
      " [1] require(into::Module, mod::Symbol)",
      "   @ Base ./loading.jl:967",
      " [2] eval",
      "   @ ./boot.jl:373 [inlined]",
      " [3] include_string(mapexpr::typeof(REPL.softscope), mod::Module, code::String, filename::String)",
      "   @ Base ./loading.jl:1196"
     ]
    }
   ],
   "source": [
    "using CurricularAnalytics, CurricularVisualization\n",
    "using CurricularOptimization # add git@github.com:CurricularAnalytics/CurricularOptimization.jl.git\n",
    "using DataFrames\n",
    "using StatsBase\n",
    "using Plots\n",
    "using StatsPlots\n",
    "using CSV\n",
    "using LaTeXStrings\n",
    "using LightGraphs # remove this after new functions are added to toolbox"
   ]
  },
  {
   "cell_type": "markdown",
   "metadata": {},
   "source": [
    "## Pima CC-to-University of Arizona Transfer Pathways \n",
    "Let us first consider the completion pathways for the two populations of students involved in this study, transfer student and non-transfer students. In order to highlight the issues involved in this work, we have selected a few programs that have a high degree of curricular complexity. \n",
    "\n",
    "Consider first the Chemical Engineering program at the University of Arizona for non-transfer students:"
   ]
  },
  {
   "cell_type": "code",
   "execution_count": 19,
   "metadata": {
    "scrolled": false
   },
   "outputs": [
    {
     "name": "stdout",
     "output_type": "stream",
     "text": [
      "\u001b[33mWARNING: Curriculum was created, but is invalid due to requisite cycle(s):\u001b[39m\n",
      "University of Arizona:  curriculum 'Chemical Engineering' has requisite cycles:\n",
      "(Chem Eng Modeling, Chem Eng Mass Xfer, Chem Eng Lab I)\n",
      "(Chem Eng Modeling, Chem Eng Lab I, Chem Eng Mass Xfer)\n",
      "\n"
     ]
    },
    {
     "data": {
      "application/vnd.webio.node+json": {
       "children": [
        {
         "children": [
          ""
         ],
         "instanceArgs": {
          "namespace": "html",
          "tag": "iframe"
         },
         "nodeType": "DOM",
         "props": {
          "events": {
           "load": "(function (){this.contentWindow.postMessage({\"options\":{\"hideTerms\":false,\"edit\":false},\"curriculum\":{\"name\":\"Chemical Engineering\",\"dp_name\":\"2019-20 Degree Plan\",\"curriculum_terms\":[{\"name\":\"Term 1\",\"curriculum_items\":[{\"curriculum_requisites\":[],\"name\":\"MATH 125\",\"metrics\":{\"centrality\":0,\"complexity\":37.0,\"blocking factor\":26,\"delay factor\":11.0},\"nameSub\":\"Calculus I w/ Applications\",\"id\":1,\"credits\":3,\"nameCanonical\":\"\"},{\"curriculum_requisites\":[],\"name\":\"CHEM 151\",\"metrics\":{\"centrality\":0,\"complexity\":31.0,\"blocking factor\":21,\"delay factor\":10.0},\"nameSub\":\"Gen Chemistry I\",\"id\":2,\"credits\":4,\"nameCanonical\":\"\"},{\"curriculum_requisites\":[],\"name\":\"ENGL 101\",\"metrics\":{\"centrality\":0,\"complexity\":3.0,\"blocking factor\":1,\"delay factor\":2.0},\"nameSub\":\"First-year Comp\",\"id\":3,\"credits\":3,\"nameCanonical\":\"\"},{\"curriculum_requisites\":[{\"source_id\":1,\"target_id\":4,\"type\":\"CurriculumCorequisite\"}],\"name\":\"ENGR 102\",\"metrics\":{\"centrality\":163,\"complexity\":25.0,\"blocking factor\":15,\"delay factor\":10.0},\"nameSub\":\"Intro to Engineering\",\"id\":4,\"credits\":3,\"nameCanonical\":\"\"},{\"curriculum_requisites\":[],\"name\":\" \",\"metrics\":{\"centrality\":0,\"complexity\":1.0,\"blocking factor\":0,\"delay factor\":1.0},\"nameSub\":\"Tier I General Ed\",\"id\":5,\"credits\":3,\"nameCanonical\":\"\"}],\"id\":1},{\"name\":\"Term 2\",\"curriculum_items\":[{\"curriculum_requisites\":[{\"source_id\":1,\"target_id\":6,\"type\":\"CurriculumPrerequisite\"}],\"name\":\"MATH 129\",\"metrics\":{\"centrality\":156,\"complexity\":26.0,\"blocking factor\":17,\"delay factor\":9.0},\"nameSub\":\"Calculus II\",\"id\":6,\"credits\":3,\"nameCanonical\":\"\"},{\"curriculum_requisites\":[{\"source_id\":2,\"target_id\":7,\"type\":\"CurriculumPrerequisite\"}],\"name\":\"CHEM 152\",\"metrics\":{\"centrality\":171,\"complexity\":28.0,\"blocking factor\":18,\"delay factor\":10.0},\"nameSub\":\"Gen Chemistry II\",\"id\":7,\"credits\":4,\"nameCanonical\":\"\"},{\"curriculum_requisites\":[{\"source_id\":1,\"target_id\":8,\"type\":\"CurriculumPrerequisite\"}],\"name\":\"PHYS 141\",\"metrics\":{\"centrality\":115,\"complexity\":25.0,\"blocking factor\":16,\"delay factor\":9.0},\"nameSub\":\"Intro Mechanics\",\"id\":8,\"credits\":4,\"nameCanonical\":\"\"},{\"curriculum_requisites\":[{\"source_id\":3,\"target_id\":9,\"type\":\"CurriculumPrerequisite\"}],\"name\":\"ENGL 102\",\"metrics\":{\"centrality\":0,\"complexity\":2.0,\"blocking factor\":0,\"delay factor\":2.0},\"nameSub\":\"First-year Comp.\",\"id\":9,\"credits\":3,\"nameCanonical\":\"\"},{\"curriculum_requisites\":[{\"source_id\":1,\"target_id\":10,\"type\":\"CurriculumCorequisite\"}],\"name\":\"AME 105\",\"metrics\":{\"centrality\":393,\"complexity\":28.0,\"blocking factor\":17,\"delay factor\":11.0},\"nameSub\":\"Intro to MATLAB I\",\"id\":10,\"credits\":1,\"nameCanonical\":\"\"}],\"id\":2},{\"name\":\"Term 3\",\"curriculum_items\":[{\"curriculum_requisites\":[{\"source_id\":4,\"target_id\":11,\"type\":\"CurriculumPrerequisite\"},{\"source_id\":47,\"target_id\":11,\"type\":\"CurriculumCorequisite\"},{\"source_id\":7,\"target_id\":11,\"type\":\"CurriculumPrerequisite\"},{\"source_id\":10,\"target_id\":11,\"type\":\"CurriculumPrerequisite\"},{\"source_id\":1,\"target_id\":11,\"type\":\"CurriculumPrerequisite\"}],\"name\":\"CHEE 201\",\"metrics\":{\"centrality\":815,\"complexity\":25.0,\"blocking factor\":14,\"delay factor\":11.0},\"nameSub\":\"Elements of Chem and Envirn Eng I\",\"id\":11,\"credits\":3,\"nameCanonical\":\"\"},{\"curriculum_requisites\":[{\"source_id\":10,\"target_id\":12,\"type\":\"CurriculumCorequisite\"},{\"source_id\":1,\"target_id\":12,\"type\":\"CurriculumPrerequisite\"}],\"name\":\"CHEE 201L\",\"metrics\":{\"centrality\":86,\"complexity\":17.0,\"blocking factor\":8,\"delay factor\":9.0},\"nameSub\":\"Elements of Chem and Envirn Eng I Lab\",\"id\":12,\"credits\":1,\"nameCanonical\":\"\"},{\"curriculum_requisites\":[{\"source_id\":6,\"target_id\":13,\"type\":\"CurriculumPrerequisite\"}],\"name\":\"MATH  223\",\"metrics\":{\"centrality\":0,\"complexity\":3.0,\"blocking factor\":0,\"delay factor\":3.0},\"nameSub\":\"Vector Calculus\",\"id\":13,\"credits\":4,\"nameCanonical\":\"\"},{\"curriculum_requisites\":[{\"source_id\":7,\"target_id\":14,\"type\":\"CurriculumPrerequisite\"}],\"name\":\"CHEM  241A\",\"metrics\":{\"centrality\":8,\"complexity\":6.0,\"blocking factor\":2,\"delay factor\":4.0},\"nameSub\":\"Lectures in Org Chem\",\"id\":14,\"credits\":3,\"nameCanonical\":\"\"},{\"curriculum_requisites\":[{\"source_id\":14,\"target_id\":15,\"type\":\"CurriculumCorequisite\"}],\"name\":\"CHEM  243A\",\"metrics\":{\"centrality\":0,\"complexity\":4.0,\"blocking factor\":0,\"delay factor\":4.0},\"nameSub\":\"Org Chem Lab\",\"id\":15,\"credits\":1,\"nameCanonical\":\"\"},{\"curriculum_requisites\":[],\"name\":\" \",\"metrics\":{\"centrality\":0,\"complexity\":1.0,\"blocking factor\":0,\"delay factor\":1.0},\"nameSub\":\"Tier I General Ed\",\"id\":16,\"credits\":3,\"nameCanonical\":\"\"},{\"curriculum_requisites\":[{\"source_id\":10,\"target_id\":47,\"type\":\"CurriculumPrerequisite\"}],\"name\":\"AME 205\",\"metrics\":{\"centrality\":184,\"complexity\":26.0,\"blocking factor\":15,\"delay factor\":11.0},\"nameSub\":\"Intro to MATLAB II\",\"id\":47,\"credits\":1,\"nameCanonical\":\"\"}],\"id\":3},{\"name\":\"Term 4\",\"curriculum_items\":[{\"curriculum_requisites\":[{\"source_id\":11,\"target_id\":17,\"type\":\"CurriculumPrerequisite\"},{\"source_id\":12,\"target_id\":17,\"type\":\"CurriculumPrerequisite\"},{\"source_id\":19,\"target_id\":17,\"type\":\"CurriculumCorequisite\"}],\"name\":\"CHEE 202\",\"metrics\":{\"centrality\":362,\"complexity\":17.0,\"blocking factor\":7,\"delay factor\":10.0},\"nameSub\":\"Elements of Chem Eng II\",\"id\":17,\"credits\":4,\"nameCanonical\":\"\"},{\"curriculum_requisites\":[{\"source_id\":11,\"target_id\":18,\"type\":\"CurriculumPrerequisite\"},{\"source_id\":8,\"target_id\":18,\"type\":\"CurriculumPrerequisite\"}],\"name\":\"CHEE 203\",\"metrics\":{\"centrality\":529,\"complexity\":21.0,\"blocking factor\":10,\"delay factor\":11.0},\"nameSub\":\"Chem Eng Heat Xfer & Fluid Flow\",\"id\":18,\"credits\":3,\"nameCanonical\":\"\"},{\"curriculum_requisites\":[{\"source_id\":6,\"target_id\":19,\"type\":\"CurriculumPrerequisite\"}],\"name\":\"MATH 254\",\"metrics\":{\"centrality\":86,\"complexity\":17.0,\"blocking factor\":8,\"delay factor\":9.0},\"nameSub\":\"Intro to ODEs\",\"id\":19,\"credits\":3,\"nameCanonical\":\"\"},{\"curriculum_requisites\":[{\"source_id\":6,\"target_id\":20,\"type\":\"CurriculumPrerequisite\"},{\"source_id\":8,\"target_id\":20,\"type\":\"CurriculumPrerequisite\"}],\"name\":\"PHYS 241\",\"metrics\":{\"centrality\":72,\"complexity\":17.0,\"blocking factor\":9,\"delay factor\":8.0},\"nameSub\":\"Electricity & Magnetism\",\"id\":20,\"credits\":4,\"nameCanonical\":\"\"},{\"curriculum_requisites\":[{\"source_id\":14,\"target_id\":21,\"type\":\"CurriculumPrerequisite\"}],\"name\":\"CHEM 241B\",\"metrics\":{\"centrality\":0,\"complexity\":4.0,\"blocking factor\":0,\"delay factor\":4.0},\"nameSub\":\"Lectures in Org Chem\",\"id\":21,\"credits\":3,\"nameCanonical\":\"\"}],\"id\":4},{\"name\":\"Term 5\",\"curriculum_items\":[{\"curriculum_requisites\":[{\"source_id\":18,\"target_id\":22,\"type\":\"CurriculumPrerequisite\"}],\"name\":\"CHEE 303\",\"metrics\":{\"centrality\":447,\"complexity\":20.0,\"blocking factor\":9,\"delay factor\":11.0},\"nameSub\":\"Chem Eng Mass Xfer\",\"id\":22,\"credits\":3,\"nameCanonical\":\"\"},{\"curriculum_requisites\":[{\"source_id\":22,\"target_id\":23,\"type\":\"CurriculumStrictCorequisite\"},{\"source_id\":17,\"target_id\":23,\"type\":\"CurriculumPrerequisite\"},{\"source_id\":19,\"target_id\":23,\"type\":\"CurriculumPrerequisite\"}],\"name\":\"CHEE 402\",\"metrics\":{\"centrality\":492,\"complexity\":17.0,\"blocking factor\":6,\"delay factor\":11.0},\"nameSub\":\"Chem Eng Modeling\",\"id\":23,\"credits\":3,\"nameCanonical\":\"\"},{\"curriculum_requisites\":[{\"source_id\":22,\"target_id\":24,\"type\":\"CurriculumStrictCorequisite\"},{\"source_id\":18,\"target_id\":24,\"type\":\"CurriculumPrerequisite\"},{\"source_id\":17,\"target_id\":24,\"type\":\"CurriculumPrerequisite\"},{\"source_id\":23,\"target_id\":24,\"type\":\"CurriculumStrictCorequisite\"},{\"source_id\":19,\"target_id\":24,\"type\":\"CurriculumPrerequisite\"}],\"name\":\"CHEE 301A\",\"metrics\":{\"centrality\":544,\"complexity\":14.0,\"blocking factor\":3,\"delay factor\":11.0},\"nameSub\":\"Chem Eng Lab I\",\"id\":24,\"credits\":1,\"nameCanonical\":\"\"},{\"curriculum_requisites\":[],\"name\":\"CHEE 489\",\"metrics\":{\"centrality\":0,\"complexity\":1.0,\"blocking factor\":0,\"delay factor\":1.0},\"nameSub\":\"Trends in Nanomedicine Eng\",\"id\":25,\"credits\":3,\"nameCanonical\":\"\"},{\"curriculum_requisites\":[{\"source_id\":6,\"target_id\":26,\"type\":\"CurriculumPrerequisite\"},{\"source_id\":20,\"target_id\":26,\"type\":\"CurriculumCorequisite\"},{\"source_id\":2,\"target_id\":26,\"type\":\"CurriculumPrerequisite\"}],\"name\":\"CHEM 480A\",\"metrics\":{\"centrality\":129,\"complexity\":16.0,\"blocking factor\":8,\"delay factor\":8.0},\"nameSub\":\"Physical Chem\",\"id\":26,\"credits\":3,\"nameCanonical\":\"\"},{\"curriculum_requisites\":[],\"name\":\" \",\"metrics\":{\"centrality\":0,\"complexity\":1.0,\"blocking factor\":0,\"delay factor\":1.0},\"nameSub\":\"Tier I General Ed\",\"id\":27,\"credits\":3,\"nameCanonical\":\"\"}],\"id\":5},{\"name\":\"Term 6\",\"curriculum_items\":[{\"curriculum_requisites\":[{\"source_id\":22,\"target_id\":28,\"type\":\"CurriculumPrerequisite\"},{\"source_id\":23,\"target_id\":28,\"type\":\"CurriculumPrerequisite\"}],\"name\":\"CHEE 305\",\"metrics\":{\"centrality\":191,\"complexity\":14.0,\"blocking factor\":3,\"delay factor\":11.0},\"nameSub\":\"Chem Eng Transport Phenom\",\"id\":28,\"credits\":3,\"nameCanonical\":\"\"},{\"curriculum_requisites\":[{\"source_id\":11,\"target_id\":29,\"type\":\"CurriculumPrerequisite\"},{\"source_id\":26,\"target_id\":29,\"type\":\"CurriculumPrerequisite\"}],\"name\":\"CHEE 326\",\"metrics\":{\"centrality\":247,\"complexity\":14.0,\"blocking factor\":6,\"delay factor\":8.0},\"nameSub\":\"Chem & Phys Equilibrium\",\"id\":29,\"credits\":3,\"nameCanonical\":\"\"},{\"curriculum_requisites\":[{\"source_id\":22,\"target_id\":31,\"type\":\"CurriculumPrerequisite\"},{\"source_id\":29,\"target_id\":31,\"type\":\"CurriculumStrictCorequisite\"},{\"source_id\":24,\"target_id\":31,\"type\":\"CurriculumPrerequisite\"},{\"source_id\":28,\"target_id\":31,\"type\":\"CurriculumStrictCorequisite\"}],\"name\":\"CHEE 301B\",\"metrics\":{\"centrality\":610,\"complexity\":13.0,\"blocking factor\":2,\"delay factor\":11.0},\"nameSub\":\"Chem Eng Lab II\",\"id\":31,\"credits\":1,\"nameCanonical\":\"\"},{\"curriculum_requisites\":[],\"name\":\" \",\"metrics\":{\"centrality\":0,\"complexity\":1.0,\"blocking factor\":0,\"delay factor\":1.0},\"nameSub\":\"Engineering Elective\",\"id\":32,\"credits\":3,\"nameCanonical\":\"\"},{\"curriculum_requisites\":[],\"name\":\" \",\"metrics\":{\"centrality\":0,\"complexity\":1.0,\"blocking factor\":0,\"delay factor\":1.0},\"nameSub\":\"Technical Elective\",\"id\":33,\"credits\":3,\"nameCanonical\":\"\"},{\"curriculum_requisites\":[],\"name\":\" \",\"metrics\":{\"centrality\":0,\"complexity\":1.0,\"blocking factor\":0,\"delay factor\":1.0},\"nameSub\":\"Tier I General Ed\",\"id\":34,\"credits\":3,\"nameCanonical\":\"\"}],\"id\":6},{\"name\":\"Term 7\",\"curriculum_items\":[{\"curriculum_requisites\":[{\"source_id\":29,\"target_id\":35,\"type\":\"CurriculumPrerequisite\"}],\"name\":\"CHEE 420\",\"metrics\":{\"centrality\":128,\"complexity\":12.0,\"blocking factor\":4,\"delay factor\":8.0},\"nameSub\":\"Chem Reaction Eng\",\"id\":35,\"credits\":3,\"nameCanonical\":\"\"},{\"curriculum_requisites\":[{\"source_id\":22,\"target_id\":36,\"type\":\"CurriculumPrerequisite\"},{\"source_id\":29,\"target_id\":36,\"type\":\"CurriculumPrerequisite\"},{\"source_id\":35,\"target_id\":36,\"type\":\"CurriculumStrictCorequisite\"}],\"name\":\"CHEE 442\",\"metrics\":{\"centrality\":160,\"complexity\":9.0,\"blocking factor\":1,\"delay factor\":8.0},\"nameSub\":\"Chem Eng Design Principles\",\"id\":36,\"credits\":3,\"nameCanonical\":\"\"},{\"curriculum_requisites\":[{\"source_id\":35,\"target_id\":37,\"type\":\"CurriculumCorequisite\"},{\"source_id\":31,\"target_id\":37,\"type\":\"CurriculumPrerequisite\"}],\"name\":\"CHEE 401A\",\"metrics\":{\"centrality\":674,\"complexity\":12.0,\"blocking factor\":1,\"delay factor\":11.0},\"nameSub\":\"Chem and Enviorn Eng Lab I\",\"id\":37,\"credits\":1,\"nameCanonical\":\"\"},{\"curriculum_requisites\":[],\"name\":\" \",\"metrics\":{\"centrality\":0,\"complexity\":1.0,\"blocking factor\":0,\"delay factor\":1.0},\"nameSub\":\"Engineering Elective\",\"id\":38,\"credits\":3,\"nameCanonical\":\"\"},{\"curriculum_requisites\":[{\"source_id\":26,\"target_id\":39,\"type\":\"CurriculumPrerequisite\"}],\"name\":\"CHEM 480B\",\"metrics\":{\"centrality\":0,\"complexity\":5.0,\"blocking factor\":0,\"delay factor\":5.0},\"nameSub\":\"Physical Chem\",\"id\":39,\"credits\":3,\"nameCanonical\":\"\"},{\"curriculum_requisites\":[],\"name\":\" \",\"metrics\":{\"centrality\":0,\"complexity\":1.0,\"blocking factor\":0,\"delay factor\":1.0},\"nameSub\":\"Tier II General Ed\",\"id\":40,\"credits\":3,\"nameCanonical\":\"\"}],\"id\":7},{\"name\":\"Term 8\",\"curriculum_items\":[{\"curriculum_requisites\":[{\"source_id\":23,\"target_id\":41,\"type\":\"CurriculumPrerequisite\"}],\"name\":\"CHEE 413\",\"metrics\":{\"centrality\":108,\"complexity\":10.0,\"blocking factor\":1,\"delay factor\":9.0},\"nameSub\":\"Process Control and Simulation\",\"id\":41,\"credits\":3,\"nameCanonical\":\"\"},{\"curriculum_requisites\":[{\"source_id\":41,\"target_id\":42,\"type\":\"CurriculumCorequisite\"},{\"source_id\":24,\"target_id\":42,\"type\":\"CurriculumPrerequisite\"},{\"source_id\":37,\"target_id\":42,\"type\":\"CurriculumPrerequisite\"}],\"name\":\"CHEE 401B\",\"metrics\":{\"centrality\":0,\"complexity\":11.0,\"blocking factor\":0,\"delay factor\":11.0},\"nameSub\":\"Process Dynamics and Control Lab\",\"id\":42,\"credits\":1,\"nameCanonical\":\"\"},{\"curriculum_requisites\":[{\"source_id\":36,\"target_id\":43,\"type\":\"CurriculumPrerequisite\"}],\"name\":\"CHEE 443\",\"metrics\":{\"centrality\":0,\"complexity\":8.0,\"blocking factor\":0,\"delay factor\":8.0},\"nameSub\":\"Chem Eng Plant Design\",\"id\":43,\"credits\":3,\"nameCanonical\":\"\"},{\"curriculum_requisites\":[],\"name\":\" \",\"metrics\":{\"centrality\":0,\"complexity\":1.0,\"blocking factor\":0,\"delay factor\":1.0},\"nameSub\":\"Engineering Elective\",\"id\":44,\"credits\":3,\"nameCanonical\":\"\"},{\"curriculum_requisites\":[],\"name\":\" \",\"metrics\":{\"centrality\":0,\"complexity\":1.0,\"blocking factor\":0,\"delay factor\":1.0},\"nameSub\":\"Technical Elective\",\"id\":45,\"credits\":3,\"nameCanonical\":\"\"},{\"curriculum_requisites\":[],\"name\":\" \",\"metrics\":{\"centrality\":0,\"complexity\":1.0,\"blocking factor\":0,\"delay factor\":1.0},\"nameSub\":\"Tier II General Ed\",\"id\":46,\"credits\":3,\"nameCanonical\":\"\"}],\"id\":8}],\"institution\":\"University of Arizona\"}},\"*\"); window.removeEventListener(\"message\",window.messageReceived); window.messageReceived=(function (event){return (event.data.curriculum!==undefined) ? (WebIO.setval({\"name\":\"curriculum-data\",\"scope\":\"3408441405120621895\",\"id\":\"5933751363391028629\",\"type\":\"observable\"},event.data.curriculum)) : undefined}); return window.addEventListener(\"message\",window.messageReceived)})"
          },
          "id": "curriculum",
          "src": "https://curricula-api-embed.damoursystems.com/",
          "style": {
           "border": "none",
           "height": "85vh",
           "margin": "0",
           "padding": "0",
           "width": "100%"
          }
         },
         "type": "node"
        }
       ],
       "instanceArgs": {
        "handlers": {},
        "id": "3408441405120621895",
        "imports": {
         "data": [],
         "type": "async_block"
        },
        "mount_callbacks": [],
        "observables": {
         "curriculum-data": {
          "id": "5933751363391028629",
          "sync": true,
          "value": {
           "curriculum": {
            "curriculum_terms": [
             {
              "curriculum_items": [
               {
                "credits": 3,
                "curriculum_requisites": [],
                "id": 1,
                "metrics": {
                 "blocking factor": 26,
                 "centrality": 0,
                 "complexity": 37,
                 "delay factor": 11
                },
                "name": "MATH 125",
                "nameCanonical": "",
                "nameSub": "Calculus I w/ Applications"
               },
               {
                "credits": 4,
                "curriculum_requisites": [],
                "id": 2,
                "metrics": {
                 "blocking factor": 21,
                 "centrality": 0,
                 "complexity": 31,
                 "delay factor": 10
                },
                "name": "CHEM 151",
                "nameCanonical": "",
                "nameSub": "Gen Chemistry I"
               },
               {
                "credits": 3,
                "curriculum_requisites": [],
                "id": 3,
                "metrics": {
                 "blocking factor": 1,
                 "centrality": 0,
                 "complexity": 3,
                 "delay factor": 2
                },
                "name": "ENGL 101",
                "nameCanonical": "",
                "nameSub": "First-year Comp"
               },
               {
                "credits": 3,
                "curriculum_requisites": [
                 {
                  "source_id": 1,
                  "target_id": 4,
                  "type": "CurriculumCorequisite"
                 }
                ],
                "id": 4,
                "metrics": {
                 "blocking factor": 15,
                 "centrality": 163,
                 "complexity": 25,
                 "delay factor": 10
                },
                "name": "ENGR 102",
                "nameCanonical": "",
                "nameSub": "Intro to Engineering"
               },
               {
                "credits": 3,
                "curriculum_requisites": [],
                "id": 5,
                "metrics": {
                 "blocking factor": 0,
                 "centrality": 0,
                 "complexity": 1,
                 "delay factor": 1
                },
                "name": " ",
                "nameCanonical": "",
                "nameSub": "Tier I General Ed"
               }
              ],
              "id": 1,
              "name": "Term 1"
             },
             {
              "curriculum_items": [
               {
                "credits": 3,
                "curriculum_requisites": [
                 {
                  "source_id": 1,
                  "target_id": 6,
                  "type": "CurriculumPrerequisite"
                 }
                ],
                "id": 6,
                "metrics": {
                 "blocking factor": 17,
                 "centrality": 156,
                 "complexity": 26,
                 "delay factor": 9
                },
                "name": "MATH 129",
                "nameCanonical": "",
                "nameSub": "Calculus II"
               },
               {
                "credits": 4,
                "curriculum_requisites": [
                 {
                  "source_id": 2,
                  "target_id": 7,
                  "type": "CurriculumPrerequisite"
                 }
                ],
                "id": 7,
                "metrics": {
                 "blocking factor": 18,
                 "centrality": 171,
                 "complexity": 28,
                 "delay factor": 10
                },
                "name": "CHEM 152",
                "nameCanonical": "",
                "nameSub": "Gen Chemistry II"
               },
               {
                "credits": 4,
                "curriculum_requisites": [
                 {
                  "source_id": 1,
                  "target_id": 8,
                  "type": "CurriculumPrerequisite"
                 }
                ],
                "id": 8,
                "metrics": {
                 "blocking factor": 16,
                 "centrality": 115,
                 "complexity": 25,
                 "delay factor": 9
                },
                "name": "PHYS 141",
                "nameCanonical": "",
                "nameSub": "Intro Mechanics"
               },
               {
                "credits": 3,
                "curriculum_requisites": [
                 {
                  "source_id": 3,
                  "target_id": 9,
                  "type": "CurriculumPrerequisite"
                 }
                ],
                "id": 9,
                "metrics": {
                 "blocking factor": 0,
                 "centrality": 0,
                 "complexity": 2,
                 "delay factor": 2
                },
                "name": "ENGL 102",
                "nameCanonical": "",
                "nameSub": "First-year Comp."
               },
               {
                "credits": 1,
                "curriculum_requisites": [
                 {
                  "source_id": 1,
                  "target_id": 10,
                  "type": "CurriculumCorequisite"
                 }
                ],
                "id": 10,
                "metrics": {
                 "blocking factor": 17,
                 "centrality": 393,
                 "complexity": 28,
                 "delay factor": 11
                },
                "name": "AME 105",
                "nameCanonical": "",
                "nameSub": "Intro to MATLAB I"
               }
              ],
              "id": 2,
              "name": "Term 2"
             },
             {
              "curriculum_items": [
               {
                "credits": 3,
                "curriculum_requisites": [
                 {
                  "source_id": 4,
                  "target_id": 11,
                  "type": "CurriculumPrerequisite"
                 },
                 {
                  "source_id": 47,
                  "target_id": 11,
                  "type": "CurriculumCorequisite"
                 },
                 {
                  "source_id": 7,
                  "target_id": 11,
                  "type": "CurriculumPrerequisite"
                 },
                 {
                  "source_id": 10,
                  "target_id": 11,
                  "type": "CurriculumPrerequisite"
                 },
                 {
                  "source_id": 1,
                  "target_id": 11,
                  "type": "CurriculumPrerequisite"
                 }
                ],
                "id": 11,
                "metrics": {
                 "blocking factor": 14,
                 "centrality": 815,
                 "complexity": 25,
                 "delay factor": 11
                },
                "name": "CHEE 201",
                "nameCanonical": "",
                "nameSub": "Elements of Chem and Envirn Eng I"
               },
               {
                "credits": 1,
                "curriculum_requisites": [
                 {
                  "source_id": 10,
                  "target_id": 12,
                  "type": "CurriculumCorequisite"
                 },
                 {
                  "source_id": 1,
                  "target_id": 12,
                  "type": "CurriculumPrerequisite"
                 }
                ],
                "id": 12,
                "metrics": {
                 "blocking factor": 8,
                 "centrality": 86,
                 "complexity": 17,
                 "delay factor": 9
                },
                "name": "CHEE 201L",
                "nameCanonical": "",
                "nameSub": "Elements of Chem and Envirn Eng I Lab"
               },
               {
                "credits": 4,
                "curriculum_requisites": [
                 {
                  "source_id": 6,
                  "target_id": 13,
                  "type": "CurriculumPrerequisite"
                 }
                ],
                "id": 13,
                "metrics": {
                 "blocking factor": 0,
                 "centrality": 0,
                 "complexity": 3,
                 "delay factor": 3
                },
                "name": "MATH  223",
                "nameCanonical": "",
                "nameSub": "Vector Calculus"
               },
               {
                "credits": 3,
                "curriculum_requisites": [
                 {
                  "source_id": 7,
                  "target_id": 14,
                  "type": "CurriculumPrerequisite"
                 }
                ],
                "id": 14,
                "metrics": {
                 "blocking factor": 2,
                 "centrality": 8,
                 "complexity": 6,
                 "delay factor": 4
                },
                "name": "CHEM  241A",
                "nameCanonical": "",
                "nameSub": "Lectures in Org Chem"
               },
               {
                "credits": 1,
                "curriculum_requisites": [
                 {
                  "source_id": 14,
                  "target_id": 15,
                  "type": "CurriculumCorequisite"
                 }
                ],
                "id": 15,
                "metrics": {
                 "blocking factor": 0,
                 "centrality": 0,
                 "complexity": 4,
                 "delay factor": 4
                },
                "name": "CHEM  243A",
                "nameCanonical": "",
                "nameSub": "Org Chem Lab"
               },
               {
                "credits": 3,
                "curriculum_requisites": [],
                "id": 16,
                "metrics": {
                 "blocking factor": 0,
                 "centrality": 0,
                 "complexity": 1,
                 "delay factor": 1
                },
                "name": " ",
                "nameCanonical": "",
                "nameSub": "Tier I General Ed"
               },
               {
                "credits": 1,
                "curriculum_requisites": [
                 {
                  "source_id": 10,
                  "target_id": 47,
                  "type": "CurriculumPrerequisite"
                 }
                ],
                "id": 47,
                "metrics": {
                 "blocking factor": 15,
                 "centrality": 184,
                 "complexity": 26,
                 "delay factor": 11
                },
                "name": "AME 205",
                "nameCanonical": "",
                "nameSub": "Intro to MATLAB II"
               }
              ],
              "id": 3,
              "name": "Term 3"
             },
             {
              "curriculum_items": [
               {
                "credits": 4,
                "curriculum_requisites": [
                 {
                  "source_id": 11,
                  "target_id": 17,
                  "type": "CurriculumPrerequisite"
                 },
                 {
                  "source_id": 12,
                  "target_id": 17,
                  "type": "CurriculumPrerequisite"
                 },
                 {
                  "source_id": 19,
                  "target_id": 17,
                  "type": "CurriculumCorequisite"
                 }
                ],
                "id": 17,
                "metrics": {
                 "blocking factor": 7,
                 "centrality": 362,
                 "complexity": 17,
                 "delay factor": 10
                },
                "name": "CHEE 202",
                "nameCanonical": "",
                "nameSub": "Elements of Chem Eng II"
               },
               {
                "credits": 3,
                "curriculum_requisites": [
                 {
                  "source_id": 11,
                  "target_id": 18,
                  "type": "CurriculumPrerequisite"
                 },
                 {
                  "source_id": 8,
                  "target_id": 18,
                  "type": "CurriculumPrerequisite"
                 }
                ],
                "id": 18,
                "metrics": {
                 "blocking factor": 10,
                 "centrality": 529,
                 "complexity": 21,
                 "delay factor": 11
                },
                "name": "CHEE 203",
                "nameCanonical": "",
                "nameSub": "Chem Eng Heat Xfer & Fluid Flow"
               },
               {
                "credits": 3,
                "curriculum_requisites": [
                 {
                  "source_id": 6,
                  "target_id": 19,
                  "type": "CurriculumPrerequisite"
                 }
                ],
                "id": 19,
                "metrics": {
                 "blocking factor": 8,
                 "centrality": 86,
                 "complexity": 17,
                 "delay factor": 9
                },
                "name": "MATH 254",
                "nameCanonical": "",
                "nameSub": "Intro to ODEs"
               },
               {
                "credits": 4,
                "curriculum_requisites": [
                 {
                  "source_id": 6,
                  "target_id": 20,
                  "type": "CurriculumPrerequisite"
                 },
                 {
                  "source_id": 8,
                  "target_id": 20,
                  "type": "CurriculumPrerequisite"
                 }
                ],
                "id": 20,
                "metrics": {
                 "blocking factor": 9,
                 "centrality": 72,
                 "complexity": 17,
                 "delay factor": 8
                },
                "name": "PHYS 241",
                "nameCanonical": "",
                "nameSub": "Electricity & Magnetism"
               },
               {
                "credits": 3,
                "curriculum_requisites": [
                 {
                  "source_id": 14,
                  "target_id": 21,
                  "type": "CurriculumPrerequisite"
                 }
                ],
                "id": 21,
                "metrics": {
                 "blocking factor": 0,
                 "centrality": 0,
                 "complexity": 4,
                 "delay factor": 4
                },
                "name": "CHEM 241B",
                "nameCanonical": "",
                "nameSub": "Lectures in Org Chem"
               }
              ],
              "id": 4,
              "name": "Term 4"
             },
             {
              "curriculum_items": [
               {
                "credits": 3,
                "curriculum_requisites": [
                 {
                  "source_id": 18,
                  "target_id": 22,
                  "type": "CurriculumPrerequisite"
                 }
                ],
                "id": 22,
                "metrics": {
                 "blocking factor": 9,
                 "centrality": 447,
                 "complexity": 20,
                 "delay factor": 11
                },
                "name": "CHEE 303",
                "nameCanonical": "",
                "nameSub": "Chem Eng Mass Xfer"
               },
               {
                "credits": 3,
                "curriculum_requisites": [
                 {
                  "source_id": 22,
                  "target_id": 23,
                  "type": "CurriculumStrictCorequisite"
                 },
                 {
                  "source_id": 17,
                  "target_id": 23,
                  "type": "CurriculumPrerequisite"
                 },
                 {
                  "source_id": 19,
                  "target_id": 23,
                  "type": "CurriculumPrerequisite"
                 }
                ],
                "id": 23,
                "metrics": {
                 "blocking factor": 6,
                 "centrality": 492,
                 "complexity": 17,
                 "delay factor": 11
                },
                "name": "CHEE 402",
                "nameCanonical": "",
                "nameSub": "Chem Eng Modeling"
               },
               {
                "credits": 1,
                "curriculum_requisites": [
                 {
                  "source_id": 22,
                  "target_id": 24,
                  "type": "CurriculumStrictCorequisite"
                 },
                 {
                  "source_id": 18,
                  "target_id": 24,
                  "type": "CurriculumPrerequisite"
                 },
                 {
                  "source_id": 17,
                  "target_id": 24,
                  "type": "CurriculumPrerequisite"
                 },
                 {
                  "source_id": 23,
                  "target_id": 24,
                  "type": "CurriculumStrictCorequisite"
                 },
                 {
                  "source_id": 19,
                  "target_id": 24,
                  "type": "CurriculumPrerequisite"
                 }
                ],
                "id": 24,
                "metrics": {
                 "blocking factor": 3,
                 "centrality": 544,
                 "complexity": 14,
                 "delay factor": 11
                },
                "name": "CHEE 301A",
                "nameCanonical": "",
                "nameSub": "Chem Eng Lab I"
               },
               {
                "credits": 3,
                "curriculum_requisites": [],
                "id": 25,
                "metrics": {
                 "blocking factor": 0,
                 "centrality": 0,
                 "complexity": 1,
                 "delay factor": 1
                },
                "name": "CHEE 489",
                "nameCanonical": "",
                "nameSub": "Trends in Nanomedicine Eng"
               },
               {
                "credits": 3,
                "curriculum_requisites": [
                 {
                  "source_id": 6,
                  "target_id": 26,
                  "type": "CurriculumPrerequisite"
                 },
                 {
                  "source_id": 20,
                  "target_id": 26,
                  "type": "CurriculumCorequisite"
                 },
                 {
                  "source_id": 2,
                  "target_id": 26,
                  "type": "CurriculumPrerequisite"
                 }
                ],
                "id": 26,
                "metrics": {
                 "blocking factor": 8,
                 "centrality": 129,
                 "complexity": 16,
                 "delay factor": 8
                },
                "name": "CHEM 480A",
                "nameCanonical": "",
                "nameSub": "Physical Chem"
               },
               {
                "credits": 3,
                "curriculum_requisites": [],
                "id": 27,
                "metrics": {
                 "blocking factor": 0,
                 "centrality": 0,
                 "complexity": 1,
                 "delay factor": 1
                },
                "name": " ",
                "nameCanonical": "",
                "nameSub": "Tier I General Ed"
               }
              ],
              "id": 5,
              "name": "Term 5"
             },
             {
              "curriculum_items": [
               {
                "credits": 3,
                "curriculum_requisites": [
                 {
                  "source_id": 22,
                  "target_id": 28,
                  "type": "CurriculumPrerequisite"
                 },
                 {
                  "source_id": 23,
                  "target_id": 28,
                  "type": "CurriculumPrerequisite"
                 }
                ],
                "id": 28,
                "metrics": {
                 "blocking factor": 3,
                 "centrality": 191,
                 "complexity": 14,
                 "delay factor": 11
                },
                "name": "CHEE 305",
                "nameCanonical": "",
                "nameSub": "Chem Eng Transport Phenom"
               },
               {
                "credits": 3,
                "curriculum_requisites": [
                 {
                  "source_id": 11,
                  "target_id": 29,
                  "type": "CurriculumPrerequisite"
                 },
                 {
                  "source_id": 26,
                  "target_id": 29,
                  "type": "CurriculumPrerequisite"
                 }
                ],
                "id": 29,
                "metrics": {
                 "blocking factor": 6,
                 "centrality": 247,
                 "complexity": 14,
                 "delay factor": 8
                },
                "name": "CHEE 326",
                "nameCanonical": "",
                "nameSub": "Chem & Phys Equilibrium"
               },
               {
                "credits": 1,
                "curriculum_requisites": [
                 {
                  "source_id": 22,
                  "target_id": 31,
                  "type": "CurriculumPrerequisite"
                 },
                 {
                  "source_id": 29,
                  "target_id": 31,
                  "type": "CurriculumStrictCorequisite"
                 },
                 {
                  "source_id": 24,
                  "target_id": 31,
                  "type": "CurriculumPrerequisite"
                 },
                 {
                  "source_id": 28,
                  "target_id": 31,
                  "type": "CurriculumStrictCorequisite"
                 }
                ],
                "id": 31,
                "metrics": {
                 "blocking factor": 2,
                 "centrality": 610,
                 "complexity": 13,
                 "delay factor": 11
                },
                "name": "CHEE 301B",
                "nameCanonical": "",
                "nameSub": "Chem Eng Lab II"
               },
               {
                "credits": 3,
                "curriculum_requisites": [],
                "id": 32,
                "metrics": {
                 "blocking factor": 0,
                 "centrality": 0,
                 "complexity": 1,
                 "delay factor": 1
                },
                "name": " ",
                "nameCanonical": "",
                "nameSub": "Engineering Elective"
               },
               {
                "credits": 3,
                "curriculum_requisites": [],
                "id": 33,
                "metrics": {
                 "blocking factor": 0,
                 "centrality": 0,
                 "complexity": 1,
                 "delay factor": 1
                },
                "name": " ",
                "nameCanonical": "",
                "nameSub": "Technical Elective"
               },
               {
                "credits": 3,
                "curriculum_requisites": [],
                "id": 34,
                "metrics": {
                 "blocking factor": 0,
                 "centrality": 0,
                 "complexity": 1,
                 "delay factor": 1
                },
                "name": " ",
                "nameCanonical": "",
                "nameSub": "Tier I General Ed"
               }
              ],
              "id": 6,
              "name": "Term 6"
             },
             {
              "curriculum_items": [
               {
                "credits": 3,
                "curriculum_requisites": [
                 {
                  "source_id": 29,
                  "target_id": 35,
                  "type": "CurriculumPrerequisite"
                 }
                ],
                "id": 35,
                "metrics": {
                 "blocking factor": 4,
                 "centrality": 128,
                 "complexity": 12,
                 "delay factor": 8
                },
                "name": "CHEE 420",
                "nameCanonical": "",
                "nameSub": "Chem Reaction Eng"
               },
               {
                "credits": 3,
                "curriculum_requisites": [
                 {
                  "source_id": 22,
                  "target_id": 36,
                  "type": "CurriculumPrerequisite"
                 },
                 {
                  "source_id": 29,
                  "target_id": 36,
                  "type": "CurriculumPrerequisite"
                 },
                 {
                  "source_id": 35,
                  "target_id": 36,
                  "type": "CurriculumStrictCorequisite"
                 }
                ],
                "id": 36,
                "metrics": {
                 "blocking factor": 1,
                 "centrality": 160,
                 "complexity": 9,
                 "delay factor": 8
                },
                "name": "CHEE 442",
                "nameCanonical": "",
                "nameSub": "Chem Eng Design Principles"
               },
               {
                "credits": 1,
                "curriculum_requisites": [
                 {
                  "source_id": 35,
                  "target_id": 37,
                  "type": "CurriculumCorequisite"
                 },
                 {
                  "source_id": 31,
                  "target_id": 37,
                  "type": "CurriculumPrerequisite"
                 }
                ],
                "id": 37,
                "metrics": {
                 "blocking factor": 1,
                 "centrality": 674,
                 "complexity": 12,
                 "delay factor": 11
                },
                "name": "CHEE 401A",
                "nameCanonical": "",
                "nameSub": "Chem and Enviorn Eng Lab I"
               },
               {
                "credits": 3,
                "curriculum_requisites": [],
                "id": 38,
                "metrics": {
                 "blocking factor": 0,
                 "centrality": 0,
                 "complexity": 1,
                 "delay factor": 1
                },
                "name": " ",
                "nameCanonical": "",
                "nameSub": "Engineering Elective"
               },
               {
                "credits": 3,
                "curriculum_requisites": [
                 {
                  "source_id": 26,
                  "target_id": 39,
                  "type": "CurriculumPrerequisite"
                 }
                ],
                "id": 39,
                "metrics": {
                 "blocking factor": 0,
                 "centrality": 0,
                 "complexity": 5,
                 "delay factor": 5
                },
                "name": "CHEM 480B",
                "nameCanonical": "",
                "nameSub": "Physical Chem"
               },
               {
                "credits": 3,
                "curriculum_requisites": [],
                "id": 40,
                "metrics": {
                 "blocking factor": 0,
                 "centrality": 0,
                 "complexity": 1,
                 "delay factor": 1
                },
                "name": " ",
                "nameCanonical": "",
                "nameSub": "Tier II General Ed"
               }
              ],
              "id": 7,
              "name": "Term 7"
             },
             {
              "curriculum_items": [
               {
                "credits": 3,
                "curriculum_requisites": [
                 {
                  "source_id": 23,
                  "target_id": 41,
                  "type": "CurriculumPrerequisite"
                 }
                ],
                "id": 41,
                "metrics": {
                 "blocking factor": 1,
                 "centrality": 108,
                 "complexity": 10,
                 "delay factor": 9
                },
                "name": "CHEE 413",
                "nameCanonical": "",
                "nameSub": "Process Control and Simulation"
               },
               {
                "credits": 1,
                "curriculum_requisites": [
                 {
                  "source_id": 41,
                  "target_id": 42,
                  "type": "CurriculumCorequisite"
                 },
                 {
                  "source_id": 24,
                  "target_id": 42,
                  "type": "CurriculumPrerequisite"
                 },
                 {
                  "source_id": 37,
                  "target_id": 42,
                  "type": "CurriculumPrerequisite"
                 }
                ],
                "id": 42,
                "metrics": {
                 "blocking factor": 0,
                 "centrality": 0,
                 "complexity": 11,
                 "delay factor": 11
                },
                "name": "CHEE 401B",
                "nameCanonical": "",
                "nameSub": "Process Dynamics and Control Lab"
               },
               {
                "credits": 3,
                "curriculum_requisites": [
                 {
                  "source_id": 36,
                  "target_id": 43,
                  "type": "CurriculumPrerequisite"
                 }
                ],
                "id": 43,
                "metrics": {
                 "blocking factor": 0,
                 "centrality": 0,
                 "complexity": 8,
                 "delay factor": 8
                },
                "name": "CHEE 443",
                "nameCanonical": "",
                "nameSub": "Chem Eng Plant Design"
               },
               {
                "credits": 3,
                "curriculum_requisites": [],
                "id": 44,
                "metrics": {
                 "blocking factor": 0,
                 "centrality": 0,
                 "complexity": 1,
                 "delay factor": 1
                },
                "name": " ",
                "nameCanonical": "",
                "nameSub": "Engineering Elective"
               },
               {
                "credits": 3,
                "curriculum_requisites": [],
                "id": 45,
                "metrics": {
                 "blocking factor": 0,
                 "centrality": 0,
                 "complexity": 1,
                 "delay factor": 1
                },
                "name": " ",
                "nameCanonical": "",
                "nameSub": "Technical Elective"
               },
               {
                "credits": 3,
                "curriculum_requisites": [],
                "id": 46,
                "metrics": {
                 "blocking factor": 0,
                 "centrality": 0,
                 "complexity": 1,
                 "delay factor": 1
                },
                "name": " ",
                "nameCanonical": "",
                "nameSub": "Tier II General Ed"
               }
              ],
              "id": 8,
              "name": "Term 8"
             }
            ],
            "dp_name": "2019-20 Degree Plan",
            "institution": "University of Arizona",
            "name": "Chemical Engineering"
           },
           "options": {
            "edit": false,
            "hideTerms": false
           }
          }
         }
        },
        "systemjs_options": null
       },
       "nodeType": "Scope",
       "props": {},
       "type": "node"
      },
      "text/html": [
       "<div\n",
       "    class=\"webio-mountpoint\"\n",
       "    data-webio-mountpoint=\"9423935297376717545\"\n",
       ">\n",
       "    <script>\n",
       "    (function(){\n",
       "    // Some integrations (namely, IJulia/Jupyter) use an alternate render pathway than\n",
       "    // just putting the html on the page. If WebIO isn't defined, then it's pretty likely\n",
       "    // that we're in one of those situations and the integration just isn't installed\n",
       "    // correctly.\n",
       "    if (typeof window.WebIO === \"undefined\") {\n",
       "        document\n",
       "            .querySelector('[data-webio-mountpoint=\"9423935297376717545\"]')\n",
       "            .innerHTML = (\n",
       "                '<div style=\"padding: 1em; background-color: #f8d6da; border: 1px solid #f5c6cb; font-weight: bold;\">' +\n",
       "                '<p><strong>WebIO not detected.</strong></p>' +\n",
       "                '<p>Please read ' +\n",
       "                '<a href=\"https://juliagizmos.github.io/WebIO.jl/latest/troubleshooting/not-detected/\" target=\"_blank\">the troubleshooting guide</a> ' +\n",
       "                'for more information on how to resolve this issue.</p>' +\n",
       "                '<p><a href=\"https://juliagizmos.github.io/WebIO.jl/latest/troubleshooting/not-detected/\" target=\"_blank\">https://juliagizmos.github.io/WebIO.jl/latest/troubleshooting/not-detected/</a></p>' +\n",
       "                '</div>'\n",
       "            );\n",
       "        return;\n",
       "    }\n",
       "    WebIO.mount(\n",
       "        document.querySelector('[data-webio-mountpoint=\"9423935297376717545\"]'),\n",
       "        {\"props\":{},\"nodeType\":\"Scope\",\"type\":\"node\",\"instanceArgs\":{\"imports\":{\"data\":[],\"type\":\"async_block\"},\"id\":\"3408441405120621895\",\"handlers\":{},\"systemjs_options\":null,\"mount_callbacks\":[],\"observables\":{\"curriculum-data\":{\"sync\":true,\"id\":\"5933751363391028629\",\"value\":{\"options\":{\"hideTerms\":false,\"edit\":false},\"curriculum\":{\"name\":\"Chemical Engineering\",\"dp_name\":\"2019-20 Degree Plan\",\"curriculum_terms\":[{\"name\":\"Term 1\",\"curriculum_items\":[{\"curriculum_requisites\":[],\"name\":\"MATH 125\",\"metrics\":{\"centrality\":0,\"complexity\":37.0,\"blocking factor\":26,\"delay factor\":11.0},\"nameSub\":\"Calculus I w\\/ Applications\",\"id\":1,\"credits\":3,\"nameCanonical\":\"\"},{\"curriculum_requisites\":[],\"name\":\"CHEM 151\",\"metrics\":{\"centrality\":0,\"complexity\":31.0,\"blocking factor\":21,\"delay factor\":10.0},\"nameSub\":\"Gen Chemistry I\",\"id\":2,\"credits\":4,\"nameCanonical\":\"\"},{\"curriculum_requisites\":[],\"name\":\"ENGL 101\",\"metrics\":{\"centrality\":0,\"complexity\":3.0,\"blocking factor\":1,\"delay factor\":2.0},\"nameSub\":\"First-year Comp\",\"id\":3,\"credits\":3,\"nameCanonical\":\"\"},{\"curriculum_requisites\":[{\"source_id\":1,\"target_id\":4,\"type\":\"CurriculumCorequisite\"}],\"name\":\"ENGR 102\",\"metrics\":{\"centrality\":163,\"complexity\":25.0,\"blocking factor\":15,\"delay factor\":10.0},\"nameSub\":\"Intro to Engineering\",\"id\":4,\"credits\":3,\"nameCanonical\":\"\"},{\"curriculum_requisites\":[],\"name\":\" \",\"metrics\":{\"centrality\":0,\"complexity\":1.0,\"blocking factor\":0,\"delay factor\":1.0},\"nameSub\":\"Tier I General Ed\",\"id\":5,\"credits\":3,\"nameCanonical\":\"\"}],\"id\":1},{\"name\":\"Term 2\",\"curriculum_items\":[{\"curriculum_requisites\":[{\"source_id\":1,\"target_id\":6,\"type\":\"CurriculumPrerequisite\"}],\"name\":\"MATH 129\",\"metrics\":{\"centrality\":156,\"complexity\":26.0,\"blocking factor\":17,\"delay factor\":9.0},\"nameSub\":\"Calculus II\",\"id\":6,\"credits\":3,\"nameCanonical\":\"\"},{\"curriculum_requisites\":[{\"source_id\":2,\"target_id\":7,\"type\":\"CurriculumPrerequisite\"}],\"name\":\"CHEM 152\",\"metrics\":{\"centrality\":171,\"complexity\":28.0,\"blocking factor\":18,\"delay factor\":10.0},\"nameSub\":\"Gen Chemistry II\",\"id\":7,\"credits\":4,\"nameCanonical\":\"\"},{\"curriculum_requisites\":[{\"source_id\":1,\"target_id\":8,\"type\":\"CurriculumPrerequisite\"}],\"name\":\"PHYS 141\",\"metrics\":{\"centrality\":115,\"complexity\":25.0,\"blocking factor\":16,\"delay factor\":9.0},\"nameSub\":\"Intro Mechanics\",\"id\":8,\"credits\":4,\"nameCanonical\":\"\"},{\"curriculum_requisites\":[{\"source_id\":3,\"target_id\":9,\"type\":\"CurriculumPrerequisite\"}],\"name\":\"ENGL 102\",\"metrics\":{\"centrality\":0,\"complexity\":2.0,\"blocking factor\":0,\"delay factor\":2.0},\"nameSub\":\"First-year Comp.\",\"id\":9,\"credits\":3,\"nameCanonical\":\"\"},{\"curriculum_requisites\":[{\"source_id\":1,\"target_id\":10,\"type\":\"CurriculumCorequisite\"}],\"name\":\"AME 105\",\"metrics\":{\"centrality\":393,\"complexity\":28.0,\"blocking factor\":17,\"delay factor\":11.0},\"nameSub\":\"Intro to MATLAB I\",\"id\":10,\"credits\":1,\"nameCanonical\":\"\"}],\"id\":2},{\"name\":\"Term 3\",\"curriculum_items\":[{\"curriculum_requisites\":[{\"source_id\":4,\"target_id\":11,\"type\":\"CurriculumPrerequisite\"},{\"source_id\":47,\"target_id\":11,\"type\":\"CurriculumCorequisite\"},{\"source_id\":7,\"target_id\":11,\"type\":\"CurriculumPrerequisite\"},{\"source_id\":10,\"target_id\":11,\"type\":\"CurriculumPrerequisite\"},{\"source_id\":1,\"target_id\":11,\"type\":\"CurriculumPrerequisite\"}],\"name\":\"CHEE 201\",\"metrics\":{\"centrality\":815,\"complexity\":25.0,\"blocking factor\":14,\"delay factor\":11.0},\"nameSub\":\"Elements of Chem and Envirn Eng I\",\"id\":11,\"credits\":3,\"nameCanonical\":\"\"},{\"curriculum_requisites\":[{\"source_id\":10,\"target_id\":12,\"type\":\"CurriculumCorequisite\"},{\"source_id\":1,\"target_id\":12,\"type\":\"CurriculumPrerequisite\"}],\"name\":\"CHEE 201L\",\"metrics\":{\"centrality\":86,\"complexity\":17.0,\"blocking factor\":8,\"delay factor\":9.0},\"nameSub\":\"Elements of Chem and Envirn Eng I Lab\",\"id\":12,\"credits\":1,\"nameCanonical\":\"\"},{\"curriculum_requisites\":[{\"source_id\":6,\"target_id\":13,\"type\":\"CurriculumPrerequisite\"}],\"name\":\"MATH  223\",\"metrics\":{\"centrality\":0,\"complexity\":3.0,\"blocking factor\":0,\"delay factor\":3.0},\"nameSub\":\"Vector Calculus\",\"id\":13,\"credits\":4,\"nameCanonical\":\"\"},{\"curriculum_requisites\":[{\"source_id\":7,\"target_id\":14,\"type\":\"CurriculumPrerequisite\"}],\"name\":\"CHEM  241A\",\"metrics\":{\"centrality\":8,\"complexity\":6.0,\"blocking factor\":2,\"delay factor\":4.0},\"nameSub\":\"Lectures in Org Chem\",\"id\":14,\"credits\":3,\"nameCanonical\":\"\"},{\"curriculum_requisites\":[{\"source_id\":14,\"target_id\":15,\"type\":\"CurriculumCorequisite\"}],\"name\":\"CHEM  243A\",\"metrics\":{\"centrality\":0,\"complexity\":4.0,\"blocking factor\":0,\"delay factor\":4.0},\"nameSub\":\"Org Chem Lab\",\"id\":15,\"credits\":1,\"nameCanonical\":\"\"},{\"curriculum_requisites\":[],\"name\":\" \",\"metrics\":{\"centrality\":0,\"complexity\":1.0,\"blocking factor\":0,\"delay factor\":1.0},\"nameSub\":\"Tier I General Ed\",\"id\":16,\"credits\":3,\"nameCanonical\":\"\"},{\"curriculum_requisites\":[{\"source_id\":10,\"target_id\":47,\"type\":\"CurriculumPrerequisite\"}],\"name\":\"AME 205\",\"metrics\":{\"centrality\":184,\"complexity\":26.0,\"blocking factor\":15,\"delay factor\":11.0},\"nameSub\":\"Intro to MATLAB II\",\"id\":47,\"credits\":1,\"nameCanonical\":\"\"}],\"id\":3},{\"name\":\"Term 4\",\"curriculum_items\":[{\"curriculum_requisites\":[{\"source_id\":11,\"target_id\":17,\"type\":\"CurriculumPrerequisite\"},{\"source_id\":12,\"target_id\":17,\"type\":\"CurriculumPrerequisite\"},{\"source_id\":19,\"target_id\":17,\"type\":\"CurriculumCorequisite\"}],\"name\":\"CHEE 202\",\"metrics\":{\"centrality\":362,\"complexity\":17.0,\"blocking factor\":7,\"delay factor\":10.0},\"nameSub\":\"Elements of Chem Eng II\",\"id\":17,\"credits\":4,\"nameCanonical\":\"\"},{\"curriculum_requisites\":[{\"source_id\":11,\"target_id\":18,\"type\":\"CurriculumPrerequisite\"},{\"source_id\":8,\"target_id\":18,\"type\":\"CurriculumPrerequisite\"}],\"name\":\"CHEE 203\",\"metrics\":{\"centrality\":529,\"complexity\":21.0,\"blocking factor\":10,\"delay factor\":11.0},\"nameSub\":\"Chem Eng Heat Xfer & Fluid Flow\",\"id\":18,\"credits\":3,\"nameCanonical\":\"\"},{\"curriculum_requisites\":[{\"source_id\":6,\"target_id\":19,\"type\":\"CurriculumPrerequisite\"}],\"name\":\"MATH 254\",\"metrics\":{\"centrality\":86,\"complexity\":17.0,\"blocking factor\":8,\"delay factor\":9.0},\"nameSub\":\"Intro to ODEs\",\"id\":19,\"credits\":3,\"nameCanonical\":\"\"},{\"curriculum_requisites\":[{\"source_id\":6,\"target_id\":20,\"type\":\"CurriculumPrerequisite\"},{\"source_id\":8,\"target_id\":20,\"type\":\"CurriculumPrerequisite\"}],\"name\":\"PHYS 241\",\"metrics\":{\"centrality\":72,\"complexity\":17.0,\"blocking factor\":9,\"delay factor\":8.0},\"nameSub\":\"Electricity & Magnetism\",\"id\":20,\"credits\":4,\"nameCanonical\":\"\"},{\"curriculum_requisites\":[{\"source_id\":14,\"target_id\":21,\"type\":\"CurriculumPrerequisite\"}],\"name\":\"CHEM 241B\",\"metrics\":{\"centrality\":0,\"complexity\":4.0,\"blocking factor\":0,\"delay factor\":4.0},\"nameSub\":\"Lectures in Org Chem\",\"id\":21,\"credits\":3,\"nameCanonical\":\"\"}],\"id\":4},{\"name\":\"Term 5\",\"curriculum_items\":[{\"curriculum_requisites\":[{\"source_id\":18,\"target_id\":22,\"type\":\"CurriculumPrerequisite\"}],\"name\":\"CHEE 303\",\"metrics\":{\"centrality\":447,\"complexity\":20.0,\"blocking factor\":9,\"delay factor\":11.0},\"nameSub\":\"Chem Eng Mass Xfer\",\"id\":22,\"credits\":3,\"nameCanonical\":\"\"},{\"curriculum_requisites\":[{\"source_id\":22,\"target_id\":23,\"type\":\"CurriculumStrictCorequisite\"},{\"source_id\":17,\"target_id\":23,\"type\":\"CurriculumPrerequisite\"},{\"source_id\":19,\"target_id\":23,\"type\":\"CurriculumPrerequisite\"}],\"name\":\"CHEE 402\",\"metrics\":{\"centrality\":492,\"complexity\":17.0,\"blocking factor\":6,\"delay factor\":11.0},\"nameSub\":\"Chem Eng Modeling\",\"id\":23,\"credits\":3,\"nameCanonical\":\"\"},{\"curriculum_requisites\":[{\"source_id\":22,\"target_id\":24,\"type\":\"CurriculumStrictCorequisite\"},{\"source_id\":18,\"target_id\":24,\"type\":\"CurriculumPrerequisite\"},{\"source_id\":17,\"target_id\":24,\"type\":\"CurriculumPrerequisite\"},{\"source_id\":23,\"target_id\":24,\"type\":\"CurriculumStrictCorequisite\"},{\"source_id\":19,\"target_id\":24,\"type\":\"CurriculumPrerequisite\"}],\"name\":\"CHEE 301A\",\"metrics\":{\"centrality\":544,\"complexity\":14.0,\"blocking factor\":3,\"delay factor\":11.0},\"nameSub\":\"Chem Eng Lab I\",\"id\":24,\"credits\":1,\"nameCanonical\":\"\"},{\"curriculum_requisites\":[],\"name\":\"CHEE 489\",\"metrics\":{\"centrality\":0,\"complexity\":1.0,\"blocking factor\":0,\"delay factor\":1.0},\"nameSub\":\"Trends in Nanomedicine Eng\",\"id\":25,\"credits\":3,\"nameCanonical\":\"\"},{\"curriculum_requisites\":[{\"source_id\":6,\"target_id\":26,\"type\":\"CurriculumPrerequisite\"},{\"source_id\":20,\"target_id\":26,\"type\":\"CurriculumCorequisite\"},{\"source_id\":2,\"target_id\":26,\"type\":\"CurriculumPrerequisite\"}],\"name\":\"CHEM 480A\",\"metrics\":{\"centrality\":129,\"complexity\":16.0,\"blocking factor\":8,\"delay factor\":8.0},\"nameSub\":\"Physical Chem\",\"id\":26,\"credits\":3,\"nameCanonical\":\"\"},{\"curriculum_requisites\":[],\"name\":\" \",\"metrics\":{\"centrality\":0,\"complexity\":1.0,\"blocking factor\":0,\"delay factor\":1.0},\"nameSub\":\"Tier I General Ed\",\"id\":27,\"credits\":3,\"nameCanonical\":\"\"}],\"id\":5},{\"name\":\"Term 6\",\"curriculum_items\":[{\"curriculum_requisites\":[{\"source_id\":22,\"target_id\":28,\"type\":\"CurriculumPrerequisite\"},{\"source_id\":23,\"target_id\":28,\"type\":\"CurriculumPrerequisite\"}],\"name\":\"CHEE 305\",\"metrics\":{\"centrality\":191,\"complexity\":14.0,\"blocking factor\":3,\"delay factor\":11.0},\"nameSub\":\"Chem Eng Transport Phenom\",\"id\":28,\"credits\":3,\"nameCanonical\":\"\"},{\"curriculum_requisites\":[{\"source_id\":11,\"target_id\":29,\"type\":\"CurriculumPrerequisite\"},{\"source_id\":26,\"target_id\":29,\"type\":\"CurriculumPrerequisite\"}],\"name\":\"CHEE 326\",\"metrics\":{\"centrality\":247,\"complexity\":14.0,\"blocking factor\":6,\"delay factor\":8.0},\"nameSub\":\"Chem & Phys Equilibrium\",\"id\":29,\"credits\":3,\"nameCanonical\":\"\"},{\"curriculum_requisites\":[{\"source_id\":22,\"target_id\":31,\"type\":\"CurriculumPrerequisite\"},{\"source_id\":29,\"target_id\":31,\"type\":\"CurriculumStrictCorequisite\"},{\"source_id\":24,\"target_id\":31,\"type\":\"CurriculumPrerequisite\"},{\"source_id\":28,\"target_id\":31,\"type\":\"CurriculumStrictCorequisite\"}],\"name\":\"CHEE 301B\",\"metrics\":{\"centrality\":610,\"complexity\":13.0,\"blocking factor\":2,\"delay factor\":11.0},\"nameSub\":\"Chem Eng Lab II\",\"id\":31,\"credits\":1,\"nameCanonical\":\"\"},{\"curriculum_requisites\":[],\"name\":\" \",\"metrics\":{\"centrality\":0,\"complexity\":1.0,\"blocking factor\":0,\"delay factor\":1.0},\"nameSub\":\"Engineering Elective\",\"id\":32,\"credits\":3,\"nameCanonical\":\"\"},{\"curriculum_requisites\":[],\"name\":\" \",\"metrics\":{\"centrality\":0,\"complexity\":1.0,\"blocking factor\":0,\"delay factor\":1.0},\"nameSub\":\"Technical Elective\",\"id\":33,\"credits\":3,\"nameCanonical\":\"\"},{\"curriculum_requisites\":[],\"name\":\" \",\"metrics\":{\"centrality\":0,\"complexity\":1.0,\"blocking factor\":0,\"delay factor\":1.0},\"nameSub\":\"Tier I General Ed\",\"id\":34,\"credits\":3,\"nameCanonical\":\"\"}],\"id\":6},{\"name\":\"Term 7\",\"curriculum_items\":[{\"curriculum_requisites\":[{\"source_id\":29,\"target_id\":35,\"type\":\"CurriculumPrerequisite\"}],\"name\":\"CHEE 420\",\"metrics\":{\"centrality\":128,\"complexity\":12.0,\"blocking factor\":4,\"delay factor\":8.0},\"nameSub\":\"Chem Reaction Eng\",\"id\":35,\"credits\":3,\"nameCanonical\":\"\"},{\"curriculum_requisites\":[{\"source_id\":22,\"target_id\":36,\"type\":\"CurriculumPrerequisite\"},{\"source_id\":29,\"target_id\":36,\"type\":\"CurriculumPrerequisite\"},{\"source_id\":35,\"target_id\":36,\"type\":\"CurriculumStrictCorequisite\"}],\"name\":\"CHEE 442\",\"metrics\":{\"centrality\":160,\"complexity\":9.0,\"blocking factor\":1,\"delay factor\":8.0},\"nameSub\":\"Chem Eng Design Principles\",\"id\":36,\"credits\":3,\"nameCanonical\":\"\"},{\"curriculum_requisites\":[{\"source_id\":35,\"target_id\":37,\"type\":\"CurriculumCorequisite\"},{\"source_id\":31,\"target_id\":37,\"type\":\"CurriculumPrerequisite\"}],\"name\":\"CHEE 401A\",\"metrics\":{\"centrality\":674,\"complexity\":12.0,\"blocking factor\":1,\"delay factor\":11.0},\"nameSub\":\"Chem and Enviorn Eng Lab I\",\"id\":37,\"credits\":1,\"nameCanonical\":\"\"},{\"curriculum_requisites\":[],\"name\":\" \",\"metrics\":{\"centrality\":0,\"complexity\":1.0,\"blocking factor\":0,\"delay factor\":1.0},\"nameSub\":\"Engineering Elective\",\"id\":38,\"credits\":3,\"nameCanonical\":\"\"},{\"curriculum_requisites\":[{\"source_id\":26,\"target_id\":39,\"type\":\"CurriculumPrerequisite\"}],\"name\":\"CHEM 480B\",\"metrics\":{\"centrality\":0,\"complexity\":5.0,\"blocking factor\":0,\"delay factor\":5.0},\"nameSub\":\"Physical Chem\",\"id\":39,\"credits\":3,\"nameCanonical\":\"\"},{\"curriculum_requisites\":[],\"name\":\" \",\"metrics\":{\"centrality\":0,\"complexity\":1.0,\"blocking factor\":0,\"delay factor\":1.0},\"nameSub\":\"Tier II General Ed\",\"id\":40,\"credits\":3,\"nameCanonical\":\"\"}],\"id\":7},{\"name\":\"Term 8\",\"curriculum_items\":[{\"curriculum_requisites\":[{\"source_id\":23,\"target_id\":41,\"type\":\"CurriculumPrerequisite\"}],\"name\":\"CHEE 413\",\"metrics\":{\"centrality\":108,\"complexity\":10.0,\"blocking factor\":1,\"delay factor\":9.0},\"nameSub\":\"Process Control and Simulation\",\"id\":41,\"credits\":3,\"nameCanonical\":\"\"},{\"curriculum_requisites\":[{\"source_id\":41,\"target_id\":42,\"type\":\"CurriculumCorequisite\"},{\"source_id\":24,\"target_id\":42,\"type\":\"CurriculumPrerequisite\"},{\"source_id\":37,\"target_id\":42,\"type\":\"CurriculumPrerequisite\"}],\"name\":\"CHEE 401B\",\"metrics\":{\"centrality\":0,\"complexity\":11.0,\"blocking factor\":0,\"delay factor\":11.0},\"nameSub\":\"Process Dynamics and Control Lab\",\"id\":42,\"credits\":1,\"nameCanonical\":\"\"},{\"curriculum_requisites\":[{\"source_id\":36,\"target_id\":43,\"type\":\"CurriculumPrerequisite\"}],\"name\":\"CHEE 443\",\"metrics\":{\"centrality\":0,\"complexity\":8.0,\"blocking factor\":0,\"delay factor\":8.0},\"nameSub\":\"Chem Eng Plant Design\",\"id\":43,\"credits\":3,\"nameCanonical\":\"\"},{\"curriculum_requisites\":[],\"name\":\" \",\"metrics\":{\"centrality\":0,\"complexity\":1.0,\"blocking factor\":0,\"delay factor\":1.0},\"nameSub\":\"Engineering Elective\",\"id\":44,\"credits\":3,\"nameCanonical\":\"\"},{\"curriculum_requisites\":[],\"name\":\" \",\"metrics\":{\"centrality\":0,\"complexity\":1.0,\"blocking factor\":0,\"delay factor\":1.0},\"nameSub\":\"Technical Elective\",\"id\":45,\"credits\":3,\"nameCanonical\":\"\"},{\"curriculum_requisites\":[],\"name\":\" \",\"metrics\":{\"centrality\":0,\"complexity\":1.0,\"blocking factor\":0,\"delay factor\":1.0},\"nameSub\":\"Tier II General Ed\",\"id\":46,\"credits\":3,\"nameCanonical\":\"\"}],\"id\":8}],\"institution\":\"University of Arizona\"}}}}},\"children\":[{\"props\":{\"src\":\"https:\\/\\/curricula-api-embed.damoursystems.com\\/\",\"id\":\"curriculum\",\"events\":{\"load\":\"(function (){this.contentWindow.postMessage({\\\"options\\\":{\\\"hideTerms\\\":false,\\\"edit\\\":false},\\\"curriculum\\\":{\\\"name\\\":\\\"Chemical Engineering\\\",\\\"dp_name\\\":\\\"2019-20 Degree Plan\\\",\\\"curriculum_terms\\\":[{\\\"name\\\":\\\"Term 1\\\",\\\"curriculum_items\\\":[{\\\"curriculum_requisites\\\":[],\\\"name\\\":\\\"MATH 125\\\",\\\"metrics\\\":{\\\"centrality\\\":0,\\\"complexity\\\":37.0,\\\"blocking factor\\\":26,\\\"delay factor\\\":11.0},\\\"nameSub\\\":\\\"Calculus I w\\/ Applications\\\",\\\"id\\\":1,\\\"credits\\\":3,\\\"nameCanonical\\\":\\\"\\\"},{\\\"curriculum_requisites\\\":[],\\\"name\\\":\\\"CHEM 151\\\",\\\"metrics\\\":{\\\"centrality\\\":0,\\\"complexity\\\":31.0,\\\"blocking factor\\\":21,\\\"delay factor\\\":10.0},\\\"nameSub\\\":\\\"Gen Chemistry I\\\",\\\"id\\\":2,\\\"credits\\\":4,\\\"nameCanonical\\\":\\\"\\\"},{\\\"curriculum_requisites\\\":[],\\\"name\\\":\\\"ENGL 101\\\",\\\"metrics\\\":{\\\"centrality\\\":0,\\\"complexity\\\":3.0,\\\"blocking factor\\\":1,\\\"delay factor\\\":2.0},\\\"nameSub\\\":\\\"First-year Comp\\\",\\\"id\\\":3,\\\"credits\\\":3,\\\"nameCanonical\\\":\\\"\\\"},{\\\"curriculum_requisites\\\":[{\\\"source_id\\\":1,\\\"target_id\\\":4,\\\"type\\\":\\\"CurriculumCorequisite\\\"}],\\\"name\\\":\\\"ENGR 102\\\",\\\"metrics\\\":{\\\"centrality\\\":163,\\\"complexity\\\":25.0,\\\"blocking factor\\\":15,\\\"delay factor\\\":10.0},\\\"nameSub\\\":\\\"Intro to Engineering\\\",\\\"id\\\":4,\\\"credits\\\":3,\\\"nameCanonical\\\":\\\"\\\"},{\\\"curriculum_requisites\\\":[],\\\"name\\\":\\\" \\\",\\\"metrics\\\":{\\\"centrality\\\":0,\\\"complexity\\\":1.0,\\\"blocking factor\\\":0,\\\"delay factor\\\":1.0},\\\"nameSub\\\":\\\"Tier I General Ed\\\",\\\"id\\\":5,\\\"credits\\\":3,\\\"nameCanonical\\\":\\\"\\\"}],\\\"id\\\":1},{\\\"name\\\":\\\"Term 2\\\",\\\"curriculum_items\\\":[{\\\"curriculum_requisites\\\":[{\\\"source_id\\\":1,\\\"target_id\\\":6,\\\"type\\\":\\\"CurriculumPrerequisite\\\"}],\\\"name\\\":\\\"MATH 129\\\",\\\"metrics\\\":{\\\"centrality\\\":156,\\\"complexity\\\":26.0,\\\"blocking factor\\\":17,\\\"delay factor\\\":9.0},\\\"nameSub\\\":\\\"Calculus II\\\",\\\"id\\\":6,\\\"credits\\\":3,\\\"nameCanonical\\\":\\\"\\\"},{\\\"curriculum_requisites\\\":[{\\\"source_id\\\":2,\\\"target_id\\\":7,\\\"type\\\":\\\"CurriculumPrerequisite\\\"}],\\\"name\\\":\\\"CHEM 152\\\",\\\"metrics\\\":{\\\"centrality\\\":171,\\\"complexity\\\":28.0,\\\"blocking factor\\\":18,\\\"delay factor\\\":10.0},\\\"nameSub\\\":\\\"Gen Chemistry II\\\",\\\"id\\\":7,\\\"credits\\\":4,\\\"nameCanonical\\\":\\\"\\\"},{\\\"curriculum_requisites\\\":[{\\\"source_id\\\":1,\\\"target_id\\\":8,\\\"type\\\":\\\"CurriculumPrerequisite\\\"}],\\\"name\\\":\\\"PHYS 141\\\",\\\"metrics\\\":{\\\"centrality\\\":115,\\\"complexity\\\":25.0,\\\"blocking factor\\\":16,\\\"delay factor\\\":9.0},\\\"nameSub\\\":\\\"Intro Mechanics\\\",\\\"id\\\":8,\\\"credits\\\":4,\\\"nameCanonical\\\":\\\"\\\"},{\\\"curriculum_requisites\\\":[{\\\"source_id\\\":3,\\\"target_id\\\":9,\\\"type\\\":\\\"CurriculumPrerequisite\\\"}],\\\"name\\\":\\\"ENGL 102\\\",\\\"metrics\\\":{\\\"centrality\\\":0,\\\"complexity\\\":2.0,\\\"blocking factor\\\":0,\\\"delay factor\\\":2.0},\\\"nameSub\\\":\\\"First-year Comp.\\\",\\\"id\\\":9,\\\"credits\\\":3,\\\"nameCanonical\\\":\\\"\\\"},{\\\"curriculum_requisites\\\":[{\\\"source_id\\\":1,\\\"target_id\\\":10,\\\"type\\\":\\\"CurriculumCorequisite\\\"}],\\\"name\\\":\\\"AME 105\\\",\\\"metrics\\\":{\\\"centrality\\\":393,\\\"complexity\\\":28.0,\\\"blocking factor\\\":17,\\\"delay factor\\\":11.0},\\\"nameSub\\\":\\\"Intro to MATLAB I\\\",\\\"id\\\":10,\\\"credits\\\":1,\\\"nameCanonical\\\":\\\"\\\"}],\\\"id\\\":2},{\\\"name\\\":\\\"Term 3\\\",\\\"curriculum_items\\\":[{\\\"curriculum_requisites\\\":[{\\\"source_id\\\":4,\\\"target_id\\\":11,\\\"type\\\":\\\"CurriculumPrerequisite\\\"},{\\\"source_id\\\":47,\\\"target_id\\\":11,\\\"type\\\":\\\"CurriculumCorequisite\\\"},{\\\"source_id\\\":7,\\\"target_id\\\":11,\\\"type\\\":\\\"CurriculumPrerequisite\\\"},{\\\"source_id\\\":10,\\\"target_id\\\":11,\\\"type\\\":\\\"CurriculumPrerequisite\\\"},{\\\"source_id\\\":1,\\\"target_id\\\":11,\\\"type\\\":\\\"CurriculumPrerequisite\\\"}],\\\"name\\\":\\\"CHEE 201\\\",\\\"metrics\\\":{\\\"centrality\\\":815,\\\"complexity\\\":25.0,\\\"blocking factor\\\":14,\\\"delay factor\\\":11.0},\\\"nameSub\\\":\\\"Elements of Chem and Envirn Eng I\\\",\\\"id\\\":11,\\\"credits\\\":3,\\\"nameCanonical\\\":\\\"\\\"},{\\\"curriculum_requisites\\\":[{\\\"source_id\\\":10,\\\"target_id\\\":12,\\\"type\\\":\\\"CurriculumCorequisite\\\"},{\\\"source_id\\\":1,\\\"target_id\\\":12,\\\"type\\\":\\\"CurriculumPrerequisite\\\"}],\\\"name\\\":\\\"CHEE 201L\\\",\\\"metrics\\\":{\\\"centrality\\\":86,\\\"complexity\\\":17.0,\\\"blocking factor\\\":8,\\\"delay factor\\\":9.0},\\\"nameSub\\\":\\\"Elements of Chem and Envirn Eng I Lab\\\",\\\"id\\\":12,\\\"credits\\\":1,\\\"nameCanonical\\\":\\\"\\\"},{\\\"curriculum_requisites\\\":[{\\\"source_id\\\":6,\\\"target_id\\\":13,\\\"type\\\":\\\"CurriculumPrerequisite\\\"}],\\\"name\\\":\\\"MATH  223\\\",\\\"metrics\\\":{\\\"centrality\\\":0,\\\"complexity\\\":3.0,\\\"blocking factor\\\":0,\\\"delay factor\\\":3.0},\\\"nameSub\\\":\\\"Vector Calculus\\\",\\\"id\\\":13,\\\"credits\\\":4,\\\"nameCanonical\\\":\\\"\\\"},{\\\"curriculum_requisites\\\":[{\\\"source_id\\\":7,\\\"target_id\\\":14,\\\"type\\\":\\\"CurriculumPrerequisite\\\"}],\\\"name\\\":\\\"CHEM  241A\\\",\\\"metrics\\\":{\\\"centrality\\\":8,\\\"complexity\\\":6.0,\\\"blocking factor\\\":2,\\\"delay factor\\\":4.0},\\\"nameSub\\\":\\\"Lectures in Org Chem\\\",\\\"id\\\":14,\\\"credits\\\":3,\\\"nameCanonical\\\":\\\"\\\"},{\\\"curriculum_requisites\\\":[{\\\"source_id\\\":14,\\\"target_id\\\":15,\\\"type\\\":\\\"CurriculumCorequisite\\\"}],\\\"name\\\":\\\"CHEM  243A\\\",\\\"metrics\\\":{\\\"centrality\\\":0,\\\"complexity\\\":4.0,\\\"blocking factor\\\":0,\\\"delay factor\\\":4.0},\\\"nameSub\\\":\\\"Org Chem Lab\\\",\\\"id\\\":15,\\\"credits\\\":1,\\\"nameCanonical\\\":\\\"\\\"},{\\\"curriculum_requisites\\\":[],\\\"name\\\":\\\" \\\",\\\"metrics\\\":{\\\"centrality\\\":0,\\\"complexity\\\":1.0,\\\"blocking factor\\\":0,\\\"delay factor\\\":1.0},\\\"nameSub\\\":\\\"Tier I General Ed\\\",\\\"id\\\":16,\\\"credits\\\":3,\\\"nameCanonical\\\":\\\"\\\"},{\\\"curriculum_requisites\\\":[{\\\"source_id\\\":10,\\\"target_id\\\":47,\\\"type\\\":\\\"CurriculumPrerequisite\\\"}],\\\"name\\\":\\\"AME 205\\\",\\\"metrics\\\":{\\\"centrality\\\":184,\\\"complexity\\\":26.0,\\\"blocking factor\\\":15,\\\"delay factor\\\":11.0},\\\"nameSub\\\":\\\"Intro to MATLAB II\\\",\\\"id\\\":47,\\\"credits\\\":1,\\\"nameCanonical\\\":\\\"\\\"}],\\\"id\\\":3},{\\\"name\\\":\\\"Term 4\\\",\\\"curriculum_items\\\":[{\\\"curriculum_requisites\\\":[{\\\"source_id\\\":11,\\\"target_id\\\":17,\\\"type\\\":\\\"CurriculumPrerequisite\\\"},{\\\"source_id\\\":12,\\\"target_id\\\":17,\\\"type\\\":\\\"CurriculumPrerequisite\\\"},{\\\"source_id\\\":19,\\\"target_id\\\":17,\\\"type\\\":\\\"CurriculumCorequisite\\\"}],\\\"name\\\":\\\"CHEE 202\\\",\\\"metrics\\\":{\\\"centrality\\\":362,\\\"complexity\\\":17.0,\\\"blocking factor\\\":7,\\\"delay factor\\\":10.0},\\\"nameSub\\\":\\\"Elements of Chem Eng II\\\",\\\"id\\\":17,\\\"credits\\\":4,\\\"nameCanonical\\\":\\\"\\\"},{\\\"curriculum_requisites\\\":[{\\\"source_id\\\":11,\\\"target_id\\\":18,\\\"type\\\":\\\"CurriculumPrerequisite\\\"},{\\\"source_id\\\":8,\\\"target_id\\\":18,\\\"type\\\":\\\"CurriculumPrerequisite\\\"}],\\\"name\\\":\\\"CHEE 203\\\",\\\"metrics\\\":{\\\"centrality\\\":529,\\\"complexity\\\":21.0,\\\"blocking factor\\\":10,\\\"delay factor\\\":11.0},\\\"nameSub\\\":\\\"Chem Eng Heat Xfer & Fluid Flow\\\",\\\"id\\\":18,\\\"credits\\\":3,\\\"nameCanonical\\\":\\\"\\\"},{\\\"curriculum_requisites\\\":[{\\\"source_id\\\":6,\\\"target_id\\\":19,\\\"type\\\":\\\"CurriculumPrerequisite\\\"}],\\\"name\\\":\\\"MATH 254\\\",\\\"metrics\\\":{\\\"centrality\\\":86,\\\"complexity\\\":17.0,\\\"blocking factor\\\":8,\\\"delay factor\\\":9.0},\\\"nameSub\\\":\\\"Intro to ODEs\\\",\\\"id\\\":19,\\\"credits\\\":3,\\\"nameCanonical\\\":\\\"\\\"},{\\\"curriculum_requisites\\\":[{\\\"source_id\\\":6,\\\"target_id\\\":20,\\\"type\\\":\\\"CurriculumPrerequisite\\\"},{\\\"source_id\\\":8,\\\"target_id\\\":20,\\\"type\\\":\\\"CurriculumPrerequisite\\\"}],\\\"name\\\":\\\"PHYS 241\\\",\\\"metrics\\\":{\\\"centrality\\\":72,\\\"complexity\\\":17.0,\\\"blocking factor\\\":9,\\\"delay factor\\\":8.0},\\\"nameSub\\\":\\\"Electricity & Magnetism\\\",\\\"id\\\":20,\\\"credits\\\":4,\\\"nameCanonical\\\":\\\"\\\"},{\\\"curriculum_requisites\\\":[{\\\"source_id\\\":14,\\\"target_id\\\":21,\\\"type\\\":\\\"CurriculumPrerequisite\\\"}],\\\"name\\\":\\\"CHEM 241B\\\",\\\"metrics\\\":{\\\"centrality\\\":0,\\\"complexity\\\":4.0,\\\"blocking factor\\\":0,\\\"delay factor\\\":4.0},\\\"nameSub\\\":\\\"Lectures in Org Chem\\\",\\\"id\\\":21,\\\"credits\\\":3,\\\"nameCanonical\\\":\\\"\\\"}],\\\"id\\\":4},{\\\"name\\\":\\\"Term 5\\\",\\\"curriculum_items\\\":[{\\\"curriculum_requisites\\\":[{\\\"source_id\\\":18,\\\"target_id\\\":22,\\\"type\\\":\\\"CurriculumPrerequisite\\\"}],\\\"name\\\":\\\"CHEE 303\\\",\\\"metrics\\\":{\\\"centrality\\\":447,\\\"complexity\\\":20.0,\\\"blocking factor\\\":9,\\\"delay factor\\\":11.0},\\\"nameSub\\\":\\\"Chem Eng Mass Xfer\\\",\\\"id\\\":22,\\\"credits\\\":3,\\\"nameCanonical\\\":\\\"\\\"},{\\\"curriculum_requisites\\\":[{\\\"source_id\\\":22,\\\"target_id\\\":23,\\\"type\\\":\\\"CurriculumStrictCorequisite\\\"},{\\\"source_id\\\":17,\\\"target_id\\\":23,\\\"type\\\":\\\"CurriculumPrerequisite\\\"},{\\\"source_id\\\":19,\\\"target_id\\\":23,\\\"type\\\":\\\"CurriculumPrerequisite\\\"}],\\\"name\\\":\\\"CHEE 402\\\",\\\"metrics\\\":{\\\"centrality\\\":492,\\\"complexity\\\":17.0,\\\"blocking factor\\\":6,\\\"delay factor\\\":11.0},\\\"nameSub\\\":\\\"Chem Eng Modeling\\\",\\\"id\\\":23,\\\"credits\\\":3,\\\"nameCanonical\\\":\\\"\\\"},{\\\"curriculum_requisites\\\":[{\\\"source_id\\\":22,\\\"target_id\\\":24,\\\"type\\\":\\\"CurriculumStrictCorequisite\\\"},{\\\"source_id\\\":18,\\\"target_id\\\":24,\\\"type\\\":\\\"CurriculumPrerequisite\\\"},{\\\"source_id\\\":17,\\\"target_id\\\":24,\\\"type\\\":\\\"CurriculumPrerequisite\\\"},{\\\"source_id\\\":23,\\\"target_id\\\":24,\\\"type\\\":\\\"CurriculumStrictCorequisite\\\"},{\\\"source_id\\\":19,\\\"target_id\\\":24,\\\"type\\\":\\\"CurriculumPrerequisite\\\"}],\\\"name\\\":\\\"CHEE 301A\\\",\\\"metrics\\\":{\\\"centrality\\\":544,\\\"complexity\\\":14.0,\\\"blocking factor\\\":3,\\\"delay factor\\\":11.0},\\\"nameSub\\\":\\\"Chem Eng Lab I\\\",\\\"id\\\":24,\\\"credits\\\":1,\\\"nameCanonical\\\":\\\"\\\"},{\\\"curriculum_requisites\\\":[],\\\"name\\\":\\\"CHEE 489\\\",\\\"metrics\\\":{\\\"centrality\\\":0,\\\"complexity\\\":1.0,\\\"blocking factor\\\":0,\\\"delay factor\\\":1.0},\\\"nameSub\\\":\\\"Trends in Nanomedicine Eng\\\",\\\"id\\\":25,\\\"credits\\\":3,\\\"nameCanonical\\\":\\\"\\\"},{\\\"curriculum_requisites\\\":[{\\\"source_id\\\":6,\\\"target_id\\\":26,\\\"type\\\":\\\"CurriculumPrerequisite\\\"},{\\\"source_id\\\":20,\\\"target_id\\\":26,\\\"type\\\":\\\"CurriculumCorequisite\\\"},{\\\"source_id\\\":2,\\\"target_id\\\":26,\\\"type\\\":\\\"CurriculumPrerequisite\\\"}],\\\"name\\\":\\\"CHEM 480A\\\",\\\"metrics\\\":{\\\"centrality\\\":129,\\\"complexity\\\":16.0,\\\"blocking factor\\\":8,\\\"delay factor\\\":8.0},\\\"nameSub\\\":\\\"Physical Chem\\\",\\\"id\\\":26,\\\"credits\\\":3,\\\"nameCanonical\\\":\\\"\\\"},{\\\"curriculum_requisites\\\":[],\\\"name\\\":\\\" \\\",\\\"metrics\\\":{\\\"centrality\\\":0,\\\"complexity\\\":1.0,\\\"blocking factor\\\":0,\\\"delay factor\\\":1.0},\\\"nameSub\\\":\\\"Tier I General Ed\\\",\\\"id\\\":27,\\\"credits\\\":3,\\\"nameCanonical\\\":\\\"\\\"}],\\\"id\\\":5},{\\\"name\\\":\\\"Term 6\\\",\\\"curriculum_items\\\":[{\\\"curriculum_requisites\\\":[{\\\"source_id\\\":22,\\\"target_id\\\":28,\\\"type\\\":\\\"CurriculumPrerequisite\\\"},{\\\"source_id\\\":23,\\\"target_id\\\":28,\\\"type\\\":\\\"CurriculumPrerequisite\\\"}],\\\"name\\\":\\\"CHEE 305\\\",\\\"metrics\\\":{\\\"centrality\\\":191,\\\"complexity\\\":14.0,\\\"blocking factor\\\":3,\\\"delay factor\\\":11.0},\\\"nameSub\\\":\\\"Chem Eng Transport Phenom\\\",\\\"id\\\":28,\\\"credits\\\":3,\\\"nameCanonical\\\":\\\"\\\"},{\\\"curriculum_requisites\\\":[{\\\"source_id\\\":11,\\\"target_id\\\":29,\\\"type\\\":\\\"CurriculumPrerequisite\\\"},{\\\"source_id\\\":26,\\\"target_id\\\":29,\\\"type\\\":\\\"CurriculumPrerequisite\\\"}],\\\"name\\\":\\\"CHEE 326\\\",\\\"metrics\\\":{\\\"centrality\\\":247,\\\"complexity\\\":14.0,\\\"blocking factor\\\":6,\\\"delay factor\\\":8.0},\\\"nameSub\\\":\\\"Chem & Phys Equilibrium\\\",\\\"id\\\":29,\\\"credits\\\":3,\\\"nameCanonical\\\":\\\"\\\"},{\\\"curriculum_requisites\\\":[{\\\"source_id\\\":22,\\\"target_id\\\":31,\\\"type\\\":\\\"CurriculumPrerequisite\\\"},{\\\"source_id\\\":29,\\\"target_id\\\":31,\\\"type\\\":\\\"CurriculumStrictCorequisite\\\"},{\\\"source_id\\\":24,\\\"target_id\\\":31,\\\"type\\\":\\\"CurriculumPrerequisite\\\"},{\\\"source_id\\\":28,\\\"target_id\\\":31,\\\"type\\\":\\\"CurriculumStrictCorequisite\\\"}],\\\"name\\\":\\\"CHEE 301B\\\",\\\"metrics\\\":{\\\"centrality\\\":610,\\\"complexity\\\":13.0,\\\"blocking factor\\\":2,\\\"delay factor\\\":11.0},\\\"nameSub\\\":\\\"Chem Eng Lab II\\\",\\\"id\\\":31,\\\"credits\\\":1,\\\"nameCanonical\\\":\\\"\\\"},{\\\"curriculum_requisites\\\":[],\\\"name\\\":\\\" \\\",\\\"metrics\\\":{\\\"centrality\\\":0,\\\"complexity\\\":1.0,\\\"blocking factor\\\":0,\\\"delay factor\\\":1.0},\\\"nameSub\\\":\\\"Engineering Elective\\\",\\\"id\\\":32,\\\"credits\\\":3,\\\"nameCanonical\\\":\\\"\\\"},{\\\"curriculum_requisites\\\":[],\\\"name\\\":\\\" \\\",\\\"metrics\\\":{\\\"centrality\\\":0,\\\"complexity\\\":1.0,\\\"blocking factor\\\":0,\\\"delay factor\\\":1.0},\\\"nameSub\\\":\\\"Technical Elective\\\",\\\"id\\\":33,\\\"credits\\\":3,\\\"nameCanonical\\\":\\\"\\\"},{\\\"curriculum_requisites\\\":[],\\\"name\\\":\\\" \\\",\\\"metrics\\\":{\\\"centrality\\\":0,\\\"complexity\\\":1.0,\\\"blocking factor\\\":0,\\\"delay factor\\\":1.0},\\\"nameSub\\\":\\\"Tier I General Ed\\\",\\\"id\\\":34,\\\"credits\\\":3,\\\"nameCanonical\\\":\\\"\\\"}],\\\"id\\\":6},{\\\"name\\\":\\\"Term 7\\\",\\\"curriculum_items\\\":[{\\\"curriculum_requisites\\\":[{\\\"source_id\\\":29,\\\"target_id\\\":35,\\\"type\\\":\\\"CurriculumPrerequisite\\\"}],\\\"name\\\":\\\"CHEE 420\\\",\\\"metrics\\\":{\\\"centrality\\\":128,\\\"complexity\\\":12.0,\\\"blocking factor\\\":4,\\\"delay factor\\\":8.0},\\\"nameSub\\\":\\\"Chem Reaction Eng\\\",\\\"id\\\":35,\\\"credits\\\":3,\\\"nameCanonical\\\":\\\"\\\"},{\\\"curriculum_requisites\\\":[{\\\"source_id\\\":22,\\\"target_id\\\":36,\\\"type\\\":\\\"CurriculumPrerequisite\\\"},{\\\"source_id\\\":29,\\\"target_id\\\":36,\\\"type\\\":\\\"CurriculumPrerequisite\\\"},{\\\"source_id\\\":35,\\\"target_id\\\":36,\\\"type\\\":\\\"CurriculumStrictCorequisite\\\"}],\\\"name\\\":\\\"CHEE 442\\\",\\\"metrics\\\":{\\\"centrality\\\":160,\\\"complexity\\\":9.0,\\\"blocking factor\\\":1,\\\"delay factor\\\":8.0},\\\"nameSub\\\":\\\"Chem Eng Design Principles\\\",\\\"id\\\":36,\\\"credits\\\":3,\\\"nameCanonical\\\":\\\"\\\"},{\\\"curriculum_requisites\\\":[{\\\"source_id\\\":35,\\\"target_id\\\":37,\\\"type\\\":\\\"CurriculumCorequisite\\\"},{\\\"source_id\\\":31,\\\"target_id\\\":37,\\\"type\\\":\\\"CurriculumPrerequisite\\\"}],\\\"name\\\":\\\"CHEE 401A\\\",\\\"metrics\\\":{\\\"centrality\\\":674,\\\"complexity\\\":12.0,\\\"blocking factor\\\":1,\\\"delay factor\\\":11.0},\\\"nameSub\\\":\\\"Chem and Enviorn Eng Lab I\\\",\\\"id\\\":37,\\\"credits\\\":1,\\\"nameCanonical\\\":\\\"\\\"},{\\\"curriculum_requisites\\\":[],\\\"name\\\":\\\" \\\",\\\"metrics\\\":{\\\"centrality\\\":0,\\\"complexity\\\":1.0,\\\"blocking factor\\\":0,\\\"delay factor\\\":1.0},\\\"nameSub\\\":\\\"Engineering Elective\\\",\\\"id\\\":38,\\\"credits\\\":3,\\\"nameCanonical\\\":\\\"\\\"},{\\\"curriculum_requisites\\\":[{\\\"source_id\\\":26,\\\"target_id\\\":39,\\\"type\\\":\\\"CurriculumPrerequisite\\\"}],\\\"name\\\":\\\"CHEM 480B\\\",\\\"metrics\\\":{\\\"centrality\\\":0,\\\"complexity\\\":5.0,\\\"blocking factor\\\":0,\\\"delay factor\\\":5.0},\\\"nameSub\\\":\\\"Physical Chem\\\",\\\"id\\\":39,\\\"credits\\\":3,\\\"nameCanonical\\\":\\\"\\\"},{\\\"curriculum_requisites\\\":[],\\\"name\\\":\\\" \\\",\\\"metrics\\\":{\\\"centrality\\\":0,\\\"complexity\\\":1.0,\\\"blocking factor\\\":0,\\\"delay factor\\\":1.0},\\\"nameSub\\\":\\\"Tier II General Ed\\\",\\\"id\\\":40,\\\"credits\\\":3,\\\"nameCanonical\\\":\\\"\\\"}],\\\"id\\\":7},{\\\"name\\\":\\\"Term 8\\\",\\\"curriculum_items\\\":[{\\\"curriculum_requisites\\\":[{\\\"source_id\\\":23,\\\"target_id\\\":41,\\\"type\\\":\\\"CurriculumPrerequisite\\\"}],\\\"name\\\":\\\"CHEE 413\\\",\\\"metrics\\\":{\\\"centrality\\\":108,\\\"complexity\\\":10.0,\\\"blocking factor\\\":1,\\\"delay factor\\\":9.0},\\\"nameSub\\\":\\\"Process Control and Simulation\\\",\\\"id\\\":41,\\\"credits\\\":3,\\\"nameCanonical\\\":\\\"\\\"},{\\\"curriculum_requisites\\\":[{\\\"source_id\\\":41,\\\"target_id\\\":42,\\\"type\\\":\\\"CurriculumCorequisite\\\"},{\\\"source_id\\\":24,\\\"target_id\\\":42,\\\"type\\\":\\\"CurriculumPrerequisite\\\"},{\\\"source_id\\\":37,\\\"target_id\\\":42,\\\"type\\\":\\\"CurriculumPrerequisite\\\"}],\\\"name\\\":\\\"CHEE 401B\\\",\\\"metrics\\\":{\\\"centrality\\\":0,\\\"complexity\\\":11.0,\\\"blocking factor\\\":0,\\\"delay factor\\\":11.0},\\\"nameSub\\\":\\\"Process Dynamics and Control Lab\\\",\\\"id\\\":42,\\\"credits\\\":1,\\\"nameCanonical\\\":\\\"\\\"},{\\\"curriculum_requisites\\\":[{\\\"source_id\\\":36,\\\"target_id\\\":43,\\\"type\\\":\\\"CurriculumPrerequisite\\\"}],\\\"name\\\":\\\"CHEE 443\\\",\\\"metrics\\\":{\\\"centrality\\\":0,\\\"complexity\\\":8.0,\\\"blocking factor\\\":0,\\\"delay factor\\\":8.0},\\\"nameSub\\\":\\\"Chem Eng Plant Design\\\",\\\"id\\\":43,\\\"credits\\\":3,\\\"nameCanonical\\\":\\\"\\\"},{\\\"curriculum_requisites\\\":[],\\\"name\\\":\\\" \\\",\\\"metrics\\\":{\\\"centrality\\\":0,\\\"complexity\\\":1.0,\\\"blocking factor\\\":0,\\\"delay factor\\\":1.0},\\\"nameSub\\\":\\\"Engineering Elective\\\",\\\"id\\\":44,\\\"credits\\\":3,\\\"nameCanonical\\\":\\\"\\\"},{\\\"curriculum_requisites\\\":[],\\\"name\\\":\\\" \\\",\\\"metrics\\\":{\\\"centrality\\\":0,\\\"complexity\\\":1.0,\\\"blocking factor\\\":0,\\\"delay factor\\\":1.0},\\\"nameSub\\\":\\\"Technical Elective\\\",\\\"id\\\":45,\\\"credits\\\":3,\\\"nameCanonical\\\":\\\"\\\"},{\\\"curriculum_requisites\\\":[],\\\"name\\\":\\\" \\\",\\\"metrics\\\":{\\\"centrality\\\":0,\\\"complexity\\\":1.0,\\\"blocking factor\\\":0,\\\"delay factor\\\":1.0},\\\"nameSub\\\":\\\"Tier II General Ed\\\",\\\"id\\\":46,\\\"credits\\\":3,\\\"nameCanonical\\\":\\\"\\\"}],\\\"id\\\":8}],\\\"institution\\\":\\\"University of Arizona\\\"}},\\\"*\\\"); window.removeEventListener(\\\"message\\\",window.messageReceived); window.messageReceived=(function (event){return (event.data.curriculum!==undefined) ? (WebIO.setval({\\\"name\\\":\\\"curriculum-data\\\",\\\"scope\\\":\\\"3408441405120621895\\\",\\\"id\\\":\\\"5933751363391028629\\\",\\\"type\\\":\\\"observable\\\"},event.data.curriculum)) : undefined}); return window.addEventListener(\\\"message\\\",window.messageReceived)})\"},\"style\":{\"padding\":\"0\",\"height\":\"85vh\",\"margin\":\"0\",\"border\":\"none\",\"width\":\"100%\"}},\"nodeType\":\"DOM\",\"type\":\"node\",\"instanceArgs\":{\"namespace\":\"html\",\"tag\":\"iframe\"},\"children\":[\"\"]}]},\n",
       "        window,\n",
       "    );\n",
       "    })()\n",
       "    </script>\n",
       "</div>\n"
      ],
      "text/plain": [
       "WebIO.Scope(WebIO.Node{WebIO.DOM}(WebIO.DOM(:html, :iframe), Any[\"\"], Dict{Symbol, Any}(:src => \"https://curricula-api-embed.damoursystems.com/\", :id => \"curriculum\", :events => Dict{Symbol, WebIO.JSString}(:load => WebIO.JSString(\"(function (){this.contentWindow.postMessage({\\\"options\\\":{\\\"hideTerms\\\":false,\\\"edit\\\":false},\\\"curriculum\\\":{\\\"name\\\":\\\"Chemical Engineering\\\",\\\"dp_name\\\":\\\"2019-20 Degree Plan\\\",\\\"curriculum_terms\\\":[{\\\"name\\\":\\\"Term 1\\\",\\\"curriculum_items\\\":[{\\\"curriculum_requisites\\\":[],\\\"name\\\":\\\"MATH 125\\\",\\\"metrics\\\":{\\\"centrality\\\":0,\\\"complexity\\\":37.0,\\\"blocking factor\\\":26,\\\"delay factor\\\":11.0},\\\"nameSub\\\":\\\"Calculus I w/ Applications\\\",\\\"id\\\":1,\\\"credits\\\":3,\\\"nameCanonical\\\":\\\"\\\"},{\\\"curriculum_requisites\\\":[],\\\"name\\\":\\\"CHEM 151\\\",\\\"metrics\\\":{\\\"centrality\\\":0,\\\"complexity\\\":31.0,\\\"blocking factor\\\":21,\\\"delay factor\\\":10.0},\\\"nameSub\\\":\\\"Gen Chemistry I\\\",\\\"id\\\":2,\\\"credits\\\":4,\\\"nameCanonical\\\":\\\"\\\"},{\\\"curriculum_requisites\\\":[],\\\"name\\\":\\\"ENGL 101\\\",\\\"metrics\\\":{\\\"centrality\\\":0,\\\"complexity\\\":3.0,\\\"blocking factor\\\":1,\\\"delay factor\\\":2.0},\\\"nameSub\\\":\\\"First-year Comp\\\",\\\"id\\\":3,\\\"credits\\\":3,\\\"nameCanonical\\\":\\\"\\\"},{\\\"curriculum_requisites\\\":[{\\\"source_id\\\":1,\\\"target_id\\\":4,\\\"type\\\":\\\"CurriculumCorequisite\\\"}],\\\"name\\\":\\\"ENGR 102\\\",\\\"metrics\\\":{\\\"centrality\\\":163,\\\"complexity\\\":25.0,\\\"blocking factor\\\":15,\\\"delay factor\\\":10.0},\\\"nameSub\\\":\\\"Intro to Engineering\\\",\\\"id\\\":4,\\\"credits\\\":3,\\\"nameCanonical\\\":\\\"\\\"},{\\\"curriculum_requisites\\\":[],\\\"name\\\":\\\" \\\",\\\"metrics\\\":{\\\"centrality\\\":0,\\\"complexity\\\":1.0,\\\"blocking factor\\\":0,\\\"delay factor\\\":1.0},\\\"nameSub\\\":\\\"Tier I General Ed\\\",\\\"id\\\":5,\\\"credits\\\":3,\\\"nameCanonical\\\":\\\"\\\"}],\\\"id\\\":1},{\\\"name\\\":\\\"Term 2\\\",\\\"curriculum_items\\\":[{\\\"curriculum_requisites\\\":[{\\\"source_id\\\":1,\\\"target_id\\\":6,\\\"type\\\":\\\"CurriculumPrerequisite\\\"}],\\\"name\\\":\\\"MATH 129\\\",\\\"metrics\\\":{\\\"centrality\\\":156,\\\"complexity\\\":26.0,\\\"blocking factor\\\":17,\\\"delay factor\\\":9.0},\\\"nameSub\\\":\\\"Calculus II\\\",\\\"id\\\":6,\\\"credits\\\":3,\\\"nameCanonical\\\":\\\"\\\"},{\\\"curriculum_requisites\\\":[{\\\"source_id\\\":2,\\\"target_id\\\":7,\\\"type\\\":\\\"CurriculumPrerequisite\\\"}],\\\"name\\\":\\\"CHEM 152\\\",\\\"metrics\\\":{\\\"centrality\\\":171,\\\"complexity\\\":28.0,\\\"blocking factor\\\":18,\\\"delay factor\\\":10.0},\\\"nameSub\\\":\\\"Gen Chemistry II\\\",\\\"id\\\":7,\\\"credits\\\":4,\\\"nameCanonical\\\":\\\"\\\"},{\\\"curriculum_requisites\\\":[{\\\"source_id\\\":1,\\\"target_id\\\":8,\\\"type\\\":\\\"CurriculumPrerequisite\\\"}],\\\"name\\\":\\\"PHYS 141\\\",\\\"metrics\\\":{\\\"centrality\\\":115,\\\"complexity\\\":25.0,\\\"blocking factor\\\":16,\\\"delay factor\\\":9.0},\\\"nameSub\\\":\\\"Intro Mechanics\\\",\\\"id\\\":8,\\\"credits\\\":4,\\\"nameCanonical\\\":\\\"\\\"},{\\\"curriculum_requisites\\\":[{\\\"source_id\\\":3,\\\"target_id\\\":9,\\\"type\\\":\\\"CurriculumPrerequisite\\\"}],\\\"name\\\":\\\"ENGL 102\\\",\\\"metrics\\\":{\\\"centrality\\\":0,\\\"complexity\\\":2.0,\\\"blocking factor\\\":0,\\\"delay factor\\\":2.0},\\\"nameSub\\\":\\\"First-year Comp.\\\",\\\"id\\\":9,\\\"credits\\\":3,\\\"nameCanonical\\\":\\\"\\\"},{\\\"curriculum_requisites\\\":[{\\\"source_id\\\":1,\\\"target_id\\\":10,\\\"type\\\":\\\"CurriculumCorequisite\\\"}],\\\"name\\\":\\\"AME 105\\\",\\\"metrics\\\":{\\\"centrality\\\":393,\\\"complexity\\\":28.0,\\\"blocking factor\\\":17,\\\"delay factor\\\":11.0},\\\"nameSub\\\":\\\"Intro to MATLAB I\\\",\\\"id\\\":10,\\\"credits\\\":1,\\\"nameCanonical\\\":\\\"\\\"}],\\\"id\\\":2},{\\\"name\\\":\\\"Term 3\\\",\\\"curriculum_items\\\":[{\\\"curriculum_requisites\\\":[{\\\"source_id\\\":4,\\\"target_id\\\":11,\\\"type\\\":\\\"CurriculumPrerequisite\\\"},{\\\"source_id\\\":47,\\\"target_id\\\":11,\\\"type\\\":\\\"CurriculumCorequisite\\\"},{\\\"source_id\\\":7,\\\"target_id\\\":11,\\\"type\\\":\\\"CurriculumPrerequisite\\\"},{\\\"source_id\\\":10,\\\"target_id\\\":11,\\\"type\\\":\\\"CurriculumPrerequisite\\\"},{\\\"source_id\\\":1,\\\"target_id\\\":11,\\\"type\\\":\\\"CurriculumPrerequisite\\\"}],\\\"name\\\":\\\"CHEE 201\\\",\\\"metrics\\\":{\\\"centrality\\\":815,\\\"complexity\\\":25.0,\\\"blocking factor\\\":14,\\\"delay factor\\\":11.0},\\\"nameSub\\\":\\\"Elements of Chem and Envirn Eng I\\\",\\\"id\\\":11,\\\"credits\\\":3,\\\"nameCanonical\\\":\\\"\\\"},{\\\"curriculum_requisites\\\":[{\\\"source_id\\\":10,\\\"target_id\\\":12,\\\"type\\\":\\\"CurriculumCorequisite\\\"},{\\\"source_id\\\":1,\\\"target_id\\\":12,\\\"type\\\":\\\"CurriculumPrerequisite\\\"}],\\\"name\\\":\\\"CHEE 201L\\\",\\\"metrics\\\":{\\\"centrality\\\":86,\\\"complexity\\\":17.0,\\\"blocking factor\\\":8,\\\"delay factor\\\":9.0},\\\"nameSub\\\":\\\"Elements of Chem and Envirn Eng I Lab\\\",\\\"id\\\":12,\\\"credits\\\":1,\\\"nameCanonical\\\":\\\"\\\"},{\\\"curriculum_requisites\\\":[{\\\"source_id\\\":6,\\\"target_id\\\":13,\\\"type\\\":\\\"CurriculumPrerequisite\\\"}],\\\"name\\\":\\\"MATH  223\\\",\\\"metrics\\\":{\\\"centrality\\\":0,\\\"complexity\\\":3.0,\\\"blocking factor\\\":0,\\\"delay factor\\\":3.0},\\\"nameSub\\\":\\\"Vector Calculus\\\",\\\"id\\\":13,\\\"credits\\\":4,\\\"nameCanonical\\\":\\\"\\\"},{\\\"curriculum_requisites\\\":[{\\\"source_id\\\":7,\\\"target_id\\\":14,\\\"type\\\":\\\"CurriculumPrerequisite\\\"}],\\\"name\\\":\\\"CHEM  241A\\\",\\\"metrics\\\":{\\\"centrality\\\":8,\\\"complexity\\\":6.0,\\\"blocking factor\\\":2,\\\"delay factor\\\":4.0},\\\"nameSub\\\":\\\"Lectures in Org Chem\\\",\\\"id\\\":14,\\\"credits\\\":3,\\\"nameCanonical\\\":\\\"\\\"},{\\\"curriculum_requisites\\\":[{\\\"source_id\\\":14,\\\"target_id\\\":15,\\\"type\\\":\\\"CurriculumCorequisite\\\"}],\\\"name\\\":\\\"CHEM  243A\\\",\\\"metrics\\\":{\\\"centrality\\\":0,\\\"complexity\\\":4.0,\\\"blocking factor\\\":0,\\\"delay factor\\\":4.0},\\\"nameSub\\\":\\\"Org Chem Lab\\\",\\\"id\\\":15,\\\"credits\\\":1,\\\"nameCanonical\\\":\\\"\\\"},{\\\"curriculum_requisites\\\":[],\\\"name\\\":\\\" \\\",\\\"metrics\\\":{\\\"centrality\\\":0,\\\"complexity\\\":1.0,\\\"blocking factor\\\":0,\\\"delay factor\\\":1.0},\\\"nameSub\\\":\\\"Tier I General Ed\\\",\\\"id\\\":16,\\\"credits\\\":3,\\\"nameCanonical\\\":\\\"\\\"},{\\\"curriculum_requisites\\\":[{\\\"source_id\\\":10,\\\"target_id\\\":47,\\\"type\\\":\\\"CurriculumPrerequisite\\\"}],\\\"name\\\":\\\"AME 205\\\",\\\"metrics\\\":{\\\"centrality\\\":184,\\\"complexity\\\":26.0,\\\"blocking factor\\\":15,\\\"delay factor\\\":11.0},\\\"nameSub\\\":\\\"Intro to MATLAB II\\\",\\\"id\\\":47,\\\"credits\\\":1,\\\"nameCanonical\\\":\\\"\\\"}],\\\"id\\\":3},{\\\"name\\\":\\\"Term 4\\\",\\\"curriculum_items\\\":[{\\\"curriculum_requisites\\\":[{\\\"source_id\\\":11,\\\"target_id\\\":17,\\\"type\\\":\\\"CurriculumPrerequisite\\\"},{\\\"source_id\\\":12,\\\"target_id\\\":17,\\\"type\\\":\\\"CurriculumPrerequisite\\\"},{\\\"source_id\\\":19,\\\"target_id\\\":17,\\\"type\\\":\\\"CurriculumCorequisite\\\"}],\\\"name\\\":\\\"CHEE 202\\\",\\\"metrics\\\":{\\\"centrality\\\":362,\\\"complexity\\\":17.0,\\\"blocking factor\\\":7,\\\"delay factor\\\":10.0},\\\"nameSub\\\":\\\"Elements of Chem Eng II\\\",\\\"id\\\":17,\\\"credits\\\":4,\\\"nameCanonical\\\":\\\"\\\"},{\\\"curriculum_requisites\\\":[{\\\"source_id\\\":11,\\\"target_id\\\":18,\\\"type\\\":\\\"CurriculumPrerequisite\\\"},{\\\"source_id\\\":8,\\\"target_id\\\":18,\\\"type\\\":\\\"CurriculumPrerequisite\\\"}],\\\"name\\\":\\\"CHEE 203\\\",\\\"metrics\\\":{\\\"centrality\\\":529,\\\"complexity\\\":21.0,\\\"blocking factor\\\":10,\\\"delay factor\\\":11.0},\\\"nameSub\\\":\\\"Chem Eng Heat Xfer & Fluid Flow\\\",\\\"id\\\":18,\\\"credits\\\":3,\\\"nameCanonical\\\":\\\"\\\"},{\\\"curriculum_requisites\\\":[{\\\"source_id\\\":6,\\\"target_id\\\":19,\\\"type\\\":\\\"CurriculumPrerequisite\\\"}],\\\"name\\\":\\\"MATH 254\\\",\\\"metrics\\\":{\\\"centrality\\\":86,\\\"complexity\\\":17.0,\\\"blocking factor\\\":8,\\\"delay factor\\\":9.0},\\\"nameSub\\\":\\\"Intro to ODEs\\\",\\\"id\\\":19,\\\"credits\\\":3,\\\"nameCanonical\\\":\\\"\\\"},{\\\"curriculum_requisites\\\":[{\\\"source_id\\\":6,\\\"target_id\\\":20,\\\"type\\\":\\\"CurriculumPrerequisite\\\"},{\\\"source_id\\\":8,\\\"target_id\\\":20,\\\"type\\\":\\\"CurriculumPrerequisite\\\"}],\\\"name\\\":\\\"PHYS 241\\\",\\\"metrics\\\":{\\\"centrality\\\":72,\\\"complexity\\\":17.0,\\\"blocking factor\\\":9,\\\"delay factor\\\":8.0},\\\"nameSub\\\":\\\"Electricity & Magnetism\\\",\\\"id\\\":20,\\\"credits\\\":4,\\\"nameCanonical\\\":\\\"\\\"},{\\\"curriculum_requisites\\\":[{\\\"source_id\\\":14,\\\"target_id\\\":21,\\\"type\\\":\\\"CurriculumPrerequisite\\\"}],\\\"name\\\":\\\"CHEM 241B\\\",\\\"metrics\\\":{\\\"centrality\\\":0,\\\"complexity\\\":4.0,\\\"blocking factor\\\":0,\\\"delay factor\\\":4.0},\\\"nameSub\\\":\\\"Lectures in Org Chem\\\",\\\"id\\\":21,\\\"credits\\\":3,\\\"nameCanonical\\\":\\\"\\\"}],\\\"id\\\":4},{\\\"name\\\":\\\"Term 5\\\",\\\"curriculum_items\\\":[{\\\"curriculum_requisites\\\":[{\\\"source_id\\\":18,\\\"target_id\\\":22,\\\"type\\\":\\\"CurriculumPrerequisite\\\"}],\\\"name\\\":\\\"CHEE 303\\\",\\\"metrics\\\":{\\\"centrality\\\":447,\\\"complexity\\\":20.0,\\\"blocking factor\\\":9,\\\"delay factor\\\":11.0},\\\"nameSub\\\":\\\"Chem Eng Mass Xfer\\\",\\\"id\\\":22,\\\"credits\\\":3,\\\"nameCanonical\\\":\\\"\\\"},{\\\"curriculum_requisites\\\":[{\\\"source_id\\\":22,\\\"target_id\\\":23,\\\"type\\\":\\\"CurriculumStrictCorequisite\\\"},{\\\"source_id\\\":17,\\\"target_id\\\":23,\\\"type\\\":\\\"CurriculumPrerequisite\\\"},{\\\"source_id\\\":19,\\\"target_id\\\":23,\\\"type\\\":\\\"CurriculumPrerequisite\\\"}],\\\"name\\\":\\\"CHEE 402\\\",\\\"metrics\\\":{\\\"centrality\\\":492,\\\"complexity\\\":17.0,\\\"blocking factor\\\":6,\\\"delay factor\\\":11.0},\\\"nameSub\\\":\\\"Chem Eng Modeling\\\",\\\"id\\\":23,\\\"credits\\\":3,\\\"nameCanonical\\\":\\\"\\\"},{\\\"curriculum_requisites\\\":[{\\\"source_id\\\":22,\\\"target_id\\\":24,\\\"type\\\":\\\"CurriculumStrictCorequisite\\\"},{\\\"source_id\\\":18,\\\"target_id\\\":24,\\\"type\\\":\\\"CurriculumPrerequisite\\\"},{\\\"source_id\\\":17,\\\"target_id\\\":24,\\\"type\\\":\\\"CurriculumPrerequisite\\\"},{\\\"source_id\\\":23,\\\"target_id\\\":24,\\\"type\\\":\\\"CurriculumStrictCorequisite\\\"},{\\\"source_id\\\":19,\\\"target_id\\\":24,\\\"type\\\":\\\"CurriculumPrerequisite\\\"}],\\\"name\\\":\\\"CHEE 301A\\\",\\\"metrics\\\":{\\\"centrality\\\":544,\\\"complexity\\\":14.0,\\\"blocking factor\\\":3,\\\"delay factor\\\":11.0},\\\"nameSub\\\":\\\"Chem Eng Lab I\\\",\\\"id\\\":24,\\\"credits\\\":1,\\\"nameCanonical\\\":\\\"\\\"},{\\\"curriculum_requisites\\\":[],\\\"name\\\":\\\"CHEE 489\\\",\\\"metrics\\\":{\\\"centrality\\\":0,\\\"complexity\\\":1.0,\\\"blocking factor\\\":0,\\\"delay factor\\\":1.0},\\\"nameSub\\\":\\\"Trends in Nanomedicine Eng\\\",\\\"id\\\":25,\\\"credits\\\":3,\\\"nameCanonical\\\":\\\"\\\"},{\\\"curriculum_requisites\\\":[{\\\"source_id\\\":6,\\\"target_id\\\":26,\\\"type\\\":\\\"CurriculumPrerequisite\\\"},{\\\"source_id\\\":20,\\\"target_id\\\":26,\\\"type\\\":\\\"CurriculumCorequisite\\\"},{\\\"source_id\\\":2,\\\"target_id\\\":26,\\\"type\\\":\\\"CurriculumPrerequisite\\\"}],\\\"name\\\":\\\"CHEM 480A\\\",\\\"metrics\\\":{\\\"centrality\\\":129,\\\"complexity\\\":16.0,\\\"blocking factor\\\":8,\\\"delay factor\\\":8.0},\\\"nameSub\\\":\\\"Physical Chem\\\",\\\"id\\\":26,\\\"credits\\\":3,\\\"nameCanonical\\\":\\\"\\\"},{\\\"curriculum_requisites\\\":[],\\\"name\\\":\\\" \\\",\\\"metrics\\\":{\\\"centrality\\\":0,\\\"complexity\\\":1.0,\\\"blocking factor\\\":0,\\\"delay factor\\\":1.0},\\\"nameSub\\\":\\\"Tier I General Ed\\\",\\\"id\\\":27,\\\"credits\\\":3,\\\"nameCanonical\\\":\\\"\\\"}],\\\"id\\\":5},{\\\"name\\\":\\\"Term 6\\\",\\\"curriculum_items\\\":[{\\\"curriculum_requisites\\\":[{\\\"source_id\\\":22,\\\"target_id\\\":28,\\\"type\\\":\\\"CurriculumPrerequisite\\\"},{\\\"source_id\\\":23,\\\"target_id\\\":28,\\\"type\\\":\\\"CurriculumPrerequisite\\\"}],\\\"name\\\":\\\"CHEE 305\\\",\\\"metrics\\\":{\\\"centrality\\\":191,\\\"complexity\\\":14.0,\\\"blocking factor\\\":3,\\\"delay factor\\\":11.0},\\\"nameSub\\\":\\\"Chem Eng Transport Phenom\\\",\\\"id\\\":28,\\\"credits\\\":3,\\\"nameCanonical\\\":\\\"\\\"},{\\\"curriculum_requisites\\\":[{\\\"source_id\\\":11,\\\"target_id\\\":29,\\\"type\\\":\\\"CurriculumPrerequisite\\\"},{\\\"source_id\\\":26,\\\"target_id\\\":29,\\\"type\\\":\\\"CurriculumPrerequisite\\\"}],\\\"name\\\":\\\"CHEE 326\\\",\\\"metrics\\\":{\\\"centrality\\\":247,\\\"complexity\\\":14.0,\\\"blocking factor\\\":6,\\\"delay factor\\\":8.0},\\\"nameSub\\\":\\\"Chem & Phys Equilibrium\\\",\\\"id\\\":29,\\\"credits\\\":3,\\\"nameCanonical\\\":\\\"\\\"},{\\\"curriculum_requisites\\\":[{\\\"source_id\\\":22,\\\"target_id\\\":31,\\\"type\\\":\\\"CurriculumPrerequisite\\\"},{\\\"source_id\\\":29,\\\"target_id\\\":31,\\\"type\\\":\\\"CurriculumStrictCorequisite\\\"},{\\\"source_id\\\":24,\\\"target_id\\\":31,\\\"type\\\":\\\"CurriculumPrerequisite\\\"},{\\\"source_id\\\":28,\\\"target_id\\\":31,\\\"type\\\":\\\"CurriculumStrictCorequisite\\\"}],\\\"name\\\":\\\"CHEE 301B\\\",\\\"metrics\\\":{\\\"centrality\\\":610,\\\"complexity\\\":13.0,\\\"blocking factor\\\":2,\\\"delay factor\\\":11.0},\\\"nameSub\\\":\\\"Chem Eng Lab II\\\",\\\"id\\\":31,\\\"credits\\\":1,\\\"nameCanonical\\\":\\\"\\\"},{\\\"curriculum_requisites\\\":[],\\\"name\\\":\\\" \\\",\\\"metrics\\\":{\\\"centrality\\\":0,\\\"complexity\\\":1.0,\\\"blocking factor\\\":0,\\\"delay factor\\\":1.0},\\\"nameSub\\\":\\\"Engineering Elective\\\",\\\"id\\\":32,\\\"credits\\\":3,\\\"nameCanonical\\\":\\\"\\\"},{\\\"curriculum_requisites\\\":[],\\\"name\\\":\\\" \\\",\\\"metrics\\\":{\\\"centrality\\\":0,\\\"complexity\\\":1.0,\\\"blocking factor\\\":0,\\\"delay factor\\\":1.0},\\\"nameSub\\\":\\\"Technical Elective\\\",\\\"id\\\":33,\\\"credits\\\":3,\\\"nameCanonical\\\":\\\"\\\"},{\\\"curriculum_requisites\\\":[],\\\"name\\\":\\\" \\\",\\\"metrics\\\":{\\\"centrality\\\":0,\\\"complexity\\\":1.0,\\\"blocking factor\\\":0,\\\"delay factor\\\":1.0},\\\"nameSub\\\":\\\"Tier I General Ed\\\",\\\"id\\\":34,\\\"credits\\\":3,\\\"nameCanonical\\\":\\\"\\\"}],\\\"id\\\":6},{\\\"name\\\":\\\"Term 7\\\",\\\"curriculum_items\\\":[{\\\"curriculum_requisites\\\":[{\\\"source_id\\\":29,\\\"target_id\\\":35,\\\"type\\\":\\\"CurriculumPrerequisite\\\"}],\\\"name\\\":\\\"CHEE 420\\\",\\\"metrics\\\":{\\\"centrality\\\":128,\\\"complexity\\\":12.0,\\\"blocking factor\\\":4,\\\"delay factor\\\":8.0},\\\"nameSub\\\":\\\"Chem Reaction Eng\\\",\\\"id\\\":35,\\\"credits\\\":3,\\\"nameCanonical\\\":\\\"\\\"},{\\\"curriculum_requisites\\\":[{\\\"source_id\\\":22,\\\"target_id\\\":36,\\\"type\\\":\\\"CurriculumPrerequisite\\\"},{\\\"source_id\\\":29,\\\"target_id\\\":36,\\\"type\\\":\\\"CurriculumPrerequisite\\\"},{\\\"source_id\\\":35,\\\"target_id\\\":36,\\\"type\\\":\\\"CurriculumStrictCorequisite\\\"}],\\\"name\\\":\\\"CHEE 442\\\",\\\"metrics\\\":{\\\"centrality\\\":160,\\\"complexity\\\":9.0,\\\"blocking factor\\\":1,\\\"delay factor\\\":8.0},\\\"nameSub\\\":\\\"Chem Eng Design Principles\\\",\\\"id\\\":36,\\\"credits\\\":3,\\\"nameCanonical\\\":\\\"\\\"},{\\\"curriculum_requisites\\\":[{\\\"source_id\\\":35,\\\"target_id\\\":37,\\\"type\\\":\\\"CurriculumCorequisite\\\"},{\\\"source_id\\\":31,\\\"target_id\\\":37,\\\"type\\\":\\\"CurriculumPrerequisite\\\"}],\\\"name\\\":\\\"CHEE 401A\\\",\\\"metrics\\\":{\\\"centrality\\\":674,\\\"complexity\\\":12.0,\\\"blocking factor\\\":1,\\\"delay factor\\\":11.0},\\\"nameSub\\\":\\\"Chem and Enviorn Eng Lab I\\\",\\\"id\\\":37,\\\"credits\\\":1,\\\"nameCanonical\\\":\\\"\\\"},{\\\"curriculum_requisites\\\":[],\\\"name\\\":\\\" \\\",\\\"metrics\\\":{\\\"centrality\\\":0,\\\"complexity\\\":1.0,\\\"blocking factor\\\":0,\\\"delay factor\\\":1.0},\\\"nameSub\\\":\\\"Engineering Elective\\\",\\\"id\\\":38,\\\"credits\\\":3,\\\"nameCanonical\\\":\\\"\\\"},{\\\"curriculum_requisites\\\":[{\\\"source_id\\\":26,\\\"target_id\\\":39,\\\"type\\\":\\\"CurriculumPrerequisite\\\"}],\\\"name\\\":\\\"CHEM 480B\\\",\\\"metrics\\\":{\\\"centrality\\\":0,\\\"complexity\\\":5.0,\\\"blocking factor\\\":0,\\\"delay factor\\\":5.0},\\\"nameSub\\\":\\\"Physical Chem\\\",\\\"id\\\":39,\\\"credits\\\":3,\\\"nameCanonical\\\":\\\"\\\"},{\\\"curriculum_requisites\\\":[],\\\"name\\\":\\\" \\\",\\\"metrics\\\":{\\\"centrality\\\":0,\\\"complexity\\\":1.0,\\\"blocking factor\\\":0,\\\"delay factor\\\":1.0},\\\"nameSub\\\":\\\"Tier II General Ed\\\",\\\"id\\\":40,\\\"credits\\\":3,\\\"nameCanonical\\\":\\\"\\\"}],\\\"id\\\":7},{\\\"name\\\":\\\"Term 8\\\",\\\"curriculum_items\\\":[{\\\"curriculum_requisites\\\":[{\\\"source_id\\\":23,\\\"target_id\\\":41,\\\"type\\\":\\\"CurriculumPrerequisite\\\"}],\\\"name\\\":\\\"CHEE 413\\\",\\\"metrics\\\":{\\\"centrality\\\":108,\\\"complexity\\\":10.0,\\\"blocking factor\\\":1,\\\"delay factor\\\":9.0},\\\"nameSub\\\":\\\"Process Control and Simulation\\\",\\\"id\\\":41,\\\"credits\\\":3,\\\"nameCanonical\\\":\\\"\\\"},{\\\"curriculum_requisites\\\":[{\\\"source_id\\\":41,\\\"target_id\\\":42,\\\"type\\\":\\\"CurriculumCorequisite\\\"},{\\\"source_id\\\":24,\\\"target_id\\\":42,\\\"type\\\":\\\"CurriculumPrerequisite\\\"},{\\\"source_id\\\":37,\\\"target_id\\\":42,\\\"type\\\":\\\"CurriculumPrerequisite\\\"}],\\\"name\\\":\\\"CHEE 401B\\\",\\\"metrics\\\":{\\\"centrality\\\":0,\\\"complexity\\\":11.0,\\\"blocking factor\\\":0,\\\"delay factor\\\":11.0},\\\"nameSub\\\":\\\"Process Dynamics and Control Lab\\\",\\\"id\\\":42,\\\"credits\\\":1,\\\"nameCanonical\\\":\\\"\\\"},{\\\"curriculum_requisites\\\":[{\\\"source_id\\\":36,\\\"target_id\\\":43,\\\"type\\\":\\\"CurriculumPrerequisite\\\"}],\\\"name\\\":\\\"CHEE 443\\\",\\\"metrics\\\":{\\\"centrality\\\":0,\\\"complexity\\\":8.0,\\\"blocking factor\\\":0,\\\"delay factor\\\":8.0},\\\"nameSub\\\":\\\"Chem Eng Plant Design\\\",\\\"id\\\":43,\\\"credits\\\":3,\\\"nameCanonical\\\":\\\"\\\"},{\\\"curriculum_requisites\\\":[],\\\"name\\\":\\\" \\\",\\\"metrics\\\":{\\\"centrality\\\":0,\\\"complexity\\\":1.0,\\\"blocking factor\\\":0,\\\"delay factor\\\":1.0},\\\"nameSub\\\":\\\"Engineering Elective\\\",\\\"id\\\":44,\\\"credits\\\":3,\\\"nameCanonical\\\":\\\"\\\"},{\\\"curriculum_requisites\\\":[],\\\"name\\\":\\\" \\\",\\\"metrics\\\":{\\\"centrality\\\":0,\\\"complexity\\\":1.0,\\\"blocking factor\\\":0,\\\"delay factor\\\":1.0},\\\"nameSub\\\":\\\"Technical Elective\\\",\\\"id\\\":45,\\\"credits\\\":3,\\\"nameCanonical\\\":\\\"\\\"},{\\\"curriculum_requisites\\\":[],\\\"name\\\":\\\" \\\",\\\"metrics\\\":{\\\"centrality\\\":0,\\\"complexity\\\":1.0,\\\"blocking factor\\\":0,\\\"delay factor\\\":1.0},\\\"nameSub\\\":\\\"Tier II General Ed\\\",\\\"id\\\":46,\\\"credits\\\":3,\\\"nameCanonical\\\":\\\"\\\"}],\\\"id\\\":8}],\\\"institution\\\":\\\"University of Arizona\\\"}},\\\"*\\\"); window.removeEventListener(\\\"message\\\",window.messageReceived); window.messageReceived=(function (event){return (event.data.curriculum!==undefined) ? (WebIO.setval({\\\"name\\\":\\\"curriculum-data\\\",\\\"scope\\\":\\\"3408441405120621895\\\",\\\"id\\\":\\\"5933751363391028629\\\",\\\"type\\\":\\\"observable\\\"},event.data.curriculum)) : undefined}); return window.addEventListener(\\\"message\\\",window.messageReceived)})\")), :style => Dict(:padding => \"0\", :height => \"85vh\", :margin => \"0\", :border => \"none\", :width => \"100%\"))), Dict{String, Tuple{Observables.AbstractObservable, Union{Nothing, Bool}}}(\"curriculum-data\" => (Observable{Dict{String, Any}} with 1 listeners. Value:\n",
       "Dict{String, Any}(\"options\" => Dict{String, Any}(\"hideTerms\" => false, \"edit\" => false), \"curriculum\" => Dict{String, Any}(\"name\" => \"Chemical Engineering\", \"dp_name\" => \"2019-20 Degree Plan\", \"curriculum_terms\" => Dict{String, Any}[Dict(\"name\" => \"Term 1\", \"curriculum_items\" => Dict{String, Any}[Dict(\"curriculum_requisites\" => Dict{String, Any}[], \"name\" => \"MATH 125\", \"metrics\" => Dict{String, Any}(\"centrality\" => 0, \"complexity\" => 37.0, \"blocking factor\" => 26, \"delay factor\" => 11.0), \"nameSub\" => \"Calculus I w/ Applications\", \"id\" => 1, \"credits\" => 3, \"nameCanonical\" => \"\"), Dict(\"curriculum_requisites\" => Dict{String, Any}[], \"name\" => \"CHEM 151\", \"metrics\" => Dict{String, Any}(\"centrality\" => 0, \"complexity\" => 31.0, \"blocking factor\" => 21, \"delay factor\" => 10.0), \"nameSub\" => \"Gen Chemistry I\", \"id\" => 2, \"credits\" => 4, \"nameCanonical\" => \"\"), Dict(\"curriculum_requisites\" => Dict{String, Any}[], \"name\" => \"ENGL 101\", \"metrics\" => Dict{String, Any}(\"centrality\" => 0, \"complexity\" => 3.0, \"blocking factor\" => 1, \"delay factor\" => 2.0), \"nameSub\" => \"First-year Comp\", \"id\" => 3, \"credits\" => 3, \"nameCanonical\" => \"\"), Dict(\"curriculum_requisites\" => Dict{String, Any}[Dict(\"source_id\" => 1, \"target_id\" => 4, \"type\" => \"CurriculumCorequisite\")], \"name\" => \"ENGR 102\", \"metrics\" => Dict{String, Any}(\"centrality\" => 163, \"complexity\" => 25.0, \"blocking factor\" => 15, \"delay factor\" => 10.0), \"nameSub\" => \"Intro to Engineering\", \"id\" => 4, \"credits\" => 3, \"nameCanonical\" => \"\"), Dict(\"curriculum_requisites\" => Dict{String, Any}[], \"name\" => \" \", \"metrics\" => Dict{String, Any}(\"centrality\" => 0, \"complexity\" => 1.0, \"blocking factor\" => 0, \"delay factor\" => 1.0), \"nameSub\" => \"Tier I General Ed\", \"id\" => 5, \"credits\" => 3, \"nameCanonical\" => \"\")], \"id\" => 1), Dict(\"name\" => \"Term 2\", \"curriculum_items\" => Dict{String, Any}[Dict(\"curriculum_requisites\" => Dict{String, Any}[Dict(\"source_id\" => 1, \"target_id\" => 6, \"type\" => \"CurriculumPrerequisite\")], \"name\" => \"MATH 129\", \"metrics\" => Dict{String, Any}(\"centrality\" => 156, \"complexity\" => 26.0, \"blocking factor\" => 17, \"delay factor\" => 9.0), \"nameSub\" => \"Calculus II\", \"id\" => 6, \"credits\" => 3, \"nameCanonical\" => \"\"), Dict(\"curriculum_requisites\" => Dict{String, Any}[Dict(\"source_id\" => 2, \"target_id\" => 7, \"type\" => \"CurriculumPrerequisite\")], \"name\" => \"CHEM 152\", \"metrics\" => Dict{String, Any}(\"centrality\" => 171, \"complexity\" => 28.0, \"blocking factor\" => 18, \"delay factor\" => 10.0), \"nameSub\" => \"Gen Chemistry II\", \"id\" => 7, \"credits\" => 4, \"nameCanonical\" => \"\"), Dict(\"curriculum_requisites\" => Dict{String, Any}[Dict(\"source_id\" => 1, \"target_id\" => 8, \"type\" => \"CurriculumPrerequisite\")], \"name\" => \"PHYS 141\", \"metrics\" => Dict{String, Any}(\"centrality\" => 115, \"complexity\" => 25.0, \"blocking factor\" => 16, \"delay factor\" => 9.0), \"nameSub\" => \"Intro Mechanics\", \"id\" => 8, \"credits\" => 4, \"nameCanonical\" => \"\"), Dict(\"curriculum_requisites\" => Dict{String, Any}[Dict(\"source_id\" => 3, \"target_id\" => 9, \"type\" => \"CurriculumPrerequisite\")], \"name\" => \"ENGL 102\", \"metrics\" => Dict{String, Any}(\"centrality\" => 0, \"complexity\" => 2.0, \"blocking factor\" => 0, \"delay factor\" => 2.0), \"nameSub\" => \"First-year Comp.\", \"id\" => 9, \"credits\" => 3, \"nameCanonical\" => \"\"), Dict(\"curriculum_requisites\" => Dict{String, Any}[Dict(\"source_id\" => 1, \"target_id\" => 10, \"type\" => \"CurriculumCorequisite\")], \"name\" => \"AME 105\", \"metrics\" => Dict{String, Any}(\"centrality\" => 393, \"complexity\" => 28.0, \"blocking factor\" => 17, \"delay factor\" => 11.0), \"nameSub\" => \"Intro to MATLAB I\", \"id\" => 10, \"credits\" => 1, \"nameCanonical\" => \"\")], \"id\" => 2), Dict(\"name\" => \"Term 3\", \"curriculum_items\" => Dict{String, Any}[Dict(\"curriculum_requisites\" => Dict{String, Any}[Dict(\"source_id\" => 4, \"target_id\" => 11, \"type\" => \"CurriculumPrerequisite\"), Dict(\"source_id\" => 47, \"target_id\" => 11, \"type\" => \"CurriculumCorequisite\"), Dict(\"source_id\" => 7, \"target_id\" => 11, \"type\" => \"CurriculumPrerequisite\"), Dict(\"source_id\" => 10, \"target_id\" => 11, \"type\" => \"CurriculumPrerequisite\"), Dict(\"source_id\" => 1, \"target_id\" => 11, \"type\" => \"CurriculumPrerequisite\")], \"name\" => \"CHEE 201\", \"metrics\" => Dict{String, Any}(\"centrality\" => 815, \"complexity\" => 25.0, \"blocking factor\" => 14, \"delay factor\" => 11.0), \"nameSub\" => \"Elements of Chem and Envirn Eng I\", \"id\" => 11, \"credits\" => 3, \"nameCanonical\" => \"\"), Dict(\"curriculum_requisites\" => Dict{String, Any}[Dict(\"source_id\" => 10, \"target_id\" => 12, \"type\" => \"CurriculumCorequisite\"), Dict(\"source_id\" => 1, \"target_id\" => 12, \"type\" => \"CurriculumPrerequisite\")], \"name\" => \"CHEE 201L\", \"metrics\" => Dict{String, Any}(\"centrality\" => 86, \"complexity\" => 17.0, \"blocking factor\" => 8, \"delay factor\" => 9.0), \"nameSub\" => \"Elements of Chem and Envirn Eng I Lab\", \"id\" => 12, \"credits\" => 1, \"nameCanonical\" => \"\"), Dict(\"curriculum_requisites\" => Dict{String, Any}[Dict(\"source_id\" => 6, \"target_id\" => 13, \"type\" => \"CurriculumPrerequisite\")], \"name\" => \"MATH  223\", \"metrics\" => Dict{String, Any}(\"centrality\" => 0, \"complexity\" => 3.0, \"blocking factor\" => 0, \"delay factor\" => 3.0), \"nameSub\" => \"Vector Calculus\", \"id\" => 13, \"credits\" => 4, \"nameCanonical\" => \"\"), Dict(\"curriculum_requisites\" => Dict{String, Any}[Dict(\"source_id\" => 7, \"target_id\" => 14, \"type\" => \"CurriculumPrerequisite\")], \"name\" => \"CHEM  241A\", \"metrics\" => Dict{String, Any}(\"centrality\" => 8, \"complexity\" => 6.0, \"blocking factor\" => 2, \"delay factor\" => 4.0), \"nameSub\" => \"Lectures in Org Chem\", \"id\" => 14, \"credits\" => 3, \"nameCanonical\" => \"\"), Dict(\"curriculum_requisites\" => Dict{String, Any}[Dict(\"source_id\" => 14, \"target_id\" => 15, \"type\" => \"CurriculumCorequisite\")], \"name\" => \"CHEM  243A\", \"metrics\" => Dict{String, Any}(\"centrality\" => 0, \"complexity\" => 4.0, \"blocking factor\" => 0, \"delay factor\" => 4.0), \"nameSub\" => \"Org Chem Lab\", \"id\" => 15, \"credits\" => 1, \"nameCanonical\" => \"\"), Dict(\"curriculum_requisites\" => Dict{String, Any}[], \"name\" => \" \", \"metrics\" => Dict{String, Any}(\"centrality\" => 0, \"complexity\" => 1.0, \"blocking factor\" => 0, \"delay factor\" => 1.0), \"nameSub\" => \"Tier I General Ed\", \"id\" => 16, \"credits\" => 3, \"nameCanonical\" => \"\"), Dict(\"curriculum_requisites\" => Dict{String, Any}[Dict(\"source_id\" => 10, \"target_id\" => 47, \"type\" => \"CurriculumPrerequisite\")], \"name\" => \"AME 205\", \"metrics\" => Dict{String, Any}(\"centrality\" => 184, \"complexity\" => 26.0, \"blocking factor\" => 15, \"delay factor\" => 11.0), \"nameSub\" => \"Intro to MATLAB II\", \"id\" => 47, \"credits\" => 1, \"nameCanonical\" => \"\")], \"id\" => 3), Dict(\"name\" => \"Term 4\", \"curriculum_items\" => Dict{String, Any}[Dict(\"curriculum_requisites\" => Dict{String, Any}[Dict(\"source_id\" => 11, \"target_id\" => 17, \"type\" => \"CurriculumPrerequisite\"), Dict(\"source_id\" => 12, \"target_id\" => 17, \"type\" => \"CurriculumPrerequisite\"), Dict(\"source_id\" => 19, \"target_id\" => 17, \"type\" => \"CurriculumCorequisite\")], \"name\" => \"CHEE 202\", \"metrics\" => Dict{String, Any}(\"centrality\" => 362, \"complexity\" => 17.0, \"blocking factor\" => 7, \"delay factor\" => 10.0), \"nameSub\" => \"Elements of Chem Eng II\", \"id\" => 17, \"credits\" => 4, \"nameCanonical\" => \"\"), Dict(\"curriculum_requisites\" => Dict{String, Any}[Dict(\"source_id\" => 11, \"target_id\" => 18, \"type\" => \"CurriculumPrerequisite\"), Dict(\"source_id\" => 8, \"target_id\" => 18, \"type\" => \"CurriculumPrerequisite\")], \"name\" => \"CHEE 203\", \"metrics\" => Dict{String, Any}(\"centrality\" => 529, \"complexity\" => 21.0, \"blocking factor\" => 10, \"delay factor\" => 11.0), \"nameSub\" => \"Chem Eng Heat Xfer & Fluid Flow\", \"id\" => 18, \"credits\" => 3, \"nameCanonical\" => \"\"), Dict(\"curriculum_requisites\" => Dict{String, Any}[Dict(\"source_id\" => 6, \"target_id\" => 19, \"type\" => \"CurriculumPrerequisite\")], \"name\" => \"MATH 254\", \"metrics\" => Dict{String, Any}(\"centrality\" => 86, \"complexity\" => 17.0, \"blocking factor\" => 8, \"delay factor\" => 9.0), \"nameSub\" => \"Intro to ODEs\", \"id\" => 19, \"credits\" => 3, \"nameCanonical\" => \"\"), Dict(\"curriculum_requisites\" => Dict{String, Any}[Dict(\"source_id\" => 6, \"target_id\" => 20, \"type\" => \"CurriculumPrerequisite\"), Dict(\"source_id\" => 8, \"target_id\" => 20, \"type\" => \"CurriculumPrerequisite\")], \"name\" => \"PHYS 241\", \"metrics\" => Dict{String, Any}(\"centrality\" => 72, \"complexity\" => 17.0, \"blocking factor\" => 9, \"delay factor\" => 8.0), \"nameSub\" => \"Electricity & Magnetism\", \"id\" => 20, \"credits\" => 4, \"nameCanonical\" => \"\"), Dict(\"curriculum_requisites\" => Dict{String, Any}[Dict(\"source_id\" => 14, \"target_id\" => 21, \"type\" => \"CurriculumPrerequisite\")], \"name\" => \"CHEM 241B\", \"metrics\" => Dict{String, Any}(\"centrality\" => 0, \"complexity\" => 4.0, \"blocking factor\" => 0, \"delay factor\" => 4.0), \"nameSub\" => \"Lectures in Org Chem\", \"id\" => 21, \"credits\" => 3, \"nameCanonical\" => \"\")], \"id\" => 4), Dict(\"name\" => \"Term 5\", \"curriculum_items\" => Dict{String, Any}[Dict(\"curriculum_requisites\" => Dict{String, Any}[Dict(\"source_id\" => 18, \"target_id\" => 22, \"type\" => \"CurriculumPrerequisite\")], \"name\" => \"CHEE 303\", \"metrics\" => Dict{String, Any}(\"centrality\" => 447, \"complexity\" => 20.0, \"blocking factor\" => 9, \"delay factor\" => 11.0), \"nameSub\" => \"Chem Eng Mass Xfer\", \"id\" => 22, \"credits\" => 3, \"nameCanonical\" => \"\"), Dict(\"curriculum_requisites\" => Dict{String, Any}[Dict(\"source_id\" => 22, \"target_id\" => 23, \"type\" => \"CurriculumStrictCorequisite\"), Dict(\"source_id\" => 17, \"target_id\" => 23, \"type\" => \"CurriculumPrerequisite\"), Dict(\"source_id\" => 19, \"target_id\" => 23, \"type\" => \"CurriculumPrerequisite\")], \"name\" => \"CHEE 402\", \"metrics\" => Dict{String, Any}(\"centrality\" => 492, \"complexity\" => 17.0, \"blocking factor\" => 6, \"delay factor\" => 11.0), \"nameSub\" => \"Chem Eng Modeling\", \"id\" => 23, \"credits\" => 3, \"nameCanonical\" => \"\"), Dict(\"curriculum_requisites\" => Dict{String, Any}[Dict(\"source_id\" => 22, \"target_id\" => 24, \"type\" => \"CurriculumStrictCorequisite\"), Dict(\"source_id\" => 18, \"target_id\" => 24, \"type\" => \"CurriculumPrerequisite\"), Dict(\"source_id\" => 17, \"target_id\" => 24, \"type\" => \"CurriculumPrerequisite\"), Dict(\"source_id\" => 23, \"target_id\" => 24, \"type\" => \"CurriculumStrictCorequisite\"), Dict(\"source_id\" => 19, \"target_id\" => 24, \"type\" => \"CurriculumPrerequisite\")], \"name\" => \"CHEE 301A\", \"metrics\" => Dict{String, Any}(\"centrality\" => 544, \"complexity\" => 14.0, \"blocking factor\" => 3, \"delay factor\" => 11.0), \"nameSub\" => \"Chem Eng Lab I\", \"id\" => 24, \"credits\" => 1, \"nameCanonical\" => \"\"), Dict(\"curriculum_requisites\" => Dict{String, Any}[], \"name\" => \"CHEE 489\", \"metrics\" => Dict{String, Any}(\"centrality\" => 0, \"complexity\" => 1.0, \"blocking factor\" => 0, \"delay factor\" => 1.0), \"nameSub\" => \"Trends in Nanomedicine Eng\", \"id\" => 25, \"credits\" => 3, \"nameCanonical\" => \"\"), Dict(\"curriculum_requisites\" => Dict{String, Any}[Dict(\"source_id\" => 6, \"target_id\" => 26, \"type\" => \"CurriculumPrerequisite\"), Dict(\"source_id\" => 20, \"target_id\" => 26, \"type\" => \"CurriculumCorequisite\"), Dict(\"source_id\" => 2, \"target_id\" => 26, \"type\" => \"CurriculumPrerequisite\")], \"name\" => \"CHEM 480A\", \"metrics\" => Dict{String, Any}(\"centrality\" => 129, \"complexity\" => 16.0, \"blocking factor\" => 8, \"delay factor\" => 8.0), \"nameSub\" => \"Physical Chem\", \"id\" => 26, \"credits\" => 3, \"nameCanonical\" => \"\"), Dict(\"curriculum_requisites\" => Dict{String, Any}[], \"name\" => \" \", \"metrics\" => Dict{String, Any}(\"centrality\" => 0, \"complexity\" => 1.0, \"blocking factor\" => 0, \"delay factor\" => 1.0), \"nameSub\" => \"Tier I General Ed\", \"id\" => 27, \"credits\" => 3, \"nameCanonical\" => \"\")], \"id\" => 5), Dict(\"name\" => \"Term 6\", \"curriculum_items\" => Dict{String, Any}[Dict(\"curriculum_requisites\" => Dict{String, Any}[Dict(\"source_id\" => 22, \"target_id\" => 28, \"type\" => \"CurriculumPrerequisite\"), Dict(\"source_id\" => 23, \"target_id\" => 28, \"type\" => \"CurriculumPrerequisite\")], \"name\" => \"CHEE 305\", \"metrics\" => Dict{String, Any}(\"centrality\" => 191, \"complexity\" => 14.0, \"blocking factor\" => 3, \"delay factor\" => 11.0), \"nameSub\" => \"Chem Eng Transport Phenom\", \"id\" => 28, \"credits\" => 3, \"nameCanonical\" => \"\"), Dict(\"curriculum_requisites\" => Dict{String, Any}[Dict(\"source_id\" => 11, \"target_id\" => 29, \"type\" => \"CurriculumPrerequisite\"), Dict(\"source_id\" => 26, \"target_id\" => 29, \"type\" => \"CurriculumPrerequisite\")], \"name\" => \"CHEE 326\", \"metrics\" => Dict{String, Any}(\"centrality\" => 247, \"complexity\" => 14.0, \"blocking factor\" => 6, \"delay factor\" => 8.0), \"nameSub\" => \"Chem & Phys Equilibrium\", \"id\" => 29, \"credits\" => 3, \"nameCanonical\" => \"\"), Dict(\"curriculum_requisites\" => Dict{String, Any}[Dict(\"source_id\" => 22, \"target_id\" => 31, \"type\" => \"CurriculumPrerequisite\"), Dict(\"source_id\" => 29, \"target_id\" => 31, \"type\" => \"CurriculumStrictCorequisite\"), Dict(\"source_id\" => 24, \"target_id\" => 31, \"type\" => \"CurriculumPrerequisite\"), Dict(\"source_id\" => 28, \"target_id\" => 31, \"type\" => \"CurriculumStrictCorequisite\")], \"name\" => \"CHEE 301B\", \"metrics\" => Dict{String, Any}(\"centrality\" => 610, \"complexity\" => 13.0, \"blocking factor\" => 2, \"delay factor\" => 11.0), \"nameSub\" => \"Chem Eng Lab II\", \"id\" => 31, \"credits\" => 1, \"nameCanonical\" => \"\"), Dict(\"curriculum_requisites\" => Dict{String, Any}[], \"name\" => \" \", \"metrics\" => Dict{String, Any}(\"centrality\" => 0, \"complexity\" => 1.0, \"blocking factor\" => 0, \"delay factor\" => 1.0), \"nameSub\" => \"Engineering Elective\", \"id\" => 32, \"credits\" => 3, \"nameCanonical\" => \"\"), Dict(\"curriculum_requisites\" => Dict{String, Any}[], \"name\" => \" \", \"metrics\" => Dict{String, Any}(\"centrality\" => 0, \"complexity\" => 1.0, \"blocking factor\" => 0, \"delay factor\" => 1.0), \"nameSub\" => \"Technical Elective\", \"id\" => 33, \"credits\" => 3, \"nameCanonical\" => \"\"), Dict(\"curriculum_requisites\" => Dict{String, Any}[], \"name\" => \" \", \"metrics\" => Dict{String, Any}(\"centrality\" => 0, \"complexity\" => 1.0, \"blocking factor\" => 0, \"delay factor\" => 1.0), \"nameSub\" => \"Tier I General Ed\", \"id\" => 34, \"credits\" => 3, \"nameCanonical\" => \"\")], \"id\" => 6), Dict(\"name\" => \"Term 7\", \"curriculum_items\" => Dict{String, Any}[Dict(\"curriculum_requisites\" => Dict{String, Any}[Dict(\"source_id\" => 29, \"target_id\" => 35, \"type\" => \"CurriculumPrerequisite\")], \"name\" => \"CHEE 420\", \"metrics\" => Dict{String, Any}(\"centrality\" => 128, \"complexity\" => 12.0, \"blocking factor\" => 4, \"delay factor\" => 8.0), \"nameSub\" => \"Chem Reaction Eng\", \"id\" => 35, \"credits\" => 3, \"nameCanonical\" => \"\"), Dict(\"curriculum_requisites\" => Dict{String, Any}[Dict(\"source_id\" => 22, \"target_id\" => 36, \"type\" => \"CurriculumPrerequisite\"), Dict(\"source_id\" => 29, \"target_id\" => 36, \"type\" => \"CurriculumPrerequisite\"), Dict(\"source_id\" => 35, \"target_id\" => 36, \"type\" => \"CurriculumStrictCorequisite\")], \"name\" => \"CHEE 442\", \"metrics\" => Dict{String, Any}(\"centrality\" => 160, \"complexity\" => 9.0, \"blocking factor\" => 1, \"delay factor\" => 8.0), \"nameSub\" => \"Chem Eng Design Principles\", \"id\" => 36, \"credits\" => 3, \"nameCanonical\" => \"\"), Dict(\"curriculum_requisites\" => Dict{String, Any}[Dict(\"source_id\" => 35, \"target_id\" => 37, \"type\" => \"CurriculumCorequisite\"), Dict(\"source_id\" => 31, \"target_id\" => 37, \"type\" => \"CurriculumPrerequisite\")], \"name\" => \"CHEE 401A\", \"metrics\" => Dict{String, Any}(\"centrality\" => 674, \"complexity\" => 12.0, \"blocking factor\" => 1, \"delay factor\" => 11.0), \"nameSub\" => \"Chem and Enviorn Eng Lab I\", \"id\" => 37, \"credits\" => 1, \"nameCanonical\" => \"\"), Dict(\"curriculum_requisites\" => Dict{String, Any}[], \"name\" => \" \", \"metrics\" => Dict{String, Any}(\"centrality\" => 0, \"complexity\" => 1.0, \"blocking factor\" => 0, \"delay factor\" => 1.0), \"nameSub\" => \"Engineering Elective\", \"id\" => 38, \"credits\" => 3, \"nameCanonical\" => \"\"), Dict(\"curriculum_requisites\" => Dict{String, Any}[Dict(\"source_id\" => 26, \"target_id\" => 39, \"type\" => \"CurriculumPrerequisite\")], \"name\" => \"CHEM 480B\", \"metrics\" => Dict{String, Any}(\"centrality\" => 0, \"complexity\" => 5.0, \"blocking factor\" => 0, \"delay factor\" => 5.0), \"nameSub\" => \"Physical Chem\", \"id\" => 39, \"credits\" => 3, \"nameCanonical\" => \"\"), Dict(\"curriculum_requisites\" => Dict{String, Any}[], \"name\" => \" \", \"metrics\" => Dict{String, Any}(\"centrality\" => 0, \"complexity\" => 1.0, \"blocking factor\" => 0, \"delay factor\" => 1.0), \"nameSub\" => \"Tier II General Ed\", \"id\" => 40, \"credits\" => 3, \"nameCanonical\" => \"\")], \"id\" => 7), Dict(\"name\" => \"Term 8\", \"curriculum_items\" => Dict{String, Any}[Dict(\"curriculum_requisites\" => Dict{String, Any}[Dict(\"source_id\" => 23, \"target_id\" => 41, \"type\" => \"CurriculumPrerequisite\")], \"name\" => \"CHEE 413\", \"metrics\" => Dict{String, Any}(\"centrality\" => 108, \"complexity\" => 10.0, \"blocking factor\" => 1, \"delay factor\" => 9.0), \"nameSub\" => \"Process Control and Simulation\", \"id\" => 41, \"credits\" => 3, \"nameCanonical\" => \"\"), Dict(\"curriculum_requisites\" => Dict{String, Any}[Dict(\"source_id\" => 41, \"target_id\" => 42, \"type\" => \"CurriculumCorequisite\"), Dict(\"source_id\" => 24, \"target_id\" => 42, \"type\" => \"CurriculumPrerequisite\"), Dict(\"source_id\" => 37, \"target_id\" => 42, \"type\" => \"CurriculumPrerequisite\")], \"name\" => \"CHEE 401B\", \"metrics\" => Dict{String, Any}(\"centrality\" => 0, \"complexity\" => 11.0, \"blocking factor\" => 0, \"delay factor\" => 11.0), \"nameSub\" => \"Process Dynamics and Control Lab\", \"id\" => 42, \"credits\" => 1, \"nameCanonical\" => \"\"), Dict(\"curriculum_requisites\" => Dict{String, Any}[Dict(\"source_id\" => 36, \"target_id\" => 43, \"type\" => \"CurriculumPrerequisite\")], \"name\" => \"CHEE 443\", \"metrics\" => Dict{String, Any}(\"centrality\" => 0, \"complexity\" => 8.0, \"blocking factor\" => 0, \"delay factor\" => 8.0), \"nameSub\" => \"Chem Eng Plant Design\", \"id\" => 43, \"credits\" => 3, \"nameCanonical\" => \"\"), Dict(\"curriculum_requisites\" => Dict{String, Any}[], \"name\" => \" \", \"metrics\" => Dict{String, Any}(\"centrality\" => 0, \"complexity\" => 1.0, \"blocking factor\" => 0, \"delay factor\" => 1.0), \"nameSub\" => \"Engineering Elective\", \"id\" => 44, \"credits\" => 3, \"nameCanonical\" => \"\"), Dict(\"curriculum_requisites\" => Dict{String, Any}[], \"name\" => \" \", \"metrics\" => Dict{String, Any}(\"centrality\" => 0, \"complexity\" => 1.0, \"blocking factor\" => 0, \"delay factor\" => 1.0), \"nameSub\" => \"Technical Elective\", \"id\" => 45, \"credits\" => 3, \"nameCanonical\" => \"\"), Dict(\"curriculum_requisites\" => Dict{String, Any}[], \"name\" => \" \", \"metrics\" => Dict{String, Any}(\"centrality\" => 0, \"complexity\" => 1.0, \"blocking factor\" => 0, \"delay factor\" => 1.0), \"nameSub\" => \"Tier II General Ed\", \"id\" => 46, \"credits\" => 3, \"nameCanonical\" => \"\")], \"id\" => 8)], \"institution\" => \"University of Arizona\")), nothing)), Set{String}(), nothing, WebIO.Asset[], Dict{Any, Any}(), WebIO.ConnectionPool(Channel{Any}(32), Set{WebIO.AbstractConnection}(), Condition(Base.InvasiveLinkedList{Task}(Task (runnable) @0x000000016dc3e230, Task (runnable) @0x000000016dc3e230), Base.AlwaysLockedST(1))), WebIO.JSString[])"
      ]
     },
     "execution_count": 19,
     "metadata": {
      "application/vnd.webio.node+json": {
       "kernelId": "69f2e738-3ea3-4246-b4b5-b1a219eb4bdf"
      }
     },
     "output_type": "execute_result"
    }
   ],
   "source": [
    "ChemE = read_csv(\"./programs/UArizona-ChemE.csv\");\n",
    "visualize(ChemE, notebook=true, scale=0.85)"
   ]
  },
  {
   "cell_type": "markdown",
   "metadata": {},
   "source": [
    "### Analysis of the Curriculum\n",
    "Using the `basic_metrics()` function we can analyze the curriculum provided to non-transfer students in the Chemical Engineering program at the University of Arizona."
   ]
  },
  {
   "cell_type": "code",
   "execution_count": 20,
   "metadata": {},
   "outputs": [
    {
     "name": "stdout",
     "output_type": "stream",
     "text": [
      "\n",
      "University of Arizona \n",
      "Curriculum: Chemical Engineering\n",
      "  credit hours = 128\n",
      "  number of courses = 46\n",
      "  Blocking Factor --\n",
      "    entire curriculum = 248\n",
      "    max. value = 26, for course(s): MATH 125 - Calculus I w/ Applications\n",
      "  Centrality --\n",
      "    entire curriculum = 6870\n",
      "    max. value = 815, for course(s): CHEE 201 - Elements of Chem and Envirn Eng I\n",
      "  Delay Factor --\n",
      "    entire curriculum = 301.0\n",
      "    max. value = 11.0, for course(s): MATH 125 - Calculus I w/ Applications, AME 105 - Intro to MATLAB I, CHEE 201 - Elements of Chem and Envirn Eng I, CHEE 203 - Chem Eng Heat Xfer & Fluid Flow, CHEE 303 - Chem Eng Mass Xfer, CHEE 402 - Chem Eng Modeling, CHEE 301A - Chem Eng Lab I, CHEE 305 - Chem Eng Transport Phenom, CHEE 301B - Chem Eng Lab II, CHEE 401A - Chem and Enviorn Eng Lab I, CHEE 401B - Process Dynamics and Control Lab, AME 205 - Intro to MATLAB II\n",
      "  Complexity --\n",
      "    entire curriculum = 549.0\n",
      "    max. value = 37.0, for course(s): MATH 125 - Calculus I w/ Applications\n",
      "  Longest Path(s) --\n",
      "    length = 11, number of paths = 2\n",
      "    path(s):\n",
      "    path 1 = MATH 125 - Calculus I w/ Applications -> AME 105 - Intro to MATLAB I -> AME 205 - Intro to MATLAB II -> CHEE 201 - Elements of Chem and Envirn Eng I -> CHEE 203 - Chem Eng Heat Xfer & Fluid Flow -> CHEE 303 - Chem Eng Mass Xfer -> CHEE 402 - Chem Eng Modeling -> CHEE 301A - Chem Eng Lab I -> CHEE 301B - Chem Eng Lab II -> CHEE 401A - Chem and Enviorn Eng Lab I -> CHEE 401B - Process Dynamics and Control Lab\n",
      "    path 2 = MATH 125 - Calculus I w/ Applications -> AME 105 - Intro to MATLAB I -> AME 205 - Intro to MATLAB II -> CHEE 201 - Elements of Chem and Envirn Eng I -> CHEE 203 - Chem Eng Heat Xfer & Fluid Flow -> CHEE 303 - Chem Eng Mass Xfer -> CHEE 402 - Chem Eng Modeling -> CHEE 305 - Chem Eng Transport Phenom -> CHEE 301B - Chem Eng Lab II -> CHEE 401A - Chem and Enviorn Eng Lab I -> CHEE 401B - Process Dynamics and Control Lab\n",
      "\n"
     ]
    }
   ],
   "source": [
    "ChemE_curric_metrics = basic_metrics(ChemE.curriculum)\n",
    "println(String(take!(ChemE_curric_metrics)))"
   ]
  },
  {
   "cell_type": "markdown",
   "metadata": {},
   "source": [
    "**Curricular Complexity.** A number of items stand out in this analysis. First, the overall complexity of the curriculum, 549, is quite high, even for a STEM-based curriculum. Students attempting to complete curricula with this level of complexity tend to have difficulty completing them on time.\n",
    "\n",
    "**Gateway Course.** Next, notice that the there are two long pathways of requisites in this curriculum, and that both have Calculus I as the first course in the sequence. Thus, this course is likely the most important gateway course in this curriculum. Any delay in completing this course, or any lack of efficacy in attaining the course leanring outcomes will likely lead to a delay in completing this program on time (i.e, in four years)."
   ]
  },
  {
   "cell_type": "code",
   "execution_count": 21,
   "metadata": {},
   "outputs": [
    {
     "name": "stdout",
     "output_type": "stream",
     "text": [
      "\n",
      "Curriculum: Chemical Engineering\n",
      "Degree Plan: 2019-20 Degree Plan\n",
      "  total credit hours = 128\n",
      "  number of terms = 8\n",
      "  max. credits in a term = 17, in term 4\n",
      "  min. credits in a term = 15, in term 2\n",
      "  avg. credits per term = 16.0, with std. dev. = 0.5\n",
      "\n"
     ]
    }
   ],
   "source": [
    "ChemE_dp_metrics = basic_metrics(ChemE)\n",
    "println(String(take!(ChemE_dp_metrics)))"
   ]
  },
  {
   "cell_type": "markdown",
   "metadata": {},
   "source": [
    "Next, we will create a transfer plan that involves starting at a community college, earning the associate of science degree (with a pre-engineering concentration) in the first two years at Pima Community College, and then completing the Chemical Engineering bachelor's degree at the University of Arizona.  In the degree plan provided below, the first four terms are taken at Pima Community College, and the last five terms are taken at the University of Arizona."
   ]
  },
  {
   "cell_type": "code",
   "execution_count": 22,
   "metadata": {
    "scrolled": false
   },
   "outputs": [
    {
     "name": "stdout",
     "output_type": "stream",
     "text": [
      "\u001b[33mWARNING: Curriculum was created, but is invalid due to requisite cycle(s):\u001b[39m\n",
      "University of Arizona:  curriculum 'Chemical Engineering' has requisite cycles:\n",
      "(Chem Eng Transport Phenom, Chem Eng Lab I, Chem Eng Lab II)\n",
      "(Chem Eng Lab I, Chem Eng Lab II, Chem & Phys Equilibrium)\n",
      "\n"
     ]
    },
    {
     "data": {
      "application/vnd.webio.node+json": {
       "children": [
        {
         "children": [
          ""
         ],
         "instanceArgs": {
          "namespace": "html",
          "tag": "iframe"
         },
         "nodeType": "DOM",
         "props": {
          "events": {
           "load": "(function (){this.contentWindow.postMessage({\"options\":{\"hideTerms\":false,\"edit\":false},\"curriculum\":{\"name\":\"Chemical Engineering\",\"dp_name\":\"2019-20 Pima to UA Transfer Degree Plan\",\"curriculum_terms\":[{\"name\":\"Term 1\",\"curriculum_items\":[{\"curriculum_requisites\":[],\"name\":\"MAT 220\",\"metrics\":{\"centrality\":0,\"complexity\":36.0,\"blocking factor\":26,\"delay factor\":10.0},\"nameSub\":\"Calculus I\",\"id\":1,\"credits\":5,\"nameCanonical\":\"Calculus I\"},{\"curriculum_requisites\":[{\"source_id\":3,\"target_id\":2,\"type\":\"CurriculumStrictCorequisite\"}],\"name\":\"CHM 151IN\",\"metrics\":{\"centrality\":291,\"complexity\":30.0,\"blocking factor\":20,\"delay factor\":10.0},\"nameSub\":\"Gen Chemistry I\",\"id\":2,\"credits\":4,\"nameCanonical\":\"General Chemsitry I\"},{\"curriculum_requisites\":[],\"name\":\"CHM 151RC\",\"metrics\":{\"centrality\":0,\"complexity\":31.0,\"blocking factor\":21,\"delay factor\":10.0},\"nameSub\":\"Gen Chemistry I Recitation\",\"id\":3,\"credits\":1,\"nameCanonical\":\"\"},{\"curriculum_requisites\":[],\"name\":\"WRT 101\",\"metrics\":{\"centrality\":0,\"complexity\":3.0,\"blocking factor\":1,\"delay factor\":2.0},\"nameSub\":\"English Composition I\",\"id\":4,\"credits\":3,\"nameCanonical\":\"English Composition I\"},{\"curriculum_requisites\":[{\"source_id\":1,\"target_id\":5,\"type\":\"CurriculumCorequisite\"}],\"name\":\"ENG 102IN\",\"metrics\":{\"centrality\":203,\"complexity\":24.0,\"blocking factor\":15,\"delay factor\":9.0},\"nameSub\":\"Problem-Solving and Engineering Design\",\"id\":5,\"credits\":3,\"nameCanonical\":\"Intro to Engineering\"},{\"curriculum_requisites\":[],\"name\":\" \",\"metrics\":{\"centrality\":0,\"complexity\":1.0,\"blocking factor\":0,\"delay factor\":1.0},\"nameSub\":\"AGEC-S Course\",\"id\":6,\"credits\":3,\"nameCanonical\":\"\"}],\"id\":1},{\"name\":\"Term 2\",\"curriculum_items\":[{\"curriculum_requisites\":[{\"source_id\":1,\"target_id\":7,\"type\":\"CurriculumPrerequisite\"}],\"name\":\"MAT 231\",\"metrics\":{\"centrality\":182,\"complexity\":24.0,\"blocking factor\":16,\"delay factor\":8.0},\"nameSub\":\"Calculus II\",\"id\":7,\"credits\":4,\"nameCanonical\":\"Calculus II\"},{\"curriculum_requisites\":[{\"source_id\":2,\"target_id\":8,\"type\":\"CurriculumPrerequisite\"},{\"source_id\":9,\"target_id\":8,\"type\":\"CurriculumStrictCorequisite\"}],\"name\":\"CHM 152IN\",\"metrics\":{\"centrality\":443,\"complexity\":27.0,\"blocking factor\":17,\"delay factor\":10.0},\"nameSub\":\"Gen Chemistry II\",\"id\":8,\"credits\":4,\"nameCanonical\":\"General Chemsitry II\"},{\"curriculum_requisites\":[],\"name\":\"CHM 152RC\",\"metrics\":{\"centrality\":0,\"complexity\":27.0,\"blocking factor\":18,\"delay factor\":9.0},\"nameSub\":\"Gen Chemistry II Recitation\",\"id\":9,\"credits\":1,\"nameCanonical\":\"\"},{\"curriculum_requisites\":[{\"source_id\":11,\"target_id\":10,\"type\":\"CurriculumStrictCorequisite\"},{\"source_id\":1,\"target_id\":10,\"type\":\"CurriculumPrerequisite\"}],\"name\":\"PHY 210IN\",\"metrics\":{\"centrality\":272,\"complexity\":22.0,\"blocking factor\":14,\"delay factor\":8.0},\"nameSub\":\"Intro Mechanics\",\"id\":10,\"credits\":4,\"nameCanonical\":\"\"},{\"curriculum_requisites\":[],\"name\":\"PHY 210RC\",\"metrics\":{\"centrality\":0,\"complexity\":23.0,\"blocking factor\":15,\"delay factor\":8.0},\"nameSub\":\"Intro Mechanics Recitation\",\"id\":11,\"credits\":1,\"nameCanonical\":\"\"},{\"curriculum_requisites\":[{\"source_id\":4,\"target_id\":12,\"type\":\"CurriculumPrerequisite\"}],\"name\":\"WRT 102\",\"metrics\":{\"centrality\":0,\"complexity\":2.0,\"blocking factor\":0,\"delay factor\":2.0},\"nameSub\":\" English Composition II\",\"id\":12,\"credits\":3,\"nameCanonical\":\" English Composition\"},{\"curriculum_requisites\":[{\"source_id\":1,\"target_id\":13,\"type\":\"CurriculumCorequisite\"}],\"name\":\"ENG 105IN\",\"metrics\":{\"centrality\":503,\"complexity\":27.0,\"blocking factor\":17,\"delay factor\":10.0},\"nameSub\":\"Intro to MATLAB I\",\"id\":13,\"credits\":1,\"nameCanonical\":\"\"}],\"id\":2},{\"name\":\"Term 3\",\"curriculum_items\":[{\"curriculum_requisites\":[],\"name\":\" \",\"metrics\":{\"centrality\":0,\"complexity\":1.0,\"blocking factor\":0,\"delay factor\":1.0},\"nameSub\":\"AGEC-S Course\",\"id\":14,\"credits\":3,\"nameCanonical\":\"\"},{\"curriculum_requisites\":[],\"name\":\" \",\"metrics\":{\"centrality\":0,\"complexity\":1.0,\"blocking factor\":0,\"delay factor\":1.0},\"nameSub\":\"AGEC-S Course\",\"id\":15,\"credits\":3,\"nameCanonical\":\"\"},{\"curriculum_requisites\":[{\"source_id\":7,\"target_id\":16,\"type\":\"CurriculumPrerequisite\"}],\"name\":\"MAT 241\",\"metrics\":{\"centrality\":0,\"complexity\":3.0,\"blocking factor\":0,\"delay factor\":3.0},\"nameSub\":\"Calculus III\",\"id\":16,\"credits\":4,\"nameCanonical\":\"Calculus III\"},{\"curriculum_requisites\":[{\"source_id\":18,\"target_id\":17,\"type\":\"CurriculumStrictCorequisite\"},{\"source_id\":8,\"target_id\":17,\"type\":\"CurriculumPrerequisite\"}],\"name\":\" 235IN\",\"metrics\":{\"centrality\":12,\"complexity\":6.0,\"blocking factor\":1,\"delay factor\":5.0},\"nameSub\":\"General Organic Chemistry I\",\"id\":17,\"credits\":4,\"nameCanonical\":\"Organic Chemistry I\"},{\"curriculum_requisites\":[],\"name\":\"CHM  235RC\",\"metrics\":{\"centrality\":0,\"complexity\":5.0,\"blocking factor\":2,\"delay factor\":3.0},\"nameSub\":\"General Organic Chemistry I Recitation\",\"id\":18,\"credits\":1,\"nameCanonical\":\"\"},{\"curriculum_requisites\":[],\"name\":\" \",\"metrics\":{\"centrality\":0,\"complexity\":15.0,\"blocking factor\":8,\"delay factor\":7.0},\"nameSub\":\"AGEC-S Course\",\"id\":19,\"credits\":3,\"nameCanonical\":\"\"}],\"id\":3},{\"name\":\"Term 4\",\"curriculum_items\":[{\"curriculum_requisites\":[],\"name\":\" \",\"metrics\":{\"centrality\":0,\"complexity\":1.0,\"blocking factor\":0,\"delay factor\":1.0},\"nameSub\":\"AGEC-S Course\",\"id\":20,\"credits\":3,\"nameCanonical\":\"\"},{\"curriculum_requisites\":[],\"name\":\" \",\"metrics\":{\"centrality\":0,\"complexity\":1.0,\"blocking factor\":0,\"delay factor\":1.0},\"nameSub\":\"AGEC-S Course\",\"id\":21,\"credits\":3,\"nameCanonical\":\"\"},{\"curriculum_requisites\":[{\"source_id\":7,\"target_id\":22,\"type\":\"CurriculumPrerequisite\"}],\"name\":\"MAT 262\",\"metrics\":{\"centrality\":60,\"complexity\":15.0,\"blocking factor\":7,\"delay factor\":8.0},\"nameSub\":\"Differential Equations\",\"id\":22,\"credits\":3,\"nameCanonical\":\"Differential Equations\"},{\"curriculum_requisites\":[{\"source_id\":7,\"target_id\":23,\"type\":\"CurriculumPrerequisite\"},{\"source_id\":10,\"target_id\":23,\"type\":\"CurriculumPrerequisite\"},{\"source_id\":24,\"target_id\":23,\"type\":\"CurriculumStrictCorequisite\"}],\"name\":\"PHY 216IN\",\"metrics\":{\"centrality\":247,\"complexity\":18.0,\"blocking factor\":10,\"delay factor\":8.0},\"nameSub\":\"Intro Electricity & Magnetism\",\"id\":23,\"credits\":4,\"nameCanonical\":\"\"},{\"curriculum_requisites\":[],\"name\":\"PHY 216RC\",\"metrics\":{\"centrality\":0,\"complexity\":18.0,\"blocking factor\":11,\"delay factor\":7.0},\"nameSub\":\"Intro Electricity & Magnetism\",\"id\":24,\"credits\":1,\"nameCanonical\":\"\"},{\"curriculum_requisites\":[{\"source_id\":26,\"target_id\":25,\"type\":\"CurriculumStrictCorequisite\"},{\"source_id\":17,\"target_id\":25,\"type\":\"CurriculumPrerequisite\"}],\"name\":\"CHM 236IN\",\"metrics\":{\"centrality\":0,\"complexity\":5.0,\"blocking factor\":0,\"delay factor\":5.0},\"nameSub\":\"General Organic Chemistry II\",\"id\":25,\"credits\":4,\"nameCanonical\":\"Organic Chemistry II\"},{\"curriculum_requisites\":[],\"name\":\"CHM  236RC\",\"metrics\":{\"centrality\":0,\"complexity\":3.0,\"blocking factor\":1,\"delay factor\":2.0},\"nameSub\":\"General Organic Chemistry II Recitation\",\"id\":26,\"credits\":1,\"nameCanonical\":\"\"},{\"curriculum_requisites\":[{\"source_id\":13,\"target_id\":27,\"type\":\"CurriculumPrerequisite\"}],\"name\":\"ENG 205IN\",\"metrics\":{\"centrality\":231,\"complexity\":25.0,\"blocking factor\":15,\"delay factor\":10.0},\"nameSub\":\"Intro to MATLAB II\",\"id\":27,\"credits\":1,\"nameCanonical\":\"\"}],\"id\":4},{\"name\":\"Term 5\",\"curriculum_items\":[{\"curriculum_requisites\":[{\"source_id\":5,\"target_id\":28,\"type\":\"CurriculumPrerequisite\"},{\"source_id\":13,\"target_id\":28,\"type\":\"CurriculumPrerequisite\"},{\"source_id\":27,\"target_id\":28,\"type\":\"CurriculumCorequisite\"},{\"source_id\":8,\"target_id\":28,\"type\":\"CurriculumPrerequisite\"},{\"source_id\":1,\"target_id\":28,\"type\":\"CurriculumPrerequisite\"}],\"name\":\"CHEE 201\",\"metrics\":{\"centrality\":1246,\"complexity\":24.0,\"blocking factor\":14,\"delay factor\":10.0},\"nameSub\":\"Elements of Chem and Envirn Eng I\",\"id\":28,\"credits\":3,\"nameCanonical\":\"\"},{\"curriculum_requisites\":[{\"source_id\":13,\"target_id\":29,\"type\":\"CurriculumCorequisite\"},{\"source_id\":1,\"target_id\":29,\"type\":\"CurriculumPrerequisite\"}],\"name\":\" 201L\",\"metrics\":{\"centrality\":129,\"complexity\":17.0,\"blocking factor\":8,\"delay factor\":9.0},\"nameSub\":\"Elements of Chem and Envirn Eng I Lab\",\"id\":29,\"credits\":1,\"nameCanonical\":\"\"},{\"curriculum_requisites\":[{\"source_id\":7,\"target_id\":30,\"type\":\"CurriculumPrerequisite\"},{\"source_id\":2,\"target_id\":30,\"type\":\"CurriculumPrerequisite\"},{\"source_id\":23,\"target_id\":30,\"type\":\"CurriculumPrerequisite\"}],\"name\":\"CHEM 480A\",\"metrics\":{\"centrality\":357,\"complexity\":17.0,\"blocking factor\":9,\"delay factor\":8.0},\"nameSub\":\"Physical Chem\",\"id\":30,\"credits\":3,\"nameCanonical\":\"\"},{\"curriculum_requisites\":[],\"name\":\" \",\"metrics\":{\"centrality\":0,\"complexity\":1.0,\"blocking factor\":0,\"delay factor\":1.0},\"nameSub\":\"Engineering Elective\",\"id\":31,\"credits\":3,\"nameCanonical\":\"\"},{\"curriculum_requisites\":[],\"name\":\" \",\"metrics\":{\"centrality\":0,\"complexity\":1.0,\"blocking factor\":0,\"delay factor\":1.0},\"nameSub\":\"Engineering Elective\",\"id\":32,\"credits\":3,\"nameCanonical\":\"\"}],\"id\":5},{\"name\":\"Term 6\",\"curriculum_items\":[{\"curriculum_requisites\":[],\"name\":\" \",\"metrics\":{\"centrality\":0,\"complexity\":1.0,\"blocking factor\":0,\"delay factor\":1.0},\"nameSub\":\"Technical Elective\",\"id\":33,\"credits\":3,\"nameCanonical\":\"\"},{\"curriculum_requisites\":[{\"source_id\":29,\"target_id\":34,\"type\":\"CurriculumPrerequisite\"},{\"source_id\":28,\"target_id\":34,\"type\":\"CurriculumPrerequisite\"},{\"source_id\":19,\"target_id\":34,\"type\":\"CurriculumCorequisite\"}],\"name\":\"CHEE 202\",\"metrics\":{\"centrality\":603,\"complexity\":17.0,\"blocking factor\":7,\"delay factor\":10.0},\"nameSub\":\"Elements of Chem Eng II\",\"id\":34,\"credits\":4,\"nameCanonical\":\"\"},{\"curriculum_requisites\":[{\"source_id\":10,\"target_id\":35,\"type\":\"CurriculumPrerequisite\"},{\"source_id\":28,\"target_id\":35,\"type\":\"CurriculumPrerequisite\"}],\"name\":\"CHEE 203\",\"metrics\":{\"centrality\":653,\"complexity\":18.0,\"blocking factor\":8,\"delay factor\":10.0},\"nameSub\":\"Chem Eng Heat Xfer & Fluid Flow\",\"id\":35,\"credits\":3,\"nameCanonical\":\"\"},{\"curriculum_requisites\":[],\"name\":\" \",\"metrics\":{\"centrality\":0,\"complexity\":1.0,\"blocking factor\":0,\"delay factor\":1.0},\"nameSub\":\"Engineering Elective\",\"id\":36,\"credits\":3,\"nameCanonical\":\"\"},{\"curriculum_requisites\":[],\"name\":\" \",\"metrics\":{\"centrality\":0,\"complexity\":1.0,\"blocking factor\":0,\"delay factor\":1.0},\"nameSub\":\"Technical Elective\",\"id\":37,\"credits\":3,\"nameCanonical\":\"\"}],\"id\":6},{\"name\":\"Term 7\",\"curriculum_items\":[{\"curriculum_requisites\":[{\"source_id\":35,\"target_id\":38,\"type\":\"CurriculumPrerequisite\"}],\"name\":\"CHEE 303\",\"metrics\":{\"centrality\":496,\"complexity\":17.0,\"blocking factor\":7,\"delay factor\":10.0},\"nameSub\":\"Chem Eng Mass Xfer\",\"id\":38,\"credits\":3,\"nameCanonical\":\"\"},{\"curriculum_requisites\":[{\"source_id\":22,\"target_id\":39,\"type\":\"CurriculumPrerequisite\"},{\"source_id\":34,\"target_id\":39,\"type\":\"CurriculumPrerequisite\"}],\"name\":\"CHEE 402\",\"metrics\":{\"centrality\":472,\"complexity\":16.0,\"blocking factor\":6,\"delay factor\":10.0},\"nameSub\":\"Chem Eng Modeling\",\"id\":39,\"credits\":3,\"nameCanonical\":\"\"},{\"curriculum_requisites\":[],\"name\":\"CHEE 489\",\"metrics\":{\"centrality\":0,\"complexity\":1.0,\"blocking factor\":0,\"delay factor\":1.0},\"nameSub\":\"Trends in Nanomedicine Eng\",\"id\":41,\"credits\":3,\"nameCanonical\":\"\"}],\"id\":7},{\"name\":\"Term 8\",\"curriculum_items\":[{\"curriculum_requisites\":[{\"source_id\":22,\"target_id\":40,\"type\":\"CurriculumPrerequisite\"},{\"source_id\":34,\"target_id\":40,\"type\":\"CurriculumPrerequisite\"},{\"source_id\":35,\"target_id\":40,\"type\":\"CurriculumPrerequisite\"},{\"source_id\":43,\"target_id\":40,\"type\":\"CurriculumCorequisite\"},{\"source_id\":42,\"target_id\":40,\"type\":\"CurriculumCorequisite\"}],\"name\":\"CHEE 301A\",\"metrics\":{\"centrality\":1056,\"complexity\":13.0,\"blocking factor\":3,\"delay factor\":10.0},\"nameSub\":\"Chem Eng Lab I\",\"id\":40,\"credits\":1,\"nameCanonical\":\"\"},{\"curriculum_requisites\":[{\"source_id\":39,\"target_id\":42,\"type\":\"CurriculumPrerequisite\"},{\"source_id\":38,\"target_id\":42,\"type\":\"CurriculumPrerequisite\"}],\"name\":\"CHEE 305\",\"metrics\":{\"centrality\":736,\"complexity\":14.0,\"blocking factor\":4,\"delay factor\":10.0},\"nameSub\":\"Chem Eng Transport Phenom\",\"id\":42,\"credits\":3,\"nameCanonical\":\"\"},{\"curriculum_requisites\":[{\"source_id\":30,\"target_id\":43,\"type\":\"CurriculumPrerequisite\"},{\"source_id\":28,\"target_id\":43,\"type\":\"CurriculumPrerequisite\"}],\"name\":\"CHEE 326\",\"metrics\":{\"centrality\":644,\"complexity\":15.0,\"blocking factor\":7,\"delay factor\":8.0},\"nameSub\":\"Chem & Phys Equilibrium\",\"id\":43,\"credits\":3,\"nameCanonical\":\"\"},{\"curriculum_requisites\":[{\"source_id\":30,\"target_id\":48,\"type\":\"CurriculumPrerequisite\"}],\"name\":\"CHEM 480B\",\"metrics\":{\"centrality\":0,\"complexity\":5.0,\"blocking factor\":0,\"delay factor\":5.0},\"nameSub\":\"Physical Chem\",\"id\":48,\"credits\":3,\"nameCanonical\":\"\"},{\"curriculum_requisites\":[{\"source_id\":39,\"target_id\":49,\"type\":\"CurriculumPrerequisite\"}],\"name\":\"CHEE 413\",\"metrics\":{\"centrality\":67,\"complexity\":9.0,\"blocking factor\":1,\"delay factor\":8.0},\"nameSub\":\"Process Control and Simulation\",\"id\":49,\"credits\":3,\"nameCanonical\":\"\"}],\"id\":8},{\"name\":\"Term 9\",\"curriculum_items\":[{\"curriculum_requisites\":[{\"source_id\":43,\"target_id\":44,\"type\":\"CurriculumStrictCorequisite\"},{\"source_id\":38,\"target_id\":44,\"type\":\"CurriculumPrerequisite\"},{\"source_id\":42,\"target_id\":44,\"type\":\"CurriculumStrictCorequisite\"},{\"source_id\":40,\"target_id\":44,\"type\":\"CurriculumPrerequisite\"}],\"name\":\"CHEE 301B\",\"metrics\":{\"centrality\":1278,\"complexity\":12.0,\"blocking factor\":2,\"delay factor\":10.0},\"nameSub\":\"Chem Eng Lab II\",\"id\":44,\"credits\":1,\"nameCanonical\":\"\"},{\"curriculum_requisites\":[{\"source_id\":43,\"target_id\":45,\"type\":\"CurriculumPrerequisite\"}],\"name\":\"CHEE 420\",\"metrics\":{\"centrality\":164,\"complexity\":11.0,\"blocking factor\":3,\"delay factor\":8.0},\"nameSub\":\"Chem Reaction Eng\",\"id\":45,\"credits\":3,\"nameCanonical\":\"\"},{\"curriculum_requisites\":[{\"source_id\":43,\"target_id\":46,\"type\":\"CurriculumPrerequisite\"},{\"source_id\":45,\"target_id\":46,\"type\":\"CurriculumStrictCorequisite\"},{\"source_id\":38,\"target_id\":46,\"type\":\"CurriculumPrerequisite\"}],\"name\":\"CHEE 442\",\"metrics\":{\"centrality\":219,\"complexity\":9.0,\"blocking factor\":1,\"delay factor\":8.0},\"nameSub\":\"Chem Eng Design Principles\",\"id\":46,\"credits\":3,\"nameCanonical\":\"\"}],\"id\":9},{\"name\":\"Term 10\",\"curriculum_items\":[{\"curriculum_requisites\":[{\"source_id\":45,\"target_id\":47,\"type\":\"CurriculumCorequisite\"},{\"source_id\":44,\"target_id\":47,\"type\":\"CurriculumPrerequisite\"}],\"name\":\"CHEE 401A\",\"metrics\":{\"centrality\":0,\"complexity\":10.0,\"blocking factor\":0,\"delay factor\":10.0},\"nameSub\":\"Chem and Enviorn Eng Lab I\",\"id\":47,\"credits\":1,\"nameCanonical\":\"\"},{\"curriculum_requisites\":[{\"source_id\":49,\"target_id\":50,\"type\":\"CurriculumCorequisite\"},{\"source_id\":44,\"target_id\":50,\"type\":\"CurriculumPrerequisite\"},{\"source_id\":40,\"target_id\":50,\"type\":\"CurriculumPrerequisite\"}],\"name\":\"CHEE 401B\",\"metrics\":{\"centrality\":0,\"complexity\":10.0,\"blocking factor\":0,\"delay factor\":10.0},\"nameSub\":\"Process Dynamics and Control Lab\",\"id\":50,\"credits\":1,\"nameCanonical\":\"\"},{\"curriculum_requisites\":[{\"source_id\":46,\"target_id\":51,\"type\":\"CurriculumPrerequisite\"}],\"name\":\"CHEE 443\",\"metrics\":{\"centrality\":0,\"complexity\":8.0,\"blocking factor\":0,\"delay factor\":8.0},\"nameSub\":\"Chem Eng Plant Design\",\"id\":51,\"credits\":3,\"nameCanonical\":\"\"}],\"id\":10}],\"institution\":\"University of Arizona\"}},\"*\"); window.removeEventListener(\"message\",window.messageReceived); window.messageReceived=(function (event){return (event.data.curriculum!==undefined) ? (WebIO.setval({\"name\":\"curriculum-data\",\"scope\":\"11147878770622172280\",\"id\":\"17766289812944321149\",\"type\":\"observable\"},event.data.curriculum)) : undefined}); return window.addEventListener(\"message\",window.messageReceived)})"
          },
          "id": "curriculum",
          "src": "https://curricula-api-embed.damoursystems.com/",
          "style": {
           "border": "none",
           "height": "85vh",
           "margin": "0",
           "padding": "0",
           "width": "100%"
          }
         },
         "type": "node"
        }
       ],
       "instanceArgs": {
        "handlers": {},
        "id": "11147878770622172280",
        "imports": {
         "data": [],
         "type": "async_block"
        },
        "mount_callbacks": [],
        "observables": {
         "curriculum-data": {
          "id": "17766289812944321149",
          "sync": true,
          "value": {
           "curriculum": {
            "curriculum_terms": [
             {
              "curriculum_items": [
               {
                "credits": 5,
                "curriculum_requisites": [],
                "id": 1,
                "metrics": {
                 "blocking factor": 26,
                 "centrality": 0,
                 "complexity": 36,
                 "delay factor": 10
                },
                "name": "MAT 220",
                "nameCanonical": "Calculus I",
                "nameSub": "Calculus I"
               },
               {
                "credits": 4,
                "curriculum_requisites": [
                 {
                  "source_id": 3,
                  "target_id": 2,
                  "type": "CurriculumStrictCorequisite"
                 }
                ],
                "id": 2,
                "metrics": {
                 "blocking factor": 20,
                 "centrality": 291,
                 "complexity": 30,
                 "delay factor": 10
                },
                "name": "CHM 151IN",
                "nameCanonical": "General Chemsitry I",
                "nameSub": "Gen Chemistry I"
               },
               {
                "credits": 1,
                "curriculum_requisites": [],
                "id": 3,
                "metrics": {
                 "blocking factor": 21,
                 "centrality": 0,
                 "complexity": 31,
                 "delay factor": 10
                },
                "name": "CHM 151RC",
                "nameCanonical": "",
                "nameSub": "Gen Chemistry I Recitation"
               },
               {
                "credits": 3,
                "curriculum_requisites": [],
                "id": 4,
                "metrics": {
                 "blocking factor": 1,
                 "centrality": 0,
                 "complexity": 3,
                 "delay factor": 2
                },
                "name": "WRT 101",
                "nameCanonical": "English Composition I",
                "nameSub": "English Composition I"
               },
               {
                "credits": 3,
                "curriculum_requisites": [
                 {
                  "source_id": 1,
                  "target_id": 5,
                  "type": "CurriculumCorequisite"
                 }
                ],
                "id": 5,
                "metrics": {
                 "blocking factor": 15,
                 "centrality": 203,
                 "complexity": 24,
                 "delay factor": 9
                },
                "name": "ENG 102IN",
                "nameCanonical": "Intro to Engineering",
                "nameSub": "Problem-Solving and Engineering Design"
               },
               {
                "credits": 3,
                "curriculum_requisites": [],
                "id": 6,
                "metrics": {
                 "blocking factor": 0,
                 "centrality": 0,
                 "complexity": 1,
                 "delay factor": 1
                },
                "name": " ",
                "nameCanonical": "",
                "nameSub": "AGEC-S Course"
               }
              ],
              "id": 1,
              "name": "Term 1"
             },
             {
              "curriculum_items": [
               {
                "credits": 4,
                "curriculum_requisites": [
                 {
                  "source_id": 1,
                  "target_id": 7,
                  "type": "CurriculumPrerequisite"
                 }
                ],
                "id": 7,
                "metrics": {
                 "blocking factor": 16,
                 "centrality": 182,
                 "complexity": 24,
                 "delay factor": 8
                },
                "name": "MAT 231",
                "nameCanonical": "Calculus II",
                "nameSub": "Calculus II"
               },
               {
                "credits": 4,
                "curriculum_requisites": [
                 {
                  "source_id": 2,
                  "target_id": 8,
                  "type": "CurriculumPrerequisite"
                 },
                 {
                  "source_id": 9,
                  "target_id": 8,
                  "type": "CurriculumStrictCorequisite"
                 }
                ],
                "id": 8,
                "metrics": {
                 "blocking factor": 17,
                 "centrality": 443,
                 "complexity": 27,
                 "delay factor": 10
                },
                "name": "CHM 152IN",
                "nameCanonical": "General Chemsitry II",
                "nameSub": "Gen Chemistry II"
               },
               {
                "credits": 1,
                "curriculum_requisites": [],
                "id": 9,
                "metrics": {
                 "blocking factor": 18,
                 "centrality": 0,
                 "complexity": 27,
                 "delay factor": 9
                },
                "name": "CHM 152RC",
                "nameCanonical": "",
                "nameSub": "Gen Chemistry II Recitation"
               },
               {
                "credits": 4,
                "curriculum_requisites": [
                 {
                  "source_id": 11,
                  "target_id": 10,
                  "type": "CurriculumStrictCorequisite"
                 },
                 {
                  "source_id": 1,
                  "target_id": 10,
                  "type": "CurriculumPrerequisite"
                 }
                ],
                "id": 10,
                "metrics": {
                 "blocking factor": 14,
                 "centrality": 272,
                 "complexity": 22,
                 "delay factor": 8
                },
                "name": "PHY 210IN",
                "nameCanonical": "",
                "nameSub": "Intro Mechanics"
               },
               {
                "credits": 1,
                "curriculum_requisites": [],
                "id": 11,
                "metrics": {
                 "blocking factor": 15,
                 "centrality": 0,
                 "complexity": 23,
                 "delay factor": 8
                },
                "name": "PHY 210RC",
                "nameCanonical": "",
                "nameSub": "Intro Mechanics Recitation"
               },
               {
                "credits": 3,
                "curriculum_requisites": [
                 {
                  "source_id": 4,
                  "target_id": 12,
                  "type": "CurriculumPrerequisite"
                 }
                ],
                "id": 12,
                "metrics": {
                 "blocking factor": 0,
                 "centrality": 0,
                 "complexity": 2,
                 "delay factor": 2
                },
                "name": "WRT 102",
                "nameCanonical": " English Composition",
                "nameSub": " English Composition II"
               },
               {
                "credits": 1,
                "curriculum_requisites": [
                 {
                  "source_id": 1,
                  "target_id": 13,
                  "type": "CurriculumCorequisite"
                 }
                ],
                "id": 13,
                "metrics": {
                 "blocking factor": 17,
                 "centrality": 503,
                 "complexity": 27,
                 "delay factor": 10
                },
                "name": "ENG 105IN",
                "nameCanonical": "",
                "nameSub": "Intro to MATLAB I"
               }
              ],
              "id": 2,
              "name": "Term 2"
             },
             {
              "curriculum_items": [
               {
                "credits": 3,
                "curriculum_requisites": [],
                "id": 14,
                "metrics": {
                 "blocking factor": 0,
                 "centrality": 0,
                 "complexity": 1,
                 "delay factor": 1
                },
                "name": " ",
                "nameCanonical": "",
                "nameSub": "AGEC-S Course"
               },
               {
                "credits": 3,
                "curriculum_requisites": [],
                "id": 15,
                "metrics": {
                 "blocking factor": 0,
                 "centrality": 0,
                 "complexity": 1,
                 "delay factor": 1
                },
                "name": " ",
                "nameCanonical": "",
                "nameSub": "AGEC-S Course"
               },
               {
                "credits": 4,
                "curriculum_requisites": [
                 {
                  "source_id": 7,
                  "target_id": 16,
                  "type": "CurriculumPrerequisite"
                 }
                ],
                "id": 16,
                "metrics": {
                 "blocking factor": 0,
                 "centrality": 0,
                 "complexity": 3,
                 "delay factor": 3
                },
                "name": "MAT 241",
                "nameCanonical": "Calculus III",
                "nameSub": "Calculus III"
               },
               {
                "credits": 4,
                "curriculum_requisites": [
                 {
                  "source_id": 18,
                  "target_id": 17,
                  "type": "CurriculumStrictCorequisite"
                 },
                 {
                  "source_id": 8,
                  "target_id": 17,
                  "type": "CurriculumPrerequisite"
                 }
                ],
                "id": 17,
                "metrics": {
                 "blocking factor": 1,
                 "centrality": 12,
                 "complexity": 6,
                 "delay factor": 5
                },
                "name": " 235IN",
                "nameCanonical": "Organic Chemistry I",
                "nameSub": "General Organic Chemistry I"
               },
               {
                "credits": 1,
                "curriculum_requisites": [],
                "id": 18,
                "metrics": {
                 "blocking factor": 2,
                 "centrality": 0,
                 "complexity": 5,
                 "delay factor": 3
                },
                "name": "CHM  235RC",
                "nameCanonical": "",
                "nameSub": "General Organic Chemistry I Recitation"
               },
               {
                "credits": 3,
                "curriculum_requisites": [],
                "id": 19,
                "metrics": {
                 "blocking factor": 8,
                 "centrality": 0,
                 "complexity": 15,
                 "delay factor": 7
                },
                "name": " ",
                "nameCanonical": "",
                "nameSub": "AGEC-S Course"
               }
              ],
              "id": 3,
              "name": "Term 3"
             },
             {
              "curriculum_items": [
               {
                "credits": 3,
                "curriculum_requisites": [],
                "id": 20,
                "metrics": {
                 "blocking factor": 0,
                 "centrality": 0,
                 "complexity": 1,
                 "delay factor": 1
                },
                "name": " ",
                "nameCanonical": "",
                "nameSub": "AGEC-S Course"
               },
               {
                "credits": 3,
                "curriculum_requisites": [],
                "id": 21,
                "metrics": {
                 "blocking factor": 0,
                 "centrality": 0,
                 "complexity": 1,
                 "delay factor": 1
                },
                "name": " ",
                "nameCanonical": "",
                "nameSub": "AGEC-S Course"
               },
               {
                "credits": 3,
                "curriculum_requisites": [
                 {
                  "source_id": 7,
                  "target_id": 22,
                  "type": "CurriculumPrerequisite"
                 }
                ],
                "id": 22,
                "metrics": {
                 "blocking factor": 7,
                 "centrality": 60,
                 "complexity": 15,
                 "delay factor": 8
                },
                "name": "MAT 262",
                "nameCanonical": "Differential Equations",
                "nameSub": "Differential Equations"
               },
               {
                "credits": 4,
                "curriculum_requisites": [
                 {
                  "source_id": 7,
                  "target_id": 23,
                  "type": "CurriculumPrerequisite"
                 },
                 {
                  "source_id": 10,
                  "target_id": 23,
                  "type": "CurriculumPrerequisite"
                 },
                 {
                  "source_id": 24,
                  "target_id": 23,
                  "type": "CurriculumStrictCorequisite"
                 }
                ],
                "id": 23,
                "metrics": {
                 "blocking factor": 10,
                 "centrality": 247,
                 "complexity": 18,
                 "delay factor": 8
                },
                "name": "PHY 216IN",
                "nameCanonical": "",
                "nameSub": "Intro Electricity & Magnetism"
               },
               {
                "credits": 1,
                "curriculum_requisites": [],
                "id": 24,
                "metrics": {
                 "blocking factor": 11,
                 "centrality": 0,
                 "complexity": 18,
                 "delay factor": 7
                },
                "name": "PHY 216RC",
                "nameCanonical": "",
                "nameSub": "Intro Electricity & Magnetism"
               },
               {
                "credits": 4,
                "curriculum_requisites": [
                 {
                  "source_id": 26,
                  "target_id": 25,
                  "type": "CurriculumStrictCorequisite"
                 },
                 {
                  "source_id": 17,
                  "target_id": 25,
                  "type": "CurriculumPrerequisite"
                 }
                ],
                "id": 25,
                "metrics": {
                 "blocking factor": 0,
                 "centrality": 0,
                 "complexity": 5,
                 "delay factor": 5
                },
                "name": "CHM 236IN",
                "nameCanonical": "Organic Chemistry II",
                "nameSub": "General Organic Chemistry II"
               },
               {
                "credits": 1,
                "curriculum_requisites": [],
                "id": 26,
                "metrics": {
                 "blocking factor": 1,
                 "centrality": 0,
                 "complexity": 3,
                 "delay factor": 2
                },
                "name": "CHM  236RC",
                "nameCanonical": "",
                "nameSub": "General Organic Chemistry II Recitation"
               },
               {
                "credits": 1,
                "curriculum_requisites": [
                 {
                  "source_id": 13,
                  "target_id": 27,
                  "type": "CurriculumPrerequisite"
                 }
                ],
                "id": 27,
                "metrics": {
                 "blocking factor": 15,
                 "centrality": 231,
                 "complexity": 25,
                 "delay factor": 10
                },
                "name": "ENG 205IN",
                "nameCanonical": "",
                "nameSub": "Intro to MATLAB II"
               }
              ],
              "id": 4,
              "name": "Term 4"
             },
             {
              "curriculum_items": [
               {
                "credits": 3,
                "curriculum_requisites": [
                 {
                  "source_id": 5,
                  "target_id": 28,
                  "type": "CurriculumPrerequisite"
                 },
                 {
                  "source_id": 13,
                  "target_id": 28,
                  "type": "CurriculumPrerequisite"
                 },
                 {
                  "source_id": 27,
                  "target_id": 28,
                  "type": "CurriculumCorequisite"
                 },
                 {
                  "source_id": 8,
                  "target_id": 28,
                  "type": "CurriculumPrerequisite"
                 },
                 {
                  "source_id": 1,
                  "target_id": 28,
                  "type": "CurriculumPrerequisite"
                 }
                ],
                "id": 28,
                "metrics": {
                 "blocking factor": 14,
                 "centrality": 1246,
                 "complexity": 24,
                 "delay factor": 10
                },
                "name": "CHEE 201",
                "nameCanonical": "",
                "nameSub": "Elements of Chem and Envirn Eng I"
               },
               {
                "credits": 1,
                "curriculum_requisites": [
                 {
                  "source_id": 13,
                  "target_id": 29,
                  "type": "CurriculumCorequisite"
                 },
                 {
                  "source_id": 1,
                  "target_id": 29,
                  "type": "CurriculumPrerequisite"
                 }
                ],
                "id": 29,
                "metrics": {
                 "blocking factor": 8,
                 "centrality": 129,
                 "complexity": 17,
                 "delay factor": 9
                },
                "name": " 201L",
                "nameCanonical": "",
                "nameSub": "Elements of Chem and Envirn Eng I Lab"
               },
               {
                "credits": 3,
                "curriculum_requisites": [
                 {
                  "source_id": 7,
                  "target_id": 30,
                  "type": "CurriculumPrerequisite"
                 },
                 {
                  "source_id": 2,
                  "target_id": 30,
                  "type": "CurriculumPrerequisite"
                 },
                 {
                  "source_id": 23,
                  "target_id": 30,
                  "type": "CurriculumPrerequisite"
                 }
                ],
                "id": 30,
                "metrics": {
                 "blocking factor": 9,
                 "centrality": 357,
                 "complexity": 17,
                 "delay factor": 8
                },
                "name": "CHEM 480A",
                "nameCanonical": "",
                "nameSub": "Physical Chem"
               },
               {
                "credits": 3,
                "curriculum_requisites": [],
                "id": 31,
                "metrics": {
                 "blocking factor": 0,
                 "centrality": 0,
                 "complexity": 1,
                 "delay factor": 1
                },
                "name": " ",
                "nameCanonical": "",
                "nameSub": "Engineering Elective"
               },
               {
                "credits": 3,
                "curriculum_requisites": [],
                "id": 32,
                "metrics": {
                 "blocking factor": 0,
                 "centrality": 0,
                 "complexity": 1,
                 "delay factor": 1
                },
                "name": " ",
                "nameCanonical": "",
                "nameSub": "Engineering Elective"
               }
              ],
              "id": 5,
              "name": "Term 5"
             },
             {
              "curriculum_items": [
               {
                "credits": 3,
                "curriculum_requisites": [],
                "id": 33,
                "metrics": {
                 "blocking factor": 0,
                 "centrality": 0,
                 "complexity": 1,
                 "delay factor": 1
                },
                "name": " ",
                "nameCanonical": "",
                "nameSub": "Technical Elective"
               },
               {
                "credits": 4,
                "curriculum_requisites": [
                 {
                  "source_id": 29,
                  "target_id": 34,
                  "type": "CurriculumPrerequisite"
                 },
                 {
                  "source_id": 28,
                  "target_id": 34,
                  "type": "CurriculumPrerequisite"
                 },
                 {
                  "source_id": 19,
                  "target_id": 34,
                  "type": "CurriculumCorequisite"
                 }
                ],
                "id": 34,
                "metrics": {
                 "blocking factor": 7,
                 "centrality": 603,
                 "complexity": 17,
                 "delay factor": 10
                },
                "name": "CHEE 202",
                "nameCanonical": "",
                "nameSub": "Elements of Chem Eng II"
               },
               {
                "credits": 3,
                "curriculum_requisites": [
                 {
                  "source_id": 10,
                  "target_id": 35,
                  "type": "CurriculumPrerequisite"
                 },
                 {
                  "source_id": 28,
                  "target_id": 35,
                  "type": "CurriculumPrerequisite"
                 }
                ],
                "id": 35,
                "metrics": {
                 "blocking factor": 8,
                 "centrality": 653,
                 "complexity": 18,
                 "delay factor": 10
                },
                "name": "CHEE 203",
                "nameCanonical": "",
                "nameSub": "Chem Eng Heat Xfer & Fluid Flow"
               },
               {
                "credits": 3,
                "curriculum_requisites": [],
                "id": 36,
                "metrics": {
                 "blocking factor": 0,
                 "centrality": 0,
                 "complexity": 1,
                 "delay factor": 1
                },
                "name": " ",
                "nameCanonical": "",
                "nameSub": "Engineering Elective"
               },
               {
                "credits": 3,
                "curriculum_requisites": [],
                "id": 37,
                "metrics": {
                 "blocking factor": 0,
                 "centrality": 0,
                 "complexity": 1,
                 "delay factor": 1
                },
                "name": " ",
                "nameCanonical": "",
                "nameSub": "Technical Elective"
               }
              ],
              "id": 6,
              "name": "Term 6"
             },
             {
              "curriculum_items": [
               {
                "credits": 3,
                "curriculum_requisites": [
                 {
                  "source_id": 35,
                  "target_id": 38,
                  "type": "CurriculumPrerequisite"
                 }
                ],
                "id": 38,
                "metrics": {
                 "blocking factor": 7,
                 "centrality": 496,
                 "complexity": 17,
                 "delay factor": 10
                },
                "name": "CHEE 303",
                "nameCanonical": "",
                "nameSub": "Chem Eng Mass Xfer"
               },
               {
                "credits": 3,
                "curriculum_requisites": [
                 {
                  "source_id": 22,
                  "target_id": 39,
                  "type": "CurriculumPrerequisite"
                 },
                 {
                  "source_id": 34,
                  "target_id": 39,
                  "type": "CurriculumPrerequisite"
                 }
                ],
                "id": 39,
                "metrics": {
                 "blocking factor": 6,
                 "centrality": 472,
                 "complexity": 16,
                 "delay factor": 10
                },
                "name": "CHEE 402",
                "nameCanonical": "",
                "nameSub": "Chem Eng Modeling"
               },
               {
                "credits": 3,
                "curriculum_requisites": [],
                "id": 41,
                "metrics": {
                 "blocking factor": 0,
                 "centrality": 0,
                 "complexity": 1,
                 "delay factor": 1
                },
                "name": "CHEE 489",
                "nameCanonical": "",
                "nameSub": "Trends in Nanomedicine Eng"
               }
              ],
              "id": 7,
              "name": "Term 7"
             },
             {
              "curriculum_items": [
               {
                "credits": 1,
                "curriculum_requisites": [
                 {
                  "source_id": 22,
                  "target_id": 40,
                  "type": "CurriculumPrerequisite"
                 },
                 {
                  "source_id": 34,
                  "target_id": 40,
                  "type": "CurriculumPrerequisite"
                 },
                 {
                  "source_id": 35,
                  "target_id": 40,
                  "type": "CurriculumPrerequisite"
                 },
                 {
                  "source_id": 43,
                  "target_id": 40,
                  "type": "CurriculumCorequisite"
                 },
                 {
                  "source_id": 42,
                  "target_id": 40,
                  "type": "CurriculumCorequisite"
                 }
                ],
                "id": 40,
                "metrics": {
                 "blocking factor": 3,
                 "centrality": 1056,
                 "complexity": 13,
                 "delay factor": 10
                },
                "name": "CHEE 301A",
                "nameCanonical": "",
                "nameSub": "Chem Eng Lab I"
               },
               {
                "credits": 3,
                "curriculum_requisites": [
                 {
                  "source_id": 39,
                  "target_id": 42,
                  "type": "CurriculumPrerequisite"
                 },
                 {
                  "source_id": 38,
                  "target_id": 42,
                  "type": "CurriculumPrerequisite"
                 }
                ],
                "id": 42,
                "metrics": {
                 "blocking factor": 4,
                 "centrality": 736,
                 "complexity": 14,
                 "delay factor": 10
                },
                "name": "CHEE 305",
                "nameCanonical": "",
                "nameSub": "Chem Eng Transport Phenom"
               },
               {
                "credits": 3,
                "curriculum_requisites": [
                 {
                  "source_id": 30,
                  "target_id": 43,
                  "type": "CurriculumPrerequisite"
                 },
                 {
                  "source_id": 28,
                  "target_id": 43,
                  "type": "CurriculumPrerequisite"
                 }
                ],
                "id": 43,
                "metrics": {
                 "blocking factor": 7,
                 "centrality": 644,
                 "complexity": 15,
                 "delay factor": 8
                },
                "name": "CHEE 326",
                "nameCanonical": "",
                "nameSub": "Chem & Phys Equilibrium"
               },
               {
                "credits": 3,
                "curriculum_requisites": [
                 {
                  "source_id": 30,
                  "target_id": 48,
                  "type": "CurriculumPrerequisite"
                 }
                ],
                "id": 48,
                "metrics": {
                 "blocking factor": 0,
                 "centrality": 0,
                 "complexity": 5,
                 "delay factor": 5
                },
                "name": "CHEM 480B",
                "nameCanonical": "",
                "nameSub": "Physical Chem"
               },
               {
                "credits": 3,
                "curriculum_requisites": [
                 {
                  "source_id": 39,
                  "target_id": 49,
                  "type": "CurriculumPrerequisite"
                 }
                ],
                "id": 49,
                "metrics": {
                 "blocking factor": 1,
                 "centrality": 67,
                 "complexity": 9,
                 "delay factor": 8
                },
                "name": "CHEE 413",
                "nameCanonical": "",
                "nameSub": "Process Control and Simulation"
               }
              ],
              "id": 8,
              "name": "Term 8"
             },
             {
              "curriculum_items": [
               {
                "credits": 1,
                "curriculum_requisites": [
                 {
                  "source_id": 43,
                  "target_id": 44,
                  "type": "CurriculumStrictCorequisite"
                 },
                 {
                  "source_id": 38,
                  "target_id": 44,
                  "type": "CurriculumPrerequisite"
                 },
                 {
                  "source_id": 42,
                  "target_id": 44,
                  "type": "CurriculumStrictCorequisite"
                 },
                 {
                  "source_id": 40,
                  "target_id": 44,
                  "type": "CurriculumPrerequisite"
                 }
                ],
                "id": 44,
                "metrics": {
                 "blocking factor": 2,
                 "centrality": 1278,
                 "complexity": 12,
                 "delay factor": 10
                },
                "name": "CHEE 301B",
                "nameCanonical": "",
                "nameSub": "Chem Eng Lab II"
               },
               {
                "credits": 3,
                "curriculum_requisites": [
                 {
                  "source_id": 43,
                  "target_id": 45,
                  "type": "CurriculumPrerequisite"
                 }
                ],
                "id": 45,
                "metrics": {
                 "blocking factor": 3,
                 "centrality": 164,
                 "complexity": 11,
                 "delay factor": 8
                },
                "name": "CHEE 420",
                "nameCanonical": "",
                "nameSub": "Chem Reaction Eng"
               },
               {
                "credits": 3,
                "curriculum_requisites": [
                 {
                  "source_id": 43,
                  "target_id": 46,
                  "type": "CurriculumPrerequisite"
                 },
                 {
                  "source_id": 45,
                  "target_id": 46,
                  "type": "CurriculumStrictCorequisite"
                 },
                 {
                  "source_id": 38,
                  "target_id": 46,
                  "type": "CurriculumPrerequisite"
                 }
                ],
                "id": 46,
                "metrics": {
                 "blocking factor": 1,
                 "centrality": 219,
                 "complexity": 9,
                 "delay factor": 8
                },
                "name": "CHEE 442",
                "nameCanonical": "",
                "nameSub": "Chem Eng Design Principles"
               }
              ],
              "id": 9,
              "name": "Term 9"
             },
             {
              "curriculum_items": [
               {
                "credits": 1,
                "curriculum_requisites": [
                 {
                  "source_id": 45,
                  "target_id": 47,
                  "type": "CurriculumCorequisite"
                 },
                 {
                  "source_id": 44,
                  "target_id": 47,
                  "type": "CurriculumPrerequisite"
                 }
                ],
                "id": 47,
                "metrics": {
                 "blocking factor": 0,
                 "centrality": 0,
                 "complexity": 10,
                 "delay factor": 10
                },
                "name": "CHEE 401A",
                "nameCanonical": "",
                "nameSub": "Chem and Enviorn Eng Lab I"
               },
               {
                "credits": 1,
                "curriculum_requisites": [
                 {
                  "source_id": 49,
                  "target_id": 50,
                  "type": "CurriculumCorequisite"
                 },
                 {
                  "source_id": 44,
                  "target_id": 50,
                  "type": "CurriculumPrerequisite"
                 },
                 {
                  "source_id": 40,
                  "target_id": 50,
                  "type": "CurriculumPrerequisite"
                 }
                ],
                "id": 50,
                "metrics": {
                 "blocking factor": 0,
                 "centrality": 0,
                 "complexity": 10,
                 "delay factor": 10
                },
                "name": "CHEE 401B",
                "nameCanonical": "",
                "nameSub": "Process Dynamics and Control Lab"
               },
               {
                "credits": 3,
                "curriculum_requisites": [
                 {
                  "source_id": 46,
                  "target_id": 51,
                  "type": "CurriculumPrerequisite"
                 }
                ],
                "id": 51,
                "metrics": {
                 "blocking factor": 0,
                 "centrality": 0,
                 "complexity": 8,
                 "delay factor": 8
                },
                "name": "CHEE 443",
                "nameCanonical": "",
                "nameSub": "Chem Eng Plant Design"
               }
              ],
              "id": 10,
              "name": "Term 10"
             }
            ],
            "dp_name": "2019-20 Pima to UA Transfer Degree Plan",
            "institution": "University of Arizona",
            "name": "Chemical Engineering"
           },
           "options": {
            "edit": false,
            "hideTerms": false
           }
          }
         }
        },
        "systemjs_options": null
       },
       "nodeType": "Scope",
       "props": {},
       "type": "node"
      },
      "text/html": [
       "<div\n",
       "    class=\"webio-mountpoint\"\n",
       "    data-webio-mountpoint=\"11555899197842295181\"\n",
       ">\n",
       "    <script>\n",
       "    (function(){\n",
       "    // Some integrations (namely, IJulia/Jupyter) use an alternate render pathway than\n",
       "    // just putting the html on the page. If WebIO isn't defined, then it's pretty likely\n",
       "    // that we're in one of those situations and the integration just isn't installed\n",
       "    // correctly.\n",
       "    if (typeof window.WebIO === \"undefined\") {\n",
       "        document\n",
       "            .querySelector('[data-webio-mountpoint=\"11555899197842295181\"]')\n",
       "            .innerHTML = (\n",
       "                '<div style=\"padding: 1em; background-color: #f8d6da; border: 1px solid #f5c6cb; font-weight: bold;\">' +\n",
       "                '<p><strong>WebIO not detected.</strong></p>' +\n",
       "                '<p>Please read ' +\n",
       "                '<a href=\"https://juliagizmos.github.io/WebIO.jl/latest/troubleshooting/not-detected/\" target=\"_blank\">the troubleshooting guide</a> ' +\n",
       "                'for more information on how to resolve this issue.</p>' +\n",
       "                '<p><a href=\"https://juliagizmos.github.io/WebIO.jl/latest/troubleshooting/not-detected/\" target=\"_blank\">https://juliagizmos.github.io/WebIO.jl/latest/troubleshooting/not-detected/</a></p>' +\n",
       "                '</div>'\n",
       "            );\n",
       "        return;\n",
       "    }\n",
       "    WebIO.mount(\n",
       "        document.querySelector('[data-webio-mountpoint=\"11555899197842295181\"]'),\n",
       "        {\"props\":{},\"nodeType\":\"Scope\",\"type\":\"node\",\"instanceArgs\":{\"imports\":{\"data\":[],\"type\":\"async_block\"},\"id\":\"11147878770622172280\",\"handlers\":{},\"systemjs_options\":null,\"mount_callbacks\":[],\"observables\":{\"curriculum-data\":{\"sync\":true,\"id\":\"17766289812944321149\",\"value\":{\"options\":{\"hideTerms\":false,\"edit\":false},\"curriculum\":{\"name\":\"Chemical Engineering\",\"dp_name\":\"2019-20 Pima to UA Transfer Degree Plan\",\"curriculum_terms\":[{\"name\":\"Term 1\",\"curriculum_items\":[{\"curriculum_requisites\":[],\"name\":\"MAT 220\",\"metrics\":{\"centrality\":0,\"complexity\":36.0,\"blocking factor\":26,\"delay factor\":10.0},\"nameSub\":\"Calculus I\",\"id\":1,\"credits\":5,\"nameCanonical\":\"Calculus I\"},{\"curriculum_requisites\":[{\"source_id\":3,\"target_id\":2,\"type\":\"CurriculumStrictCorequisite\"}],\"name\":\"CHM 151IN\",\"metrics\":{\"centrality\":291,\"complexity\":30.0,\"blocking factor\":20,\"delay factor\":10.0},\"nameSub\":\"Gen Chemistry I\",\"id\":2,\"credits\":4,\"nameCanonical\":\"General Chemsitry I\"},{\"curriculum_requisites\":[],\"name\":\"CHM 151RC\",\"metrics\":{\"centrality\":0,\"complexity\":31.0,\"blocking factor\":21,\"delay factor\":10.0},\"nameSub\":\"Gen Chemistry I Recitation\",\"id\":3,\"credits\":1,\"nameCanonical\":\"\"},{\"curriculum_requisites\":[],\"name\":\"WRT 101\",\"metrics\":{\"centrality\":0,\"complexity\":3.0,\"blocking factor\":1,\"delay factor\":2.0},\"nameSub\":\"English Composition I\",\"id\":4,\"credits\":3,\"nameCanonical\":\"English Composition I\"},{\"curriculum_requisites\":[{\"source_id\":1,\"target_id\":5,\"type\":\"CurriculumCorequisite\"}],\"name\":\"ENG 102IN\",\"metrics\":{\"centrality\":203,\"complexity\":24.0,\"blocking factor\":15,\"delay factor\":9.0},\"nameSub\":\"Problem-Solving and Engineering Design\",\"id\":5,\"credits\":3,\"nameCanonical\":\"Intro to Engineering\"},{\"curriculum_requisites\":[],\"name\":\" \",\"metrics\":{\"centrality\":0,\"complexity\":1.0,\"blocking factor\":0,\"delay factor\":1.0},\"nameSub\":\"AGEC-S Course\",\"id\":6,\"credits\":3,\"nameCanonical\":\"\"}],\"id\":1},{\"name\":\"Term 2\",\"curriculum_items\":[{\"curriculum_requisites\":[{\"source_id\":1,\"target_id\":7,\"type\":\"CurriculumPrerequisite\"}],\"name\":\"MAT 231\",\"metrics\":{\"centrality\":182,\"complexity\":24.0,\"blocking factor\":16,\"delay factor\":8.0},\"nameSub\":\"Calculus II\",\"id\":7,\"credits\":4,\"nameCanonical\":\"Calculus II\"},{\"curriculum_requisites\":[{\"source_id\":2,\"target_id\":8,\"type\":\"CurriculumPrerequisite\"},{\"source_id\":9,\"target_id\":8,\"type\":\"CurriculumStrictCorequisite\"}],\"name\":\"CHM 152IN\",\"metrics\":{\"centrality\":443,\"complexity\":27.0,\"blocking factor\":17,\"delay factor\":10.0},\"nameSub\":\"Gen Chemistry II\",\"id\":8,\"credits\":4,\"nameCanonical\":\"General Chemsitry II\"},{\"curriculum_requisites\":[],\"name\":\"CHM 152RC\",\"metrics\":{\"centrality\":0,\"complexity\":27.0,\"blocking factor\":18,\"delay factor\":9.0},\"nameSub\":\"Gen Chemistry II Recitation\",\"id\":9,\"credits\":1,\"nameCanonical\":\"\"},{\"curriculum_requisites\":[{\"source_id\":11,\"target_id\":10,\"type\":\"CurriculumStrictCorequisite\"},{\"source_id\":1,\"target_id\":10,\"type\":\"CurriculumPrerequisite\"}],\"name\":\"PHY 210IN\",\"metrics\":{\"centrality\":272,\"complexity\":22.0,\"blocking factor\":14,\"delay factor\":8.0},\"nameSub\":\"Intro Mechanics\",\"id\":10,\"credits\":4,\"nameCanonical\":\"\"},{\"curriculum_requisites\":[],\"name\":\"PHY 210RC\",\"metrics\":{\"centrality\":0,\"complexity\":23.0,\"blocking factor\":15,\"delay factor\":8.0},\"nameSub\":\"Intro Mechanics Recitation\",\"id\":11,\"credits\":1,\"nameCanonical\":\"\"},{\"curriculum_requisites\":[{\"source_id\":4,\"target_id\":12,\"type\":\"CurriculumPrerequisite\"}],\"name\":\"WRT 102\",\"metrics\":{\"centrality\":0,\"complexity\":2.0,\"blocking factor\":0,\"delay factor\":2.0},\"nameSub\":\" English Composition II\",\"id\":12,\"credits\":3,\"nameCanonical\":\" English Composition\"},{\"curriculum_requisites\":[{\"source_id\":1,\"target_id\":13,\"type\":\"CurriculumCorequisite\"}],\"name\":\"ENG 105IN\",\"metrics\":{\"centrality\":503,\"complexity\":27.0,\"blocking factor\":17,\"delay factor\":10.0},\"nameSub\":\"Intro to MATLAB I\",\"id\":13,\"credits\":1,\"nameCanonical\":\"\"}],\"id\":2},{\"name\":\"Term 3\",\"curriculum_items\":[{\"curriculum_requisites\":[],\"name\":\" \",\"metrics\":{\"centrality\":0,\"complexity\":1.0,\"blocking factor\":0,\"delay factor\":1.0},\"nameSub\":\"AGEC-S Course\",\"id\":14,\"credits\":3,\"nameCanonical\":\"\"},{\"curriculum_requisites\":[],\"name\":\" \",\"metrics\":{\"centrality\":0,\"complexity\":1.0,\"blocking factor\":0,\"delay factor\":1.0},\"nameSub\":\"AGEC-S Course\",\"id\":15,\"credits\":3,\"nameCanonical\":\"\"},{\"curriculum_requisites\":[{\"source_id\":7,\"target_id\":16,\"type\":\"CurriculumPrerequisite\"}],\"name\":\"MAT 241\",\"metrics\":{\"centrality\":0,\"complexity\":3.0,\"blocking factor\":0,\"delay factor\":3.0},\"nameSub\":\"Calculus III\",\"id\":16,\"credits\":4,\"nameCanonical\":\"Calculus III\"},{\"curriculum_requisites\":[{\"source_id\":18,\"target_id\":17,\"type\":\"CurriculumStrictCorequisite\"},{\"source_id\":8,\"target_id\":17,\"type\":\"CurriculumPrerequisite\"}],\"name\":\" 235IN\",\"metrics\":{\"centrality\":12,\"complexity\":6.0,\"blocking factor\":1,\"delay factor\":5.0},\"nameSub\":\"General Organic Chemistry I\",\"id\":17,\"credits\":4,\"nameCanonical\":\"Organic Chemistry I\"},{\"curriculum_requisites\":[],\"name\":\"CHM  235RC\",\"metrics\":{\"centrality\":0,\"complexity\":5.0,\"blocking factor\":2,\"delay factor\":3.0},\"nameSub\":\"General Organic Chemistry I Recitation\",\"id\":18,\"credits\":1,\"nameCanonical\":\"\"},{\"curriculum_requisites\":[],\"name\":\" \",\"metrics\":{\"centrality\":0,\"complexity\":15.0,\"blocking factor\":8,\"delay factor\":7.0},\"nameSub\":\"AGEC-S Course\",\"id\":19,\"credits\":3,\"nameCanonical\":\"\"}],\"id\":3},{\"name\":\"Term 4\",\"curriculum_items\":[{\"curriculum_requisites\":[],\"name\":\" \",\"metrics\":{\"centrality\":0,\"complexity\":1.0,\"blocking factor\":0,\"delay factor\":1.0},\"nameSub\":\"AGEC-S Course\",\"id\":20,\"credits\":3,\"nameCanonical\":\"\"},{\"curriculum_requisites\":[],\"name\":\" \",\"metrics\":{\"centrality\":0,\"complexity\":1.0,\"blocking factor\":0,\"delay factor\":1.0},\"nameSub\":\"AGEC-S Course\",\"id\":21,\"credits\":3,\"nameCanonical\":\"\"},{\"curriculum_requisites\":[{\"source_id\":7,\"target_id\":22,\"type\":\"CurriculumPrerequisite\"}],\"name\":\"MAT 262\",\"metrics\":{\"centrality\":60,\"complexity\":15.0,\"blocking factor\":7,\"delay factor\":8.0},\"nameSub\":\"Differential Equations\",\"id\":22,\"credits\":3,\"nameCanonical\":\"Differential Equations\"},{\"curriculum_requisites\":[{\"source_id\":7,\"target_id\":23,\"type\":\"CurriculumPrerequisite\"},{\"source_id\":10,\"target_id\":23,\"type\":\"CurriculumPrerequisite\"},{\"source_id\":24,\"target_id\":23,\"type\":\"CurriculumStrictCorequisite\"}],\"name\":\"PHY 216IN\",\"metrics\":{\"centrality\":247,\"complexity\":18.0,\"blocking factor\":10,\"delay factor\":8.0},\"nameSub\":\"Intro Electricity & Magnetism\",\"id\":23,\"credits\":4,\"nameCanonical\":\"\"},{\"curriculum_requisites\":[],\"name\":\"PHY 216RC\",\"metrics\":{\"centrality\":0,\"complexity\":18.0,\"blocking factor\":11,\"delay factor\":7.0},\"nameSub\":\"Intro Electricity & Magnetism\",\"id\":24,\"credits\":1,\"nameCanonical\":\"\"},{\"curriculum_requisites\":[{\"source_id\":26,\"target_id\":25,\"type\":\"CurriculumStrictCorequisite\"},{\"source_id\":17,\"target_id\":25,\"type\":\"CurriculumPrerequisite\"}],\"name\":\"CHM 236IN\",\"metrics\":{\"centrality\":0,\"complexity\":5.0,\"blocking factor\":0,\"delay factor\":5.0},\"nameSub\":\"General Organic Chemistry II\",\"id\":25,\"credits\":4,\"nameCanonical\":\"Organic Chemistry II\"},{\"curriculum_requisites\":[],\"name\":\"CHM  236RC\",\"metrics\":{\"centrality\":0,\"complexity\":3.0,\"blocking factor\":1,\"delay factor\":2.0},\"nameSub\":\"General Organic Chemistry II Recitation\",\"id\":26,\"credits\":1,\"nameCanonical\":\"\"},{\"curriculum_requisites\":[{\"source_id\":13,\"target_id\":27,\"type\":\"CurriculumPrerequisite\"}],\"name\":\"ENG 205IN\",\"metrics\":{\"centrality\":231,\"complexity\":25.0,\"blocking factor\":15,\"delay factor\":10.0},\"nameSub\":\"Intro to MATLAB II\",\"id\":27,\"credits\":1,\"nameCanonical\":\"\"}],\"id\":4},{\"name\":\"Term 5\",\"curriculum_items\":[{\"curriculum_requisites\":[{\"source_id\":5,\"target_id\":28,\"type\":\"CurriculumPrerequisite\"},{\"source_id\":13,\"target_id\":28,\"type\":\"CurriculumPrerequisite\"},{\"source_id\":27,\"target_id\":28,\"type\":\"CurriculumCorequisite\"},{\"source_id\":8,\"target_id\":28,\"type\":\"CurriculumPrerequisite\"},{\"source_id\":1,\"target_id\":28,\"type\":\"CurriculumPrerequisite\"}],\"name\":\"CHEE 201\",\"metrics\":{\"centrality\":1246,\"complexity\":24.0,\"blocking factor\":14,\"delay factor\":10.0},\"nameSub\":\"Elements of Chem and Envirn Eng I\",\"id\":28,\"credits\":3,\"nameCanonical\":\"\"},{\"curriculum_requisites\":[{\"source_id\":13,\"target_id\":29,\"type\":\"CurriculumCorequisite\"},{\"source_id\":1,\"target_id\":29,\"type\":\"CurriculumPrerequisite\"}],\"name\":\" 201L\",\"metrics\":{\"centrality\":129,\"complexity\":17.0,\"blocking factor\":8,\"delay factor\":9.0},\"nameSub\":\"Elements of Chem and Envirn Eng I Lab\",\"id\":29,\"credits\":1,\"nameCanonical\":\"\"},{\"curriculum_requisites\":[{\"source_id\":7,\"target_id\":30,\"type\":\"CurriculumPrerequisite\"},{\"source_id\":2,\"target_id\":30,\"type\":\"CurriculumPrerequisite\"},{\"source_id\":23,\"target_id\":30,\"type\":\"CurriculumPrerequisite\"}],\"name\":\"CHEM 480A\",\"metrics\":{\"centrality\":357,\"complexity\":17.0,\"blocking factor\":9,\"delay factor\":8.0},\"nameSub\":\"Physical Chem\",\"id\":30,\"credits\":3,\"nameCanonical\":\"\"},{\"curriculum_requisites\":[],\"name\":\" \",\"metrics\":{\"centrality\":0,\"complexity\":1.0,\"blocking factor\":0,\"delay factor\":1.0},\"nameSub\":\"Engineering Elective\",\"id\":31,\"credits\":3,\"nameCanonical\":\"\"},{\"curriculum_requisites\":[],\"name\":\" \",\"metrics\":{\"centrality\":0,\"complexity\":1.0,\"blocking factor\":0,\"delay factor\":1.0},\"nameSub\":\"Engineering Elective\",\"id\":32,\"credits\":3,\"nameCanonical\":\"\"}],\"id\":5},{\"name\":\"Term 6\",\"curriculum_items\":[{\"curriculum_requisites\":[],\"name\":\" \",\"metrics\":{\"centrality\":0,\"complexity\":1.0,\"blocking factor\":0,\"delay factor\":1.0},\"nameSub\":\"Technical Elective\",\"id\":33,\"credits\":3,\"nameCanonical\":\"\"},{\"curriculum_requisites\":[{\"source_id\":29,\"target_id\":34,\"type\":\"CurriculumPrerequisite\"},{\"source_id\":28,\"target_id\":34,\"type\":\"CurriculumPrerequisite\"},{\"source_id\":19,\"target_id\":34,\"type\":\"CurriculumCorequisite\"}],\"name\":\"CHEE 202\",\"metrics\":{\"centrality\":603,\"complexity\":17.0,\"blocking factor\":7,\"delay factor\":10.0},\"nameSub\":\"Elements of Chem Eng II\",\"id\":34,\"credits\":4,\"nameCanonical\":\"\"},{\"curriculum_requisites\":[{\"source_id\":10,\"target_id\":35,\"type\":\"CurriculumPrerequisite\"},{\"source_id\":28,\"target_id\":35,\"type\":\"CurriculumPrerequisite\"}],\"name\":\"CHEE 203\",\"metrics\":{\"centrality\":653,\"complexity\":18.0,\"blocking factor\":8,\"delay factor\":10.0},\"nameSub\":\"Chem Eng Heat Xfer & Fluid Flow\",\"id\":35,\"credits\":3,\"nameCanonical\":\"\"},{\"curriculum_requisites\":[],\"name\":\" \",\"metrics\":{\"centrality\":0,\"complexity\":1.0,\"blocking factor\":0,\"delay factor\":1.0},\"nameSub\":\"Engineering Elective\",\"id\":36,\"credits\":3,\"nameCanonical\":\"\"},{\"curriculum_requisites\":[],\"name\":\" \",\"metrics\":{\"centrality\":0,\"complexity\":1.0,\"blocking factor\":0,\"delay factor\":1.0},\"nameSub\":\"Technical Elective\",\"id\":37,\"credits\":3,\"nameCanonical\":\"\"}],\"id\":6},{\"name\":\"Term 7\",\"curriculum_items\":[{\"curriculum_requisites\":[{\"source_id\":35,\"target_id\":38,\"type\":\"CurriculumPrerequisite\"}],\"name\":\"CHEE 303\",\"metrics\":{\"centrality\":496,\"complexity\":17.0,\"blocking factor\":7,\"delay factor\":10.0},\"nameSub\":\"Chem Eng Mass Xfer\",\"id\":38,\"credits\":3,\"nameCanonical\":\"\"},{\"curriculum_requisites\":[{\"source_id\":22,\"target_id\":39,\"type\":\"CurriculumPrerequisite\"},{\"source_id\":34,\"target_id\":39,\"type\":\"CurriculumPrerequisite\"}],\"name\":\"CHEE 402\",\"metrics\":{\"centrality\":472,\"complexity\":16.0,\"blocking factor\":6,\"delay factor\":10.0},\"nameSub\":\"Chem Eng Modeling\",\"id\":39,\"credits\":3,\"nameCanonical\":\"\"},{\"curriculum_requisites\":[],\"name\":\"CHEE 489\",\"metrics\":{\"centrality\":0,\"complexity\":1.0,\"blocking factor\":0,\"delay factor\":1.0},\"nameSub\":\"Trends in Nanomedicine Eng\",\"id\":41,\"credits\":3,\"nameCanonical\":\"\"}],\"id\":7},{\"name\":\"Term 8\",\"curriculum_items\":[{\"curriculum_requisites\":[{\"source_id\":22,\"target_id\":40,\"type\":\"CurriculumPrerequisite\"},{\"source_id\":34,\"target_id\":40,\"type\":\"CurriculumPrerequisite\"},{\"source_id\":35,\"target_id\":40,\"type\":\"CurriculumPrerequisite\"},{\"source_id\":43,\"target_id\":40,\"type\":\"CurriculumCorequisite\"},{\"source_id\":42,\"target_id\":40,\"type\":\"CurriculumCorequisite\"}],\"name\":\"CHEE 301A\",\"metrics\":{\"centrality\":1056,\"complexity\":13.0,\"blocking factor\":3,\"delay factor\":10.0},\"nameSub\":\"Chem Eng Lab I\",\"id\":40,\"credits\":1,\"nameCanonical\":\"\"},{\"curriculum_requisites\":[{\"source_id\":39,\"target_id\":42,\"type\":\"CurriculumPrerequisite\"},{\"source_id\":38,\"target_id\":42,\"type\":\"CurriculumPrerequisite\"}],\"name\":\"CHEE 305\",\"metrics\":{\"centrality\":736,\"complexity\":14.0,\"blocking factor\":4,\"delay factor\":10.0},\"nameSub\":\"Chem Eng Transport Phenom\",\"id\":42,\"credits\":3,\"nameCanonical\":\"\"},{\"curriculum_requisites\":[{\"source_id\":30,\"target_id\":43,\"type\":\"CurriculumPrerequisite\"},{\"source_id\":28,\"target_id\":43,\"type\":\"CurriculumPrerequisite\"}],\"name\":\"CHEE 326\",\"metrics\":{\"centrality\":644,\"complexity\":15.0,\"blocking factor\":7,\"delay factor\":8.0},\"nameSub\":\"Chem & Phys Equilibrium\",\"id\":43,\"credits\":3,\"nameCanonical\":\"\"},{\"curriculum_requisites\":[{\"source_id\":30,\"target_id\":48,\"type\":\"CurriculumPrerequisite\"}],\"name\":\"CHEM 480B\",\"metrics\":{\"centrality\":0,\"complexity\":5.0,\"blocking factor\":0,\"delay factor\":5.0},\"nameSub\":\"Physical Chem\",\"id\":48,\"credits\":3,\"nameCanonical\":\"\"},{\"curriculum_requisites\":[{\"source_id\":39,\"target_id\":49,\"type\":\"CurriculumPrerequisite\"}],\"name\":\"CHEE 413\",\"metrics\":{\"centrality\":67,\"complexity\":9.0,\"blocking factor\":1,\"delay factor\":8.0},\"nameSub\":\"Process Control and Simulation\",\"id\":49,\"credits\":3,\"nameCanonical\":\"\"}],\"id\":8},{\"name\":\"Term 9\",\"curriculum_items\":[{\"curriculum_requisites\":[{\"source_id\":43,\"target_id\":44,\"type\":\"CurriculumStrictCorequisite\"},{\"source_id\":38,\"target_id\":44,\"type\":\"CurriculumPrerequisite\"},{\"source_id\":42,\"target_id\":44,\"type\":\"CurriculumStrictCorequisite\"},{\"source_id\":40,\"target_id\":44,\"type\":\"CurriculumPrerequisite\"}],\"name\":\"CHEE 301B\",\"metrics\":{\"centrality\":1278,\"complexity\":12.0,\"blocking factor\":2,\"delay factor\":10.0},\"nameSub\":\"Chem Eng Lab II\",\"id\":44,\"credits\":1,\"nameCanonical\":\"\"},{\"curriculum_requisites\":[{\"source_id\":43,\"target_id\":45,\"type\":\"CurriculumPrerequisite\"}],\"name\":\"CHEE 420\",\"metrics\":{\"centrality\":164,\"complexity\":11.0,\"blocking factor\":3,\"delay factor\":8.0},\"nameSub\":\"Chem Reaction Eng\",\"id\":45,\"credits\":3,\"nameCanonical\":\"\"},{\"curriculum_requisites\":[{\"source_id\":43,\"target_id\":46,\"type\":\"CurriculumPrerequisite\"},{\"source_id\":45,\"target_id\":46,\"type\":\"CurriculumStrictCorequisite\"},{\"source_id\":38,\"target_id\":46,\"type\":\"CurriculumPrerequisite\"}],\"name\":\"CHEE 442\",\"metrics\":{\"centrality\":219,\"complexity\":9.0,\"blocking factor\":1,\"delay factor\":8.0},\"nameSub\":\"Chem Eng Design Principles\",\"id\":46,\"credits\":3,\"nameCanonical\":\"\"}],\"id\":9},{\"name\":\"Term 10\",\"curriculum_items\":[{\"curriculum_requisites\":[{\"source_id\":45,\"target_id\":47,\"type\":\"CurriculumCorequisite\"},{\"source_id\":44,\"target_id\":47,\"type\":\"CurriculumPrerequisite\"}],\"name\":\"CHEE 401A\",\"metrics\":{\"centrality\":0,\"complexity\":10.0,\"blocking factor\":0,\"delay factor\":10.0},\"nameSub\":\"Chem and Enviorn Eng Lab I\",\"id\":47,\"credits\":1,\"nameCanonical\":\"\"},{\"curriculum_requisites\":[{\"source_id\":49,\"target_id\":50,\"type\":\"CurriculumCorequisite\"},{\"source_id\":44,\"target_id\":50,\"type\":\"CurriculumPrerequisite\"},{\"source_id\":40,\"target_id\":50,\"type\":\"CurriculumPrerequisite\"}],\"name\":\"CHEE 401B\",\"metrics\":{\"centrality\":0,\"complexity\":10.0,\"blocking factor\":0,\"delay factor\":10.0},\"nameSub\":\"Process Dynamics and Control Lab\",\"id\":50,\"credits\":1,\"nameCanonical\":\"\"},{\"curriculum_requisites\":[{\"source_id\":46,\"target_id\":51,\"type\":\"CurriculumPrerequisite\"}],\"name\":\"CHEE 443\",\"metrics\":{\"centrality\":0,\"complexity\":8.0,\"blocking factor\":0,\"delay factor\":8.0},\"nameSub\":\"Chem Eng Plant Design\",\"id\":51,\"credits\":3,\"nameCanonical\":\"\"}],\"id\":10}],\"institution\":\"University of Arizona\"}}}}},\"children\":[{\"props\":{\"src\":\"https:\\/\\/curricula-api-embed.damoursystems.com\\/\",\"id\":\"curriculum\",\"events\":{\"load\":\"(function (){this.contentWindow.postMessage({\\\"options\\\":{\\\"hideTerms\\\":false,\\\"edit\\\":false},\\\"curriculum\\\":{\\\"name\\\":\\\"Chemical Engineering\\\",\\\"dp_name\\\":\\\"2019-20 Pima to UA Transfer Degree Plan\\\",\\\"curriculum_terms\\\":[{\\\"name\\\":\\\"Term 1\\\",\\\"curriculum_items\\\":[{\\\"curriculum_requisites\\\":[],\\\"name\\\":\\\"MAT 220\\\",\\\"metrics\\\":{\\\"centrality\\\":0,\\\"complexity\\\":36.0,\\\"blocking factor\\\":26,\\\"delay factor\\\":10.0},\\\"nameSub\\\":\\\"Calculus I\\\",\\\"id\\\":1,\\\"credits\\\":5,\\\"nameCanonical\\\":\\\"Calculus I\\\"},{\\\"curriculum_requisites\\\":[{\\\"source_id\\\":3,\\\"target_id\\\":2,\\\"type\\\":\\\"CurriculumStrictCorequisite\\\"}],\\\"name\\\":\\\"CHM 151IN\\\",\\\"metrics\\\":{\\\"centrality\\\":291,\\\"complexity\\\":30.0,\\\"blocking factor\\\":20,\\\"delay factor\\\":10.0},\\\"nameSub\\\":\\\"Gen Chemistry I\\\",\\\"id\\\":2,\\\"credits\\\":4,\\\"nameCanonical\\\":\\\"General Chemsitry I\\\"},{\\\"curriculum_requisites\\\":[],\\\"name\\\":\\\"CHM 151RC\\\",\\\"metrics\\\":{\\\"centrality\\\":0,\\\"complexity\\\":31.0,\\\"blocking factor\\\":21,\\\"delay factor\\\":10.0},\\\"nameSub\\\":\\\"Gen Chemistry I Recitation\\\",\\\"id\\\":3,\\\"credits\\\":1,\\\"nameCanonical\\\":\\\"\\\"},{\\\"curriculum_requisites\\\":[],\\\"name\\\":\\\"WRT 101\\\",\\\"metrics\\\":{\\\"centrality\\\":0,\\\"complexity\\\":3.0,\\\"blocking factor\\\":1,\\\"delay factor\\\":2.0},\\\"nameSub\\\":\\\"English Composition I\\\",\\\"id\\\":4,\\\"credits\\\":3,\\\"nameCanonical\\\":\\\"English Composition I\\\"},{\\\"curriculum_requisites\\\":[{\\\"source_id\\\":1,\\\"target_id\\\":5,\\\"type\\\":\\\"CurriculumCorequisite\\\"}],\\\"name\\\":\\\"ENG 102IN\\\",\\\"metrics\\\":{\\\"centrality\\\":203,\\\"complexity\\\":24.0,\\\"blocking factor\\\":15,\\\"delay factor\\\":9.0},\\\"nameSub\\\":\\\"Problem-Solving and Engineering Design\\\",\\\"id\\\":5,\\\"credits\\\":3,\\\"nameCanonical\\\":\\\"Intro to Engineering\\\"},{\\\"curriculum_requisites\\\":[],\\\"name\\\":\\\" \\\",\\\"metrics\\\":{\\\"centrality\\\":0,\\\"complexity\\\":1.0,\\\"blocking factor\\\":0,\\\"delay factor\\\":1.0},\\\"nameSub\\\":\\\"AGEC-S Course\\\",\\\"id\\\":6,\\\"credits\\\":3,\\\"nameCanonical\\\":\\\"\\\"}],\\\"id\\\":1},{\\\"name\\\":\\\"Term 2\\\",\\\"curriculum_items\\\":[{\\\"curriculum_requisites\\\":[{\\\"source_id\\\":1,\\\"target_id\\\":7,\\\"type\\\":\\\"CurriculumPrerequisite\\\"}],\\\"name\\\":\\\"MAT 231\\\",\\\"metrics\\\":{\\\"centrality\\\":182,\\\"complexity\\\":24.0,\\\"blocking factor\\\":16,\\\"delay factor\\\":8.0},\\\"nameSub\\\":\\\"Calculus II\\\",\\\"id\\\":7,\\\"credits\\\":4,\\\"nameCanonical\\\":\\\"Calculus II\\\"},{\\\"curriculum_requisites\\\":[{\\\"source_id\\\":2,\\\"target_id\\\":8,\\\"type\\\":\\\"CurriculumPrerequisite\\\"},{\\\"source_id\\\":9,\\\"target_id\\\":8,\\\"type\\\":\\\"CurriculumStrictCorequisite\\\"}],\\\"name\\\":\\\"CHM 152IN\\\",\\\"metrics\\\":{\\\"centrality\\\":443,\\\"complexity\\\":27.0,\\\"blocking factor\\\":17,\\\"delay factor\\\":10.0},\\\"nameSub\\\":\\\"Gen Chemistry II\\\",\\\"id\\\":8,\\\"credits\\\":4,\\\"nameCanonical\\\":\\\"General Chemsitry II\\\"},{\\\"curriculum_requisites\\\":[],\\\"name\\\":\\\"CHM 152RC\\\",\\\"metrics\\\":{\\\"centrality\\\":0,\\\"complexity\\\":27.0,\\\"blocking factor\\\":18,\\\"delay factor\\\":9.0},\\\"nameSub\\\":\\\"Gen Chemistry II Recitation\\\",\\\"id\\\":9,\\\"credits\\\":1,\\\"nameCanonical\\\":\\\"\\\"},{\\\"curriculum_requisites\\\":[{\\\"source_id\\\":11,\\\"target_id\\\":10,\\\"type\\\":\\\"CurriculumStrictCorequisite\\\"},{\\\"source_id\\\":1,\\\"target_id\\\":10,\\\"type\\\":\\\"CurriculumPrerequisite\\\"}],\\\"name\\\":\\\"PHY 210IN\\\",\\\"metrics\\\":{\\\"centrality\\\":272,\\\"complexity\\\":22.0,\\\"blocking factor\\\":14,\\\"delay factor\\\":8.0},\\\"nameSub\\\":\\\"Intro Mechanics\\\",\\\"id\\\":10,\\\"credits\\\":4,\\\"nameCanonical\\\":\\\"\\\"},{\\\"curriculum_requisites\\\":[],\\\"name\\\":\\\"PHY 210RC\\\",\\\"metrics\\\":{\\\"centrality\\\":0,\\\"complexity\\\":23.0,\\\"blocking factor\\\":15,\\\"delay factor\\\":8.0},\\\"nameSub\\\":\\\"Intro Mechanics Recitation\\\",\\\"id\\\":11,\\\"credits\\\":1,\\\"nameCanonical\\\":\\\"\\\"},{\\\"curriculum_requisites\\\":[{\\\"source_id\\\":4,\\\"target_id\\\":12,\\\"type\\\":\\\"CurriculumPrerequisite\\\"}],\\\"name\\\":\\\"WRT 102\\\",\\\"metrics\\\":{\\\"centrality\\\":0,\\\"complexity\\\":2.0,\\\"blocking factor\\\":0,\\\"delay factor\\\":2.0},\\\"nameSub\\\":\\\" English Composition II\\\",\\\"id\\\":12,\\\"credits\\\":3,\\\"nameCanonical\\\":\\\" English Composition\\\"},{\\\"curriculum_requisites\\\":[{\\\"source_id\\\":1,\\\"target_id\\\":13,\\\"type\\\":\\\"CurriculumCorequisite\\\"}],\\\"name\\\":\\\"ENG 105IN\\\",\\\"metrics\\\":{\\\"centrality\\\":503,\\\"complexity\\\":27.0,\\\"blocking factor\\\":17,\\\"delay factor\\\":10.0},\\\"nameSub\\\":\\\"Intro to MATLAB I\\\",\\\"id\\\":13,\\\"credits\\\":1,\\\"nameCanonical\\\":\\\"\\\"}],\\\"id\\\":2},{\\\"name\\\":\\\"Term 3\\\",\\\"curriculum_items\\\":[{\\\"curriculum_requisites\\\":[],\\\"name\\\":\\\" \\\",\\\"metrics\\\":{\\\"centrality\\\":0,\\\"complexity\\\":1.0,\\\"blocking factor\\\":0,\\\"delay factor\\\":1.0},\\\"nameSub\\\":\\\"AGEC-S Course\\\",\\\"id\\\":14,\\\"credits\\\":3,\\\"nameCanonical\\\":\\\"\\\"},{\\\"curriculum_requisites\\\":[],\\\"name\\\":\\\" \\\",\\\"metrics\\\":{\\\"centrality\\\":0,\\\"complexity\\\":1.0,\\\"blocking factor\\\":0,\\\"delay factor\\\":1.0},\\\"nameSub\\\":\\\"AGEC-S Course\\\",\\\"id\\\":15,\\\"credits\\\":3,\\\"nameCanonical\\\":\\\"\\\"},{\\\"curriculum_requisites\\\":[{\\\"source_id\\\":7,\\\"target_id\\\":16,\\\"type\\\":\\\"CurriculumPrerequisite\\\"}],\\\"name\\\":\\\"MAT 241\\\",\\\"metrics\\\":{\\\"centrality\\\":0,\\\"complexity\\\":3.0,\\\"blocking factor\\\":0,\\\"delay factor\\\":3.0},\\\"nameSub\\\":\\\"Calculus III\\\",\\\"id\\\":16,\\\"credits\\\":4,\\\"nameCanonical\\\":\\\"Calculus III\\\"},{\\\"curriculum_requisites\\\":[{\\\"source_id\\\":18,\\\"target_id\\\":17,\\\"type\\\":\\\"CurriculumStrictCorequisite\\\"},{\\\"source_id\\\":8,\\\"target_id\\\":17,\\\"type\\\":\\\"CurriculumPrerequisite\\\"}],\\\"name\\\":\\\" 235IN\\\",\\\"metrics\\\":{\\\"centrality\\\":12,\\\"complexity\\\":6.0,\\\"blocking factor\\\":1,\\\"delay factor\\\":5.0},\\\"nameSub\\\":\\\"General Organic Chemistry I\\\",\\\"id\\\":17,\\\"credits\\\":4,\\\"nameCanonical\\\":\\\"Organic Chemistry I\\\"},{\\\"curriculum_requisites\\\":[],\\\"name\\\":\\\"CHM  235RC\\\",\\\"metrics\\\":{\\\"centrality\\\":0,\\\"complexity\\\":5.0,\\\"blocking factor\\\":2,\\\"delay factor\\\":3.0},\\\"nameSub\\\":\\\"General Organic Chemistry I Recitation\\\",\\\"id\\\":18,\\\"credits\\\":1,\\\"nameCanonical\\\":\\\"\\\"},{\\\"curriculum_requisites\\\":[],\\\"name\\\":\\\" \\\",\\\"metrics\\\":{\\\"centrality\\\":0,\\\"complexity\\\":15.0,\\\"blocking factor\\\":8,\\\"delay factor\\\":7.0},\\\"nameSub\\\":\\\"AGEC-S Course\\\",\\\"id\\\":19,\\\"credits\\\":3,\\\"nameCanonical\\\":\\\"\\\"}],\\\"id\\\":3},{\\\"name\\\":\\\"Term 4\\\",\\\"curriculum_items\\\":[{\\\"curriculum_requisites\\\":[],\\\"name\\\":\\\" \\\",\\\"metrics\\\":{\\\"centrality\\\":0,\\\"complexity\\\":1.0,\\\"blocking factor\\\":0,\\\"delay factor\\\":1.0},\\\"nameSub\\\":\\\"AGEC-S Course\\\",\\\"id\\\":20,\\\"credits\\\":3,\\\"nameCanonical\\\":\\\"\\\"},{\\\"curriculum_requisites\\\":[],\\\"name\\\":\\\" \\\",\\\"metrics\\\":{\\\"centrality\\\":0,\\\"complexity\\\":1.0,\\\"blocking factor\\\":0,\\\"delay factor\\\":1.0},\\\"nameSub\\\":\\\"AGEC-S Course\\\",\\\"id\\\":21,\\\"credits\\\":3,\\\"nameCanonical\\\":\\\"\\\"},{\\\"curriculum_requisites\\\":[{\\\"source_id\\\":7,\\\"target_id\\\":22,\\\"type\\\":\\\"CurriculumPrerequisite\\\"}],\\\"name\\\":\\\"MAT 262\\\",\\\"metrics\\\":{\\\"centrality\\\":60,\\\"complexity\\\":15.0,\\\"blocking factor\\\":7,\\\"delay factor\\\":8.0},\\\"nameSub\\\":\\\"Differential Equations\\\",\\\"id\\\":22,\\\"credits\\\":3,\\\"nameCanonical\\\":\\\"Differential Equations\\\"},{\\\"curriculum_requisites\\\":[{\\\"source_id\\\":7,\\\"target_id\\\":23,\\\"type\\\":\\\"CurriculumPrerequisite\\\"},{\\\"source_id\\\":10,\\\"target_id\\\":23,\\\"type\\\":\\\"CurriculumPrerequisite\\\"},{\\\"source_id\\\":24,\\\"target_id\\\":23,\\\"type\\\":\\\"CurriculumStrictCorequisite\\\"}],\\\"name\\\":\\\"PHY 216IN\\\",\\\"metrics\\\":{\\\"centrality\\\":247,\\\"complexity\\\":18.0,\\\"blocking factor\\\":10,\\\"delay factor\\\":8.0},\\\"nameSub\\\":\\\"Intro Electricity & Magnetism\\\",\\\"id\\\":23,\\\"credits\\\":4,\\\"nameCanonical\\\":\\\"\\\"},{\\\"curriculum_requisites\\\":[],\\\"name\\\":\\\"PHY 216RC\\\",\\\"metrics\\\":{\\\"centrality\\\":0,\\\"complexity\\\":18.0,\\\"blocking factor\\\":11,\\\"delay factor\\\":7.0},\\\"nameSub\\\":\\\"Intro Electricity & Magnetism\\\",\\\"id\\\":24,\\\"credits\\\":1,\\\"nameCanonical\\\":\\\"\\\"},{\\\"curriculum_requisites\\\":[{\\\"source_id\\\":26,\\\"target_id\\\":25,\\\"type\\\":\\\"CurriculumStrictCorequisite\\\"},{\\\"source_id\\\":17,\\\"target_id\\\":25,\\\"type\\\":\\\"CurriculumPrerequisite\\\"}],\\\"name\\\":\\\"CHM 236IN\\\",\\\"metrics\\\":{\\\"centrality\\\":0,\\\"complexity\\\":5.0,\\\"blocking factor\\\":0,\\\"delay factor\\\":5.0},\\\"nameSub\\\":\\\"General Organic Chemistry II\\\",\\\"id\\\":25,\\\"credits\\\":4,\\\"nameCanonical\\\":\\\"Organic Chemistry II\\\"},{\\\"curriculum_requisites\\\":[],\\\"name\\\":\\\"CHM  236RC\\\",\\\"metrics\\\":{\\\"centrality\\\":0,\\\"complexity\\\":3.0,\\\"blocking factor\\\":1,\\\"delay factor\\\":2.0},\\\"nameSub\\\":\\\"General Organic Chemistry II Recitation\\\",\\\"id\\\":26,\\\"credits\\\":1,\\\"nameCanonical\\\":\\\"\\\"},{\\\"curriculum_requisites\\\":[{\\\"source_id\\\":13,\\\"target_id\\\":27,\\\"type\\\":\\\"CurriculumPrerequisite\\\"}],\\\"name\\\":\\\"ENG 205IN\\\",\\\"metrics\\\":{\\\"centrality\\\":231,\\\"complexity\\\":25.0,\\\"blocking factor\\\":15,\\\"delay factor\\\":10.0},\\\"nameSub\\\":\\\"Intro to MATLAB II\\\",\\\"id\\\":27,\\\"credits\\\":1,\\\"nameCanonical\\\":\\\"\\\"}],\\\"id\\\":4},{\\\"name\\\":\\\"Term 5\\\",\\\"curriculum_items\\\":[{\\\"curriculum_requisites\\\":[{\\\"source_id\\\":5,\\\"target_id\\\":28,\\\"type\\\":\\\"CurriculumPrerequisite\\\"},{\\\"source_id\\\":13,\\\"target_id\\\":28,\\\"type\\\":\\\"CurriculumPrerequisite\\\"},{\\\"source_id\\\":27,\\\"target_id\\\":28,\\\"type\\\":\\\"CurriculumCorequisite\\\"},{\\\"source_id\\\":8,\\\"target_id\\\":28,\\\"type\\\":\\\"CurriculumPrerequisite\\\"},{\\\"source_id\\\":1,\\\"target_id\\\":28,\\\"type\\\":\\\"CurriculumPrerequisite\\\"}],\\\"name\\\":\\\"CHEE 201\\\",\\\"metrics\\\":{\\\"centrality\\\":1246,\\\"complexity\\\":24.0,\\\"blocking factor\\\":14,\\\"delay factor\\\":10.0},\\\"nameSub\\\":\\\"Elements of Chem and Envirn Eng I\\\",\\\"id\\\":28,\\\"credits\\\":3,\\\"nameCanonical\\\":\\\"\\\"},{\\\"curriculum_requisites\\\":[{\\\"source_id\\\":13,\\\"target_id\\\":29,\\\"type\\\":\\\"CurriculumCorequisite\\\"},{\\\"source_id\\\":1,\\\"target_id\\\":29,\\\"type\\\":\\\"CurriculumPrerequisite\\\"}],\\\"name\\\":\\\" 201L\\\",\\\"metrics\\\":{\\\"centrality\\\":129,\\\"complexity\\\":17.0,\\\"blocking factor\\\":8,\\\"delay factor\\\":9.0},\\\"nameSub\\\":\\\"Elements of Chem and Envirn Eng I Lab\\\",\\\"id\\\":29,\\\"credits\\\":1,\\\"nameCanonical\\\":\\\"\\\"},{\\\"curriculum_requisites\\\":[{\\\"source_id\\\":7,\\\"target_id\\\":30,\\\"type\\\":\\\"CurriculumPrerequisite\\\"},{\\\"source_id\\\":2,\\\"target_id\\\":30,\\\"type\\\":\\\"CurriculumPrerequisite\\\"},{\\\"source_id\\\":23,\\\"target_id\\\":30,\\\"type\\\":\\\"CurriculumPrerequisite\\\"}],\\\"name\\\":\\\"CHEM 480A\\\",\\\"metrics\\\":{\\\"centrality\\\":357,\\\"complexity\\\":17.0,\\\"blocking factor\\\":9,\\\"delay factor\\\":8.0},\\\"nameSub\\\":\\\"Physical Chem\\\",\\\"id\\\":30,\\\"credits\\\":3,\\\"nameCanonical\\\":\\\"\\\"},{\\\"curriculum_requisites\\\":[],\\\"name\\\":\\\" \\\",\\\"metrics\\\":{\\\"centrality\\\":0,\\\"complexity\\\":1.0,\\\"blocking factor\\\":0,\\\"delay factor\\\":1.0},\\\"nameSub\\\":\\\"Engineering Elective\\\",\\\"id\\\":31,\\\"credits\\\":3,\\\"nameCanonical\\\":\\\"\\\"},{\\\"curriculum_requisites\\\":[],\\\"name\\\":\\\" \\\",\\\"metrics\\\":{\\\"centrality\\\":0,\\\"complexity\\\":1.0,\\\"blocking factor\\\":0,\\\"delay factor\\\":1.0},\\\"nameSub\\\":\\\"Engineering Elective\\\",\\\"id\\\":32,\\\"credits\\\":3,\\\"nameCanonical\\\":\\\"\\\"}],\\\"id\\\":5},{\\\"name\\\":\\\"Term 6\\\",\\\"curriculum_items\\\":[{\\\"curriculum_requisites\\\":[],\\\"name\\\":\\\" \\\",\\\"metrics\\\":{\\\"centrality\\\":0,\\\"complexity\\\":1.0,\\\"blocking factor\\\":0,\\\"delay factor\\\":1.0},\\\"nameSub\\\":\\\"Technical Elective\\\",\\\"id\\\":33,\\\"credits\\\":3,\\\"nameCanonical\\\":\\\"\\\"},{\\\"curriculum_requisites\\\":[{\\\"source_id\\\":29,\\\"target_id\\\":34,\\\"type\\\":\\\"CurriculumPrerequisite\\\"},{\\\"source_id\\\":28,\\\"target_id\\\":34,\\\"type\\\":\\\"CurriculumPrerequisite\\\"},{\\\"source_id\\\":19,\\\"target_id\\\":34,\\\"type\\\":\\\"CurriculumCorequisite\\\"}],\\\"name\\\":\\\"CHEE 202\\\",\\\"metrics\\\":{\\\"centrality\\\":603,\\\"complexity\\\":17.0,\\\"blocking factor\\\":7,\\\"delay factor\\\":10.0},\\\"nameSub\\\":\\\"Elements of Chem Eng II\\\",\\\"id\\\":34,\\\"credits\\\":4,\\\"nameCanonical\\\":\\\"\\\"},{\\\"curriculum_requisites\\\":[{\\\"source_id\\\":10,\\\"target_id\\\":35,\\\"type\\\":\\\"CurriculumPrerequisite\\\"},{\\\"source_id\\\":28,\\\"target_id\\\":35,\\\"type\\\":\\\"CurriculumPrerequisite\\\"}],\\\"name\\\":\\\"CHEE 203\\\",\\\"metrics\\\":{\\\"centrality\\\":653,\\\"complexity\\\":18.0,\\\"blocking factor\\\":8,\\\"delay factor\\\":10.0},\\\"nameSub\\\":\\\"Chem Eng Heat Xfer & Fluid Flow\\\",\\\"id\\\":35,\\\"credits\\\":3,\\\"nameCanonical\\\":\\\"\\\"},{\\\"curriculum_requisites\\\":[],\\\"name\\\":\\\" \\\",\\\"metrics\\\":{\\\"centrality\\\":0,\\\"complexity\\\":1.0,\\\"blocking factor\\\":0,\\\"delay factor\\\":1.0},\\\"nameSub\\\":\\\"Engineering Elective\\\",\\\"id\\\":36,\\\"credits\\\":3,\\\"nameCanonical\\\":\\\"\\\"},{\\\"curriculum_requisites\\\":[],\\\"name\\\":\\\" \\\",\\\"metrics\\\":{\\\"centrality\\\":0,\\\"complexity\\\":1.0,\\\"blocking factor\\\":0,\\\"delay factor\\\":1.0},\\\"nameSub\\\":\\\"Technical Elective\\\",\\\"id\\\":37,\\\"credits\\\":3,\\\"nameCanonical\\\":\\\"\\\"}],\\\"id\\\":6},{\\\"name\\\":\\\"Term 7\\\",\\\"curriculum_items\\\":[{\\\"curriculum_requisites\\\":[{\\\"source_id\\\":35,\\\"target_id\\\":38,\\\"type\\\":\\\"CurriculumPrerequisite\\\"}],\\\"name\\\":\\\"CHEE 303\\\",\\\"metrics\\\":{\\\"centrality\\\":496,\\\"complexity\\\":17.0,\\\"blocking factor\\\":7,\\\"delay factor\\\":10.0},\\\"nameSub\\\":\\\"Chem Eng Mass Xfer\\\",\\\"id\\\":38,\\\"credits\\\":3,\\\"nameCanonical\\\":\\\"\\\"},{\\\"curriculum_requisites\\\":[{\\\"source_id\\\":22,\\\"target_id\\\":39,\\\"type\\\":\\\"CurriculumPrerequisite\\\"},{\\\"source_id\\\":34,\\\"target_id\\\":39,\\\"type\\\":\\\"CurriculumPrerequisite\\\"}],\\\"name\\\":\\\"CHEE 402\\\",\\\"metrics\\\":{\\\"centrality\\\":472,\\\"complexity\\\":16.0,\\\"blocking factor\\\":6,\\\"delay factor\\\":10.0},\\\"nameSub\\\":\\\"Chem Eng Modeling\\\",\\\"id\\\":39,\\\"credits\\\":3,\\\"nameCanonical\\\":\\\"\\\"},{\\\"curriculum_requisites\\\":[],\\\"name\\\":\\\"CHEE 489\\\",\\\"metrics\\\":{\\\"centrality\\\":0,\\\"complexity\\\":1.0,\\\"blocking factor\\\":0,\\\"delay factor\\\":1.0},\\\"nameSub\\\":\\\"Trends in Nanomedicine Eng\\\",\\\"id\\\":41,\\\"credits\\\":3,\\\"nameCanonical\\\":\\\"\\\"}],\\\"id\\\":7},{\\\"name\\\":\\\"Term 8\\\",\\\"curriculum_items\\\":[{\\\"curriculum_requisites\\\":[{\\\"source_id\\\":22,\\\"target_id\\\":40,\\\"type\\\":\\\"CurriculumPrerequisite\\\"},{\\\"source_id\\\":34,\\\"target_id\\\":40,\\\"type\\\":\\\"CurriculumPrerequisite\\\"},{\\\"source_id\\\":35,\\\"target_id\\\":40,\\\"type\\\":\\\"CurriculumPrerequisite\\\"},{\\\"source_id\\\":43,\\\"target_id\\\":40,\\\"type\\\":\\\"CurriculumCorequisite\\\"},{\\\"source_id\\\":42,\\\"target_id\\\":40,\\\"type\\\":\\\"CurriculumCorequisite\\\"}],\\\"name\\\":\\\"CHEE 301A\\\",\\\"metrics\\\":{\\\"centrality\\\":1056,\\\"complexity\\\":13.0,\\\"blocking factor\\\":3,\\\"delay factor\\\":10.0},\\\"nameSub\\\":\\\"Chem Eng Lab I\\\",\\\"id\\\":40,\\\"credits\\\":1,\\\"nameCanonical\\\":\\\"\\\"},{\\\"curriculum_requisites\\\":[{\\\"source_id\\\":39,\\\"target_id\\\":42,\\\"type\\\":\\\"CurriculumPrerequisite\\\"},{\\\"source_id\\\":38,\\\"target_id\\\":42,\\\"type\\\":\\\"CurriculumPrerequisite\\\"}],\\\"name\\\":\\\"CHEE 305\\\",\\\"metrics\\\":{\\\"centrality\\\":736,\\\"complexity\\\":14.0,\\\"blocking factor\\\":4,\\\"delay factor\\\":10.0},\\\"nameSub\\\":\\\"Chem Eng Transport Phenom\\\",\\\"id\\\":42,\\\"credits\\\":3,\\\"nameCanonical\\\":\\\"\\\"},{\\\"curriculum_requisites\\\":[{\\\"source_id\\\":30,\\\"target_id\\\":43,\\\"type\\\":\\\"CurriculumPrerequisite\\\"},{\\\"source_id\\\":28,\\\"target_id\\\":43,\\\"type\\\":\\\"CurriculumPrerequisite\\\"}],\\\"name\\\":\\\"CHEE 326\\\",\\\"metrics\\\":{\\\"centrality\\\":644,\\\"complexity\\\":15.0,\\\"blocking factor\\\":7,\\\"delay factor\\\":8.0},\\\"nameSub\\\":\\\"Chem & Phys Equilibrium\\\",\\\"id\\\":43,\\\"credits\\\":3,\\\"nameCanonical\\\":\\\"\\\"},{\\\"curriculum_requisites\\\":[{\\\"source_id\\\":30,\\\"target_id\\\":48,\\\"type\\\":\\\"CurriculumPrerequisite\\\"}],\\\"name\\\":\\\"CHEM 480B\\\",\\\"metrics\\\":{\\\"centrality\\\":0,\\\"complexity\\\":5.0,\\\"blocking factor\\\":0,\\\"delay factor\\\":5.0},\\\"nameSub\\\":\\\"Physical Chem\\\",\\\"id\\\":48,\\\"credits\\\":3,\\\"nameCanonical\\\":\\\"\\\"},{\\\"curriculum_requisites\\\":[{\\\"source_id\\\":39,\\\"target_id\\\":49,\\\"type\\\":\\\"CurriculumPrerequisite\\\"}],\\\"name\\\":\\\"CHEE 413\\\",\\\"metrics\\\":{\\\"centrality\\\":67,\\\"complexity\\\":9.0,\\\"blocking factor\\\":1,\\\"delay factor\\\":8.0},\\\"nameSub\\\":\\\"Process Control and Simulation\\\",\\\"id\\\":49,\\\"credits\\\":3,\\\"nameCanonical\\\":\\\"\\\"}],\\\"id\\\":8},{\\\"name\\\":\\\"Term 9\\\",\\\"curriculum_items\\\":[{\\\"curriculum_requisites\\\":[{\\\"source_id\\\":43,\\\"target_id\\\":44,\\\"type\\\":\\\"CurriculumStrictCorequisite\\\"},{\\\"source_id\\\":38,\\\"target_id\\\":44,\\\"type\\\":\\\"CurriculumPrerequisite\\\"},{\\\"source_id\\\":42,\\\"target_id\\\":44,\\\"type\\\":\\\"CurriculumStrictCorequisite\\\"},{\\\"source_id\\\":40,\\\"target_id\\\":44,\\\"type\\\":\\\"CurriculumPrerequisite\\\"}],\\\"name\\\":\\\"CHEE 301B\\\",\\\"metrics\\\":{\\\"centrality\\\":1278,\\\"complexity\\\":12.0,\\\"blocking factor\\\":2,\\\"delay factor\\\":10.0},\\\"nameSub\\\":\\\"Chem Eng Lab II\\\",\\\"id\\\":44,\\\"credits\\\":1,\\\"nameCanonical\\\":\\\"\\\"},{\\\"curriculum_requisites\\\":[{\\\"source_id\\\":43,\\\"target_id\\\":45,\\\"type\\\":\\\"CurriculumPrerequisite\\\"}],\\\"name\\\":\\\"CHEE 420\\\",\\\"metrics\\\":{\\\"centrality\\\":164,\\\"complexity\\\":11.0,\\\"blocking factor\\\":3,\\\"delay factor\\\":8.0},\\\"nameSub\\\":\\\"Chem Reaction Eng\\\",\\\"id\\\":45,\\\"credits\\\":3,\\\"nameCanonical\\\":\\\"\\\"},{\\\"curriculum_requisites\\\":[{\\\"source_id\\\":43,\\\"target_id\\\":46,\\\"type\\\":\\\"CurriculumPrerequisite\\\"},{\\\"source_id\\\":45,\\\"target_id\\\":46,\\\"type\\\":\\\"CurriculumStrictCorequisite\\\"},{\\\"source_id\\\":38,\\\"target_id\\\":46,\\\"type\\\":\\\"CurriculumPrerequisite\\\"}],\\\"name\\\":\\\"CHEE 442\\\",\\\"metrics\\\":{\\\"centrality\\\":219,\\\"complexity\\\":9.0,\\\"blocking factor\\\":1,\\\"delay factor\\\":8.0},\\\"nameSub\\\":\\\"Chem Eng Design Principles\\\",\\\"id\\\":46,\\\"credits\\\":3,\\\"nameCanonical\\\":\\\"\\\"}],\\\"id\\\":9},{\\\"name\\\":\\\"Term 10\\\",\\\"curriculum_items\\\":[{\\\"curriculum_requisites\\\":[{\\\"source_id\\\":45,\\\"target_id\\\":47,\\\"type\\\":\\\"CurriculumCorequisite\\\"},{\\\"source_id\\\":44,\\\"target_id\\\":47,\\\"type\\\":\\\"CurriculumPrerequisite\\\"}],\\\"name\\\":\\\"CHEE 401A\\\",\\\"metrics\\\":{\\\"centrality\\\":0,\\\"complexity\\\":10.0,\\\"blocking factor\\\":0,\\\"delay factor\\\":10.0},\\\"nameSub\\\":\\\"Chem and Enviorn Eng Lab I\\\",\\\"id\\\":47,\\\"credits\\\":1,\\\"nameCanonical\\\":\\\"\\\"},{\\\"curriculum_requisites\\\":[{\\\"source_id\\\":49,\\\"target_id\\\":50,\\\"type\\\":\\\"CurriculumCorequisite\\\"},{\\\"source_id\\\":44,\\\"target_id\\\":50,\\\"type\\\":\\\"CurriculumPrerequisite\\\"},{\\\"source_id\\\":40,\\\"target_id\\\":50,\\\"type\\\":\\\"CurriculumPrerequisite\\\"}],\\\"name\\\":\\\"CHEE 401B\\\",\\\"metrics\\\":{\\\"centrality\\\":0,\\\"complexity\\\":10.0,\\\"blocking factor\\\":0,\\\"delay factor\\\":10.0},\\\"nameSub\\\":\\\"Process Dynamics and Control Lab\\\",\\\"id\\\":50,\\\"credits\\\":1,\\\"nameCanonical\\\":\\\"\\\"},{\\\"curriculum_requisites\\\":[{\\\"source_id\\\":46,\\\"target_id\\\":51,\\\"type\\\":\\\"CurriculumPrerequisite\\\"}],\\\"name\\\":\\\"CHEE 443\\\",\\\"metrics\\\":{\\\"centrality\\\":0,\\\"complexity\\\":8.0,\\\"blocking factor\\\":0,\\\"delay factor\\\":8.0},\\\"nameSub\\\":\\\"Chem Eng Plant Design\\\",\\\"id\\\":51,\\\"credits\\\":3,\\\"nameCanonical\\\":\\\"\\\"}],\\\"id\\\":10}],\\\"institution\\\":\\\"University of Arizona\\\"}},\\\"*\\\"); window.removeEventListener(\\\"message\\\",window.messageReceived); window.messageReceived=(function (event){return (event.data.curriculum!==undefined) ? (WebIO.setval({\\\"name\\\":\\\"curriculum-data\\\",\\\"scope\\\":\\\"11147878770622172280\\\",\\\"id\\\":\\\"17766289812944321149\\\",\\\"type\\\":\\\"observable\\\"},event.data.curriculum)) : undefined}); return window.addEventListener(\\\"message\\\",window.messageReceived)})\"},\"style\":{\"padding\":\"0\",\"height\":\"85vh\",\"margin\":\"0\",\"border\":\"none\",\"width\":\"100%\"}},\"nodeType\":\"DOM\",\"type\":\"node\",\"instanceArgs\":{\"namespace\":\"html\",\"tag\":\"iframe\"},\"children\":[\"\"]}]},\n",
       "        window,\n",
       "    );\n",
       "    })()\n",
       "    </script>\n",
       "</div>\n"
      ],
      "text/plain": [
       "WebIO.Scope(WebIO.Node{WebIO.DOM}(WebIO.DOM(:html, :iframe), Any[\"\"], Dict{Symbol, Any}(:src => \"https://curricula-api-embed.damoursystems.com/\", :id => \"curriculum\", :events => Dict{Symbol, WebIO.JSString}(:load => WebIO.JSString(\"(function (){this.contentWindow.postMessage({\\\"options\\\":{\\\"hideTerms\\\":false,\\\"edit\\\":false},\\\"curriculum\\\":{\\\"name\\\":\\\"Chemical Engineering\\\",\\\"dp_name\\\":\\\"2019-20 Pima to UA Transfer Degree Plan\\\",\\\"curriculum_terms\\\":[{\\\"name\\\":\\\"Term 1\\\",\\\"curriculum_items\\\":[{\\\"curriculum_requisites\\\":[],\\\"name\\\":\\\"MAT 220\\\",\\\"metrics\\\":{\\\"centrality\\\":0,\\\"complexity\\\":36.0,\\\"blocking factor\\\":26,\\\"delay factor\\\":10.0},\\\"nameSub\\\":\\\"Calculus I\\\",\\\"id\\\":1,\\\"credits\\\":5,\\\"nameCanonical\\\":\\\"Calculus I\\\"},{\\\"curriculum_requisites\\\":[{\\\"source_id\\\":3,\\\"target_id\\\":2,\\\"type\\\":\\\"CurriculumStrictCorequisite\\\"}],\\\"name\\\":\\\"CHM 151IN\\\",\\\"metrics\\\":{\\\"centrality\\\":291,\\\"complexity\\\":30.0,\\\"blocking factor\\\":20,\\\"delay factor\\\":10.0},\\\"nameSub\\\":\\\"Gen Chemistry I\\\",\\\"id\\\":2,\\\"credits\\\":4,\\\"nameCanonical\\\":\\\"General Chemsitry I\\\"},{\\\"curriculum_requisites\\\":[],\\\"name\\\":\\\"CHM 151RC\\\",\\\"metrics\\\":{\\\"centrality\\\":0,\\\"complexity\\\":31.0,\\\"blocking factor\\\":21,\\\"delay factor\\\":10.0},\\\"nameSub\\\":\\\"Gen Chemistry I Recitation\\\",\\\"id\\\":3,\\\"credits\\\":1,\\\"nameCanonical\\\":\\\"\\\"},{\\\"curriculum_requisites\\\":[],\\\"name\\\":\\\"WRT 101\\\",\\\"metrics\\\":{\\\"centrality\\\":0,\\\"complexity\\\":3.0,\\\"blocking factor\\\":1,\\\"delay factor\\\":2.0},\\\"nameSub\\\":\\\"English Composition I\\\",\\\"id\\\":4,\\\"credits\\\":3,\\\"nameCanonical\\\":\\\"English Composition I\\\"},{\\\"curriculum_requisites\\\":[{\\\"source_id\\\":1,\\\"target_id\\\":5,\\\"type\\\":\\\"CurriculumCorequisite\\\"}],\\\"name\\\":\\\"ENG 102IN\\\",\\\"metrics\\\":{\\\"centrality\\\":203,\\\"complexity\\\":24.0,\\\"blocking factor\\\":15,\\\"delay factor\\\":9.0},\\\"nameSub\\\":\\\"Problem-Solving and Engineering Design\\\",\\\"id\\\":5,\\\"credits\\\":3,\\\"nameCanonical\\\":\\\"Intro to Engineering\\\"},{\\\"curriculum_requisites\\\":[],\\\"name\\\":\\\" \\\",\\\"metrics\\\":{\\\"centrality\\\":0,\\\"complexity\\\":1.0,\\\"blocking factor\\\":0,\\\"delay factor\\\":1.0},\\\"nameSub\\\":\\\"AGEC-S Course\\\",\\\"id\\\":6,\\\"credits\\\":3,\\\"nameCanonical\\\":\\\"\\\"}],\\\"id\\\":1},{\\\"name\\\":\\\"Term 2\\\",\\\"curriculum_items\\\":[{\\\"curriculum_requisites\\\":[{\\\"source_id\\\":1,\\\"target_id\\\":7,\\\"type\\\":\\\"CurriculumPrerequisite\\\"}],\\\"name\\\":\\\"MAT 231\\\",\\\"metrics\\\":{\\\"centrality\\\":182,\\\"complexity\\\":24.0,\\\"blocking factor\\\":16,\\\"delay factor\\\":8.0},\\\"nameSub\\\":\\\"Calculus II\\\",\\\"id\\\":7,\\\"credits\\\":4,\\\"nameCanonical\\\":\\\"Calculus II\\\"},{\\\"curriculum_requisites\\\":[{\\\"source_id\\\":2,\\\"target_id\\\":8,\\\"type\\\":\\\"CurriculumPrerequisite\\\"},{\\\"source_id\\\":9,\\\"target_id\\\":8,\\\"type\\\":\\\"CurriculumStrictCorequisite\\\"}],\\\"name\\\":\\\"CHM 152IN\\\",\\\"metrics\\\":{\\\"centrality\\\":443,\\\"complexity\\\":27.0,\\\"blocking factor\\\":17,\\\"delay factor\\\":10.0},\\\"nameSub\\\":\\\"Gen Chemistry II\\\",\\\"id\\\":8,\\\"credits\\\":4,\\\"nameCanonical\\\":\\\"General Chemsitry II\\\"},{\\\"curriculum_requisites\\\":[],\\\"name\\\":\\\"CHM 152RC\\\",\\\"metrics\\\":{\\\"centrality\\\":0,\\\"complexity\\\":27.0,\\\"blocking factor\\\":18,\\\"delay factor\\\":9.0},\\\"nameSub\\\":\\\"Gen Chemistry II Recitation\\\",\\\"id\\\":9,\\\"credits\\\":1,\\\"nameCanonical\\\":\\\"\\\"},{\\\"curriculum_requisites\\\":[{\\\"source_id\\\":11,\\\"target_id\\\":10,\\\"type\\\":\\\"CurriculumStrictCorequisite\\\"},{\\\"source_id\\\":1,\\\"target_id\\\":10,\\\"type\\\":\\\"CurriculumPrerequisite\\\"}],\\\"name\\\":\\\"PHY 210IN\\\",\\\"metrics\\\":{\\\"centrality\\\":272,\\\"complexity\\\":22.0,\\\"blocking factor\\\":14,\\\"delay factor\\\":8.0},\\\"nameSub\\\":\\\"Intro Mechanics\\\",\\\"id\\\":10,\\\"credits\\\":4,\\\"nameCanonical\\\":\\\"\\\"},{\\\"curriculum_requisites\\\":[],\\\"name\\\":\\\"PHY 210RC\\\",\\\"metrics\\\":{\\\"centrality\\\":0,\\\"complexity\\\":23.0,\\\"blocking factor\\\":15,\\\"delay factor\\\":8.0},\\\"nameSub\\\":\\\"Intro Mechanics Recitation\\\",\\\"id\\\":11,\\\"credits\\\":1,\\\"nameCanonical\\\":\\\"\\\"},{\\\"curriculum_requisites\\\":[{\\\"source_id\\\":4,\\\"target_id\\\":12,\\\"type\\\":\\\"CurriculumPrerequisite\\\"}],\\\"name\\\":\\\"WRT 102\\\",\\\"metrics\\\":{\\\"centrality\\\":0,\\\"complexity\\\":2.0,\\\"blocking factor\\\":0,\\\"delay factor\\\":2.0},\\\"nameSub\\\":\\\" English Composition II\\\",\\\"id\\\":12,\\\"credits\\\":3,\\\"nameCanonical\\\":\\\" English Composition\\\"},{\\\"curriculum_requisites\\\":[{\\\"source_id\\\":1,\\\"target_id\\\":13,\\\"type\\\":\\\"CurriculumCorequisite\\\"}],\\\"name\\\":\\\"ENG 105IN\\\",\\\"metrics\\\":{\\\"centrality\\\":503,\\\"complexity\\\":27.0,\\\"blocking factor\\\":17,\\\"delay factor\\\":10.0},\\\"nameSub\\\":\\\"Intro to MATLAB I\\\",\\\"id\\\":13,\\\"credits\\\":1,\\\"nameCanonical\\\":\\\"\\\"}],\\\"id\\\":2},{\\\"name\\\":\\\"Term 3\\\",\\\"curriculum_items\\\":[{\\\"curriculum_requisites\\\":[],\\\"name\\\":\\\" \\\",\\\"metrics\\\":{\\\"centrality\\\":0,\\\"complexity\\\":1.0,\\\"blocking factor\\\":0,\\\"delay factor\\\":1.0},\\\"nameSub\\\":\\\"AGEC-S Course\\\",\\\"id\\\":14,\\\"credits\\\":3,\\\"nameCanonical\\\":\\\"\\\"},{\\\"curriculum_requisites\\\":[],\\\"name\\\":\\\" \\\",\\\"metrics\\\":{\\\"centrality\\\":0,\\\"complexity\\\":1.0,\\\"blocking factor\\\":0,\\\"delay factor\\\":1.0},\\\"nameSub\\\":\\\"AGEC-S Course\\\",\\\"id\\\":15,\\\"credits\\\":3,\\\"nameCanonical\\\":\\\"\\\"},{\\\"curriculum_requisites\\\":[{\\\"source_id\\\":7,\\\"target_id\\\":16,\\\"type\\\":\\\"CurriculumPrerequisite\\\"}],\\\"name\\\":\\\"MAT 241\\\",\\\"metrics\\\":{\\\"centrality\\\":0,\\\"complexity\\\":3.0,\\\"blocking factor\\\":0,\\\"delay factor\\\":3.0},\\\"nameSub\\\":\\\"Calculus III\\\",\\\"id\\\":16,\\\"credits\\\":4,\\\"nameCanonical\\\":\\\"Calculus III\\\"},{\\\"curriculum_requisites\\\":[{\\\"source_id\\\":18,\\\"target_id\\\":17,\\\"type\\\":\\\"CurriculumStrictCorequisite\\\"},{\\\"source_id\\\":8,\\\"target_id\\\":17,\\\"type\\\":\\\"CurriculumPrerequisite\\\"}],\\\"name\\\":\\\" 235IN\\\",\\\"metrics\\\":{\\\"centrality\\\":12,\\\"complexity\\\":6.0,\\\"blocking factor\\\":1,\\\"delay factor\\\":5.0},\\\"nameSub\\\":\\\"General Organic Chemistry I\\\",\\\"id\\\":17,\\\"credits\\\":4,\\\"nameCanonical\\\":\\\"Organic Chemistry I\\\"},{\\\"curriculum_requisites\\\":[],\\\"name\\\":\\\"CHM  235RC\\\",\\\"metrics\\\":{\\\"centrality\\\":0,\\\"complexity\\\":5.0,\\\"blocking factor\\\":2,\\\"delay factor\\\":3.0},\\\"nameSub\\\":\\\"General Organic Chemistry I Recitation\\\",\\\"id\\\":18,\\\"credits\\\":1,\\\"nameCanonical\\\":\\\"\\\"},{\\\"curriculum_requisites\\\":[],\\\"name\\\":\\\" \\\",\\\"metrics\\\":{\\\"centrality\\\":0,\\\"complexity\\\":15.0,\\\"blocking factor\\\":8,\\\"delay factor\\\":7.0},\\\"nameSub\\\":\\\"AGEC-S Course\\\",\\\"id\\\":19,\\\"credits\\\":3,\\\"nameCanonical\\\":\\\"\\\"}],\\\"id\\\":3},{\\\"name\\\":\\\"Term 4\\\",\\\"curriculum_items\\\":[{\\\"curriculum_requisites\\\":[],\\\"name\\\":\\\" \\\",\\\"metrics\\\":{\\\"centrality\\\":0,\\\"complexity\\\":1.0,\\\"blocking factor\\\":0,\\\"delay factor\\\":1.0},\\\"nameSub\\\":\\\"AGEC-S Course\\\",\\\"id\\\":20,\\\"credits\\\":3,\\\"nameCanonical\\\":\\\"\\\"},{\\\"curriculum_requisites\\\":[],\\\"name\\\":\\\" \\\",\\\"metrics\\\":{\\\"centrality\\\":0,\\\"complexity\\\":1.0,\\\"blocking factor\\\":0,\\\"delay factor\\\":1.0},\\\"nameSub\\\":\\\"AGEC-S Course\\\",\\\"id\\\":21,\\\"credits\\\":3,\\\"nameCanonical\\\":\\\"\\\"},{\\\"curriculum_requisites\\\":[{\\\"source_id\\\":7,\\\"target_id\\\":22,\\\"type\\\":\\\"CurriculumPrerequisite\\\"}],\\\"name\\\":\\\"MAT 262\\\",\\\"metrics\\\":{\\\"centrality\\\":60,\\\"complexity\\\":15.0,\\\"blocking factor\\\":7,\\\"delay factor\\\":8.0},\\\"nameSub\\\":\\\"Differential Equations\\\",\\\"id\\\":22,\\\"credits\\\":3,\\\"nameCanonical\\\":\\\"Differential Equations\\\"},{\\\"curriculum_requisites\\\":[{\\\"source_id\\\":7,\\\"target_id\\\":23,\\\"type\\\":\\\"CurriculumPrerequisite\\\"},{\\\"source_id\\\":10,\\\"target_id\\\":23,\\\"type\\\":\\\"CurriculumPrerequisite\\\"},{\\\"source_id\\\":24,\\\"target_id\\\":23,\\\"type\\\":\\\"CurriculumStrictCorequisite\\\"}],\\\"name\\\":\\\"PHY 216IN\\\",\\\"metrics\\\":{\\\"centrality\\\":247,\\\"complexity\\\":18.0,\\\"blocking factor\\\":10,\\\"delay factor\\\":8.0},\\\"nameSub\\\":\\\"Intro Electricity & Magnetism\\\",\\\"id\\\":23,\\\"credits\\\":4,\\\"nameCanonical\\\":\\\"\\\"},{\\\"curriculum_requisites\\\":[],\\\"name\\\":\\\"PHY 216RC\\\",\\\"metrics\\\":{\\\"centrality\\\":0,\\\"complexity\\\":18.0,\\\"blocking factor\\\":11,\\\"delay factor\\\":7.0},\\\"nameSub\\\":\\\"Intro Electricity & Magnetism\\\",\\\"id\\\":24,\\\"credits\\\":1,\\\"nameCanonical\\\":\\\"\\\"},{\\\"curriculum_requisites\\\":[{\\\"source_id\\\":26,\\\"target_id\\\":25,\\\"type\\\":\\\"CurriculumStrictCorequisite\\\"},{\\\"source_id\\\":17,\\\"target_id\\\":25,\\\"type\\\":\\\"CurriculumPrerequisite\\\"}],\\\"name\\\":\\\"CHM 236IN\\\",\\\"metrics\\\":{\\\"centrality\\\":0,\\\"complexity\\\":5.0,\\\"blocking factor\\\":0,\\\"delay factor\\\":5.0},\\\"nameSub\\\":\\\"General Organic Chemistry II\\\",\\\"id\\\":25,\\\"credits\\\":4,\\\"nameCanonical\\\":\\\"Organic Chemistry II\\\"},{\\\"curriculum_requisites\\\":[],\\\"name\\\":\\\"CHM  236RC\\\",\\\"metrics\\\":{\\\"centrality\\\":0,\\\"complexity\\\":3.0,\\\"blocking factor\\\":1,\\\"delay factor\\\":2.0},\\\"nameSub\\\":\\\"General Organic Chemistry II Recitation\\\",\\\"id\\\":26,\\\"credits\\\":1,\\\"nameCanonical\\\":\\\"\\\"},{\\\"curriculum_requisites\\\":[{\\\"source_id\\\":13,\\\"target_id\\\":27,\\\"type\\\":\\\"CurriculumPrerequisite\\\"}],\\\"name\\\":\\\"ENG 205IN\\\",\\\"metrics\\\":{\\\"centrality\\\":231,\\\"complexity\\\":25.0,\\\"blocking factor\\\":15,\\\"delay factor\\\":10.0},\\\"nameSub\\\":\\\"Intro to MATLAB II\\\",\\\"id\\\":27,\\\"credits\\\":1,\\\"nameCanonical\\\":\\\"\\\"}],\\\"id\\\":4},{\\\"name\\\":\\\"Term 5\\\",\\\"curriculum_items\\\":[{\\\"curriculum_requisites\\\":[{\\\"source_id\\\":5,\\\"target_id\\\":28,\\\"type\\\":\\\"CurriculumPrerequisite\\\"},{\\\"source_id\\\":13,\\\"target_id\\\":28,\\\"type\\\":\\\"CurriculumPrerequisite\\\"},{\\\"source_id\\\":27,\\\"target_id\\\":28,\\\"type\\\":\\\"CurriculumCorequisite\\\"},{\\\"source_id\\\":8,\\\"target_id\\\":28,\\\"type\\\":\\\"CurriculumPrerequisite\\\"},{\\\"source_id\\\":1,\\\"target_id\\\":28,\\\"type\\\":\\\"CurriculumPrerequisite\\\"}],\\\"name\\\":\\\"CHEE 201\\\",\\\"metrics\\\":{\\\"centrality\\\":1246,\\\"complexity\\\":24.0,\\\"blocking factor\\\":14,\\\"delay factor\\\":10.0},\\\"nameSub\\\":\\\"Elements of Chem and Envirn Eng I\\\",\\\"id\\\":28,\\\"credits\\\":3,\\\"nameCanonical\\\":\\\"\\\"},{\\\"curriculum_requisites\\\":[{\\\"source_id\\\":13,\\\"target_id\\\":29,\\\"type\\\":\\\"CurriculumCorequisite\\\"},{\\\"source_id\\\":1,\\\"target_id\\\":29,\\\"type\\\":\\\"CurriculumPrerequisite\\\"}],\\\"name\\\":\\\" 201L\\\",\\\"metrics\\\":{\\\"centrality\\\":129,\\\"complexity\\\":17.0,\\\"blocking factor\\\":8,\\\"delay factor\\\":9.0},\\\"nameSub\\\":\\\"Elements of Chem and Envirn Eng I Lab\\\",\\\"id\\\":29,\\\"credits\\\":1,\\\"nameCanonical\\\":\\\"\\\"},{\\\"curriculum_requisites\\\":[{\\\"source_id\\\":7,\\\"target_id\\\":30,\\\"type\\\":\\\"CurriculumPrerequisite\\\"},{\\\"source_id\\\":2,\\\"target_id\\\":30,\\\"type\\\":\\\"CurriculumPrerequisite\\\"},{\\\"source_id\\\":23,\\\"target_id\\\":30,\\\"type\\\":\\\"CurriculumPrerequisite\\\"}],\\\"name\\\":\\\"CHEM 480A\\\",\\\"metrics\\\":{\\\"centrality\\\":357,\\\"complexity\\\":17.0,\\\"blocking factor\\\":9,\\\"delay factor\\\":8.0},\\\"nameSub\\\":\\\"Physical Chem\\\",\\\"id\\\":30,\\\"credits\\\":3,\\\"nameCanonical\\\":\\\"\\\"},{\\\"curriculum_requisites\\\":[],\\\"name\\\":\\\" \\\",\\\"metrics\\\":{\\\"centrality\\\":0,\\\"complexity\\\":1.0,\\\"blocking factor\\\":0,\\\"delay factor\\\":1.0},\\\"nameSub\\\":\\\"Engineering Elective\\\",\\\"id\\\":31,\\\"credits\\\":3,\\\"nameCanonical\\\":\\\"\\\"},{\\\"curriculum_requisites\\\":[],\\\"name\\\":\\\" \\\",\\\"metrics\\\":{\\\"centrality\\\":0,\\\"complexity\\\":1.0,\\\"blocking factor\\\":0,\\\"delay factor\\\":1.0},\\\"nameSub\\\":\\\"Engineering Elective\\\",\\\"id\\\":32,\\\"credits\\\":3,\\\"nameCanonical\\\":\\\"\\\"}],\\\"id\\\":5},{\\\"name\\\":\\\"Term 6\\\",\\\"curriculum_items\\\":[{\\\"curriculum_requisites\\\":[],\\\"name\\\":\\\" \\\",\\\"metrics\\\":{\\\"centrality\\\":0,\\\"complexity\\\":1.0,\\\"blocking factor\\\":0,\\\"delay factor\\\":1.0},\\\"nameSub\\\":\\\"Technical Elective\\\",\\\"id\\\":33,\\\"credits\\\":3,\\\"nameCanonical\\\":\\\"\\\"},{\\\"curriculum_requisites\\\":[{\\\"source_id\\\":29,\\\"target_id\\\":34,\\\"type\\\":\\\"CurriculumPrerequisite\\\"},{\\\"source_id\\\":28,\\\"target_id\\\":34,\\\"type\\\":\\\"CurriculumPrerequisite\\\"},{\\\"source_id\\\":19,\\\"target_id\\\":34,\\\"type\\\":\\\"CurriculumCorequisite\\\"}],\\\"name\\\":\\\"CHEE 202\\\",\\\"metrics\\\":{\\\"centrality\\\":603,\\\"complexity\\\":17.0,\\\"blocking factor\\\":7,\\\"delay factor\\\":10.0},\\\"nameSub\\\":\\\"Elements of Chem Eng II\\\",\\\"id\\\":34,\\\"credits\\\":4,\\\"nameCanonical\\\":\\\"\\\"},{\\\"curriculum_requisites\\\":[{\\\"source_id\\\":10,\\\"target_id\\\":35,\\\"type\\\":\\\"CurriculumPrerequisite\\\"},{\\\"source_id\\\":28,\\\"target_id\\\":35,\\\"type\\\":\\\"CurriculumPrerequisite\\\"}],\\\"name\\\":\\\"CHEE 203\\\",\\\"metrics\\\":{\\\"centrality\\\":653,\\\"complexity\\\":18.0,\\\"blocking factor\\\":8,\\\"delay factor\\\":10.0},\\\"nameSub\\\":\\\"Chem Eng Heat Xfer & Fluid Flow\\\",\\\"id\\\":35,\\\"credits\\\":3,\\\"nameCanonical\\\":\\\"\\\"},{\\\"curriculum_requisites\\\":[],\\\"name\\\":\\\" \\\",\\\"metrics\\\":{\\\"centrality\\\":0,\\\"complexity\\\":1.0,\\\"blocking factor\\\":0,\\\"delay factor\\\":1.0},\\\"nameSub\\\":\\\"Engineering Elective\\\",\\\"id\\\":36,\\\"credits\\\":3,\\\"nameCanonical\\\":\\\"\\\"},{\\\"curriculum_requisites\\\":[],\\\"name\\\":\\\" \\\",\\\"metrics\\\":{\\\"centrality\\\":0,\\\"complexity\\\":1.0,\\\"blocking factor\\\":0,\\\"delay factor\\\":1.0},\\\"nameSub\\\":\\\"Technical Elective\\\",\\\"id\\\":37,\\\"credits\\\":3,\\\"nameCanonical\\\":\\\"\\\"}],\\\"id\\\":6},{\\\"name\\\":\\\"Term 7\\\",\\\"curriculum_items\\\":[{\\\"curriculum_requisites\\\":[{\\\"source_id\\\":35,\\\"target_id\\\":38,\\\"type\\\":\\\"CurriculumPrerequisite\\\"}],\\\"name\\\":\\\"CHEE 303\\\",\\\"metrics\\\":{\\\"centrality\\\":496,\\\"complexity\\\":17.0,\\\"blocking factor\\\":7,\\\"delay factor\\\":10.0},\\\"nameSub\\\":\\\"Chem Eng Mass Xfer\\\",\\\"id\\\":38,\\\"credits\\\":3,\\\"nameCanonical\\\":\\\"\\\"},{\\\"curriculum_requisites\\\":[{\\\"source_id\\\":22,\\\"target_id\\\":39,\\\"type\\\":\\\"CurriculumPrerequisite\\\"},{\\\"source_id\\\":34,\\\"target_id\\\":39,\\\"type\\\":\\\"CurriculumPrerequisite\\\"}],\\\"name\\\":\\\"CHEE 402\\\",\\\"metrics\\\":{\\\"centrality\\\":472,\\\"complexity\\\":16.0,\\\"blocking factor\\\":6,\\\"delay factor\\\":10.0},\\\"nameSub\\\":\\\"Chem Eng Modeling\\\",\\\"id\\\":39,\\\"credits\\\":3,\\\"nameCanonical\\\":\\\"\\\"},{\\\"curriculum_requisites\\\":[],\\\"name\\\":\\\"CHEE 489\\\",\\\"metrics\\\":{\\\"centrality\\\":0,\\\"complexity\\\":1.0,\\\"blocking factor\\\":0,\\\"delay factor\\\":1.0},\\\"nameSub\\\":\\\"Trends in Nanomedicine Eng\\\",\\\"id\\\":41,\\\"credits\\\":3,\\\"nameCanonical\\\":\\\"\\\"}],\\\"id\\\":7},{\\\"name\\\":\\\"Term 8\\\",\\\"curriculum_items\\\":[{\\\"curriculum_requisites\\\":[{\\\"source_id\\\":22,\\\"target_id\\\":40,\\\"type\\\":\\\"CurriculumPrerequisite\\\"},{\\\"source_id\\\":34,\\\"target_id\\\":40,\\\"type\\\":\\\"CurriculumPrerequisite\\\"},{\\\"source_id\\\":35,\\\"target_id\\\":40,\\\"type\\\":\\\"CurriculumPrerequisite\\\"},{\\\"source_id\\\":43,\\\"target_id\\\":40,\\\"type\\\":\\\"CurriculumCorequisite\\\"},{\\\"source_id\\\":42,\\\"target_id\\\":40,\\\"type\\\":\\\"CurriculumCorequisite\\\"}],\\\"name\\\":\\\"CHEE 301A\\\",\\\"metrics\\\":{\\\"centrality\\\":1056,\\\"complexity\\\":13.0,\\\"blocking factor\\\":3,\\\"delay factor\\\":10.0},\\\"nameSub\\\":\\\"Chem Eng Lab I\\\",\\\"id\\\":40,\\\"credits\\\":1,\\\"nameCanonical\\\":\\\"\\\"},{\\\"curriculum_requisites\\\":[{\\\"source_id\\\":39,\\\"target_id\\\":42,\\\"type\\\":\\\"CurriculumPrerequisite\\\"},{\\\"source_id\\\":38,\\\"target_id\\\":42,\\\"type\\\":\\\"CurriculumPrerequisite\\\"}],\\\"name\\\":\\\"CHEE 305\\\",\\\"metrics\\\":{\\\"centrality\\\":736,\\\"complexity\\\":14.0,\\\"blocking factor\\\":4,\\\"delay factor\\\":10.0},\\\"nameSub\\\":\\\"Chem Eng Transport Phenom\\\",\\\"id\\\":42,\\\"credits\\\":3,\\\"nameCanonical\\\":\\\"\\\"},{\\\"curriculum_requisites\\\":[{\\\"source_id\\\":30,\\\"target_id\\\":43,\\\"type\\\":\\\"CurriculumPrerequisite\\\"},{\\\"source_id\\\":28,\\\"target_id\\\":43,\\\"type\\\":\\\"CurriculumPrerequisite\\\"}],\\\"name\\\":\\\"CHEE 326\\\",\\\"metrics\\\":{\\\"centrality\\\":644,\\\"complexity\\\":15.0,\\\"blocking factor\\\":7,\\\"delay factor\\\":8.0},\\\"nameSub\\\":\\\"Chem & Phys Equilibrium\\\",\\\"id\\\":43,\\\"credits\\\":3,\\\"nameCanonical\\\":\\\"\\\"},{\\\"curriculum_requisites\\\":[{\\\"source_id\\\":30,\\\"target_id\\\":48,\\\"type\\\":\\\"CurriculumPrerequisite\\\"}],\\\"name\\\":\\\"CHEM 480B\\\",\\\"metrics\\\":{\\\"centrality\\\":0,\\\"complexity\\\":5.0,\\\"blocking factor\\\":0,\\\"delay factor\\\":5.0},\\\"nameSub\\\":\\\"Physical Chem\\\",\\\"id\\\":48,\\\"credits\\\":3,\\\"nameCanonical\\\":\\\"\\\"},{\\\"curriculum_requisites\\\":[{\\\"source_id\\\":39,\\\"target_id\\\":49,\\\"type\\\":\\\"CurriculumPrerequisite\\\"}],\\\"name\\\":\\\"CHEE 413\\\",\\\"metrics\\\":{\\\"centrality\\\":67,\\\"complexity\\\":9.0,\\\"blocking factor\\\":1,\\\"delay factor\\\":8.0},\\\"nameSub\\\":\\\"Process Control and Simulation\\\",\\\"id\\\":49,\\\"credits\\\":3,\\\"nameCanonical\\\":\\\"\\\"}],\\\"id\\\":8},{\\\"name\\\":\\\"Term 9\\\",\\\"curriculum_items\\\":[{\\\"curriculum_requisites\\\":[{\\\"source_id\\\":43,\\\"target_id\\\":44,\\\"type\\\":\\\"CurriculumStrictCorequisite\\\"},{\\\"source_id\\\":38,\\\"target_id\\\":44,\\\"type\\\":\\\"CurriculumPrerequisite\\\"},{\\\"source_id\\\":42,\\\"target_id\\\":44,\\\"type\\\":\\\"CurriculumStrictCorequisite\\\"},{\\\"source_id\\\":40,\\\"target_id\\\":44,\\\"type\\\":\\\"CurriculumPrerequisite\\\"}],\\\"name\\\":\\\"CHEE 301B\\\",\\\"metrics\\\":{\\\"centrality\\\":1278,\\\"complexity\\\":12.0,\\\"blocking factor\\\":2,\\\"delay factor\\\":10.0},\\\"nameSub\\\":\\\"Chem Eng Lab II\\\",\\\"id\\\":44,\\\"credits\\\":1,\\\"nameCanonical\\\":\\\"\\\"},{\\\"curriculum_requisites\\\":[{\\\"source_id\\\":43,\\\"target_id\\\":45,\\\"type\\\":\\\"CurriculumPrerequisite\\\"}],\\\"name\\\":\\\"CHEE 420\\\",\\\"metrics\\\":{\\\"centrality\\\":164,\\\"complexity\\\":11.0,\\\"blocking factor\\\":3,\\\"delay factor\\\":8.0},\\\"nameSub\\\":\\\"Chem Reaction Eng\\\",\\\"id\\\":45,\\\"credits\\\":3,\\\"nameCanonical\\\":\\\"\\\"},{\\\"curriculum_requisites\\\":[{\\\"source_id\\\":43,\\\"target_id\\\":46,\\\"type\\\":\\\"CurriculumPrerequisite\\\"},{\\\"source_id\\\":45,\\\"target_id\\\":46,\\\"type\\\":\\\"CurriculumStrictCorequisite\\\"},{\\\"source_id\\\":38,\\\"target_id\\\":46,\\\"type\\\":\\\"CurriculumPrerequisite\\\"}],\\\"name\\\":\\\"CHEE 442\\\",\\\"metrics\\\":{\\\"centrality\\\":219,\\\"complexity\\\":9.0,\\\"blocking factor\\\":1,\\\"delay factor\\\":8.0},\\\"nameSub\\\":\\\"Chem Eng Design Principles\\\",\\\"id\\\":46,\\\"credits\\\":3,\\\"nameCanonical\\\":\\\"\\\"}],\\\"id\\\":9},{\\\"name\\\":\\\"Term 10\\\",\\\"curriculum_items\\\":[{\\\"curriculum_requisites\\\":[{\\\"source_id\\\":45,\\\"target_id\\\":47,\\\"type\\\":\\\"CurriculumCorequisite\\\"},{\\\"source_id\\\":44,\\\"target_id\\\":47,\\\"type\\\":\\\"CurriculumPrerequisite\\\"}],\\\"name\\\":\\\"CHEE 401A\\\",\\\"metrics\\\":{\\\"centrality\\\":0,\\\"complexity\\\":10.0,\\\"blocking factor\\\":0,\\\"delay factor\\\":10.0},\\\"nameSub\\\":\\\"Chem and Enviorn Eng Lab I\\\",\\\"id\\\":47,\\\"credits\\\":1,\\\"nameCanonical\\\":\\\"\\\"},{\\\"curriculum_requisites\\\":[{\\\"source_id\\\":49,\\\"target_id\\\":50,\\\"type\\\":\\\"CurriculumCorequisite\\\"},{\\\"source_id\\\":44,\\\"target_id\\\":50,\\\"type\\\":\\\"CurriculumPrerequisite\\\"},{\\\"source_id\\\":40,\\\"target_id\\\":50,\\\"type\\\":\\\"CurriculumPrerequisite\\\"}],\\\"name\\\":\\\"CHEE 401B\\\",\\\"metrics\\\":{\\\"centrality\\\":0,\\\"complexity\\\":10.0,\\\"blocking factor\\\":0,\\\"delay factor\\\":10.0},\\\"nameSub\\\":\\\"Process Dynamics and Control Lab\\\",\\\"id\\\":50,\\\"credits\\\":1,\\\"nameCanonical\\\":\\\"\\\"},{\\\"curriculum_requisites\\\":[{\\\"source_id\\\":46,\\\"target_id\\\":51,\\\"type\\\":\\\"CurriculumPrerequisite\\\"}],\\\"name\\\":\\\"CHEE 443\\\",\\\"metrics\\\":{\\\"centrality\\\":0,\\\"complexity\\\":8.0,\\\"blocking factor\\\":0,\\\"delay factor\\\":8.0},\\\"nameSub\\\":\\\"Chem Eng Plant Design\\\",\\\"id\\\":51,\\\"credits\\\":3,\\\"nameCanonical\\\":\\\"\\\"}],\\\"id\\\":10}],\\\"institution\\\":\\\"University of Arizona\\\"}},\\\"*\\\"); window.removeEventListener(\\\"message\\\",window.messageReceived); window.messageReceived=(function (event){return (event.data.curriculum!==undefined) ? (WebIO.setval({\\\"name\\\":\\\"curriculum-data\\\",\\\"scope\\\":\\\"11147878770622172280\\\",\\\"id\\\":\\\"17766289812944321149\\\",\\\"type\\\":\\\"observable\\\"},event.data.curriculum)) : undefined}); return window.addEventListener(\\\"message\\\",window.messageReceived)})\")), :style => Dict(:padding => \"0\", :height => \"85vh\", :margin => \"0\", :border => \"none\", :width => \"100%\"))), Dict{String, Tuple{Observables.AbstractObservable, Union{Nothing, Bool}}}(\"curriculum-data\" => (Observable{Dict{String, Any}} with 1 listeners. Value:\n",
       "Dict{String, Any}(\"options\" => Dict{String, Any}(\"hideTerms\" => false, \"edit\" => false), \"curriculum\" => Dict{String, Any}(\"name\" => \"Chemical Engineering\", \"dp_name\" => \"2019-20 Pima to UA Transfer Degree Plan\", \"curriculum_terms\" => Dict{String, Any}[Dict(\"name\" => \"Term 1\", \"curriculum_items\" => Dict{String, Any}[Dict(\"curriculum_requisites\" => Dict{String, Any}[], \"name\" => \"MAT 220\", \"metrics\" => Dict{String, Any}(\"centrality\" => 0, \"complexity\" => 36.0, \"blocking factor\" => 26, \"delay factor\" => 10.0), \"nameSub\" => \"Calculus I\", \"id\" => 1, \"credits\" => 5, \"nameCanonical\" => \"Calculus I\"), Dict(\"curriculum_requisites\" => Dict{String, Any}[Dict(\"source_id\" => 3, \"target_id\" => 2, \"type\" => \"CurriculumStrictCorequisite\")], \"name\" => \"CHM 151IN\", \"metrics\" => Dict{String, Any}(\"centrality\" => 291, \"complexity\" => 30.0, \"blocking factor\" => 20, \"delay factor\" => 10.0), \"nameSub\" => \"Gen Chemistry I\", \"id\" => 2, \"credits\" => 4, \"nameCanonical\" => \"General Chemsitry I\"), Dict(\"curriculum_requisites\" => Dict{String, Any}[], \"name\" => \"CHM 151RC\", \"metrics\" => Dict{String, Any}(\"centrality\" => 0, \"complexity\" => 31.0, \"blocking factor\" => 21, \"delay factor\" => 10.0), \"nameSub\" => \"Gen Chemistry I Recitation\", \"id\" => 3, \"credits\" => 1, \"nameCanonical\" => \"\"), Dict(\"curriculum_requisites\" => Dict{String, Any}[], \"name\" => \"WRT 101\", \"metrics\" => Dict{String, Any}(\"centrality\" => 0, \"complexity\" => 3.0, \"blocking factor\" => 1, \"delay factor\" => 2.0), \"nameSub\" => \"English Composition I\", \"id\" => 4, \"credits\" => 3, \"nameCanonical\" => \"English Composition I\"), Dict(\"curriculum_requisites\" => Dict{String, Any}[Dict(\"source_id\" => 1, \"target_id\" => 5, \"type\" => \"CurriculumCorequisite\")], \"name\" => \"ENG 102IN\", \"metrics\" => Dict{String, Any}(\"centrality\" => 203, \"complexity\" => 24.0, \"blocking factor\" => 15, \"delay factor\" => 9.0), \"nameSub\" => \"Problem-Solving and Engineering Design\", \"id\" => 5, \"credits\" => 3, \"nameCanonical\" => \"Intro to Engineering\"), Dict(\"curriculum_requisites\" => Dict{String, Any}[], \"name\" => \" \", \"metrics\" => Dict{String, Any}(\"centrality\" => 0, \"complexity\" => 1.0, \"blocking factor\" => 0, \"delay factor\" => 1.0), \"nameSub\" => \"AGEC-S Course\", \"id\" => 6, \"credits\" => 3, \"nameCanonical\" => \"\")], \"id\" => 1), Dict(\"name\" => \"Term 2\", \"curriculum_items\" => Dict{String, Any}[Dict(\"curriculum_requisites\" => Dict{String, Any}[Dict(\"source_id\" => 1, \"target_id\" => 7, \"type\" => \"CurriculumPrerequisite\")], \"name\" => \"MAT 231\", \"metrics\" => Dict{String, Any}(\"centrality\" => 182, \"complexity\" => 24.0, \"blocking factor\" => 16, \"delay factor\" => 8.0), \"nameSub\" => \"Calculus II\", \"id\" => 7, \"credits\" => 4, \"nameCanonical\" => \"Calculus II\"), Dict(\"curriculum_requisites\" => Dict{String, Any}[Dict(\"source_id\" => 2, \"target_id\" => 8, \"type\" => \"CurriculumPrerequisite\"), Dict(\"source_id\" => 9, \"target_id\" => 8, \"type\" => \"CurriculumStrictCorequisite\")], \"name\" => \"CHM 152IN\", \"metrics\" => Dict{String, Any}(\"centrality\" => 443, \"complexity\" => 27.0, \"blocking factor\" => 17, \"delay factor\" => 10.0), \"nameSub\" => \"Gen Chemistry II\", \"id\" => 8, \"credits\" => 4, \"nameCanonical\" => \"General Chemsitry II\"), Dict(\"curriculum_requisites\" => Dict{String, Any}[], \"name\" => \"CHM 152RC\", \"metrics\" => Dict{String, Any}(\"centrality\" => 0, \"complexity\" => 27.0, \"blocking factor\" => 18, \"delay factor\" => 9.0), \"nameSub\" => \"Gen Chemistry II Recitation\", \"id\" => 9, \"credits\" => 1, \"nameCanonical\" => \"\"), Dict(\"curriculum_requisites\" => Dict{String, Any}[Dict(\"source_id\" => 11, \"target_id\" => 10, \"type\" => \"CurriculumStrictCorequisite\"), Dict(\"source_id\" => 1, \"target_id\" => 10, \"type\" => \"CurriculumPrerequisite\")], \"name\" => \"PHY 210IN\", \"metrics\" => Dict{String, Any}(\"centrality\" => 272, \"complexity\" => 22.0, \"blocking factor\" => 14, \"delay factor\" => 8.0), \"nameSub\" => \"Intro Mechanics\", \"id\" => 10, \"credits\" => 4, \"nameCanonical\" => \"\"), Dict(\"curriculum_requisites\" => Dict{String, Any}[], \"name\" => \"PHY 210RC\", \"metrics\" => Dict{String, Any}(\"centrality\" => 0, \"complexity\" => 23.0, \"blocking factor\" => 15, \"delay factor\" => 8.0), \"nameSub\" => \"Intro Mechanics Recitation\", \"id\" => 11, \"credits\" => 1, \"nameCanonical\" => \"\"), Dict(\"curriculum_requisites\" => Dict{String, Any}[Dict(\"source_id\" => 4, \"target_id\" => 12, \"type\" => \"CurriculumPrerequisite\")], \"name\" => \"WRT 102\", \"metrics\" => Dict{String, Any}(\"centrality\" => 0, \"complexity\" => 2.0, \"blocking factor\" => 0, \"delay factor\" => 2.0), \"nameSub\" => \" English Composition II\", \"id\" => 12, \"credits\" => 3, \"nameCanonical\" => \" English Composition\"), Dict(\"curriculum_requisites\" => Dict{String, Any}[Dict(\"source_id\" => 1, \"target_id\" => 13, \"type\" => \"CurriculumCorequisite\")], \"name\" => \"ENG 105IN\", \"metrics\" => Dict{String, Any}(\"centrality\" => 503, \"complexity\" => 27.0, \"blocking factor\" => 17, \"delay factor\" => 10.0), \"nameSub\" => \"Intro to MATLAB I\", \"id\" => 13, \"credits\" => 1, \"nameCanonical\" => \"\")], \"id\" => 2), Dict(\"name\" => \"Term 3\", \"curriculum_items\" => Dict{String, Any}[Dict(\"curriculum_requisites\" => Dict{String, Any}[], \"name\" => \" \", \"metrics\" => Dict{String, Any}(\"centrality\" => 0, \"complexity\" => 1.0, \"blocking factor\" => 0, \"delay factor\" => 1.0), \"nameSub\" => \"AGEC-S Course\", \"id\" => 14, \"credits\" => 3, \"nameCanonical\" => \"\"), Dict(\"curriculum_requisites\" => Dict{String, Any}[], \"name\" => \" \", \"metrics\" => Dict{String, Any}(\"centrality\" => 0, \"complexity\" => 1.0, \"blocking factor\" => 0, \"delay factor\" => 1.0), \"nameSub\" => \"AGEC-S Course\", \"id\" => 15, \"credits\" => 3, \"nameCanonical\" => \"\"), Dict(\"curriculum_requisites\" => Dict{String, Any}[Dict(\"source_id\" => 7, \"target_id\" => 16, \"type\" => \"CurriculumPrerequisite\")], \"name\" => \"MAT 241\", \"metrics\" => Dict{String, Any}(\"centrality\" => 0, \"complexity\" => 3.0, \"blocking factor\" => 0, \"delay factor\" => 3.0), \"nameSub\" => \"Calculus III\", \"id\" => 16, \"credits\" => 4, \"nameCanonical\" => \"Calculus III\"), Dict(\"curriculum_requisites\" => Dict{String, Any}[Dict(\"source_id\" => 18, \"target_id\" => 17, \"type\" => \"CurriculumStrictCorequisite\"), Dict(\"source_id\" => 8, \"target_id\" => 17, \"type\" => \"CurriculumPrerequisite\")], \"name\" => \" 235IN\", \"metrics\" => Dict{String, Any}(\"centrality\" => 12, \"complexity\" => 6.0, \"blocking factor\" => 1, \"delay factor\" => 5.0), \"nameSub\" => \"General Organic Chemistry I\", \"id\" => 17, \"credits\" => 4, \"nameCanonical\" => \"Organic Chemistry I\"), Dict(\"curriculum_requisites\" => Dict{String, Any}[], \"name\" => \"CHM  235RC\", \"metrics\" => Dict{String, Any}(\"centrality\" => 0, \"complexity\" => 5.0, \"blocking factor\" => 2, \"delay factor\" => 3.0), \"nameSub\" => \"General Organic Chemistry I Recitation\", \"id\" => 18, \"credits\" => 1, \"nameCanonical\" => \"\"), Dict(\"curriculum_requisites\" => Dict{String, Any}[], \"name\" => \" \", \"metrics\" => Dict{String, Any}(\"centrality\" => 0, \"complexity\" => 15.0, \"blocking factor\" => 8, \"delay factor\" => 7.0), \"nameSub\" => \"AGEC-S Course\", \"id\" => 19, \"credits\" => 3, \"nameCanonical\" => \"\")], \"id\" => 3), Dict(\"name\" => \"Term 4\", \"curriculum_items\" => Dict{String, Any}[Dict(\"curriculum_requisites\" => Dict{String, Any}[], \"name\" => \" \", \"metrics\" => Dict{String, Any}(\"centrality\" => 0, \"complexity\" => 1.0, \"blocking factor\" => 0, \"delay factor\" => 1.0), \"nameSub\" => \"AGEC-S Course\", \"id\" => 20, \"credits\" => 3, \"nameCanonical\" => \"\"), Dict(\"curriculum_requisites\" => Dict{String, Any}[], \"name\" => \" \", \"metrics\" => Dict{String, Any}(\"centrality\" => 0, \"complexity\" => 1.0, \"blocking factor\" => 0, \"delay factor\" => 1.0), \"nameSub\" => \"AGEC-S Course\", \"id\" => 21, \"credits\" => 3, \"nameCanonical\" => \"\"), Dict(\"curriculum_requisites\" => Dict{String, Any}[Dict(\"source_id\" => 7, \"target_id\" => 22, \"type\" => \"CurriculumPrerequisite\")], \"name\" => \"MAT 262\", \"metrics\" => Dict{String, Any}(\"centrality\" => 60, \"complexity\" => 15.0, \"blocking factor\" => 7, \"delay factor\" => 8.0), \"nameSub\" => \"Differential Equations\", \"id\" => 22, \"credits\" => 3, \"nameCanonical\" => \"Differential Equations\"), Dict(\"curriculum_requisites\" => Dict{String, Any}[Dict(\"source_id\" => 7, \"target_id\" => 23, \"type\" => \"CurriculumPrerequisite\"), Dict(\"source_id\" => 10, \"target_id\" => 23, \"type\" => \"CurriculumPrerequisite\"), Dict(\"source_id\" => 24, \"target_id\" => 23, \"type\" => \"CurriculumStrictCorequisite\")], \"name\" => \"PHY 216IN\", \"metrics\" => Dict{String, Any}(\"centrality\" => 247, \"complexity\" => 18.0, \"blocking factor\" => 10, \"delay factor\" => 8.0), \"nameSub\" => \"Intro Electricity & Magnetism\", \"id\" => 23, \"credits\" => 4, \"nameCanonical\" => \"\"), Dict(\"curriculum_requisites\" => Dict{String, Any}[], \"name\" => \"PHY 216RC\", \"metrics\" => Dict{String, Any}(\"centrality\" => 0, \"complexity\" => 18.0, \"blocking factor\" => 11, \"delay factor\" => 7.0), \"nameSub\" => \"Intro Electricity & Magnetism\", \"id\" => 24, \"credits\" => 1, \"nameCanonical\" => \"\"), Dict(\"curriculum_requisites\" => Dict{String, Any}[Dict(\"source_id\" => 26, \"target_id\" => 25, \"type\" => \"CurriculumStrictCorequisite\"), Dict(\"source_id\" => 17, \"target_id\" => 25, \"type\" => \"CurriculumPrerequisite\")], \"name\" => \"CHM 236IN\", \"metrics\" => Dict{String, Any}(\"centrality\" => 0, \"complexity\" => 5.0, \"blocking factor\" => 0, \"delay factor\" => 5.0), \"nameSub\" => \"General Organic Chemistry II\", \"id\" => 25, \"credits\" => 4, \"nameCanonical\" => \"Organic Chemistry II\"), Dict(\"curriculum_requisites\" => Dict{String, Any}[], \"name\" => \"CHM  236RC\", \"metrics\" => Dict{String, Any}(\"centrality\" => 0, \"complexity\" => 3.0, \"blocking factor\" => 1, \"delay factor\" => 2.0), \"nameSub\" => \"General Organic Chemistry II Recitation\", \"id\" => 26, \"credits\" => 1, \"nameCanonical\" => \"\"), Dict(\"curriculum_requisites\" => Dict{String, Any}[Dict(\"source_id\" => 13, \"target_id\" => 27, \"type\" => \"CurriculumPrerequisite\")], \"name\" => \"ENG 205IN\", \"metrics\" => Dict{String, Any}(\"centrality\" => 231, \"complexity\" => 25.0, \"blocking factor\" => 15, \"delay factor\" => 10.0), \"nameSub\" => \"Intro to MATLAB II\", \"id\" => 27, \"credits\" => 1, \"nameCanonical\" => \"\")], \"id\" => 4), Dict(\"name\" => \"Term 5\", \"curriculum_items\" => Dict{String, Any}[Dict(\"curriculum_requisites\" => Dict{String, Any}[Dict(\"source_id\" => 5, \"target_id\" => 28, \"type\" => \"CurriculumPrerequisite\"), Dict(\"source_id\" => 13, \"target_id\" => 28, \"type\" => \"CurriculumPrerequisite\"), Dict(\"source_id\" => 27, \"target_id\" => 28, \"type\" => \"CurriculumCorequisite\"), Dict(\"source_id\" => 8, \"target_id\" => 28, \"type\" => \"CurriculumPrerequisite\"), Dict(\"source_id\" => 1, \"target_id\" => 28, \"type\" => \"CurriculumPrerequisite\")], \"name\" => \"CHEE 201\", \"metrics\" => Dict{String, Any}(\"centrality\" => 1246, \"complexity\" => 24.0, \"blocking factor\" => 14, \"delay factor\" => 10.0), \"nameSub\" => \"Elements of Chem and Envirn Eng I\", \"id\" => 28, \"credits\" => 3, \"nameCanonical\" => \"\"), Dict(\"curriculum_requisites\" => Dict{String, Any}[Dict(\"source_id\" => 13, \"target_id\" => 29, \"type\" => \"CurriculumCorequisite\"), Dict(\"source_id\" => 1, \"target_id\" => 29, \"type\" => \"CurriculumPrerequisite\")], \"name\" => \" 201L\", \"metrics\" => Dict{String, Any}(\"centrality\" => 129, \"complexity\" => 17.0, \"blocking factor\" => 8, \"delay factor\" => 9.0), \"nameSub\" => \"Elements of Chem and Envirn Eng I Lab\", \"id\" => 29, \"credits\" => 1, \"nameCanonical\" => \"\"), Dict(\"curriculum_requisites\" => Dict{String, Any}[Dict(\"source_id\" => 7, \"target_id\" => 30, \"type\" => \"CurriculumPrerequisite\"), Dict(\"source_id\" => 2, \"target_id\" => 30, \"type\" => \"CurriculumPrerequisite\"), Dict(\"source_id\" => 23, \"target_id\" => 30, \"type\" => \"CurriculumPrerequisite\")], \"name\" => \"CHEM 480A\", \"metrics\" => Dict{String, Any}(\"centrality\" => 357, \"complexity\" => 17.0, \"blocking factor\" => 9, \"delay factor\" => 8.0), \"nameSub\" => \"Physical Chem\", \"id\" => 30, \"credits\" => 3, \"nameCanonical\" => \"\"), Dict(\"curriculum_requisites\" => Dict{String, Any}[], \"name\" => \" \", \"metrics\" => Dict{String, Any}(\"centrality\" => 0, \"complexity\" => 1.0, \"blocking factor\" => 0, \"delay factor\" => 1.0), \"nameSub\" => \"Engineering Elective\", \"id\" => 31, \"credits\" => 3, \"nameCanonical\" => \"\"), Dict(\"curriculum_requisites\" => Dict{String, Any}[], \"name\" => \" \", \"metrics\" => Dict{String, Any}(\"centrality\" => 0, \"complexity\" => 1.0, \"blocking factor\" => 0, \"delay factor\" => 1.0), \"nameSub\" => \"Engineering Elective\", \"id\" => 32, \"credits\" => 3, \"nameCanonical\" => \"\")], \"id\" => 5), Dict(\"name\" => \"Term 6\", \"curriculum_items\" => Dict{String, Any}[Dict(\"curriculum_requisites\" => Dict{String, Any}[], \"name\" => \" \", \"metrics\" => Dict{String, Any}(\"centrality\" => 0, \"complexity\" => 1.0, \"blocking factor\" => 0, \"delay factor\" => 1.0), \"nameSub\" => \"Technical Elective\", \"id\" => 33, \"credits\" => 3, \"nameCanonical\" => \"\"), Dict(\"curriculum_requisites\" => Dict{String, Any}[Dict(\"source_id\" => 29, \"target_id\" => 34, \"type\" => \"CurriculumPrerequisite\"), Dict(\"source_id\" => 28, \"target_id\" => 34, \"type\" => \"CurriculumPrerequisite\"), Dict(\"source_id\" => 19, \"target_id\" => 34, \"type\" => \"CurriculumCorequisite\")], \"name\" => \"CHEE 202\", \"metrics\" => Dict{String, Any}(\"centrality\" => 603, \"complexity\" => 17.0, \"blocking factor\" => 7, \"delay factor\" => 10.0), \"nameSub\" => \"Elements of Chem Eng II\", \"id\" => 34, \"credits\" => 4, \"nameCanonical\" => \"\"), Dict(\"curriculum_requisites\" => Dict{String, Any}[Dict(\"source_id\" => 10, \"target_id\" => 35, \"type\" => \"CurriculumPrerequisite\"), Dict(\"source_id\" => 28, \"target_id\" => 35, \"type\" => \"CurriculumPrerequisite\")], \"name\" => \"CHEE 203\", \"metrics\" => Dict{String, Any}(\"centrality\" => 653, \"complexity\" => 18.0, \"blocking factor\" => 8, \"delay factor\" => 10.0), \"nameSub\" => \"Chem Eng Heat Xfer & Fluid Flow\", \"id\" => 35, \"credits\" => 3, \"nameCanonical\" => \"\"), Dict(\"curriculum_requisites\" => Dict{String, Any}[], \"name\" => \" \", \"metrics\" => Dict{String, Any}(\"centrality\" => 0, \"complexity\" => 1.0, \"blocking factor\" => 0, \"delay factor\" => 1.0), \"nameSub\" => \"Engineering Elective\", \"id\" => 36, \"credits\" => 3, \"nameCanonical\" => \"\"), Dict(\"curriculum_requisites\" => Dict{String, Any}[], \"name\" => \" \", \"metrics\" => Dict{String, Any}(\"centrality\" => 0, \"complexity\" => 1.0, \"blocking factor\" => 0, \"delay factor\" => 1.0), \"nameSub\" => \"Technical Elective\", \"id\" => 37, \"credits\" => 3, \"nameCanonical\" => \"\")], \"id\" => 6), Dict(\"name\" => \"Term 7\", \"curriculum_items\" => Dict{String, Any}[Dict(\"curriculum_requisites\" => Dict{String, Any}[Dict(\"source_id\" => 35, \"target_id\" => 38, \"type\" => \"CurriculumPrerequisite\")], \"name\" => \"CHEE 303\", \"metrics\" => Dict{String, Any}(\"centrality\" => 496, \"complexity\" => 17.0, \"blocking factor\" => 7, \"delay factor\" => 10.0), \"nameSub\" => \"Chem Eng Mass Xfer\", \"id\" => 38, \"credits\" => 3, \"nameCanonical\" => \"\"), Dict(\"curriculum_requisites\" => Dict{String, Any}[Dict(\"source_id\" => 22, \"target_id\" => 39, \"type\" => \"CurriculumPrerequisite\"), Dict(\"source_id\" => 34, \"target_id\" => 39, \"type\" => \"CurriculumPrerequisite\")], \"name\" => \"CHEE 402\", \"metrics\" => Dict{String, Any}(\"centrality\" => 472, \"complexity\" => 16.0, \"blocking factor\" => 6, \"delay factor\" => 10.0), \"nameSub\" => \"Chem Eng Modeling\", \"id\" => 39, \"credits\" => 3, \"nameCanonical\" => \"\"), Dict(\"curriculum_requisites\" => Dict{String, Any}[], \"name\" => \"CHEE 489\", \"metrics\" => Dict{String, Any}(\"centrality\" => 0, \"complexity\" => 1.0, \"blocking factor\" => 0, \"delay factor\" => 1.0), \"nameSub\" => \"Trends in Nanomedicine Eng\", \"id\" => 41, \"credits\" => 3, \"nameCanonical\" => \"\")], \"id\" => 7), Dict(\"name\" => \"Term 8\", \"curriculum_items\" => Dict{String, Any}[Dict(\"curriculum_requisites\" => Dict{String, Any}[Dict(\"source_id\" => 22, \"target_id\" => 40, \"type\" => \"CurriculumPrerequisite\"), Dict(\"source_id\" => 34, \"target_id\" => 40, \"type\" => \"CurriculumPrerequisite\"), Dict(\"source_id\" => 35, \"target_id\" => 40, \"type\" => \"CurriculumPrerequisite\"), Dict(\"source_id\" => 43, \"target_id\" => 40, \"type\" => \"CurriculumCorequisite\"), Dict(\"source_id\" => 42, \"target_id\" => 40, \"type\" => \"CurriculumCorequisite\")], \"name\" => \"CHEE 301A\", \"metrics\" => Dict{String, Any}(\"centrality\" => 1056, \"complexity\" => 13.0, \"blocking factor\" => 3, \"delay factor\" => 10.0), \"nameSub\" => \"Chem Eng Lab I\", \"id\" => 40, \"credits\" => 1, \"nameCanonical\" => \"\"), Dict(\"curriculum_requisites\" => Dict{String, Any}[Dict(\"source_id\" => 39, \"target_id\" => 42, \"type\" => \"CurriculumPrerequisite\"), Dict(\"source_id\" => 38, \"target_id\" => 42, \"type\" => \"CurriculumPrerequisite\")], \"name\" => \"CHEE 305\", \"metrics\" => Dict{String, Any}(\"centrality\" => 736, \"complexity\" => 14.0, \"blocking factor\" => 4, \"delay factor\" => 10.0), \"nameSub\" => \"Chem Eng Transport Phenom\", \"id\" => 42, \"credits\" => 3, \"nameCanonical\" => \"\"), Dict(\"curriculum_requisites\" => Dict{String, Any}[Dict(\"source_id\" => 30, \"target_id\" => 43, \"type\" => \"CurriculumPrerequisite\"), Dict(\"source_id\" => 28, \"target_id\" => 43, \"type\" => \"CurriculumPrerequisite\")], \"name\" => \"CHEE 326\", \"metrics\" => Dict{String, Any}(\"centrality\" => 644, \"complexity\" => 15.0, \"blocking factor\" => 7, \"delay factor\" => 8.0), \"nameSub\" => \"Chem & Phys Equilibrium\", \"id\" => 43, \"credits\" => 3, \"nameCanonical\" => \"\"), Dict(\"curriculum_requisites\" => Dict{String, Any}[Dict(\"source_id\" => 30, \"target_id\" => 48, \"type\" => \"CurriculumPrerequisite\")], \"name\" => \"CHEM 480B\", \"metrics\" => Dict{String, Any}(\"centrality\" => 0, \"complexity\" => 5.0, \"blocking factor\" => 0, \"delay factor\" => 5.0), \"nameSub\" => \"Physical Chem\", \"id\" => 48, \"credits\" => 3, \"nameCanonical\" => \"\"), Dict(\"curriculum_requisites\" => Dict{String, Any}[Dict(\"source_id\" => 39, \"target_id\" => 49, \"type\" => \"CurriculumPrerequisite\")], \"name\" => \"CHEE 413\", \"metrics\" => Dict{String, Any}(\"centrality\" => 67, \"complexity\" => 9.0, \"blocking factor\" => 1, \"delay factor\" => 8.0), \"nameSub\" => \"Process Control and Simulation\", \"id\" => 49, \"credits\" => 3, \"nameCanonical\" => \"\")], \"id\" => 8), Dict(\"name\" => \"Term 9\", \"curriculum_items\" => Dict{String, Any}[Dict(\"curriculum_requisites\" => Dict{String, Any}[Dict(\"source_id\" => 43, \"target_id\" => 44, \"type\" => \"CurriculumStrictCorequisite\"), Dict(\"source_id\" => 38, \"target_id\" => 44, \"type\" => \"CurriculumPrerequisite\"), Dict(\"source_id\" => 42, \"target_id\" => 44, \"type\" => \"CurriculumStrictCorequisite\"), Dict(\"source_id\" => 40, \"target_id\" => 44, \"type\" => \"CurriculumPrerequisite\")], \"name\" => \"CHEE 301B\", \"metrics\" => Dict{String, Any}(\"centrality\" => 1278, \"complexity\" => 12.0, \"blocking factor\" => 2, \"delay factor\" => 10.0), \"nameSub\" => \"Chem Eng Lab II\", \"id\" => 44, \"credits\" => 1, \"nameCanonical\" => \"\"), Dict(\"curriculum_requisites\" => Dict{String, Any}[Dict(\"source_id\" => 43, \"target_id\" => 45, \"type\" => \"CurriculumPrerequisite\")], \"name\" => \"CHEE 420\", \"metrics\" => Dict{String, Any}(\"centrality\" => 164, \"complexity\" => 11.0, \"blocking factor\" => 3, \"delay factor\" => 8.0), \"nameSub\" => \"Chem Reaction Eng\", \"id\" => 45, \"credits\" => 3, \"nameCanonical\" => \"\"), Dict(\"curriculum_requisites\" => Dict{String, Any}[Dict(\"source_id\" => 43, \"target_id\" => 46, \"type\" => \"CurriculumPrerequisite\"), Dict(\"source_id\" => 45, \"target_id\" => 46, \"type\" => \"CurriculumStrictCorequisite\"), Dict(\"source_id\" => 38, \"target_id\" => 46, \"type\" => \"CurriculumPrerequisite\")], \"name\" => \"CHEE 442\", \"metrics\" => Dict{String, Any}(\"centrality\" => 219, \"complexity\" => 9.0, \"blocking factor\" => 1, \"delay factor\" => 8.0), \"nameSub\" => \"Chem Eng Design Principles\", \"id\" => 46, \"credits\" => 3, \"nameCanonical\" => \"\")], \"id\" => 9), Dict(\"name\" => \"Term 10\", \"curriculum_items\" => Dict{String, Any}[Dict(\"curriculum_requisites\" => Dict{String, Any}[Dict(\"source_id\" => 45, \"target_id\" => 47, \"type\" => \"CurriculumCorequisite\"), Dict(\"source_id\" => 44, \"target_id\" => 47, \"type\" => \"CurriculumPrerequisite\")], \"name\" => \"CHEE 401A\", \"metrics\" => Dict{String, Any}(\"centrality\" => 0, \"complexity\" => 10.0, \"blocking factor\" => 0, \"delay factor\" => 10.0), \"nameSub\" => \"Chem and Enviorn Eng Lab I\", \"id\" => 47, \"credits\" => 1, \"nameCanonical\" => \"\"), Dict(\"curriculum_requisites\" => Dict{String, Any}[Dict(\"source_id\" => 49, \"target_id\" => 50, \"type\" => \"CurriculumCorequisite\"), Dict(\"source_id\" => 44, \"target_id\" => 50, \"type\" => \"CurriculumPrerequisite\"), Dict(\"source_id\" => 40, \"target_id\" => 50, \"type\" => \"CurriculumPrerequisite\")], \"name\" => \"CHEE 401B\", \"metrics\" => Dict{String, Any}(\"centrality\" => 0, \"complexity\" => 10.0, \"blocking factor\" => 0, \"delay factor\" => 10.0), \"nameSub\" => \"Process Dynamics and Control Lab\", \"id\" => 50, \"credits\" => 1, \"nameCanonical\" => \"\"), Dict(\"curriculum_requisites\" => Dict{String, Any}[Dict(\"source_id\" => 46, \"target_id\" => 51, \"type\" => \"CurriculumPrerequisite\")], \"name\" => \"CHEE 443\", \"metrics\" => Dict{String, Any}(\"centrality\" => 0, \"complexity\" => 8.0, \"blocking factor\" => 0, \"delay factor\" => 8.0), \"nameSub\" => \"Chem Eng Plant Design\", \"id\" => 51, \"credits\" => 3, \"nameCanonical\" => \"\")], \"id\" => 10)], \"institution\" => \"University of Arizona\")), nothing)), Set{String}(), nothing, WebIO.Asset[], Dict{Any, Any}(), WebIO.ConnectionPool(Channel{Any}(32), Set{WebIO.AbstractConnection}(), Condition(Base.InvasiveLinkedList{Task}(Task (runnable) @0x00000001158464d0, Task (runnable) @0x00000001158464d0), Base.AlwaysLockedST(1))), WebIO.JSString[])"
      ]
     },
     "execution_count": 22,
     "metadata": {
      "application/vnd.webio.node+json": {
       "kernelId": "69f2e738-3ea3-4246-b4b5-b1a219eb4bdf"
      }
     },
     "output_type": "execute_result"
    }
   ],
   "source": [
    "ChemE_xfer = read_csv(\"./programs/Pima-UArizona-ChemE.csv\");\n",
    "visualize(ChemE_xfer, notebook=true, scale=0.85)"
   ]
  },
  {
   "cell_type": "code",
   "execution_count": 23,
   "metadata": {},
   "outputs": [
    {
     "data": {
      "text/plain": [
       "false"
      ]
     },
     "execution_count": 23,
     "metadata": {},
     "output_type": "execute_result"
    }
   ],
   "source": [
    "isvalid_curriculum(ChemE_xfer.curriculum)"
   ]
  },
  {
   "cell_type": "code",
   "execution_count": 24,
   "metadata": {},
   "outputs": [
    {
     "data": {
      "text/plain": [
       "true"
      ]
     },
     "execution_count": 24,
     "metadata": {},
     "output_type": "execute_result"
    }
   ],
   "source": [
    "errors = IOBuffer()\n",
    "isvalid_degree_plan(ChemE_xfer, errors)"
   ]
  },
  {
   "cell_type": "code",
   "execution_count": 25,
   "metadata": {},
   "outputs": [
    {
     "name": "stdout",
     "output_type": "stream",
     "text": [
      "\n",
      "University of Arizona \n",
      "Curriculum: Chemical Engineering\n",
      "  credit hours = 138\n",
      "  number of courses = 51\n",
      "  Blocking Factor --\n",
      "    entire curriculum = 315\n",
      "    max. value = 26, for course(s): MAT 220 - Calculus I\n",
      "  Centrality --\n",
      "    entire curriculum = 10564\n",
      "    max. value = 1278, for course(s): CHEE 301B - Chem Eng Lab II\n",
      "  Delay Factor --\n",
      "    entire curriculum = 327.0\n",
      "    max. value = 10.0, for course(s): MAT 220 - Calculus I, CHM 151IN - Gen Chemistry I, CHM 151RC - Gen Chemistry I Recitation, CHM 152IN - Gen Chemistry II, ENG 105IN - Intro to MATLAB I, ENG 205IN - Intro to MATLAB II, CHEE 201 - Elements of Chem and Envirn Eng I, CHEE 202 - Elements of Chem Eng II, CHEE 203 - Chem Eng Heat Xfer & Fluid Flow, CHEE 303 - Chem Eng Mass Xfer, CHEE 402 - Chem Eng Modeling, CHEE 301A - Chem Eng Lab I, CHEE 305 - Chem Eng Transport Phenom, CHEE 301B - Chem Eng Lab II, CHEE 401A - Chem and Enviorn Eng Lab I, CHEE 401B - Process Dynamics and Control Lab\n",
      "  Complexity --\n",
      "    entire curriculum = 642.0\n",
      "    max. value = 36.0, for course(s): MAT 220 - Calculus I\n",
      "  Longest Path(s) --\n",
      "    length = 10, number of paths = 8\n",
      "    path(s):\n",
      "    path 1 = CHM 151RC - Gen Chemistry I Recitation -> CHM 151IN - Gen Chemistry I -> CHM 152IN - Gen Chemistry II -> CHEE 201 - Elements of Chem and Envirn Eng I -> CHEE 203 - Chem Eng Heat Xfer & Fluid Flow -> CHEE 303 - Chem Eng Mass Xfer -> CHEE 305 - Chem Eng Transport Phenom -> CHEE 301A - Chem Eng Lab I -> CHEE 301B - Chem Eng Lab II -> CHEE 401A - Chem and Enviorn Eng Lab I\n",
      "    path 2 = MAT 220 - Calculus I -> ENG 105IN - Intro to MATLAB I -> ENG 205IN - Intro to MATLAB II -> CHEE 201 - Elements of Chem and Envirn Eng I -> CHEE 203 - Chem Eng Heat Xfer & Fluid Flow -> CHEE 303 - Chem Eng Mass Xfer -> CHEE 305 - Chem Eng Transport Phenom -> CHEE 301A - Chem Eng Lab I -> CHEE 301B - Chem Eng Lab II -> CHEE 401A - Chem and Enviorn Eng Lab I\n",
      "    path 3 = CHM 151RC - Gen Chemistry I Recitation -> CHM 151IN - Gen Chemistry I -> CHM 152IN - Gen Chemistry II -> CHEE 201 - Elements of Chem and Envirn Eng I -> CHEE 202 - Elements of Chem Eng II -> CHEE 402 - Chem Eng Modeling -> CHEE 305 - Chem Eng Transport Phenom -> CHEE 301A - Chem Eng Lab I -> CHEE 301B - Chem Eng Lab II -> CHEE 401A - Chem and Enviorn Eng Lab I\n",
      "    path 4 = MAT 220 - Calculus I -> ENG 105IN - Intro to MATLAB I -> ENG 205IN - Intro to MATLAB II -> CHEE 201 - Elements of Chem and Envirn Eng I -> CHEE 202 - Elements of Chem Eng II -> CHEE 402 - Chem Eng Modeling -> CHEE 305 - Chem Eng Transport Phenom -> CHEE 301A - Chem Eng Lab I -> CHEE 301B - Chem Eng Lab II -> CHEE 401A - Chem and Enviorn Eng Lab I\n",
      "    path 5 = CHM 151RC - Gen Chemistry I Recitation -> CHM 151IN - Gen Chemistry I -> CHM 152IN - Gen Chemistry II -> CHEE 201 - Elements of Chem and Envirn Eng I -> CHEE 203 - Chem Eng Heat Xfer & Fluid Flow -> CHEE 303 - Chem Eng Mass Xfer -> CHEE 305 - Chem Eng Transport Phenom -> CHEE 301A - Chem Eng Lab I -> CHEE 301B - Chem Eng Lab II -> CHEE 401B - Process Dynamics and Control Lab\n",
      "    path 6 = MAT 220 - Calculus I -> ENG 105IN - Intro to MATLAB I -> ENG 205IN - Intro to MATLAB II -> CHEE 201 - Elements of Chem and Envirn Eng I -> CHEE 203 - Chem Eng Heat Xfer & Fluid Flow -> CHEE 303 - Chem Eng Mass Xfer -> CHEE 305 - Chem Eng Transport Phenom -> CHEE 301A - Chem Eng Lab I -> CHEE 301B - Chem Eng Lab II -> CHEE 401B - Process Dynamics and Control Lab\n",
      "    path 7 = CHM 151RC - Gen Chemistry I Recitation -> CHM 151IN - Gen Chemistry I -> CHM 152IN - Gen Chemistry II -> CHEE 201 - Elements of Chem and Envirn Eng I -> CHEE 202 - Elements of Chem Eng II -> CHEE 402 - Chem Eng Modeling -> CHEE 305 - Chem Eng Transport Phenom -> CHEE 301A - Chem Eng Lab I -> CHEE 301B - Chem Eng Lab II -> CHEE 401B - Process Dynamics and Control Lab\n",
      "    path 8 = MAT 220 - Calculus I -> ENG 105IN - Intro to MATLAB I -> ENG 205IN - Intro to MATLAB II -> CHEE 201 - Elements of Chem and Envirn Eng I -> CHEE 202 - Elements of Chem Eng II -> CHEE 402 - Chem Eng Modeling -> CHEE 305 - Chem Eng Transport Phenom -> CHEE 301A - Chem Eng Lab I -> CHEE 301B - Chem Eng Lab II -> CHEE 401B - Process Dynamics and Control Lab\n",
      "\n"
     ]
    }
   ],
   "source": [
    "ChemE_xfer_curric_metrics = basic_metrics(ChemE_xfer.curriculum)\n",
    "println(String(take!(ChemE_xfer_curric_metrics)))"
   ]
  },
  {
   "cell_type": "code",
   "execution_count": 26,
   "metadata": {},
   "outputs": [
    {
     "name": "stdout",
     "output_type": "stream",
     "text": [
      "\n",
      "Curriculum: Chemical Engineering\n",
      "Degree Plan: 2019-20 Pima to UA Transfer Degree Plan\n",
      "  total credit hours = 138\n",
      "  number of terms = 10\n",
      "  max. credits in a term = 20, in term 4\n",
      "  min. credits in a term = 5, in term 10\n",
      "  avg. credits per term = 13.8, with std. dev. = 5.035871324805669\n",
      "\n"
     ]
    }
   ],
   "source": [
    "ChemE_xfer_dp_metrics = basic_metrics(ChemE_xfer)\n",
    "println(String(take!(ChemE_xfer_dp_metrics)))"
   ]
  },
  {
   "cell_type": "code",
   "execution_count": 27,
   "metadata": {
    "scrolled": false
   },
   "outputs": [
    {
     "data": {
      "application/vnd.webio.node+json": {
       "children": [
        {
         "children": [
          ""
         ],
         "instanceArgs": {
          "namespace": "html",
          "tag": "iframe"
         },
         "nodeType": "DOM",
         "props": {
          "events": {
           "load": "(function (){this.contentWindow.postMessage({\"options\":{\"hideTerms\":false,\"edit\":false},\"curriculum\":{\"name\":\"Pre-Engineering (Chemical Eng. Concentration)\",\"dp_name\":\"2019-20 Pima Pre-Engineering\",\"curriculum_terms\":[{\"name\":\"Term 1\",\"curriculum_items\":[{\"curriculum_requisites\":[],\"name\":\"MAT 220\",\"metrics\":{\"centrality\":0,\"complexity\":11.0,\"blocking factor\":8,\"delay factor\":3.0},\"nameSub\":\"Calculus I\",\"id\":1,\"credits\":5,\"nameCanonical\":\"Calculus I\"},{\"curriculum_requisites\":[{\"source_id\":3,\"target_id\":2,\"type\":\"CurriculumStrictCorequisite\"}],\"name\":\"CHM 151IN\",\"metrics\":{\"centrality\":5,\"complexity\":8.0,\"blocking factor\":3,\"delay factor\":5.0},\"nameSub\":\"Gen Chemistry I\",\"id\":2,\"credits\":4,\"nameCanonical\":\"General Chemsitry I\"},{\"curriculum_requisites\":[],\"name\":\"CHM 151RC\",\"metrics\":{\"centrality\":0,\"complexity\":9.0,\"blocking factor\":4,\"delay factor\":5.0},\"nameSub\":\"Gen Chemistry I Recitation\",\"id\":3,\"credits\":1,\"nameCanonical\":\"\"},{\"curriculum_requisites\":[],\"name\":\"WRT 101\",\"metrics\":{\"centrality\":0,\"complexity\":3.0,\"blocking factor\":1,\"delay factor\":2.0},\"nameSub\":\"English Composition I\",\"id\":4,\"credits\":3,\"nameCanonical\":\"English Composition I\"},{\"curriculum_requisites\":[{\"source_id\":1,\"target_id\":5,\"type\":\"CurriculumCorequisite\"}],\"name\":\"ENG 102IN\",\"metrics\":{\"centrality\":0,\"complexity\":2.0,\"blocking factor\":0,\"delay factor\":2.0},\"nameSub\":\"Problem-Solving and Engineering Design\",\"id\":5,\"credits\":3,\"nameCanonical\":\"Intro to Engineering\"},{\"curriculum_requisites\":[],\"name\":\" \",\"metrics\":{\"centrality\":0,\"complexity\":1.0,\"blocking factor\":0,\"delay factor\":1.0},\"nameSub\":\"AGEC-S Course\",\"id\":6,\"credits\":3,\"nameCanonical\":\"\"}],\"id\":1},{\"name\":\"Term 2\",\"curriculum_items\":[{\"curriculum_requisites\":[{\"source_id\":1,\"target_id\":7,\"type\":\"CurriculumPrerequisite\"}],\"name\":\"MAT 231\",\"metrics\":{\"centrality\":9,\"complexity\":6.0,\"blocking factor\":3,\"delay factor\":3.0},\"nameSub\":\"Calculus II\",\"id\":7,\"credits\":4,\"nameCanonical\":\"Calculus II\"},{\"curriculum_requisites\":[{\"source_id\":2,\"target_id\":8,\"type\":\"CurriculumPrerequisite\"},{\"source_id\":9,\"target_id\":8,\"type\":\"CurriculumStrictCorequisite\"}],\"name\":\"CHM 152IN\",\"metrics\":{\"centrality\":9,\"complexity\":7.0,\"blocking factor\":2,\"delay factor\":5.0},\"nameSub\":\"Gen Chemistry II\",\"id\":8,\"credits\":4,\"nameCanonical\":\"General Chemsitry II\"},{\"curriculum_requisites\":[],\"name\":\"CHM 152RC\",\"metrics\":{\"centrality\":0,\"complexity\":7.0,\"blocking factor\":3,\"delay factor\":4.0},\"nameSub\":\"Gen Chemistry II Recitation\",\"id\":9,\"credits\":1,\"nameCanonical\":\"\"},{\"curriculum_requisites\":[{\"source_id\":11,\"target_id\":10,\"type\":\"CurriculumStrictCorequisite\"},{\"source_id\":1,\"target_id\":10,\"type\":\"CurriculumPrerequisite\"}],\"name\":\"PHY 210IN\",\"metrics\":{\"centrality\":6,\"complexity\":4.0,\"blocking factor\":1,\"delay factor\":3.0},\"nameSub\":\"Intro Mechanics\",\"id\":10,\"credits\":4,\"nameCanonical\":\"\"},{\"curriculum_requisites\":[],\"name\":\"PHY 210RC\",\"metrics\":{\"centrality\":0,\"complexity\":5.0,\"blocking factor\":2,\"delay factor\":3.0},\"nameSub\":\"Intro Mechanics Recitation\",\"id\":11,\"credits\":1,\"nameCanonical\":\"\"},{\"curriculum_requisites\":[{\"source_id\":4,\"target_id\":12,\"type\":\"CurriculumPrerequisite\"}],\"name\":\"WRT 102\",\"metrics\":{\"centrality\":0,\"complexity\":2.0,\"blocking factor\":0,\"delay factor\":2.0},\"nameSub\":\" English Composition II\",\"id\":12,\"credits\":3,\"nameCanonical\":\" English Composition\"},{\"curriculum_requisites\":[{\"source_id\":1,\"target_id\":13,\"type\":\"CurriculumCorequisite\"}],\"name\":\"ENG 105IN\",\"metrics\":{\"centrality\":3,\"complexity\":4.0,\"blocking factor\":1,\"delay factor\":3.0},\"nameSub\":\"Intro to MATLAB I\",\"id\":13,\"credits\":1,\"nameCanonical\":\"\"}],\"id\":2},{\"name\":\"Term 3\",\"curriculum_items\":[{\"curriculum_requisites\":[],\"name\":\" \",\"metrics\":{\"centrality\":0,\"complexity\":1.0,\"blocking factor\":0,\"delay factor\":1.0},\"nameSub\":\"AGEC-S Course\",\"id\":14,\"credits\":3,\"nameCanonical\":\"\"},{\"curriculum_requisites\":[],\"name\":\" \",\"metrics\":{\"centrality\":0,\"complexity\":1.0,\"blocking factor\":0,\"delay factor\":1.0},\"nameSub\":\"AGEC-S Course\",\"id\":15,\"credits\":3,\"nameCanonical\":\"\"},{\"curriculum_requisites\":[{\"source_id\":7,\"target_id\":16,\"type\":\"CurriculumPrerequisite\"}],\"name\":\"MAT 241\",\"metrics\":{\"centrality\":0,\"complexity\":3.0,\"blocking factor\":0,\"delay factor\":3.0},\"nameSub\":\"Calculus III\",\"id\":16,\"credits\":4,\"nameCanonical\":\"Calculus III\"},{\"curriculum_requisites\":[{\"source_id\":18,\"target_id\":17,\"type\":\"CurriculumStrictCorequisite\"},{\"source_id\":8,\"target_id\":17,\"type\":\"CurriculumPrerequisite\"}],\"name\":\" 235IN\",\"metrics\":{\"centrality\":12,\"complexity\":6.0,\"blocking factor\":1,\"delay factor\":5.0},\"nameSub\":\"General Organic Chemistry I\",\"id\":17,\"credits\":4,\"nameCanonical\":\"Organic Chemistry I\"},{\"curriculum_requisites\":[],\"name\":\"CHM  235RC\",\"metrics\":{\"centrality\":0,\"complexity\":5.0,\"blocking factor\":2,\"delay factor\":3.0},\"nameSub\":\"General Organic Chemistry I Recitation\",\"id\":18,\"credits\":1,\"nameCanonical\":\"\"},{\"curriculum_requisites\":[],\"name\":\" \",\"metrics\":{\"centrality\":0,\"complexity\":1.0,\"blocking factor\":0,\"delay factor\":1.0},\"nameSub\":\"AGEC-S Course\",\"id\":19,\"credits\":3,\"nameCanonical\":\"\"}],\"id\":3},{\"name\":\"Term 4\",\"curriculum_items\":[{\"curriculum_requisites\":[],\"name\":\" \",\"metrics\":{\"centrality\":0,\"complexity\":1.0,\"blocking factor\":0,\"delay factor\":1.0},\"nameSub\":\"AGEC-S Course\",\"id\":20,\"credits\":3,\"nameCanonical\":\"\"},{\"curriculum_requisites\":[],\"name\":\" \",\"metrics\":{\"centrality\":0,\"complexity\":1.0,\"blocking factor\":0,\"delay factor\":1.0},\"nameSub\":\"AGEC-S Course\",\"id\":21,\"credits\":3,\"nameCanonical\":\"\"},{\"curriculum_requisites\":[{\"source_id\":7,\"target_id\":22,\"type\":\"CurriculumPrerequisite\"}],\"name\":\"MAT 262\",\"metrics\":{\"centrality\":0,\"complexity\":3.0,\"blocking factor\":0,\"delay factor\":3.0},\"nameSub\":\"Differential Equations\",\"id\":22,\"credits\":3,\"nameCanonical\":\"Differential Equations\"},{\"curriculum_requisites\":[{\"source_id\":7,\"target_id\":23,\"type\":\"CurriculumPrerequisite\"},{\"source_id\":10,\"target_id\":23,\"type\":\"CurriculumPrerequisite\"},{\"source_id\":24,\"target_id\":23,\"type\":\"CurriculumStrictCorequisite\"}],\"name\":\"PHY 216IN\",\"metrics\":{\"centrality\":0,\"complexity\":3.0,\"blocking factor\":0,\"delay factor\":3.0},\"nameSub\":\"Intro Electricity & Magnetism\",\"id\":23,\"credits\":4,\"nameCanonical\":\"\"},{\"curriculum_requisites\":[],\"name\":\"PHY 216RC\",\"metrics\":{\"centrality\":0,\"complexity\":3.0,\"blocking factor\":1,\"delay factor\":2.0},\"nameSub\":\"Intro Electricity & Magnetism\",\"id\":24,\"credits\":1,\"nameCanonical\":\"\"},{\"curriculum_requisites\":[{\"source_id\":26,\"target_id\":25,\"type\":\"CurriculumStrictCorequisite\"},{\"source_id\":17,\"target_id\":25,\"type\":\"CurriculumPrerequisite\"}],\"name\":\"CHM 236IN\",\"metrics\":{\"centrality\":0,\"complexity\":5.0,\"blocking factor\":0,\"delay factor\":5.0},\"nameSub\":\"General Organic Chemistry II\",\"id\":25,\"credits\":4,\"nameCanonical\":\"Organic Chemistry II\"},{\"curriculum_requisites\":[],\"name\":\"CHM  236RC\",\"metrics\":{\"centrality\":0,\"complexity\":3.0,\"blocking factor\":1,\"delay factor\":2.0},\"nameSub\":\"General Organic Chemistry II Recitation\",\"id\":26,\"credits\":1,\"nameCanonical\":\"\"},{\"curriculum_requisites\":[{\"source_id\":13,\"target_id\":27,\"type\":\"CurriculumPrerequisite\"}],\"name\":\"ENG 205IN\",\"metrics\":{\"centrality\":0,\"complexity\":3.0,\"blocking factor\":0,\"delay factor\":3.0},\"nameSub\":\"Intro to MATLAB II\",\"id\":27,\"credits\":1,\"nameCanonical\":\"\"}],\"id\":4}],\"institution\":\"Pima Community College\"}},\"*\"); window.removeEventListener(\"message\",window.messageReceived); window.messageReceived=(function (event){return (event.data.curriculum!==undefined) ? (WebIO.setval({\"name\":\"curriculum-data\",\"scope\":\"9331762473461313680\",\"id\":\"15681095471424930084\",\"type\":\"observable\"},event.data.curriculum)) : undefined}); return window.addEventListener(\"message\",window.messageReceived)})"
          },
          "id": "curriculum",
          "src": "https://curricula-api-embed.damoursystems.com/",
          "style": {
           "border": "none",
           "height": "85vh",
           "margin": "0",
           "padding": "0",
           "width": "100%"
          }
         },
         "type": "node"
        }
       ],
       "instanceArgs": {
        "handlers": {},
        "id": "9331762473461313680",
        "imports": {
         "data": [],
         "type": "async_block"
        },
        "mount_callbacks": [],
        "observables": {
         "curriculum-data": {
          "id": "15681095471424930084",
          "sync": true,
          "value": {
           "curriculum": {
            "curriculum_terms": [
             {
              "curriculum_items": [
               {
                "credits": 5,
                "curriculum_requisites": [],
                "id": 1,
                "metrics": {
                 "blocking factor": 8,
                 "centrality": 0,
                 "complexity": 11,
                 "delay factor": 3
                },
                "name": "MAT 220",
                "nameCanonical": "Calculus I",
                "nameSub": "Calculus I"
               },
               {
                "credits": 4,
                "curriculum_requisites": [
                 {
                  "source_id": 3,
                  "target_id": 2,
                  "type": "CurriculumStrictCorequisite"
                 }
                ],
                "id": 2,
                "metrics": {
                 "blocking factor": 3,
                 "centrality": 5,
                 "complexity": 8,
                 "delay factor": 5
                },
                "name": "CHM 151IN",
                "nameCanonical": "General Chemsitry I",
                "nameSub": "Gen Chemistry I"
               },
               {
                "credits": 1,
                "curriculum_requisites": [],
                "id": 3,
                "metrics": {
                 "blocking factor": 4,
                 "centrality": 0,
                 "complexity": 9,
                 "delay factor": 5
                },
                "name": "CHM 151RC",
                "nameCanonical": "",
                "nameSub": "Gen Chemistry I Recitation"
               },
               {
                "credits": 3,
                "curriculum_requisites": [],
                "id": 4,
                "metrics": {
                 "blocking factor": 1,
                 "centrality": 0,
                 "complexity": 3,
                 "delay factor": 2
                },
                "name": "WRT 101",
                "nameCanonical": "English Composition I",
                "nameSub": "English Composition I"
               },
               {
                "credits": 3,
                "curriculum_requisites": [
                 {
                  "source_id": 1,
                  "target_id": 5,
                  "type": "CurriculumCorequisite"
                 }
                ],
                "id": 5,
                "metrics": {
                 "blocking factor": 0,
                 "centrality": 0,
                 "complexity": 2,
                 "delay factor": 2
                },
                "name": "ENG 102IN",
                "nameCanonical": "Intro to Engineering",
                "nameSub": "Problem-Solving and Engineering Design"
               },
               {
                "credits": 3,
                "curriculum_requisites": [],
                "id": 6,
                "metrics": {
                 "blocking factor": 0,
                 "centrality": 0,
                 "complexity": 1,
                 "delay factor": 1
                },
                "name": " ",
                "nameCanonical": "",
                "nameSub": "AGEC-S Course"
               }
              ],
              "id": 1,
              "name": "Term 1"
             },
             {
              "curriculum_items": [
               {
                "credits": 4,
                "curriculum_requisites": [
                 {
                  "source_id": 1,
                  "target_id": 7,
                  "type": "CurriculumPrerequisite"
                 }
                ],
                "id": 7,
                "metrics": {
                 "blocking factor": 3,
                 "centrality": 9,
                 "complexity": 6,
                 "delay factor": 3
                },
                "name": "MAT 231",
                "nameCanonical": "Calculus II",
                "nameSub": "Calculus II"
               },
               {
                "credits": 4,
                "curriculum_requisites": [
                 {
                  "source_id": 2,
                  "target_id": 8,
                  "type": "CurriculumPrerequisite"
                 },
                 {
                  "source_id": 9,
                  "target_id": 8,
                  "type": "CurriculumStrictCorequisite"
                 }
                ],
                "id": 8,
                "metrics": {
                 "blocking factor": 2,
                 "centrality": 9,
                 "complexity": 7,
                 "delay factor": 5
                },
                "name": "CHM 152IN",
                "nameCanonical": "General Chemsitry II",
                "nameSub": "Gen Chemistry II"
               },
               {
                "credits": 1,
                "curriculum_requisites": [],
                "id": 9,
                "metrics": {
                 "blocking factor": 3,
                 "centrality": 0,
                 "complexity": 7,
                 "delay factor": 4
                },
                "name": "CHM 152RC",
                "nameCanonical": "",
                "nameSub": "Gen Chemistry II Recitation"
               },
               {
                "credits": 4,
                "curriculum_requisites": [
                 {
                  "source_id": 11,
                  "target_id": 10,
                  "type": "CurriculumStrictCorequisite"
                 },
                 {
                  "source_id": 1,
                  "target_id": 10,
                  "type": "CurriculumPrerequisite"
                 }
                ],
                "id": 10,
                "metrics": {
                 "blocking factor": 1,
                 "centrality": 6,
                 "complexity": 4,
                 "delay factor": 3
                },
                "name": "PHY 210IN",
                "nameCanonical": "",
                "nameSub": "Intro Mechanics"
               },
               {
                "credits": 1,
                "curriculum_requisites": [],
                "id": 11,
                "metrics": {
                 "blocking factor": 2,
                 "centrality": 0,
                 "complexity": 5,
                 "delay factor": 3
                },
                "name": "PHY 210RC",
                "nameCanonical": "",
                "nameSub": "Intro Mechanics Recitation"
               },
               {
                "credits": 3,
                "curriculum_requisites": [
                 {
                  "source_id": 4,
                  "target_id": 12,
                  "type": "CurriculumPrerequisite"
                 }
                ],
                "id": 12,
                "metrics": {
                 "blocking factor": 0,
                 "centrality": 0,
                 "complexity": 2,
                 "delay factor": 2
                },
                "name": "WRT 102",
                "nameCanonical": " English Composition",
                "nameSub": " English Composition II"
               },
               {
                "credits": 1,
                "curriculum_requisites": [
                 {
                  "source_id": 1,
                  "target_id": 13,
                  "type": "CurriculumCorequisite"
                 }
                ],
                "id": 13,
                "metrics": {
                 "blocking factor": 1,
                 "centrality": 3,
                 "complexity": 4,
                 "delay factor": 3
                },
                "name": "ENG 105IN",
                "nameCanonical": "",
                "nameSub": "Intro to MATLAB I"
               }
              ],
              "id": 2,
              "name": "Term 2"
             },
             {
              "curriculum_items": [
               {
                "credits": 3,
                "curriculum_requisites": [],
                "id": 14,
                "metrics": {
                 "blocking factor": 0,
                 "centrality": 0,
                 "complexity": 1,
                 "delay factor": 1
                },
                "name": " ",
                "nameCanonical": "",
                "nameSub": "AGEC-S Course"
               },
               {
                "credits": 3,
                "curriculum_requisites": [],
                "id": 15,
                "metrics": {
                 "blocking factor": 0,
                 "centrality": 0,
                 "complexity": 1,
                 "delay factor": 1
                },
                "name": " ",
                "nameCanonical": "",
                "nameSub": "AGEC-S Course"
               },
               {
                "credits": 4,
                "curriculum_requisites": [
                 {
                  "source_id": 7,
                  "target_id": 16,
                  "type": "CurriculumPrerequisite"
                 }
                ],
                "id": 16,
                "metrics": {
                 "blocking factor": 0,
                 "centrality": 0,
                 "complexity": 3,
                 "delay factor": 3
                },
                "name": "MAT 241",
                "nameCanonical": "Calculus III",
                "nameSub": "Calculus III"
               },
               {
                "credits": 4,
                "curriculum_requisites": [
                 {
                  "source_id": 18,
                  "target_id": 17,
                  "type": "CurriculumStrictCorequisite"
                 },
                 {
                  "source_id": 8,
                  "target_id": 17,
                  "type": "CurriculumPrerequisite"
                 }
                ],
                "id": 17,
                "metrics": {
                 "blocking factor": 1,
                 "centrality": 12,
                 "complexity": 6,
                 "delay factor": 5
                },
                "name": " 235IN",
                "nameCanonical": "Organic Chemistry I",
                "nameSub": "General Organic Chemistry I"
               },
               {
                "credits": 1,
                "curriculum_requisites": [],
                "id": 18,
                "metrics": {
                 "blocking factor": 2,
                 "centrality": 0,
                 "complexity": 5,
                 "delay factor": 3
                },
                "name": "CHM  235RC",
                "nameCanonical": "",
                "nameSub": "General Organic Chemistry I Recitation"
               },
               {
                "credits": 3,
                "curriculum_requisites": [],
                "id": 19,
                "metrics": {
                 "blocking factor": 0,
                 "centrality": 0,
                 "complexity": 1,
                 "delay factor": 1
                },
                "name": " ",
                "nameCanonical": "",
                "nameSub": "AGEC-S Course"
               }
              ],
              "id": 3,
              "name": "Term 3"
             },
             {
              "curriculum_items": [
               {
                "credits": 3,
                "curriculum_requisites": [],
                "id": 20,
                "metrics": {
                 "blocking factor": 0,
                 "centrality": 0,
                 "complexity": 1,
                 "delay factor": 1
                },
                "name": " ",
                "nameCanonical": "",
                "nameSub": "AGEC-S Course"
               },
               {
                "credits": 3,
                "curriculum_requisites": [],
                "id": 21,
                "metrics": {
                 "blocking factor": 0,
                 "centrality": 0,
                 "complexity": 1,
                 "delay factor": 1
                },
                "name": " ",
                "nameCanonical": "",
                "nameSub": "AGEC-S Course"
               },
               {
                "credits": 3,
                "curriculum_requisites": [
                 {
                  "source_id": 7,
                  "target_id": 22,
                  "type": "CurriculumPrerequisite"
                 }
                ],
                "id": 22,
                "metrics": {
                 "blocking factor": 0,
                 "centrality": 0,
                 "complexity": 3,
                 "delay factor": 3
                },
                "name": "MAT 262",
                "nameCanonical": "Differential Equations",
                "nameSub": "Differential Equations"
               },
               {
                "credits": 4,
                "curriculum_requisites": [
                 {
                  "source_id": 7,
                  "target_id": 23,
                  "type": "CurriculumPrerequisite"
                 },
                 {
                  "source_id": 10,
                  "target_id": 23,
                  "type": "CurriculumPrerequisite"
                 },
                 {
                  "source_id": 24,
                  "target_id": 23,
                  "type": "CurriculumStrictCorequisite"
                 }
                ],
                "id": 23,
                "metrics": {
                 "blocking factor": 0,
                 "centrality": 0,
                 "complexity": 3,
                 "delay factor": 3
                },
                "name": "PHY 216IN",
                "nameCanonical": "",
                "nameSub": "Intro Electricity & Magnetism"
               },
               {
                "credits": 1,
                "curriculum_requisites": [],
                "id": 24,
                "metrics": {
                 "blocking factor": 1,
                 "centrality": 0,
                 "complexity": 3,
                 "delay factor": 2
                },
                "name": "PHY 216RC",
                "nameCanonical": "",
                "nameSub": "Intro Electricity & Magnetism"
               },
               {
                "credits": 4,
                "curriculum_requisites": [
                 {
                  "source_id": 26,
                  "target_id": 25,
                  "type": "CurriculumStrictCorequisite"
                 },
                 {
                  "source_id": 17,
                  "target_id": 25,
                  "type": "CurriculumPrerequisite"
                 }
                ],
                "id": 25,
                "metrics": {
                 "blocking factor": 0,
                 "centrality": 0,
                 "complexity": 5,
                 "delay factor": 5
                },
                "name": "CHM 236IN",
                "nameCanonical": "Organic Chemistry II",
                "nameSub": "General Organic Chemistry II"
               },
               {
                "credits": 1,
                "curriculum_requisites": [],
                "id": 26,
                "metrics": {
                 "blocking factor": 1,
                 "centrality": 0,
                 "complexity": 3,
                 "delay factor": 2
                },
                "name": "CHM  236RC",
                "nameCanonical": "",
                "nameSub": "General Organic Chemistry II Recitation"
               },
               {
                "credits": 1,
                "curriculum_requisites": [
                 {
                  "source_id": 13,
                  "target_id": 27,
                  "type": "CurriculumPrerequisite"
                 }
                ],
                "id": 27,
                "metrics": {
                 "blocking factor": 0,
                 "centrality": 0,
                 "complexity": 3,
                 "delay factor": 3
                },
                "name": "ENG 205IN",
                "nameCanonical": "",
                "nameSub": "Intro to MATLAB II"
               }
              ],
              "id": 4,
              "name": "Term 4"
             }
            ],
            "dp_name": "2019-20 Pima Pre-Engineering",
            "institution": "Pima Community College",
            "name": "Pre-Engineering (Chemical Eng. Concentration)"
           },
           "options": {
            "edit": false,
            "hideTerms": false
           }
          }
         }
        },
        "systemjs_options": null
       },
       "nodeType": "Scope",
       "props": {},
       "type": "node"
      },
      "text/html": [
       "<div\n",
       "    class=\"webio-mountpoint\"\n",
       "    data-webio-mountpoint=\"16033217133617996476\"\n",
       ">\n",
       "    <script>\n",
       "    (function(){\n",
       "    // Some integrations (namely, IJulia/Jupyter) use an alternate render pathway than\n",
       "    // just putting the html on the page. If WebIO isn't defined, then it's pretty likely\n",
       "    // that we're in one of those situations and the integration just isn't installed\n",
       "    // correctly.\n",
       "    if (typeof window.WebIO === \"undefined\") {\n",
       "        document\n",
       "            .querySelector('[data-webio-mountpoint=\"16033217133617996476\"]')\n",
       "            .innerHTML = (\n",
       "                '<div style=\"padding: 1em; background-color: #f8d6da; border: 1px solid #f5c6cb; font-weight: bold;\">' +\n",
       "                '<p><strong>WebIO not detected.</strong></p>' +\n",
       "                '<p>Please read ' +\n",
       "                '<a href=\"https://juliagizmos.github.io/WebIO.jl/latest/troubleshooting/not-detected/\" target=\"_blank\">the troubleshooting guide</a> ' +\n",
       "                'for more information on how to resolve this issue.</p>' +\n",
       "                '<p><a href=\"https://juliagizmos.github.io/WebIO.jl/latest/troubleshooting/not-detected/\" target=\"_blank\">https://juliagizmos.github.io/WebIO.jl/latest/troubleshooting/not-detected/</a></p>' +\n",
       "                '</div>'\n",
       "            );\n",
       "        return;\n",
       "    }\n",
       "    WebIO.mount(\n",
       "        document.querySelector('[data-webio-mountpoint=\"16033217133617996476\"]'),\n",
       "        {\"props\":{},\"nodeType\":\"Scope\",\"type\":\"node\",\"instanceArgs\":{\"imports\":{\"data\":[],\"type\":\"async_block\"},\"id\":\"9331762473461313680\",\"handlers\":{},\"systemjs_options\":null,\"mount_callbacks\":[],\"observables\":{\"curriculum-data\":{\"sync\":true,\"id\":\"15681095471424930084\",\"value\":{\"options\":{\"hideTerms\":false,\"edit\":false},\"curriculum\":{\"name\":\"Pre-Engineering (Chemical Eng. Concentration)\",\"dp_name\":\"2019-20 Pima Pre-Engineering\",\"curriculum_terms\":[{\"name\":\"Term 1\",\"curriculum_items\":[{\"curriculum_requisites\":[],\"name\":\"MAT 220\",\"metrics\":{\"centrality\":0,\"complexity\":11.0,\"blocking factor\":8,\"delay factor\":3.0},\"nameSub\":\"Calculus I\",\"id\":1,\"credits\":5,\"nameCanonical\":\"Calculus I\"},{\"curriculum_requisites\":[{\"source_id\":3,\"target_id\":2,\"type\":\"CurriculumStrictCorequisite\"}],\"name\":\"CHM 151IN\",\"metrics\":{\"centrality\":5,\"complexity\":8.0,\"blocking factor\":3,\"delay factor\":5.0},\"nameSub\":\"Gen Chemistry I\",\"id\":2,\"credits\":4,\"nameCanonical\":\"General Chemsitry I\"},{\"curriculum_requisites\":[],\"name\":\"CHM 151RC\",\"metrics\":{\"centrality\":0,\"complexity\":9.0,\"blocking factor\":4,\"delay factor\":5.0},\"nameSub\":\"Gen Chemistry I Recitation\",\"id\":3,\"credits\":1,\"nameCanonical\":\"\"},{\"curriculum_requisites\":[],\"name\":\"WRT 101\",\"metrics\":{\"centrality\":0,\"complexity\":3.0,\"blocking factor\":1,\"delay factor\":2.0},\"nameSub\":\"English Composition I\",\"id\":4,\"credits\":3,\"nameCanonical\":\"English Composition I\"},{\"curriculum_requisites\":[{\"source_id\":1,\"target_id\":5,\"type\":\"CurriculumCorequisite\"}],\"name\":\"ENG 102IN\",\"metrics\":{\"centrality\":0,\"complexity\":2.0,\"blocking factor\":0,\"delay factor\":2.0},\"nameSub\":\"Problem-Solving and Engineering Design\",\"id\":5,\"credits\":3,\"nameCanonical\":\"Intro to Engineering\"},{\"curriculum_requisites\":[],\"name\":\" \",\"metrics\":{\"centrality\":0,\"complexity\":1.0,\"blocking factor\":0,\"delay factor\":1.0},\"nameSub\":\"AGEC-S Course\",\"id\":6,\"credits\":3,\"nameCanonical\":\"\"}],\"id\":1},{\"name\":\"Term 2\",\"curriculum_items\":[{\"curriculum_requisites\":[{\"source_id\":1,\"target_id\":7,\"type\":\"CurriculumPrerequisite\"}],\"name\":\"MAT 231\",\"metrics\":{\"centrality\":9,\"complexity\":6.0,\"blocking factor\":3,\"delay factor\":3.0},\"nameSub\":\"Calculus II\",\"id\":7,\"credits\":4,\"nameCanonical\":\"Calculus II\"},{\"curriculum_requisites\":[{\"source_id\":2,\"target_id\":8,\"type\":\"CurriculumPrerequisite\"},{\"source_id\":9,\"target_id\":8,\"type\":\"CurriculumStrictCorequisite\"}],\"name\":\"CHM 152IN\",\"metrics\":{\"centrality\":9,\"complexity\":7.0,\"blocking factor\":2,\"delay factor\":5.0},\"nameSub\":\"Gen Chemistry II\",\"id\":8,\"credits\":4,\"nameCanonical\":\"General Chemsitry II\"},{\"curriculum_requisites\":[],\"name\":\"CHM 152RC\",\"metrics\":{\"centrality\":0,\"complexity\":7.0,\"blocking factor\":3,\"delay factor\":4.0},\"nameSub\":\"Gen Chemistry II Recitation\",\"id\":9,\"credits\":1,\"nameCanonical\":\"\"},{\"curriculum_requisites\":[{\"source_id\":11,\"target_id\":10,\"type\":\"CurriculumStrictCorequisite\"},{\"source_id\":1,\"target_id\":10,\"type\":\"CurriculumPrerequisite\"}],\"name\":\"PHY 210IN\",\"metrics\":{\"centrality\":6,\"complexity\":4.0,\"blocking factor\":1,\"delay factor\":3.0},\"nameSub\":\"Intro Mechanics\",\"id\":10,\"credits\":4,\"nameCanonical\":\"\"},{\"curriculum_requisites\":[],\"name\":\"PHY 210RC\",\"metrics\":{\"centrality\":0,\"complexity\":5.0,\"blocking factor\":2,\"delay factor\":3.0},\"nameSub\":\"Intro Mechanics Recitation\",\"id\":11,\"credits\":1,\"nameCanonical\":\"\"},{\"curriculum_requisites\":[{\"source_id\":4,\"target_id\":12,\"type\":\"CurriculumPrerequisite\"}],\"name\":\"WRT 102\",\"metrics\":{\"centrality\":0,\"complexity\":2.0,\"blocking factor\":0,\"delay factor\":2.0},\"nameSub\":\" English Composition II\",\"id\":12,\"credits\":3,\"nameCanonical\":\" English Composition\"},{\"curriculum_requisites\":[{\"source_id\":1,\"target_id\":13,\"type\":\"CurriculumCorequisite\"}],\"name\":\"ENG 105IN\",\"metrics\":{\"centrality\":3,\"complexity\":4.0,\"blocking factor\":1,\"delay factor\":3.0},\"nameSub\":\"Intro to MATLAB I\",\"id\":13,\"credits\":1,\"nameCanonical\":\"\"}],\"id\":2},{\"name\":\"Term 3\",\"curriculum_items\":[{\"curriculum_requisites\":[],\"name\":\" \",\"metrics\":{\"centrality\":0,\"complexity\":1.0,\"blocking factor\":0,\"delay factor\":1.0},\"nameSub\":\"AGEC-S Course\",\"id\":14,\"credits\":3,\"nameCanonical\":\"\"},{\"curriculum_requisites\":[],\"name\":\" \",\"metrics\":{\"centrality\":0,\"complexity\":1.0,\"blocking factor\":0,\"delay factor\":1.0},\"nameSub\":\"AGEC-S Course\",\"id\":15,\"credits\":3,\"nameCanonical\":\"\"},{\"curriculum_requisites\":[{\"source_id\":7,\"target_id\":16,\"type\":\"CurriculumPrerequisite\"}],\"name\":\"MAT 241\",\"metrics\":{\"centrality\":0,\"complexity\":3.0,\"blocking factor\":0,\"delay factor\":3.0},\"nameSub\":\"Calculus III\",\"id\":16,\"credits\":4,\"nameCanonical\":\"Calculus III\"},{\"curriculum_requisites\":[{\"source_id\":18,\"target_id\":17,\"type\":\"CurriculumStrictCorequisite\"},{\"source_id\":8,\"target_id\":17,\"type\":\"CurriculumPrerequisite\"}],\"name\":\" 235IN\",\"metrics\":{\"centrality\":12,\"complexity\":6.0,\"blocking factor\":1,\"delay factor\":5.0},\"nameSub\":\"General Organic Chemistry I\",\"id\":17,\"credits\":4,\"nameCanonical\":\"Organic Chemistry I\"},{\"curriculum_requisites\":[],\"name\":\"CHM  235RC\",\"metrics\":{\"centrality\":0,\"complexity\":5.0,\"blocking factor\":2,\"delay factor\":3.0},\"nameSub\":\"General Organic Chemistry I Recitation\",\"id\":18,\"credits\":1,\"nameCanonical\":\"\"},{\"curriculum_requisites\":[],\"name\":\" \",\"metrics\":{\"centrality\":0,\"complexity\":1.0,\"blocking factor\":0,\"delay factor\":1.0},\"nameSub\":\"AGEC-S Course\",\"id\":19,\"credits\":3,\"nameCanonical\":\"\"}],\"id\":3},{\"name\":\"Term 4\",\"curriculum_items\":[{\"curriculum_requisites\":[],\"name\":\" \",\"metrics\":{\"centrality\":0,\"complexity\":1.0,\"blocking factor\":0,\"delay factor\":1.0},\"nameSub\":\"AGEC-S Course\",\"id\":20,\"credits\":3,\"nameCanonical\":\"\"},{\"curriculum_requisites\":[],\"name\":\" \",\"metrics\":{\"centrality\":0,\"complexity\":1.0,\"blocking factor\":0,\"delay factor\":1.0},\"nameSub\":\"AGEC-S Course\",\"id\":21,\"credits\":3,\"nameCanonical\":\"\"},{\"curriculum_requisites\":[{\"source_id\":7,\"target_id\":22,\"type\":\"CurriculumPrerequisite\"}],\"name\":\"MAT 262\",\"metrics\":{\"centrality\":0,\"complexity\":3.0,\"blocking factor\":0,\"delay factor\":3.0},\"nameSub\":\"Differential Equations\",\"id\":22,\"credits\":3,\"nameCanonical\":\"Differential Equations\"},{\"curriculum_requisites\":[{\"source_id\":7,\"target_id\":23,\"type\":\"CurriculumPrerequisite\"},{\"source_id\":10,\"target_id\":23,\"type\":\"CurriculumPrerequisite\"},{\"source_id\":24,\"target_id\":23,\"type\":\"CurriculumStrictCorequisite\"}],\"name\":\"PHY 216IN\",\"metrics\":{\"centrality\":0,\"complexity\":3.0,\"blocking factor\":0,\"delay factor\":3.0},\"nameSub\":\"Intro Electricity & Magnetism\",\"id\":23,\"credits\":4,\"nameCanonical\":\"\"},{\"curriculum_requisites\":[],\"name\":\"PHY 216RC\",\"metrics\":{\"centrality\":0,\"complexity\":3.0,\"blocking factor\":1,\"delay factor\":2.0},\"nameSub\":\"Intro Electricity & Magnetism\",\"id\":24,\"credits\":1,\"nameCanonical\":\"\"},{\"curriculum_requisites\":[{\"source_id\":26,\"target_id\":25,\"type\":\"CurriculumStrictCorequisite\"},{\"source_id\":17,\"target_id\":25,\"type\":\"CurriculumPrerequisite\"}],\"name\":\"CHM 236IN\",\"metrics\":{\"centrality\":0,\"complexity\":5.0,\"blocking factor\":0,\"delay factor\":5.0},\"nameSub\":\"General Organic Chemistry II\",\"id\":25,\"credits\":4,\"nameCanonical\":\"Organic Chemistry II\"},{\"curriculum_requisites\":[],\"name\":\"CHM  236RC\",\"metrics\":{\"centrality\":0,\"complexity\":3.0,\"blocking factor\":1,\"delay factor\":2.0},\"nameSub\":\"General Organic Chemistry II Recitation\",\"id\":26,\"credits\":1,\"nameCanonical\":\"\"},{\"curriculum_requisites\":[{\"source_id\":13,\"target_id\":27,\"type\":\"CurriculumPrerequisite\"}],\"name\":\"ENG 205IN\",\"metrics\":{\"centrality\":0,\"complexity\":3.0,\"blocking factor\":0,\"delay factor\":3.0},\"nameSub\":\"Intro to MATLAB II\",\"id\":27,\"credits\":1,\"nameCanonical\":\"\"}],\"id\":4}],\"institution\":\"Pima Community College\"}}}}},\"children\":[{\"props\":{\"src\":\"https:\\/\\/curricula-api-embed.damoursystems.com\\/\",\"id\":\"curriculum\",\"events\":{\"load\":\"(function (){this.contentWindow.postMessage({\\\"options\\\":{\\\"hideTerms\\\":false,\\\"edit\\\":false},\\\"curriculum\\\":{\\\"name\\\":\\\"Pre-Engineering (Chemical Eng. Concentration)\\\",\\\"dp_name\\\":\\\"2019-20 Pima Pre-Engineering\\\",\\\"curriculum_terms\\\":[{\\\"name\\\":\\\"Term 1\\\",\\\"curriculum_items\\\":[{\\\"curriculum_requisites\\\":[],\\\"name\\\":\\\"MAT 220\\\",\\\"metrics\\\":{\\\"centrality\\\":0,\\\"complexity\\\":11.0,\\\"blocking factor\\\":8,\\\"delay factor\\\":3.0},\\\"nameSub\\\":\\\"Calculus I\\\",\\\"id\\\":1,\\\"credits\\\":5,\\\"nameCanonical\\\":\\\"Calculus I\\\"},{\\\"curriculum_requisites\\\":[{\\\"source_id\\\":3,\\\"target_id\\\":2,\\\"type\\\":\\\"CurriculumStrictCorequisite\\\"}],\\\"name\\\":\\\"CHM 151IN\\\",\\\"metrics\\\":{\\\"centrality\\\":5,\\\"complexity\\\":8.0,\\\"blocking factor\\\":3,\\\"delay factor\\\":5.0},\\\"nameSub\\\":\\\"Gen Chemistry I\\\",\\\"id\\\":2,\\\"credits\\\":4,\\\"nameCanonical\\\":\\\"General Chemsitry I\\\"},{\\\"curriculum_requisites\\\":[],\\\"name\\\":\\\"CHM 151RC\\\",\\\"metrics\\\":{\\\"centrality\\\":0,\\\"complexity\\\":9.0,\\\"blocking factor\\\":4,\\\"delay factor\\\":5.0},\\\"nameSub\\\":\\\"Gen Chemistry I Recitation\\\",\\\"id\\\":3,\\\"credits\\\":1,\\\"nameCanonical\\\":\\\"\\\"},{\\\"curriculum_requisites\\\":[],\\\"name\\\":\\\"WRT 101\\\",\\\"metrics\\\":{\\\"centrality\\\":0,\\\"complexity\\\":3.0,\\\"blocking factor\\\":1,\\\"delay factor\\\":2.0},\\\"nameSub\\\":\\\"English Composition I\\\",\\\"id\\\":4,\\\"credits\\\":3,\\\"nameCanonical\\\":\\\"English Composition I\\\"},{\\\"curriculum_requisites\\\":[{\\\"source_id\\\":1,\\\"target_id\\\":5,\\\"type\\\":\\\"CurriculumCorequisite\\\"}],\\\"name\\\":\\\"ENG 102IN\\\",\\\"metrics\\\":{\\\"centrality\\\":0,\\\"complexity\\\":2.0,\\\"blocking factor\\\":0,\\\"delay factor\\\":2.0},\\\"nameSub\\\":\\\"Problem-Solving and Engineering Design\\\",\\\"id\\\":5,\\\"credits\\\":3,\\\"nameCanonical\\\":\\\"Intro to Engineering\\\"},{\\\"curriculum_requisites\\\":[],\\\"name\\\":\\\" \\\",\\\"metrics\\\":{\\\"centrality\\\":0,\\\"complexity\\\":1.0,\\\"blocking factor\\\":0,\\\"delay factor\\\":1.0},\\\"nameSub\\\":\\\"AGEC-S Course\\\",\\\"id\\\":6,\\\"credits\\\":3,\\\"nameCanonical\\\":\\\"\\\"}],\\\"id\\\":1},{\\\"name\\\":\\\"Term 2\\\",\\\"curriculum_items\\\":[{\\\"curriculum_requisites\\\":[{\\\"source_id\\\":1,\\\"target_id\\\":7,\\\"type\\\":\\\"CurriculumPrerequisite\\\"}],\\\"name\\\":\\\"MAT 231\\\",\\\"metrics\\\":{\\\"centrality\\\":9,\\\"complexity\\\":6.0,\\\"blocking factor\\\":3,\\\"delay factor\\\":3.0},\\\"nameSub\\\":\\\"Calculus II\\\",\\\"id\\\":7,\\\"credits\\\":4,\\\"nameCanonical\\\":\\\"Calculus II\\\"},{\\\"curriculum_requisites\\\":[{\\\"source_id\\\":2,\\\"target_id\\\":8,\\\"type\\\":\\\"CurriculumPrerequisite\\\"},{\\\"source_id\\\":9,\\\"target_id\\\":8,\\\"type\\\":\\\"CurriculumStrictCorequisite\\\"}],\\\"name\\\":\\\"CHM 152IN\\\",\\\"metrics\\\":{\\\"centrality\\\":9,\\\"complexity\\\":7.0,\\\"blocking factor\\\":2,\\\"delay factor\\\":5.0},\\\"nameSub\\\":\\\"Gen Chemistry II\\\",\\\"id\\\":8,\\\"credits\\\":4,\\\"nameCanonical\\\":\\\"General Chemsitry II\\\"},{\\\"curriculum_requisites\\\":[],\\\"name\\\":\\\"CHM 152RC\\\",\\\"metrics\\\":{\\\"centrality\\\":0,\\\"complexity\\\":7.0,\\\"blocking factor\\\":3,\\\"delay factor\\\":4.0},\\\"nameSub\\\":\\\"Gen Chemistry II Recitation\\\",\\\"id\\\":9,\\\"credits\\\":1,\\\"nameCanonical\\\":\\\"\\\"},{\\\"curriculum_requisites\\\":[{\\\"source_id\\\":11,\\\"target_id\\\":10,\\\"type\\\":\\\"CurriculumStrictCorequisite\\\"},{\\\"source_id\\\":1,\\\"target_id\\\":10,\\\"type\\\":\\\"CurriculumPrerequisite\\\"}],\\\"name\\\":\\\"PHY 210IN\\\",\\\"metrics\\\":{\\\"centrality\\\":6,\\\"complexity\\\":4.0,\\\"blocking factor\\\":1,\\\"delay factor\\\":3.0},\\\"nameSub\\\":\\\"Intro Mechanics\\\",\\\"id\\\":10,\\\"credits\\\":4,\\\"nameCanonical\\\":\\\"\\\"},{\\\"curriculum_requisites\\\":[],\\\"name\\\":\\\"PHY 210RC\\\",\\\"metrics\\\":{\\\"centrality\\\":0,\\\"complexity\\\":5.0,\\\"blocking factor\\\":2,\\\"delay factor\\\":3.0},\\\"nameSub\\\":\\\"Intro Mechanics Recitation\\\",\\\"id\\\":11,\\\"credits\\\":1,\\\"nameCanonical\\\":\\\"\\\"},{\\\"curriculum_requisites\\\":[{\\\"source_id\\\":4,\\\"target_id\\\":12,\\\"type\\\":\\\"CurriculumPrerequisite\\\"}],\\\"name\\\":\\\"WRT 102\\\",\\\"metrics\\\":{\\\"centrality\\\":0,\\\"complexity\\\":2.0,\\\"blocking factor\\\":0,\\\"delay factor\\\":2.0},\\\"nameSub\\\":\\\" English Composition II\\\",\\\"id\\\":12,\\\"credits\\\":3,\\\"nameCanonical\\\":\\\" English Composition\\\"},{\\\"curriculum_requisites\\\":[{\\\"source_id\\\":1,\\\"target_id\\\":13,\\\"type\\\":\\\"CurriculumCorequisite\\\"}],\\\"name\\\":\\\"ENG 105IN\\\",\\\"metrics\\\":{\\\"centrality\\\":3,\\\"complexity\\\":4.0,\\\"blocking factor\\\":1,\\\"delay factor\\\":3.0},\\\"nameSub\\\":\\\"Intro to MATLAB I\\\",\\\"id\\\":13,\\\"credits\\\":1,\\\"nameCanonical\\\":\\\"\\\"}],\\\"id\\\":2},{\\\"name\\\":\\\"Term 3\\\",\\\"curriculum_items\\\":[{\\\"curriculum_requisites\\\":[],\\\"name\\\":\\\" \\\",\\\"metrics\\\":{\\\"centrality\\\":0,\\\"complexity\\\":1.0,\\\"blocking factor\\\":0,\\\"delay factor\\\":1.0},\\\"nameSub\\\":\\\"AGEC-S Course\\\",\\\"id\\\":14,\\\"credits\\\":3,\\\"nameCanonical\\\":\\\"\\\"},{\\\"curriculum_requisites\\\":[],\\\"name\\\":\\\" \\\",\\\"metrics\\\":{\\\"centrality\\\":0,\\\"complexity\\\":1.0,\\\"blocking factor\\\":0,\\\"delay factor\\\":1.0},\\\"nameSub\\\":\\\"AGEC-S Course\\\",\\\"id\\\":15,\\\"credits\\\":3,\\\"nameCanonical\\\":\\\"\\\"},{\\\"curriculum_requisites\\\":[{\\\"source_id\\\":7,\\\"target_id\\\":16,\\\"type\\\":\\\"CurriculumPrerequisite\\\"}],\\\"name\\\":\\\"MAT 241\\\",\\\"metrics\\\":{\\\"centrality\\\":0,\\\"complexity\\\":3.0,\\\"blocking factor\\\":0,\\\"delay factor\\\":3.0},\\\"nameSub\\\":\\\"Calculus III\\\",\\\"id\\\":16,\\\"credits\\\":4,\\\"nameCanonical\\\":\\\"Calculus III\\\"},{\\\"curriculum_requisites\\\":[{\\\"source_id\\\":18,\\\"target_id\\\":17,\\\"type\\\":\\\"CurriculumStrictCorequisite\\\"},{\\\"source_id\\\":8,\\\"target_id\\\":17,\\\"type\\\":\\\"CurriculumPrerequisite\\\"}],\\\"name\\\":\\\" 235IN\\\",\\\"metrics\\\":{\\\"centrality\\\":12,\\\"complexity\\\":6.0,\\\"blocking factor\\\":1,\\\"delay factor\\\":5.0},\\\"nameSub\\\":\\\"General Organic Chemistry I\\\",\\\"id\\\":17,\\\"credits\\\":4,\\\"nameCanonical\\\":\\\"Organic Chemistry I\\\"},{\\\"curriculum_requisites\\\":[],\\\"name\\\":\\\"CHM  235RC\\\",\\\"metrics\\\":{\\\"centrality\\\":0,\\\"complexity\\\":5.0,\\\"blocking factor\\\":2,\\\"delay factor\\\":3.0},\\\"nameSub\\\":\\\"General Organic Chemistry I Recitation\\\",\\\"id\\\":18,\\\"credits\\\":1,\\\"nameCanonical\\\":\\\"\\\"},{\\\"curriculum_requisites\\\":[],\\\"name\\\":\\\" \\\",\\\"metrics\\\":{\\\"centrality\\\":0,\\\"complexity\\\":1.0,\\\"blocking factor\\\":0,\\\"delay factor\\\":1.0},\\\"nameSub\\\":\\\"AGEC-S Course\\\",\\\"id\\\":19,\\\"credits\\\":3,\\\"nameCanonical\\\":\\\"\\\"}],\\\"id\\\":3},{\\\"name\\\":\\\"Term 4\\\",\\\"curriculum_items\\\":[{\\\"curriculum_requisites\\\":[],\\\"name\\\":\\\" \\\",\\\"metrics\\\":{\\\"centrality\\\":0,\\\"complexity\\\":1.0,\\\"blocking factor\\\":0,\\\"delay factor\\\":1.0},\\\"nameSub\\\":\\\"AGEC-S Course\\\",\\\"id\\\":20,\\\"credits\\\":3,\\\"nameCanonical\\\":\\\"\\\"},{\\\"curriculum_requisites\\\":[],\\\"name\\\":\\\" \\\",\\\"metrics\\\":{\\\"centrality\\\":0,\\\"complexity\\\":1.0,\\\"blocking factor\\\":0,\\\"delay factor\\\":1.0},\\\"nameSub\\\":\\\"AGEC-S Course\\\",\\\"id\\\":21,\\\"credits\\\":3,\\\"nameCanonical\\\":\\\"\\\"},{\\\"curriculum_requisites\\\":[{\\\"source_id\\\":7,\\\"target_id\\\":22,\\\"type\\\":\\\"CurriculumPrerequisite\\\"}],\\\"name\\\":\\\"MAT 262\\\",\\\"metrics\\\":{\\\"centrality\\\":0,\\\"complexity\\\":3.0,\\\"blocking factor\\\":0,\\\"delay factor\\\":3.0},\\\"nameSub\\\":\\\"Differential Equations\\\",\\\"id\\\":22,\\\"credits\\\":3,\\\"nameCanonical\\\":\\\"Differential Equations\\\"},{\\\"curriculum_requisites\\\":[{\\\"source_id\\\":7,\\\"target_id\\\":23,\\\"type\\\":\\\"CurriculumPrerequisite\\\"},{\\\"source_id\\\":10,\\\"target_id\\\":23,\\\"type\\\":\\\"CurriculumPrerequisite\\\"},{\\\"source_id\\\":24,\\\"target_id\\\":23,\\\"type\\\":\\\"CurriculumStrictCorequisite\\\"}],\\\"name\\\":\\\"PHY 216IN\\\",\\\"metrics\\\":{\\\"centrality\\\":0,\\\"complexity\\\":3.0,\\\"blocking factor\\\":0,\\\"delay factor\\\":3.0},\\\"nameSub\\\":\\\"Intro Electricity & Magnetism\\\",\\\"id\\\":23,\\\"credits\\\":4,\\\"nameCanonical\\\":\\\"\\\"},{\\\"curriculum_requisites\\\":[],\\\"name\\\":\\\"PHY 216RC\\\",\\\"metrics\\\":{\\\"centrality\\\":0,\\\"complexity\\\":3.0,\\\"blocking factor\\\":1,\\\"delay factor\\\":2.0},\\\"nameSub\\\":\\\"Intro Electricity & Magnetism\\\",\\\"id\\\":24,\\\"credits\\\":1,\\\"nameCanonical\\\":\\\"\\\"},{\\\"curriculum_requisites\\\":[{\\\"source_id\\\":26,\\\"target_id\\\":25,\\\"type\\\":\\\"CurriculumStrictCorequisite\\\"},{\\\"source_id\\\":17,\\\"target_id\\\":25,\\\"type\\\":\\\"CurriculumPrerequisite\\\"}],\\\"name\\\":\\\"CHM 236IN\\\",\\\"metrics\\\":{\\\"centrality\\\":0,\\\"complexity\\\":5.0,\\\"blocking factor\\\":0,\\\"delay factor\\\":5.0},\\\"nameSub\\\":\\\"General Organic Chemistry II\\\",\\\"id\\\":25,\\\"credits\\\":4,\\\"nameCanonical\\\":\\\"Organic Chemistry II\\\"},{\\\"curriculum_requisites\\\":[],\\\"name\\\":\\\"CHM  236RC\\\",\\\"metrics\\\":{\\\"centrality\\\":0,\\\"complexity\\\":3.0,\\\"blocking factor\\\":1,\\\"delay factor\\\":2.0},\\\"nameSub\\\":\\\"General Organic Chemistry II Recitation\\\",\\\"id\\\":26,\\\"credits\\\":1,\\\"nameCanonical\\\":\\\"\\\"},{\\\"curriculum_requisites\\\":[{\\\"source_id\\\":13,\\\"target_id\\\":27,\\\"type\\\":\\\"CurriculumPrerequisite\\\"}],\\\"name\\\":\\\"ENG 205IN\\\",\\\"metrics\\\":{\\\"centrality\\\":0,\\\"complexity\\\":3.0,\\\"blocking factor\\\":0,\\\"delay factor\\\":3.0},\\\"nameSub\\\":\\\"Intro to MATLAB II\\\",\\\"id\\\":27,\\\"credits\\\":1,\\\"nameCanonical\\\":\\\"\\\"}],\\\"id\\\":4}],\\\"institution\\\":\\\"Pima Community College\\\"}},\\\"*\\\"); window.removeEventListener(\\\"message\\\",window.messageReceived); window.messageReceived=(function (event){return (event.data.curriculum!==undefined) ? (WebIO.setval({\\\"name\\\":\\\"curriculum-data\\\",\\\"scope\\\":\\\"9331762473461313680\\\",\\\"id\\\":\\\"15681095471424930084\\\",\\\"type\\\":\\\"observable\\\"},event.data.curriculum)) : undefined}); return window.addEventListener(\\\"message\\\",window.messageReceived)})\"},\"style\":{\"padding\":\"0\",\"height\":\"85vh\",\"margin\":\"0\",\"border\":\"none\",\"width\":\"100%\"}},\"nodeType\":\"DOM\",\"type\":\"node\",\"instanceArgs\":{\"namespace\":\"html\",\"tag\":\"iframe\"},\"children\":[\"\"]}]},\n",
       "        window,\n",
       "    );\n",
       "    })()\n",
       "    </script>\n",
       "</div>\n"
      ],
      "text/plain": [
       "WebIO.Scope(WebIO.Node{WebIO.DOM}(WebIO.DOM(:html, :iframe), Any[\"\"], Dict{Symbol, Any}(:src => \"https://curricula-api-embed.damoursystems.com/\", :id => \"curriculum\", :events => Dict{Symbol, WebIO.JSString}(:load => WebIO.JSString(\"(function (){this.contentWindow.postMessage({\\\"options\\\":{\\\"hideTerms\\\":false,\\\"edit\\\":false},\\\"curriculum\\\":{\\\"name\\\":\\\"Pre-Engineering (Chemical Eng. Concentration)\\\",\\\"dp_name\\\":\\\"2019-20 Pima Pre-Engineering\\\",\\\"curriculum_terms\\\":[{\\\"name\\\":\\\"Term 1\\\",\\\"curriculum_items\\\":[{\\\"curriculum_requisites\\\":[],\\\"name\\\":\\\"MAT 220\\\",\\\"metrics\\\":{\\\"centrality\\\":0,\\\"complexity\\\":11.0,\\\"blocking factor\\\":8,\\\"delay factor\\\":3.0},\\\"nameSub\\\":\\\"Calculus I\\\",\\\"id\\\":1,\\\"credits\\\":5,\\\"nameCanonical\\\":\\\"Calculus I\\\"},{\\\"curriculum_requisites\\\":[{\\\"source_id\\\":3,\\\"target_id\\\":2,\\\"type\\\":\\\"CurriculumStrictCorequisite\\\"}],\\\"name\\\":\\\"CHM 151IN\\\",\\\"metrics\\\":{\\\"centrality\\\":5,\\\"complexity\\\":8.0,\\\"blocking factor\\\":3,\\\"delay factor\\\":5.0},\\\"nameSub\\\":\\\"Gen Chemistry I\\\",\\\"id\\\":2,\\\"credits\\\":4,\\\"nameCanonical\\\":\\\"General Chemsitry I\\\"},{\\\"curriculum_requisites\\\":[],\\\"name\\\":\\\"CHM 151RC\\\",\\\"metrics\\\":{\\\"centrality\\\":0,\\\"complexity\\\":9.0,\\\"blocking factor\\\":4,\\\"delay factor\\\":5.0},\\\"nameSub\\\":\\\"Gen Chemistry I Recitation\\\",\\\"id\\\":3,\\\"credits\\\":1,\\\"nameCanonical\\\":\\\"\\\"},{\\\"curriculum_requisites\\\":[],\\\"name\\\":\\\"WRT 101\\\",\\\"metrics\\\":{\\\"centrality\\\":0,\\\"complexity\\\":3.0,\\\"blocking factor\\\":1,\\\"delay factor\\\":2.0},\\\"nameSub\\\":\\\"English Composition I\\\",\\\"id\\\":4,\\\"credits\\\":3,\\\"nameCanonical\\\":\\\"English Composition I\\\"},{\\\"curriculum_requisites\\\":[{\\\"source_id\\\":1,\\\"target_id\\\":5,\\\"type\\\":\\\"CurriculumCorequisite\\\"}],\\\"name\\\":\\\"ENG 102IN\\\",\\\"metrics\\\":{\\\"centrality\\\":0,\\\"complexity\\\":2.0,\\\"blocking factor\\\":0,\\\"delay factor\\\":2.0},\\\"nameSub\\\":\\\"Problem-Solving and Engineering Design\\\",\\\"id\\\":5,\\\"credits\\\":3,\\\"nameCanonical\\\":\\\"Intro to Engineering\\\"},{\\\"curriculum_requisites\\\":[],\\\"name\\\":\\\" \\\",\\\"metrics\\\":{\\\"centrality\\\":0,\\\"complexity\\\":1.0,\\\"blocking factor\\\":0,\\\"delay factor\\\":1.0},\\\"nameSub\\\":\\\"AGEC-S Course\\\",\\\"id\\\":6,\\\"credits\\\":3,\\\"nameCanonical\\\":\\\"\\\"}],\\\"id\\\":1},{\\\"name\\\":\\\"Term 2\\\",\\\"curriculum_items\\\":[{\\\"curriculum_requisites\\\":[{\\\"source_id\\\":1,\\\"target_id\\\":7,\\\"type\\\":\\\"CurriculumPrerequisite\\\"}],\\\"name\\\":\\\"MAT 231\\\",\\\"metrics\\\":{\\\"centrality\\\":9,\\\"complexity\\\":6.0,\\\"blocking factor\\\":3,\\\"delay factor\\\":3.0},\\\"nameSub\\\":\\\"Calculus II\\\",\\\"id\\\":7,\\\"credits\\\":4,\\\"nameCanonical\\\":\\\"Calculus II\\\"},{\\\"curriculum_requisites\\\":[{\\\"source_id\\\":2,\\\"target_id\\\":8,\\\"type\\\":\\\"CurriculumPrerequisite\\\"},{\\\"source_id\\\":9,\\\"target_id\\\":8,\\\"type\\\":\\\"CurriculumStrictCorequisite\\\"}],\\\"name\\\":\\\"CHM 152IN\\\",\\\"metrics\\\":{\\\"centrality\\\":9,\\\"complexity\\\":7.0,\\\"blocking factor\\\":2,\\\"delay factor\\\":5.0},\\\"nameSub\\\":\\\"Gen Chemistry II\\\",\\\"id\\\":8,\\\"credits\\\":4,\\\"nameCanonical\\\":\\\"General Chemsitry II\\\"},{\\\"curriculum_requisites\\\":[],\\\"name\\\":\\\"CHM 152RC\\\",\\\"metrics\\\":{\\\"centrality\\\":0,\\\"complexity\\\":7.0,\\\"blocking factor\\\":3,\\\"delay factor\\\":4.0},\\\"nameSub\\\":\\\"Gen Chemistry II Recitation\\\",\\\"id\\\":9,\\\"credits\\\":1,\\\"nameCanonical\\\":\\\"\\\"},{\\\"curriculum_requisites\\\":[{\\\"source_id\\\":11,\\\"target_id\\\":10,\\\"type\\\":\\\"CurriculumStrictCorequisite\\\"},{\\\"source_id\\\":1,\\\"target_id\\\":10,\\\"type\\\":\\\"CurriculumPrerequisite\\\"}],\\\"name\\\":\\\"PHY 210IN\\\",\\\"metrics\\\":{\\\"centrality\\\":6,\\\"complexity\\\":4.0,\\\"blocking factor\\\":1,\\\"delay factor\\\":3.0},\\\"nameSub\\\":\\\"Intro Mechanics\\\",\\\"id\\\":10,\\\"credits\\\":4,\\\"nameCanonical\\\":\\\"\\\"},{\\\"curriculum_requisites\\\":[],\\\"name\\\":\\\"PHY 210RC\\\",\\\"metrics\\\":{\\\"centrality\\\":0,\\\"complexity\\\":5.0,\\\"blocking factor\\\":2,\\\"delay factor\\\":3.0},\\\"nameSub\\\":\\\"Intro Mechanics Recitation\\\",\\\"id\\\":11,\\\"credits\\\":1,\\\"nameCanonical\\\":\\\"\\\"},{\\\"curriculum_requisites\\\":[{\\\"source_id\\\":4,\\\"target_id\\\":12,\\\"type\\\":\\\"CurriculumPrerequisite\\\"}],\\\"name\\\":\\\"WRT 102\\\",\\\"metrics\\\":{\\\"centrality\\\":0,\\\"complexity\\\":2.0,\\\"blocking factor\\\":0,\\\"delay factor\\\":2.0},\\\"nameSub\\\":\\\" English Composition II\\\",\\\"id\\\":12,\\\"credits\\\":3,\\\"nameCanonical\\\":\\\" English Composition\\\"},{\\\"curriculum_requisites\\\":[{\\\"source_id\\\":1,\\\"target_id\\\":13,\\\"type\\\":\\\"CurriculumCorequisite\\\"}],\\\"name\\\":\\\"ENG 105IN\\\",\\\"metrics\\\":{\\\"centrality\\\":3,\\\"complexity\\\":4.0,\\\"blocking factor\\\":1,\\\"delay factor\\\":3.0},\\\"nameSub\\\":\\\"Intro to MATLAB I\\\",\\\"id\\\":13,\\\"credits\\\":1,\\\"nameCanonical\\\":\\\"\\\"}],\\\"id\\\":2},{\\\"name\\\":\\\"Term 3\\\",\\\"curriculum_items\\\":[{\\\"curriculum_requisites\\\":[],\\\"name\\\":\\\" \\\",\\\"metrics\\\":{\\\"centrality\\\":0,\\\"complexity\\\":1.0,\\\"blocking factor\\\":0,\\\"delay factor\\\":1.0},\\\"nameSub\\\":\\\"AGEC-S Course\\\",\\\"id\\\":14,\\\"credits\\\":3,\\\"nameCanonical\\\":\\\"\\\"},{\\\"curriculum_requisites\\\":[],\\\"name\\\":\\\" \\\",\\\"metrics\\\":{\\\"centrality\\\":0,\\\"complexity\\\":1.0,\\\"blocking factor\\\":0,\\\"delay factor\\\":1.0},\\\"nameSub\\\":\\\"AGEC-S Course\\\",\\\"id\\\":15,\\\"credits\\\":3,\\\"nameCanonical\\\":\\\"\\\"},{\\\"curriculum_requisites\\\":[{\\\"source_id\\\":7,\\\"target_id\\\":16,\\\"type\\\":\\\"CurriculumPrerequisite\\\"}],\\\"name\\\":\\\"MAT 241\\\",\\\"metrics\\\":{\\\"centrality\\\":0,\\\"complexity\\\":3.0,\\\"blocking factor\\\":0,\\\"delay factor\\\":3.0},\\\"nameSub\\\":\\\"Calculus III\\\",\\\"id\\\":16,\\\"credits\\\":4,\\\"nameCanonical\\\":\\\"Calculus III\\\"},{\\\"curriculum_requisites\\\":[{\\\"source_id\\\":18,\\\"target_id\\\":17,\\\"type\\\":\\\"CurriculumStrictCorequisite\\\"},{\\\"source_id\\\":8,\\\"target_id\\\":17,\\\"type\\\":\\\"CurriculumPrerequisite\\\"}],\\\"name\\\":\\\" 235IN\\\",\\\"metrics\\\":{\\\"centrality\\\":12,\\\"complexity\\\":6.0,\\\"blocking factor\\\":1,\\\"delay factor\\\":5.0},\\\"nameSub\\\":\\\"General Organic Chemistry I\\\",\\\"id\\\":17,\\\"credits\\\":4,\\\"nameCanonical\\\":\\\"Organic Chemistry I\\\"},{\\\"curriculum_requisites\\\":[],\\\"name\\\":\\\"CHM  235RC\\\",\\\"metrics\\\":{\\\"centrality\\\":0,\\\"complexity\\\":5.0,\\\"blocking factor\\\":2,\\\"delay factor\\\":3.0},\\\"nameSub\\\":\\\"General Organic Chemistry I Recitation\\\",\\\"id\\\":18,\\\"credits\\\":1,\\\"nameCanonical\\\":\\\"\\\"},{\\\"curriculum_requisites\\\":[],\\\"name\\\":\\\" \\\",\\\"metrics\\\":{\\\"centrality\\\":0,\\\"complexity\\\":1.0,\\\"blocking factor\\\":0,\\\"delay factor\\\":1.0},\\\"nameSub\\\":\\\"AGEC-S Course\\\",\\\"id\\\":19,\\\"credits\\\":3,\\\"nameCanonical\\\":\\\"\\\"}],\\\"id\\\":3},{\\\"name\\\":\\\"Term 4\\\",\\\"curriculum_items\\\":[{\\\"curriculum_requisites\\\":[],\\\"name\\\":\\\" \\\",\\\"metrics\\\":{\\\"centrality\\\":0,\\\"complexity\\\":1.0,\\\"blocking factor\\\":0,\\\"delay factor\\\":1.0},\\\"nameSub\\\":\\\"AGEC-S Course\\\",\\\"id\\\":20,\\\"credits\\\":3,\\\"nameCanonical\\\":\\\"\\\"},{\\\"curriculum_requisites\\\":[],\\\"name\\\":\\\" \\\",\\\"metrics\\\":{\\\"centrality\\\":0,\\\"complexity\\\":1.0,\\\"blocking factor\\\":0,\\\"delay factor\\\":1.0},\\\"nameSub\\\":\\\"AGEC-S Course\\\",\\\"id\\\":21,\\\"credits\\\":3,\\\"nameCanonical\\\":\\\"\\\"},{\\\"curriculum_requisites\\\":[{\\\"source_id\\\":7,\\\"target_id\\\":22,\\\"type\\\":\\\"CurriculumPrerequisite\\\"}],\\\"name\\\":\\\"MAT 262\\\",\\\"metrics\\\":{\\\"centrality\\\":0,\\\"complexity\\\":3.0,\\\"blocking factor\\\":0,\\\"delay factor\\\":3.0},\\\"nameSub\\\":\\\"Differential Equations\\\",\\\"id\\\":22,\\\"credits\\\":3,\\\"nameCanonical\\\":\\\"Differential Equations\\\"},{\\\"curriculum_requisites\\\":[{\\\"source_id\\\":7,\\\"target_id\\\":23,\\\"type\\\":\\\"CurriculumPrerequisite\\\"},{\\\"source_id\\\":10,\\\"target_id\\\":23,\\\"type\\\":\\\"CurriculumPrerequisite\\\"},{\\\"source_id\\\":24,\\\"target_id\\\":23,\\\"type\\\":\\\"CurriculumStrictCorequisite\\\"}],\\\"name\\\":\\\"PHY 216IN\\\",\\\"metrics\\\":{\\\"centrality\\\":0,\\\"complexity\\\":3.0,\\\"blocking factor\\\":0,\\\"delay factor\\\":3.0},\\\"nameSub\\\":\\\"Intro Electricity & Magnetism\\\",\\\"id\\\":23,\\\"credits\\\":4,\\\"nameCanonical\\\":\\\"\\\"},{\\\"curriculum_requisites\\\":[],\\\"name\\\":\\\"PHY 216RC\\\",\\\"metrics\\\":{\\\"centrality\\\":0,\\\"complexity\\\":3.0,\\\"blocking factor\\\":1,\\\"delay factor\\\":2.0},\\\"nameSub\\\":\\\"Intro Electricity & Magnetism\\\",\\\"id\\\":24,\\\"credits\\\":1,\\\"nameCanonical\\\":\\\"\\\"},{\\\"curriculum_requisites\\\":[{\\\"source_id\\\":26,\\\"target_id\\\":25,\\\"type\\\":\\\"CurriculumStrictCorequisite\\\"},{\\\"source_id\\\":17,\\\"target_id\\\":25,\\\"type\\\":\\\"CurriculumPrerequisite\\\"}],\\\"name\\\":\\\"CHM 236IN\\\",\\\"metrics\\\":{\\\"centrality\\\":0,\\\"complexity\\\":5.0,\\\"blocking factor\\\":0,\\\"delay factor\\\":5.0},\\\"nameSub\\\":\\\"General Organic Chemistry II\\\",\\\"id\\\":25,\\\"credits\\\":4,\\\"nameCanonical\\\":\\\"Organic Chemistry II\\\"},{\\\"curriculum_requisites\\\":[],\\\"name\\\":\\\"CHM  236RC\\\",\\\"metrics\\\":{\\\"centrality\\\":0,\\\"complexity\\\":3.0,\\\"blocking factor\\\":1,\\\"delay factor\\\":2.0},\\\"nameSub\\\":\\\"General Organic Chemistry II Recitation\\\",\\\"id\\\":26,\\\"credits\\\":1,\\\"nameCanonical\\\":\\\"\\\"},{\\\"curriculum_requisites\\\":[{\\\"source_id\\\":13,\\\"target_id\\\":27,\\\"type\\\":\\\"CurriculumPrerequisite\\\"}],\\\"name\\\":\\\"ENG 205IN\\\",\\\"metrics\\\":{\\\"centrality\\\":0,\\\"complexity\\\":3.0,\\\"blocking factor\\\":0,\\\"delay factor\\\":3.0},\\\"nameSub\\\":\\\"Intro to MATLAB II\\\",\\\"id\\\":27,\\\"credits\\\":1,\\\"nameCanonical\\\":\\\"\\\"}],\\\"id\\\":4}],\\\"institution\\\":\\\"Pima Community College\\\"}},\\\"*\\\"); window.removeEventListener(\\\"message\\\",window.messageReceived); window.messageReceived=(function (event){return (event.data.curriculum!==undefined) ? (WebIO.setval({\\\"name\\\":\\\"curriculum-data\\\",\\\"scope\\\":\\\"9331762473461313680\\\",\\\"id\\\":\\\"15681095471424930084\\\",\\\"type\\\":\\\"observable\\\"},event.data.curriculum)) : undefined}); return window.addEventListener(\\\"message\\\",window.messageReceived)})\")), :style => Dict(:padding => \"0\", :height => \"85vh\", :margin => \"0\", :border => \"none\", :width => \"100%\"))), Dict{String, Tuple{Observables.AbstractObservable, Union{Nothing, Bool}}}(\"curriculum-data\" => (Observable{Dict{String, Any}} with 1 listeners. Value:\n",
       "Dict{String, Any}(\"options\" => Dict{String, Any}(\"hideTerms\" => false, \"edit\" => false), \"curriculum\" => Dict{String, Any}(\"name\" => \"Pre-Engineering (Chemical Eng. Concentration)\", \"dp_name\" => \"2019-20 Pima Pre-Engineering\", \"curriculum_terms\" => Dict{String, Any}[Dict(\"name\" => \"Term 1\", \"curriculum_items\" => Dict{String, Any}[Dict(\"curriculum_requisites\" => Dict{String, Any}[], \"name\" => \"MAT 220\", \"metrics\" => Dict{String, Any}(\"centrality\" => 0, \"complexity\" => 11.0, \"blocking factor\" => 8, \"delay factor\" => 3.0), \"nameSub\" => \"Calculus I\", \"id\" => 1, \"credits\" => 5, \"nameCanonical\" => \"Calculus I\"), Dict(\"curriculum_requisites\" => Dict{String, Any}[Dict(\"source_id\" => 3, \"target_id\" => 2, \"type\" => \"CurriculumStrictCorequisite\")], \"name\" => \"CHM 151IN\", \"metrics\" => Dict{String, Any}(\"centrality\" => 5, \"complexity\" => 8.0, \"blocking factor\" => 3, \"delay factor\" => 5.0), \"nameSub\" => \"Gen Chemistry I\", \"id\" => 2, \"credits\" => 4, \"nameCanonical\" => \"General Chemsitry I\"), Dict(\"curriculum_requisites\" => Dict{String, Any}[], \"name\" => \"CHM 151RC\", \"metrics\" => Dict{String, Any}(\"centrality\" => 0, \"complexity\" => 9.0, \"blocking factor\" => 4, \"delay factor\" => 5.0), \"nameSub\" => \"Gen Chemistry I Recitation\", \"id\" => 3, \"credits\" => 1, \"nameCanonical\" => \"\"), Dict(\"curriculum_requisites\" => Dict{String, Any}[], \"name\" => \"WRT 101\", \"metrics\" => Dict{String, Any}(\"centrality\" => 0, \"complexity\" => 3.0, \"blocking factor\" => 1, \"delay factor\" => 2.0), \"nameSub\" => \"English Composition I\", \"id\" => 4, \"credits\" => 3, \"nameCanonical\" => \"English Composition I\"), Dict(\"curriculum_requisites\" => Dict{String, Any}[Dict(\"source_id\" => 1, \"target_id\" => 5, \"type\" => \"CurriculumCorequisite\")], \"name\" => \"ENG 102IN\", \"metrics\" => Dict{String, Any}(\"centrality\" => 0, \"complexity\" => 2.0, \"blocking factor\" => 0, \"delay factor\" => 2.0), \"nameSub\" => \"Problem-Solving and Engineering Design\", \"id\" => 5, \"credits\" => 3, \"nameCanonical\" => \"Intro to Engineering\"), Dict(\"curriculum_requisites\" => Dict{String, Any}[], \"name\" => \" \", \"metrics\" => Dict{String, Any}(\"centrality\" => 0, \"complexity\" => 1.0, \"blocking factor\" => 0, \"delay factor\" => 1.0), \"nameSub\" => \"AGEC-S Course\", \"id\" => 6, \"credits\" => 3, \"nameCanonical\" => \"\")], \"id\" => 1), Dict(\"name\" => \"Term 2\", \"curriculum_items\" => Dict{String, Any}[Dict(\"curriculum_requisites\" => Dict{String, Any}[Dict(\"source_id\" => 1, \"target_id\" => 7, \"type\" => \"CurriculumPrerequisite\")], \"name\" => \"MAT 231\", \"metrics\" => Dict{String, Any}(\"centrality\" => 9, \"complexity\" => 6.0, \"blocking factor\" => 3, \"delay factor\" => 3.0), \"nameSub\" => \"Calculus II\", \"id\" => 7, \"credits\" => 4, \"nameCanonical\" => \"Calculus II\"), Dict(\"curriculum_requisites\" => Dict{String, Any}[Dict(\"source_id\" => 2, \"target_id\" => 8, \"type\" => \"CurriculumPrerequisite\"), Dict(\"source_id\" => 9, \"target_id\" => 8, \"type\" => \"CurriculumStrictCorequisite\")], \"name\" => \"CHM 152IN\", \"metrics\" => Dict{String, Any}(\"centrality\" => 9, \"complexity\" => 7.0, \"blocking factor\" => 2, \"delay factor\" => 5.0), \"nameSub\" => \"Gen Chemistry II\", \"id\" => 8, \"credits\" => 4, \"nameCanonical\" => \"General Chemsitry II\"), Dict(\"curriculum_requisites\" => Dict{String, Any}[], \"name\" => \"CHM 152RC\", \"metrics\" => Dict{String, Any}(\"centrality\" => 0, \"complexity\" => 7.0, \"blocking factor\" => 3, \"delay factor\" => 4.0), \"nameSub\" => \"Gen Chemistry II Recitation\", \"id\" => 9, \"credits\" => 1, \"nameCanonical\" => \"\"), Dict(\"curriculum_requisites\" => Dict{String, Any}[Dict(\"source_id\" => 11, \"target_id\" => 10, \"type\" => \"CurriculumStrictCorequisite\"), Dict(\"source_id\" => 1, \"target_id\" => 10, \"type\" => \"CurriculumPrerequisite\")], \"name\" => \"PHY 210IN\", \"metrics\" => Dict{String, Any}(\"centrality\" => 6, \"complexity\" => 4.0, \"blocking factor\" => 1, \"delay factor\" => 3.0), \"nameSub\" => \"Intro Mechanics\", \"id\" => 10, \"credits\" => 4, \"nameCanonical\" => \"\"), Dict(\"curriculum_requisites\" => Dict{String, Any}[], \"name\" => \"PHY 210RC\", \"metrics\" => Dict{String, Any}(\"centrality\" => 0, \"complexity\" => 5.0, \"blocking factor\" => 2, \"delay factor\" => 3.0), \"nameSub\" => \"Intro Mechanics Recitation\", \"id\" => 11, \"credits\" => 1, \"nameCanonical\" => \"\"), Dict(\"curriculum_requisites\" => Dict{String, Any}[Dict(\"source_id\" => 4, \"target_id\" => 12, \"type\" => \"CurriculumPrerequisite\")], \"name\" => \"WRT 102\", \"metrics\" => Dict{String, Any}(\"centrality\" => 0, \"complexity\" => 2.0, \"blocking factor\" => 0, \"delay factor\" => 2.0), \"nameSub\" => \" English Composition II\", \"id\" => 12, \"credits\" => 3, \"nameCanonical\" => \" English Composition\"), Dict(\"curriculum_requisites\" => Dict{String, Any}[Dict(\"source_id\" => 1, \"target_id\" => 13, \"type\" => \"CurriculumCorequisite\")], \"name\" => \"ENG 105IN\", \"metrics\" => Dict{String, Any}(\"centrality\" => 3, \"complexity\" => 4.0, \"blocking factor\" => 1, \"delay factor\" => 3.0), \"nameSub\" => \"Intro to MATLAB I\", \"id\" => 13, \"credits\" => 1, \"nameCanonical\" => \"\")], \"id\" => 2), Dict(\"name\" => \"Term 3\", \"curriculum_items\" => Dict{String, Any}[Dict(\"curriculum_requisites\" => Dict{String, Any}[], \"name\" => \" \", \"metrics\" => Dict{String, Any}(\"centrality\" => 0, \"complexity\" => 1.0, \"blocking factor\" => 0, \"delay factor\" => 1.0), \"nameSub\" => \"AGEC-S Course\", \"id\" => 14, \"credits\" => 3, \"nameCanonical\" => \"\"), Dict(\"curriculum_requisites\" => Dict{String, Any}[], \"name\" => \" \", \"metrics\" => Dict{String, Any}(\"centrality\" => 0, \"complexity\" => 1.0, \"blocking factor\" => 0, \"delay factor\" => 1.0), \"nameSub\" => \"AGEC-S Course\", \"id\" => 15, \"credits\" => 3, \"nameCanonical\" => \"\"), Dict(\"curriculum_requisites\" => Dict{String, Any}[Dict(\"source_id\" => 7, \"target_id\" => 16, \"type\" => \"CurriculumPrerequisite\")], \"name\" => \"MAT 241\", \"metrics\" => Dict{String, Any}(\"centrality\" => 0, \"complexity\" => 3.0, \"blocking factor\" => 0, \"delay factor\" => 3.0), \"nameSub\" => \"Calculus III\", \"id\" => 16, \"credits\" => 4, \"nameCanonical\" => \"Calculus III\"), Dict(\"curriculum_requisites\" => Dict{String, Any}[Dict(\"source_id\" => 18, \"target_id\" => 17, \"type\" => \"CurriculumStrictCorequisite\"), Dict(\"source_id\" => 8, \"target_id\" => 17, \"type\" => \"CurriculumPrerequisite\")], \"name\" => \" 235IN\", \"metrics\" => Dict{String, Any}(\"centrality\" => 12, \"complexity\" => 6.0, \"blocking factor\" => 1, \"delay factor\" => 5.0), \"nameSub\" => \"General Organic Chemistry I\", \"id\" => 17, \"credits\" => 4, \"nameCanonical\" => \"Organic Chemistry I\"), Dict(\"curriculum_requisites\" => Dict{String, Any}[], \"name\" => \"CHM  235RC\", \"metrics\" => Dict{String, Any}(\"centrality\" => 0, \"complexity\" => 5.0, \"blocking factor\" => 2, \"delay factor\" => 3.0), \"nameSub\" => \"General Organic Chemistry I Recitation\", \"id\" => 18, \"credits\" => 1, \"nameCanonical\" => \"\"), Dict(\"curriculum_requisites\" => Dict{String, Any}[], \"name\" => \" \", \"metrics\" => Dict{String, Any}(\"centrality\" => 0, \"complexity\" => 1.0, \"blocking factor\" => 0, \"delay factor\" => 1.0), \"nameSub\" => \"AGEC-S Course\", \"id\" => 19, \"credits\" => 3, \"nameCanonical\" => \"\")], \"id\" => 3), Dict(\"name\" => \"Term 4\", \"curriculum_items\" => Dict{String, Any}[Dict(\"curriculum_requisites\" => Dict{String, Any}[], \"name\" => \" \", \"metrics\" => Dict{String, Any}(\"centrality\" => 0, \"complexity\" => 1.0, \"blocking factor\" => 0, \"delay factor\" => 1.0), \"nameSub\" => \"AGEC-S Course\", \"id\" => 20, \"credits\" => 3, \"nameCanonical\" => \"\"), Dict(\"curriculum_requisites\" => Dict{String, Any}[], \"name\" => \" \", \"metrics\" => Dict{String, Any}(\"centrality\" => 0, \"complexity\" => 1.0, \"blocking factor\" => 0, \"delay factor\" => 1.0), \"nameSub\" => \"AGEC-S Course\", \"id\" => 21, \"credits\" => 3, \"nameCanonical\" => \"\"), Dict(\"curriculum_requisites\" => Dict{String, Any}[Dict(\"source_id\" => 7, \"target_id\" => 22, \"type\" => \"CurriculumPrerequisite\")], \"name\" => \"MAT 262\", \"metrics\" => Dict{String, Any}(\"centrality\" => 0, \"complexity\" => 3.0, \"blocking factor\" => 0, \"delay factor\" => 3.0), \"nameSub\" => \"Differential Equations\", \"id\" => 22, \"credits\" => 3, \"nameCanonical\" => \"Differential Equations\"), Dict(\"curriculum_requisites\" => Dict{String, Any}[Dict(\"source_id\" => 7, \"target_id\" => 23, \"type\" => \"CurriculumPrerequisite\"), Dict(\"source_id\" => 10, \"target_id\" => 23, \"type\" => \"CurriculumPrerequisite\"), Dict(\"source_id\" => 24, \"target_id\" => 23, \"type\" => \"CurriculumStrictCorequisite\")], \"name\" => \"PHY 216IN\", \"metrics\" => Dict{String, Any}(\"centrality\" => 0, \"complexity\" => 3.0, \"blocking factor\" => 0, \"delay factor\" => 3.0), \"nameSub\" => \"Intro Electricity & Magnetism\", \"id\" => 23, \"credits\" => 4, \"nameCanonical\" => \"\"), Dict(\"curriculum_requisites\" => Dict{String, Any}[], \"name\" => \"PHY 216RC\", \"metrics\" => Dict{String, Any}(\"centrality\" => 0, \"complexity\" => 3.0, \"blocking factor\" => 1, \"delay factor\" => 2.0), \"nameSub\" => \"Intro Electricity & Magnetism\", \"id\" => 24, \"credits\" => 1, \"nameCanonical\" => \"\"), Dict(\"curriculum_requisites\" => Dict{String, Any}[Dict(\"source_id\" => 26, \"target_id\" => 25, \"type\" => \"CurriculumStrictCorequisite\"), Dict(\"source_id\" => 17, \"target_id\" => 25, \"type\" => \"CurriculumPrerequisite\")], \"name\" => \"CHM 236IN\", \"metrics\" => Dict{String, Any}(\"centrality\" => 0, \"complexity\" => 5.0, \"blocking factor\" => 0, \"delay factor\" => 5.0), \"nameSub\" => \"General Organic Chemistry II\", \"id\" => 25, \"credits\" => 4, \"nameCanonical\" => \"Organic Chemistry II\"), Dict(\"curriculum_requisites\" => Dict{String, Any}[], \"name\" => \"CHM  236RC\", \"metrics\" => Dict{String, Any}(\"centrality\" => 0, \"complexity\" => 3.0, \"blocking factor\" => 1, \"delay factor\" => 2.0), \"nameSub\" => \"General Organic Chemistry II Recitation\", \"id\" => 26, \"credits\" => 1, \"nameCanonical\" => \"\"), Dict(\"curriculum_requisites\" => Dict{String, Any}[Dict(\"source_id\" => 13, \"target_id\" => 27, \"type\" => \"CurriculumPrerequisite\")], \"name\" => \"ENG 205IN\", \"metrics\" => Dict{String, Any}(\"centrality\" => 0, \"complexity\" => 3.0, \"blocking factor\" => 0, \"delay factor\" => 3.0), \"nameSub\" => \"Intro to MATLAB II\", \"id\" => 27, \"credits\" => 1, \"nameCanonical\" => \"\")], \"id\" => 4)], \"institution\" => \"Pima Community College\")), nothing)), Set{String}(), nothing, WebIO.Asset[], Dict{Any, Any}(), WebIO.ConnectionPool(Channel{Any}(32), Set{WebIO.AbstractConnection}(), Condition(Base.InvasiveLinkedList{Task}(Task (runnable) @0x0000000115990940, Task (runnable) @0x0000000115990940), Base.AlwaysLockedST(1))), WebIO.JSString[])"
      ]
     },
     "execution_count": 27,
     "metadata": {
      "application/vnd.webio.node+json": {
       "kernelId": "69f2e738-3ea3-4246-b4b5-b1a219eb4bdf"
      }
     },
     "output_type": "execute_result"
    }
   ],
   "source": [
    "PreEng = read_csv(\"./programs/Pima-PreEng.csv\")\n",
    "visualize(PreEng, notebook=true, scale=0.85)"
   ]
  },
  {
   "cell_type": "code",
   "execution_count": 28,
   "metadata": {},
   "outputs": [
    {
     "data": {
      "text/plain": [
       "true"
      ]
     },
     "execution_count": 28,
     "metadata": {},
     "output_type": "execute_result"
    }
   ],
   "source": [
    "isvalid_curriculum(PreEng.curriculum)"
   ]
  },
  {
   "cell_type": "code",
   "execution_count": 29,
   "metadata": {},
   "outputs": [
    {
     "name": "stdout",
     "output_type": "stream",
     "text": [
      "\n",
      "Pima Community College \n",
      "Curriculum: Pre-Engineering (Chemical Eng. Concentration)\n",
      "  credit hours = 75\n",
      "  number of courses = 27\n",
      "  Blocking Factor --\n",
      "    entire curriculum = 33\n",
      "    max. value = 8, for course(s): MAT 220 - Calculus I\n",
      "  Centrality --\n",
      "    entire curriculum = 44\n",
      "    max. value = 12, for course(s): 235IN - General Organic Chemistry I\n",
      "  Delay Factor --\n",
      "    entire curriculum = 75.0\n",
      "    max. value = 5.0, for course(s): CHM 151IN - Gen Chemistry I, CHM 151RC - Gen Chemistry I Recitation, CHM 152IN - Gen Chemistry II, 235IN - General Organic Chemistry I, CHM 236IN - General Organic Chemistry II\n",
      "  Complexity --\n",
      "    entire curriculum = 108.0\n",
      "    max. value = 11.0, for course(s): MAT 220 - Calculus I\n",
      "  Longest Path(s) --\n",
      "    length = 5, number of paths = 1\n",
      "    path(s):\n",
      "    path 1 = CHM 151RC - Gen Chemistry I Recitation -> CHM 151IN - Gen Chemistry I -> CHM 152IN - Gen Chemistry II -> 235IN - General Organic Chemistry I -> CHM 236IN - General Organic Chemistry II\n",
      "\n"
     ]
    }
   ],
   "source": [
    "PreEng_metrics = basic_metrics(PreEng.curriculum)\n",
    "println(String(take!(PreEng_metrics)))"
   ]
  },
  {
   "cell_type": "code",
   "execution_count": 30,
   "metadata": {},
   "outputs": [
    {
     "name": "stdout",
     "output_type": "stream",
     "text": [
      "\n",
      "University of Arizona \n",
      "Curriculum: Chemical Engineering\n",
      "  credit hours = 138\n",
      "  number of courses = 51\n",
      "  Blocking Factor --\n",
      "    entire curriculum = 315\n",
      "    max. value = 26, for course(s): MAT 220 - Calculus I\n",
      "  Centrality --\n",
      "    entire curriculum = 10564\n",
      "    max. value = 1278, for course(s): CHEE 301B - Chem Eng Lab II\n",
      "  Delay Factor --\n",
      "    entire curriculum = 327.0\n",
      "    max. value = 10.0, for course(s): MAT 220 - Calculus I, CHM 151IN - Gen Chemistry I, CHM 151RC - Gen Chemistry I Recitation, CHM 152IN - Gen Chemistry II, ENG 105IN - Intro to MATLAB I, ENG 205IN - Intro to MATLAB II, CHEE 201 - Elements of Chem and Envirn Eng I, CHEE 202 - Elements of Chem Eng II, CHEE 203 - Chem Eng Heat Xfer & Fluid Flow, CHEE 303 - Chem Eng Mass Xfer, CHEE 402 - Chem Eng Modeling, CHEE 301A - Chem Eng Lab I, CHEE 305 - Chem Eng Transport Phenom, CHEE 301B - Chem Eng Lab II, CHEE 401A - Chem and Enviorn Eng Lab I, CHEE 401B - Process Dynamics and Control Lab\n",
      "  Complexity --\n",
      "    entire curriculum = 642.0\n",
      "    max. value = 36.0, for course(s): MAT 220 - Calculus I\n",
      "  Longest Path(s) --\n",
      "    length = 10, number of paths = 8\n",
      "    path(s):\n",
      "    path 1 = CHM 151RC - Gen Chemistry I Recitation -> CHM 151IN - Gen Chemistry I -> CHM 152IN - Gen Chemistry II -> CHEE 201 - Elements of Chem and Envirn Eng I -> CHEE 203 - Chem Eng Heat Xfer & Fluid Flow -> CHEE 303 - Chem Eng Mass Xfer -> CHEE 305 - Chem Eng Transport Phenom -> CHEE 301A - Chem Eng Lab I -> CHEE 301B - Chem Eng Lab II -> CHEE 401A - Chem and Enviorn Eng Lab I\n",
      "    path 2 = MAT 220 - Calculus I -> ENG 105IN - Intro to MATLAB I -> ENG 205IN - Intro to MATLAB II -> CHEE 201 - Elements of Chem and Envirn Eng I -> CHEE 203 - Chem Eng Heat Xfer & Fluid Flow -> CHEE 303 - Chem Eng Mass Xfer -> CHEE 305 - Chem Eng Transport Phenom -> CHEE 301A - Chem Eng Lab I -> CHEE 301B - Chem Eng Lab II -> CHEE 401A - Chem and Enviorn Eng Lab I\n",
      "    path 3 = CHM 151RC - Gen Chemistry I Recitation -> CHM 151IN - Gen Chemistry I -> CHM 152IN - Gen Chemistry II -> CHEE 201 - Elements of Chem and Envirn Eng I -> CHEE 202 - Elements of Chem Eng II -> CHEE 402 - Chem Eng Modeling -> CHEE 305 - Chem Eng Transport Phenom -> CHEE 301A - Chem Eng Lab I -> CHEE 301B - Chem Eng Lab II -> CHEE 401A - Chem and Enviorn Eng Lab I\n",
      "    path 4 = MAT 220 - Calculus I -> ENG 105IN - Intro to MATLAB I -> ENG 205IN - Intro to MATLAB II -> CHEE 201 - Elements of Chem and Envirn Eng I -> CHEE 202 - Elements of Chem Eng II -> CHEE 402 - Chem Eng Modeling -> CHEE 305 - Chem Eng Transport Phenom -> CHEE 301A - Chem Eng Lab I -> CHEE 301B - Chem Eng Lab II -> CHEE 401A - Chem and Enviorn Eng Lab I\n",
      "    path 5 = CHM 151RC - Gen Chemistry I Recitation -> CHM 151IN - Gen Chemistry I -> CHM 152IN - Gen Chemistry II -> CHEE 201 - Elements of Chem and Envirn Eng I -> CHEE 203 - Chem Eng Heat Xfer & Fluid Flow -> CHEE 303 - Chem Eng Mass Xfer -> CHEE 305 - Chem Eng Transport Phenom -> CHEE 301A - Chem Eng Lab I -> CHEE 301B - Chem Eng Lab II -> CHEE 401B - Process Dynamics and Control Lab\n",
      "    path 6 = MAT 220 - Calculus I -> ENG 105IN - Intro to MATLAB I -> ENG 205IN - Intro to MATLAB II -> CHEE 201 - Elements of Chem and Envirn Eng I -> CHEE 203 - Chem Eng Heat Xfer & Fluid Flow -> CHEE 303 - Chem Eng Mass Xfer -> CHEE 305 - Chem Eng Transport Phenom -> CHEE 301A - Chem Eng Lab I -> CHEE 301B - Chem Eng Lab II -> CHEE 401B - Process Dynamics and Control Lab\n",
      "    path 7 = CHM 151RC - Gen Chemistry I Recitation -> CHM 151IN - Gen Chemistry I -> CHM 152IN - Gen Chemistry II -> CHEE 201 - Elements of Chem and Envirn Eng I -> CHEE 202 - Elements of Chem Eng II -> CHEE 402 - Chem Eng Modeling -> CHEE 305 - Chem Eng Transport Phenom -> CHEE 301A - Chem Eng Lab I -> CHEE 301B - Chem Eng Lab II -> CHEE 401B - Process Dynamics and Control Lab\n",
      "    path 8 = MAT 220 - Calculus I -> ENG 105IN - Intro to MATLAB I -> ENG 205IN - Intro to MATLAB II -> CHEE 201 - Elements of Chem and Envirn Eng I -> CHEE 202 - Elements of Chem Eng II -> CHEE 402 - Chem Eng Modeling -> CHEE 305 - Chem Eng Transport Phenom -> CHEE 301A - Chem Eng Lab I -> CHEE 301B - Chem Eng Lab II -> CHEE 401B - Process Dynamics and Control Lab\n",
      "\n"
     ]
    }
   ],
   "source": [
    "ChemE_xfer_curric_metrics = basic_metrics(ChemE_xfer.curriculum)\n",
    "println(String(take!(ChemE_xfer_curric_metrics)))"
   ]
  },
  {
   "cell_type": "code",
   "execution_count": 31,
   "metadata": {},
   "outputs": [
    {
     "name": "stdout",
     "output_type": "stream",
     "text": [
      "\n",
      "Curriculum: Chemical Engineering\n",
      "Degree Plan: 2019-20 Pima to UA Transfer Degree Plan\n",
      "  total credit hours = 138\n",
      "  number of terms = 10\n",
      "  max. credits in a term = 20, in term 4\n",
      "  min. credits in a term = 5, in term 10\n",
      "  avg. credits per term = 13.8, with std. dev. = 5.035871324805669\n",
      "\n"
     ]
    }
   ],
   "source": [
    "ChemE_xfer_dp_metrics = basic_metrics(ChemE_xfer)\n",
    "println(String(take!(ChemE_xfer_dp_metrics)))"
   ]
  },
  {
   "cell_type": "markdown",
   "metadata": {},
   "source": [
    "### Term-by-term Complexity Accumulation\n",
    "Below we consider how curricular complexity accumulates on a term-by-term basis for both non-transfer and transfer degree pathways. Courses having higher complexity are more important to complete earlier in any degree plan, as courses with high curricular complexity tend to be the most crucial courses in a curriculum. Thus, delaying the completion of high complexity courses can lead to a delay in graduation. The reason this is important to look at is because we have found that in some transfer degree plans, high complexity courses are pushed into latter terms, while student focus on completing general education core requirements. "
   ]
  },
  {
   "cell_type": "code",
   "execution_count": 32,
   "metadata": {},
   "outputs": [],
   "source": [
    "ChemE_complexity = complexity(ChemE.curriculum)\n",
    "ChemE_xfer_complexity = complexity(ChemE_xfer.curriculum)\n",
    "term_complexity = [0]; term_complexity_xfer = [0] \n",
    "sum = 0; sum_xfer = 0\n",
    "for term in ChemE.terms\n",
    "    for c in term.courses\n",
    "        sum += c.metrics[\"complexity\"]\n",
    "    end\n",
    "    push!(term_complexity,sum)\n",
    "end \n",
    "for term in ChemE_xfer.terms\n",
    "    for c in term.courses\n",
    "        sum_xfer += c.metrics[\"complexity\"]\n",
    "    end\n",
    "    push!(term_complexity_xfer,sum_xfer)\n",
    "end"
   ]
  },
  {
   "cell_type": "code",
   "execution_count": 33,
   "metadata": {},
   "outputs": [
    {
     "ename": "LoadError",
     "evalue": "UndefVarError: plot not defined",
     "output_type": "error",
     "traceback": [
      "UndefVarError: plot not defined",
      "",
      "Stacktrace:",
      " [1] top-level scope",
      "   @ In[33]:2",
      " [2] eval",
      "   @ ./boot.jl:373 [inlined]",
      " [3] include_string(mapexpr::typeof(REPL.softscope), mod::Module, code::String, filename::String)",
      "   @ Base ./loading.jl:1196"
     ]
    }
   ],
   "source": [
    "X1 = [i for i in 0:8]; Y1 = term_complexity\n",
    "plot(X1, Y1, seriestype = :line, xlabel = \"term\", ylabel=\"total complexity\", title=\"Curricular Complexity Accumulation\", \n",
    "    xticks=1:1:10, label=\"non-transfer\", legend=:right)\n",
    "X2 = [i for i in 0:10]; Y2 = term_complexity_xfer\n",
    "plot!(X2, Y2, seriestype = :line, label=\"transfer\")"
   ]
  },
  {
   "cell_type": "markdown",
   "metadata": {},
   "source": [
    "In the graph shown above, we see that for non-transfer students there is a fairly steady (i.e, almost linear) accumulation of curricular complexity from one term to the next. While in the transfer student plan, there is also a farily steady accumulation of complexity.  Given that the total complexity of the transfer program is greater than that of the non-tranfer program (a problem discussed above), the transfer line is always above the non-tranfer line; however, they both accumulate complexity at a similar rate.  "
   ]
  },
  {
   "cell_type": "code",
   "execution_count": 17,
   "metadata": {},
   "outputs": [
    {
     "ename": "LoadError",
     "evalue": "UndefVarError: AbstractGraph not defined",
     "output_type": "error",
     "traceback": [
      "UndefVarError: AbstractGraph not defined",
      "",
      "Stacktrace:",
      " [1] top-level scope",
      "   @ In[17]:1",
      " [2] eval",
      "   @ ./boot.jl:373 [inlined]",
      " [3] include_string(mapexpr::typeof(REPL.softscope), mod::Module, code::String, filename::String)",
      "   @ Base ./loading.jl:1196"
     ]
    }
   ],
   "source": [
    "function edge_crossings(g::AbstractGraph{T}, s::Int, d::Array{Int,1}) where T\n",
    "    total = 0\n",
    "    for v in d\n",
    "        has_edge(g, s, v) ? total += 1 : nothing\n",
    "    end\n",
    "    return total\n",
    "end\n",
    "\n",
    "function edge_crossings(g::AbstractGraph{T}, s::Array{Int,1}) where T\n",
    "    total = 0\n",
    "    d = convert(Array{Int,1}, vertices(g)) # collect the graph vertex ids in a integer array\n",
    "    filter!(x->x ∉ s, d)  # remove the vertex ids in s from d\n",
    "    for v in s\n",
    "        total += edge_crossings(g, v, d)\n",
    "    end\n",
    "    return total\n",
    "end"
   ]
  },
  {
   "cell_type": "code",
   "execution_count": null,
   "metadata": {
    "scrolled": false
   },
   "outputs": [],
   "source": [
    "function knowledge_transfer(dp::DegreePlan)\n",
    "    ec_terms = []\n",
    "    s = Array{Int64,1}()\n",
    "    for term in dp.terms\n",
    "        sum = 0\n",
    "        for c in term.courses\n",
    "            push!(s, c.vertex_id[dp.curriculum.id])\n",
    "        end\n",
    "        sum += edge_crossings(dp.curriculum.graph, s)\n",
    "        push!(ec_terms, sum)\n",
    "    end\n",
    "    return deleteat!(ec_terms, lastindex(ec_terms))\n",
    "end"
   ]
  },
  {
   "cell_type": "code",
   "execution_count": null,
   "metadata": {},
   "outputs": [],
   "source": [
    "X = repeat([\"$(i-1)-$(i)\" for i in 2:10], outer=2)\n",
    "Y = convert(Array{Int}, cat(knowledge_transfer(ChemE), [0,0], knowledge_transfer(ChemE_xfer), dims=1))\n",
    "student_type = repeat([\"non-transfer plan\", \"transfer plan\"], inner=9)\n",
    "\n",
    "groupedbar(X, Y, group=student_type, xlabel=\"term transition\", ylabel=\"requisite crossings\", \n",
    "           title = \"Knowledge Transfer between Terms\")"
   ]
  },
  {
   "cell_type": "code",
   "execution_count": null,
   "metadata": {},
   "outputs": [],
   "source": [
    "curric = ChemE.curriculum\n",
    "dp = optimize_plan(curric, 8, 12, 20, [balance_obj])\n",
    "visualize(dp, notebook=true)"
   ]
  },
  {
   "cell_type": "code",
   "execution_count": null,
   "metadata": {},
   "outputs": [],
   "source": [
    "PreEng = read_csv(\"./programs/Pima-PreEng5UA.csv\")\n",
    "visualize(PreEng, notebook=true, scale=0.85)"
   ]
  },
  {
   "cell_type": "code",
   "execution_count": null,
   "metadata": {
    "scrolled": false
   },
   "outputs": [],
   "source": [
    "curric = ChemE_xfer.curriculum\n",
    "dp_xfer = optimize_plan(curric, 12, 8, 21, req_distance_obj)\n",
    "visualize(dp_xfer, notebook=true)"
   ]
  },
  {
   "cell_type": "markdown",
   "metadata": {},
   "source": [
    "## References\n",
    "\n",
    "Heileman, G. L., Abdallah, C.T., Slim, A., and Hickman, M. (2018). Curricular analytics: A framework for quantifying the impact of curricular reforms and pedagogical innovations. www.arXiv.org, arXiv:1811.09676 [cs.CY].\n",
    "\n"
   ]
  },
  {
   "cell_type": "code",
   "execution_count": null,
   "metadata": {},
   "outputs": [],
   "source": []
  }
 ],
 "metadata": {
  "@webio": {
   "lastCommId": "a04eaf8746cf4bfa9058b240c3afe4f6",
   "lastKernelId": "e17d4db4-4ae3-426b-9f80-63a2fd7a64b7"
  },
  "kernelspec": {
   "display_name": "Julia 1.7.3",
   "language": "julia",
   "name": "julia-1.7"
  },
  "language_info": {
   "file_extension": ".jl",
   "mimetype": "application/julia",
   "name": "julia",
   "version": "1.7.3"
  }
 },
 "nbformat": 4,
 "nbformat_minor": 2
}
