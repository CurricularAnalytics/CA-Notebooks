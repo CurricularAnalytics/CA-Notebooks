{
 "cells": [
  {
   "cell_type": "markdown",
   "metadata": {},
   "source": [
    "# <center>Transfer Pathway Analyses at the University of Arizona</center>"
   ]
  },
  {
   "cell_type": "markdown",
   "metadata": {},
   "source": [
    "## Introduction\n",
    "In this notebook we consider a few of the transfer pathways from community colleges in the State of Arizona to bachelor's degree programs at the University of Arizona. Repeating the analyses provided here, other transfer pathways can easily be considered. Each analysis considers curriculum-based metrics on either side of the institutional boundary articulated in the transfer plan, as well as a comparion of the transfer (2-year-to-4-year) pathway versus the 4-year pathway that does not involve transfer articulation. \n",
    "\n",
    "The following Julia programming language packages are used in this notebook:"
   ]
  },
  {
   "cell_type": "code",
   "execution_count": 1,
   "metadata": {
    "scrolled": true
   },
   "outputs": [
    {
     "data": {
      "application/vnd.webio.node+json": {
       "children": [],
       "instanceArgs": {
        "namespace": "html",
        "tag": "div"
       },
       "nodeType": "DOM",
       "props": {},
       "type": "node"
      },
      "text/html": [
       "<div style=\"padding: 1em; background-color: #f8d6da; border: 1px solid #f5c6cb; font-weight: bold;\">\n",
       "<p>The WebIO Jupyter extension was not detected. See the\n",
       "<a href=\"https://juliagizmos.github.io/WebIO.jl/latest/providers/ijulia/\" target=\"_blank\">\n",
       "    WebIO Jupyter integration documentation\n",
       "</a>\n",
       "for more information.\n",
       "</div>\n"
      ],
      "text/plain": [
       "WebIO._IJuliaInit()"
      ]
     },
     "metadata": {
      "application/vnd.webio.node+json": {
       "kernelId": "3d4fac8b-cc24-4f67-b803-ef88e844262e"
      }
     },
     "output_type": "display_data"
    }
   ],
   "source": [
    "using CurricularAnalytics, CurricularVisualization\n",
    "using CurricularOptimization # add git@github.com:CurricularAnalytics/CurricularOptimization.jl.git\n",
    "using DataFrames\n",
    "using StatsBase\n",
    "using Plots\n",
    "using StatsPlots\n",
    "using CSV\n",
    "using LaTeXStrings\n",
    "using LightGraphs # remove this after new functions are added to toolbox"
   ]
  },
  {
   "cell_type": "markdown",
   "metadata": {},
   "source": [
    "## Pima CC-to-University of Arizona Transfer Pathways \n",
    "Let us first consider the completion pathways for the two populations of students involved in this study, transfer student and non-transfer students. In order to highlight the issues involved in this work, we have selected a few programs that have a high degree of curricular complexity. \n",
    "\n",
    "Consider first the Chemical Engineering program at the University of Arizona for non-transfer students:"
   ]
  },
  {
   "cell_type": "code",
   "execution_count": 2,
   "metadata": {
    "scrolled": false
   },
   "outputs": [
    {
     "data": {
      "application/vnd.webio.node+json": {
       "children": [
        {
         "children": [
          ""
         ],
         "instanceArgs": {
          "namespace": "html",
          "tag": "iframe"
         },
         "nodeType": "DOM",
         "props": {
          "events": {
           "load": "(function (){this.contentWindow.postMessage({\"options\":{\"hideTerms\":false,\"edit\":false},\"curriculum\":{\"name\":\"Chemical Engineering\",\"dp_name\":\"2019-20 Degree Plan\",\"curriculum_terms\":[{\"name\":\"Term 1\",\"curriculum_items\":[{\"curriculum_requisites\":[],\"name\":\"MATH 125\",\"metrics\":{\"centrality\":0,\"complexity\":37.0,\"blocking factor\":26,\"delay factor\":11.0},\"nameSub\":\"Calculus I w/ Applications\",\"id\":1,\"credits\":3,\"nameCanonical\":\"\"},{\"curriculum_requisites\":[],\"name\":\"CHEM 151\",\"metrics\":{\"centrality\":0,\"complexity\":31.0,\"blocking factor\":21,\"delay factor\":10.0},\"nameSub\":\"Gen Chemistry I\",\"id\":2,\"credits\":4,\"nameCanonical\":\"\"},{\"curriculum_requisites\":[],\"name\":\"ENGL 101\",\"metrics\":{\"centrality\":0,\"complexity\":3.0,\"blocking factor\":1,\"delay factor\":2.0},\"nameSub\":\"First-year Comp\",\"id\":3,\"credits\":3,\"nameCanonical\":\"\"},{\"curriculum_requisites\":[{\"source_id\":1,\"target_id\":4,\"type\":\"CurriculumCorequisite\"}],\"name\":\"ENGR 102\",\"metrics\":{\"centrality\":163,\"complexity\":25.0,\"blocking factor\":15,\"delay factor\":10.0},\"nameSub\":\"Intro to Engineering\",\"id\":4,\"credits\":3,\"nameCanonical\":\"\"},{\"curriculum_requisites\":[],\"name\":\" \",\"metrics\":{\"centrality\":0,\"complexity\":1.0,\"blocking factor\":0,\"delay factor\":1.0},\"nameSub\":\"Tier I General Ed\",\"id\":5,\"credits\":3,\"nameCanonical\":\"\"}],\"id\":1},{\"name\":\"Term 2\",\"curriculum_items\":[{\"curriculum_requisites\":[{\"source_id\":1,\"target_id\":6,\"type\":\"CurriculumPrerequisite\"}],\"name\":\"MATH 129\",\"metrics\":{\"centrality\":156,\"complexity\":26.0,\"blocking factor\":17,\"delay factor\":9.0},\"nameSub\":\"Calculus II\",\"id\":6,\"credits\":3,\"nameCanonical\":\"\"},{\"curriculum_requisites\":[{\"source_id\":2,\"target_id\":7,\"type\":\"CurriculumPrerequisite\"}],\"name\":\"CHEM 152\",\"metrics\":{\"centrality\":171,\"complexity\":28.0,\"blocking factor\":18,\"delay factor\":10.0},\"nameSub\":\"Gen Chemistry II\",\"id\":7,\"credits\":4,\"nameCanonical\":\"\"},{\"curriculum_requisites\":[{\"source_id\":1,\"target_id\":8,\"type\":\"CurriculumPrerequisite\"}],\"name\":\"PHYS 141\",\"metrics\":{\"centrality\":115,\"complexity\":25.0,\"blocking factor\":16,\"delay factor\":9.0},\"nameSub\":\"Intro Mechanics\",\"id\":8,\"credits\":4,\"nameCanonical\":\"\"},{\"curriculum_requisites\":[{\"source_id\":3,\"target_id\":9,\"type\":\"CurriculumPrerequisite\"}],\"name\":\"ENGL 102\",\"metrics\":{\"centrality\":0,\"complexity\":2.0,\"blocking factor\":0,\"delay factor\":2.0},\"nameSub\":\"First-year Comp.\",\"id\":9,\"credits\":3,\"nameCanonical\":\"\"},{\"curriculum_requisites\":[{\"source_id\":1,\"target_id\":10,\"type\":\"CurriculumCorequisite\"}],\"name\":\"AME 105\",\"metrics\":{\"centrality\":393,\"complexity\":28.0,\"blocking factor\":17,\"delay factor\":11.0},\"nameSub\":\"Intro to MATLAB I\",\"id\":10,\"credits\":1,\"nameCanonical\":\"\"}],\"id\":2},{\"name\":\"Term 3\",\"curriculum_items\":[{\"curriculum_requisites\":[{\"source_id\":4,\"target_id\":11,\"type\":\"CurriculumPrerequisite\"},{\"source_id\":47,\"target_id\":11,\"type\":\"CurriculumCorequisite\"},{\"source_id\":7,\"target_id\":11,\"type\":\"CurriculumPrerequisite\"},{\"source_id\":10,\"target_id\":11,\"type\":\"CurriculumPrerequisite\"},{\"source_id\":1,\"target_id\":11,\"type\":\"CurriculumPrerequisite\"}],\"name\":\"CHEE 201\",\"metrics\":{\"centrality\":815,\"complexity\":25.0,\"blocking factor\":14,\"delay factor\":11.0},\"nameSub\":\"Elements of Chem and Envirn Eng I\",\"id\":11,\"credits\":3,\"nameCanonical\":\"\"},{\"curriculum_requisites\":[{\"source_id\":10,\"target_id\":12,\"type\":\"CurriculumCorequisite\"},{\"source_id\":1,\"target_id\":12,\"type\":\"CurriculumPrerequisite\"}],\"name\":\"CHEE 201L\",\"metrics\":{\"centrality\":86,\"complexity\":17.0,\"blocking factor\":8,\"delay factor\":9.0},\"nameSub\":\"Elements of Chem and Envirn Eng I Lab\",\"id\":12,\"credits\":1,\"nameCanonical\":\"\"},{\"curriculum_requisites\":[{\"source_id\":6,\"target_id\":13,\"type\":\"CurriculumPrerequisite\"}],\"name\":\"MATH  223\",\"metrics\":{\"centrality\":0,\"complexity\":3.0,\"blocking factor\":0,\"delay factor\":3.0},\"nameSub\":\"Vector Calculus\",\"id\":13,\"credits\":4,\"nameCanonical\":\"\"},{\"curriculum_requisites\":[{\"source_id\":7,\"target_id\":14,\"type\":\"CurriculumPrerequisite\"}],\"name\":\"CHEM  241A\",\"metrics\":{\"centrality\":8,\"complexity\":6.0,\"blocking factor\":2,\"delay factor\":4.0},\"nameSub\":\"Lectures in Org Chem\",\"id\":14,\"credits\":3,\"nameCanonical\":\"\"},{\"curriculum_requisites\":[{\"source_id\":14,\"target_id\":15,\"type\":\"CurriculumCorequisite\"}],\"name\":\"CHEM  243A\",\"metrics\":{\"centrality\":0,\"complexity\":4.0,\"blocking factor\":0,\"delay factor\":4.0},\"nameSub\":\"Org Chem Lab\",\"id\":15,\"credits\":1,\"nameCanonical\":\"\"},{\"curriculum_requisites\":[],\"name\":\" \",\"metrics\":{\"centrality\":0,\"complexity\":1.0,\"blocking factor\":0,\"delay factor\":1.0},\"nameSub\":\"Tier I General Ed\",\"id\":16,\"credits\":3,\"nameCanonical\":\"\"},{\"curriculum_requisites\":[{\"source_id\":10,\"target_id\":47,\"type\":\"CurriculumPrerequisite\"}],\"name\":\"AME 205\",\"metrics\":{\"centrality\":184,\"complexity\":26.0,\"blocking factor\":15,\"delay factor\":11.0},\"nameSub\":\"Intro to MATLAB II\",\"id\":47,\"credits\":1,\"nameCanonical\":\"\"}],\"id\":3},{\"name\":\"Term 4\",\"curriculum_items\":[{\"curriculum_requisites\":[{\"source_id\":11,\"target_id\":17,\"type\":\"CurriculumPrerequisite\"},{\"source_id\":12,\"target_id\":17,\"type\":\"CurriculumPrerequisite\"},{\"source_id\":19,\"target_id\":17,\"type\":\"CurriculumCorequisite\"}],\"name\":\"CHEE 202\",\"metrics\":{\"centrality\":362,\"complexity\":17.0,\"blocking factor\":7,\"delay factor\":10.0},\"nameSub\":\"Elements of Chem Eng II\",\"id\":17,\"credits\":4,\"nameCanonical\":\"\"},{\"curriculum_requisites\":[{\"source_id\":11,\"target_id\":18,\"type\":\"CurriculumPrerequisite\"},{\"source_id\":8,\"target_id\":18,\"type\":\"CurriculumPrerequisite\"}],\"name\":\"CHEE 203\",\"metrics\":{\"centrality\":529,\"complexity\":21.0,\"blocking factor\":10,\"delay factor\":11.0},\"nameSub\":\"Chem Eng Heat Xfer & Fluid Flow\",\"id\":18,\"credits\":3,\"nameCanonical\":\"\"},{\"curriculum_requisites\":[{\"source_id\":6,\"target_id\":19,\"type\":\"CurriculumPrerequisite\"}],\"name\":\"MATH 254\",\"metrics\":{\"centrality\":86,\"complexity\":17.0,\"blocking factor\":8,\"delay factor\":9.0},\"nameSub\":\"Intro to ODEs\",\"id\":19,\"credits\":3,\"nameCanonical\":\"\"},{\"curriculum_requisites\":[{\"source_id\":6,\"target_id\":20,\"type\":\"CurriculumPrerequisite\"},{\"source_id\":8,\"target_id\":20,\"type\":\"CurriculumPrerequisite\"}],\"name\":\"PHYS 241\",\"metrics\":{\"centrality\":72,\"complexity\":17.0,\"blocking factor\":9,\"delay factor\":8.0},\"nameSub\":\"Electricity & Magnetism\",\"id\":20,\"credits\":4,\"nameCanonical\":\"\"},{\"curriculum_requisites\":[{\"source_id\":14,\"target_id\":21,\"type\":\"CurriculumPrerequisite\"}],\"name\":\"CHEM 241B\",\"metrics\":{\"centrality\":0,\"complexity\":4.0,\"blocking factor\":0,\"delay factor\":4.0},\"nameSub\":\"Lectures in Org Chem\",\"id\":21,\"credits\":3,\"nameCanonical\":\"\"}],\"id\":4},{\"name\":\"Term 5\",\"curriculum_items\":[{\"curriculum_requisites\":[{\"source_id\":18,\"target_id\":22,\"type\":\"CurriculumPrerequisite\"}],\"name\":\"CHEE 303\",\"metrics\":{\"centrality\":447,\"complexity\":20.0,\"blocking factor\":9,\"delay factor\":11.0},\"nameSub\":\"Chem Eng Mass Xfer\",\"id\":22,\"credits\":3,\"nameCanonical\":\"\"},{\"curriculum_requisites\":[{\"source_id\":22,\"target_id\":23,\"type\":\"CurriculumStrictCorequisite\"},{\"source_id\":17,\"target_id\":23,\"type\":\"CurriculumPrerequisite\"},{\"source_id\":19,\"target_id\":23,\"type\":\"CurriculumPrerequisite\"}],\"name\":\"CHEE 402\",\"metrics\":{\"centrality\":492,\"complexity\":17.0,\"blocking factor\":6,\"delay factor\":11.0},\"nameSub\":\"Chem Eng Modeling\",\"id\":23,\"credits\":3,\"nameCanonical\":\"\"},{\"curriculum_requisites\":[{\"source_id\":22,\"target_id\":24,\"type\":\"CurriculumStrictCorequisite\"},{\"source_id\":18,\"target_id\":24,\"type\":\"CurriculumPrerequisite\"},{\"source_id\":17,\"target_id\":24,\"type\":\"CurriculumPrerequisite\"},{\"source_id\":23,\"target_id\":24,\"type\":\"CurriculumStrictCorequisite\"},{\"source_id\":19,\"target_id\":24,\"type\":\"CurriculumPrerequisite\"}],\"name\":\"CHEE 301A\",\"metrics\":{\"centrality\":544,\"complexity\":14.0,\"blocking factor\":3,\"delay factor\":11.0},\"nameSub\":\"Chem Eng Lab I\",\"id\":24,\"credits\":1,\"nameCanonical\":\"\"},{\"curriculum_requisites\":[],\"name\":\"CHEE 489\",\"metrics\":{\"centrality\":0,\"complexity\":1.0,\"blocking factor\":0,\"delay factor\":1.0},\"nameSub\":\"Trends in Nanomedicine Eng\",\"id\":25,\"credits\":3,\"nameCanonical\":\"\"},{\"curriculum_requisites\":[{\"source_id\":6,\"target_id\":26,\"type\":\"CurriculumPrerequisite\"},{\"source_id\":20,\"target_id\":26,\"type\":\"CurriculumCorequisite\"},{\"source_id\":2,\"target_id\":26,\"type\":\"CurriculumPrerequisite\"}],\"name\":\"CHEM 480A\",\"metrics\":{\"centrality\":129,\"complexity\":16.0,\"blocking factor\":8,\"delay factor\":8.0},\"nameSub\":\"Physical Chem\",\"id\":26,\"credits\":3,\"nameCanonical\":\"\"},{\"curriculum_requisites\":[],\"name\":\" \",\"metrics\":{\"centrality\":0,\"complexity\":1.0,\"blocking factor\":0,\"delay factor\":1.0},\"nameSub\":\"Tier I General Ed\",\"id\":27,\"credits\":3,\"nameCanonical\":\"\"}],\"id\":5},{\"name\":\"Term 6\",\"curriculum_items\":[{\"curriculum_requisites\":[{\"source_id\":22,\"target_id\":28,\"type\":\"CurriculumPrerequisite\"},{\"source_id\":23,\"target_id\":28,\"type\":\"CurriculumPrerequisite\"}],\"name\":\"CHEE 305\",\"metrics\":{\"centrality\":191,\"complexity\":14.0,\"blocking factor\":3,\"delay factor\":11.0},\"nameSub\":\"Chem Eng Transport Phenom\",\"id\":28,\"credits\":3,\"nameCanonical\":\"\"},{\"curriculum_requisites\":[{\"source_id\":11,\"target_id\":29,\"type\":\"CurriculumPrerequisite\"},{\"source_id\":26,\"target_id\":29,\"type\":\"CurriculumPrerequisite\"}],\"name\":\"CHEE 326\",\"metrics\":{\"centrality\":247,\"complexity\":14.0,\"blocking factor\":6,\"delay factor\":8.0},\"nameSub\":\"Chem & Phys Equilibrium\",\"id\":29,\"credits\":3,\"nameCanonical\":\"\"},{\"curriculum_requisites\":[{\"source_id\":22,\"target_id\":31,\"type\":\"CurriculumPrerequisite\"},{\"source_id\":29,\"target_id\":31,\"type\":\"CurriculumStrictCorequisite\"},{\"source_id\":24,\"target_id\":31,\"type\":\"CurriculumPrerequisite\"},{\"source_id\":28,\"target_id\":31,\"type\":\"CurriculumStrictCorequisite\"}],\"name\":\"CHEE 301B\",\"metrics\":{\"centrality\":610,\"complexity\":13.0,\"blocking factor\":2,\"delay factor\":11.0},\"nameSub\":\"Chem Eng Lab II\",\"id\":31,\"credits\":1,\"nameCanonical\":\"\"},{\"curriculum_requisites\":[],\"name\":\" \",\"metrics\":{\"centrality\":0,\"complexity\":1.0,\"blocking factor\":0,\"delay factor\":1.0},\"nameSub\":\"Engineering Elective\",\"id\":32,\"credits\":3,\"nameCanonical\":\"\"},{\"curriculum_requisites\":[],\"name\":\" \",\"metrics\":{\"centrality\":0,\"complexity\":1.0,\"blocking factor\":0,\"delay factor\":1.0},\"nameSub\":\"Technical Elective\",\"id\":33,\"credits\":3,\"nameCanonical\":\"\"},{\"curriculum_requisites\":[],\"name\":\" \",\"metrics\":{\"centrality\":0,\"complexity\":1.0,\"blocking factor\":0,\"delay factor\":1.0},\"nameSub\":\"Tier I General Ed\",\"id\":34,\"credits\":3,\"nameCanonical\":\"\"}],\"id\":6},{\"name\":\"Term 7\",\"curriculum_items\":[{\"curriculum_requisites\":[{\"source_id\":29,\"target_id\":35,\"type\":\"CurriculumPrerequisite\"}],\"name\":\"CHEE 420\",\"metrics\":{\"centrality\":128,\"complexity\":12.0,\"blocking factor\":4,\"delay factor\":8.0},\"nameSub\":\"Chem Reaction Eng\",\"id\":35,\"credits\":3,\"nameCanonical\":\"\"},{\"curriculum_requisites\":[{\"source_id\":22,\"target_id\":36,\"type\":\"CurriculumPrerequisite\"},{\"source_id\":29,\"target_id\":36,\"type\":\"CurriculumPrerequisite\"},{\"source_id\":35,\"target_id\":36,\"type\":\"CurriculumStrictCorequisite\"}],\"name\":\"CHEE 442\",\"metrics\":{\"centrality\":160,\"complexity\":9.0,\"blocking factor\":1,\"delay factor\":8.0},\"nameSub\":\"Chem Eng Design Principles\",\"id\":36,\"credits\":3,\"nameCanonical\":\"\"},{\"curriculum_requisites\":[{\"source_id\":35,\"target_id\":37,\"type\":\"CurriculumCorequisite\"},{\"source_id\":31,\"target_id\":37,\"type\":\"CurriculumPrerequisite\"}],\"name\":\"CHEE 401A\",\"metrics\":{\"centrality\":674,\"complexity\":12.0,\"blocking factor\":1,\"delay factor\":11.0},\"nameSub\":\"Chem and Enviorn Eng Lab I\",\"id\":37,\"credits\":1,\"nameCanonical\":\"\"},{\"curriculum_requisites\":[],\"name\":\" \",\"metrics\":{\"centrality\":0,\"complexity\":1.0,\"blocking factor\":0,\"delay factor\":1.0},\"nameSub\":\"Engineering Elective\",\"id\":38,\"credits\":3,\"nameCanonical\":\"\"},{\"curriculum_requisites\":[{\"source_id\":26,\"target_id\":39,\"type\":\"CurriculumPrerequisite\"}],\"name\":\"CHEM 480B\",\"metrics\":{\"centrality\":0,\"complexity\":5.0,\"blocking factor\":0,\"delay factor\":5.0},\"nameSub\":\"Physical Chem\",\"id\":39,\"credits\":3,\"nameCanonical\":\"\"},{\"curriculum_requisites\":[],\"name\":\" \",\"metrics\":{\"centrality\":0,\"complexity\":1.0,\"blocking factor\":0,\"delay factor\":1.0},\"nameSub\":\"Tier II General Ed\",\"id\":40,\"credits\":3,\"nameCanonical\":\"\"}],\"id\":7},{\"name\":\"Term 8\",\"curriculum_items\":[{\"curriculum_requisites\":[{\"source_id\":23,\"target_id\":41,\"type\":\"CurriculumPrerequisite\"}],\"name\":\"CHEE 413\",\"metrics\":{\"centrality\":108,\"complexity\":10.0,\"blocking factor\":1,\"delay factor\":9.0},\"nameSub\":\"Process Control and Simulation\",\"id\":41,\"credits\":3,\"nameCanonical\":\"\"},{\"curriculum_requisites\":[{\"source_id\":41,\"target_id\":42,\"type\":\"CurriculumCorequisite\"},{\"source_id\":24,\"target_id\":42,\"type\":\"CurriculumPrerequisite\"},{\"source_id\":37,\"target_id\":42,\"type\":\"CurriculumPrerequisite\"}],\"name\":\"CHEE 401B\",\"metrics\":{\"centrality\":0,\"complexity\":11.0,\"blocking factor\":0,\"delay factor\":11.0},\"nameSub\":\"Process Dynamics and Control Lab\",\"id\":42,\"credits\":1,\"nameCanonical\":\"\"},{\"curriculum_requisites\":[{\"source_id\":36,\"target_id\":43,\"type\":\"CurriculumPrerequisite\"}],\"name\":\"CHEE 443\",\"metrics\":{\"centrality\":0,\"complexity\":8.0,\"blocking factor\":0,\"delay factor\":8.0},\"nameSub\":\"Chem Eng Plant Design\",\"id\":43,\"credits\":3,\"nameCanonical\":\"\"},{\"curriculum_requisites\":[],\"name\":\" \",\"metrics\":{\"centrality\":0,\"complexity\":1.0,\"blocking factor\":0,\"delay factor\":1.0},\"nameSub\":\"Engineering Elective\",\"id\":44,\"credits\":3,\"nameCanonical\":\"\"},{\"curriculum_requisites\":[],\"name\":\" \",\"metrics\":{\"centrality\":0,\"complexity\":1.0,\"blocking factor\":0,\"delay factor\":1.0},\"nameSub\":\"Technical Elective\",\"id\":45,\"credits\":3,\"nameCanonical\":\"\"},{\"curriculum_requisites\":[],\"name\":\" \",\"metrics\":{\"centrality\":0,\"complexity\":1.0,\"blocking factor\":0,\"delay factor\":1.0},\"nameSub\":\"Tier II General Ed\",\"id\":46,\"credits\":3,\"nameCanonical\":\"\"}],\"id\":8}],\"institution\":\"University of Arizona\"}},\"*\"); window.removeEventListener(\"message\",window.messageReceived); window.messageReceived=(function (event){return (event.data.curriculum!==undefined) ? (WebIO.setval({\"name\":\"curriculum-data\",\"scope\":\"5426817702231385772\",\"id\":\"636619012853829417\",\"type\":\"observable\"},event.data.curriculum)) : undefined}); return window.addEventListener(\"message\",window.messageReceived)})"
          },
          "id": "curriculum",
          "src": "https://curricula-api-embed.damoursystems.com/",
          "style": {
           "border": "none",
           "height": "85vh",
           "margin": "0",
           "padding": "0",
           "width": "100%"
          }
         },
         "type": "node"
        }
       ],
       "instanceArgs": {
        "handlers": {},
        "id": "5426817702231385772",
        "imports": {
         "data": [],
         "type": "async_block"
        },
        "mount_callbacks": [],
        "observables": {
         "curriculum-data": {
          "id": "636619012853829417",
          "sync": true,
          "value": {
           "curriculum": {
            "curriculum_terms": [
             {
              "curriculum_items": [
               {
                "credits": 3,
                "curriculum_requisites": [],
                "id": 1,
                "metrics": {
                 "blocking factor": 26,
                 "centrality": 0,
                 "complexity": 37,
                 "delay factor": 11
                },
                "name": "MATH 125",
                "nameCanonical": "",
                "nameSub": "Calculus I w/ Applications"
               },
               {
                "credits": 4,
                "curriculum_requisites": [],
                "id": 2,
                "metrics": {
                 "blocking factor": 21,
                 "centrality": 0,
                 "complexity": 31,
                 "delay factor": 10
                },
                "name": "CHEM 151",
                "nameCanonical": "",
                "nameSub": "Gen Chemistry I"
               },
               {
                "credits": 3,
                "curriculum_requisites": [],
                "id": 3,
                "metrics": {
                 "blocking factor": 1,
                 "centrality": 0,
                 "complexity": 3,
                 "delay factor": 2
                },
                "name": "ENGL 101",
                "nameCanonical": "",
                "nameSub": "First-year Comp"
               },
               {
                "credits": 3,
                "curriculum_requisites": [
                 {
                  "source_id": 1,
                  "target_id": 4,
                  "type": "CurriculumCorequisite"
                 }
                ],
                "id": 4,
                "metrics": {
                 "blocking factor": 15,
                 "centrality": 163,
                 "complexity": 25,
                 "delay factor": 10
                },
                "name": "ENGR 102",
                "nameCanonical": "",
                "nameSub": "Intro to Engineering"
               },
               {
                "credits": 3,
                "curriculum_requisites": [],
                "id": 5,
                "metrics": {
                 "blocking factor": 0,
                 "centrality": 0,
                 "complexity": 1,
                 "delay factor": 1
                },
                "name": " ",
                "nameCanonical": "",
                "nameSub": "Tier I General Ed"
               }
              ],
              "id": 1,
              "name": "Term 1"
             },
             {
              "curriculum_items": [
               {
                "credits": 3,
                "curriculum_requisites": [
                 {
                  "source_id": 1,
                  "target_id": 6,
                  "type": "CurriculumPrerequisite"
                 }
                ],
                "id": 6,
                "metrics": {
                 "blocking factor": 17,
                 "centrality": 156,
                 "complexity": 26,
                 "delay factor": 9
                },
                "name": "MATH 129",
                "nameCanonical": "",
                "nameSub": "Calculus II"
               },
               {
                "credits": 4,
                "curriculum_requisites": [
                 {
                  "source_id": 2,
                  "target_id": 7,
                  "type": "CurriculumPrerequisite"
                 }
                ],
                "id": 7,
                "metrics": {
                 "blocking factor": 18,
                 "centrality": 171,
                 "complexity": 28,
                 "delay factor": 10
                },
                "name": "CHEM 152",
                "nameCanonical": "",
                "nameSub": "Gen Chemistry II"
               },
               {
                "credits": 4,
                "curriculum_requisites": [
                 {
                  "source_id": 1,
                  "target_id": 8,
                  "type": "CurriculumPrerequisite"
                 }
                ],
                "id": 8,
                "metrics": {
                 "blocking factor": 16,
                 "centrality": 115,
                 "complexity": 25,
                 "delay factor": 9
                },
                "name": "PHYS 141",
                "nameCanonical": "",
                "nameSub": "Intro Mechanics"
               },
               {
                "credits": 3,
                "curriculum_requisites": [
                 {
                  "source_id": 3,
                  "target_id": 9,
                  "type": "CurriculumPrerequisite"
                 }
                ],
                "id": 9,
                "metrics": {
                 "blocking factor": 0,
                 "centrality": 0,
                 "complexity": 2,
                 "delay factor": 2
                },
                "name": "ENGL 102",
                "nameCanonical": "",
                "nameSub": "First-year Comp."
               },
               {
                "credits": 1,
                "curriculum_requisites": [
                 {
                  "source_id": 1,
                  "target_id": 10,
                  "type": "CurriculumCorequisite"
                 }
                ],
                "id": 10,
                "metrics": {
                 "blocking factor": 17,
                 "centrality": 393,
                 "complexity": 28,
                 "delay factor": 11
                },
                "name": "AME 105",
                "nameCanonical": "",
                "nameSub": "Intro to MATLAB I"
               }
              ],
              "id": 2,
              "name": "Term 2"
             },
             {
              "curriculum_items": [
               {
                "credits": 3,
                "curriculum_requisites": [
                 {
                  "source_id": 4,
                  "target_id": 11,
                  "type": "CurriculumPrerequisite"
                 },
                 {
                  "source_id": 47,
                  "target_id": 11,
                  "type": "CurriculumCorequisite"
                 },
                 {
                  "source_id": 7,
                  "target_id": 11,
                  "type": "CurriculumPrerequisite"
                 },
                 {
                  "source_id": 10,
                  "target_id": 11,
                  "type": "CurriculumPrerequisite"
                 },
                 {
                  "source_id": 1,
                  "target_id": 11,
                  "type": "CurriculumPrerequisite"
                 }
                ],
                "id": 11,
                "metrics": {
                 "blocking factor": 14,
                 "centrality": 815,
                 "complexity": 25,
                 "delay factor": 11
                },
                "name": "CHEE 201",
                "nameCanonical": "",
                "nameSub": "Elements of Chem and Envirn Eng I"
               },
               {
                "credits": 1,
                "curriculum_requisites": [
                 {
                  "source_id": 10,
                  "target_id": 12,
                  "type": "CurriculumCorequisite"
                 },
                 {
                  "source_id": 1,
                  "target_id": 12,
                  "type": "CurriculumPrerequisite"
                 }
                ],
                "id": 12,
                "metrics": {
                 "blocking factor": 8,
                 "centrality": 86,
                 "complexity": 17,
                 "delay factor": 9
                },
                "name": "CHEE 201L",
                "nameCanonical": "",
                "nameSub": "Elements of Chem and Envirn Eng I Lab"
               },
               {
                "credits": 4,
                "curriculum_requisites": [
                 {
                  "source_id": 6,
                  "target_id": 13,
                  "type": "CurriculumPrerequisite"
                 }
                ],
                "id": 13,
                "metrics": {
                 "blocking factor": 0,
                 "centrality": 0,
                 "complexity": 3,
                 "delay factor": 3
                },
                "name": "MATH  223",
                "nameCanonical": "",
                "nameSub": "Vector Calculus"
               },
               {
                "credits": 3,
                "curriculum_requisites": [
                 {
                  "source_id": 7,
                  "target_id": 14,
                  "type": "CurriculumPrerequisite"
                 }
                ],
                "id": 14,
                "metrics": {
                 "blocking factor": 2,
                 "centrality": 8,
                 "complexity": 6,
                 "delay factor": 4
                },
                "name": "CHEM  241A",
                "nameCanonical": "",
                "nameSub": "Lectures in Org Chem"
               },
               {
                "credits": 1,
                "curriculum_requisites": [
                 {
                  "source_id": 14,
                  "target_id": 15,
                  "type": "CurriculumCorequisite"
                 }
                ],
                "id": 15,
                "metrics": {
                 "blocking factor": 0,
                 "centrality": 0,
                 "complexity": 4,
                 "delay factor": 4
                },
                "name": "CHEM  243A",
                "nameCanonical": "",
                "nameSub": "Org Chem Lab"
               },
               {
                "credits": 3,
                "curriculum_requisites": [],
                "id": 16,
                "metrics": {
                 "blocking factor": 0,
                 "centrality": 0,
                 "complexity": 1,
                 "delay factor": 1
                },
                "name": " ",
                "nameCanonical": "",
                "nameSub": "Tier I General Ed"
               },
               {
                "credits": 1,
                "curriculum_requisites": [
                 {
                  "source_id": 10,
                  "target_id": 47,
                  "type": "CurriculumPrerequisite"
                 }
                ],
                "id": 47,
                "metrics": {
                 "blocking factor": 15,
                 "centrality": 184,
                 "complexity": 26,
                 "delay factor": 11
                },
                "name": "AME 205",
                "nameCanonical": "",
                "nameSub": "Intro to MATLAB II"
               }
              ],
              "id": 3,
              "name": "Term 3"
             },
             {
              "curriculum_items": [
               {
                "credits": 4,
                "curriculum_requisites": [
                 {
                  "source_id": 11,
                  "target_id": 17,
                  "type": "CurriculumPrerequisite"
                 },
                 {
                  "source_id": 12,
                  "target_id": 17,
                  "type": "CurriculumPrerequisite"
                 },
                 {
                  "source_id": 19,
                  "target_id": 17,
                  "type": "CurriculumCorequisite"
                 }
                ],
                "id": 17,
                "metrics": {
                 "blocking factor": 7,
                 "centrality": 362,
                 "complexity": 17,
                 "delay factor": 10
                },
                "name": "CHEE 202",
                "nameCanonical": "",
                "nameSub": "Elements of Chem Eng II"
               },
               {
                "credits": 3,
                "curriculum_requisites": [
                 {
                  "source_id": 11,
                  "target_id": 18,
                  "type": "CurriculumPrerequisite"
                 },
                 {
                  "source_id": 8,
                  "target_id": 18,
                  "type": "CurriculumPrerequisite"
                 }
                ],
                "id": 18,
                "metrics": {
                 "blocking factor": 10,
                 "centrality": 529,
                 "complexity": 21,
                 "delay factor": 11
                },
                "name": "CHEE 203",
                "nameCanonical": "",
                "nameSub": "Chem Eng Heat Xfer & Fluid Flow"
               },
               {
                "credits": 3,
                "curriculum_requisites": [
                 {
                  "source_id": 6,
                  "target_id": 19,
                  "type": "CurriculumPrerequisite"
                 }
                ],
                "id": 19,
                "metrics": {
                 "blocking factor": 8,
                 "centrality": 86,
                 "complexity": 17,
                 "delay factor": 9
                },
                "name": "MATH 254",
                "nameCanonical": "",
                "nameSub": "Intro to ODEs"
               },
               {
                "credits": 4,
                "curriculum_requisites": [
                 {
                  "source_id": 6,
                  "target_id": 20,
                  "type": "CurriculumPrerequisite"
                 },
                 {
                  "source_id": 8,
                  "target_id": 20,
                  "type": "CurriculumPrerequisite"
                 }
                ],
                "id": 20,
                "metrics": {
                 "blocking factor": 9,
                 "centrality": 72,
                 "complexity": 17,
                 "delay factor": 8
                },
                "name": "PHYS 241",
                "nameCanonical": "",
                "nameSub": "Electricity & Magnetism"
               },
               {
                "credits": 3,
                "curriculum_requisites": [
                 {
                  "source_id": 14,
                  "target_id": 21,
                  "type": "CurriculumPrerequisite"
                 }
                ],
                "id": 21,
                "metrics": {
                 "blocking factor": 0,
                 "centrality": 0,
                 "complexity": 4,
                 "delay factor": 4
                },
                "name": "CHEM 241B",
                "nameCanonical": "",
                "nameSub": "Lectures in Org Chem"
               }
              ],
              "id": 4,
              "name": "Term 4"
             },
             {
              "curriculum_items": [
               {
                "credits": 3,
                "curriculum_requisites": [
                 {
                  "source_id": 18,
                  "target_id": 22,
                  "type": "CurriculumPrerequisite"
                 }
                ],
                "id": 22,
                "metrics": {
                 "blocking factor": 9,
                 "centrality": 447,
                 "complexity": 20,
                 "delay factor": 11
                },
                "name": "CHEE 303",
                "nameCanonical": "",
                "nameSub": "Chem Eng Mass Xfer"
               },
               {
                "credits": 3,
                "curriculum_requisites": [
                 {
                  "source_id": 22,
                  "target_id": 23,
                  "type": "CurriculumStrictCorequisite"
                 },
                 {
                  "source_id": 17,
                  "target_id": 23,
                  "type": "CurriculumPrerequisite"
                 },
                 {
                  "source_id": 19,
                  "target_id": 23,
                  "type": "CurriculumPrerequisite"
                 }
                ],
                "id": 23,
                "metrics": {
                 "blocking factor": 6,
                 "centrality": 492,
                 "complexity": 17,
                 "delay factor": 11
                },
                "name": "CHEE 402",
                "nameCanonical": "",
                "nameSub": "Chem Eng Modeling"
               },
               {
                "credits": 1,
                "curriculum_requisites": [
                 {
                  "source_id": 22,
                  "target_id": 24,
                  "type": "CurriculumStrictCorequisite"
                 },
                 {
                  "source_id": 18,
                  "target_id": 24,
                  "type": "CurriculumPrerequisite"
                 },
                 {
                  "source_id": 17,
                  "target_id": 24,
                  "type": "CurriculumPrerequisite"
                 },
                 {
                  "source_id": 23,
                  "target_id": 24,
                  "type": "CurriculumStrictCorequisite"
                 },
                 {
                  "source_id": 19,
                  "target_id": 24,
                  "type": "CurriculumPrerequisite"
                 }
                ],
                "id": 24,
                "metrics": {
                 "blocking factor": 3,
                 "centrality": 544,
                 "complexity": 14,
                 "delay factor": 11
                },
                "name": "CHEE 301A",
                "nameCanonical": "",
                "nameSub": "Chem Eng Lab I"
               },
               {
                "credits": 3,
                "curriculum_requisites": [],
                "id": 25,
                "metrics": {
                 "blocking factor": 0,
                 "centrality": 0,
                 "complexity": 1,
                 "delay factor": 1
                },
                "name": "CHEE 489",
                "nameCanonical": "",
                "nameSub": "Trends in Nanomedicine Eng"
               },
               {
                "credits": 3,
                "curriculum_requisites": [
                 {
                  "source_id": 6,
                  "target_id": 26,
                  "type": "CurriculumPrerequisite"
                 },
                 {
                  "source_id": 20,
                  "target_id": 26,
                  "type": "CurriculumCorequisite"
                 },
                 {
                  "source_id": 2,
                  "target_id": 26,
                  "type": "CurriculumPrerequisite"
                 }
                ],
                "id": 26,
                "metrics": {
                 "blocking factor": 8,
                 "centrality": 129,
                 "complexity": 16,
                 "delay factor": 8
                },
                "name": "CHEM 480A",
                "nameCanonical": "",
                "nameSub": "Physical Chem"
               },
               {
                "credits": 3,
                "curriculum_requisites": [],
                "id": 27,
                "metrics": {
                 "blocking factor": 0,
                 "centrality": 0,
                 "complexity": 1,
                 "delay factor": 1
                },
                "name": " ",
                "nameCanonical": "",
                "nameSub": "Tier I General Ed"
               }
              ],
              "id": 5,
              "name": "Term 5"
             },
             {
              "curriculum_items": [
               {
                "credits": 3,
                "curriculum_requisites": [
                 {
                  "source_id": 22,
                  "target_id": 28,
                  "type": "CurriculumPrerequisite"
                 },
                 {
                  "source_id": 23,
                  "target_id": 28,
                  "type": "CurriculumPrerequisite"
                 }
                ],
                "id": 28,
                "metrics": {
                 "blocking factor": 3,
                 "centrality": 191,
                 "complexity": 14,
                 "delay factor": 11
                },
                "name": "CHEE 305",
                "nameCanonical": "",
                "nameSub": "Chem Eng Transport Phenom"
               },
               {
                "credits": 3,
                "curriculum_requisites": [
                 {
                  "source_id": 11,
                  "target_id": 29,
                  "type": "CurriculumPrerequisite"
                 },
                 {
                  "source_id": 26,
                  "target_id": 29,
                  "type": "CurriculumPrerequisite"
                 }
                ],
                "id": 29,
                "metrics": {
                 "blocking factor": 6,
                 "centrality": 247,
                 "complexity": 14,
                 "delay factor": 8
                },
                "name": "CHEE 326",
                "nameCanonical": "",
                "nameSub": "Chem & Phys Equilibrium"
               },
               {
                "credits": 1,
                "curriculum_requisites": [
                 {
                  "source_id": 22,
                  "target_id": 31,
                  "type": "CurriculumPrerequisite"
                 },
                 {
                  "source_id": 29,
                  "target_id": 31,
                  "type": "CurriculumStrictCorequisite"
                 },
                 {
                  "source_id": 24,
                  "target_id": 31,
                  "type": "CurriculumPrerequisite"
                 },
                 {
                  "source_id": 28,
                  "target_id": 31,
                  "type": "CurriculumStrictCorequisite"
                 }
                ],
                "id": 31,
                "metrics": {
                 "blocking factor": 2,
                 "centrality": 610,
                 "complexity": 13,
                 "delay factor": 11
                },
                "name": "CHEE 301B",
                "nameCanonical": "",
                "nameSub": "Chem Eng Lab II"
               },
               {
                "credits": 3,
                "curriculum_requisites": [],
                "id": 32,
                "metrics": {
                 "blocking factor": 0,
                 "centrality": 0,
                 "complexity": 1,
                 "delay factor": 1
                },
                "name": " ",
                "nameCanonical": "",
                "nameSub": "Engineering Elective"
               },
               {
                "credits": 3,
                "curriculum_requisites": [],
                "id": 33,
                "metrics": {
                 "blocking factor": 0,
                 "centrality": 0,
                 "complexity": 1,
                 "delay factor": 1
                },
                "name": " ",
                "nameCanonical": "",
                "nameSub": "Technical Elective"
               },
               {
                "credits": 3,
                "curriculum_requisites": [],
                "id": 34,
                "metrics": {
                 "blocking factor": 0,
                 "centrality": 0,
                 "complexity": 1,
                 "delay factor": 1
                },
                "name": " ",
                "nameCanonical": "",
                "nameSub": "Tier I General Ed"
               }
              ],
              "id": 6,
              "name": "Term 6"
             },
             {
              "curriculum_items": [
               {
                "credits": 3,
                "curriculum_requisites": [
                 {
                  "source_id": 29,
                  "target_id": 35,
                  "type": "CurriculumPrerequisite"
                 }
                ],
                "id": 35,
                "metrics": {
                 "blocking factor": 4,
                 "centrality": 128,
                 "complexity": 12,
                 "delay factor": 8
                },
                "name": "CHEE 420",
                "nameCanonical": "",
                "nameSub": "Chem Reaction Eng"
               },
               {
                "credits": 3,
                "curriculum_requisites": [
                 {
                  "source_id": 22,
                  "target_id": 36,
                  "type": "CurriculumPrerequisite"
                 },
                 {
                  "source_id": 29,
                  "target_id": 36,
                  "type": "CurriculumPrerequisite"
                 },
                 {
                  "source_id": 35,
                  "target_id": 36,
                  "type": "CurriculumStrictCorequisite"
                 }
                ],
                "id": 36,
                "metrics": {
                 "blocking factor": 1,
                 "centrality": 160,
                 "complexity": 9,
                 "delay factor": 8
                },
                "name": "CHEE 442",
                "nameCanonical": "",
                "nameSub": "Chem Eng Design Principles"
               },
               {
                "credits": 1,
                "curriculum_requisites": [
                 {
                  "source_id": 35,
                  "target_id": 37,
                  "type": "CurriculumCorequisite"
                 },
                 {
                  "source_id": 31,
                  "target_id": 37,
                  "type": "CurriculumPrerequisite"
                 }
                ],
                "id": 37,
                "metrics": {
                 "blocking factor": 1,
                 "centrality": 674,
                 "complexity": 12,
                 "delay factor": 11
                },
                "name": "CHEE 401A",
                "nameCanonical": "",
                "nameSub": "Chem and Enviorn Eng Lab I"
               },
               {
                "credits": 3,
                "curriculum_requisites": [],
                "id": 38,
                "metrics": {
                 "blocking factor": 0,
                 "centrality": 0,
                 "complexity": 1,
                 "delay factor": 1
                },
                "name": " ",
                "nameCanonical": "",
                "nameSub": "Engineering Elective"
               },
               {
                "credits": 3,
                "curriculum_requisites": [
                 {
                  "source_id": 26,
                  "target_id": 39,
                  "type": "CurriculumPrerequisite"
                 }
                ],
                "id": 39,
                "metrics": {
                 "blocking factor": 0,
                 "centrality": 0,
                 "complexity": 5,
                 "delay factor": 5
                },
                "name": "CHEM 480B",
                "nameCanonical": "",
                "nameSub": "Physical Chem"
               },
               {
                "credits": 3,
                "curriculum_requisites": [],
                "id": 40,
                "metrics": {
                 "blocking factor": 0,
                 "centrality": 0,
                 "complexity": 1,
                 "delay factor": 1
                },
                "name": " ",
                "nameCanonical": "",
                "nameSub": "Tier II General Ed"
               }
              ],
              "id": 7,
              "name": "Term 7"
             },
             {
              "curriculum_items": [
               {
                "credits": 3,
                "curriculum_requisites": [
                 {
                  "source_id": 23,
                  "target_id": 41,
                  "type": "CurriculumPrerequisite"
                 }
                ],
                "id": 41,
                "metrics": {
                 "blocking factor": 1,
                 "centrality": 108,
                 "complexity": 10,
                 "delay factor": 9
                },
                "name": "CHEE 413",
                "nameCanonical": "",
                "nameSub": "Process Control and Simulation"
               },
               {
                "credits": 1,
                "curriculum_requisites": [
                 {
                  "source_id": 41,
                  "target_id": 42,
                  "type": "CurriculumCorequisite"
                 },
                 {
                  "source_id": 24,
                  "target_id": 42,
                  "type": "CurriculumPrerequisite"
                 },
                 {
                  "source_id": 37,
                  "target_id": 42,
                  "type": "CurriculumPrerequisite"
                 }
                ],
                "id": 42,
                "metrics": {
                 "blocking factor": 0,
                 "centrality": 0,
                 "complexity": 11,
                 "delay factor": 11
                },
                "name": "CHEE 401B",
                "nameCanonical": "",
                "nameSub": "Process Dynamics and Control Lab"
               },
               {
                "credits": 3,
                "curriculum_requisites": [
                 {
                  "source_id": 36,
                  "target_id": 43,
                  "type": "CurriculumPrerequisite"
                 }
                ],
                "id": 43,
                "metrics": {
                 "blocking factor": 0,
                 "centrality": 0,
                 "complexity": 8,
                 "delay factor": 8
                },
                "name": "CHEE 443",
                "nameCanonical": "",
                "nameSub": "Chem Eng Plant Design"
               },
               {
                "credits": 3,
                "curriculum_requisites": [],
                "id": 44,
                "metrics": {
                 "blocking factor": 0,
                 "centrality": 0,
                 "complexity": 1,
                 "delay factor": 1
                },
                "name": " ",
                "nameCanonical": "",
                "nameSub": "Engineering Elective"
               },
               {
                "credits": 3,
                "curriculum_requisites": [],
                "id": 45,
                "metrics": {
                 "blocking factor": 0,
                 "centrality": 0,
                 "complexity": 1,
                 "delay factor": 1
                },
                "name": " ",
                "nameCanonical": "",
                "nameSub": "Technical Elective"
               },
               {
                "credits": 3,
                "curriculum_requisites": [],
                "id": 46,
                "metrics": {
                 "blocking factor": 0,
                 "centrality": 0,
                 "complexity": 1,
                 "delay factor": 1
                },
                "name": " ",
                "nameCanonical": "",
                "nameSub": "Tier II General Ed"
               }
              ],
              "id": 8,
              "name": "Term 8"
             }
            ],
            "dp_name": "2019-20 Degree Plan",
            "institution": "University of Arizona",
            "name": "Chemical Engineering"
           },
           "options": {
            "edit": false,
            "hideTerms": false
           }
          }
         }
        },
        "systemjs_options": null
       },
       "nodeType": "Scope",
       "props": {},
       "type": "node"
      },
      "text/html": [
       "<div\n",
       "    class=\"webio-mountpoint\"\n",
       "    data-webio-mountpoint=\"7293231265048035201\"\n",
       ">\n",
       "    <script>\n",
       "    (function(){\n",
       "    // Some integrations (namely, IJulia/Jupyter) use an alternate render pathway than\n",
       "    // just putting the html on the page. If WebIO isn't defined, then it's pretty likely\n",
       "    // that we're in one of those situations and the integration just isn't installed\n",
       "    // correctly.\n",
       "    if (typeof window.WebIO === \"undefined\") {\n",
       "        document\n",
       "            .querySelector('[data-webio-mountpoint=\"7293231265048035201\"]')\n",
       "            .innerHTML = (\n",
       "                '<div style=\"padding: 1em; background-color: #f8d6da; border: 1px solid #f5c6cb; font-weight: bold;\">' +\n",
       "                '<p><strong>WebIO not detected.</strong></p>' +\n",
       "                '<p>Please read ' +\n",
       "                '<a href=\"https://juliagizmos.github.io/WebIO.jl/latest/troubleshooting/not-detected/\" target=\"_blank\">the troubleshooting guide</a> ' +\n",
       "                'for more information on how to resolve this issue.</p>' +\n",
       "                '<p><a href=\"https://juliagizmos.github.io/WebIO.jl/latest/troubleshooting/not-detected/\" target=\"_blank\">https://juliagizmos.github.io/WebIO.jl/latest/troubleshooting/not-detected/</a></p>' +\n",
       "                '</div>'\n",
       "            );\n",
       "        return;\n",
       "    }\n",
       "    WebIO.mount(\n",
       "        document.querySelector('[data-webio-mountpoint=\"7293231265048035201\"]'),\n",
       "        {\"props\":{},\"nodeType\":\"Scope\",\"type\":\"node\",\"instanceArgs\":{\"imports\":{\"data\":[],\"type\":\"async_block\"},\"id\":\"5426817702231385772\",\"handlers\":{},\"systemjs_options\":null,\"mount_callbacks\":[],\"observables\":{\"curriculum-data\":{\"sync\":true,\"id\":\"636619012853829417\",\"value\":{\"options\":{\"hideTerms\":false,\"edit\":false},\"curriculum\":{\"name\":\"Chemical Engineering\",\"dp_name\":\"2019-20 Degree Plan\",\"curriculum_terms\":[{\"name\":\"Term 1\",\"curriculum_items\":[{\"curriculum_requisites\":[],\"name\":\"MATH 125\",\"metrics\":{\"centrality\":0,\"complexity\":37.0,\"blocking factor\":26,\"delay factor\":11.0},\"nameSub\":\"Calculus I w\\/ Applications\",\"id\":1,\"credits\":3,\"nameCanonical\":\"\"},{\"curriculum_requisites\":[],\"name\":\"CHEM 151\",\"metrics\":{\"centrality\":0,\"complexity\":31.0,\"blocking factor\":21,\"delay factor\":10.0},\"nameSub\":\"Gen Chemistry I\",\"id\":2,\"credits\":4,\"nameCanonical\":\"\"},{\"curriculum_requisites\":[],\"name\":\"ENGL 101\",\"metrics\":{\"centrality\":0,\"complexity\":3.0,\"blocking factor\":1,\"delay factor\":2.0},\"nameSub\":\"First-year Comp\",\"id\":3,\"credits\":3,\"nameCanonical\":\"\"},{\"curriculum_requisites\":[{\"source_id\":1,\"target_id\":4,\"type\":\"CurriculumCorequisite\"}],\"name\":\"ENGR 102\",\"metrics\":{\"centrality\":163,\"complexity\":25.0,\"blocking factor\":15,\"delay factor\":10.0},\"nameSub\":\"Intro to Engineering\",\"id\":4,\"credits\":3,\"nameCanonical\":\"\"},{\"curriculum_requisites\":[],\"name\":\" \",\"metrics\":{\"centrality\":0,\"complexity\":1.0,\"blocking factor\":0,\"delay factor\":1.0},\"nameSub\":\"Tier I General Ed\",\"id\":5,\"credits\":3,\"nameCanonical\":\"\"}],\"id\":1},{\"name\":\"Term 2\",\"curriculum_items\":[{\"curriculum_requisites\":[{\"source_id\":1,\"target_id\":6,\"type\":\"CurriculumPrerequisite\"}],\"name\":\"MATH 129\",\"metrics\":{\"centrality\":156,\"complexity\":26.0,\"blocking factor\":17,\"delay factor\":9.0},\"nameSub\":\"Calculus II\",\"id\":6,\"credits\":3,\"nameCanonical\":\"\"},{\"curriculum_requisites\":[{\"source_id\":2,\"target_id\":7,\"type\":\"CurriculumPrerequisite\"}],\"name\":\"CHEM 152\",\"metrics\":{\"centrality\":171,\"complexity\":28.0,\"blocking factor\":18,\"delay factor\":10.0},\"nameSub\":\"Gen Chemistry II\",\"id\":7,\"credits\":4,\"nameCanonical\":\"\"},{\"curriculum_requisites\":[{\"source_id\":1,\"target_id\":8,\"type\":\"CurriculumPrerequisite\"}],\"name\":\"PHYS 141\",\"metrics\":{\"centrality\":115,\"complexity\":25.0,\"blocking factor\":16,\"delay factor\":9.0},\"nameSub\":\"Intro Mechanics\",\"id\":8,\"credits\":4,\"nameCanonical\":\"\"},{\"curriculum_requisites\":[{\"source_id\":3,\"target_id\":9,\"type\":\"CurriculumPrerequisite\"}],\"name\":\"ENGL 102\",\"metrics\":{\"centrality\":0,\"complexity\":2.0,\"blocking factor\":0,\"delay factor\":2.0},\"nameSub\":\"First-year Comp.\",\"id\":9,\"credits\":3,\"nameCanonical\":\"\"},{\"curriculum_requisites\":[{\"source_id\":1,\"target_id\":10,\"type\":\"CurriculumCorequisite\"}],\"name\":\"AME 105\",\"metrics\":{\"centrality\":393,\"complexity\":28.0,\"blocking factor\":17,\"delay factor\":11.0},\"nameSub\":\"Intro to MATLAB I\",\"id\":10,\"credits\":1,\"nameCanonical\":\"\"}],\"id\":2},{\"name\":\"Term 3\",\"curriculum_items\":[{\"curriculum_requisites\":[{\"source_id\":4,\"target_id\":11,\"type\":\"CurriculumPrerequisite\"},{\"source_id\":47,\"target_id\":11,\"type\":\"CurriculumCorequisite\"},{\"source_id\":7,\"target_id\":11,\"type\":\"CurriculumPrerequisite\"},{\"source_id\":10,\"target_id\":11,\"type\":\"CurriculumPrerequisite\"},{\"source_id\":1,\"target_id\":11,\"type\":\"CurriculumPrerequisite\"}],\"name\":\"CHEE 201\",\"metrics\":{\"centrality\":815,\"complexity\":25.0,\"blocking factor\":14,\"delay factor\":11.0},\"nameSub\":\"Elements of Chem and Envirn Eng I\",\"id\":11,\"credits\":3,\"nameCanonical\":\"\"},{\"curriculum_requisites\":[{\"source_id\":10,\"target_id\":12,\"type\":\"CurriculumCorequisite\"},{\"source_id\":1,\"target_id\":12,\"type\":\"CurriculumPrerequisite\"}],\"name\":\"CHEE 201L\",\"metrics\":{\"centrality\":86,\"complexity\":17.0,\"blocking factor\":8,\"delay factor\":9.0},\"nameSub\":\"Elements of Chem and Envirn Eng I Lab\",\"id\":12,\"credits\":1,\"nameCanonical\":\"\"},{\"curriculum_requisites\":[{\"source_id\":6,\"target_id\":13,\"type\":\"CurriculumPrerequisite\"}],\"name\":\"MATH  223\",\"metrics\":{\"centrality\":0,\"complexity\":3.0,\"blocking factor\":0,\"delay factor\":3.0},\"nameSub\":\"Vector Calculus\",\"id\":13,\"credits\":4,\"nameCanonical\":\"\"},{\"curriculum_requisites\":[{\"source_id\":7,\"target_id\":14,\"type\":\"CurriculumPrerequisite\"}],\"name\":\"CHEM  241A\",\"metrics\":{\"centrality\":8,\"complexity\":6.0,\"blocking factor\":2,\"delay factor\":4.0},\"nameSub\":\"Lectures in Org Chem\",\"id\":14,\"credits\":3,\"nameCanonical\":\"\"},{\"curriculum_requisites\":[{\"source_id\":14,\"target_id\":15,\"type\":\"CurriculumCorequisite\"}],\"name\":\"CHEM  243A\",\"metrics\":{\"centrality\":0,\"complexity\":4.0,\"blocking factor\":0,\"delay factor\":4.0},\"nameSub\":\"Org Chem Lab\",\"id\":15,\"credits\":1,\"nameCanonical\":\"\"},{\"curriculum_requisites\":[],\"name\":\" \",\"metrics\":{\"centrality\":0,\"complexity\":1.0,\"blocking factor\":0,\"delay factor\":1.0},\"nameSub\":\"Tier I General Ed\",\"id\":16,\"credits\":3,\"nameCanonical\":\"\"},{\"curriculum_requisites\":[{\"source_id\":10,\"target_id\":47,\"type\":\"CurriculumPrerequisite\"}],\"name\":\"AME 205\",\"metrics\":{\"centrality\":184,\"complexity\":26.0,\"blocking factor\":15,\"delay factor\":11.0},\"nameSub\":\"Intro to MATLAB II\",\"id\":47,\"credits\":1,\"nameCanonical\":\"\"}],\"id\":3},{\"name\":\"Term 4\",\"curriculum_items\":[{\"curriculum_requisites\":[{\"source_id\":11,\"target_id\":17,\"type\":\"CurriculumPrerequisite\"},{\"source_id\":12,\"target_id\":17,\"type\":\"CurriculumPrerequisite\"},{\"source_id\":19,\"target_id\":17,\"type\":\"CurriculumCorequisite\"}],\"name\":\"CHEE 202\",\"metrics\":{\"centrality\":362,\"complexity\":17.0,\"blocking factor\":7,\"delay factor\":10.0},\"nameSub\":\"Elements of Chem Eng II\",\"id\":17,\"credits\":4,\"nameCanonical\":\"\"},{\"curriculum_requisites\":[{\"source_id\":11,\"target_id\":18,\"type\":\"CurriculumPrerequisite\"},{\"source_id\":8,\"target_id\":18,\"type\":\"CurriculumPrerequisite\"}],\"name\":\"CHEE 203\",\"metrics\":{\"centrality\":529,\"complexity\":21.0,\"blocking factor\":10,\"delay factor\":11.0},\"nameSub\":\"Chem Eng Heat Xfer & Fluid Flow\",\"id\":18,\"credits\":3,\"nameCanonical\":\"\"},{\"curriculum_requisites\":[{\"source_id\":6,\"target_id\":19,\"type\":\"CurriculumPrerequisite\"}],\"name\":\"MATH 254\",\"metrics\":{\"centrality\":86,\"complexity\":17.0,\"blocking factor\":8,\"delay factor\":9.0},\"nameSub\":\"Intro to ODEs\",\"id\":19,\"credits\":3,\"nameCanonical\":\"\"},{\"curriculum_requisites\":[{\"source_id\":6,\"target_id\":20,\"type\":\"CurriculumPrerequisite\"},{\"source_id\":8,\"target_id\":20,\"type\":\"CurriculumPrerequisite\"}],\"name\":\"PHYS 241\",\"metrics\":{\"centrality\":72,\"complexity\":17.0,\"blocking factor\":9,\"delay factor\":8.0},\"nameSub\":\"Electricity & Magnetism\",\"id\":20,\"credits\":4,\"nameCanonical\":\"\"},{\"curriculum_requisites\":[{\"source_id\":14,\"target_id\":21,\"type\":\"CurriculumPrerequisite\"}],\"name\":\"CHEM 241B\",\"metrics\":{\"centrality\":0,\"complexity\":4.0,\"blocking factor\":0,\"delay factor\":4.0},\"nameSub\":\"Lectures in Org Chem\",\"id\":21,\"credits\":3,\"nameCanonical\":\"\"}],\"id\":4},{\"name\":\"Term 5\",\"curriculum_items\":[{\"curriculum_requisites\":[{\"source_id\":18,\"target_id\":22,\"type\":\"CurriculumPrerequisite\"}],\"name\":\"CHEE 303\",\"metrics\":{\"centrality\":447,\"complexity\":20.0,\"blocking factor\":9,\"delay factor\":11.0},\"nameSub\":\"Chem Eng Mass Xfer\",\"id\":22,\"credits\":3,\"nameCanonical\":\"\"},{\"curriculum_requisites\":[{\"source_id\":22,\"target_id\":23,\"type\":\"CurriculumStrictCorequisite\"},{\"source_id\":17,\"target_id\":23,\"type\":\"CurriculumPrerequisite\"},{\"source_id\":19,\"target_id\":23,\"type\":\"CurriculumPrerequisite\"}],\"name\":\"CHEE 402\",\"metrics\":{\"centrality\":492,\"complexity\":17.0,\"blocking factor\":6,\"delay factor\":11.0},\"nameSub\":\"Chem Eng Modeling\",\"id\":23,\"credits\":3,\"nameCanonical\":\"\"},{\"curriculum_requisites\":[{\"source_id\":22,\"target_id\":24,\"type\":\"CurriculumStrictCorequisite\"},{\"source_id\":18,\"target_id\":24,\"type\":\"CurriculumPrerequisite\"},{\"source_id\":17,\"target_id\":24,\"type\":\"CurriculumPrerequisite\"},{\"source_id\":23,\"target_id\":24,\"type\":\"CurriculumStrictCorequisite\"},{\"source_id\":19,\"target_id\":24,\"type\":\"CurriculumPrerequisite\"}],\"name\":\"CHEE 301A\",\"metrics\":{\"centrality\":544,\"complexity\":14.0,\"blocking factor\":3,\"delay factor\":11.0},\"nameSub\":\"Chem Eng Lab I\",\"id\":24,\"credits\":1,\"nameCanonical\":\"\"},{\"curriculum_requisites\":[],\"name\":\"CHEE 489\",\"metrics\":{\"centrality\":0,\"complexity\":1.0,\"blocking factor\":0,\"delay factor\":1.0},\"nameSub\":\"Trends in Nanomedicine Eng\",\"id\":25,\"credits\":3,\"nameCanonical\":\"\"},{\"curriculum_requisites\":[{\"source_id\":6,\"target_id\":26,\"type\":\"CurriculumPrerequisite\"},{\"source_id\":20,\"target_id\":26,\"type\":\"CurriculumCorequisite\"},{\"source_id\":2,\"target_id\":26,\"type\":\"CurriculumPrerequisite\"}],\"name\":\"CHEM 480A\",\"metrics\":{\"centrality\":129,\"complexity\":16.0,\"blocking factor\":8,\"delay factor\":8.0},\"nameSub\":\"Physical Chem\",\"id\":26,\"credits\":3,\"nameCanonical\":\"\"},{\"curriculum_requisites\":[],\"name\":\" \",\"metrics\":{\"centrality\":0,\"complexity\":1.0,\"blocking factor\":0,\"delay factor\":1.0},\"nameSub\":\"Tier I General Ed\",\"id\":27,\"credits\":3,\"nameCanonical\":\"\"}],\"id\":5},{\"name\":\"Term 6\",\"curriculum_items\":[{\"curriculum_requisites\":[{\"source_id\":22,\"target_id\":28,\"type\":\"CurriculumPrerequisite\"},{\"source_id\":23,\"target_id\":28,\"type\":\"CurriculumPrerequisite\"}],\"name\":\"CHEE 305\",\"metrics\":{\"centrality\":191,\"complexity\":14.0,\"blocking factor\":3,\"delay factor\":11.0},\"nameSub\":\"Chem Eng Transport Phenom\",\"id\":28,\"credits\":3,\"nameCanonical\":\"\"},{\"curriculum_requisites\":[{\"source_id\":11,\"target_id\":29,\"type\":\"CurriculumPrerequisite\"},{\"source_id\":26,\"target_id\":29,\"type\":\"CurriculumPrerequisite\"}],\"name\":\"CHEE 326\",\"metrics\":{\"centrality\":247,\"complexity\":14.0,\"blocking factor\":6,\"delay factor\":8.0},\"nameSub\":\"Chem & Phys Equilibrium\",\"id\":29,\"credits\":3,\"nameCanonical\":\"\"},{\"curriculum_requisites\":[{\"source_id\":22,\"target_id\":31,\"type\":\"CurriculumPrerequisite\"},{\"source_id\":29,\"target_id\":31,\"type\":\"CurriculumStrictCorequisite\"},{\"source_id\":24,\"target_id\":31,\"type\":\"CurriculumPrerequisite\"},{\"source_id\":28,\"target_id\":31,\"type\":\"CurriculumStrictCorequisite\"}],\"name\":\"CHEE 301B\",\"metrics\":{\"centrality\":610,\"complexity\":13.0,\"blocking factor\":2,\"delay factor\":11.0},\"nameSub\":\"Chem Eng Lab II\",\"id\":31,\"credits\":1,\"nameCanonical\":\"\"},{\"curriculum_requisites\":[],\"name\":\" \",\"metrics\":{\"centrality\":0,\"complexity\":1.0,\"blocking factor\":0,\"delay factor\":1.0},\"nameSub\":\"Engineering Elective\",\"id\":32,\"credits\":3,\"nameCanonical\":\"\"},{\"curriculum_requisites\":[],\"name\":\" \",\"metrics\":{\"centrality\":0,\"complexity\":1.0,\"blocking factor\":0,\"delay factor\":1.0},\"nameSub\":\"Technical Elective\",\"id\":33,\"credits\":3,\"nameCanonical\":\"\"},{\"curriculum_requisites\":[],\"name\":\" \",\"metrics\":{\"centrality\":0,\"complexity\":1.0,\"blocking factor\":0,\"delay factor\":1.0},\"nameSub\":\"Tier I General Ed\",\"id\":34,\"credits\":3,\"nameCanonical\":\"\"}],\"id\":6},{\"name\":\"Term 7\",\"curriculum_items\":[{\"curriculum_requisites\":[{\"source_id\":29,\"target_id\":35,\"type\":\"CurriculumPrerequisite\"}],\"name\":\"CHEE 420\",\"metrics\":{\"centrality\":128,\"complexity\":12.0,\"blocking factor\":4,\"delay factor\":8.0},\"nameSub\":\"Chem Reaction Eng\",\"id\":35,\"credits\":3,\"nameCanonical\":\"\"},{\"curriculum_requisites\":[{\"source_id\":22,\"target_id\":36,\"type\":\"CurriculumPrerequisite\"},{\"source_id\":29,\"target_id\":36,\"type\":\"CurriculumPrerequisite\"},{\"source_id\":35,\"target_id\":36,\"type\":\"CurriculumStrictCorequisite\"}],\"name\":\"CHEE 442\",\"metrics\":{\"centrality\":160,\"complexity\":9.0,\"blocking factor\":1,\"delay factor\":8.0},\"nameSub\":\"Chem Eng Design Principles\",\"id\":36,\"credits\":3,\"nameCanonical\":\"\"},{\"curriculum_requisites\":[{\"source_id\":35,\"target_id\":37,\"type\":\"CurriculumCorequisite\"},{\"source_id\":31,\"target_id\":37,\"type\":\"CurriculumPrerequisite\"}],\"name\":\"CHEE 401A\",\"metrics\":{\"centrality\":674,\"complexity\":12.0,\"blocking factor\":1,\"delay factor\":11.0},\"nameSub\":\"Chem and Enviorn Eng Lab I\",\"id\":37,\"credits\":1,\"nameCanonical\":\"\"},{\"curriculum_requisites\":[],\"name\":\" \",\"metrics\":{\"centrality\":0,\"complexity\":1.0,\"blocking factor\":0,\"delay factor\":1.0},\"nameSub\":\"Engineering Elective\",\"id\":38,\"credits\":3,\"nameCanonical\":\"\"},{\"curriculum_requisites\":[{\"source_id\":26,\"target_id\":39,\"type\":\"CurriculumPrerequisite\"}],\"name\":\"CHEM 480B\",\"metrics\":{\"centrality\":0,\"complexity\":5.0,\"blocking factor\":0,\"delay factor\":5.0},\"nameSub\":\"Physical Chem\",\"id\":39,\"credits\":3,\"nameCanonical\":\"\"},{\"curriculum_requisites\":[],\"name\":\" \",\"metrics\":{\"centrality\":0,\"complexity\":1.0,\"blocking factor\":0,\"delay factor\":1.0},\"nameSub\":\"Tier II General Ed\",\"id\":40,\"credits\":3,\"nameCanonical\":\"\"}],\"id\":7},{\"name\":\"Term 8\",\"curriculum_items\":[{\"curriculum_requisites\":[{\"source_id\":23,\"target_id\":41,\"type\":\"CurriculumPrerequisite\"}],\"name\":\"CHEE 413\",\"metrics\":{\"centrality\":108,\"complexity\":10.0,\"blocking factor\":1,\"delay factor\":9.0},\"nameSub\":\"Process Control and Simulation\",\"id\":41,\"credits\":3,\"nameCanonical\":\"\"},{\"curriculum_requisites\":[{\"source_id\":41,\"target_id\":42,\"type\":\"CurriculumCorequisite\"},{\"source_id\":24,\"target_id\":42,\"type\":\"CurriculumPrerequisite\"},{\"source_id\":37,\"target_id\":42,\"type\":\"CurriculumPrerequisite\"}],\"name\":\"CHEE 401B\",\"metrics\":{\"centrality\":0,\"complexity\":11.0,\"blocking factor\":0,\"delay factor\":11.0},\"nameSub\":\"Process Dynamics and Control Lab\",\"id\":42,\"credits\":1,\"nameCanonical\":\"\"},{\"curriculum_requisites\":[{\"source_id\":36,\"target_id\":43,\"type\":\"CurriculumPrerequisite\"}],\"name\":\"CHEE 443\",\"metrics\":{\"centrality\":0,\"complexity\":8.0,\"blocking factor\":0,\"delay factor\":8.0},\"nameSub\":\"Chem Eng Plant Design\",\"id\":43,\"credits\":3,\"nameCanonical\":\"\"},{\"curriculum_requisites\":[],\"name\":\" \",\"metrics\":{\"centrality\":0,\"complexity\":1.0,\"blocking factor\":0,\"delay factor\":1.0},\"nameSub\":\"Engineering Elective\",\"id\":44,\"credits\":3,\"nameCanonical\":\"\"},{\"curriculum_requisites\":[],\"name\":\" \",\"metrics\":{\"centrality\":0,\"complexity\":1.0,\"blocking factor\":0,\"delay factor\":1.0},\"nameSub\":\"Technical Elective\",\"id\":45,\"credits\":3,\"nameCanonical\":\"\"},{\"curriculum_requisites\":[],\"name\":\" \",\"metrics\":{\"centrality\":0,\"complexity\":1.0,\"blocking factor\":0,\"delay factor\":1.0},\"nameSub\":\"Tier II General Ed\",\"id\":46,\"credits\":3,\"nameCanonical\":\"\"}],\"id\":8}],\"institution\":\"University of Arizona\"}}}}},\"children\":[{\"props\":{\"src\":\"https:\\/\\/curricula-api-embed.damoursystems.com\\/\",\"id\":\"curriculum\",\"events\":{\"load\":\"(function (){this.contentWindow.postMessage({\\\"options\\\":{\\\"hideTerms\\\":false,\\\"edit\\\":false},\\\"curriculum\\\":{\\\"name\\\":\\\"Chemical Engineering\\\",\\\"dp_name\\\":\\\"2019-20 Degree Plan\\\",\\\"curriculum_terms\\\":[{\\\"name\\\":\\\"Term 1\\\",\\\"curriculum_items\\\":[{\\\"curriculum_requisites\\\":[],\\\"name\\\":\\\"MATH 125\\\",\\\"metrics\\\":{\\\"centrality\\\":0,\\\"complexity\\\":37.0,\\\"blocking factor\\\":26,\\\"delay factor\\\":11.0},\\\"nameSub\\\":\\\"Calculus I w\\/ Applications\\\",\\\"id\\\":1,\\\"credits\\\":3,\\\"nameCanonical\\\":\\\"\\\"},{\\\"curriculum_requisites\\\":[],\\\"name\\\":\\\"CHEM 151\\\",\\\"metrics\\\":{\\\"centrality\\\":0,\\\"complexity\\\":31.0,\\\"blocking factor\\\":21,\\\"delay factor\\\":10.0},\\\"nameSub\\\":\\\"Gen Chemistry I\\\",\\\"id\\\":2,\\\"credits\\\":4,\\\"nameCanonical\\\":\\\"\\\"},{\\\"curriculum_requisites\\\":[],\\\"name\\\":\\\"ENGL 101\\\",\\\"metrics\\\":{\\\"centrality\\\":0,\\\"complexity\\\":3.0,\\\"blocking factor\\\":1,\\\"delay factor\\\":2.0},\\\"nameSub\\\":\\\"First-year Comp\\\",\\\"id\\\":3,\\\"credits\\\":3,\\\"nameCanonical\\\":\\\"\\\"},{\\\"curriculum_requisites\\\":[{\\\"source_id\\\":1,\\\"target_id\\\":4,\\\"type\\\":\\\"CurriculumCorequisite\\\"}],\\\"name\\\":\\\"ENGR 102\\\",\\\"metrics\\\":{\\\"centrality\\\":163,\\\"complexity\\\":25.0,\\\"blocking factor\\\":15,\\\"delay factor\\\":10.0},\\\"nameSub\\\":\\\"Intro to Engineering\\\",\\\"id\\\":4,\\\"credits\\\":3,\\\"nameCanonical\\\":\\\"\\\"},{\\\"curriculum_requisites\\\":[],\\\"name\\\":\\\" \\\",\\\"metrics\\\":{\\\"centrality\\\":0,\\\"complexity\\\":1.0,\\\"blocking factor\\\":0,\\\"delay factor\\\":1.0},\\\"nameSub\\\":\\\"Tier I General Ed\\\",\\\"id\\\":5,\\\"credits\\\":3,\\\"nameCanonical\\\":\\\"\\\"}],\\\"id\\\":1},{\\\"name\\\":\\\"Term 2\\\",\\\"curriculum_items\\\":[{\\\"curriculum_requisites\\\":[{\\\"source_id\\\":1,\\\"target_id\\\":6,\\\"type\\\":\\\"CurriculumPrerequisite\\\"}],\\\"name\\\":\\\"MATH 129\\\",\\\"metrics\\\":{\\\"centrality\\\":156,\\\"complexity\\\":26.0,\\\"blocking factor\\\":17,\\\"delay factor\\\":9.0},\\\"nameSub\\\":\\\"Calculus II\\\",\\\"id\\\":6,\\\"credits\\\":3,\\\"nameCanonical\\\":\\\"\\\"},{\\\"curriculum_requisites\\\":[{\\\"source_id\\\":2,\\\"target_id\\\":7,\\\"type\\\":\\\"CurriculumPrerequisite\\\"}],\\\"name\\\":\\\"CHEM 152\\\",\\\"metrics\\\":{\\\"centrality\\\":171,\\\"complexity\\\":28.0,\\\"blocking factor\\\":18,\\\"delay factor\\\":10.0},\\\"nameSub\\\":\\\"Gen Chemistry II\\\",\\\"id\\\":7,\\\"credits\\\":4,\\\"nameCanonical\\\":\\\"\\\"},{\\\"curriculum_requisites\\\":[{\\\"source_id\\\":1,\\\"target_id\\\":8,\\\"type\\\":\\\"CurriculumPrerequisite\\\"}],\\\"name\\\":\\\"PHYS 141\\\",\\\"metrics\\\":{\\\"centrality\\\":115,\\\"complexity\\\":25.0,\\\"blocking factor\\\":16,\\\"delay factor\\\":9.0},\\\"nameSub\\\":\\\"Intro Mechanics\\\",\\\"id\\\":8,\\\"credits\\\":4,\\\"nameCanonical\\\":\\\"\\\"},{\\\"curriculum_requisites\\\":[{\\\"source_id\\\":3,\\\"target_id\\\":9,\\\"type\\\":\\\"CurriculumPrerequisite\\\"}],\\\"name\\\":\\\"ENGL 102\\\",\\\"metrics\\\":{\\\"centrality\\\":0,\\\"complexity\\\":2.0,\\\"blocking factor\\\":0,\\\"delay factor\\\":2.0},\\\"nameSub\\\":\\\"First-year Comp.\\\",\\\"id\\\":9,\\\"credits\\\":3,\\\"nameCanonical\\\":\\\"\\\"},{\\\"curriculum_requisites\\\":[{\\\"source_id\\\":1,\\\"target_id\\\":10,\\\"type\\\":\\\"CurriculumCorequisite\\\"}],\\\"name\\\":\\\"AME 105\\\",\\\"metrics\\\":{\\\"centrality\\\":393,\\\"complexity\\\":28.0,\\\"blocking factor\\\":17,\\\"delay factor\\\":11.0},\\\"nameSub\\\":\\\"Intro to MATLAB I\\\",\\\"id\\\":10,\\\"credits\\\":1,\\\"nameCanonical\\\":\\\"\\\"}],\\\"id\\\":2},{\\\"name\\\":\\\"Term 3\\\",\\\"curriculum_items\\\":[{\\\"curriculum_requisites\\\":[{\\\"source_id\\\":4,\\\"target_id\\\":11,\\\"type\\\":\\\"CurriculumPrerequisite\\\"},{\\\"source_id\\\":47,\\\"target_id\\\":11,\\\"type\\\":\\\"CurriculumCorequisite\\\"},{\\\"source_id\\\":7,\\\"target_id\\\":11,\\\"type\\\":\\\"CurriculumPrerequisite\\\"},{\\\"source_id\\\":10,\\\"target_id\\\":11,\\\"type\\\":\\\"CurriculumPrerequisite\\\"},{\\\"source_id\\\":1,\\\"target_id\\\":11,\\\"type\\\":\\\"CurriculumPrerequisite\\\"}],\\\"name\\\":\\\"CHEE 201\\\",\\\"metrics\\\":{\\\"centrality\\\":815,\\\"complexity\\\":25.0,\\\"blocking factor\\\":14,\\\"delay factor\\\":11.0},\\\"nameSub\\\":\\\"Elements of Chem and Envirn Eng I\\\",\\\"id\\\":11,\\\"credits\\\":3,\\\"nameCanonical\\\":\\\"\\\"},{\\\"curriculum_requisites\\\":[{\\\"source_id\\\":10,\\\"target_id\\\":12,\\\"type\\\":\\\"CurriculumCorequisite\\\"},{\\\"source_id\\\":1,\\\"target_id\\\":12,\\\"type\\\":\\\"CurriculumPrerequisite\\\"}],\\\"name\\\":\\\"CHEE 201L\\\",\\\"metrics\\\":{\\\"centrality\\\":86,\\\"complexity\\\":17.0,\\\"blocking factor\\\":8,\\\"delay factor\\\":9.0},\\\"nameSub\\\":\\\"Elements of Chem and Envirn Eng I Lab\\\",\\\"id\\\":12,\\\"credits\\\":1,\\\"nameCanonical\\\":\\\"\\\"},{\\\"curriculum_requisites\\\":[{\\\"source_id\\\":6,\\\"target_id\\\":13,\\\"type\\\":\\\"CurriculumPrerequisite\\\"}],\\\"name\\\":\\\"MATH  223\\\",\\\"metrics\\\":{\\\"centrality\\\":0,\\\"complexity\\\":3.0,\\\"blocking factor\\\":0,\\\"delay factor\\\":3.0},\\\"nameSub\\\":\\\"Vector Calculus\\\",\\\"id\\\":13,\\\"credits\\\":4,\\\"nameCanonical\\\":\\\"\\\"},{\\\"curriculum_requisites\\\":[{\\\"source_id\\\":7,\\\"target_id\\\":14,\\\"type\\\":\\\"CurriculumPrerequisite\\\"}],\\\"name\\\":\\\"CHEM  241A\\\",\\\"metrics\\\":{\\\"centrality\\\":8,\\\"complexity\\\":6.0,\\\"blocking factor\\\":2,\\\"delay factor\\\":4.0},\\\"nameSub\\\":\\\"Lectures in Org Chem\\\",\\\"id\\\":14,\\\"credits\\\":3,\\\"nameCanonical\\\":\\\"\\\"},{\\\"curriculum_requisites\\\":[{\\\"source_id\\\":14,\\\"target_id\\\":15,\\\"type\\\":\\\"CurriculumCorequisite\\\"}],\\\"name\\\":\\\"CHEM  243A\\\",\\\"metrics\\\":{\\\"centrality\\\":0,\\\"complexity\\\":4.0,\\\"blocking factor\\\":0,\\\"delay factor\\\":4.0},\\\"nameSub\\\":\\\"Org Chem Lab\\\",\\\"id\\\":15,\\\"credits\\\":1,\\\"nameCanonical\\\":\\\"\\\"},{\\\"curriculum_requisites\\\":[],\\\"name\\\":\\\" \\\",\\\"metrics\\\":{\\\"centrality\\\":0,\\\"complexity\\\":1.0,\\\"blocking factor\\\":0,\\\"delay factor\\\":1.0},\\\"nameSub\\\":\\\"Tier I General Ed\\\",\\\"id\\\":16,\\\"credits\\\":3,\\\"nameCanonical\\\":\\\"\\\"},{\\\"curriculum_requisites\\\":[{\\\"source_id\\\":10,\\\"target_id\\\":47,\\\"type\\\":\\\"CurriculumPrerequisite\\\"}],\\\"name\\\":\\\"AME 205\\\",\\\"metrics\\\":{\\\"centrality\\\":184,\\\"complexity\\\":26.0,\\\"blocking factor\\\":15,\\\"delay factor\\\":11.0},\\\"nameSub\\\":\\\"Intro to MATLAB II\\\",\\\"id\\\":47,\\\"credits\\\":1,\\\"nameCanonical\\\":\\\"\\\"}],\\\"id\\\":3},{\\\"name\\\":\\\"Term 4\\\",\\\"curriculum_items\\\":[{\\\"curriculum_requisites\\\":[{\\\"source_id\\\":11,\\\"target_id\\\":17,\\\"type\\\":\\\"CurriculumPrerequisite\\\"},{\\\"source_id\\\":12,\\\"target_id\\\":17,\\\"type\\\":\\\"CurriculumPrerequisite\\\"},{\\\"source_id\\\":19,\\\"target_id\\\":17,\\\"type\\\":\\\"CurriculumCorequisite\\\"}],\\\"name\\\":\\\"CHEE 202\\\",\\\"metrics\\\":{\\\"centrality\\\":362,\\\"complexity\\\":17.0,\\\"blocking factor\\\":7,\\\"delay factor\\\":10.0},\\\"nameSub\\\":\\\"Elements of Chem Eng II\\\",\\\"id\\\":17,\\\"credits\\\":4,\\\"nameCanonical\\\":\\\"\\\"},{\\\"curriculum_requisites\\\":[{\\\"source_id\\\":11,\\\"target_id\\\":18,\\\"type\\\":\\\"CurriculumPrerequisite\\\"},{\\\"source_id\\\":8,\\\"target_id\\\":18,\\\"type\\\":\\\"CurriculumPrerequisite\\\"}],\\\"name\\\":\\\"CHEE 203\\\",\\\"metrics\\\":{\\\"centrality\\\":529,\\\"complexity\\\":21.0,\\\"blocking factor\\\":10,\\\"delay factor\\\":11.0},\\\"nameSub\\\":\\\"Chem Eng Heat Xfer & Fluid Flow\\\",\\\"id\\\":18,\\\"credits\\\":3,\\\"nameCanonical\\\":\\\"\\\"},{\\\"curriculum_requisites\\\":[{\\\"source_id\\\":6,\\\"target_id\\\":19,\\\"type\\\":\\\"CurriculumPrerequisite\\\"}],\\\"name\\\":\\\"MATH 254\\\",\\\"metrics\\\":{\\\"centrality\\\":86,\\\"complexity\\\":17.0,\\\"blocking factor\\\":8,\\\"delay factor\\\":9.0},\\\"nameSub\\\":\\\"Intro to ODEs\\\",\\\"id\\\":19,\\\"credits\\\":3,\\\"nameCanonical\\\":\\\"\\\"},{\\\"curriculum_requisites\\\":[{\\\"source_id\\\":6,\\\"target_id\\\":20,\\\"type\\\":\\\"CurriculumPrerequisite\\\"},{\\\"source_id\\\":8,\\\"target_id\\\":20,\\\"type\\\":\\\"CurriculumPrerequisite\\\"}],\\\"name\\\":\\\"PHYS 241\\\",\\\"metrics\\\":{\\\"centrality\\\":72,\\\"complexity\\\":17.0,\\\"blocking factor\\\":9,\\\"delay factor\\\":8.0},\\\"nameSub\\\":\\\"Electricity & Magnetism\\\",\\\"id\\\":20,\\\"credits\\\":4,\\\"nameCanonical\\\":\\\"\\\"},{\\\"curriculum_requisites\\\":[{\\\"source_id\\\":14,\\\"target_id\\\":21,\\\"type\\\":\\\"CurriculumPrerequisite\\\"}],\\\"name\\\":\\\"CHEM 241B\\\",\\\"metrics\\\":{\\\"centrality\\\":0,\\\"complexity\\\":4.0,\\\"blocking factor\\\":0,\\\"delay factor\\\":4.0},\\\"nameSub\\\":\\\"Lectures in Org Chem\\\",\\\"id\\\":21,\\\"credits\\\":3,\\\"nameCanonical\\\":\\\"\\\"}],\\\"id\\\":4},{\\\"name\\\":\\\"Term 5\\\",\\\"curriculum_items\\\":[{\\\"curriculum_requisites\\\":[{\\\"source_id\\\":18,\\\"target_id\\\":22,\\\"type\\\":\\\"CurriculumPrerequisite\\\"}],\\\"name\\\":\\\"CHEE 303\\\",\\\"metrics\\\":{\\\"centrality\\\":447,\\\"complexity\\\":20.0,\\\"blocking factor\\\":9,\\\"delay factor\\\":11.0},\\\"nameSub\\\":\\\"Chem Eng Mass Xfer\\\",\\\"id\\\":22,\\\"credits\\\":3,\\\"nameCanonical\\\":\\\"\\\"},{\\\"curriculum_requisites\\\":[{\\\"source_id\\\":22,\\\"target_id\\\":23,\\\"type\\\":\\\"CurriculumStrictCorequisite\\\"},{\\\"source_id\\\":17,\\\"target_id\\\":23,\\\"type\\\":\\\"CurriculumPrerequisite\\\"},{\\\"source_id\\\":19,\\\"target_id\\\":23,\\\"type\\\":\\\"CurriculumPrerequisite\\\"}],\\\"name\\\":\\\"CHEE 402\\\",\\\"metrics\\\":{\\\"centrality\\\":492,\\\"complexity\\\":17.0,\\\"blocking factor\\\":6,\\\"delay factor\\\":11.0},\\\"nameSub\\\":\\\"Chem Eng Modeling\\\",\\\"id\\\":23,\\\"credits\\\":3,\\\"nameCanonical\\\":\\\"\\\"},{\\\"curriculum_requisites\\\":[{\\\"source_id\\\":22,\\\"target_id\\\":24,\\\"type\\\":\\\"CurriculumStrictCorequisite\\\"},{\\\"source_id\\\":18,\\\"target_id\\\":24,\\\"type\\\":\\\"CurriculumPrerequisite\\\"},{\\\"source_id\\\":17,\\\"target_id\\\":24,\\\"type\\\":\\\"CurriculumPrerequisite\\\"},{\\\"source_id\\\":23,\\\"target_id\\\":24,\\\"type\\\":\\\"CurriculumStrictCorequisite\\\"},{\\\"source_id\\\":19,\\\"target_id\\\":24,\\\"type\\\":\\\"CurriculumPrerequisite\\\"}],\\\"name\\\":\\\"CHEE 301A\\\",\\\"metrics\\\":{\\\"centrality\\\":544,\\\"complexity\\\":14.0,\\\"blocking factor\\\":3,\\\"delay factor\\\":11.0},\\\"nameSub\\\":\\\"Chem Eng Lab I\\\",\\\"id\\\":24,\\\"credits\\\":1,\\\"nameCanonical\\\":\\\"\\\"},{\\\"curriculum_requisites\\\":[],\\\"name\\\":\\\"CHEE 489\\\",\\\"metrics\\\":{\\\"centrality\\\":0,\\\"complexity\\\":1.0,\\\"blocking factor\\\":0,\\\"delay factor\\\":1.0},\\\"nameSub\\\":\\\"Trends in Nanomedicine Eng\\\",\\\"id\\\":25,\\\"credits\\\":3,\\\"nameCanonical\\\":\\\"\\\"},{\\\"curriculum_requisites\\\":[{\\\"source_id\\\":6,\\\"target_id\\\":26,\\\"type\\\":\\\"CurriculumPrerequisite\\\"},{\\\"source_id\\\":20,\\\"target_id\\\":26,\\\"type\\\":\\\"CurriculumCorequisite\\\"},{\\\"source_id\\\":2,\\\"target_id\\\":26,\\\"type\\\":\\\"CurriculumPrerequisite\\\"}],\\\"name\\\":\\\"CHEM 480A\\\",\\\"metrics\\\":{\\\"centrality\\\":129,\\\"complexity\\\":16.0,\\\"blocking factor\\\":8,\\\"delay factor\\\":8.0},\\\"nameSub\\\":\\\"Physical Chem\\\",\\\"id\\\":26,\\\"credits\\\":3,\\\"nameCanonical\\\":\\\"\\\"},{\\\"curriculum_requisites\\\":[],\\\"name\\\":\\\" \\\",\\\"metrics\\\":{\\\"centrality\\\":0,\\\"complexity\\\":1.0,\\\"blocking factor\\\":0,\\\"delay factor\\\":1.0},\\\"nameSub\\\":\\\"Tier I General Ed\\\",\\\"id\\\":27,\\\"credits\\\":3,\\\"nameCanonical\\\":\\\"\\\"}],\\\"id\\\":5},{\\\"name\\\":\\\"Term 6\\\",\\\"curriculum_items\\\":[{\\\"curriculum_requisites\\\":[{\\\"source_id\\\":22,\\\"target_id\\\":28,\\\"type\\\":\\\"CurriculumPrerequisite\\\"},{\\\"source_id\\\":23,\\\"target_id\\\":28,\\\"type\\\":\\\"CurriculumPrerequisite\\\"}],\\\"name\\\":\\\"CHEE 305\\\",\\\"metrics\\\":{\\\"centrality\\\":191,\\\"complexity\\\":14.0,\\\"blocking factor\\\":3,\\\"delay factor\\\":11.0},\\\"nameSub\\\":\\\"Chem Eng Transport Phenom\\\",\\\"id\\\":28,\\\"credits\\\":3,\\\"nameCanonical\\\":\\\"\\\"},{\\\"curriculum_requisites\\\":[{\\\"source_id\\\":11,\\\"target_id\\\":29,\\\"type\\\":\\\"CurriculumPrerequisite\\\"},{\\\"source_id\\\":26,\\\"target_id\\\":29,\\\"type\\\":\\\"CurriculumPrerequisite\\\"}],\\\"name\\\":\\\"CHEE 326\\\",\\\"metrics\\\":{\\\"centrality\\\":247,\\\"complexity\\\":14.0,\\\"blocking factor\\\":6,\\\"delay factor\\\":8.0},\\\"nameSub\\\":\\\"Chem & Phys Equilibrium\\\",\\\"id\\\":29,\\\"credits\\\":3,\\\"nameCanonical\\\":\\\"\\\"},{\\\"curriculum_requisites\\\":[{\\\"source_id\\\":22,\\\"target_id\\\":31,\\\"type\\\":\\\"CurriculumPrerequisite\\\"},{\\\"source_id\\\":29,\\\"target_id\\\":31,\\\"type\\\":\\\"CurriculumStrictCorequisite\\\"},{\\\"source_id\\\":24,\\\"target_id\\\":31,\\\"type\\\":\\\"CurriculumPrerequisite\\\"},{\\\"source_id\\\":28,\\\"target_id\\\":31,\\\"type\\\":\\\"CurriculumStrictCorequisite\\\"}],\\\"name\\\":\\\"CHEE 301B\\\",\\\"metrics\\\":{\\\"centrality\\\":610,\\\"complexity\\\":13.0,\\\"blocking factor\\\":2,\\\"delay factor\\\":11.0},\\\"nameSub\\\":\\\"Chem Eng Lab II\\\",\\\"id\\\":31,\\\"credits\\\":1,\\\"nameCanonical\\\":\\\"\\\"},{\\\"curriculum_requisites\\\":[],\\\"name\\\":\\\" \\\",\\\"metrics\\\":{\\\"centrality\\\":0,\\\"complexity\\\":1.0,\\\"blocking factor\\\":0,\\\"delay factor\\\":1.0},\\\"nameSub\\\":\\\"Engineering Elective\\\",\\\"id\\\":32,\\\"credits\\\":3,\\\"nameCanonical\\\":\\\"\\\"},{\\\"curriculum_requisites\\\":[],\\\"name\\\":\\\" \\\",\\\"metrics\\\":{\\\"centrality\\\":0,\\\"complexity\\\":1.0,\\\"blocking factor\\\":0,\\\"delay factor\\\":1.0},\\\"nameSub\\\":\\\"Technical Elective\\\",\\\"id\\\":33,\\\"credits\\\":3,\\\"nameCanonical\\\":\\\"\\\"},{\\\"curriculum_requisites\\\":[],\\\"name\\\":\\\" \\\",\\\"metrics\\\":{\\\"centrality\\\":0,\\\"complexity\\\":1.0,\\\"blocking factor\\\":0,\\\"delay factor\\\":1.0},\\\"nameSub\\\":\\\"Tier I General Ed\\\",\\\"id\\\":34,\\\"credits\\\":3,\\\"nameCanonical\\\":\\\"\\\"}],\\\"id\\\":6},{\\\"name\\\":\\\"Term 7\\\",\\\"curriculum_items\\\":[{\\\"curriculum_requisites\\\":[{\\\"source_id\\\":29,\\\"target_id\\\":35,\\\"type\\\":\\\"CurriculumPrerequisite\\\"}],\\\"name\\\":\\\"CHEE 420\\\",\\\"metrics\\\":{\\\"centrality\\\":128,\\\"complexity\\\":12.0,\\\"blocking factor\\\":4,\\\"delay factor\\\":8.0},\\\"nameSub\\\":\\\"Chem Reaction Eng\\\",\\\"id\\\":35,\\\"credits\\\":3,\\\"nameCanonical\\\":\\\"\\\"},{\\\"curriculum_requisites\\\":[{\\\"source_id\\\":22,\\\"target_id\\\":36,\\\"type\\\":\\\"CurriculumPrerequisite\\\"},{\\\"source_id\\\":29,\\\"target_id\\\":36,\\\"type\\\":\\\"CurriculumPrerequisite\\\"},{\\\"source_id\\\":35,\\\"target_id\\\":36,\\\"type\\\":\\\"CurriculumStrictCorequisite\\\"}],\\\"name\\\":\\\"CHEE 442\\\",\\\"metrics\\\":{\\\"centrality\\\":160,\\\"complexity\\\":9.0,\\\"blocking factor\\\":1,\\\"delay factor\\\":8.0},\\\"nameSub\\\":\\\"Chem Eng Design Principles\\\",\\\"id\\\":36,\\\"credits\\\":3,\\\"nameCanonical\\\":\\\"\\\"},{\\\"curriculum_requisites\\\":[{\\\"source_id\\\":35,\\\"target_id\\\":37,\\\"type\\\":\\\"CurriculumCorequisite\\\"},{\\\"source_id\\\":31,\\\"target_id\\\":37,\\\"type\\\":\\\"CurriculumPrerequisite\\\"}],\\\"name\\\":\\\"CHEE 401A\\\",\\\"metrics\\\":{\\\"centrality\\\":674,\\\"complexity\\\":12.0,\\\"blocking factor\\\":1,\\\"delay factor\\\":11.0},\\\"nameSub\\\":\\\"Chem and Enviorn Eng Lab I\\\",\\\"id\\\":37,\\\"credits\\\":1,\\\"nameCanonical\\\":\\\"\\\"},{\\\"curriculum_requisites\\\":[],\\\"name\\\":\\\" \\\",\\\"metrics\\\":{\\\"centrality\\\":0,\\\"complexity\\\":1.0,\\\"blocking factor\\\":0,\\\"delay factor\\\":1.0},\\\"nameSub\\\":\\\"Engineering Elective\\\",\\\"id\\\":38,\\\"credits\\\":3,\\\"nameCanonical\\\":\\\"\\\"},{\\\"curriculum_requisites\\\":[{\\\"source_id\\\":26,\\\"target_id\\\":39,\\\"type\\\":\\\"CurriculumPrerequisite\\\"}],\\\"name\\\":\\\"CHEM 480B\\\",\\\"metrics\\\":{\\\"centrality\\\":0,\\\"complexity\\\":5.0,\\\"blocking factor\\\":0,\\\"delay factor\\\":5.0},\\\"nameSub\\\":\\\"Physical Chem\\\",\\\"id\\\":39,\\\"credits\\\":3,\\\"nameCanonical\\\":\\\"\\\"},{\\\"curriculum_requisites\\\":[],\\\"name\\\":\\\" \\\",\\\"metrics\\\":{\\\"centrality\\\":0,\\\"complexity\\\":1.0,\\\"blocking factor\\\":0,\\\"delay factor\\\":1.0},\\\"nameSub\\\":\\\"Tier II General Ed\\\",\\\"id\\\":40,\\\"credits\\\":3,\\\"nameCanonical\\\":\\\"\\\"}],\\\"id\\\":7},{\\\"name\\\":\\\"Term 8\\\",\\\"curriculum_items\\\":[{\\\"curriculum_requisites\\\":[{\\\"source_id\\\":23,\\\"target_id\\\":41,\\\"type\\\":\\\"CurriculumPrerequisite\\\"}],\\\"name\\\":\\\"CHEE 413\\\",\\\"metrics\\\":{\\\"centrality\\\":108,\\\"complexity\\\":10.0,\\\"blocking factor\\\":1,\\\"delay factor\\\":9.0},\\\"nameSub\\\":\\\"Process Control and Simulation\\\",\\\"id\\\":41,\\\"credits\\\":3,\\\"nameCanonical\\\":\\\"\\\"},{\\\"curriculum_requisites\\\":[{\\\"source_id\\\":41,\\\"target_id\\\":42,\\\"type\\\":\\\"CurriculumCorequisite\\\"},{\\\"source_id\\\":24,\\\"target_id\\\":42,\\\"type\\\":\\\"CurriculumPrerequisite\\\"},{\\\"source_id\\\":37,\\\"target_id\\\":42,\\\"type\\\":\\\"CurriculumPrerequisite\\\"}],\\\"name\\\":\\\"CHEE 401B\\\",\\\"metrics\\\":{\\\"centrality\\\":0,\\\"complexity\\\":11.0,\\\"blocking factor\\\":0,\\\"delay factor\\\":11.0},\\\"nameSub\\\":\\\"Process Dynamics and Control Lab\\\",\\\"id\\\":42,\\\"credits\\\":1,\\\"nameCanonical\\\":\\\"\\\"},{\\\"curriculum_requisites\\\":[{\\\"source_id\\\":36,\\\"target_id\\\":43,\\\"type\\\":\\\"CurriculumPrerequisite\\\"}],\\\"name\\\":\\\"CHEE 443\\\",\\\"metrics\\\":{\\\"centrality\\\":0,\\\"complexity\\\":8.0,\\\"blocking factor\\\":0,\\\"delay factor\\\":8.0},\\\"nameSub\\\":\\\"Chem Eng Plant Design\\\",\\\"id\\\":43,\\\"credits\\\":3,\\\"nameCanonical\\\":\\\"\\\"},{\\\"curriculum_requisites\\\":[],\\\"name\\\":\\\" \\\",\\\"metrics\\\":{\\\"centrality\\\":0,\\\"complexity\\\":1.0,\\\"blocking factor\\\":0,\\\"delay factor\\\":1.0},\\\"nameSub\\\":\\\"Engineering Elective\\\",\\\"id\\\":44,\\\"credits\\\":3,\\\"nameCanonical\\\":\\\"\\\"},{\\\"curriculum_requisites\\\":[],\\\"name\\\":\\\" \\\",\\\"metrics\\\":{\\\"centrality\\\":0,\\\"complexity\\\":1.0,\\\"blocking factor\\\":0,\\\"delay factor\\\":1.0},\\\"nameSub\\\":\\\"Technical Elective\\\",\\\"id\\\":45,\\\"credits\\\":3,\\\"nameCanonical\\\":\\\"\\\"},{\\\"curriculum_requisites\\\":[],\\\"name\\\":\\\" \\\",\\\"metrics\\\":{\\\"centrality\\\":0,\\\"complexity\\\":1.0,\\\"blocking factor\\\":0,\\\"delay factor\\\":1.0},\\\"nameSub\\\":\\\"Tier II General Ed\\\",\\\"id\\\":46,\\\"credits\\\":3,\\\"nameCanonical\\\":\\\"\\\"}],\\\"id\\\":8}],\\\"institution\\\":\\\"University of Arizona\\\"}},\\\"*\\\"); window.removeEventListener(\\\"message\\\",window.messageReceived); window.messageReceived=(function (event){return (event.data.curriculum!==undefined) ? (WebIO.setval({\\\"name\\\":\\\"curriculum-data\\\",\\\"scope\\\":\\\"5426817702231385772\\\",\\\"id\\\":\\\"636619012853829417\\\",\\\"type\\\":\\\"observable\\\"},event.data.curriculum)) : undefined}); return window.addEventListener(\\\"message\\\",window.messageReceived)})\"},\"style\":{\"padding\":\"0\",\"height\":\"85vh\",\"margin\":\"0\",\"border\":\"none\",\"width\":\"100%\"}},\"nodeType\":\"DOM\",\"type\":\"node\",\"instanceArgs\":{\"namespace\":\"html\",\"tag\":\"iframe\"},\"children\":[\"\"]}]},\n",
       "        window,\n",
       "    );\n",
       "    })()\n",
       "    </script>\n",
       "</div>\n"
      ],
      "text/plain": [
       "WebIO.Scope(WebIO.Node{WebIO.DOM}(WebIO.DOM(:html, :iframe), Any[\"\"], Dict{Symbol, Any}(:src => \"https://curricula-api-embed.damoursystems.com/\", :id => \"curriculum\", :events => Dict{Symbol, WebIO.JSString}(:load => WebIO.JSString(\"(function (){this.contentWindow.postMessage({\\\"options\\\":{\\\"hideTerms\\\":false,\\\"edit\\\":false},\\\"curriculum\\\":{\\\"name\\\":\\\"Chemical Engineering\\\",\\\"dp_name\\\":\\\"2019-20 Degree Plan\\\",\\\"curriculum_terms\\\":[{\\\"name\\\":\\\"Term 1\\\",\\\"curriculum_items\\\":[{\\\"curriculum_requisites\\\":[],\\\"name\\\":\\\"MATH 125\\\",\\\"metrics\\\":{\\\"centrality\\\":0,\\\"complexity\\\":37.0,\\\"blocking factor\\\":26,\\\"delay factor\\\":11.0},\\\"nameSub\\\":\\\"Calculus I w/ Applications\\\",\\\"id\\\":1,\\\"credits\\\":3,\\\"nameCanonical\\\":\\\"\\\"},{\\\"curriculum_requisites\\\":[],\\\"name\\\":\\\"CHEM 151\\\",\\\"metrics\\\":{\\\"centrality\\\":0,\\\"complexity\\\":31.0,\\\"blocking factor\\\":21,\\\"delay factor\\\":10.0},\\\"nameSub\\\":\\\"Gen Chemistry I\\\",\\\"id\\\":2,\\\"credits\\\":4,\\\"nameCanonical\\\":\\\"\\\"},{\\\"curriculum_requisites\\\":[],\\\"name\\\":\\\"ENGL 101\\\",\\\"metrics\\\":{\\\"centrality\\\":0,\\\"complexity\\\":3.0,\\\"blocking factor\\\":1,\\\"delay factor\\\":2.0},\\\"nameSub\\\":\\\"First-year Comp\\\",\\\"id\\\":3,\\\"credits\\\":3,\\\"nameCanonical\\\":\\\"\\\"},{\\\"curriculum_requisites\\\":[{\\\"source_id\\\":1,\\\"target_id\\\":4,\\\"type\\\":\\\"CurriculumCorequisite\\\"}],\\\"name\\\":\\\"ENGR 102\\\",\\\"metrics\\\":{\\\"centrality\\\":163,\\\"complexity\\\":25.0,\\\"blocking factor\\\":15,\\\"delay factor\\\":10.0},\\\"nameSub\\\":\\\"Intro to Engineering\\\",\\\"id\\\":4,\\\"credits\\\":3,\\\"nameCanonical\\\":\\\"\\\"},{\\\"curriculum_requisites\\\":[],\\\"name\\\":\\\" \\\",\\\"metrics\\\":{\\\"centrality\\\":0,\\\"complexity\\\":1.0,\\\"blocking factor\\\":0,\\\"delay factor\\\":1.0},\\\"nameSub\\\":\\\"Tier I General Ed\\\",\\\"id\\\":5,\\\"credits\\\":3,\\\"nameCanonical\\\":\\\"\\\"}],\\\"id\\\":1},{\\\"name\\\":\\\"Term 2\\\",\\\"curriculum_items\\\":[{\\\"curriculum_requisites\\\":[{\\\"source_id\\\":1,\\\"target_id\\\":6,\\\"type\\\":\\\"CurriculumPrerequisite\\\"}],\\\"name\\\":\\\"MATH 129\\\",\\\"metrics\\\":{\\\"centrality\\\":156,\\\"complexity\\\":26.0,\\\"blocking factor\\\":17,\\\"delay factor\\\":9.0},\\\"nameSub\\\":\\\"Calculus II\\\",\\\"id\\\":6,\\\"credits\\\":3,\\\"nameCanonical\\\":\\\"\\\"},{\\\"curriculum_requisites\\\":[{\\\"source_id\\\":2,\\\"target_id\\\":7,\\\"type\\\":\\\"CurriculumPrerequisite\\\"}],\\\"name\\\":\\\"CHEM 152\\\",\\\"metrics\\\":{\\\"centrality\\\":171,\\\"complexity\\\":28.0,\\\"blocking factor\\\":18,\\\"delay factor\\\":10.0},\\\"nameSub\\\":\\\"Gen Chemistry II\\\",\\\"id\\\":7,\\\"credits\\\":4,\\\"nameCanonical\\\":\\\"\\\"},{\\\"curriculum_requisites\\\":[{\\\"source_id\\\":1,\\\"target_id\\\":8,\\\"type\\\":\\\"CurriculumPrerequisite\\\"}],\\\"name\\\":\\\"PHYS 141\\\",\\\"metrics\\\":{\\\"centrality\\\":115,\\\"complexity\\\":25.0,\\\"blocking factor\\\":16,\\\"delay factor\\\":9.0},\\\"nameSub\\\":\\\"Intro Mechanics\\\",\\\"id\\\":8,\\\"credits\\\":4,\\\"nameCanonical\\\":\\\"\\\"},{\\\"curriculum_requisites\\\":[{\\\"source_id\\\":3,\\\"target_id\\\":9,\\\"type\\\":\\\"CurriculumPrerequisite\\\"}],\\\"name\\\":\\\"ENGL 102\\\",\\\"metrics\\\":{\\\"centrality\\\":0,\\\"complexity\\\":2.0,\\\"blocking factor\\\":0,\\\"delay factor\\\":2.0},\\\"nameSub\\\":\\\"First-year Comp.\\\",\\\"id\\\":9,\\\"credits\\\":3,\\\"nameCanonical\\\":\\\"\\\"},{\\\"curriculum_requisites\\\":[{\\\"source_id\\\":1,\\\"target_id\\\":10,\\\"type\\\":\\\"CurriculumCorequisite\\\"}],\\\"name\\\":\\\"AME 105\\\",\\\"metrics\\\":{\\\"centrality\\\":393,\\\"complexity\\\":28.0,\\\"blocking factor\\\":17,\\\"delay factor\\\":11.0},\\\"nameSub\\\":\\\"Intro to MATLAB I\\\",\\\"id\\\":10,\\\"credits\\\":1,\\\"nameCanonical\\\":\\\"\\\"}],\\\"id\\\":2},{\\\"name\\\":\\\"Term 3\\\",\\\"curriculum_items\\\":[{\\\"curriculum_requisites\\\":[{\\\"source_id\\\":4,\\\"target_id\\\":11,\\\"type\\\":\\\"CurriculumPrerequisite\\\"},{\\\"source_id\\\":47,\\\"target_id\\\":11,\\\"type\\\":\\\"CurriculumCorequisite\\\"},{\\\"source_id\\\":7,\\\"target_id\\\":11,\\\"type\\\":\\\"CurriculumPrerequisite\\\"},{\\\"source_id\\\":10,\\\"target_id\\\":11,\\\"type\\\":\\\"CurriculumPrerequisite\\\"},{\\\"source_id\\\":1,\\\"target_id\\\":11,\\\"type\\\":\\\"CurriculumPrerequisite\\\"}],\\\"name\\\":\\\"CHEE 201\\\",\\\"metrics\\\":{\\\"centrality\\\":815,\\\"complexity\\\":25.0,\\\"blocking factor\\\":14,\\\"delay factor\\\":11.0},\\\"nameSub\\\":\\\"Elements of Chem and Envirn Eng I\\\",\\\"id\\\":11,\\\"credits\\\":3,\\\"nameCanonical\\\":\\\"\\\"},{\\\"curriculum_requisites\\\":[{\\\"source_id\\\":10,\\\"target_id\\\":12,\\\"type\\\":\\\"CurriculumCorequisite\\\"},{\\\"source_id\\\":1,\\\"target_id\\\":12,\\\"type\\\":\\\"CurriculumPrerequisite\\\"}],\\\"name\\\":\\\"CHEE 201L\\\",\\\"metrics\\\":{\\\"centrality\\\":86,\\\"complexity\\\":17.0,\\\"blocking factor\\\":8,\\\"delay factor\\\":9.0},\\\"nameSub\\\":\\\"Elements of Chem and Envirn Eng I Lab\\\",\\\"id\\\":12,\\\"credits\\\":1,\\\"nameCanonical\\\":\\\"\\\"},{\\\"curriculum_requisites\\\":[{\\\"source_id\\\":6,\\\"target_id\\\":13,\\\"type\\\":\\\"CurriculumPrerequisite\\\"}],\\\"name\\\":\\\"MATH  223\\\",\\\"metrics\\\":{\\\"centrality\\\":0,\\\"complexity\\\":3.0,\\\"blocking factor\\\":0,\\\"delay factor\\\":3.0},\\\"nameSub\\\":\\\"Vector Calculus\\\",\\\"id\\\":13,\\\"credits\\\":4,\\\"nameCanonical\\\":\\\"\\\"},{\\\"curriculum_requisites\\\":[{\\\"source_id\\\":7,\\\"target_id\\\":14,\\\"type\\\":\\\"CurriculumPrerequisite\\\"}],\\\"name\\\":\\\"CHEM  241A\\\",\\\"metrics\\\":{\\\"centrality\\\":8,\\\"complexity\\\":6.0,\\\"blocking factor\\\":2,\\\"delay factor\\\":4.0},\\\"nameSub\\\":\\\"Lectures in Org Chem\\\",\\\"id\\\":14,\\\"credits\\\":3,\\\"nameCanonical\\\":\\\"\\\"},{\\\"curriculum_requisites\\\":[{\\\"source_id\\\":14,\\\"target_id\\\":15,\\\"type\\\":\\\"CurriculumCorequisite\\\"}],\\\"name\\\":\\\"CHEM  243A\\\",\\\"metrics\\\":{\\\"centrality\\\":0,\\\"complexity\\\":4.0,\\\"blocking factor\\\":0,\\\"delay factor\\\":4.0},\\\"nameSub\\\":\\\"Org Chem Lab\\\",\\\"id\\\":15,\\\"credits\\\":1,\\\"nameCanonical\\\":\\\"\\\"},{\\\"curriculum_requisites\\\":[],\\\"name\\\":\\\" \\\",\\\"metrics\\\":{\\\"centrality\\\":0,\\\"complexity\\\":1.0,\\\"blocking factor\\\":0,\\\"delay factor\\\":1.0},\\\"nameSub\\\":\\\"Tier I General Ed\\\",\\\"id\\\":16,\\\"credits\\\":3,\\\"nameCanonical\\\":\\\"\\\"},{\\\"curriculum_requisites\\\":[{\\\"source_id\\\":10,\\\"target_id\\\":47,\\\"type\\\":\\\"CurriculumPrerequisite\\\"}],\\\"name\\\":\\\"AME 205\\\",\\\"metrics\\\":{\\\"centrality\\\":184,\\\"complexity\\\":26.0,\\\"blocking factor\\\":15,\\\"delay factor\\\":11.0},\\\"nameSub\\\":\\\"Intro to MATLAB II\\\",\\\"id\\\":47,\\\"credits\\\":1,\\\"nameCanonical\\\":\\\"\\\"}],\\\"id\\\":3},{\\\"name\\\":\\\"Term 4\\\",\\\"curriculum_items\\\":[{\\\"curriculum_requisites\\\":[{\\\"source_id\\\":11,\\\"target_id\\\":17,\\\"type\\\":\\\"CurriculumPrerequisite\\\"},{\\\"source_id\\\":12,\\\"target_id\\\":17,\\\"type\\\":\\\"CurriculumPrerequisite\\\"},{\\\"source_id\\\":19,\\\"target_id\\\":17,\\\"type\\\":\\\"CurriculumCorequisite\\\"}],\\\"name\\\":\\\"CHEE 202\\\",\\\"metrics\\\":{\\\"centrality\\\":362,\\\"complexity\\\":17.0,\\\"blocking factor\\\":7,\\\"delay factor\\\":10.0},\\\"nameSub\\\":\\\"Elements of Chem Eng II\\\",\\\"id\\\":17,\\\"credits\\\":4,\\\"nameCanonical\\\":\\\"\\\"},{\\\"curriculum_requisites\\\":[{\\\"source_id\\\":11,\\\"target_id\\\":18,\\\"type\\\":\\\"CurriculumPrerequisite\\\"},{\\\"source_id\\\":8,\\\"target_id\\\":18,\\\"type\\\":\\\"CurriculumPrerequisite\\\"}],\\\"name\\\":\\\"CHEE 203\\\",\\\"metrics\\\":{\\\"centrality\\\":529,\\\"complexity\\\":21.0,\\\"blocking factor\\\":10,\\\"delay factor\\\":11.0},\\\"nameSub\\\":\\\"Chem Eng Heat Xfer & Fluid Flow\\\",\\\"id\\\":18,\\\"credits\\\":3,\\\"nameCanonical\\\":\\\"\\\"},{\\\"curriculum_requisites\\\":[{\\\"source_id\\\":6,\\\"target_id\\\":19,\\\"type\\\":\\\"CurriculumPrerequisite\\\"}],\\\"name\\\":\\\"MATH 254\\\",\\\"metrics\\\":{\\\"centrality\\\":86,\\\"complexity\\\":17.0,\\\"blocking factor\\\":8,\\\"delay factor\\\":9.0},\\\"nameSub\\\":\\\"Intro to ODEs\\\",\\\"id\\\":19,\\\"credits\\\":3,\\\"nameCanonical\\\":\\\"\\\"},{\\\"curriculum_requisites\\\":[{\\\"source_id\\\":6,\\\"target_id\\\":20,\\\"type\\\":\\\"CurriculumPrerequisite\\\"},{\\\"source_id\\\":8,\\\"target_id\\\":20,\\\"type\\\":\\\"CurriculumPrerequisite\\\"}],\\\"name\\\":\\\"PHYS 241\\\",\\\"metrics\\\":{\\\"centrality\\\":72,\\\"complexity\\\":17.0,\\\"blocking factor\\\":9,\\\"delay factor\\\":8.0},\\\"nameSub\\\":\\\"Electricity & Magnetism\\\",\\\"id\\\":20,\\\"credits\\\":4,\\\"nameCanonical\\\":\\\"\\\"},{\\\"curriculum_requisites\\\":[{\\\"source_id\\\":14,\\\"target_id\\\":21,\\\"type\\\":\\\"CurriculumPrerequisite\\\"}],\\\"name\\\":\\\"CHEM 241B\\\",\\\"metrics\\\":{\\\"centrality\\\":0,\\\"complexity\\\":4.0,\\\"blocking factor\\\":0,\\\"delay factor\\\":4.0},\\\"nameSub\\\":\\\"Lectures in Org Chem\\\",\\\"id\\\":21,\\\"credits\\\":3,\\\"nameCanonical\\\":\\\"\\\"}],\\\"id\\\":4},{\\\"name\\\":\\\"Term 5\\\",\\\"curriculum_items\\\":[{\\\"curriculum_requisites\\\":[{\\\"source_id\\\":18,\\\"target_id\\\":22,\\\"type\\\":\\\"CurriculumPrerequisite\\\"}],\\\"name\\\":\\\"CHEE 303\\\",\\\"metrics\\\":{\\\"centrality\\\":447,\\\"complexity\\\":20.0,\\\"blocking factor\\\":9,\\\"delay factor\\\":11.0},\\\"nameSub\\\":\\\"Chem Eng Mass Xfer\\\",\\\"id\\\":22,\\\"credits\\\":3,\\\"nameCanonical\\\":\\\"\\\"},{\\\"curriculum_requisites\\\":[{\\\"source_id\\\":22,\\\"target_id\\\":23,\\\"type\\\":\\\"CurriculumStrictCorequisite\\\"},{\\\"source_id\\\":17,\\\"target_id\\\":23,\\\"type\\\":\\\"CurriculumPrerequisite\\\"},{\\\"source_id\\\":19,\\\"target_id\\\":23,\\\"type\\\":\\\"CurriculumPrerequisite\\\"}],\\\"name\\\":\\\"CHEE 402\\\",\\\"metrics\\\":{\\\"centrality\\\":492,\\\"complexity\\\":17.0,\\\"blocking factor\\\":6,\\\"delay factor\\\":11.0},\\\"nameSub\\\":\\\"Chem Eng Modeling\\\",\\\"id\\\":23,\\\"credits\\\":3,\\\"nameCanonical\\\":\\\"\\\"},{\\\"curriculum_requisites\\\":[{\\\"source_id\\\":22,\\\"target_id\\\":24,\\\"type\\\":\\\"CurriculumStrictCorequisite\\\"},{\\\"source_id\\\":18,\\\"target_id\\\":24,\\\"type\\\":\\\"CurriculumPrerequisite\\\"},{\\\"source_id\\\":17,\\\"target_id\\\":24,\\\"type\\\":\\\"CurriculumPrerequisite\\\"},{\\\"source_id\\\":23,\\\"target_id\\\":24,\\\"type\\\":\\\"CurriculumStrictCorequisite\\\"},{\\\"source_id\\\":19,\\\"target_id\\\":24,\\\"type\\\":\\\"CurriculumPrerequisite\\\"}],\\\"name\\\":\\\"CHEE 301A\\\",\\\"metrics\\\":{\\\"centrality\\\":544,\\\"complexity\\\":14.0,\\\"blocking factor\\\":3,\\\"delay factor\\\":11.0},\\\"nameSub\\\":\\\"Chem Eng Lab I\\\",\\\"id\\\":24,\\\"credits\\\":1,\\\"nameCanonical\\\":\\\"\\\"},{\\\"curriculum_requisites\\\":[],\\\"name\\\":\\\"CHEE 489\\\",\\\"metrics\\\":{\\\"centrality\\\":0,\\\"complexity\\\":1.0,\\\"blocking factor\\\":0,\\\"delay factor\\\":1.0},\\\"nameSub\\\":\\\"Trends in Nanomedicine Eng\\\",\\\"id\\\":25,\\\"credits\\\":3,\\\"nameCanonical\\\":\\\"\\\"},{\\\"curriculum_requisites\\\":[{\\\"source_id\\\":6,\\\"target_id\\\":26,\\\"type\\\":\\\"CurriculumPrerequisite\\\"},{\\\"source_id\\\":20,\\\"target_id\\\":26,\\\"type\\\":\\\"CurriculumCorequisite\\\"},{\\\"source_id\\\":2,\\\"target_id\\\":26,\\\"type\\\":\\\"CurriculumPrerequisite\\\"}],\\\"name\\\":\\\"CHEM 480A\\\",\\\"metrics\\\":{\\\"centrality\\\":129,\\\"complexity\\\":16.0,\\\"blocking factor\\\":8,\\\"delay factor\\\":8.0},\\\"nameSub\\\":\\\"Physical Chem\\\",\\\"id\\\":26,\\\"credits\\\":3,\\\"nameCanonical\\\":\\\"\\\"},{\\\"curriculum_requisites\\\":[],\\\"name\\\":\\\" \\\",\\\"metrics\\\":{\\\"centrality\\\":0,\\\"complexity\\\":1.0,\\\"blocking factor\\\":0,\\\"delay factor\\\":1.0},\\\"nameSub\\\":\\\"Tier I General Ed\\\",\\\"id\\\":27,\\\"credits\\\":3,\\\"nameCanonical\\\":\\\"\\\"}],\\\"id\\\":5},{\\\"name\\\":\\\"Term 6\\\",\\\"curriculum_items\\\":[{\\\"curriculum_requisites\\\":[{\\\"source_id\\\":22,\\\"target_id\\\":28,\\\"type\\\":\\\"CurriculumPrerequisite\\\"},{\\\"source_id\\\":23,\\\"target_id\\\":28,\\\"type\\\":\\\"CurriculumPrerequisite\\\"}],\\\"name\\\":\\\"CHEE 305\\\",\\\"metrics\\\":{\\\"centrality\\\":191,\\\"complexity\\\":14.0,\\\"blocking factor\\\":3,\\\"delay factor\\\":11.0},\\\"nameSub\\\":\\\"Chem Eng Transport Phenom\\\",\\\"id\\\":28,\\\"credits\\\":3,\\\"nameCanonical\\\":\\\"\\\"},{\\\"curriculum_requisites\\\":[{\\\"source_id\\\":11,\\\"target_id\\\":29,\\\"type\\\":\\\"CurriculumPrerequisite\\\"},{\\\"source_id\\\":26,\\\"target_id\\\":29,\\\"type\\\":\\\"CurriculumPrerequisite\\\"}],\\\"name\\\":\\\"CHEE 326\\\",\\\"metrics\\\":{\\\"centrality\\\":247,\\\"complexity\\\":14.0,\\\"blocking factor\\\":6,\\\"delay factor\\\":8.0},\\\"nameSub\\\":\\\"Chem & Phys Equilibrium\\\",\\\"id\\\":29,\\\"credits\\\":3,\\\"nameCanonical\\\":\\\"\\\"},{\\\"curriculum_requisites\\\":[{\\\"source_id\\\":22,\\\"target_id\\\":31,\\\"type\\\":\\\"CurriculumPrerequisite\\\"},{\\\"source_id\\\":29,\\\"target_id\\\":31,\\\"type\\\":\\\"CurriculumStrictCorequisite\\\"},{\\\"source_id\\\":24,\\\"target_id\\\":31,\\\"type\\\":\\\"CurriculumPrerequisite\\\"},{\\\"source_id\\\":28,\\\"target_id\\\":31,\\\"type\\\":\\\"CurriculumStrictCorequisite\\\"}],\\\"name\\\":\\\"CHEE 301B\\\",\\\"metrics\\\":{\\\"centrality\\\":610,\\\"complexity\\\":13.0,\\\"blocking factor\\\":2,\\\"delay factor\\\":11.0},\\\"nameSub\\\":\\\"Chem Eng Lab II\\\",\\\"id\\\":31,\\\"credits\\\":1,\\\"nameCanonical\\\":\\\"\\\"},{\\\"curriculum_requisites\\\":[],\\\"name\\\":\\\" \\\",\\\"metrics\\\":{\\\"centrality\\\":0,\\\"complexity\\\":1.0,\\\"blocking factor\\\":0,\\\"delay factor\\\":1.0},\\\"nameSub\\\":\\\"Engineering Elective\\\",\\\"id\\\":32,\\\"credits\\\":3,\\\"nameCanonical\\\":\\\"\\\"},{\\\"curriculum_requisites\\\":[],\\\"name\\\":\\\" \\\",\\\"metrics\\\":{\\\"centrality\\\":0,\\\"complexity\\\":1.0,\\\"blocking factor\\\":0,\\\"delay factor\\\":1.0},\\\"nameSub\\\":\\\"Technical Elective\\\",\\\"id\\\":33,\\\"credits\\\":3,\\\"nameCanonical\\\":\\\"\\\"},{\\\"curriculum_requisites\\\":[],\\\"name\\\":\\\" \\\",\\\"metrics\\\":{\\\"centrality\\\":0,\\\"complexity\\\":1.0,\\\"blocking factor\\\":0,\\\"delay factor\\\":1.0},\\\"nameSub\\\":\\\"Tier I General Ed\\\",\\\"id\\\":34,\\\"credits\\\":3,\\\"nameCanonical\\\":\\\"\\\"}],\\\"id\\\":6},{\\\"name\\\":\\\"Term 7\\\",\\\"curriculum_items\\\":[{\\\"curriculum_requisites\\\":[{\\\"source_id\\\":29,\\\"target_id\\\":35,\\\"type\\\":\\\"CurriculumPrerequisite\\\"}],\\\"name\\\":\\\"CHEE 420\\\",\\\"metrics\\\":{\\\"centrality\\\":128,\\\"complexity\\\":12.0,\\\"blocking factor\\\":4,\\\"delay factor\\\":8.0},\\\"nameSub\\\":\\\"Chem Reaction Eng\\\",\\\"id\\\":35,\\\"credits\\\":3,\\\"nameCanonical\\\":\\\"\\\"},{\\\"curriculum_requisites\\\":[{\\\"source_id\\\":22,\\\"target_id\\\":36,\\\"type\\\":\\\"CurriculumPrerequisite\\\"},{\\\"source_id\\\":29,\\\"target_id\\\":36,\\\"type\\\":\\\"CurriculumPrerequisite\\\"},{\\\"source_id\\\":35,\\\"target_id\\\":36,\\\"type\\\":\\\"CurriculumStrictCorequisite\\\"}],\\\"name\\\":\\\"CHEE 442\\\",\\\"metrics\\\":{\\\"centrality\\\":160,\\\"complexity\\\":9.0,\\\"blocking factor\\\":1,\\\"delay factor\\\":8.0},\\\"nameSub\\\":\\\"Chem Eng Design Principles\\\",\\\"id\\\":36,\\\"credits\\\":3,\\\"nameCanonical\\\":\\\"\\\"},{\\\"curriculum_requisites\\\":[{\\\"source_id\\\":35,\\\"target_id\\\":37,\\\"type\\\":\\\"CurriculumCorequisite\\\"},{\\\"source_id\\\":31,\\\"target_id\\\":37,\\\"type\\\":\\\"CurriculumPrerequisite\\\"}],\\\"name\\\":\\\"CHEE 401A\\\",\\\"metrics\\\":{\\\"centrality\\\":674,\\\"complexity\\\":12.0,\\\"blocking factor\\\":1,\\\"delay factor\\\":11.0},\\\"nameSub\\\":\\\"Chem and Enviorn Eng Lab I\\\",\\\"id\\\":37,\\\"credits\\\":1,\\\"nameCanonical\\\":\\\"\\\"},{\\\"curriculum_requisites\\\":[],\\\"name\\\":\\\" \\\",\\\"metrics\\\":{\\\"centrality\\\":0,\\\"complexity\\\":1.0,\\\"blocking factor\\\":0,\\\"delay factor\\\":1.0},\\\"nameSub\\\":\\\"Engineering Elective\\\",\\\"id\\\":38,\\\"credits\\\":3,\\\"nameCanonical\\\":\\\"\\\"},{\\\"curriculum_requisites\\\":[{\\\"source_id\\\":26,\\\"target_id\\\":39,\\\"type\\\":\\\"CurriculumPrerequisite\\\"}],\\\"name\\\":\\\"CHEM 480B\\\",\\\"metrics\\\":{\\\"centrality\\\":0,\\\"complexity\\\":5.0,\\\"blocking factor\\\":0,\\\"delay factor\\\":5.0},\\\"nameSub\\\":\\\"Physical Chem\\\",\\\"id\\\":39,\\\"credits\\\":3,\\\"nameCanonical\\\":\\\"\\\"},{\\\"curriculum_requisites\\\":[],\\\"name\\\":\\\" \\\",\\\"metrics\\\":{\\\"centrality\\\":0,\\\"complexity\\\":1.0,\\\"blocking factor\\\":0,\\\"delay factor\\\":1.0},\\\"nameSub\\\":\\\"Tier II General Ed\\\",\\\"id\\\":40,\\\"credits\\\":3,\\\"nameCanonical\\\":\\\"\\\"}],\\\"id\\\":7},{\\\"name\\\":\\\"Term 8\\\",\\\"curriculum_items\\\":[{\\\"curriculum_requisites\\\":[{\\\"source_id\\\":23,\\\"target_id\\\":41,\\\"type\\\":\\\"CurriculumPrerequisite\\\"}],\\\"name\\\":\\\"CHEE 413\\\",\\\"metrics\\\":{\\\"centrality\\\":108,\\\"complexity\\\":10.0,\\\"blocking factor\\\":1,\\\"delay factor\\\":9.0},\\\"nameSub\\\":\\\"Process Control and Simulation\\\",\\\"id\\\":41,\\\"credits\\\":3,\\\"nameCanonical\\\":\\\"\\\"},{\\\"curriculum_requisites\\\":[{\\\"source_id\\\":41,\\\"target_id\\\":42,\\\"type\\\":\\\"CurriculumCorequisite\\\"},{\\\"source_id\\\":24,\\\"target_id\\\":42,\\\"type\\\":\\\"CurriculumPrerequisite\\\"},{\\\"source_id\\\":37,\\\"target_id\\\":42,\\\"type\\\":\\\"CurriculumPrerequisite\\\"}],\\\"name\\\":\\\"CHEE 401B\\\",\\\"metrics\\\":{\\\"centrality\\\":0,\\\"complexity\\\":11.0,\\\"blocking factor\\\":0,\\\"delay factor\\\":11.0},\\\"nameSub\\\":\\\"Process Dynamics and Control Lab\\\",\\\"id\\\":42,\\\"credits\\\":1,\\\"nameCanonical\\\":\\\"\\\"},{\\\"curriculum_requisites\\\":[{\\\"source_id\\\":36,\\\"target_id\\\":43,\\\"type\\\":\\\"CurriculumPrerequisite\\\"}],\\\"name\\\":\\\"CHEE 443\\\",\\\"metrics\\\":{\\\"centrality\\\":0,\\\"complexity\\\":8.0,\\\"blocking factor\\\":0,\\\"delay factor\\\":8.0},\\\"nameSub\\\":\\\"Chem Eng Plant Design\\\",\\\"id\\\":43,\\\"credits\\\":3,\\\"nameCanonical\\\":\\\"\\\"},{\\\"curriculum_requisites\\\":[],\\\"name\\\":\\\" \\\",\\\"metrics\\\":{\\\"centrality\\\":0,\\\"complexity\\\":1.0,\\\"blocking factor\\\":0,\\\"delay factor\\\":1.0},\\\"nameSub\\\":\\\"Engineering Elective\\\",\\\"id\\\":44,\\\"credits\\\":3,\\\"nameCanonical\\\":\\\"\\\"},{\\\"curriculum_requisites\\\":[],\\\"name\\\":\\\" \\\",\\\"metrics\\\":{\\\"centrality\\\":0,\\\"complexity\\\":1.0,\\\"blocking factor\\\":0,\\\"delay factor\\\":1.0},\\\"nameSub\\\":\\\"Technical Elective\\\",\\\"id\\\":45,\\\"credits\\\":3,\\\"nameCanonical\\\":\\\"\\\"},{\\\"curriculum_requisites\\\":[],\\\"name\\\":\\\" \\\",\\\"metrics\\\":{\\\"centrality\\\":0,\\\"complexity\\\":1.0,\\\"blocking factor\\\":0,\\\"delay factor\\\":1.0},\\\"nameSub\\\":\\\"Tier II General Ed\\\",\\\"id\\\":46,\\\"credits\\\":3,\\\"nameCanonical\\\":\\\"\\\"}],\\\"id\\\":8}],\\\"institution\\\":\\\"University of Arizona\\\"}},\\\"*\\\"); window.removeEventListener(\\\"message\\\",window.messageReceived); window.messageReceived=(function (event){return (event.data.curriculum!==undefined) ? (WebIO.setval({\\\"name\\\":\\\"curriculum-data\\\",\\\"scope\\\":\\\"5426817702231385772\\\",\\\"id\\\":\\\"636619012853829417\\\",\\\"type\\\":\\\"observable\\\"},event.data.curriculum)) : undefined}); return window.addEventListener(\\\"message\\\",window.messageReceived)})\")), :style => Dict(:padding => \"0\", :height => \"85vh\", :margin => \"0\", :border => \"none\", :width => \"100%\"))), Dict{String, Tuple{Observables.AbstractObservable, Union{Nothing, Bool}}}(\"curriculum-data\" => (Observable{Dict{String, Any}} with 1 listeners. Value:\n",
       "Dict{String, Any}(\"options\" => Dict{String, Any}(\"hideTerms\" => false, \"edit\" => false), \"curriculum\" => Dict{String, Any}(\"name\" => \"Chemical Engineering\", \"dp_name\" => \"2019-20 Degree Plan\", \"curriculum_terms\" => Dict{String, Any}[Dict(\"name\" => \"Term 1\", \"curriculum_items\" => Dict{String, Any}[Dict(\"curriculum_requisites\" => Dict{String, Any}[], \"name\" => \"MATH 125\", \"metrics\" => Dict{String, Any}(\"centrality\" => 0, \"complexity\" => 37.0, \"blocking factor\" => 26, \"delay factor\" => 11.0), \"nameSub\" => \"Calculus I w/ Applications\", \"id\" => 1, \"credits\" => 3, \"nameCanonical\" => \"\"), Dict(\"curriculum_requisites\" => Dict{String, Any}[], \"name\" => \"CHEM 151\", \"metrics\" => Dict{String, Any}(\"centrality\" => 0, \"complexity\" => 31.0, \"blocking factor\" => 21, \"delay factor\" => 10.0), \"nameSub\" => \"Gen Chemistry I\", \"id\" => 2, \"credits\" => 4, \"nameCanonical\" => \"\"), Dict(\"curriculum_requisites\" => Dict{String, Any}[], \"name\" => \"ENGL 101\", \"metrics\" => Dict{String, Any}(\"centrality\" => 0, \"complexity\" => 3.0, \"blocking factor\" => 1, \"delay factor\" => 2.0), \"nameSub\" => \"First-year Comp\", \"id\" => 3, \"credits\" => 3, \"nameCanonical\" => \"\"), Dict(\"curriculum_requisites\" => Dict{String, Any}[Dict(\"source_id\" => 1, \"target_id\" => 4, \"type\" => \"CurriculumCorequisite\")], \"name\" => \"ENGR 102\", \"metrics\" => Dict{String, Any}(\"centrality\" => 163, \"complexity\" => 25.0, \"blocking factor\" => 15, \"delay factor\" => 10.0), \"nameSub\" => \"Intro to Engineering\", \"id\" => 4, \"credits\" => 3, \"nameCanonical\" => \"\"), Dict(\"curriculum_requisites\" => Dict{String, Any}[], \"name\" => \" \", \"metrics\" => Dict{String, Any}(\"centrality\" => 0, \"complexity\" => 1.0, \"blocking factor\" => 0, \"delay factor\" => 1.0), \"nameSub\" => \"Tier I General Ed\", \"id\" => 5, \"credits\" => 3, \"nameCanonical\" => \"\")], \"id\" => 1), Dict(\"name\" => \"Term 2\", \"curriculum_items\" => Dict{String, Any}[Dict(\"curriculum_requisites\" => Dict{String, Any}[Dict(\"source_id\" => 1, \"target_id\" => 6, \"type\" => \"CurriculumPrerequisite\")], \"name\" => \"MATH 129\", \"metrics\" => Dict{String, Any}(\"centrality\" => 156, \"complexity\" => 26.0, \"blocking factor\" => 17, \"delay factor\" => 9.0), \"nameSub\" => \"Calculus II\", \"id\" => 6, \"credits\" => 3, \"nameCanonical\" => \"\"), Dict(\"curriculum_requisites\" => Dict{String, Any}[Dict(\"source_id\" => 2, \"target_id\" => 7, \"type\" => \"CurriculumPrerequisite\")], \"name\" => \"CHEM 152\", \"metrics\" => Dict{String, Any}(\"centrality\" => 171, \"complexity\" => 28.0, \"blocking factor\" => 18, \"delay factor\" => 10.0), \"nameSub\" => \"Gen Chemistry II\", \"id\" => 7, \"credits\" => 4, \"nameCanonical\" => \"\"), Dict(\"curriculum_requisites\" => Dict{String, Any}[Dict(\"source_id\" => 1, \"target_id\" => 8, \"type\" => \"CurriculumPrerequisite\")], \"name\" => \"PHYS 141\", \"metrics\" => Dict{String, Any}(\"centrality\" => 115, \"complexity\" => 25.0, \"blocking factor\" => 16, \"delay factor\" => 9.0), \"nameSub\" => \"Intro Mechanics\", \"id\" => 8, \"credits\" => 4, \"nameCanonical\" => \"\"), Dict(\"curriculum_requisites\" => Dict{String, Any}[Dict(\"source_id\" => 3, \"target_id\" => 9, \"type\" => \"CurriculumPrerequisite\")], \"name\" => \"ENGL 102\", \"metrics\" => Dict{String, Any}(\"centrality\" => 0, \"complexity\" => 2.0, \"blocking factor\" => 0, \"delay factor\" => 2.0), \"nameSub\" => \"First-year Comp.\", \"id\" => 9, \"credits\" => 3, \"nameCanonical\" => \"\"), Dict(\"curriculum_requisites\" => Dict{String, Any}[Dict(\"source_id\" => 1, \"target_id\" => 10, \"type\" => \"CurriculumCorequisite\")], \"name\" => \"AME 105\", \"metrics\" => Dict{String, Any}(\"centrality\" => 393, \"complexity\" => 28.0, \"blocking factor\" => 17, \"delay factor\" => 11.0), \"nameSub\" => \"Intro to MATLAB I\", \"id\" => 10, \"credits\" => 1, \"nameCanonical\" => \"\")], \"id\" => 2), Dict(\"name\" => \"Term 3\", \"curriculum_items\" => Dict{String, Any}[Dict(\"curriculum_requisites\" => Dict{String, Any}[Dict(\"source_id\" => 4, \"target_id\" => 11, \"type\" => \"CurriculumPrerequisite\"), Dict(\"source_id\" => 47, \"target_id\" => 11, \"type\" => \"CurriculumCorequisite\"), Dict(\"source_id\" => 7, \"target_id\" => 11, \"type\" => \"CurriculumPrerequisite\"), Dict(\"source_id\" => 10, \"target_id\" => 11, \"type\" => \"CurriculumPrerequisite\"), Dict(\"source_id\" => 1, \"target_id\" => 11, \"type\" => \"CurriculumPrerequisite\")], \"name\" => \"CHEE 201\", \"metrics\" => Dict{String, Any}(\"centrality\" => 815, \"complexity\" => 25.0, \"blocking factor\" => 14, \"delay factor\" => 11.0), \"nameSub\" => \"Elements of Chem and Envirn Eng I\", \"id\" => 11, \"credits\" => 3, \"nameCanonical\" => \"\"), Dict(\"curriculum_requisites\" => Dict{String, Any}[Dict(\"source_id\" => 10, \"target_id\" => 12, \"type\" => \"CurriculumCorequisite\"), Dict(\"source_id\" => 1, \"target_id\" => 12, \"type\" => \"CurriculumPrerequisite\")], \"name\" => \"CHEE 201L\", \"metrics\" => Dict{String, Any}(\"centrality\" => 86, \"complexity\" => 17.0, \"blocking factor\" => 8, \"delay factor\" => 9.0), \"nameSub\" => \"Elements of Chem and Envirn Eng I Lab\", \"id\" => 12, \"credits\" => 1, \"nameCanonical\" => \"\"), Dict(\"curriculum_requisites\" => Dict{String, Any}[Dict(\"source_id\" => 6, \"target_id\" => 13, \"type\" => \"CurriculumPrerequisite\")], \"name\" => \"MATH  223\", \"metrics\" => Dict{String, Any}(\"centrality\" => 0, \"complexity\" => 3.0, \"blocking factor\" => 0, \"delay factor\" => 3.0), \"nameSub\" => \"Vector Calculus\", \"id\" => 13, \"credits\" => 4, \"nameCanonical\" => \"\"), Dict(\"curriculum_requisites\" => Dict{String, Any}[Dict(\"source_id\" => 7, \"target_id\" => 14, \"type\" => \"CurriculumPrerequisite\")], \"name\" => \"CHEM  241A\", \"metrics\" => Dict{String, Any}(\"centrality\" => 8, \"complexity\" => 6.0, \"blocking factor\" => 2, \"delay factor\" => 4.0), \"nameSub\" => \"Lectures in Org Chem\", \"id\" => 14, \"credits\" => 3, \"nameCanonical\" => \"\"), Dict(\"curriculum_requisites\" => Dict{String, Any}[Dict(\"source_id\" => 14, \"target_id\" => 15, \"type\" => \"CurriculumCorequisite\")], \"name\" => \"CHEM  243A\", \"metrics\" => Dict{String, Any}(\"centrality\" => 0, \"complexity\" => 4.0, \"blocking factor\" => 0, \"delay factor\" => 4.0), \"nameSub\" => \"Org Chem Lab\", \"id\" => 15, \"credits\" => 1, \"nameCanonical\" => \"\"), Dict(\"curriculum_requisites\" => Dict{String, Any}[], \"name\" => \" \", \"metrics\" => Dict{String, Any}(\"centrality\" => 0, \"complexity\" => 1.0, \"blocking factor\" => 0, \"delay factor\" => 1.0), \"nameSub\" => \"Tier I General Ed\", \"id\" => 16, \"credits\" => 3, \"nameCanonical\" => \"\"), Dict(\"curriculum_requisites\" => Dict{String, Any}[Dict(\"source_id\" => 10, \"target_id\" => 47, \"type\" => \"CurriculumPrerequisite\")], \"name\" => \"AME 205\", \"metrics\" => Dict{String, Any}(\"centrality\" => 184, \"complexity\" => 26.0, \"blocking factor\" => 15, \"delay factor\" => 11.0), \"nameSub\" => \"Intro to MATLAB II\", \"id\" => 47, \"credits\" => 1, \"nameCanonical\" => \"\")], \"id\" => 3), Dict(\"name\" => \"Term 4\", \"curriculum_items\" => Dict{String, Any}[Dict(\"curriculum_requisites\" => Dict{String, Any}[Dict(\"source_id\" => 11, \"target_id\" => 17, \"type\" => \"CurriculumPrerequisite\"), Dict(\"source_id\" => 12, \"target_id\" => 17, \"type\" => \"CurriculumPrerequisite\"), Dict(\"source_id\" => 19, \"target_id\" => 17, \"type\" => \"CurriculumCorequisite\")], \"name\" => \"CHEE 202\", \"metrics\" => Dict{String, Any}(\"centrality\" => 362, \"complexity\" => 17.0, \"blocking factor\" => 7, \"delay factor\" => 10.0), \"nameSub\" => \"Elements of Chem Eng II\", \"id\" => 17, \"credits\" => 4, \"nameCanonical\" => \"\"), Dict(\"curriculum_requisites\" => Dict{String, Any}[Dict(\"source_id\" => 11, \"target_id\" => 18, \"type\" => \"CurriculumPrerequisite\"), Dict(\"source_id\" => 8, \"target_id\" => 18, \"type\" => \"CurriculumPrerequisite\")], \"name\" => \"CHEE 203\", \"metrics\" => Dict{String, Any}(\"centrality\" => 529, \"complexity\" => 21.0, \"blocking factor\" => 10, \"delay factor\" => 11.0), \"nameSub\" => \"Chem Eng Heat Xfer & Fluid Flow\", \"id\" => 18, \"credits\" => 3, \"nameCanonical\" => \"\"), Dict(\"curriculum_requisites\" => Dict{String, Any}[Dict(\"source_id\" => 6, \"target_id\" => 19, \"type\" => \"CurriculumPrerequisite\")], \"name\" => \"MATH 254\", \"metrics\" => Dict{String, Any}(\"centrality\" => 86, \"complexity\" => 17.0, \"blocking factor\" => 8, \"delay factor\" => 9.0), \"nameSub\" => \"Intro to ODEs\", \"id\" => 19, \"credits\" => 3, \"nameCanonical\" => \"\"), Dict(\"curriculum_requisites\" => Dict{String, Any}[Dict(\"source_id\" => 6, \"target_id\" => 20, \"type\" => \"CurriculumPrerequisite\"), Dict(\"source_id\" => 8, \"target_id\" => 20, \"type\" => \"CurriculumPrerequisite\")], \"name\" => \"PHYS 241\", \"metrics\" => Dict{String, Any}(\"centrality\" => 72, \"complexity\" => 17.0, \"blocking factor\" => 9, \"delay factor\" => 8.0), \"nameSub\" => \"Electricity & Magnetism\", \"id\" => 20, \"credits\" => 4, \"nameCanonical\" => \"\"), Dict(\"curriculum_requisites\" => Dict{String, Any}[Dict(\"source_id\" => 14, \"target_id\" => 21, \"type\" => \"CurriculumPrerequisite\")], \"name\" => \"CHEM 241B\", \"metrics\" => Dict{String, Any}(\"centrality\" => 0, \"complexity\" => 4.0, \"blocking factor\" => 0, \"delay factor\" => 4.0), \"nameSub\" => \"Lectures in Org Chem\", \"id\" => 21, \"credits\" => 3, \"nameCanonical\" => \"\")], \"id\" => 4), Dict(\"name\" => \"Term 5\", \"curriculum_items\" => Dict{String, Any}[Dict(\"curriculum_requisites\" => Dict{String, Any}[Dict(\"source_id\" => 18, \"target_id\" => 22, \"type\" => \"CurriculumPrerequisite\")], \"name\" => \"CHEE 303\", \"metrics\" => Dict{String, Any}(\"centrality\" => 447, \"complexity\" => 20.0, \"blocking factor\" => 9, \"delay factor\" => 11.0), \"nameSub\" => \"Chem Eng Mass Xfer\", \"id\" => 22, \"credits\" => 3, \"nameCanonical\" => \"\"), Dict(\"curriculum_requisites\" => Dict{String, Any}[Dict(\"source_id\" => 22, \"target_id\" => 23, \"type\" => \"CurriculumStrictCorequisite\"), Dict(\"source_id\" => 17, \"target_id\" => 23, \"type\" => \"CurriculumPrerequisite\"), Dict(\"source_id\" => 19, \"target_id\" => 23, \"type\" => \"CurriculumPrerequisite\")], \"name\" => \"CHEE 402\", \"metrics\" => Dict{String, Any}(\"centrality\" => 492, \"complexity\" => 17.0, \"blocking factor\" => 6, \"delay factor\" => 11.0), \"nameSub\" => \"Chem Eng Modeling\", \"id\" => 23, \"credits\" => 3, \"nameCanonical\" => \"\"), Dict(\"curriculum_requisites\" => Dict{String, Any}[Dict(\"source_id\" => 22, \"target_id\" => 24, \"type\" => \"CurriculumStrictCorequisite\"), Dict(\"source_id\" => 18, \"target_id\" => 24, \"type\" => \"CurriculumPrerequisite\"), Dict(\"source_id\" => 17, \"target_id\" => 24, \"type\" => \"CurriculumPrerequisite\"), Dict(\"source_id\" => 23, \"target_id\" => 24, \"type\" => \"CurriculumStrictCorequisite\"), Dict(\"source_id\" => 19, \"target_id\" => 24, \"type\" => \"CurriculumPrerequisite\")], \"name\" => \"CHEE 301A\", \"metrics\" => Dict{String, Any}(\"centrality\" => 544, \"complexity\" => 14.0, \"blocking factor\" => 3, \"delay factor\" => 11.0), \"nameSub\" => \"Chem Eng Lab I\", \"id\" => 24, \"credits\" => 1, \"nameCanonical\" => \"\"), Dict(\"curriculum_requisites\" => Dict{String, Any}[], \"name\" => \"CHEE 489\", \"metrics\" => Dict{String, Any}(\"centrality\" => 0, \"complexity\" => 1.0, \"blocking factor\" => 0, \"delay factor\" => 1.0), \"nameSub\" => \"Trends in Nanomedicine Eng\", \"id\" => 25, \"credits\" => 3, \"nameCanonical\" => \"\"), Dict(\"curriculum_requisites\" => Dict{String, Any}[Dict(\"source_id\" => 6, \"target_id\" => 26, \"type\" => \"CurriculumPrerequisite\"), Dict(\"source_id\" => 20, \"target_id\" => 26, \"type\" => \"CurriculumCorequisite\"), Dict(\"source_id\" => 2, \"target_id\" => 26, \"type\" => \"CurriculumPrerequisite\")], \"name\" => \"CHEM 480A\", \"metrics\" => Dict{String, Any}(\"centrality\" => 129, \"complexity\" => 16.0, \"blocking factor\" => 8, \"delay factor\" => 8.0), \"nameSub\" => \"Physical Chem\", \"id\" => 26, \"credits\" => 3, \"nameCanonical\" => \"\"), Dict(\"curriculum_requisites\" => Dict{String, Any}[], \"name\" => \" \", \"metrics\" => Dict{String, Any}(\"centrality\" => 0, \"complexity\" => 1.0, \"blocking factor\" => 0, \"delay factor\" => 1.0), \"nameSub\" => \"Tier I General Ed\", \"id\" => 27, \"credits\" => 3, \"nameCanonical\" => \"\")], \"id\" => 5), Dict(\"name\" => \"Term 6\", \"curriculum_items\" => Dict{String, Any}[Dict(\"curriculum_requisites\" => Dict{String, Any}[Dict(\"source_id\" => 22, \"target_id\" => 28, \"type\" => \"CurriculumPrerequisite\"), Dict(\"source_id\" => 23, \"target_id\" => 28, \"type\" => \"CurriculumPrerequisite\")], \"name\" => \"CHEE 305\", \"metrics\" => Dict{String, Any}(\"centrality\" => 191, \"complexity\" => 14.0, \"blocking factor\" => 3, \"delay factor\" => 11.0), \"nameSub\" => \"Chem Eng Transport Phenom\", \"id\" => 28, \"credits\" => 3, \"nameCanonical\" => \"\"), Dict(\"curriculum_requisites\" => Dict{String, Any}[Dict(\"source_id\" => 11, \"target_id\" => 29, \"type\" => \"CurriculumPrerequisite\"), Dict(\"source_id\" => 26, \"target_id\" => 29, \"type\" => \"CurriculumPrerequisite\")], \"name\" => \"CHEE 326\", \"metrics\" => Dict{String, Any}(\"centrality\" => 247, \"complexity\" => 14.0, \"blocking factor\" => 6, \"delay factor\" => 8.0), \"nameSub\" => \"Chem & Phys Equilibrium\", \"id\" => 29, \"credits\" => 3, \"nameCanonical\" => \"\"), Dict(\"curriculum_requisites\" => Dict{String, Any}[Dict(\"source_id\" => 22, \"target_id\" => 31, \"type\" => \"CurriculumPrerequisite\"), Dict(\"source_id\" => 29, \"target_id\" => 31, \"type\" => \"CurriculumStrictCorequisite\"), Dict(\"source_id\" => 24, \"target_id\" => 31, \"type\" => \"CurriculumPrerequisite\"), Dict(\"source_id\" => 28, \"target_id\" => 31, \"type\" => \"CurriculumStrictCorequisite\")], \"name\" => \"CHEE 301B\", \"metrics\" => Dict{String, Any}(\"centrality\" => 610, \"complexity\" => 13.0, \"blocking factor\" => 2, \"delay factor\" => 11.0), \"nameSub\" => \"Chem Eng Lab II\", \"id\" => 31, \"credits\" => 1, \"nameCanonical\" => \"\"), Dict(\"curriculum_requisites\" => Dict{String, Any}[], \"name\" => \" \", \"metrics\" => Dict{String, Any}(\"centrality\" => 0, \"complexity\" => 1.0, \"blocking factor\" => 0, \"delay factor\" => 1.0), \"nameSub\" => \"Engineering Elective\", \"id\" => 32, \"credits\" => 3, \"nameCanonical\" => \"\"), Dict(\"curriculum_requisites\" => Dict{String, Any}[], \"name\" => \" \", \"metrics\" => Dict{String, Any}(\"centrality\" => 0, \"complexity\" => 1.0, \"blocking factor\" => 0, \"delay factor\" => 1.0), \"nameSub\" => \"Technical Elective\", \"id\" => 33, \"credits\" => 3, \"nameCanonical\" => \"\"), Dict(\"curriculum_requisites\" => Dict{String, Any}[], \"name\" => \" \", \"metrics\" => Dict{String, Any}(\"centrality\" => 0, \"complexity\" => 1.0, \"blocking factor\" => 0, \"delay factor\" => 1.0), \"nameSub\" => \"Tier I General Ed\", \"id\" => 34, \"credits\" => 3, \"nameCanonical\" => \"\")], \"id\" => 6), Dict(\"name\" => \"Term 7\", \"curriculum_items\" => Dict{String, Any}[Dict(\"curriculum_requisites\" => Dict{String, Any}[Dict(\"source_id\" => 29, \"target_id\" => 35, \"type\" => \"CurriculumPrerequisite\")], \"name\" => \"CHEE 420\", \"metrics\" => Dict{String, Any}(\"centrality\" => 128, \"complexity\" => 12.0, \"blocking factor\" => 4, \"delay factor\" => 8.0), \"nameSub\" => \"Chem Reaction Eng\", \"id\" => 35, \"credits\" => 3, \"nameCanonical\" => \"\"), Dict(\"curriculum_requisites\" => Dict{String, Any}[Dict(\"source_id\" => 22, \"target_id\" => 36, \"type\" => \"CurriculumPrerequisite\"), Dict(\"source_id\" => 29, \"target_id\" => 36, \"type\" => \"CurriculumPrerequisite\"), Dict(\"source_id\" => 35, \"target_id\" => 36, \"type\" => \"CurriculumStrictCorequisite\")], \"name\" => \"CHEE 442\", \"metrics\" => Dict{String, Any}(\"centrality\" => 160, \"complexity\" => 9.0, \"blocking factor\" => 1, \"delay factor\" => 8.0), \"nameSub\" => \"Chem Eng Design Principles\", \"id\" => 36, \"credits\" => 3, \"nameCanonical\" => \"\"), Dict(\"curriculum_requisites\" => Dict{String, Any}[Dict(\"source_id\" => 35, \"target_id\" => 37, \"type\" => \"CurriculumCorequisite\"), Dict(\"source_id\" => 31, \"target_id\" => 37, \"type\" => \"CurriculumPrerequisite\")], \"name\" => \"CHEE 401A\", \"metrics\" => Dict{String, Any}(\"centrality\" => 674, \"complexity\" => 12.0, \"blocking factor\" => 1, \"delay factor\" => 11.0), \"nameSub\" => \"Chem and Enviorn Eng Lab I\", \"id\" => 37, \"credits\" => 1, \"nameCanonical\" => \"\"), Dict(\"curriculum_requisites\" => Dict{String, Any}[], \"name\" => \" \", \"metrics\" => Dict{String, Any}(\"centrality\" => 0, \"complexity\" => 1.0, \"blocking factor\" => 0, \"delay factor\" => 1.0), \"nameSub\" => \"Engineering Elective\", \"id\" => 38, \"credits\" => 3, \"nameCanonical\" => \"\"), Dict(\"curriculum_requisites\" => Dict{String, Any}[Dict(\"source_id\" => 26, \"target_id\" => 39, \"type\" => \"CurriculumPrerequisite\")], \"name\" => \"CHEM 480B\", \"metrics\" => Dict{String, Any}(\"centrality\" => 0, \"complexity\" => 5.0, \"blocking factor\" => 0, \"delay factor\" => 5.0), \"nameSub\" => \"Physical Chem\", \"id\" => 39, \"credits\" => 3, \"nameCanonical\" => \"\"), Dict(\"curriculum_requisites\" => Dict{String, Any}[], \"name\" => \" \", \"metrics\" => Dict{String, Any}(\"centrality\" => 0, \"complexity\" => 1.0, \"blocking factor\" => 0, \"delay factor\" => 1.0), \"nameSub\" => \"Tier II General Ed\", \"id\" => 40, \"credits\" => 3, \"nameCanonical\" => \"\")], \"id\" => 7), Dict(\"name\" => \"Term 8\", \"curriculum_items\" => Dict{String, Any}[Dict(\"curriculum_requisites\" => Dict{String, Any}[Dict(\"source_id\" => 23, \"target_id\" => 41, \"type\" => \"CurriculumPrerequisite\")], \"name\" => \"CHEE 413\", \"metrics\" => Dict{String, Any}(\"centrality\" => 108, \"complexity\" => 10.0, \"blocking factor\" => 1, \"delay factor\" => 9.0), \"nameSub\" => \"Process Control and Simulation\", \"id\" => 41, \"credits\" => 3, \"nameCanonical\" => \"\"), Dict(\"curriculum_requisites\" => Dict{String, Any}[Dict(\"source_id\" => 41, \"target_id\" => 42, \"type\" => \"CurriculumCorequisite\"), Dict(\"source_id\" => 24, \"target_id\" => 42, \"type\" => \"CurriculumPrerequisite\"), Dict(\"source_id\" => 37, \"target_id\" => 42, \"type\" => \"CurriculumPrerequisite\")], \"name\" => \"CHEE 401B\", \"metrics\" => Dict{String, Any}(\"centrality\" => 0, \"complexity\" => 11.0, \"blocking factor\" => 0, \"delay factor\" => 11.0), \"nameSub\" => \"Process Dynamics and Control Lab\", \"id\" => 42, \"credits\" => 1, \"nameCanonical\" => \"\"), Dict(\"curriculum_requisites\" => Dict{String, Any}[Dict(\"source_id\" => 36, \"target_id\" => 43, \"type\" => \"CurriculumPrerequisite\")], \"name\" => \"CHEE 443\", \"metrics\" => Dict{String, Any}(\"centrality\" => 0, \"complexity\" => 8.0, \"blocking factor\" => 0, \"delay factor\" => 8.0), \"nameSub\" => \"Chem Eng Plant Design\", \"id\" => 43, \"credits\" => 3, \"nameCanonical\" => \"\"), Dict(\"curriculum_requisites\" => Dict{String, Any}[], \"name\" => \" \", \"metrics\" => Dict{String, Any}(\"centrality\" => 0, \"complexity\" => 1.0, \"blocking factor\" => 0, \"delay factor\" => 1.0), \"nameSub\" => \"Engineering Elective\", \"id\" => 44, \"credits\" => 3, \"nameCanonical\" => \"\"), Dict(\"curriculum_requisites\" => Dict{String, Any}[], \"name\" => \" \", \"metrics\" => Dict{String, Any}(\"centrality\" => 0, \"complexity\" => 1.0, \"blocking factor\" => 0, \"delay factor\" => 1.0), \"nameSub\" => \"Technical Elective\", \"id\" => 45, \"credits\" => 3, \"nameCanonical\" => \"\"), Dict(\"curriculum_requisites\" => Dict{String, Any}[], \"name\" => \" \", \"metrics\" => Dict{String, Any}(\"centrality\" => 0, \"complexity\" => 1.0, \"blocking factor\" => 0, \"delay factor\" => 1.0), \"nameSub\" => \"Tier II General Ed\", \"id\" => 46, \"credits\" => 3, \"nameCanonical\" => \"\")], \"id\" => 8)], \"institution\" => \"University of Arizona\")), nothing)), Set{String}(), nothing, WebIO.Asset[], Dict{Any, Any}(), WebIO.ConnectionPool(Channel{Any}(32), Set{WebIO.AbstractConnection}(), Condition(Base.InvasiveLinkedList{Task}(Task (runnable) @0x000000017c0a6dc0, Task (runnable) @0x000000017c0a6dc0), Base.AlwaysLockedST(1))), WebIO.JSString[])"
      ]
     },
     "execution_count": 2,
     "metadata": {
      "application/vnd.webio.node+json": {
       "kernelId": "3d4fac8b-cc24-4f67-b803-ef88e844262e"
      }
     },
     "output_type": "execute_result"
    }
   ],
   "source": [
    "ChemE = read_csv(\"./programs/UArizona-ChemE.csv\");\n",
    "visualize(ChemE, notebook=true, scale=0.85)"
   ]
  },
  {
   "cell_type": "markdown",
   "metadata": {},
   "source": [
    "### Analysis of the Curriculum\n",
    "Using the `basic_metrics()` function we can analyze the curriculum provided to non-transfer students in the Chemical Engineering program at the University of Arizona."
   ]
  },
  {
   "cell_type": "code",
   "execution_count": 3,
   "metadata": {},
   "outputs": [
    {
     "name": "stdout",
     "output_type": "stream",
     "text": [
      "\n",
      "University of Arizona \n",
      "Curriculum: Chemical Engineering\n",
      "  credit hours = 128\n",
      "  number of courses = 46\n",
      "  Blocking Factor --\n",
      "    entire curriculum = 248\n",
      "    max. value = 26, for course(s): MATH 125 - Calculus I w/ Applications\n",
      "  Centrality --\n",
      "    entire curriculum = 6870\n",
      "    max. value = 815, for course(s): CHEE 201 - Elements of Chem and Envirn Eng I\n",
      "  Delay Factor --\n",
      "    entire curriculum = 301.0\n",
      "    max. value = 11.0, for course(s): MATH 125 - Calculus I w/ Applications, AME 105 - Intro to MATLAB I, CHEE 201 - Elements of Chem and Envirn Eng I, CHEE 203 - Chem Eng Heat Xfer & Fluid Flow, CHEE 303 - Chem Eng Mass Xfer, CHEE 402 - Chem Eng Modeling, CHEE 301A - Chem Eng Lab I, CHEE 305 - Chem Eng Transport Phenom, CHEE 301B - Chem Eng Lab II, CHEE 401A - Chem and Enviorn Eng Lab I, CHEE 401B - Process Dynamics and Control Lab, AME 205 - Intro to MATLAB II\n",
      "  Complexity --\n",
      "    entire curriculum = 549.0\n",
      "    max. value = 37.0, for course(s): MATH 125 - Calculus I w/ Applications\n",
      "  Longest Path(s) --\n",
      "    length = 11, number of paths = 2\n",
      "    path(s):\n",
      "    path 1 = MATH 125 - Calculus I w/ Applications -> AME 105 - Intro to MATLAB I -> AME 205 - Intro to MATLAB II -> CHEE 201 - Elements of Chem and Envirn Eng I -> CHEE 203 - Chem Eng Heat Xfer & Fluid Flow -> CHEE 303 - Chem Eng Mass Xfer -> CHEE 402 - Chem Eng Modeling -> CHEE 301A - Chem Eng Lab I -> CHEE 301B - Chem Eng Lab II -> CHEE 401A - Chem and Enviorn Eng Lab I -> CHEE 401B - Process Dynamics and Control Lab\n",
      "    path 2 = MATH 125 - Calculus I w/ Applications -> AME 105 - Intro to MATLAB I -> AME 205 - Intro to MATLAB II -> CHEE 201 - Elements of Chem and Envirn Eng I -> CHEE 203 - Chem Eng Heat Xfer & Fluid Flow -> CHEE 303 - Chem Eng Mass Xfer -> CHEE 402 - Chem Eng Modeling -> CHEE 305 - Chem Eng Transport Phenom -> CHEE 301B - Chem Eng Lab II -> CHEE 401A - Chem and Enviorn Eng Lab I -> CHEE 401B - Process Dynamics and Control Lab\n",
      "\n"
     ]
    }
   ],
   "source": [
    "ChemE_curric_metrics = basic_metrics(ChemE.curriculum)\n",
    "println(String(take!(ChemE_curric_metrics)))"
   ]
  },
  {
   "cell_type": "markdown",
   "metadata": {},
   "source": [
    "**Curricular Complexity.** A number of items stand out in this analysis. First, the overall complexity of the curriculum, 549, is quite high, even for a STEM-based curriculum. Students attempting to complete curricula with this level of complexity tend to have difficulty completing them on time.\n",
    "\n",
    "**Gateway Course.** Next, notice that the there are two long pathways of requisites in this curriculum, and that both have Calculus I as the first course in the sequence. Thus, this course is likely the most important gateway course in this curriculum. Any delay in completing this course, or any lack of efficacy in attaining the course leanring outcomes will likely lead to a delay in completing this program on time (i.e, in four years)."
   ]
  },
  {
   "cell_type": "code",
   "execution_count": 4,
   "metadata": {},
   "outputs": [
    {
     "name": "stdout",
     "output_type": "stream",
     "text": [
      "\n",
      "Curriculum: Chemical Engineering\n",
      "Degree Plan: 2019-20 Degree Plan\n",
      "  total credit hours = 128\n",
      "  number of terms = 8\n",
      "  max. credits in a term = 17, in term 4\n",
      "  min. credits in a term = 15, in term 2\n",
      "  avg. credits per term = 16.0, with std. dev. = 0.5\n",
      "\n"
     ]
    }
   ],
   "source": [
    "ChemE_dp_metrics = basic_metrics(ChemE)\n",
    "println(String(take!(ChemE_dp_metrics)))"
   ]
  },
  {
   "cell_type": "markdown",
   "metadata": {},
   "source": [
    "Next, we will create a transfer plan that involves starting at a community college, earning the associate of science degree (with a pre-engineering concentration) in the first two years at Pima Community College, and then completing the Chemical Engineering bachelor's degree at the University of Arizona.  In the degree plan provided below, the first four terms are taken at Pima Community College, and the last five terms are taken at the University of Arizona."
   ]
  },
  {
   "cell_type": "code",
   "execution_count": 5,
   "metadata": {
    "scrolled": false
   },
   "outputs": [
    {
     "data": {
      "application/vnd.webio.node+json": {
       "children": [
        {
         "children": [
          ""
         ],
         "instanceArgs": {
          "namespace": "html",
          "tag": "iframe"
         },
         "nodeType": "DOM",
         "props": {
          "events": {
           "load": "(function (){this.contentWindow.postMessage({\"options\":{\"hideTerms\":false,\"edit\":true},\"curriculum\":{\"name\":\"Chemical Engineering\",\"dp_name\":\"2019-20 Pima to UA Transfer Degree Plan\",\"curriculum_terms\":[{\"name\":\"Term 1\",\"curriculum_items\":[{\"curriculum_requisites\":[],\"name\":\"MAT 220\",\"metrics\":{\"centrality\":0,\"complexity\":36.0,\"blocking factor\":26,\"delay factor\":10.0},\"nameSub\":\"Calculus I\",\"id\":1,\"credits\":5,\"nameCanonical\":\"Calculus I\"},{\"curriculum_requisites\":[{\"source_id\":3,\"target_id\":2,\"type\":\"CurriculumStrictCorequisite\"}],\"name\":\"CHM 151IN\",\"metrics\":{\"centrality\":291,\"complexity\":30.0,\"blocking factor\":20,\"delay factor\":10.0},\"nameSub\":\"Gen Chemistry I\",\"id\":2,\"credits\":4,\"nameCanonical\":\"General Chemsitry I\"},{\"curriculum_requisites\":[],\"name\":\"CHM 151RC\",\"metrics\":{\"centrality\":0,\"complexity\":31.0,\"blocking factor\":21,\"delay factor\":10.0},\"nameSub\":\"Gen Chemistry I Recitation\",\"id\":3,\"credits\":1,\"nameCanonical\":\"\"},{\"curriculum_requisites\":[],\"name\":\"WRT 101\",\"metrics\":{\"centrality\":0,\"complexity\":3.0,\"blocking factor\":1,\"delay factor\":2.0},\"nameSub\":\"English Composition I\",\"id\":4,\"credits\":3,\"nameCanonical\":\"English Composition I\"},{\"curriculum_requisites\":[{\"source_id\":1,\"target_id\":5,\"type\":\"CurriculumCorequisite\"}],\"name\":\"ENG 102IN\",\"metrics\":{\"centrality\":203,\"complexity\":24.0,\"blocking factor\":15,\"delay factor\":9.0},\"nameSub\":\"Problem-Solving and Engineering Design\",\"id\":5,\"credits\":3,\"nameCanonical\":\"Intro to Engineering\"},{\"curriculum_requisites\":[],\"name\":\" \",\"metrics\":{\"centrality\":0,\"complexity\":1.0,\"blocking factor\":0,\"delay factor\":1.0},\"nameSub\":\"AGEC-S Course\",\"id\":6,\"credits\":3,\"nameCanonical\":\"\"}],\"id\":1},{\"name\":\"Term 2\",\"curriculum_items\":[{\"curriculum_requisites\":[{\"source_id\":1,\"target_id\":7,\"type\":\"CurriculumPrerequisite\"}],\"name\":\"MAT 231\",\"metrics\":{\"centrality\":182,\"complexity\":24.0,\"blocking factor\":16,\"delay factor\":8.0},\"nameSub\":\"Calculus II\",\"id\":7,\"credits\":4,\"nameCanonical\":\"Calculus II\"},{\"curriculum_requisites\":[{\"source_id\":2,\"target_id\":8,\"type\":\"CurriculumPrerequisite\"},{\"source_id\":9,\"target_id\":8,\"type\":\"CurriculumStrictCorequisite\"}],\"name\":\"CHM 152IN\",\"metrics\":{\"centrality\":443,\"complexity\":27.0,\"blocking factor\":17,\"delay factor\":10.0},\"nameSub\":\"Gen Chemistry II\",\"id\":8,\"credits\":4,\"nameCanonical\":\"General Chemsitry II\"},{\"curriculum_requisites\":[],\"name\":\"CHM 152RC\",\"metrics\":{\"centrality\":0,\"complexity\":27.0,\"blocking factor\":18,\"delay factor\":9.0},\"nameSub\":\"Gen Chemistry II Recitation\",\"id\":9,\"credits\":1,\"nameCanonical\":\"\"},{\"curriculum_requisites\":[{\"source_id\":11,\"target_id\":10,\"type\":\"CurriculumStrictCorequisite\"},{\"source_id\":1,\"target_id\":10,\"type\":\"CurriculumPrerequisite\"}],\"name\":\"PHY 210IN\",\"metrics\":{\"centrality\":272,\"complexity\":22.0,\"blocking factor\":14,\"delay factor\":8.0},\"nameSub\":\"Intro Mechanics\",\"id\":10,\"credits\":4,\"nameCanonical\":\"\"},{\"curriculum_requisites\":[],\"name\":\"PHY 210RC\",\"metrics\":{\"centrality\":0,\"complexity\":23.0,\"blocking factor\":15,\"delay factor\":8.0},\"nameSub\":\"Intro Mechanics Recitation\",\"id\":11,\"credits\":1,\"nameCanonical\":\"\"},{\"curriculum_requisites\":[{\"source_id\":4,\"target_id\":12,\"type\":\"CurriculumPrerequisite\"}],\"name\":\"WRT 102\",\"metrics\":{\"centrality\":0,\"complexity\":2.0,\"blocking factor\":0,\"delay factor\":2.0},\"nameSub\":\" English Composition II\",\"id\":12,\"credits\":3,\"nameCanonical\":\" English Composition\"},{\"curriculum_requisites\":[{\"source_id\":1,\"target_id\":13,\"type\":\"CurriculumCorequisite\"}],\"name\":\"ENG 105IN\",\"metrics\":{\"centrality\":503,\"complexity\":27.0,\"blocking factor\":17,\"delay factor\":10.0},\"nameSub\":\"Intro to MATLAB I\",\"id\":13,\"credits\":1,\"nameCanonical\":\"\"}],\"id\":2},{\"name\":\"Term 3\",\"curriculum_items\":[{\"curriculum_requisites\":[],\"name\":\" \",\"metrics\":{\"centrality\":0,\"complexity\":1.0,\"blocking factor\":0,\"delay factor\":1.0},\"nameSub\":\"AGEC-S Course\",\"id\":14,\"credits\":3,\"nameCanonical\":\"\"},{\"curriculum_requisites\":[],\"name\":\" \",\"metrics\":{\"centrality\":0,\"complexity\":1.0,\"blocking factor\":0,\"delay factor\":1.0},\"nameSub\":\"AGEC-S Course\",\"id\":15,\"credits\":3,\"nameCanonical\":\"\"},{\"curriculum_requisites\":[{\"source_id\":7,\"target_id\":16,\"type\":\"CurriculumPrerequisite\"}],\"name\":\"MAT 241\",\"metrics\":{\"centrality\":0,\"complexity\":3.0,\"blocking factor\":0,\"delay factor\":3.0},\"nameSub\":\"Calculus III\",\"id\":16,\"credits\":4,\"nameCanonical\":\"Calculus III\"},{\"curriculum_requisites\":[{\"source_id\":18,\"target_id\":17,\"type\":\"CurriculumStrictCorequisite\"},{\"source_id\":8,\"target_id\":17,\"type\":\"CurriculumPrerequisite\"}],\"name\":\" 235IN\",\"metrics\":{\"centrality\":12,\"complexity\":6.0,\"blocking factor\":1,\"delay factor\":5.0},\"nameSub\":\"General Organic Chemistry I\",\"id\":17,\"credits\":4,\"nameCanonical\":\"Organic Chemistry I\"},{\"curriculum_requisites\":[],\"name\":\"CHM  235RC\",\"metrics\":{\"centrality\":0,\"complexity\":5.0,\"blocking factor\":2,\"delay factor\":3.0},\"nameSub\":\"General Organic Chemistry I Recitation\",\"id\":18,\"credits\":1,\"nameCanonical\":\"\"},{\"curriculum_requisites\":[],\"name\":\" \",\"metrics\":{\"centrality\":0,\"complexity\":15.0,\"blocking factor\":8,\"delay factor\":7.0},\"nameSub\":\"AGEC-S Course\",\"id\":19,\"credits\":3,\"nameCanonical\":\"\"}],\"id\":3},{\"name\":\"Term 4\",\"curriculum_items\":[{\"curriculum_requisites\":[],\"name\":\" \",\"metrics\":{\"centrality\":0,\"complexity\":1.0,\"blocking factor\":0,\"delay factor\":1.0},\"nameSub\":\"AGEC-S Course\",\"id\":20,\"credits\":3,\"nameCanonical\":\"\"},{\"curriculum_requisites\":[],\"name\":\" \",\"metrics\":{\"centrality\":0,\"complexity\":1.0,\"blocking factor\":0,\"delay factor\":1.0},\"nameSub\":\"AGEC-S Course\",\"id\":21,\"credits\":3,\"nameCanonical\":\"\"},{\"curriculum_requisites\":[{\"source_id\":7,\"target_id\":22,\"type\":\"CurriculumPrerequisite\"}],\"name\":\"MAT 262\",\"metrics\":{\"centrality\":60,\"complexity\":15.0,\"blocking factor\":7,\"delay factor\":8.0},\"nameSub\":\"Differential Equations\",\"id\":22,\"credits\":3,\"nameCanonical\":\"Differential Equations\"},{\"curriculum_requisites\":[{\"source_id\":7,\"target_id\":23,\"type\":\"CurriculumPrerequisite\"},{\"source_id\":10,\"target_id\":23,\"type\":\"CurriculumPrerequisite\"},{\"source_id\":24,\"target_id\":23,\"type\":\"CurriculumStrictCorequisite\"}],\"name\":\"PHY 216IN\",\"metrics\":{\"centrality\":247,\"complexity\":18.0,\"blocking factor\":10,\"delay factor\":8.0},\"nameSub\":\"Intro Electricity & Magnetism\",\"id\":23,\"credits\":4,\"nameCanonical\":\"\"},{\"curriculum_requisites\":[],\"name\":\"PHY 216RC\",\"metrics\":{\"centrality\":0,\"complexity\":18.0,\"blocking factor\":11,\"delay factor\":7.0},\"nameSub\":\"Intro Electricity & Magnetism\",\"id\":24,\"credits\":1,\"nameCanonical\":\"\"},{\"curriculum_requisites\":[{\"source_id\":26,\"target_id\":25,\"type\":\"CurriculumStrictCorequisite\"},{\"source_id\":17,\"target_id\":25,\"type\":\"CurriculumPrerequisite\"}],\"name\":\"CHM 236IN\",\"metrics\":{\"centrality\":0,\"complexity\":5.0,\"blocking factor\":0,\"delay factor\":5.0},\"nameSub\":\"General Organic Chemistry II\",\"id\":25,\"credits\":4,\"nameCanonical\":\"Organic Chemistry II\"},{\"curriculum_requisites\":[],\"name\":\"CHM  236RC\",\"metrics\":{\"centrality\":0,\"complexity\":3.0,\"blocking factor\":1,\"delay factor\":2.0},\"nameSub\":\"General Organic Chemistry II Recitation\",\"id\":26,\"credits\":1,\"nameCanonical\":\"\"},{\"curriculum_requisites\":[{\"source_id\":13,\"target_id\":27,\"type\":\"CurriculumPrerequisite\"}],\"name\":\"ENG 205IN\",\"metrics\":{\"centrality\":231,\"complexity\":25.0,\"blocking factor\":15,\"delay factor\":10.0},\"nameSub\":\"Intro to MATLAB II\",\"id\":27,\"credits\":1,\"nameCanonical\":\"\"}],\"id\":4},{\"name\":\"Term 5\",\"curriculum_items\":[{\"curriculum_requisites\":[{\"source_id\":5,\"target_id\":28,\"type\":\"CurriculumPrerequisite\"},{\"source_id\":13,\"target_id\":28,\"type\":\"CurriculumPrerequisite\"},{\"source_id\":27,\"target_id\":28,\"type\":\"CurriculumCorequisite\"},{\"source_id\":8,\"target_id\":28,\"type\":\"CurriculumPrerequisite\"},{\"source_id\":1,\"target_id\":28,\"type\":\"CurriculumPrerequisite\"}],\"name\":\"CHEE 201\",\"metrics\":{\"centrality\":1246,\"complexity\":24.0,\"blocking factor\":14,\"delay factor\":10.0},\"nameSub\":\"Elements of Chem and Envirn Eng I\",\"id\":28,\"credits\":3,\"nameCanonical\":\"\"},{\"curriculum_requisites\":[{\"source_id\":13,\"target_id\":29,\"type\":\"CurriculumCorequisite\"},{\"source_id\":1,\"target_id\":29,\"type\":\"CurriculumPrerequisite\"}],\"name\":\" 201L\",\"metrics\":{\"centrality\":129,\"complexity\":17.0,\"blocking factor\":8,\"delay factor\":9.0},\"nameSub\":\"Elements of Chem and Envirn Eng I Lab\",\"id\":29,\"credits\":1,\"nameCanonical\":\"\"},{\"curriculum_requisites\":[{\"source_id\":7,\"target_id\":30,\"type\":\"CurriculumPrerequisite\"},{\"source_id\":2,\"target_id\":30,\"type\":\"CurriculumPrerequisite\"},{\"source_id\":23,\"target_id\":30,\"type\":\"CurriculumPrerequisite\"}],\"name\":\"CHEM 480A\",\"metrics\":{\"centrality\":357,\"complexity\":17.0,\"blocking factor\":9,\"delay factor\":8.0},\"nameSub\":\"Physical Chem\",\"id\":30,\"credits\":3,\"nameCanonical\":\"\"},{\"curriculum_requisites\":[],\"name\":\" \",\"metrics\":{\"centrality\":0,\"complexity\":1.0,\"blocking factor\":0,\"delay factor\":1.0},\"nameSub\":\"Engineering Elective\",\"id\":31,\"credits\":3,\"nameCanonical\":\"\"},{\"curriculum_requisites\":[],\"name\":\" \",\"metrics\":{\"centrality\":0,\"complexity\":1.0,\"blocking factor\":0,\"delay factor\":1.0},\"nameSub\":\"Engineering Elective\",\"id\":32,\"credits\":3,\"nameCanonical\":\"\"}],\"id\":5},{\"name\":\"Term 6\",\"curriculum_items\":[{\"curriculum_requisites\":[],\"name\":\" \",\"metrics\":{\"centrality\":0,\"complexity\":1.0,\"blocking factor\":0,\"delay factor\":1.0},\"nameSub\":\"Technical Elective\",\"id\":33,\"credits\":3,\"nameCanonical\":\"\"},{\"curriculum_requisites\":[{\"source_id\":29,\"target_id\":34,\"type\":\"CurriculumPrerequisite\"},{\"source_id\":28,\"target_id\":34,\"type\":\"CurriculumPrerequisite\"},{\"source_id\":19,\"target_id\":34,\"type\":\"CurriculumCorequisite\"}],\"name\":\"CHEE 202\",\"metrics\":{\"centrality\":603,\"complexity\":17.0,\"blocking factor\":7,\"delay factor\":10.0},\"nameSub\":\"Elements of Chem Eng II\",\"id\":34,\"credits\":4,\"nameCanonical\":\"\"},{\"curriculum_requisites\":[{\"source_id\":10,\"target_id\":35,\"type\":\"CurriculumPrerequisite\"},{\"source_id\":28,\"target_id\":35,\"type\":\"CurriculumPrerequisite\"}],\"name\":\"CHEE 203\",\"metrics\":{\"centrality\":653,\"complexity\":18.0,\"blocking factor\":8,\"delay factor\":10.0},\"nameSub\":\"Chem Eng Heat Xfer & Fluid Flow\",\"id\":35,\"credits\":3,\"nameCanonical\":\"\"},{\"curriculum_requisites\":[],\"name\":\" \",\"metrics\":{\"centrality\":0,\"complexity\":1.0,\"blocking factor\":0,\"delay factor\":1.0},\"nameSub\":\"Engineering Elective\",\"id\":36,\"credits\":3,\"nameCanonical\":\"\"},{\"curriculum_requisites\":[],\"name\":\" \",\"metrics\":{\"centrality\":0,\"complexity\":1.0,\"blocking factor\":0,\"delay factor\":1.0},\"nameSub\":\"Technical Elective\",\"id\":37,\"credits\":3,\"nameCanonical\":\"\"}],\"id\":6},{\"name\":\"Term 7\",\"curriculum_items\":[{\"curriculum_requisites\":[{\"source_id\":35,\"target_id\":38,\"type\":\"CurriculumPrerequisite\"}],\"name\":\"CHEE 303\",\"metrics\":{\"centrality\":496,\"complexity\":17.0,\"blocking factor\":7,\"delay factor\":10.0},\"nameSub\":\"Chem Eng Mass Xfer\",\"id\":38,\"credits\":3,\"nameCanonical\":\"\"},{\"curriculum_requisites\":[{\"source_id\":22,\"target_id\":39,\"type\":\"CurriculumPrerequisite\"},{\"source_id\":34,\"target_id\":39,\"type\":\"CurriculumPrerequisite\"}],\"name\":\"CHEE 402\",\"metrics\":{\"centrality\":472,\"complexity\":16.0,\"blocking factor\":6,\"delay factor\":10.0},\"nameSub\":\"Chem Eng Modeling\",\"id\":39,\"credits\":3,\"nameCanonical\":\"\"},{\"curriculum_requisites\":[],\"name\":\"CHEE 489\",\"metrics\":{\"centrality\":0,\"complexity\":1.0,\"blocking factor\":0,\"delay factor\":1.0},\"nameSub\":\"Trends in Nanomedicine Eng\",\"id\":41,\"credits\":3,\"nameCanonical\":\"\"}],\"id\":7},{\"name\":\"Term 8\",\"curriculum_items\":[{\"curriculum_requisites\":[{\"source_id\":22,\"target_id\":40,\"type\":\"CurriculumPrerequisite\"},{\"source_id\":34,\"target_id\":40,\"type\":\"CurriculumPrerequisite\"},{\"source_id\":35,\"target_id\":40,\"type\":\"CurriculumPrerequisite\"},{\"source_id\":43,\"target_id\":40,\"type\":\"CurriculumCorequisite\"},{\"source_id\":42,\"target_id\":40,\"type\":\"CurriculumCorequisite\"}],\"name\":\"CHEE 301A\",\"metrics\":{\"centrality\":1056,\"complexity\":13.0,\"blocking factor\":3,\"delay factor\":10.0},\"nameSub\":\"Chem Eng Lab I\",\"id\":40,\"credits\":1,\"nameCanonical\":\"\"},{\"curriculum_requisites\":[{\"source_id\":39,\"target_id\":42,\"type\":\"CurriculumPrerequisite\"},{\"source_id\":38,\"target_id\":42,\"type\":\"CurriculumPrerequisite\"}],\"name\":\"CHEE 305\",\"metrics\":{\"centrality\":736,\"complexity\":14.0,\"blocking factor\":4,\"delay factor\":10.0},\"nameSub\":\"Chem Eng Transport Phenom\",\"id\":42,\"credits\":3,\"nameCanonical\":\"\"},{\"curriculum_requisites\":[{\"source_id\":30,\"target_id\":43,\"type\":\"CurriculumPrerequisite\"},{\"source_id\":28,\"target_id\":43,\"type\":\"CurriculumPrerequisite\"}],\"name\":\"CHEE 326\",\"metrics\":{\"centrality\":644,\"complexity\":15.0,\"blocking factor\":7,\"delay factor\":8.0},\"nameSub\":\"Chem & Phys Equilibrium\",\"id\":43,\"credits\":3,\"nameCanonical\":\"\"},{\"curriculum_requisites\":[{\"source_id\":30,\"target_id\":48,\"type\":\"CurriculumPrerequisite\"}],\"name\":\"CHEM 480B\",\"metrics\":{\"centrality\":0,\"complexity\":5.0,\"blocking factor\":0,\"delay factor\":5.0},\"nameSub\":\"Physical Chem\",\"id\":48,\"credits\":3,\"nameCanonical\":\"\"},{\"curriculum_requisites\":[{\"source_id\":39,\"target_id\":49,\"type\":\"CurriculumPrerequisite\"}],\"name\":\"CHEE 413\",\"metrics\":{\"centrality\":67,\"complexity\":9.0,\"blocking factor\":1,\"delay factor\":8.0},\"nameSub\":\"Process Control and Simulation\",\"id\":49,\"credits\":3,\"nameCanonical\":\"\"}],\"id\":8},{\"name\":\"Term 9\",\"curriculum_items\":[{\"curriculum_requisites\":[{\"source_id\":43,\"target_id\":44,\"type\":\"CurriculumStrictCorequisite\"},{\"source_id\":38,\"target_id\":44,\"type\":\"CurriculumPrerequisite\"},{\"source_id\":42,\"target_id\":44,\"type\":\"CurriculumStrictCorequisite\"},{\"source_id\":40,\"target_id\":44,\"type\":\"CurriculumPrerequisite\"}],\"name\":\"CHEE 301B\",\"metrics\":{\"centrality\":1278,\"complexity\":12.0,\"blocking factor\":2,\"delay factor\":10.0},\"nameSub\":\"Chem Eng Lab II\",\"id\":44,\"credits\":1,\"nameCanonical\":\"\"},{\"curriculum_requisites\":[{\"source_id\":43,\"target_id\":45,\"type\":\"CurriculumPrerequisite\"}],\"name\":\"CHEE 420\",\"metrics\":{\"centrality\":164,\"complexity\":11.0,\"blocking factor\":3,\"delay factor\":8.0},\"nameSub\":\"Chem Reaction Eng\",\"id\":45,\"credits\":3,\"nameCanonical\":\"\"},{\"curriculum_requisites\":[{\"source_id\":43,\"target_id\":46,\"type\":\"CurriculumPrerequisite\"},{\"source_id\":45,\"target_id\":46,\"type\":\"CurriculumStrictCorequisite\"},{\"source_id\":38,\"target_id\":46,\"type\":\"CurriculumPrerequisite\"}],\"name\":\"CHEE 442\",\"metrics\":{\"centrality\":219,\"complexity\":9.0,\"blocking factor\":1,\"delay factor\":8.0},\"nameSub\":\"Chem Eng Design Principles\",\"id\":46,\"credits\":3,\"nameCanonical\":\"\"}],\"id\":9},{\"name\":\"Term 10\",\"curriculum_items\":[{\"curriculum_requisites\":[{\"source_id\":45,\"target_id\":47,\"type\":\"CurriculumCorequisite\"},{\"source_id\":44,\"target_id\":47,\"type\":\"CurriculumPrerequisite\"}],\"name\":\"CHEE 401A\",\"metrics\":{\"centrality\":0,\"complexity\":10.0,\"blocking factor\":0,\"delay factor\":10.0},\"nameSub\":\"Chem and Enviorn Eng Lab I\",\"id\":47,\"credits\":1,\"nameCanonical\":\"\"},{\"curriculum_requisites\":[{\"source_id\":49,\"target_id\":50,\"type\":\"CurriculumCorequisite\"},{\"source_id\":44,\"target_id\":50,\"type\":\"CurriculumPrerequisite\"},{\"source_id\":40,\"target_id\":50,\"type\":\"CurriculumPrerequisite\"}],\"name\":\"CHEE 401B\",\"metrics\":{\"centrality\":0,\"complexity\":10.0,\"blocking factor\":0,\"delay factor\":10.0},\"nameSub\":\"Process Dynamics and Control Lab\",\"id\":50,\"credits\":1,\"nameCanonical\":\"\"},{\"curriculum_requisites\":[{\"source_id\":46,\"target_id\":51,\"type\":\"CurriculumPrerequisite\"}],\"name\":\"CHEE 443\",\"metrics\":{\"centrality\":0,\"complexity\":8.0,\"blocking factor\":0,\"delay factor\":8.0},\"nameSub\":\"Chem Eng Plant Design\",\"id\":51,\"credits\":3,\"nameCanonical\":\"\"}],\"id\":10}],\"institution\":\"University of Arizona\"}},\"*\"); window.removeEventListener(\"message\",window.messageReceived); window.messageReceived=(function (event){return (event.data.curriculum!==undefined) ? (WebIO.setval({\"name\":\"curriculum-data\",\"scope\":\"10651364928336369878\",\"id\":\"13286717489969507651\",\"type\":\"observable\"},event.data.curriculum)) : undefined}); return window.addEventListener(\"message\",window.messageReceived)})"
          },
          "id": "curriculum",
          "src": "https://curricula-api-embed.damoursystems.com/",
          "style": {
           "border": "none",
           "height": "85vh",
           "margin": "0",
           "padding": "0",
           "width": "100%"
          }
         },
         "type": "node"
        }
       ],
       "instanceArgs": {
        "handlers": {},
        "id": "10651364928336369878",
        "imports": {
         "data": [],
         "type": "async_block"
        },
        "mount_callbacks": [],
        "observables": {
         "curriculum-data": {
          "id": "13286717489969507651",
          "sync": true,
          "value": {
           "curriculum": {
            "curriculum_terms": [
             {
              "curriculum_items": [
               {
                "credits": 5,
                "curriculum_requisites": [],
                "id": 1,
                "metrics": {
                 "blocking factor": 26,
                 "centrality": 0,
                 "complexity": 36,
                 "delay factor": 10
                },
                "name": "MAT 220",
                "nameCanonical": "Calculus I",
                "nameSub": "Calculus I"
               },
               {
                "credits": 4,
                "curriculum_requisites": [
                 {
                  "source_id": 3,
                  "target_id": 2,
                  "type": "CurriculumStrictCorequisite"
                 }
                ],
                "id": 2,
                "metrics": {
                 "blocking factor": 20,
                 "centrality": 291,
                 "complexity": 30,
                 "delay factor": 10
                },
                "name": "CHM 151IN",
                "nameCanonical": "General Chemsitry I",
                "nameSub": "Gen Chemistry I"
               },
               {
                "credits": 1,
                "curriculum_requisites": [],
                "id": 3,
                "metrics": {
                 "blocking factor": 21,
                 "centrality": 0,
                 "complexity": 31,
                 "delay factor": 10
                },
                "name": "CHM 151RC",
                "nameCanonical": "",
                "nameSub": "Gen Chemistry I Recitation"
               },
               {
                "credits": 3,
                "curriculum_requisites": [],
                "id": 4,
                "metrics": {
                 "blocking factor": 1,
                 "centrality": 0,
                 "complexity": 3,
                 "delay factor": 2
                },
                "name": "WRT 101",
                "nameCanonical": "English Composition I",
                "nameSub": "English Composition I"
               },
               {
                "credits": 3,
                "curriculum_requisites": [
                 {
                  "source_id": 1,
                  "target_id": 5,
                  "type": "CurriculumCorequisite"
                 }
                ],
                "id": 5,
                "metrics": {
                 "blocking factor": 15,
                 "centrality": 203,
                 "complexity": 24,
                 "delay factor": 9
                },
                "name": "ENG 102IN",
                "nameCanonical": "Intro to Engineering",
                "nameSub": "Problem-Solving and Engineering Design"
               },
               {
                "credits": 3,
                "curriculum_requisites": [],
                "id": 6,
                "metrics": {
                 "blocking factor": 0,
                 "centrality": 0,
                 "complexity": 1,
                 "delay factor": 1
                },
                "name": " ",
                "nameCanonical": "",
                "nameSub": "AGEC-S Course"
               }
              ],
              "id": 1,
              "name": "Term 1"
             },
             {
              "curriculum_items": [
               {
                "credits": 4,
                "curriculum_requisites": [
                 {
                  "source_id": 1,
                  "target_id": 7,
                  "type": "CurriculumPrerequisite"
                 }
                ],
                "id": 7,
                "metrics": {
                 "blocking factor": 16,
                 "centrality": 182,
                 "complexity": 24,
                 "delay factor": 8
                },
                "name": "MAT 231",
                "nameCanonical": "Calculus II",
                "nameSub": "Calculus II"
               },
               {
                "credits": 4,
                "curriculum_requisites": [
                 {
                  "source_id": 2,
                  "target_id": 8,
                  "type": "CurriculumPrerequisite"
                 },
                 {
                  "source_id": 9,
                  "target_id": 8,
                  "type": "CurriculumStrictCorequisite"
                 }
                ],
                "id": 8,
                "metrics": {
                 "blocking factor": 17,
                 "centrality": 443,
                 "complexity": 27,
                 "delay factor": 10
                },
                "name": "CHM 152IN",
                "nameCanonical": "General Chemsitry II",
                "nameSub": "Gen Chemistry II"
               },
               {
                "credits": 1,
                "curriculum_requisites": [],
                "id": 9,
                "metrics": {
                 "blocking factor": 18,
                 "centrality": 0,
                 "complexity": 27,
                 "delay factor": 9
                },
                "name": "CHM 152RC",
                "nameCanonical": "",
                "nameSub": "Gen Chemistry II Recitation"
               },
               {
                "credits": 4,
                "curriculum_requisites": [
                 {
                  "source_id": 11,
                  "target_id": 10,
                  "type": "CurriculumStrictCorequisite"
                 },
                 {
                  "source_id": 1,
                  "target_id": 10,
                  "type": "CurriculumPrerequisite"
                 }
                ],
                "id": 10,
                "metrics": {
                 "blocking factor": 14,
                 "centrality": 272,
                 "complexity": 22,
                 "delay factor": 8
                },
                "name": "PHY 210IN",
                "nameCanonical": "",
                "nameSub": "Intro Mechanics"
               },
               {
                "credits": 1,
                "curriculum_requisites": [],
                "id": 11,
                "metrics": {
                 "blocking factor": 15,
                 "centrality": 0,
                 "complexity": 23,
                 "delay factor": 8
                },
                "name": "PHY 210RC",
                "nameCanonical": "",
                "nameSub": "Intro Mechanics Recitation"
               },
               {
                "credits": 3,
                "curriculum_requisites": [
                 {
                  "source_id": 4,
                  "target_id": 12,
                  "type": "CurriculumPrerequisite"
                 }
                ],
                "id": 12,
                "metrics": {
                 "blocking factor": 0,
                 "centrality": 0,
                 "complexity": 2,
                 "delay factor": 2
                },
                "name": "WRT 102",
                "nameCanonical": " English Composition",
                "nameSub": " English Composition II"
               },
               {
                "credits": 1,
                "curriculum_requisites": [
                 {
                  "source_id": 1,
                  "target_id": 13,
                  "type": "CurriculumCorequisite"
                 }
                ],
                "id": 13,
                "metrics": {
                 "blocking factor": 17,
                 "centrality": 503,
                 "complexity": 27,
                 "delay factor": 10
                },
                "name": "ENG 105IN",
                "nameCanonical": "",
                "nameSub": "Intro to MATLAB I"
               }
              ],
              "id": 2,
              "name": "Term 2"
             },
             {
              "curriculum_items": [
               {
                "credits": 3,
                "curriculum_requisites": [],
                "id": 14,
                "metrics": {
                 "blocking factor": 0,
                 "centrality": 0,
                 "complexity": 1,
                 "delay factor": 1
                },
                "name": " ",
                "nameCanonical": "",
                "nameSub": "AGEC-S Course"
               },
               {
                "credits": 3,
                "curriculum_requisites": [],
                "id": 15,
                "metrics": {
                 "blocking factor": 0,
                 "centrality": 0,
                 "complexity": 1,
                 "delay factor": 1
                },
                "name": " ",
                "nameCanonical": "",
                "nameSub": "AGEC-S Course"
               },
               {
                "credits": 4,
                "curriculum_requisites": [
                 {
                  "source_id": 7,
                  "target_id": 16,
                  "type": "CurriculumPrerequisite"
                 }
                ],
                "id": 16,
                "metrics": {
                 "blocking factor": 0,
                 "centrality": 0,
                 "complexity": 3,
                 "delay factor": 3
                },
                "name": "MAT 241",
                "nameCanonical": "Calculus III",
                "nameSub": "Calculus III"
               },
               {
                "credits": 4,
                "curriculum_requisites": [
                 {
                  "source_id": 18,
                  "target_id": 17,
                  "type": "CurriculumStrictCorequisite"
                 },
                 {
                  "source_id": 8,
                  "target_id": 17,
                  "type": "CurriculumPrerequisite"
                 }
                ],
                "id": 17,
                "metrics": {
                 "blocking factor": 1,
                 "centrality": 12,
                 "complexity": 6,
                 "delay factor": 5
                },
                "name": " 235IN",
                "nameCanonical": "Organic Chemistry I",
                "nameSub": "General Organic Chemistry I"
               },
               {
                "credits": 1,
                "curriculum_requisites": [],
                "id": 18,
                "metrics": {
                 "blocking factor": 2,
                 "centrality": 0,
                 "complexity": 5,
                 "delay factor": 3
                },
                "name": "CHM  235RC",
                "nameCanonical": "",
                "nameSub": "General Organic Chemistry I Recitation"
               },
               {
                "credits": 3,
                "curriculum_requisites": [],
                "id": 19,
                "metrics": {
                 "blocking factor": 8,
                 "centrality": 0,
                 "complexity": 15,
                 "delay factor": 7
                },
                "name": " ",
                "nameCanonical": "",
                "nameSub": "AGEC-S Course"
               }
              ],
              "id": 3,
              "name": "Term 3"
             },
             {
              "curriculum_items": [
               {
                "credits": 3,
                "curriculum_requisites": [],
                "id": 20,
                "metrics": {
                 "blocking factor": 0,
                 "centrality": 0,
                 "complexity": 1,
                 "delay factor": 1
                },
                "name": " ",
                "nameCanonical": "",
                "nameSub": "AGEC-S Course"
               },
               {
                "credits": 3,
                "curriculum_requisites": [],
                "id": 21,
                "metrics": {
                 "blocking factor": 0,
                 "centrality": 0,
                 "complexity": 1,
                 "delay factor": 1
                },
                "name": " ",
                "nameCanonical": "",
                "nameSub": "AGEC-S Course"
               },
               {
                "credits": 3,
                "curriculum_requisites": [
                 {
                  "source_id": 7,
                  "target_id": 22,
                  "type": "CurriculumPrerequisite"
                 }
                ],
                "id": 22,
                "metrics": {
                 "blocking factor": 7,
                 "centrality": 60,
                 "complexity": 15,
                 "delay factor": 8
                },
                "name": "MAT 262",
                "nameCanonical": "Differential Equations",
                "nameSub": "Differential Equations"
               },
               {
                "credits": 4,
                "curriculum_requisites": [
                 {
                  "source_id": 7,
                  "target_id": 23,
                  "type": "CurriculumPrerequisite"
                 },
                 {
                  "source_id": 10,
                  "target_id": 23,
                  "type": "CurriculumPrerequisite"
                 },
                 {
                  "source_id": 24,
                  "target_id": 23,
                  "type": "CurriculumStrictCorequisite"
                 }
                ],
                "id": 23,
                "metrics": {
                 "blocking factor": 10,
                 "centrality": 247,
                 "complexity": 18,
                 "delay factor": 8
                },
                "name": "PHY 216IN",
                "nameCanonical": "",
                "nameSub": "Intro Electricity & Magnetism"
               },
               {
                "credits": 1,
                "curriculum_requisites": [],
                "id": 24,
                "metrics": {
                 "blocking factor": 11,
                 "centrality": 0,
                 "complexity": 18,
                 "delay factor": 7
                },
                "name": "PHY 216RC",
                "nameCanonical": "",
                "nameSub": "Intro Electricity & Magnetism"
               },
               {
                "credits": 4,
                "curriculum_requisites": [
                 {
                  "source_id": 26,
                  "target_id": 25,
                  "type": "CurriculumStrictCorequisite"
                 },
                 {
                  "source_id": 17,
                  "target_id": 25,
                  "type": "CurriculumPrerequisite"
                 }
                ],
                "id": 25,
                "metrics": {
                 "blocking factor": 0,
                 "centrality": 0,
                 "complexity": 5,
                 "delay factor": 5
                },
                "name": "CHM 236IN",
                "nameCanonical": "Organic Chemistry II",
                "nameSub": "General Organic Chemistry II"
               },
               {
                "credits": 1,
                "curriculum_requisites": [],
                "id": 26,
                "metrics": {
                 "blocking factor": 1,
                 "centrality": 0,
                 "complexity": 3,
                 "delay factor": 2
                },
                "name": "CHM  236RC",
                "nameCanonical": "",
                "nameSub": "General Organic Chemistry II Recitation"
               },
               {
                "credits": 1,
                "curriculum_requisites": [
                 {
                  "source_id": 13,
                  "target_id": 27,
                  "type": "CurriculumPrerequisite"
                 }
                ],
                "id": 27,
                "metrics": {
                 "blocking factor": 15,
                 "centrality": 231,
                 "complexity": 25,
                 "delay factor": 10
                },
                "name": "ENG 205IN",
                "nameCanonical": "",
                "nameSub": "Intro to MATLAB II"
               }
              ],
              "id": 4,
              "name": "Term 4"
             },
             {
              "curriculum_items": [
               {
                "credits": 3,
                "curriculum_requisites": [
                 {
                  "source_id": 5,
                  "target_id": 28,
                  "type": "CurriculumPrerequisite"
                 },
                 {
                  "source_id": 13,
                  "target_id": 28,
                  "type": "CurriculumPrerequisite"
                 },
                 {
                  "source_id": 27,
                  "target_id": 28,
                  "type": "CurriculumCorequisite"
                 },
                 {
                  "source_id": 8,
                  "target_id": 28,
                  "type": "CurriculumPrerequisite"
                 },
                 {
                  "source_id": 1,
                  "target_id": 28,
                  "type": "CurriculumPrerequisite"
                 }
                ],
                "id": 28,
                "metrics": {
                 "blocking factor": 14,
                 "centrality": 1246,
                 "complexity": 24,
                 "delay factor": 10
                },
                "name": "CHEE 201",
                "nameCanonical": "",
                "nameSub": "Elements of Chem and Envirn Eng I"
               },
               {
                "credits": 1,
                "curriculum_requisites": [
                 {
                  "source_id": 13,
                  "target_id": 29,
                  "type": "CurriculumCorequisite"
                 },
                 {
                  "source_id": 1,
                  "target_id": 29,
                  "type": "CurriculumPrerequisite"
                 }
                ],
                "id": 29,
                "metrics": {
                 "blocking factor": 8,
                 "centrality": 129,
                 "complexity": 17,
                 "delay factor": 9
                },
                "name": " 201L",
                "nameCanonical": "",
                "nameSub": "Elements of Chem and Envirn Eng I Lab"
               },
               {
                "credits": 3,
                "curriculum_requisites": [
                 {
                  "source_id": 7,
                  "target_id": 30,
                  "type": "CurriculumPrerequisite"
                 },
                 {
                  "source_id": 2,
                  "target_id": 30,
                  "type": "CurriculumPrerequisite"
                 },
                 {
                  "source_id": 23,
                  "target_id": 30,
                  "type": "CurriculumPrerequisite"
                 }
                ],
                "id": 30,
                "metrics": {
                 "blocking factor": 9,
                 "centrality": 357,
                 "complexity": 17,
                 "delay factor": 8
                },
                "name": "CHEM 480A",
                "nameCanonical": "",
                "nameSub": "Physical Chem"
               },
               {
                "credits": 3,
                "curriculum_requisites": [],
                "id": 31,
                "metrics": {
                 "blocking factor": 0,
                 "centrality": 0,
                 "complexity": 1,
                 "delay factor": 1
                },
                "name": " ",
                "nameCanonical": "",
                "nameSub": "Engineering Elective"
               },
               {
                "credits": 3,
                "curriculum_requisites": [],
                "id": 32,
                "metrics": {
                 "blocking factor": 0,
                 "centrality": 0,
                 "complexity": 1,
                 "delay factor": 1
                },
                "name": " ",
                "nameCanonical": "",
                "nameSub": "Engineering Elective"
               }
              ],
              "id": 5,
              "name": "Term 5"
             },
             {
              "curriculum_items": [
               {
                "credits": 3,
                "curriculum_requisites": [],
                "id": 33,
                "metrics": {
                 "blocking factor": 0,
                 "centrality": 0,
                 "complexity": 1,
                 "delay factor": 1
                },
                "name": " ",
                "nameCanonical": "",
                "nameSub": "Technical Elective"
               },
               {
                "credits": 4,
                "curriculum_requisites": [
                 {
                  "source_id": 29,
                  "target_id": 34,
                  "type": "CurriculumPrerequisite"
                 },
                 {
                  "source_id": 28,
                  "target_id": 34,
                  "type": "CurriculumPrerequisite"
                 },
                 {
                  "source_id": 19,
                  "target_id": 34,
                  "type": "CurriculumCorequisite"
                 }
                ],
                "id": 34,
                "metrics": {
                 "blocking factor": 7,
                 "centrality": 603,
                 "complexity": 17,
                 "delay factor": 10
                },
                "name": "CHEE 202",
                "nameCanonical": "",
                "nameSub": "Elements of Chem Eng II"
               },
               {
                "credits": 3,
                "curriculum_requisites": [
                 {
                  "source_id": 10,
                  "target_id": 35,
                  "type": "CurriculumPrerequisite"
                 },
                 {
                  "source_id": 28,
                  "target_id": 35,
                  "type": "CurriculumPrerequisite"
                 }
                ],
                "id": 35,
                "metrics": {
                 "blocking factor": 8,
                 "centrality": 653,
                 "complexity": 18,
                 "delay factor": 10
                },
                "name": "CHEE 203",
                "nameCanonical": "",
                "nameSub": "Chem Eng Heat Xfer & Fluid Flow"
               },
               {
                "credits": 3,
                "curriculum_requisites": [],
                "id": 36,
                "metrics": {
                 "blocking factor": 0,
                 "centrality": 0,
                 "complexity": 1,
                 "delay factor": 1
                },
                "name": " ",
                "nameCanonical": "",
                "nameSub": "Engineering Elective"
               },
               {
                "credits": 3,
                "curriculum_requisites": [],
                "id": 37,
                "metrics": {
                 "blocking factor": 0,
                 "centrality": 0,
                 "complexity": 1,
                 "delay factor": 1
                },
                "name": " ",
                "nameCanonical": "",
                "nameSub": "Technical Elective"
               }
              ],
              "id": 6,
              "name": "Term 6"
             },
             {
              "curriculum_items": [
               {
                "credits": 3,
                "curriculum_requisites": [
                 {
                  "source_id": 35,
                  "target_id": 38,
                  "type": "CurriculumPrerequisite"
                 }
                ],
                "id": 38,
                "metrics": {
                 "blocking factor": 7,
                 "centrality": 496,
                 "complexity": 17,
                 "delay factor": 10
                },
                "name": "CHEE 303",
                "nameCanonical": "",
                "nameSub": "Chem Eng Mass Xfer"
               },
               {
                "credits": 3,
                "curriculum_requisites": [
                 {
                  "source_id": 22,
                  "target_id": 39,
                  "type": "CurriculumPrerequisite"
                 },
                 {
                  "source_id": 34,
                  "target_id": 39,
                  "type": "CurriculumPrerequisite"
                 }
                ],
                "id": 39,
                "metrics": {
                 "blocking factor": 6,
                 "centrality": 472,
                 "complexity": 16,
                 "delay factor": 10
                },
                "name": "CHEE 402",
                "nameCanonical": "",
                "nameSub": "Chem Eng Modeling"
               },
               {
                "credits": 3,
                "curriculum_requisites": [],
                "id": 41,
                "metrics": {
                 "blocking factor": 0,
                 "centrality": 0,
                 "complexity": 1,
                 "delay factor": 1
                },
                "name": "CHEE 489",
                "nameCanonical": "",
                "nameSub": "Trends in Nanomedicine Eng"
               }
              ],
              "id": 7,
              "name": "Term 7"
             },
             {
              "curriculum_items": [
               {
                "credits": 1,
                "curriculum_requisites": [
                 {
                  "source_id": 22,
                  "target_id": 40,
                  "type": "CurriculumPrerequisite"
                 },
                 {
                  "source_id": 34,
                  "target_id": 40,
                  "type": "CurriculumPrerequisite"
                 },
                 {
                  "source_id": 35,
                  "target_id": 40,
                  "type": "CurriculumPrerequisite"
                 },
                 {
                  "source_id": 43,
                  "target_id": 40,
                  "type": "CurriculumCorequisite"
                 },
                 {
                  "source_id": 42,
                  "target_id": 40,
                  "type": "CurriculumCorequisite"
                 }
                ],
                "id": 40,
                "metrics": {
                 "blocking factor": 3,
                 "centrality": 1056,
                 "complexity": 13,
                 "delay factor": 10
                },
                "name": "CHEE 301A",
                "nameCanonical": "",
                "nameSub": "Chem Eng Lab I"
               },
               {
                "credits": 3,
                "curriculum_requisites": [
                 {
                  "source_id": 39,
                  "target_id": 42,
                  "type": "CurriculumPrerequisite"
                 },
                 {
                  "source_id": 38,
                  "target_id": 42,
                  "type": "CurriculumPrerequisite"
                 }
                ],
                "id": 42,
                "metrics": {
                 "blocking factor": 4,
                 "centrality": 736,
                 "complexity": 14,
                 "delay factor": 10
                },
                "name": "CHEE 305",
                "nameCanonical": "",
                "nameSub": "Chem Eng Transport Phenom"
               },
               {
                "credits": 3,
                "curriculum_requisites": [
                 {
                  "source_id": 30,
                  "target_id": 43,
                  "type": "CurriculumPrerequisite"
                 },
                 {
                  "source_id": 28,
                  "target_id": 43,
                  "type": "CurriculumPrerequisite"
                 }
                ],
                "id": 43,
                "metrics": {
                 "blocking factor": 7,
                 "centrality": 644,
                 "complexity": 15,
                 "delay factor": 8
                },
                "name": "CHEE 326",
                "nameCanonical": "",
                "nameSub": "Chem & Phys Equilibrium"
               },
               {
                "credits": 3,
                "curriculum_requisites": [
                 {
                  "source_id": 30,
                  "target_id": 48,
                  "type": "CurriculumPrerequisite"
                 }
                ],
                "id": 48,
                "metrics": {
                 "blocking factor": 0,
                 "centrality": 0,
                 "complexity": 5,
                 "delay factor": 5
                },
                "name": "CHEM 480B",
                "nameCanonical": "",
                "nameSub": "Physical Chem"
               },
               {
                "credits": 3,
                "curriculum_requisites": [
                 {
                  "source_id": 39,
                  "target_id": 49,
                  "type": "CurriculumPrerequisite"
                 }
                ],
                "id": 49,
                "metrics": {
                 "blocking factor": 1,
                 "centrality": 67,
                 "complexity": 9,
                 "delay factor": 8
                },
                "name": "CHEE 413",
                "nameCanonical": "",
                "nameSub": "Process Control and Simulation"
               }
              ],
              "id": 8,
              "name": "Term 8"
             },
             {
              "curriculum_items": [
               {
                "credits": 1,
                "curriculum_requisites": [
                 {
                  "source_id": 43,
                  "target_id": 44,
                  "type": "CurriculumStrictCorequisite"
                 },
                 {
                  "source_id": 38,
                  "target_id": 44,
                  "type": "CurriculumPrerequisite"
                 },
                 {
                  "source_id": 42,
                  "target_id": 44,
                  "type": "CurriculumStrictCorequisite"
                 },
                 {
                  "source_id": 40,
                  "target_id": 44,
                  "type": "CurriculumPrerequisite"
                 }
                ],
                "id": 44,
                "metrics": {
                 "blocking factor": 2,
                 "centrality": 1278,
                 "complexity": 12,
                 "delay factor": 10
                },
                "name": "CHEE 301B",
                "nameCanonical": "",
                "nameSub": "Chem Eng Lab II"
               },
               {
                "credits": 3,
                "curriculum_requisites": [
                 {
                  "source_id": 43,
                  "target_id": 45,
                  "type": "CurriculumPrerequisite"
                 }
                ],
                "id": 45,
                "metrics": {
                 "blocking factor": 3,
                 "centrality": 164,
                 "complexity": 11,
                 "delay factor": 8
                },
                "name": "CHEE 420",
                "nameCanonical": "",
                "nameSub": "Chem Reaction Eng"
               },
               {
                "credits": 3,
                "curriculum_requisites": [
                 {
                  "source_id": 43,
                  "target_id": 46,
                  "type": "CurriculumPrerequisite"
                 },
                 {
                  "source_id": 45,
                  "target_id": 46,
                  "type": "CurriculumStrictCorequisite"
                 },
                 {
                  "source_id": 38,
                  "target_id": 46,
                  "type": "CurriculumPrerequisite"
                 }
                ],
                "id": 46,
                "metrics": {
                 "blocking factor": 1,
                 "centrality": 219,
                 "complexity": 9,
                 "delay factor": 8
                },
                "name": "CHEE 442",
                "nameCanonical": "",
                "nameSub": "Chem Eng Design Principles"
               }
              ],
              "id": 9,
              "name": "Term 9"
             },
             {
              "curriculum_items": [
               {
                "credits": 1,
                "curriculum_requisites": [
                 {
                  "source_id": 45,
                  "target_id": 47,
                  "type": "CurriculumCorequisite"
                 },
                 {
                  "source_id": 44,
                  "target_id": 47,
                  "type": "CurriculumPrerequisite"
                 }
                ],
                "id": 47,
                "metrics": {
                 "blocking factor": 0,
                 "centrality": 0,
                 "complexity": 10,
                 "delay factor": 10
                },
                "name": "CHEE 401A",
                "nameCanonical": "",
                "nameSub": "Chem and Enviorn Eng Lab I"
               },
               {
                "credits": 1,
                "curriculum_requisites": [
                 {
                  "source_id": 49,
                  "target_id": 50,
                  "type": "CurriculumCorequisite"
                 },
                 {
                  "source_id": 44,
                  "target_id": 50,
                  "type": "CurriculumPrerequisite"
                 },
                 {
                  "source_id": 40,
                  "target_id": 50,
                  "type": "CurriculumPrerequisite"
                 }
                ],
                "id": 50,
                "metrics": {
                 "blocking factor": 0,
                 "centrality": 0,
                 "complexity": 10,
                 "delay factor": 10
                },
                "name": "CHEE 401B",
                "nameCanonical": "",
                "nameSub": "Process Dynamics and Control Lab"
               },
               {
                "credits": 3,
                "curriculum_requisites": [
                 {
                  "source_id": 46,
                  "target_id": 51,
                  "type": "CurriculumPrerequisite"
                 }
                ],
                "id": 51,
                "metrics": {
                 "blocking factor": 0,
                 "centrality": 0,
                 "complexity": 8,
                 "delay factor": 8
                },
                "name": "CHEE 443",
                "nameCanonical": "",
                "nameSub": "Chem Eng Plant Design"
               }
              ],
              "id": 10,
              "name": "Term 10"
             }
            ],
            "dp_name": "2019-20 Pima to UA Transfer Degree Plan",
            "institution": "University of Arizona",
            "name": "Chemical Engineering"
           },
           "options": {
            "edit": true,
            "hideTerms": false
           }
          }
         }
        },
        "systemjs_options": null
       },
       "nodeType": "Scope",
       "props": {},
       "type": "node"
      },
      "text/html": [
       "<div\n",
       "    class=\"webio-mountpoint\"\n",
       "    data-webio-mountpoint=\"6168247934952475547\"\n",
       ">\n",
       "    <script>\n",
       "    (function(){\n",
       "    // Some integrations (namely, IJulia/Jupyter) use an alternate render pathway than\n",
       "    // just putting the html on the page. If WebIO isn't defined, then it's pretty likely\n",
       "    // that we're in one of those situations and the integration just isn't installed\n",
       "    // correctly.\n",
       "    if (typeof window.WebIO === \"undefined\") {\n",
       "        document\n",
       "            .querySelector('[data-webio-mountpoint=\"6168247934952475547\"]')\n",
       "            .innerHTML = (\n",
       "                '<div style=\"padding: 1em; background-color: #f8d6da; border: 1px solid #f5c6cb; font-weight: bold;\">' +\n",
       "                '<p><strong>WebIO not detected.</strong></p>' +\n",
       "                '<p>Please read ' +\n",
       "                '<a href=\"https://juliagizmos.github.io/WebIO.jl/latest/troubleshooting/not-detected/\" target=\"_blank\">the troubleshooting guide</a> ' +\n",
       "                'for more information on how to resolve this issue.</p>' +\n",
       "                '<p><a href=\"https://juliagizmos.github.io/WebIO.jl/latest/troubleshooting/not-detected/\" target=\"_blank\">https://juliagizmos.github.io/WebIO.jl/latest/troubleshooting/not-detected/</a></p>' +\n",
       "                '</div>'\n",
       "            );\n",
       "        return;\n",
       "    }\n",
       "    WebIO.mount(\n",
       "        document.querySelector('[data-webio-mountpoint=\"6168247934952475547\"]'),\n",
       "        {\"props\":{},\"nodeType\":\"Scope\",\"type\":\"node\",\"instanceArgs\":{\"imports\":{\"data\":[],\"type\":\"async_block\"},\"id\":\"10651364928336369878\",\"handlers\":{},\"systemjs_options\":null,\"mount_callbacks\":[],\"observables\":{\"curriculum-data\":{\"sync\":true,\"id\":\"13286717489969507651\",\"value\":{\"options\":{\"hideTerms\":false,\"edit\":true},\"curriculum\":{\"name\":\"Chemical Engineering\",\"dp_name\":\"2019-20 Pima to UA Transfer Degree Plan\",\"curriculum_terms\":[{\"name\":\"Term 1\",\"curriculum_items\":[{\"curriculum_requisites\":[],\"name\":\"MAT 220\",\"metrics\":{\"centrality\":0,\"complexity\":36.0,\"blocking factor\":26,\"delay factor\":10.0},\"nameSub\":\"Calculus I\",\"id\":1,\"credits\":5,\"nameCanonical\":\"Calculus I\"},{\"curriculum_requisites\":[{\"source_id\":3,\"target_id\":2,\"type\":\"CurriculumStrictCorequisite\"}],\"name\":\"CHM 151IN\",\"metrics\":{\"centrality\":291,\"complexity\":30.0,\"blocking factor\":20,\"delay factor\":10.0},\"nameSub\":\"Gen Chemistry I\",\"id\":2,\"credits\":4,\"nameCanonical\":\"General Chemsitry I\"},{\"curriculum_requisites\":[],\"name\":\"CHM 151RC\",\"metrics\":{\"centrality\":0,\"complexity\":31.0,\"blocking factor\":21,\"delay factor\":10.0},\"nameSub\":\"Gen Chemistry I Recitation\",\"id\":3,\"credits\":1,\"nameCanonical\":\"\"},{\"curriculum_requisites\":[],\"name\":\"WRT 101\",\"metrics\":{\"centrality\":0,\"complexity\":3.0,\"blocking factor\":1,\"delay factor\":2.0},\"nameSub\":\"English Composition I\",\"id\":4,\"credits\":3,\"nameCanonical\":\"English Composition I\"},{\"curriculum_requisites\":[{\"source_id\":1,\"target_id\":5,\"type\":\"CurriculumCorequisite\"}],\"name\":\"ENG 102IN\",\"metrics\":{\"centrality\":203,\"complexity\":24.0,\"blocking factor\":15,\"delay factor\":9.0},\"nameSub\":\"Problem-Solving and Engineering Design\",\"id\":5,\"credits\":3,\"nameCanonical\":\"Intro to Engineering\"},{\"curriculum_requisites\":[],\"name\":\" \",\"metrics\":{\"centrality\":0,\"complexity\":1.0,\"blocking factor\":0,\"delay factor\":1.0},\"nameSub\":\"AGEC-S Course\",\"id\":6,\"credits\":3,\"nameCanonical\":\"\"}],\"id\":1},{\"name\":\"Term 2\",\"curriculum_items\":[{\"curriculum_requisites\":[{\"source_id\":1,\"target_id\":7,\"type\":\"CurriculumPrerequisite\"}],\"name\":\"MAT 231\",\"metrics\":{\"centrality\":182,\"complexity\":24.0,\"blocking factor\":16,\"delay factor\":8.0},\"nameSub\":\"Calculus II\",\"id\":7,\"credits\":4,\"nameCanonical\":\"Calculus II\"},{\"curriculum_requisites\":[{\"source_id\":2,\"target_id\":8,\"type\":\"CurriculumPrerequisite\"},{\"source_id\":9,\"target_id\":8,\"type\":\"CurriculumStrictCorequisite\"}],\"name\":\"CHM 152IN\",\"metrics\":{\"centrality\":443,\"complexity\":27.0,\"blocking factor\":17,\"delay factor\":10.0},\"nameSub\":\"Gen Chemistry II\",\"id\":8,\"credits\":4,\"nameCanonical\":\"General Chemsitry II\"},{\"curriculum_requisites\":[],\"name\":\"CHM 152RC\",\"metrics\":{\"centrality\":0,\"complexity\":27.0,\"blocking factor\":18,\"delay factor\":9.0},\"nameSub\":\"Gen Chemistry II Recitation\",\"id\":9,\"credits\":1,\"nameCanonical\":\"\"},{\"curriculum_requisites\":[{\"source_id\":11,\"target_id\":10,\"type\":\"CurriculumStrictCorequisite\"},{\"source_id\":1,\"target_id\":10,\"type\":\"CurriculumPrerequisite\"}],\"name\":\"PHY 210IN\",\"metrics\":{\"centrality\":272,\"complexity\":22.0,\"blocking factor\":14,\"delay factor\":8.0},\"nameSub\":\"Intro Mechanics\",\"id\":10,\"credits\":4,\"nameCanonical\":\"\"},{\"curriculum_requisites\":[],\"name\":\"PHY 210RC\",\"metrics\":{\"centrality\":0,\"complexity\":23.0,\"blocking factor\":15,\"delay factor\":8.0},\"nameSub\":\"Intro Mechanics Recitation\",\"id\":11,\"credits\":1,\"nameCanonical\":\"\"},{\"curriculum_requisites\":[{\"source_id\":4,\"target_id\":12,\"type\":\"CurriculumPrerequisite\"}],\"name\":\"WRT 102\",\"metrics\":{\"centrality\":0,\"complexity\":2.0,\"blocking factor\":0,\"delay factor\":2.0},\"nameSub\":\" English Composition II\",\"id\":12,\"credits\":3,\"nameCanonical\":\" English Composition\"},{\"curriculum_requisites\":[{\"source_id\":1,\"target_id\":13,\"type\":\"CurriculumCorequisite\"}],\"name\":\"ENG 105IN\",\"metrics\":{\"centrality\":503,\"complexity\":27.0,\"blocking factor\":17,\"delay factor\":10.0},\"nameSub\":\"Intro to MATLAB I\",\"id\":13,\"credits\":1,\"nameCanonical\":\"\"}],\"id\":2},{\"name\":\"Term 3\",\"curriculum_items\":[{\"curriculum_requisites\":[],\"name\":\" \",\"metrics\":{\"centrality\":0,\"complexity\":1.0,\"blocking factor\":0,\"delay factor\":1.0},\"nameSub\":\"AGEC-S Course\",\"id\":14,\"credits\":3,\"nameCanonical\":\"\"},{\"curriculum_requisites\":[],\"name\":\" \",\"metrics\":{\"centrality\":0,\"complexity\":1.0,\"blocking factor\":0,\"delay factor\":1.0},\"nameSub\":\"AGEC-S Course\",\"id\":15,\"credits\":3,\"nameCanonical\":\"\"},{\"curriculum_requisites\":[{\"source_id\":7,\"target_id\":16,\"type\":\"CurriculumPrerequisite\"}],\"name\":\"MAT 241\",\"metrics\":{\"centrality\":0,\"complexity\":3.0,\"blocking factor\":0,\"delay factor\":3.0},\"nameSub\":\"Calculus III\",\"id\":16,\"credits\":4,\"nameCanonical\":\"Calculus III\"},{\"curriculum_requisites\":[{\"source_id\":18,\"target_id\":17,\"type\":\"CurriculumStrictCorequisite\"},{\"source_id\":8,\"target_id\":17,\"type\":\"CurriculumPrerequisite\"}],\"name\":\" 235IN\",\"metrics\":{\"centrality\":12,\"complexity\":6.0,\"blocking factor\":1,\"delay factor\":5.0},\"nameSub\":\"General Organic Chemistry I\",\"id\":17,\"credits\":4,\"nameCanonical\":\"Organic Chemistry I\"},{\"curriculum_requisites\":[],\"name\":\"CHM  235RC\",\"metrics\":{\"centrality\":0,\"complexity\":5.0,\"blocking factor\":2,\"delay factor\":3.0},\"nameSub\":\"General Organic Chemistry I Recitation\",\"id\":18,\"credits\":1,\"nameCanonical\":\"\"},{\"curriculum_requisites\":[],\"name\":\" \",\"metrics\":{\"centrality\":0,\"complexity\":15.0,\"blocking factor\":8,\"delay factor\":7.0},\"nameSub\":\"AGEC-S Course\",\"id\":19,\"credits\":3,\"nameCanonical\":\"\"}],\"id\":3},{\"name\":\"Term 4\",\"curriculum_items\":[{\"curriculum_requisites\":[],\"name\":\" \",\"metrics\":{\"centrality\":0,\"complexity\":1.0,\"blocking factor\":0,\"delay factor\":1.0},\"nameSub\":\"AGEC-S Course\",\"id\":20,\"credits\":3,\"nameCanonical\":\"\"},{\"curriculum_requisites\":[],\"name\":\" \",\"metrics\":{\"centrality\":0,\"complexity\":1.0,\"blocking factor\":0,\"delay factor\":1.0},\"nameSub\":\"AGEC-S Course\",\"id\":21,\"credits\":3,\"nameCanonical\":\"\"},{\"curriculum_requisites\":[{\"source_id\":7,\"target_id\":22,\"type\":\"CurriculumPrerequisite\"}],\"name\":\"MAT 262\",\"metrics\":{\"centrality\":60,\"complexity\":15.0,\"blocking factor\":7,\"delay factor\":8.0},\"nameSub\":\"Differential Equations\",\"id\":22,\"credits\":3,\"nameCanonical\":\"Differential Equations\"},{\"curriculum_requisites\":[{\"source_id\":7,\"target_id\":23,\"type\":\"CurriculumPrerequisite\"},{\"source_id\":10,\"target_id\":23,\"type\":\"CurriculumPrerequisite\"},{\"source_id\":24,\"target_id\":23,\"type\":\"CurriculumStrictCorequisite\"}],\"name\":\"PHY 216IN\",\"metrics\":{\"centrality\":247,\"complexity\":18.0,\"blocking factor\":10,\"delay factor\":8.0},\"nameSub\":\"Intro Electricity & Magnetism\",\"id\":23,\"credits\":4,\"nameCanonical\":\"\"},{\"curriculum_requisites\":[],\"name\":\"PHY 216RC\",\"metrics\":{\"centrality\":0,\"complexity\":18.0,\"blocking factor\":11,\"delay factor\":7.0},\"nameSub\":\"Intro Electricity & Magnetism\",\"id\":24,\"credits\":1,\"nameCanonical\":\"\"},{\"curriculum_requisites\":[{\"source_id\":26,\"target_id\":25,\"type\":\"CurriculumStrictCorequisite\"},{\"source_id\":17,\"target_id\":25,\"type\":\"CurriculumPrerequisite\"}],\"name\":\"CHM 236IN\",\"metrics\":{\"centrality\":0,\"complexity\":5.0,\"blocking factor\":0,\"delay factor\":5.0},\"nameSub\":\"General Organic Chemistry II\",\"id\":25,\"credits\":4,\"nameCanonical\":\"Organic Chemistry II\"},{\"curriculum_requisites\":[],\"name\":\"CHM  236RC\",\"metrics\":{\"centrality\":0,\"complexity\":3.0,\"blocking factor\":1,\"delay factor\":2.0},\"nameSub\":\"General Organic Chemistry II Recitation\",\"id\":26,\"credits\":1,\"nameCanonical\":\"\"},{\"curriculum_requisites\":[{\"source_id\":13,\"target_id\":27,\"type\":\"CurriculumPrerequisite\"}],\"name\":\"ENG 205IN\",\"metrics\":{\"centrality\":231,\"complexity\":25.0,\"blocking factor\":15,\"delay factor\":10.0},\"nameSub\":\"Intro to MATLAB II\",\"id\":27,\"credits\":1,\"nameCanonical\":\"\"}],\"id\":4},{\"name\":\"Term 5\",\"curriculum_items\":[{\"curriculum_requisites\":[{\"source_id\":5,\"target_id\":28,\"type\":\"CurriculumPrerequisite\"},{\"source_id\":13,\"target_id\":28,\"type\":\"CurriculumPrerequisite\"},{\"source_id\":27,\"target_id\":28,\"type\":\"CurriculumCorequisite\"},{\"source_id\":8,\"target_id\":28,\"type\":\"CurriculumPrerequisite\"},{\"source_id\":1,\"target_id\":28,\"type\":\"CurriculumPrerequisite\"}],\"name\":\"CHEE 201\",\"metrics\":{\"centrality\":1246,\"complexity\":24.0,\"blocking factor\":14,\"delay factor\":10.0},\"nameSub\":\"Elements of Chem and Envirn Eng I\",\"id\":28,\"credits\":3,\"nameCanonical\":\"\"},{\"curriculum_requisites\":[{\"source_id\":13,\"target_id\":29,\"type\":\"CurriculumCorequisite\"},{\"source_id\":1,\"target_id\":29,\"type\":\"CurriculumPrerequisite\"}],\"name\":\" 201L\",\"metrics\":{\"centrality\":129,\"complexity\":17.0,\"blocking factor\":8,\"delay factor\":9.0},\"nameSub\":\"Elements of Chem and Envirn Eng I Lab\",\"id\":29,\"credits\":1,\"nameCanonical\":\"\"},{\"curriculum_requisites\":[{\"source_id\":7,\"target_id\":30,\"type\":\"CurriculumPrerequisite\"},{\"source_id\":2,\"target_id\":30,\"type\":\"CurriculumPrerequisite\"},{\"source_id\":23,\"target_id\":30,\"type\":\"CurriculumPrerequisite\"}],\"name\":\"CHEM 480A\",\"metrics\":{\"centrality\":357,\"complexity\":17.0,\"blocking factor\":9,\"delay factor\":8.0},\"nameSub\":\"Physical Chem\",\"id\":30,\"credits\":3,\"nameCanonical\":\"\"},{\"curriculum_requisites\":[],\"name\":\" \",\"metrics\":{\"centrality\":0,\"complexity\":1.0,\"blocking factor\":0,\"delay factor\":1.0},\"nameSub\":\"Engineering Elective\",\"id\":31,\"credits\":3,\"nameCanonical\":\"\"},{\"curriculum_requisites\":[],\"name\":\" \",\"metrics\":{\"centrality\":0,\"complexity\":1.0,\"blocking factor\":0,\"delay factor\":1.0},\"nameSub\":\"Engineering Elective\",\"id\":32,\"credits\":3,\"nameCanonical\":\"\"}],\"id\":5},{\"name\":\"Term 6\",\"curriculum_items\":[{\"curriculum_requisites\":[],\"name\":\" \",\"metrics\":{\"centrality\":0,\"complexity\":1.0,\"blocking factor\":0,\"delay factor\":1.0},\"nameSub\":\"Technical Elective\",\"id\":33,\"credits\":3,\"nameCanonical\":\"\"},{\"curriculum_requisites\":[{\"source_id\":29,\"target_id\":34,\"type\":\"CurriculumPrerequisite\"},{\"source_id\":28,\"target_id\":34,\"type\":\"CurriculumPrerequisite\"},{\"source_id\":19,\"target_id\":34,\"type\":\"CurriculumCorequisite\"}],\"name\":\"CHEE 202\",\"metrics\":{\"centrality\":603,\"complexity\":17.0,\"blocking factor\":7,\"delay factor\":10.0},\"nameSub\":\"Elements of Chem Eng II\",\"id\":34,\"credits\":4,\"nameCanonical\":\"\"},{\"curriculum_requisites\":[{\"source_id\":10,\"target_id\":35,\"type\":\"CurriculumPrerequisite\"},{\"source_id\":28,\"target_id\":35,\"type\":\"CurriculumPrerequisite\"}],\"name\":\"CHEE 203\",\"metrics\":{\"centrality\":653,\"complexity\":18.0,\"blocking factor\":8,\"delay factor\":10.0},\"nameSub\":\"Chem Eng Heat Xfer & Fluid Flow\",\"id\":35,\"credits\":3,\"nameCanonical\":\"\"},{\"curriculum_requisites\":[],\"name\":\" \",\"metrics\":{\"centrality\":0,\"complexity\":1.0,\"blocking factor\":0,\"delay factor\":1.0},\"nameSub\":\"Engineering Elective\",\"id\":36,\"credits\":3,\"nameCanonical\":\"\"},{\"curriculum_requisites\":[],\"name\":\" \",\"metrics\":{\"centrality\":0,\"complexity\":1.0,\"blocking factor\":0,\"delay factor\":1.0},\"nameSub\":\"Technical Elective\",\"id\":37,\"credits\":3,\"nameCanonical\":\"\"}],\"id\":6},{\"name\":\"Term 7\",\"curriculum_items\":[{\"curriculum_requisites\":[{\"source_id\":35,\"target_id\":38,\"type\":\"CurriculumPrerequisite\"}],\"name\":\"CHEE 303\",\"metrics\":{\"centrality\":496,\"complexity\":17.0,\"blocking factor\":7,\"delay factor\":10.0},\"nameSub\":\"Chem Eng Mass Xfer\",\"id\":38,\"credits\":3,\"nameCanonical\":\"\"},{\"curriculum_requisites\":[{\"source_id\":22,\"target_id\":39,\"type\":\"CurriculumPrerequisite\"},{\"source_id\":34,\"target_id\":39,\"type\":\"CurriculumPrerequisite\"}],\"name\":\"CHEE 402\",\"metrics\":{\"centrality\":472,\"complexity\":16.0,\"blocking factor\":6,\"delay factor\":10.0},\"nameSub\":\"Chem Eng Modeling\",\"id\":39,\"credits\":3,\"nameCanonical\":\"\"},{\"curriculum_requisites\":[],\"name\":\"CHEE 489\",\"metrics\":{\"centrality\":0,\"complexity\":1.0,\"blocking factor\":0,\"delay factor\":1.0},\"nameSub\":\"Trends in Nanomedicine Eng\",\"id\":41,\"credits\":3,\"nameCanonical\":\"\"}],\"id\":7},{\"name\":\"Term 8\",\"curriculum_items\":[{\"curriculum_requisites\":[{\"source_id\":22,\"target_id\":40,\"type\":\"CurriculumPrerequisite\"},{\"source_id\":34,\"target_id\":40,\"type\":\"CurriculumPrerequisite\"},{\"source_id\":35,\"target_id\":40,\"type\":\"CurriculumPrerequisite\"},{\"source_id\":43,\"target_id\":40,\"type\":\"CurriculumCorequisite\"},{\"source_id\":42,\"target_id\":40,\"type\":\"CurriculumCorequisite\"}],\"name\":\"CHEE 301A\",\"metrics\":{\"centrality\":1056,\"complexity\":13.0,\"blocking factor\":3,\"delay factor\":10.0},\"nameSub\":\"Chem Eng Lab I\",\"id\":40,\"credits\":1,\"nameCanonical\":\"\"},{\"curriculum_requisites\":[{\"source_id\":39,\"target_id\":42,\"type\":\"CurriculumPrerequisite\"},{\"source_id\":38,\"target_id\":42,\"type\":\"CurriculumPrerequisite\"}],\"name\":\"CHEE 305\",\"metrics\":{\"centrality\":736,\"complexity\":14.0,\"blocking factor\":4,\"delay factor\":10.0},\"nameSub\":\"Chem Eng Transport Phenom\",\"id\":42,\"credits\":3,\"nameCanonical\":\"\"},{\"curriculum_requisites\":[{\"source_id\":30,\"target_id\":43,\"type\":\"CurriculumPrerequisite\"},{\"source_id\":28,\"target_id\":43,\"type\":\"CurriculumPrerequisite\"}],\"name\":\"CHEE 326\",\"metrics\":{\"centrality\":644,\"complexity\":15.0,\"blocking factor\":7,\"delay factor\":8.0},\"nameSub\":\"Chem & Phys Equilibrium\",\"id\":43,\"credits\":3,\"nameCanonical\":\"\"},{\"curriculum_requisites\":[{\"source_id\":30,\"target_id\":48,\"type\":\"CurriculumPrerequisite\"}],\"name\":\"CHEM 480B\",\"metrics\":{\"centrality\":0,\"complexity\":5.0,\"blocking factor\":0,\"delay factor\":5.0},\"nameSub\":\"Physical Chem\",\"id\":48,\"credits\":3,\"nameCanonical\":\"\"},{\"curriculum_requisites\":[{\"source_id\":39,\"target_id\":49,\"type\":\"CurriculumPrerequisite\"}],\"name\":\"CHEE 413\",\"metrics\":{\"centrality\":67,\"complexity\":9.0,\"blocking factor\":1,\"delay factor\":8.0},\"nameSub\":\"Process Control and Simulation\",\"id\":49,\"credits\":3,\"nameCanonical\":\"\"}],\"id\":8},{\"name\":\"Term 9\",\"curriculum_items\":[{\"curriculum_requisites\":[{\"source_id\":43,\"target_id\":44,\"type\":\"CurriculumStrictCorequisite\"},{\"source_id\":38,\"target_id\":44,\"type\":\"CurriculumPrerequisite\"},{\"source_id\":42,\"target_id\":44,\"type\":\"CurriculumStrictCorequisite\"},{\"source_id\":40,\"target_id\":44,\"type\":\"CurriculumPrerequisite\"}],\"name\":\"CHEE 301B\",\"metrics\":{\"centrality\":1278,\"complexity\":12.0,\"blocking factor\":2,\"delay factor\":10.0},\"nameSub\":\"Chem Eng Lab II\",\"id\":44,\"credits\":1,\"nameCanonical\":\"\"},{\"curriculum_requisites\":[{\"source_id\":43,\"target_id\":45,\"type\":\"CurriculumPrerequisite\"}],\"name\":\"CHEE 420\",\"metrics\":{\"centrality\":164,\"complexity\":11.0,\"blocking factor\":3,\"delay factor\":8.0},\"nameSub\":\"Chem Reaction Eng\",\"id\":45,\"credits\":3,\"nameCanonical\":\"\"},{\"curriculum_requisites\":[{\"source_id\":43,\"target_id\":46,\"type\":\"CurriculumPrerequisite\"},{\"source_id\":45,\"target_id\":46,\"type\":\"CurriculumStrictCorequisite\"},{\"source_id\":38,\"target_id\":46,\"type\":\"CurriculumPrerequisite\"}],\"name\":\"CHEE 442\",\"metrics\":{\"centrality\":219,\"complexity\":9.0,\"blocking factor\":1,\"delay factor\":8.0},\"nameSub\":\"Chem Eng Design Principles\",\"id\":46,\"credits\":3,\"nameCanonical\":\"\"}],\"id\":9},{\"name\":\"Term 10\",\"curriculum_items\":[{\"curriculum_requisites\":[{\"source_id\":45,\"target_id\":47,\"type\":\"CurriculumCorequisite\"},{\"source_id\":44,\"target_id\":47,\"type\":\"CurriculumPrerequisite\"}],\"name\":\"CHEE 401A\",\"metrics\":{\"centrality\":0,\"complexity\":10.0,\"blocking factor\":0,\"delay factor\":10.0},\"nameSub\":\"Chem and Enviorn Eng Lab I\",\"id\":47,\"credits\":1,\"nameCanonical\":\"\"},{\"curriculum_requisites\":[{\"source_id\":49,\"target_id\":50,\"type\":\"CurriculumCorequisite\"},{\"source_id\":44,\"target_id\":50,\"type\":\"CurriculumPrerequisite\"},{\"source_id\":40,\"target_id\":50,\"type\":\"CurriculumPrerequisite\"}],\"name\":\"CHEE 401B\",\"metrics\":{\"centrality\":0,\"complexity\":10.0,\"blocking factor\":0,\"delay factor\":10.0},\"nameSub\":\"Process Dynamics and Control Lab\",\"id\":50,\"credits\":1,\"nameCanonical\":\"\"},{\"curriculum_requisites\":[{\"source_id\":46,\"target_id\":51,\"type\":\"CurriculumPrerequisite\"}],\"name\":\"CHEE 443\",\"metrics\":{\"centrality\":0,\"complexity\":8.0,\"blocking factor\":0,\"delay factor\":8.0},\"nameSub\":\"Chem Eng Plant Design\",\"id\":51,\"credits\":3,\"nameCanonical\":\"\"}],\"id\":10}],\"institution\":\"University of Arizona\"}}}}},\"children\":[{\"props\":{\"src\":\"https:\\/\\/curricula-api-embed.damoursystems.com\\/\",\"id\":\"curriculum\",\"events\":{\"load\":\"(function (){this.contentWindow.postMessage({\\\"options\\\":{\\\"hideTerms\\\":false,\\\"edit\\\":true},\\\"curriculum\\\":{\\\"name\\\":\\\"Chemical Engineering\\\",\\\"dp_name\\\":\\\"2019-20 Pima to UA Transfer Degree Plan\\\",\\\"curriculum_terms\\\":[{\\\"name\\\":\\\"Term 1\\\",\\\"curriculum_items\\\":[{\\\"curriculum_requisites\\\":[],\\\"name\\\":\\\"MAT 220\\\",\\\"metrics\\\":{\\\"centrality\\\":0,\\\"complexity\\\":36.0,\\\"blocking factor\\\":26,\\\"delay factor\\\":10.0},\\\"nameSub\\\":\\\"Calculus I\\\",\\\"id\\\":1,\\\"credits\\\":5,\\\"nameCanonical\\\":\\\"Calculus I\\\"},{\\\"curriculum_requisites\\\":[{\\\"source_id\\\":3,\\\"target_id\\\":2,\\\"type\\\":\\\"CurriculumStrictCorequisite\\\"}],\\\"name\\\":\\\"CHM 151IN\\\",\\\"metrics\\\":{\\\"centrality\\\":291,\\\"complexity\\\":30.0,\\\"blocking factor\\\":20,\\\"delay factor\\\":10.0},\\\"nameSub\\\":\\\"Gen Chemistry I\\\",\\\"id\\\":2,\\\"credits\\\":4,\\\"nameCanonical\\\":\\\"General Chemsitry I\\\"},{\\\"curriculum_requisites\\\":[],\\\"name\\\":\\\"CHM 151RC\\\",\\\"metrics\\\":{\\\"centrality\\\":0,\\\"complexity\\\":31.0,\\\"blocking factor\\\":21,\\\"delay factor\\\":10.0},\\\"nameSub\\\":\\\"Gen Chemistry I Recitation\\\",\\\"id\\\":3,\\\"credits\\\":1,\\\"nameCanonical\\\":\\\"\\\"},{\\\"curriculum_requisites\\\":[],\\\"name\\\":\\\"WRT 101\\\",\\\"metrics\\\":{\\\"centrality\\\":0,\\\"complexity\\\":3.0,\\\"blocking factor\\\":1,\\\"delay factor\\\":2.0},\\\"nameSub\\\":\\\"English Composition I\\\",\\\"id\\\":4,\\\"credits\\\":3,\\\"nameCanonical\\\":\\\"English Composition I\\\"},{\\\"curriculum_requisites\\\":[{\\\"source_id\\\":1,\\\"target_id\\\":5,\\\"type\\\":\\\"CurriculumCorequisite\\\"}],\\\"name\\\":\\\"ENG 102IN\\\",\\\"metrics\\\":{\\\"centrality\\\":203,\\\"complexity\\\":24.0,\\\"blocking factor\\\":15,\\\"delay factor\\\":9.0},\\\"nameSub\\\":\\\"Problem-Solving and Engineering Design\\\",\\\"id\\\":5,\\\"credits\\\":3,\\\"nameCanonical\\\":\\\"Intro to Engineering\\\"},{\\\"curriculum_requisites\\\":[],\\\"name\\\":\\\" \\\",\\\"metrics\\\":{\\\"centrality\\\":0,\\\"complexity\\\":1.0,\\\"blocking factor\\\":0,\\\"delay factor\\\":1.0},\\\"nameSub\\\":\\\"AGEC-S Course\\\",\\\"id\\\":6,\\\"credits\\\":3,\\\"nameCanonical\\\":\\\"\\\"}],\\\"id\\\":1},{\\\"name\\\":\\\"Term 2\\\",\\\"curriculum_items\\\":[{\\\"curriculum_requisites\\\":[{\\\"source_id\\\":1,\\\"target_id\\\":7,\\\"type\\\":\\\"CurriculumPrerequisite\\\"}],\\\"name\\\":\\\"MAT 231\\\",\\\"metrics\\\":{\\\"centrality\\\":182,\\\"complexity\\\":24.0,\\\"blocking factor\\\":16,\\\"delay factor\\\":8.0},\\\"nameSub\\\":\\\"Calculus II\\\",\\\"id\\\":7,\\\"credits\\\":4,\\\"nameCanonical\\\":\\\"Calculus II\\\"},{\\\"curriculum_requisites\\\":[{\\\"source_id\\\":2,\\\"target_id\\\":8,\\\"type\\\":\\\"CurriculumPrerequisite\\\"},{\\\"source_id\\\":9,\\\"target_id\\\":8,\\\"type\\\":\\\"CurriculumStrictCorequisite\\\"}],\\\"name\\\":\\\"CHM 152IN\\\",\\\"metrics\\\":{\\\"centrality\\\":443,\\\"complexity\\\":27.0,\\\"blocking factor\\\":17,\\\"delay factor\\\":10.0},\\\"nameSub\\\":\\\"Gen Chemistry II\\\",\\\"id\\\":8,\\\"credits\\\":4,\\\"nameCanonical\\\":\\\"General Chemsitry II\\\"},{\\\"curriculum_requisites\\\":[],\\\"name\\\":\\\"CHM 152RC\\\",\\\"metrics\\\":{\\\"centrality\\\":0,\\\"complexity\\\":27.0,\\\"blocking factor\\\":18,\\\"delay factor\\\":9.0},\\\"nameSub\\\":\\\"Gen Chemistry II Recitation\\\",\\\"id\\\":9,\\\"credits\\\":1,\\\"nameCanonical\\\":\\\"\\\"},{\\\"curriculum_requisites\\\":[{\\\"source_id\\\":11,\\\"target_id\\\":10,\\\"type\\\":\\\"CurriculumStrictCorequisite\\\"},{\\\"source_id\\\":1,\\\"target_id\\\":10,\\\"type\\\":\\\"CurriculumPrerequisite\\\"}],\\\"name\\\":\\\"PHY 210IN\\\",\\\"metrics\\\":{\\\"centrality\\\":272,\\\"complexity\\\":22.0,\\\"blocking factor\\\":14,\\\"delay factor\\\":8.0},\\\"nameSub\\\":\\\"Intro Mechanics\\\",\\\"id\\\":10,\\\"credits\\\":4,\\\"nameCanonical\\\":\\\"\\\"},{\\\"curriculum_requisites\\\":[],\\\"name\\\":\\\"PHY 210RC\\\",\\\"metrics\\\":{\\\"centrality\\\":0,\\\"complexity\\\":23.0,\\\"blocking factor\\\":15,\\\"delay factor\\\":8.0},\\\"nameSub\\\":\\\"Intro Mechanics Recitation\\\",\\\"id\\\":11,\\\"credits\\\":1,\\\"nameCanonical\\\":\\\"\\\"},{\\\"curriculum_requisites\\\":[{\\\"source_id\\\":4,\\\"target_id\\\":12,\\\"type\\\":\\\"CurriculumPrerequisite\\\"}],\\\"name\\\":\\\"WRT 102\\\",\\\"metrics\\\":{\\\"centrality\\\":0,\\\"complexity\\\":2.0,\\\"blocking factor\\\":0,\\\"delay factor\\\":2.0},\\\"nameSub\\\":\\\" English Composition II\\\",\\\"id\\\":12,\\\"credits\\\":3,\\\"nameCanonical\\\":\\\" English Composition\\\"},{\\\"curriculum_requisites\\\":[{\\\"source_id\\\":1,\\\"target_id\\\":13,\\\"type\\\":\\\"CurriculumCorequisite\\\"}],\\\"name\\\":\\\"ENG 105IN\\\",\\\"metrics\\\":{\\\"centrality\\\":503,\\\"complexity\\\":27.0,\\\"blocking factor\\\":17,\\\"delay factor\\\":10.0},\\\"nameSub\\\":\\\"Intro to MATLAB I\\\",\\\"id\\\":13,\\\"credits\\\":1,\\\"nameCanonical\\\":\\\"\\\"}],\\\"id\\\":2},{\\\"name\\\":\\\"Term 3\\\",\\\"curriculum_items\\\":[{\\\"curriculum_requisites\\\":[],\\\"name\\\":\\\" \\\",\\\"metrics\\\":{\\\"centrality\\\":0,\\\"complexity\\\":1.0,\\\"blocking factor\\\":0,\\\"delay factor\\\":1.0},\\\"nameSub\\\":\\\"AGEC-S Course\\\",\\\"id\\\":14,\\\"credits\\\":3,\\\"nameCanonical\\\":\\\"\\\"},{\\\"curriculum_requisites\\\":[],\\\"name\\\":\\\" \\\",\\\"metrics\\\":{\\\"centrality\\\":0,\\\"complexity\\\":1.0,\\\"blocking factor\\\":0,\\\"delay factor\\\":1.0},\\\"nameSub\\\":\\\"AGEC-S Course\\\",\\\"id\\\":15,\\\"credits\\\":3,\\\"nameCanonical\\\":\\\"\\\"},{\\\"curriculum_requisites\\\":[{\\\"source_id\\\":7,\\\"target_id\\\":16,\\\"type\\\":\\\"CurriculumPrerequisite\\\"}],\\\"name\\\":\\\"MAT 241\\\",\\\"metrics\\\":{\\\"centrality\\\":0,\\\"complexity\\\":3.0,\\\"blocking factor\\\":0,\\\"delay factor\\\":3.0},\\\"nameSub\\\":\\\"Calculus III\\\",\\\"id\\\":16,\\\"credits\\\":4,\\\"nameCanonical\\\":\\\"Calculus III\\\"},{\\\"curriculum_requisites\\\":[{\\\"source_id\\\":18,\\\"target_id\\\":17,\\\"type\\\":\\\"CurriculumStrictCorequisite\\\"},{\\\"source_id\\\":8,\\\"target_id\\\":17,\\\"type\\\":\\\"CurriculumPrerequisite\\\"}],\\\"name\\\":\\\" 235IN\\\",\\\"metrics\\\":{\\\"centrality\\\":12,\\\"complexity\\\":6.0,\\\"blocking factor\\\":1,\\\"delay factor\\\":5.0},\\\"nameSub\\\":\\\"General Organic Chemistry I\\\",\\\"id\\\":17,\\\"credits\\\":4,\\\"nameCanonical\\\":\\\"Organic Chemistry I\\\"},{\\\"curriculum_requisites\\\":[],\\\"name\\\":\\\"CHM  235RC\\\",\\\"metrics\\\":{\\\"centrality\\\":0,\\\"complexity\\\":5.0,\\\"blocking factor\\\":2,\\\"delay factor\\\":3.0},\\\"nameSub\\\":\\\"General Organic Chemistry I Recitation\\\",\\\"id\\\":18,\\\"credits\\\":1,\\\"nameCanonical\\\":\\\"\\\"},{\\\"curriculum_requisites\\\":[],\\\"name\\\":\\\" \\\",\\\"metrics\\\":{\\\"centrality\\\":0,\\\"complexity\\\":15.0,\\\"blocking factor\\\":8,\\\"delay factor\\\":7.0},\\\"nameSub\\\":\\\"AGEC-S Course\\\",\\\"id\\\":19,\\\"credits\\\":3,\\\"nameCanonical\\\":\\\"\\\"}],\\\"id\\\":3},{\\\"name\\\":\\\"Term 4\\\",\\\"curriculum_items\\\":[{\\\"curriculum_requisites\\\":[],\\\"name\\\":\\\" \\\",\\\"metrics\\\":{\\\"centrality\\\":0,\\\"complexity\\\":1.0,\\\"blocking factor\\\":0,\\\"delay factor\\\":1.0},\\\"nameSub\\\":\\\"AGEC-S Course\\\",\\\"id\\\":20,\\\"credits\\\":3,\\\"nameCanonical\\\":\\\"\\\"},{\\\"curriculum_requisites\\\":[],\\\"name\\\":\\\" \\\",\\\"metrics\\\":{\\\"centrality\\\":0,\\\"complexity\\\":1.0,\\\"blocking factor\\\":0,\\\"delay factor\\\":1.0},\\\"nameSub\\\":\\\"AGEC-S Course\\\",\\\"id\\\":21,\\\"credits\\\":3,\\\"nameCanonical\\\":\\\"\\\"},{\\\"curriculum_requisites\\\":[{\\\"source_id\\\":7,\\\"target_id\\\":22,\\\"type\\\":\\\"CurriculumPrerequisite\\\"}],\\\"name\\\":\\\"MAT 262\\\",\\\"metrics\\\":{\\\"centrality\\\":60,\\\"complexity\\\":15.0,\\\"blocking factor\\\":7,\\\"delay factor\\\":8.0},\\\"nameSub\\\":\\\"Differential Equations\\\",\\\"id\\\":22,\\\"credits\\\":3,\\\"nameCanonical\\\":\\\"Differential Equations\\\"},{\\\"curriculum_requisites\\\":[{\\\"source_id\\\":7,\\\"target_id\\\":23,\\\"type\\\":\\\"CurriculumPrerequisite\\\"},{\\\"source_id\\\":10,\\\"target_id\\\":23,\\\"type\\\":\\\"CurriculumPrerequisite\\\"},{\\\"source_id\\\":24,\\\"target_id\\\":23,\\\"type\\\":\\\"CurriculumStrictCorequisite\\\"}],\\\"name\\\":\\\"PHY 216IN\\\",\\\"metrics\\\":{\\\"centrality\\\":247,\\\"complexity\\\":18.0,\\\"blocking factor\\\":10,\\\"delay factor\\\":8.0},\\\"nameSub\\\":\\\"Intro Electricity & Magnetism\\\",\\\"id\\\":23,\\\"credits\\\":4,\\\"nameCanonical\\\":\\\"\\\"},{\\\"curriculum_requisites\\\":[],\\\"name\\\":\\\"PHY 216RC\\\",\\\"metrics\\\":{\\\"centrality\\\":0,\\\"complexity\\\":18.0,\\\"blocking factor\\\":11,\\\"delay factor\\\":7.0},\\\"nameSub\\\":\\\"Intro Electricity & Magnetism\\\",\\\"id\\\":24,\\\"credits\\\":1,\\\"nameCanonical\\\":\\\"\\\"},{\\\"curriculum_requisites\\\":[{\\\"source_id\\\":26,\\\"target_id\\\":25,\\\"type\\\":\\\"CurriculumStrictCorequisite\\\"},{\\\"source_id\\\":17,\\\"target_id\\\":25,\\\"type\\\":\\\"CurriculumPrerequisite\\\"}],\\\"name\\\":\\\"CHM 236IN\\\",\\\"metrics\\\":{\\\"centrality\\\":0,\\\"complexity\\\":5.0,\\\"blocking factor\\\":0,\\\"delay factor\\\":5.0},\\\"nameSub\\\":\\\"General Organic Chemistry II\\\",\\\"id\\\":25,\\\"credits\\\":4,\\\"nameCanonical\\\":\\\"Organic Chemistry II\\\"},{\\\"curriculum_requisites\\\":[],\\\"name\\\":\\\"CHM  236RC\\\",\\\"metrics\\\":{\\\"centrality\\\":0,\\\"complexity\\\":3.0,\\\"blocking factor\\\":1,\\\"delay factor\\\":2.0},\\\"nameSub\\\":\\\"General Organic Chemistry II Recitation\\\",\\\"id\\\":26,\\\"credits\\\":1,\\\"nameCanonical\\\":\\\"\\\"},{\\\"curriculum_requisites\\\":[{\\\"source_id\\\":13,\\\"target_id\\\":27,\\\"type\\\":\\\"CurriculumPrerequisite\\\"}],\\\"name\\\":\\\"ENG 205IN\\\",\\\"metrics\\\":{\\\"centrality\\\":231,\\\"complexity\\\":25.0,\\\"blocking factor\\\":15,\\\"delay factor\\\":10.0},\\\"nameSub\\\":\\\"Intro to MATLAB II\\\",\\\"id\\\":27,\\\"credits\\\":1,\\\"nameCanonical\\\":\\\"\\\"}],\\\"id\\\":4},{\\\"name\\\":\\\"Term 5\\\",\\\"curriculum_items\\\":[{\\\"curriculum_requisites\\\":[{\\\"source_id\\\":5,\\\"target_id\\\":28,\\\"type\\\":\\\"CurriculumPrerequisite\\\"},{\\\"source_id\\\":13,\\\"target_id\\\":28,\\\"type\\\":\\\"CurriculumPrerequisite\\\"},{\\\"source_id\\\":27,\\\"target_id\\\":28,\\\"type\\\":\\\"CurriculumCorequisite\\\"},{\\\"source_id\\\":8,\\\"target_id\\\":28,\\\"type\\\":\\\"CurriculumPrerequisite\\\"},{\\\"source_id\\\":1,\\\"target_id\\\":28,\\\"type\\\":\\\"CurriculumPrerequisite\\\"}],\\\"name\\\":\\\"CHEE 201\\\",\\\"metrics\\\":{\\\"centrality\\\":1246,\\\"complexity\\\":24.0,\\\"blocking factor\\\":14,\\\"delay factor\\\":10.0},\\\"nameSub\\\":\\\"Elements of Chem and Envirn Eng I\\\",\\\"id\\\":28,\\\"credits\\\":3,\\\"nameCanonical\\\":\\\"\\\"},{\\\"curriculum_requisites\\\":[{\\\"source_id\\\":13,\\\"target_id\\\":29,\\\"type\\\":\\\"CurriculumCorequisite\\\"},{\\\"source_id\\\":1,\\\"target_id\\\":29,\\\"type\\\":\\\"CurriculumPrerequisite\\\"}],\\\"name\\\":\\\" 201L\\\",\\\"metrics\\\":{\\\"centrality\\\":129,\\\"complexity\\\":17.0,\\\"blocking factor\\\":8,\\\"delay factor\\\":9.0},\\\"nameSub\\\":\\\"Elements of Chem and Envirn Eng I Lab\\\",\\\"id\\\":29,\\\"credits\\\":1,\\\"nameCanonical\\\":\\\"\\\"},{\\\"curriculum_requisites\\\":[{\\\"source_id\\\":7,\\\"target_id\\\":30,\\\"type\\\":\\\"CurriculumPrerequisite\\\"},{\\\"source_id\\\":2,\\\"target_id\\\":30,\\\"type\\\":\\\"CurriculumPrerequisite\\\"},{\\\"source_id\\\":23,\\\"target_id\\\":30,\\\"type\\\":\\\"CurriculumPrerequisite\\\"}],\\\"name\\\":\\\"CHEM 480A\\\",\\\"metrics\\\":{\\\"centrality\\\":357,\\\"complexity\\\":17.0,\\\"blocking factor\\\":9,\\\"delay factor\\\":8.0},\\\"nameSub\\\":\\\"Physical Chem\\\",\\\"id\\\":30,\\\"credits\\\":3,\\\"nameCanonical\\\":\\\"\\\"},{\\\"curriculum_requisites\\\":[],\\\"name\\\":\\\" \\\",\\\"metrics\\\":{\\\"centrality\\\":0,\\\"complexity\\\":1.0,\\\"blocking factor\\\":0,\\\"delay factor\\\":1.0},\\\"nameSub\\\":\\\"Engineering Elective\\\",\\\"id\\\":31,\\\"credits\\\":3,\\\"nameCanonical\\\":\\\"\\\"},{\\\"curriculum_requisites\\\":[],\\\"name\\\":\\\" \\\",\\\"metrics\\\":{\\\"centrality\\\":0,\\\"complexity\\\":1.0,\\\"blocking factor\\\":0,\\\"delay factor\\\":1.0},\\\"nameSub\\\":\\\"Engineering Elective\\\",\\\"id\\\":32,\\\"credits\\\":3,\\\"nameCanonical\\\":\\\"\\\"}],\\\"id\\\":5},{\\\"name\\\":\\\"Term 6\\\",\\\"curriculum_items\\\":[{\\\"curriculum_requisites\\\":[],\\\"name\\\":\\\" \\\",\\\"metrics\\\":{\\\"centrality\\\":0,\\\"complexity\\\":1.0,\\\"blocking factor\\\":0,\\\"delay factor\\\":1.0},\\\"nameSub\\\":\\\"Technical Elective\\\",\\\"id\\\":33,\\\"credits\\\":3,\\\"nameCanonical\\\":\\\"\\\"},{\\\"curriculum_requisites\\\":[{\\\"source_id\\\":29,\\\"target_id\\\":34,\\\"type\\\":\\\"CurriculumPrerequisite\\\"},{\\\"source_id\\\":28,\\\"target_id\\\":34,\\\"type\\\":\\\"CurriculumPrerequisite\\\"},{\\\"source_id\\\":19,\\\"target_id\\\":34,\\\"type\\\":\\\"CurriculumCorequisite\\\"}],\\\"name\\\":\\\"CHEE 202\\\",\\\"metrics\\\":{\\\"centrality\\\":603,\\\"complexity\\\":17.0,\\\"blocking factor\\\":7,\\\"delay factor\\\":10.0},\\\"nameSub\\\":\\\"Elements of Chem Eng II\\\",\\\"id\\\":34,\\\"credits\\\":4,\\\"nameCanonical\\\":\\\"\\\"},{\\\"curriculum_requisites\\\":[{\\\"source_id\\\":10,\\\"target_id\\\":35,\\\"type\\\":\\\"CurriculumPrerequisite\\\"},{\\\"source_id\\\":28,\\\"target_id\\\":35,\\\"type\\\":\\\"CurriculumPrerequisite\\\"}],\\\"name\\\":\\\"CHEE 203\\\",\\\"metrics\\\":{\\\"centrality\\\":653,\\\"complexity\\\":18.0,\\\"blocking factor\\\":8,\\\"delay factor\\\":10.0},\\\"nameSub\\\":\\\"Chem Eng Heat Xfer & Fluid Flow\\\",\\\"id\\\":35,\\\"credits\\\":3,\\\"nameCanonical\\\":\\\"\\\"},{\\\"curriculum_requisites\\\":[],\\\"name\\\":\\\" \\\",\\\"metrics\\\":{\\\"centrality\\\":0,\\\"complexity\\\":1.0,\\\"blocking factor\\\":0,\\\"delay factor\\\":1.0},\\\"nameSub\\\":\\\"Engineering Elective\\\",\\\"id\\\":36,\\\"credits\\\":3,\\\"nameCanonical\\\":\\\"\\\"},{\\\"curriculum_requisites\\\":[],\\\"name\\\":\\\" \\\",\\\"metrics\\\":{\\\"centrality\\\":0,\\\"complexity\\\":1.0,\\\"blocking factor\\\":0,\\\"delay factor\\\":1.0},\\\"nameSub\\\":\\\"Technical Elective\\\",\\\"id\\\":37,\\\"credits\\\":3,\\\"nameCanonical\\\":\\\"\\\"}],\\\"id\\\":6},{\\\"name\\\":\\\"Term 7\\\",\\\"curriculum_items\\\":[{\\\"curriculum_requisites\\\":[{\\\"source_id\\\":35,\\\"target_id\\\":38,\\\"type\\\":\\\"CurriculumPrerequisite\\\"}],\\\"name\\\":\\\"CHEE 303\\\",\\\"metrics\\\":{\\\"centrality\\\":496,\\\"complexity\\\":17.0,\\\"blocking factor\\\":7,\\\"delay factor\\\":10.0},\\\"nameSub\\\":\\\"Chem Eng Mass Xfer\\\",\\\"id\\\":38,\\\"credits\\\":3,\\\"nameCanonical\\\":\\\"\\\"},{\\\"curriculum_requisites\\\":[{\\\"source_id\\\":22,\\\"target_id\\\":39,\\\"type\\\":\\\"CurriculumPrerequisite\\\"},{\\\"source_id\\\":34,\\\"target_id\\\":39,\\\"type\\\":\\\"CurriculumPrerequisite\\\"}],\\\"name\\\":\\\"CHEE 402\\\",\\\"metrics\\\":{\\\"centrality\\\":472,\\\"complexity\\\":16.0,\\\"blocking factor\\\":6,\\\"delay factor\\\":10.0},\\\"nameSub\\\":\\\"Chem Eng Modeling\\\",\\\"id\\\":39,\\\"credits\\\":3,\\\"nameCanonical\\\":\\\"\\\"},{\\\"curriculum_requisites\\\":[],\\\"name\\\":\\\"CHEE 489\\\",\\\"metrics\\\":{\\\"centrality\\\":0,\\\"complexity\\\":1.0,\\\"blocking factor\\\":0,\\\"delay factor\\\":1.0},\\\"nameSub\\\":\\\"Trends in Nanomedicine Eng\\\",\\\"id\\\":41,\\\"credits\\\":3,\\\"nameCanonical\\\":\\\"\\\"}],\\\"id\\\":7},{\\\"name\\\":\\\"Term 8\\\",\\\"curriculum_items\\\":[{\\\"curriculum_requisites\\\":[{\\\"source_id\\\":22,\\\"target_id\\\":40,\\\"type\\\":\\\"CurriculumPrerequisite\\\"},{\\\"source_id\\\":34,\\\"target_id\\\":40,\\\"type\\\":\\\"CurriculumPrerequisite\\\"},{\\\"source_id\\\":35,\\\"target_id\\\":40,\\\"type\\\":\\\"CurriculumPrerequisite\\\"},{\\\"source_id\\\":43,\\\"target_id\\\":40,\\\"type\\\":\\\"CurriculumCorequisite\\\"},{\\\"source_id\\\":42,\\\"target_id\\\":40,\\\"type\\\":\\\"CurriculumCorequisite\\\"}],\\\"name\\\":\\\"CHEE 301A\\\",\\\"metrics\\\":{\\\"centrality\\\":1056,\\\"complexity\\\":13.0,\\\"blocking factor\\\":3,\\\"delay factor\\\":10.0},\\\"nameSub\\\":\\\"Chem Eng Lab I\\\",\\\"id\\\":40,\\\"credits\\\":1,\\\"nameCanonical\\\":\\\"\\\"},{\\\"curriculum_requisites\\\":[{\\\"source_id\\\":39,\\\"target_id\\\":42,\\\"type\\\":\\\"CurriculumPrerequisite\\\"},{\\\"source_id\\\":38,\\\"target_id\\\":42,\\\"type\\\":\\\"CurriculumPrerequisite\\\"}],\\\"name\\\":\\\"CHEE 305\\\",\\\"metrics\\\":{\\\"centrality\\\":736,\\\"complexity\\\":14.0,\\\"blocking factor\\\":4,\\\"delay factor\\\":10.0},\\\"nameSub\\\":\\\"Chem Eng Transport Phenom\\\",\\\"id\\\":42,\\\"credits\\\":3,\\\"nameCanonical\\\":\\\"\\\"},{\\\"curriculum_requisites\\\":[{\\\"source_id\\\":30,\\\"target_id\\\":43,\\\"type\\\":\\\"CurriculumPrerequisite\\\"},{\\\"source_id\\\":28,\\\"target_id\\\":43,\\\"type\\\":\\\"CurriculumPrerequisite\\\"}],\\\"name\\\":\\\"CHEE 326\\\",\\\"metrics\\\":{\\\"centrality\\\":644,\\\"complexity\\\":15.0,\\\"blocking factor\\\":7,\\\"delay factor\\\":8.0},\\\"nameSub\\\":\\\"Chem & Phys Equilibrium\\\",\\\"id\\\":43,\\\"credits\\\":3,\\\"nameCanonical\\\":\\\"\\\"},{\\\"curriculum_requisites\\\":[{\\\"source_id\\\":30,\\\"target_id\\\":48,\\\"type\\\":\\\"CurriculumPrerequisite\\\"}],\\\"name\\\":\\\"CHEM 480B\\\",\\\"metrics\\\":{\\\"centrality\\\":0,\\\"complexity\\\":5.0,\\\"blocking factor\\\":0,\\\"delay factor\\\":5.0},\\\"nameSub\\\":\\\"Physical Chem\\\",\\\"id\\\":48,\\\"credits\\\":3,\\\"nameCanonical\\\":\\\"\\\"},{\\\"curriculum_requisites\\\":[{\\\"source_id\\\":39,\\\"target_id\\\":49,\\\"type\\\":\\\"CurriculumPrerequisite\\\"}],\\\"name\\\":\\\"CHEE 413\\\",\\\"metrics\\\":{\\\"centrality\\\":67,\\\"complexity\\\":9.0,\\\"blocking factor\\\":1,\\\"delay factor\\\":8.0},\\\"nameSub\\\":\\\"Process Control and Simulation\\\",\\\"id\\\":49,\\\"credits\\\":3,\\\"nameCanonical\\\":\\\"\\\"}],\\\"id\\\":8},{\\\"name\\\":\\\"Term 9\\\",\\\"curriculum_items\\\":[{\\\"curriculum_requisites\\\":[{\\\"source_id\\\":43,\\\"target_id\\\":44,\\\"type\\\":\\\"CurriculumStrictCorequisite\\\"},{\\\"source_id\\\":38,\\\"target_id\\\":44,\\\"type\\\":\\\"CurriculumPrerequisite\\\"},{\\\"source_id\\\":42,\\\"target_id\\\":44,\\\"type\\\":\\\"CurriculumStrictCorequisite\\\"},{\\\"source_id\\\":40,\\\"target_id\\\":44,\\\"type\\\":\\\"CurriculumPrerequisite\\\"}],\\\"name\\\":\\\"CHEE 301B\\\",\\\"metrics\\\":{\\\"centrality\\\":1278,\\\"complexity\\\":12.0,\\\"blocking factor\\\":2,\\\"delay factor\\\":10.0},\\\"nameSub\\\":\\\"Chem Eng Lab II\\\",\\\"id\\\":44,\\\"credits\\\":1,\\\"nameCanonical\\\":\\\"\\\"},{\\\"curriculum_requisites\\\":[{\\\"source_id\\\":43,\\\"target_id\\\":45,\\\"type\\\":\\\"CurriculumPrerequisite\\\"}],\\\"name\\\":\\\"CHEE 420\\\",\\\"metrics\\\":{\\\"centrality\\\":164,\\\"complexity\\\":11.0,\\\"blocking factor\\\":3,\\\"delay factor\\\":8.0},\\\"nameSub\\\":\\\"Chem Reaction Eng\\\",\\\"id\\\":45,\\\"credits\\\":3,\\\"nameCanonical\\\":\\\"\\\"},{\\\"curriculum_requisites\\\":[{\\\"source_id\\\":43,\\\"target_id\\\":46,\\\"type\\\":\\\"CurriculumPrerequisite\\\"},{\\\"source_id\\\":45,\\\"target_id\\\":46,\\\"type\\\":\\\"CurriculumStrictCorequisite\\\"},{\\\"source_id\\\":38,\\\"target_id\\\":46,\\\"type\\\":\\\"CurriculumPrerequisite\\\"}],\\\"name\\\":\\\"CHEE 442\\\",\\\"metrics\\\":{\\\"centrality\\\":219,\\\"complexity\\\":9.0,\\\"blocking factor\\\":1,\\\"delay factor\\\":8.0},\\\"nameSub\\\":\\\"Chem Eng Design Principles\\\",\\\"id\\\":46,\\\"credits\\\":3,\\\"nameCanonical\\\":\\\"\\\"}],\\\"id\\\":9},{\\\"name\\\":\\\"Term 10\\\",\\\"curriculum_items\\\":[{\\\"curriculum_requisites\\\":[{\\\"source_id\\\":45,\\\"target_id\\\":47,\\\"type\\\":\\\"CurriculumCorequisite\\\"},{\\\"source_id\\\":44,\\\"target_id\\\":47,\\\"type\\\":\\\"CurriculumPrerequisite\\\"}],\\\"name\\\":\\\"CHEE 401A\\\",\\\"metrics\\\":{\\\"centrality\\\":0,\\\"complexity\\\":10.0,\\\"blocking factor\\\":0,\\\"delay factor\\\":10.0},\\\"nameSub\\\":\\\"Chem and Enviorn Eng Lab I\\\",\\\"id\\\":47,\\\"credits\\\":1,\\\"nameCanonical\\\":\\\"\\\"},{\\\"curriculum_requisites\\\":[{\\\"source_id\\\":49,\\\"target_id\\\":50,\\\"type\\\":\\\"CurriculumCorequisite\\\"},{\\\"source_id\\\":44,\\\"target_id\\\":50,\\\"type\\\":\\\"CurriculumPrerequisite\\\"},{\\\"source_id\\\":40,\\\"target_id\\\":50,\\\"type\\\":\\\"CurriculumPrerequisite\\\"}],\\\"name\\\":\\\"CHEE 401B\\\",\\\"metrics\\\":{\\\"centrality\\\":0,\\\"complexity\\\":10.0,\\\"blocking factor\\\":0,\\\"delay factor\\\":10.0},\\\"nameSub\\\":\\\"Process Dynamics and Control Lab\\\",\\\"id\\\":50,\\\"credits\\\":1,\\\"nameCanonical\\\":\\\"\\\"},{\\\"curriculum_requisites\\\":[{\\\"source_id\\\":46,\\\"target_id\\\":51,\\\"type\\\":\\\"CurriculumPrerequisite\\\"}],\\\"name\\\":\\\"CHEE 443\\\",\\\"metrics\\\":{\\\"centrality\\\":0,\\\"complexity\\\":8.0,\\\"blocking factor\\\":0,\\\"delay factor\\\":8.0},\\\"nameSub\\\":\\\"Chem Eng Plant Design\\\",\\\"id\\\":51,\\\"credits\\\":3,\\\"nameCanonical\\\":\\\"\\\"}],\\\"id\\\":10}],\\\"institution\\\":\\\"University of Arizona\\\"}},\\\"*\\\"); window.removeEventListener(\\\"message\\\",window.messageReceived); window.messageReceived=(function (event){return (event.data.curriculum!==undefined) ? (WebIO.setval({\\\"name\\\":\\\"curriculum-data\\\",\\\"scope\\\":\\\"10651364928336369878\\\",\\\"id\\\":\\\"13286717489969507651\\\",\\\"type\\\":\\\"observable\\\"},event.data.curriculum)) : undefined}); return window.addEventListener(\\\"message\\\",window.messageReceived)})\"},\"style\":{\"padding\":\"0\",\"height\":\"85vh\",\"margin\":\"0\",\"border\":\"none\",\"width\":\"100%\"}},\"nodeType\":\"DOM\",\"type\":\"node\",\"instanceArgs\":{\"namespace\":\"html\",\"tag\":\"iframe\"},\"children\":[\"\"]}]},\n",
       "        window,\n",
       "    );\n",
       "    })()\n",
       "    </script>\n",
       "</div>\n"
      ],
      "text/plain": [
       "WebIO.Scope(WebIO.Node{WebIO.DOM}(WebIO.DOM(:html, :iframe), Any[\"\"], Dict{Symbol, Any}(:src => \"https://curricula-api-embed.damoursystems.com/\", :id => \"curriculum\", :events => Dict{Symbol, WebIO.JSString}(:load => WebIO.JSString(\"(function (){this.contentWindow.postMessage({\\\"options\\\":{\\\"hideTerms\\\":false,\\\"edit\\\":true},\\\"curriculum\\\":{\\\"name\\\":\\\"Chemical Engineering\\\",\\\"dp_name\\\":\\\"2019-20 Pima to UA Transfer Degree Plan\\\",\\\"curriculum_terms\\\":[{\\\"name\\\":\\\"Term 1\\\",\\\"curriculum_items\\\":[{\\\"curriculum_requisites\\\":[],\\\"name\\\":\\\"MAT 220\\\",\\\"metrics\\\":{\\\"centrality\\\":0,\\\"complexity\\\":36.0,\\\"blocking factor\\\":26,\\\"delay factor\\\":10.0},\\\"nameSub\\\":\\\"Calculus I\\\",\\\"id\\\":1,\\\"credits\\\":5,\\\"nameCanonical\\\":\\\"Calculus I\\\"},{\\\"curriculum_requisites\\\":[{\\\"source_id\\\":3,\\\"target_id\\\":2,\\\"type\\\":\\\"CurriculumStrictCorequisite\\\"}],\\\"name\\\":\\\"CHM 151IN\\\",\\\"metrics\\\":{\\\"centrality\\\":291,\\\"complexity\\\":30.0,\\\"blocking factor\\\":20,\\\"delay factor\\\":10.0},\\\"nameSub\\\":\\\"Gen Chemistry I\\\",\\\"id\\\":2,\\\"credits\\\":4,\\\"nameCanonical\\\":\\\"General Chemsitry I\\\"},{\\\"curriculum_requisites\\\":[],\\\"name\\\":\\\"CHM 151RC\\\",\\\"metrics\\\":{\\\"centrality\\\":0,\\\"complexity\\\":31.0,\\\"blocking factor\\\":21,\\\"delay factor\\\":10.0},\\\"nameSub\\\":\\\"Gen Chemistry I Recitation\\\",\\\"id\\\":3,\\\"credits\\\":1,\\\"nameCanonical\\\":\\\"\\\"},{\\\"curriculum_requisites\\\":[],\\\"name\\\":\\\"WRT 101\\\",\\\"metrics\\\":{\\\"centrality\\\":0,\\\"complexity\\\":3.0,\\\"blocking factor\\\":1,\\\"delay factor\\\":2.0},\\\"nameSub\\\":\\\"English Composition I\\\",\\\"id\\\":4,\\\"credits\\\":3,\\\"nameCanonical\\\":\\\"English Composition I\\\"},{\\\"curriculum_requisites\\\":[{\\\"source_id\\\":1,\\\"target_id\\\":5,\\\"type\\\":\\\"CurriculumCorequisite\\\"}],\\\"name\\\":\\\"ENG 102IN\\\",\\\"metrics\\\":{\\\"centrality\\\":203,\\\"complexity\\\":24.0,\\\"blocking factor\\\":15,\\\"delay factor\\\":9.0},\\\"nameSub\\\":\\\"Problem-Solving and Engineering Design\\\",\\\"id\\\":5,\\\"credits\\\":3,\\\"nameCanonical\\\":\\\"Intro to Engineering\\\"},{\\\"curriculum_requisites\\\":[],\\\"name\\\":\\\" \\\",\\\"metrics\\\":{\\\"centrality\\\":0,\\\"complexity\\\":1.0,\\\"blocking factor\\\":0,\\\"delay factor\\\":1.0},\\\"nameSub\\\":\\\"AGEC-S Course\\\",\\\"id\\\":6,\\\"credits\\\":3,\\\"nameCanonical\\\":\\\"\\\"}],\\\"id\\\":1},{\\\"name\\\":\\\"Term 2\\\",\\\"curriculum_items\\\":[{\\\"curriculum_requisites\\\":[{\\\"source_id\\\":1,\\\"target_id\\\":7,\\\"type\\\":\\\"CurriculumPrerequisite\\\"}],\\\"name\\\":\\\"MAT 231\\\",\\\"metrics\\\":{\\\"centrality\\\":182,\\\"complexity\\\":24.0,\\\"blocking factor\\\":16,\\\"delay factor\\\":8.0},\\\"nameSub\\\":\\\"Calculus II\\\",\\\"id\\\":7,\\\"credits\\\":4,\\\"nameCanonical\\\":\\\"Calculus II\\\"},{\\\"curriculum_requisites\\\":[{\\\"source_id\\\":2,\\\"target_id\\\":8,\\\"type\\\":\\\"CurriculumPrerequisite\\\"},{\\\"source_id\\\":9,\\\"target_id\\\":8,\\\"type\\\":\\\"CurriculumStrictCorequisite\\\"}],\\\"name\\\":\\\"CHM 152IN\\\",\\\"metrics\\\":{\\\"centrality\\\":443,\\\"complexity\\\":27.0,\\\"blocking factor\\\":17,\\\"delay factor\\\":10.0},\\\"nameSub\\\":\\\"Gen Chemistry II\\\",\\\"id\\\":8,\\\"credits\\\":4,\\\"nameCanonical\\\":\\\"General Chemsitry II\\\"},{\\\"curriculum_requisites\\\":[],\\\"name\\\":\\\"CHM 152RC\\\",\\\"metrics\\\":{\\\"centrality\\\":0,\\\"complexity\\\":27.0,\\\"blocking factor\\\":18,\\\"delay factor\\\":9.0},\\\"nameSub\\\":\\\"Gen Chemistry II Recitation\\\",\\\"id\\\":9,\\\"credits\\\":1,\\\"nameCanonical\\\":\\\"\\\"},{\\\"curriculum_requisites\\\":[{\\\"source_id\\\":11,\\\"target_id\\\":10,\\\"type\\\":\\\"CurriculumStrictCorequisite\\\"},{\\\"source_id\\\":1,\\\"target_id\\\":10,\\\"type\\\":\\\"CurriculumPrerequisite\\\"}],\\\"name\\\":\\\"PHY 210IN\\\",\\\"metrics\\\":{\\\"centrality\\\":272,\\\"complexity\\\":22.0,\\\"blocking factor\\\":14,\\\"delay factor\\\":8.0},\\\"nameSub\\\":\\\"Intro Mechanics\\\",\\\"id\\\":10,\\\"credits\\\":4,\\\"nameCanonical\\\":\\\"\\\"},{\\\"curriculum_requisites\\\":[],\\\"name\\\":\\\"PHY 210RC\\\",\\\"metrics\\\":{\\\"centrality\\\":0,\\\"complexity\\\":23.0,\\\"blocking factor\\\":15,\\\"delay factor\\\":8.0},\\\"nameSub\\\":\\\"Intro Mechanics Recitation\\\",\\\"id\\\":11,\\\"credits\\\":1,\\\"nameCanonical\\\":\\\"\\\"},{\\\"curriculum_requisites\\\":[{\\\"source_id\\\":4,\\\"target_id\\\":12,\\\"type\\\":\\\"CurriculumPrerequisite\\\"}],\\\"name\\\":\\\"WRT 102\\\",\\\"metrics\\\":{\\\"centrality\\\":0,\\\"complexity\\\":2.0,\\\"blocking factor\\\":0,\\\"delay factor\\\":2.0},\\\"nameSub\\\":\\\" English Composition II\\\",\\\"id\\\":12,\\\"credits\\\":3,\\\"nameCanonical\\\":\\\" English Composition\\\"},{\\\"curriculum_requisites\\\":[{\\\"source_id\\\":1,\\\"target_id\\\":13,\\\"type\\\":\\\"CurriculumCorequisite\\\"}],\\\"name\\\":\\\"ENG 105IN\\\",\\\"metrics\\\":{\\\"centrality\\\":503,\\\"complexity\\\":27.0,\\\"blocking factor\\\":17,\\\"delay factor\\\":10.0},\\\"nameSub\\\":\\\"Intro to MATLAB I\\\",\\\"id\\\":13,\\\"credits\\\":1,\\\"nameCanonical\\\":\\\"\\\"}],\\\"id\\\":2},{\\\"name\\\":\\\"Term 3\\\",\\\"curriculum_items\\\":[{\\\"curriculum_requisites\\\":[],\\\"name\\\":\\\" \\\",\\\"metrics\\\":{\\\"centrality\\\":0,\\\"complexity\\\":1.0,\\\"blocking factor\\\":0,\\\"delay factor\\\":1.0},\\\"nameSub\\\":\\\"AGEC-S Course\\\",\\\"id\\\":14,\\\"credits\\\":3,\\\"nameCanonical\\\":\\\"\\\"},{\\\"curriculum_requisites\\\":[],\\\"name\\\":\\\" \\\",\\\"metrics\\\":{\\\"centrality\\\":0,\\\"complexity\\\":1.0,\\\"blocking factor\\\":0,\\\"delay factor\\\":1.0},\\\"nameSub\\\":\\\"AGEC-S Course\\\",\\\"id\\\":15,\\\"credits\\\":3,\\\"nameCanonical\\\":\\\"\\\"},{\\\"curriculum_requisites\\\":[{\\\"source_id\\\":7,\\\"target_id\\\":16,\\\"type\\\":\\\"CurriculumPrerequisite\\\"}],\\\"name\\\":\\\"MAT 241\\\",\\\"metrics\\\":{\\\"centrality\\\":0,\\\"complexity\\\":3.0,\\\"blocking factor\\\":0,\\\"delay factor\\\":3.0},\\\"nameSub\\\":\\\"Calculus III\\\",\\\"id\\\":16,\\\"credits\\\":4,\\\"nameCanonical\\\":\\\"Calculus III\\\"},{\\\"curriculum_requisites\\\":[{\\\"source_id\\\":18,\\\"target_id\\\":17,\\\"type\\\":\\\"CurriculumStrictCorequisite\\\"},{\\\"source_id\\\":8,\\\"target_id\\\":17,\\\"type\\\":\\\"CurriculumPrerequisite\\\"}],\\\"name\\\":\\\" 235IN\\\",\\\"metrics\\\":{\\\"centrality\\\":12,\\\"complexity\\\":6.0,\\\"blocking factor\\\":1,\\\"delay factor\\\":5.0},\\\"nameSub\\\":\\\"General Organic Chemistry I\\\",\\\"id\\\":17,\\\"credits\\\":4,\\\"nameCanonical\\\":\\\"Organic Chemistry I\\\"},{\\\"curriculum_requisites\\\":[],\\\"name\\\":\\\"CHM  235RC\\\",\\\"metrics\\\":{\\\"centrality\\\":0,\\\"complexity\\\":5.0,\\\"blocking factor\\\":2,\\\"delay factor\\\":3.0},\\\"nameSub\\\":\\\"General Organic Chemistry I Recitation\\\",\\\"id\\\":18,\\\"credits\\\":1,\\\"nameCanonical\\\":\\\"\\\"},{\\\"curriculum_requisites\\\":[],\\\"name\\\":\\\" \\\",\\\"metrics\\\":{\\\"centrality\\\":0,\\\"complexity\\\":15.0,\\\"blocking factor\\\":8,\\\"delay factor\\\":7.0},\\\"nameSub\\\":\\\"AGEC-S Course\\\",\\\"id\\\":19,\\\"credits\\\":3,\\\"nameCanonical\\\":\\\"\\\"}],\\\"id\\\":3},{\\\"name\\\":\\\"Term 4\\\",\\\"curriculum_items\\\":[{\\\"curriculum_requisites\\\":[],\\\"name\\\":\\\" \\\",\\\"metrics\\\":{\\\"centrality\\\":0,\\\"complexity\\\":1.0,\\\"blocking factor\\\":0,\\\"delay factor\\\":1.0},\\\"nameSub\\\":\\\"AGEC-S Course\\\",\\\"id\\\":20,\\\"credits\\\":3,\\\"nameCanonical\\\":\\\"\\\"},{\\\"curriculum_requisites\\\":[],\\\"name\\\":\\\" \\\",\\\"metrics\\\":{\\\"centrality\\\":0,\\\"complexity\\\":1.0,\\\"blocking factor\\\":0,\\\"delay factor\\\":1.0},\\\"nameSub\\\":\\\"AGEC-S Course\\\",\\\"id\\\":21,\\\"credits\\\":3,\\\"nameCanonical\\\":\\\"\\\"},{\\\"curriculum_requisites\\\":[{\\\"source_id\\\":7,\\\"target_id\\\":22,\\\"type\\\":\\\"CurriculumPrerequisite\\\"}],\\\"name\\\":\\\"MAT 262\\\",\\\"metrics\\\":{\\\"centrality\\\":60,\\\"complexity\\\":15.0,\\\"blocking factor\\\":7,\\\"delay factor\\\":8.0},\\\"nameSub\\\":\\\"Differential Equations\\\",\\\"id\\\":22,\\\"credits\\\":3,\\\"nameCanonical\\\":\\\"Differential Equations\\\"},{\\\"curriculum_requisites\\\":[{\\\"source_id\\\":7,\\\"target_id\\\":23,\\\"type\\\":\\\"CurriculumPrerequisite\\\"},{\\\"source_id\\\":10,\\\"target_id\\\":23,\\\"type\\\":\\\"CurriculumPrerequisite\\\"},{\\\"source_id\\\":24,\\\"target_id\\\":23,\\\"type\\\":\\\"CurriculumStrictCorequisite\\\"}],\\\"name\\\":\\\"PHY 216IN\\\",\\\"metrics\\\":{\\\"centrality\\\":247,\\\"complexity\\\":18.0,\\\"blocking factor\\\":10,\\\"delay factor\\\":8.0},\\\"nameSub\\\":\\\"Intro Electricity & Magnetism\\\",\\\"id\\\":23,\\\"credits\\\":4,\\\"nameCanonical\\\":\\\"\\\"},{\\\"curriculum_requisites\\\":[],\\\"name\\\":\\\"PHY 216RC\\\",\\\"metrics\\\":{\\\"centrality\\\":0,\\\"complexity\\\":18.0,\\\"blocking factor\\\":11,\\\"delay factor\\\":7.0},\\\"nameSub\\\":\\\"Intro Electricity & Magnetism\\\",\\\"id\\\":24,\\\"credits\\\":1,\\\"nameCanonical\\\":\\\"\\\"},{\\\"curriculum_requisites\\\":[{\\\"source_id\\\":26,\\\"target_id\\\":25,\\\"type\\\":\\\"CurriculumStrictCorequisite\\\"},{\\\"source_id\\\":17,\\\"target_id\\\":25,\\\"type\\\":\\\"CurriculumPrerequisite\\\"}],\\\"name\\\":\\\"CHM 236IN\\\",\\\"metrics\\\":{\\\"centrality\\\":0,\\\"complexity\\\":5.0,\\\"blocking factor\\\":0,\\\"delay factor\\\":5.0},\\\"nameSub\\\":\\\"General Organic Chemistry II\\\",\\\"id\\\":25,\\\"credits\\\":4,\\\"nameCanonical\\\":\\\"Organic Chemistry II\\\"},{\\\"curriculum_requisites\\\":[],\\\"name\\\":\\\"CHM  236RC\\\",\\\"metrics\\\":{\\\"centrality\\\":0,\\\"complexity\\\":3.0,\\\"blocking factor\\\":1,\\\"delay factor\\\":2.0},\\\"nameSub\\\":\\\"General Organic Chemistry II Recitation\\\",\\\"id\\\":26,\\\"credits\\\":1,\\\"nameCanonical\\\":\\\"\\\"},{\\\"curriculum_requisites\\\":[{\\\"source_id\\\":13,\\\"target_id\\\":27,\\\"type\\\":\\\"CurriculumPrerequisite\\\"}],\\\"name\\\":\\\"ENG 205IN\\\",\\\"metrics\\\":{\\\"centrality\\\":231,\\\"complexity\\\":25.0,\\\"blocking factor\\\":15,\\\"delay factor\\\":10.0},\\\"nameSub\\\":\\\"Intro to MATLAB II\\\",\\\"id\\\":27,\\\"credits\\\":1,\\\"nameCanonical\\\":\\\"\\\"}],\\\"id\\\":4},{\\\"name\\\":\\\"Term 5\\\",\\\"curriculum_items\\\":[{\\\"curriculum_requisites\\\":[{\\\"source_id\\\":5,\\\"target_id\\\":28,\\\"type\\\":\\\"CurriculumPrerequisite\\\"},{\\\"source_id\\\":13,\\\"target_id\\\":28,\\\"type\\\":\\\"CurriculumPrerequisite\\\"},{\\\"source_id\\\":27,\\\"target_id\\\":28,\\\"type\\\":\\\"CurriculumCorequisite\\\"},{\\\"source_id\\\":8,\\\"target_id\\\":28,\\\"type\\\":\\\"CurriculumPrerequisite\\\"},{\\\"source_id\\\":1,\\\"target_id\\\":28,\\\"type\\\":\\\"CurriculumPrerequisite\\\"}],\\\"name\\\":\\\"CHEE 201\\\",\\\"metrics\\\":{\\\"centrality\\\":1246,\\\"complexity\\\":24.0,\\\"blocking factor\\\":14,\\\"delay factor\\\":10.0},\\\"nameSub\\\":\\\"Elements of Chem and Envirn Eng I\\\",\\\"id\\\":28,\\\"credits\\\":3,\\\"nameCanonical\\\":\\\"\\\"},{\\\"curriculum_requisites\\\":[{\\\"source_id\\\":13,\\\"target_id\\\":29,\\\"type\\\":\\\"CurriculumCorequisite\\\"},{\\\"source_id\\\":1,\\\"target_id\\\":29,\\\"type\\\":\\\"CurriculumPrerequisite\\\"}],\\\"name\\\":\\\" 201L\\\",\\\"metrics\\\":{\\\"centrality\\\":129,\\\"complexity\\\":17.0,\\\"blocking factor\\\":8,\\\"delay factor\\\":9.0},\\\"nameSub\\\":\\\"Elements of Chem and Envirn Eng I Lab\\\",\\\"id\\\":29,\\\"credits\\\":1,\\\"nameCanonical\\\":\\\"\\\"},{\\\"curriculum_requisites\\\":[{\\\"source_id\\\":7,\\\"target_id\\\":30,\\\"type\\\":\\\"CurriculumPrerequisite\\\"},{\\\"source_id\\\":2,\\\"target_id\\\":30,\\\"type\\\":\\\"CurriculumPrerequisite\\\"},{\\\"source_id\\\":23,\\\"target_id\\\":30,\\\"type\\\":\\\"CurriculumPrerequisite\\\"}],\\\"name\\\":\\\"CHEM 480A\\\",\\\"metrics\\\":{\\\"centrality\\\":357,\\\"complexity\\\":17.0,\\\"blocking factor\\\":9,\\\"delay factor\\\":8.0},\\\"nameSub\\\":\\\"Physical Chem\\\",\\\"id\\\":30,\\\"credits\\\":3,\\\"nameCanonical\\\":\\\"\\\"},{\\\"curriculum_requisites\\\":[],\\\"name\\\":\\\" \\\",\\\"metrics\\\":{\\\"centrality\\\":0,\\\"complexity\\\":1.0,\\\"blocking factor\\\":0,\\\"delay factor\\\":1.0},\\\"nameSub\\\":\\\"Engineering Elective\\\",\\\"id\\\":31,\\\"credits\\\":3,\\\"nameCanonical\\\":\\\"\\\"},{\\\"curriculum_requisites\\\":[],\\\"name\\\":\\\" \\\",\\\"metrics\\\":{\\\"centrality\\\":0,\\\"complexity\\\":1.0,\\\"blocking factor\\\":0,\\\"delay factor\\\":1.0},\\\"nameSub\\\":\\\"Engineering Elective\\\",\\\"id\\\":32,\\\"credits\\\":3,\\\"nameCanonical\\\":\\\"\\\"}],\\\"id\\\":5},{\\\"name\\\":\\\"Term 6\\\",\\\"curriculum_items\\\":[{\\\"curriculum_requisites\\\":[],\\\"name\\\":\\\" \\\",\\\"metrics\\\":{\\\"centrality\\\":0,\\\"complexity\\\":1.0,\\\"blocking factor\\\":0,\\\"delay factor\\\":1.0},\\\"nameSub\\\":\\\"Technical Elective\\\",\\\"id\\\":33,\\\"credits\\\":3,\\\"nameCanonical\\\":\\\"\\\"},{\\\"curriculum_requisites\\\":[{\\\"source_id\\\":29,\\\"target_id\\\":34,\\\"type\\\":\\\"CurriculumPrerequisite\\\"},{\\\"source_id\\\":28,\\\"target_id\\\":34,\\\"type\\\":\\\"CurriculumPrerequisite\\\"},{\\\"source_id\\\":19,\\\"target_id\\\":34,\\\"type\\\":\\\"CurriculumCorequisite\\\"}],\\\"name\\\":\\\"CHEE 202\\\",\\\"metrics\\\":{\\\"centrality\\\":603,\\\"complexity\\\":17.0,\\\"blocking factor\\\":7,\\\"delay factor\\\":10.0},\\\"nameSub\\\":\\\"Elements of Chem Eng II\\\",\\\"id\\\":34,\\\"credits\\\":4,\\\"nameCanonical\\\":\\\"\\\"},{\\\"curriculum_requisites\\\":[{\\\"source_id\\\":10,\\\"target_id\\\":35,\\\"type\\\":\\\"CurriculumPrerequisite\\\"},{\\\"source_id\\\":28,\\\"target_id\\\":35,\\\"type\\\":\\\"CurriculumPrerequisite\\\"}],\\\"name\\\":\\\"CHEE 203\\\",\\\"metrics\\\":{\\\"centrality\\\":653,\\\"complexity\\\":18.0,\\\"blocking factor\\\":8,\\\"delay factor\\\":10.0},\\\"nameSub\\\":\\\"Chem Eng Heat Xfer & Fluid Flow\\\",\\\"id\\\":35,\\\"credits\\\":3,\\\"nameCanonical\\\":\\\"\\\"},{\\\"curriculum_requisites\\\":[],\\\"name\\\":\\\" \\\",\\\"metrics\\\":{\\\"centrality\\\":0,\\\"complexity\\\":1.0,\\\"blocking factor\\\":0,\\\"delay factor\\\":1.0},\\\"nameSub\\\":\\\"Engineering Elective\\\",\\\"id\\\":36,\\\"credits\\\":3,\\\"nameCanonical\\\":\\\"\\\"},{\\\"curriculum_requisites\\\":[],\\\"name\\\":\\\" \\\",\\\"metrics\\\":{\\\"centrality\\\":0,\\\"complexity\\\":1.0,\\\"blocking factor\\\":0,\\\"delay factor\\\":1.0},\\\"nameSub\\\":\\\"Technical Elective\\\",\\\"id\\\":37,\\\"credits\\\":3,\\\"nameCanonical\\\":\\\"\\\"}],\\\"id\\\":6},{\\\"name\\\":\\\"Term 7\\\",\\\"curriculum_items\\\":[{\\\"curriculum_requisites\\\":[{\\\"source_id\\\":35,\\\"target_id\\\":38,\\\"type\\\":\\\"CurriculumPrerequisite\\\"}],\\\"name\\\":\\\"CHEE 303\\\",\\\"metrics\\\":{\\\"centrality\\\":496,\\\"complexity\\\":17.0,\\\"blocking factor\\\":7,\\\"delay factor\\\":10.0},\\\"nameSub\\\":\\\"Chem Eng Mass Xfer\\\",\\\"id\\\":38,\\\"credits\\\":3,\\\"nameCanonical\\\":\\\"\\\"},{\\\"curriculum_requisites\\\":[{\\\"source_id\\\":22,\\\"target_id\\\":39,\\\"type\\\":\\\"CurriculumPrerequisite\\\"},{\\\"source_id\\\":34,\\\"target_id\\\":39,\\\"type\\\":\\\"CurriculumPrerequisite\\\"}],\\\"name\\\":\\\"CHEE 402\\\",\\\"metrics\\\":{\\\"centrality\\\":472,\\\"complexity\\\":16.0,\\\"blocking factor\\\":6,\\\"delay factor\\\":10.0},\\\"nameSub\\\":\\\"Chem Eng Modeling\\\",\\\"id\\\":39,\\\"credits\\\":3,\\\"nameCanonical\\\":\\\"\\\"},{\\\"curriculum_requisites\\\":[],\\\"name\\\":\\\"CHEE 489\\\",\\\"metrics\\\":{\\\"centrality\\\":0,\\\"complexity\\\":1.0,\\\"blocking factor\\\":0,\\\"delay factor\\\":1.0},\\\"nameSub\\\":\\\"Trends in Nanomedicine Eng\\\",\\\"id\\\":41,\\\"credits\\\":3,\\\"nameCanonical\\\":\\\"\\\"}],\\\"id\\\":7},{\\\"name\\\":\\\"Term 8\\\",\\\"curriculum_items\\\":[{\\\"curriculum_requisites\\\":[{\\\"source_id\\\":22,\\\"target_id\\\":40,\\\"type\\\":\\\"CurriculumPrerequisite\\\"},{\\\"source_id\\\":34,\\\"target_id\\\":40,\\\"type\\\":\\\"CurriculumPrerequisite\\\"},{\\\"source_id\\\":35,\\\"target_id\\\":40,\\\"type\\\":\\\"CurriculumPrerequisite\\\"},{\\\"source_id\\\":43,\\\"target_id\\\":40,\\\"type\\\":\\\"CurriculumCorequisite\\\"},{\\\"source_id\\\":42,\\\"target_id\\\":40,\\\"type\\\":\\\"CurriculumCorequisite\\\"}],\\\"name\\\":\\\"CHEE 301A\\\",\\\"metrics\\\":{\\\"centrality\\\":1056,\\\"complexity\\\":13.0,\\\"blocking factor\\\":3,\\\"delay factor\\\":10.0},\\\"nameSub\\\":\\\"Chem Eng Lab I\\\",\\\"id\\\":40,\\\"credits\\\":1,\\\"nameCanonical\\\":\\\"\\\"},{\\\"curriculum_requisites\\\":[{\\\"source_id\\\":39,\\\"target_id\\\":42,\\\"type\\\":\\\"CurriculumPrerequisite\\\"},{\\\"source_id\\\":38,\\\"target_id\\\":42,\\\"type\\\":\\\"CurriculumPrerequisite\\\"}],\\\"name\\\":\\\"CHEE 305\\\",\\\"metrics\\\":{\\\"centrality\\\":736,\\\"complexity\\\":14.0,\\\"blocking factor\\\":4,\\\"delay factor\\\":10.0},\\\"nameSub\\\":\\\"Chem Eng Transport Phenom\\\",\\\"id\\\":42,\\\"credits\\\":3,\\\"nameCanonical\\\":\\\"\\\"},{\\\"curriculum_requisites\\\":[{\\\"source_id\\\":30,\\\"target_id\\\":43,\\\"type\\\":\\\"CurriculumPrerequisite\\\"},{\\\"source_id\\\":28,\\\"target_id\\\":43,\\\"type\\\":\\\"CurriculumPrerequisite\\\"}],\\\"name\\\":\\\"CHEE 326\\\",\\\"metrics\\\":{\\\"centrality\\\":644,\\\"complexity\\\":15.0,\\\"blocking factor\\\":7,\\\"delay factor\\\":8.0},\\\"nameSub\\\":\\\"Chem & Phys Equilibrium\\\",\\\"id\\\":43,\\\"credits\\\":3,\\\"nameCanonical\\\":\\\"\\\"},{\\\"curriculum_requisites\\\":[{\\\"source_id\\\":30,\\\"target_id\\\":48,\\\"type\\\":\\\"CurriculumPrerequisite\\\"}],\\\"name\\\":\\\"CHEM 480B\\\",\\\"metrics\\\":{\\\"centrality\\\":0,\\\"complexity\\\":5.0,\\\"blocking factor\\\":0,\\\"delay factor\\\":5.0},\\\"nameSub\\\":\\\"Physical Chem\\\",\\\"id\\\":48,\\\"credits\\\":3,\\\"nameCanonical\\\":\\\"\\\"},{\\\"curriculum_requisites\\\":[{\\\"source_id\\\":39,\\\"target_id\\\":49,\\\"type\\\":\\\"CurriculumPrerequisite\\\"}],\\\"name\\\":\\\"CHEE 413\\\",\\\"metrics\\\":{\\\"centrality\\\":67,\\\"complexity\\\":9.0,\\\"blocking factor\\\":1,\\\"delay factor\\\":8.0},\\\"nameSub\\\":\\\"Process Control and Simulation\\\",\\\"id\\\":49,\\\"credits\\\":3,\\\"nameCanonical\\\":\\\"\\\"}],\\\"id\\\":8},{\\\"name\\\":\\\"Term 9\\\",\\\"curriculum_items\\\":[{\\\"curriculum_requisites\\\":[{\\\"source_id\\\":43,\\\"target_id\\\":44,\\\"type\\\":\\\"CurriculumStrictCorequisite\\\"},{\\\"source_id\\\":38,\\\"target_id\\\":44,\\\"type\\\":\\\"CurriculumPrerequisite\\\"},{\\\"source_id\\\":42,\\\"target_id\\\":44,\\\"type\\\":\\\"CurriculumStrictCorequisite\\\"},{\\\"source_id\\\":40,\\\"target_id\\\":44,\\\"type\\\":\\\"CurriculumPrerequisite\\\"}],\\\"name\\\":\\\"CHEE 301B\\\",\\\"metrics\\\":{\\\"centrality\\\":1278,\\\"complexity\\\":12.0,\\\"blocking factor\\\":2,\\\"delay factor\\\":10.0},\\\"nameSub\\\":\\\"Chem Eng Lab II\\\",\\\"id\\\":44,\\\"credits\\\":1,\\\"nameCanonical\\\":\\\"\\\"},{\\\"curriculum_requisites\\\":[{\\\"source_id\\\":43,\\\"target_id\\\":45,\\\"type\\\":\\\"CurriculumPrerequisite\\\"}],\\\"name\\\":\\\"CHEE 420\\\",\\\"metrics\\\":{\\\"centrality\\\":164,\\\"complexity\\\":11.0,\\\"blocking factor\\\":3,\\\"delay factor\\\":8.0},\\\"nameSub\\\":\\\"Chem Reaction Eng\\\",\\\"id\\\":45,\\\"credits\\\":3,\\\"nameCanonical\\\":\\\"\\\"},{\\\"curriculum_requisites\\\":[{\\\"source_id\\\":43,\\\"target_id\\\":46,\\\"type\\\":\\\"CurriculumPrerequisite\\\"},{\\\"source_id\\\":45,\\\"target_id\\\":46,\\\"type\\\":\\\"CurriculumStrictCorequisite\\\"},{\\\"source_id\\\":38,\\\"target_id\\\":46,\\\"type\\\":\\\"CurriculumPrerequisite\\\"}],\\\"name\\\":\\\"CHEE 442\\\",\\\"metrics\\\":{\\\"centrality\\\":219,\\\"complexity\\\":9.0,\\\"blocking factor\\\":1,\\\"delay factor\\\":8.0},\\\"nameSub\\\":\\\"Chem Eng Design Principles\\\",\\\"id\\\":46,\\\"credits\\\":3,\\\"nameCanonical\\\":\\\"\\\"}],\\\"id\\\":9},{\\\"name\\\":\\\"Term 10\\\",\\\"curriculum_items\\\":[{\\\"curriculum_requisites\\\":[{\\\"source_id\\\":45,\\\"target_id\\\":47,\\\"type\\\":\\\"CurriculumCorequisite\\\"},{\\\"source_id\\\":44,\\\"target_id\\\":47,\\\"type\\\":\\\"CurriculumPrerequisite\\\"}],\\\"name\\\":\\\"CHEE 401A\\\",\\\"metrics\\\":{\\\"centrality\\\":0,\\\"complexity\\\":10.0,\\\"blocking factor\\\":0,\\\"delay factor\\\":10.0},\\\"nameSub\\\":\\\"Chem and Enviorn Eng Lab I\\\",\\\"id\\\":47,\\\"credits\\\":1,\\\"nameCanonical\\\":\\\"\\\"},{\\\"curriculum_requisites\\\":[{\\\"source_id\\\":49,\\\"target_id\\\":50,\\\"type\\\":\\\"CurriculumCorequisite\\\"},{\\\"source_id\\\":44,\\\"target_id\\\":50,\\\"type\\\":\\\"CurriculumPrerequisite\\\"},{\\\"source_id\\\":40,\\\"target_id\\\":50,\\\"type\\\":\\\"CurriculumPrerequisite\\\"}],\\\"name\\\":\\\"CHEE 401B\\\",\\\"metrics\\\":{\\\"centrality\\\":0,\\\"complexity\\\":10.0,\\\"blocking factor\\\":0,\\\"delay factor\\\":10.0},\\\"nameSub\\\":\\\"Process Dynamics and Control Lab\\\",\\\"id\\\":50,\\\"credits\\\":1,\\\"nameCanonical\\\":\\\"\\\"},{\\\"curriculum_requisites\\\":[{\\\"source_id\\\":46,\\\"target_id\\\":51,\\\"type\\\":\\\"CurriculumPrerequisite\\\"}],\\\"name\\\":\\\"CHEE 443\\\",\\\"metrics\\\":{\\\"centrality\\\":0,\\\"complexity\\\":8.0,\\\"blocking factor\\\":0,\\\"delay factor\\\":8.0},\\\"nameSub\\\":\\\"Chem Eng Plant Design\\\",\\\"id\\\":51,\\\"credits\\\":3,\\\"nameCanonical\\\":\\\"\\\"}],\\\"id\\\":10}],\\\"institution\\\":\\\"University of Arizona\\\"}},\\\"*\\\"); window.removeEventListener(\\\"message\\\",window.messageReceived); window.messageReceived=(function (event){return (event.data.curriculum!==undefined) ? (WebIO.setval({\\\"name\\\":\\\"curriculum-data\\\",\\\"scope\\\":\\\"10651364928336369878\\\",\\\"id\\\":\\\"13286717489969507651\\\",\\\"type\\\":\\\"observable\\\"},event.data.curriculum)) : undefined}); return window.addEventListener(\\\"message\\\",window.messageReceived)})\")), :style => Dict(:padding => \"0\", :height => \"85vh\", :margin => \"0\", :border => \"none\", :width => \"100%\"))), Dict{String, Tuple{Observables.AbstractObservable, Union{Nothing, Bool}}}(\"curriculum-data\" => (Observable{Dict{String, Any}} with 1 listeners. Value:\n",
       "Dict{String, Any}(\"options\" => Dict{String, Any}(\"hideTerms\" => false, \"edit\" => true), \"curriculum\" => Dict{String, Any}(\"name\" => \"Chemical Engineering\", \"dp_name\" => \"2019-20 Pima to UA Transfer Degree Plan\", \"curriculum_terms\" => Dict{String, Any}[Dict(\"name\" => \"Term 1\", \"curriculum_items\" => Dict{String, Any}[Dict(\"curriculum_requisites\" => Dict{String, Any}[], \"name\" => \"MAT 220\", \"metrics\" => Dict{String, Any}(\"centrality\" => 0, \"complexity\" => 36.0, \"blocking factor\" => 26, \"delay factor\" => 10.0), \"nameSub\" => \"Calculus I\", \"id\" => 1, \"credits\" => 5, \"nameCanonical\" => \"Calculus I\"), Dict(\"curriculum_requisites\" => Dict{String, Any}[Dict(\"source_id\" => 3, \"target_id\" => 2, \"type\" => \"CurriculumStrictCorequisite\")], \"name\" => \"CHM 151IN\", \"metrics\" => Dict{String, Any}(\"centrality\" => 291, \"complexity\" => 30.0, \"blocking factor\" => 20, \"delay factor\" => 10.0), \"nameSub\" => \"Gen Chemistry I\", \"id\" => 2, \"credits\" => 4, \"nameCanonical\" => \"General Chemsitry I\"), Dict(\"curriculum_requisites\" => Dict{String, Any}[], \"name\" => \"CHM 151RC\", \"metrics\" => Dict{String, Any}(\"centrality\" => 0, \"complexity\" => 31.0, \"blocking factor\" => 21, \"delay factor\" => 10.0), \"nameSub\" => \"Gen Chemistry I Recitation\", \"id\" => 3, \"credits\" => 1, \"nameCanonical\" => \"\"), Dict(\"curriculum_requisites\" => Dict{String, Any}[], \"name\" => \"WRT 101\", \"metrics\" => Dict{String, Any}(\"centrality\" => 0, \"complexity\" => 3.0, \"blocking factor\" => 1, \"delay factor\" => 2.0), \"nameSub\" => \"English Composition I\", \"id\" => 4, \"credits\" => 3, \"nameCanonical\" => \"English Composition I\"), Dict(\"curriculum_requisites\" => Dict{String, Any}[Dict(\"source_id\" => 1, \"target_id\" => 5, \"type\" => \"CurriculumCorequisite\")], \"name\" => \"ENG 102IN\", \"metrics\" => Dict{String, Any}(\"centrality\" => 203, \"complexity\" => 24.0, \"blocking factor\" => 15, \"delay factor\" => 9.0), \"nameSub\" => \"Problem-Solving and Engineering Design\", \"id\" => 5, \"credits\" => 3, \"nameCanonical\" => \"Intro to Engineering\"), Dict(\"curriculum_requisites\" => Dict{String, Any}[], \"name\" => \" \", \"metrics\" => Dict{String, Any}(\"centrality\" => 0, \"complexity\" => 1.0, \"blocking factor\" => 0, \"delay factor\" => 1.0), \"nameSub\" => \"AGEC-S Course\", \"id\" => 6, \"credits\" => 3, \"nameCanonical\" => \"\")], \"id\" => 1), Dict(\"name\" => \"Term 2\", \"curriculum_items\" => Dict{String, Any}[Dict(\"curriculum_requisites\" => Dict{String, Any}[Dict(\"source_id\" => 1, \"target_id\" => 7, \"type\" => \"CurriculumPrerequisite\")], \"name\" => \"MAT 231\", \"metrics\" => Dict{String, Any}(\"centrality\" => 182, \"complexity\" => 24.0, \"blocking factor\" => 16, \"delay factor\" => 8.0), \"nameSub\" => \"Calculus II\", \"id\" => 7, \"credits\" => 4, \"nameCanonical\" => \"Calculus II\"), Dict(\"curriculum_requisites\" => Dict{String, Any}[Dict(\"source_id\" => 2, \"target_id\" => 8, \"type\" => \"CurriculumPrerequisite\"), Dict(\"source_id\" => 9, \"target_id\" => 8, \"type\" => \"CurriculumStrictCorequisite\")], \"name\" => \"CHM 152IN\", \"metrics\" => Dict{String, Any}(\"centrality\" => 443, \"complexity\" => 27.0, \"blocking factor\" => 17, \"delay factor\" => 10.0), \"nameSub\" => \"Gen Chemistry II\", \"id\" => 8, \"credits\" => 4, \"nameCanonical\" => \"General Chemsitry II\"), Dict(\"curriculum_requisites\" => Dict{String, Any}[], \"name\" => \"CHM 152RC\", \"metrics\" => Dict{String, Any}(\"centrality\" => 0, \"complexity\" => 27.0, \"blocking factor\" => 18, \"delay factor\" => 9.0), \"nameSub\" => \"Gen Chemistry II Recitation\", \"id\" => 9, \"credits\" => 1, \"nameCanonical\" => \"\"), Dict(\"curriculum_requisites\" => Dict{String, Any}[Dict(\"source_id\" => 11, \"target_id\" => 10, \"type\" => \"CurriculumStrictCorequisite\"), Dict(\"source_id\" => 1, \"target_id\" => 10, \"type\" => \"CurriculumPrerequisite\")], \"name\" => \"PHY 210IN\", \"metrics\" => Dict{String, Any}(\"centrality\" => 272, \"complexity\" => 22.0, \"blocking factor\" => 14, \"delay factor\" => 8.0), \"nameSub\" => \"Intro Mechanics\", \"id\" => 10, \"credits\" => 4, \"nameCanonical\" => \"\"), Dict(\"curriculum_requisites\" => Dict{String, Any}[], \"name\" => \"PHY 210RC\", \"metrics\" => Dict{String, Any}(\"centrality\" => 0, \"complexity\" => 23.0, \"blocking factor\" => 15, \"delay factor\" => 8.0), \"nameSub\" => \"Intro Mechanics Recitation\", \"id\" => 11, \"credits\" => 1, \"nameCanonical\" => \"\"), Dict(\"curriculum_requisites\" => Dict{String, Any}[Dict(\"source_id\" => 4, \"target_id\" => 12, \"type\" => \"CurriculumPrerequisite\")], \"name\" => \"WRT 102\", \"metrics\" => Dict{String, Any}(\"centrality\" => 0, \"complexity\" => 2.0, \"blocking factor\" => 0, \"delay factor\" => 2.0), \"nameSub\" => \" English Composition II\", \"id\" => 12, \"credits\" => 3, \"nameCanonical\" => \" English Composition\"), Dict(\"curriculum_requisites\" => Dict{String, Any}[Dict(\"source_id\" => 1, \"target_id\" => 13, \"type\" => \"CurriculumCorequisite\")], \"name\" => \"ENG 105IN\", \"metrics\" => Dict{String, Any}(\"centrality\" => 503, \"complexity\" => 27.0, \"blocking factor\" => 17, \"delay factor\" => 10.0), \"nameSub\" => \"Intro to MATLAB I\", \"id\" => 13, \"credits\" => 1, \"nameCanonical\" => \"\")], \"id\" => 2), Dict(\"name\" => \"Term 3\", \"curriculum_items\" => Dict{String, Any}[Dict(\"curriculum_requisites\" => Dict{String, Any}[], \"name\" => \" \", \"metrics\" => Dict{String, Any}(\"centrality\" => 0, \"complexity\" => 1.0, \"blocking factor\" => 0, \"delay factor\" => 1.0), \"nameSub\" => \"AGEC-S Course\", \"id\" => 14, \"credits\" => 3, \"nameCanonical\" => \"\"), Dict(\"curriculum_requisites\" => Dict{String, Any}[], \"name\" => \" \", \"metrics\" => Dict{String, Any}(\"centrality\" => 0, \"complexity\" => 1.0, \"blocking factor\" => 0, \"delay factor\" => 1.0), \"nameSub\" => \"AGEC-S Course\", \"id\" => 15, \"credits\" => 3, \"nameCanonical\" => \"\"), Dict(\"curriculum_requisites\" => Dict{String, Any}[Dict(\"source_id\" => 7, \"target_id\" => 16, \"type\" => \"CurriculumPrerequisite\")], \"name\" => \"MAT 241\", \"metrics\" => Dict{String, Any}(\"centrality\" => 0, \"complexity\" => 3.0, \"blocking factor\" => 0, \"delay factor\" => 3.0), \"nameSub\" => \"Calculus III\", \"id\" => 16, \"credits\" => 4, \"nameCanonical\" => \"Calculus III\"), Dict(\"curriculum_requisites\" => Dict{String, Any}[Dict(\"source_id\" => 18, \"target_id\" => 17, \"type\" => \"CurriculumStrictCorequisite\"), Dict(\"source_id\" => 8, \"target_id\" => 17, \"type\" => \"CurriculumPrerequisite\")], \"name\" => \" 235IN\", \"metrics\" => Dict{String, Any}(\"centrality\" => 12, \"complexity\" => 6.0, \"blocking factor\" => 1, \"delay factor\" => 5.0), \"nameSub\" => \"General Organic Chemistry I\", \"id\" => 17, \"credits\" => 4, \"nameCanonical\" => \"Organic Chemistry I\"), Dict(\"curriculum_requisites\" => Dict{String, Any}[], \"name\" => \"CHM  235RC\", \"metrics\" => Dict{String, Any}(\"centrality\" => 0, \"complexity\" => 5.0, \"blocking factor\" => 2, \"delay factor\" => 3.0), \"nameSub\" => \"General Organic Chemistry I Recitation\", \"id\" => 18, \"credits\" => 1, \"nameCanonical\" => \"\"), Dict(\"curriculum_requisites\" => Dict{String, Any}[], \"name\" => \" \", \"metrics\" => Dict{String, Any}(\"centrality\" => 0, \"complexity\" => 15.0, \"blocking factor\" => 8, \"delay factor\" => 7.0), \"nameSub\" => \"AGEC-S Course\", \"id\" => 19, \"credits\" => 3, \"nameCanonical\" => \"\")], \"id\" => 3), Dict(\"name\" => \"Term 4\", \"curriculum_items\" => Dict{String, Any}[Dict(\"curriculum_requisites\" => Dict{String, Any}[], \"name\" => \" \", \"metrics\" => Dict{String, Any}(\"centrality\" => 0, \"complexity\" => 1.0, \"blocking factor\" => 0, \"delay factor\" => 1.0), \"nameSub\" => \"AGEC-S Course\", \"id\" => 20, \"credits\" => 3, \"nameCanonical\" => \"\"), Dict(\"curriculum_requisites\" => Dict{String, Any}[], \"name\" => \" \", \"metrics\" => Dict{String, Any}(\"centrality\" => 0, \"complexity\" => 1.0, \"blocking factor\" => 0, \"delay factor\" => 1.0), \"nameSub\" => \"AGEC-S Course\", \"id\" => 21, \"credits\" => 3, \"nameCanonical\" => \"\"), Dict(\"curriculum_requisites\" => Dict{String, Any}[Dict(\"source_id\" => 7, \"target_id\" => 22, \"type\" => \"CurriculumPrerequisite\")], \"name\" => \"MAT 262\", \"metrics\" => Dict{String, Any}(\"centrality\" => 60, \"complexity\" => 15.0, \"blocking factor\" => 7, \"delay factor\" => 8.0), \"nameSub\" => \"Differential Equations\", \"id\" => 22, \"credits\" => 3, \"nameCanonical\" => \"Differential Equations\"), Dict(\"curriculum_requisites\" => Dict{String, Any}[Dict(\"source_id\" => 7, \"target_id\" => 23, \"type\" => \"CurriculumPrerequisite\"), Dict(\"source_id\" => 10, \"target_id\" => 23, \"type\" => \"CurriculumPrerequisite\"), Dict(\"source_id\" => 24, \"target_id\" => 23, \"type\" => \"CurriculumStrictCorequisite\")], \"name\" => \"PHY 216IN\", \"metrics\" => Dict{String, Any}(\"centrality\" => 247, \"complexity\" => 18.0, \"blocking factor\" => 10, \"delay factor\" => 8.0), \"nameSub\" => \"Intro Electricity & Magnetism\", \"id\" => 23, \"credits\" => 4, \"nameCanonical\" => \"\"), Dict(\"curriculum_requisites\" => Dict{String, Any}[], \"name\" => \"PHY 216RC\", \"metrics\" => Dict{String, Any}(\"centrality\" => 0, \"complexity\" => 18.0, \"blocking factor\" => 11, \"delay factor\" => 7.0), \"nameSub\" => \"Intro Electricity & Magnetism\", \"id\" => 24, \"credits\" => 1, \"nameCanonical\" => \"\"), Dict(\"curriculum_requisites\" => Dict{String, Any}[Dict(\"source_id\" => 26, \"target_id\" => 25, \"type\" => \"CurriculumStrictCorequisite\"), Dict(\"source_id\" => 17, \"target_id\" => 25, \"type\" => \"CurriculumPrerequisite\")], \"name\" => \"CHM 236IN\", \"metrics\" => Dict{String, Any}(\"centrality\" => 0, \"complexity\" => 5.0, \"blocking factor\" => 0, \"delay factor\" => 5.0), \"nameSub\" => \"General Organic Chemistry II\", \"id\" => 25, \"credits\" => 4, \"nameCanonical\" => \"Organic Chemistry II\"), Dict(\"curriculum_requisites\" => Dict{String, Any}[], \"name\" => \"CHM  236RC\", \"metrics\" => Dict{String, Any}(\"centrality\" => 0, \"complexity\" => 3.0, \"blocking factor\" => 1, \"delay factor\" => 2.0), \"nameSub\" => \"General Organic Chemistry II Recitation\", \"id\" => 26, \"credits\" => 1, \"nameCanonical\" => \"\"), Dict(\"curriculum_requisites\" => Dict{String, Any}[Dict(\"source_id\" => 13, \"target_id\" => 27, \"type\" => \"CurriculumPrerequisite\")], \"name\" => \"ENG 205IN\", \"metrics\" => Dict{String, Any}(\"centrality\" => 231, \"complexity\" => 25.0, \"blocking factor\" => 15, \"delay factor\" => 10.0), \"nameSub\" => \"Intro to MATLAB II\", \"id\" => 27, \"credits\" => 1, \"nameCanonical\" => \"\")], \"id\" => 4), Dict(\"name\" => \"Term 5\", \"curriculum_items\" => Dict{String, Any}[Dict(\"curriculum_requisites\" => Dict{String, Any}[Dict(\"source_id\" => 5, \"target_id\" => 28, \"type\" => \"CurriculumPrerequisite\"), Dict(\"source_id\" => 13, \"target_id\" => 28, \"type\" => \"CurriculumPrerequisite\"), Dict(\"source_id\" => 27, \"target_id\" => 28, \"type\" => \"CurriculumCorequisite\"), Dict(\"source_id\" => 8, \"target_id\" => 28, \"type\" => \"CurriculumPrerequisite\"), Dict(\"source_id\" => 1, \"target_id\" => 28, \"type\" => \"CurriculumPrerequisite\")], \"name\" => \"CHEE 201\", \"metrics\" => Dict{String, Any}(\"centrality\" => 1246, \"complexity\" => 24.0, \"blocking factor\" => 14, \"delay factor\" => 10.0), \"nameSub\" => \"Elements of Chem and Envirn Eng I\", \"id\" => 28, \"credits\" => 3, \"nameCanonical\" => \"\"), Dict(\"curriculum_requisites\" => Dict{String, Any}[Dict(\"source_id\" => 13, \"target_id\" => 29, \"type\" => \"CurriculumCorequisite\"), Dict(\"source_id\" => 1, \"target_id\" => 29, \"type\" => \"CurriculumPrerequisite\")], \"name\" => \" 201L\", \"metrics\" => Dict{String, Any}(\"centrality\" => 129, \"complexity\" => 17.0, \"blocking factor\" => 8, \"delay factor\" => 9.0), \"nameSub\" => \"Elements of Chem and Envirn Eng I Lab\", \"id\" => 29, \"credits\" => 1, \"nameCanonical\" => \"\"), Dict(\"curriculum_requisites\" => Dict{String, Any}[Dict(\"source_id\" => 7, \"target_id\" => 30, \"type\" => \"CurriculumPrerequisite\"), Dict(\"source_id\" => 2, \"target_id\" => 30, \"type\" => \"CurriculumPrerequisite\"), Dict(\"source_id\" => 23, \"target_id\" => 30, \"type\" => \"CurriculumPrerequisite\")], \"name\" => \"CHEM 480A\", \"metrics\" => Dict{String, Any}(\"centrality\" => 357, \"complexity\" => 17.0, \"blocking factor\" => 9, \"delay factor\" => 8.0), \"nameSub\" => \"Physical Chem\", \"id\" => 30, \"credits\" => 3, \"nameCanonical\" => \"\"), Dict(\"curriculum_requisites\" => Dict{String, Any}[], \"name\" => \" \", \"metrics\" => Dict{String, Any}(\"centrality\" => 0, \"complexity\" => 1.0, \"blocking factor\" => 0, \"delay factor\" => 1.0), \"nameSub\" => \"Engineering Elective\", \"id\" => 31, \"credits\" => 3, \"nameCanonical\" => \"\"), Dict(\"curriculum_requisites\" => Dict{String, Any}[], \"name\" => \" \", \"metrics\" => Dict{String, Any}(\"centrality\" => 0, \"complexity\" => 1.0, \"blocking factor\" => 0, \"delay factor\" => 1.0), \"nameSub\" => \"Engineering Elective\", \"id\" => 32, \"credits\" => 3, \"nameCanonical\" => \"\")], \"id\" => 5), Dict(\"name\" => \"Term 6\", \"curriculum_items\" => Dict{String, Any}[Dict(\"curriculum_requisites\" => Dict{String, Any}[], \"name\" => \" \", \"metrics\" => Dict{String, Any}(\"centrality\" => 0, \"complexity\" => 1.0, \"blocking factor\" => 0, \"delay factor\" => 1.0), \"nameSub\" => \"Technical Elective\", \"id\" => 33, \"credits\" => 3, \"nameCanonical\" => \"\"), Dict(\"curriculum_requisites\" => Dict{String, Any}[Dict(\"source_id\" => 29, \"target_id\" => 34, \"type\" => \"CurriculumPrerequisite\"), Dict(\"source_id\" => 28, \"target_id\" => 34, \"type\" => \"CurriculumPrerequisite\"), Dict(\"source_id\" => 19, \"target_id\" => 34, \"type\" => \"CurriculumCorequisite\")], \"name\" => \"CHEE 202\", \"metrics\" => Dict{String, Any}(\"centrality\" => 603, \"complexity\" => 17.0, \"blocking factor\" => 7, \"delay factor\" => 10.0), \"nameSub\" => \"Elements of Chem Eng II\", \"id\" => 34, \"credits\" => 4, \"nameCanonical\" => \"\"), Dict(\"curriculum_requisites\" => Dict{String, Any}[Dict(\"source_id\" => 10, \"target_id\" => 35, \"type\" => \"CurriculumPrerequisite\"), Dict(\"source_id\" => 28, \"target_id\" => 35, \"type\" => \"CurriculumPrerequisite\")], \"name\" => \"CHEE 203\", \"metrics\" => Dict{String, Any}(\"centrality\" => 653, \"complexity\" => 18.0, \"blocking factor\" => 8, \"delay factor\" => 10.0), \"nameSub\" => \"Chem Eng Heat Xfer & Fluid Flow\", \"id\" => 35, \"credits\" => 3, \"nameCanonical\" => \"\"), Dict(\"curriculum_requisites\" => Dict{String, Any}[], \"name\" => \" \", \"metrics\" => Dict{String, Any}(\"centrality\" => 0, \"complexity\" => 1.0, \"blocking factor\" => 0, \"delay factor\" => 1.0), \"nameSub\" => \"Engineering Elective\", \"id\" => 36, \"credits\" => 3, \"nameCanonical\" => \"\"), Dict(\"curriculum_requisites\" => Dict{String, Any}[], \"name\" => \" \", \"metrics\" => Dict{String, Any}(\"centrality\" => 0, \"complexity\" => 1.0, \"blocking factor\" => 0, \"delay factor\" => 1.0), \"nameSub\" => \"Technical Elective\", \"id\" => 37, \"credits\" => 3, \"nameCanonical\" => \"\")], \"id\" => 6), Dict(\"name\" => \"Term 7\", \"curriculum_items\" => Dict{String, Any}[Dict(\"curriculum_requisites\" => Dict{String, Any}[Dict(\"source_id\" => 35, \"target_id\" => 38, \"type\" => \"CurriculumPrerequisite\")], \"name\" => \"CHEE 303\", \"metrics\" => Dict{String, Any}(\"centrality\" => 496, \"complexity\" => 17.0, \"blocking factor\" => 7, \"delay factor\" => 10.0), \"nameSub\" => \"Chem Eng Mass Xfer\", \"id\" => 38, \"credits\" => 3, \"nameCanonical\" => \"\"), Dict(\"curriculum_requisites\" => Dict{String, Any}[Dict(\"source_id\" => 22, \"target_id\" => 39, \"type\" => \"CurriculumPrerequisite\"), Dict(\"source_id\" => 34, \"target_id\" => 39, \"type\" => \"CurriculumPrerequisite\")], \"name\" => \"CHEE 402\", \"metrics\" => Dict{String, Any}(\"centrality\" => 472, \"complexity\" => 16.0, \"blocking factor\" => 6, \"delay factor\" => 10.0), \"nameSub\" => \"Chem Eng Modeling\", \"id\" => 39, \"credits\" => 3, \"nameCanonical\" => \"\"), Dict(\"curriculum_requisites\" => Dict{String, Any}[], \"name\" => \"CHEE 489\", \"metrics\" => Dict{String, Any}(\"centrality\" => 0, \"complexity\" => 1.0, \"blocking factor\" => 0, \"delay factor\" => 1.0), \"nameSub\" => \"Trends in Nanomedicine Eng\", \"id\" => 41, \"credits\" => 3, \"nameCanonical\" => \"\")], \"id\" => 7), Dict(\"name\" => \"Term 8\", \"curriculum_items\" => Dict{String, Any}[Dict(\"curriculum_requisites\" => Dict{String, Any}[Dict(\"source_id\" => 22, \"target_id\" => 40, \"type\" => \"CurriculumPrerequisite\"), Dict(\"source_id\" => 34, \"target_id\" => 40, \"type\" => \"CurriculumPrerequisite\"), Dict(\"source_id\" => 35, \"target_id\" => 40, \"type\" => \"CurriculumPrerequisite\"), Dict(\"source_id\" => 43, \"target_id\" => 40, \"type\" => \"CurriculumCorequisite\"), Dict(\"source_id\" => 42, \"target_id\" => 40, \"type\" => \"CurriculumCorequisite\")], \"name\" => \"CHEE 301A\", \"metrics\" => Dict{String, Any}(\"centrality\" => 1056, \"complexity\" => 13.0, \"blocking factor\" => 3, \"delay factor\" => 10.0), \"nameSub\" => \"Chem Eng Lab I\", \"id\" => 40, \"credits\" => 1, \"nameCanonical\" => \"\"), Dict(\"curriculum_requisites\" => Dict{String, Any}[Dict(\"source_id\" => 39, \"target_id\" => 42, \"type\" => \"CurriculumPrerequisite\"), Dict(\"source_id\" => 38, \"target_id\" => 42, \"type\" => \"CurriculumPrerequisite\")], \"name\" => \"CHEE 305\", \"metrics\" => Dict{String, Any}(\"centrality\" => 736, \"complexity\" => 14.0, \"blocking factor\" => 4, \"delay factor\" => 10.0), \"nameSub\" => \"Chem Eng Transport Phenom\", \"id\" => 42, \"credits\" => 3, \"nameCanonical\" => \"\"), Dict(\"curriculum_requisites\" => Dict{String, Any}[Dict(\"source_id\" => 30, \"target_id\" => 43, \"type\" => \"CurriculumPrerequisite\"), Dict(\"source_id\" => 28, \"target_id\" => 43, \"type\" => \"CurriculumPrerequisite\")], \"name\" => \"CHEE 326\", \"metrics\" => Dict{String, Any}(\"centrality\" => 644, \"complexity\" => 15.0, \"blocking factor\" => 7, \"delay factor\" => 8.0), \"nameSub\" => \"Chem & Phys Equilibrium\", \"id\" => 43, \"credits\" => 3, \"nameCanonical\" => \"\"), Dict(\"curriculum_requisites\" => Dict{String, Any}[Dict(\"source_id\" => 30, \"target_id\" => 48, \"type\" => \"CurriculumPrerequisite\")], \"name\" => \"CHEM 480B\", \"metrics\" => Dict{String, Any}(\"centrality\" => 0, \"complexity\" => 5.0, \"blocking factor\" => 0, \"delay factor\" => 5.0), \"nameSub\" => \"Physical Chem\", \"id\" => 48, \"credits\" => 3, \"nameCanonical\" => \"\"), Dict(\"curriculum_requisites\" => Dict{String, Any}[Dict(\"source_id\" => 39, \"target_id\" => 49, \"type\" => \"CurriculumPrerequisite\")], \"name\" => \"CHEE 413\", \"metrics\" => Dict{String, Any}(\"centrality\" => 67, \"complexity\" => 9.0, \"blocking factor\" => 1, \"delay factor\" => 8.0), \"nameSub\" => \"Process Control and Simulation\", \"id\" => 49, \"credits\" => 3, \"nameCanonical\" => \"\")], \"id\" => 8), Dict(\"name\" => \"Term 9\", \"curriculum_items\" => Dict{String, Any}[Dict(\"curriculum_requisites\" => Dict{String, Any}[Dict(\"source_id\" => 43, \"target_id\" => 44, \"type\" => \"CurriculumStrictCorequisite\"), Dict(\"source_id\" => 38, \"target_id\" => 44, \"type\" => \"CurriculumPrerequisite\"), Dict(\"source_id\" => 42, \"target_id\" => 44, \"type\" => \"CurriculumStrictCorequisite\"), Dict(\"source_id\" => 40, \"target_id\" => 44, \"type\" => \"CurriculumPrerequisite\")], \"name\" => \"CHEE 301B\", \"metrics\" => Dict{String, Any}(\"centrality\" => 1278, \"complexity\" => 12.0, \"blocking factor\" => 2, \"delay factor\" => 10.0), \"nameSub\" => \"Chem Eng Lab II\", \"id\" => 44, \"credits\" => 1, \"nameCanonical\" => \"\"), Dict(\"curriculum_requisites\" => Dict{String, Any}[Dict(\"source_id\" => 43, \"target_id\" => 45, \"type\" => \"CurriculumPrerequisite\")], \"name\" => \"CHEE 420\", \"metrics\" => Dict{String, Any}(\"centrality\" => 164, \"complexity\" => 11.0, \"blocking factor\" => 3, \"delay factor\" => 8.0), \"nameSub\" => \"Chem Reaction Eng\", \"id\" => 45, \"credits\" => 3, \"nameCanonical\" => \"\"), Dict(\"curriculum_requisites\" => Dict{String, Any}[Dict(\"source_id\" => 43, \"target_id\" => 46, \"type\" => \"CurriculumPrerequisite\"), Dict(\"source_id\" => 45, \"target_id\" => 46, \"type\" => \"CurriculumStrictCorequisite\"), Dict(\"source_id\" => 38, \"target_id\" => 46, \"type\" => \"CurriculumPrerequisite\")], \"name\" => \"CHEE 442\", \"metrics\" => Dict{String, Any}(\"centrality\" => 219, \"complexity\" => 9.0, \"blocking factor\" => 1, \"delay factor\" => 8.0), \"nameSub\" => \"Chem Eng Design Principles\", \"id\" => 46, \"credits\" => 3, \"nameCanonical\" => \"\")], \"id\" => 9), Dict(\"name\" => \"Term 10\", \"curriculum_items\" => Dict{String, Any}[Dict(\"curriculum_requisites\" => Dict{String, Any}[Dict(\"source_id\" => 45, \"target_id\" => 47, \"type\" => \"CurriculumCorequisite\"), Dict(\"source_id\" => 44, \"target_id\" => 47, \"type\" => \"CurriculumPrerequisite\")], \"name\" => \"CHEE 401A\", \"metrics\" => Dict{String, Any}(\"centrality\" => 0, \"complexity\" => 10.0, \"blocking factor\" => 0, \"delay factor\" => 10.0), \"nameSub\" => \"Chem and Enviorn Eng Lab I\", \"id\" => 47, \"credits\" => 1, \"nameCanonical\" => \"\"), Dict(\"curriculum_requisites\" => Dict{String, Any}[Dict(\"source_id\" => 49, \"target_id\" => 50, \"type\" => \"CurriculumCorequisite\"), Dict(\"source_id\" => 44, \"target_id\" => 50, \"type\" => \"CurriculumPrerequisite\"), Dict(\"source_id\" => 40, \"target_id\" => 50, \"type\" => \"CurriculumPrerequisite\")], \"name\" => \"CHEE 401B\", \"metrics\" => Dict{String, Any}(\"centrality\" => 0, \"complexity\" => 10.0, \"blocking factor\" => 0, \"delay factor\" => 10.0), \"nameSub\" => \"Process Dynamics and Control Lab\", \"id\" => 50, \"credits\" => 1, \"nameCanonical\" => \"\"), Dict(\"curriculum_requisites\" => Dict{String, Any}[Dict(\"source_id\" => 46, \"target_id\" => 51, \"type\" => \"CurriculumPrerequisite\")], \"name\" => \"CHEE 443\", \"metrics\" => Dict{String, Any}(\"centrality\" => 0, \"complexity\" => 8.0, \"blocking factor\" => 0, \"delay factor\" => 8.0), \"nameSub\" => \"Chem Eng Plant Design\", \"id\" => 51, \"credits\" => 3, \"nameCanonical\" => \"\")], \"id\" => 10)], \"institution\" => \"University of Arizona\")), nothing)), Set{String}(), nothing, WebIO.Asset[], Dict{Any, Any}(), WebIO.ConnectionPool(Channel{Any}(32), Set{WebIO.AbstractConnection}(), Condition(Base.InvasiveLinkedList{Task}(Task (runnable) @0x000000016c5e9aa0, Task (runnable) @0x000000016c5e9aa0), Base.AlwaysLockedST(1))), WebIO.JSString[])"
      ]
     },
     "execution_count": 5,
     "metadata": {
      "application/vnd.webio.node+json": {
       "kernelId": "3d4fac8b-cc24-4f67-b803-ef88e844262e"
      }
     },
     "output_type": "execute_result"
    }
   ],
   "source": [
    "ChemE_xfer = read_csv(\"./programs/Pima-UArizona-ChemE.csv\");\n",
    "visualize(ChemE_xfer, notebook=true, edit=true, scale=0.85)"
   ]
  },
  {
   "cell_type": "code",
   "execution_count": 6,
   "metadata": {},
   "outputs": [
    {
     "data": {
      "text/plain": [
       "true"
      ]
     },
     "execution_count": 6,
     "metadata": {},
     "output_type": "execute_result"
    }
   ],
   "source": [
    "isvalid_curriculum(ChemE_xfer.curriculum)"
   ]
  },
  {
   "cell_type": "code",
   "execution_count": 7,
   "metadata": {},
   "outputs": [
    {
     "data": {
      "text/plain": [
       "true"
      ]
     },
     "execution_count": 7,
     "metadata": {},
     "output_type": "execute_result"
    }
   ],
   "source": [
    "errors = IOBuffer()\n",
    "isvalid_degree_plan(ChemE_xfer, errors)"
   ]
  },
  {
   "cell_type": "code",
   "execution_count": 8,
   "metadata": {},
   "outputs": [
    {
     "name": "stdout",
     "output_type": "stream",
     "text": [
      "\n",
      "University of Arizona \n",
      "Curriculum: Chemical Engineering\n",
      "  credit hours = 138\n",
      "  number of courses = 51\n",
      "  Blocking Factor --\n",
      "    entire curriculum = 315\n",
      "    max. value = 26, for course(s): MAT 220 - Calculus I\n",
      "  Centrality --\n",
      "    entire curriculum = 10564\n",
      "    max. value = 1278, for course(s): CHEE 301B - Chem Eng Lab II\n",
      "  Delay Factor --\n",
      "    entire curriculum = 327.0\n",
      "    max. value = 10.0, for course(s): MAT 220 - Calculus I, CHM 151IN - Gen Chemistry I, CHM 151RC - Gen Chemistry I Recitation, CHM 152IN - Gen Chemistry II, ENG 105IN - Intro to MATLAB I, ENG 205IN - Intro to MATLAB II, CHEE 201 - Elements of Chem and Envirn Eng I, CHEE 202 - Elements of Chem Eng II, CHEE 203 - Chem Eng Heat Xfer & Fluid Flow, CHEE 303 - Chem Eng Mass Xfer, CHEE 402 - Chem Eng Modeling, CHEE 301A - Chem Eng Lab I, CHEE 305 - Chem Eng Transport Phenom, CHEE 301B - Chem Eng Lab II, CHEE 401A - Chem and Enviorn Eng Lab I, CHEE 401B - Process Dynamics and Control Lab\n",
      "  Complexity --\n",
      "    entire curriculum = 642.0\n",
      "    max. value = 36.0, for course(s): MAT 220 - Calculus I\n",
      "  Longest Path(s) --\n",
      "    length = 10, number of paths = 8\n",
      "    path(s):\n",
      "    path 1 = CHM 151RC - Gen Chemistry I Recitation -> CHM 151IN - Gen Chemistry I -> CHM 152IN - Gen Chemistry II -> CHEE 201 - Elements of Chem and Envirn Eng I -> CHEE 203 - Chem Eng Heat Xfer & Fluid Flow -> CHEE 303 - Chem Eng Mass Xfer -> CHEE 305 - Chem Eng Transport Phenom -> CHEE 301A - Chem Eng Lab I -> CHEE 301B - Chem Eng Lab II -> CHEE 401A - Chem and Enviorn Eng Lab I\n",
      "    path 2 = MAT 220 - Calculus I -> ENG 105IN - Intro to MATLAB I -> ENG 205IN - Intro to MATLAB II -> CHEE 201 - Elements of Chem and Envirn Eng I -> CHEE 203 - Chem Eng Heat Xfer & Fluid Flow -> CHEE 303 - Chem Eng Mass Xfer -> CHEE 305 - Chem Eng Transport Phenom -> CHEE 301A - Chem Eng Lab I -> CHEE 301B - Chem Eng Lab II -> CHEE 401A - Chem and Enviorn Eng Lab I\n",
      "    path 3 = CHM 151RC - Gen Chemistry I Recitation -> CHM 151IN - Gen Chemistry I -> CHM 152IN - Gen Chemistry II -> CHEE 201 - Elements of Chem and Envirn Eng I -> CHEE 202 - Elements of Chem Eng II -> CHEE 402 - Chem Eng Modeling -> CHEE 305 - Chem Eng Transport Phenom -> CHEE 301A - Chem Eng Lab I -> CHEE 301B - Chem Eng Lab II -> CHEE 401A - Chem and Enviorn Eng Lab I\n",
      "    path 4 = MAT 220 - Calculus I -> ENG 105IN - Intro to MATLAB I -> ENG 205IN - Intro to MATLAB II -> CHEE 201 - Elements of Chem and Envirn Eng I -> CHEE 202 - Elements of Chem Eng II -> CHEE 402 - Chem Eng Modeling -> CHEE 305 - Chem Eng Transport Phenom -> CHEE 301A - Chem Eng Lab I -> CHEE 301B - Chem Eng Lab II -> CHEE 401A - Chem and Enviorn Eng Lab I\n",
      "    path 5 = CHM 151RC - Gen Chemistry I Recitation -> CHM 151IN - Gen Chemistry I -> CHM 152IN - Gen Chemistry II -> CHEE 201 - Elements of Chem and Envirn Eng I -> CHEE 203 - Chem Eng Heat Xfer & Fluid Flow -> CHEE 303 - Chem Eng Mass Xfer -> CHEE 305 - Chem Eng Transport Phenom -> CHEE 301A - Chem Eng Lab I -> CHEE 301B - Chem Eng Lab II -> CHEE 401B - Process Dynamics and Control Lab\n",
      "    path 6 = MAT 220 - Calculus I -> ENG 105IN - Intro to MATLAB I -> ENG 205IN - Intro to MATLAB II -> CHEE 201 - Elements of Chem and Envirn Eng I -> CHEE 203 - Chem Eng Heat Xfer & Fluid Flow -> CHEE 303 - Chem Eng Mass Xfer -> CHEE 305 - Chem Eng Transport Phenom -> CHEE 301A - Chem Eng Lab I -> CHEE 301B - Chem Eng Lab II -> CHEE 401B - Process Dynamics and Control Lab\n",
      "    path 7 = CHM 151RC - Gen Chemistry I Recitation -> CHM 151IN - Gen Chemistry I -> CHM 152IN - Gen Chemistry II -> CHEE 201 - Elements of Chem and Envirn Eng I -> CHEE 202 - Elements of Chem Eng II -> CHEE 402 - Chem Eng Modeling -> CHEE 305 - Chem Eng Transport Phenom -> CHEE 301A - Chem Eng Lab I -> CHEE 301B - Chem Eng Lab II -> CHEE 401B - Process Dynamics and Control Lab\n",
      "    path 8 = MAT 220 - Calculus I -> ENG 105IN - Intro to MATLAB I -> ENG 205IN - Intro to MATLAB II -> CHEE 201 - Elements of Chem and Envirn Eng I -> CHEE 202 - Elements of Chem Eng II -> CHEE 402 - Chem Eng Modeling -> CHEE 305 - Chem Eng Transport Phenom -> CHEE 301A - Chem Eng Lab I -> CHEE 301B - Chem Eng Lab II -> CHEE 401B - Process Dynamics and Control Lab\n",
      "\n"
     ]
    }
   ],
   "source": [
    "ChemE_xfer_curric_metrics = basic_metrics(ChemE_xfer.curriculum)\n",
    "println(String(take!(ChemE_xfer_curric_metrics)))"
   ]
  },
  {
   "cell_type": "code",
   "execution_count": 9,
   "metadata": {},
   "outputs": [
    {
     "name": "stdout",
     "output_type": "stream",
     "text": [
      "\n",
      "Curriculum: Chemical Engineering\n",
      "Degree Plan: 2019-20 Pima to UA Transfer Degree Plan\n",
      "  total credit hours = 138\n",
      "  number of terms = 10\n",
      "  max. credits in a term = 20, in term 4\n",
      "  min. credits in a term = 5, in term 10\n",
      "  avg. credits per term = 13.8, with std. dev. = 5.035871324805669\n",
      "\n"
     ]
    }
   ],
   "source": [
    "ChemE_xfer_dp_metrics = basic_metrics(ChemE_xfer)\n",
    "println(String(take!(ChemE_xfer_dp_metrics)))"
   ]
  },
  {
   "cell_type": "code",
   "execution_count": 10,
   "metadata": {
    "scrolled": false
   },
   "outputs": [
    {
     "data": {
      "application/vnd.webio.node+json": {
       "children": [
        {
         "children": [
          ""
         ],
         "instanceArgs": {
          "namespace": "html",
          "tag": "iframe"
         },
         "nodeType": "DOM",
         "props": {
          "events": {
           "load": "(function (){this.contentWindow.postMessage({\"options\":{\"hideTerms\":false,\"edit\":false},\"curriculum\":{\"name\":\"Pre-Engineering (Chemical Eng. Concentration)\",\"dp_name\":\"2019-20 Pima Pre-Engineering\",\"curriculum_terms\":[{\"name\":\"Term 1\",\"curriculum_items\":[{\"curriculum_requisites\":[],\"name\":\"MAT 220\",\"metrics\":{\"centrality\":0,\"complexity\":11.0,\"blocking factor\":8,\"delay factor\":3.0},\"nameSub\":\"Calculus I\",\"id\":1,\"credits\":5,\"nameCanonical\":\"Calculus I\"},{\"curriculum_requisites\":[{\"source_id\":3,\"target_id\":2,\"type\":\"CurriculumStrictCorequisite\"}],\"name\":\"CHM 151IN\",\"metrics\":{\"centrality\":5,\"complexity\":8.0,\"blocking factor\":3,\"delay factor\":5.0},\"nameSub\":\"Gen Chemistry I\",\"id\":2,\"credits\":4,\"nameCanonical\":\"General Chemsitry I\"},{\"curriculum_requisites\":[],\"name\":\"CHM 151RC\",\"metrics\":{\"centrality\":0,\"complexity\":9.0,\"blocking factor\":4,\"delay factor\":5.0},\"nameSub\":\"Gen Chemistry I Recitation\",\"id\":3,\"credits\":1,\"nameCanonical\":\"\"},{\"curriculum_requisites\":[],\"name\":\"WRT 101\",\"metrics\":{\"centrality\":0,\"complexity\":3.0,\"blocking factor\":1,\"delay factor\":2.0},\"nameSub\":\"English Composition I\",\"id\":4,\"credits\":3,\"nameCanonical\":\"English Composition I\"},{\"curriculum_requisites\":[{\"source_id\":1,\"target_id\":5,\"type\":\"CurriculumCorequisite\"}],\"name\":\"ENG 102IN\",\"metrics\":{\"centrality\":0,\"complexity\":2.0,\"blocking factor\":0,\"delay factor\":2.0},\"nameSub\":\"Problem-Solving and Engineering Design\",\"id\":5,\"credits\":3,\"nameCanonical\":\"Intro to Engineering\"},{\"curriculum_requisites\":[],\"name\":\" \",\"metrics\":{\"centrality\":0,\"complexity\":1.0,\"blocking factor\":0,\"delay factor\":1.0},\"nameSub\":\"AGEC-S Course\",\"id\":6,\"credits\":3,\"nameCanonical\":\"\"}],\"id\":1},{\"name\":\"Term 2\",\"curriculum_items\":[{\"curriculum_requisites\":[{\"source_id\":1,\"target_id\":7,\"type\":\"CurriculumPrerequisite\"}],\"name\":\"MAT 231\",\"metrics\":{\"centrality\":9,\"complexity\":6.0,\"blocking factor\":3,\"delay factor\":3.0},\"nameSub\":\"Calculus II\",\"id\":7,\"credits\":4,\"nameCanonical\":\"Calculus II\"},{\"curriculum_requisites\":[{\"source_id\":2,\"target_id\":8,\"type\":\"CurriculumPrerequisite\"},{\"source_id\":9,\"target_id\":8,\"type\":\"CurriculumStrictCorequisite\"}],\"name\":\"CHM 152IN\",\"metrics\":{\"centrality\":9,\"complexity\":7.0,\"blocking factor\":2,\"delay factor\":5.0},\"nameSub\":\"Gen Chemistry II\",\"id\":8,\"credits\":4,\"nameCanonical\":\"General Chemsitry II\"},{\"curriculum_requisites\":[],\"name\":\"CHM 152RC\",\"metrics\":{\"centrality\":0,\"complexity\":7.0,\"blocking factor\":3,\"delay factor\":4.0},\"nameSub\":\"Gen Chemistry II Recitation\",\"id\":9,\"credits\":1,\"nameCanonical\":\"\"},{\"curriculum_requisites\":[{\"source_id\":11,\"target_id\":10,\"type\":\"CurriculumStrictCorequisite\"},{\"source_id\":1,\"target_id\":10,\"type\":\"CurriculumPrerequisite\"}],\"name\":\"PHY 210IN\",\"metrics\":{\"centrality\":6,\"complexity\":4.0,\"blocking factor\":1,\"delay factor\":3.0},\"nameSub\":\"Intro Mechanics\",\"id\":10,\"credits\":4,\"nameCanonical\":\"\"},{\"curriculum_requisites\":[],\"name\":\"PHY 210RC\",\"metrics\":{\"centrality\":0,\"complexity\":5.0,\"blocking factor\":2,\"delay factor\":3.0},\"nameSub\":\"Intro Mechanics Recitation\",\"id\":11,\"credits\":1,\"nameCanonical\":\"\"},{\"curriculum_requisites\":[{\"source_id\":4,\"target_id\":12,\"type\":\"CurriculumPrerequisite\"}],\"name\":\"WRT 102\",\"metrics\":{\"centrality\":0,\"complexity\":2.0,\"blocking factor\":0,\"delay factor\":2.0},\"nameSub\":\" English Composition II\",\"id\":12,\"credits\":3,\"nameCanonical\":\" English Composition\"},{\"curriculum_requisites\":[{\"source_id\":1,\"target_id\":13,\"type\":\"CurriculumCorequisite\"}],\"name\":\"ENG 105IN\",\"metrics\":{\"centrality\":3,\"complexity\":4.0,\"blocking factor\":1,\"delay factor\":3.0},\"nameSub\":\"Intro to MATLAB I\",\"id\":13,\"credits\":1,\"nameCanonical\":\"\"}],\"id\":2},{\"name\":\"Term 3\",\"curriculum_items\":[{\"curriculum_requisites\":[],\"name\":\" \",\"metrics\":{\"centrality\":0,\"complexity\":1.0,\"blocking factor\":0,\"delay factor\":1.0},\"nameSub\":\"AGEC-S Course\",\"id\":14,\"credits\":3,\"nameCanonical\":\"\"},{\"curriculum_requisites\":[],\"name\":\" \",\"metrics\":{\"centrality\":0,\"complexity\":1.0,\"blocking factor\":0,\"delay factor\":1.0},\"nameSub\":\"AGEC-S Course\",\"id\":15,\"credits\":3,\"nameCanonical\":\"\"},{\"curriculum_requisites\":[{\"source_id\":7,\"target_id\":16,\"type\":\"CurriculumPrerequisite\"}],\"name\":\"MAT 241\",\"metrics\":{\"centrality\":0,\"complexity\":3.0,\"blocking factor\":0,\"delay factor\":3.0},\"nameSub\":\"Calculus III\",\"id\":16,\"credits\":4,\"nameCanonical\":\"Calculus III\"},{\"curriculum_requisites\":[{\"source_id\":18,\"target_id\":17,\"type\":\"CurriculumStrictCorequisite\"},{\"source_id\":8,\"target_id\":17,\"type\":\"CurriculumPrerequisite\"}],\"name\":\" 235IN\",\"metrics\":{\"centrality\":12,\"complexity\":6.0,\"blocking factor\":1,\"delay factor\":5.0},\"nameSub\":\"General Organic Chemistry I\",\"id\":17,\"credits\":4,\"nameCanonical\":\"Organic Chemistry I\"},{\"curriculum_requisites\":[],\"name\":\"CHM  235RC\",\"metrics\":{\"centrality\":0,\"complexity\":5.0,\"blocking factor\":2,\"delay factor\":3.0},\"nameSub\":\"General Organic Chemistry I Recitation\",\"id\":18,\"credits\":1,\"nameCanonical\":\"\"},{\"curriculum_requisites\":[],\"name\":\" \",\"metrics\":{\"centrality\":0,\"complexity\":1.0,\"blocking factor\":0,\"delay factor\":1.0},\"nameSub\":\"AGEC-S Course\",\"id\":19,\"credits\":3,\"nameCanonical\":\"\"}],\"id\":3},{\"name\":\"Term 4\",\"curriculum_items\":[{\"curriculum_requisites\":[],\"name\":\" \",\"metrics\":{\"centrality\":0,\"complexity\":1.0,\"blocking factor\":0,\"delay factor\":1.0},\"nameSub\":\"AGEC-S Course\",\"id\":20,\"credits\":3,\"nameCanonical\":\"\"},{\"curriculum_requisites\":[],\"name\":\" \",\"metrics\":{\"centrality\":0,\"complexity\":1.0,\"blocking factor\":0,\"delay factor\":1.0},\"nameSub\":\"AGEC-S Course\",\"id\":21,\"credits\":3,\"nameCanonical\":\"\"},{\"curriculum_requisites\":[{\"source_id\":7,\"target_id\":22,\"type\":\"CurriculumPrerequisite\"}],\"name\":\"MAT 262\",\"metrics\":{\"centrality\":0,\"complexity\":3.0,\"blocking factor\":0,\"delay factor\":3.0},\"nameSub\":\"Differential Equations\",\"id\":22,\"credits\":3,\"nameCanonical\":\"Differential Equations\"},{\"curriculum_requisites\":[{\"source_id\":7,\"target_id\":23,\"type\":\"CurriculumPrerequisite\"},{\"source_id\":10,\"target_id\":23,\"type\":\"CurriculumPrerequisite\"},{\"source_id\":24,\"target_id\":23,\"type\":\"CurriculumStrictCorequisite\"}],\"name\":\"PHY 216IN\",\"metrics\":{\"centrality\":0,\"complexity\":3.0,\"blocking factor\":0,\"delay factor\":3.0},\"nameSub\":\"Intro Electricity & Magnetism\",\"id\":23,\"credits\":4,\"nameCanonical\":\"\"},{\"curriculum_requisites\":[],\"name\":\"PHY 216RC\",\"metrics\":{\"centrality\":0,\"complexity\":3.0,\"blocking factor\":1,\"delay factor\":2.0},\"nameSub\":\"Intro Electricity & Magnetism\",\"id\":24,\"credits\":1,\"nameCanonical\":\"\"},{\"curriculum_requisites\":[{\"source_id\":26,\"target_id\":25,\"type\":\"CurriculumStrictCorequisite\"},{\"source_id\":17,\"target_id\":25,\"type\":\"CurriculumPrerequisite\"}],\"name\":\"CHM 236IN\",\"metrics\":{\"centrality\":0,\"complexity\":5.0,\"blocking factor\":0,\"delay factor\":5.0},\"nameSub\":\"General Organic Chemistry II\",\"id\":25,\"credits\":4,\"nameCanonical\":\"Organic Chemistry II\"},{\"curriculum_requisites\":[],\"name\":\"CHM  236RC\",\"metrics\":{\"centrality\":0,\"complexity\":3.0,\"blocking factor\":1,\"delay factor\":2.0},\"nameSub\":\"General Organic Chemistry II Recitation\",\"id\":26,\"credits\":1,\"nameCanonical\":\"\"},{\"curriculum_requisites\":[{\"source_id\":13,\"target_id\":27,\"type\":\"CurriculumPrerequisite\"}],\"name\":\"ENG 205IN\",\"metrics\":{\"centrality\":0,\"complexity\":3.0,\"blocking factor\":0,\"delay factor\":3.0},\"nameSub\":\"Intro to MATLAB II\",\"id\":27,\"credits\":1,\"nameCanonical\":\"\"}],\"id\":4}],\"institution\":\"Pima Community College\"}},\"*\"); window.removeEventListener(\"message\",window.messageReceived); window.messageReceived=(function (event){return (event.data.curriculum!==undefined) ? (WebIO.setval({\"name\":\"curriculum-data\",\"scope\":\"6887194427900010966\",\"id\":\"11522448501739129116\",\"type\":\"observable\"},event.data.curriculum)) : undefined}); return window.addEventListener(\"message\",window.messageReceived)})"
          },
          "id": "curriculum",
          "src": "https://curricula-api-embed.damoursystems.com/",
          "style": {
           "border": "none",
           "height": "85vh",
           "margin": "0",
           "padding": "0",
           "width": "100%"
          }
         },
         "type": "node"
        }
       ],
       "instanceArgs": {
        "handlers": {},
        "id": "6887194427900010966",
        "imports": {
         "data": [],
         "type": "async_block"
        },
        "mount_callbacks": [],
        "observables": {
         "curriculum-data": {
          "id": "11522448501739129116",
          "sync": true,
          "value": {
           "curriculum": {
            "curriculum_terms": [
             {
              "curriculum_items": [
               {
                "credits": 5,
                "curriculum_requisites": [],
                "id": 1,
                "metrics": {
                 "blocking factor": 8,
                 "centrality": 0,
                 "complexity": 11,
                 "delay factor": 3
                },
                "name": "MAT 220",
                "nameCanonical": "Calculus I",
                "nameSub": "Calculus I"
               },
               {
                "credits": 4,
                "curriculum_requisites": [
                 {
                  "source_id": 3,
                  "target_id": 2,
                  "type": "CurriculumStrictCorequisite"
                 }
                ],
                "id": 2,
                "metrics": {
                 "blocking factor": 3,
                 "centrality": 5,
                 "complexity": 8,
                 "delay factor": 5
                },
                "name": "CHM 151IN",
                "nameCanonical": "General Chemsitry I",
                "nameSub": "Gen Chemistry I"
               },
               {
                "credits": 1,
                "curriculum_requisites": [],
                "id": 3,
                "metrics": {
                 "blocking factor": 4,
                 "centrality": 0,
                 "complexity": 9,
                 "delay factor": 5
                },
                "name": "CHM 151RC",
                "nameCanonical": "",
                "nameSub": "Gen Chemistry I Recitation"
               },
               {
                "credits": 3,
                "curriculum_requisites": [],
                "id": 4,
                "metrics": {
                 "blocking factor": 1,
                 "centrality": 0,
                 "complexity": 3,
                 "delay factor": 2
                },
                "name": "WRT 101",
                "nameCanonical": "English Composition I",
                "nameSub": "English Composition I"
               },
               {
                "credits": 3,
                "curriculum_requisites": [
                 {
                  "source_id": 1,
                  "target_id": 5,
                  "type": "CurriculumCorequisite"
                 }
                ],
                "id": 5,
                "metrics": {
                 "blocking factor": 0,
                 "centrality": 0,
                 "complexity": 2,
                 "delay factor": 2
                },
                "name": "ENG 102IN",
                "nameCanonical": "Intro to Engineering",
                "nameSub": "Problem-Solving and Engineering Design"
               },
               {
                "credits": 3,
                "curriculum_requisites": [],
                "id": 6,
                "metrics": {
                 "blocking factor": 0,
                 "centrality": 0,
                 "complexity": 1,
                 "delay factor": 1
                },
                "name": " ",
                "nameCanonical": "",
                "nameSub": "AGEC-S Course"
               }
              ],
              "id": 1,
              "name": "Term 1"
             },
             {
              "curriculum_items": [
               {
                "credits": 4,
                "curriculum_requisites": [
                 {
                  "source_id": 1,
                  "target_id": 7,
                  "type": "CurriculumPrerequisite"
                 }
                ],
                "id": 7,
                "metrics": {
                 "blocking factor": 3,
                 "centrality": 9,
                 "complexity": 6,
                 "delay factor": 3
                },
                "name": "MAT 231",
                "nameCanonical": "Calculus II",
                "nameSub": "Calculus II"
               },
               {
                "credits": 4,
                "curriculum_requisites": [
                 {
                  "source_id": 2,
                  "target_id": 8,
                  "type": "CurriculumPrerequisite"
                 },
                 {
                  "source_id": 9,
                  "target_id": 8,
                  "type": "CurriculumStrictCorequisite"
                 }
                ],
                "id": 8,
                "metrics": {
                 "blocking factor": 2,
                 "centrality": 9,
                 "complexity": 7,
                 "delay factor": 5
                },
                "name": "CHM 152IN",
                "nameCanonical": "General Chemsitry II",
                "nameSub": "Gen Chemistry II"
               },
               {
                "credits": 1,
                "curriculum_requisites": [],
                "id": 9,
                "metrics": {
                 "blocking factor": 3,
                 "centrality": 0,
                 "complexity": 7,
                 "delay factor": 4
                },
                "name": "CHM 152RC",
                "nameCanonical": "",
                "nameSub": "Gen Chemistry II Recitation"
               },
               {
                "credits": 4,
                "curriculum_requisites": [
                 {
                  "source_id": 11,
                  "target_id": 10,
                  "type": "CurriculumStrictCorequisite"
                 },
                 {
                  "source_id": 1,
                  "target_id": 10,
                  "type": "CurriculumPrerequisite"
                 }
                ],
                "id": 10,
                "metrics": {
                 "blocking factor": 1,
                 "centrality": 6,
                 "complexity": 4,
                 "delay factor": 3
                },
                "name": "PHY 210IN",
                "nameCanonical": "",
                "nameSub": "Intro Mechanics"
               },
               {
                "credits": 1,
                "curriculum_requisites": [],
                "id": 11,
                "metrics": {
                 "blocking factor": 2,
                 "centrality": 0,
                 "complexity": 5,
                 "delay factor": 3
                },
                "name": "PHY 210RC",
                "nameCanonical": "",
                "nameSub": "Intro Mechanics Recitation"
               },
               {
                "credits": 3,
                "curriculum_requisites": [
                 {
                  "source_id": 4,
                  "target_id": 12,
                  "type": "CurriculumPrerequisite"
                 }
                ],
                "id": 12,
                "metrics": {
                 "blocking factor": 0,
                 "centrality": 0,
                 "complexity": 2,
                 "delay factor": 2
                },
                "name": "WRT 102",
                "nameCanonical": " English Composition",
                "nameSub": " English Composition II"
               },
               {
                "credits": 1,
                "curriculum_requisites": [
                 {
                  "source_id": 1,
                  "target_id": 13,
                  "type": "CurriculumCorequisite"
                 }
                ],
                "id": 13,
                "metrics": {
                 "blocking factor": 1,
                 "centrality": 3,
                 "complexity": 4,
                 "delay factor": 3
                },
                "name": "ENG 105IN",
                "nameCanonical": "",
                "nameSub": "Intro to MATLAB I"
               }
              ],
              "id": 2,
              "name": "Term 2"
             },
             {
              "curriculum_items": [
               {
                "credits": 3,
                "curriculum_requisites": [],
                "id": 14,
                "metrics": {
                 "blocking factor": 0,
                 "centrality": 0,
                 "complexity": 1,
                 "delay factor": 1
                },
                "name": " ",
                "nameCanonical": "",
                "nameSub": "AGEC-S Course"
               },
               {
                "credits": 3,
                "curriculum_requisites": [],
                "id": 15,
                "metrics": {
                 "blocking factor": 0,
                 "centrality": 0,
                 "complexity": 1,
                 "delay factor": 1
                },
                "name": " ",
                "nameCanonical": "",
                "nameSub": "AGEC-S Course"
               },
               {
                "credits": 4,
                "curriculum_requisites": [
                 {
                  "source_id": 7,
                  "target_id": 16,
                  "type": "CurriculumPrerequisite"
                 }
                ],
                "id": 16,
                "metrics": {
                 "blocking factor": 0,
                 "centrality": 0,
                 "complexity": 3,
                 "delay factor": 3
                },
                "name": "MAT 241",
                "nameCanonical": "Calculus III",
                "nameSub": "Calculus III"
               },
               {
                "credits": 4,
                "curriculum_requisites": [
                 {
                  "source_id": 18,
                  "target_id": 17,
                  "type": "CurriculumStrictCorequisite"
                 },
                 {
                  "source_id": 8,
                  "target_id": 17,
                  "type": "CurriculumPrerequisite"
                 }
                ],
                "id": 17,
                "metrics": {
                 "blocking factor": 1,
                 "centrality": 12,
                 "complexity": 6,
                 "delay factor": 5
                },
                "name": " 235IN",
                "nameCanonical": "Organic Chemistry I",
                "nameSub": "General Organic Chemistry I"
               },
               {
                "credits": 1,
                "curriculum_requisites": [],
                "id": 18,
                "metrics": {
                 "blocking factor": 2,
                 "centrality": 0,
                 "complexity": 5,
                 "delay factor": 3
                },
                "name": "CHM  235RC",
                "nameCanonical": "",
                "nameSub": "General Organic Chemistry I Recitation"
               },
               {
                "credits": 3,
                "curriculum_requisites": [],
                "id": 19,
                "metrics": {
                 "blocking factor": 0,
                 "centrality": 0,
                 "complexity": 1,
                 "delay factor": 1
                },
                "name": " ",
                "nameCanonical": "",
                "nameSub": "AGEC-S Course"
               }
              ],
              "id": 3,
              "name": "Term 3"
             },
             {
              "curriculum_items": [
               {
                "credits": 3,
                "curriculum_requisites": [],
                "id": 20,
                "metrics": {
                 "blocking factor": 0,
                 "centrality": 0,
                 "complexity": 1,
                 "delay factor": 1
                },
                "name": " ",
                "nameCanonical": "",
                "nameSub": "AGEC-S Course"
               },
               {
                "credits": 3,
                "curriculum_requisites": [],
                "id": 21,
                "metrics": {
                 "blocking factor": 0,
                 "centrality": 0,
                 "complexity": 1,
                 "delay factor": 1
                },
                "name": " ",
                "nameCanonical": "",
                "nameSub": "AGEC-S Course"
               },
               {
                "credits": 3,
                "curriculum_requisites": [
                 {
                  "source_id": 7,
                  "target_id": 22,
                  "type": "CurriculumPrerequisite"
                 }
                ],
                "id": 22,
                "metrics": {
                 "blocking factor": 0,
                 "centrality": 0,
                 "complexity": 3,
                 "delay factor": 3
                },
                "name": "MAT 262",
                "nameCanonical": "Differential Equations",
                "nameSub": "Differential Equations"
               },
               {
                "credits": 4,
                "curriculum_requisites": [
                 {
                  "source_id": 7,
                  "target_id": 23,
                  "type": "CurriculumPrerequisite"
                 },
                 {
                  "source_id": 10,
                  "target_id": 23,
                  "type": "CurriculumPrerequisite"
                 },
                 {
                  "source_id": 24,
                  "target_id": 23,
                  "type": "CurriculumStrictCorequisite"
                 }
                ],
                "id": 23,
                "metrics": {
                 "blocking factor": 0,
                 "centrality": 0,
                 "complexity": 3,
                 "delay factor": 3
                },
                "name": "PHY 216IN",
                "nameCanonical": "",
                "nameSub": "Intro Electricity & Magnetism"
               },
               {
                "credits": 1,
                "curriculum_requisites": [],
                "id": 24,
                "metrics": {
                 "blocking factor": 1,
                 "centrality": 0,
                 "complexity": 3,
                 "delay factor": 2
                },
                "name": "PHY 216RC",
                "nameCanonical": "",
                "nameSub": "Intro Electricity & Magnetism"
               },
               {
                "credits": 4,
                "curriculum_requisites": [
                 {
                  "source_id": 26,
                  "target_id": 25,
                  "type": "CurriculumStrictCorequisite"
                 },
                 {
                  "source_id": 17,
                  "target_id": 25,
                  "type": "CurriculumPrerequisite"
                 }
                ],
                "id": 25,
                "metrics": {
                 "blocking factor": 0,
                 "centrality": 0,
                 "complexity": 5,
                 "delay factor": 5
                },
                "name": "CHM 236IN",
                "nameCanonical": "Organic Chemistry II",
                "nameSub": "General Organic Chemistry II"
               },
               {
                "credits": 1,
                "curriculum_requisites": [],
                "id": 26,
                "metrics": {
                 "blocking factor": 1,
                 "centrality": 0,
                 "complexity": 3,
                 "delay factor": 2
                },
                "name": "CHM  236RC",
                "nameCanonical": "",
                "nameSub": "General Organic Chemistry II Recitation"
               },
               {
                "credits": 1,
                "curriculum_requisites": [
                 {
                  "source_id": 13,
                  "target_id": 27,
                  "type": "CurriculumPrerequisite"
                 }
                ],
                "id": 27,
                "metrics": {
                 "blocking factor": 0,
                 "centrality": 0,
                 "complexity": 3,
                 "delay factor": 3
                },
                "name": "ENG 205IN",
                "nameCanonical": "",
                "nameSub": "Intro to MATLAB II"
               }
              ],
              "id": 4,
              "name": "Term 4"
             }
            ],
            "dp_name": "2019-20 Pima Pre-Engineering",
            "institution": "Pima Community College",
            "name": "Pre-Engineering (Chemical Eng. Concentration)"
           },
           "options": {
            "edit": false,
            "hideTerms": false
           }
          }
         }
        },
        "systemjs_options": null
       },
       "nodeType": "Scope",
       "props": {},
       "type": "node"
      },
      "text/html": [
       "<div\n",
       "    class=\"webio-mountpoint\"\n",
       "    data-webio-mountpoint=\"7726785775061911981\"\n",
       ">\n",
       "    <script>\n",
       "    (function(){\n",
       "    // Some integrations (namely, IJulia/Jupyter) use an alternate render pathway than\n",
       "    // just putting the html on the page. If WebIO isn't defined, then it's pretty likely\n",
       "    // that we're in one of those situations and the integration just isn't installed\n",
       "    // correctly.\n",
       "    if (typeof window.WebIO === \"undefined\") {\n",
       "        document\n",
       "            .querySelector('[data-webio-mountpoint=\"7726785775061911981\"]')\n",
       "            .innerHTML = (\n",
       "                '<div style=\"padding: 1em; background-color: #f8d6da; border: 1px solid #f5c6cb; font-weight: bold;\">' +\n",
       "                '<p><strong>WebIO not detected.</strong></p>' +\n",
       "                '<p>Please read ' +\n",
       "                '<a href=\"https://juliagizmos.github.io/WebIO.jl/latest/troubleshooting/not-detected/\" target=\"_blank\">the troubleshooting guide</a> ' +\n",
       "                'for more information on how to resolve this issue.</p>' +\n",
       "                '<p><a href=\"https://juliagizmos.github.io/WebIO.jl/latest/troubleshooting/not-detected/\" target=\"_blank\">https://juliagizmos.github.io/WebIO.jl/latest/troubleshooting/not-detected/</a></p>' +\n",
       "                '</div>'\n",
       "            );\n",
       "        return;\n",
       "    }\n",
       "    WebIO.mount(\n",
       "        document.querySelector('[data-webio-mountpoint=\"7726785775061911981\"]'),\n",
       "        {\"props\":{},\"nodeType\":\"Scope\",\"type\":\"node\",\"instanceArgs\":{\"imports\":{\"data\":[],\"type\":\"async_block\"},\"id\":\"6887194427900010966\",\"handlers\":{},\"systemjs_options\":null,\"mount_callbacks\":[],\"observables\":{\"curriculum-data\":{\"sync\":true,\"id\":\"11522448501739129116\",\"value\":{\"options\":{\"hideTerms\":false,\"edit\":false},\"curriculum\":{\"name\":\"Pre-Engineering (Chemical Eng. Concentration)\",\"dp_name\":\"2019-20 Pima Pre-Engineering\",\"curriculum_terms\":[{\"name\":\"Term 1\",\"curriculum_items\":[{\"curriculum_requisites\":[],\"name\":\"MAT 220\",\"metrics\":{\"centrality\":0,\"complexity\":11.0,\"blocking factor\":8,\"delay factor\":3.0},\"nameSub\":\"Calculus I\",\"id\":1,\"credits\":5,\"nameCanonical\":\"Calculus I\"},{\"curriculum_requisites\":[{\"source_id\":3,\"target_id\":2,\"type\":\"CurriculumStrictCorequisite\"}],\"name\":\"CHM 151IN\",\"metrics\":{\"centrality\":5,\"complexity\":8.0,\"blocking factor\":3,\"delay factor\":5.0},\"nameSub\":\"Gen Chemistry I\",\"id\":2,\"credits\":4,\"nameCanonical\":\"General Chemsitry I\"},{\"curriculum_requisites\":[],\"name\":\"CHM 151RC\",\"metrics\":{\"centrality\":0,\"complexity\":9.0,\"blocking factor\":4,\"delay factor\":5.0},\"nameSub\":\"Gen Chemistry I Recitation\",\"id\":3,\"credits\":1,\"nameCanonical\":\"\"},{\"curriculum_requisites\":[],\"name\":\"WRT 101\",\"metrics\":{\"centrality\":0,\"complexity\":3.0,\"blocking factor\":1,\"delay factor\":2.0},\"nameSub\":\"English Composition I\",\"id\":4,\"credits\":3,\"nameCanonical\":\"English Composition I\"},{\"curriculum_requisites\":[{\"source_id\":1,\"target_id\":5,\"type\":\"CurriculumCorequisite\"}],\"name\":\"ENG 102IN\",\"metrics\":{\"centrality\":0,\"complexity\":2.0,\"blocking factor\":0,\"delay factor\":2.0},\"nameSub\":\"Problem-Solving and Engineering Design\",\"id\":5,\"credits\":3,\"nameCanonical\":\"Intro to Engineering\"},{\"curriculum_requisites\":[],\"name\":\" \",\"metrics\":{\"centrality\":0,\"complexity\":1.0,\"blocking factor\":0,\"delay factor\":1.0},\"nameSub\":\"AGEC-S Course\",\"id\":6,\"credits\":3,\"nameCanonical\":\"\"}],\"id\":1},{\"name\":\"Term 2\",\"curriculum_items\":[{\"curriculum_requisites\":[{\"source_id\":1,\"target_id\":7,\"type\":\"CurriculumPrerequisite\"}],\"name\":\"MAT 231\",\"metrics\":{\"centrality\":9,\"complexity\":6.0,\"blocking factor\":3,\"delay factor\":3.0},\"nameSub\":\"Calculus II\",\"id\":7,\"credits\":4,\"nameCanonical\":\"Calculus II\"},{\"curriculum_requisites\":[{\"source_id\":2,\"target_id\":8,\"type\":\"CurriculumPrerequisite\"},{\"source_id\":9,\"target_id\":8,\"type\":\"CurriculumStrictCorequisite\"}],\"name\":\"CHM 152IN\",\"metrics\":{\"centrality\":9,\"complexity\":7.0,\"blocking factor\":2,\"delay factor\":5.0},\"nameSub\":\"Gen Chemistry II\",\"id\":8,\"credits\":4,\"nameCanonical\":\"General Chemsitry II\"},{\"curriculum_requisites\":[],\"name\":\"CHM 152RC\",\"metrics\":{\"centrality\":0,\"complexity\":7.0,\"blocking factor\":3,\"delay factor\":4.0},\"nameSub\":\"Gen Chemistry II Recitation\",\"id\":9,\"credits\":1,\"nameCanonical\":\"\"},{\"curriculum_requisites\":[{\"source_id\":11,\"target_id\":10,\"type\":\"CurriculumStrictCorequisite\"},{\"source_id\":1,\"target_id\":10,\"type\":\"CurriculumPrerequisite\"}],\"name\":\"PHY 210IN\",\"metrics\":{\"centrality\":6,\"complexity\":4.0,\"blocking factor\":1,\"delay factor\":3.0},\"nameSub\":\"Intro Mechanics\",\"id\":10,\"credits\":4,\"nameCanonical\":\"\"},{\"curriculum_requisites\":[],\"name\":\"PHY 210RC\",\"metrics\":{\"centrality\":0,\"complexity\":5.0,\"blocking factor\":2,\"delay factor\":3.0},\"nameSub\":\"Intro Mechanics Recitation\",\"id\":11,\"credits\":1,\"nameCanonical\":\"\"},{\"curriculum_requisites\":[{\"source_id\":4,\"target_id\":12,\"type\":\"CurriculumPrerequisite\"}],\"name\":\"WRT 102\",\"metrics\":{\"centrality\":0,\"complexity\":2.0,\"blocking factor\":0,\"delay factor\":2.0},\"nameSub\":\" English Composition II\",\"id\":12,\"credits\":3,\"nameCanonical\":\" English Composition\"},{\"curriculum_requisites\":[{\"source_id\":1,\"target_id\":13,\"type\":\"CurriculumCorequisite\"}],\"name\":\"ENG 105IN\",\"metrics\":{\"centrality\":3,\"complexity\":4.0,\"blocking factor\":1,\"delay factor\":3.0},\"nameSub\":\"Intro to MATLAB I\",\"id\":13,\"credits\":1,\"nameCanonical\":\"\"}],\"id\":2},{\"name\":\"Term 3\",\"curriculum_items\":[{\"curriculum_requisites\":[],\"name\":\" \",\"metrics\":{\"centrality\":0,\"complexity\":1.0,\"blocking factor\":0,\"delay factor\":1.0},\"nameSub\":\"AGEC-S Course\",\"id\":14,\"credits\":3,\"nameCanonical\":\"\"},{\"curriculum_requisites\":[],\"name\":\" \",\"metrics\":{\"centrality\":0,\"complexity\":1.0,\"blocking factor\":0,\"delay factor\":1.0},\"nameSub\":\"AGEC-S Course\",\"id\":15,\"credits\":3,\"nameCanonical\":\"\"},{\"curriculum_requisites\":[{\"source_id\":7,\"target_id\":16,\"type\":\"CurriculumPrerequisite\"}],\"name\":\"MAT 241\",\"metrics\":{\"centrality\":0,\"complexity\":3.0,\"blocking factor\":0,\"delay factor\":3.0},\"nameSub\":\"Calculus III\",\"id\":16,\"credits\":4,\"nameCanonical\":\"Calculus III\"},{\"curriculum_requisites\":[{\"source_id\":18,\"target_id\":17,\"type\":\"CurriculumStrictCorequisite\"},{\"source_id\":8,\"target_id\":17,\"type\":\"CurriculumPrerequisite\"}],\"name\":\" 235IN\",\"metrics\":{\"centrality\":12,\"complexity\":6.0,\"blocking factor\":1,\"delay factor\":5.0},\"nameSub\":\"General Organic Chemistry I\",\"id\":17,\"credits\":4,\"nameCanonical\":\"Organic Chemistry I\"},{\"curriculum_requisites\":[],\"name\":\"CHM  235RC\",\"metrics\":{\"centrality\":0,\"complexity\":5.0,\"blocking factor\":2,\"delay factor\":3.0},\"nameSub\":\"General Organic Chemistry I Recitation\",\"id\":18,\"credits\":1,\"nameCanonical\":\"\"},{\"curriculum_requisites\":[],\"name\":\" \",\"metrics\":{\"centrality\":0,\"complexity\":1.0,\"blocking factor\":0,\"delay factor\":1.0},\"nameSub\":\"AGEC-S Course\",\"id\":19,\"credits\":3,\"nameCanonical\":\"\"}],\"id\":3},{\"name\":\"Term 4\",\"curriculum_items\":[{\"curriculum_requisites\":[],\"name\":\" \",\"metrics\":{\"centrality\":0,\"complexity\":1.0,\"blocking factor\":0,\"delay factor\":1.0},\"nameSub\":\"AGEC-S Course\",\"id\":20,\"credits\":3,\"nameCanonical\":\"\"},{\"curriculum_requisites\":[],\"name\":\" \",\"metrics\":{\"centrality\":0,\"complexity\":1.0,\"blocking factor\":0,\"delay factor\":1.0},\"nameSub\":\"AGEC-S Course\",\"id\":21,\"credits\":3,\"nameCanonical\":\"\"},{\"curriculum_requisites\":[{\"source_id\":7,\"target_id\":22,\"type\":\"CurriculumPrerequisite\"}],\"name\":\"MAT 262\",\"metrics\":{\"centrality\":0,\"complexity\":3.0,\"blocking factor\":0,\"delay factor\":3.0},\"nameSub\":\"Differential Equations\",\"id\":22,\"credits\":3,\"nameCanonical\":\"Differential Equations\"},{\"curriculum_requisites\":[{\"source_id\":7,\"target_id\":23,\"type\":\"CurriculumPrerequisite\"},{\"source_id\":10,\"target_id\":23,\"type\":\"CurriculumPrerequisite\"},{\"source_id\":24,\"target_id\":23,\"type\":\"CurriculumStrictCorequisite\"}],\"name\":\"PHY 216IN\",\"metrics\":{\"centrality\":0,\"complexity\":3.0,\"blocking factor\":0,\"delay factor\":3.0},\"nameSub\":\"Intro Electricity & Magnetism\",\"id\":23,\"credits\":4,\"nameCanonical\":\"\"},{\"curriculum_requisites\":[],\"name\":\"PHY 216RC\",\"metrics\":{\"centrality\":0,\"complexity\":3.0,\"blocking factor\":1,\"delay factor\":2.0},\"nameSub\":\"Intro Electricity & Magnetism\",\"id\":24,\"credits\":1,\"nameCanonical\":\"\"},{\"curriculum_requisites\":[{\"source_id\":26,\"target_id\":25,\"type\":\"CurriculumStrictCorequisite\"},{\"source_id\":17,\"target_id\":25,\"type\":\"CurriculumPrerequisite\"}],\"name\":\"CHM 236IN\",\"metrics\":{\"centrality\":0,\"complexity\":5.0,\"blocking factor\":0,\"delay factor\":5.0},\"nameSub\":\"General Organic Chemistry II\",\"id\":25,\"credits\":4,\"nameCanonical\":\"Organic Chemistry II\"},{\"curriculum_requisites\":[],\"name\":\"CHM  236RC\",\"metrics\":{\"centrality\":0,\"complexity\":3.0,\"blocking factor\":1,\"delay factor\":2.0},\"nameSub\":\"General Organic Chemistry II Recitation\",\"id\":26,\"credits\":1,\"nameCanonical\":\"\"},{\"curriculum_requisites\":[{\"source_id\":13,\"target_id\":27,\"type\":\"CurriculumPrerequisite\"}],\"name\":\"ENG 205IN\",\"metrics\":{\"centrality\":0,\"complexity\":3.0,\"blocking factor\":0,\"delay factor\":3.0},\"nameSub\":\"Intro to MATLAB II\",\"id\":27,\"credits\":1,\"nameCanonical\":\"\"}],\"id\":4}],\"institution\":\"Pima Community College\"}}}}},\"children\":[{\"props\":{\"src\":\"https:\\/\\/curricula-api-embed.damoursystems.com\\/\",\"id\":\"curriculum\",\"events\":{\"load\":\"(function (){this.contentWindow.postMessage({\\\"options\\\":{\\\"hideTerms\\\":false,\\\"edit\\\":false},\\\"curriculum\\\":{\\\"name\\\":\\\"Pre-Engineering (Chemical Eng. Concentration)\\\",\\\"dp_name\\\":\\\"2019-20 Pima Pre-Engineering\\\",\\\"curriculum_terms\\\":[{\\\"name\\\":\\\"Term 1\\\",\\\"curriculum_items\\\":[{\\\"curriculum_requisites\\\":[],\\\"name\\\":\\\"MAT 220\\\",\\\"metrics\\\":{\\\"centrality\\\":0,\\\"complexity\\\":11.0,\\\"blocking factor\\\":8,\\\"delay factor\\\":3.0},\\\"nameSub\\\":\\\"Calculus I\\\",\\\"id\\\":1,\\\"credits\\\":5,\\\"nameCanonical\\\":\\\"Calculus I\\\"},{\\\"curriculum_requisites\\\":[{\\\"source_id\\\":3,\\\"target_id\\\":2,\\\"type\\\":\\\"CurriculumStrictCorequisite\\\"}],\\\"name\\\":\\\"CHM 151IN\\\",\\\"metrics\\\":{\\\"centrality\\\":5,\\\"complexity\\\":8.0,\\\"blocking factor\\\":3,\\\"delay factor\\\":5.0},\\\"nameSub\\\":\\\"Gen Chemistry I\\\",\\\"id\\\":2,\\\"credits\\\":4,\\\"nameCanonical\\\":\\\"General Chemsitry I\\\"},{\\\"curriculum_requisites\\\":[],\\\"name\\\":\\\"CHM 151RC\\\",\\\"metrics\\\":{\\\"centrality\\\":0,\\\"complexity\\\":9.0,\\\"blocking factor\\\":4,\\\"delay factor\\\":5.0},\\\"nameSub\\\":\\\"Gen Chemistry I Recitation\\\",\\\"id\\\":3,\\\"credits\\\":1,\\\"nameCanonical\\\":\\\"\\\"},{\\\"curriculum_requisites\\\":[],\\\"name\\\":\\\"WRT 101\\\",\\\"metrics\\\":{\\\"centrality\\\":0,\\\"complexity\\\":3.0,\\\"blocking factor\\\":1,\\\"delay factor\\\":2.0},\\\"nameSub\\\":\\\"English Composition I\\\",\\\"id\\\":4,\\\"credits\\\":3,\\\"nameCanonical\\\":\\\"English Composition I\\\"},{\\\"curriculum_requisites\\\":[{\\\"source_id\\\":1,\\\"target_id\\\":5,\\\"type\\\":\\\"CurriculumCorequisite\\\"}],\\\"name\\\":\\\"ENG 102IN\\\",\\\"metrics\\\":{\\\"centrality\\\":0,\\\"complexity\\\":2.0,\\\"blocking factor\\\":0,\\\"delay factor\\\":2.0},\\\"nameSub\\\":\\\"Problem-Solving and Engineering Design\\\",\\\"id\\\":5,\\\"credits\\\":3,\\\"nameCanonical\\\":\\\"Intro to Engineering\\\"},{\\\"curriculum_requisites\\\":[],\\\"name\\\":\\\" \\\",\\\"metrics\\\":{\\\"centrality\\\":0,\\\"complexity\\\":1.0,\\\"blocking factor\\\":0,\\\"delay factor\\\":1.0},\\\"nameSub\\\":\\\"AGEC-S Course\\\",\\\"id\\\":6,\\\"credits\\\":3,\\\"nameCanonical\\\":\\\"\\\"}],\\\"id\\\":1},{\\\"name\\\":\\\"Term 2\\\",\\\"curriculum_items\\\":[{\\\"curriculum_requisites\\\":[{\\\"source_id\\\":1,\\\"target_id\\\":7,\\\"type\\\":\\\"CurriculumPrerequisite\\\"}],\\\"name\\\":\\\"MAT 231\\\",\\\"metrics\\\":{\\\"centrality\\\":9,\\\"complexity\\\":6.0,\\\"blocking factor\\\":3,\\\"delay factor\\\":3.0},\\\"nameSub\\\":\\\"Calculus II\\\",\\\"id\\\":7,\\\"credits\\\":4,\\\"nameCanonical\\\":\\\"Calculus II\\\"},{\\\"curriculum_requisites\\\":[{\\\"source_id\\\":2,\\\"target_id\\\":8,\\\"type\\\":\\\"CurriculumPrerequisite\\\"},{\\\"source_id\\\":9,\\\"target_id\\\":8,\\\"type\\\":\\\"CurriculumStrictCorequisite\\\"}],\\\"name\\\":\\\"CHM 152IN\\\",\\\"metrics\\\":{\\\"centrality\\\":9,\\\"complexity\\\":7.0,\\\"blocking factor\\\":2,\\\"delay factor\\\":5.0},\\\"nameSub\\\":\\\"Gen Chemistry II\\\",\\\"id\\\":8,\\\"credits\\\":4,\\\"nameCanonical\\\":\\\"General Chemsitry II\\\"},{\\\"curriculum_requisites\\\":[],\\\"name\\\":\\\"CHM 152RC\\\",\\\"metrics\\\":{\\\"centrality\\\":0,\\\"complexity\\\":7.0,\\\"blocking factor\\\":3,\\\"delay factor\\\":4.0},\\\"nameSub\\\":\\\"Gen Chemistry II Recitation\\\",\\\"id\\\":9,\\\"credits\\\":1,\\\"nameCanonical\\\":\\\"\\\"},{\\\"curriculum_requisites\\\":[{\\\"source_id\\\":11,\\\"target_id\\\":10,\\\"type\\\":\\\"CurriculumStrictCorequisite\\\"},{\\\"source_id\\\":1,\\\"target_id\\\":10,\\\"type\\\":\\\"CurriculumPrerequisite\\\"}],\\\"name\\\":\\\"PHY 210IN\\\",\\\"metrics\\\":{\\\"centrality\\\":6,\\\"complexity\\\":4.0,\\\"blocking factor\\\":1,\\\"delay factor\\\":3.0},\\\"nameSub\\\":\\\"Intro Mechanics\\\",\\\"id\\\":10,\\\"credits\\\":4,\\\"nameCanonical\\\":\\\"\\\"},{\\\"curriculum_requisites\\\":[],\\\"name\\\":\\\"PHY 210RC\\\",\\\"metrics\\\":{\\\"centrality\\\":0,\\\"complexity\\\":5.0,\\\"blocking factor\\\":2,\\\"delay factor\\\":3.0},\\\"nameSub\\\":\\\"Intro Mechanics Recitation\\\",\\\"id\\\":11,\\\"credits\\\":1,\\\"nameCanonical\\\":\\\"\\\"},{\\\"curriculum_requisites\\\":[{\\\"source_id\\\":4,\\\"target_id\\\":12,\\\"type\\\":\\\"CurriculumPrerequisite\\\"}],\\\"name\\\":\\\"WRT 102\\\",\\\"metrics\\\":{\\\"centrality\\\":0,\\\"complexity\\\":2.0,\\\"blocking factor\\\":0,\\\"delay factor\\\":2.0},\\\"nameSub\\\":\\\" English Composition II\\\",\\\"id\\\":12,\\\"credits\\\":3,\\\"nameCanonical\\\":\\\" English Composition\\\"},{\\\"curriculum_requisites\\\":[{\\\"source_id\\\":1,\\\"target_id\\\":13,\\\"type\\\":\\\"CurriculumCorequisite\\\"}],\\\"name\\\":\\\"ENG 105IN\\\",\\\"metrics\\\":{\\\"centrality\\\":3,\\\"complexity\\\":4.0,\\\"blocking factor\\\":1,\\\"delay factor\\\":3.0},\\\"nameSub\\\":\\\"Intro to MATLAB I\\\",\\\"id\\\":13,\\\"credits\\\":1,\\\"nameCanonical\\\":\\\"\\\"}],\\\"id\\\":2},{\\\"name\\\":\\\"Term 3\\\",\\\"curriculum_items\\\":[{\\\"curriculum_requisites\\\":[],\\\"name\\\":\\\" \\\",\\\"metrics\\\":{\\\"centrality\\\":0,\\\"complexity\\\":1.0,\\\"blocking factor\\\":0,\\\"delay factor\\\":1.0},\\\"nameSub\\\":\\\"AGEC-S Course\\\",\\\"id\\\":14,\\\"credits\\\":3,\\\"nameCanonical\\\":\\\"\\\"},{\\\"curriculum_requisites\\\":[],\\\"name\\\":\\\" \\\",\\\"metrics\\\":{\\\"centrality\\\":0,\\\"complexity\\\":1.0,\\\"blocking factor\\\":0,\\\"delay factor\\\":1.0},\\\"nameSub\\\":\\\"AGEC-S Course\\\",\\\"id\\\":15,\\\"credits\\\":3,\\\"nameCanonical\\\":\\\"\\\"},{\\\"curriculum_requisites\\\":[{\\\"source_id\\\":7,\\\"target_id\\\":16,\\\"type\\\":\\\"CurriculumPrerequisite\\\"}],\\\"name\\\":\\\"MAT 241\\\",\\\"metrics\\\":{\\\"centrality\\\":0,\\\"complexity\\\":3.0,\\\"blocking factor\\\":0,\\\"delay factor\\\":3.0},\\\"nameSub\\\":\\\"Calculus III\\\",\\\"id\\\":16,\\\"credits\\\":4,\\\"nameCanonical\\\":\\\"Calculus III\\\"},{\\\"curriculum_requisites\\\":[{\\\"source_id\\\":18,\\\"target_id\\\":17,\\\"type\\\":\\\"CurriculumStrictCorequisite\\\"},{\\\"source_id\\\":8,\\\"target_id\\\":17,\\\"type\\\":\\\"CurriculumPrerequisite\\\"}],\\\"name\\\":\\\" 235IN\\\",\\\"metrics\\\":{\\\"centrality\\\":12,\\\"complexity\\\":6.0,\\\"blocking factor\\\":1,\\\"delay factor\\\":5.0},\\\"nameSub\\\":\\\"General Organic Chemistry I\\\",\\\"id\\\":17,\\\"credits\\\":4,\\\"nameCanonical\\\":\\\"Organic Chemistry I\\\"},{\\\"curriculum_requisites\\\":[],\\\"name\\\":\\\"CHM  235RC\\\",\\\"metrics\\\":{\\\"centrality\\\":0,\\\"complexity\\\":5.0,\\\"blocking factor\\\":2,\\\"delay factor\\\":3.0},\\\"nameSub\\\":\\\"General Organic Chemistry I Recitation\\\",\\\"id\\\":18,\\\"credits\\\":1,\\\"nameCanonical\\\":\\\"\\\"},{\\\"curriculum_requisites\\\":[],\\\"name\\\":\\\" \\\",\\\"metrics\\\":{\\\"centrality\\\":0,\\\"complexity\\\":1.0,\\\"blocking factor\\\":0,\\\"delay factor\\\":1.0},\\\"nameSub\\\":\\\"AGEC-S Course\\\",\\\"id\\\":19,\\\"credits\\\":3,\\\"nameCanonical\\\":\\\"\\\"}],\\\"id\\\":3},{\\\"name\\\":\\\"Term 4\\\",\\\"curriculum_items\\\":[{\\\"curriculum_requisites\\\":[],\\\"name\\\":\\\" \\\",\\\"metrics\\\":{\\\"centrality\\\":0,\\\"complexity\\\":1.0,\\\"blocking factor\\\":0,\\\"delay factor\\\":1.0},\\\"nameSub\\\":\\\"AGEC-S Course\\\",\\\"id\\\":20,\\\"credits\\\":3,\\\"nameCanonical\\\":\\\"\\\"},{\\\"curriculum_requisites\\\":[],\\\"name\\\":\\\" \\\",\\\"metrics\\\":{\\\"centrality\\\":0,\\\"complexity\\\":1.0,\\\"blocking factor\\\":0,\\\"delay factor\\\":1.0},\\\"nameSub\\\":\\\"AGEC-S Course\\\",\\\"id\\\":21,\\\"credits\\\":3,\\\"nameCanonical\\\":\\\"\\\"},{\\\"curriculum_requisites\\\":[{\\\"source_id\\\":7,\\\"target_id\\\":22,\\\"type\\\":\\\"CurriculumPrerequisite\\\"}],\\\"name\\\":\\\"MAT 262\\\",\\\"metrics\\\":{\\\"centrality\\\":0,\\\"complexity\\\":3.0,\\\"blocking factor\\\":0,\\\"delay factor\\\":3.0},\\\"nameSub\\\":\\\"Differential Equations\\\",\\\"id\\\":22,\\\"credits\\\":3,\\\"nameCanonical\\\":\\\"Differential Equations\\\"},{\\\"curriculum_requisites\\\":[{\\\"source_id\\\":7,\\\"target_id\\\":23,\\\"type\\\":\\\"CurriculumPrerequisite\\\"},{\\\"source_id\\\":10,\\\"target_id\\\":23,\\\"type\\\":\\\"CurriculumPrerequisite\\\"},{\\\"source_id\\\":24,\\\"target_id\\\":23,\\\"type\\\":\\\"CurriculumStrictCorequisite\\\"}],\\\"name\\\":\\\"PHY 216IN\\\",\\\"metrics\\\":{\\\"centrality\\\":0,\\\"complexity\\\":3.0,\\\"blocking factor\\\":0,\\\"delay factor\\\":3.0},\\\"nameSub\\\":\\\"Intro Electricity & Magnetism\\\",\\\"id\\\":23,\\\"credits\\\":4,\\\"nameCanonical\\\":\\\"\\\"},{\\\"curriculum_requisites\\\":[],\\\"name\\\":\\\"PHY 216RC\\\",\\\"metrics\\\":{\\\"centrality\\\":0,\\\"complexity\\\":3.0,\\\"blocking factor\\\":1,\\\"delay factor\\\":2.0},\\\"nameSub\\\":\\\"Intro Electricity & Magnetism\\\",\\\"id\\\":24,\\\"credits\\\":1,\\\"nameCanonical\\\":\\\"\\\"},{\\\"curriculum_requisites\\\":[{\\\"source_id\\\":26,\\\"target_id\\\":25,\\\"type\\\":\\\"CurriculumStrictCorequisite\\\"},{\\\"source_id\\\":17,\\\"target_id\\\":25,\\\"type\\\":\\\"CurriculumPrerequisite\\\"}],\\\"name\\\":\\\"CHM 236IN\\\",\\\"metrics\\\":{\\\"centrality\\\":0,\\\"complexity\\\":5.0,\\\"blocking factor\\\":0,\\\"delay factor\\\":5.0},\\\"nameSub\\\":\\\"General Organic Chemistry II\\\",\\\"id\\\":25,\\\"credits\\\":4,\\\"nameCanonical\\\":\\\"Organic Chemistry II\\\"},{\\\"curriculum_requisites\\\":[],\\\"name\\\":\\\"CHM  236RC\\\",\\\"metrics\\\":{\\\"centrality\\\":0,\\\"complexity\\\":3.0,\\\"blocking factor\\\":1,\\\"delay factor\\\":2.0},\\\"nameSub\\\":\\\"General Organic Chemistry II Recitation\\\",\\\"id\\\":26,\\\"credits\\\":1,\\\"nameCanonical\\\":\\\"\\\"},{\\\"curriculum_requisites\\\":[{\\\"source_id\\\":13,\\\"target_id\\\":27,\\\"type\\\":\\\"CurriculumPrerequisite\\\"}],\\\"name\\\":\\\"ENG 205IN\\\",\\\"metrics\\\":{\\\"centrality\\\":0,\\\"complexity\\\":3.0,\\\"blocking factor\\\":0,\\\"delay factor\\\":3.0},\\\"nameSub\\\":\\\"Intro to MATLAB II\\\",\\\"id\\\":27,\\\"credits\\\":1,\\\"nameCanonical\\\":\\\"\\\"}],\\\"id\\\":4}],\\\"institution\\\":\\\"Pima Community College\\\"}},\\\"*\\\"); window.removeEventListener(\\\"message\\\",window.messageReceived); window.messageReceived=(function (event){return (event.data.curriculum!==undefined) ? (WebIO.setval({\\\"name\\\":\\\"curriculum-data\\\",\\\"scope\\\":\\\"6887194427900010966\\\",\\\"id\\\":\\\"11522448501739129116\\\",\\\"type\\\":\\\"observable\\\"},event.data.curriculum)) : undefined}); return window.addEventListener(\\\"message\\\",window.messageReceived)})\"},\"style\":{\"padding\":\"0\",\"height\":\"85vh\",\"margin\":\"0\",\"border\":\"none\",\"width\":\"100%\"}},\"nodeType\":\"DOM\",\"type\":\"node\",\"instanceArgs\":{\"namespace\":\"html\",\"tag\":\"iframe\"},\"children\":[\"\"]}]},\n",
       "        window,\n",
       "    );\n",
       "    })()\n",
       "    </script>\n",
       "</div>\n"
      ],
      "text/plain": [
       "WebIO.Scope(WebIO.Node{WebIO.DOM}(WebIO.DOM(:html, :iframe), Any[\"\"], Dict{Symbol, Any}(:src => \"https://curricula-api-embed.damoursystems.com/\", :id => \"curriculum\", :events => Dict{Symbol, WebIO.JSString}(:load => WebIO.JSString(\"(function (){this.contentWindow.postMessage({\\\"options\\\":{\\\"hideTerms\\\":false,\\\"edit\\\":false},\\\"curriculum\\\":{\\\"name\\\":\\\"Pre-Engineering (Chemical Eng. Concentration)\\\",\\\"dp_name\\\":\\\"2019-20 Pima Pre-Engineering\\\",\\\"curriculum_terms\\\":[{\\\"name\\\":\\\"Term 1\\\",\\\"curriculum_items\\\":[{\\\"curriculum_requisites\\\":[],\\\"name\\\":\\\"MAT 220\\\",\\\"metrics\\\":{\\\"centrality\\\":0,\\\"complexity\\\":11.0,\\\"blocking factor\\\":8,\\\"delay factor\\\":3.0},\\\"nameSub\\\":\\\"Calculus I\\\",\\\"id\\\":1,\\\"credits\\\":5,\\\"nameCanonical\\\":\\\"Calculus I\\\"},{\\\"curriculum_requisites\\\":[{\\\"source_id\\\":3,\\\"target_id\\\":2,\\\"type\\\":\\\"CurriculumStrictCorequisite\\\"}],\\\"name\\\":\\\"CHM 151IN\\\",\\\"metrics\\\":{\\\"centrality\\\":5,\\\"complexity\\\":8.0,\\\"blocking factor\\\":3,\\\"delay factor\\\":5.0},\\\"nameSub\\\":\\\"Gen Chemistry I\\\",\\\"id\\\":2,\\\"credits\\\":4,\\\"nameCanonical\\\":\\\"General Chemsitry I\\\"},{\\\"curriculum_requisites\\\":[],\\\"name\\\":\\\"CHM 151RC\\\",\\\"metrics\\\":{\\\"centrality\\\":0,\\\"complexity\\\":9.0,\\\"blocking factor\\\":4,\\\"delay factor\\\":5.0},\\\"nameSub\\\":\\\"Gen Chemistry I Recitation\\\",\\\"id\\\":3,\\\"credits\\\":1,\\\"nameCanonical\\\":\\\"\\\"},{\\\"curriculum_requisites\\\":[],\\\"name\\\":\\\"WRT 101\\\",\\\"metrics\\\":{\\\"centrality\\\":0,\\\"complexity\\\":3.0,\\\"blocking factor\\\":1,\\\"delay factor\\\":2.0},\\\"nameSub\\\":\\\"English Composition I\\\",\\\"id\\\":4,\\\"credits\\\":3,\\\"nameCanonical\\\":\\\"English Composition I\\\"},{\\\"curriculum_requisites\\\":[{\\\"source_id\\\":1,\\\"target_id\\\":5,\\\"type\\\":\\\"CurriculumCorequisite\\\"}],\\\"name\\\":\\\"ENG 102IN\\\",\\\"metrics\\\":{\\\"centrality\\\":0,\\\"complexity\\\":2.0,\\\"blocking factor\\\":0,\\\"delay factor\\\":2.0},\\\"nameSub\\\":\\\"Problem-Solving and Engineering Design\\\",\\\"id\\\":5,\\\"credits\\\":3,\\\"nameCanonical\\\":\\\"Intro to Engineering\\\"},{\\\"curriculum_requisites\\\":[],\\\"name\\\":\\\" \\\",\\\"metrics\\\":{\\\"centrality\\\":0,\\\"complexity\\\":1.0,\\\"blocking factor\\\":0,\\\"delay factor\\\":1.0},\\\"nameSub\\\":\\\"AGEC-S Course\\\",\\\"id\\\":6,\\\"credits\\\":3,\\\"nameCanonical\\\":\\\"\\\"}],\\\"id\\\":1},{\\\"name\\\":\\\"Term 2\\\",\\\"curriculum_items\\\":[{\\\"curriculum_requisites\\\":[{\\\"source_id\\\":1,\\\"target_id\\\":7,\\\"type\\\":\\\"CurriculumPrerequisite\\\"}],\\\"name\\\":\\\"MAT 231\\\",\\\"metrics\\\":{\\\"centrality\\\":9,\\\"complexity\\\":6.0,\\\"blocking factor\\\":3,\\\"delay factor\\\":3.0},\\\"nameSub\\\":\\\"Calculus II\\\",\\\"id\\\":7,\\\"credits\\\":4,\\\"nameCanonical\\\":\\\"Calculus II\\\"},{\\\"curriculum_requisites\\\":[{\\\"source_id\\\":2,\\\"target_id\\\":8,\\\"type\\\":\\\"CurriculumPrerequisite\\\"},{\\\"source_id\\\":9,\\\"target_id\\\":8,\\\"type\\\":\\\"CurriculumStrictCorequisite\\\"}],\\\"name\\\":\\\"CHM 152IN\\\",\\\"metrics\\\":{\\\"centrality\\\":9,\\\"complexity\\\":7.0,\\\"blocking factor\\\":2,\\\"delay factor\\\":5.0},\\\"nameSub\\\":\\\"Gen Chemistry II\\\",\\\"id\\\":8,\\\"credits\\\":4,\\\"nameCanonical\\\":\\\"General Chemsitry II\\\"},{\\\"curriculum_requisites\\\":[],\\\"name\\\":\\\"CHM 152RC\\\",\\\"metrics\\\":{\\\"centrality\\\":0,\\\"complexity\\\":7.0,\\\"blocking factor\\\":3,\\\"delay factor\\\":4.0},\\\"nameSub\\\":\\\"Gen Chemistry II Recitation\\\",\\\"id\\\":9,\\\"credits\\\":1,\\\"nameCanonical\\\":\\\"\\\"},{\\\"curriculum_requisites\\\":[{\\\"source_id\\\":11,\\\"target_id\\\":10,\\\"type\\\":\\\"CurriculumStrictCorequisite\\\"},{\\\"source_id\\\":1,\\\"target_id\\\":10,\\\"type\\\":\\\"CurriculumPrerequisite\\\"}],\\\"name\\\":\\\"PHY 210IN\\\",\\\"metrics\\\":{\\\"centrality\\\":6,\\\"complexity\\\":4.0,\\\"blocking factor\\\":1,\\\"delay factor\\\":3.0},\\\"nameSub\\\":\\\"Intro Mechanics\\\",\\\"id\\\":10,\\\"credits\\\":4,\\\"nameCanonical\\\":\\\"\\\"},{\\\"curriculum_requisites\\\":[],\\\"name\\\":\\\"PHY 210RC\\\",\\\"metrics\\\":{\\\"centrality\\\":0,\\\"complexity\\\":5.0,\\\"blocking factor\\\":2,\\\"delay factor\\\":3.0},\\\"nameSub\\\":\\\"Intro Mechanics Recitation\\\",\\\"id\\\":11,\\\"credits\\\":1,\\\"nameCanonical\\\":\\\"\\\"},{\\\"curriculum_requisites\\\":[{\\\"source_id\\\":4,\\\"target_id\\\":12,\\\"type\\\":\\\"CurriculumPrerequisite\\\"}],\\\"name\\\":\\\"WRT 102\\\",\\\"metrics\\\":{\\\"centrality\\\":0,\\\"complexity\\\":2.0,\\\"blocking factor\\\":0,\\\"delay factor\\\":2.0},\\\"nameSub\\\":\\\" English Composition II\\\",\\\"id\\\":12,\\\"credits\\\":3,\\\"nameCanonical\\\":\\\" English Composition\\\"},{\\\"curriculum_requisites\\\":[{\\\"source_id\\\":1,\\\"target_id\\\":13,\\\"type\\\":\\\"CurriculumCorequisite\\\"}],\\\"name\\\":\\\"ENG 105IN\\\",\\\"metrics\\\":{\\\"centrality\\\":3,\\\"complexity\\\":4.0,\\\"blocking factor\\\":1,\\\"delay factor\\\":3.0},\\\"nameSub\\\":\\\"Intro to MATLAB I\\\",\\\"id\\\":13,\\\"credits\\\":1,\\\"nameCanonical\\\":\\\"\\\"}],\\\"id\\\":2},{\\\"name\\\":\\\"Term 3\\\",\\\"curriculum_items\\\":[{\\\"curriculum_requisites\\\":[],\\\"name\\\":\\\" \\\",\\\"metrics\\\":{\\\"centrality\\\":0,\\\"complexity\\\":1.0,\\\"blocking factor\\\":0,\\\"delay factor\\\":1.0},\\\"nameSub\\\":\\\"AGEC-S Course\\\",\\\"id\\\":14,\\\"credits\\\":3,\\\"nameCanonical\\\":\\\"\\\"},{\\\"curriculum_requisites\\\":[],\\\"name\\\":\\\" \\\",\\\"metrics\\\":{\\\"centrality\\\":0,\\\"complexity\\\":1.0,\\\"blocking factor\\\":0,\\\"delay factor\\\":1.0},\\\"nameSub\\\":\\\"AGEC-S Course\\\",\\\"id\\\":15,\\\"credits\\\":3,\\\"nameCanonical\\\":\\\"\\\"},{\\\"curriculum_requisites\\\":[{\\\"source_id\\\":7,\\\"target_id\\\":16,\\\"type\\\":\\\"CurriculumPrerequisite\\\"}],\\\"name\\\":\\\"MAT 241\\\",\\\"metrics\\\":{\\\"centrality\\\":0,\\\"complexity\\\":3.0,\\\"blocking factor\\\":0,\\\"delay factor\\\":3.0},\\\"nameSub\\\":\\\"Calculus III\\\",\\\"id\\\":16,\\\"credits\\\":4,\\\"nameCanonical\\\":\\\"Calculus III\\\"},{\\\"curriculum_requisites\\\":[{\\\"source_id\\\":18,\\\"target_id\\\":17,\\\"type\\\":\\\"CurriculumStrictCorequisite\\\"},{\\\"source_id\\\":8,\\\"target_id\\\":17,\\\"type\\\":\\\"CurriculumPrerequisite\\\"}],\\\"name\\\":\\\" 235IN\\\",\\\"metrics\\\":{\\\"centrality\\\":12,\\\"complexity\\\":6.0,\\\"blocking factor\\\":1,\\\"delay factor\\\":5.0},\\\"nameSub\\\":\\\"General Organic Chemistry I\\\",\\\"id\\\":17,\\\"credits\\\":4,\\\"nameCanonical\\\":\\\"Organic Chemistry I\\\"},{\\\"curriculum_requisites\\\":[],\\\"name\\\":\\\"CHM  235RC\\\",\\\"metrics\\\":{\\\"centrality\\\":0,\\\"complexity\\\":5.0,\\\"blocking factor\\\":2,\\\"delay factor\\\":3.0},\\\"nameSub\\\":\\\"General Organic Chemistry I Recitation\\\",\\\"id\\\":18,\\\"credits\\\":1,\\\"nameCanonical\\\":\\\"\\\"},{\\\"curriculum_requisites\\\":[],\\\"name\\\":\\\" \\\",\\\"metrics\\\":{\\\"centrality\\\":0,\\\"complexity\\\":1.0,\\\"blocking factor\\\":0,\\\"delay factor\\\":1.0},\\\"nameSub\\\":\\\"AGEC-S Course\\\",\\\"id\\\":19,\\\"credits\\\":3,\\\"nameCanonical\\\":\\\"\\\"}],\\\"id\\\":3},{\\\"name\\\":\\\"Term 4\\\",\\\"curriculum_items\\\":[{\\\"curriculum_requisites\\\":[],\\\"name\\\":\\\" \\\",\\\"metrics\\\":{\\\"centrality\\\":0,\\\"complexity\\\":1.0,\\\"blocking factor\\\":0,\\\"delay factor\\\":1.0},\\\"nameSub\\\":\\\"AGEC-S Course\\\",\\\"id\\\":20,\\\"credits\\\":3,\\\"nameCanonical\\\":\\\"\\\"},{\\\"curriculum_requisites\\\":[],\\\"name\\\":\\\" \\\",\\\"metrics\\\":{\\\"centrality\\\":0,\\\"complexity\\\":1.0,\\\"blocking factor\\\":0,\\\"delay factor\\\":1.0},\\\"nameSub\\\":\\\"AGEC-S Course\\\",\\\"id\\\":21,\\\"credits\\\":3,\\\"nameCanonical\\\":\\\"\\\"},{\\\"curriculum_requisites\\\":[{\\\"source_id\\\":7,\\\"target_id\\\":22,\\\"type\\\":\\\"CurriculumPrerequisite\\\"}],\\\"name\\\":\\\"MAT 262\\\",\\\"metrics\\\":{\\\"centrality\\\":0,\\\"complexity\\\":3.0,\\\"blocking factor\\\":0,\\\"delay factor\\\":3.0},\\\"nameSub\\\":\\\"Differential Equations\\\",\\\"id\\\":22,\\\"credits\\\":3,\\\"nameCanonical\\\":\\\"Differential Equations\\\"},{\\\"curriculum_requisites\\\":[{\\\"source_id\\\":7,\\\"target_id\\\":23,\\\"type\\\":\\\"CurriculumPrerequisite\\\"},{\\\"source_id\\\":10,\\\"target_id\\\":23,\\\"type\\\":\\\"CurriculumPrerequisite\\\"},{\\\"source_id\\\":24,\\\"target_id\\\":23,\\\"type\\\":\\\"CurriculumStrictCorequisite\\\"}],\\\"name\\\":\\\"PHY 216IN\\\",\\\"metrics\\\":{\\\"centrality\\\":0,\\\"complexity\\\":3.0,\\\"blocking factor\\\":0,\\\"delay factor\\\":3.0},\\\"nameSub\\\":\\\"Intro Electricity & Magnetism\\\",\\\"id\\\":23,\\\"credits\\\":4,\\\"nameCanonical\\\":\\\"\\\"},{\\\"curriculum_requisites\\\":[],\\\"name\\\":\\\"PHY 216RC\\\",\\\"metrics\\\":{\\\"centrality\\\":0,\\\"complexity\\\":3.0,\\\"blocking factor\\\":1,\\\"delay factor\\\":2.0},\\\"nameSub\\\":\\\"Intro Electricity & Magnetism\\\",\\\"id\\\":24,\\\"credits\\\":1,\\\"nameCanonical\\\":\\\"\\\"},{\\\"curriculum_requisites\\\":[{\\\"source_id\\\":26,\\\"target_id\\\":25,\\\"type\\\":\\\"CurriculumStrictCorequisite\\\"},{\\\"source_id\\\":17,\\\"target_id\\\":25,\\\"type\\\":\\\"CurriculumPrerequisite\\\"}],\\\"name\\\":\\\"CHM 236IN\\\",\\\"metrics\\\":{\\\"centrality\\\":0,\\\"complexity\\\":5.0,\\\"blocking factor\\\":0,\\\"delay factor\\\":5.0},\\\"nameSub\\\":\\\"General Organic Chemistry II\\\",\\\"id\\\":25,\\\"credits\\\":4,\\\"nameCanonical\\\":\\\"Organic Chemistry II\\\"},{\\\"curriculum_requisites\\\":[],\\\"name\\\":\\\"CHM  236RC\\\",\\\"metrics\\\":{\\\"centrality\\\":0,\\\"complexity\\\":3.0,\\\"blocking factor\\\":1,\\\"delay factor\\\":2.0},\\\"nameSub\\\":\\\"General Organic Chemistry II Recitation\\\",\\\"id\\\":26,\\\"credits\\\":1,\\\"nameCanonical\\\":\\\"\\\"},{\\\"curriculum_requisites\\\":[{\\\"source_id\\\":13,\\\"target_id\\\":27,\\\"type\\\":\\\"CurriculumPrerequisite\\\"}],\\\"name\\\":\\\"ENG 205IN\\\",\\\"metrics\\\":{\\\"centrality\\\":0,\\\"complexity\\\":3.0,\\\"blocking factor\\\":0,\\\"delay factor\\\":3.0},\\\"nameSub\\\":\\\"Intro to MATLAB II\\\",\\\"id\\\":27,\\\"credits\\\":1,\\\"nameCanonical\\\":\\\"\\\"}],\\\"id\\\":4}],\\\"institution\\\":\\\"Pima Community College\\\"}},\\\"*\\\"); window.removeEventListener(\\\"message\\\",window.messageReceived); window.messageReceived=(function (event){return (event.data.curriculum!==undefined) ? (WebIO.setval({\\\"name\\\":\\\"curriculum-data\\\",\\\"scope\\\":\\\"6887194427900010966\\\",\\\"id\\\":\\\"11522448501739129116\\\",\\\"type\\\":\\\"observable\\\"},event.data.curriculum)) : undefined}); return window.addEventListener(\\\"message\\\",window.messageReceived)})\")), :style => Dict(:padding => \"0\", :height => \"85vh\", :margin => \"0\", :border => \"none\", :width => \"100%\"))), Dict{String, Tuple{Observables.AbstractObservable, Union{Nothing, Bool}}}(\"curriculum-data\" => (Observable{Dict{String, Any}} with 1 listeners. Value:\n",
       "Dict{String, Any}(\"options\" => Dict{String, Any}(\"hideTerms\" => false, \"edit\" => false), \"curriculum\" => Dict{String, Any}(\"name\" => \"Pre-Engineering (Chemical Eng. Concentration)\", \"dp_name\" => \"2019-20 Pima Pre-Engineering\", \"curriculum_terms\" => Dict{String, Any}[Dict(\"name\" => \"Term 1\", \"curriculum_items\" => Dict{String, Any}[Dict(\"curriculum_requisites\" => Dict{String, Any}[], \"name\" => \"MAT 220\", \"metrics\" => Dict{String, Any}(\"centrality\" => 0, \"complexity\" => 11.0, \"blocking factor\" => 8, \"delay factor\" => 3.0), \"nameSub\" => \"Calculus I\", \"id\" => 1, \"credits\" => 5, \"nameCanonical\" => \"Calculus I\"), Dict(\"curriculum_requisites\" => Dict{String, Any}[Dict(\"source_id\" => 3, \"target_id\" => 2, \"type\" => \"CurriculumStrictCorequisite\")], \"name\" => \"CHM 151IN\", \"metrics\" => Dict{String, Any}(\"centrality\" => 5, \"complexity\" => 8.0, \"blocking factor\" => 3, \"delay factor\" => 5.0), \"nameSub\" => \"Gen Chemistry I\", \"id\" => 2, \"credits\" => 4, \"nameCanonical\" => \"General Chemsitry I\"), Dict(\"curriculum_requisites\" => Dict{String, Any}[], \"name\" => \"CHM 151RC\", \"metrics\" => Dict{String, Any}(\"centrality\" => 0, \"complexity\" => 9.0, \"blocking factor\" => 4, \"delay factor\" => 5.0), \"nameSub\" => \"Gen Chemistry I Recitation\", \"id\" => 3, \"credits\" => 1, \"nameCanonical\" => \"\"), Dict(\"curriculum_requisites\" => Dict{String, Any}[], \"name\" => \"WRT 101\", \"metrics\" => Dict{String, Any}(\"centrality\" => 0, \"complexity\" => 3.0, \"blocking factor\" => 1, \"delay factor\" => 2.0), \"nameSub\" => \"English Composition I\", \"id\" => 4, \"credits\" => 3, \"nameCanonical\" => \"English Composition I\"), Dict(\"curriculum_requisites\" => Dict{String, Any}[Dict(\"source_id\" => 1, \"target_id\" => 5, \"type\" => \"CurriculumCorequisite\")], \"name\" => \"ENG 102IN\", \"metrics\" => Dict{String, Any}(\"centrality\" => 0, \"complexity\" => 2.0, \"blocking factor\" => 0, \"delay factor\" => 2.0), \"nameSub\" => \"Problem-Solving and Engineering Design\", \"id\" => 5, \"credits\" => 3, \"nameCanonical\" => \"Intro to Engineering\"), Dict(\"curriculum_requisites\" => Dict{String, Any}[], \"name\" => \" \", \"metrics\" => Dict{String, Any}(\"centrality\" => 0, \"complexity\" => 1.0, \"blocking factor\" => 0, \"delay factor\" => 1.0), \"nameSub\" => \"AGEC-S Course\", \"id\" => 6, \"credits\" => 3, \"nameCanonical\" => \"\")], \"id\" => 1), Dict(\"name\" => \"Term 2\", \"curriculum_items\" => Dict{String, Any}[Dict(\"curriculum_requisites\" => Dict{String, Any}[Dict(\"source_id\" => 1, \"target_id\" => 7, \"type\" => \"CurriculumPrerequisite\")], \"name\" => \"MAT 231\", \"metrics\" => Dict{String, Any}(\"centrality\" => 9, \"complexity\" => 6.0, \"blocking factor\" => 3, \"delay factor\" => 3.0), \"nameSub\" => \"Calculus II\", \"id\" => 7, \"credits\" => 4, \"nameCanonical\" => \"Calculus II\"), Dict(\"curriculum_requisites\" => Dict{String, Any}[Dict(\"source_id\" => 2, \"target_id\" => 8, \"type\" => \"CurriculumPrerequisite\"), Dict(\"source_id\" => 9, \"target_id\" => 8, \"type\" => \"CurriculumStrictCorequisite\")], \"name\" => \"CHM 152IN\", \"metrics\" => Dict{String, Any}(\"centrality\" => 9, \"complexity\" => 7.0, \"blocking factor\" => 2, \"delay factor\" => 5.0), \"nameSub\" => \"Gen Chemistry II\", \"id\" => 8, \"credits\" => 4, \"nameCanonical\" => \"General Chemsitry II\"), Dict(\"curriculum_requisites\" => Dict{String, Any}[], \"name\" => \"CHM 152RC\", \"metrics\" => Dict{String, Any}(\"centrality\" => 0, \"complexity\" => 7.0, \"blocking factor\" => 3, \"delay factor\" => 4.0), \"nameSub\" => \"Gen Chemistry II Recitation\", \"id\" => 9, \"credits\" => 1, \"nameCanonical\" => \"\"), Dict(\"curriculum_requisites\" => Dict{String, Any}[Dict(\"source_id\" => 11, \"target_id\" => 10, \"type\" => \"CurriculumStrictCorequisite\"), Dict(\"source_id\" => 1, \"target_id\" => 10, \"type\" => \"CurriculumPrerequisite\")], \"name\" => \"PHY 210IN\", \"metrics\" => Dict{String, Any}(\"centrality\" => 6, \"complexity\" => 4.0, \"blocking factor\" => 1, \"delay factor\" => 3.0), \"nameSub\" => \"Intro Mechanics\", \"id\" => 10, \"credits\" => 4, \"nameCanonical\" => \"\"), Dict(\"curriculum_requisites\" => Dict{String, Any}[], \"name\" => \"PHY 210RC\", \"metrics\" => Dict{String, Any}(\"centrality\" => 0, \"complexity\" => 5.0, \"blocking factor\" => 2, \"delay factor\" => 3.0), \"nameSub\" => \"Intro Mechanics Recitation\", \"id\" => 11, \"credits\" => 1, \"nameCanonical\" => \"\"), Dict(\"curriculum_requisites\" => Dict{String, Any}[Dict(\"source_id\" => 4, \"target_id\" => 12, \"type\" => \"CurriculumPrerequisite\")], \"name\" => \"WRT 102\", \"metrics\" => Dict{String, Any}(\"centrality\" => 0, \"complexity\" => 2.0, \"blocking factor\" => 0, \"delay factor\" => 2.0), \"nameSub\" => \" English Composition II\", \"id\" => 12, \"credits\" => 3, \"nameCanonical\" => \" English Composition\"), Dict(\"curriculum_requisites\" => Dict{String, Any}[Dict(\"source_id\" => 1, \"target_id\" => 13, \"type\" => \"CurriculumCorequisite\")], \"name\" => \"ENG 105IN\", \"metrics\" => Dict{String, Any}(\"centrality\" => 3, \"complexity\" => 4.0, \"blocking factor\" => 1, \"delay factor\" => 3.0), \"nameSub\" => \"Intro to MATLAB I\", \"id\" => 13, \"credits\" => 1, \"nameCanonical\" => \"\")], \"id\" => 2), Dict(\"name\" => \"Term 3\", \"curriculum_items\" => Dict{String, Any}[Dict(\"curriculum_requisites\" => Dict{String, Any}[], \"name\" => \" \", \"metrics\" => Dict{String, Any}(\"centrality\" => 0, \"complexity\" => 1.0, \"blocking factor\" => 0, \"delay factor\" => 1.0), \"nameSub\" => \"AGEC-S Course\", \"id\" => 14, \"credits\" => 3, \"nameCanonical\" => \"\"), Dict(\"curriculum_requisites\" => Dict{String, Any}[], \"name\" => \" \", \"metrics\" => Dict{String, Any}(\"centrality\" => 0, \"complexity\" => 1.0, \"blocking factor\" => 0, \"delay factor\" => 1.0), \"nameSub\" => \"AGEC-S Course\", \"id\" => 15, \"credits\" => 3, \"nameCanonical\" => \"\"), Dict(\"curriculum_requisites\" => Dict{String, Any}[Dict(\"source_id\" => 7, \"target_id\" => 16, \"type\" => \"CurriculumPrerequisite\")], \"name\" => \"MAT 241\", \"metrics\" => Dict{String, Any}(\"centrality\" => 0, \"complexity\" => 3.0, \"blocking factor\" => 0, \"delay factor\" => 3.0), \"nameSub\" => \"Calculus III\", \"id\" => 16, \"credits\" => 4, \"nameCanonical\" => \"Calculus III\"), Dict(\"curriculum_requisites\" => Dict{String, Any}[Dict(\"source_id\" => 18, \"target_id\" => 17, \"type\" => \"CurriculumStrictCorequisite\"), Dict(\"source_id\" => 8, \"target_id\" => 17, \"type\" => \"CurriculumPrerequisite\")], \"name\" => \" 235IN\", \"metrics\" => Dict{String, Any}(\"centrality\" => 12, \"complexity\" => 6.0, \"blocking factor\" => 1, \"delay factor\" => 5.0), \"nameSub\" => \"General Organic Chemistry I\", \"id\" => 17, \"credits\" => 4, \"nameCanonical\" => \"Organic Chemistry I\"), Dict(\"curriculum_requisites\" => Dict{String, Any}[], \"name\" => \"CHM  235RC\", \"metrics\" => Dict{String, Any}(\"centrality\" => 0, \"complexity\" => 5.0, \"blocking factor\" => 2, \"delay factor\" => 3.0), \"nameSub\" => \"General Organic Chemistry I Recitation\", \"id\" => 18, \"credits\" => 1, \"nameCanonical\" => \"\"), Dict(\"curriculum_requisites\" => Dict{String, Any}[], \"name\" => \" \", \"metrics\" => Dict{String, Any}(\"centrality\" => 0, \"complexity\" => 1.0, \"blocking factor\" => 0, \"delay factor\" => 1.0), \"nameSub\" => \"AGEC-S Course\", \"id\" => 19, \"credits\" => 3, \"nameCanonical\" => \"\")], \"id\" => 3), Dict(\"name\" => \"Term 4\", \"curriculum_items\" => Dict{String, Any}[Dict(\"curriculum_requisites\" => Dict{String, Any}[], \"name\" => \" \", \"metrics\" => Dict{String, Any}(\"centrality\" => 0, \"complexity\" => 1.0, \"blocking factor\" => 0, \"delay factor\" => 1.0), \"nameSub\" => \"AGEC-S Course\", \"id\" => 20, \"credits\" => 3, \"nameCanonical\" => \"\"), Dict(\"curriculum_requisites\" => Dict{String, Any}[], \"name\" => \" \", \"metrics\" => Dict{String, Any}(\"centrality\" => 0, \"complexity\" => 1.0, \"blocking factor\" => 0, \"delay factor\" => 1.0), \"nameSub\" => \"AGEC-S Course\", \"id\" => 21, \"credits\" => 3, \"nameCanonical\" => \"\"), Dict(\"curriculum_requisites\" => Dict{String, Any}[Dict(\"source_id\" => 7, \"target_id\" => 22, \"type\" => \"CurriculumPrerequisite\")], \"name\" => \"MAT 262\", \"metrics\" => Dict{String, Any}(\"centrality\" => 0, \"complexity\" => 3.0, \"blocking factor\" => 0, \"delay factor\" => 3.0), \"nameSub\" => \"Differential Equations\", \"id\" => 22, \"credits\" => 3, \"nameCanonical\" => \"Differential Equations\"), Dict(\"curriculum_requisites\" => Dict{String, Any}[Dict(\"source_id\" => 7, \"target_id\" => 23, \"type\" => \"CurriculumPrerequisite\"), Dict(\"source_id\" => 10, \"target_id\" => 23, \"type\" => \"CurriculumPrerequisite\"), Dict(\"source_id\" => 24, \"target_id\" => 23, \"type\" => \"CurriculumStrictCorequisite\")], \"name\" => \"PHY 216IN\", \"metrics\" => Dict{String, Any}(\"centrality\" => 0, \"complexity\" => 3.0, \"blocking factor\" => 0, \"delay factor\" => 3.0), \"nameSub\" => \"Intro Electricity & Magnetism\", \"id\" => 23, \"credits\" => 4, \"nameCanonical\" => \"\"), Dict(\"curriculum_requisites\" => Dict{String, Any}[], \"name\" => \"PHY 216RC\", \"metrics\" => Dict{String, Any}(\"centrality\" => 0, \"complexity\" => 3.0, \"blocking factor\" => 1, \"delay factor\" => 2.0), \"nameSub\" => \"Intro Electricity & Magnetism\", \"id\" => 24, \"credits\" => 1, \"nameCanonical\" => \"\"), Dict(\"curriculum_requisites\" => Dict{String, Any}[Dict(\"source_id\" => 26, \"target_id\" => 25, \"type\" => \"CurriculumStrictCorequisite\"), Dict(\"source_id\" => 17, \"target_id\" => 25, \"type\" => \"CurriculumPrerequisite\")], \"name\" => \"CHM 236IN\", \"metrics\" => Dict{String, Any}(\"centrality\" => 0, \"complexity\" => 5.0, \"blocking factor\" => 0, \"delay factor\" => 5.0), \"nameSub\" => \"General Organic Chemistry II\", \"id\" => 25, \"credits\" => 4, \"nameCanonical\" => \"Organic Chemistry II\"), Dict(\"curriculum_requisites\" => Dict{String, Any}[], \"name\" => \"CHM  236RC\", \"metrics\" => Dict{String, Any}(\"centrality\" => 0, \"complexity\" => 3.0, \"blocking factor\" => 1, \"delay factor\" => 2.0), \"nameSub\" => \"General Organic Chemistry II Recitation\", \"id\" => 26, \"credits\" => 1, \"nameCanonical\" => \"\"), Dict(\"curriculum_requisites\" => Dict{String, Any}[Dict(\"source_id\" => 13, \"target_id\" => 27, \"type\" => \"CurriculumPrerequisite\")], \"name\" => \"ENG 205IN\", \"metrics\" => Dict{String, Any}(\"centrality\" => 0, \"complexity\" => 3.0, \"blocking factor\" => 0, \"delay factor\" => 3.0), \"nameSub\" => \"Intro to MATLAB II\", \"id\" => 27, \"credits\" => 1, \"nameCanonical\" => \"\")], \"id\" => 4)], \"institution\" => \"Pima Community College\")), nothing)), Set{String}(), nothing, WebIO.Asset[], Dict{Any, Any}(), WebIO.ConnectionPool(Channel{Any}(32), Set{WebIO.AbstractConnection}(), Condition(Base.InvasiveLinkedList{Task}(Task (runnable) @0x0000000120294230, Task (runnable) @0x0000000120294230), Base.AlwaysLockedST(1))), WebIO.JSString[])"
      ]
     },
     "execution_count": 10,
     "metadata": {
      "application/vnd.webio.node+json": {
       "kernelId": "db1b1680-64da-4c66-8e01-17152a4bb28b"
      }
     },
     "output_type": "execute_result"
    }
   ],
   "source": [
    "PreEng = read_csv(\"./programs/Pima-PreEng.csv\")\n",
    "visualize(PreEng, notebook=true, scale=0.85)"
   ]
  },
  {
   "cell_type": "code",
   "execution_count": 11,
   "metadata": {},
   "outputs": [
    {
     "data": {
      "text/plain": [
       "true"
      ]
     },
     "execution_count": 11,
     "metadata": {},
     "output_type": "execute_result"
    }
   ],
   "source": [
    "isvalid_curriculum(PreEng.curriculum)"
   ]
  },
  {
   "cell_type": "code",
   "execution_count": 12,
   "metadata": {},
   "outputs": [
    {
     "name": "stdout",
     "output_type": "stream",
     "text": [
      "\n",
      "Pima Community College \n",
      "Curriculum: Pre-Engineering (Chemical Eng. Concentration)\n",
      "  credit hours = 75\n",
      "  number of courses = 27\n",
      "  Blocking Factor --\n",
      "    entire curriculum = 33\n",
      "    max. value = 8, for course(s): MAT 220 - Calculus I\n",
      "  Centrality --\n",
      "    entire curriculum = 44\n",
      "    max. value = 12, for course(s): 235IN - General Organic Chemistry I\n",
      "  Delay Factor --\n",
      "    entire curriculum = 75.0\n",
      "    max. value = 5.0, for course(s): CHM 151IN - Gen Chemistry I, CHM 151RC - Gen Chemistry I Recitation, CHM 152IN - Gen Chemistry II, 235IN - General Organic Chemistry I, CHM 236IN - General Organic Chemistry II\n",
      "  Complexity --\n",
      "    entire curriculum = 108.0\n",
      "    max. value = 11.0, for course(s): MAT 220 - Calculus I\n",
      "  Longest Path(s) --\n",
      "    length = 5, number of paths = 1\n",
      "    path(s):\n",
      "    path 1 = CHM 151RC - Gen Chemistry I Recitation -> CHM 151IN - Gen Chemistry I -> CHM 152IN - Gen Chemistry II -> 235IN - General Organic Chemistry I -> CHM 236IN - General Organic Chemistry II\n",
      "\n"
     ]
    }
   ],
   "source": [
    "PreEng_metrics = basic_metrics(PreEng.curriculum)\n",
    "println(String(take!(PreEng_metrics)))"
   ]
  },
  {
   "cell_type": "code",
   "execution_count": 13,
   "metadata": {},
   "outputs": [
    {
     "name": "stdout",
     "output_type": "stream",
     "text": [
      "\n",
      "University of Arizona \n",
      "Curriculum: Chemical Engineering\n",
      "  credit hours = 138\n",
      "  number of courses = 51\n",
      "  Blocking Factor --\n",
      "    entire curriculum = 315\n",
      "    max. value = 26, for course(s): MAT 220 - Calculus I\n",
      "  Centrality --\n",
      "    entire curriculum = 10564\n",
      "    max. value = 1278, for course(s): CHEE 301B - Chem Eng Lab II\n",
      "  Delay Factor --\n",
      "    entire curriculum = 327.0\n",
      "    max. value = 10.0, for course(s): MAT 220 - Calculus I, CHM 151IN - Gen Chemistry I, CHM 151RC - Gen Chemistry I Recitation, CHM 152IN - Gen Chemistry II, ENG 105IN - Intro to MATLAB I, ENG 205IN - Intro to MATLAB II, CHEE 201 - Elements of Chem and Envirn Eng I, CHEE 202 - Elements of Chem Eng II, CHEE 203 - Chem Eng Heat Xfer & Fluid Flow, CHEE 303 - Chem Eng Mass Xfer, CHEE 402 - Chem Eng Modeling, CHEE 301A - Chem Eng Lab I, CHEE 305 - Chem Eng Transport Phenom, CHEE 301B - Chem Eng Lab II, CHEE 401A - Chem and Enviorn Eng Lab I, CHEE 401B - Process Dynamics and Control Lab\n",
      "  Complexity --\n",
      "    entire curriculum = 642.0\n",
      "    max. value = 36.0, for course(s): MAT 220 - Calculus I\n",
      "  Longest Path(s) --\n",
      "    length = 10, number of paths = 8\n",
      "    path(s):\n",
      "    path 1 = CHM 151RC - Gen Chemistry I Recitation -> CHM 151IN - Gen Chemistry I -> CHM 152IN - Gen Chemistry II -> CHEE 201 - Elements of Chem and Envirn Eng I -> CHEE 203 - Chem Eng Heat Xfer & Fluid Flow -> CHEE 303 - Chem Eng Mass Xfer -> CHEE 305 - Chem Eng Transport Phenom -> CHEE 301A - Chem Eng Lab I -> CHEE 301B - Chem Eng Lab II -> CHEE 401A - Chem and Enviorn Eng Lab I\n",
      "    path 2 = MAT 220 - Calculus I -> ENG 105IN - Intro to MATLAB I -> ENG 205IN - Intro to MATLAB II -> CHEE 201 - Elements of Chem and Envirn Eng I -> CHEE 203 - Chem Eng Heat Xfer & Fluid Flow -> CHEE 303 - Chem Eng Mass Xfer -> CHEE 305 - Chem Eng Transport Phenom -> CHEE 301A - Chem Eng Lab I -> CHEE 301B - Chem Eng Lab II -> CHEE 401A - Chem and Enviorn Eng Lab I\n",
      "    path 3 = CHM 151RC - Gen Chemistry I Recitation -> CHM 151IN - Gen Chemistry I -> CHM 152IN - Gen Chemistry II -> CHEE 201 - Elements of Chem and Envirn Eng I -> CHEE 202 - Elements of Chem Eng II -> CHEE 402 - Chem Eng Modeling -> CHEE 305 - Chem Eng Transport Phenom -> CHEE 301A - Chem Eng Lab I -> CHEE 301B - Chem Eng Lab II -> CHEE 401A - Chem and Enviorn Eng Lab I\n",
      "    path 4 = MAT 220 - Calculus I -> ENG 105IN - Intro to MATLAB I -> ENG 205IN - Intro to MATLAB II -> CHEE 201 - Elements of Chem and Envirn Eng I -> CHEE 202 - Elements of Chem Eng II -> CHEE 402 - Chem Eng Modeling -> CHEE 305 - Chem Eng Transport Phenom -> CHEE 301A - Chem Eng Lab I -> CHEE 301B - Chem Eng Lab II -> CHEE 401A - Chem and Enviorn Eng Lab I\n",
      "    path 5 = CHM 151RC - Gen Chemistry I Recitation -> CHM 151IN - Gen Chemistry I -> CHM 152IN - Gen Chemistry II -> CHEE 201 - Elements of Chem and Envirn Eng I -> CHEE 203 - Chem Eng Heat Xfer & Fluid Flow -> CHEE 303 - Chem Eng Mass Xfer -> CHEE 305 - Chem Eng Transport Phenom -> CHEE 301A - Chem Eng Lab I -> CHEE 301B - Chem Eng Lab II -> CHEE 401B - Process Dynamics and Control Lab\n",
      "    path 6 = MAT 220 - Calculus I -> ENG 105IN - Intro to MATLAB I -> ENG 205IN - Intro to MATLAB II -> CHEE 201 - Elements of Chem and Envirn Eng I -> CHEE 203 - Chem Eng Heat Xfer & Fluid Flow -> CHEE 303 - Chem Eng Mass Xfer -> CHEE 305 - Chem Eng Transport Phenom -> CHEE 301A - Chem Eng Lab I -> CHEE 301B - Chem Eng Lab II -> CHEE 401B - Process Dynamics and Control Lab\n",
      "    path 7 = CHM 151RC - Gen Chemistry I Recitation -> CHM 151IN - Gen Chemistry I -> CHM 152IN - Gen Chemistry II -> CHEE 201 - Elements of Chem and Envirn Eng I -> CHEE 202 - Elements of Chem Eng II -> CHEE 402 - Chem Eng Modeling -> CHEE 305 - Chem Eng Transport Phenom -> CHEE 301A - Chem Eng Lab I -> CHEE 301B - Chem Eng Lab II -> CHEE 401B - Process Dynamics and Control Lab\n",
      "    path 8 = MAT 220 - Calculus I -> ENG 105IN - Intro to MATLAB I -> ENG 205IN - Intro to MATLAB II -> CHEE 201 - Elements of Chem and Envirn Eng I -> CHEE 202 - Elements of Chem Eng II -> CHEE 402 - Chem Eng Modeling -> CHEE 305 - Chem Eng Transport Phenom -> CHEE 301A - Chem Eng Lab I -> CHEE 301B - Chem Eng Lab II -> CHEE 401B - Process Dynamics and Control Lab\n",
      "\n"
     ]
    }
   ],
   "source": [
    "ChemE_xfer_curric_metrics = basic_metrics(ChemE_xfer.curriculum)\n",
    "println(String(take!(ChemE_xfer_curric_metrics)))"
   ]
  },
  {
   "cell_type": "code",
   "execution_count": 14,
   "metadata": {},
   "outputs": [
    {
     "name": "stdout",
     "output_type": "stream",
     "text": [
      "\n",
      "Curriculum: Chemical Engineering\n",
      "Degree Plan: 2019-20 Pima to UA Transfer Degree Plan\n",
      "  total credit hours = 138\n",
      "  number of terms = 10\n",
      "  max. credits in a term = 20, in term 4\n",
      "  min. credits in a term = 5, in term 10\n",
      "  avg. credits per term = 13.8, with std. dev. = 5.035871324805669\n",
      "\n"
     ]
    }
   ],
   "source": [
    "ChemE_xfer_dp_metrics = basic_metrics(ChemE_xfer)\n",
    "println(String(take!(ChemE_xfer_dp_metrics)))"
   ]
  },
  {
   "cell_type": "markdown",
   "metadata": {},
   "source": [
    "### Term-by-term Complexity Accumulation\n",
    "Below we consider how curricular complexity accumulates on a term-by-term basis for both non-transfer and transfer degree pathways. Courses having higher complexity are more important to complete earlier in any degree plan, as courses with high curricular complexity tend to be the most crucial courses in a curriculum. Thus, delaying the completion of high complexity courses can lead to a delay in graduation. The reason this is important to look at is because we have found that in some transfer degree plans, high complexity courses are pushed into latter terms, while student focus on completing general education core requirements. "
   ]
  },
  {
   "cell_type": "code",
   "execution_count": 15,
   "metadata": {},
   "outputs": [],
   "source": [
    "ChemE_complexity = complexity(ChemE.curriculum)\n",
    "ChemE_xfer_complexity = complexity(ChemE_xfer.curriculum)\n",
    "term_complexity = [0]; term_complexity_xfer = [0] \n",
    "sum = 0; sum_xfer = 0\n",
    "for term in ChemE.terms\n",
    "    for c in term.courses\n",
    "        sum += c.metrics[\"complexity\"]\n",
    "    end\n",
    "    push!(term_complexity,sum)\n",
    "end \n",
    "for term in ChemE_xfer.terms\n",
    "    for c in term.courses\n",
    "        sum_xfer += c.metrics[\"complexity\"]\n",
    "    end\n",
    "    push!(term_complexity_xfer,sum_xfer)\n",
    "end"
   ]
  },
  {
   "cell_type": "code",
   "execution_count": 16,
   "metadata": {},
   "outputs": [
    {
     "data": {
      "image/svg+xml": [
       "<?xml version=\"1.0\" encoding=\"utf-8\"?>\n",
       "<svg xmlns=\"http://www.w3.org/2000/svg\" xmlns:xlink=\"http://www.w3.org/1999/xlink\" width=\"600\" height=\"400\" viewBox=\"0 0 2400 1600\">\n",
       "<defs>\n",
       "  <clipPath id=\"clip660\">\n",
       "    <rect x=\"0\" y=\"0\" width=\"2400\" height=\"1600\"/>\n",
       "  </clipPath>\n",
       "</defs>\n",
       "<path clip-path=\"url(#clip660)\" d=\"\n",
       "M0 1600 L2400 1600 L2400 0 L0 0  Z\n",
       "  \" fill=\"#ffffff\" fill-rule=\"evenodd\" fill-opacity=\"1\"/>\n",
       "<defs>\n",
       "  <clipPath id=\"clip661\">\n",
       "    <rect x=\"480\" y=\"0\" width=\"1681\" height=\"1600\"/>\n",
       "  </clipPath>\n",
       "</defs>\n",
       "<path clip-path=\"url(#clip660)\" d=\"\n",
       "M235.283 1423.18 L2352.76 1423.18 L2352.76 123.472 L235.283 123.472  Z\n",
       "  \" fill=\"#ffffff\" fill-rule=\"evenodd\" fill-opacity=\"1\"/>\n",
       "<defs>\n",
       "  <clipPath id=\"clip662\">\n",
       "    <rect x=\"235\" y=\"123\" width=\"2118\" height=\"1301\"/>\n",
       "  </clipPath>\n",
       "</defs>\n",
       "<polyline clip-path=\"url(#clip662)\" style=\"stroke:#000000; stroke-linecap:butt; stroke-linejoin:round; stroke-width:2; stroke-opacity:0.1; fill:none\" points=\"\n",
       "  494.973,1423.18 494.973,123.472 \n",
       "  \"/>\n",
       "<polyline clip-path=\"url(#clip662)\" style=\"stroke:#000000; stroke-linecap:butt; stroke-linejoin:round; stroke-width:2; stroke-opacity:0.1; fill:none\" points=\"\n",
       "  694.735,1423.18 694.735,123.472 \n",
       "  \"/>\n",
       "<polyline clip-path=\"url(#clip662)\" style=\"stroke:#000000; stroke-linecap:butt; stroke-linejoin:round; stroke-width:2; stroke-opacity:0.1; fill:none\" points=\"\n",
       "  894.496,1423.18 894.496,123.472 \n",
       "  \"/>\n",
       "<polyline clip-path=\"url(#clip662)\" style=\"stroke:#000000; stroke-linecap:butt; stroke-linejoin:round; stroke-width:2; stroke-opacity:0.1; fill:none\" points=\"\n",
       "  1094.26,1423.18 1094.26,123.472 \n",
       "  \"/>\n",
       "<polyline clip-path=\"url(#clip662)\" style=\"stroke:#000000; stroke-linecap:butt; stroke-linejoin:round; stroke-width:2; stroke-opacity:0.1; fill:none\" points=\"\n",
       "  1294.02,1423.18 1294.02,123.472 \n",
       "  \"/>\n",
       "<polyline clip-path=\"url(#clip662)\" style=\"stroke:#000000; stroke-linecap:butt; stroke-linejoin:round; stroke-width:2; stroke-opacity:0.1; fill:none\" points=\"\n",
       "  1493.78,1423.18 1493.78,123.472 \n",
       "  \"/>\n",
       "<polyline clip-path=\"url(#clip662)\" style=\"stroke:#000000; stroke-linecap:butt; stroke-linejoin:round; stroke-width:2; stroke-opacity:0.1; fill:none\" points=\"\n",
       "  1693.54,1423.18 1693.54,123.472 \n",
       "  \"/>\n",
       "<polyline clip-path=\"url(#clip662)\" style=\"stroke:#000000; stroke-linecap:butt; stroke-linejoin:round; stroke-width:2; stroke-opacity:0.1; fill:none\" points=\"\n",
       "  1893.3,1423.18 1893.3,123.472 \n",
       "  \"/>\n",
       "<polyline clip-path=\"url(#clip662)\" style=\"stroke:#000000; stroke-linecap:butt; stroke-linejoin:round; stroke-width:2; stroke-opacity:0.1; fill:none\" points=\"\n",
       "  2093.07,1423.18 2093.07,123.472 \n",
       "  \"/>\n",
       "<polyline clip-path=\"url(#clip662)\" style=\"stroke:#000000; stroke-linecap:butt; stroke-linejoin:round; stroke-width:2; stroke-opacity:0.1; fill:none\" points=\"\n",
       "  2292.83,1423.18 2292.83,123.472 \n",
       "  \"/>\n",
       "<polyline clip-path=\"url(#clip660)\" style=\"stroke:#000000; stroke-linecap:butt; stroke-linejoin:round; stroke-width:4; stroke-opacity:1; fill:none\" points=\"\n",
       "  235.283,1423.18 2352.76,1423.18 \n",
       "  \"/>\n",
       "<polyline clip-path=\"url(#clip660)\" style=\"stroke:#000000; stroke-linecap:butt; stroke-linejoin:round; stroke-width:4; stroke-opacity:1; fill:none\" points=\"\n",
       "  494.973,1423.18 494.973,1404.28 \n",
       "  \"/>\n",
       "<polyline clip-path=\"url(#clip660)\" style=\"stroke:#000000; stroke-linecap:butt; stroke-linejoin:round; stroke-width:4; stroke-opacity:1; fill:none\" points=\"\n",
       "  694.735,1423.18 694.735,1404.28 \n",
       "  \"/>\n",
       "<polyline clip-path=\"url(#clip660)\" style=\"stroke:#000000; stroke-linecap:butt; stroke-linejoin:round; stroke-width:4; stroke-opacity:1; fill:none\" points=\"\n",
       "  894.496,1423.18 894.496,1404.28 \n",
       "  \"/>\n",
       "<polyline clip-path=\"url(#clip660)\" style=\"stroke:#000000; stroke-linecap:butt; stroke-linejoin:round; stroke-width:4; stroke-opacity:1; fill:none\" points=\"\n",
       "  1094.26,1423.18 1094.26,1404.28 \n",
       "  \"/>\n",
       "<polyline clip-path=\"url(#clip660)\" style=\"stroke:#000000; stroke-linecap:butt; stroke-linejoin:round; stroke-width:4; stroke-opacity:1; fill:none\" points=\"\n",
       "  1294.02,1423.18 1294.02,1404.28 \n",
       "  \"/>\n",
       "<polyline clip-path=\"url(#clip660)\" style=\"stroke:#000000; stroke-linecap:butt; stroke-linejoin:round; stroke-width:4; stroke-opacity:1; fill:none\" points=\"\n",
       "  1493.78,1423.18 1493.78,1404.28 \n",
       "  \"/>\n",
       "<polyline clip-path=\"url(#clip660)\" style=\"stroke:#000000; stroke-linecap:butt; stroke-linejoin:round; stroke-width:4; stroke-opacity:1; fill:none\" points=\"\n",
       "  1693.54,1423.18 1693.54,1404.28 \n",
       "  \"/>\n",
       "<polyline clip-path=\"url(#clip660)\" style=\"stroke:#000000; stroke-linecap:butt; stroke-linejoin:round; stroke-width:4; stroke-opacity:1; fill:none\" points=\"\n",
       "  1893.3,1423.18 1893.3,1404.28 \n",
       "  \"/>\n",
       "<polyline clip-path=\"url(#clip660)\" style=\"stroke:#000000; stroke-linecap:butt; stroke-linejoin:round; stroke-width:4; stroke-opacity:1; fill:none\" points=\"\n",
       "  2093.07,1423.18 2093.07,1404.28 \n",
       "  \"/>\n",
       "<polyline clip-path=\"url(#clip660)\" style=\"stroke:#000000; stroke-linecap:butt; stroke-linejoin:round; stroke-width:4; stroke-opacity:1; fill:none\" points=\"\n",
       "  2292.83,1423.18 2292.83,1404.28 \n",
       "  \"/>\n",
       "<path clip-path=\"url(#clip660)\" d=\"M485.355 1481.64 L492.994 1481.64 L492.994 1455.28 L484.684 1456.95 L484.684 1452.69 L492.947 1451.02 L497.623 1451.02 L497.623 1481.64 L505.262 1481.64 L505.262 1485.58 L485.355 1485.58 L485.355 1481.64 Z\" fill=\"#000000\" fill-rule=\"evenodd\" fill-opacity=\"1\" /><path clip-path=\"url(#clip660)\" d=\"M689.387 1481.64 L705.707 1481.64 L705.707 1485.58 L683.762 1485.58 L683.762 1481.64 Q686.424 1478.89 691.008 1474.26 Q695.614 1469.61 696.795 1468.27 Q699.04 1465.74 699.92 1464.01 Q700.822 1462.25 700.822 1460.56 Q700.822 1457.8 698.878 1456.07 Q696.957 1454.33 693.855 1454.33 Q691.656 1454.33 689.202 1455.09 Q686.772 1455.86 683.994 1457.41 L683.994 1452.69 Q686.818 1451.55 689.272 1450.97 Q691.725 1450.39 693.762 1450.39 Q699.133 1450.39 702.327 1453.08 Q705.522 1455.77 705.522 1460.26 Q705.522 1462.39 704.711 1464.31 Q703.924 1466.2 701.818 1468.8 Q701.239 1469.47 698.137 1472.69 Q695.035 1475.88 689.387 1481.64 Z\" fill=\"#000000\" fill-rule=\"evenodd\" fill-opacity=\"1\" /><path clip-path=\"url(#clip660)\" d=\"M898.744 1466.95 Q902.1 1467.66 903.975 1469.93 Q905.873 1472.2 905.873 1475.53 Q905.873 1480.65 902.355 1483.45 Q898.836 1486.25 892.355 1486.25 Q890.179 1486.25 887.864 1485.81 Q885.573 1485.39 883.119 1484.54 L883.119 1480.02 Q885.063 1481.16 887.378 1481.74 Q889.693 1482.32 892.216 1482.32 Q896.614 1482.32 898.906 1480.58 Q901.221 1478.84 901.221 1475.53 Q901.221 1472.48 899.068 1470.77 Q896.938 1469.03 893.119 1469.03 L889.091 1469.03 L889.091 1465.19 L893.304 1465.19 Q896.753 1465.19 898.582 1463.82 Q900.41 1462.43 900.41 1459.84 Q900.41 1457.18 898.512 1455.77 Q896.637 1454.33 893.119 1454.33 Q891.198 1454.33 888.999 1454.75 Q886.799 1455.16 884.161 1456.04 L884.161 1451.88 Q886.823 1451.14 889.137 1450.77 Q891.475 1450.39 893.536 1450.39 Q898.86 1450.39 901.961 1452.83 Q905.063 1455.23 905.063 1459.35 Q905.063 1462.22 903.42 1464.21 Q901.776 1466.18 898.744 1466.95 Z\" fill=\"#000000\" fill-rule=\"evenodd\" fill-opacity=\"1\" /><path clip-path=\"url(#clip660)\" d=\"M1097.27 1455.09 L1085.46 1473.54 L1097.27 1473.54 L1097.27 1455.09 M1096.04 1451.02 L1101.92 1451.02 L1101.92 1473.54 L1106.85 1473.54 L1106.85 1477.43 L1101.92 1477.43 L1101.92 1485.58 L1097.27 1485.58 L1097.27 1477.43 L1081.67 1477.43 L1081.67 1472.92 L1096.04 1451.02 Z\" fill=\"#000000\" fill-rule=\"evenodd\" fill-opacity=\"1\" /><path clip-path=\"url(#clip660)\" d=\"M1284.3 1451.02 L1302.65 1451.02 L1302.65 1454.96 L1288.58 1454.96 L1288.58 1463.43 Q1289.6 1463.08 1290.62 1462.92 Q1291.64 1462.73 1292.65 1462.73 Q1298.44 1462.73 1301.82 1465.9 Q1305.2 1469.08 1305.2 1474.49 Q1305.2 1480.07 1301.73 1483.17 Q1298.26 1486.25 1291.94 1486.25 Q1289.76 1486.25 1287.49 1485.88 Q1285.25 1485.51 1282.84 1484.77 L1282.84 1480.07 Q1284.92 1481.2 1287.14 1481.76 Q1289.37 1482.32 1291.84 1482.32 Q1295.85 1482.32 1298.19 1480.21 Q1300.52 1478.1 1300.52 1474.49 Q1300.52 1470.88 1298.19 1468.77 Q1295.85 1466.67 1291.84 1466.67 Q1289.97 1466.67 1288.09 1467.08 Q1286.24 1467.5 1284.3 1468.38 L1284.3 1451.02 Z\" fill=\"#000000\" fill-rule=\"evenodd\" fill-opacity=\"1\" /><path clip-path=\"url(#clip660)\" d=\"M1494.19 1466.44 Q1491.04 1466.44 1489.19 1468.59 Q1487.36 1470.74 1487.36 1474.49 Q1487.36 1478.22 1489.19 1480.39 Q1491.04 1482.55 1494.19 1482.55 Q1497.33 1482.55 1499.16 1480.39 Q1501.01 1478.22 1501.01 1474.49 Q1501.01 1470.74 1499.16 1468.59 Q1497.33 1466.44 1494.19 1466.44 M1503.47 1451.78 L1503.47 1456.04 Q1501.71 1455.21 1499.9 1454.77 Q1498.12 1454.33 1496.36 1454.33 Q1491.73 1454.33 1489.28 1457.45 Q1486.85 1460.58 1486.5 1466.9 Q1487.87 1464.89 1489.93 1463.82 Q1491.99 1462.73 1494.46 1462.73 Q1499.67 1462.73 1502.68 1465.9 Q1505.71 1469.05 1505.71 1474.49 Q1505.71 1479.82 1502.57 1483.03 Q1499.42 1486.25 1494.19 1486.25 Q1488.19 1486.25 1485.02 1481.67 Q1481.85 1477.06 1481.85 1468.33 Q1481.85 1460.14 1485.74 1455.28 Q1489.63 1450.39 1496.18 1450.39 Q1497.94 1450.39 1499.72 1450.74 Q1501.52 1451.09 1503.47 1451.78 Z\" fill=\"#000000\" fill-rule=\"evenodd\" fill-opacity=\"1\" /><path clip-path=\"url(#clip660)\" d=\"M1682.43 1451.02 L1704.65 1451.02 L1704.65 1453.01 L1692.11 1485.58 L1687.22 1485.58 L1699.03 1454.96 L1682.43 1454.96 L1682.43 1451.02 Z\" fill=\"#000000\" fill-rule=\"evenodd\" fill-opacity=\"1\" /><path clip-path=\"url(#clip660)\" d=\"M1893.3 1469.17 Q1889.97 1469.17 1888.05 1470.95 Q1886.15 1472.73 1886.15 1475.86 Q1886.15 1478.98 1888.05 1480.77 Q1889.97 1482.55 1893.3 1482.55 Q1896.64 1482.55 1898.56 1480.77 Q1900.48 1478.96 1900.48 1475.86 Q1900.48 1472.73 1898.56 1470.95 Q1896.66 1469.17 1893.3 1469.17 M1888.63 1467.18 Q1885.62 1466.44 1883.93 1464.38 Q1882.26 1462.32 1882.26 1459.35 Q1882.26 1455.21 1885.2 1452.8 Q1888.17 1450.39 1893.3 1450.39 Q1898.47 1450.39 1901.41 1452.8 Q1904.35 1455.21 1904.35 1459.35 Q1904.35 1462.32 1902.66 1464.38 Q1900.99 1466.44 1898 1467.18 Q1901.38 1467.96 1903.26 1470.26 Q1905.16 1472.55 1905.16 1475.86 Q1905.16 1480.88 1902.08 1483.57 Q1899.02 1486.25 1893.3 1486.25 Q1887.59 1486.25 1884.51 1483.57 Q1881.45 1480.88 1881.45 1475.86 Q1881.45 1472.55 1883.35 1470.26 Q1885.25 1467.96 1888.63 1467.18 M1886.92 1459.79 Q1886.92 1462.48 1888.58 1463.98 Q1890.27 1465.49 1893.3 1465.49 Q1896.31 1465.49 1898 1463.98 Q1899.72 1462.48 1899.72 1459.79 Q1899.72 1457.11 1898 1455.6 Q1896.31 1454.1 1893.3 1454.1 Q1890.27 1454.1 1888.58 1455.6 Q1886.92 1457.11 1886.92 1459.79 Z\" fill=\"#000000\" fill-rule=\"evenodd\" fill-opacity=\"1\" /><path clip-path=\"url(#clip660)\" d=\"M2083.37 1484.86 L2083.37 1480.6 Q2085.13 1481.44 2086.93 1481.88 Q2088.74 1482.32 2090.47 1482.32 Q2095.1 1482.32 2097.53 1479.21 Q2099.99 1476.09 2100.33 1469.75 Q2098.99 1471.74 2096.93 1472.8 Q2094.87 1473.87 2092.37 1473.87 Q2087.19 1473.87 2084.15 1470.74 Q2081.14 1467.59 2081.14 1462.15 Q2081.14 1456.83 2084.29 1453.61 Q2087.44 1450.39 2092.67 1450.39 Q2098.67 1450.39 2101.82 1455 Q2104.99 1459.58 2104.99 1468.33 Q2104.99 1476.51 2101.1 1481.39 Q2097.23 1486.25 2090.68 1486.25 Q2088.92 1486.25 2087.12 1485.9 Q2085.31 1485.56 2083.37 1484.86 M2092.67 1470.21 Q2095.82 1470.21 2097.65 1468.06 Q2099.5 1465.9 2099.5 1462.15 Q2099.5 1458.43 2097.65 1456.27 Q2095.82 1454.1 2092.67 1454.1 Q2089.52 1454.1 2087.67 1456.27 Q2085.84 1458.43 2085.84 1462.15 Q2085.84 1465.9 2087.67 1468.06 Q2089.52 1470.21 2092.67 1470.21 Z\" fill=\"#000000\" fill-rule=\"evenodd\" fill-opacity=\"1\" /><path clip-path=\"url(#clip660)\" d=\"M2267.52 1481.64 L2275.15 1481.64 L2275.15 1455.28 L2266.84 1456.95 L2266.84 1452.69 L2275.11 1451.02 L2279.78 1451.02 L2279.78 1481.64 L2287.42 1481.64 L2287.42 1485.58 L2267.52 1485.58 L2267.52 1481.64 Z\" fill=\"#000000\" fill-rule=\"evenodd\" fill-opacity=\"1\" /><path clip-path=\"url(#clip660)\" d=\"M2306.87 1454.1 Q2303.26 1454.1 2301.43 1457.66 Q2299.62 1461.2 2299.62 1468.33 Q2299.62 1475.44 2301.43 1479.01 Q2303.26 1482.55 2306.87 1482.55 Q2310.5 1482.55 2312.31 1479.01 Q2314.14 1475.44 2314.14 1468.33 Q2314.14 1461.2 2312.31 1457.66 Q2310.5 1454.1 2306.87 1454.1 M2306.87 1450.39 Q2312.68 1450.39 2315.73 1455 Q2318.81 1459.58 2318.81 1468.33 Q2318.81 1477.06 2315.73 1481.67 Q2312.68 1486.25 2306.87 1486.25 Q2301.06 1486.25 2297.98 1481.67 Q2294.92 1477.06 2294.92 1468.33 Q2294.92 1459.58 2297.98 1455 Q2301.06 1450.39 2306.87 1450.39 Z\" fill=\"#000000\" fill-rule=\"evenodd\" fill-opacity=\"1\" /><path clip-path=\"url(#clip660)\" d=\"M1230.44 1522.27 L1230.44 1532.4 L1242.5 1532.4 L1242.5 1536.95 L1230.44 1536.95 L1230.44 1556.3 Q1230.44 1560.66 1231.62 1561.9 Q1232.83 1563.14 1236.49 1563.14 L1242.5 1563.14 L1242.5 1568.04 L1236.49 1568.04 Q1229.71 1568.04 1227.13 1565.53 Q1224.55 1562.98 1224.55 1556.3 L1224.55 1536.95 L1220.26 1536.95 L1220.26 1532.4 L1224.55 1532.4 L1224.55 1522.27 L1230.44 1522.27 Z\" fill=\"#000000\" fill-rule=\"evenodd\" fill-opacity=\"1\" /><path clip-path=\"url(#clip660)\" d=\"M1280.7 1548.76 L1280.7 1551.62 L1253.77 1551.62 Q1254.15 1557.67 1257.4 1560.85 Q1260.68 1564 1266.5 1564 Q1269.88 1564 1273.03 1563.17 Q1276.21 1562.35 1279.33 1560.69 L1279.33 1566.23 Q1276.18 1567.57 1272.87 1568.27 Q1269.56 1568.97 1266.15 1568.97 Q1257.62 1568.97 1252.63 1564 Q1247.66 1559.04 1247.66 1550.57 Q1247.66 1541.82 1252.37 1536.69 Q1257.11 1531.54 1265.13 1531.54 Q1272.33 1531.54 1276.5 1536.18 Q1280.7 1540.8 1280.7 1548.76 M1274.84 1547.04 Q1274.78 1542.23 1272.14 1539.37 Q1269.53 1536.5 1265.2 1536.5 Q1260.3 1536.5 1257.34 1539.27 Q1254.41 1542.04 1253.96 1547.07 L1274.84 1547.04 Z\" fill=\"#000000\" fill-rule=\"evenodd\" fill-opacity=\"1\" /><path clip-path=\"url(#clip660)\" d=\"M1310.97 1537.87 Q1309.98 1537.3 1308.8 1537.04 Q1307.66 1536.76 1306.26 1536.76 Q1301.29 1536.76 1298.62 1540 Q1295.98 1543.22 1295.98 1549.27 L1295.98 1568.04 L1290.09 1568.04 L1290.09 1532.4 L1295.98 1532.4 L1295.98 1537.93 Q1297.82 1534.69 1300.78 1533.13 Q1303.74 1531.54 1307.98 1531.54 Q1308.58 1531.54 1309.31 1531.63 Q1310.05 1531.7 1310.94 1531.85 L1310.97 1537.87 Z\" fill=\"#000000\" fill-rule=\"evenodd\" fill-opacity=\"1\" /><path clip-path=\"url(#clip660)\" d=\"M1343.72 1539.24 Q1345.92 1535.29 1348.97 1533.41 Q1352.03 1531.54 1356.16 1531.54 Q1361.73 1531.54 1364.76 1535.45 Q1367.78 1539.33 1367.78 1546.53 L1367.78 1568.04 L1361.89 1568.04 L1361.89 1546.72 Q1361.89 1541.59 1360.08 1539.11 Q1358.27 1536.63 1354.54 1536.63 Q1349.99 1536.63 1347.35 1539.65 Q1344.71 1542.68 1344.71 1547.9 L1344.71 1568.04 L1338.82 1568.04 L1338.82 1546.72 Q1338.82 1541.56 1337 1539.11 Q1335.19 1536.63 1331.4 1536.63 Q1326.91 1536.63 1324.27 1539.68 Q1321.63 1542.71 1321.63 1547.9 L1321.63 1568.04 L1315.74 1568.04 L1315.74 1532.4 L1321.63 1532.4 L1321.63 1537.93 Q1323.64 1534.66 1326.44 1533.1 Q1329.24 1531.54 1333.09 1531.54 Q1336.97 1531.54 1339.68 1533.51 Q1342.41 1535.48 1343.72 1539.24 Z\" fill=\"#000000\" fill-rule=\"evenodd\" fill-opacity=\"1\" /><polyline clip-path=\"url(#clip662)\" style=\"stroke:#000000; stroke-linecap:butt; stroke-linejoin:round; stroke-width:2; stroke-opacity:0.1; fill:none\" points=\"\n",
       "  235.283,1386.4 2352.76,1386.4 \n",
       "  \"/>\n",
       "<polyline clip-path=\"url(#clip662)\" style=\"stroke:#000000; stroke-linecap:butt; stroke-linejoin:round; stroke-width:2; stroke-opacity:0.1; fill:none\" points=\"\n",
       "  235.283,1195.41 2352.76,1195.41 \n",
       "  \"/>\n",
       "<polyline clip-path=\"url(#clip662)\" style=\"stroke:#000000; stroke-linecap:butt; stroke-linejoin:round; stroke-width:2; stroke-opacity:0.1; fill:none\" points=\"\n",
       "  235.283,1004.42 2352.76,1004.42 \n",
       "  \"/>\n",
       "<polyline clip-path=\"url(#clip662)\" style=\"stroke:#000000; stroke-linecap:butt; stroke-linejoin:round; stroke-width:2; stroke-opacity:0.1; fill:none\" points=\"\n",
       "  235.283,813.433 2352.76,813.433 \n",
       "  \"/>\n",
       "<polyline clip-path=\"url(#clip662)\" style=\"stroke:#000000; stroke-linecap:butt; stroke-linejoin:round; stroke-width:2; stroke-opacity:0.1; fill:none\" points=\"\n",
       "  235.283,622.446 2352.76,622.446 \n",
       "  \"/>\n",
       "<polyline clip-path=\"url(#clip662)\" style=\"stroke:#000000; stroke-linecap:butt; stroke-linejoin:round; stroke-width:2; stroke-opacity:0.1; fill:none\" points=\"\n",
       "  235.283,431.458 2352.76,431.458 \n",
       "  \"/>\n",
       "<polyline clip-path=\"url(#clip662)\" style=\"stroke:#000000; stroke-linecap:butt; stroke-linejoin:round; stroke-width:2; stroke-opacity:0.1; fill:none\" points=\"\n",
       "  235.283,240.471 2352.76,240.471 \n",
       "  \"/>\n",
       "<polyline clip-path=\"url(#clip660)\" style=\"stroke:#000000; stroke-linecap:butt; stroke-linejoin:round; stroke-width:4; stroke-opacity:1; fill:none\" points=\"\n",
       "  235.283,1423.18 235.283,123.472 \n",
       "  \"/>\n",
       "<polyline clip-path=\"url(#clip660)\" style=\"stroke:#000000; stroke-linecap:butt; stroke-linejoin:round; stroke-width:4; stroke-opacity:1; fill:none\" points=\"\n",
       "  235.283,1386.4 254.18,1386.4 \n",
       "  \"/>\n",
       "<polyline clip-path=\"url(#clip660)\" style=\"stroke:#000000; stroke-linecap:butt; stroke-linejoin:round; stroke-width:4; stroke-opacity:1; fill:none\" points=\"\n",
       "  235.283,1195.41 254.18,1195.41 \n",
       "  \"/>\n",
       "<polyline clip-path=\"url(#clip660)\" style=\"stroke:#000000; stroke-linecap:butt; stroke-linejoin:round; stroke-width:4; stroke-opacity:1; fill:none\" points=\"\n",
       "  235.283,1004.42 254.18,1004.42 \n",
       "  \"/>\n",
       "<polyline clip-path=\"url(#clip660)\" style=\"stroke:#000000; stroke-linecap:butt; stroke-linejoin:round; stroke-width:4; stroke-opacity:1; fill:none\" points=\"\n",
       "  235.283,813.433 254.18,813.433 \n",
       "  \"/>\n",
       "<polyline clip-path=\"url(#clip660)\" style=\"stroke:#000000; stroke-linecap:butt; stroke-linejoin:round; stroke-width:4; stroke-opacity:1; fill:none\" points=\"\n",
       "  235.283,622.446 254.18,622.446 \n",
       "  \"/>\n",
       "<polyline clip-path=\"url(#clip660)\" style=\"stroke:#000000; stroke-linecap:butt; stroke-linejoin:round; stroke-width:4; stroke-opacity:1; fill:none\" points=\"\n",
       "  235.283,431.458 254.18,431.458 \n",
       "  \"/>\n",
       "<polyline clip-path=\"url(#clip660)\" style=\"stroke:#000000; stroke-linecap:butt; stroke-linejoin:round; stroke-width:4; stroke-opacity:1; fill:none\" points=\"\n",
       "  235.283,240.471 254.18,240.471 \n",
       "  \"/>\n",
       "<path clip-path=\"url(#clip660)\" d=\"M187.338 1372.19 Q183.727 1372.19 181.899 1375.76 Q180.093 1379.3 180.093 1386.43 Q180.093 1393.54 181.899 1397.1 Q183.727 1400.64 187.338 1400.64 Q190.973 1400.64 192.778 1397.1 Q194.607 1393.54 194.607 1386.43 Q194.607 1379.3 192.778 1375.76 Q190.973 1372.19 187.338 1372.19 M187.338 1368.49 Q193.149 1368.49 196.204 1373.1 Q199.283 1377.68 199.283 1386.43 Q199.283 1395.16 196.204 1399.76 Q193.149 1404.35 187.338 1404.35 Q181.528 1404.35 178.45 1399.76 Q175.394 1395.16 175.394 1386.43 Q175.394 1377.68 178.45 1373.1 Q181.528 1368.49 187.338 1368.49 Z\" fill=\"#000000\" fill-rule=\"evenodd\" fill-opacity=\"1\" /><path clip-path=\"url(#clip660)\" d=\"M117.825 1208.75 L125.464 1208.75 L125.464 1182.39 L117.154 1184.05 L117.154 1179.79 L125.418 1178.13 L130.093 1178.13 L130.093 1208.75 L137.732 1208.75 L137.732 1212.69 L117.825 1212.69 L117.825 1208.75 Z\" fill=\"#000000\" fill-rule=\"evenodd\" fill-opacity=\"1\" /><path clip-path=\"url(#clip660)\" d=\"M157.177 1181.21 Q153.566 1181.21 151.737 1184.77 Q149.931 1188.31 149.931 1195.44 Q149.931 1202.55 151.737 1206.11 Q153.566 1209.66 157.177 1209.66 Q160.811 1209.66 162.616 1206.11 Q164.445 1202.55 164.445 1195.44 Q164.445 1188.31 162.616 1184.77 Q160.811 1181.21 157.177 1181.21 M157.177 1177.5 Q162.987 1177.5 166.042 1182.11 Q169.121 1186.69 169.121 1195.44 Q169.121 1204.17 166.042 1208.78 Q162.987 1213.36 157.177 1213.36 Q151.366 1213.36 148.288 1208.78 Q145.232 1204.17 145.232 1195.44 Q145.232 1186.69 148.288 1182.11 Q151.366 1177.5 157.177 1177.5 Z\" fill=\"#000000\" fill-rule=\"evenodd\" fill-opacity=\"1\" /><path clip-path=\"url(#clip660)\" d=\"M187.338 1181.21 Q183.727 1181.21 181.899 1184.77 Q180.093 1188.31 180.093 1195.44 Q180.093 1202.55 181.899 1206.11 Q183.727 1209.66 187.338 1209.66 Q190.973 1209.66 192.778 1206.11 Q194.607 1202.55 194.607 1195.44 Q194.607 1188.31 192.778 1184.77 Q190.973 1181.21 187.338 1181.21 M187.338 1177.5 Q193.149 1177.5 196.204 1182.11 Q199.283 1186.69 199.283 1195.44 Q199.283 1204.17 196.204 1208.78 Q193.149 1213.36 187.338 1213.36 Q181.528 1213.36 178.45 1208.78 Q175.394 1204.17 175.394 1195.44 Q175.394 1186.69 178.45 1182.11 Q181.528 1177.5 187.338 1177.5 Z\" fill=\"#000000\" fill-rule=\"evenodd\" fill-opacity=\"1\" /><path clip-path=\"url(#clip660)\" d=\"M121.043 1017.77 L137.362 1017.77 L137.362 1021.7 L115.418 1021.7 L115.418 1017.77 Q118.08 1015.01 122.663 1010.38 Q127.269 1005.73 128.45 1004.39 Q130.695 1001.86 131.575 1000.13 Q132.478 998.368 132.478 996.678 Q132.478 993.923 130.533 992.187 Q128.612 990.451 125.51 990.451 Q123.311 990.451 120.857 991.215 Q118.427 991.979 115.649 993.53 L115.649 988.807 Q118.473 987.673 120.927 987.094 Q123.38 986.516 125.418 986.516 Q130.788 986.516 133.982 989.201 Q137.177 991.886 137.177 996.377 Q137.177 998.506 136.367 1000.43 Q135.579 1002.33 133.473 1004.92 Q132.894 1005.59 129.792 1008.81 Q126.691 1012 121.043 1017.77 Z\" fill=\"#000000\" fill-rule=\"evenodd\" fill-opacity=\"1\" /><path clip-path=\"url(#clip660)\" d=\"M157.177 990.219 Q153.566 990.219 151.737 993.784 Q149.931 997.326 149.931 1004.46 Q149.931 1011.56 151.737 1015.13 Q153.566 1018.67 157.177 1018.67 Q160.811 1018.67 162.616 1015.13 Q164.445 1011.56 164.445 1004.46 Q164.445 997.326 162.616 993.784 Q160.811 990.219 157.177 990.219 M157.177 986.516 Q162.987 986.516 166.042 991.122 Q169.121 995.706 169.121 1004.46 Q169.121 1013.18 166.042 1017.79 Q162.987 1022.37 157.177 1022.37 Q151.366 1022.37 148.288 1017.79 Q145.232 1013.18 145.232 1004.46 Q145.232 995.706 148.288 991.122 Q151.366 986.516 157.177 986.516 Z\" fill=\"#000000\" fill-rule=\"evenodd\" fill-opacity=\"1\" /><path clip-path=\"url(#clip660)\" d=\"M187.338 990.219 Q183.727 990.219 181.899 993.784 Q180.093 997.326 180.093 1004.46 Q180.093 1011.56 181.899 1015.13 Q183.727 1018.67 187.338 1018.67 Q190.973 1018.67 192.778 1015.13 Q194.607 1011.56 194.607 1004.46 Q194.607 997.326 192.778 993.784 Q190.973 990.219 187.338 990.219 M187.338 986.516 Q193.149 986.516 196.204 991.122 Q199.283 995.706 199.283 1004.46 Q199.283 1013.18 196.204 1017.79 Q193.149 1022.37 187.338 1022.37 Q181.528 1022.37 178.45 1017.79 Q175.394 1013.18 175.394 1004.46 Q175.394 995.706 178.45 991.122 Q181.528 986.516 187.338 986.516 Z\" fill=\"#000000\" fill-rule=\"evenodd\" fill-opacity=\"1\" /><path clip-path=\"url(#clip660)\" d=\"M131.181 812.079 Q134.538 812.797 136.413 815.065 Q138.311 817.334 138.311 820.667 Q138.311 825.783 134.792 828.584 Q131.274 831.385 124.793 831.385 Q122.617 831.385 120.302 830.945 Q118.01 830.528 115.556 829.672 L115.556 825.158 Q117.501 826.292 119.816 826.871 Q122.13 827.449 124.654 827.449 Q129.052 827.449 131.343 825.713 Q133.658 823.977 133.658 820.667 Q133.658 817.612 131.505 815.899 Q129.376 814.163 125.556 814.163 L121.529 814.163 L121.529 810.32 L125.742 810.32 Q129.191 810.32 131.019 808.954 Q132.848 807.565 132.848 804.973 Q132.848 802.311 130.95 800.899 Q129.075 799.464 125.556 799.464 Q123.635 799.464 121.436 799.88 Q119.237 800.297 116.598 801.176 L116.598 797.01 Q119.26 796.269 121.575 795.899 Q123.913 795.528 125.973 795.528 Q131.297 795.528 134.399 797.959 Q137.501 800.366 137.501 804.487 Q137.501 807.357 135.857 809.348 Q134.214 811.315 131.181 812.079 Z\" fill=\"#000000\" fill-rule=\"evenodd\" fill-opacity=\"1\" /><path clip-path=\"url(#clip660)\" d=\"M157.177 799.232 Q153.566 799.232 151.737 802.797 Q149.931 806.338 149.931 813.468 Q149.931 820.575 151.737 824.139 Q153.566 827.681 157.177 827.681 Q160.811 827.681 162.616 824.139 Q164.445 820.575 164.445 813.468 Q164.445 806.338 162.616 802.797 Q160.811 799.232 157.177 799.232 M157.177 795.528 Q162.987 795.528 166.042 800.135 Q169.121 804.718 169.121 813.468 Q169.121 822.195 166.042 826.801 Q162.987 831.385 157.177 831.385 Q151.366 831.385 148.288 826.801 Q145.232 822.195 145.232 813.468 Q145.232 804.718 148.288 800.135 Q151.366 795.528 157.177 795.528 Z\" fill=\"#000000\" fill-rule=\"evenodd\" fill-opacity=\"1\" /><path clip-path=\"url(#clip660)\" d=\"M187.338 799.232 Q183.727 799.232 181.899 802.797 Q180.093 806.338 180.093 813.468 Q180.093 820.575 181.899 824.139 Q183.727 827.681 187.338 827.681 Q190.973 827.681 192.778 824.139 Q194.607 820.575 194.607 813.468 Q194.607 806.338 192.778 802.797 Q190.973 799.232 187.338 799.232 M187.338 795.528 Q193.149 795.528 196.204 800.135 Q199.283 804.718 199.283 813.468 Q199.283 822.195 196.204 826.801 Q193.149 831.385 187.338 831.385 Q181.528 831.385 178.45 826.801 Q175.394 822.195 175.394 813.468 Q175.394 804.718 178.45 800.135 Q181.528 795.528 187.338 795.528 Z\" fill=\"#000000\" fill-rule=\"evenodd\" fill-opacity=\"1\" /><path clip-path=\"url(#clip660)\" d=\"M129.862 609.24 L118.056 627.689 L129.862 627.689 L129.862 609.24 M128.635 605.166 L134.515 605.166 L134.515 627.689 L139.445 627.689 L139.445 631.578 L134.515 631.578 L134.515 639.726 L129.862 639.726 L129.862 631.578 L114.26 631.578 L114.26 627.064 L128.635 605.166 Z\" fill=\"#000000\" fill-rule=\"evenodd\" fill-opacity=\"1\" /><path clip-path=\"url(#clip660)\" d=\"M157.177 608.245 Q153.566 608.245 151.737 611.809 Q149.931 615.351 149.931 622.481 Q149.931 629.587 151.737 633.152 Q153.566 636.694 157.177 636.694 Q160.811 636.694 162.616 633.152 Q164.445 629.587 164.445 622.481 Q164.445 615.351 162.616 611.809 Q160.811 608.245 157.177 608.245 M157.177 604.541 Q162.987 604.541 166.042 609.147 Q169.121 613.731 169.121 622.481 Q169.121 631.207 166.042 635.814 Q162.987 640.397 157.177 640.397 Q151.366 640.397 148.288 635.814 Q145.232 631.207 145.232 622.481 Q145.232 613.731 148.288 609.147 Q151.366 604.541 157.177 604.541 Z\" fill=\"#000000\" fill-rule=\"evenodd\" fill-opacity=\"1\" /><path clip-path=\"url(#clip660)\" d=\"M187.338 608.245 Q183.727 608.245 181.899 611.809 Q180.093 615.351 180.093 622.481 Q180.093 629.587 181.899 633.152 Q183.727 636.694 187.338 636.694 Q190.973 636.694 192.778 633.152 Q194.607 629.587 194.607 622.481 Q194.607 615.351 192.778 611.809 Q190.973 608.245 187.338 608.245 M187.338 604.541 Q193.149 604.541 196.204 609.147 Q199.283 613.731 199.283 622.481 Q199.283 631.207 196.204 635.814 Q193.149 640.397 187.338 640.397 Q181.528 640.397 178.45 635.814 Q175.394 631.207 175.394 622.481 Q175.394 613.731 178.45 609.147 Q181.528 604.541 187.338 604.541 Z\" fill=\"#000000\" fill-rule=\"evenodd\" fill-opacity=\"1\" /><path clip-path=\"url(#clip660)\" d=\"M117.061 414.178 L135.417 414.178 L135.417 418.114 L121.343 418.114 L121.343 426.586 Q122.362 426.239 123.38 426.077 Q124.399 425.891 125.418 425.891 Q131.205 425.891 134.584 429.063 Q137.964 432.234 137.964 437.651 Q137.964 443.229 134.492 446.331 Q131.019 449.41 124.7 449.41 Q122.524 449.41 120.255 449.039 Q118.01 448.669 115.603 447.928 L115.603 443.229 Q117.686 444.363 119.908 444.919 Q122.13 445.475 124.607 445.475 Q128.612 445.475 130.95 443.368 Q133.288 441.262 133.288 437.651 Q133.288 434.039 130.95 431.933 Q128.612 429.827 124.607 429.827 Q122.732 429.827 120.857 430.243 Q119.006 430.66 117.061 431.539 L117.061 414.178 Z\" fill=\"#000000\" fill-rule=\"evenodd\" fill-opacity=\"1\" /><path clip-path=\"url(#clip660)\" d=\"M157.177 417.257 Q153.566 417.257 151.737 420.822 Q149.931 424.364 149.931 431.493 Q149.931 438.6 151.737 442.164 Q153.566 445.706 157.177 445.706 Q160.811 445.706 162.616 442.164 Q164.445 438.6 164.445 431.493 Q164.445 424.364 162.616 420.822 Q160.811 417.257 157.177 417.257 M157.177 413.553 Q162.987 413.553 166.042 418.16 Q169.121 422.743 169.121 431.493 Q169.121 440.22 166.042 444.826 Q162.987 449.41 157.177 449.41 Q151.366 449.41 148.288 444.826 Q145.232 440.22 145.232 431.493 Q145.232 422.743 148.288 418.16 Q151.366 413.553 157.177 413.553 Z\" fill=\"#000000\" fill-rule=\"evenodd\" fill-opacity=\"1\" /><path clip-path=\"url(#clip660)\" d=\"M187.338 417.257 Q183.727 417.257 181.899 420.822 Q180.093 424.364 180.093 431.493 Q180.093 438.6 181.899 442.164 Q183.727 445.706 187.338 445.706 Q190.973 445.706 192.778 442.164 Q194.607 438.6 194.607 431.493 Q194.607 424.364 192.778 420.822 Q190.973 417.257 187.338 417.257 M187.338 413.553 Q193.149 413.553 196.204 418.16 Q199.283 422.743 199.283 431.493 Q199.283 440.22 196.204 444.826 Q193.149 449.41 187.338 449.41 Q181.528 449.41 178.45 444.826 Q175.394 440.22 175.394 431.493 Q175.394 422.743 178.45 418.16 Q181.528 413.553 187.338 413.553 Z\" fill=\"#000000\" fill-rule=\"evenodd\" fill-opacity=\"1\" /><path clip-path=\"url(#clip660)\" d=\"M127.593 238.608 Q124.445 238.608 122.593 240.76 Q120.765 242.913 120.765 246.663 Q120.765 250.39 122.593 252.566 Q124.445 254.719 127.593 254.719 Q130.742 254.719 132.57 252.566 Q134.422 250.39 134.422 246.663 Q134.422 242.913 132.57 240.76 Q130.742 238.608 127.593 238.608 M136.876 223.955 L136.876 228.214 Q135.117 227.381 133.311 226.941 Q131.529 226.501 129.769 226.501 Q125.14 226.501 122.686 229.626 Q120.255 232.751 119.908 239.071 Q121.274 237.057 123.334 235.992 Q125.394 234.904 127.871 234.904 Q133.08 234.904 136.089 238.075 Q139.121 241.223 139.121 246.663 Q139.121 251.987 135.973 255.205 Q132.825 258.422 127.593 258.422 Q121.598 258.422 118.427 253.839 Q115.256 249.233 115.256 240.506 Q115.256 232.311 119.144 227.45 Q123.033 222.566 129.584 222.566 Q131.343 222.566 133.126 222.913 Q134.931 223.26 136.876 223.955 Z\" fill=\"#000000\" fill-rule=\"evenodd\" fill-opacity=\"1\" /><path clip-path=\"url(#clip660)\" d=\"M157.177 226.27 Q153.566 226.27 151.737 229.835 Q149.931 233.376 149.931 240.506 Q149.931 247.612 151.737 251.177 Q153.566 254.719 157.177 254.719 Q160.811 254.719 162.616 251.177 Q164.445 247.612 164.445 240.506 Q164.445 233.376 162.616 229.835 Q160.811 226.27 157.177 226.27 M157.177 222.566 Q162.987 222.566 166.042 227.172 Q169.121 231.756 169.121 240.506 Q169.121 249.233 166.042 253.839 Q162.987 258.422 157.177 258.422 Q151.366 258.422 148.288 253.839 Q145.232 249.233 145.232 240.506 Q145.232 231.756 148.288 227.172 Q151.366 222.566 157.177 222.566 Z\" fill=\"#000000\" fill-rule=\"evenodd\" fill-opacity=\"1\" /><path clip-path=\"url(#clip660)\" d=\"M187.338 226.27 Q183.727 226.27 181.899 229.835 Q180.093 233.376 180.093 240.506 Q180.093 247.612 181.899 251.177 Q183.727 254.719 187.338 254.719 Q190.973 254.719 192.778 251.177 Q194.607 247.612 194.607 240.506 Q194.607 233.376 192.778 229.835 Q190.973 226.27 187.338 226.27 M187.338 222.566 Q193.149 222.566 196.204 227.172 Q199.283 231.756 199.283 240.506 Q199.283 249.233 196.204 253.839 Q193.149 258.422 187.338 258.422 Q181.528 258.422 178.45 253.839 Q175.394 249.233 175.394 240.506 Q175.394 231.756 178.45 227.172 Q181.528 222.566 187.338 222.566 Z\" fill=\"#000000\" fill-rule=\"evenodd\" fill-opacity=\"1\" /><path clip-path=\"url(#clip660)\" d=\"M18.2347 1025.42 L28.3562 1025.42 L28.3562 1013.36 L32.9077 1013.36 L32.9077 1025.42 L52.2594 1025.42 Q56.6199 1025.42 57.8613 1024.25 Q59.1026 1023.04 59.1026 1019.38 L59.1026 1013.36 L64.0042 1013.36 L64.0042 1019.38 Q64.0042 1026.16 61.4897 1028.73 Q58.9434 1031.31 52.2594 1031.31 L32.9077 1031.31 L32.9077 1035.61 L28.3562 1035.61 L28.3562 1031.31 L18.2347 1031.31 L18.2347 1025.42 Z\" fill=\"#000000\" fill-rule=\"evenodd\" fill-opacity=\"1\" /><path clip-path=\"url(#clip660)\" d=\"M32.4621 991.845 Q32.4621 996.555 36.1542 999.293 Q39.8145 1002.03 46.212 1002.03 Q52.6095 1002.03 56.3017 999.324 Q59.9619 996.587 59.9619 991.845 Q59.9619 987.166 56.2698 984.429 Q52.5777 981.691 46.212 981.691 Q39.8781 981.691 36.186 984.429 Q32.4621 987.166 32.4621 991.845 M27.4968 991.845 Q27.4968 984.206 32.4621 979.845 Q37.4273 975.485 46.212 975.485 Q54.9649 975.485 59.9619 979.845 Q64.9272 984.206 64.9272 991.845 Q64.9272 999.515 59.9619 1003.88 Q54.9649 1008.2 46.212 1008.2 Q37.4273 1008.2 32.4621 1003.88 Q27.4968 999.515 27.4968 991.845 Z\" fill=\"#000000\" fill-rule=\"evenodd\" fill-opacity=\"1\" /><path clip-path=\"url(#clip660)\" d=\"M18.2347 959.984 L28.3562 959.984 L28.3562 947.921 L32.9077 947.921 L32.9077 959.984 L52.2594 959.984 Q56.6199 959.984 57.8613 958.807 Q59.1026 957.597 59.1026 953.937 L59.1026 947.921 L64.0042 947.921 L64.0042 953.937 Q64.0042 960.716 61.4897 963.295 Q58.9434 965.873 52.2594 965.873 L32.9077 965.873 L32.9077 970.17 L28.3562 970.17 L28.3562 965.873 L18.2347 965.873 L18.2347 959.984 Z\" fill=\"#000000\" fill-rule=\"evenodd\" fill-opacity=\"1\" /><path clip-path=\"url(#clip660)\" d=\"M46.0847 924.018 Q46.0847 931.116 47.7079 933.853 Q49.3312 936.59 53.2461 936.59 Q56.3653 936.59 58.2114 934.553 Q60.0256 932.485 60.0256 928.952 Q60.0256 924.082 56.5881 921.154 Q53.1188 918.194 47.3897 918.194 L46.0847 918.194 L46.0847 924.018 M43.6657 912.337 L64.0042 912.337 L64.0042 918.194 L58.5933 918.194 Q61.8398 920.199 63.3994 923.191 Q64.9272 926.183 64.9272 930.511 Q64.9272 935.986 61.8716 939.232 Q58.7843 942.447 53.6281 942.447 Q47.6125 942.447 44.5569 938.436 Q41.5014 934.394 41.5014 926.405 L41.5014 918.194 L40.9285 918.194 Q36.8862 918.194 34.6901 920.867 Q32.4621 923.509 32.4621 928.315 Q32.4621 931.371 33.1941 934.267 Q33.9262 937.163 35.3903 939.837 L29.9795 939.837 Q28.7381 936.622 28.1334 933.599 Q27.4968 930.575 27.4968 927.71 Q27.4968 919.976 31.5072 916.157 Q35.5176 912.337 43.6657 912.337 Z\" fill=\"#000000\" fill-rule=\"evenodd\" fill-opacity=\"1\" /><path clip-path=\"url(#clip660)\" d=\"M14.479 900.274 L14.479 894.418 L64.0042 894.418 L64.0042 900.274 L14.479 900.274 Z\" fill=\"#000000\" fill-rule=\"evenodd\" fill-opacity=\"1\" /><path clip-path=\"url(#clip660)\" d=\"M29.7248 835.789 L35.1993 835.789 Q33.8307 838.272 33.1623 840.787 Q32.4621 843.269 32.4621 845.815 Q32.4621 851.513 36.0905 854.664 Q39.6872 857.815 46.212 857.815 Q52.7369 857.815 56.3653 854.664 Q59.9619 851.513 59.9619 845.815 Q59.9619 843.269 59.2935 840.787 Q58.5933 838.272 57.2247 835.789 L62.6355 835.789 Q63.7814 838.24 64.3543 840.882 Q64.9272 843.492 64.9272 846.452 Q64.9272 854.505 59.8664 859.247 Q54.8057 863.99 46.212 863.99 Q37.491 863.99 32.4939 859.215 Q27.4968 854.409 27.4968 846.07 Q27.4968 843.365 28.0697 840.787 Q28.6108 838.208 29.7248 835.789 Z\" fill=\"#000000\" fill-rule=\"evenodd\" fill-opacity=\"1\" /><path clip-path=\"url(#clip660)\" d=\"M32.4621 811.791 Q32.4621 816.501 36.1542 819.239 Q39.8145 821.976 46.212 821.976 Q52.6095 821.976 56.3017 819.27 Q59.9619 816.533 59.9619 811.791 Q59.9619 807.112 56.2698 804.375 Q52.5777 801.637 46.212 801.637 Q39.8781 801.637 36.186 804.375 Q32.4621 807.112 32.4621 811.791 M27.4968 811.791 Q27.4968 804.152 32.4621 799.791 Q37.4273 795.431 46.212 795.431 Q54.9649 795.431 59.9619 799.791 Q64.9272 804.152 64.9272 811.791 Q64.9272 819.461 59.9619 823.822 Q54.9649 828.151 46.212 828.151 Q37.4273 828.151 32.4621 823.822 Q27.4968 819.461 27.4968 811.791 Z\" fill=\"#000000\" fill-rule=\"evenodd\" fill-opacity=\"1\" /><path clip-path=\"url(#clip660)\" d=\"M35.1993 757.969 Q31.2526 755.773 29.3747 752.717 Q27.4968 749.661 27.4968 745.524 Q27.4968 739.954 31.4117 736.93 Q35.2948 733.906 42.4881 733.906 L64.0042 733.906 L64.0042 739.795 L42.679 739.795 Q37.5546 739.795 35.072 741.609 Q32.5894 743.423 32.5894 747.147 Q32.5894 751.698 35.6131 754.34 Q38.6368 756.982 43.8567 756.982 L64.0042 756.982 L64.0042 762.87 L42.679 762.87 Q37.5228 762.87 35.072 764.685 Q32.5894 766.499 32.5894 770.286 Q32.5894 774.774 35.6449 777.416 Q38.6686 780.058 43.8567 780.058 L64.0042 780.058 L64.0042 785.946 L28.3562 785.946 L28.3562 780.058 L33.8944 780.058 Q30.616 778.053 29.0564 775.252 Q27.4968 772.451 27.4968 768.599 Q27.4968 764.716 29.4702 762.011 Q31.4436 759.274 35.1993 757.969 Z\" fill=\"#000000\" fill-rule=\"evenodd\" fill-opacity=\"1\" /><path clip-path=\"url(#clip660)\" d=\"M58.657 716.56 L77.5631 716.56 L77.5631 722.448 L28.3562 722.448 L28.3562 716.56 L33.7671 716.56 Q30.5842 714.714 29.0564 711.913 Q27.4968 709.08 27.4968 705.165 Q27.4968 698.672 32.6531 694.63 Q37.8093 690.556 46.212 690.556 Q54.6147 690.556 59.771 694.63 Q64.9272 698.672 64.9272 705.165 Q64.9272 709.08 63.3994 711.913 Q61.8398 714.714 58.657 716.56 M46.212 696.635 Q39.7508 696.635 36.0905 699.309 Q32.3984 701.95 32.3984 706.597 Q32.3984 711.244 36.0905 713.918 Q39.7508 716.56 46.212 716.56 Q52.6732 716.56 56.3653 713.918 Q60.0256 711.244 60.0256 706.597 Q60.0256 701.95 56.3653 699.309 Q52.6732 696.635 46.212 696.635 Z\" fill=\"#000000\" fill-rule=\"evenodd\" fill-opacity=\"1\" /><path clip-path=\"url(#clip660)\" d=\"M14.479 680.848 L14.479 674.992 L64.0042 674.992 L64.0042 680.848 L14.479 680.848 Z\" fill=\"#000000\" fill-rule=\"evenodd\" fill-opacity=\"1\" /><path clip-path=\"url(#clip660)\" d=\"M44.7161 632.246 L47.5806 632.246 L47.5806 659.173 Q53.6281 658.791 56.8109 655.544 Q59.9619 652.266 59.9619 646.442 Q59.9619 643.068 59.1344 639.917 Q58.3069 636.734 56.6518 633.615 L62.1899 633.615 Q63.5267 636.766 64.227 640.076 Q64.9272 643.386 64.9272 646.792 Q64.9272 655.322 59.9619 660.319 Q54.9967 665.284 46.5303 665.284 Q37.7774 665.284 32.6531 660.573 Q27.4968 655.831 27.4968 647.81 Q27.4968 640.617 32.1438 636.447 Q36.7589 632.246 44.7161 632.246 M42.9973 638.102 Q38.1912 638.166 35.3266 640.808 Q32.4621 643.418 32.4621 647.747 Q32.4621 652.648 35.2312 655.608 Q38.0002 658.536 43.0292 658.982 L42.9973 638.102 Z\" fill=\"#000000\" fill-rule=\"evenodd\" fill-opacity=\"1\" /><path clip-path=\"url(#clip660)\" d=\"M28.3562 594.147 L45.7028 607.038 L64.0042 593.479 L64.0042 600.386 L49.9996 610.762 L64.0042 621.138 L64.0042 628.045 L45.3526 614.199 L28.3562 626.867 L28.3562 619.96 L41.0558 610.507 L28.3562 601.054 L28.3562 594.147 Z\" fill=\"#000000\" fill-rule=\"evenodd\" fill-opacity=\"1\" /><path clip-path=\"url(#clip660)\" d=\"M28.3562 585.203 L28.3562 579.347 L64.0042 579.347 L64.0042 585.203 L28.3562 585.203 M14.479 585.203 L14.479 579.347 L21.895 579.347 L21.895 585.203 L14.479 585.203 Z\" fill=\"#000000\" fill-rule=\"evenodd\" fill-opacity=\"1\" /><path clip-path=\"url(#clip660)\" d=\"M18.2347 561.3 L28.3562 561.3 L28.3562 549.237 L32.9077 549.237 L32.9077 561.3 L52.2594 561.3 Q56.6199 561.3 57.8613 560.123 Q59.1026 558.913 59.1026 555.253 L59.1026 549.237 L64.0042 549.237 L64.0042 555.253 Q64.0042 562.032 61.4897 564.61 Q58.9434 567.188 52.2594 567.188 L32.9077 567.188 L32.9077 571.485 L28.3562 571.485 L28.3562 567.188 L18.2347 567.188 L18.2347 561.3 Z\" fill=\"#000000\" fill-rule=\"evenodd\" fill-opacity=\"1\" /><path clip-path=\"url(#clip660)\" d=\"M67.3143 526.703 Q73.68 529.185 75.6216 531.541 Q77.5631 533.896 77.5631 537.843 L77.5631 542.521 L72.6615 542.521 L72.6615 539.084 Q72.6615 536.665 71.5157 535.328 Q70.3699 533.991 66.1048 532.368 L63.4312 531.318 L28.3562 545.736 L28.3562 539.529 L56.238 528.39 L28.3562 517.25 L28.3562 511.043 L67.3143 526.703 Z\" fill=\"#000000\" fill-rule=\"evenodd\" fill-opacity=\"1\" /><path clip-path=\"url(#clip660)\" d=\"M602.084 16.7545 L602.084 25.383 Q597.953 21.5346 593.253 19.6307 Q588.595 17.7268 583.329 17.7268 Q572.958 17.7268 567.449 24.0867 Q561.94 30.4061 561.94 42.3968 Q561.94 54.3469 567.449 60.7069 Q572.958 67.0263 583.329 67.0263 Q588.595 67.0263 593.253 65.1223 Q597.953 63.2184 602.084 59.3701 L602.084 67.9175 Q597.79 70.8341 592.97 72.2924 Q588.19 73.7508 582.843 73.7508 Q569.11 73.7508 561.211 65.3654 Q553.312 56.9395 553.312 42.3968 Q553.312 27.8135 561.211 19.4281 Q569.11 11.0023 582.843 11.0023 Q588.271 11.0023 593.051 12.4606 Q597.871 13.8784 602.084 16.7545 Z\" fill=\"#000000\" fill-rule=\"evenodd\" fill-opacity=\"1\" /><path clip-path=\"url(#clip660)\" d=\"M613.63 54.671 L613.63 27.2059 L621.083 27.2059 L621.083 54.3874 Q621.083 60.8284 623.595 64.0691 Q626.106 67.2693 631.129 67.2693 Q637.165 67.2693 640.649 63.421 Q644.173 59.5726 644.173 52.9291 L644.173 27.2059 L651.627 27.2059 L651.627 72.576 L644.173 72.576 L644.173 65.6084 Q641.459 69.7404 637.854 71.7658 Q634.289 73.7508 629.55 73.7508 Q621.731 73.7508 617.68 68.8897 Q613.63 64.0286 613.63 54.671 M632.385 26.1121 L632.385 26.1121 Z\" fill=\"#000000\" fill-rule=\"evenodd\" fill-opacity=\"1\" /><path clip-path=\"url(#clip660)\" d=\"M693.27 34.1734 Q692.015 33.4443 690.516 33.1202 Q689.057 32.7556 687.275 32.7556 Q680.956 32.7556 677.553 36.8875 Q674.191 40.9789 674.191 48.6757 L674.191 72.576 L666.696 72.576 L666.696 27.2059 L674.191 27.2059 L674.191 34.2544 Q676.54 30.1225 680.307 28.1376 Q684.075 26.1121 689.462 26.1121 Q690.232 26.1121 691.164 26.2337 Q692.096 26.3147 693.23 26.5172 L693.27 34.1734 Z\" fill=\"#000000\" fill-rule=\"evenodd\" fill-opacity=\"1\" /><path clip-path=\"url(#clip660)\" d=\"M725.921 34.1734 Q724.665 33.4443 723.166 33.1202 Q721.708 32.7556 719.925 32.7556 Q713.606 32.7556 710.203 36.8875 Q706.841 40.9789 706.841 48.6757 L706.841 72.576 L699.347 72.576 L699.347 27.2059 L706.841 27.2059 L706.841 34.2544 Q709.19 30.1225 712.958 28.1376 Q716.725 26.1121 722.113 26.1121 Q722.882 26.1121 723.814 26.2337 Q724.746 26.3147 725.88 26.5172 L725.921 34.1734 Z\" fill=\"#000000\" fill-rule=\"evenodd\" fill-opacity=\"1\" /><path clip-path=\"url(#clip660)\" d=\"M733.739 27.2059 L741.192 27.2059 L741.192 72.576 L733.739 72.576 L733.739 27.2059 M733.739 9.54393 L741.192 9.54393 L741.192 18.9825 L733.739 18.9825 L733.739 9.54393 Z\" fill=\"#000000\" fill-rule=\"evenodd\" fill-opacity=\"1\" /><path clip-path=\"url(#clip660)\" d=\"M789.439 28.9478 L789.439 35.9153 Q786.279 34.1734 783.079 33.3227 Q779.919 32.4315 776.678 32.4315 Q769.427 32.4315 765.417 37.0496 Q761.406 41.6271 761.406 49.9314 Q761.406 58.2358 765.417 62.8538 Q769.427 67.4314 776.678 67.4314 Q779.919 67.4314 783.079 66.5807 Q786.279 65.6895 789.439 63.9476 L789.439 70.8341 Q786.32 72.2924 782.957 73.0216 Q779.636 73.7508 775.868 73.7508 Q765.619 73.7508 759.584 67.3098 Q753.548 60.8689 753.548 49.9314 Q753.548 38.832 759.624 32.472 Q765.741 26.1121 776.354 26.1121 Q779.798 26.1121 783.079 26.8413 Q786.36 27.5299 789.439 28.9478 Z\" fill=\"#000000\" fill-rule=\"evenodd\" fill-opacity=\"1\" /><path clip-path=\"url(#clip660)\" d=\"M801.632 54.671 L801.632 27.2059 L809.086 27.2059 L809.086 54.3874 Q809.086 60.8284 811.597 64.0691 Q814.109 67.2693 819.132 67.2693 Q825.168 67.2693 828.652 63.421 Q832.176 59.5726 832.176 52.9291 L832.176 27.2059 L839.629 27.2059 L839.629 72.576 L832.176 72.576 L832.176 65.6084 Q829.462 69.7404 825.856 71.7658 Q822.292 73.7508 817.552 73.7508 Q809.734 73.7508 805.683 68.8897 Q801.632 64.0286 801.632 54.671 M820.388 26.1121 L820.388 26.1121 Z\" fill=\"#000000\" fill-rule=\"evenodd\" fill-opacity=\"1\" /><path clip-path=\"url(#clip660)\" d=\"M854.982 9.54393 L862.436 9.54393 L862.436 72.576 L854.982 72.576 L854.982 9.54393 Z\" fill=\"#000000\" fill-rule=\"evenodd\" fill-opacity=\"1\" /><path clip-path=\"url(#clip660)\" d=\"M898.651 49.7694 Q889.618 49.7694 886.134 51.8354 Q882.65 53.9013 882.65 58.8839 Q882.65 62.8538 885.243 65.2034 Q887.876 67.5124 892.372 67.5124 Q898.57 67.5124 902.297 63.1374 Q906.064 58.7219 906.064 51.4303 L906.064 49.7694 L898.651 49.7694 M913.518 46.6907 L913.518 72.576 L906.064 72.576 L906.064 65.6895 Q903.512 69.8214 899.704 71.8063 Q895.897 73.7508 890.387 73.7508 Q883.42 73.7508 879.288 69.8619 Q875.196 65.9325 875.196 59.3701 Q875.196 51.7138 880.301 47.825 Q885.445 43.9361 895.613 43.9361 L906.064 43.9361 L906.064 43.2069 Q906.064 38.0623 902.662 35.2672 Q899.299 32.4315 893.182 32.4315 Q889.294 32.4315 885.607 33.3632 Q881.921 34.295 878.518 36.1584 L878.518 29.2718 Q882.61 27.692 886.458 26.9223 Q890.306 26.1121 893.952 26.1121 Q903.796 26.1121 908.657 31.2163 Q913.518 36.3204 913.518 46.6907 Z\" fill=\"#000000\" fill-rule=\"evenodd\" fill-opacity=\"1\" /><path clip-path=\"url(#clip660)\" d=\"M955.161 34.1734 Q953.905 33.4443 952.407 33.1202 Q950.948 32.7556 949.166 32.7556 Q942.846 32.7556 939.444 36.8875 Q936.081 40.9789 936.081 48.6757 L936.081 72.576 L928.587 72.576 L928.587 27.2059 L936.081 27.2059 L936.081 34.2544 Q938.431 30.1225 942.198 28.1376 Q945.966 26.1121 951.353 26.1121 Q952.123 26.1121 953.055 26.2337 Q953.986 26.3147 955.121 26.5172 L955.161 34.1734 Z\" fill=\"#000000\" fill-rule=\"evenodd\" fill-opacity=\"1\" /><path clip-path=\"url(#clip660)\" d=\"M1034.96 16.7545 L1034.96 25.383 Q1030.83 21.5346 1026.13 19.6307 Q1021.47 17.7268 1016.21 17.7268 Q1005.84 17.7268 1000.33 24.0867 Q994.82 30.4061 994.82 42.3968 Q994.82 54.3469 1000.33 60.7069 Q1005.84 67.0263 1016.21 67.0263 Q1021.47 67.0263 1026.13 65.1223 Q1030.83 63.2184 1034.96 59.3701 L1034.96 67.9175 Q1030.67 70.8341 1025.85 72.2924 Q1021.07 73.7508 1015.72 73.7508 Q1001.99 73.7508 994.09 65.3654 Q986.191 56.9395 986.191 42.3968 Q986.191 27.8135 994.09 19.4281 Q1001.99 11.0023 1015.72 11.0023 Q1021.15 11.0023 1025.93 12.4606 Q1030.75 13.8784 1034.96 16.7545 Z\" fill=\"#000000\" fill-rule=\"evenodd\" fill-opacity=\"1\" /><path clip-path=\"url(#clip660)\" d=\"M1064.86 32.4315 Q1058.86 32.4315 1055.38 37.1306 Q1051.9 41.7891 1051.9 49.9314 Q1051.9 58.0738 1055.34 62.7728 Q1058.82 67.4314 1064.86 67.4314 Q1070.81 67.4314 1074.3 62.7323 Q1077.78 58.0333 1077.78 49.9314 Q1077.78 41.8701 1074.3 37.1711 Q1070.81 32.4315 1064.86 32.4315 M1064.86 26.1121 Q1074.58 26.1121 1080.13 32.4315 Q1085.68 38.7509 1085.68 49.9314 Q1085.68 61.0714 1080.13 67.4314 Q1074.58 73.7508 1064.86 73.7508 Q1055.1 73.7508 1049.55 67.4314 Q1044.04 61.0714 1044.04 49.9314 Q1044.04 38.7509 1049.55 32.4315 Q1055.1 26.1121 1064.86 26.1121 Z\" fill=\"#000000\" fill-rule=\"evenodd\" fill-opacity=\"1\" /><path clip-path=\"url(#clip660)\" d=\"M1133.36 35.9153 Q1136.16 30.8922 1140.04 28.5022 Q1143.93 26.1121 1149.2 26.1121 Q1156.29 26.1121 1160.14 31.0947 Q1163.99 36.0368 1163.99 45.1919 L1163.99 72.576 L1156.49 72.576 L1156.49 45.4349 Q1156.49 38.913 1154.18 35.7533 Q1151.87 32.5936 1147.13 32.5936 Q1141.34 32.5936 1137.98 36.4419 Q1134.62 40.2903 1134.62 46.9338 L1134.62 72.576 L1127.12 72.576 L1127.12 45.4349 Q1127.12 38.8725 1124.81 35.7533 Q1122.5 32.5936 1117.68 32.5936 Q1111.97 32.5936 1108.61 36.4824 Q1105.25 40.3308 1105.25 46.9338 L1105.25 72.576 L1097.75 72.576 L1097.75 27.2059 L1105.25 27.2059 L1105.25 34.2544 Q1107.8 30.082 1111.36 28.0971 Q1114.93 26.1121 1119.83 26.1121 Q1124.77 26.1121 1128.22 28.6237 Q1131.7 31.1352 1133.36 35.9153 Z\" fill=\"#000000\" fill-rule=\"evenodd\" fill-opacity=\"1\" /><path clip-path=\"url(#clip660)\" d=\"M1186.06 65.7705 L1186.06 89.8329 L1178.57 89.8329 L1178.57 27.2059 L1186.06 27.2059 L1186.06 34.0924 Q1188.41 30.0415 1191.98 28.0971 Q1195.58 26.1121 1200.57 26.1121 Q1208.83 26.1121 1213.97 32.6746 Q1219.16 39.2371 1219.16 49.9314 Q1219.16 60.6258 1213.97 67.1883 Q1208.83 73.7508 1200.57 73.7508 Q1195.58 73.7508 1191.98 71.8063 Q1188.41 69.8214 1186.06 65.7705 M1211.42 49.9314 Q1211.42 41.7081 1208.02 37.0496 Q1204.66 32.3505 1198.74 32.3505 Q1192.83 32.3505 1189.43 37.0496 Q1186.06 41.7081 1186.06 49.9314 Q1186.06 58.1548 1189.43 62.8538 Q1192.83 67.5124 1198.74 67.5124 Q1204.66 67.5124 1208.02 62.8538 Q1211.42 58.1548 1211.42 49.9314 Z\" fill=\"#000000\" fill-rule=\"evenodd\" fill-opacity=\"1\" /><path clip-path=\"url(#clip660)\" d=\"M1231.51 9.54393 L1238.97 9.54393 L1238.97 72.576 L1231.51 72.576 L1231.51 9.54393 Z\" fill=\"#000000\" fill-rule=\"evenodd\" fill-opacity=\"1\" /><path clip-path=\"url(#clip660)\" d=\"M1293.37 48.0275 L1293.37 51.6733 L1259.1 51.6733 Q1259.59 59.3701 1263.72 63.421 Q1267.89 67.4314 1275.3 67.4314 Q1279.6 67.4314 1283.61 66.3781 Q1287.66 65.3249 1291.63 63.2184 L1291.63 70.267 Q1287.62 71.9684 1283.41 72.8596 Q1279.19 73.7508 1274.86 73.7508 Q1264 73.7508 1257.64 67.4314 Q1251.32 61.1119 1251.32 50.3365 Q1251.32 39.1965 1257.32 32.6746 Q1263.35 26.1121 1273.56 26.1121 Q1282.72 26.1121 1288.02 32.0264 Q1293.37 37.9003 1293.37 48.0275 M1285.92 45.84 Q1285.84 39.7232 1282.47 36.0774 Q1279.15 32.4315 1273.64 32.4315 Q1267.4 32.4315 1263.64 35.9558 Q1259.91 39.4801 1259.34 45.8805 L1285.92 45.84 Z\" fill=\"#000000\" fill-rule=\"evenodd\" fill-opacity=\"1\" /><path clip-path=\"url(#clip660)\" d=\"M1341.86 27.2059 L1325.45 49.2833 L1342.71 72.576 L1333.92 72.576 L1320.71 54.752 L1307.51 72.576 L1298.72 72.576 L1316.34 48.8377 L1300.22 27.2059 L1309.01 27.2059 L1321.04 43.369 L1333.07 27.2059 L1341.86 27.2059 Z\" fill=\"#000000\" fill-rule=\"evenodd\" fill-opacity=\"1\" /><path clip-path=\"url(#clip660)\" d=\"M1353.24 27.2059 L1360.7 27.2059 L1360.7 72.576 L1353.24 72.576 L1353.24 27.2059 M1353.24 9.54393 L1360.7 9.54393 L1360.7 18.9825 L1353.24 18.9825 L1353.24 9.54393 Z\" fill=\"#000000\" fill-rule=\"evenodd\" fill-opacity=\"1\" /><path clip-path=\"url(#clip660)\" d=\"M1383.67 14.324 L1383.67 27.2059 L1399.02 27.2059 L1399.02 32.9987 L1383.67 32.9987 L1383.67 57.6282 Q1383.67 63.1779 1385.16 64.7578 Q1386.7 66.3376 1391.36 66.3376 L1399.02 66.3376 L1399.02 72.576 L1391.36 72.576 Q1382.73 72.576 1379.45 69.3758 Q1376.17 66.1351 1376.17 57.6282 L1376.17 32.9987 L1370.7 32.9987 L1370.7 27.2059 L1376.17 27.2059 L1376.17 14.324 L1383.67 14.324 Z\" fill=\"#000000\" fill-rule=\"evenodd\" fill-opacity=\"1\" /><path clip-path=\"url(#clip660)\" d=\"M1427.7 76.7889 Q1424.54 84.8907 1421.54 87.3618 Q1418.54 89.8329 1413.52 89.8329 L1407.57 89.8329 L1407.57 83.5945 L1411.94 83.5945 Q1415.02 83.5945 1416.72 82.1361 Q1418.42 80.6778 1420.49 75.2496 L1421.83 71.8468 L1403.47 27.2059 L1411.37 27.2059 L1425.55 62.6918 L1439.73 27.2059 L1447.63 27.2059 L1427.7 76.7889 Z\" fill=\"#000000\" fill-rule=\"evenodd\" fill-opacity=\"1\" /><path clip-path=\"url(#clip660)\" d=\"M1504.83 20.1573 L1493.73 50.2555 L1515.97 50.2555 L1504.83 20.1573 M1500.21 12.096 L1509.49 12.096 L1532.54 72.576 L1524.03 72.576 L1518.52 57.061 L1491.26 57.061 L1485.75 72.576 L1477.12 72.576 L1500.21 12.096 Z\" fill=\"#000000\" fill-rule=\"evenodd\" fill-opacity=\"1\" /><path clip-path=\"url(#clip660)\" d=\"M1572.24 28.9478 L1572.24 35.9153 Q1569.08 34.1734 1565.88 33.3227 Q1562.72 32.4315 1559.48 32.4315 Q1552.22 32.4315 1548.21 37.0496 Q1544.2 41.6271 1544.2 49.9314 Q1544.2 58.2358 1548.21 62.8538 Q1552.22 67.4314 1559.48 67.4314 Q1562.72 67.4314 1565.88 66.5807 Q1569.08 65.6895 1572.24 63.9476 L1572.24 70.8341 Q1569.12 72.2924 1565.75 73.0216 Q1562.43 73.7508 1558.66 73.7508 Q1548.42 73.7508 1542.38 67.3098 Q1536.34 60.8689 1536.34 49.9314 Q1536.34 38.832 1542.42 32.472 Q1548.54 26.1121 1559.15 26.1121 Q1562.59 26.1121 1565.88 26.8413 Q1569.16 27.5299 1572.24 28.9478 Z\" fill=\"#000000\" fill-rule=\"evenodd\" fill-opacity=\"1\" /><path clip-path=\"url(#clip660)\" d=\"M1617.85 28.9478 L1617.85 35.9153 Q1614.69 34.1734 1611.49 33.3227 Q1608.33 32.4315 1605.09 32.4315 Q1597.84 32.4315 1593.83 37.0496 Q1589.82 41.6271 1589.82 49.9314 Q1589.82 58.2358 1593.83 62.8538 Q1597.84 67.4314 1605.09 67.4314 Q1608.33 67.4314 1611.49 66.5807 Q1614.69 65.6895 1617.85 63.9476 L1617.85 70.8341 Q1614.73 72.2924 1611.37 73.0216 Q1608.05 73.7508 1604.28 73.7508 Q1594.03 73.7508 1587.99 67.3098 Q1581.96 60.8689 1581.96 49.9314 Q1581.96 38.832 1588.03 32.472 Q1594.15 26.1121 1604.76 26.1121 Q1608.21 26.1121 1611.49 26.8413 Q1614.77 27.5299 1617.85 28.9478 Z\" fill=\"#000000\" fill-rule=\"evenodd\" fill-opacity=\"1\" /><path clip-path=\"url(#clip660)\" d=\"M1630.04 54.671 L1630.04 27.2059 L1637.5 27.2059 L1637.5 54.3874 Q1637.5 60.8284 1640.01 64.0691 Q1642.52 67.2693 1647.54 67.2693 Q1653.58 67.2693 1657.06 63.421 Q1660.59 59.5726 1660.59 52.9291 L1660.59 27.2059 L1668.04 27.2059 L1668.04 72.576 L1660.59 72.576 L1660.59 65.6084 Q1657.87 69.7404 1654.27 71.7658 Q1650.7 73.7508 1645.96 73.7508 Q1638.14 73.7508 1634.09 68.8897 Q1630.04 64.0286 1630.04 54.671 M1648.8 26.1121 L1648.8 26.1121 Z\" fill=\"#000000\" fill-rule=\"evenodd\" fill-opacity=\"1\" /><path clip-path=\"url(#clip660)\" d=\"M1718.72 35.9153 Q1721.51 30.8922 1725.4 28.5022 Q1729.29 26.1121 1734.56 26.1121 Q1741.64 26.1121 1745.49 31.0947 Q1749.34 36.0368 1749.34 45.1919 L1749.34 72.576 L1741.85 72.576 L1741.85 45.4349 Q1741.85 38.913 1739.54 35.7533 Q1737.23 32.5936 1732.49 32.5936 Q1726.7 32.5936 1723.33 36.4419 Q1719.97 40.2903 1719.97 46.9338 L1719.97 72.576 L1712.48 72.576 L1712.48 45.4349 Q1712.48 38.8725 1710.17 35.7533 Q1707.86 32.5936 1703.04 32.5936 Q1697.33 32.5936 1693.97 36.4824 Q1690.6 40.3308 1690.6 46.9338 L1690.6 72.576 L1683.11 72.576 L1683.11 27.2059 L1690.6 27.2059 L1690.6 34.2544 Q1693.15 30.082 1696.72 28.0971 Q1700.28 26.1121 1705.19 26.1121 Q1710.13 26.1121 1713.57 28.6237 Q1717.06 31.1352 1718.72 35.9153 Z\" fill=\"#000000\" fill-rule=\"evenodd\" fill-opacity=\"1\" /><path clip-path=\"url(#clip660)\" d=\"M1763.44 54.671 L1763.44 27.2059 L1770.89 27.2059 L1770.89 54.3874 Q1770.89 60.8284 1773.4 64.0691 Q1775.91 67.2693 1780.94 67.2693 Q1786.97 67.2693 1790.46 63.421 Q1793.98 59.5726 1793.98 52.9291 L1793.98 27.2059 L1801.44 27.2059 L1801.44 72.576 L1793.98 72.576 L1793.98 65.6084 Q1791.27 69.7404 1787.66 71.7658 Q1784.1 73.7508 1779.36 73.7508 Q1771.54 73.7508 1767.49 68.8897 Q1763.44 64.0286 1763.44 54.671 M1782.19 26.1121 L1782.19 26.1121 Z\" fill=\"#000000\" fill-rule=\"evenodd\" fill-opacity=\"1\" /><path clip-path=\"url(#clip660)\" d=\"M1816.79 9.54393 L1824.24 9.54393 L1824.24 72.576 L1816.79 72.576 L1816.79 9.54393 Z\" fill=\"#000000\" fill-rule=\"evenodd\" fill-opacity=\"1\" /><path clip-path=\"url(#clip660)\" d=\"M1860.46 49.7694 Q1851.42 49.7694 1847.94 51.8354 Q1844.46 53.9013 1844.46 58.8839 Q1844.46 62.8538 1847.05 65.2034 Q1849.68 67.5124 1854.18 67.5124 Q1860.38 67.5124 1864.1 63.1374 Q1867.87 58.7219 1867.87 51.4303 L1867.87 49.7694 L1860.46 49.7694 M1875.32 46.6907 L1875.32 72.576 L1867.87 72.576 L1867.87 65.6895 Q1865.32 69.8214 1861.51 71.8063 Q1857.7 73.7508 1852.19 73.7508 Q1845.23 73.7508 1841.09 69.8619 Q1837 65.9325 1837 59.3701 Q1837 51.7138 1842.11 47.825 Q1847.25 43.9361 1857.42 43.9361 L1867.87 43.9361 L1867.87 43.2069 Q1867.87 38.0623 1864.47 35.2672 Q1861.11 32.4315 1854.99 32.4315 Q1851.1 32.4315 1847.41 33.3632 Q1843.73 34.295 1840.32 36.1584 L1840.32 29.2718 Q1844.42 27.692 1848.26 26.9223 Q1852.11 26.1121 1855.76 26.1121 Q1865.6 26.1121 1870.46 31.2163 Q1875.32 36.3204 1875.32 46.6907 Z\" fill=\"#000000\" fill-rule=\"evenodd\" fill-opacity=\"1\" /><path clip-path=\"url(#clip660)\" d=\"M1898.05 14.324 L1898.05 27.2059 L1913.4 27.2059 L1913.4 32.9987 L1898.05 32.9987 L1898.05 57.6282 Q1898.05 63.1779 1899.55 64.7578 Q1901.09 66.3376 1905.75 66.3376 L1913.4 66.3376 L1913.4 72.576 L1905.75 72.576 Q1897.12 72.576 1893.84 69.3758 Q1890.56 66.1351 1890.56 57.6282 L1890.56 32.9987 L1885.09 32.9987 L1885.09 27.2059 L1890.56 27.2059 L1890.56 14.324 L1898.05 14.324 Z\" fill=\"#000000\" fill-rule=\"evenodd\" fill-opacity=\"1\" /><path clip-path=\"url(#clip660)\" d=\"M1923.21 27.2059 L1930.66 27.2059 L1930.66 72.576 L1923.21 72.576 L1923.21 27.2059 M1923.21 9.54393 L1930.66 9.54393 L1930.66 18.9825 L1923.21 18.9825 L1923.21 9.54393 Z\" fill=\"#000000\" fill-rule=\"evenodd\" fill-opacity=\"1\" /><path clip-path=\"url(#clip660)\" d=\"M1963.84 32.4315 Q1957.84 32.4315 1954.36 37.1306 Q1950.87 41.7891 1950.87 49.9314 Q1950.87 58.0738 1954.32 62.7728 Q1957.8 67.4314 1963.84 67.4314 Q1969.79 67.4314 1973.27 62.7323 Q1976.76 58.0333 1976.76 49.9314 Q1976.76 41.8701 1973.27 37.1711 Q1969.79 32.4315 1963.84 32.4315 M1963.84 26.1121 Q1973.56 26.1121 1979.11 32.4315 Q1984.66 38.7509 1984.66 49.9314 Q1984.66 61.0714 1979.11 67.4314 Q1973.56 73.7508 1963.84 73.7508 Q1954.07 73.7508 1948.52 67.4314 Q1943.01 61.0714 1943.01 49.9314 Q1943.01 38.7509 1948.52 32.4315 Q1954.07 26.1121 1963.84 26.1121 Z\" fill=\"#000000\" fill-rule=\"evenodd\" fill-opacity=\"1\" /><path clip-path=\"url(#clip660)\" d=\"M2034.73 45.1919 L2034.73 72.576 L2027.27 72.576 L2027.27 45.4349 Q2027.27 38.994 2024.76 35.7938 Q2022.25 32.5936 2017.23 32.5936 Q2011.19 32.5936 2007.71 36.4419 Q2004.22 40.2903 2004.22 46.9338 L2004.22 72.576 L1996.73 72.576 L1996.73 27.2059 L2004.22 27.2059 L2004.22 34.2544 Q2006.9 30.163 2010.5 28.1376 Q2014.15 26.1121 2018.89 26.1121 Q2026.71 26.1121 2030.72 30.9732 Q2034.73 35.7938 2034.73 45.1919 Z\" fill=\"#000000\" fill-rule=\"evenodd\" fill-opacity=\"1\" /><polyline clip-path=\"url(#clip662)\" style=\"stroke:#009af9; stroke-linecap:butt; stroke-linejoin:round; stroke-width:4; stroke-opacity:1; fill:none\" points=\"\n",
       "  295.211,1386.4 494.973,1201.14 694.735,992.962 894.496,836.352 1094.26,691.201 1294.02,559.42 1493.78,475.386 1693.54,398.991 1893.3,337.875 \n",
       "  \"/>\n",
       "<polyline clip-path=\"url(#clip662)\" style=\"stroke:#e26f46; stroke-linecap:butt; stroke-linejoin:round; stroke-width:4; stroke-opacity:1; fill:none\" points=\"\n",
       "  295.211,1386.4 494.973,1147.66 694.735,857.36 894.496,798.154 1094.26,633.905 1294.02,519.313 1493.78,446.737 1693.54,381.802 1893.3,274.849 2093.07,213.733 \n",
       "  2292.83,160.256 \n",
       "  \"/>\n",
       "<path clip-path=\"url(#clip660)\" d=\"\n",
       "M1757.78 825.166 L2282.17 825.166 L2282.17 669.646 L1757.78 669.646  Z\n",
       "  \" fill=\"#ffffff\" fill-rule=\"evenodd\" fill-opacity=\"1\"/>\n",
       "<polyline clip-path=\"url(#clip660)\" style=\"stroke:#000000; stroke-linecap:butt; stroke-linejoin:round; stroke-width:4; stroke-opacity:1; fill:none\" points=\"\n",
       "  1757.78,825.166 2282.17,825.166 2282.17,669.646 1757.78,669.646 1757.78,825.166 \n",
       "  \"/>\n",
       "<polyline clip-path=\"url(#clip660)\" style=\"stroke:#009af9; stroke-linecap:butt; stroke-linejoin:round; stroke-width:4; stroke-opacity:1; fill:none\" points=\"\n",
       "  1781.31,721.486 1922.47,721.486 \n",
       "  \"/>\n",
       "<path clip-path=\"url(#clip660)\" d=\"M1967.71 723.118 L1967.71 738.766 L1963.45 738.766 L1963.45 723.257 Q1963.45 719.576 1962.02 717.748 Q1960.58 715.919 1957.71 715.919 Q1954.26 715.919 1952.27 718.118 Q1950.28 720.317 1950.28 724.113 L1950.28 738.766 L1946 738.766 L1946 712.84 L1950.28 712.84 L1950.28 716.868 Q1951.81 714.53 1953.87 713.373 Q1955.95 712.215 1958.66 712.215 Q1963.13 712.215 1965.42 714.993 Q1967.71 717.748 1967.71 723.118 Z\" fill=\"#000000\" fill-rule=\"evenodd\" fill-opacity=\"1\" /><path clip-path=\"url(#clip660)\" d=\"M1986.25 715.826 Q1982.83 715.826 1980.84 718.511 Q1978.85 721.173 1978.85 725.826 Q1978.85 730.479 1980.81 733.164 Q1982.81 735.826 1986.25 735.826 Q1989.66 735.826 1991.65 733.141 Q1993.64 730.456 1993.64 725.826 Q1993.64 721.22 1991.65 718.535 Q1989.66 715.826 1986.25 715.826 M1986.25 712.215 Q1991.81 712.215 1994.98 715.826 Q1998.15 719.437 1998.15 725.826 Q1998.15 732.192 1994.98 735.826 Q1991.81 739.437 1986.25 739.437 Q1980.68 739.437 1977.5 735.826 Q1974.36 732.192 1974.36 725.826 Q1974.36 719.437 1977.5 715.826 Q1980.68 712.215 1986.25 712.215 Z\" fill=\"#000000\" fill-rule=\"evenodd\" fill-opacity=\"1\" /><path clip-path=\"url(#clip660)\" d=\"M2026.76 723.118 L2026.76 738.766 L2022.5 738.766 L2022.5 723.257 Q2022.5 719.576 2021.07 717.748 Q2019.63 715.919 2016.76 715.919 Q2013.31 715.919 2011.32 718.118 Q2009.33 720.317 2009.33 724.113 L2009.33 738.766 L2005.05 738.766 L2005.05 712.84 L2009.33 712.84 L2009.33 716.868 Q2010.86 714.53 2012.92 713.373 Q2015 712.215 2017.71 712.215 Q2022.18 712.215 2024.47 714.993 Q2026.76 717.748 2026.76 723.118 Z\" fill=\"#000000\" fill-rule=\"evenodd\" fill-opacity=\"1\" /><path clip-path=\"url(#clip660)\" d=\"M2033.11 723.882 L2045.58 723.882 L2045.58 727.678 L2033.11 727.678 L2033.11 723.882 Z\" fill=\"#000000\" fill-rule=\"evenodd\" fill-opacity=\"1\" /><path clip-path=\"url(#clip660)\" d=\"M2056.58 705.479 L2056.58 712.84 L2065.35 712.84 L2065.35 716.15 L2056.58 716.15 L2056.58 730.224 Q2056.58 733.396 2057.43 734.298 Q2058.31 735.201 2060.98 735.201 L2065.35 735.201 L2065.35 738.766 L2060.98 738.766 Q2056.05 738.766 2054.17 736.937 Q2052.3 735.085 2052.3 730.224 L2052.3 716.15 L2049.17 716.15 L2049.17 712.84 L2052.3 712.84 L2052.3 705.479 L2056.58 705.479 Z\" fill=\"#000000\" fill-rule=\"evenodd\" fill-opacity=\"1\" /><path clip-path=\"url(#clip660)\" d=\"M2085.98 716.822 Q2085.26 716.405 2084.4 716.22 Q2083.57 716.011 2082.55 716.011 Q2078.94 716.011 2076.99 718.373 Q2075.07 720.711 2075.07 725.109 L2075.07 738.766 L2070.79 738.766 L2070.79 712.84 L2075.07 712.84 L2075.07 716.868 Q2076.42 714.507 2078.57 713.373 Q2080.72 712.215 2083.8 712.215 Q2084.24 712.215 2084.77 712.285 Q2085.3 712.331 2085.95 712.447 L2085.98 716.822 Z\" fill=\"#000000\" fill-rule=\"evenodd\" fill-opacity=\"1\" /><path clip-path=\"url(#clip660)\" d=\"M2102.23 725.734 Q2097.06 725.734 2095.07 726.914 Q2093.08 728.095 2093.08 730.942 Q2093.08 733.21 2094.56 734.553 Q2096.07 735.872 2098.64 735.872 Q2102.18 735.872 2104.31 733.372 Q2106.46 730.849 2106.46 726.683 L2106.46 725.734 L2102.23 725.734 M2110.72 723.974 L2110.72 738.766 L2106.46 738.766 L2106.46 734.831 Q2105 737.192 2102.83 738.326 Q2100.65 739.437 2097.5 739.437 Q2093.52 739.437 2091.16 737.215 Q2088.82 734.97 2088.82 731.22 Q2088.82 726.845 2091.74 724.623 Q2094.68 722.4 2100.49 722.4 L2106.46 722.4 L2106.46 721.984 Q2106.46 719.044 2104.52 717.447 Q2102.6 715.826 2099.1 715.826 Q2096.88 715.826 2094.77 716.359 Q2092.67 716.891 2090.72 717.956 L2090.72 714.021 Q2093.06 713.118 2095.26 712.678 Q2097.46 712.215 2099.54 712.215 Q2105.17 712.215 2107.94 715.132 Q2110.72 718.049 2110.72 723.974 Z\" fill=\"#000000\" fill-rule=\"evenodd\" fill-opacity=\"1\" /><path clip-path=\"url(#clip660)\" d=\"M2141.04 723.118 L2141.04 738.766 L2136.79 738.766 L2136.79 723.257 Q2136.79 719.576 2135.35 717.748 Q2133.92 715.919 2131.04 715.919 Q2127.6 715.919 2125.61 718.118 Q2123.61 720.317 2123.61 724.113 L2123.61 738.766 L2119.33 738.766 L2119.33 712.84 L2123.61 712.84 L2123.61 716.868 Q2125.14 714.53 2127.2 713.373 Q2129.29 712.215 2131.99 712.215 Q2136.46 712.215 2138.75 714.993 Q2141.04 717.748 2141.04 723.118 Z\" fill=\"#000000\" fill-rule=\"evenodd\" fill-opacity=\"1\" /><path clip-path=\"url(#clip660)\" d=\"M2166.07 713.604 L2166.07 717.632 Q2164.26 716.706 2162.32 716.243 Q2160.37 715.78 2158.29 715.78 Q2155.12 715.78 2153.52 716.752 Q2151.95 717.724 2151.95 719.669 Q2151.95 721.15 2153.08 722.007 Q2154.22 722.84 2157.64 723.604 L2159.1 723.928 Q2163.64 724.9 2165.54 726.683 Q2167.46 728.442 2167.46 731.613 Q2167.46 735.224 2164.59 737.331 Q2161.74 739.437 2156.74 739.437 Q2154.66 739.437 2152.39 739.021 Q2150.14 738.627 2147.64 737.817 L2147.64 733.419 Q2150 734.646 2152.29 735.271 Q2154.59 735.872 2156.83 735.872 Q2159.84 735.872 2161.46 734.854 Q2163.08 733.812 2163.08 731.937 Q2163.08 730.201 2161.9 729.275 Q2160.74 728.349 2156.79 727.493 L2155.3 727.146 Q2151.35 726.312 2149.59 724.599 Q2147.83 722.863 2147.83 719.854 Q2147.83 716.197 2150.42 714.206 Q2153.01 712.215 2157.78 712.215 Q2160.14 712.215 2162.23 712.562 Q2164.31 712.91 2166.07 713.604 Z\" fill=\"#000000\" fill-rule=\"evenodd\" fill-opacity=\"1\" /><path clip-path=\"url(#clip660)\" d=\"M2187.36 702.748 L2187.36 706.289 L2183.29 706.289 Q2181 706.289 2180.1 707.215 Q2179.22 708.141 2179.22 710.549 L2179.22 712.84 L2186.23 712.84 L2186.23 716.15 L2179.22 716.15 L2179.22 738.766 L2174.93 738.766 L2174.93 716.15 L2170.86 716.15 L2170.86 712.84 L2174.93 712.84 L2174.93 711.035 Q2174.93 706.706 2176.95 704.738 Q2178.96 702.748 2183.34 702.748 L2187.36 702.748 Z\" fill=\"#000000\" fill-rule=\"evenodd\" fill-opacity=\"1\" /><path clip-path=\"url(#clip660)\" d=\"M2213.1 724.738 L2213.1 726.822 L2193.52 726.822 Q2193.8 731.22 2196.16 733.535 Q2198.54 735.826 2202.78 735.826 Q2205.23 735.826 2207.53 735.224 Q2209.84 734.622 2212.11 733.419 L2212.11 737.447 Q2209.82 738.419 2207.41 738.928 Q2205 739.437 2202.53 739.437 Q2196.32 739.437 2192.69 735.826 Q2189.08 732.215 2189.08 726.058 Q2189.08 719.692 2192.5 715.965 Q2195.95 712.215 2201.79 712.215 Q2207.02 712.215 2210.05 715.595 Q2213.1 718.951 2213.1 724.738 M2208.85 723.488 Q2208.8 719.993 2206.88 717.91 Q2204.98 715.826 2201.83 715.826 Q2198.27 715.826 2196.11 717.84 Q2193.98 719.854 2193.66 723.511 L2208.85 723.488 Z\" fill=\"#000000\" fill-rule=\"evenodd\" fill-opacity=\"1\" /><path clip-path=\"url(#clip660)\" d=\"M2235.12 716.822 Q2234.4 716.405 2233.54 716.22 Q2232.71 716.011 2231.69 716.011 Q2228.08 716.011 2226.14 718.373 Q2224.22 720.711 2224.22 725.109 L2224.22 738.766 L2219.93 738.766 L2219.93 712.84 L2224.22 712.84 L2224.22 716.868 Q2225.56 714.507 2227.71 713.373 Q2229.86 712.215 2232.94 712.215 Q2233.38 712.215 2233.91 712.285 Q2234.45 712.331 2235.1 712.447 L2235.12 716.822 Z\" fill=\"#000000\" fill-rule=\"evenodd\" fill-opacity=\"1\" /><polyline clip-path=\"url(#clip660)\" style=\"stroke:#e26f46; stroke-linecap:butt; stroke-linejoin:round; stroke-width:4; stroke-opacity:1; fill:none\" points=\"\n",
       "  1781.31,773.326 1922.47,773.326 \n",
       "  \"/>\n",
       "<path clip-path=\"url(#clip660)\" d=\"M1953.41 757.319 L1953.41 764.68 L1962.18 764.68 L1962.18 767.99 L1953.41 767.99 L1953.41 782.064 Q1953.41 785.236 1954.26 786.138 Q1955.14 787.041 1957.81 787.041 L1962.18 787.041 L1962.18 790.606 L1957.81 790.606 Q1952.87 790.606 1951 788.777 Q1949.12 786.925 1949.12 782.064 L1949.12 767.99 L1946 767.99 L1946 764.68 L1949.12 764.68 L1949.12 757.319 L1953.41 757.319 Z\" fill=\"#000000\" fill-rule=\"evenodd\" fill-opacity=\"1\" /><path clip-path=\"url(#clip660)\" d=\"M1982.81 768.662 Q1982.09 768.245 1981.23 768.06 Q1980.4 767.851 1979.38 767.851 Q1975.77 767.851 1973.82 770.213 Q1971.9 772.551 1971.9 776.949 L1971.9 790.606 L1967.62 790.606 L1967.62 764.68 L1971.9 764.68 L1971.9 768.708 Q1973.24 766.347 1975.4 765.213 Q1977.55 764.055 1980.63 764.055 Q1981.07 764.055 1981.6 764.125 Q1982.13 764.171 1982.78 764.287 L1982.81 768.662 Z\" fill=\"#000000\" fill-rule=\"evenodd\" fill-opacity=\"1\" /><path clip-path=\"url(#clip660)\" d=\"M1999.05 777.574 Q1993.89 777.574 1991.9 778.754 Q1989.91 779.935 1989.91 782.782 Q1989.91 785.05 1991.39 786.393 Q1992.9 787.712 1995.47 787.712 Q1999.01 787.712 2001.14 785.212 Q2003.29 782.689 2003.29 778.523 L2003.29 777.574 L1999.05 777.574 M2007.55 775.814 L2007.55 790.606 L2003.29 790.606 L2003.29 786.671 Q2001.83 789.032 1999.66 790.166 Q1997.48 791.277 1994.33 791.277 Q1990.35 791.277 1987.99 789.055 Q1985.65 786.81 1985.65 783.06 Q1985.65 778.685 1988.57 776.463 Q1991.51 774.24 1997.32 774.24 L2003.29 774.24 L2003.29 773.824 Q2003.29 770.884 2001.35 769.287 Q1999.43 767.666 1995.93 767.666 Q1993.71 767.666 1991.6 768.199 Q1989.49 768.731 1987.55 769.796 L1987.55 765.861 Q1989.89 764.958 1992.09 764.518 Q1994.29 764.055 1996.37 764.055 Q2001.99 764.055 2004.77 766.972 Q2007.55 769.889 2007.55 775.814 Z\" fill=\"#000000\" fill-rule=\"evenodd\" fill-opacity=\"1\" /><path clip-path=\"url(#clip660)\" d=\"M2037.87 774.958 L2037.87 790.606 L2033.61 790.606 L2033.61 775.097 Q2033.61 771.416 2032.18 769.588 Q2030.74 767.759 2027.87 767.759 Q2024.43 767.759 2022.43 769.958 Q2020.44 772.157 2020.44 775.953 L2020.44 790.606 L2016.16 790.606 L2016.16 764.68 L2020.44 764.68 L2020.44 768.708 Q2021.97 766.37 2024.03 765.213 Q2026.12 764.055 2028.82 764.055 Q2033.29 764.055 2035.58 766.833 Q2037.87 769.588 2037.87 774.958 Z\" fill=\"#000000\" fill-rule=\"evenodd\" fill-opacity=\"1\" /><path clip-path=\"url(#clip660)\" d=\"M2062.9 765.444 L2062.9 769.472 Q2061.09 768.546 2059.15 768.083 Q2057.2 767.62 2055.12 767.62 Q2051.95 767.62 2050.35 768.592 Q2048.78 769.564 2048.78 771.509 Q2048.78 772.99 2049.91 773.847 Q2051.05 774.68 2054.47 775.444 L2055.93 775.768 Q2060.47 776.74 2062.36 778.523 Q2064.29 780.282 2064.29 783.453 Q2064.29 787.064 2061.42 789.171 Q2058.57 791.277 2053.57 791.277 Q2051.49 791.277 2049.22 790.861 Q2046.97 790.467 2044.47 789.657 L2044.47 785.259 Q2046.83 786.486 2049.12 787.111 Q2051.42 787.712 2053.66 787.712 Q2056.67 787.712 2058.29 786.694 Q2059.91 785.652 2059.91 783.777 Q2059.91 782.041 2058.73 781.115 Q2057.57 780.189 2053.61 779.333 L2052.13 778.986 Q2048.18 778.152 2046.42 776.439 Q2044.66 774.703 2044.66 771.694 Q2044.66 768.037 2047.25 766.046 Q2049.84 764.055 2054.61 764.055 Q2056.97 764.055 2059.05 764.402 Q2061.14 764.75 2062.9 765.444 Z\" fill=\"#000000\" fill-rule=\"evenodd\" fill-opacity=\"1\" /><path clip-path=\"url(#clip660)\" d=\"M2084.19 754.588 L2084.19 758.129 L2080.12 758.129 Q2077.83 758.129 2076.92 759.055 Q2076.05 759.981 2076.05 762.389 L2076.05 764.68 L2083.06 764.68 L2083.06 767.99 L2076.05 767.99 L2076.05 790.606 L2071.76 790.606 L2071.76 767.99 L2067.69 767.99 L2067.69 764.68 L2071.76 764.68 L2071.76 762.875 Q2071.76 758.546 2073.78 756.578 Q2075.79 754.588 2080.17 754.588 L2084.19 754.588 Z\" fill=\"#000000\" fill-rule=\"evenodd\" fill-opacity=\"1\" /><path clip-path=\"url(#clip660)\" d=\"M2109.93 776.578 L2109.93 778.662 L2090.35 778.662 Q2090.63 783.06 2092.99 785.375 Q2095.37 787.666 2099.61 787.666 Q2102.06 787.666 2104.36 787.064 Q2106.67 786.462 2108.94 785.259 L2108.94 789.287 Q2106.65 790.259 2104.24 790.768 Q2101.83 791.277 2099.36 791.277 Q2093.15 791.277 2089.52 787.666 Q2085.91 784.055 2085.91 777.898 Q2085.91 771.532 2089.33 767.805 Q2092.78 764.055 2098.61 764.055 Q2103.85 764.055 2106.88 767.435 Q2109.93 770.791 2109.93 776.578 M2105.67 775.328 Q2105.63 771.833 2103.71 769.75 Q2101.81 767.666 2098.66 767.666 Q2095.1 767.666 2092.94 769.68 Q2090.81 771.694 2090.49 775.351 L2105.67 775.328 Z\" fill=\"#000000\" fill-rule=\"evenodd\" fill-opacity=\"1\" /><path clip-path=\"url(#clip660)\" d=\"M2131.95 768.662 Q2131.23 768.245 2130.37 768.06 Q2129.54 767.851 2128.52 767.851 Q2124.91 767.851 2122.97 770.213 Q2121.05 772.551 2121.05 776.949 L2121.05 790.606 L2116.76 790.606 L2116.76 764.68 L2121.05 764.68 L2121.05 768.708 Q2122.39 766.347 2124.54 765.213 Q2126.69 764.055 2129.77 764.055 Q2130.21 764.055 2130.74 764.125 Q2131.28 764.171 2131.92 764.287 L2131.95 768.662 Z\" fill=\"#000000\" fill-rule=\"evenodd\" fill-opacity=\"1\" /></svg>\n"
      ]
     },
     "execution_count": 16,
     "metadata": {},
     "output_type": "execute_result"
    }
   ],
   "source": [
    "X1 = [i for i in 0:8]; Y1 = term_complexity\n",
    "plot(X1, Y1, seriestype = :line, xlabel = \"term\", ylabel=\"total complexity\", title=\"Curricular Complexity Accumulation\", \n",
    "    xticks=1:1:10, label=\"non-transfer\", legend=:right)\n",
    "X2 = [i for i in 0:10]; Y2 = term_complexity_xfer\n",
    "plot!(X2, Y2, seriestype = :line, label=\"transfer\")"
   ]
  },
  {
   "cell_type": "markdown",
   "metadata": {},
   "source": [
    "In the graph shown above, we see that for non-transfer students there is a fairly steady (i.e, almost linear) accumulation of curricular complexity from one term to the next. While in the transfer student plan, there is also a farily steady accumulation of complexity.  Given that the total complexity of the transfer program is greater than that of the non-tranfer program (a problem discussed above), the transfer line is always above the non-tranfer line; however, they both accumulate complexity at a similar rate.  "
   ]
  },
  {
   "cell_type": "code",
   "execution_count": 17,
   "metadata": {},
   "outputs": [
    {
     "data": {
      "text/plain": [
       "edge_crossings (generic function with 2 methods)"
      ]
     },
     "execution_count": 17,
     "metadata": {},
     "output_type": "execute_result"
    }
   ],
   "source": [
    "function edge_crossings(g::AbstractGraph{T}, s::Int, d::Array{Int,1}) where T\n",
    "    total = 0\n",
    "    for v in d\n",
    "        has_edge(g, s, v) ? total += 1 : nothing\n",
    "    end\n",
    "    return total\n",
    "end\n",
    "\n",
    "function edge_crossings(g::AbstractGraph{T}, s::Array{Int,1}) where T\n",
    "    total = 0\n",
    "    d = convert(Array{Int,1}, vertices(g)) # collect the graph vertex ids in a integer array\n",
    "    filter!(x->x ∉ s, d)  # remove the vertex ids in s from d\n",
    "    for v in s\n",
    "        total += edge_crossings(g, v, d)\n",
    "    end\n",
    "    return total\n",
    "end"
   ]
  },
  {
   "cell_type": "code",
   "execution_count": 18,
   "metadata": {
    "scrolled": false
   },
   "outputs": [
    {
     "data": {
      "text/plain": [
       "knowledge_transfer (generic function with 1 method)"
      ]
     },
     "execution_count": 18,
     "metadata": {},
     "output_type": "execute_result"
    }
   ],
   "source": [
    "function knowledge_transfer(dp::DegreePlan)\n",
    "    ec_terms = []\n",
    "    s = Array{Int64,1}()\n",
    "    for term in dp.terms\n",
    "        sum = 0\n",
    "        for c in term.courses\n",
    "            push!(s, c.vertex_id[dp.curriculum.id])\n",
    "        end\n",
    "        sum += edge_crossings(dp.curriculum.graph, s)\n",
    "        push!(ec_terms, sum)\n",
    "    end\n",
    "    return deleteat!(ec_terms, lastindex(ec_terms))\n",
    "end"
   ]
  },
  {
   "cell_type": "code",
   "execution_count": 19,
   "metadata": {},
   "outputs": [
    {
     "data": {
      "image/svg+xml": [
       "<?xml version=\"1.0\" encoding=\"utf-8\"?>\n",
       "<svg xmlns=\"http://www.w3.org/2000/svg\" xmlns:xlink=\"http://www.w3.org/1999/xlink\" width=\"600\" height=\"400\" viewBox=\"0 0 2400 1600\">\n",
       "<defs>\n",
       "  <clipPath id=\"clip700\">\n",
       "    <rect x=\"0\" y=\"0\" width=\"2400\" height=\"1600\"/>\n",
       "  </clipPath>\n",
       "</defs>\n",
       "<path clip-path=\"url(#clip700)\" d=\"\n",
       "M0 1600 L2400 1600 L2400 0 L0 0  Z\n",
       "  \" fill=\"#ffffff\" fill-rule=\"evenodd\" fill-opacity=\"1\"/>\n",
       "<defs>\n",
       "  <clipPath id=\"clip701\">\n",
       "    <rect x=\"480\" y=\"0\" width=\"1681\" height=\"1600\"/>\n",
       "  </clipPath>\n",
       "</defs>\n",
       "<path clip-path=\"url(#clip700)\" d=\"\n",
       "M202.227 1423.18 L2352.76 1423.18 L2352.76 123.472 L202.227 123.472  Z\n",
       "  \" fill=\"#ffffff\" fill-rule=\"evenodd\" fill-opacity=\"1\"/>\n",
       "<defs>\n",
       "  <clipPath id=\"clip702\">\n",
       "    <rect x=\"202\" y=\"123\" width=\"2152\" height=\"1301\"/>\n",
       "  </clipPath>\n",
       "</defs>\n",
       "<polyline clip-path=\"url(#clip702)\" style=\"stroke:#000000; stroke-linecap:butt; stroke-linejoin:round; stroke-width:2; stroke-opacity:0.1; fill:none\" points=\"\n",
       "  405.265,1423.18 405.265,123.472 \n",
       "  \"/>\n",
       "<polyline clip-path=\"url(#clip702)\" style=\"stroke:#000000; stroke-linecap:butt; stroke-linejoin:round; stroke-width:2; stroke-opacity:0.1; fill:none\" points=\"\n",
       "  623.321,1423.18 623.321,123.472 \n",
       "  \"/>\n",
       "<polyline clip-path=\"url(#clip702)\" style=\"stroke:#000000; stroke-linecap:butt; stroke-linejoin:round; stroke-width:2; stroke-opacity:0.1; fill:none\" points=\"\n",
       "  841.378,1423.18 841.378,123.472 \n",
       "  \"/>\n",
       "<polyline clip-path=\"url(#clip702)\" style=\"stroke:#000000; stroke-linecap:butt; stroke-linejoin:round; stroke-width:2; stroke-opacity:0.1; fill:none\" points=\"\n",
       "  1059.43,1423.18 1059.43,123.472 \n",
       "  \"/>\n",
       "<polyline clip-path=\"url(#clip702)\" style=\"stroke:#000000; stroke-linecap:butt; stroke-linejoin:round; stroke-width:2; stroke-opacity:0.1; fill:none\" points=\"\n",
       "  1277.49,1423.18 1277.49,123.472 \n",
       "  \"/>\n",
       "<polyline clip-path=\"url(#clip702)\" style=\"stroke:#000000; stroke-linecap:butt; stroke-linejoin:round; stroke-width:2; stroke-opacity:0.1; fill:none\" points=\"\n",
       "  1495.55,1423.18 1495.55,123.472 \n",
       "  \"/>\n",
       "<polyline clip-path=\"url(#clip702)\" style=\"stroke:#000000; stroke-linecap:butt; stroke-linejoin:round; stroke-width:2; stroke-opacity:0.1; fill:none\" points=\"\n",
       "  1713.61,1423.18 1713.61,123.472 \n",
       "  \"/>\n",
       "<polyline clip-path=\"url(#clip702)\" style=\"stroke:#000000; stroke-linecap:butt; stroke-linejoin:round; stroke-width:2; stroke-opacity:0.1; fill:none\" points=\"\n",
       "  1931.66,1423.18 1931.66,123.472 \n",
       "  \"/>\n",
       "<polyline clip-path=\"url(#clip702)\" style=\"stroke:#000000; stroke-linecap:butt; stroke-linejoin:round; stroke-width:2; stroke-opacity:0.1; fill:none\" points=\"\n",
       "  2149.72,1423.18 2149.72,123.472 \n",
       "  \"/>\n",
       "<polyline clip-path=\"url(#clip700)\" style=\"stroke:#000000; stroke-linecap:butt; stroke-linejoin:round; stroke-width:4; stroke-opacity:1; fill:none\" points=\"\n",
       "  202.227,1423.18 2352.76,1423.18 \n",
       "  \"/>\n",
       "<polyline clip-path=\"url(#clip700)\" style=\"stroke:#000000; stroke-linecap:butt; stroke-linejoin:round; stroke-width:4; stroke-opacity:1; fill:none\" points=\"\n",
       "  405.265,1423.18 405.265,1404.28 \n",
       "  \"/>\n",
       "<polyline clip-path=\"url(#clip700)\" style=\"stroke:#000000; stroke-linecap:butt; stroke-linejoin:round; stroke-width:4; stroke-opacity:1; fill:none\" points=\"\n",
       "  623.321,1423.18 623.321,1404.28 \n",
       "  \"/>\n",
       "<polyline clip-path=\"url(#clip700)\" style=\"stroke:#000000; stroke-linecap:butt; stroke-linejoin:round; stroke-width:4; stroke-opacity:1; fill:none\" points=\"\n",
       "  841.378,1423.18 841.378,1404.28 \n",
       "  \"/>\n",
       "<polyline clip-path=\"url(#clip700)\" style=\"stroke:#000000; stroke-linecap:butt; stroke-linejoin:round; stroke-width:4; stroke-opacity:1; fill:none\" points=\"\n",
       "  1059.43,1423.18 1059.43,1404.28 \n",
       "  \"/>\n",
       "<polyline clip-path=\"url(#clip700)\" style=\"stroke:#000000; stroke-linecap:butt; stroke-linejoin:round; stroke-width:4; stroke-opacity:1; fill:none\" points=\"\n",
       "  1277.49,1423.18 1277.49,1404.28 \n",
       "  \"/>\n",
       "<polyline clip-path=\"url(#clip700)\" style=\"stroke:#000000; stroke-linecap:butt; stroke-linejoin:round; stroke-width:4; stroke-opacity:1; fill:none\" points=\"\n",
       "  1495.55,1423.18 1495.55,1404.28 \n",
       "  \"/>\n",
       "<polyline clip-path=\"url(#clip700)\" style=\"stroke:#000000; stroke-linecap:butt; stroke-linejoin:round; stroke-width:4; stroke-opacity:1; fill:none\" points=\"\n",
       "  1713.61,1423.18 1713.61,1404.28 \n",
       "  \"/>\n",
       "<polyline clip-path=\"url(#clip700)\" style=\"stroke:#000000; stroke-linecap:butt; stroke-linejoin:round; stroke-width:4; stroke-opacity:1; fill:none\" points=\"\n",
       "  1931.66,1423.18 1931.66,1404.28 \n",
       "  \"/>\n",
       "<polyline clip-path=\"url(#clip700)\" style=\"stroke:#000000; stroke-linecap:butt; stroke-linejoin:round; stroke-width:4; stroke-opacity:1; fill:none\" points=\"\n",
       "  2149.72,1423.18 2149.72,1404.28 \n",
       "  \"/>\n",
       "<path clip-path=\"url(#clip700)\" d=\"M372.198 1481.64 L379.836 1481.64 L379.836 1455.28 L371.526 1456.95 L371.526 1452.69 L379.79 1451.02 L384.466 1451.02 L384.466 1481.64 L392.105 1481.64 L392.105 1485.58 L372.198 1485.58 L372.198 1481.64 Z\" fill=\"#000000\" fill-rule=\"evenodd\" fill-opacity=\"1\" /><path clip-path=\"url(#clip700)\" d=\"M398.795 1470.7 L411.271 1470.7 L411.271 1474.49 L398.795 1474.49 L398.795 1470.7 Z\" fill=\"#000000\" fill-rule=\"evenodd\" fill-opacity=\"1\" /><path clip-path=\"url(#clip700)\" d=\"M422.683 1481.64 L439.003 1481.64 L439.003 1485.58 L417.058 1485.58 L417.058 1481.64 Q419.72 1478.89 424.304 1474.26 Q428.91 1469.61 430.091 1468.27 Q432.336 1465.74 433.216 1464.01 Q434.119 1462.25 434.119 1460.56 Q434.119 1457.8 432.174 1456.07 Q430.253 1454.33 427.151 1454.33 Q424.952 1454.33 422.498 1455.09 Q420.068 1455.86 417.29 1457.41 L417.29 1452.69 Q420.114 1451.55 422.568 1450.97 Q425.021 1450.39 427.058 1450.39 Q432.429 1450.39 435.623 1453.08 Q438.818 1455.77 438.818 1460.26 Q438.818 1462.39 438.007 1464.31 Q437.22 1466.2 435.114 1468.8 Q434.535 1469.47 431.433 1472.69 Q428.332 1475.88 422.683 1481.64 Z\" fill=\"#000000\" fill-rule=\"evenodd\" fill-opacity=\"1\" /><path clip-path=\"url(#clip700)\" d=\"M593.865 1481.64 L610.185 1481.64 L610.185 1485.58 L588.24 1485.58 L588.24 1481.64 Q590.902 1478.89 595.486 1474.26 Q600.092 1469.61 601.273 1468.27 Q603.518 1465.74 604.398 1464.01 Q605.301 1462.25 605.301 1460.56 Q605.301 1457.8 603.356 1456.07 Q601.435 1454.33 598.333 1454.33 Q596.134 1454.33 593.68 1455.09 Q591.25 1455.86 588.472 1457.41 L588.472 1452.69 Q591.296 1451.55 593.75 1450.97 Q596.203 1450.39 598.24 1450.39 Q603.611 1450.39 606.805 1453.08 Q610 1455.77 610 1460.26 Q610 1462.39 609.189 1464.31 Q608.402 1466.2 606.296 1468.8 Q605.717 1469.47 602.615 1472.69 Q599.514 1475.88 593.865 1481.64 Z\" fill=\"#000000\" fill-rule=\"evenodd\" fill-opacity=\"1\" /><path clip-path=\"url(#clip700)\" d=\"M617.245 1470.7 L629.722 1470.7 L629.722 1474.49 L617.245 1474.49 L617.245 1470.7 Z\" fill=\"#000000\" fill-rule=\"evenodd\" fill-opacity=\"1\" /><path clip-path=\"url(#clip700)\" d=\"M651.273 1466.95 Q654.629 1467.66 656.504 1469.93 Q658.402 1472.2 658.402 1475.53 Q658.402 1480.65 654.884 1483.45 Q651.365 1486.25 644.884 1486.25 Q642.708 1486.25 640.393 1485.81 Q638.101 1485.39 635.648 1484.54 L635.648 1480.02 Q637.592 1481.16 639.907 1481.74 Q642.222 1482.32 644.745 1482.32 Q649.143 1482.32 651.435 1480.58 Q653.749 1478.84 653.749 1475.53 Q653.749 1472.48 651.597 1470.77 Q649.467 1469.03 645.648 1469.03 L641.62 1469.03 L641.62 1465.19 L645.833 1465.19 Q649.282 1465.19 651.111 1463.82 Q652.939 1462.43 652.939 1459.84 Q652.939 1457.18 651.041 1455.77 Q649.166 1454.33 645.648 1454.33 Q643.726 1454.33 641.527 1454.75 Q639.328 1455.16 636.689 1456.04 L636.689 1451.88 Q639.351 1451.14 641.666 1450.77 Q644.004 1450.39 646.064 1450.39 Q651.388 1450.39 654.49 1452.83 Q657.592 1455.23 657.592 1459.35 Q657.592 1462.22 655.948 1464.21 Q654.305 1466.18 651.273 1466.95 Z\" fill=\"#000000\" fill-rule=\"evenodd\" fill-opacity=\"1\" /><path clip-path=\"url(#clip700)\" d=\"M821.425 1466.95 Q824.781 1467.66 826.656 1469.93 Q828.554 1472.2 828.554 1475.53 Q828.554 1480.65 825.036 1483.45 Q821.517 1486.25 815.036 1486.25 Q812.86 1486.25 810.545 1485.81 Q808.253 1485.39 805.8 1484.54 L805.8 1480.02 Q807.744 1481.16 810.059 1481.74 Q812.374 1482.32 814.897 1482.32 Q819.295 1482.32 821.587 1480.58 Q823.901 1478.84 823.901 1475.53 Q823.901 1472.48 821.749 1470.77 Q819.619 1469.03 815.8 1469.03 L811.772 1469.03 L811.772 1465.19 L815.985 1465.19 Q819.434 1465.19 821.262 1463.82 Q823.091 1462.43 823.091 1459.84 Q823.091 1457.18 821.193 1455.77 Q819.318 1454.33 815.8 1454.33 Q813.878 1454.33 811.679 1454.75 Q809.48 1455.16 806.841 1456.04 L806.841 1451.88 Q809.503 1451.14 811.818 1450.77 Q814.156 1450.39 816.216 1450.39 Q821.54 1450.39 824.642 1452.83 Q827.744 1455.23 827.744 1459.35 Q827.744 1462.22 826.1 1464.21 Q824.457 1466.18 821.425 1466.95 Z\" fill=\"#000000\" fill-rule=\"evenodd\" fill-opacity=\"1\" /><path clip-path=\"url(#clip700)\" d=\"M834.665 1470.7 L847.142 1470.7 L847.142 1474.49 L834.665 1474.49 L834.665 1470.7 Z\" fill=\"#000000\" fill-rule=\"evenodd\" fill-opacity=\"1\" /><path clip-path=\"url(#clip700)\" d=\"M867.373 1455.09 L855.568 1473.54 L867.373 1473.54 L867.373 1455.09 M866.146 1451.02 L872.026 1451.02 L872.026 1473.54 L876.957 1473.54 L876.957 1477.43 L872.026 1477.43 L872.026 1485.58 L867.373 1485.58 L867.373 1477.43 L851.772 1477.43 L851.772 1472.92 L866.146 1451.02 Z\" fill=\"#000000\" fill-rule=\"evenodd\" fill-opacity=\"1\" /><path clip-path=\"url(#clip700)\" d=\"M1039.55 1455.09 L1027.75 1473.54 L1039.55 1473.54 L1039.55 1455.09 M1038.32 1451.02 L1044.2 1451.02 L1044.2 1473.54 L1049.13 1473.54 L1049.13 1477.43 L1044.2 1477.43 L1044.2 1485.58 L1039.55 1485.58 L1039.55 1477.43 L1023.95 1477.43 L1023.95 1472.92 L1038.32 1451.02 Z\" fill=\"#000000\" fill-rule=\"evenodd\" fill-opacity=\"1\" /><path clip-path=\"url(#clip700)\" d=\"M1054.11 1470.7 L1066.59 1470.7 L1066.59 1474.49 L1054.11 1474.49 L1054.11 1470.7 Z\" fill=\"#000000\" fill-rule=\"evenodd\" fill-opacity=\"1\" /><path clip-path=\"url(#clip700)\" d=\"M1074.02 1451.02 L1092.37 1451.02 L1092.37 1454.96 L1078.3 1454.96 L1078.3 1463.43 Q1079.32 1463.08 1080.34 1462.92 Q1081.36 1462.73 1082.37 1462.73 Q1088.16 1462.73 1091.54 1465.9 Q1094.92 1469.08 1094.92 1474.49 Q1094.92 1480.07 1091.45 1483.17 Q1087.98 1486.25 1081.66 1486.25 Q1079.48 1486.25 1077.21 1485.88 Q1074.97 1485.51 1072.56 1484.77 L1072.56 1480.07 Q1074.64 1481.2 1076.87 1481.76 Q1079.09 1482.32 1081.56 1482.32 Q1085.57 1482.32 1087.91 1480.21 Q1090.24 1478.1 1090.24 1474.49 Q1090.24 1470.88 1087.91 1468.77 Q1085.57 1466.67 1081.56 1466.67 Q1079.69 1466.67 1077.81 1467.08 Q1075.96 1467.5 1074.02 1468.38 L1074.02 1451.02 Z\" fill=\"#000000\" fill-rule=\"evenodd\" fill-opacity=\"1\" /><path clip-path=\"url(#clip700)\" d=\"M1243.56 1451.02 L1261.91 1451.02 L1261.91 1454.96 L1247.84 1454.96 L1247.84 1463.43 Q1248.86 1463.08 1249.88 1462.92 Q1250.89 1462.73 1251.91 1462.73 Q1257.7 1462.73 1261.08 1465.9 Q1264.46 1469.08 1264.46 1474.49 Q1264.46 1480.07 1260.99 1483.17 Q1257.51 1486.25 1251.2 1486.25 Q1249.02 1486.25 1246.75 1485.88 Q1244.51 1485.51 1242.1 1484.77 L1242.1 1480.07 Q1244.18 1481.2 1246.4 1481.76 Q1248.63 1482.32 1251.1 1482.32 Q1255.11 1482.32 1257.45 1480.21 Q1259.78 1478.1 1259.78 1474.49 Q1259.78 1470.88 1257.45 1468.77 Q1255.11 1466.67 1251.1 1466.67 Q1249.23 1466.67 1247.35 1467.08 Q1245.5 1467.5 1243.56 1468.38 L1243.56 1451.02 Z\" fill=\"#000000\" fill-rule=\"evenodd\" fill-opacity=\"1\" /><path clip-path=\"url(#clip700)\" d=\"M1270.92 1470.7 L1283.39 1470.7 L1283.39 1474.49 L1270.92 1474.49 L1270.92 1470.7 Z\" fill=\"#000000\" fill-rule=\"evenodd\" fill-opacity=\"1\" /><path clip-path=\"url(#clip700)\" d=\"M1301.36 1466.44 Q1298.21 1466.44 1296.36 1468.59 Q1294.53 1470.74 1294.53 1474.49 Q1294.53 1478.22 1296.36 1480.39 Q1298.21 1482.55 1301.36 1482.55 Q1304.51 1482.55 1306.33 1480.39 Q1308.19 1478.22 1308.19 1474.49 Q1308.19 1470.74 1306.33 1468.59 Q1304.51 1466.44 1301.36 1466.44 M1310.64 1451.78 L1310.64 1456.04 Q1308.88 1455.21 1307.07 1454.77 Q1305.29 1454.33 1303.53 1454.33 Q1298.9 1454.33 1296.45 1457.45 Q1294.02 1460.58 1293.67 1466.9 Q1295.04 1464.89 1297.1 1463.82 Q1299.16 1462.73 1301.64 1462.73 Q1306.84 1462.73 1309.85 1465.9 Q1312.89 1469.05 1312.89 1474.49 Q1312.89 1479.82 1309.74 1483.03 Q1306.59 1486.25 1301.36 1486.25 Q1295.36 1486.25 1292.19 1481.67 Q1289.02 1477.06 1289.02 1468.33 Q1289.02 1460.14 1292.91 1455.28 Q1296.8 1450.39 1303.35 1450.39 Q1305.11 1450.39 1306.89 1450.74 Q1308.7 1451.09 1310.64 1451.78 Z\" fill=\"#000000\" fill-rule=\"evenodd\" fill-opacity=\"1\" /><path clip-path=\"url(#clip700)\" d=\"M1472.85 1466.44 Q1469.7 1466.44 1467.85 1468.59 Q1466.02 1470.74 1466.02 1474.49 Q1466.02 1478.22 1467.85 1480.39 Q1469.7 1482.55 1472.85 1482.55 Q1476 1482.55 1477.83 1480.39 Q1479.68 1478.22 1479.68 1474.49 Q1479.68 1470.74 1477.83 1468.59 Q1476 1466.44 1472.85 1466.44 M1482.13 1451.78 L1482.13 1456.04 Q1480.37 1455.21 1478.57 1454.77 Q1476.79 1454.33 1475.03 1454.33 Q1470.4 1454.33 1467.94 1457.45 Q1465.51 1460.58 1465.17 1466.9 Q1466.53 1464.89 1468.59 1463.82 Q1470.65 1462.73 1473.13 1462.73 Q1478.34 1462.73 1481.35 1465.9 Q1484.38 1469.05 1484.38 1474.49 Q1484.38 1479.82 1481.23 1483.03 Q1478.08 1486.25 1472.85 1486.25 Q1466.86 1486.25 1463.69 1481.67 Q1460.51 1477.06 1460.51 1468.33 Q1460.51 1460.14 1464.4 1455.28 Q1468.29 1450.39 1474.84 1450.39 Q1476.6 1450.39 1478.38 1450.74 Q1480.19 1451.09 1482.13 1451.78 Z\" fill=\"#000000\" fill-rule=\"evenodd\" fill-opacity=\"1\" /><path clip-path=\"url(#clip700)\" d=\"M1489.68 1470.7 L1502.16 1470.7 L1502.16 1474.49 L1489.68 1474.49 L1489.68 1470.7 Z\" fill=\"#000000\" fill-rule=\"evenodd\" fill-opacity=\"1\" /><path clip-path=\"url(#clip700)\" d=\"M1508.36 1451.02 L1530.58 1451.02 L1530.58 1453.01 L1518.04 1485.58 L1513.15 1485.58 L1524.96 1454.96 L1508.36 1454.96 L1508.36 1451.02 Z\" fill=\"#000000\" fill-rule=\"evenodd\" fill-opacity=\"1\" /><path clip-path=\"url(#clip700)\" d=\"M1678.46 1451.02 L1700.68 1451.02 L1700.68 1453.01 L1688.13 1485.58 L1683.25 1485.58 L1695.05 1454.96 L1678.46 1454.96 L1678.46 1451.02 Z\" fill=\"#000000\" fill-rule=\"evenodd\" fill-opacity=\"1\" /><path clip-path=\"url(#clip700)\" d=\"M1707.04 1470.7 L1719.52 1470.7 L1719.52 1474.49 L1707.04 1474.49 L1707.04 1470.7 Z\" fill=\"#000000\" fill-rule=\"evenodd\" fill-opacity=\"1\" /><path clip-path=\"url(#clip700)\" d=\"M1736.9 1469.17 Q1733.57 1469.17 1731.65 1470.95 Q1729.75 1472.73 1729.75 1475.86 Q1729.75 1478.98 1731.65 1480.77 Q1733.57 1482.55 1736.9 1482.55 Q1740.24 1482.55 1742.16 1480.77 Q1744.08 1478.96 1744.08 1475.86 Q1744.08 1472.73 1742.16 1470.95 Q1740.26 1469.17 1736.9 1469.17 M1732.23 1467.18 Q1729.22 1466.44 1727.53 1464.38 Q1725.86 1462.32 1725.86 1459.35 Q1725.86 1455.21 1728.8 1452.8 Q1731.76 1450.39 1736.9 1450.39 Q1742.07 1450.39 1745.01 1452.8 Q1747.95 1455.21 1747.95 1459.35 Q1747.95 1462.32 1746.26 1464.38 Q1744.59 1466.44 1741.6 1467.18 Q1744.98 1467.96 1746.86 1470.26 Q1748.76 1472.55 1748.76 1475.86 Q1748.76 1480.88 1745.68 1483.57 Q1742.62 1486.25 1736.9 1486.25 Q1731.19 1486.25 1728.11 1483.57 Q1725.05 1480.88 1725.05 1475.86 Q1725.05 1472.55 1726.95 1470.26 Q1728.85 1467.96 1732.23 1467.18 M1730.51 1459.79 Q1730.51 1462.48 1732.18 1463.98 Q1733.87 1465.49 1736.9 1465.49 Q1739.91 1465.49 1741.6 1463.98 Q1743.32 1462.48 1743.32 1459.79 Q1743.32 1457.11 1741.6 1455.6 Q1739.91 1454.1 1736.9 1454.1 Q1733.87 1454.1 1732.18 1455.6 Q1730.51 1457.11 1730.51 1459.79 Z\" fill=\"#000000\" fill-rule=\"evenodd\" fill-opacity=\"1\" /><path clip-path=\"url(#clip700)\" d=\"M1908.07 1469.17 Q1904.74 1469.17 1902.82 1470.95 Q1900.92 1472.73 1900.92 1475.86 Q1900.92 1478.98 1902.82 1480.77 Q1904.74 1482.55 1908.07 1482.55 Q1911.41 1482.55 1913.33 1480.77 Q1915.25 1478.96 1915.25 1475.86 Q1915.25 1472.73 1913.33 1470.95 Q1911.43 1469.17 1908.07 1469.17 M1903.4 1467.18 Q1900.39 1466.44 1898.7 1464.38 Q1897.03 1462.32 1897.03 1459.35 Q1897.03 1455.21 1899.97 1452.8 Q1902.94 1450.39 1908.07 1450.39 Q1913.24 1450.39 1916.18 1452.8 Q1919.12 1455.21 1919.12 1459.35 Q1919.12 1462.32 1917.43 1464.38 Q1915.76 1466.44 1912.77 1467.18 Q1916.15 1467.96 1918.03 1470.26 Q1919.93 1472.55 1919.93 1475.86 Q1919.93 1480.88 1916.85 1483.57 Q1913.79 1486.25 1908.07 1486.25 Q1902.36 1486.25 1899.28 1483.57 Q1896.22 1480.88 1896.22 1475.86 Q1896.22 1472.55 1898.12 1470.26 Q1900.02 1467.96 1903.4 1467.18 M1901.69 1459.79 Q1901.69 1462.48 1903.35 1463.98 Q1905.04 1465.49 1908.07 1465.49 Q1911.08 1465.49 1912.77 1463.98 Q1914.49 1462.48 1914.49 1459.79 Q1914.49 1457.11 1912.77 1455.6 Q1911.08 1454.1 1908.07 1454.1 Q1905.04 1454.1 1903.35 1455.6 Q1901.69 1457.11 1901.69 1459.79 Z\" fill=\"#000000\" fill-rule=\"evenodd\" fill-opacity=\"1\" /><path clip-path=\"url(#clip700)\" d=\"M1925.48 1470.7 L1937.96 1470.7 L1937.96 1474.49 L1925.48 1474.49 L1925.48 1470.7 Z\" fill=\"#000000\" fill-rule=\"evenodd\" fill-opacity=\"1\" /><path clip-path=\"url(#clip700)\" d=\"M1945.48 1484.86 L1945.48 1480.6 Q1947.24 1481.44 1949.05 1481.88 Q1950.85 1482.32 1952.59 1482.32 Q1957.22 1482.32 1959.65 1479.21 Q1962.1 1476.09 1962.45 1469.75 Q1961.11 1471.74 1959.05 1472.8 Q1956.99 1473.87 1954.49 1473.87 Q1949.3 1473.87 1946.27 1470.74 Q1943.26 1467.59 1943.26 1462.15 Q1943.26 1456.83 1946.41 1453.61 Q1949.56 1450.39 1954.79 1450.39 Q1960.78 1450.39 1963.93 1455 Q1967.1 1459.58 1967.1 1468.33 Q1967.1 1476.51 1963.21 1481.39 Q1959.35 1486.25 1952.8 1486.25 Q1951.04 1486.25 1949.23 1485.9 Q1947.43 1485.56 1945.48 1484.86 M1954.79 1470.21 Q1957.94 1470.21 1959.76 1468.06 Q1961.62 1465.9 1961.62 1462.15 Q1961.62 1458.43 1959.76 1456.27 Q1957.94 1454.1 1954.79 1454.1 Q1951.64 1454.1 1949.79 1456.27 Q1947.96 1458.43 1947.96 1462.15 Q1947.96 1465.9 1949.79 1468.06 Q1951.64 1470.21 1954.79 1470.21 Z\" fill=\"#000000\" fill-rule=\"evenodd\" fill-opacity=\"1\" /><path clip-path=\"url(#clip700)\" d=\"M2101.21 1484.86 L2101.21 1480.6 Q2102.97 1481.44 2104.78 1481.88 Q2106.58 1482.32 2108.32 1482.32 Q2112.95 1482.32 2115.38 1479.21 Q2117.83 1476.09 2118.18 1469.75 Q2116.84 1471.74 2114.78 1472.8 Q2112.72 1473.87 2110.22 1473.87 Q2105.03 1473.87 2102 1470.74 Q2098.99 1467.59 2098.99 1462.15 Q2098.99 1456.83 2102.14 1453.61 Q2105.29 1450.39 2110.52 1450.39 Q2116.51 1450.39 2119.66 1455 Q2122.83 1459.58 2122.83 1468.33 Q2122.83 1476.51 2118.94 1481.39 Q2115.08 1486.25 2108.53 1486.25 Q2106.77 1486.25 2104.96 1485.9 Q2103.16 1485.56 2101.21 1484.86 M2110.52 1470.21 Q2113.67 1470.21 2115.49 1468.06 Q2117.35 1465.9 2117.35 1462.15 Q2117.35 1458.43 2115.49 1456.27 Q2113.67 1454.1 2110.52 1454.1 Q2107.37 1454.1 2105.52 1456.27 Q2103.69 1458.43 2103.69 1462.15 Q2103.69 1465.9 2105.52 1468.06 Q2107.37 1470.21 2110.52 1470.21 Z\" fill=\"#000000\" fill-rule=\"evenodd\" fill-opacity=\"1\" /><path clip-path=\"url(#clip700)\" d=\"M2128.48 1470.7 L2140.96 1470.7 L2140.96 1474.49 L2128.48 1474.49 L2128.48 1470.7 Z\" fill=\"#000000\" fill-rule=\"evenodd\" fill-opacity=\"1\" /><path clip-path=\"url(#clip700)\" d=\"M2149.15 1481.64 L2156.79 1481.64 L2156.79 1455.28 L2148.48 1456.95 L2148.48 1452.69 L2156.74 1451.02 L2161.42 1451.02 L2161.42 1481.64 L2169.06 1481.64 L2169.06 1485.58 L2149.15 1485.58 L2149.15 1481.64 Z\" fill=\"#000000\" fill-rule=\"evenodd\" fill-opacity=\"1\" /><path clip-path=\"url(#clip700)\" d=\"M2188.5 1454.1 Q2184.89 1454.1 2183.06 1457.66 Q2181.26 1461.2 2181.26 1468.33 Q2181.26 1475.44 2183.06 1479.01 Q2184.89 1482.55 2188.5 1482.55 Q2192.14 1482.55 2193.94 1479.01 Q2195.77 1475.44 2195.77 1468.33 Q2195.77 1461.2 2193.94 1457.66 Q2192.14 1454.1 2188.5 1454.1 M2188.5 1450.39 Q2194.31 1450.39 2197.37 1455 Q2200.45 1459.58 2200.45 1468.33 Q2200.45 1477.06 2197.37 1481.67 Q2194.31 1486.25 2188.5 1486.25 Q2182.69 1486.25 2179.61 1481.67 Q2176.56 1477.06 2176.56 1468.33 Q2176.56 1459.58 2179.61 1455 Q2182.69 1450.39 2188.5 1450.39 Z\" fill=\"#000000\" fill-rule=\"evenodd\" fill-opacity=\"1\" /><path clip-path=\"url(#clip700)\" d=\"M1048.28 1522.27 L1048.28 1532.4 L1060.34 1532.4 L1060.34 1536.95 L1048.28 1536.95 L1048.28 1556.3 Q1048.28 1560.66 1049.46 1561.9 Q1050.67 1563.14 1054.33 1563.14 L1060.34 1563.14 L1060.34 1568.04 L1054.33 1568.04 Q1047.55 1568.04 1044.97 1565.53 Q1042.39 1562.98 1042.39 1556.3 L1042.39 1536.95 L1038.09 1536.95 L1038.09 1532.4 L1042.39 1532.4 L1042.39 1522.27 L1048.28 1522.27 Z\" fill=\"#000000\" fill-rule=\"evenodd\" fill-opacity=\"1\" /><path clip-path=\"url(#clip700)\" d=\"M1098.54 1548.76 L1098.54 1551.62 L1071.61 1551.62 Q1071.99 1557.67 1075.24 1560.85 Q1078.52 1564 1084.34 1564 Q1087.71 1564 1090.87 1563.17 Q1094.05 1562.35 1097.17 1560.69 L1097.17 1566.23 Q1094.02 1567.57 1090.71 1568.27 Q1087.4 1568.97 1083.99 1568.97 Q1075.46 1568.97 1070.46 1564 Q1065.5 1559.04 1065.5 1550.57 Q1065.5 1541.82 1070.21 1536.69 Q1074.95 1531.54 1082.97 1531.54 Q1090.16 1531.54 1094.33 1536.18 Q1098.54 1540.8 1098.54 1548.76 M1092.68 1547.04 Q1092.62 1542.23 1089.97 1539.37 Q1087.36 1536.5 1083.04 1536.5 Q1078.13 1536.5 1075.17 1539.27 Q1072.25 1542.04 1071.8 1547.07 L1092.68 1547.04 Z\" fill=\"#000000\" fill-rule=\"evenodd\" fill-opacity=\"1\" /><path clip-path=\"url(#clip700)\" d=\"M1128.8 1537.87 Q1127.82 1537.3 1126.64 1537.04 Q1125.49 1536.76 1124.09 1536.76 Q1119.13 1536.76 1116.46 1540 Q1113.81 1543.22 1113.81 1549.27 L1113.81 1568.04 L1107.93 1568.04 L1107.93 1532.4 L1113.81 1532.4 L1113.81 1537.93 Q1115.66 1534.69 1118.62 1533.13 Q1121.58 1531.54 1125.81 1531.54 Q1126.42 1531.54 1127.15 1531.63 Q1127.88 1531.7 1128.77 1531.85 L1128.8 1537.87 Z\" fill=\"#000000\" fill-rule=\"evenodd\" fill-opacity=\"1\" /><path clip-path=\"url(#clip700)\" d=\"M1161.56 1539.24 Q1163.75 1535.29 1166.81 1533.41 Q1169.86 1531.54 1174 1531.54 Q1179.57 1531.54 1182.59 1535.45 Q1185.62 1539.33 1185.62 1546.53 L1185.62 1568.04 L1179.73 1568.04 L1179.73 1546.72 Q1179.73 1541.59 1177.92 1539.11 Q1176.1 1536.63 1172.38 1536.63 Q1167.83 1536.63 1165.18 1539.65 Q1162.54 1542.68 1162.54 1547.9 L1162.54 1568.04 L1156.65 1568.04 L1156.65 1546.72 Q1156.65 1541.56 1154.84 1539.11 Q1153.03 1536.63 1149.24 1536.63 Q1144.75 1536.63 1142.11 1539.68 Q1139.47 1542.71 1139.47 1547.9 L1139.47 1568.04 L1133.58 1568.04 L1133.58 1532.4 L1139.47 1532.4 L1139.47 1537.93 Q1141.47 1534.66 1144.27 1533.1 Q1147.07 1531.54 1150.93 1531.54 Q1154.81 1531.54 1157.51 1533.51 Q1160.25 1535.48 1161.56 1539.24 Z\" fill=\"#000000\" fill-rule=\"evenodd\" fill-opacity=\"1\" /><path clip-path=\"url(#clip700)\" d=\"M1223.81 1522.27 L1223.81 1532.4 L1235.88 1532.4 L1235.88 1536.95 L1223.81 1536.95 L1223.81 1556.3 Q1223.81 1560.66 1224.99 1561.9 Q1226.2 1563.14 1229.86 1563.14 L1235.88 1563.14 L1235.88 1568.04 L1229.86 1568.04 Q1223.08 1568.04 1220.5 1565.53 Q1217.92 1562.98 1217.92 1556.3 L1217.92 1536.95 L1213.63 1536.95 L1213.63 1532.4 L1217.92 1532.4 L1217.92 1522.27 L1223.81 1522.27 Z\" fill=\"#000000\" fill-rule=\"evenodd\" fill-opacity=\"1\" /><path clip-path=\"url(#clip700)\" d=\"M1264.24 1537.87 Q1263.25 1537.3 1262.07 1537.04 Q1260.92 1536.76 1259.52 1536.76 Q1254.56 1536.76 1251.89 1540 Q1249.24 1543.22 1249.24 1549.27 L1249.24 1568.04 L1243.36 1568.04 L1243.36 1532.4 L1249.24 1532.4 L1249.24 1537.93 Q1251.09 1534.69 1254.05 1533.13 Q1257.01 1531.54 1261.24 1531.54 Q1261.85 1531.54 1262.58 1531.63 Q1263.31 1531.7 1264.2 1531.85 L1264.24 1537.87 Z\" fill=\"#000000\" fill-rule=\"evenodd\" fill-opacity=\"1\" /><path clip-path=\"url(#clip700)\" d=\"M1286.58 1550.12 Q1279.48 1550.12 1276.74 1551.75 Q1274.01 1553.37 1274.01 1557.29 Q1274.01 1560.4 1276.04 1562.25 Q1278.11 1564.07 1281.65 1564.07 Q1286.52 1564.07 1289.44 1560.63 Q1292.4 1557.16 1292.4 1551.43 L1292.4 1550.12 L1286.58 1550.12 M1298.26 1547.71 L1298.26 1568.04 L1292.4 1568.04 L1292.4 1562.63 Q1290.4 1565.88 1287.41 1567.44 Q1284.41 1568.97 1280.09 1568.97 Q1274.61 1568.97 1271.36 1565.91 Q1268.15 1562.82 1268.15 1557.67 Q1268.15 1551.65 1272.16 1548.6 Q1276.2 1545.54 1284.19 1545.54 L1292.4 1545.54 L1292.4 1544.97 Q1292.4 1540.93 1289.73 1538.73 Q1287.09 1536.5 1282.28 1536.5 Q1279.23 1536.5 1276.33 1537.23 Q1273.43 1537.97 1270.76 1539.43 L1270.76 1534.02 Q1273.97 1532.78 1277 1532.17 Q1280.02 1531.54 1282.89 1531.54 Q1290.62 1531.54 1294.44 1535.55 Q1298.26 1539.56 1298.26 1547.71 Z\" fill=\"#000000\" fill-rule=\"evenodd\" fill-opacity=\"1\" /><path clip-path=\"url(#clip700)\" d=\"M1339.96 1546.53 L1339.96 1568.04 L1334.1 1568.04 L1334.1 1546.72 Q1334.1 1541.66 1332.13 1539.14 Q1330.15 1536.63 1326.21 1536.63 Q1321.46 1536.63 1318.73 1539.65 Q1315.99 1542.68 1315.99 1547.9 L1315.99 1568.04 L1310.1 1568.04 L1310.1 1532.4 L1315.99 1532.4 L1315.99 1537.93 Q1318.09 1534.72 1320.92 1533.13 Q1323.79 1531.54 1327.51 1531.54 Q1333.65 1531.54 1336.8 1535.36 Q1339.96 1539.14 1339.96 1546.53 Z\" fill=\"#000000\" fill-rule=\"evenodd\" fill-opacity=\"1\" /><path clip-path=\"url(#clip700)\" d=\"M1374.36 1533.45 L1374.36 1538.98 Q1371.88 1537.71 1369.21 1537.07 Q1366.53 1536.44 1363.67 1536.44 Q1359.31 1536.44 1357.11 1537.77 Q1354.95 1539.11 1354.95 1541.79 Q1354.95 1543.82 1356.51 1545 Q1358.07 1546.15 1362.78 1547.2 L1364.78 1547.64 Q1371.02 1548.98 1373.63 1551.43 Q1376.27 1553.85 1376.27 1558.21 Q1376.27 1563.17 1372.32 1566.07 Q1368.41 1568.97 1361.53 1568.97 Q1358.67 1568.97 1355.55 1568.39 Q1352.46 1567.85 1349.03 1566.74 L1349.03 1560.69 Q1352.27 1562.38 1355.42 1563.24 Q1358.57 1564.07 1361.66 1564.07 Q1365.8 1564.07 1368.03 1562.66 Q1370.26 1561.23 1370.26 1558.65 Q1370.26 1556.27 1368.63 1554.99 Q1367.04 1553.72 1361.6 1552.54 L1359.56 1552.07 Q1354.12 1550.92 1351.7 1548.56 Q1349.28 1546.18 1349.28 1542.04 Q1349.28 1537.01 1352.85 1534.27 Q1356.41 1531.54 1362.97 1531.54 Q1366.21 1531.54 1369.08 1532.01 Q1371.94 1532.49 1374.36 1533.45 Z\" fill=\"#000000\" fill-rule=\"evenodd\" fill-opacity=\"1\" /><path clip-path=\"url(#clip700)\" d=\"M1385.6 1532.4 L1391.45 1532.4 L1391.45 1568.04 L1385.6 1568.04 L1385.6 1532.4 M1385.6 1518.52 L1391.45 1518.52 L1391.45 1525.93 L1385.6 1525.93 L1385.6 1518.52 Z\" fill=\"#000000\" fill-rule=\"evenodd\" fill-opacity=\"1\" /><path clip-path=\"url(#clip700)\" d=\"M1409.5 1522.27 L1409.5 1532.4 L1421.56 1532.4 L1421.56 1536.95 L1409.5 1536.95 L1409.5 1556.3 Q1409.5 1560.66 1410.68 1561.9 Q1411.89 1563.14 1415.55 1563.14 L1421.56 1563.14 L1421.56 1568.04 L1415.55 1568.04 Q1408.77 1568.04 1406.19 1565.53 Q1403.61 1562.98 1403.61 1556.3 L1403.61 1536.95 L1399.32 1536.95 L1399.32 1532.4 L1403.61 1532.4 L1403.61 1522.27 L1409.5 1522.27 Z\" fill=\"#000000\" fill-rule=\"evenodd\" fill-opacity=\"1\" /><path clip-path=\"url(#clip700)\" d=\"M1429.27 1532.4 L1435.12 1532.4 L1435.12 1568.04 L1429.27 1568.04 L1429.27 1532.4 M1429.27 1518.52 L1435.12 1518.52 L1435.12 1525.93 L1429.27 1525.93 L1429.27 1518.52 Z\" fill=\"#000000\" fill-rule=\"evenodd\" fill-opacity=\"1\" /><path clip-path=\"url(#clip700)\" d=\"M1461.19 1536.5 Q1456.48 1536.5 1453.74 1540.19 Q1451 1543.85 1451 1550.25 Q1451 1556.65 1453.71 1560.34 Q1456.45 1564 1461.19 1564 Q1465.87 1564 1468.61 1560.31 Q1471.34 1556.62 1471.34 1550.25 Q1471.34 1543.92 1468.61 1540.23 Q1465.87 1536.5 1461.19 1536.5 M1461.19 1531.54 Q1468.83 1531.54 1473.19 1536.5 Q1477.55 1541.47 1477.55 1550.25 Q1477.55 1559 1473.19 1564 Q1468.83 1568.97 1461.19 1568.97 Q1453.52 1568.97 1449.16 1564 Q1444.83 1559 1444.83 1550.25 Q1444.83 1541.47 1449.16 1536.5 Q1453.52 1531.54 1461.19 1531.54 Z\" fill=\"#000000\" fill-rule=\"evenodd\" fill-opacity=\"1\" /><path clip-path=\"url(#clip700)\" d=\"M1516.89 1546.53 L1516.89 1568.04 L1511.03 1568.04 L1511.03 1546.72 Q1511.03 1541.66 1509.06 1539.14 Q1507.09 1536.63 1503.14 1536.63 Q1498.4 1536.63 1495.66 1539.65 Q1492.92 1542.68 1492.92 1547.9 L1492.92 1568.04 L1487.03 1568.04 L1487.03 1532.4 L1492.92 1532.4 L1492.92 1537.93 Q1495.02 1534.72 1497.86 1533.13 Q1500.72 1531.54 1504.45 1531.54 Q1510.59 1531.54 1513.74 1535.36 Q1516.89 1539.14 1516.89 1546.53 Z\" fill=\"#000000\" fill-rule=\"evenodd\" fill-opacity=\"1\" /><polyline clip-path=\"url(#clip702)\" style=\"stroke:#000000; stroke-linecap:butt; stroke-linejoin:round; stroke-width:2; stroke-opacity:0.1; fill:none\" points=\"\n",
       "  202.227,1386.4 2352.76,1386.4 \n",
       "  \"/>\n",
       "<polyline clip-path=\"url(#clip702)\" style=\"stroke:#000000; stroke-linecap:butt; stroke-linejoin:round; stroke-width:2; stroke-opacity:0.1; fill:none\" points=\"\n",
       "  202.227,977.683 2352.76,977.683 \n",
       "  \"/>\n",
       "<polyline clip-path=\"url(#clip702)\" style=\"stroke:#000000; stroke-linecap:butt; stroke-linejoin:round; stroke-width:2; stroke-opacity:0.1; fill:none\" points=\"\n",
       "  202.227,568.969 2352.76,568.969 \n",
       "  \"/>\n",
       "<polyline clip-path=\"url(#clip702)\" style=\"stroke:#000000; stroke-linecap:butt; stroke-linejoin:round; stroke-width:2; stroke-opacity:0.1; fill:none\" points=\"\n",
       "  202.227,160.256 2352.76,160.256 \n",
       "  \"/>\n",
       "<polyline clip-path=\"url(#clip700)\" style=\"stroke:#000000; stroke-linecap:butt; stroke-linejoin:round; stroke-width:4; stroke-opacity:1; fill:none\" points=\"\n",
       "  202.227,1423.18 202.227,123.472 \n",
       "  \"/>\n",
       "<polyline clip-path=\"url(#clip700)\" style=\"stroke:#000000; stroke-linecap:butt; stroke-linejoin:round; stroke-width:4; stroke-opacity:1; fill:none\" points=\"\n",
       "  202.227,1386.4 221.125,1386.4 \n",
       "  \"/>\n",
       "<polyline clip-path=\"url(#clip700)\" style=\"stroke:#000000; stroke-linecap:butt; stroke-linejoin:round; stroke-width:4; stroke-opacity:1; fill:none\" points=\"\n",
       "  202.227,977.683 221.125,977.683 \n",
       "  \"/>\n",
       "<polyline clip-path=\"url(#clip700)\" style=\"stroke:#000000; stroke-linecap:butt; stroke-linejoin:round; stroke-width:4; stroke-opacity:1; fill:none\" points=\"\n",
       "  202.227,568.969 221.125,568.969 \n",
       "  \"/>\n",
       "<polyline clip-path=\"url(#clip700)\" style=\"stroke:#000000; stroke-linecap:butt; stroke-linejoin:round; stroke-width:4; stroke-opacity:1; fill:none\" points=\"\n",
       "  202.227,160.256 221.125,160.256 \n",
       "  \"/>\n",
       "<path clip-path=\"url(#clip700)\" d=\"M154.283 1372.19 Q150.672 1372.19 148.843 1375.76 Q147.038 1379.3 147.038 1386.43 Q147.038 1393.54 148.843 1397.1 Q150.672 1400.64 154.283 1400.64 Q157.917 1400.64 159.723 1397.1 Q161.552 1393.54 161.552 1386.43 Q161.552 1379.3 159.723 1375.76 Q157.917 1372.19 154.283 1372.19 M154.283 1368.49 Q160.093 1368.49 163.149 1373.1 Q166.227 1377.68 166.227 1386.43 Q166.227 1395.16 163.149 1399.76 Q160.093 1404.35 154.283 1404.35 Q148.473 1404.35 145.394 1399.76 Q142.339 1395.16 142.339 1386.43 Q142.339 1377.68 145.394 1373.1 Q148.473 1368.49 154.283 1368.49 Z\" fill=\"#000000\" fill-rule=\"evenodd\" fill-opacity=\"1\" /><path clip-path=\"url(#clip700)\" d=\"M145.325 960.403 L163.681 960.403 L163.681 964.338 L149.607 964.338 L149.607 972.81 Q150.626 972.463 151.644 972.301 Q152.663 972.115 153.681 972.115 Q159.468 972.115 162.848 975.287 Q166.227 978.458 166.227 983.875 Q166.227 989.453 162.755 992.555 Q159.283 995.634 152.964 995.634 Q150.788 995.634 148.519 995.263 Q146.274 994.893 143.866 994.152 L143.866 989.453 Q145.95 990.588 148.172 991.143 Q150.394 991.699 152.871 991.699 Q156.876 991.699 159.214 989.592 Q161.552 987.486 161.552 983.875 Q161.552 980.264 159.214 978.157 Q156.876 976.051 152.871 976.051 Q150.996 976.051 149.121 976.467 Q147.269 976.884 145.325 977.764 L145.325 960.403 Z\" fill=\"#000000\" fill-rule=\"evenodd\" fill-opacity=\"1\" /><path clip-path=\"url(#clip700)\" d=\"M114.931 582.314 L122.57 582.314 L122.57 555.949 L114.26 557.615 L114.26 553.356 L122.524 551.689 L127.2 551.689 L127.2 582.314 L134.839 582.314 L134.839 586.249 L114.931 586.249 L114.931 582.314 Z\" fill=\"#000000\" fill-rule=\"evenodd\" fill-opacity=\"1\" /><path clip-path=\"url(#clip700)\" d=\"M154.283 554.768 Q150.672 554.768 148.843 558.333 Q147.038 561.875 147.038 569.004 Q147.038 576.111 148.843 579.675 Q150.672 583.217 154.283 583.217 Q157.917 583.217 159.723 579.675 Q161.552 576.111 161.552 569.004 Q161.552 561.875 159.723 558.333 Q157.917 554.768 154.283 554.768 M154.283 551.064 Q160.093 551.064 163.149 555.671 Q166.227 560.254 166.227 569.004 Q166.227 577.731 163.149 582.337 Q160.093 586.921 154.283 586.921 Q148.473 586.921 145.394 582.337 Q142.339 577.731 142.339 569.004 Q142.339 560.254 145.394 555.671 Q148.473 551.064 154.283 551.064 Z\" fill=\"#000000\" fill-rule=\"evenodd\" fill-opacity=\"1\" /><path clip-path=\"url(#clip700)\" d=\"M115.927 173.601 L123.566 173.601 L123.566 147.236 L115.256 148.902 L115.256 144.643 L123.519 142.976 L128.195 142.976 L128.195 173.601 L135.834 173.601 L135.834 177.536 L115.927 177.536 L115.927 173.601 Z\" fill=\"#000000\" fill-rule=\"evenodd\" fill-opacity=\"1\" /><path clip-path=\"url(#clip700)\" d=\"M145.325 142.976 L163.681 142.976 L163.681 146.911 L149.607 146.911 L149.607 155.384 Q150.626 155.036 151.644 154.874 Q152.663 154.689 153.681 154.689 Q159.468 154.689 162.848 157.86 Q166.227 161.032 166.227 166.448 Q166.227 172.027 162.755 175.129 Q159.283 178.208 152.964 178.208 Q150.788 178.208 148.519 177.837 Q146.274 177.467 143.866 176.726 L143.866 172.027 Q145.95 173.161 148.172 173.717 Q150.394 174.272 152.871 174.272 Q156.876 174.272 159.214 172.166 Q161.552 170.059 161.552 166.448 Q161.552 162.837 159.214 160.731 Q156.876 158.624 152.871 158.624 Q150.996 158.624 149.121 159.041 Q147.269 159.458 145.325 160.337 L145.325 142.976 Z\" fill=\"#000000\" fill-rule=\"evenodd\" fill-opacity=\"1\" /><path clip-path=\"url(#clip700)\" d=\"M33.8307 1052.14 Q33.2578 1053.13 33.0032 1054.31 Q32.7167 1055.45 32.7167 1056.85 Q32.7167 1061.82 35.9632 1064.49 Q39.1779 1067.14 45.2253 1067.14 L64.0042 1067.14 L64.0042 1073.02 L28.3562 1073.02 L28.3562 1067.14 L33.8944 1067.14 Q30.6479 1065.29 29.0883 1062.33 Q27.4968 1059.37 27.4968 1055.14 Q27.4968 1054.53 27.5923 1053.8 Q27.656 1053.07 27.8151 1052.18 L33.8307 1052.14 Z\" fill=\"#000000\" fill-rule=\"evenodd\" fill-opacity=\"1\" /><path clip-path=\"url(#clip700)\" d=\"M44.7161 1016.94 L47.5806 1016.94 L47.5806 1043.87 Q53.6281 1043.49 56.8109 1040.24 Q59.9619 1036.96 59.9619 1031.14 Q59.9619 1027.76 59.1344 1024.61 Q58.3069 1021.43 56.6518 1018.31 L62.1899 1018.31 Q63.5267 1021.46 64.227 1024.77 Q64.9272 1028.08 64.9272 1031.49 Q64.9272 1040.02 59.9619 1045.01 Q54.9967 1049.98 46.5303 1049.98 Q37.7774 1049.98 32.6531 1045.27 Q27.4968 1040.53 27.4968 1032.51 Q27.4968 1025.31 32.1438 1021.14 Q36.7589 1016.94 44.7161 1016.94 M42.9973 1022.8 Q38.1912 1022.86 35.3266 1025.5 Q32.4621 1028.11 32.4621 1032.44 Q32.4621 1037.34 35.2312 1040.3 Q38.0002 1043.23 43.0292 1043.68 L42.9973 1022.8 Z\" fill=\"#000000\" fill-rule=\"evenodd\" fill-opacity=\"1\" /><path clip-path=\"url(#clip700)\" d=\"M46.212 1003.83 Q52.6732 1003.83 56.3653 1001.19 Q60.0256 998.513 60.0256 993.866 Q60.0256 989.219 56.3653 986.545 Q52.6732 983.872 46.212 983.872 Q39.7508 983.872 36.0905 986.545 Q32.3984 989.219 32.3984 993.866 Q32.3984 998.513 36.0905 1001.19 Q39.7508 1003.83 46.212 1003.83 M58.657 983.872 Q61.8398 985.718 63.3994 988.551 Q64.9272 991.351 64.9272 995.298 Q64.9272 1001.76 59.771 1005.83 Q54.6147 1009.88 46.212 1009.88 Q37.8093 1009.88 32.6531 1005.83 Q27.4968 1001.76 27.4968 995.298 Q27.4968 991.351 29.0564 988.551 Q30.5842 985.718 33.7671 983.872 L28.3562 983.872 L28.3562 978.015 L77.5631 978.015 L77.5631 983.872 L58.657 983.872 Z\" fill=\"#000000\" fill-rule=\"evenodd\" fill-opacity=\"1\" /><path clip-path=\"url(#clip700)\" d=\"M49.9359 966.557 L28.3562 966.557 L28.3562 960.701 L49.7131 960.701 Q54.7739 960.701 57.3202 958.727 Q59.8346 956.754 59.8346 952.807 Q59.8346 948.065 56.8109 945.327 Q53.7872 942.558 48.5673 942.558 L28.3562 942.558 L28.3562 936.702 L64.0042 936.702 L64.0042 942.558 L58.5296 942.558 Q61.7762 944.691 63.3676 947.524 Q64.9272 950.324 64.9272 954.048 Q64.9272 960.191 61.1078 963.374 Q57.2883 966.557 49.9359 966.557 M27.4968 951.82 L27.4968 951.82 Z\" fill=\"#000000\" fill-rule=\"evenodd\" fill-opacity=\"1\" /><path clip-path=\"url(#clip700)\" d=\"M28.3562 924.639 L28.3562 918.782 L64.0042 918.782 L64.0042 924.639 L28.3562 924.639 M14.479 924.639 L14.479 918.782 L21.895 918.782 L21.895 924.639 L14.479 924.639 Z\" fill=\"#000000\" fill-rule=\"evenodd\" fill-opacity=\"1\" /><path clip-path=\"url(#clip700)\" d=\"M29.4065 883.803 L34.9447 883.803 Q33.6716 886.285 33.035 888.959 Q32.3984 891.633 32.3984 894.497 Q32.3984 898.858 33.7352 901.054 Q35.072 903.218 37.7456 903.218 Q39.7826 903.218 40.9603 901.659 Q42.1061 900.099 43.1565 895.388 L43.6021 893.383 Q44.9389 887.145 47.3897 884.535 Q49.8086 881.893 54.1691 881.893 Q59.1344 881.893 62.0308 885.84 Q64.9272 889.755 64.9272 896.63 Q64.9272 899.494 64.3543 902.613 Q63.8132 905.701 62.6992 909.138 L56.6518 909.138 Q58.3387 905.892 59.198 902.741 Q60.0256 899.59 60.0256 896.502 Q60.0256 892.365 58.6251 890.137 Q57.1929 887.909 54.6147 887.909 Q52.2276 887.909 50.9545 889.532 Q49.6813 891.123 48.5037 896.566 L48.0262 898.603 Q46.8804 904.046 44.5251 906.465 Q42.138 908.884 38.0002 908.884 Q32.9713 908.884 30.2341 905.319 Q27.4968 901.754 27.4968 895.197 Q27.4968 891.951 27.9743 889.086 Q28.4517 886.222 29.4065 883.803 Z\" fill=\"#000000\" fill-rule=\"evenodd\" fill-opacity=\"1\" /><path clip-path=\"url(#clip700)\" d=\"M28.3562 872.567 L28.3562 866.711 L64.0042 866.711 L64.0042 872.567 L28.3562 872.567 M14.479 872.567 L14.479 866.711 L21.895 866.711 L21.895 872.567 L14.479 872.567 Z\" fill=\"#000000\" fill-rule=\"evenodd\" fill-opacity=\"1\" /><path clip-path=\"url(#clip700)\" d=\"M18.2347 848.664 L28.3562 848.664 L28.3562 836.601 L32.9077 836.601 L32.9077 848.664 L52.2594 848.664 Q56.6199 848.664 57.8613 847.486 Q59.1026 846.277 59.1026 842.617 L59.1026 836.601 L64.0042 836.601 L64.0042 842.617 Q64.0042 849.396 61.4897 851.974 Q58.9434 854.552 52.2594 854.552 L32.9077 854.552 L32.9077 858.849 L28.3562 858.849 L28.3562 854.552 L18.2347 854.552 L18.2347 848.664 Z\" fill=\"#000000\" fill-rule=\"evenodd\" fill-opacity=\"1\" /><path clip-path=\"url(#clip700)\" d=\"M44.7161 798.407 L47.5806 798.407 L47.5806 825.334 Q53.6281 824.952 56.8109 821.705 Q59.9619 818.427 59.9619 812.602 Q59.9619 809.229 59.1344 806.078 Q58.3069 802.895 56.6518 799.775 L62.1899 799.775 Q63.5267 802.927 64.227 806.237 Q64.9272 809.547 64.9272 812.953 Q64.9272 821.483 59.9619 826.48 Q54.9967 831.445 46.5303 831.445 Q37.7774 831.445 32.6531 826.734 Q27.4968 821.992 27.4968 813.971 Q27.4968 806.778 32.1438 802.608 Q36.7589 798.407 44.7161 798.407 M42.9973 804.263 Q38.1912 804.327 35.3266 806.969 Q32.4621 809.579 32.4621 813.907 Q32.4621 818.809 35.2312 821.769 Q38.0002 824.697 43.0292 825.143 L42.9973 804.263 Z\" fill=\"#000000\" fill-rule=\"evenodd\" fill-opacity=\"1\" /><path clip-path=\"url(#clip700)\" d=\"M29.7248 742.42 L35.1993 742.42 Q33.8307 744.903 33.1623 747.418 Q32.4621 749.9 32.4621 752.446 Q32.4621 758.144 36.0905 761.295 Q39.6872 764.446 46.212 764.446 Q52.7369 764.446 56.3653 761.295 Q59.9619 758.144 59.9619 752.446 Q59.9619 749.9 59.2935 747.418 Q58.5933 744.903 57.2247 742.42 L62.6355 742.42 Q63.7814 744.871 64.3543 747.513 Q64.9272 750.123 64.9272 753.083 Q64.9272 761.136 59.8664 765.878 Q54.8057 770.621 46.212 770.621 Q37.491 770.621 32.4939 765.846 Q27.4968 761.04 27.4968 752.701 Q27.4968 749.996 28.0697 747.418 Q28.6108 744.839 29.7248 742.42 Z\" fill=\"#000000\" fill-rule=\"evenodd\" fill-opacity=\"1\" /><path clip-path=\"url(#clip700)\" d=\"M33.8307 711.579 Q33.2578 712.565 33.0032 713.743 Q32.7167 714.889 32.7167 716.289 Q32.7167 721.255 35.9632 723.928 Q39.1779 726.57 45.2253 726.57 L64.0042 726.57 L64.0042 732.458 L28.3562 732.458 L28.3562 726.57 L33.8944 726.57 Q30.6479 724.724 29.0883 721.764 Q27.4968 718.804 27.4968 714.571 Q27.4968 713.966 27.5923 713.234 Q27.656 712.502 27.8151 711.61 L33.8307 711.579 Z\" fill=\"#000000\" fill-rule=\"evenodd\" fill-opacity=\"1\" /><path clip-path=\"url(#clip700)\" d=\"M32.4621 693.054 Q32.4621 697.765 36.1542 700.502 Q39.8145 703.24 46.212 703.24 Q52.6095 703.24 56.3017 700.534 Q59.9619 697.797 59.9619 693.054 Q59.9619 688.376 56.2698 685.638 Q52.5777 682.901 46.212 682.901 Q39.8781 682.901 36.186 685.638 Q32.4621 688.376 32.4621 693.054 M27.4968 693.054 Q27.4968 685.416 32.4621 681.055 Q37.4273 676.695 46.212 676.695 Q54.9649 676.695 59.9619 681.055 Q64.9272 685.416 64.9272 693.054 Q64.9272 700.725 59.9619 705.086 Q54.9649 709.414 46.212 709.414 Q37.4273 709.414 32.4621 705.086 Q27.4968 700.725 27.4968 693.054 Z\" fill=\"#000000\" fill-rule=\"evenodd\" fill-opacity=\"1\" /><path clip-path=\"url(#clip700)\" d=\"M29.4065 644.261 L34.9447 644.261 Q33.6716 646.744 33.035 649.418 Q32.3984 652.091 32.3984 654.956 Q32.3984 659.316 33.7352 661.512 Q35.072 663.677 37.7456 663.677 Q39.7826 663.677 40.9603 662.117 Q42.1061 660.557 43.1565 655.847 L43.6021 653.842 Q44.9389 647.603 47.3897 644.993 Q49.8086 642.352 54.1691 642.352 Q59.1344 642.352 62.0308 646.298 Q64.9272 650.213 64.9272 657.088 Q64.9272 659.953 64.3543 663.072 Q63.8132 666.159 62.6992 669.597 L56.6518 669.597 Q58.3387 666.35 59.198 663.199 Q60.0256 660.048 60.0256 656.961 Q60.0256 652.823 58.6251 650.595 Q57.1929 648.367 54.6147 648.367 Q52.2276 648.367 50.9545 649.99 Q49.6813 651.582 48.5037 657.025 L48.0262 659.062 Q46.8804 664.504 44.5251 666.923 Q42.138 669.342 38.0002 669.342 Q32.9713 669.342 30.2341 665.777 Q27.4968 662.213 27.4968 655.656 Q27.4968 652.409 27.9743 649.545 Q28.4517 646.68 29.4065 644.261 Z\" fill=\"#000000\" fill-rule=\"evenodd\" fill-opacity=\"1\" /><path clip-path=\"url(#clip700)\" d=\"M29.4065 610.3 L34.9447 610.3 Q33.6716 612.783 33.035 615.456 Q32.3984 618.13 32.3984 620.995 Q32.3984 625.355 33.7352 627.551 Q35.072 629.716 37.7456 629.716 Q39.7826 629.716 40.9603 628.156 Q42.1061 626.596 43.1565 621.886 L43.6021 619.881 Q44.9389 613.642 47.3897 611.032 Q49.8086 608.391 54.1691 608.391 Q59.1344 608.391 62.0308 612.337 Q64.9272 616.252 64.9272 623.127 Q64.9272 625.992 64.3543 629.111 Q63.8132 632.198 62.6992 635.636 L56.6518 635.636 Q58.3387 632.389 59.198 629.238 Q60.0256 626.087 60.0256 623 Q60.0256 618.862 58.6251 616.634 Q57.1929 614.406 54.6147 614.406 Q52.2276 614.406 50.9545 616.029 Q49.6813 617.621 48.5037 623.063 L48.0262 625.101 Q46.8804 630.543 44.5251 632.962 Q42.138 635.381 38.0002 635.381 Q32.9713 635.381 30.2341 631.816 Q27.4968 628.252 27.4968 621.695 Q27.4968 618.448 27.9743 615.584 Q28.4517 612.719 29.4065 610.3 Z\" fill=\"#000000\" fill-rule=\"evenodd\" fill-opacity=\"1\" /><path clip-path=\"url(#clip700)\" d=\"M28.3562 599.065 L28.3562 593.208 L64.0042 593.208 L64.0042 599.065 L28.3562 599.065 M14.479 599.065 L14.479 593.208 L21.895 593.208 L21.895 599.065 L14.479 599.065 Z\" fill=\"#000000\" fill-rule=\"evenodd\" fill-opacity=\"1\" /><path clip-path=\"url(#clip700)\" d=\"M42.4881 551.322 L64.0042 551.322 L64.0042 557.178 L42.679 557.178 Q37.6183 557.178 35.1038 559.152 Q32.5894 561.125 32.5894 565.072 Q32.5894 569.814 35.6131 572.552 Q38.6368 575.289 43.8567 575.289 L64.0042 575.289 L64.0042 581.177 L28.3562 581.177 L28.3562 575.289 L33.8944 575.289 Q30.6797 573.188 29.0883 570.355 Q27.4968 567.491 27.4968 563.767 Q27.4968 557.624 31.3163 554.473 Q35.1038 551.322 42.4881 551.322 Z\" fill=\"#000000\" fill-rule=\"evenodd\" fill-opacity=\"1\" /><path clip-path=\"url(#clip700)\" d=\"M45.7664 516.183 Q39.4007 516.183 35.8996 518.825 Q32.3984 521.435 32.3984 526.177 Q32.3984 530.888 35.8996 533.53 Q39.4007 536.14 45.7664 536.14 Q52.1003 536.14 55.6014 533.53 Q59.1026 530.888 59.1026 526.177 Q59.1026 521.435 55.6014 518.825 Q52.1003 516.183 45.7664 516.183 M59.58 510.327 Q68.683 510.327 73.1071 514.369 Q77.5631 518.411 77.5631 526.75 Q77.5631 529.838 77.0857 532.575 Q76.6401 535.312 75.6852 537.89 L69.9879 537.89 Q71.3884 535.312 72.0568 532.798 Q72.7252 530.283 72.7252 527.673 Q72.7252 521.912 69.7015 519.048 Q66.7096 516.183 60.6303 516.183 L57.7339 516.183 Q60.885 517.997 62.4446 520.83 Q64.0042 523.663 64.0042 527.61 Q64.0042 534.166 59.0071 538.177 Q54.01 542.187 45.7664 542.187 Q37.491 542.187 32.4939 538.177 Q27.4968 534.166 27.4968 527.61 Q27.4968 523.663 29.0564 520.83 Q30.616 517.997 33.7671 516.183 L28.3562 516.183 L28.3562 510.327 L59.58 510.327 Z\" fill=\"#000000\" fill-rule=\"evenodd\" fill-opacity=\"1\" /><path clip-path=\"url(#clip700)\" d=\"M29.4065 475.538 L34.9447 475.538 Q33.6716 478.021 33.035 480.694 Q32.3984 483.368 32.3984 486.233 Q32.3984 490.593 33.7352 492.789 Q35.072 494.954 37.7456 494.954 Q39.7826 494.954 40.9603 493.394 Q42.1061 491.834 43.1565 487.124 L43.6021 485.119 Q44.9389 478.88 47.3897 476.27 Q49.8086 473.629 54.1691 473.629 Q59.1344 473.629 62.0308 477.575 Q64.9272 481.49 64.9272 488.365 Q64.9272 491.23 64.3543 494.349 Q63.8132 497.436 62.6992 500.874 L56.6518 500.874 Q58.3387 497.627 59.198 494.476 Q60.0256 491.325 60.0256 488.238 Q60.0256 484.1 58.6251 481.872 Q57.1929 479.644 54.6147 479.644 Q52.2276 479.644 50.9545 481.267 Q49.6813 482.859 48.5037 488.301 L48.0262 490.338 Q46.8804 495.781 44.5251 498.2 Q42.138 500.619 38.0002 500.619 Q32.9713 500.619 30.2341 497.054 Q27.4968 493.49 27.4968 486.933 Q27.4968 483.686 27.9743 480.822 Q28.4517 477.957 29.4065 475.538 Z\" fill=\"#000000\" fill-rule=\"evenodd\" fill-opacity=\"1\" /><path clip-path=\"url(#clip700)\" d=\"M547.681 12.096 L555.864 12.096 L555.864 37.6572 L583.005 12.096 L593.537 12.096 L563.52 40.2903 L595.684 72.576 L584.909 72.576 L555.864 43.45 L555.864 72.576 L547.681 72.576 L547.681 12.096 Z\" fill=\"#000000\" fill-rule=\"evenodd\" fill-opacity=\"1\" /><path clip-path=\"url(#clip700)\" d=\"M639.474 45.1919 L639.474 72.576 L632.021 72.576 L632.021 45.4349 Q632.021 38.994 629.509 35.7938 Q626.997 32.5936 621.974 32.5936 Q615.939 32.5936 612.455 36.4419 Q608.971 40.2903 608.971 46.9338 L608.971 72.576 L601.477 72.576 L601.477 27.2059 L608.971 27.2059 L608.971 34.2544 Q611.645 30.163 615.25 28.1376 Q618.896 26.1121 623.635 26.1121 Q631.453 26.1121 635.464 30.9732 Q639.474 35.7938 639.474 45.1919 Z\" fill=\"#000000\" fill-rule=\"evenodd\" fill-opacity=\"1\" /><path clip-path=\"url(#clip700)\" d=\"M671.922 32.4315 Q665.927 32.4315 662.443 37.1306 Q658.959 41.7891 658.959 49.9314 Q658.959 58.0738 662.402 62.7728 Q665.886 67.4314 671.922 67.4314 Q677.877 67.4314 681.361 62.7323 Q684.844 58.0333 684.844 49.9314 Q684.844 41.8701 681.361 37.1711 Q677.877 32.4315 671.922 32.4315 M671.922 26.1121 Q681.644 26.1121 687.194 32.4315 Q692.744 38.7509 692.744 49.9314 Q692.744 61.0714 687.194 67.4314 Q681.644 73.7508 671.922 73.7508 Q662.159 73.7508 656.61 67.4314 Q651.1 61.0714 651.1 49.9314 Q651.1 38.7509 656.61 32.4315 Q662.159 26.1121 671.922 26.1121 Z\" fill=\"#000000\" fill-rule=\"evenodd\" fill-opacity=\"1\" /><path clip-path=\"url(#clip700)\" d=\"M700.764 27.2059 L708.218 27.2059 L717.535 62.6108 L726.812 27.2059 L735.602 27.2059 L744.919 62.6108 L754.196 27.2059 L761.65 27.2059 L749.78 72.576 L740.99 72.576 L731.227 35.3887 L721.424 72.576 L712.634 72.576 L700.764 27.2059 Z\" fill=\"#000000\" fill-rule=\"evenodd\" fill-opacity=\"1\" /><path clip-path=\"url(#clip700)\" d=\"M772.952 9.54393 L780.405 9.54393 L780.405 72.576 L772.952 72.576 L772.952 9.54393 Z\" fill=\"#000000\" fill-rule=\"evenodd\" fill-opacity=\"1\" /><path clip-path=\"url(#clip700)\" d=\"M834.809 48.0275 L834.809 51.6733 L800.538 51.6733 Q801.024 59.3701 805.156 63.421 Q809.329 67.4314 816.742 67.4314 Q821.036 67.4314 825.046 66.3781 Q829.097 65.3249 833.067 63.2184 L833.067 70.267 Q829.057 71.9684 824.844 72.8596 Q820.631 73.7508 816.296 73.7508 Q805.44 73.7508 799.08 67.4314 Q792.76 61.1119 792.76 50.3365 Q792.76 39.1965 798.756 32.6746 Q804.792 26.1121 815 26.1121 Q824.155 26.1121 829.462 32.0264 Q834.809 37.9003 834.809 48.0275 M827.355 45.84 Q827.274 39.7232 823.912 36.0774 Q820.59 32.4315 815.081 32.4315 Q808.843 32.4315 805.075 35.9558 Q801.348 39.4801 800.781 45.8805 L827.355 45.84 Z\" fill=\"#000000\" fill-rule=\"evenodd\" fill-opacity=\"1\" /><path clip-path=\"url(#clip700)\" d=\"M876.898 34.0924 L876.898 9.54393 L884.351 9.54393 L884.351 72.576 L876.898 72.576 L876.898 65.7705 Q874.548 69.8214 870.943 71.8063 Q867.378 73.7508 862.355 73.7508 Q854.132 73.7508 848.947 67.1883 Q843.802 60.6258 843.802 49.9314 Q843.802 39.2371 848.947 32.6746 Q854.132 26.1121 862.355 26.1121 Q867.378 26.1121 870.943 28.0971 Q874.548 30.0415 876.898 34.0924 M851.499 49.9314 Q851.499 58.1548 854.861 62.8538 Q858.264 67.5124 864.178 67.5124 Q870.092 67.5124 873.495 62.8538 Q876.898 58.1548 876.898 49.9314 Q876.898 41.7081 873.495 37.0496 Q870.092 32.3505 864.178 32.3505 Q858.264 32.3505 854.861 37.0496 Q851.499 41.7081 851.499 49.9314 Z\" fill=\"#000000\" fill-rule=\"evenodd\" fill-opacity=\"1\" /><path clip-path=\"url(#clip700)\" d=\"M929.56 49.3643 Q929.56 41.2625 926.197 36.8065 Q922.876 32.3505 916.84 32.3505 Q910.844 32.3505 907.482 36.8065 Q904.16 41.2625 904.16 49.3643 Q904.16 57.4256 907.482 61.8816 Q910.844 66.3376 916.84 66.3376 Q922.876 66.3376 926.197 61.8816 Q929.56 57.4256 929.56 49.3643 M937.013 66.9452 Q937.013 78.5308 931.869 84.1616 Q926.724 89.8329 916.111 89.8329 Q912.181 89.8329 908.697 89.2252 Q905.214 88.6581 901.932 87.4428 L901.932 80.1917 Q905.214 81.9741 908.414 82.8248 Q911.614 83.6755 914.936 83.6755 Q922.268 83.6755 925.914 79.8271 Q929.56 76.0193 929.56 68.282 L929.56 64.5957 Q927.251 68.6061 923.645 70.5911 Q920.04 72.576 915.017 72.576 Q906.672 72.576 901.568 66.2161 Q896.464 59.8562 896.464 49.3643 Q896.464 38.832 901.568 32.472 Q906.672 26.1121 915.017 26.1121 Q920.04 26.1121 923.645 28.0971 Q927.251 30.082 929.56 34.0924 L929.56 27.2059 L937.013 27.2059 L937.013 66.9452 Z\" fill=\"#000000\" fill-rule=\"evenodd\" fill-opacity=\"1\" /><path clip-path=\"url(#clip700)\" d=\"M991.174 48.0275 L991.174 51.6733 L956.903 51.6733 Q957.389 59.3701 961.521 63.421 Q965.694 67.4314 973.107 67.4314 Q977.401 67.4314 981.411 66.3781 Q985.462 65.3249 989.432 63.2184 L989.432 70.267 Q985.421 71.9684 981.209 72.8596 Q976.996 73.7508 972.661 73.7508 Q961.805 73.7508 955.445 67.4314 Q949.125 61.1119 949.125 50.3365 Q949.125 39.1965 955.121 32.6746 Q961.157 26.1121 971.365 26.1121 Q980.52 26.1121 985.827 32.0264 Q991.174 37.9003 991.174 48.0275 M983.72 45.84 Q983.639 39.7232 980.277 36.0774 Q976.955 32.4315 971.446 32.4315 Q965.207 32.4315 961.44 35.9558 Q957.713 39.4801 957.146 45.8805 L983.72 45.84 Z\" fill=\"#000000\" fill-rule=\"evenodd\" fill-opacity=\"1\" /><path clip-path=\"url(#clip700)\" d=\"M1021.72 12.096 L1072.88 12.096 L1072.88 18.9825 L1051.41 18.9825 L1051.41 72.576 L1043.19 72.576 L1043.19 18.9825 L1021.72 18.9825 L1021.72 12.096 Z\" fill=\"#000000\" fill-rule=\"evenodd\" fill-opacity=\"1\" /><path clip-path=\"url(#clip700)\" d=\"M1094.55 34.1734 Q1093.3 33.4443 1091.8 33.1202 Q1090.34 32.7556 1088.56 32.7556 Q1082.24 32.7556 1078.84 36.8875 Q1075.47 40.9789 1075.47 48.6757 L1075.47 72.576 L1067.98 72.576 L1067.98 27.2059 L1075.47 27.2059 L1075.47 34.2544 Q1077.82 30.1225 1081.59 28.1376 Q1085.36 26.1121 1090.75 26.1121 Q1091.51 26.1121 1092.45 26.2337 Q1093.38 26.3147 1094.51 26.5172 L1094.55 34.1734 Z\" fill=\"#000000\" fill-rule=\"evenodd\" fill-opacity=\"1\" /><path clip-path=\"url(#clip700)\" d=\"M1122.99 49.7694 Q1113.96 49.7694 1110.47 51.8354 Q1106.99 53.9013 1106.99 58.8839 Q1106.99 62.8538 1109.58 65.2034 Q1112.21 67.5124 1116.71 67.5124 Q1122.91 67.5124 1126.64 63.1374 Q1130.4 58.7219 1130.4 51.4303 L1130.4 49.7694 L1122.99 49.7694 M1137.86 46.6907 L1137.86 72.576 L1130.4 72.576 L1130.4 65.6895 Q1127.85 69.8214 1124.04 71.8063 Q1120.24 73.7508 1114.73 73.7508 Q1107.76 73.7508 1103.63 69.8619 Q1099.54 65.9325 1099.54 59.3701 Q1099.54 51.7138 1104.64 47.825 Q1109.78 43.9361 1119.95 43.9361 L1130.4 43.9361 L1130.4 43.2069 Q1130.4 38.0623 1127 35.2672 Q1123.64 32.4315 1117.52 32.4315 Q1113.63 32.4315 1109.95 33.3632 Q1106.26 34.295 1102.86 36.1584 L1102.86 29.2718 Q1106.95 27.692 1110.8 26.9223 Q1114.65 26.1121 1118.29 26.1121 Q1128.13 26.1121 1133 31.2163 Q1137.86 36.3204 1137.86 46.6907 Z\" fill=\"#000000\" fill-rule=\"evenodd\" fill-opacity=\"1\" /><path clip-path=\"url(#clip700)\" d=\"M1190.92 45.1919 L1190.92 72.576 L1183.47 72.576 L1183.47 45.4349 Q1183.47 38.994 1180.96 35.7938 Q1178.45 32.5936 1173.42 32.5936 Q1167.39 32.5936 1163.9 36.4419 Q1160.42 40.2903 1160.42 46.9338 L1160.42 72.576 L1152.93 72.576 L1152.93 27.2059 L1160.42 27.2059 L1160.42 34.2544 Q1163.09 30.163 1166.7 28.1376 Q1170.35 26.1121 1175.08 26.1121 Q1182.9 26.1121 1186.91 30.9732 Q1190.92 35.7938 1190.92 45.1919 Z\" fill=\"#000000\" fill-rule=\"evenodd\" fill-opacity=\"1\" /><path clip-path=\"url(#clip700)\" d=\"M1234.71 28.5427 L1234.71 35.5912 Q1231.55 33.9709 1228.15 33.1607 Q1224.75 32.3505 1221.1 32.3505 Q1215.55 32.3505 1212.76 34.0519 Q1210 35.7533 1210 39.156 Q1210 41.7486 1211.99 43.2475 Q1213.97 44.7058 1219.97 46.0426 L1222.52 46.6097 Q1230.46 48.3111 1233.78 51.4303 Q1237.14 54.509 1237.14 60.0587 Q1237.14 66.3781 1232.12 70.0644 Q1227.14 73.7508 1218.39 73.7508 Q1214.74 73.7508 1210.77 73.0216 Q1206.84 72.3329 1202.47 70.9151 L1202.47 63.2184 Q1206.6 65.3654 1210.61 66.4591 Q1214.62 67.5124 1218.55 67.5124 Q1223.82 67.5124 1226.65 65.73 Q1229.49 63.9071 1229.49 60.6258 Q1229.49 57.5877 1227.42 55.9673 Q1225.4 54.3469 1218.47 52.8481 L1215.88 52.2405 Q1208.95 50.7821 1205.87 47.7845 Q1202.79 44.7463 1202.79 39.4801 Q1202.79 33.0797 1207.33 29.5959 Q1211.87 26.1121 1220.21 26.1121 Q1224.34 26.1121 1227.99 26.7198 Q1231.64 27.3274 1234.71 28.5427 Z\" fill=\"#000000\" fill-rule=\"evenodd\" fill-opacity=\"1\" /><path clip-path=\"url(#clip700)\" d=\"M1271.98 9.54393 L1271.98 15.7418 L1264.85 15.7418 Q1260.84 15.7418 1259.26 17.3622 Q1257.72 18.9825 1257.72 23.1955 L1257.72 27.2059 L1270 27.2059 L1270 32.9987 L1257.72 32.9987 L1257.72 72.576 L1250.23 72.576 L1250.23 32.9987 L1243.1 32.9987 L1243.1 27.2059 L1250.23 27.2059 L1250.23 24.0462 Q1250.23 16.471 1253.75 13.0277 Q1257.28 9.54393 1264.93 9.54393 L1271.98 9.54393 Z\" fill=\"#000000\" fill-rule=\"evenodd\" fill-opacity=\"1\" /><path clip-path=\"url(#clip700)\" d=\"M1317.03 48.0275 L1317.03 51.6733 L1282.76 51.6733 Q1283.24 59.3701 1287.38 63.421 Q1291.55 67.4314 1298.96 67.4314 Q1303.26 67.4314 1307.27 66.3781 Q1311.32 65.3249 1315.29 63.2184 L1315.29 70.267 Q1311.28 71.9684 1307.06 72.8596 Q1302.85 73.7508 1298.52 73.7508 Q1287.66 73.7508 1281.3 67.4314 Q1274.98 61.1119 1274.98 50.3365 Q1274.98 39.1965 1280.98 32.6746 Q1287.01 26.1121 1297.22 26.1121 Q1306.37 26.1121 1311.68 32.0264 Q1317.03 37.9003 1317.03 48.0275 M1309.57 45.84 Q1309.49 39.7232 1306.13 36.0774 Q1302.81 32.4315 1297.3 32.4315 Q1291.06 32.4315 1287.29 35.9558 Q1283.57 39.4801 1283 45.8805 L1309.57 45.84 Z\" fill=\"#000000\" fill-rule=\"evenodd\" fill-opacity=\"1\" /><path clip-path=\"url(#clip700)\" d=\"M1355.55 34.1734 Q1354.3 33.4443 1352.8 33.1202 Q1351.34 32.7556 1349.56 32.7556 Q1343.24 32.7556 1339.84 36.8875 Q1336.47 40.9789 1336.47 48.6757 L1336.47 72.576 L1328.98 72.576 L1328.98 27.2059 L1336.47 27.2059 L1336.47 34.2544 Q1338.82 30.1225 1342.59 28.1376 Q1346.36 26.1121 1351.74 26.1121 Q1352.51 26.1121 1353.45 26.2337 Q1354.38 26.3147 1355.51 26.5172 L1355.55 34.1734 Z\" fill=\"#000000\" fill-rule=\"evenodd\" fill-opacity=\"1\" /><path clip-path=\"url(#clip700)\" d=\"M1422.31 49.9314 Q1422.31 41.7081 1418.91 37.0496 Q1415.55 32.3505 1409.63 32.3505 Q1403.72 32.3505 1400.32 37.0496 Q1396.95 41.7081 1396.95 49.9314 Q1396.95 58.1548 1400.32 62.8538 Q1403.72 67.5124 1409.63 67.5124 Q1415.55 67.5124 1418.91 62.8538 Q1422.31 58.1548 1422.31 49.9314 M1396.95 34.0924 Q1399.3 30.0415 1402.87 28.0971 Q1406.47 26.1121 1411.46 26.1121 Q1419.72 26.1121 1424.86 32.6746 Q1430.05 39.2371 1430.05 49.9314 Q1430.05 60.6258 1424.86 67.1883 Q1419.72 73.7508 1411.46 73.7508 Q1406.47 73.7508 1402.87 71.8063 Q1399.3 69.8214 1396.95 65.7705 L1396.95 72.576 L1389.46 72.576 L1389.46 9.54393 L1396.95 9.54393 L1396.95 34.0924 Z\" fill=\"#000000\" fill-rule=\"evenodd\" fill-opacity=\"1\" /><path clip-path=\"url(#clip700)\" d=\"M1481.21 48.0275 L1481.21 51.6733 L1446.94 51.6733 Q1447.43 59.3701 1451.56 63.421 Q1455.73 67.4314 1463.14 67.4314 Q1467.44 67.4314 1471.45 66.3781 Q1475.5 65.3249 1479.47 63.2184 L1479.47 70.267 Q1475.46 71.9684 1471.25 72.8596 Q1467.03 73.7508 1462.7 73.7508 Q1451.84 73.7508 1445.48 67.4314 Q1439.16 61.1119 1439.16 50.3365 Q1439.16 39.1965 1445.16 32.6746 Q1451.19 26.1121 1461.4 26.1121 Q1470.56 26.1121 1475.86 32.0264 Q1481.21 37.9003 1481.21 48.0275 M1473.76 45.84 Q1473.68 39.7232 1470.31 36.0774 Q1466.99 32.4315 1461.48 32.4315 Q1455.25 32.4315 1451.48 35.9558 Q1447.75 39.4801 1447.18 45.8805 L1473.76 45.84 Z\" fill=\"#000000\" fill-rule=\"evenodd\" fill-opacity=\"1\" /><path clip-path=\"url(#clip700)\" d=\"M1500.82 14.324 L1500.82 27.2059 L1516.17 27.2059 L1516.17 32.9987 L1500.82 32.9987 L1500.82 57.6282 Q1500.82 63.1779 1502.32 64.7578 Q1503.86 66.3376 1508.51 66.3376 L1516.17 66.3376 L1516.17 72.576 L1508.51 72.576 Q1499.89 72.576 1496.61 69.3758 Q1493.32 66.1351 1493.32 57.6282 L1493.32 32.9987 L1487.86 32.9987 L1487.86 27.2059 L1493.32 27.2059 L1493.32 14.324 L1500.82 14.324 Z\" fill=\"#000000\" fill-rule=\"evenodd\" fill-opacity=\"1\" /><path clip-path=\"url(#clip700)\" d=\"M1521.64 27.2059 L1529.09 27.2059 L1538.41 62.6108 L1547.69 27.2059 L1556.48 27.2059 L1565.79 62.6108 L1575.07 27.2059 L1582.52 27.2059 L1570.66 72.576 L1561.87 72.576 L1552.1 35.3887 L1542.3 72.576 L1533.51 72.576 L1521.64 27.2059 Z\" fill=\"#000000\" fill-rule=\"evenodd\" fill-opacity=\"1\" /><path clip-path=\"url(#clip700)\" d=\"M1632.63 48.0275 L1632.63 51.6733 L1598.36 51.6733 Q1598.85 59.3701 1602.98 63.421 Q1607.15 67.4314 1614.57 67.4314 Q1618.86 67.4314 1622.87 66.3781 Q1626.92 65.3249 1630.89 63.2184 L1630.89 70.267 Q1626.88 71.9684 1622.67 72.8596 Q1618.46 73.7508 1614.12 73.7508 Q1603.27 73.7508 1596.91 67.4314 Q1590.59 61.1119 1590.59 50.3365 Q1590.59 39.1965 1596.58 32.6746 Q1602.62 26.1121 1612.83 26.1121 Q1621.98 26.1121 1627.29 32.0264 Q1632.63 37.9003 1632.63 48.0275 M1625.18 45.84 Q1625.1 39.7232 1621.74 36.0774 Q1618.42 32.4315 1612.91 32.4315 Q1606.67 32.4315 1602.9 35.9558 Q1599.17 39.4801 1598.61 45.8805 L1625.18 45.84 Z\" fill=\"#000000\" fill-rule=\"evenodd\" fill-opacity=\"1\" /><path clip-path=\"url(#clip700)\" d=\"M1683.68 48.0275 L1683.68 51.6733 L1649.41 51.6733 Q1649.89 59.3701 1654.02 63.421 Q1658.2 67.4314 1665.61 67.4314 Q1669.9 67.4314 1673.91 66.3781 Q1677.96 65.3249 1681.93 63.2184 L1681.93 70.267 Q1677.92 71.9684 1673.71 72.8596 Q1669.5 73.7508 1665.16 73.7508 Q1654.31 73.7508 1647.95 67.4314 Q1641.63 61.1119 1641.63 50.3365 Q1641.63 39.1965 1647.62 32.6746 Q1653.66 26.1121 1663.87 26.1121 Q1673.02 26.1121 1678.33 32.0264 Q1683.68 37.9003 1683.68 48.0275 M1676.22 45.84 Q1676.14 39.7232 1672.78 36.0774 Q1669.46 32.4315 1663.95 32.4315 Q1657.71 32.4315 1653.94 35.9558 Q1650.22 39.4801 1649.65 45.8805 L1676.22 45.84 Z\" fill=\"#000000\" fill-rule=\"evenodd\" fill-opacity=\"1\" /><path clip-path=\"url(#clip700)\" d=\"M1733.62 45.1919 L1733.62 72.576 L1726.17 72.576 L1726.17 45.4349 Q1726.17 38.994 1723.66 35.7938 Q1721.15 32.5936 1716.12 32.5936 Q1710.09 32.5936 1706.6 36.4419 Q1703.12 40.2903 1703.12 46.9338 L1703.12 72.576 L1695.63 72.576 L1695.63 27.2059 L1703.12 27.2059 L1703.12 34.2544 Q1705.79 30.163 1709.4 28.1376 Q1713.04 26.1121 1717.78 26.1121 Q1725.6 26.1121 1729.61 30.9732 Q1733.62 35.7938 1733.62 45.1919 Z\" fill=\"#000000\" fill-rule=\"evenodd\" fill-opacity=\"1\" /><path clip-path=\"url(#clip700)\" d=\"M1766.8 12.096 L1817.96 12.096 L1817.96 18.9825 L1796.49 18.9825 L1796.49 72.576 L1788.27 72.576 L1788.27 18.9825 L1766.8 18.9825 L1766.8 12.096 Z\" fill=\"#000000\" fill-rule=\"evenodd\" fill-opacity=\"1\" /><path clip-path=\"url(#clip700)\" d=\"M1850.25 48.0275 L1850.25 51.6733 L1815.98 51.6733 Q1816.46 59.3701 1820.6 63.421 Q1824.77 67.4314 1832.18 67.4314 Q1836.48 67.4314 1840.49 66.3781 Q1844.54 65.3249 1848.51 63.2184 L1848.51 70.267 Q1844.5 71.9684 1840.28 72.8596 Q1836.07 73.7508 1831.74 73.7508 Q1820.88 73.7508 1814.52 67.4314 Q1808.2 61.1119 1808.2 50.3365 Q1808.2 39.1965 1814.2 32.6746 Q1820.23 26.1121 1830.44 26.1121 Q1839.6 26.1121 1844.9 32.0264 Q1850.25 37.9003 1850.25 48.0275 M1842.8 45.84 Q1842.71 39.7232 1839.35 36.0774 Q1836.03 32.4315 1830.52 32.4315 Q1824.28 32.4315 1820.52 35.9558 Q1816.79 39.4801 1816.22 45.8805 L1842.8 45.84 Z\" fill=\"#000000\" fill-rule=\"evenodd\" fill-opacity=\"1\" /><path clip-path=\"url(#clip700)\" d=\"M1888.77 34.1734 Q1887.52 33.4443 1886.02 33.1202 Q1884.56 32.7556 1882.78 32.7556 Q1876.46 32.7556 1873.06 36.8875 Q1869.69 40.9789 1869.69 48.6757 L1869.69 72.576 L1862.2 72.576 L1862.2 27.2059 L1869.69 27.2059 L1869.69 34.2544 Q1872.04 30.1225 1875.81 28.1376 Q1879.58 26.1121 1884.97 26.1121 Q1885.73 26.1121 1886.67 26.2337 Q1887.6 26.3147 1888.73 26.5172 L1888.77 34.1734 Z\" fill=\"#000000\" fill-rule=\"evenodd\" fill-opacity=\"1\" /><path clip-path=\"url(#clip700)\" d=\"M1930.46 35.9153 Q1933.25 30.8922 1937.14 28.5022 Q1941.03 26.1121 1946.3 26.1121 Q1953.39 26.1121 1957.23 31.0947 Q1961.08 36.0368 1961.08 45.1919 L1961.08 72.576 L1953.59 72.576 L1953.59 45.4349 Q1953.59 38.913 1951.28 35.7533 Q1948.97 32.5936 1944.23 32.5936 Q1938.44 32.5936 1935.07 36.4419 Q1931.71 40.2903 1931.71 46.9338 L1931.71 72.576 L1924.22 72.576 L1924.22 45.4349 Q1924.22 38.8725 1921.91 35.7533 Q1919.6 32.5936 1914.78 32.5936 Q1909.07 32.5936 1905.71 36.4824 Q1902.34 40.3308 1902.34 46.9338 L1902.34 72.576 L1894.85 72.576 L1894.85 27.2059 L1902.34 27.2059 L1902.34 34.2544 Q1904.9 30.082 1908.46 28.0971 Q1912.03 26.1121 1916.93 26.1121 Q1921.87 26.1121 1925.31 28.6237 Q1928.8 31.1352 1930.46 35.9153 Z\" fill=\"#000000\" fill-rule=\"evenodd\" fill-opacity=\"1\" /><path clip-path=\"url(#clip700)\" d=\"M2004.87 28.5427 L2004.87 35.5912 Q2001.71 33.9709 1998.31 33.1607 Q1994.91 32.3505 1991.26 32.3505 Q1985.71 32.3505 1982.92 34.0519 Q1980.16 35.7533 1980.16 39.156 Q1980.16 41.7486 1982.15 43.2475 Q1984.13 44.7058 1990.13 46.0426 L1992.68 46.6097 Q2000.62 48.3111 2003.94 51.4303 Q2007.3 54.509 2007.3 60.0587 Q2007.3 66.3781 2002.28 70.0644 Q1997.3 73.7508 1988.55 73.7508 Q1984.9 73.7508 1980.93 73.0216 Q1977 72.3329 1972.63 70.9151 L1972.63 63.2184 Q1976.76 65.3654 1980.77 66.4591 Q1984.78 67.5124 1988.71 67.5124 Q1993.98 67.5124 1996.81 65.73 Q1999.65 63.9071 1999.65 60.6258 Q1999.65 57.5877 1997.58 55.9673 Q1995.55 54.3469 1988.63 52.8481 L1986.04 52.2405 Q1979.11 50.7821 1976.03 47.7845 Q1972.95 44.7463 1972.95 39.4801 Q1972.95 33.0797 1977.49 29.5959 Q1982.02 26.1121 1990.37 26.1121 Q1994.5 26.1121 1998.15 26.7198 Q2001.79 27.3274 2004.87 28.5427 Z\" fill=\"#000000\" fill-rule=\"evenodd\" fill-opacity=\"1\" /><path clip-path=\"url(#clip702)\" d=\"\n",
       "M318.042 650.712 L318.042 1386.4 L405.265 1386.4 L405.265 650.712 L318.042 650.712 L318.042 650.712  Z\n",
       "  \" fill=\"#009af9\" fill-rule=\"evenodd\" fill-opacity=\"1\"/>\n",
       "<polyline clip-path=\"url(#clip702)\" style=\"stroke:#000000; stroke-linecap:butt; stroke-linejoin:round; stroke-width:4; stroke-opacity:1; fill:none\" points=\"\n",
       "  318.042,650.712 318.042,1386.4 405.265,1386.4 405.265,650.712 318.042,650.712 \n",
       "  \"/>\n",
       "<path clip-path=\"url(#clip702)\" d=\"\n",
       "M536.099 160.256 L536.099 1386.4 L623.321 1386.4 L623.321 160.256 L536.099 160.256 L536.099 160.256  Z\n",
       "  \" fill=\"#009af9\" fill-rule=\"evenodd\" fill-opacity=\"1\"/>\n",
       "<polyline clip-path=\"url(#clip702)\" style=\"stroke:#000000; stroke-linecap:butt; stroke-linejoin:round; stroke-width:4; stroke-opacity:1; fill:none\" points=\"\n",
       "  536.099,160.256 536.099,1386.4 623.321,1386.4 623.321,160.256 536.099,160.256 \n",
       "  \"/>\n",
       "<path clip-path=\"url(#clip702)\" d=\"\n",
       "M754.155 487.227 L754.155 1386.4 L841.378 1386.4 L841.378 487.227 L754.155 487.227 L754.155 487.227  Z\n",
       "  \" fill=\"#009af9\" fill-rule=\"evenodd\" fill-opacity=\"1\"/>\n",
       "<polyline clip-path=\"url(#clip702)\" style=\"stroke:#000000; stroke-linecap:butt; stroke-linejoin:round; stroke-width:4; stroke-opacity:1; fill:none\" points=\"\n",
       "  754.155,487.227 754.155,1386.4 841.378,1386.4 841.378,487.227 754.155,487.227 \n",
       "  \"/>\n",
       "<path clip-path=\"url(#clip702)\" d=\"\n",
       "M972.212 568.969 L972.212 1386.4 L1059.43 1386.4 L1059.43 568.969 L972.212 568.969 L972.212 568.969  Z\n",
       "  \" fill=\"#009af9\" fill-rule=\"evenodd\" fill-opacity=\"1\"/>\n",
       "<polyline clip-path=\"url(#clip702)\" style=\"stroke:#000000; stroke-linecap:butt; stroke-linejoin:round; stroke-width:4; stroke-opacity:1; fill:none\" points=\"\n",
       "  972.212,568.969 972.212,1386.4 1059.43,1386.4 1059.43,568.969 972.212,568.969 \n",
       "  \"/>\n",
       "<path clip-path=\"url(#clip702)\" d=\"\n",
       "M1190.27 568.969 L1190.27 1386.4 L1277.49 1386.4 L1277.49 568.969 L1190.27 568.969 L1190.27 568.969  Z\n",
       "  \" fill=\"#009af9\" fill-rule=\"evenodd\" fill-opacity=\"1\"/>\n",
       "<polyline clip-path=\"url(#clip702)\" style=\"stroke:#000000; stroke-linecap:butt; stroke-linejoin:round; stroke-width:4; stroke-opacity:1; fill:none\" points=\"\n",
       "  1190.27,568.969 1190.27,1386.4 1277.49,1386.4 1277.49,568.969 1190.27,568.969 \n",
       "  \"/>\n",
       "<path clip-path=\"url(#clip702)\" d=\"\n",
       "M1408.33 814.197 L1408.33 1386.4 L1495.55 1386.4 L1495.55 814.197 L1408.33 814.197 L1408.33 814.197  Z\n",
       "  \" fill=\"#009af9\" fill-rule=\"evenodd\" fill-opacity=\"1\"/>\n",
       "<polyline clip-path=\"url(#clip702)\" style=\"stroke:#000000; stroke-linecap:butt; stroke-linejoin:round; stroke-width:4; stroke-opacity:1; fill:none\" points=\"\n",
       "  1408.33,814.197 1408.33,1386.4 1495.55,1386.4 1495.55,814.197 1408.33,814.197 \n",
       "  \"/>\n",
       "<path clip-path=\"url(#clip702)\" d=\"\n",
       "M1626.38 1059.43 L1626.38 1386.4 L1713.61 1386.4 L1713.61 1059.43 L1626.38 1059.43 L1626.38 1059.43  Z\n",
       "  \" fill=\"#009af9\" fill-rule=\"evenodd\" fill-opacity=\"1\"/>\n",
       "<polyline clip-path=\"url(#clip702)\" style=\"stroke:#000000; stroke-linecap:butt; stroke-linejoin:round; stroke-width:4; stroke-opacity:1; fill:none\" points=\"\n",
       "  1626.38,1059.43 1626.38,1386.4 1713.61,1386.4 1713.61,1059.43 1626.38,1059.43 \n",
       "  \"/>\n",
       "<path clip-path=\"url(#clip702)\" d=\"\n",
       "M1844.44 1386.4 L1844.44 1386.4 L1931.66 1386.4 L1931.66 1386.4 L1844.44 1386.4 L1844.44 1386.4  Z\n",
       "  \" fill=\"#009af9\" fill-rule=\"evenodd\" fill-opacity=\"1\"/>\n",
       "<polyline clip-path=\"url(#clip702)\" style=\"stroke:#000000; stroke-linecap:butt; stroke-linejoin:round; stroke-width:4; stroke-opacity:1; fill:none\" points=\"\n",
       "  1844.44,1386.4 1844.44,1386.4 1931.66,1386.4 1844.44,1386.4 \n",
       "  \"/>\n",
       "<path clip-path=\"url(#clip702)\" d=\"\n",
       "M2062.5 1386.4 L2062.5 1386.4 L2149.72 1386.4 L2149.72 1386.4 L2062.5 1386.4 L2062.5 1386.4  Z\n",
       "  \" fill=\"#009af9\" fill-rule=\"evenodd\" fill-opacity=\"1\"/>\n",
       "<polyline clip-path=\"url(#clip702)\" style=\"stroke:#000000; stroke-linecap:butt; stroke-linejoin:round; stroke-width:4; stroke-opacity:1; fill:none\" points=\"\n",
       "  2062.5,1386.4 2062.5,1386.4 2149.72,1386.4 2062.5,1386.4 \n",
       "  \"/>\n",
       "<circle clip-path=\"url(#clip702)\" style=\"fill:#009af9; stroke:none; fill-opacity:0\" cx=\"361.653\" cy=\"650.712\" r=\"2\"/>\n",
       "<circle clip-path=\"url(#clip702)\" style=\"fill:#009af9; stroke:none; fill-opacity:0\" cx=\"579.71\" cy=\"160.256\" r=\"2\"/>\n",
       "<circle clip-path=\"url(#clip702)\" style=\"fill:#009af9; stroke:none; fill-opacity:0\" cx=\"797.767\" cy=\"487.227\" r=\"2\"/>\n",
       "<circle clip-path=\"url(#clip702)\" style=\"fill:#009af9; stroke:none; fill-opacity:0\" cx=\"1015.82\" cy=\"568.969\" r=\"2\"/>\n",
       "<circle clip-path=\"url(#clip702)\" style=\"fill:#009af9; stroke:none; fill-opacity:0\" cx=\"1233.88\" cy=\"568.969\" r=\"2\"/>\n",
       "<circle clip-path=\"url(#clip702)\" style=\"fill:#009af9; stroke:none; fill-opacity:0\" cx=\"1451.94\" cy=\"814.197\" r=\"2\"/>\n",
       "<circle clip-path=\"url(#clip702)\" style=\"fill:#009af9; stroke:none; fill-opacity:0\" cx=\"1669.99\" cy=\"1059.43\" r=\"2\"/>\n",
       "<circle clip-path=\"url(#clip702)\" style=\"fill:#009af9; stroke:none; fill-opacity:0\" cx=\"1888.05\" cy=\"1386.4\" r=\"2\"/>\n",
       "<circle clip-path=\"url(#clip702)\" style=\"fill:#009af9; stroke:none; fill-opacity:0\" cx=\"2106.11\" cy=\"1386.4\" r=\"2\"/>\n",
       "<path clip-path=\"url(#clip702)\" d=\"\n",
       "M405.265 650.712 L405.265 1386.4 L492.487 1386.4 L492.487 650.712 L405.265 650.712 L405.265 650.712  Z\n",
       "  \" fill=\"#e26f46\" fill-rule=\"evenodd\" fill-opacity=\"1\"/>\n",
       "<polyline clip-path=\"url(#clip702)\" style=\"stroke:#000000; stroke-linecap:butt; stroke-linejoin:round; stroke-width:4; stroke-opacity:1; fill:none\" points=\"\n",
       "  405.265,650.712 405.265,1386.4 492.487,1386.4 492.487,650.712 405.265,650.712 \n",
       "  \"/>\n",
       "<path clip-path=\"url(#clip702)\" d=\"\n",
       "M623.321 160.256 L623.321 1386.4 L710.544 1386.4 L710.544 160.256 L623.321 160.256 L623.321 160.256  Z\n",
       "  \" fill=\"#e26f46\" fill-rule=\"evenodd\" fill-opacity=\"1\"/>\n",
       "<polyline clip-path=\"url(#clip702)\" style=\"stroke:#000000; stroke-linecap:butt; stroke-linejoin:round; stroke-width:4; stroke-opacity:1; fill:none\" points=\"\n",
       "  623.321,160.256 623.321,1386.4 710.544,1386.4 710.544,160.256 623.321,160.256 \n",
       "  \"/>\n",
       "<path clip-path=\"url(#clip702)\" d=\"\n",
       "M841.378 160.256 L841.378 1386.4 L928.601 1386.4 L928.601 160.256 L841.378 160.256 L841.378 160.256  Z\n",
       "  \" fill=\"#e26f46\" fill-rule=\"evenodd\" fill-opacity=\"1\"/>\n",
       "<polyline clip-path=\"url(#clip702)\" style=\"stroke:#000000; stroke-linecap:butt; stroke-linejoin:round; stroke-width:4; stroke-opacity:1; fill:none\" points=\"\n",
       "  841.378,160.256 841.378,1386.4 928.601,1386.4 928.601,160.256 841.378,160.256 \n",
       "  \"/>\n",
       "<path clip-path=\"url(#clip702)\" d=\"\n",
       "M1059.43 241.999 L1059.43 1386.4 L1146.66 1386.4 L1146.66 241.999 L1059.43 241.999 L1059.43 241.999  Z\n",
       "  \" fill=\"#e26f46\" fill-rule=\"evenodd\" fill-opacity=\"1\"/>\n",
       "<polyline clip-path=\"url(#clip702)\" style=\"stroke:#000000; stroke-linecap:butt; stroke-linejoin:round; stroke-width:4; stroke-opacity:1; fill:none\" points=\"\n",
       "  1059.43,241.999 1059.43,1386.4 1146.66,1386.4 1146.66,241.999 1059.43,241.999 \n",
       "  \"/>\n",
       "<path clip-path=\"url(#clip702)\" d=\"\n",
       "M1277.49 568.969 L1277.49 1386.4 L1364.71 1386.4 L1364.71 568.969 L1277.49 568.969 L1277.49 568.969  Z\n",
       "  \" fill=\"#e26f46\" fill-rule=\"evenodd\" fill-opacity=\"1\"/>\n",
       "<polyline clip-path=\"url(#clip702)\" style=\"stroke:#000000; stroke-linecap:butt; stroke-linejoin:round; stroke-width:4; stroke-opacity:1; fill:none\" points=\"\n",
       "  1277.49,568.969 1277.49,1386.4 1364.71,1386.4 1364.71,568.969 1277.49,568.969 \n",
       "  \"/>\n",
       "<path clip-path=\"url(#clip702)\" d=\"\n",
       "M1495.55 650.712 L1495.55 1386.4 L1582.77 1386.4 L1582.77 650.712 L1495.55 650.712 L1495.55 650.712  Z\n",
       "  \" fill=\"#e26f46\" fill-rule=\"evenodd\" fill-opacity=\"1\"/>\n",
       "<polyline clip-path=\"url(#clip702)\" style=\"stroke:#000000; stroke-linecap:butt; stroke-linejoin:round; stroke-width:4; stroke-opacity:1; fill:none\" points=\"\n",
       "  1495.55,650.712 1495.55,1386.4 1582.77,1386.4 1582.77,650.712 1495.55,650.712 \n",
       "  \"/>\n",
       "<path clip-path=\"url(#clip702)\" d=\"\n",
       "M1713.61 487.227 L1713.61 1386.4 L1800.83 1386.4 L1800.83 487.227 L1713.61 487.227 L1713.61 487.227  Z\n",
       "  \" fill=\"#e26f46\" fill-rule=\"evenodd\" fill-opacity=\"1\"/>\n",
       "<polyline clip-path=\"url(#clip702)\" style=\"stroke:#000000; stroke-linecap:butt; stroke-linejoin:round; stroke-width:4; stroke-opacity:1; fill:none\" points=\"\n",
       "  1713.61,487.227 1713.61,1386.4 1800.83,1386.4 1800.83,487.227 1713.61,487.227 \n",
       "  \"/>\n",
       "<path clip-path=\"url(#clip702)\" d=\"\n",
       "M1931.66 650.712 L1931.66 1386.4 L2018.88 1386.4 L2018.88 650.712 L1931.66 650.712 L1931.66 650.712  Z\n",
       "  \" fill=\"#e26f46\" fill-rule=\"evenodd\" fill-opacity=\"1\"/>\n",
       "<polyline clip-path=\"url(#clip702)\" style=\"stroke:#000000; stroke-linecap:butt; stroke-linejoin:round; stroke-width:4; stroke-opacity:1; fill:none\" points=\"\n",
       "  1931.66,650.712 1931.66,1386.4 2018.88,1386.4 2018.88,650.712 1931.66,650.712 \n",
       "  \"/>\n",
       "<path clip-path=\"url(#clip702)\" d=\"\n",
       "M2149.72 895.94 L2149.72 1386.4 L2236.94 1386.4 L2236.94 895.94 L2149.72 895.94 L2149.72 895.94  Z\n",
       "  \" fill=\"#e26f46\" fill-rule=\"evenodd\" fill-opacity=\"1\"/>\n",
       "<polyline clip-path=\"url(#clip702)\" style=\"stroke:#000000; stroke-linecap:butt; stroke-linejoin:round; stroke-width:4; stroke-opacity:1; fill:none\" points=\"\n",
       "  2149.72,895.94 2149.72,1386.4 2236.94,1386.4 2236.94,895.94 2149.72,895.94 \n",
       "  \"/>\n",
       "<circle clip-path=\"url(#clip702)\" style=\"fill:#e26f46; stroke:none; fill-opacity:0\" cx=\"448.876\" cy=\"650.712\" r=\"2\"/>\n",
       "<circle clip-path=\"url(#clip702)\" style=\"fill:#e26f46; stroke:none; fill-opacity:0\" cx=\"666.933\" cy=\"160.256\" r=\"2\"/>\n",
       "<circle clip-path=\"url(#clip702)\" style=\"fill:#e26f46; stroke:none; fill-opacity:0\" cx=\"884.989\" cy=\"160.256\" r=\"2\"/>\n",
       "<circle clip-path=\"url(#clip702)\" style=\"fill:#e26f46; stroke:none; fill-opacity:0\" cx=\"1103.05\" cy=\"241.999\" r=\"2\"/>\n",
       "<circle clip-path=\"url(#clip702)\" style=\"fill:#e26f46; stroke:none; fill-opacity:0\" cx=\"1321.1\" cy=\"568.969\" r=\"2\"/>\n",
       "<circle clip-path=\"url(#clip702)\" style=\"fill:#e26f46; stroke:none; fill-opacity:0\" cx=\"1539.16\" cy=\"650.712\" r=\"2\"/>\n",
       "<circle clip-path=\"url(#clip702)\" style=\"fill:#e26f46; stroke:none; fill-opacity:0\" cx=\"1757.22\" cy=\"487.227\" r=\"2\"/>\n",
       "<circle clip-path=\"url(#clip702)\" style=\"fill:#e26f46; stroke:none; fill-opacity:0\" cx=\"1975.27\" cy=\"650.712\" r=\"2\"/>\n",
       "<circle clip-path=\"url(#clip702)\" style=\"fill:#e26f46; stroke:none; fill-opacity:0\" cx=\"2193.33\" cy=\"895.94\" r=\"2\"/>\n",
       "<path clip-path=\"url(#clip700)\" d=\"\n",
       "M1639.6 322.316 L2281.07 322.316 L2281.07 166.796 L1639.6 166.796  Z\n",
       "  \" fill=\"#ffffff\" fill-rule=\"evenodd\" fill-opacity=\"1\"/>\n",
       "<polyline clip-path=\"url(#clip700)\" style=\"stroke:#000000; stroke-linecap:butt; stroke-linejoin:round; stroke-width:4; stroke-opacity:1; fill:none\" points=\"\n",
       "  1639.6,322.316 2281.07,322.316 2281.07,166.796 1639.6,166.796 1639.6,322.316 \n",
       "  \"/>\n",
       "<path clip-path=\"url(#clip700)\" d=\"\n",
       "M1663.5 239.372 L1806.87 239.372 L1806.87 197.9 L1663.5 197.9 L1663.5 239.372  Z\n",
       "  \" fill=\"#009af9\" fill-rule=\"evenodd\" fill-opacity=\"1\"/>\n",
       "<polyline clip-path=\"url(#clip700)\" style=\"stroke:#000000; stroke-linecap:butt; stroke-linejoin:round; stroke-width:4; stroke-opacity:1; fill:none\" points=\"\n",
       "  1663.5,239.372 1806.87,239.372 1806.87,197.9 1663.5,197.9 1663.5,239.372 \n",
       "  \"/>\n",
       "<path clip-path=\"url(#clip700)\" d=\"M1852.47 220.268 L1852.47 235.916 L1848.21 235.916 L1848.21 220.407 Q1848.21 216.726 1846.78 214.897 Q1845.34 213.069 1842.47 213.069 Q1839.02 213.069 1837.03 215.268 Q1835.04 217.467 1835.04 221.263 L1835.04 235.916 L1830.76 235.916 L1830.76 209.99 L1835.04 209.99 L1835.04 214.018 Q1836.57 211.68 1838.63 210.522 Q1840.71 209.365 1843.42 209.365 Q1847.89 209.365 1850.18 212.143 Q1852.47 214.897 1852.47 220.268 Z\" fill=\"#000000\" fill-rule=\"evenodd\" fill-opacity=\"1\" /><path clip-path=\"url(#clip700)\" d=\"M1871.02 212.976 Q1867.59 212.976 1865.6 215.661 Q1863.61 218.323 1863.61 222.976 Q1863.61 227.629 1865.58 230.314 Q1867.57 232.976 1871.02 232.976 Q1874.42 232.976 1876.41 230.291 Q1878.4 227.606 1878.4 222.976 Q1878.4 218.37 1876.41 215.684 Q1874.42 212.976 1871.02 212.976 M1871.02 209.365 Q1876.57 209.365 1879.74 212.976 Q1882.91 216.587 1882.91 222.976 Q1882.91 229.342 1879.74 232.976 Q1876.57 236.587 1871.02 236.587 Q1865.44 236.587 1862.27 232.976 Q1859.12 229.342 1859.12 222.976 Q1859.12 216.587 1862.27 212.976 Q1865.44 209.365 1871.02 209.365 Z\" fill=\"#000000\" fill-rule=\"evenodd\" fill-opacity=\"1\" /><path clip-path=\"url(#clip700)\" d=\"M1911.52 220.268 L1911.52 235.916 L1907.27 235.916 L1907.27 220.407 Q1907.27 216.726 1905.83 214.897 Q1904.39 213.069 1901.52 213.069 Q1898.08 213.069 1896.08 215.268 Q1894.09 217.467 1894.09 221.263 L1894.09 235.916 L1889.81 235.916 L1889.81 209.99 L1894.09 209.99 L1894.09 214.018 Q1895.62 211.68 1897.68 210.522 Q1899.77 209.365 1902.47 209.365 Q1906.94 209.365 1909.23 212.143 Q1911.52 214.897 1911.52 220.268 Z\" fill=\"#000000\" fill-rule=\"evenodd\" fill-opacity=\"1\" /><path clip-path=\"url(#clip700)\" d=\"M1917.87 221.032 L1930.34 221.032 L1930.34 224.828 L1917.87 224.828 L1917.87 221.032 Z\" fill=\"#000000\" fill-rule=\"evenodd\" fill-opacity=\"1\" /><path clip-path=\"url(#clip700)\" d=\"M1941.34 202.629 L1941.34 209.99 L1950.11 209.99 L1950.11 213.3 L1941.34 213.3 L1941.34 227.374 Q1941.34 230.545 1942.2 231.448 Q1943.08 232.351 1945.74 232.351 L1950.11 232.351 L1950.11 235.916 L1945.74 235.916 Q1940.81 235.916 1938.93 234.087 Q1937.06 232.235 1937.06 227.374 L1937.06 213.3 L1933.93 213.3 L1933.93 209.99 L1937.06 209.99 L1937.06 202.629 L1941.34 202.629 Z\" fill=\"#000000\" fill-rule=\"evenodd\" fill-opacity=\"1\" /><path clip-path=\"url(#clip700)\" d=\"M1970.74 213.971 Q1970.02 213.555 1969.16 213.37 Q1968.33 213.161 1967.31 213.161 Q1963.7 213.161 1961.76 215.522 Q1959.83 217.86 1959.83 222.258 L1959.83 235.916 L1955.55 235.916 L1955.55 209.99 L1959.83 209.99 L1959.83 214.018 Q1961.18 211.657 1963.33 210.522 Q1965.48 209.365 1968.56 209.365 Q1969 209.365 1969.53 209.434 Q1970.07 209.481 1970.71 209.596 L1970.74 213.971 Z\" fill=\"#000000\" fill-rule=\"evenodd\" fill-opacity=\"1\" /><path clip-path=\"url(#clip700)\" d=\"M1986.99 222.883 Q1981.83 222.883 1979.83 224.064 Q1977.84 225.244 1977.84 228.092 Q1977.84 230.36 1979.33 231.703 Q1980.83 233.022 1983.4 233.022 Q1986.94 233.022 1989.07 230.522 Q1991.22 227.999 1991.22 223.832 L1991.22 222.883 L1986.99 222.883 M1995.48 221.124 L1995.48 235.916 L1991.22 235.916 L1991.22 231.981 Q1989.76 234.342 1987.59 235.476 Q1985.41 236.587 1982.26 236.587 Q1978.28 236.587 1975.92 234.365 Q1973.58 232.119 1973.58 228.369 Q1973.58 223.994 1976.5 221.772 Q1979.44 219.55 1985.25 219.55 L1991.22 219.55 L1991.22 219.133 Q1991.22 216.194 1989.28 214.596 Q1987.36 212.976 1983.86 212.976 Q1981.64 212.976 1979.53 213.508 Q1977.43 214.041 1975.48 215.106 L1975.48 211.17 Q1977.82 210.268 1980.02 209.828 Q1982.22 209.365 1984.3 209.365 Q1989.93 209.365 1992.7 212.282 Q1995.48 215.198 1995.48 221.124 Z\" fill=\"#000000\" fill-rule=\"evenodd\" fill-opacity=\"1\" /><path clip-path=\"url(#clip700)\" d=\"M2025.81 220.268 L2025.81 235.916 L2021.55 235.916 L2021.55 220.407 Q2021.55 216.726 2020.11 214.897 Q2018.68 213.069 2015.81 213.069 Q2012.36 213.069 2010.37 215.268 Q2008.38 217.467 2008.38 221.263 L2008.38 235.916 L2004.09 235.916 L2004.09 209.99 L2008.38 209.99 L2008.38 214.018 Q2009.9 211.68 2011.96 210.522 Q2014.05 209.365 2016.76 209.365 Q2021.22 209.365 2023.51 212.143 Q2025.81 214.897 2025.81 220.268 Z\" fill=\"#000000\" fill-rule=\"evenodd\" fill-opacity=\"1\" /><path clip-path=\"url(#clip700)\" d=\"M2050.83 210.754 L2050.83 214.782 Q2049.02 213.856 2047.08 213.393 Q2045.13 212.93 2043.05 212.93 Q2039.88 212.93 2038.28 213.902 Q2036.71 214.874 2036.71 216.819 Q2036.71 218.3 2037.84 219.157 Q2038.98 219.99 2042.4 220.754 L2043.86 221.078 Q2048.4 222.05 2050.3 223.832 Q2052.22 225.592 2052.22 228.763 Q2052.22 232.374 2049.35 234.481 Q2046.5 236.587 2041.5 236.587 Q2039.42 236.587 2037.15 236.17 Q2034.9 235.777 2032.4 234.967 L2032.4 230.569 Q2034.76 231.795 2037.06 232.42 Q2039.35 233.022 2041.59 233.022 Q2044.6 233.022 2046.22 232.004 Q2047.84 230.962 2047.84 229.087 Q2047.84 227.351 2046.66 226.425 Q2045.51 225.499 2041.55 224.643 L2040.07 224.295 Q2036.11 223.462 2034.35 221.749 Q2032.59 220.013 2032.59 217.004 Q2032.59 213.346 2035.18 211.356 Q2037.77 209.365 2042.54 209.365 Q2044.9 209.365 2046.99 209.712 Q2049.07 210.059 2050.83 210.754 Z\" fill=\"#000000\" fill-rule=\"evenodd\" fill-opacity=\"1\" /><path clip-path=\"url(#clip700)\" d=\"M2072.13 199.897 L2072.13 203.439 L2068.05 203.439 Q2065.76 203.439 2064.86 204.365 Q2063.98 205.291 2063.98 207.698 L2063.98 209.99 L2070.99 209.99 L2070.99 213.3 L2063.98 213.3 L2063.98 235.916 L2059.7 235.916 L2059.7 213.3 L2055.62 213.3 L2055.62 209.99 L2059.7 209.99 L2059.7 208.184 Q2059.7 203.856 2061.71 201.888 Q2063.72 199.897 2068.1 199.897 L2072.13 199.897 Z\" fill=\"#000000\" fill-rule=\"evenodd\" fill-opacity=\"1\" /><path clip-path=\"url(#clip700)\" d=\"M2097.87 221.888 L2097.87 223.971 L2078.28 223.971 Q2078.56 228.369 2080.92 230.684 Q2083.31 232.976 2087.54 232.976 Q2090 232.976 2092.29 232.374 Q2094.6 231.772 2096.87 230.569 L2096.87 234.596 Q2094.58 235.568 2092.17 236.078 Q2089.76 236.587 2087.29 236.587 Q2081.08 236.587 2077.45 232.976 Q2073.84 229.365 2073.84 223.207 Q2073.84 216.842 2077.26 213.115 Q2080.71 209.365 2086.55 209.365 Q2091.78 209.365 2094.81 212.745 Q2097.87 216.101 2097.87 221.888 M2093.61 220.638 Q2093.56 217.143 2091.64 215.059 Q2089.74 212.976 2086.59 212.976 Q2083.03 212.976 2080.88 214.99 Q2078.75 217.004 2078.42 220.661 L2093.61 220.638 Z\" fill=\"#000000\" fill-rule=\"evenodd\" fill-opacity=\"1\" /><path clip-path=\"url(#clip700)\" d=\"M2119.88 213.971 Q2119.16 213.555 2118.31 213.37 Q2117.47 213.161 2116.45 213.161 Q2112.84 213.161 2110.9 215.522 Q2108.98 217.86 2108.98 222.258 L2108.98 235.916 L2104.69 235.916 L2104.69 209.99 L2108.98 209.99 L2108.98 214.018 Q2110.32 211.657 2112.47 210.522 Q2114.63 209.365 2117.7 209.365 Q2118.14 209.365 2118.68 209.434 Q2119.21 209.481 2119.86 209.596 L2119.88 213.971 Z\" fill=\"#000000\" fill-rule=\"evenodd\" fill-opacity=\"1\" /><path clip-path=\"url(#clip700)\" d=\"M2143.54 232.027 L2143.54 245.777 L2139.25 245.777 L2139.25 209.99 L2143.54 209.99 L2143.54 213.925 Q2144.88 211.61 2146.92 210.499 Q2148.98 209.365 2151.82 209.365 Q2156.55 209.365 2159.49 213.115 Q2162.45 216.865 2162.45 222.976 Q2162.45 229.087 2159.49 232.837 Q2156.55 236.587 2151.82 236.587 Q2148.98 236.587 2146.92 235.476 Q2144.88 234.342 2143.54 232.027 M2158.03 222.976 Q2158.03 218.277 2156.08 215.615 Q2154.16 212.93 2150.78 212.93 Q2147.4 212.93 2145.46 215.615 Q2143.54 218.277 2143.54 222.976 Q2143.54 227.675 2145.46 230.36 Q2147.4 233.022 2150.78 233.022 Q2154.16 233.022 2156.08 230.36 Q2158.03 227.675 2158.03 222.976 Z\" fill=\"#000000\" fill-rule=\"evenodd\" fill-opacity=\"1\" /><path clip-path=\"url(#clip700)\" d=\"M2169.51 199.897 L2173.77 199.897 L2173.77 235.916 L2169.51 235.916 L2169.51 199.897 Z\" fill=\"#000000\" fill-rule=\"evenodd\" fill-opacity=\"1\" /><path clip-path=\"url(#clip700)\" d=\"M2194.46 222.883 Q2189.3 222.883 2187.31 224.064 Q2185.32 225.244 2185.32 228.092 Q2185.32 230.36 2186.8 231.703 Q2188.31 233.022 2190.87 233.022 Q2194.42 233.022 2196.55 230.522 Q2198.7 227.999 2198.7 223.832 L2198.7 222.883 L2194.46 222.883 M2202.96 221.124 L2202.96 235.916 L2198.7 235.916 L2198.7 231.981 Q2197.24 234.342 2195.06 235.476 Q2192.89 236.587 2189.74 236.587 Q2185.76 236.587 2183.4 234.365 Q2181.06 232.119 2181.06 228.369 Q2181.06 223.994 2183.98 221.772 Q2186.92 219.55 2192.73 219.55 L2198.7 219.55 L2198.7 219.133 Q2198.7 216.194 2196.75 214.596 Q2194.83 212.976 2191.34 212.976 Q2189.12 212.976 2187.01 213.508 Q2184.9 214.041 2182.96 215.106 L2182.96 211.17 Q2185.3 210.268 2187.5 209.828 Q2189.69 209.365 2191.78 209.365 Q2197.4 209.365 2200.18 212.282 Q2202.96 215.198 2202.96 221.124 Z\" fill=\"#000000\" fill-rule=\"evenodd\" fill-opacity=\"1\" /><path clip-path=\"url(#clip700)\" d=\"M2233.28 220.268 L2233.28 235.916 L2229.02 235.916 L2229.02 220.407 Q2229.02 216.726 2227.59 214.897 Q2226.15 213.069 2223.28 213.069 Q2219.83 213.069 2217.84 215.268 Q2215.85 217.467 2215.85 221.263 L2215.85 235.916 L2211.57 235.916 L2211.57 209.99 L2215.85 209.99 L2215.85 214.018 Q2217.38 211.68 2219.44 210.522 Q2221.52 209.365 2224.23 209.365 Q2228.7 209.365 2230.99 212.143 Q2233.28 214.897 2233.28 220.268 Z\" fill=\"#000000\" fill-rule=\"evenodd\" fill-opacity=\"1\" /><path clip-path=\"url(#clip700)\" d=\"\n",
       "M1663.5 291.212 L1806.87 291.212 L1806.87 249.74 L1663.5 249.74 L1663.5 291.212  Z\n",
       "  \" fill=\"#e26f46\" fill-rule=\"evenodd\" fill-opacity=\"1\"/>\n",
       "<polyline clip-path=\"url(#clip700)\" style=\"stroke:#000000; stroke-linecap:butt; stroke-linejoin:round; stroke-width:4; stroke-opacity:1; fill:none\" points=\"\n",
       "  1663.5,291.212 1806.87,291.212 1806.87,249.74 1663.5,249.74 1663.5,291.212 \n",
       "  \"/>\n",
       "<path clip-path=\"url(#clip700)\" d=\"M1838.17 254.469 L1838.17 261.83 L1846.94 261.83 L1846.94 265.14 L1838.17 265.14 L1838.17 279.214 Q1838.17 282.385 1839.02 283.288 Q1839.9 284.191 1842.57 284.191 L1846.94 284.191 L1846.94 287.756 L1842.57 287.756 Q1837.64 287.756 1835.76 285.927 Q1833.89 284.075 1833.89 279.214 L1833.89 265.14 L1830.76 265.14 L1830.76 261.83 L1833.89 261.83 L1833.89 254.469 L1838.17 254.469 Z\" fill=\"#000000\" fill-rule=\"evenodd\" fill-opacity=\"1\" /><path clip-path=\"url(#clip700)\" d=\"M1867.57 265.811 Q1866.85 265.395 1865.99 265.21 Q1865.16 265.001 1864.14 265.001 Q1860.53 265.001 1858.59 267.362 Q1856.66 269.7 1856.66 274.098 L1856.66 287.756 L1852.38 287.756 L1852.38 261.83 L1856.66 261.83 L1856.66 265.858 Q1858.01 263.497 1860.16 262.362 Q1862.31 261.205 1865.39 261.205 Q1865.83 261.205 1866.36 261.274 Q1866.9 261.321 1867.54 261.436 L1867.57 265.811 Z\" fill=\"#000000\" fill-rule=\"evenodd\" fill-opacity=\"1\" /><path clip-path=\"url(#clip700)\" d=\"M1883.82 274.723 Q1878.65 274.723 1876.66 275.904 Q1874.67 277.084 1874.67 279.932 Q1874.67 282.2 1876.15 283.543 Q1877.66 284.862 1880.23 284.862 Q1883.77 284.862 1885.9 282.362 Q1888.05 279.839 1888.05 275.672 L1888.05 274.723 L1883.82 274.723 M1892.31 272.964 L1892.31 287.756 L1888.05 287.756 L1888.05 283.821 Q1886.59 286.182 1884.42 287.316 Q1882.24 288.427 1879.09 288.427 Q1875.11 288.427 1872.75 286.205 Q1870.41 283.959 1870.41 280.209 Q1870.41 275.834 1873.33 273.612 Q1876.27 271.39 1882.08 271.39 L1888.05 271.39 L1888.05 270.973 Q1888.05 268.034 1886.11 266.436 Q1884.19 264.816 1880.69 264.816 Q1878.47 264.816 1876.36 265.348 Q1874.26 265.881 1872.31 266.946 L1872.31 263.01 Q1874.65 262.108 1876.85 261.668 Q1879.05 261.205 1881.13 261.205 Q1886.76 261.205 1889.53 264.122 Q1892.31 267.038 1892.31 272.964 Z\" fill=\"#000000\" fill-rule=\"evenodd\" fill-opacity=\"1\" /><path clip-path=\"url(#clip700)\" d=\"M1922.64 272.108 L1922.64 287.756 L1918.38 287.756 L1918.38 272.247 Q1918.38 268.566 1916.94 266.737 Q1915.51 264.909 1912.64 264.909 Q1909.19 264.909 1907.2 267.108 Q1905.21 269.307 1905.21 273.103 L1905.21 287.756 L1900.92 287.756 L1900.92 261.83 L1905.21 261.83 L1905.21 265.858 Q1906.73 263.52 1908.79 262.362 Q1910.88 261.205 1913.58 261.205 Q1918.05 261.205 1920.34 263.983 Q1922.64 266.737 1922.64 272.108 Z\" fill=\"#000000\" fill-rule=\"evenodd\" fill-opacity=\"1\" /><path clip-path=\"url(#clip700)\" d=\"M1947.66 262.594 L1947.66 266.622 Q1945.85 265.696 1943.91 265.233 Q1941.96 264.77 1939.88 264.77 Q1936.71 264.77 1935.11 265.742 Q1933.54 266.714 1933.54 268.659 Q1933.54 270.14 1934.67 270.997 Q1935.81 271.83 1939.23 272.594 L1940.69 272.918 Q1945.23 273.89 1947.13 275.672 Q1949.05 277.432 1949.05 280.603 Q1949.05 284.214 1946.18 286.321 Q1943.33 288.427 1938.33 288.427 Q1936.25 288.427 1933.98 288.01 Q1931.73 287.617 1929.23 286.807 L1929.23 282.409 Q1931.59 283.635 1933.89 284.26 Q1936.18 284.862 1938.42 284.862 Q1941.43 284.862 1943.05 283.844 Q1944.67 282.802 1944.67 280.927 Q1944.67 279.191 1943.49 278.265 Q1942.33 277.339 1938.38 276.483 L1936.89 276.135 Q1932.94 275.302 1931.18 273.589 Q1929.42 271.853 1929.42 268.844 Q1929.42 265.186 1932.01 263.196 Q1934.6 261.205 1939.37 261.205 Q1941.73 261.205 1943.82 261.552 Q1945.9 261.899 1947.66 262.594 Z\" fill=\"#000000\" fill-rule=\"evenodd\" fill-opacity=\"1\" /><path clip-path=\"url(#clip700)\" d=\"M1968.95 251.737 L1968.95 255.279 L1964.88 255.279 Q1962.59 255.279 1961.69 256.205 Q1960.81 257.131 1960.81 259.538 L1960.81 261.83 L1967.82 261.83 L1967.82 265.14 L1960.81 265.14 L1960.81 287.756 L1956.52 287.756 L1956.52 265.14 L1952.45 265.14 L1952.45 261.83 L1956.52 261.83 L1956.52 260.024 Q1956.52 255.696 1958.54 253.728 Q1960.55 251.737 1964.93 251.737 L1968.95 251.737 Z\" fill=\"#000000\" fill-rule=\"evenodd\" fill-opacity=\"1\" /><path clip-path=\"url(#clip700)\" d=\"M1994.7 273.728 L1994.7 275.811 L1975.11 275.811 Q1975.39 280.209 1977.75 282.524 Q1980.14 284.816 1984.37 284.816 Q1986.83 284.816 1989.12 284.214 Q1991.43 283.612 1993.7 282.409 L1993.7 286.436 Q1991.41 287.408 1989 287.918 Q1986.59 288.427 1984.12 288.427 Q1977.91 288.427 1974.28 284.816 Q1970.67 281.205 1970.67 275.047 Q1970.67 268.682 1974.09 264.955 Q1977.54 261.205 1983.38 261.205 Q1988.61 261.205 1991.64 264.585 Q1994.7 267.941 1994.7 273.728 M1990.44 272.478 Q1990.39 268.983 1988.47 266.899 Q1986.57 264.816 1983.42 264.816 Q1979.86 264.816 1977.7 266.83 Q1975.58 268.844 1975.25 272.501 L1990.44 272.478 Z\" fill=\"#000000\" fill-rule=\"evenodd\" fill-opacity=\"1\" /><path clip-path=\"url(#clip700)\" d=\"M2016.71 265.811 Q2015.99 265.395 2015.14 265.21 Q2014.3 265.001 2013.28 265.001 Q2009.67 265.001 2007.73 267.362 Q2005.81 269.7 2005.81 274.098 L2005.81 287.756 L2001.52 287.756 L2001.52 261.83 L2005.81 261.83 L2005.81 265.858 Q2007.15 263.497 2009.3 262.362 Q2011.45 261.205 2014.53 261.205 Q2014.97 261.205 2015.51 261.274 Q2016.04 261.321 2016.69 261.436 L2016.71 265.811 Z\" fill=\"#000000\" fill-rule=\"evenodd\" fill-opacity=\"1\" /><path clip-path=\"url(#clip700)\" d=\"M2040.37 283.867 L2040.37 297.617 L2036.08 297.617 L2036.08 261.83 L2040.37 261.83 L2040.37 265.765 Q2041.71 263.45 2043.75 262.339 Q2045.81 261.205 2048.65 261.205 Q2053.38 261.205 2056.32 264.955 Q2059.28 268.705 2059.28 274.816 Q2059.28 280.927 2056.32 284.677 Q2053.38 288.427 2048.65 288.427 Q2045.81 288.427 2043.75 287.316 Q2041.71 286.182 2040.37 283.867 M2054.86 274.816 Q2054.86 270.117 2052.91 267.455 Q2050.99 264.77 2047.61 264.77 Q2044.23 264.77 2042.29 267.455 Q2040.37 270.117 2040.37 274.816 Q2040.37 279.515 2042.29 282.2 Q2044.23 284.862 2047.61 284.862 Q2050.99 284.862 2052.91 282.2 Q2054.86 279.515 2054.86 274.816 Z\" fill=\"#000000\" fill-rule=\"evenodd\" fill-opacity=\"1\" /><path clip-path=\"url(#clip700)\" d=\"M2066.34 251.737 L2070.6 251.737 L2070.6 287.756 L2066.34 287.756 L2066.34 251.737 Z\" fill=\"#000000\" fill-rule=\"evenodd\" fill-opacity=\"1\" /><path clip-path=\"url(#clip700)\" d=\"M2091.29 274.723 Q2086.13 274.723 2084.14 275.904 Q2082.15 277.084 2082.15 279.932 Q2082.15 282.2 2083.63 283.543 Q2085.13 284.862 2087.7 284.862 Q2091.25 284.862 2093.38 282.362 Q2095.53 279.839 2095.53 275.672 L2095.53 274.723 L2091.29 274.723 M2099.79 272.964 L2099.79 287.756 L2095.53 287.756 L2095.53 283.821 Q2094.07 286.182 2091.89 287.316 Q2089.72 288.427 2086.57 288.427 Q2082.59 288.427 2080.23 286.205 Q2077.89 283.959 2077.89 280.209 Q2077.89 275.834 2080.81 273.612 Q2083.75 271.39 2089.56 271.39 L2095.53 271.39 L2095.53 270.973 Q2095.53 268.034 2093.58 266.436 Q2091.66 264.816 2088.17 264.816 Q2085.94 264.816 2083.84 265.348 Q2081.73 265.881 2079.79 266.946 L2079.79 263.01 Q2082.13 262.108 2084.32 261.668 Q2086.52 261.205 2088.61 261.205 Q2094.23 261.205 2097.01 264.122 Q2099.79 267.038 2099.79 272.964 Z\" fill=\"#000000\" fill-rule=\"evenodd\" fill-opacity=\"1\" /><path clip-path=\"url(#clip700)\" d=\"M2130.11 272.108 L2130.11 287.756 L2125.85 287.756 L2125.85 272.247 Q2125.85 268.566 2124.42 266.737 Q2122.98 264.909 2120.11 264.909 Q2116.66 264.909 2114.67 267.108 Q2112.68 269.307 2112.68 273.103 L2112.68 287.756 L2108.4 287.756 L2108.4 261.83 L2112.68 261.83 L2112.68 265.858 Q2114.21 263.52 2116.27 262.362 Q2118.35 261.205 2121.06 261.205 Q2125.53 261.205 2127.82 263.983 Q2130.11 266.737 2130.11 272.108 Z\" fill=\"#000000\" fill-rule=\"evenodd\" fill-opacity=\"1\" /></svg>\n"
      ]
     },
     "execution_count": 19,
     "metadata": {},
     "output_type": "execute_result"
    }
   ],
   "source": [
    "X = repeat([\"$(i-1)-$(i)\" for i in 2:10], outer=2)\n",
    "Y = convert(Array{Int}, cat(knowledge_transfer(ChemE), [0,0], knowledge_transfer(ChemE_xfer), dims=1))\n",
    "student_type = repeat([\"non-transfer plan\", \"transfer plan\"], inner=9)\n",
    "\n",
    "groupedbar(X, Y, group=student_type, xlabel=\"term transition\", ylabel=\"requisite crossings\", \n",
    "           title = \"Knowledge Transfer between Terms\")"
   ]
  },
  {
   "cell_type": "code",
   "execution_count": 20,
   "metadata": {},
   "outputs": [
    {
     "name": "stdout",
     "output_type": "stream",
     "text": [
      "Academic license - for non-commercial use only\n",
      "An optimal solution was found with objective value = 0.0\n"
     ]
    },
    {
     "data": {
      "application/vnd.webio.node+json": {
       "children": [
        {
         "children": [
          ""
         ],
         "instanceArgs": {
          "namespace": "html",
          "tag": "iframe"
         },
         "nodeType": "DOM",
         "props": {
          "events": {
           "load": "(function (){this.contentWindow.postMessage({\"options\":{\"hideTerms\":false,\"edit\":false},\"curriculum\":{\"name\":\"Chemical Engineering\",\"dp_name\":\"\",\"curriculum_terms\":[{\"name\":\"Term 1\",\"curriculum_items\":[{\"curriculum_requisites\":[{\"source_id\":1,\"target_id\":4,\"type\":\"CurriculumCorequisite\"}],\"name\":\"ENGR 102\",\"metrics\":{\"centrality\":163,\"complexity\":25.0,\"blocking factor\":15,\"delay factor\":10.0},\"nameSub\":\"Intro to Engineering\",\"id\":4,\"credits\":3,\"nameCanonical\":\"\"},{\"curriculum_requisites\":[],\"name\":\"MATH 125\",\"metrics\":{\"centrality\":0,\"complexity\":37.0,\"blocking factor\":26,\"delay factor\":11.0},\"nameSub\":\"Calculus I w/ Applications\",\"id\":1,\"credits\":3,\"nameCanonical\":\"\"},{\"curriculum_requisites\":[],\"name\":\"ENGL 101\",\"metrics\":{\"centrality\":0,\"complexity\":3.0,\"blocking factor\":1,\"delay factor\":2.0},\"nameSub\":\"First-year Comp\",\"id\":3,\"credits\":3,\"nameCanonical\":\"\"},{\"curriculum_requisites\":[],\"name\":\" \",\"metrics\":{\"centrality\":0,\"complexity\":1.0,\"blocking factor\":0,\"delay factor\":1.0},\"nameSub\":\"Technical Elective\",\"id\":33,\"credits\":3,\"nameCanonical\":\"\"},{\"curriculum_requisites\":[],\"name\":\"CHEM 151\",\"metrics\":{\"centrality\":0,\"complexity\":31.0,\"blocking factor\":21,\"delay factor\":10.0},\"nameSub\":\"Gen Chemistry I\",\"id\":2,\"credits\":4,\"nameCanonical\":\"\"}],\"id\":1},{\"name\":\"Term 2\",\"curriculum_items\":[{\"curriculum_requisites\":[{\"source_id\":1,\"target_id\":6,\"type\":\"CurriculumPrerequisite\"}],\"name\":\"MATH 129\",\"metrics\":{\"centrality\":156,\"complexity\":26.0,\"blocking factor\":17,\"delay factor\":9.0},\"nameSub\":\"Calculus II\",\"id\":6,\"credits\":3,\"nameCanonical\":\"\"},{\"curriculum_requisites\":[{\"source_id\":10,\"target_id\":12,\"type\":\"CurriculumCorequisite\"},{\"source_id\":1,\"target_id\":12,\"type\":\"CurriculumPrerequisite\"}],\"name\":\"CHEE 201L\",\"metrics\":{\"centrality\":86,\"complexity\":17.0,\"blocking factor\":8,\"delay factor\":9.0},\"nameSub\":\"Elements of Chem and Envirn Eng I Lab\",\"id\":12,\"credits\":1,\"nameCanonical\":\"\"},{\"curriculum_requisites\":[{\"source_id\":1,\"target_id\":8,\"type\":\"CurriculumPrerequisite\"}],\"name\":\"PHYS 141\",\"metrics\":{\"centrality\":115,\"complexity\":25.0,\"blocking factor\":16,\"delay factor\":9.0},\"nameSub\":\"Intro Mechanics\",\"id\":8,\"credits\":4,\"nameCanonical\":\"\"},{\"curriculum_requisites\":[{\"source_id\":2,\"target_id\":7,\"type\":\"CurriculumPrerequisite\"}],\"name\":\"CHEM 152\",\"metrics\":{\"centrality\":171,\"complexity\":28.0,\"blocking factor\":18,\"delay factor\":10.0},\"nameSub\":\"Gen Chemistry II\",\"id\":7,\"credits\":4,\"nameCanonical\":\"\"},{\"curriculum_requisites\":[{\"source_id\":1,\"target_id\":10,\"type\":\"CurriculumCorequisite\"}],\"name\":\"AME 105\",\"metrics\":{\"centrality\":393,\"complexity\":28.0,\"blocking factor\":17,\"delay factor\":11.0},\"nameSub\":\"Intro to MATLAB I\",\"id\":10,\"credits\":1,\"nameCanonical\":\"\"},{\"curriculum_requisites\":[],\"name\":\" \",\"metrics\":{\"centrality\":0,\"complexity\":1.0,\"blocking factor\":0,\"delay factor\":1.0},\"nameSub\":\"Tier I General Ed\",\"id\":27,\"credits\":3,\"nameCanonical\":\"\"}],\"id\":2},{\"name\":\"Term 3\",\"curriculum_items\":[{\"curriculum_requisites\":[{\"source_id\":6,\"target_id\":20,\"type\":\"CurriculumPrerequisite\"},{\"source_id\":8,\"target_id\":20,\"type\":\"CurriculumPrerequisite\"}],\"name\":\"PHYS 241\",\"metrics\":{\"centrality\":72,\"complexity\":17.0,\"blocking factor\":9,\"delay factor\":8.0},\"nameSub\":\"Electricity & Magnetism\",\"id\":20,\"credits\":4,\"nameCanonical\":\"\"},{\"curriculum_requisites\":[{\"source_id\":6,\"target_id\":13,\"type\":\"CurriculumPrerequisite\"}],\"name\":\"MATH  223\",\"metrics\":{\"centrality\":0,\"complexity\":3.0,\"blocking factor\":0,\"delay factor\":3.0},\"nameSub\":\"Vector Calculus\",\"id\":13,\"credits\":4,\"nameCanonical\":\"\"},{\"curriculum_requisites\":[{\"source_id\":10,\"target_id\":47,\"type\":\"CurriculumPrerequisite\"}],\"name\":\"AME 205\",\"metrics\":{\"centrality\":184,\"complexity\":26.0,\"blocking factor\":15,\"delay factor\":11.0},\"nameSub\":\"Intro to MATLAB II\",\"id\":47,\"credits\":1,\"nameCanonical\":\"\"},{\"curriculum_requisites\":[{\"source_id\":4,\"target_id\":11,\"type\":\"CurriculumPrerequisite\"},{\"source_id\":47,\"target_id\":11,\"type\":\"CurriculumCorequisite\"},{\"source_id\":7,\"target_id\":11,\"type\":\"CurriculumPrerequisite\"},{\"source_id\":10,\"target_id\":11,\"type\":\"CurriculumPrerequisite\"},{\"source_id\":1,\"target_id\":11,\"type\":\"CurriculumPrerequisite\"}],\"name\":\"CHEE 201\",\"metrics\":{\"centrality\":815,\"complexity\":25.0,\"blocking factor\":14,\"delay factor\":11.0},\"nameSub\":\"Elements of Chem and Envirn Eng I\",\"id\":11,\"credits\":3,\"nameCanonical\":\"\"},{\"curriculum_requisites\":[{\"source_id\":7,\"target_id\":14,\"type\":\"CurriculumPrerequisite\"}],\"name\":\"CHEM  241A\",\"metrics\":{\"centrality\":8,\"complexity\":6.0,\"blocking factor\":2,\"delay factor\":4.0},\"nameSub\":\"Lectures in Org Chem\",\"id\":14,\"credits\":3,\"nameCanonical\":\"\"},{\"curriculum_requisites\":[{\"source_id\":14,\"target_id\":15,\"type\":\"CurriculumCorequisite\"}],\"name\":\"CHEM  243A\",\"metrics\":{\"centrality\":0,\"complexity\":4.0,\"blocking factor\":0,\"delay factor\":4.0},\"nameSub\":\"Org Chem Lab\",\"id\":15,\"credits\":1,\"nameCanonical\":\"\"}],\"id\":3},{\"name\":\"Term 4\",\"curriculum_items\":[{\"curriculum_requisites\":[],\"name\":\" \",\"metrics\":{\"centrality\":0,\"complexity\":1.0,\"blocking factor\":0,\"delay factor\":1.0},\"nameSub\":\"Tier I General Ed\",\"id\":16,\"credits\":3,\"nameCanonical\":\"\"},{\"curriculum_requisites\":[{\"source_id\":6,\"target_id\":19,\"type\":\"CurriculumPrerequisite\"}],\"name\":\"MATH 254\",\"metrics\":{\"centrality\":86,\"complexity\":17.0,\"blocking factor\":8,\"delay factor\":9.0},\"nameSub\":\"Intro to ODEs\",\"id\":19,\"credits\":3,\"nameCanonical\":\"\"},{\"curriculum_requisites\":[],\"name\":\" \",\"metrics\":{\"centrality\":0,\"complexity\":1.0,\"blocking factor\":0,\"delay factor\":1.0},\"nameSub\":\"Engineering Elective\",\"id\":32,\"credits\":3,\"nameCanonical\":\"\"},{\"curriculum_requisites\":[{\"source_id\":11,\"target_id\":17,\"type\":\"CurriculumPrerequisite\"},{\"source_id\":12,\"target_id\":17,\"type\":\"CurriculumPrerequisite\"},{\"source_id\":19,\"target_id\":17,\"type\":\"CurriculumCorequisite\"}],\"name\":\"CHEE 202\",\"metrics\":{\"centrality\":362,\"complexity\":17.0,\"blocking factor\":7,\"delay factor\":10.0},\"nameSub\":\"Elements of Chem Eng II\",\"id\":17,\"credits\":4,\"nameCanonical\":\"\"},{\"curriculum_requisites\":[{\"source_id\":11,\"target_id\":18,\"type\":\"CurriculumPrerequisite\"},{\"source_id\":8,\"target_id\":18,\"type\":\"CurriculumPrerequisite\"}],\"name\":\"CHEE 203\",\"metrics\":{\"centrality\":529,\"complexity\":21.0,\"blocking factor\":10,\"delay factor\":11.0},\"nameSub\":\"Chem Eng Heat Xfer & Fluid Flow\",\"id\":18,\"credits\":3,\"nameCanonical\":\"\"}],\"id\":4},{\"name\":\"Term 5\",\"curriculum_items\":[{\"curriculum_requisites\":[{\"source_id\":3,\"target_id\":9,\"type\":\"CurriculumPrerequisite\"}],\"name\":\"ENGL 102\",\"metrics\":{\"centrality\":0,\"complexity\":2.0,\"blocking factor\":0,\"delay factor\":2.0},\"nameSub\":\"First-year Comp.\",\"id\":9,\"credits\":3,\"nameCanonical\":\"\"},{\"curriculum_requisites\":[{\"source_id\":22,\"target_id\":24,\"type\":\"CurriculumStrictCorequisite\"},{\"source_id\":18,\"target_id\":24,\"type\":\"CurriculumPrerequisite\"},{\"source_id\":17,\"target_id\":24,\"type\":\"CurriculumPrerequisite\"},{\"source_id\":23,\"target_id\":24,\"type\":\"CurriculumStrictCorequisite\"},{\"source_id\":19,\"target_id\":24,\"type\":\"CurriculumPrerequisite\"}],\"name\":\"CHEE 301A\",\"metrics\":{\"centrality\":544,\"complexity\":14.0,\"blocking factor\":3,\"delay factor\":11.0},\"nameSub\":\"Chem Eng Lab I\",\"id\":24,\"credits\":1,\"nameCanonical\":\"\"},{\"curriculum_requisites\":[{\"source_id\":22,\"target_id\":23,\"type\":\"CurriculumStrictCorequisite\"},{\"source_id\":17,\"target_id\":23,\"type\":\"CurriculumPrerequisite\"},{\"source_id\":19,\"target_id\":23,\"type\":\"CurriculumPrerequisite\"}],\"name\":\"CHEE 402\",\"metrics\":{\"centrality\":492,\"complexity\":17.0,\"blocking factor\":6,\"delay factor\":11.0},\"nameSub\":\"Chem Eng Modeling\",\"id\":23,\"credits\":3,\"nameCanonical\":\"\"},{\"curriculum_requisites\":[{\"source_id\":18,\"target_id\":22,\"type\":\"CurriculumPrerequisite\"}],\"name\":\"CHEE 303\",\"metrics\":{\"centrality\":447,\"complexity\":20.0,\"blocking factor\":9,\"delay factor\":11.0},\"nameSub\":\"Chem Eng Mass Xfer\",\"id\":22,\"credits\":3,\"nameCanonical\":\"\"},{\"curriculum_requisites\":[],\"name\":\" \",\"metrics\":{\"centrality\":0,\"complexity\":1.0,\"blocking factor\":0,\"delay factor\":1.0},\"nameSub\":\"Tier II General Ed\",\"id\":40,\"credits\":3,\"nameCanonical\":\"\"},{\"curriculum_requisites\":[{\"source_id\":6,\"target_id\":26,\"type\":\"CurriculumPrerequisite\"},{\"source_id\":20,\"target_id\":26,\"type\":\"CurriculumCorequisite\"},{\"source_id\":2,\"target_id\":26,\"type\":\"CurriculumPrerequisite\"}],\"name\":\"CHEM 480A\",\"metrics\":{\"centrality\":129,\"complexity\":16.0,\"blocking factor\":8,\"delay factor\":8.0},\"nameSub\":\"Physical Chem\",\"id\":26,\"credits\":3,\"nameCanonical\":\"\"}],\"id\":5},{\"name\":\"Term 6\",\"curriculum_items\":[{\"curriculum_requisites\":[],\"name\":\" \",\"metrics\":{\"centrality\":0,\"complexity\":1.0,\"blocking factor\":0,\"delay factor\":1.0},\"nameSub\":\"Technical Elective\",\"id\":45,\"credits\":3,\"nameCanonical\":\"\"},{\"curriculum_requisites\":[{\"source_id\":22,\"target_id\":31,\"type\":\"CurriculumPrerequisite\"},{\"source_id\":29,\"target_id\":31,\"type\":\"CurriculumStrictCorequisite\"},{\"source_id\":24,\"target_id\":31,\"type\":\"CurriculumPrerequisite\"},{\"source_id\":28,\"target_id\":31,\"type\":\"CurriculumStrictCorequisite\"}],\"name\":\"CHEE 301B\",\"metrics\":{\"centrality\":610,\"complexity\":13.0,\"blocking factor\":2,\"delay factor\":11.0},\"nameSub\":\"Chem Eng Lab II\",\"id\":31,\"credits\":1,\"nameCanonical\":\"\"},{\"curriculum_requisites\":[{\"source_id\":11,\"target_id\":29,\"type\":\"CurriculumPrerequisite\"},{\"source_id\":26,\"target_id\":29,\"type\":\"CurriculumPrerequisite\"}],\"name\":\"CHEE 326\",\"metrics\":{\"centrality\":247,\"complexity\":14.0,\"blocking factor\":6,\"delay factor\":8.0},\"nameSub\":\"Chem & Phys Equilibrium\",\"id\":29,\"credits\":3,\"nameCanonical\":\"\"},{\"curriculum_requisites\":[{\"source_id\":22,\"target_id\":28,\"type\":\"CurriculumPrerequisite\"},{\"source_id\":23,\"target_id\":28,\"type\":\"CurriculumPrerequisite\"}],\"name\":\"CHEE 305\",\"metrics\":{\"centrality\":191,\"complexity\":14.0,\"blocking factor\":3,\"delay factor\":11.0},\"nameSub\":\"Chem Eng Transport Phenom\",\"id\":28,\"credits\":3,\"nameCanonical\":\"\"},{\"curriculum_requisites\":[{\"source_id\":23,\"target_id\":41,\"type\":\"CurriculumPrerequisite\"}],\"name\":\"CHEE 413\",\"metrics\":{\"centrality\":108,\"complexity\":10.0,\"blocking factor\":1,\"delay factor\":9.0},\"nameSub\":\"Process Control and Simulation\",\"id\":41,\"credits\":3,\"nameCanonical\":\"\"},{\"curriculum_requisites\":[],\"name\":\"CHEE 489\",\"metrics\":{\"centrality\":0,\"complexity\":1.0,\"blocking factor\":0,\"delay factor\":1.0},\"nameSub\":\"Trends in Nanomedicine Eng\",\"id\":25,\"credits\":3,\"nameCanonical\":\"\"}],\"id\":6},{\"name\":\"Term 7\",\"curriculum_items\":[{\"curriculum_requisites\":[],\"name\":\" \",\"metrics\":{\"centrality\":0,\"complexity\":1.0,\"blocking factor\":0,\"delay factor\":1.0},\"nameSub\":\"Tier I General Ed\",\"id\":5,\"credits\":3,\"nameCanonical\":\"\"},{\"curriculum_requisites\":[{\"source_id\":29,\"target_id\":35,\"type\":\"CurriculumPrerequisite\"}],\"name\":\"CHEE 420\",\"metrics\":{\"centrality\":128,\"complexity\":12.0,\"blocking factor\":4,\"delay factor\":8.0},\"nameSub\":\"Chem Reaction Eng\",\"id\":35,\"credits\":3,\"nameCanonical\":\"\"},{\"curriculum_requisites\":[{\"source_id\":14,\"target_id\":21,\"type\":\"CurriculumPrerequisite\"}],\"name\":\"CHEM 241B\",\"metrics\":{\"centrality\":0,\"complexity\":4.0,\"blocking factor\":0,\"delay factor\":4.0},\"nameSub\":\"Lectures in Org Chem\",\"id\":21,\"credits\":3,\"nameCanonical\":\"\"},{\"curriculum_requisites\":[],\"name\":\" \",\"metrics\":{\"centrality\":0,\"complexity\":1.0,\"blocking factor\":0,\"delay factor\":1.0},\"nameSub\":\"Engineering Elective\",\"id\":38,\"credits\":3,\"nameCanonical\":\"\"},{\"curriculum_requisites\":[{\"source_id\":35,\"target_id\":37,\"type\":\"CurriculumCorequisite\"},{\"source_id\":31,\"target_id\":37,\"type\":\"CurriculumPrerequisite\"}],\"name\":\"CHEE 401A\",\"metrics\":{\"centrality\":674,\"complexity\":12.0,\"blocking factor\":1,\"delay factor\":11.0},\"nameSub\":\"Chem and Enviorn Eng Lab I\",\"id\":37,\"credits\":1,\"nameCanonical\":\"\"},{\"curriculum_requisites\":[{\"source_id\":22,\"target_id\":36,\"type\":\"CurriculumPrerequisite\"},{\"source_id\":29,\"target_id\":36,\"type\":\"CurriculumPrerequisite\"},{\"source_id\":35,\"target_id\":36,\"type\":\"CurriculumStrictCorequisite\"}],\"name\":\"CHEE 442\",\"metrics\":{\"centrality\":160,\"complexity\":9.0,\"blocking factor\":1,\"delay factor\":8.0},\"nameSub\":\"Chem Eng Design Principles\",\"id\":36,\"credits\":3,\"nameCanonical\":\"\"}],\"id\":7},{\"name\":\"Term 8\",\"curriculum_items\":[{\"curriculum_requisites\":[],\"name\":\" \",\"metrics\":{\"centrality\":0,\"complexity\":1.0,\"blocking factor\":0,\"delay factor\":1.0},\"nameSub\":\"Engineering Elective\",\"id\":44,\"credits\":3,\"nameCanonical\":\"\"},{\"curriculum_requisites\":[],\"name\":\" \",\"metrics\":{\"centrality\":0,\"complexity\":1.0,\"blocking factor\":0,\"delay factor\":1.0},\"nameSub\":\"Tier II General Ed\",\"id\":46,\"credits\":3,\"nameCanonical\":\"\"},{\"curriculum_requisites\":[{\"source_id\":36,\"target_id\":43,\"type\":\"CurriculumPrerequisite\"}],\"name\":\"CHEE 443\",\"metrics\":{\"centrality\":0,\"complexity\":8.0,\"blocking factor\":0,\"delay factor\":8.0},\"nameSub\":\"Chem Eng Plant Design\",\"id\":43,\"credits\":3,\"nameCanonical\":\"\"},{\"curriculum_requisites\":[{\"source_id\":26,\"target_id\":39,\"type\":\"CurriculumPrerequisite\"}],\"name\":\"CHEM 480B\",\"metrics\":{\"centrality\":0,\"complexity\":5.0,\"blocking factor\":0,\"delay factor\":5.0},\"nameSub\":\"Physical Chem\",\"id\":39,\"credits\":3,\"nameCanonical\":\"\"},{\"curriculum_requisites\":[],\"name\":\" \",\"metrics\":{\"centrality\":0,\"complexity\":1.0,\"blocking factor\":0,\"delay factor\":1.0},\"nameSub\":\"Tier I General Ed\",\"id\":34,\"credits\":3,\"nameCanonical\":\"\"},{\"curriculum_requisites\":[{\"source_id\":41,\"target_id\":42,\"type\":\"CurriculumCorequisite\"},{\"source_id\":24,\"target_id\":42,\"type\":\"CurriculumPrerequisite\"},{\"source_id\":37,\"target_id\":42,\"type\":\"CurriculumPrerequisite\"}],\"name\":\"CHEE 401B\",\"metrics\":{\"centrality\":0,\"complexity\":11.0,\"blocking factor\":0,\"delay factor\":11.0},\"nameSub\":\"Process Dynamics and Control Lab\",\"id\":42,\"credits\":1,\"nameCanonical\":\"\"}],\"id\":8}],\"institution\":\"University of Arizona\"}},\"*\"); window.removeEventListener(\"message\",window.messageReceived); window.messageReceived=(function (event){return (event.data.curriculum!==undefined) ? (WebIO.setval({\"name\":\"curriculum-data\",\"scope\":\"15914653930120121401\",\"id\":\"17121123216968308482\",\"type\":\"observable\"},event.data.curriculum)) : undefined}); return window.addEventListener(\"message\",window.messageReceived)})"
          },
          "id": "curriculum",
          "src": "https://curricula-api-embed.damoursystems.com/",
          "style": {
           "border": "none",
           "height": "100vh",
           "margin": "0",
           "padding": "0",
           "width": "100%"
          }
         },
         "type": "node"
        }
       ],
       "instanceArgs": {
        "handlers": {},
        "id": "15914653930120121401",
        "imports": {
         "data": [],
         "type": "async_block"
        },
        "mount_callbacks": [],
        "observables": {
         "curriculum-data": {
          "id": "17121123216968308482",
          "sync": true,
          "value": {
           "curriculum": {
            "curriculum_terms": [
             {
              "curriculum_items": [
               {
                "credits": 3,
                "curriculum_requisites": [
                 {
                  "source_id": 1,
                  "target_id": 4,
                  "type": "CurriculumCorequisite"
                 }
                ],
                "id": 4,
                "metrics": {
                 "blocking factor": 15,
                 "centrality": 163,
                 "complexity": 25,
                 "delay factor": 10
                },
                "name": "ENGR 102",
                "nameCanonical": "",
                "nameSub": "Intro to Engineering"
               },
               {
                "credits": 3,
                "curriculum_requisites": [],
                "id": 1,
                "metrics": {
                 "blocking factor": 26,
                 "centrality": 0,
                 "complexity": 37,
                 "delay factor": 11
                },
                "name": "MATH 125",
                "nameCanonical": "",
                "nameSub": "Calculus I w/ Applications"
               },
               {
                "credits": 3,
                "curriculum_requisites": [],
                "id": 3,
                "metrics": {
                 "blocking factor": 1,
                 "centrality": 0,
                 "complexity": 3,
                 "delay factor": 2
                },
                "name": "ENGL 101",
                "nameCanonical": "",
                "nameSub": "First-year Comp"
               },
               {
                "credits": 3,
                "curriculum_requisites": [],
                "id": 33,
                "metrics": {
                 "blocking factor": 0,
                 "centrality": 0,
                 "complexity": 1,
                 "delay factor": 1
                },
                "name": " ",
                "nameCanonical": "",
                "nameSub": "Technical Elective"
               },
               {
                "credits": 4,
                "curriculum_requisites": [],
                "id": 2,
                "metrics": {
                 "blocking factor": 21,
                 "centrality": 0,
                 "complexity": 31,
                 "delay factor": 10
                },
                "name": "CHEM 151",
                "nameCanonical": "",
                "nameSub": "Gen Chemistry I"
               }
              ],
              "id": 1,
              "name": "Term 1"
             },
             {
              "curriculum_items": [
               {
                "credits": 3,
                "curriculum_requisites": [
                 {
                  "source_id": 1,
                  "target_id": 6,
                  "type": "CurriculumPrerequisite"
                 }
                ],
                "id": 6,
                "metrics": {
                 "blocking factor": 17,
                 "centrality": 156,
                 "complexity": 26,
                 "delay factor": 9
                },
                "name": "MATH 129",
                "nameCanonical": "",
                "nameSub": "Calculus II"
               },
               {
                "credits": 1,
                "curriculum_requisites": [
                 {
                  "source_id": 10,
                  "target_id": 12,
                  "type": "CurriculumCorequisite"
                 },
                 {
                  "source_id": 1,
                  "target_id": 12,
                  "type": "CurriculumPrerequisite"
                 }
                ],
                "id": 12,
                "metrics": {
                 "blocking factor": 8,
                 "centrality": 86,
                 "complexity": 17,
                 "delay factor": 9
                },
                "name": "CHEE 201L",
                "nameCanonical": "",
                "nameSub": "Elements of Chem and Envirn Eng I Lab"
               },
               {
                "credits": 4,
                "curriculum_requisites": [
                 {
                  "source_id": 1,
                  "target_id": 8,
                  "type": "CurriculumPrerequisite"
                 }
                ],
                "id": 8,
                "metrics": {
                 "blocking factor": 16,
                 "centrality": 115,
                 "complexity": 25,
                 "delay factor": 9
                },
                "name": "PHYS 141",
                "nameCanonical": "",
                "nameSub": "Intro Mechanics"
               },
               {
                "credits": 4,
                "curriculum_requisites": [
                 {
                  "source_id": 2,
                  "target_id": 7,
                  "type": "CurriculumPrerequisite"
                 }
                ],
                "id": 7,
                "metrics": {
                 "blocking factor": 18,
                 "centrality": 171,
                 "complexity": 28,
                 "delay factor": 10
                },
                "name": "CHEM 152",
                "nameCanonical": "",
                "nameSub": "Gen Chemistry II"
               },
               {
                "credits": 1,
                "curriculum_requisites": [
                 {
                  "source_id": 1,
                  "target_id": 10,
                  "type": "CurriculumCorequisite"
                 }
                ],
                "id": 10,
                "metrics": {
                 "blocking factor": 17,
                 "centrality": 393,
                 "complexity": 28,
                 "delay factor": 11
                },
                "name": "AME 105",
                "nameCanonical": "",
                "nameSub": "Intro to MATLAB I"
               },
               {
                "credits": 3,
                "curriculum_requisites": [],
                "id": 27,
                "metrics": {
                 "blocking factor": 0,
                 "centrality": 0,
                 "complexity": 1,
                 "delay factor": 1
                },
                "name": " ",
                "nameCanonical": "",
                "nameSub": "Tier I General Ed"
               }
              ],
              "id": 2,
              "name": "Term 2"
             },
             {
              "curriculum_items": [
               {
                "credits": 4,
                "curriculum_requisites": [
                 {
                  "source_id": 6,
                  "target_id": 20,
                  "type": "CurriculumPrerequisite"
                 },
                 {
                  "source_id": 8,
                  "target_id": 20,
                  "type": "CurriculumPrerequisite"
                 }
                ],
                "id": 20,
                "metrics": {
                 "blocking factor": 9,
                 "centrality": 72,
                 "complexity": 17,
                 "delay factor": 8
                },
                "name": "PHYS 241",
                "nameCanonical": "",
                "nameSub": "Electricity & Magnetism"
               },
               {
                "credits": 4,
                "curriculum_requisites": [
                 {
                  "source_id": 6,
                  "target_id": 13,
                  "type": "CurriculumPrerequisite"
                 }
                ],
                "id": 13,
                "metrics": {
                 "blocking factor": 0,
                 "centrality": 0,
                 "complexity": 3,
                 "delay factor": 3
                },
                "name": "MATH  223",
                "nameCanonical": "",
                "nameSub": "Vector Calculus"
               },
               {
                "credits": 1,
                "curriculum_requisites": [
                 {
                  "source_id": 10,
                  "target_id": 47,
                  "type": "CurriculumPrerequisite"
                 }
                ],
                "id": 47,
                "metrics": {
                 "blocking factor": 15,
                 "centrality": 184,
                 "complexity": 26,
                 "delay factor": 11
                },
                "name": "AME 205",
                "nameCanonical": "",
                "nameSub": "Intro to MATLAB II"
               },
               {
                "credits": 3,
                "curriculum_requisites": [
                 {
                  "source_id": 4,
                  "target_id": 11,
                  "type": "CurriculumPrerequisite"
                 },
                 {
                  "source_id": 47,
                  "target_id": 11,
                  "type": "CurriculumCorequisite"
                 },
                 {
                  "source_id": 7,
                  "target_id": 11,
                  "type": "CurriculumPrerequisite"
                 },
                 {
                  "source_id": 10,
                  "target_id": 11,
                  "type": "CurriculumPrerequisite"
                 },
                 {
                  "source_id": 1,
                  "target_id": 11,
                  "type": "CurriculumPrerequisite"
                 }
                ],
                "id": 11,
                "metrics": {
                 "blocking factor": 14,
                 "centrality": 815,
                 "complexity": 25,
                 "delay factor": 11
                },
                "name": "CHEE 201",
                "nameCanonical": "",
                "nameSub": "Elements of Chem and Envirn Eng I"
               },
               {
                "credits": 3,
                "curriculum_requisites": [
                 {
                  "source_id": 7,
                  "target_id": 14,
                  "type": "CurriculumPrerequisite"
                 }
                ],
                "id": 14,
                "metrics": {
                 "blocking factor": 2,
                 "centrality": 8,
                 "complexity": 6,
                 "delay factor": 4
                },
                "name": "CHEM  241A",
                "nameCanonical": "",
                "nameSub": "Lectures in Org Chem"
               },
               {
                "credits": 1,
                "curriculum_requisites": [
                 {
                  "source_id": 14,
                  "target_id": 15,
                  "type": "CurriculumCorequisite"
                 }
                ],
                "id": 15,
                "metrics": {
                 "blocking factor": 0,
                 "centrality": 0,
                 "complexity": 4,
                 "delay factor": 4
                },
                "name": "CHEM  243A",
                "nameCanonical": "",
                "nameSub": "Org Chem Lab"
               }
              ],
              "id": 3,
              "name": "Term 3"
             },
             {
              "curriculum_items": [
               {
                "credits": 3,
                "curriculum_requisites": [],
                "id": 16,
                "metrics": {
                 "blocking factor": 0,
                 "centrality": 0,
                 "complexity": 1,
                 "delay factor": 1
                },
                "name": " ",
                "nameCanonical": "",
                "nameSub": "Tier I General Ed"
               },
               {
                "credits": 3,
                "curriculum_requisites": [
                 {
                  "source_id": 6,
                  "target_id": 19,
                  "type": "CurriculumPrerequisite"
                 }
                ],
                "id": 19,
                "metrics": {
                 "blocking factor": 8,
                 "centrality": 86,
                 "complexity": 17,
                 "delay factor": 9
                },
                "name": "MATH 254",
                "nameCanonical": "",
                "nameSub": "Intro to ODEs"
               },
               {
                "credits": 3,
                "curriculum_requisites": [],
                "id": 32,
                "metrics": {
                 "blocking factor": 0,
                 "centrality": 0,
                 "complexity": 1,
                 "delay factor": 1
                },
                "name": " ",
                "nameCanonical": "",
                "nameSub": "Engineering Elective"
               },
               {
                "credits": 4,
                "curriculum_requisites": [
                 {
                  "source_id": 11,
                  "target_id": 17,
                  "type": "CurriculumPrerequisite"
                 },
                 {
                  "source_id": 12,
                  "target_id": 17,
                  "type": "CurriculumPrerequisite"
                 },
                 {
                  "source_id": 19,
                  "target_id": 17,
                  "type": "CurriculumCorequisite"
                 }
                ],
                "id": 17,
                "metrics": {
                 "blocking factor": 7,
                 "centrality": 362,
                 "complexity": 17,
                 "delay factor": 10
                },
                "name": "CHEE 202",
                "nameCanonical": "",
                "nameSub": "Elements of Chem Eng II"
               },
               {
                "credits": 3,
                "curriculum_requisites": [
                 {
                  "source_id": 11,
                  "target_id": 18,
                  "type": "CurriculumPrerequisite"
                 },
                 {
                  "source_id": 8,
                  "target_id": 18,
                  "type": "CurriculumPrerequisite"
                 }
                ],
                "id": 18,
                "metrics": {
                 "blocking factor": 10,
                 "centrality": 529,
                 "complexity": 21,
                 "delay factor": 11
                },
                "name": "CHEE 203",
                "nameCanonical": "",
                "nameSub": "Chem Eng Heat Xfer & Fluid Flow"
               }
              ],
              "id": 4,
              "name": "Term 4"
             },
             {
              "curriculum_items": [
               {
                "credits": 3,
                "curriculum_requisites": [
                 {
                  "source_id": 3,
                  "target_id": 9,
                  "type": "CurriculumPrerequisite"
                 }
                ],
                "id": 9,
                "metrics": {
                 "blocking factor": 0,
                 "centrality": 0,
                 "complexity": 2,
                 "delay factor": 2
                },
                "name": "ENGL 102",
                "nameCanonical": "",
                "nameSub": "First-year Comp."
               },
               {
                "credits": 1,
                "curriculum_requisites": [
                 {
                  "source_id": 22,
                  "target_id": 24,
                  "type": "CurriculumStrictCorequisite"
                 },
                 {
                  "source_id": 18,
                  "target_id": 24,
                  "type": "CurriculumPrerequisite"
                 },
                 {
                  "source_id": 17,
                  "target_id": 24,
                  "type": "CurriculumPrerequisite"
                 },
                 {
                  "source_id": 23,
                  "target_id": 24,
                  "type": "CurriculumStrictCorequisite"
                 },
                 {
                  "source_id": 19,
                  "target_id": 24,
                  "type": "CurriculumPrerequisite"
                 }
                ],
                "id": 24,
                "metrics": {
                 "blocking factor": 3,
                 "centrality": 544,
                 "complexity": 14,
                 "delay factor": 11
                },
                "name": "CHEE 301A",
                "nameCanonical": "",
                "nameSub": "Chem Eng Lab I"
               },
               {
                "credits": 3,
                "curriculum_requisites": [
                 {
                  "source_id": 22,
                  "target_id": 23,
                  "type": "CurriculumStrictCorequisite"
                 },
                 {
                  "source_id": 17,
                  "target_id": 23,
                  "type": "CurriculumPrerequisite"
                 },
                 {
                  "source_id": 19,
                  "target_id": 23,
                  "type": "CurriculumPrerequisite"
                 }
                ],
                "id": 23,
                "metrics": {
                 "blocking factor": 6,
                 "centrality": 492,
                 "complexity": 17,
                 "delay factor": 11
                },
                "name": "CHEE 402",
                "nameCanonical": "",
                "nameSub": "Chem Eng Modeling"
               },
               {
                "credits": 3,
                "curriculum_requisites": [
                 {
                  "source_id": 18,
                  "target_id": 22,
                  "type": "CurriculumPrerequisite"
                 }
                ],
                "id": 22,
                "metrics": {
                 "blocking factor": 9,
                 "centrality": 447,
                 "complexity": 20,
                 "delay factor": 11
                },
                "name": "CHEE 303",
                "nameCanonical": "",
                "nameSub": "Chem Eng Mass Xfer"
               },
               {
                "credits": 3,
                "curriculum_requisites": [],
                "id": 40,
                "metrics": {
                 "blocking factor": 0,
                 "centrality": 0,
                 "complexity": 1,
                 "delay factor": 1
                },
                "name": " ",
                "nameCanonical": "",
                "nameSub": "Tier II General Ed"
               },
               {
                "credits": 3,
                "curriculum_requisites": [
                 {
                  "source_id": 6,
                  "target_id": 26,
                  "type": "CurriculumPrerequisite"
                 },
                 {
                  "source_id": 20,
                  "target_id": 26,
                  "type": "CurriculumCorequisite"
                 },
                 {
                  "source_id": 2,
                  "target_id": 26,
                  "type": "CurriculumPrerequisite"
                 }
                ],
                "id": 26,
                "metrics": {
                 "blocking factor": 8,
                 "centrality": 129,
                 "complexity": 16,
                 "delay factor": 8
                },
                "name": "CHEM 480A",
                "nameCanonical": "",
                "nameSub": "Physical Chem"
               }
              ],
              "id": 5,
              "name": "Term 5"
             },
             {
              "curriculum_items": [
               {
                "credits": 3,
                "curriculum_requisites": [],
                "id": 45,
                "metrics": {
                 "blocking factor": 0,
                 "centrality": 0,
                 "complexity": 1,
                 "delay factor": 1
                },
                "name": " ",
                "nameCanonical": "",
                "nameSub": "Technical Elective"
               },
               {
                "credits": 1,
                "curriculum_requisites": [
                 {
                  "source_id": 22,
                  "target_id": 31,
                  "type": "CurriculumPrerequisite"
                 },
                 {
                  "source_id": 29,
                  "target_id": 31,
                  "type": "CurriculumStrictCorequisite"
                 },
                 {
                  "source_id": 24,
                  "target_id": 31,
                  "type": "CurriculumPrerequisite"
                 },
                 {
                  "source_id": 28,
                  "target_id": 31,
                  "type": "CurriculumStrictCorequisite"
                 }
                ],
                "id": 31,
                "metrics": {
                 "blocking factor": 2,
                 "centrality": 610,
                 "complexity": 13,
                 "delay factor": 11
                },
                "name": "CHEE 301B",
                "nameCanonical": "",
                "nameSub": "Chem Eng Lab II"
               },
               {
                "credits": 3,
                "curriculum_requisites": [
                 {
                  "source_id": 11,
                  "target_id": 29,
                  "type": "CurriculumPrerequisite"
                 },
                 {
                  "source_id": 26,
                  "target_id": 29,
                  "type": "CurriculumPrerequisite"
                 }
                ],
                "id": 29,
                "metrics": {
                 "blocking factor": 6,
                 "centrality": 247,
                 "complexity": 14,
                 "delay factor": 8
                },
                "name": "CHEE 326",
                "nameCanonical": "",
                "nameSub": "Chem & Phys Equilibrium"
               },
               {
                "credits": 3,
                "curriculum_requisites": [
                 {
                  "source_id": 22,
                  "target_id": 28,
                  "type": "CurriculumPrerequisite"
                 },
                 {
                  "source_id": 23,
                  "target_id": 28,
                  "type": "CurriculumPrerequisite"
                 }
                ],
                "id": 28,
                "metrics": {
                 "blocking factor": 3,
                 "centrality": 191,
                 "complexity": 14,
                 "delay factor": 11
                },
                "name": "CHEE 305",
                "nameCanonical": "",
                "nameSub": "Chem Eng Transport Phenom"
               },
               {
                "credits": 3,
                "curriculum_requisites": [
                 {
                  "source_id": 23,
                  "target_id": 41,
                  "type": "CurriculumPrerequisite"
                 }
                ],
                "id": 41,
                "metrics": {
                 "blocking factor": 1,
                 "centrality": 108,
                 "complexity": 10,
                 "delay factor": 9
                },
                "name": "CHEE 413",
                "nameCanonical": "",
                "nameSub": "Process Control and Simulation"
               },
               {
                "credits": 3,
                "curriculum_requisites": [],
                "id": 25,
                "metrics": {
                 "blocking factor": 0,
                 "centrality": 0,
                 "complexity": 1,
                 "delay factor": 1
                },
                "name": "CHEE 489",
                "nameCanonical": "",
                "nameSub": "Trends in Nanomedicine Eng"
               }
              ],
              "id": 6,
              "name": "Term 6"
             },
             {
              "curriculum_items": [
               {
                "credits": 3,
                "curriculum_requisites": [],
                "id": 5,
                "metrics": {
                 "blocking factor": 0,
                 "centrality": 0,
                 "complexity": 1,
                 "delay factor": 1
                },
                "name": " ",
                "nameCanonical": "",
                "nameSub": "Tier I General Ed"
               },
               {
                "credits": 3,
                "curriculum_requisites": [
                 {
                  "source_id": 29,
                  "target_id": 35,
                  "type": "CurriculumPrerequisite"
                 }
                ],
                "id": 35,
                "metrics": {
                 "blocking factor": 4,
                 "centrality": 128,
                 "complexity": 12,
                 "delay factor": 8
                },
                "name": "CHEE 420",
                "nameCanonical": "",
                "nameSub": "Chem Reaction Eng"
               },
               {
                "credits": 3,
                "curriculum_requisites": [
                 {
                  "source_id": 14,
                  "target_id": 21,
                  "type": "CurriculumPrerequisite"
                 }
                ],
                "id": 21,
                "metrics": {
                 "blocking factor": 0,
                 "centrality": 0,
                 "complexity": 4,
                 "delay factor": 4
                },
                "name": "CHEM 241B",
                "nameCanonical": "",
                "nameSub": "Lectures in Org Chem"
               },
               {
                "credits": 3,
                "curriculum_requisites": [],
                "id": 38,
                "metrics": {
                 "blocking factor": 0,
                 "centrality": 0,
                 "complexity": 1,
                 "delay factor": 1
                },
                "name": " ",
                "nameCanonical": "",
                "nameSub": "Engineering Elective"
               },
               {
                "credits": 1,
                "curriculum_requisites": [
                 {
                  "source_id": 35,
                  "target_id": 37,
                  "type": "CurriculumCorequisite"
                 },
                 {
                  "source_id": 31,
                  "target_id": 37,
                  "type": "CurriculumPrerequisite"
                 }
                ],
                "id": 37,
                "metrics": {
                 "blocking factor": 1,
                 "centrality": 674,
                 "complexity": 12,
                 "delay factor": 11
                },
                "name": "CHEE 401A",
                "nameCanonical": "",
                "nameSub": "Chem and Enviorn Eng Lab I"
               },
               {
                "credits": 3,
                "curriculum_requisites": [
                 {
                  "source_id": 22,
                  "target_id": 36,
                  "type": "CurriculumPrerequisite"
                 },
                 {
                  "source_id": 29,
                  "target_id": 36,
                  "type": "CurriculumPrerequisite"
                 },
                 {
                  "source_id": 35,
                  "target_id": 36,
                  "type": "CurriculumStrictCorequisite"
                 }
                ],
                "id": 36,
                "metrics": {
                 "blocking factor": 1,
                 "centrality": 160,
                 "complexity": 9,
                 "delay factor": 8
                },
                "name": "CHEE 442",
                "nameCanonical": "",
                "nameSub": "Chem Eng Design Principles"
               }
              ],
              "id": 7,
              "name": "Term 7"
             },
             {
              "curriculum_items": [
               {
                "credits": 3,
                "curriculum_requisites": [],
                "id": 44,
                "metrics": {
                 "blocking factor": 0,
                 "centrality": 0,
                 "complexity": 1,
                 "delay factor": 1
                },
                "name": " ",
                "nameCanonical": "",
                "nameSub": "Engineering Elective"
               },
               {
                "credits": 3,
                "curriculum_requisites": [],
                "id": 46,
                "metrics": {
                 "blocking factor": 0,
                 "centrality": 0,
                 "complexity": 1,
                 "delay factor": 1
                },
                "name": " ",
                "nameCanonical": "",
                "nameSub": "Tier II General Ed"
               },
               {
                "credits": 3,
                "curriculum_requisites": [
                 {
                  "source_id": 36,
                  "target_id": 43,
                  "type": "CurriculumPrerequisite"
                 }
                ],
                "id": 43,
                "metrics": {
                 "blocking factor": 0,
                 "centrality": 0,
                 "complexity": 8,
                 "delay factor": 8
                },
                "name": "CHEE 443",
                "nameCanonical": "",
                "nameSub": "Chem Eng Plant Design"
               },
               {
                "credits": 3,
                "curriculum_requisites": [
                 {
                  "source_id": 26,
                  "target_id": 39,
                  "type": "CurriculumPrerequisite"
                 }
                ],
                "id": 39,
                "metrics": {
                 "blocking factor": 0,
                 "centrality": 0,
                 "complexity": 5,
                 "delay factor": 5
                },
                "name": "CHEM 480B",
                "nameCanonical": "",
                "nameSub": "Physical Chem"
               },
               {
                "credits": 3,
                "curriculum_requisites": [],
                "id": 34,
                "metrics": {
                 "blocking factor": 0,
                 "centrality": 0,
                 "complexity": 1,
                 "delay factor": 1
                },
                "name": " ",
                "nameCanonical": "",
                "nameSub": "Tier I General Ed"
               },
               {
                "credits": 1,
                "curriculum_requisites": [
                 {
                  "source_id": 41,
                  "target_id": 42,
                  "type": "CurriculumCorequisite"
                 },
                 {
                  "source_id": 24,
                  "target_id": 42,
                  "type": "CurriculumPrerequisite"
                 },
                 {
                  "source_id": 37,
                  "target_id": 42,
                  "type": "CurriculumPrerequisite"
                 }
                ],
                "id": 42,
                "metrics": {
                 "blocking factor": 0,
                 "centrality": 0,
                 "complexity": 11,
                 "delay factor": 11
                },
                "name": "CHEE 401B",
                "nameCanonical": "",
                "nameSub": "Process Dynamics and Control Lab"
               }
              ],
              "id": 8,
              "name": "Term 8"
             }
            ],
            "dp_name": "",
            "institution": "University of Arizona",
            "name": "Chemical Engineering"
           },
           "options": {
            "edit": false,
            "hideTerms": false
           }
          }
         }
        },
        "systemjs_options": null
       },
       "nodeType": "Scope",
       "props": {},
       "type": "node"
      },
      "text/html": [
       "<div\n",
       "    class=\"webio-mountpoint\"\n",
       "    data-webio-mountpoint=\"15118896453108893650\"\n",
       ">\n",
       "    <script>\n",
       "    (function(){\n",
       "    // Some integrations (namely, IJulia/Jupyter) use an alternate render pathway than\n",
       "    // just putting the html on the page. If WebIO isn't defined, then it's pretty likely\n",
       "    // that we're in one of those situations and the integration just isn't installed\n",
       "    // correctly.\n",
       "    if (typeof window.WebIO === \"undefined\") {\n",
       "        document\n",
       "            .querySelector('[data-webio-mountpoint=\"15118896453108893650\"]')\n",
       "            .innerHTML = (\n",
       "                '<div style=\"padding: 1em; background-color: #f8d6da; border: 1px solid #f5c6cb; font-weight: bold;\">' +\n",
       "                '<p><strong>WebIO not detected.</strong></p>' +\n",
       "                '<p>Please read ' +\n",
       "                '<a href=\"https://juliagizmos.github.io/WebIO.jl/latest/troubleshooting/not-detected/\" target=\"_blank\">the troubleshooting guide</a> ' +\n",
       "                'for more information on how to resolve this issue.</p>' +\n",
       "                '<p><a href=\"https://juliagizmos.github.io/WebIO.jl/latest/troubleshooting/not-detected/\" target=\"_blank\">https://juliagizmos.github.io/WebIO.jl/latest/troubleshooting/not-detected/</a></p>' +\n",
       "                '</div>'\n",
       "            );\n",
       "        return;\n",
       "    }\n",
       "    WebIO.mount(\n",
       "        document.querySelector('[data-webio-mountpoint=\"15118896453108893650\"]'),\n",
       "        {\"props\":{},\"nodeType\":\"Scope\",\"type\":\"node\",\"instanceArgs\":{\"imports\":{\"data\":[],\"type\":\"async_block\"},\"id\":\"15914653930120121401\",\"handlers\":{},\"systemjs_options\":null,\"mount_callbacks\":[],\"observables\":{\"curriculum-data\":{\"sync\":true,\"id\":\"17121123216968308482\",\"value\":{\"options\":{\"hideTerms\":false,\"edit\":false},\"curriculum\":{\"name\":\"Chemical Engineering\",\"dp_name\":\"\",\"curriculum_terms\":[{\"name\":\"Term 1\",\"curriculum_items\":[{\"curriculum_requisites\":[{\"source_id\":1,\"target_id\":4,\"type\":\"CurriculumCorequisite\"}],\"name\":\"ENGR 102\",\"metrics\":{\"centrality\":163,\"complexity\":25.0,\"blocking factor\":15,\"delay factor\":10.0},\"nameSub\":\"Intro to Engineering\",\"id\":4,\"credits\":3,\"nameCanonical\":\"\"},{\"curriculum_requisites\":[],\"name\":\"MATH 125\",\"metrics\":{\"centrality\":0,\"complexity\":37.0,\"blocking factor\":26,\"delay factor\":11.0},\"nameSub\":\"Calculus I w\\/ Applications\",\"id\":1,\"credits\":3,\"nameCanonical\":\"\"},{\"curriculum_requisites\":[],\"name\":\"ENGL 101\",\"metrics\":{\"centrality\":0,\"complexity\":3.0,\"blocking factor\":1,\"delay factor\":2.0},\"nameSub\":\"First-year Comp\",\"id\":3,\"credits\":3,\"nameCanonical\":\"\"},{\"curriculum_requisites\":[],\"name\":\" \",\"metrics\":{\"centrality\":0,\"complexity\":1.0,\"blocking factor\":0,\"delay factor\":1.0},\"nameSub\":\"Technical Elective\",\"id\":33,\"credits\":3,\"nameCanonical\":\"\"},{\"curriculum_requisites\":[],\"name\":\"CHEM 151\",\"metrics\":{\"centrality\":0,\"complexity\":31.0,\"blocking factor\":21,\"delay factor\":10.0},\"nameSub\":\"Gen Chemistry I\",\"id\":2,\"credits\":4,\"nameCanonical\":\"\"}],\"id\":1},{\"name\":\"Term 2\",\"curriculum_items\":[{\"curriculum_requisites\":[{\"source_id\":1,\"target_id\":6,\"type\":\"CurriculumPrerequisite\"}],\"name\":\"MATH 129\",\"metrics\":{\"centrality\":156,\"complexity\":26.0,\"blocking factor\":17,\"delay factor\":9.0},\"nameSub\":\"Calculus II\",\"id\":6,\"credits\":3,\"nameCanonical\":\"\"},{\"curriculum_requisites\":[{\"source_id\":10,\"target_id\":12,\"type\":\"CurriculumCorequisite\"},{\"source_id\":1,\"target_id\":12,\"type\":\"CurriculumPrerequisite\"}],\"name\":\"CHEE 201L\",\"metrics\":{\"centrality\":86,\"complexity\":17.0,\"blocking factor\":8,\"delay factor\":9.0},\"nameSub\":\"Elements of Chem and Envirn Eng I Lab\",\"id\":12,\"credits\":1,\"nameCanonical\":\"\"},{\"curriculum_requisites\":[{\"source_id\":1,\"target_id\":8,\"type\":\"CurriculumPrerequisite\"}],\"name\":\"PHYS 141\",\"metrics\":{\"centrality\":115,\"complexity\":25.0,\"blocking factor\":16,\"delay factor\":9.0},\"nameSub\":\"Intro Mechanics\",\"id\":8,\"credits\":4,\"nameCanonical\":\"\"},{\"curriculum_requisites\":[{\"source_id\":2,\"target_id\":7,\"type\":\"CurriculumPrerequisite\"}],\"name\":\"CHEM 152\",\"metrics\":{\"centrality\":171,\"complexity\":28.0,\"blocking factor\":18,\"delay factor\":10.0},\"nameSub\":\"Gen Chemistry II\",\"id\":7,\"credits\":4,\"nameCanonical\":\"\"},{\"curriculum_requisites\":[{\"source_id\":1,\"target_id\":10,\"type\":\"CurriculumCorequisite\"}],\"name\":\"AME 105\",\"metrics\":{\"centrality\":393,\"complexity\":28.0,\"blocking factor\":17,\"delay factor\":11.0},\"nameSub\":\"Intro to MATLAB I\",\"id\":10,\"credits\":1,\"nameCanonical\":\"\"},{\"curriculum_requisites\":[],\"name\":\" \",\"metrics\":{\"centrality\":0,\"complexity\":1.0,\"blocking factor\":0,\"delay factor\":1.0},\"nameSub\":\"Tier I General Ed\",\"id\":27,\"credits\":3,\"nameCanonical\":\"\"}],\"id\":2},{\"name\":\"Term 3\",\"curriculum_items\":[{\"curriculum_requisites\":[{\"source_id\":6,\"target_id\":20,\"type\":\"CurriculumPrerequisite\"},{\"source_id\":8,\"target_id\":20,\"type\":\"CurriculumPrerequisite\"}],\"name\":\"PHYS 241\",\"metrics\":{\"centrality\":72,\"complexity\":17.0,\"blocking factor\":9,\"delay factor\":8.0},\"nameSub\":\"Electricity & Magnetism\",\"id\":20,\"credits\":4,\"nameCanonical\":\"\"},{\"curriculum_requisites\":[{\"source_id\":6,\"target_id\":13,\"type\":\"CurriculumPrerequisite\"}],\"name\":\"MATH  223\",\"metrics\":{\"centrality\":0,\"complexity\":3.0,\"blocking factor\":0,\"delay factor\":3.0},\"nameSub\":\"Vector Calculus\",\"id\":13,\"credits\":4,\"nameCanonical\":\"\"},{\"curriculum_requisites\":[{\"source_id\":10,\"target_id\":47,\"type\":\"CurriculumPrerequisite\"}],\"name\":\"AME 205\",\"metrics\":{\"centrality\":184,\"complexity\":26.0,\"blocking factor\":15,\"delay factor\":11.0},\"nameSub\":\"Intro to MATLAB II\",\"id\":47,\"credits\":1,\"nameCanonical\":\"\"},{\"curriculum_requisites\":[{\"source_id\":4,\"target_id\":11,\"type\":\"CurriculumPrerequisite\"},{\"source_id\":47,\"target_id\":11,\"type\":\"CurriculumCorequisite\"},{\"source_id\":7,\"target_id\":11,\"type\":\"CurriculumPrerequisite\"},{\"source_id\":10,\"target_id\":11,\"type\":\"CurriculumPrerequisite\"},{\"source_id\":1,\"target_id\":11,\"type\":\"CurriculumPrerequisite\"}],\"name\":\"CHEE 201\",\"metrics\":{\"centrality\":815,\"complexity\":25.0,\"blocking factor\":14,\"delay factor\":11.0},\"nameSub\":\"Elements of Chem and Envirn Eng I\",\"id\":11,\"credits\":3,\"nameCanonical\":\"\"},{\"curriculum_requisites\":[{\"source_id\":7,\"target_id\":14,\"type\":\"CurriculumPrerequisite\"}],\"name\":\"CHEM  241A\",\"metrics\":{\"centrality\":8,\"complexity\":6.0,\"blocking factor\":2,\"delay factor\":4.0},\"nameSub\":\"Lectures in Org Chem\",\"id\":14,\"credits\":3,\"nameCanonical\":\"\"},{\"curriculum_requisites\":[{\"source_id\":14,\"target_id\":15,\"type\":\"CurriculumCorequisite\"}],\"name\":\"CHEM  243A\",\"metrics\":{\"centrality\":0,\"complexity\":4.0,\"blocking factor\":0,\"delay factor\":4.0},\"nameSub\":\"Org Chem Lab\",\"id\":15,\"credits\":1,\"nameCanonical\":\"\"}],\"id\":3},{\"name\":\"Term 4\",\"curriculum_items\":[{\"curriculum_requisites\":[],\"name\":\" \",\"metrics\":{\"centrality\":0,\"complexity\":1.0,\"blocking factor\":0,\"delay factor\":1.0},\"nameSub\":\"Tier I General Ed\",\"id\":16,\"credits\":3,\"nameCanonical\":\"\"},{\"curriculum_requisites\":[{\"source_id\":6,\"target_id\":19,\"type\":\"CurriculumPrerequisite\"}],\"name\":\"MATH 254\",\"metrics\":{\"centrality\":86,\"complexity\":17.0,\"blocking factor\":8,\"delay factor\":9.0},\"nameSub\":\"Intro to ODEs\",\"id\":19,\"credits\":3,\"nameCanonical\":\"\"},{\"curriculum_requisites\":[],\"name\":\" \",\"metrics\":{\"centrality\":0,\"complexity\":1.0,\"blocking factor\":0,\"delay factor\":1.0},\"nameSub\":\"Engineering Elective\",\"id\":32,\"credits\":3,\"nameCanonical\":\"\"},{\"curriculum_requisites\":[{\"source_id\":11,\"target_id\":17,\"type\":\"CurriculumPrerequisite\"},{\"source_id\":12,\"target_id\":17,\"type\":\"CurriculumPrerequisite\"},{\"source_id\":19,\"target_id\":17,\"type\":\"CurriculumCorequisite\"}],\"name\":\"CHEE 202\",\"metrics\":{\"centrality\":362,\"complexity\":17.0,\"blocking factor\":7,\"delay factor\":10.0},\"nameSub\":\"Elements of Chem Eng II\",\"id\":17,\"credits\":4,\"nameCanonical\":\"\"},{\"curriculum_requisites\":[{\"source_id\":11,\"target_id\":18,\"type\":\"CurriculumPrerequisite\"},{\"source_id\":8,\"target_id\":18,\"type\":\"CurriculumPrerequisite\"}],\"name\":\"CHEE 203\",\"metrics\":{\"centrality\":529,\"complexity\":21.0,\"blocking factor\":10,\"delay factor\":11.0},\"nameSub\":\"Chem Eng Heat Xfer & Fluid Flow\",\"id\":18,\"credits\":3,\"nameCanonical\":\"\"}],\"id\":4},{\"name\":\"Term 5\",\"curriculum_items\":[{\"curriculum_requisites\":[{\"source_id\":3,\"target_id\":9,\"type\":\"CurriculumPrerequisite\"}],\"name\":\"ENGL 102\",\"metrics\":{\"centrality\":0,\"complexity\":2.0,\"blocking factor\":0,\"delay factor\":2.0},\"nameSub\":\"First-year Comp.\",\"id\":9,\"credits\":3,\"nameCanonical\":\"\"},{\"curriculum_requisites\":[{\"source_id\":22,\"target_id\":24,\"type\":\"CurriculumStrictCorequisite\"},{\"source_id\":18,\"target_id\":24,\"type\":\"CurriculumPrerequisite\"},{\"source_id\":17,\"target_id\":24,\"type\":\"CurriculumPrerequisite\"},{\"source_id\":23,\"target_id\":24,\"type\":\"CurriculumStrictCorequisite\"},{\"source_id\":19,\"target_id\":24,\"type\":\"CurriculumPrerequisite\"}],\"name\":\"CHEE 301A\",\"metrics\":{\"centrality\":544,\"complexity\":14.0,\"blocking factor\":3,\"delay factor\":11.0},\"nameSub\":\"Chem Eng Lab I\",\"id\":24,\"credits\":1,\"nameCanonical\":\"\"},{\"curriculum_requisites\":[{\"source_id\":22,\"target_id\":23,\"type\":\"CurriculumStrictCorequisite\"},{\"source_id\":17,\"target_id\":23,\"type\":\"CurriculumPrerequisite\"},{\"source_id\":19,\"target_id\":23,\"type\":\"CurriculumPrerequisite\"}],\"name\":\"CHEE 402\",\"metrics\":{\"centrality\":492,\"complexity\":17.0,\"blocking factor\":6,\"delay factor\":11.0},\"nameSub\":\"Chem Eng Modeling\",\"id\":23,\"credits\":3,\"nameCanonical\":\"\"},{\"curriculum_requisites\":[{\"source_id\":18,\"target_id\":22,\"type\":\"CurriculumPrerequisite\"}],\"name\":\"CHEE 303\",\"metrics\":{\"centrality\":447,\"complexity\":20.0,\"blocking factor\":9,\"delay factor\":11.0},\"nameSub\":\"Chem Eng Mass Xfer\",\"id\":22,\"credits\":3,\"nameCanonical\":\"\"},{\"curriculum_requisites\":[],\"name\":\" \",\"metrics\":{\"centrality\":0,\"complexity\":1.0,\"blocking factor\":0,\"delay factor\":1.0},\"nameSub\":\"Tier II General Ed\",\"id\":40,\"credits\":3,\"nameCanonical\":\"\"},{\"curriculum_requisites\":[{\"source_id\":6,\"target_id\":26,\"type\":\"CurriculumPrerequisite\"},{\"source_id\":20,\"target_id\":26,\"type\":\"CurriculumCorequisite\"},{\"source_id\":2,\"target_id\":26,\"type\":\"CurriculumPrerequisite\"}],\"name\":\"CHEM 480A\",\"metrics\":{\"centrality\":129,\"complexity\":16.0,\"blocking factor\":8,\"delay factor\":8.0},\"nameSub\":\"Physical Chem\",\"id\":26,\"credits\":3,\"nameCanonical\":\"\"}],\"id\":5},{\"name\":\"Term 6\",\"curriculum_items\":[{\"curriculum_requisites\":[],\"name\":\" \",\"metrics\":{\"centrality\":0,\"complexity\":1.0,\"blocking factor\":0,\"delay factor\":1.0},\"nameSub\":\"Technical Elective\",\"id\":45,\"credits\":3,\"nameCanonical\":\"\"},{\"curriculum_requisites\":[{\"source_id\":22,\"target_id\":31,\"type\":\"CurriculumPrerequisite\"},{\"source_id\":29,\"target_id\":31,\"type\":\"CurriculumStrictCorequisite\"},{\"source_id\":24,\"target_id\":31,\"type\":\"CurriculumPrerequisite\"},{\"source_id\":28,\"target_id\":31,\"type\":\"CurriculumStrictCorequisite\"}],\"name\":\"CHEE 301B\",\"metrics\":{\"centrality\":610,\"complexity\":13.0,\"blocking factor\":2,\"delay factor\":11.0},\"nameSub\":\"Chem Eng Lab II\",\"id\":31,\"credits\":1,\"nameCanonical\":\"\"},{\"curriculum_requisites\":[{\"source_id\":11,\"target_id\":29,\"type\":\"CurriculumPrerequisite\"},{\"source_id\":26,\"target_id\":29,\"type\":\"CurriculumPrerequisite\"}],\"name\":\"CHEE 326\",\"metrics\":{\"centrality\":247,\"complexity\":14.0,\"blocking factor\":6,\"delay factor\":8.0},\"nameSub\":\"Chem & Phys Equilibrium\",\"id\":29,\"credits\":3,\"nameCanonical\":\"\"},{\"curriculum_requisites\":[{\"source_id\":22,\"target_id\":28,\"type\":\"CurriculumPrerequisite\"},{\"source_id\":23,\"target_id\":28,\"type\":\"CurriculumPrerequisite\"}],\"name\":\"CHEE 305\",\"metrics\":{\"centrality\":191,\"complexity\":14.0,\"blocking factor\":3,\"delay factor\":11.0},\"nameSub\":\"Chem Eng Transport Phenom\",\"id\":28,\"credits\":3,\"nameCanonical\":\"\"},{\"curriculum_requisites\":[{\"source_id\":23,\"target_id\":41,\"type\":\"CurriculumPrerequisite\"}],\"name\":\"CHEE 413\",\"metrics\":{\"centrality\":108,\"complexity\":10.0,\"blocking factor\":1,\"delay factor\":9.0},\"nameSub\":\"Process Control and Simulation\",\"id\":41,\"credits\":3,\"nameCanonical\":\"\"},{\"curriculum_requisites\":[],\"name\":\"CHEE 489\",\"metrics\":{\"centrality\":0,\"complexity\":1.0,\"blocking factor\":0,\"delay factor\":1.0},\"nameSub\":\"Trends in Nanomedicine Eng\",\"id\":25,\"credits\":3,\"nameCanonical\":\"\"}],\"id\":6},{\"name\":\"Term 7\",\"curriculum_items\":[{\"curriculum_requisites\":[],\"name\":\" \",\"metrics\":{\"centrality\":0,\"complexity\":1.0,\"blocking factor\":0,\"delay factor\":1.0},\"nameSub\":\"Tier I General Ed\",\"id\":5,\"credits\":3,\"nameCanonical\":\"\"},{\"curriculum_requisites\":[{\"source_id\":29,\"target_id\":35,\"type\":\"CurriculumPrerequisite\"}],\"name\":\"CHEE 420\",\"metrics\":{\"centrality\":128,\"complexity\":12.0,\"blocking factor\":4,\"delay factor\":8.0},\"nameSub\":\"Chem Reaction Eng\",\"id\":35,\"credits\":3,\"nameCanonical\":\"\"},{\"curriculum_requisites\":[{\"source_id\":14,\"target_id\":21,\"type\":\"CurriculumPrerequisite\"}],\"name\":\"CHEM 241B\",\"metrics\":{\"centrality\":0,\"complexity\":4.0,\"blocking factor\":0,\"delay factor\":4.0},\"nameSub\":\"Lectures in Org Chem\",\"id\":21,\"credits\":3,\"nameCanonical\":\"\"},{\"curriculum_requisites\":[],\"name\":\" \",\"metrics\":{\"centrality\":0,\"complexity\":1.0,\"blocking factor\":0,\"delay factor\":1.0},\"nameSub\":\"Engineering Elective\",\"id\":38,\"credits\":3,\"nameCanonical\":\"\"},{\"curriculum_requisites\":[{\"source_id\":35,\"target_id\":37,\"type\":\"CurriculumCorequisite\"},{\"source_id\":31,\"target_id\":37,\"type\":\"CurriculumPrerequisite\"}],\"name\":\"CHEE 401A\",\"metrics\":{\"centrality\":674,\"complexity\":12.0,\"blocking factor\":1,\"delay factor\":11.0},\"nameSub\":\"Chem and Enviorn Eng Lab I\",\"id\":37,\"credits\":1,\"nameCanonical\":\"\"},{\"curriculum_requisites\":[{\"source_id\":22,\"target_id\":36,\"type\":\"CurriculumPrerequisite\"},{\"source_id\":29,\"target_id\":36,\"type\":\"CurriculumPrerequisite\"},{\"source_id\":35,\"target_id\":36,\"type\":\"CurriculumStrictCorequisite\"}],\"name\":\"CHEE 442\",\"metrics\":{\"centrality\":160,\"complexity\":9.0,\"blocking factor\":1,\"delay factor\":8.0},\"nameSub\":\"Chem Eng Design Principles\",\"id\":36,\"credits\":3,\"nameCanonical\":\"\"}],\"id\":7},{\"name\":\"Term 8\",\"curriculum_items\":[{\"curriculum_requisites\":[],\"name\":\" \",\"metrics\":{\"centrality\":0,\"complexity\":1.0,\"blocking factor\":0,\"delay factor\":1.0},\"nameSub\":\"Engineering Elective\",\"id\":44,\"credits\":3,\"nameCanonical\":\"\"},{\"curriculum_requisites\":[],\"name\":\" \",\"metrics\":{\"centrality\":0,\"complexity\":1.0,\"blocking factor\":0,\"delay factor\":1.0},\"nameSub\":\"Tier II General Ed\",\"id\":46,\"credits\":3,\"nameCanonical\":\"\"},{\"curriculum_requisites\":[{\"source_id\":36,\"target_id\":43,\"type\":\"CurriculumPrerequisite\"}],\"name\":\"CHEE 443\",\"metrics\":{\"centrality\":0,\"complexity\":8.0,\"blocking factor\":0,\"delay factor\":8.0},\"nameSub\":\"Chem Eng Plant Design\",\"id\":43,\"credits\":3,\"nameCanonical\":\"\"},{\"curriculum_requisites\":[{\"source_id\":26,\"target_id\":39,\"type\":\"CurriculumPrerequisite\"}],\"name\":\"CHEM 480B\",\"metrics\":{\"centrality\":0,\"complexity\":5.0,\"blocking factor\":0,\"delay factor\":5.0},\"nameSub\":\"Physical Chem\",\"id\":39,\"credits\":3,\"nameCanonical\":\"\"},{\"curriculum_requisites\":[],\"name\":\" \",\"metrics\":{\"centrality\":0,\"complexity\":1.0,\"blocking factor\":0,\"delay factor\":1.0},\"nameSub\":\"Tier I General Ed\",\"id\":34,\"credits\":3,\"nameCanonical\":\"\"},{\"curriculum_requisites\":[{\"source_id\":41,\"target_id\":42,\"type\":\"CurriculumCorequisite\"},{\"source_id\":24,\"target_id\":42,\"type\":\"CurriculumPrerequisite\"},{\"source_id\":37,\"target_id\":42,\"type\":\"CurriculumPrerequisite\"}],\"name\":\"CHEE 401B\",\"metrics\":{\"centrality\":0,\"complexity\":11.0,\"blocking factor\":0,\"delay factor\":11.0},\"nameSub\":\"Process Dynamics and Control Lab\",\"id\":42,\"credits\":1,\"nameCanonical\":\"\"}],\"id\":8}],\"institution\":\"University of Arizona\"}}}}},\"children\":[{\"props\":{\"src\":\"https:\\/\\/curricula-api-embed.damoursystems.com\\/\",\"id\":\"curriculum\",\"events\":{\"load\":\"(function (){this.contentWindow.postMessage({\\\"options\\\":{\\\"hideTerms\\\":false,\\\"edit\\\":false},\\\"curriculum\\\":{\\\"name\\\":\\\"Chemical Engineering\\\",\\\"dp_name\\\":\\\"\\\",\\\"curriculum_terms\\\":[{\\\"name\\\":\\\"Term 1\\\",\\\"curriculum_items\\\":[{\\\"curriculum_requisites\\\":[{\\\"source_id\\\":1,\\\"target_id\\\":4,\\\"type\\\":\\\"CurriculumCorequisite\\\"}],\\\"name\\\":\\\"ENGR 102\\\",\\\"metrics\\\":{\\\"centrality\\\":163,\\\"complexity\\\":25.0,\\\"blocking factor\\\":15,\\\"delay factor\\\":10.0},\\\"nameSub\\\":\\\"Intro to Engineering\\\",\\\"id\\\":4,\\\"credits\\\":3,\\\"nameCanonical\\\":\\\"\\\"},{\\\"curriculum_requisites\\\":[],\\\"name\\\":\\\"MATH 125\\\",\\\"metrics\\\":{\\\"centrality\\\":0,\\\"complexity\\\":37.0,\\\"blocking factor\\\":26,\\\"delay factor\\\":11.0},\\\"nameSub\\\":\\\"Calculus I w\\/ Applications\\\",\\\"id\\\":1,\\\"credits\\\":3,\\\"nameCanonical\\\":\\\"\\\"},{\\\"curriculum_requisites\\\":[],\\\"name\\\":\\\"ENGL 101\\\",\\\"metrics\\\":{\\\"centrality\\\":0,\\\"complexity\\\":3.0,\\\"blocking factor\\\":1,\\\"delay factor\\\":2.0},\\\"nameSub\\\":\\\"First-year Comp\\\",\\\"id\\\":3,\\\"credits\\\":3,\\\"nameCanonical\\\":\\\"\\\"},{\\\"curriculum_requisites\\\":[],\\\"name\\\":\\\" \\\",\\\"metrics\\\":{\\\"centrality\\\":0,\\\"complexity\\\":1.0,\\\"blocking factor\\\":0,\\\"delay factor\\\":1.0},\\\"nameSub\\\":\\\"Technical Elective\\\",\\\"id\\\":33,\\\"credits\\\":3,\\\"nameCanonical\\\":\\\"\\\"},{\\\"curriculum_requisites\\\":[],\\\"name\\\":\\\"CHEM 151\\\",\\\"metrics\\\":{\\\"centrality\\\":0,\\\"complexity\\\":31.0,\\\"blocking factor\\\":21,\\\"delay factor\\\":10.0},\\\"nameSub\\\":\\\"Gen Chemistry I\\\",\\\"id\\\":2,\\\"credits\\\":4,\\\"nameCanonical\\\":\\\"\\\"}],\\\"id\\\":1},{\\\"name\\\":\\\"Term 2\\\",\\\"curriculum_items\\\":[{\\\"curriculum_requisites\\\":[{\\\"source_id\\\":1,\\\"target_id\\\":6,\\\"type\\\":\\\"CurriculumPrerequisite\\\"}],\\\"name\\\":\\\"MATH 129\\\",\\\"metrics\\\":{\\\"centrality\\\":156,\\\"complexity\\\":26.0,\\\"blocking factor\\\":17,\\\"delay factor\\\":9.0},\\\"nameSub\\\":\\\"Calculus II\\\",\\\"id\\\":6,\\\"credits\\\":3,\\\"nameCanonical\\\":\\\"\\\"},{\\\"curriculum_requisites\\\":[{\\\"source_id\\\":10,\\\"target_id\\\":12,\\\"type\\\":\\\"CurriculumCorequisite\\\"},{\\\"source_id\\\":1,\\\"target_id\\\":12,\\\"type\\\":\\\"CurriculumPrerequisite\\\"}],\\\"name\\\":\\\"CHEE 201L\\\",\\\"metrics\\\":{\\\"centrality\\\":86,\\\"complexity\\\":17.0,\\\"blocking factor\\\":8,\\\"delay factor\\\":9.0},\\\"nameSub\\\":\\\"Elements of Chem and Envirn Eng I Lab\\\",\\\"id\\\":12,\\\"credits\\\":1,\\\"nameCanonical\\\":\\\"\\\"},{\\\"curriculum_requisites\\\":[{\\\"source_id\\\":1,\\\"target_id\\\":8,\\\"type\\\":\\\"CurriculumPrerequisite\\\"}],\\\"name\\\":\\\"PHYS 141\\\",\\\"metrics\\\":{\\\"centrality\\\":115,\\\"complexity\\\":25.0,\\\"blocking factor\\\":16,\\\"delay factor\\\":9.0},\\\"nameSub\\\":\\\"Intro Mechanics\\\",\\\"id\\\":8,\\\"credits\\\":4,\\\"nameCanonical\\\":\\\"\\\"},{\\\"curriculum_requisites\\\":[{\\\"source_id\\\":2,\\\"target_id\\\":7,\\\"type\\\":\\\"CurriculumPrerequisite\\\"}],\\\"name\\\":\\\"CHEM 152\\\",\\\"metrics\\\":{\\\"centrality\\\":171,\\\"complexity\\\":28.0,\\\"blocking factor\\\":18,\\\"delay factor\\\":10.0},\\\"nameSub\\\":\\\"Gen Chemistry II\\\",\\\"id\\\":7,\\\"credits\\\":4,\\\"nameCanonical\\\":\\\"\\\"},{\\\"curriculum_requisites\\\":[{\\\"source_id\\\":1,\\\"target_id\\\":10,\\\"type\\\":\\\"CurriculumCorequisite\\\"}],\\\"name\\\":\\\"AME 105\\\",\\\"metrics\\\":{\\\"centrality\\\":393,\\\"complexity\\\":28.0,\\\"blocking factor\\\":17,\\\"delay factor\\\":11.0},\\\"nameSub\\\":\\\"Intro to MATLAB I\\\",\\\"id\\\":10,\\\"credits\\\":1,\\\"nameCanonical\\\":\\\"\\\"},{\\\"curriculum_requisites\\\":[],\\\"name\\\":\\\" \\\",\\\"metrics\\\":{\\\"centrality\\\":0,\\\"complexity\\\":1.0,\\\"blocking factor\\\":0,\\\"delay factor\\\":1.0},\\\"nameSub\\\":\\\"Tier I General Ed\\\",\\\"id\\\":27,\\\"credits\\\":3,\\\"nameCanonical\\\":\\\"\\\"}],\\\"id\\\":2},{\\\"name\\\":\\\"Term 3\\\",\\\"curriculum_items\\\":[{\\\"curriculum_requisites\\\":[{\\\"source_id\\\":6,\\\"target_id\\\":20,\\\"type\\\":\\\"CurriculumPrerequisite\\\"},{\\\"source_id\\\":8,\\\"target_id\\\":20,\\\"type\\\":\\\"CurriculumPrerequisite\\\"}],\\\"name\\\":\\\"PHYS 241\\\",\\\"metrics\\\":{\\\"centrality\\\":72,\\\"complexity\\\":17.0,\\\"blocking factor\\\":9,\\\"delay factor\\\":8.0},\\\"nameSub\\\":\\\"Electricity & Magnetism\\\",\\\"id\\\":20,\\\"credits\\\":4,\\\"nameCanonical\\\":\\\"\\\"},{\\\"curriculum_requisites\\\":[{\\\"source_id\\\":6,\\\"target_id\\\":13,\\\"type\\\":\\\"CurriculumPrerequisite\\\"}],\\\"name\\\":\\\"MATH  223\\\",\\\"metrics\\\":{\\\"centrality\\\":0,\\\"complexity\\\":3.0,\\\"blocking factor\\\":0,\\\"delay factor\\\":3.0},\\\"nameSub\\\":\\\"Vector Calculus\\\",\\\"id\\\":13,\\\"credits\\\":4,\\\"nameCanonical\\\":\\\"\\\"},{\\\"curriculum_requisites\\\":[{\\\"source_id\\\":10,\\\"target_id\\\":47,\\\"type\\\":\\\"CurriculumPrerequisite\\\"}],\\\"name\\\":\\\"AME 205\\\",\\\"metrics\\\":{\\\"centrality\\\":184,\\\"complexity\\\":26.0,\\\"blocking factor\\\":15,\\\"delay factor\\\":11.0},\\\"nameSub\\\":\\\"Intro to MATLAB II\\\",\\\"id\\\":47,\\\"credits\\\":1,\\\"nameCanonical\\\":\\\"\\\"},{\\\"curriculum_requisites\\\":[{\\\"source_id\\\":4,\\\"target_id\\\":11,\\\"type\\\":\\\"CurriculumPrerequisite\\\"},{\\\"source_id\\\":47,\\\"target_id\\\":11,\\\"type\\\":\\\"CurriculumCorequisite\\\"},{\\\"source_id\\\":7,\\\"target_id\\\":11,\\\"type\\\":\\\"CurriculumPrerequisite\\\"},{\\\"source_id\\\":10,\\\"target_id\\\":11,\\\"type\\\":\\\"CurriculumPrerequisite\\\"},{\\\"source_id\\\":1,\\\"target_id\\\":11,\\\"type\\\":\\\"CurriculumPrerequisite\\\"}],\\\"name\\\":\\\"CHEE 201\\\",\\\"metrics\\\":{\\\"centrality\\\":815,\\\"complexity\\\":25.0,\\\"blocking factor\\\":14,\\\"delay factor\\\":11.0},\\\"nameSub\\\":\\\"Elements of Chem and Envirn Eng I\\\",\\\"id\\\":11,\\\"credits\\\":3,\\\"nameCanonical\\\":\\\"\\\"},{\\\"curriculum_requisites\\\":[{\\\"source_id\\\":7,\\\"target_id\\\":14,\\\"type\\\":\\\"CurriculumPrerequisite\\\"}],\\\"name\\\":\\\"CHEM  241A\\\",\\\"metrics\\\":{\\\"centrality\\\":8,\\\"complexity\\\":6.0,\\\"blocking factor\\\":2,\\\"delay factor\\\":4.0},\\\"nameSub\\\":\\\"Lectures in Org Chem\\\",\\\"id\\\":14,\\\"credits\\\":3,\\\"nameCanonical\\\":\\\"\\\"},{\\\"curriculum_requisites\\\":[{\\\"source_id\\\":14,\\\"target_id\\\":15,\\\"type\\\":\\\"CurriculumCorequisite\\\"}],\\\"name\\\":\\\"CHEM  243A\\\",\\\"metrics\\\":{\\\"centrality\\\":0,\\\"complexity\\\":4.0,\\\"blocking factor\\\":0,\\\"delay factor\\\":4.0},\\\"nameSub\\\":\\\"Org Chem Lab\\\",\\\"id\\\":15,\\\"credits\\\":1,\\\"nameCanonical\\\":\\\"\\\"}],\\\"id\\\":3},{\\\"name\\\":\\\"Term 4\\\",\\\"curriculum_items\\\":[{\\\"curriculum_requisites\\\":[],\\\"name\\\":\\\" \\\",\\\"metrics\\\":{\\\"centrality\\\":0,\\\"complexity\\\":1.0,\\\"blocking factor\\\":0,\\\"delay factor\\\":1.0},\\\"nameSub\\\":\\\"Tier I General Ed\\\",\\\"id\\\":16,\\\"credits\\\":3,\\\"nameCanonical\\\":\\\"\\\"},{\\\"curriculum_requisites\\\":[{\\\"source_id\\\":6,\\\"target_id\\\":19,\\\"type\\\":\\\"CurriculumPrerequisite\\\"}],\\\"name\\\":\\\"MATH 254\\\",\\\"metrics\\\":{\\\"centrality\\\":86,\\\"complexity\\\":17.0,\\\"blocking factor\\\":8,\\\"delay factor\\\":9.0},\\\"nameSub\\\":\\\"Intro to ODEs\\\",\\\"id\\\":19,\\\"credits\\\":3,\\\"nameCanonical\\\":\\\"\\\"},{\\\"curriculum_requisites\\\":[],\\\"name\\\":\\\" \\\",\\\"metrics\\\":{\\\"centrality\\\":0,\\\"complexity\\\":1.0,\\\"blocking factor\\\":0,\\\"delay factor\\\":1.0},\\\"nameSub\\\":\\\"Engineering Elective\\\",\\\"id\\\":32,\\\"credits\\\":3,\\\"nameCanonical\\\":\\\"\\\"},{\\\"curriculum_requisites\\\":[{\\\"source_id\\\":11,\\\"target_id\\\":17,\\\"type\\\":\\\"CurriculumPrerequisite\\\"},{\\\"source_id\\\":12,\\\"target_id\\\":17,\\\"type\\\":\\\"CurriculumPrerequisite\\\"},{\\\"source_id\\\":19,\\\"target_id\\\":17,\\\"type\\\":\\\"CurriculumCorequisite\\\"}],\\\"name\\\":\\\"CHEE 202\\\",\\\"metrics\\\":{\\\"centrality\\\":362,\\\"complexity\\\":17.0,\\\"blocking factor\\\":7,\\\"delay factor\\\":10.0},\\\"nameSub\\\":\\\"Elements of Chem Eng II\\\",\\\"id\\\":17,\\\"credits\\\":4,\\\"nameCanonical\\\":\\\"\\\"},{\\\"curriculum_requisites\\\":[{\\\"source_id\\\":11,\\\"target_id\\\":18,\\\"type\\\":\\\"CurriculumPrerequisite\\\"},{\\\"source_id\\\":8,\\\"target_id\\\":18,\\\"type\\\":\\\"CurriculumPrerequisite\\\"}],\\\"name\\\":\\\"CHEE 203\\\",\\\"metrics\\\":{\\\"centrality\\\":529,\\\"complexity\\\":21.0,\\\"blocking factor\\\":10,\\\"delay factor\\\":11.0},\\\"nameSub\\\":\\\"Chem Eng Heat Xfer & Fluid Flow\\\",\\\"id\\\":18,\\\"credits\\\":3,\\\"nameCanonical\\\":\\\"\\\"}],\\\"id\\\":4},{\\\"name\\\":\\\"Term 5\\\",\\\"curriculum_items\\\":[{\\\"curriculum_requisites\\\":[{\\\"source_id\\\":3,\\\"target_id\\\":9,\\\"type\\\":\\\"CurriculumPrerequisite\\\"}],\\\"name\\\":\\\"ENGL 102\\\",\\\"metrics\\\":{\\\"centrality\\\":0,\\\"complexity\\\":2.0,\\\"blocking factor\\\":0,\\\"delay factor\\\":2.0},\\\"nameSub\\\":\\\"First-year Comp.\\\",\\\"id\\\":9,\\\"credits\\\":3,\\\"nameCanonical\\\":\\\"\\\"},{\\\"curriculum_requisites\\\":[{\\\"source_id\\\":22,\\\"target_id\\\":24,\\\"type\\\":\\\"CurriculumStrictCorequisite\\\"},{\\\"source_id\\\":18,\\\"target_id\\\":24,\\\"type\\\":\\\"CurriculumPrerequisite\\\"},{\\\"source_id\\\":17,\\\"target_id\\\":24,\\\"type\\\":\\\"CurriculumPrerequisite\\\"},{\\\"source_id\\\":23,\\\"target_id\\\":24,\\\"type\\\":\\\"CurriculumStrictCorequisite\\\"},{\\\"source_id\\\":19,\\\"target_id\\\":24,\\\"type\\\":\\\"CurriculumPrerequisite\\\"}],\\\"name\\\":\\\"CHEE 301A\\\",\\\"metrics\\\":{\\\"centrality\\\":544,\\\"complexity\\\":14.0,\\\"blocking factor\\\":3,\\\"delay factor\\\":11.0},\\\"nameSub\\\":\\\"Chem Eng Lab I\\\",\\\"id\\\":24,\\\"credits\\\":1,\\\"nameCanonical\\\":\\\"\\\"},{\\\"curriculum_requisites\\\":[{\\\"source_id\\\":22,\\\"target_id\\\":23,\\\"type\\\":\\\"CurriculumStrictCorequisite\\\"},{\\\"source_id\\\":17,\\\"target_id\\\":23,\\\"type\\\":\\\"CurriculumPrerequisite\\\"},{\\\"source_id\\\":19,\\\"target_id\\\":23,\\\"type\\\":\\\"CurriculumPrerequisite\\\"}],\\\"name\\\":\\\"CHEE 402\\\",\\\"metrics\\\":{\\\"centrality\\\":492,\\\"complexity\\\":17.0,\\\"blocking factor\\\":6,\\\"delay factor\\\":11.0},\\\"nameSub\\\":\\\"Chem Eng Modeling\\\",\\\"id\\\":23,\\\"credits\\\":3,\\\"nameCanonical\\\":\\\"\\\"},{\\\"curriculum_requisites\\\":[{\\\"source_id\\\":18,\\\"target_id\\\":22,\\\"type\\\":\\\"CurriculumPrerequisite\\\"}],\\\"name\\\":\\\"CHEE 303\\\",\\\"metrics\\\":{\\\"centrality\\\":447,\\\"complexity\\\":20.0,\\\"blocking factor\\\":9,\\\"delay factor\\\":11.0},\\\"nameSub\\\":\\\"Chem Eng Mass Xfer\\\",\\\"id\\\":22,\\\"credits\\\":3,\\\"nameCanonical\\\":\\\"\\\"},{\\\"curriculum_requisites\\\":[],\\\"name\\\":\\\" \\\",\\\"metrics\\\":{\\\"centrality\\\":0,\\\"complexity\\\":1.0,\\\"blocking factor\\\":0,\\\"delay factor\\\":1.0},\\\"nameSub\\\":\\\"Tier II General Ed\\\",\\\"id\\\":40,\\\"credits\\\":3,\\\"nameCanonical\\\":\\\"\\\"},{\\\"curriculum_requisites\\\":[{\\\"source_id\\\":6,\\\"target_id\\\":26,\\\"type\\\":\\\"CurriculumPrerequisite\\\"},{\\\"source_id\\\":20,\\\"target_id\\\":26,\\\"type\\\":\\\"CurriculumCorequisite\\\"},{\\\"source_id\\\":2,\\\"target_id\\\":26,\\\"type\\\":\\\"CurriculumPrerequisite\\\"}],\\\"name\\\":\\\"CHEM 480A\\\",\\\"metrics\\\":{\\\"centrality\\\":129,\\\"complexity\\\":16.0,\\\"blocking factor\\\":8,\\\"delay factor\\\":8.0},\\\"nameSub\\\":\\\"Physical Chem\\\",\\\"id\\\":26,\\\"credits\\\":3,\\\"nameCanonical\\\":\\\"\\\"}],\\\"id\\\":5},{\\\"name\\\":\\\"Term 6\\\",\\\"curriculum_items\\\":[{\\\"curriculum_requisites\\\":[],\\\"name\\\":\\\" \\\",\\\"metrics\\\":{\\\"centrality\\\":0,\\\"complexity\\\":1.0,\\\"blocking factor\\\":0,\\\"delay factor\\\":1.0},\\\"nameSub\\\":\\\"Technical Elective\\\",\\\"id\\\":45,\\\"credits\\\":3,\\\"nameCanonical\\\":\\\"\\\"},{\\\"curriculum_requisites\\\":[{\\\"source_id\\\":22,\\\"target_id\\\":31,\\\"type\\\":\\\"CurriculumPrerequisite\\\"},{\\\"source_id\\\":29,\\\"target_id\\\":31,\\\"type\\\":\\\"CurriculumStrictCorequisite\\\"},{\\\"source_id\\\":24,\\\"target_id\\\":31,\\\"type\\\":\\\"CurriculumPrerequisite\\\"},{\\\"source_id\\\":28,\\\"target_id\\\":31,\\\"type\\\":\\\"CurriculumStrictCorequisite\\\"}],\\\"name\\\":\\\"CHEE 301B\\\",\\\"metrics\\\":{\\\"centrality\\\":610,\\\"complexity\\\":13.0,\\\"blocking factor\\\":2,\\\"delay factor\\\":11.0},\\\"nameSub\\\":\\\"Chem Eng Lab II\\\",\\\"id\\\":31,\\\"credits\\\":1,\\\"nameCanonical\\\":\\\"\\\"},{\\\"curriculum_requisites\\\":[{\\\"source_id\\\":11,\\\"target_id\\\":29,\\\"type\\\":\\\"CurriculumPrerequisite\\\"},{\\\"source_id\\\":26,\\\"target_id\\\":29,\\\"type\\\":\\\"CurriculumPrerequisite\\\"}],\\\"name\\\":\\\"CHEE 326\\\",\\\"metrics\\\":{\\\"centrality\\\":247,\\\"complexity\\\":14.0,\\\"blocking factor\\\":6,\\\"delay factor\\\":8.0},\\\"nameSub\\\":\\\"Chem & Phys Equilibrium\\\",\\\"id\\\":29,\\\"credits\\\":3,\\\"nameCanonical\\\":\\\"\\\"},{\\\"curriculum_requisites\\\":[{\\\"source_id\\\":22,\\\"target_id\\\":28,\\\"type\\\":\\\"CurriculumPrerequisite\\\"},{\\\"source_id\\\":23,\\\"target_id\\\":28,\\\"type\\\":\\\"CurriculumPrerequisite\\\"}],\\\"name\\\":\\\"CHEE 305\\\",\\\"metrics\\\":{\\\"centrality\\\":191,\\\"complexity\\\":14.0,\\\"blocking factor\\\":3,\\\"delay factor\\\":11.0},\\\"nameSub\\\":\\\"Chem Eng Transport Phenom\\\",\\\"id\\\":28,\\\"credits\\\":3,\\\"nameCanonical\\\":\\\"\\\"},{\\\"curriculum_requisites\\\":[{\\\"source_id\\\":23,\\\"target_id\\\":41,\\\"type\\\":\\\"CurriculumPrerequisite\\\"}],\\\"name\\\":\\\"CHEE 413\\\",\\\"metrics\\\":{\\\"centrality\\\":108,\\\"complexity\\\":10.0,\\\"blocking factor\\\":1,\\\"delay factor\\\":9.0},\\\"nameSub\\\":\\\"Process Control and Simulation\\\",\\\"id\\\":41,\\\"credits\\\":3,\\\"nameCanonical\\\":\\\"\\\"},{\\\"curriculum_requisites\\\":[],\\\"name\\\":\\\"CHEE 489\\\",\\\"metrics\\\":{\\\"centrality\\\":0,\\\"complexity\\\":1.0,\\\"blocking factor\\\":0,\\\"delay factor\\\":1.0},\\\"nameSub\\\":\\\"Trends in Nanomedicine Eng\\\",\\\"id\\\":25,\\\"credits\\\":3,\\\"nameCanonical\\\":\\\"\\\"}],\\\"id\\\":6},{\\\"name\\\":\\\"Term 7\\\",\\\"curriculum_items\\\":[{\\\"curriculum_requisites\\\":[],\\\"name\\\":\\\" \\\",\\\"metrics\\\":{\\\"centrality\\\":0,\\\"complexity\\\":1.0,\\\"blocking factor\\\":0,\\\"delay factor\\\":1.0},\\\"nameSub\\\":\\\"Tier I General Ed\\\",\\\"id\\\":5,\\\"credits\\\":3,\\\"nameCanonical\\\":\\\"\\\"},{\\\"curriculum_requisites\\\":[{\\\"source_id\\\":29,\\\"target_id\\\":35,\\\"type\\\":\\\"CurriculumPrerequisite\\\"}],\\\"name\\\":\\\"CHEE 420\\\",\\\"metrics\\\":{\\\"centrality\\\":128,\\\"complexity\\\":12.0,\\\"blocking factor\\\":4,\\\"delay factor\\\":8.0},\\\"nameSub\\\":\\\"Chem Reaction Eng\\\",\\\"id\\\":35,\\\"credits\\\":3,\\\"nameCanonical\\\":\\\"\\\"},{\\\"curriculum_requisites\\\":[{\\\"source_id\\\":14,\\\"target_id\\\":21,\\\"type\\\":\\\"CurriculumPrerequisite\\\"}],\\\"name\\\":\\\"CHEM 241B\\\",\\\"metrics\\\":{\\\"centrality\\\":0,\\\"complexity\\\":4.0,\\\"blocking factor\\\":0,\\\"delay factor\\\":4.0},\\\"nameSub\\\":\\\"Lectures in Org Chem\\\",\\\"id\\\":21,\\\"credits\\\":3,\\\"nameCanonical\\\":\\\"\\\"},{\\\"curriculum_requisites\\\":[],\\\"name\\\":\\\" \\\",\\\"metrics\\\":{\\\"centrality\\\":0,\\\"complexity\\\":1.0,\\\"blocking factor\\\":0,\\\"delay factor\\\":1.0},\\\"nameSub\\\":\\\"Engineering Elective\\\",\\\"id\\\":38,\\\"credits\\\":3,\\\"nameCanonical\\\":\\\"\\\"},{\\\"curriculum_requisites\\\":[{\\\"source_id\\\":35,\\\"target_id\\\":37,\\\"type\\\":\\\"CurriculumCorequisite\\\"},{\\\"source_id\\\":31,\\\"target_id\\\":37,\\\"type\\\":\\\"CurriculumPrerequisite\\\"}],\\\"name\\\":\\\"CHEE 401A\\\",\\\"metrics\\\":{\\\"centrality\\\":674,\\\"complexity\\\":12.0,\\\"blocking factor\\\":1,\\\"delay factor\\\":11.0},\\\"nameSub\\\":\\\"Chem and Enviorn Eng Lab I\\\",\\\"id\\\":37,\\\"credits\\\":1,\\\"nameCanonical\\\":\\\"\\\"},{\\\"curriculum_requisites\\\":[{\\\"source_id\\\":22,\\\"target_id\\\":36,\\\"type\\\":\\\"CurriculumPrerequisite\\\"},{\\\"source_id\\\":29,\\\"target_id\\\":36,\\\"type\\\":\\\"CurriculumPrerequisite\\\"},{\\\"source_id\\\":35,\\\"target_id\\\":36,\\\"type\\\":\\\"CurriculumStrictCorequisite\\\"}],\\\"name\\\":\\\"CHEE 442\\\",\\\"metrics\\\":{\\\"centrality\\\":160,\\\"complexity\\\":9.0,\\\"blocking factor\\\":1,\\\"delay factor\\\":8.0},\\\"nameSub\\\":\\\"Chem Eng Design Principles\\\",\\\"id\\\":36,\\\"credits\\\":3,\\\"nameCanonical\\\":\\\"\\\"}],\\\"id\\\":7},{\\\"name\\\":\\\"Term 8\\\",\\\"curriculum_items\\\":[{\\\"curriculum_requisites\\\":[],\\\"name\\\":\\\" \\\",\\\"metrics\\\":{\\\"centrality\\\":0,\\\"complexity\\\":1.0,\\\"blocking factor\\\":0,\\\"delay factor\\\":1.0},\\\"nameSub\\\":\\\"Engineering Elective\\\",\\\"id\\\":44,\\\"credits\\\":3,\\\"nameCanonical\\\":\\\"\\\"},{\\\"curriculum_requisites\\\":[],\\\"name\\\":\\\" \\\",\\\"metrics\\\":{\\\"centrality\\\":0,\\\"complexity\\\":1.0,\\\"blocking factor\\\":0,\\\"delay factor\\\":1.0},\\\"nameSub\\\":\\\"Tier II General Ed\\\",\\\"id\\\":46,\\\"credits\\\":3,\\\"nameCanonical\\\":\\\"\\\"},{\\\"curriculum_requisites\\\":[{\\\"source_id\\\":36,\\\"target_id\\\":43,\\\"type\\\":\\\"CurriculumPrerequisite\\\"}],\\\"name\\\":\\\"CHEE 443\\\",\\\"metrics\\\":{\\\"centrality\\\":0,\\\"complexity\\\":8.0,\\\"blocking factor\\\":0,\\\"delay factor\\\":8.0},\\\"nameSub\\\":\\\"Chem Eng Plant Design\\\",\\\"id\\\":43,\\\"credits\\\":3,\\\"nameCanonical\\\":\\\"\\\"},{\\\"curriculum_requisites\\\":[{\\\"source_id\\\":26,\\\"target_id\\\":39,\\\"type\\\":\\\"CurriculumPrerequisite\\\"}],\\\"name\\\":\\\"CHEM 480B\\\",\\\"metrics\\\":{\\\"centrality\\\":0,\\\"complexity\\\":5.0,\\\"blocking factor\\\":0,\\\"delay factor\\\":5.0},\\\"nameSub\\\":\\\"Physical Chem\\\",\\\"id\\\":39,\\\"credits\\\":3,\\\"nameCanonical\\\":\\\"\\\"},{\\\"curriculum_requisites\\\":[],\\\"name\\\":\\\" \\\",\\\"metrics\\\":{\\\"centrality\\\":0,\\\"complexity\\\":1.0,\\\"blocking factor\\\":0,\\\"delay factor\\\":1.0},\\\"nameSub\\\":\\\"Tier I General Ed\\\",\\\"id\\\":34,\\\"credits\\\":3,\\\"nameCanonical\\\":\\\"\\\"},{\\\"curriculum_requisites\\\":[{\\\"source_id\\\":41,\\\"target_id\\\":42,\\\"type\\\":\\\"CurriculumCorequisite\\\"},{\\\"source_id\\\":24,\\\"target_id\\\":42,\\\"type\\\":\\\"CurriculumPrerequisite\\\"},{\\\"source_id\\\":37,\\\"target_id\\\":42,\\\"type\\\":\\\"CurriculumPrerequisite\\\"}],\\\"name\\\":\\\"CHEE 401B\\\",\\\"metrics\\\":{\\\"centrality\\\":0,\\\"complexity\\\":11.0,\\\"blocking factor\\\":0,\\\"delay factor\\\":11.0},\\\"nameSub\\\":\\\"Process Dynamics and Control Lab\\\",\\\"id\\\":42,\\\"credits\\\":1,\\\"nameCanonical\\\":\\\"\\\"}],\\\"id\\\":8}],\\\"institution\\\":\\\"University of Arizona\\\"}},\\\"*\\\"); window.removeEventListener(\\\"message\\\",window.messageReceived); window.messageReceived=(function (event){return (event.data.curriculum!==undefined) ? (WebIO.setval({\\\"name\\\":\\\"curriculum-data\\\",\\\"scope\\\":\\\"15914653930120121401\\\",\\\"id\\\":\\\"17121123216968308482\\\",\\\"type\\\":\\\"observable\\\"},event.data.curriculum)) : undefined}); return window.addEventListener(\\\"message\\\",window.messageReceived)})\"},\"style\":{\"padding\":\"0\",\"height\":\"100vh\",\"margin\":\"0\",\"border\":\"none\",\"width\":\"100%\"}},\"nodeType\":\"DOM\",\"type\":\"node\",\"instanceArgs\":{\"namespace\":\"html\",\"tag\":\"iframe\"},\"children\":[\"\"]}]},\n",
       "        window,\n",
       "    );\n",
       "    })()\n",
       "    </script>\n",
       "</div>\n"
      ],
      "text/plain": [
       "WebIO.Scope(WebIO.Node{WebIO.DOM}(WebIO.DOM(:html, :iframe), Any[\"\"], Dict{Symbol, Any}(:src => \"https://curricula-api-embed.damoursystems.com/\", :id => \"curriculum\", :events => Dict{Symbol, WebIO.JSString}(:load => WebIO.JSString(\"(function (){this.contentWindow.postMessage({\\\"options\\\":{\\\"hideTerms\\\":false,\\\"edit\\\":false},\\\"curriculum\\\":{\\\"name\\\":\\\"Chemical Engineering\\\",\\\"dp_name\\\":\\\"\\\",\\\"curriculum_terms\\\":[{\\\"name\\\":\\\"Term 1\\\",\\\"curriculum_items\\\":[{\\\"curriculum_requisites\\\":[{\\\"source_id\\\":1,\\\"target_id\\\":4,\\\"type\\\":\\\"CurriculumCorequisite\\\"}],\\\"name\\\":\\\"ENGR 102\\\",\\\"metrics\\\":{\\\"centrality\\\":163,\\\"complexity\\\":25.0,\\\"blocking factor\\\":15,\\\"delay factor\\\":10.0},\\\"nameSub\\\":\\\"Intro to Engineering\\\",\\\"id\\\":4,\\\"credits\\\":3,\\\"nameCanonical\\\":\\\"\\\"},{\\\"curriculum_requisites\\\":[],\\\"name\\\":\\\"MATH 125\\\",\\\"metrics\\\":{\\\"centrality\\\":0,\\\"complexity\\\":37.0,\\\"blocking factor\\\":26,\\\"delay factor\\\":11.0},\\\"nameSub\\\":\\\"Calculus I w/ Applications\\\",\\\"id\\\":1,\\\"credits\\\":3,\\\"nameCanonical\\\":\\\"\\\"},{\\\"curriculum_requisites\\\":[],\\\"name\\\":\\\"ENGL 101\\\",\\\"metrics\\\":{\\\"centrality\\\":0,\\\"complexity\\\":3.0,\\\"blocking factor\\\":1,\\\"delay factor\\\":2.0},\\\"nameSub\\\":\\\"First-year Comp\\\",\\\"id\\\":3,\\\"credits\\\":3,\\\"nameCanonical\\\":\\\"\\\"},{\\\"curriculum_requisites\\\":[],\\\"name\\\":\\\" \\\",\\\"metrics\\\":{\\\"centrality\\\":0,\\\"complexity\\\":1.0,\\\"blocking factor\\\":0,\\\"delay factor\\\":1.0},\\\"nameSub\\\":\\\"Technical Elective\\\",\\\"id\\\":33,\\\"credits\\\":3,\\\"nameCanonical\\\":\\\"\\\"},{\\\"curriculum_requisites\\\":[],\\\"name\\\":\\\"CHEM 151\\\",\\\"metrics\\\":{\\\"centrality\\\":0,\\\"complexity\\\":31.0,\\\"blocking factor\\\":21,\\\"delay factor\\\":10.0},\\\"nameSub\\\":\\\"Gen Chemistry I\\\",\\\"id\\\":2,\\\"credits\\\":4,\\\"nameCanonical\\\":\\\"\\\"}],\\\"id\\\":1},{\\\"name\\\":\\\"Term 2\\\",\\\"curriculum_items\\\":[{\\\"curriculum_requisites\\\":[{\\\"source_id\\\":1,\\\"target_id\\\":6,\\\"type\\\":\\\"CurriculumPrerequisite\\\"}],\\\"name\\\":\\\"MATH 129\\\",\\\"metrics\\\":{\\\"centrality\\\":156,\\\"complexity\\\":26.0,\\\"blocking factor\\\":17,\\\"delay factor\\\":9.0},\\\"nameSub\\\":\\\"Calculus II\\\",\\\"id\\\":6,\\\"credits\\\":3,\\\"nameCanonical\\\":\\\"\\\"},{\\\"curriculum_requisites\\\":[{\\\"source_id\\\":10,\\\"target_id\\\":12,\\\"type\\\":\\\"CurriculumCorequisite\\\"},{\\\"source_id\\\":1,\\\"target_id\\\":12,\\\"type\\\":\\\"CurriculumPrerequisite\\\"}],\\\"name\\\":\\\"CHEE 201L\\\",\\\"metrics\\\":{\\\"centrality\\\":86,\\\"complexity\\\":17.0,\\\"blocking factor\\\":8,\\\"delay factor\\\":9.0},\\\"nameSub\\\":\\\"Elements of Chem and Envirn Eng I Lab\\\",\\\"id\\\":12,\\\"credits\\\":1,\\\"nameCanonical\\\":\\\"\\\"},{\\\"curriculum_requisites\\\":[{\\\"source_id\\\":1,\\\"target_id\\\":8,\\\"type\\\":\\\"CurriculumPrerequisite\\\"}],\\\"name\\\":\\\"PHYS 141\\\",\\\"metrics\\\":{\\\"centrality\\\":115,\\\"complexity\\\":25.0,\\\"blocking factor\\\":16,\\\"delay factor\\\":9.0},\\\"nameSub\\\":\\\"Intro Mechanics\\\",\\\"id\\\":8,\\\"credits\\\":4,\\\"nameCanonical\\\":\\\"\\\"},{\\\"curriculum_requisites\\\":[{\\\"source_id\\\":2,\\\"target_id\\\":7,\\\"type\\\":\\\"CurriculumPrerequisite\\\"}],\\\"name\\\":\\\"CHEM 152\\\",\\\"metrics\\\":{\\\"centrality\\\":171,\\\"complexity\\\":28.0,\\\"blocking factor\\\":18,\\\"delay factor\\\":10.0},\\\"nameSub\\\":\\\"Gen Chemistry II\\\",\\\"id\\\":7,\\\"credits\\\":4,\\\"nameCanonical\\\":\\\"\\\"},{\\\"curriculum_requisites\\\":[{\\\"source_id\\\":1,\\\"target_id\\\":10,\\\"type\\\":\\\"CurriculumCorequisite\\\"}],\\\"name\\\":\\\"AME 105\\\",\\\"metrics\\\":{\\\"centrality\\\":393,\\\"complexity\\\":28.0,\\\"blocking factor\\\":17,\\\"delay factor\\\":11.0},\\\"nameSub\\\":\\\"Intro to MATLAB I\\\",\\\"id\\\":10,\\\"credits\\\":1,\\\"nameCanonical\\\":\\\"\\\"},{\\\"curriculum_requisites\\\":[],\\\"name\\\":\\\" \\\",\\\"metrics\\\":{\\\"centrality\\\":0,\\\"complexity\\\":1.0,\\\"blocking factor\\\":0,\\\"delay factor\\\":1.0},\\\"nameSub\\\":\\\"Tier I General Ed\\\",\\\"id\\\":27,\\\"credits\\\":3,\\\"nameCanonical\\\":\\\"\\\"}],\\\"id\\\":2},{\\\"name\\\":\\\"Term 3\\\",\\\"curriculum_items\\\":[{\\\"curriculum_requisites\\\":[{\\\"source_id\\\":6,\\\"target_id\\\":20,\\\"type\\\":\\\"CurriculumPrerequisite\\\"},{\\\"source_id\\\":8,\\\"target_id\\\":20,\\\"type\\\":\\\"CurriculumPrerequisite\\\"}],\\\"name\\\":\\\"PHYS 241\\\",\\\"metrics\\\":{\\\"centrality\\\":72,\\\"complexity\\\":17.0,\\\"blocking factor\\\":9,\\\"delay factor\\\":8.0},\\\"nameSub\\\":\\\"Electricity & Magnetism\\\",\\\"id\\\":20,\\\"credits\\\":4,\\\"nameCanonical\\\":\\\"\\\"},{\\\"curriculum_requisites\\\":[{\\\"source_id\\\":6,\\\"target_id\\\":13,\\\"type\\\":\\\"CurriculumPrerequisite\\\"}],\\\"name\\\":\\\"MATH  223\\\",\\\"metrics\\\":{\\\"centrality\\\":0,\\\"complexity\\\":3.0,\\\"blocking factor\\\":0,\\\"delay factor\\\":3.0},\\\"nameSub\\\":\\\"Vector Calculus\\\",\\\"id\\\":13,\\\"credits\\\":4,\\\"nameCanonical\\\":\\\"\\\"},{\\\"curriculum_requisites\\\":[{\\\"source_id\\\":10,\\\"target_id\\\":47,\\\"type\\\":\\\"CurriculumPrerequisite\\\"}],\\\"name\\\":\\\"AME 205\\\",\\\"metrics\\\":{\\\"centrality\\\":184,\\\"complexity\\\":26.0,\\\"blocking factor\\\":15,\\\"delay factor\\\":11.0},\\\"nameSub\\\":\\\"Intro to MATLAB II\\\",\\\"id\\\":47,\\\"credits\\\":1,\\\"nameCanonical\\\":\\\"\\\"},{\\\"curriculum_requisites\\\":[{\\\"source_id\\\":4,\\\"target_id\\\":11,\\\"type\\\":\\\"CurriculumPrerequisite\\\"},{\\\"source_id\\\":47,\\\"target_id\\\":11,\\\"type\\\":\\\"CurriculumCorequisite\\\"},{\\\"source_id\\\":7,\\\"target_id\\\":11,\\\"type\\\":\\\"CurriculumPrerequisite\\\"},{\\\"source_id\\\":10,\\\"target_id\\\":11,\\\"type\\\":\\\"CurriculumPrerequisite\\\"},{\\\"source_id\\\":1,\\\"target_id\\\":11,\\\"type\\\":\\\"CurriculumPrerequisite\\\"}],\\\"name\\\":\\\"CHEE 201\\\",\\\"metrics\\\":{\\\"centrality\\\":815,\\\"complexity\\\":25.0,\\\"blocking factor\\\":14,\\\"delay factor\\\":11.0},\\\"nameSub\\\":\\\"Elements of Chem and Envirn Eng I\\\",\\\"id\\\":11,\\\"credits\\\":3,\\\"nameCanonical\\\":\\\"\\\"},{\\\"curriculum_requisites\\\":[{\\\"source_id\\\":7,\\\"target_id\\\":14,\\\"type\\\":\\\"CurriculumPrerequisite\\\"}],\\\"name\\\":\\\"CHEM  241A\\\",\\\"metrics\\\":{\\\"centrality\\\":8,\\\"complexity\\\":6.0,\\\"blocking factor\\\":2,\\\"delay factor\\\":4.0},\\\"nameSub\\\":\\\"Lectures in Org Chem\\\",\\\"id\\\":14,\\\"credits\\\":3,\\\"nameCanonical\\\":\\\"\\\"},{\\\"curriculum_requisites\\\":[{\\\"source_id\\\":14,\\\"target_id\\\":15,\\\"type\\\":\\\"CurriculumCorequisite\\\"}],\\\"name\\\":\\\"CHEM  243A\\\",\\\"metrics\\\":{\\\"centrality\\\":0,\\\"complexity\\\":4.0,\\\"blocking factor\\\":0,\\\"delay factor\\\":4.0},\\\"nameSub\\\":\\\"Org Chem Lab\\\",\\\"id\\\":15,\\\"credits\\\":1,\\\"nameCanonical\\\":\\\"\\\"}],\\\"id\\\":3},{\\\"name\\\":\\\"Term 4\\\",\\\"curriculum_items\\\":[{\\\"curriculum_requisites\\\":[],\\\"name\\\":\\\" \\\",\\\"metrics\\\":{\\\"centrality\\\":0,\\\"complexity\\\":1.0,\\\"blocking factor\\\":0,\\\"delay factor\\\":1.0},\\\"nameSub\\\":\\\"Tier I General Ed\\\",\\\"id\\\":16,\\\"credits\\\":3,\\\"nameCanonical\\\":\\\"\\\"},{\\\"curriculum_requisites\\\":[{\\\"source_id\\\":6,\\\"target_id\\\":19,\\\"type\\\":\\\"CurriculumPrerequisite\\\"}],\\\"name\\\":\\\"MATH 254\\\",\\\"metrics\\\":{\\\"centrality\\\":86,\\\"complexity\\\":17.0,\\\"blocking factor\\\":8,\\\"delay factor\\\":9.0},\\\"nameSub\\\":\\\"Intro to ODEs\\\",\\\"id\\\":19,\\\"credits\\\":3,\\\"nameCanonical\\\":\\\"\\\"},{\\\"curriculum_requisites\\\":[],\\\"name\\\":\\\" \\\",\\\"metrics\\\":{\\\"centrality\\\":0,\\\"complexity\\\":1.0,\\\"blocking factor\\\":0,\\\"delay factor\\\":1.0},\\\"nameSub\\\":\\\"Engineering Elective\\\",\\\"id\\\":32,\\\"credits\\\":3,\\\"nameCanonical\\\":\\\"\\\"},{\\\"curriculum_requisites\\\":[{\\\"source_id\\\":11,\\\"target_id\\\":17,\\\"type\\\":\\\"CurriculumPrerequisite\\\"},{\\\"source_id\\\":12,\\\"target_id\\\":17,\\\"type\\\":\\\"CurriculumPrerequisite\\\"},{\\\"source_id\\\":19,\\\"target_id\\\":17,\\\"type\\\":\\\"CurriculumCorequisite\\\"}],\\\"name\\\":\\\"CHEE 202\\\",\\\"metrics\\\":{\\\"centrality\\\":362,\\\"complexity\\\":17.0,\\\"blocking factor\\\":7,\\\"delay factor\\\":10.0},\\\"nameSub\\\":\\\"Elements of Chem Eng II\\\",\\\"id\\\":17,\\\"credits\\\":4,\\\"nameCanonical\\\":\\\"\\\"},{\\\"curriculum_requisites\\\":[{\\\"source_id\\\":11,\\\"target_id\\\":18,\\\"type\\\":\\\"CurriculumPrerequisite\\\"},{\\\"source_id\\\":8,\\\"target_id\\\":18,\\\"type\\\":\\\"CurriculumPrerequisite\\\"}],\\\"name\\\":\\\"CHEE 203\\\",\\\"metrics\\\":{\\\"centrality\\\":529,\\\"complexity\\\":21.0,\\\"blocking factor\\\":10,\\\"delay factor\\\":11.0},\\\"nameSub\\\":\\\"Chem Eng Heat Xfer & Fluid Flow\\\",\\\"id\\\":18,\\\"credits\\\":3,\\\"nameCanonical\\\":\\\"\\\"}],\\\"id\\\":4},{\\\"name\\\":\\\"Term 5\\\",\\\"curriculum_items\\\":[{\\\"curriculum_requisites\\\":[{\\\"source_id\\\":3,\\\"target_id\\\":9,\\\"type\\\":\\\"CurriculumPrerequisite\\\"}],\\\"name\\\":\\\"ENGL 102\\\",\\\"metrics\\\":{\\\"centrality\\\":0,\\\"complexity\\\":2.0,\\\"blocking factor\\\":0,\\\"delay factor\\\":2.0},\\\"nameSub\\\":\\\"First-year Comp.\\\",\\\"id\\\":9,\\\"credits\\\":3,\\\"nameCanonical\\\":\\\"\\\"},{\\\"curriculum_requisites\\\":[{\\\"source_id\\\":22,\\\"target_id\\\":24,\\\"type\\\":\\\"CurriculumStrictCorequisite\\\"},{\\\"source_id\\\":18,\\\"target_id\\\":24,\\\"type\\\":\\\"CurriculumPrerequisite\\\"},{\\\"source_id\\\":17,\\\"target_id\\\":24,\\\"type\\\":\\\"CurriculumPrerequisite\\\"},{\\\"source_id\\\":23,\\\"target_id\\\":24,\\\"type\\\":\\\"CurriculumStrictCorequisite\\\"},{\\\"source_id\\\":19,\\\"target_id\\\":24,\\\"type\\\":\\\"CurriculumPrerequisite\\\"}],\\\"name\\\":\\\"CHEE 301A\\\",\\\"metrics\\\":{\\\"centrality\\\":544,\\\"complexity\\\":14.0,\\\"blocking factor\\\":3,\\\"delay factor\\\":11.0},\\\"nameSub\\\":\\\"Chem Eng Lab I\\\",\\\"id\\\":24,\\\"credits\\\":1,\\\"nameCanonical\\\":\\\"\\\"},{\\\"curriculum_requisites\\\":[{\\\"source_id\\\":22,\\\"target_id\\\":23,\\\"type\\\":\\\"CurriculumStrictCorequisite\\\"},{\\\"source_id\\\":17,\\\"target_id\\\":23,\\\"type\\\":\\\"CurriculumPrerequisite\\\"},{\\\"source_id\\\":19,\\\"target_id\\\":23,\\\"type\\\":\\\"CurriculumPrerequisite\\\"}],\\\"name\\\":\\\"CHEE 402\\\",\\\"metrics\\\":{\\\"centrality\\\":492,\\\"complexity\\\":17.0,\\\"blocking factor\\\":6,\\\"delay factor\\\":11.0},\\\"nameSub\\\":\\\"Chem Eng Modeling\\\",\\\"id\\\":23,\\\"credits\\\":3,\\\"nameCanonical\\\":\\\"\\\"},{\\\"curriculum_requisites\\\":[{\\\"source_id\\\":18,\\\"target_id\\\":22,\\\"type\\\":\\\"CurriculumPrerequisite\\\"}],\\\"name\\\":\\\"CHEE 303\\\",\\\"metrics\\\":{\\\"centrality\\\":447,\\\"complexity\\\":20.0,\\\"blocking factor\\\":9,\\\"delay factor\\\":11.0},\\\"nameSub\\\":\\\"Chem Eng Mass Xfer\\\",\\\"id\\\":22,\\\"credits\\\":3,\\\"nameCanonical\\\":\\\"\\\"},{\\\"curriculum_requisites\\\":[],\\\"name\\\":\\\" \\\",\\\"metrics\\\":{\\\"centrality\\\":0,\\\"complexity\\\":1.0,\\\"blocking factor\\\":0,\\\"delay factor\\\":1.0},\\\"nameSub\\\":\\\"Tier II General Ed\\\",\\\"id\\\":40,\\\"credits\\\":3,\\\"nameCanonical\\\":\\\"\\\"},{\\\"curriculum_requisites\\\":[{\\\"source_id\\\":6,\\\"target_id\\\":26,\\\"type\\\":\\\"CurriculumPrerequisite\\\"},{\\\"source_id\\\":20,\\\"target_id\\\":26,\\\"type\\\":\\\"CurriculumCorequisite\\\"},{\\\"source_id\\\":2,\\\"target_id\\\":26,\\\"type\\\":\\\"CurriculumPrerequisite\\\"}],\\\"name\\\":\\\"CHEM 480A\\\",\\\"metrics\\\":{\\\"centrality\\\":129,\\\"complexity\\\":16.0,\\\"blocking factor\\\":8,\\\"delay factor\\\":8.0},\\\"nameSub\\\":\\\"Physical Chem\\\",\\\"id\\\":26,\\\"credits\\\":3,\\\"nameCanonical\\\":\\\"\\\"}],\\\"id\\\":5},{\\\"name\\\":\\\"Term 6\\\",\\\"curriculum_items\\\":[{\\\"curriculum_requisites\\\":[],\\\"name\\\":\\\" \\\",\\\"metrics\\\":{\\\"centrality\\\":0,\\\"complexity\\\":1.0,\\\"blocking factor\\\":0,\\\"delay factor\\\":1.0},\\\"nameSub\\\":\\\"Technical Elective\\\",\\\"id\\\":45,\\\"credits\\\":3,\\\"nameCanonical\\\":\\\"\\\"},{\\\"curriculum_requisites\\\":[{\\\"source_id\\\":22,\\\"target_id\\\":31,\\\"type\\\":\\\"CurriculumPrerequisite\\\"},{\\\"source_id\\\":29,\\\"target_id\\\":31,\\\"type\\\":\\\"CurriculumStrictCorequisite\\\"},{\\\"source_id\\\":24,\\\"target_id\\\":31,\\\"type\\\":\\\"CurriculumPrerequisite\\\"},{\\\"source_id\\\":28,\\\"target_id\\\":31,\\\"type\\\":\\\"CurriculumStrictCorequisite\\\"}],\\\"name\\\":\\\"CHEE 301B\\\",\\\"metrics\\\":{\\\"centrality\\\":610,\\\"complexity\\\":13.0,\\\"blocking factor\\\":2,\\\"delay factor\\\":11.0},\\\"nameSub\\\":\\\"Chem Eng Lab II\\\",\\\"id\\\":31,\\\"credits\\\":1,\\\"nameCanonical\\\":\\\"\\\"},{\\\"curriculum_requisites\\\":[{\\\"source_id\\\":11,\\\"target_id\\\":29,\\\"type\\\":\\\"CurriculumPrerequisite\\\"},{\\\"source_id\\\":26,\\\"target_id\\\":29,\\\"type\\\":\\\"CurriculumPrerequisite\\\"}],\\\"name\\\":\\\"CHEE 326\\\",\\\"metrics\\\":{\\\"centrality\\\":247,\\\"complexity\\\":14.0,\\\"blocking factor\\\":6,\\\"delay factor\\\":8.0},\\\"nameSub\\\":\\\"Chem & Phys Equilibrium\\\",\\\"id\\\":29,\\\"credits\\\":3,\\\"nameCanonical\\\":\\\"\\\"},{\\\"curriculum_requisites\\\":[{\\\"source_id\\\":22,\\\"target_id\\\":28,\\\"type\\\":\\\"CurriculumPrerequisite\\\"},{\\\"source_id\\\":23,\\\"target_id\\\":28,\\\"type\\\":\\\"CurriculumPrerequisite\\\"}],\\\"name\\\":\\\"CHEE 305\\\",\\\"metrics\\\":{\\\"centrality\\\":191,\\\"complexity\\\":14.0,\\\"blocking factor\\\":3,\\\"delay factor\\\":11.0},\\\"nameSub\\\":\\\"Chem Eng Transport Phenom\\\",\\\"id\\\":28,\\\"credits\\\":3,\\\"nameCanonical\\\":\\\"\\\"},{\\\"curriculum_requisites\\\":[{\\\"source_id\\\":23,\\\"target_id\\\":41,\\\"type\\\":\\\"CurriculumPrerequisite\\\"}],\\\"name\\\":\\\"CHEE 413\\\",\\\"metrics\\\":{\\\"centrality\\\":108,\\\"complexity\\\":10.0,\\\"blocking factor\\\":1,\\\"delay factor\\\":9.0},\\\"nameSub\\\":\\\"Process Control and Simulation\\\",\\\"id\\\":41,\\\"credits\\\":3,\\\"nameCanonical\\\":\\\"\\\"},{\\\"curriculum_requisites\\\":[],\\\"name\\\":\\\"CHEE 489\\\",\\\"metrics\\\":{\\\"centrality\\\":0,\\\"complexity\\\":1.0,\\\"blocking factor\\\":0,\\\"delay factor\\\":1.0},\\\"nameSub\\\":\\\"Trends in Nanomedicine Eng\\\",\\\"id\\\":25,\\\"credits\\\":3,\\\"nameCanonical\\\":\\\"\\\"}],\\\"id\\\":6},{\\\"name\\\":\\\"Term 7\\\",\\\"curriculum_items\\\":[{\\\"curriculum_requisites\\\":[],\\\"name\\\":\\\" \\\",\\\"metrics\\\":{\\\"centrality\\\":0,\\\"complexity\\\":1.0,\\\"blocking factor\\\":0,\\\"delay factor\\\":1.0},\\\"nameSub\\\":\\\"Tier I General Ed\\\",\\\"id\\\":5,\\\"credits\\\":3,\\\"nameCanonical\\\":\\\"\\\"},{\\\"curriculum_requisites\\\":[{\\\"source_id\\\":29,\\\"target_id\\\":35,\\\"type\\\":\\\"CurriculumPrerequisite\\\"}],\\\"name\\\":\\\"CHEE 420\\\",\\\"metrics\\\":{\\\"centrality\\\":128,\\\"complexity\\\":12.0,\\\"blocking factor\\\":4,\\\"delay factor\\\":8.0},\\\"nameSub\\\":\\\"Chem Reaction Eng\\\",\\\"id\\\":35,\\\"credits\\\":3,\\\"nameCanonical\\\":\\\"\\\"},{\\\"curriculum_requisites\\\":[{\\\"source_id\\\":14,\\\"target_id\\\":21,\\\"type\\\":\\\"CurriculumPrerequisite\\\"}],\\\"name\\\":\\\"CHEM 241B\\\",\\\"metrics\\\":{\\\"centrality\\\":0,\\\"complexity\\\":4.0,\\\"blocking factor\\\":0,\\\"delay factor\\\":4.0},\\\"nameSub\\\":\\\"Lectures in Org Chem\\\",\\\"id\\\":21,\\\"credits\\\":3,\\\"nameCanonical\\\":\\\"\\\"},{\\\"curriculum_requisites\\\":[],\\\"name\\\":\\\" \\\",\\\"metrics\\\":{\\\"centrality\\\":0,\\\"complexity\\\":1.0,\\\"blocking factor\\\":0,\\\"delay factor\\\":1.0},\\\"nameSub\\\":\\\"Engineering Elective\\\",\\\"id\\\":38,\\\"credits\\\":3,\\\"nameCanonical\\\":\\\"\\\"},{\\\"curriculum_requisites\\\":[{\\\"source_id\\\":35,\\\"target_id\\\":37,\\\"type\\\":\\\"CurriculumCorequisite\\\"},{\\\"source_id\\\":31,\\\"target_id\\\":37,\\\"type\\\":\\\"CurriculumPrerequisite\\\"}],\\\"name\\\":\\\"CHEE 401A\\\",\\\"metrics\\\":{\\\"centrality\\\":674,\\\"complexity\\\":12.0,\\\"blocking factor\\\":1,\\\"delay factor\\\":11.0},\\\"nameSub\\\":\\\"Chem and Enviorn Eng Lab I\\\",\\\"id\\\":37,\\\"credits\\\":1,\\\"nameCanonical\\\":\\\"\\\"},{\\\"curriculum_requisites\\\":[{\\\"source_id\\\":22,\\\"target_id\\\":36,\\\"type\\\":\\\"CurriculumPrerequisite\\\"},{\\\"source_id\\\":29,\\\"target_id\\\":36,\\\"type\\\":\\\"CurriculumPrerequisite\\\"},{\\\"source_id\\\":35,\\\"target_id\\\":36,\\\"type\\\":\\\"CurriculumStrictCorequisite\\\"}],\\\"name\\\":\\\"CHEE 442\\\",\\\"metrics\\\":{\\\"centrality\\\":160,\\\"complexity\\\":9.0,\\\"blocking factor\\\":1,\\\"delay factor\\\":8.0},\\\"nameSub\\\":\\\"Chem Eng Design Principles\\\",\\\"id\\\":36,\\\"credits\\\":3,\\\"nameCanonical\\\":\\\"\\\"}],\\\"id\\\":7},{\\\"name\\\":\\\"Term 8\\\",\\\"curriculum_items\\\":[{\\\"curriculum_requisites\\\":[],\\\"name\\\":\\\" \\\",\\\"metrics\\\":{\\\"centrality\\\":0,\\\"complexity\\\":1.0,\\\"blocking factor\\\":0,\\\"delay factor\\\":1.0},\\\"nameSub\\\":\\\"Engineering Elective\\\",\\\"id\\\":44,\\\"credits\\\":3,\\\"nameCanonical\\\":\\\"\\\"},{\\\"curriculum_requisites\\\":[],\\\"name\\\":\\\" \\\",\\\"metrics\\\":{\\\"centrality\\\":0,\\\"complexity\\\":1.0,\\\"blocking factor\\\":0,\\\"delay factor\\\":1.0},\\\"nameSub\\\":\\\"Tier II General Ed\\\",\\\"id\\\":46,\\\"credits\\\":3,\\\"nameCanonical\\\":\\\"\\\"},{\\\"curriculum_requisites\\\":[{\\\"source_id\\\":36,\\\"target_id\\\":43,\\\"type\\\":\\\"CurriculumPrerequisite\\\"}],\\\"name\\\":\\\"CHEE 443\\\",\\\"metrics\\\":{\\\"centrality\\\":0,\\\"complexity\\\":8.0,\\\"blocking factor\\\":0,\\\"delay factor\\\":8.0},\\\"nameSub\\\":\\\"Chem Eng Plant Design\\\",\\\"id\\\":43,\\\"credits\\\":3,\\\"nameCanonical\\\":\\\"\\\"},{\\\"curriculum_requisites\\\":[{\\\"source_id\\\":26,\\\"target_id\\\":39,\\\"type\\\":\\\"CurriculumPrerequisite\\\"}],\\\"name\\\":\\\"CHEM 480B\\\",\\\"metrics\\\":{\\\"centrality\\\":0,\\\"complexity\\\":5.0,\\\"blocking factor\\\":0,\\\"delay factor\\\":5.0},\\\"nameSub\\\":\\\"Physical Chem\\\",\\\"id\\\":39,\\\"credits\\\":3,\\\"nameCanonical\\\":\\\"\\\"},{\\\"curriculum_requisites\\\":[],\\\"name\\\":\\\" \\\",\\\"metrics\\\":{\\\"centrality\\\":0,\\\"complexity\\\":1.0,\\\"blocking factor\\\":0,\\\"delay factor\\\":1.0},\\\"nameSub\\\":\\\"Tier I General Ed\\\",\\\"id\\\":34,\\\"credits\\\":3,\\\"nameCanonical\\\":\\\"\\\"},{\\\"curriculum_requisites\\\":[{\\\"source_id\\\":41,\\\"target_id\\\":42,\\\"type\\\":\\\"CurriculumCorequisite\\\"},{\\\"source_id\\\":24,\\\"target_id\\\":42,\\\"type\\\":\\\"CurriculumPrerequisite\\\"},{\\\"source_id\\\":37,\\\"target_id\\\":42,\\\"type\\\":\\\"CurriculumPrerequisite\\\"}],\\\"name\\\":\\\"CHEE 401B\\\",\\\"metrics\\\":{\\\"centrality\\\":0,\\\"complexity\\\":11.0,\\\"blocking factor\\\":0,\\\"delay factor\\\":11.0},\\\"nameSub\\\":\\\"Process Dynamics and Control Lab\\\",\\\"id\\\":42,\\\"credits\\\":1,\\\"nameCanonical\\\":\\\"\\\"}],\\\"id\\\":8}],\\\"institution\\\":\\\"University of Arizona\\\"}},\\\"*\\\"); window.removeEventListener(\\\"message\\\",window.messageReceived); window.messageReceived=(function (event){return (event.data.curriculum!==undefined) ? (WebIO.setval({\\\"name\\\":\\\"curriculum-data\\\",\\\"scope\\\":\\\"15914653930120121401\\\",\\\"id\\\":\\\"17121123216968308482\\\",\\\"type\\\":\\\"observable\\\"},event.data.curriculum)) : undefined}); return window.addEventListener(\\\"message\\\",window.messageReceived)})\")), :style => Dict(:padding => \"0\", :height => \"100vh\", :margin => \"0\", :border => \"none\", :width => \"100%\"))), Dict{String, Tuple{Observables.AbstractObservable, Union{Nothing, Bool}}}(\"curriculum-data\" => (Observable{Dict{String, Any}} with 1 listeners. Value:\n",
       "Dict{String, Any}(\"options\" => Dict{String, Any}(\"hideTerms\" => false, \"edit\" => false), \"curriculum\" => Dict{String, Any}(\"name\" => \"Chemical Engineering\", \"dp_name\" => \"\", \"curriculum_terms\" => Dict{String, Any}[Dict(\"name\" => \"Term 1\", \"curriculum_items\" => Dict{String, Any}[Dict(\"curriculum_requisites\" => Dict{String, Any}[Dict(\"source_id\" => 1, \"target_id\" => 4, \"type\" => \"CurriculumCorequisite\")], \"name\" => \"ENGR 102\", \"metrics\" => Dict{String, Any}(\"centrality\" => 163, \"complexity\" => 25.0, \"blocking factor\" => 15, \"delay factor\" => 10.0), \"nameSub\" => \"Intro to Engineering\", \"id\" => 4, \"credits\" => 3, \"nameCanonical\" => \"\"), Dict(\"curriculum_requisites\" => Dict{String, Any}[], \"name\" => \"MATH 125\", \"metrics\" => Dict{String, Any}(\"centrality\" => 0, \"complexity\" => 37.0, \"blocking factor\" => 26, \"delay factor\" => 11.0), \"nameSub\" => \"Calculus I w/ Applications\", \"id\" => 1, \"credits\" => 3, \"nameCanonical\" => \"\"), Dict(\"curriculum_requisites\" => Dict{String, Any}[], \"name\" => \"ENGL 101\", \"metrics\" => Dict{String, Any}(\"centrality\" => 0, \"complexity\" => 3.0, \"blocking factor\" => 1, \"delay factor\" => 2.0), \"nameSub\" => \"First-year Comp\", \"id\" => 3, \"credits\" => 3, \"nameCanonical\" => \"\"), Dict(\"curriculum_requisites\" => Dict{String, Any}[], \"name\" => \" \", \"metrics\" => Dict{String, Any}(\"centrality\" => 0, \"complexity\" => 1.0, \"blocking factor\" => 0, \"delay factor\" => 1.0), \"nameSub\" => \"Technical Elective\", \"id\" => 33, \"credits\" => 3, \"nameCanonical\" => \"\"), Dict(\"curriculum_requisites\" => Dict{String, Any}[], \"name\" => \"CHEM 151\", \"metrics\" => Dict{String, Any}(\"centrality\" => 0, \"complexity\" => 31.0, \"blocking factor\" => 21, \"delay factor\" => 10.0), \"nameSub\" => \"Gen Chemistry I\", \"id\" => 2, \"credits\" => 4, \"nameCanonical\" => \"\")], \"id\" => 1), Dict(\"name\" => \"Term 2\", \"curriculum_items\" => Dict{String, Any}[Dict(\"curriculum_requisites\" => Dict{String, Any}[Dict(\"source_id\" => 1, \"target_id\" => 6, \"type\" => \"CurriculumPrerequisite\")], \"name\" => \"MATH 129\", \"metrics\" => Dict{String, Any}(\"centrality\" => 156, \"complexity\" => 26.0, \"blocking factor\" => 17, \"delay factor\" => 9.0), \"nameSub\" => \"Calculus II\", \"id\" => 6, \"credits\" => 3, \"nameCanonical\" => \"\"), Dict(\"curriculum_requisites\" => Dict{String, Any}[Dict(\"source_id\" => 10, \"target_id\" => 12, \"type\" => \"CurriculumCorequisite\"), Dict(\"source_id\" => 1, \"target_id\" => 12, \"type\" => \"CurriculumPrerequisite\")], \"name\" => \"CHEE 201L\", \"metrics\" => Dict{String, Any}(\"centrality\" => 86, \"complexity\" => 17.0, \"blocking factor\" => 8, \"delay factor\" => 9.0), \"nameSub\" => \"Elements of Chem and Envirn Eng I Lab\", \"id\" => 12, \"credits\" => 1, \"nameCanonical\" => \"\"), Dict(\"curriculum_requisites\" => Dict{String, Any}[Dict(\"source_id\" => 1, \"target_id\" => 8, \"type\" => \"CurriculumPrerequisite\")], \"name\" => \"PHYS 141\", \"metrics\" => Dict{String, Any}(\"centrality\" => 115, \"complexity\" => 25.0, \"blocking factor\" => 16, \"delay factor\" => 9.0), \"nameSub\" => \"Intro Mechanics\", \"id\" => 8, \"credits\" => 4, \"nameCanonical\" => \"\"), Dict(\"curriculum_requisites\" => Dict{String, Any}[Dict(\"source_id\" => 2, \"target_id\" => 7, \"type\" => \"CurriculumPrerequisite\")], \"name\" => \"CHEM 152\", \"metrics\" => Dict{String, Any}(\"centrality\" => 171, \"complexity\" => 28.0, \"blocking factor\" => 18, \"delay factor\" => 10.0), \"nameSub\" => \"Gen Chemistry II\", \"id\" => 7, \"credits\" => 4, \"nameCanonical\" => \"\"), Dict(\"curriculum_requisites\" => Dict{String, Any}[Dict(\"source_id\" => 1, \"target_id\" => 10, \"type\" => \"CurriculumCorequisite\")], \"name\" => \"AME 105\", \"metrics\" => Dict{String, Any}(\"centrality\" => 393, \"complexity\" => 28.0, \"blocking factor\" => 17, \"delay factor\" => 11.0), \"nameSub\" => \"Intro to MATLAB I\", \"id\" => 10, \"credits\" => 1, \"nameCanonical\" => \"\"), Dict(\"curriculum_requisites\" => Dict{String, Any}[], \"name\" => \" \", \"metrics\" => Dict{String, Any}(\"centrality\" => 0, \"complexity\" => 1.0, \"blocking factor\" => 0, \"delay factor\" => 1.0), \"nameSub\" => \"Tier I General Ed\", \"id\" => 27, \"credits\" => 3, \"nameCanonical\" => \"\")], \"id\" => 2), Dict(\"name\" => \"Term 3\", \"curriculum_items\" => Dict{String, Any}[Dict(\"curriculum_requisites\" => Dict{String, Any}[Dict(\"source_id\" => 6, \"target_id\" => 20, \"type\" => \"CurriculumPrerequisite\"), Dict(\"source_id\" => 8, \"target_id\" => 20, \"type\" => \"CurriculumPrerequisite\")], \"name\" => \"PHYS 241\", \"metrics\" => Dict{String, Any}(\"centrality\" => 72, \"complexity\" => 17.0, \"blocking factor\" => 9, \"delay factor\" => 8.0), \"nameSub\" => \"Electricity & Magnetism\", \"id\" => 20, \"credits\" => 4, \"nameCanonical\" => \"\"), Dict(\"curriculum_requisites\" => Dict{String, Any}[Dict(\"source_id\" => 6, \"target_id\" => 13, \"type\" => \"CurriculumPrerequisite\")], \"name\" => \"MATH  223\", \"metrics\" => Dict{String, Any}(\"centrality\" => 0, \"complexity\" => 3.0, \"blocking factor\" => 0, \"delay factor\" => 3.0), \"nameSub\" => \"Vector Calculus\", \"id\" => 13, \"credits\" => 4, \"nameCanonical\" => \"\"), Dict(\"curriculum_requisites\" => Dict{String, Any}[Dict(\"source_id\" => 10, \"target_id\" => 47, \"type\" => \"CurriculumPrerequisite\")], \"name\" => \"AME 205\", \"metrics\" => Dict{String, Any}(\"centrality\" => 184, \"complexity\" => 26.0, \"blocking factor\" => 15, \"delay factor\" => 11.0), \"nameSub\" => \"Intro to MATLAB II\", \"id\" => 47, \"credits\" => 1, \"nameCanonical\" => \"\"), Dict(\"curriculum_requisites\" => Dict{String, Any}[Dict(\"source_id\" => 4, \"target_id\" => 11, \"type\" => \"CurriculumPrerequisite\"), Dict(\"source_id\" => 47, \"target_id\" => 11, \"type\" => \"CurriculumCorequisite\"), Dict(\"source_id\" => 7, \"target_id\" => 11, \"type\" => \"CurriculumPrerequisite\"), Dict(\"source_id\" => 10, \"target_id\" => 11, \"type\" => \"CurriculumPrerequisite\"), Dict(\"source_id\" => 1, \"target_id\" => 11, \"type\" => \"CurriculumPrerequisite\")], \"name\" => \"CHEE 201\", \"metrics\" => Dict{String, Any}(\"centrality\" => 815, \"complexity\" => 25.0, \"blocking factor\" => 14, \"delay factor\" => 11.0), \"nameSub\" => \"Elements of Chem and Envirn Eng I\", \"id\" => 11, \"credits\" => 3, \"nameCanonical\" => \"\"), Dict(\"curriculum_requisites\" => Dict{String, Any}[Dict(\"source_id\" => 7, \"target_id\" => 14, \"type\" => \"CurriculumPrerequisite\")], \"name\" => \"CHEM  241A\", \"metrics\" => Dict{String, Any}(\"centrality\" => 8, \"complexity\" => 6.0, \"blocking factor\" => 2, \"delay factor\" => 4.0), \"nameSub\" => \"Lectures in Org Chem\", \"id\" => 14, \"credits\" => 3, \"nameCanonical\" => \"\"), Dict(\"curriculum_requisites\" => Dict{String, Any}[Dict(\"source_id\" => 14, \"target_id\" => 15, \"type\" => \"CurriculumCorequisite\")], \"name\" => \"CHEM  243A\", \"metrics\" => Dict{String, Any}(\"centrality\" => 0, \"complexity\" => 4.0, \"blocking factor\" => 0, \"delay factor\" => 4.0), \"nameSub\" => \"Org Chem Lab\", \"id\" => 15, \"credits\" => 1, \"nameCanonical\" => \"\")], \"id\" => 3), Dict(\"name\" => \"Term 4\", \"curriculum_items\" => Dict{String, Any}[Dict(\"curriculum_requisites\" => Dict{String, Any}[], \"name\" => \" \", \"metrics\" => Dict{String, Any}(\"centrality\" => 0, \"complexity\" => 1.0, \"blocking factor\" => 0, \"delay factor\" => 1.0), \"nameSub\" => \"Tier I General Ed\", \"id\" => 16, \"credits\" => 3, \"nameCanonical\" => \"\"), Dict(\"curriculum_requisites\" => Dict{String, Any}[Dict(\"source_id\" => 6, \"target_id\" => 19, \"type\" => \"CurriculumPrerequisite\")], \"name\" => \"MATH 254\", \"metrics\" => Dict{String, Any}(\"centrality\" => 86, \"complexity\" => 17.0, \"blocking factor\" => 8, \"delay factor\" => 9.0), \"nameSub\" => \"Intro to ODEs\", \"id\" => 19, \"credits\" => 3, \"nameCanonical\" => \"\"), Dict(\"curriculum_requisites\" => Dict{String, Any}[], \"name\" => \" \", \"metrics\" => Dict{String, Any}(\"centrality\" => 0, \"complexity\" => 1.0, \"blocking factor\" => 0, \"delay factor\" => 1.0), \"nameSub\" => \"Engineering Elective\", \"id\" => 32, \"credits\" => 3, \"nameCanonical\" => \"\"), Dict(\"curriculum_requisites\" => Dict{String, Any}[Dict(\"source_id\" => 11, \"target_id\" => 17, \"type\" => \"CurriculumPrerequisite\"), Dict(\"source_id\" => 12, \"target_id\" => 17, \"type\" => \"CurriculumPrerequisite\"), Dict(\"source_id\" => 19, \"target_id\" => 17, \"type\" => \"CurriculumCorequisite\")], \"name\" => \"CHEE 202\", \"metrics\" => Dict{String, Any}(\"centrality\" => 362, \"complexity\" => 17.0, \"blocking factor\" => 7, \"delay factor\" => 10.0), \"nameSub\" => \"Elements of Chem Eng II\", \"id\" => 17, \"credits\" => 4, \"nameCanonical\" => \"\"), Dict(\"curriculum_requisites\" => Dict{String, Any}[Dict(\"source_id\" => 11, \"target_id\" => 18, \"type\" => \"CurriculumPrerequisite\"), Dict(\"source_id\" => 8, \"target_id\" => 18, \"type\" => \"CurriculumPrerequisite\")], \"name\" => \"CHEE 203\", \"metrics\" => Dict{String, Any}(\"centrality\" => 529, \"complexity\" => 21.0, \"blocking factor\" => 10, \"delay factor\" => 11.0), \"nameSub\" => \"Chem Eng Heat Xfer & Fluid Flow\", \"id\" => 18, \"credits\" => 3, \"nameCanonical\" => \"\")], \"id\" => 4), Dict(\"name\" => \"Term 5\", \"curriculum_items\" => Dict{String, Any}[Dict(\"curriculum_requisites\" => Dict{String, Any}[Dict(\"source_id\" => 3, \"target_id\" => 9, \"type\" => \"CurriculumPrerequisite\")], \"name\" => \"ENGL 102\", \"metrics\" => Dict{String, Any}(\"centrality\" => 0, \"complexity\" => 2.0, \"blocking factor\" => 0, \"delay factor\" => 2.0), \"nameSub\" => \"First-year Comp.\", \"id\" => 9, \"credits\" => 3, \"nameCanonical\" => \"\"), Dict(\"curriculum_requisites\" => Dict{String, Any}[Dict(\"source_id\" => 22, \"target_id\" => 24, \"type\" => \"CurriculumStrictCorequisite\"), Dict(\"source_id\" => 18, \"target_id\" => 24, \"type\" => \"CurriculumPrerequisite\"), Dict(\"source_id\" => 17, \"target_id\" => 24, \"type\" => \"CurriculumPrerequisite\"), Dict(\"source_id\" => 23, \"target_id\" => 24, \"type\" => \"CurriculumStrictCorequisite\"), Dict(\"source_id\" => 19, \"target_id\" => 24, \"type\" => \"CurriculumPrerequisite\")], \"name\" => \"CHEE 301A\", \"metrics\" => Dict{String, Any}(\"centrality\" => 544, \"complexity\" => 14.0, \"blocking factor\" => 3, \"delay factor\" => 11.0), \"nameSub\" => \"Chem Eng Lab I\", \"id\" => 24, \"credits\" => 1, \"nameCanonical\" => \"\"), Dict(\"curriculum_requisites\" => Dict{String, Any}[Dict(\"source_id\" => 22, \"target_id\" => 23, \"type\" => \"CurriculumStrictCorequisite\"), Dict(\"source_id\" => 17, \"target_id\" => 23, \"type\" => \"CurriculumPrerequisite\"), Dict(\"source_id\" => 19, \"target_id\" => 23, \"type\" => \"CurriculumPrerequisite\")], \"name\" => \"CHEE 402\", \"metrics\" => Dict{String, Any}(\"centrality\" => 492, \"complexity\" => 17.0, \"blocking factor\" => 6, \"delay factor\" => 11.0), \"nameSub\" => \"Chem Eng Modeling\", \"id\" => 23, \"credits\" => 3, \"nameCanonical\" => \"\"), Dict(\"curriculum_requisites\" => Dict{String, Any}[Dict(\"source_id\" => 18, \"target_id\" => 22, \"type\" => \"CurriculumPrerequisite\")], \"name\" => \"CHEE 303\", \"metrics\" => Dict{String, Any}(\"centrality\" => 447, \"complexity\" => 20.0, \"blocking factor\" => 9, \"delay factor\" => 11.0), \"nameSub\" => \"Chem Eng Mass Xfer\", \"id\" => 22, \"credits\" => 3, \"nameCanonical\" => \"\"), Dict(\"curriculum_requisites\" => Dict{String, Any}[], \"name\" => \" \", \"metrics\" => Dict{String, Any}(\"centrality\" => 0, \"complexity\" => 1.0, \"blocking factor\" => 0, \"delay factor\" => 1.0), \"nameSub\" => \"Tier II General Ed\", \"id\" => 40, \"credits\" => 3, \"nameCanonical\" => \"\"), Dict(\"curriculum_requisites\" => Dict{String, Any}[Dict(\"source_id\" => 6, \"target_id\" => 26, \"type\" => \"CurriculumPrerequisite\"), Dict(\"source_id\" => 20, \"target_id\" => 26, \"type\" => \"CurriculumCorequisite\"), Dict(\"source_id\" => 2, \"target_id\" => 26, \"type\" => \"CurriculumPrerequisite\")], \"name\" => \"CHEM 480A\", \"metrics\" => Dict{String, Any}(\"centrality\" => 129, \"complexity\" => 16.0, \"blocking factor\" => 8, \"delay factor\" => 8.0), \"nameSub\" => \"Physical Chem\", \"id\" => 26, \"credits\" => 3, \"nameCanonical\" => \"\")], \"id\" => 5), Dict(\"name\" => \"Term 6\", \"curriculum_items\" => Dict{String, Any}[Dict(\"curriculum_requisites\" => Dict{String, Any}[], \"name\" => \" \", \"metrics\" => Dict{String, Any}(\"centrality\" => 0, \"complexity\" => 1.0, \"blocking factor\" => 0, \"delay factor\" => 1.0), \"nameSub\" => \"Technical Elective\", \"id\" => 45, \"credits\" => 3, \"nameCanonical\" => \"\"), Dict(\"curriculum_requisites\" => Dict{String, Any}[Dict(\"source_id\" => 22, \"target_id\" => 31, \"type\" => \"CurriculumPrerequisite\"), Dict(\"source_id\" => 29, \"target_id\" => 31, \"type\" => \"CurriculumStrictCorequisite\"), Dict(\"source_id\" => 24, \"target_id\" => 31, \"type\" => \"CurriculumPrerequisite\"), Dict(\"source_id\" => 28, \"target_id\" => 31, \"type\" => \"CurriculumStrictCorequisite\")], \"name\" => \"CHEE 301B\", \"metrics\" => Dict{String, Any}(\"centrality\" => 610, \"complexity\" => 13.0, \"blocking factor\" => 2, \"delay factor\" => 11.0), \"nameSub\" => \"Chem Eng Lab II\", \"id\" => 31, \"credits\" => 1, \"nameCanonical\" => \"\"), Dict(\"curriculum_requisites\" => Dict{String, Any}[Dict(\"source_id\" => 11, \"target_id\" => 29, \"type\" => \"CurriculumPrerequisite\"), Dict(\"source_id\" => 26, \"target_id\" => 29, \"type\" => \"CurriculumPrerequisite\")], \"name\" => \"CHEE 326\", \"metrics\" => Dict{String, Any}(\"centrality\" => 247, \"complexity\" => 14.0, \"blocking factor\" => 6, \"delay factor\" => 8.0), \"nameSub\" => \"Chem & Phys Equilibrium\", \"id\" => 29, \"credits\" => 3, \"nameCanonical\" => \"\"), Dict(\"curriculum_requisites\" => Dict{String, Any}[Dict(\"source_id\" => 22, \"target_id\" => 28, \"type\" => \"CurriculumPrerequisite\"), Dict(\"source_id\" => 23, \"target_id\" => 28, \"type\" => \"CurriculumPrerequisite\")], \"name\" => \"CHEE 305\", \"metrics\" => Dict{String, Any}(\"centrality\" => 191, \"complexity\" => 14.0, \"blocking factor\" => 3, \"delay factor\" => 11.0), \"nameSub\" => \"Chem Eng Transport Phenom\", \"id\" => 28, \"credits\" => 3, \"nameCanonical\" => \"\"), Dict(\"curriculum_requisites\" => Dict{String, Any}[Dict(\"source_id\" => 23, \"target_id\" => 41, \"type\" => \"CurriculumPrerequisite\")], \"name\" => \"CHEE 413\", \"metrics\" => Dict{String, Any}(\"centrality\" => 108, \"complexity\" => 10.0, \"blocking factor\" => 1, \"delay factor\" => 9.0), \"nameSub\" => \"Process Control and Simulation\", \"id\" => 41, \"credits\" => 3, \"nameCanonical\" => \"\"), Dict(\"curriculum_requisites\" => Dict{String, Any}[], \"name\" => \"CHEE 489\", \"metrics\" => Dict{String, Any}(\"centrality\" => 0, \"complexity\" => 1.0, \"blocking factor\" => 0, \"delay factor\" => 1.0), \"nameSub\" => \"Trends in Nanomedicine Eng\", \"id\" => 25, \"credits\" => 3, \"nameCanonical\" => \"\")], \"id\" => 6), Dict(\"name\" => \"Term 7\", \"curriculum_items\" => Dict{String, Any}[Dict(\"curriculum_requisites\" => Dict{String, Any}[], \"name\" => \" \", \"metrics\" => Dict{String, Any}(\"centrality\" => 0, \"complexity\" => 1.0, \"blocking factor\" => 0, \"delay factor\" => 1.0), \"nameSub\" => \"Tier I General Ed\", \"id\" => 5, \"credits\" => 3, \"nameCanonical\" => \"\"), Dict(\"curriculum_requisites\" => Dict{String, Any}[Dict(\"source_id\" => 29, \"target_id\" => 35, \"type\" => \"CurriculumPrerequisite\")], \"name\" => \"CHEE 420\", \"metrics\" => Dict{String, Any}(\"centrality\" => 128, \"complexity\" => 12.0, \"blocking factor\" => 4, \"delay factor\" => 8.0), \"nameSub\" => \"Chem Reaction Eng\", \"id\" => 35, \"credits\" => 3, \"nameCanonical\" => \"\"), Dict(\"curriculum_requisites\" => Dict{String, Any}[Dict(\"source_id\" => 14, \"target_id\" => 21, \"type\" => \"CurriculumPrerequisite\")], \"name\" => \"CHEM 241B\", \"metrics\" => Dict{String, Any}(\"centrality\" => 0, \"complexity\" => 4.0, \"blocking factor\" => 0, \"delay factor\" => 4.0), \"nameSub\" => \"Lectures in Org Chem\", \"id\" => 21, \"credits\" => 3, \"nameCanonical\" => \"\"), Dict(\"curriculum_requisites\" => Dict{String, Any}[], \"name\" => \" \", \"metrics\" => Dict{String, Any}(\"centrality\" => 0, \"complexity\" => 1.0, \"blocking factor\" => 0, \"delay factor\" => 1.0), \"nameSub\" => \"Engineering Elective\", \"id\" => 38, \"credits\" => 3, \"nameCanonical\" => \"\"), Dict(\"curriculum_requisites\" => Dict{String, Any}[Dict(\"source_id\" => 35, \"target_id\" => 37, \"type\" => \"CurriculumCorequisite\"), Dict(\"source_id\" => 31, \"target_id\" => 37, \"type\" => \"CurriculumPrerequisite\")], \"name\" => \"CHEE 401A\", \"metrics\" => Dict{String, Any}(\"centrality\" => 674, \"complexity\" => 12.0, \"blocking factor\" => 1, \"delay factor\" => 11.0), \"nameSub\" => \"Chem and Enviorn Eng Lab I\", \"id\" => 37, \"credits\" => 1, \"nameCanonical\" => \"\"), Dict(\"curriculum_requisites\" => Dict{String, Any}[Dict(\"source_id\" => 22, \"target_id\" => 36, \"type\" => \"CurriculumPrerequisite\"), Dict(\"source_id\" => 29, \"target_id\" => 36, \"type\" => \"CurriculumPrerequisite\"), Dict(\"source_id\" => 35, \"target_id\" => 36, \"type\" => \"CurriculumStrictCorequisite\")], \"name\" => \"CHEE 442\", \"metrics\" => Dict{String, Any}(\"centrality\" => 160, \"complexity\" => 9.0, \"blocking factor\" => 1, \"delay factor\" => 8.0), \"nameSub\" => \"Chem Eng Design Principles\", \"id\" => 36, \"credits\" => 3, \"nameCanonical\" => \"\")], \"id\" => 7), Dict(\"name\" => \"Term 8\", \"curriculum_items\" => Dict{String, Any}[Dict(\"curriculum_requisites\" => Dict{String, Any}[], \"name\" => \" \", \"metrics\" => Dict{String, Any}(\"centrality\" => 0, \"complexity\" => 1.0, \"blocking factor\" => 0, \"delay factor\" => 1.0), \"nameSub\" => \"Engineering Elective\", \"id\" => 44, \"credits\" => 3, \"nameCanonical\" => \"\"), Dict(\"curriculum_requisites\" => Dict{String, Any}[], \"name\" => \" \", \"metrics\" => Dict{String, Any}(\"centrality\" => 0, \"complexity\" => 1.0, \"blocking factor\" => 0, \"delay factor\" => 1.0), \"nameSub\" => \"Tier II General Ed\", \"id\" => 46, \"credits\" => 3, \"nameCanonical\" => \"\"), Dict(\"curriculum_requisites\" => Dict{String, Any}[Dict(\"source_id\" => 36, \"target_id\" => 43, \"type\" => \"CurriculumPrerequisite\")], \"name\" => \"CHEE 443\", \"metrics\" => Dict{String, Any}(\"centrality\" => 0, \"complexity\" => 8.0, \"blocking factor\" => 0, \"delay factor\" => 8.0), \"nameSub\" => \"Chem Eng Plant Design\", \"id\" => 43, \"credits\" => 3, \"nameCanonical\" => \"\"), Dict(\"curriculum_requisites\" => Dict{String, Any}[Dict(\"source_id\" => 26, \"target_id\" => 39, \"type\" => \"CurriculumPrerequisite\")], \"name\" => \"CHEM 480B\", \"metrics\" => Dict{String, Any}(\"centrality\" => 0, \"complexity\" => 5.0, \"blocking factor\" => 0, \"delay factor\" => 5.0), \"nameSub\" => \"Physical Chem\", \"id\" => 39, \"credits\" => 3, \"nameCanonical\" => \"\"), Dict(\"curriculum_requisites\" => Dict{String, Any}[], \"name\" => \" \", \"metrics\" => Dict{String, Any}(\"centrality\" => 0, \"complexity\" => 1.0, \"blocking factor\" => 0, \"delay factor\" => 1.0), \"nameSub\" => \"Tier I General Ed\", \"id\" => 34, \"credits\" => 3, \"nameCanonical\" => \"\"), Dict(\"curriculum_requisites\" => Dict{String, Any}[Dict(\"source_id\" => 41, \"target_id\" => 42, \"type\" => \"CurriculumCorequisite\"), Dict(\"source_id\" => 24, \"target_id\" => 42, \"type\" => \"CurriculumPrerequisite\"), Dict(\"source_id\" => 37, \"target_id\" => 42, \"type\" => \"CurriculumPrerequisite\")], \"name\" => \"CHEE 401B\", \"metrics\" => Dict{String, Any}(\"centrality\" => 0, \"complexity\" => 11.0, \"blocking factor\" => 0, \"delay factor\" => 11.0), \"nameSub\" => \"Process Dynamics and Control Lab\", \"id\" => 42, \"credits\" => 1, \"nameCanonical\" => \"\")], \"id\" => 8)], \"institution\" => \"University of Arizona\")), nothing)), Set{String}(), nothing, WebIO.Asset[], Dict{Any, Any}(), WebIO.ConnectionPool(Channel{Any}(32), Set{WebIO.AbstractConnection}(), Condition(Base.InvasiveLinkedList{Task}(Task (runnable) @0x0000000123feb640, Task (runnable) @0x0000000123feb640), Base.AlwaysLockedST(1))), WebIO.JSString[])"
      ]
     },
     "execution_count": 20,
     "metadata": {
      "application/vnd.webio.node+json": {
       "kernelId": "db1b1680-64da-4c66-8e01-17152a4bb28b"
      }
     },
     "output_type": "execute_result"
    }
   ],
   "source": [
    "curric = ChemE.curriculum\n",
    "dp = optimize_plan(curric, 8, 12, 20, [balance_obj])\n",
    "visualize(dp, notebook=true)"
   ]
  },
  {
   "cell_type": "code",
   "execution_count": 21,
   "metadata": {},
   "outputs": [
    {
     "data": {
      "application/vnd.webio.node+json": {
       "children": [
        {
         "children": [
          ""
         ],
         "instanceArgs": {
          "namespace": "html",
          "tag": "iframe"
         },
         "nodeType": "DOM",
         "props": {
          "events": {
           "load": "(function (){this.contentWindow.postMessage({\"options\":{\"hideTerms\":false,\"edit\":false},\"curriculum\":{\"name\":\"Pre-Engineering (Chemical Eng. Concentration)\",\"dp_name\":\"2019-20 Pima Pre-Engineering\",\"curriculum_terms\":[{\"name\":\"Term 1\",\"curriculum_items\":[{\"curriculum_requisites\":[],\"name\":\"MAT 220\",\"metrics\":{\"centrality\":0,\"complexity\":32.0,\"blocking factor\":23,\"delay factor\":9.0},\"nameSub\":\"Calculus I\",\"id\":1,\"credits\":5,\"nameCanonical\":\"Calculus I\"},{\"curriculum_requisites\":[{\"source_id\":3,\"target_id\":2,\"type\":\"CurriculumStrictCorequisite\"}],\"name\":\"CHM 151IN\",\"metrics\":{\"centrality\":126,\"complexity\":26.0,\"blocking factor\":17,\"delay factor\":9.0},\"nameSub\":\"Gen Chemistry I\",\"id\":2,\"credits\":4,\"nameCanonical\":\"General Chemsitry I\"},{\"curriculum_requisites\":[],\"name\":\"CHM 151RC\",\"metrics\":{\"centrality\":0,\"complexity\":27.0,\"blocking factor\":18,\"delay factor\":9.0},\"nameSub\":\"Gen Chemistry I Recitation\",\"id\":3,\"credits\":1,\"nameCanonical\":\"\"},{\"curriculum_requisites\":[],\"name\":\"WRT 101\",\"metrics\":{\"centrality\":0,\"complexity\":3.0,\"blocking factor\":1,\"delay factor\":2.0},\"nameSub\":\"English Composition I\",\"id\":4,\"credits\":3,\"nameCanonical\":\"English Composition I\"},{\"curriculum_requisites\":[{\"source_id\":1,\"target_id\":5,\"type\":\"CurriculumCorequisite\"}],\"name\":\"ENG 102IN\",\"metrics\":{\"centrality\":82,\"complexity\":20.0,\"blocking factor\":12,\"delay factor\":8.0},\"nameSub\":\"Problem-Solving and Engineering Design\",\"id\":5,\"credits\":3,\"nameCanonical\":\"Intro to Engineering\"},{\"curriculum_requisites\":[],\"name\":\" \",\"metrics\":{\"centrality\":0,\"complexity\":1.0,\"blocking factor\":0,\"delay factor\":1.0},\"nameSub\":\"AGEC-S Course\",\"id\":6,\"credits\":3,\"nameCanonical\":\"\"}],\"id\":1},{\"name\":\"Term 2\",\"curriculum_items\":[{\"curriculum_requisites\":[{\"source_id\":1,\"target_id\":7,\"type\":\"CurriculumPrerequisite\"}],\"name\":\"MAT 231\",\"metrics\":{\"centrality\":83,\"complexity\":20.0,\"blocking factor\":13,\"delay factor\":7.0},\"nameSub\":\"Calculus II\",\"id\":7,\"credits\":4,\"nameCanonical\":\"Calculus II\"},{\"curriculum_requisites\":[{\"source_id\":2,\"target_id\":8,\"type\":\"CurriculumPrerequisite\"},{\"source_id\":9,\"target_id\":8,\"type\":\"CurriculumStrictCorequisite\"}],\"name\":\"CHM 152IN\",\"metrics\":{\"centrality\":186,\"complexity\":23.0,\"blocking factor\":14,\"delay factor\":9.0},\"nameSub\":\"Gen Chemistry II\",\"id\":8,\"credits\":4,\"nameCanonical\":\"General Chemsitry II\"},{\"curriculum_requisites\":[],\"name\":\"CHM 152RC\",\"metrics\":{\"centrality\":0,\"complexity\":23.0,\"blocking factor\":15,\"delay factor\":8.0},\"nameSub\":\"Gen Chemistry II Recitation\",\"id\":9,\"credits\":1,\"nameCanonical\":\"\"},{\"curriculum_requisites\":[{\"source_id\":11,\"target_id\":10,\"type\":\"CurriculumStrictCorequisite\"},{\"source_id\":1,\"target_id\":10,\"type\":\"CurriculumPrerequisite\"}],\"name\":\"PHY 210IN\",\"metrics\":{\"centrality\":118,\"complexity\":18.0,\"blocking factor\":11,\"delay factor\":7.0},\"nameSub\":\"Intro Mechanics\",\"id\":10,\"credits\":4,\"nameCanonical\":\"\"},{\"curriculum_requisites\":[],\"name\":\"PHY 210RC\",\"metrics\":{\"centrality\":0,\"complexity\":19.0,\"blocking factor\":12,\"delay factor\":7.0},\"nameSub\":\"Intro Mechanics Recitation\",\"id\":11,\"credits\":1,\"nameCanonical\":\"\"},{\"curriculum_requisites\":[{\"source_id\":4,\"target_id\":12,\"type\":\"CurriculumPrerequisite\"}],\"name\":\"WRT 102\",\"metrics\":{\"centrality\":0,\"complexity\":2.0,\"blocking factor\":0,\"delay factor\":2.0},\"nameSub\":\" English Composition II\",\"id\":12,\"credits\":3,\"nameCanonical\":\" English Composition\"},{\"curriculum_requisites\":[{\"source_id\":1,\"target_id\":13,\"type\":\"CurriculumCorequisite\"}],\"name\":\"ENG 105IN\",\"metrics\":{\"centrality\":204,\"complexity\":23.0,\"blocking factor\":14,\"delay factor\":9.0},\"nameSub\":\"Intro to MATLAB I\",\"id\":13,\"credits\":1,\"nameCanonical\":\"\"}],\"id\":2},{\"name\":\"Term 3\",\"curriculum_items\":[{\"curriculum_requisites\":[],\"name\":\" \",\"metrics\":{\"centrality\":0,\"complexity\":1.0,\"blocking factor\":0,\"delay factor\":1.0},\"nameSub\":\"AGEC-S Course\",\"id\":14,\"credits\":3,\"nameCanonical\":\"\"},{\"curriculum_requisites\":[],\"name\":\" \",\"metrics\":{\"centrality\":0,\"complexity\":1.0,\"blocking factor\":0,\"delay factor\":1.0},\"nameSub\":\"AGEC-S Course\",\"id\":15,\"credits\":3,\"nameCanonical\":\"\"},{\"curriculum_requisites\":[{\"source_id\":7,\"target_id\":16,\"type\":\"CurriculumPrerequisite\"}],\"name\":\"MAT 241\",\"metrics\":{\"centrality\":0,\"complexity\":3.0,\"blocking factor\":0,\"delay factor\":3.0},\"nameSub\":\"Calculus III\",\"id\":16,\"credits\":4,\"nameCanonical\":\"Calculus III\"},{\"curriculum_requisites\":[{\"source_id\":18,\"target_id\":17,\"type\":\"CurriculumStrictCorequisite\"},{\"source_id\":8,\"target_id\":17,\"type\":\"CurriculumPrerequisite\"}],\"name\":\" 235IN\",\"metrics\":{\"centrality\":12,\"complexity\":6.0,\"blocking factor\":1,\"delay factor\":5.0},\"nameSub\":\"General Organic Chemistry I\",\"id\":17,\"credits\":4,\"nameCanonical\":\"Organic Chemistry I\"},{\"curriculum_requisites\":[],\"name\":\"CHM  235RC\",\"metrics\":{\"centrality\":0,\"complexity\":5.0,\"blocking factor\":2,\"delay factor\":3.0},\"nameSub\":\"General Organic Chemistry I Recitation\",\"id\":18,\"credits\":1,\"nameCanonical\":\"\"},{\"curriculum_requisites\":[],\"name\":\" \",\"metrics\":{\"centrality\":0,\"complexity\":12.0,\"blocking factor\":6,\"delay factor\":6.0},\"nameSub\":\"AGEC-S Course\",\"id\":19,\"credits\":3,\"nameCanonical\":\"\"}],\"id\":3},{\"name\":\"Term 4\",\"curriculum_items\":[{\"curriculum_requisites\":[],\"name\":\" \",\"metrics\":{\"centrality\":0,\"complexity\":1.0,\"blocking factor\":0,\"delay factor\":1.0},\"nameSub\":\"AGEC-S Course\",\"id\":20,\"credits\":3,\"nameCanonical\":\"\"},{\"curriculum_requisites\":[],\"name\":\" \",\"metrics\":{\"centrality\":0,\"complexity\":1.0,\"blocking factor\":0,\"delay factor\":1.0},\"nameSub\":\"AGEC-S Course\",\"id\":21,\"credits\":3,\"nameCanonical\":\"\"},{\"curriculum_requisites\":[{\"source_id\":7,\"target_id\":22,\"type\":\"CurriculumPrerequisite\"}],\"name\":\"MAT 262\",\"metrics\":{\"centrality\":23,\"complexity\":12.0,\"blocking factor\":5,\"delay factor\":7.0},\"nameSub\":\"Differential Equations\",\"id\":22,\"credits\":3,\"nameCanonical\":\"Differential Equations\"},{\"curriculum_requisites\":[{\"source_id\":7,\"target_id\":23,\"type\":\"CurriculumPrerequisite\"},{\"source_id\":10,\"target_id\":23,\"type\":\"CurriculumPrerequisite\"},{\"source_id\":24,\"target_id\":23,\"type\":\"CurriculumStrictCorequisite\"}],\"name\":\"PHY 216IN\",\"metrics\":{\"centrality\":119,\"complexity\":14.0,\"blocking factor\":7,\"delay factor\":7.0},\"nameSub\":\"Intro Electricity & Magnetism\",\"id\":23,\"credits\":4,\"nameCanonical\":\"\"},{\"curriculum_requisites\":[],\"name\":\"PHY 216RC\",\"metrics\":{\"centrality\":0,\"complexity\":14.0,\"blocking factor\":8,\"delay factor\":6.0},\"nameSub\":\"Intro Electricity & Magnetism\",\"id\":24,\"credits\":1,\"nameCanonical\":\"\"},{\"curriculum_requisites\":[{\"source_id\":26,\"target_id\":25,\"type\":\"CurriculumStrictCorequisite\"},{\"source_id\":17,\"target_id\":25,\"type\":\"CurriculumPrerequisite\"}],\"name\":\"CHM 236IN\",\"metrics\":{\"centrality\":0,\"complexity\":5.0,\"blocking factor\":0,\"delay factor\":5.0},\"nameSub\":\"General Organic Chemistry II\",\"id\":25,\"credits\":4,\"nameCanonical\":\"Organic Chemistry II\"},{\"curriculum_requisites\":[],\"name\":\"CHM  236RC\",\"metrics\":{\"centrality\":0,\"complexity\":3.0,\"blocking factor\":1,\"delay factor\":2.0},\"nameSub\":\"General Organic Chemistry II Recitation\",\"id\":26,\"credits\":1,\"nameCanonical\":\"\"},{\"curriculum_requisites\":[{\"source_id\":13,\"target_id\":27,\"type\":\"CurriculumPrerequisite\"}],\"name\":\"ENG 205IN\",\"metrics\":{\"centrality\":95,\"complexity\":21.0,\"blocking factor\":12,\"delay factor\":9.0},\"nameSub\":\"Intro to MATLAB II\",\"id\":27,\"credits\":1,\"nameCanonical\":\"\"}],\"id\":4},{\"name\":\"Term 5\",\"curriculum_items\":[{\"curriculum_requisites\":[{\"source_id\":5,\"target_id\":28,\"type\":\"CurriculumPrerequisite\"},{\"source_id\":13,\"target_id\":28,\"type\":\"CurriculumPrerequisite\"},{\"source_id\":27,\"target_id\":28,\"type\":\"CurriculumCorequisite\"},{\"source_id\":8,\"target_id\":28,\"type\":\"CurriculumPrerequisite\"},{\"source_id\":1,\"target_id\":28,\"type\":\"CurriculumPrerequisite\"}],\"name\":\"CHEE 201\",\"metrics\":{\"centrality\":505,\"complexity\":20.0,\"blocking factor\":11,\"delay factor\":9.0},\"nameSub\":\"Elements of Chem and Envirn Eng I\",\"id\":28,\"credits\":3,\"nameCanonical\":\"\"},{\"curriculum_requisites\":[{\"source_id\":13,\"target_id\":29,\"type\":\"CurriculumCorequisite\"},{\"source_id\":1,\"target_id\":29,\"type\":\"CurriculumPrerequisite\"}],\"name\":\" 201L\",\"metrics\":{\"centrality\":50,\"complexity\":14.0,\"blocking factor\":6,\"delay factor\":8.0},\"nameSub\":\"Elements of Chem and Envirn Eng I Lab\",\"id\":29,\"credits\":1,\"nameCanonical\":\"\"},{\"curriculum_requisites\":[{\"source_id\":7,\"target_id\":30,\"type\":\"CurriculumPrerequisite\"},{\"source_id\":2,\"target_id\":30,\"type\":\"CurriculumPrerequisite\"},{\"source_id\":23,\"target_id\":30,\"type\":\"CurriculumPrerequisite\"}],\"name\":\"CHEM 480A\",\"metrics\":{\"centrality\":171,\"complexity\":13.0,\"blocking factor\":6,\"delay factor\":7.0},\"nameSub\":\"Physical Chem\",\"id\":30,\"credits\":3,\"nameCanonical\":\"\"},{\"curriculum_requisites\":[],\"name\":\" \",\"metrics\":{\"centrality\":0,\"complexity\":1.0,\"blocking factor\":0,\"delay factor\":1.0},\"nameSub\":\"Engineering Elective\",\"id\":31,\"credits\":3,\"nameCanonical\":\"\"},{\"curriculum_requisites\":[],\"name\":\" \",\"metrics\":{\"centrality\":0,\"complexity\":1.0,\"blocking factor\":0,\"delay factor\":1.0},\"nameSub\":\"Engineering Elective\",\"id\":32,\"credits\":3,\"nameCanonical\":\"\"}],\"id\":5},{\"name\":\"Term 6\",\"curriculum_items\":[{\"curriculum_requisites\":[],\"name\":\" \",\"metrics\":{\"centrality\":0,\"complexity\":1.0,\"blocking factor\":0,\"delay factor\":1.0},\"nameSub\":\"Technical Elective\",\"id\":33,\"credits\":3,\"nameCanonical\":\"\"},{\"curriculum_requisites\":[{\"source_id\":29,\"target_id\":34,\"type\":\"CurriculumPrerequisite\"},{\"source_id\":28,\"target_id\":34,\"type\":\"CurriculumPrerequisite\"},{\"source_id\":19,\"target_id\":34,\"type\":\"CurriculumCorequisite\"}],\"name\":\"CHEE 202\",\"metrics\":{\"centrality\":235,\"complexity\":14.0,\"blocking factor\":5,\"delay factor\":9.0},\"nameSub\":\"Elements of Chem Eng II\",\"id\":34,\"credits\":4,\"nameCanonical\":\"\"},{\"curriculum_requisites\":[{\"source_id\":10,\"target_id\":35,\"type\":\"CurriculumPrerequisite\"},{\"source_id\":28,\"target_id\":35,\"type\":\"CurriculumPrerequisite\"}],\"name\":\"CHEE 203\",\"metrics\":{\"centrality\":259,\"complexity\":14.0,\"blocking factor\":5,\"delay factor\":9.0},\"nameSub\":\"Chem Eng Heat Xfer & Fluid Flow\",\"id\":35,\"credits\":3,\"nameCanonical\":\"\"},{\"curriculum_requisites\":[],\"name\":\" \",\"metrics\":{\"centrality\":0,\"complexity\":1.0,\"blocking factor\":0,\"delay factor\":1.0},\"nameSub\":\"Engineering Elective\",\"id\":36,\"credits\":3,\"nameCanonical\":\"\"},{\"curriculum_requisites\":[],\"name\":\" \",\"metrics\":{\"centrality\":0,\"complexity\":1.0,\"blocking factor\":0,\"delay factor\":1.0},\"nameSub\":\"Technical Elective\",\"id\":37,\"credits\":3,\"nameCanonical\":\"\"}],\"id\":6},{\"name\":\"Term 7\",\"curriculum_items\":[{\"curriculum_requisites\":[{\"source_id\":35,\"target_id\":38,\"type\":\"CurriculumPrerequisite\"}],\"name\":\"CHEE 303\",\"metrics\":{\"centrality\":212,\"complexity\":13.0,\"blocking factor\":4,\"delay factor\":9.0},\"nameSub\":\"Chem Eng Mass Xfer\",\"id\":38,\"credits\":3,\"nameCanonical\":\"\"},{\"curriculum_requisites\":[{\"source_id\":22,\"target_id\":39,\"type\":\"CurriculumPrerequisite\"},{\"source_id\":34,\"target_id\":39,\"type\":\"CurriculumPrerequisite\"}],\"name\":\"CHEE 402\",\"metrics\":{\"centrality\":201,\"complexity\":13.0,\"blocking factor\":4,\"delay factor\":9.0},\"nameSub\":\"Chem Eng Modeling\",\"id\":39,\"credits\":3,\"nameCanonical\":\"\"},{\"curriculum_requisites\":[],\"name\":\"CHEE 489\",\"metrics\":{\"centrality\":0,\"complexity\":1.0,\"blocking factor\":0,\"delay factor\":1.0},\"nameSub\":\"Trends in Nanomedicine Eng\",\"id\":41,\"credits\":3,\"nameCanonical\":\"\"}],\"id\":7},{\"name\":\"Term 8\",\"curriculum_items\":[{\"curriculum_requisites\":[{\"source_id\":22,\"target_id\":40,\"type\":\"CurriculumPrerequisite\"},{\"source_id\":34,\"target_id\":40,\"type\":\"CurriculumPrerequisite\"},{\"source_id\":35,\"target_id\":40,\"type\":\"CurriculumPrerequisite\"},{\"source_id\":43,\"target_id\":40,\"type\":\"CurriculumCorequisite\"},{\"source_id\":42,\"target_id\":40,\"type\":\"CurriculumCorequisite\"}],\"name\":\"CHEE 301A\",\"metrics\":{\"centrality\":320,\"complexity\":10.0,\"blocking factor\":1,\"delay factor\":9.0},\"nameSub\":\"Chem Eng Lab I\",\"id\":40,\"credits\":1,\"nameCanonical\":\"\"},{\"curriculum_requisites\":[{\"source_id\":39,\"target_id\":42,\"type\":\"CurriculumPrerequisite\"},{\"source_id\":38,\"target_id\":42,\"type\":\"CurriculumPrerequisite\"}],\"name\":\"CHEE 305\",\"metrics\":{\"centrality\":262,\"complexity\":11.0,\"blocking factor\":2,\"delay factor\":9.0},\"nameSub\":\"Chem Eng Transport Phenom\",\"id\":42,\"credits\":3,\"nameCanonical\":\"\"},{\"curriculum_requisites\":[{\"source_id\":30,\"target_id\":43,\"type\":\"CurriculumPrerequisite\"},{\"source_id\":28,\"target_id\":43,\"type\":\"CurriculumPrerequisite\"}],\"name\":\"CHEE 326\",\"metrics\":{\"centrality\":280,\"complexity\":11.0,\"blocking factor\":4,\"delay factor\":7.0},\"nameSub\":\"Chem & Phys Equilibrium\",\"id\":43,\"credits\":3,\"nameCanonical\":\"\"},{\"curriculum_requisites\":[{\"source_id\":30,\"target_id\":48,\"type\":\"CurriculumPrerequisite\"}],\"name\":\"CHEM 480B\",\"metrics\":{\"centrality\":0,\"complexity\":5.0,\"blocking factor\":0,\"delay factor\":5.0},\"nameSub\":\"Physical Chem\",\"id\":48,\"credits\":3,\"nameCanonical\":\"\"},{\"curriculum_requisites\":[{\"source_id\":39,\"target_id\":49,\"type\":\"CurriculumPrerequisite\"}],\"name\":\"CHEE 413\",\"metrics\":{\"centrality\":0,\"complexity\":7.0,\"blocking factor\":0,\"delay factor\":7.0},\"nameSub\":\"Process Control and Simulation\",\"id\":49,\"credits\":3,\"nameCanonical\":\"\"}],\"id\":8},{\"name\":\"Term 9\",\"curriculum_items\":[{\"curriculum_requisites\":[{\"source_id\":43,\"target_id\":45,\"type\":\"CurriculumPrerequisite\"}],\"name\":\"CHEE 420\",\"metrics\":{\"centrality\":76,\"complexity\":8.0,\"blocking factor\":1,\"delay factor\":7.0},\"nameSub\":\"Chem Reaction Eng\",\"id\":45,\"credits\":3,\"nameCanonical\":\"\"},{\"curriculum_requisites\":[{\"source_id\":43,\"target_id\":46,\"type\":\"CurriculumPrerequisite\"},{\"source_id\":45,\"target_id\":46,\"type\":\"CurriculumStrictCorequisite\"},{\"source_id\":38,\"target_id\":46,\"type\":\"CurriculumPrerequisite\"}],\"name\":\"CHEE 442\",\"metrics\":{\"centrality\":0,\"complexity\":7.0,\"blocking factor\":0,\"delay factor\":7.0},\"nameSub\":\"Chem Eng Design Principles\",\"id\":46,\"credits\":3,\"nameCanonical\":\"\"},{\"curriculum_requisites\":[{\"source_id\":43,\"target_id\":44,\"type\":\"CurriculumStrictCorequisite\"},{\"source_id\":38,\"target_id\":44,\"type\":\"CurriculumPrerequisite\"},{\"source_id\":42,\"target_id\":44,\"type\":\"CurriculumStrictCorequisite\"},{\"source_id\":40,\"target_id\":44,\"type\":\"CurriculumPrerequisite\"}],\"name\":\"CHEE 301B\",\"metrics\":{\"centrality\":0,\"complexity\":9.0,\"blocking factor\":0,\"delay factor\":9.0},\"nameSub\":\"Chem Eng Lab II\",\"id\":44,\"credits\":1,\"nameCanonical\":\"\"}],\"id\":9}],\"institution\":\"Pima Community College\"}},\"*\"); window.removeEventListener(\"message\",window.messageReceived); window.messageReceived=(function (event){return (event.data.curriculum!==undefined) ? (WebIO.setval({\"name\":\"curriculum-data\",\"scope\":\"12158872664900606211\",\"id\":\"17025928075642137750\",\"type\":\"observable\"},event.data.curriculum)) : undefined}); return window.addEventListener(\"message\",window.messageReceived)})"
          },
          "id": "curriculum",
          "src": "https://curricula-api-embed.damoursystems.com/",
          "style": {
           "border": "none",
           "height": "85vh",
           "margin": "0",
           "padding": "0",
           "width": "100%"
          }
         },
         "type": "node"
        }
       ],
       "instanceArgs": {
        "handlers": {},
        "id": "12158872664900606211",
        "imports": {
         "data": [],
         "type": "async_block"
        },
        "mount_callbacks": [],
        "observables": {
         "curriculum-data": {
          "id": "17025928075642137750",
          "sync": true,
          "value": {
           "curriculum": {
            "curriculum_terms": [
             {
              "curriculum_items": [
               {
                "credits": 5,
                "curriculum_requisites": [],
                "id": 1,
                "metrics": {
                 "blocking factor": 23,
                 "centrality": 0,
                 "complexity": 32,
                 "delay factor": 9
                },
                "name": "MAT 220",
                "nameCanonical": "Calculus I",
                "nameSub": "Calculus I"
               },
               {
                "credits": 4,
                "curriculum_requisites": [
                 {
                  "source_id": 3,
                  "target_id": 2,
                  "type": "CurriculumStrictCorequisite"
                 }
                ],
                "id": 2,
                "metrics": {
                 "blocking factor": 17,
                 "centrality": 126,
                 "complexity": 26,
                 "delay factor": 9
                },
                "name": "CHM 151IN",
                "nameCanonical": "General Chemsitry I",
                "nameSub": "Gen Chemistry I"
               },
               {
                "credits": 1,
                "curriculum_requisites": [],
                "id": 3,
                "metrics": {
                 "blocking factor": 18,
                 "centrality": 0,
                 "complexity": 27,
                 "delay factor": 9
                },
                "name": "CHM 151RC",
                "nameCanonical": "",
                "nameSub": "Gen Chemistry I Recitation"
               },
               {
                "credits": 3,
                "curriculum_requisites": [],
                "id": 4,
                "metrics": {
                 "blocking factor": 1,
                 "centrality": 0,
                 "complexity": 3,
                 "delay factor": 2
                },
                "name": "WRT 101",
                "nameCanonical": "English Composition I",
                "nameSub": "English Composition I"
               },
               {
                "credits": 3,
                "curriculum_requisites": [
                 {
                  "source_id": 1,
                  "target_id": 5,
                  "type": "CurriculumCorequisite"
                 }
                ],
                "id": 5,
                "metrics": {
                 "blocking factor": 12,
                 "centrality": 82,
                 "complexity": 20,
                 "delay factor": 8
                },
                "name": "ENG 102IN",
                "nameCanonical": "Intro to Engineering",
                "nameSub": "Problem-Solving and Engineering Design"
               },
               {
                "credits": 3,
                "curriculum_requisites": [],
                "id": 6,
                "metrics": {
                 "blocking factor": 0,
                 "centrality": 0,
                 "complexity": 1,
                 "delay factor": 1
                },
                "name": " ",
                "nameCanonical": "",
                "nameSub": "AGEC-S Course"
               }
              ],
              "id": 1,
              "name": "Term 1"
             },
             {
              "curriculum_items": [
               {
                "credits": 4,
                "curriculum_requisites": [
                 {
                  "source_id": 1,
                  "target_id": 7,
                  "type": "CurriculumPrerequisite"
                 }
                ],
                "id": 7,
                "metrics": {
                 "blocking factor": 13,
                 "centrality": 83,
                 "complexity": 20,
                 "delay factor": 7
                },
                "name": "MAT 231",
                "nameCanonical": "Calculus II",
                "nameSub": "Calculus II"
               },
               {
                "credits": 4,
                "curriculum_requisites": [
                 {
                  "source_id": 2,
                  "target_id": 8,
                  "type": "CurriculumPrerequisite"
                 },
                 {
                  "source_id": 9,
                  "target_id": 8,
                  "type": "CurriculumStrictCorequisite"
                 }
                ],
                "id": 8,
                "metrics": {
                 "blocking factor": 14,
                 "centrality": 186,
                 "complexity": 23,
                 "delay factor": 9
                },
                "name": "CHM 152IN",
                "nameCanonical": "General Chemsitry II",
                "nameSub": "Gen Chemistry II"
               },
               {
                "credits": 1,
                "curriculum_requisites": [],
                "id": 9,
                "metrics": {
                 "blocking factor": 15,
                 "centrality": 0,
                 "complexity": 23,
                 "delay factor": 8
                },
                "name": "CHM 152RC",
                "nameCanonical": "",
                "nameSub": "Gen Chemistry II Recitation"
               },
               {
                "credits": 4,
                "curriculum_requisites": [
                 {
                  "source_id": 11,
                  "target_id": 10,
                  "type": "CurriculumStrictCorequisite"
                 },
                 {
                  "source_id": 1,
                  "target_id": 10,
                  "type": "CurriculumPrerequisite"
                 }
                ],
                "id": 10,
                "metrics": {
                 "blocking factor": 11,
                 "centrality": 118,
                 "complexity": 18,
                 "delay factor": 7
                },
                "name": "PHY 210IN",
                "nameCanonical": "",
                "nameSub": "Intro Mechanics"
               },
               {
                "credits": 1,
                "curriculum_requisites": [],
                "id": 11,
                "metrics": {
                 "blocking factor": 12,
                 "centrality": 0,
                 "complexity": 19,
                 "delay factor": 7
                },
                "name": "PHY 210RC",
                "nameCanonical": "",
                "nameSub": "Intro Mechanics Recitation"
               },
               {
                "credits": 3,
                "curriculum_requisites": [
                 {
                  "source_id": 4,
                  "target_id": 12,
                  "type": "CurriculumPrerequisite"
                 }
                ],
                "id": 12,
                "metrics": {
                 "blocking factor": 0,
                 "centrality": 0,
                 "complexity": 2,
                 "delay factor": 2
                },
                "name": "WRT 102",
                "nameCanonical": " English Composition",
                "nameSub": " English Composition II"
               },
               {
                "credits": 1,
                "curriculum_requisites": [
                 {
                  "source_id": 1,
                  "target_id": 13,
                  "type": "CurriculumCorequisite"
                 }
                ],
                "id": 13,
                "metrics": {
                 "blocking factor": 14,
                 "centrality": 204,
                 "complexity": 23,
                 "delay factor": 9
                },
                "name": "ENG 105IN",
                "nameCanonical": "",
                "nameSub": "Intro to MATLAB I"
               }
              ],
              "id": 2,
              "name": "Term 2"
             },
             {
              "curriculum_items": [
               {
                "credits": 3,
                "curriculum_requisites": [],
                "id": 14,
                "metrics": {
                 "blocking factor": 0,
                 "centrality": 0,
                 "complexity": 1,
                 "delay factor": 1
                },
                "name": " ",
                "nameCanonical": "",
                "nameSub": "AGEC-S Course"
               },
               {
                "credits": 3,
                "curriculum_requisites": [],
                "id": 15,
                "metrics": {
                 "blocking factor": 0,
                 "centrality": 0,
                 "complexity": 1,
                 "delay factor": 1
                },
                "name": " ",
                "nameCanonical": "",
                "nameSub": "AGEC-S Course"
               },
               {
                "credits": 4,
                "curriculum_requisites": [
                 {
                  "source_id": 7,
                  "target_id": 16,
                  "type": "CurriculumPrerequisite"
                 }
                ],
                "id": 16,
                "metrics": {
                 "blocking factor": 0,
                 "centrality": 0,
                 "complexity": 3,
                 "delay factor": 3
                },
                "name": "MAT 241",
                "nameCanonical": "Calculus III",
                "nameSub": "Calculus III"
               },
               {
                "credits": 4,
                "curriculum_requisites": [
                 {
                  "source_id": 18,
                  "target_id": 17,
                  "type": "CurriculumStrictCorequisite"
                 },
                 {
                  "source_id": 8,
                  "target_id": 17,
                  "type": "CurriculumPrerequisite"
                 }
                ],
                "id": 17,
                "metrics": {
                 "blocking factor": 1,
                 "centrality": 12,
                 "complexity": 6,
                 "delay factor": 5
                },
                "name": " 235IN",
                "nameCanonical": "Organic Chemistry I",
                "nameSub": "General Organic Chemistry I"
               },
               {
                "credits": 1,
                "curriculum_requisites": [],
                "id": 18,
                "metrics": {
                 "blocking factor": 2,
                 "centrality": 0,
                 "complexity": 5,
                 "delay factor": 3
                },
                "name": "CHM  235RC",
                "nameCanonical": "",
                "nameSub": "General Organic Chemistry I Recitation"
               },
               {
                "credits": 3,
                "curriculum_requisites": [],
                "id": 19,
                "metrics": {
                 "blocking factor": 6,
                 "centrality": 0,
                 "complexity": 12,
                 "delay factor": 6
                },
                "name": " ",
                "nameCanonical": "",
                "nameSub": "AGEC-S Course"
               }
              ],
              "id": 3,
              "name": "Term 3"
             },
             {
              "curriculum_items": [
               {
                "credits": 3,
                "curriculum_requisites": [],
                "id": 20,
                "metrics": {
                 "blocking factor": 0,
                 "centrality": 0,
                 "complexity": 1,
                 "delay factor": 1
                },
                "name": " ",
                "nameCanonical": "",
                "nameSub": "AGEC-S Course"
               },
               {
                "credits": 3,
                "curriculum_requisites": [],
                "id": 21,
                "metrics": {
                 "blocking factor": 0,
                 "centrality": 0,
                 "complexity": 1,
                 "delay factor": 1
                },
                "name": " ",
                "nameCanonical": "",
                "nameSub": "AGEC-S Course"
               },
               {
                "credits": 3,
                "curriculum_requisites": [
                 {
                  "source_id": 7,
                  "target_id": 22,
                  "type": "CurriculumPrerequisite"
                 }
                ],
                "id": 22,
                "metrics": {
                 "blocking factor": 5,
                 "centrality": 23,
                 "complexity": 12,
                 "delay factor": 7
                },
                "name": "MAT 262",
                "nameCanonical": "Differential Equations",
                "nameSub": "Differential Equations"
               },
               {
                "credits": 4,
                "curriculum_requisites": [
                 {
                  "source_id": 7,
                  "target_id": 23,
                  "type": "CurriculumPrerequisite"
                 },
                 {
                  "source_id": 10,
                  "target_id": 23,
                  "type": "CurriculumPrerequisite"
                 },
                 {
                  "source_id": 24,
                  "target_id": 23,
                  "type": "CurriculumStrictCorequisite"
                 }
                ],
                "id": 23,
                "metrics": {
                 "blocking factor": 7,
                 "centrality": 119,
                 "complexity": 14,
                 "delay factor": 7
                },
                "name": "PHY 216IN",
                "nameCanonical": "",
                "nameSub": "Intro Electricity & Magnetism"
               },
               {
                "credits": 1,
                "curriculum_requisites": [],
                "id": 24,
                "metrics": {
                 "blocking factor": 8,
                 "centrality": 0,
                 "complexity": 14,
                 "delay factor": 6
                },
                "name": "PHY 216RC",
                "nameCanonical": "",
                "nameSub": "Intro Electricity & Magnetism"
               },
               {
                "credits": 4,
                "curriculum_requisites": [
                 {
                  "source_id": 26,
                  "target_id": 25,
                  "type": "CurriculumStrictCorequisite"
                 },
                 {
                  "source_id": 17,
                  "target_id": 25,
                  "type": "CurriculumPrerequisite"
                 }
                ],
                "id": 25,
                "metrics": {
                 "blocking factor": 0,
                 "centrality": 0,
                 "complexity": 5,
                 "delay factor": 5
                },
                "name": "CHM 236IN",
                "nameCanonical": "Organic Chemistry II",
                "nameSub": "General Organic Chemistry II"
               },
               {
                "credits": 1,
                "curriculum_requisites": [],
                "id": 26,
                "metrics": {
                 "blocking factor": 1,
                 "centrality": 0,
                 "complexity": 3,
                 "delay factor": 2
                },
                "name": "CHM  236RC",
                "nameCanonical": "",
                "nameSub": "General Organic Chemistry II Recitation"
               },
               {
                "credits": 1,
                "curriculum_requisites": [
                 {
                  "source_id": 13,
                  "target_id": 27,
                  "type": "CurriculumPrerequisite"
                 }
                ],
                "id": 27,
                "metrics": {
                 "blocking factor": 12,
                 "centrality": 95,
                 "complexity": 21,
                 "delay factor": 9
                },
                "name": "ENG 205IN",
                "nameCanonical": "",
                "nameSub": "Intro to MATLAB II"
               }
              ],
              "id": 4,
              "name": "Term 4"
             },
             {
              "curriculum_items": [
               {
                "credits": 3,
                "curriculum_requisites": [
                 {
                  "source_id": 5,
                  "target_id": 28,
                  "type": "CurriculumPrerequisite"
                 },
                 {
                  "source_id": 13,
                  "target_id": 28,
                  "type": "CurriculumPrerequisite"
                 },
                 {
                  "source_id": 27,
                  "target_id": 28,
                  "type": "CurriculumCorequisite"
                 },
                 {
                  "source_id": 8,
                  "target_id": 28,
                  "type": "CurriculumPrerequisite"
                 },
                 {
                  "source_id": 1,
                  "target_id": 28,
                  "type": "CurriculumPrerequisite"
                 }
                ],
                "id": 28,
                "metrics": {
                 "blocking factor": 11,
                 "centrality": 505,
                 "complexity": 20,
                 "delay factor": 9
                },
                "name": "CHEE 201",
                "nameCanonical": "",
                "nameSub": "Elements of Chem and Envirn Eng I"
               },
               {
                "credits": 1,
                "curriculum_requisites": [
                 {
                  "source_id": 13,
                  "target_id": 29,
                  "type": "CurriculumCorequisite"
                 },
                 {
                  "source_id": 1,
                  "target_id": 29,
                  "type": "CurriculumPrerequisite"
                 }
                ],
                "id": 29,
                "metrics": {
                 "blocking factor": 6,
                 "centrality": 50,
                 "complexity": 14,
                 "delay factor": 8
                },
                "name": " 201L",
                "nameCanonical": "",
                "nameSub": "Elements of Chem and Envirn Eng I Lab"
               },
               {
                "credits": 3,
                "curriculum_requisites": [
                 {
                  "source_id": 7,
                  "target_id": 30,
                  "type": "CurriculumPrerequisite"
                 },
                 {
                  "source_id": 2,
                  "target_id": 30,
                  "type": "CurriculumPrerequisite"
                 },
                 {
                  "source_id": 23,
                  "target_id": 30,
                  "type": "CurriculumPrerequisite"
                 }
                ],
                "id": 30,
                "metrics": {
                 "blocking factor": 6,
                 "centrality": 171,
                 "complexity": 13,
                 "delay factor": 7
                },
                "name": "CHEM 480A",
                "nameCanonical": "",
                "nameSub": "Physical Chem"
               },
               {
                "credits": 3,
                "curriculum_requisites": [],
                "id": 31,
                "metrics": {
                 "blocking factor": 0,
                 "centrality": 0,
                 "complexity": 1,
                 "delay factor": 1
                },
                "name": " ",
                "nameCanonical": "",
                "nameSub": "Engineering Elective"
               },
               {
                "credits": 3,
                "curriculum_requisites": [],
                "id": 32,
                "metrics": {
                 "blocking factor": 0,
                 "centrality": 0,
                 "complexity": 1,
                 "delay factor": 1
                },
                "name": " ",
                "nameCanonical": "",
                "nameSub": "Engineering Elective"
               }
              ],
              "id": 5,
              "name": "Term 5"
             },
             {
              "curriculum_items": [
               {
                "credits": 3,
                "curriculum_requisites": [],
                "id": 33,
                "metrics": {
                 "blocking factor": 0,
                 "centrality": 0,
                 "complexity": 1,
                 "delay factor": 1
                },
                "name": " ",
                "nameCanonical": "",
                "nameSub": "Technical Elective"
               },
               {
                "credits": 4,
                "curriculum_requisites": [
                 {
                  "source_id": 29,
                  "target_id": 34,
                  "type": "CurriculumPrerequisite"
                 },
                 {
                  "source_id": 28,
                  "target_id": 34,
                  "type": "CurriculumPrerequisite"
                 },
                 {
                  "source_id": 19,
                  "target_id": 34,
                  "type": "CurriculumCorequisite"
                 }
                ],
                "id": 34,
                "metrics": {
                 "blocking factor": 5,
                 "centrality": 235,
                 "complexity": 14,
                 "delay factor": 9
                },
                "name": "CHEE 202",
                "nameCanonical": "",
                "nameSub": "Elements of Chem Eng II"
               },
               {
                "credits": 3,
                "curriculum_requisites": [
                 {
                  "source_id": 10,
                  "target_id": 35,
                  "type": "CurriculumPrerequisite"
                 },
                 {
                  "source_id": 28,
                  "target_id": 35,
                  "type": "CurriculumPrerequisite"
                 }
                ],
                "id": 35,
                "metrics": {
                 "blocking factor": 5,
                 "centrality": 259,
                 "complexity": 14,
                 "delay factor": 9
                },
                "name": "CHEE 203",
                "nameCanonical": "",
                "nameSub": "Chem Eng Heat Xfer & Fluid Flow"
               },
               {
                "credits": 3,
                "curriculum_requisites": [],
                "id": 36,
                "metrics": {
                 "blocking factor": 0,
                 "centrality": 0,
                 "complexity": 1,
                 "delay factor": 1
                },
                "name": " ",
                "nameCanonical": "",
                "nameSub": "Engineering Elective"
               },
               {
                "credits": 3,
                "curriculum_requisites": [],
                "id": 37,
                "metrics": {
                 "blocking factor": 0,
                 "centrality": 0,
                 "complexity": 1,
                 "delay factor": 1
                },
                "name": " ",
                "nameCanonical": "",
                "nameSub": "Technical Elective"
               }
              ],
              "id": 6,
              "name": "Term 6"
             },
             {
              "curriculum_items": [
               {
                "credits": 3,
                "curriculum_requisites": [
                 {
                  "source_id": 35,
                  "target_id": 38,
                  "type": "CurriculumPrerequisite"
                 }
                ],
                "id": 38,
                "metrics": {
                 "blocking factor": 4,
                 "centrality": 212,
                 "complexity": 13,
                 "delay factor": 9
                },
                "name": "CHEE 303",
                "nameCanonical": "",
                "nameSub": "Chem Eng Mass Xfer"
               },
               {
                "credits": 3,
                "curriculum_requisites": [
                 {
                  "source_id": 22,
                  "target_id": 39,
                  "type": "CurriculumPrerequisite"
                 },
                 {
                  "source_id": 34,
                  "target_id": 39,
                  "type": "CurriculumPrerequisite"
                 }
                ],
                "id": 39,
                "metrics": {
                 "blocking factor": 4,
                 "centrality": 201,
                 "complexity": 13,
                 "delay factor": 9
                },
                "name": "CHEE 402",
                "nameCanonical": "",
                "nameSub": "Chem Eng Modeling"
               },
               {
                "credits": 3,
                "curriculum_requisites": [],
                "id": 41,
                "metrics": {
                 "blocking factor": 0,
                 "centrality": 0,
                 "complexity": 1,
                 "delay factor": 1
                },
                "name": "CHEE 489",
                "nameCanonical": "",
                "nameSub": "Trends in Nanomedicine Eng"
               }
              ],
              "id": 7,
              "name": "Term 7"
             },
             {
              "curriculum_items": [
               {
                "credits": 1,
                "curriculum_requisites": [
                 {
                  "source_id": 22,
                  "target_id": 40,
                  "type": "CurriculumPrerequisite"
                 },
                 {
                  "source_id": 34,
                  "target_id": 40,
                  "type": "CurriculumPrerequisite"
                 },
                 {
                  "source_id": 35,
                  "target_id": 40,
                  "type": "CurriculumPrerequisite"
                 },
                 {
                  "source_id": 43,
                  "target_id": 40,
                  "type": "CurriculumCorequisite"
                 },
                 {
                  "source_id": 42,
                  "target_id": 40,
                  "type": "CurriculumCorequisite"
                 }
                ],
                "id": 40,
                "metrics": {
                 "blocking factor": 1,
                 "centrality": 320,
                 "complexity": 10,
                 "delay factor": 9
                },
                "name": "CHEE 301A",
                "nameCanonical": "",
                "nameSub": "Chem Eng Lab I"
               },
               {
                "credits": 3,
                "curriculum_requisites": [
                 {
                  "source_id": 39,
                  "target_id": 42,
                  "type": "CurriculumPrerequisite"
                 },
                 {
                  "source_id": 38,
                  "target_id": 42,
                  "type": "CurriculumPrerequisite"
                 }
                ],
                "id": 42,
                "metrics": {
                 "blocking factor": 2,
                 "centrality": 262,
                 "complexity": 11,
                 "delay factor": 9
                },
                "name": "CHEE 305",
                "nameCanonical": "",
                "nameSub": "Chem Eng Transport Phenom"
               },
               {
                "credits": 3,
                "curriculum_requisites": [
                 {
                  "source_id": 30,
                  "target_id": 43,
                  "type": "CurriculumPrerequisite"
                 },
                 {
                  "source_id": 28,
                  "target_id": 43,
                  "type": "CurriculumPrerequisite"
                 }
                ],
                "id": 43,
                "metrics": {
                 "blocking factor": 4,
                 "centrality": 280,
                 "complexity": 11,
                 "delay factor": 7
                },
                "name": "CHEE 326",
                "nameCanonical": "",
                "nameSub": "Chem & Phys Equilibrium"
               },
               {
                "credits": 3,
                "curriculum_requisites": [
                 {
                  "source_id": 30,
                  "target_id": 48,
                  "type": "CurriculumPrerequisite"
                 }
                ],
                "id": 48,
                "metrics": {
                 "blocking factor": 0,
                 "centrality": 0,
                 "complexity": 5,
                 "delay factor": 5
                },
                "name": "CHEM 480B",
                "nameCanonical": "",
                "nameSub": "Physical Chem"
               },
               {
                "credits": 3,
                "curriculum_requisites": [
                 {
                  "source_id": 39,
                  "target_id": 49,
                  "type": "CurriculumPrerequisite"
                 }
                ],
                "id": 49,
                "metrics": {
                 "blocking factor": 0,
                 "centrality": 0,
                 "complexity": 7,
                 "delay factor": 7
                },
                "name": "CHEE 413",
                "nameCanonical": "",
                "nameSub": "Process Control and Simulation"
               }
              ],
              "id": 8,
              "name": "Term 8"
             },
             {
              "curriculum_items": [
               {
                "credits": 3,
                "curriculum_requisites": [
                 {
                  "source_id": 43,
                  "target_id": 45,
                  "type": "CurriculumPrerequisite"
                 }
                ],
                "id": 45,
                "metrics": {
                 "blocking factor": 1,
                 "centrality": 76,
                 "complexity": 8,
                 "delay factor": 7
                },
                "name": "CHEE 420",
                "nameCanonical": "",
                "nameSub": "Chem Reaction Eng"
               },
               {
                "credits": 3,
                "curriculum_requisites": [
                 {
                  "source_id": 43,
                  "target_id": 46,
                  "type": "CurriculumPrerequisite"
                 },
                 {
                  "source_id": 45,
                  "target_id": 46,
                  "type": "CurriculumStrictCorequisite"
                 },
                 {
                  "source_id": 38,
                  "target_id": 46,
                  "type": "CurriculumPrerequisite"
                 }
                ],
                "id": 46,
                "metrics": {
                 "blocking factor": 0,
                 "centrality": 0,
                 "complexity": 7,
                 "delay factor": 7
                },
                "name": "CHEE 442",
                "nameCanonical": "",
                "nameSub": "Chem Eng Design Principles"
               },
               {
                "credits": 1,
                "curriculum_requisites": [
                 {
                  "source_id": 43,
                  "target_id": 44,
                  "type": "CurriculumStrictCorequisite"
                 },
                 {
                  "source_id": 38,
                  "target_id": 44,
                  "type": "CurriculumPrerequisite"
                 },
                 {
                  "source_id": 42,
                  "target_id": 44,
                  "type": "CurriculumStrictCorequisite"
                 },
                 {
                  "source_id": 40,
                  "target_id": 44,
                  "type": "CurriculumPrerequisite"
                 }
                ],
                "id": 44,
                "metrics": {
                 "blocking factor": 0,
                 "centrality": 0,
                 "complexity": 9,
                 "delay factor": 9
                },
                "name": "CHEE 301B",
                "nameCanonical": "",
                "nameSub": "Chem Eng Lab II"
               }
              ],
              "id": 9,
              "name": "Term 9"
             }
            ],
            "dp_name": "2019-20 Pima Pre-Engineering",
            "institution": "Pima Community College",
            "name": "Pre-Engineering (Chemical Eng. Concentration)"
           },
           "options": {
            "edit": false,
            "hideTerms": false
           }
          }
         }
        },
        "systemjs_options": null
       },
       "nodeType": "Scope",
       "props": {},
       "type": "node"
      },
      "text/html": [
       "<div\n",
       "    class=\"webio-mountpoint\"\n",
       "    data-webio-mountpoint=\"8862264260857699049\"\n",
       ">\n",
       "    <script>\n",
       "    (function(){\n",
       "    // Some integrations (namely, IJulia/Jupyter) use an alternate render pathway than\n",
       "    // just putting the html on the page. If WebIO isn't defined, then it's pretty likely\n",
       "    // that we're in one of those situations and the integration just isn't installed\n",
       "    // correctly.\n",
       "    if (typeof window.WebIO === \"undefined\") {\n",
       "        document\n",
       "            .querySelector('[data-webio-mountpoint=\"8862264260857699049\"]')\n",
       "            .innerHTML = (\n",
       "                '<div style=\"padding: 1em; background-color: #f8d6da; border: 1px solid #f5c6cb; font-weight: bold;\">' +\n",
       "                '<p><strong>WebIO not detected.</strong></p>' +\n",
       "                '<p>Please read ' +\n",
       "                '<a href=\"https://juliagizmos.github.io/WebIO.jl/latest/troubleshooting/not-detected/\" target=\"_blank\">the troubleshooting guide</a> ' +\n",
       "                'for more information on how to resolve this issue.</p>' +\n",
       "                '<p><a href=\"https://juliagizmos.github.io/WebIO.jl/latest/troubleshooting/not-detected/\" target=\"_blank\">https://juliagizmos.github.io/WebIO.jl/latest/troubleshooting/not-detected/</a></p>' +\n",
       "                '</div>'\n",
       "            );\n",
       "        return;\n",
       "    }\n",
       "    WebIO.mount(\n",
       "        document.querySelector('[data-webio-mountpoint=\"8862264260857699049\"]'),\n",
       "        {\"props\":{},\"nodeType\":\"Scope\",\"type\":\"node\",\"instanceArgs\":{\"imports\":{\"data\":[],\"type\":\"async_block\"},\"id\":\"12158872664900606211\",\"handlers\":{},\"systemjs_options\":null,\"mount_callbacks\":[],\"observables\":{\"curriculum-data\":{\"sync\":true,\"id\":\"17025928075642137750\",\"value\":{\"options\":{\"hideTerms\":false,\"edit\":false},\"curriculum\":{\"name\":\"Pre-Engineering (Chemical Eng. Concentration)\",\"dp_name\":\"2019-20 Pima Pre-Engineering\",\"curriculum_terms\":[{\"name\":\"Term 1\",\"curriculum_items\":[{\"curriculum_requisites\":[],\"name\":\"MAT 220\",\"metrics\":{\"centrality\":0,\"complexity\":32.0,\"blocking factor\":23,\"delay factor\":9.0},\"nameSub\":\"Calculus I\",\"id\":1,\"credits\":5,\"nameCanonical\":\"Calculus I\"},{\"curriculum_requisites\":[{\"source_id\":3,\"target_id\":2,\"type\":\"CurriculumStrictCorequisite\"}],\"name\":\"CHM 151IN\",\"metrics\":{\"centrality\":126,\"complexity\":26.0,\"blocking factor\":17,\"delay factor\":9.0},\"nameSub\":\"Gen Chemistry I\",\"id\":2,\"credits\":4,\"nameCanonical\":\"General Chemsitry I\"},{\"curriculum_requisites\":[],\"name\":\"CHM 151RC\",\"metrics\":{\"centrality\":0,\"complexity\":27.0,\"blocking factor\":18,\"delay factor\":9.0},\"nameSub\":\"Gen Chemistry I Recitation\",\"id\":3,\"credits\":1,\"nameCanonical\":\"\"},{\"curriculum_requisites\":[],\"name\":\"WRT 101\",\"metrics\":{\"centrality\":0,\"complexity\":3.0,\"blocking factor\":1,\"delay factor\":2.0},\"nameSub\":\"English Composition I\",\"id\":4,\"credits\":3,\"nameCanonical\":\"English Composition I\"},{\"curriculum_requisites\":[{\"source_id\":1,\"target_id\":5,\"type\":\"CurriculumCorequisite\"}],\"name\":\"ENG 102IN\",\"metrics\":{\"centrality\":82,\"complexity\":20.0,\"blocking factor\":12,\"delay factor\":8.0},\"nameSub\":\"Problem-Solving and Engineering Design\",\"id\":5,\"credits\":3,\"nameCanonical\":\"Intro to Engineering\"},{\"curriculum_requisites\":[],\"name\":\" \",\"metrics\":{\"centrality\":0,\"complexity\":1.0,\"blocking factor\":0,\"delay factor\":1.0},\"nameSub\":\"AGEC-S Course\",\"id\":6,\"credits\":3,\"nameCanonical\":\"\"}],\"id\":1},{\"name\":\"Term 2\",\"curriculum_items\":[{\"curriculum_requisites\":[{\"source_id\":1,\"target_id\":7,\"type\":\"CurriculumPrerequisite\"}],\"name\":\"MAT 231\",\"metrics\":{\"centrality\":83,\"complexity\":20.0,\"blocking factor\":13,\"delay factor\":7.0},\"nameSub\":\"Calculus II\",\"id\":7,\"credits\":4,\"nameCanonical\":\"Calculus II\"},{\"curriculum_requisites\":[{\"source_id\":2,\"target_id\":8,\"type\":\"CurriculumPrerequisite\"},{\"source_id\":9,\"target_id\":8,\"type\":\"CurriculumStrictCorequisite\"}],\"name\":\"CHM 152IN\",\"metrics\":{\"centrality\":186,\"complexity\":23.0,\"blocking factor\":14,\"delay factor\":9.0},\"nameSub\":\"Gen Chemistry II\",\"id\":8,\"credits\":4,\"nameCanonical\":\"General Chemsitry II\"},{\"curriculum_requisites\":[],\"name\":\"CHM 152RC\",\"metrics\":{\"centrality\":0,\"complexity\":23.0,\"blocking factor\":15,\"delay factor\":8.0},\"nameSub\":\"Gen Chemistry II Recitation\",\"id\":9,\"credits\":1,\"nameCanonical\":\"\"},{\"curriculum_requisites\":[{\"source_id\":11,\"target_id\":10,\"type\":\"CurriculumStrictCorequisite\"},{\"source_id\":1,\"target_id\":10,\"type\":\"CurriculumPrerequisite\"}],\"name\":\"PHY 210IN\",\"metrics\":{\"centrality\":118,\"complexity\":18.0,\"blocking factor\":11,\"delay factor\":7.0},\"nameSub\":\"Intro Mechanics\",\"id\":10,\"credits\":4,\"nameCanonical\":\"\"},{\"curriculum_requisites\":[],\"name\":\"PHY 210RC\",\"metrics\":{\"centrality\":0,\"complexity\":19.0,\"blocking factor\":12,\"delay factor\":7.0},\"nameSub\":\"Intro Mechanics Recitation\",\"id\":11,\"credits\":1,\"nameCanonical\":\"\"},{\"curriculum_requisites\":[{\"source_id\":4,\"target_id\":12,\"type\":\"CurriculumPrerequisite\"}],\"name\":\"WRT 102\",\"metrics\":{\"centrality\":0,\"complexity\":2.0,\"blocking factor\":0,\"delay factor\":2.0},\"nameSub\":\" English Composition II\",\"id\":12,\"credits\":3,\"nameCanonical\":\" English Composition\"},{\"curriculum_requisites\":[{\"source_id\":1,\"target_id\":13,\"type\":\"CurriculumCorequisite\"}],\"name\":\"ENG 105IN\",\"metrics\":{\"centrality\":204,\"complexity\":23.0,\"blocking factor\":14,\"delay factor\":9.0},\"nameSub\":\"Intro to MATLAB I\",\"id\":13,\"credits\":1,\"nameCanonical\":\"\"}],\"id\":2},{\"name\":\"Term 3\",\"curriculum_items\":[{\"curriculum_requisites\":[],\"name\":\" \",\"metrics\":{\"centrality\":0,\"complexity\":1.0,\"blocking factor\":0,\"delay factor\":1.0},\"nameSub\":\"AGEC-S Course\",\"id\":14,\"credits\":3,\"nameCanonical\":\"\"},{\"curriculum_requisites\":[],\"name\":\" \",\"metrics\":{\"centrality\":0,\"complexity\":1.0,\"blocking factor\":0,\"delay factor\":1.0},\"nameSub\":\"AGEC-S Course\",\"id\":15,\"credits\":3,\"nameCanonical\":\"\"},{\"curriculum_requisites\":[{\"source_id\":7,\"target_id\":16,\"type\":\"CurriculumPrerequisite\"}],\"name\":\"MAT 241\",\"metrics\":{\"centrality\":0,\"complexity\":3.0,\"blocking factor\":0,\"delay factor\":3.0},\"nameSub\":\"Calculus III\",\"id\":16,\"credits\":4,\"nameCanonical\":\"Calculus III\"},{\"curriculum_requisites\":[{\"source_id\":18,\"target_id\":17,\"type\":\"CurriculumStrictCorequisite\"},{\"source_id\":8,\"target_id\":17,\"type\":\"CurriculumPrerequisite\"}],\"name\":\" 235IN\",\"metrics\":{\"centrality\":12,\"complexity\":6.0,\"blocking factor\":1,\"delay factor\":5.0},\"nameSub\":\"General Organic Chemistry I\",\"id\":17,\"credits\":4,\"nameCanonical\":\"Organic Chemistry I\"},{\"curriculum_requisites\":[],\"name\":\"CHM  235RC\",\"metrics\":{\"centrality\":0,\"complexity\":5.0,\"blocking factor\":2,\"delay factor\":3.0},\"nameSub\":\"General Organic Chemistry I Recitation\",\"id\":18,\"credits\":1,\"nameCanonical\":\"\"},{\"curriculum_requisites\":[],\"name\":\" \",\"metrics\":{\"centrality\":0,\"complexity\":12.0,\"blocking factor\":6,\"delay factor\":6.0},\"nameSub\":\"AGEC-S Course\",\"id\":19,\"credits\":3,\"nameCanonical\":\"\"}],\"id\":3},{\"name\":\"Term 4\",\"curriculum_items\":[{\"curriculum_requisites\":[],\"name\":\" \",\"metrics\":{\"centrality\":0,\"complexity\":1.0,\"blocking factor\":0,\"delay factor\":1.0},\"nameSub\":\"AGEC-S Course\",\"id\":20,\"credits\":3,\"nameCanonical\":\"\"},{\"curriculum_requisites\":[],\"name\":\" \",\"metrics\":{\"centrality\":0,\"complexity\":1.0,\"blocking factor\":0,\"delay factor\":1.0},\"nameSub\":\"AGEC-S Course\",\"id\":21,\"credits\":3,\"nameCanonical\":\"\"},{\"curriculum_requisites\":[{\"source_id\":7,\"target_id\":22,\"type\":\"CurriculumPrerequisite\"}],\"name\":\"MAT 262\",\"metrics\":{\"centrality\":23,\"complexity\":12.0,\"blocking factor\":5,\"delay factor\":7.0},\"nameSub\":\"Differential Equations\",\"id\":22,\"credits\":3,\"nameCanonical\":\"Differential Equations\"},{\"curriculum_requisites\":[{\"source_id\":7,\"target_id\":23,\"type\":\"CurriculumPrerequisite\"},{\"source_id\":10,\"target_id\":23,\"type\":\"CurriculumPrerequisite\"},{\"source_id\":24,\"target_id\":23,\"type\":\"CurriculumStrictCorequisite\"}],\"name\":\"PHY 216IN\",\"metrics\":{\"centrality\":119,\"complexity\":14.0,\"blocking factor\":7,\"delay factor\":7.0},\"nameSub\":\"Intro Electricity & Magnetism\",\"id\":23,\"credits\":4,\"nameCanonical\":\"\"},{\"curriculum_requisites\":[],\"name\":\"PHY 216RC\",\"metrics\":{\"centrality\":0,\"complexity\":14.0,\"blocking factor\":8,\"delay factor\":6.0},\"nameSub\":\"Intro Electricity & Magnetism\",\"id\":24,\"credits\":1,\"nameCanonical\":\"\"},{\"curriculum_requisites\":[{\"source_id\":26,\"target_id\":25,\"type\":\"CurriculumStrictCorequisite\"},{\"source_id\":17,\"target_id\":25,\"type\":\"CurriculumPrerequisite\"}],\"name\":\"CHM 236IN\",\"metrics\":{\"centrality\":0,\"complexity\":5.0,\"blocking factor\":0,\"delay factor\":5.0},\"nameSub\":\"General Organic Chemistry II\",\"id\":25,\"credits\":4,\"nameCanonical\":\"Organic Chemistry II\"},{\"curriculum_requisites\":[],\"name\":\"CHM  236RC\",\"metrics\":{\"centrality\":0,\"complexity\":3.0,\"blocking factor\":1,\"delay factor\":2.0},\"nameSub\":\"General Organic Chemistry II Recitation\",\"id\":26,\"credits\":1,\"nameCanonical\":\"\"},{\"curriculum_requisites\":[{\"source_id\":13,\"target_id\":27,\"type\":\"CurriculumPrerequisite\"}],\"name\":\"ENG 205IN\",\"metrics\":{\"centrality\":95,\"complexity\":21.0,\"blocking factor\":12,\"delay factor\":9.0},\"nameSub\":\"Intro to MATLAB II\",\"id\":27,\"credits\":1,\"nameCanonical\":\"\"}],\"id\":4},{\"name\":\"Term 5\",\"curriculum_items\":[{\"curriculum_requisites\":[{\"source_id\":5,\"target_id\":28,\"type\":\"CurriculumPrerequisite\"},{\"source_id\":13,\"target_id\":28,\"type\":\"CurriculumPrerequisite\"},{\"source_id\":27,\"target_id\":28,\"type\":\"CurriculumCorequisite\"},{\"source_id\":8,\"target_id\":28,\"type\":\"CurriculumPrerequisite\"},{\"source_id\":1,\"target_id\":28,\"type\":\"CurriculumPrerequisite\"}],\"name\":\"CHEE 201\",\"metrics\":{\"centrality\":505,\"complexity\":20.0,\"blocking factor\":11,\"delay factor\":9.0},\"nameSub\":\"Elements of Chem and Envirn Eng I\",\"id\":28,\"credits\":3,\"nameCanonical\":\"\"},{\"curriculum_requisites\":[{\"source_id\":13,\"target_id\":29,\"type\":\"CurriculumCorequisite\"},{\"source_id\":1,\"target_id\":29,\"type\":\"CurriculumPrerequisite\"}],\"name\":\" 201L\",\"metrics\":{\"centrality\":50,\"complexity\":14.0,\"blocking factor\":6,\"delay factor\":8.0},\"nameSub\":\"Elements of Chem and Envirn Eng I Lab\",\"id\":29,\"credits\":1,\"nameCanonical\":\"\"},{\"curriculum_requisites\":[{\"source_id\":7,\"target_id\":30,\"type\":\"CurriculumPrerequisite\"},{\"source_id\":2,\"target_id\":30,\"type\":\"CurriculumPrerequisite\"},{\"source_id\":23,\"target_id\":30,\"type\":\"CurriculumPrerequisite\"}],\"name\":\"CHEM 480A\",\"metrics\":{\"centrality\":171,\"complexity\":13.0,\"blocking factor\":6,\"delay factor\":7.0},\"nameSub\":\"Physical Chem\",\"id\":30,\"credits\":3,\"nameCanonical\":\"\"},{\"curriculum_requisites\":[],\"name\":\" \",\"metrics\":{\"centrality\":0,\"complexity\":1.0,\"blocking factor\":0,\"delay factor\":1.0},\"nameSub\":\"Engineering Elective\",\"id\":31,\"credits\":3,\"nameCanonical\":\"\"},{\"curriculum_requisites\":[],\"name\":\" \",\"metrics\":{\"centrality\":0,\"complexity\":1.0,\"blocking factor\":0,\"delay factor\":1.0},\"nameSub\":\"Engineering Elective\",\"id\":32,\"credits\":3,\"nameCanonical\":\"\"}],\"id\":5},{\"name\":\"Term 6\",\"curriculum_items\":[{\"curriculum_requisites\":[],\"name\":\" \",\"metrics\":{\"centrality\":0,\"complexity\":1.0,\"blocking factor\":0,\"delay factor\":1.0},\"nameSub\":\"Technical Elective\",\"id\":33,\"credits\":3,\"nameCanonical\":\"\"},{\"curriculum_requisites\":[{\"source_id\":29,\"target_id\":34,\"type\":\"CurriculumPrerequisite\"},{\"source_id\":28,\"target_id\":34,\"type\":\"CurriculumPrerequisite\"},{\"source_id\":19,\"target_id\":34,\"type\":\"CurriculumCorequisite\"}],\"name\":\"CHEE 202\",\"metrics\":{\"centrality\":235,\"complexity\":14.0,\"blocking factor\":5,\"delay factor\":9.0},\"nameSub\":\"Elements of Chem Eng II\",\"id\":34,\"credits\":4,\"nameCanonical\":\"\"},{\"curriculum_requisites\":[{\"source_id\":10,\"target_id\":35,\"type\":\"CurriculumPrerequisite\"},{\"source_id\":28,\"target_id\":35,\"type\":\"CurriculumPrerequisite\"}],\"name\":\"CHEE 203\",\"metrics\":{\"centrality\":259,\"complexity\":14.0,\"blocking factor\":5,\"delay factor\":9.0},\"nameSub\":\"Chem Eng Heat Xfer & Fluid Flow\",\"id\":35,\"credits\":3,\"nameCanonical\":\"\"},{\"curriculum_requisites\":[],\"name\":\" \",\"metrics\":{\"centrality\":0,\"complexity\":1.0,\"blocking factor\":0,\"delay factor\":1.0},\"nameSub\":\"Engineering Elective\",\"id\":36,\"credits\":3,\"nameCanonical\":\"\"},{\"curriculum_requisites\":[],\"name\":\" \",\"metrics\":{\"centrality\":0,\"complexity\":1.0,\"blocking factor\":0,\"delay factor\":1.0},\"nameSub\":\"Technical Elective\",\"id\":37,\"credits\":3,\"nameCanonical\":\"\"}],\"id\":6},{\"name\":\"Term 7\",\"curriculum_items\":[{\"curriculum_requisites\":[{\"source_id\":35,\"target_id\":38,\"type\":\"CurriculumPrerequisite\"}],\"name\":\"CHEE 303\",\"metrics\":{\"centrality\":212,\"complexity\":13.0,\"blocking factor\":4,\"delay factor\":9.0},\"nameSub\":\"Chem Eng Mass Xfer\",\"id\":38,\"credits\":3,\"nameCanonical\":\"\"},{\"curriculum_requisites\":[{\"source_id\":22,\"target_id\":39,\"type\":\"CurriculumPrerequisite\"},{\"source_id\":34,\"target_id\":39,\"type\":\"CurriculumPrerequisite\"}],\"name\":\"CHEE 402\",\"metrics\":{\"centrality\":201,\"complexity\":13.0,\"blocking factor\":4,\"delay factor\":9.0},\"nameSub\":\"Chem Eng Modeling\",\"id\":39,\"credits\":3,\"nameCanonical\":\"\"},{\"curriculum_requisites\":[],\"name\":\"CHEE 489\",\"metrics\":{\"centrality\":0,\"complexity\":1.0,\"blocking factor\":0,\"delay factor\":1.0},\"nameSub\":\"Trends in Nanomedicine Eng\",\"id\":41,\"credits\":3,\"nameCanonical\":\"\"}],\"id\":7},{\"name\":\"Term 8\",\"curriculum_items\":[{\"curriculum_requisites\":[{\"source_id\":22,\"target_id\":40,\"type\":\"CurriculumPrerequisite\"},{\"source_id\":34,\"target_id\":40,\"type\":\"CurriculumPrerequisite\"},{\"source_id\":35,\"target_id\":40,\"type\":\"CurriculumPrerequisite\"},{\"source_id\":43,\"target_id\":40,\"type\":\"CurriculumCorequisite\"},{\"source_id\":42,\"target_id\":40,\"type\":\"CurriculumCorequisite\"}],\"name\":\"CHEE 301A\",\"metrics\":{\"centrality\":320,\"complexity\":10.0,\"blocking factor\":1,\"delay factor\":9.0},\"nameSub\":\"Chem Eng Lab I\",\"id\":40,\"credits\":1,\"nameCanonical\":\"\"},{\"curriculum_requisites\":[{\"source_id\":39,\"target_id\":42,\"type\":\"CurriculumPrerequisite\"},{\"source_id\":38,\"target_id\":42,\"type\":\"CurriculumPrerequisite\"}],\"name\":\"CHEE 305\",\"metrics\":{\"centrality\":262,\"complexity\":11.0,\"blocking factor\":2,\"delay factor\":9.0},\"nameSub\":\"Chem Eng Transport Phenom\",\"id\":42,\"credits\":3,\"nameCanonical\":\"\"},{\"curriculum_requisites\":[{\"source_id\":30,\"target_id\":43,\"type\":\"CurriculumPrerequisite\"},{\"source_id\":28,\"target_id\":43,\"type\":\"CurriculumPrerequisite\"}],\"name\":\"CHEE 326\",\"metrics\":{\"centrality\":280,\"complexity\":11.0,\"blocking factor\":4,\"delay factor\":7.0},\"nameSub\":\"Chem & Phys Equilibrium\",\"id\":43,\"credits\":3,\"nameCanonical\":\"\"},{\"curriculum_requisites\":[{\"source_id\":30,\"target_id\":48,\"type\":\"CurriculumPrerequisite\"}],\"name\":\"CHEM 480B\",\"metrics\":{\"centrality\":0,\"complexity\":5.0,\"blocking factor\":0,\"delay factor\":5.0},\"nameSub\":\"Physical Chem\",\"id\":48,\"credits\":3,\"nameCanonical\":\"\"},{\"curriculum_requisites\":[{\"source_id\":39,\"target_id\":49,\"type\":\"CurriculumPrerequisite\"}],\"name\":\"CHEE 413\",\"metrics\":{\"centrality\":0,\"complexity\":7.0,\"blocking factor\":0,\"delay factor\":7.0},\"nameSub\":\"Process Control and Simulation\",\"id\":49,\"credits\":3,\"nameCanonical\":\"\"}],\"id\":8},{\"name\":\"Term 9\",\"curriculum_items\":[{\"curriculum_requisites\":[{\"source_id\":43,\"target_id\":45,\"type\":\"CurriculumPrerequisite\"}],\"name\":\"CHEE 420\",\"metrics\":{\"centrality\":76,\"complexity\":8.0,\"blocking factor\":1,\"delay factor\":7.0},\"nameSub\":\"Chem Reaction Eng\",\"id\":45,\"credits\":3,\"nameCanonical\":\"\"},{\"curriculum_requisites\":[{\"source_id\":43,\"target_id\":46,\"type\":\"CurriculumPrerequisite\"},{\"source_id\":45,\"target_id\":46,\"type\":\"CurriculumStrictCorequisite\"},{\"source_id\":38,\"target_id\":46,\"type\":\"CurriculumPrerequisite\"}],\"name\":\"CHEE 442\",\"metrics\":{\"centrality\":0,\"complexity\":7.0,\"blocking factor\":0,\"delay factor\":7.0},\"nameSub\":\"Chem Eng Design Principles\",\"id\":46,\"credits\":3,\"nameCanonical\":\"\"},{\"curriculum_requisites\":[{\"source_id\":43,\"target_id\":44,\"type\":\"CurriculumStrictCorequisite\"},{\"source_id\":38,\"target_id\":44,\"type\":\"CurriculumPrerequisite\"},{\"source_id\":42,\"target_id\":44,\"type\":\"CurriculumStrictCorequisite\"},{\"source_id\":40,\"target_id\":44,\"type\":\"CurriculumPrerequisite\"}],\"name\":\"CHEE 301B\",\"metrics\":{\"centrality\":0,\"complexity\":9.0,\"blocking factor\":0,\"delay factor\":9.0},\"nameSub\":\"Chem Eng Lab II\",\"id\":44,\"credits\":1,\"nameCanonical\":\"\"}],\"id\":9}],\"institution\":\"Pima Community College\"}}}}},\"children\":[{\"props\":{\"src\":\"https:\\/\\/curricula-api-embed.damoursystems.com\\/\",\"id\":\"curriculum\",\"events\":{\"load\":\"(function (){this.contentWindow.postMessage({\\\"options\\\":{\\\"hideTerms\\\":false,\\\"edit\\\":false},\\\"curriculum\\\":{\\\"name\\\":\\\"Pre-Engineering (Chemical Eng. Concentration)\\\",\\\"dp_name\\\":\\\"2019-20 Pima Pre-Engineering\\\",\\\"curriculum_terms\\\":[{\\\"name\\\":\\\"Term 1\\\",\\\"curriculum_items\\\":[{\\\"curriculum_requisites\\\":[],\\\"name\\\":\\\"MAT 220\\\",\\\"metrics\\\":{\\\"centrality\\\":0,\\\"complexity\\\":32.0,\\\"blocking factor\\\":23,\\\"delay factor\\\":9.0},\\\"nameSub\\\":\\\"Calculus I\\\",\\\"id\\\":1,\\\"credits\\\":5,\\\"nameCanonical\\\":\\\"Calculus I\\\"},{\\\"curriculum_requisites\\\":[{\\\"source_id\\\":3,\\\"target_id\\\":2,\\\"type\\\":\\\"CurriculumStrictCorequisite\\\"}],\\\"name\\\":\\\"CHM 151IN\\\",\\\"metrics\\\":{\\\"centrality\\\":126,\\\"complexity\\\":26.0,\\\"blocking factor\\\":17,\\\"delay factor\\\":9.0},\\\"nameSub\\\":\\\"Gen Chemistry I\\\",\\\"id\\\":2,\\\"credits\\\":4,\\\"nameCanonical\\\":\\\"General Chemsitry I\\\"},{\\\"curriculum_requisites\\\":[],\\\"name\\\":\\\"CHM 151RC\\\",\\\"metrics\\\":{\\\"centrality\\\":0,\\\"complexity\\\":27.0,\\\"blocking factor\\\":18,\\\"delay factor\\\":9.0},\\\"nameSub\\\":\\\"Gen Chemistry I Recitation\\\",\\\"id\\\":3,\\\"credits\\\":1,\\\"nameCanonical\\\":\\\"\\\"},{\\\"curriculum_requisites\\\":[],\\\"name\\\":\\\"WRT 101\\\",\\\"metrics\\\":{\\\"centrality\\\":0,\\\"complexity\\\":3.0,\\\"blocking factor\\\":1,\\\"delay factor\\\":2.0},\\\"nameSub\\\":\\\"English Composition I\\\",\\\"id\\\":4,\\\"credits\\\":3,\\\"nameCanonical\\\":\\\"English Composition I\\\"},{\\\"curriculum_requisites\\\":[{\\\"source_id\\\":1,\\\"target_id\\\":5,\\\"type\\\":\\\"CurriculumCorequisite\\\"}],\\\"name\\\":\\\"ENG 102IN\\\",\\\"metrics\\\":{\\\"centrality\\\":82,\\\"complexity\\\":20.0,\\\"blocking factor\\\":12,\\\"delay factor\\\":8.0},\\\"nameSub\\\":\\\"Problem-Solving and Engineering Design\\\",\\\"id\\\":5,\\\"credits\\\":3,\\\"nameCanonical\\\":\\\"Intro to Engineering\\\"},{\\\"curriculum_requisites\\\":[],\\\"name\\\":\\\" \\\",\\\"metrics\\\":{\\\"centrality\\\":0,\\\"complexity\\\":1.0,\\\"blocking factor\\\":0,\\\"delay factor\\\":1.0},\\\"nameSub\\\":\\\"AGEC-S Course\\\",\\\"id\\\":6,\\\"credits\\\":3,\\\"nameCanonical\\\":\\\"\\\"}],\\\"id\\\":1},{\\\"name\\\":\\\"Term 2\\\",\\\"curriculum_items\\\":[{\\\"curriculum_requisites\\\":[{\\\"source_id\\\":1,\\\"target_id\\\":7,\\\"type\\\":\\\"CurriculumPrerequisite\\\"}],\\\"name\\\":\\\"MAT 231\\\",\\\"metrics\\\":{\\\"centrality\\\":83,\\\"complexity\\\":20.0,\\\"blocking factor\\\":13,\\\"delay factor\\\":7.0},\\\"nameSub\\\":\\\"Calculus II\\\",\\\"id\\\":7,\\\"credits\\\":4,\\\"nameCanonical\\\":\\\"Calculus II\\\"},{\\\"curriculum_requisites\\\":[{\\\"source_id\\\":2,\\\"target_id\\\":8,\\\"type\\\":\\\"CurriculumPrerequisite\\\"},{\\\"source_id\\\":9,\\\"target_id\\\":8,\\\"type\\\":\\\"CurriculumStrictCorequisite\\\"}],\\\"name\\\":\\\"CHM 152IN\\\",\\\"metrics\\\":{\\\"centrality\\\":186,\\\"complexity\\\":23.0,\\\"blocking factor\\\":14,\\\"delay factor\\\":9.0},\\\"nameSub\\\":\\\"Gen Chemistry II\\\",\\\"id\\\":8,\\\"credits\\\":4,\\\"nameCanonical\\\":\\\"General Chemsitry II\\\"},{\\\"curriculum_requisites\\\":[],\\\"name\\\":\\\"CHM 152RC\\\",\\\"metrics\\\":{\\\"centrality\\\":0,\\\"complexity\\\":23.0,\\\"blocking factor\\\":15,\\\"delay factor\\\":8.0},\\\"nameSub\\\":\\\"Gen Chemistry II Recitation\\\",\\\"id\\\":9,\\\"credits\\\":1,\\\"nameCanonical\\\":\\\"\\\"},{\\\"curriculum_requisites\\\":[{\\\"source_id\\\":11,\\\"target_id\\\":10,\\\"type\\\":\\\"CurriculumStrictCorequisite\\\"},{\\\"source_id\\\":1,\\\"target_id\\\":10,\\\"type\\\":\\\"CurriculumPrerequisite\\\"}],\\\"name\\\":\\\"PHY 210IN\\\",\\\"metrics\\\":{\\\"centrality\\\":118,\\\"complexity\\\":18.0,\\\"blocking factor\\\":11,\\\"delay factor\\\":7.0},\\\"nameSub\\\":\\\"Intro Mechanics\\\",\\\"id\\\":10,\\\"credits\\\":4,\\\"nameCanonical\\\":\\\"\\\"},{\\\"curriculum_requisites\\\":[],\\\"name\\\":\\\"PHY 210RC\\\",\\\"metrics\\\":{\\\"centrality\\\":0,\\\"complexity\\\":19.0,\\\"blocking factor\\\":12,\\\"delay factor\\\":7.0},\\\"nameSub\\\":\\\"Intro Mechanics Recitation\\\",\\\"id\\\":11,\\\"credits\\\":1,\\\"nameCanonical\\\":\\\"\\\"},{\\\"curriculum_requisites\\\":[{\\\"source_id\\\":4,\\\"target_id\\\":12,\\\"type\\\":\\\"CurriculumPrerequisite\\\"}],\\\"name\\\":\\\"WRT 102\\\",\\\"metrics\\\":{\\\"centrality\\\":0,\\\"complexity\\\":2.0,\\\"blocking factor\\\":0,\\\"delay factor\\\":2.0},\\\"nameSub\\\":\\\" English Composition II\\\",\\\"id\\\":12,\\\"credits\\\":3,\\\"nameCanonical\\\":\\\" English Composition\\\"},{\\\"curriculum_requisites\\\":[{\\\"source_id\\\":1,\\\"target_id\\\":13,\\\"type\\\":\\\"CurriculumCorequisite\\\"}],\\\"name\\\":\\\"ENG 105IN\\\",\\\"metrics\\\":{\\\"centrality\\\":204,\\\"complexity\\\":23.0,\\\"blocking factor\\\":14,\\\"delay factor\\\":9.0},\\\"nameSub\\\":\\\"Intro to MATLAB I\\\",\\\"id\\\":13,\\\"credits\\\":1,\\\"nameCanonical\\\":\\\"\\\"}],\\\"id\\\":2},{\\\"name\\\":\\\"Term 3\\\",\\\"curriculum_items\\\":[{\\\"curriculum_requisites\\\":[],\\\"name\\\":\\\" \\\",\\\"metrics\\\":{\\\"centrality\\\":0,\\\"complexity\\\":1.0,\\\"blocking factor\\\":0,\\\"delay factor\\\":1.0},\\\"nameSub\\\":\\\"AGEC-S Course\\\",\\\"id\\\":14,\\\"credits\\\":3,\\\"nameCanonical\\\":\\\"\\\"},{\\\"curriculum_requisites\\\":[],\\\"name\\\":\\\" \\\",\\\"metrics\\\":{\\\"centrality\\\":0,\\\"complexity\\\":1.0,\\\"blocking factor\\\":0,\\\"delay factor\\\":1.0},\\\"nameSub\\\":\\\"AGEC-S Course\\\",\\\"id\\\":15,\\\"credits\\\":3,\\\"nameCanonical\\\":\\\"\\\"},{\\\"curriculum_requisites\\\":[{\\\"source_id\\\":7,\\\"target_id\\\":16,\\\"type\\\":\\\"CurriculumPrerequisite\\\"}],\\\"name\\\":\\\"MAT 241\\\",\\\"metrics\\\":{\\\"centrality\\\":0,\\\"complexity\\\":3.0,\\\"blocking factor\\\":0,\\\"delay factor\\\":3.0},\\\"nameSub\\\":\\\"Calculus III\\\",\\\"id\\\":16,\\\"credits\\\":4,\\\"nameCanonical\\\":\\\"Calculus III\\\"},{\\\"curriculum_requisites\\\":[{\\\"source_id\\\":18,\\\"target_id\\\":17,\\\"type\\\":\\\"CurriculumStrictCorequisite\\\"},{\\\"source_id\\\":8,\\\"target_id\\\":17,\\\"type\\\":\\\"CurriculumPrerequisite\\\"}],\\\"name\\\":\\\" 235IN\\\",\\\"metrics\\\":{\\\"centrality\\\":12,\\\"complexity\\\":6.0,\\\"blocking factor\\\":1,\\\"delay factor\\\":5.0},\\\"nameSub\\\":\\\"General Organic Chemistry I\\\",\\\"id\\\":17,\\\"credits\\\":4,\\\"nameCanonical\\\":\\\"Organic Chemistry I\\\"},{\\\"curriculum_requisites\\\":[],\\\"name\\\":\\\"CHM  235RC\\\",\\\"metrics\\\":{\\\"centrality\\\":0,\\\"complexity\\\":5.0,\\\"blocking factor\\\":2,\\\"delay factor\\\":3.0},\\\"nameSub\\\":\\\"General Organic Chemistry I Recitation\\\",\\\"id\\\":18,\\\"credits\\\":1,\\\"nameCanonical\\\":\\\"\\\"},{\\\"curriculum_requisites\\\":[],\\\"name\\\":\\\" \\\",\\\"metrics\\\":{\\\"centrality\\\":0,\\\"complexity\\\":12.0,\\\"blocking factor\\\":6,\\\"delay factor\\\":6.0},\\\"nameSub\\\":\\\"AGEC-S Course\\\",\\\"id\\\":19,\\\"credits\\\":3,\\\"nameCanonical\\\":\\\"\\\"}],\\\"id\\\":3},{\\\"name\\\":\\\"Term 4\\\",\\\"curriculum_items\\\":[{\\\"curriculum_requisites\\\":[],\\\"name\\\":\\\" \\\",\\\"metrics\\\":{\\\"centrality\\\":0,\\\"complexity\\\":1.0,\\\"blocking factor\\\":0,\\\"delay factor\\\":1.0},\\\"nameSub\\\":\\\"AGEC-S Course\\\",\\\"id\\\":20,\\\"credits\\\":3,\\\"nameCanonical\\\":\\\"\\\"},{\\\"curriculum_requisites\\\":[],\\\"name\\\":\\\" \\\",\\\"metrics\\\":{\\\"centrality\\\":0,\\\"complexity\\\":1.0,\\\"blocking factor\\\":0,\\\"delay factor\\\":1.0},\\\"nameSub\\\":\\\"AGEC-S Course\\\",\\\"id\\\":21,\\\"credits\\\":3,\\\"nameCanonical\\\":\\\"\\\"},{\\\"curriculum_requisites\\\":[{\\\"source_id\\\":7,\\\"target_id\\\":22,\\\"type\\\":\\\"CurriculumPrerequisite\\\"}],\\\"name\\\":\\\"MAT 262\\\",\\\"metrics\\\":{\\\"centrality\\\":23,\\\"complexity\\\":12.0,\\\"blocking factor\\\":5,\\\"delay factor\\\":7.0},\\\"nameSub\\\":\\\"Differential Equations\\\",\\\"id\\\":22,\\\"credits\\\":3,\\\"nameCanonical\\\":\\\"Differential Equations\\\"},{\\\"curriculum_requisites\\\":[{\\\"source_id\\\":7,\\\"target_id\\\":23,\\\"type\\\":\\\"CurriculumPrerequisite\\\"},{\\\"source_id\\\":10,\\\"target_id\\\":23,\\\"type\\\":\\\"CurriculumPrerequisite\\\"},{\\\"source_id\\\":24,\\\"target_id\\\":23,\\\"type\\\":\\\"CurriculumStrictCorequisite\\\"}],\\\"name\\\":\\\"PHY 216IN\\\",\\\"metrics\\\":{\\\"centrality\\\":119,\\\"complexity\\\":14.0,\\\"blocking factor\\\":7,\\\"delay factor\\\":7.0},\\\"nameSub\\\":\\\"Intro Electricity & Magnetism\\\",\\\"id\\\":23,\\\"credits\\\":4,\\\"nameCanonical\\\":\\\"\\\"},{\\\"curriculum_requisites\\\":[],\\\"name\\\":\\\"PHY 216RC\\\",\\\"metrics\\\":{\\\"centrality\\\":0,\\\"complexity\\\":14.0,\\\"blocking factor\\\":8,\\\"delay factor\\\":6.0},\\\"nameSub\\\":\\\"Intro Electricity & Magnetism\\\",\\\"id\\\":24,\\\"credits\\\":1,\\\"nameCanonical\\\":\\\"\\\"},{\\\"curriculum_requisites\\\":[{\\\"source_id\\\":26,\\\"target_id\\\":25,\\\"type\\\":\\\"CurriculumStrictCorequisite\\\"},{\\\"source_id\\\":17,\\\"target_id\\\":25,\\\"type\\\":\\\"CurriculumPrerequisite\\\"}],\\\"name\\\":\\\"CHM 236IN\\\",\\\"metrics\\\":{\\\"centrality\\\":0,\\\"complexity\\\":5.0,\\\"blocking factor\\\":0,\\\"delay factor\\\":5.0},\\\"nameSub\\\":\\\"General Organic Chemistry II\\\",\\\"id\\\":25,\\\"credits\\\":4,\\\"nameCanonical\\\":\\\"Organic Chemistry II\\\"},{\\\"curriculum_requisites\\\":[],\\\"name\\\":\\\"CHM  236RC\\\",\\\"metrics\\\":{\\\"centrality\\\":0,\\\"complexity\\\":3.0,\\\"blocking factor\\\":1,\\\"delay factor\\\":2.0},\\\"nameSub\\\":\\\"General Organic Chemistry II Recitation\\\",\\\"id\\\":26,\\\"credits\\\":1,\\\"nameCanonical\\\":\\\"\\\"},{\\\"curriculum_requisites\\\":[{\\\"source_id\\\":13,\\\"target_id\\\":27,\\\"type\\\":\\\"CurriculumPrerequisite\\\"}],\\\"name\\\":\\\"ENG 205IN\\\",\\\"metrics\\\":{\\\"centrality\\\":95,\\\"complexity\\\":21.0,\\\"blocking factor\\\":12,\\\"delay factor\\\":9.0},\\\"nameSub\\\":\\\"Intro to MATLAB II\\\",\\\"id\\\":27,\\\"credits\\\":1,\\\"nameCanonical\\\":\\\"\\\"}],\\\"id\\\":4},{\\\"name\\\":\\\"Term 5\\\",\\\"curriculum_items\\\":[{\\\"curriculum_requisites\\\":[{\\\"source_id\\\":5,\\\"target_id\\\":28,\\\"type\\\":\\\"CurriculumPrerequisite\\\"},{\\\"source_id\\\":13,\\\"target_id\\\":28,\\\"type\\\":\\\"CurriculumPrerequisite\\\"},{\\\"source_id\\\":27,\\\"target_id\\\":28,\\\"type\\\":\\\"CurriculumCorequisite\\\"},{\\\"source_id\\\":8,\\\"target_id\\\":28,\\\"type\\\":\\\"CurriculumPrerequisite\\\"},{\\\"source_id\\\":1,\\\"target_id\\\":28,\\\"type\\\":\\\"CurriculumPrerequisite\\\"}],\\\"name\\\":\\\"CHEE 201\\\",\\\"metrics\\\":{\\\"centrality\\\":505,\\\"complexity\\\":20.0,\\\"blocking factor\\\":11,\\\"delay factor\\\":9.0},\\\"nameSub\\\":\\\"Elements of Chem and Envirn Eng I\\\",\\\"id\\\":28,\\\"credits\\\":3,\\\"nameCanonical\\\":\\\"\\\"},{\\\"curriculum_requisites\\\":[{\\\"source_id\\\":13,\\\"target_id\\\":29,\\\"type\\\":\\\"CurriculumCorequisite\\\"},{\\\"source_id\\\":1,\\\"target_id\\\":29,\\\"type\\\":\\\"CurriculumPrerequisite\\\"}],\\\"name\\\":\\\" 201L\\\",\\\"metrics\\\":{\\\"centrality\\\":50,\\\"complexity\\\":14.0,\\\"blocking factor\\\":6,\\\"delay factor\\\":8.0},\\\"nameSub\\\":\\\"Elements of Chem and Envirn Eng I Lab\\\",\\\"id\\\":29,\\\"credits\\\":1,\\\"nameCanonical\\\":\\\"\\\"},{\\\"curriculum_requisites\\\":[{\\\"source_id\\\":7,\\\"target_id\\\":30,\\\"type\\\":\\\"CurriculumPrerequisite\\\"},{\\\"source_id\\\":2,\\\"target_id\\\":30,\\\"type\\\":\\\"CurriculumPrerequisite\\\"},{\\\"source_id\\\":23,\\\"target_id\\\":30,\\\"type\\\":\\\"CurriculumPrerequisite\\\"}],\\\"name\\\":\\\"CHEM 480A\\\",\\\"metrics\\\":{\\\"centrality\\\":171,\\\"complexity\\\":13.0,\\\"blocking factor\\\":6,\\\"delay factor\\\":7.0},\\\"nameSub\\\":\\\"Physical Chem\\\",\\\"id\\\":30,\\\"credits\\\":3,\\\"nameCanonical\\\":\\\"\\\"},{\\\"curriculum_requisites\\\":[],\\\"name\\\":\\\" \\\",\\\"metrics\\\":{\\\"centrality\\\":0,\\\"complexity\\\":1.0,\\\"blocking factor\\\":0,\\\"delay factor\\\":1.0},\\\"nameSub\\\":\\\"Engineering Elective\\\",\\\"id\\\":31,\\\"credits\\\":3,\\\"nameCanonical\\\":\\\"\\\"},{\\\"curriculum_requisites\\\":[],\\\"name\\\":\\\" \\\",\\\"metrics\\\":{\\\"centrality\\\":0,\\\"complexity\\\":1.0,\\\"blocking factor\\\":0,\\\"delay factor\\\":1.0},\\\"nameSub\\\":\\\"Engineering Elective\\\",\\\"id\\\":32,\\\"credits\\\":3,\\\"nameCanonical\\\":\\\"\\\"}],\\\"id\\\":5},{\\\"name\\\":\\\"Term 6\\\",\\\"curriculum_items\\\":[{\\\"curriculum_requisites\\\":[],\\\"name\\\":\\\" \\\",\\\"metrics\\\":{\\\"centrality\\\":0,\\\"complexity\\\":1.0,\\\"blocking factor\\\":0,\\\"delay factor\\\":1.0},\\\"nameSub\\\":\\\"Technical Elective\\\",\\\"id\\\":33,\\\"credits\\\":3,\\\"nameCanonical\\\":\\\"\\\"},{\\\"curriculum_requisites\\\":[{\\\"source_id\\\":29,\\\"target_id\\\":34,\\\"type\\\":\\\"CurriculumPrerequisite\\\"},{\\\"source_id\\\":28,\\\"target_id\\\":34,\\\"type\\\":\\\"CurriculumPrerequisite\\\"},{\\\"source_id\\\":19,\\\"target_id\\\":34,\\\"type\\\":\\\"CurriculumCorequisite\\\"}],\\\"name\\\":\\\"CHEE 202\\\",\\\"metrics\\\":{\\\"centrality\\\":235,\\\"complexity\\\":14.0,\\\"blocking factor\\\":5,\\\"delay factor\\\":9.0},\\\"nameSub\\\":\\\"Elements of Chem Eng II\\\",\\\"id\\\":34,\\\"credits\\\":4,\\\"nameCanonical\\\":\\\"\\\"},{\\\"curriculum_requisites\\\":[{\\\"source_id\\\":10,\\\"target_id\\\":35,\\\"type\\\":\\\"CurriculumPrerequisite\\\"},{\\\"source_id\\\":28,\\\"target_id\\\":35,\\\"type\\\":\\\"CurriculumPrerequisite\\\"}],\\\"name\\\":\\\"CHEE 203\\\",\\\"metrics\\\":{\\\"centrality\\\":259,\\\"complexity\\\":14.0,\\\"blocking factor\\\":5,\\\"delay factor\\\":9.0},\\\"nameSub\\\":\\\"Chem Eng Heat Xfer & Fluid Flow\\\",\\\"id\\\":35,\\\"credits\\\":3,\\\"nameCanonical\\\":\\\"\\\"},{\\\"curriculum_requisites\\\":[],\\\"name\\\":\\\" \\\",\\\"metrics\\\":{\\\"centrality\\\":0,\\\"complexity\\\":1.0,\\\"blocking factor\\\":0,\\\"delay factor\\\":1.0},\\\"nameSub\\\":\\\"Engineering Elective\\\",\\\"id\\\":36,\\\"credits\\\":3,\\\"nameCanonical\\\":\\\"\\\"},{\\\"curriculum_requisites\\\":[],\\\"name\\\":\\\" \\\",\\\"metrics\\\":{\\\"centrality\\\":0,\\\"complexity\\\":1.0,\\\"blocking factor\\\":0,\\\"delay factor\\\":1.0},\\\"nameSub\\\":\\\"Technical Elective\\\",\\\"id\\\":37,\\\"credits\\\":3,\\\"nameCanonical\\\":\\\"\\\"}],\\\"id\\\":6},{\\\"name\\\":\\\"Term 7\\\",\\\"curriculum_items\\\":[{\\\"curriculum_requisites\\\":[{\\\"source_id\\\":35,\\\"target_id\\\":38,\\\"type\\\":\\\"CurriculumPrerequisite\\\"}],\\\"name\\\":\\\"CHEE 303\\\",\\\"metrics\\\":{\\\"centrality\\\":212,\\\"complexity\\\":13.0,\\\"blocking factor\\\":4,\\\"delay factor\\\":9.0},\\\"nameSub\\\":\\\"Chem Eng Mass Xfer\\\",\\\"id\\\":38,\\\"credits\\\":3,\\\"nameCanonical\\\":\\\"\\\"},{\\\"curriculum_requisites\\\":[{\\\"source_id\\\":22,\\\"target_id\\\":39,\\\"type\\\":\\\"CurriculumPrerequisite\\\"},{\\\"source_id\\\":34,\\\"target_id\\\":39,\\\"type\\\":\\\"CurriculumPrerequisite\\\"}],\\\"name\\\":\\\"CHEE 402\\\",\\\"metrics\\\":{\\\"centrality\\\":201,\\\"complexity\\\":13.0,\\\"blocking factor\\\":4,\\\"delay factor\\\":9.0},\\\"nameSub\\\":\\\"Chem Eng Modeling\\\",\\\"id\\\":39,\\\"credits\\\":3,\\\"nameCanonical\\\":\\\"\\\"},{\\\"curriculum_requisites\\\":[],\\\"name\\\":\\\"CHEE 489\\\",\\\"metrics\\\":{\\\"centrality\\\":0,\\\"complexity\\\":1.0,\\\"blocking factor\\\":0,\\\"delay factor\\\":1.0},\\\"nameSub\\\":\\\"Trends in Nanomedicine Eng\\\",\\\"id\\\":41,\\\"credits\\\":3,\\\"nameCanonical\\\":\\\"\\\"}],\\\"id\\\":7},{\\\"name\\\":\\\"Term 8\\\",\\\"curriculum_items\\\":[{\\\"curriculum_requisites\\\":[{\\\"source_id\\\":22,\\\"target_id\\\":40,\\\"type\\\":\\\"CurriculumPrerequisite\\\"},{\\\"source_id\\\":34,\\\"target_id\\\":40,\\\"type\\\":\\\"CurriculumPrerequisite\\\"},{\\\"source_id\\\":35,\\\"target_id\\\":40,\\\"type\\\":\\\"CurriculumPrerequisite\\\"},{\\\"source_id\\\":43,\\\"target_id\\\":40,\\\"type\\\":\\\"CurriculumCorequisite\\\"},{\\\"source_id\\\":42,\\\"target_id\\\":40,\\\"type\\\":\\\"CurriculumCorequisite\\\"}],\\\"name\\\":\\\"CHEE 301A\\\",\\\"metrics\\\":{\\\"centrality\\\":320,\\\"complexity\\\":10.0,\\\"blocking factor\\\":1,\\\"delay factor\\\":9.0},\\\"nameSub\\\":\\\"Chem Eng Lab I\\\",\\\"id\\\":40,\\\"credits\\\":1,\\\"nameCanonical\\\":\\\"\\\"},{\\\"curriculum_requisites\\\":[{\\\"source_id\\\":39,\\\"target_id\\\":42,\\\"type\\\":\\\"CurriculumPrerequisite\\\"},{\\\"source_id\\\":38,\\\"target_id\\\":42,\\\"type\\\":\\\"CurriculumPrerequisite\\\"}],\\\"name\\\":\\\"CHEE 305\\\",\\\"metrics\\\":{\\\"centrality\\\":262,\\\"complexity\\\":11.0,\\\"blocking factor\\\":2,\\\"delay factor\\\":9.0},\\\"nameSub\\\":\\\"Chem Eng Transport Phenom\\\",\\\"id\\\":42,\\\"credits\\\":3,\\\"nameCanonical\\\":\\\"\\\"},{\\\"curriculum_requisites\\\":[{\\\"source_id\\\":30,\\\"target_id\\\":43,\\\"type\\\":\\\"CurriculumPrerequisite\\\"},{\\\"source_id\\\":28,\\\"target_id\\\":43,\\\"type\\\":\\\"CurriculumPrerequisite\\\"}],\\\"name\\\":\\\"CHEE 326\\\",\\\"metrics\\\":{\\\"centrality\\\":280,\\\"complexity\\\":11.0,\\\"blocking factor\\\":4,\\\"delay factor\\\":7.0},\\\"nameSub\\\":\\\"Chem & Phys Equilibrium\\\",\\\"id\\\":43,\\\"credits\\\":3,\\\"nameCanonical\\\":\\\"\\\"},{\\\"curriculum_requisites\\\":[{\\\"source_id\\\":30,\\\"target_id\\\":48,\\\"type\\\":\\\"CurriculumPrerequisite\\\"}],\\\"name\\\":\\\"CHEM 480B\\\",\\\"metrics\\\":{\\\"centrality\\\":0,\\\"complexity\\\":5.0,\\\"blocking factor\\\":0,\\\"delay factor\\\":5.0},\\\"nameSub\\\":\\\"Physical Chem\\\",\\\"id\\\":48,\\\"credits\\\":3,\\\"nameCanonical\\\":\\\"\\\"},{\\\"curriculum_requisites\\\":[{\\\"source_id\\\":39,\\\"target_id\\\":49,\\\"type\\\":\\\"CurriculumPrerequisite\\\"}],\\\"name\\\":\\\"CHEE 413\\\",\\\"metrics\\\":{\\\"centrality\\\":0,\\\"complexity\\\":7.0,\\\"blocking factor\\\":0,\\\"delay factor\\\":7.0},\\\"nameSub\\\":\\\"Process Control and Simulation\\\",\\\"id\\\":49,\\\"credits\\\":3,\\\"nameCanonical\\\":\\\"\\\"}],\\\"id\\\":8},{\\\"name\\\":\\\"Term 9\\\",\\\"curriculum_items\\\":[{\\\"curriculum_requisites\\\":[{\\\"source_id\\\":43,\\\"target_id\\\":45,\\\"type\\\":\\\"CurriculumPrerequisite\\\"}],\\\"name\\\":\\\"CHEE 420\\\",\\\"metrics\\\":{\\\"centrality\\\":76,\\\"complexity\\\":8.0,\\\"blocking factor\\\":1,\\\"delay factor\\\":7.0},\\\"nameSub\\\":\\\"Chem Reaction Eng\\\",\\\"id\\\":45,\\\"credits\\\":3,\\\"nameCanonical\\\":\\\"\\\"},{\\\"curriculum_requisites\\\":[{\\\"source_id\\\":43,\\\"target_id\\\":46,\\\"type\\\":\\\"CurriculumPrerequisite\\\"},{\\\"source_id\\\":45,\\\"target_id\\\":46,\\\"type\\\":\\\"CurriculumStrictCorequisite\\\"},{\\\"source_id\\\":38,\\\"target_id\\\":46,\\\"type\\\":\\\"CurriculumPrerequisite\\\"}],\\\"name\\\":\\\"CHEE 442\\\",\\\"metrics\\\":{\\\"centrality\\\":0,\\\"complexity\\\":7.0,\\\"blocking factor\\\":0,\\\"delay factor\\\":7.0},\\\"nameSub\\\":\\\"Chem Eng Design Principles\\\",\\\"id\\\":46,\\\"credits\\\":3,\\\"nameCanonical\\\":\\\"\\\"},{\\\"curriculum_requisites\\\":[{\\\"source_id\\\":43,\\\"target_id\\\":44,\\\"type\\\":\\\"CurriculumStrictCorequisite\\\"},{\\\"source_id\\\":38,\\\"target_id\\\":44,\\\"type\\\":\\\"CurriculumPrerequisite\\\"},{\\\"source_id\\\":42,\\\"target_id\\\":44,\\\"type\\\":\\\"CurriculumStrictCorequisite\\\"},{\\\"source_id\\\":40,\\\"target_id\\\":44,\\\"type\\\":\\\"CurriculumPrerequisite\\\"}],\\\"name\\\":\\\"CHEE 301B\\\",\\\"metrics\\\":{\\\"centrality\\\":0,\\\"complexity\\\":9.0,\\\"blocking factor\\\":0,\\\"delay factor\\\":9.0},\\\"nameSub\\\":\\\"Chem Eng Lab II\\\",\\\"id\\\":44,\\\"credits\\\":1,\\\"nameCanonical\\\":\\\"\\\"}],\\\"id\\\":9}],\\\"institution\\\":\\\"Pima Community College\\\"}},\\\"*\\\"); window.removeEventListener(\\\"message\\\",window.messageReceived); window.messageReceived=(function (event){return (event.data.curriculum!==undefined) ? (WebIO.setval({\\\"name\\\":\\\"curriculum-data\\\",\\\"scope\\\":\\\"12158872664900606211\\\",\\\"id\\\":\\\"17025928075642137750\\\",\\\"type\\\":\\\"observable\\\"},event.data.curriculum)) : undefined}); return window.addEventListener(\\\"message\\\",window.messageReceived)})\"},\"style\":{\"padding\":\"0\",\"height\":\"85vh\",\"margin\":\"0\",\"border\":\"none\",\"width\":\"100%\"}},\"nodeType\":\"DOM\",\"type\":\"node\",\"instanceArgs\":{\"namespace\":\"html\",\"tag\":\"iframe\"},\"children\":[\"\"]}]},\n",
       "        window,\n",
       "    );\n",
       "    })()\n",
       "    </script>\n",
       "</div>\n"
      ],
      "text/plain": [
       "WebIO.Scope(WebIO.Node{WebIO.DOM}(WebIO.DOM(:html, :iframe), Any[\"\"], Dict{Symbol, Any}(:src => \"https://curricula-api-embed.damoursystems.com/\", :id => \"curriculum\", :events => Dict{Symbol, WebIO.JSString}(:load => WebIO.JSString(\"(function (){this.contentWindow.postMessage({\\\"options\\\":{\\\"hideTerms\\\":false,\\\"edit\\\":false},\\\"curriculum\\\":{\\\"name\\\":\\\"Pre-Engineering (Chemical Eng. Concentration)\\\",\\\"dp_name\\\":\\\"2019-20 Pima Pre-Engineering\\\",\\\"curriculum_terms\\\":[{\\\"name\\\":\\\"Term 1\\\",\\\"curriculum_items\\\":[{\\\"curriculum_requisites\\\":[],\\\"name\\\":\\\"MAT 220\\\",\\\"metrics\\\":{\\\"centrality\\\":0,\\\"complexity\\\":32.0,\\\"blocking factor\\\":23,\\\"delay factor\\\":9.0},\\\"nameSub\\\":\\\"Calculus I\\\",\\\"id\\\":1,\\\"credits\\\":5,\\\"nameCanonical\\\":\\\"Calculus I\\\"},{\\\"curriculum_requisites\\\":[{\\\"source_id\\\":3,\\\"target_id\\\":2,\\\"type\\\":\\\"CurriculumStrictCorequisite\\\"}],\\\"name\\\":\\\"CHM 151IN\\\",\\\"metrics\\\":{\\\"centrality\\\":126,\\\"complexity\\\":26.0,\\\"blocking factor\\\":17,\\\"delay factor\\\":9.0},\\\"nameSub\\\":\\\"Gen Chemistry I\\\",\\\"id\\\":2,\\\"credits\\\":4,\\\"nameCanonical\\\":\\\"General Chemsitry I\\\"},{\\\"curriculum_requisites\\\":[],\\\"name\\\":\\\"CHM 151RC\\\",\\\"metrics\\\":{\\\"centrality\\\":0,\\\"complexity\\\":27.0,\\\"blocking factor\\\":18,\\\"delay factor\\\":9.0},\\\"nameSub\\\":\\\"Gen Chemistry I Recitation\\\",\\\"id\\\":3,\\\"credits\\\":1,\\\"nameCanonical\\\":\\\"\\\"},{\\\"curriculum_requisites\\\":[],\\\"name\\\":\\\"WRT 101\\\",\\\"metrics\\\":{\\\"centrality\\\":0,\\\"complexity\\\":3.0,\\\"blocking factor\\\":1,\\\"delay factor\\\":2.0},\\\"nameSub\\\":\\\"English Composition I\\\",\\\"id\\\":4,\\\"credits\\\":3,\\\"nameCanonical\\\":\\\"English Composition I\\\"},{\\\"curriculum_requisites\\\":[{\\\"source_id\\\":1,\\\"target_id\\\":5,\\\"type\\\":\\\"CurriculumCorequisite\\\"}],\\\"name\\\":\\\"ENG 102IN\\\",\\\"metrics\\\":{\\\"centrality\\\":82,\\\"complexity\\\":20.0,\\\"blocking factor\\\":12,\\\"delay factor\\\":8.0},\\\"nameSub\\\":\\\"Problem-Solving and Engineering Design\\\",\\\"id\\\":5,\\\"credits\\\":3,\\\"nameCanonical\\\":\\\"Intro to Engineering\\\"},{\\\"curriculum_requisites\\\":[],\\\"name\\\":\\\" \\\",\\\"metrics\\\":{\\\"centrality\\\":0,\\\"complexity\\\":1.0,\\\"blocking factor\\\":0,\\\"delay factor\\\":1.0},\\\"nameSub\\\":\\\"AGEC-S Course\\\",\\\"id\\\":6,\\\"credits\\\":3,\\\"nameCanonical\\\":\\\"\\\"}],\\\"id\\\":1},{\\\"name\\\":\\\"Term 2\\\",\\\"curriculum_items\\\":[{\\\"curriculum_requisites\\\":[{\\\"source_id\\\":1,\\\"target_id\\\":7,\\\"type\\\":\\\"CurriculumPrerequisite\\\"}],\\\"name\\\":\\\"MAT 231\\\",\\\"metrics\\\":{\\\"centrality\\\":83,\\\"complexity\\\":20.0,\\\"blocking factor\\\":13,\\\"delay factor\\\":7.0},\\\"nameSub\\\":\\\"Calculus II\\\",\\\"id\\\":7,\\\"credits\\\":4,\\\"nameCanonical\\\":\\\"Calculus II\\\"},{\\\"curriculum_requisites\\\":[{\\\"source_id\\\":2,\\\"target_id\\\":8,\\\"type\\\":\\\"CurriculumPrerequisite\\\"},{\\\"source_id\\\":9,\\\"target_id\\\":8,\\\"type\\\":\\\"CurriculumStrictCorequisite\\\"}],\\\"name\\\":\\\"CHM 152IN\\\",\\\"metrics\\\":{\\\"centrality\\\":186,\\\"complexity\\\":23.0,\\\"blocking factor\\\":14,\\\"delay factor\\\":9.0},\\\"nameSub\\\":\\\"Gen Chemistry II\\\",\\\"id\\\":8,\\\"credits\\\":4,\\\"nameCanonical\\\":\\\"General Chemsitry II\\\"},{\\\"curriculum_requisites\\\":[],\\\"name\\\":\\\"CHM 152RC\\\",\\\"metrics\\\":{\\\"centrality\\\":0,\\\"complexity\\\":23.0,\\\"blocking factor\\\":15,\\\"delay factor\\\":8.0},\\\"nameSub\\\":\\\"Gen Chemistry II Recitation\\\",\\\"id\\\":9,\\\"credits\\\":1,\\\"nameCanonical\\\":\\\"\\\"},{\\\"curriculum_requisites\\\":[{\\\"source_id\\\":11,\\\"target_id\\\":10,\\\"type\\\":\\\"CurriculumStrictCorequisite\\\"},{\\\"source_id\\\":1,\\\"target_id\\\":10,\\\"type\\\":\\\"CurriculumPrerequisite\\\"}],\\\"name\\\":\\\"PHY 210IN\\\",\\\"metrics\\\":{\\\"centrality\\\":118,\\\"complexity\\\":18.0,\\\"blocking factor\\\":11,\\\"delay factor\\\":7.0},\\\"nameSub\\\":\\\"Intro Mechanics\\\",\\\"id\\\":10,\\\"credits\\\":4,\\\"nameCanonical\\\":\\\"\\\"},{\\\"curriculum_requisites\\\":[],\\\"name\\\":\\\"PHY 210RC\\\",\\\"metrics\\\":{\\\"centrality\\\":0,\\\"complexity\\\":19.0,\\\"blocking factor\\\":12,\\\"delay factor\\\":7.0},\\\"nameSub\\\":\\\"Intro Mechanics Recitation\\\",\\\"id\\\":11,\\\"credits\\\":1,\\\"nameCanonical\\\":\\\"\\\"},{\\\"curriculum_requisites\\\":[{\\\"source_id\\\":4,\\\"target_id\\\":12,\\\"type\\\":\\\"CurriculumPrerequisite\\\"}],\\\"name\\\":\\\"WRT 102\\\",\\\"metrics\\\":{\\\"centrality\\\":0,\\\"complexity\\\":2.0,\\\"blocking factor\\\":0,\\\"delay factor\\\":2.0},\\\"nameSub\\\":\\\" English Composition II\\\",\\\"id\\\":12,\\\"credits\\\":3,\\\"nameCanonical\\\":\\\" English Composition\\\"},{\\\"curriculum_requisites\\\":[{\\\"source_id\\\":1,\\\"target_id\\\":13,\\\"type\\\":\\\"CurriculumCorequisite\\\"}],\\\"name\\\":\\\"ENG 105IN\\\",\\\"metrics\\\":{\\\"centrality\\\":204,\\\"complexity\\\":23.0,\\\"blocking factor\\\":14,\\\"delay factor\\\":9.0},\\\"nameSub\\\":\\\"Intro to MATLAB I\\\",\\\"id\\\":13,\\\"credits\\\":1,\\\"nameCanonical\\\":\\\"\\\"}],\\\"id\\\":2},{\\\"name\\\":\\\"Term 3\\\",\\\"curriculum_items\\\":[{\\\"curriculum_requisites\\\":[],\\\"name\\\":\\\" \\\",\\\"metrics\\\":{\\\"centrality\\\":0,\\\"complexity\\\":1.0,\\\"blocking factor\\\":0,\\\"delay factor\\\":1.0},\\\"nameSub\\\":\\\"AGEC-S Course\\\",\\\"id\\\":14,\\\"credits\\\":3,\\\"nameCanonical\\\":\\\"\\\"},{\\\"curriculum_requisites\\\":[],\\\"name\\\":\\\" \\\",\\\"metrics\\\":{\\\"centrality\\\":0,\\\"complexity\\\":1.0,\\\"blocking factor\\\":0,\\\"delay factor\\\":1.0},\\\"nameSub\\\":\\\"AGEC-S Course\\\",\\\"id\\\":15,\\\"credits\\\":3,\\\"nameCanonical\\\":\\\"\\\"},{\\\"curriculum_requisites\\\":[{\\\"source_id\\\":7,\\\"target_id\\\":16,\\\"type\\\":\\\"CurriculumPrerequisite\\\"}],\\\"name\\\":\\\"MAT 241\\\",\\\"metrics\\\":{\\\"centrality\\\":0,\\\"complexity\\\":3.0,\\\"blocking factor\\\":0,\\\"delay factor\\\":3.0},\\\"nameSub\\\":\\\"Calculus III\\\",\\\"id\\\":16,\\\"credits\\\":4,\\\"nameCanonical\\\":\\\"Calculus III\\\"},{\\\"curriculum_requisites\\\":[{\\\"source_id\\\":18,\\\"target_id\\\":17,\\\"type\\\":\\\"CurriculumStrictCorequisite\\\"},{\\\"source_id\\\":8,\\\"target_id\\\":17,\\\"type\\\":\\\"CurriculumPrerequisite\\\"}],\\\"name\\\":\\\" 235IN\\\",\\\"metrics\\\":{\\\"centrality\\\":12,\\\"complexity\\\":6.0,\\\"blocking factor\\\":1,\\\"delay factor\\\":5.0},\\\"nameSub\\\":\\\"General Organic Chemistry I\\\",\\\"id\\\":17,\\\"credits\\\":4,\\\"nameCanonical\\\":\\\"Organic Chemistry I\\\"},{\\\"curriculum_requisites\\\":[],\\\"name\\\":\\\"CHM  235RC\\\",\\\"metrics\\\":{\\\"centrality\\\":0,\\\"complexity\\\":5.0,\\\"blocking factor\\\":2,\\\"delay factor\\\":3.0},\\\"nameSub\\\":\\\"General Organic Chemistry I Recitation\\\",\\\"id\\\":18,\\\"credits\\\":1,\\\"nameCanonical\\\":\\\"\\\"},{\\\"curriculum_requisites\\\":[],\\\"name\\\":\\\" \\\",\\\"metrics\\\":{\\\"centrality\\\":0,\\\"complexity\\\":12.0,\\\"blocking factor\\\":6,\\\"delay factor\\\":6.0},\\\"nameSub\\\":\\\"AGEC-S Course\\\",\\\"id\\\":19,\\\"credits\\\":3,\\\"nameCanonical\\\":\\\"\\\"}],\\\"id\\\":3},{\\\"name\\\":\\\"Term 4\\\",\\\"curriculum_items\\\":[{\\\"curriculum_requisites\\\":[],\\\"name\\\":\\\" \\\",\\\"metrics\\\":{\\\"centrality\\\":0,\\\"complexity\\\":1.0,\\\"blocking factor\\\":0,\\\"delay factor\\\":1.0},\\\"nameSub\\\":\\\"AGEC-S Course\\\",\\\"id\\\":20,\\\"credits\\\":3,\\\"nameCanonical\\\":\\\"\\\"},{\\\"curriculum_requisites\\\":[],\\\"name\\\":\\\" \\\",\\\"metrics\\\":{\\\"centrality\\\":0,\\\"complexity\\\":1.0,\\\"blocking factor\\\":0,\\\"delay factor\\\":1.0},\\\"nameSub\\\":\\\"AGEC-S Course\\\",\\\"id\\\":21,\\\"credits\\\":3,\\\"nameCanonical\\\":\\\"\\\"},{\\\"curriculum_requisites\\\":[{\\\"source_id\\\":7,\\\"target_id\\\":22,\\\"type\\\":\\\"CurriculumPrerequisite\\\"}],\\\"name\\\":\\\"MAT 262\\\",\\\"metrics\\\":{\\\"centrality\\\":23,\\\"complexity\\\":12.0,\\\"blocking factor\\\":5,\\\"delay factor\\\":7.0},\\\"nameSub\\\":\\\"Differential Equations\\\",\\\"id\\\":22,\\\"credits\\\":3,\\\"nameCanonical\\\":\\\"Differential Equations\\\"},{\\\"curriculum_requisites\\\":[{\\\"source_id\\\":7,\\\"target_id\\\":23,\\\"type\\\":\\\"CurriculumPrerequisite\\\"},{\\\"source_id\\\":10,\\\"target_id\\\":23,\\\"type\\\":\\\"CurriculumPrerequisite\\\"},{\\\"source_id\\\":24,\\\"target_id\\\":23,\\\"type\\\":\\\"CurriculumStrictCorequisite\\\"}],\\\"name\\\":\\\"PHY 216IN\\\",\\\"metrics\\\":{\\\"centrality\\\":119,\\\"complexity\\\":14.0,\\\"blocking factor\\\":7,\\\"delay factor\\\":7.0},\\\"nameSub\\\":\\\"Intro Electricity & Magnetism\\\",\\\"id\\\":23,\\\"credits\\\":4,\\\"nameCanonical\\\":\\\"\\\"},{\\\"curriculum_requisites\\\":[],\\\"name\\\":\\\"PHY 216RC\\\",\\\"metrics\\\":{\\\"centrality\\\":0,\\\"complexity\\\":14.0,\\\"blocking factor\\\":8,\\\"delay factor\\\":6.0},\\\"nameSub\\\":\\\"Intro Electricity & Magnetism\\\",\\\"id\\\":24,\\\"credits\\\":1,\\\"nameCanonical\\\":\\\"\\\"},{\\\"curriculum_requisites\\\":[{\\\"source_id\\\":26,\\\"target_id\\\":25,\\\"type\\\":\\\"CurriculumStrictCorequisite\\\"},{\\\"source_id\\\":17,\\\"target_id\\\":25,\\\"type\\\":\\\"CurriculumPrerequisite\\\"}],\\\"name\\\":\\\"CHM 236IN\\\",\\\"metrics\\\":{\\\"centrality\\\":0,\\\"complexity\\\":5.0,\\\"blocking factor\\\":0,\\\"delay factor\\\":5.0},\\\"nameSub\\\":\\\"General Organic Chemistry II\\\",\\\"id\\\":25,\\\"credits\\\":4,\\\"nameCanonical\\\":\\\"Organic Chemistry II\\\"},{\\\"curriculum_requisites\\\":[],\\\"name\\\":\\\"CHM  236RC\\\",\\\"metrics\\\":{\\\"centrality\\\":0,\\\"complexity\\\":3.0,\\\"blocking factor\\\":1,\\\"delay factor\\\":2.0},\\\"nameSub\\\":\\\"General Organic Chemistry II Recitation\\\",\\\"id\\\":26,\\\"credits\\\":1,\\\"nameCanonical\\\":\\\"\\\"},{\\\"curriculum_requisites\\\":[{\\\"source_id\\\":13,\\\"target_id\\\":27,\\\"type\\\":\\\"CurriculumPrerequisite\\\"}],\\\"name\\\":\\\"ENG 205IN\\\",\\\"metrics\\\":{\\\"centrality\\\":95,\\\"complexity\\\":21.0,\\\"blocking factor\\\":12,\\\"delay factor\\\":9.0},\\\"nameSub\\\":\\\"Intro to MATLAB II\\\",\\\"id\\\":27,\\\"credits\\\":1,\\\"nameCanonical\\\":\\\"\\\"}],\\\"id\\\":4},{\\\"name\\\":\\\"Term 5\\\",\\\"curriculum_items\\\":[{\\\"curriculum_requisites\\\":[{\\\"source_id\\\":5,\\\"target_id\\\":28,\\\"type\\\":\\\"CurriculumPrerequisite\\\"},{\\\"source_id\\\":13,\\\"target_id\\\":28,\\\"type\\\":\\\"CurriculumPrerequisite\\\"},{\\\"source_id\\\":27,\\\"target_id\\\":28,\\\"type\\\":\\\"CurriculumCorequisite\\\"},{\\\"source_id\\\":8,\\\"target_id\\\":28,\\\"type\\\":\\\"CurriculumPrerequisite\\\"},{\\\"source_id\\\":1,\\\"target_id\\\":28,\\\"type\\\":\\\"CurriculumPrerequisite\\\"}],\\\"name\\\":\\\"CHEE 201\\\",\\\"metrics\\\":{\\\"centrality\\\":505,\\\"complexity\\\":20.0,\\\"blocking factor\\\":11,\\\"delay factor\\\":9.0},\\\"nameSub\\\":\\\"Elements of Chem and Envirn Eng I\\\",\\\"id\\\":28,\\\"credits\\\":3,\\\"nameCanonical\\\":\\\"\\\"},{\\\"curriculum_requisites\\\":[{\\\"source_id\\\":13,\\\"target_id\\\":29,\\\"type\\\":\\\"CurriculumCorequisite\\\"},{\\\"source_id\\\":1,\\\"target_id\\\":29,\\\"type\\\":\\\"CurriculumPrerequisite\\\"}],\\\"name\\\":\\\" 201L\\\",\\\"metrics\\\":{\\\"centrality\\\":50,\\\"complexity\\\":14.0,\\\"blocking factor\\\":6,\\\"delay factor\\\":8.0},\\\"nameSub\\\":\\\"Elements of Chem and Envirn Eng I Lab\\\",\\\"id\\\":29,\\\"credits\\\":1,\\\"nameCanonical\\\":\\\"\\\"},{\\\"curriculum_requisites\\\":[{\\\"source_id\\\":7,\\\"target_id\\\":30,\\\"type\\\":\\\"CurriculumPrerequisite\\\"},{\\\"source_id\\\":2,\\\"target_id\\\":30,\\\"type\\\":\\\"CurriculumPrerequisite\\\"},{\\\"source_id\\\":23,\\\"target_id\\\":30,\\\"type\\\":\\\"CurriculumPrerequisite\\\"}],\\\"name\\\":\\\"CHEM 480A\\\",\\\"metrics\\\":{\\\"centrality\\\":171,\\\"complexity\\\":13.0,\\\"blocking factor\\\":6,\\\"delay factor\\\":7.0},\\\"nameSub\\\":\\\"Physical Chem\\\",\\\"id\\\":30,\\\"credits\\\":3,\\\"nameCanonical\\\":\\\"\\\"},{\\\"curriculum_requisites\\\":[],\\\"name\\\":\\\" \\\",\\\"metrics\\\":{\\\"centrality\\\":0,\\\"complexity\\\":1.0,\\\"blocking factor\\\":0,\\\"delay factor\\\":1.0},\\\"nameSub\\\":\\\"Engineering Elective\\\",\\\"id\\\":31,\\\"credits\\\":3,\\\"nameCanonical\\\":\\\"\\\"},{\\\"curriculum_requisites\\\":[],\\\"name\\\":\\\" \\\",\\\"metrics\\\":{\\\"centrality\\\":0,\\\"complexity\\\":1.0,\\\"blocking factor\\\":0,\\\"delay factor\\\":1.0},\\\"nameSub\\\":\\\"Engineering Elective\\\",\\\"id\\\":32,\\\"credits\\\":3,\\\"nameCanonical\\\":\\\"\\\"}],\\\"id\\\":5},{\\\"name\\\":\\\"Term 6\\\",\\\"curriculum_items\\\":[{\\\"curriculum_requisites\\\":[],\\\"name\\\":\\\" \\\",\\\"metrics\\\":{\\\"centrality\\\":0,\\\"complexity\\\":1.0,\\\"blocking factor\\\":0,\\\"delay factor\\\":1.0},\\\"nameSub\\\":\\\"Technical Elective\\\",\\\"id\\\":33,\\\"credits\\\":3,\\\"nameCanonical\\\":\\\"\\\"},{\\\"curriculum_requisites\\\":[{\\\"source_id\\\":29,\\\"target_id\\\":34,\\\"type\\\":\\\"CurriculumPrerequisite\\\"},{\\\"source_id\\\":28,\\\"target_id\\\":34,\\\"type\\\":\\\"CurriculumPrerequisite\\\"},{\\\"source_id\\\":19,\\\"target_id\\\":34,\\\"type\\\":\\\"CurriculumCorequisite\\\"}],\\\"name\\\":\\\"CHEE 202\\\",\\\"metrics\\\":{\\\"centrality\\\":235,\\\"complexity\\\":14.0,\\\"blocking factor\\\":5,\\\"delay factor\\\":9.0},\\\"nameSub\\\":\\\"Elements of Chem Eng II\\\",\\\"id\\\":34,\\\"credits\\\":4,\\\"nameCanonical\\\":\\\"\\\"},{\\\"curriculum_requisites\\\":[{\\\"source_id\\\":10,\\\"target_id\\\":35,\\\"type\\\":\\\"CurriculumPrerequisite\\\"},{\\\"source_id\\\":28,\\\"target_id\\\":35,\\\"type\\\":\\\"CurriculumPrerequisite\\\"}],\\\"name\\\":\\\"CHEE 203\\\",\\\"metrics\\\":{\\\"centrality\\\":259,\\\"complexity\\\":14.0,\\\"blocking factor\\\":5,\\\"delay factor\\\":9.0},\\\"nameSub\\\":\\\"Chem Eng Heat Xfer & Fluid Flow\\\",\\\"id\\\":35,\\\"credits\\\":3,\\\"nameCanonical\\\":\\\"\\\"},{\\\"curriculum_requisites\\\":[],\\\"name\\\":\\\" \\\",\\\"metrics\\\":{\\\"centrality\\\":0,\\\"complexity\\\":1.0,\\\"blocking factor\\\":0,\\\"delay factor\\\":1.0},\\\"nameSub\\\":\\\"Engineering Elective\\\",\\\"id\\\":36,\\\"credits\\\":3,\\\"nameCanonical\\\":\\\"\\\"},{\\\"curriculum_requisites\\\":[],\\\"name\\\":\\\" \\\",\\\"metrics\\\":{\\\"centrality\\\":0,\\\"complexity\\\":1.0,\\\"blocking factor\\\":0,\\\"delay factor\\\":1.0},\\\"nameSub\\\":\\\"Technical Elective\\\",\\\"id\\\":37,\\\"credits\\\":3,\\\"nameCanonical\\\":\\\"\\\"}],\\\"id\\\":6},{\\\"name\\\":\\\"Term 7\\\",\\\"curriculum_items\\\":[{\\\"curriculum_requisites\\\":[{\\\"source_id\\\":35,\\\"target_id\\\":38,\\\"type\\\":\\\"CurriculumPrerequisite\\\"}],\\\"name\\\":\\\"CHEE 303\\\",\\\"metrics\\\":{\\\"centrality\\\":212,\\\"complexity\\\":13.0,\\\"blocking factor\\\":4,\\\"delay factor\\\":9.0},\\\"nameSub\\\":\\\"Chem Eng Mass Xfer\\\",\\\"id\\\":38,\\\"credits\\\":3,\\\"nameCanonical\\\":\\\"\\\"},{\\\"curriculum_requisites\\\":[{\\\"source_id\\\":22,\\\"target_id\\\":39,\\\"type\\\":\\\"CurriculumPrerequisite\\\"},{\\\"source_id\\\":34,\\\"target_id\\\":39,\\\"type\\\":\\\"CurriculumPrerequisite\\\"}],\\\"name\\\":\\\"CHEE 402\\\",\\\"metrics\\\":{\\\"centrality\\\":201,\\\"complexity\\\":13.0,\\\"blocking factor\\\":4,\\\"delay factor\\\":9.0},\\\"nameSub\\\":\\\"Chem Eng Modeling\\\",\\\"id\\\":39,\\\"credits\\\":3,\\\"nameCanonical\\\":\\\"\\\"},{\\\"curriculum_requisites\\\":[],\\\"name\\\":\\\"CHEE 489\\\",\\\"metrics\\\":{\\\"centrality\\\":0,\\\"complexity\\\":1.0,\\\"blocking factor\\\":0,\\\"delay factor\\\":1.0},\\\"nameSub\\\":\\\"Trends in Nanomedicine Eng\\\",\\\"id\\\":41,\\\"credits\\\":3,\\\"nameCanonical\\\":\\\"\\\"}],\\\"id\\\":7},{\\\"name\\\":\\\"Term 8\\\",\\\"curriculum_items\\\":[{\\\"curriculum_requisites\\\":[{\\\"source_id\\\":22,\\\"target_id\\\":40,\\\"type\\\":\\\"CurriculumPrerequisite\\\"},{\\\"source_id\\\":34,\\\"target_id\\\":40,\\\"type\\\":\\\"CurriculumPrerequisite\\\"},{\\\"source_id\\\":35,\\\"target_id\\\":40,\\\"type\\\":\\\"CurriculumPrerequisite\\\"},{\\\"source_id\\\":43,\\\"target_id\\\":40,\\\"type\\\":\\\"CurriculumCorequisite\\\"},{\\\"source_id\\\":42,\\\"target_id\\\":40,\\\"type\\\":\\\"CurriculumCorequisite\\\"}],\\\"name\\\":\\\"CHEE 301A\\\",\\\"metrics\\\":{\\\"centrality\\\":320,\\\"complexity\\\":10.0,\\\"blocking factor\\\":1,\\\"delay factor\\\":9.0},\\\"nameSub\\\":\\\"Chem Eng Lab I\\\",\\\"id\\\":40,\\\"credits\\\":1,\\\"nameCanonical\\\":\\\"\\\"},{\\\"curriculum_requisites\\\":[{\\\"source_id\\\":39,\\\"target_id\\\":42,\\\"type\\\":\\\"CurriculumPrerequisite\\\"},{\\\"source_id\\\":38,\\\"target_id\\\":42,\\\"type\\\":\\\"CurriculumPrerequisite\\\"}],\\\"name\\\":\\\"CHEE 305\\\",\\\"metrics\\\":{\\\"centrality\\\":262,\\\"complexity\\\":11.0,\\\"blocking factor\\\":2,\\\"delay factor\\\":9.0},\\\"nameSub\\\":\\\"Chem Eng Transport Phenom\\\",\\\"id\\\":42,\\\"credits\\\":3,\\\"nameCanonical\\\":\\\"\\\"},{\\\"curriculum_requisites\\\":[{\\\"source_id\\\":30,\\\"target_id\\\":43,\\\"type\\\":\\\"CurriculumPrerequisite\\\"},{\\\"source_id\\\":28,\\\"target_id\\\":43,\\\"type\\\":\\\"CurriculumPrerequisite\\\"}],\\\"name\\\":\\\"CHEE 326\\\",\\\"metrics\\\":{\\\"centrality\\\":280,\\\"complexity\\\":11.0,\\\"blocking factor\\\":4,\\\"delay factor\\\":7.0},\\\"nameSub\\\":\\\"Chem & Phys Equilibrium\\\",\\\"id\\\":43,\\\"credits\\\":3,\\\"nameCanonical\\\":\\\"\\\"},{\\\"curriculum_requisites\\\":[{\\\"source_id\\\":30,\\\"target_id\\\":48,\\\"type\\\":\\\"CurriculumPrerequisite\\\"}],\\\"name\\\":\\\"CHEM 480B\\\",\\\"metrics\\\":{\\\"centrality\\\":0,\\\"complexity\\\":5.0,\\\"blocking factor\\\":0,\\\"delay factor\\\":5.0},\\\"nameSub\\\":\\\"Physical Chem\\\",\\\"id\\\":48,\\\"credits\\\":3,\\\"nameCanonical\\\":\\\"\\\"},{\\\"curriculum_requisites\\\":[{\\\"source_id\\\":39,\\\"target_id\\\":49,\\\"type\\\":\\\"CurriculumPrerequisite\\\"}],\\\"name\\\":\\\"CHEE 413\\\",\\\"metrics\\\":{\\\"centrality\\\":0,\\\"complexity\\\":7.0,\\\"blocking factor\\\":0,\\\"delay factor\\\":7.0},\\\"nameSub\\\":\\\"Process Control and Simulation\\\",\\\"id\\\":49,\\\"credits\\\":3,\\\"nameCanonical\\\":\\\"\\\"}],\\\"id\\\":8},{\\\"name\\\":\\\"Term 9\\\",\\\"curriculum_items\\\":[{\\\"curriculum_requisites\\\":[{\\\"source_id\\\":43,\\\"target_id\\\":45,\\\"type\\\":\\\"CurriculumPrerequisite\\\"}],\\\"name\\\":\\\"CHEE 420\\\",\\\"metrics\\\":{\\\"centrality\\\":76,\\\"complexity\\\":8.0,\\\"blocking factor\\\":1,\\\"delay factor\\\":7.0},\\\"nameSub\\\":\\\"Chem Reaction Eng\\\",\\\"id\\\":45,\\\"credits\\\":3,\\\"nameCanonical\\\":\\\"\\\"},{\\\"curriculum_requisites\\\":[{\\\"source_id\\\":43,\\\"target_id\\\":46,\\\"type\\\":\\\"CurriculumPrerequisite\\\"},{\\\"source_id\\\":45,\\\"target_id\\\":46,\\\"type\\\":\\\"CurriculumStrictCorequisite\\\"},{\\\"source_id\\\":38,\\\"target_id\\\":46,\\\"type\\\":\\\"CurriculumPrerequisite\\\"}],\\\"name\\\":\\\"CHEE 442\\\",\\\"metrics\\\":{\\\"centrality\\\":0,\\\"complexity\\\":7.0,\\\"blocking factor\\\":0,\\\"delay factor\\\":7.0},\\\"nameSub\\\":\\\"Chem Eng Design Principles\\\",\\\"id\\\":46,\\\"credits\\\":3,\\\"nameCanonical\\\":\\\"\\\"},{\\\"curriculum_requisites\\\":[{\\\"source_id\\\":43,\\\"target_id\\\":44,\\\"type\\\":\\\"CurriculumStrictCorequisite\\\"},{\\\"source_id\\\":38,\\\"target_id\\\":44,\\\"type\\\":\\\"CurriculumPrerequisite\\\"},{\\\"source_id\\\":42,\\\"target_id\\\":44,\\\"type\\\":\\\"CurriculumStrictCorequisite\\\"},{\\\"source_id\\\":40,\\\"target_id\\\":44,\\\"type\\\":\\\"CurriculumPrerequisite\\\"}],\\\"name\\\":\\\"CHEE 301B\\\",\\\"metrics\\\":{\\\"centrality\\\":0,\\\"complexity\\\":9.0,\\\"blocking factor\\\":0,\\\"delay factor\\\":9.0},\\\"nameSub\\\":\\\"Chem Eng Lab II\\\",\\\"id\\\":44,\\\"credits\\\":1,\\\"nameCanonical\\\":\\\"\\\"}],\\\"id\\\":9}],\\\"institution\\\":\\\"Pima Community College\\\"}},\\\"*\\\"); window.removeEventListener(\\\"message\\\",window.messageReceived); window.messageReceived=(function (event){return (event.data.curriculum!==undefined) ? (WebIO.setval({\\\"name\\\":\\\"curriculum-data\\\",\\\"scope\\\":\\\"12158872664900606211\\\",\\\"id\\\":\\\"17025928075642137750\\\",\\\"type\\\":\\\"observable\\\"},event.data.curriculum)) : undefined}); return window.addEventListener(\\\"message\\\",window.messageReceived)})\")), :style => Dict(:padding => \"0\", :height => \"85vh\", :margin => \"0\", :border => \"none\", :width => \"100%\"))), Dict{String, Tuple{Observables.AbstractObservable, Union{Nothing, Bool}}}(\"curriculum-data\" => (Observable{Dict{String, Any}} with 1 listeners. Value:\n",
       "Dict{String, Any}(\"options\" => Dict{String, Any}(\"hideTerms\" => false, \"edit\" => false), \"curriculum\" => Dict{String, Any}(\"name\" => \"Pre-Engineering (Chemical Eng. Concentration)\", \"dp_name\" => \"2019-20 Pima Pre-Engineering\", \"curriculum_terms\" => Dict{String, Any}[Dict(\"name\" => \"Term 1\", \"curriculum_items\" => Dict{String, Any}[Dict(\"curriculum_requisites\" => Dict{String, Any}[], \"name\" => \"MAT 220\", \"metrics\" => Dict{String, Any}(\"centrality\" => 0, \"complexity\" => 32.0, \"blocking factor\" => 23, \"delay factor\" => 9.0), \"nameSub\" => \"Calculus I\", \"id\" => 1, \"credits\" => 5, \"nameCanonical\" => \"Calculus I\"), Dict(\"curriculum_requisites\" => Dict{String, Any}[Dict(\"source_id\" => 3, \"target_id\" => 2, \"type\" => \"CurriculumStrictCorequisite\")], \"name\" => \"CHM 151IN\", \"metrics\" => Dict{String, Any}(\"centrality\" => 126, \"complexity\" => 26.0, \"blocking factor\" => 17, \"delay factor\" => 9.0), \"nameSub\" => \"Gen Chemistry I\", \"id\" => 2, \"credits\" => 4, \"nameCanonical\" => \"General Chemsitry I\"), Dict(\"curriculum_requisites\" => Dict{String, Any}[], \"name\" => \"CHM 151RC\", \"metrics\" => Dict{String, Any}(\"centrality\" => 0, \"complexity\" => 27.0, \"blocking factor\" => 18, \"delay factor\" => 9.0), \"nameSub\" => \"Gen Chemistry I Recitation\", \"id\" => 3, \"credits\" => 1, \"nameCanonical\" => \"\"), Dict(\"curriculum_requisites\" => Dict{String, Any}[], \"name\" => \"WRT 101\", \"metrics\" => Dict{String, Any}(\"centrality\" => 0, \"complexity\" => 3.0, \"blocking factor\" => 1, \"delay factor\" => 2.0), \"nameSub\" => \"English Composition I\", \"id\" => 4, \"credits\" => 3, \"nameCanonical\" => \"English Composition I\"), Dict(\"curriculum_requisites\" => Dict{String, Any}[Dict(\"source_id\" => 1, \"target_id\" => 5, \"type\" => \"CurriculumCorequisite\")], \"name\" => \"ENG 102IN\", \"metrics\" => Dict{String, Any}(\"centrality\" => 82, \"complexity\" => 20.0, \"blocking factor\" => 12, \"delay factor\" => 8.0), \"nameSub\" => \"Problem-Solving and Engineering Design\", \"id\" => 5, \"credits\" => 3, \"nameCanonical\" => \"Intro to Engineering\"), Dict(\"curriculum_requisites\" => Dict{String, Any}[], \"name\" => \" \", \"metrics\" => Dict{String, Any}(\"centrality\" => 0, \"complexity\" => 1.0, \"blocking factor\" => 0, \"delay factor\" => 1.0), \"nameSub\" => \"AGEC-S Course\", \"id\" => 6, \"credits\" => 3, \"nameCanonical\" => \"\")], \"id\" => 1), Dict(\"name\" => \"Term 2\", \"curriculum_items\" => Dict{String, Any}[Dict(\"curriculum_requisites\" => Dict{String, Any}[Dict(\"source_id\" => 1, \"target_id\" => 7, \"type\" => \"CurriculumPrerequisite\")], \"name\" => \"MAT 231\", \"metrics\" => Dict{String, Any}(\"centrality\" => 83, \"complexity\" => 20.0, \"blocking factor\" => 13, \"delay factor\" => 7.0), \"nameSub\" => \"Calculus II\", \"id\" => 7, \"credits\" => 4, \"nameCanonical\" => \"Calculus II\"), Dict(\"curriculum_requisites\" => Dict{String, Any}[Dict(\"source_id\" => 2, \"target_id\" => 8, \"type\" => \"CurriculumPrerequisite\"), Dict(\"source_id\" => 9, \"target_id\" => 8, \"type\" => \"CurriculumStrictCorequisite\")], \"name\" => \"CHM 152IN\", \"metrics\" => Dict{String, Any}(\"centrality\" => 186, \"complexity\" => 23.0, \"blocking factor\" => 14, \"delay factor\" => 9.0), \"nameSub\" => \"Gen Chemistry II\", \"id\" => 8, \"credits\" => 4, \"nameCanonical\" => \"General Chemsitry II\"), Dict(\"curriculum_requisites\" => Dict{String, Any}[], \"name\" => \"CHM 152RC\", \"metrics\" => Dict{String, Any}(\"centrality\" => 0, \"complexity\" => 23.0, \"blocking factor\" => 15, \"delay factor\" => 8.0), \"nameSub\" => \"Gen Chemistry II Recitation\", \"id\" => 9, \"credits\" => 1, \"nameCanonical\" => \"\"), Dict(\"curriculum_requisites\" => Dict{String, Any}[Dict(\"source_id\" => 11, \"target_id\" => 10, \"type\" => \"CurriculumStrictCorequisite\"), Dict(\"source_id\" => 1, \"target_id\" => 10, \"type\" => \"CurriculumPrerequisite\")], \"name\" => \"PHY 210IN\", \"metrics\" => Dict{String, Any}(\"centrality\" => 118, \"complexity\" => 18.0, \"blocking factor\" => 11, \"delay factor\" => 7.0), \"nameSub\" => \"Intro Mechanics\", \"id\" => 10, \"credits\" => 4, \"nameCanonical\" => \"\"), Dict(\"curriculum_requisites\" => Dict{String, Any}[], \"name\" => \"PHY 210RC\", \"metrics\" => Dict{String, Any}(\"centrality\" => 0, \"complexity\" => 19.0, \"blocking factor\" => 12, \"delay factor\" => 7.0), \"nameSub\" => \"Intro Mechanics Recitation\", \"id\" => 11, \"credits\" => 1, \"nameCanonical\" => \"\"), Dict(\"curriculum_requisites\" => Dict{String, Any}[Dict(\"source_id\" => 4, \"target_id\" => 12, \"type\" => \"CurriculumPrerequisite\")], \"name\" => \"WRT 102\", \"metrics\" => Dict{String, Any}(\"centrality\" => 0, \"complexity\" => 2.0, \"blocking factor\" => 0, \"delay factor\" => 2.0), \"nameSub\" => \" English Composition II\", \"id\" => 12, \"credits\" => 3, \"nameCanonical\" => \" English Composition\"), Dict(\"curriculum_requisites\" => Dict{String, Any}[Dict(\"source_id\" => 1, \"target_id\" => 13, \"type\" => \"CurriculumCorequisite\")], \"name\" => \"ENG 105IN\", \"metrics\" => Dict{String, Any}(\"centrality\" => 204, \"complexity\" => 23.0, \"blocking factor\" => 14, \"delay factor\" => 9.0), \"nameSub\" => \"Intro to MATLAB I\", \"id\" => 13, \"credits\" => 1, \"nameCanonical\" => \"\")], \"id\" => 2), Dict(\"name\" => \"Term 3\", \"curriculum_items\" => Dict{String, Any}[Dict(\"curriculum_requisites\" => Dict{String, Any}[], \"name\" => \" \", \"metrics\" => Dict{String, Any}(\"centrality\" => 0, \"complexity\" => 1.0, \"blocking factor\" => 0, \"delay factor\" => 1.0), \"nameSub\" => \"AGEC-S Course\", \"id\" => 14, \"credits\" => 3, \"nameCanonical\" => \"\"), Dict(\"curriculum_requisites\" => Dict{String, Any}[], \"name\" => \" \", \"metrics\" => Dict{String, Any}(\"centrality\" => 0, \"complexity\" => 1.0, \"blocking factor\" => 0, \"delay factor\" => 1.0), \"nameSub\" => \"AGEC-S Course\", \"id\" => 15, \"credits\" => 3, \"nameCanonical\" => \"\"), Dict(\"curriculum_requisites\" => Dict{String, Any}[Dict(\"source_id\" => 7, \"target_id\" => 16, \"type\" => \"CurriculumPrerequisite\")], \"name\" => \"MAT 241\", \"metrics\" => Dict{String, Any}(\"centrality\" => 0, \"complexity\" => 3.0, \"blocking factor\" => 0, \"delay factor\" => 3.0), \"nameSub\" => \"Calculus III\", \"id\" => 16, \"credits\" => 4, \"nameCanonical\" => \"Calculus III\"), Dict(\"curriculum_requisites\" => Dict{String, Any}[Dict(\"source_id\" => 18, \"target_id\" => 17, \"type\" => \"CurriculumStrictCorequisite\"), Dict(\"source_id\" => 8, \"target_id\" => 17, \"type\" => \"CurriculumPrerequisite\")], \"name\" => \" 235IN\", \"metrics\" => Dict{String, Any}(\"centrality\" => 12, \"complexity\" => 6.0, \"blocking factor\" => 1, \"delay factor\" => 5.0), \"nameSub\" => \"General Organic Chemistry I\", \"id\" => 17, \"credits\" => 4, \"nameCanonical\" => \"Organic Chemistry I\"), Dict(\"curriculum_requisites\" => Dict{String, Any}[], \"name\" => \"CHM  235RC\", \"metrics\" => Dict{String, Any}(\"centrality\" => 0, \"complexity\" => 5.0, \"blocking factor\" => 2, \"delay factor\" => 3.0), \"nameSub\" => \"General Organic Chemistry I Recitation\", \"id\" => 18, \"credits\" => 1, \"nameCanonical\" => \"\"), Dict(\"curriculum_requisites\" => Dict{String, Any}[], \"name\" => \" \", \"metrics\" => Dict{String, Any}(\"centrality\" => 0, \"complexity\" => 12.0, \"blocking factor\" => 6, \"delay factor\" => 6.0), \"nameSub\" => \"AGEC-S Course\", \"id\" => 19, \"credits\" => 3, \"nameCanonical\" => \"\")], \"id\" => 3), Dict(\"name\" => \"Term 4\", \"curriculum_items\" => Dict{String, Any}[Dict(\"curriculum_requisites\" => Dict{String, Any}[], \"name\" => \" \", \"metrics\" => Dict{String, Any}(\"centrality\" => 0, \"complexity\" => 1.0, \"blocking factor\" => 0, \"delay factor\" => 1.0), \"nameSub\" => \"AGEC-S Course\", \"id\" => 20, \"credits\" => 3, \"nameCanonical\" => \"\"), Dict(\"curriculum_requisites\" => Dict{String, Any}[], \"name\" => \" \", \"metrics\" => Dict{String, Any}(\"centrality\" => 0, \"complexity\" => 1.0, \"blocking factor\" => 0, \"delay factor\" => 1.0), \"nameSub\" => \"AGEC-S Course\", \"id\" => 21, \"credits\" => 3, \"nameCanonical\" => \"\"), Dict(\"curriculum_requisites\" => Dict{String, Any}[Dict(\"source_id\" => 7, \"target_id\" => 22, \"type\" => \"CurriculumPrerequisite\")], \"name\" => \"MAT 262\", \"metrics\" => Dict{String, Any}(\"centrality\" => 23, \"complexity\" => 12.0, \"blocking factor\" => 5, \"delay factor\" => 7.0), \"nameSub\" => \"Differential Equations\", \"id\" => 22, \"credits\" => 3, \"nameCanonical\" => \"Differential Equations\"), Dict(\"curriculum_requisites\" => Dict{String, Any}[Dict(\"source_id\" => 7, \"target_id\" => 23, \"type\" => \"CurriculumPrerequisite\"), Dict(\"source_id\" => 10, \"target_id\" => 23, \"type\" => \"CurriculumPrerequisite\"), Dict(\"source_id\" => 24, \"target_id\" => 23, \"type\" => \"CurriculumStrictCorequisite\")], \"name\" => \"PHY 216IN\", \"metrics\" => Dict{String, Any}(\"centrality\" => 119, \"complexity\" => 14.0, \"blocking factor\" => 7, \"delay factor\" => 7.0), \"nameSub\" => \"Intro Electricity & Magnetism\", \"id\" => 23, \"credits\" => 4, \"nameCanonical\" => \"\"), Dict(\"curriculum_requisites\" => Dict{String, Any}[], \"name\" => \"PHY 216RC\", \"metrics\" => Dict{String, Any}(\"centrality\" => 0, \"complexity\" => 14.0, \"blocking factor\" => 8, \"delay factor\" => 6.0), \"nameSub\" => \"Intro Electricity & Magnetism\", \"id\" => 24, \"credits\" => 1, \"nameCanonical\" => \"\"), Dict(\"curriculum_requisites\" => Dict{String, Any}[Dict(\"source_id\" => 26, \"target_id\" => 25, \"type\" => \"CurriculumStrictCorequisite\"), Dict(\"source_id\" => 17, \"target_id\" => 25, \"type\" => \"CurriculumPrerequisite\")], \"name\" => \"CHM 236IN\", \"metrics\" => Dict{String, Any}(\"centrality\" => 0, \"complexity\" => 5.0, \"blocking factor\" => 0, \"delay factor\" => 5.0), \"nameSub\" => \"General Organic Chemistry II\", \"id\" => 25, \"credits\" => 4, \"nameCanonical\" => \"Organic Chemistry II\"), Dict(\"curriculum_requisites\" => Dict{String, Any}[], \"name\" => \"CHM  236RC\", \"metrics\" => Dict{String, Any}(\"centrality\" => 0, \"complexity\" => 3.0, \"blocking factor\" => 1, \"delay factor\" => 2.0), \"nameSub\" => \"General Organic Chemistry II Recitation\", \"id\" => 26, \"credits\" => 1, \"nameCanonical\" => \"\"), Dict(\"curriculum_requisites\" => Dict{String, Any}[Dict(\"source_id\" => 13, \"target_id\" => 27, \"type\" => \"CurriculumPrerequisite\")], \"name\" => \"ENG 205IN\", \"metrics\" => Dict{String, Any}(\"centrality\" => 95, \"complexity\" => 21.0, \"blocking factor\" => 12, \"delay factor\" => 9.0), \"nameSub\" => \"Intro to MATLAB II\", \"id\" => 27, \"credits\" => 1, \"nameCanonical\" => \"\")], \"id\" => 4), Dict(\"name\" => \"Term 5\", \"curriculum_items\" => Dict{String, Any}[Dict(\"curriculum_requisites\" => Dict{String, Any}[Dict(\"source_id\" => 5, \"target_id\" => 28, \"type\" => \"CurriculumPrerequisite\"), Dict(\"source_id\" => 13, \"target_id\" => 28, \"type\" => \"CurriculumPrerequisite\"), Dict(\"source_id\" => 27, \"target_id\" => 28, \"type\" => \"CurriculumCorequisite\"), Dict(\"source_id\" => 8, \"target_id\" => 28, \"type\" => \"CurriculumPrerequisite\"), Dict(\"source_id\" => 1, \"target_id\" => 28, \"type\" => \"CurriculumPrerequisite\")], \"name\" => \"CHEE 201\", \"metrics\" => Dict{String, Any}(\"centrality\" => 505, \"complexity\" => 20.0, \"blocking factor\" => 11, \"delay factor\" => 9.0), \"nameSub\" => \"Elements of Chem and Envirn Eng I\", \"id\" => 28, \"credits\" => 3, \"nameCanonical\" => \"\"), Dict(\"curriculum_requisites\" => Dict{String, Any}[Dict(\"source_id\" => 13, \"target_id\" => 29, \"type\" => \"CurriculumCorequisite\"), Dict(\"source_id\" => 1, \"target_id\" => 29, \"type\" => \"CurriculumPrerequisite\")], \"name\" => \" 201L\", \"metrics\" => Dict{String, Any}(\"centrality\" => 50, \"complexity\" => 14.0, \"blocking factor\" => 6, \"delay factor\" => 8.0), \"nameSub\" => \"Elements of Chem and Envirn Eng I Lab\", \"id\" => 29, \"credits\" => 1, \"nameCanonical\" => \"\"), Dict(\"curriculum_requisites\" => Dict{String, Any}[Dict(\"source_id\" => 7, \"target_id\" => 30, \"type\" => \"CurriculumPrerequisite\"), Dict(\"source_id\" => 2, \"target_id\" => 30, \"type\" => \"CurriculumPrerequisite\"), Dict(\"source_id\" => 23, \"target_id\" => 30, \"type\" => \"CurriculumPrerequisite\")], \"name\" => \"CHEM 480A\", \"metrics\" => Dict{String, Any}(\"centrality\" => 171, \"complexity\" => 13.0, \"blocking factor\" => 6, \"delay factor\" => 7.0), \"nameSub\" => \"Physical Chem\", \"id\" => 30, \"credits\" => 3, \"nameCanonical\" => \"\"), Dict(\"curriculum_requisites\" => Dict{String, Any}[], \"name\" => \" \", \"metrics\" => Dict{String, Any}(\"centrality\" => 0, \"complexity\" => 1.0, \"blocking factor\" => 0, \"delay factor\" => 1.0), \"nameSub\" => \"Engineering Elective\", \"id\" => 31, \"credits\" => 3, \"nameCanonical\" => \"\"), Dict(\"curriculum_requisites\" => Dict{String, Any}[], \"name\" => \" \", \"metrics\" => Dict{String, Any}(\"centrality\" => 0, \"complexity\" => 1.0, \"blocking factor\" => 0, \"delay factor\" => 1.0), \"nameSub\" => \"Engineering Elective\", \"id\" => 32, \"credits\" => 3, \"nameCanonical\" => \"\")], \"id\" => 5), Dict(\"name\" => \"Term 6\", \"curriculum_items\" => Dict{String, Any}[Dict(\"curriculum_requisites\" => Dict{String, Any}[], \"name\" => \" \", \"metrics\" => Dict{String, Any}(\"centrality\" => 0, \"complexity\" => 1.0, \"blocking factor\" => 0, \"delay factor\" => 1.0), \"nameSub\" => \"Technical Elective\", \"id\" => 33, \"credits\" => 3, \"nameCanonical\" => \"\"), Dict(\"curriculum_requisites\" => Dict{String, Any}[Dict(\"source_id\" => 29, \"target_id\" => 34, \"type\" => \"CurriculumPrerequisite\"), Dict(\"source_id\" => 28, \"target_id\" => 34, \"type\" => \"CurriculumPrerequisite\"), Dict(\"source_id\" => 19, \"target_id\" => 34, \"type\" => \"CurriculumCorequisite\")], \"name\" => \"CHEE 202\", \"metrics\" => Dict{String, Any}(\"centrality\" => 235, \"complexity\" => 14.0, \"blocking factor\" => 5, \"delay factor\" => 9.0), \"nameSub\" => \"Elements of Chem Eng II\", \"id\" => 34, \"credits\" => 4, \"nameCanonical\" => \"\"), Dict(\"curriculum_requisites\" => Dict{String, Any}[Dict(\"source_id\" => 10, \"target_id\" => 35, \"type\" => \"CurriculumPrerequisite\"), Dict(\"source_id\" => 28, \"target_id\" => 35, \"type\" => \"CurriculumPrerequisite\")], \"name\" => \"CHEE 203\", \"metrics\" => Dict{String, Any}(\"centrality\" => 259, \"complexity\" => 14.0, \"blocking factor\" => 5, \"delay factor\" => 9.0), \"nameSub\" => \"Chem Eng Heat Xfer & Fluid Flow\", \"id\" => 35, \"credits\" => 3, \"nameCanonical\" => \"\"), Dict(\"curriculum_requisites\" => Dict{String, Any}[], \"name\" => \" \", \"metrics\" => Dict{String, Any}(\"centrality\" => 0, \"complexity\" => 1.0, \"blocking factor\" => 0, \"delay factor\" => 1.0), \"nameSub\" => \"Engineering Elective\", \"id\" => 36, \"credits\" => 3, \"nameCanonical\" => \"\"), Dict(\"curriculum_requisites\" => Dict{String, Any}[], \"name\" => \" \", \"metrics\" => Dict{String, Any}(\"centrality\" => 0, \"complexity\" => 1.0, \"blocking factor\" => 0, \"delay factor\" => 1.0), \"nameSub\" => \"Technical Elective\", \"id\" => 37, \"credits\" => 3, \"nameCanonical\" => \"\")], \"id\" => 6), Dict(\"name\" => \"Term 7\", \"curriculum_items\" => Dict{String, Any}[Dict(\"curriculum_requisites\" => Dict{String, Any}[Dict(\"source_id\" => 35, \"target_id\" => 38, \"type\" => \"CurriculumPrerequisite\")], \"name\" => \"CHEE 303\", \"metrics\" => Dict{String, Any}(\"centrality\" => 212, \"complexity\" => 13.0, \"blocking factor\" => 4, \"delay factor\" => 9.0), \"nameSub\" => \"Chem Eng Mass Xfer\", \"id\" => 38, \"credits\" => 3, \"nameCanonical\" => \"\"), Dict(\"curriculum_requisites\" => Dict{String, Any}[Dict(\"source_id\" => 22, \"target_id\" => 39, \"type\" => \"CurriculumPrerequisite\"), Dict(\"source_id\" => 34, \"target_id\" => 39, \"type\" => \"CurriculumPrerequisite\")], \"name\" => \"CHEE 402\", \"metrics\" => Dict{String, Any}(\"centrality\" => 201, \"complexity\" => 13.0, \"blocking factor\" => 4, \"delay factor\" => 9.0), \"nameSub\" => \"Chem Eng Modeling\", \"id\" => 39, \"credits\" => 3, \"nameCanonical\" => \"\"), Dict(\"curriculum_requisites\" => Dict{String, Any}[], \"name\" => \"CHEE 489\", \"metrics\" => Dict{String, Any}(\"centrality\" => 0, \"complexity\" => 1.0, \"blocking factor\" => 0, \"delay factor\" => 1.0), \"nameSub\" => \"Trends in Nanomedicine Eng\", \"id\" => 41, \"credits\" => 3, \"nameCanonical\" => \"\")], \"id\" => 7), Dict(\"name\" => \"Term 8\", \"curriculum_items\" => Dict{String, Any}[Dict(\"curriculum_requisites\" => Dict{String, Any}[Dict(\"source_id\" => 22, \"target_id\" => 40, \"type\" => \"CurriculumPrerequisite\"), Dict(\"source_id\" => 34, \"target_id\" => 40, \"type\" => \"CurriculumPrerequisite\"), Dict(\"source_id\" => 35, \"target_id\" => 40, \"type\" => \"CurriculumPrerequisite\"), Dict(\"source_id\" => 43, \"target_id\" => 40, \"type\" => \"CurriculumCorequisite\"), Dict(\"source_id\" => 42, \"target_id\" => 40, \"type\" => \"CurriculumCorequisite\")], \"name\" => \"CHEE 301A\", \"metrics\" => Dict{String, Any}(\"centrality\" => 320, \"complexity\" => 10.0, \"blocking factor\" => 1, \"delay factor\" => 9.0), \"nameSub\" => \"Chem Eng Lab I\", \"id\" => 40, \"credits\" => 1, \"nameCanonical\" => \"\"), Dict(\"curriculum_requisites\" => Dict{String, Any}[Dict(\"source_id\" => 39, \"target_id\" => 42, \"type\" => \"CurriculumPrerequisite\"), Dict(\"source_id\" => 38, \"target_id\" => 42, \"type\" => \"CurriculumPrerequisite\")], \"name\" => \"CHEE 305\", \"metrics\" => Dict{String, Any}(\"centrality\" => 262, \"complexity\" => 11.0, \"blocking factor\" => 2, \"delay factor\" => 9.0), \"nameSub\" => \"Chem Eng Transport Phenom\", \"id\" => 42, \"credits\" => 3, \"nameCanonical\" => \"\"), Dict(\"curriculum_requisites\" => Dict{String, Any}[Dict(\"source_id\" => 30, \"target_id\" => 43, \"type\" => \"CurriculumPrerequisite\"), Dict(\"source_id\" => 28, \"target_id\" => 43, \"type\" => \"CurriculumPrerequisite\")], \"name\" => \"CHEE 326\", \"metrics\" => Dict{String, Any}(\"centrality\" => 280, \"complexity\" => 11.0, \"blocking factor\" => 4, \"delay factor\" => 7.0), \"nameSub\" => \"Chem & Phys Equilibrium\", \"id\" => 43, \"credits\" => 3, \"nameCanonical\" => \"\"), Dict(\"curriculum_requisites\" => Dict{String, Any}[Dict(\"source_id\" => 30, \"target_id\" => 48, \"type\" => \"CurriculumPrerequisite\")], \"name\" => \"CHEM 480B\", \"metrics\" => Dict{String, Any}(\"centrality\" => 0, \"complexity\" => 5.0, \"blocking factor\" => 0, \"delay factor\" => 5.0), \"nameSub\" => \"Physical Chem\", \"id\" => 48, \"credits\" => 3, \"nameCanonical\" => \"\"), Dict(\"curriculum_requisites\" => Dict{String, Any}[Dict(\"source_id\" => 39, \"target_id\" => 49, \"type\" => \"CurriculumPrerequisite\")], \"name\" => \"CHEE 413\", \"metrics\" => Dict{String, Any}(\"centrality\" => 0, \"complexity\" => 7.0, \"blocking factor\" => 0, \"delay factor\" => 7.0), \"nameSub\" => \"Process Control and Simulation\", \"id\" => 49, \"credits\" => 3, \"nameCanonical\" => \"\")], \"id\" => 8), Dict(\"name\" => \"Term 9\", \"curriculum_items\" => Dict{String, Any}[Dict(\"curriculum_requisites\" => Dict{String, Any}[Dict(\"source_id\" => 43, \"target_id\" => 45, \"type\" => \"CurriculumPrerequisite\")], \"name\" => \"CHEE 420\", \"metrics\" => Dict{String, Any}(\"centrality\" => 76, \"complexity\" => 8.0, \"blocking factor\" => 1, \"delay factor\" => 7.0), \"nameSub\" => \"Chem Reaction Eng\", \"id\" => 45, \"credits\" => 3, \"nameCanonical\" => \"\"), Dict(\"curriculum_requisites\" => Dict{String, Any}[Dict(\"source_id\" => 43, \"target_id\" => 46, \"type\" => \"CurriculumPrerequisite\"), Dict(\"source_id\" => 45, \"target_id\" => 46, \"type\" => \"CurriculumStrictCorequisite\"), Dict(\"source_id\" => 38, \"target_id\" => 46, \"type\" => \"CurriculumPrerequisite\")], \"name\" => \"CHEE 442\", \"metrics\" => Dict{String, Any}(\"centrality\" => 0, \"complexity\" => 7.0, \"blocking factor\" => 0, \"delay factor\" => 7.0), \"nameSub\" => \"Chem Eng Design Principles\", \"id\" => 46, \"credits\" => 3, \"nameCanonical\" => \"\"), Dict(\"curriculum_requisites\" => Dict{String, Any}[Dict(\"source_id\" => 43, \"target_id\" => 44, \"type\" => \"CurriculumStrictCorequisite\"), Dict(\"source_id\" => 38, \"target_id\" => 44, \"type\" => \"CurriculumPrerequisite\"), Dict(\"source_id\" => 42, \"target_id\" => 44, \"type\" => \"CurriculumStrictCorequisite\"), Dict(\"source_id\" => 40, \"target_id\" => 44, \"type\" => \"CurriculumPrerequisite\")], \"name\" => \"CHEE 301B\", \"metrics\" => Dict{String, Any}(\"centrality\" => 0, \"complexity\" => 9.0, \"blocking factor\" => 0, \"delay factor\" => 9.0), \"nameSub\" => \"Chem Eng Lab II\", \"id\" => 44, \"credits\" => 1, \"nameCanonical\" => \"\")], \"id\" => 9)], \"institution\" => \"Pima Community College\")), nothing)), Set{String}(), nothing, WebIO.Asset[], Dict{Any, Any}(), WebIO.ConnectionPool(Channel{Any}(32), Set{WebIO.AbstractConnection}(), Condition(Base.InvasiveLinkedList{Task}(Task (runnable) @0x0000000123222dc0, Task (runnable) @0x0000000123222dc0), Base.AlwaysLockedST(1))), WebIO.JSString[])"
      ]
     },
     "execution_count": 21,
     "metadata": {
      "application/vnd.webio.node+json": {
       "kernelId": "db1b1680-64da-4c66-8e01-17152a4bb28b"
      }
     },
     "output_type": "execute_result"
    }
   ],
   "source": [
    "PreEng = read_csv(\"./programs/Pima-PreEng5UA.csv\")\n",
    "visualize(PreEng, notebook=true, scale=0.85)"
   ]
  },
  {
   "cell_type": "code",
   "execution_count": 22,
   "metadata": {
    "scrolled": false
   },
   "outputs": [
    {
     "name": "stdout",
     "output_type": "stream",
     "text": [
      "Academic license - for non-commercial use only\n"
     ]
    },
    {
     "ename": "LoadError",
     "evalue": "The model was not solved correctly.",
     "output_type": "error",
     "traceback": [
      "The model was not solved correctly.",
      "",
      "Stacktrace:",
      " [1] error(s::String)",
      "   @ Base ./error.jl:33",
      " [2] optimize_plan(curric::Curriculum, term_count::Int64, min_cpt::Int64, max_cpt::Int64, objective::Vector{Function}; name::String, fixed_terms::Dict{Course, Int64}, consecutive_terms::Vector{Pair{Course, Course}}, term_range::Dict{Course, Pair{Int64, Int64}}, toxic_courses::Vector{Pair{Course, Course}}, synergistic_courses::Vector{Pair{Course, Course}}, fall_only_courses::Vector{Course}, spring_only_courses::Vector{Course}, prior_courses::Vector{Course}, prior_terms::Vector{Term}, toxicity_dict::Dict{Pair{Course, Course}, Float64}, suppress_output::Bool)",
      "   @ CurricularOptimization ~/.julia/packages/CurricularOptimization/FEB1Q/src/DegreePlanCreation.jl:123",
      " [3] #optimize_plan#4",
      "   @ ~/.julia/packages/CurricularOptimization/FEB1Q/src/DegreePlanCreation.jl:136 [inlined]",
      " [4] optimize_plan(curric::Curriculum, term_count::Int64, min_cpt::Int64, max_cpt::Int64, objective::Function)",
      "   @ CurricularOptimization ~/.julia/packages/CurricularOptimization/FEB1Q/src/DegreePlanCreation.jl:134",
      " [5] top-level scope",
      "   @ In[22]:2",
      " [6] eval",
      "   @ ./boot.jl:360 [inlined]",
      " [7] include_string(mapexpr::typeof(REPL.softscope), mod::Module, code::String, filename::String)",
      "   @ Base ./loading.jl:1094"
     ]
    }
   ],
   "source": [
    "curric = ChemE_xfer.curriculum\n",
    "dp_xfer = optimize_plan(curric, 12, 8, 21, req_distance_obj)\n",
    "visualize(dp_xfer, notebook=true)"
   ]
  },
  {
   "cell_type": "markdown",
   "metadata": {},
   "source": [
    "## References\n",
    "\n",
    "Heileman, G. L., Abdallah, C.T., Slim, A., and Hickman, M. (2018). Curricular analytics: A framework for quantifying the impact of curricular reforms and pedagogical innovations. www.arXiv.org, arXiv:1811.09676 [cs.CY].\n",
    "\n"
   ]
  },
  {
   "cell_type": "code",
   "execution_count": null,
   "metadata": {},
   "outputs": [],
   "source": []
  }
 ],
 "metadata": {
  "@webio": {
   "lastCommId": "2fd033e091ca48bb978a024243242ccc",
   "lastKernelId": "3d4fac8b-cc24-4f67-b803-ef88e844262e"
  },
  "kernelspec": {
   "display_name": "Julia 1.6.0",
   "language": "julia",
   "name": "julia-1.6"
  },
  "language_info": {
   "file_extension": ".jl",
   "mimetype": "application/julia",
   "name": "julia",
   "version": "1.6.0"
  }
 },
 "nbformat": 4,
 "nbformat_minor": 2
}
