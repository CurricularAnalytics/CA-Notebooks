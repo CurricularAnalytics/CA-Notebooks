{
 "cells": [
  {
   "cell_type": "markdown",
   "id": "bdfd9f6b",
   "metadata": {},
   "source": [
    "# Demonstration of Transfer Degree Roadmap Planning Capabilities \n",
    "\n",
    "Below we provide a demonstration of the capabilities of the system we have created for computing two-year to four-year transfer degree plans. These roadmaps detail how a student, by following the plan, would earn an assocaites degree at a two-year college, followed by a bachelor's degree at a four-year university.\n",
    "\n",
    "What is demonstarted here is essentially what is being computed behind the scenes in the tranfer portal (e.g., https://transfer.kydegreeplans.com) when a student uses the \"2 Year to 4 Year Plan\" option.\n",
    "\n",
    "## Overview\n",
    "At a high level, the code below performs the following steps. \n",
    "1. A user selects the source and destination schools, as well as the programs at the source and destination schools that the student would like to complete. In this notebook, we will specify them by assigning values to source_program and destination_program variables, but in the web application, these are selected from pulldown menus.\n",
    "2. The data required to compute the transfer plan, that has been previously stored in the Blackbriar data system at http://kydegreeplans.com, is extracted through API function calls. The following information must be extracted and formatted for use by the Curricular Analytics engine:\n",
    " - The course catalogs from both the source and destination schools,\n",
    " - Yiming describe remaining data pulled\n",
    " \n",
    "3. This data is supplied to a highly sophisticated optimization algorithm, which makes use of the Gurobi commerical solver, in order to compute a transfer plan that is optimized around the particular set of programs that the user has selected.  The details of this optimization algorithm are described in more detail below.\n",
    "\n",
    "The following Julia programming language packages are required in this demonstration.  Note the extensive use of the Curricular Analytics toolbox capabilites."
   ]
  },
  {
   "cell_type": "code",
   "execution_count": 1,
   "id": "65d4dbf6",
   "metadata": {},
   "outputs": [
    {
     "name": "stdout",
     "output_type": "stream",
     "text": [
      "Set parameter Username\r\n",
      "Academic license - for non-commercial use only - expires 2024-06-23\r\n"
     ]
    },
    {
     "data": {
      "application/vnd.webio.node+json": {
       "children": [],
       "instanceArgs": {
        "namespace": "html",
        "tag": "div"
       },
       "nodeType": "DOM",
       "props": {},
       "type": "node"
      },
      "text/html": [
       "<div style=\"padding: 1em; background-color: #f8d6da; border: 1px solid #f5c6cb; font-weight: bold;\">\n",
       "<p>The WebIO Jupyter extension was not detected. See the\n",
       "<a href=\"https://juliagizmos.github.io/WebIO.jl/latest/providers/ijulia/\" target=\"_blank\">\n",
       "    WebIO Jupyter integration documentation\n",
       "</a>\n",
       "for more information.\n",
       "</div>\n"
      ],
      "text/plain": [
       "WebIO._IJuliaInit()"
      ]
     },
     "metadata": {
      "application/vnd.webio.node+json": {
       "kernelId": "14c1ef7a-e191-4be7-a360-d4ef7c784993"
      }
     },
     "output_type": "display_data"
    }
   ],
   "source": [
    "using JuMP, Gurobi  # optimization packages\n",
    "using CSV, DataFrames, JSON, DataStructures # data handling packages\n",
    "using CurricularAnalytics, CurricularOptimization, CurricularVisualization # curricular analytics toolbox packages"
   ]
  },
  {
   "cell_type": "markdown",
   "id": "6cd17e1e",
   "metadata": {},
   "source": [
    "## Create Course Catalogs\n",
    "This function will be used to add coruses to the course catalogs required by this application. This function is a part of the Curricular Analytics capabilites, and woudl normally be called via API, but for the purpose of this demonstration, it must be deifned here."
   ]
  },
  {
   "cell_type": "code",
   "execution_count": 2,
   "id": "876e7042",
   "metadata": {},
   "outputs": [
    {
     "data": {
      "text/plain": [
       "add_courses_to_catalog (generic function with 1 method)"
      ]
     },
     "execution_count": 2,
     "metadata": {},
     "output_type": "execute_result"
    }
   ],
   "source": [
    "function add_courses_to_catalog(catalog, json_courses, destinationSchool)\n",
    "    for course in json_courses\n",
    "        c_split = split(course[\"code\"], \" \")\n",
    "        prefix = c_split[1]\n",
    "        num = c_split[2]\n",
    "        if num === nothing\n",
    "            continue\n",
    "        end\n",
    "        cid = mod(hash(course[\"name\"] * prefix * num * destinationSchool), UInt32)\n",
    "        cid = convert(Int, cid)\n",
    "        course = Course(course[\"name\"], course[\"maximum_credits\"], prefix=prefix, num=num, institution=destinationSchool, id=cid)\n",
    "        add_course!(catalog, course)\n",
    "    end\n",
    "end"
   ]
  },
  {
   "cell_type": "markdown",
   "id": "70f4dd52",
   "metadata": {},
   "source": [
    "The following code reads the course catalogs, which have been extracted from the Blackbriar data system as JSON files. In addition, we select the source and destination programs.  In this case we are selecting a source program from KCTCS, so we must read in that catalog, and a destination program from Eastern Kentucky Univeristy, so we must read in that catalog. These catalogs are constructed by reading in all of the course information available from these schools in the Blackbriar data system, and available at http://kydegreeplans.com."
   ]
  },
  {
   "cell_type": "code",
   "execution_count": 3,
   "id": "e978ed23",
   "metadata": {},
   "outputs": [],
   "source": [
    "#include(\"/Users/heileman/.julia/dev/CurricularOptimization/src/TransferArticulation.jl\");\n",
    "include(\"./Conversions.jl\");\n",
    "\n",
    "source_program = \"Associate of Art\"\n",
    "destination_program = \"Computing System\"\n",
    "\n",
    "university_courses = Dict{String,Any}();\n",
    "university_catalogs = Dict{String,Any}();\n",
    "kctcs_courses = JSON.parsefile(\"./bb_data/kctcs_courses.json\");\n",
    "kctcs_reqs = JSON.parsefile(\"./bb_data/Kentucky_college_programs/$(source_program).json\");\n",
    "eku_courses = JSON.parsefile(\"./bb_data/eku_courses.json\");\n",
    "eku_reqs = JSON.parsefile(\"./bb_data/Kentucky_university_programs/$(destination_program).json\");"
   ]
  },
  {
   "cell_type": "code",
   "execution_count": 4,
   "id": "884330df",
   "metadata": {},
   "outputs": [],
   "source": [
    "source_school = \"KCTCS\" # name of the destination school\n",
    "source_school_catalog = CourseCatalog(source_school, source_school);\n",
    "add_courses_to_catalog(source_school_catalog, kctcs_courses, source_school);\n",
    "\n",
    "source_requirements = parse_requirement_set(kctcs_reqs, source_school_catalog);\n",
    "source_requirements = CurricularOptimization.individualize_set_id(source_requirements);\n",
    "flat_reqs_source = flatten_requirements(source_requirements);\n",
    "\n",
    "destination_school = \"EKU\"\n",
    "destination_school_catalog = CourseCatalog(destination_school, destination_school);\n",
    "add_courses_to_catalog(destination_school_catalog, eku_courses, destination_school);\n",
    "\n",
    "destination_requirements_original = parse_requirement_set(eku_reqs, destination_school_catalog);\n",
    "destination_requirements = deepcopy(destination_requirements_original)\n",
    "destination_requirements = CurricularOptimization.individualize_set_id(destination_requirements);\n",
    "flat_reqs_destination = flatten_requirements(destination_requirements);"
   ]
  },
  {
   "cell_type": "code",
   "execution_count": 5,
   "id": "c4727add",
   "metadata": {
    "scrolled": false
   },
   "outputs": [
    {
     "name": "stdout",
     "output_type": "stream",
     "text": [
      "thread = 1 warning: only found 77 / 78 columns around data row: 617. Filling remaining columns with `missing`\n",
      "Set parameter Username\n",
      "Academic license - for non-commercial use only - expires 2024-06-23\n",
      "Set parameter TimeLimit to value 30\n",
      "Set parameter PoolSolutions to value 1\n",
      "Set parameter PoolSearchMode to value 2\n",
      "Set parameter PoolGap to value 0\n",
      "The root id is 18\n",
      "The root id is 5\n",
      "Set parameter PoolGap to value 0\n",
      "Set parameter PoolSearchMode to value 2\n",
      "Set parameter PoolSolutions to value 1\n",
      "Set parameter TimeLimit to value 30\n",
      "Gurobi Optimizer version 10.0.2 build v10.0.2rc0 (win64)\n",
      "\n",
      "CPU model: Intel(R) Core(TM) i7-5700HQ CPU @ 2.70GHz, instruction set [SSE2|AVX|AVX2]\n",
      "Thread count: 4 physical cores, 8 logical processors, using up to 8 threads\n",
      "\n",
      "Optimize a model with 4718 rows, 142996 columns and 238596 nonzeros\n",
      "Model fingerprint: 0xad3596fb\n",
      "Model has 7725 general constraints\n",
      "Variable types: 0 continuous, 142996 integer (142996 binary)\n",
      "Coefficient statistics:\n",
      "  Matrix range     [1e+00, 1e+00]\n",
      "  Objective range  [1e-01, 1e+02]\n",
      "  Bounds range     [0e+00, 0e+00]\n",
      "  RHS range        [1e+00, 1e+00]\n",
      "  GenCon rhs range [1e+00, 3e+02]\n",
      "  GenCon coe range [1e-01, 1e+02]\n",
      "Presolve added 535 rows and 0 columns\n",
      "Presolve removed 0 rows and 103033 columns\n",
      "Presolve time: 0.96s\n",
      "Presolved: 5253 rows, 39963 columns, 164055 nonzeros\n",
      "Presolved model has 163 SOS constraint(s)\n",
      "Variable types: 32 continuous, 39931 integer (39800 binary)\n",
      "Root relaxation presolved: 5247 rows, 39957 columns, 164043 nonzeros\n",
      "\n",
      "Deterministic concurrent LP optimizer: primal and dual simplex\n",
      "Showing first log only...\n",
      "\n",
      "Concurrent spin time: 0.00s\n",
      "\n",
      "Solved with primal simplex\n",
      "\n",
      "Use crossover to convert LP symmetric solution to basic solution...\n",
      "\n",
      "Root relaxation: objective 3.400000e+02, 807 iterations, 0.08 seconds (0.06 work units)\n",
      "\n",
      "    Nodes    |    Current Node    |     Objective Bounds      |     Work\n",
      " Expl Unexpl |  Obj  Depth IntInf | Incumbent    BestBd   Gap | It/Node Time\n",
      "\n",
      "     0     0  340.00000    0   59          -  340.00000      -     -    1s\n",
      "H    0     0                     471.0000000  340.00000  27.8%     -    1s\n",
      "H    0     0                     456.0000000  340.00000  25.4%     -    1s\n",
      "H    0     0                     450.0000000  340.00000  24.4%     -    1s\n",
      "     0     0  340.00000    0   59  450.00000  340.00000  24.4%     -    1s\n",
      "     0     2  340.00000    0   59  450.00000  340.00000  24.4%     -    2s\n",
      "H   32    32                     446.0000000  340.00000  23.8%   3.2    2s\n",
      "H   34    32                     439.0000000  340.00000  22.6%   3.3    2s\n",
      "H   68    68                     433.0000000  340.00000  21.5%  13.3    3s\n",
      "H  111    99                     427.0000000  340.00000  20.4%  47.2    3s\n",
      "H  114    99                     424.0000000  340.00000  19.8%  49.7    3s\n",
      "H  147   142                     412.0000000  340.00000  17.5%  61.0    4s\n",
      "   173   165  343.00000   24   42  412.00000  340.00000  17.5%  69.6    5s\n",
      "H  200   183                     391.0000000  340.00000  13.0%  77.8    5s\n",
      "H  203   183                     389.0000000  340.00000  12.6%  77.5    5s\n",
      "H  204   183                     348.0000000  340.00000  2.30%  79.2    5s\n",
      "H  289   246                     346.0000000  340.00000  1.73%  76.8    7s\n",
      "H  380   278                     343.0000000  340.00000  0.87%  82.6    9s\n",
      "   436   278  340.00000   14   49  343.00000  340.00000  0.87%  79.9   10s\n",
      "   670   347  340.00000   21   37  343.00000  340.00000  0.87%   103   15s\n",
      "H  688   347                     341.0000000  340.00000  0.29%   107   15s\n",
      "\n",
      "Explored 928 nodes (84778 simplex iterations) in 15.63 seconds (19.72 work units)\n",
      "Thread count was 8 (of 8 available processors)\n",
      "\n",
      "Solution count 1: 341 \n",
      "\n",
      "Optimal solution found (tolerance 1.00e-04)\n",
      "Best objective 3.410000000000e+02, best bound 3.410000000001e+02, gap 0.0000%\n",
      "\n",
      "User-callback calls 3948, time in user-callback 0.01 sec\n"
     ]
    },
    {
     "data": {
      "text/plain": [
       "(2149×38 DataFrame. Omitted printing of 29 columns\n",
       "│ Row  │ x1    │ x2    │ x3    │ x4    │ x5    │ x6    │ x7    │ x8    │ x9    │\n",
       "│      │ \u001b[90mInt64\u001b[39m │ \u001b[90mInt64\u001b[39m │ \u001b[90mInt64\u001b[39m │ \u001b[90mInt64\u001b[39m │ \u001b[90mInt64\u001b[39m │ \u001b[90mInt64\u001b[39m │ \u001b[90mInt64\u001b[39m │ \u001b[90mInt64\u001b[39m │ \u001b[90mInt64\u001b[39m │\n",
       "├──────┼───────┼───────┼───────┼───────┼───────┼───────┼───────┼───────┼───────┤\n",
       "│ 1    │ 0     │ 0     │ 0     │ 0     │ 0     │ 0     │ 0     │ 0     │ 0     │\n",
       "│ 2    │ 0     │ 0     │ 0     │ 0     │ 0     │ 0     │ 0     │ 0     │ 0     │\n",
       "│ 3    │ 0     │ 0     │ 0     │ 0     │ 0     │ 0     │ 0     │ 0     │ 0     │\n",
       "│ 4    │ 0     │ 0     │ 0     │ 0     │ 0     │ 0     │ 0     │ 0     │ 0     │\n",
       "│ 5    │ 0     │ 0     │ 0     │ 0     │ 0     │ 0     │ 0     │ 0     │ 0     │\n",
       "│ 6    │ 0     │ 0     │ 0     │ 0     │ 0     │ 0     │ 0     │ 0     │ 0     │\n",
       "│ 7    │ 0     │ 0     │ 0     │ 0     │ 0     │ 0     │ 0     │ 0     │ 0     │\n",
       "│ 8    │ 0     │ 0     │ 0     │ 0     │ 0     │ 0     │ 0     │ 0     │ 0     │\n",
       "│ 9    │ 0     │ 0     │ 0     │ 0     │ 0     │ 0     │ 0     │ 0     │ 0     │\n",
       "│ 10   │ 0     │ 0     │ 0     │ 0     │ 0     │ 0     │ 0     │ 0     │ 0     │\n",
       "⋮\n",
       "│ 2139 │ 0     │ 0     │ 0     │ 0     │ 0     │ 0     │ 0     │ 0     │ 0     │\n",
       "│ 2140 │ 0     │ 0     │ 0     │ 0     │ 0     │ 0     │ 0     │ 0     │ 0     │\n",
       "│ 2141 │ 0     │ 0     │ 0     │ 0     │ 0     │ 0     │ 0     │ 0     │ 0     │\n",
       "│ 2142 │ 0     │ 0     │ 0     │ 0     │ 0     │ 0     │ 0     │ 0     │ 0     │\n",
       "│ 2143 │ 0     │ 0     │ 0     │ 0     │ 0     │ 0     │ 0     │ 0     │ 0     │\n",
       "│ 2144 │ 0     │ 0     │ 0     │ 0     │ 0     │ 0     │ 0     │ 0     │ 0     │\n",
       "│ 2145 │ 0     │ 0     │ 0     │ 0     │ 0     │ 0     │ 0     │ 0     │ 0     │\n",
       "│ 2146 │ 0     │ 0     │ 0     │ 0     │ 0     │ 0     │ 0     │ 0     │ 0     │\n",
       "│ 2147 │ 0     │ 0     │ 0     │ 0     │ 0     │ 0     │ 0     │ 0     │ 0     │\n",
       "│ 2148 │ 0     │ 0     │ 0     │ 0     │ 0     │ 0     │ 0     │ 0     │ 0     │\n",
       "│ 2149 │ 0     │ 0     │ 0     │ 0     │ 0     │ 0     │ 0     │ 0     │ 0     │, 2149×1 DataFrame\n",
       "│ Row  │ x1    │\n",
       "│      │ \u001b[90mInt64\u001b[39m │\n",
       "├──────┼───────┤\n",
       "│ 1    │ 0     │\n",
       "│ 2    │ 0     │\n",
       "│ 3    │ 0     │\n",
       "│ 4    │ 0     │\n",
       "│ 5    │ 0     │\n",
       "│ 6    │ 0     │\n",
       "│ 7    │ 0     │\n",
       "│ 8    │ 0     │\n",
       "│ 9    │ 0     │\n",
       "│ 10   │ 0     │\n",
       "⋮\n",
       "│ 2139 │ 0     │\n",
       "│ 2140 │ 0     │\n",
       "│ 2141 │ 0     │\n",
       "│ 2142 │ 0     │\n",
       "│ 2143 │ 0     │\n",
       "│ 2144 │ 0     │\n",
       "│ 2145 │ 0     │\n",
       "│ 2146 │ 0     │\n",
       "│ 2147 │ 0     │\n",
       "│ 2148 │ 0     │\n",
       "│ 2149 │ 0     │, 2564×1 DataFrame\n",
       "│ Row  │ x1    │\n",
       "│      │ \u001b[90mInt64\u001b[39m │\n",
       "├──────┼───────┤\n",
       "│ 1    │ 0     │\n",
       "│ 2    │ 0     │\n",
       "│ 3    │ 0     │\n",
       "│ 4    │ 0     │\n",
       "│ 5    │ 0     │\n",
       "│ 6    │ 0     │\n",
       "│ 7    │ 0     │\n",
       "│ 8    │ 0     │\n",
       "│ 9    │ 0     │\n",
       "│ 10   │ 0     │\n",
       "⋮\n",
       "│ 2554 │ 0     │\n",
       "│ 2555 │ 0     │\n",
       "│ 2556 │ 0     │\n",
       "│ 2557 │ 0     │\n",
       "│ 2558 │ 0     │\n",
       "│ 2559 │ 0     │\n",
       "│ 2560 │ 0     │\n",
       "│ 2561 │ 0     │\n",
       "│ 2562 │ 0     │\n",
       "│ 2563 │ 0     │\n",
       "│ 2564 │ 0     │, 2564×21 DataFrame. Omitted printing of 12 columns\n",
       "│ Row  │ x1    │ x2    │ x3    │ x4    │ x5    │ x6    │ x7    │ x8    │ x9    │\n",
       "│      │ \u001b[90mInt64\u001b[39m │ \u001b[90mInt64\u001b[39m │ \u001b[90mInt64\u001b[39m │ \u001b[90mInt64\u001b[39m │ \u001b[90mInt64\u001b[39m │ \u001b[90mInt64\u001b[39m │ \u001b[90mInt64\u001b[39m │ \u001b[90mInt64\u001b[39m │ \u001b[90mInt64\u001b[39m │\n",
       "├──────┼───────┼───────┼───────┼───────┼───────┼───────┼───────┼───────┼───────┤\n",
       "│ 1    │ 0     │ 0     │ 0     │ 0     │ 0     │ 0     │ 0     │ 0     │ 0     │\n",
       "│ 2    │ 0     │ 0     │ 0     │ 0     │ 0     │ 0     │ 0     │ 0     │ 0     │\n",
       "│ 3    │ 0     │ 0     │ 0     │ 0     │ 0     │ 0     │ 0     │ 0     │ 0     │\n",
       "│ 4    │ 0     │ 0     │ 0     │ 0     │ 0     │ 0     │ 0     │ 0     │ 0     │\n",
       "│ 5    │ 0     │ 0     │ 0     │ 0     │ 0     │ 0     │ 0     │ 0     │ 0     │\n",
       "│ 6    │ 0     │ 0     │ 0     │ 0     │ 0     │ 0     │ 0     │ 0     │ 0     │\n",
       "│ 7    │ 0     │ 0     │ 0     │ 0     │ 0     │ 0     │ 0     │ 0     │ 0     │\n",
       "│ 8    │ 0     │ 0     │ 0     │ 0     │ 0     │ 0     │ 0     │ 0     │ 0     │\n",
       "│ 9    │ 0     │ 0     │ 0     │ 0     │ 0     │ 0     │ 0     │ 0     │ 0     │\n",
       "│ 10   │ 0     │ 0     │ 0     │ 0     │ 0     │ 0     │ 0     │ 0     │ 0     │\n",
       "⋮\n",
       "│ 2554 │ 0     │ 0     │ 0     │ 0     │ 0     │ 0     │ 0     │ 0     │ 0     │\n",
       "│ 2555 │ 0     │ 0     │ 0     │ 0     │ 0     │ 0     │ 0     │ 0     │ 0     │\n",
       "│ 2556 │ 0     │ 0     │ 0     │ 0     │ 0     │ 0     │ 0     │ 0     │ 0     │\n",
       "│ 2557 │ 0     │ 0     │ 0     │ 0     │ 0     │ 0     │ 0     │ 0     │ 0     │\n",
       "│ 2558 │ 0     │ 0     │ 0     │ 0     │ 0     │ 0     │ 0     │ 0     │ 0     │\n",
       "│ 2559 │ 0     │ 0     │ 0     │ 0     │ 0     │ 0     │ 0     │ 0     │ 0     │\n",
       "│ 2560 │ 0     │ 0     │ 0     │ 0     │ 0     │ 0     │ 0     │ 0     │ 0     │\n",
       "│ 2561 │ 0     │ 0     │ 0     │ 0     │ 0     │ 0     │ 0     │ 0     │ 0     │\n",
       "│ 2562 │ 0     │ 0     │ 0     │ 0     │ 0     │ 0     │ 0     │ 0     │ 0     │\n",
       "│ 2563 │ 0     │ 0     │ 0     │ 0     │ 0     │ 0     │ 0     │ 0     │ 0     │\n",
       "│ 2564 │ 0     │ 0     │ 0     │ 0     │ 0     │ 0     │ 0     │ 0     │ 0     │, 2564×1 DataFrame\n",
       "│ Row  │ x1    │\n",
       "│      │ \u001b[90mInt64\u001b[39m │\n",
       "├──────┼───────┤\n",
       "│ 1    │ 0     │\n",
       "│ 2    │ 0     │\n",
       "│ 3    │ 0     │\n",
       "│ 4    │ 0     │\n",
       "│ 5    │ 0     │\n",
       "│ 6    │ 0     │\n",
       "│ 7    │ 0     │\n",
       "│ 8    │ 0     │\n",
       "│ 9    │ 0     │\n",
       "│ 10   │ 0     │\n",
       "⋮\n",
       "│ 2554 │ 0     │\n",
       "│ 2555 │ 0     │\n",
       "│ 2556 │ 1     │\n",
       "│ 2557 │ 0     │\n",
       "│ 2558 │ 0     │\n",
       "│ 2559 │ 0     │\n",
       "│ 2560 │ 0     │\n",
       "│ 2561 │ 0     │\n",
       "│ 2562 │ 0     │\n",
       "│ 2563 │ 0     │\n",
       "│ 2564 │ 0     │)"
      ]
     },
     "execution_count": 5,
     "metadata": {},
     "output_type": "execute_result"
    }
   ],
   "source": [
    "transfer_map_db = CSV.read(\"./bb_data/equivs.csv\", DataFrame)\n",
    "transfer_map_db = clean_transfer_file(\n",
    "    transfer_map_db, source_school_catalog, destination_school_catalog\n",
    ")\n",
    "\n",
    "transfer_map, reverse_transfer_map = CurricularOptimization.transfer_mapper(\n",
    "    transfer_map_db, source_school_catalog, destination_school_catalog\n",
    ")\n",
    "\n",
    "course_id_array_source, reverse_course_id_map_source = CurricularOptimization.get_course_ids(source_school_catalog)\n",
    "course_id_array_destination, reverse_course_id_map_destination = CurricularOptimization.get_course_ids(\n",
    "    destination_school_catalog\n",
    ")\n",
    "\n",
    "time_hours = 0.01;\n",
    "num_solutions = 1;\n",
    "\n",
    "# requisite_destination = DataFrame()\n",
    "requisite_source = DataFrame()\n",
    "\n",
    "### run optimization with min_credit_sum objective function\n",
    "course_to_requirement_source,\n",
    "curriculum_source,\n",
    "transferred_curriculum,\n",
    "course_to_requirement_destination,\n",
    "last_2_year_curriculum = \n",
    "CurricularOptimization.optimize_plan(source_requirements, destination_requirements_original, source_school_catalog, destination_school_catalog, \n",
    "transfer_map, reverse_transfer_map, course_id_array_source, reverse_course_id_map_source, course_id_array_destination, reverse_course_id_map_destination;\n",
    "requisite_source=requisite_source,\n",
    "time_limit=30, num_solutions=num_solutions)\n",
    "\n"
   ]
  },
  {
   "cell_type": "code",
   "execution_count": 6,
   "id": "1922cf8f",
   "metadata": {},
   "outputs": [
    {
     "name": "stdout",
     "output_type": "stream",
     "text": [
      "Transfer Analysis: KCTCS Associate of Art Program --> EKU Computing System Program: \n",
      "62.0 + 79.0 = 141.0 total credit hours\n",
      "KCTCS credits: \n",
      "    62.0 credits required for a 61.0 credit hour program\n",
      "Transfer credits:\n",
      "    47.0 credit hours transfer\n",
      "    15.0 credit hours lost\n",
      "EKU credits: \n",
      "    79.0 additional credits for a 120.0 credit hour program\n",
      "\n",
      "The following courses will earn the Degree in Associate of Art program at KCTCS: \n",
      "Total credit hours = 62.0\n",
      "    ART 100 Introduction to Art (Credits: 3.0):>>>>Transferrable\n",
      "    satisfies Arts & Humanities - Humanities \n",
      "------------------------------\n",
      "    AST 101 Frontiers of Astronomy (Credits: 3.0):>>>>Not Transferrable\n",
      "    satisfies Natural Sciences CourseSet \n",
      "------------------------------\n",
      "    BIO 148 Introductory Biology I (Credits: 3.0):>>>>Transferrable\n",
      "    satisfies Foreign Language \n",
      "------------------------------\n",
      "    CHE 145 Introductory General Chemistry Laboratory (Credits: 1.0):>>>>Transferrable\n",
      "    satisfies Lab \n",
      "------------------------------\n",
      "    CHE 170 General College Chemistry I (Credits: 4.0):>>>>Transferrable\n",
      "    satisfies General Education or Elective Course \n",
      "------------------------------\n",
      "    COM 252 Introduction to Interpersonal Communication (Credits: 3.0):>>>>Transferrable\n",
      "    satisfies Oral Communication \n",
      "------------------------------\n",
      "    CRJ 279 Terrorism and Political Violence (Credits: 3.0):>>>>Transferrable\n",
      "    satisfies General Education or Elective Course \n",
      "------------------------------\n",
      "    ECO 201 Principles of Microeconomics (Credits: 3.0):>>>>Not Transferrable\n",
      "    satisfies Economics CourseSet \n",
      "------------------------------\n",
      "    ENG 101 Writing I (Credits: 3.0):>>>>Transferrable\n",
      "    satisfies Individual Courses \n",
      "------------------------------\n",
      "    ENG 102 Writing II (Credits: 3.0):>>>>Not Transferrable\n",
      "    satisfies Individual Courses \n",
      "------------------------------\n",
      "    FAM 253 Human Sexuality:  Development, Behavior, and Attitudes (Credits: 3.0):>>>>Transferrable\n",
      "    satisfies General Education or Elective Course \n",
      "------------------------------\n",
      "    FYE 105 Achieving Academic Success (Credits: 3.0):>>>>Not Transferrable\n",
      "    satisfies College Success Course \n",
      "------------------------------\n",
      "    GEO 152 Regional Geography of the World (Credits: 3.0):>>>>Not Transferrable\n",
      "    satisfies Social & Behavioral Sciences CourseSet \n",
      "------------------------------\n",
      "    HIS 101 World Civilization I (Credits: 3.0):>>>>Not Transferrable\n",
      "    satisfies Arts & Humanities - Heritage \n",
      "------------------------------\n",
      "    IEC 235 Introduction to Inclusive Education (Credits: 3.0):>>>>Transferrable\n",
      "    satisfies Digital Literacy Course (Elective) \n",
      "------------------------------\n",
      "    IEC 260 Infant and Toddler Education and Programming (Credits: 3.0):>>>>Transferrable\n",
      "    satisfies General Education or Elective Course \n",
      "------------------------------\n",
      "    IEC 291 IECE Practicum/Cooperative Education (Credits: 3.0):>>>>Transferrable\n",
      "    satisfies General Education or Elective Course \n",
      "------------------------------\n",
      "    MAT 150 College Algebra (Credits: 3.0):>>>>Transferrable\n",
      "    satisfies Quantitative Reasoning \n",
      "------------------------------\n",
      "    MAT 151 Introduction to Applied Statistics (Credits: 3.0):>>>>Transferrable\n",
      "    satisfies Quantitative Reasoning \n",
      "------------------------------\n",
      "    REL 101 Introduction to Religious Studies (Credits: 3.0):>>>>Not Transferrable\n",
      "    satisfies Social & Behavioral Sciences CourseSet \n",
      "------------------------------\n",
      "    REL 170 Philosophy of Religion (Credits: 3.0):>>>>Transferrable\n",
      "    satisfies Foreign Language \n",
      "------------------------------\n",
      "\n",
      "The above courses transfer to EKU as follows, satisfying the following degree requirements in the Computing System program: \n",
      "Total credit hours = 47.0\n",
      "    ART 100 --> ART 200 Art Appreciation:  Orientation (Credits: 3.0)\n",
      "    satisfies 3A Arts \n",
      "------------------------------\n",
      "    BIO 148 --> BIO 111 Cell and Molecular Biology (Credits: 4.0)\n",
      "    satisfies 4 Natural Sciences CourseSet \n",
      "------------------------------\n",
      "    FAM 253 --> CDF 232 Identity and Sexuality (Credits: 3.0)\n",
      "    satisfies  6 Diversity of Perspectives and Experiences \n",
      "------------------------------\n",
      "    (IEC 260 and IEC 291) --> CDF 327S Family Involvement (Credits: 3.0)\n",
      "    satisfies Free Elective (non-business) \n",
      "------------------------------\n",
      "    IEC 291 --> CDF 399 Early Childhood Practicum (Credits: 6.0)\n",
      "    satisfies Major Elective \n",
      "------------------------------\n",
      "    IEC 260 --> CDF 405 Prog Plan for Infant & Toddler (Credits: 3.0)\n",
      "    satisfies Free Elective(non-business) \n",
      "------------------------------\n",
      "    CHE 145 --> CHE 101L Introductory Chemistry Lab (Credits: 1.0)\n",
      "    satisfies Free Elective (non-business) \n",
      "------------------------------\n",
      "    CHE 170 --> CHE 111 General Chemistry I (Credits: 3.0)\n",
      "    satisfies CHE 111/111L CourseSet \n",
      "------------------------------\n",
      "    COM 252 --> CMS 200 Interpersonal Communication (Credits: 3.0)\n",
      "    satisfies Free Elective (non-business) \n",
      "------------------------------\n",
      "    ENG 101 --> ENG 101 Reading, Writing, & Rhetoric (Credits: 3.0)\n",
      "    satisfies Gen. Ed. E-1A (ENG 101) CourseSet \n",
      "------------------------------\n",
      "    CRJ 279 --> HLS 430 Domestic Terrorism (Credits: 3.0)\n",
      "    satisfies Major Elective \n",
      "------------------------------\n",
      "    MAT 150 --> MAT 114 College Algebra (Credits: 3.0)\n",
      "    satisfies Free Elective \n",
      "------------------------------\n",
      "    REL 170 --> PHI 240 Philosophy of Religion (Credits: 3.0)\n",
      "    satisfies 3B Humanities  \n",
      "------------------------------\n",
      "    IEC 235 --> SED 104 Special Education Introduction (Credits: 3.0)\n",
      "    satisfies  6 Diversity of Perspectives and Experiences \n",
      "------------------------------\n",
      "    MAT 151 --> SOC 232 Social Statistics (Credits: 3.0)\n",
      "    satisfies Major Elective \n",
      "------------------------------\n",
      "\n",
      "These additional courses are required to complete the Computing System program at EKU: \n",
      "Total credit hours = 79.0\n",
      "    ACC 201 Introduction to Financial Acc (Credits: 3.0)\n",
      "    satisfies Individual Courses \n",
      "------------------------------\n",
      "    ACC 202 Introduction to Managerial Acc (Credits: 3.0)\n",
      "    satisfies Individual Courses \n",
      "------------------------------\n",
      "    BTO 100 Student Success Seminar (Credits: 1.0)\n",
      "    satisfies Individual Courses \n",
      "------------------------------\n",
      "    BTS 300 Professional Skills Seminar (Credits: 0.0)\n",
      "    satisfies Individual Courses \n",
      "------------------------------\n",
      "    BTS 400 College to Careers Seminar (Credits: 0.0)\n",
      "    satisfies Individual Courses \n",
      "------------------------------\n",
      "    CCT 300W Managerial Reports (Credits: 3.0)\n",
      "    satisfies Individual Courses \n",
      "------------------------------\n",
      "    CIS 215 Intro to Business Programming (Credits: 3.0)\n",
      "    satisfies Individual Courses \n",
      "------------------------------\n",
      "    CIS 240 Intro to Web Info Systems (Credits: 3.0)\n",
      "    satisfies Individual Courses \n",
      "------------------------------\n",
      "    CIS 300 Management Information Systems (Credits: 3.0)\n",
      "    satisfies Individual Courses \n",
      "------------------------------\n",
      "    CIS 335 Data Base Management (Credits: 3.0)\n",
      "    satisfies Individual Courses \n",
      "------------------------------\n",
      "    CIS 340 Electronic Business Technologies and Tools. (Credits: 3.0)\n",
      "    satisfies Individual Courses \n",
      "------------------------------\n",
      "    CIS 375 Networks & Telecommunications (Credits: 3.0)\n",
      "    satisfies Individual Courses \n",
      "------------------------------\n",
      "    CIS 380 Information Sys Analysis & Des (Credits: 3.0)\n",
      "    satisfies Individual Courses \n",
      "------------------------------\n",
      "    CIS 410 Project Management and Practice (Credits: 3.0)\n",
      "    satisfies Individual Courses \n",
      "------------------------------\n",
      "    CMS 210 Public Speaking (Credits: 3.0)\n",
      "    satisfies 1C Oral Communication \n",
      "------------------------------\n",
      "    ECO 230 Principles of Microeconomics (Credits: 3.0)\n",
      "    satisfies Individual Courses \n",
      "------------------------------\n",
      "    ECO 231 Principles of Macroeconomics (Credits: 3.0)\n",
      "    satisfies Individual Courses \n",
      "------------------------------\n",
      "    ENG 102 Research, Writing, & Rhetoric (Credits: 3.0)\n",
      "    satisfies Gen. Ed. E-1B (ENG 102) CourseSet \n",
      "------------------------------\n",
      "    FIN 300 Business Finance I (Credits: 3.0)\n",
      "    satisfies Individual Courses \n",
      "------------------------------\n",
      "    GBU 204 Legal/Ethical Environ. of Bus. (Credits: 3.0)\n",
      "    satisfies Individual Courses \n",
      "------------------------------\n",
      "    GBU 480 Business Strategy (Credits: 3.0)\n",
      "    satisfies Individual Courses \n",
      "------------------------------\n",
      "    HON 310W Seminar in History (Credits: 3.0)\n",
      "    satisfies 5A Historical Perspectives  \n",
      "------------------------------\n",
      "    INF 104 Comp Lit w/ Software Applic (Credits: 3.0)\n",
      "    satisfies CIS 212 or INF 104 CourseSet \n",
      "------------------------------\n",
      "    MAT 112A Algebra: Polynomials (Credits: 1.5)\n",
      "    satisfies Gen. Ed. E-2 (MAT 112 A/B) CourseSet \n",
      "------------------------------\n",
      "    MAT 112B Algebra: Functions & Matrices (Credits: 1.5)\n",
      "    satisfies Gen. Ed. E-2 (MAT 112 A/B) CourseSet \n",
      "------------------------------\n",
      "    MGT 300 Principles of Management (Credits: 3.0)\n",
      "    satisfies Individual Courses \n",
      "------------------------------\n",
      "    MGT 370 Operations Management (Credits: 3.0)\n",
      "    satisfies Individual Courses \n",
      "------------------------------\n",
      "    MKT 300 Principles of Marketing (Credits: 3.0)\n",
      "    satisfies Individual Courses \n",
      "------------------------------\n",
      "    QMB 200 Business Statistics I (Credits: 3.0)\n",
      "    satisfies Individual Courses \n",
      "------------------------------\n",
      "    SOC 131 Introductory Sociology (Credits: 3.0)\n",
      "    satisfies Gen. Ed. E-5B(PSY 200 or SOC 131) CourseSet \n",
      "------------------------------\n",
      "\n"
     ]
    }
   ],
   "source": [
    "source_courses_list = [v for (k, v) in source_school_catalog.catalog];\n",
    "# Updates 0 credits courses\n",
    "for course in source_courses_list\n",
    "    course.credit_hours > 99 ? course.credit_hours = 0.0 : nothing\n",
    "end\n",
    "\n",
    "destination_courses_list = [v for (k, v) in destination_school_catalog.catalog];\n",
    "# updates 0 credit courses\n",
    "for course in destination_courses_list\n",
    "    course.credit_hours > 99 ? course.credit_hours = 0.0 : nothing\n",
    "end\n",
    "\n",
    "# save the transfer plan report from the output of the optimize_plan function\n",
    "source_requirements_credit, destination_requirements_credit = floor(source_requirements.credit_hours), floor(destination_requirements_original.credit_hours)\n",
    "CurricularOptimization.transfer_plan_report(curriculum_source, course_to_requirement_source, transferred_curriculum, last_2_year_curriculum, course_to_requirement_destination, \n",
    "    source_courses_list, flat_reqs_source, destination_courses_list, flat_reqs_destination,\n",
    "    source_program, source_school, destination_program, destination_school,\n",
    "    source_requirements_credit, destination_requirements_credit,\n",
    "    reverse_transfer_map, source_school_catalog, destination_school_catalog)"
   ]
  },
  {
   "cell_type": "code",
   "execution_count": 7,
   "id": "745c196c",
   "metadata": {},
   "outputs": [
    {
     "name": "stdout",
     "output_type": "stream",
     "text": [
      "Set parameter Username\r\n",
      "Academic license - for non-commercial use only - expires 2024-06-23\r\n",
      "An optimal solution was found with objective value = 8.0\n"
     ]
    },
    {
     "data": {
      "application/vnd.webio.node+json": {
       "children": [
        {
         "children": [
          ""
         ],
         "instanceArgs": {
          "namespace": "html",
          "tag": "iframe"
         },
         "nodeType": "DOM",
         "props": {
          "events": {
           "load": "(function (){this.contentWindow.postMessage({\"options\":{\"hideTerms\":false,\"edit\":false},\"curriculum\":{\"name\":\"Two Year\",\"dp_name\":\"\",\"curriculum_terms\":[{\"name\":\"Term 1\",\"curriculum_items\":[{\"curriculum_requisites\":[],\"name\":\"ECO 201\",\"metrics\":{\"centrality\":0,\"complexity\":1.0,\"blocking factor\":0,\"delay factor\":1.0},\"nameSub\":\"Principles of Microeconomics\",\"id\":423308936,\"credits\":3.0,\"nameCanonical\":\"\"},{\"curriculum_requisites\":[],\"name\":\"IEC 291\",\"metrics\":{\"centrality\":0,\"complexity\":1.0,\"blocking factor\":0,\"delay factor\":1.0},\"nameSub\":\"IECE Practicum/Cooperative Education\",\"id\":190471220,\"credits\":3.0,\"nameCanonical\":\"\"},{\"curriculum_requisites\":[],\"name\":\"IEC 235\",\"metrics\":{\"centrality\":0,\"complexity\":1.0,\"blocking factor\":0,\"delay factor\":1.0},\"nameSub\":\"Introduction to Inclusive Education\",\"id\":286853854,\"credits\":3.0,\"nameCanonical\":\"\"},{\"curriculum_requisites\":[],\"name\":\"BIO 148\",\"metrics\":{\"centrality\":0,\"complexity\":1.0,\"blocking factor\":0,\"delay factor\":1.0},\"nameSub\":\"Introductory Biology I\",\"id\":502346721,\"credits\":3.0,\"nameCanonical\":\"\"},{\"curriculum_requisites\":[],\"name\":\"IEC 260\",\"metrics\":{\"centrality\":0,\"complexity\":1.0,\"blocking factor\":0,\"delay factor\":1.0},\"nameSub\":\"Infant and Toddler Education and Programming\",\"id\":3846055305,\"credits\":3.0,\"nameCanonical\":\"\"}],\"id\":1},{\"name\":\"Term 2\",\"curriculum_items\":[{\"curriculum_requisites\":[],\"name\":\"HIS 101\",\"metrics\":{\"centrality\":0,\"complexity\":1.0,\"blocking factor\":0,\"delay factor\":1.0},\"nameSub\":\"World Civilization I\",\"id\":1391597362,\"credits\":3.0,\"nameCanonical\":\"\"},{\"curriculum_requisites\":[],\"name\":\"CHE 170\",\"metrics\":{\"centrality\":0,\"complexity\":1.0,\"blocking factor\":0,\"delay factor\":1.0},\"nameSub\":\"General College Chemistry I\",\"id\":2759835203,\"credits\":4.0,\"nameCanonical\":\"\"},{\"curriculum_requisites\":[],\"name\":\"CRJ 279\",\"metrics\":{\"centrality\":0,\"complexity\":1.0,\"blocking factor\":0,\"delay factor\":1.0},\"nameSub\":\"Terrorism and Political Violence\",\"id\":1728467358,\"credits\":3.0,\"nameCanonical\":\"\"},{\"curriculum_requisites\":[],\"name\":\"FAM 253\",\"metrics\":{\"centrality\":0,\"complexity\":1.0,\"blocking factor\":0,\"delay factor\":1.0},\"nameSub\":\"Human Sexuality:  Development, Behavior, and Attitudes\",\"id\":3976753628,\"credits\":3.0,\"nameCanonical\":\"\"},{\"curriculum_requisites\":[],\"name\":\"COM 252\",\"metrics\":{\"centrality\":0,\"complexity\":1.0,\"blocking factor\":0,\"delay factor\":1.0},\"nameSub\":\"Introduction to Interpersonal Communication\",\"id\":4139891793,\"credits\":3.0,\"nameCanonical\":\"\"}],\"id\":2},{\"name\":\"Term 3\",\"curriculum_items\":[{\"curriculum_requisites\":[],\"name\":\"ENG 101\",\"metrics\":{\"centrality\":0,\"complexity\":1.0,\"blocking factor\":0,\"delay factor\":1.0},\"nameSub\":\"Writing I\",\"id\":4203010242,\"credits\":3.0,\"nameCanonical\":\"\"},{\"curriculum_requisites\":[],\"name\":\"GEO 152\",\"metrics\":{\"centrality\":0,\"complexity\":1.0,\"blocking factor\":0,\"delay factor\":1.0},\"nameSub\":\"Regional Geography of the World\",\"id\":1007206674,\"credits\":3.0,\"nameCanonical\":\"\"},{\"curriculum_requisites\":[],\"name\":\"CHE 145\",\"metrics\":{\"centrality\":0,\"complexity\":1.0,\"blocking factor\":0,\"delay factor\":1.0},\"nameSub\":\"Introductory General Chemistry Laboratory\",\"id\":1119549100,\"credits\":1.0,\"nameCanonical\":\"\"},{\"curriculum_requisites\":[],\"name\":\"REL 101\",\"metrics\":{\"centrality\":0,\"complexity\":1.0,\"blocking factor\":0,\"delay factor\":1.0},\"nameSub\":\"Introduction to Religious Studies\",\"id\":2455216373,\"credits\":3.0,\"nameCanonical\":\"\"},{\"curriculum_requisites\":[],\"name\":\"FYE 105\",\"metrics\":{\"centrality\":0,\"complexity\":1.0,\"blocking factor\":0,\"delay factor\":1.0},\"nameSub\":\"Achieving Academic Success\",\"id\":2925811470,\"credits\":3.0,\"nameCanonical\":\"\"},{\"curriculum_requisites\":[],\"name\":\"ENG 102\",\"metrics\":{\"centrality\":0,\"complexity\":1.0,\"blocking factor\":0,\"delay factor\":1.0},\"nameSub\":\"Writing II\",\"id\":2991984024,\"credits\":3.0,\"nameCanonical\":\"\"}],\"id\":3},{\"name\":\"Term 4\",\"curriculum_items\":[{\"curriculum_requisites\":[],\"name\":\"MAT 150\",\"metrics\":{\"centrality\":0,\"complexity\":1.0,\"blocking factor\":0,\"delay factor\":1.0},\"nameSub\":\"College Algebra\",\"id\":68310341,\"credits\":3.0,\"nameCanonical\":\"\"},{\"curriculum_requisites\":[],\"name\":\"ART 100\",\"metrics\":{\"centrality\":0,\"complexity\":1.0,\"blocking factor\":0,\"delay factor\":1.0},\"nameSub\":\"Introduction to Art\",\"id\":3965598960,\"credits\":3.0,\"nameCanonical\":\"\"},{\"curriculum_requisites\":[],\"name\":\"AST 101\",\"metrics\":{\"centrality\":0,\"complexity\":1.0,\"blocking factor\":0,\"delay factor\":1.0},\"nameSub\":\"Frontiers of Astronomy\",\"id\":1607261539,\"credits\":3.0,\"nameCanonical\":\"\"},{\"curriculum_requisites\":[],\"name\":\"MAT 151\",\"metrics\":{\"centrality\":0,\"complexity\":1.0,\"blocking factor\":0,\"delay factor\":1.0},\"nameSub\":\"Introduction to Applied Statistics\",\"id\":146128095,\"credits\":3.0,\"nameCanonical\":\"\"},{\"curriculum_requisites\":[],\"name\":\"REL 170\",\"metrics\":{\"centrality\":0,\"complexity\":1.0,\"blocking factor\":0,\"delay factor\":1.0},\"nameSub\":\"Philosophy of Religion\",\"id\":2006517275,\"credits\":3.0,\"nameCanonical\":\"\"}],\"id\":4}],\"institution\":\"\"}},\"*\"); window.removeEventListener(\"message\",window.messageReceived); window.messageReceived=(function (event){return (event.data.curriculum!==undefined) ? (WebIO.setval({\"name\":\"curriculum-data\",\"scope\":\"4630169323427753027\",\"id\":\"7542382322704956253\",\"type\":\"observable\"},event.data.curriculum)) : undefined}); return window.addEventListener(\"message\",window.messageReceived)})"
          },
          "id": "curriculum",
          "src": "https://curricula-api-embed.damoursystems.com/",
          "style": {
           "border": "none",
           "height": "100vh",
           "margin": "0",
           "padding": "0",
           "width": "100%"
          }
         },
         "type": "node"
        }
       ],
       "instanceArgs": {
        "handlers": {},
        "id": "4630169323427753027",
        "imports": {
         "data": [],
         "type": "async_block"
        },
        "mount_callbacks": [],
        "observables": {
         "curriculum-data": {
          "id": "7542382322704956253",
          "sync": true,
          "value": {
           "curriculum": {
            "curriculum_terms": [
             {
              "curriculum_items": [
               {
                "credits": 3,
                "curriculum_requisites": [],
                "id": 423308936,
                "metrics": {
                 "blocking factor": 0,
                 "centrality": 0,
                 "complexity": 1,
                 "delay factor": 1
                },
                "name": "ECO 201",
                "nameCanonical": "",
                "nameSub": "Principles of Microeconomics"
               },
               {
                "credits": 3,
                "curriculum_requisites": [],
                "id": 190471220,
                "metrics": {
                 "blocking factor": 0,
                 "centrality": 0,
                 "complexity": 1,
                 "delay factor": 1
                },
                "name": "IEC 291",
                "nameCanonical": "",
                "nameSub": "IECE Practicum/Cooperative Education"
               },
               {
                "credits": 3,
                "curriculum_requisites": [],
                "id": 286853854,
                "metrics": {
                 "blocking factor": 0,
                 "centrality": 0,
                 "complexity": 1,
                 "delay factor": 1
                },
                "name": "IEC 235",
                "nameCanonical": "",
                "nameSub": "Introduction to Inclusive Education"
               },
               {
                "credits": 3,
                "curriculum_requisites": [],
                "id": 502346721,
                "metrics": {
                 "blocking factor": 0,
                 "centrality": 0,
                 "complexity": 1,
                 "delay factor": 1
                },
                "name": "BIO 148",
                "nameCanonical": "",
                "nameSub": "Introductory Biology I"
               },
               {
                "credits": 3,
                "curriculum_requisites": [],
                "id": 3846055305,
                "metrics": {
                 "blocking factor": 0,
                 "centrality": 0,
                 "complexity": 1,
                 "delay factor": 1
                },
                "name": "IEC 260",
                "nameCanonical": "",
                "nameSub": "Infant and Toddler Education and Programming"
               }
              ],
              "id": 1,
              "name": "Term 1"
             },
             {
              "curriculum_items": [
               {
                "credits": 3,
                "curriculum_requisites": [],
                "id": 1391597362,
                "metrics": {
                 "blocking factor": 0,
                 "centrality": 0,
                 "complexity": 1,
                 "delay factor": 1
                },
                "name": "HIS 101",
                "nameCanonical": "",
                "nameSub": "World Civilization I"
               },
               {
                "credits": 4,
                "curriculum_requisites": [],
                "id": 2759835203,
                "metrics": {
                 "blocking factor": 0,
                 "centrality": 0,
                 "complexity": 1,
                 "delay factor": 1
                },
                "name": "CHE 170",
                "nameCanonical": "",
                "nameSub": "General College Chemistry I"
               },
               {
                "credits": 3,
                "curriculum_requisites": [],
                "id": 1728467358,
                "metrics": {
                 "blocking factor": 0,
                 "centrality": 0,
                 "complexity": 1,
                 "delay factor": 1
                },
                "name": "CRJ 279",
                "nameCanonical": "",
                "nameSub": "Terrorism and Political Violence"
               },
               {
                "credits": 3,
                "curriculum_requisites": [],
                "id": 3976753628,
                "metrics": {
                 "blocking factor": 0,
                 "centrality": 0,
                 "complexity": 1,
                 "delay factor": 1
                },
                "name": "FAM 253",
                "nameCanonical": "",
                "nameSub": "Human Sexuality:  Development, Behavior, and Attitudes"
               },
               {
                "credits": 3,
                "curriculum_requisites": [],
                "id": 4139891793,
                "metrics": {
                 "blocking factor": 0,
                 "centrality": 0,
                 "complexity": 1,
                 "delay factor": 1
                },
                "name": "COM 252",
                "nameCanonical": "",
                "nameSub": "Introduction to Interpersonal Communication"
               }
              ],
              "id": 2,
              "name": "Term 2"
             },
             {
              "curriculum_items": [
               {
                "credits": 3,
                "curriculum_requisites": [],
                "id": 4203010242,
                "metrics": {
                 "blocking factor": 0,
                 "centrality": 0,
                 "complexity": 1,
                 "delay factor": 1
                },
                "name": "ENG 101",
                "nameCanonical": "",
                "nameSub": "Writing I"
               },
               {
                "credits": 3,
                "curriculum_requisites": [],
                "id": 1007206674,
                "metrics": {
                 "blocking factor": 0,
                 "centrality": 0,
                 "complexity": 1,
                 "delay factor": 1
                },
                "name": "GEO 152",
                "nameCanonical": "",
                "nameSub": "Regional Geography of the World"
               },
               {
                "credits": 1,
                "curriculum_requisites": [],
                "id": 1119549100,
                "metrics": {
                 "blocking factor": 0,
                 "centrality": 0,
                 "complexity": 1,
                 "delay factor": 1
                },
                "name": "CHE 145",
                "nameCanonical": "",
                "nameSub": "Introductory General Chemistry Laboratory"
               },
               {
                "credits": 3,
                "curriculum_requisites": [],
                "id": 2455216373,
                "metrics": {
                 "blocking factor": 0,
                 "centrality": 0,
                 "complexity": 1,
                 "delay factor": 1
                },
                "name": "REL 101",
                "nameCanonical": "",
                "nameSub": "Introduction to Religious Studies"
               },
               {
                "credits": 3,
                "curriculum_requisites": [],
                "id": 2925811470,
                "metrics": {
                 "blocking factor": 0,
                 "centrality": 0,
                 "complexity": 1,
                 "delay factor": 1
                },
                "name": "FYE 105",
                "nameCanonical": "",
                "nameSub": "Achieving Academic Success"
               },
               {
                "credits": 3,
                "curriculum_requisites": [],
                "id": 2991984024,
                "metrics": {
                 "blocking factor": 0,
                 "centrality": 0,
                 "complexity": 1,
                 "delay factor": 1
                },
                "name": "ENG 102",
                "nameCanonical": "",
                "nameSub": "Writing II"
               }
              ],
              "id": 3,
              "name": "Term 3"
             },
             {
              "curriculum_items": [
               {
                "credits": 3,
                "curriculum_requisites": [],
                "id": 68310341,
                "metrics": {
                 "blocking factor": 0,
                 "centrality": 0,
                 "complexity": 1,
                 "delay factor": 1
                },
                "name": "MAT 150",
                "nameCanonical": "",
                "nameSub": "College Algebra"
               },
               {
                "credits": 3,
                "curriculum_requisites": [],
                "id": 3965598960,
                "metrics": {
                 "blocking factor": 0,
                 "centrality": 0,
                 "complexity": 1,
                 "delay factor": 1
                },
                "name": "ART 100",
                "nameCanonical": "",
                "nameSub": "Introduction to Art"
               },
               {
                "credits": 3,
                "curriculum_requisites": [],
                "id": 1607261539,
                "metrics": {
                 "blocking factor": 0,
                 "centrality": 0,
                 "complexity": 1,
                 "delay factor": 1
                },
                "name": "AST 101",
                "nameCanonical": "",
                "nameSub": "Frontiers of Astronomy"
               },
               {
                "credits": 3,
                "curriculum_requisites": [],
                "id": 146128095,
                "metrics": {
                 "blocking factor": 0,
                 "centrality": 0,
                 "complexity": 1,
                 "delay factor": 1
                },
                "name": "MAT 151",
                "nameCanonical": "",
                "nameSub": "Introduction to Applied Statistics"
               },
               {
                "credits": 3,
                "curriculum_requisites": [],
                "id": 2006517275,
                "metrics": {
                 "blocking factor": 0,
                 "centrality": 0,
                 "complexity": 1,
                 "delay factor": 1
                },
                "name": "REL 170",
                "nameCanonical": "",
                "nameSub": "Philosophy of Religion"
               }
              ],
              "id": 4,
              "name": "Term 4"
             }
            ],
            "dp_name": "",
            "institution": "",
            "name": "Two Year"
           },
           "options": {
            "edit": false,
            "hideTerms": false
           }
          }
         }
        },
        "systemjs_options": null
       },
       "nodeType": "Scope",
       "props": {},
       "type": "node"
      },
      "text/html": [
       "<div\n",
       "    class=\"webio-mountpoint\"\n",
       "    data-webio-mountpoint=\"4957470051011138439\"\n",
       ">\n",
       "    <script>\n",
       "    (function(){\n",
       "    // Some integrations (namely, IJulia/Jupyter) use an alternate render pathway than\n",
       "    // just putting the html on the page. If WebIO isn't defined, then it's pretty likely\n",
       "    // that we're in one of those situations and the integration just isn't installed\n",
       "    // correctly.\n",
       "    if (typeof window.WebIO === \"undefined\") {\n",
       "        document\n",
       "            .querySelector('[data-webio-mountpoint=\"4957470051011138439\"]')\n",
       "            .innerHTML = (\n",
       "                '<div style=\"padding: 1em; background-color: #f8d6da; border: 1px solid #f5c6cb; font-weight: bold;\">' +\n",
       "                '<p><strong>WebIO not detected.</strong></p>' +\n",
       "                '<p>Please read ' +\n",
       "                '<a href=\"https://juliagizmos.github.io/WebIO.jl/latest/troubleshooting/not-detected/\" target=\"_blank\">the troubleshooting guide</a> ' +\n",
       "                'for more information on how to resolve this issue.</p>' +\n",
       "                '<p><a href=\"https://juliagizmos.github.io/WebIO.jl/latest/troubleshooting/not-detected/\" target=\"_blank\">https://juliagizmos.github.io/WebIO.jl/latest/troubleshooting/not-detected/</a></p>' +\n",
       "                '</div>'\n",
       "            );\n",
       "        return;\n",
       "    }\n",
       "    WebIO.mount(\n",
       "        document.querySelector('[data-webio-mountpoint=\"4957470051011138439\"]'),\n",
       "        {\"props\":{},\"nodeType\":\"Scope\",\"type\":\"node\",\"instanceArgs\":{\"imports\":{\"data\":[],\"type\":\"async_block\"},\"id\":\"4630169323427753027\",\"handlers\":{},\"systemjs_options\":null,\"mount_callbacks\":[],\"observables\":{\"curriculum-data\":{\"sync\":true,\"id\":\"7542382322704956253\",\"value\":{\"options\":{\"hideTerms\":false,\"edit\":false},\"curriculum\":{\"name\":\"Two Year\",\"dp_name\":\"\",\"curriculum_terms\":[{\"name\":\"Term 1\",\"curriculum_items\":[{\"curriculum_requisites\":[],\"name\":\"ECO 201\",\"metrics\":{\"centrality\":0,\"complexity\":1.0,\"blocking factor\":0,\"delay factor\":1.0},\"nameSub\":\"Principles of Microeconomics\",\"id\":423308936,\"credits\":3.0,\"nameCanonical\":\"\"},{\"curriculum_requisites\":[],\"name\":\"IEC 291\",\"metrics\":{\"centrality\":0,\"complexity\":1.0,\"blocking factor\":0,\"delay factor\":1.0},\"nameSub\":\"IECE Practicum\\/Cooperative Education\",\"id\":190471220,\"credits\":3.0,\"nameCanonical\":\"\"},{\"curriculum_requisites\":[],\"name\":\"IEC 235\",\"metrics\":{\"centrality\":0,\"complexity\":1.0,\"blocking factor\":0,\"delay factor\":1.0},\"nameSub\":\"Introduction to Inclusive Education\",\"id\":286853854,\"credits\":3.0,\"nameCanonical\":\"\"},{\"curriculum_requisites\":[],\"name\":\"BIO 148\",\"metrics\":{\"centrality\":0,\"complexity\":1.0,\"blocking factor\":0,\"delay factor\":1.0},\"nameSub\":\"Introductory Biology I\",\"id\":502346721,\"credits\":3.0,\"nameCanonical\":\"\"},{\"curriculum_requisites\":[],\"name\":\"IEC 260\",\"metrics\":{\"centrality\":0,\"complexity\":1.0,\"blocking factor\":0,\"delay factor\":1.0},\"nameSub\":\"Infant and Toddler Education and Programming\",\"id\":3846055305,\"credits\":3.0,\"nameCanonical\":\"\"}],\"id\":1},{\"name\":\"Term 2\",\"curriculum_items\":[{\"curriculum_requisites\":[],\"name\":\"HIS 101\",\"metrics\":{\"centrality\":0,\"complexity\":1.0,\"blocking factor\":0,\"delay factor\":1.0},\"nameSub\":\"World Civilization I\",\"id\":1391597362,\"credits\":3.0,\"nameCanonical\":\"\"},{\"curriculum_requisites\":[],\"name\":\"CHE 170\",\"metrics\":{\"centrality\":0,\"complexity\":1.0,\"blocking factor\":0,\"delay factor\":1.0},\"nameSub\":\"General College Chemistry I\",\"id\":2759835203,\"credits\":4.0,\"nameCanonical\":\"\"},{\"curriculum_requisites\":[],\"name\":\"CRJ 279\",\"metrics\":{\"centrality\":0,\"complexity\":1.0,\"blocking factor\":0,\"delay factor\":1.0},\"nameSub\":\"Terrorism and Political Violence\",\"id\":1728467358,\"credits\":3.0,\"nameCanonical\":\"\"},{\"curriculum_requisites\":[],\"name\":\"FAM 253\",\"metrics\":{\"centrality\":0,\"complexity\":1.0,\"blocking factor\":0,\"delay factor\":1.0},\"nameSub\":\"Human Sexuality:  Development, Behavior, and Attitudes\",\"id\":3976753628,\"credits\":3.0,\"nameCanonical\":\"\"},{\"curriculum_requisites\":[],\"name\":\"COM 252\",\"metrics\":{\"centrality\":0,\"complexity\":1.0,\"blocking factor\":0,\"delay factor\":1.0},\"nameSub\":\"Introduction to Interpersonal Communication\",\"id\":4139891793,\"credits\":3.0,\"nameCanonical\":\"\"}],\"id\":2},{\"name\":\"Term 3\",\"curriculum_items\":[{\"curriculum_requisites\":[],\"name\":\"ENG 101\",\"metrics\":{\"centrality\":0,\"complexity\":1.0,\"blocking factor\":0,\"delay factor\":1.0},\"nameSub\":\"Writing I\",\"id\":4203010242,\"credits\":3.0,\"nameCanonical\":\"\"},{\"curriculum_requisites\":[],\"name\":\"GEO 152\",\"metrics\":{\"centrality\":0,\"complexity\":1.0,\"blocking factor\":0,\"delay factor\":1.0},\"nameSub\":\"Regional Geography of the World\",\"id\":1007206674,\"credits\":3.0,\"nameCanonical\":\"\"},{\"curriculum_requisites\":[],\"name\":\"CHE 145\",\"metrics\":{\"centrality\":0,\"complexity\":1.0,\"blocking factor\":0,\"delay factor\":1.0},\"nameSub\":\"Introductory General Chemistry Laboratory\",\"id\":1119549100,\"credits\":1.0,\"nameCanonical\":\"\"},{\"curriculum_requisites\":[],\"name\":\"REL 101\",\"metrics\":{\"centrality\":0,\"complexity\":1.0,\"blocking factor\":0,\"delay factor\":1.0},\"nameSub\":\"Introduction to Religious Studies\",\"id\":2455216373,\"credits\":3.0,\"nameCanonical\":\"\"},{\"curriculum_requisites\":[],\"name\":\"FYE 105\",\"metrics\":{\"centrality\":0,\"complexity\":1.0,\"blocking factor\":0,\"delay factor\":1.0},\"nameSub\":\"Achieving Academic Success\",\"id\":2925811470,\"credits\":3.0,\"nameCanonical\":\"\"},{\"curriculum_requisites\":[],\"name\":\"ENG 102\",\"metrics\":{\"centrality\":0,\"complexity\":1.0,\"blocking factor\":0,\"delay factor\":1.0},\"nameSub\":\"Writing II\",\"id\":2991984024,\"credits\":3.0,\"nameCanonical\":\"\"}],\"id\":3},{\"name\":\"Term 4\",\"curriculum_items\":[{\"curriculum_requisites\":[],\"name\":\"MAT 150\",\"metrics\":{\"centrality\":0,\"complexity\":1.0,\"blocking factor\":0,\"delay factor\":1.0},\"nameSub\":\"College Algebra\",\"id\":68310341,\"credits\":3.0,\"nameCanonical\":\"\"},{\"curriculum_requisites\":[],\"name\":\"ART 100\",\"metrics\":{\"centrality\":0,\"complexity\":1.0,\"blocking factor\":0,\"delay factor\":1.0},\"nameSub\":\"Introduction to Art\",\"id\":3965598960,\"credits\":3.0,\"nameCanonical\":\"\"},{\"curriculum_requisites\":[],\"name\":\"AST 101\",\"metrics\":{\"centrality\":0,\"complexity\":1.0,\"blocking factor\":0,\"delay factor\":1.0},\"nameSub\":\"Frontiers of Astronomy\",\"id\":1607261539,\"credits\":3.0,\"nameCanonical\":\"\"},{\"curriculum_requisites\":[],\"name\":\"MAT 151\",\"metrics\":{\"centrality\":0,\"complexity\":1.0,\"blocking factor\":0,\"delay factor\":1.0},\"nameSub\":\"Introduction to Applied Statistics\",\"id\":146128095,\"credits\":3.0,\"nameCanonical\":\"\"},{\"curriculum_requisites\":[],\"name\":\"REL 170\",\"metrics\":{\"centrality\":0,\"complexity\":1.0,\"blocking factor\":0,\"delay factor\":1.0},\"nameSub\":\"Philosophy of Religion\",\"id\":2006517275,\"credits\":3.0,\"nameCanonical\":\"\"}],\"id\":4}],\"institution\":\"\"}}}}},\"children\":[{\"props\":{\"src\":\"https:\\/\\/curricula-api-embed.damoursystems.com\\/\",\"id\":\"curriculum\",\"events\":{\"load\":\"(function (){this.contentWindow.postMessage({\\\"options\\\":{\\\"hideTerms\\\":false,\\\"edit\\\":false},\\\"curriculum\\\":{\\\"name\\\":\\\"Two Year\\\",\\\"dp_name\\\":\\\"\\\",\\\"curriculum_terms\\\":[{\\\"name\\\":\\\"Term 1\\\",\\\"curriculum_items\\\":[{\\\"curriculum_requisites\\\":[],\\\"name\\\":\\\"ECO 201\\\",\\\"metrics\\\":{\\\"centrality\\\":0,\\\"complexity\\\":1.0,\\\"blocking factor\\\":0,\\\"delay factor\\\":1.0},\\\"nameSub\\\":\\\"Principles of Microeconomics\\\",\\\"id\\\":423308936,\\\"credits\\\":3.0,\\\"nameCanonical\\\":\\\"\\\"},{\\\"curriculum_requisites\\\":[],\\\"name\\\":\\\"IEC 291\\\",\\\"metrics\\\":{\\\"centrality\\\":0,\\\"complexity\\\":1.0,\\\"blocking factor\\\":0,\\\"delay factor\\\":1.0},\\\"nameSub\\\":\\\"IECE Practicum\\/Cooperative Education\\\",\\\"id\\\":190471220,\\\"credits\\\":3.0,\\\"nameCanonical\\\":\\\"\\\"},{\\\"curriculum_requisites\\\":[],\\\"name\\\":\\\"IEC 235\\\",\\\"metrics\\\":{\\\"centrality\\\":0,\\\"complexity\\\":1.0,\\\"blocking factor\\\":0,\\\"delay factor\\\":1.0},\\\"nameSub\\\":\\\"Introduction to Inclusive Education\\\",\\\"id\\\":286853854,\\\"credits\\\":3.0,\\\"nameCanonical\\\":\\\"\\\"},{\\\"curriculum_requisites\\\":[],\\\"name\\\":\\\"BIO 148\\\",\\\"metrics\\\":{\\\"centrality\\\":0,\\\"complexity\\\":1.0,\\\"blocking factor\\\":0,\\\"delay factor\\\":1.0},\\\"nameSub\\\":\\\"Introductory Biology I\\\",\\\"id\\\":502346721,\\\"credits\\\":3.0,\\\"nameCanonical\\\":\\\"\\\"},{\\\"curriculum_requisites\\\":[],\\\"name\\\":\\\"IEC 260\\\",\\\"metrics\\\":{\\\"centrality\\\":0,\\\"complexity\\\":1.0,\\\"blocking factor\\\":0,\\\"delay factor\\\":1.0},\\\"nameSub\\\":\\\"Infant and Toddler Education and Programming\\\",\\\"id\\\":3846055305,\\\"credits\\\":3.0,\\\"nameCanonical\\\":\\\"\\\"}],\\\"id\\\":1},{\\\"name\\\":\\\"Term 2\\\",\\\"curriculum_items\\\":[{\\\"curriculum_requisites\\\":[],\\\"name\\\":\\\"HIS 101\\\",\\\"metrics\\\":{\\\"centrality\\\":0,\\\"complexity\\\":1.0,\\\"blocking factor\\\":0,\\\"delay factor\\\":1.0},\\\"nameSub\\\":\\\"World Civilization I\\\",\\\"id\\\":1391597362,\\\"credits\\\":3.0,\\\"nameCanonical\\\":\\\"\\\"},{\\\"curriculum_requisites\\\":[],\\\"name\\\":\\\"CHE 170\\\",\\\"metrics\\\":{\\\"centrality\\\":0,\\\"complexity\\\":1.0,\\\"blocking factor\\\":0,\\\"delay factor\\\":1.0},\\\"nameSub\\\":\\\"General College Chemistry I\\\",\\\"id\\\":2759835203,\\\"credits\\\":4.0,\\\"nameCanonical\\\":\\\"\\\"},{\\\"curriculum_requisites\\\":[],\\\"name\\\":\\\"CRJ 279\\\",\\\"metrics\\\":{\\\"centrality\\\":0,\\\"complexity\\\":1.0,\\\"blocking factor\\\":0,\\\"delay factor\\\":1.0},\\\"nameSub\\\":\\\"Terrorism and Political Violence\\\",\\\"id\\\":1728467358,\\\"credits\\\":3.0,\\\"nameCanonical\\\":\\\"\\\"},{\\\"curriculum_requisites\\\":[],\\\"name\\\":\\\"FAM 253\\\",\\\"metrics\\\":{\\\"centrality\\\":0,\\\"complexity\\\":1.0,\\\"blocking factor\\\":0,\\\"delay factor\\\":1.0},\\\"nameSub\\\":\\\"Human Sexuality:  Development, Behavior, and Attitudes\\\",\\\"id\\\":3976753628,\\\"credits\\\":3.0,\\\"nameCanonical\\\":\\\"\\\"},{\\\"curriculum_requisites\\\":[],\\\"name\\\":\\\"COM 252\\\",\\\"metrics\\\":{\\\"centrality\\\":0,\\\"complexity\\\":1.0,\\\"blocking factor\\\":0,\\\"delay factor\\\":1.0},\\\"nameSub\\\":\\\"Introduction to Interpersonal Communication\\\",\\\"id\\\":4139891793,\\\"credits\\\":3.0,\\\"nameCanonical\\\":\\\"\\\"}],\\\"id\\\":2},{\\\"name\\\":\\\"Term 3\\\",\\\"curriculum_items\\\":[{\\\"curriculum_requisites\\\":[],\\\"name\\\":\\\"ENG 101\\\",\\\"metrics\\\":{\\\"centrality\\\":0,\\\"complexity\\\":1.0,\\\"blocking factor\\\":0,\\\"delay factor\\\":1.0},\\\"nameSub\\\":\\\"Writing I\\\",\\\"id\\\":4203010242,\\\"credits\\\":3.0,\\\"nameCanonical\\\":\\\"\\\"},{\\\"curriculum_requisites\\\":[],\\\"name\\\":\\\"GEO 152\\\",\\\"metrics\\\":{\\\"centrality\\\":0,\\\"complexity\\\":1.0,\\\"blocking factor\\\":0,\\\"delay factor\\\":1.0},\\\"nameSub\\\":\\\"Regional Geography of the World\\\",\\\"id\\\":1007206674,\\\"credits\\\":3.0,\\\"nameCanonical\\\":\\\"\\\"},{\\\"curriculum_requisites\\\":[],\\\"name\\\":\\\"CHE 145\\\",\\\"metrics\\\":{\\\"centrality\\\":0,\\\"complexity\\\":1.0,\\\"blocking factor\\\":0,\\\"delay factor\\\":1.0},\\\"nameSub\\\":\\\"Introductory General Chemistry Laboratory\\\",\\\"id\\\":1119549100,\\\"credits\\\":1.0,\\\"nameCanonical\\\":\\\"\\\"},{\\\"curriculum_requisites\\\":[],\\\"name\\\":\\\"REL 101\\\",\\\"metrics\\\":{\\\"centrality\\\":0,\\\"complexity\\\":1.0,\\\"blocking factor\\\":0,\\\"delay factor\\\":1.0},\\\"nameSub\\\":\\\"Introduction to Religious Studies\\\",\\\"id\\\":2455216373,\\\"credits\\\":3.0,\\\"nameCanonical\\\":\\\"\\\"},{\\\"curriculum_requisites\\\":[],\\\"name\\\":\\\"FYE 105\\\",\\\"metrics\\\":{\\\"centrality\\\":0,\\\"complexity\\\":1.0,\\\"blocking factor\\\":0,\\\"delay factor\\\":1.0},\\\"nameSub\\\":\\\"Achieving Academic Success\\\",\\\"id\\\":2925811470,\\\"credits\\\":3.0,\\\"nameCanonical\\\":\\\"\\\"},{\\\"curriculum_requisites\\\":[],\\\"name\\\":\\\"ENG 102\\\",\\\"metrics\\\":{\\\"centrality\\\":0,\\\"complexity\\\":1.0,\\\"blocking factor\\\":0,\\\"delay factor\\\":1.0},\\\"nameSub\\\":\\\"Writing II\\\",\\\"id\\\":2991984024,\\\"credits\\\":3.0,\\\"nameCanonical\\\":\\\"\\\"}],\\\"id\\\":3},{\\\"name\\\":\\\"Term 4\\\",\\\"curriculum_items\\\":[{\\\"curriculum_requisites\\\":[],\\\"name\\\":\\\"MAT 150\\\",\\\"metrics\\\":{\\\"centrality\\\":0,\\\"complexity\\\":1.0,\\\"blocking factor\\\":0,\\\"delay factor\\\":1.0},\\\"nameSub\\\":\\\"College Algebra\\\",\\\"id\\\":68310341,\\\"credits\\\":3.0,\\\"nameCanonical\\\":\\\"\\\"},{\\\"curriculum_requisites\\\":[],\\\"name\\\":\\\"ART 100\\\",\\\"metrics\\\":{\\\"centrality\\\":0,\\\"complexity\\\":1.0,\\\"blocking factor\\\":0,\\\"delay factor\\\":1.0},\\\"nameSub\\\":\\\"Introduction to Art\\\",\\\"id\\\":3965598960,\\\"credits\\\":3.0,\\\"nameCanonical\\\":\\\"\\\"},{\\\"curriculum_requisites\\\":[],\\\"name\\\":\\\"AST 101\\\",\\\"metrics\\\":{\\\"centrality\\\":0,\\\"complexity\\\":1.0,\\\"blocking factor\\\":0,\\\"delay factor\\\":1.0},\\\"nameSub\\\":\\\"Frontiers of Astronomy\\\",\\\"id\\\":1607261539,\\\"credits\\\":3.0,\\\"nameCanonical\\\":\\\"\\\"},{\\\"curriculum_requisites\\\":[],\\\"name\\\":\\\"MAT 151\\\",\\\"metrics\\\":{\\\"centrality\\\":0,\\\"complexity\\\":1.0,\\\"blocking factor\\\":0,\\\"delay factor\\\":1.0},\\\"nameSub\\\":\\\"Introduction to Applied Statistics\\\",\\\"id\\\":146128095,\\\"credits\\\":3.0,\\\"nameCanonical\\\":\\\"\\\"},{\\\"curriculum_requisites\\\":[],\\\"name\\\":\\\"REL 170\\\",\\\"metrics\\\":{\\\"centrality\\\":0,\\\"complexity\\\":1.0,\\\"blocking factor\\\":0,\\\"delay factor\\\":1.0},\\\"nameSub\\\":\\\"Philosophy of Religion\\\",\\\"id\\\":2006517275,\\\"credits\\\":3.0,\\\"nameCanonical\\\":\\\"\\\"}],\\\"id\\\":4}],\\\"institution\\\":\\\"\\\"}},\\\"*\\\"); window.removeEventListener(\\\"message\\\",window.messageReceived); window.messageReceived=(function (event){return (event.data.curriculum!==undefined) ? (WebIO.setval({\\\"name\\\":\\\"curriculum-data\\\",\\\"scope\\\":\\\"4630169323427753027\\\",\\\"id\\\":\\\"7542382322704956253\\\",\\\"type\\\":\\\"observable\\\"},event.data.curriculum)) : undefined}); return window.addEventListener(\\\"message\\\",window.messageReceived)})\"},\"style\":{\"padding\":\"0\",\"height\":\"100vh\",\"margin\":\"0\",\"border\":\"none\",\"width\":\"100%\"}},\"nodeType\":\"DOM\",\"type\":\"node\",\"instanceArgs\":{\"namespace\":\"html\",\"tag\":\"iframe\"},\"children\":[\"\"]}]},\n",
       "        window,\n",
       "    );\n",
       "    })()\n",
       "    </script>\n",
       "</div>\n"
      ],
      "text/plain": [
       "WebIO.Scope(WebIO.Node{WebIO.DOM}(WebIO.DOM(:html, :iframe), Any[\"\"], Dict{Symbol, Any}(:src => \"https://curricula-api-embed.damoursystems.com/\", :id => \"curriculum\", :events => Dict{Symbol, WebIO.JSString}(:load => WebIO.JSString(\"(function (){this.contentWindow.postMessage({\\\"options\\\":{\\\"hideTerms\\\":false,\\\"edit\\\":false},\\\"curriculum\\\":{\\\"name\\\":\\\"Two Year\\\",\\\"dp_name\\\":\\\"\\\",\\\"curriculum_terms\\\":[{\\\"name\\\":\\\"Term 1\\\",\\\"curriculum_items\\\":[{\\\"curriculum_requisites\\\":[],\\\"name\\\":\\\"ECO 201\\\",\\\"metrics\\\":{\\\"centrality\\\":0,\\\"complexity\\\":1.0,\\\"blocking factor\\\":0,\\\"delay factor\\\":1.0},\\\"nameSub\\\":\\\"Principles of Microeconomics\\\",\\\"id\\\":423308936,\\\"credits\\\":3.0,\\\"nameCanonical\\\":\\\"\\\"},{\\\"curriculum_requisites\\\":[],\\\"name\\\":\\\"IEC 291\\\",\\\"metrics\\\":{\\\"centrality\\\":0,\\\"complexity\\\":1.0,\\\"blocking factor\\\":0,\\\"delay factor\\\":1.0},\\\"nameSub\\\":\\\"IECE Practicum/Cooperative Education\\\",\\\"id\\\":190471220,\\\"credits\\\":3.0,\\\"nameCanonical\\\":\\\"\\\"},{\\\"curriculum_requisites\\\":[],\\\"name\\\":\\\"IEC 235\\\",\\\"metrics\\\":{\\\"centrality\\\":0,\\\"complexity\\\":1.0,\\\"blocking factor\\\":0,\\\"delay factor\\\":1.0},\\\"nameSub\\\":\\\"Introduction to Inclusive Education\\\",\\\"id\\\":286853854,\\\"credits\\\":3.0,\\\"nameCanonical\\\":\\\"\\\"},{\\\"curriculum_requisites\\\":[],\\\"name\\\":\\\"BIO 148\\\",\\\"metrics\\\":{\\\"centrality\\\":0,\\\"complexity\\\":1.0,\\\"blocking factor\\\":0,\\\"delay factor\\\":1.0},\\\"nameSub\\\":\\\"Introductory Biology I\\\",\\\"id\\\":502346721,\\\"credits\\\":3.0,\\\"nameCanonical\\\":\\\"\\\"},{\\\"curriculum_requisites\\\":[],\\\"name\\\":\\\"IEC 260\\\",\\\"metrics\\\":{\\\"centrality\\\":0,\\\"complexity\\\":1.0,\\\"blocking factor\\\":0,\\\"delay factor\\\":1.0},\\\"nameSub\\\":\\\"Infant and Toddler Education and Programming\\\",\\\"id\\\":3846055305,\\\"credits\\\":3.0,\\\"nameCanonical\\\":\\\"\\\"}],\\\"id\\\":1},{\\\"name\\\":\\\"Term 2\\\",\\\"curriculum_items\\\":[{\\\"curriculum_requisites\\\":[],\\\"name\\\":\\\"HIS 101\\\",\\\"metrics\\\":{\\\"centrality\\\":0,\\\"complexity\\\":1.0,\\\"blocking factor\\\":0,\\\"delay factor\\\":1.0},\\\"nameSub\\\":\\\"World Civilization I\\\",\\\"id\\\":1391597362,\\\"credits\\\":3.0,\\\"nameCanonical\\\":\\\"\\\"},{\\\"curriculum_requisites\\\":[],\\\"name\\\":\\\"CHE 170\\\",\\\"metrics\\\":{\\\"centrality\\\":0,\\\"complexity\\\":1.0,\\\"blocking factor\\\":0,\\\"delay factor\\\":1.0},\\\"nameSub\\\":\\\"General College Chemistry I\\\",\\\"id\\\":2759835203,\\\"credits\\\":4.0,\\\"nameCanonical\\\":\\\"\\\"},{\\\"curriculum_requisites\\\":[],\\\"name\\\":\\\"CRJ 279\\\",\\\"metrics\\\":{\\\"centrality\\\":0,\\\"complexity\\\":1.0,\\\"blocking factor\\\":0,\\\"delay factor\\\":1.0},\\\"nameSub\\\":\\\"Terrorism and Political Violence\\\",\\\"id\\\":1728467358,\\\"credits\\\":3.0,\\\"nameCanonical\\\":\\\"\\\"},{\\\"curriculum_requisites\\\":[],\\\"name\\\":\\\"FAM 253\\\",\\\"metrics\\\":{\\\"centrality\\\":0,\\\"complexity\\\":1.0,\\\"blocking factor\\\":0,\\\"delay factor\\\":1.0},\\\"nameSub\\\":\\\"Human Sexuality:  Development, Behavior, and Attitudes\\\",\\\"id\\\":3976753628,\\\"credits\\\":3.0,\\\"nameCanonical\\\":\\\"\\\"},{\\\"curriculum_requisites\\\":[],\\\"name\\\":\\\"COM 252\\\",\\\"metrics\\\":{\\\"centrality\\\":0,\\\"complexity\\\":1.0,\\\"blocking factor\\\":0,\\\"delay factor\\\":1.0},\\\"nameSub\\\":\\\"Introduction to Interpersonal Communication\\\",\\\"id\\\":4139891793,\\\"credits\\\":3.0,\\\"nameCanonical\\\":\\\"\\\"}],\\\"id\\\":2},{\\\"name\\\":\\\"Term 3\\\",\\\"curriculum_items\\\":[{\\\"curriculum_requisites\\\":[],\\\"name\\\":\\\"ENG 101\\\",\\\"metrics\\\":{\\\"centrality\\\":0,\\\"complexity\\\":1.0,\\\"blocking factor\\\":0,\\\"delay factor\\\":1.0},\\\"nameSub\\\":\\\"Writing I\\\",\\\"id\\\":4203010242,\\\"credits\\\":3.0,\\\"nameCanonical\\\":\\\"\\\"},{\\\"curriculum_requisites\\\":[],\\\"name\\\":\\\"GEO 152\\\",\\\"metrics\\\":{\\\"centrality\\\":0,\\\"complexity\\\":1.0,\\\"blocking factor\\\":0,\\\"delay factor\\\":1.0},\\\"nameSub\\\":\\\"Regional Geography of the World\\\",\\\"id\\\":1007206674,\\\"credits\\\":3.0,\\\"nameCanonical\\\":\\\"\\\"},{\\\"curriculum_requisites\\\":[],\\\"name\\\":\\\"CHE 145\\\",\\\"metrics\\\":{\\\"centrality\\\":0,\\\"complexity\\\":1.0,\\\"blocking factor\\\":0,\\\"delay factor\\\":1.0},\\\"nameSub\\\":\\\"Introductory General Chemistry Laboratory\\\",\\\"id\\\":1119549100,\\\"credits\\\":1.0,\\\"nameCanonical\\\":\\\"\\\"},{\\\"curriculum_requisites\\\":[],\\\"name\\\":\\\"REL 101\\\",\\\"metrics\\\":{\\\"centrality\\\":0,\\\"complexity\\\":1.0,\\\"blocking factor\\\":0,\\\"delay factor\\\":1.0},\\\"nameSub\\\":\\\"Introduction to Religious Studies\\\",\\\"id\\\":2455216373,\\\"credits\\\":3.0,\\\"nameCanonical\\\":\\\"\\\"},{\\\"curriculum_requisites\\\":[],\\\"name\\\":\\\"FYE 105\\\",\\\"metrics\\\":{\\\"centrality\\\":0,\\\"complexity\\\":1.0,\\\"blocking factor\\\":0,\\\"delay factor\\\":1.0},\\\"nameSub\\\":\\\"Achieving Academic Success\\\",\\\"id\\\":2925811470,\\\"credits\\\":3.0,\\\"nameCanonical\\\":\\\"\\\"},{\\\"curriculum_requisites\\\":[],\\\"name\\\":\\\"ENG 102\\\",\\\"metrics\\\":{\\\"centrality\\\":0,\\\"complexity\\\":1.0,\\\"blocking factor\\\":0,\\\"delay factor\\\":1.0},\\\"nameSub\\\":\\\"Writing II\\\",\\\"id\\\":2991984024,\\\"credits\\\":3.0,\\\"nameCanonical\\\":\\\"\\\"}],\\\"id\\\":3},{\\\"name\\\":\\\"Term 4\\\",\\\"curriculum_items\\\":[{\\\"curriculum_requisites\\\":[],\\\"name\\\":\\\"MAT 150\\\",\\\"metrics\\\":{\\\"centrality\\\":0,\\\"complexity\\\":1.0,\\\"blocking factor\\\":0,\\\"delay factor\\\":1.0},\\\"nameSub\\\":\\\"College Algebra\\\",\\\"id\\\":68310341,\\\"credits\\\":3.0,\\\"nameCanonical\\\":\\\"\\\"},{\\\"curriculum_requisites\\\":[],\\\"name\\\":\\\"ART 100\\\",\\\"metrics\\\":{\\\"centrality\\\":0,\\\"complexity\\\":1.0,\\\"blocking factor\\\":0,\\\"delay factor\\\":1.0},\\\"nameSub\\\":\\\"Introduction to Art\\\",\\\"id\\\":3965598960,\\\"credits\\\":3.0,\\\"nameCanonical\\\":\\\"\\\"},{\\\"curriculum_requisites\\\":[],\\\"name\\\":\\\"AST 101\\\",\\\"metrics\\\":{\\\"centrality\\\":0,\\\"complexity\\\":1.0,\\\"blocking factor\\\":0,\\\"delay factor\\\":1.0},\\\"nameSub\\\":\\\"Frontiers of Astronomy\\\",\\\"id\\\":1607261539,\\\"credits\\\":3.0,\\\"nameCanonical\\\":\\\"\\\"},{\\\"curriculum_requisites\\\":[],\\\"name\\\":\\\"MAT 151\\\",\\\"metrics\\\":{\\\"centrality\\\":0,\\\"complexity\\\":1.0,\\\"blocking factor\\\":0,\\\"delay factor\\\":1.0},\\\"nameSub\\\":\\\"Introduction to Applied Statistics\\\",\\\"id\\\":146128095,\\\"credits\\\":3.0,\\\"nameCanonical\\\":\\\"\\\"},{\\\"curriculum_requisites\\\":[],\\\"name\\\":\\\"REL 170\\\",\\\"metrics\\\":{\\\"centrality\\\":0,\\\"complexity\\\":1.0,\\\"blocking factor\\\":0,\\\"delay factor\\\":1.0},\\\"nameSub\\\":\\\"Philosophy of Religion\\\",\\\"id\\\":2006517275,\\\"credits\\\":3.0,\\\"nameCanonical\\\":\\\"\\\"}],\\\"id\\\":4}],\\\"institution\\\":\\\"\\\"}},\\\"*\\\"); window.removeEventListener(\\\"message\\\",window.messageReceived); window.messageReceived=(function (event){return (event.data.curriculum!==undefined) ? (WebIO.setval({\\\"name\\\":\\\"curriculum-data\\\",\\\"scope\\\":\\\"4630169323427753027\\\",\\\"id\\\":\\\"7542382322704956253\\\",\\\"type\\\":\\\"observable\\\"},event.data.curriculum)) : undefined}); return window.addEventListener(\\\"message\\\",window.messageReceived)})\")), :style => Dict(:padding => \"0\", :height => \"100vh\", :margin => \"0\", :border => \"none\", :width => \"100%\"))), Dict{String, Tuple{Observables.AbstractObservable, Union{Nothing, Bool}}}(\"curriculum-data\" => (Observable(Dict{String, Any}(\"options\" => Dict{String, Any}(\"hideTerms\" => false, \"edit\" => false), \"curriculum\" => Dict{String, Any}(\"name\" => \"Two Year\", \"dp_name\" => \"\", \"curriculum_terms\" => Dict{String, Any}[Dict(\"name\" => \"Term 1\", \"curriculum_items\" => Dict{String, Any}[Dict(\"curriculum_requisites\" => Dict{String, Any}[], \"name\" => \"ECO 201\", \"metrics\" => Dict{String, Any}(\"centrality\" => 0, \"complexity\" => 1.0, \"blocking factor\" => 0, \"delay factor\" => 1.0), \"nameSub\" => \"Principles of Microeconomics\", \"id\" => 423308936, \"credits\" => 3.0, \"nameCanonical\" => \"\"), Dict(\"curriculum_requisites\" => Dict{String, Any}[], \"name\" => \"IEC 291\", \"metrics\" => Dict{String, Any}(\"centrality\" => 0, \"complexity\" => 1.0, \"blocking factor\" => 0, \"delay factor\" => 1.0), \"nameSub\" => \"IECE Practicum/Cooperative Education\", \"id\" => 190471220, \"credits\" => 3.0, \"nameCanonical\" => \"\"), Dict(\"curriculum_requisites\" => Dict{String, Any}[], \"name\" => \"IEC 235\", \"metrics\" => Dict{String, Any}(\"centrality\" => 0, \"complexity\" => 1.0, \"blocking factor\" => 0, \"delay factor\" => 1.0), \"nameSub\" => \"Introduction to Inclusive Education\", \"id\" => 286853854, \"credits\" => 3.0, \"nameCanonical\" => \"\"), Dict(\"curriculum_requisites\" => Dict{String, Any}[], \"name\" => \"BIO 148\", \"metrics\" => Dict{String, Any}(\"centrality\" => 0, \"complexity\" => 1.0, \"blocking factor\" => 0, \"delay factor\" => 1.0), \"nameSub\" => \"Introductory Biology I\", \"id\" => 502346721, \"credits\" => 3.0, \"nameCanonical\" => \"\"), Dict(\"curriculum_requisites\" => Dict{String, Any}[], \"name\" => \"IEC 260\", \"metrics\" => Dict{String, Any}(\"centrality\" => 0, \"complexity\" => 1.0, \"blocking factor\" => 0, \"delay factor\" => 1.0), \"nameSub\" => \"Infant and Toddler Education and Programming\", \"id\" => 3846055305, \"credits\" => 3.0, \"nameCanonical\" => \"\")], \"id\" => 1), Dict(\"name\" => \"Term 2\", \"curriculum_items\" => Dict{String, Any}[Dict(\"curriculum_requisites\" => Dict{String, Any}[], \"name\" => \"HIS 101\", \"metrics\" => Dict{String, Any}(\"centrality\" => 0, \"complexity\" => 1.0, \"blocking factor\" => 0, \"delay factor\" => 1.0), \"nameSub\" => \"World Civilization I\", \"id\" => 1391597362, \"credits\" => 3.0, \"nameCanonical\" => \"\"), Dict(\"curriculum_requisites\" => Dict{String, Any}[], \"name\" => \"CHE 170\", \"metrics\" => Dict{String, Any}(\"centrality\" => 0, \"complexity\" => 1.0, \"blocking factor\" => 0, \"delay factor\" => 1.0), \"nameSub\" => \"General College Chemistry I\", \"id\" => 2759835203, \"credits\" => 4.0, \"nameCanonical\" => \"\"), Dict(\"curriculum_requisites\" => Dict{String, Any}[], \"name\" => \"CRJ 279\", \"metrics\" => Dict{String, Any}(\"centrality\" => 0, \"complexity\" => 1.0, \"blocking factor\" => 0, \"delay factor\" => 1.0), \"nameSub\" => \"Terrorism and Political Violence\", \"id\" => 1728467358, \"credits\" => 3.0, \"nameCanonical\" => \"\"), Dict(\"curriculum_requisites\" => Dict{String, Any}[], \"name\" => \"FAM 253\", \"metrics\" => Dict{String, Any}(\"centrality\" => 0, \"complexity\" => 1.0, \"blocking factor\" => 0, \"delay factor\" => 1.0), \"nameSub\" => \"Human Sexuality:  Development, Behavior, and Attitudes\", \"id\" => 3976753628, \"credits\" => 3.0, \"nameCanonical\" => \"\"), Dict(\"curriculum_requisites\" => Dict{String, Any}[], \"name\" => \"COM 252\", \"metrics\" => Dict{String, Any}(\"centrality\" => 0, \"complexity\" => 1.0, \"blocking factor\" => 0, \"delay factor\" => 1.0), \"nameSub\" => \"Introduction to Interpersonal Communication\", \"id\" => 4139891793, \"credits\" => 3.0, \"nameCanonical\" => \"\")], \"id\" => 2), Dict(\"name\" => \"Term 3\", \"curriculum_items\" => Dict{String, Any}[Dict(\"curriculum_requisites\" => Dict{String, Any}[], \"name\" => \"ENG 101\", \"metrics\" => Dict{String, Any}(\"centrality\" => 0, \"complexity\" => 1.0, \"blocking factor\" => 0, \"delay factor\" => 1.0), \"nameSub\" => \"Writing I\", \"id\" => 4203010242, \"credits\" => 3.0, \"nameCanonical\" => \"\"), Dict(\"curriculum_requisites\" => Dict{String, Any}[], \"name\" => \"GEO 152\", \"metrics\" => Dict{String, Any}(\"centrality\" => 0, \"complexity\" => 1.0, \"blocking factor\" => 0, \"delay factor\" => 1.0), \"nameSub\" => \"Regional Geography of the World\", \"id\" => 1007206674, \"credits\" => 3.0, \"nameCanonical\" => \"\"), Dict(\"curriculum_requisites\" => Dict{String, Any}[], \"name\" => \"CHE 145\", \"metrics\" => Dict{String, Any}(\"centrality\" => 0, \"complexity\" => 1.0, \"blocking factor\" => 0, \"delay factor\" => 1.0), \"nameSub\" => \"Introductory General Chemistry Laboratory\", \"id\" => 1119549100, \"credits\" => 1.0, \"nameCanonical\" => \"\"), Dict(\"curriculum_requisites\" => Dict{String, Any}[], \"name\" => \"REL 101\", \"metrics\" => Dict{String, Any}(\"centrality\" => 0, \"complexity\" => 1.0, \"blocking factor\" => 0, \"delay factor\" => 1.0), \"nameSub\" => \"Introduction to Religious Studies\", \"id\" => 2455216373, \"credits\" => 3.0, \"nameCanonical\" => \"\"), Dict(\"curriculum_requisites\" => Dict{String, Any}[], \"name\" => \"FYE 105\", \"metrics\" => Dict{String, Any}(\"centrality\" => 0, \"complexity\" => 1.0, \"blocking factor\" => 0, \"delay factor\" => 1.0), \"nameSub\" => \"Achieving Academic Success\", \"id\" => 2925811470, \"credits\" => 3.0, \"nameCanonical\" => \"\"), Dict(\"curriculum_requisites\" => Dict{String, Any}[], \"name\" => \"ENG 102\", \"metrics\" => Dict{String, Any}(\"centrality\" => 0, \"complexity\" => 1.0, \"blocking factor\" => 0, \"delay factor\" => 1.0), \"nameSub\" => \"Writing II\", \"id\" => 2991984024, \"credits\" => 3.0, \"nameCanonical\" => \"\")], \"id\" => 3), Dict(\"name\" => \"Term 4\", \"curriculum_items\" => Dict{String, Any}[Dict(\"curriculum_requisites\" => Dict{String, Any}[], \"name\" => \"MAT 150\", \"metrics\" => Dict{String, Any}(\"centrality\" => 0, \"complexity\" => 1.0, \"blocking factor\" => 0, \"delay factor\" => 1.0), \"nameSub\" => \"College Algebra\", \"id\" => 68310341, \"credits\" => 3.0, \"nameCanonical\" => \"\"), Dict(\"curriculum_requisites\" => Dict{String, Any}[], \"name\" => \"ART 100\", \"metrics\" => Dict{String, Any}(\"centrality\" => 0, \"complexity\" => 1.0, \"blocking factor\" => 0, \"delay factor\" => 1.0), \"nameSub\" => \"Introduction to Art\", \"id\" => 3965598960, \"credits\" => 3.0, \"nameCanonical\" => \"\"), Dict(\"curriculum_requisites\" => Dict{String, Any}[], \"name\" => \"AST 101\", \"metrics\" => Dict{String, Any}(\"centrality\" => 0, \"complexity\" => 1.0, \"blocking factor\" => 0, \"delay factor\" => 1.0), \"nameSub\" => \"Frontiers of Astronomy\", \"id\" => 1607261539, \"credits\" => 3.0, \"nameCanonical\" => \"\"), Dict(\"curriculum_requisites\" => Dict{String, Any}[], \"name\" => \"MAT 151\", \"metrics\" => Dict{String, Any}(\"centrality\" => 0, \"complexity\" => 1.0, \"blocking factor\" => 0, \"delay factor\" => 1.0), \"nameSub\" => \"Introduction to Applied Statistics\", \"id\" => 146128095, \"credits\" => 3.0, \"nameCanonical\" => \"\"), Dict(\"curriculum_requisites\" => Dict{String, Any}[], \"name\" => \"REL 170\", \"metrics\" => Dict{String, Any}(\"centrality\" => 0, \"complexity\" => 1.0, \"blocking factor\" => 0, \"delay factor\" => 1.0), \"nameSub\" => \"Philosophy of Religion\", \"id\" => 2006517275, \"credits\" => 3.0, \"nameCanonical\" => \"\")], \"id\" => 4)], \"institution\" => \"\"))), nothing)), Set{String}(), nothing, WebIO.Asset[], Dict{Any, Any}(), WebIO.ConnectionPool(Channel{Any}(32), Set{WebIO.AbstractConnection}(), Base.GenericCondition{ReentrantLock}(Base.InvasiveLinkedList{Task}(Task (runnable) @0x0000000071614bb0, Task (runnable) @0x0000000071614bb0), ReentrantLock(nothing, Base.GenericCondition{Base.Threads.SpinLock}(Base.InvasiveLinkedList{Task}(nothing, nothing), Base.Threads.SpinLock(0)), 0))), WebIO.JSString[])"
      ]
     },
     "execution_count": 7,
     "metadata": {
      "application/vnd.webio.node+json": {
       "kernelId": "14c1ef7a-e191-4be7-a360-d4ef7c784993"
      }
     },
     "output_type": "execute_result"
    }
   ],
   "source": [
    "# Create curriculum for source school\n",
    "curriculum_source = convert(Matrix{Int}, curriculum_source)\n",
    "two_year_course_list = Array{Course,1}()\n",
    "for (i, value) in enumerate(curriculum_source)\n",
    "    if value > 0.5\n",
    "        push!(two_year_course_list, source_courses_list[i])\n",
    "    end\n",
    "end\n",
    "\n",
    "source_curriculum = CurricularAnalytics.Curriculum(\"Two Year\", two_year_course_list)\n",
    "source_degreeplan = CurricularOptimization.optimize_plan(source_curriculum, 4, 8, 25, [CurricularOptimization.balance_obj])\n",
    "visualize(source_degreeplan, notebook=true)"
   ]
  },
  {
   "cell_type": "code",
   "execution_count": 8,
   "id": "70ec238e",
   "metadata": {},
   "outputs": [],
   "source": [
    "# Create curriculum for destination school\n",
    "last_2_year_curriculum = convert(Matrix{Int}, last_2_year_curriculum)\n",
    "four_year_course_list = Array{Course,1}()\n",
    "for (i, value) in enumerate(last_2_year_curriculum)\n",
    "    if value > 0.5\n",
    "        push!(four_year_course_list, destination_courses_list[i])\n",
    "    end\n",
    "end\n",
    "\n"
   ]
  },
  {
   "cell_type": "code",
   "execution_count": 9,
   "id": "2bbf88be",
   "metadata": {},
   "outputs": [
    {
     "name": "stdout",
     "output_type": "stream",
     "text": [
      "Set parameter Username\r\n",
      "Academic license - for non-commercial use only - expires 2024-06-23\r\n",
      "An optimal solution was found with objective value = 12.0\n"
     ]
    },
    {
     "data": {
      "application/vnd.webio.node+json": {
       "children": [
        {
         "children": [
          ""
         ],
         "instanceArgs": {
          "namespace": "html",
          "tag": "iframe"
         },
         "nodeType": "DOM",
         "props": {
          "events": {
           "load": "(function (){this.contentWindow.postMessage({\"options\":{\"hideTerms\":false,\"edit\":false},\"curriculum\":{\"name\":\"Four Year\",\"dp_name\":\"\",\"curriculum_terms\":[{\"name\":\"Term 1\",\"curriculum_items\":[{\"curriculum_requisites\":[],\"name\":\"QMB 200\",\"metrics\":{\"centrality\":0,\"complexity\":1.0,\"blocking factor\":0,\"delay factor\":1.0},\"nameSub\":\"Business Statistics I\",\"id\":2743475061,\"credits\":3.0,\"nameCanonical\":\"\"},{\"curriculum_requisites\":[],\"name\":\"ENG 102\",\"metrics\":{\"centrality\":0,\"complexity\":1.0,\"blocking factor\":0,\"delay factor\":1.0},\"nameSub\":\"Research, Writing, & Rhetoric\",\"id\":2292047404,\"credits\":3.0,\"nameCanonical\":\"\"},{\"curriculum_requisites\":[],\"name\":\"CMS 210\",\"metrics\":{\"centrality\":0,\"complexity\":1.0,\"blocking factor\":0,\"delay factor\":1.0},\"nameSub\":\"Public Speaking\",\"id\":846014856,\"credits\":3.0,\"nameCanonical\":\"\"},{\"curriculum_requisites\":[],\"name\":\"CIS 340\",\"metrics\":{\"centrality\":0,\"complexity\":1.0,\"blocking factor\":0,\"delay factor\":1.0},\"nameSub\":\"Electronic Business Technologies and Tools.\",\"id\":640031206,\"credits\":3.0,\"nameCanonical\":\"\"},{\"curriculum_requisites\":[],\"name\":\"BTS 300\",\"metrics\":{\"centrality\":0,\"complexity\":1.0,\"blocking factor\":0,\"delay factor\":1.0},\"nameSub\":\"Professional Skills Seminar\",\"id\":1705147435,\"credits\":0.0,\"nameCanonical\":\"\"},{\"curriculum_requisites\":[],\"name\":\"MGT 300\",\"metrics\":{\"centrality\":0,\"complexity\":1.0,\"blocking factor\":0,\"delay factor\":1.0},\"nameSub\":\"Principles of Management\",\"id\":2354522378,\"credits\":3.0,\"nameCanonical\":\"\"},{\"curriculum_requisites\":[],\"name\":\"BTS 400\",\"metrics\":{\"centrality\":0,\"complexity\":1.0,\"blocking factor\":0,\"delay factor\":1.0},\"nameSub\":\"College to Careers Seminar\",\"id\":1387784944,\"credits\":0.0,\"nameCanonical\":\"\"},{\"curriculum_requisites\":[],\"name\":\"CIS 240\",\"metrics\":{\"centrality\":0,\"complexity\":1.0,\"blocking factor\":0,\"delay factor\":1.0},\"nameSub\":\"Intro to Web Info Systems\",\"id\":1752176207,\"credits\":3.0,\"nameCanonical\":\"\"},{\"curriculum_requisites\":[],\"name\":\"BTO 100\",\"metrics\":{\"centrality\":0,\"complexity\":1.0,\"blocking factor\":0,\"delay factor\":1.0},\"nameSub\":\"Student Success Seminar\",\"id\":1821868359,\"credits\":1.0,\"nameCanonical\":\"\"}],\"id\":1},{\"name\":\"Term 2\",\"curriculum_items\":[{\"curriculum_requisites\":[],\"name\":\"GBU 480\",\"metrics\":{\"centrality\":0,\"complexity\":1.0,\"blocking factor\":0,\"delay factor\":1.0},\"nameSub\":\"Business Strategy\",\"id\":3919091473,\"credits\":3.0,\"nameCanonical\":\"\"},{\"curriculum_requisites\":[],\"name\":\"FIN 300\",\"metrics\":{\"centrality\":0,\"complexity\":1.0,\"blocking factor\":0,\"delay factor\":1.0},\"nameSub\":\"Business Finance I\",\"id\":4004630018,\"credits\":3.0,\"nameCanonical\":\"\"},{\"curriculum_requisites\":[],\"name\":\"CCT 300W\",\"metrics\":{\"centrality\":0,\"complexity\":1.0,\"blocking factor\":0,\"delay factor\":1.0},\"nameSub\":\"Managerial Reports\",\"id\":1182524942,\"credits\":3.0,\"nameCanonical\":\"\"},{\"curriculum_requisites\":[],\"name\":\"CIS 335\",\"metrics\":{\"centrality\":0,\"complexity\":1.0,\"blocking factor\":0,\"delay factor\":1.0},\"nameSub\":\"Data Base Management\",\"id\":1033217435,\"credits\":3.0,\"nameCanonical\":\"\"},{\"curriculum_requisites\":[],\"name\":\"CIS 380\",\"metrics\":{\"centrality\":0,\"complexity\":1.0,\"blocking factor\":0,\"delay factor\":1.0},\"nameSub\":\"Information Sys Analysis & Des\",\"id\":3358245624,\"credits\":3.0,\"nameCanonical\":\"\"},{\"curriculum_requisites\":[],\"name\":\"MAT 112B\",\"metrics\":{\"centrality\":0,\"complexity\":1.0,\"blocking factor\":0,\"delay factor\":1.0},\"nameSub\":\"Algebra: Functions & Matrices\",\"id\":962638701,\"credits\":1.5,\"nameCanonical\":\"\"},{\"curriculum_requisites\":[],\"name\":\"SOC 131\",\"metrics\":{\"centrality\":0,\"complexity\":1.0,\"blocking factor\":0,\"delay factor\":1.0},\"nameSub\":\"Introductory Sociology\",\"id\":1472757167,\"credits\":3.0,\"nameCanonical\":\"\"}],\"id\":2},{\"name\":\"Term 3\",\"curriculum_items\":[{\"curriculum_requisites\":[],\"name\":\"ECO 230\",\"metrics\":{\"centrality\":0,\"complexity\":1.0,\"blocking factor\":0,\"delay factor\":1.0},\"nameSub\":\"Principles of Microeconomics\",\"id\":347375433,\"credits\":3.0,\"nameCanonical\":\"\"},{\"curriculum_requisites\":[],\"name\":\"MAT 112A\",\"metrics\":{\"centrality\":0,\"complexity\":1.0,\"blocking factor\":0,\"delay factor\":1.0},\"nameSub\":\"Algebra: Polynomials\",\"id\":4275033709,\"credits\":1.5,\"nameCanonical\":\"\"},{\"curriculum_requisites\":[],\"name\":\"GBU 204\",\"metrics\":{\"centrality\":0,\"complexity\":1.0,\"blocking factor\":0,\"delay factor\":1.0},\"nameSub\":\"Legal/Ethical Environ. of Bus.\",\"id\":3329395497,\"credits\":3.0,\"nameCanonical\":\"\"},{\"curriculum_requisites\":[],\"name\":\"INF 104\",\"metrics\":{\"centrality\":0,\"complexity\":1.0,\"blocking factor\":0,\"delay factor\":1.0},\"nameSub\":\"Comp Lit w/ Software Applic\",\"id\":605095537,\"credits\":3.0,\"nameCanonical\":\"\"},{\"curriculum_requisites\":[],\"name\":\"ACC 202\",\"metrics\":{\"centrality\":0,\"complexity\":1.0,\"blocking factor\":0,\"delay factor\":1.0},\"nameSub\":\"Introduction to Managerial Acc\",\"id\":3547692121,\"credits\":3.0,\"nameCanonical\":\"\"},{\"curriculum_requisites\":[],\"name\":\"CIS 215\",\"metrics\":{\"centrality\":0,\"complexity\":1.0,\"blocking factor\":0,\"delay factor\":1.0},\"nameSub\":\"Intro to Business Programming\",\"id\":2586821022,\"credits\":3.0,\"nameCanonical\":\"\"},{\"curriculum_requisites\":[],\"name\":\"HON 310W\",\"metrics\":{\"centrality\":0,\"complexity\":1.0,\"blocking factor\":0,\"delay factor\":1.0},\"nameSub\":\"Seminar in History\",\"id\":3741150966,\"credits\":3.0,\"nameCanonical\":\"\"}],\"id\":3},{\"name\":\"Term 4\",\"curriculum_items\":[{\"curriculum_requisites\":[],\"name\":\"CIS 300\",\"metrics\":{\"centrality\":0,\"complexity\":1.0,\"blocking factor\":0,\"delay factor\":1.0},\"nameSub\":\"Management Information Systems\",\"id\":2556122892,\"credits\":3.0,\"nameCanonical\":\"\"},{\"curriculum_requisites\":[],\"name\":\"MKT 300\",\"metrics\":{\"centrality\":0,\"complexity\":1.0,\"blocking factor\":0,\"delay factor\":1.0},\"nameSub\":\"Principles of Marketing\",\"id\":163160102,\"credits\":3.0,\"nameCanonical\":\"\"},{\"curriculum_requisites\":[],\"name\":\"ACC 201\",\"metrics\":{\"centrality\":0,\"complexity\":1.0,\"blocking factor\":0,\"delay factor\":1.0},\"nameSub\":\"Introduction to Financial Acc\",\"id\":124628900,\"credits\":3.0,\"nameCanonical\":\"\"},{\"curriculum_requisites\":[],\"name\":\"CIS 375\",\"metrics\":{\"centrality\":0,\"complexity\":1.0,\"blocking factor\":0,\"delay factor\":1.0},\"nameSub\":\"Networks & Telecommunications\",\"id\":2888240639,\"credits\":3.0,\"nameCanonical\":\"\"},{\"curriculum_requisites\":[],\"name\":\"ECO 231\",\"metrics\":{\"centrality\":0,\"complexity\":1.0,\"blocking factor\":0,\"delay factor\":1.0},\"nameSub\":\"Principles of Macroeconomics\",\"id\":2536192646,\"credits\":3.0,\"nameCanonical\":\"\"},{\"curriculum_requisites\":[],\"name\":\"CIS 410\",\"metrics\":{\"centrality\":0,\"complexity\":1.0,\"blocking factor\":0,\"delay factor\":1.0},\"nameSub\":\"Project Management and Practice\",\"id\":4264546619,\"credits\":3.0,\"nameCanonical\":\"\"},{\"curriculum_requisites\":[],\"name\":\"MGT 370\",\"metrics\":{\"centrality\":0,\"complexity\":1.0,\"blocking factor\":0,\"delay factor\":1.0},\"nameSub\":\"Operations Management\",\"id\":308382454,\"credits\":3.0,\"nameCanonical\":\"\"}],\"id\":4}],\"institution\":\"\"}},\"*\"); window.removeEventListener(\"message\",window.messageReceived); window.messageReceived=(function (event){return (event.data.curriculum!==undefined) ? (WebIO.setval({\"name\":\"curriculum-data\",\"scope\":\"8876962691869196037\",\"id\":\"13579934027258999995\",\"type\":\"observable\"},event.data.curriculum)) : undefined}); return window.addEventListener(\"message\",window.messageReceived)})"
          },
          "id": "curriculum",
          "src": "https://curricula-api-embed.damoursystems.com/",
          "style": {
           "border": "none",
           "height": "100vh",
           "margin": "0",
           "padding": "0",
           "width": "100%"
          }
         },
         "type": "node"
        }
       ],
       "instanceArgs": {
        "handlers": {},
        "id": "8876962691869196037",
        "imports": {
         "data": [],
         "type": "async_block"
        },
        "mount_callbacks": [],
        "observables": {
         "curriculum-data": {
          "id": "13579934027258999995",
          "sync": true,
          "value": {
           "curriculum": {
            "curriculum_terms": [
             {
              "curriculum_items": [
               {
                "credits": 3,
                "curriculum_requisites": [],
                "id": 2743475061,
                "metrics": {
                 "blocking factor": 0,
                 "centrality": 0,
                 "complexity": 1,
                 "delay factor": 1
                },
                "name": "QMB 200",
                "nameCanonical": "",
                "nameSub": "Business Statistics I"
               },
               {
                "credits": 3,
                "curriculum_requisites": [],
                "id": 2292047404,
                "metrics": {
                 "blocking factor": 0,
                 "centrality": 0,
                 "complexity": 1,
                 "delay factor": 1
                },
                "name": "ENG 102",
                "nameCanonical": "",
                "nameSub": "Research, Writing, & Rhetoric"
               },
               {
                "credits": 3,
                "curriculum_requisites": [],
                "id": 846014856,
                "metrics": {
                 "blocking factor": 0,
                 "centrality": 0,
                 "complexity": 1,
                 "delay factor": 1
                },
                "name": "CMS 210",
                "nameCanonical": "",
                "nameSub": "Public Speaking"
               },
               {
                "credits": 3,
                "curriculum_requisites": [],
                "id": 640031206,
                "metrics": {
                 "blocking factor": 0,
                 "centrality": 0,
                 "complexity": 1,
                 "delay factor": 1
                },
                "name": "CIS 340",
                "nameCanonical": "",
                "nameSub": "Electronic Business Technologies and Tools."
               },
               {
                "credits": 0,
                "curriculum_requisites": [],
                "id": 1705147435,
                "metrics": {
                 "blocking factor": 0,
                 "centrality": 0,
                 "complexity": 1,
                 "delay factor": 1
                },
                "name": "BTS 300",
                "nameCanonical": "",
                "nameSub": "Professional Skills Seminar"
               },
               {
                "credits": 3,
                "curriculum_requisites": [],
                "id": 2354522378,
                "metrics": {
                 "blocking factor": 0,
                 "centrality": 0,
                 "complexity": 1,
                 "delay factor": 1
                },
                "name": "MGT 300",
                "nameCanonical": "",
                "nameSub": "Principles of Management"
               },
               {
                "credits": 0,
                "curriculum_requisites": [],
                "id": 1387784944,
                "metrics": {
                 "blocking factor": 0,
                 "centrality": 0,
                 "complexity": 1,
                 "delay factor": 1
                },
                "name": "BTS 400",
                "nameCanonical": "",
                "nameSub": "College to Careers Seminar"
               },
               {
                "credits": 3,
                "curriculum_requisites": [],
                "id": 1752176207,
                "metrics": {
                 "blocking factor": 0,
                 "centrality": 0,
                 "complexity": 1,
                 "delay factor": 1
                },
                "name": "CIS 240",
                "nameCanonical": "",
                "nameSub": "Intro to Web Info Systems"
               },
               {
                "credits": 1,
                "curriculum_requisites": [],
                "id": 1821868359,
                "metrics": {
                 "blocking factor": 0,
                 "centrality": 0,
                 "complexity": 1,
                 "delay factor": 1
                },
                "name": "BTO 100",
                "nameCanonical": "",
                "nameSub": "Student Success Seminar"
               }
              ],
              "id": 1,
              "name": "Term 1"
             },
             {
              "curriculum_items": [
               {
                "credits": 3,
                "curriculum_requisites": [],
                "id": 3919091473,
                "metrics": {
                 "blocking factor": 0,
                 "centrality": 0,
                 "complexity": 1,
                 "delay factor": 1
                },
                "name": "GBU 480",
                "nameCanonical": "",
                "nameSub": "Business Strategy"
               },
               {
                "credits": 3,
                "curriculum_requisites": [],
                "id": 4004630018,
                "metrics": {
                 "blocking factor": 0,
                 "centrality": 0,
                 "complexity": 1,
                 "delay factor": 1
                },
                "name": "FIN 300",
                "nameCanonical": "",
                "nameSub": "Business Finance I"
               },
               {
                "credits": 3,
                "curriculum_requisites": [],
                "id": 1182524942,
                "metrics": {
                 "blocking factor": 0,
                 "centrality": 0,
                 "complexity": 1,
                 "delay factor": 1
                },
                "name": "CCT 300W",
                "nameCanonical": "",
                "nameSub": "Managerial Reports"
               },
               {
                "credits": 3,
                "curriculum_requisites": [],
                "id": 1033217435,
                "metrics": {
                 "blocking factor": 0,
                 "centrality": 0,
                 "complexity": 1,
                 "delay factor": 1
                },
                "name": "CIS 335",
                "nameCanonical": "",
                "nameSub": "Data Base Management"
               },
               {
                "credits": 3,
                "curriculum_requisites": [],
                "id": 3358245624,
                "metrics": {
                 "blocking factor": 0,
                 "centrality": 0,
                 "complexity": 1,
                 "delay factor": 1
                },
                "name": "CIS 380",
                "nameCanonical": "",
                "nameSub": "Information Sys Analysis & Des"
               },
               {
                "credits": 1.5,
                "curriculum_requisites": [],
                "id": 962638701,
                "metrics": {
                 "blocking factor": 0,
                 "centrality": 0,
                 "complexity": 1,
                 "delay factor": 1
                },
                "name": "MAT 112B",
                "nameCanonical": "",
                "nameSub": "Algebra: Functions & Matrices"
               },
               {
                "credits": 3,
                "curriculum_requisites": [],
                "id": 1472757167,
                "metrics": {
                 "blocking factor": 0,
                 "centrality": 0,
                 "complexity": 1,
                 "delay factor": 1
                },
                "name": "SOC 131",
                "nameCanonical": "",
                "nameSub": "Introductory Sociology"
               }
              ],
              "id": 2,
              "name": "Term 2"
             },
             {
              "curriculum_items": [
               {
                "credits": 3,
                "curriculum_requisites": [],
                "id": 347375433,
                "metrics": {
                 "blocking factor": 0,
                 "centrality": 0,
                 "complexity": 1,
                 "delay factor": 1
                },
                "name": "ECO 230",
                "nameCanonical": "",
                "nameSub": "Principles of Microeconomics"
               },
               {
                "credits": 1.5,
                "curriculum_requisites": [],
                "id": 4275033709,
                "metrics": {
                 "blocking factor": 0,
                 "centrality": 0,
                 "complexity": 1,
                 "delay factor": 1
                },
                "name": "MAT 112A",
                "nameCanonical": "",
                "nameSub": "Algebra: Polynomials"
               },
               {
                "credits": 3,
                "curriculum_requisites": [],
                "id": 3329395497,
                "metrics": {
                 "blocking factor": 0,
                 "centrality": 0,
                 "complexity": 1,
                 "delay factor": 1
                },
                "name": "GBU 204",
                "nameCanonical": "",
                "nameSub": "Legal/Ethical Environ. of Bus."
               },
               {
                "credits": 3,
                "curriculum_requisites": [],
                "id": 605095537,
                "metrics": {
                 "blocking factor": 0,
                 "centrality": 0,
                 "complexity": 1,
                 "delay factor": 1
                },
                "name": "INF 104",
                "nameCanonical": "",
                "nameSub": "Comp Lit w/ Software Applic"
               },
               {
                "credits": 3,
                "curriculum_requisites": [],
                "id": 3547692121,
                "metrics": {
                 "blocking factor": 0,
                 "centrality": 0,
                 "complexity": 1,
                 "delay factor": 1
                },
                "name": "ACC 202",
                "nameCanonical": "",
                "nameSub": "Introduction to Managerial Acc"
               },
               {
                "credits": 3,
                "curriculum_requisites": [],
                "id": 2586821022,
                "metrics": {
                 "blocking factor": 0,
                 "centrality": 0,
                 "complexity": 1,
                 "delay factor": 1
                },
                "name": "CIS 215",
                "nameCanonical": "",
                "nameSub": "Intro to Business Programming"
               },
               {
                "credits": 3,
                "curriculum_requisites": [],
                "id": 3741150966,
                "metrics": {
                 "blocking factor": 0,
                 "centrality": 0,
                 "complexity": 1,
                 "delay factor": 1
                },
                "name": "HON 310W",
                "nameCanonical": "",
                "nameSub": "Seminar in History"
               }
              ],
              "id": 3,
              "name": "Term 3"
             },
             {
              "curriculum_items": [
               {
                "credits": 3,
                "curriculum_requisites": [],
                "id": 2556122892,
                "metrics": {
                 "blocking factor": 0,
                 "centrality": 0,
                 "complexity": 1,
                 "delay factor": 1
                },
                "name": "CIS 300",
                "nameCanonical": "",
                "nameSub": "Management Information Systems"
               },
               {
                "credits": 3,
                "curriculum_requisites": [],
                "id": 163160102,
                "metrics": {
                 "blocking factor": 0,
                 "centrality": 0,
                 "complexity": 1,
                 "delay factor": 1
                },
                "name": "MKT 300",
                "nameCanonical": "",
                "nameSub": "Principles of Marketing"
               },
               {
                "credits": 3,
                "curriculum_requisites": [],
                "id": 124628900,
                "metrics": {
                 "blocking factor": 0,
                 "centrality": 0,
                 "complexity": 1,
                 "delay factor": 1
                },
                "name": "ACC 201",
                "nameCanonical": "",
                "nameSub": "Introduction to Financial Acc"
               },
               {
                "credits": 3,
                "curriculum_requisites": [],
                "id": 2888240639,
                "metrics": {
                 "blocking factor": 0,
                 "centrality": 0,
                 "complexity": 1,
                 "delay factor": 1
                },
                "name": "CIS 375",
                "nameCanonical": "",
                "nameSub": "Networks & Telecommunications"
               },
               {
                "credits": 3,
                "curriculum_requisites": [],
                "id": 2536192646,
                "metrics": {
                 "blocking factor": 0,
                 "centrality": 0,
                 "complexity": 1,
                 "delay factor": 1
                },
                "name": "ECO 231",
                "nameCanonical": "",
                "nameSub": "Principles of Macroeconomics"
               },
               {
                "credits": 3,
                "curriculum_requisites": [],
                "id": 4264546619,
                "metrics": {
                 "blocking factor": 0,
                 "centrality": 0,
                 "complexity": 1,
                 "delay factor": 1
                },
                "name": "CIS 410",
                "nameCanonical": "",
                "nameSub": "Project Management and Practice"
               },
               {
                "credits": 3,
                "curriculum_requisites": [],
                "id": 308382454,
                "metrics": {
                 "blocking factor": 0,
                 "centrality": 0,
                 "complexity": 1,
                 "delay factor": 1
                },
                "name": "MGT 370",
                "nameCanonical": "",
                "nameSub": "Operations Management"
               }
              ],
              "id": 4,
              "name": "Term 4"
             }
            ],
            "dp_name": "",
            "institution": "",
            "name": "Four Year"
           },
           "options": {
            "edit": false,
            "hideTerms": false
           }
          }
         }
        },
        "systemjs_options": null
       },
       "nodeType": "Scope",
       "props": {},
       "type": "node"
      },
      "text/html": [
       "<div\n",
       "    class=\"webio-mountpoint\"\n",
       "    data-webio-mountpoint=\"10006344107194697761\"\n",
       ">\n",
       "    <script>\n",
       "    (function(){\n",
       "    // Some integrations (namely, IJulia/Jupyter) use an alternate render pathway than\n",
       "    // just putting the html on the page. If WebIO isn't defined, then it's pretty likely\n",
       "    // that we're in one of those situations and the integration just isn't installed\n",
       "    // correctly.\n",
       "    if (typeof window.WebIO === \"undefined\") {\n",
       "        document\n",
       "            .querySelector('[data-webio-mountpoint=\"10006344107194697761\"]')\n",
       "            .innerHTML = (\n",
       "                '<div style=\"padding: 1em; background-color: #f8d6da; border: 1px solid #f5c6cb; font-weight: bold;\">' +\n",
       "                '<p><strong>WebIO not detected.</strong></p>' +\n",
       "                '<p>Please read ' +\n",
       "                '<a href=\"https://juliagizmos.github.io/WebIO.jl/latest/troubleshooting/not-detected/\" target=\"_blank\">the troubleshooting guide</a> ' +\n",
       "                'for more information on how to resolve this issue.</p>' +\n",
       "                '<p><a href=\"https://juliagizmos.github.io/WebIO.jl/latest/troubleshooting/not-detected/\" target=\"_blank\">https://juliagizmos.github.io/WebIO.jl/latest/troubleshooting/not-detected/</a></p>' +\n",
       "                '</div>'\n",
       "            );\n",
       "        return;\n",
       "    }\n",
       "    WebIO.mount(\n",
       "        document.querySelector('[data-webio-mountpoint=\"10006344107194697761\"]'),\n",
       "        {\"props\":{},\"nodeType\":\"Scope\",\"type\":\"node\",\"instanceArgs\":{\"imports\":{\"data\":[],\"type\":\"async_block\"},\"id\":\"8876962691869196037\",\"handlers\":{},\"systemjs_options\":null,\"mount_callbacks\":[],\"observables\":{\"curriculum-data\":{\"sync\":true,\"id\":\"13579934027258999995\",\"value\":{\"options\":{\"hideTerms\":false,\"edit\":false},\"curriculum\":{\"name\":\"Four Year\",\"dp_name\":\"\",\"curriculum_terms\":[{\"name\":\"Term 1\",\"curriculum_items\":[{\"curriculum_requisites\":[],\"name\":\"QMB 200\",\"metrics\":{\"centrality\":0,\"complexity\":1.0,\"blocking factor\":0,\"delay factor\":1.0},\"nameSub\":\"Business Statistics I\",\"id\":2743475061,\"credits\":3.0,\"nameCanonical\":\"\"},{\"curriculum_requisites\":[],\"name\":\"ENG 102\",\"metrics\":{\"centrality\":0,\"complexity\":1.0,\"blocking factor\":0,\"delay factor\":1.0},\"nameSub\":\"Research, Writing, & Rhetoric\",\"id\":2292047404,\"credits\":3.0,\"nameCanonical\":\"\"},{\"curriculum_requisites\":[],\"name\":\"CMS 210\",\"metrics\":{\"centrality\":0,\"complexity\":1.0,\"blocking factor\":0,\"delay factor\":1.0},\"nameSub\":\"Public Speaking\",\"id\":846014856,\"credits\":3.0,\"nameCanonical\":\"\"},{\"curriculum_requisites\":[],\"name\":\"CIS 340\",\"metrics\":{\"centrality\":0,\"complexity\":1.0,\"blocking factor\":0,\"delay factor\":1.0},\"nameSub\":\"Electronic Business Technologies and Tools.\",\"id\":640031206,\"credits\":3.0,\"nameCanonical\":\"\"},{\"curriculum_requisites\":[],\"name\":\"BTS 300\",\"metrics\":{\"centrality\":0,\"complexity\":1.0,\"blocking factor\":0,\"delay factor\":1.0},\"nameSub\":\"Professional Skills Seminar\",\"id\":1705147435,\"credits\":0.0,\"nameCanonical\":\"\"},{\"curriculum_requisites\":[],\"name\":\"MGT 300\",\"metrics\":{\"centrality\":0,\"complexity\":1.0,\"blocking factor\":0,\"delay factor\":1.0},\"nameSub\":\"Principles of Management\",\"id\":2354522378,\"credits\":3.0,\"nameCanonical\":\"\"},{\"curriculum_requisites\":[],\"name\":\"BTS 400\",\"metrics\":{\"centrality\":0,\"complexity\":1.0,\"blocking factor\":0,\"delay factor\":1.0},\"nameSub\":\"College to Careers Seminar\",\"id\":1387784944,\"credits\":0.0,\"nameCanonical\":\"\"},{\"curriculum_requisites\":[],\"name\":\"CIS 240\",\"metrics\":{\"centrality\":0,\"complexity\":1.0,\"blocking factor\":0,\"delay factor\":1.0},\"nameSub\":\"Intro to Web Info Systems\",\"id\":1752176207,\"credits\":3.0,\"nameCanonical\":\"\"},{\"curriculum_requisites\":[],\"name\":\"BTO 100\",\"metrics\":{\"centrality\":0,\"complexity\":1.0,\"blocking factor\":0,\"delay factor\":1.0},\"nameSub\":\"Student Success Seminar\",\"id\":1821868359,\"credits\":1.0,\"nameCanonical\":\"\"}],\"id\":1},{\"name\":\"Term 2\",\"curriculum_items\":[{\"curriculum_requisites\":[],\"name\":\"GBU 480\",\"metrics\":{\"centrality\":0,\"complexity\":1.0,\"blocking factor\":0,\"delay factor\":1.0},\"nameSub\":\"Business Strategy\",\"id\":3919091473,\"credits\":3.0,\"nameCanonical\":\"\"},{\"curriculum_requisites\":[],\"name\":\"FIN 300\",\"metrics\":{\"centrality\":0,\"complexity\":1.0,\"blocking factor\":0,\"delay factor\":1.0},\"nameSub\":\"Business Finance I\",\"id\":4004630018,\"credits\":3.0,\"nameCanonical\":\"\"},{\"curriculum_requisites\":[],\"name\":\"CCT 300W\",\"metrics\":{\"centrality\":0,\"complexity\":1.0,\"blocking factor\":0,\"delay factor\":1.0},\"nameSub\":\"Managerial Reports\",\"id\":1182524942,\"credits\":3.0,\"nameCanonical\":\"\"},{\"curriculum_requisites\":[],\"name\":\"CIS 335\",\"metrics\":{\"centrality\":0,\"complexity\":1.0,\"blocking factor\":0,\"delay factor\":1.0},\"nameSub\":\"Data Base Management\",\"id\":1033217435,\"credits\":3.0,\"nameCanonical\":\"\"},{\"curriculum_requisites\":[],\"name\":\"CIS 380\",\"metrics\":{\"centrality\":0,\"complexity\":1.0,\"blocking factor\":0,\"delay factor\":1.0},\"nameSub\":\"Information Sys Analysis & Des\",\"id\":3358245624,\"credits\":3.0,\"nameCanonical\":\"\"},{\"curriculum_requisites\":[],\"name\":\"MAT 112B\",\"metrics\":{\"centrality\":0,\"complexity\":1.0,\"blocking factor\":0,\"delay factor\":1.0},\"nameSub\":\"Algebra: Functions & Matrices\",\"id\":962638701,\"credits\":1.5,\"nameCanonical\":\"\"},{\"curriculum_requisites\":[],\"name\":\"SOC 131\",\"metrics\":{\"centrality\":0,\"complexity\":1.0,\"blocking factor\":0,\"delay factor\":1.0},\"nameSub\":\"Introductory Sociology\",\"id\":1472757167,\"credits\":3.0,\"nameCanonical\":\"\"}],\"id\":2},{\"name\":\"Term 3\",\"curriculum_items\":[{\"curriculum_requisites\":[],\"name\":\"ECO 230\",\"metrics\":{\"centrality\":0,\"complexity\":1.0,\"blocking factor\":0,\"delay factor\":1.0},\"nameSub\":\"Principles of Microeconomics\",\"id\":347375433,\"credits\":3.0,\"nameCanonical\":\"\"},{\"curriculum_requisites\":[],\"name\":\"MAT 112A\",\"metrics\":{\"centrality\":0,\"complexity\":1.0,\"blocking factor\":0,\"delay factor\":1.0},\"nameSub\":\"Algebra: Polynomials\",\"id\":4275033709,\"credits\":1.5,\"nameCanonical\":\"\"},{\"curriculum_requisites\":[],\"name\":\"GBU 204\",\"metrics\":{\"centrality\":0,\"complexity\":1.0,\"blocking factor\":0,\"delay factor\":1.0},\"nameSub\":\"Legal\\/Ethical Environ. of Bus.\",\"id\":3329395497,\"credits\":3.0,\"nameCanonical\":\"\"},{\"curriculum_requisites\":[],\"name\":\"INF 104\",\"metrics\":{\"centrality\":0,\"complexity\":1.0,\"blocking factor\":0,\"delay factor\":1.0},\"nameSub\":\"Comp Lit w\\/ Software Applic\",\"id\":605095537,\"credits\":3.0,\"nameCanonical\":\"\"},{\"curriculum_requisites\":[],\"name\":\"ACC 202\",\"metrics\":{\"centrality\":0,\"complexity\":1.0,\"blocking factor\":0,\"delay factor\":1.0},\"nameSub\":\"Introduction to Managerial Acc\",\"id\":3547692121,\"credits\":3.0,\"nameCanonical\":\"\"},{\"curriculum_requisites\":[],\"name\":\"CIS 215\",\"metrics\":{\"centrality\":0,\"complexity\":1.0,\"blocking factor\":0,\"delay factor\":1.0},\"nameSub\":\"Intro to Business Programming\",\"id\":2586821022,\"credits\":3.0,\"nameCanonical\":\"\"},{\"curriculum_requisites\":[],\"name\":\"HON 310W\",\"metrics\":{\"centrality\":0,\"complexity\":1.0,\"blocking factor\":0,\"delay factor\":1.0},\"nameSub\":\"Seminar in History\",\"id\":3741150966,\"credits\":3.0,\"nameCanonical\":\"\"}],\"id\":3},{\"name\":\"Term 4\",\"curriculum_items\":[{\"curriculum_requisites\":[],\"name\":\"CIS 300\",\"metrics\":{\"centrality\":0,\"complexity\":1.0,\"blocking factor\":0,\"delay factor\":1.0},\"nameSub\":\"Management Information Systems\",\"id\":2556122892,\"credits\":3.0,\"nameCanonical\":\"\"},{\"curriculum_requisites\":[],\"name\":\"MKT 300\",\"metrics\":{\"centrality\":0,\"complexity\":1.0,\"blocking factor\":0,\"delay factor\":1.0},\"nameSub\":\"Principles of Marketing\",\"id\":163160102,\"credits\":3.0,\"nameCanonical\":\"\"},{\"curriculum_requisites\":[],\"name\":\"ACC 201\",\"metrics\":{\"centrality\":0,\"complexity\":1.0,\"blocking factor\":0,\"delay factor\":1.0},\"nameSub\":\"Introduction to Financial Acc\",\"id\":124628900,\"credits\":3.0,\"nameCanonical\":\"\"},{\"curriculum_requisites\":[],\"name\":\"CIS 375\",\"metrics\":{\"centrality\":0,\"complexity\":1.0,\"blocking factor\":0,\"delay factor\":1.0},\"nameSub\":\"Networks & Telecommunications\",\"id\":2888240639,\"credits\":3.0,\"nameCanonical\":\"\"},{\"curriculum_requisites\":[],\"name\":\"ECO 231\",\"metrics\":{\"centrality\":0,\"complexity\":1.0,\"blocking factor\":0,\"delay factor\":1.0},\"nameSub\":\"Principles of Macroeconomics\",\"id\":2536192646,\"credits\":3.0,\"nameCanonical\":\"\"},{\"curriculum_requisites\":[],\"name\":\"CIS 410\",\"metrics\":{\"centrality\":0,\"complexity\":1.0,\"blocking factor\":0,\"delay factor\":1.0},\"nameSub\":\"Project Management and Practice\",\"id\":4264546619,\"credits\":3.0,\"nameCanonical\":\"\"},{\"curriculum_requisites\":[],\"name\":\"MGT 370\",\"metrics\":{\"centrality\":0,\"complexity\":1.0,\"blocking factor\":0,\"delay factor\":1.0},\"nameSub\":\"Operations Management\",\"id\":308382454,\"credits\":3.0,\"nameCanonical\":\"\"}],\"id\":4}],\"institution\":\"\"}}}}},\"children\":[{\"props\":{\"src\":\"https:\\/\\/curricula-api-embed.damoursystems.com\\/\",\"id\":\"curriculum\",\"events\":{\"load\":\"(function (){this.contentWindow.postMessage({\\\"options\\\":{\\\"hideTerms\\\":false,\\\"edit\\\":false},\\\"curriculum\\\":{\\\"name\\\":\\\"Four Year\\\",\\\"dp_name\\\":\\\"\\\",\\\"curriculum_terms\\\":[{\\\"name\\\":\\\"Term 1\\\",\\\"curriculum_items\\\":[{\\\"curriculum_requisites\\\":[],\\\"name\\\":\\\"QMB 200\\\",\\\"metrics\\\":{\\\"centrality\\\":0,\\\"complexity\\\":1.0,\\\"blocking factor\\\":0,\\\"delay factor\\\":1.0},\\\"nameSub\\\":\\\"Business Statistics I\\\",\\\"id\\\":2743475061,\\\"credits\\\":3.0,\\\"nameCanonical\\\":\\\"\\\"},{\\\"curriculum_requisites\\\":[],\\\"name\\\":\\\"ENG 102\\\",\\\"metrics\\\":{\\\"centrality\\\":0,\\\"complexity\\\":1.0,\\\"blocking factor\\\":0,\\\"delay factor\\\":1.0},\\\"nameSub\\\":\\\"Research, Writing, & Rhetoric\\\",\\\"id\\\":2292047404,\\\"credits\\\":3.0,\\\"nameCanonical\\\":\\\"\\\"},{\\\"curriculum_requisites\\\":[],\\\"name\\\":\\\"CMS 210\\\",\\\"metrics\\\":{\\\"centrality\\\":0,\\\"complexity\\\":1.0,\\\"blocking factor\\\":0,\\\"delay factor\\\":1.0},\\\"nameSub\\\":\\\"Public Speaking\\\",\\\"id\\\":846014856,\\\"credits\\\":3.0,\\\"nameCanonical\\\":\\\"\\\"},{\\\"curriculum_requisites\\\":[],\\\"name\\\":\\\"CIS 340\\\",\\\"metrics\\\":{\\\"centrality\\\":0,\\\"complexity\\\":1.0,\\\"blocking factor\\\":0,\\\"delay factor\\\":1.0},\\\"nameSub\\\":\\\"Electronic Business Technologies and Tools.\\\",\\\"id\\\":640031206,\\\"credits\\\":3.0,\\\"nameCanonical\\\":\\\"\\\"},{\\\"curriculum_requisites\\\":[],\\\"name\\\":\\\"BTS 300\\\",\\\"metrics\\\":{\\\"centrality\\\":0,\\\"complexity\\\":1.0,\\\"blocking factor\\\":0,\\\"delay factor\\\":1.0},\\\"nameSub\\\":\\\"Professional Skills Seminar\\\",\\\"id\\\":1705147435,\\\"credits\\\":0.0,\\\"nameCanonical\\\":\\\"\\\"},{\\\"curriculum_requisites\\\":[],\\\"name\\\":\\\"MGT 300\\\",\\\"metrics\\\":{\\\"centrality\\\":0,\\\"complexity\\\":1.0,\\\"blocking factor\\\":0,\\\"delay factor\\\":1.0},\\\"nameSub\\\":\\\"Principles of Management\\\",\\\"id\\\":2354522378,\\\"credits\\\":3.0,\\\"nameCanonical\\\":\\\"\\\"},{\\\"curriculum_requisites\\\":[],\\\"name\\\":\\\"BTS 400\\\",\\\"metrics\\\":{\\\"centrality\\\":0,\\\"complexity\\\":1.0,\\\"blocking factor\\\":0,\\\"delay factor\\\":1.0},\\\"nameSub\\\":\\\"College to Careers Seminar\\\",\\\"id\\\":1387784944,\\\"credits\\\":0.0,\\\"nameCanonical\\\":\\\"\\\"},{\\\"curriculum_requisites\\\":[],\\\"name\\\":\\\"CIS 240\\\",\\\"metrics\\\":{\\\"centrality\\\":0,\\\"complexity\\\":1.0,\\\"blocking factor\\\":0,\\\"delay factor\\\":1.0},\\\"nameSub\\\":\\\"Intro to Web Info Systems\\\",\\\"id\\\":1752176207,\\\"credits\\\":3.0,\\\"nameCanonical\\\":\\\"\\\"},{\\\"curriculum_requisites\\\":[],\\\"name\\\":\\\"BTO 100\\\",\\\"metrics\\\":{\\\"centrality\\\":0,\\\"complexity\\\":1.0,\\\"blocking factor\\\":0,\\\"delay factor\\\":1.0},\\\"nameSub\\\":\\\"Student Success Seminar\\\",\\\"id\\\":1821868359,\\\"credits\\\":1.0,\\\"nameCanonical\\\":\\\"\\\"}],\\\"id\\\":1},{\\\"name\\\":\\\"Term 2\\\",\\\"curriculum_items\\\":[{\\\"curriculum_requisites\\\":[],\\\"name\\\":\\\"GBU 480\\\",\\\"metrics\\\":{\\\"centrality\\\":0,\\\"complexity\\\":1.0,\\\"blocking factor\\\":0,\\\"delay factor\\\":1.0},\\\"nameSub\\\":\\\"Business Strategy\\\",\\\"id\\\":3919091473,\\\"credits\\\":3.0,\\\"nameCanonical\\\":\\\"\\\"},{\\\"curriculum_requisites\\\":[],\\\"name\\\":\\\"FIN 300\\\",\\\"metrics\\\":{\\\"centrality\\\":0,\\\"complexity\\\":1.0,\\\"blocking factor\\\":0,\\\"delay factor\\\":1.0},\\\"nameSub\\\":\\\"Business Finance I\\\",\\\"id\\\":4004630018,\\\"credits\\\":3.0,\\\"nameCanonical\\\":\\\"\\\"},{\\\"curriculum_requisites\\\":[],\\\"name\\\":\\\"CCT 300W\\\",\\\"metrics\\\":{\\\"centrality\\\":0,\\\"complexity\\\":1.0,\\\"blocking factor\\\":0,\\\"delay factor\\\":1.0},\\\"nameSub\\\":\\\"Managerial Reports\\\",\\\"id\\\":1182524942,\\\"credits\\\":3.0,\\\"nameCanonical\\\":\\\"\\\"},{\\\"curriculum_requisites\\\":[],\\\"name\\\":\\\"CIS 335\\\",\\\"metrics\\\":{\\\"centrality\\\":0,\\\"complexity\\\":1.0,\\\"blocking factor\\\":0,\\\"delay factor\\\":1.0},\\\"nameSub\\\":\\\"Data Base Management\\\",\\\"id\\\":1033217435,\\\"credits\\\":3.0,\\\"nameCanonical\\\":\\\"\\\"},{\\\"curriculum_requisites\\\":[],\\\"name\\\":\\\"CIS 380\\\",\\\"metrics\\\":{\\\"centrality\\\":0,\\\"complexity\\\":1.0,\\\"blocking factor\\\":0,\\\"delay factor\\\":1.0},\\\"nameSub\\\":\\\"Information Sys Analysis & Des\\\",\\\"id\\\":3358245624,\\\"credits\\\":3.0,\\\"nameCanonical\\\":\\\"\\\"},{\\\"curriculum_requisites\\\":[],\\\"name\\\":\\\"MAT 112B\\\",\\\"metrics\\\":{\\\"centrality\\\":0,\\\"complexity\\\":1.0,\\\"blocking factor\\\":0,\\\"delay factor\\\":1.0},\\\"nameSub\\\":\\\"Algebra: Functions & Matrices\\\",\\\"id\\\":962638701,\\\"credits\\\":1.5,\\\"nameCanonical\\\":\\\"\\\"},{\\\"curriculum_requisites\\\":[],\\\"name\\\":\\\"SOC 131\\\",\\\"metrics\\\":{\\\"centrality\\\":0,\\\"complexity\\\":1.0,\\\"blocking factor\\\":0,\\\"delay factor\\\":1.0},\\\"nameSub\\\":\\\"Introductory Sociology\\\",\\\"id\\\":1472757167,\\\"credits\\\":3.0,\\\"nameCanonical\\\":\\\"\\\"}],\\\"id\\\":2},{\\\"name\\\":\\\"Term 3\\\",\\\"curriculum_items\\\":[{\\\"curriculum_requisites\\\":[],\\\"name\\\":\\\"ECO 230\\\",\\\"metrics\\\":{\\\"centrality\\\":0,\\\"complexity\\\":1.0,\\\"blocking factor\\\":0,\\\"delay factor\\\":1.0},\\\"nameSub\\\":\\\"Principles of Microeconomics\\\",\\\"id\\\":347375433,\\\"credits\\\":3.0,\\\"nameCanonical\\\":\\\"\\\"},{\\\"curriculum_requisites\\\":[],\\\"name\\\":\\\"MAT 112A\\\",\\\"metrics\\\":{\\\"centrality\\\":0,\\\"complexity\\\":1.0,\\\"blocking factor\\\":0,\\\"delay factor\\\":1.0},\\\"nameSub\\\":\\\"Algebra: Polynomials\\\",\\\"id\\\":4275033709,\\\"credits\\\":1.5,\\\"nameCanonical\\\":\\\"\\\"},{\\\"curriculum_requisites\\\":[],\\\"name\\\":\\\"GBU 204\\\",\\\"metrics\\\":{\\\"centrality\\\":0,\\\"complexity\\\":1.0,\\\"blocking factor\\\":0,\\\"delay factor\\\":1.0},\\\"nameSub\\\":\\\"Legal\\/Ethical Environ. of Bus.\\\",\\\"id\\\":3329395497,\\\"credits\\\":3.0,\\\"nameCanonical\\\":\\\"\\\"},{\\\"curriculum_requisites\\\":[],\\\"name\\\":\\\"INF 104\\\",\\\"metrics\\\":{\\\"centrality\\\":0,\\\"complexity\\\":1.0,\\\"blocking factor\\\":0,\\\"delay factor\\\":1.0},\\\"nameSub\\\":\\\"Comp Lit w\\/ Software Applic\\\",\\\"id\\\":605095537,\\\"credits\\\":3.0,\\\"nameCanonical\\\":\\\"\\\"},{\\\"curriculum_requisites\\\":[],\\\"name\\\":\\\"ACC 202\\\",\\\"metrics\\\":{\\\"centrality\\\":0,\\\"complexity\\\":1.0,\\\"blocking factor\\\":0,\\\"delay factor\\\":1.0},\\\"nameSub\\\":\\\"Introduction to Managerial Acc\\\",\\\"id\\\":3547692121,\\\"credits\\\":3.0,\\\"nameCanonical\\\":\\\"\\\"},{\\\"curriculum_requisites\\\":[],\\\"name\\\":\\\"CIS 215\\\",\\\"metrics\\\":{\\\"centrality\\\":0,\\\"complexity\\\":1.0,\\\"blocking factor\\\":0,\\\"delay factor\\\":1.0},\\\"nameSub\\\":\\\"Intro to Business Programming\\\",\\\"id\\\":2586821022,\\\"credits\\\":3.0,\\\"nameCanonical\\\":\\\"\\\"},{\\\"curriculum_requisites\\\":[],\\\"name\\\":\\\"HON 310W\\\",\\\"metrics\\\":{\\\"centrality\\\":0,\\\"complexity\\\":1.0,\\\"blocking factor\\\":0,\\\"delay factor\\\":1.0},\\\"nameSub\\\":\\\"Seminar in History\\\",\\\"id\\\":3741150966,\\\"credits\\\":3.0,\\\"nameCanonical\\\":\\\"\\\"}],\\\"id\\\":3},{\\\"name\\\":\\\"Term 4\\\",\\\"curriculum_items\\\":[{\\\"curriculum_requisites\\\":[],\\\"name\\\":\\\"CIS 300\\\",\\\"metrics\\\":{\\\"centrality\\\":0,\\\"complexity\\\":1.0,\\\"blocking factor\\\":0,\\\"delay factor\\\":1.0},\\\"nameSub\\\":\\\"Management Information Systems\\\",\\\"id\\\":2556122892,\\\"credits\\\":3.0,\\\"nameCanonical\\\":\\\"\\\"},{\\\"curriculum_requisites\\\":[],\\\"name\\\":\\\"MKT 300\\\",\\\"metrics\\\":{\\\"centrality\\\":0,\\\"complexity\\\":1.0,\\\"blocking factor\\\":0,\\\"delay factor\\\":1.0},\\\"nameSub\\\":\\\"Principles of Marketing\\\",\\\"id\\\":163160102,\\\"credits\\\":3.0,\\\"nameCanonical\\\":\\\"\\\"},{\\\"curriculum_requisites\\\":[],\\\"name\\\":\\\"ACC 201\\\",\\\"metrics\\\":{\\\"centrality\\\":0,\\\"complexity\\\":1.0,\\\"blocking factor\\\":0,\\\"delay factor\\\":1.0},\\\"nameSub\\\":\\\"Introduction to Financial Acc\\\",\\\"id\\\":124628900,\\\"credits\\\":3.0,\\\"nameCanonical\\\":\\\"\\\"},{\\\"curriculum_requisites\\\":[],\\\"name\\\":\\\"CIS 375\\\",\\\"metrics\\\":{\\\"centrality\\\":0,\\\"complexity\\\":1.0,\\\"blocking factor\\\":0,\\\"delay factor\\\":1.0},\\\"nameSub\\\":\\\"Networks & Telecommunications\\\",\\\"id\\\":2888240639,\\\"credits\\\":3.0,\\\"nameCanonical\\\":\\\"\\\"},{\\\"curriculum_requisites\\\":[],\\\"name\\\":\\\"ECO 231\\\",\\\"metrics\\\":{\\\"centrality\\\":0,\\\"complexity\\\":1.0,\\\"blocking factor\\\":0,\\\"delay factor\\\":1.0},\\\"nameSub\\\":\\\"Principles of Macroeconomics\\\",\\\"id\\\":2536192646,\\\"credits\\\":3.0,\\\"nameCanonical\\\":\\\"\\\"},{\\\"curriculum_requisites\\\":[],\\\"name\\\":\\\"CIS 410\\\",\\\"metrics\\\":{\\\"centrality\\\":0,\\\"complexity\\\":1.0,\\\"blocking factor\\\":0,\\\"delay factor\\\":1.0},\\\"nameSub\\\":\\\"Project Management and Practice\\\",\\\"id\\\":4264546619,\\\"credits\\\":3.0,\\\"nameCanonical\\\":\\\"\\\"},{\\\"curriculum_requisites\\\":[],\\\"name\\\":\\\"MGT 370\\\",\\\"metrics\\\":{\\\"centrality\\\":0,\\\"complexity\\\":1.0,\\\"blocking factor\\\":0,\\\"delay factor\\\":1.0},\\\"nameSub\\\":\\\"Operations Management\\\",\\\"id\\\":308382454,\\\"credits\\\":3.0,\\\"nameCanonical\\\":\\\"\\\"}],\\\"id\\\":4}],\\\"institution\\\":\\\"\\\"}},\\\"*\\\"); window.removeEventListener(\\\"message\\\",window.messageReceived); window.messageReceived=(function (event){return (event.data.curriculum!==undefined) ? (WebIO.setval({\\\"name\\\":\\\"curriculum-data\\\",\\\"scope\\\":\\\"8876962691869196037\\\",\\\"id\\\":\\\"13579934027258999995\\\",\\\"type\\\":\\\"observable\\\"},event.data.curriculum)) : undefined}); return window.addEventListener(\\\"message\\\",window.messageReceived)})\"},\"style\":{\"padding\":\"0\",\"height\":\"100vh\",\"margin\":\"0\",\"border\":\"none\",\"width\":\"100%\"}},\"nodeType\":\"DOM\",\"type\":\"node\",\"instanceArgs\":{\"namespace\":\"html\",\"tag\":\"iframe\"},\"children\":[\"\"]}]},\n",
       "        window,\n",
       "    );\n",
       "    })()\n",
       "    </script>\n",
       "</div>\n"
      ],
      "text/plain": [
       "WebIO.Scope(WebIO.Node{WebIO.DOM}(WebIO.DOM(:html, :iframe), Any[\"\"], Dict{Symbol, Any}(:src => \"https://curricula-api-embed.damoursystems.com/\", :id => \"curriculum\", :events => Dict{Symbol, WebIO.JSString}(:load => WebIO.JSString(\"(function (){this.contentWindow.postMessage({\\\"options\\\":{\\\"hideTerms\\\":false,\\\"edit\\\":false},\\\"curriculum\\\":{\\\"name\\\":\\\"Four Year\\\",\\\"dp_name\\\":\\\"\\\",\\\"curriculum_terms\\\":[{\\\"name\\\":\\\"Term 1\\\",\\\"curriculum_items\\\":[{\\\"curriculum_requisites\\\":[],\\\"name\\\":\\\"QMB 200\\\",\\\"metrics\\\":{\\\"centrality\\\":0,\\\"complexity\\\":1.0,\\\"blocking factor\\\":0,\\\"delay factor\\\":1.0},\\\"nameSub\\\":\\\"Business Statistics I\\\",\\\"id\\\":2743475061,\\\"credits\\\":3.0,\\\"nameCanonical\\\":\\\"\\\"},{\\\"curriculum_requisites\\\":[],\\\"name\\\":\\\"ENG 102\\\",\\\"metrics\\\":{\\\"centrality\\\":0,\\\"complexity\\\":1.0,\\\"blocking factor\\\":0,\\\"delay factor\\\":1.0},\\\"nameSub\\\":\\\"Research, Writing, & Rhetoric\\\",\\\"id\\\":2292047404,\\\"credits\\\":3.0,\\\"nameCanonical\\\":\\\"\\\"},{\\\"curriculum_requisites\\\":[],\\\"name\\\":\\\"CMS 210\\\",\\\"metrics\\\":{\\\"centrality\\\":0,\\\"complexity\\\":1.0,\\\"blocking factor\\\":0,\\\"delay factor\\\":1.0},\\\"nameSub\\\":\\\"Public Speaking\\\",\\\"id\\\":846014856,\\\"credits\\\":3.0,\\\"nameCanonical\\\":\\\"\\\"},{\\\"curriculum_requisites\\\":[],\\\"name\\\":\\\"CIS 340\\\",\\\"metrics\\\":{\\\"centrality\\\":0,\\\"complexity\\\":1.0,\\\"blocking factor\\\":0,\\\"delay factor\\\":1.0},\\\"nameSub\\\":\\\"Electronic Business Technologies and Tools.\\\",\\\"id\\\":640031206,\\\"credits\\\":3.0,\\\"nameCanonical\\\":\\\"\\\"},{\\\"curriculum_requisites\\\":[],\\\"name\\\":\\\"BTS 300\\\",\\\"metrics\\\":{\\\"centrality\\\":0,\\\"complexity\\\":1.0,\\\"blocking factor\\\":0,\\\"delay factor\\\":1.0},\\\"nameSub\\\":\\\"Professional Skills Seminar\\\",\\\"id\\\":1705147435,\\\"credits\\\":0.0,\\\"nameCanonical\\\":\\\"\\\"},{\\\"curriculum_requisites\\\":[],\\\"name\\\":\\\"MGT 300\\\",\\\"metrics\\\":{\\\"centrality\\\":0,\\\"complexity\\\":1.0,\\\"blocking factor\\\":0,\\\"delay factor\\\":1.0},\\\"nameSub\\\":\\\"Principles of Management\\\",\\\"id\\\":2354522378,\\\"credits\\\":3.0,\\\"nameCanonical\\\":\\\"\\\"},{\\\"curriculum_requisites\\\":[],\\\"name\\\":\\\"BTS 400\\\",\\\"metrics\\\":{\\\"centrality\\\":0,\\\"complexity\\\":1.0,\\\"blocking factor\\\":0,\\\"delay factor\\\":1.0},\\\"nameSub\\\":\\\"College to Careers Seminar\\\",\\\"id\\\":1387784944,\\\"credits\\\":0.0,\\\"nameCanonical\\\":\\\"\\\"},{\\\"curriculum_requisites\\\":[],\\\"name\\\":\\\"CIS 240\\\",\\\"metrics\\\":{\\\"centrality\\\":0,\\\"complexity\\\":1.0,\\\"blocking factor\\\":0,\\\"delay factor\\\":1.0},\\\"nameSub\\\":\\\"Intro to Web Info Systems\\\",\\\"id\\\":1752176207,\\\"credits\\\":3.0,\\\"nameCanonical\\\":\\\"\\\"},{\\\"curriculum_requisites\\\":[],\\\"name\\\":\\\"BTO 100\\\",\\\"metrics\\\":{\\\"centrality\\\":0,\\\"complexity\\\":1.0,\\\"blocking factor\\\":0,\\\"delay factor\\\":1.0},\\\"nameSub\\\":\\\"Student Success Seminar\\\",\\\"id\\\":1821868359,\\\"credits\\\":1.0,\\\"nameCanonical\\\":\\\"\\\"}],\\\"id\\\":1},{\\\"name\\\":\\\"Term 2\\\",\\\"curriculum_items\\\":[{\\\"curriculum_requisites\\\":[],\\\"name\\\":\\\"GBU 480\\\",\\\"metrics\\\":{\\\"centrality\\\":0,\\\"complexity\\\":1.0,\\\"blocking factor\\\":0,\\\"delay factor\\\":1.0},\\\"nameSub\\\":\\\"Business Strategy\\\",\\\"id\\\":3919091473,\\\"credits\\\":3.0,\\\"nameCanonical\\\":\\\"\\\"},{\\\"curriculum_requisites\\\":[],\\\"name\\\":\\\"FIN 300\\\",\\\"metrics\\\":{\\\"centrality\\\":0,\\\"complexity\\\":1.0,\\\"blocking factor\\\":0,\\\"delay factor\\\":1.0},\\\"nameSub\\\":\\\"Business Finance I\\\",\\\"id\\\":4004630018,\\\"credits\\\":3.0,\\\"nameCanonical\\\":\\\"\\\"},{\\\"curriculum_requisites\\\":[],\\\"name\\\":\\\"CCT 300W\\\",\\\"metrics\\\":{\\\"centrality\\\":0,\\\"complexity\\\":1.0,\\\"blocking factor\\\":0,\\\"delay factor\\\":1.0},\\\"nameSub\\\":\\\"Managerial Reports\\\",\\\"id\\\":1182524942,\\\"credits\\\":3.0,\\\"nameCanonical\\\":\\\"\\\"},{\\\"curriculum_requisites\\\":[],\\\"name\\\":\\\"CIS 335\\\",\\\"metrics\\\":{\\\"centrality\\\":0,\\\"complexity\\\":1.0,\\\"blocking factor\\\":0,\\\"delay factor\\\":1.0},\\\"nameSub\\\":\\\"Data Base Management\\\",\\\"id\\\":1033217435,\\\"credits\\\":3.0,\\\"nameCanonical\\\":\\\"\\\"},{\\\"curriculum_requisites\\\":[],\\\"name\\\":\\\"CIS 380\\\",\\\"metrics\\\":{\\\"centrality\\\":0,\\\"complexity\\\":1.0,\\\"blocking factor\\\":0,\\\"delay factor\\\":1.0},\\\"nameSub\\\":\\\"Information Sys Analysis & Des\\\",\\\"id\\\":3358245624,\\\"credits\\\":3.0,\\\"nameCanonical\\\":\\\"\\\"},{\\\"curriculum_requisites\\\":[],\\\"name\\\":\\\"MAT 112B\\\",\\\"metrics\\\":{\\\"centrality\\\":0,\\\"complexity\\\":1.0,\\\"blocking factor\\\":0,\\\"delay factor\\\":1.0},\\\"nameSub\\\":\\\"Algebra: Functions & Matrices\\\",\\\"id\\\":962638701,\\\"credits\\\":1.5,\\\"nameCanonical\\\":\\\"\\\"},{\\\"curriculum_requisites\\\":[],\\\"name\\\":\\\"SOC 131\\\",\\\"metrics\\\":{\\\"centrality\\\":0,\\\"complexity\\\":1.0,\\\"blocking factor\\\":0,\\\"delay factor\\\":1.0},\\\"nameSub\\\":\\\"Introductory Sociology\\\",\\\"id\\\":1472757167,\\\"credits\\\":3.0,\\\"nameCanonical\\\":\\\"\\\"}],\\\"id\\\":2},{\\\"name\\\":\\\"Term 3\\\",\\\"curriculum_items\\\":[{\\\"curriculum_requisites\\\":[],\\\"name\\\":\\\"ECO 230\\\",\\\"metrics\\\":{\\\"centrality\\\":0,\\\"complexity\\\":1.0,\\\"blocking factor\\\":0,\\\"delay factor\\\":1.0},\\\"nameSub\\\":\\\"Principles of Microeconomics\\\",\\\"id\\\":347375433,\\\"credits\\\":3.0,\\\"nameCanonical\\\":\\\"\\\"},{\\\"curriculum_requisites\\\":[],\\\"name\\\":\\\"MAT 112A\\\",\\\"metrics\\\":{\\\"centrality\\\":0,\\\"complexity\\\":1.0,\\\"blocking factor\\\":0,\\\"delay factor\\\":1.0},\\\"nameSub\\\":\\\"Algebra: Polynomials\\\",\\\"id\\\":4275033709,\\\"credits\\\":1.5,\\\"nameCanonical\\\":\\\"\\\"},{\\\"curriculum_requisites\\\":[],\\\"name\\\":\\\"GBU 204\\\",\\\"metrics\\\":{\\\"centrality\\\":0,\\\"complexity\\\":1.0,\\\"blocking factor\\\":0,\\\"delay factor\\\":1.0},\\\"nameSub\\\":\\\"Legal/Ethical Environ. of Bus.\\\",\\\"id\\\":3329395497,\\\"credits\\\":3.0,\\\"nameCanonical\\\":\\\"\\\"},{\\\"curriculum_requisites\\\":[],\\\"name\\\":\\\"INF 104\\\",\\\"metrics\\\":{\\\"centrality\\\":0,\\\"complexity\\\":1.0,\\\"blocking factor\\\":0,\\\"delay factor\\\":1.0},\\\"nameSub\\\":\\\"Comp Lit w/ Software Applic\\\",\\\"id\\\":605095537,\\\"credits\\\":3.0,\\\"nameCanonical\\\":\\\"\\\"},{\\\"curriculum_requisites\\\":[],\\\"name\\\":\\\"ACC 202\\\",\\\"metrics\\\":{\\\"centrality\\\":0,\\\"complexity\\\":1.0,\\\"blocking factor\\\":0,\\\"delay factor\\\":1.0},\\\"nameSub\\\":\\\"Introduction to Managerial Acc\\\",\\\"id\\\":3547692121,\\\"credits\\\":3.0,\\\"nameCanonical\\\":\\\"\\\"},{\\\"curriculum_requisites\\\":[],\\\"name\\\":\\\"CIS 215\\\",\\\"metrics\\\":{\\\"centrality\\\":0,\\\"complexity\\\":1.0,\\\"blocking factor\\\":0,\\\"delay factor\\\":1.0},\\\"nameSub\\\":\\\"Intro to Business Programming\\\",\\\"id\\\":2586821022,\\\"credits\\\":3.0,\\\"nameCanonical\\\":\\\"\\\"},{\\\"curriculum_requisites\\\":[],\\\"name\\\":\\\"HON 310W\\\",\\\"metrics\\\":{\\\"centrality\\\":0,\\\"complexity\\\":1.0,\\\"blocking factor\\\":0,\\\"delay factor\\\":1.0},\\\"nameSub\\\":\\\"Seminar in History\\\",\\\"id\\\":3741150966,\\\"credits\\\":3.0,\\\"nameCanonical\\\":\\\"\\\"}],\\\"id\\\":3},{\\\"name\\\":\\\"Term 4\\\",\\\"curriculum_items\\\":[{\\\"curriculum_requisites\\\":[],\\\"name\\\":\\\"CIS 300\\\",\\\"metrics\\\":{\\\"centrality\\\":0,\\\"complexity\\\":1.0,\\\"blocking factor\\\":0,\\\"delay factor\\\":1.0},\\\"nameSub\\\":\\\"Management Information Systems\\\",\\\"id\\\":2556122892,\\\"credits\\\":3.0,\\\"nameCanonical\\\":\\\"\\\"},{\\\"curriculum_requisites\\\":[],\\\"name\\\":\\\"MKT 300\\\",\\\"metrics\\\":{\\\"centrality\\\":0,\\\"complexity\\\":1.0,\\\"blocking factor\\\":0,\\\"delay factor\\\":1.0},\\\"nameSub\\\":\\\"Principles of Marketing\\\",\\\"id\\\":163160102,\\\"credits\\\":3.0,\\\"nameCanonical\\\":\\\"\\\"},{\\\"curriculum_requisites\\\":[],\\\"name\\\":\\\"ACC 201\\\",\\\"metrics\\\":{\\\"centrality\\\":0,\\\"complexity\\\":1.0,\\\"blocking factor\\\":0,\\\"delay factor\\\":1.0},\\\"nameSub\\\":\\\"Introduction to Financial Acc\\\",\\\"id\\\":124628900,\\\"credits\\\":3.0,\\\"nameCanonical\\\":\\\"\\\"},{\\\"curriculum_requisites\\\":[],\\\"name\\\":\\\"CIS 375\\\",\\\"metrics\\\":{\\\"centrality\\\":0,\\\"complexity\\\":1.0,\\\"blocking factor\\\":0,\\\"delay factor\\\":1.0},\\\"nameSub\\\":\\\"Networks & Telecommunications\\\",\\\"id\\\":2888240639,\\\"credits\\\":3.0,\\\"nameCanonical\\\":\\\"\\\"},{\\\"curriculum_requisites\\\":[],\\\"name\\\":\\\"ECO 231\\\",\\\"metrics\\\":{\\\"centrality\\\":0,\\\"complexity\\\":1.0,\\\"blocking factor\\\":0,\\\"delay factor\\\":1.0},\\\"nameSub\\\":\\\"Principles of Macroeconomics\\\",\\\"id\\\":2536192646,\\\"credits\\\":3.0,\\\"nameCanonical\\\":\\\"\\\"},{\\\"curriculum_requisites\\\":[],\\\"name\\\":\\\"CIS 410\\\",\\\"metrics\\\":{\\\"centrality\\\":0,\\\"complexity\\\":1.0,\\\"blocking factor\\\":0,\\\"delay factor\\\":1.0},\\\"nameSub\\\":\\\"Project Management and Practice\\\",\\\"id\\\":4264546619,\\\"credits\\\":3.0,\\\"nameCanonical\\\":\\\"\\\"},{\\\"curriculum_requisites\\\":[],\\\"name\\\":\\\"MGT 370\\\",\\\"metrics\\\":{\\\"centrality\\\":0,\\\"complexity\\\":1.0,\\\"blocking factor\\\":0,\\\"delay factor\\\":1.0},\\\"nameSub\\\":\\\"Operations Management\\\",\\\"id\\\":308382454,\\\"credits\\\":3.0,\\\"nameCanonical\\\":\\\"\\\"}],\\\"id\\\":4}],\\\"institution\\\":\\\"\\\"}},\\\"*\\\"); window.removeEventListener(\\\"message\\\",window.messageReceived); window.messageReceived=(function (event){return (event.data.curriculum!==undefined) ? (WebIO.setval({\\\"name\\\":\\\"curriculum-data\\\",\\\"scope\\\":\\\"8876962691869196037\\\",\\\"id\\\":\\\"13579934027258999995\\\",\\\"type\\\":\\\"observable\\\"},event.data.curriculum)) : undefined}); return window.addEventListener(\\\"message\\\",window.messageReceived)})\")), :style => Dict(:padding => \"0\", :height => \"100vh\", :margin => \"0\", :border => \"none\", :width => \"100%\"))), Dict{String, Tuple{Observables.AbstractObservable, Union{Nothing, Bool}}}(\"curriculum-data\" => (Observable(Dict{String, Any}(\"options\" => Dict{String, Any}(\"hideTerms\" => false, \"edit\" => false), \"curriculum\" => Dict{String, Any}(\"name\" => \"Four Year\", \"dp_name\" => \"\", \"curriculum_terms\" => Dict{String, Any}[Dict(\"name\" => \"Term 1\", \"curriculum_items\" => Dict{String, Any}[Dict(\"curriculum_requisites\" => Dict{String, Any}[], \"name\" => \"QMB 200\", \"metrics\" => Dict{String, Any}(\"centrality\" => 0, \"complexity\" => 1.0, \"blocking factor\" => 0, \"delay factor\" => 1.0), \"nameSub\" => \"Business Statistics I\", \"id\" => 2743475061, \"credits\" => 3.0, \"nameCanonical\" => \"\"), Dict(\"curriculum_requisites\" => Dict{String, Any}[], \"name\" => \"ENG 102\", \"metrics\" => Dict{String, Any}(\"centrality\" => 0, \"complexity\" => 1.0, \"blocking factor\" => 0, \"delay factor\" => 1.0), \"nameSub\" => \"Research, Writing, & Rhetoric\", \"id\" => 2292047404, \"credits\" => 3.0, \"nameCanonical\" => \"\"), Dict(\"curriculum_requisites\" => Dict{String, Any}[], \"name\" => \"CMS 210\", \"metrics\" => Dict{String, Any}(\"centrality\" => 0, \"complexity\" => 1.0, \"blocking factor\" => 0, \"delay factor\" => 1.0), \"nameSub\" => \"Public Speaking\", \"id\" => 846014856, \"credits\" => 3.0, \"nameCanonical\" => \"\"), Dict(\"curriculum_requisites\" => Dict{String, Any}[], \"name\" => \"CIS 340\", \"metrics\" => Dict{String, Any}(\"centrality\" => 0, \"complexity\" => 1.0, \"blocking factor\" => 0, \"delay factor\" => 1.0), \"nameSub\" => \"Electronic Business Technologies and Tools.\", \"id\" => 640031206, \"credits\" => 3.0, \"nameCanonical\" => \"\"), Dict(\"curriculum_requisites\" => Dict{String, Any}[], \"name\" => \"BTS 300\", \"metrics\" => Dict{String, Any}(\"centrality\" => 0, \"complexity\" => 1.0, \"blocking factor\" => 0, \"delay factor\" => 1.0), \"nameSub\" => \"Professional Skills Seminar\", \"id\" => 1705147435, \"credits\" => 0.0, \"nameCanonical\" => \"\"), Dict(\"curriculum_requisites\" => Dict{String, Any}[], \"name\" => \"MGT 300\", \"metrics\" => Dict{String, Any}(\"centrality\" => 0, \"complexity\" => 1.0, \"blocking factor\" => 0, \"delay factor\" => 1.0), \"nameSub\" => \"Principles of Management\", \"id\" => 2354522378, \"credits\" => 3.0, \"nameCanonical\" => \"\"), Dict(\"curriculum_requisites\" => Dict{String, Any}[], \"name\" => \"BTS 400\", \"metrics\" => Dict{String, Any}(\"centrality\" => 0, \"complexity\" => 1.0, \"blocking factor\" => 0, \"delay factor\" => 1.0), \"nameSub\" => \"College to Careers Seminar\", \"id\" => 1387784944, \"credits\" => 0.0, \"nameCanonical\" => \"\"), Dict(\"curriculum_requisites\" => Dict{String, Any}[], \"name\" => \"CIS 240\", \"metrics\" => Dict{String, Any}(\"centrality\" => 0, \"complexity\" => 1.0, \"blocking factor\" => 0, \"delay factor\" => 1.0), \"nameSub\" => \"Intro to Web Info Systems\", \"id\" => 1752176207, \"credits\" => 3.0, \"nameCanonical\" => \"\"), Dict(\"curriculum_requisites\" => Dict{String, Any}[], \"name\" => \"BTO 100\", \"metrics\" => Dict{String, Any}(\"centrality\" => 0, \"complexity\" => 1.0, \"blocking factor\" => 0, \"delay factor\" => 1.0), \"nameSub\" => \"Student Success Seminar\", \"id\" => 1821868359, \"credits\" => 1.0, \"nameCanonical\" => \"\")], \"id\" => 1), Dict(\"name\" => \"Term 2\", \"curriculum_items\" => Dict{String, Any}[Dict(\"curriculum_requisites\" => Dict{String, Any}[], \"name\" => \"GBU 480\", \"metrics\" => Dict{String, Any}(\"centrality\" => 0, \"complexity\" => 1.0, \"blocking factor\" => 0, \"delay factor\" => 1.0), \"nameSub\" => \"Business Strategy\", \"id\" => 3919091473, \"credits\" => 3.0, \"nameCanonical\" => \"\"), Dict(\"curriculum_requisites\" => Dict{String, Any}[], \"name\" => \"FIN 300\", \"metrics\" => Dict{String, Any}(\"centrality\" => 0, \"complexity\" => 1.0, \"blocking factor\" => 0, \"delay factor\" => 1.0), \"nameSub\" => \"Business Finance I\", \"id\" => 4004630018, \"credits\" => 3.0, \"nameCanonical\" => \"\"), Dict(\"curriculum_requisites\" => Dict{String, Any}[], \"name\" => \"CCT 300W\", \"metrics\" => Dict{String, Any}(\"centrality\" => 0, \"complexity\" => 1.0, \"blocking factor\" => 0, \"delay factor\" => 1.0), \"nameSub\" => \"Managerial Reports\", \"id\" => 1182524942, \"credits\" => 3.0, \"nameCanonical\" => \"\"), Dict(\"curriculum_requisites\" => Dict{String, Any}[], \"name\" => \"CIS 335\", \"metrics\" => Dict{String, Any}(\"centrality\" => 0, \"complexity\" => 1.0, \"blocking factor\" => 0, \"delay factor\" => 1.0), \"nameSub\" => \"Data Base Management\", \"id\" => 1033217435, \"credits\" => 3.0, \"nameCanonical\" => \"\"), Dict(\"curriculum_requisites\" => Dict{String, Any}[], \"name\" => \"CIS 380\", \"metrics\" => Dict{String, Any}(\"centrality\" => 0, \"complexity\" => 1.0, \"blocking factor\" => 0, \"delay factor\" => 1.0), \"nameSub\" => \"Information Sys Analysis & Des\", \"id\" => 3358245624, \"credits\" => 3.0, \"nameCanonical\" => \"\"), Dict(\"curriculum_requisites\" => Dict{String, Any}[], \"name\" => \"MAT 112B\", \"metrics\" => Dict{String, Any}(\"centrality\" => 0, \"complexity\" => 1.0, \"blocking factor\" => 0, \"delay factor\" => 1.0), \"nameSub\" => \"Algebra: Functions & Matrices\", \"id\" => 962638701, \"credits\" => 1.5, \"nameCanonical\" => \"\"), Dict(\"curriculum_requisites\" => Dict{String, Any}[], \"name\" => \"SOC 131\", \"metrics\" => Dict{String, Any}(\"centrality\" => 0, \"complexity\" => 1.0, \"blocking factor\" => 0, \"delay factor\" => 1.0), \"nameSub\" => \"Introductory Sociology\", \"id\" => 1472757167, \"credits\" => 3.0, \"nameCanonical\" => \"\")], \"id\" => 2), Dict(\"name\" => \"Term 3\", \"curriculum_items\" => Dict{String, Any}[Dict(\"curriculum_requisites\" => Dict{String, Any}[], \"name\" => \"ECO 230\", \"metrics\" => Dict{String, Any}(\"centrality\" => 0, \"complexity\" => 1.0, \"blocking factor\" => 0, \"delay factor\" => 1.0), \"nameSub\" => \"Principles of Microeconomics\", \"id\" => 347375433, \"credits\" => 3.0, \"nameCanonical\" => \"\"), Dict(\"curriculum_requisites\" => Dict{String, Any}[], \"name\" => \"MAT 112A\", \"metrics\" => Dict{String, Any}(\"centrality\" => 0, \"complexity\" => 1.0, \"blocking factor\" => 0, \"delay factor\" => 1.0), \"nameSub\" => \"Algebra: Polynomials\", \"id\" => 4275033709, \"credits\" => 1.5, \"nameCanonical\" => \"\"), Dict(\"curriculum_requisites\" => Dict{String, Any}[], \"name\" => \"GBU 204\", \"metrics\" => Dict{String, Any}(\"centrality\" => 0, \"complexity\" => 1.0, \"blocking factor\" => 0, \"delay factor\" => 1.0), \"nameSub\" => \"Legal/Ethical Environ. of Bus.\", \"id\" => 3329395497, \"credits\" => 3.0, \"nameCanonical\" => \"\"), Dict(\"curriculum_requisites\" => Dict{String, Any}[], \"name\" => \"INF 104\", \"metrics\" => Dict{String, Any}(\"centrality\" => 0, \"complexity\" => 1.0, \"blocking factor\" => 0, \"delay factor\" => 1.0), \"nameSub\" => \"Comp Lit w/ Software Applic\", \"id\" => 605095537, \"credits\" => 3.0, \"nameCanonical\" => \"\"), Dict(\"curriculum_requisites\" => Dict{String, Any}[], \"name\" => \"ACC 202\", \"metrics\" => Dict{String, Any}(\"centrality\" => 0, \"complexity\" => 1.0, \"blocking factor\" => 0, \"delay factor\" => 1.0), \"nameSub\" => \"Introduction to Managerial Acc\", \"id\" => 3547692121, \"credits\" => 3.0, \"nameCanonical\" => \"\"), Dict(\"curriculum_requisites\" => Dict{String, Any}[], \"name\" => \"CIS 215\", \"metrics\" => Dict{String, Any}(\"centrality\" => 0, \"complexity\" => 1.0, \"blocking factor\" => 0, \"delay factor\" => 1.0), \"nameSub\" => \"Intro to Business Programming\", \"id\" => 2586821022, \"credits\" => 3.0, \"nameCanonical\" => \"\"), Dict(\"curriculum_requisites\" => Dict{String, Any}[], \"name\" => \"HON 310W\", \"metrics\" => Dict{String, Any}(\"centrality\" => 0, \"complexity\" => 1.0, \"blocking factor\" => 0, \"delay factor\" => 1.0), \"nameSub\" => \"Seminar in History\", \"id\" => 3741150966, \"credits\" => 3.0, \"nameCanonical\" => \"\")], \"id\" => 3), Dict(\"name\" => \"Term 4\", \"curriculum_items\" => Dict{String, Any}[Dict(\"curriculum_requisites\" => Dict{String, Any}[], \"name\" => \"CIS 300\", \"metrics\" => Dict{String, Any}(\"centrality\" => 0, \"complexity\" => 1.0, \"blocking factor\" => 0, \"delay factor\" => 1.0), \"nameSub\" => \"Management Information Systems\", \"id\" => 2556122892, \"credits\" => 3.0, \"nameCanonical\" => \"\"), Dict(\"curriculum_requisites\" => Dict{String, Any}[], \"name\" => \"MKT 300\", \"metrics\" => Dict{String, Any}(\"centrality\" => 0, \"complexity\" => 1.0, \"blocking factor\" => 0, \"delay factor\" => 1.0), \"nameSub\" => \"Principles of Marketing\", \"id\" => 163160102, \"credits\" => 3.0, \"nameCanonical\" => \"\"), Dict(\"curriculum_requisites\" => Dict{String, Any}[], \"name\" => \"ACC 201\", \"metrics\" => Dict{String, Any}(\"centrality\" => 0, \"complexity\" => 1.0, \"blocking factor\" => 0, \"delay factor\" => 1.0), \"nameSub\" => \"Introduction to Financial Acc\", \"id\" => 124628900, \"credits\" => 3.0, \"nameCanonical\" => \"\"), Dict(\"curriculum_requisites\" => Dict{String, Any}[], \"name\" => \"CIS 375\", \"metrics\" => Dict{String, Any}(\"centrality\" => 0, \"complexity\" => 1.0, \"blocking factor\" => 0, \"delay factor\" => 1.0), \"nameSub\" => \"Networks & Telecommunications\", \"id\" => 2888240639, \"credits\" => 3.0, \"nameCanonical\" => \"\"), Dict(\"curriculum_requisites\" => Dict{String, Any}[], \"name\" => \"ECO 231\", \"metrics\" => Dict{String, Any}(\"centrality\" => 0, \"complexity\" => 1.0, \"blocking factor\" => 0, \"delay factor\" => 1.0), \"nameSub\" => \"Principles of Macroeconomics\", \"id\" => 2536192646, \"credits\" => 3.0, \"nameCanonical\" => \"\"), Dict(\"curriculum_requisites\" => Dict{String, Any}[], \"name\" => \"CIS 410\", \"metrics\" => Dict{String, Any}(\"centrality\" => 0, \"complexity\" => 1.0, \"blocking factor\" => 0, \"delay factor\" => 1.0), \"nameSub\" => \"Project Management and Practice\", \"id\" => 4264546619, \"credits\" => 3.0, \"nameCanonical\" => \"\"), Dict(\"curriculum_requisites\" => Dict{String, Any}[], \"name\" => \"MGT 370\", \"metrics\" => Dict{String, Any}(\"centrality\" => 0, \"complexity\" => 1.0, \"blocking factor\" => 0, \"delay factor\" => 1.0), \"nameSub\" => \"Operations Management\", \"id\" => 308382454, \"credits\" => 3.0, \"nameCanonical\" => \"\")], \"id\" => 4)], \"institution\" => \"\"))), nothing)), Set{String}(), nothing, WebIO.Asset[], Dict{Any, Any}(), WebIO.ConnectionPool(Channel{Any}(32), Set{WebIO.AbstractConnection}(), Base.GenericCondition{ReentrantLock}(Base.InvasiveLinkedList{Task}(Task (runnable) @0x0000000086895b30, Task (runnable) @0x0000000086895b30), ReentrantLock(nothing, Base.GenericCondition{Base.Threads.SpinLock}(Base.InvasiveLinkedList{Task}(nothing, nothing), Base.Threads.SpinLock(0)), 0))), WebIO.JSString[])"
      ]
     },
     "execution_count": 9,
     "metadata": {
      "application/vnd.webio.node+json": {
       "kernelId": "14c1ef7a-e191-4be7-a360-d4ef7c784993"
      }
     },
     "output_type": "execute_result"
    }
   ],
   "source": [
    "dest_curriculum = CurricularAnalytics.Curriculum(\"Four Year\", four_year_course_list)\n",
    "dest_degreeplan = CurricularOptimization.optimize_plan(dest_curriculum, 4, 8, 25, [CurricularOptimization.balance_obj])\n",
    "visualize(dest_degreeplan, notebook=true)"
   ]
  }
 ],
 "metadata": {
  "@webio": {
   "lastCommId": "0f62e0bedad345ce99e50d7a849a25ad",
   "lastKernelId": "14c1ef7a-e191-4be7-a360-d4ef7c784993"
  },
  "kernelspec": {
   "display_name": "Julia 1.7.3",
   "language": "julia",
   "name": "julia-1.7"
  },
  "language_info": {
   "file_extension": ".jl",
   "mimetype": "application/julia",
   "name": "julia",
   "version": "1.7.3"
  }
 },
 "nbformat": 4,
 "nbformat_minor": 5
}
