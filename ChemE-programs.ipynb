{
 "cells": [
  {
   "cell_type": "markdown",
   "metadata": {},
   "source": [
    "# <center>Chemical Engineering Programs</center>\n",
    "\n",
    "This notebook contains a prelmininary analyses of the curricula and degree plans associated with undergraduate chemical engineering programs around the country.  In order to execute the analyses provided in this notebook, you need to load the following Julia packages:"
   ]
  },
  {
   "cell_type": "code",
   "execution_count": 1,
   "metadata": {},
   "outputs": [
    {
     "data": {
      "application/vnd.webio.node+json": {
       "children": [],
       "instanceArgs": {
        "namespace": "html",
        "tag": "div"
       },
       "nodeType": "DOM",
       "props": {},
       "type": "node"
      },
      "text/html": [
       "<div style=\"padding: 1em; background-color: #f8d6da; border: 1px solid #f5c6cb; font-weight: bold;\">\n",
       "<p>The WebIO Jupyter extension was not detected. See the\n",
       "<a href=\"https://juliagizmos.github.io/WebIO.jl/latest/providers/ijulia/\" target=\"_blank\">\n",
       "    WebIO Jupyter integration documentation\n",
       "</a>\n",
       "for more information.\n",
       "</div>\n"
      ],
      "text/plain": [
       "WebIO._IJuliaInit()"
      ]
     },
     "metadata": {
      "application/vnd.webio.node+json": {
       "kernelId": "9c1daafc-af78-45a1-9a8c-18e9669ea985"
      }
     },
     "output_type": "display_data"
    }
   ],
   "source": [
    "using CurricularAnalytics, CurricularVisualization\n",
    "#using CurricularOptimization # this package requires special access rights, if you commented out, you won't be able to run the optimzation-related functions\n",
    "using Glob\n",
    "using CSV\n",
    "using DataFrames\n",
    "using Statistics"
   ]
  },
  {
   "cell_type": "markdown",
   "metadata": {},
   "source": [
    "## Curricular Analytics\n",
    "\n",
    "The analyses in this notebook makes use of the Curricular Analytics toolbox built using the Julia programming language and available as open source software [1]. If you would like to modify any of these analyses, you may find it useful to read the toolbox documenation, as well as the curricular analytics paper listed in the References section below [2]. The curricula associated with chemcial engineering undergraduate programs at various univiersites were collected from the http://CurricularAnalytics.org website. These curricula were entered by those working at the various institutions that uploaded these curricula.  We have *not* validated them in any way, i.e., we are using them \"as is\" according to how they were entered into the afforementioned web application.  That said, it is realitvely straightforward to check these curricula by visiting the websites of the various universites offering these programs.  \n",
    "\n",
    "### What is Curricular Complexity?\n",
    "\n"
   ]
  },
  {
   "cell_type": "code",
   "execution_count": 2,
   "metadata": {},
   "outputs": [
    {
     "ename": "LoadError",
     "evalue": "SystemError: opening file \"./programs/plans/ChemE-DP-UA.csv\": No such file or directory",
     "output_type": "error",
     "traceback": [
      "SystemError: opening file \"./programs/plans/ChemE-DP-UA.csv\": No such file or directory",
      "",
      "Stacktrace:",
      "  [1] systemerror(p::String, errno::Int32; extrainfo::Nothing)",
      "    @ Base ./error.jl:168",
      "  [2] #systemerror#62",
      "    @ ./error.jl:167 [inlined]",
      "  [3] systemerror",
      "    @ ./error.jl:167 [inlined]",
      "  [4] open(fname::String; lock::Bool, read::Nothing, write::Nothing, create::Nothing, truncate::Nothing, append::Nothing)",
      "    @ Base ./iostream.jl:293",
      "  [5] open",
      "    @ ./iostream.jl:282 [inlined]",
      "  [6] open(f::CurricularAnalytics.var\"#23#24\", args::String; kwargs::Base.Iterators.Pairs{Union{}, Union{}, Tuple{}, NamedTuple{(), Tuple{}}})",
      "    @ Base ./io.jl:328",
      "  [7] open",
      "    @ ./io.jl:328 [inlined]",
      "  [8] readfile",
      "    @ ~/.julia/packages/CurricularAnalytics/CvTk4/src/CSVUtilities.jl:2 [inlined]",
      "  [9] remove_empty_lines(file_path::String)",
      "    @ CurricularAnalytics ~/.julia/packages/CurricularAnalytics/CvTk4/src/CSVUtilities.jl:14",
      " [10] read_csv(file_path::String)",
      "    @ CurricularAnalytics ~/.julia/packages/CurricularAnalytics/CvTk4/src/DataHandler.jl:25",
      " [11] top-level scope",
      "    @ In[2]:1",
      " [12] eval",
      "    @ ./boot.jl:360 [inlined]",
      " [13] include_string(mapexpr::typeof(REPL.softscope), mod::Module, code::String, filename::String)",
      "    @ Base ./loading.jl:1094"
     ]
    }
   ],
   "source": [
    "UA_ChemE_plan = read_csv(\"./programs/plans/ChemE-DP-UA.csv\")\n",
    "visualize(UA_ChemE_plan, notebook=true)"
   ]
  },
  {
   "cell_type": "code",
   "execution_count": 3,
   "metadata": {},
   "outputs": [
    {
     "ename": "LoadError",
     "evalue": "UndefVarError: UA_ChemE_plan not defined",
     "output_type": "error",
     "traceback": [
      "UndefVarError: UA_ChemE_plan not defined",
      "",
      "Stacktrace:",
      " [1] top-level scope",
      "   @ In[3]:1",
      " [2] eval",
      "   @ ./boot.jl:360 [inlined]",
      " [3] include_string(mapexpr::typeof(REPL.softscope), mod::Module, code::String, filename::String)",
      "   @ Base ./loading.jl:1094"
     ]
    }
   ],
   "source": [
    "metrics = basic_metrics(UA_ChemE_plan)\n",
    "println(String(take!(metrics)))"
   ]
  },
  {
   "cell_type": "code",
   "execution_count": 64,
   "metadata": {},
   "outputs": [
    {
     "name": "stdout",
     "output_type": "stream",
     "text": [
      "\n",
      "University of Arizona \n",
      "Curriculum: Chemical Engineering\n",
      "  credit hours = 128\n",
      "  number of courses = 45\n",
      "  Blocking Factor --\n",
      "    entire curriculum = 171\n",
      "    max. value = 24, for course(s): MATH 125 - Calculus I w/ Applications\n",
      "  Centrality --\n",
      "    entire curriculum = 2196\n",
      "    max. value = 287, for course(s): CHEE 201 - Elements of Chem and Envirn Eng I\n",
      "  Delay Factor --\n",
      "    entire curriculum = 215.0\n",
      "    max. value = 8.0, for course(s): MATH 125 - Calculus I w/ Applications, CHEM 151 - Gen Chemistry I, MATH 129 - Calculus II, CHEM 152 - Gen Chemistry II, PHYS 141 - Intro Mechanics, CHEE 201 - Elements of Chem and Envirn Eng I, CHEE 203 - Chem Eng Heat Xfer & Fluid Flow, PHYS 241 - Electricity & Magnetism, CHEE 303 - Chem Eng Mass Xfer, CHEE 402 - Chem Eng Modeling, CHEM 480A - Physical Chem, CHEE 305 - Chem Eng Transport Phenom, CHEE 326 - Chem & Phys Equilibrium, CHEE 301B - Chem Eng Lab II, CHEE 420 - Chem Reaction Eng, CHEE 442 - Chem Eng Design Principles, CHEE 401B - Process Dynamics and Control Lab\n",
      "  Complexity --\n",
      "    entire curriculum = 386.0\n",
      "    max. value = 32.0, for course(s): MATH 125 - Calculus I w/ Applications\n",
      "  Longest Path(s) --\n",
      "    length = 8, number of paths = 4\n",
      "    path(s):\n",
      "    path 1 = MATH 125 - Calculus I w/ Applications -> MATH 129 - Calculus II -> CHEE 201 - Elements of Chem and Envirn Eng I -> CHEE 203 - Chem Eng Heat Xfer & Fluid Flow -> CHEE 303 - Chem Eng Mass Xfer -> CHEE 402 - Chem Eng Modeling -> CHEE 305 - Chem Eng Transport Phenom -> CHEE 301B - Chem Eng Lab II\n",
      "    path 2 = CHEM 151 - Gen Chemistry I -> CHEM 152 - Gen Chemistry II -> CHEE 201 - Elements of Chem and Envirn Eng I -> CHEE 203 - Chem Eng Heat Xfer & Fluid Flow -> CHEE 303 - Chem Eng Mass Xfer -> CHEE 402 - Chem Eng Modeling -> CHEE 305 - Chem Eng Transport Phenom -> CHEE 301B - Chem Eng Lab II\n",
      "    path 3 = MATH 125 - Calculus I w/ Applications -> MATH 129 - Calculus II -> PHYS 241 - Electricity & Magnetism -> CHEM 480A - Physical Chem -> CHEE 326 - Chem & Phys Equilibrium -> CHEE 420 - Chem Reaction Eng -> CHEE 442 - Chem Eng Design Principles -> CHEE 401B - Process Dynamics and Control Lab\n",
      "    path 4 = MATH 125 - Calculus I w/ Applications -> PHYS 141 - Intro Mechanics -> PHYS 241 - Electricity & Magnetism -> CHEM 480A - Physical Chem -> CHEE 326 - Chem & Phys Equilibrium -> CHEE 420 - Chem Reaction Eng -> CHEE 442 - Chem Eng Design Principles -> CHEE 401B - Process Dynamics and Control Lab\n",
      "\n"
     ]
    }
   ],
   "source": [
    "metrics = basic_metrics(UA_ChemE_plan.curriculum)\n",
    "println(String(take!(metrics)))"
   ]
  },
  {
   "cell_type": "markdown",
   "metadata": {},
   "source": [
    "### Why does it Matter?\n",
    "Here is the complexity distrubtion of all undergraduate programs at the Unviersity of Arizona"
   ]
  },
  {
   "cell_type": "code",
   "execution_count": 65,
   "metadata": {},
   "outputs": [
    {
     "ename": "LoadError",
     "evalue": "ArgumentError: \"./Complexity_x_Grad_UA.csv\" is not a valid file",
     "output_type": "error",
     "traceback": [
      "ArgumentError: \"./Complexity_x_Grad_UA.csv\" is not a valid file",
      "",
      "Stacktrace:",
      " [1] CSV.Header(source::String, header::Int64, normalizenames::Bool, datarow::Int64, skipto::Nothing, footerskip::Int64, transpose::Bool, comment::Nothing, use_mmap::Nothing, ignoreemptylines::Bool, select::Nothing, drop::Nothing, missingstrings::Vector{String}, missingstring::String, delim::Nothing, ignorerepeated::Bool, quotechar::Char, openquotechar::Nothing, closequotechar::Nothing, escapechar::Char, dateformat::Nothing, dateformats::Nothing, decimal::UInt8, truestrings::Vector{String}, falsestrings::Vector{String}, type::Nothing, types::Nothing, typemap::Dict{Type, Type}, categorical::Nothing, pool::Float64, lazystrings::Bool, strict::Bool, silencewarnings::Bool, debug::Bool, parsingdebug::Bool, streaming::Bool)",
      "   @ CSV ~/.julia/packages/CSV/UIgP3/src/header.jl:92",
      " [2] CSV.File(source::String; header::Int64, normalizenames::Bool, datarow::Int64, skipto::Nothing, footerskip::Int64, transpose::Bool, comment::Nothing, use_mmap::Nothing, ignoreemptylines::Bool, select::Nothing, drop::Nothing, missingstrings::Vector{String}, missingstring::String, delim::Nothing, ignorerepeated::Bool, quotechar::Char, openquotechar::Nothing, closequotechar::Nothing, escapechar::Char, dateformat::Nothing, dateformats::Nothing, decimal::UInt8, truestrings::Vector{String}, falsestrings::Vector{String}, type::Nothing, types::Nothing, typemap::Dict{Type, Type}, categorical::Nothing, pool::Float64, lazystrings::Bool, strict::Bool, silencewarnings::Bool, debug::Bool, parsingdebug::Bool, kw::Base.Iterators.Pairs{Union{}, Union{}, Tuple{}, NamedTuple{(), Tuple{}}})",
      "   @ CSV ~/.julia/packages/CSV/UIgP3/src/file.jl:216",
      " [3] CSV.File(source::String)",
      "   @ CSV ~/.julia/packages/CSV/UIgP3/src/file.jl:216",
      " [4] top-level scope",
      "   @ In[65]:1",
      " [5] eval",
      "   @ ./boot.jl:360 [inlined]",
      " [6] include_string(mapexpr::typeof(REPL.softscope), mod::Module, code::String, filename::String)",
      "   @ Base ./loading.jl:1094"
     ]
    }
   ],
   "source": [
    "df = DataFrame(CSV.File(\"./Complexity_x_Grad_UA.csv\"));\n",
    "histogram(df.complexity_score, nbins=50, xlabel=\"Program Complexity\", ylabel=\"# of programs\", label=\"\")"
   ]
  },
  {
   "cell_type": "code",
   "execution_count": null,
   "metadata": {},
   "outputs": [],
   "source": [
    " = Array{Integer,1}() # curricular complexity score of program\n",
    "Y = Array{Bool,1}() # did student graduate within 4 years?\n",
    "Z = Array{Bool,1}() # did student graduate within 6 years?\n",
    "for row in eachrow(df)\n",
    "  for t in 1:row[\"four\"] \n",
    "    push!(X, row[\"complexity_score\"])\n",
    "    push!(Y, 1); push!(Z, 1)\n",
    "  end\n",
    "  s = row[\"total_degrees_awarded\"] - row[\"six\"]\n",
    "  for t in 1:(row[\"total_degrees_awarded\"] - row[\"four\"])\n",
    "    push!(X, row[\"complexity_score\"])\n",
    "    push!(Y, 0)\n",
    "    s > 0 ? (push!(Z, 1); s=s-1) : push!(Z, 0)\n",
    "  end\n",
    "end\n",
    "df_binary = DataFrame(Program_Complexity = X, grad4 = Y, grad6 = Z);\n",
    "histogram(X, nbins=50, xlabel=\"Program Complexity\", ylabel=\"# of students\", label=\"\")"
   ]
  },
  {
   "cell_type": "code",
   "execution_count": null,
   "metadata": {},
   "outputs": [],
   "source": [
    "probit4 = glm(@formula(grad4 ~ Program_Complexity), df_binary, Binomial(), ProbitLink())"
   ]
  },
  {
   "cell_type": "code",
   "execution_count": null,
   "metadata": {},
   "outputs": [],
   "source": [
    "probit6 = glm(@formula(grad6 ~ Program_Complexity), df_binary, Binomial(), ProbitLink())"
   ]
  },
  {
   "cell_type": "code",
   "execution_count": null,
   "metadata": {},
   "outputs": [],
   "source": [
    "CC_scores = DataFrame(Program_Complexity = 0:10:650)\n",
    "pred4 = predict(probit4, CC_scores, interval = :confidence)\n",
    "pred6 = predict(probit6, CC_scores, interval = :confidence)\n",
    "plot(title=\"Graduates\")\n",
    "plot!(CC_scores.Program_Complexity, pred4.prediction , seriestype = :scatter, labels=\"4 years\",\n",
    "       ribbon = (pred4.prediction .- pred4.lower, pred4.upper .- pred4.prediction))\n",
    "plot!(CC_scores.Program_Complexity, pred6.prediction , seriestype = :scatter, labels=\"6 years\",\n",
    "       ribbon = (pred6.prediction .- pred6.lower, pred6.upper .- pred6.prediction))"
   ]
  },
  {
   "cell_type": "markdown",
   "metadata": {},
   "source": [
    "### Create the Data Structures \n",
    "Below we read each of the stored curricula into an array of curricula that will be used throughout the remainder of this notebook."
   ]
  },
  {
   "cell_type": "code",
   "execution_count": 43,
   "metadata": {},
   "outputs": [],
   "source": [
    "currics = Array{Curriculum,1}()\n",
    "program_files = glob(\"*\", \"./programs/curricula\")\n",
    "for program in program_files\n",
    "    curric = read_csv(program)\n",
    "    complexity(curric)  # compute the curricular complexity of the curriculum\n",
    "    push!(currics, curric)    # store the curriculum in the darray \n",
    "end"
   ]
  },
  {
   "cell_type": "markdown",
   "metadata": {},
   "source": [
    "The institutions represented in this chemical engineering curricula data set include:"
   ]
  },
  {
   "cell_type": "code",
   "execution_count": 44,
   "metadata": {},
   "outputs": [
    {
     "name": "stdout",
     "output_type": "stream",
     "text": [
      "American University of Beirut\n",
      "Bucknell University\n",
      "Cal Poly Pomona\n",
      "Drexel University\n",
      "Illinois Institute of Technology\n",
      "Louisiana State University\n",
      "Montana State University\n",
      "Oklahoma State University\n",
      "Rose-Hulman Institute of Technology\n",
      "University of Arizona\n",
      "University of Kentucky\n",
      "University of Nebraska-Lincoln\n",
      "University of Nevada-Reno\n",
      "University of South Carolina\n",
      "University of South Florida\n",
      "Virginia Tech\n",
      "Yale University\n"
     ]
    }
   ],
   "source": [
    "for c in currics\n",
    "    println(c.institution)\n",
    "end"
   ]
  },
  {
   "cell_type": "markdown",
   "metadata": {},
   "source": [
    "First we will analyze the structural properties of a curriculum in the college.  The structural properties of a curriculum are determined by the underlying structural properties of its corresponding curriculum graph (i.e., the graph showing the prerequisite relationships between the courses in a curriculum, ignoring term information).  Here's the degree plan for the Electrical Engineering program.  By hovering your mouse over the courses in this figure, various metrics will be displayed."
   ]
  },
  {
   "cell_type": "code",
   "execution_count": 55,
   "metadata": {},
   "outputs": [
    {
     "name": "stdout",
     "output_type": "stream",
     "text": [
      "\n",
      " Metric -- complexity\n",
      "  Number of curricula = 17\n",
      "  Mean = 434.6588235294117\n",
      "  STD = 47.211699433543096\n",
      "  Max. = 720.0\n",
      "  Min. = 229.0\n"
     ]
    },
    {
     "data": {
      "image/svg+xml": [
       "<?xml version=\"1.0\" encoding=\"utf-8\"?>\n",
       "<svg xmlns=\"http://www.w3.org/2000/svg\" xmlns:xlink=\"http://www.w3.org/1999/xlink\" width=\"600\" height=\"400\" viewBox=\"0 0 2400 1600\">\n",
       "<defs>\n",
       "  <clipPath id=\"clip650\">\n",
       "    <rect x=\"0\" y=\"0\" width=\"2400\" height=\"1600\"/>\n",
       "  </clipPath>\n",
       "</defs>\n",
       "<path clip-path=\"url(#clip650)\" d=\"\n",
       "M0 1600 L2400 1600 L2400 0 L0 0  Z\n",
       "  \" fill=\"#ffffff\" fill-rule=\"evenodd\" fill-opacity=\"1\"/>\n",
       "<defs>\n",
       "  <clipPath id=\"clip651\">\n",
       "    <rect x=\"480\" y=\"0\" width=\"1681\" height=\"1600\"/>\n",
       "  </clipPath>\n",
       "</defs>\n",
       "<path clip-path=\"url(#clip650)\" d=\"\n",
       "M175.445 1423.18 L2352.76 1423.18 L2352.76 123.472 L175.445 123.472  Z\n",
       "  \" fill=\"#ffffff\" fill-rule=\"evenodd\" fill-opacity=\"1\"/>\n",
       "<defs>\n",
       "  <clipPath id=\"clip652\">\n",
       "    <rect x=\"175\" y=\"123\" width=\"2178\" height=\"1301\"/>\n",
       "  </clipPath>\n",
       "</defs>\n",
       "<polyline clip-path=\"url(#clip652)\" style=\"stroke:#000000; stroke-linecap:butt; stroke-linejoin:round; stroke-width:2; stroke-opacity:0.1; fill:none\" points=\"\n",
       "  175.445,1423.18 175.445,123.472 \n",
       "  \"/>\n",
       "<polyline clip-path=\"url(#clip652)\" style=\"stroke:#000000; stroke-linecap:butt; stroke-linejoin:round; stroke-width:2; stroke-opacity:0.1; fill:none\" points=\"\n",
       "  901.215,1423.18 901.215,123.472 \n",
       "  \"/>\n",
       "<polyline clip-path=\"url(#clip652)\" style=\"stroke:#000000; stroke-linecap:butt; stroke-linejoin:round; stroke-width:2; stroke-opacity:0.1; fill:none\" points=\"\n",
       "  1626.99,1423.18 1626.99,123.472 \n",
       "  \"/>\n",
       "<polyline clip-path=\"url(#clip652)\" style=\"stroke:#000000; stroke-linecap:butt; stroke-linejoin:round; stroke-width:2; stroke-opacity:0.1; fill:none\" points=\"\n",
       "  2352.76,1423.18 2352.76,123.472 \n",
       "  \"/>\n",
       "<polyline clip-path=\"url(#clip650)\" style=\"stroke:#000000; stroke-linecap:butt; stroke-linejoin:round; stroke-width:4; stroke-opacity:1; fill:none\" points=\"\n",
       "  175.445,1423.18 2352.76,1423.18 \n",
       "  \"/>\n",
       "<polyline clip-path=\"url(#clip650)\" style=\"stroke:#000000; stroke-linecap:butt; stroke-linejoin:round; stroke-width:4; stroke-opacity:1; fill:none\" points=\"\n",
       "  175.445,1423.18 175.445,1404.28 \n",
       "  \"/>\n",
       "<polyline clip-path=\"url(#clip650)\" style=\"stroke:#000000; stroke-linecap:butt; stroke-linejoin:round; stroke-width:4; stroke-opacity:1; fill:none\" points=\"\n",
       "  901.215,1423.18 901.215,1404.28 \n",
       "  \"/>\n",
       "<polyline clip-path=\"url(#clip650)\" style=\"stroke:#000000; stroke-linecap:butt; stroke-linejoin:round; stroke-width:4; stroke-opacity:1; fill:none\" points=\"\n",
       "  1626.99,1423.18 1626.99,1404.28 \n",
       "  \"/>\n",
       "<polyline clip-path=\"url(#clip650)\" style=\"stroke:#000000; stroke-linecap:butt; stroke-linejoin:round; stroke-width:4; stroke-opacity:1; fill:none\" points=\"\n",
       "  2352.76,1423.18 2352.76,1404.28 \n",
       "  \"/>\n",
       "<path clip-path=\"url(#clip650)\" d=\"M175.445 1454.1 Q171.834 1454.1 170.005 1457.66 Q168.2 1461.2 168.2 1468.33 Q168.2 1475.44 170.005 1479.01 Q171.834 1482.55 175.445 1482.55 Q179.079 1482.55 180.885 1479.01 Q182.714 1475.44 182.714 1468.33 Q182.714 1461.2 180.885 1457.66 Q179.079 1454.1 175.445 1454.1 M175.445 1450.39 Q181.255 1450.39 184.311 1455 Q187.39 1459.58 187.39 1468.33 Q187.39 1477.06 184.311 1481.67 Q181.255 1486.25 175.445 1486.25 Q169.635 1486.25 166.556 1481.67 Q163.501 1477.06 163.501 1468.33 Q163.501 1459.58 166.556 1455 Q169.635 1450.39 175.445 1450.39 Z\" fill=\"#000000\" fill-rule=\"evenodd\" fill-opacity=\"1\" /><path clip-path=\"url(#clip650)\" d=\"M874.977 1466.95 Q878.334 1467.66 880.209 1469.93 Q882.107 1472.2 882.107 1475.53 Q882.107 1480.65 878.588 1483.45 Q875.07 1486.25 868.588 1486.25 Q866.412 1486.25 864.098 1485.81 Q861.806 1485.39 859.352 1484.54 L859.352 1480.02 Q861.297 1481.16 863.611 1481.74 Q865.926 1482.32 868.449 1482.32 Q872.848 1482.32 875.139 1480.58 Q877.454 1478.84 877.454 1475.53 Q877.454 1472.48 875.301 1470.77 Q873.172 1469.03 869.352 1469.03 L865.324 1469.03 L865.324 1465.19 L869.537 1465.19 Q872.986 1465.19 874.815 1463.82 Q876.644 1462.43 876.644 1459.84 Q876.644 1457.18 874.746 1455.77 Q872.871 1454.33 869.352 1454.33 Q867.431 1454.33 865.232 1454.75 Q863.033 1455.16 860.394 1456.04 L860.394 1451.88 Q863.056 1451.14 865.371 1450.77 Q867.709 1450.39 869.769 1450.39 Q875.093 1450.39 878.195 1452.83 Q881.297 1455.23 881.297 1459.35 Q881.297 1462.22 879.653 1464.21 Q878.01 1466.18 874.977 1466.95 Z\" fill=\"#000000\" fill-rule=\"evenodd\" fill-opacity=\"1\" /><path clip-path=\"url(#clip650)\" d=\"M900.972 1454.1 Q897.361 1454.1 895.533 1457.66 Q893.727 1461.2 893.727 1468.33 Q893.727 1475.44 895.533 1479.01 Q897.361 1482.55 900.972 1482.55 Q904.607 1482.55 906.412 1479.01 Q908.241 1475.44 908.241 1468.33 Q908.241 1461.2 906.412 1457.66 Q904.607 1454.1 900.972 1454.1 M900.972 1450.39 Q906.783 1450.39 909.838 1455 Q912.917 1459.58 912.917 1468.33 Q912.917 1477.06 909.838 1481.67 Q906.783 1486.25 900.972 1486.25 Q895.162 1486.25 892.084 1481.67 Q889.028 1477.06 889.028 1468.33 Q889.028 1459.58 892.084 1455 Q895.162 1450.39 900.972 1450.39 Z\" fill=\"#000000\" fill-rule=\"evenodd\" fill-opacity=\"1\" /><path clip-path=\"url(#clip650)\" d=\"M931.134 1454.1 Q927.523 1454.1 925.694 1457.66 Q923.889 1461.2 923.889 1468.33 Q923.889 1475.44 925.694 1479.01 Q927.523 1482.55 931.134 1482.55 Q934.769 1482.55 936.574 1479.01 Q938.403 1475.44 938.403 1468.33 Q938.403 1461.2 936.574 1457.66 Q934.769 1454.1 931.134 1454.1 M931.134 1450.39 Q936.944 1450.39 940 1455 Q943.079 1459.58 943.079 1468.33 Q943.079 1477.06 940 1481.67 Q936.944 1486.25 931.134 1486.25 Q925.324 1486.25 922.245 1481.67 Q919.19 1477.06 919.19 1468.33 Q919.19 1459.58 922.245 1455 Q925.324 1450.39 931.134 1450.39 Z\" fill=\"#000000\" fill-rule=\"evenodd\" fill-opacity=\"1\" /><path clip-path=\"url(#clip650)\" d=\"M1597.31 1466.44 Q1594.16 1466.44 1592.31 1468.59 Q1590.48 1470.74 1590.48 1474.49 Q1590.48 1478.22 1592.31 1480.39 Q1594.16 1482.55 1597.31 1482.55 Q1600.46 1482.55 1602.29 1480.39 Q1604.14 1478.22 1604.14 1474.49 Q1604.14 1470.74 1602.29 1468.59 Q1600.46 1466.44 1597.31 1466.44 M1606.59 1451.78 L1606.59 1456.04 Q1604.83 1455.21 1603.03 1454.77 Q1601.25 1454.33 1599.49 1454.33 Q1594.86 1454.33 1592.4 1457.45 Q1589.97 1460.58 1589.62 1466.9 Q1590.99 1464.89 1593.05 1463.82 Q1595.11 1462.73 1597.59 1462.73 Q1602.8 1462.73 1605.81 1465.9 Q1608.84 1469.05 1608.84 1474.49 Q1608.84 1479.82 1605.69 1483.03 Q1602.54 1486.25 1597.31 1486.25 Q1591.31 1486.25 1588.14 1481.67 Q1584.97 1477.06 1584.97 1468.33 Q1584.97 1460.14 1588.86 1455.28 Q1592.75 1450.39 1599.3 1450.39 Q1601.06 1450.39 1602.84 1450.74 Q1604.65 1451.09 1606.59 1451.78 Z\" fill=\"#000000\" fill-rule=\"evenodd\" fill-opacity=\"1\" /><path clip-path=\"url(#clip650)\" d=\"M1626.89 1454.1 Q1623.28 1454.1 1621.45 1457.66 Q1619.65 1461.2 1619.65 1468.33 Q1619.65 1475.44 1621.45 1479.01 Q1623.28 1482.55 1626.89 1482.55 Q1630.53 1482.55 1632.33 1479.01 Q1634.16 1475.44 1634.16 1468.33 Q1634.16 1461.2 1632.33 1457.66 Q1630.53 1454.1 1626.89 1454.1 M1626.89 1450.39 Q1632.7 1450.39 1635.76 1455 Q1638.84 1459.58 1638.84 1468.33 Q1638.84 1477.06 1635.76 1481.67 Q1632.7 1486.25 1626.89 1486.25 Q1621.08 1486.25 1618 1481.67 Q1614.95 1477.06 1614.95 1468.33 Q1614.95 1459.58 1618 1455 Q1621.08 1450.39 1626.89 1450.39 Z\" fill=\"#000000\" fill-rule=\"evenodd\" fill-opacity=\"1\" /><path clip-path=\"url(#clip650)\" d=\"M1657.05 1454.1 Q1653.44 1454.1 1651.62 1457.66 Q1649.81 1461.2 1649.81 1468.33 Q1649.81 1475.44 1651.62 1479.01 Q1653.44 1482.55 1657.05 1482.55 Q1660.69 1482.55 1662.49 1479.01 Q1664.32 1475.44 1664.32 1468.33 Q1664.32 1461.2 1662.49 1457.66 Q1660.69 1454.1 1657.05 1454.1 M1657.05 1450.39 Q1662.87 1450.39 1665.92 1455 Q1669 1459.58 1669 1468.33 Q1669 1477.06 1665.92 1481.67 Q1662.87 1486.25 1657.05 1486.25 Q1651.24 1486.25 1648.17 1481.67 Q1645.11 1477.06 1645.11 1468.33 Q1645.11 1459.58 1648.17 1455 Q1651.24 1450.39 1657.05 1450.39 Z\" fill=\"#000000\" fill-rule=\"evenodd\" fill-opacity=\"1\" /><path clip-path=\"url(#clip650)\" d=\"M2312.8 1484.86 L2312.8 1480.6 Q2314.56 1481.44 2316.37 1481.88 Q2318.17 1482.32 2319.91 1482.32 Q2324.54 1482.32 2326.97 1479.21 Q2329.42 1476.09 2329.77 1469.75 Q2328.43 1471.74 2326.37 1472.8 Q2324.31 1473.87 2321.81 1473.87 Q2316.62 1473.87 2313.59 1470.74 Q2310.58 1467.59 2310.58 1462.15 Q2310.58 1456.83 2313.73 1453.61 Q2316.88 1450.39 2322.11 1450.39 Q2328.1 1450.39 2331.25 1455 Q2334.42 1459.58 2334.42 1468.33 Q2334.42 1476.51 2330.53 1481.39 Q2326.67 1486.25 2320.12 1486.25 Q2318.36 1486.25 2316.55 1485.9 Q2314.75 1485.56 2312.8 1484.86 M2322.11 1470.21 Q2325.26 1470.21 2327.08 1468.06 Q2328.94 1465.9 2328.94 1462.15 Q2328.94 1458.43 2327.08 1456.27 Q2325.26 1454.1 2322.11 1454.1 Q2318.96 1454.1 2317.11 1456.27 Q2315.28 1458.43 2315.28 1462.15 Q2315.28 1465.9 2317.11 1468.06 Q2318.96 1470.21 2322.11 1470.21 Z\" fill=\"#000000\" fill-rule=\"evenodd\" fill-opacity=\"1\" /><path clip-path=\"url(#clip650)\" d=\"M2352.83 1454.1 Q2349.21 1454.1 2347.39 1457.66 Q2345.58 1461.2 2345.58 1468.33 Q2345.58 1475.44 2347.39 1479.01 Q2349.21 1482.55 2352.83 1482.55 Q2356.46 1482.55 2358.27 1479.01 Q2360.09 1475.44 2360.09 1468.33 Q2360.09 1461.2 2358.27 1457.66 Q2356.46 1454.1 2352.83 1454.1 M2352.83 1450.39 Q2358.64 1450.39 2361.69 1455 Q2364.77 1459.58 2364.77 1468.33 Q2364.77 1477.06 2361.69 1481.67 Q2358.64 1486.25 2352.83 1486.25 Q2347.02 1486.25 2343.94 1481.67 Q2340.88 1477.06 2340.88 1468.33 Q2340.88 1459.58 2343.94 1455 Q2347.02 1450.39 2352.83 1450.39 Z\" fill=\"#000000\" fill-rule=\"evenodd\" fill-opacity=\"1\" /><path clip-path=\"url(#clip650)\" d=\"M2382.99 1454.1 Q2379.38 1454.1 2377.55 1457.66 Q2375.74 1461.2 2375.74 1468.33 Q2375.74 1475.44 2377.55 1479.01 Q2379.38 1482.55 2382.99 1482.55 Q2386.62 1482.55 2388.43 1479.01 Q2390.26 1475.44 2390.26 1468.33 Q2390.26 1461.2 2388.43 1457.66 Q2386.62 1454.1 2382.99 1454.1 M2382.99 1450.39 Q2388.8 1450.39 2391.85 1455 Q2394.93 1459.58 2394.93 1468.33 Q2394.93 1477.06 2391.85 1481.67 Q2388.8 1486.25 2382.99 1486.25 Q2377.18 1486.25 2374.1 1481.67 Q2371.04 1477.06 2371.04 1468.33 Q2371.04 1459.58 2374.1 1455 Q2377.18 1450.39 2382.99 1450.39 Z\" fill=\"#000000\" fill-rule=\"evenodd\" fill-opacity=\"1\" /><path clip-path=\"url(#clip650)\" d=\"M1115.83 1533.76 L1115.83 1539.24 Q1113.34 1537.87 1110.83 1537.2 Q1108.35 1536.5 1105.8 1536.5 Q1100.1 1536.5 1096.95 1540.13 Q1093.8 1543.73 1093.8 1550.25 Q1093.8 1556.78 1096.95 1560.4 Q1100.1 1564 1105.8 1564 Q1108.35 1564 1110.83 1563.33 Q1113.34 1562.63 1115.83 1561.26 L1115.83 1566.68 Q1113.38 1567.82 1110.73 1568.39 Q1108.12 1568.97 1105.16 1568.97 Q1097.11 1568.97 1092.37 1563.91 Q1087.63 1558.85 1087.63 1550.25 Q1087.63 1541.53 1092.4 1536.53 Q1097.21 1531.54 1105.55 1531.54 Q1108.25 1531.54 1110.83 1532.11 Q1113.41 1532.65 1115.83 1533.76 Z\" fill=\"#000000\" fill-rule=\"evenodd\" fill-opacity=\"1\" /><path clip-path=\"url(#clip650)\" d=\"M1139.83 1536.5 Q1135.12 1536.5 1132.38 1540.19 Q1129.64 1543.85 1129.64 1550.25 Q1129.64 1556.65 1132.35 1560.34 Q1135.08 1564 1139.83 1564 Q1144.5 1564 1147.24 1560.31 Q1149.98 1556.62 1149.98 1550.25 Q1149.98 1543.92 1147.24 1540.23 Q1144.5 1536.5 1139.83 1536.5 M1139.83 1531.54 Q1147.46 1531.54 1151.83 1536.5 Q1156.19 1541.47 1156.19 1550.25 Q1156.19 1559 1151.83 1564 Q1147.46 1568.97 1139.83 1568.97 Q1132.16 1568.97 1127.79 1564 Q1123.47 1559 1123.47 1550.25 Q1123.47 1541.47 1127.79 1536.5 Q1132.16 1531.54 1139.83 1531.54 Z\" fill=\"#000000\" fill-rule=\"evenodd\" fill-opacity=\"1\" /><path clip-path=\"url(#clip650)\" d=\"M1193.65 1539.24 Q1195.84 1535.29 1198.9 1533.41 Q1201.96 1531.54 1206.09 1531.54 Q1211.66 1531.54 1214.69 1535.45 Q1217.71 1539.33 1217.71 1546.53 L1217.71 1568.04 L1211.82 1568.04 L1211.82 1546.72 Q1211.82 1541.59 1210.01 1539.11 Q1208.19 1536.63 1204.47 1536.63 Q1199.92 1536.63 1197.28 1539.65 Q1194.63 1542.68 1194.63 1547.9 L1194.63 1568.04 L1188.75 1568.04 L1188.75 1546.72 Q1188.75 1541.56 1186.93 1539.11 Q1185.12 1536.63 1181.33 1536.63 Q1176.84 1536.63 1174.2 1539.68 Q1171.56 1542.71 1171.56 1547.9 L1171.56 1568.04 L1165.67 1568.04 L1165.67 1532.4 L1171.56 1532.4 L1171.56 1537.93 Q1173.56 1534.66 1176.37 1533.1 Q1179.17 1531.54 1183.02 1531.54 Q1186.9 1531.54 1189.61 1533.51 Q1192.34 1535.48 1193.65 1539.24 Z\" fill=\"#000000\" fill-rule=\"evenodd\" fill-opacity=\"1\" /><path clip-path=\"url(#clip650)\" d=\"M1235.06 1562.7 L1235.06 1581.6 L1229.17 1581.6 L1229.17 1532.4 L1235.06 1532.4 L1235.06 1537.81 Q1236.9 1534.62 1239.7 1533.1 Q1242.54 1531.54 1246.45 1531.54 Q1252.94 1531.54 1256.99 1536.69 Q1261.06 1541.85 1261.06 1550.25 Q1261.06 1558.65 1256.99 1563.81 Q1252.94 1568.97 1246.45 1568.97 Q1242.54 1568.97 1239.7 1567.44 Q1236.9 1565.88 1235.06 1562.7 M1254.98 1550.25 Q1254.98 1543.79 1252.31 1540.13 Q1249.67 1536.44 1245.02 1536.44 Q1240.37 1536.44 1237.7 1540.13 Q1235.06 1543.79 1235.06 1550.25 Q1235.06 1556.71 1237.7 1560.4 Q1240.37 1564.07 1245.02 1564.07 Q1249.67 1564.07 1252.31 1560.4 Q1254.98 1556.71 1254.98 1550.25 Z\" fill=\"#000000\" fill-rule=\"evenodd\" fill-opacity=\"1\" /><path clip-path=\"url(#clip650)\" d=\"M1270.77 1518.52 L1276.63 1518.52 L1276.63 1568.04 L1270.77 1568.04 L1270.77 1518.52 Z\" fill=\"#000000\" fill-rule=\"evenodd\" fill-opacity=\"1\" /><path clip-path=\"url(#clip650)\" d=\"M1319.37 1548.76 L1319.37 1551.62 L1292.44 1551.62 Q1292.83 1557.67 1296.07 1560.85 Q1299.35 1564 1305.18 1564 Q1308.55 1564 1311.7 1563.17 Q1314.88 1562.35 1318 1560.69 L1318 1566.23 Q1314.85 1567.57 1311.54 1568.27 Q1308.23 1568.97 1304.83 1568.97 Q1296.3 1568.97 1291.3 1564 Q1286.33 1559.04 1286.33 1550.57 Q1286.33 1541.82 1291.04 1536.69 Q1295.79 1531.54 1303.81 1531.54 Q1311 1531.54 1315.17 1536.18 Q1319.37 1540.8 1319.37 1548.76 M1313.51 1547.04 Q1313.45 1542.23 1310.81 1539.37 Q1308.2 1536.5 1303.87 1536.5 Q1298.97 1536.5 1296.01 1539.27 Q1293.08 1542.04 1292.63 1547.07 L1313.51 1547.04 Z\" fill=\"#000000\" fill-rule=\"evenodd\" fill-opacity=\"1\" /><path clip-path=\"url(#clip650)\" d=\"M1357.47 1532.4 L1344.58 1549.74 L1358.14 1568.04 L1351.23 1568.04 L1340.86 1554.04 L1330.48 1568.04 L1323.57 1568.04 L1337.42 1549.39 L1324.75 1532.4 L1331.66 1532.4 L1341.11 1545.1 L1350.56 1532.4 L1357.47 1532.4 Z\" fill=\"#000000\" fill-rule=\"evenodd\" fill-opacity=\"1\" /><path clip-path=\"url(#clip650)\" d=\"M1366.41 1532.4 L1372.27 1532.4 L1372.27 1568.04 L1366.41 1568.04 L1366.41 1532.4 M1366.41 1518.52 L1372.27 1518.52 L1372.27 1525.93 L1366.41 1525.93 L1366.41 1518.52 Z\" fill=\"#000000\" fill-rule=\"evenodd\" fill-opacity=\"1\" /><path clip-path=\"url(#clip650)\" d=\"M1390.32 1522.27 L1390.32 1532.4 L1402.38 1532.4 L1402.38 1536.95 L1390.32 1536.95 L1390.32 1556.3 Q1390.32 1560.66 1391.49 1561.9 Q1392.7 1563.14 1396.36 1563.14 L1402.38 1563.14 L1402.38 1568.04 L1396.36 1568.04 Q1389.58 1568.04 1387.01 1565.53 Q1384.43 1562.98 1384.43 1556.3 L1384.43 1536.95 L1380.13 1536.95 L1380.13 1532.4 L1384.43 1532.4 L1384.43 1522.27 L1390.32 1522.27 Z\" fill=\"#000000\" fill-rule=\"evenodd\" fill-opacity=\"1\" /><path clip-path=\"url(#clip650)\" d=\"M1424.91 1571.35 Q1422.43 1577.72 1420.08 1579.66 Q1417.72 1581.6 1413.77 1581.6 L1409.1 1581.6 L1409.1 1576.7 L1412.53 1576.7 Q1414.95 1576.7 1416.29 1575.56 Q1417.63 1574.41 1419.25 1570.14 L1420.3 1567.47 L1405.88 1532.4 L1412.09 1532.4 L1423.23 1560.28 L1434.37 1532.4 L1440.57 1532.4 L1424.91 1571.35 Z\" fill=\"#000000\" fill-rule=\"evenodd\" fill-opacity=\"1\" /><polyline clip-path=\"url(#clip652)\" style=\"stroke:#000000; stroke-linecap:butt; stroke-linejoin:round; stroke-width:2; stroke-opacity:0.1; fill:none\" points=\"\n",
       "  175.445,1423.18 2352.76,1423.18 \n",
       "  \"/>\n",
       "<polyline clip-path=\"url(#clip652)\" style=\"stroke:#000000; stroke-linecap:butt; stroke-linejoin:round; stroke-width:2; stroke-opacity:0.1; fill:none\" points=\"\n",
       "  175.445,1117.37 2352.76,1117.37 \n",
       "  \"/>\n",
       "<polyline clip-path=\"url(#clip652)\" style=\"stroke:#000000; stroke-linecap:butt; stroke-linejoin:round; stroke-width:2; stroke-opacity:0.1; fill:none\" points=\"\n",
       "  175.445,811.553 2352.76,811.553 \n",
       "  \"/>\n",
       "<polyline clip-path=\"url(#clip652)\" style=\"stroke:#000000; stroke-linecap:butt; stroke-linejoin:round; stroke-width:2; stroke-opacity:0.1; fill:none\" points=\"\n",
       "  175.445,505.739 2352.76,505.739 \n",
       "  \"/>\n",
       "<polyline clip-path=\"url(#clip652)\" style=\"stroke:#000000; stroke-linecap:butt; stroke-linejoin:round; stroke-width:2; stroke-opacity:0.1; fill:none\" points=\"\n",
       "  175.445,199.926 2352.76,199.926 \n",
       "  \"/>\n",
       "<polyline clip-path=\"url(#clip650)\" style=\"stroke:#000000; stroke-linecap:butt; stroke-linejoin:round; stroke-width:4; stroke-opacity:1; fill:none\" points=\"\n",
       "  175.445,1423.18 175.445,123.472 \n",
       "  \"/>\n",
       "<polyline clip-path=\"url(#clip650)\" style=\"stroke:#000000; stroke-linecap:butt; stroke-linejoin:round; stroke-width:4; stroke-opacity:1; fill:none\" points=\"\n",
       "  175.445,1423.18 194.343,1423.18 \n",
       "  \"/>\n",
       "<polyline clip-path=\"url(#clip650)\" style=\"stroke:#000000; stroke-linecap:butt; stroke-linejoin:round; stroke-width:4; stroke-opacity:1; fill:none\" points=\"\n",
       "  175.445,1117.37 194.343,1117.37 \n",
       "  \"/>\n",
       "<polyline clip-path=\"url(#clip650)\" style=\"stroke:#000000; stroke-linecap:butt; stroke-linejoin:round; stroke-width:4; stroke-opacity:1; fill:none\" points=\"\n",
       "  175.445,811.553 194.343,811.553 \n",
       "  \"/>\n",
       "<polyline clip-path=\"url(#clip650)\" style=\"stroke:#000000; stroke-linecap:butt; stroke-linejoin:round; stroke-width:4; stroke-opacity:1; fill:none\" points=\"\n",
       "  175.445,505.739 194.343,505.739 \n",
       "  \"/>\n",
       "<polyline clip-path=\"url(#clip650)\" style=\"stroke:#000000; stroke-linecap:butt; stroke-linejoin:round; stroke-width:4; stroke-opacity:1; fill:none\" points=\"\n",
       "  175.445,199.926 194.343,199.926 \n",
       "  \"/>\n",
       "<path clip-path=\"url(#clip650)\" d=\"M127.501 1408.98 Q123.89 1408.98 122.061 1412.54 Q120.255 1416.08 120.255 1423.21 Q120.255 1430.32 122.061 1433.89 Q123.89 1437.43 127.501 1437.43 Q131.135 1437.43 132.941 1433.89 Q134.769 1430.32 134.769 1423.21 Q134.769 1416.08 132.941 1412.54 Q131.135 1408.98 127.501 1408.98 M127.501 1405.27 Q133.311 1405.27 136.367 1409.88 Q139.445 1414.46 139.445 1423.21 Q139.445 1431.94 136.367 1436.55 Q133.311 1441.13 127.501 1441.13 Q121.691 1441.13 118.612 1436.55 Q115.556 1431.94 115.556 1423.21 Q115.556 1414.46 118.612 1409.88 Q121.691 1405.27 127.501 1405.27 Z\" fill=\"#000000\" fill-rule=\"evenodd\" fill-opacity=\"1\" /><path clip-path=\"url(#clip650)\" d=\"M123.126 1130.71 L139.445 1130.71 L139.445 1134.65 L117.501 1134.65 L117.501 1130.71 Q120.163 1127.96 124.746 1123.33 Q129.353 1118.67 130.533 1117.33 Q132.779 1114.81 133.658 1113.07 Q134.561 1111.31 134.561 1109.62 Q134.561 1106.87 132.617 1105.13 Q130.695 1103.4 127.593 1103.4 Q125.394 1103.4 122.941 1104.16 Q120.51 1104.92 117.732 1106.48 L117.732 1101.75 Q120.556 1100.62 123.01 1100.04 Q125.464 1099.46 127.501 1099.46 Q132.871 1099.46 136.066 1102.15 Q139.26 1104.83 139.26 1109.32 Q139.26 1111.45 138.45 1113.37 Q137.663 1115.27 135.556 1117.86 Q134.978 1118.54 131.876 1121.75 Q128.774 1124.95 123.126 1130.71 Z\" fill=\"#000000\" fill-rule=\"evenodd\" fill-opacity=\"1\" /><path clip-path=\"url(#clip650)\" d=\"M129.862 798.347 L118.056 816.796 L129.862 816.796 L129.862 798.347 M128.635 794.273 L134.515 794.273 L134.515 816.796 L139.445 816.796 L139.445 820.685 L134.515 820.685 L134.515 828.833 L129.862 828.833 L129.862 820.685 L114.26 820.685 L114.26 816.171 L128.635 794.273 Z\" fill=\"#000000\" fill-rule=\"evenodd\" fill-opacity=\"1\" /><path clip-path=\"url(#clip650)\" d=\"M127.917 503.876 Q124.769 503.876 122.918 506.028 Q121.089 508.181 121.089 511.931 Q121.089 515.658 122.918 517.834 Q124.769 519.987 127.917 519.987 Q131.066 519.987 132.894 517.834 Q134.746 515.658 134.746 511.931 Q134.746 508.181 132.894 506.028 Q131.066 503.876 127.917 503.876 M137.2 489.223 L137.2 493.482 Q135.441 492.649 133.635 492.209 Q131.853 491.769 130.093 491.769 Q125.464 491.769 123.01 494.894 Q120.58 498.019 120.232 504.339 Q121.598 502.325 123.658 501.26 Q125.718 500.172 128.195 500.172 Q133.404 500.172 136.413 503.343 Q139.445 506.491 139.445 511.931 Q139.445 517.255 136.297 520.473 Q133.149 523.69 127.917 523.69 Q121.922 523.69 118.751 519.107 Q115.58 514.501 115.58 505.774 Q115.58 497.579 119.468 492.718 Q123.357 487.834 129.908 487.834 Q131.667 487.834 133.45 488.181 Q135.255 488.529 137.2 489.223 Z\" fill=\"#000000\" fill-rule=\"evenodd\" fill-opacity=\"1\" /><path clip-path=\"url(#clip650)\" d=\"M127.593 200.794 Q124.26 200.794 122.339 202.576 Q120.441 204.358 120.441 207.483 Q120.441 210.608 122.339 212.391 Q124.26 214.173 127.593 214.173 Q130.927 214.173 132.848 212.391 Q134.769 210.585 134.769 207.483 Q134.769 204.358 132.848 202.576 Q130.95 200.794 127.593 200.794 M122.918 198.803 Q119.908 198.062 118.218 196.002 Q116.552 193.942 116.552 190.979 Q116.552 186.835 119.492 184.428 Q122.455 182.021 127.593 182.021 Q132.755 182.021 135.695 184.428 Q138.635 186.835 138.635 190.979 Q138.635 193.942 136.945 196.002 Q135.279 198.062 132.292 198.803 Q135.672 199.59 137.547 201.882 Q139.445 204.173 139.445 207.483 Q139.445 212.506 136.367 215.192 Q133.311 217.877 127.593 217.877 Q121.876 217.877 118.797 215.192 Q115.742 212.506 115.742 207.483 Q115.742 204.173 117.64 201.882 Q119.538 199.59 122.918 198.803 M121.205 191.419 Q121.205 194.104 122.871 195.608 Q124.561 197.113 127.593 197.113 Q130.603 197.113 132.292 195.608 Q134.005 194.104 134.005 191.419 Q134.005 188.733 132.292 187.229 Q130.603 185.724 127.593 185.724 Q124.561 185.724 122.871 187.229 Q121.205 188.733 121.205 191.419 Z\" fill=\"#000000\" fill-rule=\"evenodd\" fill-opacity=\"1\" /><path clip-path=\"url(#clip650)\" d=\"M35.3266 960.462 L35.3266 969.724 L45.9574 972.398 L45.9574 963.072 L35.3266 960.462 M17.2162 965.236 L30.4251 968.546 L30.4251 959.252 L17.2162 955.91 L17.2162 950.818 L30.4251 954.096 L30.4251 944.166 L35.3266 944.166 L35.3266 955.337 L45.9574 957.947 L45.9574 947.826 L50.8271 947.826 L50.8271 959.189 L64.0042 962.499 L64.0042 967.591 L50.8271 964.313 L50.8271 973.639 L64.0042 976.917 L64.0042 982.042 L50.8271 978.731 L50.8271 988.757 L45.9574 988.757 L45.9574 977.554 L35.3266 974.88 L35.3266 985.129 L30.4251 985.129 L30.4251 973.639 L17.2162 970.392 L17.2162 965.236 Z\" fill=\"#000000\" fill-rule=\"evenodd\" fill-opacity=\"1\" /><path clip-path=\"url(#clip650)\" d=\"M32.4621 898.492 Q32.4621 903.202 36.1542 905.94 Q39.8145 908.677 46.212 908.677 Q52.6095 908.677 56.3017 905.971 Q59.9619 903.234 59.9619 898.492 Q59.9619 893.813 56.2698 891.076 Q52.5777 888.338 46.212 888.338 Q39.8781 888.338 36.186 891.076 Q32.4621 893.813 32.4621 898.492 M27.4968 898.492 Q27.4968 890.853 32.4621 886.492 Q37.4273 882.132 46.212 882.132 Q54.9649 882.132 59.9619 886.492 Q64.9272 890.853 64.9272 898.492 Q64.9272 906.162 59.9619 910.523 Q54.9649 914.852 46.212 914.852 Q37.4273 914.852 32.4621 910.523 Q27.4968 906.162 27.4968 898.492 Z\" fill=\"#000000\" fill-rule=\"evenodd\" fill-opacity=\"1\" /><path clip-path=\"url(#clip650)\" d=\"M14.479 854.377 L19.3487 854.377 L19.3487 859.979 Q19.3487 863.13 20.6219 864.372 Q21.895 865.581 25.2052 865.581 L28.3562 865.581 L28.3562 855.937 L32.9077 855.937 L32.9077 865.581 L64.0042 865.581 L64.0042 871.469 L32.9077 871.469 L32.9077 877.071 L28.3562 877.071 L28.3562 871.469 L25.8736 871.469 Q19.9216 871.469 17.2162 868.7 Q14.479 865.931 14.479 859.916 L14.479 854.377 Z\" fill=\"#000000\" fill-rule=\"evenodd\" fill-opacity=\"1\" /><path clip-path=\"url(#clip650)\" d=\"M29.7248 803.102 L35.1993 803.102 Q33.8307 805.584 33.1623 808.099 Q32.4621 810.581 32.4621 813.128 Q32.4621 818.825 36.0905 821.976 Q39.6872 825.127 46.212 825.127 Q52.7369 825.127 56.3653 821.976 Q59.9619 818.825 59.9619 813.128 Q59.9619 810.581 59.2935 808.099 Q58.5933 805.584 57.2247 803.102 L62.6355 803.102 Q63.7814 805.552 64.3543 808.194 Q64.9272 810.804 64.9272 813.764 Q64.9272 821.817 59.8664 826.559 Q54.8057 831.302 46.212 831.302 Q37.491 831.302 32.4939 826.527 Q27.4968 821.721 27.4968 813.382 Q27.4968 810.677 28.0697 808.099 Q28.6108 805.521 29.7248 803.102 Z\" fill=\"#000000\" fill-rule=\"evenodd\" fill-opacity=\"1\" /><path clip-path=\"url(#clip650)\" d=\"M49.9359 793.521 L28.3562 793.521 L28.3562 787.665 L49.7131 787.665 Q54.7739 787.665 57.3202 785.691 Q59.8346 783.718 59.8346 779.771 Q59.8346 775.029 56.8109 772.292 Q53.7872 769.522 48.5673 769.522 L28.3562 769.522 L28.3562 763.666 L64.0042 763.666 L64.0042 769.522 L58.5296 769.522 Q61.7762 771.655 63.3676 774.488 Q64.9272 777.289 64.9272 781.013 Q64.9272 787.155 61.1078 790.338 Q57.2883 793.521 49.9359 793.521 M27.4968 778.785 L27.4968 778.785 Z\" fill=\"#000000\" fill-rule=\"evenodd\" fill-opacity=\"1\" /><path clip-path=\"url(#clip650)\" d=\"M33.8307 730.946 Q33.2578 731.933 33.0032 733.111 Q32.7167 734.256 32.7167 735.657 Q32.7167 740.622 35.9632 743.296 Q39.1779 745.938 45.2253 745.938 L64.0042 745.938 L64.0042 751.826 L28.3562 751.826 L28.3562 745.938 L33.8944 745.938 Q30.6479 744.091 29.0883 741.131 Q27.4968 738.171 27.4968 733.938 Q27.4968 733.333 27.5923 732.601 Q27.656 731.869 27.8151 730.978 L33.8307 730.946 Z\" fill=\"#000000\" fill-rule=\"evenodd\" fill-opacity=\"1\" /><path clip-path=\"url(#clip650)\" d=\"M33.8307 705.292 Q33.2578 706.279 33.0032 707.457 Q32.7167 708.603 32.7167 710.003 Q32.7167 714.968 35.9632 717.642 Q39.1779 720.284 45.2253 720.284 L64.0042 720.284 L64.0042 726.172 L28.3562 726.172 L28.3562 720.284 L33.8944 720.284 Q30.6479 718.438 29.0883 715.478 Q27.4968 712.518 27.4968 708.284 Q27.4968 707.68 27.5923 706.948 Q27.656 706.216 27.8151 705.324 L33.8307 705.292 Z\" fill=\"#000000\" fill-rule=\"evenodd\" fill-opacity=\"1\" /><path clip-path=\"url(#clip650)\" d=\"M28.3562 699.15 L28.3562 693.293 L64.0042 693.293 L64.0042 699.15 L28.3562 699.15 M14.479 699.15 L14.479 693.293 L21.895 693.293 L21.895 699.15 L14.479 699.15 Z\" fill=\"#000000\" fill-rule=\"evenodd\" fill-opacity=\"1\" /><path clip-path=\"url(#clip650)\" d=\"M29.7248 655.385 L35.1993 655.385 Q33.8307 657.868 33.1623 660.382 Q32.4621 662.865 32.4621 665.411 Q32.4621 671.109 36.0905 674.26 Q39.6872 677.411 46.212 677.411 Q52.7369 677.411 56.3653 674.26 Q59.9619 671.109 59.9619 665.411 Q59.9619 662.865 59.2935 660.382 Q58.5933 657.868 57.2247 655.385 L62.6355 655.385 Q63.7814 657.836 64.3543 660.478 Q64.9272 663.088 64.9272 666.048 Q64.9272 674.101 59.8664 678.843 Q54.8057 683.585 46.212 683.585 Q37.491 683.585 32.4939 678.811 Q27.4968 674.005 27.4968 665.666 Q27.4968 662.961 28.0697 660.382 Q28.6108 657.804 29.7248 655.385 Z\" fill=\"#000000\" fill-rule=\"evenodd\" fill-opacity=\"1\" /><path clip-path=\"url(#clip650)\" d=\"M49.9359 645.805 L28.3562 645.805 L28.3562 639.949 L49.7131 639.949 Q54.7739 639.949 57.3202 637.975 Q59.8346 636.002 59.8346 632.055 Q59.8346 627.313 56.8109 624.575 Q53.7872 621.806 48.5673 621.806 L28.3562 621.806 L28.3562 615.95 L64.0042 615.95 L64.0042 621.806 L58.5296 621.806 Q61.7762 623.939 63.3676 626.772 Q64.9272 629.572 64.9272 633.296 Q64.9272 639.439 61.1078 642.622 Q57.2883 645.805 49.9359 645.805 M27.4968 631.068 L27.4968 631.068 Z\" fill=\"#000000\" fill-rule=\"evenodd\" fill-opacity=\"1\" /><path clip-path=\"url(#clip650)\" d=\"M14.479 603.887 L14.479 598.03 L64.0042 598.03 L64.0042 603.887 L14.479 603.887 Z\" fill=\"#000000\" fill-rule=\"evenodd\" fill-opacity=\"1\" /><path clip-path=\"url(#clip650)\" d=\"M46.0847 569.576 Q46.0847 576.673 47.7079 579.411 Q49.3312 582.148 53.2461 582.148 Q56.3653 582.148 58.2114 580.111 Q60.0256 578.042 60.0256 574.509 Q60.0256 569.639 56.5881 566.711 Q53.1188 563.751 47.3897 563.751 L46.0847 563.751 L46.0847 569.576 M43.6657 557.895 L64.0042 557.895 L64.0042 563.751 L58.5933 563.751 Q61.8398 565.756 63.3994 568.748 Q64.9272 571.74 64.9272 576.069 Q64.9272 581.543 61.8716 584.79 Q58.7843 588.004 53.6281 588.004 Q47.6125 588.004 44.5569 583.994 Q41.5014 579.952 41.5014 571.963 L41.5014 563.751 L40.9285 563.751 Q36.8862 563.751 34.6901 566.425 Q32.4621 569.066 32.4621 573.872 Q32.4621 576.928 33.1941 579.824 Q33.9262 582.721 35.3903 585.394 L29.9795 585.394 Q28.7381 582.18 28.1334 579.156 Q27.4968 576.132 27.4968 573.268 Q27.4968 565.533 31.5072 561.714 Q35.5176 557.895 43.6657 557.895 Z\" fill=\"#000000\" fill-rule=\"evenodd\" fill-opacity=\"1\" /><path clip-path=\"url(#clip650)\" d=\"M652.88 16.7545 L652.88 25.383 Q648.748 21.5346 644.049 19.6307 Q639.39 17.7268 634.124 17.7268 Q623.754 17.7268 618.245 24.0867 Q612.735 30.4061 612.735 42.3968 Q612.735 54.3469 618.245 60.7069 Q623.754 67.0263 634.124 67.0263 Q639.39 67.0263 644.049 65.1223 Q648.748 63.2184 652.88 59.3701 L652.88 67.9175 Q648.586 70.8341 643.765 72.2924 Q638.985 73.7508 633.638 73.7508 Q619.906 73.7508 612.006 65.3654 Q604.107 56.9395 604.107 42.3968 Q604.107 27.8135 612.006 19.4281 Q619.906 11.0023 633.638 11.0023 Q639.066 11.0023 643.846 12.4606 Q648.667 13.8784 652.88 16.7545 Z\" fill=\"#000000\" fill-rule=\"evenodd\" fill-opacity=\"1\" /><path clip-path=\"url(#clip650)\" d=\"M702.909 45.1919 L702.909 72.576 L695.455 72.576 L695.455 45.4349 Q695.455 38.994 692.943 35.7938 Q690.432 32.5936 685.409 32.5936 Q679.373 32.5936 675.889 36.4419 Q672.405 40.2903 672.405 46.9338 L672.405 72.576 L664.911 72.576 L664.911 9.54393 L672.405 9.54393 L672.405 34.2544 Q675.079 30.163 678.684 28.1376 Q682.33 26.1121 687.07 26.1121 Q694.888 26.1121 698.898 30.9732 Q702.909 35.7938 702.909 45.1919 Z\" fill=\"#000000\" fill-rule=\"evenodd\" fill-opacity=\"1\" /><path clip-path=\"url(#clip650)\" d=\"M756.583 48.0275 L756.583 51.6733 L722.312 51.6733 Q722.798 59.3701 726.93 63.421 Q731.103 67.4314 738.516 67.4314 Q742.81 67.4314 746.82 66.3781 Q750.871 65.3249 754.841 63.2184 L754.841 70.267 Q750.831 71.9684 746.618 72.8596 Q742.405 73.7508 738.07 73.7508 Q727.214 73.7508 720.854 67.4314 Q714.535 61.1119 714.535 50.3365 Q714.535 39.1965 720.53 32.6746 Q726.566 26.1121 736.774 26.1121 Q745.929 26.1121 751.236 32.0264 Q756.583 37.9003 756.583 48.0275 M749.129 45.84 Q749.048 39.7232 745.686 36.0774 Q742.364 32.4315 736.855 32.4315 Q730.617 32.4315 726.849 35.9558 Q723.123 39.4801 722.555 45.8805 L749.129 45.84 Z\" fill=\"#000000\" fill-rule=\"evenodd\" fill-opacity=\"1\" /><path clip-path=\"url(#clip650)\" d=\"M804.141 35.9153 Q806.936 30.8922 810.825 28.5022 Q814.713 26.1121 819.98 26.1121 Q827.069 26.1121 830.917 31.0947 Q834.765 36.0368 834.765 45.1919 L834.765 72.576 L827.271 72.576 L827.271 45.4349 Q827.271 38.913 824.962 35.7533 Q822.653 32.5936 817.914 32.5936 Q812.121 32.5936 808.759 36.4419 Q805.396 40.2903 805.396 46.9338 L805.396 72.576 L797.902 72.576 L797.902 45.4349 Q797.902 38.8725 795.593 35.7533 Q793.284 32.5936 788.464 32.5936 Q782.752 32.5936 779.39 36.4824 Q776.027 40.3308 776.027 46.9338 L776.027 72.576 L768.533 72.576 L768.533 27.2059 L776.027 27.2059 L776.027 34.2544 Q778.579 30.082 782.144 28.0971 Q785.709 26.1121 790.611 26.1121 Q795.553 26.1121 798.996 28.6237 Q802.48 31.1352 804.141 35.9153 Z\" fill=\"#000000\" fill-rule=\"evenodd\" fill-opacity=\"1\" /><path clip-path=\"url(#clip650)\" d=\"M849.632 27.2059 L857.086 27.2059 L857.086 72.576 L849.632 72.576 L849.632 27.2059 M849.632 9.54393 L857.086 9.54393 L857.086 18.9825 L849.632 18.9825 L849.632 9.54393 Z\" fill=\"#000000\" fill-rule=\"evenodd\" fill-opacity=\"1\" /><path clip-path=\"url(#clip650)\" d=\"M905.332 28.9478 L905.332 35.9153 Q902.173 34.1734 898.972 33.3227 Q895.813 32.4315 892.572 32.4315 Q885.321 32.4315 881.31 37.0496 Q877.3 41.6271 877.3 49.9314 Q877.3 58.2358 881.31 62.8538 Q885.321 67.4314 892.572 67.4314 Q895.813 67.4314 898.972 66.5807 Q902.173 65.6895 905.332 63.9476 L905.332 70.8341 Q902.213 72.2924 898.851 73.0216 Q895.529 73.7508 891.762 73.7508 Q881.513 73.7508 875.477 67.3098 Q869.441 60.8689 869.441 49.9314 Q869.441 38.832 875.518 32.472 Q881.634 26.1121 892.248 26.1121 Q895.691 26.1121 898.972 26.8413 Q902.254 27.5299 905.332 28.9478 Z\" fill=\"#000000\" fill-rule=\"evenodd\" fill-opacity=\"1\" /><path clip-path=\"url(#clip650)\" d=\"M938.914 49.7694 Q929.881 49.7694 926.397 51.8354 Q922.913 53.9013 922.913 58.8839 Q922.913 62.8538 925.506 65.2034 Q928.139 67.5124 932.635 67.5124 Q938.833 67.5124 942.56 63.1374 Q946.327 58.7219 946.327 51.4303 L946.327 49.7694 L938.914 49.7694 M953.781 46.6907 L953.781 72.576 L946.327 72.576 L946.327 65.6895 Q943.775 69.8214 939.967 71.8063 Q936.16 73.7508 930.65 73.7508 Q923.683 73.7508 919.551 69.8619 Q915.459 65.9325 915.459 59.3701 Q915.459 51.7138 920.564 47.825 Q925.708 43.9361 935.876 43.9361 L946.327 43.9361 L946.327 43.2069 Q946.327 38.0623 942.925 35.2672 Q939.562 32.4315 933.445 32.4315 Q929.557 32.4315 925.87 33.3632 Q922.184 34.295 918.781 36.1584 L918.781 29.2718 Q922.873 27.692 926.721 26.9223 Q930.569 26.1121 934.215 26.1121 Q944.059 26.1121 948.92 31.2163 Q953.781 36.3204 953.781 46.6907 Z\" fill=\"#000000\" fill-rule=\"evenodd\" fill-opacity=\"1\" /><path clip-path=\"url(#clip650)\" d=\"M969.134 9.54393 L976.588 9.54393 L976.588 72.576 L969.134 72.576 L969.134 9.54393 Z\" fill=\"#000000\" fill-rule=\"evenodd\" fill-opacity=\"1\" /><path clip-path=\"url(#clip650)\" d=\"M1018.88 12.096 L1057.12 12.096 L1057.12 18.9825 L1027.06 18.9825 L1027.06 36.8875 L1055.86 36.8875 L1055.86 43.7741 L1027.06 43.7741 L1027.06 65.6895 L1057.85 65.6895 L1057.85 72.576 L1018.88 72.576 L1018.88 12.096 Z\" fill=\"#000000\" fill-rule=\"evenodd\" fill-opacity=\"1\" /><path clip-path=\"url(#clip650)\" d=\"M1108.69 45.1919 L1108.69 72.576 L1101.23 72.576 L1101.23 45.4349 Q1101.23 38.994 1098.72 35.7938 Q1096.21 32.5936 1091.19 32.5936 Q1085.15 32.5936 1081.67 36.4419 Q1078.18 40.2903 1078.18 46.9338 L1078.18 72.576 L1070.69 72.576 L1070.69 27.2059 L1078.18 27.2059 L1078.18 34.2544 Q1080.86 30.163 1084.46 28.1376 Q1088.11 26.1121 1092.85 26.1121 Q1100.67 26.1121 1104.68 30.9732 Q1108.69 35.7938 1108.69 45.1919 Z\" fill=\"#000000\" fill-rule=\"evenodd\" fill-opacity=\"1\" /><path clip-path=\"url(#clip650)\" d=\"M1153.41 49.3643 Q1153.41 41.2625 1150.05 36.8065 Q1146.73 32.3505 1140.69 32.3505 Q1134.69 32.3505 1131.33 36.8065 Q1128.01 41.2625 1128.01 49.3643 Q1128.01 57.4256 1131.33 61.8816 Q1134.69 66.3376 1140.69 66.3376 Q1146.73 66.3376 1150.05 61.8816 Q1153.41 57.4256 1153.41 49.3643 M1160.86 66.9452 Q1160.86 78.5308 1155.72 84.1616 Q1150.57 89.8329 1139.96 89.8329 Q1136.03 89.8329 1132.55 89.2252 Q1129.06 88.6581 1125.78 87.4428 L1125.78 80.1917 Q1129.06 81.9741 1132.26 82.8248 Q1135.46 83.6755 1138.79 83.6755 Q1146.12 83.6755 1149.76 79.8271 Q1153.41 76.0193 1153.41 68.282 L1153.41 64.5957 Q1151.1 68.6061 1147.5 70.5911 Q1143.89 72.576 1138.87 72.576 Q1130.52 72.576 1125.42 66.2161 Q1120.31 59.8562 1120.31 49.3643 Q1120.31 38.832 1125.42 32.472 Q1130.52 26.1121 1138.87 26.1121 Q1143.89 26.1121 1147.5 28.0971 Q1151.1 30.082 1153.41 34.0924 L1153.41 27.2059 L1160.86 27.2059 L1160.86 66.9452 Z\" fill=\"#000000\" fill-rule=\"evenodd\" fill-opacity=\"1\" /><path clip-path=\"url(#clip650)\" d=\"M1176.22 27.2059 L1183.67 27.2059 L1183.67 72.576 L1176.22 72.576 L1176.22 27.2059 M1176.22 9.54393 L1183.67 9.54393 L1183.67 18.9825 L1176.22 18.9825 L1176.22 9.54393 Z\" fill=\"#000000\" fill-rule=\"evenodd\" fill-opacity=\"1\" /><path clip-path=\"url(#clip650)\" d=\"M1236.98 45.1919 L1236.98 72.576 L1229.53 72.576 L1229.53 45.4349 Q1229.53 38.994 1227.01 35.7938 Q1224.5 32.5936 1219.48 32.5936 Q1213.44 32.5936 1209.96 36.4419 Q1206.48 40.2903 1206.48 46.9338 L1206.48 72.576 L1198.98 72.576 L1198.98 27.2059 L1206.48 27.2059 L1206.48 34.2544 Q1209.15 30.163 1212.76 28.1376 Q1216.4 26.1121 1221.14 26.1121 Q1228.96 26.1121 1232.97 30.9732 Q1236.98 35.7938 1236.98 45.1919 Z\" fill=\"#000000\" fill-rule=\"evenodd\" fill-opacity=\"1\" /><path clip-path=\"url(#clip650)\" d=\"M1290.65 48.0275 L1290.65 51.6733 L1256.38 51.6733 Q1256.87 59.3701 1261 63.421 Q1265.17 67.4314 1272.59 67.4314 Q1276.88 67.4314 1280.89 66.3781 Q1284.94 65.3249 1288.91 63.2184 L1288.91 70.267 Q1284.9 71.9684 1280.69 72.8596 Q1276.48 73.7508 1272.14 73.7508 Q1261.29 73.7508 1254.93 67.4314 Q1248.61 61.1119 1248.61 50.3365 Q1248.61 39.1965 1254.6 32.6746 Q1260.64 26.1121 1270.85 26.1121 Q1280 26.1121 1285.31 32.0264 Q1290.65 37.9003 1290.65 48.0275 M1283.2 45.84 Q1283.12 39.7232 1279.76 36.0774 Q1276.44 32.4315 1270.93 32.4315 Q1264.69 32.4315 1260.92 35.9558 Q1257.19 39.4801 1256.63 45.8805 L1283.2 45.84 Z\" fill=\"#000000\" fill-rule=\"evenodd\" fill-opacity=\"1\" /><path clip-path=\"url(#clip650)\" d=\"M1341.7 48.0275 L1341.7 51.6733 L1307.42 51.6733 Q1307.91 59.3701 1312.04 63.421 Q1316.22 67.4314 1323.63 67.4314 Q1327.92 67.4314 1331.93 66.3781 Q1335.98 65.3249 1339.95 63.2184 L1339.95 70.267 Q1335.94 71.9684 1331.73 72.8596 Q1327.52 73.7508 1323.18 73.7508 Q1312.33 73.7508 1305.97 67.4314 Q1299.65 61.1119 1299.65 50.3365 Q1299.65 39.1965 1305.64 32.6746 Q1311.68 26.1121 1321.89 26.1121 Q1331.04 26.1121 1336.35 32.0264 Q1341.7 37.9003 1341.7 48.0275 M1334.24 45.84 Q1334.16 39.7232 1330.8 36.0774 Q1327.48 32.4315 1321.97 32.4315 Q1315.73 32.4315 1311.96 35.9558 Q1308.24 39.4801 1307.67 45.8805 L1334.24 45.84 Z\" fill=\"#000000\" fill-rule=\"evenodd\" fill-opacity=\"1\" /><path clip-path=\"url(#clip650)\" d=\"M1380.22 34.1734 Q1378.96 33.4443 1377.47 33.1202 Q1376.01 32.7556 1374.22 32.7556 Q1367.9 32.7556 1364.5 36.8875 Q1361.14 40.9789 1361.14 48.6757 L1361.14 72.576 L1353.65 72.576 L1353.65 27.2059 L1361.14 27.2059 L1361.14 34.2544 Q1363.49 30.1225 1367.26 28.1376 Q1371.02 26.1121 1376.41 26.1121 Q1377.18 26.1121 1378.11 26.2337 Q1379.04 26.3147 1380.18 26.5172 L1380.22 34.1734 Z\" fill=\"#000000\" fill-rule=\"evenodd\" fill-opacity=\"1\" /><path clip-path=\"url(#clip650)\" d=\"M1388.04 27.2059 L1395.49 27.2059 L1395.49 72.576 L1388.04 72.576 L1388.04 27.2059 M1388.04 9.54393 L1395.49 9.54393 L1395.49 18.9825 L1388.04 18.9825 L1388.04 9.54393 Z\" fill=\"#000000\" fill-rule=\"evenodd\" fill-opacity=\"1\" /><path clip-path=\"url(#clip650)\" d=\"M1448.8 45.1919 L1448.8 72.576 L1441.35 72.576 L1441.35 45.4349 Q1441.35 38.994 1438.84 35.7938 Q1436.32 32.5936 1431.3 32.5936 Q1425.27 32.5936 1421.78 36.4419 Q1418.3 40.2903 1418.3 46.9338 L1418.3 72.576 L1410.8 72.576 L1410.8 27.2059 L1418.3 27.2059 L1418.3 34.2544 Q1420.97 30.163 1424.58 28.1376 Q1428.22 26.1121 1432.96 26.1121 Q1440.78 26.1121 1444.79 30.9732 Q1448.8 35.7938 1448.8 45.1919 Z\" fill=\"#000000\" fill-rule=\"evenodd\" fill-opacity=\"1\" /><path clip-path=\"url(#clip650)\" d=\"M1493.52 49.3643 Q1493.52 41.2625 1490.16 36.8065 Q1486.84 32.3505 1480.8 32.3505 Q1474.81 32.3505 1471.45 36.8065 Q1468.12 41.2625 1468.12 49.3643 Q1468.12 57.4256 1471.45 61.8816 Q1474.81 66.3376 1480.8 66.3376 Q1486.84 66.3376 1490.16 61.8816 Q1493.52 57.4256 1493.52 49.3643 M1500.98 66.9452 Q1500.98 78.5308 1495.83 84.1616 Q1490.69 89.8329 1480.07 89.8329 Q1476.15 89.8329 1472.66 89.2252 Q1469.18 88.6581 1465.9 87.4428 L1465.9 80.1917 Q1469.18 81.9741 1472.38 82.8248 Q1475.58 83.6755 1478.9 83.6755 Q1486.23 83.6755 1489.88 79.8271 Q1493.52 76.0193 1493.52 68.282 L1493.52 64.5957 Q1491.21 68.6061 1487.61 70.5911 Q1484 72.576 1478.98 72.576 Q1470.64 72.576 1465.53 66.2161 Q1460.43 59.8562 1460.43 49.3643 Q1460.43 38.832 1465.53 32.472 Q1470.64 26.1121 1478.98 26.1121 Q1484 26.1121 1487.61 28.0971 Q1491.21 30.082 1493.52 34.0924 L1493.52 27.2059 L1500.98 27.2059 L1500.98 66.9452 Z\" fill=\"#000000\" fill-rule=\"evenodd\" fill-opacity=\"1\" /><path clip-path=\"url(#clip650)\" d=\"M1551.21 18.8205 L1551.21 41.5461 L1561.5 41.5461 Q1567.21 41.5461 1570.33 38.5889 Q1573.45 35.6318 1573.45 30.163 Q1573.45 24.7348 1570.33 21.7777 Q1567.21 18.8205 1561.5 18.8205 L1551.21 18.8205 M1543.03 12.096 L1561.5 12.096 Q1571.67 12.096 1576.85 16.714 Q1582.08 21.2916 1582.08 30.163 Q1582.08 39.1155 1576.85 43.6931 Q1571.67 48.2706 1561.5 48.2706 L1551.21 48.2706 L1551.21 72.576 L1543.03 72.576 L1543.03 12.096 Z\" fill=\"#000000\" fill-rule=\"evenodd\" fill-opacity=\"1\" /><path clip-path=\"url(#clip650)\" d=\"M1617.56 34.1734 Q1616.31 33.4443 1614.81 33.1202 Q1613.35 32.7556 1611.57 32.7556 Q1605.25 32.7556 1601.84 36.8875 Q1598.48 40.9789 1598.48 48.6757 L1598.48 72.576 L1590.99 72.576 L1590.99 27.2059 L1598.48 27.2059 L1598.48 34.2544 Q1600.83 30.1225 1604.6 28.1376 Q1608.37 26.1121 1613.75 26.1121 Q1614.52 26.1121 1615.46 26.2337 Q1616.39 26.3147 1617.52 26.5172 L1617.56 34.1734 Z\" fill=\"#000000\" fill-rule=\"evenodd\" fill-opacity=\"1\" /><path clip-path=\"url(#clip650)\" d=\"M1641.14 32.4315 Q1635.14 32.4315 1631.66 37.1306 Q1628.18 41.7891 1628.18 49.9314 Q1628.18 58.0738 1631.62 62.7728 Q1635.1 67.4314 1641.14 67.4314 Q1647.09 67.4314 1650.58 62.7323 Q1654.06 58.0333 1654.06 49.9314 Q1654.06 41.8701 1650.58 37.1711 Q1647.09 32.4315 1641.14 32.4315 M1641.14 26.1121 Q1650.86 26.1121 1656.41 32.4315 Q1661.96 38.7509 1661.96 49.9314 Q1661.96 61.0714 1656.41 67.4314 Q1650.86 73.7508 1641.14 73.7508 Q1631.38 73.7508 1625.83 67.4314 Q1620.32 61.0714 1620.32 49.9314 Q1620.32 38.7509 1625.83 32.4315 Q1631.38 26.1121 1641.14 26.1121 Z\" fill=\"#000000\" fill-rule=\"evenodd\" fill-opacity=\"1\" /><path clip-path=\"url(#clip650)\" d=\"M1704.17 49.3643 Q1704.17 41.2625 1700.81 36.8065 Q1697.49 32.3505 1691.45 32.3505 Q1685.46 32.3505 1682.09 36.8065 Q1678.77 41.2625 1678.77 49.3643 Q1678.77 57.4256 1682.09 61.8816 Q1685.46 66.3376 1691.45 66.3376 Q1697.49 66.3376 1700.81 61.8816 Q1704.17 57.4256 1704.17 49.3643 M1711.62 66.9452 Q1711.62 78.5308 1706.48 84.1616 Q1701.33 89.8329 1690.72 89.8329 Q1686.79 89.8329 1683.31 89.2252 Q1679.82 88.6581 1676.54 87.4428 L1676.54 80.1917 Q1679.82 81.9741 1683.02 82.8248 Q1686.23 83.6755 1689.55 83.6755 Q1696.88 83.6755 1700.52 79.8271 Q1704.17 76.0193 1704.17 68.282 L1704.17 64.5957 Q1701.86 68.6061 1698.26 70.5911 Q1694.65 72.576 1689.63 72.576 Q1681.28 72.576 1676.18 66.2161 Q1671.07 59.8562 1671.07 49.3643 Q1671.07 38.832 1676.18 32.472 Q1681.28 26.1121 1689.63 26.1121 Q1694.65 26.1121 1698.26 28.0971 Q1701.86 30.082 1704.17 34.0924 L1704.17 27.2059 L1711.62 27.2059 L1711.62 66.9452 Z\" fill=\"#000000\" fill-rule=\"evenodd\" fill-opacity=\"1\" /><path clip-path=\"url(#clip650)\" d=\"M1753.27 34.1734 Q1752.01 33.4443 1750.51 33.1202 Q1749.05 32.7556 1747.27 32.7556 Q1740.95 32.7556 1737.55 36.8875 Q1734.19 40.9789 1734.19 48.6757 L1734.19 72.576 L1726.69 72.576 L1726.69 27.2059 L1734.19 27.2059 L1734.19 34.2544 Q1736.54 30.1225 1740.3 28.1376 Q1744.07 26.1121 1749.46 26.1121 Q1750.23 26.1121 1751.16 26.2337 Q1752.09 26.3147 1753.23 26.5172 L1753.27 34.1734 Z\" fill=\"#000000\" fill-rule=\"evenodd\" fill-opacity=\"1\" /><path clip-path=\"url(#clip650)\" d=\"M1781.7 49.7694 Q1772.67 49.7694 1769.19 51.8354 Q1765.7 53.9013 1765.7 58.8839 Q1765.7 62.8538 1768.3 65.2034 Q1770.93 67.5124 1775.43 67.5124 Q1781.62 67.5124 1785.35 63.1374 Q1789.12 58.7219 1789.12 51.4303 L1789.12 49.7694 L1781.7 49.7694 M1796.57 46.6907 L1796.57 72.576 L1789.12 72.576 L1789.12 65.6895 Q1786.57 69.8214 1782.76 71.8063 Q1778.95 73.7508 1773.44 73.7508 Q1766.47 73.7508 1762.34 69.8619 Q1758.25 65.9325 1758.25 59.3701 Q1758.25 51.7138 1763.35 47.825 Q1768.5 43.9361 1778.67 43.9361 L1789.12 43.9361 L1789.12 43.2069 Q1789.12 38.0623 1785.72 35.2672 Q1782.35 32.4315 1776.24 32.4315 Q1772.35 32.4315 1768.66 33.3632 Q1764.97 34.295 1761.57 36.1584 L1761.57 29.2718 Q1765.66 27.692 1769.51 26.9223 Q1773.36 26.1121 1777.01 26.1121 Q1786.85 26.1121 1791.71 31.2163 Q1796.57 36.3204 1796.57 46.6907 Z\" fill=\"#000000\" fill-rule=\"evenodd\" fill-opacity=\"1\" /><path clip-path=\"url(#clip650)\" d=\"M1847.25 35.9153 Q1850.04 30.8922 1853.93 28.5022 Q1857.82 26.1121 1863.09 26.1121 Q1870.18 26.1121 1874.02 31.0947 Q1877.87 36.0368 1877.87 45.1919 L1877.87 72.576 L1870.38 72.576 L1870.38 45.4349 Q1870.38 38.913 1868.07 35.7533 Q1865.76 32.5936 1861.02 32.5936 Q1855.23 32.5936 1851.87 36.4419 Q1848.5 40.2903 1848.5 46.9338 L1848.5 72.576 L1841.01 72.576 L1841.01 45.4349 Q1841.01 38.8725 1838.7 35.7533 Q1836.39 32.5936 1831.57 32.5936 Q1825.86 32.5936 1822.5 36.4824 Q1819.14 40.3308 1819.14 46.9338 L1819.14 72.576 L1811.64 72.576 L1811.64 27.2059 L1819.14 27.2059 L1819.14 34.2544 Q1821.69 30.082 1825.25 28.0971 Q1828.82 26.1121 1833.72 26.1121 Q1838.66 26.1121 1842.1 28.6237 Q1845.59 31.1352 1847.25 35.9153 Z\" fill=\"#000000\" fill-rule=\"evenodd\" fill-opacity=\"1\" /><path clip-path=\"url(#clip650)\" d=\"M1921.66 28.5427 L1921.66 35.5912 Q1918.5 33.9709 1915.1 33.1607 Q1911.7 32.3505 1908.05 32.3505 Q1902.5 32.3505 1899.71 34.0519 Q1896.95 35.7533 1896.95 39.156 Q1896.95 41.7486 1898.94 43.2475 Q1900.92 44.7058 1906.92 46.0426 L1909.47 46.6097 Q1917.41 48.3111 1920.73 51.4303 Q1924.09 54.509 1924.09 60.0587 Q1924.09 66.3781 1919.07 70.0644 Q1914.09 73.7508 1905.34 73.7508 Q1901.69 73.7508 1897.72 73.0216 Q1893.79 72.3329 1889.42 70.9151 L1889.42 63.2184 Q1893.55 65.3654 1897.56 66.4591 Q1901.57 67.5124 1905.5 67.5124 Q1910.77 67.5124 1913.6 65.73 Q1916.44 63.9071 1916.44 60.6258 Q1916.44 57.5877 1914.37 55.9673 Q1912.35 54.3469 1905.42 52.8481 L1902.83 52.2405 Q1895.9 50.7821 1892.82 47.7845 Q1889.74 44.7463 1889.74 39.4801 Q1889.74 33.0797 1894.28 29.5959 Q1898.82 26.1121 1907.16 26.1121 Q1911.29 26.1121 1914.94 26.7198 Q1918.58 27.3274 1921.66 28.5427 Z\" fill=\"#000000\" fill-rule=\"evenodd\" fill-opacity=\"1\" /><path clip-path=\"url(#clip652)\" d=\"\n",
       "M659.292 964.459 L659.292 1423.18 L901.215 1423.18 L901.215 964.459 L659.292 964.459 L659.292 964.459  Z\n",
       "  \" fill=\"#1874cd\" fill-rule=\"evenodd\" fill-opacity=\"0.7\"/>\n",
       "<polyline clip-path=\"url(#clip652)\" style=\"stroke:#000000; stroke-linecap:butt; stroke-linejoin:round; stroke-width:4; stroke-opacity:0.7; fill:none\" points=\"\n",
       "  659.292,964.459 659.292,1423.18 901.215,1423.18 901.215,964.459 659.292,964.459 \n",
       "  \"/>\n",
       "<path clip-path=\"url(#clip652)\" d=\"\n",
       "M901.215 811.553 L901.215 1423.18 L1143.14 1423.18 L1143.14 811.553 L901.215 811.553 L901.215 811.553  Z\n",
       "  \" fill=\"#1874cd\" fill-rule=\"evenodd\" fill-opacity=\"0.7\"/>\n",
       "<polyline clip-path=\"url(#clip652)\" style=\"stroke:#000000; stroke-linecap:butt; stroke-linejoin:round; stroke-width:4; stroke-opacity:0.7; fill:none\" points=\"\n",
       "  901.215,811.553 901.215,1423.18 1143.14,1423.18 1143.14,811.553 901.215,811.553 \n",
       "  \"/>\n",
       "<path clip-path=\"url(#clip652)\" d=\"\n",
       "M1143.14 505.739 L1143.14 1423.18 L1385.06 1423.18 L1385.06 505.739 L1143.14 505.739 L1143.14 505.739  Z\n",
       "  \" fill=\"#1874cd\" fill-rule=\"evenodd\" fill-opacity=\"0.7\"/>\n",
       "<polyline clip-path=\"url(#clip652)\" style=\"stroke:#000000; stroke-linecap:butt; stroke-linejoin:round; stroke-width:4; stroke-opacity:0.7; fill:none\" points=\"\n",
       "  1143.14,505.739 1143.14,1423.18 1385.06,1423.18 1385.06,505.739 1143.14,505.739 \n",
       "  \"/>\n",
       "<path clip-path=\"url(#clip652)\" d=\"\n",
       "M1385.06 1117.37 L1385.06 1423.18 L1626.99 1423.18 L1626.99 1117.37 L1385.06 1117.37 L1385.06 1117.37  Z\n",
       "  \" fill=\"#1874cd\" fill-rule=\"evenodd\" fill-opacity=\"0.7\"/>\n",
       "<polyline clip-path=\"url(#clip652)\" style=\"stroke:#000000; stroke-linecap:butt; stroke-linejoin:round; stroke-width:4; stroke-opacity:0.7; fill:none\" points=\"\n",
       "  1385.06,1117.37 1385.06,1423.18 1626.99,1423.18 1626.99,1117.37 1385.06,1117.37 \n",
       "  \"/>\n",
       "<path clip-path=\"url(#clip652)\" d=\"\n",
       "M1626.99 1270.27 L1626.99 1423.18 L1868.91 1423.18 L1868.91 1270.27 L1626.99 1270.27 L1626.99 1270.27  Z\n",
       "  \" fill=\"#1874cd\" fill-rule=\"evenodd\" fill-opacity=\"0.7\"/>\n",
       "<polyline clip-path=\"url(#clip652)\" style=\"stroke:#000000; stroke-linecap:butt; stroke-linejoin:round; stroke-width:4; stroke-opacity:0.7; fill:none\" points=\"\n",
       "  1626.99,1270.27 1626.99,1423.18 1868.91,1423.18 1868.91,1270.27 1626.99,1270.27 \n",
       "  \"/>\n",
       "<path clip-path=\"url(#clip652)\" d=\"\n",
       "M1868.91 1270.27 L1868.91 1423.18 L2110.83 1423.18 L2110.83 1270.27 L1868.91 1270.27 L1868.91 1270.27  Z\n",
       "  \" fill=\"#1874cd\" fill-rule=\"evenodd\" fill-opacity=\"0.7\"/>\n",
       "<polyline clip-path=\"url(#clip652)\" style=\"stroke:#000000; stroke-linecap:butt; stroke-linejoin:round; stroke-width:4; stroke-opacity:0.7; fill:none\" points=\"\n",
       "  1868.91,1270.27 1868.91,1423.18 2110.83,1423.18 2110.83,1270.27 1868.91,1270.27 \n",
       "  \"/>\n",
       "<circle clip-path=\"url(#clip652)\" style=\"fill:#1874cd; stroke:none; fill-opacity:0\" cx=\"780.254\" cy=\"964.459\" r=\"2\"/>\n",
       "<circle clip-path=\"url(#clip652)\" style=\"fill:#1874cd; stroke:none; fill-opacity:0\" cx=\"1022.18\" cy=\"811.553\" r=\"2\"/>\n",
       "<circle clip-path=\"url(#clip652)\" style=\"fill:#1874cd; stroke:none; fill-opacity:0\" cx=\"1264.1\" cy=\"505.739\" r=\"2\"/>\n",
       "<circle clip-path=\"url(#clip652)\" style=\"fill:#1874cd; stroke:none; fill-opacity:0\" cx=\"1506.02\" cy=\"1117.37\" r=\"2\"/>\n",
       "<circle clip-path=\"url(#clip652)\" style=\"fill:#1874cd; stroke:none; fill-opacity:0\" cx=\"1747.95\" cy=\"1270.27\" r=\"2\"/>\n",
       "<circle clip-path=\"url(#clip652)\" style=\"fill:#1874cd; stroke:none; fill-opacity:0\" cx=\"1989.87\" cy=\"1270.27\" r=\"2\"/>\n",
       "</svg>\n"
      ]
     },
     "metadata": {},
     "output_type": "display_data"
    }
   ],
   "source": [
    "metric = \"complexity\"\n",
    "stats = basic_statistics(currics, \"complexity\")\n",
    "println(String(take!(stats))); flush(stdout)  \n",
    "display(metric_histogram(currics, metric, title=\"Chemical Engineering Programs\", xlabel=\"$(metric)\", \n",
    "          ylabel=\"# of curricula\", xlim=(0,900)))"
   ]
  },
  {
   "cell_type": "markdown",
   "metadata": {},
   "source": [
    "There are 120 (semester) credit hour programs at Stanford University, the University of New Mexico, the University of South Florida, and Yale University."
   ]
  },
  {
   "cell_type": "code",
   "execution_count": 6,
   "metadata": {},
   "outputs": [
    {
     "name": "stdout",
     "output_type": "stream",
     "text": [
      "\n",
      "Georgia Institute of Technology \n",
      "Curriculum: Aerospace Engineering\n",
      "  credit hours = 137\n",
      "  number of courses = 48\n",
      "  Blocking Factor --\n",
      "    entire curriculum = 209\n",
      "    max. value = 30, for course(s): MATH 1501 - Calculus I\n",
      "  Centrality --\n",
      "    entire curriculum = 1731\n",
      "    max. value = 262, for course(s): MATH 1552 - Integral Calculus\n",
      "  Delay Factor --\n",
      "    entire curriculum = 229.0\n",
      "    max. value = 7.0, for course(s): MATH 1501 - Calculus I, MATH 1552 - Integral Calculus, MATH 1553 - Intro to Linear Algebra, PHYS  2211 - Intro Physics 1, MATH 2551 - Multivariable Calculus, MATH 2552 - Differential Equations, AE 2010 - Termo and Fluid Fund., AE 2220 - Dynamics, AE 3030 - Aerodynamics, AE 3330 - AE Vehicle Performance, AE 3530 - Sys Dynamics & Vib, AE 3531 - Control Sys Analysis/Design, AE  4341/2/3 - Air/Space/Rotor Design, AE 4531 - Aircraft Flt Dynamics, AE 4532 - Spacecraft Flt Dynamics, AE 4610 - Dynamics & Controls Lab\n",
      "  Complexity --\n",
      "    entire curriculum = 438.0\n",
      "    max. value = 37.0, for course(s): MATH 1501 - Calculus I\n",
      "  Longest Path(s) --\n",
      "    length = 7, number of paths = 13\n",
      "    path(s):\n",
      "    path 1 = MATH 1501 - Calculus I -> MATH 1552 - Integral Calculus -> PHYS  2211 - Intro Physics 1 -> AE 2010 - Termo and Fluid Fund. -> AE 3030 - Aerodynamics -> AE 3330 - AE Vehicle Performance -> AE  4341/2/3 - Air/Space/Rotor Design\n",
      "    path 2 = MATH 1501 - Calculus I -> MATH 1552 - Integral Calculus -> MATH 2551 - Multivariable Calculus -> AE 2010 - Termo and Fluid Fund. -> AE 3030 - Aerodynamics -> AE 3330 - AE Vehicle Performance -> AE  4341/2/3 - Air/Space/Rotor Design\n",
      "    path 3 = MATH 1501 - Calculus I -> MATH 1553 - Intro to Linear Algebra -> MATH 2551 - Multivariable Calculus -> AE 2010 - Termo and Fluid Fund. -> AE 3030 - Aerodynamics -> AE 3330 - AE Vehicle Performance -> AE  4341/2/3 - Air/Space/Rotor Design\n",
      "    path 4 = MATH 1501 - Calculus I -> MATH 1552 - Integral Calculus -> PHYS  2211 - Intro Physics 1 -> AE 2010 - Termo and Fluid Fund. -> AE 3030 - Aerodynamics -> AE 3330 - AE Vehicle Performance -> AE 4531 - Aircraft Flt Dynamics\n",
      "    path 5 = MATH 1501 - Calculus I -> MATH 1552 - Integral Calculus -> MATH 2551 - Multivariable Calculus -> AE 2010 - Termo and Fluid Fund. -> AE 3030 - Aerodynamics -> AE 3330 - AE Vehicle Performance -> AE 4531 - Aircraft Flt Dynamics\n",
      "    path 6 = MATH 1501 - Calculus I -> MATH 1553 - Intro to Linear Algebra -> MATH 2551 - Multivariable Calculus -> AE 2010 - Termo and Fluid Fund. -> AE 3030 - Aerodynamics -> AE 3330 - AE Vehicle Performance -> AE 4531 - Aircraft Flt Dynamics\n",
      "    path 7 = MATH 1501 - Calculus I -> MATH 1552 - Integral Calculus -> MATH 2552 - Differential Equations -> AE 2220 - Dynamics -> AE 3530 - Sys Dynamics & Vib -> AE 3531 - Control Sys Analysis/Design -> AE 4531 - Aircraft Flt Dynamics\n",
      "    path 8 = MATH 1501 - Calculus I -> MATH 1553 - Intro to Linear Algebra -> MATH 2552 - Differential Equations -> AE 2220 - Dynamics -> AE 3530 - Sys Dynamics & Vib -> AE 3531 - Control Sys Analysis/Design -> AE 4531 - Aircraft Flt Dynamics\n",
      "    path 9 = MATH 1501 - Calculus I -> MATH 1552 - Integral Calculus -> PHYS  2211 - Intro Physics 1 -> AE 2010 - Termo and Fluid Fund. -> AE 3030 - Aerodynamics -> AE 3330 - AE Vehicle Performance -> AE 4532 - Spacecraft Flt Dynamics\n",
      "    path 10 = MATH 1501 - Calculus I -> MATH 1552 - Integral Calculus -> MATH 2551 - Multivariable Calculus -> AE 2010 - Termo and Fluid Fund. -> AE 3030 - Aerodynamics -> AE 3330 - AE Vehicle Performance -> AE 4532 - Spacecraft Flt Dynamics\n",
      "    path 11 = MATH 1501 - Calculus I -> MATH 1553 - Intro to Linear Algebra -> MATH 2551 - Multivariable Calculus -> AE 2010 - Termo and Fluid Fund. -> AE 3030 - Aerodynamics -> AE 3330 - AE Vehicle Performance -> AE 4532 - Spacecraft Flt Dynamics\n",
      "    path 12 = MATH 1501 - Calculus I -> MATH 1552 - Integral Calculus -> MATH 2552 - Differential Equations -> AE 2220 - Dynamics -> AE 3530 - Sys Dynamics & Vib -> AE 3531 - Control Sys Analysis/Design -> AE 4610 - Dynamics & Controls Lab\n",
      "    path 13 = MATH 1501 - Calculus I -> MATH 1553 - Intro to Linear Algebra -> MATH 2552 - Differential Equations -> AE 2220 - Dynamics -> AE 3530 - Sys Dynamics & Vib -> AE 3531 - Control Sys Analysis/Design -> AE 4610 - Dynamics & Controls Lab\n",
      "\n"
     ]
    }
   ],
   "source": [
    "metrics = basic_metrics(AE_plan.curriculum)\n",
    "println(String(take!(metrics)))"
   ]
  },
  {
   "cell_type": "code",
   "execution_count": 7,
   "metadata": {},
   "outputs": [
    {
     "name": "stdout",
     "output_type": "stream",
     "text": [
      "\n",
      "Georgia Institute of Technology \n",
      "Curriculum: Electrical Engineering - Electronic Devices and Circuit Technology\n",
      "  credit hours = 129\n",
      "  number of courses = 44\n",
      "  Blocking Factor --\n",
      "    entire curriculum = 127\n",
      "    max. value = 19, for course(s): MATH 1551 - Differential Calculus\n",
      "  Centrality --\n",
      "    entire curriculum = 792\n",
      "    max. value = 124, for course(s): ECE 2040 - Circuit Analysis\n",
      "  Delay Factor --\n",
      "    entire curriculum = 185.0\n",
      "    max. value = 8.0, for course(s): MATH 1551 - Differential Calculus, MATH 1552 - Integral Calculus, PHYS  2211 - Intro Physics 1, PHYS  2212 - Intro. Physics 2, ECE 2040 - Circuit Analysis, ECE 3025 - Electromagnetics, Senior Design Sequence, Senior Design Sequence\n",
      "  Complexity --\n",
      "    entire curriculum = 312.0\n",
      "    max. value = 27.0, for course(s): MATH 1551 - Differential Calculus\n",
      "  Longest Path(s) --\n",
      "    length = 8, number of paths = 1\n",
      "    path(s):\n",
      "    path 1 = MATH 1551 - Differential Calculus -> MATH 1552 - Integral Calculus -> PHYS  2211 - Intro Physics 1 -> PHYS  2212 - Intro. Physics 2 -> ECE 2040 - Circuit Analysis -> ECE 3025 - Electromagnetics -> Senior Design Sequence -> Senior Design Sequence\n",
      "\n"
     ]
    }
   ],
   "source": [
    "metrics = basic_metrics(EE_plan.curriculum)\n",
    "println(String(take!(metrics)))"
   ]
  },
  {
   "cell_type": "code",
   "execution_count": 8,
   "metadata": {
    "scrolled": false
   },
   "outputs": [
    {
     "data": {
      "image/svg+xml": [
       "<?xml version=\"1.0\" encoding=\"utf-8\"?>\n",
       "<svg xmlns=\"http://www.w3.org/2000/svg\" xmlns:xlink=\"http://www.w3.org/1999/xlink\" width=\"600\" height=\"400\" viewBox=\"0 0 2400 1600\">\n",
       "<defs>\n",
       "  <clipPath id=\"clip490\">\n",
       "    <rect x=\"0\" y=\"0\" width=\"2400\" height=\"1600\"/>\n",
       "  </clipPath>\n",
       "</defs>\n",
       "<path clip-path=\"url(#clip490)\" d=\"\n",
       "M0 1600 L2400 1600 L2400 0 L0 0  Z\n",
       "  \" fill=\"#ffffff\" fill-rule=\"evenodd\" fill-opacity=\"1\"/>\n",
       "<defs>\n",
       "  <clipPath id=\"clip491\">\n",
       "    <rect x=\"480\" y=\"0\" width=\"1681\" height=\"1600\"/>\n",
       "  </clipPath>\n",
       "</defs>\n",
       "<path clip-path=\"url(#clip490)\" d=\"\n",
       "M219.38 1423.18 L2352.76 1423.18 L2352.76 123.472 L219.38 123.472  Z\n",
       "  \" fill=\"#ffffff\" fill-rule=\"evenodd\" fill-opacity=\"1\"/>\n",
       "<defs>\n",
       "  <clipPath id=\"clip492\">\n",
       "    <rect x=\"219\" y=\"123\" width=\"2134\" height=\"1301\"/>\n",
       "  </clipPath>\n",
       "</defs>\n",
       "<polyline clip-path=\"url(#clip492)\" style=\"stroke:#000000; stroke-width:2; stroke-opacity:0.1; fill:none\" points=\"\n",
       "  219.38,1423.18 219.38,123.472 \n",
       "  \"/>\n",
       "<polyline clip-path=\"url(#clip492)\" style=\"stroke:#000000; stroke-width:2; stroke-opacity:0.1; fill:none\" points=\"\n",
       "  646.055,1423.18 646.055,123.472 \n",
       "  \"/>\n",
       "<polyline clip-path=\"url(#clip492)\" style=\"stroke:#000000; stroke-width:2; stroke-opacity:0.1; fill:none\" points=\"\n",
       "  1072.73,1423.18 1072.73,123.472 \n",
       "  \"/>\n",
       "<polyline clip-path=\"url(#clip492)\" style=\"stroke:#000000; stroke-width:2; stroke-opacity:0.1; fill:none\" points=\"\n",
       "  1499.41,1423.18 1499.41,123.472 \n",
       "  \"/>\n",
       "<polyline clip-path=\"url(#clip492)\" style=\"stroke:#000000; stroke-width:2; stroke-opacity:0.1; fill:none\" points=\"\n",
       "  1926.08,1423.18 1926.08,123.472 \n",
       "  \"/>\n",
       "<polyline clip-path=\"url(#clip492)\" style=\"stroke:#000000; stroke-width:2; stroke-opacity:0.1; fill:none\" points=\"\n",
       "  2352.76,1423.18 2352.76,123.472 \n",
       "  \"/>\n",
       "<polyline clip-path=\"url(#clip490)\" style=\"stroke:#000000; stroke-width:4; stroke-opacity:1; fill:none\" points=\"\n",
       "  219.38,1423.18 2352.76,1423.18 \n",
       "  \"/>\n",
       "<polyline clip-path=\"url(#clip490)\" style=\"stroke:#000000; stroke-width:4; stroke-opacity:1; fill:none\" points=\"\n",
       "  219.38,1423.18 219.38,1407.58 \n",
       "  \"/>\n",
       "<polyline clip-path=\"url(#clip490)\" style=\"stroke:#000000; stroke-width:4; stroke-opacity:1; fill:none\" points=\"\n",
       "  646.055,1423.18 646.055,1407.58 \n",
       "  \"/>\n",
       "<polyline clip-path=\"url(#clip490)\" style=\"stroke:#000000; stroke-width:4; stroke-opacity:1; fill:none\" points=\"\n",
       "  1072.73,1423.18 1072.73,1407.58 \n",
       "  \"/>\n",
       "<polyline clip-path=\"url(#clip490)\" style=\"stroke:#000000; stroke-width:4; stroke-opacity:1; fill:none\" points=\"\n",
       "  1499.41,1423.18 1499.41,1407.58 \n",
       "  \"/>\n",
       "<polyline clip-path=\"url(#clip490)\" style=\"stroke:#000000; stroke-width:4; stroke-opacity:1; fill:none\" points=\"\n",
       "  1926.08,1423.18 1926.08,1407.58 \n",
       "  \"/>\n",
       "<polyline clip-path=\"url(#clip490)\" style=\"stroke:#000000; stroke-width:4; stroke-opacity:1; fill:none\" points=\"\n",
       "  2352.76,1423.18 2352.76,1407.58 \n",
       "  \"/>\n",
       "<path clip-path=\"url(#clip490)\" d=\"M 0 0 M219.38 1452.37 Q215.769 1452.37 213.94 1455.94 Q212.135 1459.48 212.135 1466.61 Q212.135 1473.71 213.94 1477.28 Q215.769 1480.82 219.38 1480.82 Q223.014 1480.82 224.82 1477.28 Q226.649 1473.71 226.649 1466.61 Q226.649 1459.48 224.82 1455.94 Q223.014 1452.37 219.38 1452.37 M219.38 1448.67 Q225.19 1448.67 228.246 1453.27 Q231.325 1457.86 231.325 1466.61 Q231.325 1475.33 228.246 1479.94 Q225.19 1484.52 219.38 1484.52 Q213.57 1484.52 210.491 1479.94 Q207.436 1475.33 207.436 1466.61 Q207.436 1457.86 210.491 1453.27 Q213.57 1448.67 219.38 1448.67 Z\" fill=\"#000000\" fill-rule=\"evenodd\" fill-opacity=\"1\" /><path clip-path=\"url(#clip490)\" d=\"M 0 0 M605.662 1479.92 L613.301 1479.92 L613.301 1453.55 L604.991 1455.22 L604.991 1450.96 L613.255 1449.29 L617.93 1449.29 L617.93 1479.92 L625.569 1479.92 L625.569 1483.85 L605.662 1483.85 L605.662 1479.92 Z\" fill=\"#000000\" fill-rule=\"evenodd\" fill-opacity=\"1\" /><path clip-path=\"url(#clip490)\" d=\"M 0 0 M645.014 1452.37 Q641.403 1452.37 639.574 1455.94 Q637.768 1459.48 637.768 1466.61 Q637.768 1473.71 639.574 1477.28 Q641.403 1480.82 645.014 1480.82 Q648.648 1480.82 650.453 1477.28 Q652.282 1473.71 652.282 1466.61 Q652.282 1459.48 650.453 1455.94 Q648.648 1452.37 645.014 1452.37 M645.014 1448.67 Q650.824 1448.67 653.879 1453.27 Q656.958 1457.86 656.958 1466.61 Q656.958 1475.33 653.879 1479.94 Q650.824 1484.52 645.014 1484.52 Q639.203 1484.52 636.125 1479.94 Q633.069 1475.33 633.069 1466.61 Q633.069 1457.86 636.125 1453.27 Q639.203 1448.67 645.014 1448.67 Z\" fill=\"#000000\" fill-rule=\"evenodd\" fill-opacity=\"1\" /><path clip-path=\"url(#clip490)\" d=\"M 0 0 M675.176 1452.37 Q671.564 1452.37 669.736 1455.94 Q667.93 1459.48 667.93 1466.61 Q667.93 1473.71 669.736 1477.28 Q671.564 1480.82 675.176 1480.82 Q678.81 1480.82 680.615 1477.28 Q682.444 1473.71 682.444 1466.61 Q682.444 1459.48 680.615 1455.94 Q678.81 1452.37 675.176 1452.37 M675.176 1448.67 Q680.986 1448.67 684.041 1453.27 Q687.12 1457.86 687.12 1466.61 Q687.12 1475.33 684.041 1479.94 Q680.986 1484.52 675.176 1484.52 Q669.365 1484.52 666.287 1479.94 Q663.231 1475.33 663.231 1466.61 Q663.231 1457.86 666.287 1453.27 Q669.365 1448.67 675.176 1448.67 Z\" fill=\"#000000\" fill-rule=\"evenodd\" fill-opacity=\"1\" /><path clip-path=\"url(#clip490)\" d=\"M 0 0 M1036.42 1479.92 L1052.74 1479.92 L1052.74 1483.85 L1030.8 1483.85 L1030.8 1479.92 Q1033.46 1477.16 1038.04 1472.53 Q1042.65 1467.88 1043.83 1466.54 Q1046.08 1464.01 1046.96 1462.28 Q1047.86 1460.52 1047.86 1458.83 Q1047.86 1456.07 1045.91 1454.34 Q1043.99 1452.6 1040.89 1452.6 Q1038.69 1452.6 1036.24 1453.37 Q1033.81 1454.13 1031.03 1455.68 L1031.03 1450.96 Q1033.85 1449.82 1036.31 1449.25 Q1038.76 1448.67 1040.8 1448.67 Q1046.17 1448.67 1049.36 1451.35 Q1052.56 1454.04 1052.56 1458.53 Q1052.56 1460.66 1051.75 1462.58 Q1050.96 1464.48 1048.85 1467.07 Q1048.27 1467.74 1045.17 1470.96 Q1042.07 1474.15 1036.42 1479.92 Z\" fill=\"#000000\" fill-rule=\"evenodd\" fill-opacity=\"1\" /><path clip-path=\"url(#clip490)\" d=\"M 0 0 M1072.56 1452.37 Q1068.95 1452.37 1067.12 1455.94 Q1065.31 1459.48 1065.31 1466.61 Q1065.31 1473.71 1067.12 1477.28 Q1068.95 1480.82 1072.56 1480.82 Q1076.19 1480.82 1078 1477.28 Q1079.83 1473.71 1079.83 1466.61 Q1079.83 1459.48 1078 1455.94 Q1076.19 1452.37 1072.56 1452.37 M1072.56 1448.67 Q1078.37 1448.67 1081.42 1453.27 Q1084.5 1457.86 1084.5 1466.61 Q1084.5 1475.33 1081.42 1479.94 Q1078.37 1484.52 1072.56 1484.52 Q1066.75 1484.52 1063.67 1479.94 Q1060.61 1475.33 1060.61 1466.61 Q1060.61 1457.86 1063.67 1453.27 Q1066.75 1448.67 1072.56 1448.67 Z\" fill=\"#000000\" fill-rule=\"evenodd\" fill-opacity=\"1\" /><path clip-path=\"url(#clip490)\" d=\"M 0 0 M1102.72 1452.37 Q1099.11 1452.37 1097.28 1455.94 Q1095.47 1459.48 1095.47 1466.61 Q1095.47 1473.71 1097.28 1477.28 Q1099.11 1480.82 1102.72 1480.82 Q1106.35 1480.82 1108.16 1477.28 Q1109.99 1473.71 1109.99 1466.61 Q1109.99 1459.48 1108.16 1455.94 Q1106.35 1452.37 1102.72 1452.37 M1102.72 1448.67 Q1108.53 1448.67 1111.58 1453.27 Q1114.66 1457.86 1114.66 1466.61 Q1114.66 1475.33 1111.58 1479.94 Q1108.53 1484.52 1102.72 1484.52 Q1096.91 1484.52 1093.83 1479.94 Q1090.77 1475.33 1090.77 1466.61 Q1090.77 1457.86 1093.83 1453.27 Q1096.91 1448.67 1102.72 1448.67 Z\" fill=\"#000000\" fill-rule=\"evenodd\" fill-opacity=\"1\" /><path clip-path=\"url(#clip490)\" d=\"M 0 0 M1473.17 1465.22 Q1476.52 1465.94 1478.4 1468.2 Q1480.3 1470.47 1480.3 1473.81 Q1480.3 1478.92 1476.78 1481.72 Q1473.26 1484.52 1466.78 1484.52 Q1464.6 1484.52 1462.29 1484.08 Q1460 1483.67 1457.54 1482.81 L1457.54 1478.3 Q1459.49 1479.43 1461.8 1480.01 Q1464.12 1480.59 1466.64 1480.59 Q1471.04 1480.59 1473.33 1478.85 Q1475.64 1477.12 1475.64 1473.81 Q1475.64 1470.75 1473.49 1469.04 Q1471.36 1467.3 1467.54 1467.3 L1463.51 1467.3 L1463.51 1463.46 L1467.73 1463.46 Q1471.18 1463.46 1473.01 1462.09 Q1474.83 1460.7 1474.83 1458.11 Q1474.83 1455.45 1472.94 1454.04 Q1471.06 1452.6 1467.54 1452.6 Q1465.62 1452.6 1463.42 1453.02 Q1461.22 1453.44 1458.58 1454.31 L1458.58 1450.15 Q1461.25 1449.41 1463.56 1449.04 Q1465.9 1448.67 1467.96 1448.67 Q1473.28 1448.67 1476.38 1451.1 Q1479.49 1453.5 1479.49 1457.63 Q1479.49 1460.5 1477.84 1462.49 Q1476.2 1464.45 1473.17 1465.22 Z\" fill=\"#000000\" fill-rule=\"evenodd\" fill-opacity=\"1\" /><path clip-path=\"url(#clip490)\" d=\"M 0 0 M1499.16 1452.37 Q1495.55 1452.37 1493.72 1455.94 Q1491.92 1459.48 1491.92 1466.61 Q1491.92 1473.71 1493.72 1477.28 Q1495.55 1480.82 1499.16 1480.82 Q1502.8 1480.82 1504.6 1477.28 Q1506.43 1473.71 1506.43 1466.61 Q1506.43 1459.48 1504.6 1455.94 Q1502.8 1452.37 1499.16 1452.37 M1499.16 1448.67 Q1504.97 1448.67 1508.03 1453.27 Q1511.11 1457.86 1511.11 1466.61 Q1511.11 1475.33 1508.03 1479.94 Q1504.97 1484.52 1499.16 1484.52 Q1493.35 1484.52 1490.27 1479.94 Q1487.22 1475.33 1487.22 1466.61 Q1487.22 1457.86 1490.27 1453.27 Q1493.35 1448.67 1499.16 1448.67 Z\" fill=\"#000000\" fill-rule=\"evenodd\" fill-opacity=\"1\" /><path clip-path=\"url(#clip490)\" d=\"M 0 0 M1529.32 1452.37 Q1525.71 1452.37 1523.88 1455.94 Q1522.08 1459.48 1522.08 1466.61 Q1522.08 1473.71 1523.88 1477.28 Q1525.71 1480.82 1529.32 1480.82 Q1532.96 1480.82 1534.76 1477.28 Q1536.59 1473.71 1536.59 1466.61 Q1536.59 1459.48 1534.76 1455.94 Q1532.96 1452.37 1529.32 1452.37 M1529.32 1448.67 Q1535.13 1448.67 1538.19 1453.27 Q1541.27 1457.86 1541.27 1466.61 Q1541.27 1475.33 1538.19 1479.94 Q1535.13 1484.52 1529.32 1484.52 Q1523.51 1484.52 1520.44 1479.94 Q1517.38 1475.33 1517.38 1466.61 Q1517.38 1457.86 1520.44 1453.27 Q1523.51 1448.67 1529.32 1448.67 Z\" fill=\"#000000\" fill-rule=\"evenodd\" fill-opacity=\"1\" /><path clip-path=\"url(#clip490)\" d=\"M 0 0 M1899.17 1453.37 L1887.37 1471.81 L1899.17 1471.81 L1899.17 1453.37 M1897.94 1449.29 L1903.82 1449.29 L1903.82 1471.81 L1908.75 1471.81 L1908.75 1475.7 L1903.82 1475.7 L1903.82 1483.85 L1899.17 1483.85 L1899.17 1475.7 L1883.57 1475.7 L1883.57 1471.19 L1897.94 1449.29 Z\" fill=\"#000000\" fill-rule=\"evenodd\" fill-opacity=\"1\" /><path clip-path=\"url(#clip490)\" d=\"M 0 0 M1926.49 1452.37 Q1922.87 1452.37 1921.05 1455.94 Q1919.24 1459.48 1919.24 1466.61 Q1919.24 1473.71 1921.05 1477.28 Q1922.87 1480.82 1926.49 1480.82 Q1930.12 1480.82 1931.93 1477.28 Q1933.75 1473.71 1933.75 1466.61 Q1933.75 1459.48 1931.93 1455.94 Q1930.12 1452.37 1926.49 1452.37 M1926.49 1448.67 Q1932.3 1448.67 1935.35 1453.27 Q1938.43 1457.86 1938.43 1466.61 Q1938.43 1475.33 1935.35 1479.94 Q1932.3 1484.52 1926.49 1484.52 Q1920.68 1484.52 1917.6 1479.94 Q1914.54 1475.33 1914.54 1466.61 Q1914.54 1457.86 1917.6 1453.27 Q1920.68 1448.67 1926.49 1448.67 Z\" fill=\"#000000\" fill-rule=\"evenodd\" fill-opacity=\"1\" /><path clip-path=\"url(#clip490)\" d=\"M 0 0 M1956.65 1452.37 Q1953.04 1452.37 1951.21 1455.94 Q1949.4 1459.48 1949.4 1466.61 Q1949.4 1473.71 1951.21 1477.28 Q1953.04 1480.82 1956.65 1480.82 Q1960.28 1480.82 1962.09 1477.28 Q1963.92 1473.71 1963.92 1466.61 Q1963.92 1459.48 1962.09 1455.94 Q1960.28 1452.37 1956.65 1452.37 M1956.65 1448.67 Q1962.46 1448.67 1965.51 1453.27 Q1968.59 1457.86 1968.59 1466.61 Q1968.59 1475.33 1965.51 1479.94 Q1962.46 1484.52 1956.65 1484.52 Q1950.84 1484.52 1947.76 1479.94 Q1944.7 1475.33 1944.7 1466.61 Q1944.7 1457.86 1947.76 1453.27 Q1950.84 1448.67 1956.65 1448.67 Z\" fill=\"#000000\" fill-rule=\"evenodd\" fill-opacity=\"1\" /><path clip-path=\"url(#clip490)\" d=\"M 0 0 M2312.37 1449.29 L2330.73 1449.29 L2330.73 1453.23 L2316.66 1453.23 L2316.66 1461.7 Q2317.68 1461.35 2318.69 1461.19 Q2319.71 1461 2320.73 1461 Q2326.52 1461 2329.9 1464.18 Q2333.28 1467.35 2333.28 1472.76 Q2333.28 1478.34 2329.8 1481.44 Q2326.33 1484.52 2320.01 1484.52 Q2317.84 1484.52 2315.57 1484.15 Q2313.32 1483.78 2310.92 1483.04 L2310.92 1478.34 Q2313 1479.48 2315.22 1480.03 Q2317.44 1480.59 2319.92 1480.59 Q2323.93 1480.59 2326.26 1478.48 Q2328.6 1476.38 2328.6 1472.76 Q2328.6 1469.15 2326.26 1467.05 Q2323.93 1464.94 2319.92 1464.94 Q2318.05 1464.94 2316.17 1465.36 Q2314.32 1465.77 2312.37 1466.65 L2312.37 1449.29 Z\" fill=\"#000000\" fill-rule=\"evenodd\" fill-opacity=\"1\" /><path clip-path=\"url(#clip490)\" d=\"M 0 0 M2352.49 1452.37 Q2348.88 1452.37 2347.05 1455.94 Q2345.24 1459.48 2345.24 1466.61 Q2345.24 1473.71 2347.05 1477.28 Q2348.88 1480.82 2352.49 1480.82 Q2356.12 1480.82 2357.93 1477.28 Q2359.76 1473.71 2359.76 1466.61 Q2359.76 1459.48 2357.93 1455.94 Q2356.12 1452.37 2352.49 1452.37 M2352.49 1448.67 Q2358.3 1448.67 2361.36 1453.27 Q2364.43 1457.86 2364.43 1466.61 Q2364.43 1475.33 2361.36 1479.94 Q2358.3 1484.52 2352.49 1484.52 Q2346.68 1484.52 2343.6 1479.94 Q2340.55 1475.33 2340.55 1466.61 Q2340.55 1457.86 2343.6 1453.27 Q2346.68 1448.67 2352.49 1448.67 Z\" fill=\"#000000\" fill-rule=\"evenodd\" fill-opacity=\"1\" /><path clip-path=\"url(#clip490)\" d=\"M 0 0 M2382.65 1452.37 Q2379.04 1452.37 2377.21 1455.94 Q2375.41 1459.48 2375.41 1466.61 Q2375.41 1473.71 2377.21 1477.28 Q2379.04 1480.82 2382.65 1480.82 Q2386.29 1480.82 2388.09 1477.28 Q2389.92 1473.71 2389.92 1466.61 Q2389.92 1459.48 2388.09 1455.94 Q2386.29 1452.37 2382.65 1452.37 M2382.65 1448.67 Q2388.46 1448.67 2391.52 1453.27 Q2394.6 1457.86 2394.6 1466.61 Q2394.6 1475.33 2391.52 1479.94 Q2388.46 1484.52 2382.65 1484.52 Q2376.84 1484.52 2373.76 1479.94 Q2370.71 1475.33 2370.71 1466.61 Q2370.71 1457.86 2373.76 1453.27 Q2376.84 1448.67 2382.65 1448.67 Z\" fill=\"#000000\" fill-rule=\"evenodd\" fill-opacity=\"1\" /><path clip-path=\"url(#clip490)\" d=\"M 0 0 M1137.79 1533.76 L1137.79 1539.24 Q1135.31 1537.87 1132.8 1537.2 Q1130.32 1536.5 1127.77 1536.5 Q1122.07 1536.5 1118.92 1540.13 Q1115.77 1543.73 1115.77 1550.25 Q1115.77 1556.78 1118.92 1560.4 Q1122.07 1564 1127.77 1564 Q1130.32 1564 1132.8 1563.33 Q1135.31 1562.63 1137.79 1561.26 L1137.79 1566.68 Q1135.34 1567.82 1132.7 1568.39 Q1130.09 1568.97 1127.13 1568.97 Q1119.08 1568.97 1114.34 1563.91 Q1109.59 1558.85 1109.59 1550.25 Q1109.59 1541.53 1114.37 1536.53 Q1119.18 1531.54 1127.51 1531.54 Q1130.22 1531.54 1132.8 1532.11 Q1135.38 1532.65 1137.79 1533.76 Z\" fill=\"#000000\" fill-rule=\"evenodd\" fill-opacity=\"1\" /><path clip-path=\"url(#clip490)\" d=\"M 0 0 M1161.79 1536.5 Q1157.08 1536.5 1154.35 1540.19 Q1151.61 1543.85 1151.61 1550.25 Q1151.61 1556.65 1154.31 1560.34 Q1157.05 1564 1161.79 1564 Q1166.47 1564 1169.21 1560.31 Q1171.95 1556.62 1171.95 1550.25 Q1171.95 1543.92 1169.21 1540.23 Q1166.47 1536.5 1161.79 1536.5 M1161.79 1531.54 Q1169.43 1531.54 1173.79 1536.5 Q1178.15 1541.47 1178.15 1550.25 Q1178.15 1559 1173.79 1564 Q1169.43 1568.97 1161.79 1568.97 Q1154.12 1568.97 1149.76 1564 Q1145.43 1559 1145.43 1550.25 Q1145.43 1541.47 1149.76 1536.5 Q1154.12 1531.54 1161.79 1531.54 Z\" fill=\"#000000\" fill-rule=\"evenodd\" fill-opacity=\"1\" /><path clip-path=\"url(#clip490)\" d=\"M 0 0 M1215.62 1539.24 Q1217.81 1535.29 1220.87 1533.41 Q1223.92 1531.54 1228.06 1531.54 Q1233.63 1531.54 1236.65 1535.45 Q1239.68 1539.33 1239.68 1546.53 L1239.68 1568.04 L1233.79 1568.04 L1233.79 1546.72 Q1233.79 1541.59 1231.98 1539.11 Q1230.16 1536.63 1226.44 1536.63 Q1221.89 1536.63 1219.24 1539.65 Q1216.6 1542.68 1216.6 1547.9 L1216.6 1568.04 L1210.71 1568.04 L1210.71 1546.72 Q1210.71 1541.56 1208.9 1539.11 Q1207.09 1536.63 1203.3 1536.63 Q1198.81 1536.63 1196.17 1539.68 Q1193.53 1542.71 1193.53 1547.9 L1193.53 1568.04 L1187.64 1568.04 L1187.64 1532.4 L1193.53 1532.4 L1193.53 1537.93 Q1195.53 1534.66 1198.33 1533.1 Q1201.13 1531.54 1204.98 1531.54 Q1208.87 1531.54 1211.57 1533.51 Q1214.31 1535.48 1215.62 1539.24 Z\" fill=\"#000000\" fill-rule=\"evenodd\" fill-opacity=\"1\" /><path clip-path=\"url(#clip490)\" d=\"M 0 0 M1257.02 1562.7 L1257.02 1581.6 L1251.14 1581.6 L1251.14 1532.4 L1257.02 1532.4 L1257.02 1537.81 Q1258.87 1534.62 1261.67 1533.1 Q1264.5 1531.54 1268.42 1531.54 Q1274.91 1531.54 1278.95 1536.69 Q1283.03 1541.85 1283.03 1550.25 Q1283.03 1558.65 1278.95 1563.81 Q1274.91 1568.97 1268.42 1568.97 Q1264.5 1568.97 1261.67 1567.44 Q1258.87 1565.88 1257.02 1562.7 M1276.95 1550.25 Q1276.95 1543.79 1274.28 1540.13 Q1271.63 1536.44 1266.99 1536.44 Q1262.34 1536.44 1259.67 1540.13 Q1257.02 1543.79 1257.02 1550.25 Q1257.02 1556.71 1259.67 1560.4 Q1262.34 1564.07 1266.99 1564.07 Q1271.63 1564.07 1274.28 1560.4 Q1276.95 1556.71 1276.95 1550.25 Z\" fill=\"#000000\" fill-rule=\"evenodd\" fill-opacity=\"1\" /><path clip-path=\"url(#clip490)\" d=\"M 0 0 M1292.74 1518.52 L1298.59 1518.52 L1298.59 1568.04 L1292.74 1568.04 L1292.74 1518.52 Z\" fill=\"#000000\" fill-rule=\"evenodd\" fill-opacity=\"1\" /><path clip-path=\"url(#clip490)\" d=\"M 0 0 M1341.34 1548.76 L1341.34 1551.62 L1314.41 1551.62 Q1314.79 1557.67 1318.04 1560.85 Q1321.32 1564 1327.14 1564 Q1330.52 1564 1333.67 1563.17 Q1336.85 1562.35 1339.97 1560.69 L1339.97 1566.23 Q1336.82 1567.57 1333.51 1568.27 Q1330.2 1568.97 1326.79 1568.97 Q1318.26 1568.97 1313.27 1564 Q1308.3 1559.04 1308.3 1550.57 Q1308.3 1541.82 1313.01 1536.69 Q1317.75 1531.54 1325.77 1531.54 Q1332.97 1531.54 1337.14 1536.18 Q1341.34 1540.8 1341.34 1548.76 M1335.48 1547.04 Q1335.42 1542.23 1332.78 1539.37 Q1330.17 1536.5 1325.84 1536.5 Q1320.94 1536.5 1317.98 1539.27 Q1315.05 1542.04 1314.6 1547.07 L1335.48 1547.04 Z\" fill=\"#000000\" fill-rule=\"evenodd\" fill-opacity=\"1\" /><path clip-path=\"url(#clip490)\" d=\"M 0 0 M1379.44 1532.4 L1366.55 1549.74 L1380.11 1568.04 L1373.2 1568.04 L1362.82 1554.04 L1352.45 1568.04 L1345.54 1568.04 L1359.39 1549.39 L1346.72 1532.4 L1353.62 1532.4 L1363.08 1545.1 L1372.53 1532.4 L1379.44 1532.4 Z\" fill=\"#000000\" fill-rule=\"evenodd\" fill-opacity=\"1\" /><path clip-path=\"url(#clip490)\" d=\"M 0 0 M1388.38 1532.4 L1394.24 1532.4 L1394.24 1568.04 L1388.38 1568.04 L1388.38 1532.4 M1388.38 1518.52 L1394.24 1518.52 L1394.24 1525.93 L1388.38 1525.93 L1388.38 1518.52 Z\" fill=\"#000000\" fill-rule=\"evenodd\" fill-opacity=\"1\" /><path clip-path=\"url(#clip490)\" d=\"M 0 0 M1412.28 1522.27 L1412.28 1532.4 L1424.35 1532.4 L1424.35 1536.95 L1412.28 1536.95 L1412.28 1556.3 Q1412.28 1560.66 1413.46 1561.9 Q1414.67 1563.14 1418.33 1563.14 L1424.35 1563.14 L1424.35 1568.04 L1418.33 1568.04 Q1411.55 1568.04 1408.97 1565.53 Q1406.4 1562.98 1406.4 1556.3 L1406.4 1536.95 L1402.1 1536.95 L1402.1 1532.4 L1406.4 1532.4 L1406.4 1522.27 L1412.28 1522.27 Z\" fill=\"#000000\" fill-rule=\"evenodd\" fill-opacity=\"1\" /><path clip-path=\"url(#clip490)\" d=\"M 0 0 M1446.88 1571.35 Q1444.4 1577.72 1442.04 1579.66 Q1439.69 1581.6 1435.74 1581.6 L1431.06 1581.6 L1431.06 1576.7 L1434.5 1576.7 Q1436.92 1576.7 1438.26 1575.56 Q1439.59 1574.41 1441.22 1570.14 L1442.27 1567.47 L1427.85 1532.4 L1434.05 1532.4 L1445.19 1560.28 L1456.33 1532.4 L1462.54 1532.4 L1446.88 1571.35 Z\" fill=\"#000000\" fill-rule=\"evenodd\" fill-opacity=\"1\" /><polyline clip-path=\"url(#clip492)\" style=\"stroke:#000000; stroke-width:2; stroke-opacity:0.1; fill:none\" points=\"\n",
       "  219.38,1423.18 2352.76,1423.18 \n",
       "  \"/>\n",
       "<polyline clip-path=\"url(#clip492)\" style=\"stroke:#000000; stroke-width:2; stroke-opacity:0.1; fill:none\" points=\"\n",
       "  219.38,989.944 2352.76,989.944 \n",
       "  \"/>\n",
       "<polyline clip-path=\"url(#clip492)\" style=\"stroke:#000000; stroke-width:2; stroke-opacity:0.1; fill:none\" points=\"\n",
       "  219.38,556.708 2352.76,556.708 \n",
       "  \"/>\n",
       "<polyline clip-path=\"url(#clip492)\" style=\"stroke:#000000; stroke-width:2; stroke-opacity:0.1; fill:none\" points=\"\n",
       "  219.38,123.472 2352.76,123.472 \n",
       "  \"/>\n",
       "<polyline clip-path=\"url(#clip490)\" style=\"stroke:#000000; stroke-width:4; stroke-opacity:1; fill:none\" points=\"\n",
       "  219.38,1423.18 219.38,123.472 \n",
       "  \"/>\n",
       "<polyline clip-path=\"url(#clip490)\" style=\"stroke:#000000; stroke-width:4; stroke-opacity:1; fill:none\" points=\"\n",
       "  219.38,1423.18 244.981,1423.18 \n",
       "  \"/>\n",
       "<polyline clip-path=\"url(#clip490)\" style=\"stroke:#000000; stroke-width:4; stroke-opacity:1; fill:none\" points=\"\n",
       "  219.38,989.944 244.981,989.944 \n",
       "  \"/>\n",
       "<polyline clip-path=\"url(#clip490)\" style=\"stroke:#000000; stroke-width:4; stroke-opacity:1; fill:none\" points=\"\n",
       "  219.38,556.708 244.981,556.708 \n",
       "  \"/>\n",
       "<polyline clip-path=\"url(#clip490)\" style=\"stroke:#000000; stroke-width:4; stroke-opacity:1; fill:none\" points=\"\n",
       "  219.38,123.472 244.981,123.472 \n",
       "  \"/>\n",
       "<path clip-path=\"url(#clip490)\" d=\"M 0 0 M126.205 1408.98 Q122.593 1408.98 120.765 1412.54 Q118.959 1416.08 118.959 1423.21 Q118.959 1430.32 120.765 1433.89 Q122.593 1437.43 126.205 1437.43 Q129.839 1437.43 131.644 1433.89 Q133.473 1430.32 133.473 1423.21 Q133.473 1416.08 131.644 1412.54 Q129.839 1408.98 126.205 1408.98 M126.205 1405.27 Q132.015 1405.27 135.07 1409.88 Q138.149 1414.46 138.149 1423.21 Q138.149 1431.94 135.07 1436.55 Q132.015 1441.13 126.205 1441.13 Q120.394 1441.13 117.316 1436.55 Q114.26 1431.94 114.26 1423.21 Q114.26 1414.46 117.316 1409.88 Q120.394 1405.27 126.205 1405.27 Z\" fill=\"#000000\" fill-rule=\"evenodd\" fill-opacity=\"1\" /><path clip-path=\"url(#clip490)\" d=\"M 0 0 M146.366 1434.58 L151.251 1434.58 L151.251 1440.46 L146.366 1440.46 L146.366 1434.58 Z\" fill=\"#000000\" fill-rule=\"evenodd\" fill-opacity=\"1\" /><path clip-path=\"url(#clip490)\" d=\"M 0 0 M171.436 1408.98 Q167.825 1408.98 165.996 1412.54 Q164.19 1416.08 164.19 1423.21 Q164.19 1430.32 165.996 1433.89 Q167.825 1437.43 171.436 1437.43 Q175.07 1437.43 176.876 1433.89 Q178.704 1430.32 178.704 1423.21 Q178.704 1416.08 176.876 1412.54 Q175.07 1408.98 171.436 1408.98 M171.436 1405.27 Q177.246 1405.27 180.301 1409.88 Q183.38 1414.46 183.38 1423.21 Q183.38 1431.94 180.301 1436.55 Q177.246 1441.13 171.436 1441.13 Q165.626 1441.13 162.547 1436.55 Q159.491 1431.94 159.491 1423.21 Q159.491 1414.46 162.547 1409.88 Q165.626 1405.27 171.436 1405.27 Z\" fill=\"#000000\" fill-rule=\"evenodd\" fill-opacity=\"1\" /><path clip-path=\"url(#clip490)\" d=\"M 0 0 M127.2 975.743 Q123.589 975.743 121.76 979.307 Q119.955 982.849 119.955 989.979 Q119.955 997.085 121.76 1000.65 Q123.589 1004.19 127.2 1004.19 Q130.834 1004.19 132.64 1000.65 Q134.468 997.085 134.468 989.979 Q134.468 982.849 132.64 979.307 Q130.834 975.743 127.2 975.743 M127.2 972.039 Q133.01 972.039 136.066 976.645 Q139.144 981.229 139.144 989.979 Q139.144 998.705 136.066 1003.31 Q133.01 1007.9 127.2 1007.9 Q121.39 1007.9 118.311 1003.31 Q115.256 998.705 115.256 989.979 Q115.256 981.229 118.311 976.645 Q121.39 972.039 127.2 972.039 Z\" fill=\"#000000\" fill-rule=\"evenodd\" fill-opacity=\"1\" /><path clip-path=\"url(#clip490)\" d=\"M 0 0 M147.362 1001.34 L152.246 1001.34 L152.246 1007.22 L147.362 1007.22 L147.362 1001.34 Z\" fill=\"#000000\" fill-rule=\"evenodd\" fill-opacity=\"1\" /><path clip-path=\"url(#clip490)\" d=\"M 0 0 M162.477 972.664 L180.834 972.664 L180.834 976.599 L166.76 976.599 L166.76 985.071 Q167.778 984.724 168.797 984.562 Q169.815 984.377 170.834 984.377 Q176.621 984.377 180.001 987.548 Q183.38 990.719 183.38 996.136 Q183.38 1001.71 179.908 1004.82 Q176.436 1007.9 170.116 1007.9 Q167.94 1007.9 165.672 1007.52 Q163.427 1007.15 161.019 1006.41 L161.019 1001.71 Q163.102 1002.85 165.325 1003.4 Q167.547 1003.96 170.024 1003.96 Q174.028 1003.96 176.366 1001.85 Q178.704 999.747 178.704 996.136 Q178.704 992.525 176.366 990.418 Q174.028 988.312 170.024 988.312 Q168.149 988.312 166.274 988.729 Q164.422 989.145 162.477 990.025 L162.477 972.664 Z\" fill=\"#000000\" fill-rule=\"evenodd\" fill-opacity=\"1\" /><path clip-path=\"url(#clip490)\" d=\"M 0 0 M117.015 570.053 L124.654 570.053 L124.654 543.687 L116.343 545.354 L116.343 541.095 L124.607 539.428 L129.283 539.428 L129.283 570.053 L136.922 570.053 L136.922 573.988 L117.015 573.988 L117.015 570.053 Z\" fill=\"#000000\" fill-rule=\"evenodd\" fill-opacity=\"1\" /><path clip-path=\"url(#clip490)\" d=\"M 0 0 M146.366 568.108 L151.251 568.108 L151.251 573.988 L146.366 573.988 L146.366 568.108 Z\" fill=\"#000000\" fill-rule=\"evenodd\" fill-opacity=\"1\" /><path clip-path=\"url(#clip490)\" d=\"M 0 0 M171.436 542.507 Q167.825 542.507 165.996 546.072 Q164.19 549.613 164.19 556.743 Q164.19 563.849 165.996 567.414 Q167.825 570.956 171.436 570.956 Q175.07 570.956 176.876 567.414 Q178.704 563.849 178.704 556.743 Q178.704 549.613 176.876 546.072 Q175.07 542.507 171.436 542.507 M171.436 538.803 Q177.246 538.803 180.301 543.409 Q183.38 547.993 183.38 556.743 Q183.38 565.47 180.301 570.076 Q177.246 574.659 171.436 574.659 Q165.626 574.659 162.547 570.076 Q159.491 565.47 159.491 556.743 Q159.491 547.993 162.547 543.409 Q165.626 538.803 171.436 538.803 Z\" fill=\"#000000\" fill-rule=\"evenodd\" fill-opacity=\"1\" /><path clip-path=\"url(#clip490)\" d=\"M 0 0 M118.01 136.817 L125.649 136.817 L125.649 110.451 L117.339 112.118 L117.339 107.859 L125.603 106.192 L130.279 106.192 L130.279 136.817 L137.917 136.817 L137.917 140.752 L118.01 140.752 L118.01 136.817 Z\" fill=\"#000000\" fill-rule=\"evenodd\" fill-opacity=\"1\" /><path clip-path=\"url(#clip490)\" d=\"M 0 0 M147.362 134.873 L152.246 134.873 L152.246 140.752 L147.362 140.752 L147.362 134.873 Z\" fill=\"#000000\" fill-rule=\"evenodd\" fill-opacity=\"1\" /><path clip-path=\"url(#clip490)\" d=\"M 0 0 M162.477 106.192 L180.834 106.192 L180.834 110.127 L166.76 110.127 L166.76 118.599 Q167.778 118.252 168.797 118.09 Q169.815 117.905 170.834 117.905 Q176.621 117.905 180.001 121.076 Q183.38 124.248 183.38 129.664 Q183.38 135.243 179.908 138.345 Q176.436 141.423 170.116 141.423 Q167.94 141.423 165.672 141.053 Q163.427 140.683 161.019 139.942 L161.019 135.243 Q163.102 136.377 165.325 136.933 Q167.547 137.488 170.024 137.488 Q174.028 137.488 176.366 135.382 Q178.704 133.275 178.704 129.664 Q178.704 126.053 176.366 123.947 Q174.028 121.84 170.024 121.84 Q168.149 121.84 166.274 122.257 Q164.422 122.674 162.477 123.553 L162.477 106.192 Z\" fill=\"#000000\" fill-rule=\"evenodd\" fill-opacity=\"1\" /><path clip-path=\"url(#clip490)\" d=\"M 0 0 M35.3266 960.462 L35.3266 969.724 L45.9574 972.398 L45.9574 963.072 L35.3266 960.462 M17.2162 965.236 L30.4251 968.546 L30.4251 959.252 L17.2162 955.91 L17.2162 950.818 L30.4251 954.096 L30.4251 944.166 L35.3266 944.166 L35.3266 955.337 L45.9574 957.947 L45.9574 947.826 L50.8271 947.826 L50.8271 959.189 L64.0042 962.499 L64.0042 967.591 L50.8271 964.313 L50.8271 973.639 L64.0042 976.917 L64.0042 982.042 L50.8271 978.731 L50.8271 988.757 L45.9574 988.757 L45.9574 977.554 L35.3266 974.88 L35.3266 985.129 L30.4251 985.129 L30.4251 973.639 L17.2162 970.392 L17.2162 965.236 Z\" fill=\"#000000\" fill-rule=\"evenodd\" fill-opacity=\"1\" /><path clip-path=\"url(#clip490)\" d=\"M 0 0 M32.4621 898.492 Q32.4621 903.202 36.1542 905.94 Q39.8145 908.677 46.212 908.677 Q52.6095 908.677 56.3017 905.971 Q59.9619 903.234 59.9619 898.492 Q59.9619 893.813 56.2698 891.076 Q52.5777 888.338 46.212 888.338 Q39.8781 888.338 36.186 891.076 Q32.4621 893.813 32.4621 898.492 M27.4968 898.492 Q27.4968 890.853 32.4621 886.492 Q37.4273 882.132 46.212 882.132 Q54.9649 882.132 59.9619 886.492 Q64.9272 890.853 64.9272 898.492 Q64.9272 906.162 59.9619 910.523 Q54.9649 914.852 46.212 914.852 Q37.4273 914.852 32.4621 910.523 Q27.4968 906.162 27.4968 898.492 Z\" fill=\"#000000\" fill-rule=\"evenodd\" fill-opacity=\"1\" /><path clip-path=\"url(#clip490)\" d=\"M 0 0 M14.479 854.377 L19.3487 854.377 L19.3487 859.979 Q19.3487 863.13 20.6219 864.372 Q21.895 865.581 25.2052 865.581 L28.3562 865.581 L28.3562 855.937 L32.9077 855.937 L32.9077 865.581 L64.0042 865.581 L64.0042 871.469 L32.9077 871.469 L32.9077 877.071 L28.3562 877.071 L28.3562 871.469 L25.8736 871.469 Q19.9216 871.469 17.2162 868.7 Q14.479 865.931 14.479 859.916 L14.479 854.377 Z\" fill=\"#000000\" fill-rule=\"evenodd\" fill-opacity=\"1\" /><path clip-path=\"url(#clip490)\" d=\"M 0 0 M29.7248 803.102 L35.1993 803.102 Q33.8307 805.584 33.1623 808.099 Q32.4621 810.581 32.4621 813.128 Q32.4621 818.825 36.0905 821.976 Q39.6872 825.127 46.212 825.127 Q52.7369 825.127 56.3653 821.976 Q59.9619 818.825 59.9619 813.128 Q59.9619 810.581 59.2935 808.099 Q58.5933 805.584 57.2247 803.102 L62.6355 803.102 Q63.7814 805.552 64.3543 808.194 Q64.9272 810.804 64.9272 813.764 Q64.9272 821.817 59.8664 826.559 Q54.8057 831.302 46.212 831.302 Q37.491 831.302 32.4939 826.527 Q27.4968 821.721 27.4968 813.382 Q27.4968 810.677 28.0697 808.099 Q28.6108 805.521 29.7248 803.102 Z\" fill=\"#000000\" fill-rule=\"evenodd\" fill-opacity=\"1\" /><path clip-path=\"url(#clip490)\" d=\"M 0 0 M49.9359 793.521 L28.3562 793.521 L28.3562 787.665 L49.7131 787.665 Q54.7739 787.665 57.3202 785.691 Q59.8346 783.718 59.8346 779.771 Q59.8346 775.029 56.8109 772.292 Q53.7872 769.522 48.5673 769.522 L28.3562 769.522 L28.3562 763.666 L64.0042 763.666 L64.0042 769.522 L58.5296 769.522 Q61.7762 771.655 63.3676 774.488 Q64.9272 777.289 64.9272 781.013 Q64.9272 787.155 61.1078 790.338 Q57.2883 793.521 49.9359 793.521 M27.4968 778.785 L27.4968 778.785 Z\" fill=\"#000000\" fill-rule=\"evenodd\" fill-opacity=\"1\" /><path clip-path=\"url(#clip490)\" d=\"M 0 0 M33.8307 730.946 Q33.2578 731.933 33.0032 733.111 Q32.7167 734.256 32.7167 735.657 Q32.7167 740.622 35.9632 743.296 Q39.1779 745.938 45.2253 745.938 L64.0042 745.938 L64.0042 751.826 L28.3562 751.826 L28.3562 745.938 L33.8944 745.938 Q30.6479 744.091 29.0883 741.131 Q27.4968 738.171 27.4968 733.938 Q27.4968 733.333 27.5923 732.601 Q27.656 731.869 27.8151 730.978 L33.8307 730.946 Z\" fill=\"#000000\" fill-rule=\"evenodd\" fill-opacity=\"1\" /><path clip-path=\"url(#clip490)\" d=\"M 0 0 M33.8307 705.292 Q33.2578 706.279 33.0032 707.457 Q32.7167 708.603 32.7167 710.003 Q32.7167 714.968 35.9632 717.642 Q39.1779 720.284 45.2253 720.284 L64.0042 720.284 L64.0042 726.172 L28.3562 726.172 L28.3562 720.284 L33.8944 720.284 Q30.6479 718.438 29.0883 715.478 Q27.4968 712.518 27.4968 708.284 Q27.4968 707.68 27.5923 706.948 Q27.656 706.216 27.8151 705.324 L33.8307 705.292 Z\" fill=\"#000000\" fill-rule=\"evenodd\" fill-opacity=\"1\" /><path clip-path=\"url(#clip490)\" d=\"M 0 0 M28.3562 699.15 L28.3562 693.293 L64.0042 693.293 L64.0042 699.15 L28.3562 699.15 M14.479 699.15 L14.479 693.293 L21.895 693.293 L21.895 699.15 L14.479 699.15 Z\" fill=\"#000000\" fill-rule=\"evenodd\" fill-opacity=\"1\" /><path clip-path=\"url(#clip490)\" d=\"M 0 0 M29.7248 655.385 L35.1993 655.385 Q33.8307 657.868 33.1623 660.382 Q32.4621 662.865 32.4621 665.411 Q32.4621 671.109 36.0905 674.26 Q39.6872 677.411 46.212 677.411 Q52.7369 677.411 56.3653 674.26 Q59.9619 671.109 59.9619 665.411 Q59.9619 662.865 59.2935 660.382 Q58.5933 657.868 57.2247 655.385 L62.6355 655.385 Q63.7814 657.836 64.3543 660.478 Q64.9272 663.088 64.9272 666.048 Q64.9272 674.101 59.8664 678.843 Q54.8057 683.585 46.212 683.585 Q37.491 683.585 32.4939 678.811 Q27.4968 674.005 27.4968 665.666 Q27.4968 662.961 28.0697 660.382 Q28.6108 657.804 29.7248 655.385 Z\" fill=\"#000000\" fill-rule=\"evenodd\" fill-opacity=\"1\" /><path clip-path=\"url(#clip490)\" d=\"M 0 0 M49.9359 645.805 L28.3562 645.805 L28.3562 639.949 L49.7131 639.949 Q54.7739 639.949 57.3202 637.975 Q59.8346 636.002 59.8346 632.055 Q59.8346 627.313 56.8109 624.575 Q53.7872 621.806 48.5673 621.806 L28.3562 621.806 L28.3562 615.95 L64.0042 615.95 L64.0042 621.806 L58.5296 621.806 Q61.7762 623.939 63.3676 626.772 Q64.9272 629.572 64.9272 633.296 Q64.9272 639.439 61.1078 642.622 Q57.2883 645.805 49.9359 645.805 M27.4968 631.068 L27.4968 631.068 Z\" fill=\"#000000\" fill-rule=\"evenodd\" fill-opacity=\"1\" /><path clip-path=\"url(#clip490)\" d=\"M 0 0 M14.479 603.887 L14.479 598.03 L64.0042 598.03 L64.0042 603.887 L14.479 603.887 Z\" fill=\"#000000\" fill-rule=\"evenodd\" fill-opacity=\"1\" /><path clip-path=\"url(#clip490)\" d=\"M 0 0 M46.0847 569.576 Q46.0847 576.673 47.7079 579.411 Q49.3312 582.148 53.2461 582.148 Q56.3653 582.148 58.2114 580.111 Q60.0256 578.042 60.0256 574.509 Q60.0256 569.639 56.5881 566.711 Q53.1188 563.751 47.3897 563.751 L46.0847 563.751 L46.0847 569.576 M43.6657 557.895 L64.0042 557.895 L64.0042 563.751 L58.5933 563.751 Q61.8398 565.756 63.3994 568.748 Q64.9272 571.74 64.9272 576.069 Q64.9272 581.543 61.8716 584.79 Q58.7843 588.004 53.6281 588.004 Q47.6125 588.004 44.5569 583.994 Q41.5014 579.952 41.5014 571.963 L41.5014 563.751 L40.9285 563.751 Q36.8862 563.751 34.6901 566.425 Q32.4621 569.066 32.4621 573.872 Q32.4621 576.928 33.1941 579.824 Q33.9262 582.721 35.3903 585.394 L29.9795 585.394 Q28.7381 582.18 28.1334 579.156 Q27.4968 576.132 27.4968 573.268 Q27.4968 565.533 31.5072 561.714 Q35.5176 557.895 43.6657 557.895 Z\" fill=\"#000000\" fill-rule=\"evenodd\" fill-opacity=\"1\" /><path clip-path=\"url(#clip490)\" d=\"M 0 0 M1120.97 18.8205 L1120.97 41.5461 L1131.26 41.5461 Q1136.97 41.5461 1140.09 38.5889 Q1143.21 35.6318 1143.21 30.163 Q1143.21 24.7348 1140.09 21.7777 Q1136.97 18.8205 1131.26 18.8205 L1120.97 18.8205 M1112.79 12.096 L1131.26 12.096 Q1141.43 12.096 1146.62 16.714 Q1151.84 21.2916 1151.84 30.163 Q1151.84 39.1155 1146.62 43.6931 Q1141.43 48.2706 1131.26 48.2706 L1120.97 48.2706 L1120.97 72.576 L1112.79 72.576 L1112.79 12.096 Z\" fill=\"#000000\" fill-rule=\"evenodd\" fill-opacity=\"1\" /><path clip-path=\"url(#clip490)\" d=\"M 0 0 M1187.33 34.1734 Q1186.07 33.4443 1184.57 33.1202 Q1183.11 32.7556 1181.33 32.7556 Q1175.01 32.7556 1171.61 36.8875 Q1168.25 40.9789 1168.25 48.6757 L1168.25 72.576 L1160.75 72.576 L1160.75 27.2059 L1168.25 27.2059 L1168.25 34.2544 Q1170.6 30.1225 1174.36 28.1376 Q1178.13 26.1121 1183.52 26.1121 Q1184.29 26.1121 1185.22 26.2337 Q1186.15 26.3147 1187.29 26.5172 L1187.33 34.1734 Z\" fill=\"#000000\" fill-rule=\"evenodd\" fill-opacity=\"1\" /><path clip-path=\"url(#clip490)\" d=\"M 0 0 M1210.9 32.4315 Q1204.91 32.4315 1201.42 37.1306 Q1197.94 41.7891 1197.94 49.9314 Q1197.94 58.0738 1201.38 62.7728 Q1204.87 67.4314 1210.9 67.4314 Q1216.86 67.4314 1220.34 62.7323 Q1223.83 58.0333 1223.83 49.9314 Q1223.83 41.8701 1220.34 37.1711 Q1216.86 32.4315 1210.9 32.4315 M1210.9 26.1121 Q1220.63 26.1121 1226.18 32.4315 Q1231.73 38.7509 1231.73 49.9314 Q1231.73 61.0714 1226.18 67.4314 Q1220.63 73.7508 1210.9 73.7508 Q1201.14 73.7508 1195.59 67.4314 Q1190.08 61.0714 1190.08 49.9314 Q1190.08 38.7509 1195.59 32.4315 Q1201.14 26.1121 1210.9 26.1121 Z\" fill=\"#000000\" fill-rule=\"evenodd\" fill-opacity=\"1\" /><path clip-path=\"url(#clip490)\" d=\"M 0 0 M1273.94 49.3643 Q1273.94 41.2625 1270.57 36.8065 Q1267.25 32.3505 1261.22 32.3505 Q1255.22 32.3505 1251.86 36.8065 Q1248.54 41.2625 1248.54 49.3643 Q1248.54 57.4256 1251.86 61.8816 Q1255.22 66.3376 1261.22 66.3376 Q1267.25 66.3376 1270.57 61.8816 Q1273.94 57.4256 1273.94 49.3643 M1281.39 66.9452 Q1281.39 78.5308 1276.24 84.1616 Q1271.1 89.8329 1260.49 89.8329 Q1256.56 89.8329 1253.07 89.2252 Q1249.59 88.6581 1246.31 87.4428 L1246.31 80.1917 Q1249.59 81.9741 1252.79 82.8248 Q1255.99 83.6755 1259.31 83.6755 Q1266.64 83.6755 1270.29 79.8271 Q1273.94 76.0193 1273.94 68.282 L1273.94 64.5957 Q1271.63 68.6061 1268.02 70.5911 Q1264.42 72.576 1259.39 72.576 Q1251.05 72.576 1245.94 66.2161 Q1240.84 59.8562 1240.84 49.3643 Q1240.84 38.832 1245.94 32.472 Q1251.05 26.1121 1259.39 26.1121 Q1264.42 26.1121 1268.02 28.0971 Q1271.63 30.082 1273.94 34.0924 L1273.94 27.2059 L1281.39 27.2059 L1281.39 66.9452 Z\" fill=\"#000000\" fill-rule=\"evenodd\" fill-opacity=\"1\" /><path clip-path=\"url(#clip490)\" d=\"M 0 0 M1323.03 34.1734 Q1321.78 33.4443 1320.28 33.1202 Q1318.82 32.7556 1317.04 32.7556 Q1310.72 32.7556 1307.32 36.8875 Q1303.95 40.9789 1303.95 48.6757 L1303.95 72.576 L1296.46 72.576 L1296.46 27.2059 L1303.95 27.2059 L1303.95 34.2544 Q1306.3 30.1225 1310.07 28.1376 Q1313.84 26.1121 1319.22 26.1121 Q1319.99 26.1121 1320.93 26.2337 Q1321.86 26.3147 1322.99 26.5172 L1323.03 34.1734 Z\" fill=\"#000000\" fill-rule=\"evenodd\" fill-opacity=\"1\" /><path clip-path=\"url(#clip490)\" d=\"M 0 0 M1351.47 49.7694 Q1342.44 49.7694 1338.95 51.8354 Q1335.47 53.9013 1335.47 58.8839 Q1335.47 62.8538 1338.06 65.2034 Q1340.69 67.5124 1345.19 67.5124 Q1351.39 67.5124 1355.12 63.1374 Q1358.88 58.7219 1358.88 51.4303 L1358.88 49.7694 L1351.47 49.7694 M1366.34 46.6907 L1366.34 72.576 L1358.88 72.576 L1358.88 65.6895 Q1356.33 69.8214 1352.52 71.8063 Q1348.72 73.7508 1343.21 73.7508 Q1336.24 73.7508 1332.11 69.8619 Q1328.02 65.9325 1328.02 59.3701 Q1328.02 51.7138 1333.12 47.825 Q1338.26 43.9361 1348.43 43.9361 L1358.88 43.9361 L1358.88 43.2069 Q1358.88 38.0623 1355.48 35.2672 Q1352.12 32.4315 1346 32.4315 Q1342.11 32.4315 1338.43 33.3632 Q1334.74 34.295 1331.34 36.1584 L1331.34 29.2718 Q1335.43 27.692 1339.28 26.9223 Q1343.13 26.1121 1346.77 26.1121 Q1356.61 26.1121 1361.48 31.2163 Q1366.34 36.3204 1366.34 46.6907 Z\" fill=\"#000000\" fill-rule=\"evenodd\" fill-opacity=\"1\" /><path clip-path=\"url(#clip490)\" d=\"M 0 0 M1417.01 35.9153 Q1419.81 30.8922 1423.7 28.5022 Q1427.59 26.1121 1432.85 26.1121 Q1439.94 26.1121 1443.79 31.0947 Q1447.64 36.0368 1447.64 45.1919 L1447.64 72.576 L1440.14 72.576 L1440.14 45.4349 Q1440.14 38.913 1437.84 35.7533 Q1435.53 32.5936 1430.79 32.5936 Q1424.99 32.5936 1421.63 36.4419 Q1418.27 40.2903 1418.27 46.9338 L1418.27 72.576 L1410.78 72.576 L1410.78 45.4349 Q1410.78 38.8725 1408.47 35.7533 Q1406.16 32.5936 1401.34 32.5936 Q1395.62 32.5936 1392.26 36.4824 Q1388.9 40.3308 1388.9 46.9338 L1388.9 72.576 L1381.41 72.576 L1381.41 27.2059 L1388.9 27.2059 L1388.9 34.2544 Q1391.45 30.082 1395.02 28.0971 Q1398.58 26.1121 1403.48 26.1121 Q1408.43 26.1121 1411.87 28.6237 Q1415.35 31.1352 1417.01 35.9153 Z\" fill=\"#000000\" fill-rule=\"evenodd\" fill-opacity=\"1\" /><path clip-path=\"url(#clip490)\" d=\"M 0 0 M1491.43 28.5427 L1491.43 35.5912 Q1488.27 33.9709 1484.87 33.1607 Q1481.46 32.3505 1477.82 32.3505 Q1472.27 32.3505 1469.47 34.0519 Q1466.72 35.7533 1466.72 39.156 Q1466.72 41.7486 1468.7 43.2475 Q1470.69 44.7058 1476.68 46.0426 L1479.24 46.6097 Q1487.18 48.3111 1490.5 51.4303 Q1493.86 54.509 1493.86 60.0587 Q1493.86 66.3781 1488.84 70.0644 Q1483.85 73.7508 1475.1 73.7508 Q1471.46 73.7508 1467.49 73.0216 Q1463.56 72.3329 1459.18 70.9151 L1459.18 63.2184 Q1463.32 65.3654 1467.33 66.4591 Q1471.34 67.5124 1475.27 67.5124 Q1480.53 67.5124 1483.37 65.73 Q1486.2 63.9071 1486.2 60.6258 Q1486.2 57.5877 1484.14 55.9673 Q1482.11 54.3469 1475.18 52.8481 L1472.59 52.2405 Q1465.66 50.7821 1462.59 47.7845 Q1459.51 44.7463 1459.51 39.4801 Q1459.51 33.0797 1464.04 29.5959 Q1468.58 26.1121 1476.93 26.1121 Q1481.06 26.1121 1484.7 26.7198 Q1488.35 27.3274 1491.43 28.5427 Z\" fill=\"#000000\" fill-rule=\"evenodd\" fill-opacity=\"1\" /><path clip-path=\"url(#clip492)\" d=\"\n",
       "M1286.07 556.708 L1286.07 1423.18 L1499.41 1423.18 L1499.41 556.708 L1286.07 556.708 L1286.07 556.708  Z\n",
       "  \" fill=\"#1874cd\" fill-rule=\"evenodd\" fill-opacity=\"0.7\"/>\n",
       "<polyline clip-path=\"url(#clip492)\" style=\"stroke:#000000; stroke-width:4; stroke-opacity:0.7; fill:none\" points=\"\n",
       "  1286.07,556.708 1286.07,1423.18 1499.41,1423.18 1499.41,556.708 1286.07,556.708 \n",
       "  \"/>\n",
       "<path clip-path=\"url(#clip492)\" d=\"\n",
       "M1499.41 556.708 L1499.41 1423.18 L1712.74 1423.18 L1712.74 556.708 L1499.41 556.708 L1499.41 556.708  Z\n",
       "  \" fill=\"#1874cd\" fill-rule=\"evenodd\" fill-opacity=\"0.7\"/>\n",
       "<polyline clip-path=\"url(#clip492)\" style=\"stroke:#000000; stroke-width:4; stroke-opacity:0.7; fill:none\" points=\"\n",
       "  1499.41,556.708 1499.41,1423.18 1712.74,1423.18 1712.74,556.708 1499.41,556.708 \n",
       "  \"/>\n",
       "<path clip-path=\"url(#clip492)\" d=\"\n",
       "M1712.74 1423.18 L1712.74 1423.18 L1926.08 1423.18 L1926.08 1423.18 L1712.74 1423.18 L1712.74 1423.18  Z\n",
       "  \" fill=\"#1874cd\" fill-rule=\"evenodd\" fill-opacity=\"0.7\"/>\n",
       "<polyline clip-path=\"url(#clip492)\" style=\"stroke:#000000; stroke-width:4; stroke-opacity:0.7; fill:none\" points=\"\n",
       "  1712.74,1423.18 1712.74,1423.18 1926.08,1423.18 1712.74,1423.18 \n",
       "  \"/>\n",
       "<path clip-path=\"url(#clip492)\" d=\"\n",
       "M1926.08 556.708 L1926.08 1423.18 L2139.42 1423.18 L2139.42 556.708 L1926.08 556.708 L1926.08 556.708  Z\n",
       "  \" fill=\"#1874cd\" fill-rule=\"evenodd\" fill-opacity=\"0.7\"/>\n",
       "<polyline clip-path=\"url(#clip492)\" style=\"stroke:#000000; stroke-width:4; stroke-opacity:0.7; fill:none\" points=\"\n",
       "  1926.08,556.708 1926.08,1423.18 2139.42,1423.18 2139.42,556.708 1926.08,556.708 \n",
       "  \"/>\n",
       "</svg>\n"
      ]
     },
     "metadata": {},
     "output_type": "display_data"
    }
   ],
   "source": [
    "curricula = Array{Curriculum,1}()\n",
    "metric = \"complexity\"\n",
    "for (key, val) in plans\n",
    "    push!(curricula, val.curriculum)\n",
    "end\n",
    "display(metric_histogram(curricula, metric, title=\" Programs\", xlabel=\"$(metric)\", ylabel=\"# of curricula\", xlim=(0,500)))"
   ]
  },
  {
   "cell_type": "markdown",
   "metadata": {},
   "source": [
    "# Extraneous Prerequisites\n",
    "The following function will find prerequisites in a curriculum.  These are redundant prerequisites that are unnecessary in a curriculum.  For example, if a curriculum has the prerequisite \n",
    "relationships $c_1 \\rightarrow c_2 \\rightarrow c_3$ and $c_1 \\rightarrow c_3$, and $c_1$ and $c_2$ are \n",
    "*not* co-requisites, then $c_1 \\rightarrow c_3$ is redundant and therefore extraneous.  Extraneous prerequisites do not effect the curricular complexity metric, they simply are unnecessary clutter in a curriculum or degree plan."
   ]
  },
  {
   "cell_type": "code",
   "execution_count": 9,
   "metadata": {},
   "outputs": [
    {
     "name": "stdout",
     "output_type": "stream",
     "text": [
      "\n",
      "Georgia Institute of Technology: curriculum Aerospace Engineering has extraneous requisites:\n",
      "-Statics has redundant requisite Integral Calculus\n",
      "\n",
      "\n",
      "\n",
      "Georgia Institute of Technology: curriculum Electrical Engineering - Electronic Devices and Circuit Technology has extraneous requisites:\n",
      "-Digital Design Lab has redundant requisite Fund. of Digital System Design\n",
      "-Microelectronic Circuits has redundant requisite Differential Equations\n",
      "-Electromagnetics has redundant requisite Differential Equations\n",
      "-Measurements, Circuits and Microelectronics Lab has redundant requisite Digital Design Lab\n",
      "\n"
     ]
    }
   ],
   "source": [
    "for plan in plans\n",
    "    extraneous_requisites(plan[2].curriculum, print=true)\n",
    "end"
   ]
  },
  {
   "cell_type": "markdown",
   "metadata": {},
   "source": [
    "## Dead End Courses\n",
    "The following function can be used to find \"dead end\" courses in a curricula.  Dead end courses are those that appear at the end of a path (i.e., sink vertices), and are not a part of a course associated with the major.  E.g., in the case of the ECE curriculum above, these would be courses at the end of a path that do not have the \"ECE\" or \"ENGR\" prefix.  One might consider these courses dead ends, as their course outcomes are not (formally) used by any \n",
    "major-specific course, i.e., by any course with the prefix \"ECE.\""
   ]
  },
  {
   "cell_type": "code",
   "execution_count": 10,
   "metadata": {},
   "outputs": [],
   "source": [
    "prefixes = Dict{String, Array{String,1}}()\n",
    "prefixes[\"Electrical Engineering\"] = [\"ECE\"];\n",
    "prefixes[\"Electrical Engineering - Electronic Devices and Circuit Technology\"] = [\"ECE\"];\n",
    "prefixes[\"Aerospace Engineering\"] = [\"AE\"];"
   ]
  },
  {
   "cell_type": "code",
   "execution_count": 11,
   "metadata": {},
   "outputs": [
    {
     "name": "stdout",
     "output_type": "stream",
     "text": [
      "\n",
      "Dead end courses in the Aerospace Engineering curriculum:\n",
      "ENGL 1102: English Composition II\n",
      "ECE 3741: Circuits /Electronics Lab\n",
      "AE  4341/2/3: Air/Space/Rotor Design\n",
      "\n",
      "Dead end courses in the Electrical Engineering curriculum:\n",
      "\n",
      "Dead end courses in the Electrical Engineering - Electronic Devices and Circuit Technology curriculum:\n",
      "ENGL 1102: English Composition II\n"
     ]
    }
   ],
   "source": [
    "for plan in plans\n",
    "    de = dead_ends(plan[2].curriculum, prefixes[plan[2].curriculum.name])\n",
    "    println(\"\\nDead end courses in the $(plan[2].curriculum.name) curriculum:\")\n",
    "    for course in de[2]\n",
    "        println(\"$(course.prefix) $(course.num): $(course.name)\")\n",
    "    end\n",
    "end"
   ]
  },
  {
   "cell_type": "markdown",
   "metadata": {},
   "source": [
    "# Degree Plan Optimization \n",
    "The Curricular Analytics toolbox contains a number of functions that will create different degree plans for a curriculum depending upon various optimization criteria.  In order to use these functions, you must first install the Gourbi solver, called [Gurobi Optimizer](https://www.gurobi.com/downloads/gurobi-optimizer-eula). Gurobi is a commercial product, and requires a license key; however, [academic licenses](https://www.gurobi.com/downloads/end-user-license-agreement-academic) are available at no cost."
   ]
  },
  {
   "cell_type": "code",
   "execution_count": 12,
   "metadata": {},
   "outputs": [],
   "source": [
    "# Uncomment the following two lines if the Gurobi package has not yet been included in your Julia environment.\n",
    "#using Pkg\n",
    "#Pkg.add(\"Gurobi\")\n",
    "using Gurobi"
   ]
  },
  {
   "cell_type": "code",
   "execution_count": 13,
   "metadata": {},
   "outputs": [
    {
     "name": "stdout",
     "output_type": "stream",
     "text": [
      "\n",
      "Curriculum: Electrical Engineering - Electronic Devices and Circuit Technology\n",
      "Degree Plan: 2021-22 Plan\n",
      "  total credit hours = 129\n",
      "  number of terms = 8\n",
      "  max. credits in a term = 17, in term 1\n",
      "  min. credits in a term = 14, in term 8\n",
      "  avg. credits per term = 16.125, with std. dev. = 1.0532687216470449\n",
      "\n"
     ]
    }
   ],
   "source": [
    "metrics = basic_metrics(EE_plan)\n",
    "println(String(take!(metrics)))"
   ]
  },
  {
   "cell_type": "code",
   "execution_count": 14,
   "metadata": {
    "scrolled": false
   },
   "outputs": [
    {
     "name": "stdout",
     "output_type": "stream",
     "text": [
      "Academic license - for non-commercial use only\n",
      "An optimal solution was found with objective value = 14.0\n"
     ]
    },
    {
     "data": {
      "application/vnd.webio.node+json": {
       "children": [
        {
         "children": [
          ""
         ],
         "instanceArgs": {
          "namespace": "html",
          "tag": "iframe"
         },
         "nodeType": "DOM",
         "props": {
          "events": {
           "load": "(function (){this.contentWindow.postMessage({\"options\":{\"hideTerms\":false,\"edit\":false},\"curriculum\":{\"name\":\"Electrical Engineering - Electronic Devices and Circuit Technology\",\"dp_name\":\"\",\"curriculum_terms\":[{\"name\":\"Term 1\",\"curriculum_items\":[{\"curriculum_requisites\":[],\"name\":\"MATH 1551\",\"metrics\":{\"complexity\":27.0,\"centrality\":0,\"blocking factor\":19,\"delay factor\":8.0},\"nameSub\":\"Differential Calculus\",\"id\":5,\"credits\":2,\"nameCanonical\":\"\"},{\"curriculum_requisites\":[{\"source_id\":5,\"target_id\":6,\"type\":\"CurriculumCorequisite\"}],\"name\":\"MATH 1554\",\"metrics\":{\"complexity\":19.0,\"centrality\":55,\"blocking factor\":12,\"delay factor\":7.0},\"nameSub\":\"Linear Algebra\",\"id\":6,\"credits\":4,\"nameCanonical\":\"\"},{\"curriculum_requisites\":[],\"name\":\"CHEM 1310\",\"metrics\":{\"complexity\":6.0,\"centrality\":0,\"blocking factor\":3,\"delay factor\":3.0},\"nameSub\":\"General Chemistry\",\"id\":1,\"credits\":4,\"nameCanonical\":\"\"},{\"curriculum_requisites\":[],\"name\":\"CS 1301\",\"metrics\":{\"complexity\":16.0,\"centrality\":0,\"blocking factor\":10,\"delay factor\":6.0},\"nameSub\":\"Intro to Computing\",\"id\":2,\"credits\":3,\"nameCanonical\":\"\"},{\"curriculum_requisites\":[],\"name\":\" \",\"metrics\":{\"complexity\":1.0,\"centrality\":0,\"blocking factor\":0,\"delay factor\":1.0},\"nameSub\":\"Humanities Elective\",\"id\":27,\"credits\":3,\"nameCanonical\":\"\"}],\"id\":1},{\"name\":\"Term 2\",\"curriculum_items\":[{\"curriculum_requisites\":[{\"source_id\":5,\"target_id\":9,\"type\":\"CurriculumPrerequisite\"}],\"name\":\"MATH 1552\",\"metrics\":{\"complexity\":25.0,\"centrality\":111,\"blocking factor\":17,\"delay factor\":8.0},\"nameSub\":\"Integral Calculus\",\"id\":9,\"credits\":4,\"nameCanonical\":\"\"},{\"curriculum_requisites\":[],\"name\":\"ECE 3400\",\"metrics\":{\"complexity\":1.0,\"centrality\":0,\"blocking factor\":0,\"delay factor\":1.0},\"nameSub\":\"\",\"id\":31,\"credits\":3,\"nameCanonical\":\"\"},{\"curriculum_requisites\":[],\"name\":\"ENGL 1101\",\"metrics\":{\"complexity\":3.0,\"centrality\":0,\"blocking factor\":1,\"delay factor\":2.0},\"nameSub\":\"English Composition I\",\"id\":4,\"credits\":3,\"nameCanonical\":\"\"},{\"curriculum_requisites\":[],\"name\":\"ECE 4452\",\"metrics\":{\"complexity\":1.0,\"centrality\":0,\"blocking factor\":0,\"delay factor\":1.0},\"nameSub\":\"\",\"id\":38,\"credits\":3,\"nameCanonical\":\"\"},{\"curriculum_requisites\":[{\"source_id\":9,\"target_id\":10,\"type\":\"CurriculumCorequisite\"}],\"name\":\"PHYS  2211\",\"metrics\":{\"complexity\":20.0,\"centrality\":46,\"blocking factor\":12,\"delay factor\":8.0},\"nameSub\":\"Intro Physics 1\",\"id\":10,\"credits\":4,\"nameCanonical\":\"\"}],\"id\":2},{\"name\":\"Term 3\",\"curriculum_items\":[{\"curriculum_requisites\":[{\"source_id\":10,\"target_id\":16,\"type\":\"CurriculumPrerequisite\"}],\"name\":\"PHYS  2212\",\"metrics\":{\"complexity\":19.0,\"centrality\":46,\"blocking factor\":11,\"delay factor\":8.0},\"nameSub\":\"Intro. Physics 2\",\"id\":16,\"credits\":4,\"nameCanonical\":\"\"},{\"curriculum_requisites\":[{\"source_id\":2,\"target_id\":7,\"type\":\"CurriculumPrerequisite\"}],\"name\":\"ECE 2020\",\"metrics\":{\"complexity\":11.0,\"centrality\":41,\"blocking factor\":5,\"delay factor\":6.0},\"nameSub\":\"Fund. of Digital System Design\",\"id\":7,\"credits\":3,\"nameCanonical\":\"\"},{\"curriculum_requisites\":[],\"name\":\" \",\"metrics\":{\"complexity\":1.0,\"centrality\":0,\"blocking factor\":0,\"delay factor\":1.0},\"nameSub\":\"Social Science Elective\",\"id\":40,\"credits\":3,\"nameCanonical\":\"\"},{\"curriculum_requisites\":[{\"source_id\":6,\"target_id\":15,\"type\":\"CurriculumPrerequisite\"},{\"source_id\":9,\"target_id\":15,\"type\":\"CurriculumPrerequisite\"}],\"name\":\"MATH 2552\",\"metrics\":{\"complexity\":18.0,\"centrality\":110,\"blocking factor\":11,\"delay factor\":7.0},\"nameSub\":\"Differential Equations\",\"id\":15,\"credits\":4,\"nameCanonical\":\"\"},{\"curriculum_requisites\":[],\"name\":\"APPH 1040\",\"metrics\":{\"complexity\":1.0,\"centrality\":0,\"blocking factor\":0,\"delay factor\":1.0},\"nameSub\":\"\",\"id\":26,\"credits\":2,\"nameCanonical\":\"\"}],\"id\":3},{\"name\":\"Term 4\",\"curriculum_items\":[{\"curriculum_requisites\":[{\"source_id\":16,\"target_id\":19,\"type\":\"CurriculumPrerequisite\"},{\"source_id\":15,\"target_id\":19,\"type\":\"CurriculumPrerequisite\"}],\"name\":\"ECE 2040\",\"metrics\":{\"complexity\":18.0,\"centrality\":124,\"blocking factor\":10,\"delay factor\":8.0},\"nameSub\":\"Circuit Analysis\",\"id\":19,\"credits\":3,\"nameCanonical\":\"\"},{\"curriculum_requisites\":[{\"source_id\":2,\"target_id\":12,\"type\":\"CurriculumPrerequisite\"},{\"source_id\":9,\"target_id\":12,\"type\":\"CurriculumPrerequisite\"}],\"name\":\"ECE 2026\",\"metrics\":{\"complexity\":9.0,\"centrality\":11,\"blocking factor\":3,\"delay factor\":6.0},\"nameSub\":\"Intro. to Signal Processing\",\"id\":12,\"credits\":3,\"nameCanonical\":\"\"},{\"curriculum_requisites\":[],\"name\":\" \",\"metrics\":{\"complexity\":1.0,\"centrality\":0,\"blocking factor\":0,\"delay factor\":1.0},\"nameSub\":\"History/Government Elective\",\"id\":11,\"credits\":3,\"nameCanonical\":\"\"},{\"curriculum_requisites\":[],\"name\":\" \",\"metrics\":{\"complexity\":1.0,\"centrality\":0,\"blocking factor\":0,\"delay factor\":1.0},\"nameSub\":\"Humanities Elective\",\"id\":14,\"credits\":3,\"nameCanonical\":\"\"},{\"curriculum_requisites\":[{\"source_id\":7,\"target_id\":18,\"type\":\"CurriculumPrerequisite\"}],\"name\":\"ECE 2035\",\"metrics\":{\"complexity\":10.0,\"centrality\":27,\"blocking factor\":4,\"delay factor\":6.0},\"nameSub\":\"Programming Elective\",\"id\":18,\"credits\":4,\"nameCanonical\":\"\"}],\"id\":4},{\"name\":\"Term 5\",\"curriculum_items\":[{\"curriculum_requisites\":[{\"source_id\":19,\"target_id\":45,\"type\":\"CurriculumPrerequisite\"}],\"name\":\" \",\"metrics\":{\"complexity\":6.0,\"centrality\":0,\"blocking factor\":0,\"delay factor\":6.0},\"nameSub\":\"Circuit Technologies Topics\",\"id\":45,\"credits\":3,\"nameCanonical\":\"\"},{\"curriculum_requisites\":[],\"name\":\" \",\"metrics\":{\"complexity\":1.0,\"centrality\":0,\"blocking factor\":0,\"delay factor\":1.0},\"nameSub\":\"Econ/Social Science Elective\",\"id\":13,\"credits\":3,\"nameCanonical\":\"\"},{\"curriculum_requisites\":[{\"source_id\":15,\"target_id\":24,\"type\":\"CurriculumPrerequisite\"},{\"source_id\":12,\"target_id\":24,\"type\":\"CurriculumPrerequisite\"},{\"source_id\":19,\"target_id\":24,\"type\":\"CurriculumPrerequisite\"}],\"name\":\"ECE 3025\",\"metrics\":{\"complexity\":10.0,\"centrality\":45,\"blocking factor\":2,\"delay factor\":8.0},\"nameSub\":\"Electromagnetics\",\"id\":24,\"credits\":3,\"nameCanonical\":\"\"},{\"curriculum_requisites\":[],\"name\":\"ECE 3005\",\"metrics\":{\"complexity\":1.0,\"centrality\":0,\"blocking factor\":0,\"delay factor\":1.0},\"nameSub\":\"\",\"id\":28,\"credits\":1,\"nameCanonical\":\"\"},{\"curriculum_requisites\":[{\"source_id\":4,\"target_id\":8,\"type\":\"CurriculumPrerequisite\"}],\"name\":\"ENGL 1102\",\"metrics\":{\"complexity\":2.0,\"centrality\":0,\"blocking factor\":0,\"delay factor\":2.0},\"nameSub\":\"English Composition II\",\"id\":8,\"credits\":3,\"nameCanonical\":\"\"},{\"curriculum_requisites\":[],\"name\":\" \",\"metrics\":{\"complexity\":1.0,\"centrality\":0,\"blocking factor\":0,\"delay factor\":1.0},\"nameSub\":\"Elective Hours\",\"id\":33,\"credits\":3,\"nameCanonical\":\"\"}],\"id\":5},{\"name\":\"Term 6\",\"curriculum_items\":[{\"curriculum_requisites\":[{\"source_id\":9,\"target_id\":20,\"type\":\"CurriculumPrerequisite\"}],\"name\":\"MATH 2551\",\"metrics\":{\"complexity\":5.0,\"centrality\":4,\"blocking factor\":1,\"delay factor\":4.0},\"nameSub\":\"Multivariate Calculus\",\"id\":20,\"credits\":4,\"nameCanonical\":\"\"},{\"curriculum_requisites\":[{\"source_id\":24,\"target_id\":35,\"type\":\"CurriculumPrerequisite\"}],\"name\":\" \",\"metrics\":{\"complexity\":9.0,\"centrality\":45,\"blocking factor\":1,\"delay factor\":8.0},\"nameSub\":\"Senior Design Sequence\",\"id\":35,\"credits\":1,\"nameCanonical\":\"\"},{\"curriculum_requisites\":[],\"name\":\" \",\"metrics\":{\"complexity\":1.0,\"centrality\":0,\"blocking factor\":0,\"delay factor\":1.0},\"nameSub\":\"Elective Hours\",\"id\":44,\"credits\":3,\"nameCanonical\":\"\"},{\"curriculum_requisites\":[{\"source_id\":7,\"target_id\":17,\"type\":\"CurriculumPrerequisite\"},{\"source_id\":18,\"target_id\":17,\"type\":\"CurriculumCorequisite\"}],\"name\":\"ECE 2031\",\"metrics\":{\"complexity\":9.0,\"centrality\":31,\"blocking factor\":3,\"delay factor\":6.0},\"nameSub\":\"Digital Design Lab\",\"id\":17,\"credits\":2,\"nameCanonical\":\"\"},{\"curriculum_requisites\":[{\"source_id\":19,\"target_id\":43,\"type\":\"CurriculumPrerequisite\"}],\"name\":\" \",\"metrics\":{\"complexity\":6.0,\"centrality\":0,\"blocking factor\":0,\"delay factor\":6.0},\"nameSub\":\"ECE 3000/4000 Elective\",\"id\":43,\"credits\":3,\"nameCanonical\":\"\"},{\"curriculum_requisites\":[],\"name\":\"ECE 1100\",\"metrics\":{\"complexity\":1.0,\"centrality\":0,\"blocking factor\":0,\"delay factor\":1.0},\"nameSub\":\"ECE Discovery Studio\",\"id\":3,\"credits\":1,\"nameCanonical\":\"\"},{\"curriculum_requisites\":[],\"name\":\" \",\"metrics\":{\"complexity\":1.0,\"centrality\":0,\"blocking factor\":0,\"delay factor\":1.0},\"nameSub\":\"Elective Hours\",\"id\":39,\"credits\":2,\"nameCanonical\":\"\"}],\"id\":6},{\"name\":\"Term 7\",\"curriculum_items\":[{\"curriculum_requisites\":[],\"name\":\" \",\"metrics\":{\"complexity\":1.0,\"centrality\":0,\"blocking factor\":0,\"delay factor\":1.0},\"nameSub\":\"Elective Hours\",\"id\":29,\"credits\":3,\"nameCanonical\":\"\"},{\"curriculum_requisites\":[],\"name\":\" \",\"metrics\":{\"complexity\":1.0,\"centrality\":0,\"blocking factor\":0,\"delay factor\":1.0},\"nameSub\":\"Science Elective\",\"id\":21,\"credits\":3,\"nameCanonical\":\"\"},{\"curriculum_requisites\":[{\"source_id\":19,\"target_id\":37,\"type\":\"CurriculumPrerequisite\"}],\"name\":\" \",\"metrics\":{\"complexity\":6.0,\"centrality\":0,\"blocking factor\":0,\"delay factor\":6.0},\"nameSub\":\"ECE 3000/4000 Elective\",\"id\":37,\"credits\":3,\"nameCanonical\":\"\"},{\"curriculum_requisites\":[{\"source_id\":15,\"target_id\":22,\"type\":\"CurriculumPrerequisite\"},{\"source_id\":18,\"target_id\":22,\"type\":\"CurriculumPrerequisite\"},{\"source_id\":17,\"target_id\":22,\"type\":\"CurriculumPrerequisite\"},{\"source_id\":1,\"target_id\":22,\"type\":\"CurriculumPrerequisite\"},{\"source_id\":19,\"target_id\":22,\"type\":\"CurriculumPrerequisite\"}],\"name\":\"ECE 3040\",\"metrics\":{\"complexity\":9.0,\"centrality\":96,\"blocking factor\":2,\"delay factor\":7.0},\"nameSub\":\"Microelectronic Circuits\",\"id\":22,\"credits\":4,\"nameCanonical\":\"\"},{\"curriculum_requisites\":[{\"source_id\":19,\"target_id\":42,\"type\":\"CurriculumPrerequisite\"}],\"name\":\" \",\"metrics\":{\"complexity\":6.0,\"centrality\":0,\"blocking factor\":0,\"delay factor\":6.0},\"nameSub\":\"ECE 3000/4000 Elective\",\"id\":42,\"credits\":3,\"nameCanonical\":\"\"}],\"id\":7},{\"name\":\"Term 8\",\"curriculum_items\":[{\"curriculum_requisites\":[],\"name\":\"ECE 3450\",\"metrics\":{\"complexity\":1.0,\"centrality\":0,\"blocking factor\":0,\"delay factor\":1.0},\"nameSub\":\"\",\"id\":30,\"credits\":3,\"nameCanonical\":\"\"},{\"curriculum_requisites\":[],\"name\":\" \",\"metrics\":{\"complexity\":1.0,\"centrality\":0,\"blocking factor\":0,\"delay factor\":1.0},\"nameSub\":\"Social Science Elective\",\"id\":32,\"credits\":3,\"nameCanonical\":\"\"},{\"curriculum_requisites\":[{\"source_id\":22,\"target_id\":23,\"type\":\"CurriculumCorequisite\"},{\"source_id\":17,\"target_id\":23,\"type\":\"CurriculumPrerequisite\"}],\"name\":\"ECE 3043\",\"metrics\":{\"complexity\":7.0,\"centrality\":0,\"blocking factor\":0,\"delay factor\":7.0},\"nameSub\":\"Measurements, Circuits and Microelectronics Lab\",\"id\":23,\"credits\":2,\"nameCanonical\":\"\"},{\"curriculum_requisites\":[{\"source_id\":35,\"target_id\":41,\"type\":\"CurriculumPrerequisite\"}],\"name\":\" \",\"metrics\":{\"complexity\":8.0,\"centrality\":0,\"blocking factor\":0,\"delay factor\":8.0},\"nameSub\":\"Senior Design Sequence\",\"id\":41,\"credits\":2,\"nameCanonical\":\"\"},{\"curriculum_requisites\":[{\"source_id\":22,\"target_id\":36,\"type\":\"CurriculumPrerequisite\"}],\"name\":\" \",\"metrics\":{\"complexity\":7.0,\"centrality\":0,\"blocking factor\":0,\"delay factor\":7.0},\"nameSub\":\"Electronic Devices Topics\",\"id\":36,\"credits\":3,\"nameCanonical\":\"\"},{\"curriculum_requisites\":[{\"source_id\":20,\"target_id\":25,\"type\":\"CurriculumPrerequisite\"}],\"name\":\" \",\"metrics\":{\"complexity\":4.0,\"centrality\":0,\"blocking factor\":0,\"delay factor\":4.0},\"nameSub\":\"Prob & Stat Elective\",\"id\":25,\"credits\":3,\"nameCanonical\":\"\"}],\"id\":8}],\"institution\":\"Georgia Institute of Technology\"}},\"*\"); window.removeEventListener(\"message\",window.messageReceived); window.messageReceived=(function (event){return (event.data.curriculum!==undefined) ? (WebIO.setval({\"name\":\"curriculum-data\",\"scope\":\"14524392963870972274\",\"id\":\"7189423053985555033\",\"type\":\"observable\"},event.data.curriculum)) : undefined}); return window.addEventListener(\"message\",window.messageReceived)})"
          },
          "id": "curriculum",
          "src": "https://curricula-api-embed.damoursystems.com/",
          "style": {
           "border": "none",
           "height": "100vh",
           "margin": "0",
           "padding": "0",
           "width": "100%"
          }
         },
         "type": "node"
        }
       ],
       "instanceArgs": {
        "handlers": {},
        "id": "14524392963870972274",
        "imports": {
         "data": [],
         "type": "async_block"
        },
        "mount_callbacks": [],
        "observables": {
         "curriculum-data": {
          "id": "7189423053985555033",
          "sync": true,
          "value": {
           "curriculum": {
            "curriculum_terms": [
             {
              "curriculum_items": [
               {
                "credits": 2,
                "curriculum_requisites": [],
                "id": 5,
                "metrics": {
                 "blocking factor": 19,
                 "centrality": 0,
                 "complexity": 27,
                 "delay factor": 8
                },
                "name": "MATH 1551",
                "nameCanonical": "",
                "nameSub": "Differential Calculus"
               },
               {
                "credits": 4,
                "curriculum_requisites": [
                 {
                  "source_id": 5,
                  "target_id": 6,
                  "type": "CurriculumCorequisite"
                 }
                ],
                "id": 6,
                "metrics": {
                 "blocking factor": 12,
                 "centrality": 55,
                 "complexity": 19,
                 "delay factor": 7
                },
                "name": "MATH 1554",
                "nameCanonical": "",
                "nameSub": "Linear Algebra"
               },
               {
                "credits": 4,
                "curriculum_requisites": [],
                "id": 1,
                "metrics": {
                 "blocking factor": 3,
                 "centrality": 0,
                 "complexity": 6,
                 "delay factor": 3
                },
                "name": "CHEM 1310",
                "nameCanonical": "",
                "nameSub": "General Chemistry"
               },
               {
                "credits": 3,
                "curriculum_requisites": [],
                "id": 2,
                "metrics": {
                 "blocking factor": 10,
                 "centrality": 0,
                 "complexity": 16,
                 "delay factor": 6
                },
                "name": "CS 1301",
                "nameCanonical": "",
                "nameSub": "Intro to Computing"
               },
               {
                "credits": 3,
                "curriculum_requisites": [],
                "id": 27,
                "metrics": {
                 "blocking factor": 0,
                 "centrality": 0,
                 "complexity": 1,
                 "delay factor": 1
                },
                "name": " ",
                "nameCanonical": "",
                "nameSub": "Humanities Elective"
               }
              ],
              "id": 1,
              "name": "Term 1"
             },
             {
              "curriculum_items": [
               {
                "credits": 4,
                "curriculum_requisites": [
                 {
                  "source_id": 5,
                  "target_id": 9,
                  "type": "CurriculumPrerequisite"
                 }
                ],
                "id": 9,
                "metrics": {
                 "blocking factor": 17,
                 "centrality": 111,
                 "complexity": 25,
                 "delay factor": 8
                },
                "name": "MATH 1552",
                "nameCanonical": "",
                "nameSub": "Integral Calculus"
               },
               {
                "credits": 3,
                "curriculum_requisites": [],
                "id": 31,
                "metrics": {
                 "blocking factor": 0,
                 "centrality": 0,
                 "complexity": 1,
                 "delay factor": 1
                },
                "name": "ECE 3400",
                "nameCanonical": "",
                "nameSub": ""
               },
               {
                "credits": 3,
                "curriculum_requisites": [],
                "id": 4,
                "metrics": {
                 "blocking factor": 1,
                 "centrality": 0,
                 "complexity": 3,
                 "delay factor": 2
                },
                "name": "ENGL 1101",
                "nameCanonical": "",
                "nameSub": "English Composition I"
               },
               {
                "credits": 3,
                "curriculum_requisites": [],
                "id": 38,
                "metrics": {
                 "blocking factor": 0,
                 "centrality": 0,
                 "complexity": 1,
                 "delay factor": 1
                },
                "name": "ECE 4452",
                "nameCanonical": "",
                "nameSub": ""
               },
               {
                "credits": 4,
                "curriculum_requisites": [
                 {
                  "source_id": 9,
                  "target_id": 10,
                  "type": "CurriculumCorequisite"
                 }
                ],
                "id": 10,
                "metrics": {
                 "blocking factor": 12,
                 "centrality": 46,
                 "complexity": 20,
                 "delay factor": 8
                },
                "name": "PHYS  2211",
                "nameCanonical": "",
                "nameSub": "Intro Physics 1"
               }
              ],
              "id": 2,
              "name": "Term 2"
             },
             {
              "curriculum_items": [
               {
                "credits": 4,
                "curriculum_requisites": [
                 {
                  "source_id": 10,
                  "target_id": 16,
                  "type": "CurriculumPrerequisite"
                 }
                ],
                "id": 16,
                "metrics": {
                 "blocking factor": 11,
                 "centrality": 46,
                 "complexity": 19,
                 "delay factor": 8
                },
                "name": "PHYS  2212",
                "nameCanonical": "",
                "nameSub": "Intro. Physics 2"
               },
               {
                "credits": 3,
                "curriculum_requisites": [
                 {
                  "source_id": 2,
                  "target_id": 7,
                  "type": "CurriculumPrerequisite"
                 }
                ],
                "id": 7,
                "metrics": {
                 "blocking factor": 5,
                 "centrality": 41,
                 "complexity": 11,
                 "delay factor": 6
                },
                "name": "ECE 2020",
                "nameCanonical": "",
                "nameSub": "Fund. of Digital System Design"
               },
               {
                "credits": 3,
                "curriculum_requisites": [],
                "id": 40,
                "metrics": {
                 "blocking factor": 0,
                 "centrality": 0,
                 "complexity": 1,
                 "delay factor": 1
                },
                "name": " ",
                "nameCanonical": "",
                "nameSub": "Social Science Elective"
               },
               {
                "credits": 4,
                "curriculum_requisites": [
                 {
                  "source_id": 6,
                  "target_id": 15,
                  "type": "CurriculumPrerequisite"
                 },
                 {
                  "source_id": 9,
                  "target_id": 15,
                  "type": "CurriculumPrerequisite"
                 }
                ],
                "id": 15,
                "metrics": {
                 "blocking factor": 11,
                 "centrality": 110,
                 "complexity": 18,
                 "delay factor": 7
                },
                "name": "MATH 2552",
                "nameCanonical": "",
                "nameSub": "Differential Equations"
               },
               {
                "credits": 2,
                "curriculum_requisites": [],
                "id": 26,
                "metrics": {
                 "blocking factor": 0,
                 "centrality": 0,
                 "complexity": 1,
                 "delay factor": 1
                },
                "name": "APPH 1040",
                "nameCanonical": "",
                "nameSub": ""
               }
              ],
              "id": 3,
              "name": "Term 3"
             },
             {
              "curriculum_items": [
               {
                "credits": 3,
                "curriculum_requisites": [
                 {
                  "source_id": 16,
                  "target_id": 19,
                  "type": "CurriculumPrerequisite"
                 },
                 {
                  "source_id": 15,
                  "target_id": 19,
                  "type": "CurriculumPrerequisite"
                 }
                ],
                "id": 19,
                "metrics": {
                 "blocking factor": 10,
                 "centrality": 124,
                 "complexity": 18,
                 "delay factor": 8
                },
                "name": "ECE 2040",
                "nameCanonical": "",
                "nameSub": "Circuit Analysis"
               },
               {
                "credits": 3,
                "curriculum_requisites": [
                 {
                  "source_id": 2,
                  "target_id": 12,
                  "type": "CurriculumPrerequisite"
                 },
                 {
                  "source_id": 9,
                  "target_id": 12,
                  "type": "CurriculumPrerequisite"
                 }
                ],
                "id": 12,
                "metrics": {
                 "blocking factor": 3,
                 "centrality": 11,
                 "complexity": 9,
                 "delay factor": 6
                },
                "name": "ECE 2026",
                "nameCanonical": "",
                "nameSub": "Intro. to Signal Processing"
               },
               {
                "credits": 3,
                "curriculum_requisites": [],
                "id": 11,
                "metrics": {
                 "blocking factor": 0,
                 "centrality": 0,
                 "complexity": 1,
                 "delay factor": 1
                },
                "name": " ",
                "nameCanonical": "",
                "nameSub": "History/Government Elective"
               },
               {
                "credits": 3,
                "curriculum_requisites": [],
                "id": 14,
                "metrics": {
                 "blocking factor": 0,
                 "centrality": 0,
                 "complexity": 1,
                 "delay factor": 1
                },
                "name": " ",
                "nameCanonical": "",
                "nameSub": "Humanities Elective"
               },
               {
                "credits": 4,
                "curriculum_requisites": [
                 {
                  "source_id": 7,
                  "target_id": 18,
                  "type": "CurriculumPrerequisite"
                 }
                ],
                "id": 18,
                "metrics": {
                 "blocking factor": 4,
                 "centrality": 27,
                 "complexity": 10,
                 "delay factor": 6
                },
                "name": "ECE 2035",
                "nameCanonical": "",
                "nameSub": "Programming Elective"
               }
              ],
              "id": 4,
              "name": "Term 4"
             },
             {
              "curriculum_items": [
               {
                "credits": 3,
                "curriculum_requisites": [
                 {
                  "source_id": 19,
                  "target_id": 45,
                  "type": "CurriculumPrerequisite"
                 }
                ],
                "id": 45,
                "metrics": {
                 "blocking factor": 0,
                 "centrality": 0,
                 "complexity": 6,
                 "delay factor": 6
                },
                "name": " ",
                "nameCanonical": "",
                "nameSub": "Circuit Technologies Topics"
               },
               {
                "credits": 3,
                "curriculum_requisites": [],
                "id": 13,
                "metrics": {
                 "blocking factor": 0,
                 "centrality": 0,
                 "complexity": 1,
                 "delay factor": 1
                },
                "name": " ",
                "nameCanonical": "",
                "nameSub": "Econ/Social Science Elective"
               },
               {
                "credits": 3,
                "curriculum_requisites": [
                 {
                  "source_id": 15,
                  "target_id": 24,
                  "type": "CurriculumPrerequisite"
                 },
                 {
                  "source_id": 12,
                  "target_id": 24,
                  "type": "CurriculumPrerequisite"
                 },
                 {
                  "source_id": 19,
                  "target_id": 24,
                  "type": "CurriculumPrerequisite"
                 }
                ],
                "id": 24,
                "metrics": {
                 "blocking factor": 2,
                 "centrality": 45,
                 "complexity": 10,
                 "delay factor": 8
                },
                "name": "ECE 3025",
                "nameCanonical": "",
                "nameSub": "Electromagnetics"
               },
               {
                "credits": 1,
                "curriculum_requisites": [],
                "id": 28,
                "metrics": {
                 "blocking factor": 0,
                 "centrality": 0,
                 "complexity": 1,
                 "delay factor": 1
                },
                "name": "ECE 3005",
                "nameCanonical": "",
                "nameSub": ""
               },
               {
                "credits": 3,
                "curriculum_requisites": [
                 {
                  "source_id": 4,
                  "target_id": 8,
                  "type": "CurriculumPrerequisite"
                 }
                ],
                "id": 8,
                "metrics": {
                 "blocking factor": 0,
                 "centrality": 0,
                 "complexity": 2,
                 "delay factor": 2
                },
                "name": "ENGL 1102",
                "nameCanonical": "",
                "nameSub": "English Composition II"
               },
               {
                "credits": 3,
                "curriculum_requisites": [],
                "id": 33,
                "metrics": {
                 "blocking factor": 0,
                 "centrality": 0,
                 "complexity": 1,
                 "delay factor": 1
                },
                "name": " ",
                "nameCanonical": "",
                "nameSub": "Elective Hours"
               }
              ],
              "id": 5,
              "name": "Term 5"
             },
             {
              "curriculum_items": [
               {
                "credits": 4,
                "curriculum_requisites": [
                 {
                  "source_id": 9,
                  "target_id": 20,
                  "type": "CurriculumPrerequisite"
                 }
                ],
                "id": 20,
                "metrics": {
                 "blocking factor": 1,
                 "centrality": 4,
                 "complexity": 5,
                 "delay factor": 4
                },
                "name": "MATH 2551",
                "nameCanonical": "",
                "nameSub": "Multivariate Calculus"
               },
               {
                "credits": 1,
                "curriculum_requisites": [
                 {
                  "source_id": 24,
                  "target_id": 35,
                  "type": "CurriculumPrerequisite"
                 }
                ],
                "id": 35,
                "metrics": {
                 "blocking factor": 1,
                 "centrality": 45,
                 "complexity": 9,
                 "delay factor": 8
                },
                "name": " ",
                "nameCanonical": "",
                "nameSub": "Senior Design Sequence"
               },
               {
                "credits": 3,
                "curriculum_requisites": [],
                "id": 44,
                "metrics": {
                 "blocking factor": 0,
                 "centrality": 0,
                 "complexity": 1,
                 "delay factor": 1
                },
                "name": " ",
                "nameCanonical": "",
                "nameSub": "Elective Hours"
               },
               {
                "credits": 2,
                "curriculum_requisites": [
                 {
                  "source_id": 7,
                  "target_id": 17,
                  "type": "CurriculumPrerequisite"
                 },
                 {
                  "source_id": 18,
                  "target_id": 17,
                  "type": "CurriculumCorequisite"
                 }
                ],
                "id": 17,
                "metrics": {
                 "blocking factor": 3,
                 "centrality": 31,
                 "complexity": 9,
                 "delay factor": 6
                },
                "name": "ECE 2031",
                "nameCanonical": "",
                "nameSub": "Digital Design Lab"
               },
               {
                "credits": 3,
                "curriculum_requisites": [
                 {
                  "source_id": 19,
                  "target_id": 43,
                  "type": "CurriculumPrerequisite"
                 }
                ],
                "id": 43,
                "metrics": {
                 "blocking factor": 0,
                 "centrality": 0,
                 "complexity": 6,
                 "delay factor": 6
                },
                "name": " ",
                "nameCanonical": "",
                "nameSub": "ECE 3000/4000 Elective"
               },
               {
                "credits": 1,
                "curriculum_requisites": [],
                "id": 3,
                "metrics": {
                 "blocking factor": 0,
                 "centrality": 0,
                 "complexity": 1,
                 "delay factor": 1
                },
                "name": "ECE 1100",
                "nameCanonical": "",
                "nameSub": "ECE Discovery Studio"
               },
               {
                "credits": 2,
                "curriculum_requisites": [],
                "id": 39,
                "metrics": {
                 "blocking factor": 0,
                 "centrality": 0,
                 "complexity": 1,
                 "delay factor": 1
                },
                "name": " ",
                "nameCanonical": "",
                "nameSub": "Elective Hours"
               }
              ],
              "id": 6,
              "name": "Term 6"
             },
             {
              "curriculum_items": [
               {
                "credits": 3,
                "curriculum_requisites": [],
                "id": 29,
                "metrics": {
                 "blocking factor": 0,
                 "centrality": 0,
                 "complexity": 1,
                 "delay factor": 1
                },
                "name": " ",
                "nameCanonical": "",
                "nameSub": "Elective Hours"
               },
               {
                "credits": 3,
                "curriculum_requisites": [],
                "id": 21,
                "metrics": {
                 "blocking factor": 0,
                 "centrality": 0,
                 "complexity": 1,
                 "delay factor": 1
                },
                "name": " ",
                "nameCanonical": "",
                "nameSub": "Science Elective"
               },
               {
                "credits": 3,
                "curriculum_requisites": [
                 {
                  "source_id": 19,
                  "target_id": 37,
                  "type": "CurriculumPrerequisite"
                 }
                ],
                "id": 37,
                "metrics": {
                 "blocking factor": 0,
                 "centrality": 0,
                 "complexity": 6,
                 "delay factor": 6
                },
                "name": " ",
                "nameCanonical": "",
                "nameSub": "ECE 3000/4000 Elective"
               },
               {
                "credits": 4,
                "curriculum_requisites": [
                 {
                  "source_id": 15,
                  "target_id": 22,
                  "type": "CurriculumPrerequisite"
                 },
                 {
                  "source_id": 18,
                  "target_id": 22,
                  "type": "CurriculumPrerequisite"
                 },
                 {
                  "source_id": 17,
                  "target_id": 22,
                  "type": "CurriculumPrerequisite"
                 },
                 {
                  "source_id": 1,
                  "target_id": 22,
                  "type": "CurriculumPrerequisite"
                 },
                 {
                  "source_id": 19,
                  "target_id": 22,
                  "type": "CurriculumPrerequisite"
                 }
                ],
                "id": 22,
                "metrics": {
                 "blocking factor": 2,
                 "centrality": 96,
                 "complexity": 9,
                 "delay factor": 7
                },
                "name": "ECE 3040",
                "nameCanonical": "",
                "nameSub": "Microelectronic Circuits"
               },
               {
                "credits": 3,
                "curriculum_requisites": [
                 {
                  "source_id": 19,
                  "target_id": 42,
                  "type": "CurriculumPrerequisite"
                 }
                ],
                "id": 42,
                "metrics": {
                 "blocking factor": 0,
                 "centrality": 0,
                 "complexity": 6,
                 "delay factor": 6
                },
                "name": " ",
                "nameCanonical": "",
                "nameSub": "ECE 3000/4000 Elective"
               }
              ],
              "id": 7,
              "name": "Term 7"
             },
             {
              "curriculum_items": [
               {
                "credits": 3,
                "curriculum_requisites": [],
                "id": 30,
                "metrics": {
                 "blocking factor": 0,
                 "centrality": 0,
                 "complexity": 1,
                 "delay factor": 1
                },
                "name": "ECE 3450",
                "nameCanonical": "",
                "nameSub": ""
               },
               {
                "credits": 3,
                "curriculum_requisites": [],
                "id": 32,
                "metrics": {
                 "blocking factor": 0,
                 "centrality": 0,
                 "complexity": 1,
                 "delay factor": 1
                },
                "name": " ",
                "nameCanonical": "",
                "nameSub": "Social Science Elective"
               },
               {
                "credits": 2,
                "curriculum_requisites": [
                 {
                  "source_id": 22,
                  "target_id": 23,
                  "type": "CurriculumCorequisite"
                 },
                 {
                  "source_id": 17,
                  "target_id": 23,
                  "type": "CurriculumPrerequisite"
                 }
                ],
                "id": 23,
                "metrics": {
                 "blocking factor": 0,
                 "centrality": 0,
                 "complexity": 7,
                 "delay factor": 7
                },
                "name": "ECE 3043",
                "nameCanonical": "",
                "nameSub": "Measurements, Circuits and Microelectronics Lab"
               },
               {
                "credits": 2,
                "curriculum_requisites": [
                 {
                  "source_id": 35,
                  "target_id": 41,
                  "type": "CurriculumPrerequisite"
                 }
                ],
                "id": 41,
                "metrics": {
                 "blocking factor": 0,
                 "centrality": 0,
                 "complexity": 8,
                 "delay factor": 8
                },
                "name": " ",
                "nameCanonical": "",
                "nameSub": "Senior Design Sequence"
               },
               {
                "credits": 3,
                "curriculum_requisites": [
                 {
                  "source_id": 22,
                  "target_id": 36,
                  "type": "CurriculumPrerequisite"
                 }
                ],
                "id": 36,
                "metrics": {
                 "blocking factor": 0,
                 "centrality": 0,
                 "complexity": 7,
                 "delay factor": 7
                },
                "name": " ",
                "nameCanonical": "",
                "nameSub": "Electronic Devices Topics"
               },
               {
                "credits": 3,
                "curriculum_requisites": [
                 {
                  "source_id": 20,
                  "target_id": 25,
                  "type": "CurriculumPrerequisite"
                 }
                ],
                "id": 25,
                "metrics": {
                 "blocking factor": 0,
                 "centrality": 0,
                 "complexity": 4,
                 "delay factor": 4
                },
                "name": " ",
                "nameCanonical": "",
                "nameSub": "Prob & Stat Elective"
               }
              ],
              "id": 8,
              "name": "Term 8"
             }
            ],
            "dp_name": "",
            "institution": "Georgia Institute of Technology",
            "name": "Electrical Engineering - Electronic Devices and Circuit Technology"
           },
           "options": {
            "edit": false,
            "hideTerms": false
           }
          }
         }
        },
        "systemjs_options": null
       },
       "nodeType": "Scope",
       "props": {},
       "type": "node"
      },
      "text/html": [
       "<div\n",
       "    class=\"webio-mountpoint\"\n",
       "    data-webio-mountpoint=\"12532786232441697911\"\n",
       ">\n",
       "    <script>\n",
       "    if (window.require && require.defined && require.defined(\"nbextensions/webio-jupyter-notebook\")) {\n",
       "        console.log(\"Jupyter WebIO extension detected, not mounting.\");\n",
       "    } else if (window.WebIO) {\n",
       "        WebIO.mount(\n",
       "            document.querySelector('[data-webio-mountpoint=\"12532786232441697911\"]'),\n",
       "            {\"props\":{},\"nodeType\":\"Scope\",\"type\":\"node\",\"instanceArgs\":{\"imports\":{\"data\":[],\"type\":\"async_block\"},\"id\":\"14524392963870972274\",\"handlers\":{},\"systemjs_options\":null,\"mount_callbacks\":[],\"observables\":{\"curriculum-data\":{\"sync\":true,\"id\":\"7189423053985555033\",\"value\":{\"options\":{\"hideTerms\":false,\"edit\":false},\"curriculum\":{\"name\":\"Electrical Engineering - Electronic Devices and Circuit Technology\",\"dp_name\":\"\",\"curriculum_terms\":[{\"name\":\"Term 1\",\"curriculum_items\":[{\"curriculum_requisites\":[],\"name\":\"MATH 1551\",\"metrics\":{\"complexity\":27.0,\"centrality\":0,\"blocking factor\":19,\"delay factor\":8.0},\"nameSub\":\"Differential Calculus\",\"id\":5,\"credits\":2,\"nameCanonical\":\"\"},{\"curriculum_requisites\":[{\"source_id\":5,\"target_id\":6,\"type\":\"CurriculumCorequisite\"}],\"name\":\"MATH 1554\",\"metrics\":{\"complexity\":19.0,\"centrality\":55,\"blocking factor\":12,\"delay factor\":7.0},\"nameSub\":\"Linear Algebra\",\"id\":6,\"credits\":4,\"nameCanonical\":\"\"},{\"curriculum_requisites\":[],\"name\":\"CHEM 1310\",\"metrics\":{\"complexity\":6.0,\"centrality\":0,\"blocking factor\":3,\"delay factor\":3.0},\"nameSub\":\"General Chemistry\",\"id\":1,\"credits\":4,\"nameCanonical\":\"\"},{\"curriculum_requisites\":[],\"name\":\"CS 1301\",\"metrics\":{\"complexity\":16.0,\"centrality\":0,\"blocking factor\":10,\"delay factor\":6.0},\"nameSub\":\"Intro to Computing\",\"id\":2,\"credits\":3,\"nameCanonical\":\"\"},{\"curriculum_requisites\":[],\"name\":\" \",\"metrics\":{\"complexity\":1.0,\"centrality\":0,\"blocking factor\":0,\"delay factor\":1.0},\"nameSub\":\"Humanities Elective\",\"id\":27,\"credits\":3,\"nameCanonical\":\"\"}],\"id\":1},{\"name\":\"Term 2\",\"curriculum_items\":[{\"curriculum_requisites\":[{\"source_id\":5,\"target_id\":9,\"type\":\"CurriculumPrerequisite\"}],\"name\":\"MATH 1552\",\"metrics\":{\"complexity\":25.0,\"centrality\":111,\"blocking factor\":17,\"delay factor\":8.0},\"nameSub\":\"Integral Calculus\",\"id\":9,\"credits\":4,\"nameCanonical\":\"\"},{\"curriculum_requisites\":[],\"name\":\"ECE 3400\",\"metrics\":{\"complexity\":1.0,\"centrality\":0,\"blocking factor\":0,\"delay factor\":1.0},\"nameSub\":\"\",\"id\":31,\"credits\":3,\"nameCanonical\":\"\"},{\"curriculum_requisites\":[],\"name\":\"ENGL 1101\",\"metrics\":{\"complexity\":3.0,\"centrality\":0,\"blocking factor\":1,\"delay factor\":2.0},\"nameSub\":\"English Composition I\",\"id\":4,\"credits\":3,\"nameCanonical\":\"\"},{\"curriculum_requisites\":[],\"name\":\"ECE 4452\",\"metrics\":{\"complexity\":1.0,\"centrality\":0,\"blocking factor\":0,\"delay factor\":1.0},\"nameSub\":\"\",\"id\":38,\"credits\":3,\"nameCanonical\":\"\"},{\"curriculum_requisites\":[{\"source_id\":9,\"target_id\":10,\"type\":\"CurriculumCorequisite\"}],\"name\":\"PHYS  2211\",\"metrics\":{\"complexity\":20.0,\"centrality\":46,\"blocking factor\":12,\"delay factor\":8.0},\"nameSub\":\"Intro Physics 1\",\"id\":10,\"credits\":4,\"nameCanonical\":\"\"}],\"id\":2},{\"name\":\"Term 3\",\"curriculum_items\":[{\"curriculum_requisites\":[{\"source_id\":10,\"target_id\":16,\"type\":\"CurriculumPrerequisite\"}],\"name\":\"PHYS  2212\",\"metrics\":{\"complexity\":19.0,\"centrality\":46,\"blocking factor\":11,\"delay factor\":8.0},\"nameSub\":\"Intro. Physics 2\",\"id\":16,\"credits\":4,\"nameCanonical\":\"\"},{\"curriculum_requisites\":[{\"source_id\":2,\"target_id\":7,\"type\":\"CurriculumPrerequisite\"}],\"name\":\"ECE 2020\",\"metrics\":{\"complexity\":11.0,\"centrality\":41,\"blocking factor\":5,\"delay factor\":6.0},\"nameSub\":\"Fund. of Digital System Design\",\"id\":7,\"credits\":3,\"nameCanonical\":\"\"},{\"curriculum_requisites\":[],\"name\":\" \",\"metrics\":{\"complexity\":1.0,\"centrality\":0,\"blocking factor\":0,\"delay factor\":1.0},\"nameSub\":\"Social Science Elective\",\"id\":40,\"credits\":3,\"nameCanonical\":\"\"},{\"curriculum_requisites\":[{\"source_id\":6,\"target_id\":15,\"type\":\"CurriculumPrerequisite\"},{\"source_id\":9,\"target_id\":15,\"type\":\"CurriculumPrerequisite\"}],\"name\":\"MATH 2552\",\"metrics\":{\"complexity\":18.0,\"centrality\":110,\"blocking factor\":11,\"delay factor\":7.0},\"nameSub\":\"Differential Equations\",\"id\":15,\"credits\":4,\"nameCanonical\":\"\"},{\"curriculum_requisites\":[],\"name\":\"APPH 1040\",\"metrics\":{\"complexity\":1.0,\"centrality\":0,\"blocking factor\":0,\"delay factor\":1.0},\"nameSub\":\"\",\"id\":26,\"credits\":2,\"nameCanonical\":\"\"}],\"id\":3},{\"name\":\"Term 4\",\"curriculum_items\":[{\"curriculum_requisites\":[{\"source_id\":16,\"target_id\":19,\"type\":\"CurriculumPrerequisite\"},{\"source_id\":15,\"target_id\":19,\"type\":\"CurriculumPrerequisite\"}],\"name\":\"ECE 2040\",\"metrics\":{\"complexity\":18.0,\"centrality\":124,\"blocking factor\":10,\"delay factor\":8.0},\"nameSub\":\"Circuit Analysis\",\"id\":19,\"credits\":3,\"nameCanonical\":\"\"},{\"curriculum_requisites\":[{\"source_id\":2,\"target_id\":12,\"type\":\"CurriculumPrerequisite\"},{\"source_id\":9,\"target_id\":12,\"type\":\"CurriculumPrerequisite\"}],\"name\":\"ECE 2026\",\"metrics\":{\"complexity\":9.0,\"centrality\":11,\"blocking factor\":3,\"delay factor\":6.0},\"nameSub\":\"Intro. to Signal Processing\",\"id\":12,\"credits\":3,\"nameCanonical\":\"\"},{\"curriculum_requisites\":[],\"name\":\" \",\"metrics\":{\"complexity\":1.0,\"centrality\":0,\"blocking factor\":0,\"delay factor\":1.0},\"nameSub\":\"History\\/Government Elective\",\"id\":11,\"credits\":3,\"nameCanonical\":\"\"},{\"curriculum_requisites\":[],\"name\":\" \",\"metrics\":{\"complexity\":1.0,\"centrality\":0,\"blocking factor\":0,\"delay factor\":1.0},\"nameSub\":\"Humanities Elective\",\"id\":14,\"credits\":3,\"nameCanonical\":\"\"},{\"curriculum_requisites\":[{\"source_id\":7,\"target_id\":18,\"type\":\"CurriculumPrerequisite\"}],\"name\":\"ECE 2035\",\"metrics\":{\"complexity\":10.0,\"centrality\":27,\"blocking factor\":4,\"delay factor\":6.0},\"nameSub\":\"Programming Elective\",\"id\":18,\"credits\":4,\"nameCanonical\":\"\"}],\"id\":4},{\"name\":\"Term 5\",\"curriculum_items\":[{\"curriculum_requisites\":[{\"source_id\":19,\"target_id\":45,\"type\":\"CurriculumPrerequisite\"}],\"name\":\" \",\"metrics\":{\"complexity\":6.0,\"centrality\":0,\"blocking factor\":0,\"delay factor\":6.0},\"nameSub\":\"Circuit Technologies Topics\",\"id\":45,\"credits\":3,\"nameCanonical\":\"\"},{\"curriculum_requisites\":[],\"name\":\" \",\"metrics\":{\"complexity\":1.0,\"centrality\":0,\"blocking factor\":0,\"delay factor\":1.0},\"nameSub\":\"Econ\\/Social Science Elective\",\"id\":13,\"credits\":3,\"nameCanonical\":\"\"},{\"curriculum_requisites\":[{\"source_id\":15,\"target_id\":24,\"type\":\"CurriculumPrerequisite\"},{\"source_id\":12,\"target_id\":24,\"type\":\"CurriculumPrerequisite\"},{\"source_id\":19,\"target_id\":24,\"type\":\"CurriculumPrerequisite\"}],\"name\":\"ECE 3025\",\"metrics\":{\"complexity\":10.0,\"centrality\":45,\"blocking factor\":2,\"delay factor\":8.0},\"nameSub\":\"Electromagnetics\",\"id\":24,\"credits\":3,\"nameCanonical\":\"\"},{\"curriculum_requisites\":[],\"name\":\"ECE 3005\",\"metrics\":{\"complexity\":1.0,\"centrality\":0,\"blocking factor\":0,\"delay factor\":1.0},\"nameSub\":\"\",\"id\":28,\"credits\":1,\"nameCanonical\":\"\"},{\"curriculum_requisites\":[{\"source_id\":4,\"target_id\":8,\"type\":\"CurriculumPrerequisite\"}],\"name\":\"ENGL 1102\",\"metrics\":{\"complexity\":2.0,\"centrality\":0,\"blocking factor\":0,\"delay factor\":2.0},\"nameSub\":\"English Composition II\",\"id\":8,\"credits\":3,\"nameCanonical\":\"\"},{\"curriculum_requisites\":[],\"name\":\" \",\"metrics\":{\"complexity\":1.0,\"centrality\":0,\"blocking factor\":0,\"delay factor\":1.0},\"nameSub\":\"Elective Hours\",\"id\":33,\"credits\":3,\"nameCanonical\":\"\"}],\"id\":5},{\"name\":\"Term 6\",\"curriculum_items\":[{\"curriculum_requisites\":[{\"source_id\":9,\"target_id\":20,\"type\":\"CurriculumPrerequisite\"}],\"name\":\"MATH 2551\",\"metrics\":{\"complexity\":5.0,\"centrality\":4,\"blocking factor\":1,\"delay factor\":4.0},\"nameSub\":\"Multivariate Calculus\",\"id\":20,\"credits\":4,\"nameCanonical\":\"\"},{\"curriculum_requisites\":[{\"source_id\":24,\"target_id\":35,\"type\":\"CurriculumPrerequisite\"}],\"name\":\" \",\"metrics\":{\"complexity\":9.0,\"centrality\":45,\"blocking factor\":1,\"delay factor\":8.0},\"nameSub\":\"Senior Design Sequence\",\"id\":35,\"credits\":1,\"nameCanonical\":\"\"},{\"curriculum_requisites\":[],\"name\":\" \",\"metrics\":{\"complexity\":1.0,\"centrality\":0,\"blocking factor\":0,\"delay factor\":1.0},\"nameSub\":\"Elective Hours\",\"id\":44,\"credits\":3,\"nameCanonical\":\"\"},{\"curriculum_requisites\":[{\"source_id\":7,\"target_id\":17,\"type\":\"CurriculumPrerequisite\"},{\"source_id\":18,\"target_id\":17,\"type\":\"CurriculumCorequisite\"}],\"name\":\"ECE 2031\",\"metrics\":{\"complexity\":9.0,\"centrality\":31,\"blocking factor\":3,\"delay factor\":6.0},\"nameSub\":\"Digital Design Lab\",\"id\":17,\"credits\":2,\"nameCanonical\":\"\"},{\"curriculum_requisites\":[{\"source_id\":19,\"target_id\":43,\"type\":\"CurriculumPrerequisite\"}],\"name\":\" \",\"metrics\":{\"complexity\":6.0,\"centrality\":0,\"blocking factor\":0,\"delay factor\":6.0},\"nameSub\":\"ECE 3000\\/4000 Elective\",\"id\":43,\"credits\":3,\"nameCanonical\":\"\"},{\"curriculum_requisites\":[],\"name\":\"ECE 1100\",\"metrics\":{\"complexity\":1.0,\"centrality\":0,\"blocking factor\":0,\"delay factor\":1.0},\"nameSub\":\"ECE Discovery Studio\",\"id\":3,\"credits\":1,\"nameCanonical\":\"\"},{\"curriculum_requisites\":[],\"name\":\" \",\"metrics\":{\"complexity\":1.0,\"centrality\":0,\"blocking factor\":0,\"delay factor\":1.0},\"nameSub\":\"Elective Hours\",\"id\":39,\"credits\":2,\"nameCanonical\":\"\"}],\"id\":6},{\"name\":\"Term 7\",\"curriculum_items\":[{\"curriculum_requisites\":[],\"name\":\" \",\"metrics\":{\"complexity\":1.0,\"centrality\":0,\"blocking factor\":0,\"delay factor\":1.0},\"nameSub\":\"Elective Hours\",\"id\":29,\"credits\":3,\"nameCanonical\":\"\"},{\"curriculum_requisites\":[],\"name\":\" \",\"metrics\":{\"complexity\":1.0,\"centrality\":0,\"blocking factor\":0,\"delay factor\":1.0},\"nameSub\":\"Science Elective\",\"id\":21,\"credits\":3,\"nameCanonical\":\"\"},{\"curriculum_requisites\":[{\"source_id\":19,\"target_id\":37,\"type\":\"CurriculumPrerequisite\"}],\"name\":\" \",\"metrics\":{\"complexity\":6.0,\"centrality\":0,\"blocking factor\":0,\"delay factor\":6.0},\"nameSub\":\"ECE 3000\\/4000 Elective\",\"id\":37,\"credits\":3,\"nameCanonical\":\"\"},{\"curriculum_requisites\":[{\"source_id\":15,\"target_id\":22,\"type\":\"CurriculumPrerequisite\"},{\"source_id\":18,\"target_id\":22,\"type\":\"CurriculumPrerequisite\"},{\"source_id\":17,\"target_id\":22,\"type\":\"CurriculumPrerequisite\"},{\"source_id\":1,\"target_id\":22,\"type\":\"CurriculumPrerequisite\"},{\"source_id\":19,\"target_id\":22,\"type\":\"CurriculumPrerequisite\"}],\"name\":\"ECE 3040\",\"metrics\":{\"complexity\":9.0,\"centrality\":96,\"blocking factor\":2,\"delay factor\":7.0},\"nameSub\":\"Microelectronic Circuits\",\"id\":22,\"credits\":4,\"nameCanonical\":\"\"},{\"curriculum_requisites\":[{\"source_id\":19,\"target_id\":42,\"type\":\"CurriculumPrerequisite\"}],\"name\":\" \",\"metrics\":{\"complexity\":6.0,\"centrality\":0,\"blocking factor\":0,\"delay factor\":6.0},\"nameSub\":\"ECE 3000\\/4000 Elective\",\"id\":42,\"credits\":3,\"nameCanonical\":\"\"}],\"id\":7},{\"name\":\"Term 8\",\"curriculum_items\":[{\"curriculum_requisites\":[],\"name\":\"ECE 3450\",\"metrics\":{\"complexity\":1.0,\"centrality\":0,\"blocking factor\":0,\"delay factor\":1.0},\"nameSub\":\"\",\"id\":30,\"credits\":3,\"nameCanonical\":\"\"},{\"curriculum_requisites\":[],\"name\":\" \",\"metrics\":{\"complexity\":1.0,\"centrality\":0,\"blocking factor\":0,\"delay factor\":1.0},\"nameSub\":\"Social Science Elective\",\"id\":32,\"credits\":3,\"nameCanonical\":\"\"},{\"curriculum_requisites\":[{\"source_id\":22,\"target_id\":23,\"type\":\"CurriculumCorequisite\"},{\"source_id\":17,\"target_id\":23,\"type\":\"CurriculumPrerequisite\"}],\"name\":\"ECE 3043\",\"metrics\":{\"complexity\":7.0,\"centrality\":0,\"blocking factor\":0,\"delay factor\":7.0},\"nameSub\":\"Measurements, Circuits and Microelectronics Lab\",\"id\":23,\"credits\":2,\"nameCanonical\":\"\"},{\"curriculum_requisites\":[{\"source_id\":35,\"target_id\":41,\"type\":\"CurriculumPrerequisite\"}],\"name\":\" \",\"metrics\":{\"complexity\":8.0,\"centrality\":0,\"blocking factor\":0,\"delay factor\":8.0},\"nameSub\":\"Senior Design Sequence\",\"id\":41,\"credits\":2,\"nameCanonical\":\"\"},{\"curriculum_requisites\":[{\"source_id\":22,\"target_id\":36,\"type\":\"CurriculumPrerequisite\"}],\"name\":\" \",\"metrics\":{\"complexity\":7.0,\"centrality\":0,\"blocking factor\":0,\"delay factor\":7.0},\"nameSub\":\"Electronic Devices Topics\",\"id\":36,\"credits\":3,\"nameCanonical\":\"\"},{\"curriculum_requisites\":[{\"source_id\":20,\"target_id\":25,\"type\":\"CurriculumPrerequisite\"}],\"name\":\" \",\"metrics\":{\"complexity\":4.0,\"centrality\":0,\"blocking factor\":0,\"delay factor\":4.0},\"nameSub\":\"Prob & Stat Elective\",\"id\":25,\"credits\":3,\"nameCanonical\":\"\"}],\"id\":8}],\"institution\":\"Georgia Institute of Technology\"}}}}},\"children\":[{\"props\":{\"src\":\"https:\\/\\/curricula-api-embed.damoursystems.com\\/\",\"id\":\"curriculum\",\"events\":{\"load\":\"(function (){this.contentWindow.postMessage({\\\"options\\\":{\\\"hideTerms\\\":false,\\\"edit\\\":false},\\\"curriculum\\\":{\\\"name\\\":\\\"Electrical Engineering - Electronic Devices and Circuit Technology\\\",\\\"dp_name\\\":\\\"\\\",\\\"curriculum_terms\\\":[{\\\"name\\\":\\\"Term 1\\\",\\\"curriculum_items\\\":[{\\\"curriculum_requisites\\\":[],\\\"name\\\":\\\"MATH 1551\\\",\\\"metrics\\\":{\\\"complexity\\\":27.0,\\\"centrality\\\":0,\\\"blocking factor\\\":19,\\\"delay factor\\\":8.0},\\\"nameSub\\\":\\\"Differential Calculus\\\",\\\"id\\\":5,\\\"credits\\\":2,\\\"nameCanonical\\\":\\\"\\\"},{\\\"curriculum_requisites\\\":[{\\\"source_id\\\":5,\\\"target_id\\\":6,\\\"type\\\":\\\"CurriculumCorequisite\\\"}],\\\"name\\\":\\\"MATH 1554\\\",\\\"metrics\\\":{\\\"complexity\\\":19.0,\\\"centrality\\\":55,\\\"blocking factor\\\":12,\\\"delay factor\\\":7.0},\\\"nameSub\\\":\\\"Linear Algebra\\\",\\\"id\\\":6,\\\"credits\\\":4,\\\"nameCanonical\\\":\\\"\\\"},{\\\"curriculum_requisites\\\":[],\\\"name\\\":\\\"CHEM 1310\\\",\\\"metrics\\\":{\\\"complexity\\\":6.0,\\\"centrality\\\":0,\\\"blocking factor\\\":3,\\\"delay factor\\\":3.0},\\\"nameSub\\\":\\\"General Chemistry\\\",\\\"id\\\":1,\\\"credits\\\":4,\\\"nameCanonical\\\":\\\"\\\"},{\\\"curriculum_requisites\\\":[],\\\"name\\\":\\\"CS 1301\\\",\\\"metrics\\\":{\\\"complexity\\\":16.0,\\\"centrality\\\":0,\\\"blocking factor\\\":10,\\\"delay factor\\\":6.0},\\\"nameSub\\\":\\\"Intro to Computing\\\",\\\"id\\\":2,\\\"credits\\\":3,\\\"nameCanonical\\\":\\\"\\\"},{\\\"curriculum_requisites\\\":[],\\\"name\\\":\\\" \\\",\\\"metrics\\\":{\\\"complexity\\\":1.0,\\\"centrality\\\":0,\\\"blocking factor\\\":0,\\\"delay factor\\\":1.0},\\\"nameSub\\\":\\\"Humanities Elective\\\",\\\"id\\\":27,\\\"credits\\\":3,\\\"nameCanonical\\\":\\\"\\\"}],\\\"id\\\":1},{\\\"name\\\":\\\"Term 2\\\",\\\"curriculum_items\\\":[{\\\"curriculum_requisites\\\":[{\\\"source_id\\\":5,\\\"target_id\\\":9,\\\"type\\\":\\\"CurriculumPrerequisite\\\"}],\\\"name\\\":\\\"MATH 1552\\\",\\\"metrics\\\":{\\\"complexity\\\":25.0,\\\"centrality\\\":111,\\\"blocking factor\\\":17,\\\"delay factor\\\":8.0},\\\"nameSub\\\":\\\"Integral Calculus\\\",\\\"id\\\":9,\\\"credits\\\":4,\\\"nameCanonical\\\":\\\"\\\"},{\\\"curriculum_requisites\\\":[],\\\"name\\\":\\\"ECE 3400\\\",\\\"metrics\\\":{\\\"complexity\\\":1.0,\\\"centrality\\\":0,\\\"blocking factor\\\":0,\\\"delay factor\\\":1.0},\\\"nameSub\\\":\\\"\\\",\\\"id\\\":31,\\\"credits\\\":3,\\\"nameCanonical\\\":\\\"\\\"},{\\\"curriculum_requisites\\\":[],\\\"name\\\":\\\"ENGL 1101\\\",\\\"metrics\\\":{\\\"complexity\\\":3.0,\\\"centrality\\\":0,\\\"blocking factor\\\":1,\\\"delay factor\\\":2.0},\\\"nameSub\\\":\\\"English Composition I\\\",\\\"id\\\":4,\\\"credits\\\":3,\\\"nameCanonical\\\":\\\"\\\"},{\\\"curriculum_requisites\\\":[],\\\"name\\\":\\\"ECE 4452\\\",\\\"metrics\\\":{\\\"complexity\\\":1.0,\\\"centrality\\\":0,\\\"blocking factor\\\":0,\\\"delay factor\\\":1.0},\\\"nameSub\\\":\\\"\\\",\\\"id\\\":38,\\\"credits\\\":3,\\\"nameCanonical\\\":\\\"\\\"},{\\\"curriculum_requisites\\\":[{\\\"source_id\\\":9,\\\"target_id\\\":10,\\\"type\\\":\\\"CurriculumCorequisite\\\"}],\\\"name\\\":\\\"PHYS  2211\\\",\\\"metrics\\\":{\\\"complexity\\\":20.0,\\\"centrality\\\":46,\\\"blocking factor\\\":12,\\\"delay factor\\\":8.0},\\\"nameSub\\\":\\\"Intro Physics 1\\\",\\\"id\\\":10,\\\"credits\\\":4,\\\"nameCanonical\\\":\\\"\\\"}],\\\"id\\\":2},{\\\"name\\\":\\\"Term 3\\\",\\\"curriculum_items\\\":[{\\\"curriculum_requisites\\\":[{\\\"source_id\\\":10,\\\"target_id\\\":16,\\\"type\\\":\\\"CurriculumPrerequisite\\\"}],\\\"name\\\":\\\"PHYS  2212\\\",\\\"metrics\\\":{\\\"complexity\\\":19.0,\\\"centrality\\\":46,\\\"blocking factor\\\":11,\\\"delay factor\\\":8.0},\\\"nameSub\\\":\\\"Intro. Physics 2\\\",\\\"id\\\":16,\\\"credits\\\":4,\\\"nameCanonical\\\":\\\"\\\"},{\\\"curriculum_requisites\\\":[{\\\"source_id\\\":2,\\\"target_id\\\":7,\\\"type\\\":\\\"CurriculumPrerequisite\\\"}],\\\"name\\\":\\\"ECE 2020\\\",\\\"metrics\\\":{\\\"complexity\\\":11.0,\\\"centrality\\\":41,\\\"blocking factor\\\":5,\\\"delay factor\\\":6.0},\\\"nameSub\\\":\\\"Fund. of Digital System Design\\\",\\\"id\\\":7,\\\"credits\\\":3,\\\"nameCanonical\\\":\\\"\\\"},{\\\"curriculum_requisites\\\":[],\\\"name\\\":\\\" \\\",\\\"metrics\\\":{\\\"complexity\\\":1.0,\\\"centrality\\\":0,\\\"blocking factor\\\":0,\\\"delay factor\\\":1.0},\\\"nameSub\\\":\\\"Social Science Elective\\\",\\\"id\\\":40,\\\"credits\\\":3,\\\"nameCanonical\\\":\\\"\\\"},{\\\"curriculum_requisites\\\":[{\\\"source_id\\\":6,\\\"target_id\\\":15,\\\"type\\\":\\\"CurriculumPrerequisite\\\"},{\\\"source_id\\\":9,\\\"target_id\\\":15,\\\"type\\\":\\\"CurriculumPrerequisite\\\"}],\\\"name\\\":\\\"MATH 2552\\\",\\\"metrics\\\":{\\\"complexity\\\":18.0,\\\"centrality\\\":110,\\\"blocking factor\\\":11,\\\"delay factor\\\":7.0},\\\"nameSub\\\":\\\"Differential Equations\\\",\\\"id\\\":15,\\\"credits\\\":4,\\\"nameCanonical\\\":\\\"\\\"},{\\\"curriculum_requisites\\\":[],\\\"name\\\":\\\"APPH 1040\\\",\\\"metrics\\\":{\\\"complexity\\\":1.0,\\\"centrality\\\":0,\\\"blocking factor\\\":0,\\\"delay factor\\\":1.0},\\\"nameSub\\\":\\\"\\\",\\\"id\\\":26,\\\"credits\\\":2,\\\"nameCanonical\\\":\\\"\\\"}],\\\"id\\\":3},{\\\"name\\\":\\\"Term 4\\\",\\\"curriculum_items\\\":[{\\\"curriculum_requisites\\\":[{\\\"source_id\\\":16,\\\"target_id\\\":19,\\\"type\\\":\\\"CurriculumPrerequisite\\\"},{\\\"source_id\\\":15,\\\"target_id\\\":19,\\\"type\\\":\\\"CurriculumPrerequisite\\\"}],\\\"name\\\":\\\"ECE 2040\\\",\\\"metrics\\\":{\\\"complexity\\\":18.0,\\\"centrality\\\":124,\\\"blocking factor\\\":10,\\\"delay factor\\\":8.0},\\\"nameSub\\\":\\\"Circuit Analysis\\\",\\\"id\\\":19,\\\"credits\\\":3,\\\"nameCanonical\\\":\\\"\\\"},{\\\"curriculum_requisites\\\":[{\\\"source_id\\\":2,\\\"target_id\\\":12,\\\"type\\\":\\\"CurriculumPrerequisite\\\"},{\\\"source_id\\\":9,\\\"target_id\\\":12,\\\"type\\\":\\\"CurriculumPrerequisite\\\"}],\\\"name\\\":\\\"ECE 2026\\\",\\\"metrics\\\":{\\\"complexity\\\":9.0,\\\"centrality\\\":11,\\\"blocking factor\\\":3,\\\"delay factor\\\":6.0},\\\"nameSub\\\":\\\"Intro. to Signal Processing\\\",\\\"id\\\":12,\\\"credits\\\":3,\\\"nameCanonical\\\":\\\"\\\"},{\\\"curriculum_requisites\\\":[],\\\"name\\\":\\\" \\\",\\\"metrics\\\":{\\\"complexity\\\":1.0,\\\"centrality\\\":0,\\\"blocking factor\\\":0,\\\"delay factor\\\":1.0},\\\"nameSub\\\":\\\"History\\/Government Elective\\\",\\\"id\\\":11,\\\"credits\\\":3,\\\"nameCanonical\\\":\\\"\\\"},{\\\"curriculum_requisites\\\":[],\\\"name\\\":\\\" \\\",\\\"metrics\\\":{\\\"complexity\\\":1.0,\\\"centrality\\\":0,\\\"blocking factor\\\":0,\\\"delay factor\\\":1.0},\\\"nameSub\\\":\\\"Humanities Elective\\\",\\\"id\\\":14,\\\"credits\\\":3,\\\"nameCanonical\\\":\\\"\\\"},{\\\"curriculum_requisites\\\":[{\\\"source_id\\\":7,\\\"target_id\\\":18,\\\"type\\\":\\\"CurriculumPrerequisite\\\"}],\\\"name\\\":\\\"ECE 2035\\\",\\\"metrics\\\":{\\\"complexity\\\":10.0,\\\"centrality\\\":27,\\\"blocking factor\\\":4,\\\"delay factor\\\":6.0},\\\"nameSub\\\":\\\"Programming Elective\\\",\\\"id\\\":18,\\\"credits\\\":4,\\\"nameCanonical\\\":\\\"\\\"}],\\\"id\\\":4},{\\\"name\\\":\\\"Term 5\\\",\\\"curriculum_items\\\":[{\\\"curriculum_requisites\\\":[{\\\"source_id\\\":19,\\\"target_id\\\":45,\\\"type\\\":\\\"CurriculumPrerequisite\\\"}],\\\"name\\\":\\\" \\\",\\\"metrics\\\":{\\\"complexity\\\":6.0,\\\"centrality\\\":0,\\\"blocking factor\\\":0,\\\"delay factor\\\":6.0},\\\"nameSub\\\":\\\"Circuit Technologies Topics\\\",\\\"id\\\":45,\\\"credits\\\":3,\\\"nameCanonical\\\":\\\"\\\"},{\\\"curriculum_requisites\\\":[],\\\"name\\\":\\\" \\\",\\\"metrics\\\":{\\\"complexity\\\":1.0,\\\"centrality\\\":0,\\\"blocking factor\\\":0,\\\"delay factor\\\":1.0},\\\"nameSub\\\":\\\"Econ\\/Social Science Elective\\\",\\\"id\\\":13,\\\"credits\\\":3,\\\"nameCanonical\\\":\\\"\\\"},{\\\"curriculum_requisites\\\":[{\\\"source_id\\\":15,\\\"target_id\\\":24,\\\"type\\\":\\\"CurriculumPrerequisite\\\"},{\\\"source_id\\\":12,\\\"target_id\\\":24,\\\"type\\\":\\\"CurriculumPrerequisite\\\"},{\\\"source_id\\\":19,\\\"target_id\\\":24,\\\"type\\\":\\\"CurriculumPrerequisite\\\"}],\\\"name\\\":\\\"ECE 3025\\\",\\\"metrics\\\":{\\\"complexity\\\":10.0,\\\"centrality\\\":45,\\\"blocking factor\\\":2,\\\"delay factor\\\":8.0},\\\"nameSub\\\":\\\"Electromagnetics\\\",\\\"id\\\":24,\\\"credits\\\":3,\\\"nameCanonical\\\":\\\"\\\"},{\\\"curriculum_requisites\\\":[],\\\"name\\\":\\\"ECE 3005\\\",\\\"metrics\\\":{\\\"complexity\\\":1.0,\\\"centrality\\\":0,\\\"blocking factor\\\":0,\\\"delay factor\\\":1.0},\\\"nameSub\\\":\\\"\\\",\\\"id\\\":28,\\\"credits\\\":1,\\\"nameCanonical\\\":\\\"\\\"},{\\\"curriculum_requisites\\\":[{\\\"source_id\\\":4,\\\"target_id\\\":8,\\\"type\\\":\\\"CurriculumPrerequisite\\\"}],\\\"name\\\":\\\"ENGL 1102\\\",\\\"metrics\\\":{\\\"complexity\\\":2.0,\\\"centrality\\\":0,\\\"blocking factor\\\":0,\\\"delay factor\\\":2.0},\\\"nameSub\\\":\\\"English Composition II\\\",\\\"id\\\":8,\\\"credits\\\":3,\\\"nameCanonical\\\":\\\"\\\"},{\\\"curriculum_requisites\\\":[],\\\"name\\\":\\\" \\\",\\\"metrics\\\":{\\\"complexity\\\":1.0,\\\"centrality\\\":0,\\\"blocking factor\\\":0,\\\"delay factor\\\":1.0},\\\"nameSub\\\":\\\"Elective Hours\\\",\\\"id\\\":33,\\\"credits\\\":3,\\\"nameCanonical\\\":\\\"\\\"}],\\\"id\\\":5},{\\\"name\\\":\\\"Term 6\\\",\\\"curriculum_items\\\":[{\\\"curriculum_requisites\\\":[{\\\"source_id\\\":9,\\\"target_id\\\":20,\\\"type\\\":\\\"CurriculumPrerequisite\\\"}],\\\"name\\\":\\\"MATH 2551\\\",\\\"metrics\\\":{\\\"complexity\\\":5.0,\\\"centrality\\\":4,\\\"blocking factor\\\":1,\\\"delay factor\\\":4.0},\\\"nameSub\\\":\\\"Multivariate Calculus\\\",\\\"id\\\":20,\\\"credits\\\":4,\\\"nameCanonical\\\":\\\"\\\"},{\\\"curriculum_requisites\\\":[{\\\"source_id\\\":24,\\\"target_id\\\":35,\\\"type\\\":\\\"CurriculumPrerequisite\\\"}],\\\"name\\\":\\\" \\\",\\\"metrics\\\":{\\\"complexity\\\":9.0,\\\"centrality\\\":45,\\\"blocking factor\\\":1,\\\"delay factor\\\":8.0},\\\"nameSub\\\":\\\"Senior Design Sequence\\\",\\\"id\\\":35,\\\"credits\\\":1,\\\"nameCanonical\\\":\\\"\\\"},{\\\"curriculum_requisites\\\":[],\\\"name\\\":\\\" \\\",\\\"metrics\\\":{\\\"complexity\\\":1.0,\\\"centrality\\\":0,\\\"blocking factor\\\":0,\\\"delay factor\\\":1.0},\\\"nameSub\\\":\\\"Elective Hours\\\",\\\"id\\\":44,\\\"credits\\\":3,\\\"nameCanonical\\\":\\\"\\\"},{\\\"curriculum_requisites\\\":[{\\\"source_id\\\":7,\\\"target_id\\\":17,\\\"type\\\":\\\"CurriculumPrerequisite\\\"},{\\\"source_id\\\":18,\\\"target_id\\\":17,\\\"type\\\":\\\"CurriculumCorequisite\\\"}],\\\"name\\\":\\\"ECE 2031\\\",\\\"metrics\\\":{\\\"complexity\\\":9.0,\\\"centrality\\\":31,\\\"blocking factor\\\":3,\\\"delay factor\\\":6.0},\\\"nameSub\\\":\\\"Digital Design Lab\\\",\\\"id\\\":17,\\\"credits\\\":2,\\\"nameCanonical\\\":\\\"\\\"},{\\\"curriculum_requisites\\\":[{\\\"source_id\\\":19,\\\"target_id\\\":43,\\\"type\\\":\\\"CurriculumPrerequisite\\\"}],\\\"name\\\":\\\" \\\",\\\"metrics\\\":{\\\"complexity\\\":6.0,\\\"centrality\\\":0,\\\"blocking factor\\\":0,\\\"delay factor\\\":6.0},\\\"nameSub\\\":\\\"ECE 3000\\/4000 Elective\\\",\\\"id\\\":43,\\\"credits\\\":3,\\\"nameCanonical\\\":\\\"\\\"},{\\\"curriculum_requisites\\\":[],\\\"name\\\":\\\"ECE 1100\\\",\\\"metrics\\\":{\\\"complexity\\\":1.0,\\\"centrality\\\":0,\\\"blocking factor\\\":0,\\\"delay factor\\\":1.0},\\\"nameSub\\\":\\\"ECE Discovery Studio\\\",\\\"id\\\":3,\\\"credits\\\":1,\\\"nameCanonical\\\":\\\"\\\"},{\\\"curriculum_requisites\\\":[],\\\"name\\\":\\\" \\\",\\\"metrics\\\":{\\\"complexity\\\":1.0,\\\"centrality\\\":0,\\\"blocking factor\\\":0,\\\"delay factor\\\":1.0},\\\"nameSub\\\":\\\"Elective Hours\\\",\\\"id\\\":39,\\\"credits\\\":2,\\\"nameCanonical\\\":\\\"\\\"}],\\\"id\\\":6},{\\\"name\\\":\\\"Term 7\\\",\\\"curriculum_items\\\":[{\\\"curriculum_requisites\\\":[],\\\"name\\\":\\\" \\\",\\\"metrics\\\":{\\\"complexity\\\":1.0,\\\"centrality\\\":0,\\\"blocking factor\\\":0,\\\"delay factor\\\":1.0},\\\"nameSub\\\":\\\"Elective Hours\\\",\\\"id\\\":29,\\\"credits\\\":3,\\\"nameCanonical\\\":\\\"\\\"},{\\\"curriculum_requisites\\\":[],\\\"name\\\":\\\" \\\",\\\"metrics\\\":{\\\"complexity\\\":1.0,\\\"centrality\\\":0,\\\"blocking factor\\\":0,\\\"delay factor\\\":1.0},\\\"nameSub\\\":\\\"Science Elective\\\",\\\"id\\\":21,\\\"credits\\\":3,\\\"nameCanonical\\\":\\\"\\\"},{\\\"curriculum_requisites\\\":[{\\\"source_id\\\":19,\\\"target_id\\\":37,\\\"type\\\":\\\"CurriculumPrerequisite\\\"}],\\\"name\\\":\\\" \\\",\\\"metrics\\\":{\\\"complexity\\\":6.0,\\\"centrality\\\":0,\\\"blocking factor\\\":0,\\\"delay factor\\\":6.0},\\\"nameSub\\\":\\\"ECE 3000\\/4000 Elective\\\",\\\"id\\\":37,\\\"credits\\\":3,\\\"nameCanonical\\\":\\\"\\\"},{\\\"curriculum_requisites\\\":[{\\\"source_id\\\":15,\\\"target_id\\\":22,\\\"type\\\":\\\"CurriculumPrerequisite\\\"},{\\\"source_id\\\":18,\\\"target_id\\\":22,\\\"type\\\":\\\"CurriculumPrerequisite\\\"},{\\\"source_id\\\":17,\\\"target_id\\\":22,\\\"type\\\":\\\"CurriculumPrerequisite\\\"},{\\\"source_id\\\":1,\\\"target_id\\\":22,\\\"type\\\":\\\"CurriculumPrerequisite\\\"},{\\\"source_id\\\":19,\\\"target_id\\\":22,\\\"type\\\":\\\"CurriculumPrerequisite\\\"}],\\\"name\\\":\\\"ECE 3040\\\",\\\"metrics\\\":{\\\"complexity\\\":9.0,\\\"centrality\\\":96,\\\"blocking factor\\\":2,\\\"delay factor\\\":7.0},\\\"nameSub\\\":\\\"Microelectronic Circuits\\\",\\\"id\\\":22,\\\"credits\\\":4,\\\"nameCanonical\\\":\\\"\\\"},{\\\"curriculum_requisites\\\":[{\\\"source_id\\\":19,\\\"target_id\\\":42,\\\"type\\\":\\\"CurriculumPrerequisite\\\"}],\\\"name\\\":\\\" \\\",\\\"metrics\\\":{\\\"complexity\\\":6.0,\\\"centrality\\\":0,\\\"blocking factor\\\":0,\\\"delay factor\\\":6.0},\\\"nameSub\\\":\\\"ECE 3000\\/4000 Elective\\\",\\\"id\\\":42,\\\"credits\\\":3,\\\"nameCanonical\\\":\\\"\\\"}],\\\"id\\\":7},{\\\"name\\\":\\\"Term 8\\\",\\\"curriculum_items\\\":[{\\\"curriculum_requisites\\\":[],\\\"name\\\":\\\"ECE 3450\\\",\\\"metrics\\\":{\\\"complexity\\\":1.0,\\\"centrality\\\":0,\\\"blocking factor\\\":0,\\\"delay factor\\\":1.0},\\\"nameSub\\\":\\\"\\\",\\\"id\\\":30,\\\"credits\\\":3,\\\"nameCanonical\\\":\\\"\\\"},{\\\"curriculum_requisites\\\":[],\\\"name\\\":\\\" \\\",\\\"metrics\\\":{\\\"complexity\\\":1.0,\\\"centrality\\\":0,\\\"blocking factor\\\":0,\\\"delay factor\\\":1.0},\\\"nameSub\\\":\\\"Social Science Elective\\\",\\\"id\\\":32,\\\"credits\\\":3,\\\"nameCanonical\\\":\\\"\\\"},{\\\"curriculum_requisites\\\":[{\\\"source_id\\\":22,\\\"target_id\\\":23,\\\"type\\\":\\\"CurriculumCorequisite\\\"},{\\\"source_id\\\":17,\\\"target_id\\\":23,\\\"type\\\":\\\"CurriculumPrerequisite\\\"}],\\\"name\\\":\\\"ECE 3043\\\",\\\"metrics\\\":{\\\"complexity\\\":7.0,\\\"centrality\\\":0,\\\"blocking factor\\\":0,\\\"delay factor\\\":7.0},\\\"nameSub\\\":\\\"Measurements, Circuits and Microelectronics Lab\\\",\\\"id\\\":23,\\\"credits\\\":2,\\\"nameCanonical\\\":\\\"\\\"},{\\\"curriculum_requisites\\\":[{\\\"source_id\\\":35,\\\"target_id\\\":41,\\\"type\\\":\\\"CurriculumPrerequisite\\\"}],\\\"name\\\":\\\" \\\",\\\"metrics\\\":{\\\"complexity\\\":8.0,\\\"centrality\\\":0,\\\"blocking factor\\\":0,\\\"delay factor\\\":8.0},\\\"nameSub\\\":\\\"Senior Design Sequence\\\",\\\"id\\\":41,\\\"credits\\\":2,\\\"nameCanonical\\\":\\\"\\\"},{\\\"curriculum_requisites\\\":[{\\\"source_id\\\":22,\\\"target_id\\\":36,\\\"type\\\":\\\"CurriculumPrerequisite\\\"}],\\\"name\\\":\\\" \\\",\\\"metrics\\\":{\\\"complexity\\\":7.0,\\\"centrality\\\":0,\\\"blocking factor\\\":0,\\\"delay factor\\\":7.0},\\\"nameSub\\\":\\\"Electronic Devices Topics\\\",\\\"id\\\":36,\\\"credits\\\":3,\\\"nameCanonical\\\":\\\"\\\"},{\\\"curriculum_requisites\\\":[{\\\"source_id\\\":20,\\\"target_id\\\":25,\\\"type\\\":\\\"CurriculumPrerequisite\\\"}],\\\"name\\\":\\\" \\\",\\\"metrics\\\":{\\\"complexity\\\":4.0,\\\"centrality\\\":0,\\\"blocking factor\\\":0,\\\"delay factor\\\":4.0},\\\"nameSub\\\":\\\"Prob & Stat Elective\\\",\\\"id\\\":25,\\\"credits\\\":3,\\\"nameCanonical\\\":\\\"\\\"}],\\\"id\\\":8}],\\\"institution\\\":\\\"Georgia Institute of Technology\\\"}},\\\"*\\\"); window.removeEventListener(\\\"message\\\",window.messageReceived); window.messageReceived=(function (event){return (event.data.curriculum!==undefined) ? (WebIO.setval({\\\"name\\\":\\\"curriculum-data\\\",\\\"scope\\\":\\\"14524392963870972274\\\",\\\"id\\\":\\\"7189423053985555033\\\",\\\"type\\\":\\\"observable\\\"},event.data.curriculum)) : undefined}); return window.addEventListener(\\\"message\\\",window.messageReceived)})\"},\"style\":{\"padding\":\"0\",\"height\":\"100vh\",\"margin\":\"0\",\"border\":\"none\",\"width\":\"100%\"}},\"nodeType\":\"DOM\",\"type\":\"node\",\"instanceArgs\":{\"namespace\":\"html\",\"tag\":\"iframe\"},\"children\":[\"\"]}]},\n",
       "            window,\n",
       "        );\n",
       "    } else {\n",
       "        document\n",
       "            .querySelector('[data-webio-mountpoint=\"12532786232441697911\"]')\n",
       "            .innerHTML = (\n",
       "                '<div style=\"padding: 1em; background-color: #f8d6da; border: 1px solid #f5c6cb\">' +\n",
       "                '<p><strong>WebIO not detected.</strong></p>' +\n",
       "                '<p>Please read ' +\n",
       "                '<a href=\"https://juliagizmos.github.io/WebIO.jl/latest/troubleshooting/not-detected/\" target=\"_blank\">the troubleshooting guide</a> ' +\n",
       "                'for more information on how to resolve this issue.</p>' +\n",
       "                '<p><a href=\"https://juliagizmos.github.io/WebIO.jl/latest/troubleshooting/not-detected/\" target=\"_blank\">https://juliagizmos.github.io/WebIO.jl/latest/troubleshooting/not-detected/</a></p>' +\n",
       "                '</div>'\n",
       "            );\n",
       "    }\n",
       "    </script>\n",
       "</div>\n"
      ],
      "text/plain": [
       "WebIO.Scope(WebIO.Node{WebIO.DOM}(WebIO.DOM(:html, :iframe), Any[\"\"], Dict{Symbol, Any}(:src => \"https://curricula-api-embed.damoursystems.com/\", :id => \"curriculum\", :events => Dict{Symbol, WebIO.JSString}(:load => WebIO.JSString(\"(function (){this.contentWindow.postMessage({\\\"options\\\":{\\\"hideTerms\\\":false,\\\"edit\\\":false},\\\"curriculum\\\":{\\\"name\\\":\\\"Electrical Engineering - Electronic Devices and Circuit Technology\\\",\\\"dp_name\\\":\\\"\\\",\\\"curriculum_terms\\\":[{\\\"name\\\":\\\"Term 1\\\",\\\"curriculum_items\\\":[{\\\"curriculum_requisites\\\":[],\\\"name\\\":\\\"MATH 1551\\\",\\\"metrics\\\":{\\\"complexity\\\":27.0,\\\"centrality\\\":0,\\\"blocking factor\\\":19,\\\"delay factor\\\":8.0},\\\"nameSub\\\":\\\"Differential Calculus\\\",\\\"id\\\":5,\\\"credits\\\":2,\\\"nameCanonical\\\":\\\"\\\"},{\\\"curriculum_requisites\\\":[{\\\"source_id\\\":5,\\\"target_id\\\":6,\\\"type\\\":\\\"CurriculumCorequisite\\\"}],\\\"name\\\":\\\"MATH 1554\\\",\\\"metrics\\\":{\\\"complexity\\\":19.0,\\\"centrality\\\":55,\\\"blocking factor\\\":12,\\\"delay factor\\\":7.0},\\\"nameSub\\\":\\\"Linear Algebra\\\",\\\"id\\\":6,\\\"credits\\\":4,\\\"nameCanonical\\\":\\\"\\\"},{\\\"curriculum_requisites\\\":[],\\\"name\\\":\\\"CHEM 1310\\\",\\\"metrics\\\":{\\\"complexity\\\":6.0,\\\"centrality\\\":0,\\\"blocking factor\\\":3,\\\"delay factor\\\":3.0},\\\"nameSub\\\":\\\"General Chemistry\\\",\\\"id\\\":1,\\\"credits\\\":4,\\\"nameCanonical\\\":\\\"\\\"},{\\\"curriculum_requisites\\\":[],\\\"name\\\":\\\"CS 1301\\\",\\\"metrics\\\":{\\\"complexity\\\":16.0,\\\"centrality\\\":0,\\\"blocking factor\\\":10,\\\"delay factor\\\":6.0},\\\"nameSub\\\":\\\"Intro to Computing\\\",\\\"id\\\":2,\\\"credits\\\":3,\\\"nameCanonical\\\":\\\"\\\"},{\\\"curriculum_requisites\\\":[],\\\"name\\\":\\\" \\\",\\\"metrics\\\":{\\\"complexity\\\":1.0,\\\"centrality\\\":0,\\\"blocking factor\\\":0,\\\"delay factor\\\":1.0},\\\"nameSub\\\":\\\"Humanities Elective\\\",\\\"id\\\":27,\\\"credits\\\":3,\\\"nameCanonical\\\":\\\"\\\"}],\\\"id\\\":1},{\\\"name\\\":\\\"Term 2\\\",\\\"curriculum_items\\\":[{\\\"curriculum_requisites\\\":[{\\\"source_id\\\":5,\\\"target_id\\\":9,\\\"type\\\":\\\"CurriculumPrerequisite\\\"}],\\\"name\\\":\\\"MATH 1552\\\",\\\"metrics\\\":{\\\"complexity\\\":25.0,\\\"centrality\\\":111,\\\"blocking factor\\\":17,\\\"delay factor\\\":8.0},\\\"nameSub\\\":\\\"Integral Calculus\\\",\\\"id\\\":9,\\\"credits\\\":4,\\\"nameCanonical\\\":\\\"\\\"},{\\\"curriculum_requisites\\\":[],\\\"name\\\":\\\"ECE 3400\\\",\\\"metrics\\\":{\\\"complexity\\\":1.0,\\\"centrality\\\":0,\\\"blocking factor\\\":0,\\\"delay factor\\\":1.0},\\\"nameSub\\\":\\\"\\\",\\\"id\\\":31,\\\"credits\\\":3,\\\"nameCanonical\\\":\\\"\\\"},{\\\"curriculum_requisites\\\":[],\\\"name\\\":\\\"ENGL 1101\\\",\\\"metrics\\\":{\\\"complexity\\\":3.0,\\\"centrality\\\":0,\\\"blocking factor\\\":1,\\\"delay factor\\\":2.0},\\\"nameSub\\\":\\\"English Composition I\\\",\\\"id\\\":4,\\\"credits\\\":3,\\\"nameCanonical\\\":\\\"\\\"},{\\\"curriculum_requisites\\\":[],\\\"name\\\":\\\"ECE 4452\\\",\\\"metrics\\\":{\\\"complexity\\\":1.0,\\\"centrality\\\":0,\\\"blocking factor\\\":0,\\\"delay factor\\\":1.0},\\\"nameSub\\\":\\\"\\\",\\\"id\\\":38,\\\"credits\\\":3,\\\"nameCanonical\\\":\\\"\\\"},{\\\"curriculum_requisites\\\":[{\\\"source_id\\\":9,\\\"target_id\\\":10,\\\"type\\\":\\\"CurriculumCorequisite\\\"}],\\\"name\\\":\\\"PHYS  2211\\\",\\\"metrics\\\":{\\\"complexity\\\":20.0,\\\"centrality\\\":46,\\\"blocking factor\\\":12,\\\"delay factor\\\":8.0},\\\"nameSub\\\":\\\"Intro Physics 1\\\",\\\"id\\\":10,\\\"credits\\\":4,\\\"nameCanonical\\\":\\\"\\\"}],\\\"id\\\":2},{\\\"name\\\":\\\"Term 3\\\",\\\"curriculum_items\\\":[{\\\"curriculum_requisites\\\":[{\\\"source_id\\\":10,\\\"target_id\\\":16,\\\"type\\\":\\\"CurriculumPrerequisite\\\"}],\\\"name\\\":\\\"PHYS  2212\\\",\\\"metrics\\\":{\\\"complexity\\\":19.0,\\\"centrality\\\":46,\\\"blocking factor\\\":11,\\\"delay factor\\\":8.0},\\\"nameSub\\\":\\\"Intro. Physics 2\\\",\\\"id\\\":16,\\\"credits\\\":4,\\\"nameCanonical\\\":\\\"\\\"},{\\\"curriculum_requisites\\\":[{\\\"source_id\\\":2,\\\"target_id\\\":7,\\\"type\\\":\\\"CurriculumPrerequisite\\\"}],\\\"name\\\":\\\"ECE 2020\\\",\\\"metrics\\\":{\\\"complexity\\\":11.0,\\\"centrality\\\":41,\\\"blocking factor\\\":5,\\\"delay factor\\\":6.0},\\\"nameSub\\\":\\\"Fund. of Digital System Design\\\",\\\"id\\\":7,\\\"credits\\\":3,\\\"nameCanonical\\\":\\\"\\\"},{\\\"curriculum_requisites\\\":[],\\\"name\\\":\\\" \\\",\\\"metrics\\\":{\\\"complexity\\\":1.0,\\\"centrality\\\":0,\\\"blocking factor\\\":0,\\\"delay factor\\\":1.0},\\\"nameSub\\\":\\\"Social Science Elective\\\",\\\"id\\\":40,\\\"credits\\\":3,\\\"nameCanonical\\\":\\\"\\\"},{\\\"curriculum_requisites\\\":[{\\\"source_id\\\":6,\\\"target_id\\\":15,\\\"type\\\":\\\"CurriculumPrerequisite\\\"},{\\\"source_id\\\":9,\\\"target_id\\\":15,\\\"type\\\":\\\"CurriculumPrerequisite\\\"}],\\\"name\\\":\\\"MATH 2552\\\",\\\"metrics\\\":{\\\"complexity\\\":18.0,\\\"centrality\\\":110,\\\"blocking factor\\\":11,\\\"delay factor\\\":7.0},\\\"nameSub\\\":\\\"Differential Equations\\\",\\\"id\\\":15,\\\"credits\\\":4,\\\"nameCanonical\\\":\\\"\\\"},{\\\"curriculum_requisites\\\":[],\\\"name\\\":\\\"APPH 1040\\\",\\\"metrics\\\":{\\\"complexity\\\":1.0,\\\"centrality\\\":0,\\\"blocking factor\\\":0,\\\"delay factor\\\":1.0},\\\"nameSub\\\":\\\"\\\",\\\"id\\\":26,\\\"credits\\\":2,\\\"nameCanonical\\\":\\\"\\\"}],\\\"id\\\":3},{\\\"name\\\":\\\"Term 4\\\",\\\"curriculum_items\\\":[{\\\"curriculum_requisites\\\":[{\\\"source_id\\\":16,\\\"target_id\\\":19,\\\"type\\\":\\\"CurriculumPrerequisite\\\"},{\\\"source_id\\\":15,\\\"target_id\\\":19,\\\"type\\\":\\\"CurriculumPrerequisite\\\"}],\\\"name\\\":\\\"ECE 2040\\\",\\\"metrics\\\":{\\\"complexity\\\":18.0,\\\"centrality\\\":124,\\\"blocking factor\\\":10,\\\"delay factor\\\":8.0},\\\"nameSub\\\":\\\"Circuit Analysis\\\",\\\"id\\\":19,\\\"credits\\\":3,\\\"nameCanonical\\\":\\\"\\\"},{\\\"curriculum_requisites\\\":[{\\\"source_id\\\":2,\\\"target_id\\\":12,\\\"type\\\":\\\"CurriculumPrerequisite\\\"},{\\\"source_id\\\":9,\\\"target_id\\\":12,\\\"type\\\":\\\"CurriculumPrerequisite\\\"}],\\\"name\\\":\\\"ECE 2026\\\",\\\"metrics\\\":{\\\"complexity\\\":9.0,\\\"centrality\\\":11,\\\"blocking factor\\\":3,\\\"delay factor\\\":6.0},\\\"nameSub\\\":\\\"Intro. to Signal Processing\\\",\\\"id\\\":12,\\\"credits\\\":3,\\\"nameCanonical\\\":\\\"\\\"},{\\\"curriculum_requisites\\\":[],\\\"name\\\":\\\" \\\",\\\"metrics\\\":{\\\"complexity\\\":1.0,\\\"centrality\\\":0,\\\"blocking factor\\\":0,\\\"delay factor\\\":1.0},\\\"nameSub\\\":\\\"History/Government Elective\\\",\\\"id\\\":11,\\\"credits\\\":3,\\\"nameCanonical\\\":\\\"\\\"},{\\\"curriculum_requisites\\\":[],\\\"name\\\":\\\" \\\",\\\"metrics\\\":{\\\"complexity\\\":1.0,\\\"centrality\\\":0,\\\"blocking factor\\\":0,\\\"delay factor\\\":1.0},\\\"nameSub\\\":\\\"Humanities Elective\\\",\\\"id\\\":14,\\\"credits\\\":3,\\\"nameCanonical\\\":\\\"\\\"},{\\\"curriculum_requisites\\\":[{\\\"source_id\\\":7,\\\"target_id\\\":18,\\\"type\\\":\\\"CurriculumPrerequisite\\\"}],\\\"name\\\":\\\"ECE 2035\\\",\\\"metrics\\\":{\\\"complexity\\\":10.0,\\\"centrality\\\":27,\\\"blocking factor\\\":4,\\\"delay factor\\\":6.0},\\\"nameSub\\\":\\\"Programming Elective\\\",\\\"id\\\":18,\\\"credits\\\":4,\\\"nameCanonical\\\":\\\"\\\"}],\\\"id\\\":4},{\\\"name\\\":\\\"Term 5\\\",\\\"curriculum_items\\\":[{\\\"curriculum_requisites\\\":[{\\\"source_id\\\":19,\\\"target_id\\\":45,\\\"type\\\":\\\"CurriculumPrerequisite\\\"}],\\\"name\\\":\\\" \\\",\\\"metrics\\\":{\\\"complexity\\\":6.0,\\\"centrality\\\":0,\\\"blocking factor\\\":0,\\\"delay factor\\\":6.0},\\\"nameSub\\\":\\\"Circuit Technologies Topics\\\",\\\"id\\\":45,\\\"credits\\\":3,\\\"nameCanonical\\\":\\\"\\\"},{\\\"curriculum_requisites\\\":[],\\\"name\\\":\\\" \\\",\\\"metrics\\\":{\\\"complexity\\\":1.0,\\\"centrality\\\":0,\\\"blocking factor\\\":0,\\\"delay factor\\\":1.0},\\\"nameSub\\\":\\\"Econ/Social Science Elective\\\",\\\"id\\\":13,\\\"credits\\\":3,\\\"nameCanonical\\\":\\\"\\\"},{\\\"curriculum_requisites\\\":[{\\\"source_id\\\":15,\\\"target_id\\\":24,\\\"type\\\":\\\"CurriculumPrerequisite\\\"},{\\\"source_id\\\":12,\\\"target_id\\\":24,\\\"type\\\":\\\"CurriculumPrerequisite\\\"},{\\\"source_id\\\":19,\\\"target_id\\\":24,\\\"type\\\":\\\"CurriculumPrerequisite\\\"}],\\\"name\\\":\\\"ECE 3025\\\",\\\"metrics\\\":{\\\"complexity\\\":10.0,\\\"centrality\\\":45,\\\"blocking factor\\\":2,\\\"delay factor\\\":8.0},\\\"nameSub\\\":\\\"Electromagnetics\\\",\\\"id\\\":24,\\\"credits\\\":3,\\\"nameCanonical\\\":\\\"\\\"},{\\\"curriculum_requisites\\\":[],\\\"name\\\":\\\"ECE 3005\\\",\\\"metrics\\\":{\\\"complexity\\\":1.0,\\\"centrality\\\":0,\\\"blocking factor\\\":0,\\\"delay factor\\\":1.0},\\\"nameSub\\\":\\\"\\\",\\\"id\\\":28,\\\"credits\\\":1,\\\"nameCanonical\\\":\\\"\\\"},{\\\"curriculum_requisites\\\":[{\\\"source_id\\\":4,\\\"target_id\\\":8,\\\"type\\\":\\\"CurriculumPrerequisite\\\"}],\\\"name\\\":\\\"ENGL 1102\\\",\\\"metrics\\\":{\\\"complexity\\\":2.0,\\\"centrality\\\":0,\\\"blocking factor\\\":0,\\\"delay factor\\\":2.0},\\\"nameSub\\\":\\\"English Composition II\\\",\\\"id\\\":8,\\\"credits\\\":3,\\\"nameCanonical\\\":\\\"\\\"},{\\\"curriculum_requisites\\\":[],\\\"name\\\":\\\" \\\",\\\"metrics\\\":{\\\"complexity\\\":1.0,\\\"centrality\\\":0,\\\"blocking factor\\\":0,\\\"delay factor\\\":1.0},\\\"nameSub\\\":\\\"Elective Hours\\\",\\\"id\\\":33,\\\"credits\\\":3,\\\"nameCanonical\\\":\\\"\\\"}],\\\"id\\\":5},{\\\"name\\\":\\\"Term 6\\\",\\\"curriculum_items\\\":[{\\\"curriculum_requisites\\\":[{\\\"source_id\\\":9,\\\"target_id\\\":20,\\\"type\\\":\\\"CurriculumPrerequisite\\\"}],\\\"name\\\":\\\"MATH 2551\\\",\\\"metrics\\\":{\\\"complexity\\\":5.0,\\\"centrality\\\":4,\\\"blocking factor\\\":1,\\\"delay factor\\\":4.0},\\\"nameSub\\\":\\\"Multivariate Calculus\\\",\\\"id\\\":20,\\\"credits\\\":4,\\\"nameCanonical\\\":\\\"\\\"},{\\\"curriculum_requisites\\\":[{\\\"source_id\\\":24,\\\"target_id\\\":35,\\\"type\\\":\\\"CurriculumPrerequisite\\\"}],\\\"name\\\":\\\" \\\",\\\"metrics\\\":{\\\"complexity\\\":9.0,\\\"centrality\\\":45,\\\"blocking factor\\\":1,\\\"delay factor\\\":8.0},\\\"nameSub\\\":\\\"Senior Design Sequence\\\",\\\"id\\\":35,\\\"credits\\\":1,\\\"nameCanonical\\\":\\\"\\\"},{\\\"curriculum_requisites\\\":[],\\\"name\\\":\\\" \\\",\\\"metrics\\\":{\\\"complexity\\\":1.0,\\\"centrality\\\":0,\\\"blocking factor\\\":0,\\\"delay factor\\\":1.0},\\\"nameSub\\\":\\\"Elective Hours\\\",\\\"id\\\":44,\\\"credits\\\":3,\\\"nameCanonical\\\":\\\"\\\"},{\\\"curriculum_requisites\\\":[{\\\"source_id\\\":7,\\\"target_id\\\":17,\\\"type\\\":\\\"CurriculumPrerequisite\\\"},{\\\"source_id\\\":18,\\\"target_id\\\":17,\\\"type\\\":\\\"CurriculumCorequisite\\\"}],\\\"name\\\":\\\"ECE 2031\\\",\\\"metrics\\\":{\\\"complexity\\\":9.0,\\\"centrality\\\":31,\\\"blocking factor\\\":3,\\\"delay factor\\\":6.0},\\\"nameSub\\\":\\\"Digital Design Lab\\\",\\\"id\\\":17,\\\"credits\\\":2,\\\"nameCanonical\\\":\\\"\\\"},{\\\"curriculum_requisites\\\":[{\\\"source_id\\\":19,\\\"target_id\\\":43,\\\"type\\\":\\\"CurriculumPrerequisite\\\"}],\\\"name\\\":\\\" \\\",\\\"metrics\\\":{\\\"complexity\\\":6.0,\\\"centrality\\\":0,\\\"blocking factor\\\":0,\\\"delay factor\\\":6.0},\\\"nameSub\\\":\\\"ECE 3000/4000 Elective\\\",\\\"id\\\":43,\\\"credits\\\":3,\\\"nameCanonical\\\":\\\"\\\"},{\\\"curriculum_requisites\\\":[],\\\"name\\\":\\\"ECE 1100\\\",\\\"metrics\\\":{\\\"complexity\\\":1.0,\\\"centrality\\\":0,\\\"blocking factor\\\":0,\\\"delay factor\\\":1.0},\\\"nameSub\\\":\\\"ECE Discovery Studio\\\",\\\"id\\\":3,\\\"credits\\\":1,\\\"nameCanonical\\\":\\\"\\\"},{\\\"curriculum_requisites\\\":[],\\\"name\\\":\\\" \\\",\\\"metrics\\\":{\\\"complexity\\\":1.0,\\\"centrality\\\":0,\\\"blocking factor\\\":0,\\\"delay factor\\\":1.0},\\\"nameSub\\\":\\\"Elective Hours\\\",\\\"id\\\":39,\\\"credits\\\":2,\\\"nameCanonical\\\":\\\"\\\"}],\\\"id\\\":6},{\\\"name\\\":\\\"Term 7\\\",\\\"curriculum_items\\\":[{\\\"curriculum_requisites\\\":[],\\\"name\\\":\\\" \\\",\\\"metrics\\\":{\\\"complexity\\\":1.0,\\\"centrality\\\":0,\\\"blocking factor\\\":0,\\\"delay factor\\\":1.0},\\\"nameSub\\\":\\\"Elective Hours\\\",\\\"id\\\":29,\\\"credits\\\":3,\\\"nameCanonical\\\":\\\"\\\"},{\\\"curriculum_requisites\\\":[],\\\"name\\\":\\\" \\\",\\\"metrics\\\":{\\\"complexity\\\":1.0,\\\"centrality\\\":0,\\\"blocking factor\\\":0,\\\"delay factor\\\":1.0},\\\"nameSub\\\":\\\"Science Elective\\\",\\\"id\\\":21,\\\"credits\\\":3,\\\"nameCanonical\\\":\\\"\\\"},{\\\"curriculum_requisites\\\":[{\\\"source_id\\\":19,\\\"target_id\\\":37,\\\"type\\\":\\\"CurriculumPrerequisite\\\"}],\\\"name\\\":\\\" \\\",\\\"metrics\\\":{\\\"complexity\\\":6.0,\\\"centrality\\\":0,\\\"blocking factor\\\":0,\\\"delay factor\\\":6.0},\\\"nameSub\\\":\\\"ECE 3000/4000 Elective\\\",\\\"id\\\":37,\\\"credits\\\":3,\\\"nameCanonical\\\":\\\"\\\"},{\\\"curriculum_requisites\\\":[{\\\"source_id\\\":15,\\\"target_id\\\":22,\\\"type\\\":\\\"CurriculumPrerequisite\\\"},{\\\"source_id\\\":18,\\\"target_id\\\":22,\\\"type\\\":\\\"CurriculumPrerequisite\\\"},{\\\"source_id\\\":17,\\\"target_id\\\":22,\\\"type\\\":\\\"CurriculumPrerequisite\\\"},{\\\"source_id\\\":1,\\\"target_id\\\":22,\\\"type\\\":\\\"CurriculumPrerequisite\\\"},{\\\"source_id\\\":19,\\\"target_id\\\":22,\\\"type\\\":\\\"CurriculumPrerequisite\\\"}],\\\"name\\\":\\\"ECE 3040\\\",\\\"metrics\\\":{\\\"complexity\\\":9.0,\\\"centrality\\\":96,\\\"blocking factor\\\":2,\\\"delay factor\\\":7.0},\\\"nameSub\\\":\\\"Microelectronic Circuits\\\",\\\"id\\\":22,\\\"credits\\\":4,\\\"nameCanonical\\\":\\\"\\\"},{\\\"curriculum_requisites\\\":[{\\\"source_id\\\":19,\\\"target_id\\\":42,\\\"type\\\":\\\"CurriculumPrerequisite\\\"}],\\\"name\\\":\\\" \\\",\\\"metrics\\\":{\\\"complexity\\\":6.0,\\\"centrality\\\":0,\\\"blocking factor\\\":0,\\\"delay factor\\\":6.0},\\\"nameSub\\\":\\\"ECE 3000/4000 Elective\\\",\\\"id\\\":42,\\\"credits\\\":3,\\\"nameCanonical\\\":\\\"\\\"}],\\\"id\\\":7},{\\\"name\\\":\\\"Term 8\\\",\\\"curriculum_items\\\":[{\\\"curriculum_requisites\\\":[],\\\"name\\\":\\\"ECE 3450\\\",\\\"metrics\\\":{\\\"complexity\\\":1.0,\\\"centrality\\\":0,\\\"blocking factor\\\":0,\\\"delay factor\\\":1.0},\\\"nameSub\\\":\\\"\\\",\\\"id\\\":30,\\\"credits\\\":3,\\\"nameCanonical\\\":\\\"\\\"},{\\\"curriculum_requisites\\\":[],\\\"name\\\":\\\" \\\",\\\"metrics\\\":{\\\"complexity\\\":1.0,\\\"centrality\\\":0,\\\"blocking factor\\\":0,\\\"delay factor\\\":1.0},\\\"nameSub\\\":\\\"Social Science Elective\\\",\\\"id\\\":32,\\\"credits\\\":3,\\\"nameCanonical\\\":\\\"\\\"},{\\\"curriculum_requisites\\\":[{\\\"source_id\\\":22,\\\"target_id\\\":23,\\\"type\\\":\\\"CurriculumCorequisite\\\"},{\\\"source_id\\\":17,\\\"target_id\\\":23,\\\"type\\\":\\\"CurriculumPrerequisite\\\"}],\\\"name\\\":\\\"ECE 3043\\\",\\\"metrics\\\":{\\\"complexity\\\":7.0,\\\"centrality\\\":0,\\\"blocking factor\\\":0,\\\"delay factor\\\":7.0},\\\"nameSub\\\":\\\"Measurements, Circuits and Microelectronics Lab\\\",\\\"id\\\":23,\\\"credits\\\":2,\\\"nameCanonical\\\":\\\"\\\"},{\\\"curriculum_requisites\\\":[{\\\"source_id\\\":35,\\\"target_id\\\":41,\\\"type\\\":\\\"CurriculumPrerequisite\\\"}],\\\"name\\\":\\\" \\\",\\\"metrics\\\":{\\\"complexity\\\":8.0,\\\"centrality\\\":0,\\\"blocking factor\\\":0,\\\"delay factor\\\":8.0},\\\"nameSub\\\":\\\"Senior Design Sequence\\\",\\\"id\\\":41,\\\"credits\\\":2,\\\"nameCanonical\\\":\\\"\\\"},{\\\"curriculum_requisites\\\":[{\\\"source_id\\\":22,\\\"target_id\\\":36,\\\"type\\\":\\\"CurriculumPrerequisite\\\"}],\\\"name\\\":\\\" \\\",\\\"metrics\\\":{\\\"complexity\\\":7.0,\\\"centrality\\\":0,\\\"blocking factor\\\":0,\\\"delay factor\\\":7.0},\\\"nameSub\\\":\\\"Electronic Devices Topics\\\",\\\"id\\\":36,\\\"credits\\\":3,\\\"nameCanonical\\\":\\\"\\\"},{\\\"curriculum_requisites\\\":[{\\\"source_id\\\":20,\\\"target_id\\\":25,\\\"type\\\":\\\"CurriculumPrerequisite\\\"}],\\\"name\\\":\\\" \\\",\\\"metrics\\\":{\\\"complexity\\\":4.0,\\\"centrality\\\":0,\\\"blocking factor\\\":0,\\\"delay factor\\\":4.0},\\\"nameSub\\\":\\\"Prob & Stat Elective\\\",\\\"id\\\":25,\\\"credits\\\":3,\\\"nameCanonical\\\":\\\"\\\"}],\\\"id\\\":8}],\\\"institution\\\":\\\"Georgia Institute of Technology\\\"}},\\\"*\\\"); window.removeEventListener(\\\"message\\\",window.messageReceived); window.messageReceived=(function (event){return (event.data.curriculum!==undefined) ? (WebIO.setval({\\\"name\\\":\\\"curriculum-data\\\",\\\"scope\\\":\\\"14524392963870972274\\\",\\\"id\\\":\\\"7189423053985555033\\\",\\\"type\\\":\\\"observable\\\"},event.data.curriculum)) : undefined}); return window.addEventListener(\\\"message\\\",window.messageReceived)})\")), :style => Dict(:padding => \"0\", :height => \"100vh\", :margin => \"0\", :border => \"none\", :width => \"100%\"))), Dict{String, Tuple{Observables.AbstractObservable, Union{Nothing, Bool}}}(\"curriculum-data\" => (Observable{Dict{String, Any}} with 1 listeners. Value:\n",
       "Dict{String, Any}(\"options\" => Dict{String, Any}(\"hideTerms\" => false, \"edit\" => false), \"curriculum\" => Dict{String, Any}(\"name\" => \"Electrical Engineering - Electronic Devices and Circuit Technology\", \"dp_name\" => \"\", \"curriculum_terms\" => Dict{String, Any}[Dict(\"name\" => \"Term 1\", \"curriculum_items\" => Dict{String, Any}[Dict(\"curriculum_requisites\" => Dict{String, Any}[], \"name\" => \"MATH 1551\", \"metrics\" => Dict{String, Any}(\"complexity\" => 27.0, \"centrality\" => 0, \"blocking factor\" => 19, \"delay factor\" => 8.0), \"nameSub\" => \"Differential Calculus\", \"id\" => 5, \"credits\" => 2, \"nameCanonical\" => \"\"), Dict(\"curriculum_requisites\" => Dict{String, Any}[Dict(\"source_id\" => 5, \"target_id\" => 6, \"type\" => \"CurriculumCorequisite\")], \"name\" => \"MATH 1554\", \"metrics\" => Dict{String, Any}(\"complexity\" => 19.0, \"centrality\" => 55, \"blocking factor\" => 12, \"delay factor\" => 7.0), \"nameSub\" => \"Linear Algebra\", \"id\" => 6, \"credits\" => 4, \"nameCanonical\" => \"\"), Dict(\"curriculum_requisites\" => Dict{String, Any}[], \"name\" => \"CHEM 1310\", \"metrics\" => Dict{String, Any}(\"complexity\" => 6.0, \"centrality\" => 0, \"blocking factor\" => 3, \"delay factor\" => 3.0), \"nameSub\" => \"General Chemistry\", \"id\" => 1, \"credits\" => 4, \"nameCanonical\" => \"\"), Dict(\"curriculum_requisites\" => Dict{String, Any}[], \"name\" => \"CS 1301\", \"metrics\" => Dict{String, Any}(\"complexity\" => 16.0, \"centrality\" => 0, \"blocking factor\" => 10, \"delay factor\" => 6.0), \"nameSub\" => \"Intro to Computing\", \"id\" => 2, \"credits\" => 3, \"nameCanonical\" => \"\"), Dict(\"curriculum_requisites\" => Dict{String, Any}[], \"name\" => \" \", \"metrics\" => Dict{String, Any}(\"complexity\" => 1.0, \"centrality\" => 0, \"blocking factor\" => 0, \"delay factor\" => 1.0), \"nameSub\" => \"Humanities Elective\", \"id\" => 27, \"credits\" => 3, \"nameCanonical\" => \"\")], \"id\" => 1), Dict(\"name\" => \"Term 2\", \"curriculum_items\" => Dict{String, Any}[Dict(\"curriculum_requisites\" => Dict{String, Any}[Dict(\"source_id\" => 5, \"target_id\" => 9, \"type\" => \"CurriculumPrerequisite\")], \"name\" => \"MATH 1552\", \"metrics\" => Dict{String, Any}(\"complexity\" => 25.0, \"centrality\" => 111, \"blocking factor\" => 17, \"delay factor\" => 8.0), \"nameSub\" => \"Integral Calculus\", \"id\" => 9, \"credits\" => 4, \"nameCanonical\" => \"\"), Dict(\"curriculum_requisites\" => Dict{String, Any}[], \"name\" => \"ECE 3400\", \"metrics\" => Dict{String, Any}(\"complexity\" => 1.0, \"centrality\" => 0, \"blocking factor\" => 0, \"delay factor\" => 1.0), \"nameSub\" => \"\", \"id\" => 31, \"credits\" => 3, \"nameCanonical\" => \"\"), Dict(\"curriculum_requisites\" => Dict{String, Any}[], \"name\" => \"ENGL 1101\", \"metrics\" => Dict{String, Any}(\"complexity\" => 3.0, \"centrality\" => 0, \"blocking factor\" => 1, \"delay factor\" => 2.0), \"nameSub\" => \"English Composition I\", \"id\" => 4, \"credits\" => 3, \"nameCanonical\" => \"\"), Dict(\"curriculum_requisites\" => Dict{String, Any}[], \"name\" => \"ECE 4452\", \"metrics\" => Dict{String, Any}(\"complexity\" => 1.0, \"centrality\" => 0, \"blocking factor\" => 0, \"delay factor\" => 1.0), \"nameSub\" => \"\", \"id\" => 38, \"credits\" => 3, \"nameCanonical\" => \"\"), Dict(\"curriculum_requisites\" => Dict{String, Any}[Dict(\"source_id\" => 9, \"target_id\" => 10, \"type\" => \"CurriculumCorequisite\")], \"name\" => \"PHYS  2211\", \"metrics\" => Dict{String, Any}(\"complexity\" => 20.0, \"centrality\" => 46, \"blocking factor\" => 12, \"delay factor\" => 8.0), \"nameSub\" => \"Intro Physics 1\", \"id\" => 10, \"credits\" => 4, \"nameCanonical\" => \"\")], \"id\" => 2), Dict(\"name\" => \"Term 3\", \"curriculum_items\" => Dict{String, Any}[Dict(\"curriculum_requisites\" => Dict{String, Any}[Dict(\"source_id\" => 10, \"target_id\" => 16, \"type\" => \"CurriculumPrerequisite\")], \"name\" => \"PHYS  2212\", \"metrics\" => Dict{String, Any}(\"complexity\" => 19.0, \"centrality\" => 46, \"blocking factor\" => 11, \"delay factor\" => 8.0), \"nameSub\" => \"Intro. Physics 2\", \"id\" => 16, \"credits\" => 4, \"nameCanonical\" => \"\"), Dict(\"curriculum_requisites\" => Dict{String, Any}[Dict(\"source_id\" => 2, \"target_id\" => 7, \"type\" => \"CurriculumPrerequisite\")], \"name\" => \"ECE 2020\", \"metrics\" => Dict{String, Any}(\"complexity\" => 11.0, \"centrality\" => 41, \"blocking factor\" => 5, \"delay factor\" => 6.0), \"nameSub\" => \"Fund. of Digital System Design\", \"id\" => 7, \"credits\" => 3, \"nameCanonical\" => \"\"), Dict(\"curriculum_requisites\" => Dict{String, Any}[], \"name\" => \" \", \"metrics\" => Dict{String, Any}(\"complexity\" => 1.0, \"centrality\" => 0, \"blocking factor\" => 0, \"delay factor\" => 1.0), \"nameSub\" => \"Social Science Elective\", \"id\" => 40, \"credits\" => 3, \"nameCanonical\" => \"\"), Dict(\"curriculum_requisites\" => Dict{String, Any}[Dict(\"source_id\" => 6, \"target_id\" => 15, \"type\" => \"CurriculumPrerequisite\"), Dict(\"source_id\" => 9, \"target_id\" => 15, \"type\" => \"CurriculumPrerequisite\")], \"name\" => \"MATH 2552\", \"metrics\" => Dict{String, Any}(\"complexity\" => 18.0, \"centrality\" => 110, \"blocking factor\" => 11, \"delay factor\" => 7.0), \"nameSub\" => \"Differential Equations\", \"id\" => 15, \"credits\" => 4, \"nameCanonical\" => \"\"), Dict(\"curriculum_requisites\" => Dict{String, Any}[], \"name\" => \"APPH 1040\", \"metrics\" => Dict{String, Any}(\"complexity\" => 1.0, \"centrality\" => 0, \"blocking factor\" => 0, \"delay factor\" => 1.0), \"nameSub\" => \"\", \"id\" => 26, \"credits\" => 2, \"nameCanonical\" => \"\")], \"id\" => 3), Dict(\"name\" => \"Term 4\", \"curriculum_items\" => Dict{String, Any}[Dict(\"curriculum_requisites\" => Dict{String, Any}[Dict(\"source_id\" => 16, \"target_id\" => 19, \"type\" => \"CurriculumPrerequisite\"), Dict(\"source_id\" => 15, \"target_id\" => 19, \"type\" => \"CurriculumPrerequisite\")], \"name\" => \"ECE 2040\", \"metrics\" => Dict{String, Any}(\"complexity\" => 18.0, \"centrality\" => 124, \"blocking factor\" => 10, \"delay factor\" => 8.0), \"nameSub\" => \"Circuit Analysis\", \"id\" => 19, \"credits\" => 3, \"nameCanonical\" => \"\"), Dict(\"curriculum_requisites\" => Dict{String, Any}[Dict(\"source_id\" => 2, \"target_id\" => 12, \"type\" => \"CurriculumPrerequisite\"), Dict(\"source_id\" => 9, \"target_id\" => 12, \"type\" => \"CurriculumPrerequisite\")], \"name\" => \"ECE 2026\", \"metrics\" => Dict{String, Any}(\"complexity\" => 9.0, \"centrality\" => 11, \"blocking factor\" => 3, \"delay factor\" => 6.0), \"nameSub\" => \"Intro. to Signal Processing\", \"id\" => 12, \"credits\" => 3, \"nameCanonical\" => \"\"), Dict(\"curriculum_requisites\" => Dict{String, Any}[], \"name\" => \" \", \"metrics\" => Dict{String, Any}(\"complexity\" => 1.0, \"centrality\" => 0, \"blocking factor\" => 0, \"delay factor\" => 1.0), \"nameSub\" => \"History/Government Elective\", \"id\" => 11, \"credits\" => 3, \"nameCanonical\" => \"\"), Dict(\"curriculum_requisites\" => Dict{String, Any}[], \"name\" => \" \", \"metrics\" => Dict{String, Any}(\"complexity\" => 1.0, \"centrality\" => 0, \"blocking factor\" => 0, \"delay factor\" => 1.0), \"nameSub\" => \"Humanities Elective\", \"id\" => 14, \"credits\" => 3, \"nameCanonical\" => \"\"), Dict(\"curriculum_requisites\" => Dict{String, Any}[Dict(\"source_id\" => 7, \"target_id\" => 18, \"type\" => \"CurriculumPrerequisite\")], \"name\" => \"ECE 2035\", \"metrics\" => Dict{String, Any}(\"complexity\" => 10.0, \"centrality\" => 27, \"blocking factor\" => 4, \"delay factor\" => 6.0), \"nameSub\" => \"Programming Elective\", \"id\" => 18, \"credits\" => 4, \"nameCanonical\" => \"\")], \"id\" => 4), Dict(\"name\" => \"Term 5\", \"curriculum_items\" => Dict{String, Any}[Dict(\"curriculum_requisites\" => Dict{String, Any}[Dict(\"source_id\" => 19, \"target_id\" => 45, \"type\" => \"CurriculumPrerequisite\")], \"name\" => \" \", \"metrics\" => Dict{String, Any}(\"complexity\" => 6.0, \"centrality\" => 0, \"blocking factor\" => 0, \"delay factor\" => 6.0), \"nameSub\" => \"Circuit Technologies Topics\", \"id\" => 45, \"credits\" => 3, \"nameCanonical\" => \"\"), Dict(\"curriculum_requisites\" => Dict{String, Any}[], \"name\" => \" \", \"metrics\" => Dict{String, Any}(\"complexity\" => 1.0, \"centrality\" => 0, \"blocking factor\" => 0, \"delay factor\" => 1.0), \"nameSub\" => \"Econ/Social Science Elective\", \"id\" => 13, \"credits\" => 3, \"nameCanonical\" => \"\"), Dict(\"curriculum_requisites\" => Dict{String, Any}[Dict(\"source_id\" => 15, \"target_id\" => 24, \"type\" => \"CurriculumPrerequisite\"), Dict(\"source_id\" => 12, \"target_id\" => 24, \"type\" => \"CurriculumPrerequisite\"), Dict(\"source_id\" => 19, \"target_id\" => 24, \"type\" => \"CurriculumPrerequisite\")], \"name\" => \"ECE 3025\", \"metrics\" => Dict{String, Any}(\"complexity\" => 10.0, \"centrality\" => 45, \"blocking factor\" => 2, \"delay factor\" => 8.0), \"nameSub\" => \"Electromagnetics\", \"id\" => 24, \"credits\" => 3, \"nameCanonical\" => \"\"), Dict(\"curriculum_requisites\" => Dict{String, Any}[], \"name\" => \"ECE 3005\", \"metrics\" => Dict{String, Any}(\"complexity\" => 1.0, \"centrality\" => 0, \"blocking factor\" => 0, \"delay factor\" => 1.0), \"nameSub\" => \"\", \"id\" => 28, \"credits\" => 1, \"nameCanonical\" => \"\"), Dict(\"curriculum_requisites\" => Dict{String, Any}[Dict(\"source_id\" => 4, \"target_id\" => 8, \"type\" => \"CurriculumPrerequisite\")], \"name\" => \"ENGL 1102\", \"metrics\" => Dict{String, Any}(\"complexity\" => 2.0, \"centrality\" => 0, \"blocking factor\" => 0, \"delay factor\" => 2.0), \"nameSub\" => \"English Composition II\", \"id\" => 8, \"credits\" => 3, \"nameCanonical\" => \"\"), Dict(\"curriculum_requisites\" => Dict{String, Any}[], \"name\" => \" \", \"metrics\" => Dict{String, Any}(\"complexity\" => 1.0, \"centrality\" => 0, \"blocking factor\" => 0, \"delay factor\" => 1.0), \"nameSub\" => \"Elective Hours\", \"id\" => 33, \"credits\" => 3, \"nameCanonical\" => \"\")], \"id\" => 5), Dict(\"name\" => \"Term 6\", \"curriculum_items\" => Dict{String, Any}[Dict(\"curriculum_requisites\" => Dict{String, Any}[Dict(\"source_id\" => 9, \"target_id\" => 20, \"type\" => \"CurriculumPrerequisite\")], \"name\" => \"MATH 2551\", \"metrics\" => Dict{String, Any}(\"complexity\" => 5.0, \"centrality\" => 4, \"blocking factor\" => 1, \"delay factor\" => 4.0), \"nameSub\" => \"Multivariate Calculus\", \"id\" => 20, \"credits\" => 4, \"nameCanonical\" => \"\"), Dict(\"curriculum_requisites\" => Dict{String, Any}[Dict(\"source_id\" => 24, \"target_id\" => 35, \"type\" => \"CurriculumPrerequisite\")], \"name\" => \" \", \"metrics\" => Dict{String, Any}(\"complexity\" => 9.0, \"centrality\" => 45, \"blocking factor\" => 1, \"delay factor\" => 8.0), \"nameSub\" => \"Senior Design Sequence\", \"id\" => 35, \"credits\" => 1, \"nameCanonical\" => \"\"), Dict(\"curriculum_requisites\" => Dict{String, Any}[], \"name\" => \" \", \"metrics\" => Dict{String, Any}(\"complexity\" => 1.0, \"centrality\" => 0, \"blocking factor\" => 0, \"delay factor\" => 1.0), \"nameSub\" => \"Elective Hours\", \"id\" => 44, \"credits\" => 3, \"nameCanonical\" => \"\"), Dict(\"curriculum_requisites\" => Dict{String, Any}[Dict(\"source_id\" => 7, \"target_id\" => 17, \"type\" => \"CurriculumPrerequisite\"), Dict(\"source_id\" => 18, \"target_id\" => 17, \"type\" => \"CurriculumCorequisite\")], \"name\" => \"ECE 2031\", \"metrics\" => Dict{String, Any}(\"complexity\" => 9.0, \"centrality\" => 31, \"blocking factor\" => 3, \"delay factor\" => 6.0), \"nameSub\" => \"Digital Design Lab\", \"id\" => 17, \"credits\" => 2, \"nameCanonical\" => \"\"), Dict(\"curriculum_requisites\" => Dict{String, Any}[Dict(\"source_id\" => 19, \"target_id\" => 43, \"type\" => \"CurriculumPrerequisite\")], \"name\" => \" \", \"metrics\" => Dict{String, Any}(\"complexity\" => 6.0, \"centrality\" => 0, \"blocking factor\" => 0, \"delay factor\" => 6.0), \"nameSub\" => \"ECE 3000/4000 Elective\", \"id\" => 43, \"credits\" => 3, \"nameCanonical\" => \"\"), Dict(\"curriculum_requisites\" => Dict{String, Any}[], \"name\" => \"ECE 1100\", \"metrics\" => Dict{String, Any}(\"complexity\" => 1.0, \"centrality\" => 0, \"blocking factor\" => 0, \"delay factor\" => 1.0), \"nameSub\" => \"ECE Discovery Studio\", \"id\" => 3, \"credits\" => 1, \"nameCanonical\" => \"\"), Dict(\"curriculum_requisites\" => Dict{String, Any}[], \"name\" => \" \", \"metrics\" => Dict{String, Any}(\"complexity\" => 1.0, \"centrality\" => 0, \"blocking factor\" => 0, \"delay factor\" => 1.0), \"nameSub\" => \"Elective Hours\", \"id\" => 39, \"credits\" => 2, \"nameCanonical\" => \"\")], \"id\" => 6), Dict(\"name\" => \"Term 7\", \"curriculum_items\" => Dict{String, Any}[Dict(\"curriculum_requisites\" => Dict{String, Any}[], \"name\" => \" \", \"metrics\" => Dict{String, Any}(\"complexity\" => 1.0, \"centrality\" => 0, \"blocking factor\" => 0, \"delay factor\" => 1.0), \"nameSub\" => \"Elective Hours\", \"id\" => 29, \"credits\" => 3, \"nameCanonical\" => \"\"), Dict(\"curriculum_requisites\" => Dict{String, Any}[], \"name\" => \" \", \"metrics\" => Dict{String, Any}(\"complexity\" => 1.0, \"centrality\" => 0, \"blocking factor\" => 0, \"delay factor\" => 1.0), \"nameSub\" => \"Science Elective\", \"id\" => 21, \"credits\" => 3, \"nameCanonical\" => \"\"), Dict(\"curriculum_requisites\" => Dict{String, Any}[Dict(\"source_id\" => 19, \"target_id\" => 37, \"type\" => \"CurriculumPrerequisite\")], \"name\" => \" \", \"metrics\" => Dict{String, Any}(\"complexity\" => 6.0, \"centrality\" => 0, \"blocking factor\" => 0, \"delay factor\" => 6.0), \"nameSub\" => \"ECE 3000/4000 Elective\", \"id\" => 37, \"credits\" => 3, \"nameCanonical\" => \"\"), Dict(\"curriculum_requisites\" => Dict{String, Any}[Dict(\"source_id\" => 15, \"target_id\" => 22, \"type\" => \"CurriculumPrerequisite\"), Dict(\"source_id\" => 18, \"target_id\" => 22, \"type\" => \"CurriculumPrerequisite\"), Dict(\"source_id\" => 17, \"target_id\" => 22, \"type\" => \"CurriculumPrerequisite\"), Dict(\"source_id\" => 1, \"target_id\" => 22, \"type\" => \"CurriculumPrerequisite\"), Dict(\"source_id\" => 19, \"target_id\" => 22, \"type\" => \"CurriculumPrerequisite\")], \"name\" => \"ECE 3040\", \"metrics\" => Dict{String, Any}(\"complexity\" => 9.0, \"centrality\" => 96, \"blocking factor\" => 2, \"delay factor\" => 7.0), \"nameSub\" => \"Microelectronic Circuits\", \"id\" => 22, \"credits\" => 4, \"nameCanonical\" => \"\"), Dict(\"curriculum_requisites\" => Dict{String, Any}[Dict(\"source_id\" => 19, \"target_id\" => 42, \"type\" => \"CurriculumPrerequisite\")], \"name\" => \" \", \"metrics\" => Dict{String, Any}(\"complexity\" => 6.0, \"centrality\" => 0, \"blocking factor\" => 0, \"delay factor\" => 6.0), \"nameSub\" => \"ECE 3000/4000 Elective\", \"id\" => 42, \"credits\" => 3, \"nameCanonical\" => \"\")], \"id\" => 7), Dict(\"name\" => \"Term 8\", \"curriculum_items\" => Dict{String, Any}[Dict(\"curriculum_requisites\" => Dict{String, Any}[], \"name\" => \"ECE 3450\", \"metrics\" => Dict{String, Any}(\"complexity\" => 1.0, \"centrality\" => 0, \"blocking factor\" => 0, \"delay factor\" => 1.0), \"nameSub\" => \"\", \"id\" => 30, \"credits\" => 3, \"nameCanonical\" => \"\"), Dict(\"curriculum_requisites\" => Dict{String, Any}[], \"name\" => \" \", \"metrics\" => Dict{String, Any}(\"complexity\" => 1.0, \"centrality\" => 0, \"blocking factor\" => 0, \"delay factor\" => 1.0), \"nameSub\" => \"Social Science Elective\", \"id\" => 32, \"credits\" => 3, \"nameCanonical\" => \"\"), Dict(\"curriculum_requisites\" => Dict{String, Any}[Dict(\"source_id\" => 22, \"target_id\" => 23, \"type\" => \"CurriculumCorequisite\"), Dict(\"source_id\" => 17, \"target_id\" => 23, \"type\" => \"CurriculumPrerequisite\")], \"name\" => \"ECE 3043\", \"metrics\" => Dict{String, Any}(\"complexity\" => 7.0, \"centrality\" => 0, \"blocking factor\" => 0, \"delay factor\" => 7.0), \"nameSub\" => \"Measurements, Circuits and Microelectronics Lab\", \"id\" => 23, \"credits\" => 2, \"nameCanonical\" => \"\"), Dict(\"curriculum_requisites\" => Dict{String, Any}[Dict(\"source_id\" => 35, \"target_id\" => 41, \"type\" => \"CurriculumPrerequisite\")], \"name\" => \" \", \"metrics\" => Dict{String, Any}(\"complexity\" => 8.0, \"centrality\" => 0, \"blocking factor\" => 0, \"delay factor\" => 8.0), \"nameSub\" => \"Senior Design Sequence\", \"id\" => 41, \"credits\" => 2, \"nameCanonical\" => \"\"), Dict(\"curriculum_requisites\" => Dict{String, Any}[Dict(\"source_id\" => 22, \"target_id\" => 36, \"type\" => \"CurriculumPrerequisite\")], \"name\" => \" \", \"metrics\" => Dict{String, Any}(\"complexity\" => 7.0, \"centrality\" => 0, \"blocking factor\" => 0, \"delay factor\" => 7.0), \"nameSub\" => \"Electronic Devices Topics\", \"id\" => 36, \"credits\" => 3, \"nameCanonical\" => \"\"), Dict(\"curriculum_requisites\" => Dict{String, Any}[Dict(\"source_id\" => 20, \"target_id\" => 25, \"type\" => \"CurriculumPrerequisite\")], \"name\" => \" \", \"metrics\" => Dict{String, Any}(\"complexity\" => 4.0, \"centrality\" => 0, \"blocking factor\" => 0, \"delay factor\" => 4.0), \"nameSub\" => \"Prob & Stat Elective\", \"id\" => 25, \"credits\" => 3, \"nameCanonical\" => \"\")], \"id\" => 8)], \"institution\" => \"Georgia Institute of Technology\")), nothing)), Set{String}(), nothing, WebIO.Asset[], Dict{Any, Any}(), WebIO.ConnectionPool(Channel{Any}(32), Set{WebIO.AbstractConnection}(), Condition(Base.InvasiveLinkedList{Task}(Task (runnable) @0x000000017e1309a0, Task (runnable) @0x000000017e1309a0), Base.AlwaysLockedST(1))), WebIO.JSString[])"
      ]
     },
     "execution_count": 14,
     "metadata": {
      "application/vnd.webio.node+json": {
       "kernelId": "e72fa789-b6e6-4768-b9aa-a2b82d1046cf"
      }
     },
     "output_type": "execute_result"
    }
   ],
   "source": [
    "EE_new_1 = optimize_plan(EE_plan.curriculum, 8, 12, 18, balance_obj);\n",
    "visualize(EE_new_1, notebook=true)"
   ]
  },
  {
   "cell_type": "code",
   "execution_count": 15,
   "metadata": {},
   "outputs": [
    {
     "name": "stdout",
     "output_type": "stream",
     "text": [
      "\n",
      "Curriculum: Electrical Engineering - Electronic Devices and Circuit Technology\n",
      "Degree Plan: \n",
      "  total credit hours = 129\n",
      "  number of terms = 8\n",
      "  max. credits in a term = 17, in term 2\n",
      "  min. credits in a term = 16, in term 1\n",
      "  avg. credits per term = 16.125, with std. dev. = 0.33071891388307384\n",
      "\n"
     ]
    }
   ],
   "source": [
    "metrics = basic_metrics(EE_new_1)\n",
    "println(String(take!(metrics)))"
   ]
  },
  {
   "cell_type": "code",
   "execution_count": 16,
   "metadata": {},
   "outputs": [],
   "source": [
    "#curric = deepcopy(EE_plan.curriculum)\n",
    "#convert_ids(curric)\n",
    "#toxic = Array{Pair{Course,Course},1}()\n",
    "# Differential Calc is toxic to Linear Algebra\n",
    "#push!(toxic, course(curric, \"MATH\", \"1551\", \"Differential Calculus\", \"\") => course(curric, \"MATH\", \"1554\", \"Linear Algebra\", \"\"))"
   ]
  },
  {
   "cell_type": "code",
   "execution_count": 17,
   "metadata": {},
   "outputs": [
    {
     "name": "stdout",
     "output_type": "stream",
     "text": [
      "Academic license - for non-commercial use only\n",
      "An optimal solution was found with objective value = 35.0\n"
     ]
    },
    {
     "data": {
      "application/vnd.webio.node+json": {
       "children": [
        {
         "children": [
          ""
         ],
         "instanceArgs": {
          "namespace": "html",
          "tag": "iframe"
         },
         "nodeType": "DOM",
         "props": {
          "events": {
           "load": "(function (){this.contentWindow.postMessage({\"options\":{\"hideTerms\":false,\"edit\":false},\"curriculum\":{\"name\":\"Electrical Engineering - Electronic Devices and Circuit Technology\",\"dp_name\":\"\",\"curriculum_terms\":[{\"name\":\"Term 1\",\"curriculum_items\":[{\"curriculum_requisites\":[],\"name\":\"ECE 3450\",\"metrics\":{\"complexity\":1.0,\"centrality\":0,\"blocking factor\":0,\"delay factor\":1.0},\"nameSub\":\"\",\"id\":30,\"credits\":3,\"nameCanonical\":\"\"},{\"curriculum_requisites\":[],\"name\":\" \",\"metrics\":{\"complexity\":1.0,\"centrality\":0,\"blocking factor\":0,\"delay factor\":1.0},\"nameSub\":\"Elective Hours\",\"id\":44,\"credits\":3,\"nameCanonical\":\"\"},{\"curriculum_requisites\":[],\"name\":\"ECE 3400\",\"metrics\":{\"complexity\":1.0,\"centrality\":0,\"blocking factor\":0,\"delay factor\":1.0},\"nameSub\":\"\",\"id\":31,\"credits\":3,\"nameCanonical\":\"\"},{\"curriculum_requisites\":[],\"name\":\"ENGL 1101\",\"metrics\":{\"complexity\":3.0,\"centrality\":0,\"blocking factor\":1,\"delay factor\":2.0},\"nameSub\":\"English Composition I\",\"id\":4,\"credits\":3,\"nameCanonical\":\"\"},{\"curriculum_requisites\":[],\"name\":\" \",\"metrics\":{\"complexity\":1.0,\"centrality\":0,\"blocking factor\":0,\"delay factor\":1.0},\"nameSub\":\"Elective Hours\",\"id\":33,\"credits\":3,\"nameCanonical\":\"\"},{\"curriculum_requisites\":[],\"name\":\"APPH 1040\",\"metrics\":{\"complexity\":1.0,\"centrality\":0,\"blocking factor\":0,\"delay factor\":1.0},\"nameSub\":\"\",\"id\":26,\"credits\":2,\"nameCanonical\":\"\"}],\"id\":1},{\"name\":\"Term 2\",\"curriculum_items\":[{\"curriculum_requisites\":[],\"name\":\"MATH 1551\",\"metrics\":{\"complexity\":27.0,\"centrality\":0,\"blocking factor\":19,\"delay factor\":8.0},\"nameSub\":\"Differential Calculus\",\"id\":5,\"credits\":2,\"nameCanonical\":\"\"},{\"curriculum_requisites\":[{\"source_id\":5,\"target_id\":6,\"type\":\"CurriculumCorequisite\"}],\"name\":\"MATH 1554\",\"metrics\":{\"complexity\":19.0,\"centrality\":55,\"blocking factor\":12,\"delay factor\":7.0},\"nameSub\":\"Linear Algebra\",\"id\":6,\"credits\":4,\"nameCanonical\":\"\"},{\"curriculum_requisites\":[],\"name\":\"ECE 4452\",\"metrics\":{\"complexity\":1.0,\"centrality\":0,\"blocking factor\":0,\"delay factor\":1.0},\"nameSub\":\"\",\"id\":38,\"credits\":3,\"nameCanonical\":\"\"},{\"curriculum_requisites\":[{\"source_id\":4,\"target_id\":8,\"type\":\"CurriculumPrerequisite\"}],\"name\":\"ENGL 1102\",\"metrics\":{\"complexity\":2.0,\"centrality\":0,\"blocking factor\":0,\"delay factor\":2.0},\"nameSub\":\"English Composition II\",\"id\":8,\"credits\":3,\"nameCanonical\":\"\"}],\"id\":2},{\"name\":\"Term 3\",\"curriculum_items\":[{\"curriculum_requisites\":[],\"name\":\" \",\"metrics\":{\"complexity\":1.0,\"centrality\":0,\"blocking factor\":0,\"delay factor\":1.0},\"nameSub\":\"Social Science Elective\",\"id\":32,\"credits\":3,\"nameCanonical\":\"\"},{\"curriculum_requisites\":[{\"source_id\":5,\"target_id\":9,\"type\":\"CurriculumPrerequisite\"}],\"name\":\"MATH 1552\",\"metrics\":{\"complexity\":25.0,\"centrality\":111,\"blocking factor\":17,\"delay factor\":8.0},\"nameSub\":\"Integral Calculus\",\"id\":9,\"credits\":4,\"nameCanonical\":\"\"},{\"curriculum_requisites\":[],\"name\":\"ECE 3005\",\"metrics\":{\"complexity\":1.0,\"centrality\":0,\"blocking factor\":0,\"delay factor\":1.0},\"nameSub\":\"\",\"id\":28,\"credits\":1,\"nameCanonical\":\"\"},{\"curriculum_requisites\":[],\"name\":\"ECE 1100\",\"metrics\":{\"complexity\":1.0,\"centrality\":0,\"blocking factor\":0,\"delay factor\":1.0},\"nameSub\":\"ECE Discovery Studio\",\"id\":3,\"credits\":1,\"nameCanonical\":\"\"},{\"curriculum_requisites\":[],\"name\":\"CS 1301\",\"metrics\":{\"complexity\":16.0,\"centrality\":0,\"blocking factor\":10,\"delay factor\":6.0},\"nameSub\":\"Intro to Computing\",\"id\":2,\"credits\":3,\"nameCanonical\":\"\"},{\"curriculum_requisites\":[{\"source_id\":9,\"target_id\":10,\"type\":\"CurriculumCorequisite\"}],\"name\":\"PHYS  2211\",\"metrics\":{\"complexity\":20.0,\"centrality\":46,\"blocking factor\":12,\"delay factor\":8.0},\"nameSub\":\"Intro Physics 1\",\"id\":10,\"credits\":4,\"nameCanonical\":\"\"}],\"id\":3},{\"name\":\"Term 4\",\"curriculum_items\":[{\"curriculum_requisites\":[{\"source_id\":10,\"target_id\":16,\"type\":\"CurriculumPrerequisite\"}],\"name\":\"PHYS  2212\",\"metrics\":{\"complexity\":19.0,\"centrality\":46,\"blocking factor\":11,\"delay factor\":8.0},\"nameSub\":\"Intro. Physics 2\",\"id\":16,\"credits\":4,\"nameCanonical\":\"\"},{\"curriculum_requisites\":[{\"source_id\":9,\"target_id\":20,\"type\":\"CurriculumPrerequisite\"}],\"name\":\"MATH 2551\",\"metrics\":{\"complexity\":5.0,\"centrality\":4,\"blocking factor\":1,\"delay factor\":4.0},\"nameSub\":\"Multivariate Calculus\",\"id\":20,\"credits\":4,\"nameCanonical\":\"\"},{\"curriculum_requisites\":[{\"source_id\":2,\"target_id\":12,\"type\":\"CurriculumPrerequisite\"},{\"source_id\":9,\"target_id\":12,\"type\":\"CurriculumPrerequisite\"}],\"name\":\"ECE 2026\",\"metrics\":{\"complexity\":9.0,\"centrality\":11,\"blocking factor\":3,\"delay factor\":6.0},\"nameSub\":\"Intro. to Signal Processing\",\"id\":12,\"credits\":3,\"nameCanonical\":\"\"},{\"curriculum_requisites\":[{\"source_id\":2,\"target_id\":7,\"type\":\"CurriculumPrerequisite\"}],\"name\":\"ECE 2020\",\"metrics\":{\"complexity\":11.0,\"centrality\":41,\"blocking factor\":5,\"delay factor\":6.0},\"nameSub\":\"Fund. of Digital System Design\",\"id\":7,\"credits\":3,\"nameCanonical\":\"\"},{\"curriculum_requisites\":[{\"source_id\":6,\"target_id\":15,\"type\":\"CurriculumPrerequisite\"},{\"source_id\":9,\"target_id\":15,\"type\":\"CurriculumPrerequisite\"}],\"name\":\"MATH 2552\",\"metrics\":{\"complexity\":18.0,\"centrality\":110,\"blocking factor\":11,\"delay factor\":7.0},\"nameSub\":\"Differential Equations\",\"id\":15,\"credits\":4,\"nameCanonical\":\"\"}],\"id\":4},{\"name\":\"Term 5\",\"curriculum_items\":[{\"curriculum_requisites\":[{\"source_id\":16,\"target_id\":19,\"type\":\"CurriculumPrerequisite\"},{\"source_id\":15,\"target_id\":19,\"type\":\"CurriculumPrerequisite\"}],\"name\":\"ECE 2040\",\"metrics\":{\"complexity\":18.0,\"centrality\":124,\"blocking factor\":10,\"delay factor\":8.0},\"nameSub\":\"Circuit Analysis\",\"id\":19,\"credits\":3,\"nameCanonical\":\"\"},{\"curriculum_requisites\":[{\"source_id\":7,\"target_id\":17,\"type\":\"CurriculumPrerequisite\"},{\"source_id\":18,\"target_id\":17,\"type\":\"CurriculumCorequisite\"}],\"name\":\"ECE 2031\",\"metrics\":{\"complexity\":9.0,\"centrality\":31,\"blocking factor\":3,\"delay factor\":6.0},\"nameSub\":\"Digital Design Lab\",\"id\":17,\"credits\":2,\"nameCanonical\":\"\"},{\"curriculum_requisites\":[],\"name\":\"CHEM 1310\",\"metrics\":{\"complexity\":6.0,\"centrality\":0,\"blocking factor\":3,\"delay factor\":3.0},\"nameSub\":\"General Chemistry\",\"id\":1,\"credits\":4,\"nameCanonical\":\"\"},{\"curriculum_requisites\":[{\"source_id\":20,\"target_id\":25,\"type\":\"CurriculumPrerequisite\"}],\"name\":\" \",\"metrics\":{\"complexity\":4.0,\"centrality\":0,\"blocking factor\":0,\"delay factor\":4.0},\"nameSub\":\"Prob & Stat Elective\",\"id\":25,\"credits\":3,\"nameCanonical\":\"\"},{\"curriculum_requisites\":[{\"source_id\":7,\"target_id\":18,\"type\":\"CurriculumPrerequisite\"}],\"name\":\"ECE 2035\",\"metrics\":{\"complexity\":10.0,\"centrality\":27,\"blocking factor\":4,\"delay factor\":6.0},\"nameSub\":\"Programming Elective\",\"id\":18,\"credits\":4,\"nameCanonical\":\"\"}],\"id\":5},{\"name\":\"Term 6\",\"curriculum_items\":[{\"curriculum_requisites\":[{\"source_id\":15,\"target_id\":24,\"type\":\"CurriculumPrerequisite\"},{\"source_id\":12,\"target_id\":24,\"type\":\"CurriculumPrerequisite\"},{\"source_id\":19,\"target_id\":24,\"type\":\"CurriculumPrerequisite\"}],\"name\":\"ECE 3025\",\"metrics\":{\"complexity\":10.0,\"centrality\":45,\"blocking factor\":2,\"delay factor\":8.0},\"nameSub\":\"Electromagnetics\",\"id\":24,\"credits\":3,\"nameCanonical\":\"\"},{\"curriculum_requisites\":[{\"source_id\":19,\"target_id\":37,\"type\":\"CurriculumPrerequisite\"}],\"name\":\" \",\"metrics\":{\"complexity\":6.0,\"centrality\":0,\"blocking factor\":0,\"delay factor\":6.0},\"nameSub\":\"ECE 3000/4000 Elective\",\"id\":37,\"credits\":3,\"nameCanonical\":\"\"},{\"curriculum_requisites\":[{\"source_id\":22,\"target_id\":23,\"type\":\"CurriculumCorequisite\"},{\"source_id\":17,\"target_id\":23,\"type\":\"CurriculumPrerequisite\"}],\"name\":\"ECE 3043\",\"metrics\":{\"complexity\":7.0,\"centrality\":0,\"blocking factor\":0,\"delay factor\":7.0},\"nameSub\":\"Measurements, Circuits and Microelectronics Lab\",\"id\":23,\"credits\":2,\"nameCanonical\":\"\"},{\"curriculum_requisites\":[{\"source_id\":15,\"target_id\":22,\"type\":\"CurriculumPrerequisite\"},{\"source_id\":18,\"target_id\":22,\"type\":\"CurriculumPrerequisite\"},{\"source_id\":17,\"target_id\":22,\"type\":\"CurriculumPrerequisite\"},{\"source_id\":1,\"target_id\":22,\"type\":\"CurriculumPrerequisite\"},{\"source_id\":19,\"target_id\":22,\"type\":\"CurriculumPrerequisite\"}],\"name\":\"ECE 3040\",\"metrics\":{\"complexity\":9.0,\"centrality\":96,\"blocking factor\":2,\"delay factor\":7.0},\"nameSub\":\"Microelectronic Circuits\",\"id\":22,\"credits\":4,\"nameCanonical\":\"\"},{\"curriculum_requisites\":[{\"source_id\":19,\"target_id\":43,\"type\":\"CurriculumPrerequisite\"}],\"name\":\" \",\"metrics\":{\"complexity\":6.0,\"centrality\":0,\"blocking factor\":0,\"delay factor\":6.0},\"nameSub\":\"ECE 3000/4000 Elective\",\"id\":43,\"credits\":3,\"nameCanonical\":\"\"},{\"curriculum_requisites\":[{\"source_id\":19,\"target_id\":42,\"type\":\"CurriculumPrerequisite\"}],\"name\":\" \",\"metrics\":{\"complexity\":6.0,\"centrality\":0,\"blocking factor\":0,\"delay factor\":6.0},\"nameSub\":\"ECE 3000/4000 Elective\",\"id\":42,\"credits\":3,\"nameCanonical\":\"\"}],\"id\":6},{\"name\":\"Term 7\",\"curriculum_items\":[{\"curriculum_requisites\":[{\"source_id\":24,\"target_id\":35,\"type\":\"CurriculumPrerequisite\"}],\"name\":\" \",\"metrics\":{\"complexity\":9.0,\"centrality\":45,\"blocking factor\":1,\"delay factor\":8.0},\"nameSub\":\"Senior Design Sequence\",\"id\":35,\"credits\":1,\"nameCanonical\":\"\"},{\"curriculum_requisites\":[{\"source_id\":19,\"target_id\":45,\"type\":\"CurriculumPrerequisite\"}],\"name\":\" \",\"metrics\":{\"complexity\":6.0,\"centrality\":0,\"blocking factor\":0,\"delay factor\":6.0},\"nameSub\":\"Circuit Technologies Topics\",\"id\":45,\"credits\":3,\"nameCanonical\":\"\"},{\"curriculum_requisites\":[],\"name\":\" \",\"metrics\":{\"complexity\":1.0,\"centrality\":0,\"blocking factor\":0,\"delay factor\":1.0},\"nameSub\":\"Econ/Social Science Elective\",\"id\":13,\"credits\":3,\"nameCanonical\":\"\"},{\"curriculum_requisites\":[],\"name\":\" \",\"metrics\":{\"complexity\":1.0,\"centrality\":0,\"blocking factor\":0,\"delay factor\":1.0},\"nameSub\":\"History/Government Elective\",\"id\":11,\"credits\":3,\"nameCanonical\":\"\"},{\"curriculum_requisites\":[{\"source_id\":22,\"target_id\":36,\"type\":\"CurriculumPrerequisite\"}],\"name\":\" \",\"metrics\":{\"complexity\":7.0,\"centrality\":0,\"blocking factor\":0,\"delay factor\":7.0},\"nameSub\":\"Electronic Devices Topics\",\"id\":36,\"credits\":3,\"nameCanonical\":\"\"},{\"curriculum_requisites\":[],\"name\":\" \",\"metrics\":{\"complexity\":1.0,\"centrality\":0,\"blocking factor\":0,\"delay factor\":1.0},\"nameSub\":\"Elective Hours\",\"id\":39,\"credits\":2,\"nameCanonical\":\"\"}],\"id\":7},{\"name\":\"Term 8\",\"curriculum_items\":[{\"curriculum_requisites\":[],\"name\":\" \",\"metrics\":{\"complexity\":1.0,\"centrality\":0,\"blocking factor\":0,\"delay factor\":1.0},\"nameSub\":\"Elective Hours\",\"id\":29,\"credits\":3,\"nameCanonical\":\"\"},{\"curriculum_requisites\":[],\"name\":\" \",\"metrics\":{\"complexity\":1.0,\"centrality\":0,\"blocking factor\":0,\"delay factor\":1.0},\"nameSub\":\"Science Elective\",\"id\":21,\"credits\":3,\"nameCanonical\":\"\"},{\"curriculum_requisites\":[{\"source_id\":35,\"target_id\":41,\"type\":\"CurriculumPrerequisite\"}],\"name\":\" \",\"metrics\":{\"complexity\":8.0,\"centrality\":0,\"blocking factor\":0,\"delay factor\":8.0},\"nameSub\":\"Senior Design Sequence\",\"id\":41,\"credits\":2,\"nameCanonical\":\"\"},{\"curriculum_requisites\":[],\"name\":\" \",\"metrics\":{\"complexity\":1.0,\"centrality\":0,\"blocking factor\":0,\"delay factor\":1.0},\"nameSub\":\"Humanities Elective\",\"id\":14,\"credits\":3,\"nameCanonical\":\"\"},{\"curriculum_requisites\":[],\"name\":\" \",\"metrics\":{\"complexity\":1.0,\"centrality\":0,\"blocking factor\":0,\"delay factor\":1.0},\"nameSub\":\"Social Science Elective\",\"id\":40,\"credits\":3,\"nameCanonical\":\"\"},{\"curriculum_requisites\":[],\"name\":\" \",\"metrics\":{\"complexity\":1.0,\"centrality\":0,\"blocking factor\":0,\"delay factor\":1.0},\"nameSub\":\"Humanities Elective\",\"id\":27,\"credits\":3,\"nameCanonical\":\"\"}],\"id\":8}],\"institution\":\"Georgia Institute of Technology\"}},\"*\"); window.removeEventListener(\"message\",window.messageReceived); window.messageReceived=(function (event){return (event.data.curriculum!==undefined) ? (WebIO.setval({\"name\":\"curriculum-data\",\"scope\":\"7846831319619930049\",\"id\":\"17612623394043831427\",\"type\":\"observable\"},event.data.curriculum)) : undefined}); return window.addEventListener(\"message\",window.messageReceived)})"
          },
          "id": "curriculum",
          "src": "https://curricula-api-embed.damoursystems.com/",
          "style": {
           "border": "none",
           "height": "100vh",
           "margin": "0",
           "padding": "0",
           "width": "100%"
          }
         },
         "type": "node"
        }
       ],
       "instanceArgs": {
        "handlers": {},
        "id": "7846831319619930049",
        "imports": {
         "data": [],
         "type": "async_block"
        },
        "mount_callbacks": [],
        "observables": {
         "curriculum-data": {
          "id": "17612623394043831427",
          "sync": true,
          "value": {
           "curriculum": {
            "curriculum_terms": [
             {
              "curriculum_items": [
               {
                "credits": 3,
                "curriculum_requisites": [],
                "id": 30,
                "metrics": {
                 "blocking factor": 0,
                 "centrality": 0,
                 "complexity": 1,
                 "delay factor": 1
                },
                "name": "ECE 3450",
                "nameCanonical": "",
                "nameSub": ""
               },
               {
                "credits": 3,
                "curriculum_requisites": [],
                "id": 44,
                "metrics": {
                 "blocking factor": 0,
                 "centrality": 0,
                 "complexity": 1,
                 "delay factor": 1
                },
                "name": " ",
                "nameCanonical": "",
                "nameSub": "Elective Hours"
               },
               {
                "credits": 3,
                "curriculum_requisites": [],
                "id": 31,
                "metrics": {
                 "blocking factor": 0,
                 "centrality": 0,
                 "complexity": 1,
                 "delay factor": 1
                },
                "name": "ECE 3400",
                "nameCanonical": "",
                "nameSub": ""
               },
               {
                "credits": 3,
                "curriculum_requisites": [],
                "id": 4,
                "metrics": {
                 "blocking factor": 1,
                 "centrality": 0,
                 "complexity": 3,
                 "delay factor": 2
                },
                "name": "ENGL 1101",
                "nameCanonical": "",
                "nameSub": "English Composition I"
               },
               {
                "credits": 3,
                "curriculum_requisites": [],
                "id": 33,
                "metrics": {
                 "blocking factor": 0,
                 "centrality": 0,
                 "complexity": 1,
                 "delay factor": 1
                },
                "name": " ",
                "nameCanonical": "",
                "nameSub": "Elective Hours"
               },
               {
                "credits": 2,
                "curriculum_requisites": [],
                "id": 26,
                "metrics": {
                 "blocking factor": 0,
                 "centrality": 0,
                 "complexity": 1,
                 "delay factor": 1
                },
                "name": "APPH 1040",
                "nameCanonical": "",
                "nameSub": ""
               }
              ],
              "id": 1,
              "name": "Term 1"
             },
             {
              "curriculum_items": [
               {
                "credits": 2,
                "curriculum_requisites": [],
                "id": 5,
                "metrics": {
                 "blocking factor": 19,
                 "centrality": 0,
                 "complexity": 27,
                 "delay factor": 8
                },
                "name": "MATH 1551",
                "nameCanonical": "",
                "nameSub": "Differential Calculus"
               },
               {
                "credits": 4,
                "curriculum_requisites": [
                 {
                  "source_id": 5,
                  "target_id": 6,
                  "type": "CurriculumCorequisite"
                 }
                ],
                "id": 6,
                "metrics": {
                 "blocking factor": 12,
                 "centrality": 55,
                 "complexity": 19,
                 "delay factor": 7
                },
                "name": "MATH 1554",
                "nameCanonical": "",
                "nameSub": "Linear Algebra"
               },
               {
                "credits": 3,
                "curriculum_requisites": [],
                "id": 38,
                "metrics": {
                 "blocking factor": 0,
                 "centrality": 0,
                 "complexity": 1,
                 "delay factor": 1
                },
                "name": "ECE 4452",
                "nameCanonical": "",
                "nameSub": ""
               },
               {
                "credits": 3,
                "curriculum_requisites": [
                 {
                  "source_id": 4,
                  "target_id": 8,
                  "type": "CurriculumPrerequisite"
                 }
                ],
                "id": 8,
                "metrics": {
                 "blocking factor": 0,
                 "centrality": 0,
                 "complexity": 2,
                 "delay factor": 2
                },
                "name": "ENGL 1102",
                "nameCanonical": "",
                "nameSub": "English Composition II"
               }
              ],
              "id": 2,
              "name": "Term 2"
             },
             {
              "curriculum_items": [
               {
                "credits": 3,
                "curriculum_requisites": [],
                "id": 32,
                "metrics": {
                 "blocking factor": 0,
                 "centrality": 0,
                 "complexity": 1,
                 "delay factor": 1
                },
                "name": " ",
                "nameCanonical": "",
                "nameSub": "Social Science Elective"
               },
               {
                "credits": 4,
                "curriculum_requisites": [
                 {
                  "source_id": 5,
                  "target_id": 9,
                  "type": "CurriculumPrerequisite"
                 }
                ],
                "id": 9,
                "metrics": {
                 "blocking factor": 17,
                 "centrality": 111,
                 "complexity": 25,
                 "delay factor": 8
                },
                "name": "MATH 1552",
                "nameCanonical": "",
                "nameSub": "Integral Calculus"
               },
               {
                "credits": 1,
                "curriculum_requisites": [],
                "id": 28,
                "metrics": {
                 "blocking factor": 0,
                 "centrality": 0,
                 "complexity": 1,
                 "delay factor": 1
                },
                "name": "ECE 3005",
                "nameCanonical": "",
                "nameSub": ""
               },
               {
                "credits": 1,
                "curriculum_requisites": [],
                "id": 3,
                "metrics": {
                 "blocking factor": 0,
                 "centrality": 0,
                 "complexity": 1,
                 "delay factor": 1
                },
                "name": "ECE 1100",
                "nameCanonical": "",
                "nameSub": "ECE Discovery Studio"
               },
               {
                "credits": 3,
                "curriculum_requisites": [],
                "id": 2,
                "metrics": {
                 "blocking factor": 10,
                 "centrality": 0,
                 "complexity": 16,
                 "delay factor": 6
                },
                "name": "CS 1301",
                "nameCanonical": "",
                "nameSub": "Intro to Computing"
               },
               {
                "credits": 4,
                "curriculum_requisites": [
                 {
                  "source_id": 9,
                  "target_id": 10,
                  "type": "CurriculumCorequisite"
                 }
                ],
                "id": 10,
                "metrics": {
                 "blocking factor": 12,
                 "centrality": 46,
                 "complexity": 20,
                 "delay factor": 8
                },
                "name": "PHYS  2211",
                "nameCanonical": "",
                "nameSub": "Intro Physics 1"
               }
              ],
              "id": 3,
              "name": "Term 3"
             },
             {
              "curriculum_items": [
               {
                "credits": 4,
                "curriculum_requisites": [
                 {
                  "source_id": 10,
                  "target_id": 16,
                  "type": "CurriculumPrerequisite"
                 }
                ],
                "id": 16,
                "metrics": {
                 "blocking factor": 11,
                 "centrality": 46,
                 "complexity": 19,
                 "delay factor": 8
                },
                "name": "PHYS  2212",
                "nameCanonical": "",
                "nameSub": "Intro. Physics 2"
               },
               {
                "credits": 4,
                "curriculum_requisites": [
                 {
                  "source_id": 9,
                  "target_id": 20,
                  "type": "CurriculumPrerequisite"
                 }
                ],
                "id": 20,
                "metrics": {
                 "blocking factor": 1,
                 "centrality": 4,
                 "complexity": 5,
                 "delay factor": 4
                },
                "name": "MATH 2551",
                "nameCanonical": "",
                "nameSub": "Multivariate Calculus"
               },
               {
                "credits": 3,
                "curriculum_requisites": [
                 {
                  "source_id": 2,
                  "target_id": 12,
                  "type": "CurriculumPrerequisite"
                 },
                 {
                  "source_id": 9,
                  "target_id": 12,
                  "type": "CurriculumPrerequisite"
                 }
                ],
                "id": 12,
                "metrics": {
                 "blocking factor": 3,
                 "centrality": 11,
                 "complexity": 9,
                 "delay factor": 6
                },
                "name": "ECE 2026",
                "nameCanonical": "",
                "nameSub": "Intro. to Signal Processing"
               },
               {
                "credits": 3,
                "curriculum_requisites": [
                 {
                  "source_id": 2,
                  "target_id": 7,
                  "type": "CurriculumPrerequisite"
                 }
                ],
                "id": 7,
                "metrics": {
                 "blocking factor": 5,
                 "centrality": 41,
                 "complexity": 11,
                 "delay factor": 6
                },
                "name": "ECE 2020",
                "nameCanonical": "",
                "nameSub": "Fund. of Digital System Design"
               },
               {
                "credits": 4,
                "curriculum_requisites": [
                 {
                  "source_id": 6,
                  "target_id": 15,
                  "type": "CurriculumPrerequisite"
                 },
                 {
                  "source_id": 9,
                  "target_id": 15,
                  "type": "CurriculumPrerequisite"
                 }
                ],
                "id": 15,
                "metrics": {
                 "blocking factor": 11,
                 "centrality": 110,
                 "complexity": 18,
                 "delay factor": 7
                },
                "name": "MATH 2552",
                "nameCanonical": "",
                "nameSub": "Differential Equations"
               }
              ],
              "id": 4,
              "name": "Term 4"
             },
             {
              "curriculum_items": [
               {
                "credits": 3,
                "curriculum_requisites": [
                 {
                  "source_id": 16,
                  "target_id": 19,
                  "type": "CurriculumPrerequisite"
                 },
                 {
                  "source_id": 15,
                  "target_id": 19,
                  "type": "CurriculumPrerequisite"
                 }
                ],
                "id": 19,
                "metrics": {
                 "blocking factor": 10,
                 "centrality": 124,
                 "complexity": 18,
                 "delay factor": 8
                },
                "name": "ECE 2040",
                "nameCanonical": "",
                "nameSub": "Circuit Analysis"
               },
               {
                "credits": 2,
                "curriculum_requisites": [
                 {
                  "source_id": 7,
                  "target_id": 17,
                  "type": "CurriculumPrerequisite"
                 },
                 {
                  "source_id": 18,
                  "target_id": 17,
                  "type": "CurriculumCorequisite"
                 }
                ],
                "id": 17,
                "metrics": {
                 "blocking factor": 3,
                 "centrality": 31,
                 "complexity": 9,
                 "delay factor": 6
                },
                "name": "ECE 2031",
                "nameCanonical": "",
                "nameSub": "Digital Design Lab"
               },
               {
                "credits": 4,
                "curriculum_requisites": [],
                "id": 1,
                "metrics": {
                 "blocking factor": 3,
                 "centrality": 0,
                 "complexity": 6,
                 "delay factor": 3
                },
                "name": "CHEM 1310",
                "nameCanonical": "",
                "nameSub": "General Chemistry"
               },
               {
                "credits": 3,
                "curriculum_requisites": [
                 {
                  "source_id": 20,
                  "target_id": 25,
                  "type": "CurriculumPrerequisite"
                 }
                ],
                "id": 25,
                "metrics": {
                 "blocking factor": 0,
                 "centrality": 0,
                 "complexity": 4,
                 "delay factor": 4
                },
                "name": " ",
                "nameCanonical": "",
                "nameSub": "Prob & Stat Elective"
               },
               {
                "credits": 4,
                "curriculum_requisites": [
                 {
                  "source_id": 7,
                  "target_id": 18,
                  "type": "CurriculumPrerequisite"
                 }
                ],
                "id": 18,
                "metrics": {
                 "blocking factor": 4,
                 "centrality": 27,
                 "complexity": 10,
                 "delay factor": 6
                },
                "name": "ECE 2035",
                "nameCanonical": "",
                "nameSub": "Programming Elective"
               }
              ],
              "id": 5,
              "name": "Term 5"
             },
             {
              "curriculum_items": [
               {
                "credits": 3,
                "curriculum_requisites": [
                 {
                  "source_id": 15,
                  "target_id": 24,
                  "type": "CurriculumPrerequisite"
                 },
                 {
                  "source_id": 12,
                  "target_id": 24,
                  "type": "CurriculumPrerequisite"
                 },
                 {
                  "source_id": 19,
                  "target_id": 24,
                  "type": "CurriculumPrerequisite"
                 }
                ],
                "id": 24,
                "metrics": {
                 "blocking factor": 2,
                 "centrality": 45,
                 "complexity": 10,
                 "delay factor": 8
                },
                "name": "ECE 3025",
                "nameCanonical": "",
                "nameSub": "Electromagnetics"
               },
               {
                "credits": 3,
                "curriculum_requisites": [
                 {
                  "source_id": 19,
                  "target_id": 37,
                  "type": "CurriculumPrerequisite"
                 }
                ],
                "id": 37,
                "metrics": {
                 "blocking factor": 0,
                 "centrality": 0,
                 "complexity": 6,
                 "delay factor": 6
                },
                "name": " ",
                "nameCanonical": "",
                "nameSub": "ECE 3000/4000 Elective"
               },
               {
                "credits": 2,
                "curriculum_requisites": [
                 {
                  "source_id": 22,
                  "target_id": 23,
                  "type": "CurriculumCorequisite"
                 },
                 {
                  "source_id": 17,
                  "target_id": 23,
                  "type": "CurriculumPrerequisite"
                 }
                ],
                "id": 23,
                "metrics": {
                 "blocking factor": 0,
                 "centrality": 0,
                 "complexity": 7,
                 "delay factor": 7
                },
                "name": "ECE 3043",
                "nameCanonical": "",
                "nameSub": "Measurements, Circuits and Microelectronics Lab"
               },
               {
                "credits": 4,
                "curriculum_requisites": [
                 {
                  "source_id": 15,
                  "target_id": 22,
                  "type": "CurriculumPrerequisite"
                 },
                 {
                  "source_id": 18,
                  "target_id": 22,
                  "type": "CurriculumPrerequisite"
                 },
                 {
                  "source_id": 17,
                  "target_id": 22,
                  "type": "CurriculumPrerequisite"
                 },
                 {
                  "source_id": 1,
                  "target_id": 22,
                  "type": "CurriculumPrerequisite"
                 },
                 {
                  "source_id": 19,
                  "target_id": 22,
                  "type": "CurriculumPrerequisite"
                 }
                ],
                "id": 22,
                "metrics": {
                 "blocking factor": 2,
                 "centrality": 96,
                 "complexity": 9,
                 "delay factor": 7
                },
                "name": "ECE 3040",
                "nameCanonical": "",
                "nameSub": "Microelectronic Circuits"
               },
               {
                "credits": 3,
                "curriculum_requisites": [
                 {
                  "source_id": 19,
                  "target_id": 43,
                  "type": "CurriculumPrerequisite"
                 }
                ],
                "id": 43,
                "metrics": {
                 "blocking factor": 0,
                 "centrality": 0,
                 "complexity": 6,
                 "delay factor": 6
                },
                "name": " ",
                "nameCanonical": "",
                "nameSub": "ECE 3000/4000 Elective"
               },
               {
                "credits": 3,
                "curriculum_requisites": [
                 {
                  "source_id": 19,
                  "target_id": 42,
                  "type": "CurriculumPrerequisite"
                 }
                ],
                "id": 42,
                "metrics": {
                 "blocking factor": 0,
                 "centrality": 0,
                 "complexity": 6,
                 "delay factor": 6
                },
                "name": " ",
                "nameCanonical": "",
                "nameSub": "ECE 3000/4000 Elective"
               }
              ],
              "id": 6,
              "name": "Term 6"
             },
             {
              "curriculum_items": [
               {
                "credits": 1,
                "curriculum_requisites": [
                 {
                  "source_id": 24,
                  "target_id": 35,
                  "type": "CurriculumPrerequisite"
                 }
                ],
                "id": 35,
                "metrics": {
                 "blocking factor": 1,
                 "centrality": 45,
                 "complexity": 9,
                 "delay factor": 8
                },
                "name": " ",
                "nameCanonical": "",
                "nameSub": "Senior Design Sequence"
               },
               {
                "credits": 3,
                "curriculum_requisites": [
                 {
                  "source_id": 19,
                  "target_id": 45,
                  "type": "CurriculumPrerequisite"
                 }
                ],
                "id": 45,
                "metrics": {
                 "blocking factor": 0,
                 "centrality": 0,
                 "complexity": 6,
                 "delay factor": 6
                },
                "name": " ",
                "nameCanonical": "",
                "nameSub": "Circuit Technologies Topics"
               },
               {
                "credits": 3,
                "curriculum_requisites": [],
                "id": 13,
                "metrics": {
                 "blocking factor": 0,
                 "centrality": 0,
                 "complexity": 1,
                 "delay factor": 1
                },
                "name": " ",
                "nameCanonical": "",
                "nameSub": "Econ/Social Science Elective"
               },
               {
                "credits": 3,
                "curriculum_requisites": [],
                "id": 11,
                "metrics": {
                 "blocking factor": 0,
                 "centrality": 0,
                 "complexity": 1,
                 "delay factor": 1
                },
                "name": " ",
                "nameCanonical": "",
                "nameSub": "History/Government Elective"
               },
               {
                "credits": 3,
                "curriculum_requisites": [
                 {
                  "source_id": 22,
                  "target_id": 36,
                  "type": "CurriculumPrerequisite"
                 }
                ],
                "id": 36,
                "metrics": {
                 "blocking factor": 0,
                 "centrality": 0,
                 "complexity": 7,
                 "delay factor": 7
                },
                "name": " ",
                "nameCanonical": "",
                "nameSub": "Electronic Devices Topics"
               },
               {
                "credits": 2,
                "curriculum_requisites": [],
                "id": 39,
                "metrics": {
                 "blocking factor": 0,
                 "centrality": 0,
                 "complexity": 1,
                 "delay factor": 1
                },
                "name": " ",
                "nameCanonical": "",
                "nameSub": "Elective Hours"
               }
              ],
              "id": 7,
              "name": "Term 7"
             },
             {
              "curriculum_items": [
               {
                "credits": 3,
                "curriculum_requisites": [],
                "id": 29,
                "metrics": {
                 "blocking factor": 0,
                 "centrality": 0,
                 "complexity": 1,
                 "delay factor": 1
                },
                "name": " ",
                "nameCanonical": "",
                "nameSub": "Elective Hours"
               },
               {
                "credits": 3,
                "curriculum_requisites": [],
                "id": 21,
                "metrics": {
                 "blocking factor": 0,
                 "centrality": 0,
                 "complexity": 1,
                 "delay factor": 1
                },
                "name": " ",
                "nameCanonical": "",
                "nameSub": "Science Elective"
               },
               {
                "credits": 2,
                "curriculum_requisites": [
                 {
                  "source_id": 35,
                  "target_id": 41,
                  "type": "CurriculumPrerequisite"
                 }
                ],
                "id": 41,
                "metrics": {
                 "blocking factor": 0,
                 "centrality": 0,
                 "complexity": 8,
                 "delay factor": 8
                },
                "name": " ",
                "nameCanonical": "",
                "nameSub": "Senior Design Sequence"
               },
               {
                "credits": 3,
                "curriculum_requisites": [],
                "id": 14,
                "metrics": {
                 "blocking factor": 0,
                 "centrality": 0,
                 "complexity": 1,
                 "delay factor": 1
                },
                "name": " ",
                "nameCanonical": "",
                "nameSub": "Humanities Elective"
               },
               {
                "credits": 3,
                "curriculum_requisites": [],
                "id": 40,
                "metrics": {
                 "blocking factor": 0,
                 "centrality": 0,
                 "complexity": 1,
                 "delay factor": 1
                },
                "name": " ",
                "nameCanonical": "",
                "nameSub": "Social Science Elective"
               },
               {
                "credits": 3,
                "curriculum_requisites": [],
                "id": 27,
                "metrics": {
                 "blocking factor": 0,
                 "centrality": 0,
                 "complexity": 1,
                 "delay factor": 1
                },
                "name": " ",
                "nameCanonical": "",
                "nameSub": "Humanities Elective"
               }
              ],
              "id": 8,
              "name": "Term 8"
             }
            ],
            "dp_name": "",
            "institution": "Georgia Institute of Technology",
            "name": "Electrical Engineering - Electronic Devices and Circuit Technology"
           },
           "options": {
            "edit": false,
            "hideTerms": false
           }
          }
         }
        },
        "systemjs_options": null
       },
       "nodeType": "Scope",
       "props": {},
       "type": "node"
      },
      "text/html": [
       "<div\n",
       "    class=\"webio-mountpoint\"\n",
       "    data-webio-mountpoint=\"17955888318860044927\"\n",
       ">\n",
       "    <script>\n",
       "    if (window.require && require.defined && require.defined(\"nbextensions/webio-jupyter-notebook\")) {\n",
       "        console.log(\"Jupyter WebIO extension detected, not mounting.\");\n",
       "    } else if (window.WebIO) {\n",
       "        WebIO.mount(\n",
       "            document.querySelector('[data-webio-mountpoint=\"17955888318860044927\"]'),\n",
       "            {\"props\":{},\"nodeType\":\"Scope\",\"type\":\"node\",\"instanceArgs\":{\"imports\":{\"data\":[],\"type\":\"async_block\"},\"id\":\"7846831319619930049\",\"handlers\":{},\"systemjs_options\":null,\"mount_callbacks\":[],\"observables\":{\"curriculum-data\":{\"sync\":true,\"id\":\"17612623394043831427\",\"value\":{\"options\":{\"hideTerms\":false,\"edit\":false},\"curriculum\":{\"name\":\"Electrical Engineering - Electronic Devices and Circuit Technology\",\"dp_name\":\"\",\"curriculum_terms\":[{\"name\":\"Term 1\",\"curriculum_items\":[{\"curriculum_requisites\":[],\"name\":\"ECE 3450\",\"metrics\":{\"complexity\":1.0,\"centrality\":0,\"blocking factor\":0,\"delay factor\":1.0},\"nameSub\":\"\",\"id\":30,\"credits\":3,\"nameCanonical\":\"\"},{\"curriculum_requisites\":[],\"name\":\" \",\"metrics\":{\"complexity\":1.0,\"centrality\":0,\"blocking factor\":0,\"delay factor\":1.0},\"nameSub\":\"Elective Hours\",\"id\":44,\"credits\":3,\"nameCanonical\":\"\"},{\"curriculum_requisites\":[],\"name\":\"ECE 3400\",\"metrics\":{\"complexity\":1.0,\"centrality\":0,\"blocking factor\":0,\"delay factor\":1.0},\"nameSub\":\"\",\"id\":31,\"credits\":3,\"nameCanonical\":\"\"},{\"curriculum_requisites\":[],\"name\":\"ENGL 1101\",\"metrics\":{\"complexity\":3.0,\"centrality\":0,\"blocking factor\":1,\"delay factor\":2.0},\"nameSub\":\"English Composition I\",\"id\":4,\"credits\":3,\"nameCanonical\":\"\"},{\"curriculum_requisites\":[],\"name\":\" \",\"metrics\":{\"complexity\":1.0,\"centrality\":0,\"blocking factor\":0,\"delay factor\":1.0},\"nameSub\":\"Elective Hours\",\"id\":33,\"credits\":3,\"nameCanonical\":\"\"},{\"curriculum_requisites\":[],\"name\":\"APPH 1040\",\"metrics\":{\"complexity\":1.0,\"centrality\":0,\"blocking factor\":0,\"delay factor\":1.0},\"nameSub\":\"\",\"id\":26,\"credits\":2,\"nameCanonical\":\"\"}],\"id\":1},{\"name\":\"Term 2\",\"curriculum_items\":[{\"curriculum_requisites\":[],\"name\":\"MATH 1551\",\"metrics\":{\"complexity\":27.0,\"centrality\":0,\"blocking factor\":19,\"delay factor\":8.0},\"nameSub\":\"Differential Calculus\",\"id\":5,\"credits\":2,\"nameCanonical\":\"\"},{\"curriculum_requisites\":[{\"source_id\":5,\"target_id\":6,\"type\":\"CurriculumCorequisite\"}],\"name\":\"MATH 1554\",\"metrics\":{\"complexity\":19.0,\"centrality\":55,\"blocking factor\":12,\"delay factor\":7.0},\"nameSub\":\"Linear Algebra\",\"id\":6,\"credits\":4,\"nameCanonical\":\"\"},{\"curriculum_requisites\":[],\"name\":\"ECE 4452\",\"metrics\":{\"complexity\":1.0,\"centrality\":0,\"blocking factor\":0,\"delay factor\":1.0},\"nameSub\":\"\",\"id\":38,\"credits\":3,\"nameCanonical\":\"\"},{\"curriculum_requisites\":[{\"source_id\":4,\"target_id\":8,\"type\":\"CurriculumPrerequisite\"}],\"name\":\"ENGL 1102\",\"metrics\":{\"complexity\":2.0,\"centrality\":0,\"blocking factor\":0,\"delay factor\":2.0},\"nameSub\":\"English Composition II\",\"id\":8,\"credits\":3,\"nameCanonical\":\"\"}],\"id\":2},{\"name\":\"Term 3\",\"curriculum_items\":[{\"curriculum_requisites\":[],\"name\":\" \",\"metrics\":{\"complexity\":1.0,\"centrality\":0,\"blocking factor\":0,\"delay factor\":1.0},\"nameSub\":\"Social Science Elective\",\"id\":32,\"credits\":3,\"nameCanonical\":\"\"},{\"curriculum_requisites\":[{\"source_id\":5,\"target_id\":9,\"type\":\"CurriculumPrerequisite\"}],\"name\":\"MATH 1552\",\"metrics\":{\"complexity\":25.0,\"centrality\":111,\"blocking factor\":17,\"delay factor\":8.0},\"nameSub\":\"Integral Calculus\",\"id\":9,\"credits\":4,\"nameCanonical\":\"\"},{\"curriculum_requisites\":[],\"name\":\"ECE 3005\",\"metrics\":{\"complexity\":1.0,\"centrality\":0,\"blocking factor\":0,\"delay factor\":1.0},\"nameSub\":\"\",\"id\":28,\"credits\":1,\"nameCanonical\":\"\"},{\"curriculum_requisites\":[],\"name\":\"ECE 1100\",\"metrics\":{\"complexity\":1.0,\"centrality\":0,\"blocking factor\":0,\"delay factor\":1.0},\"nameSub\":\"ECE Discovery Studio\",\"id\":3,\"credits\":1,\"nameCanonical\":\"\"},{\"curriculum_requisites\":[],\"name\":\"CS 1301\",\"metrics\":{\"complexity\":16.0,\"centrality\":0,\"blocking factor\":10,\"delay factor\":6.0},\"nameSub\":\"Intro to Computing\",\"id\":2,\"credits\":3,\"nameCanonical\":\"\"},{\"curriculum_requisites\":[{\"source_id\":9,\"target_id\":10,\"type\":\"CurriculumCorequisite\"}],\"name\":\"PHYS  2211\",\"metrics\":{\"complexity\":20.0,\"centrality\":46,\"blocking factor\":12,\"delay factor\":8.0},\"nameSub\":\"Intro Physics 1\",\"id\":10,\"credits\":4,\"nameCanonical\":\"\"}],\"id\":3},{\"name\":\"Term 4\",\"curriculum_items\":[{\"curriculum_requisites\":[{\"source_id\":10,\"target_id\":16,\"type\":\"CurriculumPrerequisite\"}],\"name\":\"PHYS  2212\",\"metrics\":{\"complexity\":19.0,\"centrality\":46,\"blocking factor\":11,\"delay factor\":8.0},\"nameSub\":\"Intro. Physics 2\",\"id\":16,\"credits\":4,\"nameCanonical\":\"\"},{\"curriculum_requisites\":[{\"source_id\":9,\"target_id\":20,\"type\":\"CurriculumPrerequisite\"}],\"name\":\"MATH 2551\",\"metrics\":{\"complexity\":5.0,\"centrality\":4,\"blocking factor\":1,\"delay factor\":4.0},\"nameSub\":\"Multivariate Calculus\",\"id\":20,\"credits\":4,\"nameCanonical\":\"\"},{\"curriculum_requisites\":[{\"source_id\":2,\"target_id\":12,\"type\":\"CurriculumPrerequisite\"},{\"source_id\":9,\"target_id\":12,\"type\":\"CurriculumPrerequisite\"}],\"name\":\"ECE 2026\",\"metrics\":{\"complexity\":9.0,\"centrality\":11,\"blocking factor\":3,\"delay factor\":6.0},\"nameSub\":\"Intro. to Signal Processing\",\"id\":12,\"credits\":3,\"nameCanonical\":\"\"},{\"curriculum_requisites\":[{\"source_id\":2,\"target_id\":7,\"type\":\"CurriculumPrerequisite\"}],\"name\":\"ECE 2020\",\"metrics\":{\"complexity\":11.0,\"centrality\":41,\"blocking factor\":5,\"delay factor\":6.0},\"nameSub\":\"Fund. of Digital System Design\",\"id\":7,\"credits\":3,\"nameCanonical\":\"\"},{\"curriculum_requisites\":[{\"source_id\":6,\"target_id\":15,\"type\":\"CurriculumPrerequisite\"},{\"source_id\":9,\"target_id\":15,\"type\":\"CurriculumPrerequisite\"}],\"name\":\"MATH 2552\",\"metrics\":{\"complexity\":18.0,\"centrality\":110,\"blocking factor\":11,\"delay factor\":7.0},\"nameSub\":\"Differential Equations\",\"id\":15,\"credits\":4,\"nameCanonical\":\"\"}],\"id\":4},{\"name\":\"Term 5\",\"curriculum_items\":[{\"curriculum_requisites\":[{\"source_id\":16,\"target_id\":19,\"type\":\"CurriculumPrerequisite\"},{\"source_id\":15,\"target_id\":19,\"type\":\"CurriculumPrerequisite\"}],\"name\":\"ECE 2040\",\"metrics\":{\"complexity\":18.0,\"centrality\":124,\"blocking factor\":10,\"delay factor\":8.0},\"nameSub\":\"Circuit Analysis\",\"id\":19,\"credits\":3,\"nameCanonical\":\"\"},{\"curriculum_requisites\":[{\"source_id\":7,\"target_id\":17,\"type\":\"CurriculumPrerequisite\"},{\"source_id\":18,\"target_id\":17,\"type\":\"CurriculumCorequisite\"}],\"name\":\"ECE 2031\",\"metrics\":{\"complexity\":9.0,\"centrality\":31,\"blocking factor\":3,\"delay factor\":6.0},\"nameSub\":\"Digital Design Lab\",\"id\":17,\"credits\":2,\"nameCanonical\":\"\"},{\"curriculum_requisites\":[],\"name\":\"CHEM 1310\",\"metrics\":{\"complexity\":6.0,\"centrality\":0,\"blocking factor\":3,\"delay factor\":3.0},\"nameSub\":\"General Chemistry\",\"id\":1,\"credits\":4,\"nameCanonical\":\"\"},{\"curriculum_requisites\":[{\"source_id\":20,\"target_id\":25,\"type\":\"CurriculumPrerequisite\"}],\"name\":\" \",\"metrics\":{\"complexity\":4.0,\"centrality\":0,\"blocking factor\":0,\"delay factor\":4.0},\"nameSub\":\"Prob & Stat Elective\",\"id\":25,\"credits\":3,\"nameCanonical\":\"\"},{\"curriculum_requisites\":[{\"source_id\":7,\"target_id\":18,\"type\":\"CurriculumPrerequisite\"}],\"name\":\"ECE 2035\",\"metrics\":{\"complexity\":10.0,\"centrality\":27,\"blocking factor\":4,\"delay factor\":6.0},\"nameSub\":\"Programming Elective\",\"id\":18,\"credits\":4,\"nameCanonical\":\"\"}],\"id\":5},{\"name\":\"Term 6\",\"curriculum_items\":[{\"curriculum_requisites\":[{\"source_id\":15,\"target_id\":24,\"type\":\"CurriculumPrerequisite\"},{\"source_id\":12,\"target_id\":24,\"type\":\"CurriculumPrerequisite\"},{\"source_id\":19,\"target_id\":24,\"type\":\"CurriculumPrerequisite\"}],\"name\":\"ECE 3025\",\"metrics\":{\"complexity\":10.0,\"centrality\":45,\"blocking factor\":2,\"delay factor\":8.0},\"nameSub\":\"Electromagnetics\",\"id\":24,\"credits\":3,\"nameCanonical\":\"\"},{\"curriculum_requisites\":[{\"source_id\":19,\"target_id\":37,\"type\":\"CurriculumPrerequisite\"}],\"name\":\" \",\"metrics\":{\"complexity\":6.0,\"centrality\":0,\"blocking factor\":0,\"delay factor\":6.0},\"nameSub\":\"ECE 3000\\/4000 Elective\",\"id\":37,\"credits\":3,\"nameCanonical\":\"\"},{\"curriculum_requisites\":[{\"source_id\":22,\"target_id\":23,\"type\":\"CurriculumCorequisite\"},{\"source_id\":17,\"target_id\":23,\"type\":\"CurriculumPrerequisite\"}],\"name\":\"ECE 3043\",\"metrics\":{\"complexity\":7.0,\"centrality\":0,\"blocking factor\":0,\"delay factor\":7.0},\"nameSub\":\"Measurements, Circuits and Microelectronics Lab\",\"id\":23,\"credits\":2,\"nameCanonical\":\"\"},{\"curriculum_requisites\":[{\"source_id\":15,\"target_id\":22,\"type\":\"CurriculumPrerequisite\"},{\"source_id\":18,\"target_id\":22,\"type\":\"CurriculumPrerequisite\"},{\"source_id\":17,\"target_id\":22,\"type\":\"CurriculumPrerequisite\"},{\"source_id\":1,\"target_id\":22,\"type\":\"CurriculumPrerequisite\"},{\"source_id\":19,\"target_id\":22,\"type\":\"CurriculumPrerequisite\"}],\"name\":\"ECE 3040\",\"metrics\":{\"complexity\":9.0,\"centrality\":96,\"blocking factor\":2,\"delay factor\":7.0},\"nameSub\":\"Microelectronic Circuits\",\"id\":22,\"credits\":4,\"nameCanonical\":\"\"},{\"curriculum_requisites\":[{\"source_id\":19,\"target_id\":43,\"type\":\"CurriculumPrerequisite\"}],\"name\":\" \",\"metrics\":{\"complexity\":6.0,\"centrality\":0,\"blocking factor\":0,\"delay factor\":6.0},\"nameSub\":\"ECE 3000\\/4000 Elective\",\"id\":43,\"credits\":3,\"nameCanonical\":\"\"},{\"curriculum_requisites\":[{\"source_id\":19,\"target_id\":42,\"type\":\"CurriculumPrerequisite\"}],\"name\":\" \",\"metrics\":{\"complexity\":6.0,\"centrality\":0,\"blocking factor\":0,\"delay factor\":6.0},\"nameSub\":\"ECE 3000\\/4000 Elective\",\"id\":42,\"credits\":3,\"nameCanonical\":\"\"}],\"id\":6},{\"name\":\"Term 7\",\"curriculum_items\":[{\"curriculum_requisites\":[{\"source_id\":24,\"target_id\":35,\"type\":\"CurriculumPrerequisite\"}],\"name\":\" \",\"metrics\":{\"complexity\":9.0,\"centrality\":45,\"blocking factor\":1,\"delay factor\":8.0},\"nameSub\":\"Senior Design Sequence\",\"id\":35,\"credits\":1,\"nameCanonical\":\"\"},{\"curriculum_requisites\":[{\"source_id\":19,\"target_id\":45,\"type\":\"CurriculumPrerequisite\"}],\"name\":\" \",\"metrics\":{\"complexity\":6.0,\"centrality\":0,\"blocking factor\":0,\"delay factor\":6.0},\"nameSub\":\"Circuit Technologies Topics\",\"id\":45,\"credits\":3,\"nameCanonical\":\"\"},{\"curriculum_requisites\":[],\"name\":\" \",\"metrics\":{\"complexity\":1.0,\"centrality\":0,\"blocking factor\":0,\"delay factor\":1.0},\"nameSub\":\"Econ\\/Social Science Elective\",\"id\":13,\"credits\":3,\"nameCanonical\":\"\"},{\"curriculum_requisites\":[],\"name\":\" \",\"metrics\":{\"complexity\":1.0,\"centrality\":0,\"blocking factor\":0,\"delay factor\":1.0},\"nameSub\":\"History\\/Government Elective\",\"id\":11,\"credits\":3,\"nameCanonical\":\"\"},{\"curriculum_requisites\":[{\"source_id\":22,\"target_id\":36,\"type\":\"CurriculumPrerequisite\"}],\"name\":\" \",\"metrics\":{\"complexity\":7.0,\"centrality\":0,\"blocking factor\":0,\"delay factor\":7.0},\"nameSub\":\"Electronic Devices Topics\",\"id\":36,\"credits\":3,\"nameCanonical\":\"\"},{\"curriculum_requisites\":[],\"name\":\" \",\"metrics\":{\"complexity\":1.0,\"centrality\":0,\"blocking factor\":0,\"delay factor\":1.0},\"nameSub\":\"Elective Hours\",\"id\":39,\"credits\":2,\"nameCanonical\":\"\"}],\"id\":7},{\"name\":\"Term 8\",\"curriculum_items\":[{\"curriculum_requisites\":[],\"name\":\" \",\"metrics\":{\"complexity\":1.0,\"centrality\":0,\"blocking factor\":0,\"delay factor\":1.0},\"nameSub\":\"Elective Hours\",\"id\":29,\"credits\":3,\"nameCanonical\":\"\"},{\"curriculum_requisites\":[],\"name\":\" \",\"metrics\":{\"complexity\":1.0,\"centrality\":0,\"blocking factor\":0,\"delay factor\":1.0},\"nameSub\":\"Science Elective\",\"id\":21,\"credits\":3,\"nameCanonical\":\"\"},{\"curriculum_requisites\":[{\"source_id\":35,\"target_id\":41,\"type\":\"CurriculumPrerequisite\"}],\"name\":\" \",\"metrics\":{\"complexity\":8.0,\"centrality\":0,\"blocking factor\":0,\"delay factor\":8.0},\"nameSub\":\"Senior Design Sequence\",\"id\":41,\"credits\":2,\"nameCanonical\":\"\"},{\"curriculum_requisites\":[],\"name\":\" \",\"metrics\":{\"complexity\":1.0,\"centrality\":0,\"blocking factor\":0,\"delay factor\":1.0},\"nameSub\":\"Humanities Elective\",\"id\":14,\"credits\":3,\"nameCanonical\":\"\"},{\"curriculum_requisites\":[],\"name\":\" \",\"metrics\":{\"complexity\":1.0,\"centrality\":0,\"blocking factor\":0,\"delay factor\":1.0},\"nameSub\":\"Social Science Elective\",\"id\":40,\"credits\":3,\"nameCanonical\":\"\"},{\"curriculum_requisites\":[],\"name\":\" \",\"metrics\":{\"complexity\":1.0,\"centrality\":0,\"blocking factor\":0,\"delay factor\":1.0},\"nameSub\":\"Humanities Elective\",\"id\":27,\"credits\":3,\"nameCanonical\":\"\"}],\"id\":8}],\"institution\":\"Georgia Institute of Technology\"}}}}},\"children\":[{\"props\":{\"src\":\"https:\\/\\/curricula-api-embed.damoursystems.com\\/\",\"id\":\"curriculum\",\"events\":{\"load\":\"(function (){this.contentWindow.postMessage({\\\"options\\\":{\\\"hideTerms\\\":false,\\\"edit\\\":false},\\\"curriculum\\\":{\\\"name\\\":\\\"Electrical Engineering - Electronic Devices and Circuit Technology\\\",\\\"dp_name\\\":\\\"\\\",\\\"curriculum_terms\\\":[{\\\"name\\\":\\\"Term 1\\\",\\\"curriculum_items\\\":[{\\\"curriculum_requisites\\\":[],\\\"name\\\":\\\"ECE 3450\\\",\\\"metrics\\\":{\\\"complexity\\\":1.0,\\\"centrality\\\":0,\\\"blocking factor\\\":0,\\\"delay factor\\\":1.0},\\\"nameSub\\\":\\\"\\\",\\\"id\\\":30,\\\"credits\\\":3,\\\"nameCanonical\\\":\\\"\\\"},{\\\"curriculum_requisites\\\":[],\\\"name\\\":\\\" \\\",\\\"metrics\\\":{\\\"complexity\\\":1.0,\\\"centrality\\\":0,\\\"blocking factor\\\":0,\\\"delay factor\\\":1.0},\\\"nameSub\\\":\\\"Elective Hours\\\",\\\"id\\\":44,\\\"credits\\\":3,\\\"nameCanonical\\\":\\\"\\\"},{\\\"curriculum_requisites\\\":[],\\\"name\\\":\\\"ECE 3400\\\",\\\"metrics\\\":{\\\"complexity\\\":1.0,\\\"centrality\\\":0,\\\"blocking factor\\\":0,\\\"delay factor\\\":1.0},\\\"nameSub\\\":\\\"\\\",\\\"id\\\":31,\\\"credits\\\":3,\\\"nameCanonical\\\":\\\"\\\"},{\\\"curriculum_requisites\\\":[],\\\"name\\\":\\\"ENGL 1101\\\",\\\"metrics\\\":{\\\"complexity\\\":3.0,\\\"centrality\\\":0,\\\"blocking factor\\\":1,\\\"delay factor\\\":2.0},\\\"nameSub\\\":\\\"English Composition I\\\",\\\"id\\\":4,\\\"credits\\\":3,\\\"nameCanonical\\\":\\\"\\\"},{\\\"curriculum_requisites\\\":[],\\\"name\\\":\\\" \\\",\\\"metrics\\\":{\\\"complexity\\\":1.0,\\\"centrality\\\":0,\\\"blocking factor\\\":0,\\\"delay factor\\\":1.0},\\\"nameSub\\\":\\\"Elective Hours\\\",\\\"id\\\":33,\\\"credits\\\":3,\\\"nameCanonical\\\":\\\"\\\"},{\\\"curriculum_requisites\\\":[],\\\"name\\\":\\\"APPH 1040\\\",\\\"metrics\\\":{\\\"complexity\\\":1.0,\\\"centrality\\\":0,\\\"blocking factor\\\":0,\\\"delay factor\\\":1.0},\\\"nameSub\\\":\\\"\\\",\\\"id\\\":26,\\\"credits\\\":2,\\\"nameCanonical\\\":\\\"\\\"}],\\\"id\\\":1},{\\\"name\\\":\\\"Term 2\\\",\\\"curriculum_items\\\":[{\\\"curriculum_requisites\\\":[],\\\"name\\\":\\\"MATH 1551\\\",\\\"metrics\\\":{\\\"complexity\\\":27.0,\\\"centrality\\\":0,\\\"blocking factor\\\":19,\\\"delay factor\\\":8.0},\\\"nameSub\\\":\\\"Differential Calculus\\\",\\\"id\\\":5,\\\"credits\\\":2,\\\"nameCanonical\\\":\\\"\\\"},{\\\"curriculum_requisites\\\":[{\\\"source_id\\\":5,\\\"target_id\\\":6,\\\"type\\\":\\\"CurriculumCorequisite\\\"}],\\\"name\\\":\\\"MATH 1554\\\",\\\"metrics\\\":{\\\"complexity\\\":19.0,\\\"centrality\\\":55,\\\"blocking factor\\\":12,\\\"delay factor\\\":7.0},\\\"nameSub\\\":\\\"Linear Algebra\\\",\\\"id\\\":6,\\\"credits\\\":4,\\\"nameCanonical\\\":\\\"\\\"},{\\\"curriculum_requisites\\\":[],\\\"name\\\":\\\"ECE 4452\\\",\\\"metrics\\\":{\\\"complexity\\\":1.0,\\\"centrality\\\":0,\\\"blocking factor\\\":0,\\\"delay factor\\\":1.0},\\\"nameSub\\\":\\\"\\\",\\\"id\\\":38,\\\"credits\\\":3,\\\"nameCanonical\\\":\\\"\\\"},{\\\"curriculum_requisites\\\":[{\\\"source_id\\\":4,\\\"target_id\\\":8,\\\"type\\\":\\\"CurriculumPrerequisite\\\"}],\\\"name\\\":\\\"ENGL 1102\\\",\\\"metrics\\\":{\\\"complexity\\\":2.0,\\\"centrality\\\":0,\\\"blocking factor\\\":0,\\\"delay factor\\\":2.0},\\\"nameSub\\\":\\\"English Composition II\\\",\\\"id\\\":8,\\\"credits\\\":3,\\\"nameCanonical\\\":\\\"\\\"}],\\\"id\\\":2},{\\\"name\\\":\\\"Term 3\\\",\\\"curriculum_items\\\":[{\\\"curriculum_requisites\\\":[],\\\"name\\\":\\\" \\\",\\\"metrics\\\":{\\\"complexity\\\":1.0,\\\"centrality\\\":0,\\\"blocking factor\\\":0,\\\"delay factor\\\":1.0},\\\"nameSub\\\":\\\"Social Science Elective\\\",\\\"id\\\":32,\\\"credits\\\":3,\\\"nameCanonical\\\":\\\"\\\"},{\\\"curriculum_requisites\\\":[{\\\"source_id\\\":5,\\\"target_id\\\":9,\\\"type\\\":\\\"CurriculumPrerequisite\\\"}],\\\"name\\\":\\\"MATH 1552\\\",\\\"metrics\\\":{\\\"complexity\\\":25.0,\\\"centrality\\\":111,\\\"blocking factor\\\":17,\\\"delay factor\\\":8.0},\\\"nameSub\\\":\\\"Integral Calculus\\\",\\\"id\\\":9,\\\"credits\\\":4,\\\"nameCanonical\\\":\\\"\\\"},{\\\"curriculum_requisites\\\":[],\\\"name\\\":\\\"ECE 3005\\\",\\\"metrics\\\":{\\\"complexity\\\":1.0,\\\"centrality\\\":0,\\\"blocking factor\\\":0,\\\"delay factor\\\":1.0},\\\"nameSub\\\":\\\"\\\",\\\"id\\\":28,\\\"credits\\\":1,\\\"nameCanonical\\\":\\\"\\\"},{\\\"curriculum_requisites\\\":[],\\\"name\\\":\\\"ECE 1100\\\",\\\"metrics\\\":{\\\"complexity\\\":1.0,\\\"centrality\\\":0,\\\"blocking factor\\\":0,\\\"delay factor\\\":1.0},\\\"nameSub\\\":\\\"ECE Discovery Studio\\\",\\\"id\\\":3,\\\"credits\\\":1,\\\"nameCanonical\\\":\\\"\\\"},{\\\"curriculum_requisites\\\":[],\\\"name\\\":\\\"CS 1301\\\",\\\"metrics\\\":{\\\"complexity\\\":16.0,\\\"centrality\\\":0,\\\"blocking factor\\\":10,\\\"delay factor\\\":6.0},\\\"nameSub\\\":\\\"Intro to Computing\\\",\\\"id\\\":2,\\\"credits\\\":3,\\\"nameCanonical\\\":\\\"\\\"},{\\\"curriculum_requisites\\\":[{\\\"source_id\\\":9,\\\"target_id\\\":10,\\\"type\\\":\\\"CurriculumCorequisite\\\"}],\\\"name\\\":\\\"PHYS  2211\\\",\\\"metrics\\\":{\\\"complexity\\\":20.0,\\\"centrality\\\":46,\\\"blocking factor\\\":12,\\\"delay factor\\\":8.0},\\\"nameSub\\\":\\\"Intro Physics 1\\\",\\\"id\\\":10,\\\"credits\\\":4,\\\"nameCanonical\\\":\\\"\\\"}],\\\"id\\\":3},{\\\"name\\\":\\\"Term 4\\\",\\\"curriculum_items\\\":[{\\\"curriculum_requisites\\\":[{\\\"source_id\\\":10,\\\"target_id\\\":16,\\\"type\\\":\\\"CurriculumPrerequisite\\\"}],\\\"name\\\":\\\"PHYS  2212\\\",\\\"metrics\\\":{\\\"complexity\\\":19.0,\\\"centrality\\\":46,\\\"blocking factor\\\":11,\\\"delay factor\\\":8.0},\\\"nameSub\\\":\\\"Intro. Physics 2\\\",\\\"id\\\":16,\\\"credits\\\":4,\\\"nameCanonical\\\":\\\"\\\"},{\\\"curriculum_requisites\\\":[{\\\"source_id\\\":9,\\\"target_id\\\":20,\\\"type\\\":\\\"CurriculumPrerequisite\\\"}],\\\"name\\\":\\\"MATH 2551\\\",\\\"metrics\\\":{\\\"complexity\\\":5.0,\\\"centrality\\\":4,\\\"blocking factor\\\":1,\\\"delay factor\\\":4.0},\\\"nameSub\\\":\\\"Multivariate Calculus\\\",\\\"id\\\":20,\\\"credits\\\":4,\\\"nameCanonical\\\":\\\"\\\"},{\\\"curriculum_requisites\\\":[{\\\"source_id\\\":2,\\\"target_id\\\":12,\\\"type\\\":\\\"CurriculumPrerequisite\\\"},{\\\"source_id\\\":9,\\\"target_id\\\":12,\\\"type\\\":\\\"CurriculumPrerequisite\\\"}],\\\"name\\\":\\\"ECE 2026\\\",\\\"metrics\\\":{\\\"complexity\\\":9.0,\\\"centrality\\\":11,\\\"blocking factor\\\":3,\\\"delay factor\\\":6.0},\\\"nameSub\\\":\\\"Intro. to Signal Processing\\\",\\\"id\\\":12,\\\"credits\\\":3,\\\"nameCanonical\\\":\\\"\\\"},{\\\"curriculum_requisites\\\":[{\\\"source_id\\\":2,\\\"target_id\\\":7,\\\"type\\\":\\\"CurriculumPrerequisite\\\"}],\\\"name\\\":\\\"ECE 2020\\\",\\\"metrics\\\":{\\\"complexity\\\":11.0,\\\"centrality\\\":41,\\\"blocking factor\\\":5,\\\"delay factor\\\":6.0},\\\"nameSub\\\":\\\"Fund. of Digital System Design\\\",\\\"id\\\":7,\\\"credits\\\":3,\\\"nameCanonical\\\":\\\"\\\"},{\\\"curriculum_requisites\\\":[{\\\"source_id\\\":6,\\\"target_id\\\":15,\\\"type\\\":\\\"CurriculumPrerequisite\\\"},{\\\"source_id\\\":9,\\\"target_id\\\":15,\\\"type\\\":\\\"CurriculumPrerequisite\\\"}],\\\"name\\\":\\\"MATH 2552\\\",\\\"metrics\\\":{\\\"complexity\\\":18.0,\\\"centrality\\\":110,\\\"blocking factor\\\":11,\\\"delay factor\\\":7.0},\\\"nameSub\\\":\\\"Differential Equations\\\",\\\"id\\\":15,\\\"credits\\\":4,\\\"nameCanonical\\\":\\\"\\\"}],\\\"id\\\":4},{\\\"name\\\":\\\"Term 5\\\",\\\"curriculum_items\\\":[{\\\"curriculum_requisites\\\":[{\\\"source_id\\\":16,\\\"target_id\\\":19,\\\"type\\\":\\\"CurriculumPrerequisite\\\"},{\\\"source_id\\\":15,\\\"target_id\\\":19,\\\"type\\\":\\\"CurriculumPrerequisite\\\"}],\\\"name\\\":\\\"ECE 2040\\\",\\\"metrics\\\":{\\\"complexity\\\":18.0,\\\"centrality\\\":124,\\\"blocking factor\\\":10,\\\"delay factor\\\":8.0},\\\"nameSub\\\":\\\"Circuit Analysis\\\",\\\"id\\\":19,\\\"credits\\\":3,\\\"nameCanonical\\\":\\\"\\\"},{\\\"curriculum_requisites\\\":[{\\\"source_id\\\":7,\\\"target_id\\\":17,\\\"type\\\":\\\"CurriculumPrerequisite\\\"},{\\\"source_id\\\":18,\\\"target_id\\\":17,\\\"type\\\":\\\"CurriculumCorequisite\\\"}],\\\"name\\\":\\\"ECE 2031\\\",\\\"metrics\\\":{\\\"complexity\\\":9.0,\\\"centrality\\\":31,\\\"blocking factor\\\":3,\\\"delay factor\\\":6.0},\\\"nameSub\\\":\\\"Digital Design Lab\\\",\\\"id\\\":17,\\\"credits\\\":2,\\\"nameCanonical\\\":\\\"\\\"},{\\\"curriculum_requisites\\\":[],\\\"name\\\":\\\"CHEM 1310\\\",\\\"metrics\\\":{\\\"complexity\\\":6.0,\\\"centrality\\\":0,\\\"blocking factor\\\":3,\\\"delay factor\\\":3.0},\\\"nameSub\\\":\\\"General Chemistry\\\",\\\"id\\\":1,\\\"credits\\\":4,\\\"nameCanonical\\\":\\\"\\\"},{\\\"curriculum_requisites\\\":[{\\\"source_id\\\":20,\\\"target_id\\\":25,\\\"type\\\":\\\"CurriculumPrerequisite\\\"}],\\\"name\\\":\\\" \\\",\\\"metrics\\\":{\\\"complexity\\\":4.0,\\\"centrality\\\":0,\\\"blocking factor\\\":0,\\\"delay factor\\\":4.0},\\\"nameSub\\\":\\\"Prob & Stat Elective\\\",\\\"id\\\":25,\\\"credits\\\":3,\\\"nameCanonical\\\":\\\"\\\"},{\\\"curriculum_requisites\\\":[{\\\"source_id\\\":7,\\\"target_id\\\":18,\\\"type\\\":\\\"CurriculumPrerequisite\\\"}],\\\"name\\\":\\\"ECE 2035\\\",\\\"metrics\\\":{\\\"complexity\\\":10.0,\\\"centrality\\\":27,\\\"blocking factor\\\":4,\\\"delay factor\\\":6.0},\\\"nameSub\\\":\\\"Programming Elective\\\",\\\"id\\\":18,\\\"credits\\\":4,\\\"nameCanonical\\\":\\\"\\\"}],\\\"id\\\":5},{\\\"name\\\":\\\"Term 6\\\",\\\"curriculum_items\\\":[{\\\"curriculum_requisites\\\":[{\\\"source_id\\\":15,\\\"target_id\\\":24,\\\"type\\\":\\\"CurriculumPrerequisite\\\"},{\\\"source_id\\\":12,\\\"target_id\\\":24,\\\"type\\\":\\\"CurriculumPrerequisite\\\"},{\\\"source_id\\\":19,\\\"target_id\\\":24,\\\"type\\\":\\\"CurriculumPrerequisite\\\"}],\\\"name\\\":\\\"ECE 3025\\\",\\\"metrics\\\":{\\\"complexity\\\":10.0,\\\"centrality\\\":45,\\\"blocking factor\\\":2,\\\"delay factor\\\":8.0},\\\"nameSub\\\":\\\"Electromagnetics\\\",\\\"id\\\":24,\\\"credits\\\":3,\\\"nameCanonical\\\":\\\"\\\"},{\\\"curriculum_requisites\\\":[{\\\"source_id\\\":19,\\\"target_id\\\":37,\\\"type\\\":\\\"CurriculumPrerequisite\\\"}],\\\"name\\\":\\\" \\\",\\\"metrics\\\":{\\\"complexity\\\":6.0,\\\"centrality\\\":0,\\\"blocking factor\\\":0,\\\"delay factor\\\":6.0},\\\"nameSub\\\":\\\"ECE 3000\\/4000 Elective\\\",\\\"id\\\":37,\\\"credits\\\":3,\\\"nameCanonical\\\":\\\"\\\"},{\\\"curriculum_requisites\\\":[{\\\"source_id\\\":22,\\\"target_id\\\":23,\\\"type\\\":\\\"CurriculumCorequisite\\\"},{\\\"source_id\\\":17,\\\"target_id\\\":23,\\\"type\\\":\\\"CurriculumPrerequisite\\\"}],\\\"name\\\":\\\"ECE 3043\\\",\\\"metrics\\\":{\\\"complexity\\\":7.0,\\\"centrality\\\":0,\\\"blocking factor\\\":0,\\\"delay factor\\\":7.0},\\\"nameSub\\\":\\\"Measurements, Circuits and Microelectronics Lab\\\",\\\"id\\\":23,\\\"credits\\\":2,\\\"nameCanonical\\\":\\\"\\\"},{\\\"curriculum_requisites\\\":[{\\\"source_id\\\":15,\\\"target_id\\\":22,\\\"type\\\":\\\"CurriculumPrerequisite\\\"},{\\\"source_id\\\":18,\\\"target_id\\\":22,\\\"type\\\":\\\"CurriculumPrerequisite\\\"},{\\\"source_id\\\":17,\\\"target_id\\\":22,\\\"type\\\":\\\"CurriculumPrerequisite\\\"},{\\\"source_id\\\":1,\\\"target_id\\\":22,\\\"type\\\":\\\"CurriculumPrerequisite\\\"},{\\\"source_id\\\":19,\\\"target_id\\\":22,\\\"type\\\":\\\"CurriculumPrerequisite\\\"}],\\\"name\\\":\\\"ECE 3040\\\",\\\"metrics\\\":{\\\"complexity\\\":9.0,\\\"centrality\\\":96,\\\"blocking factor\\\":2,\\\"delay factor\\\":7.0},\\\"nameSub\\\":\\\"Microelectronic Circuits\\\",\\\"id\\\":22,\\\"credits\\\":4,\\\"nameCanonical\\\":\\\"\\\"},{\\\"curriculum_requisites\\\":[{\\\"source_id\\\":19,\\\"target_id\\\":43,\\\"type\\\":\\\"CurriculumPrerequisite\\\"}],\\\"name\\\":\\\" \\\",\\\"metrics\\\":{\\\"complexity\\\":6.0,\\\"centrality\\\":0,\\\"blocking factor\\\":0,\\\"delay factor\\\":6.0},\\\"nameSub\\\":\\\"ECE 3000\\/4000 Elective\\\",\\\"id\\\":43,\\\"credits\\\":3,\\\"nameCanonical\\\":\\\"\\\"},{\\\"curriculum_requisites\\\":[{\\\"source_id\\\":19,\\\"target_id\\\":42,\\\"type\\\":\\\"CurriculumPrerequisite\\\"}],\\\"name\\\":\\\" \\\",\\\"metrics\\\":{\\\"complexity\\\":6.0,\\\"centrality\\\":0,\\\"blocking factor\\\":0,\\\"delay factor\\\":6.0},\\\"nameSub\\\":\\\"ECE 3000\\/4000 Elective\\\",\\\"id\\\":42,\\\"credits\\\":3,\\\"nameCanonical\\\":\\\"\\\"}],\\\"id\\\":6},{\\\"name\\\":\\\"Term 7\\\",\\\"curriculum_items\\\":[{\\\"curriculum_requisites\\\":[{\\\"source_id\\\":24,\\\"target_id\\\":35,\\\"type\\\":\\\"CurriculumPrerequisite\\\"}],\\\"name\\\":\\\" \\\",\\\"metrics\\\":{\\\"complexity\\\":9.0,\\\"centrality\\\":45,\\\"blocking factor\\\":1,\\\"delay factor\\\":8.0},\\\"nameSub\\\":\\\"Senior Design Sequence\\\",\\\"id\\\":35,\\\"credits\\\":1,\\\"nameCanonical\\\":\\\"\\\"},{\\\"curriculum_requisites\\\":[{\\\"source_id\\\":19,\\\"target_id\\\":45,\\\"type\\\":\\\"CurriculumPrerequisite\\\"}],\\\"name\\\":\\\" \\\",\\\"metrics\\\":{\\\"complexity\\\":6.0,\\\"centrality\\\":0,\\\"blocking factor\\\":0,\\\"delay factor\\\":6.0},\\\"nameSub\\\":\\\"Circuit Technologies Topics\\\",\\\"id\\\":45,\\\"credits\\\":3,\\\"nameCanonical\\\":\\\"\\\"},{\\\"curriculum_requisites\\\":[],\\\"name\\\":\\\" \\\",\\\"metrics\\\":{\\\"complexity\\\":1.0,\\\"centrality\\\":0,\\\"blocking factor\\\":0,\\\"delay factor\\\":1.0},\\\"nameSub\\\":\\\"Econ\\/Social Science Elective\\\",\\\"id\\\":13,\\\"credits\\\":3,\\\"nameCanonical\\\":\\\"\\\"},{\\\"curriculum_requisites\\\":[],\\\"name\\\":\\\" \\\",\\\"metrics\\\":{\\\"complexity\\\":1.0,\\\"centrality\\\":0,\\\"blocking factor\\\":0,\\\"delay factor\\\":1.0},\\\"nameSub\\\":\\\"History\\/Government Elective\\\",\\\"id\\\":11,\\\"credits\\\":3,\\\"nameCanonical\\\":\\\"\\\"},{\\\"curriculum_requisites\\\":[{\\\"source_id\\\":22,\\\"target_id\\\":36,\\\"type\\\":\\\"CurriculumPrerequisite\\\"}],\\\"name\\\":\\\" \\\",\\\"metrics\\\":{\\\"complexity\\\":7.0,\\\"centrality\\\":0,\\\"blocking factor\\\":0,\\\"delay factor\\\":7.0},\\\"nameSub\\\":\\\"Electronic Devices Topics\\\",\\\"id\\\":36,\\\"credits\\\":3,\\\"nameCanonical\\\":\\\"\\\"},{\\\"curriculum_requisites\\\":[],\\\"name\\\":\\\" \\\",\\\"metrics\\\":{\\\"complexity\\\":1.0,\\\"centrality\\\":0,\\\"blocking factor\\\":0,\\\"delay factor\\\":1.0},\\\"nameSub\\\":\\\"Elective Hours\\\",\\\"id\\\":39,\\\"credits\\\":2,\\\"nameCanonical\\\":\\\"\\\"}],\\\"id\\\":7},{\\\"name\\\":\\\"Term 8\\\",\\\"curriculum_items\\\":[{\\\"curriculum_requisites\\\":[],\\\"name\\\":\\\" \\\",\\\"metrics\\\":{\\\"complexity\\\":1.0,\\\"centrality\\\":0,\\\"blocking factor\\\":0,\\\"delay factor\\\":1.0},\\\"nameSub\\\":\\\"Elective Hours\\\",\\\"id\\\":29,\\\"credits\\\":3,\\\"nameCanonical\\\":\\\"\\\"},{\\\"curriculum_requisites\\\":[],\\\"name\\\":\\\" \\\",\\\"metrics\\\":{\\\"complexity\\\":1.0,\\\"centrality\\\":0,\\\"blocking factor\\\":0,\\\"delay factor\\\":1.0},\\\"nameSub\\\":\\\"Science Elective\\\",\\\"id\\\":21,\\\"credits\\\":3,\\\"nameCanonical\\\":\\\"\\\"},{\\\"curriculum_requisites\\\":[{\\\"source_id\\\":35,\\\"target_id\\\":41,\\\"type\\\":\\\"CurriculumPrerequisite\\\"}],\\\"name\\\":\\\" \\\",\\\"metrics\\\":{\\\"complexity\\\":8.0,\\\"centrality\\\":0,\\\"blocking factor\\\":0,\\\"delay factor\\\":8.0},\\\"nameSub\\\":\\\"Senior Design Sequence\\\",\\\"id\\\":41,\\\"credits\\\":2,\\\"nameCanonical\\\":\\\"\\\"},{\\\"curriculum_requisites\\\":[],\\\"name\\\":\\\" \\\",\\\"metrics\\\":{\\\"complexity\\\":1.0,\\\"centrality\\\":0,\\\"blocking factor\\\":0,\\\"delay factor\\\":1.0},\\\"nameSub\\\":\\\"Humanities Elective\\\",\\\"id\\\":14,\\\"credits\\\":3,\\\"nameCanonical\\\":\\\"\\\"},{\\\"curriculum_requisites\\\":[],\\\"name\\\":\\\" \\\",\\\"metrics\\\":{\\\"complexity\\\":1.0,\\\"centrality\\\":0,\\\"blocking factor\\\":0,\\\"delay factor\\\":1.0},\\\"nameSub\\\":\\\"Social Science Elective\\\",\\\"id\\\":40,\\\"credits\\\":3,\\\"nameCanonical\\\":\\\"\\\"},{\\\"curriculum_requisites\\\":[],\\\"name\\\":\\\" \\\",\\\"metrics\\\":{\\\"complexity\\\":1.0,\\\"centrality\\\":0,\\\"blocking factor\\\":0,\\\"delay factor\\\":1.0},\\\"nameSub\\\":\\\"Humanities Elective\\\",\\\"id\\\":27,\\\"credits\\\":3,\\\"nameCanonical\\\":\\\"\\\"}],\\\"id\\\":8}],\\\"institution\\\":\\\"Georgia Institute of Technology\\\"}},\\\"*\\\"); window.removeEventListener(\\\"message\\\",window.messageReceived); window.messageReceived=(function (event){return (event.data.curriculum!==undefined) ? (WebIO.setval({\\\"name\\\":\\\"curriculum-data\\\",\\\"scope\\\":\\\"7846831319619930049\\\",\\\"id\\\":\\\"17612623394043831427\\\",\\\"type\\\":\\\"observable\\\"},event.data.curriculum)) : undefined}); return window.addEventListener(\\\"message\\\",window.messageReceived)})\"},\"style\":{\"padding\":\"0\",\"height\":\"100vh\",\"margin\":\"0\",\"border\":\"none\",\"width\":\"100%\"}},\"nodeType\":\"DOM\",\"type\":\"node\",\"instanceArgs\":{\"namespace\":\"html\",\"tag\":\"iframe\"},\"children\":[\"\"]}]},\n",
       "            window,\n",
       "        );\n",
       "    } else {\n",
       "        document\n",
       "            .querySelector('[data-webio-mountpoint=\"17955888318860044927\"]')\n",
       "            .innerHTML = (\n",
       "                '<div style=\"padding: 1em; background-color: #f8d6da; border: 1px solid #f5c6cb\">' +\n",
       "                '<p><strong>WebIO not detected.</strong></p>' +\n",
       "                '<p>Please read ' +\n",
       "                '<a href=\"https://juliagizmos.github.io/WebIO.jl/latest/troubleshooting/not-detected/\" target=\"_blank\">the troubleshooting guide</a> ' +\n",
       "                'for more information on how to resolve this issue.</p>' +\n",
       "                '<p><a href=\"https://juliagizmos.github.io/WebIO.jl/latest/troubleshooting/not-detected/\" target=\"_blank\">https://juliagizmos.github.io/WebIO.jl/latest/troubleshooting/not-detected/</a></p>' +\n",
       "                '</div>'\n",
       "            );\n",
       "    }\n",
       "    </script>\n",
       "</div>\n"
      ],
      "text/plain": [
       "WebIO.Scope(WebIO.Node{WebIO.DOM}(WebIO.DOM(:html, :iframe), Any[\"\"], Dict{Symbol, Any}(:src => \"https://curricula-api-embed.damoursystems.com/\", :id => \"curriculum\", :events => Dict{Symbol, WebIO.JSString}(:load => WebIO.JSString(\"(function (){this.contentWindow.postMessage({\\\"options\\\":{\\\"hideTerms\\\":false,\\\"edit\\\":false},\\\"curriculum\\\":{\\\"name\\\":\\\"Electrical Engineering - Electronic Devices and Circuit Technology\\\",\\\"dp_name\\\":\\\"\\\",\\\"curriculum_terms\\\":[{\\\"name\\\":\\\"Term 1\\\",\\\"curriculum_items\\\":[{\\\"curriculum_requisites\\\":[],\\\"name\\\":\\\"ECE 3450\\\",\\\"metrics\\\":{\\\"complexity\\\":1.0,\\\"centrality\\\":0,\\\"blocking factor\\\":0,\\\"delay factor\\\":1.0},\\\"nameSub\\\":\\\"\\\",\\\"id\\\":30,\\\"credits\\\":3,\\\"nameCanonical\\\":\\\"\\\"},{\\\"curriculum_requisites\\\":[],\\\"name\\\":\\\" \\\",\\\"metrics\\\":{\\\"complexity\\\":1.0,\\\"centrality\\\":0,\\\"blocking factor\\\":0,\\\"delay factor\\\":1.0},\\\"nameSub\\\":\\\"Elective Hours\\\",\\\"id\\\":44,\\\"credits\\\":3,\\\"nameCanonical\\\":\\\"\\\"},{\\\"curriculum_requisites\\\":[],\\\"name\\\":\\\"ECE 3400\\\",\\\"metrics\\\":{\\\"complexity\\\":1.0,\\\"centrality\\\":0,\\\"blocking factor\\\":0,\\\"delay factor\\\":1.0},\\\"nameSub\\\":\\\"\\\",\\\"id\\\":31,\\\"credits\\\":3,\\\"nameCanonical\\\":\\\"\\\"},{\\\"curriculum_requisites\\\":[],\\\"name\\\":\\\"ENGL 1101\\\",\\\"metrics\\\":{\\\"complexity\\\":3.0,\\\"centrality\\\":0,\\\"blocking factor\\\":1,\\\"delay factor\\\":2.0},\\\"nameSub\\\":\\\"English Composition I\\\",\\\"id\\\":4,\\\"credits\\\":3,\\\"nameCanonical\\\":\\\"\\\"},{\\\"curriculum_requisites\\\":[],\\\"name\\\":\\\" \\\",\\\"metrics\\\":{\\\"complexity\\\":1.0,\\\"centrality\\\":0,\\\"blocking factor\\\":0,\\\"delay factor\\\":1.0},\\\"nameSub\\\":\\\"Elective Hours\\\",\\\"id\\\":33,\\\"credits\\\":3,\\\"nameCanonical\\\":\\\"\\\"},{\\\"curriculum_requisites\\\":[],\\\"name\\\":\\\"APPH 1040\\\",\\\"metrics\\\":{\\\"complexity\\\":1.0,\\\"centrality\\\":0,\\\"blocking factor\\\":0,\\\"delay factor\\\":1.0},\\\"nameSub\\\":\\\"\\\",\\\"id\\\":26,\\\"credits\\\":2,\\\"nameCanonical\\\":\\\"\\\"}],\\\"id\\\":1},{\\\"name\\\":\\\"Term 2\\\",\\\"curriculum_items\\\":[{\\\"curriculum_requisites\\\":[],\\\"name\\\":\\\"MATH 1551\\\",\\\"metrics\\\":{\\\"complexity\\\":27.0,\\\"centrality\\\":0,\\\"blocking factor\\\":19,\\\"delay factor\\\":8.0},\\\"nameSub\\\":\\\"Differential Calculus\\\",\\\"id\\\":5,\\\"credits\\\":2,\\\"nameCanonical\\\":\\\"\\\"},{\\\"curriculum_requisites\\\":[{\\\"source_id\\\":5,\\\"target_id\\\":6,\\\"type\\\":\\\"CurriculumCorequisite\\\"}],\\\"name\\\":\\\"MATH 1554\\\",\\\"metrics\\\":{\\\"complexity\\\":19.0,\\\"centrality\\\":55,\\\"blocking factor\\\":12,\\\"delay factor\\\":7.0},\\\"nameSub\\\":\\\"Linear Algebra\\\",\\\"id\\\":6,\\\"credits\\\":4,\\\"nameCanonical\\\":\\\"\\\"},{\\\"curriculum_requisites\\\":[],\\\"name\\\":\\\"ECE 4452\\\",\\\"metrics\\\":{\\\"complexity\\\":1.0,\\\"centrality\\\":0,\\\"blocking factor\\\":0,\\\"delay factor\\\":1.0},\\\"nameSub\\\":\\\"\\\",\\\"id\\\":38,\\\"credits\\\":3,\\\"nameCanonical\\\":\\\"\\\"},{\\\"curriculum_requisites\\\":[{\\\"source_id\\\":4,\\\"target_id\\\":8,\\\"type\\\":\\\"CurriculumPrerequisite\\\"}],\\\"name\\\":\\\"ENGL 1102\\\",\\\"metrics\\\":{\\\"complexity\\\":2.0,\\\"centrality\\\":0,\\\"blocking factor\\\":0,\\\"delay factor\\\":2.0},\\\"nameSub\\\":\\\"English Composition II\\\",\\\"id\\\":8,\\\"credits\\\":3,\\\"nameCanonical\\\":\\\"\\\"}],\\\"id\\\":2},{\\\"name\\\":\\\"Term 3\\\",\\\"curriculum_items\\\":[{\\\"curriculum_requisites\\\":[],\\\"name\\\":\\\" \\\",\\\"metrics\\\":{\\\"complexity\\\":1.0,\\\"centrality\\\":0,\\\"blocking factor\\\":0,\\\"delay factor\\\":1.0},\\\"nameSub\\\":\\\"Social Science Elective\\\",\\\"id\\\":32,\\\"credits\\\":3,\\\"nameCanonical\\\":\\\"\\\"},{\\\"curriculum_requisites\\\":[{\\\"source_id\\\":5,\\\"target_id\\\":9,\\\"type\\\":\\\"CurriculumPrerequisite\\\"}],\\\"name\\\":\\\"MATH 1552\\\",\\\"metrics\\\":{\\\"complexity\\\":25.0,\\\"centrality\\\":111,\\\"blocking factor\\\":17,\\\"delay factor\\\":8.0},\\\"nameSub\\\":\\\"Integral Calculus\\\",\\\"id\\\":9,\\\"credits\\\":4,\\\"nameCanonical\\\":\\\"\\\"},{\\\"curriculum_requisites\\\":[],\\\"name\\\":\\\"ECE 3005\\\",\\\"metrics\\\":{\\\"complexity\\\":1.0,\\\"centrality\\\":0,\\\"blocking factor\\\":0,\\\"delay factor\\\":1.0},\\\"nameSub\\\":\\\"\\\",\\\"id\\\":28,\\\"credits\\\":1,\\\"nameCanonical\\\":\\\"\\\"},{\\\"curriculum_requisites\\\":[],\\\"name\\\":\\\"ECE 1100\\\",\\\"metrics\\\":{\\\"complexity\\\":1.0,\\\"centrality\\\":0,\\\"blocking factor\\\":0,\\\"delay factor\\\":1.0},\\\"nameSub\\\":\\\"ECE Discovery Studio\\\",\\\"id\\\":3,\\\"credits\\\":1,\\\"nameCanonical\\\":\\\"\\\"},{\\\"curriculum_requisites\\\":[],\\\"name\\\":\\\"CS 1301\\\",\\\"metrics\\\":{\\\"complexity\\\":16.0,\\\"centrality\\\":0,\\\"blocking factor\\\":10,\\\"delay factor\\\":6.0},\\\"nameSub\\\":\\\"Intro to Computing\\\",\\\"id\\\":2,\\\"credits\\\":3,\\\"nameCanonical\\\":\\\"\\\"},{\\\"curriculum_requisites\\\":[{\\\"source_id\\\":9,\\\"target_id\\\":10,\\\"type\\\":\\\"CurriculumCorequisite\\\"}],\\\"name\\\":\\\"PHYS  2211\\\",\\\"metrics\\\":{\\\"complexity\\\":20.0,\\\"centrality\\\":46,\\\"blocking factor\\\":12,\\\"delay factor\\\":8.0},\\\"nameSub\\\":\\\"Intro Physics 1\\\",\\\"id\\\":10,\\\"credits\\\":4,\\\"nameCanonical\\\":\\\"\\\"}],\\\"id\\\":3},{\\\"name\\\":\\\"Term 4\\\",\\\"curriculum_items\\\":[{\\\"curriculum_requisites\\\":[{\\\"source_id\\\":10,\\\"target_id\\\":16,\\\"type\\\":\\\"CurriculumPrerequisite\\\"}],\\\"name\\\":\\\"PHYS  2212\\\",\\\"metrics\\\":{\\\"complexity\\\":19.0,\\\"centrality\\\":46,\\\"blocking factor\\\":11,\\\"delay factor\\\":8.0},\\\"nameSub\\\":\\\"Intro. Physics 2\\\",\\\"id\\\":16,\\\"credits\\\":4,\\\"nameCanonical\\\":\\\"\\\"},{\\\"curriculum_requisites\\\":[{\\\"source_id\\\":9,\\\"target_id\\\":20,\\\"type\\\":\\\"CurriculumPrerequisite\\\"}],\\\"name\\\":\\\"MATH 2551\\\",\\\"metrics\\\":{\\\"complexity\\\":5.0,\\\"centrality\\\":4,\\\"blocking factor\\\":1,\\\"delay factor\\\":4.0},\\\"nameSub\\\":\\\"Multivariate Calculus\\\",\\\"id\\\":20,\\\"credits\\\":4,\\\"nameCanonical\\\":\\\"\\\"},{\\\"curriculum_requisites\\\":[{\\\"source_id\\\":2,\\\"target_id\\\":12,\\\"type\\\":\\\"CurriculumPrerequisite\\\"},{\\\"source_id\\\":9,\\\"target_id\\\":12,\\\"type\\\":\\\"CurriculumPrerequisite\\\"}],\\\"name\\\":\\\"ECE 2026\\\",\\\"metrics\\\":{\\\"complexity\\\":9.0,\\\"centrality\\\":11,\\\"blocking factor\\\":3,\\\"delay factor\\\":6.0},\\\"nameSub\\\":\\\"Intro. to Signal Processing\\\",\\\"id\\\":12,\\\"credits\\\":3,\\\"nameCanonical\\\":\\\"\\\"},{\\\"curriculum_requisites\\\":[{\\\"source_id\\\":2,\\\"target_id\\\":7,\\\"type\\\":\\\"CurriculumPrerequisite\\\"}],\\\"name\\\":\\\"ECE 2020\\\",\\\"metrics\\\":{\\\"complexity\\\":11.0,\\\"centrality\\\":41,\\\"blocking factor\\\":5,\\\"delay factor\\\":6.0},\\\"nameSub\\\":\\\"Fund. of Digital System Design\\\",\\\"id\\\":7,\\\"credits\\\":3,\\\"nameCanonical\\\":\\\"\\\"},{\\\"curriculum_requisites\\\":[{\\\"source_id\\\":6,\\\"target_id\\\":15,\\\"type\\\":\\\"CurriculumPrerequisite\\\"},{\\\"source_id\\\":9,\\\"target_id\\\":15,\\\"type\\\":\\\"CurriculumPrerequisite\\\"}],\\\"name\\\":\\\"MATH 2552\\\",\\\"metrics\\\":{\\\"complexity\\\":18.0,\\\"centrality\\\":110,\\\"blocking factor\\\":11,\\\"delay factor\\\":7.0},\\\"nameSub\\\":\\\"Differential Equations\\\",\\\"id\\\":15,\\\"credits\\\":4,\\\"nameCanonical\\\":\\\"\\\"}],\\\"id\\\":4},{\\\"name\\\":\\\"Term 5\\\",\\\"curriculum_items\\\":[{\\\"curriculum_requisites\\\":[{\\\"source_id\\\":16,\\\"target_id\\\":19,\\\"type\\\":\\\"CurriculumPrerequisite\\\"},{\\\"source_id\\\":15,\\\"target_id\\\":19,\\\"type\\\":\\\"CurriculumPrerequisite\\\"}],\\\"name\\\":\\\"ECE 2040\\\",\\\"metrics\\\":{\\\"complexity\\\":18.0,\\\"centrality\\\":124,\\\"blocking factor\\\":10,\\\"delay factor\\\":8.0},\\\"nameSub\\\":\\\"Circuit Analysis\\\",\\\"id\\\":19,\\\"credits\\\":3,\\\"nameCanonical\\\":\\\"\\\"},{\\\"curriculum_requisites\\\":[{\\\"source_id\\\":7,\\\"target_id\\\":17,\\\"type\\\":\\\"CurriculumPrerequisite\\\"},{\\\"source_id\\\":18,\\\"target_id\\\":17,\\\"type\\\":\\\"CurriculumCorequisite\\\"}],\\\"name\\\":\\\"ECE 2031\\\",\\\"metrics\\\":{\\\"complexity\\\":9.0,\\\"centrality\\\":31,\\\"blocking factor\\\":3,\\\"delay factor\\\":6.0},\\\"nameSub\\\":\\\"Digital Design Lab\\\",\\\"id\\\":17,\\\"credits\\\":2,\\\"nameCanonical\\\":\\\"\\\"},{\\\"curriculum_requisites\\\":[],\\\"name\\\":\\\"CHEM 1310\\\",\\\"metrics\\\":{\\\"complexity\\\":6.0,\\\"centrality\\\":0,\\\"blocking factor\\\":3,\\\"delay factor\\\":3.0},\\\"nameSub\\\":\\\"General Chemistry\\\",\\\"id\\\":1,\\\"credits\\\":4,\\\"nameCanonical\\\":\\\"\\\"},{\\\"curriculum_requisites\\\":[{\\\"source_id\\\":20,\\\"target_id\\\":25,\\\"type\\\":\\\"CurriculumPrerequisite\\\"}],\\\"name\\\":\\\" \\\",\\\"metrics\\\":{\\\"complexity\\\":4.0,\\\"centrality\\\":0,\\\"blocking factor\\\":0,\\\"delay factor\\\":4.0},\\\"nameSub\\\":\\\"Prob & Stat Elective\\\",\\\"id\\\":25,\\\"credits\\\":3,\\\"nameCanonical\\\":\\\"\\\"},{\\\"curriculum_requisites\\\":[{\\\"source_id\\\":7,\\\"target_id\\\":18,\\\"type\\\":\\\"CurriculumPrerequisite\\\"}],\\\"name\\\":\\\"ECE 2035\\\",\\\"metrics\\\":{\\\"complexity\\\":10.0,\\\"centrality\\\":27,\\\"blocking factor\\\":4,\\\"delay factor\\\":6.0},\\\"nameSub\\\":\\\"Programming Elective\\\",\\\"id\\\":18,\\\"credits\\\":4,\\\"nameCanonical\\\":\\\"\\\"}],\\\"id\\\":5},{\\\"name\\\":\\\"Term 6\\\",\\\"curriculum_items\\\":[{\\\"curriculum_requisites\\\":[{\\\"source_id\\\":15,\\\"target_id\\\":24,\\\"type\\\":\\\"CurriculumPrerequisite\\\"},{\\\"source_id\\\":12,\\\"target_id\\\":24,\\\"type\\\":\\\"CurriculumPrerequisite\\\"},{\\\"source_id\\\":19,\\\"target_id\\\":24,\\\"type\\\":\\\"CurriculumPrerequisite\\\"}],\\\"name\\\":\\\"ECE 3025\\\",\\\"metrics\\\":{\\\"complexity\\\":10.0,\\\"centrality\\\":45,\\\"blocking factor\\\":2,\\\"delay factor\\\":8.0},\\\"nameSub\\\":\\\"Electromagnetics\\\",\\\"id\\\":24,\\\"credits\\\":3,\\\"nameCanonical\\\":\\\"\\\"},{\\\"curriculum_requisites\\\":[{\\\"source_id\\\":19,\\\"target_id\\\":37,\\\"type\\\":\\\"CurriculumPrerequisite\\\"}],\\\"name\\\":\\\" \\\",\\\"metrics\\\":{\\\"complexity\\\":6.0,\\\"centrality\\\":0,\\\"blocking factor\\\":0,\\\"delay factor\\\":6.0},\\\"nameSub\\\":\\\"ECE 3000/4000 Elective\\\",\\\"id\\\":37,\\\"credits\\\":3,\\\"nameCanonical\\\":\\\"\\\"},{\\\"curriculum_requisites\\\":[{\\\"source_id\\\":22,\\\"target_id\\\":23,\\\"type\\\":\\\"CurriculumCorequisite\\\"},{\\\"source_id\\\":17,\\\"target_id\\\":23,\\\"type\\\":\\\"CurriculumPrerequisite\\\"}],\\\"name\\\":\\\"ECE 3043\\\",\\\"metrics\\\":{\\\"complexity\\\":7.0,\\\"centrality\\\":0,\\\"blocking factor\\\":0,\\\"delay factor\\\":7.0},\\\"nameSub\\\":\\\"Measurements, Circuits and Microelectronics Lab\\\",\\\"id\\\":23,\\\"credits\\\":2,\\\"nameCanonical\\\":\\\"\\\"},{\\\"curriculum_requisites\\\":[{\\\"source_id\\\":15,\\\"target_id\\\":22,\\\"type\\\":\\\"CurriculumPrerequisite\\\"},{\\\"source_id\\\":18,\\\"target_id\\\":22,\\\"type\\\":\\\"CurriculumPrerequisite\\\"},{\\\"source_id\\\":17,\\\"target_id\\\":22,\\\"type\\\":\\\"CurriculumPrerequisite\\\"},{\\\"source_id\\\":1,\\\"target_id\\\":22,\\\"type\\\":\\\"CurriculumPrerequisite\\\"},{\\\"source_id\\\":19,\\\"target_id\\\":22,\\\"type\\\":\\\"CurriculumPrerequisite\\\"}],\\\"name\\\":\\\"ECE 3040\\\",\\\"metrics\\\":{\\\"complexity\\\":9.0,\\\"centrality\\\":96,\\\"blocking factor\\\":2,\\\"delay factor\\\":7.0},\\\"nameSub\\\":\\\"Microelectronic Circuits\\\",\\\"id\\\":22,\\\"credits\\\":4,\\\"nameCanonical\\\":\\\"\\\"},{\\\"curriculum_requisites\\\":[{\\\"source_id\\\":19,\\\"target_id\\\":43,\\\"type\\\":\\\"CurriculumPrerequisite\\\"}],\\\"name\\\":\\\" \\\",\\\"metrics\\\":{\\\"complexity\\\":6.0,\\\"centrality\\\":0,\\\"blocking factor\\\":0,\\\"delay factor\\\":6.0},\\\"nameSub\\\":\\\"ECE 3000/4000 Elective\\\",\\\"id\\\":43,\\\"credits\\\":3,\\\"nameCanonical\\\":\\\"\\\"},{\\\"curriculum_requisites\\\":[{\\\"source_id\\\":19,\\\"target_id\\\":42,\\\"type\\\":\\\"CurriculumPrerequisite\\\"}],\\\"name\\\":\\\" \\\",\\\"metrics\\\":{\\\"complexity\\\":6.0,\\\"centrality\\\":0,\\\"blocking factor\\\":0,\\\"delay factor\\\":6.0},\\\"nameSub\\\":\\\"ECE 3000/4000 Elective\\\",\\\"id\\\":42,\\\"credits\\\":3,\\\"nameCanonical\\\":\\\"\\\"}],\\\"id\\\":6},{\\\"name\\\":\\\"Term 7\\\",\\\"curriculum_items\\\":[{\\\"curriculum_requisites\\\":[{\\\"source_id\\\":24,\\\"target_id\\\":35,\\\"type\\\":\\\"CurriculumPrerequisite\\\"}],\\\"name\\\":\\\" \\\",\\\"metrics\\\":{\\\"complexity\\\":9.0,\\\"centrality\\\":45,\\\"blocking factor\\\":1,\\\"delay factor\\\":8.0},\\\"nameSub\\\":\\\"Senior Design Sequence\\\",\\\"id\\\":35,\\\"credits\\\":1,\\\"nameCanonical\\\":\\\"\\\"},{\\\"curriculum_requisites\\\":[{\\\"source_id\\\":19,\\\"target_id\\\":45,\\\"type\\\":\\\"CurriculumPrerequisite\\\"}],\\\"name\\\":\\\" \\\",\\\"metrics\\\":{\\\"complexity\\\":6.0,\\\"centrality\\\":0,\\\"blocking factor\\\":0,\\\"delay factor\\\":6.0},\\\"nameSub\\\":\\\"Circuit Technologies Topics\\\",\\\"id\\\":45,\\\"credits\\\":3,\\\"nameCanonical\\\":\\\"\\\"},{\\\"curriculum_requisites\\\":[],\\\"name\\\":\\\" \\\",\\\"metrics\\\":{\\\"complexity\\\":1.0,\\\"centrality\\\":0,\\\"blocking factor\\\":0,\\\"delay factor\\\":1.0},\\\"nameSub\\\":\\\"Econ/Social Science Elective\\\",\\\"id\\\":13,\\\"credits\\\":3,\\\"nameCanonical\\\":\\\"\\\"},{\\\"curriculum_requisites\\\":[],\\\"name\\\":\\\" \\\",\\\"metrics\\\":{\\\"complexity\\\":1.0,\\\"centrality\\\":0,\\\"blocking factor\\\":0,\\\"delay factor\\\":1.0},\\\"nameSub\\\":\\\"History/Government Elective\\\",\\\"id\\\":11,\\\"credits\\\":3,\\\"nameCanonical\\\":\\\"\\\"},{\\\"curriculum_requisites\\\":[{\\\"source_id\\\":22,\\\"target_id\\\":36,\\\"type\\\":\\\"CurriculumPrerequisite\\\"}],\\\"name\\\":\\\" \\\",\\\"metrics\\\":{\\\"complexity\\\":7.0,\\\"centrality\\\":0,\\\"blocking factor\\\":0,\\\"delay factor\\\":7.0},\\\"nameSub\\\":\\\"Electronic Devices Topics\\\",\\\"id\\\":36,\\\"credits\\\":3,\\\"nameCanonical\\\":\\\"\\\"},{\\\"curriculum_requisites\\\":[],\\\"name\\\":\\\" \\\",\\\"metrics\\\":{\\\"complexity\\\":1.0,\\\"centrality\\\":0,\\\"blocking factor\\\":0,\\\"delay factor\\\":1.0},\\\"nameSub\\\":\\\"Elective Hours\\\",\\\"id\\\":39,\\\"credits\\\":2,\\\"nameCanonical\\\":\\\"\\\"}],\\\"id\\\":7},{\\\"name\\\":\\\"Term 8\\\",\\\"curriculum_items\\\":[{\\\"curriculum_requisites\\\":[],\\\"name\\\":\\\" \\\",\\\"metrics\\\":{\\\"complexity\\\":1.0,\\\"centrality\\\":0,\\\"blocking factor\\\":0,\\\"delay factor\\\":1.0},\\\"nameSub\\\":\\\"Elective Hours\\\",\\\"id\\\":29,\\\"credits\\\":3,\\\"nameCanonical\\\":\\\"\\\"},{\\\"curriculum_requisites\\\":[],\\\"name\\\":\\\" \\\",\\\"metrics\\\":{\\\"complexity\\\":1.0,\\\"centrality\\\":0,\\\"blocking factor\\\":0,\\\"delay factor\\\":1.0},\\\"nameSub\\\":\\\"Science Elective\\\",\\\"id\\\":21,\\\"credits\\\":3,\\\"nameCanonical\\\":\\\"\\\"},{\\\"curriculum_requisites\\\":[{\\\"source_id\\\":35,\\\"target_id\\\":41,\\\"type\\\":\\\"CurriculumPrerequisite\\\"}],\\\"name\\\":\\\" \\\",\\\"metrics\\\":{\\\"complexity\\\":8.0,\\\"centrality\\\":0,\\\"blocking factor\\\":0,\\\"delay factor\\\":8.0},\\\"nameSub\\\":\\\"Senior Design Sequence\\\",\\\"id\\\":41,\\\"credits\\\":2,\\\"nameCanonical\\\":\\\"\\\"},{\\\"curriculum_requisites\\\":[],\\\"name\\\":\\\" \\\",\\\"metrics\\\":{\\\"complexity\\\":1.0,\\\"centrality\\\":0,\\\"blocking factor\\\":0,\\\"delay factor\\\":1.0},\\\"nameSub\\\":\\\"Humanities Elective\\\",\\\"id\\\":14,\\\"credits\\\":3,\\\"nameCanonical\\\":\\\"\\\"},{\\\"curriculum_requisites\\\":[],\\\"name\\\":\\\" \\\",\\\"metrics\\\":{\\\"complexity\\\":1.0,\\\"centrality\\\":0,\\\"blocking factor\\\":0,\\\"delay factor\\\":1.0},\\\"nameSub\\\":\\\"Social Science Elective\\\",\\\"id\\\":40,\\\"credits\\\":3,\\\"nameCanonical\\\":\\\"\\\"},{\\\"curriculum_requisites\\\":[],\\\"name\\\":\\\" \\\",\\\"metrics\\\":{\\\"complexity\\\":1.0,\\\"centrality\\\":0,\\\"blocking factor\\\":0,\\\"delay factor\\\":1.0},\\\"nameSub\\\":\\\"Humanities Elective\\\",\\\"id\\\":27,\\\"credits\\\":3,\\\"nameCanonical\\\":\\\"\\\"}],\\\"id\\\":8}],\\\"institution\\\":\\\"Georgia Institute of Technology\\\"}},\\\"*\\\"); window.removeEventListener(\\\"message\\\",window.messageReceived); window.messageReceived=(function (event){return (event.data.curriculum!==undefined) ? (WebIO.setval({\\\"name\\\":\\\"curriculum-data\\\",\\\"scope\\\":\\\"7846831319619930049\\\",\\\"id\\\":\\\"17612623394043831427\\\",\\\"type\\\":\\\"observable\\\"},event.data.curriculum)) : undefined}); return window.addEventListener(\\\"message\\\",window.messageReceived)})\")), :style => Dict(:padding => \"0\", :height => \"100vh\", :margin => \"0\", :border => \"none\", :width => \"100%\"))), Dict{String, Tuple{Observables.AbstractObservable, Union{Nothing, Bool}}}(\"curriculum-data\" => (Observable{Dict{String, Any}} with 1 listeners. Value:\n",
       "Dict{String, Any}(\"options\" => Dict{String, Any}(\"hideTerms\" => false, \"edit\" => false), \"curriculum\" => Dict{String, Any}(\"name\" => \"Electrical Engineering - Electronic Devices and Circuit Technology\", \"dp_name\" => \"\", \"curriculum_terms\" => Dict{String, Any}[Dict(\"name\" => \"Term 1\", \"curriculum_items\" => Dict{String, Any}[Dict(\"curriculum_requisites\" => Dict{String, Any}[], \"name\" => \"ECE 3450\", \"metrics\" => Dict{String, Any}(\"complexity\" => 1.0, \"centrality\" => 0, \"blocking factor\" => 0, \"delay factor\" => 1.0), \"nameSub\" => \"\", \"id\" => 30, \"credits\" => 3, \"nameCanonical\" => \"\"), Dict(\"curriculum_requisites\" => Dict{String, Any}[], \"name\" => \" \", \"metrics\" => Dict{String, Any}(\"complexity\" => 1.0, \"centrality\" => 0, \"blocking factor\" => 0, \"delay factor\" => 1.0), \"nameSub\" => \"Elective Hours\", \"id\" => 44, \"credits\" => 3, \"nameCanonical\" => \"\"), Dict(\"curriculum_requisites\" => Dict{String, Any}[], \"name\" => \"ECE 3400\", \"metrics\" => Dict{String, Any}(\"complexity\" => 1.0, \"centrality\" => 0, \"blocking factor\" => 0, \"delay factor\" => 1.0), \"nameSub\" => \"\", \"id\" => 31, \"credits\" => 3, \"nameCanonical\" => \"\"), Dict(\"curriculum_requisites\" => Dict{String, Any}[], \"name\" => \"ENGL 1101\", \"metrics\" => Dict{String, Any}(\"complexity\" => 3.0, \"centrality\" => 0, \"blocking factor\" => 1, \"delay factor\" => 2.0), \"nameSub\" => \"English Composition I\", \"id\" => 4, \"credits\" => 3, \"nameCanonical\" => \"\"), Dict(\"curriculum_requisites\" => Dict{String, Any}[], \"name\" => \" \", \"metrics\" => Dict{String, Any}(\"complexity\" => 1.0, \"centrality\" => 0, \"blocking factor\" => 0, \"delay factor\" => 1.0), \"nameSub\" => \"Elective Hours\", \"id\" => 33, \"credits\" => 3, \"nameCanonical\" => \"\"), Dict(\"curriculum_requisites\" => Dict{String, Any}[], \"name\" => \"APPH 1040\", \"metrics\" => Dict{String, Any}(\"complexity\" => 1.0, \"centrality\" => 0, \"blocking factor\" => 0, \"delay factor\" => 1.0), \"nameSub\" => \"\", \"id\" => 26, \"credits\" => 2, \"nameCanonical\" => \"\")], \"id\" => 1), Dict(\"name\" => \"Term 2\", \"curriculum_items\" => Dict{String, Any}[Dict(\"curriculum_requisites\" => Dict{String, Any}[], \"name\" => \"MATH 1551\", \"metrics\" => Dict{String, Any}(\"complexity\" => 27.0, \"centrality\" => 0, \"blocking factor\" => 19, \"delay factor\" => 8.0), \"nameSub\" => \"Differential Calculus\", \"id\" => 5, \"credits\" => 2, \"nameCanonical\" => \"\"), Dict(\"curriculum_requisites\" => Dict{String, Any}[Dict(\"source_id\" => 5, \"target_id\" => 6, \"type\" => \"CurriculumCorequisite\")], \"name\" => \"MATH 1554\", \"metrics\" => Dict{String, Any}(\"complexity\" => 19.0, \"centrality\" => 55, \"blocking factor\" => 12, \"delay factor\" => 7.0), \"nameSub\" => \"Linear Algebra\", \"id\" => 6, \"credits\" => 4, \"nameCanonical\" => \"\"), Dict(\"curriculum_requisites\" => Dict{String, Any}[], \"name\" => \"ECE 4452\", \"metrics\" => Dict{String, Any}(\"complexity\" => 1.0, \"centrality\" => 0, \"blocking factor\" => 0, \"delay factor\" => 1.0), \"nameSub\" => \"\", \"id\" => 38, \"credits\" => 3, \"nameCanonical\" => \"\"), Dict(\"curriculum_requisites\" => Dict{String, Any}[Dict(\"source_id\" => 4, \"target_id\" => 8, \"type\" => \"CurriculumPrerequisite\")], \"name\" => \"ENGL 1102\", \"metrics\" => Dict{String, Any}(\"complexity\" => 2.0, \"centrality\" => 0, \"blocking factor\" => 0, \"delay factor\" => 2.0), \"nameSub\" => \"English Composition II\", \"id\" => 8, \"credits\" => 3, \"nameCanonical\" => \"\")], \"id\" => 2), Dict(\"name\" => \"Term 3\", \"curriculum_items\" => Dict{String, Any}[Dict(\"curriculum_requisites\" => Dict{String, Any}[], \"name\" => \" \", \"metrics\" => Dict{String, Any}(\"complexity\" => 1.0, \"centrality\" => 0, \"blocking factor\" => 0, \"delay factor\" => 1.0), \"nameSub\" => \"Social Science Elective\", \"id\" => 32, \"credits\" => 3, \"nameCanonical\" => \"\"), Dict(\"curriculum_requisites\" => Dict{String, Any}[Dict(\"source_id\" => 5, \"target_id\" => 9, \"type\" => \"CurriculumPrerequisite\")], \"name\" => \"MATH 1552\", \"metrics\" => Dict{String, Any}(\"complexity\" => 25.0, \"centrality\" => 111, \"blocking factor\" => 17, \"delay factor\" => 8.0), \"nameSub\" => \"Integral Calculus\", \"id\" => 9, \"credits\" => 4, \"nameCanonical\" => \"\"), Dict(\"curriculum_requisites\" => Dict{String, Any}[], \"name\" => \"ECE 3005\", \"metrics\" => Dict{String, Any}(\"complexity\" => 1.0, \"centrality\" => 0, \"blocking factor\" => 0, \"delay factor\" => 1.0), \"nameSub\" => \"\", \"id\" => 28, \"credits\" => 1, \"nameCanonical\" => \"\"), Dict(\"curriculum_requisites\" => Dict{String, Any}[], \"name\" => \"ECE 1100\", \"metrics\" => Dict{String, Any}(\"complexity\" => 1.0, \"centrality\" => 0, \"blocking factor\" => 0, \"delay factor\" => 1.0), \"nameSub\" => \"ECE Discovery Studio\", \"id\" => 3, \"credits\" => 1, \"nameCanonical\" => \"\"), Dict(\"curriculum_requisites\" => Dict{String, Any}[], \"name\" => \"CS 1301\", \"metrics\" => Dict{String, Any}(\"complexity\" => 16.0, \"centrality\" => 0, \"blocking factor\" => 10, \"delay factor\" => 6.0), \"nameSub\" => \"Intro to Computing\", \"id\" => 2, \"credits\" => 3, \"nameCanonical\" => \"\"), Dict(\"curriculum_requisites\" => Dict{String, Any}[Dict(\"source_id\" => 9, \"target_id\" => 10, \"type\" => \"CurriculumCorequisite\")], \"name\" => \"PHYS  2211\", \"metrics\" => Dict{String, Any}(\"complexity\" => 20.0, \"centrality\" => 46, \"blocking factor\" => 12, \"delay factor\" => 8.0), \"nameSub\" => \"Intro Physics 1\", \"id\" => 10, \"credits\" => 4, \"nameCanonical\" => \"\")], \"id\" => 3), Dict(\"name\" => \"Term 4\", \"curriculum_items\" => Dict{String, Any}[Dict(\"curriculum_requisites\" => Dict{String, Any}[Dict(\"source_id\" => 10, \"target_id\" => 16, \"type\" => \"CurriculumPrerequisite\")], \"name\" => \"PHYS  2212\", \"metrics\" => Dict{String, Any}(\"complexity\" => 19.0, \"centrality\" => 46, \"blocking factor\" => 11, \"delay factor\" => 8.0), \"nameSub\" => \"Intro. Physics 2\", \"id\" => 16, \"credits\" => 4, \"nameCanonical\" => \"\"), Dict(\"curriculum_requisites\" => Dict{String, Any}[Dict(\"source_id\" => 9, \"target_id\" => 20, \"type\" => \"CurriculumPrerequisite\")], \"name\" => \"MATH 2551\", \"metrics\" => Dict{String, Any}(\"complexity\" => 5.0, \"centrality\" => 4, \"blocking factor\" => 1, \"delay factor\" => 4.0), \"nameSub\" => \"Multivariate Calculus\", \"id\" => 20, \"credits\" => 4, \"nameCanonical\" => \"\"), Dict(\"curriculum_requisites\" => Dict{String, Any}[Dict(\"source_id\" => 2, \"target_id\" => 12, \"type\" => \"CurriculumPrerequisite\"), Dict(\"source_id\" => 9, \"target_id\" => 12, \"type\" => \"CurriculumPrerequisite\")], \"name\" => \"ECE 2026\", \"metrics\" => Dict{String, Any}(\"complexity\" => 9.0, \"centrality\" => 11, \"blocking factor\" => 3, \"delay factor\" => 6.0), \"nameSub\" => \"Intro. to Signal Processing\", \"id\" => 12, \"credits\" => 3, \"nameCanonical\" => \"\"), Dict(\"curriculum_requisites\" => Dict{String, Any}[Dict(\"source_id\" => 2, \"target_id\" => 7, \"type\" => \"CurriculumPrerequisite\")], \"name\" => \"ECE 2020\", \"metrics\" => Dict{String, Any}(\"complexity\" => 11.0, \"centrality\" => 41, \"blocking factor\" => 5, \"delay factor\" => 6.0), \"nameSub\" => \"Fund. of Digital System Design\", \"id\" => 7, \"credits\" => 3, \"nameCanonical\" => \"\"), Dict(\"curriculum_requisites\" => Dict{String, Any}[Dict(\"source_id\" => 6, \"target_id\" => 15, \"type\" => \"CurriculumPrerequisite\"), Dict(\"source_id\" => 9, \"target_id\" => 15, \"type\" => \"CurriculumPrerequisite\")], \"name\" => \"MATH 2552\", \"metrics\" => Dict{String, Any}(\"complexity\" => 18.0, \"centrality\" => 110, \"blocking factor\" => 11, \"delay factor\" => 7.0), \"nameSub\" => \"Differential Equations\", \"id\" => 15, \"credits\" => 4, \"nameCanonical\" => \"\")], \"id\" => 4), Dict(\"name\" => \"Term 5\", \"curriculum_items\" => Dict{String, Any}[Dict(\"curriculum_requisites\" => Dict{String, Any}[Dict(\"source_id\" => 16, \"target_id\" => 19, \"type\" => \"CurriculumPrerequisite\"), Dict(\"source_id\" => 15, \"target_id\" => 19, \"type\" => \"CurriculumPrerequisite\")], \"name\" => \"ECE 2040\", \"metrics\" => Dict{String, Any}(\"complexity\" => 18.0, \"centrality\" => 124, \"blocking factor\" => 10, \"delay factor\" => 8.0), \"nameSub\" => \"Circuit Analysis\", \"id\" => 19, \"credits\" => 3, \"nameCanonical\" => \"\"), Dict(\"curriculum_requisites\" => Dict{String, Any}[Dict(\"source_id\" => 7, \"target_id\" => 17, \"type\" => \"CurriculumPrerequisite\"), Dict(\"source_id\" => 18, \"target_id\" => 17, \"type\" => \"CurriculumCorequisite\")], \"name\" => \"ECE 2031\", \"metrics\" => Dict{String, Any}(\"complexity\" => 9.0, \"centrality\" => 31, \"blocking factor\" => 3, \"delay factor\" => 6.0), \"nameSub\" => \"Digital Design Lab\", \"id\" => 17, \"credits\" => 2, \"nameCanonical\" => \"\"), Dict(\"curriculum_requisites\" => Dict{String, Any}[], \"name\" => \"CHEM 1310\", \"metrics\" => Dict{String, Any}(\"complexity\" => 6.0, \"centrality\" => 0, \"blocking factor\" => 3, \"delay factor\" => 3.0), \"nameSub\" => \"General Chemistry\", \"id\" => 1, \"credits\" => 4, \"nameCanonical\" => \"\"), Dict(\"curriculum_requisites\" => Dict{String, Any}[Dict(\"source_id\" => 20, \"target_id\" => 25, \"type\" => \"CurriculumPrerequisite\")], \"name\" => \" \", \"metrics\" => Dict{String, Any}(\"complexity\" => 4.0, \"centrality\" => 0, \"blocking factor\" => 0, \"delay factor\" => 4.0), \"nameSub\" => \"Prob & Stat Elective\", \"id\" => 25, \"credits\" => 3, \"nameCanonical\" => \"\"), Dict(\"curriculum_requisites\" => Dict{String, Any}[Dict(\"source_id\" => 7, \"target_id\" => 18, \"type\" => \"CurriculumPrerequisite\")], \"name\" => \"ECE 2035\", \"metrics\" => Dict{String, Any}(\"complexity\" => 10.0, \"centrality\" => 27, \"blocking factor\" => 4, \"delay factor\" => 6.0), \"nameSub\" => \"Programming Elective\", \"id\" => 18, \"credits\" => 4, \"nameCanonical\" => \"\")], \"id\" => 5), Dict(\"name\" => \"Term 6\", \"curriculum_items\" => Dict{String, Any}[Dict(\"curriculum_requisites\" => Dict{String, Any}[Dict(\"source_id\" => 15, \"target_id\" => 24, \"type\" => \"CurriculumPrerequisite\"), Dict(\"source_id\" => 12, \"target_id\" => 24, \"type\" => \"CurriculumPrerequisite\"), Dict(\"source_id\" => 19, \"target_id\" => 24, \"type\" => \"CurriculumPrerequisite\")], \"name\" => \"ECE 3025\", \"metrics\" => Dict{String, Any}(\"complexity\" => 10.0, \"centrality\" => 45, \"blocking factor\" => 2, \"delay factor\" => 8.0), \"nameSub\" => \"Electromagnetics\", \"id\" => 24, \"credits\" => 3, \"nameCanonical\" => \"\"), Dict(\"curriculum_requisites\" => Dict{String, Any}[Dict(\"source_id\" => 19, \"target_id\" => 37, \"type\" => \"CurriculumPrerequisite\")], \"name\" => \" \", \"metrics\" => Dict{String, Any}(\"complexity\" => 6.0, \"centrality\" => 0, \"blocking factor\" => 0, \"delay factor\" => 6.0), \"nameSub\" => \"ECE 3000/4000 Elective\", \"id\" => 37, \"credits\" => 3, \"nameCanonical\" => \"\"), Dict(\"curriculum_requisites\" => Dict{String, Any}[Dict(\"source_id\" => 22, \"target_id\" => 23, \"type\" => \"CurriculumCorequisite\"), Dict(\"source_id\" => 17, \"target_id\" => 23, \"type\" => \"CurriculumPrerequisite\")], \"name\" => \"ECE 3043\", \"metrics\" => Dict{String, Any}(\"complexity\" => 7.0, \"centrality\" => 0, \"blocking factor\" => 0, \"delay factor\" => 7.0), \"nameSub\" => \"Measurements, Circuits and Microelectronics Lab\", \"id\" => 23, \"credits\" => 2, \"nameCanonical\" => \"\"), Dict(\"curriculum_requisites\" => Dict{String, Any}[Dict(\"source_id\" => 15, \"target_id\" => 22, \"type\" => \"CurriculumPrerequisite\"), Dict(\"source_id\" => 18, \"target_id\" => 22, \"type\" => \"CurriculumPrerequisite\"), Dict(\"source_id\" => 17, \"target_id\" => 22, \"type\" => \"CurriculumPrerequisite\"), Dict(\"source_id\" => 1, \"target_id\" => 22, \"type\" => \"CurriculumPrerequisite\"), Dict(\"source_id\" => 19, \"target_id\" => 22, \"type\" => \"CurriculumPrerequisite\")], \"name\" => \"ECE 3040\", \"metrics\" => Dict{String, Any}(\"complexity\" => 9.0, \"centrality\" => 96, \"blocking factor\" => 2, \"delay factor\" => 7.0), \"nameSub\" => \"Microelectronic Circuits\", \"id\" => 22, \"credits\" => 4, \"nameCanonical\" => \"\"), Dict(\"curriculum_requisites\" => Dict{String, Any}[Dict(\"source_id\" => 19, \"target_id\" => 43, \"type\" => \"CurriculumPrerequisite\")], \"name\" => \" \", \"metrics\" => Dict{String, Any}(\"complexity\" => 6.0, \"centrality\" => 0, \"blocking factor\" => 0, \"delay factor\" => 6.0), \"nameSub\" => \"ECE 3000/4000 Elective\", \"id\" => 43, \"credits\" => 3, \"nameCanonical\" => \"\"), Dict(\"curriculum_requisites\" => Dict{String, Any}[Dict(\"source_id\" => 19, \"target_id\" => 42, \"type\" => \"CurriculumPrerequisite\")], \"name\" => \" \", \"metrics\" => Dict{String, Any}(\"complexity\" => 6.0, \"centrality\" => 0, \"blocking factor\" => 0, \"delay factor\" => 6.0), \"nameSub\" => \"ECE 3000/4000 Elective\", \"id\" => 42, \"credits\" => 3, \"nameCanonical\" => \"\")], \"id\" => 6), Dict(\"name\" => \"Term 7\", \"curriculum_items\" => Dict{String, Any}[Dict(\"curriculum_requisites\" => Dict{String, Any}[Dict(\"source_id\" => 24, \"target_id\" => 35, \"type\" => \"CurriculumPrerequisite\")], \"name\" => \" \", \"metrics\" => Dict{String, Any}(\"complexity\" => 9.0, \"centrality\" => 45, \"blocking factor\" => 1, \"delay factor\" => 8.0), \"nameSub\" => \"Senior Design Sequence\", \"id\" => 35, \"credits\" => 1, \"nameCanonical\" => \"\"), Dict(\"curriculum_requisites\" => Dict{String, Any}[Dict(\"source_id\" => 19, \"target_id\" => 45, \"type\" => \"CurriculumPrerequisite\")], \"name\" => \" \", \"metrics\" => Dict{String, Any}(\"complexity\" => 6.0, \"centrality\" => 0, \"blocking factor\" => 0, \"delay factor\" => 6.0), \"nameSub\" => \"Circuit Technologies Topics\", \"id\" => 45, \"credits\" => 3, \"nameCanonical\" => \"\"), Dict(\"curriculum_requisites\" => Dict{String, Any}[], \"name\" => \" \", \"metrics\" => Dict{String, Any}(\"complexity\" => 1.0, \"centrality\" => 0, \"blocking factor\" => 0, \"delay factor\" => 1.0), \"nameSub\" => \"Econ/Social Science Elective\", \"id\" => 13, \"credits\" => 3, \"nameCanonical\" => \"\"), Dict(\"curriculum_requisites\" => Dict{String, Any}[], \"name\" => \" \", \"metrics\" => Dict{String, Any}(\"complexity\" => 1.0, \"centrality\" => 0, \"blocking factor\" => 0, \"delay factor\" => 1.0), \"nameSub\" => \"History/Government Elective\", \"id\" => 11, \"credits\" => 3, \"nameCanonical\" => \"\"), Dict(\"curriculum_requisites\" => Dict{String, Any}[Dict(\"source_id\" => 22, \"target_id\" => 36, \"type\" => \"CurriculumPrerequisite\")], \"name\" => \" \", \"metrics\" => Dict{String, Any}(\"complexity\" => 7.0, \"centrality\" => 0, \"blocking factor\" => 0, \"delay factor\" => 7.0), \"nameSub\" => \"Electronic Devices Topics\", \"id\" => 36, \"credits\" => 3, \"nameCanonical\" => \"\"), Dict(\"curriculum_requisites\" => Dict{String, Any}[], \"name\" => \" \", \"metrics\" => Dict{String, Any}(\"complexity\" => 1.0, \"centrality\" => 0, \"blocking factor\" => 0, \"delay factor\" => 1.0), \"nameSub\" => \"Elective Hours\", \"id\" => 39, \"credits\" => 2, \"nameCanonical\" => \"\")], \"id\" => 7), Dict(\"name\" => \"Term 8\", \"curriculum_items\" => Dict{String, Any}[Dict(\"curriculum_requisites\" => Dict{String, Any}[], \"name\" => \" \", \"metrics\" => Dict{String, Any}(\"complexity\" => 1.0, \"centrality\" => 0, \"blocking factor\" => 0, \"delay factor\" => 1.0), \"nameSub\" => \"Elective Hours\", \"id\" => 29, \"credits\" => 3, \"nameCanonical\" => \"\"), Dict(\"curriculum_requisites\" => Dict{String, Any}[], \"name\" => \" \", \"metrics\" => Dict{String, Any}(\"complexity\" => 1.0, \"centrality\" => 0, \"blocking factor\" => 0, \"delay factor\" => 1.0), \"nameSub\" => \"Science Elective\", \"id\" => 21, \"credits\" => 3, \"nameCanonical\" => \"\"), Dict(\"curriculum_requisites\" => Dict{String, Any}[Dict(\"source_id\" => 35, \"target_id\" => 41, \"type\" => \"CurriculumPrerequisite\")], \"name\" => \" \", \"metrics\" => Dict{String, Any}(\"complexity\" => 8.0, \"centrality\" => 0, \"blocking factor\" => 0, \"delay factor\" => 8.0), \"nameSub\" => \"Senior Design Sequence\", \"id\" => 41, \"credits\" => 2, \"nameCanonical\" => \"\"), Dict(\"curriculum_requisites\" => Dict{String, Any}[], \"name\" => \" \", \"metrics\" => Dict{String, Any}(\"complexity\" => 1.0, \"centrality\" => 0, \"blocking factor\" => 0, \"delay factor\" => 1.0), \"nameSub\" => \"Humanities Elective\", \"id\" => 14, \"credits\" => 3, \"nameCanonical\" => \"\"), Dict(\"curriculum_requisites\" => Dict{String, Any}[], \"name\" => \" \", \"metrics\" => Dict{String, Any}(\"complexity\" => 1.0, \"centrality\" => 0, \"blocking factor\" => 0, \"delay factor\" => 1.0), \"nameSub\" => \"Social Science Elective\", \"id\" => 40, \"credits\" => 3, \"nameCanonical\" => \"\"), Dict(\"curriculum_requisites\" => Dict{String, Any}[], \"name\" => \" \", \"metrics\" => Dict{String, Any}(\"complexity\" => 1.0, \"centrality\" => 0, \"blocking factor\" => 0, \"delay factor\" => 1.0), \"nameSub\" => \"Humanities Elective\", \"id\" => 27, \"credits\" => 3, \"nameCanonical\" => \"\")], \"id\" => 8)], \"institution\" => \"Georgia Institute of Technology\")), nothing)), Set{String}(), nothing, WebIO.Asset[], Dict{Any, Any}(), WebIO.ConnectionPool(Channel{Any}(32), Set{WebIO.AbstractConnection}(), Condition(Base.InvasiveLinkedList{Task}(Task (runnable) @0x000000017f699660, Task (runnable) @0x000000017f699660), Base.AlwaysLockedST(1))), WebIO.JSString[])"
      ]
     },
     "execution_count": 17,
     "metadata": {
      "application/vnd.webio.node+json": {
       "kernelId": "e72fa789-b6e6-4768-b9aa-a2b82d1046cf"
      }
     },
     "output_type": "execute_result"
    }
   ],
   "source": [
    "EE_new_2 = optimize_plan(EE_plan.curriculum, 8, 12, 18, req_distance_obj);\n",
    "visualize(EE_new_2, notebook=true)"
   ]
  },
  {
   "cell_type": "code",
   "execution_count": 18,
   "metadata": {},
   "outputs": [
    {
     "name": "stdout",
     "output_type": "stream",
     "text": [
      "\n",
      "Curriculum: Electrical Engineering - Electronic Devices and Circuit Technology\n",
      "Degree Plan: \n",
      "  total credit hours = 129\n",
      "  number of terms = 8\n",
      "  max. credits in a term = 18, in term 4\n",
      "  min. credits in a term = 12, in term 2\n",
      "  avg. credits per term = 16.125, with std. dev. = 1.8328597873268975\n",
      "\n"
     ]
    }
   ],
   "source": [
    "metrics = basic_metrics(EE_new_2)\n",
    "println(String(take!(metrics)))"
   ]
  },
  {
   "cell_type": "code",
   "execution_count": 44,
   "metadata": {},
   "outputs": [
    {
     "name": "stdout",
     "output_type": "stream",
     "text": [
      "Academic license - for non-commercial use only\n",
      "An optimal solution was found with objective value = 14.0\n"
     ]
    },
    {
     "data": {
      "application/vnd.webio.node+json": {
       "children": [
        {
         "children": [
          ""
         ],
         "instanceArgs": {
          "namespace": "html",
          "tag": "iframe"
         },
         "nodeType": "DOM",
         "props": {
          "events": {
           "load": "(function (){this.contentWindow.postMessage({\"options\":{\"hideTerms\":false,\"edit\":false},\"curriculum\":{\"name\":\"Electrical Engineering - Electronic Devices and Circuit Technology\",\"dp_name\":\"\",\"curriculum_terms\":[{\"name\":\"Term 1\",\"curriculum_items\":[{\"curriculum_requisites\":[],\"name\":\"MATH 1551\",\"metrics\":{\"complexity\":27.0,\"centrality\":0,\"blocking factor\":19,\"delay factor\":8.0},\"nameSub\":\"Differential Calculus\",\"id\":5,\"credits\":2,\"nameCanonical\":\"\"},{\"curriculum_requisites\":[{\"source_id\":5,\"target_id\":6,\"type\":\"CurriculumCorequisite\"}],\"name\":\"MATH 1554\",\"metrics\":{\"complexity\":19.0,\"centrality\":55,\"blocking factor\":12,\"delay factor\":7.0},\"nameSub\":\"Linear Algebra\",\"id\":6,\"credits\":4,\"nameCanonical\":\"\"},{\"curriculum_requisites\":[],\"name\":\"ENGL 1101\",\"metrics\":{\"complexity\":3.0,\"centrality\":0,\"blocking factor\":1,\"delay factor\":2.0},\"nameSub\":\"English Composition I\",\"id\":4,\"credits\":3,\"nameCanonical\":\"\"},{\"curriculum_requisites\":[],\"name\":\"ECE 3005\",\"metrics\":{\"complexity\":1.0,\"centrality\":0,\"blocking factor\":0,\"delay factor\":1.0},\"nameSub\":\"\",\"id\":28,\"credits\":1,\"nameCanonical\":\"\"},{\"curriculum_requisites\":[],\"name\":\" \",\"metrics\":{\"complexity\":1.0,\"centrality\":0,\"blocking factor\":0,\"delay factor\":1.0},\"nameSub\":\"History/Government Elective\",\"id\":11,\"credits\":3,\"nameCanonical\":\"\"},{\"curriculum_requisites\":[],\"name\":\" \",\"metrics\":{\"complexity\":1.0,\"centrality\":0,\"blocking factor\":0,\"delay factor\":1.0},\"nameSub\":\"Social Science Elective\",\"id\":40,\"credits\":3,\"nameCanonical\":\"\"}],\"id\":1},{\"name\":\"Term 2\",\"curriculum_items\":[{\"curriculum_requisites\":[{\"source_id\":5,\"target_id\":9,\"type\":\"CurriculumPrerequisite\"}],\"name\":\"MATH 1552\",\"metrics\":{\"complexity\":25.0,\"centrality\":111,\"blocking factor\":17,\"delay factor\":8.0},\"nameSub\":\"Integral Calculus\",\"id\":9,\"credits\":4,\"nameCanonical\":\"\"},{\"curriculum_requisites\":[{\"source_id\":4,\"target_id\":8,\"type\":\"CurriculumPrerequisite\"}],\"name\":\"ENGL 1102\",\"metrics\":{\"complexity\":2.0,\"centrality\":0,\"blocking factor\":0,\"delay factor\":2.0},\"nameSub\":\"English Composition II\",\"id\":8,\"credits\":3,\"nameCanonical\":\"\"},{\"curriculum_requisites\":[],\"name\":\" \",\"metrics\":{\"complexity\":1.0,\"centrality\":0,\"blocking factor\":0,\"delay factor\":1.0},\"nameSub\":\"Elective Hours\",\"id\":39,\"credits\":2,\"nameCanonical\":\"\"},{\"curriculum_requisites\":[],\"name\":\"CS 1301\",\"metrics\":{\"complexity\":16.0,\"centrality\":0,\"blocking factor\":10,\"delay factor\":6.0},\"nameSub\":\"Intro to Computing\",\"id\":2,\"credits\":3,\"nameCanonical\":\"\"},{\"curriculum_requisites\":[{\"source_id\":9,\"target_id\":10,\"type\":\"CurriculumCorequisite\"}],\"name\":\"PHYS  2211\",\"metrics\":{\"complexity\":20.0,\"centrality\":46,\"blocking factor\":12,\"delay factor\":8.0},\"nameSub\":\"Intro Physics 1\",\"id\":10,\"credits\":4,\"nameCanonical\":\"\"}],\"id\":2},{\"name\":\"Term 3\",\"curriculum_items\":[{\"curriculum_requisites\":[{\"source_id\":10,\"target_id\":16,\"type\":\"CurriculumPrerequisite\"}],\"name\":\"PHYS  2212\",\"metrics\":{\"complexity\":19.0,\"centrality\":46,\"blocking factor\":11,\"delay factor\":8.0},\"nameSub\":\"Intro. Physics 2\",\"id\":16,\"credits\":4,\"nameCanonical\":\"\"},{\"curriculum_requisites\":[{\"source_id\":2,\"target_id\":12,\"type\":\"CurriculumPrerequisite\"},{\"source_id\":9,\"target_id\":12,\"type\":\"CurriculumPrerequisite\"}],\"name\":\"ECE 2026\",\"metrics\":{\"complexity\":9.0,\"centrality\":11,\"blocking factor\":3,\"delay factor\":6.0},\"nameSub\":\"Intro. to Signal Processing\",\"id\":12,\"credits\":3,\"nameCanonical\":\"\"},{\"curriculum_requisites\":[{\"source_id\":2,\"target_id\":7,\"type\":\"CurriculumPrerequisite\"}],\"name\":\"ECE 2020\",\"metrics\":{\"complexity\":11.0,\"centrality\":41,\"blocking factor\":5,\"delay factor\":6.0},\"nameSub\":\"Fund. of Digital System Design\",\"id\":7,\"credits\":3,\"nameCanonical\":\"\"},{\"curriculum_requisites\":[{\"source_id\":6,\"target_id\":15,\"type\":\"CurriculumPrerequisite\"},{\"source_id\":9,\"target_id\":15,\"type\":\"CurriculumPrerequisite\"}],\"name\":\"MATH 2552\",\"metrics\":{\"complexity\":18.0,\"centrality\":110,\"blocking factor\":11,\"delay factor\":7.0},\"nameSub\":\"Differential Equations\",\"id\":15,\"credits\":4,\"nameCanonical\":\"\"},{\"curriculum_requisites\":[],\"name\":\"APPH 1040\",\"metrics\":{\"complexity\":1.0,\"centrality\":0,\"blocking factor\":0,\"delay factor\":1.0},\"nameSub\":\"\",\"id\":26,\"credits\":2,\"nameCanonical\":\"\"}],\"id\":3},{\"name\":\"Term 4\",\"curriculum_items\":[{\"curriculum_requisites\":[{\"source_id\":16,\"target_id\":19,\"type\":\"CurriculumPrerequisite\"},{\"source_id\":15,\"target_id\":19,\"type\":\"CurriculumPrerequisite\"}],\"name\":\"ECE 2040\",\"metrics\":{\"complexity\":18.0,\"centrality\":124,\"blocking factor\":10,\"delay factor\":8.0},\"nameSub\":\"Circuit Analysis\",\"id\":19,\"credits\":3,\"nameCanonical\":\"\"},{\"curriculum_requisites\":[{\"source_id\":7,\"target_id\":17,\"type\":\"CurriculumPrerequisite\"},{\"source_id\":18,\"target_id\":17,\"type\":\"CurriculumCorequisite\"}],\"name\":\"ECE 2031\",\"metrics\":{\"complexity\":9.0,\"centrality\":31,\"blocking factor\":3,\"delay factor\":6.0},\"nameSub\":\"Digital Design Lab\",\"id\":17,\"credits\":2,\"nameCanonical\":\"\"},{\"curriculum_requisites\":[],\"name\":\"CHEM 1310\",\"metrics\":{\"complexity\":6.0,\"centrality\":0,\"blocking factor\":3,\"delay factor\":3.0},\"nameSub\":\"General Chemistry\",\"id\":1,\"credits\":4,\"nameCanonical\":\"\"},{\"curriculum_requisites\":[],\"name\":\" \",\"metrics\":{\"complexity\":1.0,\"centrality\":0,\"blocking factor\":0,\"delay factor\":1.0},\"nameSub\":\"Humanities Elective\",\"id\":14,\"credits\":3,\"nameCanonical\":\"\"},{\"curriculum_requisites\":[{\"source_id\":7,\"target_id\":18,\"type\":\"CurriculumPrerequisite\"}],\"name\":\"ECE 2035\",\"metrics\":{\"complexity\":10.0,\"centrality\":27,\"blocking factor\":4,\"delay factor\":6.0},\"nameSub\":\"Programming Elective\",\"id\":18,\"credits\":4,\"nameCanonical\":\"\"}],\"id\":4},{\"name\":\"Term 5\",\"curriculum_items\":[{\"curriculum_requisites\":[{\"source_id\":9,\"target_id\":20,\"type\":\"CurriculumPrerequisite\"}],\"name\":\"MATH 2551\",\"metrics\":{\"complexity\":5.0,\"centrality\":4,\"blocking factor\":1,\"delay factor\":4.0},\"nameSub\":\"Multivariate Calculus\",\"id\":20,\"credits\":4,\"nameCanonical\":\"\"},{\"curriculum_requisites\":[{\"source_id\":15,\"target_id\":24,\"type\":\"CurriculumPrerequisite\"},{\"source_id\":12,\"target_id\":24,\"type\":\"CurriculumPrerequisite\"},{\"source_id\":19,\"target_id\":24,\"type\":\"CurriculumPrerequisite\"}],\"name\":\"ECE 3025\",\"metrics\":{\"complexity\":10.0,\"centrality\":45,\"blocking factor\":2,\"delay factor\":8.0},\"nameSub\":\"Electromagnetics\",\"id\":24,\"credits\":3,\"nameCanonical\":\"\"},{\"curriculum_requisites\":[{\"source_id\":22,\"target_id\":23,\"type\":\"CurriculumCorequisite\"},{\"source_id\":17,\"target_id\":23,\"type\":\"CurriculumPrerequisite\"}],\"name\":\"ECE 3043\",\"metrics\":{\"complexity\":7.0,\"centrality\":0,\"blocking factor\":0,\"delay factor\":7.0},\"nameSub\":\"Measurements, Circuits and Microelectronics Lab\",\"id\":23,\"credits\":2,\"nameCanonical\":\"\"},{\"curriculum_requisites\":[{\"source_id\":15,\"target_id\":22,\"type\":\"CurriculumPrerequisite\"},{\"source_id\":18,\"target_id\":22,\"type\":\"CurriculumPrerequisite\"},{\"source_id\":17,\"target_id\":22,\"type\":\"CurriculumPrerequisite\"},{\"source_id\":1,\"target_id\":22,\"type\":\"CurriculumPrerequisite\"},{\"source_id\":19,\"target_id\":22,\"type\":\"CurriculumPrerequisite\"}],\"name\":\"ECE 3040\",\"metrics\":{\"complexity\":9.0,\"centrality\":96,\"blocking factor\":2,\"delay factor\":7.0},\"nameSub\":\"Microelectronic Circuits\",\"id\":22,\"credits\":4,\"nameCanonical\":\"\"},{\"curriculum_requisites\":[{\"source_id\":19,\"target_id\":43,\"type\":\"CurriculumPrerequisite\"}],\"name\":\" \",\"metrics\":{\"complexity\":6.0,\"centrality\":0,\"blocking factor\":0,\"delay factor\":6.0},\"nameSub\":\"ECE 3000/4000 Elective\",\"id\":43,\"credits\":3,\"nameCanonical\":\"\"}],\"id\":5},{\"name\":\"Term 6\",\"curriculum_items\":[{\"curriculum_requisites\":[{\"source_id\":24,\"target_id\":35,\"type\":\"CurriculumPrerequisite\"}],\"name\":\" \",\"metrics\":{\"complexity\":9.0,\"centrality\":45,\"blocking factor\":1,\"delay factor\":8.0},\"nameSub\":\"Senior Design Sequence\",\"id\":35,\"credits\":1,\"nameCanonical\":\"\"},{\"curriculum_requisites\":[{\"source_id\":19,\"target_id\":45,\"type\":\"CurriculumPrerequisite\"}],\"name\":\" \",\"metrics\":{\"complexity\":6.0,\"centrality\":0,\"blocking factor\":0,\"delay factor\":6.0},\"nameSub\":\"Circuit Technologies Topics\",\"id\":45,\"credits\":3,\"nameCanonical\":\"\"},{\"curriculum_requisites\":[{\"source_id\":19,\"target_id\":37,\"type\":\"CurriculumPrerequisite\"}],\"name\":\" \",\"metrics\":{\"complexity\":6.0,\"centrality\":0,\"blocking factor\":0,\"delay factor\":6.0},\"nameSub\":\"ECE 3000/4000 Elective\",\"id\":37,\"credits\":3,\"nameCanonical\":\"\"},{\"curriculum_requisites\":[{\"source_id\":22,\"target_id\":36,\"type\":\"CurriculumPrerequisite\"}],\"name\":\" \",\"metrics\":{\"complexity\":7.0,\"centrality\":0,\"blocking factor\":0,\"delay factor\":7.0},\"nameSub\":\"Electronic Devices Topics\",\"id\":36,\"credits\":3,\"nameCanonical\":\"\"},{\"curriculum_requisites\":[{\"source_id\":20,\"target_id\":25,\"type\":\"CurriculumPrerequisite\"}],\"name\":\" \",\"metrics\":{\"complexity\":4.0,\"centrality\":0,\"blocking factor\":0,\"delay factor\":4.0},\"nameSub\":\"Prob & Stat Elective\",\"id\":25,\"credits\":3,\"nameCanonical\":\"\"},{\"curriculum_requisites\":[{\"source_id\":19,\"target_id\":42,\"type\":\"CurriculumPrerequisite\"}],\"name\":\" \",\"metrics\":{\"complexity\":6.0,\"centrality\":0,\"blocking factor\":0,\"delay factor\":6.0},\"nameSub\":\"ECE 3000/4000 Elective\",\"id\":42,\"credits\":3,\"nameCanonical\":\"\"}],\"id\":6},{\"name\":\"Term 7\",\"curriculum_items\":[{\"curriculum_requisites\":[],\"name\":\" \",\"metrics\":{\"complexity\":1.0,\"centrality\":0,\"blocking factor\":0,\"delay factor\":1.0},\"nameSub\":\"Elective Hours\",\"id\":44,\"credits\":3,\"nameCanonical\":\"\"},{\"curriculum_requisites\":[],\"name\":\" \",\"metrics\":{\"complexity\":1.0,\"centrality\":0,\"blocking factor\":0,\"delay factor\":1.0},\"nameSub\":\"Econ/Social Science Elective\",\"id\":13,\"credits\":3,\"nameCanonical\":\"\"},{\"curriculum_requisites\":[],\"name\":\" \",\"metrics\":{\"complexity\":1.0,\"centrality\":0,\"blocking factor\":0,\"delay factor\":1.0},\"nameSub\":\"Science Elective\",\"id\":21,\"credits\":3,\"nameCanonical\":\"\"},{\"curriculum_requisites\":[{\"source_id\":35,\"target_id\":41,\"type\":\"CurriculumPrerequisite\"}],\"name\":\" \",\"metrics\":{\"complexity\":8.0,\"centrality\":0,\"blocking factor\":0,\"delay factor\":8.0},\"nameSub\":\"Senior Design Sequence\",\"id\":41,\"credits\":2,\"nameCanonical\":\"\"},{\"curriculum_requisites\":[],\"name\":\" \",\"metrics\":{\"complexity\":1.0,\"centrality\":0,\"blocking factor\":0,\"delay factor\":1.0},\"nameSub\":\"Elective Hours\",\"id\":33,\"credits\":3,\"nameCanonical\":\"\"},{\"curriculum_requisites\":[],\"name\":\" \",\"metrics\":{\"complexity\":1.0,\"centrality\":0,\"blocking factor\":0,\"delay factor\":1.0},\"nameSub\":\"Humanities Elective\",\"id\":27,\"credits\":3,\"nameCanonical\":\"\"}],\"id\":7},{\"name\":\"Term 8\",\"curriculum_items\":[{\"curriculum_requisites\":[],\"name\":\"ECE 3450\",\"metrics\":{\"complexity\":1.0,\"centrality\":0,\"blocking factor\":0,\"delay factor\":1.0},\"nameSub\":\"\",\"id\":30,\"credits\":3,\"nameCanonical\":\"\"},{\"curriculum_requisites\":[],\"name\":\" \",\"metrics\":{\"complexity\":1.0,\"centrality\":0,\"blocking factor\":0,\"delay factor\":1.0},\"nameSub\":\"Social Science Elective\",\"id\":32,\"credits\":3,\"nameCanonical\":\"\"},{\"curriculum_requisites\":[],\"name\":\"ECE 3400\",\"metrics\":{\"complexity\":1.0,\"centrality\":0,\"blocking factor\":0,\"delay factor\":1.0},\"nameSub\":\"\",\"id\":31,\"credits\":3,\"nameCanonical\":\"\"},{\"curriculum_requisites\":[],\"name\":\" \",\"metrics\":{\"complexity\":1.0,\"centrality\":0,\"blocking factor\":0,\"delay factor\":1.0},\"nameSub\":\"Elective Hours\",\"id\":29,\"credits\":3,\"nameCanonical\":\"\"},{\"curriculum_requisites\":[],\"name\":\"ECE 4452\",\"metrics\":{\"complexity\":1.0,\"centrality\":0,\"blocking factor\":0,\"delay factor\":1.0},\"nameSub\":\"\",\"id\":38,\"credits\":3,\"nameCanonical\":\"\"},{\"curriculum_requisites\":[],\"name\":\"ECE 1100\",\"metrics\":{\"complexity\":1.0,\"centrality\":0,\"blocking factor\":0,\"delay factor\":1.0},\"nameSub\":\"ECE Discovery Studio\",\"id\":3,\"credits\":1,\"nameCanonical\":\"\"}],\"id\":8}],\"institution\":\"Georgia Institute of Technology\"}},\"*\"); window.removeEventListener(\"message\",window.messageReceived); window.messageReceived=(function (event){return (event.data.curriculum!==undefined) ? (WebIO.setval({\"name\":\"curriculum-data\",\"scope\":\"223656398252086906\",\"id\":\"5525073433073970970\",\"type\":\"observable\"},event.data.curriculum)) : undefined}); return window.addEventListener(\"message\",window.messageReceived)})"
          },
          "id": "curriculum",
          "src": "https://curricula-api-embed.damoursystems.com/",
          "style": {
           "border": "none",
           "height": "100vh",
           "margin": "0",
           "padding": "0",
           "width": "100%"
          }
         },
         "type": "node"
        }
       ],
       "instanceArgs": {
        "handlers": {},
        "id": "223656398252086906",
        "imports": {
         "data": [],
         "type": "async_block"
        },
        "mount_callbacks": [],
        "observables": {
         "curriculum-data": {
          "id": "5525073433073970970",
          "sync": true,
          "value": {
           "curriculum": {
            "curriculum_terms": [
             {
              "curriculum_items": [
               {
                "credits": 2,
                "curriculum_requisites": [],
                "id": 5,
                "metrics": {
                 "blocking factor": 19,
                 "centrality": 0,
                 "complexity": 27,
                 "delay factor": 8
                },
                "name": "MATH 1551",
                "nameCanonical": "",
                "nameSub": "Differential Calculus"
               },
               {
                "credits": 4,
                "curriculum_requisites": [
                 {
                  "source_id": 5,
                  "target_id": 6,
                  "type": "CurriculumCorequisite"
                 }
                ],
                "id": 6,
                "metrics": {
                 "blocking factor": 12,
                 "centrality": 55,
                 "complexity": 19,
                 "delay factor": 7
                },
                "name": "MATH 1554",
                "nameCanonical": "",
                "nameSub": "Linear Algebra"
               },
               {
                "credits": 3,
                "curriculum_requisites": [],
                "id": 4,
                "metrics": {
                 "blocking factor": 1,
                 "centrality": 0,
                 "complexity": 3,
                 "delay factor": 2
                },
                "name": "ENGL 1101",
                "nameCanonical": "",
                "nameSub": "English Composition I"
               },
               {
                "credits": 1,
                "curriculum_requisites": [],
                "id": 28,
                "metrics": {
                 "blocking factor": 0,
                 "centrality": 0,
                 "complexity": 1,
                 "delay factor": 1
                },
                "name": "ECE 3005",
                "nameCanonical": "",
                "nameSub": ""
               },
               {
                "credits": 3,
                "curriculum_requisites": [],
                "id": 11,
                "metrics": {
                 "blocking factor": 0,
                 "centrality": 0,
                 "complexity": 1,
                 "delay factor": 1
                },
                "name": " ",
                "nameCanonical": "",
                "nameSub": "History/Government Elective"
               },
               {
                "credits": 3,
                "curriculum_requisites": [],
                "id": 40,
                "metrics": {
                 "blocking factor": 0,
                 "centrality": 0,
                 "complexity": 1,
                 "delay factor": 1
                },
                "name": " ",
                "nameCanonical": "",
                "nameSub": "Social Science Elective"
               }
              ],
              "id": 1,
              "name": "Term 1"
             },
             {
              "curriculum_items": [
               {
                "credits": 4,
                "curriculum_requisites": [
                 {
                  "source_id": 5,
                  "target_id": 9,
                  "type": "CurriculumPrerequisite"
                 }
                ],
                "id": 9,
                "metrics": {
                 "blocking factor": 17,
                 "centrality": 111,
                 "complexity": 25,
                 "delay factor": 8
                },
                "name": "MATH 1552",
                "nameCanonical": "",
                "nameSub": "Integral Calculus"
               },
               {
                "credits": 3,
                "curriculum_requisites": [
                 {
                  "source_id": 4,
                  "target_id": 8,
                  "type": "CurriculumPrerequisite"
                 }
                ],
                "id": 8,
                "metrics": {
                 "blocking factor": 0,
                 "centrality": 0,
                 "complexity": 2,
                 "delay factor": 2
                },
                "name": "ENGL 1102",
                "nameCanonical": "",
                "nameSub": "English Composition II"
               },
               {
                "credits": 2,
                "curriculum_requisites": [],
                "id": 39,
                "metrics": {
                 "blocking factor": 0,
                 "centrality": 0,
                 "complexity": 1,
                 "delay factor": 1
                },
                "name": " ",
                "nameCanonical": "",
                "nameSub": "Elective Hours"
               },
               {
                "credits": 3,
                "curriculum_requisites": [],
                "id": 2,
                "metrics": {
                 "blocking factor": 10,
                 "centrality": 0,
                 "complexity": 16,
                 "delay factor": 6
                },
                "name": "CS 1301",
                "nameCanonical": "",
                "nameSub": "Intro to Computing"
               },
               {
                "credits": 4,
                "curriculum_requisites": [
                 {
                  "source_id": 9,
                  "target_id": 10,
                  "type": "CurriculumCorequisite"
                 }
                ],
                "id": 10,
                "metrics": {
                 "blocking factor": 12,
                 "centrality": 46,
                 "complexity": 20,
                 "delay factor": 8
                },
                "name": "PHYS  2211",
                "nameCanonical": "",
                "nameSub": "Intro Physics 1"
               }
              ],
              "id": 2,
              "name": "Term 2"
             },
             {
              "curriculum_items": [
               {
                "credits": 4,
                "curriculum_requisites": [
                 {
                  "source_id": 10,
                  "target_id": 16,
                  "type": "CurriculumPrerequisite"
                 }
                ],
                "id": 16,
                "metrics": {
                 "blocking factor": 11,
                 "centrality": 46,
                 "complexity": 19,
                 "delay factor": 8
                },
                "name": "PHYS  2212",
                "nameCanonical": "",
                "nameSub": "Intro. Physics 2"
               },
               {
                "credits": 3,
                "curriculum_requisites": [
                 {
                  "source_id": 2,
                  "target_id": 12,
                  "type": "CurriculumPrerequisite"
                 },
                 {
                  "source_id": 9,
                  "target_id": 12,
                  "type": "CurriculumPrerequisite"
                 }
                ],
                "id": 12,
                "metrics": {
                 "blocking factor": 3,
                 "centrality": 11,
                 "complexity": 9,
                 "delay factor": 6
                },
                "name": "ECE 2026",
                "nameCanonical": "",
                "nameSub": "Intro. to Signal Processing"
               },
               {
                "credits": 3,
                "curriculum_requisites": [
                 {
                  "source_id": 2,
                  "target_id": 7,
                  "type": "CurriculumPrerequisite"
                 }
                ],
                "id": 7,
                "metrics": {
                 "blocking factor": 5,
                 "centrality": 41,
                 "complexity": 11,
                 "delay factor": 6
                },
                "name": "ECE 2020",
                "nameCanonical": "",
                "nameSub": "Fund. of Digital System Design"
               },
               {
                "credits": 4,
                "curriculum_requisites": [
                 {
                  "source_id": 6,
                  "target_id": 15,
                  "type": "CurriculumPrerequisite"
                 },
                 {
                  "source_id": 9,
                  "target_id": 15,
                  "type": "CurriculumPrerequisite"
                 }
                ],
                "id": 15,
                "metrics": {
                 "blocking factor": 11,
                 "centrality": 110,
                 "complexity": 18,
                 "delay factor": 7
                },
                "name": "MATH 2552",
                "nameCanonical": "",
                "nameSub": "Differential Equations"
               },
               {
                "credits": 2,
                "curriculum_requisites": [],
                "id": 26,
                "metrics": {
                 "blocking factor": 0,
                 "centrality": 0,
                 "complexity": 1,
                 "delay factor": 1
                },
                "name": "APPH 1040",
                "nameCanonical": "",
                "nameSub": ""
               }
              ],
              "id": 3,
              "name": "Term 3"
             },
             {
              "curriculum_items": [
               {
                "credits": 3,
                "curriculum_requisites": [
                 {
                  "source_id": 16,
                  "target_id": 19,
                  "type": "CurriculumPrerequisite"
                 },
                 {
                  "source_id": 15,
                  "target_id": 19,
                  "type": "CurriculumPrerequisite"
                 }
                ],
                "id": 19,
                "metrics": {
                 "blocking factor": 10,
                 "centrality": 124,
                 "complexity": 18,
                 "delay factor": 8
                },
                "name": "ECE 2040",
                "nameCanonical": "",
                "nameSub": "Circuit Analysis"
               },
               {
                "credits": 2,
                "curriculum_requisites": [
                 {
                  "source_id": 7,
                  "target_id": 17,
                  "type": "CurriculumPrerequisite"
                 },
                 {
                  "source_id": 18,
                  "target_id": 17,
                  "type": "CurriculumCorequisite"
                 }
                ],
                "id": 17,
                "metrics": {
                 "blocking factor": 3,
                 "centrality": 31,
                 "complexity": 9,
                 "delay factor": 6
                },
                "name": "ECE 2031",
                "nameCanonical": "",
                "nameSub": "Digital Design Lab"
               },
               {
                "credits": 4,
                "curriculum_requisites": [],
                "id": 1,
                "metrics": {
                 "blocking factor": 3,
                 "centrality": 0,
                 "complexity": 6,
                 "delay factor": 3
                },
                "name": "CHEM 1310",
                "nameCanonical": "",
                "nameSub": "General Chemistry"
               },
               {
                "credits": 3,
                "curriculum_requisites": [],
                "id": 14,
                "metrics": {
                 "blocking factor": 0,
                 "centrality": 0,
                 "complexity": 1,
                 "delay factor": 1
                },
                "name": " ",
                "nameCanonical": "",
                "nameSub": "Humanities Elective"
               },
               {
                "credits": 4,
                "curriculum_requisites": [
                 {
                  "source_id": 7,
                  "target_id": 18,
                  "type": "CurriculumPrerequisite"
                 }
                ],
                "id": 18,
                "metrics": {
                 "blocking factor": 4,
                 "centrality": 27,
                 "complexity": 10,
                 "delay factor": 6
                },
                "name": "ECE 2035",
                "nameCanonical": "",
                "nameSub": "Programming Elective"
               }
              ],
              "id": 4,
              "name": "Term 4"
             },
             {
              "curriculum_items": [
               {
                "credits": 4,
                "curriculum_requisites": [
                 {
                  "source_id": 9,
                  "target_id": 20,
                  "type": "CurriculumPrerequisite"
                 }
                ],
                "id": 20,
                "metrics": {
                 "blocking factor": 1,
                 "centrality": 4,
                 "complexity": 5,
                 "delay factor": 4
                },
                "name": "MATH 2551",
                "nameCanonical": "",
                "nameSub": "Multivariate Calculus"
               },
               {
                "credits": 3,
                "curriculum_requisites": [
                 {
                  "source_id": 15,
                  "target_id": 24,
                  "type": "CurriculumPrerequisite"
                 },
                 {
                  "source_id": 12,
                  "target_id": 24,
                  "type": "CurriculumPrerequisite"
                 },
                 {
                  "source_id": 19,
                  "target_id": 24,
                  "type": "CurriculumPrerequisite"
                 }
                ],
                "id": 24,
                "metrics": {
                 "blocking factor": 2,
                 "centrality": 45,
                 "complexity": 10,
                 "delay factor": 8
                },
                "name": "ECE 3025",
                "nameCanonical": "",
                "nameSub": "Electromagnetics"
               },
               {
                "credits": 2,
                "curriculum_requisites": [
                 {
                  "source_id": 22,
                  "target_id": 23,
                  "type": "CurriculumCorequisite"
                 },
                 {
                  "source_id": 17,
                  "target_id": 23,
                  "type": "CurriculumPrerequisite"
                 }
                ],
                "id": 23,
                "metrics": {
                 "blocking factor": 0,
                 "centrality": 0,
                 "complexity": 7,
                 "delay factor": 7
                },
                "name": "ECE 3043",
                "nameCanonical": "",
                "nameSub": "Measurements, Circuits and Microelectronics Lab"
               },
               {
                "credits": 4,
                "curriculum_requisites": [
                 {
                  "source_id": 15,
                  "target_id": 22,
                  "type": "CurriculumPrerequisite"
                 },
                 {
                  "source_id": 18,
                  "target_id": 22,
                  "type": "CurriculumPrerequisite"
                 },
                 {
                  "source_id": 17,
                  "target_id": 22,
                  "type": "CurriculumPrerequisite"
                 },
                 {
                  "source_id": 1,
                  "target_id": 22,
                  "type": "CurriculumPrerequisite"
                 },
                 {
                  "source_id": 19,
                  "target_id": 22,
                  "type": "CurriculumPrerequisite"
                 }
                ],
                "id": 22,
                "metrics": {
                 "blocking factor": 2,
                 "centrality": 96,
                 "complexity": 9,
                 "delay factor": 7
                },
                "name": "ECE 3040",
                "nameCanonical": "",
                "nameSub": "Microelectronic Circuits"
               },
               {
                "credits": 3,
                "curriculum_requisites": [
                 {
                  "source_id": 19,
                  "target_id": 43,
                  "type": "CurriculumPrerequisite"
                 }
                ],
                "id": 43,
                "metrics": {
                 "blocking factor": 0,
                 "centrality": 0,
                 "complexity": 6,
                 "delay factor": 6
                },
                "name": " ",
                "nameCanonical": "",
                "nameSub": "ECE 3000/4000 Elective"
               }
              ],
              "id": 5,
              "name": "Term 5"
             },
             {
              "curriculum_items": [
               {
                "credits": 1,
                "curriculum_requisites": [
                 {
                  "source_id": 24,
                  "target_id": 35,
                  "type": "CurriculumPrerequisite"
                 }
                ],
                "id": 35,
                "metrics": {
                 "blocking factor": 1,
                 "centrality": 45,
                 "complexity": 9,
                 "delay factor": 8
                },
                "name": " ",
                "nameCanonical": "",
                "nameSub": "Senior Design Sequence"
               },
               {
                "credits": 3,
                "curriculum_requisites": [
                 {
                  "source_id": 19,
                  "target_id": 45,
                  "type": "CurriculumPrerequisite"
                 }
                ],
                "id": 45,
                "metrics": {
                 "blocking factor": 0,
                 "centrality": 0,
                 "complexity": 6,
                 "delay factor": 6
                },
                "name": " ",
                "nameCanonical": "",
                "nameSub": "Circuit Technologies Topics"
               },
               {
                "credits": 3,
                "curriculum_requisites": [
                 {
                  "source_id": 19,
                  "target_id": 37,
                  "type": "CurriculumPrerequisite"
                 }
                ],
                "id": 37,
                "metrics": {
                 "blocking factor": 0,
                 "centrality": 0,
                 "complexity": 6,
                 "delay factor": 6
                },
                "name": " ",
                "nameCanonical": "",
                "nameSub": "ECE 3000/4000 Elective"
               },
               {
                "credits": 3,
                "curriculum_requisites": [
                 {
                  "source_id": 22,
                  "target_id": 36,
                  "type": "CurriculumPrerequisite"
                 }
                ],
                "id": 36,
                "metrics": {
                 "blocking factor": 0,
                 "centrality": 0,
                 "complexity": 7,
                 "delay factor": 7
                },
                "name": " ",
                "nameCanonical": "",
                "nameSub": "Electronic Devices Topics"
               },
               {
                "credits": 3,
                "curriculum_requisites": [
                 {
                  "source_id": 20,
                  "target_id": 25,
                  "type": "CurriculumPrerequisite"
                 }
                ],
                "id": 25,
                "metrics": {
                 "blocking factor": 0,
                 "centrality": 0,
                 "complexity": 4,
                 "delay factor": 4
                },
                "name": " ",
                "nameCanonical": "",
                "nameSub": "Prob & Stat Elective"
               },
               {
                "credits": 3,
                "curriculum_requisites": [
                 {
                  "source_id": 19,
                  "target_id": 42,
                  "type": "CurriculumPrerequisite"
                 }
                ],
                "id": 42,
                "metrics": {
                 "blocking factor": 0,
                 "centrality": 0,
                 "complexity": 6,
                 "delay factor": 6
                },
                "name": " ",
                "nameCanonical": "",
                "nameSub": "ECE 3000/4000 Elective"
               }
              ],
              "id": 6,
              "name": "Term 6"
             },
             {
              "curriculum_items": [
               {
                "credits": 3,
                "curriculum_requisites": [],
                "id": 44,
                "metrics": {
                 "blocking factor": 0,
                 "centrality": 0,
                 "complexity": 1,
                 "delay factor": 1
                },
                "name": " ",
                "nameCanonical": "",
                "nameSub": "Elective Hours"
               },
               {
                "credits": 3,
                "curriculum_requisites": [],
                "id": 13,
                "metrics": {
                 "blocking factor": 0,
                 "centrality": 0,
                 "complexity": 1,
                 "delay factor": 1
                },
                "name": " ",
                "nameCanonical": "",
                "nameSub": "Econ/Social Science Elective"
               },
               {
                "credits": 3,
                "curriculum_requisites": [],
                "id": 21,
                "metrics": {
                 "blocking factor": 0,
                 "centrality": 0,
                 "complexity": 1,
                 "delay factor": 1
                },
                "name": " ",
                "nameCanonical": "",
                "nameSub": "Science Elective"
               },
               {
                "credits": 2,
                "curriculum_requisites": [
                 {
                  "source_id": 35,
                  "target_id": 41,
                  "type": "CurriculumPrerequisite"
                 }
                ],
                "id": 41,
                "metrics": {
                 "blocking factor": 0,
                 "centrality": 0,
                 "complexity": 8,
                 "delay factor": 8
                },
                "name": " ",
                "nameCanonical": "",
                "nameSub": "Senior Design Sequence"
               },
               {
                "credits": 3,
                "curriculum_requisites": [],
                "id": 33,
                "metrics": {
                 "blocking factor": 0,
                 "centrality": 0,
                 "complexity": 1,
                 "delay factor": 1
                },
                "name": " ",
                "nameCanonical": "",
                "nameSub": "Elective Hours"
               },
               {
                "credits": 3,
                "curriculum_requisites": [],
                "id": 27,
                "metrics": {
                 "blocking factor": 0,
                 "centrality": 0,
                 "complexity": 1,
                 "delay factor": 1
                },
                "name": " ",
                "nameCanonical": "",
                "nameSub": "Humanities Elective"
               }
              ],
              "id": 7,
              "name": "Term 7"
             },
             {
              "curriculum_items": [
               {
                "credits": 3,
                "curriculum_requisites": [],
                "id": 30,
                "metrics": {
                 "blocking factor": 0,
                 "centrality": 0,
                 "complexity": 1,
                 "delay factor": 1
                },
                "name": "ECE 3450",
                "nameCanonical": "",
                "nameSub": ""
               },
               {
                "credits": 3,
                "curriculum_requisites": [],
                "id": 32,
                "metrics": {
                 "blocking factor": 0,
                 "centrality": 0,
                 "complexity": 1,
                 "delay factor": 1
                },
                "name": " ",
                "nameCanonical": "",
                "nameSub": "Social Science Elective"
               },
               {
                "credits": 3,
                "curriculum_requisites": [],
                "id": 31,
                "metrics": {
                 "blocking factor": 0,
                 "centrality": 0,
                 "complexity": 1,
                 "delay factor": 1
                },
                "name": "ECE 3400",
                "nameCanonical": "",
                "nameSub": ""
               },
               {
                "credits": 3,
                "curriculum_requisites": [],
                "id": 29,
                "metrics": {
                 "blocking factor": 0,
                 "centrality": 0,
                 "complexity": 1,
                 "delay factor": 1
                },
                "name": " ",
                "nameCanonical": "",
                "nameSub": "Elective Hours"
               },
               {
                "credits": 3,
                "curriculum_requisites": [],
                "id": 38,
                "metrics": {
                 "blocking factor": 0,
                 "centrality": 0,
                 "complexity": 1,
                 "delay factor": 1
                },
                "name": "ECE 4452",
                "nameCanonical": "",
                "nameSub": ""
               },
               {
                "credits": 1,
                "curriculum_requisites": [],
                "id": 3,
                "metrics": {
                 "blocking factor": 0,
                 "centrality": 0,
                 "complexity": 1,
                 "delay factor": 1
                },
                "name": "ECE 1100",
                "nameCanonical": "",
                "nameSub": "ECE Discovery Studio"
               }
              ],
              "id": 8,
              "name": "Term 8"
             }
            ],
            "dp_name": "",
            "institution": "Georgia Institute of Technology",
            "name": "Electrical Engineering - Electronic Devices and Circuit Technology"
           },
           "options": {
            "edit": false,
            "hideTerms": false
           }
          }
         }
        },
        "systemjs_options": null
       },
       "nodeType": "Scope",
       "props": {},
       "type": "node"
      },
      "text/html": [
       "<div\n",
       "    class=\"webio-mountpoint\"\n",
       "    data-webio-mountpoint=\"15687933152192807602\"\n",
       ">\n",
       "    <script>\n",
       "    if (window.require && require.defined && require.defined(\"nbextensions/webio-jupyter-notebook\")) {\n",
       "        console.log(\"Jupyter WebIO extension detected, not mounting.\");\n",
       "    } else if (window.WebIO) {\n",
       "        WebIO.mount(\n",
       "            document.querySelector('[data-webio-mountpoint=\"15687933152192807602\"]'),\n",
       "            {\"props\":{},\"nodeType\":\"Scope\",\"type\":\"node\",\"instanceArgs\":{\"imports\":{\"data\":[],\"type\":\"async_block\"},\"id\":\"223656398252086906\",\"handlers\":{},\"systemjs_options\":null,\"mount_callbacks\":[],\"observables\":{\"curriculum-data\":{\"sync\":true,\"id\":\"5525073433073970970\",\"value\":{\"options\":{\"hideTerms\":false,\"edit\":false},\"curriculum\":{\"name\":\"Electrical Engineering - Electronic Devices and Circuit Technology\",\"dp_name\":\"\",\"curriculum_terms\":[{\"name\":\"Term 1\",\"curriculum_items\":[{\"curriculum_requisites\":[],\"name\":\"MATH 1551\",\"metrics\":{\"complexity\":27.0,\"centrality\":0,\"blocking factor\":19,\"delay factor\":8.0},\"nameSub\":\"Differential Calculus\",\"id\":5,\"credits\":2,\"nameCanonical\":\"\"},{\"curriculum_requisites\":[{\"source_id\":5,\"target_id\":6,\"type\":\"CurriculumCorequisite\"}],\"name\":\"MATH 1554\",\"metrics\":{\"complexity\":19.0,\"centrality\":55,\"blocking factor\":12,\"delay factor\":7.0},\"nameSub\":\"Linear Algebra\",\"id\":6,\"credits\":4,\"nameCanonical\":\"\"},{\"curriculum_requisites\":[],\"name\":\"ENGL 1101\",\"metrics\":{\"complexity\":3.0,\"centrality\":0,\"blocking factor\":1,\"delay factor\":2.0},\"nameSub\":\"English Composition I\",\"id\":4,\"credits\":3,\"nameCanonical\":\"\"},{\"curriculum_requisites\":[],\"name\":\"ECE 3005\",\"metrics\":{\"complexity\":1.0,\"centrality\":0,\"blocking factor\":0,\"delay factor\":1.0},\"nameSub\":\"\",\"id\":28,\"credits\":1,\"nameCanonical\":\"\"},{\"curriculum_requisites\":[],\"name\":\" \",\"metrics\":{\"complexity\":1.0,\"centrality\":0,\"blocking factor\":0,\"delay factor\":1.0},\"nameSub\":\"History\\/Government Elective\",\"id\":11,\"credits\":3,\"nameCanonical\":\"\"},{\"curriculum_requisites\":[],\"name\":\" \",\"metrics\":{\"complexity\":1.0,\"centrality\":0,\"blocking factor\":0,\"delay factor\":1.0},\"nameSub\":\"Social Science Elective\",\"id\":40,\"credits\":3,\"nameCanonical\":\"\"}],\"id\":1},{\"name\":\"Term 2\",\"curriculum_items\":[{\"curriculum_requisites\":[{\"source_id\":5,\"target_id\":9,\"type\":\"CurriculumPrerequisite\"}],\"name\":\"MATH 1552\",\"metrics\":{\"complexity\":25.0,\"centrality\":111,\"blocking factor\":17,\"delay factor\":8.0},\"nameSub\":\"Integral Calculus\",\"id\":9,\"credits\":4,\"nameCanonical\":\"\"},{\"curriculum_requisites\":[{\"source_id\":4,\"target_id\":8,\"type\":\"CurriculumPrerequisite\"}],\"name\":\"ENGL 1102\",\"metrics\":{\"complexity\":2.0,\"centrality\":0,\"blocking factor\":0,\"delay factor\":2.0},\"nameSub\":\"English Composition II\",\"id\":8,\"credits\":3,\"nameCanonical\":\"\"},{\"curriculum_requisites\":[],\"name\":\" \",\"metrics\":{\"complexity\":1.0,\"centrality\":0,\"blocking factor\":0,\"delay factor\":1.0},\"nameSub\":\"Elective Hours\",\"id\":39,\"credits\":2,\"nameCanonical\":\"\"},{\"curriculum_requisites\":[],\"name\":\"CS 1301\",\"metrics\":{\"complexity\":16.0,\"centrality\":0,\"blocking factor\":10,\"delay factor\":6.0},\"nameSub\":\"Intro to Computing\",\"id\":2,\"credits\":3,\"nameCanonical\":\"\"},{\"curriculum_requisites\":[{\"source_id\":9,\"target_id\":10,\"type\":\"CurriculumCorequisite\"}],\"name\":\"PHYS  2211\",\"metrics\":{\"complexity\":20.0,\"centrality\":46,\"blocking factor\":12,\"delay factor\":8.0},\"nameSub\":\"Intro Physics 1\",\"id\":10,\"credits\":4,\"nameCanonical\":\"\"}],\"id\":2},{\"name\":\"Term 3\",\"curriculum_items\":[{\"curriculum_requisites\":[{\"source_id\":10,\"target_id\":16,\"type\":\"CurriculumPrerequisite\"}],\"name\":\"PHYS  2212\",\"metrics\":{\"complexity\":19.0,\"centrality\":46,\"blocking factor\":11,\"delay factor\":8.0},\"nameSub\":\"Intro. Physics 2\",\"id\":16,\"credits\":4,\"nameCanonical\":\"\"},{\"curriculum_requisites\":[{\"source_id\":2,\"target_id\":12,\"type\":\"CurriculumPrerequisite\"},{\"source_id\":9,\"target_id\":12,\"type\":\"CurriculumPrerequisite\"}],\"name\":\"ECE 2026\",\"metrics\":{\"complexity\":9.0,\"centrality\":11,\"blocking factor\":3,\"delay factor\":6.0},\"nameSub\":\"Intro. to Signal Processing\",\"id\":12,\"credits\":3,\"nameCanonical\":\"\"},{\"curriculum_requisites\":[{\"source_id\":2,\"target_id\":7,\"type\":\"CurriculumPrerequisite\"}],\"name\":\"ECE 2020\",\"metrics\":{\"complexity\":11.0,\"centrality\":41,\"blocking factor\":5,\"delay factor\":6.0},\"nameSub\":\"Fund. of Digital System Design\",\"id\":7,\"credits\":3,\"nameCanonical\":\"\"},{\"curriculum_requisites\":[{\"source_id\":6,\"target_id\":15,\"type\":\"CurriculumPrerequisite\"},{\"source_id\":9,\"target_id\":15,\"type\":\"CurriculumPrerequisite\"}],\"name\":\"MATH 2552\",\"metrics\":{\"complexity\":18.0,\"centrality\":110,\"blocking factor\":11,\"delay factor\":7.0},\"nameSub\":\"Differential Equations\",\"id\":15,\"credits\":4,\"nameCanonical\":\"\"},{\"curriculum_requisites\":[],\"name\":\"APPH 1040\",\"metrics\":{\"complexity\":1.0,\"centrality\":0,\"blocking factor\":0,\"delay factor\":1.0},\"nameSub\":\"\",\"id\":26,\"credits\":2,\"nameCanonical\":\"\"}],\"id\":3},{\"name\":\"Term 4\",\"curriculum_items\":[{\"curriculum_requisites\":[{\"source_id\":16,\"target_id\":19,\"type\":\"CurriculumPrerequisite\"},{\"source_id\":15,\"target_id\":19,\"type\":\"CurriculumPrerequisite\"}],\"name\":\"ECE 2040\",\"metrics\":{\"complexity\":18.0,\"centrality\":124,\"blocking factor\":10,\"delay factor\":8.0},\"nameSub\":\"Circuit Analysis\",\"id\":19,\"credits\":3,\"nameCanonical\":\"\"},{\"curriculum_requisites\":[{\"source_id\":7,\"target_id\":17,\"type\":\"CurriculumPrerequisite\"},{\"source_id\":18,\"target_id\":17,\"type\":\"CurriculumCorequisite\"}],\"name\":\"ECE 2031\",\"metrics\":{\"complexity\":9.0,\"centrality\":31,\"blocking factor\":3,\"delay factor\":6.0},\"nameSub\":\"Digital Design Lab\",\"id\":17,\"credits\":2,\"nameCanonical\":\"\"},{\"curriculum_requisites\":[],\"name\":\"CHEM 1310\",\"metrics\":{\"complexity\":6.0,\"centrality\":0,\"blocking factor\":3,\"delay factor\":3.0},\"nameSub\":\"General Chemistry\",\"id\":1,\"credits\":4,\"nameCanonical\":\"\"},{\"curriculum_requisites\":[],\"name\":\" \",\"metrics\":{\"complexity\":1.0,\"centrality\":0,\"blocking factor\":0,\"delay factor\":1.0},\"nameSub\":\"Humanities Elective\",\"id\":14,\"credits\":3,\"nameCanonical\":\"\"},{\"curriculum_requisites\":[{\"source_id\":7,\"target_id\":18,\"type\":\"CurriculumPrerequisite\"}],\"name\":\"ECE 2035\",\"metrics\":{\"complexity\":10.0,\"centrality\":27,\"blocking factor\":4,\"delay factor\":6.0},\"nameSub\":\"Programming Elective\",\"id\":18,\"credits\":4,\"nameCanonical\":\"\"}],\"id\":4},{\"name\":\"Term 5\",\"curriculum_items\":[{\"curriculum_requisites\":[{\"source_id\":9,\"target_id\":20,\"type\":\"CurriculumPrerequisite\"}],\"name\":\"MATH 2551\",\"metrics\":{\"complexity\":5.0,\"centrality\":4,\"blocking factor\":1,\"delay factor\":4.0},\"nameSub\":\"Multivariate Calculus\",\"id\":20,\"credits\":4,\"nameCanonical\":\"\"},{\"curriculum_requisites\":[{\"source_id\":15,\"target_id\":24,\"type\":\"CurriculumPrerequisite\"},{\"source_id\":12,\"target_id\":24,\"type\":\"CurriculumPrerequisite\"},{\"source_id\":19,\"target_id\":24,\"type\":\"CurriculumPrerequisite\"}],\"name\":\"ECE 3025\",\"metrics\":{\"complexity\":10.0,\"centrality\":45,\"blocking factor\":2,\"delay factor\":8.0},\"nameSub\":\"Electromagnetics\",\"id\":24,\"credits\":3,\"nameCanonical\":\"\"},{\"curriculum_requisites\":[{\"source_id\":22,\"target_id\":23,\"type\":\"CurriculumCorequisite\"},{\"source_id\":17,\"target_id\":23,\"type\":\"CurriculumPrerequisite\"}],\"name\":\"ECE 3043\",\"metrics\":{\"complexity\":7.0,\"centrality\":0,\"blocking factor\":0,\"delay factor\":7.0},\"nameSub\":\"Measurements, Circuits and Microelectronics Lab\",\"id\":23,\"credits\":2,\"nameCanonical\":\"\"},{\"curriculum_requisites\":[{\"source_id\":15,\"target_id\":22,\"type\":\"CurriculumPrerequisite\"},{\"source_id\":18,\"target_id\":22,\"type\":\"CurriculumPrerequisite\"},{\"source_id\":17,\"target_id\":22,\"type\":\"CurriculumPrerequisite\"},{\"source_id\":1,\"target_id\":22,\"type\":\"CurriculumPrerequisite\"},{\"source_id\":19,\"target_id\":22,\"type\":\"CurriculumPrerequisite\"}],\"name\":\"ECE 3040\",\"metrics\":{\"complexity\":9.0,\"centrality\":96,\"blocking factor\":2,\"delay factor\":7.0},\"nameSub\":\"Microelectronic Circuits\",\"id\":22,\"credits\":4,\"nameCanonical\":\"\"},{\"curriculum_requisites\":[{\"source_id\":19,\"target_id\":43,\"type\":\"CurriculumPrerequisite\"}],\"name\":\" \",\"metrics\":{\"complexity\":6.0,\"centrality\":0,\"blocking factor\":0,\"delay factor\":6.0},\"nameSub\":\"ECE 3000\\/4000 Elective\",\"id\":43,\"credits\":3,\"nameCanonical\":\"\"}],\"id\":5},{\"name\":\"Term 6\",\"curriculum_items\":[{\"curriculum_requisites\":[{\"source_id\":24,\"target_id\":35,\"type\":\"CurriculumPrerequisite\"}],\"name\":\" \",\"metrics\":{\"complexity\":9.0,\"centrality\":45,\"blocking factor\":1,\"delay factor\":8.0},\"nameSub\":\"Senior Design Sequence\",\"id\":35,\"credits\":1,\"nameCanonical\":\"\"},{\"curriculum_requisites\":[{\"source_id\":19,\"target_id\":45,\"type\":\"CurriculumPrerequisite\"}],\"name\":\" \",\"metrics\":{\"complexity\":6.0,\"centrality\":0,\"blocking factor\":0,\"delay factor\":6.0},\"nameSub\":\"Circuit Technologies Topics\",\"id\":45,\"credits\":3,\"nameCanonical\":\"\"},{\"curriculum_requisites\":[{\"source_id\":19,\"target_id\":37,\"type\":\"CurriculumPrerequisite\"}],\"name\":\" \",\"metrics\":{\"complexity\":6.0,\"centrality\":0,\"blocking factor\":0,\"delay factor\":6.0},\"nameSub\":\"ECE 3000\\/4000 Elective\",\"id\":37,\"credits\":3,\"nameCanonical\":\"\"},{\"curriculum_requisites\":[{\"source_id\":22,\"target_id\":36,\"type\":\"CurriculumPrerequisite\"}],\"name\":\" \",\"metrics\":{\"complexity\":7.0,\"centrality\":0,\"blocking factor\":0,\"delay factor\":7.0},\"nameSub\":\"Electronic Devices Topics\",\"id\":36,\"credits\":3,\"nameCanonical\":\"\"},{\"curriculum_requisites\":[{\"source_id\":20,\"target_id\":25,\"type\":\"CurriculumPrerequisite\"}],\"name\":\" \",\"metrics\":{\"complexity\":4.0,\"centrality\":0,\"blocking factor\":0,\"delay factor\":4.0},\"nameSub\":\"Prob & Stat Elective\",\"id\":25,\"credits\":3,\"nameCanonical\":\"\"},{\"curriculum_requisites\":[{\"source_id\":19,\"target_id\":42,\"type\":\"CurriculumPrerequisite\"}],\"name\":\" \",\"metrics\":{\"complexity\":6.0,\"centrality\":0,\"blocking factor\":0,\"delay factor\":6.0},\"nameSub\":\"ECE 3000\\/4000 Elective\",\"id\":42,\"credits\":3,\"nameCanonical\":\"\"}],\"id\":6},{\"name\":\"Term 7\",\"curriculum_items\":[{\"curriculum_requisites\":[],\"name\":\" \",\"metrics\":{\"complexity\":1.0,\"centrality\":0,\"blocking factor\":0,\"delay factor\":1.0},\"nameSub\":\"Elective Hours\",\"id\":44,\"credits\":3,\"nameCanonical\":\"\"},{\"curriculum_requisites\":[],\"name\":\" \",\"metrics\":{\"complexity\":1.0,\"centrality\":0,\"blocking factor\":0,\"delay factor\":1.0},\"nameSub\":\"Econ\\/Social Science Elective\",\"id\":13,\"credits\":3,\"nameCanonical\":\"\"},{\"curriculum_requisites\":[],\"name\":\" \",\"metrics\":{\"complexity\":1.0,\"centrality\":0,\"blocking factor\":0,\"delay factor\":1.0},\"nameSub\":\"Science Elective\",\"id\":21,\"credits\":3,\"nameCanonical\":\"\"},{\"curriculum_requisites\":[{\"source_id\":35,\"target_id\":41,\"type\":\"CurriculumPrerequisite\"}],\"name\":\" \",\"metrics\":{\"complexity\":8.0,\"centrality\":0,\"blocking factor\":0,\"delay factor\":8.0},\"nameSub\":\"Senior Design Sequence\",\"id\":41,\"credits\":2,\"nameCanonical\":\"\"},{\"curriculum_requisites\":[],\"name\":\" \",\"metrics\":{\"complexity\":1.0,\"centrality\":0,\"blocking factor\":0,\"delay factor\":1.0},\"nameSub\":\"Elective Hours\",\"id\":33,\"credits\":3,\"nameCanonical\":\"\"},{\"curriculum_requisites\":[],\"name\":\" \",\"metrics\":{\"complexity\":1.0,\"centrality\":0,\"blocking factor\":0,\"delay factor\":1.0},\"nameSub\":\"Humanities Elective\",\"id\":27,\"credits\":3,\"nameCanonical\":\"\"}],\"id\":7},{\"name\":\"Term 8\",\"curriculum_items\":[{\"curriculum_requisites\":[],\"name\":\"ECE 3450\",\"metrics\":{\"complexity\":1.0,\"centrality\":0,\"blocking factor\":0,\"delay factor\":1.0},\"nameSub\":\"\",\"id\":30,\"credits\":3,\"nameCanonical\":\"\"},{\"curriculum_requisites\":[],\"name\":\" \",\"metrics\":{\"complexity\":1.0,\"centrality\":0,\"blocking factor\":0,\"delay factor\":1.0},\"nameSub\":\"Social Science Elective\",\"id\":32,\"credits\":3,\"nameCanonical\":\"\"},{\"curriculum_requisites\":[],\"name\":\"ECE 3400\",\"metrics\":{\"complexity\":1.0,\"centrality\":0,\"blocking factor\":0,\"delay factor\":1.0},\"nameSub\":\"\",\"id\":31,\"credits\":3,\"nameCanonical\":\"\"},{\"curriculum_requisites\":[],\"name\":\" \",\"metrics\":{\"complexity\":1.0,\"centrality\":0,\"blocking factor\":0,\"delay factor\":1.0},\"nameSub\":\"Elective Hours\",\"id\":29,\"credits\":3,\"nameCanonical\":\"\"},{\"curriculum_requisites\":[],\"name\":\"ECE 4452\",\"metrics\":{\"complexity\":1.0,\"centrality\":0,\"blocking factor\":0,\"delay factor\":1.0},\"nameSub\":\"\",\"id\":38,\"credits\":3,\"nameCanonical\":\"\"},{\"curriculum_requisites\":[],\"name\":\"ECE 1100\",\"metrics\":{\"complexity\":1.0,\"centrality\":0,\"blocking factor\":0,\"delay factor\":1.0},\"nameSub\":\"ECE Discovery Studio\",\"id\":3,\"credits\":1,\"nameCanonical\":\"\"}],\"id\":8}],\"institution\":\"Georgia Institute of Technology\"}}}}},\"children\":[{\"props\":{\"src\":\"https:\\/\\/curricula-api-embed.damoursystems.com\\/\",\"id\":\"curriculum\",\"events\":{\"load\":\"(function (){this.contentWindow.postMessage({\\\"options\\\":{\\\"hideTerms\\\":false,\\\"edit\\\":false},\\\"curriculum\\\":{\\\"name\\\":\\\"Electrical Engineering - Electronic Devices and Circuit Technology\\\",\\\"dp_name\\\":\\\"\\\",\\\"curriculum_terms\\\":[{\\\"name\\\":\\\"Term 1\\\",\\\"curriculum_items\\\":[{\\\"curriculum_requisites\\\":[],\\\"name\\\":\\\"MATH 1551\\\",\\\"metrics\\\":{\\\"complexity\\\":27.0,\\\"centrality\\\":0,\\\"blocking factor\\\":19,\\\"delay factor\\\":8.0},\\\"nameSub\\\":\\\"Differential Calculus\\\",\\\"id\\\":5,\\\"credits\\\":2,\\\"nameCanonical\\\":\\\"\\\"},{\\\"curriculum_requisites\\\":[{\\\"source_id\\\":5,\\\"target_id\\\":6,\\\"type\\\":\\\"CurriculumCorequisite\\\"}],\\\"name\\\":\\\"MATH 1554\\\",\\\"metrics\\\":{\\\"complexity\\\":19.0,\\\"centrality\\\":55,\\\"blocking factor\\\":12,\\\"delay factor\\\":7.0},\\\"nameSub\\\":\\\"Linear Algebra\\\",\\\"id\\\":6,\\\"credits\\\":4,\\\"nameCanonical\\\":\\\"\\\"},{\\\"curriculum_requisites\\\":[],\\\"name\\\":\\\"ENGL 1101\\\",\\\"metrics\\\":{\\\"complexity\\\":3.0,\\\"centrality\\\":0,\\\"blocking factor\\\":1,\\\"delay factor\\\":2.0},\\\"nameSub\\\":\\\"English Composition I\\\",\\\"id\\\":4,\\\"credits\\\":3,\\\"nameCanonical\\\":\\\"\\\"},{\\\"curriculum_requisites\\\":[],\\\"name\\\":\\\"ECE 3005\\\",\\\"metrics\\\":{\\\"complexity\\\":1.0,\\\"centrality\\\":0,\\\"blocking factor\\\":0,\\\"delay factor\\\":1.0},\\\"nameSub\\\":\\\"\\\",\\\"id\\\":28,\\\"credits\\\":1,\\\"nameCanonical\\\":\\\"\\\"},{\\\"curriculum_requisites\\\":[],\\\"name\\\":\\\" \\\",\\\"metrics\\\":{\\\"complexity\\\":1.0,\\\"centrality\\\":0,\\\"blocking factor\\\":0,\\\"delay factor\\\":1.0},\\\"nameSub\\\":\\\"History\\/Government Elective\\\",\\\"id\\\":11,\\\"credits\\\":3,\\\"nameCanonical\\\":\\\"\\\"},{\\\"curriculum_requisites\\\":[],\\\"name\\\":\\\" \\\",\\\"metrics\\\":{\\\"complexity\\\":1.0,\\\"centrality\\\":0,\\\"blocking factor\\\":0,\\\"delay factor\\\":1.0},\\\"nameSub\\\":\\\"Social Science Elective\\\",\\\"id\\\":40,\\\"credits\\\":3,\\\"nameCanonical\\\":\\\"\\\"}],\\\"id\\\":1},{\\\"name\\\":\\\"Term 2\\\",\\\"curriculum_items\\\":[{\\\"curriculum_requisites\\\":[{\\\"source_id\\\":5,\\\"target_id\\\":9,\\\"type\\\":\\\"CurriculumPrerequisite\\\"}],\\\"name\\\":\\\"MATH 1552\\\",\\\"metrics\\\":{\\\"complexity\\\":25.0,\\\"centrality\\\":111,\\\"blocking factor\\\":17,\\\"delay factor\\\":8.0},\\\"nameSub\\\":\\\"Integral Calculus\\\",\\\"id\\\":9,\\\"credits\\\":4,\\\"nameCanonical\\\":\\\"\\\"},{\\\"curriculum_requisites\\\":[{\\\"source_id\\\":4,\\\"target_id\\\":8,\\\"type\\\":\\\"CurriculumPrerequisite\\\"}],\\\"name\\\":\\\"ENGL 1102\\\",\\\"metrics\\\":{\\\"complexity\\\":2.0,\\\"centrality\\\":0,\\\"blocking factor\\\":0,\\\"delay factor\\\":2.0},\\\"nameSub\\\":\\\"English Composition II\\\",\\\"id\\\":8,\\\"credits\\\":3,\\\"nameCanonical\\\":\\\"\\\"},{\\\"curriculum_requisites\\\":[],\\\"name\\\":\\\" \\\",\\\"metrics\\\":{\\\"complexity\\\":1.0,\\\"centrality\\\":0,\\\"blocking factor\\\":0,\\\"delay factor\\\":1.0},\\\"nameSub\\\":\\\"Elective Hours\\\",\\\"id\\\":39,\\\"credits\\\":2,\\\"nameCanonical\\\":\\\"\\\"},{\\\"curriculum_requisites\\\":[],\\\"name\\\":\\\"CS 1301\\\",\\\"metrics\\\":{\\\"complexity\\\":16.0,\\\"centrality\\\":0,\\\"blocking factor\\\":10,\\\"delay factor\\\":6.0},\\\"nameSub\\\":\\\"Intro to Computing\\\",\\\"id\\\":2,\\\"credits\\\":3,\\\"nameCanonical\\\":\\\"\\\"},{\\\"curriculum_requisites\\\":[{\\\"source_id\\\":9,\\\"target_id\\\":10,\\\"type\\\":\\\"CurriculumCorequisite\\\"}],\\\"name\\\":\\\"PHYS  2211\\\",\\\"metrics\\\":{\\\"complexity\\\":20.0,\\\"centrality\\\":46,\\\"blocking factor\\\":12,\\\"delay factor\\\":8.0},\\\"nameSub\\\":\\\"Intro Physics 1\\\",\\\"id\\\":10,\\\"credits\\\":4,\\\"nameCanonical\\\":\\\"\\\"}],\\\"id\\\":2},{\\\"name\\\":\\\"Term 3\\\",\\\"curriculum_items\\\":[{\\\"curriculum_requisites\\\":[{\\\"source_id\\\":10,\\\"target_id\\\":16,\\\"type\\\":\\\"CurriculumPrerequisite\\\"}],\\\"name\\\":\\\"PHYS  2212\\\",\\\"metrics\\\":{\\\"complexity\\\":19.0,\\\"centrality\\\":46,\\\"blocking factor\\\":11,\\\"delay factor\\\":8.0},\\\"nameSub\\\":\\\"Intro. Physics 2\\\",\\\"id\\\":16,\\\"credits\\\":4,\\\"nameCanonical\\\":\\\"\\\"},{\\\"curriculum_requisites\\\":[{\\\"source_id\\\":2,\\\"target_id\\\":12,\\\"type\\\":\\\"CurriculumPrerequisite\\\"},{\\\"source_id\\\":9,\\\"target_id\\\":12,\\\"type\\\":\\\"CurriculumPrerequisite\\\"}],\\\"name\\\":\\\"ECE 2026\\\",\\\"metrics\\\":{\\\"complexity\\\":9.0,\\\"centrality\\\":11,\\\"blocking factor\\\":3,\\\"delay factor\\\":6.0},\\\"nameSub\\\":\\\"Intro. to Signal Processing\\\",\\\"id\\\":12,\\\"credits\\\":3,\\\"nameCanonical\\\":\\\"\\\"},{\\\"curriculum_requisites\\\":[{\\\"source_id\\\":2,\\\"target_id\\\":7,\\\"type\\\":\\\"CurriculumPrerequisite\\\"}],\\\"name\\\":\\\"ECE 2020\\\",\\\"metrics\\\":{\\\"complexity\\\":11.0,\\\"centrality\\\":41,\\\"blocking factor\\\":5,\\\"delay factor\\\":6.0},\\\"nameSub\\\":\\\"Fund. of Digital System Design\\\",\\\"id\\\":7,\\\"credits\\\":3,\\\"nameCanonical\\\":\\\"\\\"},{\\\"curriculum_requisites\\\":[{\\\"source_id\\\":6,\\\"target_id\\\":15,\\\"type\\\":\\\"CurriculumPrerequisite\\\"},{\\\"source_id\\\":9,\\\"target_id\\\":15,\\\"type\\\":\\\"CurriculumPrerequisite\\\"}],\\\"name\\\":\\\"MATH 2552\\\",\\\"metrics\\\":{\\\"complexity\\\":18.0,\\\"centrality\\\":110,\\\"blocking factor\\\":11,\\\"delay factor\\\":7.0},\\\"nameSub\\\":\\\"Differential Equations\\\",\\\"id\\\":15,\\\"credits\\\":4,\\\"nameCanonical\\\":\\\"\\\"},{\\\"curriculum_requisites\\\":[],\\\"name\\\":\\\"APPH 1040\\\",\\\"metrics\\\":{\\\"complexity\\\":1.0,\\\"centrality\\\":0,\\\"blocking factor\\\":0,\\\"delay factor\\\":1.0},\\\"nameSub\\\":\\\"\\\",\\\"id\\\":26,\\\"credits\\\":2,\\\"nameCanonical\\\":\\\"\\\"}],\\\"id\\\":3},{\\\"name\\\":\\\"Term 4\\\",\\\"curriculum_items\\\":[{\\\"curriculum_requisites\\\":[{\\\"source_id\\\":16,\\\"target_id\\\":19,\\\"type\\\":\\\"CurriculumPrerequisite\\\"},{\\\"source_id\\\":15,\\\"target_id\\\":19,\\\"type\\\":\\\"CurriculumPrerequisite\\\"}],\\\"name\\\":\\\"ECE 2040\\\",\\\"metrics\\\":{\\\"complexity\\\":18.0,\\\"centrality\\\":124,\\\"blocking factor\\\":10,\\\"delay factor\\\":8.0},\\\"nameSub\\\":\\\"Circuit Analysis\\\",\\\"id\\\":19,\\\"credits\\\":3,\\\"nameCanonical\\\":\\\"\\\"},{\\\"curriculum_requisites\\\":[{\\\"source_id\\\":7,\\\"target_id\\\":17,\\\"type\\\":\\\"CurriculumPrerequisite\\\"},{\\\"source_id\\\":18,\\\"target_id\\\":17,\\\"type\\\":\\\"CurriculumCorequisite\\\"}],\\\"name\\\":\\\"ECE 2031\\\",\\\"metrics\\\":{\\\"complexity\\\":9.0,\\\"centrality\\\":31,\\\"blocking factor\\\":3,\\\"delay factor\\\":6.0},\\\"nameSub\\\":\\\"Digital Design Lab\\\",\\\"id\\\":17,\\\"credits\\\":2,\\\"nameCanonical\\\":\\\"\\\"},{\\\"curriculum_requisites\\\":[],\\\"name\\\":\\\"CHEM 1310\\\",\\\"metrics\\\":{\\\"complexity\\\":6.0,\\\"centrality\\\":0,\\\"blocking factor\\\":3,\\\"delay factor\\\":3.0},\\\"nameSub\\\":\\\"General Chemistry\\\",\\\"id\\\":1,\\\"credits\\\":4,\\\"nameCanonical\\\":\\\"\\\"},{\\\"curriculum_requisites\\\":[],\\\"name\\\":\\\" \\\",\\\"metrics\\\":{\\\"complexity\\\":1.0,\\\"centrality\\\":0,\\\"blocking factor\\\":0,\\\"delay factor\\\":1.0},\\\"nameSub\\\":\\\"Humanities Elective\\\",\\\"id\\\":14,\\\"credits\\\":3,\\\"nameCanonical\\\":\\\"\\\"},{\\\"curriculum_requisites\\\":[{\\\"source_id\\\":7,\\\"target_id\\\":18,\\\"type\\\":\\\"CurriculumPrerequisite\\\"}],\\\"name\\\":\\\"ECE 2035\\\",\\\"metrics\\\":{\\\"complexity\\\":10.0,\\\"centrality\\\":27,\\\"blocking factor\\\":4,\\\"delay factor\\\":6.0},\\\"nameSub\\\":\\\"Programming Elective\\\",\\\"id\\\":18,\\\"credits\\\":4,\\\"nameCanonical\\\":\\\"\\\"}],\\\"id\\\":4},{\\\"name\\\":\\\"Term 5\\\",\\\"curriculum_items\\\":[{\\\"curriculum_requisites\\\":[{\\\"source_id\\\":9,\\\"target_id\\\":20,\\\"type\\\":\\\"CurriculumPrerequisite\\\"}],\\\"name\\\":\\\"MATH 2551\\\",\\\"metrics\\\":{\\\"complexity\\\":5.0,\\\"centrality\\\":4,\\\"blocking factor\\\":1,\\\"delay factor\\\":4.0},\\\"nameSub\\\":\\\"Multivariate Calculus\\\",\\\"id\\\":20,\\\"credits\\\":4,\\\"nameCanonical\\\":\\\"\\\"},{\\\"curriculum_requisites\\\":[{\\\"source_id\\\":15,\\\"target_id\\\":24,\\\"type\\\":\\\"CurriculumPrerequisite\\\"},{\\\"source_id\\\":12,\\\"target_id\\\":24,\\\"type\\\":\\\"CurriculumPrerequisite\\\"},{\\\"source_id\\\":19,\\\"target_id\\\":24,\\\"type\\\":\\\"CurriculumPrerequisite\\\"}],\\\"name\\\":\\\"ECE 3025\\\",\\\"metrics\\\":{\\\"complexity\\\":10.0,\\\"centrality\\\":45,\\\"blocking factor\\\":2,\\\"delay factor\\\":8.0},\\\"nameSub\\\":\\\"Electromagnetics\\\",\\\"id\\\":24,\\\"credits\\\":3,\\\"nameCanonical\\\":\\\"\\\"},{\\\"curriculum_requisites\\\":[{\\\"source_id\\\":22,\\\"target_id\\\":23,\\\"type\\\":\\\"CurriculumCorequisite\\\"},{\\\"source_id\\\":17,\\\"target_id\\\":23,\\\"type\\\":\\\"CurriculumPrerequisite\\\"}],\\\"name\\\":\\\"ECE 3043\\\",\\\"metrics\\\":{\\\"complexity\\\":7.0,\\\"centrality\\\":0,\\\"blocking factor\\\":0,\\\"delay factor\\\":7.0},\\\"nameSub\\\":\\\"Measurements, Circuits and Microelectronics Lab\\\",\\\"id\\\":23,\\\"credits\\\":2,\\\"nameCanonical\\\":\\\"\\\"},{\\\"curriculum_requisites\\\":[{\\\"source_id\\\":15,\\\"target_id\\\":22,\\\"type\\\":\\\"CurriculumPrerequisite\\\"},{\\\"source_id\\\":18,\\\"target_id\\\":22,\\\"type\\\":\\\"CurriculumPrerequisite\\\"},{\\\"source_id\\\":17,\\\"target_id\\\":22,\\\"type\\\":\\\"CurriculumPrerequisite\\\"},{\\\"source_id\\\":1,\\\"target_id\\\":22,\\\"type\\\":\\\"CurriculumPrerequisite\\\"},{\\\"source_id\\\":19,\\\"target_id\\\":22,\\\"type\\\":\\\"CurriculumPrerequisite\\\"}],\\\"name\\\":\\\"ECE 3040\\\",\\\"metrics\\\":{\\\"complexity\\\":9.0,\\\"centrality\\\":96,\\\"blocking factor\\\":2,\\\"delay factor\\\":7.0},\\\"nameSub\\\":\\\"Microelectronic Circuits\\\",\\\"id\\\":22,\\\"credits\\\":4,\\\"nameCanonical\\\":\\\"\\\"},{\\\"curriculum_requisites\\\":[{\\\"source_id\\\":19,\\\"target_id\\\":43,\\\"type\\\":\\\"CurriculumPrerequisite\\\"}],\\\"name\\\":\\\" \\\",\\\"metrics\\\":{\\\"complexity\\\":6.0,\\\"centrality\\\":0,\\\"blocking factor\\\":0,\\\"delay factor\\\":6.0},\\\"nameSub\\\":\\\"ECE 3000\\/4000 Elective\\\",\\\"id\\\":43,\\\"credits\\\":3,\\\"nameCanonical\\\":\\\"\\\"}],\\\"id\\\":5},{\\\"name\\\":\\\"Term 6\\\",\\\"curriculum_items\\\":[{\\\"curriculum_requisites\\\":[{\\\"source_id\\\":24,\\\"target_id\\\":35,\\\"type\\\":\\\"CurriculumPrerequisite\\\"}],\\\"name\\\":\\\" \\\",\\\"metrics\\\":{\\\"complexity\\\":9.0,\\\"centrality\\\":45,\\\"blocking factor\\\":1,\\\"delay factor\\\":8.0},\\\"nameSub\\\":\\\"Senior Design Sequence\\\",\\\"id\\\":35,\\\"credits\\\":1,\\\"nameCanonical\\\":\\\"\\\"},{\\\"curriculum_requisites\\\":[{\\\"source_id\\\":19,\\\"target_id\\\":45,\\\"type\\\":\\\"CurriculumPrerequisite\\\"}],\\\"name\\\":\\\" \\\",\\\"metrics\\\":{\\\"complexity\\\":6.0,\\\"centrality\\\":0,\\\"blocking factor\\\":0,\\\"delay factor\\\":6.0},\\\"nameSub\\\":\\\"Circuit Technologies Topics\\\",\\\"id\\\":45,\\\"credits\\\":3,\\\"nameCanonical\\\":\\\"\\\"},{\\\"curriculum_requisites\\\":[{\\\"source_id\\\":19,\\\"target_id\\\":37,\\\"type\\\":\\\"CurriculumPrerequisite\\\"}],\\\"name\\\":\\\" \\\",\\\"metrics\\\":{\\\"complexity\\\":6.0,\\\"centrality\\\":0,\\\"blocking factor\\\":0,\\\"delay factor\\\":6.0},\\\"nameSub\\\":\\\"ECE 3000\\/4000 Elective\\\",\\\"id\\\":37,\\\"credits\\\":3,\\\"nameCanonical\\\":\\\"\\\"},{\\\"curriculum_requisites\\\":[{\\\"source_id\\\":22,\\\"target_id\\\":36,\\\"type\\\":\\\"CurriculumPrerequisite\\\"}],\\\"name\\\":\\\" \\\",\\\"metrics\\\":{\\\"complexity\\\":7.0,\\\"centrality\\\":0,\\\"blocking factor\\\":0,\\\"delay factor\\\":7.0},\\\"nameSub\\\":\\\"Electronic Devices Topics\\\",\\\"id\\\":36,\\\"credits\\\":3,\\\"nameCanonical\\\":\\\"\\\"},{\\\"curriculum_requisites\\\":[{\\\"source_id\\\":20,\\\"target_id\\\":25,\\\"type\\\":\\\"CurriculumPrerequisite\\\"}],\\\"name\\\":\\\" \\\",\\\"metrics\\\":{\\\"complexity\\\":4.0,\\\"centrality\\\":0,\\\"blocking factor\\\":0,\\\"delay factor\\\":4.0},\\\"nameSub\\\":\\\"Prob & Stat Elective\\\",\\\"id\\\":25,\\\"credits\\\":3,\\\"nameCanonical\\\":\\\"\\\"},{\\\"curriculum_requisites\\\":[{\\\"source_id\\\":19,\\\"target_id\\\":42,\\\"type\\\":\\\"CurriculumPrerequisite\\\"}],\\\"name\\\":\\\" \\\",\\\"metrics\\\":{\\\"complexity\\\":6.0,\\\"centrality\\\":0,\\\"blocking factor\\\":0,\\\"delay factor\\\":6.0},\\\"nameSub\\\":\\\"ECE 3000\\/4000 Elective\\\",\\\"id\\\":42,\\\"credits\\\":3,\\\"nameCanonical\\\":\\\"\\\"}],\\\"id\\\":6},{\\\"name\\\":\\\"Term 7\\\",\\\"curriculum_items\\\":[{\\\"curriculum_requisites\\\":[],\\\"name\\\":\\\" \\\",\\\"metrics\\\":{\\\"complexity\\\":1.0,\\\"centrality\\\":0,\\\"blocking factor\\\":0,\\\"delay factor\\\":1.0},\\\"nameSub\\\":\\\"Elective Hours\\\",\\\"id\\\":44,\\\"credits\\\":3,\\\"nameCanonical\\\":\\\"\\\"},{\\\"curriculum_requisites\\\":[],\\\"name\\\":\\\" \\\",\\\"metrics\\\":{\\\"complexity\\\":1.0,\\\"centrality\\\":0,\\\"blocking factor\\\":0,\\\"delay factor\\\":1.0},\\\"nameSub\\\":\\\"Econ\\/Social Science Elective\\\",\\\"id\\\":13,\\\"credits\\\":3,\\\"nameCanonical\\\":\\\"\\\"},{\\\"curriculum_requisites\\\":[],\\\"name\\\":\\\" \\\",\\\"metrics\\\":{\\\"complexity\\\":1.0,\\\"centrality\\\":0,\\\"blocking factor\\\":0,\\\"delay factor\\\":1.0},\\\"nameSub\\\":\\\"Science Elective\\\",\\\"id\\\":21,\\\"credits\\\":3,\\\"nameCanonical\\\":\\\"\\\"},{\\\"curriculum_requisites\\\":[{\\\"source_id\\\":35,\\\"target_id\\\":41,\\\"type\\\":\\\"CurriculumPrerequisite\\\"}],\\\"name\\\":\\\" \\\",\\\"metrics\\\":{\\\"complexity\\\":8.0,\\\"centrality\\\":0,\\\"blocking factor\\\":0,\\\"delay factor\\\":8.0},\\\"nameSub\\\":\\\"Senior Design Sequence\\\",\\\"id\\\":41,\\\"credits\\\":2,\\\"nameCanonical\\\":\\\"\\\"},{\\\"curriculum_requisites\\\":[],\\\"name\\\":\\\" \\\",\\\"metrics\\\":{\\\"complexity\\\":1.0,\\\"centrality\\\":0,\\\"blocking factor\\\":0,\\\"delay factor\\\":1.0},\\\"nameSub\\\":\\\"Elective Hours\\\",\\\"id\\\":33,\\\"credits\\\":3,\\\"nameCanonical\\\":\\\"\\\"},{\\\"curriculum_requisites\\\":[],\\\"name\\\":\\\" \\\",\\\"metrics\\\":{\\\"complexity\\\":1.0,\\\"centrality\\\":0,\\\"blocking factor\\\":0,\\\"delay factor\\\":1.0},\\\"nameSub\\\":\\\"Humanities Elective\\\",\\\"id\\\":27,\\\"credits\\\":3,\\\"nameCanonical\\\":\\\"\\\"}],\\\"id\\\":7},{\\\"name\\\":\\\"Term 8\\\",\\\"curriculum_items\\\":[{\\\"curriculum_requisites\\\":[],\\\"name\\\":\\\"ECE 3450\\\",\\\"metrics\\\":{\\\"complexity\\\":1.0,\\\"centrality\\\":0,\\\"blocking factor\\\":0,\\\"delay factor\\\":1.0},\\\"nameSub\\\":\\\"\\\",\\\"id\\\":30,\\\"credits\\\":3,\\\"nameCanonical\\\":\\\"\\\"},{\\\"curriculum_requisites\\\":[],\\\"name\\\":\\\" \\\",\\\"metrics\\\":{\\\"complexity\\\":1.0,\\\"centrality\\\":0,\\\"blocking factor\\\":0,\\\"delay factor\\\":1.0},\\\"nameSub\\\":\\\"Social Science Elective\\\",\\\"id\\\":32,\\\"credits\\\":3,\\\"nameCanonical\\\":\\\"\\\"},{\\\"curriculum_requisites\\\":[],\\\"name\\\":\\\"ECE 3400\\\",\\\"metrics\\\":{\\\"complexity\\\":1.0,\\\"centrality\\\":0,\\\"blocking factor\\\":0,\\\"delay factor\\\":1.0},\\\"nameSub\\\":\\\"\\\",\\\"id\\\":31,\\\"credits\\\":3,\\\"nameCanonical\\\":\\\"\\\"},{\\\"curriculum_requisites\\\":[],\\\"name\\\":\\\" \\\",\\\"metrics\\\":{\\\"complexity\\\":1.0,\\\"centrality\\\":0,\\\"blocking factor\\\":0,\\\"delay factor\\\":1.0},\\\"nameSub\\\":\\\"Elective Hours\\\",\\\"id\\\":29,\\\"credits\\\":3,\\\"nameCanonical\\\":\\\"\\\"},{\\\"curriculum_requisites\\\":[],\\\"name\\\":\\\"ECE 4452\\\",\\\"metrics\\\":{\\\"complexity\\\":1.0,\\\"centrality\\\":0,\\\"blocking factor\\\":0,\\\"delay factor\\\":1.0},\\\"nameSub\\\":\\\"\\\",\\\"id\\\":38,\\\"credits\\\":3,\\\"nameCanonical\\\":\\\"\\\"},{\\\"curriculum_requisites\\\":[],\\\"name\\\":\\\"ECE 1100\\\",\\\"metrics\\\":{\\\"complexity\\\":1.0,\\\"centrality\\\":0,\\\"blocking factor\\\":0,\\\"delay factor\\\":1.0},\\\"nameSub\\\":\\\"ECE Discovery Studio\\\",\\\"id\\\":3,\\\"credits\\\":1,\\\"nameCanonical\\\":\\\"\\\"}],\\\"id\\\":8}],\\\"institution\\\":\\\"Georgia Institute of Technology\\\"}},\\\"*\\\"); window.removeEventListener(\\\"message\\\",window.messageReceived); window.messageReceived=(function (event){return (event.data.curriculum!==undefined) ? (WebIO.setval({\\\"name\\\":\\\"curriculum-data\\\",\\\"scope\\\":\\\"223656398252086906\\\",\\\"id\\\":\\\"5525073433073970970\\\",\\\"type\\\":\\\"observable\\\"},event.data.curriculum)) : undefined}); return window.addEventListener(\\\"message\\\",window.messageReceived)})\"},\"style\":{\"padding\":\"0\",\"height\":\"100vh\",\"margin\":\"0\",\"border\":\"none\",\"width\":\"100%\"}},\"nodeType\":\"DOM\",\"type\":\"node\",\"instanceArgs\":{\"namespace\":\"html\",\"tag\":\"iframe\"},\"children\":[\"\"]}]},\n",
       "            window,\n",
       "        );\n",
       "    } else {\n",
       "        document\n",
       "            .querySelector('[data-webio-mountpoint=\"15687933152192807602\"]')\n",
       "            .innerHTML = (\n",
       "                '<div style=\"padding: 1em; background-color: #f8d6da; border: 1px solid #f5c6cb\">' +\n",
       "                '<p><strong>WebIO not detected.</strong></p>' +\n",
       "                '<p>Please read ' +\n",
       "                '<a href=\"https://juliagizmos.github.io/WebIO.jl/latest/troubleshooting/not-detected/\" target=\"_blank\">the troubleshooting guide</a> ' +\n",
       "                'for more information on how to resolve this issue.</p>' +\n",
       "                '<p><a href=\"https://juliagizmos.github.io/WebIO.jl/latest/troubleshooting/not-detected/\" target=\"_blank\">https://juliagizmos.github.io/WebIO.jl/latest/troubleshooting/not-detected/</a></p>' +\n",
       "                '</div>'\n",
       "            );\n",
       "    }\n",
       "    </script>\n",
       "</div>\n"
      ],
      "text/plain": [
       "WebIO.Scope(WebIO.Node{WebIO.DOM}(WebIO.DOM(:html, :iframe), Any[\"\"], Dict{Symbol, Any}(:src => \"https://curricula-api-embed.damoursystems.com/\", :id => \"curriculum\", :events => Dict{Symbol, WebIO.JSString}(:load => WebIO.JSString(\"(function (){this.contentWindow.postMessage({\\\"options\\\":{\\\"hideTerms\\\":false,\\\"edit\\\":false},\\\"curriculum\\\":{\\\"name\\\":\\\"Electrical Engineering - Electronic Devices and Circuit Technology\\\",\\\"dp_name\\\":\\\"\\\",\\\"curriculum_terms\\\":[{\\\"name\\\":\\\"Term 1\\\",\\\"curriculum_items\\\":[{\\\"curriculum_requisites\\\":[],\\\"name\\\":\\\"MATH 1551\\\",\\\"metrics\\\":{\\\"complexity\\\":27.0,\\\"centrality\\\":0,\\\"blocking factor\\\":19,\\\"delay factor\\\":8.0},\\\"nameSub\\\":\\\"Differential Calculus\\\",\\\"id\\\":5,\\\"credits\\\":2,\\\"nameCanonical\\\":\\\"\\\"},{\\\"curriculum_requisites\\\":[{\\\"source_id\\\":5,\\\"target_id\\\":6,\\\"type\\\":\\\"CurriculumCorequisite\\\"}],\\\"name\\\":\\\"MATH 1554\\\",\\\"metrics\\\":{\\\"complexity\\\":19.0,\\\"centrality\\\":55,\\\"blocking factor\\\":12,\\\"delay factor\\\":7.0},\\\"nameSub\\\":\\\"Linear Algebra\\\",\\\"id\\\":6,\\\"credits\\\":4,\\\"nameCanonical\\\":\\\"\\\"},{\\\"curriculum_requisites\\\":[],\\\"name\\\":\\\"ENGL 1101\\\",\\\"metrics\\\":{\\\"complexity\\\":3.0,\\\"centrality\\\":0,\\\"blocking factor\\\":1,\\\"delay factor\\\":2.0},\\\"nameSub\\\":\\\"English Composition I\\\",\\\"id\\\":4,\\\"credits\\\":3,\\\"nameCanonical\\\":\\\"\\\"},{\\\"curriculum_requisites\\\":[],\\\"name\\\":\\\"ECE 3005\\\",\\\"metrics\\\":{\\\"complexity\\\":1.0,\\\"centrality\\\":0,\\\"blocking factor\\\":0,\\\"delay factor\\\":1.0},\\\"nameSub\\\":\\\"\\\",\\\"id\\\":28,\\\"credits\\\":1,\\\"nameCanonical\\\":\\\"\\\"},{\\\"curriculum_requisites\\\":[],\\\"name\\\":\\\" \\\",\\\"metrics\\\":{\\\"complexity\\\":1.0,\\\"centrality\\\":0,\\\"blocking factor\\\":0,\\\"delay factor\\\":1.0},\\\"nameSub\\\":\\\"History/Government Elective\\\",\\\"id\\\":11,\\\"credits\\\":3,\\\"nameCanonical\\\":\\\"\\\"},{\\\"curriculum_requisites\\\":[],\\\"name\\\":\\\" \\\",\\\"metrics\\\":{\\\"complexity\\\":1.0,\\\"centrality\\\":0,\\\"blocking factor\\\":0,\\\"delay factor\\\":1.0},\\\"nameSub\\\":\\\"Social Science Elective\\\",\\\"id\\\":40,\\\"credits\\\":3,\\\"nameCanonical\\\":\\\"\\\"}],\\\"id\\\":1},{\\\"name\\\":\\\"Term 2\\\",\\\"curriculum_items\\\":[{\\\"curriculum_requisites\\\":[{\\\"source_id\\\":5,\\\"target_id\\\":9,\\\"type\\\":\\\"CurriculumPrerequisite\\\"}],\\\"name\\\":\\\"MATH 1552\\\",\\\"metrics\\\":{\\\"complexity\\\":25.0,\\\"centrality\\\":111,\\\"blocking factor\\\":17,\\\"delay factor\\\":8.0},\\\"nameSub\\\":\\\"Integral Calculus\\\",\\\"id\\\":9,\\\"credits\\\":4,\\\"nameCanonical\\\":\\\"\\\"},{\\\"curriculum_requisites\\\":[{\\\"source_id\\\":4,\\\"target_id\\\":8,\\\"type\\\":\\\"CurriculumPrerequisite\\\"}],\\\"name\\\":\\\"ENGL 1102\\\",\\\"metrics\\\":{\\\"complexity\\\":2.0,\\\"centrality\\\":0,\\\"blocking factor\\\":0,\\\"delay factor\\\":2.0},\\\"nameSub\\\":\\\"English Composition II\\\",\\\"id\\\":8,\\\"credits\\\":3,\\\"nameCanonical\\\":\\\"\\\"},{\\\"curriculum_requisites\\\":[],\\\"name\\\":\\\" \\\",\\\"metrics\\\":{\\\"complexity\\\":1.0,\\\"centrality\\\":0,\\\"blocking factor\\\":0,\\\"delay factor\\\":1.0},\\\"nameSub\\\":\\\"Elective Hours\\\",\\\"id\\\":39,\\\"credits\\\":2,\\\"nameCanonical\\\":\\\"\\\"},{\\\"curriculum_requisites\\\":[],\\\"name\\\":\\\"CS 1301\\\",\\\"metrics\\\":{\\\"complexity\\\":16.0,\\\"centrality\\\":0,\\\"blocking factor\\\":10,\\\"delay factor\\\":6.0},\\\"nameSub\\\":\\\"Intro to Computing\\\",\\\"id\\\":2,\\\"credits\\\":3,\\\"nameCanonical\\\":\\\"\\\"},{\\\"curriculum_requisites\\\":[{\\\"source_id\\\":9,\\\"target_id\\\":10,\\\"type\\\":\\\"CurriculumCorequisite\\\"}],\\\"name\\\":\\\"PHYS  2211\\\",\\\"metrics\\\":{\\\"complexity\\\":20.0,\\\"centrality\\\":46,\\\"blocking factor\\\":12,\\\"delay factor\\\":8.0},\\\"nameSub\\\":\\\"Intro Physics 1\\\",\\\"id\\\":10,\\\"credits\\\":4,\\\"nameCanonical\\\":\\\"\\\"}],\\\"id\\\":2},{\\\"name\\\":\\\"Term 3\\\",\\\"curriculum_items\\\":[{\\\"curriculum_requisites\\\":[{\\\"source_id\\\":10,\\\"target_id\\\":16,\\\"type\\\":\\\"CurriculumPrerequisite\\\"}],\\\"name\\\":\\\"PHYS  2212\\\",\\\"metrics\\\":{\\\"complexity\\\":19.0,\\\"centrality\\\":46,\\\"blocking factor\\\":11,\\\"delay factor\\\":8.0},\\\"nameSub\\\":\\\"Intro. Physics 2\\\",\\\"id\\\":16,\\\"credits\\\":4,\\\"nameCanonical\\\":\\\"\\\"},{\\\"curriculum_requisites\\\":[{\\\"source_id\\\":2,\\\"target_id\\\":12,\\\"type\\\":\\\"CurriculumPrerequisite\\\"},{\\\"source_id\\\":9,\\\"target_id\\\":12,\\\"type\\\":\\\"CurriculumPrerequisite\\\"}],\\\"name\\\":\\\"ECE 2026\\\",\\\"metrics\\\":{\\\"complexity\\\":9.0,\\\"centrality\\\":11,\\\"blocking factor\\\":3,\\\"delay factor\\\":6.0},\\\"nameSub\\\":\\\"Intro. to Signal Processing\\\",\\\"id\\\":12,\\\"credits\\\":3,\\\"nameCanonical\\\":\\\"\\\"},{\\\"curriculum_requisites\\\":[{\\\"source_id\\\":2,\\\"target_id\\\":7,\\\"type\\\":\\\"CurriculumPrerequisite\\\"}],\\\"name\\\":\\\"ECE 2020\\\",\\\"metrics\\\":{\\\"complexity\\\":11.0,\\\"centrality\\\":41,\\\"blocking factor\\\":5,\\\"delay factor\\\":6.0},\\\"nameSub\\\":\\\"Fund. of Digital System Design\\\",\\\"id\\\":7,\\\"credits\\\":3,\\\"nameCanonical\\\":\\\"\\\"},{\\\"curriculum_requisites\\\":[{\\\"source_id\\\":6,\\\"target_id\\\":15,\\\"type\\\":\\\"CurriculumPrerequisite\\\"},{\\\"source_id\\\":9,\\\"target_id\\\":15,\\\"type\\\":\\\"CurriculumPrerequisite\\\"}],\\\"name\\\":\\\"MATH 2552\\\",\\\"metrics\\\":{\\\"complexity\\\":18.0,\\\"centrality\\\":110,\\\"blocking factor\\\":11,\\\"delay factor\\\":7.0},\\\"nameSub\\\":\\\"Differential Equations\\\",\\\"id\\\":15,\\\"credits\\\":4,\\\"nameCanonical\\\":\\\"\\\"},{\\\"curriculum_requisites\\\":[],\\\"name\\\":\\\"APPH 1040\\\",\\\"metrics\\\":{\\\"complexity\\\":1.0,\\\"centrality\\\":0,\\\"blocking factor\\\":0,\\\"delay factor\\\":1.0},\\\"nameSub\\\":\\\"\\\",\\\"id\\\":26,\\\"credits\\\":2,\\\"nameCanonical\\\":\\\"\\\"}],\\\"id\\\":3},{\\\"name\\\":\\\"Term 4\\\",\\\"curriculum_items\\\":[{\\\"curriculum_requisites\\\":[{\\\"source_id\\\":16,\\\"target_id\\\":19,\\\"type\\\":\\\"CurriculumPrerequisite\\\"},{\\\"source_id\\\":15,\\\"target_id\\\":19,\\\"type\\\":\\\"CurriculumPrerequisite\\\"}],\\\"name\\\":\\\"ECE 2040\\\",\\\"metrics\\\":{\\\"complexity\\\":18.0,\\\"centrality\\\":124,\\\"blocking factor\\\":10,\\\"delay factor\\\":8.0},\\\"nameSub\\\":\\\"Circuit Analysis\\\",\\\"id\\\":19,\\\"credits\\\":3,\\\"nameCanonical\\\":\\\"\\\"},{\\\"curriculum_requisites\\\":[{\\\"source_id\\\":7,\\\"target_id\\\":17,\\\"type\\\":\\\"CurriculumPrerequisite\\\"},{\\\"source_id\\\":18,\\\"target_id\\\":17,\\\"type\\\":\\\"CurriculumCorequisite\\\"}],\\\"name\\\":\\\"ECE 2031\\\",\\\"metrics\\\":{\\\"complexity\\\":9.0,\\\"centrality\\\":31,\\\"blocking factor\\\":3,\\\"delay factor\\\":6.0},\\\"nameSub\\\":\\\"Digital Design Lab\\\",\\\"id\\\":17,\\\"credits\\\":2,\\\"nameCanonical\\\":\\\"\\\"},{\\\"curriculum_requisites\\\":[],\\\"name\\\":\\\"CHEM 1310\\\",\\\"metrics\\\":{\\\"complexity\\\":6.0,\\\"centrality\\\":0,\\\"blocking factor\\\":3,\\\"delay factor\\\":3.0},\\\"nameSub\\\":\\\"General Chemistry\\\",\\\"id\\\":1,\\\"credits\\\":4,\\\"nameCanonical\\\":\\\"\\\"},{\\\"curriculum_requisites\\\":[],\\\"name\\\":\\\" \\\",\\\"metrics\\\":{\\\"complexity\\\":1.0,\\\"centrality\\\":0,\\\"blocking factor\\\":0,\\\"delay factor\\\":1.0},\\\"nameSub\\\":\\\"Humanities Elective\\\",\\\"id\\\":14,\\\"credits\\\":3,\\\"nameCanonical\\\":\\\"\\\"},{\\\"curriculum_requisites\\\":[{\\\"source_id\\\":7,\\\"target_id\\\":18,\\\"type\\\":\\\"CurriculumPrerequisite\\\"}],\\\"name\\\":\\\"ECE 2035\\\",\\\"metrics\\\":{\\\"complexity\\\":10.0,\\\"centrality\\\":27,\\\"blocking factor\\\":4,\\\"delay factor\\\":6.0},\\\"nameSub\\\":\\\"Programming Elective\\\",\\\"id\\\":18,\\\"credits\\\":4,\\\"nameCanonical\\\":\\\"\\\"}],\\\"id\\\":4},{\\\"name\\\":\\\"Term 5\\\",\\\"curriculum_items\\\":[{\\\"curriculum_requisites\\\":[{\\\"source_id\\\":9,\\\"target_id\\\":20,\\\"type\\\":\\\"CurriculumPrerequisite\\\"}],\\\"name\\\":\\\"MATH 2551\\\",\\\"metrics\\\":{\\\"complexity\\\":5.0,\\\"centrality\\\":4,\\\"blocking factor\\\":1,\\\"delay factor\\\":4.0},\\\"nameSub\\\":\\\"Multivariate Calculus\\\",\\\"id\\\":20,\\\"credits\\\":4,\\\"nameCanonical\\\":\\\"\\\"},{\\\"curriculum_requisites\\\":[{\\\"source_id\\\":15,\\\"target_id\\\":24,\\\"type\\\":\\\"CurriculumPrerequisite\\\"},{\\\"source_id\\\":12,\\\"target_id\\\":24,\\\"type\\\":\\\"CurriculumPrerequisite\\\"},{\\\"source_id\\\":19,\\\"target_id\\\":24,\\\"type\\\":\\\"CurriculumPrerequisite\\\"}],\\\"name\\\":\\\"ECE 3025\\\",\\\"metrics\\\":{\\\"complexity\\\":10.0,\\\"centrality\\\":45,\\\"blocking factor\\\":2,\\\"delay factor\\\":8.0},\\\"nameSub\\\":\\\"Electromagnetics\\\",\\\"id\\\":24,\\\"credits\\\":3,\\\"nameCanonical\\\":\\\"\\\"},{\\\"curriculum_requisites\\\":[{\\\"source_id\\\":22,\\\"target_id\\\":23,\\\"type\\\":\\\"CurriculumCorequisite\\\"},{\\\"source_id\\\":17,\\\"target_id\\\":23,\\\"type\\\":\\\"CurriculumPrerequisite\\\"}],\\\"name\\\":\\\"ECE 3043\\\",\\\"metrics\\\":{\\\"complexity\\\":7.0,\\\"centrality\\\":0,\\\"blocking factor\\\":0,\\\"delay factor\\\":7.0},\\\"nameSub\\\":\\\"Measurements, Circuits and Microelectronics Lab\\\",\\\"id\\\":23,\\\"credits\\\":2,\\\"nameCanonical\\\":\\\"\\\"},{\\\"curriculum_requisites\\\":[{\\\"source_id\\\":15,\\\"target_id\\\":22,\\\"type\\\":\\\"CurriculumPrerequisite\\\"},{\\\"source_id\\\":18,\\\"target_id\\\":22,\\\"type\\\":\\\"CurriculumPrerequisite\\\"},{\\\"source_id\\\":17,\\\"target_id\\\":22,\\\"type\\\":\\\"CurriculumPrerequisite\\\"},{\\\"source_id\\\":1,\\\"target_id\\\":22,\\\"type\\\":\\\"CurriculumPrerequisite\\\"},{\\\"source_id\\\":19,\\\"target_id\\\":22,\\\"type\\\":\\\"CurriculumPrerequisite\\\"}],\\\"name\\\":\\\"ECE 3040\\\",\\\"metrics\\\":{\\\"complexity\\\":9.0,\\\"centrality\\\":96,\\\"blocking factor\\\":2,\\\"delay factor\\\":7.0},\\\"nameSub\\\":\\\"Microelectronic Circuits\\\",\\\"id\\\":22,\\\"credits\\\":4,\\\"nameCanonical\\\":\\\"\\\"},{\\\"curriculum_requisites\\\":[{\\\"source_id\\\":19,\\\"target_id\\\":43,\\\"type\\\":\\\"CurriculumPrerequisite\\\"}],\\\"name\\\":\\\" \\\",\\\"metrics\\\":{\\\"complexity\\\":6.0,\\\"centrality\\\":0,\\\"blocking factor\\\":0,\\\"delay factor\\\":6.0},\\\"nameSub\\\":\\\"ECE 3000/4000 Elective\\\",\\\"id\\\":43,\\\"credits\\\":3,\\\"nameCanonical\\\":\\\"\\\"}],\\\"id\\\":5},{\\\"name\\\":\\\"Term 6\\\",\\\"curriculum_items\\\":[{\\\"curriculum_requisites\\\":[{\\\"source_id\\\":24,\\\"target_id\\\":35,\\\"type\\\":\\\"CurriculumPrerequisite\\\"}],\\\"name\\\":\\\" \\\",\\\"metrics\\\":{\\\"complexity\\\":9.0,\\\"centrality\\\":45,\\\"blocking factor\\\":1,\\\"delay factor\\\":8.0},\\\"nameSub\\\":\\\"Senior Design Sequence\\\",\\\"id\\\":35,\\\"credits\\\":1,\\\"nameCanonical\\\":\\\"\\\"},{\\\"curriculum_requisites\\\":[{\\\"source_id\\\":19,\\\"target_id\\\":45,\\\"type\\\":\\\"CurriculumPrerequisite\\\"}],\\\"name\\\":\\\" \\\",\\\"metrics\\\":{\\\"complexity\\\":6.0,\\\"centrality\\\":0,\\\"blocking factor\\\":0,\\\"delay factor\\\":6.0},\\\"nameSub\\\":\\\"Circuit Technologies Topics\\\",\\\"id\\\":45,\\\"credits\\\":3,\\\"nameCanonical\\\":\\\"\\\"},{\\\"curriculum_requisites\\\":[{\\\"source_id\\\":19,\\\"target_id\\\":37,\\\"type\\\":\\\"CurriculumPrerequisite\\\"}],\\\"name\\\":\\\" \\\",\\\"metrics\\\":{\\\"complexity\\\":6.0,\\\"centrality\\\":0,\\\"blocking factor\\\":0,\\\"delay factor\\\":6.0},\\\"nameSub\\\":\\\"ECE 3000/4000 Elective\\\",\\\"id\\\":37,\\\"credits\\\":3,\\\"nameCanonical\\\":\\\"\\\"},{\\\"curriculum_requisites\\\":[{\\\"source_id\\\":22,\\\"target_id\\\":36,\\\"type\\\":\\\"CurriculumPrerequisite\\\"}],\\\"name\\\":\\\" \\\",\\\"metrics\\\":{\\\"complexity\\\":7.0,\\\"centrality\\\":0,\\\"blocking factor\\\":0,\\\"delay factor\\\":7.0},\\\"nameSub\\\":\\\"Electronic Devices Topics\\\",\\\"id\\\":36,\\\"credits\\\":3,\\\"nameCanonical\\\":\\\"\\\"},{\\\"curriculum_requisites\\\":[{\\\"source_id\\\":20,\\\"target_id\\\":25,\\\"type\\\":\\\"CurriculumPrerequisite\\\"}],\\\"name\\\":\\\" \\\",\\\"metrics\\\":{\\\"complexity\\\":4.0,\\\"centrality\\\":0,\\\"blocking factor\\\":0,\\\"delay factor\\\":4.0},\\\"nameSub\\\":\\\"Prob & Stat Elective\\\",\\\"id\\\":25,\\\"credits\\\":3,\\\"nameCanonical\\\":\\\"\\\"},{\\\"curriculum_requisites\\\":[{\\\"source_id\\\":19,\\\"target_id\\\":42,\\\"type\\\":\\\"CurriculumPrerequisite\\\"}],\\\"name\\\":\\\" \\\",\\\"metrics\\\":{\\\"complexity\\\":6.0,\\\"centrality\\\":0,\\\"blocking factor\\\":0,\\\"delay factor\\\":6.0},\\\"nameSub\\\":\\\"ECE 3000/4000 Elective\\\",\\\"id\\\":42,\\\"credits\\\":3,\\\"nameCanonical\\\":\\\"\\\"}],\\\"id\\\":6},{\\\"name\\\":\\\"Term 7\\\",\\\"curriculum_items\\\":[{\\\"curriculum_requisites\\\":[],\\\"name\\\":\\\" \\\",\\\"metrics\\\":{\\\"complexity\\\":1.0,\\\"centrality\\\":0,\\\"blocking factor\\\":0,\\\"delay factor\\\":1.0},\\\"nameSub\\\":\\\"Elective Hours\\\",\\\"id\\\":44,\\\"credits\\\":3,\\\"nameCanonical\\\":\\\"\\\"},{\\\"curriculum_requisites\\\":[],\\\"name\\\":\\\" \\\",\\\"metrics\\\":{\\\"complexity\\\":1.0,\\\"centrality\\\":0,\\\"blocking factor\\\":0,\\\"delay factor\\\":1.0},\\\"nameSub\\\":\\\"Econ/Social Science Elective\\\",\\\"id\\\":13,\\\"credits\\\":3,\\\"nameCanonical\\\":\\\"\\\"},{\\\"curriculum_requisites\\\":[],\\\"name\\\":\\\" \\\",\\\"metrics\\\":{\\\"complexity\\\":1.0,\\\"centrality\\\":0,\\\"blocking factor\\\":0,\\\"delay factor\\\":1.0},\\\"nameSub\\\":\\\"Science Elective\\\",\\\"id\\\":21,\\\"credits\\\":3,\\\"nameCanonical\\\":\\\"\\\"},{\\\"curriculum_requisites\\\":[{\\\"source_id\\\":35,\\\"target_id\\\":41,\\\"type\\\":\\\"CurriculumPrerequisite\\\"}],\\\"name\\\":\\\" \\\",\\\"metrics\\\":{\\\"complexity\\\":8.0,\\\"centrality\\\":0,\\\"blocking factor\\\":0,\\\"delay factor\\\":8.0},\\\"nameSub\\\":\\\"Senior Design Sequence\\\",\\\"id\\\":41,\\\"credits\\\":2,\\\"nameCanonical\\\":\\\"\\\"},{\\\"curriculum_requisites\\\":[],\\\"name\\\":\\\" \\\",\\\"metrics\\\":{\\\"complexity\\\":1.0,\\\"centrality\\\":0,\\\"blocking factor\\\":0,\\\"delay factor\\\":1.0},\\\"nameSub\\\":\\\"Elective Hours\\\",\\\"id\\\":33,\\\"credits\\\":3,\\\"nameCanonical\\\":\\\"\\\"},{\\\"curriculum_requisites\\\":[],\\\"name\\\":\\\" \\\",\\\"metrics\\\":{\\\"complexity\\\":1.0,\\\"centrality\\\":0,\\\"blocking factor\\\":0,\\\"delay factor\\\":1.0},\\\"nameSub\\\":\\\"Humanities Elective\\\",\\\"id\\\":27,\\\"credits\\\":3,\\\"nameCanonical\\\":\\\"\\\"}],\\\"id\\\":7},{\\\"name\\\":\\\"Term 8\\\",\\\"curriculum_items\\\":[{\\\"curriculum_requisites\\\":[],\\\"name\\\":\\\"ECE 3450\\\",\\\"metrics\\\":{\\\"complexity\\\":1.0,\\\"centrality\\\":0,\\\"blocking factor\\\":0,\\\"delay factor\\\":1.0},\\\"nameSub\\\":\\\"\\\",\\\"id\\\":30,\\\"credits\\\":3,\\\"nameCanonical\\\":\\\"\\\"},{\\\"curriculum_requisites\\\":[],\\\"name\\\":\\\" \\\",\\\"metrics\\\":{\\\"complexity\\\":1.0,\\\"centrality\\\":0,\\\"blocking factor\\\":0,\\\"delay factor\\\":1.0},\\\"nameSub\\\":\\\"Social Science Elective\\\",\\\"id\\\":32,\\\"credits\\\":3,\\\"nameCanonical\\\":\\\"\\\"},{\\\"curriculum_requisites\\\":[],\\\"name\\\":\\\"ECE 3400\\\",\\\"metrics\\\":{\\\"complexity\\\":1.0,\\\"centrality\\\":0,\\\"blocking factor\\\":0,\\\"delay factor\\\":1.0},\\\"nameSub\\\":\\\"\\\",\\\"id\\\":31,\\\"credits\\\":3,\\\"nameCanonical\\\":\\\"\\\"},{\\\"curriculum_requisites\\\":[],\\\"name\\\":\\\" \\\",\\\"metrics\\\":{\\\"complexity\\\":1.0,\\\"centrality\\\":0,\\\"blocking factor\\\":0,\\\"delay factor\\\":1.0},\\\"nameSub\\\":\\\"Elective Hours\\\",\\\"id\\\":29,\\\"credits\\\":3,\\\"nameCanonical\\\":\\\"\\\"},{\\\"curriculum_requisites\\\":[],\\\"name\\\":\\\"ECE 4452\\\",\\\"metrics\\\":{\\\"complexity\\\":1.0,\\\"centrality\\\":0,\\\"blocking factor\\\":0,\\\"delay factor\\\":1.0},\\\"nameSub\\\":\\\"\\\",\\\"id\\\":38,\\\"credits\\\":3,\\\"nameCanonical\\\":\\\"\\\"},{\\\"curriculum_requisites\\\":[],\\\"name\\\":\\\"ECE 1100\\\",\\\"metrics\\\":{\\\"complexity\\\":1.0,\\\"centrality\\\":0,\\\"blocking factor\\\":0,\\\"delay factor\\\":1.0},\\\"nameSub\\\":\\\"ECE Discovery Studio\\\",\\\"id\\\":3,\\\"credits\\\":1,\\\"nameCanonical\\\":\\\"\\\"}],\\\"id\\\":8}],\\\"institution\\\":\\\"Georgia Institute of Technology\\\"}},\\\"*\\\"); window.removeEventListener(\\\"message\\\",window.messageReceived); window.messageReceived=(function (event){return (event.data.curriculum!==undefined) ? (WebIO.setval({\\\"name\\\":\\\"curriculum-data\\\",\\\"scope\\\":\\\"223656398252086906\\\",\\\"id\\\":\\\"5525073433073970970\\\",\\\"type\\\":\\\"observable\\\"},event.data.curriculum)) : undefined}); return window.addEventListener(\\\"message\\\",window.messageReceived)})\")), :style => Dict(:padding => \"0\", :height => \"100vh\", :margin => \"0\", :border => \"none\", :width => \"100%\"))), Dict{String, Tuple{Observables.AbstractObservable, Union{Nothing, Bool}}}(\"curriculum-data\" => (Observable{Dict{String, Any}} with 1 listeners. Value:\n",
       "Dict{String, Any}(\"options\" => Dict{String, Any}(\"hideTerms\" => false, \"edit\" => false), \"curriculum\" => Dict{String, Any}(\"name\" => \"Electrical Engineering - Electronic Devices and Circuit Technology\", \"dp_name\" => \"\", \"curriculum_terms\" => Dict{String, Any}[Dict(\"name\" => \"Term 1\", \"curriculum_items\" => Dict{String, Any}[Dict(\"curriculum_requisites\" => Dict{String, Any}[], \"name\" => \"MATH 1551\", \"metrics\" => Dict{String, Any}(\"complexity\" => 27.0, \"centrality\" => 0, \"blocking factor\" => 19, \"delay factor\" => 8.0), \"nameSub\" => \"Differential Calculus\", \"id\" => 5, \"credits\" => 2, \"nameCanonical\" => \"\"), Dict(\"curriculum_requisites\" => Dict{String, Any}[Dict(\"source_id\" => 5, \"target_id\" => 6, \"type\" => \"CurriculumCorequisite\")], \"name\" => \"MATH 1554\", \"metrics\" => Dict{String, Any}(\"complexity\" => 19.0, \"centrality\" => 55, \"blocking factor\" => 12, \"delay factor\" => 7.0), \"nameSub\" => \"Linear Algebra\", \"id\" => 6, \"credits\" => 4, \"nameCanonical\" => \"\"), Dict(\"curriculum_requisites\" => Dict{String, Any}[], \"name\" => \"ENGL 1101\", \"metrics\" => Dict{String, Any}(\"complexity\" => 3.0, \"centrality\" => 0, \"blocking factor\" => 1, \"delay factor\" => 2.0), \"nameSub\" => \"English Composition I\", \"id\" => 4, \"credits\" => 3, \"nameCanonical\" => \"\"), Dict(\"curriculum_requisites\" => Dict{String, Any}[], \"name\" => \"ECE 3005\", \"metrics\" => Dict{String, Any}(\"complexity\" => 1.0, \"centrality\" => 0, \"blocking factor\" => 0, \"delay factor\" => 1.0), \"nameSub\" => \"\", \"id\" => 28, \"credits\" => 1, \"nameCanonical\" => \"\"), Dict(\"curriculum_requisites\" => Dict{String, Any}[], \"name\" => \" \", \"metrics\" => Dict{String, Any}(\"complexity\" => 1.0, \"centrality\" => 0, \"blocking factor\" => 0, \"delay factor\" => 1.0), \"nameSub\" => \"History/Government Elective\", \"id\" => 11, \"credits\" => 3, \"nameCanonical\" => \"\"), Dict(\"curriculum_requisites\" => Dict{String, Any}[], \"name\" => \" \", \"metrics\" => Dict{String, Any}(\"complexity\" => 1.0, \"centrality\" => 0, \"blocking factor\" => 0, \"delay factor\" => 1.0), \"nameSub\" => \"Social Science Elective\", \"id\" => 40, \"credits\" => 3, \"nameCanonical\" => \"\")], \"id\" => 1), Dict(\"name\" => \"Term 2\", \"curriculum_items\" => Dict{String, Any}[Dict(\"curriculum_requisites\" => Dict{String, Any}[Dict(\"source_id\" => 5, \"target_id\" => 9, \"type\" => \"CurriculumPrerequisite\")], \"name\" => \"MATH 1552\", \"metrics\" => Dict{String, Any}(\"complexity\" => 25.0, \"centrality\" => 111, \"blocking factor\" => 17, \"delay factor\" => 8.0), \"nameSub\" => \"Integral Calculus\", \"id\" => 9, \"credits\" => 4, \"nameCanonical\" => \"\"), Dict(\"curriculum_requisites\" => Dict{String, Any}[Dict(\"source_id\" => 4, \"target_id\" => 8, \"type\" => \"CurriculumPrerequisite\")], \"name\" => \"ENGL 1102\", \"metrics\" => Dict{String, Any}(\"complexity\" => 2.0, \"centrality\" => 0, \"blocking factor\" => 0, \"delay factor\" => 2.0), \"nameSub\" => \"English Composition II\", \"id\" => 8, \"credits\" => 3, \"nameCanonical\" => \"\"), Dict(\"curriculum_requisites\" => Dict{String, Any}[], \"name\" => \" \", \"metrics\" => Dict{String, Any}(\"complexity\" => 1.0, \"centrality\" => 0, \"blocking factor\" => 0, \"delay factor\" => 1.0), \"nameSub\" => \"Elective Hours\", \"id\" => 39, \"credits\" => 2, \"nameCanonical\" => \"\"), Dict(\"curriculum_requisites\" => Dict{String, Any}[], \"name\" => \"CS 1301\", \"metrics\" => Dict{String, Any}(\"complexity\" => 16.0, \"centrality\" => 0, \"blocking factor\" => 10, \"delay factor\" => 6.0), \"nameSub\" => \"Intro to Computing\", \"id\" => 2, \"credits\" => 3, \"nameCanonical\" => \"\"), Dict(\"curriculum_requisites\" => Dict{String, Any}[Dict(\"source_id\" => 9, \"target_id\" => 10, \"type\" => \"CurriculumCorequisite\")], \"name\" => \"PHYS  2211\", \"metrics\" => Dict{String, Any}(\"complexity\" => 20.0, \"centrality\" => 46, \"blocking factor\" => 12, \"delay factor\" => 8.0), \"nameSub\" => \"Intro Physics 1\", \"id\" => 10, \"credits\" => 4, \"nameCanonical\" => \"\")], \"id\" => 2), Dict(\"name\" => \"Term 3\", \"curriculum_items\" => Dict{String, Any}[Dict(\"curriculum_requisites\" => Dict{String, Any}[Dict(\"source_id\" => 10, \"target_id\" => 16, \"type\" => \"CurriculumPrerequisite\")], \"name\" => \"PHYS  2212\", \"metrics\" => Dict{String, Any}(\"complexity\" => 19.0, \"centrality\" => 46, \"blocking factor\" => 11, \"delay factor\" => 8.0), \"nameSub\" => \"Intro. Physics 2\", \"id\" => 16, \"credits\" => 4, \"nameCanonical\" => \"\"), Dict(\"curriculum_requisites\" => Dict{String, Any}[Dict(\"source_id\" => 2, \"target_id\" => 12, \"type\" => \"CurriculumPrerequisite\"), Dict(\"source_id\" => 9, \"target_id\" => 12, \"type\" => \"CurriculumPrerequisite\")], \"name\" => \"ECE 2026\", \"metrics\" => Dict{String, Any}(\"complexity\" => 9.0, \"centrality\" => 11, \"blocking factor\" => 3, \"delay factor\" => 6.0), \"nameSub\" => \"Intro. to Signal Processing\", \"id\" => 12, \"credits\" => 3, \"nameCanonical\" => \"\"), Dict(\"curriculum_requisites\" => Dict{String, Any}[Dict(\"source_id\" => 2, \"target_id\" => 7, \"type\" => \"CurriculumPrerequisite\")], \"name\" => \"ECE 2020\", \"metrics\" => Dict{String, Any}(\"complexity\" => 11.0, \"centrality\" => 41, \"blocking factor\" => 5, \"delay factor\" => 6.0), \"nameSub\" => \"Fund. of Digital System Design\", \"id\" => 7, \"credits\" => 3, \"nameCanonical\" => \"\"), Dict(\"curriculum_requisites\" => Dict{String, Any}[Dict(\"source_id\" => 6, \"target_id\" => 15, \"type\" => \"CurriculumPrerequisite\"), Dict(\"source_id\" => 9, \"target_id\" => 15, \"type\" => \"CurriculumPrerequisite\")], \"name\" => \"MATH 2552\", \"metrics\" => Dict{String, Any}(\"complexity\" => 18.0, \"centrality\" => 110, \"blocking factor\" => 11, \"delay factor\" => 7.0), \"nameSub\" => \"Differential Equations\", \"id\" => 15, \"credits\" => 4, \"nameCanonical\" => \"\"), Dict(\"curriculum_requisites\" => Dict{String, Any}[], \"name\" => \"APPH 1040\", \"metrics\" => Dict{String, Any}(\"complexity\" => 1.0, \"centrality\" => 0, \"blocking factor\" => 0, \"delay factor\" => 1.0), \"nameSub\" => \"\", \"id\" => 26, \"credits\" => 2, \"nameCanonical\" => \"\")], \"id\" => 3), Dict(\"name\" => \"Term 4\", \"curriculum_items\" => Dict{String, Any}[Dict(\"curriculum_requisites\" => Dict{String, Any}[Dict(\"source_id\" => 16, \"target_id\" => 19, \"type\" => \"CurriculumPrerequisite\"), Dict(\"source_id\" => 15, \"target_id\" => 19, \"type\" => \"CurriculumPrerequisite\")], \"name\" => \"ECE 2040\", \"metrics\" => Dict{String, Any}(\"complexity\" => 18.0, \"centrality\" => 124, \"blocking factor\" => 10, \"delay factor\" => 8.0), \"nameSub\" => \"Circuit Analysis\", \"id\" => 19, \"credits\" => 3, \"nameCanonical\" => \"\"), Dict(\"curriculum_requisites\" => Dict{String, Any}[Dict(\"source_id\" => 7, \"target_id\" => 17, \"type\" => \"CurriculumPrerequisite\"), Dict(\"source_id\" => 18, \"target_id\" => 17, \"type\" => \"CurriculumCorequisite\")], \"name\" => \"ECE 2031\", \"metrics\" => Dict{String, Any}(\"complexity\" => 9.0, \"centrality\" => 31, \"blocking factor\" => 3, \"delay factor\" => 6.0), \"nameSub\" => \"Digital Design Lab\", \"id\" => 17, \"credits\" => 2, \"nameCanonical\" => \"\"), Dict(\"curriculum_requisites\" => Dict{String, Any}[], \"name\" => \"CHEM 1310\", \"metrics\" => Dict{String, Any}(\"complexity\" => 6.0, \"centrality\" => 0, \"blocking factor\" => 3, \"delay factor\" => 3.0), \"nameSub\" => \"General Chemistry\", \"id\" => 1, \"credits\" => 4, \"nameCanonical\" => \"\"), Dict(\"curriculum_requisites\" => Dict{String, Any}[], \"name\" => \" \", \"metrics\" => Dict{String, Any}(\"complexity\" => 1.0, \"centrality\" => 0, \"blocking factor\" => 0, \"delay factor\" => 1.0), \"nameSub\" => \"Humanities Elective\", \"id\" => 14, \"credits\" => 3, \"nameCanonical\" => \"\"), Dict(\"curriculum_requisites\" => Dict{String, Any}[Dict(\"source_id\" => 7, \"target_id\" => 18, \"type\" => \"CurriculumPrerequisite\")], \"name\" => \"ECE 2035\", \"metrics\" => Dict{String, Any}(\"complexity\" => 10.0, \"centrality\" => 27, \"blocking factor\" => 4, \"delay factor\" => 6.0), \"nameSub\" => \"Programming Elective\", \"id\" => 18, \"credits\" => 4, \"nameCanonical\" => \"\")], \"id\" => 4), Dict(\"name\" => \"Term 5\", \"curriculum_items\" => Dict{String, Any}[Dict(\"curriculum_requisites\" => Dict{String, Any}[Dict(\"source_id\" => 9, \"target_id\" => 20, \"type\" => \"CurriculumPrerequisite\")], \"name\" => \"MATH 2551\", \"metrics\" => Dict{String, Any}(\"complexity\" => 5.0, \"centrality\" => 4, \"blocking factor\" => 1, \"delay factor\" => 4.0), \"nameSub\" => \"Multivariate Calculus\", \"id\" => 20, \"credits\" => 4, \"nameCanonical\" => \"\"), Dict(\"curriculum_requisites\" => Dict{String, Any}[Dict(\"source_id\" => 15, \"target_id\" => 24, \"type\" => \"CurriculumPrerequisite\"), Dict(\"source_id\" => 12, \"target_id\" => 24, \"type\" => \"CurriculumPrerequisite\"), Dict(\"source_id\" => 19, \"target_id\" => 24, \"type\" => \"CurriculumPrerequisite\")], \"name\" => \"ECE 3025\", \"metrics\" => Dict{String, Any}(\"complexity\" => 10.0, \"centrality\" => 45, \"blocking factor\" => 2, \"delay factor\" => 8.0), \"nameSub\" => \"Electromagnetics\", \"id\" => 24, \"credits\" => 3, \"nameCanonical\" => \"\"), Dict(\"curriculum_requisites\" => Dict{String, Any}[Dict(\"source_id\" => 22, \"target_id\" => 23, \"type\" => \"CurriculumCorequisite\"), Dict(\"source_id\" => 17, \"target_id\" => 23, \"type\" => \"CurriculumPrerequisite\")], \"name\" => \"ECE 3043\", \"metrics\" => Dict{String, Any}(\"complexity\" => 7.0, \"centrality\" => 0, \"blocking factor\" => 0, \"delay factor\" => 7.0), \"nameSub\" => \"Measurements, Circuits and Microelectronics Lab\", \"id\" => 23, \"credits\" => 2, \"nameCanonical\" => \"\"), Dict(\"curriculum_requisites\" => Dict{String, Any}[Dict(\"source_id\" => 15, \"target_id\" => 22, \"type\" => \"CurriculumPrerequisite\"), Dict(\"source_id\" => 18, \"target_id\" => 22, \"type\" => \"CurriculumPrerequisite\"), Dict(\"source_id\" => 17, \"target_id\" => 22, \"type\" => \"CurriculumPrerequisite\"), Dict(\"source_id\" => 1, \"target_id\" => 22, \"type\" => \"CurriculumPrerequisite\"), Dict(\"source_id\" => 19, \"target_id\" => 22, \"type\" => \"CurriculumPrerequisite\")], \"name\" => \"ECE 3040\", \"metrics\" => Dict{String, Any}(\"complexity\" => 9.0, \"centrality\" => 96, \"blocking factor\" => 2, \"delay factor\" => 7.0), \"nameSub\" => \"Microelectronic Circuits\", \"id\" => 22, \"credits\" => 4, \"nameCanonical\" => \"\"), Dict(\"curriculum_requisites\" => Dict{String, Any}[Dict(\"source_id\" => 19, \"target_id\" => 43, \"type\" => \"CurriculumPrerequisite\")], \"name\" => \" \", \"metrics\" => Dict{String, Any}(\"complexity\" => 6.0, \"centrality\" => 0, \"blocking factor\" => 0, \"delay factor\" => 6.0), \"nameSub\" => \"ECE 3000/4000 Elective\", \"id\" => 43, \"credits\" => 3, \"nameCanonical\" => \"\")], \"id\" => 5), Dict(\"name\" => \"Term 6\", \"curriculum_items\" => Dict{String, Any}[Dict(\"curriculum_requisites\" => Dict{String, Any}[Dict(\"source_id\" => 24, \"target_id\" => 35, \"type\" => \"CurriculumPrerequisite\")], \"name\" => \" \", \"metrics\" => Dict{String, Any}(\"complexity\" => 9.0, \"centrality\" => 45, \"blocking factor\" => 1, \"delay factor\" => 8.0), \"nameSub\" => \"Senior Design Sequence\", \"id\" => 35, \"credits\" => 1, \"nameCanonical\" => \"\"), Dict(\"curriculum_requisites\" => Dict{String, Any}[Dict(\"source_id\" => 19, \"target_id\" => 45, \"type\" => \"CurriculumPrerequisite\")], \"name\" => \" \", \"metrics\" => Dict{String, Any}(\"complexity\" => 6.0, \"centrality\" => 0, \"blocking factor\" => 0, \"delay factor\" => 6.0), \"nameSub\" => \"Circuit Technologies Topics\", \"id\" => 45, \"credits\" => 3, \"nameCanonical\" => \"\"), Dict(\"curriculum_requisites\" => Dict{String, Any}[Dict(\"source_id\" => 19, \"target_id\" => 37, \"type\" => \"CurriculumPrerequisite\")], \"name\" => \" \", \"metrics\" => Dict{String, Any}(\"complexity\" => 6.0, \"centrality\" => 0, \"blocking factor\" => 0, \"delay factor\" => 6.0), \"nameSub\" => \"ECE 3000/4000 Elective\", \"id\" => 37, \"credits\" => 3, \"nameCanonical\" => \"\"), Dict(\"curriculum_requisites\" => Dict{String, Any}[Dict(\"source_id\" => 22, \"target_id\" => 36, \"type\" => \"CurriculumPrerequisite\")], \"name\" => \" \", \"metrics\" => Dict{String, Any}(\"complexity\" => 7.0, \"centrality\" => 0, \"blocking factor\" => 0, \"delay factor\" => 7.0), \"nameSub\" => \"Electronic Devices Topics\", \"id\" => 36, \"credits\" => 3, \"nameCanonical\" => \"\"), Dict(\"curriculum_requisites\" => Dict{String, Any}[Dict(\"source_id\" => 20, \"target_id\" => 25, \"type\" => \"CurriculumPrerequisite\")], \"name\" => \" \", \"metrics\" => Dict{String, Any}(\"complexity\" => 4.0, \"centrality\" => 0, \"blocking factor\" => 0, \"delay factor\" => 4.0), \"nameSub\" => \"Prob & Stat Elective\", \"id\" => 25, \"credits\" => 3, \"nameCanonical\" => \"\"), Dict(\"curriculum_requisites\" => Dict{String, Any}[Dict(\"source_id\" => 19, \"target_id\" => 42, \"type\" => \"CurriculumPrerequisite\")], \"name\" => \" \", \"metrics\" => Dict{String, Any}(\"complexity\" => 6.0, \"centrality\" => 0, \"blocking factor\" => 0, \"delay factor\" => 6.0), \"nameSub\" => \"ECE 3000/4000 Elective\", \"id\" => 42, \"credits\" => 3, \"nameCanonical\" => \"\")], \"id\" => 6), Dict(\"name\" => \"Term 7\", \"curriculum_items\" => Dict{String, Any}[Dict(\"curriculum_requisites\" => Dict{String, Any}[], \"name\" => \" \", \"metrics\" => Dict{String, Any}(\"complexity\" => 1.0, \"centrality\" => 0, \"blocking factor\" => 0, \"delay factor\" => 1.0), \"nameSub\" => \"Elective Hours\", \"id\" => 44, \"credits\" => 3, \"nameCanonical\" => \"\"), Dict(\"curriculum_requisites\" => Dict{String, Any}[], \"name\" => \" \", \"metrics\" => Dict{String, Any}(\"complexity\" => 1.0, \"centrality\" => 0, \"blocking factor\" => 0, \"delay factor\" => 1.0), \"nameSub\" => \"Econ/Social Science Elective\", \"id\" => 13, \"credits\" => 3, \"nameCanonical\" => \"\"), Dict(\"curriculum_requisites\" => Dict{String, Any}[], \"name\" => \" \", \"metrics\" => Dict{String, Any}(\"complexity\" => 1.0, \"centrality\" => 0, \"blocking factor\" => 0, \"delay factor\" => 1.0), \"nameSub\" => \"Science Elective\", \"id\" => 21, \"credits\" => 3, \"nameCanonical\" => \"\"), Dict(\"curriculum_requisites\" => Dict{String, Any}[Dict(\"source_id\" => 35, \"target_id\" => 41, \"type\" => \"CurriculumPrerequisite\")], \"name\" => \" \", \"metrics\" => Dict{String, Any}(\"complexity\" => 8.0, \"centrality\" => 0, \"blocking factor\" => 0, \"delay factor\" => 8.0), \"nameSub\" => \"Senior Design Sequence\", \"id\" => 41, \"credits\" => 2, \"nameCanonical\" => \"\"), Dict(\"curriculum_requisites\" => Dict{String, Any}[], \"name\" => \" \", \"metrics\" => Dict{String, Any}(\"complexity\" => 1.0, \"centrality\" => 0, \"blocking factor\" => 0, \"delay factor\" => 1.0), \"nameSub\" => \"Elective Hours\", \"id\" => 33, \"credits\" => 3, \"nameCanonical\" => \"\"), Dict(\"curriculum_requisites\" => Dict{String, Any}[], \"name\" => \" \", \"metrics\" => Dict{String, Any}(\"complexity\" => 1.0, \"centrality\" => 0, \"blocking factor\" => 0, \"delay factor\" => 1.0), \"nameSub\" => \"Humanities Elective\", \"id\" => 27, \"credits\" => 3, \"nameCanonical\" => \"\")], \"id\" => 7), Dict(\"name\" => \"Term 8\", \"curriculum_items\" => Dict{String, Any}[Dict(\"curriculum_requisites\" => Dict{String, Any}[], \"name\" => \"ECE 3450\", \"metrics\" => Dict{String, Any}(\"complexity\" => 1.0, \"centrality\" => 0, \"blocking factor\" => 0, \"delay factor\" => 1.0), \"nameSub\" => \"\", \"id\" => 30, \"credits\" => 3, \"nameCanonical\" => \"\"), Dict(\"curriculum_requisites\" => Dict{String, Any}[], \"name\" => \" \", \"metrics\" => Dict{String, Any}(\"complexity\" => 1.0, \"centrality\" => 0, \"blocking factor\" => 0, \"delay factor\" => 1.0), \"nameSub\" => \"Social Science Elective\", \"id\" => 32, \"credits\" => 3, \"nameCanonical\" => \"\"), Dict(\"curriculum_requisites\" => Dict{String, Any}[], \"name\" => \"ECE 3400\", \"metrics\" => Dict{String, Any}(\"complexity\" => 1.0, \"centrality\" => 0, \"blocking factor\" => 0, \"delay factor\" => 1.0), \"nameSub\" => \"\", \"id\" => 31, \"credits\" => 3, \"nameCanonical\" => \"\"), Dict(\"curriculum_requisites\" => Dict{String, Any}[], \"name\" => \" \", \"metrics\" => Dict{String, Any}(\"complexity\" => 1.0, \"centrality\" => 0, \"blocking factor\" => 0, \"delay factor\" => 1.0), \"nameSub\" => \"Elective Hours\", \"id\" => 29, \"credits\" => 3, \"nameCanonical\" => \"\"), Dict(\"curriculum_requisites\" => Dict{String, Any}[], \"name\" => \"ECE 4452\", \"metrics\" => Dict{String, Any}(\"complexity\" => 1.0, \"centrality\" => 0, \"blocking factor\" => 0, \"delay factor\" => 1.0), \"nameSub\" => \"\", \"id\" => 38, \"credits\" => 3, \"nameCanonical\" => \"\"), Dict(\"curriculum_requisites\" => Dict{String, Any}[], \"name\" => \"ECE 1100\", \"metrics\" => Dict{String, Any}(\"complexity\" => 1.0, \"centrality\" => 0, \"blocking factor\" => 0, \"delay factor\" => 1.0), \"nameSub\" => \"ECE Discovery Studio\", \"id\" => 3, \"credits\" => 1, \"nameCanonical\" => \"\")], \"id\" => 8)], \"institution\" => \"Georgia Institute of Technology\")), nothing)), Set{String}(), nothing, WebIO.Asset[], Dict{Any, Any}(), WebIO.ConnectionPool(Channel{Any}(32), Set{WebIO.AbstractConnection}(), Condition(Base.InvasiveLinkedList{Task}(Task (runnable) @0x000000017b9f3860, Task (runnable) @0x000000017b9f3860), Base.AlwaysLockedST(1))), WebIO.JSString[])"
      ]
     },
     "execution_count": 44,
     "metadata": {
      "application/vnd.webio.node+json": {
       "kernelId": "57345c2e-0e7f-4bb9-9126-5b2688df4b44"
      }
     },
     "output_type": "execute_result"
    }
   ],
   "source": [
    "EE_new_3 = optimize_plan(EE_plan.curriculum, 8, 12, 18, [balance_obj, req_distance_obj]);\n",
    "visualize(EE_new_3, notebook=true)"
   ]
  },
  {
   "cell_type": "code",
   "execution_count": 45,
   "metadata": {},
   "outputs": [
    {
     "name": "stdout",
     "output_type": "stream",
     "text": [
      "\n",
      "Curriculum: Electrical Engineering - Electronic Devices and Circuit Technology\n",
      "Degree Plan: \n",
      "  total credit hours = 129\n",
      "  number of terms = 8\n",
      "  max. credits in a term = 17, in term 7\n",
      "  min. credits in a term = 16, in term 1\n",
      "  avg. credits per term = 16.125, with std. dev. = 0.33071891388307384\n",
      "\n"
     ]
    }
   ],
   "source": [
    "metrics = basic_metrics(EE_new_3)\n",
    "println(String(take!(metrics)))"
   ]
  },
  {
   "cell_type": "code",
   "execution_count": 38,
   "metadata": {},
   "outputs": [],
   "source": [
    "#EE_new_4 = optimize_plan(EE_plan.curriculum, 8, 12, 18, [balance_obj, req_distance_obj], toxic_courses=toxic);\n",
    "#visualize(EE_new_4, notebook=true)"
   ]
  },
  {
   "cell_type": "markdown",
   "metadata": {},
   "source": [
    "## References\n",
    "<a id='References'></a>\n",
    "\n",
    "[1] Heileman, G. L., Abdallah, C.T., Slim, A., and Hickman, M. (2018). Curricular analytics: A framework for quantifying the impact of curricular reforms and pedagogical innovations. www.arXiv.org, arXiv:1811.09676 [cs.CY].\n",
    "\n",
    "[2] Heileman, G. L., Free, H. W., Abar, O. and Thompson-Arjona, W. G, (2019). CurricularAnalytics.jl Toolbox. https://github.com/heileman/CurricularAnalytics.jl."
   ]
  }
 ],
 "metadata": {
  "@webio": {
   "lastCommId": "a8ede2fd8dd6438b9255000dd0c44b26",
   "lastKernelId": "9c1daafc-af78-45a1-9a8c-18e9669ea985"
  },
  "kernelspec": {
   "display_name": "Julia 1.6.0",
   "language": "julia",
   "name": "julia-1.6"
  },
  "language_info": {
   "file_extension": ".jl",
   "mimetype": "application/julia",
   "name": "julia",
   "version": "1.6.0"
  }
 },
 "nbformat": 4,
 "nbformat_minor": 2
}
