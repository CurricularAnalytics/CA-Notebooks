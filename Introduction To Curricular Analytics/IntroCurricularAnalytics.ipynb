{
 "cells": [
  {
   "cell_type": "markdown",
   "metadata": {},
   "source": [
    "# <center>Introduction to the Curricular Analytics Toolbox</center>\n",
    "\n",
    "<center>\n",
    "    <b>Gregory L. Heileman$^\\dagger$ and Hayden W. Free$^\\ddagger$</b> <br>\n",
    "    $^\\dagger$Department of Electrical & Computer Engineering <br>\n",
    "    University of Arizona <br>\n",
    "    heileman@arizona.edu <br>\n",
    "    $^\\ddagger$Department of Computer Science <br>\n",
    "    Univeristy of Kentucky <br>\n",
    "    hayden.free@uky.edu\n",
    "</center>"
   ]
  },
  {
   "cell_type": "markdown",
   "metadata": {},
   "source": [
    "## 1. Introduction\n",
    "This notebook is meant to provide an overview of how to get up and running using the Curricular Analytics toolbox, \n",
    "\n",
    "For an overview of the curricular analytics concepts used in this toolbox see <cite data-cite=\"he:18\">Heileman, et. al, (2018)</cite>). An extensive documentation set, describing the various capabilites of the toolbox, is available on [GitHub Pages](https://curricularanalytics.github.io/CurricularAnalytics.jl/latest/).\n",
    "\n",
    "In order to execute the code contained in this notebook, you must first install the Julia progamming language.  See: https://julialang.org. Next, you should enter \"package mode\" from within the Julia REPL, by entering `]`, i.e., \n",
    "```julia\n",
    "julia> ]\n",
    "```\n",
    "Then you should add the following packages associated with the Curricular Analtyics toolbox:\n",
    "```julia\n",
    "pkg> add CurricularAnalytics\n",
    "pkg> add CurricularVisualization\n",
    "```\n",
    "This may take some time, and you may be required to add additonal packages (just follow the directions that Julia provides to you), but you will only need to do this once in order to use the toolbox."
   ]
  },
  {
   "cell_type": "markdown",
   "metadata": {},
   "source": [
    "Once these packages are added, the `using` command can be used to load a package into the user's current Julia enironment, and makes the various items defined in that package available to the user. Load the CurricularAnaltyics package using the following commands:"
   ]
  },
  {
   "cell_type": "code",
   "execution_count": 23,
   "metadata": {},
   "outputs": [],
   "source": [
    "using CurricularAnalytics, CurricularVisualization"
   ]
  },
  {
   "cell_type": "markdown",
   "metadata": {},
   "source": [
    "## 2. Creating Curricula and Degree Plans\n",
    "\n",
    "Now that your enviroment is set up, let's start by creating a simple curriculum, along with a degree plan for that curriculum.  Consider a Basket Weaving curriculum, consisting of the following four courses:\n",
    " - BW 101 : Introduction to Baskets, 3 credits\n",
    " - BW 101L : Introduction to Baskets Lab, 1 credit; strict co-requisite: BW 101\n",
    " - BW 111 : Basic Basket Forms, 3 credits; prerequisite: BW 101\n",
    " - BW 201 : Advanced Basketry, 3 credits; co-requisite: BW 111\n",
    " \n",
    "Notice that the Introduction to Baskets Lab must be taken at the same time as the course Introduction to Baskets. That is, the laboratory is a *strict co-requisite* for the course. Notice also, that the Basic Basket Forms class has the Introduction to Baskets class a *prerequisite*, and the Advanced Basketry class has the Basic Basket forms class as a *co-requisite*. \n",
    "\n",
    "### 2.1 Curricula\n",
    "\n",
    "The following commands will create this curriculum:"
   ]
  },
  {
   "cell_type": "code",
   "execution_count": 24,
   "metadata": {},
   "outputs": [],
   "source": [
    "# first create the courses\n",
    "c1 = Course(\"Introduction to Baskets\", 3, prefix = \"BW\", num = \"101\")\n",
    "c2 = Course(\"Introduction to Baskets Lab\", 1, prefix = \"BW\", num = \"101L\")\n",
    "c3 = Course(\"Basic Basket Forms\", 3, prefix = \"BW\", num = \"111\")\n",
    "c4 = Course(\"Advanced Basketry\", 3, prefix = \"BW\", num = \"201\")\n",
    "\n",
    "# next create the various requisite relationships\n",
    "add_requisite!(c1, c2, strict_co)\n",
    "add_requisite!(c1, c3, pre)\n",
    "add_requisite!(c3, c4, co)\n",
    "\n",
    "# now store the courses in an array\n",
    "courses = [c1, c2, c3, c4];"
   ]
  },
  {
   "cell_type": "markdown",
   "metadata": {},
   "source": [
    "Notice that the `add_requisite!` function has an exclamation point at the end of its name. In Julia, this convention is used to indicate that the function modifies the underlying data.\n",
    "\n",
    "Next, to create a curriculum from these courses, use:"
   ]
  },
  {
   "cell_type": "code",
   "execution_count": 25,
   "metadata": {},
   "outputs": [],
   "source": [
    "curric = Curriculum(\"Basket Weaving Program\", courses);"
   ]
  },
  {
   "cell_type": "markdown",
   "metadata": {},
   "source": [
    "If you'd like to visualize this curriculum, you can download and use a companion visualization package using (warning this may take some time, and its often easier to download a package using the Julia REPL):"
   ]
  },
  {
   "cell_type": "code",
   "execution_count": 26,
   "metadata": {
    "scrolled": false
   },
   "outputs": [
    {
     "data": {
      "application/vnd.webio.node+json": {
       "children": [
        {
         "children": [
          ""
         ],
         "instanceArgs": {
          "namespace": "html",
          "tag": "iframe"
         },
         "nodeType": "DOM",
         "props": {
          "events": {
           "load": "(function (){this.contentWindow.postMessage({\"options\":{\"hideTerms\":true,\"edit\":false},\"curriculum\":{\"name\":\"Basket Weaving Program\",\"dp_name\":\"\",\"curriculum_terms\":[{\"name\":\"Term 1\",\"curriculum_items\":[{\"curriculum_requisites\":[],\"name\":\"BW 101\",\"metrics\":{},\"nameSub\":\"Introduction to Baskets\",\"id\":404174908,\"credits\":3,\"nameCanonical\":\"\"},{\"curriculum_requisites\":[{\"source_id\":404174908,\"target_id\":3111264138,\"type\":\"CurriculumStrictCorequisite\"}],\"name\":\"BW 101L\",\"metrics\":{},\"nameSub\":\"Introduction to Baskets Lab\",\"id\":3111264138,\"credits\":1,\"nameCanonical\":\"\"}],\"id\":1},{\"name\":\"Term 2\",\"curriculum_items\":[{\"curriculum_requisites\":[{\"source_id\":404174908,\"target_id\":241874163,\"type\":\"CurriculumPrerequisite\"}],\"name\":\"BW 111\",\"metrics\":{},\"nameSub\":\"Basic Basket Forms\",\"id\":241874163,\"credits\":3,\"nameCanonical\":\"\"},{\"curriculum_requisites\":[{\"source_id\":241874163,\"target_id\":627886062,\"type\":\"CurriculumCorequisite\"}],\"name\":\"BW 201\",\"metrics\":{},\"nameSub\":\"Advanced Basketry\",\"id\":627886062,\"credits\":3,\"nameCanonical\":\"\"}],\"id\":2}],\"institution\":\"\"}},\"*\"); window.removeEventListener(\"message\",window.messageReceived); window.messageReceived=(function (event){return (event.data.curriculum!==undefined) ? (WebIO.setval({\"name\":\"curriculum-data\",\"scope\":\"13543943536989013424\",\"id\":\"17427732835546965915\",\"type\":\"observable\"},event.data.curriculum)) : undefined}); return window.addEventListener(\"message\",window.messageReceived)})"
          },
          "id": "curriculum",
          "src": "http://localhost:8156",
          "style": {
           "border": "none",
           "height": "50vh",
           "margin": "0",
           "padding": "0",
           "width": "100%"
          }
         },
         "type": "node"
        }
       ],
       "instanceArgs": {
        "handlers": {},
        "id": "13543943536989013424",
        "imports": {
         "data": [],
         "type": "async_block"
        },
        "mount_callbacks": [],
        "observables": {
         "curriculum-data": {
          "id": "17427732835546965915",
          "sync": true,
          "value": {
           "curriculum": {
            "curriculum_terms": [
             {
              "curriculum_items": [
               {
                "credits": 3,
                "curriculum_requisites": [],
                "id": 404174908,
                "metrics": {},
                "name": "BW 101",
                "nameCanonical": "",
                "nameSub": "Introduction to Baskets"
               },
               {
                "credits": 1,
                "curriculum_requisites": [
                 {
                  "source_id": 404174908,
                  "target_id": 3111264138,
                  "type": "CurriculumStrictCorequisite"
                 }
                ],
                "id": 3111264138,
                "metrics": {},
                "name": "BW 101L",
                "nameCanonical": "",
                "nameSub": "Introduction to Baskets Lab"
               }
              ],
              "id": 1,
              "name": "Term 1"
             },
             {
              "curriculum_items": [
               {
                "credits": 3,
                "curriculum_requisites": [
                 {
                  "source_id": 404174908,
                  "target_id": 241874163,
                  "type": "CurriculumPrerequisite"
                 }
                ],
                "id": 241874163,
                "metrics": {},
                "name": "BW 111",
                "nameCanonical": "",
                "nameSub": "Basic Basket Forms"
               },
               {
                "credits": 3,
                "curriculum_requisites": [
                 {
                  "source_id": 241874163,
                  "target_id": 627886062,
                  "type": "CurriculumCorequisite"
                 }
                ],
                "id": 627886062,
                "metrics": {},
                "name": "BW 201",
                "nameCanonical": "",
                "nameSub": "Advanced Basketry"
               }
              ],
              "id": 2,
              "name": "Term 2"
             }
            ],
            "dp_name": "",
            "institution": "",
            "name": "Basket Weaving Program"
           },
           "options": {
            "edit": false,
            "hideTerms": true
           }
          }
         }
        },
        "systemjs_options": null
       },
       "nodeType": "Scope",
       "props": {},
       "type": "node"
      },
      "text/html": [
       "<div\n",
       "    class=\"webio-mountpoint\"\n",
       "    data-webio-mountpoint=\"2424574968772126437\"\n",
       ">\n",
       "    <script>\n",
       "    if (window.require && require.defined && require.defined(\"nbextensions/webio-jupyter-notebook\")) {\n",
       "        console.log(\"Jupyter WebIO extension detected, not mounting.\");\n",
       "    } else if (window.WebIO) {\n",
       "        WebIO.mount(\n",
       "            document.querySelector('[data-webio-mountpoint=\"2424574968772126437\"]'),\n",
       "            {\"props\":{},\"nodeType\":\"Scope\",\"type\":\"node\",\"instanceArgs\":{\"imports\":{\"data\":[],\"type\":\"async_block\"},\"id\":\"13543943536989013424\",\"handlers\":{},\"systemjs_options\":null,\"mount_callbacks\":[],\"observables\":{\"curriculum-data\":{\"sync\":true,\"id\":\"17427732835546965915\",\"value\":{\"options\":{\"hideTerms\":true,\"edit\":false},\"curriculum\":{\"name\":\"Basket Weaving Program\",\"dp_name\":\"\",\"curriculum_terms\":[{\"name\":\"Term 1\",\"curriculum_items\":[{\"curriculum_requisites\":[],\"name\":\"BW 101\",\"metrics\":{},\"nameSub\":\"Introduction to Baskets\",\"id\":404174908,\"credits\":3,\"nameCanonical\":\"\"},{\"curriculum_requisites\":[{\"source_id\":404174908,\"target_id\":3111264138,\"type\":\"CurriculumStrictCorequisite\"}],\"name\":\"BW 101L\",\"metrics\":{},\"nameSub\":\"Introduction to Baskets Lab\",\"id\":3111264138,\"credits\":1,\"nameCanonical\":\"\"}],\"id\":1},{\"name\":\"Term 2\",\"curriculum_items\":[{\"curriculum_requisites\":[{\"source_id\":404174908,\"target_id\":241874163,\"type\":\"CurriculumPrerequisite\"}],\"name\":\"BW 111\",\"metrics\":{},\"nameSub\":\"Basic Basket Forms\",\"id\":241874163,\"credits\":3,\"nameCanonical\":\"\"},{\"curriculum_requisites\":[{\"source_id\":241874163,\"target_id\":627886062,\"type\":\"CurriculumCorequisite\"}],\"name\":\"BW 201\",\"metrics\":{},\"nameSub\":\"Advanced Basketry\",\"id\":627886062,\"credits\":3,\"nameCanonical\":\"\"}],\"id\":2}],\"institution\":\"\"}}}}},\"children\":[{\"props\":{\"src\":\"http:\\/\\/localhost:8156\",\"id\":\"curriculum\",\"events\":{\"load\":\"(function (){this.contentWindow.postMessage({\\\"options\\\":{\\\"hideTerms\\\":true,\\\"edit\\\":false},\\\"curriculum\\\":{\\\"name\\\":\\\"Basket Weaving Program\\\",\\\"dp_name\\\":\\\"\\\",\\\"curriculum_terms\\\":[{\\\"name\\\":\\\"Term 1\\\",\\\"curriculum_items\\\":[{\\\"curriculum_requisites\\\":[],\\\"name\\\":\\\"BW 101\\\",\\\"metrics\\\":{},\\\"nameSub\\\":\\\"Introduction to Baskets\\\",\\\"id\\\":404174908,\\\"credits\\\":3,\\\"nameCanonical\\\":\\\"\\\"},{\\\"curriculum_requisites\\\":[{\\\"source_id\\\":404174908,\\\"target_id\\\":3111264138,\\\"type\\\":\\\"CurriculumStrictCorequisite\\\"}],\\\"name\\\":\\\"BW 101L\\\",\\\"metrics\\\":{},\\\"nameSub\\\":\\\"Introduction to Baskets Lab\\\",\\\"id\\\":3111264138,\\\"credits\\\":1,\\\"nameCanonical\\\":\\\"\\\"}],\\\"id\\\":1},{\\\"name\\\":\\\"Term 2\\\",\\\"curriculum_items\\\":[{\\\"curriculum_requisites\\\":[{\\\"source_id\\\":404174908,\\\"target_id\\\":241874163,\\\"type\\\":\\\"CurriculumPrerequisite\\\"}],\\\"name\\\":\\\"BW 111\\\",\\\"metrics\\\":{},\\\"nameSub\\\":\\\"Basic Basket Forms\\\",\\\"id\\\":241874163,\\\"credits\\\":3,\\\"nameCanonical\\\":\\\"\\\"},{\\\"curriculum_requisites\\\":[{\\\"source_id\\\":241874163,\\\"target_id\\\":627886062,\\\"type\\\":\\\"CurriculumCorequisite\\\"}],\\\"name\\\":\\\"BW 201\\\",\\\"metrics\\\":{},\\\"nameSub\\\":\\\"Advanced Basketry\\\",\\\"id\\\":627886062,\\\"credits\\\":3,\\\"nameCanonical\\\":\\\"\\\"}],\\\"id\\\":2}],\\\"institution\\\":\\\"\\\"}},\\\"*\\\"); window.removeEventListener(\\\"message\\\",window.messageReceived); window.messageReceived=(function (event){return (event.data.curriculum!==undefined) ? (WebIO.setval({\\\"name\\\":\\\"curriculum-data\\\",\\\"scope\\\":\\\"13543943536989013424\\\",\\\"id\\\":\\\"17427732835546965915\\\",\\\"type\\\":\\\"observable\\\"},event.data.curriculum)) : undefined}); return window.addEventListener(\\\"message\\\",window.messageReceived)})\"},\"style\":{\"padding\":\"0\",\"height\":\"50vh\",\"margin\":\"0\",\"border\":\"none\",\"width\":\"100%\"}},\"nodeType\":\"DOM\",\"type\":\"node\",\"instanceArgs\":{\"namespace\":\"html\",\"tag\":\"iframe\"},\"children\":[\"\"]}]},\n",
       "            window,\n",
       "        );\n",
       "    } else {\n",
       "        document\n",
       "            .querySelector('[data-webio-mountpoint=\"2424574968772126437\"]')\n",
       "            .innerHTML = (\n",
       "                '<div style=\"padding: 1em; background-color: #f8d6da; border: 1px solid #f5c6cb\">' +\n",
       "                '<p><strong>WebIO not detected.</strong></p>' +\n",
       "                '<p>Please read ' +\n",
       "                '<a href=\"https://juliagizmos.github.io/WebIO.jl/latest/troubleshooting/not-detected/\" target=\"_blank\">the troubleshooting guide</a> ' +\n",
       "                'for more information on how to resolve this issue.</p>' +\n",
       "                '<p><a href=\"https://juliagizmos.github.io/WebIO.jl/latest/troubleshooting/not-detected/\" target=\"_blank\">https://juliagizmos.github.io/WebIO.jl/latest/troubleshooting/not-detected/</a></p>' +\n",
       "                '</div>'\n",
       "            );\n",
       "    }\n",
       "    </script>\n",
       "</div>\n"
      ],
      "text/plain": [
       "WebIO.Scope(WebIO.Node{WebIO.DOM}(WebIO.DOM(:html, :iframe), Any[\"\"], Dict{Symbol,Any}(:src => \"http://localhost:8156\",:id => \"curriculum\",:events => Dict{Symbol,WebIO.JSString}(:load => WebIO.JSString(\"(function (){this.contentWindow.postMessage({\\\"options\\\":{\\\"hideTerms\\\":true,\\\"edit\\\":false},\\\"curriculum\\\":{\\\"name\\\":\\\"Basket Weaving Program\\\",\\\"dp_name\\\":\\\"\\\",\\\"curriculum_terms\\\":[{\\\"name\\\":\\\"Term 1\\\",\\\"curriculum_items\\\":[{\\\"curriculum_requisites\\\":[],\\\"name\\\":\\\"BW 101\\\",\\\"metrics\\\":{},\\\"nameSub\\\":\\\"Introduction to Baskets\\\",\\\"id\\\":404174908,\\\"credits\\\":3,\\\"nameCanonical\\\":\\\"\\\"},{\\\"curriculum_requisites\\\":[{\\\"source_id\\\":404174908,\\\"target_id\\\":3111264138,\\\"type\\\":\\\"CurriculumStrictCorequisite\\\"}],\\\"name\\\":\\\"BW 101L\\\",\\\"metrics\\\":{},\\\"nameSub\\\":\\\"Introduction to Baskets Lab\\\",\\\"id\\\":3111264138,\\\"credits\\\":1,\\\"nameCanonical\\\":\\\"\\\"}],\\\"id\\\":1},{\\\"name\\\":\\\"Term 2\\\",\\\"curriculum_items\\\":[{\\\"curriculum_requisites\\\":[{\\\"source_id\\\":404174908,\\\"target_id\\\":241874163,\\\"type\\\":\\\"CurriculumPrerequisite\\\"}],\\\"name\\\":\\\"BW 111\\\",\\\"metrics\\\":{},\\\"nameSub\\\":\\\"Basic Basket Forms\\\",\\\"id\\\":241874163,\\\"credits\\\":3,\\\"nameCanonical\\\":\\\"\\\"},{\\\"curriculum_requisites\\\":[{\\\"source_id\\\":241874163,\\\"target_id\\\":627886062,\\\"type\\\":\\\"CurriculumCorequisite\\\"}],\\\"name\\\":\\\"BW 201\\\",\\\"metrics\\\":{},\\\"nameSub\\\":\\\"Advanced Basketry\\\",\\\"id\\\":627886062,\\\"credits\\\":3,\\\"nameCanonical\\\":\\\"\\\"}],\\\"id\\\":2}],\\\"institution\\\":\\\"\\\"}},\\\"*\\\"); window.removeEventListener(\\\"message\\\",window.messageReceived); window.messageReceived=(function (event){return (event.data.curriculum!==undefined) ? (WebIO.setval({\\\"name\\\":\\\"curriculum-data\\\",\\\"scope\\\":\\\"13543943536989013424\\\",\\\"id\\\":\\\"17427732835546965915\\\",\\\"type\\\":\\\"observable\\\"},event.data.curriculum)) : undefined}); return window.addEventListener(\\\"message\\\",window.messageReceived)})\")),:style => Dict(:padding => \"0\",:height => \"50vh\",:margin => \"0\",:border => \"none\",:width => \"100%\"))), Dict{String,Tuple{Observables.AbstractObservable,Union{Nothing, Bool}}}(\"curriculum-data\" => (Observable{Dict{String,Any}} with 1 listeners. Value:\n",
       "Dict{String,Any}(\"options\" => Dict{String,Any}(\"hideTerms\" => true,\"edit\" => false),\"curriculum\" => Dict{String,Any}(\"name\" => \"Basket Weaving Program\",\"dp_name\" => \"\",\"curriculum_terms\" => Dict{String,Any}[Dict(\"name\" => \"Term 1\",\"curriculum_items\" => Dict{String,Any}[Dict(\"curriculum_requisites\" => Dict{String,Any}[],\"name\" => \"BW 101\",\"metrics\" => Dict{String,Any}(),\"nameSub\" => \"Introduction to Baskets\",\"id\" => 404174908,\"credits\" => 3,\"nameCanonical\" => \"\"), Dict(\"curriculum_requisites\" => Dict{String,Any}[Dict(\"source_id\" => 404174908,\"target_id\" => 3111264138,\"type\" => \"CurriculumStrictCorequisite\")],\"name\" => \"BW 101L\",\"metrics\" => Dict{String,Any}(),\"nameSub\" => \"Introduction to Baskets Lab\",\"id\" => 3111264138,\"credits\" => 1,\"nameCanonical\" => \"\")],\"id\" => 1), Dict(\"name\" => \"Term 2\",\"curriculum_items\" => Dict{String,Any}[Dict(\"curriculum_requisites\" => Dict{String,Any}[Dict(\"source_id\" => 404174908,\"target_id\" => 241874163,\"type\" => \"CurriculumPrerequisite\")],\"name\" => \"BW 111\",\"metrics\" => Dict{String,Any}(),\"nameSub\" => \"Basic Basket Forms\",\"id\" => 241874163,\"credits\" => 3,\"nameCanonical\" => \"\"), Dict(\"curriculum_requisites\" => Dict{String,Any}[Dict(\"source_id\" => 241874163,\"target_id\" => 627886062,\"type\" => \"CurriculumCorequisite\")],\"name\" => \"BW 201\",\"metrics\" => Dict{String,Any}(),\"nameSub\" => \"Advanced Basketry\",\"id\" => 627886062,\"credits\" => 3,\"nameCanonical\" => \"\")],\"id\" => 2)],\"institution\" => \"\")), nothing)), Set{String}(), nothing, WebIO.Asset[], Dict{Any,Any}(), WebIO.ConnectionPool(Channel{Any}(sz_max:32,sz_curr:0), Set{WebIO.AbstractConnection}(), Base.GenericCondition{Base.AlwaysLockedST}(Base.InvasiveLinkedList{Task}(Task (runnable) @0x000000011160ef50, Task (runnable) @0x000000011160ef50), Base.AlwaysLockedST(1))), WebIO.JSString[])"
      ]
     },
     "execution_count": 26,
     "metadata": {
      "application/vnd.webio.node+json": {
       "kernelId": "38ef9191-949f-4bdf-a486-1761b8e78e85"
      }
     },
     "output_type": "execute_result"
    }
   ],
   "source": [
    "visualize(curric, notebook=true, scale=0.5)"
   ]
  },
  {
   "cell_type": "markdown",
   "metadata": {},
   "source": [
    "#### Verifying Curricula\n",
    "In order to determine whether or not a curriculum is valid, use the `is_valid` function, as follows:"
   ]
  },
  {
   "cell_type": "code",
   "execution_count": 27,
   "metadata": {},
   "outputs": [
    {
     "name": "stdout",
     "output_type": "stream",
     "text": [
      "Curriculum Basket Weaving Program is valid\n"
     ]
    }
   ],
   "source": [
    "errors = IOBuffer()\n",
    "if isvalid_curriculum(curric, errors)\n",
    "    println(\"Curriculum $(curric.name) is valid\")\n",
    "else\n",
    "    println(\"Curriculum $(curric.name) is not valid:\")\n",
    "    print(String(take!(errors)))\n",
    "end"
   ]
  },
  {
   "cell_type": "markdown",
   "metadata": {},
   "source": [
    "In order to demonstrate how this function works when a curriculum is not valid, let us introduce a cycle in the curriculum graphs -- which makes the curriculum impossible to satisfy."
   ]
  },
  {
   "cell_type": "code",
   "execution_count": 30,
   "metadata": {},
   "outputs": [],
   "source": [
    "add_requisite!(c4, c1, pre);"
   ]
  },
  {
   "cell_type": "markdown",
   "metadata": {},
   "source": [
    "Note that you can create an invalid curriculum; however, when you check for validity, errors are reported:"
   ]
  },
  {
   "cell_type": "code",
   "execution_count": 31,
   "metadata": {},
   "outputs": [
    {
     "name": "stdout",
     "output_type": "stream",
     "text": [
      "Curriculum Basket Weaving Program is not valid:\n",
      " curriculum 'Basket Weaving Program -- invalid' has requisite cycles:\n",
      "(Basic Basket Forms, Advanced Basketry, Introduction to Baskets)\n"
     ]
    }
   ],
   "source": [
    "if isvalid_curriculum(bad_curric, errors)\n",
    "    println(\"Curriculum $(curric.name) is valid\")\n",
    "else\n",
    "    println(\"Curriculum $(curric.name) is not valid:\")\n",
    "    print(String(take!(errors)))\n",
    "end"
   ]
  },
  {
   "cell_type": "markdown",
   "metadata": {},
   "source": [
    "The prerequiiste the made the curriculum invalid needs to be removed:"
   ]
  },
  {
   "cell_type": "code",
   "execution_count": 32,
   "metadata": {},
   "outputs": [],
   "source": [
    "delete_requisite!(c4, c1);"
   ]
  },
  {
   "cell_type": "markdown",
   "metadata": {},
   "source": [
    "###  2.2 Degree Plans\n",
    "Degree plans give the sequential time element to a curricula. They serve as a primary benchmark to advise students when to take a course, and as such they should be carefully studied and optimized by administrators. \n",
    "\n",
    "To create the degree plan for the above curricula, the first thing that should be defined is the amount of terms: In our example, we only have 3:"
   ]
  },
  {
   "cell_type": "markdown",
   "metadata": {},
   "source": [
    "Now, each one of the terms should be seperated by their respective courses:"
   ]
  },
  {
   "cell_type": "code",
   "execution_count": 9,
   "metadata": {},
   "outputs": [],
   "source": [
    "t1 = Term([c1, c2])\n",
    "t2 = Term([c3])\n",
    "t3 = Term([c4])\n",
    "terms = [t1, t2, t3];"
   ]
  },
  {
   "cell_type": "markdown",
   "metadata": {},
   "source": [
    "Now the degree plan can be created with the desired name given in \"\""
   ]
  },
  {
   "cell_type": "code",
   "execution_count": 10,
   "metadata": {},
   "outputs": [],
   "source": [
    "dp1 = DegreePlan(\"Basket Weaving Degree Plan--3 terms\", curric, terms);"
   ]
  },
  {
   "cell_type": "markdown",
   "metadata": {},
   "source": [
    "The `visualize` function can also be used to visualize degree plans:"
   ]
  },
  {
   "cell_type": "code",
   "execution_count": 11,
   "metadata": {},
   "outputs": [
    {
     "data": {
      "application/vnd.webio.node+json": {
       "children": [
        {
         "children": [
          ""
         ],
         "instanceArgs": {
          "namespace": "html",
          "tag": "iframe"
         },
         "nodeType": "DOM",
         "props": {
          "events": {
           "load": "(function (){this.contentWindow.postMessage({\"options\":{\"hideTerms\":false,\"edit\":false},\"curriculum\":{\"name\":\"Basket Weaving Program\",\"dp_name\":\"Basket Weaving Degree Plan--3 terms\",\"curriculum_terms\":[{\"name\":\"Term 1\",\"curriculum_items\":[{\"curriculum_requisites\":[],\"name\":\"BW 101\",\"metrics\":{\"centrality\":0,\"complexity\":6.0,\"blocking factor\":3,\"delay factor\":3.0},\"nameSub\":\"Introduction to Baskets\",\"id\":404174908,\"credits\":3,\"nameCanonical\":\"\"},{\"curriculum_requisites\":[{\"source_id\":404174908,\"target_id\":3111264138,\"type\":\"CurriculumStrictCorequisite\"}],\"name\":\"BW 101L\",\"metrics\":{\"centrality\":0,\"complexity\":2.0,\"blocking factor\":0,\"delay factor\":2.0},\"nameSub\":\"Introduction to Baskets Lab\",\"id\":3111264138,\"credits\":1,\"nameCanonical\":\"\"}],\"id\":1},{\"name\":\"Term 2\",\"curriculum_items\":[{\"curriculum_requisites\":[{\"source_id\":404174908,\"target_id\":241874163,\"type\":\"CurriculumPrerequisite\"}],\"name\":\"BW 111\",\"metrics\":{\"centrality\":3,\"complexity\":4.0,\"blocking factor\":1,\"delay factor\":3.0},\"nameSub\":\"Basic Basket Forms\",\"id\":241874163,\"credits\":3,\"nameCanonical\":\"\"}],\"id\":2},{\"name\":\"Term 3\",\"curriculum_items\":[{\"curriculum_requisites\":[{\"source_id\":241874163,\"target_id\":627886062,\"type\":\"CurriculumCorequisite\"}],\"name\":\"BW 201\",\"metrics\":{\"centrality\":0,\"complexity\":3.0,\"blocking factor\":0,\"delay factor\":3.0},\"nameSub\":\"Advanced Basketry\",\"id\":627886062,\"credits\":3,\"nameCanonical\":\"\"}],\"id\":3}],\"institution\":\"\"}},\"*\"); window.removeEventListener(\"message\",window.messageReceived); window.messageReceived=(function (event){return (event.data.curriculum!==undefined) ? (WebIO.setval({\"name\":\"curriculum-data\",\"scope\":\"3495232234309343723\",\"id\":\"2126035529162873195\",\"type\":\"observable\"},event.data.curriculum)) : undefined}); return window.addEventListener(\"message\",window.messageReceived)})"
          },
          "id": "curriculum",
          "src": "http://localhost:8156",
          "style": {
           "border": "none",
           "height": "50vh",
           "margin": "0",
           "padding": "0",
           "width": "100%"
          }
         },
         "type": "node"
        }
       ],
       "instanceArgs": {
        "handlers": {},
        "id": "3495232234309343723",
        "imports": {
         "data": [],
         "type": "async_block"
        },
        "mount_callbacks": [],
        "observables": {
         "curriculum-data": {
          "id": "2126035529162873195",
          "sync": true,
          "value": {
           "curriculum": {
            "curriculum_terms": [
             {
              "curriculum_items": [
               {
                "credits": 3,
                "curriculum_requisites": [],
                "id": 404174908,
                "metrics": {
                 "blocking factor": 3,
                 "centrality": 0,
                 "complexity": 6,
                 "delay factor": 3
                },
                "name": "BW 101",
                "nameCanonical": "",
                "nameSub": "Introduction to Baskets"
               },
               {
                "credits": 1,
                "curriculum_requisites": [
                 {
                  "source_id": 404174908,
                  "target_id": 3111264138,
                  "type": "CurriculumStrictCorequisite"
                 }
                ],
                "id": 3111264138,
                "metrics": {
                 "blocking factor": 0,
                 "centrality": 0,
                 "complexity": 2,
                 "delay factor": 2
                },
                "name": "BW 101L",
                "nameCanonical": "",
                "nameSub": "Introduction to Baskets Lab"
               }
              ],
              "id": 1,
              "name": "Term 1"
             },
             {
              "curriculum_items": [
               {
                "credits": 3,
                "curriculum_requisites": [
                 {
                  "source_id": 404174908,
                  "target_id": 241874163,
                  "type": "CurriculumPrerequisite"
                 }
                ],
                "id": 241874163,
                "metrics": {
                 "blocking factor": 1,
                 "centrality": 3,
                 "complexity": 4,
                 "delay factor": 3
                },
                "name": "BW 111",
                "nameCanonical": "",
                "nameSub": "Basic Basket Forms"
               }
              ],
              "id": 2,
              "name": "Term 2"
             },
             {
              "curriculum_items": [
               {
                "credits": 3,
                "curriculum_requisites": [
                 {
                  "source_id": 241874163,
                  "target_id": 627886062,
                  "type": "CurriculumCorequisite"
                 }
                ],
                "id": 627886062,
                "metrics": {
                 "blocking factor": 0,
                 "centrality": 0,
                 "complexity": 3,
                 "delay factor": 3
                },
                "name": "BW 201",
                "nameCanonical": "",
                "nameSub": "Advanced Basketry"
               }
              ],
              "id": 3,
              "name": "Term 3"
             }
            ],
            "dp_name": "Basket Weaving Degree Plan--3 terms",
            "institution": "",
            "name": "Basket Weaving Program"
           },
           "options": {
            "edit": false,
            "hideTerms": false
           }
          }
         }
        },
        "systemjs_options": null
       },
       "nodeType": "Scope",
       "props": {},
       "type": "node"
      },
      "text/html": [
       "<div\n",
       "    class=\"webio-mountpoint\"\n",
       "    data-webio-mountpoint=\"5559957131908926353\"\n",
       ">\n",
       "    <script>\n",
       "    if (window.require && require.defined && require.defined(\"nbextensions/webio-jupyter-notebook\")) {\n",
       "        console.log(\"Jupyter WebIO extension detected, not mounting.\");\n",
       "    } else if (window.WebIO) {\n",
       "        WebIO.mount(\n",
       "            document.querySelector('[data-webio-mountpoint=\"5559957131908926353\"]'),\n",
       "            {\"props\":{},\"nodeType\":\"Scope\",\"type\":\"node\",\"instanceArgs\":{\"imports\":{\"data\":[],\"type\":\"async_block\"},\"id\":\"3495232234309343723\",\"handlers\":{},\"systemjs_options\":null,\"mount_callbacks\":[],\"observables\":{\"curriculum-data\":{\"sync\":true,\"id\":\"2126035529162873195\",\"value\":{\"options\":{\"hideTerms\":false,\"edit\":false},\"curriculum\":{\"name\":\"Basket Weaving Program\",\"dp_name\":\"Basket Weaving Degree Plan--3 terms\",\"curriculum_terms\":[{\"name\":\"Term 1\",\"curriculum_items\":[{\"curriculum_requisites\":[],\"name\":\"BW 101\",\"metrics\":{\"centrality\":0,\"complexity\":6.0,\"blocking factor\":3,\"delay factor\":3.0},\"nameSub\":\"Introduction to Baskets\",\"id\":404174908,\"credits\":3,\"nameCanonical\":\"\"},{\"curriculum_requisites\":[{\"source_id\":404174908,\"target_id\":3111264138,\"type\":\"CurriculumStrictCorequisite\"}],\"name\":\"BW 101L\",\"metrics\":{\"centrality\":0,\"complexity\":2.0,\"blocking factor\":0,\"delay factor\":2.0},\"nameSub\":\"Introduction to Baskets Lab\",\"id\":3111264138,\"credits\":1,\"nameCanonical\":\"\"}],\"id\":1},{\"name\":\"Term 2\",\"curriculum_items\":[{\"curriculum_requisites\":[{\"source_id\":404174908,\"target_id\":241874163,\"type\":\"CurriculumPrerequisite\"}],\"name\":\"BW 111\",\"metrics\":{\"centrality\":3,\"complexity\":4.0,\"blocking factor\":1,\"delay factor\":3.0},\"nameSub\":\"Basic Basket Forms\",\"id\":241874163,\"credits\":3,\"nameCanonical\":\"\"}],\"id\":2},{\"name\":\"Term 3\",\"curriculum_items\":[{\"curriculum_requisites\":[{\"source_id\":241874163,\"target_id\":627886062,\"type\":\"CurriculumCorequisite\"}],\"name\":\"BW 201\",\"metrics\":{\"centrality\":0,\"complexity\":3.0,\"blocking factor\":0,\"delay factor\":3.0},\"nameSub\":\"Advanced Basketry\",\"id\":627886062,\"credits\":3,\"nameCanonical\":\"\"}],\"id\":3}],\"institution\":\"\"}}}}},\"children\":[{\"props\":{\"src\":\"http:\\/\\/localhost:8156\",\"id\":\"curriculum\",\"events\":{\"load\":\"(function (){this.contentWindow.postMessage({\\\"options\\\":{\\\"hideTerms\\\":false,\\\"edit\\\":false},\\\"curriculum\\\":{\\\"name\\\":\\\"Basket Weaving Program\\\",\\\"dp_name\\\":\\\"Basket Weaving Degree Plan--3 terms\\\",\\\"curriculum_terms\\\":[{\\\"name\\\":\\\"Term 1\\\",\\\"curriculum_items\\\":[{\\\"curriculum_requisites\\\":[],\\\"name\\\":\\\"BW 101\\\",\\\"metrics\\\":{\\\"centrality\\\":0,\\\"complexity\\\":6.0,\\\"blocking factor\\\":3,\\\"delay factor\\\":3.0},\\\"nameSub\\\":\\\"Introduction to Baskets\\\",\\\"id\\\":404174908,\\\"credits\\\":3,\\\"nameCanonical\\\":\\\"\\\"},{\\\"curriculum_requisites\\\":[{\\\"source_id\\\":404174908,\\\"target_id\\\":3111264138,\\\"type\\\":\\\"CurriculumStrictCorequisite\\\"}],\\\"name\\\":\\\"BW 101L\\\",\\\"metrics\\\":{\\\"centrality\\\":0,\\\"complexity\\\":2.0,\\\"blocking factor\\\":0,\\\"delay factor\\\":2.0},\\\"nameSub\\\":\\\"Introduction to Baskets Lab\\\",\\\"id\\\":3111264138,\\\"credits\\\":1,\\\"nameCanonical\\\":\\\"\\\"}],\\\"id\\\":1},{\\\"name\\\":\\\"Term 2\\\",\\\"curriculum_items\\\":[{\\\"curriculum_requisites\\\":[{\\\"source_id\\\":404174908,\\\"target_id\\\":241874163,\\\"type\\\":\\\"CurriculumPrerequisite\\\"}],\\\"name\\\":\\\"BW 111\\\",\\\"metrics\\\":{\\\"centrality\\\":3,\\\"complexity\\\":4.0,\\\"blocking factor\\\":1,\\\"delay factor\\\":3.0},\\\"nameSub\\\":\\\"Basic Basket Forms\\\",\\\"id\\\":241874163,\\\"credits\\\":3,\\\"nameCanonical\\\":\\\"\\\"}],\\\"id\\\":2},{\\\"name\\\":\\\"Term 3\\\",\\\"curriculum_items\\\":[{\\\"curriculum_requisites\\\":[{\\\"source_id\\\":241874163,\\\"target_id\\\":627886062,\\\"type\\\":\\\"CurriculumCorequisite\\\"}],\\\"name\\\":\\\"BW 201\\\",\\\"metrics\\\":{\\\"centrality\\\":0,\\\"complexity\\\":3.0,\\\"blocking factor\\\":0,\\\"delay factor\\\":3.0},\\\"nameSub\\\":\\\"Advanced Basketry\\\",\\\"id\\\":627886062,\\\"credits\\\":3,\\\"nameCanonical\\\":\\\"\\\"}],\\\"id\\\":3}],\\\"institution\\\":\\\"\\\"}},\\\"*\\\"); window.removeEventListener(\\\"message\\\",window.messageReceived); window.messageReceived=(function (event){return (event.data.curriculum!==undefined) ? (WebIO.setval({\\\"name\\\":\\\"curriculum-data\\\",\\\"scope\\\":\\\"3495232234309343723\\\",\\\"id\\\":\\\"2126035529162873195\\\",\\\"type\\\":\\\"observable\\\"},event.data.curriculum)) : undefined}); return window.addEventListener(\\\"message\\\",window.messageReceived)})\"},\"style\":{\"padding\":\"0\",\"height\":\"50vh\",\"margin\":\"0\",\"border\":\"none\",\"width\":\"100%\"}},\"nodeType\":\"DOM\",\"type\":\"node\",\"instanceArgs\":{\"namespace\":\"html\",\"tag\":\"iframe\"},\"children\":[\"\"]}]},\n",
       "            window,\n",
       "        );\n",
       "    } else {\n",
       "        document\n",
       "            .querySelector('[data-webio-mountpoint=\"5559957131908926353\"]')\n",
       "            .innerHTML = (\n",
       "                '<div style=\"padding: 1em; background-color: #f8d6da; border: 1px solid #f5c6cb\">' +\n",
       "                '<p><strong>WebIO not detected.</strong></p>' +\n",
       "                '<p>Please read ' +\n",
       "                '<a href=\"https://juliagizmos.github.io/WebIO.jl/latest/troubleshooting/not-detected/\" target=\"_blank\">the troubleshooting guide</a> ' +\n",
       "                'for more information on how to resolve this issue.</p>' +\n",
       "                '<p><a href=\"https://juliagizmos.github.io/WebIO.jl/latest/troubleshooting/not-detected/\" target=\"_blank\">https://juliagizmos.github.io/WebIO.jl/latest/troubleshooting/not-detected/</a></p>' +\n",
       "                '</div>'\n",
       "            );\n",
       "    }\n",
       "    </script>\n",
       "</div>\n"
      ],
      "text/plain": [
       "WebIO.Scope(WebIO.Node{WebIO.DOM}(WebIO.DOM(:html, :iframe), Any[\"\"], Dict{Symbol,Any}(:src => \"http://localhost:8156\",:id => \"curriculum\",:events => Dict{Symbol,WebIO.JSString}(:load => WebIO.JSString(\"(function (){this.contentWindow.postMessage({\\\"options\\\":{\\\"hideTerms\\\":false,\\\"edit\\\":false},\\\"curriculum\\\":{\\\"name\\\":\\\"Basket Weaving Program\\\",\\\"dp_name\\\":\\\"Basket Weaving Degree Plan--3 terms\\\",\\\"curriculum_terms\\\":[{\\\"name\\\":\\\"Term 1\\\",\\\"curriculum_items\\\":[{\\\"curriculum_requisites\\\":[],\\\"name\\\":\\\"BW 101\\\",\\\"metrics\\\":{\\\"centrality\\\":0,\\\"complexity\\\":6.0,\\\"blocking factor\\\":3,\\\"delay factor\\\":3.0},\\\"nameSub\\\":\\\"Introduction to Baskets\\\",\\\"id\\\":404174908,\\\"credits\\\":3,\\\"nameCanonical\\\":\\\"\\\"},{\\\"curriculum_requisites\\\":[{\\\"source_id\\\":404174908,\\\"target_id\\\":3111264138,\\\"type\\\":\\\"CurriculumStrictCorequisite\\\"}],\\\"name\\\":\\\"BW 101L\\\",\\\"metrics\\\":{\\\"centrality\\\":0,\\\"complexity\\\":2.0,\\\"blocking factor\\\":0,\\\"delay factor\\\":2.0},\\\"nameSub\\\":\\\"Introduction to Baskets Lab\\\",\\\"id\\\":3111264138,\\\"credits\\\":1,\\\"nameCanonical\\\":\\\"\\\"}],\\\"id\\\":1},{\\\"name\\\":\\\"Term 2\\\",\\\"curriculum_items\\\":[{\\\"curriculum_requisites\\\":[{\\\"source_id\\\":404174908,\\\"target_id\\\":241874163,\\\"type\\\":\\\"CurriculumPrerequisite\\\"}],\\\"name\\\":\\\"BW 111\\\",\\\"metrics\\\":{\\\"centrality\\\":3,\\\"complexity\\\":4.0,\\\"blocking factor\\\":1,\\\"delay factor\\\":3.0},\\\"nameSub\\\":\\\"Basic Basket Forms\\\",\\\"id\\\":241874163,\\\"credits\\\":3,\\\"nameCanonical\\\":\\\"\\\"}],\\\"id\\\":2},{\\\"name\\\":\\\"Term 3\\\",\\\"curriculum_items\\\":[{\\\"curriculum_requisites\\\":[{\\\"source_id\\\":241874163,\\\"target_id\\\":627886062,\\\"type\\\":\\\"CurriculumCorequisite\\\"}],\\\"name\\\":\\\"BW 201\\\",\\\"metrics\\\":{\\\"centrality\\\":0,\\\"complexity\\\":3.0,\\\"blocking factor\\\":0,\\\"delay factor\\\":3.0},\\\"nameSub\\\":\\\"Advanced Basketry\\\",\\\"id\\\":627886062,\\\"credits\\\":3,\\\"nameCanonical\\\":\\\"\\\"}],\\\"id\\\":3}],\\\"institution\\\":\\\"\\\"}},\\\"*\\\"); window.removeEventListener(\\\"message\\\",window.messageReceived); window.messageReceived=(function (event){return (event.data.curriculum!==undefined) ? (WebIO.setval({\\\"name\\\":\\\"curriculum-data\\\",\\\"scope\\\":\\\"3495232234309343723\\\",\\\"id\\\":\\\"2126035529162873195\\\",\\\"type\\\":\\\"observable\\\"},event.data.curriculum)) : undefined}); return window.addEventListener(\\\"message\\\",window.messageReceived)})\")),:style => Dict(:padding => \"0\",:height => \"50vh\",:margin => \"0\",:border => \"none\",:width => \"100%\"))), Dict{String,Tuple{Observables.AbstractObservable,Union{Nothing, Bool}}}(\"curriculum-data\" => (Observable{Dict{String,Any}} with 1 listeners. Value:\n",
       "Dict{String,Any}(\"options\" => Dict{String,Any}(\"hideTerms\" => false,\"edit\" => false),\"curriculum\" => Dict{String,Any}(\"name\" => \"Basket Weaving Program\",\"dp_name\" => \"Basket Weaving Degree Plan--3 terms\",\"curriculum_terms\" => Dict{String,Any}[Dict(\"name\" => \"Term 1\",\"curriculum_items\" => Dict{String,Any}[Dict(\"curriculum_requisites\" => Dict{String,Any}[],\"name\" => \"BW 101\",\"metrics\" => Dict{String,Any}(\"centrality\" => 0,\"complexity\" => 6.0,\"blocking factor\" => 3,\"delay factor\" => 3.0),\"nameSub\" => \"Introduction to Baskets\",\"id\" => 404174908,\"credits\" => 3,\"nameCanonical\" => \"\"), Dict(\"curriculum_requisites\" => Dict{String,Any}[Dict(\"source_id\" => 404174908,\"target_id\" => 3111264138,\"type\" => \"CurriculumStrictCorequisite\")],\"name\" => \"BW 101L\",\"metrics\" => Dict{String,Any}(\"centrality\" => 0,\"complexity\" => 2.0,\"blocking factor\" => 0,\"delay factor\" => 2.0),\"nameSub\" => \"Introduction to Baskets Lab\",\"id\" => 3111264138,\"credits\" => 1,\"nameCanonical\" => \"\")],\"id\" => 1), Dict(\"name\" => \"Term 2\",\"curriculum_items\" => Dict{String,Any}[Dict(\"curriculum_requisites\" => Dict{String,Any}[Dict(\"source_id\" => 404174908,\"target_id\" => 241874163,\"type\" => \"CurriculumPrerequisite\")],\"name\" => \"BW 111\",\"metrics\" => Dict{String,Any}(\"centrality\" => 3,\"complexity\" => 4.0,\"blocking factor\" => 1,\"delay factor\" => 3.0),\"nameSub\" => \"Basic Basket Forms\",\"id\" => 241874163,\"credits\" => 3,\"nameCanonical\" => \"\")],\"id\" => 2), Dict(\"name\" => \"Term 3\",\"curriculum_items\" => Dict{String,Any}[Dict(\"curriculum_requisites\" => Dict{String,Any}[Dict(\"source_id\" => 241874163,\"target_id\" => 627886062,\"type\" => \"CurriculumCorequisite\")],\"name\" => \"BW 201\",\"metrics\" => Dict{String,Any}(\"centrality\" => 0,\"complexity\" => 3.0,\"blocking factor\" => 0,\"delay factor\" => 3.0),\"nameSub\" => \"Advanced Basketry\",\"id\" => 627886062,\"credits\" => 3,\"nameCanonical\" => \"\")],\"id\" => 3)],\"institution\" => \"\")), nothing)), Set{String}(), nothing, WebIO.Asset[], Dict{Any,Any}(), WebIO.ConnectionPool(Channel{Any}(sz_max:32,sz_curr:0), Set{WebIO.AbstractConnection}(), Base.GenericCondition{Base.AlwaysLockedST}(Base.InvasiveLinkedList{Task}(Task (runnable) @0x0000000130bb7610, Task (runnable) @0x0000000130bb7610), Base.AlwaysLockedST(1))), WebIO.JSString[])"
      ]
     },
     "execution_count": 11,
     "metadata": {
      "application/vnd.webio.node+json": {
       "kernelId": "38ef9191-949f-4bdf-a486-1761b8e78e85"
      }
     },
     "output_type": "execute_result"
    }
   ],
   "source": [
    "visualize(dp1, notebook=true, scale=0.5)"
   ]
  },
  {
   "cell_type": "markdown",
   "metadata": {},
   "source": [
    "Notice how various metrics are revealed when you hover your mouse over the courses in this visualization. Here's another degree plan for the same curriculum:"
   ]
  },
  {
   "cell_type": "code",
   "execution_count": 12,
   "metadata": {
    "scrolled": true
   },
   "outputs": [
    {
     "data": {
      "application/vnd.webio.node+json": {
       "children": [
        {
         "children": [
          ""
         ],
         "instanceArgs": {
          "namespace": "html",
          "tag": "iframe"
         },
         "nodeType": "DOM",
         "props": {
          "events": {
           "load": "(function (){this.contentWindow.postMessage({\"options\":{\"hideTerms\":false,\"edit\":false},\"curriculum\":{\"name\":\"Basket Weaving Program\",\"dp_name\":\"Basket Weaving Degree Plan--2 terms\",\"curriculum_terms\":[{\"name\":\"Term 1\",\"curriculum_items\":[{\"curriculum_requisites\":[],\"name\":\"BW 101\",\"metrics\":{\"centrality\":0,\"complexity\":6.0,\"blocking factor\":3,\"delay factor\":3.0},\"nameSub\":\"Introduction to Baskets\",\"id\":404174908,\"credits\":3,\"nameCanonical\":\"\"},{\"curriculum_requisites\":[{\"source_id\":404174908,\"target_id\":3111264138,\"type\":\"CurriculumStrictCorequisite\"}],\"name\":\"BW 101L\",\"metrics\":{\"centrality\":0,\"complexity\":2.0,\"blocking factor\":0,\"delay factor\":2.0},\"nameSub\":\"Introduction to Baskets Lab\",\"id\":3111264138,\"credits\":1,\"nameCanonical\":\"\"}],\"id\":1},{\"name\":\"Term 2\",\"curriculum_items\":[{\"curriculum_requisites\":[{\"source_id\":404174908,\"target_id\":241874163,\"type\":\"CurriculumPrerequisite\"}],\"name\":\"BW 111\",\"metrics\":{\"centrality\":3,\"complexity\":4.0,\"blocking factor\":1,\"delay factor\":3.0},\"nameSub\":\"Basic Basket Forms\",\"id\":241874163,\"credits\":3,\"nameCanonical\":\"\"},{\"curriculum_requisites\":[{\"source_id\":241874163,\"target_id\":627886062,\"type\":\"CurriculumCorequisite\"}],\"name\":\"BW 201\",\"metrics\":{\"centrality\":0,\"complexity\":3.0,\"blocking factor\":0,\"delay factor\":3.0},\"nameSub\":\"Advanced Basketry\",\"id\":627886062,\"credits\":3,\"nameCanonical\":\"\"}],\"id\":2}],\"institution\":\"\"}},\"*\"); window.removeEventListener(\"message\",window.messageReceived); window.messageReceived=(function (event){return (event.data.curriculum!==undefined) ? (WebIO.setval({\"name\":\"curriculum-data\",\"scope\":\"11846675729302783466\",\"id\":\"6111234439593689441\",\"type\":\"observable\"},event.data.curriculum)) : undefined}); return window.addEventListener(\"message\",window.messageReceived)})"
          },
          "id": "curriculum",
          "src": "http://localhost:8156",
          "style": {
           "border": "none",
           "height": "50vh",
           "margin": "0",
           "padding": "0",
           "width": "100%"
          }
         },
         "type": "node"
        }
       ],
       "instanceArgs": {
        "handlers": {},
        "id": "11846675729302783466",
        "imports": {
         "data": [],
         "type": "async_block"
        },
        "mount_callbacks": [],
        "observables": {
         "curriculum-data": {
          "id": "6111234439593689441",
          "sync": true,
          "value": {
           "curriculum": {
            "curriculum_terms": [
             {
              "curriculum_items": [
               {
                "credits": 3,
                "curriculum_requisites": [],
                "id": 404174908,
                "metrics": {
                 "blocking factor": 3,
                 "centrality": 0,
                 "complexity": 6,
                 "delay factor": 3
                },
                "name": "BW 101",
                "nameCanonical": "",
                "nameSub": "Introduction to Baskets"
               },
               {
                "credits": 1,
                "curriculum_requisites": [
                 {
                  "source_id": 404174908,
                  "target_id": 3111264138,
                  "type": "CurriculumStrictCorequisite"
                 }
                ],
                "id": 3111264138,
                "metrics": {
                 "blocking factor": 0,
                 "centrality": 0,
                 "complexity": 2,
                 "delay factor": 2
                },
                "name": "BW 101L",
                "nameCanonical": "",
                "nameSub": "Introduction to Baskets Lab"
               }
              ],
              "id": 1,
              "name": "Term 1"
             },
             {
              "curriculum_items": [
               {
                "credits": 3,
                "curriculum_requisites": [
                 {
                  "source_id": 404174908,
                  "target_id": 241874163,
                  "type": "CurriculumPrerequisite"
                 }
                ],
                "id": 241874163,
                "metrics": {
                 "blocking factor": 1,
                 "centrality": 3,
                 "complexity": 4,
                 "delay factor": 3
                },
                "name": "BW 111",
                "nameCanonical": "",
                "nameSub": "Basic Basket Forms"
               },
               {
                "credits": 3,
                "curriculum_requisites": [
                 {
                  "source_id": 241874163,
                  "target_id": 627886062,
                  "type": "CurriculumCorequisite"
                 }
                ],
                "id": 627886062,
                "metrics": {
                 "blocking factor": 0,
                 "centrality": 0,
                 "complexity": 3,
                 "delay factor": 3
                },
                "name": "BW 201",
                "nameCanonical": "",
                "nameSub": "Advanced Basketry"
               }
              ],
              "id": 2,
              "name": "Term 2"
             }
            ],
            "dp_name": "Basket Weaving Degree Plan--2 terms",
            "institution": "",
            "name": "Basket Weaving Program"
           },
           "options": {
            "edit": false,
            "hideTerms": false
           }
          }
         }
        },
        "systemjs_options": null
       },
       "nodeType": "Scope",
       "props": {},
       "type": "node"
      },
      "text/html": [
       "<div\n",
       "    class=\"webio-mountpoint\"\n",
       "    data-webio-mountpoint=\"9634379861958263064\"\n",
       ">\n",
       "    <script>\n",
       "    if (window.require && require.defined && require.defined(\"nbextensions/webio-jupyter-notebook\")) {\n",
       "        console.log(\"Jupyter WebIO extension detected, not mounting.\");\n",
       "    } else if (window.WebIO) {\n",
       "        WebIO.mount(\n",
       "            document.querySelector('[data-webio-mountpoint=\"9634379861958263064\"]'),\n",
       "            {\"props\":{},\"nodeType\":\"Scope\",\"type\":\"node\",\"instanceArgs\":{\"imports\":{\"data\":[],\"type\":\"async_block\"},\"id\":\"11846675729302783466\",\"handlers\":{},\"systemjs_options\":null,\"mount_callbacks\":[],\"observables\":{\"curriculum-data\":{\"sync\":true,\"id\":\"6111234439593689441\",\"value\":{\"options\":{\"hideTerms\":false,\"edit\":false},\"curriculum\":{\"name\":\"Basket Weaving Program\",\"dp_name\":\"Basket Weaving Degree Plan--2 terms\",\"curriculum_terms\":[{\"name\":\"Term 1\",\"curriculum_items\":[{\"curriculum_requisites\":[],\"name\":\"BW 101\",\"metrics\":{\"centrality\":0,\"complexity\":6.0,\"blocking factor\":3,\"delay factor\":3.0},\"nameSub\":\"Introduction to Baskets\",\"id\":404174908,\"credits\":3,\"nameCanonical\":\"\"},{\"curriculum_requisites\":[{\"source_id\":404174908,\"target_id\":3111264138,\"type\":\"CurriculumStrictCorequisite\"}],\"name\":\"BW 101L\",\"metrics\":{\"centrality\":0,\"complexity\":2.0,\"blocking factor\":0,\"delay factor\":2.0},\"nameSub\":\"Introduction to Baskets Lab\",\"id\":3111264138,\"credits\":1,\"nameCanonical\":\"\"}],\"id\":1},{\"name\":\"Term 2\",\"curriculum_items\":[{\"curriculum_requisites\":[{\"source_id\":404174908,\"target_id\":241874163,\"type\":\"CurriculumPrerequisite\"}],\"name\":\"BW 111\",\"metrics\":{\"centrality\":3,\"complexity\":4.0,\"blocking factor\":1,\"delay factor\":3.0},\"nameSub\":\"Basic Basket Forms\",\"id\":241874163,\"credits\":3,\"nameCanonical\":\"\"},{\"curriculum_requisites\":[{\"source_id\":241874163,\"target_id\":627886062,\"type\":\"CurriculumCorequisite\"}],\"name\":\"BW 201\",\"metrics\":{\"centrality\":0,\"complexity\":3.0,\"blocking factor\":0,\"delay factor\":3.0},\"nameSub\":\"Advanced Basketry\",\"id\":627886062,\"credits\":3,\"nameCanonical\":\"\"}],\"id\":2}],\"institution\":\"\"}}}}},\"children\":[{\"props\":{\"src\":\"http:\\/\\/localhost:8156\",\"id\":\"curriculum\",\"events\":{\"load\":\"(function (){this.contentWindow.postMessage({\\\"options\\\":{\\\"hideTerms\\\":false,\\\"edit\\\":false},\\\"curriculum\\\":{\\\"name\\\":\\\"Basket Weaving Program\\\",\\\"dp_name\\\":\\\"Basket Weaving Degree Plan--2 terms\\\",\\\"curriculum_terms\\\":[{\\\"name\\\":\\\"Term 1\\\",\\\"curriculum_items\\\":[{\\\"curriculum_requisites\\\":[],\\\"name\\\":\\\"BW 101\\\",\\\"metrics\\\":{\\\"centrality\\\":0,\\\"complexity\\\":6.0,\\\"blocking factor\\\":3,\\\"delay factor\\\":3.0},\\\"nameSub\\\":\\\"Introduction to Baskets\\\",\\\"id\\\":404174908,\\\"credits\\\":3,\\\"nameCanonical\\\":\\\"\\\"},{\\\"curriculum_requisites\\\":[{\\\"source_id\\\":404174908,\\\"target_id\\\":3111264138,\\\"type\\\":\\\"CurriculumStrictCorequisite\\\"}],\\\"name\\\":\\\"BW 101L\\\",\\\"metrics\\\":{\\\"centrality\\\":0,\\\"complexity\\\":2.0,\\\"blocking factor\\\":0,\\\"delay factor\\\":2.0},\\\"nameSub\\\":\\\"Introduction to Baskets Lab\\\",\\\"id\\\":3111264138,\\\"credits\\\":1,\\\"nameCanonical\\\":\\\"\\\"}],\\\"id\\\":1},{\\\"name\\\":\\\"Term 2\\\",\\\"curriculum_items\\\":[{\\\"curriculum_requisites\\\":[{\\\"source_id\\\":404174908,\\\"target_id\\\":241874163,\\\"type\\\":\\\"CurriculumPrerequisite\\\"}],\\\"name\\\":\\\"BW 111\\\",\\\"metrics\\\":{\\\"centrality\\\":3,\\\"complexity\\\":4.0,\\\"blocking factor\\\":1,\\\"delay factor\\\":3.0},\\\"nameSub\\\":\\\"Basic Basket Forms\\\",\\\"id\\\":241874163,\\\"credits\\\":3,\\\"nameCanonical\\\":\\\"\\\"},{\\\"curriculum_requisites\\\":[{\\\"source_id\\\":241874163,\\\"target_id\\\":627886062,\\\"type\\\":\\\"CurriculumCorequisite\\\"}],\\\"name\\\":\\\"BW 201\\\",\\\"metrics\\\":{\\\"centrality\\\":0,\\\"complexity\\\":3.0,\\\"blocking factor\\\":0,\\\"delay factor\\\":3.0},\\\"nameSub\\\":\\\"Advanced Basketry\\\",\\\"id\\\":627886062,\\\"credits\\\":3,\\\"nameCanonical\\\":\\\"\\\"}],\\\"id\\\":2}],\\\"institution\\\":\\\"\\\"}},\\\"*\\\"); window.removeEventListener(\\\"message\\\",window.messageReceived); window.messageReceived=(function (event){return (event.data.curriculum!==undefined) ? (WebIO.setval({\\\"name\\\":\\\"curriculum-data\\\",\\\"scope\\\":\\\"11846675729302783466\\\",\\\"id\\\":\\\"6111234439593689441\\\",\\\"type\\\":\\\"observable\\\"},event.data.curriculum)) : undefined}); return window.addEventListener(\\\"message\\\",window.messageReceived)})\"},\"style\":{\"padding\":\"0\",\"height\":\"50vh\",\"margin\":\"0\",\"border\":\"none\",\"width\":\"100%\"}},\"nodeType\":\"DOM\",\"type\":\"node\",\"instanceArgs\":{\"namespace\":\"html\",\"tag\":\"iframe\"},\"children\":[\"\"]}]},\n",
       "            window,\n",
       "        );\n",
       "    } else {\n",
       "        document\n",
       "            .querySelector('[data-webio-mountpoint=\"9634379861958263064\"]')\n",
       "            .innerHTML = (\n",
       "                '<div style=\"padding: 1em; background-color: #f8d6da; border: 1px solid #f5c6cb\">' +\n",
       "                '<p><strong>WebIO not detected.</strong></p>' +\n",
       "                '<p>Please read ' +\n",
       "                '<a href=\"https://juliagizmos.github.io/WebIO.jl/latest/troubleshooting/not-detected/\" target=\"_blank\">the troubleshooting guide</a> ' +\n",
       "                'for more information on how to resolve this issue.</p>' +\n",
       "                '<p><a href=\"https://juliagizmos.github.io/WebIO.jl/latest/troubleshooting/not-detected/\" target=\"_blank\">https://juliagizmos.github.io/WebIO.jl/latest/troubleshooting/not-detected/</a></p>' +\n",
       "                '</div>'\n",
       "            );\n",
       "    }\n",
       "    </script>\n",
       "</div>\n"
      ],
      "text/plain": [
       "WebIO.Scope(WebIO.Node{WebIO.DOM}(WebIO.DOM(:html, :iframe), Any[\"\"], Dict{Symbol,Any}(:src => \"http://localhost:8156\",:id => \"curriculum\",:events => Dict{Symbol,WebIO.JSString}(:load => WebIO.JSString(\"(function (){this.contentWindow.postMessage({\\\"options\\\":{\\\"hideTerms\\\":false,\\\"edit\\\":false},\\\"curriculum\\\":{\\\"name\\\":\\\"Basket Weaving Program\\\",\\\"dp_name\\\":\\\"Basket Weaving Degree Plan--2 terms\\\",\\\"curriculum_terms\\\":[{\\\"name\\\":\\\"Term 1\\\",\\\"curriculum_items\\\":[{\\\"curriculum_requisites\\\":[],\\\"name\\\":\\\"BW 101\\\",\\\"metrics\\\":{\\\"centrality\\\":0,\\\"complexity\\\":6.0,\\\"blocking factor\\\":3,\\\"delay factor\\\":3.0},\\\"nameSub\\\":\\\"Introduction to Baskets\\\",\\\"id\\\":404174908,\\\"credits\\\":3,\\\"nameCanonical\\\":\\\"\\\"},{\\\"curriculum_requisites\\\":[{\\\"source_id\\\":404174908,\\\"target_id\\\":3111264138,\\\"type\\\":\\\"CurriculumStrictCorequisite\\\"}],\\\"name\\\":\\\"BW 101L\\\",\\\"metrics\\\":{\\\"centrality\\\":0,\\\"complexity\\\":2.0,\\\"blocking factor\\\":0,\\\"delay factor\\\":2.0},\\\"nameSub\\\":\\\"Introduction to Baskets Lab\\\",\\\"id\\\":3111264138,\\\"credits\\\":1,\\\"nameCanonical\\\":\\\"\\\"}],\\\"id\\\":1},{\\\"name\\\":\\\"Term 2\\\",\\\"curriculum_items\\\":[{\\\"curriculum_requisites\\\":[{\\\"source_id\\\":404174908,\\\"target_id\\\":241874163,\\\"type\\\":\\\"CurriculumPrerequisite\\\"}],\\\"name\\\":\\\"BW 111\\\",\\\"metrics\\\":{\\\"centrality\\\":3,\\\"complexity\\\":4.0,\\\"blocking factor\\\":1,\\\"delay factor\\\":3.0},\\\"nameSub\\\":\\\"Basic Basket Forms\\\",\\\"id\\\":241874163,\\\"credits\\\":3,\\\"nameCanonical\\\":\\\"\\\"},{\\\"curriculum_requisites\\\":[{\\\"source_id\\\":241874163,\\\"target_id\\\":627886062,\\\"type\\\":\\\"CurriculumCorequisite\\\"}],\\\"name\\\":\\\"BW 201\\\",\\\"metrics\\\":{\\\"centrality\\\":0,\\\"complexity\\\":3.0,\\\"blocking factor\\\":0,\\\"delay factor\\\":3.0},\\\"nameSub\\\":\\\"Advanced Basketry\\\",\\\"id\\\":627886062,\\\"credits\\\":3,\\\"nameCanonical\\\":\\\"\\\"}],\\\"id\\\":2}],\\\"institution\\\":\\\"\\\"}},\\\"*\\\"); window.removeEventListener(\\\"message\\\",window.messageReceived); window.messageReceived=(function (event){return (event.data.curriculum!==undefined) ? (WebIO.setval({\\\"name\\\":\\\"curriculum-data\\\",\\\"scope\\\":\\\"11846675729302783466\\\",\\\"id\\\":\\\"6111234439593689441\\\",\\\"type\\\":\\\"observable\\\"},event.data.curriculum)) : undefined}); return window.addEventListener(\\\"message\\\",window.messageReceived)})\")),:style => Dict(:padding => \"0\",:height => \"50vh\",:margin => \"0\",:border => \"none\",:width => \"100%\"))), Dict{String,Tuple{Observables.AbstractObservable,Union{Nothing, Bool}}}(\"curriculum-data\" => (Observable{Dict{String,Any}} with 1 listeners. Value:\n",
       "Dict{String,Any}(\"options\" => Dict{String,Any}(\"hideTerms\" => false,\"edit\" => false),\"curriculum\" => Dict{String,Any}(\"name\" => \"Basket Weaving Program\",\"dp_name\" => \"Basket Weaving Degree Plan--2 terms\",\"curriculum_terms\" => Dict{String,Any}[Dict(\"name\" => \"Term 1\",\"curriculum_items\" => Dict{String,Any}[Dict(\"curriculum_requisites\" => Dict{String,Any}[],\"name\" => \"BW 101\",\"metrics\" => Dict{String,Any}(\"centrality\" => 0,\"complexity\" => 6.0,\"blocking factor\" => 3,\"delay factor\" => 3.0),\"nameSub\" => \"Introduction to Baskets\",\"id\" => 404174908,\"credits\" => 3,\"nameCanonical\" => \"\"), Dict(\"curriculum_requisites\" => Dict{String,Any}[Dict(\"source_id\" => 404174908,\"target_id\" => 3111264138,\"type\" => \"CurriculumStrictCorequisite\")],\"name\" => \"BW 101L\",\"metrics\" => Dict{String,Any}(\"centrality\" => 0,\"complexity\" => 2.0,\"blocking factor\" => 0,\"delay factor\" => 2.0),\"nameSub\" => \"Introduction to Baskets Lab\",\"id\" => 3111264138,\"credits\" => 1,\"nameCanonical\" => \"\")],\"id\" => 1), Dict(\"name\" => \"Term 2\",\"curriculum_items\" => Dict{String,Any}[Dict(\"curriculum_requisites\" => Dict{String,Any}[Dict(\"source_id\" => 404174908,\"target_id\" => 241874163,\"type\" => \"CurriculumPrerequisite\")],\"name\" => \"BW 111\",\"metrics\" => Dict{String,Any}(\"centrality\" => 3,\"complexity\" => 4.0,\"blocking factor\" => 1,\"delay factor\" => 3.0),\"nameSub\" => \"Basic Basket Forms\",\"id\" => 241874163,\"credits\" => 3,\"nameCanonical\" => \"\"), Dict(\"curriculum_requisites\" => Dict{String,Any}[Dict(\"source_id\" => 241874163,\"target_id\" => 627886062,\"type\" => \"CurriculumCorequisite\")],\"name\" => \"BW 201\",\"metrics\" => Dict{String,Any}(\"centrality\" => 0,\"complexity\" => 3.0,\"blocking factor\" => 0,\"delay factor\" => 3.0),\"nameSub\" => \"Advanced Basketry\",\"id\" => 627886062,\"credits\" => 3,\"nameCanonical\" => \"\")],\"id\" => 2)],\"institution\" => \"\")), nothing)), Set{String}(), nothing, WebIO.Asset[], Dict{Any,Any}(), WebIO.ConnectionPool(Channel{Any}(sz_max:32,sz_curr:0), Set{WebIO.AbstractConnection}(), Base.GenericCondition{Base.AlwaysLockedST}(Base.InvasiveLinkedList{Task}(Task (runnable) @0x000000014d201210, Task (runnable) @0x000000014d201210), Base.AlwaysLockedST(1))), WebIO.JSString[])"
      ]
     },
     "execution_count": 12,
     "metadata": {
      "application/vnd.webio.node+json": {
       "kernelId": "38ef9191-949f-4bdf-a486-1761b8e78e85"
      }
     },
     "output_type": "execute_result"
    }
   ],
   "source": [
    "t1 = Term([c1, c2])\n",
    "t2 = Term([c3, c4])\n",
    "terms = [t1, t2];\n",
    "dp2 = DegreePlan(\"Basket Weaving Degree Plan--2 terms\", curric, terms)\n",
    "visualize(dp2, notebook=true, scale=0.5)"
   ]
  },
  {
   "cell_type": "markdown",
   "metadata": {},
   "source": [
    "#### Verifying Degree Plan\n",
    "\n",
    "The curriuclar analytics toolbox also includes functionality to test whether or not a degree plan is valid. In this case, the verification includes checking to ensure:\n",
    " - All requisites are satisfied (i.e., a prerequisites for  courses occur in a later terms than the courses themselves).\n",
    " - All courses in the underlying curriculum are included in the degree plan.\n",
    " - Each course in the curriculum is included at most once in the degree plan.\n",
    "\n",
    "The validity check for degree plans can executed using:"
   ]
  },
  {
   "cell_type": "code",
   "execution_count": 13,
   "metadata": {},
   "outputs": [
    {
     "name": "stdout",
     "output_type": "stream",
     "text": [
      "Degree Plan Basket Weaving Degree Plan--3 terms is valid\n"
     ]
    }
   ],
   "source": [
    "if isvalid_degree_plan(dp1, errors)\n",
    "    println(\"Degree Plan $(dp1.name) is valid\")\n",
    "else\n",
    "    println(\"Degree Plan $(dp1.name) is not valid:\")\n",
    "    print(String(take!(errors)))\n",
    "end"
   ]
  },
  {
   "cell_type": "markdown",
   "metadata": {},
   "source": [
    "Let's create a invalid degree plan in order to see what happens:"
   ]
  },
  {
   "cell_type": "code",
   "execution_count": 14,
   "metadata": {
    "scrolled": false
   },
   "outputs": [
    {
     "data": {
      "application/vnd.webio.node+json": {
       "children": [
        {
         "children": [
          ""
         ],
         "instanceArgs": {
          "namespace": "html",
          "tag": "iframe"
         },
         "nodeType": "DOM",
         "props": {
          "events": {
           "load": "(function (){this.contentWindow.postMessage({\"options\":{\"hideTerms\":false,\"edit\":false},\"curriculum\":{\"name\":\"Basket Weaving Program\",\"dp_name\":\"Basket Weaving Degree Plan--Oh No!\",\"curriculum_terms\":[{\"name\":\"Term 1\",\"curriculum_items\":[{\"curriculum_requisites\":[],\"name\":\"BW 101\",\"metrics\":{\"centrality\":0,\"complexity\":6.0,\"blocking factor\":3,\"delay factor\":3.0},\"nameSub\":\"Introduction to Baskets\",\"id\":404174908,\"credits\":3,\"nameCanonical\":\"\"},{\"curriculum_requisites\":[{\"source_id\":241874163,\"target_id\":627886062,\"type\":\"CurriculumCorequisite\"}],\"name\":\"BW 201\",\"metrics\":{\"centrality\":0,\"complexity\":3.0,\"blocking factor\":0,\"delay factor\":3.0},\"nameSub\":\"Advanced Basketry\",\"id\":627886062,\"credits\":3,\"nameCanonical\":\"\"}],\"id\":1},{\"name\":\"Term 2\",\"curriculum_items\":[{\"curriculum_requisites\":[{\"source_id\":404174908,\"target_id\":3111264138,\"type\":\"CurriculumStrictCorequisite\"}],\"name\":\"BW 101L\",\"metrics\":{\"centrality\":0,\"complexity\":2.0,\"blocking factor\":0,\"delay factor\":2.0},\"nameSub\":\"Introduction to Baskets Lab\",\"id\":3111264138,\"credits\":1,\"nameCanonical\":\"\"},{\"curriculum_requisites\":[{\"source_id\":404174908,\"target_id\":241874163,\"type\":\"CurriculumPrerequisite\"}],\"name\":\"BW 111\",\"metrics\":{\"centrality\":3,\"complexity\":4.0,\"blocking factor\":1,\"delay factor\":3.0},\"nameSub\":\"Basic Basket Forms\",\"id\":241874163,\"credits\":3,\"nameCanonical\":\"\"},{\"curriculum_requisites\":[],\"name\":\"BW 101\",\"metrics\":{\"centrality\":0,\"complexity\":6.0,\"blocking factor\":3,\"delay factor\":3.0},\"nameSub\":\"Introduction to Baskets\",\"id\":404174908,\"credits\":3,\"nameCanonical\":\"\"}],\"id\":2}],\"institution\":\"\"}},\"*\"); window.removeEventListener(\"message\",window.messageReceived); window.messageReceived=(function (event){return (event.data.curriculum!==undefined) ? (WebIO.setval({\"name\":\"curriculum-data\",\"scope\":\"1726757961441218041\",\"id\":\"11787430024754395787\",\"type\":\"observable\"},event.data.curriculum)) : undefined}); return window.addEventListener(\"message\",window.messageReceived)})"
          },
          "id": "curriculum",
          "src": "http://localhost:8156",
          "style": {
           "border": "none",
           "height": "75vh",
           "margin": "0",
           "padding": "0",
           "width": "100%"
          }
         },
         "type": "node"
        }
       ],
       "instanceArgs": {
        "handlers": {},
        "id": "1726757961441218041",
        "imports": {
         "data": [],
         "type": "async_block"
        },
        "mount_callbacks": [],
        "observables": {
         "curriculum-data": {
          "id": "11787430024754395787",
          "sync": true,
          "value": {
           "curriculum": {
            "curriculum_terms": [
             {
              "curriculum_items": [
               {
                "credits": 3,
                "curriculum_requisites": [],
                "id": 404174908,
                "metrics": {
                 "blocking factor": 3,
                 "centrality": 0,
                 "complexity": 6,
                 "delay factor": 3
                },
                "name": "BW 101",
                "nameCanonical": "",
                "nameSub": "Introduction to Baskets"
               },
               {
                "credits": 3,
                "curriculum_requisites": [
                 {
                  "source_id": 241874163,
                  "target_id": 627886062,
                  "type": "CurriculumCorequisite"
                 }
                ],
                "id": 627886062,
                "metrics": {
                 "blocking factor": 0,
                 "centrality": 0,
                 "complexity": 3,
                 "delay factor": 3
                },
                "name": "BW 201",
                "nameCanonical": "",
                "nameSub": "Advanced Basketry"
               }
              ],
              "id": 1,
              "name": "Term 1"
             },
             {
              "curriculum_items": [
               {
                "credits": 1,
                "curriculum_requisites": [
                 {
                  "source_id": 404174908,
                  "target_id": 3111264138,
                  "type": "CurriculumStrictCorequisite"
                 }
                ],
                "id": 3111264138,
                "metrics": {
                 "blocking factor": 0,
                 "centrality": 0,
                 "complexity": 2,
                 "delay factor": 2
                },
                "name": "BW 101L",
                "nameCanonical": "",
                "nameSub": "Introduction to Baskets Lab"
               },
               {
                "credits": 3,
                "curriculum_requisites": [
                 {
                  "source_id": 404174908,
                  "target_id": 241874163,
                  "type": "CurriculumPrerequisite"
                 }
                ],
                "id": 241874163,
                "metrics": {
                 "blocking factor": 1,
                 "centrality": 3,
                 "complexity": 4,
                 "delay factor": 3
                },
                "name": "BW 111",
                "nameCanonical": "",
                "nameSub": "Basic Basket Forms"
               },
               {
                "credits": 3,
                "curriculum_requisites": [],
                "id": 404174908,
                "metrics": {
                 "blocking factor": 3,
                 "centrality": 0,
                 "complexity": 6,
                 "delay factor": 3
                },
                "name": "BW 101",
                "nameCanonical": "",
                "nameSub": "Introduction to Baskets"
               }
              ],
              "id": 2,
              "name": "Term 2"
             }
            ],
            "dp_name": "Basket Weaving Degree Plan--Oh No!",
            "institution": "",
            "name": "Basket Weaving Program"
           },
           "options": {
            "edit": false,
            "hideTerms": false
           }
          }
         }
        },
        "systemjs_options": null
       },
       "nodeType": "Scope",
       "props": {},
       "type": "node"
      },
      "text/html": [
       "<div\n",
       "    class=\"webio-mountpoint\"\n",
       "    data-webio-mountpoint=\"12479243627543120336\"\n",
       ">\n",
       "    <script>\n",
       "    if (window.require && require.defined && require.defined(\"nbextensions/webio-jupyter-notebook\")) {\n",
       "        console.log(\"Jupyter WebIO extension detected, not mounting.\");\n",
       "    } else if (window.WebIO) {\n",
       "        WebIO.mount(\n",
       "            document.querySelector('[data-webio-mountpoint=\"12479243627543120336\"]'),\n",
       "            {\"props\":{},\"nodeType\":\"Scope\",\"type\":\"node\",\"instanceArgs\":{\"imports\":{\"data\":[],\"type\":\"async_block\"},\"id\":\"1726757961441218041\",\"handlers\":{},\"systemjs_options\":null,\"mount_callbacks\":[],\"observables\":{\"curriculum-data\":{\"sync\":true,\"id\":\"11787430024754395787\",\"value\":{\"options\":{\"hideTerms\":false,\"edit\":false},\"curriculum\":{\"name\":\"Basket Weaving Program\",\"dp_name\":\"Basket Weaving Degree Plan--Oh No!\",\"curriculum_terms\":[{\"name\":\"Term 1\",\"curriculum_items\":[{\"curriculum_requisites\":[],\"name\":\"BW 101\",\"metrics\":{\"centrality\":0,\"complexity\":6.0,\"blocking factor\":3,\"delay factor\":3.0},\"nameSub\":\"Introduction to Baskets\",\"id\":404174908,\"credits\":3,\"nameCanonical\":\"\"},{\"curriculum_requisites\":[{\"source_id\":241874163,\"target_id\":627886062,\"type\":\"CurriculumCorequisite\"}],\"name\":\"BW 201\",\"metrics\":{\"centrality\":0,\"complexity\":3.0,\"blocking factor\":0,\"delay factor\":3.0},\"nameSub\":\"Advanced Basketry\",\"id\":627886062,\"credits\":3,\"nameCanonical\":\"\"}],\"id\":1},{\"name\":\"Term 2\",\"curriculum_items\":[{\"curriculum_requisites\":[{\"source_id\":404174908,\"target_id\":3111264138,\"type\":\"CurriculumStrictCorequisite\"}],\"name\":\"BW 101L\",\"metrics\":{\"centrality\":0,\"complexity\":2.0,\"blocking factor\":0,\"delay factor\":2.0},\"nameSub\":\"Introduction to Baskets Lab\",\"id\":3111264138,\"credits\":1,\"nameCanonical\":\"\"},{\"curriculum_requisites\":[{\"source_id\":404174908,\"target_id\":241874163,\"type\":\"CurriculumPrerequisite\"}],\"name\":\"BW 111\",\"metrics\":{\"centrality\":3,\"complexity\":4.0,\"blocking factor\":1,\"delay factor\":3.0},\"nameSub\":\"Basic Basket Forms\",\"id\":241874163,\"credits\":3,\"nameCanonical\":\"\"},{\"curriculum_requisites\":[],\"name\":\"BW 101\",\"metrics\":{\"centrality\":0,\"complexity\":6.0,\"blocking factor\":3,\"delay factor\":3.0},\"nameSub\":\"Introduction to Baskets\",\"id\":404174908,\"credits\":3,\"nameCanonical\":\"\"}],\"id\":2}],\"institution\":\"\"}}}}},\"children\":[{\"props\":{\"src\":\"http:\\/\\/localhost:8156\",\"id\":\"curriculum\",\"events\":{\"load\":\"(function (){this.contentWindow.postMessage({\\\"options\\\":{\\\"hideTerms\\\":false,\\\"edit\\\":false},\\\"curriculum\\\":{\\\"name\\\":\\\"Basket Weaving Program\\\",\\\"dp_name\\\":\\\"Basket Weaving Degree Plan--Oh No!\\\",\\\"curriculum_terms\\\":[{\\\"name\\\":\\\"Term 1\\\",\\\"curriculum_items\\\":[{\\\"curriculum_requisites\\\":[],\\\"name\\\":\\\"BW 101\\\",\\\"metrics\\\":{\\\"centrality\\\":0,\\\"complexity\\\":6.0,\\\"blocking factor\\\":3,\\\"delay factor\\\":3.0},\\\"nameSub\\\":\\\"Introduction to Baskets\\\",\\\"id\\\":404174908,\\\"credits\\\":3,\\\"nameCanonical\\\":\\\"\\\"},{\\\"curriculum_requisites\\\":[{\\\"source_id\\\":241874163,\\\"target_id\\\":627886062,\\\"type\\\":\\\"CurriculumCorequisite\\\"}],\\\"name\\\":\\\"BW 201\\\",\\\"metrics\\\":{\\\"centrality\\\":0,\\\"complexity\\\":3.0,\\\"blocking factor\\\":0,\\\"delay factor\\\":3.0},\\\"nameSub\\\":\\\"Advanced Basketry\\\",\\\"id\\\":627886062,\\\"credits\\\":3,\\\"nameCanonical\\\":\\\"\\\"}],\\\"id\\\":1},{\\\"name\\\":\\\"Term 2\\\",\\\"curriculum_items\\\":[{\\\"curriculum_requisites\\\":[{\\\"source_id\\\":404174908,\\\"target_id\\\":3111264138,\\\"type\\\":\\\"CurriculumStrictCorequisite\\\"}],\\\"name\\\":\\\"BW 101L\\\",\\\"metrics\\\":{\\\"centrality\\\":0,\\\"complexity\\\":2.0,\\\"blocking factor\\\":0,\\\"delay factor\\\":2.0},\\\"nameSub\\\":\\\"Introduction to Baskets Lab\\\",\\\"id\\\":3111264138,\\\"credits\\\":1,\\\"nameCanonical\\\":\\\"\\\"},{\\\"curriculum_requisites\\\":[{\\\"source_id\\\":404174908,\\\"target_id\\\":241874163,\\\"type\\\":\\\"CurriculumPrerequisite\\\"}],\\\"name\\\":\\\"BW 111\\\",\\\"metrics\\\":{\\\"centrality\\\":3,\\\"complexity\\\":4.0,\\\"blocking factor\\\":1,\\\"delay factor\\\":3.0},\\\"nameSub\\\":\\\"Basic Basket Forms\\\",\\\"id\\\":241874163,\\\"credits\\\":3,\\\"nameCanonical\\\":\\\"\\\"},{\\\"curriculum_requisites\\\":[],\\\"name\\\":\\\"BW 101\\\",\\\"metrics\\\":{\\\"centrality\\\":0,\\\"complexity\\\":6.0,\\\"blocking factor\\\":3,\\\"delay factor\\\":3.0},\\\"nameSub\\\":\\\"Introduction to Baskets\\\",\\\"id\\\":404174908,\\\"credits\\\":3,\\\"nameCanonical\\\":\\\"\\\"}],\\\"id\\\":2}],\\\"institution\\\":\\\"\\\"}},\\\"*\\\"); window.removeEventListener(\\\"message\\\",window.messageReceived); window.messageReceived=(function (event){return (event.data.curriculum!==undefined) ? (WebIO.setval({\\\"name\\\":\\\"curriculum-data\\\",\\\"scope\\\":\\\"1726757961441218041\\\",\\\"id\\\":\\\"11787430024754395787\\\",\\\"type\\\":\\\"observable\\\"},event.data.curriculum)) : undefined}); return window.addEventListener(\\\"message\\\",window.messageReceived)})\"},\"style\":{\"padding\":\"0\",\"height\":\"75vh\",\"margin\":\"0\",\"border\":\"none\",\"width\":\"100%\"}},\"nodeType\":\"DOM\",\"type\":\"node\",\"instanceArgs\":{\"namespace\":\"html\",\"tag\":\"iframe\"},\"children\":[\"\"]}]},\n",
       "            window,\n",
       "        );\n",
       "    } else {\n",
       "        document\n",
       "            .querySelector('[data-webio-mountpoint=\"12479243627543120336\"]')\n",
       "            .innerHTML = (\n",
       "                '<div style=\"padding: 1em; background-color: #f8d6da; border: 1px solid #f5c6cb\">' +\n",
       "                '<p><strong>WebIO not detected.</strong></p>' +\n",
       "                '<p>Please read ' +\n",
       "                '<a href=\"https://juliagizmos.github.io/WebIO.jl/latest/troubleshooting/not-detected/\" target=\"_blank\">the troubleshooting guide</a> ' +\n",
       "                'for more information on how to resolve this issue.</p>' +\n",
       "                '<p><a href=\"https://juliagizmos.github.io/WebIO.jl/latest/troubleshooting/not-detected/\" target=\"_blank\">https://juliagizmos.github.io/WebIO.jl/latest/troubleshooting/not-detected/</a></p>' +\n",
       "                '</div>'\n",
       "            );\n",
       "    }\n",
       "    </script>\n",
       "</div>\n"
      ],
      "text/plain": [
       "WebIO.Scope(WebIO.Node{WebIO.DOM}(WebIO.DOM(:html, :iframe), Any[\"\"], Dict{Symbol,Any}(:src => \"http://localhost:8156\",:id => \"curriculum\",:events => Dict{Symbol,WebIO.JSString}(:load => WebIO.JSString(\"(function (){this.contentWindow.postMessage({\\\"options\\\":{\\\"hideTerms\\\":false,\\\"edit\\\":false},\\\"curriculum\\\":{\\\"name\\\":\\\"Basket Weaving Program\\\",\\\"dp_name\\\":\\\"Basket Weaving Degree Plan--Oh No!\\\",\\\"curriculum_terms\\\":[{\\\"name\\\":\\\"Term 1\\\",\\\"curriculum_items\\\":[{\\\"curriculum_requisites\\\":[],\\\"name\\\":\\\"BW 101\\\",\\\"metrics\\\":{\\\"centrality\\\":0,\\\"complexity\\\":6.0,\\\"blocking factor\\\":3,\\\"delay factor\\\":3.0},\\\"nameSub\\\":\\\"Introduction to Baskets\\\",\\\"id\\\":404174908,\\\"credits\\\":3,\\\"nameCanonical\\\":\\\"\\\"},{\\\"curriculum_requisites\\\":[{\\\"source_id\\\":241874163,\\\"target_id\\\":627886062,\\\"type\\\":\\\"CurriculumCorequisite\\\"}],\\\"name\\\":\\\"BW 201\\\",\\\"metrics\\\":{\\\"centrality\\\":0,\\\"complexity\\\":3.0,\\\"blocking factor\\\":0,\\\"delay factor\\\":3.0},\\\"nameSub\\\":\\\"Advanced Basketry\\\",\\\"id\\\":627886062,\\\"credits\\\":3,\\\"nameCanonical\\\":\\\"\\\"}],\\\"id\\\":1},{\\\"name\\\":\\\"Term 2\\\",\\\"curriculum_items\\\":[{\\\"curriculum_requisites\\\":[{\\\"source_id\\\":404174908,\\\"target_id\\\":3111264138,\\\"type\\\":\\\"CurriculumStrictCorequisite\\\"}],\\\"name\\\":\\\"BW 101L\\\",\\\"metrics\\\":{\\\"centrality\\\":0,\\\"complexity\\\":2.0,\\\"blocking factor\\\":0,\\\"delay factor\\\":2.0},\\\"nameSub\\\":\\\"Introduction to Baskets Lab\\\",\\\"id\\\":3111264138,\\\"credits\\\":1,\\\"nameCanonical\\\":\\\"\\\"},{\\\"curriculum_requisites\\\":[{\\\"source_id\\\":404174908,\\\"target_id\\\":241874163,\\\"type\\\":\\\"CurriculumPrerequisite\\\"}],\\\"name\\\":\\\"BW 111\\\",\\\"metrics\\\":{\\\"centrality\\\":3,\\\"complexity\\\":4.0,\\\"blocking factor\\\":1,\\\"delay factor\\\":3.0},\\\"nameSub\\\":\\\"Basic Basket Forms\\\",\\\"id\\\":241874163,\\\"credits\\\":3,\\\"nameCanonical\\\":\\\"\\\"},{\\\"curriculum_requisites\\\":[],\\\"name\\\":\\\"BW 101\\\",\\\"metrics\\\":{\\\"centrality\\\":0,\\\"complexity\\\":6.0,\\\"blocking factor\\\":3,\\\"delay factor\\\":3.0},\\\"nameSub\\\":\\\"Introduction to Baskets\\\",\\\"id\\\":404174908,\\\"credits\\\":3,\\\"nameCanonical\\\":\\\"\\\"}],\\\"id\\\":2}],\\\"institution\\\":\\\"\\\"}},\\\"*\\\"); window.removeEventListener(\\\"message\\\",window.messageReceived); window.messageReceived=(function (event){return (event.data.curriculum!==undefined) ? (WebIO.setval({\\\"name\\\":\\\"curriculum-data\\\",\\\"scope\\\":\\\"1726757961441218041\\\",\\\"id\\\":\\\"11787430024754395787\\\",\\\"type\\\":\\\"observable\\\"},event.data.curriculum)) : undefined}); return window.addEventListener(\\\"message\\\",window.messageReceived)})\")),:style => Dict(:padding => \"0\",:height => \"75vh\",:margin => \"0\",:border => \"none\",:width => \"100%\"))), Dict{String,Tuple{Observables.AbstractObservable,Union{Nothing, Bool}}}(\"curriculum-data\" => (Observable{Dict{String,Any}} with 1 listeners. Value:\n",
       "Dict{String,Any}(\"options\" => Dict{String,Any}(\"hideTerms\" => false,\"edit\" => false),\"curriculum\" => Dict{String,Any}(\"name\" => \"Basket Weaving Program\",\"dp_name\" => \"Basket Weaving Degree Plan--Oh No!\",\"curriculum_terms\" => Dict{String,Any}[Dict(\"name\" => \"Term 1\",\"curriculum_items\" => Dict{String,Any}[Dict(\"curriculum_requisites\" => Dict{String,Any}[],\"name\" => \"BW 101\",\"metrics\" => Dict{String,Any}(\"centrality\" => 0,\"complexity\" => 6.0,\"blocking factor\" => 3,\"delay factor\" => 3.0),\"nameSub\" => \"Introduction to Baskets\",\"id\" => 404174908,\"credits\" => 3,\"nameCanonical\" => \"\"), Dict(\"curriculum_requisites\" => Dict{String,Any}[Dict(\"source_id\" => 241874163,\"target_id\" => 627886062,\"type\" => \"CurriculumCorequisite\")],\"name\" => \"BW 201\",\"metrics\" => Dict{String,Any}(\"centrality\" => 0,\"complexity\" => 3.0,\"blocking factor\" => 0,\"delay factor\" => 3.0),\"nameSub\" => \"Advanced Basketry\",\"id\" => 627886062,\"credits\" => 3,\"nameCanonical\" => \"\")],\"id\" => 1), Dict(\"name\" => \"Term 2\",\"curriculum_items\" => Dict{String,Any}[Dict(\"curriculum_requisites\" => Dict{String,Any}[Dict(\"source_id\" => 404174908,\"target_id\" => 3111264138,\"type\" => \"CurriculumStrictCorequisite\")],\"name\" => \"BW 101L\",\"metrics\" => Dict{String,Any}(\"centrality\" => 0,\"complexity\" => 2.0,\"blocking factor\" => 0,\"delay factor\" => 2.0),\"nameSub\" => \"Introduction to Baskets Lab\",\"id\" => 3111264138,\"credits\" => 1,\"nameCanonical\" => \"\"), Dict(\"curriculum_requisites\" => Dict{String,Any}[Dict(\"source_id\" => 404174908,\"target_id\" => 241874163,\"type\" => \"CurriculumPrerequisite\")],\"name\" => \"BW 111\",\"metrics\" => Dict{String,Any}(\"centrality\" => 3,\"complexity\" => 4.0,\"blocking factor\" => 1,\"delay factor\" => 3.0),\"nameSub\" => \"Basic Basket Forms\",\"id\" => 241874163,\"credits\" => 3,\"nameCanonical\" => \"\"), Dict(\"curriculum_requisites\" => Dict{String,Any}[],\"name\" => \"BW 101\",\"metrics\" => Dict{String,Any}(\"centrality\" => 0,\"complexity\" => 6.0,\"blocking factor\" => 3,\"delay factor\" => 3.0),\"nameSub\" => \"Introduction to Baskets\",\"id\" => 404174908,\"credits\" => 3,\"nameCanonical\" => \"\")],\"id\" => 2)],\"institution\" => \"\")), nothing)), Set{String}(), nothing, WebIO.Asset[], Dict{Any,Any}(), WebIO.ConnectionPool(Channel{Any}(sz_max:32,sz_curr:0), Set{WebIO.AbstractConnection}(), Base.GenericCondition{Base.AlwaysLockedST}(Base.InvasiveLinkedList{Task}(Task (runnable) @0x000000014d202d10, Task (runnable) @0x000000014d202d10), Base.AlwaysLockedST(1))), WebIO.JSString[])"
      ]
     },
     "execution_count": 14,
     "metadata": {
      "application/vnd.webio.node+json": {
       "kernelId": "38ef9191-949f-4bdf-a486-1761b8e78e85"
      }
     },
     "output_type": "execute_result"
    }
   ],
   "source": [
    "t1 = Term([c1, c4])\n",
    "t2 = Term([c2, c3, c1])\n",
    "terms = [t1, t2];\n",
    "bad_dp = DegreePlan(\"Basket Weaving Degree Plan--Oh No!\", curric, terms)\n",
    "visualize(bad_dp, notebook=true, scale=0.75)"
   ]
  },
  {
   "cell_type": "markdown",
   "metadata": {},
   "source": [
    "Notice that you can also visualize invalid degree plans.  Let's now check for validity:"
   ]
  },
  {
   "cell_type": "code",
   "execution_count": 15,
   "metadata": {},
   "outputs": [
    {
     "name": "stdout",
     "output_type": "stream",
     "text": [
      "Degree Plan Basket Weaving Degree Plan--Oh No! is not valid:\n",
      "\n",
      "-Invalid requisite: Basic Basket Forms in term 2 is a requisite for Advanced Basketry in term 1\n",
      "-Invalid prerequisite: Introduction to Baskets in term 2 is a prerequisite for Basic Basket Forms in the same term\n",
      "-Course Introduction to Baskets is listed multiple times in degree plan"
     ]
    }
   ],
   "source": [
    "if isvalid_degree_plan(bad_dp, errors)\n",
    "    println(\"Degree Plan $(bad_dp.name) is valid\")\n",
    "else\n",
    "    println(\"Degree Plan $(bad_dp.name) is not valid:\")\n",
    "    print(String(take!(errors)))\n",
    "end"
   ]
  },
  {
   "cell_type": "markdown",
   "metadata": {},
   "source": [
    "### 2.3 Real Curricula and Degree Plans\n",
    "The \"toy\" curricula and degree plans shown above were easy enough to enter, but this would quickly become tedious for real curricula and degree plans. Thus, we have created a spreadsheet format that can be used to specify larger curricula and degree plans.  We have provide a few examples with this notebook, let's read them in."
   ]
  },
  {
   "cell_type": "code",
   "execution_count": 16,
   "metadata": {},
   "outputs": [
    {
     "data": {
      "application/vnd.webio.node+json": {
       "children": [
        {
         "children": [
          ""
         ],
         "instanceArgs": {
          "namespace": "html",
          "tag": "iframe"
         },
         "nodeType": "DOM",
         "props": {
          "events": {
           "load": "(function (){this.contentWindow.postMessage({\"options\":{\"hideTerms\":false,\"edit\":false},\"curriculum\":{\"name\":\"Aerospace Engineering\",\"dp_name\":\"2019-20 Degree Plan\",\"curriculum_terms\":[{\"name\":\"Term 1\",\"curriculum_items\":[{\"curriculum_requisites\":[],\"name\":\"MATH 125\",\"metrics\":{\"centrality\":0,\"complexity\":38.0,\"blocking factor\":29,\"delay factor\":9.0},\"nameSub\":\"Calculus I w/ Applications\",\"id\":1,\"credits\":3,\"nameCanonical\":\"\"},{\"curriculum_requisites\":[],\"name\":\"CHEM 151\",\"metrics\":{\"centrality\":0,\"complexity\":5.0,\"blocking factor\":2,\"delay factor\":3.0},\"nameSub\":\"Gen Chemistry I\",\"id\":2,\"credits\":4,\"nameCanonical\":\"\"},{\"curriculum_requisites\":[],\"name\":\"ENGL 101\",\"metrics\":{\"centrality\":0,\"complexity\":3.0,\"blocking factor\":1,\"delay factor\":2.0},\"nameSub\":\"First-year Comp.\",\"id\":3,\"credits\":3,\"nameCanonical\":\"\"},{\"curriculum_requisites\":[{\"source_id\":1,\"target_id\":4,\"type\":\"CurriculumCorequisite\"}],\"name\":\"ENGR 102\",\"metrics\":{\"centrality\":0,\"complexity\":2.0,\"blocking factor\":0,\"delay factor\":2.0},\"nameSub\":\"Intro to Engineering\",\"id\":4,\"credits\":3,\"nameCanonical\":\"\"},{\"curriculum_requisites\":[],\"name\":\" \",\"metrics\":{\"centrality\":0,\"complexity\":1.0,\"blocking factor\":0,\"delay factor\":1.0},\"nameSub\":\"Tier I General Ed.\",\"id\":5,\"credits\":3,\"nameCanonical\":\"\"}],\"id\":1},{\"name\":\"Term 2\",\"curriculum_items\":[{\"curriculum_requisites\":[{\"source_id\":1,\"target_id\":6,\"type\":\"CurriculumPrerequisite\"}],\"name\":\"MATH 129\",\"metrics\":{\"centrality\":387,\"complexity\":31.0,\"blocking factor\":22,\"delay factor\":9.0},\"nameSub\":\"Calculus II\",\"id\":6,\"credits\":3,\"nameCanonical\":\"\"},{\"curriculum_requisites\":[{\"source_id\":1,\"target_id\":7,\"type\":\"CurriculumPrerequisite\"}],\"name\":\"AME 105\",\"metrics\":{\"centrality\":28,\"complexity\":16.0,\"blocking factor\":9,\"delay factor\":7.0},\"nameSub\":\"Intro. to MATLAB I\",\"id\":7,\"credits\":1,\"nameCanonical\":\"\"},{\"curriculum_requisites\":[{\"source_id\":1,\"target_id\":8,\"type\":\"CurriculumPrerequisite\"}],\"name\":\"PHYS 141\",\"metrics\":{\"centrality\":277,\"complexity\":28.0,\"blocking factor\":19,\"delay factor\":9.0},\"nameSub\":\"Intro Mechanics\",\"id\":8,\"credits\":4,\"nameCanonical\":\"\"},{\"curriculum_requisites\":[{\"source_id\":3,\"target_id\":9,\"type\":\"CurriculumPrerequisite\"}],\"name\":\"ENGL 102\",\"metrics\":{\"centrality\":0,\"complexity\":2.0,\"blocking factor\":0,\"delay factor\":2.0},\"nameSub\":\"First-year Comp.\",\"id\":9,\"credits\":3,\"nameCanonical\":\"\"},{\"curriculum_requisites\":[{\"source_id\":1,\"target_id\":10,\"type\":\"CurriculumCorequisite\"}],\"name\":\"ECE 175\",\"metrics\":{\"centrality\":0,\"complexity\":2.0,\"blocking factor\":0,\"delay factor\":2.0},\"nameSub\":\"Programming for Eng. Apps.\",\"id\":10,\"credits\":3,\"nameCanonical\":\"\"},{\"curriculum_requisites\":[],\"name\":\" \",\"metrics\":{\"centrality\":0,\"complexity\":1.0,\"blocking factor\":0,\"delay factor\":1.0},\"nameSub\":\"Tier I General Ed. 1\",\"id\":11,\"credits\":3,\"nameCanonical\":\"\"}],\"id\":2},{\"name\":\"Term 3\",\"curriculum_items\":[{\"curriculum_requisites\":[{\"source_id\":8,\"target_id\":12,\"type\":\"CurriculumPrerequisite\"},{\"source_id\":6,\"target_id\":12,\"type\":\"CurriculumPrerequisite\"}],\"name\":\"CE 214\",\"metrics\":{\"centrality\":264,\"complexity\":24.0,\"blocking factor\":15,\"delay factor\":9.0},\"nameSub\":\"Statics\",\"id\":12,\"credits\":3,\"nameCanonical\":\"\"},{\"curriculum_requisites\":[{\"source_id\":6,\"target_id\":13,\"type\":\"CurriculumPrerequisite\"}],\"name\":\"MATH  223\",\"metrics\":{\"centrality\":252,\"complexity\":25.0,\"blocking factor\":16,\"delay factor\":9.0},\"nameSub\":\"Vector Calculus\",\"id\":13,\"credits\":4,\"nameCanonical\":\"\"},{\"curriculum_requisites\":[{\"source_id\":8,\"target_id\":14,\"type\":\"CurriculumPrerequisite\"},{\"source_id\":6,\"target_id\":14,\"type\":\"CurriculumPrerequisite\"}],\"name\":\"PHYS 241\",\"metrics\":{\"centrality\":0,\"complexity\":3.0,\"blocking factor\":0,\"delay factor\":3.0},\"nameSub\":\"Electricity & Magnetism\",\"id\":14,\"credits\":4,\"nameCanonical\":\"\"},{\"curriculum_requisites\":[{\"source_id\":7,\"target_id\":15,\"type\":\"CurriculumPrerequisite\"}],\"name\":\"AME  205\",\"metrics\":{\"centrality\":28,\"complexity\":15.0,\"blocking factor\":8,\"delay factor\":7.0},\"nameSub\":\"Intro. To MATLAB II\",\"id\":15,\"credits\":1,\"nameCanonical\":\"\"},{\"curriculum_requisites\":[],\"name\":\"AME 211\",\"metrics\":{\"centrality\":0,\"complexity\":1.0,\"blocking factor\":0,\"delay factor\":1.0},\"nameSub\":\"Comp. Aided Drafting & Manufacturing\",\"id\":16,\"credits\":3,\"nameCanonical\":\"\"},{\"curriculum_requisites\":[],\"name\":\" \",\"metrics\":{\"centrality\":0,\"complexity\":1.0,\"blocking factor\":0,\"delay factor\":1.0},\"nameSub\":\"Tier I General Ed. 2\",\"id\":17,\"credits\":3,\"nameCanonical\":\"\"}],\"id\":3},{\"name\":\"Term 4\",\"curriculum_items\":[{\"curriculum_requisites\":[{\"source_id\":8,\"target_id\":18,\"type\":\"CurriculumPrerequisite\"}],\"name\":\"AME 230\",\"metrics\":{\"centrality\":86,\"complexity\":19.0,\"blocking factor\":11,\"delay factor\":8.0},\"nameSub\":\"Thermodynamics\",\"id\":18,\"credits\":3,\"nameCanonical\":\"\"},{\"curriculum_requisites\":[{\"source_id\":12,\"target_id\":19,\"type\":\"CurriculumPrerequisite\"},{\"source_id\":20,\"target_id\":19,\"type\":\"CurriculumCorequisite\"}],\"name\":\"AME 250\",\"metrics\":{\"centrality\":145,\"complexity\":19.0,\"blocking factor\":10,\"delay factor\":9.0},\"nameSub\":\"Dynamics\",\"id\":19,\"credits\":3,\"nameCanonical\":\"\"},{\"curriculum_requisites\":[{\"source_id\":13,\"target_id\":20,\"type\":\"CurriculumPrerequisite\"}],\"name\":\"MATH 254\",\"metrics\":{\"centrality\":182,\"complexity\":24.0,\"blocking factor\":15,\"delay factor\":9.0},\"nameSub\":\"Intro. to ODEs\",\"id\":20,\"credits\":3,\"nameCanonical\":\"\"},{\"curriculum_requisites\":[{\"source_id\":13,\"target_id\":21,\"type\":\"CurriculumPrerequisite\"},{\"source_id\":8,\"target_id\":21,\"type\":\"CurriculumPrerequisite\"},{\"source_id\":20,\"target_id\":21,\"type\":\"CurriculumCorequisite\"}],\"name\":\"AME 220\",\"metrics\":{\"centrality\":198,\"complexity\":17.0,\"blocking factor\":8,\"delay factor\":9.0},\"nameSub\":\"Intro. to Aerospace Eng.\",\"id\":21,\"credits\":3,\"nameCanonical\":\"\"},{\"curriculum_requisites\":[],\"name\":\" \",\"metrics\":{\"centrality\":0,\"complexity\":1.0,\"blocking factor\":0,\"delay factor\":1.0},\"nameSub\":\"Tier I General Ed. 3\",\"id\":22,\"credits\":3,\"nameCanonical\":\"\"}],\"id\":4},{\"name\":\"Term 5\",\"curriculum_items\":[{\"curriculum_requisites\":[{\"source_id\":26,\"target_id\":23,\"type\":\"CurriculumCorequisite\"},{\"source_id\":21,\"target_id\":23,\"type\":\"CurriculumPrerequisite\"}],\"name\":\"AME 320\",\"metrics\":{\"centrality\":214,\"complexity\":14.0,\"blocking factor\":5,\"delay factor\":9.0},\"nameSub\":\"Aerodynamics\",\"id\":23,\"credits\":3,\"nameCanonical\":\"\"},{\"curriculum_requisites\":[{\"source_id\":12,\"target_id\":24,\"type\":\"CurriculumPrerequisite\"}],\"name\":\"AME  324A\",\"metrics\":{\"centrality\":172,\"complexity\":21.0,\"blocking factor\":12,\"delay factor\":9.0},\"nameSub\":\"Mech. Behavior of Eng. Materials.\",\"id\":24,\"credits\":3,\"nameCanonical\":\"\"},{\"curriculum_requisites\":[{\"source_id\":20,\"target_id\":25,\"type\":\"CurriculumPrerequisite\"}],\"name\":\"AME 301\",\"metrics\":{\"centrality\":6,\"complexity\":7.0,\"blocking factor\":1,\"delay factor\":6.0},\"nameSub\":\"Engineering Analysis\",\"id\":25,\"credits\":3,\"nameCanonical\":\"\"},{\"curriculum_requisites\":[{\"source_id\":18,\"target_id\":26,\"type\":\"CurriculumCorequisite\"},{\"source_id\":24,\"target_id\":26,\"type\":\"CurriculumCorequisite\"}],\"name\":\"AME 300\",\"metrics\":{\"centrality\":204,\"complexity\":19.0,\"blocking factor\":10,\"delay factor\":9.0},\"nameSub\":\"Instrumentation Lab.\",\"id\":26,\"credits\":3,\"nameCanonical\":\"\"},{\"curriculum_requisites\":[{\"source_id\":2,\"target_id\":27,\"type\":\"CurriculumPrerequisite\"}],\"name\":\"MSE 331R\",\"metrics\":{\"centrality\":3,\"complexity\":4.0,\"blocking factor\":1,\"delay factor\":3.0},\"nameSub\":\"Fund. of Materials for Engineers\",\"id\":27,\"credits\":3,\"nameCanonical\":\"\"},{\"curriculum_requisites\":[{\"source_id\":24,\"target_id\":28,\"type\":\"CurriculumCorequisite\"}],\"name\":\"AME 324L\",\"metrics\":{\"centrality\":0,\"complexity\":5.0,\"blocking factor\":0,\"delay factor\":5.0},\"nameSub\":\"Mech. of Materials Lab.\",\"id\":28,\"credits\":1,\"nameCanonical\":\"\"}],\"id\":5},{\"name\":\"Term 6\",\"curriculum_items\":[{\"curriculum_requisites\":[{\"source_id\":25,\"target_id\":29,\"type\":\"CurriculumPrerequisite\"}],\"name\":\"AME 324B\",\"metrics\":{\"centrality\":0,\"complexity\":6.0,\"blocking factor\":0,\"delay factor\":6.0},\"nameSub\":\"Eng. Component Design\",\"id\":29,\"credits\":3,\"nameCanonical\":\"\"},{\"curriculum_requisites\":[{\"source_id\":23,\"target_id\":30,\"type\":\"CurriculumCorequisite\"},{\"source_id\":19,\"target_id\":30,\"type\":\"CurriculumPrerequisite\"},{\"source_id\":21,\"target_id\":30,\"type\":\"CurriculumPrerequisite\"}],\"name\":\"AME 321\",\"metrics\":{\"centrality\":174,\"complexity\":12.0,\"blocking factor\":3,\"delay factor\":9.0},\"nameSub\":\"Aircraft Performance\",\"id\":30,\"credits\":3,\"nameCanonical\":\"\"},{\"curriculum_requisites\":[{\"source_id\":18,\"target_id\":31,\"type\":\"CurriculumPrerequisite\"},{\"source_id\":32,\"target_id\":31,\"type\":\"CurriculumCorequisite\"},{\"source_id\":21,\"target_id\":31,\"type\":\"CurriculumPrerequisite\"},{\"source_id\":20,\"target_id\":31,\"type\":\"CurriculumPrerequisite\"}],\"name\":\"AME 323\",\"metrics\":{\"centrality\":274,\"complexity\":13.0,\"blocking factor\":4,\"delay factor\":9.0},\"nameSub\":\"Gasdynamics\",\"id\":31,\"credits\":3,\"nameCanonical\":\"\"},{\"curriculum_requisites\":[{\"source_id\":26,\"target_id\":32,\"type\":\"CurriculumCorequisite\"},{\"source_id\":19,\"target_id\":32,\"type\":\"CurriculumPrerequisite\"},{\"source_id\":15,\"target_id\":32,\"type\":\"CurriculumPrerequisite\"},{\"source_id\":20,\"target_id\":32,\"type\":\"CurriculumPrerequisite\"}],\"name\":\"AME 302\",\"metrics\":{\"centrality\":232,\"complexity\":15.0,\"blocking factor\":6,\"delay factor\":9.0},\"nameSub\":\"Numerical Methods\",\"id\":32,\"credits\":3,\"nameCanonical\":\"\"},{\"curriculum_requisites\":[],\"name\":\"AME 313\",\"metrics\":{\"centrality\":0,\"complexity\":5.0,\"blocking factor\":2,\"delay factor\":3.0},\"nameSub\":\"Aero./Mech. Eng. Lab\",\"id\":33,\"credits\":1,\"nameCanonical\":\"\"},{\"curriculum_requisites\":[],\"name\":\" \",\"metrics\":{\"centrality\":0,\"complexity\":1.0,\"blocking factor\":0,\"delay factor\":1.0},\"nameSub\":\"Tier II General Ed. 1\",\"id\":34,\"credits\":3,\"nameCanonical\":\"\"}],\"id\":6},{\"name\":\"Term 7\",\"curriculum_items\":[{\"curriculum_requisites\":[{\"source_id\":23,\"target_id\":35,\"type\":\"CurriculumPrerequisite\"},{\"source_id\":31,\"target_id\":35,\"type\":\"CurriculumPrerequisite\"},{\"source_id\":27,\"target_id\":35,\"type\":\"CurriculumPrerequisite\"}],\"name\":\"AME 401\",\"metrics\":{\"centrality\":0,\"complexity\":8.0,\"blocking factor\":0,\"delay factor\":8.0},\"nameSub\":\"Senior Aerospace Lab.\",\"id\":35,\"credits\":3,\"nameCanonical\":\"\"},{\"curriculum_requisites\":[{\"source_id\":23,\"target_id\":36,\"type\":\"CurriculumPrerequisite\"},{\"source_id\":31,\"target_id\":36,\"type\":\"CurriculumPrerequisite\"},{\"source_id\":33,\"target_id\":36,\"type\":\"CurriculumPrerequisite\"},{\"source_id\":30,\"target_id\":36,\"type\":\"CurriculumPrerequisite\"}],\"name\":\"AME 420\",\"metrics\":{\"centrality\":240,\"complexity\":10.0,\"blocking factor\":1,\"delay factor\":9.0},\"nameSub\":\"Aerospace Conceptual Design\",\"id\":36,\"credits\":3,\"nameCanonical\":\"\"},{\"curriculum_requisites\":[{\"source_id\":24,\"target_id\":37,\"type\":\"CurriculumPrerequisite\"},{\"source_id\":31,\"target_id\":37,\"type\":\"CurriculumPrerequisite\"},{\"source_id\":18,\"target_id\":37,\"type\":\"CurriculumPrerequisite\"}],\"name\":\"AME 425\",\"metrics\":{\"centrality\":0,\"complexity\":8.0,\"blocking factor\":0,\"delay factor\":8.0},\"nameSub\":\"Aerospace Propulsion\",\"id\":37,\"credits\":3,\"nameCanonical\":\"\"},{\"curriculum_requisites\":[{\"source_id\":23,\"target_id\":38,\"type\":\"CurriculumPrerequisite\"},{\"source_id\":15,\"target_id\":38,\"type\":\"CurriculumPrerequisite\"},{\"source_id\":30,\"target_id\":38,\"type\":\"CurriculumPrerequisite\"}],\"name\":\"AME 427\",\"metrics\":{\"centrality\":0,\"complexity\":8.0,\"blocking factor\":0,\"delay factor\":8.0},\"nameSub\":\"Stability and Control of Aero. Vehicles\",\"id\":38,\"credits\":3,\"nameCanonical\":\"\"},{\"curriculum_requisites\":[{\"source_id\":13,\"target_id\":39,\"type\":\"CurriculumPrerequisite\"},{\"source_id\":19,\"target_id\":39,\"type\":\"CurriculumPrerequisite\"}],\"name\":\"AME 457\",\"metrics\":{\"centrality\":0,\"complexity\":6.0,\"blocking factor\":0,\"delay factor\":6.0},\"nameSub\":\"Orbital Mechanicans and Space Flt.\",\"id\":39,\"credits\":3,\"nameCanonical\":\"\"},{\"curriculum_requisites\":[],\"name\":\"AME 495S\",\"metrics\":{\"centrality\":0,\"complexity\":1.0,\"blocking factor\":0,\"delay factor\":1.0},\"nameSub\":\"Senior Colloquium\",\"id\":40,\"credits\":1,\"nameCanonical\":\"\"}],\"id\":7},{\"name\":\"Term 8\",\"curriculum_items\":[{\"curriculum_requisites\":[{\"source_id\":36,\"target_id\":41,\"type\":\"CurriculumPrerequisite\"},{\"source_id\":33,\"target_id\":41,\"type\":\"CurriculumCorequisite\"}],\"name\":\"AME 422\",\"metrics\":{\"centrality\":0,\"complexity\":9.0,\"blocking factor\":0,\"delay factor\":9.0},\"nameSub\":\"Aerospace Eng.Design\",\"id\":41,\"credits\":3,\"nameCanonical\":\"\"},{\"curriculum_requisites\":[{\"source_id\":24,\"target_id\":42,\"type\":\"CurriculumPrerequisite\"},{\"source_id\":32,\"target_id\":42,\"type\":\"CurriculumPrerequisite\"},{\"source_id\":18,\"target_id\":42,\"type\":\"CurriculumPrerequisite\"}],\"name\":\"AME 431\",\"metrics\":{\"centrality\":0,\"complexity\":7.0,\"blocking factor\":0,\"delay factor\":7.0},\"nameSub\":\"Num. Meth. in Fluid Mech. & Heat Xfer\",\"id\":42,\"credits\":3,\"nameCanonical\":\"\"},{\"curriculum_requisites\":[],\"name\":\" \",\"metrics\":{\"centrality\":0,\"complexity\":1.0,\"blocking factor\":0,\"delay factor\":1.0},\"nameSub\":\"Technical Elective 1\",\"id\":43,\"credits\":3,\"nameCanonical\":\"\"},{\"curriculum_requisites\":[],\"name\":\" \",\"metrics\":{\"centrality\":0,\"complexity\":1.0,\"blocking factor\":0,\"delay factor\":1.0},\"nameSub\":\"Technical Elective 2\",\"id\":44,\"credits\":3,\"nameCanonical\":\"\"},{\"curriculum_requisites\":[],\"name\":\" \",\"metrics\":{\"centrality\":0,\"complexity\":1.0,\"blocking factor\":0,\"delay factor\":1.0},\"nameSub\":\"Tier II General Ed. 2\",\"id\":45,\"credits\":3,\"nameCanonical\":\"\"}],\"id\":8}],\"institution\":\"University of Arizona\"}},\"*\"); window.removeEventListener(\"message\",window.messageReceived); window.messageReceived=(function (event){return (event.data.curriculum!==undefined) ? (WebIO.setval({\"name\":\"curriculum-data\",\"scope\":\"12107817949812142622\",\"id\":\"4082920182656578843\",\"type\":\"observable\"},event.data.curriculum)) : undefined}); return window.addEventListener(\"message\",window.messageReceived)})"
          },
          "id": "curriculum",
          "src": "http://localhost:8156",
          "style": {
           "border": "none",
           "height": "100vh",
           "margin": "0",
           "padding": "0",
           "width": "100%"
          }
         },
         "type": "node"
        }
       ],
       "instanceArgs": {
        "handlers": {},
        "id": "12107817949812142622",
        "imports": {
         "data": [],
         "type": "async_block"
        },
        "mount_callbacks": [],
        "observables": {
         "curriculum-data": {
          "id": "4082920182656578843",
          "sync": true,
          "value": {
           "curriculum": {
            "curriculum_terms": [
             {
              "curriculum_items": [
               {
                "credits": 3,
                "curriculum_requisites": [],
                "id": 1,
                "metrics": {
                 "blocking factor": 29,
                 "centrality": 0,
                 "complexity": 38,
                 "delay factor": 9
                },
                "name": "MATH 125",
                "nameCanonical": "",
                "nameSub": "Calculus I w/ Applications"
               },
               {
                "credits": 4,
                "curriculum_requisites": [],
                "id": 2,
                "metrics": {
                 "blocking factor": 2,
                 "centrality": 0,
                 "complexity": 5,
                 "delay factor": 3
                },
                "name": "CHEM 151",
                "nameCanonical": "",
                "nameSub": "Gen Chemistry I"
               },
               {
                "credits": 3,
                "curriculum_requisites": [],
                "id": 3,
                "metrics": {
                 "blocking factor": 1,
                 "centrality": 0,
                 "complexity": 3,
                 "delay factor": 2
                },
                "name": "ENGL 101",
                "nameCanonical": "",
                "nameSub": "First-year Comp."
               },
               {
                "credits": 3,
                "curriculum_requisites": [
                 {
                  "source_id": 1,
                  "target_id": 4,
                  "type": "CurriculumCorequisite"
                 }
                ],
                "id": 4,
                "metrics": {
                 "blocking factor": 0,
                 "centrality": 0,
                 "complexity": 2,
                 "delay factor": 2
                },
                "name": "ENGR 102",
                "nameCanonical": "",
                "nameSub": "Intro to Engineering"
               },
               {
                "credits": 3,
                "curriculum_requisites": [],
                "id": 5,
                "metrics": {
                 "blocking factor": 0,
                 "centrality": 0,
                 "complexity": 1,
                 "delay factor": 1
                },
                "name": " ",
                "nameCanonical": "",
                "nameSub": "Tier I General Ed."
               }
              ],
              "id": 1,
              "name": "Term 1"
             },
             {
              "curriculum_items": [
               {
                "credits": 3,
                "curriculum_requisites": [
                 {
                  "source_id": 1,
                  "target_id": 6,
                  "type": "CurriculumPrerequisite"
                 }
                ],
                "id": 6,
                "metrics": {
                 "blocking factor": 22,
                 "centrality": 387,
                 "complexity": 31,
                 "delay factor": 9
                },
                "name": "MATH 129",
                "nameCanonical": "",
                "nameSub": "Calculus II"
               },
               {
                "credits": 1,
                "curriculum_requisites": [
                 {
                  "source_id": 1,
                  "target_id": 7,
                  "type": "CurriculumPrerequisite"
                 }
                ],
                "id": 7,
                "metrics": {
                 "blocking factor": 9,
                 "centrality": 28,
                 "complexity": 16,
                 "delay factor": 7
                },
                "name": "AME 105",
                "nameCanonical": "",
                "nameSub": "Intro. to MATLAB I"
               },
               {
                "credits": 4,
                "curriculum_requisites": [
                 {
                  "source_id": 1,
                  "target_id": 8,
                  "type": "CurriculumPrerequisite"
                 }
                ],
                "id": 8,
                "metrics": {
                 "blocking factor": 19,
                 "centrality": 277,
                 "complexity": 28,
                 "delay factor": 9
                },
                "name": "PHYS 141",
                "nameCanonical": "",
                "nameSub": "Intro Mechanics"
               },
               {
                "credits": 3,
                "curriculum_requisites": [
                 {
                  "source_id": 3,
                  "target_id": 9,
                  "type": "CurriculumPrerequisite"
                 }
                ],
                "id": 9,
                "metrics": {
                 "blocking factor": 0,
                 "centrality": 0,
                 "complexity": 2,
                 "delay factor": 2
                },
                "name": "ENGL 102",
                "nameCanonical": "",
                "nameSub": "First-year Comp."
               },
               {
                "credits": 3,
                "curriculum_requisites": [
                 {
                  "source_id": 1,
                  "target_id": 10,
                  "type": "CurriculumCorequisite"
                 }
                ],
                "id": 10,
                "metrics": {
                 "blocking factor": 0,
                 "centrality": 0,
                 "complexity": 2,
                 "delay factor": 2
                },
                "name": "ECE 175",
                "nameCanonical": "",
                "nameSub": "Programming for Eng. Apps."
               },
               {
                "credits": 3,
                "curriculum_requisites": [],
                "id": 11,
                "metrics": {
                 "blocking factor": 0,
                 "centrality": 0,
                 "complexity": 1,
                 "delay factor": 1
                },
                "name": " ",
                "nameCanonical": "",
                "nameSub": "Tier I General Ed. 1"
               }
              ],
              "id": 2,
              "name": "Term 2"
             },
             {
              "curriculum_items": [
               {
                "credits": 3,
                "curriculum_requisites": [
                 {
                  "source_id": 8,
                  "target_id": 12,
                  "type": "CurriculumPrerequisite"
                 },
                 {
                  "source_id": 6,
                  "target_id": 12,
                  "type": "CurriculumPrerequisite"
                 }
                ],
                "id": 12,
                "metrics": {
                 "blocking factor": 15,
                 "centrality": 264,
                 "complexity": 24,
                 "delay factor": 9
                },
                "name": "CE 214",
                "nameCanonical": "",
                "nameSub": "Statics"
               },
               {
                "credits": 4,
                "curriculum_requisites": [
                 {
                  "source_id": 6,
                  "target_id": 13,
                  "type": "CurriculumPrerequisite"
                 }
                ],
                "id": 13,
                "metrics": {
                 "blocking factor": 16,
                 "centrality": 252,
                 "complexity": 25,
                 "delay factor": 9
                },
                "name": "MATH  223",
                "nameCanonical": "",
                "nameSub": "Vector Calculus"
               },
               {
                "credits": 4,
                "curriculum_requisites": [
                 {
                  "source_id": 8,
                  "target_id": 14,
                  "type": "CurriculumPrerequisite"
                 },
                 {
                  "source_id": 6,
                  "target_id": 14,
                  "type": "CurriculumPrerequisite"
                 }
                ],
                "id": 14,
                "metrics": {
                 "blocking factor": 0,
                 "centrality": 0,
                 "complexity": 3,
                 "delay factor": 3
                },
                "name": "PHYS 241",
                "nameCanonical": "",
                "nameSub": "Electricity & Magnetism"
               },
               {
                "credits": 1,
                "curriculum_requisites": [
                 {
                  "source_id": 7,
                  "target_id": 15,
                  "type": "CurriculumPrerequisite"
                 }
                ],
                "id": 15,
                "metrics": {
                 "blocking factor": 8,
                 "centrality": 28,
                 "complexity": 15,
                 "delay factor": 7
                },
                "name": "AME  205",
                "nameCanonical": "",
                "nameSub": "Intro. To MATLAB II"
               },
               {
                "credits": 3,
                "curriculum_requisites": [],
                "id": 16,
                "metrics": {
                 "blocking factor": 0,
                 "centrality": 0,
                 "complexity": 1,
                 "delay factor": 1
                },
                "name": "AME 211",
                "nameCanonical": "",
                "nameSub": "Comp. Aided Drafting & Manufacturing"
               },
               {
                "credits": 3,
                "curriculum_requisites": [],
                "id": 17,
                "metrics": {
                 "blocking factor": 0,
                 "centrality": 0,
                 "complexity": 1,
                 "delay factor": 1
                },
                "name": " ",
                "nameCanonical": "",
                "nameSub": "Tier I General Ed. 2"
               }
              ],
              "id": 3,
              "name": "Term 3"
             },
             {
              "curriculum_items": [
               {
                "credits": 3,
                "curriculum_requisites": [
                 {
                  "source_id": 8,
                  "target_id": 18,
                  "type": "CurriculumPrerequisite"
                 }
                ],
                "id": 18,
                "metrics": {
                 "blocking factor": 11,
                 "centrality": 86,
                 "complexity": 19,
                 "delay factor": 8
                },
                "name": "AME 230",
                "nameCanonical": "",
                "nameSub": "Thermodynamics"
               },
               {
                "credits": 3,
                "curriculum_requisites": [
                 {
                  "source_id": 12,
                  "target_id": 19,
                  "type": "CurriculumPrerequisite"
                 },
                 {
                  "source_id": 20,
                  "target_id": 19,
                  "type": "CurriculumCorequisite"
                 }
                ],
                "id": 19,
                "metrics": {
                 "blocking factor": 10,
                 "centrality": 145,
                 "complexity": 19,
                 "delay factor": 9
                },
                "name": "AME 250",
                "nameCanonical": "",
                "nameSub": "Dynamics"
               },
               {
                "credits": 3,
                "curriculum_requisites": [
                 {
                  "source_id": 13,
                  "target_id": 20,
                  "type": "CurriculumPrerequisite"
                 }
                ],
                "id": 20,
                "metrics": {
                 "blocking factor": 15,
                 "centrality": 182,
                 "complexity": 24,
                 "delay factor": 9
                },
                "name": "MATH 254",
                "nameCanonical": "",
                "nameSub": "Intro. to ODEs"
               },
               {
                "credits": 3,
                "curriculum_requisites": [
                 {
                  "source_id": 13,
                  "target_id": 21,
                  "type": "CurriculumPrerequisite"
                 },
                 {
                  "source_id": 8,
                  "target_id": 21,
                  "type": "CurriculumPrerequisite"
                 },
                 {
                  "source_id": 20,
                  "target_id": 21,
                  "type": "CurriculumCorequisite"
                 }
                ],
                "id": 21,
                "metrics": {
                 "blocking factor": 8,
                 "centrality": 198,
                 "complexity": 17,
                 "delay factor": 9
                },
                "name": "AME 220",
                "nameCanonical": "",
                "nameSub": "Intro. to Aerospace Eng."
               },
               {
                "credits": 3,
                "curriculum_requisites": [],
                "id": 22,
                "metrics": {
                 "blocking factor": 0,
                 "centrality": 0,
                 "complexity": 1,
                 "delay factor": 1
                },
                "name": " ",
                "nameCanonical": "",
                "nameSub": "Tier I General Ed. 3"
               }
              ],
              "id": 4,
              "name": "Term 4"
             },
             {
              "curriculum_items": [
               {
                "credits": 3,
                "curriculum_requisites": [
                 {
                  "source_id": 26,
                  "target_id": 23,
                  "type": "CurriculumCorequisite"
                 },
                 {
                  "source_id": 21,
                  "target_id": 23,
                  "type": "CurriculumPrerequisite"
                 }
                ],
                "id": 23,
                "metrics": {
                 "blocking factor": 5,
                 "centrality": 214,
                 "complexity": 14,
                 "delay factor": 9
                },
                "name": "AME 320",
                "nameCanonical": "",
                "nameSub": "Aerodynamics"
               },
               {
                "credits": 3,
                "curriculum_requisites": [
                 {
                  "source_id": 12,
                  "target_id": 24,
                  "type": "CurriculumPrerequisite"
                 }
                ],
                "id": 24,
                "metrics": {
                 "blocking factor": 12,
                 "centrality": 172,
                 "complexity": 21,
                 "delay factor": 9
                },
                "name": "AME  324A",
                "nameCanonical": "",
                "nameSub": "Mech. Behavior of Eng. Materials."
               },
               {
                "credits": 3,
                "curriculum_requisites": [
                 {
                  "source_id": 20,
                  "target_id": 25,
                  "type": "CurriculumPrerequisite"
                 }
                ],
                "id": 25,
                "metrics": {
                 "blocking factor": 1,
                 "centrality": 6,
                 "complexity": 7,
                 "delay factor": 6
                },
                "name": "AME 301",
                "nameCanonical": "",
                "nameSub": "Engineering Analysis"
               },
               {
                "credits": 3,
                "curriculum_requisites": [
                 {
                  "source_id": 18,
                  "target_id": 26,
                  "type": "CurriculumCorequisite"
                 },
                 {
                  "source_id": 24,
                  "target_id": 26,
                  "type": "CurriculumCorequisite"
                 }
                ],
                "id": 26,
                "metrics": {
                 "blocking factor": 10,
                 "centrality": 204,
                 "complexity": 19,
                 "delay factor": 9
                },
                "name": "AME 300",
                "nameCanonical": "",
                "nameSub": "Instrumentation Lab."
               },
               {
                "credits": 3,
                "curriculum_requisites": [
                 {
                  "source_id": 2,
                  "target_id": 27,
                  "type": "CurriculumPrerequisite"
                 }
                ],
                "id": 27,
                "metrics": {
                 "blocking factor": 1,
                 "centrality": 3,
                 "complexity": 4,
                 "delay factor": 3
                },
                "name": "MSE 331R",
                "nameCanonical": "",
                "nameSub": "Fund. of Materials for Engineers"
               },
               {
                "credits": 1,
                "curriculum_requisites": [
                 {
                  "source_id": 24,
                  "target_id": 28,
                  "type": "CurriculumCorequisite"
                 }
                ],
                "id": 28,
                "metrics": {
                 "blocking factor": 0,
                 "centrality": 0,
                 "complexity": 5,
                 "delay factor": 5
                },
                "name": "AME 324L",
                "nameCanonical": "",
                "nameSub": "Mech. of Materials Lab."
               }
              ],
              "id": 5,
              "name": "Term 5"
             },
             {
              "curriculum_items": [
               {
                "credits": 3,
                "curriculum_requisites": [
                 {
                  "source_id": 25,
                  "target_id": 29,
                  "type": "CurriculumPrerequisite"
                 }
                ],
                "id": 29,
                "metrics": {
                 "blocking factor": 0,
                 "centrality": 0,
                 "complexity": 6,
                 "delay factor": 6
                },
                "name": "AME 324B",
                "nameCanonical": "",
                "nameSub": "Eng. Component Design"
               },
               {
                "credits": 3,
                "curriculum_requisites": [
                 {
                  "source_id": 23,
                  "target_id": 30,
                  "type": "CurriculumCorequisite"
                 },
                 {
                  "source_id": 19,
                  "target_id": 30,
                  "type": "CurriculumPrerequisite"
                 },
                 {
                  "source_id": 21,
                  "target_id": 30,
                  "type": "CurriculumPrerequisite"
                 }
                ],
                "id": 30,
                "metrics": {
                 "blocking factor": 3,
                 "centrality": 174,
                 "complexity": 12,
                 "delay factor": 9
                },
                "name": "AME 321",
                "nameCanonical": "",
                "nameSub": "Aircraft Performance"
               },
               {
                "credits": 3,
                "curriculum_requisites": [
                 {
                  "source_id": 18,
                  "target_id": 31,
                  "type": "CurriculumPrerequisite"
                 },
                 {
                  "source_id": 32,
                  "target_id": 31,
                  "type": "CurriculumCorequisite"
                 },
                 {
                  "source_id": 21,
                  "target_id": 31,
                  "type": "CurriculumPrerequisite"
                 },
                 {
                  "source_id": 20,
                  "target_id": 31,
                  "type": "CurriculumPrerequisite"
                 }
                ],
                "id": 31,
                "metrics": {
                 "blocking factor": 4,
                 "centrality": 274,
                 "complexity": 13,
                 "delay factor": 9
                },
                "name": "AME 323",
                "nameCanonical": "",
                "nameSub": "Gasdynamics"
               },
               {
                "credits": 3,
                "curriculum_requisites": [
                 {
                  "source_id": 26,
                  "target_id": 32,
                  "type": "CurriculumCorequisite"
                 },
                 {
                  "source_id": 19,
                  "target_id": 32,
                  "type": "CurriculumPrerequisite"
                 },
                 {
                  "source_id": 15,
                  "target_id": 32,
                  "type": "CurriculumPrerequisite"
                 },
                 {
                  "source_id": 20,
                  "target_id": 32,
                  "type": "CurriculumPrerequisite"
                 }
                ],
                "id": 32,
                "metrics": {
                 "blocking factor": 6,
                 "centrality": 232,
                 "complexity": 15,
                 "delay factor": 9
                },
                "name": "AME 302",
                "nameCanonical": "",
                "nameSub": "Numerical Methods"
               },
               {
                "credits": 1,
                "curriculum_requisites": [],
                "id": 33,
                "metrics": {
                 "blocking factor": 2,
                 "centrality": 0,
                 "complexity": 5,
                 "delay factor": 3
                },
                "name": "AME 313",
                "nameCanonical": "",
                "nameSub": "Aero./Mech. Eng. Lab"
               },
               {
                "credits": 3,
                "curriculum_requisites": [],
                "id": 34,
                "metrics": {
                 "blocking factor": 0,
                 "centrality": 0,
                 "complexity": 1,
                 "delay factor": 1
                },
                "name": " ",
                "nameCanonical": "",
                "nameSub": "Tier II General Ed. 1"
               }
              ],
              "id": 6,
              "name": "Term 6"
             },
             {
              "curriculum_items": [
               {
                "credits": 3,
                "curriculum_requisites": [
                 {
                  "source_id": 23,
                  "target_id": 35,
                  "type": "CurriculumPrerequisite"
                 },
                 {
                  "source_id": 31,
                  "target_id": 35,
                  "type": "CurriculumPrerequisite"
                 },
                 {
                  "source_id": 27,
                  "target_id": 35,
                  "type": "CurriculumPrerequisite"
                 }
                ],
                "id": 35,
                "metrics": {
                 "blocking factor": 0,
                 "centrality": 0,
                 "complexity": 8,
                 "delay factor": 8
                },
                "name": "AME 401",
                "nameCanonical": "",
                "nameSub": "Senior Aerospace Lab."
               },
               {
                "credits": 3,
                "curriculum_requisites": [
                 {
                  "source_id": 23,
                  "target_id": 36,
                  "type": "CurriculumPrerequisite"
                 },
                 {
                  "source_id": 31,
                  "target_id": 36,
                  "type": "CurriculumPrerequisite"
                 },
                 {
                  "source_id": 33,
                  "target_id": 36,
                  "type": "CurriculumPrerequisite"
                 },
                 {
                  "source_id": 30,
                  "target_id": 36,
                  "type": "CurriculumPrerequisite"
                 }
                ],
                "id": 36,
                "metrics": {
                 "blocking factor": 1,
                 "centrality": 240,
                 "complexity": 10,
                 "delay factor": 9
                },
                "name": "AME 420",
                "nameCanonical": "",
                "nameSub": "Aerospace Conceptual Design"
               },
               {
                "credits": 3,
                "curriculum_requisites": [
                 {
                  "source_id": 24,
                  "target_id": 37,
                  "type": "CurriculumPrerequisite"
                 },
                 {
                  "source_id": 31,
                  "target_id": 37,
                  "type": "CurriculumPrerequisite"
                 },
                 {
                  "source_id": 18,
                  "target_id": 37,
                  "type": "CurriculumPrerequisite"
                 }
                ],
                "id": 37,
                "metrics": {
                 "blocking factor": 0,
                 "centrality": 0,
                 "complexity": 8,
                 "delay factor": 8
                },
                "name": "AME 425",
                "nameCanonical": "",
                "nameSub": "Aerospace Propulsion"
               },
               {
                "credits": 3,
                "curriculum_requisites": [
                 {
                  "source_id": 23,
                  "target_id": 38,
                  "type": "CurriculumPrerequisite"
                 },
                 {
                  "source_id": 15,
                  "target_id": 38,
                  "type": "CurriculumPrerequisite"
                 },
                 {
                  "source_id": 30,
                  "target_id": 38,
                  "type": "CurriculumPrerequisite"
                 }
                ],
                "id": 38,
                "metrics": {
                 "blocking factor": 0,
                 "centrality": 0,
                 "complexity": 8,
                 "delay factor": 8
                },
                "name": "AME 427",
                "nameCanonical": "",
                "nameSub": "Stability and Control of Aero. Vehicles"
               },
               {
                "credits": 3,
                "curriculum_requisites": [
                 {
                  "source_id": 13,
                  "target_id": 39,
                  "type": "CurriculumPrerequisite"
                 },
                 {
                  "source_id": 19,
                  "target_id": 39,
                  "type": "CurriculumPrerequisite"
                 }
                ],
                "id": 39,
                "metrics": {
                 "blocking factor": 0,
                 "centrality": 0,
                 "complexity": 6,
                 "delay factor": 6
                },
                "name": "AME 457",
                "nameCanonical": "",
                "nameSub": "Orbital Mechanicans and Space Flt."
               },
               {
                "credits": 1,
                "curriculum_requisites": [],
                "id": 40,
                "metrics": {
                 "blocking factor": 0,
                 "centrality": 0,
                 "complexity": 1,
                 "delay factor": 1
                },
                "name": "AME 495S",
                "nameCanonical": "",
                "nameSub": "Senior Colloquium"
               }
              ],
              "id": 7,
              "name": "Term 7"
             },
             {
              "curriculum_items": [
               {
                "credits": 3,
                "curriculum_requisites": [
                 {
                  "source_id": 36,
                  "target_id": 41,
                  "type": "CurriculumPrerequisite"
                 },
                 {
                  "source_id": 33,
                  "target_id": 41,
                  "type": "CurriculumCorequisite"
                 }
                ],
                "id": 41,
                "metrics": {
                 "blocking factor": 0,
                 "centrality": 0,
                 "complexity": 9,
                 "delay factor": 9
                },
                "name": "AME 422",
                "nameCanonical": "",
                "nameSub": "Aerospace Eng.Design"
               },
               {
                "credits": 3,
                "curriculum_requisites": [
                 {
                  "source_id": 24,
                  "target_id": 42,
                  "type": "CurriculumPrerequisite"
                 },
                 {
                  "source_id": 32,
                  "target_id": 42,
                  "type": "CurriculumPrerequisite"
                 },
                 {
                  "source_id": 18,
                  "target_id": 42,
                  "type": "CurriculumPrerequisite"
                 }
                ],
                "id": 42,
                "metrics": {
                 "blocking factor": 0,
                 "centrality": 0,
                 "complexity": 7,
                 "delay factor": 7
                },
                "name": "AME 431",
                "nameCanonical": "",
                "nameSub": "Num. Meth. in Fluid Mech. & Heat Xfer"
               },
               {
                "credits": 3,
                "curriculum_requisites": [],
                "id": 43,
                "metrics": {
                 "blocking factor": 0,
                 "centrality": 0,
                 "complexity": 1,
                 "delay factor": 1
                },
                "name": " ",
                "nameCanonical": "",
                "nameSub": "Technical Elective 1"
               },
               {
                "credits": 3,
                "curriculum_requisites": [],
                "id": 44,
                "metrics": {
                 "blocking factor": 0,
                 "centrality": 0,
                 "complexity": 1,
                 "delay factor": 1
                },
                "name": " ",
                "nameCanonical": "",
                "nameSub": "Technical Elective 2"
               },
               {
                "credits": 3,
                "curriculum_requisites": [],
                "id": 45,
                "metrics": {
                 "blocking factor": 0,
                 "centrality": 0,
                 "complexity": 1,
                 "delay factor": 1
                },
                "name": " ",
                "nameCanonical": "",
                "nameSub": "Tier II General Ed. 2"
               }
              ],
              "id": 8,
              "name": "Term 8"
             }
            ],
            "dp_name": "2019-20 Degree Plan",
            "institution": "University of Arizona",
            "name": "Aerospace Engineering"
           },
           "options": {
            "edit": false,
            "hideTerms": false
           }
          }
         }
        },
        "systemjs_options": null
       },
       "nodeType": "Scope",
       "props": {},
       "type": "node"
      },
      "text/html": [
       "<div\n",
       "    class=\"webio-mountpoint\"\n",
       "    data-webio-mountpoint=\"2875063019476812381\"\n",
       ">\n",
       "    <script>\n",
       "    if (window.require && require.defined && require.defined(\"nbextensions/webio-jupyter-notebook\")) {\n",
       "        console.log(\"Jupyter WebIO extension detected, not mounting.\");\n",
       "    } else if (window.WebIO) {\n",
       "        WebIO.mount(\n",
       "            document.querySelector('[data-webio-mountpoint=\"2875063019476812381\"]'),\n",
       "            {\"props\":{},\"nodeType\":\"Scope\",\"type\":\"node\",\"instanceArgs\":{\"imports\":{\"data\":[],\"type\":\"async_block\"},\"id\":\"12107817949812142622\",\"handlers\":{},\"systemjs_options\":null,\"mount_callbacks\":[],\"observables\":{\"curriculum-data\":{\"sync\":true,\"id\":\"4082920182656578843\",\"value\":{\"options\":{\"hideTerms\":false,\"edit\":false},\"curriculum\":{\"name\":\"Aerospace Engineering\",\"dp_name\":\"2019-20 Degree Plan\",\"curriculum_terms\":[{\"name\":\"Term 1\",\"curriculum_items\":[{\"curriculum_requisites\":[],\"name\":\"MATH 125\",\"metrics\":{\"centrality\":0,\"complexity\":38.0,\"blocking factor\":29,\"delay factor\":9.0},\"nameSub\":\"Calculus I w\\/ Applications\",\"id\":1,\"credits\":3,\"nameCanonical\":\"\"},{\"curriculum_requisites\":[],\"name\":\"CHEM 151\",\"metrics\":{\"centrality\":0,\"complexity\":5.0,\"blocking factor\":2,\"delay factor\":3.0},\"nameSub\":\"Gen Chemistry I\",\"id\":2,\"credits\":4,\"nameCanonical\":\"\"},{\"curriculum_requisites\":[],\"name\":\"ENGL 101\",\"metrics\":{\"centrality\":0,\"complexity\":3.0,\"blocking factor\":1,\"delay factor\":2.0},\"nameSub\":\"First-year Comp.\",\"id\":3,\"credits\":3,\"nameCanonical\":\"\"},{\"curriculum_requisites\":[{\"source_id\":1,\"target_id\":4,\"type\":\"CurriculumCorequisite\"}],\"name\":\"ENGR 102\",\"metrics\":{\"centrality\":0,\"complexity\":2.0,\"blocking factor\":0,\"delay factor\":2.0},\"nameSub\":\"Intro to Engineering\",\"id\":4,\"credits\":3,\"nameCanonical\":\"\"},{\"curriculum_requisites\":[],\"name\":\" \",\"metrics\":{\"centrality\":0,\"complexity\":1.0,\"blocking factor\":0,\"delay factor\":1.0},\"nameSub\":\"Tier I General Ed.\",\"id\":5,\"credits\":3,\"nameCanonical\":\"\"}],\"id\":1},{\"name\":\"Term 2\",\"curriculum_items\":[{\"curriculum_requisites\":[{\"source_id\":1,\"target_id\":6,\"type\":\"CurriculumPrerequisite\"}],\"name\":\"MATH 129\",\"metrics\":{\"centrality\":387,\"complexity\":31.0,\"blocking factor\":22,\"delay factor\":9.0},\"nameSub\":\"Calculus II\",\"id\":6,\"credits\":3,\"nameCanonical\":\"\"},{\"curriculum_requisites\":[{\"source_id\":1,\"target_id\":7,\"type\":\"CurriculumPrerequisite\"}],\"name\":\"AME 105\",\"metrics\":{\"centrality\":28,\"complexity\":16.0,\"blocking factor\":9,\"delay factor\":7.0},\"nameSub\":\"Intro. to MATLAB I\",\"id\":7,\"credits\":1,\"nameCanonical\":\"\"},{\"curriculum_requisites\":[{\"source_id\":1,\"target_id\":8,\"type\":\"CurriculumPrerequisite\"}],\"name\":\"PHYS 141\",\"metrics\":{\"centrality\":277,\"complexity\":28.0,\"blocking factor\":19,\"delay factor\":9.0},\"nameSub\":\"Intro Mechanics\",\"id\":8,\"credits\":4,\"nameCanonical\":\"\"},{\"curriculum_requisites\":[{\"source_id\":3,\"target_id\":9,\"type\":\"CurriculumPrerequisite\"}],\"name\":\"ENGL 102\",\"metrics\":{\"centrality\":0,\"complexity\":2.0,\"blocking factor\":0,\"delay factor\":2.0},\"nameSub\":\"First-year Comp.\",\"id\":9,\"credits\":3,\"nameCanonical\":\"\"},{\"curriculum_requisites\":[{\"source_id\":1,\"target_id\":10,\"type\":\"CurriculumCorequisite\"}],\"name\":\"ECE 175\",\"metrics\":{\"centrality\":0,\"complexity\":2.0,\"blocking factor\":0,\"delay factor\":2.0},\"nameSub\":\"Programming for Eng. Apps.\",\"id\":10,\"credits\":3,\"nameCanonical\":\"\"},{\"curriculum_requisites\":[],\"name\":\" \",\"metrics\":{\"centrality\":0,\"complexity\":1.0,\"blocking factor\":0,\"delay factor\":1.0},\"nameSub\":\"Tier I General Ed. 1\",\"id\":11,\"credits\":3,\"nameCanonical\":\"\"}],\"id\":2},{\"name\":\"Term 3\",\"curriculum_items\":[{\"curriculum_requisites\":[{\"source_id\":8,\"target_id\":12,\"type\":\"CurriculumPrerequisite\"},{\"source_id\":6,\"target_id\":12,\"type\":\"CurriculumPrerequisite\"}],\"name\":\"CE 214\",\"metrics\":{\"centrality\":264,\"complexity\":24.0,\"blocking factor\":15,\"delay factor\":9.0},\"nameSub\":\"Statics\",\"id\":12,\"credits\":3,\"nameCanonical\":\"\"},{\"curriculum_requisites\":[{\"source_id\":6,\"target_id\":13,\"type\":\"CurriculumPrerequisite\"}],\"name\":\"MATH  223\",\"metrics\":{\"centrality\":252,\"complexity\":25.0,\"blocking factor\":16,\"delay factor\":9.0},\"nameSub\":\"Vector Calculus\",\"id\":13,\"credits\":4,\"nameCanonical\":\"\"},{\"curriculum_requisites\":[{\"source_id\":8,\"target_id\":14,\"type\":\"CurriculumPrerequisite\"},{\"source_id\":6,\"target_id\":14,\"type\":\"CurriculumPrerequisite\"}],\"name\":\"PHYS 241\",\"metrics\":{\"centrality\":0,\"complexity\":3.0,\"blocking factor\":0,\"delay factor\":3.0},\"nameSub\":\"Electricity & Magnetism\",\"id\":14,\"credits\":4,\"nameCanonical\":\"\"},{\"curriculum_requisites\":[{\"source_id\":7,\"target_id\":15,\"type\":\"CurriculumPrerequisite\"}],\"name\":\"AME  205\",\"metrics\":{\"centrality\":28,\"complexity\":15.0,\"blocking factor\":8,\"delay factor\":7.0},\"nameSub\":\"Intro. To MATLAB II\",\"id\":15,\"credits\":1,\"nameCanonical\":\"\"},{\"curriculum_requisites\":[],\"name\":\"AME 211\",\"metrics\":{\"centrality\":0,\"complexity\":1.0,\"blocking factor\":0,\"delay factor\":1.0},\"nameSub\":\"Comp. Aided Drafting & Manufacturing\",\"id\":16,\"credits\":3,\"nameCanonical\":\"\"},{\"curriculum_requisites\":[],\"name\":\" \",\"metrics\":{\"centrality\":0,\"complexity\":1.0,\"blocking factor\":0,\"delay factor\":1.0},\"nameSub\":\"Tier I General Ed. 2\",\"id\":17,\"credits\":3,\"nameCanonical\":\"\"}],\"id\":3},{\"name\":\"Term 4\",\"curriculum_items\":[{\"curriculum_requisites\":[{\"source_id\":8,\"target_id\":18,\"type\":\"CurriculumPrerequisite\"}],\"name\":\"AME 230\",\"metrics\":{\"centrality\":86,\"complexity\":19.0,\"blocking factor\":11,\"delay factor\":8.0},\"nameSub\":\"Thermodynamics\",\"id\":18,\"credits\":3,\"nameCanonical\":\"\"},{\"curriculum_requisites\":[{\"source_id\":12,\"target_id\":19,\"type\":\"CurriculumPrerequisite\"},{\"source_id\":20,\"target_id\":19,\"type\":\"CurriculumCorequisite\"}],\"name\":\"AME 250\",\"metrics\":{\"centrality\":145,\"complexity\":19.0,\"blocking factor\":10,\"delay factor\":9.0},\"nameSub\":\"Dynamics\",\"id\":19,\"credits\":3,\"nameCanonical\":\"\"},{\"curriculum_requisites\":[{\"source_id\":13,\"target_id\":20,\"type\":\"CurriculumPrerequisite\"}],\"name\":\"MATH 254\",\"metrics\":{\"centrality\":182,\"complexity\":24.0,\"blocking factor\":15,\"delay factor\":9.0},\"nameSub\":\"Intro. to ODEs\",\"id\":20,\"credits\":3,\"nameCanonical\":\"\"},{\"curriculum_requisites\":[{\"source_id\":13,\"target_id\":21,\"type\":\"CurriculumPrerequisite\"},{\"source_id\":8,\"target_id\":21,\"type\":\"CurriculumPrerequisite\"},{\"source_id\":20,\"target_id\":21,\"type\":\"CurriculumCorequisite\"}],\"name\":\"AME 220\",\"metrics\":{\"centrality\":198,\"complexity\":17.0,\"blocking factor\":8,\"delay factor\":9.0},\"nameSub\":\"Intro. to Aerospace Eng.\",\"id\":21,\"credits\":3,\"nameCanonical\":\"\"},{\"curriculum_requisites\":[],\"name\":\" \",\"metrics\":{\"centrality\":0,\"complexity\":1.0,\"blocking factor\":0,\"delay factor\":1.0},\"nameSub\":\"Tier I General Ed. 3\",\"id\":22,\"credits\":3,\"nameCanonical\":\"\"}],\"id\":4},{\"name\":\"Term 5\",\"curriculum_items\":[{\"curriculum_requisites\":[{\"source_id\":26,\"target_id\":23,\"type\":\"CurriculumCorequisite\"},{\"source_id\":21,\"target_id\":23,\"type\":\"CurriculumPrerequisite\"}],\"name\":\"AME 320\",\"metrics\":{\"centrality\":214,\"complexity\":14.0,\"blocking factor\":5,\"delay factor\":9.0},\"nameSub\":\"Aerodynamics\",\"id\":23,\"credits\":3,\"nameCanonical\":\"\"},{\"curriculum_requisites\":[{\"source_id\":12,\"target_id\":24,\"type\":\"CurriculumPrerequisite\"}],\"name\":\"AME  324A\",\"metrics\":{\"centrality\":172,\"complexity\":21.0,\"blocking factor\":12,\"delay factor\":9.0},\"nameSub\":\"Mech. Behavior of Eng. Materials.\",\"id\":24,\"credits\":3,\"nameCanonical\":\"\"},{\"curriculum_requisites\":[{\"source_id\":20,\"target_id\":25,\"type\":\"CurriculumPrerequisite\"}],\"name\":\"AME 301\",\"metrics\":{\"centrality\":6,\"complexity\":7.0,\"blocking factor\":1,\"delay factor\":6.0},\"nameSub\":\"Engineering Analysis\",\"id\":25,\"credits\":3,\"nameCanonical\":\"\"},{\"curriculum_requisites\":[{\"source_id\":18,\"target_id\":26,\"type\":\"CurriculumCorequisite\"},{\"source_id\":24,\"target_id\":26,\"type\":\"CurriculumCorequisite\"}],\"name\":\"AME 300\",\"metrics\":{\"centrality\":204,\"complexity\":19.0,\"blocking factor\":10,\"delay factor\":9.0},\"nameSub\":\"Instrumentation Lab.\",\"id\":26,\"credits\":3,\"nameCanonical\":\"\"},{\"curriculum_requisites\":[{\"source_id\":2,\"target_id\":27,\"type\":\"CurriculumPrerequisite\"}],\"name\":\"MSE 331R\",\"metrics\":{\"centrality\":3,\"complexity\":4.0,\"blocking factor\":1,\"delay factor\":3.0},\"nameSub\":\"Fund. of Materials for Engineers\",\"id\":27,\"credits\":3,\"nameCanonical\":\"\"},{\"curriculum_requisites\":[{\"source_id\":24,\"target_id\":28,\"type\":\"CurriculumCorequisite\"}],\"name\":\"AME 324L\",\"metrics\":{\"centrality\":0,\"complexity\":5.0,\"blocking factor\":0,\"delay factor\":5.0},\"nameSub\":\"Mech. of Materials Lab.\",\"id\":28,\"credits\":1,\"nameCanonical\":\"\"}],\"id\":5},{\"name\":\"Term 6\",\"curriculum_items\":[{\"curriculum_requisites\":[{\"source_id\":25,\"target_id\":29,\"type\":\"CurriculumPrerequisite\"}],\"name\":\"AME 324B\",\"metrics\":{\"centrality\":0,\"complexity\":6.0,\"blocking factor\":0,\"delay factor\":6.0},\"nameSub\":\"Eng. Component Design\",\"id\":29,\"credits\":3,\"nameCanonical\":\"\"},{\"curriculum_requisites\":[{\"source_id\":23,\"target_id\":30,\"type\":\"CurriculumCorequisite\"},{\"source_id\":19,\"target_id\":30,\"type\":\"CurriculumPrerequisite\"},{\"source_id\":21,\"target_id\":30,\"type\":\"CurriculumPrerequisite\"}],\"name\":\"AME 321\",\"metrics\":{\"centrality\":174,\"complexity\":12.0,\"blocking factor\":3,\"delay factor\":9.0},\"nameSub\":\"Aircraft Performance\",\"id\":30,\"credits\":3,\"nameCanonical\":\"\"},{\"curriculum_requisites\":[{\"source_id\":18,\"target_id\":31,\"type\":\"CurriculumPrerequisite\"},{\"source_id\":32,\"target_id\":31,\"type\":\"CurriculumCorequisite\"},{\"source_id\":21,\"target_id\":31,\"type\":\"CurriculumPrerequisite\"},{\"source_id\":20,\"target_id\":31,\"type\":\"CurriculumPrerequisite\"}],\"name\":\"AME 323\",\"metrics\":{\"centrality\":274,\"complexity\":13.0,\"blocking factor\":4,\"delay factor\":9.0},\"nameSub\":\"Gasdynamics\",\"id\":31,\"credits\":3,\"nameCanonical\":\"\"},{\"curriculum_requisites\":[{\"source_id\":26,\"target_id\":32,\"type\":\"CurriculumCorequisite\"},{\"source_id\":19,\"target_id\":32,\"type\":\"CurriculumPrerequisite\"},{\"source_id\":15,\"target_id\":32,\"type\":\"CurriculumPrerequisite\"},{\"source_id\":20,\"target_id\":32,\"type\":\"CurriculumPrerequisite\"}],\"name\":\"AME 302\",\"metrics\":{\"centrality\":232,\"complexity\":15.0,\"blocking factor\":6,\"delay factor\":9.0},\"nameSub\":\"Numerical Methods\",\"id\":32,\"credits\":3,\"nameCanonical\":\"\"},{\"curriculum_requisites\":[],\"name\":\"AME 313\",\"metrics\":{\"centrality\":0,\"complexity\":5.0,\"blocking factor\":2,\"delay factor\":3.0},\"nameSub\":\"Aero.\\/Mech. Eng. Lab\",\"id\":33,\"credits\":1,\"nameCanonical\":\"\"},{\"curriculum_requisites\":[],\"name\":\" \",\"metrics\":{\"centrality\":0,\"complexity\":1.0,\"blocking factor\":0,\"delay factor\":1.0},\"nameSub\":\"Tier II General Ed. 1\",\"id\":34,\"credits\":3,\"nameCanonical\":\"\"}],\"id\":6},{\"name\":\"Term 7\",\"curriculum_items\":[{\"curriculum_requisites\":[{\"source_id\":23,\"target_id\":35,\"type\":\"CurriculumPrerequisite\"},{\"source_id\":31,\"target_id\":35,\"type\":\"CurriculumPrerequisite\"},{\"source_id\":27,\"target_id\":35,\"type\":\"CurriculumPrerequisite\"}],\"name\":\"AME 401\",\"metrics\":{\"centrality\":0,\"complexity\":8.0,\"blocking factor\":0,\"delay factor\":8.0},\"nameSub\":\"Senior Aerospace Lab.\",\"id\":35,\"credits\":3,\"nameCanonical\":\"\"},{\"curriculum_requisites\":[{\"source_id\":23,\"target_id\":36,\"type\":\"CurriculumPrerequisite\"},{\"source_id\":31,\"target_id\":36,\"type\":\"CurriculumPrerequisite\"},{\"source_id\":33,\"target_id\":36,\"type\":\"CurriculumPrerequisite\"},{\"source_id\":30,\"target_id\":36,\"type\":\"CurriculumPrerequisite\"}],\"name\":\"AME 420\",\"metrics\":{\"centrality\":240,\"complexity\":10.0,\"blocking factor\":1,\"delay factor\":9.0},\"nameSub\":\"Aerospace Conceptual Design\",\"id\":36,\"credits\":3,\"nameCanonical\":\"\"},{\"curriculum_requisites\":[{\"source_id\":24,\"target_id\":37,\"type\":\"CurriculumPrerequisite\"},{\"source_id\":31,\"target_id\":37,\"type\":\"CurriculumPrerequisite\"},{\"source_id\":18,\"target_id\":37,\"type\":\"CurriculumPrerequisite\"}],\"name\":\"AME 425\",\"metrics\":{\"centrality\":0,\"complexity\":8.0,\"blocking factor\":0,\"delay factor\":8.0},\"nameSub\":\"Aerospace Propulsion\",\"id\":37,\"credits\":3,\"nameCanonical\":\"\"},{\"curriculum_requisites\":[{\"source_id\":23,\"target_id\":38,\"type\":\"CurriculumPrerequisite\"},{\"source_id\":15,\"target_id\":38,\"type\":\"CurriculumPrerequisite\"},{\"source_id\":30,\"target_id\":38,\"type\":\"CurriculumPrerequisite\"}],\"name\":\"AME 427\",\"metrics\":{\"centrality\":0,\"complexity\":8.0,\"blocking factor\":0,\"delay factor\":8.0},\"nameSub\":\"Stability and Control of Aero. Vehicles\",\"id\":38,\"credits\":3,\"nameCanonical\":\"\"},{\"curriculum_requisites\":[{\"source_id\":13,\"target_id\":39,\"type\":\"CurriculumPrerequisite\"},{\"source_id\":19,\"target_id\":39,\"type\":\"CurriculumPrerequisite\"}],\"name\":\"AME 457\",\"metrics\":{\"centrality\":0,\"complexity\":6.0,\"blocking factor\":0,\"delay factor\":6.0},\"nameSub\":\"Orbital Mechanicans and Space Flt.\",\"id\":39,\"credits\":3,\"nameCanonical\":\"\"},{\"curriculum_requisites\":[],\"name\":\"AME 495S\",\"metrics\":{\"centrality\":0,\"complexity\":1.0,\"blocking factor\":0,\"delay factor\":1.0},\"nameSub\":\"Senior Colloquium\",\"id\":40,\"credits\":1,\"nameCanonical\":\"\"}],\"id\":7},{\"name\":\"Term 8\",\"curriculum_items\":[{\"curriculum_requisites\":[{\"source_id\":36,\"target_id\":41,\"type\":\"CurriculumPrerequisite\"},{\"source_id\":33,\"target_id\":41,\"type\":\"CurriculumCorequisite\"}],\"name\":\"AME 422\",\"metrics\":{\"centrality\":0,\"complexity\":9.0,\"blocking factor\":0,\"delay factor\":9.0},\"nameSub\":\"Aerospace Eng.Design\",\"id\":41,\"credits\":3,\"nameCanonical\":\"\"},{\"curriculum_requisites\":[{\"source_id\":24,\"target_id\":42,\"type\":\"CurriculumPrerequisite\"},{\"source_id\":32,\"target_id\":42,\"type\":\"CurriculumPrerequisite\"},{\"source_id\":18,\"target_id\":42,\"type\":\"CurriculumPrerequisite\"}],\"name\":\"AME 431\",\"metrics\":{\"centrality\":0,\"complexity\":7.0,\"blocking factor\":0,\"delay factor\":7.0},\"nameSub\":\"Num. Meth. in Fluid Mech. & Heat Xfer\",\"id\":42,\"credits\":3,\"nameCanonical\":\"\"},{\"curriculum_requisites\":[],\"name\":\" \",\"metrics\":{\"centrality\":0,\"complexity\":1.0,\"blocking factor\":0,\"delay factor\":1.0},\"nameSub\":\"Technical Elective 1\",\"id\":43,\"credits\":3,\"nameCanonical\":\"\"},{\"curriculum_requisites\":[],\"name\":\" \",\"metrics\":{\"centrality\":0,\"complexity\":1.0,\"blocking factor\":0,\"delay factor\":1.0},\"nameSub\":\"Technical Elective 2\",\"id\":44,\"credits\":3,\"nameCanonical\":\"\"},{\"curriculum_requisites\":[],\"name\":\" \",\"metrics\":{\"centrality\":0,\"complexity\":1.0,\"blocking factor\":0,\"delay factor\":1.0},\"nameSub\":\"Tier II General Ed. 2\",\"id\":45,\"credits\":3,\"nameCanonical\":\"\"}],\"id\":8}],\"institution\":\"University of Arizona\"}}}}},\"children\":[{\"props\":{\"src\":\"http:\\/\\/localhost:8156\",\"id\":\"curriculum\",\"events\":{\"load\":\"(function (){this.contentWindow.postMessage({\\\"options\\\":{\\\"hideTerms\\\":false,\\\"edit\\\":false},\\\"curriculum\\\":{\\\"name\\\":\\\"Aerospace Engineering\\\",\\\"dp_name\\\":\\\"2019-20 Degree Plan\\\",\\\"curriculum_terms\\\":[{\\\"name\\\":\\\"Term 1\\\",\\\"curriculum_items\\\":[{\\\"curriculum_requisites\\\":[],\\\"name\\\":\\\"MATH 125\\\",\\\"metrics\\\":{\\\"centrality\\\":0,\\\"complexity\\\":38.0,\\\"blocking factor\\\":29,\\\"delay factor\\\":9.0},\\\"nameSub\\\":\\\"Calculus I w\\/ Applications\\\",\\\"id\\\":1,\\\"credits\\\":3,\\\"nameCanonical\\\":\\\"\\\"},{\\\"curriculum_requisites\\\":[],\\\"name\\\":\\\"CHEM 151\\\",\\\"metrics\\\":{\\\"centrality\\\":0,\\\"complexity\\\":5.0,\\\"blocking factor\\\":2,\\\"delay factor\\\":3.0},\\\"nameSub\\\":\\\"Gen Chemistry I\\\",\\\"id\\\":2,\\\"credits\\\":4,\\\"nameCanonical\\\":\\\"\\\"},{\\\"curriculum_requisites\\\":[],\\\"name\\\":\\\"ENGL 101\\\",\\\"metrics\\\":{\\\"centrality\\\":0,\\\"complexity\\\":3.0,\\\"blocking factor\\\":1,\\\"delay factor\\\":2.0},\\\"nameSub\\\":\\\"First-year Comp.\\\",\\\"id\\\":3,\\\"credits\\\":3,\\\"nameCanonical\\\":\\\"\\\"},{\\\"curriculum_requisites\\\":[{\\\"source_id\\\":1,\\\"target_id\\\":4,\\\"type\\\":\\\"CurriculumCorequisite\\\"}],\\\"name\\\":\\\"ENGR 102\\\",\\\"metrics\\\":{\\\"centrality\\\":0,\\\"complexity\\\":2.0,\\\"blocking factor\\\":0,\\\"delay factor\\\":2.0},\\\"nameSub\\\":\\\"Intro to Engineering\\\",\\\"id\\\":4,\\\"credits\\\":3,\\\"nameCanonical\\\":\\\"\\\"},{\\\"curriculum_requisites\\\":[],\\\"name\\\":\\\" \\\",\\\"metrics\\\":{\\\"centrality\\\":0,\\\"complexity\\\":1.0,\\\"blocking factor\\\":0,\\\"delay factor\\\":1.0},\\\"nameSub\\\":\\\"Tier I General Ed.\\\",\\\"id\\\":5,\\\"credits\\\":3,\\\"nameCanonical\\\":\\\"\\\"}],\\\"id\\\":1},{\\\"name\\\":\\\"Term 2\\\",\\\"curriculum_items\\\":[{\\\"curriculum_requisites\\\":[{\\\"source_id\\\":1,\\\"target_id\\\":6,\\\"type\\\":\\\"CurriculumPrerequisite\\\"}],\\\"name\\\":\\\"MATH 129\\\",\\\"metrics\\\":{\\\"centrality\\\":387,\\\"complexity\\\":31.0,\\\"blocking factor\\\":22,\\\"delay factor\\\":9.0},\\\"nameSub\\\":\\\"Calculus II\\\",\\\"id\\\":6,\\\"credits\\\":3,\\\"nameCanonical\\\":\\\"\\\"},{\\\"curriculum_requisites\\\":[{\\\"source_id\\\":1,\\\"target_id\\\":7,\\\"type\\\":\\\"CurriculumPrerequisite\\\"}],\\\"name\\\":\\\"AME 105\\\",\\\"metrics\\\":{\\\"centrality\\\":28,\\\"complexity\\\":16.0,\\\"blocking factor\\\":9,\\\"delay factor\\\":7.0},\\\"nameSub\\\":\\\"Intro. to MATLAB I\\\",\\\"id\\\":7,\\\"credits\\\":1,\\\"nameCanonical\\\":\\\"\\\"},{\\\"curriculum_requisites\\\":[{\\\"source_id\\\":1,\\\"target_id\\\":8,\\\"type\\\":\\\"CurriculumPrerequisite\\\"}],\\\"name\\\":\\\"PHYS 141\\\",\\\"metrics\\\":{\\\"centrality\\\":277,\\\"complexity\\\":28.0,\\\"blocking factor\\\":19,\\\"delay factor\\\":9.0},\\\"nameSub\\\":\\\"Intro Mechanics\\\",\\\"id\\\":8,\\\"credits\\\":4,\\\"nameCanonical\\\":\\\"\\\"},{\\\"curriculum_requisites\\\":[{\\\"source_id\\\":3,\\\"target_id\\\":9,\\\"type\\\":\\\"CurriculumPrerequisite\\\"}],\\\"name\\\":\\\"ENGL 102\\\",\\\"metrics\\\":{\\\"centrality\\\":0,\\\"complexity\\\":2.0,\\\"blocking factor\\\":0,\\\"delay factor\\\":2.0},\\\"nameSub\\\":\\\"First-year Comp.\\\",\\\"id\\\":9,\\\"credits\\\":3,\\\"nameCanonical\\\":\\\"\\\"},{\\\"curriculum_requisites\\\":[{\\\"source_id\\\":1,\\\"target_id\\\":10,\\\"type\\\":\\\"CurriculumCorequisite\\\"}],\\\"name\\\":\\\"ECE 175\\\",\\\"metrics\\\":{\\\"centrality\\\":0,\\\"complexity\\\":2.0,\\\"blocking factor\\\":0,\\\"delay factor\\\":2.0},\\\"nameSub\\\":\\\"Programming for Eng. Apps.\\\",\\\"id\\\":10,\\\"credits\\\":3,\\\"nameCanonical\\\":\\\"\\\"},{\\\"curriculum_requisites\\\":[],\\\"name\\\":\\\" \\\",\\\"metrics\\\":{\\\"centrality\\\":0,\\\"complexity\\\":1.0,\\\"blocking factor\\\":0,\\\"delay factor\\\":1.0},\\\"nameSub\\\":\\\"Tier I General Ed. 1\\\",\\\"id\\\":11,\\\"credits\\\":3,\\\"nameCanonical\\\":\\\"\\\"}],\\\"id\\\":2},{\\\"name\\\":\\\"Term 3\\\",\\\"curriculum_items\\\":[{\\\"curriculum_requisites\\\":[{\\\"source_id\\\":8,\\\"target_id\\\":12,\\\"type\\\":\\\"CurriculumPrerequisite\\\"},{\\\"source_id\\\":6,\\\"target_id\\\":12,\\\"type\\\":\\\"CurriculumPrerequisite\\\"}],\\\"name\\\":\\\"CE 214\\\",\\\"metrics\\\":{\\\"centrality\\\":264,\\\"complexity\\\":24.0,\\\"blocking factor\\\":15,\\\"delay factor\\\":9.0},\\\"nameSub\\\":\\\"Statics\\\",\\\"id\\\":12,\\\"credits\\\":3,\\\"nameCanonical\\\":\\\"\\\"},{\\\"curriculum_requisites\\\":[{\\\"source_id\\\":6,\\\"target_id\\\":13,\\\"type\\\":\\\"CurriculumPrerequisite\\\"}],\\\"name\\\":\\\"MATH  223\\\",\\\"metrics\\\":{\\\"centrality\\\":252,\\\"complexity\\\":25.0,\\\"blocking factor\\\":16,\\\"delay factor\\\":9.0},\\\"nameSub\\\":\\\"Vector Calculus\\\",\\\"id\\\":13,\\\"credits\\\":4,\\\"nameCanonical\\\":\\\"\\\"},{\\\"curriculum_requisites\\\":[{\\\"source_id\\\":8,\\\"target_id\\\":14,\\\"type\\\":\\\"CurriculumPrerequisite\\\"},{\\\"source_id\\\":6,\\\"target_id\\\":14,\\\"type\\\":\\\"CurriculumPrerequisite\\\"}],\\\"name\\\":\\\"PHYS 241\\\",\\\"metrics\\\":{\\\"centrality\\\":0,\\\"complexity\\\":3.0,\\\"blocking factor\\\":0,\\\"delay factor\\\":3.0},\\\"nameSub\\\":\\\"Electricity & Magnetism\\\",\\\"id\\\":14,\\\"credits\\\":4,\\\"nameCanonical\\\":\\\"\\\"},{\\\"curriculum_requisites\\\":[{\\\"source_id\\\":7,\\\"target_id\\\":15,\\\"type\\\":\\\"CurriculumPrerequisite\\\"}],\\\"name\\\":\\\"AME  205\\\",\\\"metrics\\\":{\\\"centrality\\\":28,\\\"complexity\\\":15.0,\\\"blocking factor\\\":8,\\\"delay factor\\\":7.0},\\\"nameSub\\\":\\\"Intro. To MATLAB II\\\",\\\"id\\\":15,\\\"credits\\\":1,\\\"nameCanonical\\\":\\\"\\\"},{\\\"curriculum_requisites\\\":[],\\\"name\\\":\\\"AME 211\\\",\\\"metrics\\\":{\\\"centrality\\\":0,\\\"complexity\\\":1.0,\\\"blocking factor\\\":0,\\\"delay factor\\\":1.0},\\\"nameSub\\\":\\\"Comp. Aided Drafting & Manufacturing\\\",\\\"id\\\":16,\\\"credits\\\":3,\\\"nameCanonical\\\":\\\"\\\"},{\\\"curriculum_requisites\\\":[],\\\"name\\\":\\\" \\\",\\\"metrics\\\":{\\\"centrality\\\":0,\\\"complexity\\\":1.0,\\\"blocking factor\\\":0,\\\"delay factor\\\":1.0},\\\"nameSub\\\":\\\"Tier I General Ed. 2\\\",\\\"id\\\":17,\\\"credits\\\":3,\\\"nameCanonical\\\":\\\"\\\"}],\\\"id\\\":3},{\\\"name\\\":\\\"Term 4\\\",\\\"curriculum_items\\\":[{\\\"curriculum_requisites\\\":[{\\\"source_id\\\":8,\\\"target_id\\\":18,\\\"type\\\":\\\"CurriculumPrerequisite\\\"}],\\\"name\\\":\\\"AME 230\\\",\\\"metrics\\\":{\\\"centrality\\\":86,\\\"complexity\\\":19.0,\\\"blocking factor\\\":11,\\\"delay factor\\\":8.0},\\\"nameSub\\\":\\\"Thermodynamics\\\",\\\"id\\\":18,\\\"credits\\\":3,\\\"nameCanonical\\\":\\\"\\\"},{\\\"curriculum_requisites\\\":[{\\\"source_id\\\":12,\\\"target_id\\\":19,\\\"type\\\":\\\"CurriculumPrerequisite\\\"},{\\\"source_id\\\":20,\\\"target_id\\\":19,\\\"type\\\":\\\"CurriculumCorequisite\\\"}],\\\"name\\\":\\\"AME 250\\\",\\\"metrics\\\":{\\\"centrality\\\":145,\\\"complexity\\\":19.0,\\\"blocking factor\\\":10,\\\"delay factor\\\":9.0},\\\"nameSub\\\":\\\"Dynamics\\\",\\\"id\\\":19,\\\"credits\\\":3,\\\"nameCanonical\\\":\\\"\\\"},{\\\"curriculum_requisites\\\":[{\\\"source_id\\\":13,\\\"target_id\\\":20,\\\"type\\\":\\\"CurriculumPrerequisite\\\"}],\\\"name\\\":\\\"MATH 254\\\",\\\"metrics\\\":{\\\"centrality\\\":182,\\\"complexity\\\":24.0,\\\"blocking factor\\\":15,\\\"delay factor\\\":9.0},\\\"nameSub\\\":\\\"Intro. to ODEs\\\",\\\"id\\\":20,\\\"credits\\\":3,\\\"nameCanonical\\\":\\\"\\\"},{\\\"curriculum_requisites\\\":[{\\\"source_id\\\":13,\\\"target_id\\\":21,\\\"type\\\":\\\"CurriculumPrerequisite\\\"},{\\\"source_id\\\":8,\\\"target_id\\\":21,\\\"type\\\":\\\"CurriculumPrerequisite\\\"},{\\\"source_id\\\":20,\\\"target_id\\\":21,\\\"type\\\":\\\"CurriculumCorequisite\\\"}],\\\"name\\\":\\\"AME 220\\\",\\\"metrics\\\":{\\\"centrality\\\":198,\\\"complexity\\\":17.0,\\\"blocking factor\\\":8,\\\"delay factor\\\":9.0},\\\"nameSub\\\":\\\"Intro. to Aerospace Eng.\\\",\\\"id\\\":21,\\\"credits\\\":3,\\\"nameCanonical\\\":\\\"\\\"},{\\\"curriculum_requisites\\\":[],\\\"name\\\":\\\" \\\",\\\"metrics\\\":{\\\"centrality\\\":0,\\\"complexity\\\":1.0,\\\"blocking factor\\\":0,\\\"delay factor\\\":1.0},\\\"nameSub\\\":\\\"Tier I General Ed. 3\\\",\\\"id\\\":22,\\\"credits\\\":3,\\\"nameCanonical\\\":\\\"\\\"}],\\\"id\\\":4},{\\\"name\\\":\\\"Term 5\\\",\\\"curriculum_items\\\":[{\\\"curriculum_requisites\\\":[{\\\"source_id\\\":26,\\\"target_id\\\":23,\\\"type\\\":\\\"CurriculumCorequisite\\\"},{\\\"source_id\\\":21,\\\"target_id\\\":23,\\\"type\\\":\\\"CurriculumPrerequisite\\\"}],\\\"name\\\":\\\"AME 320\\\",\\\"metrics\\\":{\\\"centrality\\\":214,\\\"complexity\\\":14.0,\\\"blocking factor\\\":5,\\\"delay factor\\\":9.0},\\\"nameSub\\\":\\\"Aerodynamics\\\",\\\"id\\\":23,\\\"credits\\\":3,\\\"nameCanonical\\\":\\\"\\\"},{\\\"curriculum_requisites\\\":[{\\\"source_id\\\":12,\\\"target_id\\\":24,\\\"type\\\":\\\"CurriculumPrerequisite\\\"}],\\\"name\\\":\\\"AME  324A\\\",\\\"metrics\\\":{\\\"centrality\\\":172,\\\"complexity\\\":21.0,\\\"blocking factor\\\":12,\\\"delay factor\\\":9.0},\\\"nameSub\\\":\\\"Mech. Behavior of Eng. Materials.\\\",\\\"id\\\":24,\\\"credits\\\":3,\\\"nameCanonical\\\":\\\"\\\"},{\\\"curriculum_requisites\\\":[{\\\"source_id\\\":20,\\\"target_id\\\":25,\\\"type\\\":\\\"CurriculumPrerequisite\\\"}],\\\"name\\\":\\\"AME 301\\\",\\\"metrics\\\":{\\\"centrality\\\":6,\\\"complexity\\\":7.0,\\\"blocking factor\\\":1,\\\"delay factor\\\":6.0},\\\"nameSub\\\":\\\"Engineering Analysis\\\",\\\"id\\\":25,\\\"credits\\\":3,\\\"nameCanonical\\\":\\\"\\\"},{\\\"curriculum_requisites\\\":[{\\\"source_id\\\":18,\\\"target_id\\\":26,\\\"type\\\":\\\"CurriculumCorequisite\\\"},{\\\"source_id\\\":24,\\\"target_id\\\":26,\\\"type\\\":\\\"CurriculumCorequisite\\\"}],\\\"name\\\":\\\"AME 300\\\",\\\"metrics\\\":{\\\"centrality\\\":204,\\\"complexity\\\":19.0,\\\"blocking factor\\\":10,\\\"delay factor\\\":9.0},\\\"nameSub\\\":\\\"Instrumentation Lab.\\\",\\\"id\\\":26,\\\"credits\\\":3,\\\"nameCanonical\\\":\\\"\\\"},{\\\"curriculum_requisites\\\":[{\\\"source_id\\\":2,\\\"target_id\\\":27,\\\"type\\\":\\\"CurriculumPrerequisite\\\"}],\\\"name\\\":\\\"MSE 331R\\\",\\\"metrics\\\":{\\\"centrality\\\":3,\\\"complexity\\\":4.0,\\\"blocking factor\\\":1,\\\"delay factor\\\":3.0},\\\"nameSub\\\":\\\"Fund. of Materials for Engineers\\\",\\\"id\\\":27,\\\"credits\\\":3,\\\"nameCanonical\\\":\\\"\\\"},{\\\"curriculum_requisites\\\":[{\\\"source_id\\\":24,\\\"target_id\\\":28,\\\"type\\\":\\\"CurriculumCorequisite\\\"}],\\\"name\\\":\\\"AME 324L\\\",\\\"metrics\\\":{\\\"centrality\\\":0,\\\"complexity\\\":5.0,\\\"blocking factor\\\":0,\\\"delay factor\\\":5.0},\\\"nameSub\\\":\\\"Mech. of Materials Lab.\\\",\\\"id\\\":28,\\\"credits\\\":1,\\\"nameCanonical\\\":\\\"\\\"}],\\\"id\\\":5},{\\\"name\\\":\\\"Term 6\\\",\\\"curriculum_items\\\":[{\\\"curriculum_requisites\\\":[{\\\"source_id\\\":25,\\\"target_id\\\":29,\\\"type\\\":\\\"CurriculumPrerequisite\\\"}],\\\"name\\\":\\\"AME 324B\\\",\\\"metrics\\\":{\\\"centrality\\\":0,\\\"complexity\\\":6.0,\\\"blocking factor\\\":0,\\\"delay factor\\\":6.0},\\\"nameSub\\\":\\\"Eng. Component Design\\\",\\\"id\\\":29,\\\"credits\\\":3,\\\"nameCanonical\\\":\\\"\\\"},{\\\"curriculum_requisites\\\":[{\\\"source_id\\\":23,\\\"target_id\\\":30,\\\"type\\\":\\\"CurriculumCorequisite\\\"},{\\\"source_id\\\":19,\\\"target_id\\\":30,\\\"type\\\":\\\"CurriculumPrerequisite\\\"},{\\\"source_id\\\":21,\\\"target_id\\\":30,\\\"type\\\":\\\"CurriculumPrerequisite\\\"}],\\\"name\\\":\\\"AME 321\\\",\\\"metrics\\\":{\\\"centrality\\\":174,\\\"complexity\\\":12.0,\\\"blocking factor\\\":3,\\\"delay factor\\\":9.0},\\\"nameSub\\\":\\\"Aircraft Performance\\\",\\\"id\\\":30,\\\"credits\\\":3,\\\"nameCanonical\\\":\\\"\\\"},{\\\"curriculum_requisites\\\":[{\\\"source_id\\\":18,\\\"target_id\\\":31,\\\"type\\\":\\\"CurriculumPrerequisite\\\"},{\\\"source_id\\\":32,\\\"target_id\\\":31,\\\"type\\\":\\\"CurriculumCorequisite\\\"},{\\\"source_id\\\":21,\\\"target_id\\\":31,\\\"type\\\":\\\"CurriculumPrerequisite\\\"},{\\\"source_id\\\":20,\\\"target_id\\\":31,\\\"type\\\":\\\"CurriculumPrerequisite\\\"}],\\\"name\\\":\\\"AME 323\\\",\\\"metrics\\\":{\\\"centrality\\\":274,\\\"complexity\\\":13.0,\\\"blocking factor\\\":4,\\\"delay factor\\\":9.0},\\\"nameSub\\\":\\\"Gasdynamics\\\",\\\"id\\\":31,\\\"credits\\\":3,\\\"nameCanonical\\\":\\\"\\\"},{\\\"curriculum_requisites\\\":[{\\\"source_id\\\":26,\\\"target_id\\\":32,\\\"type\\\":\\\"CurriculumCorequisite\\\"},{\\\"source_id\\\":19,\\\"target_id\\\":32,\\\"type\\\":\\\"CurriculumPrerequisite\\\"},{\\\"source_id\\\":15,\\\"target_id\\\":32,\\\"type\\\":\\\"CurriculumPrerequisite\\\"},{\\\"source_id\\\":20,\\\"target_id\\\":32,\\\"type\\\":\\\"CurriculumPrerequisite\\\"}],\\\"name\\\":\\\"AME 302\\\",\\\"metrics\\\":{\\\"centrality\\\":232,\\\"complexity\\\":15.0,\\\"blocking factor\\\":6,\\\"delay factor\\\":9.0},\\\"nameSub\\\":\\\"Numerical Methods\\\",\\\"id\\\":32,\\\"credits\\\":3,\\\"nameCanonical\\\":\\\"\\\"},{\\\"curriculum_requisites\\\":[],\\\"name\\\":\\\"AME 313\\\",\\\"metrics\\\":{\\\"centrality\\\":0,\\\"complexity\\\":5.0,\\\"blocking factor\\\":2,\\\"delay factor\\\":3.0},\\\"nameSub\\\":\\\"Aero.\\/Mech. Eng. Lab\\\",\\\"id\\\":33,\\\"credits\\\":1,\\\"nameCanonical\\\":\\\"\\\"},{\\\"curriculum_requisites\\\":[],\\\"name\\\":\\\" \\\",\\\"metrics\\\":{\\\"centrality\\\":0,\\\"complexity\\\":1.0,\\\"blocking factor\\\":0,\\\"delay factor\\\":1.0},\\\"nameSub\\\":\\\"Tier II General Ed. 1\\\",\\\"id\\\":34,\\\"credits\\\":3,\\\"nameCanonical\\\":\\\"\\\"}],\\\"id\\\":6},{\\\"name\\\":\\\"Term 7\\\",\\\"curriculum_items\\\":[{\\\"curriculum_requisites\\\":[{\\\"source_id\\\":23,\\\"target_id\\\":35,\\\"type\\\":\\\"CurriculumPrerequisite\\\"},{\\\"source_id\\\":31,\\\"target_id\\\":35,\\\"type\\\":\\\"CurriculumPrerequisite\\\"},{\\\"source_id\\\":27,\\\"target_id\\\":35,\\\"type\\\":\\\"CurriculumPrerequisite\\\"}],\\\"name\\\":\\\"AME 401\\\",\\\"metrics\\\":{\\\"centrality\\\":0,\\\"complexity\\\":8.0,\\\"blocking factor\\\":0,\\\"delay factor\\\":8.0},\\\"nameSub\\\":\\\"Senior Aerospace Lab.\\\",\\\"id\\\":35,\\\"credits\\\":3,\\\"nameCanonical\\\":\\\"\\\"},{\\\"curriculum_requisites\\\":[{\\\"source_id\\\":23,\\\"target_id\\\":36,\\\"type\\\":\\\"CurriculumPrerequisite\\\"},{\\\"source_id\\\":31,\\\"target_id\\\":36,\\\"type\\\":\\\"CurriculumPrerequisite\\\"},{\\\"source_id\\\":33,\\\"target_id\\\":36,\\\"type\\\":\\\"CurriculumPrerequisite\\\"},{\\\"source_id\\\":30,\\\"target_id\\\":36,\\\"type\\\":\\\"CurriculumPrerequisite\\\"}],\\\"name\\\":\\\"AME 420\\\",\\\"metrics\\\":{\\\"centrality\\\":240,\\\"complexity\\\":10.0,\\\"blocking factor\\\":1,\\\"delay factor\\\":9.0},\\\"nameSub\\\":\\\"Aerospace Conceptual Design\\\",\\\"id\\\":36,\\\"credits\\\":3,\\\"nameCanonical\\\":\\\"\\\"},{\\\"curriculum_requisites\\\":[{\\\"source_id\\\":24,\\\"target_id\\\":37,\\\"type\\\":\\\"CurriculumPrerequisite\\\"},{\\\"source_id\\\":31,\\\"target_id\\\":37,\\\"type\\\":\\\"CurriculumPrerequisite\\\"},{\\\"source_id\\\":18,\\\"target_id\\\":37,\\\"type\\\":\\\"CurriculumPrerequisite\\\"}],\\\"name\\\":\\\"AME 425\\\",\\\"metrics\\\":{\\\"centrality\\\":0,\\\"complexity\\\":8.0,\\\"blocking factor\\\":0,\\\"delay factor\\\":8.0},\\\"nameSub\\\":\\\"Aerospace Propulsion\\\",\\\"id\\\":37,\\\"credits\\\":3,\\\"nameCanonical\\\":\\\"\\\"},{\\\"curriculum_requisites\\\":[{\\\"source_id\\\":23,\\\"target_id\\\":38,\\\"type\\\":\\\"CurriculumPrerequisite\\\"},{\\\"source_id\\\":15,\\\"target_id\\\":38,\\\"type\\\":\\\"CurriculumPrerequisite\\\"},{\\\"source_id\\\":30,\\\"target_id\\\":38,\\\"type\\\":\\\"CurriculumPrerequisite\\\"}],\\\"name\\\":\\\"AME 427\\\",\\\"metrics\\\":{\\\"centrality\\\":0,\\\"complexity\\\":8.0,\\\"blocking factor\\\":0,\\\"delay factor\\\":8.0},\\\"nameSub\\\":\\\"Stability and Control of Aero. Vehicles\\\",\\\"id\\\":38,\\\"credits\\\":3,\\\"nameCanonical\\\":\\\"\\\"},{\\\"curriculum_requisites\\\":[{\\\"source_id\\\":13,\\\"target_id\\\":39,\\\"type\\\":\\\"CurriculumPrerequisite\\\"},{\\\"source_id\\\":19,\\\"target_id\\\":39,\\\"type\\\":\\\"CurriculumPrerequisite\\\"}],\\\"name\\\":\\\"AME 457\\\",\\\"metrics\\\":{\\\"centrality\\\":0,\\\"complexity\\\":6.0,\\\"blocking factor\\\":0,\\\"delay factor\\\":6.0},\\\"nameSub\\\":\\\"Orbital Mechanicans and Space Flt.\\\",\\\"id\\\":39,\\\"credits\\\":3,\\\"nameCanonical\\\":\\\"\\\"},{\\\"curriculum_requisites\\\":[],\\\"name\\\":\\\"AME 495S\\\",\\\"metrics\\\":{\\\"centrality\\\":0,\\\"complexity\\\":1.0,\\\"blocking factor\\\":0,\\\"delay factor\\\":1.0},\\\"nameSub\\\":\\\"Senior Colloquium\\\",\\\"id\\\":40,\\\"credits\\\":1,\\\"nameCanonical\\\":\\\"\\\"}],\\\"id\\\":7},{\\\"name\\\":\\\"Term 8\\\",\\\"curriculum_items\\\":[{\\\"curriculum_requisites\\\":[{\\\"source_id\\\":36,\\\"target_id\\\":41,\\\"type\\\":\\\"CurriculumPrerequisite\\\"},{\\\"source_id\\\":33,\\\"target_id\\\":41,\\\"type\\\":\\\"CurriculumCorequisite\\\"}],\\\"name\\\":\\\"AME 422\\\",\\\"metrics\\\":{\\\"centrality\\\":0,\\\"complexity\\\":9.0,\\\"blocking factor\\\":0,\\\"delay factor\\\":9.0},\\\"nameSub\\\":\\\"Aerospace Eng.Design\\\",\\\"id\\\":41,\\\"credits\\\":3,\\\"nameCanonical\\\":\\\"\\\"},{\\\"curriculum_requisites\\\":[{\\\"source_id\\\":24,\\\"target_id\\\":42,\\\"type\\\":\\\"CurriculumPrerequisite\\\"},{\\\"source_id\\\":32,\\\"target_id\\\":42,\\\"type\\\":\\\"CurriculumPrerequisite\\\"},{\\\"source_id\\\":18,\\\"target_id\\\":42,\\\"type\\\":\\\"CurriculumPrerequisite\\\"}],\\\"name\\\":\\\"AME 431\\\",\\\"metrics\\\":{\\\"centrality\\\":0,\\\"complexity\\\":7.0,\\\"blocking factor\\\":0,\\\"delay factor\\\":7.0},\\\"nameSub\\\":\\\"Num. Meth. in Fluid Mech. & Heat Xfer\\\",\\\"id\\\":42,\\\"credits\\\":3,\\\"nameCanonical\\\":\\\"\\\"},{\\\"curriculum_requisites\\\":[],\\\"name\\\":\\\" \\\",\\\"metrics\\\":{\\\"centrality\\\":0,\\\"complexity\\\":1.0,\\\"blocking factor\\\":0,\\\"delay factor\\\":1.0},\\\"nameSub\\\":\\\"Technical Elective 1\\\",\\\"id\\\":43,\\\"credits\\\":3,\\\"nameCanonical\\\":\\\"\\\"},{\\\"curriculum_requisites\\\":[],\\\"name\\\":\\\" \\\",\\\"metrics\\\":{\\\"centrality\\\":0,\\\"complexity\\\":1.0,\\\"blocking factor\\\":0,\\\"delay factor\\\":1.0},\\\"nameSub\\\":\\\"Technical Elective 2\\\",\\\"id\\\":44,\\\"credits\\\":3,\\\"nameCanonical\\\":\\\"\\\"},{\\\"curriculum_requisites\\\":[],\\\"name\\\":\\\" \\\",\\\"metrics\\\":{\\\"centrality\\\":0,\\\"complexity\\\":1.0,\\\"blocking factor\\\":0,\\\"delay factor\\\":1.0},\\\"nameSub\\\":\\\"Tier II General Ed. 2\\\",\\\"id\\\":45,\\\"credits\\\":3,\\\"nameCanonical\\\":\\\"\\\"}],\\\"id\\\":8}],\\\"institution\\\":\\\"University of Arizona\\\"}},\\\"*\\\"); window.removeEventListener(\\\"message\\\",window.messageReceived); window.messageReceived=(function (event){return (event.data.curriculum!==undefined) ? (WebIO.setval({\\\"name\\\":\\\"curriculum-data\\\",\\\"scope\\\":\\\"12107817949812142622\\\",\\\"id\\\":\\\"4082920182656578843\\\",\\\"type\\\":\\\"observable\\\"},event.data.curriculum)) : undefined}); return window.addEventListener(\\\"message\\\",window.messageReceived)})\"},\"style\":{\"padding\":\"0\",\"height\":\"100vh\",\"margin\":\"0\",\"border\":\"none\",\"width\":\"100%\"}},\"nodeType\":\"DOM\",\"type\":\"node\",\"instanceArgs\":{\"namespace\":\"html\",\"tag\":\"iframe\"},\"children\":[\"\"]}]},\n",
       "            window,\n",
       "        );\n",
       "    } else {\n",
       "        document\n",
       "            .querySelector('[data-webio-mountpoint=\"2875063019476812381\"]')\n",
       "            .innerHTML = (\n",
       "                '<div style=\"padding: 1em; background-color: #f8d6da; border: 1px solid #f5c6cb\">' +\n",
       "                '<p><strong>WebIO not detected.</strong></p>' +\n",
       "                '<p>Please read ' +\n",
       "                '<a href=\"https://juliagizmos.github.io/WebIO.jl/latest/troubleshooting/not-detected/\" target=\"_blank\">the troubleshooting guide</a> ' +\n",
       "                'for more information on how to resolve this issue.</p>' +\n",
       "                '<p><a href=\"https://juliagizmos.github.io/WebIO.jl/latest/troubleshooting/not-detected/\" target=\"_blank\">https://juliagizmos.github.io/WebIO.jl/latest/troubleshooting/not-detected/</a></p>' +\n",
       "                '</div>'\n",
       "            );\n",
       "    }\n",
       "    </script>\n",
       "</div>\n"
      ],
      "text/plain": [
       "WebIO.Scope(WebIO.Node{WebIO.DOM}(WebIO.DOM(:html, :iframe), Any[\"\"], Dict{Symbol,Any}(:src => \"http://localhost:8156\",:id => \"curriculum\",:events => Dict{Symbol,WebIO.JSString}(:load => WebIO.JSString(\"(function (){this.contentWindow.postMessage({\\\"options\\\":{\\\"hideTerms\\\":false,\\\"edit\\\":false},\\\"curriculum\\\":{\\\"name\\\":\\\"Aerospace Engineering\\\",\\\"dp_name\\\":\\\"2019-20 Degree Plan\\\",\\\"curriculum_terms\\\":[{\\\"name\\\":\\\"Term 1\\\",\\\"curriculum_items\\\":[{\\\"curriculum_requisites\\\":[],\\\"name\\\":\\\"MATH 125\\\",\\\"metrics\\\":{\\\"centrality\\\":0,\\\"complexity\\\":38.0,\\\"blocking factor\\\":29,\\\"delay factor\\\":9.0},\\\"nameSub\\\":\\\"Calculus I w/ Applications\\\",\\\"id\\\":1,\\\"credits\\\":3,\\\"nameCanonical\\\":\\\"\\\"},{\\\"curriculum_requisites\\\":[],\\\"name\\\":\\\"CHEM 151\\\",\\\"metrics\\\":{\\\"centrality\\\":0,\\\"complexity\\\":5.0,\\\"blocking factor\\\":2,\\\"delay factor\\\":3.0},\\\"nameSub\\\":\\\"Gen Chemistry I\\\",\\\"id\\\":2,\\\"credits\\\":4,\\\"nameCanonical\\\":\\\"\\\"},{\\\"curriculum_requisites\\\":[],\\\"name\\\":\\\"ENGL 101\\\",\\\"metrics\\\":{\\\"centrality\\\":0,\\\"complexity\\\":3.0,\\\"blocking factor\\\":1,\\\"delay factor\\\":2.0},\\\"nameSub\\\":\\\"First-year Comp.\\\",\\\"id\\\":3,\\\"credits\\\":3,\\\"nameCanonical\\\":\\\"\\\"},{\\\"curriculum_requisites\\\":[{\\\"source_id\\\":1,\\\"target_id\\\":4,\\\"type\\\":\\\"CurriculumCorequisite\\\"}],\\\"name\\\":\\\"ENGR 102\\\",\\\"metrics\\\":{\\\"centrality\\\":0,\\\"complexity\\\":2.0,\\\"blocking factor\\\":0,\\\"delay factor\\\":2.0},\\\"nameSub\\\":\\\"Intro to Engineering\\\",\\\"id\\\":4,\\\"credits\\\":3,\\\"nameCanonical\\\":\\\"\\\"},{\\\"curriculum_requisites\\\":[],\\\"name\\\":\\\" \\\",\\\"metrics\\\":{\\\"centrality\\\":0,\\\"complexity\\\":1.0,\\\"blocking factor\\\":0,\\\"delay factor\\\":1.0},\\\"nameSub\\\":\\\"Tier I General Ed.\\\",\\\"id\\\":5,\\\"credits\\\":3,\\\"nameCanonical\\\":\\\"\\\"}],\\\"id\\\":1},{\\\"name\\\":\\\"Term 2\\\",\\\"curriculum_items\\\":[{\\\"curriculum_requisites\\\":[{\\\"source_id\\\":1,\\\"target_id\\\":6,\\\"type\\\":\\\"CurriculumPrerequisite\\\"}],\\\"name\\\":\\\"MATH 129\\\",\\\"metrics\\\":{\\\"centrality\\\":387,\\\"complexity\\\":31.0,\\\"blocking factor\\\":22,\\\"delay factor\\\":9.0},\\\"nameSub\\\":\\\"Calculus II\\\",\\\"id\\\":6,\\\"credits\\\":3,\\\"nameCanonical\\\":\\\"\\\"},{\\\"curriculum_requisites\\\":[{\\\"source_id\\\":1,\\\"target_id\\\":7,\\\"type\\\":\\\"CurriculumPrerequisite\\\"}],\\\"name\\\":\\\"AME 105\\\",\\\"metrics\\\":{\\\"centrality\\\":28,\\\"complexity\\\":16.0,\\\"blocking factor\\\":9,\\\"delay factor\\\":7.0},\\\"nameSub\\\":\\\"Intro. to MATLAB I\\\",\\\"id\\\":7,\\\"credits\\\":1,\\\"nameCanonical\\\":\\\"\\\"},{\\\"curriculum_requisites\\\":[{\\\"source_id\\\":1,\\\"target_id\\\":8,\\\"type\\\":\\\"CurriculumPrerequisite\\\"}],\\\"name\\\":\\\"PHYS 141\\\",\\\"metrics\\\":{\\\"centrality\\\":277,\\\"complexity\\\":28.0,\\\"blocking factor\\\":19,\\\"delay factor\\\":9.0},\\\"nameSub\\\":\\\"Intro Mechanics\\\",\\\"id\\\":8,\\\"credits\\\":4,\\\"nameCanonical\\\":\\\"\\\"},{\\\"curriculum_requisites\\\":[{\\\"source_id\\\":3,\\\"target_id\\\":9,\\\"type\\\":\\\"CurriculumPrerequisite\\\"}],\\\"name\\\":\\\"ENGL 102\\\",\\\"metrics\\\":{\\\"centrality\\\":0,\\\"complexity\\\":2.0,\\\"blocking factor\\\":0,\\\"delay factor\\\":2.0},\\\"nameSub\\\":\\\"First-year Comp.\\\",\\\"id\\\":9,\\\"credits\\\":3,\\\"nameCanonical\\\":\\\"\\\"},{\\\"curriculum_requisites\\\":[{\\\"source_id\\\":1,\\\"target_id\\\":10,\\\"type\\\":\\\"CurriculumCorequisite\\\"}],\\\"name\\\":\\\"ECE 175\\\",\\\"metrics\\\":{\\\"centrality\\\":0,\\\"complexity\\\":2.0,\\\"blocking factor\\\":0,\\\"delay factor\\\":2.0},\\\"nameSub\\\":\\\"Programming for Eng. Apps.\\\",\\\"id\\\":10,\\\"credits\\\":3,\\\"nameCanonical\\\":\\\"\\\"},{\\\"curriculum_requisites\\\":[],\\\"name\\\":\\\" \\\",\\\"metrics\\\":{\\\"centrality\\\":0,\\\"complexity\\\":1.0,\\\"blocking factor\\\":0,\\\"delay factor\\\":1.0},\\\"nameSub\\\":\\\"Tier I General Ed. 1\\\",\\\"id\\\":11,\\\"credits\\\":3,\\\"nameCanonical\\\":\\\"\\\"}],\\\"id\\\":2},{\\\"name\\\":\\\"Term 3\\\",\\\"curriculum_items\\\":[{\\\"curriculum_requisites\\\":[{\\\"source_id\\\":8,\\\"target_id\\\":12,\\\"type\\\":\\\"CurriculumPrerequisite\\\"},{\\\"source_id\\\":6,\\\"target_id\\\":12,\\\"type\\\":\\\"CurriculumPrerequisite\\\"}],\\\"name\\\":\\\"CE 214\\\",\\\"metrics\\\":{\\\"centrality\\\":264,\\\"complexity\\\":24.0,\\\"blocking factor\\\":15,\\\"delay factor\\\":9.0},\\\"nameSub\\\":\\\"Statics\\\",\\\"id\\\":12,\\\"credits\\\":3,\\\"nameCanonical\\\":\\\"\\\"},{\\\"curriculum_requisites\\\":[{\\\"source_id\\\":6,\\\"target_id\\\":13,\\\"type\\\":\\\"CurriculumPrerequisite\\\"}],\\\"name\\\":\\\"MATH  223\\\",\\\"metrics\\\":{\\\"centrality\\\":252,\\\"complexity\\\":25.0,\\\"blocking factor\\\":16,\\\"delay factor\\\":9.0},\\\"nameSub\\\":\\\"Vector Calculus\\\",\\\"id\\\":13,\\\"credits\\\":4,\\\"nameCanonical\\\":\\\"\\\"},{\\\"curriculum_requisites\\\":[{\\\"source_id\\\":8,\\\"target_id\\\":14,\\\"type\\\":\\\"CurriculumPrerequisite\\\"},{\\\"source_id\\\":6,\\\"target_id\\\":14,\\\"type\\\":\\\"CurriculumPrerequisite\\\"}],\\\"name\\\":\\\"PHYS 241\\\",\\\"metrics\\\":{\\\"centrality\\\":0,\\\"complexity\\\":3.0,\\\"blocking factor\\\":0,\\\"delay factor\\\":3.0},\\\"nameSub\\\":\\\"Electricity & Magnetism\\\",\\\"id\\\":14,\\\"credits\\\":4,\\\"nameCanonical\\\":\\\"\\\"},{\\\"curriculum_requisites\\\":[{\\\"source_id\\\":7,\\\"target_id\\\":15,\\\"type\\\":\\\"CurriculumPrerequisite\\\"}],\\\"name\\\":\\\"AME  205\\\",\\\"metrics\\\":{\\\"centrality\\\":28,\\\"complexity\\\":15.0,\\\"blocking factor\\\":8,\\\"delay factor\\\":7.0},\\\"nameSub\\\":\\\"Intro. To MATLAB II\\\",\\\"id\\\":15,\\\"credits\\\":1,\\\"nameCanonical\\\":\\\"\\\"},{\\\"curriculum_requisites\\\":[],\\\"name\\\":\\\"AME 211\\\",\\\"metrics\\\":{\\\"centrality\\\":0,\\\"complexity\\\":1.0,\\\"blocking factor\\\":0,\\\"delay factor\\\":1.0},\\\"nameSub\\\":\\\"Comp. Aided Drafting & Manufacturing\\\",\\\"id\\\":16,\\\"credits\\\":3,\\\"nameCanonical\\\":\\\"\\\"},{\\\"curriculum_requisites\\\":[],\\\"name\\\":\\\" \\\",\\\"metrics\\\":{\\\"centrality\\\":0,\\\"complexity\\\":1.0,\\\"blocking factor\\\":0,\\\"delay factor\\\":1.0},\\\"nameSub\\\":\\\"Tier I General Ed. 2\\\",\\\"id\\\":17,\\\"credits\\\":3,\\\"nameCanonical\\\":\\\"\\\"}],\\\"id\\\":3},{\\\"name\\\":\\\"Term 4\\\",\\\"curriculum_items\\\":[{\\\"curriculum_requisites\\\":[{\\\"source_id\\\":8,\\\"target_id\\\":18,\\\"type\\\":\\\"CurriculumPrerequisite\\\"}],\\\"name\\\":\\\"AME 230\\\",\\\"metrics\\\":{\\\"centrality\\\":86,\\\"complexity\\\":19.0,\\\"blocking factor\\\":11,\\\"delay factor\\\":8.0},\\\"nameSub\\\":\\\"Thermodynamics\\\",\\\"id\\\":18,\\\"credits\\\":3,\\\"nameCanonical\\\":\\\"\\\"},{\\\"curriculum_requisites\\\":[{\\\"source_id\\\":12,\\\"target_id\\\":19,\\\"type\\\":\\\"CurriculumPrerequisite\\\"},{\\\"source_id\\\":20,\\\"target_id\\\":19,\\\"type\\\":\\\"CurriculumCorequisite\\\"}],\\\"name\\\":\\\"AME 250\\\",\\\"metrics\\\":{\\\"centrality\\\":145,\\\"complexity\\\":19.0,\\\"blocking factor\\\":10,\\\"delay factor\\\":9.0},\\\"nameSub\\\":\\\"Dynamics\\\",\\\"id\\\":19,\\\"credits\\\":3,\\\"nameCanonical\\\":\\\"\\\"},{\\\"curriculum_requisites\\\":[{\\\"source_id\\\":13,\\\"target_id\\\":20,\\\"type\\\":\\\"CurriculumPrerequisite\\\"}],\\\"name\\\":\\\"MATH 254\\\",\\\"metrics\\\":{\\\"centrality\\\":182,\\\"complexity\\\":24.0,\\\"blocking factor\\\":15,\\\"delay factor\\\":9.0},\\\"nameSub\\\":\\\"Intro. to ODEs\\\",\\\"id\\\":20,\\\"credits\\\":3,\\\"nameCanonical\\\":\\\"\\\"},{\\\"curriculum_requisites\\\":[{\\\"source_id\\\":13,\\\"target_id\\\":21,\\\"type\\\":\\\"CurriculumPrerequisite\\\"},{\\\"source_id\\\":8,\\\"target_id\\\":21,\\\"type\\\":\\\"CurriculumPrerequisite\\\"},{\\\"source_id\\\":20,\\\"target_id\\\":21,\\\"type\\\":\\\"CurriculumCorequisite\\\"}],\\\"name\\\":\\\"AME 220\\\",\\\"metrics\\\":{\\\"centrality\\\":198,\\\"complexity\\\":17.0,\\\"blocking factor\\\":8,\\\"delay factor\\\":9.0},\\\"nameSub\\\":\\\"Intro. to Aerospace Eng.\\\",\\\"id\\\":21,\\\"credits\\\":3,\\\"nameCanonical\\\":\\\"\\\"},{\\\"curriculum_requisites\\\":[],\\\"name\\\":\\\" \\\",\\\"metrics\\\":{\\\"centrality\\\":0,\\\"complexity\\\":1.0,\\\"blocking factor\\\":0,\\\"delay factor\\\":1.0},\\\"nameSub\\\":\\\"Tier I General Ed. 3\\\",\\\"id\\\":22,\\\"credits\\\":3,\\\"nameCanonical\\\":\\\"\\\"}],\\\"id\\\":4},{\\\"name\\\":\\\"Term 5\\\",\\\"curriculum_items\\\":[{\\\"curriculum_requisites\\\":[{\\\"source_id\\\":26,\\\"target_id\\\":23,\\\"type\\\":\\\"CurriculumCorequisite\\\"},{\\\"source_id\\\":21,\\\"target_id\\\":23,\\\"type\\\":\\\"CurriculumPrerequisite\\\"}],\\\"name\\\":\\\"AME 320\\\",\\\"metrics\\\":{\\\"centrality\\\":214,\\\"complexity\\\":14.0,\\\"blocking factor\\\":5,\\\"delay factor\\\":9.0},\\\"nameSub\\\":\\\"Aerodynamics\\\",\\\"id\\\":23,\\\"credits\\\":3,\\\"nameCanonical\\\":\\\"\\\"},{\\\"curriculum_requisites\\\":[{\\\"source_id\\\":12,\\\"target_id\\\":24,\\\"type\\\":\\\"CurriculumPrerequisite\\\"}],\\\"name\\\":\\\"AME  324A\\\",\\\"metrics\\\":{\\\"centrality\\\":172,\\\"complexity\\\":21.0,\\\"blocking factor\\\":12,\\\"delay factor\\\":9.0},\\\"nameSub\\\":\\\"Mech. Behavior of Eng. Materials.\\\",\\\"id\\\":24,\\\"credits\\\":3,\\\"nameCanonical\\\":\\\"\\\"},{\\\"curriculum_requisites\\\":[{\\\"source_id\\\":20,\\\"target_id\\\":25,\\\"type\\\":\\\"CurriculumPrerequisite\\\"}],\\\"name\\\":\\\"AME 301\\\",\\\"metrics\\\":{\\\"centrality\\\":6,\\\"complexity\\\":7.0,\\\"blocking factor\\\":1,\\\"delay factor\\\":6.0},\\\"nameSub\\\":\\\"Engineering Analysis\\\",\\\"id\\\":25,\\\"credits\\\":3,\\\"nameCanonical\\\":\\\"\\\"},{\\\"curriculum_requisites\\\":[{\\\"source_id\\\":18,\\\"target_id\\\":26,\\\"type\\\":\\\"CurriculumCorequisite\\\"},{\\\"source_id\\\":24,\\\"target_id\\\":26,\\\"type\\\":\\\"CurriculumCorequisite\\\"}],\\\"name\\\":\\\"AME 300\\\",\\\"metrics\\\":{\\\"centrality\\\":204,\\\"complexity\\\":19.0,\\\"blocking factor\\\":10,\\\"delay factor\\\":9.0},\\\"nameSub\\\":\\\"Instrumentation Lab.\\\",\\\"id\\\":26,\\\"credits\\\":3,\\\"nameCanonical\\\":\\\"\\\"},{\\\"curriculum_requisites\\\":[{\\\"source_id\\\":2,\\\"target_id\\\":27,\\\"type\\\":\\\"CurriculumPrerequisite\\\"}],\\\"name\\\":\\\"MSE 331R\\\",\\\"metrics\\\":{\\\"centrality\\\":3,\\\"complexity\\\":4.0,\\\"blocking factor\\\":1,\\\"delay factor\\\":3.0},\\\"nameSub\\\":\\\"Fund. of Materials for Engineers\\\",\\\"id\\\":27,\\\"credits\\\":3,\\\"nameCanonical\\\":\\\"\\\"},{\\\"curriculum_requisites\\\":[{\\\"source_id\\\":24,\\\"target_id\\\":28,\\\"type\\\":\\\"CurriculumCorequisite\\\"}],\\\"name\\\":\\\"AME 324L\\\",\\\"metrics\\\":{\\\"centrality\\\":0,\\\"complexity\\\":5.0,\\\"blocking factor\\\":0,\\\"delay factor\\\":5.0},\\\"nameSub\\\":\\\"Mech. of Materials Lab.\\\",\\\"id\\\":28,\\\"credits\\\":1,\\\"nameCanonical\\\":\\\"\\\"}],\\\"id\\\":5},{\\\"name\\\":\\\"Term 6\\\",\\\"curriculum_items\\\":[{\\\"curriculum_requisites\\\":[{\\\"source_id\\\":25,\\\"target_id\\\":29,\\\"type\\\":\\\"CurriculumPrerequisite\\\"}],\\\"name\\\":\\\"AME 324B\\\",\\\"metrics\\\":{\\\"centrality\\\":0,\\\"complexity\\\":6.0,\\\"blocking factor\\\":0,\\\"delay factor\\\":6.0},\\\"nameSub\\\":\\\"Eng. Component Design\\\",\\\"id\\\":29,\\\"credits\\\":3,\\\"nameCanonical\\\":\\\"\\\"},{\\\"curriculum_requisites\\\":[{\\\"source_id\\\":23,\\\"target_id\\\":30,\\\"type\\\":\\\"CurriculumCorequisite\\\"},{\\\"source_id\\\":19,\\\"target_id\\\":30,\\\"type\\\":\\\"CurriculumPrerequisite\\\"},{\\\"source_id\\\":21,\\\"target_id\\\":30,\\\"type\\\":\\\"CurriculumPrerequisite\\\"}],\\\"name\\\":\\\"AME 321\\\",\\\"metrics\\\":{\\\"centrality\\\":174,\\\"complexity\\\":12.0,\\\"blocking factor\\\":3,\\\"delay factor\\\":9.0},\\\"nameSub\\\":\\\"Aircraft Performance\\\",\\\"id\\\":30,\\\"credits\\\":3,\\\"nameCanonical\\\":\\\"\\\"},{\\\"curriculum_requisites\\\":[{\\\"source_id\\\":18,\\\"target_id\\\":31,\\\"type\\\":\\\"CurriculumPrerequisite\\\"},{\\\"source_id\\\":32,\\\"target_id\\\":31,\\\"type\\\":\\\"CurriculumCorequisite\\\"},{\\\"source_id\\\":21,\\\"target_id\\\":31,\\\"type\\\":\\\"CurriculumPrerequisite\\\"},{\\\"source_id\\\":20,\\\"target_id\\\":31,\\\"type\\\":\\\"CurriculumPrerequisite\\\"}],\\\"name\\\":\\\"AME 323\\\",\\\"metrics\\\":{\\\"centrality\\\":274,\\\"complexity\\\":13.0,\\\"blocking factor\\\":4,\\\"delay factor\\\":9.0},\\\"nameSub\\\":\\\"Gasdynamics\\\",\\\"id\\\":31,\\\"credits\\\":3,\\\"nameCanonical\\\":\\\"\\\"},{\\\"curriculum_requisites\\\":[{\\\"source_id\\\":26,\\\"target_id\\\":32,\\\"type\\\":\\\"CurriculumCorequisite\\\"},{\\\"source_id\\\":19,\\\"target_id\\\":32,\\\"type\\\":\\\"CurriculumPrerequisite\\\"},{\\\"source_id\\\":15,\\\"target_id\\\":32,\\\"type\\\":\\\"CurriculumPrerequisite\\\"},{\\\"source_id\\\":20,\\\"target_id\\\":32,\\\"type\\\":\\\"CurriculumPrerequisite\\\"}],\\\"name\\\":\\\"AME 302\\\",\\\"metrics\\\":{\\\"centrality\\\":232,\\\"complexity\\\":15.0,\\\"blocking factor\\\":6,\\\"delay factor\\\":9.0},\\\"nameSub\\\":\\\"Numerical Methods\\\",\\\"id\\\":32,\\\"credits\\\":3,\\\"nameCanonical\\\":\\\"\\\"},{\\\"curriculum_requisites\\\":[],\\\"name\\\":\\\"AME 313\\\",\\\"metrics\\\":{\\\"centrality\\\":0,\\\"complexity\\\":5.0,\\\"blocking factor\\\":2,\\\"delay factor\\\":3.0},\\\"nameSub\\\":\\\"Aero./Mech. Eng. Lab\\\",\\\"id\\\":33,\\\"credits\\\":1,\\\"nameCanonical\\\":\\\"\\\"},{\\\"curriculum_requisites\\\":[],\\\"name\\\":\\\" \\\",\\\"metrics\\\":{\\\"centrality\\\":0,\\\"complexity\\\":1.0,\\\"blocking factor\\\":0,\\\"delay factor\\\":1.0},\\\"nameSub\\\":\\\"Tier II General Ed. 1\\\",\\\"id\\\":34,\\\"credits\\\":3,\\\"nameCanonical\\\":\\\"\\\"}],\\\"id\\\":6},{\\\"name\\\":\\\"Term 7\\\",\\\"curriculum_items\\\":[{\\\"curriculum_requisites\\\":[{\\\"source_id\\\":23,\\\"target_id\\\":35,\\\"type\\\":\\\"CurriculumPrerequisite\\\"},{\\\"source_id\\\":31,\\\"target_id\\\":35,\\\"type\\\":\\\"CurriculumPrerequisite\\\"},{\\\"source_id\\\":27,\\\"target_id\\\":35,\\\"type\\\":\\\"CurriculumPrerequisite\\\"}],\\\"name\\\":\\\"AME 401\\\",\\\"metrics\\\":{\\\"centrality\\\":0,\\\"complexity\\\":8.0,\\\"blocking factor\\\":0,\\\"delay factor\\\":8.0},\\\"nameSub\\\":\\\"Senior Aerospace Lab.\\\",\\\"id\\\":35,\\\"credits\\\":3,\\\"nameCanonical\\\":\\\"\\\"},{\\\"curriculum_requisites\\\":[{\\\"source_id\\\":23,\\\"target_id\\\":36,\\\"type\\\":\\\"CurriculumPrerequisite\\\"},{\\\"source_id\\\":31,\\\"target_id\\\":36,\\\"type\\\":\\\"CurriculumPrerequisite\\\"},{\\\"source_id\\\":33,\\\"target_id\\\":36,\\\"type\\\":\\\"CurriculumPrerequisite\\\"},{\\\"source_id\\\":30,\\\"target_id\\\":36,\\\"type\\\":\\\"CurriculumPrerequisite\\\"}],\\\"name\\\":\\\"AME 420\\\",\\\"metrics\\\":{\\\"centrality\\\":240,\\\"complexity\\\":10.0,\\\"blocking factor\\\":1,\\\"delay factor\\\":9.0},\\\"nameSub\\\":\\\"Aerospace Conceptual Design\\\",\\\"id\\\":36,\\\"credits\\\":3,\\\"nameCanonical\\\":\\\"\\\"},{\\\"curriculum_requisites\\\":[{\\\"source_id\\\":24,\\\"target_id\\\":37,\\\"type\\\":\\\"CurriculumPrerequisite\\\"},{\\\"source_id\\\":31,\\\"target_id\\\":37,\\\"type\\\":\\\"CurriculumPrerequisite\\\"},{\\\"source_id\\\":18,\\\"target_id\\\":37,\\\"type\\\":\\\"CurriculumPrerequisite\\\"}],\\\"name\\\":\\\"AME 425\\\",\\\"metrics\\\":{\\\"centrality\\\":0,\\\"complexity\\\":8.0,\\\"blocking factor\\\":0,\\\"delay factor\\\":8.0},\\\"nameSub\\\":\\\"Aerospace Propulsion\\\",\\\"id\\\":37,\\\"credits\\\":3,\\\"nameCanonical\\\":\\\"\\\"},{\\\"curriculum_requisites\\\":[{\\\"source_id\\\":23,\\\"target_id\\\":38,\\\"type\\\":\\\"CurriculumPrerequisite\\\"},{\\\"source_id\\\":15,\\\"target_id\\\":38,\\\"type\\\":\\\"CurriculumPrerequisite\\\"},{\\\"source_id\\\":30,\\\"target_id\\\":38,\\\"type\\\":\\\"CurriculumPrerequisite\\\"}],\\\"name\\\":\\\"AME 427\\\",\\\"metrics\\\":{\\\"centrality\\\":0,\\\"complexity\\\":8.0,\\\"blocking factor\\\":0,\\\"delay factor\\\":8.0},\\\"nameSub\\\":\\\"Stability and Control of Aero. Vehicles\\\",\\\"id\\\":38,\\\"credits\\\":3,\\\"nameCanonical\\\":\\\"\\\"},{\\\"curriculum_requisites\\\":[{\\\"source_id\\\":13,\\\"target_id\\\":39,\\\"type\\\":\\\"CurriculumPrerequisite\\\"},{\\\"source_id\\\":19,\\\"target_id\\\":39,\\\"type\\\":\\\"CurriculumPrerequisite\\\"}],\\\"name\\\":\\\"AME 457\\\",\\\"metrics\\\":{\\\"centrality\\\":0,\\\"complexity\\\":6.0,\\\"blocking factor\\\":0,\\\"delay factor\\\":6.0},\\\"nameSub\\\":\\\"Orbital Mechanicans and Space Flt.\\\",\\\"id\\\":39,\\\"credits\\\":3,\\\"nameCanonical\\\":\\\"\\\"},{\\\"curriculum_requisites\\\":[],\\\"name\\\":\\\"AME 495S\\\",\\\"metrics\\\":{\\\"centrality\\\":0,\\\"complexity\\\":1.0,\\\"blocking factor\\\":0,\\\"delay factor\\\":1.0},\\\"nameSub\\\":\\\"Senior Colloquium\\\",\\\"id\\\":40,\\\"credits\\\":1,\\\"nameCanonical\\\":\\\"\\\"}],\\\"id\\\":7},{\\\"name\\\":\\\"Term 8\\\",\\\"curriculum_items\\\":[{\\\"curriculum_requisites\\\":[{\\\"source_id\\\":36,\\\"target_id\\\":41,\\\"type\\\":\\\"CurriculumPrerequisite\\\"},{\\\"source_id\\\":33,\\\"target_id\\\":41,\\\"type\\\":\\\"CurriculumCorequisite\\\"}],\\\"name\\\":\\\"AME 422\\\",\\\"metrics\\\":{\\\"centrality\\\":0,\\\"complexity\\\":9.0,\\\"blocking factor\\\":0,\\\"delay factor\\\":9.0},\\\"nameSub\\\":\\\"Aerospace Eng.Design\\\",\\\"id\\\":41,\\\"credits\\\":3,\\\"nameCanonical\\\":\\\"\\\"},{\\\"curriculum_requisites\\\":[{\\\"source_id\\\":24,\\\"target_id\\\":42,\\\"type\\\":\\\"CurriculumPrerequisite\\\"},{\\\"source_id\\\":32,\\\"target_id\\\":42,\\\"type\\\":\\\"CurriculumPrerequisite\\\"},{\\\"source_id\\\":18,\\\"target_id\\\":42,\\\"type\\\":\\\"CurriculumPrerequisite\\\"}],\\\"name\\\":\\\"AME 431\\\",\\\"metrics\\\":{\\\"centrality\\\":0,\\\"complexity\\\":7.0,\\\"blocking factor\\\":0,\\\"delay factor\\\":7.0},\\\"nameSub\\\":\\\"Num. Meth. in Fluid Mech. & Heat Xfer\\\",\\\"id\\\":42,\\\"credits\\\":3,\\\"nameCanonical\\\":\\\"\\\"},{\\\"curriculum_requisites\\\":[],\\\"name\\\":\\\" \\\",\\\"metrics\\\":{\\\"centrality\\\":0,\\\"complexity\\\":1.0,\\\"blocking factor\\\":0,\\\"delay factor\\\":1.0},\\\"nameSub\\\":\\\"Technical Elective 1\\\",\\\"id\\\":43,\\\"credits\\\":3,\\\"nameCanonical\\\":\\\"\\\"},{\\\"curriculum_requisites\\\":[],\\\"name\\\":\\\" \\\",\\\"metrics\\\":{\\\"centrality\\\":0,\\\"complexity\\\":1.0,\\\"blocking factor\\\":0,\\\"delay factor\\\":1.0},\\\"nameSub\\\":\\\"Technical Elective 2\\\",\\\"id\\\":44,\\\"credits\\\":3,\\\"nameCanonical\\\":\\\"\\\"},{\\\"curriculum_requisites\\\":[],\\\"name\\\":\\\" \\\",\\\"metrics\\\":{\\\"centrality\\\":0,\\\"complexity\\\":1.0,\\\"blocking factor\\\":0,\\\"delay factor\\\":1.0},\\\"nameSub\\\":\\\"Tier II General Ed. 2\\\",\\\"id\\\":45,\\\"credits\\\":3,\\\"nameCanonical\\\":\\\"\\\"}],\\\"id\\\":8}],\\\"institution\\\":\\\"University of Arizona\\\"}},\\\"*\\\"); window.removeEventListener(\\\"message\\\",window.messageReceived); window.messageReceived=(function (event){return (event.data.curriculum!==undefined) ? (WebIO.setval({\\\"name\\\":\\\"curriculum-data\\\",\\\"scope\\\":\\\"12107817949812142622\\\",\\\"id\\\":\\\"4082920182656578843\\\",\\\"type\\\":\\\"observable\\\"},event.data.curriculum)) : undefined}); return window.addEventListener(\\\"message\\\",window.messageReceived)})\")),:style => Dict(:padding => \"0\",:height => \"100vh\",:margin => \"0\",:border => \"none\",:width => \"100%\"))), Dict{String,Tuple{Observables.AbstractObservable,Union{Nothing, Bool}}}(\"curriculum-data\" => (Observable{Dict{String,Any}} with 1 listeners. Value:\n",
       "Dict{String,Any}(\"options\" => Dict{String,Any}(\"hideTerms\" => false,\"edit\" => false),\"curriculum\" => Dict{String,Any}(\"name\" => \"Aerospace Engineering\",\"dp_name\" => \"2019-20 Degree Plan\",\"curriculum_terms\" => Dict{String,Any}[Dict(\"name\" => \"Term 1\",\"curriculum_items\" => Dict{String,Any}[Dict(\"curriculum_requisites\" => Dict{String,Any}[],\"name\" => \"MATH 125\",\"metrics\" => Dict{String,Any}(\"centrality\" => 0,\"complexity\" => 38.0,\"blocking factor\" => 29,\"delay factor\" => 9.0),\"nameSub\" => \"Calculus I w/ Applications\",\"id\" => 1,\"credits\" => 3,\"nameCanonical\" => \"\"), Dict(\"curriculum_requisites\" => Dict{String,Any}[],\"name\" => \"CHEM 151\",\"metrics\" => Dict{String,Any}(\"centrality\" => 0,\"complexity\" => 5.0,\"blocking factor\" => 2,\"delay factor\" => 3.0),\"nameSub\" => \"Gen Chemistry I\",\"id\" => 2,\"credits\" => 4,\"nameCanonical\" => \"\"), Dict(\"curriculum_requisites\" => Dict{String,Any}[],\"name\" => \"ENGL 101\",\"metrics\" => Dict{String,Any}(\"centrality\" => 0,\"complexity\" => 3.0,\"blocking factor\" => 1,\"delay factor\" => 2.0),\"nameSub\" => \"First-year Comp.\",\"id\" => 3,\"credits\" => 3,\"nameCanonical\" => \"\"), Dict(\"curriculum_requisites\" => Dict{String,Any}[Dict(\"source_id\" => 1,\"target_id\" => 4,\"type\" => \"CurriculumCorequisite\")],\"name\" => \"ENGR 102\",\"metrics\" => Dict{String,Any}(\"centrality\" => 0,\"complexity\" => 2.0,\"blocking factor\" => 0,\"delay factor\" => 2.0),\"nameSub\" => \"Intro to Engineering\",\"id\" => 4,\"credits\" => 3,\"nameCanonical\" => \"\"), Dict(\"curriculum_requisites\" => Dict{String,Any}[],\"name\" => \" \",\"metrics\" => Dict{String,Any}(\"centrality\" => 0,\"complexity\" => 1.0,\"blocking factor\" => 0,\"delay factor\" => 1.0),\"nameSub\" => \"Tier I General Ed.\",\"id\" => 5,\"credits\" => 3,\"nameCanonical\" => \"\")],\"id\" => 1), Dict(\"name\" => \"Term 2\",\"curriculum_items\" => Dict{String,Any}[Dict(\"curriculum_requisites\" => Dict{String,Any}[Dict(\"source_id\" => 1,\"target_id\" => 6,\"type\" => \"CurriculumPrerequisite\")],\"name\" => \"MATH 129\",\"metrics\" => Dict{String,Any}(\"centrality\" => 387,\"complexity\" => 31.0,\"blocking factor\" => 22,\"delay factor\" => 9.0),\"nameSub\" => \"Calculus II\",\"id\" => 6,\"credits\" => 3,\"nameCanonical\" => \"\"), Dict(\"curriculum_requisites\" => Dict{String,Any}[Dict(\"source_id\" => 1,\"target_id\" => 7,\"type\" => \"CurriculumPrerequisite\")],\"name\" => \"AME 105\",\"metrics\" => Dict{String,Any}(\"centrality\" => 28,\"complexity\" => 16.0,\"blocking factor\" => 9,\"delay factor\" => 7.0),\"nameSub\" => \"Intro. to MATLAB I\",\"id\" => 7,\"credits\" => 1,\"nameCanonical\" => \"\"), Dict(\"curriculum_requisites\" => Dict{String,Any}[Dict(\"source_id\" => 1,\"target_id\" => 8,\"type\" => \"CurriculumPrerequisite\")],\"name\" => \"PHYS 141\",\"metrics\" => Dict{String,Any}(\"centrality\" => 277,\"complexity\" => 28.0,\"blocking factor\" => 19,\"delay factor\" => 9.0),\"nameSub\" => \"Intro Mechanics\",\"id\" => 8,\"credits\" => 4,\"nameCanonical\" => \"\"), Dict(\"curriculum_requisites\" => Dict{String,Any}[Dict(\"source_id\" => 3,\"target_id\" => 9,\"type\" => \"CurriculumPrerequisite\")],\"name\" => \"ENGL 102\",\"metrics\" => Dict{String,Any}(\"centrality\" => 0,\"complexity\" => 2.0,\"blocking factor\" => 0,\"delay factor\" => 2.0),\"nameSub\" => \"First-year Comp.\",\"id\" => 9,\"credits\" => 3,\"nameCanonical\" => \"\"), Dict(\"curriculum_requisites\" => Dict{String,Any}[Dict(\"source_id\" => 1,\"target_id\" => 10,\"type\" => \"CurriculumCorequisite\")],\"name\" => \"ECE 175\",\"metrics\" => Dict{String,Any}(\"centrality\" => 0,\"complexity\" => 2.0,\"blocking factor\" => 0,\"delay factor\" => 2.0),\"nameSub\" => \"Programming for Eng. Apps.\",\"id\" => 10,\"credits\" => 3,\"nameCanonical\" => \"\"), Dict(\"curriculum_requisites\" => Dict{String,Any}[],\"name\" => \" \",\"metrics\" => Dict{String,Any}(\"centrality\" => 0,\"complexity\" => 1.0,\"blocking factor\" => 0,\"delay factor\" => 1.0),\"nameSub\" => \"Tier I General Ed. 1\",\"id\" => 11,\"credits\" => 3,\"nameCanonical\" => \"\")],\"id\" => 2), Dict(\"name\" => \"Term 3\",\"curriculum_items\" => Dict{String,Any}[Dict(\"curriculum_requisites\" => Dict{String,Any}[Dict(\"source_id\" => 8,\"target_id\" => 12,\"type\" => \"CurriculumPrerequisite\"), Dict(\"source_id\" => 6,\"target_id\" => 12,\"type\" => \"CurriculumPrerequisite\")],\"name\" => \"CE 214\",\"metrics\" => Dict{String,Any}(\"centrality\" => 264,\"complexity\" => 24.0,\"blocking factor\" => 15,\"delay factor\" => 9.0),\"nameSub\" => \"Statics\",\"id\" => 12,\"credits\" => 3,\"nameCanonical\" => \"\"), Dict(\"curriculum_requisites\" => Dict{String,Any}[Dict(\"source_id\" => 6,\"target_id\" => 13,\"type\" => \"CurriculumPrerequisite\")],\"name\" => \"MATH  223\",\"metrics\" => Dict{String,Any}(\"centrality\" => 252,\"complexity\" => 25.0,\"blocking factor\" => 16,\"delay factor\" => 9.0),\"nameSub\" => \"Vector Calculus\",\"id\" => 13,\"credits\" => 4,\"nameCanonical\" => \"\"), Dict(\"curriculum_requisites\" => Dict{String,Any}[Dict(\"source_id\" => 8,\"target_id\" => 14,\"type\" => \"CurriculumPrerequisite\"), Dict(\"source_id\" => 6,\"target_id\" => 14,\"type\" => \"CurriculumPrerequisite\")],\"name\" => \"PHYS 241\",\"metrics\" => Dict{String,Any}(\"centrality\" => 0,\"complexity\" => 3.0,\"blocking factor\" => 0,\"delay factor\" => 3.0),\"nameSub\" => \"Electricity & Magnetism\",\"id\" => 14,\"credits\" => 4,\"nameCanonical\" => \"\"), Dict(\"curriculum_requisites\" => Dict{String,Any}[Dict(\"source_id\" => 7,\"target_id\" => 15,\"type\" => \"CurriculumPrerequisite\")],\"name\" => \"AME  205\",\"metrics\" => Dict{String,Any}(\"centrality\" => 28,\"complexity\" => 15.0,\"blocking factor\" => 8,\"delay factor\" => 7.0),\"nameSub\" => \"Intro. To MATLAB II\",\"id\" => 15,\"credits\" => 1,\"nameCanonical\" => \"\"), Dict(\"curriculum_requisites\" => Dict{String,Any}[],\"name\" => \"AME 211\",\"metrics\" => Dict{String,Any}(\"centrality\" => 0,\"complexity\" => 1.0,\"blocking factor\" => 0,\"delay factor\" => 1.0),\"nameSub\" => \"Comp. Aided Drafting & Manufacturing\",\"id\" => 16,\"credits\" => 3,\"nameCanonical\" => \"\"), Dict(\"curriculum_requisites\" => Dict{String,Any}[],\"name\" => \" \",\"metrics\" => Dict{String,Any}(\"centrality\" => 0,\"complexity\" => 1.0,\"blocking factor\" => 0,\"delay factor\" => 1.0),\"nameSub\" => \"Tier I General Ed. 2\",\"id\" => 17,\"credits\" => 3,\"nameCanonical\" => \"\")],\"id\" => 3), Dict(\"name\" => \"Term 4\",\"curriculum_items\" => Dict{String,Any}[Dict(\"curriculum_requisites\" => Dict{String,Any}[Dict(\"source_id\" => 8,\"target_id\" => 18,\"type\" => \"CurriculumPrerequisite\")],\"name\" => \"AME 230\",\"metrics\" => Dict{String,Any}(\"centrality\" => 86,\"complexity\" => 19.0,\"blocking factor\" => 11,\"delay factor\" => 8.0),\"nameSub\" => \"Thermodynamics\",\"id\" => 18,\"credits\" => 3,\"nameCanonical\" => \"\"), Dict(\"curriculum_requisites\" => Dict{String,Any}[Dict(\"source_id\" => 12,\"target_id\" => 19,\"type\" => \"CurriculumPrerequisite\"), Dict(\"source_id\" => 20,\"target_id\" => 19,\"type\" => \"CurriculumCorequisite\")],\"name\" => \"AME 250\",\"metrics\" => Dict{String,Any}(\"centrality\" => 145,\"complexity\" => 19.0,\"blocking factor\" => 10,\"delay factor\" => 9.0),\"nameSub\" => \"Dynamics\",\"id\" => 19,\"credits\" => 3,\"nameCanonical\" => \"\"), Dict(\"curriculum_requisites\" => Dict{String,Any}[Dict(\"source_id\" => 13,\"target_id\" => 20,\"type\" => \"CurriculumPrerequisite\")],\"name\" => \"MATH 254\",\"metrics\" => Dict{String,Any}(\"centrality\" => 182,\"complexity\" => 24.0,\"blocking factor\" => 15,\"delay factor\" => 9.0),\"nameSub\" => \"Intro. to ODEs\",\"id\" => 20,\"credits\" => 3,\"nameCanonical\" => \"\"), Dict(\"curriculum_requisites\" => Dict{String,Any}[Dict(\"source_id\" => 13,\"target_id\" => 21,\"type\" => \"CurriculumPrerequisite\"), Dict(\"source_id\" => 8,\"target_id\" => 21,\"type\" => \"CurriculumPrerequisite\"), Dict(\"source_id\" => 20,\"target_id\" => 21,\"type\" => \"CurriculumCorequisite\")],\"name\" => \"AME 220\",\"metrics\" => Dict{String,Any}(\"centrality\" => 198,\"complexity\" => 17.0,\"blocking factor\" => 8,\"delay factor\" => 9.0),\"nameSub\" => \"Intro. to Aerospace Eng.\",\"id\" => 21,\"credits\" => 3,\"nameCanonical\" => \"\"), Dict(\"curriculum_requisites\" => Dict{String,Any}[],\"name\" => \" \",\"metrics\" => Dict{String,Any}(\"centrality\" => 0,\"complexity\" => 1.0,\"blocking factor\" => 0,\"delay factor\" => 1.0),\"nameSub\" => \"Tier I General Ed. 3\",\"id\" => 22,\"credits\" => 3,\"nameCanonical\" => \"\")],\"id\" => 4), Dict(\"name\" => \"Term 5\",\"curriculum_items\" => Dict{String,Any}[Dict(\"curriculum_requisites\" => Dict{String,Any}[Dict(\"source_id\" => 26,\"target_id\" => 23,\"type\" => \"CurriculumCorequisite\"), Dict(\"source_id\" => 21,\"target_id\" => 23,\"type\" => \"CurriculumPrerequisite\")],\"name\" => \"AME 320\",\"metrics\" => Dict{String,Any}(\"centrality\" => 214,\"complexity\" => 14.0,\"blocking factor\" => 5,\"delay factor\" => 9.0),\"nameSub\" => \"Aerodynamics\",\"id\" => 23,\"credits\" => 3,\"nameCanonical\" => \"\"), Dict(\"curriculum_requisites\" => Dict{String,Any}[Dict(\"source_id\" => 12,\"target_id\" => 24,\"type\" => \"CurriculumPrerequisite\")],\"name\" => \"AME  324A\",\"metrics\" => Dict{String,Any}(\"centrality\" => 172,\"complexity\" => 21.0,\"blocking factor\" => 12,\"delay factor\" => 9.0),\"nameSub\" => \"Mech. Behavior of Eng. Materials.\",\"id\" => 24,\"credits\" => 3,\"nameCanonical\" => \"\"), Dict(\"curriculum_requisites\" => Dict{String,Any}[Dict(\"source_id\" => 20,\"target_id\" => 25,\"type\" => \"CurriculumPrerequisite\")],\"name\" => \"AME 301\",\"metrics\" => Dict{String,Any}(\"centrality\" => 6,\"complexity\" => 7.0,\"blocking factor\" => 1,\"delay factor\" => 6.0),\"nameSub\" => \"Engineering Analysis\",\"id\" => 25,\"credits\" => 3,\"nameCanonical\" => \"\"), Dict(\"curriculum_requisites\" => Dict{String,Any}[Dict(\"source_id\" => 18,\"target_id\" => 26,\"type\" => \"CurriculumCorequisite\"), Dict(\"source_id\" => 24,\"target_id\" => 26,\"type\" => \"CurriculumCorequisite\")],\"name\" => \"AME 300\",\"metrics\" => Dict{String,Any}(\"centrality\" => 204,\"complexity\" => 19.0,\"blocking factor\" => 10,\"delay factor\" => 9.0),\"nameSub\" => \"Instrumentation Lab.\",\"id\" => 26,\"credits\" => 3,\"nameCanonical\" => \"\"), Dict(\"curriculum_requisites\" => Dict{String,Any}[Dict(\"source_id\" => 2,\"target_id\" => 27,\"type\" => \"CurriculumPrerequisite\")],\"name\" => \"MSE 331R\",\"metrics\" => Dict{String,Any}(\"centrality\" => 3,\"complexity\" => 4.0,\"blocking factor\" => 1,\"delay factor\" => 3.0),\"nameSub\" => \"Fund. of Materials for Engineers\",\"id\" => 27,\"credits\" => 3,\"nameCanonical\" => \"\"), Dict(\"curriculum_requisites\" => Dict{String,Any}[Dict(\"source_id\" => 24,\"target_id\" => 28,\"type\" => \"CurriculumCorequisite\")],\"name\" => \"AME 324L\",\"metrics\" => Dict{String,Any}(\"centrality\" => 0,\"complexity\" => 5.0,\"blocking factor\" => 0,\"delay factor\" => 5.0),\"nameSub\" => \"Mech. of Materials Lab.\",\"id\" => 28,\"credits\" => 1,\"nameCanonical\" => \"\")],\"id\" => 5), Dict(\"name\" => \"Term 6\",\"curriculum_items\" => Dict{String,Any}[Dict(\"curriculum_requisites\" => Dict{String,Any}[Dict(\"source_id\" => 25,\"target_id\" => 29,\"type\" => \"CurriculumPrerequisite\")],\"name\" => \"AME 324B\",\"metrics\" => Dict{String,Any}(\"centrality\" => 0,\"complexity\" => 6.0,\"blocking factor\" => 0,\"delay factor\" => 6.0),\"nameSub\" => \"Eng. Component Design\",\"id\" => 29,\"credits\" => 3,\"nameCanonical\" => \"\"), Dict(\"curriculum_requisites\" => Dict{String,Any}[Dict(\"source_id\" => 23,\"target_id\" => 30,\"type\" => \"CurriculumCorequisite\"), Dict(\"source_id\" => 19,\"target_id\" => 30,\"type\" => \"CurriculumPrerequisite\"), Dict(\"source_id\" => 21,\"target_id\" => 30,\"type\" => \"CurriculumPrerequisite\")],\"name\" => \"AME 321\",\"metrics\" => Dict{String,Any}(\"centrality\" => 174,\"complexity\" => 12.0,\"blocking factor\" => 3,\"delay factor\" => 9.0),\"nameSub\" => \"Aircraft Performance\",\"id\" => 30,\"credits\" => 3,\"nameCanonical\" => \"\"), Dict(\"curriculum_requisites\" => Dict{String,Any}[Dict(\"source_id\" => 18,\"target_id\" => 31,\"type\" => \"CurriculumPrerequisite\"), Dict(\"source_id\" => 32,\"target_id\" => 31,\"type\" => \"CurriculumCorequisite\"), Dict(\"source_id\" => 21,\"target_id\" => 31,\"type\" => \"CurriculumPrerequisite\"), Dict(\"source_id\" => 20,\"target_id\" => 31,\"type\" => \"CurriculumPrerequisite\")],\"name\" => \"AME 323\",\"metrics\" => Dict{String,Any}(\"centrality\" => 274,\"complexity\" => 13.0,\"blocking factor\" => 4,\"delay factor\" => 9.0),\"nameSub\" => \"Gasdynamics\",\"id\" => 31,\"credits\" => 3,\"nameCanonical\" => \"\"), Dict(\"curriculum_requisites\" => Dict{String,Any}[Dict(\"source_id\" => 26,\"target_id\" => 32,\"type\" => \"CurriculumCorequisite\"), Dict(\"source_id\" => 19,\"target_id\" => 32,\"type\" => \"CurriculumPrerequisite\"), Dict(\"source_id\" => 15,\"target_id\" => 32,\"type\" => \"CurriculumPrerequisite\"), Dict(\"source_id\" => 20,\"target_id\" => 32,\"type\" => \"CurriculumPrerequisite\")],\"name\" => \"AME 302\",\"metrics\" => Dict{String,Any}(\"centrality\" => 232,\"complexity\" => 15.0,\"blocking factor\" => 6,\"delay factor\" => 9.0),\"nameSub\" => \"Numerical Methods\",\"id\" => 32,\"credits\" => 3,\"nameCanonical\" => \"\"), Dict(\"curriculum_requisites\" => Dict{String,Any}[],\"name\" => \"AME 313\",\"metrics\" => Dict{String,Any}(\"centrality\" => 0,\"complexity\" => 5.0,\"blocking factor\" => 2,\"delay factor\" => 3.0),\"nameSub\" => \"Aero./Mech. Eng. Lab\",\"id\" => 33,\"credits\" => 1,\"nameCanonical\" => \"\"), Dict(\"curriculum_requisites\" => Dict{String,Any}[],\"name\" => \" \",\"metrics\" => Dict{String,Any}(\"centrality\" => 0,\"complexity\" => 1.0,\"blocking factor\" => 0,\"delay factor\" => 1.0),\"nameSub\" => \"Tier II General Ed. 1\",\"id\" => 34,\"credits\" => 3,\"nameCanonical\" => \"\")],\"id\" => 6), Dict(\"name\" => \"Term 7\",\"curriculum_items\" => Dict{String,Any}[Dict(\"curriculum_requisites\" => Dict{String,Any}[Dict(\"source_id\" => 23,\"target_id\" => 35,\"type\" => \"CurriculumPrerequisite\"), Dict(\"source_id\" => 31,\"target_id\" => 35,\"type\" => \"CurriculumPrerequisite\"), Dict(\"source_id\" => 27,\"target_id\" => 35,\"type\" => \"CurriculumPrerequisite\")],\"name\" => \"AME 401\",\"metrics\" => Dict{String,Any}(\"centrality\" => 0,\"complexity\" => 8.0,\"blocking factor\" => 0,\"delay factor\" => 8.0),\"nameSub\" => \"Senior Aerospace Lab.\",\"id\" => 35,\"credits\" => 3,\"nameCanonical\" => \"\"), Dict(\"curriculum_requisites\" => Dict{String,Any}[Dict(\"source_id\" => 23,\"target_id\" => 36,\"type\" => \"CurriculumPrerequisite\"), Dict(\"source_id\" => 31,\"target_id\" => 36,\"type\" => \"CurriculumPrerequisite\"), Dict(\"source_id\" => 33,\"target_id\" => 36,\"type\" => \"CurriculumPrerequisite\"), Dict(\"source_id\" => 30,\"target_id\" => 36,\"type\" => \"CurriculumPrerequisite\")],\"name\" => \"AME 420\",\"metrics\" => Dict{String,Any}(\"centrality\" => 240,\"complexity\" => 10.0,\"blocking factor\" => 1,\"delay factor\" => 9.0),\"nameSub\" => \"Aerospace Conceptual Design\",\"id\" => 36,\"credits\" => 3,\"nameCanonical\" => \"\"), Dict(\"curriculum_requisites\" => Dict{String,Any}[Dict(\"source_id\" => 24,\"target_id\" => 37,\"type\" => \"CurriculumPrerequisite\"), Dict(\"source_id\" => 31,\"target_id\" => 37,\"type\" => \"CurriculumPrerequisite\"), Dict(\"source_id\" => 18,\"target_id\" => 37,\"type\" => \"CurriculumPrerequisite\")],\"name\" => \"AME 425\",\"metrics\" => Dict{String,Any}(\"centrality\" => 0,\"complexity\" => 8.0,\"blocking factor\" => 0,\"delay factor\" => 8.0),\"nameSub\" => \"Aerospace Propulsion\",\"id\" => 37,\"credits\" => 3,\"nameCanonical\" => \"\"), Dict(\"curriculum_requisites\" => Dict{String,Any}[Dict(\"source_id\" => 23,\"target_id\" => 38,\"type\" => \"CurriculumPrerequisite\"), Dict(\"source_id\" => 15,\"target_id\" => 38,\"type\" => \"CurriculumPrerequisite\"), Dict(\"source_id\" => 30,\"target_id\" => 38,\"type\" => \"CurriculumPrerequisite\")],\"name\" => \"AME 427\",\"metrics\" => Dict{String,Any}(\"centrality\" => 0,\"complexity\" => 8.0,\"blocking factor\" => 0,\"delay factor\" => 8.0),\"nameSub\" => \"Stability and Control of Aero. Vehicles\",\"id\" => 38,\"credits\" => 3,\"nameCanonical\" => \"\"), Dict(\"curriculum_requisites\" => Dict{String,Any}[Dict(\"source_id\" => 13,\"target_id\" => 39,\"type\" => \"CurriculumPrerequisite\"), Dict(\"source_id\" => 19,\"target_id\" => 39,\"type\" => \"CurriculumPrerequisite\")],\"name\" => \"AME 457\",\"metrics\" => Dict{String,Any}(\"centrality\" => 0,\"complexity\" => 6.0,\"blocking factor\" => 0,\"delay factor\" => 6.0),\"nameSub\" => \"Orbital Mechanicans and Space Flt.\",\"id\" => 39,\"credits\" => 3,\"nameCanonical\" => \"\"), Dict(\"curriculum_requisites\" => Dict{String,Any}[],\"name\" => \"AME 495S\",\"metrics\" => Dict{String,Any}(\"centrality\" => 0,\"complexity\" => 1.0,\"blocking factor\" => 0,\"delay factor\" => 1.0),\"nameSub\" => \"Senior Colloquium\",\"id\" => 40,\"credits\" => 1,\"nameCanonical\" => \"\")],\"id\" => 7), Dict(\"name\" => \"Term 8\",\"curriculum_items\" => Dict{String,Any}[Dict(\"curriculum_requisites\" => Dict{String,Any}[Dict(\"source_id\" => 36,\"target_id\" => 41,\"type\" => \"CurriculumPrerequisite\"), Dict(\"source_id\" => 33,\"target_id\" => 41,\"type\" => \"CurriculumCorequisite\")],\"name\" => \"AME 422\",\"metrics\" => Dict{String,Any}(\"centrality\" => 0,\"complexity\" => 9.0,\"blocking factor\" => 0,\"delay factor\" => 9.0),\"nameSub\" => \"Aerospace Eng.Design\",\"id\" => 41,\"credits\" => 3,\"nameCanonical\" => \"\"), Dict(\"curriculum_requisites\" => Dict{String,Any}[Dict(\"source_id\" => 24,\"target_id\" => 42,\"type\" => \"CurriculumPrerequisite\"), Dict(\"source_id\" => 32,\"target_id\" => 42,\"type\" => \"CurriculumPrerequisite\"), Dict(\"source_id\" => 18,\"target_id\" => 42,\"type\" => \"CurriculumPrerequisite\")],\"name\" => \"AME 431\",\"metrics\" => Dict{String,Any}(\"centrality\" => 0,\"complexity\" => 7.0,\"blocking factor\" => 0,\"delay factor\" => 7.0),\"nameSub\" => \"Num. Meth. in Fluid Mech. & Heat Xfer\",\"id\" => 42,\"credits\" => 3,\"nameCanonical\" => \"\"), Dict(\"curriculum_requisites\" => Dict{String,Any}[],\"name\" => \" \",\"metrics\" => Dict{String,Any}(\"centrality\" => 0,\"complexity\" => 1.0,\"blocking factor\" => 0,\"delay factor\" => 1.0),\"nameSub\" => \"Technical Elective 1\",\"id\" => 43,\"credits\" => 3,\"nameCanonical\" => \"\"), Dict(\"curriculum_requisites\" => Dict{String,Any}[],\"name\" => \" \",\"metrics\" => Dict{String,Any}(\"centrality\" => 0,\"complexity\" => 1.0,\"blocking factor\" => 0,\"delay factor\" => 1.0),\"nameSub\" => \"Technical Elective 2\",\"id\" => 44,\"credits\" => 3,\"nameCanonical\" => \"\"), Dict(\"curriculum_requisites\" => Dict{String,Any}[],\"name\" => \" \",\"metrics\" => Dict{String,Any}(\"centrality\" => 0,\"complexity\" => 1.0,\"blocking factor\" => 0,\"delay factor\" => 1.0),\"nameSub\" => \"Tier II General Ed. 2\",\"id\" => 45,\"credits\" => 3,\"nameCanonical\" => \"\")],\"id\" => 8)],\"institution\" => \"University of Arizona\")), nothing)), Set{String}(), nothing, WebIO.Asset[], Dict{Any,Any}(), WebIO.ConnectionPool(Channel{Any}(sz_max:32,sz_curr:0), Set{WebIO.AbstractConnection}(), Base.GenericCondition{Base.AlwaysLockedST}(Base.InvasiveLinkedList{Task}(Task (runnable) @0x0000000110de4fd0, Task (runnable) @0x0000000110de4fd0), Base.AlwaysLockedST(1))), WebIO.JSString[])"
      ]
     },
     "execution_count": 16,
     "metadata": {
      "application/vnd.webio.node+json": {
       "kernelId": "38ef9191-949f-4bdf-a486-1761b8e78e85"
      }
     },
     "output_type": "execute_result"
    }
   ],
   "source": [
    "UA_Aero = read_csv(\"./Univ_of_Arizona-Aero.csv\")\n",
    "visualize(UA_Aero, notebook=true, scale=1.0)"
   ]
  },
  {
   "cell_type": "code",
   "execution_count": 17,
   "metadata": {},
   "outputs": [
    {
     "name": "stdout",
     "output_type": "stream",
     "text": [
      "Degree Plan 2019-20 Degree Plan is valid\n"
     ]
    }
   ],
   "source": [
    "if isvalid_degree_plan(UA_Aero, errors)\n",
    "    println(\"Degree Plan $(UA_Aero.name) is valid\")\n",
    "else\n",
    "    println(\"Degree Plan $(UA_Aero.name) is not valid:\")\n",
    "    print(String(take!(errors)))\n",
    "end"
   ]
  },
  {
   "cell_type": "code",
   "execution_count": 18,
   "metadata": {},
   "outputs": [
    {
     "data": {
      "application/vnd.webio.node+json": {
       "children": [
        {
         "children": [
          ""
         ],
         "instanceArgs": {
          "namespace": "html",
          "tag": "iframe"
         },
         "nodeType": "DOM",
         "props": {
          "events": {
           "load": "(function (){this.contentWindow.postMessage({\"options\":{\"hideTerms\":false,\"edit\":false},\"curriculum\":{\"name\":\"Electrical Engineering\",\"dp_name\":\"2017-18 Plan\",\"curriculum_terms\":[{\"name\":\"Term 1\",\"curriculum_items\":[{\"curriculum_requisites\":[],\"name\":\" \",\"metrics\":{\"centrality\":0,\"complexity\":9.0,\"blocking factor\":4,\"delay factor\":5.0},\"nameSub\":\"CHEM 1310\",\"id\":1,\"credits\":4,\"nameCanonical\":\"\"},{\"curriculum_requisites\":[],\"name\":\" \",\"metrics\":{\"centrality\":0,\"complexity\":23.0,\"blocking factor\":15,\"delay factor\":8.0},\"nameSub\":\"MATH 1551\",\"id\":2,\"credits\":2,\"nameCanonical\":\"\"},{\"curriculum_requisites\":[],\"name\":\" \",\"metrics\":{\"centrality\":0,\"complexity\":16.0,\"blocking factor\":10,\"delay factor\":6.0},\"nameSub\":\"MATH 1553\",\"id\":3,\"credits\":2,\"nameCanonical\":\"\"},{\"curriculum_requisites\":[],\"name\":\" \",\"metrics\":{\"centrality\":0,\"complexity\":17.0,\"blocking factor\":10,\"delay factor\":7.0},\"nameSub\":\"CS 1371\",\"id\":4,\"credits\":3,\"nameCanonical\":\"\"},{\"curriculum_requisites\":[],\"name\":\" \",\"metrics\":{\"centrality\":0,\"complexity\":1.0,\"blocking factor\":0,\"delay factor\":1.0},\"nameSub\":\"Wellness Elective\",\"id\":5,\"credits\":3,\"nameCanonical\":\"\"},{\"curriculum_requisites\":[],\"name\":\" \",\"metrics\":{\"centrality\":0,\"complexity\":3.0,\"blocking factor\":1,\"delay factor\":2.0},\"nameSub\":\"ENGL 1101\",\"id\":6,\"credits\":3,\"nameCanonical\":\"\"}],\"id\":1},{\"name\":\"Term 2\",\"curriculum_items\":[{\"curriculum_requisites\":[{\"source_id\":2,\"target_id\":7,\"type\":\"CurriculumPrerequisite\"}],\"name\":\" \",\"metrics\":{\"centrality\":29,\"complexity\":17.0,\"blocking factor\":9,\"delay factor\":8.0},\"nameSub\":\"PHYS 2211\",\"id\":7,\"credits\":4,\"nameCanonical\":\"\"},{\"curriculum_requisites\":[{\"source_id\":2,\"target_id\":8,\"type\":\"CurriculumPrerequisite\"}],\"name\":\" \",\"metrics\":{\"centrality\":34,\"complexity\":17.0,\"blocking factor\":10,\"delay factor\":7.0},\"nameSub\":\"MATH 1552\",\"id\":8,\"credits\":4,\"nameCanonical\":\"\"},{\"curriculum_requisites\":[{\"source_id\":4,\"target_id\":9,\"type\":\"CurriculumPrerequisite\"}],\"name\":\" \",\"metrics\":{\"centrality\":11,\"complexity\":13.0,\"blocking factor\":6,\"delay factor\":7.0},\"nameSub\":\"ECE 2020\",\"id\":9,\"credits\":3,\"nameCanonical\":\"\"},{\"curriculum_requisites\":[],\"name\":\" \",\"metrics\":{\"centrality\":0,\"complexity\":1.0,\"blocking factor\":0,\"delay factor\":1.0},\"nameSub\":\"History/Government Elective\",\"id\":10,\"credits\":3,\"nameCanonical\":\"\"},{\"curriculum_requisites\":[{\"source_id\":6,\"target_id\":11,\"type\":\"CurriculumPrerequisite\"}],\"name\":\" \",\"metrics\":{\"centrality\":0,\"complexity\":2.0,\"blocking factor\":0,\"delay factor\":2.0},\"nameSub\":\"ENGL 1102\",\"id\":11,\"credits\":3,\"nameCanonical\":\"\"}],\"id\":2},{\"name\":\"Term 3\",\"curriculum_items\":[{\"curriculum_requisites\":[{\"source_id\":7,\"target_id\":12,\"type\":\"CurriculumPrerequisite\"}],\"name\":\" \",\"metrics\":{\"centrality\":29,\"complexity\":16.0,\"blocking factor\":8,\"delay factor\":8.0},\"nameSub\":\"PHYS 2212\",\"id\":12,\"credits\":4,\"nameCanonical\":\"\"},{\"curriculum_requisites\":[{\"source_id\":3,\"target_id\":13,\"type\":\"CurriculumPrerequisite\"},{\"source_id\":8,\"target_id\":13,\"type\":\"CurriculumPrerequisite\"}],\"name\":\" \",\"metrics\":{\"centrality\":0,\"complexity\":3.0,\"blocking factor\":0,\"delay factor\":3.0},\"nameSub\":\"MATH 2552\",\"id\":13,\"credits\":4,\"nameCanonical\":\"\"},{\"curriculum_requisites\":[{\"source_id\":4,\"target_id\":14,\"type\":\"CurriculumPrerequisite\"},{\"source_id\":3,\"target_id\":14,\"type\":\"CurriculumPrerequisite\"},{\"source_id\":8,\"target_id\":14,\"type\":\"CurriculumPrerequisite\"}],\"name\":\" \",\"metrics\":{\"centrality\":32,\"complexity\":10.0,\"blocking factor\":4,\"delay factor\":6.0},\"nameSub\":\"ECE 2026\",\"id\":14,\"credits\":3,\"nameCanonical\":\"\"},{\"curriculum_requisites\":[],\"name\":\" \",\"metrics\":{\"centrality\":0,\"complexity\":5.0,\"blocking factor\":2,\"delay factor\":3.0},\"nameSub\":\"Economics Elective\",\"id\":15,\"credits\":3,\"nameCanonical\":\"\"},{\"curriculum_requisites\":[],\"name\":\" \",\"metrics\":{\"centrality\":0,\"complexity\":1.0,\"blocking factor\":0,\"delay factor\":1.0},\"nameSub\":\"Social Sciences Elective\",\"id\":16,\"credits\":3,\"nameCanonical\":\"\"}],\"id\":3},{\"name\":\"Term 4\",\"curriculum_items\":[{\"curriculum_requisites\":[],\"name\":\" \",\"metrics\":{\"centrality\":0,\"complexity\":1.0,\"blocking factor\":0,\"delay factor\":1.0},\"nameSub\":\"Science Elective\",\"id\":17,\"credits\":3,\"nameCanonical\":\"\"},{\"curriculum_requisites\":[{\"source_id\":3,\"target_id\":18,\"type\":\"CurriculumPrerequisite\"},{\"source_id\":8,\"target_id\":18,\"type\":\"CurriculumPrerequisite\"}],\"name\":\" \",\"metrics\":{\"centrality\":35,\"complexity\":13.0,\"blocking factor\":6,\"delay factor\":7.0},\"nameSub\":\"MATH 2551\",\"id\":18,\"credits\":4,\"nameCanonical\":\"\"},{\"curriculum_requisites\":[{\"source_id\":12,\"target_id\":19,\"type\":\"CurriculumPrerequisite\"}],\"name\":\" \",\"metrics\":{\"centrality\":29,\"complexity\":15.0,\"blocking factor\":7,\"delay factor\":8.0},\"nameSub\":\"ECE 2040\",\"id\":19,\"credits\":3,\"nameCanonical\":\"\"},{\"curriculum_requisites\":[{\"source_id\":9,\"target_id\":20,\"type\":\"CurriculumPrerequisite\"}],\"name\":\" \",\"metrics\":{\"centrality\":11,\"complexity\":12.0,\"blocking factor\":5,\"delay factor\":7.0},\"nameSub\":\"ECE 2031\",\"id\":20,\"credits\":2,\"nameCanonical\":\"\"},{\"curriculum_requisites\":[{\"source_id\":20,\"target_id\":21,\"type\":\"CurriculumCorequisite\"}],\"name\":\" \",\"metrics\":{\"centrality\":0,\"complexity\":4.0,\"blocking factor\":0,\"delay factor\":4.0},\"nameSub\":\"Programming Elective\",\"id\":21,\"credits\":3,\"nameCanonical\":\"\"}],\"id\":4},{\"name\":\"Term 5\",\"curriculum_items\":[{\"curriculum_requisites\":[],\"name\":\" \",\"metrics\":{\"centrality\":0,\"complexity\":1.0,\"blocking factor\":0,\"delay factor\":1.0},\"nameSub\":\"Humanities Elective\",\"id\":22,\"credits\":3,\"nameCanonical\":\"\"},{\"curriculum_requisites\":[{\"source_id\":20,\"target_id\":23,\"type\":\"CurriculumPrerequisite\"},{\"source_id\":1,\"target_id\":23,\"type\":\"CurriculumPrerequisite\"},{\"source_id\":19,\"target_id\":23,\"type\":\"CurriculumPrerequisite\"},{\"source_id\":18,\"target_id\":23,\"type\":\"CurriculumPrerequisite\"}],\"name\":\" \",\"metrics\":{\"centrality\":33,\"complexity\":11.0,\"blocking factor\":3,\"delay factor\":8.0},\"nameSub\":\"ECE 3040\",\"id\":23,\"credits\":4,\"nameCanonical\":\"\"},{\"curriculum_requisites\":[{\"source_id\":23,\"target_id\":24,\"type\":\"CurriculumCorequisite\"}],\"name\":\" \",\"metrics\":{\"centrality\":33,\"complexity\":10.0,\"blocking factor\":2,\"delay factor\":8.0},\"nameSub\":\"ECE 3043\",\"id\":24,\"credits\":2,\"nameCanonical\":\"\"},{\"curriculum_requisites\":[{\"source_id\":14,\"target_id\":25,\"type\":\"CurriculumPrerequisite\"},{\"source_id\":19,\"target_id\":25,\"type\":\"CurriculumPrerequisite\"},{\"source_id\":18,\"target_id\":25,\"type\":\"CurriculumPrerequisite\"}],\"name\":\" \",\"metrics\":{\"centrality\":34,\"complexity\":9.0,\"blocking factor\":2,\"delay factor\":7.0},\"nameSub\":\"ECE 3025\",\"id\":25,\"credits\":3,\"nameCanonical\":\"\"},{\"curriculum_requisites\":[{\"source_id\":14,\"target_id\":26,\"type\":\"CurriculumPrerequisite\"},{\"source_id\":19,\"target_id\":26,\"type\":\"CurriculumPrerequisite\"}],\"name\":\" \",\"metrics\":{\"centrality\":23,\"complexity\":9.0,\"blocking factor\":2,\"delay factor\":7.0},\"nameSub\":\"ECE 3084\",\"id\":26,\"credits\":3,\"nameCanonical\":\"\"},{\"curriculum_requisites\":[],\"name\":\" \",\"metrics\":{\"centrality\":0,\"complexity\":1.0,\"blocking factor\":0,\"delay factor\":1.0},\"nameSub\":\"Social Sciences Elective\",\"id\":27,\"credits\":3,\"nameCanonical\":\"\"}],\"id\":5},{\"name\":\"Term 6\",\"curriculum_items\":[{\"curriculum_requisites\":[],\"name\":\" \",\"metrics\":{\"centrality\":0,\"complexity\":1.0,\"blocking factor\":0,\"delay factor\":1.0},\"nameSub\":\"ECE/Approved Engineering Elective\",\"id\":28,\"credits\":3,\"nameCanonical\":\"\"},{\"curriculum_requisites\":[{\"source_id\":18,\"target_id\":29,\"type\":\"CurriculumPrerequisite\"}],\"name\":\" \",\"metrics\":{\"centrality\":11,\"complexity\":8.0,\"blocking factor\":2,\"delay factor\":6.0},\"nameSub\":\"Prob/Stat ECE/App/Engr Elective\",\"id\":29,\"credits\":3,\"nameCanonical\":\"\"},{\"curriculum_requisites\":[],\"name\":\" \",\"metrics\":{\"centrality\":0,\"complexity\":1.0,\"blocking factor\":0,\"delay factor\":1.0},\"nameSub\":\"ECE Elective\",\"id\":30,\"credits\":3,\"nameCanonical\":\"\"},{\"curriculum_requisites\":[],\"name\":\" \",\"metrics\":{\"centrality\":0,\"complexity\":1.0,\"blocking factor\":0,\"delay factor\":1.0},\"nameSub\":\"ECE Elective\",\"id\":31,\"credits\":3,\"nameCanonical\":\"\"},{\"curriculum_requisites\":[{\"source_id\":19,\"target_id\":32,\"type\":\"CurriculumPrerequisite\"}],\"name\":\" \",\"metrics\":{\"centrality\":7,\"complexity\":9.0,\"blocking factor\":2,\"delay factor\":7.0},\"nameSub\":\"ECE 3072\",\"id\":32,\"credits\":3,\"nameCanonical\":\"\"},{\"curriculum_requisites\":[],\"name\":\" \",\"metrics\":{\"centrality\":0,\"complexity\":1.0,\"blocking factor\":0,\"delay factor\":1.0},\"nameSub\":\"Approved Elective\",\"id\":33,\"credits\":3,\"nameCanonical\":\"\"}],\"id\":6},{\"name\":\"Term 7\",\"curriculum_items\":[{\"curriculum_requisites\":[],\"name\":\" \",\"metrics\":{\"centrality\":0,\"complexity\":1.0,\"blocking factor\":0,\"delay factor\":1.0},\"nameSub\":\"Engineering Elective\",\"id\":34,\"credits\":3,\"nameCanonical\":\"\"},{\"curriculum_requisites\":[],\"name\":\" \",\"metrics\":{\"centrality\":0,\"complexity\":1.0,\"blocking factor\":0,\"delay factor\":1.0},\"nameSub\":\"ECE Elective\",\"id\":35,\"credits\":3,\"nameCanonical\":\"\"},{\"curriculum_requisites\":[{\"source_id\":26,\"target_id\":36,\"type\":\"CurriculumPrerequisite\"},{\"source_id\":25,\"target_id\":36,\"type\":\"CurriculumPrerequisite\"},{\"source_id\":32,\"target_id\":36,\"type\":\"CurriculumPrerequisite\"},{\"source_id\":29,\"target_id\":36,\"type\":\"CurriculumPrerequisite\"},{\"source_id\":15,\"target_id\":36,\"type\":\"CurriculumPrerequisite\"},{\"source_id\":24,\"target_id\":36,\"type\":\"CurriculumPrerequisite\"}],\"name\":\" \",\"metrics\":{\"centrality\":111,\"complexity\":9.0,\"blocking factor\":1,\"delay factor\":8.0},\"nameSub\":\"ECE 4011\",\"id\":36,\"credits\":2,\"nameCanonical\":\"\"},{\"curriculum_requisites\":[],\"name\":\" \",\"metrics\":{\"centrality\":0,\"complexity\":1.0,\"blocking factor\":0,\"delay factor\":1.0},\"nameSub\":\"ECE 4XXX Elective\",\"id\":37,\"credits\":3,\"nameCanonical\":\"\"},{\"curriculum_requisites\":[],\"name\":\" \",\"metrics\":{\"centrality\":0,\"complexity\":1.0,\"blocking factor\":0,\"delay factor\":1.0},\"nameSub\":\"ECE 4XXX Lab Elective\",\"id\":38,\"credits\":3,\"nameCanonical\":\"\"},{\"curriculum_requisites\":[],\"name\":\" \",\"metrics\":{\"centrality\":0,\"complexity\":1.0,\"blocking factor\":0,\"delay factor\":1.0},\"nameSub\":\"Approved Elective\",\"id\":39,\"credits\":3,\"nameCanonical\":\"\"}],\"id\":7},{\"name\":\"Term 8\",\"curriculum_items\":[{\"curriculum_requisites\":[],\"name\":\" \",\"metrics\":{\"centrality\":0,\"complexity\":1.0,\"blocking factor\":0,\"delay factor\":1.0},\"nameSub\":\"Humanities Elective\",\"id\":40,\"credits\":3,\"nameCanonical\":\"\"},{\"curriculum_requisites\":[{\"source_id\":36,\"target_id\":41,\"type\":\"CurriculumPrerequisite\"}],\"name\":\" \",\"metrics\":{\"centrality\":0,\"complexity\":8.0,\"blocking factor\":0,\"delay factor\":8.0},\"nameSub\":\"ECE 4012\",\"id\":41,\"credits\":3,\"nameCanonical\":\"\"},{\"curriculum_requisites\":[],\"name\":\" \",\"metrics\":{\"centrality\":0,\"complexity\":1.0,\"blocking factor\":0,\"delay factor\":1.0},\"nameSub\":\"ECE 4XXX Elective\",\"id\":42,\"credits\":3,\"nameCanonical\":\"\"},{\"curriculum_requisites\":[],\"name\":\" \",\"metrics\":{\"centrality\":0,\"complexity\":1.0,\"blocking factor\":0,\"delay factor\":1.0},\"nameSub\":\"Approved Elective\",\"id\":43,\"credits\":3,\"nameCanonical\":\"\"},{\"curriculum_requisites\":[],\"name\":\" \",\"metrics\":{\"centrality\":0,\"complexity\":1.0,\"blocking factor\":0,\"delay factor\":1.0},\"nameSub\":\"Approved Elective\",\"id\":44,\"credits\":3,\"nameCanonical\":\"\"}],\"id\":8}],\"institution\":\"Georgia Institute of Technology\"}},\"*\"); window.removeEventListener(\"message\",window.messageReceived); window.messageReceived=(function (event){return (event.data.curriculum!==undefined) ? (WebIO.setval({\"name\":\"curriculum-data\",\"scope\":\"6100023023446266692\",\"id\":\"12729795887537221061\",\"type\":\"observable\"},event.data.curriculum)) : undefined}); return window.addEventListener(\"message\",window.messageReceived)})"
          },
          "id": "curriculum",
          "src": "http://localhost:8156",
          "style": {
           "border": "none",
           "height": "100vh",
           "margin": "0",
           "padding": "0",
           "width": "100%"
          }
         },
         "type": "node"
        }
       ],
       "instanceArgs": {
        "handlers": {},
        "id": "6100023023446266692",
        "imports": {
         "data": [],
         "type": "async_block"
        },
        "mount_callbacks": [],
        "observables": {
         "curriculum-data": {
          "id": "12729795887537221061",
          "sync": true,
          "value": {
           "curriculum": {
            "curriculum_terms": [
             {
              "curriculum_items": [
               {
                "credits": 4,
                "curriculum_requisites": [],
                "id": 1,
                "metrics": {
                 "blocking factor": 4,
                 "centrality": 0,
                 "complexity": 9,
                 "delay factor": 5
                },
                "name": " ",
                "nameCanonical": "",
                "nameSub": "CHEM 1310"
               },
               {
                "credits": 2,
                "curriculum_requisites": [],
                "id": 2,
                "metrics": {
                 "blocking factor": 15,
                 "centrality": 0,
                 "complexity": 23,
                 "delay factor": 8
                },
                "name": " ",
                "nameCanonical": "",
                "nameSub": "MATH 1551"
               },
               {
                "credits": 2,
                "curriculum_requisites": [],
                "id": 3,
                "metrics": {
                 "blocking factor": 10,
                 "centrality": 0,
                 "complexity": 16,
                 "delay factor": 6
                },
                "name": " ",
                "nameCanonical": "",
                "nameSub": "MATH 1553"
               },
               {
                "credits": 3,
                "curriculum_requisites": [],
                "id": 4,
                "metrics": {
                 "blocking factor": 10,
                 "centrality": 0,
                 "complexity": 17,
                 "delay factor": 7
                },
                "name": " ",
                "nameCanonical": "",
                "nameSub": "CS 1371"
               },
               {
                "credits": 3,
                "curriculum_requisites": [],
                "id": 5,
                "metrics": {
                 "blocking factor": 0,
                 "centrality": 0,
                 "complexity": 1,
                 "delay factor": 1
                },
                "name": " ",
                "nameCanonical": "",
                "nameSub": "Wellness Elective"
               },
               {
                "credits": 3,
                "curriculum_requisites": [],
                "id": 6,
                "metrics": {
                 "blocking factor": 1,
                 "centrality": 0,
                 "complexity": 3,
                 "delay factor": 2
                },
                "name": " ",
                "nameCanonical": "",
                "nameSub": "ENGL 1101"
               }
              ],
              "id": 1,
              "name": "Term 1"
             },
             {
              "curriculum_items": [
               {
                "credits": 4,
                "curriculum_requisites": [
                 {
                  "source_id": 2,
                  "target_id": 7,
                  "type": "CurriculumPrerequisite"
                 }
                ],
                "id": 7,
                "metrics": {
                 "blocking factor": 9,
                 "centrality": 29,
                 "complexity": 17,
                 "delay factor": 8
                },
                "name": " ",
                "nameCanonical": "",
                "nameSub": "PHYS 2211"
               },
               {
                "credits": 4,
                "curriculum_requisites": [
                 {
                  "source_id": 2,
                  "target_id": 8,
                  "type": "CurriculumPrerequisite"
                 }
                ],
                "id": 8,
                "metrics": {
                 "blocking factor": 10,
                 "centrality": 34,
                 "complexity": 17,
                 "delay factor": 7
                },
                "name": " ",
                "nameCanonical": "",
                "nameSub": "MATH 1552"
               },
               {
                "credits": 3,
                "curriculum_requisites": [
                 {
                  "source_id": 4,
                  "target_id": 9,
                  "type": "CurriculumPrerequisite"
                 }
                ],
                "id": 9,
                "metrics": {
                 "blocking factor": 6,
                 "centrality": 11,
                 "complexity": 13,
                 "delay factor": 7
                },
                "name": " ",
                "nameCanonical": "",
                "nameSub": "ECE 2020"
               },
               {
                "credits": 3,
                "curriculum_requisites": [],
                "id": 10,
                "metrics": {
                 "blocking factor": 0,
                 "centrality": 0,
                 "complexity": 1,
                 "delay factor": 1
                },
                "name": " ",
                "nameCanonical": "",
                "nameSub": "History/Government Elective"
               },
               {
                "credits": 3,
                "curriculum_requisites": [
                 {
                  "source_id": 6,
                  "target_id": 11,
                  "type": "CurriculumPrerequisite"
                 }
                ],
                "id": 11,
                "metrics": {
                 "blocking factor": 0,
                 "centrality": 0,
                 "complexity": 2,
                 "delay factor": 2
                },
                "name": " ",
                "nameCanonical": "",
                "nameSub": "ENGL 1102"
               }
              ],
              "id": 2,
              "name": "Term 2"
             },
             {
              "curriculum_items": [
               {
                "credits": 4,
                "curriculum_requisites": [
                 {
                  "source_id": 7,
                  "target_id": 12,
                  "type": "CurriculumPrerequisite"
                 }
                ],
                "id": 12,
                "metrics": {
                 "blocking factor": 8,
                 "centrality": 29,
                 "complexity": 16,
                 "delay factor": 8
                },
                "name": " ",
                "nameCanonical": "",
                "nameSub": "PHYS 2212"
               },
               {
                "credits": 4,
                "curriculum_requisites": [
                 {
                  "source_id": 3,
                  "target_id": 13,
                  "type": "CurriculumPrerequisite"
                 },
                 {
                  "source_id": 8,
                  "target_id": 13,
                  "type": "CurriculumPrerequisite"
                 }
                ],
                "id": 13,
                "metrics": {
                 "blocking factor": 0,
                 "centrality": 0,
                 "complexity": 3,
                 "delay factor": 3
                },
                "name": " ",
                "nameCanonical": "",
                "nameSub": "MATH 2552"
               },
               {
                "credits": 3,
                "curriculum_requisites": [
                 {
                  "source_id": 4,
                  "target_id": 14,
                  "type": "CurriculumPrerequisite"
                 },
                 {
                  "source_id": 3,
                  "target_id": 14,
                  "type": "CurriculumPrerequisite"
                 },
                 {
                  "source_id": 8,
                  "target_id": 14,
                  "type": "CurriculumPrerequisite"
                 }
                ],
                "id": 14,
                "metrics": {
                 "blocking factor": 4,
                 "centrality": 32,
                 "complexity": 10,
                 "delay factor": 6
                },
                "name": " ",
                "nameCanonical": "",
                "nameSub": "ECE 2026"
               },
               {
                "credits": 3,
                "curriculum_requisites": [],
                "id": 15,
                "metrics": {
                 "blocking factor": 2,
                 "centrality": 0,
                 "complexity": 5,
                 "delay factor": 3
                },
                "name": " ",
                "nameCanonical": "",
                "nameSub": "Economics Elective"
               },
               {
                "credits": 3,
                "curriculum_requisites": [],
                "id": 16,
                "metrics": {
                 "blocking factor": 0,
                 "centrality": 0,
                 "complexity": 1,
                 "delay factor": 1
                },
                "name": " ",
                "nameCanonical": "",
                "nameSub": "Social Sciences Elective"
               }
              ],
              "id": 3,
              "name": "Term 3"
             },
             {
              "curriculum_items": [
               {
                "credits": 3,
                "curriculum_requisites": [],
                "id": 17,
                "metrics": {
                 "blocking factor": 0,
                 "centrality": 0,
                 "complexity": 1,
                 "delay factor": 1
                },
                "name": " ",
                "nameCanonical": "",
                "nameSub": "Science Elective"
               },
               {
                "credits": 4,
                "curriculum_requisites": [
                 {
                  "source_id": 3,
                  "target_id": 18,
                  "type": "CurriculumPrerequisite"
                 },
                 {
                  "source_id": 8,
                  "target_id": 18,
                  "type": "CurriculumPrerequisite"
                 }
                ],
                "id": 18,
                "metrics": {
                 "blocking factor": 6,
                 "centrality": 35,
                 "complexity": 13,
                 "delay factor": 7
                },
                "name": " ",
                "nameCanonical": "",
                "nameSub": "MATH 2551"
               },
               {
                "credits": 3,
                "curriculum_requisites": [
                 {
                  "source_id": 12,
                  "target_id": 19,
                  "type": "CurriculumPrerequisite"
                 }
                ],
                "id": 19,
                "metrics": {
                 "blocking factor": 7,
                 "centrality": 29,
                 "complexity": 15,
                 "delay factor": 8
                },
                "name": " ",
                "nameCanonical": "",
                "nameSub": "ECE 2040"
               },
               {
                "credits": 2,
                "curriculum_requisites": [
                 {
                  "source_id": 9,
                  "target_id": 20,
                  "type": "CurriculumPrerequisite"
                 }
                ],
                "id": 20,
                "metrics": {
                 "blocking factor": 5,
                 "centrality": 11,
                 "complexity": 12,
                 "delay factor": 7
                },
                "name": " ",
                "nameCanonical": "",
                "nameSub": "ECE 2031"
               },
               {
                "credits": 3,
                "curriculum_requisites": [
                 {
                  "source_id": 20,
                  "target_id": 21,
                  "type": "CurriculumCorequisite"
                 }
                ],
                "id": 21,
                "metrics": {
                 "blocking factor": 0,
                 "centrality": 0,
                 "complexity": 4,
                 "delay factor": 4
                },
                "name": " ",
                "nameCanonical": "",
                "nameSub": "Programming Elective"
               }
              ],
              "id": 4,
              "name": "Term 4"
             },
             {
              "curriculum_items": [
               {
                "credits": 3,
                "curriculum_requisites": [],
                "id": 22,
                "metrics": {
                 "blocking factor": 0,
                 "centrality": 0,
                 "complexity": 1,
                 "delay factor": 1
                },
                "name": " ",
                "nameCanonical": "",
                "nameSub": "Humanities Elective"
               },
               {
                "credits": 4,
                "curriculum_requisites": [
                 {
                  "source_id": 20,
                  "target_id": 23,
                  "type": "CurriculumPrerequisite"
                 },
                 {
                  "source_id": 1,
                  "target_id": 23,
                  "type": "CurriculumPrerequisite"
                 },
                 {
                  "source_id": 19,
                  "target_id": 23,
                  "type": "CurriculumPrerequisite"
                 },
                 {
                  "source_id": 18,
                  "target_id": 23,
                  "type": "CurriculumPrerequisite"
                 }
                ],
                "id": 23,
                "metrics": {
                 "blocking factor": 3,
                 "centrality": 33,
                 "complexity": 11,
                 "delay factor": 8
                },
                "name": " ",
                "nameCanonical": "",
                "nameSub": "ECE 3040"
               },
               {
                "credits": 2,
                "curriculum_requisites": [
                 {
                  "source_id": 23,
                  "target_id": 24,
                  "type": "CurriculumCorequisite"
                 }
                ],
                "id": 24,
                "metrics": {
                 "blocking factor": 2,
                 "centrality": 33,
                 "complexity": 10,
                 "delay factor": 8
                },
                "name": " ",
                "nameCanonical": "",
                "nameSub": "ECE 3043"
               },
               {
                "credits": 3,
                "curriculum_requisites": [
                 {
                  "source_id": 14,
                  "target_id": 25,
                  "type": "CurriculumPrerequisite"
                 },
                 {
                  "source_id": 19,
                  "target_id": 25,
                  "type": "CurriculumPrerequisite"
                 },
                 {
                  "source_id": 18,
                  "target_id": 25,
                  "type": "CurriculumPrerequisite"
                 }
                ],
                "id": 25,
                "metrics": {
                 "blocking factor": 2,
                 "centrality": 34,
                 "complexity": 9,
                 "delay factor": 7
                },
                "name": " ",
                "nameCanonical": "",
                "nameSub": "ECE 3025"
               },
               {
                "credits": 3,
                "curriculum_requisites": [
                 {
                  "source_id": 14,
                  "target_id": 26,
                  "type": "CurriculumPrerequisite"
                 },
                 {
                  "source_id": 19,
                  "target_id": 26,
                  "type": "CurriculumPrerequisite"
                 }
                ],
                "id": 26,
                "metrics": {
                 "blocking factor": 2,
                 "centrality": 23,
                 "complexity": 9,
                 "delay factor": 7
                },
                "name": " ",
                "nameCanonical": "",
                "nameSub": "ECE 3084"
               },
               {
                "credits": 3,
                "curriculum_requisites": [],
                "id": 27,
                "metrics": {
                 "blocking factor": 0,
                 "centrality": 0,
                 "complexity": 1,
                 "delay factor": 1
                },
                "name": " ",
                "nameCanonical": "",
                "nameSub": "Social Sciences Elective"
               }
              ],
              "id": 5,
              "name": "Term 5"
             },
             {
              "curriculum_items": [
               {
                "credits": 3,
                "curriculum_requisites": [],
                "id": 28,
                "metrics": {
                 "blocking factor": 0,
                 "centrality": 0,
                 "complexity": 1,
                 "delay factor": 1
                },
                "name": " ",
                "nameCanonical": "",
                "nameSub": "ECE/Approved Engineering Elective"
               },
               {
                "credits": 3,
                "curriculum_requisites": [
                 {
                  "source_id": 18,
                  "target_id": 29,
                  "type": "CurriculumPrerequisite"
                 }
                ],
                "id": 29,
                "metrics": {
                 "blocking factor": 2,
                 "centrality": 11,
                 "complexity": 8,
                 "delay factor": 6
                },
                "name": " ",
                "nameCanonical": "",
                "nameSub": "Prob/Stat ECE/App/Engr Elective"
               },
               {
                "credits": 3,
                "curriculum_requisites": [],
                "id": 30,
                "metrics": {
                 "blocking factor": 0,
                 "centrality": 0,
                 "complexity": 1,
                 "delay factor": 1
                },
                "name": " ",
                "nameCanonical": "",
                "nameSub": "ECE Elective"
               },
               {
                "credits": 3,
                "curriculum_requisites": [],
                "id": 31,
                "metrics": {
                 "blocking factor": 0,
                 "centrality": 0,
                 "complexity": 1,
                 "delay factor": 1
                },
                "name": " ",
                "nameCanonical": "",
                "nameSub": "ECE Elective"
               },
               {
                "credits": 3,
                "curriculum_requisites": [
                 {
                  "source_id": 19,
                  "target_id": 32,
                  "type": "CurriculumPrerequisite"
                 }
                ],
                "id": 32,
                "metrics": {
                 "blocking factor": 2,
                 "centrality": 7,
                 "complexity": 9,
                 "delay factor": 7
                },
                "name": " ",
                "nameCanonical": "",
                "nameSub": "ECE 3072"
               },
               {
                "credits": 3,
                "curriculum_requisites": [],
                "id": 33,
                "metrics": {
                 "blocking factor": 0,
                 "centrality": 0,
                 "complexity": 1,
                 "delay factor": 1
                },
                "name": " ",
                "nameCanonical": "",
                "nameSub": "Approved Elective"
               }
              ],
              "id": 6,
              "name": "Term 6"
             },
             {
              "curriculum_items": [
               {
                "credits": 3,
                "curriculum_requisites": [],
                "id": 34,
                "metrics": {
                 "blocking factor": 0,
                 "centrality": 0,
                 "complexity": 1,
                 "delay factor": 1
                },
                "name": " ",
                "nameCanonical": "",
                "nameSub": "Engineering Elective"
               },
               {
                "credits": 3,
                "curriculum_requisites": [],
                "id": 35,
                "metrics": {
                 "blocking factor": 0,
                 "centrality": 0,
                 "complexity": 1,
                 "delay factor": 1
                },
                "name": " ",
                "nameCanonical": "",
                "nameSub": "ECE Elective"
               },
               {
                "credits": 2,
                "curriculum_requisites": [
                 {
                  "source_id": 26,
                  "target_id": 36,
                  "type": "CurriculumPrerequisite"
                 },
                 {
                  "source_id": 25,
                  "target_id": 36,
                  "type": "CurriculumPrerequisite"
                 },
                 {
                  "source_id": 32,
                  "target_id": 36,
                  "type": "CurriculumPrerequisite"
                 },
                 {
                  "source_id": 29,
                  "target_id": 36,
                  "type": "CurriculumPrerequisite"
                 },
                 {
                  "source_id": 15,
                  "target_id": 36,
                  "type": "CurriculumPrerequisite"
                 },
                 {
                  "source_id": 24,
                  "target_id": 36,
                  "type": "CurriculumPrerequisite"
                 }
                ],
                "id": 36,
                "metrics": {
                 "blocking factor": 1,
                 "centrality": 111,
                 "complexity": 9,
                 "delay factor": 8
                },
                "name": " ",
                "nameCanonical": "",
                "nameSub": "ECE 4011"
               },
               {
                "credits": 3,
                "curriculum_requisites": [],
                "id": 37,
                "metrics": {
                 "blocking factor": 0,
                 "centrality": 0,
                 "complexity": 1,
                 "delay factor": 1
                },
                "name": " ",
                "nameCanonical": "",
                "nameSub": "ECE 4XXX Elective"
               },
               {
                "credits": 3,
                "curriculum_requisites": [],
                "id": 38,
                "metrics": {
                 "blocking factor": 0,
                 "centrality": 0,
                 "complexity": 1,
                 "delay factor": 1
                },
                "name": " ",
                "nameCanonical": "",
                "nameSub": "ECE 4XXX Lab Elective"
               },
               {
                "credits": 3,
                "curriculum_requisites": [],
                "id": 39,
                "metrics": {
                 "blocking factor": 0,
                 "centrality": 0,
                 "complexity": 1,
                 "delay factor": 1
                },
                "name": " ",
                "nameCanonical": "",
                "nameSub": "Approved Elective"
               }
              ],
              "id": 7,
              "name": "Term 7"
             },
             {
              "curriculum_items": [
               {
                "credits": 3,
                "curriculum_requisites": [],
                "id": 40,
                "metrics": {
                 "blocking factor": 0,
                 "centrality": 0,
                 "complexity": 1,
                 "delay factor": 1
                },
                "name": " ",
                "nameCanonical": "",
                "nameSub": "Humanities Elective"
               },
               {
                "credits": 3,
                "curriculum_requisites": [
                 {
                  "source_id": 36,
                  "target_id": 41,
                  "type": "CurriculumPrerequisite"
                 }
                ],
                "id": 41,
                "metrics": {
                 "blocking factor": 0,
                 "centrality": 0,
                 "complexity": 8,
                 "delay factor": 8
                },
                "name": " ",
                "nameCanonical": "",
                "nameSub": "ECE 4012"
               },
               {
                "credits": 3,
                "curriculum_requisites": [],
                "id": 42,
                "metrics": {
                 "blocking factor": 0,
                 "centrality": 0,
                 "complexity": 1,
                 "delay factor": 1
                },
                "name": " ",
                "nameCanonical": "",
                "nameSub": "ECE 4XXX Elective"
               },
               {
                "credits": 3,
                "curriculum_requisites": [],
                "id": 43,
                "metrics": {
                 "blocking factor": 0,
                 "centrality": 0,
                 "complexity": 1,
                 "delay factor": 1
                },
                "name": " ",
                "nameCanonical": "",
                "nameSub": "Approved Elective"
               },
               {
                "credits": 3,
                "curriculum_requisites": [],
                "id": 44,
                "metrics": {
                 "blocking factor": 0,
                 "centrality": 0,
                 "complexity": 1,
                 "delay factor": 1
                },
                "name": " ",
                "nameCanonical": "",
                "nameSub": "Approved Elective"
               }
              ],
              "id": 8,
              "name": "Term 8"
             }
            ],
            "dp_name": "2017-18 Plan",
            "institution": "Georgia Institute of Technology",
            "name": "Electrical Engineering"
           },
           "options": {
            "edit": false,
            "hideTerms": false
           }
          }
         }
        },
        "systemjs_options": null
       },
       "nodeType": "Scope",
       "props": {},
       "type": "node"
      },
      "text/html": [
       "<div\n",
       "    class=\"webio-mountpoint\"\n",
       "    data-webio-mountpoint=\"18392372468442658113\"\n",
       ">\n",
       "    <script>\n",
       "    if (window.require && require.defined && require.defined(\"nbextensions/webio-jupyter-notebook\")) {\n",
       "        console.log(\"Jupyter WebIO extension detected, not mounting.\");\n",
       "    } else if (window.WebIO) {\n",
       "        WebIO.mount(\n",
       "            document.querySelector('[data-webio-mountpoint=\"18392372468442658113\"]'),\n",
       "            {\"props\":{},\"nodeType\":\"Scope\",\"type\":\"node\",\"instanceArgs\":{\"imports\":{\"data\":[],\"type\":\"async_block\"},\"id\":\"6100023023446266692\",\"handlers\":{},\"systemjs_options\":null,\"mount_callbacks\":[],\"observables\":{\"curriculum-data\":{\"sync\":true,\"id\":\"12729795887537221061\",\"value\":{\"options\":{\"hideTerms\":false,\"edit\":false},\"curriculum\":{\"name\":\"Electrical Engineering\",\"dp_name\":\"2017-18 Plan\",\"curriculum_terms\":[{\"name\":\"Term 1\",\"curriculum_items\":[{\"curriculum_requisites\":[],\"name\":\" \",\"metrics\":{\"centrality\":0,\"complexity\":9.0,\"blocking factor\":4,\"delay factor\":5.0},\"nameSub\":\"CHEM 1310\",\"id\":1,\"credits\":4,\"nameCanonical\":\"\"},{\"curriculum_requisites\":[],\"name\":\" \",\"metrics\":{\"centrality\":0,\"complexity\":23.0,\"blocking factor\":15,\"delay factor\":8.0},\"nameSub\":\"MATH 1551\",\"id\":2,\"credits\":2,\"nameCanonical\":\"\"},{\"curriculum_requisites\":[],\"name\":\" \",\"metrics\":{\"centrality\":0,\"complexity\":16.0,\"blocking factor\":10,\"delay factor\":6.0},\"nameSub\":\"MATH 1553\",\"id\":3,\"credits\":2,\"nameCanonical\":\"\"},{\"curriculum_requisites\":[],\"name\":\" \",\"metrics\":{\"centrality\":0,\"complexity\":17.0,\"blocking factor\":10,\"delay factor\":7.0},\"nameSub\":\"CS 1371\",\"id\":4,\"credits\":3,\"nameCanonical\":\"\"},{\"curriculum_requisites\":[],\"name\":\" \",\"metrics\":{\"centrality\":0,\"complexity\":1.0,\"blocking factor\":0,\"delay factor\":1.0},\"nameSub\":\"Wellness Elective\",\"id\":5,\"credits\":3,\"nameCanonical\":\"\"},{\"curriculum_requisites\":[],\"name\":\" \",\"metrics\":{\"centrality\":0,\"complexity\":3.0,\"blocking factor\":1,\"delay factor\":2.0},\"nameSub\":\"ENGL 1101\",\"id\":6,\"credits\":3,\"nameCanonical\":\"\"}],\"id\":1},{\"name\":\"Term 2\",\"curriculum_items\":[{\"curriculum_requisites\":[{\"source_id\":2,\"target_id\":7,\"type\":\"CurriculumPrerequisite\"}],\"name\":\" \",\"metrics\":{\"centrality\":29,\"complexity\":17.0,\"blocking factor\":9,\"delay factor\":8.0},\"nameSub\":\"PHYS 2211\",\"id\":7,\"credits\":4,\"nameCanonical\":\"\"},{\"curriculum_requisites\":[{\"source_id\":2,\"target_id\":8,\"type\":\"CurriculumPrerequisite\"}],\"name\":\" \",\"metrics\":{\"centrality\":34,\"complexity\":17.0,\"blocking factor\":10,\"delay factor\":7.0},\"nameSub\":\"MATH 1552\",\"id\":8,\"credits\":4,\"nameCanonical\":\"\"},{\"curriculum_requisites\":[{\"source_id\":4,\"target_id\":9,\"type\":\"CurriculumPrerequisite\"}],\"name\":\" \",\"metrics\":{\"centrality\":11,\"complexity\":13.0,\"blocking factor\":6,\"delay factor\":7.0},\"nameSub\":\"ECE 2020\",\"id\":9,\"credits\":3,\"nameCanonical\":\"\"},{\"curriculum_requisites\":[],\"name\":\" \",\"metrics\":{\"centrality\":0,\"complexity\":1.0,\"blocking factor\":0,\"delay factor\":1.0},\"nameSub\":\"History\\/Government Elective\",\"id\":10,\"credits\":3,\"nameCanonical\":\"\"},{\"curriculum_requisites\":[{\"source_id\":6,\"target_id\":11,\"type\":\"CurriculumPrerequisite\"}],\"name\":\" \",\"metrics\":{\"centrality\":0,\"complexity\":2.0,\"blocking factor\":0,\"delay factor\":2.0},\"nameSub\":\"ENGL 1102\",\"id\":11,\"credits\":3,\"nameCanonical\":\"\"}],\"id\":2},{\"name\":\"Term 3\",\"curriculum_items\":[{\"curriculum_requisites\":[{\"source_id\":7,\"target_id\":12,\"type\":\"CurriculumPrerequisite\"}],\"name\":\" \",\"metrics\":{\"centrality\":29,\"complexity\":16.0,\"blocking factor\":8,\"delay factor\":8.0},\"nameSub\":\"PHYS 2212\",\"id\":12,\"credits\":4,\"nameCanonical\":\"\"},{\"curriculum_requisites\":[{\"source_id\":3,\"target_id\":13,\"type\":\"CurriculumPrerequisite\"},{\"source_id\":8,\"target_id\":13,\"type\":\"CurriculumPrerequisite\"}],\"name\":\" \",\"metrics\":{\"centrality\":0,\"complexity\":3.0,\"blocking factor\":0,\"delay factor\":3.0},\"nameSub\":\"MATH 2552\",\"id\":13,\"credits\":4,\"nameCanonical\":\"\"},{\"curriculum_requisites\":[{\"source_id\":4,\"target_id\":14,\"type\":\"CurriculumPrerequisite\"},{\"source_id\":3,\"target_id\":14,\"type\":\"CurriculumPrerequisite\"},{\"source_id\":8,\"target_id\":14,\"type\":\"CurriculumPrerequisite\"}],\"name\":\" \",\"metrics\":{\"centrality\":32,\"complexity\":10.0,\"blocking factor\":4,\"delay factor\":6.0},\"nameSub\":\"ECE 2026\",\"id\":14,\"credits\":3,\"nameCanonical\":\"\"},{\"curriculum_requisites\":[],\"name\":\" \",\"metrics\":{\"centrality\":0,\"complexity\":5.0,\"blocking factor\":2,\"delay factor\":3.0},\"nameSub\":\"Economics Elective\",\"id\":15,\"credits\":3,\"nameCanonical\":\"\"},{\"curriculum_requisites\":[],\"name\":\" \",\"metrics\":{\"centrality\":0,\"complexity\":1.0,\"blocking factor\":0,\"delay factor\":1.0},\"nameSub\":\"Social Sciences Elective\",\"id\":16,\"credits\":3,\"nameCanonical\":\"\"}],\"id\":3},{\"name\":\"Term 4\",\"curriculum_items\":[{\"curriculum_requisites\":[],\"name\":\" \",\"metrics\":{\"centrality\":0,\"complexity\":1.0,\"blocking factor\":0,\"delay factor\":1.0},\"nameSub\":\"Science Elective\",\"id\":17,\"credits\":3,\"nameCanonical\":\"\"},{\"curriculum_requisites\":[{\"source_id\":3,\"target_id\":18,\"type\":\"CurriculumPrerequisite\"},{\"source_id\":8,\"target_id\":18,\"type\":\"CurriculumPrerequisite\"}],\"name\":\" \",\"metrics\":{\"centrality\":35,\"complexity\":13.0,\"blocking factor\":6,\"delay factor\":7.0},\"nameSub\":\"MATH 2551\",\"id\":18,\"credits\":4,\"nameCanonical\":\"\"},{\"curriculum_requisites\":[{\"source_id\":12,\"target_id\":19,\"type\":\"CurriculumPrerequisite\"}],\"name\":\" \",\"metrics\":{\"centrality\":29,\"complexity\":15.0,\"blocking factor\":7,\"delay factor\":8.0},\"nameSub\":\"ECE 2040\",\"id\":19,\"credits\":3,\"nameCanonical\":\"\"},{\"curriculum_requisites\":[{\"source_id\":9,\"target_id\":20,\"type\":\"CurriculumPrerequisite\"}],\"name\":\" \",\"metrics\":{\"centrality\":11,\"complexity\":12.0,\"blocking factor\":5,\"delay factor\":7.0},\"nameSub\":\"ECE 2031\",\"id\":20,\"credits\":2,\"nameCanonical\":\"\"},{\"curriculum_requisites\":[{\"source_id\":20,\"target_id\":21,\"type\":\"CurriculumCorequisite\"}],\"name\":\" \",\"metrics\":{\"centrality\":0,\"complexity\":4.0,\"blocking factor\":0,\"delay factor\":4.0},\"nameSub\":\"Programming Elective\",\"id\":21,\"credits\":3,\"nameCanonical\":\"\"}],\"id\":4},{\"name\":\"Term 5\",\"curriculum_items\":[{\"curriculum_requisites\":[],\"name\":\" \",\"metrics\":{\"centrality\":0,\"complexity\":1.0,\"blocking factor\":0,\"delay factor\":1.0},\"nameSub\":\"Humanities Elective\",\"id\":22,\"credits\":3,\"nameCanonical\":\"\"},{\"curriculum_requisites\":[{\"source_id\":20,\"target_id\":23,\"type\":\"CurriculumPrerequisite\"},{\"source_id\":1,\"target_id\":23,\"type\":\"CurriculumPrerequisite\"},{\"source_id\":19,\"target_id\":23,\"type\":\"CurriculumPrerequisite\"},{\"source_id\":18,\"target_id\":23,\"type\":\"CurriculumPrerequisite\"}],\"name\":\" \",\"metrics\":{\"centrality\":33,\"complexity\":11.0,\"blocking factor\":3,\"delay factor\":8.0},\"nameSub\":\"ECE 3040\",\"id\":23,\"credits\":4,\"nameCanonical\":\"\"},{\"curriculum_requisites\":[{\"source_id\":23,\"target_id\":24,\"type\":\"CurriculumCorequisite\"}],\"name\":\" \",\"metrics\":{\"centrality\":33,\"complexity\":10.0,\"blocking factor\":2,\"delay factor\":8.0},\"nameSub\":\"ECE 3043\",\"id\":24,\"credits\":2,\"nameCanonical\":\"\"},{\"curriculum_requisites\":[{\"source_id\":14,\"target_id\":25,\"type\":\"CurriculumPrerequisite\"},{\"source_id\":19,\"target_id\":25,\"type\":\"CurriculumPrerequisite\"},{\"source_id\":18,\"target_id\":25,\"type\":\"CurriculumPrerequisite\"}],\"name\":\" \",\"metrics\":{\"centrality\":34,\"complexity\":9.0,\"blocking factor\":2,\"delay factor\":7.0},\"nameSub\":\"ECE 3025\",\"id\":25,\"credits\":3,\"nameCanonical\":\"\"},{\"curriculum_requisites\":[{\"source_id\":14,\"target_id\":26,\"type\":\"CurriculumPrerequisite\"},{\"source_id\":19,\"target_id\":26,\"type\":\"CurriculumPrerequisite\"}],\"name\":\" \",\"metrics\":{\"centrality\":23,\"complexity\":9.0,\"blocking factor\":2,\"delay factor\":7.0},\"nameSub\":\"ECE 3084\",\"id\":26,\"credits\":3,\"nameCanonical\":\"\"},{\"curriculum_requisites\":[],\"name\":\" \",\"metrics\":{\"centrality\":0,\"complexity\":1.0,\"blocking factor\":0,\"delay factor\":1.0},\"nameSub\":\"Social Sciences Elective\",\"id\":27,\"credits\":3,\"nameCanonical\":\"\"}],\"id\":5},{\"name\":\"Term 6\",\"curriculum_items\":[{\"curriculum_requisites\":[],\"name\":\" \",\"metrics\":{\"centrality\":0,\"complexity\":1.0,\"blocking factor\":0,\"delay factor\":1.0},\"nameSub\":\"ECE\\/Approved Engineering Elective\",\"id\":28,\"credits\":3,\"nameCanonical\":\"\"},{\"curriculum_requisites\":[{\"source_id\":18,\"target_id\":29,\"type\":\"CurriculumPrerequisite\"}],\"name\":\" \",\"metrics\":{\"centrality\":11,\"complexity\":8.0,\"blocking factor\":2,\"delay factor\":6.0},\"nameSub\":\"Prob\\/Stat ECE\\/App\\/Engr Elective\",\"id\":29,\"credits\":3,\"nameCanonical\":\"\"},{\"curriculum_requisites\":[],\"name\":\" \",\"metrics\":{\"centrality\":0,\"complexity\":1.0,\"blocking factor\":0,\"delay factor\":1.0},\"nameSub\":\"ECE Elective\",\"id\":30,\"credits\":3,\"nameCanonical\":\"\"},{\"curriculum_requisites\":[],\"name\":\" \",\"metrics\":{\"centrality\":0,\"complexity\":1.0,\"blocking factor\":0,\"delay factor\":1.0},\"nameSub\":\"ECE Elective\",\"id\":31,\"credits\":3,\"nameCanonical\":\"\"},{\"curriculum_requisites\":[{\"source_id\":19,\"target_id\":32,\"type\":\"CurriculumPrerequisite\"}],\"name\":\" \",\"metrics\":{\"centrality\":7,\"complexity\":9.0,\"blocking factor\":2,\"delay factor\":7.0},\"nameSub\":\"ECE 3072\",\"id\":32,\"credits\":3,\"nameCanonical\":\"\"},{\"curriculum_requisites\":[],\"name\":\" \",\"metrics\":{\"centrality\":0,\"complexity\":1.0,\"blocking factor\":0,\"delay factor\":1.0},\"nameSub\":\"Approved Elective\",\"id\":33,\"credits\":3,\"nameCanonical\":\"\"}],\"id\":6},{\"name\":\"Term 7\",\"curriculum_items\":[{\"curriculum_requisites\":[],\"name\":\" \",\"metrics\":{\"centrality\":0,\"complexity\":1.0,\"blocking factor\":0,\"delay factor\":1.0},\"nameSub\":\"Engineering Elective\",\"id\":34,\"credits\":3,\"nameCanonical\":\"\"},{\"curriculum_requisites\":[],\"name\":\" \",\"metrics\":{\"centrality\":0,\"complexity\":1.0,\"blocking factor\":0,\"delay factor\":1.0},\"nameSub\":\"ECE Elective\",\"id\":35,\"credits\":3,\"nameCanonical\":\"\"},{\"curriculum_requisites\":[{\"source_id\":26,\"target_id\":36,\"type\":\"CurriculumPrerequisite\"},{\"source_id\":25,\"target_id\":36,\"type\":\"CurriculumPrerequisite\"},{\"source_id\":32,\"target_id\":36,\"type\":\"CurriculumPrerequisite\"},{\"source_id\":29,\"target_id\":36,\"type\":\"CurriculumPrerequisite\"},{\"source_id\":15,\"target_id\":36,\"type\":\"CurriculumPrerequisite\"},{\"source_id\":24,\"target_id\":36,\"type\":\"CurriculumPrerequisite\"}],\"name\":\" \",\"metrics\":{\"centrality\":111,\"complexity\":9.0,\"blocking factor\":1,\"delay factor\":8.0},\"nameSub\":\"ECE 4011\",\"id\":36,\"credits\":2,\"nameCanonical\":\"\"},{\"curriculum_requisites\":[],\"name\":\" \",\"metrics\":{\"centrality\":0,\"complexity\":1.0,\"blocking factor\":0,\"delay factor\":1.0},\"nameSub\":\"ECE 4XXX Elective\",\"id\":37,\"credits\":3,\"nameCanonical\":\"\"},{\"curriculum_requisites\":[],\"name\":\" \",\"metrics\":{\"centrality\":0,\"complexity\":1.0,\"blocking factor\":0,\"delay factor\":1.0},\"nameSub\":\"ECE 4XXX Lab Elective\",\"id\":38,\"credits\":3,\"nameCanonical\":\"\"},{\"curriculum_requisites\":[],\"name\":\" \",\"metrics\":{\"centrality\":0,\"complexity\":1.0,\"blocking factor\":0,\"delay factor\":1.0},\"nameSub\":\"Approved Elective\",\"id\":39,\"credits\":3,\"nameCanonical\":\"\"}],\"id\":7},{\"name\":\"Term 8\",\"curriculum_items\":[{\"curriculum_requisites\":[],\"name\":\" \",\"metrics\":{\"centrality\":0,\"complexity\":1.0,\"blocking factor\":0,\"delay factor\":1.0},\"nameSub\":\"Humanities Elective\",\"id\":40,\"credits\":3,\"nameCanonical\":\"\"},{\"curriculum_requisites\":[{\"source_id\":36,\"target_id\":41,\"type\":\"CurriculumPrerequisite\"}],\"name\":\" \",\"metrics\":{\"centrality\":0,\"complexity\":8.0,\"blocking factor\":0,\"delay factor\":8.0},\"nameSub\":\"ECE 4012\",\"id\":41,\"credits\":3,\"nameCanonical\":\"\"},{\"curriculum_requisites\":[],\"name\":\" \",\"metrics\":{\"centrality\":0,\"complexity\":1.0,\"blocking factor\":0,\"delay factor\":1.0},\"nameSub\":\"ECE 4XXX Elective\",\"id\":42,\"credits\":3,\"nameCanonical\":\"\"},{\"curriculum_requisites\":[],\"name\":\" \",\"metrics\":{\"centrality\":0,\"complexity\":1.0,\"blocking factor\":0,\"delay factor\":1.0},\"nameSub\":\"Approved Elective\",\"id\":43,\"credits\":3,\"nameCanonical\":\"\"},{\"curriculum_requisites\":[],\"name\":\" \",\"metrics\":{\"centrality\":0,\"complexity\":1.0,\"blocking factor\":0,\"delay factor\":1.0},\"nameSub\":\"Approved Elective\",\"id\":44,\"credits\":3,\"nameCanonical\":\"\"}],\"id\":8}],\"institution\":\"Georgia Institute of Technology\"}}}}},\"children\":[{\"props\":{\"src\":\"http:\\/\\/localhost:8156\",\"id\":\"curriculum\",\"events\":{\"load\":\"(function (){this.contentWindow.postMessage({\\\"options\\\":{\\\"hideTerms\\\":false,\\\"edit\\\":false},\\\"curriculum\\\":{\\\"name\\\":\\\"Electrical Engineering\\\",\\\"dp_name\\\":\\\"2017-18 Plan\\\",\\\"curriculum_terms\\\":[{\\\"name\\\":\\\"Term 1\\\",\\\"curriculum_items\\\":[{\\\"curriculum_requisites\\\":[],\\\"name\\\":\\\" \\\",\\\"metrics\\\":{\\\"centrality\\\":0,\\\"complexity\\\":9.0,\\\"blocking factor\\\":4,\\\"delay factor\\\":5.0},\\\"nameSub\\\":\\\"CHEM 1310\\\",\\\"id\\\":1,\\\"credits\\\":4,\\\"nameCanonical\\\":\\\"\\\"},{\\\"curriculum_requisites\\\":[],\\\"name\\\":\\\" \\\",\\\"metrics\\\":{\\\"centrality\\\":0,\\\"complexity\\\":23.0,\\\"blocking factor\\\":15,\\\"delay factor\\\":8.0},\\\"nameSub\\\":\\\"MATH 1551\\\",\\\"id\\\":2,\\\"credits\\\":2,\\\"nameCanonical\\\":\\\"\\\"},{\\\"curriculum_requisites\\\":[],\\\"name\\\":\\\" \\\",\\\"metrics\\\":{\\\"centrality\\\":0,\\\"complexity\\\":16.0,\\\"blocking factor\\\":10,\\\"delay factor\\\":6.0},\\\"nameSub\\\":\\\"MATH 1553\\\",\\\"id\\\":3,\\\"credits\\\":2,\\\"nameCanonical\\\":\\\"\\\"},{\\\"curriculum_requisites\\\":[],\\\"name\\\":\\\" \\\",\\\"metrics\\\":{\\\"centrality\\\":0,\\\"complexity\\\":17.0,\\\"blocking factor\\\":10,\\\"delay factor\\\":7.0},\\\"nameSub\\\":\\\"CS 1371\\\",\\\"id\\\":4,\\\"credits\\\":3,\\\"nameCanonical\\\":\\\"\\\"},{\\\"curriculum_requisites\\\":[],\\\"name\\\":\\\" \\\",\\\"metrics\\\":{\\\"centrality\\\":0,\\\"complexity\\\":1.0,\\\"blocking factor\\\":0,\\\"delay factor\\\":1.0},\\\"nameSub\\\":\\\"Wellness Elective\\\",\\\"id\\\":5,\\\"credits\\\":3,\\\"nameCanonical\\\":\\\"\\\"},{\\\"curriculum_requisites\\\":[],\\\"name\\\":\\\" \\\",\\\"metrics\\\":{\\\"centrality\\\":0,\\\"complexity\\\":3.0,\\\"blocking factor\\\":1,\\\"delay factor\\\":2.0},\\\"nameSub\\\":\\\"ENGL 1101\\\",\\\"id\\\":6,\\\"credits\\\":3,\\\"nameCanonical\\\":\\\"\\\"}],\\\"id\\\":1},{\\\"name\\\":\\\"Term 2\\\",\\\"curriculum_items\\\":[{\\\"curriculum_requisites\\\":[{\\\"source_id\\\":2,\\\"target_id\\\":7,\\\"type\\\":\\\"CurriculumPrerequisite\\\"}],\\\"name\\\":\\\" \\\",\\\"metrics\\\":{\\\"centrality\\\":29,\\\"complexity\\\":17.0,\\\"blocking factor\\\":9,\\\"delay factor\\\":8.0},\\\"nameSub\\\":\\\"PHYS 2211\\\",\\\"id\\\":7,\\\"credits\\\":4,\\\"nameCanonical\\\":\\\"\\\"},{\\\"curriculum_requisites\\\":[{\\\"source_id\\\":2,\\\"target_id\\\":8,\\\"type\\\":\\\"CurriculumPrerequisite\\\"}],\\\"name\\\":\\\" \\\",\\\"metrics\\\":{\\\"centrality\\\":34,\\\"complexity\\\":17.0,\\\"blocking factor\\\":10,\\\"delay factor\\\":7.0},\\\"nameSub\\\":\\\"MATH 1552\\\",\\\"id\\\":8,\\\"credits\\\":4,\\\"nameCanonical\\\":\\\"\\\"},{\\\"curriculum_requisites\\\":[{\\\"source_id\\\":4,\\\"target_id\\\":9,\\\"type\\\":\\\"CurriculumPrerequisite\\\"}],\\\"name\\\":\\\" \\\",\\\"metrics\\\":{\\\"centrality\\\":11,\\\"complexity\\\":13.0,\\\"blocking factor\\\":6,\\\"delay factor\\\":7.0},\\\"nameSub\\\":\\\"ECE 2020\\\",\\\"id\\\":9,\\\"credits\\\":3,\\\"nameCanonical\\\":\\\"\\\"},{\\\"curriculum_requisites\\\":[],\\\"name\\\":\\\" \\\",\\\"metrics\\\":{\\\"centrality\\\":0,\\\"complexity\\\":1.0,\\\"blocking factor\\\":0,\\\"delay factor\\\":1.0},\\\"nameSub\\\":\\\"History\\/Government Elective\\\",\\\"id\\\":10,\\\"credits\\\":3,\\\"nameCanonical\\\":\\\"\\\"},{\\\"curriculum_requisites\\\":[{\\\"source_id\\\":6,\\\"target_id\\\":11,\\\"type\\\":\\\"CurriculumPrerequisite\\\"}],\\\"name\\\":\\\" \\\",\\\"metrics\\\":{\\\"centrality\\\":0,\\\"complexity\\\":2.0,\\\"blocking factor\\\":0,\\\"delay factor\\\":2.0},\\\"nameSub\\\":\\\"ENGL 1102\\\",\\\"id\\\":11,\\\"credits\\\":3,\\\"nameCanonical\\\":\\\"\\\"}],\\\"id\\\":2},{\\\"name\\\":\\\"Term 3\\\",\\\"curriculum_items\\\":[{\\\"curriculum_requisites\\\":[{\\\"source_id\\\":7,\\\"target_id\\\":12,\\\"type\\\":\\\"CurriculumPrerequisite\\\"}],\\\"name\\\":\\\" \\\",\\\"metrics\\\":{\\\"centrality\\\":29,\\\"complexity\\\":16.0,\\\"blocking factor\\\":8,\\\"delay factor\\\":8.0},\\\"nameSub\\\":\\\"PHYS 2212\\\",\\\"id\\\":12,\\\"credits\\\":4,\\\"nameCanonical\\\":\\\"\\\"},{\\\"curriculum_requisites\\\":[{\\\"source_id\\\":3,\\\"target_id\\\":13,\\\"type\\\":\\\"CurriculumPrerequisite\\\"},{\\\"source_id\\\":8,\\\"target_id\\\":13,\\\"type\\\":\\\"CurriculumPrerequisite\\\"}],\\\"name\\\":\\\" \\\",\\\"metrics\\\":{\\\"centrality\\\":0,\\\"complexity\\\":3.0,\\\"blocking factor\\\":0,\\\"delay factor\\\":3.0},\\\"nameSub\\\":\\\"MATH 2552\\\",\\\"id\\\":13,\\\"credits\\\":4,\\\"nameCanonical\\\":\\\"\\\"},{\\\"curriculum_requisites\\\":[{\\\"source_id\\\":4,\\\"target_id\\\":14,\\\"type\\\":\\\"CurriculumPrerequisite\\\"},{\\\"source_id\\\":3,\\\"target_id\\\":14,\\\"type\\\":\\\"CurriculumPrerequisite\\\"},{\\\"source_id\\\":8,\\\"target_id\\\":14,\\\"type\\\":\\\"CurriculumPrerequisite\\\"}],\\\"name\\\":\\\" \\\",\\\"metrics\\\":{\\\"centrality\\\":32,\\\"complexity\\\":10.0,\\\"blocking factor\\\":4,\\\"delay factor\\\":6.0},\\\"nameSub\\\":\\\"ECE 2026\\\",\\\"id\\\":14,\\\"credits\\\":3,\\\"nameCanonical\\\":\\\"\\\"},{\\\"curriculum_requisites\\\":[],\\\"name\\\":\\\" \\\",\\\"metrics\\\":{\\\"centrality\\\":0,\\\"complexity\\\":5.0,\\\"blocking factor\\\":2,\\\"delay factor\\\":3.0},\\\"nameSub\\\":\\\"Economics Elective\\\",\\\"id\\\":15,\\\"credits\\\":3,\\\"nameCanonical\\\":\\\"\\\"},{\\\"curriculum_requisites\\\":[],\\\"name\\\":\\\" \\\",\\\"metrics\\\":{\\\"centrality\\\":0,\\\"complexity\\\":1.0,\\\"blocking factor\\\":0,\\\"delay factor\\\":1.0},\\\"nameSub\\\":\\\"Social Sciences Elective\\\",\\\"id\\\":16,\\\"credits\\\":3,\\\"nameCanonical\\\":\\\"\\\"}],\\\"id\\\":3},{\\\"name\\\":\\\"Term 4\\\",\\\"curriculum_items\\\":[{\\\"curriculum_requisites\\\":[],\\\"name\\\":\\\" \\\",\\\"metrics\\\":{\\\"centrality\\\":0,\\\"complexity\\\":1.0,\\\"blocking factor\\\":0,\\\"delay factor\\\":1.0},\\\"nameSub\\\":\\\"Science Elective\\\",\\\"id\\\":17,\\\"credits\\\":3,\\\"nameCanonical\\\":\\\"\\\"},{\\\"curriculum_requisites\\\":[{\\\"source_id\\\":3,\\\"target_id\\\":18,\\\"type\\\":\\\"CurriculumPrerequisite\\\"},{\\\"source_id\\\":8,\\\"target_id\\\":18,\\\"type\\\":\\\"CurriculumPrerequisite\\\"}],\\\"name\\\":\\\" \\\",\\\"metrics\\\":{\\\"centrality\\\":35,\\\"complexity\\\":13.0,\\\"blocking factor\\\":6,\\\"delay factor\\\":7.0},\\\"nameSub\\\":\\\"MATH 2551\\\",\\\"id\\\":18,\\\"credits\\\":4,\\\"nameCanonical\\\":\\\"\\\"},{\\\"curriculum_requisites\\\":[{\\\"source_id\\\":12,\\\"target_id\\\":19,\\\"type\\\":\\\"CurriculumPrerequisite\\\"}],\\\"name\\\":\\\" \\\",\\\"metrics\\\":{\\\"centrality\\\":29,\\\"complexity\\\":15.0,\\\"blocking factor\\\":7,\\\"delay factor\\\":8.0},\\\"nameSub\\\":\\\"ECE 2040\\\",\\\"id\\\":19,\\\"credits\\\":3,\\\"nameCanonical\\\":\\\"\\\"},{\\\"curriculum_requisites\\\":[{\\\"source_id\\\":9,\\\"target_id\\\":20,\\\"type\\\":\\\"CurriculumPrerequisite\\\"}],\\\"name\\\":\\\" \\\",\\\"metrics\\\":{\\\"centrality\\\":11,\\\"complexity\\\":12.0,\\\"blocking factor\\\":5,\\\"delay factor\\\":7.0},\\\"nameSub\\\":\\\"ECE 2031\\\",\\\"id\\\":20,\\\"credits\\\":2,\\\"nameCanonical\\\":\\\"\\\"},{\\\"curriculum_requisites\\\":[{\\\"source_id\\\":20,\\\"target_id\\\":21,\\\"type\\\":\\\"CurriculumCorequisite\\\"}],\\\"name\\\":\\\" \\\",\\\"metrics\\\":{\\\"centrality\\\":0,\\\"complexity\\\":4.0,\\\"blocking factor\\\":0,\\\"delay factor\\\":4.0},\\\"nameSub\\\":\\\"Programming Elective\\\",\\\"id\\\":21,\\\"credits\\\":3,\\\"nameCanonical\\\":\\\"\\\"}],\\\"id\\\":4},{\\\"name\\\":\\\"Term 5\\\",\\\"curriculum_items\\\":[{\\\"curriculum_requisites\\\":[],\\\"name\\\":\\\" \\\",\\\"metrics\\\":{\\\"centrality\\\":0,\\\"complexity\\\":1.0,\\\"blocking factor\\\":0,\\\"delay factor\\\":1.0},\\\"nameSub\\\":\\\"Humanities Elective\\\",\\\"id\\\":22,\\\"credits\\\":3,\\\"nameCanonical\\\":\\\"\\\"},{\\\"curriculum_requisites\\\":[{\\\"source_id\\\":20,\\\"target_id\\\":23,\\\"type\\\":\\\"CurriculumPrerequisite\\\"},{\\\"source_id\\\":1,\\\"target_id\\\":23,\\\"type\\\":\\\"CurriculumPrerequisite\\\"},{\\\"source_id\\\":19,\\\"target_id\\\":23,\\\"type\\\":\\\"CurriculumPrerequisite\\\"},{\\\"source_id\\\":18,\\\"target_id\\\":23,\\\"type\\\":\\\"CurriculumPrerequisite\\\"}],\\\"name\\\":\\\" \\\",\\\"metrics\\\":{\\\"centrality\\\":33,\\\"complexity\\\":11.0,\\\"blocking factor\\\":3,\\\"delay factor\\\":8.0},\\\"nameSub\\\":\\\"ECE 3040\\\",\\\"id\\\":23,\\\"credits\\\":4,\\\"nameCanonical\\\":\\\"\\\"},{\\\"curriculum_requisites\\\":[{\\\"source_id\\\":23,\\\"target_id\\\":24,\\\"type\\\":\\\"CurriculumCorequisite\\\"}],\\\"name\\\":\\\" \\\",\\\"metrics\\\":{\\\"centrality\\\":33,\\\"complexity\\\":10.0,\\\"blocking factor\\\":2,\\\"delay factor\\\":8.0},\\\"nameSub\\\":\\\"ECE 3043\\\",\\\"id\\\":24,\\\"credits\\\":2,\\\"nameCanonical\\\":\\\"\\\"},{\\\"curriculum_requisites\\\":[{\\\"source_id\\\":14,\\\"target_id\\\":25,\\\"type\\\":\\\"CurriculumPrerequisite\\\"},{\\\"source_id\\\":19,\\\"target_id\\\":25,\\\"type\\\":\\\"CurriculumPrerequisite\\\"},{\\\"source_id\\\":18,\\\"target_id\\\":25,\\\"type\\\":\\\"CurriculumPrerequisite\\\"}],\\\"name\\\":\\\" \\\",\\\"metrics\\\":{\\\"centrality\\\":34,\\\"complexity\\\":9.0,\\\"blocking factor\\\":2,\\\"delay factor\\\":7.0},\\\"nameSub\\\":\\\"ECE 3025\\\",\\\"id\\\":25,\\\"credits\\\":3,\\\"nameCanonical\\\":\\\"\\\"},{\\\"curriculum_requisites\\\":[{\\\"source_id\\\":14,\\\"target_id\\\":26,\\\"type\\\":\\\"CurriculumPrerequisite\\\"},{\\\"source_id\\\":19,\\\"target_id\\\":26,\\\"type\\\":\\\"CurriculumPrerequisite\\\"}],\\\"name\\\":\\\" \\\",\\\"metrics\\\":{\\\"centrality\\\":23,\\\"complexity\\\":9.0,\\\"blocking factor\\\":2,\\\"delay factor\\\":7.0},\\\"nameSub\\\":\\\"ECE 3084\\\",\\\"id\\\":26,\\\"credits\\\":3,\\\"nameCanonical\\\":\\\"\\\"},{\\\"curriculum_requisites\\\":[],\\\"name\\\":\\\" \\\",\\\"metrics\\\":{\\\"centrality\\\":0,\\\"complexity\\\":1.0,\\\"blocking factor\\\":0,\\\"delay factor\\\":1.0},\\\"nameSub\\\":\\\"Social Sciences Elective\\\",\\\"id\\\":27,\\\"credits\\\":3,\\\"nameCanonical\\\":\\\"\\\"}],\\\"id\\\":5},{\\\"name\\\":\\\"Term 6\\\",\\\"curriculum_items\\\":[{\\\"curriculum_requisites\\\":[],\\\"name\\\":\\\" \\\",\\\"metrics\\\":{\\\"centrality\\\":0,\\\"complexity\\\":1.0,\\\"blocking factor\\\":0,\\\"delay factor\\\":1.0},\\\"nameSub\\\":\\\"ECE\\/Approved Engineering Elective\\\",\\\"id\\\":28,\\\"credits\\\":3,\\\"nameCanonical\\\":\\\"\\\"},{\\\"curriculum_requisites\\\":[{\\\"source_id\\\":18,\\\"target_id\\\":29,\\\"type\\\":\\\"CurriculumPrerequisite\\\"}],\\\"name\\\":\\\" \\\",\\\"metrics\\\":{\\\"centrality\\\":11,\\\"complexity\\\":8.0,\\\"blocking factor\\\":2,\\\"delay factor\\\":6.0},\\\"nameSub\\\":\\\"Prob\\/Stat ECE\\/App\\/Engr Elective\\\",\\\"id\\\":29,\\\"credits\\\":3,\\\"nameCanonical\\\":\\\"\\\"},{\\\"curriculum_requisites\\\":[],\\\"name\\\":\\\" \\\",\\\"metrics\\\":{\\\"centrality\\\":0,\\\"complexity\\\":1.0,\\\"blocking factor\\\":0,\\\"delay factor\\\":1.0},\\\"nameSub\\\":\\\"ECE Elective\\\",\\\"id\\\":30,\\\"credits\\\":3,\\\"nameCanonical\\\":\\\"\\\"},{\\\"curriculum_requisites\\\":[],\\\"name\\\":\\\" \\\",\\\"metrics\\\":{\\\"centrality\\\":0,\\\"complexity\\\":1.0,\\\"blocking factor\\\":0,\\\"delay factor\\\":1.0},\\\"nameSub\\\":\\\"ECE Elective\\\",\\\"id\\\":31,\\\"credits\\\":3,\\\"nameCanonical\\\":\\\"\\\"},{\\\"curriculum_requisites\\\":[{\\\"source_id\\\":19,\\\"target_id\\\":32,\\\"type\\\":\\\"CurriculumPrerequisite\\\"}],\\\"name\\\":\\\" \\\",\\\"metrics\\\":{\\\"centrality\\\":7,\\\"complexity\\\":9.0,\\\"blocking factor\\\":2,\\\"delay factor\\\":7.0},\\\"nameSub\\\":\\\"ECE 3072\\\",\\\"id\\\":32,\\\"credits\\\":3,\\\"nameCanonical\\\":\\\"\\\"},{\\\"curriculum_requisites\\\":[],\\\"name\\\":\\\" \\\",\\\"metrics\\\":{\\\"centrality\\\":0,\\\"complexity\\\":1.0,\\\"blocking factor\\\":0,\\\"delay factor\\\":1.0},\\\"nameSub\\\":\\\"Approved Elective\\\",\\\"id\\\":33,\\\"credits\\\":3,\\\"nameCanonical\\\":\\\"\\\"}],\\\"id\\\":6},{\\\"name\\\":\\\"Term 7\\\",\\\"curriculum_items\\\":[{\\\"curriculum_requisites\\\":[],\\\"name\\\":\\\" \\\",\\\"metrics\\\":{\\\"centrality\\\":0,\\\"complexity\\\":1.0,\\\"blocking factor\\\":0,\\\"delay factor\\\":1.0},\\\"nameSub\\\":\\\"Engineering Elective\\\",\\\"id\\\":34,\\\"credits\\\":3,\\\"nameCanonical\\\":\\\"\\\"},{\\\"curriculum_requisites\\\":[],\\\"name\\\":\\\" \\\",\\\"metrics\\\":{\\\"centrality\\\":0,\\\"complexity\\\":1.0,\\\"blocking factor\\\":0,\\\"delay factor\\\":1.0},\\\"nameSub\\\":\\\"ECE Elective\\\",\\\"id\\\":35,\\\"credits\\\":3,\\\"nameCanonical\\\":\\\"\\\"},{\\\"curriculum_requisites\\\":[{\\\"source_id\\\":26,\\\"target_id\\\":36,\\\"type\\\":\\\"CurriculumPrerequisite\\\"},{\\\"source_id\\\":25,\\\"target_id\\\":36,\\\"type\\\":\\\"CurriculumPrerequisite\\\"},{\\\"source_id\\\":32,\\\"target_id\\\":36,\\\"type\\\":\\\"CurriculumPrerequisite\\\"},{\\\"source_id\\\":29,\\\"target_id\\\":36,\\\"type\\\":\\\"CurriculumPrerequisite\\\"},{\\\"source_id\\\":15,\\\"target_id\\\":36,\\\"type\\\":\\\"CurriculumPrerequisite\\\"},{\\\"source_id\\\":24,\\\"target_id\\\":36,\\\"type\\\":\\\"CurriculumPrerequisite\\\"}],\\\"name\\\":\\\" \\\",\\\"metrics\\\":{\\\"centrality\\\":111,\\\"complexity\\\":9.0,\\\"blocking factor\\\":1,\\\"delay factor\\\":8.0},\\\"nameSub\\\":\\\"ECE 4011\\\",\\\"id\\\":36,\\\"credits\\\":2,\\\"nameCanonical\\\":\\\"\\\"},{\\\"curriculum_requisites\\\":[],\\\"name\\\":\\\" \\\",\\\"metrics\\\":{\\\"centrality\\\":0,\\\"complexity\\\":1.0,\\\"blocking factor\\\":0,\\\"delay factor\\\":1.0},\\\"nameSub\\\":\\\"ECE 4XXX Elective\\\",\\\"id\\\":37,\\\"credits\\\":3,\\\"nameCanonical\\\":\\\"\\\"},{\\\"curriculum_requisites\\\":[],\\\"name\\\":\\\" \\\",\\\"metrics\\\":{\\\"centrality\\\":0,\\\"complexity\\\":1.0,\\\"blocking factor\\\":0,\\\"delay factor\\\":1.0},\\\"nameSub\\\":\\\"ECE 4XXX Lab Elective\\\",\\\"id\\\":38,\\\"credits\\\":3,\\\"nameCanonical\\\":\\\"\\\"},{\\\"curriculum_requisites\\\":[],\\\"name\\\":\\\" \\\",\\\"metrics\\\":{\\\"centrality\\\":0,\\\"complexity\\\":1.0,\\\"blocking factor\\\":0,\\\"delay factor\\\":1.0},\\\"nameSub\\\":\\\"Approved Elective\\\",\\\"id\\\":39,\\\"credits\\\":3,\\\"nameCanonical\\\":\\\"\\\"}],\\\"id\\\":7},{\\\"name\\\":\\\"Term 8\\\",\\\"curriculum_items\\\":[{\\\"curriculum_requisites\\\":[],\\\"name\\\":\\\" \\\",\\\"metrics\\\":{\\\"centrality\\\":0,\\\"complexity\\\":1.0,\\\"blocking factor\\\":0,\\\"delay factor\\\":1.0},\\\"nameSub\\\":\\\"Humanities Elective\\\",\\\"id\\\":40,\\\"credits\\\":3,\\\"nameCanonical\\\":\\\"\\\"},{\\\"curriculum_requisites\\\":[{\\\"source_id\\\":36,\\\"target_id\\\":41,\\\"type\\\":\\\"CurriculumPrerequisite\\\"}],\\\"name\\\":\\\" \\\",\\\"metrics\\\":{\\\"centrality\\\":0,\\\"complexity\\\":8.0,\\\"blocking factor\\\":0,\\\"delay factor\\\":8.0},\\\"nameSub\\\":\\\"ECE 4012\\\",\\\"id\\\":41,\\\"credits\\\":3,\\\"nameCanonical\\\":\\\"\\\"},{\\\"curriculum_requisites\\\":[],\\\"name\\\":\\\" \\\",\\\"metrics\\\":{\\\"centrality\\\":0,\\\"complexity\\\":1.0,\\\"blocking factor\\\":0,\\\"delay factor\\\":1.0},\\\"nameSub\\\":\\\"ECE 4XXX Elective\\\",\\\"id\\\":42,\\\"credits\\\":3,\\\"nameCanonical\\\":\\\"\\\"},{\\\"curriculum_requisites\\\":[],\\\"name\\\":\\\" \\\",\\\"metrics\\\":{\\\"centrality\\\":0,\\\"complexity\\\":1.0,\\\"blocking factor\\\":0,\\\"delay factor\\\":1.0},\\\"nameSub\\\":\\\"Approved Elective\\\",\\\"id\\\":43,\\\"credits\\\":3,\\\"nameCanonical\\\":\\\"\\\"},{\\\"curriculum_requisites\\\":[],\\\"name\\\":\\\" \\\",\\\"metrics\\\":{\\\"centrality\\\":0,\\\"complexity\\\":1.0,\\\"blocking factor\\\":0,\\\"delay factor\\\":1.0},\\\"nameSub\\\":\\\"Approved Elective\\\",\\\"id\\\":44,\\\"credits\\\":3,\\\"nameCanonical\\\":\\\"\\\"}],\\\"id\\\":8}],\\\"institution\\\":\\\"Georgia Institute of Technology\\\"}},\\\"*\\\"); window.removeEventListener(\\\"message\\\",window.messageReceived); window.messageReceived=(function (event){return (event.data.curriculum!==undefined) ? (WebIO.setval({\\\"name\\\":\\\"curriculum-data\\\",\\\"scope\\\":\\\"6100023023446266692\\\",\\\"id\\\":\\\"12729795887537221061\\\",\\\"type\\\":\\\"observable\\\"},event.data.curriculum)) : undefined}); return window.addEventListener(\\\"message\\\",window.messageReceived)})\"},\"style\":{\"padding\":\"0\",\"height\":\"100vh\",\"margin\":\"0\",\"border\":\"none\",\"width\":\"100%\"}},\"nodeType\":\"DOM\",\"type\":\"node\",\"instanceArgs\":{\"namespace\":\"html\",\"tag\":\"iframe\"},\"children\":[\"\"]}]},\n",
       "            window,\n",
       "        );\n",
       "    } else {\n",
       "        document\n",
       "            .querySelector('[data-webio-mountpoint=\"18392372468442658113\"]')\n",
       "            .innerHTML = (\n",
       "                '<div style=\"padding: 1em; background-color: #f8d6da; border: 1px solid #f5c6cb\">' +\n",
       "                '<p><strong>WebIO not detected.</strong></p>' +\n",
       "                '<p>Please read ' +\n",
       "                '<a href=\"https://juliagizmos.github.io/WebIO.jl/latest/troubleshooting/not-detected/\" target=\"_blank\">the troubleshooting guide</a> ' +\n",
       "                'for more information on how to resolve this issue.</p>' +\n",
       "                '<p><a href=\"https://juliagizmos.github.io/WebIO.jl/latest/troubleshooting/not-detected/\" target=\"_blank\">https://juliagizmos.github.io/WebIO.jl/latest/troubleshooting/not-detected/</a></p>' +\n",
       "                '</div>'\n",
       "            );\n",
       "    }\n",
       "    </script>\n",
       "</div>\n"
      ],
      "text/plain": [
       "WebIO.Scope(WebIO.Node{WebIO.DOM}(WebIO.DOM(:html, :iframe), Any[\"\"], Dict{Symbol,Any}(:src => \"http://localhost:8156\",:id => \"curriculum\",:events => Dict{Symbol,WebIO.JSString}(:load => WebIO.JSString(\"(function (){this.contentWindow.postMessage({\\\"options\\\":{\\\"hideTerms\\\":false,\\\"edit\\\":false},\\\"curriculum\\\":{\\\"name\\\":\\\"Electrical Engineering\\\",\\\"dp_name\\\":\\\"2017-18 Plan\\\",\\\"curriculum_terms\\\":[{\\\"name\\\":\\\"Term 1\\\",\\\"curriculum_items\\\":[{\\\"curriculum_requisites\\\":[],\\\"name\\\":\\\" \\\",\\\"metrics\\\":{\\\"centrality\\\":0,\\\"complexity\\\":9.0,\\\"blocking factor\\\":4,\\\"delay factor\\\":5.0},\\\"nameSub\\\":\\\"CHEM 1310\\\",\\\"id\\\":1,\\\"credits\\\":4,\\\"nameCanonical\\\":\\\"\\\"},{\\\"curriculum_requisites\\\":[],\\\"name\\\":\\\" \\\",\\\"metrics\\\":{\\\"centrality\\\":0,\\\"complexity\\\":23.0,\\\"blocking factor\\\":15,\\\"delay factor\\\":8.0},\\\"nameSub\\\":\\\"MATH 1551\\\",\\\"id\\\":2,\\\"credits\\\":2,\\\"nameCanonical\\\":\\\"\\\"},{\\\"curriculum_requisites\\\":[],\\\"name\\\":\\\" \\\",\\\"metrics\\\":{\\\"centrality\\\":0,\\\"complexity\\\":16.0,\\\"blocking factor\\\":10,\\\"delay factor\\\":6.0},\\\"nameSub\\\":\\\"MATH 1553\\\",\\\"id\\\":3,\\\"credits\\\":2,\\\"nameCanonical\\\":\\\"\\\"},{\\\"curriculum_requisites\\\":[],\\\"name\\\":\\\" \\\",\\\"metrics\\\":{\\\"centrality\\\":0,\\\"complexity\\\":17.0,\\\"blocking factor\\\":10,\\\"delay factor\\\":7.0},\\\"nameSub\\\":\\\"CS 1371\\\",\\\"id\\\":4,\\\"credits\\\":3,\\\"nameCanonical\\\":\\\"\\\"},{\\\"curriculum_requisites\\\":[],\\\"name\\\":\\\" \\\",\\\"metrics\\\":{\\\"centrality\\\":0,\\\"complexity\\\":1.0,\\\"blocking factor\\\":0,\\\"delay factor\\\":1.0},\\\"nameSub\\\":\\\"Wellness Elective\\\",\\\"id\\\":5,\\\"credits\\\":3,\\\"nameCanonical\\\":\\\"\\\"},{\\\"curriculum_requisites\\\":[],\\\"name\\\":\\\" \\\",\\\"metrics\\\":{\\\"centrality\\\":0,\\\"complexity\\\":3.0,\\\"blocking factor\\\":1,\\\"delay factor\\\":2.0},\\\"nameSub\\\":\\\"ENGL 1101\\\",\\\"id\\\":6,\\\"credits\\\":3,\\\"nameCanonical\\\":\\\"\\\"}],\\\"id\\\":1},{\\\"name\\\":\\\"Term 2\\\",\\\"curriculum_items\\\":[{\\\"curriculum_requisites\\\":[{\\\"source_id\\\":2,\\\"target_id\\\":7,\\\"type\\\":\\\"CurriculumPrerequisite\\\"}],\\\"name\\\":\\\" \\\",\\\"metrics\\\":{\\\"centrality\\\":29,\\\"complexity\\\":17.0,\\\"blocking factor\\\":9,\\\"delay factor\\\":8.0},\\\"nameSub\\\":\\\"PHYS 2211\\\",\\\"id\\\":7,\\\"credits\\\":4,\\\"nameCanonical\\\":\\\"\\\"},{\\\"curriculum_requisites\\\":[{\\\"source_id\\\":2,\\\"target_id\\\":8,\\\"type\\\":\\\"CurriculumPrerequisite\\\"}],\\\"name\\\":\\\" \\\",\\\"metrics\\\":{\\\"centrality\\\":34,\\\"complexity\\\":17.0,\\\"blocking factor\\\":10,\\\"delay factor\\\":7.0},\\\"nameSub\\\":\\\"MATH 1552\\\",\\\"id\\\":8,\\\"credits\\\":4,\\\"nameCanonical\\\":\\\"\\\"},{\\\"curriculum_requisites\\\":[{\\\"source_id\\\":4,\\\"target_id\\\":9,\\\"type\\\":\\\"CurriculumPrerequisite\\\"}],\\\"name\\\":\\\" \\\",\\\"metrics\\\":{\\\"centrality\\\":11,\\\"complexity\\\":13.0,\\\"blocking factor\\\":6,\\\"delay factor\\\":7.0},\\\"nameSub\\\":\\\"ECE 2020\\\",\\\"id\\\":9,\\\"credits\\\":3,\\\"nameCanonical\\\":\\\"\\\"},{\\\"curriculum_requisites\\\":[],\\\"name\\\":\\\" \\\",\\\"metrics\\\":{\\\"centrality\\\":0,\\\"complexity\\\":1.0,\\\"blocking factor\\\":0,\\\"delay factor\\\":1.0},\\\"nameSub\\\":\\\"History/Government Elective\\\",\\\"id\\\":10,\\\"credits\\\":3,\\\"nameCanonical\\\":\\\"\\\"},{\\\"curriculum_requisites\\\":[{\\\"source_id\\\":6,\\\"target_id\\\":11,\\\"type\\\":\\\"CurriculumPrerequisite\\\"}],\\\"name\\\":\\\" \\\",\\\"metrics\\\":{\\\"centrality\\\":0,\\\"complexity\\\":2.0,\\\"blocking factor\\\":0,\\\"delay factor\\\":2.0},\\\"nameSub\\\":\\\"ENGL 1102\\\",\\\"id\\\":11,\\\"credits\\\":3,\\\"nameCanonical\\\":\\\"\\\"}],\\\"id\\\":2},{\\\"name\\\":\\\"Term 3\\\",\\\"curriculum_items\\\":[{\\\"curriculum_requisites\\\":[{\\\"source_id\\\":7,\\\"target_id\\\":12,\\\"type\\\":\\\"CurriculumPrerequisite\\\"}],\\\"name\\\":\\\" \\\",\\\"metrics\\\":{\\\"centrality\\\":29,\\\"complexity\\\":16.0,\\\"blocking factor\\\":8,\\\"delay factor\\\":8.0},\\\"nameSub\\\":\\\"PHYS 2212\\\",\\\"id\\\":12,\\\"credits\\\":4,\\\"nameCanonical\\\":\\\"\\\"},{\\\"curriculum_requisites\\\":[{\\\"source_id\\\":3,\\\"target_id\\\":13,\\\"type\\\":\\\"CurriculumPrerequisite\\\"},{\\\"source_id\\\":8,\\\"target_id\\\":13,\\\"type\\\":\\\"CurriculumPrerequisite\\\"}],\\\"name\\\":\\\" \\\",\\\"metrics\\\":{\\\"centrality\\\":0,\\\"complexity\\\":3.0,\\\"blocking factor\\\":0,\\\"delay factor\\\":3.0},\\\"nameSub\\\":\\\"MATH 2552\\\",\\\"id\\\":13,\\\"credits\\\":4,\\\"nameCanonical\\\":\\\"\\\"},{\\\"curriculum_requisites\\\":[{\\\"source_id\\\":4,\\\"target_id\\\":14,\\\"type\\\":\\\"CurriculumPrerequisite\\\"},{\\\"source_id\\\":3,\\\"target_id\\\":14,\\\"type\\\":\\\"CurriculumPrerequisite\\\"},{\\\"source_id\\\":8,\\\"target_id\\\":14,\\\"type\\\":\\\"CurriculumPrerequisite\\\"}],\\\"name\\\":\\\" \\\",\\\"metrics\\\":{\\\"centrality\\\":32,\\\"complexity\\\":10.0,\\\"blocking factor\\\":4,\\\"delay factor\\\":6.0},\\\"nameSub\\\":\\\"ECE 2026\\\",\\\"id\\\":14,\\\"credits\\\":3,\\\"nameCanonical\\\":\\\"\\\"},{\\\"curriculum_requisites\\\":[],\\\"name\\\":\\\" \\\",\\\"metrics\\\":{\\\"centrality\\\":0,\\\"complexity\\\":5.0,\\\"blocking factor\\\":2,\\\"delay factor\\\":3.0},\\\"nameSub\\\":\\\"Economics Elective\\\",\\\"id\\\":15,\\\"credits\\\":3,\\\"nameCanonical\\\":\\\"\\\"},{\\\"curriculum_requisites\\\":[],\\\"name\\\":\\\" \\\",\\\"metrics\\\":{\\\"centrality\\\":0,\\\"complexity\\\":1.0,\\\"blocking factor\\\":0,\\\"delay factor\\\":1.0},\\\"nameSub\\\":\\\"Social Sciences Elective\\\",\\\"id\\\":16,\\\"credits\\\":3,\\\"nameCanonical\\\":\\\"\\\"}],\\\"id\\\":3},{\\\"name\\\":\\\"Term 4\\\",\\\"curriculum_items\\\":[{\\\"curriculum_requisites\\\":[],\\\"name\\\":\\\" \\\",\\\"metrics\\\":{\\\"centrality\\\":0,\\\"complexity\\\":1.0,\\\"blocking factor\\\":0,\\\"delay factor\\\":1.0},\\\"nameSub\\\":\\\"Science Elective\\\",\\\"id\\\":17,\\\"credits\\\":3,\\\"nameCanonical\\\":\\\"\\\"},{\\\"curriculum_requisites\\\":[{\\\"source_id\\\":3,\\\"target_id\\\":18,\\\"type\\\":\\\"CurriculumPrerequisite\\\"},{\\\"source_id\\\":8,\\\"target_id\\\":18,\\\"type\\\":\\\"CurriculumPrerequisite\\\"}],\\\"name\\\":\\\" \\\",\\\"metrics\\\":{\\\"centrality\\\":35,\\\"complexity\\\":13.0,\\\"blocking factor\\\":6,\\\"delay factor\\\":7.0},\\\"nameSub\\\":\\\"MATH 2551\\\",\\\"id\\\":18,\\\"credits\\\":4,\\\"nameCanonical\\\":\\\"\\\"},{\\\"curriculum_requisites\\\":[{\\\"source_id\\\":12,\\\"target_id\\\":19,\\\"type\\\":\\\"CurriculumPrerequisite\\\"}],\\\"name\\\":\\\" \\\",\\\"metrics\\\":{\\\"centrality\\\":29,\\\"complexity\\\":15.0,\\\"blocking factor\\\":7,\\\"delay factor\\\":8.0},\\\"nameSub\\\":\\\"ECE 2040\\\",\\\"id\\\":19,\\\"credits\\\":3,\\\"nameCanonical\\\":\\\"\\\"},{\\\"curriculum_requisites\\\":[{\\\"source_id\\\":9,\\\"target_id\\\":20,\\\"type\\\":\\\"CurriculumPrerequisite\\\"}],\\\"name\\\":\\\" \\\",\\\"metrics\\\":{\\\"centrality\\\":11,\\\"complexity\\\":12.0,\\\"blocking factor\\\":5,\\\"delay factor\\\":7.0},\\\"nameSub\\\":\\\"ECE 2031\\\",\\\"id\\\":20,\\\"credits\\\":2,\\\"nameCanonical\\\":\\\"\\\"},{\\\"curriculum_requisites\\\":[{\\\"source_id\\\":20,\\\"target_id\\\":21,\\\"type\\\":\\\"CurriculumCorequisite\\\"}],\\\"name\\\":\\\" \\\",\\\"metrics\\\":{\\\"centrality\\\":0,\\\"complexity\\\":4.0,\\\"blocking factor\\\":0,\\\"delay factor\\\":4.0},\\\"nameSub\\\":\\\"Programming Elective\\\",\\\"id\\\":21,\\\"credits\\\":3,\\\"nameCanonical\\\":\\\"\\\"}],\\\"id\\\":4},{\\\"name\\\":\\\"Term 5\\\",\\\"curriculum_items\\\":[{\\\"curriculum_requisites\\\":[],\\\"name\\\":\\\" \\\",\\\"metrics\\\":{\\\"centrality\\\":0,\\\"complexity\\\":1.0,\\\"blocking factor\\\":0,\\\"delay factor\\\":1.0},\\\"nameSub\\\":\\\"Humanities Elective\\\",\\\"id\\\":22,\\\"credits\\\":3,\\\"nameCanonical\\\":\\\"\\\"},{\\\"curriculum_requisites\\\":[{\\\"source_id\\\":20,\\\"target_id\\\":23,\\\"type\\\":\\\"CurriculumPrerequisite\\\"},{\\\"source_id\\\":1,\\\"target_id\\\":23,\\\"type\\\":\\\"CurriculumPrerequisite\\\"},{\\\"source_id\\\":19,\\\"target_id\\\":23,\\\"type\\\":\\\"CurriculumPrerequisite\\\"},{\\\"source_id\\\":18,\\\"target_id\\\":23,\\\"type\\\":\\\"CurriculumPrerequisite\\\"}],\\\"name\\\":\\\" \\\",\\\"metrics\\\":{\\\"centrality\\\":33,\\\"complexity\\\":11.0,\\\"blocking factor\\\":3,\\\"delay factor\\\":8.0},\\\"nameSub\\\":\\\"ECE 3040\\\",\\\"id\\\":23,\\\"credits\\\":4,\\\"nameCanonical\\\":\\\"\\\"},{\\\"curriculum_requisites\\\":[{\\\"source_id\\\":23,\\\"target_id\\\":24,\\\"type\\\":\\\"CurriculumCorequisite\\\"}],\\\"name\\\":\\\" \\\",\\\"metrics\\\":{\\\"centrality\\\":33,\\\"complexity\\\":10.0,\\\"blocking factor\\\":2,\\\"delay factor\\\":8.0},\\\"nameSub\\\":\\\"ECE 3043\\\",\\\"id\\\":24,\\\"credits\\\":2,\\\"nameCanonical\\\":\\\"\\\"},{\\\"curriculum_requisites\\\":[{\\\"source_id\\\":14,\\\"target_id\\\":25,\\\"type\\\":\\\"CurriculumPrerequisite\\\"},{\\\"source_id\\\":19,\\\"target_id\\\":25,\\\"type\\\":\\\"CurriculumPrerequisite\\\"},{\\\"source_id\\\":18,\\\"target_id\\\":25,\\\"type\\\":\\\"CurriculumPrerequisite\\\"}],\\\"name\\\":\\\" \\\",\\\"metrics\\\":{\\\"centrality\\\":34,\\\"complexity\\\":9.0,\\\"blocking factor\\\":2,\\\"delay factor\\\":7.0},\\\"nameSub\\\":\\\"ECE 3025\\\",\\\"id\\\":25,\\\"credits\\\":3,\\\"nameCanonical\\\":\\\"\\\"},{\\\"curriculum_requisites\\\":[{\\\"source_id\\\":14,\\\"target_id\\\":26,\\\"type\\\":\\\"CurriculumPrerequisite\\\"},{\\\"source_id\\\":19,\\\"target_id\\\":26,\\\"type\\\":\\\"CurriculumPrerequisite\\\"}],\\\"name\\\":\\\" \\\",\\\"metrics\\\":{\\\"centrality\\\":23,\\\"complexity\\\":9.0,\\\"blocking factor\\\":2,\\\"delay factor\\\":7.0},\\\"nameSub\\\":\\\"ECE 3084\\\",\\\"id\\\":26,\\\"credits\\\":3,\\\"nameCanonical\\\":\\\"\\\"},{\\\"curriculum_requisites\\\":[],\\\"name\\\":\\\" \\\",\\\"metrics\\\":{\\\"centrality\\\":0,\\\"complexity\\\":1.0,\\\"blocking factor\\\":0,\\\"delay factor\\\":1.0},\\\"nameSub\\\":\\\"Social Sciences Elective\\\",\\\"id\\\":27,\\\"credits\\\":3,\\\"nameCanonical\\\":\\\"\\\"}],\\\"id\\\":5},{\\\"name\\\":\\\"Term 6\\\",\\\"curriculum_items\\\":[{\\\"curriculum_requisites\\\":[],\\\"name\\\":\\\" \\\",\\\"metrics\\\":{\\\"centrality\\\":0,\\\"complexity\\\":1.0,\\\"blocking factor\\\":0,\\\"delay factor\\\":1.0},\\\"nameSub\\\":\\\"ECE/Approved Engineering Elective\\\",\\\"id\\\":28,\\\"credits\\\":3,\\\"nameCanonical\\\":\\\"\\\"},{\\\"curriculum_requisites\\\":[{\\\"source_id\\\":18,\\\"target_id\\\":29,\\\"type\\\":\\\"CurriculumPrerequisite\\\"}],\\\"name\\\":\\\" \\\",\\\"metrics\\\":{\\\"centrality\\\":11,\\\"complexity\\\":8.0,\\\"blocking factor\\\":2,\\\"delay factor\\\":6.0},\\\"nameSub\\\":\\\"Prob/Stat ECE/App/Engr Elective\\\",\\\"id\\\":29,\\\"credits\\\":3,\\\"nameCanonical\\\":\\\"\\\"},{\\\"curriculum_requisites\\\":[],\\\"name\\\":\\\" \\\",\\\"metrics\\\":{\\\"centrality\\\":0,\\\"complexity\\\":1.0,\\\"blocking factor\\\":0,\\\"delay factor\\\":1.0},\\\"nameSub\\\":\\\"ECE Elective\\\",\\\"id\\\":30,\\\"credits\\\":3,\\\"nameCanonical\\\":\\\"\\\"},{\\\"curriculum_requisites\\\":[],\\\"name\\\":\\\" \\\",\\\"metrics\\\":{\\\"centrality\\\":0,\\\"complexity\\\":1.0,\\\"blocking factor\\\":0,\\\"delay factor\\\":1.0},\\\"nameSub\\\":\\\"ECE Elective\\\",\\\"id\\\":31,\\\"credits\\\":3,\\\"nameCanonical\\\":\\\"\\\"},{\\\"curriculum_requisites\\\":[{\\\"source_id\\\":19,\\\"target_id\\\":32,\\\"type\\\":\\\"CurriculumPrerequisite\\\"}],\\\"name\\\":\\\" \\\",\\\"metrics\\\":{\\\"centrality\\\":7,\\\"complexity\\\":9.0,\\\"blocking factor\\\":2,\\\"delay factor\\\":7.0},\\\"nameSub\\\":\\\"ECE 3072\\\",\\\"id\\\":32,\\\"credits\\\":3,\\\"nameCanonical\\\":\\\"\\\"},{\\\"curriculum_requisites\\\":[],\\\"name\\\":\\\" \\\",\\\"metrics\\\":{\\\"centrality\\\":0,\\\"complexity\\\":1.0,\\\"blocking factor\\\":0,\\\"delay factor\\\":1.0},\\\"nameSub\\\":\\\"Approved Elective\\\",\\\"id\\\":33,\\\"credits\\\":3,\\\"nameCanonical\\\":\\\"\\\"}],\\\"id\\\":6},{\\\"name\\\":\\\"Term 7\\\",\\\"curriculum_items\\\":[{\\\"curriculum_requisites\\\":[],\\\"name\\\":\\\" \\\",\\\"metrics\\\":{\\\"centrality\\\":0,\\\"complexity\\\":1.0,\\\"blocking factor\\\":0,\\\"delay factor\\\":1.0},\\\"nameSub\\\":\\\"Engineering Elective\\\",\\\"id\\\":34,\\\"credits\\\":3,\\\"nameCanonical\\\":\\\"\\\"},{\\\"curriculum_requisites\\\":[],\\\"name\\\":\\\" \\\",\\\"metrics\\\":{\\\"centrality\\\":0,\\\"complexity\\\":1.0,\\\"blocking factor\\\":0,\\\"delay factor\\\":1.0},\\\"nameSub\\\":\\\"ECE Elective\\\",\\\"id\\\":35,\\\"credits\\\":3,\\\"nameCanonical\\\":\\\"\\\"},{\\\"curriculum_requisites\\\":[{\\\"source_id\\\":26,\\\"target_id\\\":36,\\\"type\\\":\\\"CurriculumPrerequisite\\\"},{\\\"source_id\\\":25,\\\"target_id\\\":36,\\\"type\\\":\\\"CurriculumPrerequisite\\\"},{\\\"source_id\\\":32,\\\"target_id\\\":36,\\\"type\\\":\\\"CurriculumPrerequisite\\\"},{\\\"source_id\\\":29,\\\"target_id\\\":36,\\\"type\\\":\\\"CurriculumPrerequisite\\\"},{\\\"source_id\\\":15,\\\"target_id\\\":36,\\\"type\\\":\\\"CurriculumPrerequisite\\\"},{\\\"source_id\\\":24,\\\"target_id\\\":36,\\\"type\\\":\\\"CurriculumPrerequisite\\\"}],\\\"name\\\":\\\" \\\",\\\"metrics\\\":{\\\"centrality\\\":111,\\\"complexity\\\":9.0,\\\"blocking factor\\\":1,\\\"delay factor\\\":8.0},\\\"nameSub\\\":\\\"ECE 4011\\\",\\\"id\\\":36,\\\"credits\\\":2,\\\"nameCanonical\\\":\\\"\\\"},{\\\"curriculum_requisites\\\":[],\\\"name\\\":\\\" \\\",\\\"metrics\\\":{\\\"centrality\\\":0,\\\"complexity\\\":1.0,\\\"blocking factor\\\":0,\\\"delay factor\\\":1.0},\\\"nameSub\\\":\\\"ECE 4XXX Elective\\\",\\\"id\\\":37,\\\"credits\\\":3,\\\"nameCanonical\\\":\\\"\\\"},{\\\"curriculum_requisites\\\":[],\\\"name\\\":\\\" \\\",\\\"metrics\\\":{\\\"centrality\\\":0,\\\"complexity\\\":1.0,\\\"blocking factor\\\":0,\\\"delay factor\\\":1.0},\\\"nameSub\\\":\\\"ECE 4XXX Lab Elective\\\",\\\"id\\\":38,\\\"credits\\\":3,\\\"nameCanonical\\\":\\\"\\\"},{\\\"curriculum_requisites\\\":[],\\\"name\\\":\\\" \\\",\\\"metrics\\\":{\\\"centrality\\\":0,\\\"complexity\\\":1.0,\\\"blocking factor\\\":0,\\\"delay factor\\\":1.0},\\\"nameSub\\\":\\\"Approved Elective\\\",\\\"id\\\":39,\\\"credits\\\":3,\\\"nameCanonical\\\":\\\"\\\"}],\\\"id\\\":7},{\\\"name\\\":\\\"Term 8\\\",\\\"curriculum_items\\\":[{\\\"curriculum_requisites\\\":[],\\\"name\\\":\\\" \\\",\\\"metrics\\\":{\\\"centrality\\\":0,\\\"complexity\\\":1.0,\\\"blocking factor\\\":0,\\\"delay factor\\\":1.0},\\\"nameSub\\\":\\\"Humanities Elective\\\",\\\"id\\\":40,\\\"credits\\\":3,\\\"nameCanonical\\\":\\\"\\\"},{\\\"curriculum_requisites\\\":[{\\\"source_id\\\":36,\\\"target_id\\\":41,\\\"type\\\":\\\"CurriculumPrerequisite\\\"}],\\\"name\\\":\\\" \\\",\\\"metrics\\\":{\\\"centrality\\\":0,\\\"complexity\\\":8.0,\\\"blocking factor\\\":0,\\\"delay factor\\\":8.0},\\\"nameSub\\\":\\\"ECE 4012\\\",\\\"id\\\":41,\\\"credits\\\":3,\\\"nameCanonical\\\":\\\"\\\"},{\\\"curriculum_requisites\\\":[],\\\"name\\\":\\\" \\\",\\\"metrics\\\":{\\\"centrality\\\":0,\\\"complexity\\\":1.0,\\\"blocking factor\\\":0,\\\"delay factor\\\":1.0},\\\"nameSub\\\":\\\"ECE 4XXX Elective\\\",\\\"id\\\":42,\\\"credits\\\":3,\\\"nameCanonical\\\":\\\"\\\"},{\\\"curriculum_requisites\\\":[],\\\"name\\\":\\\" \\\",\\\"metrics\\\":{\\\"centrality\\\":0,\\\"complexity\\\":1.0,\\\"blocking factor\\\":0,\\\"delay factor\\\":1.0},\\\"nameSub\\\":\\\"Approved Elective\\\",\\\"id\\\":43,\\\"credits\\\":3,\\\"nameCanonical\\\":\\\"\\\"},{\\\"curriculum_requisites\\\":[],\\\"name\\\":\\\" \\\",\\\"metrics\\\":{\\\"centrality\\\":0,\\\"complexity\\\":1.0,\\\"blocking factor\\\":0,\\\"delay factor\\\":1.0},\\\"nameSub\\\":\\\"Approved Elective\\\",\\\"id\\\":44,\\\"credits\\\":3,\\\"nameCanonical\\\":\\\"\\\"}],\\\"id\\\":8}],\\\"institution\\\":\\\"Georgia Institute of Technology\\\"}},\\\"*\\\"); window.removeEventListener(\\\"message\\\",window.messageReceived); window.messageReceived=(function (event){return (event.data.curriculum!==undefined) ? (WebIO.setval({\\\"name\\\":\\\"curriculum-data\\\",\\\"scope\\\":\\\"6100023023446266692\\\",\\\"id\\\":\\\"12729795887537221061\\\",\\\"type\\\":\\\"observable\\\"},event.data.curriculum)) : undefined}); return window.addEventListener(\\\"message\\\",window.messageReceived)})\")),:style => Dict(:padding => \"0\",:height => \"100vh\",:margin => \"0\",:border => \"none\",:width => \"100%\"))), Dict{String,Tuple{Observables.AbstractObservable,Union{Nothing, Bool}}}(\"curriculum-data\" => (Observable{Dict{String,Any}} with 1 listeners. Value:\n",
       "Dict{String,Any}(\"options\" => Dict{String,Any}(\"hideTerms\" => false,\"edit\" => false),\"curriculum\" => Dict{String,Any}(\"name\" => \"Electrical Engineering\",\"dp_name\" => \"2017-18 Plan\",\"curriculum_terms\" => Dict{String,Any}[Dict(\"name\" => \"Term 1\",\"curriculum_items\" => Dict{String,Any}[Dict(\"curriculum_requisites\" => Dict{String,Any}[],\"name\" => \" \",\"metrics\" => Dict{String,Any}(\"centrality\" => 0,\"complexity\" => 9.0,\"blocking factor\" => 4,\"delay factor\" => 5.0),\"nameSub\" => \"CHEM 1310\",\"id\" => 1,\"credits\" => 4,\"nameCanonical\" => \"\"), Dict(\"curriculum_requisites\" => Dict{String,Any}[],\"name\" => \" \",\"metrics\" => Dict{String,Any}(\"centrality\" => 0,\"complexity\" => 23.0,\"blocking factor\" => 15,\"delay factor\" => 8.0),\"nameSub\" => \"MATH 1551\",\"id\" => 2,\"credits\" => 2,\"nameCanonical\" => \"\"), Dict(\"curriculum_requisites\" => Dict{String,Any}[],\"name\" => \" \",\"metrics\" => Dict{String,Any}(\"centrality\" => 0,\"complexity\" => 16.0,\"blocking factor\" => 10,\"delay factor\" => 6.0),\"nameSub\" => \"MATH 1553\",\"id\" => 3,\"credits\" => 2,\"nameCanonical\" => \"\"), Dict(\"curriculum_requisites\" => Dict{String,Any}[],\"name\" => \" \",\"metrics\" => Dict{String,Any}(\"centrality\" => 0,\"complexity\" => 17.0,\"blocking factor\" => 10,\"delay factor\" => 7.0),\"nameSub\" => \"CS 1371\",\"id\" => 4,\"credits\" => 3,\"nameCanonical\" => \"\"), Dict(\"curriculum_requisites\" => Dict{String,Any}[],\"name\" => \" \",\"metrics\" => Dict{String,Any}(\"centrality\" => 0,\"complexity\" => 1.0,\"blocking factor\" => 0,\"delay factor\" => 1.0),\"nameSub\" => \"Wellness Elective\",\"id\" => 5,\"credits\" => 3,\"nameCanonical\" => \"\"), Dict(\"curriculum_requisites\" => Dict{String,Any}[],\"name\" => \" \",\"metrics\" => Dict{String,Any}(\"centrality\" => 0,\"complexity\" => 3.0,\"blocking factor\" => 1,\"delay factor\" => 2.0),\"nameSub\" => \"ENGL 1101\",\"id\" => 6,\"credits\" => 3,\"nameCanonical\" => \"\")],\"id\" => 1), Dict(\"name\" => \"Term 2\",\"curriculum_items\" => Dict{String,Any}[Dict(\"curriculum_requisites\" => Dict{String,Any}[Dict(\"source_id\" => 2,\"target_id\" => 7,\"type\" => \"CurriculumPrerequisite\")],\"name\" => \" \",\"metrics\" => Dict{String,Any}(\"centrality\" => 29,\"complexity\" => 17.0,\"blocking factor\" => 9,\"delay factor\" => 8.0),\"nameSub\" => \"PHYS 2211\",\"id\" => 7,\"credits\" => 4,\"nameCanonical\" => \"\"), Dict(\"curriculum_requisites\" => Dict{String,Any}[Dict(\"source_id\" => 2,\"target_id\" => 8,\"type\" => \"CurriculumPrerequisite\")],\"name\" => \" \",\"metrics\" => Dict{String,Any}(\"centrality\" => 34,\"complexity\" => 17.0,\"blocking factor\" => 10,\"delay factor\" => 7.0),\"nameSub\" => \"MATH 1552\",\"id\" => 8,\"credits\" => 4,\"nameCanonical\" => \"\"), Dict(\"curriculum_requisites\" => Dict{String,Any}[Dict(\"source_id\" => 4,\"target_id\" => 9,\"type\" => \"CurriculumPrerequisite\")],\"name\" => \" \",\"metrics\" => Dict{String,Any}(\"centrality\" => 11,\"complexity\" => 13.0,\"blocking factor\" => 6,\"delay factor\" => 7.0),\"nameSub\" => \"ECE 2020\",\"id\" => 9,\"credits\" => 3,\"nameCanonical\" => \"\"), Dict(\"curriculum_requisites\" => Dict{String,Any}[],\"name\" => \" \",\"metrics\" => Dict{String,Any}(\"centrality\" => 0,\"complexity\" => 1.0,\"blocking factor\" => 0,\"delay factor\" => 1.0),\"nameSub\" => \"History/Government Elective\",\"id\" => 10,\"credits\" => 3,\"nameCanonical\" => \"\"), Dict(\"curriculum_requisites\" => Dict{String,Any}[Dict(\"source_id\" => 6,\"target_id\" => 11,\"type\" => \"CurriculumPrerequisite\")],\"name\" => \" \",\"metrics\" => Dict{String,Any}(\"centrality\" => 0,\"complexity\" => 2.0,\"blocking factor\" => 0,\"delay factor\" => 2.0),\"nameSub\" => \"ENGL 1102\",\"id\" => 11,\"credits\" => 3,\"nameCanonical\" => \"\")],\"id\" => 2), Dict(\"name\" => \"Term 3\",\"curriculum_items\" => Dict{String,Any}[Dict(\"curriculum_requisites\" => Dict{String,Any}[Dict(\"source_id\" => 7,\"target_id\" => 12,\"type\" => \"CurriculumPrerequisite\")],\"name\" => \" \",\"metrics\" => Dict{String,Any}(\"centrality\" => 29,\"complexity\" => 16.0,\"blocking factor\" => 8,\"delay factor\" => 8.0),\"nameSub\" => \"PHYS 2212\",\"id\" => 12,\"credits\" => 4,\"nameCanonical\" => \"\"), Dict(\"curriculum_requisites\" => Dict{String,Any}[Dict(\"source_id\" => 3,\"target_id\" => 13,\"type\" => \"CurriculumPrerequisite\"), Dict(\"source_id\" => 8,\"target_id\" => 13,\"type\" => \"CurriculumPrerequisite\")],\"name\" => \" \",\"metrics\" => Dict{String,Any}(\"centrality\" => 0,\"complexity\" => 3.0,\"blocking factor\" => 0,\"delay factor\" => 3.0),\"nameSub\" => \"MATH 2552\",\"id\" => 13,\"credits\" => 4,\"nameCanonical\" => \"\"), Dict(\"curriculum_requisites\" => Dict{String,Any}[Dict(\"source_id\" => 4,\"target_id\" => 14,\"type\" => \"CurriculumPrerequisite\"), Dict(\"source_id\" => 3,\"target_id\" => 14,\"type\" => \"CurriculumPrerequisite\"), Dict(\"source_id\" => 8,\"target_id\" => 14,\"type\" => \"CurriculumPrerequisite\")],\"name\" => \" \",\"metrics\" => Dict{String,Any}(\"centrality\" => 32,\"complexity\" => 10.0,\"blocking factor\" => 4,\"delay factor\" => 6.0),\"nameSub\" => \"ECE 2026\",\"id\" => 14,\"credits\" => 3,\"nameCanonical\" => \"\"), Dict(\"curriculum_requisites\" => Dict{String,Any}[],\"name\" => \" \",\"metrics\" => Dict{String,Any}(\"centrality\" => 0,\"complexity\" => 5.0,\"blocking factor\" => 2,\"delay factor\" => 3.0),\"nameSub\" => \"Economics Elective\",\"id\" => 15,\"credits\" => 3,\"nameCanonical\" => \"\"), Dict(\"curriculum_requisites\" => Dict{String,Any}[],\"name\" => \" \",\"metrics\" => Dict{String,Any}(\"centrality\" => 0,\"complexity\" => 1.0,\"blocking factor\" => 0,\"delay factor\" => 1.0),\"nameSub\" => \"Social Sciences Elective\",\"id\" => 16,\"credits\" => 3,\"nameCanonical\" => \"\")],\"id\" => 3), Dict(\"name\" => \"Term 4\",\"curriculum_items\" => Dict{String,Any}[Dict(\"curriculum_requisites\" => Dict{String,Any}[],\"name\" => \" \",\"metrics\" => Dict{String,Any}(\"centrality\" => 0,\"complexity\" => 1.0,\"blocking factor\" => 0,\"delay factor\" => 1.0),\"nameSub\" => \"Science Elective\",\"id\" => 17,\"credits\" => 3,\"nameCanonical\" => \"\"), Dict(\"curriculum_requisites\" => Dict{String,Any}[Dict(\"source_id\" => 3,\"target_id\" => 18,\"type\" => \"CurriculumPrerequisite\"), Dict(\"source_id\" => 8,\"target_id\" => 18,\"type\" => \"CurriculumPrerequisite\")],\"name\" => \" \",\"metrics\" => Dict{String,Any}(\"centrality\" => 35,\"complexity\" => 13.0,\"blocking factor\" => 6,\"delay factor\" => 7.0),\"nameSub\" => \"MATH 2551\",\"id\" => 18,\"credits\" => 4,\"nameCanonical\" => \"\"), Dict(\"curriculum_requisites\" => Dict{String,Any}[Dict(\"source_id\" => 12,\"target_id\" => 19,\"type\" => \"CurriculumPrerequisite\")],\"name\" => \" \",\"metrics\" => Dict{String,Any}(\"centrality\" => 29,\"complexity\" => 15.0,\"blocking factor\" => 7,\"delay factor\" => 8.0),\"nameSub\" => \"ECE 2040\",\"id\" => 19,\"credits\" => 3,\"nameCanonical\" => \"\"), Dict(\"curriculum_requisites\" => Dict{String,Any}[Dict(\"source_id\" => 9,\"target_id\" => 20,\"type\" => \"CurriculumPrerequisite\")],\"name\" => \" \",\"metrics\" => Dict{String,Any}(\"centrality\" => 11,\"complexity\" => 12.0,\"blocking factor\" => 5,\"delay factor\" => 7.0),\"nameSub\" => \"ECE 2031\",\"id\" => 20,\"credits\" => 2,\"nameCanonical\" => \"\"), Dict(\"curriculum_requisites\" => Dict{String,Any}[Dict(\"source_id\" => 20,\"target_id\" => 21,\"type\" => \"CurriculumCorequisite\")],\"name\" => \" \",\"metrics\" => Dict{String,Any}(\"centrality\" => 0,\"complexity\" => 4.0,\"blocking factor\" => 0,\"delay factor\" => 4.0),\"nameSub\" => \"Programming Elective\",\"id\" => 21,\"credits\" => 3,\"nameCanonical\" => \"\")],\"id\" => 4), Dict(\"name\" => \"Term 5\",\"curriculum_items\" => Dict{String,Any}[Dict(\"curriculum_requisites\" => Dict{String,Any}[],\"name\" => \" \",\"metrics\" => Dict{String,Any}(\"centrality\" => 0,\"complexity\" => 1.0,\"blocking factor\" => 0,\"delay factor\" => 1.0),\"nameSub\" => \"Humanities Elective\",\"id\" => 22,\"credits\" => 3,\"nameCanonical\" => \"\"), Dict(\"curriculum_requisites\" => Dict{String,Any}[Dict(\"source_id\" => 20,\"target_id\" => 23,\"type\" => \"CurriculumPrerequisite\"), Dict(\"source_id\" => 1,\"target_id\" => 23,\"type\" => \"CurriculumPrerequisite\"), Dict(\"source_id\" => 19,\"target_id\" => 23,\"type\" => \"CurriculumPrerequisite\"), Dict(\"source_id\" => 18,\"target_id\" => 23,\"type\" => \"CurriculumPrerequisite\")],\"name\" => \" \",\"metrics\" => Dict{String,Any}(\"centrality\" => 33,\"complexity\" => 11.0,\"blocking factor\" => 3,\"delay factor\" => 8.0),\"nameSub\" => \"ECE 3040\",\"id\" => 23,\"credits\" => 4,\"nameCanonical\" => \"\"), Dict(\"curriculum_requisites\" => Dict{String,Any}[Dict(\"source_id\" => 23,\"target_id\" => 24,\"type\" => \"CurriculumCorequisite\")],\"name\" => \" \",\"metrics\" => Dict{String,Any}(\"centrality\" => 33,\"complexity\" => 10.0,\"blocking factor\" => 2,\"delay factor\" => 8.0),\"nameSub\" => \"ECE 3043\",\"id\" => 24,\"credits\" => 2,\"nameCanonical\" => \"\"), Dict(\"curriculum_requisites\" => Dict{String,Any}[Dict(\"source_id\" => 14,\"target_id\" => 25,\"type\" => \"CurriculumPrerequisite\"), Dict(\"source_id\" => 19,\"target_id\" => 25,\"type\" => \"CurriculumPrerequisite\"), Dict(\"source_id\" => 18,\"target_id\" => 25,\"type\" => \"CurriculumPrerequisite\")],\"name\" => \" \",\"metrics\" => Dict{String,Any}(\"centrality\" => 34,\"complexity\" => 9.0,\"blocking factor\" => 2,\"delay factor\" => 7.0),\"nameSub\" => \"ECE 3025\",\"id\" => 25,\"credits\" => 3,\"nameCanonical\" => \"\"), Dict(\"curriculum_requisites\" => Dict{String,Any}[Dict(\"source_id\" => 14,\"target_id\" => 26,\"type\" => \"CurriculumPrerequisite\"), Dict(\"source_id\" => 19,\"target_id\" => 26,\"type\" => \"CurriculumPrerequisite\")],\"name\" => \" \",\"metrics\" => Dict{String,Any}(\"centrality\" => 23,\"complexity\" => 9.0,\"blocking factor\" => 2,\"delay factor\" => 7.0),\"nameSub\" => \"ECE 3084\",\"id\" => 26,\"credits\" => 3,\"nameCanonical\" => \"\"), Dict(\"curriculum_requisites\" => Dict{String,Any}[],\"name\" => \" \",\"metrics\" => Dict{String,Any}(\"centrality\" => 0,\"complexity\" => 1.0,\"blocking factor\" => 0,\"delay factor\" => 1.0),\"nameSub\" => \"Social Sciences Elective\",\"id\" => 27,\"credits\" => 3,\"nameCanonical\" => \"\")],\"id\" => 5), Dict(\"name\" => \"Term 6\",\"curriculum_items\" => Dict{String,Any}[Dict(\"curriculum_requisites\" => Dict{String,Any}[],\"name\" => \" \",\"metrics\" => Dict{String,Any}(\"centrality\" => 0,\"complexity\" => 1.0,\"blocking factor\" => 0,\"delay factor\" => 1.0),\"nameSub\" => \"ECE/Approved Engineering Elective\",\"id\" => 28,\"credits\" => 3,\"nameCanonical\" => \"\"), Dict(\"curriculum_requisites\" => Dict{String,Any}[Dict(\"source_id\" => 18,\"target_id\" => 29,\"type\" => \"CurriculumPrerequisite\")],\"name\" => \" \",\"metrics\" => Dict{String,Any}(\"centrality\" => 11,\"complexity\" => 8.0,\"blocking factor\" => 2,\"delay factor\" => 6.0),\"nameSub\" => \"Prob/Stat ECE/App/Engr Elective\",\"id\" => 29,\"credits\" => 3,\"nameCanonical\" => \"\"), Dict(\"curriculum_requisites\" => Dict{String,Any}[],\"name\" => \" \",\"metrics\" => Dict{String,Any}(\"centrality\" => 0,\"complexity\" => 1.0,\"blocking factor\" => 0,\"delay factor\" => 1.0),\"nameSub\" => \"ECE Elective\",\"id\" => 30,\"credits\" => 3,\"nameCanonical\" => \"\"), Dict(\"curriculum_requisites\" => Dict{String,Any}[],\"name\" => \" \",\"metrics\" => Dict{String,Any}(\"centrality\" => 0,\"complexity\" => 1.0,\"blocking factor\" => 0,\"delay factor\" => 1.0),\"nameSub\" => \"ECE Elective\",\"id\" => 31,\"credits\" => 3,\"nameCanonical\" => \"\"), Dict(\"curriculum_requisites\" => Dict{String,Any}[Dict(\"source_id\" => 19,\"target_id\" => 32,\"type\" => \"CurriculumPrerequisite\")],\"name\" => \" \",\"metrics\" => Dict{String,Any}(\"centrality\" => 7,\"complexity\" => 9.0,\"blocking factor\" => 2,\"delay factor\" => 7.0),\"nameSub\" => \"ECE 3072\",\"id\" => 32,\"credits\" => 3,\"nameCanonical\" => \"\"), Dict(\"curriculum_requisites\" => Dict{String,Any}[],\"name\" => \" \",\"metrics\" => Dict{String,Any}(\"centrality\" => 0,\"complexity\" => 1.0,\"blocking factor\" => 0,\"delay factor\" => 1.0),\"nameSub\" => \"Approved Elective\",\"id\" => 33,\"credits\" => 3,\"nameCanonical\" => \"\")],\"id\" => 6), Dict(\"name\" => \"Term 7\",\"curriculum_items\" => Dict{String,Any}[Dict(\"curriculum_requisites\" => Dict{String,Any}[],\"name\" => \" \",\"metrics\" => Dict{String,Any}(\"centrality\" => 0,\"complexity\" => 1.0,\"blocking factor\" => 0,\"delay factor\" => 1.0),\"nameSub\" => \"Engineering Elective\",\"id\" => 34,\"credits\" => 3,\"nameCanonical\" => \"\"), Dict(\"curriculum_requisites\" => Dict{String,Any}[],\"name\" => \" \",\"metrics\" => Dict{String,Any}(\"centrality\" => 0,\"complexity\" => 1.0,\"blocking factor\" => 0,\"delay factor\" => 1.0),\"nameSub\" => \"ECE Elective\",\"id\" => 35,\"credits\" => 3,\"nameCanonical\" => \"\"), Dict(\"curriculum_requisites\" => Dict{String,Any}[Dict(\"source_id\" => 26,\"target_id\" => 36,\"type\" => \"CurriculumPrerequisite\"), Dict(\"source_id\" => 25,\"target_id\" => 36,\"type\" => \"CurriculumPrerequisite\"), Dict(\"source_id\" => 32,\"target_id\" => 36,\"type\" => \"CurriculumPrerequisite\"), Dict(\"source_id\" => 29,\"target_id\" => 36,\"type\" => \"CurriculumPrerequisite\"), Dict(\"source_id\" => 15,\"target_id\" => 36,\"type\" => \"CurriculumPrerequisite\"), Dict(\"source_id\" => 24,\"target_id\" => 36,\"type\" => \"CurriculumPrerequisite\")],\"name\" => \" \",\"metrics\" => Dict{String,Any}(\"centrality\" => 111,\"complexity\" => 9.0,\"blocking factor\" => 1,\"delay factor\" => 8.0),\"nameSub\" => \"ECE 4011\",\"id\" => 36,\"credits\" => 2,\"nameCanonical\" => \"\"), Dict(\"curriculum_requisites\" => Dict{String,Any}[],\"name\" => \" \",\"metrics\" => Dict{String,Any}(\"centrality\" => 0,\"complexity\" => 1.0,\"blocking factor\" => 0,\"delay factor\" => 1.0),\"nameSub\" => \"ECE 4XXX Elective\",\"id\" => 37,\"credits\" => 3,\"nameCanonical\" => \"\"), Dict(\"curriculum_requisites\" => Dict{String,Any}[],\"name\" => \" \",\"metrics\" => Dict{String,Any}(\"centrality\" => 0,\"complexity\" => 1.0,\"blocking factor\" => 0,\"delay factor\" => 1.0),\"nameSub\" => \"ECE 4XXX Lab Elective\",\"id\" => 38,\"credits\" => 3,\"nameCanonical\" => \"\"), Dict(\"curriculum_requisites\" => Dict{String,Any}[],\"name\" => \" \",\"metrics\" => Dict{String,Any}(\"centrality\" => 0,\"complexity\" => 1.0,\"blocking factor\" => 0,\"delay factor\" => 1.0),\"nameSub\" => \"Approved Elective\",\"id\" => 39,\"credits\" => 3,\"nameCanonical\" => \"\")],\"id\" => 7), Dict(\"name\" => \"Term 8\",\"curriculum_items\" => Dict{String,Any}[Dict(\"curriculum_requisites\" => Dict{String,Any}[],\"name\" => \" \",\"metrics\" => Dict{String,Any}(\"centrality\" => 0,\"complexity\" => 1.0,\"blocking factor\" => 0,\"delay factor\" => 1.0),\"nameSub\" => \"Humanities Elective\",\"id\" => 40,\"credits\" => 3,\"nameCanonical\" => \"\"), Dict(\"curriculum_requisites\" => Dict{String,Any}[Dict(\"source_id\" => 36,\"target_id\" => 41,\"type\" => \"CurriculumPrerequisite\")],\"name\" => \" \",\"metrics\" => Dict{String,Any}(\"centrality\" => 0,\"complexity\" => 8.0,\"blocking factor\" => 0,\"delay factor\" => 8.0),\"nameSub\" => \"ECE 4012\",\"id\" => 41,\"credits\" => 3,\"nameCanonical\" => \"\"), Dict(\"curriculum_requisites\" => Dict{String,Any}[],\"name\" => \" \",\"metrics\" => Dict{String,Any}(\"centrality\" => 0,\"complexity\" => 1.0,\"blocking factor\" => 0,\"delay factor\" => 1.0),\"nameSub\" => \"ECE 4XXX Elective\",\"id\" => 42,\"credits\" => 3,\"nameCanonical\" => \"\"), Dict(\"curriculum_requisites\" => Dict{String,Any}[],\"name\" => \" \",\"metrics\" => Dict{String,Any}(\"centrality\" => 0,\"complexity\" => 1.0,\"blocking factor\" => 0,\"delay factor\" => 1.0),\"nameSub\" => \"Approved Elective\",\"id\" => 43,\"credits\" => 3,\"nameCanonical\" => \"\"), Dict(\"curriculum_requisites\" => Dict{String,Any}[],\"name\" => \" \",\"metrics\" => Dict{String,Any}(\"centrality\" => 0,\"complexity\" => 1.0,\"blocking factor\" => 0,\"delay factor\" => 1.0),\"nameSub\" => \"Approved Elective\",\"id\" => 44,\"credits\" => 3,\"nameCanonical\" => \"\")],\"id\" => 8)],\"institution\" => \"Georgia Institute of Technology\")), nothing)), Set{String}(), nothing, WebIO.Asset[], Dict{Any,Any}(), WebIO.ConnectionPool(Channel{Any}(sz_max:32,sz_curr:0), Set{WebIO.AbstractConnection}(), Base.GenericCondition{Base.AlwaysLockedST}(Base.InvasiveLinkedList{Task}(Task (runnable) @0x0000000110de5450, Task (runnable) @0x0000000110de5450), Base.AlwaysLockedST(1))), WebIO.JSString[])"
      ]
     },
     "execution_count": 18,
     "metadata": {
      "application/vnd.webio.node+json": {
       "kernelId": "38ef9191-949f-4bdf-a486-1761b8e78e85"
      }
     },
     "output_type": "execute_result"
    }
   ],
   "source": [
    "Ga_Tech_EE = read_csv(\"./Ga_Tech-EE.csv\")\n",
    "visualize(Ga_Tech_EE, notebook=true, scale=1.0)"
   ]
  },
  {
   "cell_type": "code",
   "execution_count": 19,
   "metadata": {},
   "outputs": [
    {
     "name": "stdout",
     "output_type": "stream",
     "text": [
      "Degree Plan 2017-18 Plan is valid\n"
     ]
    }
   ],
   "source": [
    "if isvalid_degree_plan(Ga_Tech_EE, errors)\n",
    "    println(\"Degree Plan $(Ga_Tech_EE.name) is valid\")\n",
    "else\n",
    "    println(\"Degree Plan $(Ga_Tech_EE.name) is not valid:\")\n",
    "    print(String(take!(errors)))\n",
    "end"
   ]
  },
  {
   "cell_type": "markdown",
   "metadata": {},
   "source": [
    "## 3. Basic Analytics\n",
    "Now that we have created the curriculum, associated degree plan, and verified there are no errors, we can quantitatively analyze the plan, and more specifically, the courses. We will first begin with delay factor.\n",
    "\n",
    "### 3.1 Delay Factor\n",
    "Many curricula, particularly those in science, technology engineering and math (STEM) fields, contain a set of courses that must be completed in sequential order. It is not uncommon in these programs to find prerequisite pathways consisting of seven or eight courses—they span nearly every term in any possible degree plan. The ability to successfully navigate these long pathways without delay is critical for student success and on-time graduation.\n",
    "\n",
    "We define the **delay factor** associated with a given course $v_k$ in a curriculum $c$, denoted $d_c(v_k)$, as the number of vertices in the longest path in $G_c$ that passes through $v_k$ (Slim, 2016). \n",
    "\n",
    "$G_c$ is known as the *curriculum graph*, where each vertex $v_1, . . . , v_n ∈ V$ represents a requirement (i.e., course) in a curriculum $c$. There is a directed edge $(v_i,v_j) ∈ E$ from requirement $v_i$ to $v_j$ if $v_i$ that must be satisfied prior to the satisfaction of $v_j$.\n",
    "\n",
    "\\begin{equation}\n",
    "d_c(v_k) = \\max_{i,j,k,l} \\{ \\#(v_i\\rightsquigarrow v_k \\rightsquigarrow v_j)\\}\n",
    "\\end{equation}\n",
    "\n",
    "We define the delay factor associated with an entire curriculum $c$ as:\n",
    "\n",
    "\\begin{equation}\n",
    "d(G_c)= \\sum_{v_k ∈ V} d_c(v_k)\n",
    "\\end{equation}\n",
    "\n",
    "### 3.2 Blocking Factor\n",
    "Another structural factor arises when one course serves as the gateway to many other courses in the curriculum. In this case, if a student is unable to pass the gateway course, they are **blocked** from attempting many of the other courses in the curriculum.\n",
    "\n",
    "In our example, *Calculus 1* is a foundational first-term course that must be completed before taking  the other major-specific classes in subsequent terms leading to our end goal of completing *Circuits One*. It is obvious that a course which is a prerequisite for a large number of other courses in a curriculum is a highly important course in that curriculum.\n",
    "\n",
    "We will denote the situation where course $v_j$ is reachable from course $v_i$, via any prerequisite pathway, using $vi\\rightsquigarrow v_j$, and $v_i \\nrightarrow v_j$ will be used if course $v_j$ is not reachable from course $v_i$. The blocking factor associated with course $v_i$ in curriculum $G_c = (V, E)$, denoted $b_c(v_i)$, is then given by (Slim, 2016):\n",
    "\n",
    "\\begin{equation}\n",
    "b_c(v_i)= \\sum_{v_j ∈ V} I(v_i,v_j)\n",
    "\\end{equation}\n",
    "\n",
    "where $I$ is the indicator function :\n",
    "\n",
    "\\begin{equation}\n",
    "= I \\begin{cases}\n",
    "1 & if \\space \\space v_i\\rightsquigarrow v_j\\\\\n",
    "0 & if \\space \\space v_i \\nrightarrow v_j\n",
    "\\end{cases}\n",
    "\\end{equation}\n",
    "\n",
    "We define the blocking factor associated with an entire curriculum $c$ as:\n",
    "\n",
    "\\begin{equation}\n",
    "b(G_c)= \\sum_{v_i ∈ V} b_c(v_i)\n",
    "\\end{equation}\n",
    "\n",
    "### 3.3 Complexity\n",
    "After computing blocking and delay factor, a unitless measure for structural complexity can be applied to any curriculum.\n",
    "\n",
    "We keep in mind that the experimental design explicitly relates this measure to the likelihood that a student can complete a curriculum.\n",
    "\n",
    "In order to achieve this overall *Complexity* metric, we simply add the blocking and delay factors of the entire curricula:\n",
    "\n",
    "\\begin{equation}\n",
    "Complexity = b(G_c) + d(G_c)\n",
    "\\end{equation}\n",
    "\n",
    "### 3.4 Back To Our Example\n",
    "In our example, all these metrics can be computed using the following commands:"
   ]
  },
  {
   "cell_type": "code",
   "execution_count": 20,
   "metadata": {},
   "outputs": [
    {
     "name": "stdout",
     "output_type": "stream",
     "text": [
      "Delay factor = (176.0, [5.0, 8.0, 6.0, 7.0, 1.0, 2.0, 8.0, 7.0, 7.0, 1.0, 2.0, 8.0, 3.0, 6.0, 3.0, 1.0, 1.0, 7.0, 8.0, 7.0, 4.0, 1.0, 8.0, 8.0, 7.0, 7.0, 1.0, 1.0, 6.0, 1.0, 1.0, 7.0, 1.0, 1.0, 1.0, 8.0, 1.0, 1.0, 1.0, 1.0, 8.0, 1.0, 1.0, 1.0])\n",
      "Blocking factor = (111, [4, 15, 10, 10, 0, 1, 9, 10, 6, 0, 0, 8, 0, 4, 2, 0, 0, 6, 7, 5, 0, 0, 3, 2, 2, 2, 0, 0, 2, 0, 0, 2, 0, 0, 0, 1, 0, 0, 0, 0, 0, 0, 0, 0])\n",
      "Curricular complexity = (287.0, Number[9.0, 23.0, 16.0, 17.0, 1.0, 3.0, 17.0, 17.0, 13.0, 1.0, 2.0, 16.0, 3.0, 10.0, 5.0, 1.0, 1.0, 13.0, 15.0, 12.0, 4.0, 1.0, 11.0, 10.0, 9.0, 9.0, 1.0, 1.0, 8.0, 1.0, 1.0, 9.0, 1.0, 1.0, 1.0, 9.0, 1.0, 1.0, 1.0, 1.0, 8.0, 1.0, 1.0, 1.0])\n"
     ]
    }
   ],
   "source": [
    "    println(\"Delay factor = $(delay_factor(Ga_Tech_EE.curriculum))\")\n",
    "    println(\"Blocking factor = $(blocking_factor(Ga_Tech_EE.curriculum))\")\n",
    "    println(\"Curricular complexity = $(complexity(Ga_Tech_EE.curriculum))\")"
   ]
  },
  {
   "cell_type": "markdown",
   "metadata": {},
   "source": [
    "## Basic Metrics\n",
    "If more masic metrics are desired such as:\n",
    "\n",
    "1. Total credit hours\n",
    "2. Avg. credits per term\n",
    "3. Number of terms\n",
    "4. Max. credits in a term\n",
    "5. Min. credit term\n",
    "6. Credit hour variance\n",
    "7. Max. credit term\n",
    "\n",
    "The following command may be run. Remember that the variable inside of () is whatever you set your degree plan to equal, in our case dp:"
   ]
  },
  {
   "cell_type": "code",
   "execution_count": 21,
   "metadata": {},
   "outputs": [
    {
     "data": {
      "text/plain": [
       "Dict{String,Any} with 8 entries:\n",
       "  \"total credit hours\"         => 134\n",
       "  \"avg. credits per term\"      => 16.75\n",
       "  \"min. credits in a term\"     => 15\n",
       "  \"term credit hour std. dev.\" => 1.08972\n",
       "  \"number of terms\"            => 8\n",
       "  \"max. credits in a term\"     => 18\n",
       "  \"min. credit term\"           => 4\n",
       "  \"max. credit term\"           => 5"
      ]
     },
     "execution_count": 21,
     "metadata": {},
     "output_type": "execute_result"
    }
   ],
   "source": [
    "basic_metrics(Ga_Tech_EE)\n",
    "Ga_Tech_EE.metrics"
   ]
  },
  {
   "cell_type": "markdown",
   "metadata": {},
   "source": [
    "# Conclusion \n",
    "By treating a curriculum as a formal system that exists within the larger university ecosystem, we have highlighted the fact that it can be directly and rigorously analyzed. An analytical approach to the study of curricula supports not only the ability to make predictions about how curricular changes will effect student progress, but also predictions around the likely impact of particular student success interventions on curricular progression.\n",
    "\n",
    "We hope that through the use of our Curricular Analytics toolbox administrators in higher education can make changes to their curricula that ultimately improve student success outcomes. "
   ]
  },
  {
   "cell_type": "markdown",
   "metadata": {},
   "source": [
    "# References\n",
    "\n",
    "Heileman, G. L., Abdallah, C.T., Slim, A., and Hickman, M. (2018). Curricular analytics: A framework for quantifying the impact of curricular reforms and pedagogical innovations. www.arXiv.org, arXiv:1811.09676 [cs.CY].\n",
    "\n",
    "Slim, A. (2016). Curricular Analytics in Higher Education. PhD thesis, University of New Mexico,\n",
    "Albuquerque, NM."
   ]
  }
 ],
 "metadata": {
  "@webio": {
   "lastCommId": "166ca1a615c64acfba885d81474be367",
   "lastKernelId": "38ef9191-949f-4bdf-a486-1761b8e78e85"
  },
  "kernelspec": {
   "display_name": "Julia 1.5.0",
   "language": "julia",
   "name": "julia-1.5"
  },
  "language_info": {
   "file_extension": ".jl",
   "mimetype": "application/julia",
   "name": "julia",
   "version": "1.5.0"
  }
 },
 "nbformat": 4,
 "nbformat_minor": 2
}
