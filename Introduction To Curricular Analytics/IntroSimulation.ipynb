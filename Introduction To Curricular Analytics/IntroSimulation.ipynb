{
 "cells": [
  {
   "cell_type": "markdown",
   "metadata": {},
   "source": [
    "# <center>Introduction to Curricular Simulations</center>\n",
    "\n",
    "<center>\n",
    "    <b>Gregory L. Heileman$^\\dagger$, Jiacheng Zhang$^\\ddagger$ and Hayden W. Free$^\\bullet$</b> <br>\n",
    "    $^\\dagger$Department of Electrical & Computer Engineering <br>\n",
    "    University of Arizona <br>\n",
    "    heileman@arizona.edu <br>\n",
    "    $^\\ddagger$Department of Computer Science <br>\n",
    "    jiachengzhang1@arizona.edu <br>\n",
    "    University of Arizona<br>\n",
    "    $^\\bullet$Department of Computer Science <br>\n",
    "    hayden.free@uky.edu <br>\n",
    "    University of Kentucky\n",
    "</center>"
   ]
  },
  {
   "cell_type": "markdown",
   "metadata": {},
   "source": [
    "## 1. Introduction\n",
    "\n",
    "This notebook demonstrates how to use the simulation capabilites that are included as a part of the [CurricularAnalytics toolbox](https://github.com/CurricularAnalytics/CurricularAnalytics.jl). If you would like to become more familiar with the notions behind curricular analytics, we suggest you read <cite data-cite=\"he:18\">Heileman, et. al, (2018)</cite>, and also examine the Introduction to the Curricular Analytics Toolbox notebook that accompanies this notebook.\n",
    "\n",
    "The simulation capabilites include the ability to simulate the flow of students through a curriculum, towards graduation, using discrete event simulation. Specifically, a population of students attempt to complete the selected curriculum, by taking courses in the order prescribed by the curriculum. At each step (semester) of the simulation a given student enrolls in a set of courses, earning either a passing of failing grade in each.  At the end of a given semester, if a student has passed all of the courses in the curriculum, they are deemed a graduate.  If a student has not yet gradauted, then they may stop out (according to a prescribed stop-out model), or enroll in the next set of courses available to them. One of the intended uses of these simulation capabilities is to estimate the impact that particular curricular changes or instructional improvements will have on student progress. \n",
    "\n",
    "The simulation framework (shown below) was orginally developed by <cite data-cite=\"hi:18\">Hickman, (2014)</cite>, and  subsequent development has allowed it to be integrated into the CurricularAnalytics toolbox. \n",
    "\n",
    "<img src=\"SimulationFramework.png\" width=\"600\">\n",
    "\n",
    "Notice that the simulation \"engine\" requires three inputs: a curriculum, a model for students, and a model for student peformance. The results of the simualtion are returned in an object that may be viewed using the `simulation_report()` function, as demonstrated below. \n",
    "\n",
    "In order to perform curricular simulations, first load the Curricular Analytics toolbox modules:"
   ]
  },
  {
   "cell_type": "code",
   "execution_count": 16,
   "metadata": {},
   "outputs": [],
   "source": [
    "using CurricularAnalytics, CurricularVisualization"
   ]
  },
  {
   "cell_type": "markdown",
   "metadata": {},
   "source": [
    "## 2. Setting up the Simulation Environment\n",
    "\n",
    "The first thing we will do is read in a degree plan. The student in the simulation will attempt to complete the curriculum associated with the degree plan in the order that prescribed in the degree plan.  Specifically, in each semester each student will enroll in courses they have not yet taken in the order specified by the degree plan until they reach the maximum allowed number of credit hours.\n",
    "\n",
    "### 2.1 Reading the Degree Plan\n",
    "\n",
    "The following commands read in a degree plan stored in the CSV file format, and then display a visualization of the resulting plan."
   ]
  },
  {
   "cell_type": "code",
   "execution_count": 2,
   "metadata": {
    "scrolled": false
   },
   "outputs": [
    {
     "data": {
      "application/vnd.webio.node+json": {
       "children": [
        {
         "children": [
          ""
         ],
         "instanceArgs": {
          "namespace": "html",
          "tag": "iframe"
         },
         "nodeType": "DOM",
         "props": {
          "events": {
           "load": "(function (){this.contentWindow.postMessage({\"options\":{\"hideTerms\":false,\"edit\":false},\"curriculum\":{\"name\":\"Aerospace Engineering\",\"dp_name\":\"2019-20 Degree Plan\",\"curriculum_terms\":[{\"name\":\"Term 1\",\"curriculum_items\":[{\"curriculum_requisites\":[],\"name\":\"MATH 125\",\"metrics\":{\"centrality\":0,\"complexity\":38.0,\"blocking factor\":29,\"delay factor\":9.0},\"nameSub\":\"Calculus I w/ Applications\",\"id\":1,\"credits\":3,\"nameCanonical\":\"\"},{\"curriculum_requisites\":[],\"name\":\"CHEM 151\",\"metrics\":{\"centrality\":0,\"complexity\":5.0,\"blocking factor\":2,\"delay factor\":3.0},\"nameSub\":\"Gen Chemistry I\",\"id\":2,\"credits\":4,\"nameCanonical\":\"\"},{\"curriculum_requisites\":[],\"name\":\"ENGL 101\",\"metrics\":{\"centrality\":0,\"complexity\":3.0,\"blocking factor\":1,\"delay factor\":2.0},\"nameSub\":\"First-year Comp.\",\"id\":3,\"credits\":3,\"nameCanonical\":\"\"},{\"curriculum_requisites\":[{\"source_id\":1,\"target_id\":4,\"type\":\"CurriculumCorequisite\"}],\"name\":\"ENGR 102\",\"metrics\":{\"centrality\":0,\"complexity\":2.0,\"blocking factor\":0,\"delay factor\":2.0},\"nameSub\":\"Intro to Engineering\",\"id\":4,\"credits\":3,\"nameCanonical\":\"\"},{\"curriculum_requisites\":[],\"name\":\" \",\"metrics\":{\"centrality\":0,\"complexity\":1.0,\"blocking factor\":0,\"delay factor\":1.0},\"nameSub\":\"Tier I General Ed.\",\"id\":5,\"credits\":3,\"nameCanonical\":\"\"}],\"id\":1},{\"name\":\"Term 2\",\"curriculum_items\":[{\"curriculum_requisites\":[{\"source_id\":1,\"target_id\":6,\"type\":\"CurriculumPrerequisite\"}],\"name\":\"MATH 129\",\"metrics\":{\"centrality\":387,\"complexity\":31.0,\"blocking factor\":22,\"delay factor\":9.0},\"nameSub\":\"Calculus II\",\"id\":6,\"credits\":3,\"nameCanonical\":\"\"},{\"curriculum_requisites\":[{\"source_id\":1,\"target_id\":7,\"type\":\"CurriculumPrerequisite\"}],\"name\":\"AME 105\",\"metrics\":{\"centrality\":28,\"complexity\":16.0,\"blocking factor\":9,\"delay factor\":7.0},\"nameSub\":\"Intro. to MATLAB I\",\"id\":7,\"credits\":1,\"nameCanonical\":\"\"},{\"curriculum_requisites\":[{\"source_id\":1,\"target_id\":8,\"type\":\"CurriculumPrerequisite\"}],\"name\":\"PHYS 141\",\"metrics\":{\"centrality\":277,\"complexity\":28.0,\"blocking factor\":19,\"delay factor\":9.0},\"nameSub\":\"Intro Mechanics\",\"id\":8,\"credits\":4,\"nameCanonical\":\"\"},{\"curriculum_requisites\":[{\"source_id\":3,\"target_id\":9,\"type\":\"CurriculumPrerequisite\"}],\"name\":\"ENGL 102\",\"metrics\":{\"centrality\":0,\"complexity\":2.0,\"blocking factor\":0,\"delay factor\":2.0},\"nameSub\":\"First-year Comp.\",\"id\":9,\"credits\":3,\"nameCanonical\":\"\"},{\"curriculum_requisites\":[{\"source_id\":1,\"target_id\":10,\"type\":\"CurriculumCorequisite\"}],\"name\":\"ECE 175\",\"metrics\":{\"centrality\":0,\"complexity\":2.0,\"blocking factor\":0,\"delay factor\":2.0},\"nameSub\":\"Programming for Eng. Apps.\",\"id\":10,\"credits\":3,\"nameCanonical\":\"\"},{\"curriculum_requisites\":[],\"name\":\" \",\"metrics\":{\"centrality\":0,\"complexity\":1.0,\"blocking factor\":0,\"delay factor\":1.0},\"nameSub\":\"Tier I General Ed. 1\",\"id\":11,\"credits\":3,\"nameCanonical\":\"\"}],\"id\":2},{\"name\":\"Term 3\",\"curriculum_items\":[{\"curriculum_requisites\":[{\"source_id\":8,\"target_id\":12,\"type\":\"CurriculumPrerequisite\"},{\"source_id\":6,\"target_id\":12,\"type\":\"CurriculumPrerequisite\"}],\"name\":\"CE 214\",\"metrics\":{\"centrality\":264,\"complexity\":24.0,\"blocking factor\":15,\"delay factor\":9.0},\"nameSub\":\"Statics\",\"id\":12,\"credits\":3,\"nameCanonical\":\"\"},{\"curriculum_requisites\":[{\"source_id\":6,\"target_id\":13,\"type\":\"CurriculumPrerequisite\"}],\"name\":\"MATH  223\",\"metrics\":{\"centrality\":252,\"complexity\":25.0,\"blocking factor\":16,\"delay factor\":9.0},\"nameSub\":\"Vector Calculus\",\"id\":13,\"credits\":4,\"nameCanonical\":\"\"},{\"curriculum_requisites\":[{\"source_id\":8,\"target_id\":14,\"type\":\"CurriculumPrerequisite\"},{\"source_id\":6,\"target_id\":14,\"type\":\"CurriculumPrerequisite\"}],\"name\":\"PHYS 241\",\"metrics\":{\"centrality\":0,\"complexity\":3.0,\"blocking factor\":0,\"delay factor\":3.0},\"nameSub\":\"Electricity & Magnetism\",\"id\":14,\"credits\":4,\"nameCanonical\":\"\"},{\"curriculum_requisites\":[{\"source_id\":7,\"target_id\":15,\"type\":\"CurriculumPrerequisite\"}],\"name\":\"AME  205\",\"metrics\":{\"centrality\":28,\"complexity\":15.0,\"blocking factor\":8,\"delay factor\":7.0},\"nameSub\":\"Intro. To MATLAB II\",\"id\":15,\"credits\":1,\"nameCanonical\":\"\"},{\"curriculum_requisites\":[],\"name\":\"AME 211\",\"metrics\":{\"centrality\":0,\"complexity\":1.0,\"blocking factor\":0,\"delay factor\":1.0},\"nameSub\":\"Comp. Aided Drafting & Manufacturing\",\"id\":16,\"credits\":3,\"nameCanonical\":\"\"},{\"curriculum_requisites\":[],\"name\":\" \",\"metrics\":{\"centrality\":0,\"complexity\":1.0,\"blocking factor\":0,\"delay factor\":1.0},\"nameSub\":\"Tier I General Ed. 2\",\"id\":17,\"credits\":3,\"nameCanonical\":\"\"}],\"id\":3},{\"name\":\"Term 4\",\"curriculum_items\":[{\"curriculum_requisites\":[{\"source_id\":8,\"target_id\":18,\"type\":\"CurriculumPrerequisite\"}],\"name\":\"AME 230\",\"metrics\":{\"centrality\":86,\"complexity\":19.0,\"blocking factor\":11,\"delay factor\":8.0},\"nameSub\":\"Thermodynamics\",\"id\":18,\"credits\":3,\"nameCanonical\":\"\"},{\"curriculum_requisites\":[{\"source_id\":12,\"target_id\":19,\"type\":\"CurriculumPrerequisite\"},{\"source_id\":20,\"target_id\":19,\"type\":\"CurriculumCorequisite\"}],\"name\":\"AME 250\",\"metrics\":{\"centrality\":145,\"complexity\":19.0,\"blocking factor\":10,\"delay factor\":9.0},\"nameSub\":\"Dynamics\",\"id\":19,\"credits\":3,\"nameCanonical\":\"\"},{\"curriculum_requisites\":[{\"source_id\":13,\"target_id\":20,\"type\":\"CurriculumPrerequisite\"}],\"name\":\"MATH 254\",\"metrics\":{\"centrality\":182,\"complexity\":24.0,\"blocking factor\":15,\"delay factor\":9.0},\"nameSub\":\"Intro. to ODEs\",\"id\":20,\"credits\":3,\"nameCanonical\":\"\"},{\"curriculum_requisites\":[{\"source_id\":13,\"target_id\":21,\"type\":\"CurriculumPrerequisite\"},{\"source_id\":8,\"target_id\":21,\"type\":\"CurriculumPrerequisite\"},{\"source_id\":20,\"target_id\":21,\"type\":\"CurriculumCorequisite\"}],\"name\":\"AME 220\",\"metrics\":{\"centrality\":198,\"complexity\":17.0,\"blocking factor\":8,\"delay factor\":9.0},\"nameSub\":\"Intro. to Aerospace Eng.\",\"id\":21,\"credits\":3,\"nameCanonical\":\"\"},{\"curriculum_requisites\":[],\"name\":\" \",\"metrics\":{\"centrality\":0,\"complexity\":1.0,\"blocking factor\":0,\"delay factor\":1.0},\"nameSub\":\"Tier I General Ed. 3\",\"id\":22,\"credits\":3,\"nameCanonical\":\"\"}],\"id\":4},{\"name\":\"Term 5\",\"curriculum_items\":[{\"curriculum_requisites\":[{\"source_id\":26,\"target_id\":23,\"type\":\"CurriculumCorequisite\"},{\"source_id\":21,\"target_id\":23,\"type\":\"CurriculumPrerequisite\"}],\"name\":\"AME 320\",\"metrics\":{\"centrality\":214,\"complexity\":14.0,\"blocking factor\":5,\"delay factor\":9.0},\"nameSub\":\"Aerodynamics\",\"id\":23,\"credits\":3,\"nameCanonical\":\"\"},{\"curriculum_requisites\":[{\"source_id\":12,\"target_id\":24,\"type\":\"CurriculumPrerequisite\"}],\"name\":\"AME  324A\",\"metrics\":{\"centrality\":172,\"complexity\":21.0,\"blocking factor\":12,\"delay factor\":9.0},\"nameSub\":\"Mech. Behavior of Eng. Materials.\",\"id\":24,\"credits\":3,\"nameCanonical\":\"\"},{\"curriculum_requisites\":[{\"source_id\":20,\"target_id\":25,\"type\":\"CurriculumPrerequisite\"}],\"name\":\"AME 301\",\"metrics\":{\"centrality\":6,\"complexity\":7.0,\"blocking factor\":1,\"delay factor\":6.0},\"nameSub\":\"Engineering Analysis\",\"id\":25,\"credits\":3,\"nameCanonical\":\"\"},{\"curriculum_requisites\":[{\"source_id\":18,\"target_id\":26,\"type\":\"CurriculumCorequisite\"},{\"source_id\":24,\"target_id\":26,\"type\":\"CurriculumCorequisite\"}],\"name\":\"AME 300\",\"metrics\":{\"centrality\":204,\"complexity\":19.0,\"blocking factor\":10,\"delay factor\":9.0},\"nameSub\":\"Instrumentation Lab.\",\"id\":26,\"credits\":3,\"nameCanonical\":\"\"},{\"curriculum_requisites\":[{\"source_id\":2,\"target_id\":27,\"type\":\"CurriculumPrerequisite\"}],\"name\":\"MSE 331R\",\"metrics\":{\"centrality\":3,\"complexity\":4.0,\"blocking factor\":1,\"delay factor\":3.0},\"nameSub\":\"Fund. of Materials for Engineers\",\"id\":27,\"credits\":3,\"nameCanonical\":\"\"},{\"curriculum_requisites\":[{\"source_id\":24,\"target_id\":28,\"type\":\"CurriculumCorequisite\"}],\"name\":\"AME 324L\",\"metrics\":{\"centrality\":0,\"complexity\":5.0,\"blocking factor\":0,\"delay factor\":5.0},\"nameSub\":\"Mech. of Materials Lab.\",\"id\":28,\"credits\":1,\"nameCanonical\":\"\"}],\"id\":5},{\"name\":\"Term 6\",\"curriculum_items\":[{\"curriculum_requisites\":[{\"source_id\":25,\"target_id\":29,\"type\":\"CurriculumPrerequisite\"}],\"name\":\"AME 324B\",\"metrics\":{\"centrality\":0,\"complexity\":6.0,\"blocking factor\":0,\"delay factor\":6.0},\"nameSub\":\"Eng. Component Design\",\"id\":29,\"credits\":3,\"nameCanonical\":\"\"},{\"curriculum_requisites\":[{\"source_id\":23,\"target_id\":30,\"type\":\"CurriculumCorequisite\"},{\"source_id\":19,\"target_id\":30,\"type\":\"CurriculumPrerequisite\"},{\"source_id\":21,\"target_id\":30,\"type\":\"CurriculumPrerequisite\"}],\"name\":\"AME 321\",\"metrics\":{\"centrality\":174,\"complexity\":12.0,\"blocking factor\":3,\"delay factor\":9.0},\"nameSub\":\"Aircraft Performance\",\"id\":30,\"credits\":3,\"nameCanonical\":\"\"},{\"curriculum_requisites\":[{\"source_id\":18,\"target_id\":31,\"type\":\"CurriculumPrerequisite\"},{\"source_id\":32,\"target_id\":31,\"type\":\"CurriculumCorequisite\"},{\"source_id\":21,\"target_id\":31,\"type\":\"CurriculumPrerequisite\"},{\"source_id\":20,\"target_id\":31,\"type\":\"CurriculumPrerequisite\"}],\"name\":\"AME 323\",\"metrics\":{\"centrality\":274,\"complexity\":13.0,\"blocking factor\":4,\"delay factor\":9.0},\"nameSub\":\"Gasdynamics\",\"id\":31,\"credits\":3,\"nameCanonical\":\"\"},{\"curriculum_requisites\":[{\"source_id\":26,\"target_id\":32,\"type\":\"CurriculumCorequisite\"},{\"source_id\":19,\"target_id\":32,\"type\":\"CurriculumPrerequisite\"},{\"source_id\":15,\"target_id\":32,\"type\":\"CurriculumPrerequisite\"},{\"source_id\":20,\"target_id\":32,\"type\":\"CurriculumPrerequisite\"}],\"name\":\"AME 302\",\"metrics\":{\"centrality\":232,\"complexity\":15.0,\"blocking factor\":6,\"delay factor\":9.0},\"nameSub\":\"Numerical Methods\",\"id\":32,\"credits\":3,\"nameCanonical\":\"\"},{\"curriculum_requisites\":[],\"name\":\"AME 313\",\"metrics\":{\"centrality\":0,\"complexity\":5.0,\"blocking factor\":2,\"delay factor\":3.0},\"nameSub\":\"Aero./Mech. Eng. Lab\",\"id\":33,\"credits\":1,\"nameCanonical\":\"\"},{\"curriculum_requisites\":[],\"name\":\" \",\"metrics\":{\"centrality\":0,\"complexity\":1.0,\"blocking factor\":0,\"delay factor\":1.0},\"nameSub\":\"Tier II General Ed. 1\",\"id\":34,\"credits\":3,\"nameCanonical\":\"\"}],\"id\":6},{\"name\":\"Term 7\",\"curriculum_items\":[{\"curriculum_requisites\":[{\"source_id\":23,\"target_id\":35,\"type\":\"CurriculumPrerequisite\"},{\"source_id\":31,\"target_id\":35,\"type\":\"CurriculumPrerequisite\"},{\"source_id\":27,\"target_id\":35,\"type\":\"CurriculumPrerequisite\"}],\"name\":\"AME 401\",\"metrics\":{\"centrality\":0,\"complexity\":8.0,\"blocking factor\":0,\"delay factor\":8.0},\"nameSub\":\"Senior Aerospace Lab.\",\"id\":35,\"credits\":3,\"nameCanonical\":\"\"},{\"curriculum_requisites\":[{\"source_id\":23,\"target_id\":36,\"type\":\"CurriculumPrerequisite\"},{\"source_id\":31,\"target_id\":36,\"type\":\"CurriculumPrerequisite\"},{\"source_id\":33,\"target_id\":36,\"type\":\"CurriculumPrerequisite\"},{\"source_id\":30,\"target_id\":36,\"type\":\"CurriculumPrerequisite\"}],\"name\":\"AME 420\",\"metrics\":{\"centrality\":240,\"complexity\":10.0,\"blocking factor\":1,\"delay factor\":9.0},\"nameSub\":\"Aerospace Conceptual Design\",\"id\":36,\"credits\":3,\"nameCanonical\":\"\"},{\"curriculum_requisites\":[{\"source_id\":24,\"target_id\":37,\"type\":\"CurriculumPrerequisite\"},{\"source_id\":31,\"target_id\":37,\"type\":\"CurriculumPrerequisite\"},{\"source_id\":18,\"target_id\":37,\"type\":\"CurriculumPrerequisite\"}],\"name\":\"AME 425\",\"metrics\":{\"centrality\":0,\"complexity\":8.0,\"blocking factor\":0,\"delay factor\":8.0},\"nameSub\":\"Aerospace Propulsion\",\"id\":37,\"credits\":3,\"nameCanonical\":\"\"},{\"curriculum_requisites\":[{\"source_id\":23,\"target_id\":38,\"type\":\"CurriculumPrerequisite\"},{\"source_id\":15,\"target_id\":38,\"type\":\"CurriculumPrerequisite\"},{\"source_id\":30,\"target_id\":38,\"type\":\"CurriculumPrerequisite\"}],\"name\":\"AME 427\",\"metrics\":{\"centrality\":0,\"complexity\":8.0,\"blocking factor\":0,\"delay factor\":8.0},\"nameSub\":\"Stability and Control of Aero. Vehicles\",\"id\":38,\"credits\":3,\"nameCanonical\":\"\"},{\"curriculum_requisites\":[{\"source_id\":13,\"target_id\":39,\"type\":\"CurriculumPrerequisite\"},{\"source_id\":19,\"target_id\":39,\"type\":\"CurriculumPrerequisite\"}],\"name\":\"AME 457\",\"metrics\":{\"centrality\":0,\"complexity\":6.0,\"blocking factor\":0,\"delay factor\":6.0},\"nameSub\":\"Orbital Mechanicans and Space Flt.\",\"id\":39,\"credits\":3,\"nameCanonical\":\"\"},{\"curriculum_requisites\":[],\"name\":\"AME 495S\",\"metrics\":{\"centrality\":0,\"complexity\":1.0,\"blocking factor\":0,\"delay factor\":1.0},\"nameSub\":\"Senior Colloquium\",\"id\":40,\"credits\":1,\"nameCanonical\":\"\"}],\"id\":7},{\"name\":\"Term 8\",\"curriculum_items\":[{\"curriculum_requisites\":[{\"source_id\":36,\"target_id\":41,\"type\":\"CurriculumPrerequisite\"},{\"source_id\":33,\"target_id\":41,\"type\":\"CurriculumCorequisite\"}],\"name\":\"AME 422\",\"metrics\":{\"centrality\":0,\"complexity\":9.0,\"blocking factor\":0,\"delay factor\":9.0},\"nameSub\":\"Aerospace Eng.Design\",\"id\":41,\"credits\":3,\"nameCanonical\":\"\"},{\"curriculum_requisites\":[{\"source_id\":24,\"target_id\":42,\"type\":\"CurriculumPrerequisite\"},{\"source_id\":32,\"target_id\":42,\"type\":\"CurriculumPrerequisite\"},{\"source_id\":18,\"target_id\":42,\"type\":\"CurriculumPrerequisite\"}],\"name\":\"AME 431\",\"metrics\":{\"centrality\":0,\"complexity\":7.0,\"blocking factor\":0,\"delay factor\":7.0},\"nameSub\":\"Num. Meth. in Fluid Mech. & Heat Xfer\",\"id\":42,\"credits\":3,\"nameCanonical\":\"\"},{\"curriculum_requisites\":[],\"name\":\" \",\"metrics\":{\"centrality\":0,\"complexity\":1.0,\"blocking factor\":0,\"delay factor\":1.0},\"nameSub\":\"Technical Elective 1\",\"id\":43,\"credits\":3,\"nameCanonical\":\"\"},{\"curriculum_requisites\":[],\"name\":\" \",\"metrics\":{\"centrality\":0,\"complexity\":1.0,\"blocking factor\":0,\"delay factor\":1.0},\"nameSub\":\"Technical Elective 2\",\"id\":44,\"credits\":3,\"nameCanonical\":\"\"},{\"curriculum_requisites\":[],\"name\":\" \",\"metrics\":{\"centrality\":0,\"complexity\":1.0,\"blocking factor\":0,\"delay factor\":1.0},\"nameSub\":\"Tier II General Ed. 2\",\"id\":45,\"credits\":3,\"nameCanonical\":\"\"}],\"id\":8}],\"institution\":\"University of Arizona\"}},\"*\"); window.removeEventListener(\"message\",window.messageReceived); window.messageReceived=(function (event){return (event.data.curriculum!==undefined) ? (WebIO.setval({\"name\":\"curriculum-data\",\"scope\":\"878384446445442772\",\"id\":\"14778852729857480092\",\"type\":\"observable\"},event.data.curriculum)) : undefined}); return window.addEventListener(\"message\",window.messageReceived)})"
          },
          "id": "curriculum",
          "src": "http://localhost:8156",
          "style": {
           "border": "none",
           "height": "80vh",
           "margin": "0",
           "padding": "0",
           "width": "100%"
          }
         },
         "type": "node"
        }
       ],
       "instanceArgs": {
        "handlers": {},
        "id": "878384446445442772",
        "imports": {
         "data": [],
         "type": "async_block"
        },
        "mount_callbacks": [],
        "observables": {
         "curriculum-data": {
          "id": "14778852729857480092",
          "sync": true,
          "value": {
           "curriculum": {
            "curriculum_terms": [
             {
              "curriculum_items": [
               {
                "credits": 3,
                "curriculum_requisites": [],
                "id": 1,
                "metrics": {
                 "blocking factor": 29,
                 "centrality": 0,
                 "complexity": 38,
                 "delay factor": 9
                },
                "name": "MATH 125",
                "nameCanonical": "",
                "nameSub": "Calculus I w/ Applications"
               },
               {
                "credits": 4,
                "curriculum_requisites": [],
                "id": 2,
                "metrics": {
                 "blocking factor": 2,
                 "centrality": 0,
                 "complexity": 5,
                 "delay factor": 3
                },
                "name": "CHEM 151",
                "nameCanonical": "",
                "nameSub": "Gen Chemistry I"
               },
               {
                "credits": 3,
                "curriculum_requisites": [],
                "id": 3,
                "metrics": {
                 "blocking factor": 1,
                 "centrality": 0,
                 "complexity": 3,
                 "delay factor": 2
                },
                "name": "ENGL 101",
                "nameCanonical": "",
                "nameSub": "First-year Comp."
               },
               {
                "credits": 3,
                "curriculum_requisites": [
                 {
                  "source_id": 1,
                  "target_id": 4,
                  "type": "CurriculumCorequisite"
                 }
                ],
                "id": 4,
                "metrics": {
                 "blocking factor": 0,
                 "centrality": 0,
                 "complexity": 2,
                 "delay factor": 2
                },
                "name": "ENGR 102",
                "nameCanonical": "",
                "nameSub": "Intro to Engineering"
               },
               {
                "credits": 3,
                "curriculum_requisites": [],
                "id": 5,
                "metrics": {
                 "blocking factor": 0,
                 "centrality": 0,
                 "complexity": 1,
                 "delay factor": 1
                },
                "name": " ",
                "nameCanonical": "",
                "nameSub": "Tier I General Ed."
               }
              ],
              "id": 1,
              "name": "Term 1"
             },
             {
              "curriculum_items": [
               {
                "credits": 3,
                "curriculum_requisites": [
                 {
                  "source_id": 1,
                  "target_id": 6,
                  "type": "CurriculumPrerequisite"
                 }
                ],
                "id": 6,
                "metrics": {
                 "blocking factor": 22,
                 "centrality": 387,
                 "complexity": 31,
                 "delay factor": 9
                },
                "name": "MATH 129",
                "nameCanonical": "",
                "nameSub": "Calculus II"
               },
               {
                "credits": 1,
                "curriculum_requisites": [
                 {
                  "source_id": 1,
                  "target_id": 7,
                  "type": "CurriculumPrerequisite"
                 }
                ],
                "id": 7,
                "metrics": {
                 "blocking factor": 9,
                 "centrality": 28,
                 "complexity": 16,
                 "delay factor": 7
                },
                "name": "AME 105",
                "nameCanonical": "",
                "nameSub": "Intro. to MATLAB I"
               },
               {
                "credits": 4,
                "curriculum_requisites": [
                 {
                  "source_id": 1,
                  "target_id": 8,
                  "type": "CurriculumPrerequisite"
                 }
                ],
                "id": 8,
                "metrics": {
                 "blocking factor": 19,
                 "centrality": 277,
                 "complexity": 28,
                 "delay factor": 9
                },
                "name": "PHYS 141",
                "nameCanonical": "",
                "nameSub": "Intro Mechanics"
               },
               {
                "credits": 3,
                "curriculum_requisites": [
                 {
                  "source_id": 3,
                  "target_id": 9,
                  "type": "CurriculumPrerequisite"
                 }
                ],
                "id": 9,
                "metrics": {
                 "blocking factor": 0,
                 "centrality": 0,
                 "complexity": 2,
                 "delay factor": 2
                },
                "name": "ENGL 102",
                "nameCanonical": "",
                "nameSub": "First-year Comp."
               },
               {
                "credits": 3,
                "curriculum_requisites": [
                 {
                  "source_id": 1,
                  "target_id": 10,
                  "type": "CurriculumCorequisite"
                 }
                ],
                "id": 10,
                "metrics": {
                 "blocking factor": 0,
                 "centrality": 0,
                 "complexity": 2,
                 "delay factor": 2
                },
                "name": "ECE 175",
                "nameCanonical": "",
                "nameSub": "Programming for Eng. Apps."
               },
               {
                "credits": 3,
                "curriculum_requisites": [],
                "id": 11,
                "metrics": {
                 "blocking factor": 0,
                 "centrality": 0,
                 "complexity": 1,
                 "delay factor": 1
                },
                "name": " ",
                "nameCanonical": "",
                "nameSub": "Tier I General Ed. 1"
               }
              ],
              "id": 2,
              "name": "Term 2"
             },
             {
              "curriculum_items": [
               {
                "credits": 3,
                "curriculum_requisites": [
                 {
                  "source_id": 8,
                  "target_id": 12,
                  "type": "CurriculumPrerequisite"
                 },
                 {
                  "source_id": 6,
                  "target_id": 12,
                  "type": "CurriculumPrerequisite"
                 }
                ],
                "id": 12,
                "metrics": {
                 "blocking factor": 15,
                 "centrality": 264,
                 "complexity": 24,
                 "delay factor": 9
                },
                "name": "CE 214",
                "nameCanonical": "",
                "nameSub": "Statics"
               },
               {
                "credits": 4,
                "curriculum_requisites": [
                 {
                  "source_id": 6,
                  "target_id": 13,
                  "type": "CurriculumPrerequisite"
                 }
                ],
                "id": 13,
                "metrics": {
                 "blocking factor": 16,
                 "centrality": 252,
                 "complexity": 25,
                 "delay factor": 9
                },
                "name": "MATH  223",
                "nameCanonical": "",
                "nameSub": "Vector Calculus"
               },
               {
                "credits": 4,
                "curriculum_requisites": [
                 {
                  "source_id": 8,
                  "target_id": 14,
                  "type": "CurriculumPrerequisite"
                 },
                 {
                  "source_id": 6,
                  "target_id": 14,
                  "type": "CurriculumPrerequisite"
                 }
                ],
                "id": 14,
                "metrics": {
                 "blocking factor": 0,
                 "centrality": 0,
                 "complexity": 3,
                 "delay factor": 3
                },
                "name": "PHYS 241",
                "nameCanonical": "",
                "nameSub": "Electricity & Magnetism"
               },
               {
                "credits": 1,
                "curriculum_requisites": [
                 {
                  "source_id": 7,
                  "target_id": 15,
                  "type": "CurriculumPrerequisite"
                 }
                ],
                "id": 15,
                "metrics": {
                 "blocking factor": 8,
                 "centrality": 28,
                 "complexity": 15,
                 "delay factor": 7
                },
                "name": "AME  205",
                "nameCanonical": "",
                "nameSub": "Intro. To MATLAB II"
               },
               {
                "credits": 3,
                "curriculum_requisites": [],
                "id": 16,
                "metrics": {
                 "blocking factor": 0,
                 "centrality": 0,
                 "complexity": 1,
                 "delay factor": 1
                },
                "name": "AME 211",
                "nameCanonical": "",
                "nameSub": "Comp. Aided Drafting & Manufacturing"
               },
               {
                "credits": 3,
                "curriculum_requisites": [],
                "id": 17,
                "metrics": {
                 "blocking factor": 0,
                 "centrality": 0,
                 "complexity": 1,
                 "delay factor": 1
                },
                "name": " ",
                "nameCanonical": "",
                "nameSub": "Tier I General Ed. 2"
               }
              ],
              "id": 3,
              "name": "Term 3"
             },
             {
              "curriculum_items": [
               {
                "credits": 3,
                "curriculum_requisites": [
                 {
                  "source_id": 8,
                  "target_id": 18,
                  "type": "CurriculumPrerequisite"
                 }
                ],
                "id": 18,
                "metrics": {
                 "blocking factor": 11,
                 "centrality": 86,
                 "complexity": 19,
                 "delay factor": 8
                },
                "name": "AME 230",
                "nameCanonical": "",
                "nameSub": "Thermodynamics"
               },
               {
                "credits": 3,
                "curriculum_requisites": [
                 {
                  "source_id": 12,
                  "target_id": 19,
                  "type": "CurriculumPrerequisite"
                 },
                 {
                  "source_id": 20,
                  "target_id": 19,
                  "type": "CurriculumCorequisite"
                 }
                ],
                "id": 19,
                "metrics": {
                 "blocking factor": 10,
                 "centrality": 145,
                 "complexity": 19,
                 "delay factor": 9
                },
                "name": "AME 250",
                "nameCanonical": "",
                "nameSub": "Dynamics"
               },
               {
                "credits": 3,
                "curriculum_requisites": [
                 {
                  "source_id": 13,
                  "target_id": 20,
                  "type": "CurriculumPrerequisite"
                 }
                ],
                "id": 20,
                "metrics": {
                 "blocking factor": 15,
                 "centrality": 182,
                 "complexity": 24,
                 "delay factor": 9
                },
                "name": "MATH 254",
                "nameCanonical": "",
                "nameSub": "Intro. to ODEs"
               },
               {
                "credits": 3,
                "curriculum_requisites": [
                 {
                  "source_id": 13,
                  "target_id": 21,
                  "type": "CurriculumPrerequisite"
                 },
                 {
                  "source_id": 8,
                  "target_id": 21,
                  "type": "CurriculumPrerequisite"
                 },
                 {
                  "source_id": 20,
                  "target_id": 21,
                  "type": "CurriculumCorequisite"
                 }
                ],
                "id": 21,
                "metrics": {
                 "blocking factor": 8,
                 "centrality": 198,
                 "complexity": 17,
                 "delay factor": 9
                },
                "name": "AME 220",
                "nameCanonical": "",
                "nameSub": "Intro. to Aerospace Eng."
               },
               {
                "credits": 3,
                "curriculum_requisites": [],
                "id": 22,
                "metrics": {
                 "blocking factor": 0,
                 "centrality": 0,
                 "complexity": 1,
                 "delay factor": 1
                },
                "name": " ",
                "nameCanonical": "",
                "nameSub": "Tier I General Ed. 3"
               }
              ],
              "id": 4,
              "name": "Term 4"
             },
             {
              "curriculum_items": [
               {
                "credits": 3,
                "curriculum_requisites": [
                 {
                  "source_id": 26,
                  "target_id": 23,
                  "type": "CurriculumCorequisite"
                 },
                 {
                  "source_id": 21,
                  "target_id": 23,
                  "type": "CurriculumPrerequisite"
                 }
                ],
                "id": 23,
                "metrics": {
                 "blocking factor": 5,
                 "centrality": 214,
                 "complexity": 14,
                 "delay factor": 9
                },
                "name": "AME 320",
                "nameCanonical": "",
                "nameSub": "Aerodynamics"
               },
               {
                "credits": 3,
                "curriculum_requisites": [
                 {
                  "source_id": 12,
                  "target_id": 24,
                  "type": "CurriculumPrerequisite"
                 }
                ],
                "id": 24,
                "metrics": {
                 "blocking factor": 12,
                 "centrality": 172,
                 "complexity": 21,
                 "delay factor": 9
                },
                "name": "AME  324A",
                "nameCanonical": "",
                "nameSub": "Mech. Behavior of Eng. Materials."
               },
               {
                "credits": 3,
                "curriculum_requisites": [
                 {
                  "source_id": 20,
                  "target_id": 25,
                  "type": "CurriculumPrerequisite"
                 }
                ],
                "id": 25,
                "metrics": {
                 "blocking factor": 1,
                 "centrality": 6,
                 "complexity": 7,
                 "delay factor": 6
                },
                "name": "AME 301",
                "nameCanonical": "",
                "nameSub": "Engineering Analysis"
               },
               {
                "credits": 3,
                "curriculum_requisites": [
                 {
                  "source_id": 18,
                  "target_id": 26,
                  "type": "CurriculumCorequisite"
                 },
                 {
                  "source_id": 24,
                  "target_id": 26,
                  "type": "CurriculumCorequisite"
                 }
                ],
                "id": 26,
                "metrics": {
                 "blocking factor": 10,
                 "centrality": 204,
                 "complexity": 19,
                 "delay factor": 9
                },
                "name": "AME 300",
                "nameCanonical": "",
                "nameSub": "Instrumentation Lab."
               },
               {
                "credits": 3,
                "curriculum_requisites": [
                 {
                  "source_id": 2,
                  "target_id": 27,
                  "type": "CurriculumPrerequisite"
                 }
                ],
                "id": 27,
                "metrics": {
                 "blocking factor": 1,
                 "centrality": 3,
                 "complexity": 4,
                 "delay factor": 3
                },
                "name": "MSE 331R",
                "nameCanonical": "",
                "nameSub": "Fund. of Materials for Engineers"
               },
               {
                "credits": 1,
                "curriculum_requisites": [
                 {
                  "source_id": 24,
                  "target_id": 28,
                  "type": "CurriculumCorequisite"
                 }
                ],
                "id": 28,
                "metrics": {
                 "blocking factor": 0,
                 "centrality": 0,
                 "complexity": 5,
                 "delay factor": 5
                },
                "name": "AME 324L",
                "nameCanonical": "",
                "nameSub": "Mech. of Materials Lab."
               }
              ],
              "id": 5,
              "name": "Term 5"
             },
             {
              "curriculum_items": [
               {
                "credits": 3,
                "curriculum_requisites": [
                 {
                  "source_id": 25,
                  "target_id": 29,
                  "type": "CurriculumPrerequisite"
                 }
                ],
                "id": 29,
                "metrics": {
                 "blocking factor": 0,
                 "centrality": 0,
                 "complexity": 6,
                 "delay factor": 6
                },
                "name": "AME 324B",
                "nameCanonical": "",
                "nameSub": "Eng. Component Design"
               },
               {
                "credits": 3,
                "curriculum_requisites": [
                 {
                  "source_id": 23,
                  "target_id": 30,
                  "type": "CurriculumCorequisite"
                 },
                 {
                  "source_id": 19,
                  "target_id": 30,
                  "type": "CurriculumPrerequisite"
                 },
                 {
                  "source_id": 21,
                  "target_id": 30,
                  "type": "CurriculumPrerequisite"
                 }
                ],
                "id": 30,
                "metrics": {
                 "blocking factor": 3,
                 "centrality": 174,
                 "complexity": 12,
                 "delay factor": 9
                },
                "name": "AME 321",
                "nameCanonical": "",
                "nameSub": "Aircraft Performance"
               },
               {
                "credits": 3,
                "curriculum_requisites": [
                 {
                  "source_id": 18,
                  "target_id": 31,
                  "type": "CurriculumPrerequisite"
                 },
                 {
                  "source_id": 32,
                  "target_id": 31,
                  "type": "CurriculumCorequisite"
                 },
                 {
                  "source_id": 21,
                  "target_id": 31,
                  "type": "CurriculumPrerequisite"
                 },
                 {
                  "source_id": 20,
                  "target_id": 31,
                  "type": "CurriculumPrerequisite"
                 }
                ],
                "id": 31,
                "metrics": {
                 "blocking factor": 4,
                 "centrality": 274,
                 "complexity": 13,
                 "delay factor": 9
                },
                "name": "AME 323",
                "nameCanonical": "",
                "nameSub": "Gasdynamics"
               },
               {
                "credits": 3,
                "curriculum_requisites": [
                 {
                  "source_id": 26,
                  "target_id": 32,
                  "type": "CurriculumCorequisite"
                 },
                 {
                  "source_id": 19,
                  "target_id": 32,
                  "type": "CurriculumPrerequisite"
                 },
                 {
                  "source_id": 15,
                  "target_id": 32,
                  "type": "CurriculumPrerequisite"
                 },
                 {
                  "source_id": 20,
                  "target_id": 32,
                  "type": "CurriculumPrerequisite"
                 }
                ],
                "id": 32,
                "metrics": {
                 "blocking factor": 6,
                 "centrality": 232,
                 "complexity": 15,
                 "delay factor": 9
                },
                "name": "AME 302",
                "nameCanonical": "",
                "nameSub": "Numerical Methods"
               },
               {
                "credits": 1,
                "curriculum_requisites": [],
                "id": 33,
                "metrics": {
                 "blocking factor": 2,
                 "centrality": 0,
                 "complexity": 5,
                 "delay factor": 3
                },
                "name": "AME 313",
                "nameCanonical": "",
                "nameSub": "Aero./Mech. Eng. Lab"
               },
               {
                "credits": 3,
                "curriculum_requisites": [],
                "id": 34,
                "metrics": {
                 "blocking factor": 0,
                 "centrality": 0,
                 "complexity": 1,
                 "delay factor": 1
                },
                "name": " ",
                "nameCanonical": "",
                "nameSub": "Tier II General Ed. 1"
               }
              ],
              "id": 6,
              "name": "Term 6"
             },
             {
              "curriculum_items": [
               {
                "credits": 3,
                "curriculum_requisites": [
                 {
                  "source_id": 23,
                  "target_id": 35,
                  "type": "CurriculumPrerequisite"
                 },
                 {
                  "source_id": 31,
                  "target_id": 35,
                  "type": "CurriculumPrerequisite"
                 },
                 {
                  "source_id": 27,
                  "target_id": 35,
                  "type": "CurriculumPrerequisite"
                 }
                ],
                "id": 35,
                "metrics": {
                 "blocking factor": 0,
                 "centrality": 0,
                 "complexity": 8,
                 "delay factor": 8
                },
                "name": "AME 401",
                "nameCanonical": "",
                "nameSub": "Senior Aerospace Lab."
               },
               {
                "credits": 3,
                "curriculum_requisites": [
                 {
                  "source_id": 23,
                  "target_id": 36,
                  "type": "CurriculumPrerequisite"
                 },
                 {
                  "source_id": 31,
                  "target_id": 36,
                  "type": "CurriculumPrerequisite"
                 },
                 {
                  "source_id": 33,
                  "target_id": 36,
                  "type": "CurriculumPrerequisite"
                 },
                 {
                  "source_id": 30,
                  "target_id": 36,
                  "type": "CurriculumPrerequisite"
                 }
                ],
                "id": 36,
                "metrics": {
                 "blocking factor": 1,
                 "centrality": 240,
                 "complexity": 10,
                 "delay factor": 9
                },
                "name": "AME 420",
                "nameCanonical": "",
                "nameSub": "Aerospace Conceptual Design"
               },
               {
                "credits": 3,
                "curriculum_requisites": [
                 {
                  "source_id": 24,
                  "target_id": 37,
                  "type": "CurriculumPrerequisite"
                 },
                 {
                  "source_id": 31,
                  "target_id": 37,
                  "type": "CurriculumPrerequisite"
                 },
                 {
                  "source_id": 18,
                  "target_id": 37,
                  "type": "CurriculumPrerequisite"
                 }
                ],
                "id": 37,
                "metrics": {
                 "blocking factor": 0,
                 "centrality": 0,
                 "complexity": 8,
                 "delay factor": 8
                },
                "name": "AME 425",
                "nameCanonical": "",
                "nameSub": "Aerospace Propulsion"
               },
               {
                "credits": 3,
                "curriculum_requisites": [
                 {
                  "source_id": 23,
                  "target_id": 38,
                  "type": "CurriculumPrerequisite"
                 },
                 {
                  "source_id": 15,
                  "target_id": 38,
                  "type": "CurriculumPrerequisite"
                 },
                 {
                  "source_id": 30,
                  "target_id": 38,
                  "type": "CurriculumPrerequisite"
                 }
                ],
                "id": 38,
                "metrics": {
                 "blocking factor": 0,
                 "centrality": 0,
                 "complexity": 8,
                 "delay factor": 8
                },
                "name": "AME 427",
                "nameCanonical": "",
                "nameSub": "Stability and Control of Aero. Vehicles"
               },
               {
                "credits": 3,
                "curriculum_requisites": [
                 {
                  "source_id": 13,
                  "target_id": 39,
                  "type": "CurriculumPrerequisite"
                 },
                 {
                  "source_id": 19,
                  "target_id": 39,
                  "type": "CurriculumPrerequisite"
                 }
                ],
                "id": 39,
                "metrics": {
                 "blocking factor": 0,
                 "centrality": 0,
                 "complexity": 6,
                 "delay factor": 6
                },
                "name": "AME 457",
                "nameCanonical": "",
                "nameSub": "Orbital Mechanicans and Space Flt."
               },
               {
                "credits": 1,
                "curriculum_requisites": [],
                "id": 40,
                "metrics": {
                 "blocking factor": 0,
                 "centrality": 0,
                 "complexity": 1,
                 "delay factor": 1
                },
                "name": "AME 495S",
                "nameCanonical": "",
                "nameSub": "Senior Colloquium"
               }
              ],
              "id": 7,
              "name": "Term 7"
             },
             {
              "curriculum_items": [
               {
                "credits": 3,
                "curriculum_requisites": [
                 {
                  "source_id": 36,
                  "target_id": 41,
                  "type": "CurriculumPrerequisite"
                 },
                 {
                  "source_id": 33,
                  "target_id": 41,
                  "type": "CurriculumCorequisite"
                 }
                ],
                "id": 41,
                "metrics": {
                 "blocking factor": 0,
                 "centrality": 0,
                 "complexity": 9,
                 "delay factor": 9
                },
                "name": "AME 422",
                "nameCanonical": "",
                "nameSub": "Aerospace Eng.Design"
               },
               {
                "credits": 3,
                "curriculum_requisites": [
                 {
                  "source_id": 24,
                  "target_id": 42,
                  "type": "CurriculumPrerequisite"
                 },
                 {
                  "source_id": 32,
                  "target_id": 42,
                  "type": "CurriculumPrerequisite"
                 },
                 {
                  "source_id": 18,
                  "target_id": 42,
                  "type": "CurriculumPrerequisite"
                 }
                ],
                "id": 42,
                "metrics": {
                 "blocking factor": 0,
                 "centrality": 0,
                 "complexity": 7,
                 "delay factor": 7
                },
                "name": "AME 431",
                "nameCanonical": "",
                "nameSub": "Num. Meth. in Fluid Mech. & Heat Xfer"
               },
               {
                "credits": 3,
                "curriculum_requisites": [],
                "id": 43,
                "metrics": {
                 "blocking factor": 0,
                 "centrality": 0,
                 "complexity": 1,
                 "delay factor": 1
                },
                "name": " ",
                "nameCanonical": "",
                "nameSub": "Technical Elective 1"
               },
               {
                "credits": 3,
                "curriculum_requisites": [],
                "id": 44,
                "metrics": {
                 "blocking factor": 0,
                 "centrality": 0,
                 "complexity": 1,
                 "delay factor": 1
                },
                "name": " ",
                "nameCanonical": "",
                "nameSub": "Technical Elective 2"
               },
               {
                "credits": 3,
                "curriculum_requisites": [],
                "id": 45,
                "metrics": {
                 "blocking factor": 0,
                 "centrality": 0,
                 "complexity": 1,
                 "delay factor": 1
                },
                "name": " ",
                "nameCanonical": "",
                "nameSub": "Tier II General Ed. 2"
               }
              ],
              "id": 8,
              "name": "Term 8"
             }
            ],
            "dp_name": "2019-20 Degree Plan",
            "institution": "University of Arizona",
            "name": "Aerospace Engineering"
           },
           "options": {
            "edit": false,
            "hideTerms": false
           }
          }
         }
        },
        "systemjs_options": null
       },
       "nodeType": "Scope",
       "props": {},
       "type": "node"
      },
      "text/html": [
       "<div\n",
       "    class=\"webio-mountpoint\"\n",
       "    data-webio-mountpoint=\"6591469598581984940\"\n",
       ">\n",
       "    <script>\n",
       "    if (window.require && require.defined && require.defined(\"nbextensions/webio-jupyter-notebook\")) {\n",
       "        console.log(\"Jupyter WebIO extension detected, not mounting.\");\n",
       "    } else if (window.WebIO) {\n",
       "        WebIO.mount(\n",
       "            document.querySelector('[data-webio-mountpoint=\"6591469598581984940\"]'),\n",
       "            {\"props\":{},\"nodeType\":\"Scope\",\"type\":\"node\",\"instanceArgs\":{\"imports\":{\"data\":[],\"type\":\"async_block\"},\"id\":\"878384446445442772\",\"handlers\":{},\"systemjs_options\":null,\"mount_callbacks\":[],\"observables\":{\"curriculum-data\":{\"sync\":true,\"id\":\"14778852729857480092\",\"value\":{\"options\":{\"hideTerms\":false,\"edit\":false},\"curriculum\":{\"name\":\"Aerospace Engineering\",\"dp_name\":\"2019-20 Degree Plan\",\"curriculum_terms\":[{\"name\":\"Term 1\",\"curriculum_items\":[{\"curriculum_requisites\":[],\"name\":\"MATH 125\",\"metrics\":{\"centrality\":0,\"complexity\":38.0,\"blocking factor\":29,\"delay factor\":9.0},\"nameSub\":\"Calculus I w\\/ Applications\",\"id\":1,\"credits\":3,\"nameCanonical\":\"\"},{\"curriculum_requisites\":[],\"name\":\"CHEM 151\",\"metrics\":{\"centrality\":0,\"complexity\":5.0,\"blocking factor\":2,\"delay factor\":3.0},\"nameSub\":\"Gen Chemistry I\",\"id\":2,\"credits\":4,\"nameCanonical\":\"\"},{\"curriculum_requisites\":[],\"name\":\"ENGL 101\",\"metrics\":{\"centrality\":0,\"complexity\":3.0,\"blocking factor\":1,\"delay factor\":2.0},\"nameSub\":\"First-year Comp.\",\"id\":3,\"credits\":3,\"nameCanonical\":\"\"},{\"curriculum_requisites\":[{\"source_id\":1,\"target_id\":4,\"type\":\"CurriculumCorequisite\"}],\"name\":\"ENGR 102\",\"metrics\":{\"centrality\":0,\"complexity\":2.0,\"blocking factor\":0,\"delay factor\":2.0},\"nameSub\":\"Intro to Engineering\",\"id\":4,\"credits\":3,\"nameCanonical\":\"\"},{\"curriculum_requisites\":[],\"name\":\" \",\"metrics\":{\"centrality\":0,\"complexity\":1.0,\"blocking factor\":0,\"delay factor\":1.0},\"nameSub\":\"Tier I General Ed.\",\"id\":5,\"credits\":3,\"nameCanonical\":\"\"}],\"id\":1},{\"name\":\"Term 2\",\"curriculum_items\":[{\"curriculum_requisites\":[{\"source_id\":1,\"target_id\":6,\"type\":\"CurriculumPrerequisite\"}],\"name\":\"MATH 129\",\"metrics\":{\"centrality\":387,\"complexity\":31.0,\"blocking factor\":22,\"delay factor\":9.0},\"nameSub\":\"Calculus II\",\"id\":6,\"credits\":3,\"nameCanonical\":\"\"},{\"curriculum_requisites\":[{\"source_id\":1,\"target_id\":7,\"type\":\"CurriculumPrerequisite\"}],\"name\":\"AME 105\",\"metrics\":{\"centrality\":28,\"complexity\":16.0,\"blocking factor\":9,\"delay factor\":7.0},\"nameSub\":\"Intro. to MATLAB I\",\"id\":7,\"credits\":1,\"nameCanonical\":\"\"},{\"curriculum_requisites\":[{\"source_id\":1,\"target_id\":8,\"type\":\"CurriculumPrerequisite\"}],\"name\":\"PHYS 141\",\"metrics\":{\"centrality\":277,\"complexity\":28.0,\"blocking factor\":19,\"delay factor\":9.0},\"nameSub\":\"Intro Mechanics\",\"id\":8,\"credits\":4,\"nameCanonical\":\"\"},{\"curriculum_requisites\":[{\"source_id\":3,\"target_id\":9,\"type\":\"CurriculumPrerequisite\"}],\"name\":\"ENGL 102\",\"metrics\":{\"centrality\":0,\"complexity\":2.0,\"blocking factor\":0,\"delay factor\":2.0},\"nameSub\":\"First-year Comp.\",\"id\":9,\"credits\":3,\"nameCanonical\":\"\"},{\"curriculum_requisites\":[{\"source_id\":1,\"target_id\":10,\"type\":\"CurriculumCorequisite\"}],\"name\":\"ECE 175\",\"metrics\":{\"centrality\":0,\"complexity\":2.0,\"blocking factor\":0,\"delay factor\":2.0},\"nameSub\":\"Programming for Eng. Apps.\",\"id\":10,\"credits\":3,\"nameCanonical\":\"\"},{\"curriculum_requisites\":[],\"name\":\" \",\"metrics\":{\"centrality\":0,\"complexity\":1.0,\"blocking factor\":0,\"delay factor\":1.0},\"nameSub\":\"Tier I General Ed. 1\",\"id\":11,\"credits\":3,\"nameCanonical\":\"\"}],\"id\":2},{\"name\":\"Term 3\",\"curriculum_items\":[{\"curriculum_requisites\":[{\"source_id\":8,\"target_id\":12,\"type\":\"CurriculumPrerequisite\"},{\"source_id\":6,\"target_id\":12,\"type\":\"CurriculumPrerequisite\"}],\"name\":\"CE 214\",\"metrics\":{\"centrality\":264,\"complexity\":24.0,\"blocking factor\":15,\"delay factor\":9.0},\"nameSub\":\"Statics\",\"id\":12,\"credits\":3,\"nameCanonical\":\"\"},{\"curriculum_requisites\":[{\"source_id\":6,\"target_id\":13,\"type\":\"CurriculumPrerequisite\"}],\"name\":\"MATH  223\",\"metrics\":{\"centrality\":252,\"complexity\":25.0,\"blocking factor\":16,\"delay factor\":9.0},\"nameSub\":\"Vector Calculus\",\"id\":13,\"credits\":4,\"nameCanonical\":\"\"},{\"curriculum_requisites\":[{\"source_id\":8,\"target_id\":14,\"type\":\"CurriculumPrerequisite\"},{\"source_id\":6,\"target_id\":14,\"type\":\"CurriculumPrerequisite\"}],\"name\":\"PHYS 241\",\"metrics\":{\"centrality\":0,\"complexity\":3.0,\"blocking factor\":0,\"delay factor\":3.0},\"nameSub\":\"Electricity & Magnetism\",\"id\":14,\"credits\":4,\"nameCanonical\":\"\"},{\"curriculum_requisites\":[{\"source_id\":7,\"target_id\":15,\"type\":\"CurriculumPrerequisite\"}],\"name\":\"AME  205\",\"metrics\":{\"centrality\":28,\"complexity\":15.0,\"blocking factor\":8,\"delay factor\":7.0},\"nameSub\":\"Intro. To MATLAB II\",\"id\":15,\"credits\":1,\"nameCanonical\":\"\"},{\"curriculum_requisites\":[],\"name\":\"AME 211\",\"metrics\":{\"centrality\":0,\"complexity\":1.0,\"blocking factor\":0,\"delay factor\":1.0},\"nameSub\":\"Comp. Aided Drafting & Manufacturing\",\"id\":16,\"credits\":3,\"nameCanonical\":\"\"},{\"curriculum_requisites\":[],\"name\":\" \",\"metrics\":{\"centrality\":0,\"complexity\":1.0,\"blocking factor\":0,\"delay factor\":1.0},\"nameSub\":\"Tier I General Ed. 2\",\"id\":17,\"credits\":3,\"nameCanonical\":\"\"}],\"id\":3},{\"name\":\"Term 4\",\"curriculum_items\":[{\"curriculum_requisites\":[{\"source_id\":8,\"target_id\":18,\"type\":\"CurriculumPrerequisite\"}],\"name\":\"AME 230\",\"metrics\":{\"centrality\":86,\"complexity\":19.0,\"blocking factor\":11,\"delay factor\":8.0},\"nameSub\":\"Thermodynamics\",\"id\":18,\"credits\":3,\"nameCanonical\":\"\"},{\"curriculum_requisites\":[{\"source_id\":12,\"target_id\":19,\"type\":\"CurriculumPrerequisite\"},{\"source_id\":20,\"target_id\":19,\"type\":\"CurriculumCorequisite\"}],\"name\":\"AME 250\",\"metrics\":{\"centrality\":145,\"complexity\":19.0,\"blocking factor\":10,\"delay factor\":9.0},\"nameSub\":\"Dynamics\",\"id\":19,\"credits\":3,\"nameCanonical\":\"\"},{\"curriculum_requisites\":[{\"source_id\":13,\"target_id\":20,\"type\":\"CurriculumPrerequisite\"}],\"name\":\"MATH 254\",\"metrics\":{\"centrality\":182,\"complexity\":24.0,\"blocking factor\":15,\"delay factor\":9.0},\"nameSub\":\"Intro. to ODEs\",\"id\":20,\"credits\":3,\"nameCanonical\":\"\"},{\"curriculum_requisites\":[{\"source_id\":13,\"target_id\":21,\"type\":\"CurriculumPrerequisite\"},{\"source_id\":8,\"target_id\":21,\"type\":\"CurriculumPrerequisite\"},{\"source_id\":20,\"target_id\":21,\"type\":\"CurriculumCorequisite\"}],\"name\":\"AME 220\",\"metrics\":{\"centrality\":198,\"complexity\":17.0,\"blocking factor\":8,\"delay factor\":9.0},\"nameSub\":\"Intro. to Aerospace Eng.\",\"id\":21,\"credits\":3,\"nameCanonical\":\"\"},{\"curriculum_requisites\":[],\"name\":\" \",\"metrics\":{\"centrality\":0,\"complexity\":1.0,\"blocking factor\":0,\"delay factor\":1.0},\"nameSub\":\"Tier I General Ed. 3\",\"id\":22,\"credits\":3,\"nameCanonical\":\"\"}],\"id\":4},{\"name\":\"Term 5\",\"curriculum_items\":[{\"curriculum_requisites\":[{\"source_id\":26,\"target_id\":23,\"type\":\"CurriculumCorequisite\"},{\"source_id\":21,\"target_id\":23,\"type\":\"CurriculumPrerequisite\"}],\"name\":\"AME 320\",\"metrics\":{\"centrality\":214,\"complexity\":14.0,\"blocking factor\":5,\"delay factor\":9.0},\"nameSub\":\"Aerodynamics\",\"id\":23,\"credits\":3,\"nameCanonical\":\"\"},{\"curriculum_requisites\":[{\"source_id\":12,\"target_id\":24,\"type\":\"CurriculumPrerequisite\"}],\"name\":\"AME  324A\",\"metrics\":{\"centrality\":172,\"complexity\":21.0,\"blocking factor\":12,\"delay factor\":9.0},\"nameSub\":\"Mech. Behavior of Eng. Materials.\",\"id\":24,\"credits\":3,\"nameCanonical\":\"\"},{\"curriculum_requisites\":[{\"source_id\":20,\"target_id\":25,\"type\":\"CurriculumPrerequisite\"}],\"name\":\"AME 301\",\"metrics\":{\"centrality\":6,\"complexity\":7.0,\"blocking factor\":1,\"delay factor\":6.0},\"nameSub\":\"Engineering Analysis\",\"id\":25,\"credits\":3,\"nameCanonical\":\"\"},{\"curriculum_requisites\":[{\"source_id\":18,\"target_id\":26,\"type\":\"CurriculumCorequisite\"},{\"source_id\":24,\"target_id\":26,\"type\":\"CurriculumCorequisite\"}],\"name\":\"AME 300\",\"metrics\":{\"centrality\":204,\"complexity\":19.0,\"blocking factor\":10,\"delay factor\":9.0},\"nameSub\":\"Instrumentation Lab.\",\"id\":26,\"credits\":3,\"nameCanonical\":\"\"},{\"curriculum_requisites\":[{\"source_id\":2,\"target_id\":27,\"type\":\"CurriculumPrerequisite\"}],\"name\":\"MSE 331R\",\"metrics\":{\"centrality\":3,\"complexity\":4.0,\"blocking factor\":1,\"delay factor\":3.0},\"nameSub\":\"Fund. of Materials for Engineers\",\"id\":27,\"credits\":3,\"nameCanonical\":\"\"},{\"curriculum_requisites\":[{\"source_id\":24,\"target_id\":28,\"type\":\"CurriculumCorequisite\"}],\"name\":\"AME 324L\",\"metrics\":{\"centrality\":0,\"complexity\":5.0,\"blocking factor\":0,\"delay factor\":5.0},\"nameSub\":\"Mech. of Materials Lab.\",\"id\":28,\"credits\":1,\"nameCanonical\":\"\"}],\"id\":5},{\"name\":\"Term 6\",\"curriculum_items\":[{\"curriculum_requisites\":[{\"source_id\":25,\"target_id\":29,\"type\":\"CurriculumPrerequisite\"}],\"name\":\"AME 324B\",\"metrics\":{\"centrality\":0,\"complexity\":6.0,\"blocking factor\":0,\"delay factor\":6.0},\"nameSub\":\"Eng. Component Design\",\"id\":29,\"credits\":3,\"nameCanonical\":\"\"},{\"curriculum_requisites\":[{\"source_id\":23,\"target_id\":30,\"type\":\"CurriculumCorequisite\"},{\"source_id\":19,\"target_id\":30,\"type\":\"CurriculumPrerequisite\"},{\"source_id\":21,\"target_id\":30,\"type\":\"CurriculumPrerequisite\"}],\"name\":\"AME 321\",\"metrics\":{\"centrality\":174,\"complexity\":12.0,\"blocking factor\":3,\"delay factor\":9.0},\"nameSub\":\"Aircraft Performance\",\"id\":30,\"credits\":3,\"nameCanonical\":\"\"},{\"curriculum_requisites\":[{\"source_id\":18,\"target_id\":31,\"type\":\"CurriculumPrerequisite\"},{\"source_id\":32,\"target_id\":31,\"type\":\"CurriculumCorequisite\"},{\"source_id\":21,\"target_id\":31,\"type\":\"CurriculumPrerequisite\"},{\"source_id\":20,\"target_id\":31,\"type\":\"CurriculumPrerequisite\"}],\"name\":\"AME 323\",\"metrics\":{\"centrality\":274,\"complexity\":13.0,\"blocking factor\":4,\"delay factor\":9.0},\"nameSub\":\"Gasdynamics\",\"id\":31,\"credits\":3,\"nameCanonical\":\"\"},{\"curriculum_requisites\":[{\"source_id\":26,\"target_id\":32,\"type\":\"CurriculumCorequisite\"},{\"source_id\":19,\"target_id\":32,\"type\":\"CurriculumPrerequisite\"},{\"source_id\":15,\"target_id\":32,\"type\":\"CurriculumPrerequisite\"},{\"source_id\":20,\"target_id\":32,\"type\":\"CurriculumPrerequisite\"}],\"name\":\"AME 302\",\"metrics\":{\"centrality\":232,\"complexity\":15.0,\"blocking factor\":6,\"delay factor\":9.0},\"nameSub\":\"Numerical Methods\",\"id\":32,\"credits\":3,\"nameCanonical\":\"\"},{\"curriculum_requisites\":[],\"name\":\"AME 313\",\"metrics\":{\"centrality\":0,\"complexity\":5.0,\"blocking factor\":2,\"delay factor\":3.0},\"nameSub\":\"Aero.\\/Mech. Eng. Lab\",\"id\":33,\"credits\":1,\"nameCanonical\":\"\"},{\"curriculum_requisites\":[],\"name\":\" \",\"metrics\":{\"centrality\":0,\"complexity\":1.0,\"blocking factor\":0,\"delay factor\":1.0},\"nameSub\":\"Tier II General Ed. 1\",\"id\":34,\"credits\":3,\"nameCanonical\":\"\"}],\"id\":6},{\"name\":\"Term 7\",\"curriculum_items\":[{\"curriculum_requisites\":[{\"source_id\":23,\"target_id\":35,\"type\":\"CurriculumPrerequisite\"},{\"source_id\":31,\"target_id\":35,\"type\":\"CurriculumPrerequisite\"},{\"source_id\":27,\"target_id\":35,\"type\":\"CurriculumPrerequisite\"}],\"name\":\"AME 401\",\"metrics\":{\"centrality\":0,\"complexity\":8.0,\"blocking factor\":0,\"delay factor\":8.0},\"nameSub\":\"Senior Aerospace Lab.\",\"id\":35,\"credits\":3,\"nameCanonical\":\"\"},{\"curriculum_requisites\":[{\"source_id\":23,\"target_id\":36,\"type\":\"CurriculumPrerequisite\"},{\"source_id\":31,\"target_id\":36,\"type\":\"CurriculumPrerequisite\"},{\"source_id\":33,\"target_id\":36,\"type\":\"CurriculumPrerequisite\"},{\"source_id\":30,\"target_id\":36,\"type\":\"CurriculumPrerequisite\"}],\"name\":\"AME 420\",\"metrics\":{\"centrality\":240,\"complexity\":10.0,\"blocking factor\":1,\"delay factor\":9.0},\"nameSub\":\"Aerospace Conceptual Design\",\"id\":36,\"credits\":3,\"nameCanonical\":\"\"},{\"curriculum_requisites\":[{\"source_id\":24,\"target_id\":37,\"type\":\"CurriculumPrerequisite\"},{\"source_id\":31,\"target_id\":37,\"type\":\"CurriculumPrerequisite\"},{\"source_id\":18,\"target_id\":37,\"type\":\"CurriculumPrerequisite\"}],\"name\":\"AME 425\",\"metrics\":{\"centrality\":0,\"complexity\":8.0,\"blocking factor\":0,\"delay factor\":8.0},\"nameSub\":\"Aerospace Propulsion\",\"id\":37,\"credits\":3,\"nameCanonical\":\"\"},{\"curriculum_requisites\":[{\"source_id\":23,\"target_id\":38,\"type\":\"CurriculumPrerequisite\"},{\"source_id\":15,\"target_id\":38,\"type\":\"CurriculumPrerequisite\"},{\"source_id\":30,\"target_id\":38,\"type\":\"CurriculumPrerequisite\"}],\"name\":\"AME 427\",\"metrics\":{\"centrality\":0,\"complexity\":8.0,\"blocking factor\":0,\"delay factor\":8.0},\"nameSub\":\"Stability and Control of Aero. Vehicles\",\"id\":38,\"credits\":3,\"nameCanonical\":\"\"},{\"curriculum_requisites\":[{\"source_id\":13,\"target_id\":39,\"type\":\"CurriculumPrerequisite\"},{\"source_id\":19,\"target_id\":39,\"type\":\"CurriculumPrerequisite\"}],\"name\":\"AME 457\",\"metrics\":{\"centrality\":0,\"complexity\":6.0,\"blocking factor\":0,\"delay factor\":6.0},\"nameSub\":\"Orbital Mechanicans and Space Flt.\",\"id\":39,\"credits\":3,\"nameCanonical\":\"\"},{\"curriculum_requisites\":[],\"name\":\"AME 495S\",\"metrics\":{\"centrality\":0,\"complexity\":1.0,\"blocking factor\":0,\"delay factor\":1.0},\"nameSub\":\"Senior Colloquium\",\"id\":40,\"credits\":1,\"nameCanonical\":\"\"}],\"id\":7},{\"name\":\"Term 8\",\"curriculum_items\":[{\"curriculum_requisites\":[{\"source_id\":36,\"target_id\":41,\"type\":\"CurriculumPrerequisite\"},{\"source_id\":33,\"target_id\":41,\"type\":\"CurriculumCorequisite\"}],\"name\":\"AME 422\",\"metrics\":{\"centrality\":0,\"complexity\":9.0,\"blocking factor\":0,\"delay factor\":9.0},\"nameSub\":\"Aerospace Eng.Design\",\"id\":41,\"credits\":3,\"nameCanonical\":\"\"},{\"curriculum_requisites\":[{\"source_id\":24,\"target_id\":42,\"type\":\"CurriculumPrerequisite\"},{\"source_id\":32,\"target_id\":42,\"type\":\"CurriculumPrerequisite\"},{\"source_id\":18,\"target_id\":42,\"type\":\"CurriculumPrerequisite\"}],\"name\":\"AME 431\",\"metrics\":{\"centrality\":0,\"complexity\":7.0,\"blocking factor\":0,\"delay factor\":7.0},\"nameSub\":\"Num. Meth. in Fluid Mech. & Heat Xfer\",\"id\":42,\"credits\":3,\"nameCanonical\":\"\"},{\"curriculum_requisites\":[],\"name\":\" \",\"metrics\":{\"centrality\":0,\"complexity\":1.0,\"blocking factor\":0,\"delay factor\":1.0},\"nameSub\":\"Technical Elective 1\",\"id\":43,\"credits\":3,\"nameCanonical\":\"\"},{\"curriculum_requisites\":[],\"name\":\" \",\"metrics\":{\"centrality\":0,\"complexity\":1.0,\"blocking factor\":0,\"delay factor\":1.0},\"nameSub\":\"Technical Elective 2\",\"id\":44,\"credits\":3,\"nameCanonical\":\"\"},{\"curriculum_requisites\":[],\"name\":\" \",\"metrics\":{\"centrality\":0,\"complexity\":1.0,\"blocking factor\":0,\"delay factor\":1.0},\"nameSub\":\"Tier II General Ed. 2\",\"id\":45,\"credits\":3,\"nameCanonical\":\"\"}],\"id\":8}],\"institution\":\"University of Arizona\"}}}}},\"children\":[{\"props\":{\"src\":\"http:\\/\\/localhost:8156\",\"id\":\"curriculum\",\"events\":{\"load\":\"(function (){this.contentWindow.postMessage({\\\"options\\\":{\\\"hideTerms\\\":false,\\\"edit\\\":false},\\\"curriculum\\\":{\\\"name\\\":\\\"Aerospace Engineering\\\",\\\"dp_name\\\":\\\"2019-20 Degree Plan\\\",\\\"curriculum_terms\\\":[{\\\"name\\\":\\\"Term 1\\\",\\\"curriculum_items\\\":[{\\\"curriculum_requisites\\\":[],\\\"name\\\":\\\"MATH 125\\\",\\\"metrics\\\":{\\\"centrality\\\":0,\\\"complexity\\\":38.0,\\\"blocking factor\\\":29,\\\"delay factor\\\":9.0},\\\"nameSub\\\":\\\"Calculus I w\\/ Applications\\\",\\\"id\\\":1,\\\"credits\\\":3,\\\"nameCanonical\\\":\\\"\\\"},{\\\"curriculum_requisites\\\":[],\\\"name\\\":\\\"CHEM 151\\\",\\\"metrics\\\":{\\\"centrality\\\":0,\\\"complexity\\\":5.0,\\\"blocking factor\\\":2,\\\"delay factor\\\":3.0},\\\"nameSub\\\":\\\"Gen Chemistry I\\\",\\\"id\\\":2,\\\"credits\\\":4,\\\"nameCanonical\\\":\\\"\\\"},{\\\"curriculum_requisites\\\":[],\\\"name\\\":\\\"ENGL 101\\\",\\\"metrics\\\":{\\\"centrality\\\":0,\\\"complexity\\\":3.0,\\\"blocking factor\\\":1,\\\"delay factor\\\":2.0},\\\"nameSub\\\":\\\"First-year Comp.\\\",\\\"id\\\":3,\\\"credits\\\":3,\\\"nameCanonical\\\":\\\"\\\"},{\\\"curriculum_requisites\\\":[{\\\"source_id\\\":1,\\\"target_id\\\":4,\\\"type\\\":\\\"CurriculumCorequisite\\\"}],\\\"name\\\":\\\"ENGR 102\\\",\\\"metrics\\\":{\\\"centrality\\\":0,\\\"complexity\\\":2.0,\\\"blocking factor\\\":0,\\\"delay factor\\\":2.0},\\\"nameSub\\\":\\\"Intro to Engineering\\\",\\\"id\\\":4,\\\"credits\\\":3,\\\"nameCanonical\\\":\\\"\\\"},{\\\"curriculum_requisites\\\":[],\\\"name\\\":\\\" \\\",\\\"metrics\\\":{\\\"centrality\\\":0,\\\"complexity\\\":1.0,\\\"blocking factor\\\":0,\\\"delay factor\\\":1.0},\\\"nameSub\\\":\\\"Tier I General Ed.\\\",\\\"id\\\":5,\\\"credits\\\":3,\\\"nameCanonical\\\":\\\"\\\"}],\\\"id\\\":1},{\\\"name\\\":\\\"Term 2\\\",\\\"curriculum_items\\\":[{\\\"curriculum_requisites\\\":[{\\\"source_id\\\":1,\\\"target_id\\\":6,\\\"type\\\":\\\"CurriculumPrerequisite\\\"}],\\\"name\\\":\\\"MATH 129\\\",\\\"metrics\\\":{\\\"centrality\\\":387,\\\"complexity\\\":31.0,\\\"blocking factor\\\":22,\\\"delay factor\\\":9.0},\\\"nameSub\\\":\\\"Calculus II\\\",\\\"id\\\":6,\\\"credits\\\":3,\\\"nameCanonical\\\":\\\"\\\"},{\\\"curriculum_requisites\\\":[{\\\"source_id\\\":1,\\\"target_id\\\":7,\\\"type\\\":\\\"CurriculumPrerequisite\\\"}],\\\"name\\\":\\\"AME 105\\\",\\\"metrics\\\":{\\\"centrality\\\":28,\\\"complexity\\\":16.0,\\\"blocking factor\\\":9,\\\"delay factor\\\":7.0},\\\"nameSub\\\":\\\"Intro. to MATLAB I\\\",\\\"id\\\":7,\\\"credits\\\":1,\\\"nameCanonical\\\":\\\"\\\"},{\\\"curriculum_requisites\\\":[{\\\"source_id\\\":1,\\\"target_id\\\":8,\\\"type\\\":\\\"CurriculumPrerequisite\\\"}],\\\"name\\\":\\\"PHYS 141\\\",\\\"metrics\\\":{\\\"centrality\\\":277,\\\"complexity\\\":28.0,\\\"blocking factor\\\":19,\\\"delay factor\\\":9.0},\\\"nameSub\\\":\\\"Intro Mechanics\\\",\\\"id\\\":8,\\\"credits\\\":4,\\\"nameCanonical\\\":\\\"\\\"},{\\\"curriculum_requisites\\\":[{\\\"source_id\\\":3,\\\"target_id\\\":9,\\\"type\\\":\\\"CurriculumPrerequisite\\\"}],\\\"name\\\":\\\"ENGL 102\\\",\\\"metrics\\\":{\\\"centrality\\\":0,\\\"complexity\\\":2.0,\\\"blocking factor\\\":0,\\\"delay factor\\\":2.0},\\\"nameSub\\\":\\\"First-year Comp.\\\",\\\"id\\\":9,\\\"credits\\\":3,\\\"nameCanonical\\\":\\\"\\\"},{\\\"curriculum_requisites\\\":[{\\\"source_id\\\":1,\\\"target_id\\\":10,\\\"type\\\":\\\"CurriculumCorequisite\\\"}],\\\"name\\\":\\\"ECE 175\\\",\\\"metrics\\\":{\\\"centrality\\\":0,\\\"complexity\\\":2.0,\\\"blocking factor\\\":0,\\\"delay factor\\\":2.0},\\\"nameSub\\\":\\\"Programming for Eng. Apps.\\\",\\\"id\\\":10,\\\"credits\\\":3,\\\"nameCanonical\\\":\\\"\\\"},{\\\"curriculum_requisites\\\":[],\\\"name\\\":\\\" \\\",\\\"metrics\\\":{\\\"centrality\\\":0,\\\"complexity\\\":1.0,\\\"blocking factor\\\":0,\\\"delay factor\\\":1.0},\\\"nameSub\\\":\\\"Tier I General Ed. 1\\\",\\\"id\\\":11,\\\"credits\\\":3,\\\"nameCanonical\\\":\\\"\\\"}],\\\"id\\\":2},{\\\"name\\\":\\\"Term 3\\\",\\\"curriculum_items\\\":[{\\\"curriculum_requisites\\\":[{\\\"source_id\\\":8,\\\"target_id\\\":12,\\\"type\\\":\\\"CurriculumPrerequisite\\\"},{\\\"source_id\\\":6,\\\"target_id\\\":12,\\\"type\\\":\\\"CurriculumPrerequisite\\\"}],\\\"name\\\":\\\"CE 214\\\",\\\"metrics\\\":{\\\"centrality\\\":264,\\\"complexity\\\":24.0,\\\"blocking factor\\\":15,\\\"delay factor\\\":9.0},\\\"nameSub\\\":\\\"Statics\\\",\\\"id\\\":12,\\\"credits\\\":3,\\\"nameCanonical\\\":\\\"\\\"},{\\\"curriculum_requisites\\\":[{\\\"source_id\\\":6,\\\"target_id\\\":13,\\\"type\\\":\\\"CurriculumPrerequisite\\\"}],\\\"name\\\":\\\"MATH  223\\\",\\\"metrics\\\":{\\\"centrality\\\":252,\\\"complexity\\\":25.0,\\\"blocking factor\\\":16,\\\"delay factor\\\":9.0},\\\"nameSub\\\":\\\"Vector Calculus\\\",\\\"id\\\":13,\\\"credits\\\":4,\\\"nameCanonical\\\":\\\"\\\"},{\\\"curriculum_requisites\\\":[{\\\"source_id\\\":8,\\\"target_id\\\":14,\\\"type\\\":\\\"CurriculumPrerequisite\\\"},{\\\"source_id\\\":6,\\\"target_id\\\":14,\\\"type\\\":\\\"CurriculumPrerequisite\\\"}],\\\"name\\\":\\\"PHYS 241\\\",\\\"metrics\\\":{\\\"centrality\\\":0,\\\"complexity\\\":3.0,\\\"blocking factor\\\":0,\\\"delay factor\\\":3.0},\\\"nameSub\\\":\\\"Electricity & Magnetism\\\",\\\"id\\\":14,\\\"credits\\\":4,\\\"nameCanonical\\\":\\\"\\\"},{\\\"curriculum_requisites\\\":[{\\\"source_id\\\":7,\\\"target_id\\\":15,\\\"type\\\":\\\"CurriculumPrerequisite\\\"}],\\\"name\\\":\\\"AME  205\\\",\\\"metrics\\\":{\\\"centrality\\\":28,\\\"complexity\\\":15.0,\\\"blocking factor\\\":8,\\\"delay factor\\\":7.0},\\\"nameSub\\\":\\\"Intro. To MATLAB II\\\",\\\"id\\\":15,\\\"credits\\\":1,\\\"nameCanonical\\\":\\\"\\\"},{\\\"curriculum_requisites\\\":[],\\\"name\\\":\\\"AME 211\\\",\\\"metrics\\\":{\\\"centrality\\\":0,\\\"complexity\\\":1.0,\\\"blocking factor\\\":0,\\\"delay factor\\\":1.0},\\\"nameSub\\\":\\\"Comp. Aided Drafting & Manufacturing\\\",\\\"id\\\":16,\\\"credits\\\":3,\\\"nameCanonical\\\":\\\"\\\"},{\\\"curriculum_requisites\\\":[],\\\"name\\\":\\\" \\\",\\\"metrics\\\":{\\\"centrality\\\":0,\\\"complexity\\\":1.0,\\\"blocking factor\\\":0,\\\"delay factor\\\":1.0},\\\"nameSub\\\":\\\"Tier I General Ed. 2\\\",\\\"id\\\":17,\\\"credits\\\":3,\\\"nameCanonical\\\":\\\"\\\"}],\\\"id\\\":3},{\\\"name\\\":\\\"Term 4\\\",\\\"curriculum_items\\\":[{\\\"curriculum_requisites\\\":[{\\\"source_id\\\":8,\\\"target_id\\\":18,\\\"type\\\":\\\"CurriculumPrerequisite\\\"}],\\\"name\\\":\\\"AME 230\\\",\\\"metrics\\\":{\\\"centrality\\\":86,\\\"complexity\\\":19.0,\\\"blocking factor\\\":11,\\\"delay factor\\\":8.0},\\\"nameSub\\\":\\\"Thermodynamics\\\",\\\"id\\\":18,\\\"credits\\\":3,\\\"nameCanonical\\\":\\\"\\\"},{\\\"curriculum_requisites\\\":[{\\\"source_id\\\":12,\\\"target_id\\\":19,\\\"type\\\":\\\"CurriculumPrerequisite\\\"},{\\\"source_id\\\":20,\\\"target_id\\\":19,\\\"type\\\":\\\"CurriculumCorequisite\\\"}],\\\"name\\\":\\\"AME 250\\\",\\\"metrics\\\":{\\\"centrality\\\":145,\\\"complexity\\\":19.0,\\\"blocking factor\\\":10,\\\"delay factor\\\":9.0},\\\"nameSub\\\":\\\"Dynamics\\\",\\\"id\\\":19,\\\"credits\\\":3,\\\"nameCanonical\\\":\\\"\\\"},{\\\"curriculum_requisites\\\":[{\\\"source_id\\\":13,\\\"target_id\\\":20,\\\"type\\\":\\\"CurriculumPrerequisite\\\"}],\\\"name\\\":\\\"MATH 254\\\",\\\"metrics\\\":{\\\"centrality\\\":182,\\\"complexity\\\":24.0,\\\"blocking factor\\\":15,\\\"delay factor\\\":9.0},\\\"nameSub\\\":\\\"Intro. to ODEs\\\",\\\"id\\\":20,\\\"credits\\\":3,\\\"nameCanonical\\\":\\\"\\\"},{\\\"curriculum_requisites\\\":[{\\\"source_id\\\":13,\\\"target_id\\\":21,\\\"type\\\":\\\"CurriculumPrerequisite\\\"},{\\\"source_id\\\":8,\\\"target_id\\\":21,\\\"type\\\":\\\"CurriculumPrerequisite\\\"},{\\\"source_id\\\":20,\\\"target_id\\\":21,\\\"type\\\":\\\"CurriculumCorequisite\\\"}],\\\"name\\\":\\\"AME 220\\\",\\\"metrics\\\":{\\\"centrality\\\":198,\\\"complexity\\\":17.0,\\\"blocking factor\\\":8,\\\"delay factor\\\":9.0},\\\"nameSub\\\":\\\"Intro. to Aerospace Eng.\\\",\\\"id\\\":21,\\\"credits\\\":3,\\\"nameCanonical\\\":\\\"\\\"},{\\\"curriculum_requisites\\\":[],\\\"name\\\":\\\" \\\",\\\"metrics\\\":{\\\"centrality\\\":0,\\\"complexity\\\":1.0,\\\"blocking factor\\\":0,\\\"delay factor\\\":1.0},\\\"nameSub\\\":\\\"Tier I General Ed. 3\\\",\\\"id\\\":22,\\\"credits\\\":3,\\\"nameCanonical\\\":\\\"\\\"}],\\\"id\\\":4},{\\\"name\\\":\\\"Term 5\\\",\\\"curriculum_items\\\":[{\\\"curriculum_requisites\\\":[{\\\"source_id\\\":26,\\\"target_id\\\":23,\\\"type\\\":\\\"CurriculumCorequisite\\\"},{\\\"source_id\\\":21,\\\"target_id\\\":23,\\\"type\\\":\\\"CurriculumPrerequisite\\\"}],\\\"name\\\":\\\"AME 320\\\",\\\"metrics\\\":{\\\"centrality\\\":214,\\\"complexity\\\":14.0,\\\"blocking factor\\\":5,\\\"delay factor\\\":9.0},\\\"nameSub\\\":\\\"Aerodynamics\\\",\\\"id\\\":23,\\\"credits\\\":3,\\\"nameCanonical\\\":\\\"\\\"},{\\\"curriculum_requisites\\\":[{\\\"source_id\\\":12,\\\"target_id\\\":24,\\\"type\\\":\\\"CurriculumPrerequisite\\\"}],\\\"name\\\":\\\"AME  324A\\\",\\\"metrics\\\":{\\\"centrality\\\":172,\\\"complexity\\\":21.0,\\\"blocking factor\\\":12,\\\"delay factor\\\":9.0},\\\"nameSub\\\":\\\"Mech. Behavior of Eng. Materials.\\\",\\\"id\\\":24,\\\"credits\\\":3,\\\"nameCanonical\\\":\\\"\\\"},{\\\"curriculum_requisites\\\":[{\\\"source_id\\\":20,\\\"target_id\\\":25,\\\"type\\\":\\\"CurriculumPrerequisite\\\"}],\\\"name\\\":\\\"AME 301\\\",\\\"metrics\\\":{\\\"centrality\\\":6,\\\"complexity\\\":7.0,\\\"blocking factor\\\":1,\\\"delay factor\\\":6.0},\\\"nameSub\\\":\\\"Engineering Analysis\\\",\\\"id\\\":25,\\\"credits\\\":3,\\\"nameCanonical\\\":\\\"\\\"},{\\\"curriculum_requisites\\\":[{\\\"source_id\\\":18,\\\"target_id\\\":26,\\\"type\\\":\\\"CurriculumCorequisite\\\"},{\\\"source_id\\\":24,\\\"target_id\\\":26,\\\"type\\\":\\\"CurriculumCorequisite\\\"}],\\\"name\\\":\\\"AME 300\\\",\\\"metrics\\\":{\\\"centrality\\\":204,\\\"complexity\\\":19.0,\\\"blocking factor\\\":10,\\\"delay factor\\\":9.0},\\\"nameSub\\\":\\\"Instrumentation Lab.\\\",\\\"id\\\":26,\\\"credits\\\":3,\\\"nameCanonical\\\":\\\"\\\"},{\\\"curriculum_requisites\\\":[{\\\"source_id\\\":2,\\\"target_id\\\":27,\\\"type\\\":\\\"CurriculumPrerequisite\\\"}],\\\"name\\\":\\\"MSE 331R\\\",\\\"metrics\\\":{\\\"centrality\\\":3,\\\"complexity\\\":4.0,\\\"blocking factor\\\":1,\\\"delay factor\\\":3.0},\\\"nameSub\\\":\\\"Fund. of Materials for Engineers\\\",\\\"id\\\":27,\\\"credits\\\":3,\\\"nameCanonical\\\":\\\"\\\"},{\\\"curriculum_requisites\\\":[{\\\"source_id\\\":24,\\\"target_id\\\":28,\\\"type\\\":\\\"CurriculumCorequisite\\\"}],\\\"name\\\":\\\"AME 324L\\\",\\\"metrics\\\":{\\\"centrality\\\":0,\\\"complexity\\\":5.0,\\\"blocking factor\\\":0,\\\"delay factor\\\":5.0},\\\"nameSub\\\":\\\"Mech. of Materials Lab.\\\",\\\"id\\\":28,\\\"credits\\\":1,\\\"nameCanonical\\\":\\\"\\\"}],\\\"id\\\":5},{\\\"name\\\":\\\"Term 6\\\",\\\"curriculum_items\\\":[{\\\"curriculum_requisites\\\":[{\\\"source_id\\\":25,\\\"target_id\\\":29,\\\"type\\\":\\\"CurriculumPrerequisite\\\"}],\\\"name\\\":\\\"AME 324B\\\",\\\"metrics\\\":{\\\"centrality\\\":0,\\\"complexity\\\":6.0,\\\"blocking factor\\\":0,\\\"delay factor\\\":6.0},\\\"nameSub\\\":\\\"Eng. Component Design\\\",\\\"id\\\":29,\\\"credits\\\":3,\\\"nameCanonical\\\":\\\"\\\"},{\\\"curriculum_requisites\\\":[{\\\"source_id\\\":23,\\\"target_id\\\":30,\\\"type\\\":\\\"CurriculumCorequisite\\\"},{\\\"source_id\\\":19,\\\"target_id\\\":30,\\\"type\\\":\\\"CurriculumPrerequisite\\\"},{\\\"source_id\\\":21,\\\"target_id\\\":30,\\\"type\\\":\\\"CurriculumPrerequisite\\\"}],\\\"name\\\":\\\"AME 321\\\",\\\"metrics\\\":{\\\"centrality\\\":174,\\\"complexity\\\":12.0,\\\"blocking factor\\\":3,\\\"delay factor\\\":9.0},\\\"nameSub\\\":\\\"Aircraft Performance\\\",\\\"id\\\":30,\\\"credits\\\":3,\\\"nameCanonical\\\":\\\"\\\"},{\\\"curriculum_requisites\\\":[{\\\"source_id\\\":18,\\\"target_id\\\":31,\\\"type\\\":\\\"CurriculumPrerequisite\\\"},{\\\"source_id\\\":32,\\\"target_id\\\":31,\\\"type\\\":\\\"CurriculumCorequisite\\\"},{\\\"source_id\\\":21,\\\"target_id\\\":31,\\\"type\\\":\\\"CurriculumPrerequisite\\\"},{\\\"source_id\\\":20,\\\"target_id\\\":31,\\\"type\\\":\\\"CurriculumPrerequisite\\\"}],\\\"name\\\":\\\"AME 323\\\",\\\"metrics\\\":{\\\"centrality\\\":274,\\\"complexity\\\":13.0,\\\"blocking factor\\\":4,\\\"delay factor\\\":9.0},\\\"nameSub\\\":\\\"Gasdynamics\\\",\\\"id\\\":31,\\\"credits\\\":3,\\\"nameCanonical\\\":\\\"\\\"},{\\\"curriculum_requisites\\\":[{\\\"source_id\\\":26,\\\"target_id\\\":32,\\\"type\\\":\\\"CurriculumCorequisite\\\"},{\\\"source_id\\\":19,\\\"target_id\\\":32,\\\"type\\\":\\\"CurriculumPrerequisite\\\"},{\\\"source_id\\\":15,\\\"target_id\\\":32,\\\"type\\\":\\\"CurriculumPrerequisite\\\"},{\\\"source_id\\\":20,\\\"target_id\\\":32,\\\"type\\\":\\\"CurriculumPrerequisite\\\"}],\\\"name\\\":\\\"AME 302\\\",\\\"metrics\\\":{\\\"centrality\\\":232,\\\"complexity\\\":15.0,\\\"blocking factor\\\":6,\\\"delay factor\\\":9.0},\\\"nameSub\\\":\\\"Numerical Methods\\\",\\\"id\\\":32,\\\"credits\\\":3,\\\"nameCanonical\\\":\\\"\\\"},{\\\"curriculum_requisites\\\":[],\\\"name\\\":\\\"AME 313\\\",\\\"metrics\\\":{\\\"centrality\\\":0,\\\"complexity\\\":5.0,\\\"blocking factor\\\":2,\\\"delay factor\\\":3.0},\\\"nameSub\\\":\\\"Aero.\\/Mech. Eng. Lab\\\",\\\"id\\\":33,\\\"credits\\\":1,\\\"nameCanonical\\\":\\\"\\\"},{\\\"curriculum_requisites\\\":[],\\\"name\\\":\\\" \\\",\\\"metrics\\\":{\\\"centrality\\\":0,\\\"complexity\\\":1.0,\\\"blocking factor\\\":0,\\\"delay factor\\\":1.0},\\\"nameSub\\\":\\\"Tier II General Ed. 1\\\",\\\"id\\\":34,\\\"credits\\\":3,\\\"nameCanonical\\\":\\\"\\\"}],\\\"id\\\":6},{\\\"name\\\":\\\"Term 7\\\",\\\"curriculum_items\\\":[{\\\"curriculum_requisites\\\":[{\\\"source_id\\\":23,\\\"target_id\\\":35,\\\"type\\\":\\\"CurriculumPrerequisite\\\"},{\\\"source_id\\\":31,\\\"target_id\\\":35,\\\"type\\\":\\\"CurriculumPrerequisite\\\"},{\\\"source_id\\\":27,\\\"target_id\\\":35,\\\"type\\\":\\\"CurriculumPrerequisite\\\"}],\\\"name\\\":\\\"AME 401\\\",\\\"metrics\\\":{\\\"centrality\\\":0,\\\"complexity\\\":8.0,\\\"blocking factor\\\":0,\\\"delay factor\\\":8.0},\\\"nameSub\\\":\\\"Senior Aerospace Lab.\\\",\\\"id\\\":35,\\\"credits\\\":3,\\\"nameCanonical\\\":\\\"\\\"},{\\\"curriculum_requisites\\\":[{\\\"source_id\\\":23,\\\"target_id\\\":36,\\\"type\\\":\\\"CurriculumPrerequisite\\\"},{\\\"source_id\\\":31,\\\"target_id\\\":36,\\\"type\\\":\\\"CurriculumPrerequisite\\\"},{\\\"source_id\\\":33,\\\"target_id\\\":36,\\\"type\\\":\\\"CurriculumPrerequisite\\\"},{\\\"source_id\\\":30,\\\"target_id\\\":36,\\\"type\\\":\\\"CurriculumPrerequisite\\\"}],\\\"name\\\":\\\"AME 420\\\",\\\"metrics\\\":{\\\"centrality\\\":240,\\\"complexity\\\":10.0,\\\"blocking factor\\\":1,\\\"delay factor\\\":9.0},\\\"nameSub\\\":\\\"Aerospace Conceptual Design\\\",\\\"id\\\":36,\\\"credits\\\":3,\\\"nameCanonical\\\":\\\"\\\"},{\\\"curriculum_requisites\\\":[{\\\"source_id\\\":24,\\\"target_id\\\":37,\\\"type\\\":\\\"CurriculumPrerequisite\\\"},{\\\"source_id\\\":31,\\\"target_id\\\":37,\\\"type\\\":\\\"CurriculumPrerequisite\\\"},{\\\"source_id\\\":18,\\\"target_id\\\":37,\\\"type\\\":\\\"CurriculumPrerequisite\\\"}],\\\"name\\\":\\\"AME 425\\\",\\\"metrics\\\":{\\\"centrality\\\":0,\\\"complexity\\\":8.0,\\\"blocking factor\\\":0,\\\"delay factor\\\":8.0},\\\"nameSub\\\":\\\"Aerospace Propulsion\\\",\\\"id\\\":37,\\\"credits\\\":3,\\\"nameCanonical\\\":\\\"\\\"},{\\\"curriculum_requisites\\\":[{\\\"source_id\\\":23,\\\"target_id\\\":38,\\\"type\\\":\\\"CurriculumPrerequisite\\\"},{\\\"source_id\\\":15,\\\"target_id\\\":38,\\\"type\\\":\\\"CurriculumPrerequisite\\\"},{\\\"source_id\\\":30,\\\"target_id\\\":38,\\\"type\\\":\\\"CurriculumPrerequisite\\\"}],\\\"name\\\":\\\"AME 427\\\",\\\"metrics\\\":{\\\"centrality\\\":0,\\\"complexity\\\":8.0,\\\"blocking factor\\\":0,\\\"delay factor\\\":8.0},\\\"nameSub\\\":\\\"Stability and Control of Aero. Vehicles\\\",\\\"id\\\":38,\\\"credits\\\":3,\\\"nameCanonical\\\":\\\"\\\"},{\\\"curriculum_requisites\\\":[{\\\"source_id\\\":13,\\\"target_id\\\":39,\\\"type\\\":\\\"CurriculumPrerequisite\\\"},{\\\"source_id\\\":19,\\\"target_id\\\":39,\\\"type\\\":\\\"CurriculumPrerequisite\\\"}],\\\"name\\\":\\\"AME 457\\\",\\\"metrics\\\":{\\\"centrality\\\":0,\\\"complexity\\\":6.0,\\\"blocking factor\\\":0,\\\"delay factor\\\":6.0},\\\"nameSub\\\":\\\"Orbital Mechanicans and Space Flt.\\\",\\\"id\\\":39,\\\"credits\\\":3,\\\"nameCanonical\\\":\\\"\\\"},{\\\"curriculum_requisites\\\":[],\\\"name\\\":\\\"AME 495S\\\",\\\"metrics\\\":{\\\"centrality\\\":0,\\\"complexity\\\":1.0,\\\"blocking factor\\\":0,\\\"delay factor\\\":1.0},\\\"nameSub\\\":\\\"Senior Colloquium\\\",\\\"id\\\":40,\\\"credits\\\":1,\\\"nameCanonical\\\":\\\"\\\"}],\\\"id\\\":7},{\\\"name\\\":\\\"Term 8\\\",\\\"curriculum_items\\\":[{\\\"curriculum_requisites\\\":[{\\\"source_id\\\":36,\\\"target_id\\\":41,\\\"type\\\":\\\"CurriculumPrerequisite\\\"},{\\\"source_id\\\":33,\\\"target_id\\\":41,\\\"type\\\":\\\"CurriculumCorequisite\\\"}],\\\"name\\\":\\\"AME 422\\\",\\\"metrics\\\":{\\\"centrality\\\":0,\\\"complexity\\\":9.0,\\\"blocking factor\\\":0,\\\"delay factor\\\":9.0},\\\"nameSub\\\":\\\"Aerospace Eng.Design\\\",\\\"id\\\":41,\\\"credits\\\":3,\\\"nameCanonical\\\":\\\"\\\"},{\\\"curriculum_requisites\\\":[{\\\"source_id\\\":24,\\\"target_id\\\":42,\\\"type\\\":\\\"CurriculumPrerequisite\\\"},{\\\"source_id\\\":32,\\\"target_id\\\":42,\\\"type\\\":\\\"CurriculumPrerequisite\\\"},{\\\"source_id\\\":18,\\\"target_id\\\":42,\\\"type\\\":\\\"CurriculumPrerequisite\\\"}],\\\"name\\\":\\\"AME 431\\\",\\\"metrics\\\":{\\\"centrality\\\":0,\\\"complexity\\\":7.0,\\\"blocking factor\\\":0,\\\"delay factor\\\":7.0},\\\"nameSub\\\":\\\"Num. Meth. in Fluid Mech. & Heat Xfer\\\",\\\"id\\\":42,\\\"credits\\\":3,\\\"nameCanonical\\\":\\\"\\\"},{\\\"curriculum_requisites\\\":[],\\\"name\\\":\\\" \\\",\\\"metrics\\\":{\\\"centrality\\\":0,\\\"complexity\\\":1.0,\\\"blocking factor\\\":0,\\\"delay factor\\\":1.0},\\\"nameSub\\\":\\\"Technical Elective 1\\\",\\\"id\\\":43,\\\"credits\\\":3,\\\"nameCanonical\\\":\\\"\\\"},{\\\"curriculum_requisites\\\":[],\\\"name\\\":\\\" \\\",\\\"metrics\\\":{\\\"centrality\\\":0,\\\"complexity\\\":1.0,\\\"blocking factor\\\":0,\\\"delay factor\\\":1.0},\\\"nameSub\\\":\\\"Technical Elective 2\\\",\\\"id\\\":44,\\\"credits\\\":3,\\\"nameCanonical\\\":\\\"\\\"},{\\\"curriculum_requisites\\\":[],\\\"name\\\":\\\" \\\",\\\"metrics\\\":{\\\"centrality\\\":0,\\\"complexity\\\":1.0,\\\"blocking factor\\\":0,\\\"delay factor\\\":1.0},\\\"nameSub\\\":\\\"Tier II General Ed. 2\\\",\\\"id\\\":45,\\\"credits\\\":3,\\\"nameCanonical\\\":\\\"\\\"}],\\\"id\\\":8}],\\\"institution\\\":\\\"University of Arizona\\\"}},\\\"*\\\"); window.removeEventListener(\\\"message\\\",window.messageReceived); window.messageReceived=(function (event){return (event.data.curriculum!==undefined) ? (WebIO.setval({\\\"name\\\":\\\"curriculum-data\\\",\\\"scope\\\":\\\"878384446445442772\\\",\\\"id\\\":\\\"14778852729857480092\\\",\\\"type\\\":\\\"observable\\\"},event.data.curriculum)) : undefined}); return window.addEventListener(\\\"message\\\",window.messageReceived)})\"},\"style\":{\"padding\":\"0\",\"height\":\"80vh\",\"margin\":\"0\",\"border\":\"none\",\"width\":\"100%\"}},\"nodeType\":\"DOM\",\"type\":\"node\",\"instanceArgs\":{\"namespace\":\"html\",\"tag\":\"iframe\"},\"children\":[\"\"]}]},\n",
       "            window,\n",
       "        );\n",
       "    } else {\n",
       "        document\n",
       "            .querySelector('[data-webio-mountpoint=\"6591469598581984940\"]')\n",
       "            .innerHTML = (\n",
       "                '<div style=\"padding: 1em; background-color: #f8d6da; border: 1px solid #f5c6cb\">' +\n",
       "                '<p><strong>WebIO not detected.</strong></p>' +\n",
       "                '<p>Please read ' +\n",
       "                '<a href=\"https://juliagizmos.github.io/WebIO.jl/latest/troubleshooting/not-detected/\" target=\"_blank\">the troubleshooting guide</a> ' +\n",
       "                'for more information on how to resolve this issue.</p>' +\n",
       "                '<p><a href=\"https://juliagizmos.github.io/WebIO.jl/latest/troubleshooting/not-detected/\" target=\"_blank\">https://juliagizmos.github.io/WebIO.jl/latest/troubleshooting/not-detected/</a></p>' +\n",
       "                '</div>'\n",
       "            );\n",
       "    }\n",
       "    </script>\n",
       "</div>\n"
      ],
      "text/plain": [
       "WebIO.Scope(WebIO.Node{WebIO.DOM}(WebIO.DOM(:html, :iframe), Any[\"\"], Dict{Symbol,Any}(:src => \"http://localhost:8156\",:id => \"curriculum\",:events => Dict{Symbol,WebIO.JSString}(:load => WebIO.JSString(\"(function (){this.contentWindow.postMessage({\\\"options\\\":{\\\"hideTerms\\\":false,\\\"edit\\\":false},\\\"curriculum\\\":{\\\"name\\\":\\\"Aerospace Engineering\\\",\\\"dp_name\\\":\\\"2019-20 Degree Plan\\\",\\\"curriculum_terms\\\":[{\\\"name\\\":\\\"Term 1\\\",\\\"curriculum_items\\\":[{\\\"curriculum_requisites\\\":[],\\\"name\\\":\\\"MATH 125\\\",\\\"metrics\\\":{\\\"centrality\\\":0,\\\"complexity\\\":38.0,\\\"blocking factor\\\":29,\\\"delay factor\\\":9.0},\\\"nameSub\\\":\\\"Calculus I w/ Applications\\\",\\\"id\\\":1,\\\"credits\\\":3,\\\"nameCanonical\\\":\\\"\\\"},{\\\"curriculum_requisites\\\":[],\\\"name\\\":\\\"CHEM 151\\\",\\\"metrics\\\":{\\\"centrality\\\":0,\\\"complexity\\\":5.0,\\\"blocking factor\\\":2,\\\"delay factor\\\":3.0},\\\"nameSub\\\":\\\"Gen Chemistry I\\\",\\\"id\\\":2,\\\"credits\\\":4,\\\"nameCanonical\\\":\\\"\\\"},{\\\"curriculum_requisites\\\":[],\\\"name\\\":\\\"ENGL 101\\\",\\\"metrics\\\":{\\\"centrality\\\":0,\\\"complexity\\\":3.0,\\\"blocking factor\\\":1,\\\"delay factor\\\":2.0},\\\"nameSub\\\":\\\"First-year Comp.\\\",\\\"id\\\":3,\\\"credits\\\":3,\\\"nameCanonical\\\":\\\"\\\"},{\\\"curriculum_requisites\\\":[{\\\"source_id\\\":1,\\\"target_id\\\":4,\\\"type\\\":\\\"CurriculumCorequisite\\\"}],\\\"name\\\":\\\"ENGR 102\\\",\\\"metrics\\\":{\\\"centrality\\\":0,\\\"complexity\\\":2.0,\\\"blocking factor\\\":0,\\\"delay factor\\\":2.0},\\\"nameSub\\\":\\\"Intro to Engineering\\\",\\\"id\\\":4,\\\"credits\\\":3,\\\"nameCanonical\\\":\\\"\\\"},{\\\"curriculum_requisites\\\":[],\\\"name\\\":\\\" \\\",\\\"metrics\\\":{\\\"centrality\\\":0,\\\"complexity\\\":1.0,\\\"blocking factor\\\":0,\\\"delay factor\\\":1.0},\\\"nameSub\\\":\\\"Tier I General Ed.\\\",\\\"id\\\":5,\\\"credits\\\":3,\\\"nameCanonical\\\":\\\"\\\"}],\\\"id\\\":1},{\\\"name\\\":\\\"Term 2\\\",\\\"curriculum_items\\\":[{\\\"curriculum_requisites\\\":[{\\\"source_id\\\":1,\\\"target_id\\\":6,\\\"type\\\":\\\"CurriculumPrerequisite\\\"}],\\\"name\\\":\\\"MATH 129\\\",\\\"metrics\\\":{\\\"centrality\\\":387,\\\"complexity\\\":31.0,\\\"blocking factor\\\":22,\\\"delay factor\\\":9.0},\\\"nameSub\\\":\\\"Calculus II\\\",\\\"id\\\":6,\\\"credits\\\":3,\\\"nameCanonical\\\":\\\"\\\"},{\\\"curriculum_requisites\\\":[{\\\"source_id\\\":1,\\\"target_id\\\":7,\\\"type\\\":\\\"CurriculumPrerequisite\\\"}],\\\"name\\\":\\\"AME 105\\\",\\\"metrics\\\":{\\\"centrality\\\":28,\\\"complexity\\\":16.0,\\\"blocking factor\\\":9,\\\"delay factor\\\":7.0},\\\"nameSub\\\":\\\"Intro. to MATLAB I\\\",\\\"id\\\":7,\\\"credits\\\":1,\\\"nameCanonical\\\":\\\"\\\"},{\\\"curriculum_requisites\\\":[{\\\"source_id\\\":1,\\\"target_id\\\":8,\\\"type\\\":\\\"CurriculumPrerequisite\\\"}],\\\"name\\\":\\\"PHYS 141\\\",\\\"metrics\\\":{\\\"centrality\\\":277,\\\"complexity\\\":28.0,\\\"blocking factor\\\":19,\\\"delay factor\\\":9.0},\\\"nameSub\\\":\\\"Intro Mechanics\\\",\\\"id\\\":8,\\\"credits\\\":4,\\\"nameCanonical\\\":\\\"\\\"},{\\\"curriculum_requisites\\\":[{\\\"source_id\\\":3,\\\"target_id\\\":9,\\\"type\\\":\\\"CurriculumPrerequisite\\\"}],\\\"name\\\":\\\"ENGL 102\\\",\\\"metrics\\\":{\\\"centrality\\\":0,\\\"complexity\\\":2.0,\\\"blocking factor\\\":0,\\\"delay factor\\\":2.0},\\\"nameSub\\\":\\\"First-year Comp.\\\",\\\"id\\\":9,\\\"credits\\\":3,\\\"nameCanonical\\\":\\\"\\\"},{\\\"curriculum_requisites\\\":[{\\\"source_id\\\":1,\\\"target_id\\\":10,\\\"type\\\":\\\"CurriculumCorequisite\\\"}],\\\"name\\\":\\\"ECE 175\\\",\\\"metrics\\\":{\\\"centrality\\\":0,\\\"complexity\\\":2.0,\\\"blocking factor\\\":0,\\\"delay factor\\\":2.0},\\\"nameSub\\\":\\\"Programming for Eng. Apps.\\\",\\\"id\\\":10,\\\"credits\\\":3,\\\"nameCanonical\\\":\\\"\\\"},{\\\"curriculum_requisites\\\":[],\\\"name\\\":\\\" \\\",\\\"metrics\\\":{\\\"centrality\\\":0,\\\"complexity\\\":1.0,\\\"blocking factor\\\":0,\\\"delay factor\\\":1.0},\\\"nameSub\\\":\\\"Tier I General Ed. 1\\\",\\\"id\\\":11,\\\"credits\\\":3,\\\"nameCanonical\\\":\\\"\\\"}],\\\"id\\\":2},{\\\"name\\\":\\\"Term 3\\\",\\\"curriculum_items\\\":[{\\\"curriculum_requisites\\\":[{\\\"source_id\\\":8,\\\"target_id\\\":12,\\\"type\\\":\\\"CurriculumPrerequisite\\\"},{\\\"source_id\\\":6,\\\"target_id\\\":12,\\\"type\\\":\\\"CurriculumPrerequisite\\\"}],\\\"name\\\":\\\"CE 214\\\",\\\"metrics\\\":{\\\"centrality\\\":264,\\\"complexity\\\":24.0,\\\"blocking factor\\\":15,\\\"delay factor\\\":9.0},\\\"nameSub\\\":\\\"Statics\\\",\\\"id\\\":12,\\\"credits\\\":3,\\\"nameCanonical\\\":\\\"\\\"},{\\\"curriculum_requisites\\\":[{\\\"source_id\\\":6,\\\"target_id\\\":13,\\\"type\\\":\\\"CurriculumPrerequisite\\\"}],\\\"name\\\":\\\"MATH  223\\\",\\\"metrics\\\":{\\\"centrality\\\":252,\\\"complexity\\\":25.0,\\\"blocking factor\\\":16,\\\"delay factor\\\":9.0},\\\"nameSub\\\":\\\"Vector Calculus\\\",\\\"id\\\":13,\\\"credits\\\":4,\\\"nameCanonical\\\":\\\"\\\"},{\\\"curriculum_requisites\\\":[{\\\"source_id\\\":8,\\\"target_id\\\":14,\\\"type\\\":\\\"CurriculumPrerequisite\\\"},{\\\"source_id\\\":6,\\\"target_id\\\":14,\\\"type\\\":\\\"CurriculumPrerequisite\\\"}],\\\"name\\\":\\\"PHYS 241\\\",\\\"metrics\\\":{\\\"centrality\\\":0,\\\"complexity\\\":3.0,\\\"blocking factor\\\":0,\\\"delay factor\\\":3.0},\\\"nameSub\\\":\\\"Electricity & Magnetism\\\",\\\"id\\\":14,\\\"credits\\\":4,\\\"nameCanonical\\\":\\\"\\\"},{\\\"curriculum_requisites\\\":[{\\\"source_id\\\":7,\\\"target_id\\\":15,\\\"type\\\":\\\"CurriculumPrerequisite\\\"}],\\\"name\\\":\\\"AME  205\\\",\\\"metrics\\\":{\\\"centrality\\\":28,\\\"complexity\\\":15.0,\\\"blocking factor\\\":8,\\\"delay factor\\\":7.0},\\\"nameSub\\\":\\\"Intro. To MATLAB II\\\",\\\"id\\\":15,\\\"credits\\\":1,\\\"nameCanonical\\\":\\\"\\\"},{\\\"curriculum_requisites\\\":[],\\\"name\\\":\\\"AME 211\\\",\\\"metrics\\\":{\\\"centrality\\\":0,\\\"complexity\\\":1.0,\\\"blocking factor\\\":0,\\\"delay factor\\\":1.0},\\\"nameSub\\\":\\\"Comp. Aided Drafting & Manufacturing\\\",\\\"id\\\":16,\\\"credits\\\":3,\\\"nameCanonical\\\":\\\"\\\"},{\\\"curriculum_requisites\\\":[],\\\"name\\\":\\\" \\\",\\\"metrics\\\":{\\\"centrality\\\":0,\\\"complexity\\\":1.0,\\\"blocking factor\\\":0,\\\"delay factor\\\":1.0},\\\"nameSub\\\":\\\"Tier I General Ed. 2\\\",\\\"id\\\":17,\\\"credits\\\":3,\\\"nameCanonical\\\":\\\"\\\"}],\\\"id\\\":3},{\\\"name\\\":\\\"Term 4\\\",\\\"curriculum_items\\\":[{\\\"curriculum_requisites\\\":[{\\\"source_id\\\":8,\\\"target_id\\\":18,\\\"type\\\":\\\"CurriculumPrerequisite\\\"}],\\\"name\\\":\\\"AME 230\\\",\\\"metrics\\\":{\\\"centrality\\\":86,\\\"complexity\\\":19.0,\\\"blocking factor\\\":11,\\\"delay factor\\\":8.0},\\\"nameSub\\\":\\\"Thermodynamics\\\",\\\"id\\\":18,\\\"credits\\\":3,\\\"nameCanonical\\\":\\\"\\\"},{\\\"curriculum_requisites\\\":[{\\\"source_id\\\":12,\\\"target_id\\\":19,\\\"type\\\":\\\"CurriculumPrerequisite\\\"},{\\\"source_id\\\":20,\\\"target_id\\\":19,\\\"type\\\":\\\"CurriculumCorequisite\\\"}],\\\"name\\\":\\\"AME 250\\\",\\\"metrics\\\":{\\\"centrality\\\":145,\\\"complexity\\\":19.0,\\\"blocking factor\\\":10,\\\"delay factor\\\":9.0},\\\"nameSub\\\":\\\"Dynamics\\\",\\\"id\\\":19,\\\"credits\\\":3,\\\"nameCanonical\\\":\\\"\\\"},{\\\"curriculum_requisites\\\":[{\\\"source_id\\\":13,\\\"target_id\\\":20,\\\"type\\\":\\\"CurriculumPrerequisite\\\"}],\\\"name\\\":\\\"MATH 254\\\",\\\"metrics\\\":{\\\"centrality\\\":182,\\\"complexity\\\":24.0,\\\"blocking factor\\\":15,\\\"delay factor\\\":9.0},\\\"nameSub\\\":\\\"Intro. to ODEs\\\",\\\"id\\\":20,\\\"credits\\\":3,\\\"nameCanonical\\\":\\\"\\\"},{\\\"curriculum_requisites\\\":[{\\\"source_id\\\":13,\\\"target_id\\\":21,\\\"type\\\":\\\"CurriculumPrerequisite\\\"},{\\\"source_id\\\":8,\\\"target_id\\\":21,\\\"type\\\":\\\"CurriculumPrerequisite\\\"},{\\\"source_id\\\":20,\\\"target_id\\\":21,\\\"type\\\":\\\"CurriculumCorequisite\\\"}],\\\"name\\\":\\\"AME 220\\\",\\\"metrics\\\":{\\\"centrality\\\":198,\\\"complexity\\\":17.0,\\\"blocking factor\\\":8,\\\"delay factor\\\":9.0},\\\"nameSub\\\":\\\"Intro. to Aerospace Eng.\\\",\\\"id\\\":21,\\\"credits\\\":3,\\\"nameCanonical\\\":\\\"\\\"},{\\\"curriculum_requisites\\\":[],\\\"name\\\":\\\" \\\",\\\"metrics\\\":{\\\"centrality\\\":0,\\\"complexity\\\":1.0,\\\"blocking factor\\\":0,\\\"delay factor\\\":1.0},\\\"nameSub\\\":\\\"Tier I General Ed. 3\\\",\\\"id\\\":22,\\\"credits\\\":3,\\\"nameCanonical\\\":\\\"\\\"}],\\\"id\\\":4},{\\\"name\\\":\\\"Term 5\\\",\\\"curriculum_items\\\":[{\\\"curriculum_requisites\\\":[{\\\"source_id\\\":26,\\\"target_id\\\":23,\\\"type\\\":\\\"CurriculumCorequisite\\\"},{\\\"source_id\\\":21,\\\"target_id\\\":23,\\\"type\\\":\\\"CurriculumPrerequisite\\\"}],\\\"name\\\":\\\"AME 320\\\",\\\"metrics\\\":{\\\"centrality\\\":214,\\\"complexity\\\":14.0,\\\"blocking factor\\\":5,\\\"delay factor\\\":9.0},\\\"nameSub\\\":\\\"Aerodynamics\\\",\\\"id\\\":23,\\\"credits\\\":3,\\\"nameCanonical\\\":\\\"\\\"},{\\\"curriculum_requisites\\\":[{\\\"source_id\\\":12,\\\"target_id\\\":24,\\\"type\\\":\\\"CurriculumPrerequisite\\\"}],\\\"name\\\":\\\"AME  324A\\\",\\\"metrics\\\":{\\\"centrality\\\":172,\\\"complexity\\\":21.0,\\\"blocking factor\\\":12,\\\"delay factor\\\":9.0},\\\"nameSub\\\":\\\"Mech. Behavior of Eng. Materials.\\\",\\\"id\\\":24,\\\"credits\\\":3,\\\"nameCanonical\\\":\\\"\\\"},{\\\"curriculum_requisites\\\":[{\\\"source_id\\\":20,\\\"target_id\\\":25,\\\"type\\\":\\\"CurriculumPrerequisite\\\"}],\\\"name\\\":\\\"AME 301\\\",\\\"metrics\\\":{\\\"centrality\\\":6,\\\"complexity\\\":7.0,\\\"blocking factor\\\":1,\\\"delay factor\\\":6.0},\\\"nameSub\\\":\\\"Engineering Analysis\\\",\\\"id\\\":25,\\\"credits\\\":3,\\\"nameCanonical\\\":\\\"\\\"},{\\\"curriculum_requisites\\\":[{\\\"source_id\\\":18,\\\"target_id\\\":26,\\\"type\\\":\\\"CurriculumCorequisite\\\"},{\\\"source_id\\\":24,\\\"target_id\\\":26,\\\"type\\\":\\\"CurriculumCorequisite\\\"}],\\\"name\\\":\\\"AME 300\\\",\\\"metrics\\\":{\\\"centrality\\\":204,\\\"complexity\\\":19.0,\\\"blocking factor\\\":10,\\\"delay factor\\\":9.0},\\\"nameSub\\\":\\\"Instrumentation Lab.\\\",\\\"id\\\":26,\\\"credits\\\":3,\\\"nameCanonical\\\":\\\"\\\"},{\\\"curriculum_requisites\\\":[{\\\"source_id\\\":2,\\\"target_id\\\":27,\\\"type\\\":\\\"CurriculumPrerequisite\\\"}],\\\"name\\\":\\\"MSE 331R\\\",\\\"metrics\\\":{\\\"centrality\\\":3,\\\"complexity\\\":4.0,\\\"blocking factor\\\":1,\\\"delay factor\\\":3.0},\\\"nameSub\\\":\\\"Fund. of Materials for Engineers\\\",\\\"id\\\":27,\\\"credits\\\":3,\\\"nameCanonical\\\":\\\"\\\"},{\\\"curriculum_requisites\\\":[{\\\"source_id\\\":24,\\\"target_id\\\":28,\\\"type\\\":\\\"CurriculumCorequisite\\\"}],\\\"name\\\":\\\"AME 324L\\\",\\\"metrics\\\":{\\\"centrality\\\":0,\\\"complexity\\\":5.0,\\\"blocking factor\\\":0,\\\"delay factor\\\":5.0},\\\"nameSub\\\":\\\"Mech. of Materials Lab.\\\",\\\"id\\\":28,\\\"credits\\\":1,\\\"nameCanonical\\\":\\\"\\\"}],\\\"id\\\":5},{\\\"name\\\":\\\"Term 6\\\",\\\"curriculum_items\\\":[{\\\"curriculum_requisites\\\":[{\\\"source_id\\\":25,\\\"target_id\\\":29,\\\"type\\\":\\\"CurriculumPrerequisite\\\"}],\\\"name\\\":\\\"AME 324B\\\",\\\"metrics\\\":{\\\"centrality\\\":0,\\\"complexity\\\":6.0,\\\"blocking factor\\\":0,\\\"delay factor\\\":6.0},\\\"nameSub\\\":\\\"Eng. Component Design\\\",\\\"id\\\":29,\\\"credits\\\":3,\\\"nameCanonical\\\":\\\"\\\"},{\\\"curriculum_requisites\\\":[{\\\"source_id\\\":23,\\\"target_id\\\":30,\\\"type\\\":\\\"CurriculumCorequisite\\\"},{\\\"source_id\\\":19,\\\"target_id\\\":30,\\\"type\\\":\\\"CurriculumPrerequisite\\\"},{\\\"source_id\\\":21,\\\"target_id\\\":30,\\\"type\\\":\\\"CurriculumPrerequisite\\\"}],\\\"name\\\":\\\"AME 321\\\",\\\"metrics\\\":{\\\"centrality\\\":174,\\\"complexity\\\":12.0,\\\"blocking factor\\\":3,\\\"delay factor\\\":9.0},\\\"nameSub\\\":\\\"Aircraft Performance\\\",\\\"id\\\":30,\\\"credits\\\":3,\\\"nameCanonical\\\":\\\"\\\"},{\\\"curriculum_requisites\\\":[{\\\"source_id\\\":18,\\\"target_id\\\":31,\\\"type\\\":\\\"CurriculumPrerequisite\\\"},{\\\"source_id\\\":32,\\\"target_id\\\":31,\\\"type\\\":\\\"CurriculumCorequisite\\\"},{\\\"source_id\\\":21,\\\"target_id\\\":31,\\\"type\\\":\\\"CurriculumPrerequisite\\\"},{\\\"source_id\\\":20,\\\"target_id\\\":31,\\\"type\\\":\\\"CurriculumPrerequisite\\\"}],\\\"name\\\":\\\"AME 323\\\",\\\"metrics\\\":{\\\"centrality\\\":274,\\\"complexity\\\":13.0,\\\"blocking factor\\\":4,\\\"delay factor\\\":9.0},\\\"nameSub\\\":\\\"Gasdynamics\\\",\\\"id\\\":31,\\\"credits\\\":3,\\\"nameCanonical\\\":\\\"\\\"},{\\\"curriculum_requisites\\\":[{\\\"source_id\\\":26,\\\"target_id\\\":32,\\\"type\\\":\\\"CurriculumCorequisite\\\"},{\\\"source_id\\\":19,\\\"target_id\\\":32,\\\"type\\\":\\\"CurriculumPrerequisite\\\"},{\\\"source_id\\\":15,\\\"target_id\\\":32,\\\"type\\\":\\\"CurriculumPrerequisite\\\"},{\\\"source_id\\\":20,\\\"target_id\\\":32,\\\"type\\\":\\\"CurriculumPrerequisite\\\"}],\\\"name\\\":\\\"AME 302\\\",\\\"metrics\\\":{\\\"centrality\\\":232,\\\"complexity\\\":15.0,\\\"blocking factor\\\":6,\\\"delay factor\\\":9.0},\\\"nameSub\\\":\\\"Numerical Methods\\\",\\\"id\\\":32,\\\"credits\\\":3,\\\"nameCanonical\\\":\\\"\\\"},{\\\"curriculum_requisites\\\":[],\\\"name\\\":\\\"AME 313\\\",\\\"metrics\\\":{\\\"centrality\\\":0,\\\"complexity\\\":5.0,\\\"blocking factor\\\":2,\\\"delay factor\\\":3.0},\\\"nameSub\\\":\\\"Aero./Mech. Eng. Lab\\\",\\\"id\\\":33,\\\"credits\\\":1,\\\"nameCanonical\\\":\\\"\\\"},{\\\"curriculum_requisites\\\":[],\\\"name\\\":\\\" \\\",\\\"metrics\\\":{\\\"centrality\\\":0,\\\"complexity\\\":1.0,\\\"blocking factor\\\":0,\\\"delay factor\\\":1.0},\\\"nameSub\\\":\\\"Tier II General Ed. 1\\\",\\\"id\\\":34,\\\"credits\\\":3,\\\"nameCanonical\\\":\\\"\\\"}],\\\"id\\\":6},{\\\"name\\\":\\\"Term 7\\\",\\\"curriculum_items\\\":[{\\\"curriculum_requisites\\\":[{\\\"source_id\\\":23,\\\"target_id\\\":35,\\\"type\\\":\\\"CurriculumPrerequisite\\\"},{\\\"source_id\\\":31,\\\"target_id\\\":35,\\\"type\\\":\\\"CurriculumPrerequisite\\\"},{\\\"source_id\\\":27,\\\"target_id\\\":35,\\\"type\\\":\\\"CurriculumPrerequisite\\\"}],\\\"name\\\":\\\"AME 401\\\",\\\"metrics\\\":{\\\"centrality\\\":0,\\\"complexity\\\":8.0,\\\"blocking factor\\\":0,\\\"delay factor\\\":8.0},\\\"nameSub\\\":\\\"Senior Aerospace Lab.\\\",\\\"id\\\":35,\\\"credits\\\":3,\\\"nameCanonical\\\":\\\"\\\"},{\\\"curriculum_requisites\\\":[{\\\"source_id\\\":23,\\\"target_id\\\":36,\\\"type\\\":\\\"CurriculumPrerequisite\\\"},{\\\"source_id\\\":31,\\\"target_id\\\":36,\\\"type\\\":\\\"CurriculumPrerequisite\\\"},{\\\"source_id\\\":33,\\\"target_id\\\":36,\\\"type\\\":\\\"CurriculumPrerequisite\\\"},{\\\"source_id\\\":30,\\\"target_id\\\":36,\\\"type\\\":\\\"CurriculumPrerequisite\\\"}],\\\"name\\\":\\\"AME 420\\\",\\\"metrics\\\":{\\\"centrality\\\":240,\\\"complexity\\\":10.0,\\\"blocking factor\\\":1,\\\"delay factor\\\":9.0},\\\"nameSub\\\":\\\"Aerospace Conceptual Design\\\",\\\"id\\\":36,\\\"credits\\\":3,\\\"nameCanonical\\\":\\\"\\\"},{\\\"curriculum_requisites\\\":[{\\\"source_id\\\":24,\\\"target_id\\\":37,\\\"type\\\":\\\"CurriculumPrerequisite\\\"},{\\\"source_id\\\":31,\\\"target_id\\\":37,\\\"type\\\":\\\"CurriculumPrerequisite\\\"},{\\\"source_id\\\":18,\\\"target_id\\\":37,\\\"type\\\":\\\"CurriculumPrerequisite\\\"}],\\\"name\\\":\\\"AME 425\\\",\\\"metrics\\\":{\\\"centrality\\\":0,\\\"complexity\\\":8.0,\\\"blocking factor\\\":0,\\\"delay factor\\\":8.0},\\\"nameSub\\\":\\\"Aerospace Propulsion\\\",\\\"id\\\":37,\\\"credits\\\":3,\\\"nameCanonical\\\":\\\"\\\"},{\\\"curriculum_requisites\\\":[{\\\"source_id\\\":23,\\\"target_id\\\":38,\\\"type\\\":\\\"CurriculumPrerequisite\\\"},{\\\"source_id\\\":15,\\\"target_id\\\":38,\\\"type\\\":\\\"CurriculumPrerequisite\\\"},{\\\"source_id\\\":30,\\\"target_id\\\":38,\\\"type\\\":\\\"CurriculumPrerequisite\\\"}],\\\"name\\\":\\\"AME 427\\\",\\\"metrics\\\":{\\\"centrality\\\":0,\\\"complexity\\\":8.0,\\\"blocking factor\\\":0,\\\"delay factor\\\":8.0},\\\"nameSub\\\":\\\"Stability and Control of Aero. Vehicles\\\",\\\"id\\\":38,\\\"credits\\\":3,\\\"nameCanonical\\\":\\\"\\\"},{\\\"curriculum_requisites\\\":[{\\\"source_id\\\":13,\\\"target_id\\\":39,\\\"type\\\":\\\"CurriculumPrerequisite\\\"},{\\\"source_id\\\":19,\\\"target_id\\\":39,\\\"type\\\":\\\"CurriculumPrerequisite\\\"}],\\\"name\\\":\\\"AME 457\\\",\\\"metrics\\\":{\\\"centrality\\\":0,\\\"complexity\\\":6.0,\\\"blocking factor\\\":0,\\\"delay factor\\\":6.0},\\\"nameSub\\\":\\\"Orbital Mechanicans and Space Flt.\\\",\\\"id\\\":39,\\\"credits\\\":3,\\\"nameCanonical\\\":\\\"\\\"},{\\\"curriculum_requisites\\\":[],\\\"name\\\":\\\"AME 495S\\\",\\\"metrics\\\":{\\\"centrality\\\":0,\\\"complexity\\\":1.0,\\\"blocking factor\\\":0,\\\"delay factor\\\":1.0},\\\"nameSub\\\":\\\"Senior Colloquium\\\",\\\"id\\\":40,\\\"credits\\\":1,\\\"nameCanonical\\\":\\\"\\\"}],\\\"id\\\":7},{\\\"name\\\":\\\"Term 8\\\",\\\"curriculum_items\\\":[{\\\"curriculum_requisites\\\":[{\\\"source_id\\\":36,\\\"target_id\\\":41,\\\"type\\\":\\\"CurriculumPrerequisite\\\"},{\\\"source_id\\\":33,\\\"target_id\\\":41,\\\"type\\\":\\\"CurriculumCorequisite\\\"}],\\\"name\\\":\\\"AME 422\\\",\\\"metrics\\\":{\\\"centrality\\\":0,\\\"complexity\\\":9.0,\\\"blocking factor\\\":0,\\\"delay factor\\\":9.0},\\\"nameSub\\\":\\\"Aerospace Eng.Design\\\",\\\"id\\\":41,\\\"credits\\\":3,\\\"nameCanonical\\\":\\\"\\\"},{\\\"curriculum_requisites\\\":[{\\\"source_id\\\":24,\\\"target_id\\\":42,\\\"type\\\":\\\"CurriculumPrerequisite\\\"},{\\\"source_id\\\":32,\\\"target_id\\\":42,\\\"type\\\":\\\"CurriculumPrerequisite\\\"},{\\\"source_id\\\":18,\\\"target_id\\\":42,\\\"type\\\":\\\"CurriculumPrerequisite\\\"}],\\\"name\\\":\\\"AME 431\\\",\\\"metrics\\\":{\\\"centrality\\\":0,\\\"complexity\\\":7.0,\\\"blocking factor\\\":0,\\\"delay factor\\\":7.0},\\\"nameSub\\\":\\\"Num. Meth. in Fluid Mech. & Heat Xfer\\\",\\\"id\\\":42,\\\"credits\\\":3,\\\"nameCanonical\\\":\\\"\\\"},{\\\"curriculum_requisites\\\":[],\\\"name\\\":\\\" \\\",\\\"metrics\\\":{\\\"centrality\\\":0,\\\"complexity\\\":1.0,\\\"blocking factor\\\":0,\\\"delay factor\\\":1.0},\\\"nameSub\\\":\\\"Technical Elective 1\\\",\\\"id\\\":43,\\\"credits\\\":3,\\\"nameCanonical\\\":\\\"\\\"},{\\\"curriculum_requisites\\\":[],\\\"name\\\":\\\" \\\",\\\"metrics\\\":{\\\"centrality\\\":0,\\\"complexity\\\":1.0,\\\"blocking factor\\\":0,\\\"delay factor\\\":1.0},\\\"nameSub\\\":\\\"Technical Elective 2\\\",\\\"id\\\":44,\\\"credits\\\":3,\\\"nameCanonical\\\":\\\"\\\"},{\\\"curriculum_requisites\\\":[],\\\"name\\\":\\\" \\\",\\\"metrics\\\":{\\\"centrality\\\":0,\\\"complexity\\\":1.0,\\\"blocking factor\\\":0,\\\"delay factor\\\":1.0},\\\"nameSub\\\":\\\"Tier II General Ed. 2\\\",\\\"id\\\":45,\\\"credits\\\":3,\\\"nameCanonical\\\":\\\"\\\"}],\\\"id\\\":8}],\\\"institution\\\":\\\"University of Arizona\\\"}},\\\"*\\\"); window.removeEventListener(\\\"message\\\",window.messageReceived); window.messageReceived=(function (event){return (event.data.curriculum!==undefined) ? (WebIO.setval({\\\"name\\\":\\\"curriculum-data\\\",\\\"scope\\\":\\\"878384446445442772\\\",\\\"id\\\":\\\"14778852729857480092\\\",\\\"type\\\":\\\"observable\\\"},event.data.curriculum)) : undefined}); return window.addEventListener(\\\"message\\\",window.messageReceived)})\")),:style => Dict(:padding => \"0\",:height => \"80vh\",:margin => \"0\",:border => \"none\",:width => \"100%\"))), Dict{String,Tuple{Observables.AbstractObservable,Union{Nothing, Bool}}}(\"curriculum-data\" => (Observable{Dict{String,Any}} with 1 listeners. Value:\n",
       "Dict{String,Any}(\"options\" => Dict{String,Any}(\"hideTerms\" => false,\"edit\" => false),\"curriculum\" => Dict{String,Any}(\"name\" => \"Aerospace Engineering\",\"dp_name\" => \"2019-20 Degree Plan\",\"curriculum_terms\" => Dict{String,Any}[Dict(\"name\" => \"Term 1\",\"curriculum_items\" => Dict{String,Any}[Dict(\"curriculum_requisites\" => Dict{String,Any}[],\"name\" => \"MATH 125\",\"metrics\" => Dict{String,Any}(\"centrality\" => 0,\"complexity\" => 38.0,\"blocking factor\" => 29,\"delay factor\" => 9.0),\"nameSub\" => \"Calculus I w/ Applications\",\"id\" => 1,\"credits\" => 3,\"nameCanonical\" => \"\"), Dict(\"curriculum_requisites\" => Dict{String,Any}[],\"name\" => \"CHEM 151\",\"metrics\" => Dict{String,Any}(\"centrality\" => 0,\"complexity\" => 5.0,\"blocking factor\" => 2,\"delay factor\" => 3.0),\"nameSub\" => \"Gen Chemistry I\",\"id\" => 2,\"credits\" => 4,\"nameCanonical\" => \"\"), Dict(\"curriculum_requisites\" => Dict{String,Any}[],\"name\" => \"ENGL 101\",\"metrics\" => Dict{String,Any}(\"centrality\" => 0,\"complexity\" => 3.0,\"blocking factor\" => 1,\"delay factor\" => 2.0),\"nameSub\" => \"First-year Comp.\",\"id\" => 3,\"credits\" => 3,\"nameCanonical\" => \"\"), Dict(\"curriculum_requisites\" => Dict{String,Any}[Dict(\"source_id\" => 1,\"target_id\" => 4,\"type\" => \"CurriculumCorequisite\")],\"name\" => \"ENGR 102\",\"metrics\" => Dict{String,Any}(\"centrality\" => 0,\"complexity\" => 2.0,\"blocking factor\" => 0,\"delay factor\" => 2.0),\"nameSub\" => \"Intro to Engineering\",\"id\" => 4,\"credits\" => 3,\"nameCanonical\" => \"\"), Dict(\"curriculum_requisites\" => Dict{String,Any}[],\"name\" => \" \",\"metrics\" => Dict{String,Any}(\"centrality\" => 0,\"complexity\" => 1.0,\"blocking factor\" => 0,\"delay factor\" => 1.0),\"nameSub\" => \"Tier I General Ed.\",\"id\" => 5,\"credits\" => 3,\"nameCanonical\" => \"\")],\"id\" => 1), Dict(\"name\" => \"Term 2\",\"curriculum_items\" => Dict{String,Any}[Dict(\"curriculum_requisites\" => Dict{String,Any}[Dict(\"source_id\" => 1,\"target_id\" => 6,\"type\" => \"CurriculumPrerequisite\")],\"name\" => \"MATH 129\",\"metrics\" => Dict{String,Any}(\"centrality\" => 387,\"complexity\" => 31.0,\"blocking factor\" => 22,\"delay factor\" => 9.0),\"nameSub\" => \"Calculus II\",\"id\" => 6,\"credits\" => 3,\"nameCanonical\" => \"\"), Dict(\"curriculum_requisites\" => Dict{String,Any}[Dict(\"source_id\" => 1,\"target_id\" => 7,\"type\" => \"CurriculumPrerequisite\")],\"name\" => \"AME 105\",\"metrics\" => Dict{String,Any}(\"centrality\" => 28,\"complexity\" => 16.0,\"blocking factor\" => 9,\"delay factor\" => 7.0),\"nameSub\" => \"Intro. to MATLAB I\",\"id\" => 7,\"credits\" => 1,\"nameCanonical\" => \"\"), Dict(\"curriculum_requisites\" => Dict{String,Any}[Dict(\"source_id\" => 1,\"target_id\" => 8,\"type\" => \"CurriculumPrerequisite\")],\"name\" => \"PHYS 141\",\"metrics\" => Dict{String,Any}(\"centrality\" => 277,\"complexity\" => 28.0,\"blocking factor\" => 19,\"delay factor\" => 9.0),\"nameSub\" => \"Intro Mechanics\",\"id\" => 8,\"credits\" => 4,\"nameCanonical\" => \"\"), Dict(\"curriculum_requisites\" => Dict{String,Any}[Dict(\"source_id\" => 3,\"target_id\" => 9,\"type\" => \"CurriculumPrerequisite\")],\"name\" => \"ENGL 102\",\"metrics\" => Dict{String,Any}(\"centrality\" => 0,\"complexity\" => 2.0,\"blocking factor\" => 0,\"delay factor\" => 2.0),\"nameSub\" => \"First-year Comp.\",\"id\" => 9,\"credits\" => 3,\"nameCanonical\" => \"\"), Dict(\"curriculum_requisites\" => Dict{String,Any}[Dict(\"source_id\" => 1,\"target_id\" => 10,\"type\" => \"CurriculumCorequisite\")],\"name\" => \"ECE 175\",\"metrics\" => Dict{String,Any}(\"centrality\" => 0,\"complexity\" => 2.0,\"blocking factor\" => 0,\"delay factor\" => 2.0),\"nameSub\" => \"Programming for Eng. Apps.\",\"id\" => 10,\"credits\" => 3,\"nameCanonical\" => \"\"), Dict(\"curriculum_requisites\" => Dict{String,Any}[],\"name\" => \" \",\"metrics\" => Dict{String,Any}(\"centrality\" => 0,\"complexity\" => 1.0,\"blocking factor\" => 0,\"delay factor\" => 1.0),\"nameSub\" => \"Tier I General Ed. 1\",\"id\" => 11,\"credits\" => 3,\"nameCanonical\" => \"\")],\"id\" => 2), Dict(\"name\" => \"Term 3\",\"curriculum_items\" => Dict{String,Any}[Dict(\"curriculum_requisites\" => Dict{String,Any}[Dict(\"source_id\" => 8,\"target_id\" => 12,\"type\" => \"CurriculumPrerequisite\"), Dict(\"source_id\" => 6,\"target_id\" => 12,\"type\" => \"CurriculumPrerequisite\")],\"name\" => \"CE 214\",\"metrics\" => Dict{String,Any}(\"centrality\" => 264,\"complexity\" => 24.0,\"blocking factor\" => 15,\"delay factor\" => 9.0),\"nameSub\" => \"Statics\",\"id\" => 12,\"credits\" => 3,\"nameCanonical\" => \"\"), Dict(\"curriculum_requisites\" => Dict{String,Any}[Dict(\"source_id\" => 6,\"target_id\" => 13,\"type\" => \"CurriculumPrerequisite\")],\"name\" => \"MATH  223\",\"metrics\" => Dict{String,Any}(\"centrality\" => 252,\"complexity\" => 25.0,\"blocking factor\" => 16,\"delay factor\" => 9.0),\"nameSub\" => \"Vector Calculus\",\"id\" => 13,\"credits\" => 4,\"nameCanonical\" => \"\"), Dict(\"curriculum_requisites\" => Dict{String,Any}[Dict(\"source_id\" => 8,\"target_id\" => 14,\"type\" => \"CurriculumPrerequisite\"), Dict(\"source_id\" => 6,\"target_id\" => 14,\"type\" => \"CurriculumPrerequisite\")],\"name\" => \"PHYS 241\",\"metrics\" => Dict{String,Any}(\"centrality\" => 0,\"complexity\" => 3.0,\"blocking factor\" => 0,\"delay factor\" => 3.0),\"nameSub\" => \"Electricity & Magnetism\",\"id\" => 14,\"credits\" => 4,\"nameCanonical\" => \"\"), Dict(\"curriculum_requisites\" => Dict{String,Any}[Dict(\"source_id\" => 7,\"target_id\" => 15,\"type\" => \"CurriculumPrerequisite\")],\"name\" => \"AME  205\",\"metrics\" => Dict{String,Any}(\"centrality\" => 28,\"complexity\" => 15.0,\"blocking factor\" => 8,\"delay factor\" => 7.0),\"nameSub\" => \"Intro. To MATLAB II\",\"id\" => 15,\"credits\" => 1,\"nameCanonical\" => \"\"), Dict(\"curriculum_requisites\" => Dict{String,Any}[],\"name\" => \"AME 211\",\"metrics\" => Dict{String,Any}(\"centrality\" => 0,\"complexity\" => 1.0,\"blocking factor\" => 0,\"delay factor\" => 1.0),\"nameSub\" => \"Comp. Aided Drafting & Manufacturing\",\"id\" => 16,\"credits\" => 3,\"nameCanonical\" => \"\"), Dict(\"curriculum_requisites\" => Dict{String,Any}[],\"name\" => \" \",\"metrics\" => Dict{String,Any}(\"centrality\" => 0,\"complexity\" => 1.0,\"blocking factor\" => 0,\"delay factor\" => 1.0),\"nameSub\" => \"Tier I General Ed. 2\",\"id\" => 17,\"credits\" => 3,\"nameCanonical\" => \"\")],\"id\" => 3), Dict(\"name\" => \"Term 4\",\"curriculum_items\" => Dict{String,Any}[Dict(\"curriculum_requisites\" => Dict{String,Any}[Dict(\"source_id\" => 8,\"target_id\" => 18,\"type\" => \"CurriculumPrerequisite\")],\"name\" => \"AME 230\",\"metrics\" => Dict{String,Any}(\"centrality\" => 86,\"complexity\" => 19.0,\"blocking factor\" => 11,\"delay factor\" => 8.0),\"nameSub\" => \"Thermodynamics\",\"id\" => 18,\"credits\" => 3,\"nameCanonical\" => \"\"), Dict(\"curriculum_requisites\" => Dict{String,Any}[Dict(\"source_id\" => 12,\"target_id\" => 19,\"type\" => \"CurriculumPrerequisite\"), Dict(\"source_id\" => 20,\"target_id\" => 19,\"type\" => \"CurriculumCorequisite\")],\"name\" => \"AME 250\",\"metrics\" => Dict{String,Any}(\"centrality\" => 145,\"complexity\" => 19.0,\"blocking factor\" => 10,\"delay factor\" => 9.0),\"nameSub\" => \"Dynamics\",\"id\" => 19,\"credits\" => 3,\"nameCanonical\" => \"\"), Dict(\"curriculum_requisites\" => Dict{String,Any}[Dict(\"source_id\" => 13,\"target_id\" => 20,\"type\" => \"CurriculumPrerequisite\")],\"name\" => \"MATH 254\",\"metrics\" => Dict{String,Any}(\"centrality\" => 182,\"complexity\" => 24.0,\"blocking factor\" => 15,\"delay factor\" => 9.0),\"nameSub\" => \"Intro. to ODEs\",\"id\" => 20,\"credits\" => 3,\"nameCanonical\" => \"\"), Dict(\"curriculum_requisites\" => Dict{String,Any}[Dict(\"source_id\" => 13,\"target_id\" => 21,\"type\" => \"CurriculumPrerequisite\"), Dict(\"source_id\" => 8,\"target_id\" => 21,\"type\" => \"CurriculumPrerequisite\"), Dict(\"source_id\" => 20,\"target_id\" => 21,\"type\" => \"CurriculumCorequisite\")],\"name\" => \"AME 220\",\"metrics\" => Dict{String,Any}(\"centrality\" => 198,\"complexity\" => 17.0,\"blocking factor\" => 8,\"delay factor\" => 9.0),\"nameSub\" => \"Intro. to Aerospace Eng.\",\"id\" => 21,\"credits\" => 3,\"nameCanonical\" => \"\"), Dict(\"curriculum_requisites\" => Dict{String,Any}[],\"name\" => \" \",\"metrics\" => Dict{String,Any}(\"centrality\" => 0,\"complexity\" => 1.0,\"blocking factor\" => 0,\"delay factor\" => 1.0),\"nameSub\" => \"Tier I General Ed. 3\",\"id\" => 22,\"credits\" => 3,\"nameCanonical\" => \"\")],\"id\" => 4), Dict(\"name\" => \"Term 5\",\"curriculum_items\" => Dict{String,Any}[Dict(\"curriculum_requisites\" => Dict{String,Any}[Dict(\"source_id\" => 26,\"target_id\" => 23,\"type\" => \"CurriculumCorequisite\"), Dict(\"source_id\" => 21,\"target_id\" => 23,\"type\" => \"CurriculumPrerequisite\")],\"name\" => \"AME 320\",\"metrics\" => Dict{String,Any}(\"centrality\" => 214,\"complexity\" => 14.0,\"blocking factor\" => 5,\"delay factor\" => 9.0),\"nameSub\" => \"Aerodynamics\",\"id\" => 23,\"credits\" => 3,\"nameCanonical\" => \"\"), Dict(\"curriculum_requisites\" => Dict{String,Any}[Dict(\"source_id\" => 12,\"target_id\" => 24,\"type\" => \"CurriculumPrerequisite\")],\"name\" => \"AME  324A\",\"metrics\" => Dict{String,Any}(\"centrality\" => 172,\"complexity\" => 21.0,\"blocking factor\" => 12,\"delay factor\" => 9.0),\"nameSub\" => \"Mech. Behavior of Eng. Materials.\",\"id\" => 24,\"credits\" => 3,\"nameCanonical\" => \"\"), Dict(\"curriculum_requisites\" => Dict{String,Any}[Dict(\"source_id\" => 20,\"target_id\" => 25,\"type\" => \"CurriculumPrerequisite\")],\"name\" => \"AME 301\",\"metrics\" => Dict{String,Any}(\"centrality\" => 6,\"complexity\" => 7.0,\"blocking factor\" => 1,\"delay factor\" => 6.0),\"nameSub\" => \"Engineering Analysis\",\"id\" => 25,\"credits\" => 3,\"nameCanonical\" => \"\"), Dict(\"curriculum_requisites\" => Dict{String,Any}[Dict(\"source_id\" => 18,\"target_id\" => 26,\"type\" => \"CurriculumCorequisite\"), Dict(\"source_id\" => 24,\"target_id\" => 26,\"type\" => \"CurriculumCorequisite\")],\"name\" => \"AME 300\",\"metrics\" => Dict{String,Any}(\"centrality\" => 204,\"complexity\" => 19.0,\"blocking factor\" => 10,\"delay factor\" => 9.0),\"nameSub\" => \"Instrumentation Lab.\",\"id\" => 26,\"credits\" => 3,\"nameCanonical\" => \"\"), Dict(\"curriculum_requisites\" => Dict{String,Any}[Dict(\"source_id\" => 2,\"target_id\" => 27,\"type\" => \"CurriculumPrerequisite\")],\"name\" => \"MSE 331R\",\"metrics\" => Dict{String,Any}(\"centrality\" => 3,\"complexity\" => 4.0,\"blocking factor\" => 1,\"delay factor\" => 3.0),\"nameSub\" => \"Fund. of Materials for Engineers\",\"id\" => 27,\"credits\" => 3,\"nameCanonical\" => \"\"), Dict(\"curriculum_requisites\" => Dict{String,Any}[Dict(\"source_id\" => 24,\"target_id\" => 28,\"type\" => \"CurriculumCorequisite\")],\"name\" => \"AME 324L\",\"metrics\" => Dict{String,Any}(\"centrality\" => 0,\"complexity\" => 5.0,\"blocking factor\" => 0,\"delay factor\" => 5.0),\"nameSub\" => \"Mech. of Materials Lab.\",\"id\" => 28,\"credits\" => 1,\"nameCanonical\" => \"\")],\"id\" => 5), Dict(\"name\" => \"Term 6\",\"curriculum_items\" => Dict{String,Any}[Dict(\"curriculum_requisites\" => Dict{String,Any}[Dict(\"source_id\" => 25,\"target_id\" => 29,\"type\" => \"CurriculumPrerequisite\")],\"name\" => \"AME 324B\",\"metrics\" => Dict{String,Any}(\"centrality\" => 0,\"complexity\" => 6.0,\"blocking factor\" => 0,\"delay factor\" => 6.0),\"nameSub\" => \"Eng. Component Design\",\"id\" => 29,\"credits\" => 3,\"nameCanonical\" => \"\"), Dict(\"curriculum_requisites\" => Dict{String,Any}[Dict(\"source_id\" => 23,\"target_id\" => 30,\"type\" => \"CurriculumCorequisite\"), Dict(\"source_id\" => 19,\"target_id\" => 30,\"type\" => \"CurriculumPrerequisite\"), Dict(\"source_id\" => 21,\"target_id\" => 30,\"type\" => \"CurriculumPrerequisite\")],\"name\" => \"AME 321\",\"metrics\" => Dict{String,Any}(\"centrality\" => 174,\"complexity\" => 12.0,\"blocking factor\" => 3,\"delay factor\" => 9.0),\"nameSub\" => \"Aircraft Performance\",\"id\" => 30,\"credits\" => 3,\"nameCanonical\" => \"\"), Dict(\"curriculum_requisites\" => Dict{String,Any}[Dict(\"source_id\" => 18,\"target_id\" => 31,\"type\" => \"CurriculumPrerequisite\"), Dict(\"source_id\" => 32,\"target_id\" => 31,\"type\" => \"CurriculumCorequisite\"), Dict(\"source_id\" => 21,\"target_id\" => 31,\"type\" => \"CurriculumPrerequisite\"), Dict(\"source_id\" => 20,\"target_id\" => 31,\"type\" => \"CurriculumPrerequisite\")],\"name\" => \"AME 323\",\"metrics\" => Dict{String,Any}(\"centrality\" => 274,\"complexity\" => 13.0,\"blocking factor\" => 4,\"delay factor\" => 9.0),\"nameSub\" => \"Gasdynamics\",\"id\" => 31,\"credits\" => 3,\"nameCanonical\" => \"\"), Dict(\"curriculum_requisites\" => Dict{String,Any}[Dict(\"source_id\" => 26,\"target_id\" => 32,\"type\" => \"CurriculumCorequisite\"), Dict(\"source_id\" => 19,\"target_id\" => 32,\"type\" => \"CurriculumPrerequisite\"), Dict(\"source_id\" => 15,\"target_id\" => 32,\"type\" => \"CurriculumPrerequisite\"), Dict(\"source_id\" => 20,\"target_id\" => 32,\"type\" => \"CurriculumPrerequisite\")],\"name\" => \"AME 302\",\"metrics\" => Dict{String,Any}(\"centrality\" => 232,\"complexity\" => 15.0,\"blocking factor\" => 6,\"delay factor\" => 9.0),\"nameSub\" => \"Numerical Methods\",\"id\" => 32,\"credits\" => 3,\"nameCanonical\" => \"\"), Dict(\"curriculum_requisites\" => Dict{String,Any}[],\"name\" => \"AME 313\",\"metrics\" => Dict{String,Any}(\"centrality\" => 0,\"complexity\" => 5.0,\"blocking factor\" => 2,\"delay factor\" => 3.0),\"nameSub\" => \"Aero./Mech. Eng. Lab\",\"id\" => 33,\"credits\" => 1,\"nameCanonical\" => \"\"), Dict(\"curriculum_requisites\" => Dict{String,Any}[],\"name\" => \" \",\"metrics\" => Dict{String,Any}(\"centrality\" => 0,\"complexity\" => 1.0,\"blocking factor\" => 0,\"delay factor\" => 1.0),\"nameSub\" => \"Tier II General Ed. 1\",\"id\" => 34,\"credits\" => 3,\"nameCanonical\" => \"\")],\"id\" => 6), Dict(\"name\" => \"Term 7\",\"curriculum_items\" => Dict{String,Any}[Dict(\"curriculum_requisites\" => Dict{String,Any}[Dict(\"source_id\" => 23,\"target_id\" => 35,\"type\" => \"CurriculumPrerequisite\"), Dict(\"source_id\" => 31,\"target_id\" => 35,\"type\" => \"CurriculumPrerequisite\"), Dict(\"source_id\" => 27,\"target_id\" => 35,\"type\" => \"CurriculumPrerequisite\")],\"name\" => \"AME 401\",\"metrics\" => Dict{String,Any}(\"centrality\" => 0,\"complexity\" => 8.0,\"blocking factor\" => 0,\"delay factor\" => 8.0),\"nameSub\" => \"Senior Aerospace Lab.\",\"id\" => 35,\"credits\" => 3,\"nameCanonical\" => \"\"), Dict(\"curriculum_requisites\" => Dict{String,Any}[Dict(\"source_id\" => 23,\"target_id\" => 36,\"type\" => \"CurriculumPrerequisite\"), Dict(\"source_id\" => 31,\"target_id\" => 36,\"type\" => \"CurriculumPrerequisite\"), Dict(\"source_id\" => 33,\"target_id\" => 36,\"type\" => \"CurriculumPrerequisite\"), Dict(\"source_id\" => 30,\"target_id\" => 36,\"type\" => \"CurriculumPrerequisite\")],\"name\" => \"AME 420\",\"metrics\" => Dict{String,Any}(\"centrality\" => 240,\"complexity\" => 10.0,\"blocking factor\" => 1,\"delay factor\" => 9.0),\"nameSub\" => \"Aerospace Conceptual Design\",\"id\" => 36,\"credits\" => 3,\"nameCanonical\" => \"\"), Dict(\"curriculum_requisites\" => Dict{String,Any}[Dict(\"source_id\" => 24,\"target_id\" => 37,\"type\" => \"CurriculumPrerequisite\"), Dict(\"source_id\" => 31,\"target_id\" => 37,\"type\" => \"CurriculumPrerequisite\"), Dict(\"source_id\" => 18,\"target_id\" => 37,\"type\" => \"CurriculumPrerequisite\")],\"name\" => \"AME 425\",\"metrics\" => Dict{String,Any}(\"centrality\" => 0,\"complexity\" => 8.0,\"blocking factor\" => 0,\"delay factor\" => 8.0),\"nameSub\" => \"Aerospace Propulsion\",\"id\" => 37,\"credits\" => 3,\"nameCanonical\" => \"\"), Dict(\"curriculum_requisites\" => Dict{String,Any}[Dict(\"source_id\" => 23,\"target_id\" => 38,\"type\" => \"CurriculumPrerequisite\"), Dict(\"source_id\" => 15,\"target_id\" => 38,\"type\" => \"CurriculumPrerequisite\"), Dict(\"source_id\" => 30,\"target_id\" => 38,\"type\" => \"CurriculumPrerequisite\")],\"name\" => \"AME 427\",\"metrics\" => Dict{String,Any}(\"centrality\" => 0,\"complexity\" => 8.0,\"blocking factor\" => 0,\"delay factor\" => 8.0),\"nameSub\" => \"Stability and Control of Aero. Vehicles\",\"id\" => 38,\"credits\" => 3,\"nameCanonical\" => \"\"), Dict(\"curriculum_requisites\" => Dict{String,Any}[Dict(\"source_id\" => 13,\"target_id\" => 39,\"type\" => \"CurriculumPrerequisite\"), Dict(\"source_id\" => 19,\"target_id\" => 39,\"type\" => \"CurriculumPrerequisite\")],\"name\" => \"AME 457\",\"metrics\" => Dict{String,Any}(\"centrality\" => 0,\"complexity\" => 6.0,\"blocking factor\" => 0,\"delay factor\" => 6.0),\"nameSub\" => \"Orbital Mechanicans and Space Flt.\",\"id\" => 39,\"credits\" => 3,\"nameCanonical\" => \"\"), Dict(\"curriculum_requisites\" => Dict{String,Any}[],\"name\" => \"AME 495S\",\"metrics\" => Dict{String,Any}(\"centrality\" => 0,\"complexity\" => 1.0,\"blocking factor\" => 0,\"delay factor\" => 1.0),\"nameSub\" => \"Senior Colloquium\",\"id\" => 40,\"credits\" => 1,\"nameCanonical\" => \"\")],\"id\" => 7), Dict(\"name\" => \"Term 8\",\"curriculum_items\" => Dict{String,Any}[Dict(\"curriculum_requisites\" => Dict{String,Any}[Dict(\"source_id\" => 36,\"target_id\" => 41,\"type\" => \"CurriculumPrerequisite\"), Dict(\"source_id\" => 33,\"target_id\" => 41,\"type\" => \"CurriculumCorequisite\")],\"name\" => \"AME 422\",\"metrics\" => Dict{String,Any}(\"centrality\" => 0,\"complexity\" => 9.0,\"blocking factor\" => 0,\"delay factor\" => 9.0),\"nameSub\" => \"Aerospace Eng.Design\",\"id\" => 41,\"credits\" => 3,\"nameCanonical\" => \"\"), Dict(\"curriculum_requisites\" => Dict{String,Any}[Dict(\"source_id\" => 24,\"target_id\" => 42,\"type\" => \"CurriculumPrerequisite\"), Dict(\"source_id\" => 32,\"target_id\" => 42,\"type\" => \"CurriculumPrerequisite\"), Dict(\"source_id\" => 18,\"target_id\" => 42,\"type\" => \"CurriculumPrerequisite\")],\"name\" => \"AME 431\",\"metrics\" => Dict{String,Any}(\"centrality\" => 0,\"complexity\" => 7.0,\"blocking factor\" => 0,\"delay factor\" => 7.0),\"nameSub\" => \"Num. Meth. in Fluid Mech. & Heat Xfer\",\"id\" => 42,\"credits\" => 3,\"nameCanonical\" => \"\"), Dict(\"curriculum_requisites\" => Dict{String,Any}[],\"name\" => \" \",\"metrics\" => Dict{String,Any}(\"centrality\" => 0,\"complexity\" => 1.0,\"blocking factor\" => 0,\"delay factor\" => 1.0),\"nameSub\" => \"Technical Elective 1\",\"id\" => 43,\"credits\" => 3,\"nameCanonical\" => \"\"), Dict(\"curriculum_requisites\" => Dict{String,Any}[],\"name\" => \" \",\"metrics\" => Dict{String,Any}(\"centrality\" => 0,\"complexity\" => 1.0,\"blocking factor\" => 0,\"delay factor\" => 1.0),\"nameSub\" => \"Technical Elective 2\",\"id\" => 44,\"credits\" => 3,\"nameCanonical\" => \"\"), Dict(\"curriculum_requisites\" => Dict{String,Any}[],\"name\" => \" \",\"metrics\" => Dict{String,Any}(\"centrality\" => 0,\"complexity\" => 1.0,\"blocking factor\" => 0,\"delay factor\" => 1.0),\"nameSub\" => \"Tier II General Ed. 2\",\"id\" => 45,\"credits\" => 3,\"nameCanonical\" => \"\")],\"id\" => 8)],\"institution\" => \"University of Arizona\")), nothing)), Set{String}(), nothing, WebIO.Asset[], Dict{Any,Any}(), WebIO.ConnectionPool(Channel{Any}(sz_max:32,sz_curr:0), Set{WebIO.AbstractConnection}(), Base.GenericCondition{Base.AlwaysLockedST}(Base.InvasiveLinkedList{Task}(Task (runnable) @0x000000011bd5e410, Task (runnable) @0x000000011bd5e410), Base.AlwaysLockedST(1))), WebIO.JSString[])"
      ]
     },
     "execution_count": 2,
     "metadata": {
      "application/vnd.webio.node+json": {
       "kernelId": "6d7eb97f-3f11-4cd9-beb6-eb399b664b2d"
      }
     },
     "output_type": "execute_result"
    }
   ],
   "source": [
    "AE_degree_plan = read_csv(\"Univ_of_Arizona-Aero.csv\")\n",
    "visualize(AE_degree_plan, notebook=true, scale=0.8)"
   ]
  },
  {
   "cell_type": "code",
   "execution_count": 3,
   "metadata": {},
   "outputs": [
    {
     "data": {
      "text/plain": [
       "Dict{String,Any} with 8 entries:\n",
       "  \"total credit hours\"         => 129\n",
       "  \"avg. credits per term\"      => 16.125\n",
       "  \"min. credits in a term\"     => 15\n",
       "  \"term credit hour std. dev.\" => 0.927025\n",
       "  \"number of terms\"            => 8\n",
       "  \"max. credits in a term\"     => 18\n",
       "  \"min. credit term\"           => 4\n",
       "  \"max. credit term\"           => 3"
      ]
     },
     "execution_count": 3,
     "metadata": {},
     "output_type": "execute_result"
    }
   ],
   "source": [
    "basic_metrics(AE_degree_plan)\n",
    "AE_degree_plan.metrics"
   ]
  },
  {
   "cell_type": "code",
   "execution_count": 4,
   "metadata": {
    "scrolled": false
   },
   "outputs": [
    {
     "data": {
      "application/vnd.webio.node+json": {
       "children": [
        {
         "children": [
          ""
         ],
         "instanceArgs": {
          "namespace": "html",
          "tag": "iframe"
         },
         "nodeType": "DOM",
         "props": {
          "events": {
           "load": "(function (){this.contentWindow.postMessage({\"options\":{\"hideTerms\":false,\"edit\":false},\"curriculum\":{\"name\":\"Computer Science\",\"dp_name\":\"2019-20 Degree Plan\",\"curriculum_terms\":[{\"name\":\"Term 1\",\"curriculum_items\":[{\"curriculum_requisites\":[{\"source_id\":2,\"target_id\":1,\"type\":\"CurriculumCorequisite\"}],\"name\":\"CSC 110\",\"metrics\":{\"centrality\":25,\"complexity\":12.0,\"blocking factor\":7,\"delay factor\":5.0},\"nameSub\":\"Intro to Computer Programming I\",\"id\":1,\"credits\":4,\"nameCanonical\":\"\"},{\"curriculum_requisites\":[],\"name\":\"MATH 120R\",\"metrics\":{\"centrality\":0,\"complexity\":15.0,\"blocking factor\":10,\"delay factor\":5.0},\"nameSub\":\"Pre-Calculus\",\"id\":2,\"credits\":4,\"nameCanonical\":\"\"},{\"curriculum_requisites\":[],\"name\":\"ENGL 101\",\"metrics\":{\"centrality\":0,\"complexity\":3.0,\"blocking factor\":1,\"delay factor\":2.0},\"nameSub\":\"English Composition I\",\"id\":3,\"credits\":3,\"nameCanonical\":\"\"},{\"curriculum_requisites\":[],\"name\":\" \",\"metrics\":{\"centrality\":0,\"complexity\":3.0,\"blocking factor\":1,\"delay factor\":2.0},\"nameSub\":\"1st Semester Second Language\",\"id\":4,\"credits\":4,\"nameCanonical\":\"\"}],\"id\":1},{\"name\":\"Term 2\",\"curriculum_items\":[{\"curriculum_requisites\":[{\"source_id\":1,\"target_id\":5,\"type\":\"CurriculumPrerequisite\"}],\"name\":\"CSC 120\",\"metrics\":{\"centrality\":25,\"complexity\":11.0,\"blocking factor\":6,\"delay factor\":5.0},\"nameSub\":\"Intro to Computer Programming II\",\"id\":5,\"credits\":4,\"nameCanonical\":\"\"},{\"curriculum_requisites\":[{\"source_id\":2,\"target_id\":6,\"type\":\"CurriculumPrerequisite\"}],\"name\":\"MATH 122A/B\",\"metrics\":{\"centrality\":3,\"complexity\":4.0,\"blocking factor\":1,\"delay factor\":3.0},\"nameSub\":\"Calculus I\",\"id\":6,\"credits\":5,\"nameCanonical\":\"\"},{\"curriculum_requisites\":[{\"source_id\":3,\"target_id\":7,\"type\":\"CurriculumPrerequisite\"}],\"name\":\"ENGL 102\",\"metrics\":{\"centrality\":0,\"complexity\":2.0,\"blocking factor\":0,\"delay factor\":2.0},\"nameSub\":\"English Composition II\",\"id\":7,\"credits\":4,\"nameCanonical\":\"\"},{\"curriculum_requisites\":[{\"source_id\":4,\"target_id\":8,\"type\":\"CurriculumPrerequisite\"}],\"name\":\" \",\"metrics\":{\"centrality\":0,\"complexity\":2.0,\"blocking factor\":0,\"delay factor\":2.0},\"nameSub\":\"2nd Semester Second Language\",\"id\":8,\"credits\":4,\"nameCanonical\":\"\"}],\"id\":2},{\"name\":\"Term 3\",\"curriculum_items\":[{\"curriculum_requisites\":[{\"source_id\":5,\"target_id\":9,\"type\":\"CurriculumPrerequisite\"}],\"name\":\"CSC 210\",\"metrics\":{\"centrality\":20,\"complexity\":9.0,\"blocking factor\":4,\"delay factor\":5.0},\"nameSub\":\"Software Development\",\"id\":9,\"credits\":4,\"nameCanonical\":\"\"},{\"curriculum_requisites\":[{\"source_id\":5,\"target_id\":10,\"type\":\"CurriculumPrerequisite\"}],\"name\":\"CSC 245\",\"metrics\":{\"centrality\":5,\"complexity\":6.0,\"blocking factor\":1,\"delay factor\":5.0},\"nameSub\":\"Intro to Discrete Structures\",\"id\":10,\"credits\":3,\"nameCanonical\":\"\"},{\"curriculum_requisites\":[{\"source_id\":6,\"target_id\":11,\"type\":\"CurriculumPrerequisite\"}],\"name\":\"MATH 129\",\"metrics\":{\"centrality\":0,\"complexity\":3.0,\"blocking factor\":0,\"delay factor\":3.0},\"nameSub\":\"Calculus II\",\"id\":11,\"credits\":3,\"nameCanonical\":\"\"},{\"curriculum_requisites\":[],\"name\":\" \",\"metrics\":{\"centrality\":0,\"complexity\":1.0,\"blocking factor\":0,\"delay factor\":1.0},\"nameSub\":\"Tier 1 General Education 1\",\"id\":12,\"credits\":3,\"nameCanonical\":\"\"},{\"curriculum_requisites\":[],\"name\":\" \",\"metrics\":{\"centrality\":0,\"complexity\":1.0,\"blocking factor\":0,\"delay factor\":1.0},\"nameSub\":\"Tier 1 General Education 2\",\"id\":13,\"credits\":3,\"nameCanonical\":\"\"}],\"id\":3},{\"name\":\"Term 4\",\"curriculum_items\":[{\"curriculum_requisites\":[{\"source_id\":9,\"target_id\":14,\"type\":\"CurriculumPrerequisite\"}],\"name\":\"CSC 252\",\"metrics\":{\"centrality\":0,\"complexity\":5.0,\"blocking factor\":0,\"delay factor\":5.0},\"nameSub\":\"Computer Organization\",\"id\":14,\"credits\":3,\"nameCanonical\":\"\"},{\"curriculum_requisites\":[{\"source_id\":9,\"target_id\":15,\"type\":\"CurriculumPrerequisite\"}],\"name\":\"CSC 352\",\"metrics\":{\"centrality\":0,\"complexity\":5.0,\"blocking factor\":0,\"delay factor\":5.0},\"nameSub\":\"Systems Programming & Unix\",\"id\":15,\"credits\":3,\"nameCanonical\":\"\"},{\"curriculum_requisites\":[],\"name\":\" \",\"metrics\":{\"centrality\":0,\"complexity\":1.0,\"blocking factor\":0,\"delay factor\":1.0},\"nameSub\":\"Supporting Science #1\",\"id\":16,\"credits\":4,\"nameCanonical\":\"\"},{\"curriculum_requisites\":[],\"name\":\" \",\"metrics\":{\"centrality\":0,\"complexity\":1.0,\"blocking factor\":0,\"delay factor\":1.0},\"nameSub\":\"Tier 1 General Education 3\",\"id\":17,\"credits\":3,\"nameCanonical\":\"\"},{\"curriculum_requisites\":[],\"name\":\" \",\"metrics\":{\"centrality\":0,\"complexity\":1.0,\"blocking factor\":0,\"delay factor\":1.0},\"nameSub\":\"Tier 1 General Education 4\",\"id\":18,\"credits\":3,\"nameCanonical\":\"\"}],\"id\":4},{\"name\":\"Term 5\",\"curriculum_items\":[{\"curriculum_requisites\":[{\"source_id\":9,\"target_id\":19,\"type\":\"CurriculumPrerequisite\"}],\"name\":\"CSC 335\",\"metrics\":{\"centrality\":0,\"complexity\":5.0,\"blocking factor\":0,\"delay factor\":5.0},\"nameSub\":\"Object-Oriented Programming\",\"id\":19,\"credits\":3,\"nameCanonical\":\"\"},{\"curriculum_requisites\":[{\"source_id\":9,\"target_id\":20,\"type\":\"CurriculumPrerequisite\"},{\"source_id\":10,\"target_id\":20,\"type\":\"CurriculumPrerequisite\"}],\"name\":\"CSC 345\",\"metrics\":{\"centrality\":0,\"complexity\":5.0,\"blocking factor\":0,\"delay factor\":5.0},\"nameSub\":\"Analysis of Discrete Structures\",\"id\":20,\"credits\":3,\"nameCanonical\":\"\"},{\"curriculum_requisites\":[],\"name\":\" \",\"metrics\":{\"centrality\":0,\"complexity\":1.0,\"blocking factor\":0,\"delay factor\":1.0},\"nameSub\":\"Supporting Science #2\",\"id\":21,\"credits\":4,\"nameCanonical\":\"\"},{\"curriculum_requisites\":[],\"name\":\" \",\"metrics\":{\"centrality\":0,\"complexity\":1.0,\"blocking factor\":0,\"delay factor\":1.0},\"nameSub\":\"Tier 2 Gen Ed/Upper-Division 1\",\"id\":22,\"credits\":3,\"nameCanonical\":\"\"},{\"curriculum_requisites\":[],\"name\":\" \",\"metrics\":{\"centrality\":0,\"complexity\":1.0,\"blocking factor\":0,\"delay factor\":1.0},\"nameSub\":\"Upper-Division Elective\",\"id\":23,\"credits\":3,\"nameCanonical\":\"\"}],\"id\":5},{\"name\":\"Term 6\",\"curriculum_items\":[{\"curriculum_requisites\":[],\"name\":\"CSC \",\"metrics\":{\"centrality\":0,\"complexity\":1.0,\"blocking factor\":0,\"delay factor\":1.0},\"nameSub\":\"CSC Paradigms Elective\",\"id\":24,\"credits\":3,\"nameCanonical\":\"\"},{\"curriculum_requisites\":[],\"name\":\"CSC \",\"metrics\":{\"centrality\":0,\"complexity\":1.0,\"blocking factor\":0,\"delay factor\":1.0},\"nameSub\":\"CSC 400-Level Elective 1\",\"id\":25,\"credits\":3,\"nameCanonical\":\"\"},{\"curriculum_requisites\":[],\"name\":\" \",\"metrics\":{\"centrality\":0,\"complexity\":1.0,\"blocking factor\":0,\"delay factor\":1.0},\"nameSub\":\"Tier 2 Gen Ed/Upper-Division 2\",\"id\":26,\"credits\":3,\"nameCanonical\":\"\"},{\"curriculum_requisites\":[],\"name\":\" \",\"metrics\":{\"centrality\":0,\"complexity\":1.0,\"blocking factor\":0,\"delay factor\":1.0},\"nameSub\":\"Tier 2 Gen Ed/Upper-Division 3\",\"id\":27,\"credits\":3,\"nameCanonical\":\"\"},{\"curriculum_requisites\":[],\"name\":\" \",\"metrics\":{\"centrality\":0,\"complexity\":1.0,\"blocking factor\":0,\"delay factor\":1.0},\"nameSub\":\"Elective 1\",\"id\":28,\"credits\":3,\"nameCanonical\":\"\"}],\"id\":6},{\"name\":\"Term 7\",\"curriculum_items\":[{\"curriculum_requisites\":[],\"name\":\"CSC \",\"metrics\":{\"centrality\":0,\"complexity\":1.0,\"blocking factor\":0,\"delay factor\":1.0},\"nameSub\":\"CSC Theory & Writing Elective\",\"id\":29,\"credits\":3,\"nameCanonical\":\"\"},{\"curriculum_requisites\":[],\"name\":\"CSC \",\"metrics\":{\"centrality\":0,\"complexity\":1.0,\"blocking factor\":0,\"delay factor\":1.0},\"nameSub\":\"CSC 400-Level Elective 2\",\"id\":30,\"credits\":3,\"nameCanonical\":\"\"},{\"curriculum_requisites\":[],\"name\":\" \",\"metrics\":{\"centrality\":0,\"complexity\":1.0,\"blocking factor\":0,\"delay factor\":1.0},\"nameSub\":\"Elective 2\",\"id\":31,\"credits\":3,\"nameCanonical\":\"\"},{\"curriculum_requisites\":[],\"name\":\" \",\"metrics\":{\"centrality\":0,\"complexity\":1.0,\"blocking factor\":0,\"delay factor\":1.0},\"nameSub\":\"Elective 3\",\"id\":32,\"credits\":3,\"nameCanonical\":\"\"},{\"curriculum_requisites\":[],\"name\":\" \",\"metrics\":{\"centrality\":0,\"complexity\":1.0,\"blocking factor\":0,\"delay factor\":1.0},\"nameSub\":\"Elective 4\",\"id\":33,\"credits\":3,\"nameCanonical\":\"\"}],\"id\":7},{\"name\":\"Term 8\",\"curriculum_items\":[{\"curriculum_requisites\":[],\"name\":\"CSC \",\"metrics\":{\"centrality\":0,\"complexity\":1.0,\"blocking factor\":0,\"delay factor\":1.0},\"nameSub\":\"CSC Systems Elective\",\"id\":34,\"credits\":3,\"nameCanonical\":\"\"},{\"curriculum_requisites\":[],\"name\":\"CSC \",\"metrics\":{\"centrality\":0,\"complexity\":1.0,\"blocking factor\":0,\"delay factor\":1.0},\"nameSub\":\"CSC 300/400-Level Elective\",\"id\":35,\"credits\":3,\"nameCanonical\":\"\"},{\"curriculum_requisites\":[],\"name\":\" \",\"metrics\":{\"centrality\":0,\"complexity\":1.0,\"blocking factor\":0,\"delay factor\":1.0},\"nameSub\":\"Upper-Division Elective 1\",\"id\":36,\"credits\":3,\"nameCanonical\":\"\"},{\"curriculum_requisites\":[],\"name\":\" \",\"metrics\":{\"centrality\":0,\"complexity\":1.0,\"blocking factor\":0,\"delay factor\":1.0},\"nameSub\":\"Upper-Division Elective 2\",\"id\":37,\"credits\":3,\"nameCanonical\":\"\"}],\"id\":8}],\"institution\":\"University of Arizona\"}},\"*\"); window.removeEventListener(\"message\",window.messageReceived); window.messageReceived=(function (event){return (event.data.curriculum!==undefined) ? (WebIO.setval({\"name\":\"curriculum-data\",\"scope\":\"3012078596130354816\",\"id\":\"14112456886829268718\",\"type\":\"observable\"},event.data.curriculum)) : undefined}); return window.addEventListener(\"message\",window.messageReceived)})"
          },
          "id": "curriculum",
          "src": "http://localhost:8156",
          "style": {
           "border": "none",
           "height": "80vh",
           "margin": "0",
           "padding": "0",
           "width": "100%"
          }
         },
         "type": "node"
        }
       ],
       "instanceArgs": {
        "handlers": {},
        "id": "3012078596130354816",
        "imports": {
         "data": [],
         "type": "async_block"
        },
        "mount_callbacks": [],
        "observables": {
         "curriculum-data": {
          "id": "14112456886829268718",
          "sync": true,
          "value": {
           "curriculum": {
            "curriculum_terms": [
             {
              "curriculum_items": [
               {
                "credits": 4,
                "curriculum_requisites": [
                 {
                  "source_id": 2,
                  "target_id": 1,
                  "type": "CurriculumCorequisite"
                 }
                ],
                "id": 1,
                "metrics": {
                 "blocking factor": 7,
                 "centrality": 25,
                 "complexity": 12,
                 "delay factor": 5
                },
                "name": "CSC 110",
                "nameCanonical": "",
                "nameSub": "Intro to Computer Programming I"
               },
               {
                "credits": 4,
                "curriculum_requisites": [],
                "id": 2,
                "metrics": {
                 "blocking factor": 10,
                 "centrality": 0,
                 "complexity": 15,
                 "delay factor": 5
                },
                "name": "MATH 120R",
                "nameCanonical": "",
                "nameSub": "Pre-Calculus"
               },
               {
                "credits": 3,
                "curriculum_requisites": [],
                "id": 3,
                "metrics": {
                 "blocking factor": 1,
                 "centrality": 0,
                 "complexity": 3,
                 "delay factor": 2
                },
                "name": "ENGL 101",
                "nameCanonical": "",
                "nameSub": "English Composition I"
               },
               {
                "credits": 4,
                "curriculum_requisites": [],
                "id": 4,
                "metrics": {
                 "blocking factor": 1,
                 "centrality": 0,
                 "complexity": 3,
                 "delay factor": 2
                },
                "name": " ",
                "nameCanonical": "",
                "nameSub": "1st Semester Second Language"
               }
              ],
              "id": 1,
              "name": "Term 1"
             },
             {
              "curriculum_items": [
               {
                "credits": 4,
                "curriculum_requisites": [
                 {
                  "source_id": 1,
                  "target_id": 5,
                  "type": "CurriculumPrerequisite"
                 }
                ],
                "id": 5,
                "metrics": {
                 "blocking factor": 6,
                 "centrality": 25,
                 "complexity": 11,
                 "delay factor": 5
                },
                "name": "CSC 120",
                "nameCanonical": "",
                "nameSub": "Intro to Computer Programming II"
               },
               {
                "credits": 5,
                "curriculum_requisites": [
                 {
                  "source_id": 2,
                  "target_id": 6,
                  "type": "CurriculumPrerequisite"
                 }
                ],
                "id": 6,
                "metrics": {
                 "blocking factor": 1,
                 "centrality": 3,
                 "complexity": 4,
                 "delay factor": 3
                },
                "name": "MATH 122A/B",
                "nameCanonical": "",
                "nameSub": "Calculus I"
               },
               {
                "credits": 4,
                "curriculum_requisites": [
                 {
                  "source_id": 3,
                  "target_id": 7,
                  "type": "CurriculumPrerequisite"
                 }
                ],
                "id": 7,
                "metrics": {
                 "blocking factor": 0,
                 "centrality": 0,
                 "complexity": 2,
                 "delay factor": 2
                },
                "name": "ENGL 102",
                "nameCanonical": "",
                "nameSub": "English Composition II"
               },
               {
                "credits": 4,
                "curriculum_requisites": [
                 {
                  "source_id": 4,
                  "target_id": 8,
                  "type": "CurriculumPrerequisite"
                 }
                ],
                "id": 8,
                "metrics": {
                 "blocking factor": 0,
                 "centrality": 0,
                 "complexity": 2,
                 "delay factor": 2
                },
                "name": " ",
                "nameCanonical": "",
                "nameSub": "2nd Semester Second Language"
               }
              ],
              "id": 2,
              "name": "Term 2"
             },
             {
              "curriculum_items": [
               {
                "credits": 4,
                "curriculum_requisites": [
                 {
                  "source_id": 5,
                  "target_id": 9,
                  "type": "CurriculumPrerequisite"
                 }
                ],
                "id": 9,
                "metrics": {
                 "blocking factor": 4,
                 "centrality": 20,
                 "complexity": 9,
                 "delay factor": 5
                },
                "name": "CSC 210",
                "nameCanonical": "",
                "nameSub": "Software Development"
               },
               {
                "credits": 3,
                "curriculum_requisites": [
                 {
                  "source_id": 5,
                  "target_id": 10,
                  "type": "CurriculumPrerequisite"
                 }
                ],
                "id": 10,
                "metrics": {
                 "blocking factor": 1,
                 "centrality": 5,
                 "complexity": 6,
                 "delay factor": 5
                },
                "name": "CSC 245",
                "nameCanonical": "",
                "nameSub": "Intro to Discrete Structures"
               },
               {
                "credits": 3,
                "curriculum_requisites": [
                 {
                  "source_id": 6,
                  "target_id": 11,
                  "type": "CurriculumPrerequisite"
                 }
                ],
                "id": 11,
                "metrics": {
                 "blocking factor": 0,
                 "centrality": 0,
                 "complexity": 3,
                 "delay factor": 3
                },
                "name": "MATH 129",
                "nameCanonical": "",
                "nameSub": "Calculus II"
               },
               {
                "credits": 3,
                "curriculum_requisites": [],
                "id": 12,
                "metrics": {
                 "blocking factor": 0,
                 "centrality": 0,
                 "complexity": 1,
                 "delay factor": 1
                },
                "name": " ",
                "nameCanonical": "",
                "nameSub": "Tier 1 General Education 1"
               },
               {
                "credits": 3,
                "curriculum_requisites": [],
                "id": 13,
                "metrics": {
                 "blocking factor": 0,
                 "centrality": 0,
                 "complexity": 1,
                 "delay factor": 1
                },
                "name": " ",
                "nameCanonical": "",
                "nameSub": "Tier 1 General Education 2"
               }
              ],
              "id": 3,
              "name": "Term 3"
             },
             {
              "curriculum_items": [
               {
                "credits": 3,
                "curriculum_requisites": [
                 {
                  "source_id": 9,
                  "target_id": 14,
                  "type": "CurriculumPrerequisite"
                 }
                ],
                "id": 14,
                "metrics": {
                 "blocking factor": 0,
                 "centrality": 0,
                 "complexity": 5,
                 "delay factor": 5
                },
                "name": "CSC 252",
                "nameCanonical": "",
                "nameSub": "Computer Organization"
               },
               {
                "credits": 3,
                "curriculum_requisites": [
                 {
                  "source_id": 9,
                  "target_id": 15,
                  "type": "CurriculumPrerequisite"
                 }
                ],
                "id": 15,
                "metrics": {
                 "blocking factor": 0,
                 "centrality": 0,
                 "complexity": 5,
                 "delay factor": 5
                },
                "name": "CSC 352",
                "nameCanonical": "",
                "nameSub": "Systems Programming & Unix"
               },
               {
                "credits": 4,
                "curriculum_requisites": [],
                "id": 16,
                "metrics": {
                 "blocking factor": 0,
                 "centrality": 0,
                 "complexity": 1,
                 "delay factor": 1
                },
                "name": " ",
                "nameCanonical": "",
                "nameSub": "Supporting Science #1"
               },
               {
                "credits": 3,
                "curriculum_requisites": [],
                "id": 17,
                "metrics": {
                 "blocking factor": 0,
                 "centrality": 0,
                 "complexity": 1,
                 "delay factor": 1
                },
                "name": " ",
                "nameCanonical": "",
                "nameSub": "Tier 1 General Education 3"
               },
               {
                "credits": 3,
                "curriculum_requisites": [],
                "id": 18,
                "metrics": {
                 "blocking factor": 0,
                 "centrality": 0,
                 "complexity": 1,
                 "delay factor": 1
                },
                "name": " ",
                "nameCanonical": "",
                "nameSub": "Tier 1 General Education 4"
               }
              ],
              "id": 4,
              "name": "Term 4"
             },
             {
              "curriculum_items": [
               {
                "credits": 3,
                "curriculum_requisites": [
                 {
                  "source_id": 9,
                  "target_id": 19,
                  "type": "CurriculumPrerequisite"
                 }
                ],
                "id": 19,
                "metrics": {
                 "blocking factor": 0,
                 "centrality": 0,
                 "complexity": 5,
                 "delay factor": 5
                },
                "name": "CSC 335",
                "nameCanonical": "",
                "nameSub": "Object-Oriented Programming"
               },
               {
                "credits": 3,
                "curriculum_requisites": [
                 {
                  "source_id": 9,
                  "target_id": 20,
                  "type": "CurriculumPrerequisite"
                 },
                 {
                  "source_id": 10,
                  "target_id": 20,
                  "type": "CurriculumPrerequisite"
                 }
                ],
                "id": 20,
                "metrics": {
                 "blocking factor": 0,
                 "centrality": 0,
                 "complexity": 5,
                 "delay factor": 5
                },
                "name": "CSC 345",
                "nameCanonical": "",
                "nameSub": "Analysis of Discrete Structures"
               },
               {
                "credits": 4,
                "curriculum_requisites": [],
                "id": 21,
                "metrics": {
                 "blocking factor": 0,
                 "centrality": 0,
                 "complexity": 1,
                 "delay factor": 1
                },
                "name": " ",
                "nameCanonical": "",
                "nameSub": "Supporting Science #2"
               },
               {
                "credits": 3,
                "curriculum_requisites": [],
                "id": 22,
                "metrics": {
                 "blocking factor": 0,
                 "centrality": 0,
                 "complexity": 1,
                 "delay factor": 1
                },
                "name": " ",
                "nameCanonical": "",
                "nameSub": "Tier 2 Gen Ed/Upper-Division 1"
               },
               {
                "credits": 3,
                "curriculum_requisites": [],
                "id": 23,
                "metrics": {
                 "blocking factor": 0,
                 "centrality": 0,
                 "complexity": 1,
                 "delay factor": 1
                },
                "name": " ",
                "nameCanonical": "",
                "nameSub": "Upper-Division Elective"
               }
              ],
              "id": 5,
              "name": "Term 5"
             },
             {
              "curriculum_items": [
               {
                "credits": 3,
                "curriculum_requisites": [],
                "id": 24,
                "metrics": {
                 "blocking factor": 0,
                 "centrality": 0,
                 "complexity": 1,
                 "delay factor": 1
                },
                "name": "CSC ",
                "nameCanonical": "",
                "nameSub": "CSC Paradigms Elective"
               },
               {
                "credits": 3,
                "curriculum_requisites": [],
                "id": 25,
                "metrics": {
                 "blocking factor": 0,
                 "centrality": 0,
                 "complexity": 1,
                 "delay factor": 1
                },
                "name": "CSC ",
                "nameCanonical": "",
                "nameSub": "CSC 400-Level Elective 1"
               },
               {
                "credits": 3,
                "curriculum_requisites": [],
                "id": 26,
                "metrics": {
                 "blocking factor": 0,
                 "centrality": 0,
                 "complexity": 1,
                 "delay factor": 1
                },
                "name": " ",
                "nameCanonical": "",
                "nameSub": "Tier 2 Gen Ed/Upper-Division 2"
               },
               {
                "credits": 3,
                "curriculum_requisites": [],
                "id": 27,
                "metrics": {
                 "blocking factor": 0,
                 "centrality": 0,
                 "complexity": 1,
                 "delay factor": 1
                },
                "name": " ",
                "nameCanonical": "",
                "nameSub": "Tier 2 Gen Ed/Upper-Division 3"
               },
               {
                "credits": 3,
                "curriculum_requisites": [],
                "id": 28,
                "metrics": {
                 "blocking factor": 0,
                 "centrality": 0,
                 "complexity": 1,
                 "delay factor": 1
                },
                "name": " ",
                "nameCanonical": "",
                "nameSub": "Elective 1"
               }
              ],
              "id": 6,
              "name": "Term 6"
             },
             {
              "curriculum_items": [
               {
                "credits": 3,
                "curriculum_requisites": [],
                "id": 29,
                "metrics": {
                 "blocking factor": 0,
                 "centrality": 0,
                 "complexity": 1,
                 "delay factor": 1
                },
                "name": "CSC ",
                "nameCanonical": "",
                "nameSub": "CSC Theory & Writing Elective"
               },
               {
                "credits": 3,
                "curriculum_requisites": [],
                "id": 30,
                "metrics": {
                 "blocking factor": 0,
                 "centrality": 0,
                 "complexity": 1,
                 "delay factor": 1
                },
                "name": "CSC ",
                "nameCanonical": "",
                "nameSub": "CSC 400-Level Elective 2"
               },
               {
                "credits": 3,
                "curriculum_requisites": [],
                "id": 31,
                "metrics": {
                 "blocking factor": 0,
                 "centrality": 0,
                 "complexity": 1,
                 "delay factor": 1
                },
                "name": " ",
                "nameCanonical": "",
                "nameSub": "Elective 2"
               },
               {
                "credits": 3,
                "curriculum_requisites": [],
                "id": 32,
                "metrics": {
                 "blocking factor": 0,
                 "centrality": 0,
                 "complexity": 1,
                 "delay factor": 1
                },
                "name": " ",
                "nameCanonical": "",
                "nameSub": "Elective 3"
               },
               {
                "credits": 3,
                "curriculum_requisites": [],
                "id": 33,
                "metrics": {
                 "blocking factor": 0,
                 "centrality": 0,
                 "complexity": 1,
                 "delay factor": 1
                },
                "name": " ",
                "nameCanonical": "",
                "nameSub": "Elective 4"
               }
              ],
              "id": 7,
              "name": "Term 7"
             },
             {
              "curriculum_items": [
               {
                "credits": 3,
                "curriculum_requisites": [],
                "id": 34,
                "metrics": {
                 "blocking factor": 0,
                 "centrality": 0,
                 "complexity": 1,
                 "delay factor": 1
                },
                "name": "CSC ",
                "nameCanonical": "",
                "nameSub": "CSC Systems Elective"
               },
               {
                "credits": 3,
                "curriculum_requisites": [],
                "id": 35,
                "metrics": {
                 "blocking factor": 0,
                 "centrality": 0,
                 "complexity": 1,
                 "delay factor": 1
                },
                "name": "CSC ",
                "nameCanonical": "",
                "nameSub": "CSC 300/400-Level Elective"
               },
               {
                "credits": 3,
                "curriculum_requisites": [],
                "id": 36,
                "metrics": {
                 "blocking factor": 0,
                 "centrality": 0,
                 "complexity": 1,
                 "delay factor": 1
                },
                "name": " ",
                "nameCanonical": "",
                "nameSub": "Upper-Division Elective 1"
               },
               {
                "credits": 3,
                "curriculum_requisites": [],
                "id": 37,
                "metrics": {
                 "blocking factor": 0,
                 "centrality": 0,
                 "complexity": 1,
                 "delay factor": 1
                },
                "name": " ",
                "nameCanonical": "",
                "nameSub": "Upper-Division Elective 2"
               }
              ],
              "id": 8,
              "name": "Term 8"
             }
            ],
            "dp_name": "2019-20 Degree Plan",
            "institution": "University of Arizona",
            "name": "Computer Science"
           },
           "options": {
            "edit": false,
            "hideTerms": false
           }
          }
         }
        },
        "systemjs_options": null
       },
       "nodeType": "Scope",
       "props": {},
       "type": "node"
      },
      "text/html": [
       "<div\n",
       "    class=\"webio-mountpoint\"\n",
       "    data-webio-mountpoint=\"11847281919442227811\"\n",
       ">\n",
       "    <script>\n",
       "    if (window.require && require.defined && require.defined(\"nbextensions/webio-jupyter-notebook\")) {\n",
       "        console.log(\"Jupyter WebIO extension detected, not mounting.\");\n",
       "    } else if (window.WebIO) {\n",
       "        WebIO.mount(\n",
       "            document.querySelector('[data-webio-mountpoint=\"11847281919442227811\"]'),\n",
       "            {\"props\":{},\"nodeType\":\"Scope\",\"type\":\"node\",\"instanceArgs\":{\"imports\":{\"data\":[],\"type\":\"async_block\"},\"id\":\"3012078596130354816\",\"handlers\":{},\"systemjs_options\":null,\"mount_callbacks\":[],\"observables\":{\"curriculum-data\":{\"sync\":true,\"id\":\"14112456886829268718\",\"value\":{\"options\":{\"hideTerms\":false,\"edit\":false},\"curriculum\":{\"name\":\"Computer Science\",\"dp_name\":\"2019-20 Degree Plan\",\"curriculum_terms\":[{\"name\":\"Term 1\",\"curriculum_items\":[{\"curriculum_requisites\":[{\"source_id\":2,\"target_id\":1,\"type\":\"CurriculumCorequisite\"}],\"name\":\"CSC 110\",\"metrics\":{\"centrality\":25,\"complexity\":12.0,\"blocking factor\":7,\"delay factor\":5.0},\"nameSub\":\"Intro to Computer Programming I\",\"id\":1,\"credits\":4,\"nameCanonical\":\"\"},{\"curriculum_requisites\":[],\"name\":\"MATH 120R\",\"metrics\":{\"centrality\":0,\"complexity\":15.0,\"blocking factor\":10,\"delay factor\":5.0},\"nameSub\":\"Pre-Calculus\",\"id\":2,\"credits\":4,\"nameCanonical\":\"\"},{\"curriculum_requisites\":[],\"name\":\"ENGL 101\",\"metrics\":{\"centrality\":0,\"complexity\":3.0,\"blocking factor\":1,\"delay factor\":2.0},\"nameSub\":\"English Composition I\",\"id\":3,\"credits\":3,\"nameCanonical\":\"\"},{\"curriculum_requisites\":[],\"name\":\" \",\"metrics\":{\"centrality\":0,\"complexity\":3.0,\"blocking factor\":1,\"delay factor\":2.0},\"nameSub\":\"1st Semester Second Language\",\"id\":4,\"credits\":4,\"nameCanonical\":\"\"}],\"id\":1},{\"name\":\"Term 2\",\"curriculum_items\":[{\"curriculum_requisites\":[{\"source_id\":1,\"target_id\":5,\"type\":\"CurriculumPrerequisite\"}],\"name\":\"CSC 120\",\"metrics\":{\"centrality\":25,\"complexity\":11.0,\"blocking factor\":6,\"delay factor\":5.0},\"nameSub\":\"Intro to Computer Programming II\",\"id\":5,\"credits\":4,\"nameCanonical\":\"\"},{\"curriculum_requisites\":[{\"source_id\":2,\"target_id\":6,\"type\":\"CurriculumPrerequisite\"}],\"name\":\"MATH 122A\\/B\",\"metrics\":{\"centrality\":3,\"complexity\":4.0,\"blocking factor\":1,\"delay factor\":3.0},\"nameSub\":\"Calculus I\",\"id\":6,\"credits\":5,\"nameCanonical\":\"\"},{\"curriculum_requisites\":[{\"source_id\":3,\"target_id\":7,\"type\":\"CurriculumPrerequisite\"}],\"name\":\"ENGL 102\",\"metrics\":{\"centrality\":0,\"complexity\":2.0,\"blocking factor\":0,\"delay factor\":2.0},\"nameSub\":\"English Composition II\",\"id\":7,\"credits\":4,\"nameCanonical\":\"\"},{\"curriculum_requisites\":[{\"source_id\":4,\"target_id\":8,\"type\":\"CurriculumPrerequisite\"}],\"name\":\" \",\"metrics\":{\"centrality\":0,\"complexity\":2.0,\"blocking factor\":0,\"delay factor\":2.0},\"nameSub\":\"2nd Semester Second Language\",\"id\":8,\"credits\":4,\"nameCanonical\":\"\"}],\"id\":2},{\"name\":\"Term 3\",\"curriculum_items\":[{\"curriculum_requisites\":[{\"source_id\":5,\"target_id\":9,\"type\":\"CurriculumPrerequisite\"}],\"name\":\"CSC 210\",\"metrics\":{\"centrality\":20,\"complexity\":9.0,\"blocking factor\":4,\"delay factor\":5.0},\"nameSub\":\"Software Development\",\"id\":9,\"credits\":4,\"nameCanonical\":\"\"},{\"curriculum_requisites\":[{\"source_id\":5,\"target_id\":10,\"type\":\"CurriculumPrerequisite\"}],\"name\":\"CSC 245\",\"metrics\":{\"centrality\":5,\"complexity\":6.0,\"blocking factor\":1,\"delay factor\":5.0},\"nameSub\":\"Intro to Discrete Structures\",\"id\":10,\"credits\":3,\"nameCanonical\":\"\"},{\"curriculum_requisites\":[{\"source_id\":6,\"target_id\":11,\"type\":\"CurriculumPrerequisite\"}],\"name\":\"MATH 129\",\"metrics\":{\"centrality\":0,\"complexity\":3.0,\"blocking factor\":0,\"delay factor\":3.0},\"nameSub\":\"Calculus II\",\"id\":11,\"credits\":3,\"nameCanonical\":\"\"},{\"curriculum_requisites\":[],\"name\":\" \",\"metrics\":{\"centrality\":0,\"complexity\":1.0,\"blocking factor\":0,\"delay factor\":1.0},\"nameSub\":\"Tier 1 General Education 1\",\"id\":12,\"credits\":3,\"nameCanonical\":\"\"},{\"curriculum_requisites\":[],\"name\":\" \",\"metrics\":{\"centrality\":0,\"complexity\":1.0,\"blocking factor\":0,\"delay factor\":1.0},\"nameSub\":\"Tier 1 General Education 2\",\"id\":13,\"credits\":3,\"nameCanonical\":\"\"}],\"id\":3},{\"name\":\"Term 4\",\"curriculum_items\":[{\"curriculum_requisites\":[{\"source_id\":9,\"target_id\":14,\"type\":\"CurriculumPrerequisite\"}],\"name\":\"CSC 252\",\"metrics\":{\"centrality\":0,\"complexity\":5.0,\"blocking factor\":0,\"delay factor\":5.0},\"nameSub\":\"Computer Organization\",\"id\":14,\"credits\":3,\"nameCanonical\":\"\"},{\"curriculum_requisites\":[{\"source_id\":9,\"target_id\":15,\"type\":\"CurriculumPrerequisite\"}],\"name\":\"CSC 352\",\"metrics\":{\"centrality\":0,\"complexity\":5.0,\"blocking factor\":0,\"delay factor\":5.0},\"nameSub\":\"Systems Programming & Unix\",\"id\":15,\"credits\":3,\"nameCanonical\":\"\"},{\"curriculum_requisites\":[],\"name\":\" \",\"metrics\":{\"centrality\":0,\"complexity\":1.0,\"blocking factor\":0,\"delay factor\":1.0},\"nameSub\":\"Supporting Science #1\",\"id\":16,\"credits\":4,\"nameCanonical\":\"\"},{\"curriculum_requisites\":[],\"name\":\" \",\"metrics\":{\"centrality\":0,\"complexity\":1.0,\"blocking factor\":0,\"delay factor\":1.0},\"nameSub\":\"Tier 1 General Education 3\",\"id\":17,\"credits\":3,\"nameCanonical\":\"\"},{\"curriculum_requisites\":[],\"name\":\" \",\"metrics\":{\"centrality\":0,\"complexity\":1.0,\"blocking factor\":0,\"delay factor\":1.0},\"nameSub\":\"Tier 1 General Education 4\",\"id\":18,\"credits\":3,\"nameCanonical\":\"\"}],\"id\":4},{\"name\":\"Term 5\",\"curriculum_items\":[{\"curriculum_requisites\":[{\"source_id\":9,\"target_id\":19,\"type\":\"CurriculumPrerequisite\"}],\"name\":\"CSC 335\",\"metrics\":{\"centrality\":0,\"complexity\":5.0,\"blocking factor\":0,\"delay factor\":5.0},\"nameSub\":\"Object-Oriented Programming\",\"id\":19,\"credits\":3,\"nameCanonical\":\"\"},{\"curriculum_requisites\":[{\"source_id\":9,\"target_id\":20,\"type\":\"CurriculumPrerequisite\"},{\"source_id\":10,\"target_id\":20,\"type\":\"CurriculumPrerequisite\"}],\"name\":\"CSC 345\",\"metrics\":{\"centrality\":0,\"complexity\":5.0,\"blocking factor\":0,\"delay factor\":5.0},\"nameSub\":\"Analysis of Discrete Structures\",\"id\":20,\"credits\":3,\"nameCanonical\":\"\"},{\"curriculum_requisites\":[],\"name\":\" \",\"metrics\":{\"centrality\":0,\"complexity\":1.0,\"blocking factor\":0,\"delay factor\":1.0},\"nameSub\":\"Supporting Science #2\",\"id\":21,\"credits\":4,\"nameCanonical\":\"\"},{\"curriculum_requisites\":[],\"name\":\" \",\"metrics\":{\"centrality\":0,\"complexity\":1.0,\"blocking factor\":0,\"delay factor\":1.0},\"nameSub\":\"Tier 2 Gen Ed\\/Upper-Division 1\",\"id\":22,\"credits\":3,\"nameCanonical\":\"\"},{\"curriculum_requisites\":[],\"name\":\" \",\"metrics\":{\"centrality\":0,\"complexity\":1.0,\"blocking factor\":0,\"delay factor\":1.0},\"nameSub\":\"Upper-Division Elective\",\"id\":23,\"credits\":3,\"nameCanonical\":\"\"}],\"id\":5},{\"name\":\"Term 6\",\"curriculum_items\":[{\"curriculum_requisites\":[],\"name\":\"CSC \",\"metrics\":{\"centrality\":0,\"complexity\":1.0,\"blocking factor\":0,\"delay factor\":1.0},\"nameSub\":\"CSC Paradigms Elective\",\"id\":24,\"credits\":3,\"nameCanonical\":\"\"},{\"curriculum_requisites\":[],\"name\":\"CSC \",\"metrics\":{\"centrality\":0,\"complexity\":1.0,\"blocking factor\":0,\"delay factor\":1.0},\"nameSub\":\"CSC 400-Level Elective 1\",\"id\":25,\"credits\":3,\"nameCanonical\":\"\"},{\"curriculum_requisites\":[],\"name\":\" \",\"metrics\":{\"centrality\":0,\"complexity\":1.0,\"blocking factor\":0,\"delay factor\":1.0},\"nameSub\":\"Tier 2 Gen Ed\\/Upper-Division 2\",\"id\":26,\"credits\":3,\"nameCanonical\":\"\"},{\"curriculum_requisites\":[],\"name\":\" \",\"metrics\":{\"centrality\":0,\"complexity\":1.0,\"blocking factor\":0,\"delay factor\":1.0},\"nameSub\":\"Tier 2 Gen Ed\\/Upper-Division 3\",\"id\":27,\"credits\":3,\"nameCanonical\":\"\"},{\"curriculum_requisites\":[],\"name\":\" \",\"metrics\":{\"centrality\":0,\"complexity\":1.0,\"blocking factor\":0,\"delay factor\":1.0},\"nameSub\":\"Elective 1\",\"id\":28,\"credits\":3,\"nameCanonical\":\"\"}],\"id\":6},{\"name\":\"Term 7\",\"curriculum_items\":[{\"curriculum_requisites\":[],\"name\":\"CSC \",\"metrics\":{\"centrality\":0,\"complexity\":1.0,\"blocking factor\":0,\"delay factor\":1.0},\"nameSub\":\"CSC Theory & Writing Elective\",\"id\":29,\"credits\":3,\"nameCanonical\":\"\"},{\"curriculum_requisites\":[],\"name\":\"CSC \",\"metrics\":{\"centrality\":0,\"complexity\":1.0,\"blocking factor\":0,\"delay factor\":1.0},\"nameSub\":\"CSC 400-Level Elective 2\",\"id\":30,\"credits\":3,\"nameCanonical\":\"\"},{\"curriculum_requisites\":[],\"name\":\" \",\"metrics\":{\"centrality\":0,\"complexity\":1.0,\"blocking factor\":0,\"delay factor\":1.0},\"nameSub\":\"Elective 2\",\"id\":31,\"credits\":3,\"nameCanonical\":\"\"},{\"curriculum_requisites\":[],\"name\":\" \",\"metrics\":{\"centrality\":0,\"complexity\":1.0,\"blocking factor\":0,\"delay factor\":1.0},\"nameSub\":\"Elective 3\",\"id\":32,\"credits\":3,\"nameCanonical\":\"\"},{\"curriculum_requisites\":[],\"name\":\" \",\"metrics\":{\"centrality\":0,\"complexity\":1.0,\"blocking factor\":0,\"delay factor\":1.0},\"nameSub\":\"Elective 4\",\"id\":33,\"credits\":3,\"nameCanonical\":\"\"}],\"id\":7},{\"name\":\"Term 8\",\"curriculum_items\":[{\"curriculum_requisites\":[],\"name\":\"CSC \",\"metrics\":{\"centrality\":0,\"complexity\":1.0,\"blocking factor\":0,\"delay factor\":1.0},\"nameSub\":\"CSC Systems Elective\",\"id\":34,\"credits\":3,\"nameCanonical\":\"\"},{\"curriculum_requisites\":[],\"name\":\"CSC \",\"metrics\":{\"centrality\":0,\"complexity\":1.0,\"blocking factor\":0,\"delay factor\":1.0},\"nameSub\":\"CSC 300\\/400-Level Elective\",\"id\":35,\"credits\":3,\"nameCanonical\":\"\"},{\"curriculum_requisites\":[],\"name\":\" \",\"metrics\":{\"centrality\":0,\"complexity\":1.0,\"blocking factor\":0,\"delay factor\":1.0},\"nameSub\":\"Upper-Division Elective 1\",\"id\":36,\"credits\":3,\"nameCanonical\":\"\"},{\"curriculum_requisites\":[],\"name\":\" \",\"metrics\":{\"centrality\":0,\"complexity\":1.0,\"blocking factor\":0,\"delay factor\":1.0},\"nameSub\":\"Upper-Division Elective 2\",\"id\":37,\"credits\":3,\"nameCanonical\":\"\"}],\"id\":8}],\"institution\":\"University of Arizona\"}}}}},\"children\":[{\"props\":{\"src\":\"http:\\/\\/localhost:8156\",\"id\":\"curriculum\",\"events\":{\"load\":\"(function (){this.contentWindow.postMessage({\\\"options\\\":{\\\"hideTerms\\\":false,\\\"edit\\\":false},\\\"curriculum\\\":{\\\"name\\\":\\\"Computer Science\\\",\\\"dp_name\\\":\\\"2019-20 Degree Plan\\\",\\\"curriculum_terms\\\":[{\\\"name\\\":\\\"Term 1\\\",\\\"curriculum_items\\\":[{\\\"curriculum_requisites\\\":[{\\\"source_id\\\":2,\\\"target_id\\\":1,\\\"type\\\":\\\"CurriculumCorequisite\\\"}],\\\"name\\\":\\\"CSC 110\\\",\\\"metrics\\\":{\\\"centrality\\\":25,\\\"complexity\\\":12.0,\\\"blocking factor\\\":7,\\\"delay factor\\\":5.0},\\\"nameSub\\\":\\\"Intro to Computer Programming I\\\",\\\"id\\\":1,\\\"credits\\\":4,\\\"nameCanonical\\\":\\\"\\\"},{\\\"curriculum_requisites\\\":[],\\\"name\\\":\\\"MATH 120R\\\",\\\"metrics\\\":{\\\"centrality\\\":0,\\\"complexity\\\":15.0,\\\"blocking factor\\\":10,\\\"delay factor\\\":5.0},\\\"nameSub\\\":\\\"Pre-Calculus\\\",\\\"id\\\":2,\\\"credits\\\":4,\\\"nameCanonical\\\":\\\"\\\"},{\\\"curriculum_requisites\\\":[],\\\"name\\\":\\\"ENGL 101\\\",\\\"metrics\\\":{\\\"centrality\\\":0,\\\"complexity\\\":3.0,\\\"blocking factor\\\":1,\\\"delay factor\\\":2.0},\\\"nameSub\\\":\\\"English Composition I\\\",\\\"id\\\":3,\\\"credits\\\":3,\\\"nameCanonical\\\":\\\"\\\"},{\\\"curriculum_requisites\\\":[],\\\"name\\\":\\\" \\\",\\\"metrics\\\":{\\\"centrality\\\":0,\\\"complexity\\\":3.0,\\\"blocking factor\\\":1,\\\"delay factor\\\":2.0},\\\"nameSub\\\":\\\"1st Semester Second Language\\\",\\\"id\\\":4,\\\"credits\\\":4,\\\"nameCanonical\\\":\\\"\\\"}],\\\"id\\\":1},{\\\"name\\\":\\\"Term 2\\\",\\\"curriculum_items\\\":[{\\\"curriculum_requisites\\\":[{\\\"source_id\\\":1,\\\"target_id\\\":5,\\\"type\\\":\\\"CurriculumPrerequisite\\\"}],\\\"name\\\":\\\"CSC 120\\\",\\\"metrics\\\":{\\\"centrality\\\":25,\\\"complexity\\\":11.0,\\\"blocking factor\\\":6,\\\"delay factor\\\":5.0},\\\"nameSub\\\":\\\"Intro to Computer Programming II\\\",\\\"id\\\":5,\\\"credits\\\":4,\\\"nameCanonical\\\":\\\"\\\"},{\\\"curriculum_requisites\\\":[{\\\"source_id\\\":2,\\\"target_id\\\":6,\\\"type\\\":\\\"CurriculumPrerequisite\\\"}],\\\"name\\\":\\\"MATH 122A\\/B\\\",\\\"metrics\\\":{\\\"centrality\\\":3,\\\"complexity\\\":4.0,\\\"blocking factor\\\":1,\\\"delay factor\\\":3.0},\\\"nameSub\\\":\\\"Calculus I\\\",\\\"id\\\":6,\\\"credits\\\":5,\\\"nameCanonical\\\":\\\"\\\"},{\\\"curriculum_requisites\\\":[{\\\"source_id\\\":3,\\\"target_id\\\":7,\\\"type\\\":\\\"CurriculumPrerequisite\\\"}],\\\"name\\\":\\\"ENGL 102\\\",\\\"metrics\\\":{\\\"centrality\\\":0,\\\"complexity\\\":2.0,\\\"blocking factor\\\":0,\\\"delay factor\\\":2.0},\\\"nameSub\\\":\\\"English Composition II\\\",\\\"id\\\":7,\\\"credits\\\":4,\\\"nameCanonical\\\":\\\"\\\"},{\\\"curriculum_requisites\\\":[{\\\"source_id\\\":4,\\\"target_id\\\":8,\\\"type\\\":\\\"CurriculumPrerequisite\\\"}],\\\"name\\\":\\\" \\\",\\\"metrics\\\":{\\\"centrality\\\":0,\\\"complexity\\\":2.0,\\\"blocking factor\\\":0,\\\"delay factor\\\":2.0},\\\"nameSub\\\":\\\"2nd Semester Second Language\\\",\\\"id\\\":8,\\\"credits\\\":4,\\\"nameCanonical\\\":\\\"\\\"}],\\\"id\\\":2},{\\\"name\\\":\\\"Term 3\\\",\\\"curriculum_items\\\":[{\\\"curriculum_requisites\\\":[{\\\"source_id\\\":5,\\\"target_id\\\":9,\\\"type\\\":\\\"CurriculumPrerequisite\\\"}],\\\"name\\\":\\\"CSC 210\\\",\\\"metrics\\\":{\\\"centrality\\\":20,\\\"complexity\\\":9.0,\\\"blocking factor\\\":4,\\\"delay factor\\\":5.0},\\\"nameSub\\\":\\\"Software Development\\\",\\\"id\\\":9,\\\"credits\\\":4,\\\"nameCanonical\\\":\\\"\\\"},{\\\"curriculum_requisites\\\":[{\\\"source_id\\\":5,\\\"target_id\\\":10,\\\"type\\\":\\\"CurriculumPrerequisite\\\"}],\\\"name\\\":\\\"CSC 245\\\",\\\"metrics\\\":{\\\"centrality\\\":5,\\\"complexity\\\":6.0,\\\"blocking factor\\\":1,\\\"delay factor\\\":5.0},\\\"nameSub\\\":\\\"Intro to Discrete Structures\\\",\\\"id\\\":10,\\\"credits\\\":3,\\\"nameCanonical\\\":\\\"\\\"},{\\\"curriculum_requisites\\\":[{\\\"source_id\\\":6,\\\"target_id\\\":11,\\\"type\\\":\\\"CurriculumPrerequisite\\\"}],\\\"name\\\":\\\"MATH 129\\\",\\\"metrics\\\":{\\\"centrality\\\":0,\\\"complexity\\\":3.0,\\\"blocking factor\\\":0,\\\"delay factor\\\":3.0},\\\"nameSub\\\":\\\"Calculus II\\\",\\\"id\\\":11,\\\"credits\\\":3,\\\"nameCanonical\\\":\\\"\\\"},{\\\"curriculum_requisites\\\":[],\\\"name\\\":\\\" \\\",\\\"metrics\\\":{\\\"centrality\\\":0,\\\"complexity\\\":1.0,\\\"blocking factor\\\":0,\\\"delay factor\\\":1.0},\\\"nameSub\\\":\\\"Tier 1 General Education 1\\\",\\\"id\\\":12,\\\"credits\\\":3,\\\"nameCanonical\\\":\\\"\\\"},{\\\"curriculum_requisites\\\":[],\\\"name\\\":\\\" \\\",\\\"metrics\\\":{\\\"centrality\\\":0,\\\"complexity\\\":1.0,\\\"blocking factor\\\":0,\\\"delay factor\\\":1.0},\\\"nameSub\\\":\\\"Tier 1 General Education 2\\\",\\\"id\\\":13,\\\"credits\\\":3,\\\"nameCanonical\\\":\\\"\\\"}],\\\"id\\\":3},{\\\"name\\\":\\\"Term 4\\\",\\\"curriculum_items\\\":[{\\\"curriculum_requisites\\\":[{\\\"source_id\\\":9,\\\"target_id\\\":14,\\\"type\\\":\\\"CurriculumPrerequisite\\\"}],\\\"name\\\":\\\"CSC 252\\\",\\\"metrics\\\":{\\\"centrality\\\":0,\\\"complexity\\\":5.0,\\\"blocking factor\\\":0,\\\"delay factor\\\":5.0},\\\"nameSub\\\":\\\"Computer Organization\\\",\\\"id\\\":14,\\\"credits\\\":3,\\\"nameCanonical\\\":\\\"\\\"},{\\\"curriculum_requisites\\\":[{\\\"source_id\\\":9,\\\"target_id\\\":15,\\\"type\\\":\\\"CurriculumPrerequisite\\\"}],\\\"name\\\":\\\"CSC 352\\\",\\\"metrics\\\":{\\\"centrality\\\":0,\\\"complexity\\\":5.0,\\\"blocking factor\\\":0,\\\"delay factor\\\":5.0},\\\"nameSub\\\":\\\"Systems Programming & Unix\\\",\\\"id\\\":15,\\\"credits\\\":3,\\\"nameCanonical\\\":\\\"\\\"},{\\\"curriculum_requisites\\\":[],\\\"name\\\":\\\" \\\",\\\"metrics\\\":{\\\"centrality\\\":0,\\\"complexity\\\":1.0,\\\"blocking factor\\\":0,\\\"delay factor\\\":1.0},\\\"nameSub\\\":\\\"Supporting Science #1\\\",\\\"id\\\":16,\\\"credits\\\":4,\\\"nameCanonical\\\":\\\"\\\"},{\\\"curriculum_requisites\\\":[],\\\"name\\\":\\\" \\\",\\\"metrics\\\":{\\\"centrality\\\":0,\\\"complexity\\\":1.0,\\\"blocking factor\\\":0,\\\"delay factor\\\":1.0},\\\"nameSub\\\":\\\"Tier 1 General Education 3\\\",\\\"id\\\":17,\\\"credits\\\":3,\\\"nameCanonical\\\":\\\"\\\"},{\\\"curriculum_requisites\\\":[],\\\"name\\\":\\\" \\\",\\\"metrics\\\":{\\\"centrality\\\":0,\\\"complexity\\\":1.0,\\\"blocking factor\\\":0,\\\"delay factor\\\":1.0},\\\"nameSub\\\":\\\"Tier 1 General Education 4\\\",\\\"id\\\":18,\\\"credits\\\":3,\\\"nameCanonical\\\":\\\"\\\"}],\\\"id\\\":4},{\\\"name\\\":\\\"Term 5\\\",\\\"curriculum_items\\\":[{\\\"curriculum_requisites\\\":[{\\\"source_id\\\":9,\\\"target_id\\\":19,\\\"type\\\":\\\"CurriculumPrerequisite\\\"}],\\\"name\\\":\\\"CSC 335\\\",\\\"metrics\\\":{\\\"centrality\\\":0,\\\"complexity\\\":5.0,\\\"blocking factor\\\":0,\\\"delay factor\\\":5.0},\\\"nameSub\\\":\\\"Object-Oriented Programming\\\",\\\"id\\\":19,\\\"credits\\\":3,\\\"nameCanonical\\\":\\\"\\\"},{\\\"curriculum_requisites\\\":[{\\\"source_id\\\":9,\\\"target_id\\\":20,\\\"type\\\":\\\"CurriculumPrerequisite\\\"},{\\\"source_id\\\":10,\\\"target_id\\\":20,\\\"type\\\":\\\"CurriculumPrerequisite\\\"}],\\\"name\\\":\\\"CSC 345\\\",\\\"metrics\\\":{\\\"centrality\\\":0,\\\"complexity\\\":5.0,\\\"blocking factor\\\":0,\\\"delay factor\\\":5.0},\\\"nameSub\\\":\\\"Analysis of Discrete Structures\\\",\\\"id\\\":20,\\\"credits\\\":3,\\\"nameCanonical\\\":\\\"\\\"},{\\\"curriculum_requisites\\\":[],\\\"name\\\":\\\" \\\",\\\"metrics\\\":{\\\"centrality\\\":0,\\\"complexity\\\":1.0,\\\"blocking factor\\\":0,\\\"delay factor\\\":1.0},\\\"nameSub\\\":\\\"Supporting Science #2\\\",\\\"id\\\":21,\\\"credits\\\":4,\\\"nameCanonical\\\":\\\"\\\"},{\\\"curriculum_requisites\\\":[],\\\"name\\\":\\\" \\\",\\\"metrics\\\":{\\\"centrality\\\":0,\\\"complexity\\\":1.0,\\\"blocking factor\\\":0,\\\"delay factor\\\":1.0},\\\"nameSub\\\":\\\"Tier 2 Gen Ed\\/Upper-Division 1\\\",\\\"id\\\":22,\\\"credits\\\":3,\\\"nameCanonical\\\":\\\"\\\"},{\\\"curriculum_requisites\\\":[],\\\"name\\\":\\\" \\\",\\\"metrics\\\":{\\\"centrality\\\":0,\\\"complexity\\\":1.0,\\\"blocking factor\\\":0,\\\"delay factor\\\":1.0},\\\"nameSub\\\":\\\"Upper-Division Elective\\\",\\\"id\\\":23,\\\"credits\\\":3,\\\"nameCanonical\\\":\\\"\\\"}],\\\"id\\\":5},{\\\"name\\\":\\\"Term 6\\\",\\\"curriculum_items\\\":[{\\\"curriculum_requisites\\\":[],\\\"name\\\":\\\"CSC \\\",\\\"metrics\\\":{\\\"centrality\\\":0,\\\"complexity\\\":1.0,\\\"blocking factor\\\":0,\\\"delay factor\\\":1.0},\\\"nameSub\\\":\\\"CSC Paradigms Elective\\\",\\\"id\\\":24,\\\"credits\\\":3,\\\"nameCanonical\\\":\\\"\\\"},{\\\"curriculum_requisites\\\":[],\\\"name\\\":\\\"CSC \\\",\\\"metrics\\\":{\\\"centrality\\\":0,\\\"complexity\\\":1.0,\\\"blocking factor\\\":0,\\\"delay factor\\\":1.0},\\\"nameSub\\\":\\\"CSC 400-Level Elective 1\\\",\\\"id\\\":25,\\\"credits\\\":3,\\\"nameCanonical\\\":\\\"\\\"},{\\\"curriculum_requisites\\\":[],\\\"name\\\":\\\" \\\",\\\"metrics\\\":{\\\"centrality\\\":0,\\\"complexity\\\":1.0,\\\"blocking factor\\\":0,\\\"delay factor\\\":1.0},\\\"nameSub\\\":\\\"Tier 2 Gen Ed\\/Upper-Division 2\\\",\\\"id\\\":26,\\\"credits\\\":3,\\\"nameCanonical\\\":\\\"\\\"},{\\\"curriculum_requisites\\\":[],\\\"name\\\":\\\" \\\",\\\"metrics\\\":{\\\"centrality\\\":0,\\\"complexity\\\":1.0,\\\"blocking factor\\\":0,\\\"delay factor\\\":1.0},\\\"nameSub\\\":\\\"Tier 2 Gen Ed\\/Upper-Division 3\\\",\\\"id\\\":27,\\\"credits\\\":3,\\\"nameCanonical\\\":\\\"\\\"},{\\\"curriculum_requisites\\\":[],\\\"name\\\":\\\" \\\",\\\"metrics\\\":{\\\"centrality\\\":0,\\\"complexity\\\":1.0,\\\"blocking factor\\\":0,\\\"delay factor\\\":1.0},\\\"nameSub\\\":\\\"Elective 1\\\",\\\"id\\\":28,\\\"credits\\\":3,\\\"nameCanonical\\\":\\\"\\\"}],\\\"id\\\":6},{\\\"name\\\":\\\"Term 7\\\",\\\"curriculum_items\\\":[{\\\"curriculum_requisites\\\":[],\\\"name\\\":\\\"CSC \\\",\\\"metrics\\\":{\\\"centrality\\\":0,\\\"complexity\\\":1.0,\\\"blocking factor\\\":0,\\\"delay factor\\\":1.0},\\\"nameSub\\\":\\\"CSC Theory & Writing Elective\\\",\\\"id\\\":29,\\\"credits\\\":3,\\\"nameCanonical\\\":\\\"\\\"},{\\\"curriculum_requisites\\\":[],\\\"name\\\":\\\"CSC \\\",\\\"metrics\\\":{\\\"centrality\\\":0,\\\"complexity\\\":1.0,\\\"blocking factor\\\":0,\\\"delay factor\\\":1.0},\\\"nameSub\\\":\\\"CSC 400-Level Elective 2\\\",\\\"id\\\":30,\\\"credits\\\":3,\\\"nameCanonical\\\":\\\"\\\"},{\\\"curriculum_requisites\\\":[],\\\"name\\\":\\\" \\\",\\\"metrics\\\":{\\\"centrality\\\":0,\\\"complexity\\\":1.0,\\\"blocking factor\\\":0,\\\"delay factor\\\":1.0},\\\"nameSub\\\":\\\"Elective 2\\\",\\\"id\\\":31,\\\"credits\\\":3,\\\"nameCanonical\\\":\\\"\\\"},{\\\"curriculum_requisites\\\":[],\\\"name\\\":\\\" \\\",\\\"metrics\\\":{\\\"centrality\\\":0,\\\"complexity\\\":1.0,\\\"blocking factor\\\":0,\\\"delay factor\\\":1.0},\\\"nameSub\\\":\\\"Elective 3\\\",\\\"id\\\":32,\\\"credits\\\":3,\\\"nameCanonical\\\":\\\"\\\"},{\\\"curriculum_requisites\\\":[],\\\"name\\\":\\\" \\\",\\\"metrics\\\":{\\\"centrality\\\":0,\\\"complexity\\\":1.0,\\\"blocking factor\\\":0,\\\"delay factor\\\":1.0},\\\"nameSub\\\":\\\"Elective 4\\\",\\\"id\\\":33,\\\"credits\\\":3,\\\"nameCanonical\\\":\\\"\\\"}],\\\"id\\\":7},{\\\"name\\\":\\\"Term 8\\\",\\\"curriculum_items\\\":[{\\\"curriculum_requisites\\\":[],\\\"name\\\":\\\"CSC \\\",\\\"metrics\\\":{\\\"centrality\\\":0,\\\"complexity\\\":1.0,\\\"blocking factor\\\":0,\\\"delay factor\\\":1.0},\\\"nameSub\\\":\\\"CSC Systems Elective\\\",\\\"id\\\":34,\\\"credits\\\":3,\\\"nameCanonical\\\":\\\"\\\"},{\\\"curriculum_requisites\\\":[],\\\"name\\\":\\\"CSC \\\",\\\"metrics\\\":{\\\"centrality\\\":0,\\\"complexity\\\":1.0,\\\"blocking factor\\\":0,\\\"delay factor\\\":1.0},\\\"nameSub\\\":\\\"CSC 300\\/400-Level Elective\\\",\\\"id\\\":35,\\\"credits\\\":3,\\\"nameCanonical\\\":\\\"\\\"},{\\\"curriculum_requisites\\\":[],\\\"name\\\":\\\" \\\",\\\"metrics\\\":{\\\"centrality\\\":0,\\\"complexity\\\":1.0,\\\"blocking factor\\\":0,\\\"delay factor\\\":1.0},\\\"nameSub\\\":\\\"Upper-Division Elective 1\\\",\\\"id\\\":36,\\\"credits\\\":3,\\\"nameCanonical\\\":\\\"\\\"},{\\\"curriculum_requisites\\\":[],\\\"name\\\":\\\" \\\",\\\"metrics\\\":{\\\"centrality\\\":0,\\\"complexity\\\":1.0,\\\"blocking factor\\\":0,\\\"delay factor\\\":1.0},\\\"nameSub\\\":\\\"Upper-Division Elective 2\\\",\\\"id\\\":37,\\\"credits\\\":3,\\\"nameCanonical\\\":\\\"\\\"}],\\\"id\\\":8}],\\\"institution\\\":\\\"University of Arizona\\\"}},\\\"*\\\"); window.removeEventListener(\\\"message\\\",window.messageReceived); window.messageReceived=(function (event){return (event.data.curriculum!==undefined) ? (WebIO.setval({\\\"name\\\":\\\"curriculum-data\\\",\\\"scope\\\":\\\"3012078596130354816\\\",\\\"id\\\":\\\"14112456886829268718\\\",\\\"type\\\":\\\"observable\\\"},event.data.curriculum)) : undefined}); return window.addEventListener(\\\"message\\\",window.messageReceived)})\"},\"style\":{\"padding\":\"0\",\"height\":\"80vh\",\"margin\":\"0\",\"border\":\"none\",\"width\":\"100%\"}},\"nodeType\":\"DOM\",\"type\":\"node\",\"instanceArgs\":{\"namespace\":\"html\",\"tag\":\"iframe\"},\"children\":[\"\"]}]},\n",
       "            window,\n",
       "        );\n",
       "    } else {\n",
       "        document\n",
       "            .querySelector('[data-webio-mountpoint=\"11847281919442227811\"]')\n",
       "            .innerHTML = (\n",
       "                '<div style=\"padding: 1em; background-color: #f8d6da; border: 1px solid #f5c6cb\">' +\n",
       "                '<p><strong>WebIO not detected.</strong></p>' +\n",
       "                '<p>Please read ' +\n",
       "                '<a href=\"https://juliagizmos.github.io/WebIO.jl/latest/troubleshooting/not-detected/\" target=\"_blank\">the troubleshooting guide</a> ' +\n",
       "                'for more information on how to resolve this issue.</p>' +\n",
       "                '<p><a href=\"https://juliagizmos.github.io/WebIO.jl/latest/troubleshooting/not-detected/\" target=\"_blank\">https://juliagizmos.github.io/WebIO.jl/latest/troubleshooting/not-detected/</a></p>' +\n",
       "                '</div>'\n",
       "            );\n",
       "    }\n",
       "    </script>\n",
       "</div>\n"
      ],
      "text/plain": [
       "WebIO.Scope(WebIO.Node{WebIO.DOM}(WebIO.DOM(:html, :iframe), Any[\"\"], Dict{Symbol,Any}(:src => \"http://localhost:8156\",:id => \"curriculum\",:events => Dict{Symbol,WebIO.JSString}(:load => WebIO.JSString(\"(function (){this.contentWindow.postMessage({\\\"options\\\":{\\\"hideTerms\\\":false,\\\"edit\\\":false},\\\"curriculum\\\":{\\\"name\\\":\\\"Computer Science\\\",\\\"dp_name\\\":\\\"2019-20 Degree Plan\\\",\\\"curriculum_terms\\\":[{\\\"name\\\":\\\"Term 1\\\",\\\"curriculum_items\\\":[{\\\"curriculum_requisites\\\":[{\\\"source_id\\\":2,\\\"target_id\\\":1,\\\"type\\\":\\\"CurriculumCorequisite\\\"}],\\\"name\\\":\\\"CSC 110\\\",\\\"metrics\\\":{\\\"centrality\\\":25,\\\"complexity\\\":12.0,\\\"blocking factor\\\":7,\\\"delay factor\\\":5.0},\\\"nameSub\\\":\\\"Intro to Computer Programming I\\\",\\\"id\\\":1,\\\"credits\\\":4,\\\"nameCanonical\\\":\\\"\\\"},{\\\"curriculum_requisites\\\":[],\\\"name\\\":\\\"MATH 120R\\\",\\\"metrics\\\":{\\\"centrality\\\":0,\\\"complexity\\\":15.0,\\\"blocking factor\\\":10,\\\"delay factor\\\":5.0},\\\"nameSub\\\":\\\"Pre-Calculus\\\",\\\"id\\\":2,\\\"credits\\\":4,\\\"nameCanonical\\\":\\\"\\\"},{\\\"curriculum_requisites\\\":[],\\\"name\\\":\\\"ENGL 101\\\",\\\"metrics\\\":{\\\"centrality\\\":0,\\\"complexity\\\":3.0,\\\"blocking factor\\\":1,\\\"delay factor\\\":2.0},\\\"nameSub\\\":\\\"English Composition I\\\",\\\"id\\\":3,\\\"credits\\\":3,\\\"nameCanonical\\\":\\\"\\\"},{\\\"curriculum_requisites\\\":[],\\\"name\\\":\\\" \\\",\\\"metrics\\\":{\\\"centrality\\\":0,\\\"complexity\\\":3.0,\\\"blocking factor\\\":1,\\\"delay factor\\\":2.0},\\\"nameSub\\\":\\\"1st Semester Second Language\\\",\\\"id\\\":4,\\\"credits\\\":4,\\\"nameCanonical\\\":\\\"\\\"}],\\\"id\\\":1},{\\\"name\\\":\\\"Term 2\\\",\\\"curriculum_items\\\":[{\\\"curriculum_requisites\\\":[{\\\"source_id\\\":1,\\\"target_id\\\":5,\\\"type\\\":\\\"CurriculumPrerequisite\\\"}],\\\"name\\\":\\\"CSC 120\\\",\\\"metrics\\\":{\\\"centrality\\\":25,\\\"complexity\\\":11.0,\\\"blocking factor\\\":6,\\\"delay factor\\\":5.0},\\\"nameSub\\\":\\\"Intro to Computer Programming II\\\",\\\"id\\\":5,\\\"credits\\\":4,\\\"nameCanonical\\\":\\\"\\\"},{\\\"curriculum_requisites\\\":[{\\\"source_id\\\":2,\\\"target_id\\\":6,\\\"type\\\":\\\"CurriculumPrerequisite\\\"}],\\\"name\\\":\\\"MATH 122A/B\\\",\\\"metrics\\\":{\\\"centrality\\\":3,\\\"complexity\\\":4.0,\\\"blocking factor\\\":1,\\\"delay factor\\\":3.0},\\\"nameSub\\\":\\\"Calculus I\\\",\\\"id\\\":6,\\\"credits\\\":5,\\\"nameCanonical\\\":\\\"\\\"},{\\\"curriculum_requisites\\\":[{\\\"source_id\\\":3,\\\"target_id\\\":7,\\\"type\\\":\\\"CurriculumPrerequisite\\\"}],\\\"name\\\":\\\"ENGL 102\\\",\\\"metrics\\\":{\\\"centrality\\\":0,\\\"complexity\\\":2.0,\\\"blocking factor\\\":0,\\\"delay factor\\\":2.0},\\\"nameSub\\\":\\\"English Composition II\\\",\\\"id\\\":7,\\\"credits\\\":4,\\\"nameCanonical\\\":\\\"\\\"},{\\\"curriculum_requisites\\\":[{\\\"source_id\\\":4,\\\"target_id\\\":8,\\\"type\\\":\\\"CurriculumPrerequisite\\\"}],\\\"name\\\":\\\" \\\",\\\"metrics\\\":{\\\"centrality\\\":0,\\\"complexity\\\":2.0,\\\"blocking factor\\\":0,\\\"delay factor\\\":2.0},\\\"nameSub\\\":\\\"2nd Semester Second Language\\\",\\\"id\\\":8,\\\"credits\\\":4,\\\"nameCanonical\\\":\\\"\\\"}],\\\"id\\\":2},{\\\"name\\\":\\\"Term 3\\\",\\\"curriculum_items\\\":[{\\\"curriculum_requisites\\\":[{\\\"source_id\\\":5,\\\"target_id\\\":9,\\\"type\\\":\\\"CurriculumPrerequisite\\\"}],\\\"name\\\":\\\"CSC 210\\\",\\\"metrics\\\":{\\\"centrality\\\":20,\\\"complexity\\\":9.0,\\\"blocking factor\\\":4,\\\"delay factor\\\":5.0},\\\"nameSub\\\":\\\"Software Development\\\",\\\"id\\\":9,\\\"credits\\\":4,\\\"nameCanonical\\\":\\\"\\\"},{\\\"curriculum_requisites\\\":[{\\\"source_id\\\":5,\\\"target_id\\\":10,\\\"type\\\":\\\"CurriculumPrerequisite\\\"}],\\\"name\\\":\\\"CSC 245\\\",\\\"metrics\\\":{\\\"centrality\\\":5,\\\"complexity\\\":6.0,\\\"blocking factor\\\":1,\\\"delay factor\\\":5.0},\\\"nameSub\\\":\\\"Intro to Discrete Structures\\\",\\\"id\\\":10,\\\"credits\\\":3,\\\"nameCanonical\\\":\\\"\\\"},{\\\"curriculum_requisites\\\":[{\\\"source_id\\\":6,\\\"target_id\\\":11,\\\"type\\\":\\\"CurriculumPrerequisite\\\"}],\\\"name\\\":\\\"MATH 129\\\",\\\"metrics\\\":{\\\"centrality\\\":0,\\\"complexity\\\":3.0,\\\"blocking factor\\\":0,\\\"delay factor\\\":3.0},\\\"nameSub\\\":\\\"Calculus II\\\",\\\"id\\\":11,\\\"credits\\\":3,\\\"nameCanonical\\\":\\\"\\\"},{\\\"curriculum_requisites\\\":[],\\\"name\\\":\\\" \\\",\\\"metrics\\\":{\\\"centrality\\\":0,\\\"complexity\\\":1.0,\\\"blocking factor\\\":0,\\\"delay factor\\\":1.0},\\\"nameSub\\\":\\\"Tier 1 General Education 1\\\",\\\"id\\\":12,\\\"credits\\\":3,\\\"nameCanonical\\\":\\\"\\\"},{\\\"curriculum_requisites\\\":[],\\\"name\\\":\\\" \\\",\\\"metrics\\\":{\\\"centrality\\\":0,\\\"complexity\\\":1.0,\\\"blocking factor\\\":0,\\\"delay factor\\\":1.0},\\\"nameSub\\\":\\\"Tier 1 General Education 2\\\",\\\"id\\\":13,\\\"credits\\\":3,\\\"nameCanonical\\\":\\\"\\\"}],\\\"id\\\":3},{\\\"name\\\":\\\"Term 4\\\",\\\"curriculum_items\\\":[{\\\"curriculum_requisites\\\":[{\\\"source_id\\\":9,\\\"target_id\\\":14,\\\"type\\\":\\\"CurriculumPrerequisite\\\"}],\\\"name\\\":\\\"CSC 252\\\",\\\"metrics\\\":{\\\"centrality\\\":0,\\\"complexity\\\":5.0,\\\"blocking factor\\\":0,\\\"delay factor\\\":5.0},\\\"nameSub\\\":\\\"Computer Organization\\\",\\\"id\\\":14,\\\"credits\\\":3,\\\"nameCanonical\\\":\\\"\\\"},{\\\"curriculum_requisites\\\":[{\\\"source_id\\\":9,\\\"target_id\\\":15,\\\"type\\\":\\\"CurriculumPrerequisite\\\"}],\\\"name\\\":\\\"CSC 352\\\",\\\"metrics\\\":{\\\"centrality\\\":0,\\\"complexity\\\":5.0,\\\"blocking factor\\\":0,\\\"delay factor\\\":5.0},\\\"nameSub\\\":\\\"Systems Programming & Unix\\\",\\\"id\\\":15,\\\"credits\\\":3,\\\"nameCanonical\\\":\\\"\\\"},{\\\"curriculum_requisites\\\":[],\\\"name\\\":\\\" \\\",\\\"metrics\\\":{\\\"centrality\\\":0,\\\"complexity\\\":1.0,\\\"blocking factor\\\":0,\\\"delay factor\\\":1.0},\\\"nameSub\\\":\\\"Supporting Science #1\\\",\\\"id\\\":16,\\\"credits\\\":4,\\\"nameCanonical\\\":\\\"\\\"},{\\\"curriculum_requisites\\\":[],\\\"name\\\":\\\" \\\",\\\"metrics\\\":{\\\"centrality\\\":0,\\\"complexity\\\":1.0,\\\"blocking factor\\\":0,\\\"delay factor\\\":1.0},\\\"nameSub\\\":\\\"Tier 1 General Education 3\\\",\\\"id\\\":17,\\\"credits\\\":3,\\\"nameCanonical\\\":\\\"\\\"},{\\\"curriculum_requisites\\\":[],\\\"name\\\":\\\" \\\",\\\"metrics\\\":{\\\"centrality\\\":0,\\\"complexity\\\":1.0,\\\"blocking factor\\\":0,\\\"delay factor\\\":1.0},\\\"nameSub\\\":\\\"Tier 1 General Education 4\\\",\\\"id\\\":18,\\\"credits\\\":3,\\\"nameCanonical\\\":\\\"\\\"}],\\\"id\\\":4},{\\\"name\\\":\\\"Term 5\\\",\\\"curriculum_items\\\":[{\\\"curriculum_requisites\\\":[{\\\"source_id\\\":9,\\\"target_id\\\":19,\\\"type\\\":\\\"CurriculumPrerequisite\\\"}],\\\"name\\\":\\\"CSC 335\\\",\\\"metrics\\\":{\\\"centrality\\\":0,\\\"complexity\\\":5.0,\\\"blocking factor\\\":0,\\\"delay factor\\\":5.0},\\\"nameSub\\\":\\\"Object-Oriented Programming\\\",\\\"id\\\":19,\\\"credits\\\":3,\\\"nameCanonical\\\":\\\"\\\"},{\\\"curriculum_requisites\\\":[{\\\"source_id\\\":9,\\\"target_id\\\":20,\\\"type\\\":\\\"CurriculumPrerequisite\\\"},{\\\"source_id\\\":10,\\\"target_id\\\":20,\\\"type\\\":\\\"CurriculumPrerequisite\\\"}],\\\"name\\\":\\\"CSC 345\\\",\\\"metrics\\\":{\\\"centrality\\\":0,\\\"complexity\\\":5.0,\\\"blocking factor\\\":0,\\\"delay factor\\\":5.0},\\\"nameSub\\\":\\\"Analysis of Discrete Structures\\\",\\\"id\\\":20,\\\"credits\\\":3,\\\"nameCanonical\\\":\\\"\\\"},{\\\"curriculum_requisites\\\":[],\\\"name\\\":\\\" \\\",\\\"metrics\\\":{\\\"centrality\\\":0,\\\"complexity\\\":1.0,\\\"blocking factor\\\":0,\\\"delay factor\\\":1.0},\\\"nameSub\\\":\\\"Supporting Science #2\\\",\\\"id\\\":21,\\\"credits\\\":4,\\\"nameCanonical\\\":\\\"\\\"},{\\\"curriculum_requisites\\\":[],\\\"name\\\":\\\" \\\",\\\"metrics\\\":{\\\"centrality\\\":0,\\\"complexity\\\":1.0,\\\"blocking factor\\\":0,\\\"delay factor\\\":1.0},\\\"nameSub\\\":\\\"Tier 2 Gen Ed/Upper-Division 1\\\",\\\"id\\\":22,\\\"credits\\\":3,\\\"nameCanonical\\\":\\\"\\\"},{\\\"curriculum_requisites\\\":[],\\\"name\\\":\\\" \\\",\\\"metrics\\\":{\\\"centrality\\\":0,\\\"complexity\\\":1.0,\\\"blocking factor\\\":0,\\\"delay factor\\\":1.0},\\\"nameSub\\\":\\\"Upper-Division Elective\\\",\\\"id\\\":23,\\\"credits\\\":3,\\\"nameCanonical\\\":\\\"\\\"}],\\\"id\\\":5},{\\\"name\\\":\\\"Term 6\\\",\\\"curriculum_items\\\":[{\\\"curriculum_requisites\\\":[],\\\"name\\\":\\\"CSC \\\",\\\"metrics\\\":{\\\"centrality\\\":0,\\\"complexity\\\":1.0,\\\"blocking factor\\\":0,\\\"delay factor\\\":1.0},\\\"nameSub\\\":\\\"CSC Paradigms Elective\\\",\\\"id\\\":24,\\\"credits\\\":3,\\\"nameCanonical\\\":\\\"\\\"},{\\\"curriculum_requisites\\\":[],\\\"name\\\":\\\"CSC \\\",\\\"metrics\\\":{\\\"centrality\\\":0,\\\"complexity\\\":1.0,\\\"blocking factor\\\":0,\\\"delay factor\\\":1.0},\\\"nameSub\\\":\\\"CSC 400-Level Elective 1\\\",\\\"id\\\":25,\\\"credits\\\":3,\\\"nameCanonical\\\":\\\"\\\"},{\\\"curriculum_requisites\\\":[],\\\"name\\\":\\\" \\\",\\\"metrics\\\":{\\\"centrality\\\":0,\\\"complexity\\\":1.0,\\\"blocking factor\\\":0,\\\"delay factor\\\":1.0},\\\"nameSub\\\":\\\"Tier 2 Gen Ed/Upper-Division 2\\\",\\\"id\\\":26,\\\"credits\\\":3,\\\"nameCanonical\\\":\\\"\\\"},{\\\"curriculum_requisites\\\":[],\\\"name\\\":\\\" \\\",\\\"metrics\\\":{\\\"centrality\\\":0,\\\"complexity\\\":1.0,\\\"blocking factor\\\":0,\\\"delay factor\\\":1.0},\\\"nameSub\\\":\\\"Tier 2 Gen Ed/Upper-Division 3\\\",\\\"id\\\":27,\\\"credits\\\":3,\\\"nameCanonical\\\":\\\"\\\"},{\\\"curriculum_requisites\\\":[],\\\"name\\\":\\\" \\\",\\\"metrics\\\":{\\\"centrality\\\":0,\\\"complexity\\\":1.0,\\\"blocking factor\\\":0,\\\"delay factor\\\":1.0},\\\"nameSub\\\":\\\"Elective 1\\\",\\\"id\\\":28,\\\"credits\\\":3,\\\"nameCanonical\\\":\\\"\\\"}],\\\"id\\\":6},{\\\"name\\\":\\\"Term 7\\\",\\\"curriculum_items\\\":[{\\\"curriculum_requisites\\\":[],\\\"name\\\":\\\"CSC \\\",\\\"metrics\\\":{\\\"centrality\\\":0,\\\"complexity\\\":1.0,\\\"blocking factor\\\":0,\\\"delay factor\\\":1.0},\\\"nameSub\\\":\\\"CSC Theory & Writing Elective\\\",\\\"id\\\":29,\\\"credits\\\":3,\\\"nameCanonical\\\":\\\"\\\"},{\\\"curriculum_requisites\\\":[],\\\"name\\\":\\\"CSC \\\",\\\"metrics\\\":{\\\"centrality\\\":0,\\\"complexity\\\":1.0,\\\"blocking factor\\\":0,\\\"delay factor\\\":1.0},\\\"nameSub\\\":\\\"CSC 400-Level Elective 2\\\",\\\"id\\\":30,\\\"credits\\\":3,\\\"nameCanonical\\\":\\\"\\\"},{\\\"curriculum_requisites\\\":[],\\\"name\\\":\\\" \\\",\\\"metrics\\\":{\\\"centrality\\\":0,\\\"complexity\\\":1.0,\\\"blocking factor\\\":0,\\\"delay factor\\\":1.0},\\\"nameSub\\\":\\\"Elective 2\\\",\\\"id\\\":31,\\\"credits\\\":3,\\\"nameCanonical\\\":\\\"\\\"},{\\\"curriculum_requisites\\\":[],\\\"name\\\":\\\" \\\",\\\"metrics\\\":{\\\"centrality\\\":0,\\\"complexity\\\":1.0,\\\"blocking factor\\\":0,\\\"delay factor\\\":1.0},\\\"nameSub\\\":\\\"Elective 3\\\",\\\"id\\\":32,\\\"credits\\\":3,\\\"nameCanonical\\\":\\\"\\\"},{\\\"curriculum_requisites\\\":[],\\\"name\\\":\\\" \\\",\\\"metrics\\\":{\\\"centrality\\\":0,\\\"complexity\\\":1.0,\\\"blocking factor\\\":0,\\\"delay factor\\\":1.0},\\\"nameSub\\\":\\\"Elective 4\\\",\\\"id\\\":33,\\\"credits\\\":3,\\\"nameCanonical\\\":\\\"\\\"}],\\\"id\\\":7},{\\\"name\\\":\\\"Term 8\\\",\\\"curriculum_items\\\":[{\\\"curriculum_requisites\\\":[],\\\"name\\\":\\\"CSC \\\",\\\"metrics\\\":{\\\"centrality\\\":0,\\\"complexity\\\":1.0,\\\"blocking factor\\\":0,\\\"delay factor\\\":1.0},\\\"nameSub\\\":\\\"CSC Systems Elective\\\",\\\"id\\\":34,\\\"credits\\\":3,\\\"nameCanonical\\\":\\\"\\\"},{\\\"curriculum_requisites\\\":[],\\\"name\\\":\\\"CSC \\\",\\\"metrics\\\":{\\\"centrality\\\":0,\\\"complexity\\\":1.0,\\\"blocking factor\\\":0,\\\"delay factor\\\":1.0},\\\"nameSub\\\":\\\"CSC 300/400-Level Elective\\\",\\\"id\\\":35,\\\"credits\\\":3,\\\"nameCanonical\\\":\\\"\\\"},{\\\"curriculum_requisites\\\":[],\\\"name\\\":\\\" \\\",\\\"metrics\\\":{\\\"centrality\\\":0,\\\"complexity\\\":1.0,\\\"blocking factor\\\":0,\\\"delay factor\\\":1.0},\\\"nameSub\\\":\\\"Upper-Division Elective 1\\\",\\\"id\\\":36,\\\"credits\\\":3,\\\"nameCanonical\\\":\\\"\\\"},{\\\"curriculum_requisites\\\":[],\\\"name\\\":\\\" \\\",\\\"metrics\\\":{\\\"centrality\\\":0,\\\"complexity\\\":1.0,\\\"blocking factor\\\":0,\\\"delay factor\\\":1.0},\\\"nameSub\\\":\\\"Upper-Division Elective 2\\\",\\\"id\\\":37,\\\"credits\\\":3,\\\"nameCanonical\\\":\\\"\\\"}],\\\"id\\\":8}],\\\"institution\\\":\\\"University of Arizona\\\"}},\\\"*\\\"); window.removeEventListener(\\\"message\\\",window.messageReceived); window.messageReceived=(function (event){return (event.data.curriculum!==undefined) ? (WebIO.setval({\\\"name\\\":\\\"curriculum-data\\\",\\\"scope\\\":\\\"3012078596130354816\\\",\\\"id\\\":\\\"14112456886829268718\\\",\\\"type\\\":\\\"observable\\\"},event.data.curriculum)) : undefined}); return window.addEventListener(\\\"message\\\",window.messageReceived)})\")),:style => Dict(:padding => \"0\",:height => \"80vh\",:margin => \"0\",:border => \"none\",:width => \"100%\"))), Dict{String,Tuple{Observables.AbstractObservable,Union{Nothing, Bool}}}(\"curriculum-data\" => (Observable{Dict{String,Any}} with 1 listeners. Value:\n",
       "Dict{String,Any}(\"options\" => Dict{String,Any}(\"hideTerms\" => false,\"edit\" => false),\"curriculum\" => Dict{String,Any}(\"name\" => \"Computer Science\",\"dp_name\" => \"2019-20 Degree Plan\",\"curriculum_terms\" => Dict{String,Any}[Dict(\"name\" => \"Term 1\",\"curriculum_items\" => Dict{String,Any}[Dict(\"curriculum_requisites\" => Dict{String,Any}[Dict(\"source_id\" => 2,\"target_id\" => 1,\"type\" => \"CurriculumCorequisite\")],\"name\" => \"CSC 110\",\"metrics\" => Dict{String,Any}(\"centrality\" => 25,\"complexity\" => 12.0,\"blocking factor\" => 7,\"delay factor\" => 5.0),\"nameSub\" => \"Intro to Computer Programming I\",\"id\" => 1,\"credits\" => 4,\"nameCanonical\" => \"\"), Dict(\"curriculum_requisites\" => Dict{String,Any}[],\"name\" => \"MATH 120R\",\"metrics\" => Dict{String,Any}(\"centrality\" => 0,\"complexity\" => 15.0,\"blocking factor\" => 10,\"delay factor\" => 5.0),\"nameSub\" => \"Pre-Calculus\",\"id\" => 2,\"credits\" => 4,\"nameCanonical\" => \"\"), Dict(\"curriculum_requisites\" => Dict{String,Any}[],\"name\" => \"ENGL 101\",\"metrics\" => Dict{String,Any}(\"centrality\" => 0,\"complexity\" => 3.0,\"blocking factor\" => 1,\"delay factor\" => 2.0),\"nameSub\" => \"English Composition I\",\"id\" => 3,\"credits\" => 3,\"nameCanonical\" => \"\"), Dict(\"curriculum_requisites\" => Dict{String,Any}[],\"name\" => \" \",\"metrics\" => Dict{String,Any}(\"centrality\" => 0,\"complexity\" => 3.0,\"blocking factor\" => 1,\"delay factor\" => 2.0),\"nameSub\" => \"1st Semester Second Language\",\"id\" => 4,\"credits\" => 4,\"nameCanonical\" => \"\")],\"id\" => 1), Dict(\"name\" => \"Term 2\",\"curriculum_items\" => Dict{String,Any}[Dict(\"curriculum_requisites\" => Dict{String,Any}[Dict(\"source_id\" => 1,\"target_id\" => 5,\"type\" => \"CurriculumPrerequisite\")],\"name\" => \"CSC 120\",\"metrics\" => Dict{String,Any}(\"centrality\" => 25,\"complexity\" => 11.0,\"blocking factor\" => 6,\"delay factor\" => 5.0),\"nameSub\" => \"Intro to Computer Programming II\",\"id\" => 5,\"credits\" => 4,\"nameCanonical\" => \"\"), Dict(\"curriculum_requisites\" => Dict{String,Any}[Dict(\"source_id\" => 2,\"target_id\" => 6,\"type\" => \"CurriculumPrerequisite\")],\"name\" => \"MATH 122A/B\",\"metrics\" => Dict{String,Any}(\"centrality\" => 3,\"complexity\" => 4.0,\"blocking factor\" => 1,\"delay factor\" => 3.0),\"nameSub\" => \"Calculus I\",\"id\" => 6,\"credits\" => 5,\"nameCanonical\" => \"\"), Dict(\"curriculum_requisites\" => Dict{String,Any}[Dict(\"source_id\" => 3,\"target_id\" => 7,\"type\" => \"CurriculumPrerequisite\")],\"name\" => \"ENGL 102\",\"metrics\" => Dict{String,Any}(\"centrality\" => 0,\"complexity\" => 2.0,\"blocking factor\" => 0,\"delay factor\" => 2.0),\"nameSub\" => \"English Composition II\",\"id\" => 7,\"credits\" => 4,\"nameCanonical\" => \"\"), Dict(\"curriculum_requisites\" => Dict{String,Any}[Dict(\"source_id\" => 4,\"target_id\" => 8,\"type\" => \"CurriculumPrerequisite\")],\"name\" => \" \",\"metrics\" => Dict{String,Any}(\"centrality\" => 0,\"complexity\" => 2.0,\"blocking factor\" => 0,\"delay factor\" => 2.0),\"nameSub\" => \"2nd Semester Second Language\",\"id\" => 8,\"credits\" => 4,\"nameCanonical\" => \"\")],\"id\" => 2), Dict(\"name\" => \"Term 3\",\"curriculum_items\" => Dict{String,Any}[Dict(\"curriculum_requisites\" => Dict{String,Any}[Dict(\"source_id\" => 5,\"target_id\" => 9,\"type\" => \"CurriculumPrerequisite\")],\"name\" => \"CSC 210\",\"metrics\" => Dict{String,Any}(\"centrality\" => 20,\"complexity\" => 9.0,\"blocking factor\" => 4,\"delay factor\" => 5.0),\"nameSub\" => \"Software Development\",\"id\" => 9,\"credits\" => 4,\"nameCanonical\" => \"\"), Dict(\"curriculum_requisites\" => Dict{String,Any}[Dict(\"source_id\" => 5,\"target_id\" => 10,\"type\" => \"CurriculumPrerequisite\")],\"name\" => \"CSC 245\",\"metrics\" => Dict{String,Any}(\"centrality\" => 5,\"complexity\" => 6.0,\"blocking factor\" => 1,\"delay factor\" => 5.0),\"nameSub\" => \"Intro to Discrete Structures\",\"id\" => 10,\"credits\" => 3,\"nameCanonical\" => \"\"), Dict(\"curriculum_requisites\" => Dict{String,Any}[Dict(\"source_id\" => 6,\"target_id\" => 11,\"type\" => \"CurriculumPrerequisite\")],\"name\" => \"MATH 129\",\"metrics\" => Dict{String,Any}(\"centrality\" => 0,\"complexity\" => 3.0,\"blocking factor\" => 0,\"delay factor\" => 3.0),\"nameSub\" => \"Calculus II\",\"id\" => 11,\"credits\" => 3,\"nameCanonical\" => \"\"), Dict(\"curriculum_requisites\" => Dict{String,Any}[],\"name\" => \" \",\"metrics\" => Dict{String,Any}(\"centrality\" => 0,\"complexity\" => 1.0,\"blocking factor\" => 0,\"delay factor\" => 1.0),\"nameSub\" => \"Tier 1 General Education 1\",\"id\" => 12,\"credits\" => 3,\"nameCanonical\" => \"\"), Dict(\"curriculum_requisites\" => Dict{String,Any}[],\"name\" => \" \",\"metrics\" => Dict{String,Any}(\"centrality\" => 0,\"complexity\" => 1.0,\"blocking factor\" => 0,\"delay factor\" => 1.0),\"nameSub\" => \"Tier 1 General Education 2\",\"id\" => 13,\"credits\" => 3,\"nameCanonical\" => \"\")],\"id\" => 3), Dict(\"name\" => \"Term 4\",\"curriculum_items\" => Dict{String,Any}[Dict(\"curriculum_requisites\" => Dict{String,Any}[Dict(\"source_id\" => 9,\"target_id\" => 14,\"type\" => \"CurriculumPrerequisite\")],\"name\" => \"CSC 252\",\"metrics\" => Dict{String,Any}(\"centrality\" => 0,\"complexity\" => 5.0,\"blocking factor\" => 0,\"delay factor\" => 5.0),\"nameSub\" => \"Computer Organization\",\"id\" => 14,\"credits\" => 3,\"nameCanonical\" => \"\"), Dict(\"curriculum_requisites\" => Dict{String,Any}[Dict(\"source_id\" => 9,\"target_id\" => 15,\"type\" => \"CurriculumPrerequisite\")],\"name\" => \"CSC 352\",\"metrics\" => Dict{String,Any}(\"centrality\" => 0,\"complexity\" => 5.0,\"blocking factor\" => 0,\"delay factor\" => 5.0),\"nameSub\" => \"Systems Programming & Unix\",\"id\" => 15,\"credits\" => 3,\"nameCanonical\" => \"\"), Dict(\"curriculum_requisites\" => Dict{String,Any}[],\"name\" => \" \",\"metrics\" => Dict{String,Any}(\"centrality\" => 0,\"complexity\" => 1.0,\"blocking factor\" => 0,\"delay factor\" => 1.0),\"nameSub\" => \"Supporting Science #1\",\"id\" => 16,\"credits\" => 4,\"nameCanonical\" => \"\"), Dict(\"curriculum_requisites\" => Dict{String,Any}[],\"name\" => \" \",\"metrics\" => Dict{String,Any}(\"centrality\" => 0,\"complexity\" => 1.0,\"blocking factor\" => 0,\"delay factor\" => 1.0),\"nameSub\" => \"Tier 1 General Education 3\",\"id\" => 17,\"credits\" => 3,\"nameCanonical\" => \"\"), Dict(\"curriculum_requisites\" => Dict{String,Any}[],\"name\" => \" \",\"metrics\" => Dict{String,Any}(\"centrality\" => 0,\"complexity\" => 1.0,\"blocking factor\" => 0,\"delay factor\" => 1.0),\"nameSub\" => \"Tier 1 General Education 4\",\"id\" => 18,\"credits\" => 3,\"nameCanonical\" => \"\")],\"id\" => 4), Dict(\"name\" => \"Term 5\",\"curriculum_items\" => Dict{String,Any}[Dict(\"curriculum_requisites\" => Dict{String,Any}[Dict(\"source_id\" => 9,\"target_id\" => 19,\"type\" => \"CurriculumPrerequisite\")],\"name\" => \"CSC 335\",\"metrics\" => Dict{String,Any}(\"centrality\" => 0,\"complexity\" => 5.0,\"blocking factor\" => 0,\"delay factor\" => 5.0),\"nameSub\" => \"Object-Oriented Programming\",\"id\" => 19,\"credits\" => 3,\"nameCanonical\" => \"\"), Dict(\"curriculum_requisites\" => Dict{String,Any}[Dict(\"source_id\" => 9,\"target_id\" => 20,\"type\" => \"CurriculumPrerequisite\"), Dict(\"source_id\" => 10,\"target_id\" => 20,\"type\" => \"CurriculumPrerequisite\")],\"name\" => \"CSC 345\",\"metrics\" => Dict{String,Any}(\"centrality\" => 0,\"complexity\" => 5.0,\"blocking factor\" => 0,\"delay factor\" => 5.0),\"nameSub\" => \"Analysis of Discrete Structures\",\"id\" => 20,\"credits\" => 3,\"nameCanonical\" => \"\"), Dict(\"curriculum_requisites\" => Dict{String,Any}[],\"name\" => \" \",\"metrics\" => Dict{String,Any}(\"centrality\" => 0,\"complexity\" => 1.0,\"blocking factor\" => 0,\"delay factor\" => 1.0),\"nameSub\" => \"Supporting Science #2\",\"id\" => 21,\"credits\" => 4,\"nameCanonical\" => \"\"), Dict(\"curriculum_requisites\" => Dict{String,Any}[],\"name\" => \" \",\"metrics\" => Dict{String,Any}(\"centrality\" => 0,\"complexity\" => 1.0,\"blocking factor\" => 0,\"delay factor\" => 1.0),\"nameSub\" => \"Tier 2 Gen Ed/Upper-Division 1\",\"id\" => 22,\"credits\" => 3,\"nameCanonical\" => \"\"), Dict(\"curriculum_requisites\" => Dict{String,Any}[],\"name\" => \" \",\"metrics\" => Dict{String,Any}(\"centrality\" => 0,\"complexity\" => 1.0,\"blocking factor\" => 0,\"delay factor\" => 1.0),\"nameSub\" => \"Upper-Division Elective\",\"id\" => 23,\"credits\" => 3,\"nameCanonical\" => \"\")],\"id\" => 5), Dict(\"name\" => \"Term 6\",\"curriculum_items\" => Dict{String,Any}[Dict(\"curriculum_requisites\" => Dict{String,Any}[],\"name\" => \"CSC \",\"metrics\" => Dict{String,Any}(\"centrality\" => 0,\"complexity\" => 1.0,\"blocking factor\" => 0,\"delay factor\" => 1.0),\"nameSub\" => \"CSC Paradigms Elective\",\"id\" => 24,\"credits\" => 3,\"nameCanonical\" => \"\"), Dict(\"curriculum_requisites\" => Dict{String,Any}[],\"name\" => \"CSC \",\"metrics\" => Dict{String,Any}(\"centrality\" => 0,\"complexity\" => 1.0,\"blocking factor\" => 0,\"delay factor\" => 1.0),\"nameSub\" => \"CSC 400-Level Elective 1\",\"id\" => 25,\"credits\" => 3,\"nameCanonical\" => \"\"), Dict(\"curriculum_requisites\" => Dict{String,Any}[],\"name\" => \" \",\"metrics\" => Dict{String,Any}(\"centrality\" => 0,\"complexity\" => 1.0,\"blocking factor\" => 0,\"delay factor\" => 1.0),\"nameSub\" => \"Tier 2 Gen Ed/Upper-Division 2\",\"id\" => 26,\"credits\" => 3,\"nameCanonical\" => \"\"), Dict(\"curriculum_requisites\" => Dict{String,Any}[],\"name\" => \" \",\"metrics\" => Dict{String,Any}(\"centrality\" => 0,\"complexity\" => 1.0,\"blocking factor\" => 0,\"delay factor\" => 1.0),\"nameSub\" => \"Tier 2 Gen Ed/Upper-Division 3\",\"id\" => 27,\"credits\" => 3,\"nameCanonical\" => \"\"), Dict(\"curriculum_requisites\" => Dict{String,Any}[],\"name\" => \" \",\"metrics\" => Dict{String,Any}(\"centrality\" => 0,\"complexity\" => 1.0,\"blocking factor\" => 0,\"delay factor\" => 1.0),\"nameSub\" => \"Elective 1\",\"id\" => 28,\"credits\" => 3,\"nameCanonical\" => \"\")],\"id\" => 6), Dict(\"name\" => \"Term 7\",\"curriculum_items\" => Dict{String,Any}[Dict(\"curriculum_requisites\" => Dict{String,Any}[],\"name\" => \"CSC \",\"metrics\" => Dict{String,Any}(\"centrality\" => 0,\"complexity\" => 1.0,\"blocking factor\" => 0,\"delay factor\" => 1.0),\"nameSub\" => \"CSC Theory & Writing Elective\",\"id\" => 29,\"credits\" => 3,\"nameCanonical\" => \"\"), Dict(\"curriculum_requisites\" => Dict{String,Any}[],\"name\" => \"CSC \",\"metrics\" => Dict{String,Any}(\"centrality\" => 0,\"complexity\" => 1.0,\"blocking factor\" => 0,\"delay factor\" => 1.0),\"nameSub\" => \"CSC 400-Level Elective 2\",\"id\" => 30,\"credits\" => 3,\"nameCanonical\" => \"\"), Dict(\"curriculum_requisites\" => Dict{String,Any}[],\"name\" => \" \",\"metrics\" => Dict{String,Any}(\"centrality\" => 0,\"complexity\" => 1.0,\"blocking factor\" => 0,\"delay factor\" => 1.0),\"nameSub\" => \"Elective 2\",\"id\" => 31,\"credits\" => 3,\"nameCanonical\" => \"\"), Dict(\"curriculum_requisites\" => Dict{String,Any}[],\"name\" => \" \",\"metrics\" => Dict{String,Any}(\"centrality\" => 0,\"complexity\" => 1.0,\"blocking factor\" => 0,\"delay factor\" => 1.0),\"nameSub\" => \"Elective 3\",\"id\" => 32,\"credits\" => 3,\"nameCanonical\" => \"\"), Dict(\"curriculum_requisites\" => Dict{String,Any}[],\"name\" => \" \",\"metrics\" => Dict{String,Any}(\"centrality\" => 0,\"complexity\" => 1.0,\"blocking factor\" => 0,\"delay factor\" => 1.0),\"nameSub\" => \"Elective 4\",\"id\" => 33,\"credits\" => 3,\"nameCanonical\" => \"\")],\"id\" => 7), Dict(\"name\" => \"Term 8\",\"curriculum_items\" => Dict{String,Any}[Dict(\"curriculum_requisites\" => Dict{String,Any}[],\"name\" => \"CSC \",\"metrics\" => Dict{String,Any}(\"centrality\" => 0,\"complexity\" => 1.0,\"blocking factor\" => 0,\"delay factor\" => 1.0),\"nameSub\" => \"CSC Systems Elective\",\"id\" => 34,\"credits\" => 3,\"nameCanonical\" => \"\"), Dict(\"curriculum_requisites\" => Dict{String,Any}[],\"name\" => \"CSC \",\"metrics\" => Dict{String,Any}(\"centrality\" => 0,\"complexity\" => 1.0,\"blocking factor\" => 0,\"delay factor\" => 1.0),\"nameSub\" => \"CSC 300/400-Level Elective\",\"id\" => 35,\"credits\" => 3,\"nameCanonical\" => \"\"), Dict(\"curriculum_requisites\" => Dict{String,Any}[],\"name\" => \" \",\"metrics\" => Dict{String,Any}(\"centrality\" => 0,\"complexity\" => 1.0,\"blocking factor\" => 0,\"delay factor\" => 1.0),\"nameSub\" => \"Upper-Division Elective 1\",\"id\" => 36,\"credits\" => 3,\"nameCanonical\" => \"\"), Dict(\"curriculum_requisites\" => Dict{String,Any}[],\"name\" => \" \",\"metrics\" => Dict{String,Any}(\"centrality\" => 0,\"complexity\" => 1.0,\"blocking factor\" => 0,\"delay factor\" => 1.0),\"nameSub\" => \"Upper-Division Elective 2\",\"id\" => 37,\"credits\" => 3,\"nameCanonical\" => \"\")],\"id\" => 8)],\"institution\" => \"University of Arizona\")), nothing)), Set{String}(), nothing, WebIO.Asset[], Dict{Any,Any}(), WebIO.ConnectionPool(Channel{Any}(sz_max:32,sz_curr:0), Set{WebIO.AbstractConnection}(), Base.GenericCondition{Base.AlwaysLockedST}(Base.InvasiveLinkedList{Task}(Task (runnable) @0x000000011bc20910, Task (runnable) @0x000000011bc20910), Base.AlwaysLockedST(1))), WebIO.JSString[])"
      ]
     },
     "execution_count": 4,
     "metadata": {
      "application/vnd.webio.node+json": {
       "kernelId": "6d7eb97f-3f11-4cd9-beb6-eb399b664b2d"
      }
     },
     "output_type": "execute_result"
    }
   ],
   "source": [
    "CS_degree_plan = read_csv(\"Univ_of_Arizona-CS.csv\")\n",
    "visualize(CS_degree_plan, notebook=true, scale=0.8)"
   ]
  },
  {
   "cell_type": "code",
   "execution_count": 19,
   "metadata": {},
   "outputs": [
    {
     "data": {
      "application/vnd.webio.node+json": {
       "children": [
        {
         "children": [
          ""
         ],
         "instanceArgs": {
          "namespace": "html",
          "tag": "iframe"
         },
         "nodeType": "DOM",
         "props": {
          "events": {
           "load": "(function (){this.contentWindow.postMessage({\"options\":{\"hideTerms\":false,\"edit\":false},\"curriculum\":{\"name\":\"Electrical Engineering\",\"dp_name\":\"2017-18 Plan\",\"curriculum_terms\":[{\"name\":\"Term 1\",\"curriculum_items\":[{\"curriculum_requisites\":[],\"name\":\" \",\"metrics\":{\"centrality\":0,\"complexity\":9.0,\"blocking factor\":4,\"delay factor\":5.0},\"nameSub\":\"CHEM 1310\",\"id\":1,\"credits\":4,\"nameCanonical\":\"\"},{\"curriculum_requisites\":[],\"name\":\" \",\"metrics\":{\"centrality\":0,\"complexity\":23.0,\"blocking factor\":15,\"delay factor\":8.0},\"nameSub\":\"MATH 1551\",\"id\":2,\"credits\":2,\"nameCanonical\":\"\"},{\"curriculum_requisites\":[],\"name\":\" \",\"metrics\":{\"centrality\":0,\"complexity\":16.0,\"blocking factor\":10,\"delay factor\":6.0},\"nameSub\":\"MATH 1553\",\"id\":3,\"credits\":2,\"nameCanonical\":\"\"},{\"curriculum_requisites\":[],\"name\":\" \",\"metrics\":{\"centrality\":0,\"complexity\":17.0,\"blocking factor\":10,\"delay factor\":7.0},\"nameSub\":\"CS 1371\",\"id\":4,\"credits\":3,\"nameCanonical\":\"\"},{\"curriculum_requisites\":[],\"name\":\" \",\"metrics\":{\"centrality\":0,\"complexity\":1.0,\"blocking factor\":0,\"delay factor\":1.0},\"nameSub\":\"Wellness Elective\",\"id\":5,\"credits\":3,\"nameCanonical\":\"\"},{\"curriculum_requisites\":[],\"name\":\" \",\"metrics\":{\"centrality\":0,\"complexity\":3.0,\"blocking factor\":1,\"delay factor\":2.0},\"nameSub\":\"ENGL 1101\",\"id\":6,\"credits\":3,\"nameCanonical\":\"\"}],\"id\":1},{\"name\":\"Term 2\",\"curriculum_items\":[{\"curriculum_requisites\":[{\"source_id\":2,\"target_id\":7,\"type\":\"CurriculumPrerequisite\"}],\"name\":\" \",\"metrics\":{\"centrality\":29,\"complexity\":17.0,\"blocking factor\":9,\"delay factor\":8.0},\"nameSub\":\"PHYS 2211\",\"id\":7,\"credits\":4,\"nameCanonical\":\"\"},{\"curriculum_requisites\":[{\"source_id\":2,\"target_id\":8,\"type\":\"CurriculumPrerequisite\"}],\"name\":\" \",\"metrics\":{\"centrality\":34,\"complexity\":17.0,\"blocking factor\":10,\"delay factor\":7.0},\"nameSub\":\"MATH 1552\",\"id\":8,\"credits\":4,\"nameCanonical\":\"\"},{\"curriculum_requisites\":[{\"source_id\":4,\"target_id\":9,\"type\":\"CurriculumPrerequisite\"}],\"name\":\" \",\"metrics\":{\"centrality\":11,\"complexity\":13.0,\"blocking factor\":6,\"delay factor\":7.0},\"nameSub\":\"ECE 2020\",\"id\":9,\"credits\":3,\"nameCanonical\":\"\"},{\"curriculum_requisites\":[],\"name\":\" \",\"metrics\":{\"centrality\":0,\"complexity\":1.0,\"blocking factor\":0,\"delay factor\":1.0},\"nameSub\":\"History/Government Elective\",\"id\":10,\"credits\":3,\"nameCanonical\":\"\"},{\"curriculum_requisites\":[{\"source_id\":6,\"target_id\":11,\"type\":\"CurriculumPrerequisite\"}],\"name\":\" \",\"metrics\":{\"centrality\":0,\"complexity\":2.0,\"blocking factor\":0,\"delay factor\":2.0},\"nameSub\":\"ENGL 1102\",\"id\":11,\"credits\":3,\"nameCanonical\":\"\"}],\"id\":2},{\"name\":\"Term 3\",\"curriculum_items\":[{\"curriculum_requisites\":[{\"source_id\":7,\"target_id\":12,\"type\":\"CurriculumPrerequisite\"}],\"name\":\" \",\"metrics\":{\"centrality\":29,\"complexity\":16.0,\"blocking factor\":8,\"delay factor\":8.0},\"nameSub\":\"PHYS 2212\",\"id\":12,\"credits\":4,\"nameCanonical\":\"\"},{\"curriculum_requisites\":[{\"source_id\":3,\"target_id\":13,\"type\":\"CurriculumPrerequisite\"},{\"source_id\":8,\"target_id\":13,\"type\":\"CurriculumPrerequisite\"}],\"name\":\" \",\"metrics\":{\"centrality\":0,\"complexity\":3.0,\"blocking factor\":0,\"delay factor\":3.0},\"nameSub\":\"MATH 2552\",\"id\":13,\"credits\":4,\"nameCanonical\":\"\"},{\"curriculum_requisites\":[{\"source_id\":4,\"target_id\":14,\"type\":\"CurriculumPrerequisite\"},{\"source_id\":3,\"target_id\":14,\"type\":\"CurriculumPrerequisite\"},{\"source_id\":8,\"target_id\":14,\"type\":\"CurriculumPrerequisite\"}],\"name\":\" \",\"metrics\":{\"centrality\":32,\"complexity\":10.0,\"blocking factor\":4,\"delay factor\":6.0},\"nameSub\":\"ECE 2026\",\"id\":14,\"credits\":3,\"nameCanonical\":\"\"},{\"curriculum_requisites\":[],\"name\":\" \",\"metrics\":{\"centrality\":0,\"complexity\":5.0,\"blocking factor\":2,\"delay factor\":3.0},\"nameSub\":\"Economics Elective\",\"id\":15,\"credits\":3,\"nameCanonical\":\"\"},{\"curriculum_requisites\":[],\"name\":\" \",\"metrics\":{\"centrality\":0,\"complexity\":1.0,\"blocking factor\":0,\"delay factor\":1.0},\"nameSub\":\"Social Sciences Elective\",\"id\":16,\"credits\":3,\"nameCanonical\":\"\"}],\"id\":3},{\"name\":\"Term 4\",\"curriculum_items\":[{\"curriculum_requisites\":[],\"name\":\" \",\"metrics\":{\"centrality\":0,\"complexity\":1.0,\"blocking factor\":0,\"delay factor\":1.0},\"nameSub\":\"Science Elective\",\"id\":17,\"credits\":3,\"nameCanonical\":\"\"},{\"curriculum_requisites\":[{\"source_id\":3,\"target_id\":18,\"type\":\"CurriculumPrerequisite\"},{\"source_id\":8,\"target_id\":18,\"type\":\"CurriculumPrerequisite\"}],\"name\":\" \",\"metrics\":{\"centrality\":35,\"complexity\":13.0,\"blocking factor\":6,\"delay factor\":7.0},\"nameSub\":\"MATH 2551\",\"id\":18,\"credits\":4,\"nameCanonical\":\"\"},{\"curriculum_requisites\":[{\"source_id\":12,\"target_id\":19,\"type\":\"CurriculumPrerequisite\"}],\"name\":\" \",\"metrics\":{\"centrality\":29,\"complexity\":15.0,\"blocking factor\":7,\"delay factor\":8.0},\"nameSub\":\"ECE 2040\",\"id\":19,\"credits\":3,\"nameCanonical\":\"\"},{\"curriculum_requisites\":[{\"source_id\":9,\"target_id\":20,\"type\":\"CurriculumPrerequisite\"}],\"name\":\" \",\"metrics\":{\"centrality\":11,\"complexity\":12.0,\"blocking factor\":5,\"delay factor\":7.0},\"nameSub\":\"ECE 2031\",\"id\":20,\"credits\":2,\"nameCanonical\":\"\"},{\"curriculum_requisites\":[{\"source_id\":20,\"target_id\":21,\"type\":\"CurriculumCorequisite\"}],\"name\":\" \",\"metrics\":{\"centrality\":0,\"complexity\":4.0,\"blocking factor\":0,\"delay factor\":4.0},\"nameSub\":\"Programming Elective\",\"id\":21,\"credits\":3,\"nameCanonical\":\"\"}],\"id\":4},{\"name\":\"Term 5\",\"curriculum_items\":[{\"curriculum_requisites\":[],\"name\":\" \",\"metrics\":{\"centrality\":0,\"complexity\":1.0,\"blocking factor\":0,\"delay factor\":1.0},\"nameSub\":\"Humanities Elective\",\"id\":22,\"credits\":3,\"nameCanonical\":\"\"},{\"curriculum_requisites\":[{\"source_id\":20,\"target_id\":23,\"type\":\"CurriculumPrerequisite\"},{\"source_id\":1,\"target_id\":23,\"type\":\"CurriculumPrerequisite\"},{\"source_id\":19,\"target_id\":23,\"type\":\"CurriculumPrerequisite\"},{\"source_id\":18,\"target_id\":23,\"type\":\"CurriculumPrerequisite\"}],\"name\":\" \",\"metrics\":{\"centrality\":33,\"complexity\":11.0,\"blocking factor\":3,\"delay factor\":8.0},\"nameSub\":\"ECE 3040\",\"id\":23,\"credits\":4,\"nameCanonical\":\"\"},{\"curriculum_requisites\":[{\"source_id\":23,\"target_id\":24,\"type\":\"CurriculumCorequisite\"}],\"name\":\" \",\"metrics\":{\"centrality\":33,\"complexity\":10.0,\"blocking factor\":2,\"delay factor\":8.0},\"nameSub\":\"ECE 3043\",\"id\":24,\"credits\":2,\"nameCanonical\":\"\"},{\"curriculum_requisites\":[{\"source_id\":14,\"target_id\":25,\"type\":\"CurriculumPrerequisite\"},{\"source_id\":19,\"target_id\":25,\"type\":\"CurriculumPrerequisite\"},{\"source_id\":18,\"target_id\":25,\"type\":\"CurriculumPrerequisite\"}],\"name\":\" \",\"metrics\":{\"centrality\":34,\"complexity\":9.0,\"blocking factor\":2,\"delay factor\":7.0},\"nameSub\":\"ECE 3025\",\"id\":25,\"credits\":3,\"nameCanonical\":\"\"},{\"curriculum_requisites\":[{\"source_id\":14,\"target_id\":26,\"type\":\"CurriculumPrerequisite\"},{\"source_id\":19,\"target_id\":26,\"type\":\"CurriculumPrerequisite\"}],\"name\":\" \",\"metrics\":{\"centrality\":23,\"complexity\":9.0,\"blocking factor\":2,\"delay factor\":7.0},\"nameSub\":\"ECE 3084\",\"id\":26,\"credits\":3,\"nameCanonical\":\"\"},{\"curriculum_requisites\":[],\"name\":\" \",\"metrics\":{\"centrality\":0,\"complexity\":1.0,\"blocking factor\":0,\"delay factor\":1.0},\"nameSub\":\"Social Sciences Elective\",\"id\":27,\"credits\":3,\"nameCanonical\":\"\"}],\"id\":5},{\"name\":\"Term 6\",\"curriculum_items\":[{\"curriculum_requisites\":[],\"name\":\" \",\"metrics\":{\"centrality\":0,\"complexity\":1.0,\"blocking factor\":0,\"delay factor\":1.0},\"nameSub\":\"ECE/Approved Engineering Elective\",\"id\":28,\"credits\":3,\"nameCanonical\":\"\"},{\"curriculum_requisites\":[{\"source_id\":18,\"target_id\":29,\"type\":\"CurriculumPrerequisite\"}],\"name\":\" \",\"metrics\":{\"centrality\":11,\"complexity\":8.0,\"blocking factor\":2,\"delay factor\":6.0},\"nameSub\":\"Prob/Stat ECE/App/Engr Elective\",\"id\":29,\"credits\":3,\"nameCanonical\":\"\"},{\"curriculum_requisites\":[],\"name\":\" \",\"metrics\":{\"centrality\":0,\"complexity\":1.0,\"blocking factor\":0,\"delay factor\":1.0},\"nameSub\":\"ECE Elective\",\"id\":30,\"credits\":3,\"nameCanonical\":\"\"},{\"curriculum_requisites\":[],\"name\":\" \",\"metrics\":{\"centrality\":0,\"complexity\":1.0,\"blocking factor\":0,\"delay factor\":1.0},\"nameSub\":\"ECE Elective\",\"id\":31,\"credits\":3,\"nameCanonical\":\"\"},{\"curriculum_requisites\":[{\"source_id\":19,\"target_id\":32,\"type\":\"CurriculumPrerequisite\"}],\"name\":\" \",\"metrics\":{\"centrality\":7,\"complexity\":9.0,\"blocking factor\":2,\"delay factor\":7.0},\"nameSub\":\"ECE 3072\",\"id\":32,\"credits\":3,\"nameCanonical\":\"\"},{\"curriculum_requisites\":[],\"name\":\" \",\"metrics\":{\"centrality\":0,\"complexity\":1.0,\"blocking factor\":0,\"delay factor\":1.0},\"nameSub\":\"Approved Elective\",\"id\":33,\"credits\":3,\"nameCanonical\":\"\"}],\"id\":6},{\"name\":\"Term 7\",\"curriculum_items\":[{\"curriculum_requisites\":[],\"name\":\" \",\"metrics\":{\"centrality\":0,\"complexity\":1.0,\"blocking factor\":0,\"delay factor\":1.0},\"nameSub\":\"Engineering Elective\",\"id\":34,\"credits\":3,\"nameCanonical\":\"\"},{\"curriculum_requisites\":[],\"name\":\" \",\"metrics\":{\"centrality\":0,\"complexity\":1.0,\"blocking factor\":0,\"delay factor\":1.0},\"nameSub\":\"ECE Elective\",\"id\":35,\"credits\":3,\"nameCanonical\":\"\"},{\"curriculum_requisites\":[{\"source_id\":26,\"target_id\":36,\"type\":\"CurriculumPrerequisite\"},{\"source_id\":25,\"target_id\":36,\"type\":\"CurriculumPrerequisite\"},{\"source_id\":32,\"target_id\":36,\"type\":\"CurriculumPrerequisite\"},{\"source_id\":29,\"target_id\":36,\"type\":\"CurriculumPrerequisite\"},{\"source_id\":15,\"target_id\":36,\"type\":\"CurriculumPrerequisite\"},{\"source_id\":24,\"target_id\":36,\"type\":\"CurriculumPrerequisite\"}],\"name\":\" \",\"metrics\":{\"centrality\":111,\"complexity\":9.0,\"blocking factor\":1,\"delay factor\":8.0},\"nameSub\":\"ECE 4011\",\"id\":36,\"credits\":2,\"nameCanonical\":\"\"},{\"curriculum_requisites\":[],\"name\":\" \",\"metrics\":{\"centrality\":0,\"complexity\":1.0,\"blocking factor\":0,\"delay factor\":1.0},\"nameSub\":\"ECE 4XXX Elective\",\"id\":37,\"credits\":3,\"nameCanonical\":\"\"},{\"curriculum_requisites\":[],\"name\":\" \",\"metrics\":{\"centrality\":0,\"complexity\":1.0,\"blocking factor\":0,\"delay factor\":1.0},\"nameSub\":\"ECE 4XXX Lab Elective\",\"id\":38,\"credits\":3,\"nameCanonical\":\"\"},{\"curriculum_requisites\":[],\"name\":\" \",\"metrics\":{\"centrality\":0,\"complexity\":1.0,\"blocking factor\":0,\"delay factor\":1.0},\"nameSub\":\"Approved Elective\",\"id\":39,\"credits\":3,\"nameCanonical\":\"\"}],\"id\":7},{\"name\":\"Term 8\",\"curriculum_items\":[{\"curriculum_requisites\":[],\"name\":\" \",\"metrics\":{\"centrality\":0,\"complexity\":1.0,\"blocking factor\":0,\"delay factor\":1.0},\"nameSub\":\"Humanities Elective\",\"id\":40,\"credits\":3,\"nameCanonical\":\"\"},{\"curriculum_requisites\":[{\"source_id\":36,\"target_id\":41,\"type\":\"CurriculumPrerequisite\"}],\"name\":\" \",\"metrics\":{\"centrality\":0,\"complexity\":8.0,\"blocking factor\":0,\"delay factor\":8.0},\"nameSub\":\"ECE 4012\",\"id\":41,\"credits\":3,\"nameCanonical\":\"\"},{\"curriculum_requisites\":[],\"name\":\" \",\"metrics\":{\"centrality\":0,\"complexity\":1.0,\"blocking factor\":0,\"delay factor\":1.0},\"nameSub\":\"ECE 4XXX Elective\",\"id\":42,\"credits\":3,\"nameCanonical\":\"\"},{\"curriculum_requisites\":[],\"name\":\" \",\"metrics\":{\"centrality\":0,\"complexity\":1.0,\"blocking factor\":0,\"delay factor\":1.0},\"nameSub\":\"Approved Elective\",\"id\":43,\"credits\":3,\"nameCanonical\":\"\"},{\"curriculum_requisites\":[],\"name\":\" \",\"metrics\":{\"centrality\":0,\"complexity\":1.0,\"blocking factor\":0,\"delay factor\":1.0},\"nameSub\":\"Approved Elective\",\"id\":44,\"credits\":3,\"nameCanonical\":\"\"}],\"id\":8}],\"institution\":\"Georgia Institute of Technology\"}},\"*\"); window.removeEventListener(\"message\",window.messageReceived); window.messageReceived=(function (event){return (event.data.curriculum!==undefined) ? (WebIO.setval({\"name\":\"curriculum-data\",\"scope\":\"7968367963488298374\",\"id\":\"17316937244880075258\",\"type\":\"observable\"},event.data.curriculum)) : undefined}); return window.addEventListener(\"message\",window.messageReceived)})"
          },
          "id": "curriculum",
          "src": "http://localhost:8156",
          "style": {
           "border": "none",
           "height": "80vh",
           "margin": "0",
           "padding": "0",
           "width": "100%"
          }
         },
         "type": "node"
        }
       ],
       "instanceArgs": {
        "handlers": {},
        "id": "7968367963488298374",
        "imports": {
         "data": [],
         "type": "async_block"
        },
        "mount_callbacks": [],
        "observables": {
         "curriculum-data": {
          "id": "17316937244880075258",
          "sync": true,
          "value": {
           "curriculum": {
            "curriculum_terms": [
             {
              "curriculum_items": [
               {
                "credits": 4,
                "curriculum_requisites": [],
                "id": 1,
                "metrics": {
                 "blocking factor": 4,
                 "centrality": 0,
                 "complexity": 9,
                 "delay factor": 5
                },
                "name": " ",
                "nameCanonical": "",
                "nameSub": "CHEM 1310"
               },
               {
                "credits": 2,
                "curriculum_requisites": [],
                "id": 2,
                "metrics": {
                 "blocking factor": 15,
                 "centrality": 0,
                 "complexity": 23,
                 "delay factor": 8
                },
                "name": " ",
                "nameCanonical": "",
                "nameSub": "MATH 1551"
               },
               {
                "credits": 2,
                "curriculum_requisites": [],
                "id": 3,
                "metrics": {
                 "blocking factor": 10,
                 "centrality": 0,
                 "complexity": 16,
                 "delay factor": 6
                },
                "name": " ",
                "nameCanonical": "",
                "nameSub": "MATH 1553"
               },
               {
                "credits": 3,
                "curriculum_requisites": [],
                "id": 4,
                "metrics": {
                 "blocking factor": 10,
                 "centrality": 0,
                 "complexity": 17,
                 "delay factor": 7
                },
                "name": " ",
                "nameCanonical": "",
                "nameSub": "CS 1371"
               },
               {
                "credits": 3,
                "curriculum_requisites": [],
                "id": 5,
                "metrics": {
                 "blocking factor": 0,
                 "centrality": 0,
                 "complexity": 1,
                 "delay factor": 1
                },
                "name": " ",
                "nameCanonical": "",
                "nameSub": "Wellness Elective"
               },
               {
                "credits": 3,
                "curriculum_requisites": [],
                "id": 6,
                "metrics": {
                 "blocking factor": 1,
                 "centrality": 0,
                 "complexity": 3,
                 "delay factor": 2
                },
                "name": " ",
                "nameCanonical": "",
                "nameSub": "ENGL 1101"
               }
              ],
              "id": 1,
              "name": "Term 1"
             },
             {
              "curriculum_items": [
               {
                "credits": 4,
                "curriculum_requisites": [
                 {
                  "source_id": 2,
                  "target_id": 7,
                  "type": "CurriculumPrerequisite"
                 }
                ],
                "id": 7,
                "metrics": {
                 "blocking factor": 9,
                 "centrality": 29,
                 "complexity": 17,
                 "delay factor": 8
                },
                "name": " ",
                "nameCanonical": "",
                "nameSub": "PHYS 2211"
               },
               {
                "credits": 4,
                "curriculum_requisites": [
                 {
                  "source_id": 2,
                  "target_id": 8,
                  "type": "CurriculumPrerequisite"
                 }
                ],
                "id": 8,
                "metrics": {
                 "blocking factor": 10,
                 "centrality": 34,
                 "complexity": 17,
                 "delay factor": 7
                },
                "name": " ",
                "nameCanonical": "",
                "nameSub": "MATH 1552"
               },
               {
                "credits": 3,
                "curriculum_requisites": [
                 {
                  "source_id": 4,
                  "target_id": 9,
                  "type": "CurriculumPrerequisite"
                 }
                ],
                "id": 9,
                "metrics": {
                 "blocking factor": 6,
                 "centrality": 11,
                 "complexity": 13,
                 "delay factor": 7
                },
                "name": " ",
                "nameCanonical": "",
                "nameSub": "ECE 2020"
               },
               {
                "credits": 3,
                "curriculum_requisites": [],
                "id": 10,
                "metrics": {
                 "blocking factor": 0,
                 "centrality": 0,
                 "complexity": 1,
                 "delay factor": 1
                },
                "name": " ",
                "nameCanonical": "",
                "nameSub": "History/Government Elective"
               },
               {
                "credits": 3,
                "curriculum_requisites": [
                 {
                  "source_id": 6,
                  "target_id": 11,
                  "type": "CurriculumPrerequisite"
                 }
                ],
                "id": 11,
                "metrics": {
                 "blocking factor": 0,
                 "centrality": 0,
                 "complexity": 2,
                 "delay factor": 2
                },
                "name": " ",
                "nameCanonical": "",
                "nameSub": "ENGL 1102"
               }
              ],
              "id": 2,
              "name": "Term 2"
             },
             {
              "curriculum_items": [
               {
                "credits": 4,
                "curriculum_requisites": [
                 {
                  "source_id": 7,
                  "target_id": 12,
                  "type": "CurriculumPrerequisite"
                 }
                ],
                "id": 12,
                "metrics": {
                 "blocking factor": 8,
                 "centrality": 29,
                 "complexity": 16,
                 "delay factor": 8
                },
                "name": " ",
                "nameCanonical": "",
                "nameSub": "PHYS 2212"
               },
               {
                "credits": 4,
                "curriculum_requisites": [
                 {
                  "source_id": 3,
                  "target_id": 13,
                  "type": "CurriculumPrerequisite"
                 },
                 {
                  "source_id": 8,
                  "target_id": 13,
                  "type": "CurriculumPrerequisite"
                 }
                ],
                "id": 13,
                "metrics": {
                 "blocking factor": 0,
                 "centrality": 0,
                 "complexity": 3,
                 "delay factor": 3
                },
                "name": " ",
                "nameCanonical": "",
                "nameSub": "MATH 2552"
               },
               {
                "credits": 3,
                "curriculum_requisites": [
                 {
                  "source_id": 4,
                  "target_id": 14,
                  "type": "CurriculumPrerequisite"
                 },
                 {
                  "source_id": 3,
                  "target_id": 14,
                  "type": "CurriculumPrerequisite"
                 },
                 {
                  "source_id": 8,
                  "target_id": 14,
                  "type": "CurriculumPrerequisite"
                 }
                ],
                "id": 14,
                "metrics": {
                 "blocking factor": 4,
                 "centrality": 32,
                 "complexity": 10,
                 "delay factor": 6
                },
                "name": " ",
                "nameCanonical": "",
                "nameSub": "ECE 2026"
               },
               {
                "credits": 3,
                "curriculum_requisites": [],
                "id": 15,
                "metrics": {
                 "blocking factor": 2,
                 "centrality": 0,
                 "complexity": 5,
                 "delay factor": 3
                },
                "name": " ",
                "nameCanonical": "",
                "nameSub": "Economics Elective"
               },
               {
                "credits": 3,
                "curriculum_requisites": [],
                "id": 16,
                "metrics": {
                 "blocking factor": 0,
                 "centrality": 0,
                 "complexity": 1,
                 "delay factor": 1
                },
                "name": " ",
                "nameCanonical": "",
                "nameSub": "Social Sciences Elective"
               }
              ],
              "id": 3,
              "name": "Term 3"
             },
             {
              "curriculum_items": [
               {
                "credits": 3,
                "curriculum_requisites": [],
                "id": 17,
                "metrics": {
                 "blocking factor": 0,
                 "centrality": 0,
                 "complexity": 1,
                 "delay factor": 1
                },
                "name": " ",
                "nameCanonical": "",
                "nameSub": "Science Elective"
               },
               {
                "credits": 4,
                "curriculum_requisites": [
                 {
                  "source_id": 3,
                  "target_id": 18,
                  "type": "CurriculumPrerequisite"
                 },
                 {
                  "source_id": 8,
                  "target_id": 18,
                  "type": "CurriculumPrerequisite"
                 }
                ],
                "id": 18,
                "metrics": {
                 "blocking factor": 6,
                 "centrality": 35,
                 "complexity": 13,
                 "delay factor": 7
                },
                "name": " ",
                "nameCanonical": "",
                "nameSub": "MATH 2551"
               },
               {
                "credits": 3,
                "curriculum_requisites": [
                 {
                  "source_id": 12,
                  "target_id": 19,
                  "type": "CurriculumPrerequisite"
                 }
                ],
                "id": 19,
                "metrics": {
                 "blocking factor": 7,
                 "centrality": 29,
                 "complexity": 15,
                 "delay factor": 8
                },
                "name": " ",
                "nameCanonical": "",
                "nameSub": "ECE 2040"
               },
               {
                "credits": 2,
                "curriculum_requisites": [
                 {
                  "source_id": 9,
                  "target_id": 20,
                  "type": "CurriculumPrerequisite"
                 }
                ],
                "id": 20,
                "metrics": {
                 "blocking factor": 5,
                 "centrality": 11,
                 "complexity": 12,
                 "delay factor": 7
                },
                "name": " ",
                "nameCanonical": "",
                "nameSub": "ECE 2031"
               },
               {
                "credits": 3,
                "curriculum_requisites": [
                 {
                  "source_id": 20,
                  "target_id": 21,
                  "type": "CurriculumCorequisite"
                 }
                ],
                "id": 21,
                "metrics": {
                 "blocking factor": 0,
                 "centrality": 0,
                 "complexity": 4,
                 "delay factor": 4
                },
                "name": " ",
                "nameCanonical": "",
                "nameSub": "Programming Elective"
               }
              ],
              "id": 4,
              "name": "Term 4"
             },
             {
              "curriculum_items": [
               {
                "credits": 3,
                "curriculum_requisites": [],
                "id": 22,
                "metrics": {
                 "blocking factor": 0,
                 "centrality": 0,
                 "complexity": 1,
                 "delay factor": 1
                },
                "name": " ",
                "nameCanonical": "",
                "nameSub": "Humanities Elective"
               },
               {
                "credits": 4,
                "curriculum_requisites": [
                 {
                  "source_id": 20,
                  "target_id": 23,
                  "type": "CurriculumPrerequisite"
                 },
                 {
                  "source_id": 1,
                  "target_id": 23,
                  "type": "CurriculumPrerequisite"
                 },
                 {
                  "source_id": 19,
                  "target_id": 23,
                  "type": "CurriculumPrerequisite"
                 },
                 {
                  "source_id": 18,
                  "target_id": 23,
                  "type": "CurriculumPrerequisite"
                 }
                ],
                "id": 23,
                "metrics": {
                 "blocking factor": 3,
                 "centrality": 33,
                 "complexity": 11,
                 "delay factor": 8
                },
                "name": " ",
                "nameCanonical": "",
                "nameSub": "ECE 3040"
               },
               {
                "credits": 2,
                "curriculum_requisites": [
                 {
                  "source_id": 23,
                  "target_id": 24,
                  "type": "CurriculumCorequisite"
                 }
                ],
                "id": 24,
                "metrics": {
                 "blocking factor": 2,
                 "centrality": 33,
                 "complexity": 10,
                 "delay factor": 8
                },
                "name": " ",
                "nameCanonical": "",
                "nameSub": "ECE 3043"
               },
               {
                "credits": 3,
                "curriculum_requisites": [
                 {
                  "source_id": 14,
                  "target_id": 25,
                  "type": "CurriculumPrerequisite"
                 },
                 {
                  "source_id": 19,
                  "target_id": 25,
                  "type": "CurriculumPrerequisite"
                 },
                 {
                  "source_id": 18,
                  "target_id": 25,
                  "type": "CurriculumPrerequisite"
                 }
                ],
                "id": 25,
                "metrics": {
                 "blocking factor": 2,
                 "centrality": 34,
                 "complexity": 9,
                 "delay factor": 7
                },
                "name": " ",
                "nameCanonical": "",
                "nameSub": "ECE 3025"
               },
               {
                "credits": 3,
                "curriculum_requisites": [
                 {
                  "source_id": 14,
                  "target_id": 26,
                  "type": "CurriculumPrerequisite"
                 },
                 {
                  "source_id": 19,
                  "target_id": 26,
                  "type": "CurriculumPrerequisite"
                 }
                ],
                "id": 26,
                "metrics": {
                 "blocking factor": 2,
                 "centrality": 23,
                 "complexity": 9,
                 "delay factor": 7
                },
                "name": " ",
                "nameCanonical": "",
                "nameSub": "ECE 3084"
               },
               {
                "credits": 3,
                "curriculum_requisites": [],
                "id": 27,
                "metrics": {
                 "blocking factor": 0,
                 "centrality": 0,
                 "complexity": 1,
                 "delay factor": 1
                },
                "name": " ",
                "nameCanonical": "",
                "nameSub": "Social Sciences Elective"
               }
              ],
              "id": 5,
              "name": "Term 5"
             },
             {
              "curriculum_items": [
               {
                "credits": 3,
                "curriculum_requisites": [],
                "id": 28,
                "metrics": {
                 "blocking factor": 0,
                 "centrality": 0,
                 "complexity": 1,
                 "delay factor": 1
                },
                "name": " ",
                "nameCanonical": "",
                "nameSub": "ECE/Approved Engineering Elective"
               },
               {
                "credits": 3,
                "curriculum_requisites": [
                 {
                  "source_id": 18,
                  "target_id": 29,
                  "type": "CurriculumPrerequisite"
                 }
                ],
                "id": 29,
                "metrics": {
                 "blocking factor": 2,
                 "centrality": 11,
                 "complexity": 8,
                 "delay factor": 6
                },
                "name": " ",
                "nameCanonical": "",
                "nameSub": "Prob/Stat ECE/App/Engr Elective"
               },
               {
                "credits": 3,
                "curriculum_requisites": [],
                "id": 30,
                "metrics": {
                 "blocking factor": 0,
                 "centrality": 0,
                 "complexity": 1,
                 "delay factor": 1
                },
                "name": " ",
                "nameCanonical": "",
                "nameSub": "ECE Elective"
               },
               {
                "credits": 3,
                "curriculum_requisites": [],
                "id": 31,
                "metrics": {
                 "blocking factor": 0,
                 "centrality": 0,
                 "complexity": 1,
                 "delay factor": 1
                },
                "name": " ",
                "nameCanonical": "",
                "nameSub": "ECE Elective"
               },
               {
                "credits": 3,
                "curriculum_requisites": [
                 {
                  "source_id": 19,
                  "target_id": 32,
                  "type": "CurriculumPrerequisite"
                 }
                ],
                "id": 32,
                "metrics": {
                 "blocking factor": 2,
                 "centrality": 7,
                 "complexity": 9,
                 "delay factor": 7
                },
                "name": " ",
                "nameCanonical": "",
                "nameSub": "ECE 3072"
               },
               {
                "credits": 3,
                "curriculum_requisites": [],
                "id": 33,
                "metrics": {
                 "blocking factor": 0,
                 "centrality": 0,
                 "complexity": 1,
                 "delay factor": 1
                },
                "name": " ",
                "nameCanonical": "",
                "nameSub": "Approved Elective"
               }
              ],
              "id": 6,
              "name": "Term 6"
             },
             {
              "curriculum_items": [
               {
                "credits": 3,
                "curriculum_requisites": [],
                "id": 34,
                "metrics": {
                 "blocking factor": 0,
                 "centrality": 0,
                 "complexity": 1,
                 "delay factor": 1
                },
                "name": " ",
                "nameCanonical": "",
                "nameSub": "Engineering Elective"
               },
               {
                "credits": 3,
                "curriculum_requisites": [],
                "id": 35,
                "metrics": {
                 "blocking factor": 0,
                 "centrality": 0,
                 "complexity": 1,
                 "delay factor": 1
                },
                "name": " ",
                "nameCanonical": "",
                "nameSub": "ECE Elective"
               },
               {
                "credits": 2,
                "curriculum_requisites": [
                 {
                  "source_id": 26,
                  "target_id": 36,
                  "type": "CurriculumPrerequisite"
                 },
                 {
                  "source_id": 25,
                  "target_id": 36,
                  "type": "CurriculumPrerequisite"
                 },
                 {
                  "source_id": 32,
                  "target_id": 36,
                  "type": "CurriculumPrerequisite"
                 },
                 {
                  "source_id": 29,
                  "target_id": 36,
                  "type": "CurriculumPrerequisite"
                 },
                 {
                  "source_id": 15,
                  "target_id": 36,
                  "type": "CurriculumPrerequisite"
                 },
                 {
                  "source_id": 24,
                  "target_id": 36,
                  "type": "CurriculumPrerequisite"
                 }
                ],
                "id": 36,
                "metrics": {
                 "blocking factor": 1,
                 "centrality": 111,
                 "complexity": 9,
                 "delay factor": 8
                },
                "name": " ",
                "nameCanonical": "",
                "nameSub": "ECE 4011"
               },
               {
                "credits": 3,
                "curriculum_requisites": [],
                "id": 37,
                "metrics": {
                 "blocking factor": 0,
                 "centrality": 0,
                 "complexity": 1,
                 "delay factor": 1
                },
                "name": " ",
                "nameCanonical": "",
                "nameSub": "ECE 4XXX Elective"
               },
               {
                "credits": 3,
                "curriculum_requisites": [],
                "id": 38,
                "metrics": {
                 "blocking factor": 0,
                 "centrality": 0,
                 "complexity": 1,
                 "delay factor": 1
                },
                "name": " ",
                "nameCanonical": "",
                "nameSub": "ECE 4XXX Lab Elective"
               },
               {
                "credits": 3,
                "curriculum_requisites": [],
                "id": 39,
                "metrics": {
                 "blocking factor": 0,
                 "centrality": 0,
                 "complexity": 1,
                 "delay factor": 1
                },
                "name": " ",
                "nameCanonical": "",
                "nameSub": "Approved Elective"
               }
              ],
              "id": 7,
              "name": "Term 7"
             },
             {
              "curriculum_items": [
               {
                "credits": 3,
                "curriculum_requisites": [],
                "id": 40,
                "metrics": {
                 "blocking factor": 0,
                 "centrality": 0,
                 "complexity": 1,
                 "delay factor": 1
                },
                "name": " ",
                "nameCanonical": "",
                "nameSub": "Humanities Elective"
               },
               {
                "credits": 3,
                "curriculum_requisites": [
                 {
                  "source_id": 36,
                  "target_id": 41,
                  "type": "CurriculumPrerequisite"
                 }
                ],
                "id": 41,
                "metrics": {
                 "blocking factor": 0,
                 "centrality": 0,
                 "complexity": 8,
                 "delay factor": 8
                },
                "name": " ",
                "nameCanonical": "",
                "nameSub": "ECE 4012"
               },
               {
                "credits": 3,
                "curriculum_requisites": [],
                "id": 42,
                "metrics": {
                 "blocking factor": 0,
                 "centrality": 0,
                 "complexity": 1,
                 "delay factor": 1
                },
                "name": " ",
                "nameCanonical": "",
                "nameSub": "ECE 4XXX Elective"
               },
               {
                "credits": 3,
                "curriculum_requisites": [],
                "id": 43,
                "metrics": {
                 "blocking factor": 0,
                 "centrality": 0,
                 "complexity": 1,
                 "delay factor": 1
                },
                "name": " ",
                "nameCanonical": "",
                "nameSub": "Approved Elective"
               },
               {
                "credits": 3,
                "curriculum_requisites": [],
                "id": 44,
                "metrics": {
                 "blocking factor": 0,
                 "centrality": 0,
                 "complexity": 1,
                 "delay factor": 1
                },
                "name": " ",
                "nameCanonical": "",
                "nameSub": "Approved Elective"
               }
              ],
              "id": 8,
              "name": "Term 8"
             }
            ],
            "dp_name": "2017-18 Plan",
            "institution": "Georgia Institute of Technology",
            "name": "Electrical Engineering"
           },
           "options": {
            "edit": false,
            "hideTerms": false
           }
          }
         }
        },
        "systemjs_options": null
       },
       "nodeType": "Scope",
       "props": {},
       "type": "node"
      },
      "text/html": [
       "<div\n",
       "    class=\"webio-mountpoint\"\n",
       "    data-webio-mountpoint=\"10242394593258621496\"\n",
       ">\n",
       "    <script>\n",
       "    if (window.require && require.defined && require.defined(\"nbextensions/webio-jupyter-notebook\")) {\n",
       "        console.log(\"Jupyter WebIO extension detected, not mounting.\");\n",
       "    } else if (window.WebIO) {\n",
       "        WebIO.mount(\n",
       "            document.querySelector('[data-webio-mountpoint=\"10242394593258621496\"]'),\n",
       "            {\"props\":{},\"nodeType\":\"Scope\",\"type\":\"node\",\"instanceArgs\":{\"imports\":{\"data\":[],\"type\":\"async_block\"},\"id\":\"7968367963488298374\",\"handlers\":{},\"systemjs_options\":null,\"mount_callbacks\":[],\"observables\":{\"curriculum-data\":{\"sync\":true,\"id\":\"17316937244880075258\",\"value\":{\"options\":{\"hideTerms\":false,\"edit\":false},\"curriculum\":{\"name\":\"Electrical Engineering\",\"dp_name\":\"2017-18 Plan\",\"curriculum_terms\":[{\"name\":\"Term 1\",\"curriculum_items\":[{\"curriculum_requisites\":[],\"name\":\" \",\"metrics\":{\"centrality\":0,\"complexity\":9.0,\"blocking factor\":4,\"delay factor\":5.0},\"nameSub\":\"CHEM 1310\",\"id\":1,\"credits\":4,\"nameCanonical\":\"\"},{\"curriculum_requisites\":[],\"name\":\" \",\"metrics\":{\"centrality\":0,\"complexity\":23.0,\"blocking factor\":15,\"delay factor\":8.0},\"nameSub\":\"MATH 1551\",\"id\":2,\"credits\":2,\"nameCanonical\":\"\"},{\"curriculum_requisites\":[],\"name\":\" \",\"metrics\":{\"centrality\":0,\"complexity\":16.0,\"blocking factor\":10,\"delay factor\":6.0},\"nameSub\":\"MATH 1553\",\"id\":3,\"credits\":2,\"nameCanonical\":\"\"},{\"curriculum_requisites\":[],\"name\":\" \",\"metrics\":{\"centrality\":0,\"complexity\":17.0,\"blocking factor\":10,\"delay factor\":7.0},\"nameSub\":\"CS 1371\",\"id\":4,\"credits\":3,\"nameCanonical\":\"\"},{\"curriculum_requisites\":[],\"name\":\" \",\"metrics\":{\"centrality\":0,\"complexity\":1.0,\"blocking factor\":0,\"delay factor\":1.0},\"nameSub\":\"Wellness Elective\",\"id\":5,\"credits\":3,\"nameCanonical\":\"\"},{\"curriculum_requisites\":[],\"name\":\" \",\"metrics\":{\"centrality\":0,\"complexity\":3.0,\"blocking factor\":1,\"delay factor\":2.0},\"nameSub\":\"ENGL 1101\",\"id\":6,\"credits\":3,\"nameCanonical\":\"\"}],\"id\":1},{\"name\":\"Term 2\",\"curriculum_items\":[{\"curriculum_requisites\":[{\"source_id\":2,\"target_id\":7,\"type\":\"CurriculumPrerequisite\"}],\"name\":\" \",\"metrics\":{\"centrality\":29,\"complexity\":17.0,\"blocking factor\":9,\"delay factor\":8.0},\"nameSub\":\"PHYS 2211\",\"id\":7,\"credits\":4,\"nameCanonical\":\"\"},{\"curriculum_requisites\":[{\"source_id\":2,\"target_id\":8,\"type\":\"CurriculumPrerequisite\"}],\"name\":\" \",\"metrics\":{\"centrality\":34,\"complexity\":17.0,\"blocking factor\":10,\"delay factor\":7.0},\"nameSub\":\"MATH 1552\",\"id\":8,\"credits\":4,\"nameCanonical\":\"\"},{\"curriculum_requisites\":[{\"source_id\":4,\"target_id\":9,\"type\":\"CurriculumPrerequisite\"}],\"name\":\" \",\"metrics\":{\"centrality\":11,\"complexity\":13.0,\"blocking factor\":6,\"delay factor\":7.0},\"nameSub\":\"ECE 2020\",\"id\":9,\"credits\":3,\"nameCanonical\":\"\"},{\"curriculum_requisites\":[],\"name\":\" \",\"metrics\":{\"centrality\":0,\"complexity\":1.0,\"blocking factor\":0,\"delay factor\":1.0},\"nameSub\":\"History\\/Government Elective\",\"id\":10,\"credits\":3,\"nameCanonical\":\"\"},{\"curriculum_requisites\":[{\"source_id\":6,\"target_id\":11,\"type\":\"CurriculumPrerequisite\"}],\"name\":\" \",\"metrics\":{\"centrality\":0,\"complexity\":2.0,\"blocking factor\":0,\"delay factor\":2.0},\"nameSub\":\"ENGL 1102\",\"id\":11,\"credits\":3,\"nameCanonical\":\"\"}],\"id\":2},{\"name\":\"Term 3\",\"curriculum_items\":[{\"curriculum_requisites\":[{\"source_id\":7,\"target_id\":12,\"type\":\"CurriculumPrerequisite\"}],\"name\":\" \",\"metrics\":{\"centrality\":29,\"complexity\":16.0,\"blocking factor\":8,\"delay factor\":8.0},\"nameSub\":\"PHYS 2212\",\"id\":12,\"credits\":4,\"nameCanonical\":\"\"},{\"curriculum_requisites\":[{\"source_id\":3,\"target_id\":13,\"type\":\"CurriculumPrerequisite\"},{\"source_id\":8,\"target_id\":13,\"type\":\"CurriculumPrerequisite\"}],\"name\":\" \",\"metrics\":{\"centrality\":0,\"complexity\":3.0,\"blocking factor\":0,\"delay factor\":3.0},\"nameSub\":\"MATH 2552\",\"id\":13,\"credits\":4,\"nameCanonical\":\"\"},{\"curriculum_requisites\":[{\"source_id\":4,\"target_id\":14,\"type\":\"CurriculumPrerequisite\"},{\"source_id\":3,\"target_id\":14,\"type\":\"CurriculumPrerequisite\"},{\"source_id\":8,\"target_id\":14,\"type\":\"CurriculumPrerequisite\"}],\"name\":\" \",\"metrics\":{\"centrality\":32,\"complexity\":10.0,\"blocking factor\":4,\"delay factor\":6.0},\"nameSub\":\"ECE 2026\",\"id\":14,\"credits\":3,\"nameCanonical\":\"\"},{\"curriculum_requisites\":[],\"name\":\" \",\"metrics\":{\"centrality\":0,\"complexity\":5.0,\"blocking factor\":2,\"delay factor\":3.0},\"nameSub\":\"Economics Elective\",\"id\":15,\"credits\":3,\"nameCanonical\":\"\"},{\"curriculum_requisites\":[],\"name\":\" \",\"metrics\":{\"centrality\":0,\"complexity\":1.0,\"blocking factor\":0,\"delay factor\":1.0},\"nameSub\":\"Social Sciences Elective\",\"id\":16,\"credits\":3,\"nameCanonical\":\"\"}],\"id\":3},{\"name\":\"Term 4\",\"curriculum_items\":[{\"curriculum_requisites\":[],\"name\":\" \",\"metrics\":{\"centrality\":0,\"complexity\":1.0,\"blocking factor\":0,\"delay factor\":1.0},\"nameSub\":\"Science Elective\",\"id\":17,\"credits\":3,\"nameCanonical\":\"\"},{\"curriculum_requisites\":[{\"source_id\":3,\"target_id\":18,\"type\":\"CurriculumPrerequisite\"},{\"source_id\":8,\"target_id\":18,\"type\":\"CurriculumPrerequisite\"}],\"name\":\" \",\"metrics\":{\"centrality\":35,\"complexity\":13.0,\"blocking factor\":6,\"delay factor\":7.0},\"nameSub\":\"MATH 2551\",\"id\":18,\"credits\":4,\"nameCanonical\":\"\"},{\"curriculum_requisites\":[{\"source_id\":12,\"target_id\":19,\"type\":\"CurriculumPrerequisite\"}],\"name\":\" \",\"metrics\":{\"centrality\":29,\"complexity\":15.0,\"blocking factor\":7,\"delay factor\":8.0},\"nameSub\":\"ECE 2040\",\"id\":19,\"credits\":3,\"nameCanonical\":\"\"},{\"curriculum_requisites\":[{\"source_id\":9,\"target_id\":20,\"type\":\"CurriculumPrerequisite\"}],\"name\":\" \",\"metrics\":{\"centrality\":11,\"complexity\":12.0,\"blocking factor\":5,\"delay factor\":7.0},\"nameSub\":\"ECE 2031\",\"id\":20,\"credits\":2,\"nameCanonical\":\"\"},{\"curriculum_requisites\":[{\"source_id\":20,\"target_id\":21,\"type\":\"CurriculumCorequisite\"}],\"name\":\" \",\"metrics\":{\"centrality\":0,\"complexity\":4.0,\"blocking factor\":0,\"delay factor\":4.0},\"nameSub\":\"Programming Elective\",\"id\":21,\"credits\":3,\"nameCanonical\":\"\"}],\"id\":4},{\"name\":\"Term 5\",\"curriculum_items\":[{\"curriculum_requisites\":[],\"name\":\" \",\"metrics\":{\"centrality\":0,\"complexity\":1.0,\"blocking factor\":0,\"delay factor\":1.0},\"nameSub\":\"Humanities Elective\",\"id\":22,\"credits\":3,\"nameCanonical\":\"\"},{\"curriculum_requisites\":[{\"source_id\":20,\"target_id\":23,\"type\":\"CurriculumPrerequisite\"},{\"source_id\":1,\"target_id\":23,\"type\":\"CurriculumPrerequisite\"},{\"source_id\":19,\"target_id\":23,\"type\":\"CurriculumPrerequisite\"},{\"source_id\":18,\"target_id\":23,\"type\":\"CurriculumPrerequisite\"}],\"name\":\" \",\"metrics\":{\"centrality\":33,\"complexity\":11.0,\"blocking factor\":3,\"delay factor\":8.0},\"nameSub\":\"ECE 3040\",\"id\":23,\"credits\":4,\"nameCanonical\":\"\"},{\"curriculum_requisites\":[{\"source_id\":23,\"target_id\":24,\"type\":\"CurriculumCorequisite\"}],\"name\":\" \",\"metrics\":{\"centrality\":33,\"complexity\":10.0,\"blocking factor\":2,\"delay factor\":8.0},\"nameSub\":\"ECE 3043\",\"id\":24,\"credits\":2,\"nameCanonical\":\"\"},{\"curriculum_requisites\":[{\"source_id\":14,\"target_id\":25,\"type\":\"CurriculumPrerequisite\"},{\"source_id\":19,\"target_id\":25,\"type\":\"CurriculumPrerequisite\"},{\"source_id\":18,\"target_id\":25,\"type\":\"CurriculumPrerequisite\"}],\"name\":\" \",\"metrics\":{\"centrality\":34,\"complexity\":9.0,\"blocking factor\":2,\"delay factor\":7.0},\"nameSub\":\"ECE 3025\",\"id\":25,\"credits\":3,\"nameCanonical\":\"\"},{\"curriculum_requisites\":[{\"source_id\":14,\"target_id\":26,\"type\":\"CurriculumPrerequisite\"},{\"source_id\":19,\"target_id\":26,\"type\":\"CurriculumPrerequisite\"}],\"name\":\" \",\"metrics\":{\"centrality\":23,\"complexity\":9.0,\"blocking factor\":2,\"delay factor\":7.0},\"nameSub\":\"ECE 3084\",\"id\":26,\"credits\":3,\"nameCanonical\":\"\"},{\"curriculum_requisites\":[],\"name\":\" \",\"metrics\":{\"centrality\":0,\"complexity\":1.0,\"blocking factor\":0,\"delay factor\":1.0},\"nameSub\":\"Social Sciences Elective\",\"id\":27,\"credits\":3,\"nameCanonical\":\"\"}],\"id\":5},{\"name\":\"Term 6\",\"curriculum_items\":[{\"curriculum_requisites\":[],\"name\":\" \",\"metrics\":{\"centrality\":0,\"complexity\":1.0,\"blocking factor\":0,\"delay factor\":1.0},\"nameSub\":\"ECE\\/Approved Engineering Elective\",\"id\":28,\"credits\":3,\"nameCanonical\":\"\"},{\"curriculum_requisites\":[{\"source_id\":18,\"target_id\":29,\"type\":\"CurriculumPrerequisite\"}],\"name\":\" \",\"metrics\":{\"centrality\":11,\"complexity\":8.0,\"blocking factor\":2,\"delay factor\":6.0},\"nameSub\":\"Prob\\/Stat ECE\\/App\\/Engr Elective\",\"id\":29,\"credits\":3,\"nameCanonical\":\"\"},{\"curriculum_requisites\":[],\"name\":\" \",\"metrics\":{\"centrality\":0,\"complexity\":1.0,\"blocking factor\":0,\"delay factor\":1.0},\"nameSub\":\"ECE Elective\",\"id\":30,\"credits\":3,\"nameCanonical\":\"\"},{\"curriculum_requisites\":[],\"name\":\" \",\"metrics\":{\"centrality\":0,\"complexity\":1.0,\"blocking factor\":0,\"delay factor\":1.0},\"nameSub\":\"ECE Elective\",\"id\":31,\"credits\":3,\"nameCanonical\":\"\"},{\"curriculum_requisites\":[{\"source_id\":19,\"target_id\":32,\"type\":\"CurriculumPrerequisite\"}],\"name\":\" \",\"metrics\":{\"centrality\":7,\"complexity\":9.0,\"blocking factor\":2,\"delay factor\":7.0},\"nameSub\":\"ECE 3072\",\"id\":32,\"credits\":3,\"nameCanonical\":\"\"},{\"curriculum_requisites\":[],\"name\":\" \",\"metrics\":{\"centrality\":0,\"complexity\":1.0,\"blocking factor\":0,\"delay factor\":1.0},\"nameSub\":\"Approved Elective\",\"id\":33,\"credits\":3,\"nameCanonical\":\"\"}],\"id\":6},{\"name\":\"Term 7\",\"curriculum_items\":[{\"curriculum_requisites\":[],\"name\":\" \",\"metrics\":{\"centrality\":0,\"complexity\":1.0,\"blocking factor\":0,\"delay factor\":1.0},\"nameSub\":\"Engineering Elective\",\"id\":34,\"credits\":3,\"nameCanonical\":\"\"},{\"curriculum_requisites\":[],\"name\":\" \",\"metrics\":{\"centrality\":0,\"complexity\":1.0,\"blocking factor\":0,\"delay factor\":1.0},\"nameSub\":\"ECE Elective\",\"id\":35,\"credits\":3,\"nameCanonical\":\"\"},{\"curriculum_requisites\":[{\"source_id\":26,\"target_id\":36,\"type\":\"CurriculumPrerequisite\"},{\"source_id\":25,\"target_id\":36,\"type\":\"CurriculumPrerequisite\"},{\"source_id\":32,\"target_id\":36,\"type\":\"CurriculumPrerequisite\"},{\"source_id\":29,\"target_id\":36,\"type\":\"CurriculumPrerequisite\"},{\"source_id\":15,\"target_id\":36,\"type\":\"CurriculumPrerequisite\"},{\"source_id\":24,\"target_id\":36,\"type\":\"CurriculumPrerequisite\"}],\"name\":\" \",\"metrics\":{\"centrality\":111,\"complexity\":9.0,\"blocking factor\":1,\"delay factor\":8.0},\"nameSub\":\"ECE 4011\",\"id\":36,\"credits\":2,\"nameCanonical\":\"\"},{\"curriculum_requisites\":[],\"name\":\" \",\"metrics\":{\"centrality\":0,\"complexity\":1.0,\"blocking factor\":0,\"delay factor\":1.0},\"nameSub\":\"ECE 4XXX Elective\",\"id\":37,\"credits\":3,\"nameCanonical\":\"\"},{\"curriculum_requisites\":[],\"name\":\" \",\"metrics\":{\"centrality\":0,\"complexity\":1.0,\"blocking factor\":0,\"delay factor\":1.0},\"nameSub\":\"ECE 4XXX Lab Elective\",\"id\":38,\"credits\":3,\"nameCanonical\":\"\"},{\"curriculum_requisites\":[],\"name\":\" \",\"metrics\":{\"centrality\":0,\"complexity\":1.0,\"blocking factor\":0,\"delay factor\":1.0},\"nameSub\":\"Approved Elective\",\"id\":39,\"credits\":3,\"nameCanonical\":\"\"}],\"id\":7},{\"name\":\"Term 8\",\"curriculum_items\":[{\"curriculum_requisites\":[],\"name\":\" \",\"metrics\":{\"centrality\":0,\"complexity\":1.0,\"blocking factor\":0,\"delay factor\":1.0},\"nameSub\":\"Humanities Elective\",\"id\":40,\"credits\":3,\"nameCanonical\":\"\"},{\"curriculum_requisites\":[{\"source_id\":36,\"target_id\":41,\"type\":\"CurriculumPrerequisite\"}],\"name\":\" \",\"metrics\":{\"centrality\":0,\"complexity\":8.0,\"blocking factor\":0,\"delay factor\":8.0},\"nameSub\":\"ECE 4012\",\"id\":41,\"credits\":3,\"nameCanonical\":\"\"},{\"curriculum_requisites\":[],\"name\":\" \",\"metrics\":{\"centrality\":0,\"complexity\":1.0,\"blocking factor\":0,\"delay factor\":1.0},\"nameSub\":\"ECE 4XXX Elective\",\"id\":42,\"credits\":3,\"nameCanonical\":\"\"},{\"curriculum_requisites\":[],\"name\":\" \",\"metrics\":{\"centrality\":0,\"complexity\":1.0,\"blocking factor\":0,\"delay factor\":1.0},\"nameSub\":\"Approved Elective\",\"id\":43,\"credits\":3,\"nameCanonical\":\"\"},{\"curriculum_requisites\":[],\"name\":\" \",\"metrics\":{\"centrality\":0,\"complexity\":1.0,\"blocking factor\":0,\"delay factor\":1.0},\"nameSub\":\"Approved Elective\",\"id\":44,\"credits\":3,\"nameCanonical\":\"\"}],\"id\":8}],\"institution\":\"Georgia Institute of Technology\"}}}}},\"children\":[{\"props\":{\"src\":\"http:\\/\\/localhost:8156\",\"id\":\"curriculum\",\"events\":{\"load\":\"(function (){this.contentWindow.postMessage({\\\"options\\\":{\\\"hideTerms\\\":false,\\\"edit\\\":false},\\\"curriculum\\\":{\\\"name\\\":\\\"Electrical Engineering\\\",\\\"dp_name\\\":\\\"2017-18 Plan\\\",\\\"curriculum_terms\\\":[{\\\"name\\\":\\\"Term 1\\\",\\\"curriculum_items\\\":[{\\\"curriculum_requisites\\\":[],\\\"name\\\":\\\" \\\",\\\"metrics\\\":{\\\"centrality\\\":0,\\\"complexity\\\":9.0,\\\"blocking factor\\\":4,\\\"delay factor\\\":5.0},\\\"nameSub\\\":\\\"CHEM 1310\\\",\\\"id\\\":1,\\\"credits\\\":4,\\\"nameCanonical\\\":\\\"\\\"},{\\\"curriculum_requisites\\\":[],\\\"name\\\":\\\" \\\",\\\"metrics\\\":{\\\"centrality\\\":0,\\\"complexity\\\":23.0,\\\"blocking factor\\\":15,\\\"delay factor\\\":8.0},\\\"nameSub\\\":\\\"MATH 1551\\\",\\\"id\\\":2,\\\"credits\\\":2,\\\"nameCanonical\\\":\\\"\\\"},{\\\"curriculum_requisites\\\":[],\\\"name\\\":\\\" \\\",\\\"metrics\\\":{\\\"centrality\\\":0,\\\"complexity\\\":16.0,\\\"blocking factor\\\":10,\\\"delay factor\\\":6.0},\\\"nameSub\\\":\\\"MATH 1553\\\",\\\"id\\\":3,\\\"credits\\\":2,\\\"nameCanonical\\\":\\\"\\\"},{\\\"curriculum_requisites\\\":[],\\\"name\\\":\\\" \\\",\\\"metrics\\\":{\\\"centrality\\\":0,\\\"complexity\\\":17.0,\\\"blocking factor\\\":10,\\\"delay factor\\\":7.0},\\\"nameSub\\\":\\\"CS 1371\\\",\\\"id\\\":4,\\\"credits\\\":3,\\\"nameCanonical\\\":\\\"\\\"},{\\\"curriculum_requisites\\\":[],\\\"name\\\":\\\" \\\",\\\"metrics\\\":{\\\"centrality\\\":0,\\\"complexity\\\":1.0,\\\"blocking factor\\\":0,\\\"delay factor\\\":1.0},\\\"nameSub\\\":\\\"Wellness Elective\\\",\\\"id\\\":5,\\\"credits\\\":3,\\\"nameCanonical\\\":\\\"\\\"},{\\\"curriculum_requisites\\\":[],\\\"name\\\":\\\" \\\",\\\"metrics\\\":{\\\"centrality\\\":0,\\\"complexity\\\":3.0,\\\"blocking factor\\\":1,\\\"delay factor\\\":2.0},\\\"nameSub\\\":\\\"ENGL 1101\\\",\\\"id\\\":6,\\\"credits\\\":3,\\\"nameCanonical\\\":\\\"\\\"}],\\\"id\\\":1},{\\\"name\\\":\\\"Term 2\\\",\\\"curriculum_items\\\":[{\\\"curriculum_requisites\\\":[{\\\"source_id\\\":2,\\\"target_id\\\":7,\\\"type\\\":\\\"CurriculumPrerequisite\\\"}],\\\"name\\\":\\\" \\\",\\\"metrics\\\":{\\\"centrality\\\":29,\\\"complexity\\\":17.0,\\\"blocking factor\\\":9,\\\"delay factor\\\":8.0},\\\"nameSub\\\":\\\"PHYS 2211\\\",\\\"id\\\":7,\\\"credits\\\":4,\\\"nameCanonical\\\":\\\"\\\"},{\\\"curriculum_requisites\\\":[{\\\"source_id\\\":2,\\\"target_id\\\":8,\\\"type\\\":\\\"CurriculumPrerequisite\\\"}],\\\"name\\\":\\\" \\\",\\\"metrics\\\":{\\\"centrality\\\":34,\\\"complexity\\\":17.0,\\\"blocking factor\\\":10,\\\"delay factor\\\":7.0},\\\"nameSub\\\":\\\"MATH 1552\\\",\\\"id\\\":8,\\\"credits\\\":4,\\\"nameCanonical\\\":\\\"\\\"},{\\\"curriculum_requisites\\\":[{\\\"source_id\\\":4,\\\"target_id\\\":9,\\\"type\\\":\\\"CurriculumPrerequisite\\\"}],\\\"name\\\":\\\" \\\",\\\"metrics\\\":{\\\"centrality\\\":11,\\\"complexity\\\":13.0,\\\"blocking factor\\\":6,\\\"delay factor\\\":7.0},\\\"nameSub\\\":\\\"ECE 2020\\\",\\\"id\\\":9,\\\"credits\\\":3,\\\"nameCanonical\\\":\\\"\\\"},{\\\"curriculum_requisites\\\":[],\\\"name\\\":\\\" \\\",\\\"metrics\\\":{\\\"centrality\\\":0,\\\"complexity\\\":1.0,\\\"blocking factor\\\":0,\\\"delay factor\\\":1.0},\\\"nameSub\\\":\\\"History\\/Government Elective\\\",\\\"id\\\":10,\\\"credits\\\":3,\\\"nameCanonical\\\":\\\"\\\"},{\\\"curriculum_requisites\\\":[{\\\"source_id\\\":6,\\\"target_id\\\":11,\\\"type\\\":\\\"CurriculumPrerequisite\\\"}],\\\"name\\\":\\\" \\\",\\\"metrics\\\":{\\\"centrality\\\":0,\\\"complexity\\\":2.0,\\\"blocking factor\\\":0,\\\"delay factor\\\":2.0},\\\"nameSub\\\":\\\"ENGL 1102\\\",\\\"id\\\":11,\\\"credits\\\":3,\\\"nameCanonical\\\":\\\"\\\"}],\\\"id\\\":2},{\\\"name\\\":\\\"Term 3\\\",\\\"curriculum_items\\\":[{\\\"curriculum_requisites\\\":[{\\\"source_id\\\":7,\\\"target_id\\\":12,\\\"type\\\":\\\"CurriculumPrerequisite\\\"}],\\\"name\\\":\\\" \\\",\\\"metrics\\\":{\\\"centrality\\\":29,\\\"complexity\\\":16.0,\\\"blocking factor\\\":8,\\\"delay factor\\\":8.0},\\\"nameSub\\\":\\\"PHYS 2212\\\",\\\"id\\\":12,\\\"credits\\\":4,\\\"nameCanonical\\\":\\\"\\\"},{\\\"curriculum_requisites\\\":[{\\\"source_id\\\":3,\\\"target_id\\\":13,\\\"type\\\":\\\"CurriculumPrerequisite\\\"},{\\\"source_id\\\":8,\\\"target_id\\\":13,\\\"type\\\":\\\"CurriculumPrerequisite\\\"}],\\\"name\\\":\\\" \\\",\\\"metrics\\\":{\\\"centrality\\\":0,\\\"complexity\\\":3.0,\\\"blocking factor\\\":0,\\\"delay factor\\\":3.0},\\\"nameSub\\\":\\\"MATH 2552\\\",\\\"id\\\":13,\\\"credits\\\":4,\\\"nameCanonical\\\":\\\"\\\"},{\\\"curriculum_requisites\\\":[{\\\"source_id\\\":4,\\\"target_id\\\":14,\\\"type\\\":\\\"CurriculumPrerequisite\\\"},{\\\"source_id\\\":3,\\\"target_id\\\":14,\\\"type\\\":\\\"CurriculumPrerequisite\\\"},{\\\"source_id\\\":8,\\\"target_id\\\":14,\\\"type\\\":\\\"CurriculumPrerequisite\\\"}],\\\"name\\\":\\\" \\\",\\\"metrics\\\":{\\\"centrality\\\":32,\\\"complexity\\\":10.0,\\\"blocking factor\\\":4,\\\"delay factor\\\":6.0},\\\"nameSub\\\":\\\"ECE 2026\\\",\\\"id\\\":14,\\\"credits\\\":3,\\\"nameCanonical\\\":\\\"\\\"},{\\\"curriculum_requisites\\\":[],\\\"name\\\":\\\" \\\",\\\"metrics\\\":{\\\"centrality\\\":0,\\\"complexity\\\":5.0,\\\"blocking factor\\\":2,\\\"delay factor\\\":3.0},\\\"nameSub\\\":\\\"Economics Elective\\\",\\\"id\\\":15,\\\"credits\\\":3,\\\"nameCanonical\\\":\\\"\\\"},{\\\"curriculum_requisites\\\":[],\\\"name\\\":\\\" \\\",\\\"metrics\\\":{\\\"centrality\\\":0,\\\"complexity\\\":1.0,\\\"blocking factor\\\":0,\\\"delay factor\\\":1.0},\\\"nameSub\\\":\\\"Social Sciences Elective\\\",\\\"id\\\":16,\\\"credits\\\":3,\\\"nameCanonical\\\":\\\"\\\"}],\\\"id\\\":3},{\\\"name\\\":\\\"Term 4\\\",\\\"curriculum_items\\\":[{\\\"curriculum_requisites\\\":[],\\\"name\\\":\\\" \\\",\\\"metrics\\\":{\\\"centrality\\\":0,\\\"complexity\\\":1.0,\\\"blocking factor\\\":0,\\\"delay factor\\\":1.0},\\\"nameSub\\\":\\\"Science Elective\\\",\\\"id\\\":17,\\\"credits\\\":3,\\\"nameCanonical\\\":\\\"\\\"},{\\\"curriculum_requisites\\\":[{\\\"source_id\\\":3,\\\"target_id\\\":18,\\\"type\\\":\\\"CurriculumPrerequisite\\\"},{\\\"source_id\\\":8,\\\"target_id\\\":18,\\\"type\\\":\\\"CurriculumPrerequisite\\\"}],\\\"name\\\":\\\" \\\",\\\"metrics\\\":{\\\"centrality\\\":35,\\\"complexity\\\":13.0,\\\"blocking factor\\\":6,\\\"delay factor\\\":7.0},\\\"nameSub\\\":\\\"MATH 2551\\\",\\\"id\\\":18,\\\"credits\\\":4,\\\"nameCanonical\\\":\\\"\\\"},{\\\"curriculum_requisites\\\":[{\\\"source_id\\\":12,\\\"target_id\\\":19,\\\"type\\\":\\\"CurriculumPrerequisite\\\"}],\\\"name\\\":\\\" \\\",\\\"metrics\\\":{\\\"centrality\\\":29,\\\"complexity\\\":15.0,\\\"blocking factor\\\":7,\\\"delay factor\\\":8.0},\\\"nameSub\\\":\\\"ECE 2040\\\",\\\"id\\\":19,\\\"credits\\\":3,\\\"nameCanonical\\\":\\\"\\\"},{\\\"curriculum_requisites\\\":[{\\\"source_id\\\":9,\\\"target_id\\\":20,\\\"type\\\":\\\"CurriculumPrerequisite\\\"}],\\\"name\\\":\\\" \\\",\\\"metrics\\\":{\\\"centrality\\\":11,\\\"complexity\\\":12.0,\\\"blocking factor\\\":5,\\\"delay factor\\\":7.0},\\\"nameSub\\\":\\\"ECE 2031\\\",\\\"id\\\":20,\\\"credits\\\":2,\\\"nameCanonical\\\":\\\"\\\"},{\\\"curriculum_requisites\\\":[{\\\"source_id\\\":20,\\\"target_id\\\":21,\\\"type\\\":\\\"CurriculumCorequisite\\\"}],\\\"name\\\":\\\" \\\",\\\"metrics\\\":{\\\"centrality\\\":0,\\\"complexity\\\":4.0,\\\"blocking factor\\\":0,\\\"delay factor\\\":4.0},\\\"nameSub\\\":\\\"Programming Elective\\\",\\\"id\\\":21,\\\"credits\\\":3,\\\"nameCanonical\\\":\\\"\\\"}],\\\"id\\\":4},{\\\"name\\\":\\\"Term 5\\\",\\\"curriculum_items\\\":[{\\\"curriculum_requisites\\\":[],\\\"name\\\":\\\" \\\",\\\"metrics\\\":{\\\"centrality\\\":0,\\\"complexity\\\":1.0,\\\"blocking factor\\\":0,\\\"delay factor\\\":1.0},\\\"nameSub\\\":\\\"Humanities Elective\\\",\\\"id\\\":22,\\\"credits\\\":3,\\\"nameCanonical\\\":\\\"\\\"},{\\\"curriculum_requisites\\\":[{\\\"source_id\\\":20,\\\"target_id\\\":23,\\\"type\\\":\\\"CurriculumPrerequisite\\\"},{\\\"source_id\\\":1,\\\"target_id\\\":23,\\\"type\\\":\\\"CurriculumPrerequisite\\\"},{\\\"source_id\\\":19,\\\"target_id\\\":23,\\\"type\\\":\\\"CurriculumPrerequisite\\\"},{\\\"source_id\\\":18,\\\"target_id\\\":23,\\\"type\\\":\\\"CurriculumPrerequisite\\\"}],\\\"name\\\":\\\" \\\",\\\"metrics\\\":{\\\"centrality\\\":33,\\\"complexity\\\":11.0,\\\"blocking factor\\\":3,\\\"delay factor\\\":8.0},\\\"nameSub\\\":\\\"ECE 3040\\\",\\\"id\\\":23,\\\"credits\\\":4,\\\"nameCanonical\\\":\\\"\\\"},{\\\"curriculum_requisites\\\":[{\\\"source_id\\\":23,\\\"target_id\\\":24,\\\"type\\\":\\\"CurriculumCorequisite\\\"}],\\\"name\\\":\\\" \\\",\\\"metrics\\\":{\\\"centrality\\\":33,\\\"complexity\\\":10.0,\\\"blocking factor\\\":2,\\\"delay factor\\\":8.0},\\\"nameSub\\\":\\\"ECE 3043\\\",\\\"id\\\":24,\\\"credits\\\":2,\\\"nameCanonical\\\":\\\"\\\"},{\\\"curriculum_requisites\\\":[{\\\"source_id\\\":14,\\\"target_id\\\":25,\\\"type\\\":\\\"CurriculumPrerequisite\\\"},{\\\"source_id\\\":19,\\\"target_id\\\":25,\\\"type\\\":\\\"CurriculumPrerequisite\\\"},{\\\"source_id\\\":18,\\\"target_id\\\":25,\\\"type\\\":\\\"CurriculumPrerequisite\\\"}],\\\"name\\\":\\\" \\\",\\\"metrics\\\":{\\\"centrality\\\":34,\\\"complexity\\\":9.0,\\\"blocking factor\\\":2,\\\"delay factor\\\":7.0},\\\"nameSub\\\":\\\"ECE 3025\\\",\\\"id\\\":25,\\\"credits\\\":3,\\\"nameCanonical\\\":\\\"\\\"},{\\\"curriculum_requisites\\\":[{\\\"source_id\\\":14,\\\"target_id\\\":26,\\\"type\\\":\\\"CurriculumPrerequisite\\\"},{\\\"source_id\\\":19,\\\"target_id\\\":26,\\\"type\\\":\\\"CurriculumPrerequisite\\\"}],\\\"name\\\":\\\" \\\",\\\"metrics\\\":{\\\"centrality\\\":23,\\\"complexity\\\":9.0,\\\"blocking factor\\\":2,\\\"delay factor\\\":7.0},\\\"nameSub\\\":\\\"ECE 3084\\\",\\\"id\\\":26,\\\"credits\\\":3,\\\"nameCanonical\\\":\\\"\\\"},{\\\"curriculum_requisites\\\":[],\\\"name\\\":\\\" \\\",\\\"metrics\\\":{\\\"centrality\\\":0,\\\"complexity\\\":1.0,\\\"blocking factor\\\":0,\\\"delay factor\\\":1.0},\\\"nameSub\\\":\\\"Social Sciences Elective\\\",\\\"id\\\":27,\\\"credits\\\":3,\\\"nameCanonical\\\":\\\"\\\"}],\\\"id\\\":5},{\\\"name\\\":\\\"Term 6\\\",\\\"curriculum_items\\\":[{\\\"curriculum_requisites\\\":[],\\\"name\\\":\\\" \\\",\\\"metrics\\\":{\\\"centrality\\\":0,\\\"complexity\\\":1.0,\\\"blocking factor\\\":0,\\\"delay factor\\\":1.0},\\\"nameSub\\\":\\\"ECE\\/Approved Engineering Elective\\\",\\\"id\\\":28,\\\"credits\\\":3,\\\"nameCanonical\\\":\\\"\\\"},{\\\"curriculum_requisites\\\":[{\\\"source_id\\\":18,\\\"target_id\\\":29,\\\"type\\\":\\\"CurriculumPrerequisite\\\"}],\\\"name\\\":\\\" \\\",\\\"metrics\\\":{\\\"centrality\\\":11,\\\"complexity\\\":8.0,\\\"blocking factor\\\":2,\\\"delay factor\\\":6.0},\\\"nameSub\\\":\\\"Prob\\/Stat ECE\\/App\\/Engr Elective\\\",\\\"id\\\":29,\\\"credits\\\":3,\\\"nameCanonical\\\":\\\"\\\"},{\\\"curriculum_requisites\\\":[],\\\"name\\\":\\\" \\\",\\\"metrics\\\":{\\\"centrality\\\":0,\\\"complexity\\\":1.0,\\\"blocking factor\\\":0,\\\"delay factor\\\":1.0},\\\"nameSub\\\":\\\"ECE Elective\\\",\\\"id\\\":30,\\\"credits\\\":3,\\\"nameCanonical\\\":\\\"\\\"},{\\\"curriculum_requisites\\\":[],\\\"name\\\":\\\" \\\",\\\"metrics\\\":{\\\"centrality\\\":0,\\\"complexity\\\":1.0,\\\"blocking factor\\\":0,\\\"delay factor\\\":1.0},\\\"nameSub\\\":\\\"ECE Elective\\\",\\\"id\\\":31,\\\"credits\\\":3,\\\"nameCanonical\\\":\\\"\\\"},{\\\"curriculum_requisites\\\":[{\\\"source_id\\\":19,\\\"target_id\\\":32,\\\"type\\\":\\\"CurriculumPrerequisite\\\"}],\\\"name\\\":\\\" \\\",\\\"metrics\\\":{\\\"centrality\\\":7,\\\"complexity\\\":9.0,\\\"blocking factor\\\":2,\\\"delay factor\\\":7.0},\\\"nameSub\\\":\\\"ECE 3072\\\",\\\"id\\\":32,\\\"credits\\\":3,\\\"nameCanonical\\\":\\\"\\\"},{\\\"curriculum_requisites\\\":[],\\\"name\\\":\\\" \\\",\\\"metrics\\\":{\\\"centrality\\\":0,\\\"complexity\\\":1.0,\\\"blocking factor\\\":0,\\\"delay factor\\\":1.0},\\\"nameSub\\\":\\\"Approved Elective\\\",\\\"id\\\":33,\\\"credits\\\":3,\\\"nameCanonical\\\":\\\"\\\"}],\\\"id\\\":6},{\\\"name\\\":\\\"Term 7\\\",\\\"curriculum_items\\\":[{\\\"curriculum_requisites\\\":[],\\\"name\\\":\\\" \\\",\\\"metrics\\\":{\\\"centrality\\\":0,\\\"complexity\\\":1.0,\\\"blocking factor\\\":0,\\\"delay factor\\\":1.0},\\\"nameSub\\\":\\\"Engineering Elective\\\",\\\"id\\\":34,\\\"credits\\\":3,\\\"nameCanonical\\\":\\\"\\\"},{\\\"curriculum_requisites\\\":[],\\\"name\\\":\\\" \\\",\\\"metrics\\\":{\\\"centrality\\\":0,\\\"complexity\\\":1.0,\\\"blocking factor\\\":0,\\\"delay factor\\\":1.0},\\\"nameSub\\\":\\\"ECE Elective\\\",\\\"id\\\":35,\\\"credits\\\":3,\\\"nameCanonical\\\":\\\"\\\"},{\\\"curriculum_requisites\\\":[{\\\"source_id\\\":26,\\\"target_id\\\":36,\\\"type\\\":\\\"CurriculumPrerequisite\\\"},{\\\"source_id\\\":25,\\\"target_id\\\":36,\\\"type\\\":\\\"CurriculumPrerequisite\\\"},{\\\"source_id\\\":32,\\\"target_id\\\":36,\\\"type\\\":\\\"CurriculumPrerequisite\\\"},{\\\"source_id\\\":29,\\\"target_id\\\":36,\\\"type\\\":\\\"CurriculumPrerequisite\\\"},{\\\"source_id\\\":15,\\\"target_id\\\":36,\\\"type\\\":\\\"CurriculumPrerequisite\\\"},{\\\"source_id\\\":24,\\\"target_id\\\":36,\\\"type\\\":\\\"CurriculumPrerequisite\\\"}],\\\"name\\\":\\\" \\\",\\\"metrics\\\":{\\\"centrality\\\":111,\\\"complexity\\\":9.0,\\\"blocking factor\\\":1,\\\"delay factor\\\":8.0},\\\"nameSub\\\":\\\"ECE 4011\\\",\\\"id\\\":36,\\\"credits\\\":2,\\\"nameCanonical\\\":\\\"\\\"},{\\\"curriculum_requisites\\\":[],\\\"name\\\":\\\" \\\",\\\"metrics\\\":{\\\"centrality\\\":0,\\\"complexity\\\":1.0,\\\"blocking factor\\\":0,\\\"delay factor\\\":1.0},\\\"nameSub\\\":\\\"ECE 4XXX Elective\\\",\\\"id\\\":37,\\\"credits\\\":3,\\\"nameCanonical\\\":\\\"\\\"},{\\\"curriculum_requisites\\\":[],\\\"name\\\":\\\" \\\",\\\"metrics\\\":{\\\"centrality\\\":0,\\\"complexity\\\":1.0,\\\"blocking factor\\\":0,\\\"delay factor\\\":1.0},\\\"nameSub\\\":\\\"ECE 4XXX Lab Elective\\\",\\\"id\\\":38,\\\"credits\\\":3,\\\"nameCanonical\\\":\\\"\\\"},{\\\"curriculum_requisites\\\":[],\\\"name\\\":\\\" \\\",\\\"metrics\\\":{\\\"centrality\\\":0,\\\"complexity\\\":1.0,\\\"blocking factor\\\":0,\\\"delay factor\\\":1.0},\\\"nameSub\\\":\\\"Approved Elective\\\",\\\"id\\\":39,\\\"credits\\\":3,\\\"nameCanonical\\\":\\\"\\\"}],\\\"id\\\":7},{\\\"name\\\":\\\"Term 8\\\",\\\"curriculum_items\\\":[{\\\"curriculum_requisites\\\":[],\\\"name\\\":\\\" \\\",\\\"metrics\\\":{\\\"centrality\\\":0,\\\"complexity\\\":1.0,\\\"blocking factor\\\":0,\\\"delay factor\\\":1.0},\\\"nameSub\\\":\\\"Humanities Elective\\\",\\\"id\\\":40,\\\"credits\\\":3,\\\"nameCanonical\\\":\\\"\\\"},{\\\"curriculum_requisites\\\":[{\\\"source_id\\\":36,\\\"target_id\\\":41,\\\"type\\\":\\\"CurriculumPrerequisite\\\"}],\\\"name\\\":\\\" \\\",\\\"metrics\\\":{\\\"centrality\\\":0,\\\"complexity\\\":8.0,\\\"blocking factor\\\":0,\\\"delay factor\\\":8.0},\\\"nameSub\\\":\\\"ECE 4012\\\",\\\"id\\\":41,\\\"credits\\\":3,\\\"nameCanonical\\\":\\\"\\\"},{\\\"curriculum_requisites\\\":[],\\\"name\\\":\\\" \\\",\\\"metrics\\\":{\\\"centrality\\\":0,\\\"complexity\\\":1.0,\\\"blocking factor\\\":0,\\\"delay factor\\\":1.0},\\\"nameSub\\\":\\\"ECE 4XXX Elective\\\",\\\"id\\\":42,\\\"credits\\\":3,\\\"nameCanonical\\\":\\\"\\\"},{\\\"curriculum_requisites\\\":[],\\\"name\\\":\\\" \\\",\\\"metrics\\\":{\\\"centrality\\\":0,\\\"complexity\\\":1.0,\\\"blocking factor\\\":0,\\\"delay factor\\\":1.0},\\\"nameSub\\\":\\\"Approved Elective\\\",\\\"id\\\":43,\\\"credits\\\":3,\\\"nameCanonical\\\":\\\"\\\"},{\\\"curriculum_requisites\\\":[],\\\"name\\\":\\\" \\\",\\\"metrics\\\":{\\\"centrality\\\":0,\\\"complexity\\\":1.0,\\\"blocking factor\\\":0,\\\"delay factor\\\":1.0},\\\"nameSub\\\":\\\"Approved Elective\\\",\\\"id\\\":44,\\\"credits\\\":3,\\\"nameCanonical\\\":\\\"\\\"}],\\\"id\\\":8}],\\\"institution\\\":\\\"Georgia Institute of Technology\\\"}},\\\"*\\\"); window.removeEventListener(\\\"message\\\",window.messageReceived); window.messageReceived=(function (event){return (event.data.curriculum!==undefined) ? (WebIO.setval({\\\"name\\\":\\\"curriculum-data\\\",\\\"scope\\\":\\\"7968367963488298374\\\",\\\"id\\\":\\\"17316937244880075258\\\",\\\"type\\\":\\\"observable\\\"},event.data.curriculum)) : undefined}); return window.addEventListener(\\\"message\\\",window.messageReceived)})\"},\"style\":{\"padding\":\"0\",\"height\":\"80vh\",\"margin\":\"0\",\"border\":\"none\",\"width\":\"100%\"}},\"nodeType\":\"DOM\",\"type\":\"node\",\"instanceArgs\":{\"namespace\":\"html\",\"tag\":\"iframe\"},\"children\":[\"\"]}]},\n",
       "            window,\n",
       "        );\n",
       "    } else {\n",
       "        document\n",
       "            .querySelector('[data-webio-mountpoint=\"10242394593258621496\"]')\n",
       "            .innerHTML = (\n",
       "                '<div style=\"padding: 1em; background-color: #f8d6da; border: 1px solid #f5c6cb\">' +\n",
       "                '<p><strong>WebIO not detected.</strong></p>' +\n",
       "                '<p>Please read ' +\n",
       "                '<a href=\"https://juliagizmos.github.io/WebIO.jl/latest/troubleshooting/not-detected/\" target=\"_blank\">the troubleshooting guide</a> ' +\n",
       "                'for more information on how to resolve this issue.</p>' +\n",
       "                '<p><a href=\"https://juliagizmos.github.io/WebIO.jl/latest/troubleshooting/not-detected/\" target=\"_blank\">https://juliagizmos.github.io/WebIO.jl/latest/troubleshooting/not-detected/</a></p>' +\n",
       "                '</div>'\n",
       "            );\n",
       "    }\n",
       "    </script>\n",
       "</div>\n"
      ],
      "text/plain": [
       "WebIO.Scope(WebIO.Node{WebIO.DOM}(WebIO.DOM(:html, :iframe), Any[\"\"], Dict{Symbol,Any}(:src => \"http://localhost:8156\",:id => \"curriculum\",:events => Dict{Symbol,WebIO.JSString}(:load => WebIO.JSString(\"(function (){this.contentWindow.postMessage({\\\"options\\\":{\\\"hideTerms\\\":false,\\\"edit\\\":false},\\\"curriculum\\\":{\\\"name\\\":\\\"Electrical Engineering\\\",\\\"dp_name\\\":\\\"2017-18 Plan\\\",\\\"curriculum_terms\\\":[{\\\"name\\\":\\\"Term 1\\\",\\\"curriculum_items\\\":[{\\\"curriculum_requisites\\\":[],\\\"name\\\":\\\" \\\",\\\"metrics\\\":{\\\"centrality\\\":0,\\\"complexity\\\":9.0,\\\"blocking factor\\\":4,\\\"delay factor\\\":5.0},\\\"nameSub\\\":\\\"CHEM 1310\\\",\\\"id\\\":1,\\\"credits\\\":4,\\\"nameCanonical\\\":\\\"\\\"},{\\\"curriculum_requisites\\\":[],\\\"name\\\":\\\" \\\",\\\"metrics\\\":{\\\"centrality\\\":0,\\\"complexity\\\":23.0,\\\"blocking factor\\\":15,\\\"delay factor\\\":8.0},\\\"nameSub\\\":\\\"MATH 1551\\\",\\\"id\\\":2,\\\"credits\\\":2,\\\"nameCanonical\\\":\\\"\\\"},{\\\"curriculum_requisites\\\":[],\\\"name\\\":\\\" \\\",\\\"metrics\\\":{\\\"centrality\\\":0,\\\"complexity\\\":16.0,\\\"blocking factor\\\":10,\\\"delay factor\\\":6.0},\\\"nameSub\\\":\\\"MATH 1553\\\",\\\"id\\\":3,\\\"credits\\\":2,\\\"nameCanonical\\\":\\\"\\\"},{\\\"curriculum_requisites\\\":[],\\\"name\\\":\\\" \\\",\\\"metrics\\\":{\\\"centrality\\\":0,\\\"complexity\\\":17.0,\\\"blocking factor\\\":10,\\\"delay factor\\\":7.0},\\\"nameSub\\\":\\\"CS 1371\\\",\\\"id\\\":4,\\\"credits\\\":3,\\\"nameCanonical\\\":\\\"\\\"},{\\\"curriculum_requisites\\\":[],\\\"name\\\":\\\" \\\",\\\"metrics\\\":{\\\"centrality\\\":0,\\\"complexity\\\":1.0,\\\"blocking factor\\\":0,\\\"delay factor\\\":1.0},\\\"nameSub\\\":\\\"Wellness Elective\\\",\\\"id\\\":5,\\\"credits\\\":3,\\\"nameCanonical\\\":\\\"\\\"},{\\\"curriculum_requisites\\\":[],\\\"name\\\":\\\" \\\",\\\"metrics\\\":{\\\"centrality\\\":0,\\\"complexity\\\":3.0,\\\"blocking factor\\\":1,\\\"delay factor\\\":2.0},\\\"nameSub\\\":\\\"ENGL 1101\\\",\\\"id\\\":6,\\\"credits\\\":3,\\\"nameCanonical\\\":\\\"\\\"}],\\\"id\\\":1},{\\\"name\\\":\\\"Term 2\\\",\\\"curriculum_items\\\":[{\\\"curriculum_requisites\\\":[{\\\"source_id\\\":2,\\\"target_id\\\":7,\\\"type\\\":\\\"CurriculumPrerequisite\\\"}],\\\"name\\\":\\\" \\\",\\\"metrics\\\":{\\\"centrality\\\":29,\\\"complexity\\\":17.0,\\\"blocking factor\\\":9,\\\"delay factor\\\":8.0},\\\"nameSub\\\":\\\"PHYS 2211\\\",\\\"id\\\":7,\\\"credits\\\":4,\\\"nameCanonical\\\":\\\"\\\"},{\\\"curriculum_requisites\\\":[{\\\"source_id\\\":2,\\\"target_id\\\":8,\\\"type\\\":\\\"CurriculumPrerequisite\\\"}],\\\"name\\\":\\\" \\\",\\\"metrics\\\":{\\\"centrality\\\":34,\\\"complexity\\\":17.0,\\\"blocking factor\\\":10,\\\"delay factor\\\":7.0},\\\"nameSub\\\":\\\"MATH 1552\\\",\\\"id\\\":8,\\\"credits\\\":4,\\\"nameCanonical\\\":\\\"\\\"},{\\\"curriculum_requisites\\\":[{\\\"source_id\\\":4,\\\"target_id\\\":9,\\\"type\\\":\\\"CurriculumPrerequisite\\\"}],\\\"name\\\":\\\" \\\",\\\"metrics\\\":{\\\"centrality\\\":11,\\\"complexity\\\":13.0,\\\"blocking factor\\\":6,\\\"delay factor\\\":7.0},\\\"nameSub\\\":\\\"ECE 2020\\\",\\\"id\\\":9,\\\"credits\\\":3,\\\"nameCanonical\\\":\\\"\\\"},{\\\"curriculum_requisites\\\":[],\\\"name\\\":\\\" \\\",\\\"metrics\\\":{\\\"centrality\\\":0,\\\"complexity\\\":1.0,\\\"blocking factor\\\":0,\\\"delay factor\\\":1.0},\\\"nameSub\\\":\\\"History/Government Elective\\\",\\\"id\\\":10,\\\"credits\\\":3,\\\"nameCanonical\\\":\\\"\\\"},{\\\"curriculum_requisites\\\":[{\\\"source_id\\\":6,\\\"target_id\\\":11,\\\"type\\\":\\\"CurriculumPrerequisite\\\"}],\\\"name\\\":\\\" \\\",\\\"metrics\\\":{\\\"centrality\\\":0,\\\"complexity\\\":2.0,\\\"blocking factor\\\":0,\\\"delay factor\\\":2.0},\\\"nameSub\\\":\\\"ENGL 1102\\\",\\\"id\\\":11,\\\"credits\\\":3,\\\"nameCanonical\\\":\\\"\\\"}],\\\"id\\\":2},{\\\"name\\\":\\\"Term 3\\\",\\\"curriculum_items\\\":[{\\\"curriculum_requisites\\\":[{\\\"source_id\\\":7,\\\"target_id\\\":12,\\\"type\\\":\\\"CurriculumPrerequisite\\\"}],\\\"name\\\":\\\" \\\",\\\"metrics\\\":{\\\"centrality\\\":29,\\\"complexity\\\":16.0,\\\"blocking factor\\\":8,\\\"delay factor\\\":8.0},\\\"nameSub\\\":\\\"PHYS 2212\\\",\\\"id\\\":12,\\\"credits\\\":4,\\\"nameCanonical\\\":\\\"\\\"},{\\\"curriculum_requisites\\\":[{\\\"source_id\\\":3,\\\"target_id\\\":13,\\\"type\\\":\\\"CurriculumPrerequisite\\\"},{\\\"source_id\\\":8,\\\"target_id\\\":13,\\\"type\\\":\\\"CurriculumPrerequisite\\\"}],\\\"name\\\":\\\" \\\",\\\"metrics\\\":{\\\"centrality\\\":0,\\\"complexity\\\":3.0,\\\"blocking factor\\\":0,\\\"delay factor\\\":3.0},\\\"nameSub\\\":\\\"MATH 2552\\\",\\\"id\\\":13,\\\"credits\\\":4,\\\"nameCanonical\\\":\\\"\\\"},{\\\"curriculum_requisites\\\":[{\\\"source_id\\\":4,\\\"target_id\\\":14,\\\"type\\\":\\\"CurriculumPrerequisite\\\"},{\\\"source_id\\\":3,\\\"target_id\\\":14,\\\"type\\\":\\\"CurriculumPrerequisite\\\"},{\\\"source_id\\\":8,\\\"target_id\\\":14,\\\"type\\\":\\\"CurriculumPrerequisite\\\"}],\\\"name\\\":\\\" \\\",\\\"metrics\\\":{\\\"centrality\\\":32,\\\"complexity\\\":10.0,\\\"blocking factor\\\":4,\\\"delay factor\\\":6.0},\\\"nameSub\\\":\\\"ECE 2026\\\",\\\"id\\\":14,\\\"credits\\\":3,\\\"nameCanonical\\\":\\\"\\\"},{\\\"curriculum_requisites\\\":[],\\\"name\\\":\\\" \\\",\\\"metrics\\\":{\\\"centrality\\\":0,\\\"complexity\\\":5.0,\\\"blocking factor\\\":2,\\\"delay factor\\\":3.0},\\\"nameSub\\\":\\\"Economics Elective\\\",\\\"id\\\":15,\\\"credits\\\":3,\\\"nameCanonical\\\":\\\"\\\"},{\\\"curriculum_requisites\\\":[],\\\"name\\\":\\\" \\\",\\\"metrics\\\":{\\\"centrality\\\":0,\\\"complexity\\\":1.0,\\\"blocking factor\\\":0,\\\"delay factor\\\":1.0},\\\"nameSub\\\":\\\"Social Sciences Elective\\\",\\\"id\\\":16,\\\"credits\\\":3,\\\"nameCanonical\\\":\\\"\\\"}],\\\"id\\\":3},{\\\"name\\\":\\\"Term 4\\\",\\\"curriculum_items\\\":[{\\\"curriculum_requisites\\\":[],\\\"name\\\":\\\" \\\",\\\"metrics\\\":{\\\"centrality\\\":0,\\\"complexity\\\":1.0,\\\"blocking factor\\\":0,\\\"delay factor\\\":1.0},\\\"nameSub\\\":\\\"Science Elective\\\",\\\"id\\\":17,\\\"credits\\\":3,\\\"nameCanonical\\\":\\\"\\\"},{\\\"curriculum_requisites\\\":[{\\\"source_id\\\":3,\\\"target_id\\\":18,\\\"type\\\":\\\"CurriculumPrerequisite\\\"},{\\\"source_id\\\":8,\\\"target_id\\\":18,\\\"type\\\":\\\"CurriculumPrerequisite\\\"}],\\\"name\\\":\\\" \\\",\\\"metrics\\\":{\\\"centrality\\\":35,\\\"complexity\\\":13.0,\\\"blocking factor\\\":6,\\\"delay factor\\\":7.0},\\\"nameSub\\\":\\\"MATH 2551\\\",\\\"id\\\":18,\\\"credits\\\":4,\\\"nameCanonical\\\":\\\"\\\"},{\\\"curriculum_requisites\\\":[{\\\"source_id\\\":12,\\\"target_id\\\":19,\\\"type\\\":\\\"CurriculumPrerequisite\\\"}],\\\"name\\\":\\\" \\\",\\\"metrics\\\":{\\\"centrality\\\":29,\\\"complexity\\\":15.0,\\\"blocking factor\\\":7,\\\"delay factor\\\":8.0},\\\"nameSub\\\":\\\"ECE 2040\\\",\\\"id\\\":19,\\\"credits\\\":3,\\\"nameCanonical\\\":\\\"\\\"},{\\\"curriculum_requisites\\\":[{\\\"source_id\\\":9,\\\"target_id\\\":20,\\\"type\\\":\\\"CurriculumPrerequisite\\\"}],\\\"name\\\":\\\" \\\",\\\"metrics\\\":{\\\"centrality\\\":11,\\\"complexity\\\":12.0,\\\"blocking factor\\\":5,\\\"delay factor\\\":7.0},\\\"nameSub\\\":\\\"ECE 2031\\\",\\\"id\\\":20,\\\"credits\\\":2,\\\"nameCanonical\\\":\\\"\\\"},{\\\"curriculum_requisites\\\":[{\\\"source_id\\\":20,\\\"target_id\\\":21,\\\"type\\\":\\\"CurriculumCorequisite\\\"}],\\\"name\\\":\\\" \\\",\\\"metrics\\\":{\\\"centrality\\\":0,\\\"complexity\\\":4.0,\\\"blocking factor\\\":0,\\\"delay factor\\\":4.0},\\\"nameSub\\\":\\\"Programming Elective\\\",\\\"id\\\":21,\\\"credits\\\":3,\\\"nameCanonical\\\":\\\"\\\"}],\\\"id\\\":4},{\\\"name\\\":\\\"Term 5\\\",\\\"curriculum_items\\\":[{\\\"curriculum_requisites\\\":[],\\\"name\\\":\\\" \\\",\\\"metrics\\\":{\\\"centrality\\\":0,\\\"complexity\\\":1.0,\\\"blocking factor\\\":0,\\\"delay factor\\\":1.0},\\\"nameSub\\\":\\\"Humanities Elective\\\",\\\"id\\\":22,\\\"credits\\\":3,\\\"nameCanonical\\\":\\\"\\\"},{\\\"curriculum_requisites\\\":[{\\\"source_id\\\":20,\\\"target_id\\\":23,\\\"type\\\":\\\"CurriculumPrerequisite\\\"},{\\\"source_id\\\":1,\\\"target_id\\\":23,\\\"type\\\":\\\"CurriculumPrerequisite\\\"},{\\\"source_id\\\":19,\\\"target_id\\\":23,\\\"type\\\":\\\"CurriculumPrerequisite\\\"},{\\\"source_id\\\":18,\\\"target_id\\\":23,\\\"type\\\":\\\"CurriculumPrerequisite\\\"}],\\\"name\\\":\\\" \\\",\\\"metrics\\\":{\\\"centrality\\\":33,\\\"complexity\\\":11.0,\\\"blocking factor\\\":3,\\\"delay factor\\\":8.0},\\\"nameSub\\\":\\\"ECE 3040\\\",\\\"id\\\":23,\\\"credits\\\":4,\\\"nameCanonical\\\":\\\"\\\"},{\\\"curriculum_requisites\\\":[{\\\"source_id\\\":23,\\\"target_id\\\":24,\\\"type\\\":\\\"CurriculumCorequisite\\\"}],\\\"name\\\":\\\" \\\",\\\"metrics\\\":{\\\"centrality\\\":33,\\\"complexity\\\":10.0,\\\"blocking factor\\\":2,\\\"delay factor\\\":8.0},\\\"nameSub\\\":\\\"ECE 3043\\\",\\\"id\\\":24,\\\"credits\\\":2,\\\"nameCanonical\\\":\\\"\\\"},{\\\"curriculum_requisites\\\":[{\\\"source_id\\\":14,\\\"target_id\\\":25,\\\"type\\\":\\\"CurriculumPrerequisite\\\"},{\\\"source_id\\\":19,\\\"target_id\\\":25,\\\"type\\\":\\\"CurriculumPrerequisite\\\"},{\\\"source_id\\\":18,\\\"target_id\\\":25,\\\"type\\\":\\\"CurriculumPrerequisite\\\"}],\\\"name\\\":\\\" \\\",\\\"metrics\\\":{\\\"centrality\\\":34,\\\"complexity\\\":9.0,\\\"blocking factor\\\":2,\\\"delay factor\\\":7.0},\\\"nameSub\\\":\\\"ECE 3025\\\",\\\"id\\\":25,\\\"credits\\\":3,\\\"nameCanonical\\\":\\\"\\\"},{\\\"curriculum_requisites\\\":[{\\\"source_id\\\":14,\\\"target_id\\\":26,\\\"type\\\":\\\"CurriculumPrerequisite\\\"},{\\\"source_id\\\":19,\\\"target_id\\\":26,\\\"type\\\":\\\"CurriculumPrerequisite\\\"}],\\\"name\\\":\\\" \\\",\\\"metrics\\\":{\\\"centrality\\\":23,\\\"complexity\\\":9.0,\\\"blocking factor\\\":2,\\\"delay factor\\\":7.0},\\\"nameSub\\\":\\\"ECE 3084\\\",\\\"id\\\":26,\\\"credits\\\":3,\\\"nameCanonical\\\":\\\"\\\"},{\\\"curriculum_requisites\\\":[],\\\"name\\\":\\\" \\\",\\\"metrics\\\":{\\\"centrality\\\":0,\\\"complexity\\\":1.0,\\\"blocking factor\\\":0,\\\"delay factor\\\":1.0},\\\"nameSub\\\":\\\"Social Sciences Elective\\\",\\\"id\\\":27,\\\"credits\\\":3,\\\"nameCanonical\\\":\\\"\\\"}],\\\"id\\\":5},{\\\"name\\\":\\\"Term 6\\\",\\\"curriculum_items\\\":[{\\\"curriculum_requisites\\\":[],\\\"name\\\":\\\" \\\",\\\"metrics\\\":{\\\"centrality\\\":0,\\\"complexity\\\":1.0,\\\"blocking factor\\\":0,\\\"delay factor\\\":1.0},\\\"nameSub\\\":\\\"ECE/Approved Engineering Elective\\\",\\\"id\\\":28,\\\"credits\\\":3,\\\"nameCanonical\\\":\\\"\\\"},{\\\"curriculum_requisites\\\":[{\\\"source_id\\\":18,\\\"target_id\\\":29,\\\"type\\\":\\\"CurriculumPrerequisite\\\"}],\\\"name\\\":\\\" \\\",\\\"metrics\\\":{\\\"centrality\\\":11,\\\"complexity\\\":8.0,\\\"blocking factor\\\":2,\\\"delay factor\\\":6.0},\\\"nameSub\\\":\\\"Prob/Stat ECE/App/Engr Elective\\\",\\\"id\\\":29,\\\"credits\\\":3,\\\"nameCanonical\\\":\\\"\\\"},{\\\"curriculum_requisites\\\":[],\\\"name\\\":\\\" \\\",\\\"metrics\\\":{\\\"centrality\\\":0,\\\"complexity\\\":1.0,\\\"blocking factor\\\":0,\\\"delay factor\\\":1.0},\\\"nameSub\\\":\\\"ECE Elective\\\",\\\"id\\\":30,\\\"credits\\\":3,\\\"nameCanonical\\\":\\\"\\\"},{\\\"curriculum_requisites\\\":[],\\\"name\\\":\\\" \\\",\\\"metrics\\\":{\\\"centrality\\\":0,\\\"complexity\\\":1.0,\\\"blocking factor\\\":0,\\\"delay factor\\\":1.0},\\\"nameSub\\\":\\\"ECE Elective\\\",\\\"id\\\":31,\\\"credits\\\":3,\\\"nameCanonical\\\":\\\"\\\"},{\\\"curriculum_requisites\\\":[{\\\"source_id\\\":19,\\\"target_id\\\":32,\\\"type\\\":\\\"CurriculumPrerequisite\\\"}],\\\"name\\\":\\\" \\\",\\\"metrics\\\":{\\\"centrality\\\":7,\\\"complexity\\\":9.0,\\\"blocking factor\\\":2,\\\"delay factor\\\":7.0},\\\"nameSub\\\":\\\"ECE 3072\\\",\\\"id\\\":32,\\\"credits\\\":3,\\\"nameCanonical\\\":\\\"\\\"},{\\\"curriculum_requisites\\\":[],\\\"name\\\":\\\" \\\",\\\"metrics\\\":{\\\"centrality\\\":0,\\\"complexity\\\":1.0,\\\"blocking factor\\\":0,\\\"delay factor\\\":1.0},\\\"nameSub\\\":\\\"Approved Elective\\\",\\\"id\\\":33,\\\"credits\\\":3,\\\"nameCanonical\\\":\\\"\\\"}],\\\"id\\\":6},{\\\"name\\\":\\\"Term 7\\\",\\\"curriculum_items\\\":[{\\\"curriculum_requisites\\\":[],\\\"name\\\":\\\" \\\",\\\"metrics\\\":{\\\"centrality\\\":0,\\\"complexity\\\":1.0,\\\"blocking factor\\\":0,\\\"delay factor\\\":1.0},\\\"nameSub\\\":\\\"Engineering Elective\\\",\\\"id\\\":34,\\\"credits\\\":3,\\\"nameCanonical\\\":\\\"\\\"},{\\\"curriculum_requisites\\\":[],\\\"name\\\":\\\" \\\",\\\"metrics\\\":{\\\"centrality\\\":0,\\\"complexity\\\":1.0,\\\"blocking factor\\\":0,\\\"delay factor\\\":1.0},\\\"nameSub\\\":\\\"ECE Elective\\\",\\\"id\\\":35,\\\"credits\\\":3,\\\"nameCanonical\\\":\\\"\\\"},{\\\"curriculum_requisites\\\":[{\\\"source_id\\\":26,\\\"target_id\\\":36,\\\"type\\\":\\\"CurriculumPrerequisite\\\"},{\\\"source_id\\\":25,\\\"target_id\\\":36,\\\"type\\\":\\\"CurriculumPrerequisite\\\"},{\\\"source_id\\\":32,\\\"target_id\\\":36,\\\"type\\\":\\\"CurriculumPrerequisite\\\"},{\\\"source_id\\\":29,\\\"target_id\\\":36,\\\"type\\\":\\\"CurriculumPrerequisite\\\"},{\\\"source_id\\\":15,\\\"target_id\\\":36,\\\"type\\\":\\\"CurriculumPrerequisite\\\"},{\\\"source_id\\\":24,\\\"target_id\\\":36,\\\"type\\\":\\\"CurriculumPrerequisite\\\"}],\\\"name\\\":\\\" \\\",\\\"metrics\\\":{\\\"centrality\\\":111,\\\"complexity\\\":9.0,\\\"blocking factor\\\":1,\\\"delay factor\\\":8.0},\\\"nameSub\\\":\\\"ECE 4011\\\",\\\"id\\\":36,\\\"credits\\\":2,\\\"nameCanonical\\\":\\\"\\\"},{\\\"curriculum_requisites\\\":[],\\\"name\\\":\\\" \\\",\\\"metrics\\\":{\\\"centrality\\\":0,\\\"complexity\\\":1.0,\\\"blocking factor\\\":0,\\\"delay factor\\\":1.0},\\\"nameSub\\\":\\\"ECE 4XXX Elective\\\",\\\"id\\\":37,\\\"credits\\\":3,\\\"nameCanonical\\\":\\\"\\\"},{\\\"curriculum_requisites\\\":[],\\\"name\\\":\\\" \\\",\\\"metrics\\\":{\\\"centrality\\\":0,\\\"complexity\\\":1.0,\\\"blocking factor\\\":0,\\\"delay factor\\\":1.0},\\\"nameSub\\\":\\\"ECE 4XXX Lab Elective\\\",\\\"id\\\":38,\\\"credits\\\":3,\\\"nameCanonical\\\":\\\"\\\"},{\\\"curriculum_requisites\\\":[],\\\"name\\\":\\\" \\\",\\\"metrics\\\":{\\\"centrality\\\":0,\\\"complexity\\\":1.0,\\\"blocking factor\\\":0,\\\"delay factor\\\":1.0},\\\"nameSub\\\":\\\"Approved Elective\\\",\\\"id\\\":39,\\\"credits\\\":3,\\\"nameCanonical\\\":\\\"\\\"}],\\\"id\\\":7},{\\\"name\\\":\\\"Term 8\\\",\\\"curriculum_items\\\":[{\\\"curriculum_requisites\\\":[],\\\"name\\\":\\\" \\\",\\\"metrics\\\":{\\\"centrality\\\":0,\\\"complexity\\\":1.0,\\\"blocking factor\\\":0,\\\"delay factor\\\":1.0},\\\"nameSub\\\":\\\"Humanities Elective\\\",\\\"id\\\":40,\\\"credits\\\":3,\\\"nameCanonical\\\":\\\"\\\"},{\\\"curriculum_requisites\\\":[{\\\"source_id\\\":36,\\\"target_id\\\":41,\\\"type\\\":\\\"CurriculumPrerequisite\\\"}],\\\"name\\\":\\\" \\\",\\\"metrics\\\":{\\\"centrality\\\":0,\\\"complexity\\\":8.0,\\\"blocking factor\\\":0,\\\"delay factor\\\":8.0},\\\"nameSub\\\":\\\"ECE 4012\\\",\\\"id\\\":41,\\\"credits\\\":3,\\\"nameCanonical\\\":\\\"\\\"},{\\\"curriculum_requisites\\\":[],\\\"name\\\":\\\" \\\",\\\"metrics\\\":{\\\"centrality\\\":0,\\\"complexity\\\":1.0,\\\"blocking factor\\\":0,\\\"delay factor\\\":1.0},\\\"nameSub\\\":\\\"ECE 4XXX Elective\\\",\\\"id\\\":42,\\\"credits\\\":3,\\\"nameCanonical\\\":\\\"\\\"},{\\\"curriculum_requisites\\\":[],\\\"name\\\":\\\" \\\",\\\"metrics\\\":{\\\"centrality\\\":0,\\\"complexity\\\":1.0,\\\"blocking factor\\\":0,\\\"delay factor\\\":1.0},\\\"nameSub\\\":\\\"Approved Elective\\\",\\\"id\\\":43,\\\"credits\\\":3,\\\"nameCanonical\\\":\\\"\\\"},{\\\"curriculum_requisites\\\":[],\\\"name\\\":\\\" \\\",\\\"metrics\\\":{\\\"centrality\\\":0,\\\"complexity\\\":1.0,\\\"blocking factor\\\":0,\\\"delay factor\\\":1.0},\\\"nameSub\\\":\\\"Approved Elective\\\",\\\"id\\\":44,\\\"credits\\\":3,\\\"nameCanonical\\\":\\\"\\\"}],\\\"id\\\":8}],\\\"institution\\\":\\\"Georgia Institute of Technology\\\"}},\\\"*\\\"); window.removeEventListener(\\\"message\\\",window.messageReceived); window.messageReceived=(function (event){return (event.data.curriculum!==undefined) ? (WebIO.setval({\\\"name\\\":\\\"curriculum-data\\\",\\\"scope\\\":\\\"7968367963488298374\\\",\\\"id\\\":\\\"17316937244880075258\\\",\\\"type\\\":\\\"observable\\\"},event.data.curriculum)) : undefined}); return window.addEventListener(\\\"message\\\",window.messageReceived)})\")),:style => Dict(:padding => \"0\",:height => \"80vh\",:margin => \"0\",:border => \"none\",:width => \"100%\"))), Dict{String,Tuple{Observables.AbstractObservable,Union{Nothing, Bool}}}(\"curriculum-data\" => (Observable{Dict{String,Any}} with 1 listeners. Value:\n",
       "Dict{String,Any}(\"options\" => Dict{String,Any}(\"hideTerms\" => false,\"edit\" => false),\"curriculum\" => Dict{String,Any}(\"name\" => \"Electrical Engineering\",\"dp_name\" => \"2017-18 Plan\",\"curriculum_terms\" => Dict{String,Any}[Dict(\"name\" => \"Term 1\",\"curriculum_items\" => Dict{String,Any}[Dict(\"curriculum_requisites\" => Dict{String,Any}[],\"name\" => \" \",\"metrics\" => Dict{String,Any}(\"centrality\" => 0,\"complexity\" => 9.0,\"blocking factor\" => 4,\"delay factor\" => 5.0),\"nameSub\" => \"CHEM 1310\",\"id\" => 1,\"credits\" => 4,\"nameCanonical\" => \"\"), Dict(\"curriculum_requisites\" => Dict{String,Any}[],\"name\" => \" \",\"metrics\" => Dict{String,Any}(\"centrality\" => 0,\"complexity\" => 23.0,\"blocking factor\" => 15,\"delay factor\" => 8.0),\"nameSub\" => \"MATH 1551\",\"id\" => 2,\"credits\" => 2,\"nameCanonical\" => \"\"), Dict(\"curriculum_requisites\" => Dict{String,Any}[],\"name\" => \" \",\"metrics\" => Dict{String,Any}(\"centrality\" => 0,\"complexity\" => 16.0,\"blocking factor\" => 10,\"delay factor\" => 6.0),\"nameSub\" => \"MATH 1553\",\"id\" => 3,\"credits\" => 2,\"nameCanonical\" => \"\"), Dict(\"curriculum_requisites\" => Dict{String,Any}[],\"name\" => \" \",\"metrics\" => Dict{String,Any}(\"centrality\" => 0,\"complexity\" => 17.0,\"blocking factor\" => 10,\"delay factor\" => 7.0),\"nameSub\" => \"CS 1371\",\"id\" => 4,\"credits\" => 3,\"nameCanonical\" => \"\"), Dict(\"curriculum_requisites\" => Dict{String,Any}[],\"name\" => \" \",\"metrics\" => Dict{String,Any}(\"centrality\" => 0,\"complexity\" => 1.0,\"blocking factor\" => 0,\"delay factor\" => 1.0),\"nameSub\" => \"Wellness Elective\",\"id\" => 5,\"credits\" => 3,\"nameCanonical\" => \"\"), Dict(\"curriculum_requisites\" => Dict{String,Any}[],\"name\" => \" \",\"metrics\" => Dict{String,Any}(\"centrality\" => 0,\"complexity\" => 3.0,\"blocking factor\" => 1,\"delay factor\" => 2.0),\"nameSub\" => \"ENGL 1101\",\"id\" => 6,\"credits\" => 3,\"nameCanonical\" => \"\")],\"id\" => 1), Dict(\"name\" => \"Term 2\",\"curriculum_items\" => Dict{String,Any}[Dict(\"curriculum_requisites\" => Dict{String,Any}[Dict(\"source_id\" => 2,\"target_id\" => 7,\"type\" => \"CurriculumPrerequisite\")],\"name\" => \" \",\"metrics\" => Dict{String,Any}(\"centrality\" => 29,\"complexity\" => 17.0,\"blocking factor\" => 9,\"delay factor\" => 8.0),\"nameSub\" => \"PHYS 2211\",\"id\" => 7,\"credits\" => 4,\"nameCanonical\" => \"\"), Dict(\"curriculum_requisites\" => Dict{String,Any}[Dict(\"source_id\" => 2,\"target_id\" => 8,\"type\" => \"CurriculumPrerequisite\")],\"name\" => \" \",\"metrics\" => Dict{String,Any}(\"centrality\" => 34,\"complexity\" => 17.0,\"blocking factor\" => 10,\"delay factor\" => 7.0),\"nameSub\" => \"MATH 1552\",\"id\" => 8,\"credits\" => 4,\"nameCanonical\" => \"\"), Dict(\"curriculum_requisites\" => Dict{String,Any}[Dict(\"source_id\" => 4,\"target_id\" => 9,\"type\" => \"CurriculumPrerequisite\")],\"name\" => \" \",\"metrics\" => Dict{String,Any}(\"centrality\" => 11,\"complexity\" => 13.0,\"blocking factor\" => 6,\"delay factor\" => 7.0),\"nameSub\" => \"ECE 2020\",\"id\" => 9,\"credits\" => 3,\"nameCanonical\" => \"\"), Dict(\"curriculum_requisites\" => Dict{String,Any}[],\"name\" => \" \",\"metrics\" => Dict{String,Any}(\"centrality\" => 0,\"complexity\" => 1.0,\"blocking factor\" => 0,\"delay factor\" => 1.0),\"nameSub\" => \"History/Government Elective\",\"id\" => 10,\"credits\" => 3,\"nameCanonical\" => \"\"), Dict(\"curriculum_requisites\" => Dict{String,Any}[Dict(\"source_id\" => 6,\"target_id\" => 11,\"type\" => \"CurriculumPrerequisite\")],\"name\" => \" \",\"metrics\" => Dict{String,Any}(\"centrality\" => 0,\"complexity\" => 2.0,\"blocking factor\" => 0,\"delay factor\" => 2.0),\"nameSub\" => \"ENGL 1102\",\"id\" => 11,\"credits\" => 3,\"nameCanonical\" => \"\")],\"id\" => 2), Dict(\"name\" => \"Term 3\",\"curriculum_items\" => Dict{String,Any}[Dict(\"curriculum_requisites\" => Dict{String,Any}[Dict(\"source_id\" => 7,\"target_id\" => 12,\"type\" => \"CurriculumPrerequisite\")],\"name\" => \" \",\"metrics\" => Dict{String,Any}(\"centrality\" => 29,\"complexity\" => 16.0,\"blocking factor\" => 8,\"delay factor\" => 8.0),\"nameSub\" => \"PHYS 2212\",\"id\" => 12,\"credits\" => 4,\"nameCanonical\" => \"\"), Dict(\"curriculum_requisites\" => Dict{String,Any}[Dict(\"source_id\" => 3,\"target_id\" => 13,\"type\" => \"CurriculumPrerequisite\"), Dict(\"source_id\" => 8,\"target_id\" => 13,\"type\" => \"CurriculumPrerequisite\")],\"name\" => \" \",\"metrics\" => Dict{String,Any}(\"centrality\" => 0,\"complexity\" => 3.0,\"blocking factor\" => 0,\"delay factor\" => 3.0),\"nameSub\" => \"MATH 2552\",\"id\" => 13,\"credits\" => 4,\"nameCanonical\" => \"\"), Dict(\"curriculum_requisites\" => Dict{String,Any}[Dict(\"source_id\" => 4,\"target_id\" => 14,\"type\" => \"CurriculumPrerequisite\"), Dict(\"source_id\" => 3,\"target_id\" => 14,\"type\" => \"CurriculumPrerequisite\"), Dict(\"source_id\" => 8,\"target_id\" => 14,\"type\" => \"CurriculumPrerequisite\")],\"name\" => \" \",\"metrics\" => Dict{String,Any}(\"centrality\" => 32,\"complexity\" => 10.0,\"blocking factor\" => 4,\"delay factor\" => 6.0),\"nameSub\" => \"ECE 2026\",\"id\" => 14,\"credits\" => 3,\"nameCanonical\" => \"\"), Dict(\"curriculum_requisites\" => Dict{String,Any}[],\"name\" => \" \",\"metrics\" => Dict{String,Any}(\"centrality\" => 0,\"complexity\" => 5.0,\"blocking factor\" => 2,\"delay factor\" => 3.0),\"nameSub\" => \"Economics Elective\",\"id\" => 15,\"credits\" => 3,\"nameCanonical\" => \"\"), Dict(\"curriculum_requisites\" => Dict{String,Any}[],\"name\" => \" \",\"metrics\" => Dict{String,Any}(\"centrality\" => 0,\"complexity\" => 1.0,\"blocking factor\" => 0,\"delay factor\" => 1.0),\"nameSub\" => \"Social Sciences Elective\",\"id\" => 16,\"credits\" => 3,\"nameCanonical\" => \"\")],\"id\" => 3), Dict(\"name\" => \"Term 4\",\"curriculum_items\" => Dict{String,Any}[Dict(\"curriculum_requisites\" => Dict{String,Any}[],\"name\" => \" \",\"metrics\" => Dict{String,Any}(\"centrality\" => 0,\"complexity\" => 1.0,\"blocking factor\" => 0,\"delay factor\" => 1.0),\"nameSub\" => \"Science Elective\",\"id\" => 17,\"credits\" => 3,\"nameCanonical\" => \"\"), Dict(\"curriculum_requisites\" => Dict{String,Any}[Dict(\"source_id\" => 3,\"target_id\" => 18,\"type\" => \"CurriculumPrerequisite\"), Dict(\"source_id\" => 8,\"target_id\" => 18,\"type\" => \"CurriculumPrerequisite\")],\"name\" => \" \",\"metrics\" => Dict{String,Any}(\"centrality\" => 35,\"complexity\" => 13.0,\"blocking factor\" => 6,\"delay factor\" => 7.0),\"nameSub\" => \"MATH 2551\",\"id\" => 18,\"credits\" => 4,\"nameCanonical\" => \"\"), Dict(\"curriculum_requisites\" => Dict{String,Any}[Dict(\"source_id\" => 12,\"target_id\" => 19,\"type\" => \"CurriculumPrerequisite\")],\"name\" => \" \",\"metrics\" => Dict{String,Any}(\"centrality\" => 29,\"complexity\" => 15.0,\"blocking factor\" => 7,\"delay factor\" => 8.0),\"nameSub\" => \"ECE 2040\",\"id\" => 19,\"credits\" => 3,\"nameCanonical\" => \"\"), Dict(\"curriculum_requisites\" => Dict{String,Any}[Dict(\"source_id\" => 9,\"target_id\" => 20,\"type\" => \"CurriculumPrerequisite\")],\"name\" => \" \",\"metrics\" => Dict{String,Any}(\"centrality\" => 11,\"complexity\" => 12.0,\"blocking factor\" => 5,\"delay factor\" => 7.0),\"nameSub\" => \"ECE 2031\",\"id\" => 20,\"credits\" => 2,\"nameCanonical\" => \"\"), Dict(\"curriculum_requisites\" => Dict{String,Any}[Dict(\"source_id\" => 20,\"target_id\" => 21,\"type\" => \"CurriculumCorequisite\")],\"name\" => \" \",\"metrics\" => Dict{String,Any}(\"centrality\" => 0,\"complexity\" => 4.0,\"blocking factor\" => 0,\"delay factor\" => 4.0),\"nameSub\" => \"Programming Elective\",\"id\" => 21,\"credits\" => 3,\"nameCanonical\" => \"\")],\"id\" => 4), Dict(\"name\" => \"Term 5\",\"curriculum_items\" => Dict{String,Any}[Dict(\"curriculum_requisites\" => Dict{String,Any}[],\"name\" => \" \",\"metrics\" => Dict{String,Any}(\"centrality\" => 0,\"complexity\" => 1.0,\"blocking factor\" => 0,\"delay factor\" => 1.0),\"nameSub\" => \"Humanities Elective\",\"id\" => 22,\"credits\" => 3,\"nameCanonical\" => \"\"), Dict(\"curriculum_requisites\" => Dict{String,Any}[Dict(\"source_id\" => 20,\"target_id\" => 23,\"type\" => \"CurriculumPrerequisite\"), Dict(\"source_id\" => 1,\"target_id\" => 23,\"type\" => \"CurriculumPrerequisite\"), Dict(\"source_id\" => 19,\"target_id\" => 23,\"type\" => \"CurriculumPrerequisite\"), Dict(\"source_id\" => 18,\"target_id\" => 23,\"type\" => \"CurriculumPrerequisite\")],\"name\" => \" \",\"metrics\" => Dict{String,Any}(\"centrality\" => 33,\"complexity\" => 11.0,\"blocking factor\" => 3,\"delay factor\" => 8.0),\"nameSub\" => \"ECE 3040\",\"id\" => 23,\"credits\" => 4,\"nameCanonical\" => \"\"), Dict(\"curriculum_requisites\" => Dict{String,Any}[Dict(\"source_id\" => 23,\"target_id\" => 24,\"type\" => \"CurriculumCorequisite\")],\"name\" => \" \",\"metrics\" => Dict{String,Any}(\"centrality\" => 33,\"complexity\" => 10.0,\"blocking factor\" => 2,\"delay factor\" => 8.0),\"nameSub\" => \"ECE 3043\",\"id\" => 24,\"credits\" => 2,\"nameCanonical\" => \"\"), Dict(\"curriculum_requisites\" => Dict{String,Any}[Dict(\"source_id\" => 14,\"target_id\" => 25,\"type\" => \"CurriculumPrerequisite\"), Dict(\"source_id\" => 19,\"target_id\" => 25,\"type\" => \"CurriculumPrerequisite\"), Dict(\"source_id\" => 18,\"target_id\" => 25,\"type\" => \"CurriculumPrerequisite\")],\"name\" => \" \",\"metrics\" => Dict{String,Any}(\"centrality\" => 34,\"complexity\" => 9.0,\"blocking factor\" => 2,\"delay factor\" => 7.0),\"nameSub\" => \"ECE 3025\",\"id\" => 25,\"credits\" => 3,\"nameCanonical\" => \"\"), Dict(\"curriculum_requisites\" => Dict{String,Any}[Dict(\"source_id\" => 14,\"target_id\" => 26,\"type\" => \"CurriculumPrerequisite\"), Dict(\"source_id\" => 19,\"target_id\" => 26,\"type\" => \"CurriculumPrerequisite\")],\"name\" => \" \",\"metrics\" => Dict{String,Any}(\"centrality\" => 23,\"complexity\" => 9.0,\"blocking factor\" => 2,\"delay factor\" => 7.0),\"nameSub\" => \"ECE 3084\",\"id\" => 26,\"credits\" => 3,\"nameCanonical\" => \"\"), Dict(\"curriculum_requisites\" => Dict{String,Any}[],\"name\" => \" \",\"metrics\" => Dict{String,Any}(\"centrality\" => 0,\"complexity\" => 1.0,\"blocking factor\" => 0,\"delay factor\" => 1.0),\"nameSub\" => \"Social Sciences Elective\",\"id\" => 27,\"credits\" => 3,\"nameCanonical\" => \"\")],\"id\" => 5), Dict(\"name\" => \"Term 6\",\"curriculum_items\" => Dict{String,Any}[Dict(\"curriculum_requisites\" => Dict{String,Any}[],\"name\" => \" \",\"metrics\" => Dict{String,Any}(\"centrality\" => 0,\"complexity\" => 1.0,\"blocking factor\" => 0,\"delay factor\" => 1.0),\"nameSub\" => \"ECE/Approved Engineering Elective\",\"id\" => 28,\"credits\" => 3,\"nameCanonical\" => \"\"), Dict(\"curriculum_requisites\" => Dict{String,Any}[Dict(\"source_id\" => 18,\"target_id\" => 29,\"type\" => \"CurriculumPrerequisite\")],\"name\" => \" \",\"metrics\" => Dict{String,Any}(\"centrality\" => 11,\"complexity\" => 8.0,\"blocking factor\" => 2,\"delay factor\" => 6.0),\"nameSub\" => \"Prob/Stat ECE/App/Engr Elective\",\"id\" => 29,\"credits\" => 3,\"nameCanonical\" => \"\"), Dict(\"curriculum_requisites\" => Dict{String,Any}[],\"name\" => \" \",\"metrics\" => Dict{String,Any}(\"centrality\" => 0,\"complexity\" => 1.0,\"blocking factor\" => 0,\"delay factor\" => 1.0),\"nameSub\" => \"ECE Elective\",\"id\" => 30,\"credits\" => 3,\"nameCanonical\" => \"\"), Dict(\"curriculum_requisites\" => Dict{String,Any}[],\"name\" => \" \",\"metrics\" => Dict{String,Any}(\"centrality\" => 0,\"complexity\" => 1.0,\"blocking factor\" => 0,\"delay factor\" => 1.0),\"nameSub\" => \"ECE Elective\",\"id\" => 31,\"credits\" => 3,\"nameCanonical\" => \"\"), Dict(\"curriculum_requisites\" => Dict{String,Any}[Dict(\"source_id\" => 19,\"target_id\" => 32,\"type\" => \"CurriculumPrerequisite\")],\"name\" => \" \",\"metrics\" => Dict{String,Any}(\"centrality\" => 7,\"complexity\" => 9.0,\"blocking factor\" => 2,\"delay factor\" => 7.0),\"nameSub\" => \"ECE 3072\",\"id\" => 32,\"credits\" => 3,\"nameCanonical\" => \"\"), Dict(\"curriculum_requisites\" => Dict{String,Any}[],\"name\" => \" \",\"metrics\" => Dict{String,Any}(\"centrality\" => 0,\"complexity\" => 1.0,\"blocking factor\" => 0,\"delay factor\" => 1.0),\"nameSub\" => \"Approved Elective\",\"id\" => 33,\"credits\" => 3,\"nameCanonical\" => \"\")],\"id\" => 6), Dict(\"name\" => \"Term 7\",\"curriculum_items\" => Dict{String,Any}[Dict(\"curriculum_requisites\" => Dict{String,Any}[],\"name\" => \" \",\"metrics\" => Dict{String,Any}(\"centrality\" => 0,\"complexity\" => 1.0,\"blocking factor\" => 0,\"delay factor\" => 1.0),\"nameSub\" => \"Engineering Elective\",\"id\" => 34,\"credits\" => 3,\"nameCanonical\" => \"\"), Dict(\"curriculum_requisites\" => Dict{String,Any}[],\"name\" => \" \",\"metrics\" => Dict{String,Any}(\"centrality\" => 0,\"complexity\" => 1.0,\"blocking factor\" => 0,\"delay factor\" => 1.0),\"nameSub\" => \"ECE Elective\",\"id\" => 35,\"credits\" => 3,\"nameCanonical\" => \"\"), Dict(\"curriculum_requisites\" => Dict{String,Any}[Dict(\"source_id\" => 26,\"target_id\" => 36,\"type\" => \"CurriculumPrerequisite\"), Dict(\"source_id\" => 25,\"target_id\" => 36,\"type\" => \"CurriculumPrerequisite\"), Dict(\"source_id\" => 32,\"target_id\" => 36,\"type\" => \"CurriculumPrerequisite\"), Dict(\"source_id\" => 29,\"target_id\" => 36,\"type\" => \"CurriculumPrerequisite\"), Dict(\"source_id\" => 15,\"target_id\" => 36,\"type\" => \"CurriculumPrerequisite\"), Dict(\"source_id\" => 24,\"target_id\" => 36,\"type\" => \"CurriculumPrerequisite\")],\"name\" => \" \",\"metrics\" => Dict{String,Any}(\"centrality\" => 111,\"complexity\" => 9.0,\"blocking factor\" => 1,\"delay factor\" => 8.0),\"nameSub\" => \"ECE 4011\",\"id\" => 36,\"credits\" => 2,\"nameCanonical\" => \"\"), Dict(\"curriculum_requisites\" => Dict{String,Any}[],\"name\" => \" \",\"metrics\" => Dict{String,Any}(\"centrality\" => 0,\"complexity\" => 1.0,\"blocking factor\" => 0,\"delay factor\" => 1.0),\"nameSub\" => \"ECE 4XXX Elective\",\"id\" => 37,\"credits\" => 3,\"nameCanonical\" => \"\"), Dict(\"curriculum_requisites\" => Dict{String,Any}[],\"name\" => \" \",\"metrics\" => Dict{String,Any}(\"centrality\" => 0,\"complexity\" => 1.0,\"blocking factor\" => 0,\"delay factor\" => 1.0),\"nameSub\" => \"ECE 4XXX Lab Elective\",\"id\" => 38,\"credits\" => 3,\"nameCanonical\" => \"\"), Dict(\"curriculum_requisites\" => Dict{String,Any}[],\"name\" => \" \",\"metrics\" => Dict{String,Any}(\"centrality\" => 0,\"complexity\" => 1.0,\"blocking factor\" => 0,\"delay factor\" => 1.0),\"nameSub\" => \"Approved Elective\",\"id\" => 39,\"credits\" => 3,\"nameCanonical\" => \"\")],\"id\" => 7), Dict(\"name\" => \"Term 8\",\"curriculum_items\" => Dict{String,Any}[Dict(\"curriculum_requisites\" => Dict{String,Any}[],\"name\" => \" \",\"metrics\" => Dict{String,Any}(\"centrality\" => 0,\"complexity\" => 1.0,\"blocking factor\" => 0,\"delay factor\" => 1.0),\"nameSub\" => \"Humanities Elective\",\"id\" => 40,\"credits\" => 3,\"nameCanonical\" => \"\"), Dict(\"curriculum_requisites\" => Dict{String,Any}[Dict(\"source_id\" => 36,\"target_id\" => 41,\"type\" => \"CurriculumPrerequisite\")],\"name\" => \" \",\"metrics\" => Dict{String,Any}(\"centrality\" => 0,\"complexity\" => 8.0,\"blocking factor\" => 0,\"delay factor\" => 8.0),\"nameSub\" => \"ECE 4012\",\"id\" => 41,\"credits\" => 3,\"nameCanonical\" => \"\"), Dict(\"curriculum_requisites\" => Dict{String,Any}[],\"name\" => \" \",\"metrics\" => Dict{String,Any}(\"centrality\" => 0,\"complexity\" => 1.0,\"blocking factor\" => 0,\"delay factor\" => 1.0),\"nameSub\" => \"ECE 4XXX Elective\",\"id\" => 42,\"credits\" => 3,\"nameCanonical\" => \"\"), Dict(\"curriculum_requisites\" => Dict{String,Any}[],\"name\" => \" \",\"metrics\" => Dict{String,Any}(\"centrality\" => 0,\"complexity\" => 1.0,\"blocking factor\" => 0,\"delay factor\" => 1.0),\"nameSub\" => \"Approved Elective\",\"id\" => 43,\"credits\" => 3,\"nameCanonical\" => \"\"), Dict(\"curriculum_requisites\" => Dict{String,Any}[],\"name\" => \" \",\"metrics\" => Dict{String,Any}(\"centrality\" => 0,\"complexity\" => 1.0,\"blocking factor\" => 0,\"delay factor\" => 1.0),\"nameSub\" => \"Approved Elective\",\"id\" => 44,\"credits\" => 3,\"nameCanonical\" => \"\")],\"id\" => 8)],\"institution\" => \"Georgia Institute of Technology\")), nothing)), Set{String}(), nothing, WebIO.Asset[], Dict{Any,Any}(), WebIO.ConnectionPool(Channel{Any}(sz_max:32,sz_curr:0), Set{WebIO.AbstractConnection}(), Base.GenericCondition{Base.AlwaysLockedST}(Base.InvasiveLinkedList{Task}(Task (runnable) @0x000000011bc23190, Task (runnable) @0x000000011bc23190), Base.AlwaysLockedST(1))), WebIO.JSString[])"
      ]
     },
     "execution_count": 19,
     "metadata": {
      "application/vnd.webio.node+json": {
       "kernelId": "6d7eb97f-3f11-4cd9-beb6-eb399b664b2d"
      }
     },
     "output_type": "execute_result"
    }
   ],
   "source": [
    "EE_degree_plan = read_csv(\"Ga_Tech-EE.csv\")\n",
    "visualize(EE_degree_plan, notebook=true, scale=0.8)"
   ]
  },
  {
   "cell_type": "code",
   "execution_count": 20,
   "metadata": {},
   "outputs": [
    {
     "data": {
      "text/plain": [
       "Dict{String,Any} with 8 entries:\n",
       "  \"total credit hours\"         => 134\n",
       "  \"avg. credits per term\"      => 16.75\n",
       "  \"min. credits in a term\"     => 15\n",
       "  \"term credit hour std. dev.\" => 1.08972\n",
       "  \"number of terms\"            => 8\n",
       "  \"max. credits in a term\"     => 18\n",
       "  \"min. credit term\"           => 4\n",
       "  \"max. credit term\"           => 5"
      ]
     },
     "execution_count": 20,
     "metadata": {},
     "output_type": "execute_result"
    }
   ],
   "source": [
    "basic_metrics(EE_degree_plan)\n",
    "EE_degree_plan.metrics"
   ]
  },
  {
   "cell_type": "markdown",
   "metadata": {},
   "source": [
    "### 2.2 Creating the Student Cohort\n",
    "\n",
    "The following command will create an inital cohort of students `n` using a simple enrollment model. Specifically, with this simple model, all students are assumed equally likely (or unlikely) to pass a given class according the course pass rate probability model."
   ]
  },
  {
   "cell_type": "code",
   "execution_count": 6,
   "metadata": {},
   "outputs": [],
   "source": [
    "enrollment_model = Enrollment  # use the Enrollment module to determine if/when student may enroll in a course\n",
    "stopouts = true  # assume that student may stop out of the cohort\n",
    "n = 1000   # student cohort size will be 100\n",
    "students = simple_students(n);  # create a student cohort"
   ]
  },
  {
   "cell_type": "markdown",
   "metadata": {},
   "source": [
    "### 2.3 The Course Performance Model\n",
    "\n",
    "Next we will set the model that will be used to determine whether or not a student passes a course. We will use actual pass/fail rates computed using historical data for the courses in the degree plan shown above. "
   ]
  },
  {
   "cell_type": "code",
   "execution_count": 7,
   "metadata": {},
   "outputs": [],
   "source": [
    "performance_model = PassRate\n",
    "course_passrate = 0.9  # use if a course is not contained in the CSV file\n",
    "real_passrate = true  # use the actual pass rates, rather than course_passrate for all courses\n",
    "set_passrates_from_csv(AE_degree_plan.curriculum.courses, \"./Student_Grades_sp17_to_fall19.csv\", course_passrate)"
   ]
  },
  {
   "cell_type": "markdown",
   "metadata": {},
   "source": [
    "Note: A more realistic model for predicting student performance could be used here. Specifically, a more realistic model might:\n",
    "\n",
    "- take student demographics into account, including the major they are in,\n",
    "- take prior grades into account when predicting future grades,\n",
    "- take into account factors that influence student stopout, e.g., academic standing, GPA, unment need, etc.\n",
    "\n",
    "Learning the model pararmeters using actual student data would improve the fidelity of the simulation."
   ]
  },
  {
   "cell_type": "markdown",
   "metadata": {},
   "source": [
    "### 2.4 Setting the Simulation Parameters"
   ]
  },
  {
   "cell_type": "code",
   "execution_count": 8,
   "metadata": {},
   "outputs": [],
   "source": [
    "max_credits = 18  # the maximum number of credit hours a student may enroll in during a semester\n",
    "duration_lock = false # rather than simulating until no students are left in the cohort, run for a fixed number of terms\n",
    "num_terms = 12  # the maximum number of terms in the simulation\n",
    "course_attempt_limit = 2;  # number of times a student may attempt a course"
   ]
  },
  {
   "cell_type": "markdown",
   "metadata": {},
   "source": [
    "### 2.5 Running the Simulation \n",
    "The `simulation` function is used to execute the simulation.  Depending upon how many students are in the cohort, this may take some time to run."
   ]
  },
  {
   "cell_type": "code",
   "execution_count": 9,
   "metadata": {},
   "outputs": [],
   "source": [
    "simulation = simulate(AE_degree_plan, course_attempt_limit, students,\n",
    "                      max_credits = max_credits,\n",
    "                      performance_model = performance_model,\n",
    "                      enrollment_model = enrollment_model,\n",
    "                      duration = num_terms,\n",
    "                      duration_lock = duration_lock,\n",
    "                      stopouts = stopouts);"
   ]
  },
  {
   "cell_type": "markdown",
   "metadata": {},
   "source": [
    "In order to view the results of the simulation, use the `simulation_report` function:"
   ]
  },
  {
   "cell_type": "code",
   "execution_count": 10,
   "metadata": {
    "scrolled": false
   },
   "outputs": [
    {
     "name": "stdout",
     "output_type": "stream",
     "text": [
      "\n",
      "\u001b[0m\u001b[1m------------ Simulation Report ------------\u001b[22m\n",
      "Aerospace Engineering, BS -- 2019-20 Degree Plan\n",
      "\n",
      "-------- Simulation Statistics --------\n",
      "Number of terms: 12\n",
      "Max Credits per Term: 18\n",
      "Max Course Attempts: 2\n",
      "Number of Students: 2000\n",
      "Preset Course Pass Rates: 90.0%\n",
      "\n",
      "-------- Graduation Statistics --------\n",
      "Number of Students Graduated: 563\n",
      "Graduation Rate: 28.15%\n",
      "Term Graduation Rates: \n",
      "[0.0, 0.0, 0.0, 0.0, 0.0, 0.0, 0.0, 0.0175, 0.17, 0.2725, 0.2815, 0.0]\n",
      "Average time to degree: 9.365896980461812 terms\n",
      "\n",
      "-------- Stop out Statistics --------\n",
      "Number of Students Stopped Out (Stopout Model Prediction + Reached Max Attempts): 1437\n",
      "Number of Students Reaching Max Attempts: 975\n",
      "Stop-out Rate: 71.85%\n",
      "Cumulative Term Stop-out Rates (including reached max course attempts students): \n",
      "[0.086, 0.314, 0.482, 0.583, 0.6385, 0.668, 0.681, 0.699, 0.7095, 0.7175, 0.7185, 0.0]\n",
      "\n",
      "Cumulative Term Stop-out Rates (excluding reaching max course attempts students): \n",
      "[0.086, 0.176, 0.194, 0.215, 0.224, 0.228, 0.231, 0.231, 0.232, 0.232, 0.231, 0.0]\n",
      "\n",
      "Cumulative Term Reached Max Course Attempts Rates: \n",
      "[0.0, 0.138, 0.288, 0.368, 0.414, 0.44, 0.45, 0.468, 0.478, 0.486, 0.488, 0.0]\n",
      "\n",
      "\n",
      "-------- Pass Rate of Each Course (computed from Student Grades CSV file) --------\n",
      "\n",
      "│ Row │ Courses                                         │ Pass_Rates │ Num_Students_Passes │ Num_Students_Taken │\n",
      "├─────┼─────────────────────────────────────────────────┼────────────┼─────────────────────┼────────────────────┤\n",
      "│ 1   │ MATH 125 Calculus I w/ Applications             │ 80.8%      │ 724                 │ 896                │\n",
      "│ 2   │ CHEM 151 Gen Chemistry I                        │ 76.1%      │ 3671                │ 4823               │\n",
      "│ 3   │ ENGL 101 First-year Comp.                       │ 88.9%      │ 8949                │ 10064              │\n",
      "│ 4   │ ENGR 102 Intro to Engineering                   │ 90.0%      │ N/A                 │ N/A                │\n",
      "│ 5   │ Tier I General Ed.                              │ 82.1%      │ 41165               │ 50147              │\n",
      "│ 6   │ MATH 129 Calculus II                            │ 74.7%      │ 2160                │ 2893               │\n",
      "│ 7   │ AME 105 Intro. to MATLAB I                      │ 88.9%      │ 547                 │ 615                │\n",
      "│ 8   │ PHYS 141 Intro Mechanics                        │ 74.4%      │ 1301                │ 1748               │\n",
      "│ 9   │ ENGL 102 First-year Comp.                       │ 86.3%      │ 6615                │ 7666               │\n",
      "│ 10  │ ECE 175 Programming for Eng. Apps.              │ 74.9%      │ 791                 │ 1056               │\n",
      "│ 11  │ Tier I General Ed. 1                            │ 82.1%      │ 41165               │ 50147              │\n",
      "│ 12  │ CE 214 Statics                                  │ 86.5%      │ 652                 │ 754                │\n",
      "│ 13  │ MATH  223 Vector Calculus                       │ 74.7%      │ 1621                │ 2169               │\n",
      "│ 14  │ PHYS 241 Electricity & Magnetism                │ 81.0%      │ 705                 │ 870                │\n",
      "│ 15  │ AME  205 Intro. To MATLAB II                    │ 90.2%      │ 634                 │ 703                │\n",
      "│ 16  │ AME 211 Comp. Aided Drafting & Manufacturing    │ 79.5%      │ 31                  │ 39                 │\n",
      "│ 17  │ Tier I General Ed. 2                            │ 82.1%      │ 41165               │ 50147              │\n",
      "│ 18  │ AME 230 Thermodynamics                          │ 88.4%      │ 382                 │ 432                │\n",
      "│ 19  │ AME 250 Dynamics                                │ 86.8%      │ 348                 │ 401                │\n",
      "│ 20  │ MATH 254 Intro. to ODEs                         │ 81.1%      │ 843                 │ 1040               │\n",
      "│ 21  │ AME 220 Intro. to Aerospace Eng.                │ 88.0%      │ 103                 │ 117                │\n",
      "│ 22  │ Tier I General Ed. 3                            │ 82.1%      │ 41165               │ 50147              │\n",
      "│ 23  │ AME 320 Aerodynamics                            │ 94.4%      │ 134                 │ 142                │\n",
      "│ 24  │ AME  324A Mech. Behavior of Eng. Materials.     │ 92.1%      │ 304                 │ 330                │\n",
      "│ 25  │ AME 301 Engineering Analysis                    │ 89.5%      │ 392                 │ 438                │\n",
      "│ 26  │ AME 300 Instrumentation Lab.                    │ 98.4%      │ 302                 │ 307                │\n",
      "│ 27  │ MSE 331R Fund. of Materials for Engineers       │ 97.3%      │ 253                 │ 260                │\n",
      "│ 28  │ AME 324L Mech. of Materials Lab.                │ 92.2%      │ 317                 │ 344                │\n",
      "│ 29  │ AME 324B Eng. Component Design                  │ 93.1%      │ 244                 │ 262                │\n",
      "│ 30  │ AME 321 Aircraft Performance                    │ 90.0%      │ 54                  │ 60                 │\n",
      "│ 31  │ AME 323 Gasdynamics                             │ 92.0%      │ 69                  │ 75                 │\n",
      "│ 32  │ AME 302 Numerical Methods                       │ 94.9%      │ 242                 │ 255                │\n",
      "│ 33  │ AME 313 Aero./Mech. Eng. Lab                    │ 99.1%      │ 552                 │ 557                │\n",
      "│ 34  │ Tier II General Ed. 1                           │ 82.1%      │ 41165               │ 50147              │\n",
      "│ 35  │ AME 401 Senior Aerospace Lab.                   │ 100.0%     │ 103                 │ 103                │\n",
      "│ 36  │ AME 420 Aerospace Conceptual Design             │ 98.3%      │ 57                  │ 58                 │\n",
      "│ 37  │ AME 425 Aerospace Propulsion                    │ 97.0%      │ 64                  │ 66                 │\n",
      "│ 38  │ AME 427 Stability and Control of Aero. Vehicles │ 94.0%      │ 47                  │ 50                 │\n",
      "│ 39  │ AME 457 Orbital Mechanicans and Space Flt.      │ 98.6%      │ 69                  │ 70                 │\n",
      "│ 40  │ AME 495S Senior Colloquium                      │ 100.0%     │ 128                 │ 128                │\n",
      "│ 41  │ AME 422 Aerospace Eng.Design                    │ 100.0%     │ 34                  │ 34                 │\n",
      "│ 42  │ AME 431 Num. Meth. in Fluid Mech. & Heat Xfer   │ 90.9%      │ 10                  │ 11                 │\n",
      "│ 43  │ Technical Elective 1                            │ 90.0%      │ N/A                 │ N/A                │\n",
      "│ 44  │ Technical Elective 2                            │ 90.0%      │ N/A                 │ N/A                │\n",
      "│ 45  │ Tier II General Ed. 2                           │ 82.1%      │ 41165               │ 50147              │\n",
      "\n",
      "-------- Course Pass Rates by Term --------\n",
      "\n",
      "│ Row │ COUSE                                   │ TERM1  │ TERM2  │ TERM3  │\n",
      "├─────┼─────────────────────────────────────────┼────────┼────────┼────────┤\n",
      "│ 1   │ Calculus I w/ Applications              │ 80.65% │ 94.8%  │ 94.8%  │\n",
      "│ 2   │ Gen Chemistry I                         │ 75.65% │ 92.25% │ 92.25% │\n",
      "│ 3   │ First-year Comp.                        │ 88.2%  │ 98.35% │ 98.35% │\n",
      "│ 4   │ Intro to Engineering                    │ 90.65% │ 98.65% │ 98.65% │\n",
      "│ 5   │ Tier I General Ed.                      │ 82.05% │ 95.45% │ 95.45% │\n",
      "│ 6   │ Calculus II                             │ 0.0%   │ 54.0%  │ 74.8%  │\n",
      "│ 7   │ Intro. to MATLAB I                      │ 0.0%   │ 65.35% │ 80.25% │\n",
      "│ 8   │ Intro Mechanics                         │ 0.0%   │ 55.2%  │ 74.45% │\n",
      "│ 9   │ First-year Comp.                        │ 0.0%   │ 69.4%  │ 82.6%  │\n",
      "│ 10  │ Programming for Eng. Apps.              │ 0.0%   │ 64.35% │ 79.95% │\n",
      "│ 11  │ Tier I General Ed. 1                    │ 0.0%   │ 49.35% │ 73.4%  │\n",
      "│ 12  │ Statics                                 │ 0.0%   │ 0.0%   │ 26.9%  │\n",
      "│ 13  │ Vector Calculus                         │ 0.0%   │ 0.0%   │ 32.2%  │\n",
      "│ 14  │ Electricity & Magnetism                 │ 0.0%   │ 0.0%   │ 23.95% │\n",
      "│ 15  │ Intro. To MATLAB II                     │ 0.0%   │ 0.0%   │ 46.25% │\n",
      "│ 16  │ Comp. Aided Drafting & Manufacturing    │ 0.0%   │ 10.55% │ 53.05% │\n",
      "│ 17  │ Tier I General Ed. 2                    │ 0.0%   │ 7.75%  │ 38.2%  │\n",
      "│ 18  │ Thermodynamics                          │ 0.0%   │ 0.0%   │ 6.5%   │\n",
      "│ 19  │ Dynamics                                │ 0.0%   │ 0.0%   │ 0.0%   │\n",
      "│ 20  │ Intro. to ODEs                          │ 0.0%   │ 0.0%   │ 0.0%   │\n",
      "│ 21  │ Intro. to Aerospace Eng.                │ 0.0%   │ 0.0%   │ 0.0%   │\n",
      "│ 22  │ Tier I General Ed. 3                    │ 0.0%   │ 0.0%   │ 13.95% │\n",
      "│ 23  │ Aerodynamics                            │ 0.0%   │ 0.0%   │ 0.0%   │\n",
      "│ 24  │ Mech. Behavior of Eng. Materials.       │ 0.0%   │ 0.0%   │ 0.0%   │\n",
      "│ 25  │ Engineering Analysis                    │ 0.0%   │ 0.0%   │ 0.0%   │\n",
      "│ 26  │ Instrumentation Lab.                    │ 0.0%   │ 0.0%   │ 2.0%   │\n",
      "│ 27  │ Fund. of Materials for Engineers        │ 0.0%   │ 0.0%   │ 0.0%   │\n",
      "│ 28  │ Mech. of Materials Lab.                 │ 91.5%  │ 96.05% │ 97.1%  │\n",
      "│ 29  │ Eng. Component Design                   │ 0.0%   │ 0.0%   │ 0.0%   │\n",
      "│ 30  │ Aircraft Performance                    │ 0.0%   │ 0.0%   │ 0.0%   │\n",
      "│ 31  │ Gasdynamics                             │ 0.0%   │ 0.0%   │ 0.0%   │\n",
      "│ 32  │ Numerical Methods                       │ 0.0%   │ 0.0%   │ 0.0%   │\n",
      "│ 33  │ Aero./Mech. Eng. Lab                    │ 99.15% │ 99.55% │ 99.7%  │\n",
      "│ 34  │ Tier II General Ed. 1                   │ 0.0%   │ 0.0%   │ 0.0%   │\n",
      "│ 35  │ Senior Aerospace Lab.                   │ 0.0%   │ 0.0%   │ 0.0%   │\n",
      "│ 36  │ Aerospace Conceptual Design             │ 0.0%   │ 0.0%   │ 0.0%   │\n",
      "│ 37  │ Aerospace Propulsion                    │ 0.0%   │ 0.0%   │ 0.0%   │\n",
      "│ 38  │ Stability and Control of Aero. Vehicles │ 0.0%   │ 0.0%   │ 0.0%   │\n",
      "│ 39  │ Orbital Mechanicans and Space Flt.      │ 0.0%   │ 0.0%   │ 0.0%   │\n",
      "│ 40  │ Senior Colloquium                       │ 0.0%   │ 55.35% │ 68.15% │\n",
      "│ 41  │ Aerospace Eng.Design                    │ 0.0%   │ 0.0%   │ 0.0%   │\n",
      "│ 42  │ Num. Meth. in Fluid Mech. & Heat Xfer   │ 0.0%   │ 0.0%   │ 0.0%   │\n",
      "│ 43  │ Technical Elective 1                    │ 0.0%   │ 0.0%   │ 0.0%   │\n",
      "│ 44  │ Technical Elective 2                    │ 0.0%   │ 0.0%   │ 0.0%   │\n",
      "│ 45  │ Tier II General Ed. 2                   │ 0.0%   │ 0.0%   │ 0.0%   │\n",
      "│ 46  │ GRAD RATE                               │ 0.0%   │ 0.0%   │ 0.0%   │\n",
      "\n",
      "│ Row │ TERM4  │ TERM5  │ TERM6  │ TERM7  │ TERM8  │ TERM9  │ TERM10 │ TERM11 │\n"
     ]
    },
    {
     "name": "stdout",
     "output_type": "stream",
     "text": [
      "├─────┼────────┼────────┼────────┼────────┼────────┼────────┼────────┼────────┤\n",
      "│ 1   │ 94.8%  │ 94.8%  │ 94.8%  │ 94.8%  │ 94.8%  │ 94.8%  │ 94.8%  │ 94.8%  │\n",
      "│ 2   │ 92.25% │ 92.25% │ 92.25% │ 92.25% │ 92.25% │ 92.25% │ 92.25% │ 92.25% │\n",
      "│ 3   │ 98.35% │ 98.35% │ 98.35% │ 98.35% │ 98.35% │ 98.35% │ 98.35% │ 98.35% │\n",
      "│ 4   │ 98.65% │ 98.65% │ 98.65% │ 98.65% │ 98.65% │ 98.65% │ 98.65% │ 98.65% │\n",
      "│ 5   │ 95.45% │ 95.45% │ 95.45% │ 95.45% │ 95.45% │ 95.45% │ 95.45% │ 95.45% │\n",
      "│ 6   │ 76.6%  │ 76.6%  │ 76.6%  │ 76.6%  │ 76.6%  │ 76.6%  │ 76.6%  │ 76.6%  │\n",
      "│ 7   │ 81.15% │ 81.15% │ 81.15% │ 81.15% │ 81.15% │ 81.15% │ 81.15% │ 81.15% │\n",
      "│ 8   │ 76.55% │ 76.55% │ 76.55% │ 76.55% │ 76.55% │ 76.55% │ 76.55% │ 76.55% │\n",
      "│ 9   │ 83.55% │ 83.55% │ 83.55% │ 83.55% │ 83.55% │ 83.55% │ 83.55% │ 83.55% │\n",
      "│ 10  │ 80.5%  │ 80.5%  │ 80.5%  │ 80.5%  │ 80.5%  │ 80.5%  │ 80.5%  │ 80.5%  │\n",
      "│ 11  │ 76.0%  │ 76.0%  │ 76.0%  │ 76.0%  │ 76.0%  │ 76.0%  │ 76.0%  │ 76.0%  │\n",
      "│ 12  │ 47.65% │ 52.95% │ 53.15% │ 53.15% │ 53.15% │ 53.15% │ 53.15% │ 53.15% │\n",
      "│ 13  │ 49.55% │ 52.95% │ 53.4%  │ 53.4%  │ 53.4%  │ 53.4%  │ 53.4%  │ 53.4%  │\n",
      "│ 14  │ 46.3%  │ 51.8%  │ 52.1%  │ 52.1%  │ 52.1%  │ 52.1%  │ 52.1%  │ 52.1%  │\n",
      "│ 15  │ 60.15% │ 61.95% │ 61.95% │ 61.95% │ 61.95% │ 61.95% │ 61.95% │ 61.95% │\n",
      "│ 16  │ 64.55% │ 65.3%  │ 65.3%  │ 65.3%  │ 65.3%  │ 65.3%  │ 65.3%  │ 65.3%  │\n",
      "│ 17  │ 58.45% │ 60.7%  │ 60.7%  │ 60.7%  │ 60.7%  │ 60.7%  │ 60.7%  │ 60.7%  │\n",
      "│ 18  │ 44.75% │ 50.95% │ 51.35% │ 51.35% │ 51.35% │ 51.35% │ 51.35% │ 51.35% │\n",
      "│ 19  │ 17.9%  │ 35.9%  │ 42.3%  │ 42.8%  │ 42.8%  │ 42.8%  │ 42.8%  │ 42.8%  │\n",
      "│ 20  │ 14.15% │ 33.4%  │ 39.5%  │ 40.25% │ 40.25% │ 40.25% │ 40.25% │ 40.25% │\n",
      "│ 21  │ 7.4%   │ 33.05% │ 39.4%  │ 40.25% │ 40.3%  │ 40.3%  │ 40.3%  │ 40.3%  │\n",
      "│ 22  │ 25.3%  │ 43.85% │ 46.8%  │ 46.9%  │ 46.9%  │ 46.9%  │ 46.9%  │ 46.9%  │\n",
      "│ 23  │ 0.0%   │ 6.05%  │ 27.85% │ 34.2%  │ 35.35% │ 35.4%  │ 35.4%  │ 35.4%  │\n",
      "│ 24  │ 0.0%   │ 22.75% │ 36.9%  │ 37.8%  │ 37.8%  │ 37.8%  │ 37.8%  │ 37.8%  │\n",
      "│ 25  │ 0.0%   │ 10.65% │ 26.9%  │ 33.85% │ 34.9%  │ 35.0%  │ 35.0%  │ 35.0%  │\n",
      "│ 26  │ 5.65%  │ 16.85% │ 37.7%  │ 38.5%  │ 38.5%  │ 38.5%  │ 38.5%  │ 38.5%  │\n",
      "│ 27  │ 3.3%   │ 6.8%   │ 32.1%  │ 36.4%  │ 36.5%  │ 36.5%  │ 36.5%  │ 36.5%  │\n",
      "│ 28  │ 97.25% │ 97.25% │ 97.35% │ 97.35% │ 97.35% │ 97.35% │ 97.35% │ 97.35% │\n",
      "│ 29  │ 0.0%   │ 0.0%   │ 8.9%   │ 24.0%  │ 31.1%  │ 32.3%  │ 32.55% │ 32.55% │\n",
      "│ 30  │ 0.0%   │ 0.0%   │ 16.4%  │ 31.05% │ 33.35% │ 33.5%  │ 33.5%  │ 33.5%  │\n",
      "│ 31  │ 0.0%   │ 0.0%   │ 7.4%   │ 29.55% │ 32.2%  │ 32.5%  │ 32.5%  │ 32.5%  │\n",
      "│ 32  │ 0.0%   │ 0.0%   │ 4.45%  │ 29.0%  │ 32.55% │ 32.7%  │ 32.7%  │ 32.7%  │\n",
      "│ 33  │ 99.75% │ 99.75% │ 99.75% │ 99.75% │ 99.75% │ 99.75% │ 99.75% │ 99.75% │\n",
      "│ 34  │ 0.65%  │ 2.25%  │ 6.15%  │ 23.4%  │ 31.25% │ 32.2%  │ 32.2%  │ 32.2%  │\n",
      "│ 35  │ 0.0%   │ 0.0%   │ 0.0%   │ 6.9%   │ 28.3%  │ 31.15% │ 31.45% │ 31.45% │\n",
      "│ 36  │ 0.0%   │ 0.0%   │ 0.0%   │ 5.9%   │ 26.5%  │ 30.8%  │ 31.25% │ 31.25% │\n",
      "│ 37  │ 0.0%   │ 0.0%   │ 0.0%   │ 5.35%  │ 27.3%  │ 30.95% │ 31.35% │ 31.35% │\n",
      "│ 38  │ 0.0%   │ 0.0%   │ 0.0%   │ 11.35% │ 27.0%  │ 31.15% │ 31.55% │ 31.55% │\n",
      "│ 39  │ 0.0%   │ 0.0%   │ 1.0%   │ 9.25%  │ 28.95% │ 32.05% │ 32.05% │ 32.05% │\n",
      "│ 40  │ 73.25% │ 73.5%  │ 73.65% │ 73.9%  │ 76.1%  │ 76.35% │ 76.35% │ 76.35% │\n",
      "│ 41  │ 0.0%   │ 0.0%   │ 0.0%   │ 0.0%   │ 5.85%  │ 25.65% │ 29.75% │ 30.2%  │\n",
      "│ 42  │ 0.0%   │ 0.0%   │ 0.0%   │ 1.4%   │ 20.25% │ 30.2%  │ 31.15% │ 31.15% │\n",
      "│ 43  │ 0.55%  │ 1.3%   │ 2.7%   │ 3.75%  │ 16.35% │ 30.15% │ 31.6%  │ 31.65% │\n",
      "│ 44  │ 0.0%   │ 0.4%   │ 1.15%  │ 1.95%  │ 8.95%  │ 28.4%  │ 30.65% │ 30.7%  │\n",
      "│ 45  │ 0.0%   │ 0.1%   │ 0.4%   │ 1.05%  │ 4.4%   │ 23.45% │ 29.15% │ 29.5%  │\n",
      "│ 46  │ 0.0%   │ 0.0%   │ 0.0%   │ 0.0%   │ 1.75%  │ 17.0%  │ 27.25% │ 28.15% │\n",
      "\n",
      "│ Row │ TERM12 │\n",
      "├─────┼────────┤\n",
      "│ 1   │ 94.8%  │\n",
      "│ 2   │ 92.25% │\n",
      "│ 3   │ 98.35% │\n",
      "│ 4   │ 98.65% │\n",
      "│ 5   │ 95.45% │\n",
      "│ 6   │ 76.6%  │\n",
      "│ 7   │ 81.15% │\n",
      "│ 8   │ 76.55% │\n",
      "│ 9   │ 83.55% │\n",
      "│ 10  │ 80.5%  │\n",
      "│ 11  │ 76.0%  │\n",
      "│ 12  │ 53.15% │\n",
      "│ 13  │ 53.4%  │\n",
      "│ 14  │ 52.1%  │\n",
      "│ 15  │ 61.95% │\n",
      "│ 16  │ 65.3%  │\n",
      "│ 17  │ 60.7%  │\n",
      "│ 18  │ 51.35% │\n",
      "│ 19  │ 42.8%  │\n",
      "│ 20  │ 40.25% │\n",
      "│ 21  │ 40.3%  │\n",
      "│ 22  │ 46.9%  │\n",
      "│ 23  │ 35.4%  │\n",
      "│ 24  │ 37.8%  │\n",
      "│ 25  │ 35.0%  │\n",
      "│ 26  │ 38.5%  │\n",
      "│ 27  │ 36.5%  │\n",
      "│ 28  │ 97.35% │\n",
      "│ 29  │ 32.55% │\n",
      "│ 30  │ 33.5%  │\n",
      "│ 31  │ 32.5%  │\n",
      "│ 32  │ 32.7%  │\n",
      "│ 33  │ 99.75% │\n",
      "│ 34  │ 32.2%  │\n",
      "│ 35  │ 31.45% │\n",
      "│ 36  │ 31.25% │\n",
      "│ 37  │ 31.35% │\n",
      "│ 38  │ 31.55% │\n",
      "│ 39  │ 32.05% │\n",
      "│ 40  │ 76.35% │\n",
      "│ 41  │ 30.2%  │\n",
      "│ 42  │ 31.15% │\n",
      "│ 43  │ 31.65% │\n",
      "│ 44  │ 30.7%  │\n",
      "│ 45  │ 29.5%  │\n",
      "│ 46  │ 0.0%   │"
     ]
    }
   ],
   "source": [
    "simulation_report(simulation, num_terms, course_passrate, max_credits, real_passrate)"
   ]
  },
  {
   "cell_type": "markdown",
   "metadata": {},
   "source": [
    "Now let's run the same set of students through the Computer Science curriculum:"
   ]
  },
  {
   "cell_type": "code",
   "execution_count": 21,
   "metadata": {
    "scrolled": false
   },
   "outputs": [
    {
     "name": "stdout",
     "output_type": "stream",
     "text": [
      "\n",
      "\u001b[0m\u001b[1m------------ Simulation Report ------------\u001b[22m\n",
      "Computer Science, BS -- 2019-20 Degree Plan\n",
      "\n",
      "-------- Simulation Statistics --------\n",
      "Number of terms: 12\n",
      "Max Credits per Term: 18\n",
      "Max Course Attempts: 3\n",
      "Number of Students: 2000\n",
      "Preset Course Pass Rates: 90.0%\n",
      "\n",
      "-------- Graduation Statistics --------\n",
      "Number of Students Graduated: 1079\n",
      "Graduation Rate: 53.949999999999996%\n",
      "Term Graduation Rates: \n",
      "[0.0, 0.0, 0.0, 0.0, 0.0, 0.0, 0.0, 0.1225, 0.426, 0.5265, 0.5395, 0.0]\n",
      "Average time to degree: 9.007414272474513 terms\n",
      "\n",
      "-------- Stop out Statistics --------\n",
      "Number of Students Stopped Out (Stopout Model Prediction + Reached Max Attempts): 921\n",
      "Number of Students Reaching Max Attempts: 320\n",
      "Stop-out Rate: 46.05%\n",
      "Cumulative Term Stop-out Rates (including reached max course attempts students): \n",
      "[0.081, 0.2035, 0.298, 0.3575, 0.3895, 0.4175, 0.439, 0.451, 0.458, 0.4595, 0.4605, 0.0]\n",
      "\n",
      "Cumulative Term Stop-out Rates (excluding reaching max course attempts students): \n",
      "[0.081, 0.204, 0.235, 0.277, 0.29, 0.296, 0.301, 0.301, 0.3, 0.3, 0.3, 0.0]\n",
      "\n",
      "Cumulative Term Reached Max Course Attempts Rates: \n",
      "[0.0, 0.0, 0.063, 0.08, 0.099, 0.122, 0.138, 0.15, 0.158, 0.159, 0.16, 0.0]\n",
      "\n",
      "\n",
      "-------- Pass Rate of Each Course (computed from Student Grades CSV file) --------\n",
      "\n",
      "│ Row │ Courses                                  │ Pass_Rates │ Num_Students_Passes │ Num_Students_Taken │\n",
      "├─────┼──────────────────────────────────────────┼────────────┼─────────────────────┼────────────────────┤\n",
      "│ 1   │ CSC 110 Intro to Computer Programming I  │ 63.3%      │ 925                 │ 1461               │\n",
      "│ 2   │ MATH 120R Pre-Calculus                   │ 72.1%      │ 2246                │ 3117               │\n",
      "│ 3   │ ENGL 101 English Composition I           │ 88.9%      │ 8949                │ 10064              │\n",
      "│ 4   │ 1st Semester Second Language             │ 90.0%      │ N/A                 │ N/A                │\n",
      "│ 5   │ CSC 120 Intro to Computer Programming II │ 72.4%      │ 603                 │ 833                │\n",
      "│ 6   │ MATH 122A/B Calculus I                   │ 90.0%      │ N/A                 │ N/A                │\n",
      "│ 7   │ ENGL 102 English Composition II          │ 86.3%      │ 6615                │ 7666               │\n",
      "│ 8   │ 2nd Semester Second Language             │ 90.0%      │ N/A                 │ N/A                │\n",
      "│ 9   │ CSC 210 Software Development             │ 76.7%      │ 355                 │ 463                │\n",
      "│ 10  │ CSC 245 Intro to Discrete Structures     │ 80.4%      │ 369                 │ 459                │\n",
      "│ 11  │ MATH 129 Calculus II                     │ 74.7%      │ 2160                │ 2893               │\n",
      "│ 12  │ Tier 1 General Education 1               │ 90.0%      │ N/A                 │ N/A                │\n",
      "│ 13  │ Tier 1 General Education 2               │ 90.0%      │ N/A                 │ N/A                │\n",
      "│ 14  │ CSC 252 Computer Organization            │ 81.8%      │ 251                 │ 307                │\n",
      "│ 15  │ CSC 352 Systems Programming & Unix       │ 67.2%      │ 289                 │ 430                │\n",
      "│ 16  │ Supporting Science #1                    │ 90.0%      │ N/A                 │ N/A                │\n",
      "│ 17  │ Tier 1 General Education 3               │ 90.0%      │ N/A                 │ N/A                │\n",
      "│ 18  │ Tier 1 General Education 4               │ 90.0%      │ N/A                 │ N/A                │\n",
      "│ 19  │ CSC 335 Object-Oriented Programming      │ 91.4%      │ 278                 │ 304                │\n",
      "│ 20  │ CSC 345 Analysis of Discrete Structures  │ 79.2%      │ 316                 │ 399                │\n",
      "│ 21  │ Supporting Science #2                    │ 90.0%      │ N/A                 │ N/A                │\n",
      "│ 22  │ Tier 2 Gen Ed/Upper-Division 1           │ 90.0%      │ N/A                 │ N/A                │\n",
      "│ 23  │ Upper-Division Elective                  │ 90.0%      │ N/A                 │ N/A                │\n",
      "│ 24  │ CSC Paradigms Elective                   │ 90.0%      │ N/A                 │ N/A                │\n",
      "│ 25  │ CSC 400-Level Elective 1                 │ 90.0%      │ N/A                 │ N/A                │\n",
      "│ 26  │ Tier 2 Gen Ed/Upper-Division 2           │ 90.0%      │ N/A                 │ N/A                │\n",
      "│ 27  │ Tier 2 Gen Ed/Upper-Division 3           │ 90.0%      │ N/A                 │ N/A                │\n",
      "│ 28  │ Elective 1                               │ 90.0%      │ N/A                 │ N/A                │\n",
      "│ 29  │ CSC Theory & Writing Elective            │ 90.0%      │ N/A                 │ N/A                │\n",
      "│ 30  │ CSC 400-Level Elective 2                 │ 90.0%      │ N/A                 │ N/A                │\n",
      "│ 31  │ Elective 2                               │ 90.0%      │ N/A                 │ N/A                │\n",
      "│ 32  │ Elective 3                               │ 90.0%      │ N/A                 │ N/A                │\n",
      "│ 33  │ Elective 4                               │ 90.0%      │ N/A                 │ N/A                │\n",
      "│ 34  │ CSC Systems Elective                     │ 90.0%      │ N/A                 │ N/A                │\n",
      "│ 35  │ CSC 300/400-Level Elective               │ 90.0%      │ N/A                 │ N/A                │\n",
      "│ 36  │ Upper-Division Elective 1                │ 90.0%      │ N/A                 │ N/A                │\n",
      "│ 37  │ Upper-Division Elective 2                │ 90.0%      │ N/A                 │ N/A                │\n",
      "\n",
      "-------- Course Pass Rates by Term --------\n",
      "\n",
      "│ Row │ COUSE                            │ TERM1  │ TERM2  │ TERM3  │ TERM4  │\n",
      "├─────┼──────────────────────────────────┼────────┼────────┼────────┼────────┤\n",
      "│ 1   │ Intro to Computer Programming I  │ 62.3%  │ 84.15% │ 91.05% │ 91.05% │\n",
      "│ 2   │ Pre-Calculus                     │ 71.45% │ 89.9%  │ 94.9%  │ 94.9%  │\n",
      "│ 3   │ English Composition I            │ 89.3%  │ 98.15% │ 99.0%  │ 99.0%  │\n",
      "│ 4   │ 1st Semester Second Language     │ 0.0%   │ 82.65% │ 90.0%  │ 90.7%  │\n",
      "│ 5   │ Intro to Computer Programming II │ 0.0%   │ 40.65% │ 63.95% │ 74.85% │\n",
      "│ 6   │ Calculus I                       │ 0.0%   │ 59.7%  │ 78.4%  │ 84.35% │\n",
      "│ 7   │ English Composition II           │ 0.0%   │ 70.15% │ 84.7%  │ 87.5%  │\n",
      "│ 8   │ 2nd Semester Second Language     │ 0.0%   │ 0.0%   │ 65.3%  │ 76.3%  │\n",
      "│ 9   │ Software Development             │ 0.0%   │ 0.0%   │ 27.25% │ 49.85% │\n",
      "│ 10  │ Intro to Discrete Structures     │ 0.0%   │ 0.0%   │ 25.95% │ 50.35% │\n",
      "│ 11  │ Calculus II                      │ 0.0%   │ 0.0%   │ 39.2%  │ 60.75% │\n",
      "│ 12  │ Tier 1 General Education 1       │ 90.7%  │ 90.85% │ 95.9%  │ 97.8%  │\n",
      "│ 13  │ Tier 1 General Education 2       │ 0.0%   │ 2.4%   │ 55.0%  │ 75.95% │\n",
      "│ 14  │ Computer Organization            │ 0.0%   │ 0.0%   │ 0.0%   │ 20.1%  │\n",
      "│ 15  │ Systems Programming & Unix       │ 0.0%   │ 0.0%   │ 0.0%   │ 17.2%  │\n",
      "│ 16  │ Supporting Science #1            │ 0.0%   │ 0.0%   │ 17.6%  │ 60.4%  │\n",
      "│ 17  │ Tier 1 General Education 3       │ 0.0%   │ 0.0%   │ 2.6%   │ 49.45% │\n",
      "│ 18  │ Tier 1 General Education 4       │ 0.0%   │ 0.0%   │ 0.0%   │ 27.9%  │\n",
      "│ 19  │ Object-Oriented Programming      │ 0.0%   │ 0.0%   │ 0.0%   │ 0.0%   │\n",
      "│ 20  │ Analysis of Discrete Structures  │ 0.0%   │ 0.0%   │ 0.0%   │ 0.0%   │\n",
      "│ 21  │ Supporting Science #2            │ 0.0%   │ 0.0%   │ 0.0%   │ 12.25% │\n",
      "│ 22  │ Tier 2 Gen Ed/Upper-Division 1   │ 0.0%   │ 0.0%   │ 0.0%   │ 2.65%  │\n",
      "│ 23  │ Upper-Division Elective          │ 0.0%   │ 0.0%   │ 0.0%   │ 0.0%   │\n",
      "│ 24  │ CSC Paradigms Elective           │ 0.0%   │ 0.0%   │ 0.0%   │ 0.0%   │\n",
      "│ 25  │ CSC 400-Level Elective 1         │ 0.0%   │ 0.0%   │ 0.0%   │ 0.0%   │\n",
      "│ 26  │ Tier 2 Gen Ed/Upper-Division 2   │ 0.0%   │ 0.0%   │ 0.0%   │ 0.0%   │\n",
      "│ 27  │ Tier 2 Gen Ed/Upper-Division 3   │ 0.0%   │ 0.0%   │ 0.0%   │ 0.0%   │\n",
      "│ 28  │ Elective 1                       │ 0.0%   │ 0.0%   │ 0.0%   │ 0.0%   │\n",
      "│ 29  │ CSC Theory & Writing Elective    │ 0.0%   │ 0.0%   │ 0.0%   │ 0.0%   │\n",
      "│ 30  │ CSC 400-Level Elective 2         │ 0.0%   │ 0.0%   │ 0.0%   │ 0.0%   │\n",
      "│ 31  │ Elective 2                       │ 0.0%   │ 0.0%   │ 0.0%   │ 0.0%   │\n",
      "│ 32  │ Elective 3                       │ 0.0%   │ 0.0%   │ 0.0%   │ 0.0%   │\n",
      "│ 33  │ Elective 4                       │ 0.0%   │ 0.0%   │ 0.0%   │ 0.0%   │\n",
      "│ 34  │ CSC Systems Elective             │ 0.0%   │ 0.0%   │ 0.0%   │ 0.0%   │\n",
      "│ 35  │ CSC 300/400-Level Elective       │ 0.0%   │ 0.0%   │ 0.0%   │ 0.0%   │\n",
      "│ 36  │ Upper-Division Elective 1        │ 0.0%   │ 0.0%   │ 0.0%   │ 0.0%   │\n",
      "│ 37  │ Upper-Division Elective 2        │ 0.0%   │ 0.0%   │ 0.0%   │ 0.0%   │\n",
      "│ 38  │ GRAD RATE                        │ 0.0%   │ 0.0%   │ 0.0%   │ 0.0%   │\n",
      "\n",
      "│ Row │ TERM5  │ TERM6  │ TERM7  │ TERM8  │ TERM9  │ TERM10 │ TERM11 │ TERM12 │\n",
      "├─────┼────────┼────────┼────────┼────────┼────────┼────────┼────────┼────────┤\n",
      "│ 1   │ 91.05% │ 91.05% │ 91.05% │ 91.05% │ 91.05% │ 91.05% │ 91.05% │ 91.05% │\n",
      "│ 2   │ 94.9%  │ 94.9%  │ 94.9%  │ 94.9%  │ 94.9%  │ 94.9%  │ 94.9%  │ 94.9%  │\n",
      "│ 3   │ 99.0%  │ 99.0%  │ 99.0%  │ 99.0%  │ 99.0%  │ 99.0%  │ 99.0%  │ 99.0%  │\n",
      "│ 4   │ 90.7%  │ 90.7%  │ 90.7%  │ 90.7%  │ 90.7%  │ 90.7%  │ 90.7%  │ 90.7%  │\n",
      "│ 5   │ 76.6%  │ 76.9%  │ 76.9%  │ 76.9%  │ 76.9%  │ 76.9%  │ 76.9%  │ 76.9%  │\n",
      "│ 6   │ 84.95% │ 84.95% │ 84.95% │ 84.95% │ 84.95% │ 84.95% │ 84.95% │ 84.95% │\n",
      "│ 7   │ 87.75% │ 87.8%  │ 87.8%  │ 87.8%  │ 87.8%  │ 87.8%  │ 87.8%  │ 87.8%  │\n",
      "│ 8   │ 77.85% │ 77.95% │ 77.95% │ 77.95% │ 77.95% │ 77.95% │ 77.95% │ 77.95% │\n",
      "│ 9   │ 62.75% │ 67.0%  │ 67.9%  │ 67.95% │ 67.95% │ 67.95% │ 67.95% │ 67.95% │\n",
      "│ 10  │ 63.0%  │ 66.95% │ 67.75% │ 67.9%  │ 67.9%  │ 67.9%  │ 67.9%  │ 67.9%  │\n",
      "│ 11  │ 69.1%  │ 71.2%  │ 71.6%  │ 71.6%  │ 71.6%  │ 71.6%  │ 71.6%  │ 71.6%  │\n",
      "│ 12  │ 97.9%  │ 97.9%  │ 97.9%  │ 97.9%  │ 97.9%  │ 97.9%  │ 97.9%  │ 97.9%  │\n",
      "│ 13  │ 77.95% │ 78.15% │ 78.15% │ 78.15% │ 78.15% │ 78.15% │ 78.15% │ 78.15% │\n",
      "│ 14  │ 41.2%  │ 55.1%  │ 60.9%  │ 62.45% │ 62.7%  │ 62.75% │ 62.75% │ 62.75% │\n",
      "│ 15  │ 36.7%  │ 50.35% │ 56.8%  │ 59.45% │ 60.3%  │ 60.35% │ 60.35% │ 60.35% │\n",
      "│ 16  │ 69.8%  │ 71.2%  │ 71.35% │ 71.35% │ 71.35% │ 71.35% │ 71.35% │ 71.35% │\n",
      "│ 17  │ 66.95% │ 69.1%  │ 69.25% │ 69.25% │ 69.25% │ 69.25% │ 69.25% │ 69.25% │\n",
      "│ 18  │ 61.25% │ 65.5%  │ 65.95% │ 65.95% │ 65.95% │ 65.95% │ 65.95% │ 65.95% │\n",
      "│ 19  │ 36.4%  │ 54.9%  │ 60.15% │ 61.5%  │ 61.55% │ 61.55% │ 61.55% │ 61.55% │\n",
      "│ 20  │ 25.75% │ 47.25% │ 55.75% │ 58.7%  │ 59.4%  │ 59.6%  │ 59.6%  │ 59.6%  │\n",
      "│ 21  │ 37.9%  │ 59.8%  │ 62.8%  │ 63.25% │ 63.25% │ 63.25% │ 63.25% │ 63.25% │\n",
      "│ 22  │ 32.85% │ 57.5%  │ 62.1%  │ 62.3%  │ 62.3%  │ 62.3%  │ 62.3%  │ 62.3%  │\n",
      "│ 23  │ 16.5%  │ 51.85% │ 60.35% │ 61.15% │ 61.2%  │ 61.2%  │ 61.2%  │ 61.2%  │\n",
      "│ 24  │ 6.9%   │ 45.45% │ 59.05% │ 60.15% │ 60.25% │ 60.25% │ 60.25% │ 60.25% │\n",
      "│ 25  │ 3.4%   │ 35.6%  │ 56.6%  │ 59.1%  │ 59.4%  │ 59.4%  │ 59.4%  │ 59.4%  │\n",
      "│ 26  │ 0.2%   │ 26.95% │ 54.2%  │ 58.05% │ 58.6%  │ 58.6%  │ 58.6%  │ 58.6%  │\n",
      "│ 27  │ 0.0%   │ 15.8%  │ 51.4%  │ 57.5%  │ 58.1%  │ 58.1%  │ 58.1%  │ 58.1%  │\n",
      "│ 28  │ 0.0%   │ 6.8%   │ 46.9%  │ 56.1%  │ 57.3%  │ 57.3%  │ 57.3%  │ 57.3%  │\n",
      "│ 29  │ 0.0%   │ 2.15%  │ 40.05% │ 54.8%  │ 57.05% │ 57.15% │ 57.15% │ 57.15% │\n",
      "│ 30  │ 0.0%   │ 0.0%   │ 32.75% │ 52.9%  │ 56.2%  │ 56.45% │ 56.45% │ 56.45% │\n",
      "│ 31  │ 0.0%   │ 0.0%   │ 24.8%  │ 51.7%  │ 55.8%  │ 56.25% │ 56.25% │ 56.25% │\n",
      "│ 32  │ 0.0%   │ 0.0%   │ 15.9%  │ 49.3%  │ 55.25% │ 55.85% │ 55.9%  │ 55.9%  │\n",
      "│ 33  │ 0.0%   │ 0.0%   │ 8.55%  │ 44.95% │ 54.65% │ 55.35% │ 55.45% │ 55.45% │\n",
      "│ 34  │ 0.0%   │ 0.0%   │ 3.0%   │ 39.5%  │ 53.65% │ 55.05% │ 55.15% │ 55.15% │\n",
      "│ 35  │ 0.0%   │ 0.0%   │ 0.85%  │ 34.25% │ 51.7%  │ 54.7%  │ 54.8%  │ 54.8%  │\n",
      "│ 36  │ 0.0%   │ 0.0%   │ 0.0%   │ 25.15% │ 50.4%  │ 54.65% │ 55.0%  │ 55.0%  │\n",
      "│ 37  │ 0.0%   │ 0.0%   │ 0.0%   │ 18.95% │ 49.0%  │ 54.15% │ 54.8%  │ 54.8%  │\n"
     ]
    },
    {
     "name": "stdout",
     "output_type": "stream",
     "text": [
      "│ 38  │ 0.0%   │ 0.0%   │ 0.0%   │ 12.25% │ 42.6%  │ 52.65% │ 53.95% │ 0.0%   │"
     ]
    }
   ],
   "source": [
    "set_passrates_from_csv(CS_degree_plan.curriculum.courses, \"./Student_Grades_sp17_to_fall19.csv\", course_passrate)\n",
    "#students = simple_students(n);  # create a student cohort\n",
    "simulation = simulate(CS_degree_plan, course_attempt_limit, students,\n",
    "                      max_credits = max_credits,\n",
    "                      performance_model = performance_model,\n",
    "                      enrollment_model = enrollment_model,\n",
    "                      duration = num_terms,\n",
    "                      duration_lock = duration_lock,\n",
    "                      stopouts = stopouts);\n",
    "simulation_report(simulation, num_terms, course_passrate, max_credits, real_passrate)"
   ]
  },
  {
   "cell_type": "code",
   "execution_count": 26,
   "metadata": {
    "scrolled": false
   },
   "outputs": [
    {
     "name": "stdout",
     "output_type": "stream",
     "text": [
      "\n",
      "\u001b[0m\u001b[1m------------ Simulation Report ------------\u001b[22m\n",
      "Electrical Engineering, BS -- 2017-18 Plan\n",
      "\n",
      "-------- Simulation Statistics --------\n",
      "Number of terms: 12\n",
      "Max Credits per Term: 18\n",
      "Max Course Attempts: 3\n",
      "Number of Students: 2000\n",
      "Preset Course Pass Rates: 90.0%\n",
      "\n",
      "-------- Graduation Statistics --------\n",
      "Number of Students Graduated: 1292\n",
      "Graduation Rate: 64.60000000000001%\n",
      "Term Graduation Rates: \n",
      "[0.0, 0.0, 0.0, 0.0, 0.0, 0.0, 0.0, 0.0545, 0.383, 0.585, 0.64, 0.646]\n",
      "Average time to degree: 9.426470588235293 terms\n",
      "\n",
      "-------- Stop out Statistics --------\n",
      "Number of Students Stopped Out (Stopout Model Prediction + Reached Max Attempts): 705\n",
      "Number of Students Reaching Max Attempts: 71\n",
      "Stop-out Rate: 35.25%\n",
      "Cumulative Term Stop-out Rates (including reached max course attempts students): \n",
      "[0.0855, 0.2065, 0.251, 0.2935, 0.3175, 0.326, 0.337, 0.34, 0.3455, 0.3505, 0.3525, 0.3525]\n",
      "\n",
      "Cumulative Term Stop-out Rates (excluding reaching max course attempts students): \n",
      "[0.086, 0.206, 0.241, 0.282, 0.304, 0.31, 0.317, 0.317, 0.317, 0.316, 0.316, 0.316]\n",
      "\n",
      "Cumulative Term Reached Max Course Attempts Rates: \n",
      "[0.0, 0.0, 0.01, 0.012, 0.014, 0.016, 0.02, 0.023, 0.028, 0.034, 0.036, 0.036]\n",
      "\n",
      "\n",
      "-------- Course Pass Rates by Term --------\n",
      "\n",
      "│ Row │ COUSE                             │ TERM1  │ TERM2  │ TERM3  │ TERM4  │\n",
      "├─────┼───────────────────────────────────┼────────┼────────┼────────┼────────┤\n",
      "│ 1   │ CHEM 1310                         │ 88.6%  │ 97.7%  │ 98.5%  │ 98.5%  │\n",
      "│ 2   │ MATH 1551                         │ 91.5%  │ 98.35% │ 99.1%  │ 99.1%  │\n",
      "│ 3   │ MATH 1553                         │ 89.7%  │ 97.95% │ 98.65% │ 98.65% │\n",
      "│ 4   │ CS 1371                           │ 90.1%  │ 98.0%  │ 98.85% │ 98.85% │\n",
      "│ 5   │ Wellness Elective                 │ 89.6%  │ 98.0%  │ 98.8%  │ 98.8%  │\n",
      "│ 6   │ ENGL 1101                         │ 89.25% │ 98.15% │ 98.85% │ 98.85% │\n",
      "│ 7   │ PHYS 2211                         │ 0.0%   │ 74.3%  │ 86.95% │ 88.6%  │\n",
      "│ 8   │ MATH 1552                         │ 0.0%   │ 74.95% │ 87.45% │ 88.5%  │\n",
      "│ 9   │ ECE 2020                          │ 0.0%   │ 73.7%  │ 86.2%  │ 88.25% │\n",
      "│ 10  │ History/Government Elective       │ 0.0%   │ 77.3%  │ 88.35% │ 89.5%  │\n",
      "│ 11  │ ENGL 1102                         │ 0.0%   │ 53.25% │ 81.85% │ 85.55% │\n",
      "│ 12  │ PHYS 2212                         │ 0.0%   │ 0.0%   │ 58.2%  │ 74.75% │\n",
      "│ 13  │ MATH 2552                         │ 0.0%   │ 0.0%   │ 57.2%  │ 74.7%  │\n",
      "│ 14  │ ECE 2026                          │ 0.0%   │ 0.0%   │ 56.25% │ 75.35% │\n",
      "│ 15  │ Economics Elective                │ 0.0%   │ 6.5%   │ 62.8%  │ 77.3%  │\n",
      "│ 16  │ Social Sciences Elective          │ 0.0%   │ 4.55%  │ 37.5%  │ 73.75% │\n",
      "│ 17  │ Science Elective                  │ 0.0%   │ 0.0%   │ 8.6%   │ 68.2%  │\n",
      "│ 18  │ MATH 2551                         │ 0.0%   │ 0.0%   │ 0.0%   │ 63.45% │\n",
      "│ 19  │ ECE 2040                          │ 0.0%   │ 0.0%   │ 0.0%   │ 45.0%  │\n",
      "│ 20  │ ECE 2031                          │ 0.0%   │ 0.0%   │ 3.65%  │ 55.4%  │\n",
      "│ 21  │ Programming Elective              │ 0.0%   │ 0.0%   │ 2.5%   │ 34.85% │\n",
      "│ 22  │ Humanities Elective               │ 0.0%   │ 0.0%   │ 0.55%  │ 13.95% │\n",
      "│ 23  │ ECE 3040                          │ 0.0%   │ 0.0%   │ 0.0%   │ 0.0%   │\n",
      "│ 24  │ ECE 3043                          │ 0.0%   │ 7.3%   │ 10.65% │ 21.75% │\n",
      "│ 25  │ ECE 3025                          │ 0.0%   │ 0.0%   │ 0.0%   │ 0.0%   │\n",
      "│ 26  │ ECE 3084                          │ 0.0%   │ 0.0%   │ 0.0%   │ 0.0%   │\n",
      "│ 27  │ Social Sciences Elective          │ 0.0%   │ 0.0%   │ 0.2%   │ 0.6%   │\n",
      "│ 28  │ ECE/Approved Engineering Elective │ 0.0%   │ 0.0%   │ 0.0%   │ 0.45%  │\n",
      "│ 29  │ Prob/Stat ECE/App/Engr Elective   │ 0.0%   │ 0.0%   │ 0.0%   │ 0.0%   │\n",
      "│ 30  │ ECE Elective                      │ 0.0%   │ 0.0%   │ 0.0%   │ 0.15%  │\n",
      "│ 31  │ ECE Elective                      │ 0.0%   │ 0.0%   │ 0.0%   │ 0.05%  │\n",
      "│ 32  │ ECE 3072                          │ 0.0%   │ 0.0%   │ 0.0%   │ 0.0%   │\n",
      "│ 33  │ Approved Elective                 │ 0.0%   │ 0.0%   │ 0.0%   │ 0.0%   │\n",
      "│ 34  │ Engineering Elective              │ 0.0%   │ 0.0%   │ 0.0%   │ 0.0%   │\n",
      "│ 35  │ ECE Elective                      │ 0.0%   │ 0.0%   │ 0.0%   │ 0.0%   │\n",
      "│ 36  │ ECE 4011                          │ 0.0%   │ 0.0%   │ 0.0%   │ 0.0%   │\n",
      "│ 37  │ ECE 4XXX Elective                 │ 0.0%   │ 0.0%   │ 0.0%   │ 0.0%   │\n",
      "│ 38  │ ECE 4XXX Lab Elective             │ 0.0%   │ 0.0%   │ 0.0%   │ 0.0%   │\n",
      "│ 39  │ Approved Elective                 │ 0.0%   │ 0.0%   │ 0.0%   │ 0.0%   │\n",
      "│ 40  │ Humanities Elective               │ 0.0%   │ 0.0%   │ 0.0%   │ 0.0%   │\n",
      "│ 41  │ ECE 4012                          │ 0.0%   │ 0.0%   │ 0.0%   │ 0.0%   │\n",
      "│ 42  │ ECE 4XXX Elective                 │ 0.0%   │ 0.0%   │ 0.0%   │ 0.0%   │\n",
      "│ 43  │ Approved Elective                 │ 0.0%   │ 0.0%   │ 0.0%   │ 0.0%   │\n",
      "│ 44  │ Approved Elective                 │ 0.0%   │ 0.0%   │ 0.0%   │ 0.0%   │\n",
      "│ 45  │ GRAD RATE                         │ 0.0%   │ 0.0%   │ 0.0%   │ 0.0%   │\n",
      "\n",
      "│ Row │ TERM5  │ TERM6  │ TERM7  │ TERM8  │ TERM9  │ TERM10 │ TERM11 │ TERM12 │\n",
      "├─────┼────────┼────────┼────────┼────────┼────────┼────────┼────────┼────────┤\n",
      "│ 1   │ 98.5%  │ 98.5%  │ 98.5%  │ 98.5%  │ 98.5%  │ 98.5%  │ 98.5%  │ 98.5%  │\n",
      "│ 2   │ 99.1%  │ 99.1%  │ 99.1%  │ 99.1%  │ 99.1%  │ 99.1%  │ 99.1%  │ 99.1%  │\n",
      "│ 3   │ 98.65% │ 98.65% │ 98.65% │ 98.65% │ 98.65% │ 98.65% │ 98.65% │ 98.65% │\n",
      "│ 4   │ 98.85% │ 98.85% │ 98.85% │ 98.85% │ 98.85% │ 98.85% │ 98.85% │ 98.85% │\n",
      "│ 5   │ 98.8%  │ 98.8%  │ 98.8%  │ 98.8%  │ 98.8%  │ 98.8%  │ 98.8%  │ 98.8%  │\n",
      "│ 6   │ 98.85% │ 98.85% │ 98.85% │ 98.85% │ 98.85% │ 98.85% │ 98.85% │ 98.85% │\n",
      "│ 7   │ 88.75% │ 88.75% │ 88.75% │ 88.75% │ 88.75% │ 88.75% │ 88.75% │ 88.75% │\n",
      "│ 8   │ 88.7%  │ 88.7%  │ 88.7%  │ 88.7%  │ 88.7%  │ 88.7%  │ 88.7%  │ 88.7%  │\n",
      "│ 9   │ 88.3%  │ 88.3%  │ 88.3%  │ 88.3%  │ 88.3%  │ 88.3%  │ 88.3%  │ 88.3%  │\n",
      "│ 10  │ 89.5%  │ 89.5%  │ 89.5%  │ 89.5%  │ 89.5%  │ 89.5%  │ 89.5%  │ 89.5%  │\n",
      "│ 11  │ 85.7%  │ 85.75% │ 85.75% │ 85.75% │ 85.75% │ 85.75% │ 85.75% │ 85.75% │\n",
      "│ 12  │ 77.4%  │ 77.85% │ 77.85% │ 77.85% │ 77.85% │ 77.85% │ 77.85% │ 77.85% │\n",
      "│ 13  │ 77.2%  │ 77.5%  │ 77.55% │ 77.55% │ 77.55% │ 77.55% │ 77.55% │ 77.55% │\n",
      "│ 14  │ 77.3%  │ 77.8%  │ 77.8%  │ 77.8%  │ 77.8%  │ 77.8%  │ 77.8%  │ 77.8%  │\n",
      "│ 15  │ 78.6%  │ 78.7%  │ 78.7%  │ 78.7%  │ 78.7%  │ 78.7%  │ 78.7%  │ 78.7%  │\n",
      "│ 16  │ 76.9%  │ 77.15% │ 77.15% │ 77.15% │ 77.15% │ 77.15% │ 77.15% │ 77.15% │\n",
      "│ 17  │ 74.35% │ 74.9%  │ 74.9%  │ 74.9%  │ 74.9%  │ 74.9%  │ 74.9%  │ 74.9%  │\n",
      "│ 18  │ 73.1%  │ 74.3%  │ 74.35% │ 74.35% │ 74.35% │ 74.35% │ 74.35% │ 74.35% │\n",
      "│ 19  │ 66.75% │ 71.9%  │ 72.8%  │ 72.85% │ 72.9%  │ 72.9%  │ 72.9%  │ 72.9%  │\n",
      "│ 20  │ 72.5%  │ 73.8%  │ 74.0%  │ 74.0%  │ 74.0%  │ 74.0%  │ 74.0%  │ 74.0%  │\n",
      "│ 21  │ 68.95% │ 71.95% │ 72.35% │ 72.35% │ 72.35% │ 72.35% │ 72.35% │ 72.35% │\n",
      "│ 22  │ 65.1%  │ 71.1%  │ 71.45% │ 71.5%  │ 71.5%  │ 71.5%  │ 71.5%  │ 71.5%  │\n",
      "│ 23  │ 27.2%  │ 56.8%  │ 66.45% │ 68.65% │ 68.85% │ 68.9%  │ 68.9%  │ 68.9%  │\n",
      "│ 24  │ 67.35% │ 71.8%  │ 72.4%  │ 72.45% │ 72.45% │ 72.45% │ 72.45% │ 72.45% │\n",
      "│ 25  │ 33.35% │ 58.5%  │ 67.1%  │ 68.3%  │ 68.8%  │ 68.9%  │ 68.9%  │ 68.9%  │\n",
      "│ 26  │ 34.55% │ 59.3%  │ 67.4%  │ 68.8%  │ 69.0%  │ 69.1%  │ 69.1%  │ 69.1%  │\n",
      "│ 27  │ 43.4%  │ 67.1%  │ 69.3%  │ 69.65% │ 69.65% │ 69.65% │ 69.65% │ 69.65% │\n",
      "│ 28  │ 22.2%  │ 62.55% │ 67.7%  │ 68.5%  │ 68.6%  │ 68.6%  │ 68.6%  │ 68.6%  │\n",
      "│ 29  │ 8.6%   │ 55.2%  │ 67.35% │ 68.25% │ 68.25% │ 68.25% │ 68.25% │ 68.25% │\n",
      "│ 30  │ 5.1%   │ 48.6%  │ 66.5%  │ 68.05% │ 68.15% │ 68.15% │ 68.15% │ 68.15% │\n",
      "│ 31  │ 1.05%  │ 36.95% │ 64.55% │ 67.5%  │ 67.75% │ 67.75% │ 67.75% │ 67.75% │\n",
      "│ 32  │ 0.0%   │ 21.7%  │ 60.2%  │ 66.25% │ 67.2%  │ 67.25% │ 67.25% │ 67.25% │\n",
      "│ 33  │ 0.15%  │ 14.5%  │ 58.3%  │ 66.5%  │ 67.4%  │ 67.4%  │ 67.4%  │ 67.4%  │\n",
      "│ 34  │ 0.0%   │ 5.2%   │ 54.1%  │ 66.1%  │ 67.25% │ 67.25% │ 67.25% │ 67.25% │\n",
      "│ 35  │ 0.0%   │ 1.25%  │ 45.7%  │ 64.95% │ 66.65% │ 66.9%  │ 66.9%  │ 66.9%  │\n",
      "│ 36  │ 0.0%   │ 0.0%   │ 16.8%  │ 53.35% │ 63.15% │ 65.75% │ 66.15% │ 66.15% │\n",
      "│ 37  │ 0.0%   │ 0.35%  │ 34.1%  │ 62.7%  │ 66.3%  │ 66.7%  │ 66.7%  │ 66.7%  │\n",
      "│ 38  │ 0.0%   │ 0.05%  │ 23.5%  │ 60.7%  │ 66.15% │ 66.6%  │ 66.6%  │ 66.6%  │\n",
      "│ 39  │ 0.0%   │ 0.0%   │ 8.55%  │ 55.05% │ 65.05% │ 66.25% │ 66.25% │ 66.25% │\n",
      "│ 40  │ 0.0%   │ 0.0%   │ 1.85%  │ 48.45% │ 64.45% │ 66.15% │ 66.25% │ 66.25% │\n",
      "│ 41  │ 0.0%   │ 0.0%   │ 0.0%   │ 14.3%  │ 48.9%  │ 60.55% │ 64.65% │ 65.25% │\n",
      "│ 42  │ 0.0%   │ 0.0%   │ 0.1%   │ 38.7%  │ 62.65% │ 65.7%  │ 65.95% │ 65.95% │\n",
      "│ 43  │ 0.0%   │ 0.0%   │ 0.05%  │ 26.5%  │ 60.95% │ 65.45% │ 66.05% │ 66.05% │\n",
      "│ 44  │ 0.0%   │ 0.0%   │ 0.0%   │ 16.5%  │ 57.55% │ 65.05% │ 65.9%  │ 65.9%  │\n",
      "│ 45  │ 0.0%   │ 0.0%   │ 0.0%   │ 5.45%  │ 38.3%  │ 58.5%  │ 64.0%  │ 64.6%  │"
     ]
    }
   ],
   "source": [
    "real_passrate = false\n",
    "set_passrates(EE_degree_plan.curriculum.courses, 0.9)\n",
    "simulation = simulate(EE_degree_plan, course_attempt_limit, students,\n",
    "                      max_credits = max_credits,\n",
    "                      performance_model = performance_model,\n",
    "                      enrollment_model = enrollment_model,\n",
    "                      duration = num_terms,\n",
    "                      duration_lock = duration_lock,\n",
    "                      stopouts = stopouts);\n",
    "simulation_report(simulation, num_terms, course_passrate, max_credits, real_passrate)"
   ]
  },
  {
   "cell_type": "markdown",
   "metadata": {},
   "source": [
    "## 3. What-if Analyses\n",
    "\n",
    "These simulation capabilities allow us to conduct what-if analyses around the impact that changes to curricular structure or instructional improvements will have on student success.  First, let's consider how changing the number of allowed attempts (from 2 to 3) would impact graduation rates in both of these programs."
   ]
  },
  {
   "cell_type": "code",
   "execution_count": 12,
   "metadata": {
    "scrolled": false
   },
   "outputs": [
    {
     "name": "stdout",
     "output_type": "stream",
     "text": [
      "\n",
      "\u001b[0m\u001b[1m------------ Simulation Report ------------\u001b[22m\n",
      "Aerospace Engineering, BS -- 2019-20 Degree Plan\n",
      "\n",
      "-------- Simulation Statistics --------\n",
      "Number of terms: 12\n",
      "Max Credits per Term: 18\n",
      "Max Course Attempts: 3\n",
      "Number of Students: 2000\n",
      "Preset Course Pass Rates: 90.0%\n",
      "\n",
      "-------- Graduation Statistics --------\n",
      "Number of Students Graduated: 1162\n",
      "Graduation Rate: 58.099999999999994%\n",
      "Term Graduation Rates: \n",
      "[0.0, 0.0, 0.0, 0.0, 0.0, 0.0, 0.0, 0.0185, 0.246, 0.48, 0.572, 0.581]\n",
      "Average time to degree: 9.73407917383821 terms\n",
      "\n",
      "-------- Stop out Statistics --------\n",
      "Number of Students Stopped Out (Stopout Model Prediction + Reached Max Attempts): 836\n",
      "Number of Students Reaching Max Attempts: 225\n",
      "Stop-out Rate: 41.8%\n",
      "Cumulative Term Stop-out Rates (including reached max course attempts students): \n",
      "[0.078, 0.1915, 0.2355, 0.3305, 0.3685, 0.3865, 0.4065, 0.4125, 0.414, 0.4145, 0.4175, 0.418]\n",
      "\n",
      "Cumulative Term Stop-out Rates (excluding reaching max course attempts students): \n",
      "[0.078, 0.192, 0.218, 0.272, 0.29, 0.294, 0.306, 0.306, 0.306, 0.306, 0.306, 0.306]\n",
      "\n",
      "Cumulative Term Reached Max Course Attempts Rates: \n",
      "[0.0, 0.0, 0.017, 0.058, 0.079, 0.092, 0.101, 0.107, 0.108, 0.109, 0.112, 0.112]\n",
      "\n",
      "\n",
      "-------- Pass Rate of Each Course (computed from Student Grades CSV file) --------\n",
      "\n",
      "│ Row │ Courses                                         │ Pass_Rates │ Num_Students_Passes │ Num_Students_Taken │\n",
      "├─────┼─────────────────────────────────────────────────┼────────────┼─────────────────────┼────────────────────┤\n",
      "│ 1   │ MATH 125 Calculus I w/ Applications             │ 80.8%      │ 724                 │ 896                │\n",
      "│ 2   │ CHEM 151 Gen Chemistry I                        │ 76.1%      │ 3671                │ 4823               │\n",
      "│ 3   │ ENGL 101 First-year Comp.                       │ 88.9%      │ 8949                │ 10064              │\n",
      "│ 4   │ ENGR 102 Intro to Engineering                   │ 90.0%      │ N/A                 │ N/A                │\n",
      "│ 5   │ Tier I General Ed.                              │ 82.1%      │ 41165               │ 50147              │\n",
      "│ 6   │ MATH 129 Calculus II                            │ 74.7%      │ 2160                │ 2893               │\n",
      "│ 7   │ AME 105 Intro. to MATLAB I                      │ 88.9%      │ 547                 │ 615                │\n",
      "│ 8   │ PHYS 141 Intro Mechanics                        │ 74.4%      │ 1301                │ 1748               │\n",
      "│ 9   │ ENGL 102 First-year Comp.                       │ 86.3%      │ 6615                │ 7666               │\n",
      "│ 10  │ ECE 175 Programming for Eng. Apps.              │ 74.9%      │ 791                 │ 1056               │\n",
      "│ 11  │ Tier I General Ed. 1                            │ 82.1%      │ 41165               │ 50147              │\n",
      "│ 12  │ CE 214 Statics                                  │ 86.5%      │ 652                 │ 754                │\n",
      "│ 13  │ MATH  223 Vector Calculus                       │ 74.7%      │ 1621                │ 2169               │\n",
      "│ 14  │ PHYS 241 Electricity & Magnetism                │ 81.0%      │ 705                 │ 870                │\n",
      "│ 15  │ AME  205 Intro. To MATLAB II                    │ 90.2%      │ 634                 │ 703                │\n",
      "│ 16  │ AME 211 Comp. Aided Drafting & Manufacturing    │ 79.5%      │ 31                  │ 39                 │\n",
      "│ 17  │ Tier I General Ed. 2                            │ 82.1%      │ 41165               │ 50147              │\n",
      "│ 18  │ AME 230 Thermodynamics                          │ 88.4%      │ 382                 │ 432                │\n",
      "│ 19  │ AME 250 Dynamics                                │ 86.8%      │ 348                 │ 401                │\n",
      "│ 20  │ MATH 254 Intro. to ODEs                         │ 81.1%      │ 843                 │ 1040               │\n",
      "│ 21  │ AME 220 Intro. to Aerospace Eng.                │ 88.0%      │ 103                 │ 117                │\n",
      "│ 22  │ Tier I General Ed. 3                            │ 82.1%      │ 41165               │ 50147              │\n",
      "│ 23  │ AME 320 Aerodynamics                            │ 94.4%      │ 134                 │ 142                │\n",
      "│ 24  │ AME  324A Mech. Behavior of Eng. Materials.     │ 92.1%      │ 304                 │ 330                │\n",
      "│ 25  │ AME 301 Engineering Analysis                    │ 89.5%      │ 392                 │ 438                │\n",
      "│ 26  │ AME 300 Instrumentation Lab.                    │ 98.4%      │ 302                 │ 307                │\n",
      "│ 27  │ MSE 331R Fund. of Materials for Engineers       │ 97.3%      │ 253                 │ 260                │\n",
      "│ 28  │ AME 324L Mech. of Materials Lab.                │ 92.2%      │ 317                 │ 344                │\n",
      "│ 29  │ AME 324B Eng. Component Design                  │ 93.1%      │ 244                 │ 262                │\n",
      "│ 30  │ AME 321 Aircraft Performance                    │ 90.0%      │ 54                  │ 60                 │\n",
      "│ 31  │ AME 323 Gasdynamics                             │ 92.0%      │ 69                  │ 75                 │\n",
      "│ 32  │ AME 302 Numerical Methods                       │ 94.9%      │ 242                 │ 255                │\n",
      "│ 33  │ AME 313 Aero./Mech. Eng. Lab                    │ 99.1%      │ 552                 │ 557                │\n",
      "│ 34  │ Tier II General Ed. 1                           │ 82.1%      │ 41165               │ 50147              │\n",
      "│ 35  │ AME 401 Senior Aerospace Lab.                   │ 100.0%     │ 103                 │ 103                │\n",
      "│ 36  │ AME 420 Aerospace Conceptual Design             │ 98.3%      │ 57                  │ 58                 │\n",
      "│ 37  │ AME 425 Aerospace Propulsion                    │ 97.0%      │ 64                  │ 66                 │\n",
      "│ 38  │ AME 427 Stability and Control of Aero. Vehicles │ 94.0%      │ 47                  │ 50                 │\n",
      "│ 39  │ AME 457 Orbital Mechanicans and Space Flt.      │ 98.6%      │ 69                  │ 70                 │\n",
      "│ 40  │ AME 495S Senior Colloquium                      │ 100.0%     │ 128                 │ 128                │\n",
      "│ 41  │ AME 422 Aerospace Eng.Design                    │ 100.0%     │ 34                  │ 34                 │\n",
      "│ 42  │ AME 431 Num. Meth. in Fluid Mech. & Heat Xfer   │ 90.9%      │ 10                  │ 11                 │\n",
      "│ 43  │ Technical Elective 1                            │ 90.0%      │ N/A                 │ N/A                │\n",
      "│ 44  │ Technical Elective 2                            │ 90.0%      │ N/A                 │ N/A                │\n",
      "│ 45  │ Tier II General Ed. 2                           │ 82.1%      │ 41165               │ 50147              │\n",
      "\n",
      "-------- Course Pass Rates by Term --------\n",
      "\n",
      "│ Row │ COUSE                                   │ TERM1  │ TERM2  │ TERM3  │\n",
      "├─────┼─────────────────────────────────────────┼────────┼────────┼────────┤\n",
      "│ 1   │ Calculus I w/ Applications              │ 81.5%  │ 95.15% │ 97.55% │\n",
      "│ 2   │ Gen Chemistry I                         │ 76.15% │ 93.0%  │ 96.45% │\n",
      "│ 3   │ First-year Comp.                        │ 87.9%  │ 97.85% │ 98.5%  │\n",
      "│ 4   │ Intro to Engineering                    │ 89.4%  │ 98.0%  │ 98.8%  │\n",
      "│ 5   │ Tier I General Ed.                      │ 83.3%  │ 96.3%  │ 98.25% │\n",
      "│ 6   │ Calculus II                             │ 0.0%   │ 56.6%  │ 77.5%  │\n",
      "│ 7   │ Intro. to MATLAB I                      │ 0.0%   │ 67.15% │ 84.1%  │\n",
      "│ 8   │ Intro Mechanics                         │ 0.0%   │ 56.85% │ 77.7%  │\n",
      "│ 9   │ First-year Comp.                        │ 0.0%   │ 69.3%  │ 86.2%  │\n",
      "│ 10  │ Programming for Eng. Apps.              │ 0.0%   │ 64.75% │ 82.8%  │\n",
      "│ 11  │ Tier I General Ed. 1                    │ 0.0%   │ 48.35% │ 79.05% │\n",
      "│ 12  │ Statics                                 │ 0.0%   │ 0.0%   │ 32.9%  │\n",
      "│ 13  │ Vector Calculus                         │ 0.0%   │ 0.0%   │ 35.85% │\n",
      "│ 14  │ Electricity & Magnetism                 │ 0.0%   │ 0.0%   │ 28.1%  │\n",
      "│ 15  │ Intro. To MATLAB II                     │ 0.0%   │ 0.0%   │ 51.6%  │\n",
      "│ 16  │ Comp. Aided Drafting & Manufacturing    │ 0.0%   │ 9.2%   │ 54.45% │\n",
      "│ 17  │ Tier I General Ed. 2                    │ 0.0%   │ 8.05%  │ 39.0%  │\n",
      "│ 18  │ Thermodynamics                          │ 0.0%   │ 0.0%   │ 7.45%  │\n",
      "│ 19  │ Dynamics                                │ 0.0%   │ 0.0%   │ 0.0%   │\n",
      "│ 20  │ Intro. to ODEs                          │ 0.0%   │ 0.0%   │ 0.0%   │\n"
     ]
    },
    {
     "name": "stdout",
     "output_type": "stream",
     "text": [
      "│ 21  │ Intro. to Aerospace Eng.                │ 0.0%   │ 0.0%   │ 0.0%   │\n",
      "│ 22  │ Tier I General Ed. 3                    │ 0.0%   │ 0.0%   │ 15.25% │\n",
      "│ 23  │ Aerodynamics                            │ 0.0%   │ 0.0%   │ 0.0%   │\n",
      "│ 24  │ Mech. Behavior of Eng. Materials.       │ 0.0%   │ 0.0%   │ 0.0%   │\n",
      "│ 25  │ Engineering Analysis                    │ 0.0%   │ 0.0%   │ 0.0%   │\n",
      "│ 26  │ Instrumentation Lab.                    │ 0.0%   │ 0.0%   │ 4.05%  │\n",
      "│ 27  │ Fund. of Materials for Engineers        │ 0.0%   │ 0.0%   │ 1.55%  │\n",
      "│ 28  │ Mech. of Materials Lab.                 │ 93.05% │ 97.3%  │ 98.15% │\n",
      "│ 29  │ Eng. Component Design                   │ 0.0%   │ 0.0%   │ 0.0%   │\n",
      "│ 30  │ Aircraft Performance                    │ 0.0%   │ 0.0%   │ 0.0%   │\n",
      "│ 31  │ Gasdynamics                             │ 0.0%   │ 0.0%   │ 0.0%   │\n",
      "│ 32  │ Numerical Methods                       │ 0.0%   │ 0.0%   │ 0.0%   │\n",
      "│ 33  │ Aero./Mech. Eng. Lab                    │ 99.25% │ 99.75% │ 99.8%  │\n",
      "│ 34  │ Tier II General Ed. 1                   │ 0.0%   │ 0.0%   │ 0.45%  │\n",
      "│ 35  │ Senior Aerospace Lab.                   │ 0.0%   │ 0.0%   │ 0.0%   │\n",
      "│ 36  │ Aerospace Conceptual Design             │ 0.0%   │ 0.0%   │ 0.0%   │\n",
      "│ 37  │ Aerospace Propulsion                    │ 0.0%   │ 0.0%   │ 0.0%   │\n",
      "│ 38  │ Stability and Control of Aero. Vehicles │ 0.0%   │ 0.0%   │ 0.0%   │\n",
      "│ 39  │ Orbital Mechanicans and Space Flt.      │ 0.0%   │ 0.0%   │ 0.0%   │\n",
      "│ 40  │ Senior Colloquium                       │ 0.0%   │ 58.25% │ 71.95% │\n",
      "│ 41  │ Aerospace Eng.Design                    │ 0.0%   │ 0.0%   │ 0.0%   │\n",
      "│ 42  │ Num. Meth. in Fluid Mech. & Heat Xfer   │ 0.0%   │ 0.0%   │ 0.0%   │\n",
      "│ 43  │ Technical Elective 1                    │ 0.0%   │ 0.0%   │ 0.0%   │\n",
      "│ 44  │ Technical Elective 2                    │ 0.0%   │ 0.0%   │ 0.0%   │\n",
      "│ 45  │ Tier II General Ed. 2                   │ 0.0%   │ 0.0%   │ 0.0%   │\n",
      "│ 46  │ GRAD RATE                               │ 0.0%   │ 0.0%   │ 0.0%   │\n",
      "\n",
      "│ Row │ TERM4  │ TERM5  │ TERM6  │ TERM7  │ TERM8  │ TERM9  │ TERM10 │ TERM11 │\n",
      "├─────┼────────┼────────┼────────┼────────┼────────┼────────┼────────┼────────┤\n",
      "│ 1   │ 97.55% │ 97.55% │ 97.55% │ 97.55% │ 97.55% │ 97.55% │ 97.55% │ 97.55% │\n",
      "│ 2   │ 96.45% │ 96.45% │ 96.45% │ 96.45% │ 96.45% │ 96.45% │ 96.45% │ 96.45% │\n",
      "│ 3   │ 98.5%  │ 98.5%  │ 98.5%  │ 98.5%  │ 98.5%  │ 98.5%  │ 98.5%  │ 98.5%  │\n",
      "│ 4   │ 98.8%  │ 98.8%  │ 98.8%  │ 98.8%  │ 98.8%  │ 98.8%  │ 98.8%  │ 98.8%  │\n",
      "│ 5   │ 98.25% │ 98.25% │ 98.25% │ 98.25% │ 98.25% │ 98.25% │ 98.25% │ 98.25% │\n",
      "│ 6   │ 84.5%  │ 85.35% │ 85.45% │ 85.45% │ 85.45% │ 85.45% │ 85.45% │ 85.45% │\n",
      "│ 7   │ 87.9%  │ 88.15% │ 88.15% │ 88.15% │ 88.15% │ 88.15% │ 88.15% │ 88.15% │\n",
      "│ 8   │ 84.25% │ 85.3%  │ 85.35% │ 85.35% │ 85.35% │ 85.35% │ 85.35% │ 85.35% │\n",
      "│ 9   │ 88.75% │ 89.05% │ 89.05% │ 89.05% │ 89.05% │ 89.05% │ 89.05% │ 89.05% │\n",
      "│ 10  │ 87.05% │ 87.15% │ 87.15% │ 87.15% │ 87.15% │ 87.15% │ 87.15% │ 87.15% │\n",
      "│ 11  │ 84.8%  │ 85.55% │ 85.55% │ 85.55% │ 85.55% │ 85.55% │ 85.55% │ 85.55% │\n",
      "│ 12  │ 58.85% │ 71.05% │ 73.4%  │ 73.8%  │ 73.8%  │ 73.8%  │ 73.8%  │ 73.8%  │\n",
      "│ 13  │ 60.35% │ 70.4%  │ 73.1%  │ 73.4%  │ 73.45% │ 73.45% │ 73.45% │ 73.45% │\n",
      "│ 14  │ 55.75% │ 69.55% │ 72.0%  │ 72.7%  │ 72.75% │ 72.75% │ 72.75% │ 72.75% │\n",
      "│ 15  │ 72.35% │ 77.6%  │ 78.3%  │ 78.35% │ 78.35% │ 78.35% │ 78.35% │ 78.35% │\n",
      "│ 16  │ 75.25% │ 78.6%  │ 79.15% │ 79.15% │ 79.15% │ 79.15% │ 79.15% │ 79.15% │\n",
      "│ 17  │ 72.2%  │ 77.55% │ 78.0%  │ 78.0%  │ 78.0%  │ 78.0%  │ 78.0%  │ 78.0%  │\n",
      "│ 18  │ 55.9%  │ 70.6%  │ 73.25% │ 73.35% │ 73.4%  │ 73.4%  │ 73.4%  │ 73.4%  │\n",
      "│ 19  │ 21.6%  │ 47.9%  │ 62.55% │ 66.4%  │ 67.35% │ 67.35% │ 67.35% │ 67.35% │\n",
      "│ 20  │ 17.2%  │ 47.2%  │ 60.2%  │ 64.65% │ 65.6%  │ 65.75% │ 65.75% │ 65.75% │\n",
      "│ 21  │ 8.6%   │ 43.15% │ 59.05% │ 63.65% │ 64.25% │ 64.35% │ 64.35% │ 64.35% │\n",
      "│ 22  │ 32.8%  │ 60.6%  │ 69.35% │ 70.7%  │ 70.8%  │ 70.8%  │ 70.8%  │ 70.8%  │\n",
      "│ 23  │ 0.0%   │ 7.55%  │ 39.65% │ 55.75% │ 61.05% │ 62.0%  │ 62.1%  │ 62.1%  │\n",
      "│ 24  │ 0.0%   │ 27.3%  │ 58.5%  │ 63.45% │ 64.25% │ 64.4%  │ 64.4%  │ 64.4%  │\n",
      "│ 25  │ 0.0%   │ 11.15% │ 39.1%  │ 54.55% │ 60.4%  │ 61.6%  │ 61.9%  │ 61.9%  │\n",
      "│ 26  │ 13.2%  │ 28.15% │ 61.55% │ 67.05% │ 67.2%  │ 67.2%  │ 67.2%  │ 67.2%  │\n",
      "│ 27  │ 7.9%   │ 13.25% │ 50.25% │ 64.1%  │ 64.95% │ 64.95% │ 64.95% │ 64.95% │\n",
      "│ 28  │ 98.65% │ 98.65% │ 98.8%  │ 98.95% │ 98.95% │ 98.95% │ 98.95% │ 98.95% │\n",
      "│ 29  │ 0.0%   │ 0.0%   │ 9.7%   │ 35.45% │ 52.2%  │ 58.0%  │ 59.8%  │ 60.15% │\n",
      "│ 30  │ 0.0%   │ 0.0%   │ 16.9%  │ 48.5%  │ 57.9%  │ 60.4%  │ 60.55% │ 60.65% │\n",
      "│ 31  │ 0.0%   │ 0.0%   │ 8.9%   │ 44.85% │ 57.65% │ 60.0%  │ 60.3%  │ 60.3%  │\n",
      "│ 32  │ 0.0%   │ 0.0%   │ 4.7%   │ 41.9%  │ 57.55% │ 59.9%  │ 60.15% │ 60.15% │\n",
      "│ 33  │ 99.9%  │ 99.9%  │ 99.95% │ 99.95% │ 99.95% │ 99.95% │ 99.95% │ 99.95% │\n",
      "│ 34  │ 2.8%   │ 7.0%   │ 13.05% │ 39.85% │ 57.3%  │ 60.9%  │ 61.6%  │ 61.6%  │\n",
      "│ 35  │ 0.0%   │ 0.0%   │ 0.0%   │ 8.4%   │ 43.0%  │ 56.4%  │ 58.95% │ 59.25% │\n",
      "│ 36  │ 0.0%   │ 0.0%   │ 0.0%   │ 6.85%  │ 38.3%  │ 54.2%  │ 58.5%  │ 58.9%  │\n",
      "│ 37  │ 0.0%   │ 0.0%   │ 0.0%   │ 6.6%   │ 41.25% │ 55.6%  │ 58.45% │ 58.9%  │\n",
      "│ 38  │ 0.0%   │ 0.0%   │ 0.0%   │ 12.05% │ 40.95% │ 55.35% │ 58.5%  │ 59.1%  │\n",
      "│ 39  │ 0.0%   │ 0.0%   │ 2.65%  │ 13.75% │ 46.55% │ 58.8%  │ 59.7%  │ 59.7%  │\n",
      "│ 40  │ 81.85% │ 82.55% │ 82.7%  │ 82.85% │ 85.7%  │ 86.15% │ 86.15% │ 86.15% │\n",
      "│ 41  │ 0.0%   │ 0.0%   │ 0.0%   │ 0.0%   │ 6.7%   │ 38.0%  │ 53.9%  │ 58.2%  │\n",
      "│ 42  │ 0.0%   │ 0.0%   │ 0.0%   │ 1.45%  │ 24.7%  │ 51.95% │ 58.15% │ 58.8%  │\n",
      "│ 43  │ 2.0%   │ 4.95%  │ 8.65%  │ 12.9%  │ 28.55% │ 54.65% │ 59.95% │ 60.5%  │\n",
      "│ 44  │ 0.95%  │ 2.45%  │ 5.45%  │ 7.8%   │ 17.85% │ 49.95% │ 58.5%  │ 60.0%  │\n",
      "│ 45  │ 0.3%   │ 1.3%   │ 2.5%   │ 4.45%  │ 9.55%  │ 41.1%  │ 55.45% │ 58.6%  │\n",
      "│ 46  │ 0.0%   │ 0.0%   │ 0.0%   │ 0.0%   │ 1.85%  │ 24.6%  │ 48.0%  │ 57.2%  │\n",
      "\n",
      "│ Row │ TERM12 │\n",
      "├─────┼────────┤\n",
      "│ 1   │ 97.55% │\n",
      "│ 2   │ 96.45% │\n",
      "│ 3   │ 98.5%  │\n",
      "│ 4   │ 98.8%  │\n",
      "│ 5   │ 98.25% │\n",
      "│ 6   │ 85.45% │\n",
      "│ 7   │ 88.15% │\n",
      "│ 8   │ 85.35% │\n",
      "│ 9   │ 89.05% │\n",
      "│ 10  │ 87.15% │\n",
      "│ 11  │ 85.55% │\n",
      "│ 12  │ 73.8%  │\n",
      "│ 13  │ 73.45% │\n",
      "│ 14  │ 72.75% │\n",
      "│ 15  │ 78.35% │\n",
      "│ 16  │ 79.15% │\n",
      "│ 17  │ 78.0%  │\n",
      "│ 18  │ 73.4%  │\n",
      "│ 19  │ 67.35% │\n",
      "│ 20  │ 65.75% │\n",
      "│ 21  │ 64.35% │\n",
      "│ 22  │ 70.8%  │\n",
      "│ 23  │ 62.1%  │\n",
      "│ 24  │ 64.4%  │\n",
      "│ 25  │ 61.9%  │\n",
      "│ 26  │ 67.2%  │\n",
      "│ 27  │ 64.95% │\n",
      "│ 28  │ 98.95% │\n",
      "│ 29  │ 60.25% │\n",
      "│ 30  │ 60.65% │\n",
      "│ 31  │ 60.3%  │\n",
      "│ 32  │ 60.15% │\n",
      "│ 33  │ 99.95% │\n",
      "│ 34  │ 61.6%  │\n",
      "│ 35  │ 59.25% │\n",
      "│ 36  │ 59.0%  │\n",
      "│ 37  │ 58.9%  │\n",
      "│ 38  │ 59.2%  │\n",
      "│ 39  │ 59.7%  │\n",
      "│ 40  │ 86.15% │\n",
      "│ 41  │ 58.6%  │\n",
      "│ 42  │ 58.8%  │\n",
      "│ 43  │ 60.55% │\n",
      "│ 44  │ 60.1%  │\n",
      "│ 45  │ 59.0%  │\n",
      "│ 46  │ 58.1%  │"
     ]
    }
   ],
   "source": [
    "course_attempt_limit = 3\n",
    "simulation = simulate(AE_degree_plan, course_attempt_limit, students,\n",
    "                      max_credits = max_credits,\n",
    "                      performance_model = performance_model,\n",
    "                      enrollment_model = enrollment_model,\n",
    "                      duration = num_terms,\n",
    "                      duration_lock = duration_lock,\n",
    "                      stopouts = stopouts);\n",
    "simulation_report(simulation, num_terms, course_passrate, max_credits, real_passrate)"
   ]
  },
  {
   "cell_type": "code",
   "execution_count": 13,
   "metadata": {
    "scrolled": false
   },
   "outputs": [
    {
     "name": "stdout",
     "output_type": "stream",
     "text": [
      "\n",
      "\u001b[0m\u001b[1m------------ Simulation Report ------------\u001b[22m\n",
      "Computer Science, BS -- 2019-20 Degree Plan\n",
      "\n",
      "-------- Simulation Statistics --------\n",
      "Number of terms: 12\n",
      "Max Credits per Term: 18\n",
      "Max Course Attempts: 3\n",
      "Number of Students: 2000\n",
      "Preset Course Pass Rates: 90.0%\n",
      "\n",
      "-------- Graduation Statistics --------\n",
      "Number of Students Graduated: 1144\n",
      "Graduation Rate: 57.199999999999996%\n",
      "Term Graduation Rates: \n",
      "[0.0, 0.0, 0.0, 0.0, 0.0, 0.0, 0.0, 0.129, 0.4375, 0.5535, 0.571, 0.572]\n",
      "Average time to degree: 9.043706293706293 terms\n",
      "\n",
      "-------- Stop out Statistics --------\n",
      "Number of Students Stopped Out (Stopout Model Prediction + Reached Max Attempts): 856\n",
      "Number of Students Reaching Max Attempts: 267\n",
      "Stop-out Rate: 42.8%\n",
      "Cumulative Term Stop-out Rates (including reached max course attempts students): \n",
      "[0.0805, 0.2035, 0.2845, 0.3315, 0.372, 0.3965, 0.412, 0.419, 0.4225, 0.426, 0.428, 0.428]\n",
      "\n",
      "Cumulative Term Stop-out Rates (excluding reaching max course attempts students): \n",
      "[0.08, 0.204, 0.23, 0.266, 0.284, 0.293, 0.294, 0.295, 0.294, 0.294, 0.294, 0.294]\n",
      "\n",
      "Cumulative Term Reached Max Course Attempts Rates: \n",
      "[0.0, 0.0, 0.054, 0.066, 0.088, 0.104, 0.118, 0.124, 0.128, 0.132, 0.134, 0.134]\n",
      "\n",
      "\n",
      "-------- Pass Rate of Each Course (computed from Student Grades CSV file) --------\n",
      "\n",
      "│ Row │ Courses                                  │ Pass_Rates │ Num_Students_Passes │ Num_Students_Taken │\n",
      "├─────┼──────────────────────────────────────────┼────────────┼─────────────────────┼────────────────────┤\n",
      "│ 1   │ CSC 110 Intro to Computer Programming I  │ 63.3%      │ 925                 │ 1461               │\n",
      "│ 2   │ MATH 120R Pre-Calculus                   │ 72.1%      │ 2246                │ 3117               │\n",
      "│ 3   │ ENGL 101 English Composition I           │ 88.9%      │ 8949                │ 10064              │\n",
      "│ 4   │ 1st Semester Second Language             │ 90.0%      │ N/A                 │ N/A                │\n",
      "│ 5   │ CSC 120 Intro to Computer Programming II │ 72.4%      │ 603                 │ 833                │\n",
      "│ 6   │ MATH 122A/B Calculus I                   │ 90.0%      │ N/A                 │ N/A                │\n",
      "│ 7   │ ENGL 102 English Composition II          │ 86.3%      │ 6615                │ 7666               │\n",
      "│ 8   │ 2nd Semester Second Language             │ 90.0%      │ N/A                 │ N/A                │\n",
      "│ 9   │ CSC 210 Software Development             │ 76.7%      │ 355                 │ 463                │\n",
      "│ 10  │ CSC 245 Intro to Discrete Structures     │ 80.4%      │ 369                 │ 459                │\n",
      "│ 11  │ MATH 129 Calculus II                     │ 74.7%      │ 2160                │ 2893               │\n",
      "│ 12  │ Tier 1 General Education 1               │ 90.0%      │ N/A                 │ N/A                │\n",
      "│ 13  │ Tier 1 General Education 2               │ 90.0%      │ N/A                 │ N/A                │\n",
      "│ 14  │ CSC 252 Computer Organization            │ 81.8%      │ 251                 │ 307                │\n",
      "│ 15  │ CSC 352 Systems Programming & Unix       │ 67.2%      │ 289                 │ 430                │\n",
      "│ 16  │ Supporting Science #1                    │ 90.0%      │ N/A                 │ N/A                │\n",
      "│ 17  │ Tier 1 General Education 3               │ 90.0%      │ N/A                 │ N/A                │\n",
      "│ 18  │ Tier 1 General Education 4               │ 90.0%      │ N/A                 │ N/A                │\n",
      "│ 19  │ CSC 335 Object-Oriented Programming      │ 91.4%      │ 278                 │ 304                │\n",
      "│ 20  │ CSC 345 Analysis of Discrete Structures  │ 79.2%      │ 316                 │ 399                │\n",
      "│ 21  │ Supporting Science #2                    │ 90.0%      │ N/A                 │ N/A                │\n",
      "│ 22  │ Tier 2 Gen Ed/Upper-Division 1           │ 90.0%      │ N/A                 │ N/A                │\n",
      "│ 23  │ Upper-Division Elective                  │ 90.0%      │ N/A                 │ N/A                │\n",
      "│ 24  │ CSC Paradigms Elective                   │ 90.0%      │ N/A                 │ N/A                │\n",
      "│ 25  │ CSC 400-Level Elective 1                 │ 90.0%      │ N/A                 │ N/A                │\n",
      "│ 26  │ Tier 2 Gen Ed/Upper-Division 2           │ 90.0%      │ N/A                 │ N/A                │\n",
      "│ 27  │ Tier 2 Gen Ed/Upper-Division 3           │ 90.0%      │ N/A                 │ N/A                │\n",
      "│ 28  │ Elective 1                               │ 90.0%      │ N/A                 │ N/A                │\n",
      "│ 29  │ CSC Theory & Writing Elective            │ 90.0%      │ N/A                 │ N/A                │\n",
      "│ 30  │ CSC 400-Level Elective 2                 │ 90.0%      │ N/A                 │ N/A                │\n",
      "│ 31  │ Elective 2                               │ 90.0%      │ N/A                 │ N/A                │\n",
      "│ 32  │ Elective 3                               │ 90.0%      │ N/A                 │ N/A                │\n",
      "│ 33  │ Elective 4                               │ 90.0%      │ N/A                 │ N/A                │\n",
      "│ 34  │ CSC Systems Elective                     │ 90.0%      │ N/A                 │ N/A                │\n",
      "│ 35  │ CSC 300/400-Level Elective               │ 90.0%      │ N/A                 │ N/A                │\n",
      "│ 36  │ Upper-Division Elective 1                │ 90.0%      │ N/A                 │ N/A                │\n",
      "│ 37  │ Upper-Division Elective 2                │ 90.0%      │ N/A                 │ N/A                │\n",
      "\n",
      "-------- Course Pass Rates by Term --------\n",
      "\n",
      "│ Row │ COUSE                            │ TERM1  │ TERM2  │ TERM3  │ TERM4  │\n",
      "├─────┼──────────────────────────────────┼────────┼────────┼────────┼────────┤\n",
      "│ 1   │ Intro to Computer Programming I  │ 63.8%  │ 84.6%  │ 91.1%  │ 91.1%  │\n",
      "│ 2   │ Pre-Calculus                     │ 70.15% │ 91.55% │ 95.5%  │ 95.5%  │\n",
      "│ 3   │ English Composition I            │ 88.3%  │ 97.15% │ 98.3%  │ 98.3%  │\n",
      "│ 4   │ 1st Semester Second Language     │ 0.0%   │ 83.0%  │ 89.95% │ 90.85% │\n",
      "│ 5   │ Intro to Computer Programming II │ 0.0%   │ 41.85% │ 65.2%  │ 75.75% │\n",
      "│ 6   │ Calculus I                       │ 0.0%   │ 58.25% │ 80.65% │ 85.9%  │\n",
      "│ 7   │ English Composition II           │ 0.0%   │ 69.8%  │ 84.3%  │ 87.55% │\n",
      "│ 8   │ 2nd Semester Second Language     │ 0.0%   │ 0.0%   │ 64.25% │ 75.5%  │\n",
      "│ 9   │ Software Development             │ 0.0%   │ 0.0%   │ 27.55% │ 52.2%  │\n",
      "│ 10  │ Intro to Discrete Structures     │ 0.0%   │ 0.0%   │ 25.5%  │ 51.9%  │\n",
      "│ 11  │ Calculus II                      │ 0.0%   │ 0.0%   │ 37.3%  │ 61.3%  │\n",
      "│ 12  │ Tier 1 General Education 1       │ 89.2%  │ 89.5%  │ 95.45% │ 97.75% │\n",
      "│ 13  │ Tier 1 General Education 2       │ 0.0%   │ 2.45%  │ 53.4%  │ 74.3%  │\n",
      "│ 14  │ Computer Organization            │ 0.0%   │ 0.0%   │ 0.0%   │ 20.85% │\n",
      "│ 15  │ Systems Programming & Unix       │ 0.0%   │ 0.0%   │ 0.0%   │ 17.8%  │\n",
      "│ 16  │ Supporting Science #1            │ 0.0%   │ 0.0%   │ 15.9%  │ 60.35% │\n",
      "│ 17  │ Tier 1 General Education 3       │ 0.0%   │ 0.0%   │ 1.7%   │ 47.85% │\n",
      "│ 18  │ Tier 1 General Education 4       │ 0.0%   │ 0.0%   │ 0.0%   │ 28.2%  │\n",
      "│ 19  │ Object-Oriented Programming      │ 0.0%   │ 0.0%   │ 0.0%   │ 0.0%   │\n",
      "│ 20  │ Analysis of Discrete Structures  │ 0.0%   │ 0.0%   │ 0.0%   │ 0.0%   │\n",
      "│ 21  │ Supporting Science #2            │ 0.0%   │ 0.0%   │ 0.0%   │ 12.25% │\n",
      "│ 22  │ Tier 2 Gen Ed/Upper-Division 1   │ 0.0%   │ 0.0%   │ 0.0%   │ 2.8%   │\n",
      "│ 23  │ Upper-Division Elective          │ 0.0%   │ 0.0%   │ 0.0%   │ 0.0%   │\n",
      "│ 24  │ CSC Paradigms Elective           │ 0.0%   │ 0.0%   │ 0.0%   │ 0.0%   │\n",
      "│ 25  │ CSC 400-Level Elective 1         │ 0.0%   │ 0.0%   │ 0.0%   │ 0.0%   │\n",
      "│ 26  │ Tier 2 Gen Ed/Upper-Division 2   │ 0.0%   │ 0.0%   │ 0.0%   │ 0.0%   │\n",
      "│ 27  │ Tier 2 Gen Ed/Upper-Division 3   │ 0.0%   │ 0.0%   │ 0.0%   │ 0.0%   │\n",
      "│ 28  │ Elective 1                       │ 0.0%   │ 0.0%   │ 0.0%   │ 0.0%   │\n",
      "│ 29  │ CSC Theory & Writing Elective    │ 0.0%   │ 0.0%   │ 0.0%   │ 0.0%   │\n",
      "│ 30  │ CSC 400-Level Elective 2         │ 0.0%   │ 0.0%   │ 0.0%   │ 0.0%   │\n",
      "│ 31  │ Elective 2                       │ 0.0%   │ 0.0%   │ 0.0%   │ 0.0%   │\n",
      "│ 32  │ Elective 3                       │ 0.0%   │ 0.0%   │ 0.0%   │ 0.0%   │\n"
     ]
    },
    {
     "name": "stdout",
     "output_type": "stream",
     "text": [
      "│ 33  │ Elective 4                       │ 0.0%   │ 0.0%   │ 0.0%   │ 0.0%   │\n",
      "│ 34  │ CSC Systems Elective             │ 0.0%   │ 0.0%   │ 0.0%   │ 0.0%   │\n",
      "│ 35  │ CSC 300/400-Level Elective       │ 0.0%   │ 0.0%   │ 0.0%   │ 0.0%   │\n",
      "│ 36  │ Upper-Division Elective 1        │ 0.0%   │ 0.0%   │ 0.0%   │ 0.0%   │\n",
      "│ 37  │ Upper-Division Elective 2        │ 0.0%   │ 0.0%   │ 0.0%   │ 0.0%   │\n",
      "│ 38  │ GRAD RATE                        │ 0.0%   │ 0.0%   │ 0.0%   │ 0.0%   │\n",
      "\n",
      "│ Row │ TERM5  │ TERM6  │ TERM7  │ TERM8  │ TERM9  │ TERM10 │ TERM11 │ TERM12 │\n",
      "├─────┼────────┼────────┼────────┼────────┼────────┼────────┼────────┼────────┤\n",
      "│ 1   │ 91.1%  │ 91.1%  │ 91.1%  │ 91.1%  │ 91.1%  │ 91.1%  │ 91.1%  │ 91.1%  │\n",
      "│ 2   │ 95.5%  │ 95.5%  │ 95.5%  │ 95.5%  │ 95.5%  │ 95.5%  │ 95.5%  │ 95.5%  │\n",
      "│ 3   │ 98.3%  │ 98.3%  │ 98.3%  │ 98.3%  │ 98.3%  │ 98.3%  │ 98.3%  │ 98.3%  │\n",
      "│ 4   │ 90.85% │ 90.85% │ 90.85% │ 90.85% │ 90.85% │ 90.85% │ 90.85% │ 90.85% │\n",
      "│ 5   │ 78.15% │ 78.25% │ 78.25% │ 78.25% │ 78.25% │ 78.25% │ 78.25% │ 78.25% │\n",
      "│ 6   │ 86.3%  │ 86.35% │ 86.35% │ 86.35% │ 86.35% │ 86.35% │ 86.35% │ 86.35% │\n",
      "│ 7   │ 87.75% │ 87.75% │ 87.75% │ 87.75% │ 87.75% │ 87.75% │ 87.75% │ 87.75% │\n",
      "│ 8   │ 77.55% │ 77.7%  │ 77.7%  │ 77.7%  │ 77.7%  │ 77.7%  │ 77.7%  │ 77.7%  │\n",
      "│ 9   │ 64.35% │ 68.3%  │ 69.25% │ 69.5%  │ 69.5%  │ 69.5%  │ 69.5%  │ 69.5%  │\n",
      "│ 10  │ 64.4%  │ 68.45% │ 69.15% │ 69.2%  │ 69.2%  │ 69.2%  │ 69.2%  │ 69.2%  │\n",
      "│ 11  │ 70.15% │ 72.5%  │ 72.75% │ 72.75% │ 72.75% │ 72.75% │ 72.75% │ 72.75% │\n",
      "│ 12  │ 97.95% │ 97.95% │ 97.95% │ 97.95% │ 97.95% │ 97.95% │ 97.95% │ 97.95% │\n",
      "│ 13  │ 76.85% │ 77.3%  │ 77.3%  │ 77.3%  │ 77.3%  │ 77.3%  │ 77.3%  │ 77.3%  │\n",
      "│ 14  │ 44.25% │ 57.35% │ 62.8%  │ 64.3%  │ 64.85% │ 64.9%  │ 64.9%  │ 64.9%  │\n",
      "│ 15  │ 39.1%  │ 53.5%  │ 59.6%  │ 62.1%  │ 62.75% │ 62.9%  │ 62.9%  │ 62.9%  │\n",
      "│ 16  │ 70.75% │ 72.1%  │ 72.2%  │ 72.2%  │ 72.2%  │ 72.2%  │ 72.2%  │ 72.2%  │\n",
      "│ 17  │ 67.4%  │ 69.9%  │ 70.05% │ 70.05% │ 70.05% │ 70.05% │ 70.05% │ 70.05% │\n",
      "│ 18  │ 62.65% │ 67.6%  │ 68.05% │ 68.1%  │ 68.1%  │ 68.1%  │ 68.1%  │ 68.1%  │\n",
      "│ 19  │ 39.2%  │ 57.05% │ 61.9%  │ 63.45% │ 63.75% │ 63.8%  │ 63.8%  │ 63.8%  │\n",
      "│ 20  │ 27.9%  │ 50.55% │ 58.5%  │ 61.7%  │ 62.35% │ 62.6%  │ 62.6%  │ 62.6%  │\n",
      "│ 21  │ 38.5%  │ 62.1%  │ 65.75% │ 65.9%  │ 65.9%  │ 65.9%  │ 65.9%  │ 65.9%  │\n",
      "│ 22  │ 31.85% │ 59.45% │ 64.5%  │ 65.05% │ 65.05% │ 65.05% │ 65.05% │ 65.05% │\n",
      "│ 23  │ 16.8%  │ 52.1%  │ 61.65% │ 62.75% │ 62.8%  │ 62.8%  │ 62.8%  │ 62.8%  │\n",
      "│ 24  │ 6.25%  │ 46.15% │ 61.05% │ 62.25% │ 62.35% │ 62.35% │ 62.35% │ 62.35% │\n",
      "│ 25  │ 2.8%   │ 36.6%  │ 58.6%  │ 61.5%  │ 61.6%  │ 61.6%  │ 61.6%  │ 61.6%  │\n",
      "│ 26  │ 0.4%   │ 26.3%  │ 55.7%  │ 60.15% │ 60.75% │ 60.75% │ 60.75% │ 60.75% │\n",
      "│ 27  │ 0.0%   │ 17.15% │ 52.55% │ 59.35% │ 60.2%  │ 60.3%  │ 60.3%  │ 60.3%  │\n",
      "│ 28  │ 0.0%   │ 7.1%   │ 47.9%  │ 58.55% │ 60.0%  │ 60.0%  │ 60.0%  │ 60.0%  │\n",
      "│ 29  │ 0.0%   │ 2.85%  │ 42.1%  │ 57.75% │ 59.65% │ 59.65% │ 59.65% │ 59.65% │\n",
      "│ 30  │ 0.0%   │ 0.0%   │ 33.95% │ 56.05% │ 58.9%  │ 59.2%  │ 59.2%  │ 59.2%  │\n",
      "│ 31  │ 0.0%   │ 0.0%   │ 25.45% │ 54.25% │ 58.65% │ 59.05% │ 59.05% │ 59.05% │\n",
      "│ 32  │ 0.0%   │ 0.0%   │ 16.75% │ 51.25% │ 58.15% │ 58.65% │ 58.75% │ 58.75% │\n",
      "│ 33  │ 0.0%   │ 0.0%   │ 9.65%  │ 47.6%  │ 57.15% │ 58.5%  │ 58.6%  │ 58.6%  │\n",
      "│ 34  │ 0.0%   │ 0.0%   │ 3.6%   │ 42.4%  │ 56.55% │ 58.1%  │ 58.25% │ 58.25% │\n",
      "│ 35  │ 0.0%   │ 0.0%   │ 1.25%  │ 35.5%  │ 54.8%  │ 58.1%  │ 58.3%  │ 58.3%  │\n",
      "│ 36  │ 0.0%   │ 0.0%   │ 0.0%   │ 27.25% │ 52.25% │ 57.3%  │ 57.85% │ 57.9%  │\n",
      "│ 37  │ 0.0%   │ 0.0%   │ 0.0%   │ 18.9%  │ 51.4%  │ 57.35% │ 58.05% │ 58.1%  │\n",
      "│ 38  │ 0.0%   │ 0.0%   │ 0.0%   │ 12.9%  │ 43.75% │ 55.35% │ 57.1%  │ 57.2%  │"
     ]
    }
   ],
   "source": [
    "simulation = simulate(CS_degree_plan, course_attempt_limit, students,\n",
    "                      max_credits = max_credits,\n",
    "                      performance_model = performance_model,\n",
    "                      enrollment_model = enrollment_model,\n",
    "                      duration = num_terms,\n",
    "                      duration_lock = duration_lock,\n",
    "                      stopouts = stopouts);\n",
    "simulation_report(simulation, num_terms, course_passrate, max_credits, real_passrate)"
   ]
  },
  {
   "cell_type": "markdown",
   "metadata": {},
   "source": [
    "Next, notice that CSC 110 -- Intro to Computer Programming I is clearly a gateway course for the computer science program at the University of Arizona, and that is has a relatively low success rate. There are a few other courses with teh CSC prefix that also have low success rates. What would happen if the instruction and instructional support were changed in a way that enabled the students taking CSC 110, CSC 120 and CSC 353 to obtain a 90% pass rate? "
   ]
  },
  {
   "cell_type": "code",
   "execution_count": 14,
   "metadata": {},
   "outputs": [],
   "source": [
    "convert_ids(CS_degree_plan.curriculum)\n",
    "csc110 = course(CS_degree_plan.curriculum, \"CSC\", \"110\", \"Intro to Computer Programming I\", \"\")\n",
    "csc120 = course(CS_degree_plan.curriculum, \"CSC\", \"120\", \"Intro to Computer Programming II\", \"\")\n",
    "csc353 = course(CS_degree_plan.curriculum, \"CSC\", \"352\", \"Systems Programming & Unix\", \"\")\n",
    "csc110.passrate = csc120.passrate = csc353.passrate = 0.9;"
   ]
  },
  {
   "cell_type": "code",
   "execution_count": 15,
   "metadata": {
    "scrolled": false
   },
   "outputs": [
    {
     "name": "stdout",
     "output_type": "stream",
     "text": [
      "\n",
      "\u001b[0m\u001b[1m------------ Simulation Report ------------\u001b[22m\n",
      "Computer Science, BS -- 2019-20 Degree Plan\n",
      "\n",
      "-------- Simulation Statistics --------\n",
      "Number of terms: 12\n",
      "Max Credits per Term: 18\n",
      "Max Course Attempts: 3\n",
      "Number of Students: 2000\n",
      "Preset Course Pass Rates: 90.0%\n",
      "\n",
      "-------- Graduation Statistics --------\n",
      "Number of Students Graduated: 1233\n",
      "Graduation Rate: 61.650000000000006%\n",
      "Term Graduation Rates: \n",
      "[0.0, 0.0, 0.0, 0.0, 0.0, 0.0, 0.0, 0.1905, 0.523, 0.6075, 0.6165, 0.0]\n",
      "Average time to degree: 8.857258718572588 terms\n",
      "\n",
      "-------- Stop out Statistics --------\n",
      "Number of Students Stopped Out (Stopout Model Prediction + Reached Max Attempts): 767\n",
      "Number of Students Reaching Max Attempts: 152\n",
      "Stop-out Rate: 38.35%\n",
      "Cumulative Term Stop-out Rates (including reached max course attempts students): \n",
      "[0.079, 0.2055, 0.2525, 0.3055, 0.3465, 0.3625, 0.372, 0.3775, 0.3815, 0.3835, 0.3835, 0.0]\n",
      "\n",
      "Cumulative Term Stop-out Rates (excluding reaching max course attempts students): \n",
      "[0.079, 0.206, 0.232, 0.282, 0.298, 0.304, 0.308, 0.308, 0.308, 0.308, 0.308, 0.0]\n",
      "\n",
      "Cumulative Term Reached Max Course Attempts Rates: \n",
      "[0.0, 0.0, 0.02, 0.024, 0.048, 0.058, 0.064, 0.07, 0.074, 0.076, 0.076, 0.0]\n",
      "\n",
      "\n",
      "-------- Pass Rate of Each Course (computed from Student Grades CSV file) --------\n",
      "\n",
      "│ Row │ Courses                                  │ Pass_Rates │ Num_Students_Passes │ Num_Students_Taken │\n",
      "├─────┼──────────────────────────────────────────┼────────────┼─────────────────────┼────────────────────┤\n",
      "│ 1   │ CSC 110 Intro to Computer Programming I  │ 90.0%      │ 925                 │ 1461               │\n",
      "│ 2   │ MATH 120R Pre-Calculus                   │ 72.1%      │ 2246                │ 3117               │\n",
      "│ 3   │ ENGL 101 English Composition I           │ 88.9%      │ 8949                │ 10064              │\n",
      "│ 4   │ 1st Semester Second Language             │ 90.0%      │ N/A                 │ N/A                │\n",
      "│ 5   │ CSC 120 Intro to Computer Programming II │ 90.0%      │ 603                 │ 833                │\n",
      "│ 6   │ MATH 122A/B Calculus I                   │ 90.0%      │ N/A                 │ N/A                │\n",
      "│ 7   │ ENGL 102 English Composition II          │ 86.3%      │ 6615                │ 7666               │\n",
      "│ 8   │ 2nd Semester Second Language             │ 90.0%      │ N/A                 │ N/A                │\n",
      "│ 9   │ CSC 210 Software Development             │ 76.7%      │ 355                 │ 463                │\n",
      "│ 10  │ CSC 245 Intro to Discrete Structures     │ 80.4%      │ 369                 │ 459                │\n",
      "│ 11  │ MATH 129 Calculus II                     │ 74.7%      │ 2160                │ 2893               │\n",
      "│ 12  │ Tier 1 General Education 1               │ 90.0%      │ N/A                 │ N/A                │\n",
      "│ 13  │ Tier 1 General Education 2               │ 90.0%      │ N/A                 │ N/A                │\n",
      "│ 14  │ CSC 252 Computer Organization            │ 81.8%      │ 251                 │ 307                │\n",
      "│ 15  │ CSC 352 Systems Programming & Unix       │ 90.0%      │ 289                 │ 430                │\n",
      "│ 16  │ Supporting Science #1                    │ 90.0%      │ N/A                 │ N/A                │\n",
      "│ 17  │ Tier 1 General Education 3               │ 90.0%      │ N/A                 │ N/A                │\n",
      "│ 18  │ Tier 1 General Education 4               │ 90.0%      │ N/A                 │ N/A                │\n",
      "│ 19  │ CSC 335 Object-Oriented Programming      │ 91.4%      │ 278                 │ 304                │\n",
      "│ 20  │ CSC 345 Analysis of Discrete Structures  │ 79.2%      │ 316                 │ 399                │\n",
      "│ 21  │ Supporting Science #2                    │ 90.0%      │ N/A                 │ N/A                │\n",
      "│ 22  │ Tier 2 Gen Ed/Upper-Division 1           │ 90.0%      │ N/A                 │ N/A                │\n",
      "│ 23  │ Upper-Division Elective                  │ 90.0%      │ N/A                 │ N/A                │\n",
      "│ 24  │ CSC Paradigms Elective                   │ 90.0%      │ N/A                 │ N/A                │\n",
      "│ 25  │ CSC 400-Level Elective 1                 │ 90.0%      │ N/A                 │ N/A                │\n",
      "│ 26  │ Tier 2 Gen Ed/Upper-Division 2           │ 90.0%      │ N/A                 │ N/A                │\n",
      "│ 27  │ Tier 2 Gen Ed/Upper-Division 3           │ 90.0%      │ N/A                 │ N/A                │\n",
      "│ 28  │ Elective 1                               │ 90.0%      │ N/A                 │ N/A                │\n",
      "│ 29  │ CSC Theory & Writing Elective            │ 90.0%      │ N/A                 │ N/A                │\n",
      "│ 30  │ CSC 400-Level Elective 2                 │ 90.0%      │ N/A                 │ N/A                │\n",
      "│ 31  │ Elective 2                               │ 90.0%      │ N/A                 │ N/A                │\n",
      "│ 32  │ Elective 3                               │ 90.0%      │ N/A                 │ N/A                │\n",
      "│ 33  │ Elective 4                               │ 90.0%      │ N/A                 │ N/A                │\n",
      "│ 34  │ CSC Systems Elective                     │ 90.0%      │ N/A                 │ N/A                │\n",
      "│ 35  │ CSC 300/400-Level Elective               │ 90.0%      │ N/A                 │ N/A                │\n",
      "│ 36  │ Upper-Division Elective 1                │ 90.0%      │ N/A                 │ N/A                │\n",
      "│ 37  │ Upper-Division Elective 2                │ 90.0%      │ N/A                 │ N/A                │\n",
      "\n",
      "-------- Course Pass Rates by Term --------\n",
      "\n",
      "│ Row │ COUSE                            │ TERM1  │ TERM2  │ TERM3  │ TERM4  │\n",
      "├─────┼──────────────────────────────────┼────────┼────────┼────────┼────────┤\n",
      "│ 1   │ Intro to Computer Programming I  │ 91.1%  │ 98.6%  │ 99.3%  │ 99.3%  │\n",
      "│ 2   │ Pre-Calculus                     │ 72.8%  │ 91.25% │ 95.1%  │ 95.1%  │\n",
      "│ 3   │ English Composition I            │ 90.45% │ 98.0%  │ 98.95% │ 98.95% │\n",
      "│ 4   │ 1st Semester Second Language     │ 0.0%   │ 82.9%  │ 89.9%  │ 90.3%  │\n",
      "│ 5   │ Intro to Computer Programming II │ 0.0%   │ 75.9%  │ 87.65% │ 89.35% │\n",
      "│ 6   │ Calculus I                       │ 0.0%   │ 60.5%  │ 79.55% │ 85.05% │\n",
      "│ 7   │ English Composition II           │ 0.0%   │ 70.9%  │ 85.55% │ 88.45% │\n",
      "│ 8   │ 2nd Semester Second Language     │ 0.0%   │ 0.0%   │ 64.9%  │ 76.65% │\n",
      "│ 9   │ Software Development             │ 0.0%   │ 0.0%   │ 48.95% │ 69.65% │\n",
      "│ 10  │ Intro to Discrete Structures     │ 0.0%   │ 0.0%   │ 49.35% │ 69.7%  │\n",
      "│ 11  │ Calculus II                      │ 0.0%   │ 0.0%   │ 38.8%  │ 61.5%  │\n",
      "│ 12  │ Tier 1 General Education 1       │ 90.1%  │ 90.25% │ 94.25% │ 97.55% │\n",
      "│ 13  │ Tier 1 General Education 2       │ 0.0%   │ 1.85%  │ 42.65% │ 74.45% │\n",
      "│ 14  │ Computer Organization            │ 0.0%   │ 0.0%   │ 0.0%   │ 38.05% │\n",
      "│ 15  │ Systems Programming & Unix       │ 0.0%   │ 0.0%   │ 0.0%   │ 40.3%  │\n",
      "│ 16  │ Supporting Science #1            │ 0.0%   │ 0.0%   │ 5.3%   │ 58.15% │\n",
      "│ 17  │ Tier 1 General Education 3       │ 0.0%   │ 0.0%   │ 0.7%   │ 45.6%  │\n",
      "│ 18  │ Tier 1 General Education 4       │ 0.0%   │ 0.0%   │ 0.0%   │ 22.4%  │\n",
      "│ 19  │ Object-Oriented Programming      │ 0.0%   │ 0.0%   │ 0.0%   │ 0.0%   │\n",
      "│ 20  │ Analysis of Discrete Structures  │ 0.0%   │ 0.0%   │ 0.0%   │ 0.0%   │\n",
      "│ 21  │ Supporting Science #2            │ 0.0%   │ 0.0%   │ 0.0%   │ 5.45%  │\n",
      "│ 22  │ Tier 2 Gen Ed/Upper-Division 1   │ 0.0%   │ 0.0%   │ 0.0%   │ 0.35%  │\n",
      "│ 23  │ Upper-Division Elective          │ 0.0%   │ 0.0%   │ 0.0%   │ 0.0%   │\n",
      "│ 24  │ CSC Paradigms Elective           │ 0.0%   │ 0.0%   │ 0.0%   │ 0.0%   │\n",
      "│ 25  │ CSC 400-Level Elective 1         │ 0.0%   │ 0.0%   │ 0.0%   │ 0.0%   │\n",
      "│ 26  │ Tier 2 Gen Ed/Upper-Division 2   │ 0.0%   │ 0.0%   │ 0.0%   │ 0.0%   │\n",
      "│ 27  │ Tier 2 Gen Ed/Upper-Division 3   │ 0.0%   │ 0.0%   │ 0.0%   │ 0.0%   │\n",
      "│ 28  │ Elective 1                       │ 0.0%   │ 0.0%   │ 0.0%   │ 0.0%   │\n",
      "│ 29  │ CSC Theory & Writing Elective    │ 0.0%   │ 0.0%   │ 0.0%   │ 0.0%   │\n",
      "│ 30  │ CSC 400-Level Elective 2         │ 0.0%   │ 0.0%   │ 0.0%   │ 0.0%   │\n",
      "│ 31  │ Elective 2                       │ 0.0%   │ 0.0%   │ 0.0%   │ 0.0%   │\n",
      "│ 32  │ Elective 3                       │ 0.0%   │ 0.0%   │ 0.0%   │ 0.0%   │\n",
      "│ 33  │ Elective 4                       │ 0.0%   │ 0.0%   │ 0.0%   │ 0.0%   │\n",
      "│ 34  │ CSC Systems Elective             │ 0.0%   │ 0.0%   │ 0.0%   │ 0.0%   │\n",
      "│ 35  │ CSC 300/400-Level Elective       │ 0.0%   │ 0.0%   │ 0.0%   │ 0.0%   │\n",
      "│ 36  │ Upper-Division Elective 1        │ 0.0%   │ 0.0%   │ 0.0%   │ 0.0%   │\n",
      "│ 37  │ Upper-Division Elective 2        │ 0.0%   │ 0.0%   │ 0.0%   │ 0.0%   │\n",
      "│ 38  │ GRAD RATE                        │ 0.0%   │ 0.0%   │ 0.0%   │ 0.0%   │\n",
      "\n",
      "│ Row │ TERM5  │ TERM6  │ TERM7  │ TERM8  │ TERM9  │ TERM10 │ TERM11 │ TERM12 │\n",
      "├─────┼────────┼────────┼────────┼────────┼────────┼────────┼────────┼────────┤\n",
      "│ 1   │ 99.3%  │ 99.3%  │ 99.3%  │ 99.3%  │ 99.3%  │ 99.3%  │ 99.3%  │ 99.3%  │\n",
      "│ 2   │ 95.1%  │ 95.1%  │ 95.1%  │ 95.1%  │ 95.1%  │ 95.1%  │ 95.1%  │ 95.1%  │\n",
      "│ 3   │ 98.95% │ 98.95% │ 98.95% │ 98.95% │ 98.95% │ 98.95% │ 98.95% │ 98.95% │\n",
      "│ 4   │ 90.3%  │ 90.3%  │ 90.3%  │ 90.3%  │ 90.3%  │ 90.3%  │ 90.3%  │ 90.3%  │\n",
      "│ 5   │ 89.4%  │ 89.4%  │ 89.4%  │ 89.4%  │ 89.4%  │ 89.4%  │ 89.4%  │ 89.4%  │\n",
      "│ 6   │ 85.4%  │ 85.4%  │ 85.4%  │ 85.4%  │ 85.4%  │ 85.4%  │ 85.4%  │ 85.4%  │\n",
      "│ 7   │ 88.75% │ 88.75% │ 88.75% │ 88.75% │ 88.75% │ 88.75% │ 88.75% │ 88.75% │\n",
      "│ 8   │ 78.0%  │ 78.05% │ 78.05% │ 78.05% │ 78.05% │ 78.05% │ 78.05% │ 78.05% │\n",
      "│ 9   │ 75.4%  │ 76.25% │ 76.35% │ 76.35% │ 76.35% │ 76.35% │ 76.35% │ 76.35% │\n",
      "│ 10  │ 74.9%  │ 75.6%  │ 75.6%  │ 75.6%  │ 75.6%  │ 75.6%  │ 75.6%  │ 75.6%  │\n",
      "│ 11  │ 71.35% │ 72.9%  │ 73.25% │ 73.25% │ 73.25% │ 73.25% │ 73.25% │ 73.25% │\n",
      "│ 12  │ 97.85% │ 97.85% │ 97.85% │ 97.85% │ 97.85% │ 97.85% │ 97.85% │ 97.85% │\n",
      "│ 13  │ 77.2%  │ 77.4%  │ 77.4%  │ 77.4%  │ 77.4%  │ 77.4%  │ 77.4%  │ 77.4%  │\n",
      "│ 14  │ 59.8%  │ 68.65% │ 70.05% │ 70.45% │ 70.55% │ 70.55% │ 70.55% │ 70.55% │\n",
      "│ 15  │ 62.35% │ 69.85% │ 70.95% │ 71.2%  │ 71.25% │ 71.25% │ 71.25% │ 71.25% │\n",
      "│ 16  │ 71.95% │ 73.3%  │ 73.3%  │ 73.3%  │ 73.3%  │ 73.3%  │ 73.3%  │ 73.3%  │\n",
      "│ 17  │ 69.75% │ 72.4%  │ 72.55% │ 72.55% │ 72.55% │ 72.55% │ 72.55% │ 72.55% │\n",
      "│ 18  │ 64.05% │ 69.75% │ 69.9%  │ 69.95% │ 69.95% │ 69.95% │ 69.95% │ 69.95% │\n",
      "│ 19  │ 51.65% │ 65.65% │ 67.25% │ 67.65% │ 67.65% │ 67.65% │ 67.65% │ 67.65% │\n",
      "│ 20  │ 40.45% │ 60.25% │ 65.25% │ 66.35% │ 66.35% │ 66.35% │ 66.35% │ 66.35% │\n",
      "│ 21  │ 37.5%  │ 63.6%  │ 66.8%  │ 67.45% │ 67.45% │ 67.45% │ 67.45% │ 67.45% │\n",
      "│ 22  │ 30.1%  │ 62.55% │ 66.9%  │ 67.05% │ 67.05% │ 67.05% │ 67.05% │ 67.05% │\n",
      "│ 23  │ 11.4%  │ 57.0%  │ 65.0%  │ 65.9%  │ 65.95% │ 65.95% │ 65.95% │ 65.95% │\n",
      "│ 24  │ 3.0%   │ 51.75% │ 63.65% │ 64.85% │ 65.0%  │ 65.0%  │ 65.0%  │ 65.0%  │\n",
      "│ 25  │ 1.1%   │ 41.3%  │ 62.2%  │ 64.1%  │ 64.4%  │ 64.4%  │ 64.4%  │ 64.4%  │\n",
      "│ 26  │ 0.05%  │ 31.5%  │ 60.1%  │ 63.7%  │ 63.85% │ 63.9%  │ 63.9%  │ 63.9%  │\n",
      "│ 27  │ 0.0%   │ 20.65% │ 57.85% │ 63.7%  │ 63.95% │ 63.95% │ 63.95% │ 63.95% │\n",
      "│ 28  │ 0.0%   │ 10.6%  │ 54.9%  │ 62.55% │ 63.55% │ 63.6%  │ 63.6%  │ 63.6%  │\n",
      "│ 29  │ 0.0%   │ 3.8%   │ 50.35% │ 62.1%  │ 63.2%  │ 63.3%  │ 63.3%  │ 63.3%  │\n",
      "│ 30  │ 0.0%   │ 0.0%   │ 44.8%  │ 60.9%  │ 63.05% │ 63.2%  │ 63.2%  │ 63.2%  │\n",
      "│ 31  │ 0.0%   │ 0.0%   │ 34.7%  │ 59.35% │ 62.55% │ 62.95% │ 62.95% │ 62.95% │\n",
      "│ 32  │ 0.0%   │ 0.0%   │ 24.85% │ 56.95% │ 62.45% │ 62.7%  │ 62.7%  │ 62.7%  │\n",
      "│ 33  │ 0.0%   │ 0.0%   │ 14.3%  │ 54.15% │ 61.95% │ 62.8%  │ 62.8%  │ 62.8%  │\n",
      "│ 34  │ 0.0%   │ 0.0%   │ 6.3%   │ 50.45% │ 61.15% │ 62.35% │ 62.4%  │ 62.4%  │\n",
      "│ 35  │ 0.0%   │ 0.0%   │ 1.7%   │ 45.6%  │ 60.55% │ 62.35% │ 62.4%  │ 62.4%  │\n"
     ]
    },
    {
     "name": "stdout",
     "output_type": "stream",
     "text": [
      "│ 36  │ 0.0%   │ 0.0%   │ 0.0%   │ 37.35% │ 58.85% │ 61.9%  │ 62.35% │ 62.35% │\n",
      "│ 37  │ 0.0%   │ 0.0%   │ 0.0%   │ 28.2%  │ 58.45% │ 61.85% │ 62.2%  │ 62.2%  │\n",
      "│ 38  │ 0.0%   │ 0.0%   │ 0.0%   │ 19.05% │ 52.3%  │ 60.75% │ 61.65% │ 0.0%   │"
     ]
    }
   ],
   "source": [
    "simulation = simulate(CS_degree_plan, course_attempt_limit, students,\n",
    "                      max_credits = max_credits,\n",
    "                      performance_model = performance_model,\n",
    "                      enrollment_model = enrollment_model,\n",
    "                      duration = num_terms,\n",
    "                      duration_lock = duration_lock,\n",
    "                      stopouts = stopouts);\n",
    "simulation_report(simulation, num_terms, course_passrate, max_credits, real_passrate)"
   ]
  },
  {
   "cell_type": "markdown",
   "metadata": {},
   "source": [
    "# References\n",
    "\n",
    "Heileman, G. L., Abdallah, C.T., Slim, A., and Hickman, M. (2018). Curricular analytics: A framework for quantifying the impact of curricular reforms and pedagogical innovations. www.arXiv.org, arXiv:1811.09676 [cs.CY].\n",
    "\n",
    "Hickman, M. (2014). Development of a Curriculum Analysis and Simulation Library with Applications in Curricular Analytics. MS thesis, University of New Mexico,\n",
    "Albuquerque, NM."
   ]
  }
 ],
 "metadata": {
  "@webio": {
   "lastCommId": "13efe9b815634e4c83747a3202c203c3",
   "lastKernelId": "6d7eb97f-3f11-4cd9-beb6-eb399b664b2d"
  },
  "kernelspec": {
   "display_name": "Julia 1.5.0",
   "language": "julia",
   "name": "julia-1.5"
  },
  "language_info": {
   "file_extension": ".jl",
   "mimetype": "application/julia",
   "name": "julia",
   "version": "1.5.0"
  }
 },
 "nbformat": 4,
 "nbformat_minor": 2
}
