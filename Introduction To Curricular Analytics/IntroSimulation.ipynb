{
 "cells": [
  {
   "cell_type": "markdown",
   "metadata": {},
   "source": [
    "# <center>Introduction to Curricular Simulations</center>\n",
    "\n",
    "<center>\n",
    "    <b>Gregory L. Heileman$^\\dagger$, Jiacheng Zhang$^\\ddagger$ and Hayden W. Free$^\\bullet$</b> <br>\n",
    "    $^\\dagger$Department of Electrical & Computer Engineering <br>\n",
    "    University of Arizona <br>\n",
    "    heileman@arizona.edu <br>\n",
    "    $^\\ddagger$Department of Computer Science <br>\n",
    "    jiachengzhang1@arizona.edu <br>\n",
    "    University of Arizona<br>\n",
    "    $^\\bullet$Department of Computer Science <br>\n",
    "    hayden.free@uky.edu <br>\n",
    "    University of Kentucky\n",
    "</center>"
   ]
  },
  {
   "cell_type": "markdown",
   "metadata": {},
   "source": [
    "## 1. Introduction\n",
    "\n",
    "This notebook demonstrates how to use the simulation capabilites that are included as a part of the [CurricularAnalytics toolbox](https://github.com/CurricularAnalytics/CurricularAnalytics.jl). If you would like to become more familiar with the notions behind curricular analytics, we suggest you read <cite data-cite=\"he:18\">Heileman, et. al, (2018)</cite>, and also examine the Introduction to the Curricular Analytics Toolbox notebook that accompanies this notebook.\n",
    "\n",
    "The simulation capabilites include the ability to simulate the flow of students through a curriculum, towards graduation, using discrete event simulation. Specifically, a population of students attempt to complete the selected curriculum, by taking courses in the order prescribed by the curriculum. At each step (semester) of the simulation a given student enrolls in a set of courses, earning either a passing of failing grade in each.  At the end of a given semester, if a student has passed all of the courses in the curriculum, they are deemed a graduate.  If a student has not yet gradauted, then they may stop out (according to a prescribed stop-out model), or enroll in the next set of courses available to them. One of the intended uses of these simulation capabilities is to estimate the impact that particular curricular changes or instructional improvements will have on student progress. \n",
    "\n",
    "The simulation framework (shown below) was orginally developed by <cite data-cite=\"hi:18\">Hickman, (2014)</cite>, and  subsequent development has allowed it to be integrated into the CurricularAnalytics toolbox. \n",
    "\n",
    "<img src=\"SimulationFramework.png\" width=\"600\">\n",
    "\n",
    "Notice that the simulation \"engine\" requires three inputs: a curriculum, a model for students, and a model for student peformance. The results of the simualtion are returned in an object that may be viewed using the `simulation_report()` function, as demonstrated below. \n",
    "\n",
    "In order to perform curricular simulations, first load the Curricular Analytics toolbox modules:"
   ]
  },
  {
   "cell_type": "code",
   "execution_count": 21,
   "metadata": {},
   "outputs": [],
   "source": [
    "using CurricularAnalytics, CurricularVisualization"
   ]
  },
  {
   "cell_type": "markdown",
   "metadata": {},
   "source": [
    "## 2. Setting up the Simulation Environment\n",
    "\n",
    "The first thing we will do is read in a degree plan. The student in the simulation will attempt to complete the curriculum associated with the degree plan in the order that prescribed in the degree plan.  Specifically, in each semester each student will enroll in courses they have not yet taken in the order specified by the degree plan until they reach the maximum allowed number of credit hours.\n",
    "\n",
    "### 2.1 Reading the Degree Plan\n",
    "\n",
    "The following commands read in a degree plan stored in the CSV file format, and then display a visualization of the resulting plan."
   ]
  },
  {
   "cell_type": "code",
   "execution_count": 2,
   "metadata": {},
   "outputs": [
    {
     "data": {
      "application/vnd.webio.node+json": {
       "children": [
        {
         "children": [
          ""
         ],
         "instanceArgs": {
          "namespace": "html",
          "tag": "iframe"
         },
         "nodeType": "DOM",
         "props": {
          "events": {
           "load": "(function (){this.contentWindow.postMessage({\"options\":{\"hideTerms\":false,\"edit\":false},\"curriculum\":{\"name\":\"Aerospace Engineering\",\"dp_name\":\"2019-20 Degree Plan\",\"curriculum_terms\":[{\"name\":\"Term 1\",\"curriculum_items\":[{\"curriculum_requisites\":[],\"name\":\"MATH 125\",\"metrics\":{\"centrality\":0,\"complexity\":38.0,\"blocking factor\":29,\"delay factor\":9.0},\"nameSub\":\"Calculus I w/ Applications\",\"id\":1,\"credits\":3,\"nameCanonical\":\"\"},{\"curriculum_requisites\":[],\"name\":\"CHEM 151\",\"metrics\":{\"centrality\":0,\"complexity\":5.0,\"blocking factor\":2,\"delay factor\":3.0},\"nameSub\":\"Gen Chemistry I\",\"id\":2,\"credits\":4,\"nameCanonical\":\"\"},{\"curriculum_requisites\":[],\"name\":\"ENGL 101\",\"metrics\":{\"centrality\":0,\"complexity\":3.0,\"blocking factor\":1,\"delay factor\":2.0},\"nameSub\":\"First-year Comp.\",\"id\":3,\"credits\":3,\"nameCanonical\":\"\"},{\"curriculum_requisites\":[{\"source_id\":1,\"target_id\":4,\"type\":\"CurriculumCorequisite\"}],\"name\":\"ENGR 102\",\"metrics\":{\"centrality\":0,\"complexity\":2.0,\"blocking factor\":0,\"delay factor\":2.0},\"nameSub\":\"Intro to Engineering\",\"id\":4,\"credits\":3,\"nameCanonical\":\"\"},{\"curriculum_requisites\":[],\"name\":\" \",\"metrics\":{\"centrality\":0,\"complexity\":1.0,\"blocking factor\":0,\"delay factor\":1.0},\"nameSub\":\"Tier I General Ed.\",\"id\":5,\"credits\":3,\"nameCanonical\":\"\"}],\"id\":1},{\"name\":\"Term 2\",\"curriculum_items\":[{\"curriculum_requisites\":[{\"source_id\":1,\"target_id\":6,\"type\":\"CurriculumPrerequisite\"}],\"name\":\"MATH 129\",\"metrics\":{\"centrality\":387,\"complexity\":31.0,\"blocking factor\":22,\"delay factor\":9.0},\"nameSub\":\"Calculus II\",\"id\":6,\"credits\":3,\"nameCanonical\":\"\"},{\"curriculum_requisites\":[{\"source_id\":1,\"target_id\":7,\"type\":\"CurriculumPrerequisite\"}],\"name\":\"AME 105\",\"metrics\":{\"centrality\":28,\"complexity\":16.0,\"blocking factor\":9,\"delay factor\":7.0},\"nameSub\":\"Intro. to MATLAB I\",\"id\":7,\"credits\":1,\"nameCanonical\":\"\"},{\"curriculum_requisites\":[{\"source_id\":1,\"target_id\":8,\"type\":\"CurriculumPrerequisite\"}],\"name\":\"PHYS 141\",\"metrics\":{\"centrality\":277,\"complexity\":28.0,\"blocking factor\":19,\"delay factor\":9.0},\"nameSub\":\"Intro Mechanics\",\"id\":8,\"credits\":4,\"nameCanonical\":\"\"},{\"curriculum_requisites\":[{\"source_id\":3,\"target_id\":9,\"type\":\"CurriculumPrerequisite\"}],\"name\":\"ENGL 102\",\"metrics\":{\"centrality\":0,\"complexity\":2.0,\"blocking factor\":0,\"delay factor\":2.0},\"nameSub\":\"First-year Comp.\",\"id\":9,\"credits\":3,\"nameCanonical\":\"\"},{\"curriculum_requisites\":[{\"source_id\":1,\"target_id\":10,\"type\":\"CurriculumCorequisite\"}],\"name\":\"ECE 175\",\"metrics\":{\"centrality\":0,\"complexity\":2.0,\"blocking factor\":0,\"delay factor\":2.0},\"nameSub\":\"Programming for Eng. Apps.\",\"id\":10,\"credits\":3,\"nameCanonical\":\"\"},{\"curriculum_requisites\":[],\"name\":\" \",\"metrics\":{\"centrality\":0,\"complexity\":1.0,\"blocking factor\":0,\"delay factor\":1.0},\"nameSub\":\"Tier I General Ed. 1\",\"id\":11,\"credits\":3,\"nameCanonical\":\"\"}],\"id\":2},{\"name\":\"Term 3\",\"curriculum_items\":[{\"curriculum_requisites\":[{\"source_id\":8,\"target_id\":12,\"type\":\"CurriculumPrerequisite\"},{\"source_id\":6,\"target_id\":12,\"type\":\"CurriculumPrerequisite\"}],\"name\":\"CE 214\",\"metrics\":{\"centrality\":264,\"complexity\":24.0,\"blocking factor\":15,\"delay factor\":9.0},\"nameSub\":\"Statics\",\"id\":12,\"credits\":3,\"nameCanonical\":\"\"},{\"curriculum_requisites\":[{\"source_id\":6,\"target_id\":13,\"type\":\"CurriculumPrerequisite\"}],\"name\":\"MATH  223\",\"metrics\":{\"centrality\":252,\"complexity\":25.0,\"blocking factor\":16,\"delay factor\":9.0},\"nameSub\":\"Vector Calculus\",\"id\":13,\"credits\":4,\"nameCanonical\":\"\"},{\"curriculum_requisites\":[{\"source_id\":8,\"target_id\":14,\"type\":\"CurriculumPrerequisite\"},{\"source_id\":6,\"target_id\":14,\"type\":\"CurriculumPrerequisite\"}],\"name\":\"PHYS 241\",\"metrics\":{\"centrality\":0,\"complexity\":3.0,\"blocking factor\":0,\"delay factor\":3.0},\"nameSub\":\"Electricity & Magnetism\",\"id\":14,\"credits\":4,\"nameCanonical\":\"\"},{\"curriculum_requisites\":[{\"source_id\":7,\"target_id\":15,\"type\":\"CurriculumPrerequisite\"}],\"name\":\"AME  205\",\"metrics\":{\"centrality\":28,\"complexity\":15.0,\"blocking factor\":8,\"delay factor\":7.0},\"nameSub\":\"Intro. To MATLAB II\",\"id\":15,\"credits\":1,\"nameCanonical\":\"\"},{\"curriculum_requisites\":[],\"name\":\"AME 211\",\"metrics\":{\"centrality\":0,\"complexity\":1.0,\"blocking factor\":0,\"delay factor\":1.0},\"nameSub\":\"Comp. Aided Drafting & Manufacturing\",\"id\":16,\"credits\":3,\"nameCanonical\":\"\"},{\"curriculum_requisites\":[],\"name\":\" \",\"metrics\":{\"centrality\":0,\"complexity\":1.0,\"blocking factor\":0,\"delay factor\":1.0},\"nameSub\":\"Tier I General Ed. 2\",\"id\":17,\"credits\":3,\"nameCanonical\":\"\"}],\"id\":3},{\"name\":\"Term 4\",\"curriculum_items\":[{\"curriculum_requisites\":[{\"source_id\":8,\"target_id\":18,\"type\":\"CurriculumPrerequisite\"}],\"name\":\"AME 230\",\"metrics\":{\"centrality\":86,\"complexity\":19.0,\"blocking factor\":11,\"delay factor\":8.0},\"nameSub\":\"Thermodynamics\",\"id\":18,\"credits\":3,\"nameCanonical\":\"\"},{\"curriculum_requisites\":[{\"source_id\":12,\"target_id\":19,\"type\":\"CurriculumPrerequisite\"},{\"source_id\":20,\"target_id\":19,\"type\":\"CurriculumCorequisite\"}],\"name\":\"AME 250\",\"metrics\":{\"centrality\":145,\"complexity\":19.0,\"blocking factor\":10,\"delay factor\":9.0},\"nameSub\":\"Dynamics\",\"id\":19,\"credits\":3,\"nameCanonical\":\"\"},{\"curriculum_requisites\":[{\"source_id\":13,\"target_id\":20,\"type\":\"CurriculumPrerequisite\"}],\"name\":\"MATH 254\",\"metrics\":{\"centrality\":182,\"complexity\":24.0,\"blocking factor\":15,\"delay factor\":9.0},\"nameSub\":\"Intro. to ODEs\",\"id\":20,\"credits\":3,\"nameCanonical\":\"\"},{\"curriculum_requisites\":[{\"source_id\":13,\"target_id\":21,\"type\":\"CurriculumPrerequisite\"},{\"source_id\":8,\"target_id\":21,\"type\":\"CurriculumPrerequisite\"},{\"source_id\":20,\"target_id\":21,\"type\":\"CurriculumCorequisite\"}],\"name\":\"AME 220\",\"metrics\":{\"centrality\":198,\"complexity\":17.0,\"blocking factor\":8,\"delay factor\":9.0},\"nameSub\":\"Intro. to Aerospace Eng.\",\"id\":21,\"credits\":3,\"nameCanonical\":\"\"},{\"curriculum_requisites\":[],\"name\":\" \",\"metrics\":{\"centrality\":0,\"complexity\":1.0,\"blocking factor\":0,\"delay factor\":1.0},\"nameSub\":\"Tier I General Ed. 3\",\"id\":22,\"credits\":3,\"nameCanonical\":\"\"}],\"id\":4},{\"name\":\"Term 5\",\"curriculum_items\":[{\"curriculum_requisites\":[{\"source_id\":26,\"target_id\":23,\"type\":\"CurriculumCorequisite\"},{\"source_id\":21,\"target_id\":23,\"type\":\"CurriculumPrerequisite\"}],\"name\":\"AME 320\",\"metrics\":{\"centrality\":214,\"complexity\":14.0,\"blocking factor\":5,\"delay factor\":9.0},\"nameSub\":\"Aerodynamics\",\"id\":23,\"credits\":3,\"nameCanonical\":\"\"},{\"curriculum_requisites\":[{\"source_id\":12,\"target_id\":24,\"type\":\"CurriculumPrerequisite\"}],\"name\":\"AME  324A\",\"metrics\":{\"centrality\":172,\"complexity\":21.0,\"blocking factor\":12,\"delay factor\":9.0},\"nameSub\":\"Mech. Behavior of Eng. Materials.\",\"id\":24,\"credits\":3,\"nameCanonical\":\"\"},{\"curriculum_requisites\":[{\"source_id\":20,\"target_id\":25,\"type\":\"CurriculumPrerequisite\"}],\"name\":\"AME 301\",\"metrics\":{\"centrality\":6,\"complexity\":7.0,\"blocking factor\":1,\"delay factor\":6.0},\"nameSub\":\"Engineering Analysis\",\"id\":25,\"credits\":3,\"nameCanonical\":\"\"},{\"curriculum_requisites\":[{\"source_id\":18,\"target_id\":26,\"type\":\"CurriculumCorequisite\"},{\"source_id\":24,\"target_id\":26,\"type\":\"CurriculumCorequisite\"}],\"name\":\"AME 300\",\"metrics\":{\"centrality\":204,\"complexity\":19.0,\"blocking factor\":10,\"delay factor\":9.0},\"nameSub\":\"Instrumentation Lab.\",\"id\":26,\"credits\":3,\"nameCanonical\":\"\"},{\"curriculum_requisites\":[{\"source_id\":2,\"target_id\":27,\"type\":\"CurriculumPrerequisite\"}],\"name\":\"MSE 331R\",\"metrics\":{\"centrality\":3,\"complexity\":4.0,\"blocking factor\":1,\"delay factor\":3.0},\"nameSub\":\"Fund. of Materials for Engineers\",\"id\":27,\"credits\":3,\"nameCanonical\":\"\"},{\"curriculum_requisites\":[{\"source_id\":24,\"target_id\":28,\"type\":\"CurriculumCorequisite\"}],\"name\":\"AME 324L\",\"metrics\":{\"centrality\":0,\"complexity\":5.0,\"blocking factor\":0,\"delay factor\":5.0},\"nameSub\":\"Mech. of Materials Lab.\",\"id\":28,\"credits\":1,\"nameCanonical\":\"\"}],\"id\":5},{\"name\":\"Term 6\",\"curriculum_items\":[{\"curriculum_requisites\":[{\"source_id\":25,\"target_id\":29,\"type\":\"CurriculumPrerequisite\"}],\"name\":\"AME 324B\",\"metrics\":{\"centrality\":0,\"complexity\":6.0,\"blocking factor\":0,\"delay factor\":6.0},\"nameSub\":\"Eng. Component Design\",\"id\":29,\"credits\":3,\"nameCanonical\":\"\"},{\"curriculum_requisites\":[{\"source_id\":23,\"target_id\":30,\"type\":\"CurriculumCorequisite\"},{\"source_id\":19,\"target_id\":30,\"type\":\"CurriculumPrerequisite\"},{\"source_id\":21,\"target_id\":30,\"type\":\"CurriculumPrerequisite\"}],\"name\":\"AME 321\",\"metrics\":{\"centrality\":174,\"complexity\":12.0,\"blocking factor\":3,\"delay factor\":9.0},\"nameSub\":\"Aircraft Performance\",\"id\":30,\"credits\":3,\"nameCanonical\":\"\"},{\"curriculum_requisites\":[{\"source_id\":18,\"target_id\":31,\"type\":\"CurriculumPrerequisite\"},{\"source_id\":32,\"target_id\":31,\"type\":\"CurriculumCorequisite\"},{\"source_id\":21,\"target_id\":31,\"type\":\"CurriculumPrerequisite\"},{\"source_id\":20,\"target_id\":31,\"type\":\"CurriculumPrerequisite\"}],\"name\":\"AME 323\",\"metrics\":{\"centrality\":274,\"complexity\":13.0,\"blocking factor\":4,\"delay factor\":9.0},\"nameSub\":\"Gasdynamics\",\"id\":31,\"credits\":3,\"nameCanonical\":\"\"},{\"curriculum_requisites\":[{\"source_id\":26,\"target_id\":32,\"type\":\"CurriculumCorequisite\"},{\"source_id\":19,\"target_id\":32,\"type\":\"CurriculumPrerequisite\"},{\"source_id\":15,\"target_id\":32,\"type\":\"CurriculumPrerequisite\"},{\"source_id\":20,\"target_id\":32,\"type\":\"CurriculumPrerequisite\"}],\"name\":\"AME 302\",\"metrics\":{\"centrality\":232,\"complexity\":15.0,\"blocking factor\":6,\"delay factor\":9.0},\"nameSub\":\"Numerical Methods\",\"id\":32,\"credits\":3,\"nameCanonical\":\"\"},{\"curriculum_requisites\":[],\"name\":\"AME 313\",\"metrics\":{\"centrality\":0,\"complexity\":5.0,\"blocking factor\":2,\"delay factor\":3.0},\"nameSub\":\"Aero./Mech. Eng. Lab\",\"id\":33,\"credits\":1,\"nameCanonical\":\"\"},{\"curriculum_requisites\":[],\"name\":\" \",\"metrics\":{\"centrality\":0,\"complexity\":1.0,\"blocking factor\":0,\"delay factor\":1.0},\"nameSub\":\"Tier II General Ed. 1\",\"id\":34,\"credits\":3,\"nameCanonical\":\"\"}],\"id\":6},{\"name\":\"Term 7\",\"curriculum_items\":[{\"curriculum_requisites\":[{\"source_id\":23,\"target_id\":35,\"type\":\"CurriculumPrerequisite\"},{\"source_id\":31,\"target_id\":35,\"type\":\"CurriculumPrerequisite\"},{\"source_id\":27,\"target_id\":35,\"type\":\"CurriculumPrerequisite\"}],\"name\":\"AME 401\",\"metrics\":{\"centrality\":0,\"complexity\":8.0,\"blocking factor\":0,\"delay factor\":8.0},\"nameSub\":\"Senior Aerospace Lab.\",\"id\":35,\"credits\":3,\"nameCanonical\":\"\"},{\"curriculum_requisites\":[{\"source_id\":23,\"target_id\":36,\"type\":\"CurriculumPrerequisite\"},{\"source_id\":31,\"target_id\":36,\"type\":\"CurriculumPrerequisite\"},{\"source_id\":33,\"target_id\":36,\"type\":\"CurriculumPrerequisite\"},{\"source_id\":30,\"target_id\":36,\"type\":\"CurriculumPrerequisite\"}],\"name\":\"AME 420\",\"metrics\":{\"centrality\":240,\"complexity\":10.0,\"blocking factor\":1,\"delay factor\":9.0},\"nameSub\":\"Aerospace Conceptual Design\",\"id\":36,\"credits\":3,\"nameCanonical\":\"\"},{\"curriculum_requisites\":[{\"source_id\":24,\"target_id\":37,\"type\":\"CurriculumPrerequisite\"},{\"source_id\":31,\"target_id\":37,\"type\":\"CurriculumPrerequisite\"},{\"source_id\":18,\"target_id\":37,\"type\":\"CurriculumPrerequisite\"}],\"name\":\"AME 425\",\"metrics\":{\"centrality\":0,\"complexity\":8.0,\"blocking factor\":0,\"delay factor\":8.0},\"nameSub\":\"Aerospace Propulsion\",\"id\":37,\"credits\":3,\"nameCanonical\":\"\"},{\"curriculum_requisites\":[{\"source_id\":23,\"target_id\":38,\"type\":\"CurriculumPrerequisite\"},{\"source_id\":15,\"target_id\":38,\"type\":\"CurriculumPrerequisite\"},{\"source_id\":30,\"target_id\":38,\"type\":\"CurriculumPrerequisite\"}],\"name\":\"AME 427\",\"metrics\":{\"centrality\":0,\"complexity\":8.0,\"blocking factor\":0,\"delay factor\":8.0},\"nameSub\":\"Stability and Control of Aero. Vehicles\",\"id\":38,\"credits\":3,\"nameCanonical\":\"\"},{\"curriculum_requisites\":[{\"source_id\":13,\"target_id\":39,\"type\":\"CurriculumPrerequisite\"},{\"source_id\":19,\"target_id\":39,\"type\":\"CurriculumPrerequisite\"}],\"name\":\"AME 457\",\"metrics\":{\"centrality\":0,\"complexity\":6.0,\"blocking factor\":0,\"delay factor\":6.0},\"nameSub\":\"Orbital Mechanicans and Space Flt.\",\"id\":39,\"credits\":3,\"nameCanonical\":\"\"},{\"curriculum_requisites\":[],\"name\":\"AME 495S\",\"metrics\":{\"centrality\":0,\"complexity\":1.0,\"blocking factor\":0,\"delay factor\":1.0},\"nameSub\":\"Senior Colloquium\",\"id\":40,\"credits\":1,\"nameCanonical\":\"\"}],\"id\":7},{\"name\":\"Term 8\",\"curriculum_items\":[{\"curriculum_requisites\":[{\"source_id\":36,\"target_id\":41,\"type\":\"CurriculumPrerequisite\"},{\"source_id\":33,\"target_id\":41,\"type\":\"CurriculumCorequisite\"}],\"name\":\"AME 422\",\"metrics\":{\"centrality\":0,\"complexity\":9.0,\"blocking factor\":0,\"delay factor\":9.0},\"nameSub\":\"Aerospace Eng.Design\",\"id\":41,\"credits\":3,\"nameCanonical\":\"\"},{\"curriculum_requisites\":[{\"source_id\":24,\"target_id\":42,\"type\":\"CurriculumPrerequisite\"},{\"source_id\":32,\"target_id\":42,\"type\":\"CurriculumPrerequisite\"},{\"source_id\":18,\"target_id\":42,\"type\":\"CurriculumPrerequisite\"}],\"name\":\"AME 431\",\"metrics\":{\"centrality\":0,\"complexity\":7.0,\"blocking factor\":0,\"delay factor\":7.0},\"nameSub\":\"Num. Meth. in Fluid Mech. & Heat Xfer\",\"id\":42,\"credits\":3,\"nameCanonical\":\"\"},{\"curriculum_requisites\":[],\"name\":\" \",\"metrics\":{\"centrality\":0,\"complexity\":1.0,\"blocking factor\":0,\"delay factor\":1.0},\"nameSub\":\"Technical Elective 1\",\"id\":43,\"credits\":3,\"nameCanonical\":\"\"},{\"curriculum_requisites\":[],\"name\":\" \",\"metrics\":{\"centrality\":0,\"complexity\":1.0,\"blocking factor\":0,\"delay factor\":1.0},\"nameSub\":\"Technical Elective 2\",\"id\":44,\"credits\":3,\"nameCanonical\":\"\"},{\"curriculum_requisites\":[],\"name\":\" \",\"metrics\":{\"centrality\":0,\"complexity\":1.0,\"blocking factor\":0,\"delay factor\":1.0},\"nameSub\":\"Tier II General Ed. 2\",\"id\":45,\"credits\":3,\"nameCanonical\":\"\"}],\"id\":8}],\"institution\":\"University of Arizona\"}},\"*\"); window.removeEventListener(\"message\",window.messageReceived); window.messageReceived=(function (event){return (event.data.curriculum!==undefined) ? (WebIO.setval({\"name\":\"curriculum-data\",\"scope\":\"2768156881661104786\",\"id\":\"11532497633456399521\",\"type\":\"observable\"},event.data.curriculum)) : undefined}); return window.addEventListener(\"message\",window.messageReceived)})"
          },
          "id": "curriculum",
          "src": "http://localhost:8156",
          "style": {
           "border": "none",
           "height": "80vh",
           "margin": "0",
           "padding": "0",
           "width": "100%"
          }
         },
         "type": "node"
        }
       ],
       "instanceArgs": {
        "handlers": {},
        "id": "2768156881661104786",
        "imports": {
         "data": [],
         "type": "async_block"
        },
        "mount_callbacks": [],
        "observables": {
         "curriculum-data": {
          "id": "11532497633456399521",
          "sync": true,
          "value": {
           "curriculum": {
            "curriculum_terms": [
             {
              "curriculum_items": [
               {
                "credits": 3,
                "curriculum_requisites": [],
                "id": 1,
                "metrics": {
                 "blocking factor": 29,
                 "centrality": 0,
                 "complexity": 38,
                 "delay factor": 9
                },
                "name": "MATH 125",
                "nameCanonical": "",
                "nameSub": "Calculus I w/ Applications"
               },
               {
                "credits": 4,
                "curriculum_requisites": [],
                "id": 2,
                "metrics": {
                 "blocking factor": 2,
                 "centrality": 0,
                 "complexity": 5,
                 "delay factor": 3
                },
                "name": "CHEM 151",
                "nameCanonical": "",
                "nameSub": "Gen Chemistry I"
               },
               {
                "credits": 3,
                "curriculum_requisites": [],
                "id": 3,
                "metrics": {
                 "blocking factor": 1,
                 "centrality": 0,
                 "complexity": 3,
                 "delay factor": 2
                },
                "name": "ENGL 101",
                "nameCanonical": "",
                "nameSub": "First-year Comp."
               },
               {
                "credits": 3,
                "curriculum_requisites": [
                 {
                  "source_id": 1,
                  "target_id": 4,
                  "type": "CurriculumCorequisite"
                 }
                ],
                "id": 4,
                "metrics": {
                 "blocking factor": 0,
                 "centrality": 0,
                 "complexity": 2,
                 "delay factor": 2
                },
                "name": "ENGR 102",
                "nameCanonical": "",
                "nameSub": "Intro to Engineering"
               },
               {
                "credits": 3,
                "curriculum_requisites": [],
                "id": 5,
                "metrics": {
                 "blocking factor": 0,
                 "centrality": 0,
                 "complexity": 1,
                 "delay factor": 1
                },
                "name": " ",
                "nameCanonical": "",
                "nameSub": "Tier I General Ed."
               }
              ],
              "id": 1,
              "name": "Term 1"
             },
             {
              "curriculum_items": [
               {
                "credits": 3,
                "curriculum_requisites": [
                 {
                  "source_id": 1,
                  "target_id": 6,
                  "type": "CurriculumPrerequisite"
                 }
                ],
                "id": 6,
                "metrics": {
                 "blocking factor": 22,
                 "centrality": 387,
                 "complexity": 31,
                 "delay factor": 9
                },
                "name": "MATH 129",
                "nameCanonical": "",
                "nameSub": "Calculus II"
               },
               {
                "credits": 1,
                "curriculum_requisites": [
                 {
                  "source_id": 1,
                  "target_id": 7,
                  "type": "CurriculumPrerequisite"
                 }
                ],
                "id": 7,
                "metrics": {
                 "blocking factor": 9,
                 "centrality": 28,
                 "complexity": 16,
                 "delay factor": 7
                },
                "name": "AME 105",
                "nameCanonical": "",
                "nameSub": "Intro. to MATLAB I"
               },
               {
                "credits": 4,
                "curriculum_requisites": [
                 {
                  "source_id": 1,
                  "target_id": 8,
                  "type": "CurriculumPrerequisite"
                 }
                ],
                "id": 8,
                "metrics": {
                 "blocking factor": 19,
                 "centrality": 277,
                 "complexity": 28,
                 "delay factor": 9
                },
                "name": "PHYS 141",
                "nameCanonical": "",
                "nameSub": "Intro Mechanics"
               },
               {
                "credits": 3,
                "curriculum_requisites": [
                 {
                  "source_id": 3,
                  "target_id": 9,
                  "type": "CurriculumPrerequisite"
                 }
                ],
                "id": 9,
                "metrics": {
                 "blocking factor": 0,
                 "centrality": 0,
                 "complexity": 2,
                 "delay factor": 2
                },
                "name": "ENGL 102",
                "nameCanonical": "",
                "nameSub": "First-year Comp."
               },
               {
                "credits": 3,
                "curriculum_requisites": [
                 {
                  "source_id": 1,
                  "target_id": 10,
                  "type": "CurriculumCorequisite"
                 }
                ],
                "id": 10,
                "metrics": {
                 "blocking factor": 0,
                 "centrality": 0,
                 "complexity": 2,
                 "delay factor": 2
                },
                "name": "ECE 175",
                "nameCanonical": "",
                "nameSub": "Programming for Eng. Apps."
               },
               {
                "credits": 3,
                "curriculum_requisites": [],
                "id": 11,
                "metrics": {
                 "blocking factor": 0,
                 "centrality": 0,
                 "complexity": 1,
                 "delay factor": 1
                },
                "name": " ",
                "nameCanonical": "",
                "nameSub": "Tier I General Ed. 1"
               }
              ],
              "id": 2,
              "name": "Term 2"
             },
             {
              "curriculum_items": [
               {
                "credits": 3,
                "curriculum_requisites": [
                 {
                  "source_id": 8,
                  "target_id": 12,
                  "type": "CurriculumPrerequisite"
                 },
                 {
                  "source_id": 6,
                  "target_id": 12,
                  "type": "CurriculumPrerequisite"
                 }
                ],
                "id": 12,
                "metrics": {
                 "blocking factor": 15,
                 "centrality": 264,
                 "complexity": 24,
                 "delay factor": 9
                },
                "name": "CE 214",
                "nameCanonical": "",
                "nameSub": "Statics"
               },
               {
                "credits": 4,
                "curriculum_requisites": [
                 {
                  "source_id": 6,
                  "target_id": 13,
                  "type": "CurriculumPrerequisite"
                 }
                ],
                "id": 13,
                "metrics": {
                 "blocking factor": 16,
                 "centrality": 252,
                 "complexity": 25,
                 "delay factor": 9
                },
                "name": "MATH  223",
                "nameCanonical": "",
                "nameSub": "Vector Calculus"
               },
               {
                "credits": 4,
                "curriculum_requisites": [
                 {
                  "source_id": 8,
                  "target_id": 14,
                  "type": "CurriculumPrerequisite"
                 },
                 {
                  "source_id": 6,
                  "target_id": 14,
                  "type": "CurriculumPrerequisite"
                 }
                ],
                "id": 14,
                "metrics": {
                 "blocking factor": 0,
                 "centrality": 0,
                 "complexity": 3,
                 "delay factor": 3
                },
                "name": "PHYS 241",
                "nameCanonical": "",
                "nameSub": "Electricity & Magnetism"
               },
               {
                "credits": 1,
                "curriculum_requisites": [
                 {
                  "source_id": 7,
                  "target_id": 15,
                  "type": "CurriculumPrerequisite"
                 }
                ],
                "id": 15,
                "metrics": {
                 "blocking factor": 8,
                 "centrality": 28,
                 "complexity": 15,
                 "delay factor": 7
                },
                "name": "AME  205",
                "nameCanonical": "",
                "nameSub": "Intro. To MATLAB II"
               },
               {
                "credits": 3,
                "curriculum_requisites": [],
                "id": 16,
                "metrics": {
                 "blocking factor": 0,
                 "centrality": 0,
                 "complexity": 1,
                 "delay factor": 1
                },
                "name": "AME 211",
                "nameCanonical": "",
                "nameSub": "Comp. Aided Drafting & Manufacturing"
               },
               {
                "credits": 3,
                "curriculum_requisites": [],
                "id": 17,
                "metrics": {
                 "blocking factor": 0,
                 "centrality": 0,
                 "complexity": 1,
                 "delay factor": 1
                },
                "name": " ",
                "nameCanonical": "",
                "nameSub": "Tier I General Ed. 2"
               }
              ],
              "id": 3,
              "name": "Term 3"
             },
             {
              "curriculum_items": [
               {
                "credits": 3,
                "curriculum_requisites": [
                 {
                  "source_id": 8,
                  "target_id": 18,
                  "type": "CurriculumPrerequisite"
                 }
                ],
                "id": 18,
                "metrics": {
                 "blocking factor": 11,
                 "centrality": 86,
                 "complexity": 19,
                 "delay factor": 8
                },
                "name": "AME 230",
                "nameCanonical": "",
                "nameSub": "Thermodynamics"
               },
               {
                "credits": 3,
                "curriculum_requisites": [
                 {
                  "source_id": 12,
                  "target_id": 19,
                  "type": "CurriculumPrerequisite"
                 },
                 {
                  "source_id": 20,
                  "target_id": 19,
                  "type": "CurriculumCorequisite"
                 }
                ],
                "id": 19,
                "metrics": {
                 "blocking factor": 10,
                 "centrality": 145,
                 "complexity": 19,
                 "delay factor": 9
                },
                "name": "AME 250",
                "nameCanonical": "",
                "nameSub": "Dynamics"
               },
               {
                "credits": 3,
                "curriculum_requisites": [
                 {
                  "source_id": 13,
                  "target_id": 20,
                  "type": "CurriculumPrerequisite"
                 }
                ],
                "id": 20,
                "metrics": {
                 "blocking factor": 15,
                 "centrality": 182,
                 "complexity": 24,
                 "delay factor": 9
                },
                "name": "MATH 254",
                "nameCanonical": "",
                "nameSub": "Intro. to ODEs"
               },
               {
                "credits": 3,
                "curriculum_requisites": [
                 {
                  "source_id": 13,
                  "target_id": 21,
                  "type": "CurriculumPrerequisite"
                 },
                 {
                  "source_id": 8,
                  "target_id": 21,
                  "type": "CurriculumPrerequisite"
                 },
                 {
                  "source_id": 20,
                  "target_id": 21,
                  "type": "CurriculumCorequisite"
                 }
                ],
                "id": 21,
                "metrics": {
                 "blocking factor": 8,
                 "centrality": 198,
                 "complexity": 17,
                 "delay factor": 9
                },
                "name": "AME 220",
                "nameCanonical": "",
                "nameSub": "Intro. to Aerospace Eng."
               },
               {
                "credits": 3,
                "curriculum_requisites": [],
                "id": 22,
                "metrics": {
                 "blocking factor": 0,
                 "centrality": 0,
                 "complexity": 1,
                 "delay factor": 1
                },
                "name": " ",
                "nameCanonical": "",
                "nameSub": "Tier I General Ed. 3"
               }
              ],
              "id": 4,
              "name": "Term 4"
             },
             {
              "curriculum_items": [
               {
                "credits": 3,
                "curriculum_requisites": [
                 {
                  "source_id": 26,
                  "target_id": 23,
                  "type": "CurriculumCorequisite"
                 },
                 {
                  "source_id": 21,
                  "target_id": 23,
                  "type": "CurriculumPrerequisite"
                 }
                ],
                "id": 23,
                "metrics": {
                 "blocking factor": 5,
                 "centrality": 214,
                 "complexity": 14,
                 "delay factor": 9
                },
                "name": "AME 320",
                "nameCanonical": "",
                "nameSub": "Aerodynamics"
               },
               {
                "credits": 3,
                "curriculum_requisites": [
                 {
                  "source_id": 12,
                  "target_id": 24,
                  "type": "CurriculumPrerequisite"
                 }
                ],
                "id": 24,
                "metrics": {
                 "blocking factor": 12,
                 "centrality": 172,
                 "complexity": 21,
                 "delay factor": 9
                },
                "name": "AME  324A",
                "nameCanonical": "",
                "nameSub": "Mech. Behavior of Eng. Materials."
               },
               {
                "credits": 3,
                "curriculum_requisites": [
                 {
                  "source_id": 20,
                  "target_id": 25,
                  "type": "CurriculumPrerequisite"
                 }
                ],
                "id": 25,
                "metrics": {
                 "blocking factor": 1,
                 "centrality": 6,
                 "complexity": 7,
                 "delay factor": 6
                },
                "name": "AME 301",
                "nameCanonical": "",
                "nameSub": "Engineering Analysis"
               },
               {
                "credits": 3,
                "curriculum_requisites": [
                 {
                  "source_id": 18,
                  "target_id": 26,
                  "type": "CurriculumCorequisite"
                 },
                 {
                  "source_id": 24,
                  "target_id": 26,
                  "type": "CurriculumCorequisite"
                 }
                ],
                "id": 26,
                "metrics": {
                 "blocking factor": 10,
                 "centrality": 204,
                 "complexity": 19,
                 "delay factor": 9
                },
                "name": "AME 300",
                "nameCanonical": "",
                "nameSub": "Instrumentation Lab."
               },
               {
                "credits": 3,
                "curriculum_requisites": [
                 {
                  "source_id": 2,
                  "target_id": 27,
                  "type": "CurriculumPrerequisite"
                 }
                ],
                "id": 27,
                "metrics": {
                 "blocking factor": 1,
                 "centrality": 3,
                 "complexity": 4,
                 "delay factor": 3
                },
                "name": "MSE 331R",
                "nameCanonical": "",
                "nameSub": "Fund. of Materials for Engineers"
               },
               {
                "credits": 1,
                "curriculum_requisites": [
                 {
                  "source_id": 24,
                  "target_id": 28,
                  "type": "CurriculumCorequisite"
                 }
                ],
                "id": 28,
                "metrics": {
                 "blocking factor": 0,
                 "centrality": 0,
                 "complexity": 5,
                 "delay factor": 5
                },
                "name": "AME 324L",
                "nameCanonical": "",
                "nameSub": "Mech. of Materials Lab."
               }
              ],
              "id": 5,
              "name": "Term 5"
             },
             {
              "curriculum_items": [
               {
                "credits": 3,
                "curriculum_requisites": [
                 {
                  "source_id": 25,
                  "target_id": 29,
                  "type": "CurriculumPrerequisite"
                 }
                ],
                "id": 29,
                "metrics": {
                 "blocking factor": 0,
                 "centrality": 0,
                 "complexity": 6,
                 "delay factor": 6
                },
                "name": "AME 324B",
                "nameCanonical": "",
                "nameSub": "Eng. Component Design"
               },
               {
                "credits": 3,
                "curriculum_requisites": [
                 {
                  "source_id": 23,
                  "target_id": 30,
                  "type": "CurriculumCorequisite"
                 },
                 {
                  "source_id": 19,
                  "target_id": 30,
                  "type": "CurriculumPrerequisite"
                 },
                 {
                  "source_id": 21,
                  "target_id": 30,
                  "type": "CurriculumPrerequisite"
                 }
                ],
                "id": 30,
                "metrics": {
                 "blocking factor": 3,
                 "centrality": 174,
                 "complexity": 12,
                 "delay factor": 9
                },
                "name": "AME 321",
                "nameCanonical": "",
                "nameSub": "Aircraft Performance"
               },
               {
                "credits": 3,
                "curriculum_requisites": [
                 {
                  "source_id": 18,
                  "target_id": 31,
                  "type": "CurriculumPrerequisite"
                 },
                 {
                  "source_id": 32,
                  "target_id": 31,
                  "type": "CurriculumCorequisite"
                 },
                 {
                  "source_id": 21,
                  "target_id": 31,
                  "type": "CurriculumPrerequisite"
                 },
                 {
                  "source_id": 20,
                  "target_id": 31,
                  "type": "CurriculumPrerequisite"
                 }
                ],
                "id": 31,
                "metrics": {
                 "blocking factor": 4,
                 "centrality": 274,
                 "complexity": 13,
                 "delay factor": 9
                },
                "name": "AME 323",
                "nameCanonical": "",
                "nameSub": "Gasdynamics"
               },
               {
                "credits": 3,
                "curriculum_requisites": [
                 {
                  "source_id": 26,
                  "target_id": 32,
                  "type": "CurriculumCorequisite"
                 },
                 {
                  "source_id": 19,
                  "target_id": 32,
                  "type": "CurriculumPrerequisite"
                 },
                 {
                  "source_id": 15,
                  "target_id": 32,
                  "type": "CurriculumPrerequisite"
                 },
                 {
                  "source_id": 20,
                  "target_id": 32,
                  "type": "CurriculumPrerequisite"
                 }
                ],
                "id": 32,
                "metrics": {
                 "blocking factor": 6,
                 "centrality": 232,
                 "complexity": 15,
                 "delay factor": 9
                },
                "name": "AME 302",
                "nameCanonical": "",
                "nameSub": "Numerical Methods"
               },
               {
                "credits": 1,
                "curriculum_requisites": [],
                "id": 33,
                "metrics": {
                 "blocking factor": 2,
                 "centrality": 0,
                 "complexity": 5,
                 "delay factor": 3
                },
                "name": "AME 313",
                "nameCanonical": "",
                "nameSub": "Aero./Mech. Eng. Lab"
               },
               {
                "credits": 3,
                "curriculum_requisites": [],
                "id": 34,
                "metrics": {
                 "blocking factor": 0,
                 "centrality": 0,
                 "complexity": 1,
                 "delay factor": 1
                },
                "name": " ",
                "nameCanonical": "",
                "nameSub": "Tier II General Ed. 1"
               }
              ],
              "id": 6,
              "name": "Term 6"
             },
             {
              "curriculum_items": [
               {
                "credits": 3,
                "curriculum_requisites": [
                 {
                  "source_id": 23,
                  "target_id": 35,
                  "type": "CurriculumPrerequisite"
                 },
                 {
                  "source_id": 31,
                  "target_id": 35,
                  "type": "CurriculumPrerequisite"
                 },
                 {
                  "source_id": 27,
                  "target_id": 35,
                  "type": "CurriculumPrerequisite"
                 }
                ],
                "id": 35,
                "metrics": {
                 "blocking factor": 0,
                 "centrality": 0,
                 "complexity": 8,
                 "delay factor": 8
                },
                "name": "AME 401",
                "nameCanonical": "",
                "nameSub": "Senior Aerospace Lab."
               },
               {
                "credits": 3,
                "curriculum_requisites": [
                 {
                  "source_id": 23,
                  "target_id": 36,
                  "type": "CurriculumPrerequisite"
                 },
                 {
                  "source_id": 31,
                  "target_id": 36,
                  "type": "CurriculumPrerequisite"
                 },
                 {
                  "source_id": 33,
                  "target_id": 36,
                  "type": "CurriculumPrerequisite"
                 },
                 {
                  "source_id": 30,
                  "target_id": 36,
                  "type": "CurriculumPrerequisite"
                 }
                ],
                "id": 36,
                "metrics": {
                 "blocking factor": 1,
                 "centrality": 240,
                 "complexity": 10,
                 "delay factor": 9
                },
                "name": "AME 420",
                "nameCanonical": "",
                "nameSub": "Aerospace Conceptual Design"
               },
               {
                "credits": 3,
                "curriculum_requisites": [
                 {
                  "source_id": 24,
                  "target_id": 37,
                  "type": "CurriculumPrerequisite"
                 },
                 {
                  "source_id": 31,
                  "target_id": 37,
                  "type": "CurriculumPrerequisite"
                 },
                 {
                  "source_id": 18,
                  "target_id": 37,
                  "type": "CurriculumPrerequisite"
                 }
                ],
                "id": 37,
                "metrics": {
                 "blocking factor": 0,
                 "centrality": 0,
                 "complexity": 8,
                 "delay factor": 8
                },
                "name": "AME 425",
                "nameCanonical": "",
                "nameSub": "Aerospace Propulsion"
               },
               {
                "credits": 3,
                "curriculum_requisites": [
                 {
                  "source_id": 23,
                  "target_id": 38,
                  "type": "CurriculumPrerequisite"
                 },
                 {
                  "source_id": 15,
                  "target_id": 38,
                  "type": "CurriculumPrerequisite"
                 },
                 {
                  "source_id": 30,
                  "target_id": 38,
                  "type": "CurriculumPrerequisite"
                 }
                ],
                "id": 38,
                "metrics": {
                 "blocking factor": 0,
                 "centrality": 0,
                 "complexity": 8,
                 "delay factor": 8
                },
                "name": "AME 427",
                "nameCanonical": "",
                "nameSub": "Stability and Control of Aero. Vehicles"
               },
               {
                "credits": 3,
                "curriculum_requisites": [
                 {
                  "source_id": 13,
                  "target_id": 39,
                  "type": "CurriculumPrerequisite"
                 },
                 {
                  "source_id": 19,
                  "target_id": 39,
                  "type": "CurriculumPrerequisite"
                 }
                ],
                "id": 39,
                "metrics": {
                 "blocking factor": 0,
                 "centrality": 0,
                 "complexity": 6,
                 "delay factor": 6
                },
                "name": "AME 457",
                "nameCanonical": "",
                "nameSub": "Orbital Mechanicans and Space Flt."
               },
               {
                "credits": 1,
                "curriculum_requisites": [],
                "id": 40,
                "metrics": {
                 "blocking factor": 0,
                 "centrality": 0,
                 "complexity": 1,
                 "delay factor": 1
                },
                "name": "AME 495S",
                "nameCanonical": "",
                "nameSub": "Senior Colloquium"
               }
              ],
              "id": 7,
              "name": "Term 7"
             },
             {
              "curriculum_items": [
               {
                "credits": 3,
                "curriculum_requisites": [
                 {
                  "source_id": 36,
                  "target_id": 41,
                  "type": "CurriculumPrerequisite"
                 },
                 {
                  "source_id": 33,
                  "target_id": 41,
                  "type": "CurriculumCorequisite"
                 }
                ],
                "id": 41,
                "metrics": {
                 "blocking factor": 0,
                 "centrality": 0,
                 "complexity": 9,
                 "delay factor": 9
                },
                "name": "AME 422",
                "nameCanonical": "",
                "nameSub": "Aerospace Eng.Design"
               },
               {
                "credits": 3,
                "curriculum_requisites": [
                 {
                  "source_id": 24,
                  "target_id": 42,
                  "type": "CurriculumPrerequisite"
                 },
                 {
                  "source_id": 32,
                  "target_id": 42,
                  "type": "CurriculumPrerequisite"
                 },
                 {
                  "source_id": 18,
                  "target_id": 42,
                  "type": "CurriculumPrerequisite"
                 }
                ],
                "id": 42,
                "metrics": {
                 "blocking factor": 0,
                 "centrality": 0,
                 "complexity": 7,
                 "delay factor": 7
                },
                "name": "AME 431",
                "nameCanonical": "",
                "nameSub": "Num. Meth. in Fluid Mech. & Heat Xfer"
               },
               {
                "credits": 3,
                "curriculum_requisites": [],
                "id": 43,
                "metrics": {
                 "blocking factor": 0,
                 "centrality": 0,
                 "complexity": 1,
                 "delay factor": 1
                },
                "name": " ",
                "nameCanonical": "",
                "nameSub": "Technical Elective 1"
               },
               {
                "credits": 3,
                "curriculum_requisites": [],
                "id": 44,
                "metrics": {
                 "blocking factor": 0,
                 "centrality": 0,
                 "complexity": 1,
                 "delay factor": 1
                },
                "name": " ",
                "nameCanonical": "",
                "nameSub": "Technical Elective 2"
               },
               {
                "credits": 3,
                "curriculum_requisites": [],
                "id": 45,
                "metrics": {
                 "blocking factor": 0,
                 "centrality": 0,
                 "complexity": 1,
                 "delay factor": 1
                },
                "name": " ",
                "nameCanonical": "",
                "nameSub": "Tier II General Ed. 2"
               }
              ],
              "id": 8,
              "name": "Term 8"
             }
            ],
            "dp_name": "2019-20 Degree Plan",
            "institution": "University of Arizona",
            "name": "Aerospace Engineering"
           },
           "options": {
            "edit": false,
            "hideTerms": false
           }
          }
         }
        },
        "systemjs_options": null
       },
       "nodeType": "Scope",
       "props": {},
       "type": "node"
      },
      "text/html": [
       "<div\n",
       "    class=\"webio-mountpoint\"\n",
       "    data-webio-mountpoint=\"9966749608936884571\"\n",
       ">\n",
       "    <script>\n",
       "    if (window.require && require.defined && require.defined(\"nbextensions/webio-jupyter-notebook\")) {\n",
       "        console.log(\"Jupyter WebIO extension detected, not mounting.\");\n",
       "    } else if (window.WebIO) {\n",
       "        WebIO.mount(\n",
       "            document.querySelector('[data-webio-mountpoint=\"9966749608936884571\"]'),\n",
       "            {\"props\":{},\"nodeType\":\"Scope\",\"type\":\"node\",\"instanceArgs\":{\"imports\":{\"data\":[],\"type\":\"async_block\"},\"id\":\"2768156881661104786\",\"handlers\":{},\"systemjs_options\":null,\"mount_callbacks\":[],\"observables\":{\"curriculum-data\":{\"sync\":true,\"id\":\"11532497633456399521\",\"value\":{\"options\":{\"hideTerms\":false,\"edit\":false},\"curriculum\":{\"name\":\"Aerospace Engineering\",\"dp_name\":\"2019-20 Degree Plan\",\"curriculum_terms\":[{\"name\":\"Term 1\",\"curriculum_items\":[{\"curriculum_requisites\":[],\"name\":\"MATH 125\",\"metrics\":{\"centrality\":0,\"complexity\":38.0,\"blocking factor\":29,\"delay factor\":9.0},\"nameSub\":\"Calculus I w\\/ Applications\",\"id\":1,\"credits\":3,\"nameCanonical\":\"\"},{\"curriculum_requisites\":[],\"name\":\"CHEM 151\",\"metrics\":{\"centrality\":0,\"complexity\":5.0,\"blocking factor\":2,\"delay factor\":3.0},\"nameSub\":\"Gen Chemistry I\",\"id\":2,\"credits\":4,\"nameCanonical\":\"\"},{\"curriculum_requisites\":[],\"name\":\"ENGL 101\",\"metrics\":{\"centrality\":0,\"complexity\":3.0,\"blocking factor\":1,\"delay factor\":2.0},\"nameSub\":\"First-year Comp.\",\"id\":3,\"credits\":3,\"nameCanonical\":\"\"},{\"curriculum_requisites\":[{\"source_id\":1,\"target_id\":4,\"type\":\"CurriculumCorequisite\"}],\"name\":\"ENGR 102\",\"metrics\":{\"centrality\":0,\"complexity\":2.0,\"blocking factor\":0,\"delay factor\":2.0},\"nameSub\":\"Intro to Engineering\",\"id\":4,\"credits\":3,\"nameCanonical\":\"\"},{\"curriculum_requisites\":[],\"name\":\" \",\"metrics\":{\"centrality\":0,\"complexity\":1.0,\"blocking factor\":0,\"delay factor\":1.0},\"nameSub\":\"Tier I General Ed.\",\"id\":5,\"credits\":3,\"nameCanonical\":\"\"}],\"id\":1},{\"name\":\"Term 2\",\"curriculum_items\":[{\"curriculum_requisites\":[{\"source_id\":1,\"target_id\":6,\"type\":\"CurriculumPrerequisite\"}],\"name\":\"MATH 129\",\"metrics\":{\"centrality\":387,\"complexity\":31.0,\"blocking factor\":22,\"delay factor\":9.0},\"nameSub\":\"Calculus II\",\"id\":6,\"credits\":3,\"nameCanonical\":\"\"},{\"curriculum_requisites\":[{\"source_id\":1,\"target_id\":7,\"type\":\"CurriculumPrerequisite\"}],\"name\":\"AME 105\",\"metrics\":{\"centrality\":28,\"complexity\":16.0,\"blocking factor\":9,\"delay factor\":7.0},\"nameSub\":\"Intro. to MATLAB I\",\"id\":7,\"credits\":1,\"nameCanonical\":\"\"},{\"curriculum_requisites\":[{\"source_id\":1,\"target_id\":8,\"type\":\"CurriculumPrerequisite\"}],\"name\":\"PHYS 141\",\"metrics\":{\"centrality\":277,\"complexity\":28.0,\"blocking factor\":19,\"delay factor\":9.0},\"nameSub\":\"Intro Mechanics\",\"id\":8,\"credits\":4,\"nameCanonical\":\"\"},{\"curriculum_requisites\":[{\"source_id\":3,\"target_id\":9,\"type\":\"CurriculumPrerequisite\"}],\"name\":\"ENGL 102\",\"metrics\":{\"centrality\":0,\"complexity\":2.0,\"blocking factor\":0,\"delay factor\":2.0},\"nameSub\":\"First-year Comp.\",\"id\":9,\"credits\":3,\"nameCanonical\":\"\"},{\"curriculum_requisites\":[{\"source_id\":1,\"target_id\":10,\"type\":\"CurriculumCorequisite\"}],\"name\":\"ECE 175\",\"metrics\":{\"centrality\":0,\"complexity\":2.0,\"blocking factor\":0,\"delay factor\":2.0},\"nameSub\":\"Programming for Eng. Apps.\",\"id\":10,\"credits\":3,\"nameCanonical\":\"\"},{\"curriculum_requisites\":[],\"name\":\" \",\"metrics\":{\"centrality\":0,\"complexity\":1.0,\"blocking factor\":0,\"delay factor\":1.0},\"nameSub\":\"Tier I General Ed. 1\",\"id\":11,\"credits\":3,\"nameCanonical\":\"\"}],\"id\":2},{\"name\":\"Term 3\",\"curriculum_items\":[{\"curriculum_requisites\":[{\"source_id\":8,\"target_id\":12,\"type\":\"CurriculumPrerequisite\"},{\"source_id\":6,\"target_id\":12,\"type\":\"CurriculumPrerequisite\"}],\"name\":\"CE 214\",\"metrics\":{\"centrality\":264,\"complexity\":24.0,\"blocking factor\":15,\"delay factor\":9.0},\"nameSub\":\"Statics\",\"id\":12,\"credits\":3,\"nameCanonical\":\"\"},{\"curriculum_requisites\":[{\"source_id\":6,\"target_id\":13,\"type\":\"CurriculumPrerequisite\"}],\"name\":\"MATH  223\",\"metrics\":{\"centrality\":252,\"complexity\":25.0,\"blocking factor\":16,\"delay factor\":9.0},\"nameSub\":\"Vector Calculus\",\"id\":13,\"credits\":4,\"nameCanonical\":\"\"},{\"curriculum_requisites\":[{\"source_id\":8,\"target_id\":14,\"type\":\"CurriculumPrerequisite\"},{\"source_id\":6,\"target_id\":14,\"type\":\"CurriculumPrerequisite\"}],\"name\":\"PHYS 241\",\"metrics\":{\"centrality\":0,\"complexity\":3.0,\"blocking factor\":0,\"delay factor\":3.0},\"nameSub\":\"Electricity & Magnetism\",\"id\":14,\"credits\":4,\"nameCanonical\":\"\"},{\"curriculum_requisites\":[{\"source_id\":7,\"target_id\":15,\"type\":\"CurriculumPrerequisite\"}],\"name\":\"AME  205\",\"metrics\":{\"centrality\":28,\"complexity\":15.0,\"blocking factor\":8,\"delay factor\":7.0},\"nameSub\":\"Intro. To MATLAB II\",\"id\":15,\"credits\":1,\"nameCanonical\":\"\"},{\"curriculum_requisites\":[],\"name\":\"AME 211\",\"metrics\":{\"centrality\":0,\"complexity\":1.0,\"blocking factor\":0,\"delay factor\":1.0},\"nameSub\":\"Comp. Aided Drafting & Manufacturing\",\"id\":16,\"credits\":3,\"nameCanonical\":\"\"},{\"curriculum_requisites\":[],\"name\":\" \",\"metrics\":{\"centrality\":0,\"complexity\":1.0,\"blocking factor\":0,\"delay factor\":1.0},\"nameSub\":\"Tier I General Ed. 2\",\"id\":17,\"credits\":3,\"nameCanonical\":\"\"}],\"id\":3},{\"name\":\"Term 4\",\"curriculum_items\":[{\"curriculum_requisites\":[{\"source_id\":8,\"target_id\":18,\"type\":\"CurriculumPrerequisite\"}],\"name\":\"AME 230\",\"metrics\":{\"centrality\":86,\"complexity\":19.0,\"blocking factor\":11,\"delay factor\":8.0},\"nameSub\":\"Thermodynamics\",\"id\":18,\"credits\":3,\"nameCanonical\":\"\"},{\"curriculum_requisites\":[{\"source_id\":12,\"target_id\":19,\"type\":\"CurriculumPrerequisite\"},{\"source_id\":20,\"target_id\":19,\"type\":\"CurriculumCorequisite\"}],\"name\":\"AME 250\",\"metrics\":{\"centrality\":145,\"complexity\":19.0,\"blocking factor\":10,\"delay factor\":9.0},\"nameSub\":\"Dynamics\",\"id\":19,\"credits\":3,\"nameCanonical\":\"\"},{\"curriculum_requisites\":[{\"source_id\":13,\"target_id\":20,\"type\":\"CurriculumPrerequisite\"}],\"name\":\"MATH 254\",\"metrics\":{\"centrality\":182,\"complexity\":24.0,\"blocking factor\":15,\"delay factor\":9.0},\"nameSub\":\"Intro. to ODEs\",\"id\":20,\"credits\":3,\"nameCanonical\":\"\"},{\"curriculum_requisites\":[{\"source_id\":13,\"target_id\":21,\"type\":\"CurriculumPrerequisite\"},{\"source_id\":8,\"target_id\":21,\"type\":\"CurriculumPrerequisite\"},{\"source_id\":20,\"target_id\":21,\"type\":\"CurriculumCorequisite\"}],\"name\":\"AME 220\",\"metrics\":{\"centrality\":198,\"complexity\":17.0,\"blocking factor\":8,\"delay factor\":9.0},\"nameSub\":\"Intro. to Aerospace Eng.\",\"id\":21,\"credits\":3,\"nameCanonical\":\"\"},{\"curriculum_requisites\":[],\"name\":\" \",\"metrics\":{\"centrality\":0,\"complexity\":1.0,\"blocking factor\":0,\"delay factor\":1.0},\"nameSub\":\"Tier I General Ed. 3\",\"id\":22,\"credits\":3,\"nameCanonical\":\"\"}],\"id\":4},{\"name\":\"Term 5\",\"curriculum_items\":[{\"curriculum_requisites\":[{\"source_id\":26,\"target_id\":23,\"type\":\"CurriculumCorequisite\"},{\"source_id\":21,\"target_id\":23,\"type\":\"CurriculumPrerequisite\"}],\"name\":\"AME 320\",\"metrics\":{\"centrality\":214,\"complexity\":14.0,\"blocking factor\":5,\"delay factor\":9.0},\"nameSub\":\"Aerodynamics\",\"id\":23,\"credits\":3,\"nameCanonical\":\"\"},{\"curriculum_requisites\":[{\"source_id\":12,\"target_id\":24,\"type\":\"CurriculumPrerequisite\"}],\"name\":\"AME  324A\",\"metrics\":{\"centrality\":172,\"complexity\":21.0,\"blocking factor\":12,\"delay factor\":9.0},\"nameSub\":\"Mech. Behavior of Eng. Materials.\",\"id\":24,\"credits\":3,\"nameCanonical\":\"\"},{\"curriculum_requisites\":[{\"source_id\":20,\"target_id\":25,\"type\":\"CurriculumPrerequisite\"}],\"name\":\"AME 301\",\"metrics\":{\"centrality\":6,\"complexity\":7.0,\"blocking factor\":1,\"delay factor\":6.0},\"nameSub\":\"Engineering Analysis\",\"id\":25,\"credits\":3,\"nameCanonical\":\"\"},{\"curriculum_requisites\":[{\"source_id\":18,\"target_id\":26,\"type\":\"CurriculumCorequisite\"},{\"source_id\":24,\"target_id\":26,\"type\":\"CurriculumCorequisite\"}],\"name\":\"AME 300\",\"metrics\":{\"centrality\":204,\"complexity\":19.0,\"blocking factor\":10,\"delay factor\":9.0},\"nameSub\":\"Instrumentation Lab.\",\"id\":26,\"credits\":3,\"nameCanonical\":\"\"},{\"curriculum_requisites\":[{\"source_id\":2,\"target_id\":27,\"type\":\"CurriculumPrerequisite\"}],\"name\":\"MSE 331R\",\"metrics\":{\"centrality\":3,\"complexity\":4.0,\"blocking factor\":1,\"delay factor\":3.0},\"nameSub\":\"Fund. of Materials for Engineers\",\"id\":27,\"credits\":3,\"nameCanonical\":\"\"},{\"curriculum_requisites\":[{\"source_id\":24,\"target_id\":28,\"type\":\"CurriculumCorequisite\"}],\"name\":\"AME 324L\",\"metrics\":{\"centrality\":0,\"complexity\":5.0,\"blocking factor\":0,\"delay factor\":5.0},\"nameSub\":\"Mech. of Materials Lab.\",\"id\":28,\"credits\":1,\"nameCanonical\":\"\"}],\"id\":5},{\"name\":\"Term 6\",\"curriculum_items\":[{\"curriculum_requisites\":[{\"source_id\":25,\"target_id\":29,\"type\":\"CurriculumPrerequisite\"}],\"name\":\"AME 324B\",\"metrics\":{\"centrality\":0,\"complexity\":6.0,\"blocking factor\":0,\"delay factor\":6.0},\"nameSub\":\"Eng. Component Design\",\"id\":29,\"credits\":3,\"nameCanonical\":\"\"},{\"curriculum_requisites\":[{\"source_id\":23,\"target_id\":30,\"type\":\"CurriculumCorequisite\"},{\"source_id\":19,\"target_id\":30,\"type\":\"CurriculumPrerequisite\"},{\"source_id\":21,\"target_id\":30,\"type\":\"CurriculumPrerequisite\"}],\"name\":\"AME 321\",\"metrics\":{\"centrality\":174,\"complexity\":12.0,\"blocking factor\":3,\"delay factor\":9.0},\"nameSub\":\"Aircraft Performance\",\"id\":30,\"credits\":3,\"nameCanonical\":\"\"},{\"curriculum_requisites\":[{\"source_id\":18,\"target_id\":31,\"type\":\"CurriculumPrerequisite\"},{\"source_id\":32,\"target_id\":31,\"type\":\"CurriculumCorequisite\"},{\"source_id\":21,\"target_id\":31,\"type\":\"CurriculumPrerequisite\"},{\"source_id\":20,\"target_id\":31,\"type\":\"CurriculumPrerequisite\"}],\"name\":\"AME 323\",\"metrics\":{\"centrality\":274,\"complexity\":13.0,\"blocking factor\":4,\"delay factor\":9.0},\"nameSub\":\"Gasdynamics\",\"id\":31,\"credits\":3,\"nameCanonical\":\"\"},{\"curriculum_requisites\":[{\"source_id\":26,\"target_id\":32,\"type\":\"CurriculumCorequisite\"},{\"source_id\":19,\"target_id\":32,\"type\":\"CurriculumPrerequisite\"},{\"source_id\":15,\"target_id\":32,\"type\":\"CurriculumPrerequisite\"},{\"source_id\":20,\"target_id\":32,\"type\":\"CurriculumPrerequisite\"}],\"name\":\"AME 302\",\"metrics\":{\"centrality\":232,\"complexity\":15.0,\"blocking factor\":6,\"delay factor\":9.0},\"nameSub\":\"Numerical Methods\",\"id\":32,\"credits\":3,\"nameCanonical\":\"\"},{\"curriculum_requisites\":[],\"name\":\"AME 313\",\"metrics\":{\"centrality\":0,\"complexity\":5.0,\"blocking factor\":2,\"delay factor\":3.0},\"nameSub\":\"Aero.\\/Mech. Eng. Lab\",\"id\":33,\"credits\":1,\"nameCanonical\":\"\"},{\"curriculum_requisites\":[],\"name\":\" \",\"metrics\":{\"centrality\":0,\"complexity\":1.0,\"blocking factor\":0,\"delay factor\":1.0},\"nameSub\":\"Tier II General Ed. 1\",\"id\":34,\"credits\":3,\"nameCanonical\":\"\"}],\"id\":6},{\"name\":\"Term 7\",\"curriculum_items\":[{\"curriculum_requisites\":[{\"source_id\":23,\"target_id\":35,\"type\":\"CurriculumPrerequisite\"},{\"source_id\":31,\"target_id\":35,\"type\":\"CurriculumPrerequisite\"},{\"source_id\":27,\"target_id\":35,\"type\":\"CurriculumPrerequisite\"}],\"name\":\"AME 401\",\"metrics\":{\"centrality\":0,\"complexity\":8.0,\"blocking factor\":0,\"delay factor\":8.0},\"nameSub\":\"Senior Aerospace Lab.\",\"id\":35,\"credits\":3,\"nameCanonical\":\"\"},{\"curriculum_requisites\":[{\"source_id\":23,\"target_id\":36,\"type\":\"CurriculumPrerequisite\"},{\"source_id\":31,\"target_id\":36,\"type\":\"CurriculumPrerequisite\"},{\"source_id\":33,\"target_id\":36,\"type\":\"CurriculumPrerequisite\"},{\"source_id\":30,\"target_id\":36,\"type\":\"CurriculumPrerequisite\"}],\"name\":\"AME 420\",\"metrics\":{\"centrality\":240,\"complexity\":10.0,\"blocking factor\":1,\"delay factor\":9.0},\"nameSub\":\"Aerospace Conceptual Design\",\"id\":36,\"credits\":3,\"nameCanonical\":\"\"},{\"curriculum_requisites\":[{\"source_id\":24,\"target_id\":37,\"type\":\"CurriculumPrerequisite\"},{\"source_id\":31,\"target_id\":37,\"type\":\"CurriculumPrerequisite\"},{\"source_id\":18,\"target_id\":37,\"type\":\"CurriculumPrerequisite\"}],\"name\":\"AME 425\",\"metrics\":{\"centrality\":0,\"complexity\":8.0,\"blocking factor\":0,\"delay factor\":8.0},\"nameSub\":\"Aerospace Propulsion\",\"id\":37,\"credits\":3,\"nameCanonical\":\"\"},{\"curriculum_requisites\":[{\"source_id\":23,\"target_id\":38,\"type\":\"CurriculumPrerequisite\"},{\"source_id\":15,\"target_id\":38,\"type\":\"CurriculumPrerequisite\"},{\"source_id\":30,\"target_id\":38,\"type\":\"CurriculumPrerequisite\"}],\"name\":\"AME 427\",\"metrics\":{\"centrality\":0,\"complexity\":8.0,\"blocking factor\":0,\"delay factor\":8.0},\"nameSub\":\"Stability and Control of Aero. Vehicles\",\"id\":38,\"credits\":3,\"nameCanonical\":\"\"},{\"curriculum_requisites\":[{\"source_id\":13,\"target_id\":39,\"type\":\"CurriculumPrerequisite\"},{\"source_id\":19,\"target_id\":39,\"type\":\"CurriculumPrerequisite\"}],\"name\":\"AME 457\",\"metrics\":{\"centrality\":0,\"complexity\":6.0,\"blocking factor\":0,\"delay factor\":6.0},\"nameSub\":\"Orbital Mechanicans and Space Flt.\",\"id\":39,\"credits\":3,\"nameCanonical\":\"\"},{\"curriculum_requisites\":[],\"name\":\"AME 495S\",\"metrics\":{\"centrality\":0,\"complexity\":1.0,\"blocking factor\":0,\"delay factor\":1.0},\"nameSub\":\"Senior Colloquium\",\"id\":40,\"credits\":1,\"nameCanonical\":\"\"}],\"id\":7},{\"name\":\"Term 8\",\"curriculum_items\":[{\"curriculum_requisites\":[{\"source_id\":36,\"target_id\":41,\"type\":\"CurriculumPrerequisite\"},{\"source_id\":33,\"target_id\":41,\"type\":\"CurriculumCorequisite\"}],\"name\":\"AME 422\",\"metrics\":{\"centrality\":0,\"complexity\":9.0,\"blocking factor\":0,\"delay factor\":9.0},\"nameSub\":\"Aerospace Eng.Design\",\"id\":41,\"credits\":3,\"nameCanonical\":\"\"},{\"curriculum_requisites\":[{\"source_id\":24,\"target_id\":42,\"type\":\"CurriculumPrerequisite\"},{\"source_id\":32,\"target_id\":42,\"type\":\"CurriculumPrerequisite\"},{\"source_id\":18,\"target_id\":42,\"type\":\"CurriculumPrerequisite\"}],\"name\":\"AME 431\",\"metrics\":{\"centrality\":0,\"complexity\":7.0,\"blocking factor\":0,\"delay factor\":7.0},\"nameSub\":\"Num. Meth. in Fluid Mech. & Heat Xfer\",\"id\":42,\"credits\":3,\"nameCanonical\":\"\"},{\"curriculum_requisites\":[],\"name\":\" \",\"metrics\":{\"centrality\":0,\"complexity\":1.0,\"blocking factor\":0,\"delay factor\":1.0},\"nameSub\":\"Technical Elective 1\",\"id\":43,\"credits\":3,\"nameCanonical\":\"\"},{\"curriculum_requisites\":[],\"name\":\" \",\"metrics\":{\"centrality\":0,\"complexity\":1.0,\"blocking factor\":0,\"delay factor\":1.0},\"nameSub\":\"Technical Elective 2\",\"id\":44,\"credits\":3,\"nameCanonical\":\"\"},{\"curriculum_requisites\":[],\"name\":\" \",\"metrics\":{\"centrality\":0,\"complexity\":1.0,\"blocking factor\":0,\"delay factor\":1.0},\"nameSub\":\"Tier II General Ed. 2\",\"id\":45,\"credits\":3,\"nameCanonical\":\"\"}],\"id\":8}],\"institution\":\"University of Arizona\"}}}}},\"children\":[{\"props\":{\"src\":\"http:\\/\\/localhost:8156\",\"id\":\"curriculum\",\"events\":{\"load\":\"(function (){this.contentWindow.postMessage({\\\"options\\\":{\\\"hideTerms\\\":false,\\\"edit\\\":false},\\\"curriculum\\\":{\\\"name\\\":\\\"Aerospace Engineering\\\",\\\"dp_name\\\":\\\"2019-20 Degree Plan\\\",\\\"curriculum_terms\\\":[{\\\"name\\\":\\\"Term 1\\\",\\\"curriculum_items\\\":[{\\\"curriculum_requisites\\\":[],\\\"name\\\":\\\"MATH 125\\\",\\\"metrics\\\":{\\\"centrality\\\":0,\\\"complexity\\\":38.0,\\\"blocking factor\\\":29,\\\"delay factor\\\":9.0},\\\"nameSub\\\":\\\"Calculus I w\\/ Applications\\\",\\\"id\\\":1,\\\"credits\\\":3,\\\"nameCanonical\\\":\\\"\\\"},{\\\"curriculum_requisites\\\":[],\\\"name\\\":\\\"CHEM 151\\\",\\\"metrics\\\":{\\\"centrality\\\":0,\\\"complexity\\\":5.0,\\\"blocking factor\\\":2,\\\"delay factor\\\":3.0},\\\"nameSub\\\":\\\"Gen Chemistry I\\\",\\\"id\\\":2,\\\"credits\\\":4,\\\"nameCanonical\\\":\\\"\\\"},{\\\"curriculum_requisites\\\":[],\\\"name\\\":\\\"ENGL 101\\\",\\\"metrics\\\":{\\\"centrality\\\":0,\\\"complexity\\\":3.0,\\\"blocking factor\\\":1,\\\"delay factor\\\":2.0},\\\"nameSub\\\":\\\"First-year Comp.\\\",\\\"id\\\":3,\\\"credits\\\":3,\\\"nameCanonical\\\":\\\"\\\"},{\\\"curriculum_requisites\\\":[{\\\"source_id\\\":1,\\\"target_id\\\":4,\\\"type\\\":\\\"CurriculumCorequisite\\\"}],\\\"name\\\":\\\"ENGR 102\\\",\\\"metrics\\\":{\\\"centrality\\\":0,\\\"complexity\\\":2.0,\\\"blocking factor\\\":0,\\\"delay factor\\\":2.0},\\\"nameSub\\\":\\\"Intro to Engineering\\\",\\\"id\\\":4,\\\"credits\\\":3,\\\"nameCanonical\\\":\\\"\\\"},{\\\"curriculum_requisites\\\":[],\\\"name\\\":\\\" \\\",\\\"metrics\\\":{\\\"centrality\\\":0,\\\"complexity\\\":1.0,\\\"blocking factor\\\":0,\\\"delay factor\\\":1.0},\\\"nameSub\\\":\\\"Tier I General Ed.\\\",\\\"id\\\":5,\\\"credits\\\":3,\\\"nameCanonical\\\":\\\"\\\"}],\\\"id\\\":1},{\\\"name\\\":\\\"Term 2\\\",\\\"curriculum_items\\\":[{\\\"curriculum_requisites\\\":[{\\\"source_id\\\":1,\\\"target_id\\\":6,\\\"type\\\":\\\"CurriculumPrerequisite\\\"}],\\\"name\\\":\\\"MATH 129\\\",\\\"metrics\\\":{\\\"centrality\\\":387,\\\"complexity\\\":31.0,\\\"blocking factor\\\":22,\\\"delay factor\\\":9.0},\\\"nameSub\\\":\\\"Calculus II\\\",\\\"id\\\":6,\\\"credits\\\":3,\\\"nameCanonical\\\":\\\"\\\"},{\\\"curriculum_requisites\\\":[{\\\"source_id\\\":1,\\\"target_id\\\":7,\\\"type\\\":\\\"CurriculumPrerequisite\\\"}],\\\"name\\\":\\\"AME 105\\\",\\\"metrics\\\":{\\\"centrality\\\":28,\\\"complexity\\\":16.0,\\\"blocking factor\\\":9,\\\"delay factor\\\":7.0},\\\"nameSub\\\":\\\"Intro. to MATLAB I\\\",\\\"id\\\":7,\\\"credits\\\":1,\\\"nameCanonical\\\":\\\"\\\"},{\\\"curriculum_requisites\\\":[{\\\"source_id\\\":1,\\\"target_id\\\":8,\\\"type\\\":\\\"CurriculumPrerequisite\\\"}],\\\"name\\\":\\\"PHYS 141\\\",\\\"metrics\\\":{\\\"centrality\\\":277,\\\"complexity\\\":28.0,\\\"blocking factor\\\":19,\\\"delay factor\\\":9.0},\\\"nameSub\\\":\\\"Intro Mechanics\\\",\\\"id\\\":8,\\\"credits\\\":4,\\\"nameCanonical\\\":\\\"\\\"},{\\\"curriculum_requisites\\\":[{\\\"source_id\\\":3,\\\"target_id\\\":9,\\\"type\\\":\\\"CurriculumPrerequisite\\\"}],\\\"name\\\":\\\"ENGL 102\\\",\\\"metrics\\\":{\\\"centrality\\\":0,\\\"complexity\\\":2.0,\\\"blocking factor\\\":0,\\\"delay factor\\\":2.0},\\\"nameSub\\\":\\\"First-year Comp.\\\",\\\"id\\\":9,\\\"credits\\\":3,\\\"nameCanonical\\\":\\\"\\\"},{\\\"curriculum_requisites\\\":[{\\\"source_id\\\":1,\\\"target_id\\\":10,\\\"type\\\":\\\"CurriculumCorequisite\\\"}],\\\"name\\\":\\\"ECE 175\\\",\\\"metrics\\\":{\\\"centrality\\\":0,\\\"complexity\\\":2.0,\\\"blocking factor\\\":0,\\\"delay factor\\\":2.0},\\\"nameSub\\\":\\\"Programming for Eng. Apps.\\\",\\\"id\\\":10,\\\"credits\\\":3,\\\"nameCanonical\\\":\\\"\\\"},{\\\"curriculum_requisites\\\":[],\\\"name\\\":\\\" \\\",\\\"metrics\\\":{\\\"centrality\\\":0,\\\"complexity\\\":1.0,\\\"blocking factor\\\":0,\\\"delay factor\\\":1.0},\\\"nameSub\\\":\\\"Tier I General Ed. 1\\\",\\\"id\\\":11,\\\"credits\\\":3,\\\"nameCanonical\\\":\\\"\\\"}],\\\"id\\\":2},{\\\"name\\\":\\\"Term 3\\\",\\\"curriculum_items\\\":[{\\\"curriculum_requisites\\\":[{\\\"source_id\\\":8,\\\"target_id\\\":12,\\\"type\\\":\\\"CurriculumPrerequisite\\\"},{\\\"source_id\\\":6,\\\"target_id\\\":12,\\\"type\\\":\\\"CurriculumPrerequisite\\\"}],\\\"name\\\":\\\"CE 214\\\",\\\"metrics\\\":{\\\"centrality\\\":264,\\\"complexity\\\":24.0,\\\"blocking factor\\\":15,\\\"delay factor\\\":9.0},\\\"nameSub\\\":\\\"Statics\\\",\\\"id\\\":12,\\\"credits\\\":3,\\\"nameCanonical\\\":\\\"\\\"},{\\\"curriculum_requisites\\\":[{\\\"source_id\\\":6,\\\"target_id\\\":13,\\\"type\\\":\\\"CurriculumPrerequisite\\\"}],\\\"name\\\":\\\"MATH  223\\\",\\\"metrics\\\":{\\\"centrality\\\":252,\\\"complexity\\\":25.0,\\\"blocking factor\\\":16,\\\"delay factor\\\":9.0},\\\"nameSub\\\":\\\"Vector Calculus\\\",\\\"id\\\":13,\\\"credits\\\":4,\\\"nameCanonical\\\":\\\"\\\"},{\\\"curriculum_requisites\\\":[{\\\"source_id\\\":8,\\\"target_id\\\":14,\\\"type\\\":\\\"CurriculumPrerequisite\\\"},{\\\"source_id\\\":6,\\\"target_id\\\":14,\\\"type\\\":\\\"CurriculumPrerequisite\\\"}],\\\"name\\\":\\\"PHYS 241\\\",\\\"metrics\\\":{\\\"centrality\\\":0,\\\"complexity\\\":3.0,\\\"blocking factor\\\":0,\\\"delay factor\\\":3.0},\\\"nameSub\\\":\\\"Electricity & Magnetism\\\",\\\"id\\\":14,\\\"credits\\\":4,\\\"nameCanonical\\\":\\\"\\\"},{\\\"curriculum_requisites\\\":[{\\\"source_id\\\":7,\\\"target_id\\\":15,\\\"type\\\":\\\"CurriculumPrerequisite\\\"}],\\\"name\\\":\\\"AME  205\\\",\\\"metrics\\\":{\\\"centrality\\\":28,\\\"complexity\\\":15.0,\\\"blocking factor\\\":8,\\\"delay factor\\\":7.0},\\\"nameSub\\\":\\\"Intro. To MATLAB II\\\",\\\"id\\\":15,\\\"credits\\\":1,\\\"nameCanonical\\\":\\\"\\\"},{\\\"curriculum_requisites\\\":[],\\\"name\\\":\\\"AME 211\\\",\\\"metrics\\\":{\\\"centrality\\\":0,\\\"complexity\\\":1.0,\\\"blocking factor\\\":0,\\\"delay factor\\\":1.0},\\\"nameSub\\\":\\\"Comp. Aided Drafting & Manufacturing\\\",\\\"id\\\":16,\\\"credits\\\":3,\\\"nameCanonical\\\":\\\"\\\"},{\\\"curriculum_requisites\\\":[],\\\"name\\\":\\\" \\\",\\\"metrics\\\":{\\\"centrality\\\":0,\\\"complexity\\\":1.0,\\\"blocking factor\\\":0,\\\"delay factor\\\":1.0},\\\"nameSub\\\":\\\"Tier I General Ed. 2\\\",\\\"id\\\":17,\\\"credits\\\":3,\\\"nameCanonical\\\":\\\"\\\"}],\\\"id\\\":3},{\\\"name\\\":\\\"Term 4\\\",\\\"curriculum_items\\\":[{\\\"curriculum_requisites\\\":[{\\\"source_id\\\":8,\\\"target_id\\\":18,\\\"type\\\":\\\"CurriculumPrerequisite\\\"}],\\\"name\\\":\\\"AME 230\\\",\\\"metrics\\\":{\\\"centrality\\\":86,\\\"complexity\\\":19.0,\\\"blocking factor\\\":11,\\\"delay factor\\\":8.0},\\\"nameSub\\\":\\\"Thermodynamics\\\",\\\"id\\\":18,\\\"credits\\\":3,\\\"nameCanonical\\\":\\\"\\\"},{\\\"curriculum_requisites\\\":[{\\\"source_id\\\":12,\\\"target_id\\\":19,\\\"type\\\":\\\"CurriculumPrerequisite\\\"},{\\\"source_id\\\":20,\\\"target_id\\\":19,\\\"type\\\":\\\"CurriculumCorequisite\\\"}],\\\"name\\\":\\\"AME 250\\\",\\\"metrics\\\":{\\\"centrality\\\":145,\\\"complexity\\\":19.0,\\\"blocking factor\\\":10,\\\"delay factor\\\":9.0},\\\"nameSub\\\":\\\"Dynamics\\\",\\\"id\\\":19,\\\"credits\\\":3,\\\"nameCanonical\\\":\\\"\\\"},{\\\"curriculum_requisites\\\":[{\\\"source_id\\\":13,\\\"target_id\\\":20,\\\"type\\\":\\\"CurriculumPrerequisite\\\"}],\\\"name\\\":\\\"MATH 254\\\",\\\"metrics\\\":{\\\"centrality\\\":182,\\\"complexity\\\":24.0,\\\"blocking factor\\\":15,\\\"delay factor\\\":9.0},\\\"nameSub\\\":\\\"Intro. to ODEs\\\",\\\"id\\\":20,\\\"credits\\\":3,\\\"nameCanonical\\\":\\\"\\\"},{\\\"curriculum_requisites\\\":[{\\\"source_id\\\":13,\\\"target_id\\\":21,\\\"type\\\":\\\"CurriculumPrerequisite\\\"},{\\\"source_id\\\":8,\\\"target_id\\\":21,\\\"type\\\":\\\"CurriculumPrerequisite\\\"},{\\\"source_id\\\":20,\\\"target_id\\\":21,\\\"type\\\":\\\"CurriculumCorequisite\\\"}],\\\"name\\\":\\\"AME 220\\\",\\\"metrics\\\":{\\\"centrality\\\":198,\\\"complexity\\\":17.0,\\\"blocking factor\\\":8,\\\"delay factor\\\":9.0},\\\"nameSub\\\":\\\"Intro. to Aerospace Eng.\\\",\\\"id\\\":21,\\\"credits\\\":3,\\\"nameCanonical\\\":\\\"\\\"},{\\\"curriculum_requisites\\\":[],\\\"name\\\":\\\" \\\",\\\"metrics\\\":{\\\"centrality\\\":0,\\\"complexity\\\":1.0,\\\"blocking factor\\\":0,\\\"delay factor\\\":1.0},\\\"nameSub\\\":\\\"Tier I General Ed. 3\\\",\\\"id\\\":22,\\\"credits\\\":3,\\\"nameCanonical\\\":\\\"\\\"}],\\\"id\\\":4},{\\\"name\\\":\\\"Term 5\\\",\\\"curriculum_items\\\":[{\\\"curriculum_requisites\\\":[{\\\"source_id\\\":26,\\\"target_id\\\":23,\\\"type\\\":\\\"CurriculumCorequisite\\\"},{\\\"source_id\\\":21,\\\"target_id\\\":23,\\\"type\\\":\\\"CurriculumPrerequisite\\\"}],\\\"name\\\":\\\"AME 320\\\",\\\"metrics\\\":{\\\"centrality\\\":214,\\\"complexity\\\":14.0,\\\"blocking factor\\\":5,\\\"delay factor\\\":9.0},\\\"nameSub\\\":\\\"Aerodynamics\\\",\\\"id\\\":23,\\\"credits\\\":3,\\\"nameCanonical\\\":\\\"\\\"},{\\\"curriculum_requisites\\\":[{\\\"source_id\\\":12,\\\"target_id\\\":24,\\\"type\\\":\\\"CurriculumPrerequisite\\\"}],\\\"name\\\":\\\"AME  324A\\\",\\\"metrics\\\":{\\\"centrality\\\":172,\\\"complexity\\\":21.0,\\\"blocking factor\\\":12,\\\"delay factor\\\":9.0},\\\"nameSub\\\":\\\"Mech. Behavior of Eng. Materials.\\\",\\\"id\\\":24,\\\"credits\\\":3,\\\"nameCanonical\\\":\\\"\\\"},{\\\"curriculum_requisites\\\":[{\\\"source_id\\\":20,\\\"target_id\\\":25,\\\"type\\\":\\\"CurriculumPrerequisite\\\"}],\\\"name\\\":\\\"AME 301\\\",\\\"metrics\\\":{\\\"centrality\\\":6,\\\"complexity\\\":7.0,\\\"blocking factor\\\":1,\\\"delay factor\\\":6.0},\\\"nameSub\\\":\\\"Engineering Analysis\\\",\\\"id\\\":25,\\\"credits\\\":3,\\\"nameCanonical\\\":\\\"\\\"},{\\\"curriculum_requisites\\\":[{\\\"source_id\\\":18,\\\"target_id\\\":26,\\\"type\\\":\\\"CurriculumCorequisite\\\"},{\\\"source_id\\\":24,\\\"target_id\\\":26,\\\"type\\\":\\\"CurriculumCorequisite\\\"}],\\\"name\\\":\\\"AME 300\\\",\\\"metrics\\\":{\\\"centrality\\\":204,\\\"complexity\\\":19.0,\\\"blocking factor\\\":10,\\\"delay factor\\\":9.0},\\\"nameSub\\\":\\\"Instrumentation Lab.\\\",\\\"id\\\":26,\\\"credits\\\":3,\\\"nameCanonical\\\":\\\"\\\"},{\\\"curriculum_requisites\\\":[{\\\"source_id\\\":2,\\\"target_id\\\":27,\\\"type\\\":\\\"CurriculumPrerequisite\\\"}],\\\"name\\\":\\\"MSE 331R\\\",\\\"metrics\\\":{\\\"centrality\\\":3,\\\"complexity\\\":4.0,\\\"blocking factor\\\":1,\\\"delay factor\\\":3.0},\\\"nameSub\\\":\\\"Fund. of Materials for Engineers\\\",\\\"id\\\":27,\\\"credits\\\":3,\\\"nameCanonical\\\":\\\"\\\"},{\\\"curriculum_requisites\\\":[{\\\"source_id\\\":24,\\\"target_id\\\":28,\\\"type\\\":\\\"CurriculumCorequisite\\\"}],\\\"name\\\":\\\"AME 324L\\\",\\\"metrics\\\":{\\\"centrality\\\":0,\\\"complexity\\\":5.0,\\\"blocking factor\\\":0,\\\"delay factor\\\":5.0},\\\"nameSub\\\":\\\"Mech. of Materials Lab.\\\",\\\"id\\\":28,\\\"credits\\\":1,\\\"nameCanonical\\\":\\\"\\\"}],\\\"id\\\":5},{\\\"name\\\":\\\"Term 6\\\",\\\"curriculum_items\\\":[{\\\"curriculum_requisites\\\":[{\\\"source_id\\\":25,\\\"target_id\\\":29,\\\"type\\\":\\\"CurriculumPrerequisite\\\"}],\\\"name\\\":\\\"AME 324B\\\",\\\"metrics\\\":{\\\"centrality\\\":0,\\\"complexity\\\":6.0,\\\"blocking factor\\\":0,\\\"delay factor\\\":6.0},\\\"nameSub\\\":\\\"Eng. Component Design\\\",\\\"id\\\":29,\\\"credits\\\":3,\\\"nameCanonical\\\":\\\"\\\"},{\\\"curriculum_requisites\\\":[{\\\"source_id\\\":23,\\\"target_id\\\":30,\\\"type\\\":\\\"CurriculumCorequisite\\\"},{\\\"source_id\\\":19,\\\"target_id\\\":30,\\\"type\\\":\\\"CurriculumPrerequisite\\\"},{\\\"source_id\\\":21,\\\"target_id\\\":30,\\\"type\\\":\\\"CurriculumPrerequisite\\\"}],\\\"name\\\":\\\"AME 321\\\",\\\"metrics\\\":{\\\"centrality\\\":174,\\\"complexity\\\":12.0,\\\"blocking factor\\\":3,\\\"delay factor\\\":9.0},\\\"nameSub\\\":\\\"Aircraft Performance\\\",\\\"id\\\":30,\\\"credits\\\":3,\\\"nameCanonical\\\":\\\"\\\"},{\\\"curriculum_requisites\\\":[{\\\"source_id\\\":18,\\\"target_id\\\":31,\\\"type\\\":\\\"CurriculumPrerequisite\\\"},{\\\"source_id\\\":32,\\\"target_id\\\":31,\\\"type\\\":\\\"CurriculumCorequisite\\\"},{\\\"source_id\\\":21,\\\"target_id\\\":31,\\\"type\\\":\\\"CurriculumPrerequisite\\\"},{\\\"source_id\\\":20,\\\"target_id\\\":31,\\\"type\\\":\\\"CurriculumPrerequisite\\\"}],\\\"name\\\":\\\"AME 323\\\",\\\"metrics\\\":{\\\"centrality\\\":274,\\\"complexity\\\":13.0,\\\"blocking factor\\\":4,\\\"delay factor\\\":9.0},\\\"nameSub\\\":\\\"Gasdynamics\\\",\\\"id\\\":31,\\\"credits\\\":3,\\\"nameCanonical\\\":\\\"\\\"},{\\\"curriculum_requisites\\\":[{\\\"source_id\\\":26,\\\"target_id\\\":32,\\\"type\\\":\\\"CurriculumCorequisite\\\"},{\\\"source_id\\\":19,\\\"target_id\\\":32,\\\"type\\\":\\\"CurriculumPrerequisite\\\"},{\\\"source_id\\\":15,\\\"target_id\\\":32,\\\"type\\\":\\\"CurriculumPrerequisite\\\"},{\\\"source_id\\\":20,\\\"target_id\\\":32,\\\"type\\\":\\\"CurriculumPrerequisite\\\"}],\\\"name\\\":\\\"AME 302\\\",\\\"metrics\\\":{\\\"centrality\\\":232,\\\"complexity\\\":15.0,\\\"blocking factor\\\":6,\\\"delay factor\\\":9.0},\\\"nameSub\\\":\\\"Numerical Methods\\\",\\\"id\\\":32,\\\"credits\\\":3,\\\"nameCanonical\\\":\\\"\\\"},{\\\"curriculum_requisites\\\":[],\\\"name\\\":\\\"AME 313\\\",\\\"metrics\\\":{\\\"centrality\\\":0,\\\"complexity\\\":5.0,\\\"blocking factor\\\":2,\\\"delay factor\\\":3.0},\\\"nameSub\\\":\\\"Aero.\\/Mech. Eng. Lab\\\",\\\"id\\\":33,\\\"credits\\\":1,\\\"nameCanonical\\\":\\\"\\\"},{\\\"curriculum_requisites\\\":[],\\\"name\\\":\\\" \\\",\\\"metrics\\\":{\\\"centrality\\\":0,\\\"complexity\\\":1.0,\\\"blocking factor\\\":0,\\\"delay factor\\\":1.0},\\\"nameSub\\\":\\\"Tier II General Ed. 1\\\",\\\"id\\\":34,\\\"credits\\\":3,\\\"nameCanonical\\\":\\\"\\\"}],\\\"id\\\":6},{\\\"name\\\":\\\"Term 7\\\",\\\"curriculum_items\\\":[{\\\"curriculum_requisites\\\":[{\\\"source_id\\\":23,\\\"target_id\\\":35,\\\"type\\\":\\\"CurriculumPrerequisite\\\"},{\\\"source_id\\\":31,\\\"target_id\\\":35,\\\"type\\\":\\\"CurriculumPrerequisite\\\"},{\\\"source_id\\\":27,\\\"target_id\\\":35,\\\"type\\\":\\\"CurriculumPrerequisite\\\"}],\\\"name\\\":\\\"AME 401\\\",\\\"metrics\\\":{\\\"centrality\\\":0,\\\"complexity\\\":8.0,\\\"blocking factor\\\":0,\\\"delay factor\\\":8.0},\\\"nameSub\\\":\\\"Senior Aerospace Lab.\\\",\\\"id\\\":35,\\\"credits\\\":3,\\\"nameCanonical\\\":\\\"\\\"},{\\\"curriculum_requisites\\\":[{\\\"source_id\\\":23,\\\"target_id\\\":36,\\\"type\\\":\\\"CurriculumPrerequisite\\\"},{\\\"source_id\\\":31,\\\"target_id\\\":36,\\\"type\\\":\\\"CurriculumPrerequisite\\\"},{\\\"source_id\\\":33,\\\"target_id\\\":36,\\\"type\\\":\\\"CurriculumPrerequisite\\\"},{\\\"source_id\\\":30,\\\"target_id\\\":36,\\\"type\\\":\\\"CurriculumPrerequisite\\\"}],\\\"name\\\":\\\"AME 420\\\",\\\"metrics\\\":{\\\"centrality\\\":240,\\\"complexity\\\":10.0,\\\"blocking factor\\\":1,\\\"delay factor\\\":9.0},\\\"nameSub\\\":\\\"Aerospace Conceptual Design\\\",\\\"id\\\":36,\\\"credits\\\":3,\\\"nameCanonical\\\":\\\"\\\"},{\\\"curriculum_requisites\\\":[{\\\"source_id\\\":24,\\\"target_id\\\":37,\\\"type\\\":\\\"CurriculumPrerequisite\\\"},{\\\"source_id\\\":31,\\\"target_id\\\":37,\\\"type\\\":\\\"CurriculumPrerequisite\\\"},{\\\"source_id\\\":18,\\\"target_id\\\":37,\\\"type\\\":\\\"CurriculumPrerequisite\\\"}],\\\"name\\\":\\\"AME 425\\\",\\\"metrics\\\":{\\\"centrality\\\":0,\\\"complexity\\\":8.0,\\\"blocking factor\\\":0,\\\"delay factor\\\":8.0},\\\"nameSub\\\":\\\"Aerospace Propulsion\\\",\\\"id\\\":37,\\\"credits\\\":3,\\\"nameCanonical\\\":\\\"\\\"},{\\\"curriculum_requisites\\\":[{\\\"source_id\\\":23,\\\"target_id\\\":38,\\\"type\\\":\\\"CurriculumPrerequisite\\\"},{\\\"source_id\\\":15,\\\"target_id\\\":38,\\\"type\\\":\\\"CurriculumPrerequisite\\\"},{\\\"source_id\\\":30,\\\"target_id\\\":38,\\\"type\\\":\\\"CurriculumPrerequisite\\\"}],\\\"name\\\":\\\"AME 427\\\",\\\"metrics\\\":{\\\"centrality\\\":0,\\\"complexity\\\":8.0,\\\"blocking factor\\\":0,\\\"delay factor\\\":8.0},\\\"nameSub\\\":\\\"Stability and Control of Aero. Vehicles\\\",\\\"id\\\":38,\\\"credits\\\":3,\\\"nameCanonical\\\":\\\"\\\"},{\\\"curriculum_requisites\\\":[{\\\"source_id\\\":13,\\\"target_id\\\":39,\\\"type\\\":\\\"CurriculumPrerequisite\\\"},{\\\"source_id\\\":19,\\\"target_id\\\":39,\\\"type\\\":\\\"CurriculumPrerequisite\\\"}],\\\"name\\\":\\\"AME 457\\\",\\\"metrics\\\":{\\\"centrality\\\":0,\\\"complexity\\\":6.0,\\\"blocking factor\\\":0,\\\"delay factor\\\":6.0},\\\"nameSub\\\":\\\"Orbital Mechanicans and Space Flt.\\\",\\\"id\\\":39,\\\"credits\\\":3,\\\"nameCanonical\\\":\\\"\\\"},{\\\"curriculum_requisites\\\":[],\\\"name\\\":\\\"AME 495S\\\",\\\"metrics\\\":{\\\"centrality\\\":0,\\\"complexity\\\":1.0,\\\"blocking factor\\\":0,\\\"delay factor\\\":1.0},\\\"nameSub\\\":\\\"Senior Colloquium\\\",\\\"id\\\":40,\\\"credits\\\":1,\\\"nameCanonical\\\":\\\"\\\"}],\\\"id\\\":7},{\\\"name\\\":\\\"Term 8\\\",\\\"curriculum_items\\\":[{\\\"curriculum_requisites\\\":[{\\\"source_id\\\":36,\\\"target_id\\\":41,\\\"type\\\":\\\"CurriculumPrerequisite\\\"},{\\\"source_id\\\":33,\\\"target_id\\\":41,\\\"type\\\":\\\"CurriculumCorequisite\\\"}],\\\"name\\\":\\\"AME 422\\\",\\\"metrics\\\":{\\\"centrality\\\":0,\\\"complexity\\\":9.0,\\\"blocking factor\\\":0,\\\"delay factor\\\":9.0},\\\"nameSub\\\":\\\"Aerospace Eng.Design\\\",\\\"id\\\":41,\\\"credits\\\":3,\\\"nameCanonical\\\":\\\"\\\"},{\\\"curriculum_requisites\\\":[{\\\"source_id\\\":24,\\\"target_id\\\":42,\\\"type\\\":\\\"CurriculumPrerequisite\\\"},{\\\"source_id\\\":32,\\\"target_id\\\":42,\\\"type\\\":\\\"CurriculumPrerequisite\\\"},{\\\"source_id\\\":18,\\\"target_id\\\":42,\\\"type\\\":\\\"CurriculumPrerequisite\\\"}],\\\"name\\\":\\\"AME 431\\\",\\\"metrics\\\":{\\\"centrality\\\":0,\\\"complexity\\\":7.0,\\\"blocking factor\\\":0,\\\"delay factor\\\":7.0},\\\"nameSub\\\":\\\"Num. Meth. in Fluid Mech. & Heat Xfer\\\",\\\"id\\\":42,\\\"credits\\\":3,\\\"nameCanonical\\\":\\\"\\\"},{\\\"curriculum_requisites\\\":[],\\\"name\\\":\\\" \\\",\\\"metrics\\\":{\\\"centrality\\\":0,\\\"complexity\\\":1.0,\\\"blocking factor\\\":0,\\\"delay factor\\\":1.0},\\\"nameSub\\\":\\\"Technical Elective 1\\\",\\\"id\\\":43,\\\"credits\\\":3,\\\"nameCanonical\\\":\\\"\\\"},{\\\"curriculum_requisites\\\":[],\\\"name\\\":\\\" \\\",\\\"metrics\\\":{\\\"centrality\\\":0,\\\"complexity\\\":1.0,\\\"blocking factor\\\":0,\\\"delay factor\\\":1.0},\\\"nameSub\\\":\\\"Technical Elective 2\\\",\\\"id\\\":44,\\\"credits\\\":3,\\\"nameCanonical\\\":\\\"\\\"},{\\\"curriculum_requisites\\\":[],\\\"name\\\":\\\" \\\",\\\"metrics\\\":{\\\"centrality\\\":0,\\\"complexity\\\":1.0,\\\"blocking factor\\\":0,\\\"delay factor\\\":1.0},\\\"nameSub\\\":\\\"Tier II General Ed. 2\\\",\\\"id\\\":45,\\\"credits\\\":3,\\\"nameCanonical\\\":\\\"\\\"}],\\\"id\\\":8}],\\\"institution\\\":\\\"University of Arizona\\\"}},\\\"*\\\"); window.removeEventListener(\\\"message\\\",window.messageReceived); window.messageReceived=(function (event){return (event.data.curriculum!==undefined) ? (WebIO.setval({\\\"name\\\":\\\"curriculum-data\\\",\\\"scope\\\":\\\"2768156881661104786\\\",\\\"id\\\":\\\"11532497633456399521\\\",\\\"type\\\":\\\"observable\\\"},event.data.curriculum)) : undefined}); return window.addEventListener(\\\"message\\\",window.messageReceived)})\"},\"style\":{\"padding\":\"0\",\"height\":\"80vh\",\"margin\":\"0\",\"border\":\"none\",\"width\":\"100%\"}},\"nodeType\":\"DOM\",\"type\":\"node\",\"instanceArgs\":{\"namespace\":\"html\",\"tag\":\"iframe\"},\"children\":[\"\"]}]},\n",
       "            window,\n",
       "        );\n",
       "    } else {\n",
       "        document\n",
       "            .querySelector('[data-webio-mountpoint=\"9966749608936884571\"]')\n",
       "            .innerHTML = (\n",
       "                '<div style=\"padding: 1em; background-color: #f8d6da; border: 1px solid #f5c6cb\">' +\n",
       "                '<p><strong>WebIO not detected.</strong></p>' +\n",
       "                '<p>Please read ' +\n",
       "                '<a href=\"https://juliagizmos.github.io/WebIO.jl/latest/troubleshooting/not-detected/\" target=\"_blank\">the troubleshooting guide</a> ' +\n",
       "                'for more information on how to resolve this issue.</p>' +\n",
       "                '<p><a href=\"https://juliagizmos.github.io/WebIO.jl/latest/troubleshooting/not-detected/\" target=\"_blank\">https://juliagizmos.github.io/WebIO.jl/latest/troubleshooting/not-detected/</a></p>' +\n",
       "                '</div>'\n",
       "            );\n",
       "    }\n",
       "    </script>\n",
       "</div>\n"
      ],
      "text/plain": [
       "WebIO.Scope(WebIO.Node{WebIO.DOM}(WebIO.DOM(:html, :iframe), Any[\"\"], Dict{Symbol,Any}(:src => \"http://localhost:8156\",:id => \"curriculum\",:events => Dict{Symbol,WebIO.JSString}(:load => WebIO.JSString(\"(function (){this.contentWindow.postMessage({\\\"options\\\":{\\\"hideTerms\\\":false,\\\"edit\\\":false},\\\"curriculum\\\":{\\\"name\\\":\\\"Aerospace Engineering\\\",\\\"dp_name\\\":\\\"2019-20 Degree Plan\\\",\\\"curriculum_terms\\\":[{\\\"name\\\":\\\"Term 1\\\",\\\"curriculum_items\\\":[{\\\"curriculum_requisites\\\":[],\\\"name\\\":\\\"MATH 125\\\",\\\"metrics\\\":{\\\"centrality\\\":0,\\\"complexity\\\":38.0,\\\"blocking factor\\\":29,\\\"delay factor\\\":9.0},\\\"nameSub\\\":\\\"Calculus I w/ Applications\\\",\\\"id\\\":1,\\\"credits\\\":3,\\\"nameCanonical\\\":\\\"\\\"},{\\\"curriculum_requisites\\\":[],\\\"name\\\":\\\"CHEM 151\\\",\\\"metrics\\\":{\\\"centrality\\\":0,\\\"complexity\\\":5.0,\\\"blocking factor\\\":2,\\\"delay factor\\\":3.0},\\\"nameSub\\\":\\\"Gen Chemistry I\\\",\\\"id\\\":2,\\\"credits\\\":4,\\\"nameCanonical\\\":\\\"\\\"},{\\\"curriculum_requisites\\\":[],\\\"name\\\":\\\"ENGL 101\\\",\\\"metrics\\\":{\\\"centrality\\\":0,\\\"complexity\\\":3.0,\\\"blocking factor\\\":1,\\\"delay factor\\\":2.0},\\\"nameSub\\\":\\\"First-year Comp.\\\",\\\"id\\\":3,\\\"credits\\\":3,\\\"nameCanonical\\\":\\\"\\\"},{\\\"curriculum_requisites\\\":[{\\\"source_id\\\":1,\\\"target_id\\\":4,\\\"type\\\":\\\"CurriculumCorequisite\\\"}],\\\"name\\\":\\\"ENGR 102\\\",\\\"metrics\\\":{\\\"centrality\\\":0,\\\"complexity\\\":2.0,\\\"blocking factor\\\":0,\\\"delay factor\\\":2.0},\\\"nameSub\\\":\\\"Intro to Engineering\\\",\\\"id\\\":4,\\\"credits\\\":3,\\\"nameCanonical\\\":\\\"\\\"},{\\\"curriculum_requisites\\\":[],\\\"name\\\":\\\" \\\",\\\"metrics\\\":{\\\"centrality\\\":0,\\\"complexity\\\":1.0,\\\"blocking factor\\\":0,\\\"delay factor\\\":1.0},\\\"nameSub\\\":\\\"Tier I General Ed.\\\",\\\"id\\\":5,\\\"credits\\\":3,\\\"nameCanonical\\\":\\\"\\\"}],\\\"id\\\":1},{\\\"name\\\":\\\"Term 2\\\",\\\"curriculum_items\\\":[{\\\"curriculum_requisites\\\":[{\\\"source_id\\\":1,\\\"target_id\\\":6,\\\"type\\\":\\\"CurriculumPrerequisite\\\"}],\\\"name\\\":\\\"MATH 129\\\",\\\"metrics\\\":{\\\"centrality\\\":387,\\\"complexity\\\":31.0,\\\"blocking factor\\\":22,\\\"delay factor\\\":9.0},\\\"nameSub\\\":\\\"Calculus II\\\",\\\"id\\\":6,\\\"credits\\\":3,\\\"nameCanonical\\\":\\\"\\\"},{\\\"curriculum_requisites\\\":[{\\\"source_id\\\":1,\\\"target_id\\\":7,\\\"type\\\":\\\"CurriculumPrerequisite\\\"}],\\\"name\\\":\\\"AME 105\\\",\\\"metrics\\\":{\\\"centrality\\\":28,\\\"complexity\\\":16.0,\\\"blocking factor\\\":9,\\\"delay factor\\\":7.0},\\\"nameSub\\\":\\\"Intro. to MATLAB I\\\",\\\"id\\\":7,\\\"credits\\\":1,\\\"nameCanonical\\\":\\\"\\\"},{\\\"curriculum_requisites\\\":[{\\\"source_id\\\":1,\\\"target_id\\\":8,\\\"type\\\":\\\"CurriculumPrerequisite\\\"}],\\\"name\\\":\\\"PHYS 141\\\",\\\"metrics\\\":{\\\"centrality\\\":277,\\\"complexity\\\":28.0,\\\"blocking factor\\\":19,\\\"delay factor\\\":9.0},\\\"nameSub\\\":\\\"Intro Mechanics\\\",\\\"id\\\":8,\\\"credits\\\":4,\\\"nameCanonical\\\":\\\"\\\"},{\\\"curriculum_requisites\\\":[{\\\"source_id\\\":3,\\\"target_id\\\":9,\\\"type\\\":\\\"CurriculumPrerequisite\\\"}],\\\"name\\\":\\\"ENGL 102\\\",\\\"metrics\\\":{\\\"centrality\\\":0,\\\"complexity\\\":2.0,\\\"blocking factor\\\":0,\\\"delay factor\\\":2.0},\\\"nameSub\\\":\\\"First-year Comp.\\\",\\\"id\\\":9,\\\"credits\\\":3,\\\"nameCanonical\\\":\\\"\\\"},{\\\"curriculum_requisites\\\":[{\\\"source_id\\\":1,\\\"target_id\\\":10,\\\"type\\\":\\\"CurriculumCorequisite\\\"}],\\\"name\\\":\\\"ECE 175\\\",\\\"metrics\\\":{\\\"centrality\\\":0,\\\"complexity\\\":2.0,\\\"blocking factor\\\":0,\\\"delay factor\\\":2.0},\\\"nameSub\\\":\\\"Programming for Eng. Apps.\\\",\\\"id\\\":10,\\\"credits\\\":3,\\\"nameCanonical\\\":\\\"\\\"},{\\\"curriculum_requisites\\\":[],\\\"name\\\":\\\" \\\",\\\"metrics\\\":{\\\"centrality\\\":0,\\\"complexity\\\":1.0,\\\"blocking factor\\\":0,\\\"delay factor\\\":1.0},\\\"nameSub\\\":\\\"Tier I General Ed. 1\\\",\\\"id\\\":11,\\\"credits\\\":3,\\\"nameCanonical\\\":\\\"\\\"}],\\\"id\\\":2},{\\\"name\\\":\\\"Term 3\\\",\\\"curriculum_items\\\":[{\\\"curriculum_requisites\\\":[{\\\"source_id\\\":8,\\\"target_id\\\":12,\\\"type\\\":\\\"CurriculumPrerequisite\\\"},{\\\"source_id\\\":6,\\\"target_id\\\":12,\\\"type\\\":\\\"CurriculumPrerequisite\\\"}],\\\"name\\\":\\\"CE 214\\\",\\\"metrics\\\":{\\\"centrality\\\":264,\\\"complexity\\\":24.0,\\\"blocking factor\\\":15,\\\"delay factor\\\":9.0},\\\"nameSub\\\":\\\"Statics\\\",\\\"id\\\":12,\\\"credits\\\":3,\\\"nameCanonical\\\":\\\"\\\"},{\\\"curriculum_requisites\\\":[{\\\"source_id\\\":6,\\\"target_id\\\":13,\\\"type\\\":\\\"CurriculumPrerequisite\\\"}],\\\"name\\\":\\\"MATH  223\\\",\\\"metrics\\\":{\\\"centrality\\\":252,\\\"complexity\\\":25.0,\\\"blocking factor\\\":16,\\\"delay factor\\\":9.0},\\\"nameSub\\\":\\\"Vector Calculus\\\",\\\"id\\\":13,\\\"credits\\\":4,\\\"nameCanonical\\\":\\\"\\\"},{\\\"curriculum_requisites\\\":[{\\\"source_id\\\":8,\\\"target_id\\\":14,\\\"type\\\":\\\"CurriculumPrerequisite\\\"},{\\\"source_id\\\":6,\\\"target_id\\\":14,\\\"type\\\":\\\"CurriculumPrerequisite\\\"}],\\\"name\\\":\\\"PHYS 241\\\",\\\"metrics\\\":{\\\"centrality\\\":0,\\\"complexity\\\":3.0,\\\"blocking factor\\\":0,\\\"delay factor\\\":3.0},\\\"nameSub\\\":\\\"Electricity & Magnetism\\\",\\\"id\\\":14,\\\"credits\\\":4,\\\"nameCanonical\\\":\\\"\\\"},{\\\"curriculum_requisites\\\":[{\\\"source_id\\\":7,\\\"target_id\\\":15,\\\"type\\\":\\\"CurriculumPrerequisite\\\"}],\\\"name\\\":\\\"AME  205\\\",\\\"metrics\\\":{\\\"centrality\\\":28,\\\"complexity\\\":15.0,\\\"blocking factor\\\":8,\\\"delay factor\\\":7.0},\\\"nameSub\\\":\\\"Intro. To MATLAB II\\\",\\\"id\\\":15,\\\"credits\\\":1,\\\"nameCanonical\\\":\\\"\\\"},{\\\"curriculum_requisites\\\":[],\\\"name\\\":\\\"AME 211\\\",\\\"metrics\\\":{\\\"centrality\\\":0,\\\"complexity\\\":1.0,\\\"blocking factor\\\":0,\\\"delay factor\\\":1.0},\\\"nameSub\\\":\\\"Comp. Aided Drafting & Manufacturing\\\",\\\"id\\\":16,\\\"credits\\\":3,\\\"nameCanonical\\\":\\\"\\\"},{\\\"curriculum_requisites\\\":[],\\\"name\\\":\\\" \\\",\\\"metrics\\\":{\\\"centrality\\\":0,\\\"complexity\\\":1.0,\\\"blocking factor\\\":0,\\\"delay factor\\\":1.0},\\\"nameSub\\\":\\\"Tier I General Ed. 2\\\",\\\"id\\\":17,\\\"credits\\\":3,\\\"nameCanonical\\\":\\\"\\\"}],\\\"id\\\":3},{\\\"name\\\":\\\"Term 4\\\",\\\"curriculum_items\\\":[{\\\"curriculum_requisites\\\":[{\\\"source_id\\\":8,\\\"target_id\\\":18,\\\"type\\\":\\\"CurriculumPrerequisite\\\"}],\\\"name\\\":\\\"AME 230\\\",\\\"metrics\\\":{\\\"centrality\\\":86,\\\"complexity\\\":19.0,\\\"blocking factor\\\":11,\\\"delay factor\\\":8.0},\\\"nameSub\\\":\\\"Thermodynamics\\\",\\\"id\\\":18,\\\"credits\\\":3,\\\"nameCanonical\\\":\\\"\\\"},{\\\"curriculum_requisites\\\":[{\\\"source_id\\\":12,\\\"target_id\\\":19,\\\"type\\\":\\\"CurriculumPrerequisite\\\"},{\\\"source_id\\\":20,\\\"target_id\\\":19,\\\"type\\\":\\\"CurriculumCorequisite\\\"}],\\\"name\\\":\\\"AME 250\\\",\\\"metrics\\\":{\\\"centrality\\\":145,\\\"complexity\\\":19.0,\\\"blocking factor\\\":10,\\\"delay factor\\\":9.0},\\\"nameSub\\\":\\\"Dynamics\\\",\\\"id\\\":19,\\\"credits\\\":3,\\\"nameCanonical\\\":\\\"\\\"},{\\\"curriculum_requisites\\\":[{\\\"source_id\\\":13,\\\"target_id\\\":20,\\\"type\\\":\\\"CurriculumPrerequisite\\\"}],\\\"name\\\":\\\"MATH 254\\\",\\\"metrics\\\":{\\\"centrality\\\":182,\\\"complexity\\\":24.0,\\\"blocking factor\\\":15,\\\"delay factor\\\":9.0},\\\"nameSub\\\":\\\"Intro. to ODEs\\\",\\\"id\\\":20,\\\"credits\\\":3,\\\"nameCanonical\\\":\\\"\\\"},{\\\"curriculum_requisites\\\":[{\\\"source_id\\\":13,\\\"target_id\\\":21,\\\"type\\\":\\\"CurriculumPrerequisite\\\"},{\\\"source_id\\\":8,\\\"target_id\\\":21,\\\"type\\\":\\\"CurriculumPrerequisite\\\"},{\\\"source_id\\\":20,\\\"target_id\\\":21,\\\"type\\\":\\\"CurriculumCorequisite\\\"}],\\\"name\\\":\\\"AME 220\\\",\\\"metrics\\\":{\\\"centrality\\\":198,\\\"complexity\\\":17.0,\\\"blocking factor\\\":8,\\\"delay factor\\\":9.0},\\\"nameSub\\\":\\\"Intro. to Aerospace Eng.\\\",\\\"id\\\":21,\\\"credits\\\":3,\\\"nameCanonical\\\":\\\"\\\"},{\\\"curriculum_requisites\\\":[],\\\"name\\\":\\\" \\\",\\\"metrics\\\":{\\\"centrality\\\":0,\\\"complexity\\\":1.0,\\\"blocking factor\\\":0,\\\"delay factor\\\":1.0},\\\"nameSub\\\":\\\"Tier I General Ed. 3\\\",\\\"id\\\":22,\\\"credits\\\":3,\\\"nameCanonical\\\":\\\"\\\"}],\\\"id\\\":4},{\\\"name\\\":\\\"Term 5\\\",\\\"curriculum_items\\\":[{\\\"curriculum_requisites\\\":[{\\\"source_id\\\":26,\\\"target_id\\\":23,\\\"type\\\":\\\"CurriculumCorequisite\\\"},{\\\"source_id\\\":21,\\\"target_id\\\":23,\\\"type\\\":\\\"CurriculumPrerequisite\\\"}],\\\"name\\\":\\\"AME 320\\\",\\\"metrics\\\":{\\\"centrality\\\":214,\\\"complexity\\\":14.0,\\\"blocking factor\\\":5,\\\"delay factor\\\":9.0},\\\"nameSub\\\":\\\"Aerodynamics\\\",\\\"id\\\":23,\\\"credits\\\":3,\\\"nameCanonical\\\":\\\"\\\"},{\\\"curriculum_requisites\\\":[{\\\"source_id\\\":12,\\\"target_id\\\":24,\\\"type\\\":\\\"CurriculumPrerequisite\\\"}],\\\"name\\\":\\\"AME  324A\\\",\\\"metrics\\\":{\\\"centrality\\\":172,\\\"complexity\\\":21.0,\\\"blocking factor\\\":12,\\\"delay factor\\\":9.0},\\\"nameSub\\\":\\\"Mech. Behavior of Eng. Materials.\\\",\\\"id\\\":24,\\\"credits\\\":3,\\\"nameCanonical\\\":\\\"\\\"},{\\\"curriculum_requisites\\\":[{\\\"source_id\\\":20,\\\"target_id\\\":25,\\\"type\\\":\\\"CurriculumPrerequisite\\\"}],\\\"name\\\":\\\"AME 301\\\",\\\"metrics\\\":{\\\"centrality\\\":6,\\\"complexity\\\":7.0,\\\"blocking factor\\\":1,\\\"delay factor\\\":6.0},\\\"nameSub\\\":\\\"Engineering Analysis\\\",\\\"id\\\":25,\\\"credits\\\":3,\\\"nameCanonical\\\":\\\"\\\"},{\\\"curriculum_requisites\\\":[{\\\"source_id\\\":18,\\\"target_id\\\":26,\\\"type\\\":\\\"CurriculumCorequisite\\\"},{\\\"source_id\\\":24,\\\"target_id\\\":26,\\\"type\\\":\\\"CurriculumCorequisite\\\"}],\\\"name\\\":\\\"AME 300\\\",\\\"metrics\\\":{\\\"centrality\\\":204,\\\"complexity\\\":19.0,\\\"blocking factor\\\":10,\\\"delay factor\\\":9.0},\\\"nameSub\\\":\\\"Instrumentation Lab.\\\",\\\"id\\\":26,\\\"credits\\\":3,\\\"nameCanonical\\\":\\\"\\\"},{\\\"curriculum_requisites\\\":[{\\\"source_id\\\":2,\\\"target_id\\\":27,\\\"type\\\":\\\"CurriculumPrerequisite\\\"}],\\\"name\\\":\\\"MSE 331R\\\",\\\"metrics\\\":{\\\"centrality\\\":3,\\\"complexity\\\":4.0,\\\"blocking factor\\\":1,\\\"delay factor\\\":3.0},\\\"nameSub\\\":\\\"Fund. of Materials for Engineers\\\",\\\"id\\\":27,\\\"credits\\\":3,\\\"nameCanonical\\\":\\\"\\\"},{\\\"curriculum_requisites\\\":[{\\\"source_id\\\":24,\\\"target_id\\\":28,\\\"type\\\":\\\"CurriculumCorequisite\\\"}],\\\"name\\\":\\\"AME 324L\\\",\\\"metrics\\\":{\\\"centrality\\\":0,\\\"complexity\\\":5.0,\\\"blocking factor\\\":0,\\\"delay factor\\\":5.0},\\\"nameSub\\\":\\\"Mech. of Materials Lab.\\\",\\\"id\\\":28,\\\"credits\\\":1,\\\"nameCanonical\\\":\\\"\\\"}],\\\"id\\\":5},{\\\"name\\\":\\\"Term 6\\\",\\\"curriculum_items\\\":[{\\\"curriculum_requisites\\\":[{\\\"source_id\\\":25,\\\"target_id\\\":29,\\\"type\\\":\\\"CurriculumPrerequisite\\\"}],\\\"name\\\":\\\"AME 324B\\\",\\\"metrics\\\":{\\\"centrality\\\":0,\\\"complexity\\\":6.0,\\\"blocking factor\\\":0,\\\"delay factor\\\":6.0},\\\"nameSub\\\":\\\"Eng. Component Design\\\",\\\"id\\\":29,\\\"credits\\\":3,\\\"nameCanonical\\\":\\\"\\\"},{\\\"curriculum_requisites\\\":[{\\\"source_id\\\":23,\\\"target_id\\\":30,\\\"type\\\":\\\"CurriculumCorequisite\\\"},{\\\"source_id\\\":19,\\\"target_id\\\":30,\\\"type\\\":\\\"CurriculumPrerequisite\\\"},{\\\"source_id\\\":21,\\\"target_id\\\":30,\\\"type\\\":\\\"CurriculumPrerequisite\\\"}],\\\"name\\\":\\\"AME 321\\\",\\\"metrics\\\":{\\\"centrality\\\":174,\\\"complexity\\\":12.0,\\\"blocking factor\\\":3,\\\"delay factor\\\":9.0},\\\"nameSub\\\":\\\"Aircraft Performance\\\",\\\"id\\\":30,\\\"credits\\\":3,\\\"nameCanonical\\\":\\\"\\\"},{\\\"curriculum_requisites\\\":[{\\\"source_id\\\":18,\\\"target_id\\\":31,\\\"type\\\":\\\"CurriculumPrerequisite\\\"},{\\\"source_id\\\":32,\\\"target_id\\\":31,\\\"type\\\":\\\"CurriculumCorequisite\\\"},{\\\"source_id\\\":21,\\\"target_id\\\":31,\\\"type\\\":\\\"CurriculumPrerequisite\\\"},{\\\"source_id\\\":20,\\\"target_id\\\":31,\\\"type\\\":\\\"CurriculumPrerequisite\\\"}],\\\"name\\\":\\\"AME 323\\\",\\\"metrics\\\":{\\\"centrality\\\":274,\\\"complexity\\\":13.0,\\\"blocking factor\\\":4,\\\"delay factor\\\":9.0},\\\"nameSub\\\":\\\"Gasdynamics\\\",\\\"id\\\":31,\\\"credits\\\":3,\\\"nameCanonical\\\":\\\"\\\"},{\\\"curriculum_requisites\\\":[{\\\"source_id\\\":26,\\\"target_id\\\":32,\\\"type\\\":\\\"CurriculumCorequisite\\\"},{\\\"source_id\\\":19,\\\"target_id\\\":32,\\\"type\\\":\\\"CurriculumPrerequisite\\\"},{\\\"source_id\\\":15,\\\"target_id\\\":32,\\\"type\\\":\\\"CurriculumPrerequisite\\\"},{\\\"source_id\\\":20,\\\"target_id\\\":32,\\\"type\\\":\\\"CurriculumPrerequisite\\\"}],\\\"name\\\":\\\"AME 302\\\",\\\"metrics\\\":{\\\"centrality\\\":232,\\\"complexity\\\":15.0,\\\"blocking factor\\\":6,\\\"delay factor\\\":9.0},\\\"nameSub\\\":\\\"Numerical Methods\\\",\\\"id\\\":32,\\\"credits\\\":3,\\\"nameCanonical\\\":\\\"\\\"},{\\\"curriculum_requisites\\\":[],\\\"name\\\":\\\"AME 313\\\",\\\"metrics\\\":{\\\"centrality\\\":0,\\\"complexity\\\":5.0,\\\"blocking factor\\\":2,\\\"delay factor\\\":3.0},\\\"nameSub\\\":\\\"Aero./Mech. Eng. Lab\\\",\\\"id\\\":33,\\\"credits\\\":1,\\\"nameCanonical\\\":\\\"\\\"},{\\\"curriculum_requisites\\\":[],\\\"name\\\":\\\" \\\",\\\"metrics\\\":{\\\"centrality\\\":0,\\\"complexity\\\":1.0,\\\"blocking factor\\\":0,\\\"delay factor\\\":1.0},\\\"nameSub\\\":\\\"Tier II General Ed. 1\\\",\\\"id\\\":34,\\\"credits\\\":3,\\\"nameCanonical\\\":\\\"\\\"}],\\\"id\\\":6},{\\\"name\\\":\\\"Term 7\\\",\\\"curriculum_items\\\":[{\\\"curriculum_requisites\\\":[{\\\"source_id\\\":23,\\\"target_id\\\":35,\\\"type\\\":\\\"CurriculumPrerequisite\\\"},{\\\"source_id\\\":31,\\\"target_id\\\":35,\\\"type\\\":\\\"CurriculumPrerequisite\\\"},{\\\"source_id\\\":27,\\\"target_id\\\":35,\\\"type\\\":\\\"CurriculumPrerequisite\\\"}],\\\"name\\\":\\\"AME 401\\\",\\\"metrics\\\":{\\\"centrality\\\":0,\\\"complexity\\\":8.0,\\\"blocking factor\\\":0,\\\"delay factor\\\":8.0},\\\"nameSub\\\":\\\"Senior Aerospace Lab.\\\",\\\"id\\\":35,\\\"credits\\\":3,\\\"nameCanonical\\\":\\\"\\\"},{\\\"curriculum_requisites\\\":[{\\\"source_id\\\":23,\\\"target_id\\\":36,\\\"type\\\":\\\"CurriculumPrerequisite\\\"},{\\\"source_id\\\":31,\\\"target_id\\\":36,\\\"type\\\":\\\"CurriculumPrerequisite\\\"},{\\\"source_id\\\":33,\\\"target_id\\\":36,\\\"type\\\":\\\"CurriculumPrerequisite\\\"},{\\\"source_id\\\":30,\\\"target_id\\\":36,\\\"type\\\":\\\"CurriculumPrerequisite\\\"}],\\\"name\\\":\\\"AME 420\\\",\\\"metrics\\\":{\\\"centrality\\\":240,\\\"complexity\\\":10.0,\\\"blocking factor\\\":1,\\\"delay factor\\\":9.0},\\\"nameSub\\\":\\\"Aerospace Conceptual Design\\\",\\\"id\\\":36,\\\"credits\\\":3,\\\"nameCanonical\\\":\\\"\\\"},{\\\"curriculum_requisites\\\":[{\\\"source_id\\\":24,\\\"target_id\\\":37,\\\"type\\\":\\\"CurriculumPrerequisite\\\"},{\\\"source_id\\\":31,\\\"target_id\\\":37,\\\"type\\\":\\\"CurriculumPrerequisite\\\"},{\\\"source_id\\\":18,\\\"target_id\\\":37,\\\"type\\\":\\\"CurriculumPrerequisite\\\"}],\\\"name\\\":\\\"AME 425\\\",\\\"metrics\\\":{\\\"centrality\\\":0,\\\"complexity\\\":8.0,\\\"blocking factor\\\":0,\\\"delay factor\\\":8.0},\\\"nameSub\\\":\\\"Aerospace Propulsion\\\",\\\"id\\\":37,\\\"credits\\\":3,\\\"nameCanonical\\\":\\\"\\\"},{\\\"curriculum_requisites\\\":[{\\\"source_id\\\":23,\\\"target_id\\\":38,\\\"type\\\":\\\"CurriculumPrerequisite\\\"},{\\\"source_id\\\":15,\\\"target_id\\\":38,\\\"type\\\":\\\"CurriculumPrerequisite\\\"},{\\\"source_id\\\":30,\\\"target_id\\\":38,\\\"type\\\":\\\"CurriculumPrerequisite\\\"}],\\\"name\\\":\\\"AME 427\\\",\\\"metrics\\\":{\\\"centrality\\\":0,\\\"complexity\\\":8.0,\\\"blocking factor\\\":0,\\\"delay factor\\\":8.0},\\\"nameSub\\\":\\\"Stability and Control of Aero. Vehicles\\\",\\\"id\\\":38,\\\"credits\\\":3,\\\"nameCanonical\\\":\\\"\\\"},{\\\"curriculum_requisites\\\":[{\\\"source_id\\\":13,\\\"target_id\\\":39,\\\"type\\\":\\\"CurriculumPrerequisite\\\"},{\\\"source_id\\\":19,\\\"target_id\\\":39,\\\"type\\\":\\\"CurriculumPrerequisite\\\"}],\\\"name\\\":\\\"AME 457\\\",\\\"metrics\\\":{\\\"centrality\\\":0,\\\"complexity\\\":6.0,\\\"blocking factor\\\":0,\\\"delay factor\\\":6.0},\\\"nameSub\\\":\\\"Orbital Mechanicans and Space Flt.\\\",\\\"id\\\":39,\\\"credits\\\":3,\\\"nameCanonical\\\":\\\"\\\"},{\\\"curriculum_requisites\\\":[],\\\"name\\\":\\\"AME 495S\\\",\\\"metrics\\\":{\\\"centrality\\\":0,\\\"complexity\\\":1.0,\\\"blocking factor\\\":0,\\\"delay factor\\\":1.0},\\\"nameSub\\\":\\\"Senior Colloquium\\\",\\\"id\\\":40,\\\"credits\\\":1,\\\"nameCanonical\\\":\\\"\\\"}],\\\"id\\\":7},{\\\"name\\\":\\\"Term 8\\\",\\\"curriculum_items\\\":[{\\\"curriculum_requisites\\\":[{\\\"source_id\\\":36,\\\"target_id\\\":41,\\\"type\\\":\\\"CurriculumPrerequisite\\\"},{\\\"source_id\\\":33,\\\"target_id\\\":41,\\\"type\\\":\\\"CurriculumCorequisite\\\"}],\\\"name\\\":\\\"AME 422\\\",\\\"metrics\\\":{\\\"centrality\\\":0,\\\"complexity\\\":9.0,\\\"blocking factor\\\":0,\\\"delay factor\\\":9.0},\\\"nameSub\\\":\\\"Aerospace Eng.Design\\\",\\\"id\\\":41,\\\"credits\\\":3,\\\"nameCanonical\\\":\\\"\\\"},{\\\"curriculum_requisites\\\":[{\\\"source_id\\\":24,\\\"target_id\\\":42,\\\"type\\\":\\\"CurriculumPrerequisite\\\"},{\\\"source_id\\\":32,\\\"target_id\\\":42,\\\"type\\\":\\\"CurriculumPrerequisite\\\"},{\\\"source_id\\\":18,\\\"target_id\\\":42,\\\"type\\\":\\\"CurriculumPrerequisite\\\"}],\\\"name\\\":\\\"AME 431\\\",\\\"metrics\\\":{\\\"centrality\\\":0,\\\"complexity\\\":7.0,\\\"blocking factor\\\":0,\\\"delay factor\\\":7.0},\\\"nameSub\\\":\\\"Num. Meth. in Fluid Mech. & Heat Xfer\\\",\\\"id\\\":42,\\\"credits\\\":3,\\\"nameCanonical\\\":\\\"\\\"},{\\\"curriculum_requisites\\\":[],\\\"name\\\":\\\" \\\",\\\"metrics\\\":{\\\"centrality\\\":0,\\\"complexity\\\":1.0,\\\"blocking factor\\\":0,\\\"delay factor\\\":1.0},\\\"nameSub\\\":\\\"Technical Elective 1\\\",\\\"id\\\":43,\\\"credits\\\":3,\\\"nameCanonical\\\":\\\"\\\"},{\\\"curriculum_requisites\\\":[],\\\"name\\\":\\\" \\\",\\\"metrics\\\":{\\\"centrality\\\":0,\\\"complexity\\\":1.0,\\\"blocking factor\\\":0,\\\"delay factor\\\":1.0},\\\"nameSub\\\":\\\"Technical Elective 2\\\",\\\"id\\\":44,\\\"credits\\\":3,\\\"nameCanonical\\\":\\\"\\\"},{\\\"curriculum_requisites\\\":[],\\\"name\\\":\\\" \\\",\\\"metrics\\\":{\\\"centrality\\\":0,\\\"complexity\\\":1.0,\\\"blocking factor\\\":0,\\\"delay factor\\\":1.0},\\\"nameSub\\\":\\\"Tier II General Ed. 2\\\",\\\"id\\\":45,\\\"credits\\\":3,\\\"nameCanonical\\\":\\\"\\\"}],\\\"id\\\":8}],\\\"institution\\\":\\\"University of Arizona\\\"}},\\\"*\\\"); window.removeEventListener(\\\"message\\\",window.messageReceived); window.messageReceived=(function (event){return (event.data.curriculum!==undefined) ? (WebIO.setval({\\\"name\\\":\\\"curriculum-data\\\",\\\"scope\\\":\\\"2768156881661104786\\\",\\\"id\\\":\\\"11532497633456399521\\\",\\\"type\\\":\\\"observable\\\"},event.data.curriculum)) : undefined}); return window.addEventListener(\\\"message\\\",window.messageReceived)})\")),:style => Dict(:padding => \"0\",:height => \"80vh\",:margin => \"0\",:border => \"none\",:width => \"100%\"))), Dict{String,Tuple{Observables.AbstractObservable,Union{Nothing, Bool}}}(\"curriculum-data\" => (Observable{Dict{String,Any}} with 1 listeners. Value:\n",
       "Dict{String,Any}(\"options\" => Dict{String,Any}(\"hideTerms\" => false,\"edit\" => false),\"curriculum\" => Dict{String,Any}(\"name\" => \"Aerospace Engineering\",\"dp_name\" => \"2019-20 Degree Plan\",\"curriculum_terms\" => Dict{String,Any}[Dict(\"name\" => \"Term 1\",\"curriculum_items\" => Dict{String,Any}[Dict(\"curriculum_requisites\" => Dict{String,Any}[],\"name\" => \"MATH 125\",\"metrics\" => Dict{String,Any}(\"centrality\" => 0,\"complexity\" => 38.0,\"blocking factor\" => 29,\"delay factor\" => 9.0),\"nameSub\" => \"Calculus I w/ Applications\",\"id\" => 1,\"credits\" => 3,\"nameCanonical\" => \"\"), Dict(\"curriculum_requisites\" => Dict{String,Any}[],\"name\" => \"CHEM 151\",\"metrics\" => Dict{String,Any}(\"centrality\" => 0,\"complexity\" => 5.0,\"blocking factor\" => 2,\"delay factor\" => 3.0),\"nameSub\" => \"Gen Chemistry I\",\"id\" => 2,\"credits\" => 4,\"nameCanonical\" => \"\"), Dict(\"curriculum_requisites\" => Dict{String,Any}[],\"name\" => \"ENGL 101\",\"metrics\" => Dict{String,Any}(\"centrality\" => 0,\"complexity\" => 3.0,\"blocking factor\" => 1,\"delay factor\" => 2.0),\"nameSub\" => \"First-year Comp.\",\"id\" => 3,\"credits\" => 3,\"nameCanonical\" => \"\"), Dict(\"curriculum_requisites\" => Dict{String,Any}[Dict(\"source_id\" => 1,\"target_id\" => 4,\"type\" => \"CurriculumCorequisite\")],\"name\" => \"ENGR 102\",\"metrics\" => Dict{String,Any}(\"centrality\" => 0,\"complexity\" => 2.0,\"blocking factor\" => 0,\"delay factor\" => 2.0),\"nameSub\" => \"Intro to Engineering\",\"id\" => 4,\"credits\" => 3,\"nameCanonical\" => \"\"), Dict(\"curriculum_requisites\" => Dict{String,Any}[],\"name\" => \" \",\"metrics\" => Dict{String,Any}(\"centrality\" => 0,\"complexity\" => 1.0,\"blocking factor\" => 0,\"delay factor\" => 1.0),\"nameSub\" => \"Tier I General Ed.\",\"id\" => 5,\"credits\" => 3,\"nameCanonical\" => \"\")],\"id\" => 1), Dict(\"name\" => \"Term 2\",\"curriculum_items\" => Dict{String,Any}[Dict(\"curriculum_requisites\" => Dict{String,Any}[Dict(\"source_id\" => 1,\"target_id\" => 6,\"type\" => \"CurriculumPrerequisite\")],\"name\" => \"MATH 129\",\"metrics\" => Dict{String,Any}(\"centrality\" => 387,\"complexity\" => 31.0,\"blocking factor\" => 22,\"delay factor\" => 9.0),\"nameSub\" => \"Calculus II\",\"id\" => 6,\"credits\" => 3,\"nameCanonical\" => \"\"), Dict(\"curriculum_requisites\" => Dict{String,Any}[Dict(\"source_id\" => 1,\"target_id\" => 7,\"type\" => \"CurriculumPrerequisite\")],\"name\" => \"AME 105\",\"metrics\" => Dict{String,Any}(\"centrality\" => 28,\"complexity\" => 16.0,\"blocking factor\" => 9,\"delay factor\" => 7.0),\"nameSub\" => \"Intro. to MATLAB I\",\"id\" => 7,\"credits\" => 1,\"nameCanonical\" => \"\"), Dict(\"curriculum_requisites\" => Dict{String,Any}[Dict(\"source_id\" => 1,\"target_id\" => 8,\"type\" => \"CurriculumPrerequisite\")],\"name\" => \"PHYS 141\",\"metrics\" => Dict{String,Any}(\"centrality\" => 277,\"complexity\" => 28.0,\"blocking factor\" => 19,\"delay factor\" => 9.0),\"nameSub\" => \"Intro Mechanics\",\"id\" => 8,\"credits\" => 4,\"nameCanonical\" => \"\"), Dict(\"curriculum_requisites\" => Dict{String,Any}[Dict(\"source_id\" => 3,\"target_id\" => 9,\"type\" => \"CurriculumPrerequisite\")],\"name\" => \"ENGL 102\",\"metrics\" => Dict{String,Any}(\"centrality\" => 0,\"complexity\" => 2.0,\"blocking factor\" => 0,\"delay factor\" => 2.0),\"nameSub\" => \"First-year Comp.\",\"id\" => 9,\"credits\" => 3,\"nameCanonical\" => \"\"), Dict(\"curriculum_requisites\" => Dict{String,Any}[Dict(\"source_id\" => 1,\"target_id\" => 10,\"type\" => \"CurriculumCorequisite\")],\"name\" => \"ECE 175\",\"metrics\" => Dict{String,Any}(\"centrality\" => 0,\"complexity\" => 2.0,\"blocking factor\" => 0,\"delay factor\" => 2.0),\"nameSub\" => \"Programming for Eng. Apps.\",\"id\" => 10,\"credits\" => 3,\"nameCanonical\" => \"\"), Dict(\"curriculum_requisites\" => Dict{String,Any}[],\"name\" => \" \",\"metrics\" => Dict{String,Any}(\"centrality\" => 0,\"complexity\" => 1.0,\"blocking factor\" => 0,\"delay factor\" => 1.0),\"nameSub\" => \"Tier I General Ed. 1\",\"id\" => 11,\"credits\" => 3,\"nameCanonical\" => \"\")],\"id\" => 2), Dict(\"name\" => \"Term 3\",\"curriculum_items\" => Dict{String,Any}[Dict(\"curriculum_requisites\" => Dict{String,Any}[Dict(\"source_id\" => 8,\"target_id\" => 12,\"type\" => \"CurriculumPrerequisite\"), Dict(\"source_id\" => 6,\"target_id\" => 12,\"type\" => \"CurriculumPrerequisite\")],\"name\" => \"CE 214\",\"metrics\" => Dict{String,Any}(\"centrality\" => 264,\"complexity\" => 24.0,\"blocking factor\" => 15,\"delay factor\" => 9.0),\"nameSub\" => \"Statics\",\"id\" => 12,\"credits\" => 3,\"nameCanonical\" => \"\"), Dict(\"curriculum_requisites\" => Dict{String,Any}[Dict(\"source_id\" => 6,\"target_id\" => 13,\"type\" => \"CurriculumPrerequisite\")],\"name\" => \"MATH  223\",\"metrics\" => Dict{String,Any}(\"centrality\" => 252,\"complexity\" => 25.0,\"blocking factor\" => 16,\"delay factor\" => 9.0),\"nameSub\" => \"Vector Calculus\",\"id\" => 13,\"credits\" => 4,\"nameCanonical\" => \"\"), Dict(\"curriculum_requisites\" => Dict{String,Any}[Dict(\"source_id\" => 8,\"target_id\" => 14,\"type\" => \"CurriculumPrerequisite\"), Dict(\"source_id\" => 6,\"target_id\" => 14,\"type\" => \"CurriculumPrerequisite\")],\"name\" => \"PHYS 241\",\"metrics\" => Dict{String,Any}(\"centrality\" => 0,\"complexity\" => 3.0,\"blocking factor\" => 0,\"delay factor\" => 3.0),\"nameSub\" => \"Electricity & Magnetism\",\"id\" => 14,\"credits\" => 4,\"nameCanonical\" => \"\"), Dict(\"curriculum_requisites\" => Dict{String,Any}[Dict(\"source_id\" => 7,\"target_id\" => 15,\"type\" => \"CurriculumPrerequisite\")],\"name\" => \"AME  205\",\"metrics\" => Dict{String,Any}(\"centrality\" => 28,\"complexity\" => 15.0,\"blocking factor\" => 8,\"delay factor\" => 7.0),\"nameSub\" => \"Intro. To MATLAB II\",\"id\" => 15,\"credits\" => 1,\"nameCanonical\" => \"\"), Dict(\"curriculum_requisites\" => Dict{String,Any}[],\"name\" => \"AME 211\",\"metrics\" => Dict{String,Any}(\"centrality\" => 0,\"complexity\" => 1.0,\"blocking factor\" => 0,\"delay factor\" => 1.0),\"nameSub\" => \"Comp. Aided Drafting & Manufacturing\",\"id\" => 16,\"credits\" => 3,\"nameCanonical\" => \"\"), Dict(\"curriculum_requisites\" => Dict{String,Any}[],\"name\" => \" \",\"metrics\" => Dict{String,Any}(\"centrality\" => 0,\"complexity\" => 1.0,\"blocking factor\" => 0,\"delay factor\" => 1.0),\"nameSub\" => \"Tier I General Ed. 2\",\"id\" => 17,\"credits\" => 3,\"nameCanonical\" => \"\")],\"id\" => 3), Dict(\"name\" => \"Term 4\",\"curriculum_items\" => Dict{String,Any}[Dict(\"curriculum_requisites\" => Dict{String,Any}[Dict(\"source_id\" => 8,\"target_id\" => 18,\"type\" => \"CurriculumPrerequisite\")],\"name\" => \"AME 230\",\"metrics\" => Dict{String,Any}(\"centrality\" => 86,\"complexity\" => 19.0,\"blocking factor\" => 11,\"delay factor\" => 8.0),\"nameSub\" => \"Thermodynamics\",\"id\" => 18,\"credits\" => 3,\"nameCanonical\" => \"\"), Dict(\"curriculum_requisites\" => Dict{String,Any}[Dict(\"source_id\" => 12,\"target_id\" => 19,\"type\" => \"CurriculumPrerequisite\"), Dict(\"source_id\" => 20,\"target_id\" => 19,\"type\" => \"CurriculumCorequisite\")],\"name\" => \"AME 250\",\"metrics\" => Dict{String,Any}(\"centrality\" => 145,\"complexity\" => 19.0,\"blocking factor\" => 10,\"delay factor\" => 9.0),\"nameSub\" => \"Dynamics\",\"id\" => 19,\"credits\" => 3,\"nameCanonical\" => \"\"), Dict(\"curriculum_requisites\" => Dict{String,Any}[Dict(\"source_id\" => 13,\"target_id\" => 20,\"type\" => \"CurriculumPrerequisite\")],\"name\" => \"MATH 254\",\"metrics\" => Dict{String,Any}(\"centrality\" => 182,\"complexity\" => 24.0,\"blocking factor\" => 15,\"delay factor\" => 9.0),\"nameSub\" => \"Intro. to ODEs\",\"id\" => 20,\"credits\" => 3,\"nameCanonical\" => \"\"), Dict(\"curriculum_requisites\" => Dict{String,Any}[Dict(\"source_id\" => 13,\"target_id\" => 21,\"type\" => \"CurriculumPrerequisite\"), Dict(\"source_id\" => 8,\"target_id\" => 21,\"type\" => \"CurriculumPrerequisite\"), Dict(\"source_id\" => 20,\"target_id\" => 21,\"type\" => \"CurriculumCorequisite\")],\"name\" => \"AME 220\",\"metrics\" => Dict{String,Any}(\"centrality\" => 198,\"complexity\" => 17.0,\"blocking factor\" => 8,\"delay factor\" => 9.0),\"nameSub\" => \"Intro. to Aerospace Eng.\",\"id\" => 21,\"credits\" => 3,\"nameCanonical\" => \"\"), Dict(\"curriculum_requisites\" => Dict{String,Any}[],\"name\" => \" \",\"metrics\" => Dict{String,Any}(\"centrality\" => 0,\"complexity\" => 1.0,\"blocking factor\" => 0,\"delay factor\" => 1.0),\"nameSub\" => \"Tier I General Ed. 3\",\"id\" => 22,\"credits\" => 3,\"nameCanonical\" => \"\")],\"id\" => 4), Dict(\"name\" => \"Term 5\",\"curriculum_items\" => Dict{String,Any}[Dict(\"curriculum_requisites\" => Dict{String,Any}[Dict(\"source_id\" => 26,\"target_id\" => 23,\"type\" => \"CurriculumCorequisite\"), Dict(\"source_id\" => 21,\"target_id\" => 23,\"type\" => \"CurriculumPrerequisite\")],\"name\" => \"AME 320\",\"metrics\" => Dict{String,Any}(\"centrality\" => 214,\"complexity\" => 14.0,\"blocking factor\" => 5,\"delay factor\" => 9.0),\"nameSub\" => \"Aerodynamics\",\"id\" => 23,\"credits\" => 3,\"nameCanonical\" => \"\"), Dict(\"curriculum_requisites\" => Dict{String,Any}[Dict(\"source_id\" => 12,\"target_id\" => 24,\"type\" => \"CurriculumPrerequisite\")],\"name\" => \"AME  324A\",\"metrics\" => Dict{String,Any}(\"centrality\" => 172,\"complexity\" => 21.0,\"blocking factor\" => 12,\"delay factor\" => 9.0),\"nameSub\" => \"Mech. Behavior of Eng. Materials.\",\"id\" => 24,\"credits\" => 3,\"nameCanonical\" => \"\"), Dict(\"curriculum_requisites\" => Dict{String,Any}[Dict(\"source_id\" => 20,\"target_id\" => 25,\"type\" => \"CurriculumPrerequisite\")],\"name\" => \"AME 301\",\"metrics\" => Dict{String,Any}(\"centrality\" => 6,\"complexity\" => 7.0,\"blocking factor\" => 1,\"delay factor\" => 6.0),\"nameSub\" => \"Engineering Analysis\",\"id\" => 25,\"credits\" => 3,\"nameCanonical\" => \"\"), Dict(\"curriculum_requisites\" => Dict{String,Any}[Dict(\"source_id\" => 18,\"target_id\" => 26,\"type\" => \"CurriculumCorequisite\"), Dict(\"source_id\" => 24,\"target_id\" => 26,\"type\" => \"CurriculumCorequisite\")],\"name\" => \"AME 300\",\"metrics\" => Dict{String,Any}(\"centrality\" => 204,\"complexity\" => 19.0,\"blocking factor\" => 10,\"delay factor\" => 9.0),\"nameSub\" => \"Instrumentation Lab.\",\"id\" => 26,\"credits\" => 3,\"nameCanonical\" => \"\"), Dict(\"curriculum_requisites\" => Dict{String,Any}[Dict(\"source_id\" => 2,\"target_id\" => 27,\"type\" => \"CurriculumPrerequisite\")],\"name\" => \"MSE 331R\",\"metrics\" => Dict{String,Any}(\"centrality\" => 3,\"complexity\" => 4.0,\"blocking factor\" => 1,\"delay factor\" => 3.0),\"nameSub\" => \"Fund. of Materials for Engineers\",\"id\" => 27,\"credits\" => 3,\"nameCanonical\" => \"\"), Dict(\"curriculum_requisites\" => Dict{String,Any}[Dict(\"source_id\" => 24,\"target_id\" => 28,\"type\" => \"CurriculumCorequisite\")],\"name\" => \"AME 324L\",\"metrics\" => Dict{String,Any}(\"centrality\" => 0,\"complexity\" => 5.0,\"blocking factor\" => 0,\"delay factor\" => 5.0),\"nameSub\" => \"Mech. of Materials Lab.\",\"id\" => 28,\"credits\" => 1,\"nameCanonical\" => \"\")],\"id\" => 5), Dict(\"name\" => \"Term 6\",\"curriculum_items\" => Dict{String,Any}[Dict(\"curriculum_requisites\" => Dict{String,Any}[Dict(\"source_id\" => 25,\"target_id\" => 29,\"type\" => \"CurriculumPrerequisite\")],\"name\" => \"AME 324B\",\"metrics\" => Dict{String,Any}(\"centrality\" => 0,\"complexity\" => 6.0,\"blocking factor\" => 0,\"delay factor\" => 6.0),\"nameSub\" => \"Eng. Component Design\",\"id\" => 29,\"credits\" => 3,\"nameCanonical\" => \"\"), Dict(\"curriculum_requisites\" => Dict{String,Any}[Dict(\"source_id\" => 23,\"target_id\" => 30,\"type\" => \"CurriculumCorequisite\"), Dict(\"source_id\" => 19,\"target_id\" => 30,\"type\" => \"CurriculumPrerequisite\"), Dict(\"source_id\" => 21,\"target_id\" => 30,\"type\" => \"CurriculumPrerequisite\")],\"name\" => \"AME 321\",\"metrics\" => Dict{String,Any}(\"centrality\" => 174,\"complexity\" => 12.0,\"blocking factor\" => 3,\"delay factor\" => 9.0),\"nameSub\" => \"Aircraft Performance\",\"id\" => 30,\"credits\" => 3,\"nameCanonical\" => \"\"), Dict(\"curriculum_requisites\" => Dict{String,Any}[Dict(\"source_id\" => 18,\"target_id\" => 31,\"type\" => \"CurriculumPrerequisite\"), Dict(\"source_id\" => 32,\"target_id\" => 31,\"type\" => \"CurriculumCorequisite\"), Dict(\"source_id\" => 21,\"target_id\" => 31,\"type\" => \"CurriculumPrerequisite\"), Dict(\"source_id\" => 20,\"target_id\" => 31,\"type\" => \"CurriculumPrerequisite\")],\"name\" => \"AME 323\",\"metrics\" => Dict{String,Any}(\"centrality\" => 274,\"complexity\" => 13.0,\"blocking factor\" => 4,\"delay factor\" => 9.0),\"nameSub\" => \"Gasdynamics\",\"id\" => 31,\"credits\" => 3,\"nameCanonical\" => \"\"), Dict(\"curriculum_requisites\" => Dict{String,Any}[Dict(\"source_id\" => 26,\"target_id\" => 32,\"type\" => \"CurriculumCorequisite\"), Dict(\"source_id\" => 19,\"target_id\" => 32,\"type\" => \"CurriculumPrerequisite\"), Dict(\"source_id\" => 15,\"target_id\" => 32,\"type\" => \"CurriculumPrerequisite\"), Dict(\"source_id\" => 20,\"target_id\" => 32,\"type\" => \"CurriculumPrerequisite\")],\"name\" => \"AME 302\",\"metrics\" => Dict{String,Any}(\"centrality\" => 232,\"complexity\" => 15.0,\"blocking factor\" => 6,\"delay factor\" => 9.0),\"nameSub\" => \"Numerical Methods\",\"id\" => 32,\"credits\" => 3,\"nameCanonical\" => \"\"), Dict(\"curriculum_requisites\" => Dict{String,Any}[],\"name\" => \"AME 313\",\"metrics\" => Dict{String,Any}(\"centrality\" => 0,\"complexity\" => 5.0,\"blocking factor\" => 2,\"delay factor\" => 3.0),\"nameSub\" => \"Aero./Mech. Eng. Lab\",\"id\" => 33,\"credits\" => 1,\"nameCanonical\" => \"\"), Dict(\"curriculum_requisites\" => Dict{String,Any}[],\"name\" => \" \",\"metrics\" => Dict{String,Any}(\"centrality\" => 0,\"complexity\" => 1.0,\"blocking factor\" => 0,\"delay factor\" => 1.0),\"nameSub\" => \"Tier II General Ed. 1\",\"id\" => 34,\"credits\" => 3,\"nameCanonical\" => \"\")],\"id\" => 6), Dict(\"name\" => \"Term 7\",\"curriculum_items\" => Dict{String,Any}[Dict(\"curriculum_requisites\" => Dict{String,Any}[Dict(\"source_id\" => 23,\"target_id\" => 35,\"type\" => \"CurriculumPrerequisite\"), Dict(\"source_id\" => 31,\"target_id\" => 35,\"type\" => \"CurriculumPrerequisite\"), Dict(\"source_id\" => 27,\"target_id\" => 35,\"type\" => \"CurriculumPrerequisite\")],\"name\" => \"AME 401\",\"metrics\" => Dict{String,Any}(\"centrality\" => 0,\"complexity\" => 8.0,\"blocking factor\" => 0,\"delay factor\" => 8.0),\"nameSub\" => \"Senior Aerospace Lab.\",\"id\" => 35,\"credits\" => 3,\"nameCanonical\" => \"\"), Dict(\"curriculum_requisites\" => Dict{String,Any}[Dict(\"source_id\" => 23,\"target_id\" => 36,\"type\" => \"CurriculumPrerequisite\"), Dict(\"source_id\" => 31,\"target_id\" => 36,\"type\" => \"CurriculumPrerequisite\"), Dict(\"source_id\" => 33,\"target_id\" => 36,\"type\" => \"CurriculumPrerequisite\"), Dict(\"source_id\" => 30,\"target_id\" => 36,\"type\" => \"CurriculumPrerequisite\")],\"name\" => \"AME 420\",\"metrics\" => Dict{String,Any}(\"centrality\" => 240,\"complexity\" => 10.0,\"blocking factor\" => 1,\"delay factor\" => 9.0),\"nameSub\" => \"Aerospace Conceptual Design\",\"id\" => 36,\"credits\" => 3,\"nameCanonical\" => \"\"), Dict(\"curriculum_requisites\" => Dict{String,Any}[Dict(\"source_id\" => 24,\"target_id\" => 37,\"type\" => \"CurriculumPrerequisite\"), Dict(\"source_id\" => 31,\"target_id\" => 37,\"type\" => \"CurriculumPrerequisite\"), Dict(\"source_id\" => 18,\"target_id\" => 37,\"type\" => \"CurriculumPrerequisite\")],\"name\" => \"AME 425\",\"metrics\" => Dict{String,Any}(\"centrality\" => 0,\"complexity\" => 8.0,\"blocking factor\" => 0,\"delay factor\" => 8.0),\"nameSub\" => \"Aerospace Propulsion\",\"id\" => 37,\"credits\" => 3,\"nameCanonical\" => \"\"), Dict(\"curriculum_requisites\" => Dict{String,Any}[Dict(\"source_id\" => 23,\"target_id\" => 38,\"type\" => \"CurriculumPrerequisite\"), Dict(\"source_id\" => 15,\"target_id\" => 38,\"type\" => \"CurriculumPrerequisite\"), Dict(\"source_id\" => 30,\"target_id\" => 38,\"type\" => \"CurriculumPrerequisite\")],\"name\" => \"AME 427\",\"metrics\" => Dict{String,Any}(\"centrality\" => 0,\"complexity\" => 8.0,\"blocking factor\" => 0,\"delay factor\" => 8.0),\"nameSub\" => \"Stability and Control of Aero. Vehicles\",\"id\" => 38,\"credits\" => 3,\"nameCanonical\" => \"\"), Dict(\"curriculum_requisites\" => Dict{String,Any}[Dict(\"source_id\" => 13,\"target_id\" => 39,\"type\" => \"CurriculumPrerequisite\"), Dict(\"source_id\" => 19,\"target_id\" => 39,\"type\" => \"CurriculumPrerequisite\")],\"name\" => \"AME 457\",\"metrics\" => Dict{String,Any}(\"centrality\" => 0,\"complexity\" => 6.0,\"blocking factor\" => 0,\"delay factor\" => 6.0),\"nameSub\" => \"Orbital Mechanicans and Space Flt.\",\"id\" => 39,\"credits\" => 3,\"nameCanonical\" => \"\"), Dict(\"curriculum_requisites\" => Dict{String,Any}[],\"name\" => \"AME 495S\",\"metrics\" => Dict{String,Any}(\"centrality\" => 0,\"complexity\" => 1.0,\"blocking factor\" => 0,\"delay factor\" => 1.0),\"nameSub\" => \"Senior Colloquium\",\"id\" => 40,\"credits\" => 1,\"nameCanonical\" => \"\")],\"id\" => 7), Dict(\"name\" => \"Term 8\",\"curriculum_items\" => Dict{String,Any}[Dict(\"curriculum_requisites\" => Dict{String,Any}[Dict(\"source_id\" => 36,\"target_id\" => 41,\"type\" => \"CurriculumPrerequisite\"), Dict(\"source_id\" => 33,\"target_id\" => 41,\"type\" => \"CurriculumCorequisite\")],\"name\" => \"AME 422\",\"metrics\" => Dict{String,Any}(\"centrality\" => 0,\"complexity\" => 9.0,\"blocking factor\" => 0,\"delay factor\" => 9.0),\"nameSub\" => \"Aerospace Eng.Design\",\"id\" => 41,\"credits\" => 3,\"nameCanonical\" => \"\"), Dict(\"curriculum_requisites\" => Dict{String,Any}[Dict(\"source_id\" => 24,\"target_id\" => 42,\"type\" => \"CurriculumPrerequisite\"), Dict(\"source_id\" => 32,\"target_id\" => 42,\"type\" => \"CurriculumPrerequisite\"), Dict(\"source_id\" => 18,\"target_id\" => 42,\"type\" => \"CurriculumPrerequisite\")],\"name\" => \"AME 431\",\"metrics\" => Dict{String,Any}(\"centrality\" => 0,\"complexity\" => 7.0,\"blocking factor\" => 0,\"delay factor\" => 7.0),\"nameSub\" => \"Num. Meth. in Fluid Mech. & Heat Xfer\",\"id\" => 42,\"credits\" => 3,\"nameCanonical\" => \"\"), Dict(\"curriculum_requisites\" => Dict{String,Any}[],\"name\" => \" \",\"metrics\" => Dict{String,Any}(\"centrality\" => 0,\"complexity\" => 1.0,\"blocking factor\" => 0,\"delay factor\" => 1.0),\"nameSub\" => \"Technical Elective 1\",\"id\" => 43,\"credits\" => 3,\"nameCanonical\" => \"\"), Dict(\"curriculum_requisites\" => Dict{String,Any}[],\"name\" => \" \",\"metrics\" => Dict{String,Any}(\"centrality\" => 0,\"complexity\" => 1.0,\"blocking factor\" => 0,\"delay factor\" => 1.0),\"nameSub\" => \"Technical Elective 2\",\"id\" => 44,\"credits\" => 3,\"nameCanonical\" => \"\"), Dict(\"curriculum_requisites\" => Dict{String,Any}[],\"name\" => \" \",\"metrics\" => Dict{String,Any}(\"centrality\" => 0,\"complexity\" => 1.0,\"blocking factor\" => 0,\"delay factor\" => 1.0),\"nameSub\" => \"Tier II General Ed. 2\",\"id\" => 45,\"credits\" => 3,\"nameCanonical\" => \"\")],\"id\" => 8)],\"institution\" => \"University of Arizona\")), nothing)), Set{String}(), nothing, WebIO.Asset[], Dict{Any,Any}(), WebIO.ConnectionPool(Channel{Any}(sz_max:32,sz_curr:0), Set{WebIO.AbstractConnection}(), Base.GenericCondition{Base.AlwaysLockedST}(Base.InvasiveLinkedList{Task}(Task (runnable) @0x000000014007af50, Task (runnable) @0x000000014007af50), Base.AlwaysLockedST(1))), WebIO.JSString[])"
      ]
     },
     "execution_count": 2,
     "metadata": {
      "application/vnd.webio.node+json": {
       "kernelId": "b3962c25-c302-46d3-8907-86a3f30bc345"
      }
     },
     "output_type": "execute_result"
    }
   ],
   "source": [
    "AE_degree_plan = read_csv(\"Univ_of_Arizona-Aero.csv\")\n",
    "visualize(AE_degree_plan, notebook=true, scale=0.8)"
   ]
  },
  {
   "cell_type": "code",
   "execution_count": 3,
   "metadata": {},
   "outputs": [
    {
     "data": {
      "text/plain": [
       "Dict{String,Any} with 8 entries:\n",
       "  \"total credit hours\"         => 129\n",
       "  \"avg. credits per term\"      => 16.125\n",
       "  \"min. credits in a term\"     => 15\n",
       "  \"term credit hour std. dev.\" => 0.927025\n",
       "  \"number of terms\"            => 8\n",
       "  \"max. credits in a term\"     => 18\n",
       "  \"min. credit term\"           => 4\n",
       "  \"max. credit term\"           => 3"
      ]
     },
     "execution_count": 3,
     "metadata": {},
     "output_type": "execute_result"
    }
   ],
   "source": [
    "basic_metrics(AE_degree_plan)\n",
    "AE_degree_plan.metrics"
   ]
  },
  {
   "cell_type": "code",
   "execution_count": 4,
   "metadata": {
    "scrolled": false
   },
   "outputs": [
    {
     "data": {
      "application/vnd.webio.node+json": {
       "children": [
        {
         "children": [
          ""
         ],
         "instanceArgs": {
          "namespace": "html",
          "tag": "iframe"
         },
         "nodeType": "DOM",
         "props": {
          "events": {
           "load": "(function (){this.contentWindow.postMessage({\"options\":{\"hideTerms\":false,\"edit\":false},\"curriculum\":{\"name\":\"Computer Science\",\"dp_name\":\"2019-20 Degree Plan\",\"curriculum_terms\":[{\"name\":\"Term 1\",\"curriculum_items\":[{\"curriculum_requisites\":[{\"source_id\":2,\"target_id\":1,\"type\":\"CurriculumCorequisite\"}],\"name\":\"CSC 110\",\"metrics\":{\"centrality\":25,\"complexity\":12.0,\"blocking factor\":7,\"delay factor\":5.0},\"nameSub\":\"Intro to Computer Programming I\",\"id\":1,\"credits\":4,\"nameCanonical\":\"\"},{\"curriculum_requisites\":[],\"name\":\"MATH 120R\",\"metrics\":{\"centrality\":0,\"complexity\":15.0,\"blocking factor\":10,\"delay factor\":5.0},\"nameSub\":\"Pre-Calculus\",\"id\":2,\"credits\":4,\"nameCanonical\":\"\"},{\"curriculum_requisites\":[],\"name\":\"ENGL 101\",\"metrics\":{\"centrality\":0,\"complexity\":3.0,\"blocking factor\":1,\"delay factor\":2.0},\"nameSub\":\"English Composition I\",\"id\":3,\"credits\":3,\"nameCanonical\":\"\"},{\"curriculum_requisites\":[],\"name\":\" \",\"metrics\":{\"centrality\":0,\"complexity\":3.0,\"blocking factor\":1,\"delay factor\":2.0},\"nameSub\":\"1st Semester Second Language\",\"id\":4,\"credits\":4,\"nameCanonical\":\"\"}],\"id\":1},{\"name\":\"Term 2\",\"curriculum_items\":[{\"curriculum_requisites\":[{\"source_id\":1,\"target_id\":5,\"type\":\"CurriculumPrerequisite\"}],\"name\":\"CSC 120\",\"metrics\":{\"centrality\":25,\"complexity\":11.0,\"blocking factor\":6,\"delay factor\":5.0},\"nameSub\":\"Intro to Computer Programming II\",\"id\":5,\"credits\":4,\"nameCanonical\":\"\"},{\"curriculum_requisites\":[{\"source_id\":2,\"target_id\":6,\"type\":\"CurriculumPrerequisite\"}],\"name\":\"MATH 122A/B\",\"metrics\":{\"centrality\":3,\"complexity\":4.0,\"blocking factor\":1,\"delay factor\":3.0},\"nameSub\":\"Calculus I\",\"id\":6,\"credits\":5,\"nameCanonical\":\"\"},{\"curriculum_requisites\":[{\"source_id\":3,\"target_id\":7,\"type\":\"CurriculumPrerequisite\"}],\"name\":\"ENGL 102\",\"metrics\":{\"centrality\":0,\"complexity\":2.0,\"blocking factor\":0,\"delay factor\":2.0},\"nameSub\":\"English Composition II\",\"id\":7,\"credits\":4,\"nameCanonical\":\"\"},{\"curriculum_requisites\":[{\"source_id\":4,\"target_id\":8,\"type\":\"CurriculumPrerequisite\"}],\"name\":\" \",\"metrics\":{\"centrality\":0,\"complexity\":2.0,\"blocking factor\":0,\"delay factor\":2.0},\"nameSub\":\"2nd Semester Second Language\",\"id\":8,\"credits\":4,\"nameCanonical\":\"\"}],\"id\":2},{\"name\":\"Term 3\",\"curriculum_items\":[{\"curriculum_requisites\":[{\"source_id\":5,\"target_id\":9,\"type\":\"CurriculumPrerequisite\"}],\"name\":\"CSC 210\",\"metrics\":{\"centrality\":20,\"complexity\":9.0,\"blocking factor\":4,\"delay factor\":5.0},\"nameSub\":\"Software Development\",\"id\":9,\"credits\":4,\"nameCanonical\":\"\"},{\"curriculum_requisites\":[{\"source_id\":5,\"target_id\":10,\"type\":\"CurriculumPrerequisite\"}],\"name\":\"CSC 245\",\"metrics\":{\"centrality\":5,\"complexity\":6.0,\"blocking factor\":1,\"delay factor\":5.0},\"nameSub\":\"Intro to Discrete Structures\",\"id\":10,\"credits\":3,\"nameCanonical\":\"\"},{\"curriculum_requisites\":[{\"source_id\":6,\"target_id\":11,\"type\":\"CurriculumPrerequisite\"}],\"name\":\"MATH 129\",\"metrics\":{\"centrality\":0,\"complexity\":3.0,\"blocking factor\":0,\"delay factor\":3.0},\"nameSub\":\"Calculus II\",\"id\":11,\"credits\":3,\"nameCanonical\":\"\"},{\"curriculum_requisites\":[],\"name\":\" \",\"metrics\":{\"centrality\":0,\"complexity\":1.0,\"blocking factor\":0,\"delay factor\":1.0},\"nameSub\":\"Tier 1 General Education 1\",\"id\":12,\"credits\":3,\"nameCanonical\":\"\"},{\"curriculum_requisites\":[],\"name\":\" \",\"metrics\":{\"centrality\":0,\"complexity\":1.0,\"blocking factor\":0,\"delay factor\":1.0},\"nameSub\":\"Tier 1 General Education 2\",\"id\":13,\"credits\":3,\"nameCanonical\":\"\"}],\"id\":3},{\"name\":\"Term 4\",\"curriculum_items\":[{\"curriculum_requisites\":[{\"source_id\":9,\"target_id\":14,\"type\":\"CurriculumPrerequisite\"}],\"name\":\"CSC 252\",\"metrics\":{\"centrality\":0,\"complexity\":5.0,\"blocking factor\":0,\"delay factor\":5.0},\"nameSub\":\"Computer Organization\",\"id\":14,\"credits\":3,\"nameCanonical\":\"\"},{\"curriculum_requisites\":[{\"source_id\":9,\"target_id\":15,\"type\":\"CurriculumPrerequisite\"}],\"name\":\"CSC 352\",\"metrics\":{\"centrality\":0,\"complexity\":5.0,\"blocking factor\":0,\"delay factor\":5.0},\"nameSub\":\"Systems Programming & Unix\",\"id\":15,\"credits\":3,\"nameCanonical\":\"\"},{\"curriculum_requisites\":[],\"name\":\" \",\"metrics\":{\"centrality\":0,\"complexity\":1.0,\"blocking factor\":0,\"delay factor\":1.0},\"nameSub\":\"Supporting Science #1\",\"id\":16,\"credits\":4,\"nameCanonical\":\"\"},{\"curriculum_requisites\":[],\"name\":\" \",\"metrics\":{\"centrality\":0,\"complexity\":1.0,\"blocking factor\":0,\"delay factor\":1.0},\"nameSub\":\"Tier 1 General Education 3\",\"id\":17,\"credits\":3,\"nameCanonical\":\"\"},{\"curriculum_requisites\":[],\"name\":\" \",\"metrics\":{\"centrality\":0,\"complexity\":1.0,\"blocking factor\":0,\"delay factor\":1.0},\"nameSub\":\"Tier 1 General Education 4\",\"id\":18,\"credits\":3,\"nameCanonical\":\"\"}],\"id\":4},{\"name\":\"Term 5\",\"curriculum_items\":[{\"curriculum_requisites\":[{\"source_id\":9,\"target_id\":19,\"type\":\"CurriculumPrerequisite\"}],\"name\":\"CSC 335\",\"metrics\":{\"centrality\":0,\"complexity\":5.0,\"blocking factor\":0,\"delay factor\":5.0},\"nameSub\":\"Object-Oriented Programming\",\"id\":19,\"credits\":3,\"nameCanonical\":\"\"},{\"curriculum_requisites\":[{\"source_id\":9,\"target_id\":20,\"type\":\"CurriculumPrerequisite\"},{\"source_id\":10,\"target_id\":20,\"type\":\"CurriculumPrerequisite\"}],\"name\":\"CSC 345\",\"metrics\":{\"centrality\":0,\"complexity\":5.0,\"blocking factor\":0,\"delay factor\":5.0},\"nameSub\":\"Analysis of Discrete Structures\",\"id\":20,\"credits\":3,\"nameCanonical\":\"\"},{\"curriculum_requisites\":[],\"name\":\" \",\"metrics\":{\"centrality\":0,\"complexity\":1.0,\"blocking factor\":0,\"delay factor\":1.0},\"nameSub\":\"Supporting Science #2\",\"id\":21,\"credits\":4,\"nameCanonical\":\"\"},{\"curriculum_requisites\":[],\"name\":\" \",\"metrics\":{\"centrality\":0,\"complexity\":1.0,\"blocking factor\":0,\"delay factor\":1.0},\"nameSub\":\"Tier 2 Gen Ed/Upper-Division 1\",\"id\":22,\"credits\":3,\"nameCanonical\":\"\"},{\"curriculum_requisites\":[],\"name\":\" \",\"metrics\":{\"centrality\":0,\"complexity\":1.0,\"blocking factor\":0,\"delay factor\":1.0},\"nameSub\":\"Upper-Division Elective\",\"id\":23,\"credits\":3,\"nameCanonical\":\"\"}],\"id\":5},{\"name\":\"Term 6\",\"curriculum_items\":[{\"curriculum_requisites\":[],\"name\":\"CSC \",\"metrics\":{\"centrality\":0,\"complexity\":1.0,\"blocking factor\":0,\"delay factor\":1.0},\"nameSub\":\"CSC Paradigms Elective\",\"id\":24,\"credits\":3,\"nameCanonical\":\"\"},{\"curriculum_requisites\":[],\"name\":\"CSC \",\"metrics\":{\"centrality\":0,\"complexity\":1.0,\"blocking factor\":0,\"delay factor\":1.0},\"nameSub\":\"CSC 400-Level Elective 1\",\"id\":25,\"credits\":3,\"nameCanonical\":\"\"},{\"curriculum_requisites\":[],\"name\":\" \",\"metrics\":{\"centrality\":0,\"complexity\":1.0,\"blocking factor\":0,\"delay factor\":1.0},\"nameSub\":\"Tier 2 Gen Ed/Upper-Division 2\",\"id\":26,\"credits\":3,\"nameCanonical\":\"\"},{\"curriculum_requisites\":[],\"name\":\" \",\"metrics\":{\"centrality\":0,\"complexity\":1.0,\"blocking factor\":0,\"delay factor\":1.0},\"nameSub\":\"Tier 2 Gen Ed/Upper-Division 3\",\"id\":27,\"credits\":3,\"nameCanonical\":\"\"},{\"curriculum_requisites\":[],\"name\":\" \",\"metrics\":{\"centrality\":0,\"complexity\":1.0,\"blocking factor\":0,\"delay factor\":1.0},\"nameSub\":\"Elective 1\",\"id\":28,\"credits\":3,\"nameCanonical\":\"\"}],\"id\":6},{\"name\":\"Term 7\",\"curriculum_items\":[{\"curriculum_requisites\":[],\"name\":\"CSC \",\"metrics\":{\"centrality\":0,\"complexity\":1.0,\"blocking factor\":0,\"delay factor\":1.0},\"nameSub\":\"CSC Theory & Writing Elective\",\"id\":29,\"credits\":3,\"nameCanonical\":\"\"},{\"curriculum_requisites\":[],\"name\":\"CSC \",\"metrics\":{\"centrality\":0,\"complexity\":1.0,\"blocking factor\":0,\"delay factor\":1.0},\"nameSub\":\"CSC 400-Level Elective 2\",\"id\":30,\"credits\":3,\"nameCanonical\":\"\"},{\"curriculum_requisites\":[],\"name\":\" \",\"metrics\":{\"centrality\":0,\"complexity\":1.0,\"blocking factor\":0,\"delay factor\":1.0},\"nameSub\":\"Elective 2\",\"id\":31,\"credits\":3,\"nameCanonical\":\"\"},{\"curriculum_requisites\":[],\"name\":\" \",\"metrics\":{\"centrality\":0,\"complexity\":1.0,\"blocking factor\":0,\"delay factor\":1.0},\"nameSub\":\"Elective 3\",\"id\":32,\"credits\":3,\"nameCanonical\":\"\"},{\"curriculum_requisites\":[],\"name\":\" \",\"metrics\":{\"centrality\":0,\"complexity\":1.0,\"blocking factor\":0,\"delay factor\":1.0},\"nameSub\":\"Elective 4\",\"id\":33,\"credits\":3,\"nameCanonical\":\"\"}],\"id\":7},{\"name\":\"Term 8\",\"curriculum_items\":[{\"curriculum_requisites\":[],\"name\":\"CSC \",\"metrics\":{\"centrality\":0,\"complexity\":1.0,\"blocking factor\":0,\"delay factor\":1.0},\"nameSub\":\"CSC Systems Elective\",\"id\":34,\"credits\":3,\"nameCanonical\":\"\"},{\"curriculum_requisites\":[],\"name\":\"CSC \",\"metrics\":{\"centrality\":0,\"complexity\":1.0,\"blocking factor\":0,\"delay factor\":1.0},\"nameSub\":\"CSC 300/400-Level Elective\",\"id\":35,\"credits\":3,\"nameCanonical\":\"\"},{\"curriculum_requisites\":[],\"name\":\" \",\"metrics\":{\"centrality\":0,\"complexity\":1.0,\"blocking factor\":0,\"delay factor\":1.0},\"nameSub\":\"Upper-Division Elective 1\",\"id\":36,\"credits\":3,\"nameCanonical\":\"\"},{\"curriculum_requisites\":[],\"name\":\" \",\"metrics\":{\"centrality\":0,\"complexity\":1.0,\"blocking factor\":0,\"delay factor\":1.0},\"nameSub\":\"Upper-Division Elective 2\",\"id\":37,\"credits\":3,\"nameCanonical\":\"\"}],\"id\":8}],\"institution\":\"University of Arizona\"}},\"*\"); window.removeEventListener(\"message\",window.messageReceived); window.messageReceived=(function (event){return (event.data.curriculum!==undefined) ? (WebIO.setval({\"name\":\"curriculum-data\",\"scope\":\"7161151264162889767\",\"id\":\"6423661673623688035\",\"type\":\"observable\"},event.data.curriculum)) : undefined}); return window.addEventListener(\"message\",window.messageReceived)})"
          },
          "id": "curriculum",
          "src": "http://localhost:8156",
          "style": {
           "border": "none",
           "height": "80vh",
           "margin": "0",
           "padding": "0",
           "width": "100%"
          }
         },
         "type": "node"
        }
       ],
       "instanceArgs": {
        "handlers": {},
        "id": "7161151264162889767",
        "imports": {
         "data": [],
         "type": "async_block"
        },
        "mount_callbacks": [],
        "observables": {
         "curriculum-data": {
          "id": "6423661673623688035",
          "sync": true,
          "value": {
           "curriculum": {
            "curriculum_terms": [
             {
              "curriculum_items": [
               {
                "credits": 4,
                "curriculum_requisites": [
                 {
                  "source_id": 2,
                  "target_id": 1,
                  "type": "CurriculumCorequisite"
                 }
                ],
                "id": 1,
                "metrics": {
                 "blocking factor": 7,
                 "centrality": 25,
                 "complexity": 12,
                 "delay factor": 5
                },
                "name": "CSC 110",
                "nameCanonical": "",
                "nameSub": "Intro to Computer Programming I"
               },
               {
                "credits": 4,
                "curriculum_requisites": [],
                "id": 2,
                "metrics": {
                 "blocking factor": 10,
                 "centrality": 0,
                 "complexity": 15,
                 "delay factor": 5
                },
                "name": "MATH 120R",
                "nameCanonical": "",
                "nameSub": "Pre-Calculus"
               },
               {
                "credits": 3,
                "curriculum_requisites": [],
                "id": 3,
                "metrics": {
                 "blocking factor": 1,
                 "centrality": 0,
                 "complexity": 3,
                 "delay factor": 2
                },
                "name": "ENGL 101",
                "nameCanonical": "",
                "nameSub": "English Composition I"
               },
               {
                "credits": 4,
                "curriculum_requisites": [],
                "id": 4,
                "metrics": {
                 "blocking factor": 1,
                 "centrality": 0,
                 "complexity": 3,
                 "delay factor": 2
                },
                "name": " ",
                "nameCanonical": "",
                "nameSub": "1st Semester Second Language"
               }
              ],
              "id": 1,
              "name": "Term 1"
             },
             {
              "curriculum_items": [
               {
                "credits": 4,
                "curriculum_requisites": [
                 {
                  "source_id": 1,
                  "target_id": 5,
                  "type": "CurriculumPrerequisite"
                 }
                ],
                "id": 5,
                "metrics": {
                 "blocking factor": 6,
                 "centrality": 25,
                 "complexity": 11,
                 "delay factor": 5
                },
                "name": "CSC 120",
                "nameCanonical": "",
                "nameSub": "Intro to Computer Programming II"
               },
               {
                "credits": 5,
                "curriculum_requisites": [
                 {
                  "source_id": 2,
                  "target_id": 6,
                  "type": "CurriculumPrerequisite"
                 }
                ],
                "id": 6,
                "metrics": {
                 "blocking factor": 1,
                 "centrality": 3,
                 "complexity": 4,
                 "delay factor": 3
                },
                "name": "MATH 122A/B",
                "nameCanonical": "",
                "nameSub": "Calculus I"
               },
               {
                "credits": 4,
                "curriculum_requisites": [
                 {
                  "source_id": 3,
                  "target_id": 7,
                  "type": "CurriculumPrerequisite"
                 }
                ],
                "id": 7,
                "metrics": {
                 "blocking factor": 0,
                 "centrality": 0,
                 "complexity": 2,
                 "delay factor": 2
                },
                "name": "ENGL 102",
                "nameCanonical": "",
                "nameSub": "English Composition II"
               },
               {
                "credits": 4,
                "curriculum_requisites": [
                 {
                  "source_id": 4,
                  "target_id": 8,
                  "type": "CurriculumPrerequisite"
                 }
                ],
                "id": 8,
                "metrics": {
                 "blocking factor": 0,
                 "centrality": 0,
                 "complexity": 2,
                 "delay factor": 2
                },
                "name": " ",
                "nameCanonical": "",
                "nameSub": "2nd Semester Second Language"
               }
              ],
              "id": 2,
              "name": "Term 2"
             },
             {
              "curriculum_items": [
               {
                "credits": 4,
                "curriculum_requisites": [
                 {
                  "source_id": 5,
                  "target_id": 9,
                  "type": "CurriculumPrerequisite"
                 }
                ],
                "id": 9,
                "metrics": {
                 "blocking factor": 4,
                 "centrality": 20,
                 "complexity": 9,
                 "delay factor": 5
                },
                "name": "CSC 210",
                "nameCanonical": "",
                "nameSub": "Software Development"
               },
               {
                "credits": 3,
                "curriculum_requisites": [
                 {
                  "source_id": 5,
                  "target_id": 10,
                  "type": "CurriculumPrerequisite"
                 }
                ],
                "id": 10,
                "metrics": {
                 "blocking factor": 1,
                 "centrality": 5,
                 "complexity": 6,
                 "delay factor": 5
                },
                "name": "CSC 245",
                "nameCanonical": "",
                "nameSub": "Intro to Discrete Structures"
               },
               {
                "credits": 3,
                "curriculum_requisites": [
                 {
                  "source_id": 6,
                  "target_id": 11,
                  "type": "CurriculumPrerequisite"
                 }
                ],
                "id": 11,
                "metrics": {
                 "blocking factor": 0,
                 "centrality": 0,
                 "complexity": 3,
                 "delay factor": 3
                },
                "name": "MATH 129",
                "nameCanonical": "",
                "nameSub": "Calculus II"
               },
               {
                "credits": 3,
                "curriculum_requisites": [],
                "id": 12,
                "metrics": {
                 "blocking factor": 0,
                 "centrality": 0,
                 "complexity": 1,
                 "delay factor": 1
                },
                "name": " ",
                "nameCanonical": "",
                "nameSub": "Tier 1 General Education 1"
               },
               {
                "credits": 3,
                "curriculum_requisites": [],
                "id": 13,
                "metrics": {
                 "blocking factor": 0,
                 "centrality": 0,
                 "complexity": 1,
                 "delay factor": 1
                },
                "name": " ",
                "nameCanonical": "",
                "nameSub": "Tier 1 General Education 2"
               }
              ],
              "id": 3,
              "name": "Term 3"
             },
             {
              "curriculum_items": [
               {
                "credits": 3,
                "curriculum_requisites": [
                 {
                  "source_id": 9,
                  "target_id": 14,
                  "type": "CurriculumPrerequisite"
                 }
                ],
                "id": 14,
                "metrics": {
                 "blocking factor": 0,
                 "centrality": 0,
                 "complexity": 5,
                 "delay factor": 5
                },
                "name": "CSC 252",
                "nameCanonical": "",
                "nameSub": "Computer Organization"
               },
               {
                "credits": 3,
                "curriculum_requisites": [
                 {
                  "source_id": 9,
                  "target_id": 15,
                  "type": "CurriculumPrerequisite"
                 }
                ],
                "id": 15,
                "metrics": {
                 "blocking factor": 0,
                 "centrality": 0,
                 "complexity": 5,
                 "delay factor": 5
                },
                "name": "CSC 352",
                "nameCanonical": "",
                "nameSub": "Systems Programming & Unix"
               },
               {
                "credits": 4,
                "curriculum_requisites": [],
                "id": 16,
                "metrics": {
                 "blocking factor": 0,
                 "centrality": 0,
                 "complexity": 1,
                 "delay factor": 1
                },
                "name": " ",
                "nameCanonical": "",
                "nameSub": "Supporting Science #1"
               },
               {
                "credits": 3,
                "curriculum_requisites": [],
                "id": 17,
                "metrics": {
                 "blocking factor": 0,
                 "centrality": 0,
                 "complexity": 1,
                 "delay factor": 1
                },
                "name": " ",
                "nameCanonical": "",
                "nameSub": "Tier 1 General Education 3"
               },
               {
                "credits": 3,
                "curriculum_requisites": [],
                "id": 18,
                "metrics": {
                 "blocking factor": 0,
                 "centrality": 0,
                 "complexity": 1,
                 "delay factor": 1
                },
                "name": " ",
                "nameCanonical": "",
                "nameSub": "Tier 1 General Education 4"
               }
              ],
              "id": 4,
              "name": "Term 4"
             },
             {
              "curriculum_items": [
               {
                "credits": 3,
                "curriculum_requisites": [
                 {
                  "source_id": 9,
                  "target_id": 19,
                  "type": "CurriculumPrerequisite"
                 }
                ],
                "id": 19,
                "metrics": {
                 "blocking factor": 0,
                 "centrality": 0,
                 "complexity": 5,
                 "delay factor": 5
                },
                "name": "CSC 335",
                "nameCanonical": "",
                "nameSub": "Object-Oriented Programming"
               },
               {
                "credits": 3,
                "curriculum_requisites": [
                 {
                  "source_id": 9,
                  "target_id": 20,
                  "type": "CurriculumPrerequisite"
                 },
                 {
                  "source_id": 10,
                  "target_id": 20,
                  "type": "CurriculumPrerequisite"
                 }
                ],
                "id": 20,
                "metrics": {
                 "blocking factor": 0,
                 "centrality": 0,
                 "complexity": 5,
                 "delay factor": 5
                },
                "name": "CSC 345",
                "nameCanonical": "",
                "nameSub": "Analysis of Discrete Structures"
               },
               {
                "credits": 4,
                "curriculum_requisites": [],
                "id": 21,
                "metrics": {
                 "blocking factor": 0,
                 "centrality": 0,
                 "complexity": 1,
                 "delay factor": 1
                },
                "name": " ",
                "nameCanonical": "",
                "nameSub": "Supporting Science #2"
               },
               {
                "credits": 3,
                "curriculum_requisites": [],
                "id": 22,
                "metrics": {
                 "blocking factor": 0,
                 "centrality": 0,
                 "complexity": 1,
                 "delay factor": 1
                },
                "name": " ",
                "nameCanonical": "",
                "nameSub": "Tier 2 Gen Ed/Upper-Division 1"
               },
               {
                "credits": 3,
                "curriculum_requisites": [],
                "id": 23,
                "metrics": {
                 "blocking factor": 0,
                 "centrality": 0,
                 "complexity": 1,
                 "delay factor": 1
                },
                "name": " ",
                "nameCanonical": "",
                "nameSub": "Upper-Division Elective"
               }
              ],
              "id": 5,
              "name": "Term 5"
             },
             {
              "curriculum_items": [
               {
                "credits": 3,
                "curriculum_requisites": [],
                "id": 24,
                "metrics": {
                 "blocking factor": 0,
                 "centrality": 0,
                 "complexity": 1,
                 "delay factor": 1
                },
                "name": "CSC ",
                "nameCanonical": "",
                "nameSub": "CSC Paradigms Elective"
               },
               {
                "credits": 3,
                "curriculum_requisites": [],
                "id": 25,
                "metrics": {
                 "blocking factor": 0,
                 "centrality": 0,
                 "complexity": 1,
                 "delay factor": 1
                },
                "name": "CSC ",
                "nameCanonical": "",
                "nameSub": "CSC 400-Level Elective 1"
               },
               {
                "credits": 3,
                "curriculum_requisites": [],
                "id": 26,
                "metrics": {
                 "blocking factor": 0,
                 "centrality": 0,
                 "complexity": 1,
                 "delay factor": 1
                },
                "name": " ",
                "nameCanonical": "",
                "nameSub": "Tier 2 Gen Ed/Upper-Division 2"
               },
               {
                "credits": 3,
                "curriculum_requisites": [],
                "id": 27,
                "metrics": {
                 "blocking factor": 0,
                 "centrality": 0,
                 "complexity": 1,
                 "delay factor": 1
                },
                "name": " ",
                "nameCanonical": "",
                "nameSub": "Tier 2 Gen Ed/Upper-Division 3"
               },
               {
                "credits": 3,
                "curriculum_requisites": [],
                "id": 28,
                "metrics": {
                 "blocking factor": 0,
                 "centrality": 0,
                 "complexity": 1,
                 "delay factor": 1
                },
                "name": " ",
                "nameCanonical": "",
                "nameSub": "Elective 1"
               }
              ],
              "id": 6,
              "name": "Term 6"
             },
             {
              "curriculum_items": [
               {
                "credits": 3,
                "curriculum_requisites": [],
                "id": 29,
                "metrics": {
                 "blocking factor": 0,
                 "centrality": 0,
                 "complexity": 1,
                 "delay factor": 1
                },
                "name": "CSC ",
                "nameCanonical": "",
                "nameSub": "CSC Theory & Writing Elective"
               },
               {
                "credits": 3,
                "curriculum_requisites": [],
                "id": 30,
                "metrics": {
                 "blocking factor": 0,
                 "centrality": 0,
                 "complexity": 1,
                 "delay factor": 1
                },
                "name": "CSC ",
                "nameCanonical": "",
                "nameSub": "CSC 400-Level Elective 2"
               },
               {
                "credits": 3,
                "curriculum_requisites": [],
                "id": 31,
                "metrics": {
                 "blocking factor": 0,
                 "centrality": 0,
                 "complexity": 1,
                 "delay factor": 1
                },
                "name": " ",
                "nameCanonical": "",
                "nameSub": "Elective 2"
               },
               {
                "credits": 3,
                "curriculum_requisites": [],
                "id": 32,
                "metrics": {
                 "blocking factor": 0,
                 "centrality": 0,
                 "complexity": 1,
                 "delay factor": 1
                },
                "name": " ",
                "nameCanonical": "",
                "nameSub": "Elective 3"
               },
               {
                "credits": 3,
                "curriculum_requisites": [],
                "id": 33,
                "metrics": {
                 "blocking factor": 0,
                 "centrality": 0,
                 "complexity": 1,
                 "delay factor": 1
                },
                "name": " ",
                "nameCanonical": "",
                "nameSub": "Elective 4"
               }
              ],
              "id": 7,
              "name": "Term 7"
             },
             {
              "curriculum_items": [
               {
                "credits": 3,
                "curriculum_requisites": [],
                "id": 34,
                "metrics": {
                 "blocking factor": 0,
                 "centrality": 0,
                 "complexity": 1,
                 "delay factor": 1
                },
                "name": "CSC ",
                "nameCanonical": "",
                "nameSub": "CSC Systems Elective"
               },
               {
                "credits": 3,
                "curriculum_requisites": [],
                "id": 35,
                "metrics": {
                 "blocking factor": 0,
                 "centrality": 0,
                 "complexity": 1,
                 "delay factor": 1
                },
                "name": "CSC ",
                "nameCanonical": "",
                "nameSub": "CSC 300/400-Level Elective"
               },
               {
                "credits": 3,
                "curriculum_requisites": [],
                "id": 36,
                "metrics": {
                 "blocking factor": 0,
                 "centrality": 0,
                 "complexity": 1,
                 "delay factor": 1
                },
                "name": " ",
                "nameCanonical": "",
                "nameSub": "Upper-Division Elective 1"
               },
               {
                "credits": 3,
                "curriculum_requisites": [],
                "id": 37,
                "metrics": {
                 "blocking factor": 0,
                 "centrality": 0,
                 "complexity": 1,
                 "delay factor": 1
                },
                "name": " ",
                "nameCanonical": "",
                "nameSub": "Upper-Division Elective 2"
               }
              ],
              "id": 8,
              "name": "Term 8"
             }
            ],
            "dp_name": "2019-20 Degree Plan",
            "institution": "University of Arizona",
            "name": "Computer Science"
           },
           "options": {
            "edit": false,
            "hideTerms": false
           }
          }
         }
        },
        "systemjs_options": null
       },
       "nodeType": "Scope",
       "props": {},
       "type": "node"
      },
      "text/html": [
       "<div\n",
       "    class=\"webio-mountpoint\"\n",
       "    data-webio-mountpoint=\"2315737698689070579\"\n",
       ">\n",
       "    <script>\n",
       "    if (window.require && require.defined && require.defined(\"nbextensions/webio-jupyter-notebook\")) {\n",
       "        console.log(\"Jupyter WebIO extension detected, not mounting.\");\n",
       "    } else if (window.WebIO) {\n",
       "        WebIO.mount(\n",
       "            document.querySelector('[data-webio-mountpoint=\"2315737698689070579\"]'),\n",
       "            {\"props\":{},\"nodeType\":\"Scope\",\"type\":\"node\",\"instanceArgs\":{\"imports\":{\"data\":[],\"type\":\"async_block\"},\"id\":\"7161151264162889767\",\"handlers\":{},\"systemjs_options\":null,\"mount_callbacks\":[],\"observables\":{\"curriculum-data\":{\"sync\":true,\"id\":\"6423661673623688035\",\"value\":{\"options\":{\"hideTerms\":false,\"edit\":false},\"curriculum\":{\"name\":\"Computer Science\",\"dp_name\":\"2019-20 Degree Plan\",\"curriculum_terms\":[{\"name\":\"Term 1\",\"curriculum_items\":[{\"curriculum_requisites\":[{\"source_id\":2,\"target_id\":1,\"type\":\"CurriculumCorequisite\"}],\"name\":\"CSC 110\",\"metrics\":{\"centrality\":25,\"complexity\":12.0,\"blocking factor\":7,\"delay factor\":5.0},\"nameSub\":\"Intro to Computer Programming I\",\"id\":1,\"credits\":4,\"nameCanonical\":\"\"},{\"curriculum_requisites\":[],\"name\":\"MATH 120R\",\"metrics\":{\"centrality\":0,\"complexity\":15.0,\"blocking factor\":10,\"delay factor\":5.0},\"nameSub\":\"Pre-Calculus\",\"id\":2,\"credits\":4,\"nameCanonical\":\"\"},{\"curriculum_requisites\":[],\"name\":\"ENGL 101\",\"metrics\":{\"centrality\":0,\"complexity\":3.0,\"blocking factor\":1,\"delay factor\":2.0},\"nameSub\":\"English Composition I\",\"id\":3,\"credits\":3,\"nameCanonical\":\"\"},{\"curriculum_requisites\":[],\"name\":\" \",\"metrics\":{\"centrality\":0,\"complexity\":3.0,\"blocking factor\":1,\"delay factor\":2.0},\"nameSub\":\"1st Semester Second Language\",\"id\":4,\"credits\":4,\"nameCanonical\":\"\"}],\"id\":1},{\"name\":\"Term 2\",\"curriculum_items\":[{\"curriculum_requisites\":[{\"source_id\":1,\"target_id\":5,\"type\":\"CurriculumPrerequisite\"}],\"name\":\"CSC 120\",\"metrics\":{\"centrality\":25,\"complexity\":11.0,\"blocking factor\":6,\"delay factor\":5.0},\"nameSub\":\"Intro to Computer Programming II\",\"id\":5,\"credits\":4,\"nameCanonical\":\"\"},{\"curriculum_requisites\":[{\"source_id\":2,\"target_id\":6,\"type\":\"CurriculumPrerequisite\"}],\"name\":\"MATH 122A\\/B\",\"metrics\":{\"centrality\":3,\"complexity\":4.0,\"blocking factor\":1,\"delay factor\":3.0},\"nameSub\":\"Calculus I\",\"id\":6,\"credits\":5,\"nameCanonical\":\"\"},{\"curriculum_requisites\":[{\"source_id\":3,\"target_id\":7,\"type\":\"CurriculumPrerequisite\"}],\"name\":\"ENGL 102\",\"metrics\":{\"centrality\":0,\"complexity\":2.0,\"blocking factor\":0,\"delay factor\":2.0},\"nameSub\":\"English Composition II\",\"id\":7,\"credits\":4,\"nameCanonical\":\"\"},{\"curriculum_requisites\":[{\"source_id\":4,\"target_id\":8,\"type\":\"CurriculumPrerequisite\"}],\"name\":\" \",\"metrics\":{\"centrality\":0,\"complexity\":2.0,\"blocking factor\":0,\"delay factor\":2.0},\"nameSub\":\"2nd Semester Second Language\",\"id\":8,\"credits\":4,\"nameCanonical\":\"\"}],\"id\":2},{\"name\":\"Term 3\",\"curriculum_items\":[{\"curriculum_requisites\":[{\"source_id\":5,\"target_id\":9,\"type\":\"CurriculumPrerequisite\"}],\"name\":\"CSC 210\",\"metrics\":{\"centrality\":20,\"complexity\":9.0,\"blocking factor\":4,\"delay factor\":5.0},\"nameSub\":\"Software Development\",\"id\":9,\"credits\":4,\"nameCanonical\":\"\"},{\"curriculum_requisites\":[{\"source_id\":5,\"target_id\":10,\"type\":\"CurriculumPrerequisite\"}],\"name\":\"CSC 245\",\"metrics\":{\"centrality\":5,\"complexity\":6.0,\"blocking factor\":1,\"delay factor\":5.0},\"nameSub\":\"Intro to Discrete Structures\",\"id\":10,\"credits\":3,\"nameCanonical\":\"\"},{\"curriculum_requisites\":[{\"source_id\":6,\"target_id\":11,\"type\":\"CurriculumPrerequisite\"}],\"name\":\"MATH 129\",\"metrics\":{\"centrality\":0,\"complexity\":3.0,\"blocking factor\":0,\"delay factor\":3.0},\"nameSub\":\"Calculus II\",\"id\":11,\"credits\":3,\"nameCanonical\":\"\"},{\"curriculum_requisites\":[],\"name\":\" \",\"metrics\":{\"centrality\":0,\"complexity\":1.0,\"blocking factor\":0,\"delay factor\":1.0},\"nameSub\":\"Tier 1 General Education 1\",\"id\":12,\"credits\":3,\"nameCanonical\":\"\"},{\"curriculum_requisites\":[],\"name\":\" \",\"metrics\":{\"centrality\":0,\"complexity\":1.0,\"blocking factor\":0,\"delay factor\":1.0},\"nameSub\":\"Tier 1 General Education 2\",\"id\":13,\"credits\":3,\"nameCanonical\":\"\"}],\"id\":3},{\"name\":\"Term 4\",\"curriculum_items\":[{\"curriculum_requisites\":[{\"source_id\":9,\"target_id\":14,\"type\":\"CurriculumPrerequisite\"}],\"name\":\"CSC 252\",\"metrics\":{\"centrality\":0,\"complexity\":5.0,\"blocking factor\":0,\"delay factor\":5.0},\"nameSub\":\"Computer Organization\",\"id\":14,\"credits\":3,\"nameCanonical\":\"\"},{\"curriculum_requisites\":[{\"source_id\":9,\"target_id\":15,\"type\":\"CurriculumPrerequisite\"}],\"name\":\"CSC 352\",\"metrics\":{\"centrality\":0,\"complexity\":5.0,\"blocking factor\":0,\"delay factor\":5.0},\"nameSub\":\"Systems Programming & Unix\",\"id\":15,\"credits\":3,\"nameCanonical\":\"\"},{\"curriculum_requisites\":[],\"name\":\" \",\"metrics\":{\"centrality\":0,\"complexity\":1.0,\"blocking factor\":0,\"delay factor\":1.0},\"nameSub\":\"Supporting Science #1\",\"id\":16,\"credits\":4,\"nameCanonical\":\"\"},{\"curriculum_requisites\":[],\"name\":\" \",\"metrics\":{\"centrality\":0,\"complexity\":1.0,\"blocking factor\":0,\"delay factor\":1.0},\"nameSub\":\"Tier 1 General Education 3\",\"id\":17,\"credits\":3,\"nameCanonical\":\"\"},{\"curriculum_requisites\":[],\"name\":\" \",\"metrics\":{\"centrality\":0,\"complexity\":1.0,\"blocking factor\":0,\"delay factor\":1.0},\"nameSub\":\"Tier 1 General Education 4\",\"id\":18,\"credits\":3,\"nameCanonical\":\"\"}],\"id\":4},{\"name\":\"Term 5\",\"curriculum_items\":[{\"curriculum_requisites\":[{\"source_id\":9,\"target_id\":19,\"type\":\"CurriculumPrerequisite\"}],\"name\":\"CSC 335\",\"metrics\":{\"centrality\":0,\"complexity\":5.0,\"blocking factor\":0,\"delay factor\":5.0},\"nameSub\":\"Object-Oriented Programming\",\"id\":19,\"credits\":3,\"nameCanonical\":\"\"},{\"curriculum_requisites\":[{\"source_id\":9,\"target_id\":20,\"type\":\"CurriculumPrerequisite\"},{\"source_id\":10,\"target_id\":20,\"type\":\"CurriculumPrerequisite\"}],\"name\":\"CSC 345\",\"metrics\":{\"centrality\":0,\"complexity\":5.0,\"blocking factor\":0,\"delay factor\":5.0},\"nameSub\":\"Analysis of Discrete Structures\",\"id\":20,\"credits\":3,\"nameCanonical\":\"\"},{\"curriculum_requisites\":[],\"name\":\" \",\"metrics\":{\"centrality\":0,\"complexity\":1.0,\"blocking factor\":0,\"delay factor\":1.0},\"nameSub\":\"Supporting Science #2\",\"id\":21,\"credits\":4,\"nameCanonical\":\"\"},{\"curriculum_requisites\":[],\"name\":\" \",\"metrics\":{\"centrality\":0,\"complexity\":1.0,\"blocking factor\":0,\"delay factor\":1.0},\"nameSub\":\"Tier 2 Gen Ed\\/Upper-Division 1\",\"id\":22,\"credits\":3,\"nameCanonical\":\"\"},{\"curriculum_requisites\":[],\"name\":\" \",\"metrics\":{\"centrality\":0,\"complexity\":1.0,\"blocking factor\":0,\"delay factor\":1.0},\"nameSub\":\"Upper-Division Elective\",\"id\":23,\"credits\":3,\"nameCanonical\":\"\"}],\"id\":5},{\"name\":\"Term 6\",\"curriculum_items\":[{\"curriculum_requisites\":[],\"name\":\"CSC \",\"metrics\":{\"centrality\":0,\"complexity\":1.0,\"blocking factor\":0,\"delay factor\":1.0},\"nameSub\":\"CSC Paradigms Elective\",\"id\":24,\"credits\":3,\"nameCanonical\":\"\"},{\"curriculum_requisites\":[],\"name\":\"CSC \",\"metrics\":{\"centrality\":0,\"complexity\":1.0,\"blocking factor\":0,\"delay factor\":1.0},\"nameSub\":\"CSC 400-Level Elective 1\",\"id\":25,\"credits\":3,\"nameCanonical\":\"\"},{\"curriculum_requisites\":[],\"name\":\" \",\"metrics\":{\"centrality\":0,\"complexity\":1.0,\"blocking factor\":0,\"delay factor\":1.0},\"nameSub\":\"Tier 2 Gen Ed\\/Upper-Division 2\",\"id\":26,\"credits\":3,\"nameCanonical\":\"\"},{\"curriculum_requisites\":[],\"name\":\" \",\"metrics\":{\"centrality\":0,\"complexity\":1.0,\"blocking factor\":0,\"delay factor\":1.0},\"nameSub\":\"Tier 2 Gen Ed\\/Upper-Division 3\",\"id\":27,\"credits\":3,\"nameCanonical\":\"\"},{\"curriculum_requisites\":[],\"name\":\" \",\"metrics\":{\"centrality\":0,\"complexity\":1.0,\"blocking factor\":0,\"delay factor\":1.0},\"nameSub\":\"Elective 1\",\"id\":28,\"credits\":3,\"nameCanonical\":\"\"}],\"id\":6},{\"name\":\"Term 7\",\"curriculum_items\":[{\"curriculum_requisites\":[],\"name\":\"CSC \",\"metrics\":{\"centrality\":0,\"complexity\":1.0,\"blocking factor\":0,\"delay factor\":1.0},\"nameSub\":\"CSC Theory & Writing Elective\",\"id\":29,\"credits\":3,\"nameCanonical\":\"\"},{\"curriculum_requisites\":[],\"name\":\"CSC \",\"metrics\":{\"centrality\":0,\"complexity\":1.0,\"blocking factor\":0,\"delay factor\":1.0},\"nameSub\":\"CSC 400-Level Elective 2\",\"id\":30,\"credits\":3,\"nameCanonical\":\"\"},{\"curriculum_requisites\":[],\"name\":\" \",\"metrics\":{\"centrality\":0,\"complexity\":1.0,\"blocking factor\":0,\"delay factor\":1.0},\"nameSub\":\"Elective 2\",\"id\":31,\"credits\":3,\"nameCanonical\":\"\"},{\"curriculum_requisites\":[],\"name\":\" \",\"metrics\":{\"centrality\":0,\"complexity\":1.0,\"blocking factor\":0,\"delay factor\":1.0},\"nameSub\":\"Elective 3\",\"id\":32,\"credits\":3,\"nameCanonical\":\"\"},{\"curriculum_requisites\":[],\"name\":\" \",\"metrics\":{\"centrality\":0,\"complexity\":1.0,\"blocking factor\":0,\"delay factor\":1.0},\"nameSub\":\"Elective 4\",\"id\":33,\"credits\":3,\"nameCanonical\":\"\"}],\"id\":7},{\"name\":\"Term 8\",\"curriculum_items\":[{\"curriculum_requisites\":[],\"name\":\"CSC \",\"metrics\":{\"centrality\":0,\"complexity\":1.0,\"blocking factor\":0,\"delay factor\":1.0},\"nameSub\":\"CSC Systems Elective\",\"id\":34,\"credits\":3,\"nameCanonical\":\"\"},{\"curriculum_requisites\":[],\"name\":\"CSC \",\"metrics\":{\"centrality\":0,\"complexity\":1.0,\"blocking factor\":0,\"delay factor\":1.0},\"nameSub\":\"CSC 300\\/400-Level Elective\",\"id\":35,\"credits\":3,\"nameCanonical\":\"\"},{\"curriculum_requisites\":[],\"name\":\" \",\"metrics\":{\"centrality\":0,\"complexity\":1.0,\"blocking factor\":0,\"delay factor\":1.0},\"nameSub\":\"Upper-Division Elective 1\",\"id\":36,\"credits\":3,\"nameCanonical\":\"\"},{\"curriculum_requisites\":[],\"name\":\" \",\"metrics\":{\"centrality\":0,\"complexity\":1.0,\"blocking factor\":0,\"delay factor\":1.0},\"nameSub\":\"Upper-Division Elective 2\",\"id\":37,\"credits\":3,\"nameCanonical\":\"\"}],\"id\":8}],\"institution\":\"University of Arizona\"}}}}},\"children\":[{\"props\":{\"src\":\"http:\\/\\/localhost:8156\",\"id\":\"curriculum\",\"events\":{\"load\":\"(function (){this.contentWindow.postMessage({\\\"options\\\":{\\\"hideTerms\\\":false,\\\"edit\\\":false},\\\"curriculum\\\":{\\\"name\\\":\\\"Computer Science\\\",\\\"dp_name\\\":\\\"2019-20 Degree Plan\\\",\\\"curriculum_terms\\\":[{\\\"name\\\":\\\"Term 1\\\",\\\"curriculum_items\\\":[{\\\"curriculum_requisites\\\":[{\\\"source_id\\\":2,\\\"target_id\\\":1,\\\"type\\\":\\\"CurriculumCorequisite\\\"}],\\\"name\\\":\\\"CSC 110\\\",\\\"metrics\\\":{\\\"centrality\\\":25,\\\"complexity\\\":12.0,\\\"blocking factor\\\":7,\\\"delay factor\\\":5.0},\\\"nameSub\\\":\\\"Intro to Computer Programming I\\\",\\\"id\\\":1,\\\"credits\\\":4,\\\"nameCanonical\\\":\\\"\\\"},{\\\"curriculum_requisites\\\":[],\\\"name\\\":\\\"MATH 120R\\\",\\\"metrics\\\":{\\\"centrality\\\":0,\\\"complexity\\\":15.0,\\\"blocking factor\\\":10,\\\"delay factor\\\":5.0},\\\"nameSub\\\":\\\"Pre-Calculus\\\",\\\"id\\\":2,\\\"credits\\\":4,\\\"nameCanonical\\\":\\\"\\\"},{\\\"curriculum_requisites\\\":[],\\\"name\\\":\\\"ENGL 101\\\",\\\"metrics\\\":{\\\"centrality\\\":0,\\\"complexity\\\":3.0,\\\"blocking factor\\\":1,\\\"delay factor\\\":2.0},\\\"nameSub\\\":\\\"English Composition I\\\",\\\"id\\\":3,\\\"credits\\\":3,\\\"nameCanonical\\\":\\\"\\\"},{\\\"curriculum_requisites\\\":[],\\\"name\\\":\\\" \\\",\\\"metrics\\\":{\\\"centrality\\\":0,\\\"complexity\\\":3.0,\\\"blocking factor\\\":1,\\\"delay factor\\\":2.0},\\\"nameSub\\\":\\\"1st Semester Second Language\\\",\\\"id\\\":4,\\\"credits\\\":4,\\\"nameCanonical\\\":\\\"\\\"}],\\\"id\\\":1},{\\\"name\\\":\\\"Term 2\\\",\\\"curriculum_items\\\":[{\\\"curriculum_requisites\\\":[{\\\"source_id\\\":1,\\\"target_id\\\":5,\\\"type\\\":\\\"CurriculumPrerequisite\\\"}],\\\"name\\\":\\\"CSC 120\\\",\\\"metrics\\\":{\\\"centrality\\\":25,\\\"complexity\\\":11.0,\\\"blocking factor\\\":6,\\\"delay factor\\\":5.0},\\\"nameSub\\\":\\\"Intro to Computer Programming II\\\",\\\"id\\\":5,\\\"credits\\\":4,\\\"nameCanonical\\\":\\\"\\\"},{\\\"curriculum_requisites\\\":[{\\\"source_id\\\":2,\\\"target_id\\\":6,\\\"type\\\":\\\"CurriculumPrerequisite\\\"}],\\\"name\\\":\\\"MATH 122A\\/B\\\",\\\"metrics\\\":{\\\"centrality\\\":3,\\\"complexity\\\":4.0,\\\"blocking factor\\\":1,\\\"delay factor\\\":3.0},\\\"nameSub\\\":\\\"Calculus I\\\",\\\"id\\\":6,\\\"credits\\\":5,\\\"nameCanonical\\\":\\\"\\\"},{\\\"curriculum_requisites\\\":[{\\\"source_id\\\":3,\\\"target_id\\\":7,\\\"type\\\":\\\"CurriculumPrerequisite\\\"}],\\\"name\\\":\\\"ENGL 102\\\",\\\"metrics\\\":{\\\"centrality\\\":0,\\\"complexity\\\":2.0,\\\"blocking factor\\\":0,\\\"delay factor\\\":2.0},\\\"nameSub\\\":\\\"English Composition II\\\",\\\"id\\\":7,\\\"credits\\\":4,\\\"nameCanonical\\\":\\\"\\\"},{\\\"curriculum_requisites\\\":[{\\\"source_id\\\":4,\\\"target_id\\\":8,\\\"type\\\":\\\"CurriculumPrerequisite\\\"}],\\\"name\\\":\\\" \\\",\\\"metrics\\\":{\\\"centrality\\\":0,\\\"complexity\\\":2.0,\\\"blocking factor\\\":0,\\\"delay factor\\\":2.0},\\\"nameSub\\\":\\\"2nd Semester Second Language\\\",\\\"id\\\":8,\\\"credits\\\":4,\\\"nameCanonical\\\":\\\"\\\"}],\\\"id\\\":2},{\\\"name\\\":\\\"Term 3\\\",\\\"curriculum_items\\\":[{\\\"curriculum_requisites\\\":[{\\\"source_id\\\":5,\\\"target_id\\\":9,\\\"type\\\":\\\"CurriculumPrerequisite\\\"}],\\\"name\\\":\\\"CSC 210\\\",\\\"metrics\\\":{\\\"centrality\\\":20,\\\"complexity\\\":9.0,\\\"blocking factor\\\":4,\\\"delay factor\\\":5.0},\\\"nameSub\\\":\\\"Software Development\\\",\\\"id\\\":9,\\\"credits\\\":4,\\\"nameCanonical\\\":\\\"\\\"},{\\\"curriculum_requisites\\\":[{\\\"source_id\\\":5,\\\"target_id\\\":10,\\\"type\\\":\\\"CurriculumPrerequisite\\\"}],\\\"name\\\":\\\"CSC 245\\\",\\\"metrics\\\":{\\\"centrality\\\":5,\\\"complexity\\\":6.0,\\\"blocking factor\\\":1,\\\"delay factor\\\":5.0},\\\"nameSub\\\":\\\"Intro to Discrete Structures\\\",\\\"id\\\":10,\\\"credits\\\":3,\\\"nameCanonical\\\":\\\"\\\"},{\\\"curriculum_requisites\\\":[{\\\"source_id\\\":6,\\\"target_id\\\":11,\\\"type\\\":\\\"CurriculumPrerequisite\\\"}],\\\"name\\\":\\\"MATH 129\\\",\\\"metrics\\\":{\\\"centrality\\\":0,\\\"complexity\\\":3.0,\\\"blocking factor\\\":0,\\\"delay factor\\\":3.0},\\\"nameSub\\\":\\\"Calculus II\\\",\\\"id\\\":11,\\\"credits\\\":3,\\\"nameCanonical\\\":\\\"\\\"},{\\\"curriculum_requisites\\\":[],\\\"name\\\":\\\" \\\",\\\"metrics\\\":{\\\"centrality\\\":0,\\\"complexity\\\":1.0,\\\"blocking factor\\\":0,\\\"delay factor\\\":1.0},\\\"nameSub\\\":\\\"Tier 1 General Education 1\\\",\\\"id\\\":12,\\\"credits\\\":3,\\\"nameCanonical\\\":\\\"\\\"},{\\\"curriculum_requisites\\\":[],\\\"name\\\":\\\" \\\",\\\"metrics\\\":{\\\"centrality\\\":0,\\\"complexity\\\":1.0,\\\"blocking factor\\\":0,\\\"delay factor\\\":1.0},\\\"nameSub\\\":\\\"Tier 1 General Education 2\\\",\\\"id\\\":13,\\\"credits\\\":3,\\\"nameCanonical\\\":\\\"\\\"}],\\\"id\\\":3},{\\\"name\\\":\\\"Term 4\\\",\\\"curriculum_items\\\":[{\\\"curriculum_requisites\\\":[{\\\"source_id\\\":9,\\\"target_id\\\":14,\\\"type\\\":\\\"CurriculumPrerequisite\\\"}],\\\"name\\\":\\\"CSC 252\\\",\\\"metrics\\\":{\\\"centrality\\\":0,\\\"complexity\\\":5.0,\\\"blocking factor\\\":0,\\\"delay factor\\\":5.0},\\\"nameSub\\\":\\\"Computer Organization\\\",\\\"id\\\":14,\\\"credits\\\":3,\\\"nameCanonical\\\":\\\"\\\"},{\\\"curriculum_requisites\\\":[{\\\"source_id\\\":9,\\\"target_id\\\":15,\\\"type\\\":\\\"CurriculumPrerequisite\\\"}],\\\"name\\\":\\\"CSC 352\\\",\\\"metrics\\\":{\\\"centrality\\\":0,\\\"complexity\\\":5.0,\\\"blocking factor\\\":0,\\\"delay factor\\\":5.0},\\\"nameSub\\\":\\\"Systems Programming & Unix\\\",\\\"id\\\":15,\\\"credits\\\":3,\\\"nameCanonical\\\":\\\"\\\"},{\\\"curriculum_requisites\\\":[],\\\"name\\\":\\\" \\\",\\\"metrics\\\":{\\\"centrality\\\":0,\\\"complexity\\\":1.0,\\\"blocking factor\\\":0,\\\"delay factor\\\":1.0},\\\"nameSub\\\":\\\"Supporting Science #1\\\",\\\"id\\\":16,\\\"credits\\\":4,\\\"nameCanonical\\\":\\\"\\\"},{\\\"curriculum_requisites\\\":[],\\\"name\\\":\\\" \\\",\\\"metrics\\\":{\\\"centrality\\\":0,\\\"complexity\\\":1.0,\\\"blocking factor\\\":0,\\\"delay factor\\\":1.0},\\\"nameSub\\\":\\\"Tier 1 General Education 3\\\",\\\"id\\\":17,\\\"credits\\\":3,\\\"nameCanonical\\\":\\\"\\\"},{\\\"curriculum_requisites\\\":[],\\\"name\\\":\\\" \\\",\\\"metrics\\\":{\\\"centrality\\\":0,\\\"complexity\\\":1.0,\\\"blocking factor\\\":0,\\\"delay factor\\\":1.0},\\\"nameSub\\\":\\\"Tier 1 General Education 4\\\",\\\"id\\\":18,\\\"credits\\\":3,\\\"nameCanonical\\\":\\\"\\\"}],\\\"id\\\":4},{\\\"name\\\":\\\"Term 5\\\",\\\"curriculum_items\\\":[{\\\"curriculum_requisites\\\":[{\\\"source_id\\\":9,\\\"target_id\\\":19,\\\"type\\\":\\\"CurriculumPrerequisite\\\"}],\\\"name\\\":\\\"CSC 335\\\",\\\"metrics\\\":{\\\"centrality\\\":0,\\\"complexity\\\":5.0,\\\"blocking factor\\\":0,\\\"delay factor\\\":5.0},\\\"nameSub\\\":\\\"Object-Oriented Programming\\\",\\\"id\\\":19,\\\"credits\\\":3,\\\"nameCanonical\\\":\\\"\\\"},{\\\"curriculum_requisites\\\":[{\\\"source_id\\\":9,\\\"target_id\\\":20,\\\"type\\\":\\\"CurriculumPrerequisite\\\"},{\\\"source_id\\\":10,\\\"target_id\\\":20,\\\"type\\\":\\\"CurriculumPrerequisite\\\"}],\\\"name\\\":\\\"CSC 345\\\",\\\"metrics\\\":{\\\"centrality\\\":0,\\\"complexity\\\":5.0,\\\"blocking factor\\\":0,\\\"delay factor\\\":5.0},\\\"nameSub\\\":\\\"Analysis of Discrete Structures\\\",\\\"id\\\":20,\\\"credits\\\":3,\\\"nameCanonical\\\":\\\"\\\"},{\\\"curriculum_requisites\\\":[],\\\"name\\\":\\\" \\\",\\\"metrics\\\":{\\\"centrality\\\":0,\\\"complexity\\\":1.0,\\\"blocking factor\\\":0,\\\"delay factor\\\":1.0},\\\"nameSub\\\":\\\"Supporting Science #2\\\",\\\"id\\\":21,\\\"credits\\\":4,\\\"nameCanonical\\\":\\\"\\\"},{\\\"curriculum_requisites\\\":[],\\\"name\\\":\\\" \\\",\\\"metrics\\\":{\\\"centrality\\\":0,\\\"complexity\\\":1.0,\\\"blocking factor\\\":0,\\\"delay factor\\\":1.0},\\\"nameSub\\\":\\\"Tier 2 Gen Ed\\/Upper-Division 1\\\",\\\"id\\\":22,\\\"credits\\\":3,\\\"nameCanonical\\\":\\\"\\\"},{\\\"curriculum_requisites\\\":[],\\\"name\\\":\\\" \\\",\\\"metrics\\\":{\\\"centrality\\\":0,\\\"complexity\\\":1.0,\\\"blocking factor\\\":0,\\\"delay factor\\\":1.0},\\\"nameSub\\\":\\\"Upper-Division Elective\\\",\\\"id\\\":23,\\\"credits\\\":3,\\\"nameCanonical\\\":\\\"\\\"}],\\\"id\\\":5},{\\\"name\\\":\\\"Term 6\\\",\\\"curriculum_items\\\":[{\\\"curriculum_requisites\\\":[],\\\"name\\\":\\\"CSC \\\",\\\"metrics\\\":{\\\"centrality\\\":0,\\\"complexity\\\":1.0,\\\"blocking factor\\\":0,\\\"delay factor\\\":1.0},\\\"nameSub\\\":\\\"CSC Paradigms Elective\\\",\\\"id\\\":24,\\\"credits\\\":3,\\\"nameCanonical\\\":\\\"\\\"},{\\\"curriculum_requisites\\\":[],\\\"name\\\":\\\"CSC \\\",\\\"metrics\\\":{\\\"centrality\\\":0,\\\"complexity\\\":1.0,\\\"blocking factor\\\":0,\\\"delay factor\\\":1.0},\\\"nameSub\\\":\\\"CSC 400-Level Elective 1\\\",\\\"id\\\":25,\\\"credits\\\":3,\\\"nameCanonical\\\":\\\"\\\"},{\\\"curriculum_requisites\\\":[],\\\"name\\\":\\\" \\\",\\\"metrics\\\":{\\\"centrality\\\":0,\\\"complexity\\\":1.0,\\\"blocking factor\\\":0,\\\"delay factor\\\":1.0},\\\"nameSub\\\":\\\"Tier 2 Gen Ed\\/Upper-Division 2\\\",\\\"id\\\":26,\\\"credits\\\":3,\\\"nameCanonical\\\":\\\"\\\"},{\\\"curriculum_requisites\\\":[],\\\"name\\\":\\\" \\\",\\\"metrics\\\":{\\\"centrality\\\":0,\\\"complexity\\\":1.0,\\\"blocking factor\\\":0,\\\"delay factor\\\":1.0},\\\"nameSub\\\":\\\"Tier 2 Gen Ed\\/Upper-Division 3\\\",\\\"id\\\":27,\\\"credits\\\":3,\\\"nameCanonical\\\":\\\"\\\"},{\\\"curriculum_requisites\\\":[],\\\"name\\\":\\\" \\\",\\\"metrics\\\":{\\\"centrality\\\":0,\\\"complexity\\\":1.0,\\\"blocking factor\\\":0,\\\"delay factor\\\":1.0},\\\"nameSub\\\":\\\"Elective 1\\\",\\\"id\\\":28,\\\"credits\\\":3,\\\"nameCanonical\\\":\\\"\\\"}],\\\"id\\\":6},{\\\"name\\\":\\\"Term 7\\\",\\\"curriculum_items\\\":[{\\\"curriculum_requisites\\\":[],\\\"name\\\":\\\"CSC \\\",\\\"metrics\\\":{\\\"centrality\\\":0,\\\"complexity\\\":1.0,\\\"blocking factor\\\":0,\\\"delay factor\\\":1.0},\\\"nameSub\\\":\\\"CSC Theory & Writing Elective\\\",\\\"id\\\":29,\\\"credits\\\":3,\\\"nameCanonical\\\":\\\"\\\"},{\\\"curriculum_requisites\\\":[],\\\"name\\\":\\\"CSC \\\",\\\"metrics\\\":{\\\"centrality\\\":0,\\\"complexity\\\":1.0,\\\"blocking factor\\\":0,\\\"delay factor\\\":1.0},\\\"nameSub\\\":\\\"CSC 400-Level Elective 2\\\",\\\"id\\\":30,\\\"credits\\\":3,\\\"nameCanonical\\\":\\\"\\\"},{\\\"curriculum_requisites\\\":[],\\\"name\\\":\\\" \\\",\\\"metrics\\\":{\\\"centrality\\\":0,\\\"complexity\\\":1.0,\\\"blocking factor\\\":0,\\\"delay factor\\\":1.0},\\\"nameSub\\\":\\\"Elective 2\\\",\\\"id\\\":31,\\\"credits\\\":3,\\\"nameCanonical\\\":\\\"\\\"},{\\\"curriculum_requisites\\\":[],\\\"name\\\":\\\" \\\",\\\"metrics\\\":{\\\"centrality\\\":0,\\\"complexity\\\":1.0,\\\"blocking factor\\\":0,\\\"delay factor\\\":1.0},\\\"nameSub\\\":\\\"Elective 3\\\",\\\"id\\\":32,\\\"credits\\\":3,\\\"nameCanonical\\\":\\\"\\\"},{\\\"curriculum_requisites\\\":[],\\\"name\\\":\\\" \\\",\\\"metrics\\\":{\\\"centrality\\\":0,\\\"complexity\\\":1.0,\\\"blocking factor\\\":0,\\\"delay factor\\\":1.0},\\\"nameSub\\\":\\\"Elective 4\\\",\\\"id\\\":33,\\\"credits\\\":3,\\\"nameCanonical\\\":\\\"\\\"}],\\\"id\\\":7},{\\\"name\\\":\\\"Term 8\\\",\\\"curriculum_items\\\":[{\\\"curriculum_requisites\\\":[],\\\"name\\\":\\\"CSC \\\",\\\"metrics\\\":{\\\"centrality\\\":0,\\\"complexity\\\":1.0,\\\"blocking factor\\\":0,\\\"delay factor\\\":1.0},\\\"nameSub\\\":\\\"CSC Systems Elective\\\",\\\"id\\\":34,\\\"credits\\\":3,\\\"nameCanonical\\\":\\\"\\\"},{\\\"curriculum_requisites\\\":[],\\\"name\\\":\\\"CSC \\\",\\\"metrics\\\":{\\\"centrality\\\":0,\\\"complexity\\\":1.0,\\\"blocking factor\\\":0,\\\"delay factor\\\":1.0},\\\"nameSub\\\":\\\"CSC 300\\/400-Level Elective\\\",\\\"id\\\":35,\\\"credits\\\":3,\\\"nameCanonical\\\":\\\"\\\"},{\\\"curriculum_requisites\\\":[],\\\"name\\\":\\\" \\\",\\\"metrics\\\":{\\\"centrality\\\":0,\\\"complexity\\\":1.0,\\\"blocking factor\\\":0,\\\"delay factor\\\":1.0},\\\"nameSub\\\":\\\"Upper-Division Elective 1\\\",\\\"id\\\":36,\\\"credits\\\":3,\\\"nameCanonical\\\":\\\"\\\"},{\\\"curriculum_requisites\\\":[],\\\"name\\\":\\\" \\\",\\\"metrics\\\":{\\\"centrality\\\":0,\\\"complexity\\\":1.0,\\\"blocking factor\\\":0,\\\"delay factor\\\":1.0},\\\"nameSub\\\":\\\"Upper-Division Elective 2\\\",\\\"id\\\":37,\\\"credits\\\":3,\\\"nameCanonical\\\":\\\"\\\"}],\\\"id\\\":8}],\\\"institution\\\":\\\"University of Arizona\\\"}},\\\"*\\\"); window.removeEventListener(\\\"message\\\",window.messageReceived); window.messageReceived=(function (event){return (event.data.curriculum!==undefined) ? (WebIO.setval({\\\"name\\\":\\\"curriculum-data\\\",\\\"scope\\\":\\\"7161151264162889767\\\",\\\"id\\\":\\\"6423661673623688035\\\",\\\"type\\\":\\\"observable\\\"},event.data.curriculum)) : undefined}); return window.addEventListener(\\\"message\\\",window.messageReceived)})\"},\"style\":{\"padding\":\"0\",\"height\":\"80vh\",\"margin\":\"0\",\"border\":\"none\",\"width\":\"100%\"}},\"nodeType\":\"DOM\",\"type\":\"node\",\"instanceArgs\":{\"namespace\":\"html\",\"tag\":\"iframe\"},\"children\":[\"\"]}]},\n",
       "            window,\n",
       "        );\n",
       "    } else {\n",
       "        document\n",
       "            .querySelector('[data-webio-mountpoint=\"2315737698689070579\"]')\n",
       "            .innerHTML = (\n",
       "                '<div style=\"padding: 1em; background-color: #f8d6da; border: 1px solid #f5c6cb\">' +\n",
       "                '<p><strong>WebIO not detected.</strong></p>' +\n",
       "                '<p>Please read ' +\n",
       "                '<a href=\"https://juliagizmos.github.io/WebIO.jl/latest/troubleshooting/not-detected/\" target=\"_blank\">the troubleshooting guide</a> ' +\n",
       "                'for more information on how to resolve this issue.</p>' +\n",
       "                '<p><a href=\"https://juliagizmos.github.io/WebIO.jl/latest/troubleshooting/not-detected/\" target=\"_blank\">https://juliagizmos.github.io/WebIO.jl/latest/troubleshooting/not-detected/</a></p>' +\n",
       "                '</div>'\n",
       "            );\n",
       "    }\n",
       "    </script>\n",
       "</div>\n"
      ],
      "text/plain": [
       "WebIO.Scope(WebIO.Node{WebIO.DOM}(WebIO.DOM(:html, :iframe), Any[\"\"], Dict{Symbol,Any}(:src => \"http://localhost:8156\",:id => \"curriculum\",:events => Dict{Symbol,WebIO.JSString}(:load => WebIO.JSString(\"(function (){this.contentWindow.postMessage({\\\"options\\\":{\\\"hideTerms\\\":false,\\\"edit\\\":false},\\\"curriculum\\\":{\\\"name\\\":\\\"Computer Science\\\",\\\"dp_name\\\":\\\"2019-20 Degree Plan\\\",\\\"curriculum_terms\\\":[{\\\"name\\\":\\\"Term 1\\\",\\\"curriculum_items\\\":[{\\\"curriculum_requisites\\\":[{\\\"source_id\\\":2,\\\"target_id\\\":1,\\\"type\\\":\\\"CurriculumCorequisite\\\"}],\\\"name\\\":\\\"CSC 110\\\",\\\"metrics\\\":{\\\"centrality\\\":25,\\\"complexity\\\":12.0,\\\"blocking factor\\\":7,\\\"delay factor\\\":5.0},\\\"nameSub\\\":\\\"Intro to Computer Programming I\\\",\\\"id\\\":1,\\\"credits\\\":4,\\\"nameCanonical\\\":\\\"\\\"},{\\\"curriculum_requisites\\\":[],\\\"name\\\":\\\"MATH 120R\\\",\\\"metrics\\\":{\\\"centrality\\\":0,\\\"complexity\\\":15.0,\\\"blocking factor\\\":10,\\\"delay factor\\\":5.0},\\\"nameSub\\\":\\\"Pre-Calculus\\\",\\\"id\\\":2,\\\"credits\\\":4,\\\"nameCanonical\\\":\\\"\\\"},{\\\"curriculum_requisites\\\":[],\\\"name\\\":\\\"ENGL 101\\\",\\\"metrics\\\":{\\\"centrality\\\":0,\\\"complexity\\\":3.0,\\\"blocking factor\\\":1,\\\"delay factor\\\":2.0},\\\"nameSub\\\":\\\"English Composition I\\\",\\\"id\\\":3,\\\"credits\\\":3,\\\"nameCanonical\\\":\\\"\\\"},{\\\"curriculum_requisites\\\":[],\\\"name\\\":\\\" \\\",\\\"metrics\\\":{\\\"centrality\\\":0,\\\"complexity\\\":3.0,\\\"blocking factor\\\":1,\\\"delay factor\\\":2.0},\\\"nameSub\\\":\\\"1st Semester Second Language\\\",\\\"id\\\":4,\\\"credits\\\":4,\\\"nameCanonical\\\":\\\"\\\"}],\\\"id\\\":1},{\\\"name\\\":\\\"Term 2\\\",\\\"curriculum_items\\\":[{\\\"curriculum_requisites\\\":[{\\\"source_id\\\":1,\\\"target_id\\\":5,\\\"type\\\":\\\"CurriculumPrerequisite\\\"}],\\\"name\\\":\\\"CSC 120\\\",\\\"metrics\\\":{\\\"centrality\\\":25,\\\"complexity\\\":11.0,\\\"blocking factor\\\":6,\\\"delay factor\\\":5.0},\\\"nameSub\\\":\\\"Intro to Computer Programming II\\\",\\\"id\\\":5,\\\"credits\\\":4,\\\"nameCanonical\\\":\\\"\\\"},{\\\"curriculum_requisites\\\":[{\\\"source_id\\\":2,\\\"target_id\\\":6,\\\"type\\\":\\\"CurriculumPrerequisite\\\"}],\\\"name\\\":\\\"MATH 122A/B\\\",\\\"metrics\\\":{\\\"centrality\\\":3,\\\"complexity\\\":4.0,\\\"blocking factor\\\":1,\\\"delay factor\\\":3.0},\\\"nameSub\\\":\\\"Calculus I\\\",\\\"id\\\":6,\\\"credits\\\":5,\\\"nameCanonical\\\":\\\"\\\"},{\\\"curriculum_requisites\\\":[{\\\"source_id\\\":3,\\\"target_id\\\":7,\\\"type\\\":\\\"CurriculumPrerequisite\\\"}],\\\"name\\\":\\\"ENGL 102\\\",\\\"metrics\\\":{\\\"centrality\\\":0,\\\"complexity\\\":2.0,\\\"blocking factor\\\":0,\\\"delay factor\\\":2.0},\\\"nameSub\\\":\\\"English Composition II\\\",\\\"id\\\":7,\\\"credits\\\":4,\\\"nameCanonical\\\":\\\"\\\"},{\\\"curriculum_requisites\\\":[{\\\"source_id\\\":4,\\\"target_id\\\":8,\\\"type\\\":\\\"CurriculumPrerequisite\\\"}],\\\"name\\\":\\\" \\\",\\\"metrics\\\":{\\\"centrality\\\":0,\\\"complexity\\\":2.0,\\\"blocking factor\\\":0,\\\"delay factor\\\":2.0},\\\"nameSub\\\":\\\"2nd Semester Second Language\\\",\\\"id\\\":8,\\\"credits\\\":4,\\\"nameCanonical\\\":\\\"\\\"}],\\\"id\\\":2},{\\\"name\\\":\\\"Term 3\\\",\\\"curriculum_items\\\":[{\\\"curriculum_requisites\\\":[{\\\"source_id\\\":5,\\\"target_id\\\":9,\\\"type\\\":\\\"CurriculumPrerequisite\\\"}],\\\"name\\\":\\\"CSC 210\\\",\\\"metrics\\\":{\\\"centrality\\\":20,\\\"complexity\\\":9.0,\\\"blocking factor\\\":4,\\\"delay factor\\\":5.0},\\\"nameSub\\\":\\\"Software Development\\\",\\\"id\\\":9,\\\"credits\\\":4,\\\"nameCanonical\\\":\\\"\\\"},{\\\"curriculum_requisites\\\":[{\\\"source_id\\\":5,\\\"target_id\\\":10,\\\"type\\\":\\\"CurriculumPrerequisite\\\"}],\\\"name\\\":\\\"CSC 245\\\",\\\"metrics\\\":{\\\"centrality\\\":5,\\\"complexity\\\":6.0,\\\"blocking factor\\\":1,\\\"delay factor\\\":5.0},\\\"nameSub\\\":\\\"Intro to Discrete Structures\\\",\\\"id\\\":10,\\\"credits\\\":3,\\\"nameCanonical\\\":\\\"\\\"},{\\\"curriculum_requisites\\\":[{\\\"source_id\\\":6,\\\"target_id\\\":11,\\\"type\\\":\\\"CurriculumPrerequisite\\\"}],\\\"name\\\":\\\"MATH 129\\\",\\\"metrics\\\":{\\\"centrality\\\":0,\\\"complexity\\\":3.0,\\\"blocking factor\\\":0,\\\"delay factor\\\":3.0},\\\"nameSub\\\":\\\"Calculus II\\\",\\\"id\\\":11,\\\"credits\\\":3,\\\"nameCanonical\\\":\\\"\\\"},{\\\"curriculum_requisites\\\":[],\\\"name\\\":\\\" \\\",\\\"metrics\\\":{\\\"centrality\\\":0,\\\"complexity\\\":1.0,\\\"blocking factor\\\":0,\\\"delay factor\\\":1.0},\\\"nameSub\\\":\\\"Tier 1 General Education 1\\\",\\\"id\\\":12,\\\"credits\\\":3,\\\"nameCanonical\\\":\\\"\\\"},{\\\"curriculum_requisites\\\":[],\\\"name\\\":\\\" \\\",\\\"metrics\\\":{\\\"centrality\\\":0,\\\"complexity\\\":1.0,\\\"blocking factor\\\":0,\\\"delay factor\\\":1.0},\\\"nameSub\\\":\\\"Tier 1 General Education 2\\\",\\\"id\\\":13,\\\"credits\\\":3,\\\"nameCanonical\\\":\\\"\\\"}],\\\"id\\\":3},{\\\"name\\\":\\\"Term 4\\\",\\\"curriculum_items\\\":[{\\\"curriculum_requisites\\\":[{\\\"source_id\\\":9,\\\"target_id\\\":14,\\\"type\\\":\\\"CurriculumPrerequisite\\\"}],\\\"name\\\":\\\"CSC 252\\\",\\\"metrics\\\":{\\\"centrality\\\":0,\\\"complexity\\\":5.0,\\\"blocking factor\\\":0,\\\"delay factor\\\":5.0},\\\"nameSub\\\":\\\"Computer Organization\\\",\\\"id\\\":14,\\\"credits\\\":3,\\\"nameCanonical\\\":\\\"\\\"},{\\\"curriculum_requisites\\\":[{\\\"source_id\\\":9,\\\"target_id\\\":15,\\\"type\\\":\\\"CurriculumPrerequisite\\\"}],\\\"name\\\":\\\"CSC 352\\\",\\\"metrics\\\":{\\\"centrality\\\":0,\\\"complexity\\\":5.0,\\\"blocking factor\\\":0,\\\"delay factor\\\":5.0},\\\"nameSub\\\":\\\"Systems Programming & Unix\\\",\\\"id\\\":15,\\\"credits\\\":3,\\\"nameCanonical\\\":\\\"\\\"},{\\\"curriculum_requisites\\\":[],\\\"name\\\":\\\" \\\",\\\"metrics\\\":{\\\"centrality\\\":0,\\\"complexity\\\":1.0,\\\"blocking factor\\\":0,\\\"delay factor\\\":1.0},\\\"nameSub\\\":\\\"Supporting Science #1\\\",\\\"id\\\":16,\\\"credits\\\":4,\\\"nameCanonical\\\":\\\"\\\"},{\\\"curriculum_requisites\\\":[],\\\"name\\\":\\\" \\\",\\\"metrics\\\":{\\\"centrality\\\":0,\\\"complexity\\\":1.0,\\\"blocking factor\\\":0,\\\"delay factor\\\":1.0},\\\"nameSub\\\":\\\"Tier 1 General Education 3\\\",\\\"id\\\":17,\\\"credits\\\":3,\\\"nameCanonical\\\":\\\"\\\"},{\\\"curriculum_requisites\\\":[],\\\"name\\\":\\\" \\\",\\\"metrics\\\":{\\\"centrality\\\":0,\\\"complexity\\\":1.0,\\\"blocking factor\\\":0,\\\"delay factor\\\":1.0},\\\"nameSub\\\":\\\"Tier 1 General Education 4\\\",\\\"id\\\":18,\\\"credits\\\":3,\\\"nameCanonical\\\":\\\"\\\"}],\\\"id\\\":4},{\\\"name\\\":\\\"Term 5\\\",\\\"curriculum_items\\\":[{\\\"curriculum_requisites\\\":[{\\\"source_id\\\":9,\\\"target_id\\\":19,\\\"type\\\":\\\"CurriculumPrerequisite\\\"}],\\\"name\\\":\\\"CSC 335\\\",\\\"metrics\\\":{\\\"centrality\\\":0,\\\"complexity\\\":5.0,\\\"blocking factor\\\":0,\\\"delay factor\\\":5.0},\\\"nameSub\\\":\\\"Object-Oriented Programming\\\",\\\"id\\\":19,\\\"credits\\\":3,\\\"nameCanonical\\\":\\\"\\\"},{\\\"curriculum_requisites\\\":[{\\\"source_id\\\":9,\\\"target_id\\\":20,\\\"type\\\":\\\"CurriculumPrerequisite\\\"},{\\\"source_id\\\":10,\\\"target_id\\\":20,\\\"type\\\":\\\"CurriculumPrerequisite\\\"}],\\\"name\\\":\\\"CSC 345\\\",\\\"metrics\\\":{\\\"centrality\\\":0,\\\"complexity\\\":5.0,\\\"blocking factor\\\":0,\\\"delay factor\\\":5.0},\\\"nameSub\\\":\\\"Analysis of Discrete Structures\\\",\\\"id\\\":20,\\\"credits\\\":3,\\\"nameCanonical\\\":\\\"\\\"},{\\\"curriculum_requisites\\\":[],\\\"name\\\":\\\" \\\",\\\"metrics\\\":{\\\"centrality\\\":0,\\\"complexity\\\":1.0,\\\"blocking factor\\\":0,\\\"delay factor\\\":1.0},\\\"nameSub\\\":\\\"Supporting Science #2\\\",\\\"id\\\":21,\\\"credits\\\":4,\\\"nameCanonical\\\":\\\"\\\"},{\\\"curriculum_requisites\\\":[],\\\"name\\\":\\\" \\\",\\\"metrics\\\":{\\\"centrality\\\":0,\\\"complexity\\\":1.0,\\\"blocking factor\\\":0,\\\"delay factor\\\":1.0},\\\"nameSub\\\":\\\"Tier 2 Gen Ed/Upper-Division 1\\\",\\\"id\\\":22,\\\"credits\\\":3,\\\"nameCanonical\\\":\\\"\\\"},{\\\"curriculum_requisites\\\":[],\\\"name\\\":\\\" \\\",\\\"metrics\\\":{\\\"centrality\\\":0,\\\"complexity\\\":1.0,\\\"blocking factor\\\":0,\\\"delay factor\\\":1.0},\\\"nameSub\\\":\\\"Upper-Division Elective\\\",\\\"id\\\":23,\\\"credits\\\":3,\\\"nameCanonical\\\":\\\"\\\"}],\\\"id\\\":5},{\\\"name\\\":\\\"Term 6\\\",\\\"curriculum_items\\\":[{\\\"curriculum_requisites\\\":[],\\\"name\\\":\\\"CSC \\\",\\\"metrics\\\":{\\\"centrality\\\":0,\\\"complexity\\\":1.0,\\\"blocking factor\\\":0,\\\"delay factor\\\":1.0},\\\"nameSub\\\":\\\"CSC Paradigms Elective\\\",\\\"id\\\":24,\\\"credits\\\":3,\\\"nameCanonical\\\":\\\"\\\"},{\\\"curriculum_requisites\\\":[],\\\"name\\\":\\\"CSC \\\",\\\"metrics\\\":{\\\"centrality\\\":0,\\\"complexity\\\":1.0,\\\"blocking factor\\\":0,\\\"delay factor\\\":1.0},\\\"nameSub\\\":\\\"CSC 400-Level Elective 1\\\",\\\"id\\\":25,\\\"credits\\\":3,\\\"nameCanonical\\\":\\\"\\\"},{\\\"curriculum_requisites\\\":[],\\\"name\\\":\\\" \\\",\\\"metrics\\\":{\\\"centrality\\\":0,\\\"complexity\\\":1.0,\\\"blocking factor\\\":0,\\\"delay factor\\\":1.0},\\\"nameSub\\\":\\\"Tier 2 Gen Ed/Upper-Division 2\\\",\\\"id\\\":26,\\\"credits\\\":3,\\\"nameCanonical\\\":\\\"\\\"},{\\\"curriculum_requisites\\\":[],\\\"name\\\":\\\" \\\",\\\"metrics\\\":{\\\"centrality\\\":0,\\\"complexity\\\":1.0,\\\"blocking factor\\\":0,\\\"delay factor\\\":1.0},\\\"nameSub\\\":\\\"Tier 2 Gen Ed/Upper-Division 3\\\",\\\"id\\\":27,\\\"credits\\\":3,\\\"nameCanonical\\\":\\\"\\\"},{\\\"curriculum_requisites\\\":[],\\\"name\\\":\\\" \\\",\\\"metrics\\\":{\\\"centrality\\\":0,\\\"complexity\\\":1.0,\\\"blocking factor\\\":0,\\\"delay factor\\\":1.0},\\\"nameSub\\\":\\\"Elective 1\\\",\\\"id\\\":28,\\\"credits\\\":3,\\\"nameCanonical\\\":\\\"\\\"}],\\\"id\\\":6},{\\\"name\\\":\\\"Term 7\\\",\\\"curriculum_items\\\":[{\\\"curriculum_requisites\\\":[],\\\"name\\\":\\\"CSC \\\",\\\"metrics\\\":{\\\"centrality\\\":0,\\\"complexity\\\":1.0,\\\"blocking factor\\\":0,\\\"delay factor\\\":1.0},\\\"nameSub\\\":\\\"CSC Theory & Writing Elective\\\",\\\"id\\\":29,\\\"credits\\\":3,\\\"nameCanonical\\\":\\\"\\\"},{\\\"curriculum_requisites\\\":[],\\\"name\\\":\\\"CSC \\\",\\\"metrics\\\":{\\\"centrality\\\":0,\\\"complexity\\\":1.0,\\\"blocking factor\\\":0,\\\"delay factor\\\":1.0},\\\"nameSub\\\":\\\"CSC 400-Level Elective 2\\\",\\\"id\\\":30,\\\"credits\\\":3,\\\"nameCanonical\\\":\\\"\\\"},{\\\"curriculum_requisites\\\":[],\\\"name\\\":\\\" \\\",\\\"metrics\\\":{\\\"centrality\\\":0,\\\"complexity\\\":1.0,\\\"blocking factor\\\":0,\\\"delay factor\\\":1.0},\\\"nameSub\\\":\\\"Elective 2\\\",\\\"id\\\":31,\\\"credits\\\":3,\\\"nameCanonical\\\":\\\"\\\"},{\\\"curriculum_requisites\\\":[],\\\"name\\\":\\\" \\\",\\\"metrics\\\":{\\\"centrality\\\":0,\\\"complexity\\\":1.0,\\\"blocking factor\\\":0,\\\"delay factor\\\":1.0},\\\"nameSub\\\":\\\"Elective 3\\\",\\\"id\\\":32,\\\"credits\\\":3,\\\"nameCanonical\\\":\\\"\\\"},{\\\"curriculum_requisites\\\":[],\\\"name\\\":\\\" \\\",\\\"metrics\\\":{\\\"centrality\\\":0,\\\"complexity\\\":1.0,\\\"blocking factor\\\":0,\\\"delay factor\\\":1.0},\\\"nameSub\\\":\\\"Elective 4\\\",\\\"id\\\":33,\\\"credits\\\":3,\\\"nameCanonical\\\":\\\"\\\"}],\\\"id\\\":7},{\\\"name\\\":\\\"Term 8\\\",\\\"curriculum_items\\\":[{\\\"curriculum_requisites\\\":[],\\\"name\\\":\\\"CSC \\\",\\\"metrics\\\":{\\\"centrality\\\":0,\\\"complexity\\\":1.0,\\\"blocking factor\\\":0,\\\"delay factor\\\":1.0},\\\"nameSub\\\":\\\"CSC Systems Elective\\\",\\\"id\\\":34,\\\"credits\\\":3,\\\"nameCanonical\\\":\\\"\\\"},{\\\"curriculum_requisites\\\":[],\\\"name\\\":\\\"CSC \\\",\\\"metrics\\\":{\\\"centrality\\\":0,\\\"complexity\\\":1.0,\\\"blocking factor\\\":0,\\\"delay factor\\\":1.0},\\\"nameSub\\\":\\\"CSC 300/400-Level Elective\\\",\\\"id\\\":35,\\\"credits\\\":3,\\\"nameCanonical\\\":\\\"\\\"},{\\\"curriculum_requisites\\\":[],\\\"name\\\":\\\" \\\",\\\"metrics\\\":{\\\"centrality\\\":0,\\\"complexity\\\":1.0,\\\"blocking factor\\\":0,\\\"delay factor\\\":1.0},\\\"nameSub\\\":\\\"Upper-Division Elective 1\\\",\\\"id\\\":36,\\\"credits\\\":3,\\\"nameCanonical\\\":\\\"\\\"},{\\\"curriculum_requisites\\\":[],\\\"name\\\":\\\" \\\",\\\"metrics\\\":{\\\"centrality\\\":0,\\\"complexity\\\":1.0,\\\"blocking factor\\\":0,\\\"delay factor\\\":1.0},\\\"nameSub\\\":\\\"Upper-Division Elective 2\\\",\\\"id\\\":37,\\\"credits\\\":3,\\\"nameCanonical\\\":\\\"\\\"}],\\\"id\\\":8}],\\\"institution\\\":\\\"University of Arizona\\\"}},\\\"*\\\"); window.removeEventListener(\\\"message\\\",window.messageReceived); window.messageReceived=(function (event){return (event.data.curriculum!==undefined) ? (WebIO.setval({\\\"name\\\":\\\"curriculum-data\\\",\\\"scope\\\":\\\"7161151264162889767\\\",\\\"id\\\":\\\"6423661673623688035\\\",\\\"type\\\":\\\"observable\\\"},event.data.curriculum)) : undefined}); return window.addEventListener(\\\"message\\\",window.messageReceived)})\")),:style => Dict(:padding => \"0\",:height => \"80vh\",:margin => \"0\",:border => \"none\",:width => \"100%\"))), Dict{String,Tuple{Observables.AbstractObservable,Union{Nothing, Bool}}}(\"curriculum-data\" => (Observable{Dict{String,Any}} with 1 listeners. Value:\n",
       "Dict{String,Any}(\"options\" => Dict{String,Any}(\"hideTerms\" => false,\"edit\" => false),\"curriculum\" => Dict{String,Any}(\"name\" => \"Computer Science\",\"dp_name\" => \"2019-20 Degree Plan\",\"curriculum_terms\" => Dict{String,Any}[Dict(\"name\" => \"Term 1\",\"curriculum_items\" => Dict{String,Any}[Dict(\"curriculum_requisites\" => Dict{String,Any}[Dict(\"source_id\" => 2,\"target_id\" => 1,\"type\" => \"CurriculumCorequisite\")],\"name\" => \"CSC 110\",\"metrics\" => Dict{String,Any}(\"centrality\" => 25,\"complexity\" => 12.0,\"blocking factor\" => 7,\"delay factor\" => 5.0),\"nameSub\" => \"Intro to Computer Programming I\",\"id\" => 1,\"credits\" => 4,\"nameCanonical\" => \"\"), Dict(\"curriculum_requisites\" => Dict{String,Any}[],\"name\" => \"MATH 120R\",\"metrics\" => Dict{String,Any}(\"centrality\" => 0,\"complexity\" => 15.0,\"blocking factor\" => 10,\"delay factor\" => 5.0),\"nameSub\" => \"Pre-Calculus\",\"id\" => 2,\"credits\" => 4,\"nameCanonical\" => \"\"), Dict(\"curriculum_requisites\" => Dict{String,Any}[],\"name\" => \"ENGL 101\",\"metrics\" => Dict{String,Any}(\"centrality\" => 0,\"complexity\" => 3.0,\"blocking factor\" => 1,\"delay factor\" => 2.0),\"nameSub\" => \"English Composition I\",\"id\" => 3,\"credits\" => 3,\"nameCanonical\" => \"\"), Dict(\"curriculum_requisites\" => Dict{String,Any}[],\"name\" => \" \",\"metrics\" => Dict{String,Any}(\"centrality\" => 0,\"complexity\" => 3.0,\"blocking factor\" => 1,\"delay factor\" => 2.0),\"nameSub\" => \"1st Semester Second Language\",\"id\" => 4,\"credits\" => 4,\"nameCanonical\" => \"\")],\"id\" => 1), Dict(\"name\" => \"Term 2\",\"curriculum_items\" => Dict{String,Any}[Dict(\"curriculum_requisites\" => Dict{String,Any}[Dict(\"source_id\" => 1,\"target_id\" => 5,\"type\" => \"CurriculumPrerequisite\")],\"name\" => \"CSC 120\",\"metrics\" => Dict{String,Any}(\"centrality\" => 25,\"complexity\" => 11.0,\"blocking factor\" => 6,\"delay factor\" => 5.0),\"nameSub\" => \"Intro to Computer Programming II\",\"id\" => 5,\"credits\" => 4,\"nameCanonical\" => \"\"), Dict(\"curriculum_requisites\" => Dict{String,Any}[Dict(\"source_id\" => 2,\"target_id\" => 6,\"type\" => \"CurriculumPrerequisite\")],\"name\" => \"MATH 122A/B\",\"metrics\" => Dict{String,Any}(\"centrality\" => 3,\"complexity\" => 4.0,\"blocking factor\" => 1,\"delay factor\" => 3.0),\"nameSub\" => \"Calculus I\",\"id\" => 6,\"credits\" => 5,\"nameCanonical\" => \"\"), Dict(\"curriculum_requisites\" => Dict{String,Any}[Dict(\"source_id\" => 3,\"target_id\" => 7,\"type\" => \"CurriculumPrerequisite\")],\"name\" => \"ENGL 102\",\"metrics\" => Dict{String,Any}(\"centrality\" => 0,\"complexity\" => 2.0,\"blocking factor\" => 0,\"delay factor\" => 2.0),\"nameSub\" => \"English Composition II\",\"id\" => 7,\"credits\" => 4,\"nameCanonical\" => \"\"), Dict(\"curriculum_requisites\" => Dict{String,Any}[Dict(\"source_id\" => 4,\"target_id\" => 8,\"type\" => \"CurriculumPrerequisite\")],\"name\" => \" \",\"metrics\" => Dict{String,Any}(\"centrality\" => 0,\"complexity\" => 2.0,\"blocking factor\" => 0,\"delay factor\" => 2.0),\"nameSub\" => \"2nd Semester Second Language\",\"id\" => 8,\"credits\" => 4,\"nameCanonical\" => \"\")],\"id\" => 2), Dict(\"name\" => \"Term 3\",\"curriculum_items\" => Dict{String,Any}[Dict(\"curriculum_requisites\" => Dict{String,Any}[Dict(\"source_id\" => 5,\"target_id\" => 9,\"type\" => \"CurriculumPrerequisite\")],\"name\" => \"CSC 210\",\"metrics\" => Dict{String,Any}(\"centrality\" => 20,\"complexity\" => 9.0,\"blocking factor\" => 4,\"delay factor\" => 5.0),\"nameSub\" => \"Software Development\",\"id\" => 9,\"credits\" => 4,\"nameCanonical\" => \"\"), Dict(\"curriculum_requisites\" => Dict{String,Any}[Dict(\"source_id\" => 5,\"target_id\" => 10,\"type\" => \"CurriculumPrerequisite\")],\"name\" => \"CSC 245\",\"metrics\" => Dict{String,Any}(\"centrality\" => 5,\"complexity\" => 6.0,\"blocking factor\" => 1,\"delay factor\" => 5.0),\"nameSub\" => \"Intro to Discrete Structures\",\"id\" => 10,\"credits\" => 3,\"nameCanonical\" => \"\"), Dict(\"curriculum_requisites\" => Dict{String,Any}[Dict(\"source_id\" => 6,\"target_id\" => 11,\"type\" => \"CurriculumPrerequisite\")],\"name\" => \"MATH 129\",\"metrics\" => Dict{String,Any}(\"centrality\" => 0,\"complexity\" => 3.0,\"blocking factor\" => 0,\"delay factor\" => 3.0),\"nameSub\" => \"Calculus II\",\"id\" => 11,\"credits\" => 3,\"nameCanonical\" => \"\"), Dict(\"curriculum_requisites\" => Dict{String,Any}[],\"name\" => \" \",\"metrics\" => Dict{String,Any}(\"centrality\" => 0,\"complexity\" => 1.0,\"blocking factor\" => 0,\"delay factor\" => 1.0),\"nameSub\" => \"Tier 1 General Education 1\",\"id\" => 12,\"credits\" => 3,\"nameCanonical\" => \"\"), Dict(\"curriculum_requisites\" => Dict{String,Any}[],\"name\" => \" \",\"metrics\" => Dict{String,Any}(\"centrality\" => 0,\"complexity\" => 1.0,\"blocking factor\" => 0,\"delay factor\" => 1.0),\"nameSub\" => \"Tier 1 General Education 2\",\"id\" => 13,\"credits\" => 3,\"nameCanonical\" => \"\")],\"id\" => 3), Dict(\"name\" => \"Term 4\",\"curriculum_items\" => Dict{String,Any}[Dict(\"curriculum_requisites\" => Dict{String,Any}[Dict(\"source_id\" => 9,\"target_id\" => 14,\"type\" => \"CurriculumPrerequisite\")],\"name\" => \"CSC 252\",\"metrics\" => Dict{String,Any}(\"centrality\" => 0,\"complexity\" => 5.0,\"blocking factor\" => 0,\"delay factor\" => 5.0),\"nameSub\" => \"Computer Organization\",\"id\" => 14,\"credits\" => 3,\"nameCanonical\" => \"\"), Dict(\"curriculum_requisites\" => Dict{String,Any}[Dict(\"source_id\" => 9,\"target_id\" => 15,\"type\" => \"CurriculumPrerequisite\")],\"name\" => \"CSC 352\",\"metrics\" => Dict{String,Any}(\"centrality\" => 0,\"complexity\" => 5.0,\"blocking factor\" => 0,\"delay factor\" => 5.0),\"nameSub\" => \"Systems Programming & Unix\",\"id\" => 15,\"credits\" => 3,\"nameCanonical\" => \"\"), Dict(\"curriculum_requisites\" => Dict{String,Any}[],\"name\" => \" \",\"metrics\" => Dict{String,Any}(\"centrality\" => 0,\"complexity\" => 1.0,\"blocking factor\" => 0,\"delay factor\" => 1.0),\"nameSub\" => \"Supporting Science #1\",\"id\" => 16,\"credits\" => 4,\"nameCanonical\" => \"\"), Dict(\"curriculum_requisites\" => Dict{String,Any}[],\"name\" => \" \",\"metrics\" => Dict{String,Any}(\"centrality\" => 0,\"complexity\" => 1.0,\"blocking factor\" => 0,\"delay factor\" => 1.0),\"nameSub\" => \"Tier 1 General Education 3\",\"id\" => 17,\"credits\" => 3,\"nameCanonical\" => \"\"), Dict(\"curriculum_requisites\" => Dict{String,Any}[],\"name\" => \" \",\"metrics\" => Dict{String,Any}(\"centrality\" => 0,\"complexity\" => 1.0,\"blocking factor\" => 0,\"delay factor\" => 1.0),\"nameSub\" => \"Tier 1 General Education 4\",\"id\" => 18,\"credits\" => 3,\"nameCanonical\" => \"\")],\"id\" => 4), Dict(\"name\" => \"Term 5\",\"curriculum_items\" => Dict{String,Any}[Dict(\"curriculum_requisites\" => Dict{String,Any}[Dict(\"source_id\" => 9,\"target_id\" => 19,\"type\" => \"CurriculumPrerequisite\")],\"name\" => \"CSC 335\",\"metrics\" => Dict{String,Any}(\"centrality\" => 0,\"complexity\" => 5.0,\"blocking factor\" => 0,\"delay factor\" => 5.0),\"nameSub\" => \"Object-Oriented Programming\",\"id\" => 19,\"credits\" => 3,\"nameCanonical\" => \"\"), Dict(\"curriculum_requisites\" => Dict{String,Any}[Dict(\"source_id\" => 9,\"target_id\" => 20,\"type\" => \"CurriculumPrerequisite\"), Dict(\"source_id\" => 10,\"target_id\" => 20,\"type\" => \"CurriculumPrerequisite\")],\"name\" => \"CSC 345\",\"metrics\" => Dict{String,Any}(\"centrality\" => 0,\"complexity\" => 5.0,\"blocking factor\" => 0,\"delay factor\" => 5.0),\"nameSub\" => \"Analysis of Discrete Structures\",\"id\" => 20,\"credits\" => 3,\"nameCanonical\" => \"\"), Dict(\"curriculum_requisites\" => Dict{String,Any}[],\"name\" => \" \",\"metrics\" => Dict{String,Any}(\"centrality\" => 0,\"complexity\" => 1.0,\"blocking factor\" => 0,\"delay factor\" => 1.0),\"nameSub\" => \"Supporting Science #2\",\"id\" => 21,\"credits\" => 4,\"nameCanonical\" => \"\"), Dict(\"curriculum_requisites\" => Dict{String,Any}[],\"name\" => \" \",\"metrics\" => Dict{String,Any}(\"centrality\" => 0,\"complexity\" => 1.0,\"blocking factor\" => 0,\"delay factor\" => 1.0),\"nameSub\" => \"Tier 2 Gen Ed/Upper-Division 1\",\"id\" => 22,\"credits\" => 3,\"nameCanonical\" => \"\"), Dict(\"curriculum_requisites\" => Dict{String,Any}[],\"name\" => \" \",\"metrics\" => Dict{String,Any}(\"centrality\" => 0,\"complexity\" => 1.0,\"blocking factor\" => 0,\"delay factor\" => 1.0),\"nameSub\" => \"Upper-Division Elective\",\"id\" => 23,\"credits\" => 3,\"nameCanonical\" => \"\")],\"id\" => 5), Dict(\"name\" => \"Term 6\",\"curriculum_items\" => Dict{String,Any}[Dict(\"curriculum_requisites\" => Dict{String,Any}[],\"name\" => \"CSC \",\"metrics\" => Dict{String,Any}(\"centrality\" => 0,\"complexity\" => 1.0,\"blocking factor\" => 0,\"delay factor\" => 1.0),\"nameSub\" => \"CSC Paradigms Elective\",\"id\" => 24,\"credits\" => 3,\"nameCanonical\" => \"\"), Dict(\"curriculum_requisites\" => Dict{String,Any}[],\"name\" => \"CSC \",\"metrics\" => Dict{String,Any}(\"centrality\" => 0,\"complexity\" => 1.0,\"blocking factor\" => 0,\"delay factor\" => 1.0),\"nameSub\" => \"CSC 400-Level Elective 1\",\"id\" => 25,\"credits\" => 3,\"nameCanonical\" => \"\"), Dict(\"curriculum_requisites\" => Dict{String,Any}[],\"name\" => \" \",\"metrics\" => Dict{String,Any}(\"centrality\" => 0,\"complexity\" => 1.0,\"blocking factor\" => 0,\"delay factor\" => 1.0),\"nameSub\" => \"Tier 2 Gen Ed/Upper-Division 2\",\"id\" => 26,\"credits\" => 3,\"nameCanonical\" => \"\"), Dict(\"curriculum_requisites\" => Dict{String,Any}[],\"name\" => \" \",\"metrics\" => Dict{String,Any}(\"centrality\" => 0,\"complexity\" => 1.0,\"blocking factor\" => 0,\"delay factor\" => 1.0),\"nameSub\" => \"Tier 2 Gen Ed/Upper-Division 3\",\"id\" => 27,\"credits\" => 3,\"nameCanonical\" => \"\"), Dict(\"curriculum_requisites\" => Dict{String,Any}[],\"name\" => \" \",\"metrics\" => Dict{String,Any}(\"centrality\" => 0,\"complexity\" => 1.0,\"blocking factor\" => 0,\"delay factor\" => 1.0),\"nameSub\" => \"Elective 1\",\"id\" => 28,\"credits\" => 3,\"nameCanonical\" => \"\")],\"id\" => 6), Dict(\"name\" => \"Term 7\",\"curriculum_items\" => Dict{String,Any}[Dict(\"curriculum_requisites\" => Dict{String,Any}[],\"name\" => \"CSC \",\"metrics\" => Dict{String,Any}(\"centrality\" => 0,\"complexity\" => 1.0,\"blocking factor\" => 0,\"delay factor\" => 1.0),\"nameSub\" => \"CSC Theory & Writing Elective\",\"id\" => 29,\"credits\" => 3,\"nameCanonical\" => \"\"), Dict(\"curriculum_requisites\" => Dict{String,Any}[],\"name\" => \"CSC \",\"metrics\" => Dict{String,Any}(\"centrality\" => 0,\"complexity\" => 1.0,\"blocking factor\" => 0,\"delay factor\" => 1.0),\"nameSub\" => \"CSC 400-Level Elective 2\",\"id\" => 30,\"credits\" => 3,\"nameCanonical\" => \"\"), Dict(\"curriculum_requisites\" => Dict{String,Any}[],\"name\" => \" \",\"metrics\" => Dict{String,Any}(\"centrality\" => 0,\"complexity\" => 1.0,\"blocking factor\" => 0,\"delay factor\" => 1.0),\"nameSub\" => \"Elective 2\",\"id\" => 31,\"credits\" => 3,\"nameCanonical\" => \"\"), Dict(\"curriculum_requisites\" => Dict{String,Any}[],\"name\" => \" \",\"metrics\" => Dict{String,Any}(\"centrality\" => 0,\"complexity\" => 1.0,\"blocking factor\" => 0,\"delay factor\" => 1.0),\"nameSub\" => \"Elective 3\",\"id\" => 32,\"credits\" => 3,\"nameCanonical\" => \"\"), Dict(\"curriculum_requisites\" => Dict{String,Any}[],\"name\" => \" \",\"metrics\" => Dict{String,Any}(\"centrality\" => 0,\"complexity\" => 1.0,\"blocking factor\" => 0,\"delay factor\" => 1.0),\"nameSub\" => \"Elective 4\",\"id\" => 33,\"credits\" => 3,\"nameCanonical\" => \"\")],\"id\" => 7), Dict(\"name\" => \"Term 8\",\"curriculum_items\" => Dict{String,Any}[Dict(\"curriculum_requisites\" => Dict{String,Any}[],\"name\" => \"CSC \",\"metrics\" => Dict{String,Any}(\"centrality\" => 0,\"complexity\" => 1.0,\"blocking factor\" => 0,\"delay factor\" => 1.0),\"nameSub\" => \"CSC Systems Elective\",\"id\" => 34,\"credits\" => 3,\"nameCanonical\" => \"\"), Dict(\"curriculum_requisites\" => Dict{String,Any}[],\"name\" => \"CSC \",\"metrics\" => Dict{String,Any}(\"centrality\" => 0,\"complexity\" => 1.0,\"blocking factor\" => 0,\"delay factor\" => 1.0),\"nameSub\" => \"CSC 300/400-Level Elective\",\"id\" => 35,\"credits\" => 3,\"nameCanonical\" => \"\"), Dict(\"curriculum_requisites\" => Dict{String,Any}[],\"name\" => \" \",\"metrics\" => Dict{String,Any}(\"centrality\" => 0,\"complexity\" => 1.0,\"blocking factor\" => 0,\"delay factor\" => 1.0),\"nameSub\" => \"Upper-Division Elective 1\",\"id\" => 36,\"credits\" => 3,\"nameCanonical\" => \"\"), Dict(\"curriculum_requisites\" => Dict{String,Any}[],\"name\" => \" \",\"metrics\" => Dict{String,Any}(\"centrality\" => 0,\"complexity\" => 1.0,\"blocking factor\" => 0,\"delay factor\" => 1.0),\"nameSub\" => \"Upper-Division Elective 2\",\"id\" => 37,\"credits\" => 3,\"nameCanonical\" => \"\")],\"id\" => 8)],\"institution\" => \"University of Arizona\")), nothing)), Set{String}(), nothing, WebIO.Asset[], Dict{Any,Any}(), WebIO.ConnectionPool(Channel{Any}(sz_max:32,sz_curr:0), Set{WebIO.AbstractConnection}(), Base.GenericCondition{Base.AlwaysLockedST}(Base.InvasiveLinkedList{Task}(Task (runnable) @0x000000011efb0d90, Task (runnable) @0x000000011efb0d90), Base.AlwaysLockedST(1))), WebIO.JSString[])"
      ]
     },
     "execution_count": 4,
     "metadata": {
      "application/vnd.webio.node+json": {
       "kernelId": "b3962c25-c302-46d3-8907-86a3f30bc345"
      }
     },
     "output_type": "execute_result"
    }
   ],
   "source": [
    "CS_degree_plan = read_csv(\"Univ_of_Arizona-CS.csv\")\n",
    "visualize(CS_degree_plan, notebook=true, scale=0.8)"
   ]
  },
  {
   "cell_type": "code",
   "execution_count": 5,
   "metadata": {},
   "outputs": [
    {
     "data": {
      "application/vnd.webio.node+json": {
       "children": [
        {
         "children": [
          ""
         ],
         "instanceArgs": {
          "namespace": "html",
          "tag": "iframe"
         },
         "nodeType": "DOM",
         "props": {
          "events": {
           "load": "(function (){this.contentWindow.postMessage({\"options\":{\"hideTerms\":false,\"edit\":false},\"curriculum\":{\"name\":\"Electrical Engineering\",\"dp_name\":\"2017-18 Plan\",\"curriculum_terms\":[{\"name\":\"Term 1\",\"curriculum_items\":[{\"curriculum_requisites\":[],\"name\":\" \",\"metrics\":{\"centrality\":0,\"complexity\":9.0,\"blocking factor\":4,\"delay factor\":5.0},\"nameSub\":\"CHEM 1310\",\"id\":1,\"credits\":4,\"nameCanonical\":\"\"},{\"curriculum_requisites\":[],\"name\":\" \",\"metrics\":{\"centrality\":0,\"complexity\":23.0,\"blocking factor\":15,\"delay factor\":8.0},\"nameSub\":\"MATH 1551\",\"id\":2,\"credits\":2,\"nameCanonical\":\"\"},{\"curriculum_requisites\":[],\"name\":\" \",\"metrics\":{\"centrality\":0,\"complexity\":16.0,\"blocking factor\":10,\"delay factor\":6.0},\"nameSub\":\"MATH 1553\",\"id\":3,\"credits\":2,\"nameCanonical\":\"\"},{\"curriculum_requisites\":[],\"name\":\" \",\"metrics\":{\"centrality\":0,\"complexity\":17.0,\"blocking factor\":10,\"delay factor\":7.0},\"nameSub\":\"CS 1371\",\"id\":4,\"credits\":3,\"nameCanonical\":\"\"},{\"curriculum_requisites\":[],\"name\":\" \",\"metrics\":{\"centrality\":0,\"complexity\":1.0,\"blocking factor\":0,\"delay factor\":1.0},\"nameSub\":\"Wellness Elective\",\"id\":5,\"credits\":3,\"nameCanonical\":\"\"},{\"curriculum_requisites\":[],\"name\":\" \",\"metrics\":{\"centrality\":0,\"complexity\":3.0,\"blocking factor\":1,\"delay factor\":2.0},\"nameSub\":\"ENGL 1101\",\"id\":6,\"credits\":3,\"nameCanonical\":\"\"}],\"id\":1},{\"name\":\"Term 2\",\"curriculum_items\":[{\"curriculum_requisites\":[{\"source_id\":2,\"target_id\":7,\"type\":\"CurriculumPrerequisite\"}],\"name\":\" \",\"metrics\":{\"centrality\":29,\"complexity\":17.0,\"blocking factor\":9,\"delay factor\":8.0},\"nameSub\":\"PHYS 2211\",\"id\":7,\"credits\":4,\"nameCanonical\":\"\"},{\"curriculum_requisites\":[{\"source_id\":2,\"target_id\":8,\"type\":\"CurriculumPrerequisite\"}],\"name\":\" \",\"metrics\":{\"centrality\":34,\"complexity\":17.0,\"blocking factor\":10,\"delay factor\":7.0},\"nameSub\":\"MATH 1552\",\"id\":8,\"credits\":4,\"nameCanonical\":\"\"},{\"curriculum_requisites\":[{\"source_id\":4,\"target_id\":9,\"type\":\"CurriculumPrerequisite\"}],\"name\":\" \",\"metrics\":{\"centrality\":11,\"complexity\":13.0,\"blocking factor\":6,\"delay factor\":7.0},\"nameSub\":\"ECE 2020\",\"id\":9,\"credits\":3,\"nameCanonical\":\"\"},{\"curriculum_requisites\":[],\"name\":\" \",\"metrics\":{\"centrality\":0,\"complexity\":1.0,\"blocking factor\":0,\"delay factor\":1.0},\"nameSub\":\"History/Government Elective\",\"id\":10,\"credits\":3,\"nameCanonical\":\"\"},{\"curriculum_requisites\":[{\"source_id\":6,\"target_id\":11,\"type\":\"CurriculumPrerequisite\"}],\"name\":\" \",\"metrics\":{\"centrality\":0,\"complexity\":2.0,\"blocking factor\":0,\"delay factor\":2.0},\"nameSub\":\"ENGL 1102\",\"id\":11,\"credits\":3,\"nameCanonical\":\"\"}],\"id\":2},{\"name\":\"Term 3\",\"curriculum_items\":[{\"curriculum_requisites\":[{\"source_id\":7,\"target_id\":12,\"type\":\"CurriculumPrerequisite\"}],\"name\":\" \",\"metrics\":{\"centrality\":29,\"complexity\":16.0,\"blocking factor\":8,\"delay factor\":8.0},\"nameSub\":\"PHYS 2212\",\"id\":12,\"credits\":4,\"nameCanonical\":\"\"},{\"curriculum_requisites\":[{\"source_id\":3,\"target_id\":13,\"type\":\"CurriculumPrerequisite\"},{\"source_id\":8,\"target_id\":13,\"type\":\"CurriculumPrerequisite\"}],\"name\":\" \",\"metrics\":{\"centrality\":0,\"complexity\":3.0,\"blocking factor\":0,\"delay factor\":3.0},\"nameSub\":\"MATH 2552\",\"id\":13,\"credits\":4,\"nameCanonical\":\"\"},{\"curriculum_requisites\":[{\"source_id\":4,\"target_id\":14,\"type\":\"CurriculumPrerequisite\"},{\"source_id\":3,\"target_id\":14,\"type\":\"CurriculumPrerequisite\"},{\"source_id\":8,\"target_id\":14,\"type\":\"CurriculumPrerequisite\"}],\"name\":\" \",\"metrics\":{\"centrality\":32,\"complexity\":10.0,\"blocking factor\":4,\"delay factor\":6.0},\"nameSub\":\"ECE 2026\",\"id\":14,\"credits\":3,\"nameCanonical\":\"\"},{\"curriculum_requisites\":[],\"name\":\" \",\"metrics\":{\"centrality\":0,\"complexity\":5.0,\"blocking factor\":2,\"delay factor\":3.0},\"nameSub\":\"Economics Elective\",\"id\":15,\"credits\":3,\"nameCanonical\":\"\"},{\"curriculum_requisites\":[],\"name\":\" \",\"metrics\":{\"centrality\":0,\"complexity\":1.0,\"blocking factor\":0,\"delay factor\":1.0},\"nameSub\":\"Social Sciences Elective\",\"id\":16,\"credits\":3,\"nameCanonical\":\"\"}],\"id\":3},{\"name\":\"Term 4\",\"curriculum_items\":[{\"curriculum_requisites\":[],\"name\":\" \",\"metrics\":{\"centrality\":0,\"complexity\":1.0,\"blocking factor\":0,\"delay factor\":1.0},\"nameSub\":\"Science Elective\",\"id\":17,\"credits\":3,\"nameCanonical\":\"\"},{\"curriculum_requisites\":[{\"source_id\":3,\"target_id\":18,\"type\":\"CurriculumPrerequisite\"},{\"source_id\":8,\"target_id\":18,\"type\":\"CurriculumPrerequisite\"}],\"name\":\" \",\"metrics\":{\"centrality\":35,\"complexity\":13.0,\"blocking factor\":6,\"delay factor\":7.0},\"nameSub\":\"MATH 2551\",\"id\":18,\"credits\":4,\"nameCanonical\":\"\"},{\"curriculum_requisites\":[{\"source_id\":12,\"target_id\":19,\"type\":\"CurriculumPrerequisite\"}],\"name\":\" \",\"metrics\":{\"centrality\":29,\"complexity\":15.0,\"blocking factor\":7,\"delay factor\":8.0},\"nameSub\":\"ECE 2040\",\"id\":19,\"credits\":3,\"nameCanonical\":\"\"},{\"curriculum_requisites\":[{\"source_id\":9,\"target_id\":20,\"type\":\"CurriculumPrerequisite\"}],\"name\":\" \",\"metrics\":{\"centrality\":11,\"complexity\":12.0,\"blocking factor\":5,\"delay factor\":7.0},\"nameSub\":\"ECE 2031\",\"id\":20,\"credits\":2,\"nameCanonical\":\"\"},{\"curriculum_requisites\":[{\"source_id\":20,\"target_id\":21,\"type\":\"CurriculumCorequisite\"}],\"name\":\" \",\"metrics\":{\"centrality\":0,\"complexity\":4.0,\"blocking factor\":0,\"delay factor\":4.0},\"nameSub\":\"Programming Elective\",\"id\":21,\"credits\":3,\"nameCanonical\":\"\"}],\"id\":4},{\"name\":\"Term 5\",\"curriculum_items\":[{\"curriculum_requisites\":[],\"name\":\" \",\"metrics\":{\"centrality\":0,\"complexity\":1.0,\"blocking factor\":0,\"delay factor\":1.0},\"nameSub\":\"Humanities Elective\",\"id\":22,\"credits\":3,\"nameCanonical\":\"\"},{\"curriculum_requisites\":[{\"source_id\":20,\"target_id\":23,\"type\":\"CurriculumPrerequisite\"},{\"source_id\":1,\"target_id\":23,\"type\":\"CurriculumPrerequisite\"},{\"source_id\":19,\"target_id\":23,\"type\":\"CurriculumPrerequisite\"},{\"source_id\":18,\"target_id\":23,\"type\":\"CurriculumPrerequisite\"}],\"name\":\" \",\"metrics\":{\"centrality\":33,\"complexity\":11.0,\"blocking factor\":3,\"delay factor\":8.0},\"nameSub\":\"ECE 3040\",\"id\":23,\"credits\":4,\"nameCanonical\":\"\"},{\"curriculum_requisites\":[{\"source_id\":23,\"target_id\":24,\"type\":\"CurriculumCorequisite\"}],\"name\":\" \",\"metrics\":{\"centrality\":33,\"complexity\":10.0,\"blocking factor\":2,\"delay factor\":8.0},\"nameSub\":\"ECE 3043\",\"id\":24,\"credits\":2,\"nameCanonical\":\"\"},{\"curriculum_requisites\":[{\"source_id\":14,\"target_id\":25,\"type\":\"CurriculumPrerequisite\"},{\"source_id\":19,\"target_id\":25,\"type\":\"CurriculumPrerequisite\"},{\"source_id\":18,\"target_id\":25,\"type\":\"CurriculumPrerequisite\"}],\"name\":\" \",\"metrics\":{\"centrality\":34,\"complexity\":9.0,\"blocking factor\":2,\"delay factor\":7.0},\"nameSub\":\"ECE 3025\",\"id\":25,\"credits\":3,\"nameCanonical\":\"\"},{\"curriculum_requisites\":[{\"source_id\":14,\"target_id\":26,\"type\":\"CurriculumPrerequisite\"},{\"source_id\":19,\"target_id\":26,\"type\":\"CurriculumPrerequisite\"}],\"name\":\" \",\"metrics\":{\"centrality\":23,\"complexity\":9.0,\"blocking factor\":2,\"delay factor\":7.0},\"nameSub\":\"ECE 3084\",\"id\":26,\"credits\":3,\"nameCanonical\":\"\"},{\"curriculum_requisites\":[],\"name\":\" \",\"metrics\":{\"centrality\":0,\"complexity\":1.0,\"blocking factor\":0,\"delay factor\":1.0},\"nameSub\":\"Social Sciences Elective\",\"id\":27,\"credits\":3,\"nameCanonical\":\"\"}],\"id\":5},{\"name\":\"Term 6\",\"curriculum_items\":[{\"curriculum_requisites\":[],\"name\":\" \",\"metrics\":{\"centrality\":0,\"complexity\":1.0,\"blocking factor\":0,\"delay factor\":1.0},\"nameSub\":\"ECE/Approved Engineering Elective\",\"id\":28,\"credits\":3,\"nameCanonical\":\"\"},{\"curriculum_requisites\":[{\"source_id\":18,\"target_id\":29,\"type\":\"CurriculumPrerequisite\"}],\"name\":\" \",\"metrics\":{\"centrality\":11,\"complexity\":8.0,\"blocking factor\":2,\"delay factor\":6.0},\"nameSub\":\"Prob/Stat ECE/App/Engr Elective\",\"id\":29,\"credits\":3,\"nameCanonical\":\"\"},{\"curriculum_requisites\":[],\"name\":\" \",\"metrics\":{\"centrality\":0,\"complexity\":1.0,\"blocking factor\":0,\"delay factor\":1.0},\"nameSub\":\"ECE Elective\",\"id\":30,\"credits\":3,\"nameCanonical\":\"\"},{\"curriculum_requisites\":[],\"name\":\" \",\"metrics\":{\"centrality\":0,\"complexity\":1.0,\"blocking factor\":0,\"delay factor\":1.0},\"nameSub\":\"ECE Elective\",\"id\":31,\"credits\":3,\"nameCanonical\":\"\"},{\"curriculum_requisites\":[{\"source_id\":19,\"target_id\":32,\"type\":\"CurriculumPrerequisite\"}],\"name\":\" \",\"metrics\":{\"centrality\":7,\"complexity\":9.0,\"blocking factor\":2,\"delay factor\":7.0},\"nameSub\":\"ECE 3072\",\"id\":32,\"credits\":3,\"nameCanonical\":\"\"},{\"curriculum_requisites\":[],\"name\":\" \",\"metrics\":{\"centrality\":0,\"complexity\":1.0,\"blocking factor\":0,\"delay factor\":1.0},\"nameSub\":\"Approved Elective\",\"id\":33,\"credits\":3,\"nameCanonical\":\"\"}],\"id\":6},{\"name\":\"Term 7\",\"curriculum_items\":[{\"curriculum_requisites\":[],\"name\":\" \",\"metrics\":{\"centrality\":0,\"complexity\":1.0,\"blocking factor\":0,\"delay factor\":1.0},\"nameSub\":\"Engineering Elective\",\"id\":34,\"credits\":3,\"nameCanonical\":\"\"},{\"curriculum_requisites\":[],\"name\":\" \",\"metrics\":{\"centrality\":0,\"complexity\":1.0,\"blocking factor\":0,\"delay factor\":1.0},\"nameSub\":\"ECE Elective\",\"id\":35,\"credits\":3,\"nameCanonical\":\"\"},{\"curriculum_requisites\":[{\"source_id\":26,\"target_id\":36,\"type\":\"CurriculumPrerequisite\"},{\"source_id\":25,\"target_id\":36,\"type\":\"CurriculumPrerequisite\"},{\"source_id\":32,\"target_id\":36,\"type\":\"CurriculumPrerequisite\"},{\"source_id\":29,\"target_id\":36,\"type\":\"CurriculumPrerequisite\"},{\"source_id\":15,\"target_id\":36,\"type\":\"CurriculumPrerequisite\"},{\"source_id\":24,\"target_id\":36,\"type\":\"CurriculumPrerequisite\"}],\"name\":\" \",\"metrics\":{\"centrality\":111,\"complexity\":9.0,\"blocking factor\":1,\"delay factor\":8.0},\"nameSub\":\"ECE 4011\",\"id\":36,\"credits\":2,\"nameCanonical\":\"\"},{\"curriculum_requisites\":[],\"name\":\" \",\"metrics\":{\"centrality\":0,\"complexity\":1.0,\"blocking factor\":0,\"delay factor\":1.0},\"nameSub\":\"ECE 4XXX Elective\",\"id\":37,\"credits\":3,\"nameCanonical\":\"\"},{\"curriculum_requisites\":[],\"name\":\" \",\"metrics\":{\"centrality\":0,\"complexity\":1.0,\"blocking factor\":0,\"delay factor\":1.0},\"nameSub\":\"ECE 4XXX Lab Elective\",\"id\":38,\"credits\":3,\"nameCanonical\":\"\"},{\"curriculum_requisites\":[],\"name\":\" \",\"metrics\":{\"centrality\":0,\"complexity\":1.0,\"blocking factor\":0,\"delay factor\":1.0},\"nameSub\":\"Approved Elective\",\"id\":39,\"credits\":3,\"nameCanonical\":\"\"}],\"id\":7},{\"name\":\"Term 8\",\"curriculum_items\":[{\"curriculum_requisites\":[],\"name\":\" \",\"metrics\":{\"centrality\":0,\"complexity\":1.0,\"blocking factor\":0,\"delay factor\":1.0},\"nameSub\":\"Humanities Elective\",\"id\":40,\"credits\":3,\"nameCanonical\":\"\"},{\"curriculum_requisites\":[{\"source_id\":36,\"target_id\":41,\"type\":\"CurriculumPrerequisite\"}],\"name\":\" \",\"metrics\":{\"centrality\":0,\"complexity\":8.0,\"blocking factor\":0,\"delay factor\":8.0},\"nameSub\":\"ECE 4012\",\"id\":41,\"credits\":3,\"nameCanonical\":\"\"},{\"curriculum_requisites\":[],\"name\":\" \",\"metrics\":{\"centrality\":0,\"complexity\":1.0,\"blocking factor\":0,\"delay factor\":1.0},\"nameSub\":\"ECE 4XXX Elective\",\"id\":42,\"credits\":3,\"nameCanonical\":\"\"},{\"curriculum_requisites\":[],\"name\":\" \",\"metrics\":{\"centrality\":0,\"complexity\":1.0,\"blocking factor\":0,\"delay factor\":1.0},\"nameSub\":\"Approved Elective\",\"id\":43,\"credits\":3,\"nameCanonical\":\"\"},{\"curriculum_requisites\":[],\"name\":\" \",\"metrics\":{\"centrality\":0,\"complexity\":1.0,\"blocking factor\":0,\"delay factor\":1.0},\"nameSub\":\"Approved Elective\",\"id\":44,\"credits\":3,\"nameCanonical\":\"\"}],\"id\":8}],\"institution\":\"Georgia Institute of Technology\"}},\"*\"); window.removeEventListener(\"message\",window.messageReceived); window.messageReceived=(function (event){return (event.data.curriculum!==undefined) ? (WebIO.setval({\"name\":\"curriculum-data\",\"scope\":\"9694601150803625278\",\"id\":\"14350599914631112759\",\"type\":\"observable\"},event.data.curriculum)) : undefined}); return window.addEventListener(\"message\",window.messageReceived)})"
          },
          "id": "curriculum",
          "src": "http://localhost:8156",
          "style": {
           "border": "none",
           "height": "100vh",
           "margin": "0",
           "padding": "0",
           "width": "100%"
          }
         },
         "type": "node"
        }
       ],
       "instanceArgs": {
        "handlers": {},
        "id": "9694601150803625278",
        "imports": {
         "data": [],
         "type": "async_block"
        },
        "mount_callbacks": [],
        "observables": {
         "curriculum-data": {
          "id": "14350599914631112759",
          "sync": true,
          "value": {
           "curriculum": {
            "curriculum_terms": [
             {
              "curriculum_items": [
               {
                "credits": 4,
                "curriculum_requisites": [],
                "id": 1,
                "metrics": {
                 "blocking factor": 4,
                 "centrality": 0,
                 "complexity": 9,
                 "delay factor": 5
                },
                "name": " ",
                "nameCanonical": "",
                "nameSub": "CHEM 1310"
               },
               {
                "credits": 2,
                "curriculum_requisites": [],
                "id": 2,
                "metrics": {
                 "blocking factor": 15,
                 "centrality": 0,
                 "complexity": 23,
                 "delay factor": 8
                },
                "name": " ",
                "nameCanonical": "",
                "nameSub": "MATH 1551"
               },
               {
                "credits": 2,
                "curriculum_requisites": [],
                "id": 3,
                "metrics": {
                 "blocking factor": 10,
                 "centrality": 0,
                 "complexity": 16,
                 "delay factor": 6
                },
                "name": " ",
                "nameCanonical": "",
                "nameSub": "MATH 1553"
               },
               {
                "credits": 3,
                "curriculum_requisites": [],
                "id": 4,
                "metrics": {
                 "blocking factor": 10,
                 "centrality": 0,
                 "complexity": 17,
                 "delay factor": 7
                },
                "name": " ",
                "nameCanonical": "",
                "nameSub": "CS 1371"
               },
               {
                "credits": 3,
                "curriculum_requisites": [],
                "id": 5,
                "metrics": {
                 "blocking factor": 0,
                 "centrality": 0,
                 "complexity": 1,
                 "delay factor": 1
                },
                "name": " ",
                "nameCanonical": "",
                "nameSub": "Wellness Elective"
               },
               {
                "credits": 3,
                "curriculum_requisites": [],
                "id": 6,
                "metrics": {
                 "blocking factor": 1,
                 "centrality": 0,
                 "complexity": 3,
                 "delay factor": 2
                },
                "name": " ",
                "nameCanonical": "",
                "nameSub": "ENGL 1101"
               }
              ],
              "id": 1,
              "name": "Term 1"
             },
             {
              "curriculum_items": [
               {
                "credits": 4,
                "curriculum_requisites": [
                 {
                  "source_id": 2,
                  "target_id": 7,
                  "type": "CurriculumPrerequisite"
                 }
                ],
                "id": 7,
                "metrics": {
                 "blocking factor": 9,
                 "centrality": 29,
                 "complexity": 17,
                 "delay factor": 8
                },
                "name": " ",
                "nameCanonical": "",
                "nameSub": "PHYS 2211"
               },
               {
                "credits": 4,
                "curriculum_requisites": [
                 {
                  "source_id": 2,
                  "target_id": 8,
                  "type": "CurriculumPrerequisite"
                 }
                ],
                "id": 8,
                "metrics": {
                 "blocking factor": 10,
                 "centrality": 34,
                 "complexity": 17,
                 "delay factor": 7
                },
                "name": " ",
                "nameCanonical": "",
                "nameSub": "MATH 1552"
               },
               {
                "credits": 3,
                "curriculum_requisites": [
                 {
                  "source_id": 4,
                  "target_id": 9,
                  "type": "CurriculumPrerequisite"
                 }
                ],
                "id": 9,
                "metrics": {
                 "blocking factor": 6,
                 "centrality": 11,
                 "complexity": 13,
                 "delay factor": 7
                },
                "name": " ",
                "nameCanonical": "",
                "nameSub": "ECE 2020"
               },
               {
                "credits": 3,
                "curriculum_requisites": [],
                "id": 10,
                "metrics": {
                 "blocking factor": 0,
                 "centrality": 0,
                 "complexity": 1,
                 "delay factor": 1
                },
                "name": " ",
                "nameCanonical": "",
                "nameSub": "History/Government Elective"
               },
               {
                "credits": 3,
                "curriculum_requisites": [
                 {
                  "source_id": 6,
                  "target_id": 11,
                  "type": "CurriculumPrerequisite"
                 }
                ],
                "id": 11,
                "metrics": {
                 "blocking factor": 0,
                 "centrality": 0,
                 "complexity": 2,
                 "delay factor": 2
                },
                "name": " ",
                "nameCanonical": "",
                "nameSub": "ENGL 1102"
               }
              ],
              "id": 2,
              "name": "Term 2"
             },
             {
              "curriculum_items": [
               {
                "credits": 4,
                "curriculum_requisites": [
                 {
                  "source_id": 7,
                  "target_id": 12,
                  "type": "CurriculumPrerequisite"
                 }
                ],
                "id": 12,
                "metrics": {
                 "blocking factor": 8,
                 "centrality": 29,
                 "complexity": 16,
                 "delay factor": 8
                },
                "name": " ",
                "nameCanonical": "",
                "nameSub": "PHYS 2212"
               },
               {
                "credits": 4,
                "curriculum_requisites": [
                 {
                  "source_id": 3,
                  "target_id": 13,
                  "type": "CurriculumPrerequisite"
                 },
                 {
                  "source_id": 8,
                  "target_id": 13,
                  "type": "CurriculumPrerequisite"
                 }
                ],
                "id": 13,
                "metrics": {
                 "blocking factor": 0,
                 "centrality": 0,
                 "complexity": 3,
                 "delay factor": 3
                },
                "name": " ",
                "nameCanonical": "",
                "nameSub": "MATH 2552"
               },
               {
                "credits": 3,
                "curriculum_requisites": [
                 {
                  "source_id": 4,
                  "target_id": 14,
                  "type": "CurriculumPrerequisite"
                 },
                 {
                  "source_id": 3,
                  "target_id": 14,
                  "type": "CurriculumPrerequisite"
                 },
                 {
                  "source_id": 8,
                  "target_id": 14,
                  "type": "CurriculumPrerequisite"
                 }
                ],
                "id": 14,
                "metrics": {
                 "blocking factor": 4,
                 "centrality": 32,
                 "complexity": 10,
                 "delay factor": 6
                },
                "name": " ",
                "nameCanonical": "",
                "nameSub": "ECE 2026"
               },
               {
                "credits": 3,
                "curriculum_requisites": [],
                "id": 15,
                "metrics": {
                 "blocking factor": 2,
                 "centrality": 0,
                 "complexity": 5,
                 "delay factor": 3
                },
                "name": " ",
                "nameCanonical": "",
                "nameSub": "Economics Elective"
               },
               {
                "credits": 3,
                "curriculum_requisites": [],
                "id": 16,
                "metrics": {
                 "blocking factor": 0,
                 "centrality": 0,
                 "complexity": 1,
                 "delay factor": 1
                },
                "name": " ",
                "nameCanonical": "",
                "nameSub": "Social Sciences Elective"
               }
              ],
              "id": 3,
              "name": "Term 3"
             },
             {
              "curriculum_items": [
               {
                "credits": 3,
                "curriculum_requisites": [],
                "id": 17,
                "metrics": {
                 "blocking factor": 0,
                 "centrality": 0,
                 "complexity": 1,
                 "delay factor": 1
                },
                "name": " ",
                "nameCanonical": "",
                "nameSub": "Science Elective"
               },
               {
                "credits": 4,
                "curriculum_requisites": [
                 {
                  "source_id": 3,
                  "target_id": 18,
                  "type": "CurriculumPrerequisite"
                 },
                 {
                  "source_id": 8,
                  "target_id": 18,
                  "type": "CurriculumPrerequisite"
                 }
                ],
                "id": 18,
                "metrics": {
                 "blocking factor": 6,
                 "centrality": 35,
                 "complexity": 13,
                 "delay factor": 7
                },
                "name": " ",
                "nameCanonical": "",
                "nameSub": "MATH 2551"
               },
               {
                "credits": 3,
                "curriculum_requisites": [
                 {
                  "source_id": 12,
                  "target_id": 19,
                  "type": "CurriculumPrerequisite"
                 }
                ],
                "id": 19,
                "metrics": {
                 "blocking factor": 7,
                 "centrality": 29,
                 "complexity": 15,
                 "delay factor": 8
                },
                "name": " ",
                "nameCanonical": "",
                "nameSub": "ECE 2040"
               },
               {
                "credits": 2,
                "curriculum_requisites": [
                 {
                  "source_id": 9,
                  "target_id": 20,
                  "type": "CurriculumPrerequisite"
                 }
                ],
                "id": 20,
                "metrics": {
                 "blocking factor": 5,
                 "centrality": 11,
                 "complexity": 12,
                 "delay factor": 7
                },
                "name": " ",
                "nameCanonical": "",
                "nameSub": "ECE 2031"
               },
               {
                "credits": 3,
                "curriculum_requisites": [
                 {
                  "source_id": 20,
                  "target_id": 21,
                  "type": "CurriculumCorequisite"
                 }
                ],
                "id": 21,
                "metrics": {
                 "blocking factor": 0,
                 "centrality": 0,
                 "complexity": 4,
                 "delay factor": 4
                },
                "name": " ",
                "nameCanonical": "",
                "nameSub": "Programming Elective"
               }
              ],
              "id": 4,
              "name": "Term 4"
             },
             {
              "curriculum_items": [
               {
                "credits": 3,
                "curriculum_requisites": [],
                "id": 22,
                "metrics": {
                 "blocking factor": 0,
                 "centrality": 0,
                 "complexity": 1,
                 "delay factor": 1
                },
                "name": " ",
                "nameCanonical": "",
                "nameSub": "Humanities Elective"
               },
               {
                "credits": 4,
                "curriculum_requisites": [
                 {
                  "source_id": 20,
                  "target_id": 23,
                  "type": "CurriculumPrerequisite"
                 },
                 {
                  "source_id": 1,
                  "target_id": 23,
                  "type": "CurriculumPrerequisite"
                 },
                 {
                  "source_id": 19,
                  "target_id": 23,
                  "type": "CurriculumPrerequisite"
                 },
                 {
                  "source_id": 18,
                  "target_id": 23,
                  "type": "CurriculumPrerequisite"
                 }
                ],
                "id": 23,
                "metrics": {
                 "blocking factor": 3,
                 "centrality": 33,
                 "complexity": 11,
                 "delay factor": 8
                },
                "name": " ",
                "nameCanonical": "",
                "nameSub": "ECE 3040"
               },
               {
                "credits": 2,
                "curriculum_requisites": [
                 {
                  "source_id": 23,
                  "target_id": 24,
                  "type": "CurriculumCorequisite"
                 }
                ],
                "id": 24,
                "metrics": {
                 "blocking factor": 2,
                 "centrality": 33,
                 "complexity": 10,
                 "delay factor": 8
                },
                "name": " ",
                "nameCanonical": "",
                "nameSub": "ECE 3043"
               },
               {
                "credits": 3,
                "curriculum_requisites": [
                 {
                  "source_id": 14,
                  "target_id": 25,
                  "type": "CurriculumPrerequisite"
                 },
                 {
                  "source_id": 19,
                  "target_id": 25,
                  "type": "CurriculumPrerequisite"
                 },
                 {
                  "source_id": 18,
                  "target_id": 25,
                  "type": "CurriculumPrerequisite"
                 }
                ],
                "id": 25,
                "metrics": {
                 "blocking factor": 2,
                 "centrality": 34,
                 "complexity": 9,
                 "delay factor": 7
                },
                "name": " ",
                "nameCanonical": "",
                "nameSub": "ECE 3025"
               },
               {
                "credits": 3,
                "curriculum_requisites": [
                 {
                  "source_id": 14,
                  "target_id": 26,
                  "type": "CurriculumPrerequisite"
                 },
                 {
                  "source_id": 19,
                  "target_id": 26,
                  "type": "CurriculumPrerequisite"
                 }
                ],
                "id": 26,
                "metrics": {
                 "blocking factor": 2,
                 "centrality": 23,
                 "complexity": 9,
                 "delay factor": 7
                },
                "name": " ",
                "nameCanonical": "",
                "nameSub": "ECE 3084"
               },
               {
                "credits": 3,
                "curriculum_requisites": [],
                "id": 27,
                "metrics": {
                 "blocking factor": 0,
                 "centrality": 0,
                 "complexity": 1,
                 "delay factor": 1
                },
                "name": " ",
                "nameCanonical": "",
                "nameSub": "Social Sciences Elective"
               }
              ],
              "id": 5,
              "name": "Term 5"
             },
             {
              "curriculum_items": [
               {
                "credits": 3,
                "curriculum_requisites": [],
                "id": 28,
                "metrics": {
                 "blocking factor": 0,
                 "centrality": 0,
                 "complexity": 1,
                 "delay factor": 1
                },
                "name": " ",
                "nameCanonical": "",
                "nameSub": "ECE/Approved Engineering Elective"
               },
               {
                "credits": 3,
                "curriculum_requisites": [
                 {
                  "source_id": 18,
                  "target_id": 29,
                  "type": "CurriculumPrerequisite"
                 }
                ],
                "id": 29,
                "metrics": {
                 "blocking factor": 2,
                 "centrality": 11,
                 "complexity": 8,
                 "delay factor": 6
                },
                "name": " ",
                "nameCanonical": "",
                "nameSub": "Prob/Stat ECE/App/Engr Elective"
               },
               {
                "credits": 3,
                "curriculum_requisites": [],
                "id": 30,
                "metrics": {
                 "blocking factor": 0,
                 "centrality": 0,
                 "complexity": 1,
                 "delay factor": 1
                },
                "name": " ",
                "nameCanonical": "",
                "nameSub": "ECE Elective"
               },
               {
                "credits": 3,
                "curriculum_requisites": [],
                "id": 31,
                "metrics": {
                 "blocking factor": 0,
                 "centrality": 0,
                 "complexity": 1,
                 "delay factor": 1
                },
                "name": " ",
                "nameCanonical": "",
                "nameSub": "ECE Elective"
               },
               {
                "credits": 3,
                "curriculum_requisites": [
                 {
                  "source_id": 19,
                  "target_id": 32,
                  "type": "CurriculumPrerequisite"
                 }
                ],
                "id": 32,
                "metrics": {
                 "blocking factor": 2,
                 "centrality": 7,
                 "complexity": 9,
                 "delay factor": 7
                },
                "name": " ",
                "nameCanonical": "",
                "nameSub": "ECE 3072"
               },
               {
                "credits": 3,
                "curriculum_requisites": [],
                "id": 33,
                "metrics": {
                 "blocking factor": 0,
                 "centrality": 0,
                 "complexity": 1,
                 "delay factor": 1
                },
                "name": " ",
                "nameCanonical": "",
                "nameSub": "Approved Elective"
               }
              ],
              "id": 6,
              "name": "Term 6"
             },
             {
              "curriculum_items": [
               {
                "credits": 3,
                "curriculum_requisites": [],
                "id": 34,
                "metrics": {
                 "blocking factor": 0,
                 "centrality": 0,
                 "complexity": 1,
                 "delay factor": 1
                },
                "name": " ",
                "nameCanonical": "",
                "nameSub": "Engineering Elective"
               },
               {
                "credits": 3,
                "curriculum_requisites": [],
                "id": 35,
                "metrics": {
                 "blocking factor": 0,
                 "centrality": 0,
                 "complexity": 1,
                 "delay factor": 1
                },
                "name": " ",
                "nameCanonical": "",
                "nameSub": "ECE Elective"
               },
               {
                "credits": 2,
                "curriculum_requisites": [
                 {
                  "source_id": 26,
                  "target_id": 36,
                  "type": "CurriculumPrerequisite"
                 },
                 {
                  "source_id": 25,
                  "target_id": 36,
                  "type": "CurriculumPrerequisite"
                 },
                 {
                  "source_id": 32,
                  "target_id": 36,
                  "type": "CurriculumPrerequisite"
                 },
                 {
                  "source_id": 29,
                  "target_id": 36,
                  "type": "CurriculumPrerequisite"
                 },
                 {
                  "source_id": 15,
                  "target_id": 36,
                  "type": "CurriculumPrerequisite"
                 },
                 {
                  "source_id": 24,
                  "target_id": 36,
                  "type": "CurriculumPrerequisite"
                 }
                ],
                "id": 36,
                "metrics": {
                 "blocking factor": 1,
                 "centrality": 111,
                 "complexity": 9,
                 "delay factor": 8
                },
                "name": " ",
                "nameCanonical": "",
                "nameSub": "ECE 4011"
               },
               {
                "credits": 3,
                "curriculum_requisites": [],
                "id": 37,
                "metrics": {
                 "blocking factor": 0,
                 "centrality": 0,
                 "complexity": 1,
                 "delay factor": 1
                },
                "name": " ",
                "nameCanonical": "",
                "nameSub": "ECE 4XXX Elective"
               },
               {
                "credits": 3,
                "curriculum_requisites": [],
                "id": 38,
                "metrics": {
                 "blocking factor": 0,
                 "centrality": 0,
                 "complexity": 1,
                 "delay factor": 1
                },
                "name": " ",
                "nameCanonical": "",
                "nameSub": "ECE 4XXX Lab Elective"
               },
               {
                "credits": 3,
                "curriculum_requisites": [],
                "id": 39,
                "metrics": {
                 "blocking factor": 0,
                 "centrality": 0,
                 "complexity": 1,
                 "delay factor": 1
                },
                "name": " ",
                "nameCanonical": "",
                "nameSub": "Approved Elective"
               }
              ],
              "id": 7,
              "name": "Term 7"
             },
             {
              "curriculum_items": [
               {
                "credits": 3,
                "curriculum_requisites": [],
                "id": 40,
                "metrics": {
                 "blocking factor": 0,
                 "centrality": 0,
                 "complexity": 1,
                 "delay factor": 1
                },
                "name": " ",
                "nameCanonical": "",
                "nameSub": "Humanities Elective"
               },
               {
                "credits": 3,
                "curriculum_requisites": [
                 {
                  "source_id": 36,
                  "target_id": 41,
                  "type": "CurriculumPrerequisite"
                 }
                ],
                "id": 41,
                "metrics": {
                 "blocking factor": 0,
                 "centrality": 0,
                 "complexity": 8,
                 "delay factor": 8
                },
                "name": " ",
                "nameCanonical": "",
                "nameSub": "ECE 4012"
               },
               {
                "credits": 3,
                "curriculum_requisites": [],
                "id": 42,
                "metrics": {
                 "blocking factor": 0,
                 "centrality": 0,
                 "complexity": 1,
                 "delay factor": 1
                },
                "name": " ",
                "nameCanonical": "",
                "nameSub": "ECE 4XXX Elective"
               },
               {
                "credits": 3,
                "curriculum_requisites": [],
                "id": 43,
                "metrics": {
                 "blocking factor": 0,
                 "centrality": 0,
                 "complexity": 1,
                 "delay factor": 1
                },
                "name": " ",
                "nameCanonical": "",
                "nameSub": "Approved Elective"
               },
               {
                "credits": 3,
                "curriculum_requisites": [],
                "id": 44,
                "metrics": {
                 "blocking factor": 0,
                 "centrality": 0,
                 "complexity": 1,
                 "delay factor": 1
                },
                "name": " ",
                "nameCanonical": "",
                "nameSub": "Approved Elective"
               }
              ],
              "id": 8,
              "name": "Term 8"
             }
            ],
            "dp_name": "2017-18 Plan",
            "institution": "Georgia Institute of Technology",
            "name": "Electrical Engineering"
           },
           "options": {
            "edit": false,
            "hideTerms": false
           }
          }
         }
        },
        "systemjs_options": null
       },
       "nodeType": "Scope",
       "props": {},
       "type": "node"
      },
      "text/html": [
       "<div\n",
       "    class=\"webio-mountpoint\"\n",
       "    data-webio-mountpoint=\"2059831875723701607\"\n",
       ">\n",
       "    <script>\n",
       "    if (window.require && require.defined && require.defined(\"nbextensions/webio-jupyter-notebook\")) {\n",
       "        console.log(\"Jupyter WebIO extension detected, not mounting.\");\n",
       "    } else if (window.WebIO) {\n",
       "        WebIO.mount(\n",
       "            document.querySelector('[data-webio-mountpoint=\"2059831875723701607\"]'),\n",
       "            {\"props\":{},\"nodeType\":\"Scope\",\"type\":\"node\",\"instanceArgs\":{\"imports\":{\"data\":[],\"type\":\"async_block\"},\"id\":\"9694601150803625278\",\"handlers\":{},\"systemjs_options\":null,\"mount_callbacks\":[],\"observables\":{\"curriculum-data\":{\"sync\":true,\"id\":\"14350599914631112759\",\"value\":{\"options\":{\"hideTerms\":false,\"edit\":false},\"curriculum\":{\"name\":\"Electrical Engineering\",\"dp_name\":\"2017-18 Plan\",\"curriculum_terms\":[{\"name\":\"Term 1\",\"curriculum_items\":[{\"curriculum_requisites\":[],\"name\":\" \",\"metrics\":{\"centrality\":0,\"complexity\":9.0,\"blocking factor\":4,\"delay factor\":5.0},\"nameSub\":\"CHEM 1310\",\"id\":1,\"credits\":4,\"nameCanonical\":\"\"},{\"curriculum_requisites\":[],\"name\":\" \",\"metrics\":{\"centrality\":0,\"complexity\":23.0,\"blocking factor\":15,\"delay factor\":8.0},\"nameSub\":\"MATH 1551\",\"id\":2,\"credits\":2,\"nameCanonical\":\"\"},{\"curriculum_requisites\":[],\"name\":\" \",\"metrics\":{\"centrality\":0,\"complexity\":16.0,\"blocking factor\":10,\"delay factor\":6.0},\"nameSub\":\"MATH 1553\",\"id\":3,\"credits\":2,\"nameCanonical\":\"\"},{\"curriculum_requisites\":[],\"name\":\" \",\"metrics\":{\"centrality\":0,\"complexity\":17.0,\"blocking factor\":10,\"delay factor\":7.0},\"nameSub\":\"CS 1371\",\"id\":4,\"credits\":3,\"nameCanonical\":\"\"},{\"curriculum_requisites\":[],\"name\":\" \",\"metrics\":{\"centrality\":0,\"complexity\":1.0,\"blocking factor\":0,\"delay factor\":1.0},\"nameSub\":\"Wellness Elective\",\"id\":5,\"credits\":3,\"nameCanonical\":\"\"},{\"curriculum_requisites\":[],\"name\":\" \",\"metrics\":{\"centrality\":0,\"complexity\":3.0,\"blocking factor\":1,\"delay factor\":2.0},\"nameSub\":\"ENGL 1101\",\"id\":6,\"credits\":3,\"nameCanonical\":\"\"}],\"id\":1},{\"name\":\"Term 2\",\"curriculum_items\":[{\"curriculum_requisites\":[{\"source_id\":2,\"target_id\":7,\"type\":\"CurriculumPrerequisite\"}],\"name\":\" \",\"metrics\":{\"centrality\":29,\"complexity\":17.0,\"blocking factor\":9,\"delay factor\":8.0},\"nameSub\":\"PHYS 2211\",\"id\":7,\"credits\":4,\"nameCanonical\":\"\"},{\"curriculum_requisites\":[{\"source_id\":2,\"target_id\":8,\"type\":\"CurriculumPrerequisite\"}],\"name\":\" \",\"metrics\":{\"centrality\":34,\"complexity\":17.0,\"blocking factor\":10,\"delay factor\":7.0},\"nameSub\":\"MATH 1552\",\"id\":8,\"credits\":4,\"nameCanonical\":\"\"},{\"curriculum_requisites\":[{\"source_id\":4,\"target_id\":9,\"type\":\"CurriculumPrerequisite\"}],\"name\":\" \",\"metrics\":{\"centrality\":11,\"complexity\":13.0,\"blocking factor\":6,\"delay factor\":7.0},\"nameSub\":\"ECE 2020\",\"id\":9,\"credits\":3,\"nameCanonical\":\"\"},{\"curriculum_requisites\":[],\"name\":\" \",\"metrics\":{\"centrality\":0,\"complexity\":1.0,\"blocking factor\":0,\"delay factor\":1.0},\"nameSub\":\"History\\/Government Elective\",\"id\":10,\"credits\":3,\"nameCanonical\":\"\"},{\"curriculum_requisites\":[{\"source_id\":6,\"target_id\":11,\"type\":\"CurriculumPrerequisite\"}],\"name\":\" \",\"metrics\":{\"centrality\":0,\"complexity\":2.0,\"blocking factor\":0,\"delay factor\":2.0},\"nameSub\":\"ENGL 1102\",\"id\":11,\"credits\":3,\"nameCanonical\":\"\"}],\"id\":2},{\"name\":\"Term 3\",\"curriculum_items\":[{\"curriculum_requisites\":[{\"source_id\":7,\"target_id\":12,\"type\":\"CurriculumPrerequisite\"}],\"name\":\" \",\"metrics\":{\"centrality\":29,\"complexity\":16.0,\"blocking factor\":8,\"delay factor\":8.0},\"nameSub\":\"PHYS 2212\",\"id\":12,\"credits\":4,\"nameCanonical\":\"\"},{\"curriculum_requisites\":[{\"source_id\":3,\"target_id\":13,\"type\":\"CurriculumPrerequisite\"},{\"source_id\":8,\"target_id\":13,\"type\":\"CurriculumPrerequisite\"}],\"name\":\" \",\"metrics\":{\"centrality\":0,\"complexity\":3.0,\"blocking factor\":0,\"delay factor\":3.0},\"nameSub\":\"MATH 2552\",\"id\":13,\"credits\":4,\"nameCanonical\":\"\"},{\"curriculum_requisites\":[{\"source_id\":4,\"target_id\":14,\"type\":\"CurriculumPrerequisite\"},{\"source_id\":3,\"target_id\":14,\"type\":\"CurriculumPrerequisite\"},{\"source_id\":8,\"target_id\":14,\"type\":\"CurriculumPrerequisite\"}],\"name\":\" \",\"metrics\":{\"centrality\":32,\"complexity\":10.0,\"blocking factor\":4,\"delay factor\":6.0},\"nameSub\":\"ECE 2026\",\"id\":14,\"credits\":3,\"nameCanonical\":\"\"},{\"curriculum_requisites\":[],\"name\":\" \",\"metrics\":{\"centrality\":0,\"complexity\":5.0,\"blocking factor\":2,\"delay factor\":3.0},\"nameSub\":\"Economics Elective\",\"id\":15,\"credits\":3,\"nameCanonical\":\"\"},{\"curriculum_requisites\":[],\"name\":\" \",\"metrics\":{\"centrality\":0,\"complexity\":1.0,\"blocking factor\":0,\"delay factor\":1.0},\"nameSub\":\"Social Sciences Elective\",\"id\":16,\"credits\":3,\"nameCanonical\":\"\"}],\"id\":3},{\"name\":\"Term 4\",\"curriculum_items\":[{\"curriculum_requisites\":[],\"name\":\" \",\"metrics\":{\"centrality\":0,\"complexity\":1.0,\"blocking factor\":0,\"delay factor\":1.0},\"nameSub\":\"Science Elective\",\"id\":17,\"credits\":3,\"nameCanonical\":\"\"},{\"curriculum_requisites\":[{\"source_id\":3,\"target_id\":18,\"type\":\"CurriculumPrerequisite\"},{\"source_id\":8,\"target_id\":18,\"type\":\"CurriculumPrerequisite\"}],\"name\":\" \",\"metrics\":{\"centrality\":35,\"complexity\":13.0,\"blocking factor\":6,\"delay factor\":7.0},\"nameSub\":\"MATH 2551\",\"id\":18,\"credits\":4,\"nameCanonical\":\"\"},{\"curriculum_requisites\":[{\"source_id\":12,\"target_id\":19,\"type\":\"CurriculumPrerequisite\"}],\"name\":\" \",\"metrics\":{\"centrality\":29,\"complexity\":15.0,\"blocking factor\":7,\"delay factor\":8.0},\"nameSub\":\"ECE 2040\",\"id\":19,\"credits\":3,\"nameCanonical\":\"\"},{\"curriculum_requisites\":[{\"source_id\":9,\"target_id\":20,\"type\":\"CurriculumPrerequisite\"}],\"name\":\" \",\"metrics\":{\"centrality\":11,\"complexity\":12.0,\"blocking factor\":5,\"delay factor\":7.0},\"nameSub\":\"ECE 2031\",\"id\":20,\"credits\":2,\"nameCanonical\":\"\"},{\"curriculum_requisites\":[{\"source_id\":20,\"target_id\":21,\"type\":\"CurriculumCorequisite\"}],\"name\":\" \",\"metrics\":{\"centrality\":0,\"complexity\":4.0,\"blocking factor\":0,\"delay factor\":4.0},\"nameSub\":\"Programming Elective\",\"id\":21,\"credits\":3,\"nameCanonical\":\"\"}],\"id\":4},{\"name\":\"Term 5\",\"curriculum_items\":[{\"curriculum_requisites\":[],\"name\":\" \",\"metrics\":{\"centrality\":0,\"complexity\":1.0,\"blocking factor\":0,\"delay factor\":1.0},\"nameSub\":\"Humanities Elective\",\"id\":22,\"credits\":3,\"nameCanonical\":\"\"},{\"curriculum_requisites\":[{\"source_id\":20,\"target_id\":23,\"type\":\"CurriculumPrerequisite\"},{\"source_id\":1,\"target_id\":23,\"type\":\"CurriculumPrerequisite\"},{\"source_id\":19,\"target_id\":23,\"type\":\"CurriculumPrerequisite\"},{\"source_id\":18,\"target_id\":23,\"type\":\"CurriculumPrerequisite\"}],\"name\":\" \",\"metrics\":{\"centrality\":33,\"complexity\":11.0,\"blocking factor\":3,\"delay factor\":8.0},\"nameSub\":\"ECE 3040\",\"id\":23,\"credits\":4,\"nameCanonical\":\"\"},{\"curriculum_requisites\":[{\"source_id\":23,\"target_id\":24,\"type\":\"CurriculumCorequisite\"}],\"name\":\" \",\"metrics\":{\"centrality\":33,\"complexity\":10.0,\"blocking factor\":2,\"delay factor\":8.0},\"nameSub\":\"ECE 3043\",\"id\":24,\"credits\":2,\"nameCanonical\":\"\"},{\"curriculum_requisites\":[{\"source_id\":14,\"target_id\":25,\"type\":\"CurriculumPrerequisite\"},{\"source_id\":19,\"target_id\":25,\"type\":\"CurriculumPrerequisite\"},{\"source_id\":18,\"target_id\":25,\"type\":\"CurriculumPrerequisite\"}],\"name\":\" \",\"metrics\":{\"centrality\":34,\"complexity\":9.0,\"blocking factor\":2,\"delay factor\":7.0},\"nameSub\":\"ECE 3025\",\"id\":25,\"credits\":3,\"nameCanonical\":\"\"},{\"curriculum_requisites\":[{\"source_id\":14,\"target_id\":26,\"type\":\"CurriculumPrerequisite\"},{\"source_id\":19,\"target_id\":26,\"type\":\"CurriculumPrerequisite\"}],\"name\":\" \",\"metrics\":{\"centrality\":23,\"complexity\":9.0,\"blocking factor\":2,\"delay factor\":7.0},\"nameSub\":\"ECE 3084\",\"id\":26,\"credits\":3,\"nameCanonical\":\"\"},{\"curriculum_requisites\":[],\"name\":\" \",\"metrics\":{\"centrality\":0,\"complexity\":1.0,\"blocking factor\":0,\"delay factor\":1.0},\"nameSub\":\"Social Sciences Elective\",\"id\":27,\"credits\":3,\"nameCanonical\":\"\"}],\"id\":5},{\"name\":\"Term 6\",\"curriculum_items\":[{\"curriculum_requisites\":[],\"name\":\" \",\"metrics\":{\"centrality\":0,\"complexity\":1.0,\"blocking factor\":0,\"delay factor\":1.0},\"nameSub\":\"ECE\\/Approved Engineering Elective\",\"id\":28,\"credits\":3,\"nameCanonical\":\"\"},{\"curriculum_requisites\":[{\"source_id\":18,\"target_id\":29,\"type\":\"CurriculumPrerequisite\"}],\"name\":\" \",\"metrics\":{\"centrality\":11,\"complexity\":8.0,\"blocking factor\":2,\"delay factor\":6.0},\"nameSub\":\"Prob\\/Stat ECE\\/App\\/Engr Elective\",\"id\":29,\"credits\":3,\"nameCanonical\":\"\"},{\"curriculum_requisites\":[],\"name\":\" \",\"metrics\":{\"centrality\":0,\"complexity\":1.0,\"blocking factor\":0,\"delay factor\":1.0},\"nameSub\":\"ECE Elective\",\"id\":30,\"credits\":3,\"nameCanonical\":\"\"},{\"curriculum_requisites\":[],\"name\":\" \",\"metrics\":{\"centrality\":0,\"complexity\":1.0,\"blocking factor\":0,\"delay factor\":1.0},\"nameSub\":\"ECE Elective\",\"id\":31,\"credits\":3,\"nameCanonical\":\"\"},{\"curriculum_requisites\":[{\"source_id\":19,\"target_id\":32,\"type\":\"CurriculumPrerequisite\"}],\"name\":\" \",\"metrics\":{\"centrality\":7,\"complexity\":9.0,\"blocking factor\":2,\"delay factor\":7.0},\"nameSub\":\"ECE 3072\",\"id\":32,\"credits\":3,\"nameCanonical\":\"\"},{\"curriculum_requisites\":[],\"name\":\" \",\"metrics\":{\"centrality\":0,\"complexity\":1.0,\"blocking factor\":0,\"delay factor\":1.0},\"nameSub\":\"Approved Elective\",\"id\":33,\"credits\":3,\"nameCanonical\":\"\"}],\"id\":6},{\"name\":\"Term 7\",\"curriculum_items\":[{\"curriculum_requisites\":[],\"name\":\" \",\"metrics\":{\"centrality\":0,\"complexity\":1.0,\"blocking factor\":0,\"delay factor\":1.0},\"nameSub\":\"Engineering Elective\",\"id\":34,\"credits\":3,\"nameCanonical\":\"\"},{\"curriculum_requisites\":[],\"name\":\" \",\"metrics\":{\"centrality\":0,\"complexity\":1.0,\"blocking factor\":0,\"delay factor\":1.0},\"nameSub\":\"ECE Elective\",\"id\":35,\"credits\":3,\"nameCanonical\":\"\"},{\"curriculum_requisites\":[{\"source_id\":26,\"target_id\":36,\"type\":\"CurriculumPrerequisite\"},{\"source_id\":25,\"target_id\":36,\"type\":\"CurriculumPrerequisite\"},{\"source_id\":32,\"target_id\":36,\"type\":\"CurriculumPrerequisite\"},{\"source_id\":29,\"target_id\":36,\"type\":\"CurriculumPrerequisite\"},{\"source_id\":15,\"target_id\":36,\"type\":\"CurriculumPrerequisite\"},{\"source_id\":24,\"target_id\":36,\"type\":\"CurriculumPrerequisite\"}],\"name\":\" \",\"metrics\":{\"centrality\":111,\"complexity\":9.0,\"blocking factor\":1,\"delay factor\":8.0},\"nameSub\":\"ECE 4011\",\"id\":36,\"credits\":2,\"nameCanonical\":\"\"},{\"curriculum_requisites\":[],\"name\":\" \",\"metrics\":{\"centrality\":0,\"complexity\":1.0,\"blocking factor\":0,\"delay factor\":1.0},\"nameSub\":\"ECE 4XXX Elective\",\"id\":37,\"credits\":3,\"nameCanonical\":\"\"},{\"curriculum_requisites\":[],\"name\":\" \",\"metrics\":{\"centrality\":0,\"complexity\":1.0,\"blocking factor\":0,\"delay factor\":1.0},\"nameSub\":\"ECE 4XXX Lab Elective\",\"id\":38,\"credits\":3,\"nameCanonical\":\"\"},{\"curriculum_requisites\":[],\"name\":\" \",\"metrics\":{\"centrality\":0,\"complexity\":1.0,\"blocking factor\":0,\"delay factor\":1.0},\"nameSub\":\"Approved Elective\",\"id\":39,\"credits\":3,\"nameCanonical\":\"\"}],\"id\":7},{\"name\":\"Term 8\",\"curriculum_items\":[{\"curriculum_requisites\":[],\"name\":\" \",\"metrics\":{\"centrality\":0,\"complexity\":1.0,\"blocking factor\":0,\"delay factor\":1.0},\"nameSub\":\"Humanities Elective\",\"id\":40,\"credits\":3,\"nameCanonical\":\"\"},{\"curriculum_requisites\":[{\"source_id\":36,\"target_id\":41,\"type\":\"CurriculumPrerequisite\"}],\"name\":\" \",\"metrics\":{\"centrality\":0,\"complexity\":8.0,\"blocking factor\":0,\"delay factor\":8.0},\"nameSub\":\"ECE 4012\",\"id\":41,\"credits\":3,\"nameCanonical\":\"\"},{\"curriculum_requisites\":[],\"name\":\" \",\"metrics\":{\"centrality\":0,\"complexity\":1.0,\"blocking factor\":0,\"delay factor\":1.0},\"nameSub\":\"ECE 4XXX Elective\",\"id\":42,\"credits\":3,\"nameCanonical\":\"\"},{\"curriculum_requisites\":[],\"name\":\" \",\"metrics\":{\"centrality\":0,\"complexity\":1.0,\"blocking factor\":0,\"delay factor\":1.0},\"nameSub\":\"Approved Elective\",\"id\":43,\"credits\":3,\"nameCanonical\":\"\"},{\"curriculum_requisites\":[],\"name\":\" \",\"metrics\":{\"centrality\":0,\"complexity\":1.0,\"blocking factor\":0,\"delay factor\":1.0},\"nameSub\":\"Approved Elective\",\"id\":44,\"credits\":3,\"nameCanonical\":\"\"}],\"id\":8}],\"institution\":\"Georgia Institute of Technology\"}}}}},\"children\":[{\"props\":{\"src\":\"http:\\/\\/localhost:8156\",\"id\":\"curriculum\",\"events\":{\"load\":\"(function (){this.contentWindow.postMessage({\\\"options\\\":{\\\"hideTerms\\\":false,\\\"edit\\\":false},\\\"curriculum\\\":{\\\"name\\\":\\\"Electrical Engineering\\\",\\\"dp_name\\\":\\\"2017-18 Plan\\\",\\\"curriculum_terms\\\":[{\\\"name\\\":\\\"Term 1\\\",\\\"curriculum_items\\\":[{\\\"curriculum_requisites\\\":[],\\\"name\\\":\\\" \\\",\\\"metrics\\\":{\\\"centrality\\\":0,\\\"complexity\\\":9.0,\\\"blocking factor\\\":4,\\\"delay factor\\\":5.0},\\\"nameSub\\\":\\\"CHEM 1310\\\",\\\"id\\\":1,\\\"credits\\\":4,\\\"nameCanonical\\\":\\\"\\\"},{\\\"curriculum_requisites\\\":[],\\\"name\\\":\\\" \\\",\\\"metrics\\\":{\\\"centrality\\\":0,\\\"complexity\\\":23.0,\\\"blocking factor\\\":15,\\\"delay factor\\\":8.0},\\\"nameSub\\\":\\\"MATH 1551\\\",\\\"id\\\":2,\\\"credits\\\":2,\\\"nameCanonical\\\":\\\"\\\"},{\\\"curriculum_requisites\\\":[],\\\"name\\\":\\\" \\\",\\\"metrics\\\":{\\\"centrality\\\":0,\\\"complexity\\\":16.0,\\\"blocking factor\\\":10,\\\"delay factor\\\":6.0},\\\"nameSub\\\":\\\"MATH 1553\\\",\\\"id\\\":3,\\\"credits\\\":2,\\\"nameCanonical\\\":\\\"\\\"},{\\\"curriculum_requisites\\\":[],\\\"name\\\":\\\" \\\",\\\"metrics\\\":{\\\"centrality\\\":0,\\\"complexity\\\":17.0,\\\"blocking factor\\\":10,\\\"delay factor\\\":7.0},\\\"nameSub\\\":\\\"CS 1371\\\",\\\"id\\\":4,\\\"credits\\\":3,\\\"nameCanonical\\\":\\\"\\\"},{\\\"curriculum_requisites\\\":[],\\\"name\\\":\\\" \\\",\\\"metrics\\\":{\\\"centrality\\\":0,\\\"complexity\\\":1.0,\\\"blocking factor\\\":0,\\\"delay factor\\\":1.0},\\\"nameSub\\\":\\\"Wellness Elective\\\",\\\"id\\\":5,\\\"credits\\\":3,\\\"nameCanonical\\\":\\\"\\\"},{\\\"curriculum_requisites\\\":[],\\\"name\\\":\\\" \\\",\\\"metrics\\\":{\\\"centrality\\\":0,\\\"complexity\\\":3.0,\\\"blocking factor\\\":1,\\\"delay factor\\\":2.0},\\\"nameSub\\\":\\\"ENGL 1101\\\",\\\"id\\\":6,\\\"credits\\\":3,\\\"nameCanonical\\\":\\\"\\\"}],\\\"id\\\":1},{\\\"name\\\":\\\"Term 2\\\",\\\"curriculum_items\\\":[{\\\"curriculum_requisites\\\":[{\\\"source_id\\\":2,\\\"target_id\\\":7,\\\"type\\\":\\\"CurriculumPrerequisite\\\"}],\\\"name\\\":\\\" \\\",\\\"metrics\\\":{\\\"centrality\\\":29,\\\"complexity\\\":17.0,\\\"blocking factor\\\":9,\\\"delay factor\\\":8.0},\\\"nameSub\\\":\\\"PHYS 2211\\\",\\\"id\\\":7,\\\"credits\\\":4,\\\"nameCanonical\\\":\\\"\\\"},{\\\"curriculum_requisites\\\":[{\\\"source_id\\\":2,\\\"target_id\\\":8,\\\"type\\\":\\\"CurriculumPrerequisite\\\"}],\\\"name\\\":\\\" \\\",\\\"metrics\\\":{\\\"centrality\\\":34,\\\"complexity\\\":17.0,\\\"blocking factor\\\":10,\\\"delay factor\\\":7.0},\\\"nameSub\\\":\\\"MATH 1552\\\",\\\"id\\\":8,\\\"credits\\\":4,\\\"nameCanonical\\\":\\\"\\\"},{\\\"curriculum_requisites\\\":[{\\\"source_id\\\":4,\\\"target_id\\\":9,\\\"type\\\":\\\"CurriculumPrerequisite\\\"}],\\\"name\\\":\\\" \\\",\\\"metrics\\\":{\\\"centrality\\\":11,\\\"complexity\\\":13.0,\\\"blocking factor\\\":6,\\\"delay factor\\\":7.0},\\\"nameSub\\\":\\\"ECE 2020\\\",\\\"id\\\":9,\\\"credits\\\":3,\\\"nameCanonical\\\":\\\"\\\"},{\\\"curriculum_requisites\\\":[],\\\"name\\\":\\\" \\\",\\\"metrics\\\":{\\\"centrality\\\":0,\\\"complexity\\\":1.0,\\\"blocking factor\\\":0,\\\"delay factor\\\":1.0},\\\"nameSub\\\":\\\"History\\/Government Elective\\\",\\\"id\\\":10,\\\"credits\\\":3,\\\"nameCanonical\\\":\\\"\\\"},{\\\"curriculum_requisites\\\":[{\\\"source_id\\\":6,\\\"target_id\\\":11,\\\"type\\\":\\\"CurriculumPrerequisite\\\"}],\\\"name\\\":\\\" \\\",\\\"metrics\\\":{\\\"centrality\\\":0,\\\"complexity\\\":2.0,\\\"blocking factor\\\":0,\\\"delay factor\\\":2.0},\\\"nameSub\\\":\\\"ENGL 1102\\\",\\\"id\\\":11,\\\"credits\\\":3,\\\"nameCanonical\\\":\\\"\\\"}],\\\"id\\\":2},{\\\"name\\\":\\\"Term 3\\\",\\\"curriculum_items\\\":[{\\\"curriculum_requisites\\\":[{\\\"source_id\\\":7,\\\"target_id\\\":12,\\\"type\\\":\\\"CurriculumPrerequisite\\\"}],\\\"name\\\":\\\" \\\",\\\"metrics\\\":{\\\"centrality\\\":29,\\\"complexity\\\":16.0,\\\"blocking factor\\\":8,\\\"delay factor\\\":8.0},\\\"nameSub\\\":\\\"PHYS 2212\\\",\\\"id\\\":12,\\\"credits\\\":4,\\\"nameCanonical\\\":\\\"\\\"},{\\\"curriculum_requisites\\\":[{\\\"source_id\\\":3,\\\"target_id\\\":13,\\\"type\\\":\\\"CurriculumPrerequisite\\\"},{\\\"source_id\\\":8,\\\"target_id\\\":13,\\\"type\\\":\\\"CurriculumPrerequisite\\\"}],\\\"name\\\":\\\" \\\",\\\"metrics\\\":{\\\"centrality\\\":0,\\\"complexity\\\":3.0,\\\"blocking factor\\\":0,\\\"delay factor\\\":3.0},\\\"nameSub\\\":\\\"MATH 2552\\\",\\\"id\\\":13,\\\"credits\\\":4,\\\"nameCanonical\\\":\\\"\\\"},{\\\"curriculum_requisites\\\":[{\\\"source_id\\\":4,\\\"target_id\\\":14,\\\"type\\\":\\\"CurriculumPrerequisite\\\"},{\\\"source_id\\\":3,\\\"target_id\\\":14,\\\"type\\\":\\\"CurriculumPrerequisite\\\"},{\\\"source_id\\\":8,\\\"target_id\\\":14,\\\"type\\\":\\\"CurriculumPrerequisite\\\"}],\\\"name\\\":\\\" \\\",\\\"metrics\\\":{\\\"centrality\\\":32,\\\"complexity\\\":10.0,\\\"blocking factor\\\":4,\\\"delay factor\\\":6.0},\\\"nameSub\\\":\\\"ECE 2026\\\",\\\"id\\\":14,\\\"credits\\\":3,\\\"nameCanonical\\\":\\\"\\\"},{\\\"curriculum_requisites\\\":[],\\\"name\\\":\\\" \\\",\\\"metrics\\\":{\\\"centrality\\\":0,\\\"complexity\\\":5.0,\\\"blocking factor\\\":2,\\\"delay factor\\\":3.0},\\\"nameSub\\\":\\\"Economics Elective\\\",\\\"id\\\":15,\\\"credits\\\":3,\\\"nameCanonical\\\":\\\"\\\"},{\\\"curriculum_requisites\\\":[],\\\"name\\\":\\\" \\\",\\\"metrics\\\":{\\\"centrality\\\":0,\\\"complexity\\\":1.0,\\\"blocking factor\\\":0,\\\"delay factor\\\":1.0},\\\"nameSub\\\":\\\"Social Sciences Elective\\\",\\\"id\\\":16,\\\"credits\\\":3,\\\"nameCanonical\\\":\\\"\\\"}],\\\"id\\\":3},{\\\"name\\\":\\\"Term 4\\\",\\\"curriculum_items\\\":[{\\\"curriculum_requisites\\\":[],\\\"name\\\":\\\" \\\",\\\"metrics\\\":{\\\"centrality\\\":0,\\\"complexity\\\":1.0,\\\"blocking factor\\\":0,\\\"delay factor\\\":1.0},\\\"nameSub\\\":\\\"Science Elective\\\",\\\"id\\\":17,\\\"credits\\\":3,\\\"nameCanonical\\\":\\\"\\\"},{\\\"curriculum_requisites\\\":[{\\\"source_id\\\":3,\\\"target_id\\\":18,\\\"type\\\":\\\"CurriculumPrerequisite\\\"},{\\\"source_id\\\":8,\\\"target_id\\\":18,\\\"type\\\":\\\"CurriculumPrerequisite\\\"}],\\\"name\\\":\\\" \\\",\\\"metrics\\\":{\\\"centrality\\\":35,\\\"complexity\\\":13.0,\\\"blocking factor\\\":6,\\\"delay factor\\\":7.0},\\\"nameSub\\\":\\\"MATH 2551\\\",\\\"id\\\":18,\\\"credits\\\":4,\\\"nameCanonical\\\":\\\"\\\"},{\\\"curriculum_requisites\\\":[{\\\"source_id\\\":12,\\\"target_id\\\":19,\\\"type\\\":\\\"CurriculumPrerequisite\\\"}],\\\"name\\\":\\\" \\\",\\\"metrics\\\":{\\\"centrality\\\":29,\\\"complexity\\\":15.0,\\\"blocking factor\\\":7,\\\"delay factor\\\":8.0},\\\"nameSub\\\":\\\"ECE 2040\\\",\\\"id\\\":19,\\\"credits\\\":3,\\\"nameCanonical\\\":\\\"\\\"},{\\\"curriculum_requisites\\\":[{\\\"source_id\\\":9,\\\"target_id\\\":20,\\\"type\\\":\\\"CurriculumPrerequisite\\\"}],\\\"name\\\":\\\" \\\",\\\"metrics\\\":{\\\"centrality\\\":11,\\\"complexity\\\":12.0,\\\"blocking factor\\\":5,\\\"delay factor\\\":7.0},\\\"nameSub\\\":\\\"ECE 2031\\\",\\\"id\\\":20,\\\"credits\\\":2,\\\"nameCanonical\\\":\\\"\\\"},{\\\"curriculum_requisites\\\":[{\\\"source_id\\\":20,\\\"target_id\\\":21,\\\"type\\\":\\\"CurriculumCorequisite\\\"}],\\\"name\\\":\\\" \\\",\\\"metrics\\\":{\\\"centrality\\\":0,\\\"complexity\\\":4.0,\\\"blocking factor\\\":0,\\\"delay factor\\\":4.0},\\\"nameSub\\\":\\\"Programming Elective\\\",\\\"id\\\":21,\\\"credits\\\":3,\\\"nameCanonical\\\":\\\"\\\"}],\\\"id\\\":4},{\\\"name\\\":\\\"Term 5\\\",\\\"curriculum_items\\\":[{\\\"curriculum_requisites\\\":[],\\\"name\\\":\\\" \\\",\\\"metrics\\\":{\\\"centrality\\\":0,\\\"complexity\\\":1.0,\\\"blocking factor\\\":0,\\\"delay factor\\\":1.0},\\\"nameSub\\\":\\\"Humanities Elective\\\",\\\"id\\\":22,\\\"credits\\\":3,\\\"nameCanonical\\\":\\\"\\\"},{\\\"curriculum_requisites\\\":[{\\\"source_id\\\":20,\\\"target_id\\\":23,\\\"type\\\":\\\"CurriculumPrerequisite\\\"},{\\\"source_id\\\":1,\\\"target_id\\\":23,\\\"type\\\":\\\"CurriculumPrerequisite\\\"},{\\\"source_id\\\":19,\\\"target_id\\\":23,\\\"type\\\":\\\"CurriculumPrerequisite\\\"},{\\\"source_id\\\":18,\\\"target_id\\\":23,\\\"type\\\":\\\"CurriculumPrerequisite\\\"}],\\\"name\\\":\\\" \\\",\\\"metrics\\\":{\\\"centrality\\\":33,\\\"complexity\\\":11.0,\\\"blocking factor\\\":3,\\\"delay factor\\\":8.0},\\\"nameSub\\\":\\\"ECE 3040\\\",\\\"id\\\":23,\\\"credits\\\":4,\\\"nameCanonical\\\":\\\"\\\"},{\\\"curriculum_requisites\\\":[{\\\"source_id\\\":23,\\\"target_id\\\":24,\\\"type\\\":\\\"CurriculumCorequisite\\\"}],\\\"name\\\":\\\" \\\",\\\"metrics\\\":{\\\"centrality\\\":33,\\\"complexity\\\":10.0,\\\"blocking factor\\\":2,\\\"delay factor\\\":8.0},\\\"nameSub\\\":\\\"ECE 3043\\\",\\\"id\\\":24,\\\"credits\\\":2,\\\"nameCanonical\\\":\\\"\\\"},{\\\"curriculum_requisites\\\":[{\\\"source_id\\\":14,\\\"target_id\\\":25,\\\"type\\\":\\\"CurriculumPrerequisite\\\"},{\\\"source_id\\\":19,\\\"target_id\\\":25,\\\"type\\\":\\\"CurriculumPrerequisite\\\"},{\\\"source_id\\\":18,\\\"target_id\\\":25,\\\"type\\\":\\\"CurriculumPrerequisite\\\"}],\\\"name\\\":\\\" \\\",\\\"metrics\\\":{\\\"centrality\\\":34,\\\"complexity\\\":9.0,\\\"blocking factor\\\":2,\\\"delay factor\\\":7.0},\\\"nameSub\\\":\\\"ECE 3025\\\",\\\"id\\\":25,\\\"credits\\\":3,\\\"nameCanonical\\\":\\\"\\\"},{\\\"curriculum_requisites\\\":[{\\\"source_id\\\":14,\\\"target_id\\\":26,\\\"type\\\":\\\"CurriculumPrerequisite\\\"},{\\\"source_id\\\":19,\\\"target_id\\\":26,\\\"type\\\":\\\"CurriculumPrerequisite\\\"}],\\\"name\\\":\\\" \\\",\\\"metrics\\\":{\\\"centrality\\\":23,\\\"complexity\\\":9.0,\\\"blocking factor\\\":2,\\\"delay factor\\\":7.0},\\\"nameSub\\\":\\\"ECE 3084\\\",\\\"id\\\":26,\\\"credits\\\":3,\\\"nameCanonical\\\":\\\"\\\"},{\\\"curriculum_requisites\\\":[],\\\"name\\\":\\\" \\\",\\\"metrics\\\":{\\\"centrality\\\":0,\\\"complexity\\\":1.0,\\\"blocking factor\\\":0,\\\"delay factor\\\":1.0},\\\"nameSub\\\":\\\"Social Sciences Elective\\\",\\\"id\\\":27,\\\"credits\\\":3,\\\"nameCanonical\\\":\\\"\\\"}],\\\"id\\\":5},{\\\"name\\\":\\\"Term 6\\\",\\\"curriculum_items\\\":[{\\\"curriculum_requisites\\\":[],\\\"name\\\":\\\" \\\",\\\"metrics\\\":{\\\"centrality\\\":0,\\\"complexity\\\":1.0,\\\"blocking factor\\\":0,\\\"delay factor\\\":1.0},\\\"nameSub\\\":\\\"ECE\\/Approved Engineering Elective\\\",\\\"id\\\":28,\\\"credits\\\":3,\\\"nameCanonical\\\":\\\"\\\"},{\\\"curriculum_requisites\\\":[{\\\"source_id\\\":18,\\\"target_id\\\":29,\\\"type\\\":\\\"CurriculumPrerequisite\\\"}],\\\"name\\\":\\\" \\\",\\\"metrics\\\":{\\\"centrality\\\":11,\\\"complexity\\\":8.0,\\\"blocking factor\\\":2,\\\"delay factor\\\":6.0},\\\"nameSub\\\":\\\"Prob\\/Stat ECE\\/App\\/Engr Elective\\\",\\\"id\\\":29,\\\"credits\\\":3,\\\"nameCanonical\\\":\\\"\\\"},{\\\"curriculum_requisites\\\":[],\\\"name\\\":\\\" \\\",\\\"metrics\\\":{\\\"centrality\\\":0,\\\"complexity\\\":1.0,\\\"blocking factor\\\":0,\\\"delay factor\\\":1.0},\\\"nameSub\\\":\\\"ECE Elective\\\",\\\"id\\\":30,\\\"credits\\\":3,\\\"nameCanonical\\\":\\\"\\\"},{\\\"curriculum_requisites\\\":[],\\\"name\\\":\\\" \\\",\\\"metrics\\\":{\\\"centrality\\\":0,\\\"complexity\\\":1.0,\\\"blocking factor\\\":0,\\\"delay factor\\\":1.0},\\\"nameSub\\\":\\\"ECE Elective\\\",\\\"id\\\":31,\\\"credits\\\":3,\\\"nameCanonical\\\":\\\"\\\"},{\\\"curriculum_requisites\\\":[{\\\"source_id\\\":19,\\\"target_id\\\":32,\\\"type\\\":\\\"CurriculumPrerequisite\\\"}],\\\"name\\\":\\\" \\\",\\\"metrics\\\":{\\\"centrality\\\":7,\\\"complexity\\\":9.0,\\\"blocking factor\\\":2,\\\"delay factor\\\":7.0},\\\"nameSub\\\":\\\"ECE 3072\\\",\\\"id\\\":32,\\\"credits\\\":3,\\\"nameCanonical\\\":\\\"\\\"},{\\\"curriculum_requisites\\\":[],\\\"name\\\":\\\" \\\",\\\"metrics\\\":{\\\"centrality\\\":0,\\\"complexity\\\":1.0,\\\"blocking factor\\\":0,\\\"delay factor\\\":1.0},\\\"nameSub\\\":\\\"Approved Elective\\\",\\\"id\\\":33,\\\"credits\\\":3,\\\"nameCanonical\\\":\\\"\\\"}],\\\"id\\\":6},{\\\"name\\\":\\\"Term 7\\\",\\\"curriculum_items\\\":[{\\\"curriculum_requisites\\\":[],\\\"name\\\":\\\" \\\",\\\"metrics\\\":{\\\"centrality\\\":0,\\\"complexity\\\":1.0,\\\"blocking factor\\\":0,\\\"delay factor\\\":1.0},\\\"nameSub\\\":\\\"Engineering Elective\\\",\\\"id\\\":34,\\\"credits\\\":3,\\\"nameCanonical\\\":\\\"\\\"},{\\\"curriculum_requisites\\\":[],\\\"name\\\":\\\" \\\",\\\"metrics\\\":{\\\"centrality\\\":0,\\\"complexity\\\":1.0,\\\"blocking factor\\\":0,\\\"delay factor\\\":1.0},\\\"nameSub\\\":\\\"ECE Elective\\\",\\\"id\\\":35,\\\"credits\\\":3,\\\"nameCanonical\\\":\\\"\\\"},{\\\"curriculum_requisites\\\":[{\\\"source_id\\\":26,\\\"target_id\\\":36,\\\"type\\\":\\\"CurriculumPrerequisite\\\"},{\\\"source_id\\\":25,\\\"target_id\\\":36,\\\"type\\\":\\\"CurriculumPrerequisite\\\"},{\\\"source_id\\\":32,\\\"target_id\\\":36,\\\"type\\\":\\\"CurriculumPrerequisite\\\"},{\\\"source_id\\\":29,\\\"target_id\\\":36,\\\"type\\\":\\\"CurriculumPrerequisite\\\"},{\\\"source_id\\\":15,\\\"target_id\\\":36,\\\"type\\\":\\\"CurriculumPrerequisite\\\"},{\\\"source_id\\\":24,\\\"target_id\\\":36,\\\"type\\\":\\\"CurriculumPrerequisite\\\"}],\\\"name\\\":\\\" \\\",\\\"metrics\\\":{\\\"centrality\\\":111,\\\"complexity\\\":9.0,\\\"blocking factor\\\":1,\\\"delay factor\\\":8.0},\\\"nameSub\\\":\\\"ECE 4011\\\",\\\"id\\\":36,\\\"credits\\\":2,\\\"nameCanonical\\\":\\\"\\\"},{\\\"curriculum_requisites\\\":[],\\\"name\\\":\\\" \\\",\\\"metrics\\\":{\\\"centrality\\\":0,\\\"complexity\\\":1.0,\\\"blocking factor\\\":0,\\\"delay factor\\\":1.0},\\\"nameSub\\\":\\\"ECE 4XXX Elective\\\",\\\"id\\\":37,\\\"credits\\\":3,\\\"nameCanonical\\\":\\\"\\\"},{\\\"curriculum_requisites\\\":[],\\\"name\\\":\\\" \\\",\\\"metrics\\\":{\\\"centrality\\\":0,\\\"complexity\\\":1.0,\\\"blocking factor\\\":0,\\\"delay factor\\\":1.0},\\\"nameSub\\\":\\\"ECE 4XXX Lab Elective\\\",\\\"id\\\":38,\\\"credits\\\":3,\\\"nameCanonical\\\":\\\"\\\"},{\\\"curriculum_requisites\\\":[],\\\"name\\\":\\\" \\\",\\\"metrics\\\":{\\\"centrality\\\":0,\\\"complexity\\\":1.0,\\\"blocking factor\\\":0,\\\"delay factor\\\":1.0},\\\"nameSub\\\":\\\"Approved Elective\\\",\\\"id\\\":39,\\\"credits\\\":3,\\\"nameCanonical\\\":\\\"\\\"}],\\\"id\\\":7},{\\\"name\\\":\\\"Term 8\\\",\\\"curriculum_items\\\":[{\\\"curriculum_requisites\\\":[],\\\"name\\\":\\\" \\\",\\\"metrics\\\":{\\\"centrality\\\":0,\\\"complexity\\\":1.0,\\\"blocking factor\\\":0,\\\"delay factor\\\":1.0},\\\"nameSub\\\":\\\"Humanities Elective\\\",\\\"id\\\":40,\\\"credits\\\":3,\\\"nameCanonical\\\":\\\"\\\"},{\\\"curriculum_requisites\\\":[{\\\"source_id\\\":36,\\\"target_id\\\":41,\\\"type\\\":\\\"CurriculumPrerequisite\\\"}],\\\"name\\\":\\\" \\\",\\\"metrics\\\":{\\\"centrality\\\":0,\\\"complexity\\\":8.0,\\\"blocking factor\\\":0,\\\"delay factor\\\":8.0},\\\"nameSub\\\":\\\"ECE 4012\\\",\\\"id\\\":41,\\\"credits\\\":3,\\\"nameCanonical\\\":\\\"\\\"},{\\\"curriculum_requisites\\\":[],\\\"name\\\":\\\" \\\",\\\"metrics\\\":{\\\"centrality\\\":0,\\\"complexity\\\":1.0,\\\"blocking factor\\\":0,\\\"delay factor\\\":1.0},\\\"nameSub\\\":\\\"ECE 4XXX Elective\\\",\\\"id\\\":42,\\\"credits\\\":3,\\\"nameCanonical\\\":\\\"\\\"},{\\\"curriculum_requisites\\\":[],\\\"name\\\":\\\" \\\",\\\"metrics\\\":{\\\"centrality\\\":0,\\\"complexity\\\":1.0,\\\"blocking factor\\\":0,\\\"delay factor\\\":1.0},\\\"nameSub\\\":\\\"Approved Elective\\\",\\\"id\\\":43,\\\"credits\\\":3,\\\"nameCanonical\\\":\\\"\\\"},{\\\"curriculum_requisites\\\":[],\\\"name\\\":\\\" \\\",\\\"metrics\\\":{\\\"centrality\\\":0,\\\"complexity\\\":1.0,\\\"blocking factor\\\":0,\\\"delay factor\\\":1.0},\\\"nameSub\\\":\\\"Approved Elective\\\",\\\"id\\\":44,\\\"credits\\\":3,\\\"nameCanonical\\\":\\\"\\\"}],\\\"id\\\":8}],\\\"institution\\\":\\\"Georgia Institute of Technology\\\"}},\\\"*\\\"); window.removeEventListener(\\\"message\\\",window.messageReceived); window.messageReceived=(function (event){return (event.data.curriculum!==undefined) ? (WebIO.setval({\\\"name\\\":\\\"curriculum-data\\\",\\\"scope\\\":\\\"9694601150803625278\\\",\\\"id\\\":\\\"14350599914631112759\\\",\\\"type\\\":\\\"observable\\\"},event.data.curriculum)) : undefined}); return window.addEventListener(\\\"message\\\",window.messageReceived)})\"},\"style\":{\"padding\":\"0\",\"height\":\"100vh\",\"margin\":\"0\",\"border\":\"none\",\"width\":\"100%\"}},\"nodeType\":\"DOM\",\"type\":\"node\",\"instanceArgs\":{\"namespace\":\"html\",\"tag\":\"iframe\"},\"children\":[\"\"]}]},\n",
       "            window,\n",
       "        );\n",
       "    } else {\n",
       "        document\n",
       "            .querySelector('[data-webio-mountpoint=\"2059831875723701607\"]')\n",
       "            .innerHTML = (\n",
       "                '<div style=\"padding: 1em; background-color: #f8d6da; border: 1px solid #f5c6cb\">' +\n",
       "                '<p><strong>WebIO not detected.</strong></p>' +\n",
       "                '<p>Please read ' +\n",
       "                '<a href=\"https://juliagizmos.github.io/WebIO.jl/latest/troubleshooting/not-detected/\" target=\"_blank\">the troubleshooting guide</a> ' +\n",
       "                'for more information on how to resolve this issue.</p>' +\n",
       "                '<p><a href=\"https://juliagizmos.github.io/WebIO.jl/latest/troubleshooting/not-detected/\" target=\"_blank\">https://juliagizmos.github.io/WebIO.jl/latest/troubleshooting/not-detected/</a></p>' +\n",
       "                '</div>'\n",
       "            );\n",
       "    }\n",
       "    </script>\n",
       "</div>\n"
      ],
      "text/plain": [
       "WebIO.Scope(WebIO.Node{WebIO.DOM}(WebIO.DOM(:html, :iframe), Any[\"\"], Dict{Symbol,Any}(:src => \"http://localhost:8156\",:id => \"curriculum\",:events => Dict{Symbol,WebIO.JSString}(:load => WebIO.JSString(\"(function (){this.contentWindow.postMessage({\\\"options\\\":{\\\"hideTerms\\\":false,\\\"edit\\\":false},\\\"curriculum\\\":{\\\"name\\\":\\\"Electrical Engineering\\\",\\\"dp_name\\\":\\\"2017-18 Plan\\\",\\\"curriculum_terms\\\":[{\\\"name\\\":\\\"Term 1\\\",\\\"curriculum_items\\\":[{\\\"curriculum_requisites\\\":[],\\\"name\\\":\\\" \\\",\\\"metrics\\\":{\\\"centrality\\\":0,\\\"complexity\\\":9.0,\\\"blocking factor\\\":4,\\\"delay factor\\\":5.0},\\\"nameSub\\\":\\\"CHEM 1310\\\",\\\"id\\\":1,\\\"credits\\\":4,\\\"nameCanonical\\\":\\\"\\\"},{\\\"curriculum_requisites\\\":[],\\\"name\\\":\\\" \\\",\\\"metrics\\\":{\\\"centrality\\\":0,\\\"complexity\\\":23.0,\\\"blocking factor\\\":15,\\\"delay factor\\\":8.0},\\\"nameSub\\\":\\\"MATH 1551\\\",\\\"id\\\":2,\\\"credits\\\":2,\\\"nameCanonical\\\":\\\"\\\"},{\\\"curriculum_requisites\\\":[],\\\"name\\\":\\\" \\\",\\\"metrics\\\":{\\\"centrality\\\":0,\\\"complexity\\\":16.0,\\\"blocking factor\\\":10,\\\"delay factor\\\":6.0},\\\"nameSub\\\":\\\"MATH 1553\\\",\\\"id\\\":3,\\\"credits\\\":2,\\\"nameCanonical\\\":\\\"\\\"},{\\\"curriculum_requisites\\\":[],\\\"name\\\":\\\" \\\",\\\"metrics\\\":{\\\"centrality\\\":0,\\\"complexity\\\":17.0,\\\"blocking factor\\\":10,\\\"delay factor\\\":7.0},\\\"nameSub\\\":\\\"CS 1371\\\",\\\"id\\\":4,\\\"credits\\\":3,\\\"nameCanonical\\\":\\\"\\\"},{\\\"curriculum_requisites\\\":[],\\\"name\\\":\\\" \\\",\\\"metrics\\\":{\\\"centrality\\\":0,\\\"complexity\\\":1.0,\\\"blocking factor\\\":0,\\\"delay factor\\\":1.0},\\\"nameSub\\\":\\\"Wellness Elective\\\",\\\"id\\\":5,\\\"credits\\\":3,\\\"nameCanonical\\\":\\\"\\\"},{\\\"curriculum_requisites\\\":[],\\\"name\\\":\\\" \\\",\\\"metrics\\\":{\\\"centrality\\\":0,\\\"complexity\\\":3.0,\\\"blocking factor\\\":1,\\\"delay factor\\\":2.0},\\\"nameSub\\\":\\\"ENGL 1101\\\",\\\"id\\\":6,\\\"credits\\\":3,\\\"nameCanonical\\\":\\\"\\\"}],\\\"id\\\":1},{\\\"name\\\":\\\"Term 2\\\",\\\"curriculum_items\\\":[{\\\"curriculum_requisites\\\":[{\\\"source_id\\\":2,\\\"target_id\\\":7,\\\"type\\\":\\\"CurriculumPrerequisite\\\"}],\\\"name\\\":\\\" \\\",\\\"metrics\\\":{\\\"centrality\\\":29,\\\"complexity\\\":17.0,\\\"blocking factor\\\":9,\\\"delay factor\\\":8.0},\\\"nameSub\\\":\\\"PHYS 2211\\\",\\\"id\\\":7,\\\"credits\\\":4,\\\"nameCanonical\\\":\\\"\\\"},{\\\"curriculum_requisites\\\":[{\\\"source_id\\\":2,\\\"target_id\\\":8,\\\"type\\\":\\\"CurriculumPrerequisite\\\"}],\\\"name\\\":\\\" \\\",\\\"metrics\\\":{\\\"centrality\\\":34,\\\"complexity\\\":17.0,\\\"blocking factor\\\":10,\\\"delay factor\\\":7.0},\\\"nameSub\\\":\\\"MATH 1552\\\",\\\"id\\\":8,\\\"credits\\\":4,\\\"nameCanonical\\\":\\\"\\\"},{\\\"curriculum_requisites\\\":[{\\\"source_id\\\":4,\\\"target_id\\\":9,\\\"type\\\":\\\"CurriculumPrerequisite\\\"}],\\\"name\\\":\\\" \\\",\\\"metrics\\\":{\\\"centrality\\\":11,\\\"complexity\\\":13.0,\\\"blocking factor\\\":6,\\\"delay factor\\\":7.0},\\\"nameSub\\\":\\\"ECE 2020\\\",\\\"id\\\":9,\\\"credits\\\":3,\\\"nameCanonical\\\":\\\"\\\"},{\\\"curriculum_requisites\\\":[],\\\"name\\\":\\\" \\\",\\\"metrics\\\":{\\\"centrality\\\":0,\\\"complexity\\\":1.0,\\\"blocking factor\\\":0,\\\"delay factor\\\":1.0},\\\"nameSub\\\":\\\"History/Government Elective\\\",\\\"id\\\":10,\\\"credits\\\":3,\\\"nameCanonical\\\":\\\"\\\"},{\\\"curriculum_requisites\\\":[{\\\"source_id\\\":6,\\\"target_id\\\":11,\\\"type\\\":\\\"CurriculumPrerequisite\\\"}],\\\"name\\\":\\\" \\\",\\\"metrics\\\":{\\\"centrality\\\":0,\\\"complexity\\\":2.0,\\\"blocking factor\\\":0,\\\"delay factor\\\":2.0},\\\"nameSub\\\":\\\"ENGL 1102\\\",\\\"id\\\":11,\\\"credits\\\":3,\\\"nameCanonical\\\":\\\"\\\"}],\\\"id\\\":2},{\\\"name\\\":\\\"Term 3\\\",\\\"curriculum_items\\\":[{\\\"curriculum_requisites\\\":[{\\\"source_id\\\":7,\\\"target_id\\\":12,\\\"type\\\":\\\"CurriculumPrerequisite\\\"}],\\\"name\\\":\\\" \\\",\\\"metrics\\\":{\\\"centrality\\\":29,\\\"complexity\\\":16.0,\\\"blocking factor\\\":8,\\\"delay factor\\\":8.0},\\\"nameSub\\\":\\\"PHYS 2212\\\",\\\"id\\\":12,\\\"credits\\\":4,\\\"nameCanonical\\\":\\\"\\\"},{\\\"curriculum_requisites\\\":[{\\\"source_id\\\":3,\\\"target_id\\\":13,\\\"type\\\":\\\"CurriculumPrerequisite\\\"},{\\\"source_id\\\":8,\\\"target_id\\\":13,\\\"type\\\":\\\"CurriculumPrerequisite\\\"}],\\\"name\\\":\\\" \\\",\\\"metrics\\\":{\\\"centrality\\\":0,\\\"complexity\\\":3.0,\\\"blocking factor\\\":0,\\\"delay factor\\\":3.0},\\\"nameSub\\\":\\\"MATH 2552\\\",\\\"id\\\":13,\\\"credits\\\":4,\\\"nameCanonical\\\":\\\"\\\"},{\\\"curriculum_requisites\\\":[{\\\"source_id\\\":4,\\\"target_id\\\":14,\\\"type\\\":\\\"CurriculumPrerequisite\\\"},{\\\"source_id\\\":3,\\\"target_id\\\":14,\\\"type\\\":\\\"CurriculumPrerequisite\\\"},{\\\"source_id\\\":8,\\\"target_id\\\":14,\\\"type\\\":\\\"CurriculumPrerequisite\\\"}],\\\"name\\\":\\\" \\\",\\\"metrics\\\":{\\\"centrality\\\":32,\\\"complexity\\\":10.0,\\\"blocking factor\\\":4,\\\"delay factor\\\":6.0},\\\"nameSub\\\":\\\"ECE 2026\\\",\\\"id\\\":14,\\\"credits\\\":3,\\\"nameCanonical\\\":\\\"\\\"},{\\\"curriculum_requisites\\\":[],\\\"name\\\":\\\" \\\",\\\"metrics\\\":{\\\"centrality\\\":0,\\\"complexity\\\":5.0,\\\"blocking factor\\\":2,\\\"delay factor\\\":3.0},\\\"nameSub\\\":\\\"Economics Elective\\\",\\\"id\\\":15,\\\"credits\\\":3,\\\"nameCanonical\\\":\\\"\\\"},{\\\"curriculum_requisites\\\":[],\\\"name\\\":\\\" \\\",\\\"metrics\\\":{\\\"centrality\\\":0,\\\"complexity\\\":1.0,\\\"blocking factor\\\":0,\\\"delay factor\\\":1.0},\\\"nameSub\\\":\\\"Social Sciences Elective\\\",\\\"id\\\":16,\\\"credits\\\":3,\\\"nameCanonical\\\":\\\"\\\"}],\\\"id\\\":3},{\\\"name\\\":\\\"Term 4\\\",\\\"curriculum_items\\\":[{\\\"curriculum_requisites\\\":[],\\\"name\\\":\\\" \\\",\\\"metrics\\\":{\\\"centrality\\\":0,\\\"complexity\\\":1.0,\\\"blocking factor\\\":0,\\\"delay factor\\\":1.0},\\\"nameSub\\\":\\\"Science Elective\\\",\\\"id\\\":17,\\\"credits\\\":3,\\\"nameCanonical\\\":\\\"\\\"},{\\\"curriculum_requisites\\\":[{\\\"source_id\\\":3,\\\"target_id\\\":18,\\\"type\\\":\\\"CurriculumPrerequisite\\\"},{\\\"source_id\\\":8,\\\"target_id\\\":18,\\\"type\\\":\\\"CurriculumPrerequisite\\\"}],\\\"name\\\":\\\" \\\",\\\"metrics\\\":{\\\"centrality\\\":35,\\\"complexity\\\":13.0,\\\"blocking factor\\\":6,\\\"delay factor\\\":7.0},\\\"nameSub\\\":\\\"MATH 2551\\\",\\\"id\\\":18,\\\"credits\\\":4,\\\"nameCanonical\\\":\\\"\\\"},{\\\"curriculum_requisites\\\":[{\\\"source_id\\\":12,\\\"target_id\\\":19,\\\"type\\\":\\\"CurriculumPrerequisite\\\"}],\\\"name\\\":\\\" \\\",\\\"metrics\\\":{\\\"centrality\\\":29,\\\"complexity\\\":15.0,\\\"blocking factor\\\":7,\\\"delay factor\\\":8.0},\\\"nameSub\\\":\\\"ECE 2040\\\",\\\"id\\\":19,\\\"credits\\\":3,\\\"nameCanonical\\\":\\\"\\\"},{\\\"curriculum_requisites\\\":[{\\\"source_id\\\":9,\\\"target_id\\\":20,\\\"type\\\":\\\"CurriculumPrerequisite\\\"}],\\\"name\\\":\\\" \\\",\\\"metrics\\\":{\\\"centrality\\\":11,\\\"complexity\\\":12.0,\\\"blocking factor\\\":5,\\\"delay factor\\\":7.0},\\\"nameSub\\\":\\\"ECE 2031\\\",\\\"id\\\":20,\\\"credits\\\":2,\\\"nameCanonical\\\":\\\"\\\"},{\\\"curriculum_requisites\\\":[{\\\"source_id\\\":20,\\\"target_id\\\":21,\\\"type\\\":\\\"CurriculumCorequisite\\\"}],\\\"name\\\":\\\" \\\",\\\"metrics\\\":{\\\"centrality\\\":0,\\\"complexity\\\":4.0,\\\"blocking factor\\\":0,\\\"delay factor\\\":4.0},\\\"nameSub\\\":\\\"Programming Elective\\\",\\\"id\\\":21,\\\"credits\\\":3,\\\"nameCanonical\\\":\\\"\\\"}],\\\"id\\\":4},{\\\"name\\\":\\\"Term 5\\\",\\\"curriculum_items\\\":[{\\\"curriculum_requisites\\\":[],\\\"name\\\":\\\" \\\",\\\"metrics\\\":{\\\"centrality\\\":0,\\\"complexity\\\":1.0,\\\"blocking factor\\\":0,\\\"delay factor\\\":1.0},\\\"nameSub\\\":\\\"Humanities Elective\\\",\\\"id\\\":22,\\\"credits\\\":3,\\\"nameCanonical\\\":\\\"\\\"},{\\\"curriculum_requisites\\\":[{\\\"source_id\\\":20,\\\"target_id\\\":23,\\\"type\\\":\\\"CurriculumPrerequisite\\\"},{\\\"source_id\\\":1,\\\"target_id\\\":23,\\\"type\\\":\\\"CurriculumPrerequisite\\\"},{\\\"source_id\\\":19,\\\"target_id\\\":23,\\\"type\\\":\\\"CurriculumPrerequisite\\\"},{\\\"source_id\\\":18,\\\"target_id\\\":23,\\\"type\\\":\\\"CurriculumPrerequisite\\\"}],\\\"name\\\":\\\" \\\",\\\"metrics\\\":{\\\"centrality\\\":33,\\\"complexity\\\":11.0,\\\"blocking factor\\\":3,\\\"delay factor\\\":8.0},\\\"nameSub\\\":\\\"ECE 3040\\\",\\\"id\\\":23,\\\"credits\\\":4,\\\"nameCanonical\\\":\\\"\\\"},{\\\"curriculum_requisites\\\":[{\\\"source_id\\\":23,\\\"target_id\\\":24,\\\"type\\\":\\\"CurriculumCorequisite\\\"}],\\\"name\\\":\\\" \\\",\\\"metrics\\\":{\\\"centrality\\\":33,\\\"complexity\\\":10.0,\\\"blocking factor\\\":2,\\\"delay factor\\\":8.0},\\\"nameSub\\\":\\\"ECE 3043\\\",\\\"id\\\":24,\\\"credits\\\":2,\\\"nameCanonical\\\":\\\"\\\"},{\\\"curriculum_requisites\\\":[{\\\"source_id\\\":14,\\\"target_id\\\":25,\\\"type\\\":\\\"CurriculumPrerequisite\\\"},{\\\"source_id\\\":19,\\\"target_id\\\":25,\\\"type\\\":\\\"CurriculumPrerequisite\\\"},{\\\"source_id\\\":18,\\\"target_id\\\":25,\\\"type\\\":\\\"CurriculumPrerequisite\\\"}],\\\"name\\\":\\\" \\\",\\\"metrics\\\":{\\\"centrality\\\":34,\\\"complexity\\\":9.0,\\\"blocking factor\\\":2,\\\"delay factor\\\":7.0},\\\"nameSub\\\":\\\"ECE 3025\\\",\\\"id\\\":25,\\\"credits\\\":3,\\\"nameCanonical\\\":\\\"\\\"},{\\\"curriculum_requisites\\\":[{\\\"source_id\\\":14,\\\"target_id\\\":26,\\\"type\\\":\\\"CurriculumPrerequisite\\\"},{\\\"source_id\\\":19,\\\"target_id\\\":26,\\\"type\\\":\\\"CurriculumPrerequisite\\\"}],\\\"name\\\":\\\" \\\",\\\"metrics\\\":{\\\"centrality\\\":23,\\\"complexity\\\":9.0,\\\"blocking factor\\\":2,\\\"delay factor\\\":7.0},\\\"nameSub\\\":\\\"ECE 3084\\\",\\\"id\\\":26,\\\"credits\\\":3,\\\"nameCanonical\\\":\\\"\\\"},{\\\"curriculum_requisites\\\":[],\\\"name\\\":\\\" \\\",\\\"metrics\\\":{\\\"centrality\\\":0,\\\"complexity\\\":1.0,\\\"blocking factor\\\":0,\\\"delay factor\\\":1.0},\\\"nameSub\\\":\\\"Social Sciences Elective\\\",\\\"id\\\":27,\\\"credits\\\":3,\\\"nameCanonical\\\":\\\"\\\"}],\\\"id\\\":5},{\\\"name\\\":\\\"Term 6\\\",\\\"curriculum_items\\\":[{\\\"curriculum_requisites\\\":[],\\\"name\\\":\\\" \\\",\\\"metrics\\\":{\\\"centrality\\\":0,\\\"complexity\\\":1.0,\\\"blocking factor\\\":0,\\\"delay factor\\\":1.0},\\\"nameSub\\\":\\\"ECE/Approved Engineering Elective\\\",\\\"id\\\":28,\\\"credits\\\":3,\\\"nameCanonical\\\":\\\"\\\"},{\\\"curriculum_requisites\\\":[{\\\"source_id\\\":18,\\\"target_id\\\":29,\\\"type\\\":\\\"CurriculumPrerequisite\\\"}],\\\"name\\\":\\\" \\\",\\\"metrics\\\":{\\\"centrality\\\":11,\\\"complexity\\\":8.0,\\\"blocking factor\\\":2,\\\"delay factor\\\":6.0},\\\"nameSub\\\":\\\"Prob/Stat ECE/App/Engr Elective\\\",\\\"id\\\":29,\\\"credits\\\":3,\\\"nameCanonical\\\":\\\"\\\"},{\\\"curriculum_requisites\\\":[],\\\"name\\\":\\\" \\\",\\\"metrics\\\":{\\\"centrality\\\":0,\\\"complexity\\\":1.0,\\\"blocking factor\\\":0,\\\"delay factor\\\":1.0},\\\"nameSub\\\":\\\"ECE Elective\\\",\\\"id\\\":30,\\\"credits\\\":3,\\\"nameCanonical\\\":\\\"\\\"},{\\\"curriculum_requisites\\\":[],\\\"name\\\":\\\" \\\",\\\"metrics\\\":{\\\"centrality\\\":0,\\\"complexity\\\":1.0,\\\"blocking factor\\\":0,\\\"delay factor\\\":1.0},\\\"nameSub\\\":\\\"ECE Elective\\\",\\\"id\\\":31,\\\"credits\\\":3,\\\"nameCanonical\\\":\\\"\\\"},{\\\"curriculum_requisites\\\":[{\\\"source_id\\\":19,\\\"target_id\\\":32,\\\"type\\\":\\\"CurriculumPrerequisite\\\"}],\\\"name\\\":\\\" \\\",\\\"metrics\\\":{\\\"centrality\\\":7,\\\"complexity\\\":9.0,\\\"blocking factor\\\":2,\\\"delay factor\\\":7.0},\\\"nameSub\\\":\\\"ECE 3072\\\",\\\"id\\\":32,\\\"credits\\\":3,\\\"nameCanonical\\\":\\\"\\\"},{\\\"curriculum_requisites\\\":[],\\\"name\\\":\\\" \\\",\\\"metrics\\\":{\\\"centrality\\\":0,\\\"complexity\\\":1.0,\\\"blocking factor\\\":0,\\\"delay factor\\\":1.0},\\\"nameSub\\\":\\\"Approved Elective\\\",\\\"id\\\":33,\\\"credits\\\":3,\\\"nameCanonical\\\":\\\"\\\"}],\\\"id\\\":6},{\\\"name\\\":\\\"Term 7\\\",\\\"curriculum_items\\\":[{\\\"curriculum_requisites\\\":[],\\\"name\\\":\\\" \\\",\\\"metrics\\\":{\\\"centrality\\\":0,\\\"complexity\\\":1.0,\\\"blocking factor\\\":0,\\\"delay factor\\\":1.0},\\\"nameSub\\\":\\\"Engineering Elective\\\",\\\"id\\\":34,\\\"credits\\\":3,\\\"nameCanonical\\\":\\\"\\\"},{\\\"curriculum_requisites\\\":[],\\\"name\\\":\\\" \\\",\\\"metrics\\\":{\\\"centrality\\\":0,\\\"complexity\\\":1.0,\\\"blocking factor\\\":0,\\\"delay factor\\\":1.0},\\\"nameSub\\\":\\\"ECE Elective\\\",\\\"id\\\":35,\\\"credits\\\":3,\\\"nameCanonical\\\":\\\"\\\"},{\\\"curriculum_requisites\\\":[{\\\"source_id\\\":26,\\\"target_id\\\":36,\\\"type\\\":\\\"CurriculumPrerequisite\\\"},{\\\"source_id\\\":25,\\\"target_id\\\":36,\\\"type\\\":\\\"CurriculumPrerequisite\\\"},{\\\"source_id\\\":32,\\\"target_id\\\":36,\\\"type\\\":\\\"CurriculumPrerequisite\\\"},{\\\"source_id\\\":29,\\\"target_id\\\":36,\\\"type\\\":\\\"CurriculumPrerequisite\\\"},{\\\"source_id\\\":15,\\\"target_id\\\":36,\\\"type\\\":\\\"CurriculumPrerequisite\\\"},{\\\"source_id\\\":24,\\\"target_id\\\":36,\\\"type\\\":\\\"CurriculumPrerequisite\\\"}],\\\"name\\\":\\\" \\\",\\\"metrics\\\":{\\\"centrality\\\":111,\\\"complexity\\\":9.0,\\\"blocking factor\\\":1,\\\"delay factor\\\":8.0},\\\"nameSub\\\":\\\"ECE 4011\\\",\\\"id\\\":36,\\\"credits\\\":2,\\\"nameCanonical\\\":\\\"\\\"},{\\\"curriculum_requisites\\\":[],\\\"name\\\":\\\" \\\",\\\"metrics\\\":{\\\"centrality\\\":0,\\\"complexity\\\":1.0,\\\"blocking factor\\\":0,\\\"delay factor\\\":1.0},\\\"nameSub\\\":\\\"ECE 4XXX Elective\\\",\\\"id\\\":37,\\\"credits\\\":3,\\\"nameCanonical\\\":\\\"\\\"},{\\\"curriculum_requisites\\\":[],\\\"name\\\":\\\" \\\",\\\"metrics\\\":{\\\"centrality\\\":0,\\\"complexity\\\":1.0,\\\"blocking factor\\\":0,\\\"delay factor\\\":1.0},\\\"nameSub\\\":\\\"ECE 4XXX Lab Elective\\\",\\\"id\\\":38,\\\"credits\\\":3,\\\"nameCanonical\\\":\\\"\\\"},{\\\"curriculum_requisites\\\":[],\\\"name\\\":\\\" \\\",\\\"metrics\\\":{\\\"centrality\\\":0,\\\"complexity\\\":1.0,\\\"blocking factor\\\":0,\\\"delay factor\\\":1.0},\\\"nameSub\\\":\\\"Approved Elective\\\",\\\"id\\\":39,\\\"credits\\\":3,\\\"nameCanonical\\\":\\\"\\\"}],\\\"id\\\":7},{\\\"name\\\":\\\"Term 8\\\",\\\"curriculum_items\\\":[{\\\"curriculum_requisites\\\":[],\\\"name\\\":\\\" \\\",\\\"metrics\\\":{\\\"centrality\\\":0,\\\"complexity\\\":1.0,\\\"blocking factor\\\":0,\\\"delay factor\\\":1.0},\\\"nameSub\\\":\\\"Humanities Elective\\\",\\\"id\\\":40,\\\"credits\\\":3,\\\"nameCanonical\\\":\\\"\\\"},{\\\"curriculum_requisites\\\":[{\\\"source_id\\\":36,\\\"target_id\\\":41,\\\"type\\\":\\\"CurriculumPrerequisite\\\"}],\\\"name\\\":\\\" \\\",\\\"metrics\\\":{\\\"centrality\\\":0,\\\"complexity\\\":8.0,\\\"blocking factor\\\":0,\\\"delay factor\\\":8.0},\\\"nameSub\\\":\\\"ECE 4012\\\",\\\"id\\\":41,\\\"credits\\\":3,\\\"nameCanonical\\\":\\\"\\\"},{\\\"curriculum_requisites\\\":[],\\\"name\\\":\\\" \\\",\\\"metrics\\\":{\\\"centrality\\\":0,\\\"complexity\\\":1.0,\\\"blocking factor\\\":0,\\\"delay factor\\\":1.0},\\\"nameSub\\\":\\\"ECE 4XXX Elective\\\",\\\"id\\\":42,\\\"credits\\\":3,\\\"nameCanonical\\\":\\\"\\\"},{\\\"curriculum_requisites\\\":[],\\\"name\\\":\\\" \\\",\\\"metrics\\\":{\\\"centrality\\\":0,\\\"complexity\\\":1.0,\\\"blocking factor\\\":0,\\\"delay factor\\\":1.0},\\\"nameSub\\\":\\\"Approved Elective\\\",\\\"id\\\":43,\\\"credits\\\":3,\\\"nameCanonical\\\":\\\"\\\"},{\\\"curriculum_requisites\\\":[],\\\"name\\\":\\\" \\\",\\\"metrics\\\":{\\\"centrality\\\":0,\\\"complexity\\\":1.0,\\\"blocking factor\\\":0,\\\"delay factor\\\":1.0},\\\"nameSub\\\":\\\"Approved Elective\\\",\\\"id\\\":44,\\\"credits\\\":3,\\\"nameCanonical\\\":\\\"\\\"}],\\\"id\\\":8}],\\\"institution\\\":\\\"Georgia Institute of Technology\\\"}},\\\"*\\\"); window.removeEventListener(\\\"message\\\",window.messageReceived); window.messageReceived=(function (event){return (event.data.curriculum!==undefined) ? (WebIO.setval({\\\"name\\\":\\\"curriculum-data\\\",\\\"scope\\\":\\\"9694601150803625278\\\",\\\"id\\\":\\\"14350599914631112759\\\",\\\"type\\\":\\\"observable\\\"},event.data.curriculum)) : undefined}); return window.addEventListener(\\\"message\\\",window.messageReceived)})\")),:style => Dict(:padding => \"0\",:height => \"100vh\",:margin => \"0\",:border => \"none\",:width => \"100%\"))), Dict{String,Tuple{Observables.AbstractObservable,Union{Nothing, Bool}}}(\"curriculum-data\" => (Observable{Dict{String,Any}} with 1 listeners. Value:\n",
       "Dict{String,Any}(\"options\" => Dict{String,Any}(\"hideTerms\" => false,\"edit\" => false),\"curriculum\" => Dict{String,Any}(\"name\" => \"Electrical Engineering\",\"dp_name\" => \"2017-18 Plan\",\"curriculum_terms\" => Dict{String,Any}[Dict(\"name\" => \"Term 1\",\"curriculum_items\" => Dict{String,Any}[Dict(\"curriculum_requisites\" => Dict{String,Any}[],\"name\" => \" \",\"metrics\" => Dict{String,Any}(\"centrality\" => 0,\"complexity\" => 9.0,\"blocking factor\" => 4,\"delay factor\" => 5.0),\"nameSub\" => \"CHEM 1310\",\"id\" => 1,\"credits\" => 4,\"nameCanonical\" => \"\"), Dict(\"curriculum_requisites\" => Dict{String,Any}[],\"name\" => \" \",\"metrics\" => Dict{String,Any}(\"centrality\" => 0,\"complexity\" => 23.0,\"blocking factor\" => 15,\"delay factor\" => 8.0),\"nameSub\" => \"MATH 1551\",\"id\" => 2,\"credits\" => 2,\"nameCanonical\" => \"\"), Dict(\"curriculum_requisites\" => Dict{String,Any}[],\"name\" => \" \",\"metrics\" => Dict{String,Any}(\"centrality\" => 0,\"complexity\" => 16.0,\"blocking factor\" => 10,\"delay factor\" => 6.0),\"nameSub\" => \"MATH 1553\",\"id\" => 3,\"credits\" => 2,\"nameCanonical\" => \"\"), Dict(\"curriculum_requisites\" => Dict{String,Any}[],\"name\" => \" \",\"metrics\" => Dict{String,Any}(\"centrality\" => 0,\"complexity\" => 17.0,\"blocking factor\" => 10,\"delay factor\" => 7.0),\"nameSub\" => \"CS 1371\",\"id\" => 4,\"credits\" => 3,\"nameCanonical\" => \"\"), Dict(\"curriculum_requisites\" => Dict{String,Any}[],\"name\" => \" \",\"metrics\" => Dict{String,Any}(\"centrality\" => 0,\"complexity\" => 1.0,\"blocking factor\" => 0,\"delay factor\" => 1.0),\"nameSub\" => \"Wellness Elective\",\"id\" => 5,\"credits\" => 3,\"nameCanonical\" => \"\"), Dict(\"curriculum_requisites\" => Dict{String,Any}[],\"name\" => \" \",\"metrics\" => Dict{String,Any}(\"centrality\" => 0,\"complexity\" => 3.0,\"blocking factor\" => 1,\"delay factor\" => 2.0),\"nameSub\" => \"ENGL 1101\",\"id\" => 6,\"credits\" => 3,\"nameCanonical\" => \"\")],\"id\" => 1), Dict(\"name\" => \"Term 2\",\"curriculum_items\" => Dict{String,Any}[Dict(\"curriculum_requisites\" => Dict{String,Any}[Dict(\"source_id\" => 2,\"target_id\" => 7,\"type\" => \"CurriculumPrerequisite\")],\"name\" => \" \",\"metrics\" => Dict{String,Any}(\"centrality\" => 29,\"complexity\" => 17.0,\"blocking factor\" => 9,\"delay factor\" => 8.0),\"nameSub\" => \"PHYS 2211\",\"id\" => 7,\"credits\" => 4,\"nameCanonical\" => \"\"), Dict(\"curriculum_requisites\" => Dict{String,Any}[Dict(\"source_id\" => 2,\"target_id\" => 8,\"type\" => \"CurriculumPrerequisite\")],\"name\" => \" \",\"metrics\" => Dict{String,Any}(\"centrality\" => 34,\"complexity\" => 17.0,\"blocking factor\" => 10,\"delay factor\" => 7.0),\"nameSub\" => \"MATH 1552\",\"id\" => 8,\"credits\" => 4,\"nameCanonical\" => \"\"), Dict(\"curriculum_requisites\" => Dict{String,Any}[Dict(\"source_id\" => 4,\"target_id\" => 9,\"type\" => \"CurriculumPrerequisite\")],\"name\" => \" \",\"metrics\" => Dict{String,Any}(\"centrality\" => 11,\"complexity\" => 13.0,\"blocking factor\" => 6,\"delay factor\" => 7.0),\"nameSub\" => \"ECE 2020\",\"id\" => 9,\"credits\" => 3,\"nameCanonical\" => \"\"), Dict(\"curriculum_requisites\" => Dict{String,Any}[],\"name\" => \" \",\"metrics\" => Dict{String,Any}(\"centrality\" => 0,\"complexity\" => 1.0,\"blocking factor\" => 0,\"delay factor\" => 1.0),\"nameSub\" => \"History/Government Elective\",\"id\" => 10,\"credits\" => 3,\"nameCanonical\" => \"\"), Dict(\"curriculum_requisites\" => Dict{String,Any}[Dict(\"source_id\" => 6,\"target_id\" => 11,\"type\" => \"CurriculumPrerequisite\")],\"name\" => \" \",\"metrics\" => Dict{String,Any}(\"centrality\" => 0,\"complexity\" => 2.0,\"blocking factor\" => 0,\"delay factor\" => 2.0),\"nameSub\" => \"ENGL 1102\",\"id\" => 11,\"credits\" => 3,\"nameCanonical\" => \"\")],\"id\" => 2), Dict(\"name\" => \"Term 3\",\"curriculum_items\" => Dict{String,Any}[Dict(\"curriculum_requisites\" => Dict{String,Any}[Dict(\"source_id\" => 7,\"target_id\" => 12,\"type\" => \"CurriculumPrerequisite\")],\"name\" => \" \",\"metrics\" => Dict{String,Any}(\"centrality\" => 29,\"complexity\" => 16.0,\"blocking factor\" => 8,\"delay factor\" => 8.0),\"nameSub\" => \"PHYS 2212\",\"id\" => 12,\"credits\" => 4,\"nameCanonical\" => \"\"), Dict(\"curriculum_requisites\" => Dict{String,Any}[Dict(\"source_id\" => 3,\"target_id\" => 13,\"type\" => \"CurriculumPrerequisite\"), Dict(\"source_id\" => 8,\"target_id\" => 13,\"type\" => \"CurriculumPrerequisite\")],\"name\" => \" \",\"metrics\" => Dict{String,Any}(\"centrality\" => 0,\"complexity\" => 3.0,\"blocking factor\" => 0,\"delay factor\" => 3.0),\"nameSub\" => \"MATH 2552\",\"id\" => 13,\"credits\" => 4,\"nameCanonical\" => \"\"), Dict(\"curriculum_requisites\" => Dict{String,Any}[Dict(\"source_id\" => 4,\"target_id\" => 14,\"type\" => \"CurriculumPrerequisite\"), Dict(\"source_id\" => 3,\"target_id\" => 14,\"type\" => \"CurriculumPrerequisite\"), Dict(\"source_id\" => 8,\"target_id\" => 14,\"type\" => \"CurriculumPrerequisite\")],\"name\" => \" \",\"metrics\" => Dict{String,Any}(\"centrality\" => 32,\"complexity\" => 10.0,\"blocking factor\" => 4,\"delay factor\" => 6.0),\"nameSub\" => \"ECE 2026\",\"id\" => 14,\"credits\" => 3,\"nameCanonical\" => \"\"), Dict(\"curriculum_requisites\" => Dict{String,Any}[],\"name\" => \" \",\"metrics\" => Dict{String,Any}(\"centrality\" => 0,\"complexity\" => 5.0,\"blocking factor\" => 2,\"delay factor\" => 3.0),\"nameSub\" => \"Economics Elective\",\"id\" => 15,\"credits\" => 3,\"nameCanonical\" => \"\"), Dict(\"curriculum_requisites\" => Dict{String,Any}[],\"name\" => \" \",\"metrics\" => Dict{String,Any}(\"centrality\" => 0,\"complexity\" => 1.0,\"blocking factor\" => 0,\"delay factor\" => 1.0),\"nameSub\" => \"Social Sciences Elective\",\"id\" => 16,\"credits\" => 3,\"nameCanonical\" => \"\")],\"id\" => 3), Dict(\"name\" => \"Term 4\",\"curriculum_items\" => Dict{String,Any}[Dict(\"curriculum_requisites\" => Dict{String,Any}[],\"name\" => \" \",\"metrics\" => Dict{String,Any}(\"centrality\" => 0,\"complexity\" => 1.0,\"blocking factor\" => 0,\"delay factor\" => 1.0),\"nameSub\" => \"Science Elective\",\"id\" => 17,\"credits\" => 3,\"nameCanonical\" => \"\"), Dict(\"curriculum_requisites\" => Dict{String,Any}[Dict(\"source_id\" => 3,\"target_id\" => 18,\"type\" => \"CurriculumPrerequisite\"), Dict(\"source_id\" => 8,\"target_id\" => 18,\"type\" => \"CurriculumPrerequisite\")],\"name\" => \" \",\"metrics\" => Dict{String,Any}(\"centrality\" => 35,\"complexity\" => 13.0,\"blocking factor\" => 6,\"delay factor\" => 7.0),\"nameSub\" => \"MATH 2551\",\"id\" => 18,\"credits\" => 4,\"nameCanonical\" => \"\"), Dict(\"curriculum_requisites\" => Dict{String,Any}[Dict(\"source_id\" => 12,\"target_id\" => 19,\"type\" => \"CurriculumPrerequisite\")],\"name\" => \" \",\"metrics\" => Dict{String,Any}(\"centrality\" => 29,\"complexity\" => 15.0,\"blocking factor\" => 7,\"delay factor\" => 8.0),\"nameSub\" => \"ECE 2040\",\"id\" => 19,\"credits\" => 3,\"nameCanonical\" => \"\"), Dict(\"curriculum_requisites\" => Dict{String,Any}[Dict(\"source_id\" => 9,\"target_id\" => 20,\"type\" => \"CurriculumPrerequisite\")],\"name\" => \" \",\"metrics\" => Dict{String,Any}(\"centrality\" => 11,\"complexity\" => 12.0,\"blocking factor\" => 5,\"delay factor\" => 7.0),\"nameSub\" => \"ECE 2031\",\"id\" => 20,\"credits\" => 2,\"nameCanonical\" => \"\"), Dict(\"curriculum_requisites\" => Dict{String,Any}[Dict(\"source_id\" => 20,\"target_id\" => 21,\"type\" => \"CurriculumCorequisite\")],\"name\" => \" \",\"metrics\" => Dict{String,Any}(\"centrality\" => 0,\"complexity\" => 4.0,\"blocking factor\" => 0,\"delay factor\" => 4.0),\"nameSub\" => \"Programming Elective\",\"id\" => 21,\"credits\" => 3,\"nameCanonical\" => \"\")],\"id\" => 4), Dict(\"name\" => \"Term 5\",\"curriculum_items\" => Dict{String,Any}[Dict(\"curriculum_requisites\" => Dict{String,Any}[],\"name\" => \" \",\"metrics\" => Dict{String,Any}(\"centrality\" => 0,\"complexity\" => 1.0,\"blocking factor\" => 0,\"delay factor\" => 1.0),\"nameSub\" => \"Humanities Elective\",\"id\" => 22,\"credits\" => 3,\"nameCanonical\" => \"\"), Dict(\"curriculum_requisites\" => Dict{String,Any}[Dict(\"source_id\" => 20,\"target_id\" => 23,\"type\" => \"CurriculumPrerequisite\"), Dict(\"source_id\" => 1,\"target_id\" => 23,\"type\" => \"CurriculumPrerequisite\"), Dict(\"source_id\" => 19,\"target_id\" => 23,\"type\" => \"CurriculumPrerequisite\"), Dict(\"source_id\" => 18,\"target_id\" => 23,\"type\" => \"CurriculumPrerequisite\")],\"name\" => \" \",\"metrics\" => Dict{String,Any}(\"centrality\" => 33,\"complexity\" => 11.0,\"blocking factor\" => 3,\"delay factor\" => 8.0),\"nameSub\" => \"ECE 3040\",\"id\" => 23,\"credits\" => 4,\"nameCanonical\" => \"\"), Dict(\"curriculum_requisites\" => Dict{String,Any}[Dict(\"source_id\" => 23,\"target_id\" => 24,\"type\" => \"CurriculumCorequisite\")],\"name\" => \" \",\"metrics\" => Dict{String,Any}(\"centrality\" => 33,\"complexity\" => 10.0,\"blocking factor\" => 2,\"delay factor\" => 8.0),\"nameSub\" => \"ECE 3043\",\"id\" => 24,\"credits\" => 2,\"nameCanonical\" => \"\"), Dict(\"curriculum_requisites\" => Dict{String,Any}[Dict(\"source_id\" => 14,\"target_id\" => 25,\"type\" => \"CurriculumPrerequisite\"), Dict(\"source_id\" => 19,\"target_id\" => 25,\"type\" => \"CurriculumPrerequisite\"), Dict(\"source_id\" => 18,\"target_id\" => 25,\"type\" => \"CurriculumPrerequisite\")],\"name\" => \" \",\"metrics\" => Dict{String,Any}(\"centrality\" => 34,\"complexity\" => 9.0,\"blocking factor\" => 2,\"delay factor\" => 7.0),\"nameSub\" => \"ECE 3025\",\"id\" => 25,\"credits\" => 3,\"nameCanonical\" => \"\"), Dict(\"curriculum_requisites\" => Dict{String,Any}[Dict(\"source_id\" => 14,\"target_id\" => 26,\"type\" => \"CurriculumPrerequisite\"), Dict(\"source_id\" => 19,\"target_id\" => 26,\"type\" => \"CurriculumPrerequisite\")],\"name\" => \" \",\"metrics\" => Dict{String,Any}(\"centrality\" => 23,\"complexity\" => 9.0,\"blocking factor\" => 2,\"delay factor\" => 7.0),\"nameSub\" => \"ECE 3084\",\"id\" => 26,\"credits\" => 3,\"nameCanonical\" => \"\"), Dict(\"curriculum_requisites\" => Dict{String,Any}[],\"name\" => \" \",\"metrics\" => Dict{String,Any}(\"centrality\" => 0,\"complexity\" => 1.0,\"blocking factor\" => 0,\"delay factor\" => 1.0),\"nameSub\" => \"Social Sciences Elective\",\"id\" => 27,\"credits\" => 3,\"nameCanonical\" => \"\")],\"id\" => 5), Dict(\"name\" => \"Term 6\",\"curriculum_items\" => Dict{String,Any}[Dict(\"curriculum_requisites\" => Dict{String,Any}[],\"name\" => \" \",\"metrics\" => Dict{String,Any}(\"centrality\" => 0,\"complexity\" => 1.0,\"blocking factor\" => 0,\"delay factor\" => 1.0),\"nameSub\" => \"ECE/Approved Engineering Elective\",\"id\" => 28,\"credits\" => 3,\"nameCanonical\" => \"\"), Dict(\"curriculum_requisites\" => Dict{String,Any}[Dict(\"source_id\" => 18,\"target_id\" => 29,\"type\" => \"CurriculumPrerequisite\")],\"name\" => \" \",\"metrics\" => Dict{String,Any}(\"centrality\" => 11,\"complexity\" => 8.0,\"blocking factor\" => 2,\"delay factor\" => 6.0),\"nameSub\" => \"Prob/Stat ECE/App/Engr Elective\",\"id\" => 29,\"credits\" => 3,\"nameCanonical\" => \"\"), Dict(\"curriculum_requisites\" => Dict{String,Any}[],\"name\" => \" \",\"metrics\" => Dict{String,Any}(\"centrality\" => 0,\"complexity\" => 1.0,\"blocking factor\" => 0,\"delay factor\" => 1.0),\"nameSub\" => \"ECE Elective\",\"id\" => 30,\"credits\" => 3,\"nameCanonical\" => \"\"), Dict(\"curriculum_requisites\" => Dict{String,Any}[],\"name\" => \" \",\"metrics\" => Dict{String,Any}(\"centrality\" => 0,\"complexity\" => 1.0,\"blocking factor\" => 0,\"delay factor\" => 1.0),\"nameSub\" => \"ECE Elective\",\"id\" => 31,\"credits\" => 3,\"nameCanonical\" => \"\"), Dict(\"curriculum_requisites\" => Dict{String,Any}[Dict(\"source_id\" => 19,\"target_id\" => 32,\"type\" => \"CurriculumPrerequisite\")],\"name\" => \" \",\"metrics\" => Dict{String,Any}(\"centrality\" => 7,\"complexity\" => 9.0,\"blocking factor\" => 2,\"delay factor\" => 7.0),\"nameSub\" => \"ECE 3072\",\"id\" => 32,\"credits\" => 3,\"nameCanonical\" => \"\"), Dict(\"curriculum_requisites\" => Dict{String,Any}[],\"name\" => \" \",\"metrics\" => Dict{String,Any}(\"centrality\" => 0,\"complexity\" => 1.0,\"blocking factor\" => 0,\"delay factor\" => 1.0),\"nameSub\" => \"Approved Elective\",\"id\" => 33,\"credits\" => 3,\"nameCanonical\" => \"\")],\"id\" => 6), Dict(\"name\" => \"Term 7\",\"curriculum_items\" => Dict{String,Any}[Dict(\"curriculum_requisites\" => Dict{String,Any}[],\"name\" => \" \",\"metrics\" => Dict{String,Any}(\"centrality\" => 0,\"complexity\" => 1.0,\"blocking factor\" => 0,\"delay factor\" => 1.0),\"nameSub\" => \"Engineering Elective\",\"id\" => 34,\"credits\" => 3,\"nameCanonical\" => \"\"), Dict(\"curriculum_requisites\" => Dict{String,Any}[],\"name\" => \" \",\"metrics\" => Dict{String,Any}(\"centrality\" => 0,\"complexity\" => 1.0,\"blocking factor\" => 0,\"delay factor\" => 1.0),\"nameSub\" => \"ECE Elective\",\"id\" => 35,\"credits\" => 3,\"nameCanonical\" => \"\"), Dict(\"curriculum_requisites\" => Dict{String,Any}[Dict(\"source_id\" => 26,\"target_id\" => 36,\"type\" => \"CurriculumPrerequisite\"), Dict(\"source_id\" => 25,\"target_id\" => 36,\"type\" => \"CurriculumPrerequisite\"), Dict(\"source_id\" => 32,\"target_id\" => 36,\"type\" => \"CurriculumPrerequisite\"), Dict(\"source_id\" => 29,\"target_id\" => 36,\"type\" => \"CurriculumPrerequisite\"), Dict(\"source_id\" => 15,\"target_id\" => 36,\"type\" => \"CurriculumPrerequisite\"), Dict(\"source_id\" => 24,\"target_id\" => 36,\"type\" => \"CurriculumPrerequisite\")],\"name\" => \" \",\"metrics\" => Dict{String,Any}(\"centrality\" => 111,\"complexity\" => 9.0,\"blocking factor\" => 1,\"delay factor\" => 8.0),\"nameSub\" => \"ECE 4011\",\"id\" => 36,\"credits\" => 2,\"nameCanonical\" => \"\"), Dict(\"curriculum_requisites\" => Dict{String,Any}[],\"name\" => \" \",\"metrics\" => Dict{String,Any}(\"centrality\" => 0,\"complexity\" => 1.0,\"blocking factor\" => 0,\"delay factor\" => 1.0),\"nameSub\" => \"ECE 4XXX Elective\",\"id\" => 37,\"credits\" => 3,\"nameCanonical\" => \"\"), Dict(\"curriculum_requisites\" => Dict{String,Any}[],\"name\" => \" \",\"metrics\" => Dict{String,Any}(\"centrality\" => 0,\"complexity\" => 1.0,\"blocking factor\" => 0,\"delay factor\" => 1.0),\"nameSub\" => \"ECE 4XXX Lab Elective\",\"id\" => 38,\"credits\" => 3,\"nameCanonical\" => \"\"), Dict(\"curriculum_requisites\" => Dict{String,Any}[],\"name\" => \" \",\"metrics\" => Dict{String,Any}(\"centrality\" => 0,\"complexity\" => 1.0,\"blocking factor\" => 0,\"delay factor\" => 1.0),\"nameSub\" => \"Approved Elective\",\"id\" => 39,\"credits\" => 3,\"nameCanonical\" => \"\")],\"id\" => 7), Dict(\"name\" => \"Term 8\",\"curriculum_items\" => Dict{String,Any}[Dict(\"curriculum_requisites\" => Dict{String,Any}[],\"name\" => \" \",\"metrics\" => Dict{String,Any}(\"centrality\" => 0,\"complexity\" => 1.0,\"blocking factor\" => 0,\"delay factor\" => 1.0),\"nameSub\" => \"Humanities Elective\",\"id\" => 40,\"credits\" => 3,\"nameCanonical\" => \"\"), Dict(\"curriculum_requisites\" => Dict{String,Any}[Dict(\"source_id\" => 36,\"target_id\" => 41,\"type\" => \"CurriculumPrerequisite\")],\"name\" => \" \",\"metrics\" => Dict{String,Any}(\"centrality\" => 0,\"complexity\" => 8.0,\"blocking factor\" => 0,\"delay factor\" => 8.0),\"nameSub\" => \"ECE 4012\",\"id\" => 41,\"credits\" => 3,\"nameCanonical\" => \"\"), Dict(\"curriculum_requisites\" => Dict{String,Any}[],\"name\" => \" \",\"metrics\" => Dict{String,Any}(\"centrality\" => 0,\"complexity\" => 1.0,\"blocking factor\" => 0,\"delay factor\" => 1.0),\"nameSub\" => \"ECE 4XXX Elective\",\"id\" => 42,\"credits\" => 3,\"nameCanonical\" => \"\"), Dict(\"curriculum_requisites\" => Dict{String,Any}[],\"name\" => \" \",\"metrics\" => Dict{String,Any}(\"centrality\" => 0,\"complexity\" => 1.0,\"blocking factor\" => 0,\"delay factor\" => 1.0),\"nameSub\" => \"Approved Elective\",\"id\" => 43,\"credits\" => 3,\"nameCanonical\" => \"\"), Dict(\"curriculum_requisites\" => Dict{String,Any}[],\"name\" => \" \",\"metrics\" => Dict{String,Any}(\"centrality\" => 0,\"complexity\" => 1.0,\"blocking factor\" => 0,\"delay factor\" => 1.0),\"nameSub\" => \"Approved Elective\",\"id\" => 44,\"credits\" => 3,\"nameCanonical\" => \"\")],\"id\" => 8)],\"institution\" => \"Georgia Institute of Technology\")), nothing)), Set{String}(), nothing, WebIO.Asset[], Dict{Any,Any}(), WebIO.ConnectionPool(Channel{Any}(sz_max:32,sz_curr:0), Set{WebIO.AbstractConnection}(), Base.GenericCondition{Base.AlwaysLockedST}(Base.InvasiveLinkedList{Task}(Task (runnable) @0x000000011efb1450, Task (runnable) @0x000000011efb1450), Base.AlwaysLockedST(1))), WebIO.JSString[])"
      ]
     },
     "execution_count": 5,
     "metadata": {
      "application/vnd.webio.node+json": {
       "kernelId": "b3962c25-c302-46d3-8907-86a3f30bc345"
      }
     },
     "output_type": "execute_result"
    }
   ],
   "source": [
    "EE_degree_plan = read_csv(\"Ga_Tech-EE.csv\")\n",
    "visualize(EE_degree_plan, notebook=true, scale=1.0)"
   ]
  },
  {
   "cell_type": "code",
   "execution_count": 6,
   "metadata": {},
   "outputs": [
    {
     "data": {
      "text/plain": [
       "Dict{String,Any} with 8 entries:\n",
       "  \"total credit hours\"         => 134\n",
       "  \"avg. credits per term\"      => 16.75\n",
       "  \"min. credits in a term\"     => 15\n",
       "  \"term credit hour std. dev.\" => 1.08972\n",
       "  \"number of terms\"            => 8\n",
       "  \"max. credits in a term\"     => 18\n",
       "  \"min. credit term\"           => 4\n",
       "  \"max. credit term\"           => 5"
      ]
     },
     "execution_count": 6,
     "metadata": {},
     "output_type": "execute_result"
    }
   ],
   "source": [
    "basic_metrics(EE_degree_plan)\n",
    "EE_degree_plan.metrics"
   ]
  },
  {
   "cell_type": "markdown",
   "metadata": {},
   "source": [
    "### 2.2 Creating the Student Cohort\n",
    "\n",
    "The following command will create an inital cohort of students `n` using a simple enrollment model. Specifically, with this simple model, all students are assumed equally likely (or unlikely) to pass a given class according the course pass rate probability model."
   ]
  },
  {
   "cell_type": "code",
   "execution_count": 7,
   "metadata": {},
   "outputs": [],
   "source": [
    "enrollment_model = Enrollment  # use the Enrollment module to determine if/when student may enroll in a course\n",
    "stopouts = true  # assume that student may stop out of the cohort\n",
    "n = 1000   # student cohort size will be 100\n",
    "students = simple_students(n);  # create a student cohort"
   ]
  },
  {
   "cell_type": "markdown",
   "metadata": {},
   "source": [
    "### 2.3 The Course Performance Model\n",
    "\n",
    "First let's see what happens if the instructional complexity is the same for both programs. Specifically, we will use course pass rates as a proxy for instructional complexity, and we'll set the pass rates for all courses at 90%. "
   ]
  },
  {
   "cell_type": "code",
   "execution_count": 8,
   "metadata": {},
   "outputs": [],
   "source": [
    "performance_model = PassRate\n",
    "real_passrate = false\n",
    "set_passrates(AE_degree_plan.curriculum.courses, 0.9)\n",
    "set_passrates(CS_degree_plan.curriculum.courses, 0.9)\n",
    "course_passrate = 0.9;"
   ]
  },
  {
   "cell_type": "markdown",
   "metadata": {},
   "source": [
    "### 2.4 Setting the Simulation Parameters"
   ]
  },
  {
   "cell_type": "code",
   "execution_count": 9,
   "metadata": {},
   "outputs": [],
   "source": [
    "max_credits = 18  # the maximum number of credit hours a student may enroll in during a semester\n",
    "duration_lock = false # rather than simulating until no students are left in the cohort, run for a fixed number of terms\n",
    "num_terms = 12  # the maximum number of terms in the simulation\n",
    "course_attempt_limit = 2;  # number of times a student may attempt a course"
   ]
  },
  {
   "cell_type": "markdown",
   "metadata": {},
   "source": [
    "### 2.5 Running the Simulation \n",
    "The `simulation` function is used to execute the simulation.  Depending upon how many students are in the cohort, this may take some time to run."
   ]
  },
  {
   "cell_type": "code",
   "execution_count": 10,
   "metadata": {},
   "outputs": [],
   "source": [
    "simulation = simulate(AE_degree_plan, course_attempt_limit, students,\n",
    "                      max_credits = max_credits,\n",
    "                      performance_model = performance_model,\n",
    "                      enrollment_model = enrollment_model,\n",
    "                      duration = num_terms,\n",
    "                      duration_lock = duration_lock,\n",
    "                      stopouts = stopouts);"
   ]
  },
  {
   "cell_type": "markdown",
   "metadata": {},
   "source": [
    "In order to view the results of the simulation, use the `simulation_report` function:"
   ]
  },
  {
   "cell_type": "code",
   "execution_count": 11,
   "metadata": {
    "scrolled": false
   },
   "outputs": [
    {
     "name": "stdout",
     "output_type": "stream",
     "text": [
      "\n",
      "\u001b[0m\u001b[1m------------ Simulation Report ------------\u001b[22m\n",
      "Aerospace Engineering, BS -- 2019-20 Degree Plan\n",
      "\n",
      "-------- Simulation Statistics --------\n",
      "Number of terms: 12\n",
      "Max Credits per Term: 18\n",
      "Max Course Attempts: 2\n",
      "Number of Students: 1000\n",
      "Preset Course Pass Rates: 90.0%\n",
      "\n",
      "-------- Graduation Statistics --------\n",
      "Number of Students Graduated: 449\n",
      "Graduation Rate: 44.9%\n",
      "Term Graduation Rates: \n",
      "[0.0, 0.0, 0.0, 0.0, 0.0, 0.0, 0.0, 0.056, 0.301, 0.439, 0.448, 0.449]\n",
      "Average time to degree: 9.229398663697104 terms\n",
      "\n",
      "-------- Stop out Statistics --------\n",
      "Number of Students Stopped Out (Stopout Model Prediction + Reached Max Attempts): 551\n",
      "Number of Students Reaching Max Attempts: 275\n",
      "Stop-out Rate: 55.1%\n",
      "Cumulative Term Stop-out Rates (including reached max course attempts students): \n",
      "[0.068, 0.231, 0.312, 0.39, 0.435, 0.469, 0.49, 0.511, 0.538, 0.549, 0.551, 0.551]\n",
      "\n",
      "Cumulative Term Stop-out Rates (excluding reaching max course attempts students): \n",
      "[0.068, 0.171, 0.203, 0.25, 0.27, 0.271, 0.276, 0.276, 0.276, 0.276, 0.276, 0.276]\n",
      "\n",
      "Cumulative Term Reached Max Course Attempts Rates: \n",
      "[0.0, 0.06, 0.109, 0.14, 0.165, 0.198, 0.214, 0.235, 0.262, 0.273, 0.275, 0.275]\n",
      "\n",
      "\n",
      "-------- Course Pass Rates by Term --------\n",
      "\n",
      "│ Row │ COUSE                                   │ TERM1 │ TERM2 │ TERM3 │\n",
      "├─────┼─────────────────────────────────────────┼───────┼───────┼───────┤\n",
      "│ 1   │ Calculus I w/ Applications              │ 89.5% │ 98.4% │ 98.4% │\n",
      "│ 2   │ Gen Chemistry I                         │ 89.4% │ 98.2% │ 98.2% │\n",
      "│ 3   │ First-year Comp.                        │ 89.8% │ 98.1% │ 98.1% │\n",
      "│ 4   │ Intro to Engineering                    │ 88.4% │ 98.4% │ 98.4% │\n",
      "│ 5   │ Tier I General Ed.                      │ 90.7% │ 98.3% │ 98.3% │\n",
      "│ 6   │ Calculus II                             │ 0.0%  │ 72.8% │ 88.1% │\n",
      "│ 7   │ Intro. to MATLAB I                      │ 0.0%  │ 74.4% │ 87.7% │\n",
      "│ 8   │ Intro Mechanics                         │ 0.0%  │ 76.0% │ 88.1% │\n",
      "│ 9   │ First-year Comp.                        │ 0.0%  │ 75.8% │ 88.9% │\n",
      "│ 10  │ Programming for Eng. Apps.              │ 0.0%  │ 79.8% │ 89.4% │\n",
      "│ 11  │ Tier I General Ed. 1                    │ 0.0%  │ 64.4% │ 85.2% │\n",
      "│ 12  │ Statics                                 │ 0.0%  │ 0.0%  │ 50.4% │\n",
      "│ 13  │ Vector Calculus                         │ 0.0%  │ 0.0%  │ 54.5% │\n",
      "│ 14  │ Electricity & Magnetism                 │ 0.0%  │ 0.0%  │ 49.2% │\n",
      "│ 15  │ Intro. To MATLAB II                     │ 0.0%  │ 0.0%  │ 56.5% │\n",
      "│ 16  │ Comp. Aided Drafting & Manufacturing    │ 0.0%  │ 8.7%  │ 64.8% │\n",
      "│ 17  │ Tier I General Ed. 2                    │ 0.0%  │ 6.3%  │ 44.1% │\n",
      "│ 18  │ Thermodynamics                          │ 0.0%  │ 0.0%  │ 7.0%  │\n",
      "│ 19  │ Dynamics                                │ 0.0%  │ 0.0%  │ 0.0%  │\n",
      "│ 20  │ Intro. to ODEs                          │ 0.0%  │ 0.0%  │ 0.0%  │\n",
      "│ 21  │ Intro. to Aerospace Eng.                │ 0.0%  │ 0.0%  │ 0.0%  │\n",
      "│ 22  │ Tier I General Ed. 3                    │ 0.0%  │ 0.0%  │ 13.5% │\n",
      "│ 23  │ Aerodynamics                            │ 0.0%  │ 0.0%  │ 0.0%  │\n",
      "│ 24  │ Mech. Behavior of Eng. Materials.       │ 0.0%  │ 0.0%  │ 0.0%  │\n",
      "│ 25  │ Engineering Analysis                    │ 0.0%  │ 0.0%  │ 0.0%  │\n",
      "│ 26  │ Instrumentation Lab.                    │ 0.0%  │ 0.0%  │ 3.2%  │\n",
      "│ 27  │ Fund. of Materials for Engineers        │ 0.0%  │ 0.0%  │ 0.0%  │\n",
      "│ 28  │ Mech. of Materials Lab.                 │ 90.1% │ 97.2% │ 97.8% │\n",
      "│ 29  │ Eng. Component Design                   │ 0.0%  │ 0.0%  │ 0.0%  │\n",
      "│ 30  │ Aircraft Performance                    │ 0.0%  │ 0.0%  │ 0.0%  │\n",
      "│ 31  │ Gasdynamics                             │ 0.0%  │ 0.0%  │ 0.0%  │\n",
      "│ 32  │ Numerical Methods                       │ 0.0%  │ 0.0%  │ 0.0%  │\n",
      "│ 33  │ Aero./Mech. Eng. Lab                    │ 89.4% │ 96.2% │ 97.0% │\n",
      "│ 34  │ Tier II General Ed. 1                   │ 0.0%  │ 0.0%  │ 0.0%  │\n",
      "│ 35  │ Senior Aerospace Lab.                   │ 0.0%  │ 0.0%  │ 0.0%  │\n",
      "│ 36  │ Aerospace Conceptual Design             │ 0.0%  │ 0.0%  │ 0.0%  │\n",
      "│ 37  │ Aerospace Propulsion                    │ 0.0%  │ 0.0%  │ 0.0%  │\n",
      "│ 38  │ Stability and Control of Aero. Vehicles │ 0.0%  │ 0.0%  │ 0.0%  │\n",
      "│ 39  │ Orbital Mechanicans and Space Flt.      │ 0.0%  │ 0.0%  │ 0.0%  │\n",
      "│ 40  │ Senior Colloquium                       │ 0.0%  │ 53.2% │ 61.9% │\n",
      "│ 41  │ Aerospace Eng.Design                    │ 0.0%  │ 0.0%  │ 0.0%  │\n",
      "│ 42  │ Num. Meth. in Fluid Mech. & Heat Xfer   │ 0.0%  │ 0.0%  │ 0.0%  │\n",
      "│ 43  │ Technical Elective 1                    │ 0.0%  │ 0.0%  │ 0.0%  │\n",
      "│ 44  │ Technical Elective 2                    │ 0.0%  │ 0.0%  │ 0.0%  │\n",
      "│ 45  │ Tier II General Ed. 2                   │ 0.0%  │ 0.0%  │ 0.0%  │\n",
      "│ 46  │ GRAD RATE                               │ 0.0%  │ 0.0%  │ 0.0%  │\n",
      "\n",
      "│ Row │ TERM4 │ TERM5 │ TERM6 │ TERM7 │ TERM8 │ TERM9 │ TERM10 │ TERM11 │\n",
      "├─────┼───────┼───────┼───────┼───────┼───────┼───────┼────────┼────────┤\n",
      "│ 1   │ 98.4% │ 98.4% │ 98.4% │ 98.4% │ 98.4% │ 98.4% │ 98.4%  │ 98.4%  │\n",
      "│ 2   │ 98.2% │ 98.2% │ 98.2% │ 98.2% │ 98.2% │ 98.2% │ 98.2%  │ 98.2%  │\n",
      "│ 3   │ 98.1% │ 98.1% │ 98.1% │ 98.1% │ 98.1% │ 98.1% │ 98.1%  │ 98.1%  │\n",
      "│ 4   │ 98.4% │ 98.4% │ 98.4% │ 98.4% │ 98.4% │ 98.4% │ 98.4%  │ 98.4%  │\n",
      "│ 5   │ 98.3% │ 98.3% │ 98.3% │ 98.3% │ 98.3% │ 98.3% │ 98.3%  │ 98.3%  │\n",
      "│ 6   │ 88.4% │ 88.4% │ 88.4% │ 88.4% │ 88.4% │ 88.4% │ 88.4%  │ 88.4%  │\n",
      "│ 7   │ 88.6% │ 88.6% │ 88.6% │ 88.6% │ 88.6% │ 88.6% │ 88.6%  │ 88.6%  │\n",
      "│ 8   │ 88.7% │ 88.7% │ 88.7% │ 88.7% │ 88.7% │ 88.7% │ 88.7%  │ 88.7%  │\n",
      "│ 9   │ 89.4% │ 89.4% │ 89.4% │ 89.4% │ 89.4% │ 89.4% │ 89.4%  │ 89.4%  │\n",
      "│ 10  │ 89.5% │ 89.5% │ 89.5% │ 89.5% │ 89.5% │ 89.5% │ 89.5%  │ 89.5%  │\n",
      "│ 11  │ 86.4% │ 86.4% │ 86.4% │ 86.4% │ 86.4% │ 86.4% │ 86.4%  │ 86.4%  │\n",
      "│ 12  │ 69.9% │ 72.0% │ 72.0% │ 72.0% │ 72.0% │ 72.0% │ 72.0%  │ 72.0%  │\n",
      "│ 13  │ 71.7% │ 72.5% │ 72.5% │ 72.5% │ 72.5% │ 72.5% │ 72.5%  │ 72.5%  │\n",
      "│ 14  │ 69.4% │ 71.8% │ 71.8% │ 71.8% │ 71.8% │ 71.8% │ 71.8%  │ 71.8%  │\n",
      "│ 15  │ 71.8% │ 73.5% │ 73.6% │ 73.6% │ 73.6% │ 73.6% │ 73.6%  │ 73.6%  │\n",
      "│ 16  │ 76.0% │ 76.7% │ 76.7% │ 76.7% │ 76.7% │ 76.7% │ 76.7%  │ 76.7%  │\n",
      "│ 17  │ 71.1% │ 73.0% │ 73.0% │ 73.0% │ 73.0% │ 73.0% │ 73.0%  │ 73.0%  │\n",
      "│ 18  │ 63.3% │ 68.9% │ 68.9% │ 68.9% │ 68.9% │ 68.9% │ 68.9%  │ 68.9%  │\n",
      "│ 19  │ 39.9% │ 59.9% │ 63.9% │ 64.0% │ 64.0% │ 64.0% │ 64.0%  │ 64.0%  │\n",
      "│ 20  │ 40.1% │ 61.4% │ 63.7% │ 63.8% │ 63.8% │ 63.8% │ 63.8%  │ 63.8%  │\n",
      "│ 21  │ 27.3% │ 59.2% │ 62.4% │ 62.6% │ 62.6% │ 62.6% │ 62.6%  │ 62.6%  │\n",
      "│ 22  │ 32.6% │ 64.0% │ 66.0% │ 66.0% │ 66.0% │ 66.0% │ 66.0%  │ 66.0%  │\n",
      "│ 23  │ 0.0%  │ 22.3% │ 51.5% │ 56.8% │ 57.2% │ 57.2% │ 57.2%  │ 57.2%  │\n",
      "│ 24  │ 0.0%  │ 46.4% │ 57.7% │ 58.6% │ 58.6% │ 58.6% │ 58.6%  │ 58.6%  │\n",
      "│ 25  │ 0.0%  │ 31.4% │ 53.6% │ 57.2% │ 57.4% │ 57.4% │ 57.4%  │ 57.4%  │\n",
      "│ 26  │ 6.6%  │ 35.7% │ 56.9% │ 58.7% │ 58.7% │ 58.7% │ 58.7%  │ 58.7%  │\n",
      "│ 27  │ 2.4%  │ 12.9% │ 51.2% │ 56.1% │ 56.1% │ 56.1% │ 56.1%  │ 56.1%  │\n",
      "│ 28  │ 98.0% │ 98.0% │ 98.2% │ 98.2% │ 98.2% │ 98.2% │ 98.2%  │ 98.2%  │\n",
      "│ 29  │ 0.0%  │ 0.0%  │ 27.1% │ 48.9% │ 53.7% │ 54.4% │ 54.4%  │ 54.4%  │\n",
      "│ 30  │ 0.0%  │ 0.0%  │ 40.4% │ 53.7% │ 54.6% │ 54.6% │ 54.6%  │ 54.6%  │\n",
      "│ 31  │ 0.0%  │ 0.0%  │ 26.6% │ 49.4% │ 53.1% │ 53.1% │ 53.1%  │ 53.1%  │\n",
      "│ 32  │ 0.0%  │ 0.0%  │ 17.2% │ 48.4% │ 52.4% │ 52.6% │ 52.6%  │ 52.6%  │\n",
      "│ 33  │ 97.3% │ 97.3% │ 97.3% │ 97.4% │ 97.4% │ 97.4% │ 97.4%  │ 97.4%  │\n",
      "│ 34  │ 0.1%  │ 1.7%  │ 8.9%  │ 46.1% │ 51.5% │ 52.0% │ 52.0%  │ 52.0%  │\n",
      "│ 35  │ 0.0%  │ 0.0%  │ 0.0%  │ 20.5% │ 44.0% │ 50.2% │ 50.3%  │ 50.3%  │\n",
      "│ 36  │ 0.0%  │ 0.0%  │ 0.0%  │ 21.0% │ 43.2% │ 49.6% │ 50.1%  │ 50.1%  │\n",
      "│ 37  │ 0.0%  │ 0.0%  │ 0.0%  │ 21.0% │ 44.8% │ 50.9% │ 50.9%  │ 50.9%  │\n",
      "│ 38  │ 0.0%  │ 0.0%  │ 0.0%  │ 24.3% │ 46.7% │ 50.8% │ 51.1%  │ 51.1%  │\n",
      "│ 39  │ 0.0%  │ 0.0%  │ 0.3%  │ 18.8% │ 46.3% │ 51.4% │ 51.6%  │ 51.6%  │\n",
      "│ 40  │ 69.2% │ 69.9% │ 70.2% │ 71.4% │ 78.6% │ 79.3% │ 79.3%  │ 79.3%  │\n",
      "│ 41  │ 0.0%  │ 0.0%  │ 0.0%  │ 0.0%  │ 18.4% │ 39.7% │ 47.6%  │ 48.3%  │\n",
      "│ 42  │ 0.0%  │ 0.0%  │ 0.0%  │ 4.7%  │ 39.1% │ 49.5% │ 50.3%  │ 50.3%  │\n",
      "│ 43  │ 0.1%  │ 0.5%  │ 1.6%  │ 3.3%  │ 35.7% │ 49.3% │ 50.3%  │ 50.4%  │\n",
      "│ 44  │ 0.0%  │ 0.0%  │ 0.9%  │ 1.3%  │ 22.6% │ 45.7% │ 49.0%  │ 49.0%  │\n",
      "│ 45  │ 0.0%  │ 0.0%  │ 0.3%  │ 0.4%  │ 13.2% │ 43.8% │ 48.5%  │ 48.6%  │\n",
      "│ 46  │ 0.0%  │ 0.0%  │ 0.0%  │ 0.0%  │ 5.6%  │ 30.1% │ 43.9%  │ 44.8%  │\n",
      "\n",
      "│ Row │ TERM12 │\n",
      "├─────┼────────┤\n",
      "│ 1   │ 98.4%  │\n",
      "│ 2   │ 98.2%  │\n",
      "│ 3   │ 98.1%  │\n",
      "│ 4   │ 98.4%  │\n",
      "│ 5   │ 98.3%  │\n",
      "│ 6   │ 88.4%  │\n",
      "│ 7   │ 88.6%  │\n",
      "│ 8   │ 88.7%  │\n",
      "│ 9   │ 89.4%  │\n",
      "│ 10  │ 89.5%  │\n",
      "│ 11  │ 86.4%  │\n",
      "│ 12  │ 72.0%  │\n",
      "│ 13  │ 72.5%  │\n",
      "│ 14  │ 71.8%  │\n",
      "│ 15  │ 73.6%  │\n",
      "│ 16  │ 76.7%  │\n",
      "│ 17  │ 73.0%  │\n",
      "│ 18  │ 68.9%  │\n",
      "│ 19  │ 64.0%  │\n",
      "│ 20  │ 63.8%  │\n"
     ]
    },
    {
     "name": "stdout",
     "output_type": "stream",
     "text": [
      "│ 21  │ 62.6%  │\n",
      "│ 22  │ 66.0%  │\n",
      "│ 23  │ 57.2%  │\n",
      "│ 24  │ 58.6%  │\n",
      "│ 25  │ 57.4%  │\n",
      "│ 26  │ 58.7%  │\n",
      "│ 27  │ 56.1%  │\n",
      "│ 28  │ 98.2%  │\n",
      "│ 29  │ 54.4%  │\n",
      "│ 30  │ 54.6%  │\n",
      "│ 31  │ 53.1%  │\n",
      "│ 32  │ 52.6%  │\n",
      "│ 33  │ 97.4%  │\n",
      "│ 34  │ 52.0%  │\n",
      "│ 35  │ 50.3%  │\n",
      "│ 36  │ 50.1%  │\n",
      "│ 37  │ 50.9%  │\n",
      "│ 38  │ 51.1%  │\n",
      "│ 39  │ 51.6%  │\n",
      "│ 40  │ 79.3%  │\n",
      "│ 41  │ 48.4%  │\n",
      "│ 42  │ 50.3%  │\n",
      "│ 43  │ 50.4%  │\n",
      "│ 44  │ 49.0%  │\n",
      "│ 45  │ 48.6%  │\n",
      "│ 46  │ 44.9%  │"
     ]
    }
   ],
   "source": [
    "simulation_report(simulation, num_terms, course_passrate, max_credits, real_passrate)"
   ]
  },
  {
   "cell_type": "markdown",
   "metadata": {},
   "source": [
    "Now let's run the same set of students through the Computer Science curriculum:"
   ]
  },
  {
   "cell_type": "code",
   "execution_count": 12,
   "metadata": {
    "scrolled": false
   },
   "outputs": [
    {
     "name": "stdout",
     "output_type": "stream",
     "text": [
      "\n",
      "\u001b[0m\u001b[1m------------ Simulation Report ------------\u001b[22m\n",
      "Computer Science, BS -- 2019-20 Degree Plan\n",
      "\n",
      "-------- Simulation Statistics --------\n",
      "Number of terms: 12\n",
      "Max Credits per Term: 18\n",
      "Max Course Attempts: 2\n",
      "Number of Students: 1000\n",
      "Preset Course Pass Rates: 90.0%\n",
      "\n",
      "-------- Graduation Statistics --------\n",
      "Number of Students Graduated: 483\n",
      "Graduation Rate: 48.3%\n",
      "Term Graduation Rates: \n",
      "[0.0, 0.0, 0.0, 0.0, 0.0, 0.0, 0.0, 0.259, 0.474, 0.483, 0.0, 0.0]\n",
      "Average time to degree: 8.4824016563147 terms\n",
      "\n",
      "-------- Stop out Statistics --------\n",
      "Number of Students Stopped Out (Stopout Model Prediction + Reached Max Attempts): 517\n",
      "Number of Students Reaching Max Attempts: 214\n",
      "Stop-out Rate: 51.7%\n",
      "Cumulative Term Stop-out Rates (including reached max course attempts students): \n",
      "[0.079, 0.226, 0.278, 0.357, 0.399, 0.431, 0.465, 0.496, 0.515, 0.517, 0.0, 0.0]\n",
      "\n",
      "Cumulative Term Stop-out Rates (excluding reaching max course attempts students): \n",
      "[0.079, 0.191, 0.219, 0.273, 0.287, 0.296, 0.304, 0.304, 0.303, 0.303, 0.0, 0.0]\n",
      "\n",
      "Cumulative Term Reached Max Course Attempts Rates: \n",
      "[0.0, 0.035, 0.059, 0.084, 0.112, 0.135, 0.161, 0.192, 0.212, 0.214, 0.0, 0.0]\n",
      "\n",
      "\n",
      "-------- Course Pass Rates by Term --------\n",
      "\n",
      "│ Row │ COUSE                            │ TERM1 │ TERM2 │ TERM3 │ TERM4 │\n",
      "├─────┼──────────────────────────────────┼───────┼───────┼───────┼───────┤\n",
      "│ 1   │ Intro to Computer Programming I  │ 88.7% │ 98.2% │ 98.2% │ 98.2% │\n",
      "│ 2   │ Pre-Calculus                     │ 88.4% │ 97.5% │ 97.5% │ 97.5% │\n",
      "│ 3   │ English Composition I            │ 90.5% │ 98.0% │ 98.0% │ 98.0% │\n",
      "│ 4   │ 1st Semester Second Language     │ 0.0%  │ 83.4% │ 90.3% │ 90.3% │\n",
      "│ 5   │ Intro to Computer Programming II │ 0.0%  │ 74.0% │ 86.6% │ 87.8% │\n",
      "│ 6   │ Calculus I                       │ 0.0%  │ 74.0% │ 87.2% │ 87.8% │\n",
      "│ 7   │ English Composition II           │ 0.0%  │ 76.3% │ 88.2% │ 88.6% │\n",
      "│ 8   │ 2nd Semester Second Language     │ 0.0%  │ 0.0%  │ 63.0% │ 75.1% │\n",
      "│ 9   │ Software Development             │ 0.0%  │ 0.0%  │ 56.0% │ 72.0% │\n",
      "│ 10  │ Intro to Discrete Structures     │ 0.0%  │ 0.0%  │ 54.6% │ 71.6% │\n",
      "│ 11  │ Calculus II                      │ 0.0%  │ 0.0%  │ 57.9% │ 73.6% │\n",
      "│ 12  │ Tier 1 General Education 1       │ 88.3% │ 88.4% │ 94.4% │ 96.6% │\n",
      "│ 13  │ Tier 1 General Education 2       │ 0.0%  │ 0.9%  │ 47.1% │ 72.6% │\n",
      "│ 14  │ Computer Organization            │ 0.0%  │ 0.0%  │ 0.0%  │ 47.1% │\n",
      "│ 15  │ Systems Programming & Unix       │ 0.0%  │ 0.0%  │ 0.0%  │ 48.6% │\n",
      "│ 16  │ Supporting Science #1            │ 0.0%  │ 0.0%  │ 8.2%  │ 62.5% │\n",
      "│ 17  │ Tier 1 General Education 3       │ 0.0%  │ 0.0%  │ 0.0%  │ 51.4% │\n",
      "│ 18  │ Tier 1 General Education 4       │ 0.0%  │ 0.0%  │ 0.0%  │ 31.3% │\n",
      "│ 19  │ Object-Oriented Programming      │ 0.0%  │ 0.0%  │ 0.0%  │ 0.0%  │\n",
      "│ 20  │ Analysis of Discrete Structures  │ 0.0%  │ 0.0%  │ 0.0%  │ 0.0%  │\n",
      "│ 21  │ Supporting Science #2            │ 0.0%  │ 0.0%  │ 0.0%  │ 6.0%  │\n",
      "│ 22  │ Tier 2 Gen Ed/Upper-Division 1   │ 0.0%  │ 0.0%  │ 0.0%  │ 0.4%  │\n",
      "│ 23  │ Upper-Division Elective          │ 0.0%  │ 0.0%  │ 0.0%  │ 0.0%  │\n",
      "│ 24  │ CSC Paradigms Elective           │ 0.0%  │ 0.0%  │ 0.0%  │ 0.0%  │\n",
      "│ 25  │ CSC 400-Level Elective 1         │ 0.0%  │ 0.0%  │ 0.0%  │ 0.0%  │\n",
      "│ 26  │ Tier 2 Gen Ed/Upper-Division 2   │ 0.0%  │ 0.0%  │ 0.0%  │ 0.0%  │\n",
      "│ 27  │ Tier 2 Gen Ed/Upper-Division 3   │ 0.0%  │ 0.0%  │ 0.0%  │ 0.0%  │\n",
      "│ 28  │ Elective 1                       │ 0.0%  │ 0.0%  │ 0.0%  │ 0.0%  │\n",
      "│ 29  │ CSC Theory & Writing Elective    │ 0.0%  │ 0.0%  │ 0.0%  │ 0.0%  │\n",
      "│ 30  │ CSC 400-Level Elective 2         │ 0.0%  │ 0.0%  │ 0.0%  │ 0.0%  │\n",
      "│ 31  │ Elective 2                       │ 0.0%  │ 0.0%  │ 0.0%  │ 0.0%  │\n",
      "│ 32  │ Elective 3                       │ 0.0%  │ 0.0%  │ 0.0%  │ 0.0%  │\n",
      "│ 33  │ Elective 4                       │ 0.0%  │ 0.0%  │ 0.0%  │ 0.0%  │\n",
      "│ 34  │ CSC Systems Elective             │ 0.0%  │ 0.0%  │ 0.0%  │ 0.0%  │\n",
      "│ 35  │ CSC 300/400-Level Elective       │ 0.0%  │ 0.0%  │ 0.0%  │ 0.0%  │\n",
      "│ 36  │ Upper-Division Elective 1        │ 0.0%  │ 0.0%  │ 0.0%  │ 0.0%  │\n",
      "│ 37  │ Upper-Division Elective 2        │ 0.0%  │ 0.0%  │ 0.0%  │ 0.0%  │\n",
      "│ 38  │ GRAD RATE                        │ 0.0%  │ 0.0%  │ 0.0%  │ 0.0%  │\n",
      "\n",
      "│ Row │ TERM5 │ TERM6 │ TERM7 │ TERM8 │ TERM9 │ TERM10 │ TERM11 │ TERM12 │\n",
      "├─────┼───────┼───────┼───────┼───────┼───────┼────────┼────────┼────────┤\n",
      "│ 1   │ 98.2% │ 98.2% │ 98.2% │ 98.2% │ 98.2% │ 98.2%  │ 98.2%  │ 98.2%  │\n",
      "│ 2   │ 97.5% │ 97.5% │ 97.5% │ 97.5% │ 97.5% │ 97.5%  │ 97.5%  │ 97.5%  │\n",
      "│ 3   │ 98.0% │ 98.0% │ 98.0% │ 98.0% │ 98.0% │ 98.0%  │ 98.0%  │ 98.0%  │\n",
      "│ 4   │ 90.3% │ 90.3% │ 90.3% │ 90.3% │ 90.3% │ 90.3%  │ 90.3%  │ 90.3%  │\n",
      "│ 5   │ 87.8% │ 87.8% │ 87.8% │ 87.8% │ 87.8% │ 87.8%  │ 87.8%  │ 87.8%  │\n",
      "│ 6   │ 87.8% │ 87.8% │ 87.8% │ 87.8% │ 87.8% │ 87.8%  │ 87.8%  │ 87.8%  │\n",
      "│ 7   │ 88.6% │ 88.6% │ 88.6% │ 88.6% │ 88.6% │ 88.6%  │ 88.6%  │ 88.6%  │\n",
      "│ 8   │ 75.3% │ 75.3% │ 75.3% │ 75.3% │ 75.3% │ 75.3%  │ 75.3%  │ 75.3%  │\n",
      "│ 9   │ 74.1% │ 74.1% │ 74.1% │ 74.1% │ 74.1% │ 74.1%  │ 74.1%  │ 74.1%  │\n",
      "│ 10  │ 74.1% │ 74.1% │ 74.1% │ 74.1% │ 74.1% │ 74.1%  │ 74.1%  │ 74.1%  │\n",
      "│ 11  │ 75.0% │ 75.1% │ 75.1% │ 75.1% │ 75.1% │ 75.1%  │ 75.1%  │ 75.1%  │\n",
      "│ 12  │ 96.6% │ 96.6% │ 96.6% │ 96.6% │ 96.6% │ 96.6%  │ 96.6%  │ 96.6%  │\n",
      "│ 13  │ 74.3% │ 74.3% │ 74.3% │ 74.3% │ 74.3% │ 74.3%  │ 74.3%  │ 74.3%  │\n",
      "│ 14  │ 65.0% │ 67.8% │ 67.9% │ 67.9% │ 67.9% │ 67.9%  │ 67.9%  │ 67.9%  │\n",
      "│ 15  │ 64.3% │ 67.6% │ 67.9% │ 67.9% │ 67.9% │ 67.9%  │ 67.9%  │ 67.9%  │\n",
      "│ 16  │ 71.2% │ 71.7% │ 71.7% │ 71.7% │ 71.7% │ 71.7%  │ 71.7%  │ 71.7%  │\n",
      "│ 17  │ 67.9% │ 69.3% │ 69.3% │ 69.3% │ 69.3% │ 69.3%  │ 69.3%  │ 69.3%  │\n",
      "│ 18  │ 63.6% │ 67.4% │ 67.4% │ 67.4% │ 67.4% │ 67.4%  │ 67.4%  │ 67.4%  │\n",
      "│ 19  │ 54.8% │ 62.9% │ 63.1% │ 63.1% │ 63.1% │ 63.1%  │ 63.1%  │ 63.1%  │\n",
      "│ 20  │ 51.9% │ 62.3% │ 62.6% │ 62.6% │ 62.6% │ 62.6%  │ 62.6%  │ 62.6%  │\n",
      "│ 21  │ 47.1% │ 62.4% │ 63.5% │ 63.5% │ 63.5% │ 63.5%  │ 63.5%  │ 63.5%  │\n",
      "│ 22  │ 34.9% │ 59.5% │ 61.2% │ 61.2% │ 61.2% │ 61.2%  │ 61.2%  │ 61.2%  │\n",
      "│ 23  │ 14.4% │ 55.1% │ 59.9% │ 59.9% │ 59.9% │ 59.9%  │ 59.9%  │ 59.9%  │\n",
      "│ 24  │ 0.9%  │ 51.7% │ 59.0% │ 59.0% │ 59.0% │ 59.0%  │ 59.0%  │ 59.0%  │\n",
      "│ 25  │ 0.5%  │ 50.2% │ 58.3% │ 58.9% │ 58.9% │ 58.9%  │ 58.9%  │ 58.9%  │\n",
      "│ 26  │ 0.0%  │ 41.7% │ 57.0% │ 57.9% │ 57.9% │ 57.9%  │ 57.9%  │ 57.9%  │\n",
      "│ 27  │ 0.0%  │ 32.6% │ 55.6% │ 57.0% │ 57.0% │ 57.0%  │ 57.0%  │ 57.0%  │\n",
      "│ 28  │ 0.0%  │ 18.6% │ 53.9% │ 56.5% │ 56.5% │ 56.5%  │ 56.5%  │ 56.5%  │\n",
      "│ 29  │ 0.0%  │ 6.6%  │ 50.7% │ 55.8% │ 55.8% │ 55.8%  │ 55.8%  │ 55.8%  │\n",
      "│ 30  │ 0.0%  │ 0.0%  │ 47.7% │ 55.5% │ 55.7% │ 55.7%  │ 55.7%  │ 55.7%  │\n",
      "│ 31  │ 0.0%  │ 0.0%  │ 42.2% │ 54.0% │ 54.7% │ 54.7%  │ 54.7%  │ 54.7%  │\n",
      "│ 32  │ 0.0%  │ 0.0%  │ 35.0% │ 54.1% │ 55.0% │ 55.0%  │ 55.0%  │ 55.0%  │\n",
      "│ 33  │ 0.0%  │ 0.0%  │ 24.8% │ 51.4% │ 53.9% │ 53.9%  │ 53.9%  │ 53.9%  │\n",
      "│ 34  │ 0.0%  │ 0.0%  │ 12.8% │ 48.5% │ 53.6% │ 53.6%  │ 53.6%  │ 53.6%  │\n",
      "│ 35  │ 0.0%  │ 0.0%  │ 3.7%  │ 45.9% │ 52.3% │ 52.3%  │ 52.3%  │ 52.3%  │\n",
      "│ 36  │ 0.0%  │ 0.0%  │ 0.0%  │ 42.0% │ 51.6% │ 52.0%  │ 52.0%  │ 52.0%  │\n",
      "│ 37  │ 0.0%  │ 0.0%  │ 0.0%  │ 36.9% │ 50.3% │ 50.9%  │ 50.9%  │ 50.9%  │\n",
      "│ 38  │ 0.0%  │ 0.0%  │ 0.0%  │ 25.9% │ 47.4% │ 48.3%  │ 0.0%   │ 0.0%   │"
     ]
    }
   ],
   "source": [
    "simulation = simulate(CS_degree_plan, course_attempt_limit, students,\n",
    "                      max_credits = max_credits,\n",
    "                      performance_model = performance_model,\n",
    "                      enrollment_model = enrollment_model,\n",
    "                      duration = num_terms,\n",
    "                      duration_lock = duration_lock,\n",
    "                      stopouts = stopouts);\n",
    "simulation_report(simulation, num_terms, course_passrate, max_credits, real_passrate)"
   ]
  },
  {
   "cell_type": "code",
   "execution_count": 13,
   "metadata": {
    "scrolled": false
   },
   "outputs": [
    {
     "name": "stdout",
     "output_type": "stream",
     "text": [
      "\n",
      "\u001b[0m\u001b[1m------------ Simulation Report ------------\u001b[22m\n",
      "Electrical Engineering, BS -- 2017-18 Plan\n",
      "\n",
      "-------- Simulation Statistics --------\n",
      "Number of terms: 12\n",
      "Max Credits per Term: 18\n",
      "Max Course Attempts: 2\n",
      "Number of Students: 1000\n",
      "Preset Course Pass Rates: 90.0%\n",
      "\n",
      "-------- Graduation Statistics --------\n",
      "Number of Students Graduated: 435\n",
      "Graduation Rate: 43.5%\n",
      "Term Graduation Rates: \n",
      "[0.0, 0.0, 0.0, 0.0, 0.0, 0.0, 0.0, 0.061, 0.329, 0.426, 0.435, 0.0]\n",
      "Average time to degree: 9.124137931034483 terms\n",
      "\n",
      "-------- Stop out Statistics --------\n",
      "Number of Students Stopped Out (Stopout Model Prediction + Reached Max Attempts): 565\n",
      "Number of Students Reaching Max Attempts: 278\n",
      "Stop-out Rate: 56.5%\n",
      "Cumulative Term Stop-out Rates (including reached max course attempts students): \n",
      "[0.079, 0.23, 0.286, 0.356, 0.418, 0.457, 0.497, 0.528, 0.556, 0.564, 0.565, 0.0]\n",
      "\n",
      "Cumulative Term Stop-out Rates (excluding reaching max course attempts students): \n",
      "[0.079, 0.183, 0.211, 0.254, 0.276, 0.279, 0.288, 0.288, 0.287, 0.287, 0.287, 0.0]\n",
      "\n",
      "Cumulative Term Reached Max Course Attempts Rates: \n",
      "[0.0, 0.047, 0.075, 0.102, 0.142, 0.178, 0.209, 0.24, 0.269, 0.277, 0.278, 0.0]\n",
      "\n",
      "\n",
      "-------- Course Pass Rates by Term --------\n",
      "\n",
      "│ Row │ COUSE                             │ TERM1 │ TERM2 │ TERM3 │ TERM4 │\n",
      "├─────┼───────────────────────────────────┼───────┼───────┼───────┼───────┤\n",
      "│ 1   │ CHEM 1310                         │ 89.4% │ 98.0% │ 98.0% │ 98.0% │\n",
      "│ 2   │ MATH 1551                         │ 91.4% │ 98.1% │ 98.1% │ 98.1% │\n",
      "│ 3   │ MATH 1553                         │ 91.8% │ 98.6% │ 98.6% │ 98.6% │\n",
      "│ 4   │ CS 1371                           │ 89.8% │ 98.0% │ 98.0% │ 98.0% │\n",
      "│ 5   │ Wellness Elective                 │ 91.2% │ 98.9% │ 98.9% │ 98.9% │\n",
      "│ 6   │ ENGL 1101                         │ 89.4% │ 99.0% │ 99.0% │ 99.0% │\n",
      "│ 7   │ PHYS 2211                         │ 0.0%  │ 76.4% │ 86.8% │ 87.4% │\n",
      "│ 8   │ MATH 1552                         │ 0.0%  │ 76.4% │ 87.4% │ 87.9% │\n",
      "│ 9   │ ECE 2020                          │ 0.0%  │ 73.5% │ 86.4% │ 87.2% │\n",
      "│ 10  │ History/Government Elective       │ 0.0%  │ 75.8% │ 88.5% │ 88.5% │\n",
      "│ 11  │ ENGL 1102                         │ 0.0%  │ 58.5% │ 83.5% │ 85.5% │\n",
      "│ 12  │ PHYS 2212                         │ 0.0%  │ 0.0%  │ 58.9% │ 72.9% │\n",
      "│ 13  │ MATH 2552                         │ 0.0%  │ 0.0%  │ 58.5% │ 72.3% │\n",
      "│ 14  │ ECE 2026                          │ 0.0%  │ 0.0%  │ 57.6% │ 73.0% │\n",
      "│ 15  │ Economics Elective                │ 0.0%  │ 7.0%  │ 61.9% │ 76.2% │\n",
      "│ 16  │ Social Sciences Elective          │ 0.0%  │ 4.7%  │ 37.4% │ 71.4% │\n",
      "│ 17  │ Science Elective                  │ 0.0%  │ 0.0%  │ 6.9%  │ 66.5% │\n",
      "│ 18  │ MATH 2551                         │ 0.0%  │ 0.0%  │ 0.0%  │ 62.7% │\n",
      "│ 19  │ ECE 2040                          │ 0.0%  │ 0.0%  │ 0.0%  │ 44.3% │\n",
      "│ 20  │ ECE 2031                          │ 0.0%  │ 0.0%  │ 3.6%  │ 55.7% │\n",
      "│ 21  │ Programming Elective              │ 0.0%  │ 0.0%  │ 2.0%  │ 36.3% │\n",
      "│ 22  │ Humanities Elective               │ 0.0%  │ 0.0%  │ 0.0%  │ 15.3% │\n",
      "│ 23  │ ECE 3040                          │ 0.0%  │ 0.0%  │ 0.0%  │ 0.0%  │\n",
      "│ 24  │ ECE 3043                          │ 0.0%  │ 6.3%  │ 9.2%  │ 19.2% │\n",
      "│ 25  │ ECE 3025                          │ 0.0%  │ 0.0%  │ 0.0%  │ 0.0%  │\n",
      "│ 26  │ ECE 3084                          │ 0.0%  │ 0.0%  │ 0.0%  │ 0.0%  │\n",
      "│ 27  │ Social Sciences Elective          │ 0.0%  │ 0.0%  │ 0.0%  │ 0.3%  │\n",
      "│ 28  │ ECE/Approved Engineering Elective │ 0.0%  │ 0.0%  │ 0.0%  │ 0.1%  │\n",
      "│ 29  │ Prob/Stat ECE/App/Engr Elective   │ 0.0%  │ 0.0%  │ 0.0%  │ 0.0%  │\n",
      "│ 30  │ ECE Elective                      │ 0.0%  │ 0.0%  │ 0.0%  │ 0.0%  │\n",
      "│ 31  │ ECE Elective                      │ 0.0%  │ 0.0%  │ 0.0%  │ 0.0%  │\n",
      "│ 32  │ ECE 3072                          │ 0.0%  │ 0.0%  │ 0.0%  │ 0.0%  │\n",
      "│ 33  │ Approved Elective                 │ 0.0%  │ 0.0%  │ 0.0%  │ 0.0%  │\n",
      "│ 34  │ Engineering Elective              │ 0.0%  │ 0.0%  │ 0.0%  │ 0.0%  │\n",
      "│ 35  │ ECE Elective                      │ 0.0%  │ 0.0%  │ 0.0%  │ 0.0%  │\n",
      "│ 36  │ ECE 4011                          │ 0.0%  │ 0.0%  │ 0.0%  │ 0.0%  │\n",
      "│ 37  │ ECE 4XXX Elective                 │ 0.0%  │ 0.0%  │ 0.0%  │ 0.0%  │\n",
      "│ 38  │ ECE 4XXX Lab Elective             │ 0.0%  │ 0.0%  │ 0.0%  │ 0.0%  │\n",
      "│ 39  │ Approved Elective                 │ 0.0%  │ 0.0%  │ 0.0%  │ 0.0%  │\n",
      "│ 40  │ Humanities Elective               │ 0.0%  │ 0.0%  │ 0.0%  │ 0.0%  │\n",
      "│ 41  │ ECE 4012                          │ 0.0%  │ 0.0%  │ 0.0%  │ 0.0%  │\n",
      "│ 42  │ ECE 4XXX Elective                 │ 0.0%  │ 0.0%  │ 0.0%  │ 0.0%  │\n",
      "│ 43  │ Approved Elective                 │ 0.0%  │ 0.0%  │ 0.0%  │ 0.0%  │\n",
      "│ 44  │ Approved Elective                 │ 0.0%  │ 0.0%  │ 0.0%  │ 0.0%  │\n",
      "│ 45  │ GRAD RATE                         │ 0.0%  │ 0.0%  │ 0.0%  │ 0.0%  │\n",
      "\n",
      "│ Row │ TERM5 │ TERM6 │ TERM7 │ TERM8 │ TERM9 │ TERM10 │ TERM11 │ TERM12 │\n",
      "├─────┼───────┼───────┼───────┼───────┼───────┼────────┼────────┼────────┤\n",
      "│ 1   │ 98.0% │ 98.0% │ 98.0% │ 98.0% │ 98.0% │ 98.0%  │ 98.0%  │ 98.0%  │\n",
      "│ 2   │ 98.1% │ 98.1% │ 98.1% │ 98.1% │ 98.1% │ 98.1%  │ 98.1%  │ 98.1%  │\n",
      "│ 3   │ 98.6% │ 98.6% │ 98.6% │ 98.6% │ 98.6% │ 98.6%  │ 98.6%  │ 98.6%  │\n",
      "│ 4   │ 98.0% │ 98.0% │ 98.0% │ 98.0% │ 98.0% │ 98.0%  │ 98.0%  │ 98.0%  │\n",
      "│ 5   │ 98.9% │ 98.9% │ 98.9% │ 98.9% │ 98.9% │ 98.9%  │ 98.9%  │ 98.9%  │\n",
      "│ 6   │ 99.0% │ 99.0% │ 99.0% │ 99.0% │ 99.0% │ 99.0%  │ 99.0%  │ 99.0%  │\n",
      "│ 7   │ 87.4% │ 87.4% │ 87.4% │ 87.4% │ 87.4% │ 87.4%  │ 87.4%  │ 87.4%  │\n",
      "│ 8   │ 87.9% │ 87.9% │ 87.9% │ 87.9% │ 87.9% │ 87.9%  │ 87.9%  │ 87.9%  │\n",
      "│ 9   │ 87.2% │ 87.2% │ 87.2% │ 87.2% │ 87.2% │ 87.2%  │ 87.2%  │ 87.2%  │\n",
      "│ 10  │ 88.5% │ 88.5% │ 88.5% │ 88.5% │ 88.5% │ 88.5%  │ 88.5%  │ 88.5%  │\n",
      "│ 11  │ 85.5% │ 85.5% │ 85.5% │ 85.5% │ 85.5% │ 85.5%  │ 85.5%  │ 85.5%  │\n",
      "│ 12  │ 74.0% │ 74.0% │ 74.0% │ 74.0% │ 74.0% │ 74.0%  │ 74.0%  │ 74.0%  │\n",
      "│ 13  │ 74.1% │ 74.2% │ 74.2% │ 74.2% │ 74.2% │ 74.2%  │ 74.2%  │ 74.2%  │\n",
      "│ 14  │ 74.6% │ 74.6% │ 74.6% │ 74.6% │ 74.6% │ 74.6%  │ 74.6%  │ 74.6%  │\n",
      "│ 15  │ 76.9% │ 76.9% │ 76.9% │ 76.9% │ 76.9% │ 76.9%  │ 76.9%  │ 76.9%  │\n",
      "│ 16  │ 73.6% │ 73.6% │ 73.6% │ 73.6% │ 73.6% │ 73.6%  │ 73.6%  │ 73.6%  │\n",
      "│ 17  │ 70.8% │ 70.8% │ 70.8% │ 70.8% │ 70.8% │ 70.8%  │ 70.8%  │ 70.8%  │\n",
      "│ 18  │ 69.5% │ 69.8% │ 69.8% │ 69.8% │ 69.8% │ 69.8%  │ 69.8%  │ 69.8%  │\n",
      "│ 19  │ 64.4% │ 66.6% │ 66.7% │ 66.7% │ 66.7% │ 66.7%  │ 66.7%  │ 66.7%  │\n",
      "│ 20  │ 68.1% │ 68.4% │ 68.4% │ 68.4% │ 68.4% │ 68.4%  │ 68.4%  │ 68.4%  │\n",
      "│ 21  │ 63.4% │ 66.3% │ 66.3% │ 66.3% │ 66.3% │ 66.3%  │ 66.3%  │ 66.3%  │\n",
      "│ 22  │ 60.5% │ 64.1% │ 64.1% │ 64.1% │ 64.1% │ 64.1%  │ 64.1%  │ 64.1%  │\n",
      "│ 23  │ 28.1% │ 54.2% │ 59.1% │ 59.3% │ 59.3% │ 59.3%  │ 59.3%  │ 59.3%  │\n",
      "│ 24  │ 63.2% │ 67.0% │ 67.0% │ 67.0% │ 67.0% │ 67.0%  │ 67.0%  │ 67.0%  │\n",
      "│ 25  │ 33.1% │ 54.5% │ 59.1% │ 59.4% │ 59.4% │ 59.4%  │ 59.4%  │ 59.4%  │\n",
      "│ 26  │ 34.7% │ 56.2% │ 59.5% │ 59.7% │ 59.7% │ 59.7%  │ 59.7%  │ 59.7%  │\n",
      "│ 27  │ 43.2% │ 59.4% │ 61.5% │ 61.5% │ 61.5% │ 61.5%  │ 61.5%  │ 61.5%  │\n",
      "│ 28  │ 22.7% │ 56.2% │ 59.1% │ 59.1% │ 59.1% │ 59.1%  │ 59.1%  │ 59.1%  │\n",
      "│ 29  │ 8.7%  │ 50.2% │ 57.7% │ 57.7% │ 57.7% │ 57.7%  │ 57.7%  │ 57.7%  │\n",
      "│ 30  │ 4.2%  │ 42.6% │ 55.5% │ 56.5% │ 56.5% │ 56.5%  │ 56.5%  │ 56.5%  │\n",
      "│ 31  │ 0.4%  │ 36.3% │ 53.5% │ 55.5% │ 55.5% │ 55.5%  │ 55.5%  │ 55.5%  │\n",
      "│ 32  │ 0.0%  │ 22.2% │ 51.2% │ 54.2% │ 54.2% │ 54.2%  │ 54.2%  │ 54.2%  │\n",
      "│ 33  │ 0.0%  │ 12.8% │ 48.8% │ 53.2% │ 53.2% │ 53.2%  │ 53.2%  │ 53.2%  │\n",
      "│ 34  │ 0.0%  │ 4.3%  │ 46.0% │ 52.7% │ 52.8% │ 52.8%  │ 52.8%  │ 52.8%  │\n",
      "│ 35  │ 0.0%  │ 0.8%  │ 41.1% │ 52.4% │ 52.6% │ 52.6%  │ 52.6%  │ 52.6%  │\n",
      "│ 36  │ 0.0%  │ 0.0%  │ 16.9% │ 44.7% │ 49.0% │ 49.3%  │ 49.3%  │ 49.3%  │\n",
      "│ 37  │ 0.0%  │ 0.1%  │ 33.1% │ 50.5% │ 52.2% │ 52.2%  │ 52.2%  │ 52.2%  │\n",
      "│ 38  │ 0.0%  │ 0.0%  │ 23.6% │ 48.8% │ 50.8% │ 50.8%  │ 50.8%  │ 50.8%  │\n",
      "│ 39  │ 0.0%  │ 0.0%  │ 9.0%  │ 43.8% │ 49.2% │ 49.4%  │ 49.4%  │ 49.4%  │\n",
      "│ 40  │ 0.0%  │ 0.0%  │ 2.0%  │ 41.4% │ 48.7% │ 49.4%  │ 49.4%  │ 49.4%  │\n",
      "│ 41  │ 0.0%  │ 0.0%  │ 0.0%  │ 14.2% │ 40.0% │ 46.1%  │ 46.9%  │ 46.9%  │\n",
      "│ 42  │ 0.0%  │ 0.0%  │ 0.0%  │ 34.2% │ 48.2% │ 49.1%  │ 49.1%  │ 49.1%  │\n",
      "│ 43  │ 0.0%  │ 0.0%  │ 0.0%  │ 26.9% │ 46.7% │ 48.2%  │ 48.2%  │ 48.2%  │\n",
      "│ 44  │ 0.0%  │ 0.0%  │ 0.0%  │ 16.2% │ 45.3% │ 47.4%  │ 47.5%  │ 47.5%  │\n",
      "│ 45  │ 0.0%  │ 0.0%  │ 0.0%  │ 6.1%  │ 32.9% │ 42.6%  │ 43.5%  │ 0.0%   │"
     ]
    }
   ],
   "source": [
    "real_passrate = false\n",
    "set_passrates(EE_degree_plan.curriculum.courses, 0.9)\n",
    "simulation = simulate(EE_degree_plan, course_attempt_limit, students,\n",
    "                      max_credits = max_credits,\n",
    "                      performance_model = performance_model,\n",
    "                      enrollment_model = enrollment_model,\n",
    "                      duration = num_terms,\n",
    "                      duration_lock = duration_lock,\n",
    "                      stopouts = stopouts);\n",
    "simulation_report(simulation, num_terms, course_passrate, max_credits, real_passrate)"
   ]
  },
  {
   "cell_type": "markdown",
   "metadata": {},
   "source": [
    "Next we will use a model to determine whether or not a student passes a course. We will use actual pass/fail rates computed using historical data for the courses in the degree plan shown above. "
   ]
  },
  {
   "cell_type": "code",
   "execution_count": 14,
   "metadata": {},
   "outputs": [],
   "source": [
    "course_passrate = 0.9  # use if a course is not contained in the CSV file\n",
    "real_passrate = true  # use the actual pass rates, rather than course_passrate for all courses\n",
    "set_passrates_from_csv(AE_degree_plan.curriculum.courses, \"./Student_Grades_sp17_to_fall19.csv\", course_passrate)"
   ]
  },
  {
   "cell_type": "markdown",
   "metadata": {},
   "source": [
    "Note: A more realistic model for predicting student performance could be used here. Specifically, a more realistic model might:\n",
    "\n",
    "- take student demographics into account, including the major they are in,\n",
    "- take prior grades into account when predicting future grades,\n",
    "- take into account factors that influence student stopout, e.g., academic standing, GPA, unment need, etc.\n",
    "\n",
    "Learning the model pararmeters using actual student data would improve the fidelity of the simulation."
   ]
  },
  {
   "cell_type": "code",
   "execution_count": 15,
   "metadata": {
    "scrolled": false
   },
   "outputs": [
    {
     "name": "stdout",
     "output_type": "stream",
     "text": [
      "\n",
      "\u001b[0m\u001b[1m------------ Simulation Report ------------\u001b[22m\n",
      "Aerospace Engineering, BS -- 2019-20 Degree Plan\n",
      "\n",
      "-------- Simulation Statistics --------\n",
      "Number of terms: 12\n",
      "Max Credits per Term: 18\n",
      "Max Course Attempts: 2\n",
      "Number of Students: 1000\n",
      "Preset Course Pass Rates: 90.0%\n",
      "\n",
      "-------- Graduation Statistics --------\n",
      "Number of Students Graduated: 269\n",
      "Graduation Rate: 26.900000000000002%\n",
      "Term Graduation Rates: \n",
      "[0.0, 0.0, 0.0, 0.0, 0.0, 0.0, 0.0, 0.017, 0.163, 0.261, 0.268, 0.269]\n",
      "Average time to degree: 9.364312267657992 terms\n",
      "\n",
      "-------- Stop out Statistics --------\n",
      "Number of Students Stopped Out (Stopout Model Prediction + Reached Max Attempts): 731\n",
      "Number of Students Reaching Max Attempts: 502\n",
      "Stop-out Rate: 73.1%\n",
      "Cumulative Term Stop-out Rates (including reached max course attempts students): \n",
      "[0.088, 0.33, 0.479, 0.603, 0.656, 0.682, 0.694, 0.705, 0.715, 0.729, 0.731, 0.731]\n",
      "\n",
      "Cumulative Term Stop-out Rates (excluding reaching max course attempts students): \n",
      "[0.088, 0.194, 0.197, 0.219, 0.226, 0.229, 0.229, 0.229, 0.229, 0.229, 0.229, 0.229]\n",
      "\n",
      "Cumulative Term Reached Max Course Attempts Rates: \n",
      "[0.0, 0.136, 0.282, 0.384, 0.43, 0.453, 0.465, 0.476, 0.486, 0.5, 0.502, 0.502]\n",
      "\n",
      "\n",
      "-------- Pass Rate of Each Course (computed from Student Grades CSV file) --------\n",
      "\n",
      "│ Row │ Courses                                         │ Pass_Rates │ Num_Students_Passes │ Num_Students_Taken │\n",
      "├─────┼─────────────────────────────────────────────────┼────────────┼─────────────────────┼────────────────────┤\n",
      "│ 1   │ MATH 125 Calculus I w/ Applications             │ 80.8%      │ 724                 │ 896                │\n",
      "│ 2   │ CHEM 151 Gen Chemistry I                        │ 76.1%      │ 3671                │ 4823               │\n",
      "│ 3   │ ENGL 101 First-year Comp.                       │ 88.9%      │ 8949                │ 10064              │\n",
      "│ 4   │ ENGR 102 Intro to Engineering                   │ 90.0%      │ N/A                 │ N/A                │\n",
      "│ 5   │ Tier I General Ed.                              │ 82.1%      │ 41165               │ 50147              │\n",
      "│ 6   │ MATH 129 Calculus II                            │ 74.7%      │ 2160                │ 2893               │\n",
      "│ 7   │ AME 105 Intro. to MATLAB I                      │ 88.9%      │ 547                 │ 615                │\n",
      "│ 8   │ PHYS 141 Intro Mechanics                        │ 74.4%      │ 1301                │ 1748               │\n",
      "│ 9   │ ENGL 102 First-year Comp.                       │ 86.3%      │ 6615                │ 7666               │\n",
      "│ 10  │ ECE 175 Programming for Eng. Apps.              │ 74.9%      │ 791                 │ 1056               │\n",
      "│ 11  │ Tier I General Ed. 1                            │ 82.1%      │ 41165               │ 50147              │\n",
      "│ 12  │ CE 214 Statics                                  │ 86.5%      │ 652                 │ 754                │\n",
      "│ 13  │ MATH  223 Vector Calculus                       │ 74.7%      │ 1621                │ 2169               │\n",
      "│ 14  │ PHYS 241 Electricity & Magnetism                │ 81.0%      │ 705                 │ 870                │\n",
      "│ 15  │ AME  205 Intro. To MATLAB II                    │ 90.2%      │ 634                 │ 703                │\n",
      "│ 16  │ AME 211 Comp. Aided Drafting & Manufacturing    │ 79.5%      │ 31                  │ 39                 │\n",
      "│ 17  │ Tier I General Ed. 2                            │ 82.1%      │ 41165               │ 50147              │\n",
      "│ 18  │ AME 230 Thermodynamics                          │ 88.4%      │ 382                 │ 432                │\n",
      "│ 19  │ AME 250 Dynamics                                │ 86.8%      │ 348                 │ 401                │\n",
      "│ 20  │ MATH 254 Intro. to ODEs                         │ 81.1%      │ 843                 │ 1040               │\n",
      "│ 21  │ AME 220 Intro. to Aerospace Eng.                │ 88.0%      │ 103                 │ 117                │\n",
      "│ 22  │ Tier I General Ed. 3                            │ 82.1%      │ 41165               │ 50147              │\n",
      "│ 23  │ AME 320 Aerodynamics                            │ 94.4%      │ 134                 │ 142                │\n",
      "│ 24  │ AME  324A Mech. Behavior of Eng. Materials.     │ 92.1%      │ 304                 │ 330                │\n",
      "│ 25  │ AME 301 Engineering Analysis                    │ 89.5%      │ 392                 │ 438                │\n",
      "│ 26  │ AME 300 Instrumentation Lab.                    │ 98.4%      │ 302                 │ 307                │\n",
      "│ 27  │ MSE 331R Fund. of Materials for Engineers       │ 97.3%      │ 253                 │ 260                │\n",
      "│ 28  │ AME 324L Mech. of Materials Lab.                │ 92.2%      │ 317                 │ 344                │\n",
      "│ 29  │ AME 324B Eng. Component Design                  │ 93.1%      │ 244                 │ 262                │\n",
      "│ 30  │ AME 321 Aircraft Performance                    │ 90.0%      │ 54                  │ 60                 │\n",
      "│ 31  │ AME 323 Gasdynamics                             │ 92.0%      │ 69                  │ 75                 │\n",
      "│ 32  │ AME 302 Numerical Methods                       │ 94.9%      │ 242                 │ 255                │\n",
      "│ 33  │ AME 313 Aero./Mech. Eng. Lab                    │ 99.1%      │ 552                 │ 557                │\n",
      "│ 34  │ Tier II General Ed. 1                           │ 82.1%      │ 41165               │ 50147              │\n",
      "│ 35  │ AME 401 Senior Aerospace Lab.                   │ 100.0%     │ 103                 │ 103                │\n",
      "│ 36  │ AME 420 Aerospace Conceptual Design             │ 98.3%      │ 57                  │ 58                 │\n",
      "│ 37  │ AME 425 Aerospace Propulsion                    │ 97.0%      │ 64                  │ 66                 │\n",
      "│ 38  │ AME 427 Stability and Control of Aero. Vehicles │ 94.0%      │ 47                  │ 50                 │\n",
      "│ 39  │ AME 457 Orbital Mechanicans and Space Flt.      │ 98.6%      │ 69                  │ 70                 │\n",
      "│ 40  │ AME 495S Senior Colloquium                      │ 100.0%     │ 128                 │ 128                │\n",
      "│ 41  │ AME 422 Aerospace Eng.Design                    │ 100.0%     │ 34                  │ 34                 │\n",
      "│ 42  │ AME 431 Num. Meth. in Fluid Mech. & Heat Xfer   │ 90.9%      │ 10                  │ 11                 │\n",
      "│ 43  │ Technical Elective 1                            │ 90.0%      │ N/A                 │ N/A                │\n",
      "│ 44  │ Technical Elective 2                            │ 90.0%      │ N/A                 │ N/A                │\n",
      "│ 45  │ Tier II General Ed. 2                           │ 82.1%      │ 41165               │ 50147              │\n",
      "\n",
      "-------- Course Pass Rates by Term --------\n",
      "\n",
      "│ Row │ COUSE                                   │ TERM1 │ TERM2 │ TERM3 │\n",
      "├─────┼─────────────────────────────────────────┼───────┼───────┼───────┤\n",
      "│ 1   │ Calculus I w/ Applications              │ 81.1% │ 95.8% │ 95.8% │\n",
      "│ 2   │ Gen Chemistry I                         │ 75.3% │ 91.4% │ 91.4% │\n",
      "│ 3   │ First-year Comp.                        │ 88.6% │ 97.8% │ 97.8% │\n",
      "│ 4   │ Intro to Engineering                    │ 89.6% │ 97.6% │ 97.6% │\n",
      "│ 5   │ Tier I General Ed.                      │ 81.4% │ 95.3% │ 95.3% │\n",
      "│ 6   │ Calculus II                             │ 0.0%  │ 55.2% │ 72.9% │\n",
      "│ 7   │ Intro. to MATLAB I                      │ 0.0%  │ 64.9% │ 81.4% │\n",
      "│ 8   │ Intro Mechanics                         │ 0.0%  │ 56.4% │ 74.2% │\n",
      "│ 9   │ First-year Comp.                        │ 0.0%  │ 70.8% │ 82.9% │\n",
      "│ 10  │ Programming for Eng. Apps.              │ 0.0%  │ 65.9% │ 78.1% │\n",
      "│ 11  │ Tier I General Ed. 1                    │ 0.0%  │ 46.6% │ 71.6% │\n",
      "│ 12  │ Statics                                 │ 0.0%  │ 0.0%  │ 28.7% │\n",
      "│ 13  │ Vector Calculus                         │ 0.0%  │ 0.0%  │ 31.2% │\n",
      "│ 14  │ Electricity & Magnetism                 │ 0.0%  │ 0.0%  │ 24.2% │\n",
      "│ 15  │ Intro. To MATLAB II                     │ 0.0%  │ 0.0%  │ 43.7% │\n",
      "│ 16  │ Comp. Aided Drafting & Manufacturing    │ 0.0%  │ 10.0% │ 51.0% │\n",
      "│ 17  │ Tier I General Ed. 2                    │ 0.0%  │ 8.0%  │ 38.0% │\n",
      "│ 18  │ Thermodynamics                          │ 0.0%  │ 0.0%  │ 6.6%  │\n",
      "│ 19  │ Dynamics                                │ 0.0%  │ 0.0%  │ 0.0%  │\n",
      "│ 20  │ Intro. to ODEs                          │ 0.0%  │ 0.0%  │ 0.0%  │\n",
      "│ 21  │ Intro. to Aerospace Eng.                │ 0.0%  │ 0.0%  │ 0.0%  │\n",
      "│ 22  │ Tier I General Ed. 3                    │ 0.0%  │ 0.0%  │ 12.8% │\n",
      "│ 23  │ Aerodynamics                            │ 0.0%  │ 0.0%  │ 0.0%  │\n",
      "│ 24  │ Mech. Behavior of Eng. Materials.       │ 0.0%  │ 0.0%  │ 0.0%  │\n",
      "│ 25  │ Engineering Analysis                    │ 0.0%  │ 0.0%  │ 0.0%  │\n",
      "│ 26  │ Instrumentation Lab.                    │ 0.0%  │ 0.0%  │ 1.9%  │\n",
      "│ 27  │ Fund. of Materials for Engineers        │ 0.0%  │ 0.0%  │ 0.0%  │\n",
      "│ 28  │ Mech. of Materials Lab.                 │ 92.2% │ 95.9% │ 97.2% │\n",
      "│ 29  │ Eng. Component Design                   │ 0.0%  │ 0.0%  │ 0.0%  │\n",
      "│ 30  │ Aircraft Performance                    │ 0.0%  │ 0.0%  │ 0.0%  │\n",
      "│ 31  │ Gasdynamics                             │ 0.0%  │ 0.0%  │ 0.0%  │\n",
      "│ 32  │ Numerical Methods                       │ 0.0%  │ 0.0%  │ 0.0%  │\n",
      "│ 33  │ Aero./Mech. Eng. Lab                    │ 99.1% │ 99.7% │ 99.9% │\n",
      "│ 34  │ Tier II General Ed. 1                   │ 0.0%  │ 0.0%  │ 0.0%  │\n",
      "│ 35  │ Senior Aerospace Lab.                   │ 0.0%  │ 0.0%  │ 0.0%  │\n",
      "│ 36  │ Aerospace Conceptual Design             │ 0.0%  │ 0.0%  │ 0.0%  │\n",
      "│ 37  │ Aerospace Propulsion                    │ 0.0%  │ 0.0%  │ 0.0%  │\n",
      "│ 38  │ Stability and Control of Aero. Vehicles │ 0.0%  │ 0.0%  │ 0.0%  │\n",
      "│ 39  │ Orbital Mechanicans and Space Flt.      │ 0.0%  │ 0.0%  │ 0.0%  │\n",
      "│ 40  │ Senior Colloquium                       │ 0.0%  │ 55.0% │ 66.5% │\n",
      "│ 41  │ Aerospace Eng.Design                    │ 0.0%  │ 0.0%  │ 0.0%  │\n",
      "│ 42  │ Num. Meth. in Fluid Mech. & Heat Xfer   │ 0.0%  │ 0.0%  │ 0.0%  │\n",
      "│ 43  │ Technical Elective 1                    │ 0.0%  │ 0.0%  │ 0.0%  │\n",
      "│ 44  │ Technical Elective 2                    │ 0.0%  │ 0.0%  │ 0.0%  │\n",
      "│ 45  │ Tier II General Ed. 2                   │ 0.0%  │ 0.0%  │ 0.0%  │\n",
      "│ 46  │ GRAD RATE                               │ 0.0%  │ 0.0%  │ 0.0%  │\n",
      "\n",
      "│ Row │ TERM4 │ TERM5 │ TERM6 │ TERM7 │ TERM8 │ TERM9 │ TERM10 │ TERM11 │\n",
      "├─────┼───────┼───────┼───────┼───────┼───────┼───────┼────────┼────────┤\n",
      "│ 1   │ 95.8% │ 95.8% │ 95.8% │ 95.8% │ 95.8% │ 95.8% │ 95.8%  │ 95.8%  │\n",
      "│ 2   │ 91.4% │ 91.4% │ 91.4% │ 91.4% │ 91.4% │ 91.4% │ 91.4%  │ 91.4%  │\n",
      "│ 3   │ 97.8% │ 97.8% │ 97.8% │ 97.8% │ 97.8% │ 97.8% │ 97.8%  │ 97.8%  │\n",
      "│ 4   │ 97.6% │ 97.6% │ 97.6% │ 97.6% │ 97.6% │ 97.6% │ 97.6%  │ 97.6%  │\n",
      "│ 5   │ 95.3% │ 95.3% │ 95.3% │ 95.3% │ 95.3% │ 95.3% │ 95.3%  │ 95.3%  │\n",
      "│ 6   │ 74.8% │ 74.8% │ 74.8% │ 74.8% │ 74.8% │ 74.8% │ 74.8%  │ 74.8%  │\n",
      "│ 7   │ 81.9% │ 81.9% │ 81.9% │ 81.9% │ 81.9% │ 81.9% │ 81.9%  │ 81.9%  │\n",
      "│ 8   │ 75.8% │ 75.8% │ 75.8% │ 75.8% │ 75.8% │ 75.8% │ 75.8%  │ 75.8%  │\n",
      "│ 9   │ 83.4% │ 83.4% │ 83.4% │ 83.4% │ 83.4% │ 83.4% │ 83.4%  │ 83.4%  │\n",
      "│ 10  │ 78.5% │ 78.5% │ 78.5% │ 78.5% │ 78.5% │ 78.5% │ 78.5%  │ 78.5%  │\n",
      "│ 11  │ 74.6% │ 74.6% │ 74.6% │ 74.6% │ 74.6% │ 74.6% │ 74.6%  │ 74.6%  │\n",
      "│ 12  │ 48.2% │ 52.0% │ 52.5% │ 52.5% │ 52.5% │ 52.5% │ 52.5%  │ 52.5%  │\n",
      "│ 13  │ 48.6% │ 51.8% │ 52.1% │ 52.1% │ 52.1% │ 52.1% │ 52.1%  │ 52.1%  │\n",
      "│ 14  │ 44.5% │ 49.6% │ 49.9% │ 49.9% │ 49.9% │ 49.9% │ 49.9%  │ 49.9%  │\n",
      "│ 15  │ 59.2% │ 60.2% │ 60.2% │ 60.2% │ 60.2% │ 60.2% │ 60.2%  │ 60.2%  │\n",
      "│ 16  │ 62.4% │ 63.4% │ 63.4% │ 63.4% │ 63.4% │ 63.4% │ 63.4%  │ 63.4%  │\n",
      "│ 17  │ 59.1% │ 60.7% │ 60.7% │ 60.7% │ 60.7% │ 60.7% │ 60.7%  │ 60.7%  │\n",
      "│ 18  │ 45.0% │ 51.8% │ 51.8% │ 51.8% │ 51.8% │ 51.8% │ 51.8%  │ 51.8%  │\n",
      "│ 19  │ 18.6% │ 36.7% │ 41.7% │ 42.3% │ 42.3% │ 42.3% │ 42.3%  │ 42.3%  │\n",
      "│ 20  │ 14.6% │ 33.4% │ 38.3% │ 38.6% │ 38.9% │ 38.9% │ 38.9%  │ 38.9%  │\n",
      "│ 21  │ 6.9%  │ 32.8% │ 37.8% │ 38.5% │ 38.5% │ 38.5% │ 38.5%  │ 38.5%  │\n",
      "│ 22  │ 24.2% │ 42.4% │ 45.3% │ 45.3% │ 45.3% │ 45.3% │ 45.3%  │ 45.3%  │\n",
      "│ 23  │ 0.0%  │ 5.9%  │ 27.5% │ 33.0% │ 34.0% │ 34.0% │ 34.0%  │ 34.0%  │\n",
      "│ 24  │ 0.0%  │ 23.3% │ 35.2% │ 36.3% │ 36.3% │ 36.3% │ 36.3%  │ 36.3%  │\n",
      "│ 25  │ 0.0%  │ 9.9%  │ 26.2% │ 31.6% │ 32.5% │ 32.9% │ 32.9%  │ 32.9%  │\n",
      "│ 26  │ 5.8%  │ 16.0% │ 37.2% │ 37.5% │ 37.5% │ 37.5% │ 37.5%  │ 37.5%  │\n",
      "│ 27  │ 4.1%  │ 6.4%  │ 32.3% │ 35.2% │ 35.3% │ 35.3% │ 35.3%  │ 35.3%  │\n",
      "│ 28  │ 97.7% │ 97.7% │ 97.8% │ 97.8% │ 97.8% │ 97.8% │ 97.8%  │ 97.8%  │\n",
      "│ 29  │ 0.0%  │ 0.0%  │ 8.4%  │ 23.0% │ 29.3% │ 30.4% │ 30.8%  │ 30.9%  │\n",
      "│ 30  │ 0.0%  │ 0.0%  │ 14.9% │ 29.5% │ 31.4% │ 31.7% │ 31.7%  │ 31.7%  │\n",
      "│ 31  │ 0.0%  │ 0.0%  │ 8.0%  │ 28.7% │ 31.3% │ 31.5% │ 31.6%  │ 31.6%  │\n",
      "│ 32  │ 0.0%  │ 0.0%  │ 3.8%  │ 28.6% │ 31.4% │ 31.7% │ 31.7%  │ 31.7%  │\n",
      "│ 33  │ 99.9% │ 99.9% │ 99.9% │ 99.9% │ 99.9% │ 99.9% │ 99.9%  │ 99.9%  │\n",
      "│ 34  │ 0.4%  │ 2.2%  │ 5.1%  │ 24.4% │ 30.8% │ 31.3% │ 31.3%  │ 31.3%  │\n",
      "│ 35  │ 0.0%  │ 0.0%  │ 0.0%  │ 7.4%  │ 27.4% │ 30.3% │ 30.5%  │ 30.6%  │\n",
      "│ 36  │ 0.0%  │ 0.0%  │ 0.0%  │ 6.0%  │ 25.8% │ 30.0% │ 30.3%  │ 30.4%  │\n",
      "│ 37  │ 0.0%  │ 0.0%  │ 0.0%  │ 5.7%  │ 26.7% │ 30.1% │ 30.3%  │ 30.4%  │\n",
      "│ 38  │ 0.0%  │ 0.0%  │ 0.0%  │ 9.9%  │ 26.4% │ 29.6% │ 30.2%  │ 30.2%  │\n",
      "│ 39  │ 0.0%  │ 0.0%  │ 0.8%  │ 8.0%  │ 28.5% │ 31.0% │ 31.0%  │ 31.0%  │\n",
      "│ 40  │ 72.4% │ 72.6% │ 72.8% │ 73.0% │ 75.6% │ 75.7% │ 75.7%  │ 75.7%  │\n",
      "│ 41  │ 0.0%  │ 0.0%  │ 0.0%  │ 0.0%  │ 5.8%  │ 25.1% │ 29.1%  │ 29.4%  │\n",
      "│ 42  │ 0.0%  │ 0.0%  │ 0.0%  │ 1.1%  │ 19.7% │ 28.7% │ 30.1%  │ 30.1%  │\n",
      "│ 43  │ 0.3%  │ 1.1%  │ 2.5%  │ 3.2%  │ 15.3% │ 29.3% │ 30.1%  │ 30.1%  │\n",
      "│ 44  │ 0.0%  │ 0.1%  │ 1.1%  │ 1.7%  │ 8.8%  │ 27.1% │ 29.4%  │ 29.5%  │\n",
      "│ 45  │ 0.0%  │ 0.1%  │ 0.2%  │ 0.6%  │ 3.9%  │ 22.4% │ 27.4%  │ 27.8%  │\n",
      "│ 46  │ 0.0%  │ 0.0%  │ 0.0%  │ 0.0%  │ 1.7%  │ 16.3% │ 26.1%  │ 26.8%  │\n",
      "\n",
      "│ Row │ TERM12 │\n",
      "├─────┼────────┤\n",
      "│ 1   │ 95.8%  │\n",
      "│ 2   │ 91.4%  │\n",
      "│ 3   │ 97.8%  │\n",
      "│ 4   │ 97.6%  │\n",
      "│ 5   │ 95.3%  │\n",
      "│ 6   │ 74.8%  │\n",
      "│ 7   │ 81.9%  │\n",
      "│ 8   │ 75.8%  │\n",
      "│ 9   │ 83.4%  │\n",
      "│ 10  │ 78.5%  │\n",
      "│ 11  │ 74.6%  │\n",
      "│ 12  │ 52.5%  │\n",
      "│ 13  │ 52.1%  │\n",
      "│ 14  │ 49.9%  │\n",
      "│ 15  │ 60.2%  │\n",
      "│ 16  │ 63.4%  │\n",
      "│ 17  │ 60.7%  │\n",
      "│ 18  │ 51.8%  │\n",
      "│ 19  │ 42.3%  │\n",
      "│ 20  │ 38.9%  │\n",
      "│ 21  │ 38.5%  │\n",
      "│ 22  │ 45.3%  │\n",
      "│ 23  │ 34.0%  │\n",
      "│ 24  │ 36.3%  │\n",
      "│ 25  │ 32.9%  │\n",
      "│ 26  │ 37.5%  │\n",
      "│ 27  │ 35.3%  │\n",
      "│ 28  │ 97.8%  │\n",
      "│ 29  │ 30.9%  │\n",
      "│ 30  │ 31.7%  │\n",
      "│ 31  │ 31.6%  │\n",
      "│ 32  │ 31.7%  │\n",
      "│ 33  │ 99.9%  │\n",
      "│ 34  │ 31.3%  │\n",
      "│ 35  │ 30.6%  │\n",
      "│ 36  │ 30.4%  │\n",
      "│ 37  │ 30.4%  │\n",
      "│ 38  │ 30.2%  │\n",
      "│ 39  │ 31.0%  │\n",
      "│ 40  │ 75.7%  │\n",
      "│ 41  │ 29.5%  │\n",
      "│ 42  │ 30.1%  │\n",
      "│ 43  │ 30.1%  │\n",
      "│ 44  │ 29.5%  │\n",
      "│ 45  │ 27.8%  │\n",
      "│ 46  │ 26.9%  │"
     ]
    }
   ],
   "source": [
    "simulation = simulate(AE_degree_plan, course_attempt_limit, students,\n",
    "                      max_credits = max_credits,\n",
    "                      performance_model = performance_model,\n",
    "                      enrollment_model = enrollment_model,\n",
    "                      duration = num_terms,\n",
    "                      duration_lock = duration_lock,\n",
    "                      stopouts = stopouts);\n",
    "simulation_report(simulation, num_terms, course_passrate, max_credits, real_passrate)"
   ]
  },
  {
   "cell_type": "markdown",
   "metadata": {},
   "source": [
    "Now, let's see what happens if we use the actual course pass rates in the computer science program."
   ]
  },
  {
   "cell_type": "code",
   "execution_count": 16,
   "metadata": {
    "scrolled": false
   },
   "outputs": [
    {
     "name": "stdout",
     "output_type": "stream",
     "text": [
      "\n",
      "\u001b[0m\u001b[1m------------ Simulation Report ------------\u001b[22m\n",
      "Computer Science, BS -- 2019-20 Degree Plan\n",
      "\n",
      "-------- Simulation Statistics --------\n",
      "Number of terms: 12\n",
      "Max Credits per Term: 18\n",
      "Max Course Attempts: 2\n",
      "Number of Students: 1000\n",
      "Preset Course Pass Rates: 90.0%\n",
      "\n",
      "-------- Graduation Statistics --------\n",
      "Number of Students Graduated: 280\n",
      "Graduation Rate: 28.000000000000004%\n",
      "Term Graduation Rates: \n",
      "[0.0, 0.0, 0.0, 0.0, 0.0, 0.0, 0.0, 0.116, 0.258, 0.28, 0.0, 0.0]\n",
      "Average time to degree: 8.664285714285715 terms\n",
      "\n",
      "-------- Stop out Statistics --------\n",
      "Number of Students Stopped Out (Stopout Model Prediction + Reached Max Attempts): 720\n",
      "Number of Students Reaching Max Attempts: 526\n",
      "Stop-out Rate: 72.0%\n",
      "Cumulative Term Stop-out Rates (including reached max course attempts students): \n",
      "[0.071, 0.361, 0.444, 0.536, 0.607, 0.661, 0.68, 0.703, 0.718, 0.72, 0.0, 0.0]\n",
      "\n",
      "Cumulative Term Stop-out Rates (excluding reaching max course attempts students): \n",
      "[0.071, 0.145, 0.159, 0.179, 0.188, 0.192, 0.194, 0.194, 0.194, 0.194, 0.0, 0.0]\n",
      "\n",
      "Cumulative Term Reached Max Course Attempts Rates: \n",
      "[0.0, 0.216, 0.285, 0.357, 0.419, 0.469, 0.486, 0.509, 0.524, 0.526, 0.0, 0.0]\n",
      "\n",
      "\n",
      "-------- Pass Rate of Each Course (computed from Student Grades CSV file) --------\n",
      "\n",
      "│ Row │ Courses                                  │ Pass_Rates │ Num_Students_Passes │ Num_Students_Taken │\n",
      "├─────┼──────────────────────────────────────────┼────────────┼─────────────────────┼────────────────────┤\n",
      "│ 1   │ CSC 110 Intro to Computer Programming I  │ 63.3%      │ 925                 │ 1461               │\n",
      "│ 2   │ MATH 120R Pre-Calculus                   │ 72.1%      │ 2246                │ 3117               │\n",
      "│ 3   │ ENGL 101 English Composition I           │ 88.9%      │ 8949                │ 10064              │\n",
      "│ 4   │ 1st Semester Second Language             │ 90.0%      │ N/A                 │ N/A                │\n",
      "│ 5   │ CSC 120 Intro to Computer Programming II │ 72.4%      │ 603                 │ 833                │\n",
      "│ 6   │ MATH 122A/B Calculus I                   │ 90.0%      │ N/A                 │ N/A                │\n",
      "│ 7   │ ENGL 102 English Composition II          │ 86.3%      │ 6615                │ 7666               │\n",
      "│ 8   │ 2nd Semester Second Language             │ 90.0%      │ N/A                 │ N/A                │\n",
      "│ 9   │ CSC 210 Software Development             │ 76.7%      │ 355                 │ 463                │\n",
      "│ 10  │ CSC 245 Intro to Discrete Structures     │ 80.4%      │ 369                 │ 459                │\n",
      "│ 11  │ MATH 129 Calculus II                     │ 74.7%      │ 2160                │ 2893               │\n",
      "│ 12  │ Tier 1 General Education 1               │ 90.0%      │ N/A                 │ N/A                │\n",
      "│ 13  │ Tier 1 General Education 2               │ 90.0%      │ N/A                 │ N/A                │\n",
      "│ 14  │ CSC 252 Computer Organization            │ 81.8%      │ 251                 │ 307                │\n",
      "│ 15  │ CSC 352 Systems Programming & Unix       │ 67.2%      │ 289                 │ 430                │\n",
      "│ 16  │ Supporting Science #1                    │ 90.0%      │ N/A                 │ N/A                │\n",
      "│ 17  │ Tier 1 General Education 3               │ 90.0%      │ N/A                 │ N/A                │\n",
      "│ 18  │ Tier 1 General Education 4               │ 90.0%      │ N/A                 │ N/A                │\n",
      "│ 19  │ CSC 335 Object-Oriented Programming      │ 91.4%      │ 278                 │ 304                │\n",
      "│ 20  │ CSC 345 Analysis of Discrete Structures  │ 79.2%      │ 316                 │ 399                │\n",
      "│ 21  │ Supporting Science #2                    │ 90.0%      │ N/A                 │ N/A                │\n",
      "│ 22  │ Tier 2 Gen Ed/Upper-Division 1           │ 90.0%      │ N/A                 │ N/A                │\n",
      "│ 23  │ Upper-Division Elective                  │ 90.0%      │ N/A                 │ N/A                │\n",
      "│ 24  │ CSC Paradigms Elective                   │ 90.0%      │ N/A                 │ N/A                │\n",
      "│ 25  │ CSC 400-Level Elective 1                 │ 90.0%      │ N/A                 │ N/A                │\n",
      "│ 26  │ Tier 2 Gen Ed/Upper-Division 2           │ 90.0%      │ N/A                 │ N/A                │\n",
      "│ 27  │ Tier 2 Gen Ed/Upper-Division 3           │ 90.0%      │ N/A                 │ N/A                │\n",
      "│ 28  │ Elective 1                               │ 90.0%      │ N/A                 │ N/A                │\n",
      "│ 29  │ CSC Theory & Writing Elective            │ 90.0%      │ N/A                 │ N/A                │\n",
      "│ 30  │ CSC 400-Level Elective 2                 │ 90.0%      │ N/A                 │ N/A                │\n",
      "│ 31  │ Elective 2                               │ 90.0%      │ N/A                 │ N/A                │\n",
      "│ 32  │ Elective 3                               │ 90.0%      │ N/A                 │ N/A                │\n",
      "│ 33  │ Elective 4                               │ 90.0%      │ N/A                 │ N/A                │\n",
      "│ 34  │ CSC Systems Elective                     │ 90.0%      │ N/A                 │ N/A                │\n",
      "│ 35  │ CSC 300/400-Level Elective               │ 90.0%      │ N/A                 │ N/A                │\n",
      "│ 36  │ Upper-Division Elective 1                │ 90.0%      │ N/A                 │ N/A                │\n",
      "│ 37  │ Upper-Division Elective 2                │ 90.0%      │ N/A                 │ N/A                │\n",
      "\n",
      "-------- Course Pass Rates by Term --------\n",
      "\n",
      "│ Row │ COUSE                            │ TERM1 │ TERM2 │ TERM3 │ TERM4 │\n",
      "├─────┼──────────────────────────────────┼───────┼───────┼───────┼───────┤\n",
      "│ 1   │ Intro to Computer Programming I  │ 63.8% │ 84.0% │ 84.0% │ 84.0% │\n",
      "│ 2   │ Pre-Calculus                     │ 71.8% │ 91.9% │ 91.9% │ 91.9% │\n",
      "│ 3   │ English Composition I            │ 87.7% │ 97.4% │ 97.4% │ 97.4% │\n",
      "│ 4   │ 1st Semester Second Language     │ 0.0%  │ 83.5% │ 90.5% │ 90.5% │\n",
      "│ 5   │ Intro to Computer Programming II │ 0.0%  │ 42.0% │ 64.3% │ 66.6% │\n",
      "│ 6   │ Calculus I                       │ 0.0%  │ 59.4% │ 78.2% │ 80.1% │\n",
      "│ 7   │ English Composition II           │ 0.0%  │ 70.6% │ 82.3% │ 83.1% │\n",
      "│ 8   │ 2nd Semester Second Language     │ 0.0%  │ 0.0%  │ 50.7% │ 60.8% │\n",
      "│ 9   │ Software Development             │ 0.0%  │ 0.0%  │ 25.3% │ 47.3% │\n",
      "│ 10  │ Intro to Discrete Structures     │ 0.0%  │ 0.0%  │ 24.6% │ 47.6% │\n",
      "│ 11  │ Calculus II                      │ 0.0%  │ 0.0%  │ 33.1% │ 50.4% │\n",
      "│ 12  │ Tier 1 General Education 1       │ 89.7% │ 90.2% │ 94.1% │ 96.7% │\n",
      "│ 13  │ Tier 1 General Education 2       │ 0.0%  │ 2.9%  │ 40.4% │ 59.5% │\n",
      "│ 14  │ Computer Organization            │ 0.0%  │ 0.0%  │ 0.0%  │ 19.5% │\n",
      "│ 15  │ Systems Programming & Unix       │ 0.0%  │ 0.0%  │ 0.0%  │ 15.5% │\n",
      "│ 16  │ Supporting Science #1            │ 0.0%  │ 0.0%  │ 12.2% │ 47.7% │\n",
      "│ 17  │ Tier 1 General Education 3       │ 0.0%  │ 0.0%  │ 0.0%  │ 35.9% │\n",
      "│ 18  │ Tier 1 General Education 4       │ 0.0%  │ 0.0%  │ 0.0%  │ 21.3% │\n",
      "│ 19  │ Object-Oriented Programming      │ 0.0%  │ 0.0%  │ 0.0%  │ 0.0%  │\n",
      "│ 20  │ Analysis of Discrete Structures  │ 0.0%  │ 0.0%  │ 0.0%  │ 0.0%  │\n",
      "│ 21  │ Supporting Science #2            │ 0.0%  │ 0.0%  │ 0.0%  │ 8.0%  │\n",
      "│ 22  │ Tier 2 Gen Ed/Upper-Division 1   │ 0.0%  │ 0.0%  │ 0.0%  │ 0.8%  │\n",
      "│ 23  │ Upper-Division Elective          │ 0.0%  │ 0.0%  │ 0.0%  │ 0.0%  │\n",
      "│ 24  │ CSC Paradigms Elective           │ 0.0%  │ 0.0%  │ 0.0%  │ 0.0%  │\n",
      "│ 25  │ CSC 400-Level Elective 1         │ 0.0%  │ 0.0%  │ 0.0%  │ 0.0%  │\n",
      "│ 26  │ Tier 2 Gen Ed/Upper-Division 2   │ 0.0%  │ 0.0%  │ 0.0%  │ 0.0%  │\n",
      "│ 27  │ Tier 2 Gen Ed/Upper-Division 3   │ 0.0%  │ 0.0%  │ 0.0%  │ 0.0%  │\n",
      "│ 28  │ Elective 1                       │ 0.0%  │ 0.0%  │ 0.0%  │ 0.0%  │\n",
      "│ 29  │ CSC Theory & Writing Elective    │ 0.0%  │ 0.0%  │ 0.0%  │ 0.0%  │\n",
      "│ 30  │ CSC 400-Level Elective 2         │ 0.0%  │ 0.0%  │ 0.0%  │ 0.0%  │\n",
      "│ 31  │ Elective 2                       │ 0.0%  │ 0.0%  │ 0.0%  │ 0.0%  │\n",
      "│ 32  │ Elective 3                       │ 0.0%  │ 0.0%  │ 0.0%  │ 0.0%  │\n",
      "│ 33  │ Elective 4                       │ 0.0%  │ 0.0%  │ 0.0%  │ 0.0%  │\n",
      "│ 34  │ CSC Systems Elective             │ 0.0%  │ 0.0%  │ 0.0%  │ 0.0%  │\n",
      "│ 35  │ CSC 300/400-Level Elective       │ 0.0%  │ 0.0%  │ 0.0%  │ 0.0%  │\n",
      "│ 36  │ Upper-Division Elective 1        │ 0.0%  │ 0.0%  │ 0.0%  │ 0.0%  │\n",
      "│ 37  │ Upper-Division Elective 2        │ 0.0%  │ 0.0%  │ 0.0%  │ 0.0%  │\n",
      "│ 38  │ GRAD RATE                        │ 0.0%  │ 0.0%  │ 0.0%  │ 0.0%  │\n",
      "\n",
      "│ Row │ TERM5 │ TERM6 │ TERM7 │ TERM8 │ TERM9 │ TERM10 │ TERM11 │ TERM12 │\n",
      "├─────┼───────┼───────┼───────┼───────┼───────┼────────┼────────┼────────┤\n",
      "│ 1   │ 84.0% │ 84.0% │ 84.0% │ 84.0% │ 84.0% │ 84.0%  │ 84.0%  │ 84.0%  │\n",
      "│ 2   │ 91.9% │ 91.9% │ 91.9% │ 91.9% │ 91.9% │ 91.9%  │ 91.9%  │ 91.9%  │\n",
      "│ 3   │ 97.4% │ 97.4% │ 97.4% │ 97.4% │ 97.4% │ 97.4%  │ 97.4%  │ 97.4%  │\n",
      "│ 4   │ 90.5% │ 90.5% │ 90.5% │ 90.5% │ 90.5% │ 90.5%  │ 90.5%  │ 90.5%  │\n",
      "│ 5   │ 66.6% │ 66.6% │ 66.6% │ 66.6% │ 66.6% │ 66.6%  │ 66.6%  │ 66.6%  │\n",
      "│ 6   │ 80.1% │ 80.1% │ 80.1% │ 80.1% │ 80.1% │ 80.1%  │ 80.1%  │ 80.1%  │\n",
      "│ 7   │ 83.1% │ 83.1% │ 83.1% │ 83.1% │ 83.1% │ 83.1%  │ 83.1%  │ 83.1%  │\n",
      "│ 8   │ 61.3% │ 61.3% │ 61.3% │ 61.3% │ 61.3% │ 61.3%  │ 61.3%  │ 61.3%  │\n",
      "│ 9   │ 52.4% │ 52.7% │ 52.7% │ 52.7% │ 52.7% │ 52.7%  │ 52.7%  │ 52.7%  │\n",
      "│ 10  │ 52.3% │ 52.5% │ 52.5% │ 52.5% │ 52.5% │ 52.5%  │ 52.5%  │ 52.5%  │\n",
      "│ 11  │ 54.9% │ 55.1% │ 55.1% │ 55.1% │ 55.1% │ 55.1%  │ 55.1%  │ 55.1%  │\n",
      "│ 12  │ 96.7% │ 96.7% │ 96.7% │ 96.7% │ 96.7% │ 96.7%  │ 96.7%  │ 96.7%  │\n",
      "│ 13  │ 60.7% │ 60.7% │ 60.7% │ 60.7% │ 60.7% │ 60.7%  │ 60.7%  │ 60.7%  │\n",
      "│ 14  │ 40.2% │ 46.6% │ 47.3% │ 47.3% │ 47.3% │ 47.3%  │ 47.3%  │ 47.3%  │\n",
      "│ 15  │ 34.3% │ 41.9% │ 42.8% │ 43.0% │ 43.0% │ 43.0%  │ 43.0%  │ 43.0%  │\n",
      "│ 16  │ 54.6% │ 55.0% │ 55.0% │ 55.0% │ 55.0% │ 55.0%  │ 55.0%  │ 55.0%  │\n",
      "│ 17  │ 50.3% │ 51.1% │ 51.1% │ 51.1% │ 51.1% │ 51.1%  │ 51.1%  │ 51.1%  │\n",
      "│ 18  │ 44.6% │ 47.7% │ 47.7% │ 47.7% │ 47.7% │ 47.7%  │ 47.7%  │ 47.7%  │\n",
      "│ 19  │ 34.1% │ 42.3% │ 43.4% │ 43.4% │ 43.4% │ 43.4%  │ 43.4%  │ 43.4%  │\n",
      "│ 20  │ 26.2% │ 37.6% │ 39.6% │ 39.8% │ 39.8% │ 39.8%  │ 39.8%  │ 39.8%  │\n",
      "│ 21  │ 27.6% │ 41.8% │ 43.0% │ 43.0% │ 43.0% │ 43.0%  │ 43.0%  │ 43.0%  │\n",
      "│ 22  │ 20.5% │ 39.2% │ 41.1% │ 41.1% │ 41.1% │ 41.1%  │ 41.1%  │ 41.1%  │\n",
      "│ 23  │ 9.0%  │ 35.9% │ 38.4% │ 38.6% │ 38.6% │ 38.6%  │ 38.6%  │ 38.6%  │\n",
      "│ 24  │ 2.7%  │ 31.5% │ 37.5% │ 37.8% │ 37.8% │ 37.8%  │ 37.8%  │ 37.8%  │\n",
      "│ 25  │ 0.8%  │ 26.4% │ 36.5% │ 37.2% │ 37.2% │ 37.2%  │ 37.2%  │ 37.2%  │\n",
      "│ 26  │ 0.0%  │ 19.6% │ 34.0% │ 35.8% │ 35.8% │ 35.8%  │ 35.8%  │ 35.8%  │\n",
      "│ 27  │ 0.0%  │ 13.7% │ 32.5% │ 34.5% │ 34.5% │ 34.5%  │ 34.5%  │ 34.5%  │\n",
      "│ 28  │ 0.0%  │ 5.9%  │ 29.9% │ 33.3% │ 33.6% │ 33.6%  │ 33.6%  │ 33.6%  │\n",
      "│ 29  │ 0.0%  │ 1.7%  │ 27.6% │ 32.8% │ 33.0% │ 33.0%  │ 33.0%  │ 33.0%  │\n",
      "│ 30  │ 0.0%  │ 0.0%  │ 24.2% │ 32.6% │ 32.9% │ 32.9%  │ 32.9%  │ 32.9%  │\n",
      "│ 31  │ 0.0%  │ 0.0%  │ 19.9% │ 31.9% │ 32.5% │ 32.5%  │ 32.5%  │ 32.5%  │\n",
      "│ 32  │ 0.0%  │ 0.0%  │ 14.5% │ 29.8% │ 31.6% │ 31.7%  │ 31.7%  │ 31.7%  │\n",
      "│ 33  │ 0.0%  │ 0.0%  │ 8.0%  │ 28.8% │ 31.4% │ 31.5%  │ 31.5%  │ 31.5%  │\n",
      "│ 34  │ 0.0%  │ 0.0%  │ 3.7%  │ 27.6% │ 30.7% │ 31.1%  │ 31.1%  │ 31.1%  │\n",
      "│ 35  │ 0.0%  │ 0.0%  │ 1.0%  │ 23.4% │ 30.3% │ 30.7%  │ 30.7%  │ 30.7%  │\n",
      "│ 36  │ 0.0%  │ 0.0%  │ 0.0%  │ 20.1% │ 29.2% │ 29.8%  │ 29.8%  │ 29.8%  │\n",
      "│ 37  │ 0.0%  │ 0.0%  │ 0.0%  │ 17.0% │ 28.9% │ 30.0%  │ 30.0%  │ 30.0%  │\n",
      "│ 38  │ 0.0%  │ 0.0%  │ 0.0%  │ 11.6% │ 25.8% │ 28.0%  │ 0.0%   │ 0.0%   │"
     ]
    }
   ],
   "source": [
    "set_passrates_from_csv(CS_degree_plan.curriculum.courses, \"./Student_Grades_sp17_to_fall19.csv\", course_passrate)\n",
    "simulation = simulate(CS_degree_plan, course_attempt_limit, students,\n",
    "                      max_credits = max_credits,\n",
    "                      performance_model = performance_model,\n",
    "                      enrollment_model = enrollment_model,\n",
    "                      duration = num_terms,\n",
    "                      duration_lock = duration_lock,\n",
    "                      stopouts = stopouts);\n",
    "simulation_report(simulation, num_terms, course_passrate, max_credits, real_passrate)"
   ]
  },
  {
   "cell_type": "markdown",
   "metadata": {},
   "source": [
    "## 3. What-if Analyses\n",
    "\n",
    "These simulation capabilities allow us to conduct what-if analyses around the impact that changes to curricular structure or instructional improvements will have on student success.  First, let's consider how changing the number of allowed attempts (from 2 to 3) would impact graduation rates in both of these programs."
   ]
  },
  {
   "cell_type": "code",
   "execution_count": 17,
   "metadata": {
    "scrolled": false
   },
   "outputs": [
    {
     "name": "stdout",
     "output_type": "stream",
     "text": [
      "\n",
      "\u001b[0m\u001b[1m------------ Simulation Report ------------\u001b[22m\n",
      "Aerospace Engineering, BS -- 2019-20 Degree Plan\n",
      "\n",
      "-------- Simulation Statistics --------\n",
      "Number of terms: 12\n",
      "Max Credits per Term: 18\n",
      "Max Course Attempts: 3\n",
      "Number of Students: 1000\n",
      "Preset Course Pass Rates: 90.0%\n",
      "\n",
      "-------- Graduation Statistics --------\n",
      "Number of Students Graduated: 578\n",
      "Graduation Rate: 57.8%\n",
      "Term Graduation Rates: \n",
      "[0.0, 0.0, 0.0, 0.0, 0.0, 0.0, 0.0, 0.02, 0.256, 0.476, 0.566, 0.578]\n",
      "Average time to degree: 9.719723183391004 terms\n",
      "\n",
      "-------- Stop out Statistics --------\n",
      "Number of Students Stopped Out (Stopout Model Prediction + Reached Max Attempts): 420\n",
      "Number of Students Reaching Max Attempts: 110\n",
      "Stop-out Rate: 42.0%\n",
      "Cumulative Term Stop-out Rates (including reached max course attempts students): \n",
      "[0.071, 0.211, 0.272, 0.336, 0.374, 0.389, 0.404, 0.406, 0.415, 0.418, 0.419, 0.42]\n",
      "\n",
      "Cumulative Term Stop-out Rates (excluding reaching max course attempts students): \n",
      "[0.071, 0.211, 0.248, 0.287, 0.303, 0.307, 0.31, 0.31, 0.31, 0.31, 0.31, 0.31]\n",
      "\n",
      "Cumulative Term Reached Max Course Attempts Rates: \n",
      "[0.0, 0.0, 0.024, 0.049, 0.071, 0.082, 0.094, 0.096, 0.105, 0.108, 0.109, 0.11]\n",
      "\n",
      "\n",
      "-------- Pass Rate of Each Course (computed from Student Grades CSV file) --------\n",
      "\n",
      "│ Row │ Courses                                         │ Pass_Rates │ Num_Students_Passes │ Num_Students_Taken │\n",
      "├─────┼─────────────────────────────────────────────────┼────────────┼─────────────────────┼────────────────────┤\n",
      "│ 1   │ MATH 125 Calculus I w/ Applications             │ 80.8%      │ 724                 │ 896                │\n",
      "│ 2   │ CHEM 151 Gen Chemistry I                        │ 76.1%      │ 3671                │ 4823               │\n",
      "│ 3   │ ENGL 101 First-year Comp.                       │ 88.9%      │ 8949                │ 10064              │\n",
      "│ 4   │ ENGR 102 Intro to Engineering                   │ 90.0%      │ N/A                 │ N/A                │\n",
      "│ 5   │ Tier I General Ed.                              │ 82.1%      │ 41165               │ 50147              │\n",
      "│ 6   │ MATH 129 Calculus II                            │ 74.7%      │ 2160                │ 2893               │\n",
      "│ 7   │ AME 105 Intro. to MATLAB I                      │ 88.9%      │ 547                 │ 615                │\n",
      "│ 8   │ PHYS 141 Intro Mechanics                        │ 74.4%      │ 1301                │ 1748               │\n",
      "│ 9   │ ENGL 102 First-year Comp.                       │ 86.3%      │ 6615                │ 7666               │\n",
      "│ 10  │ ECE 175 Programming for Eng. Apps.              │ 74.9%      │ 791                 │ 1056               │\n",
      "│ 11  │ Tier I General Ed. 1                            │ 82.1%      │ 41165               │ 50147              │\n",
      "│ 12  │ CE 214 Statics                                  │ 86.5%      │ 652                 │ 754                │\n",
      "│ 13  │ MATH  223 Vector Calculus                       │ 74.7%      │ 1621                │ 2169               │\n",
      "│ 14  │ PHYS 241 Electricity & Magnetism                │ 81.0%      │ 705                 │ 870                │\n",
      "│ 15  │ AME  205 Intro. To MATLAB II                    │ 90.2%      │ 634                 │ 703                │\n",
      "│ 16  │ AME 211 Comp. Aided Drafting & Manufacturing    │ 79.5%      │ 31                  │ 39                 │\n",
      "│ 17  │ Tier I General Ed. 2                            │ 82.1%      │ 41165               │ 50147              │\n",
      "│ 18  │ AME 230 Thermodynamics                          │ 88.4%      │ 382                 │ 432                │\n",
      "│ 19  │ AME 250 Dynamics                                │ 86.8%      │ 348                 │ 401                │\n",
      "│ 20  │ MATH 254 Intro. to ODEs                         │ 81.1%      │ 843                 │ 1040               │\n",
      "│ 21  │ AME 220 Intro. to Aerospace Eng.                │ 88.0%      │ 103                 │ 117                │\n",
      "│ 22  │ Tier I General Ed. 3                            │ 82.1%      │ 41165               │ 50147              │\n",
      "│ 23  │ AME 320 Aerodynamics                            │ 94.4%      │ 134                 │ 142                │\n",
      "│ 24  │ AME  324A Mech. Behavior of Eng. Materials.     │ 92.1%      │ 304                 │ 330                │\n",
      "│ 25  │ AME 301 Engineering Analysis                    │ 89.5%      │ 392                 │ 438                │\n",
      "│ 26  │ AME 300 Instrumentation Lab.                    │ 98.4%      │ 302                 │ 307                │\n",
      "│ 27  │ MSE 331R Fund. of Materials for Engineers       │ 97.3%      │ 253                 │ 260                │\n",
      "│ 28  │ AME 324L Mech. of Materials Lab.                │ 92.2%      │ 317                 │ 344                │\n",
      "│ 29  │ AME 324B Eng. Component Design                  │ 93.1%      │ 244                 │ 262                │\n",
      "│ 30  │ AME 321 Aircraft Performance                    │ 90.0%      │ 54                  │ 60                 │\n",
      "│ 31  │ AME 323 Gasdynamics                             │ 92.0%      │ 69                  │ 75                 │\n",
      "│ 32  │ AME 302 Numerical Methods                       │ 94.9%      │ 242                 │ 255                │\n",
      "│ 33  │ AME 313 Aero./Mech. Eng. Lab                    │ 99.1%      │ 552                 │ 557                │\n",
      "│ 34  │ Tier II General Ed. 1                           │ 82.1%      │ 41165               │ 50147              │\n",
      "│ 35  │ AME 401 Senior Aerospace Lab.                   │ 100.0%     │ 103                 │ 103                │\n",
      "│ 36  │ AME 420 Aerospace Conceptual Design             │ 98.3%      │ 57                  │ 58                 │\n",
      "│ 37  │ AME 425 Aerospace Propulsion                    │ 97.0%      │ 64                  │ 66                 │\n",
      "│ 38  │ AME 427 Stability and Control of Aero. Vehicles │ 94.0%      │ 47                  │ 50                 │\n",
      "│ 39  │ AME 457 Orbital Mechanicans and Space Flt.      │ 98.6%      │ 69                  │ 70                 │\n",
      "│ 40  │ AME 495S Senior Colloquium                      │ 100.0%     │ 128                 │ 128                │\n",
      "│ 41  │ AME 422 Aerospace Eng.Design                    │ 100.0%     │ 34                  │ 34                 │\n",
      "│ 42  │ AME 431 Num. Meth. in Fluid Mech. & Heat Xfer   │ 90.9%      │ 10                  │ 11                 │\n",
      "│ 43  │ Technical Elective 1                            │ 90.0%      │ N/A                 │ N/A                │\n",
      "│ 44  │ Technical Elective 2                            │ 90.0%      │ N/A                 │ N/A                │\n",
      "│ 45  │ Tier II General Ed. 2                           │ 82.1%      │ 41165               │ 50147              │\n",
      "\n",
      "-------- Course Pass Rates by Term --------\n",
      "\n",
      "│ Row │ COUSE                                   │ TERM1 │ TERM2 │ TERM3 │\n",
      "├─────┼─────────────────────────────────────────┼───────┼───────┼───────┤\n",
      "│ 1   │ Calculus I w/ Applications              │ 80.8% │ 94.7% │ 97.1% │\n",
      "│ 2   │ Gen Chemistry I                         │ 73.3% │ 92.8% │ 96.2% │\n",
      "│ 3   │ First-year Comp.                        │ 89.9% │ 98.2% │ 98.9% │\n",
      "│ 4   │ Intro to Engineering                    │ 89.7% │ 98.7% │ 99.2% │\n",
      "│ 5   │ Tier I General Ed.                      │ 82.1% │ 95.4% │ 97.4% │\n",
      "│ 6   │ Calculus II                             │ 0.0%  │ 58.8% │ 77.3% │\n",
      "│ 7   │ Intro. to MATLAB I                      │ 0.0%  │ 66.6% │ 83.6% │\n",
      "│ 8   │ Intro Mechanics                         │ 0.0%  │ 56.0% │ 77.8% │\n",
      "│ 9   │ First-year Comp.                        │ 0.0%  │ 72.4% │ 87.0% │\n",
      "│ 10  │ Programming for Eng. Apps.              │ 0.0%  │ 63.1% │ 82.0% │\n",
      "│ 11  │ Tier I General Ed. 1                    │ 0.0%  │ 47.5% │ 78.9% │\n",
      "│ 12  │ Statics                                 │ 0.0%  │ 0.0%  │ 32.5% │\n",
      "│ 13  │ Vector Calculus                         │ 0.0%  │ 0.0%  │ 38.4% │\n",
      "│ 14  │ Electricity & Magnetism                 │ 0.0%  │ 0.0%  │ 26.9% │\n",
      "│ 15  │ Intro. To MATLAB II                     │ 0.0%  │ 0.0%  │ 50.7% │\n",
      "│ 16  │ Comp. Aided Drafting & Manufacturing    │ 0.0%  │ 8.2%  │ 53.0% │\n",
      "│ 17  │ Tier I General Ed. 2                    │ 0.0%  │ 6.7%  │ 37.3% │\n",
      "│ 18  │ Thermodynamics                          │ 0.0%  │ 0.0%  │ 6.2%  │\n",
      "│ 19  │ Dynamics                                │ 0.0%  │ 0.0%  │ 0.0%  │\n",
      "│ 20  │ Intro. to ODEs                          │ 0.0%  │ 0.0%  │ 0.0%  │\n",
      "│ 21  │ Intro. to Aerospace Eng.                │ 0.0%  │ 0.0%  │ 0.0%  │\n",
      "│ 22  │ Tier I General Ed. 3                    │ 0.0%  │ 0.0%  │ 14.5% │\n",
      "│ 23  │ Aerodynamics                            │ 0.0%  │ 0.0%  │ 0.0%  │\n",
      "│ 24  │ Mech. Behavior of Eng. Materials.       │ 0.0%  │ 0.0%  │ 0.0%  │\n",
      "│ 25  │ Engineering Analysis                    │ 0.0%  │ 0.0%  │ 0.0%  │\n",
      "│ 26  │ Instrumentation Lab.                    │ 0.0%  │ 0.0%  │ 3.7%  │\n",
      "│ 27  │ Fund. of Materials for Engineers        │ 0.0%  │ 0.0%  │ 1.4%  │\n",
      "│ 28  │ Mech. of Materials Lab.                 │ 92.5% │ 96.9% │ 97.9% │\n",
      "│ 29  │ Eng. Component Design                   │ 0.0%  │ 0.0%  │ 0.0%  │\n",
      "│ 30  │ Aircraft Performance                    │ 0.0%  │ 0.0%  │ 0.0%  │\n",
      "│ 31  │ Gasdynamics                             │ 0.0%  │ 0.0%  │ 0.0%  │\n",
      "│ 32  │ Numerical Methods                       │ 0.0%  │ 0.0%  │ 0.0%  │\n",
      "│ 33  │ Aero./Mech. Eng. Lab                    │ 99.7% │ 99.8% │ 99.8% │\n",
      "│ 34  │ Tier II General Ed. 1                   │ 0.0%  │ 0.0%  │ 0.3%  │\n",
      "│ 35  │ Senior Aerospace Lab.                   │ 0.0%  │ 0.0%  │ 0.0%  │\n",
      "│ 36  │ Aerospace Conceptual Design             │ 0.0%  │ 0.0%  │ 0.0%  │\n",
      "│ 37  │ Aerospace Propulsion                    │ 0.0%  │ 0.0%  │ 0.0%  │\n",
      "│ 38  │ Stability and Control of Aero. Vehicles │ 0.0%  │ 0.0%  │ 0.0%  │\n",
      "│ 39  │ Orbital Mechanicans and Space Flt.      │ 0.0%  │ 0.0%  │ 0.0%  │\n",
      "│ 40  │ Senior Colloquium                       │ 0.0%  │ 56.5% │ 70.7% │\n",
      "│ 41  │ Aerospace Eng.Design                    │ 0.0%  │ 0.0%  │ 0.0%  │\n",
      "│ 42  │ Num. Meth. in Fluid Mech. & Heat Xfer   │ 0.0%  │ 0.0%  │ 0.0%  │\n",
      "│ 43  │ Technical Elective 1                    │ 0.0%  │ 0.0%  │ 0.0%  │\n",
      "│ 44  │ Technical Elective 2                    │ 0.0%  │ 0.0%  │ 0.0%  │\n",
      "│ 45  │ Tier II General Ed. 2                   │ 0.0%  │ 0.0%  │ 0.0%  │\n",
      "│ 46  │ GRAD RATE                               │ 0.0%  │ 0.0%  │ 0.0%  │\n",
      "\n",
      "│ Row │ TERM4 │ TERM5 │ TERM6 │ TERM7 │ TERM8 │ TERM9 │ TERM10 │ TERM11 │\n",
      "├─────┼───────┼───────┼───────┼───────┼───────┼───────┼────────┼────────┤\n",
      "│ 1   │ 97.1% │ 97.1% │ 97.1% │ 97.1% │ 97.1% │ 97.1% │ 97.1%  │ 97.1%  │\n",
      "│ 2   │ 96.2% │ 96.2% │ 96.2% │ 96.2% │ 96.2% │ 96.2% │ 96.2%  │ 96.2%  │\n",
      "│ 3   │ 98.9% │ 98.9% │ 98.9% │ 98.9% │ 98.9% │ 98.9% │ 98.9%  │ 98.9%  │\n",
      "│ 4   │ 99.2% │ 99.2% │ 99.2% │ 99.2% │ 99.2% │ 99.2% │ 99.2%  │ 99.2%  │\n",
      "│ 5   │ 97.4% │ 97.4% │ 97.4% │ 97.4% │ 97.4% │ 97.4% │ 97.4%  │ 97.4%  │\n",
      "│ 6   │ 84.7% │ 85.2% │ 85.3% │ 85.3% │ 85.3% │ 85.3% │ 85.3%  │ 85.3%  │\n",
      "│ 7   │ 87.5% │ 87.6% │ 87.6% │ 87.6% │ 87.6% │ 87.6% │ 87.6%  │ 87.6%  │\n",
      "│ 8   │ 84.6% │ 85.5% │ 85.8% │ 85.8% │ 85.8% │ 85.8% │ 85.8%  │ 85.8%  │\n",
      "│ 9   │ 89.2% │ 89.3% │ 89.3% │ 89.3% │ 89.3% │ 89.3% │ 89.3%  │ 89.3%  │\n",
      "│ 10  │ 86.3% │ 86.6% │ 86.6% │ 86.6% │ 86.6% │ 86.6% │ 86.6%  │ 86.6%  │\n",
      "│ 11  │ 83.8% │ 84.5% │ 84.5% │ 84.5% │ 84.5% │ 84.5% │ 84.5%  │ 84.5%  │\n",
      "│ 12  │ 56.1% │ 68.6% │ 71.8% │ 72.5% │ 72.5% │ 72.5% │ 72.5%  │ 72.5%  │\n",
      "│ 13  │ 60.5% │ 70.3% │ 72.8% │ 73.0% │ 73.0% │ 73.0% │ 73.0%  │ 73.0%  │\n",
      "│ 14  │ 54.3% │ 66.7% │ 70.0% │ 70.8% │ 71.1% │ 71.1% │ 71.1%  │ 71.1%  │\n",
      "│ 15  │ 69.7% │ 75.1% │ 75.5% │ 75.5% │ 75.5% │ 75.5% │ 75.5%  │ 75.5%  │\n",
      "│ 16  │ 73.5% │ 76.5% │ 76.6% │ 76.6% │ 76.6% │ 76.6% │ 76.6%  │ 76.6%  │\n",
      "│ 17  │ 67.3% │ 73.0% │ 74.8% │ 74.8% │ 74.8% │ 74.8% │ 74.8%  │ 74.8%  │\n",
      "│ 18  │ 53.5% │ 68.0% │ 69.6% │ 70.2% │ 70.2% │ 70.2% │ 70.2%  │ 70.2%  │\n",
      "│ 19  │ 20.0% │ 45.5% │ 59.0% │ 63.1% │ 64.5% │ 64.6% │ 64.6%  │ 64.6%  │\n",
      "│ 20  │ 17.1% │ 45.1% │ 60.0% │ 64.2% │ 65.2% │ 65.2% │ 65.2%  │ 65.2%  │\n",
      "│ 21  │ 8.0%  │ 42.8% │ 59.8% │ 64.1% │ 64.7% │ 64.8% │ 64.8%  │ 64.8%  │\n",
      "│ 22  │ 30.6% │ 58.6% │ 67.4% │ 68.9% │ 69.1% │ 69.1% │ 69.1%  │ 69.1%  │\n",
      "│ 23  │ 0.0%  │ 6.9%  │ 38.5% │ 56.1% │ 61.1% │ 61.8% │ 61.9%  │ 61.9%  │\n",
      "│ 24  │ 0.0%  │ 26.1% │ 54.9% │ 60.8% │ 62.2% │ 62.2% │ 62.2%  │ 62.2%  │\n",
      "│ 25  │ 0.0%  │ 11.8% │ 38.2% │ 54.5% │ 60.4% │ 61.5% │ 61.7%  │ 61.7%  │\n",
      "│ 26  │ 12.6% │ 26.8% │ 60.3% │ 65.1% │ 65.5% │ 65.5% │ 65.5%  │ 65.5%  │\n",
      "│ 27  │ 8.0%  │ 13.1% │ 48.6% │ 62.3% │ 63.3% │ 63.4% │ 63.4%  │ 63.4%  │\n",
      "│ 28  │ 98.6% │ 98.6% │ 99.0% │ 99.2% │ 99.2% │ 99.2% │ 99.2%  │ 99.2%  │\n",
      "│ 29  │ 0.0%  │ 0.0%  │ 10.6% │ 35.7% │ 51.9% │ 58.5% │ 59.7%  │ 60.1%  │\n",
      "│ 30  │ 0.0%  │ 0.0%  │ 16.0% │ 47.3% │ 57.0% │ 59.4% │ 59.6%  │ 59.7%  │\n",
      "│ 31  │ 0.0%  │ 0.0%  │ 8.9%  │ 46.9% │ 57.2% │ 59.9% │ 60.2%  │ 60.4%  │\n",
      "│ 32  │ 0.0%  │ 0.0%  │ 5.4%  │ 41.9% │ 56.5% │ 60.0% │ 60.1%  │ 60.1%  │\n",
      "│ 33  │ 99.8% │ 99.8% │ 99.8% │ 99.9% │ 99.9% │ 99.9% │ 99.9%  │ 99.9%  │\n",
      "│ 34  │ 3.2%  │ 7.4%  │ 13.4% │ 37.6% │ 55.4% │ 60.3% │ 60.9%  │ 60.9%  │\n",
      "│ 35  │ 0.0%  │ 0.0%  │ 0.0%  │ 8.3%  │ 45.1% │ 56.1% │ 59.0%  │ 59.3%  │\n",
      "│ 36  │ 0.0%  │ 0.0%  │ 0.0%  │ 6.4%  │ 39.7% │ 54.0% │ 58.5%  │ 59.1%  │\n",
      "│ 37  │ 0.0%  │ 0.0%  │ 0.0%  │ 6.8%  │ 42.9% │ 55.7% │ 58.9%  │ 59.5%  │\n",
      "│ 38  │ 0.0%  │ 0.0%  │ 0.0%  │ 11.8% │ 40.7% │ 55.1% │ 58.4%  │ 58.9%  │\n",
      "│ 39  │ 0.0%  │ 0.0%  │ 1.8%  │ 12.9% │ 44.7% │ 58.0% │ 59.6%  │ 59.7%  │\n",
      "│ 40  │ 80.9% │ 81.1% │ 81.6% │ 82.0% │ 84.7% │ 85.2% │ 85.2%  │ 85.2%  │\n",
      "│ 41  │ 0.0%  │ 0.0%  │ 0.0%  │ 0.0%  │ 6.3%  │ 39.4% │ 53.7%  │ 58.2%  │\n",
      "│ 42  │ 0.0%  │ 0.0%  │ 0.0%  │ 1.3%  │ 25.2% │ 52.5% │ 59.1%  │ 59.4%  │\n",
      "│ 43  │ 2.0%  │ 4.2%  │ 7.8%  │ 12.1% │ 27.1% │ 54.5% │ 60.0%  │ 60.5%  │\n",
      "│ 44  │ 0.6%  │ 2.4%  │ 4.6%  │ 8.1%  │ 17.2% │ 49.7% │ 58.5%  │ 60.0%  │\n",
      "│ 45  │ 0.1%  │ 1.5%  │ 2.9%  │ 4.7%  │ 10.1% │ 41.5% │ 55.1%  │ 58.9%  │\n",
      "│ 46  │ 0.0%  │ 0.0%  │ 0.0%  │ 0.0%  │ 2.0%  │ 25.6% │ 47.6%  │ 56.6%  │\n",
      "\n",
      "│ Row │ TERM12 │\n",
      "├─────┼────────┤\n",
      "│ 1   │ 97.1%  │\n",
      "│ 2   │ 96.2%  │\n",
      "│ 3   │ 98.9%  │\n",
      "│ 4   │ 99.2%  │\n",
      "│ 5   │ 97.4%  │\n",
      "│ 6   │ 85.3%  │\n",
      "│ 7   │ 87.6%  │\n",
      "│ 8   │ 85.8%  │\n",
      "│ 9   │ 89.3%  │\n",
      "│ 10  │ 86.6%  │\n",
      "│ 11  │ 84.5%  │\n",
      "│ 12  │ 72.5%  │\n",
      "│ 13  │ 73.0%  │\n",
      "│ 14  │ 71.1%  │\n",
      "│ 15  │ 75.5%  │\n",
      "│ 16  │ 76.6%  │\n",
      "│ 17  │ 74.8%  │\n",
      "│ 18  │ 70.2%  │\n",
      "│ 19  │ 64.6%  │\n",
      "│ 20  │ 65.2%  │\n",
      "│ 21  │ 64.8%  │\n",
      "│ 22  │ 69.1%  │\n",
      "│ 23  │ 61.9%  │\n",
      "│ 24  │ 62.2%  │\n",
      "│ 25  │ 61.7%  │\n",
      "│ 26  │ 65.5%  │\n",
      "│ 27  │ 63.4%  │\n",
      "│ 28  │ 99.2%  │\n",
      "│ 29  │ 60.1%  │\n",
      "│ 30  │ 59.7%  │\n",
      "│ 31  │ 60.4%  │\n",
      "│ 32  │ 60.1%  │\n",
      "│ 33  │ 99.9%  │\n",
      "│ 34  │ 60.9%  │\n",
      "│ 35  │ 59.5%  │\n",
      "│ 36  │ 59.3%  │\n",
      "│ 37  │ 59.7%  │\n",
      "│ 38  │ 59.0%  │\n",
      "│ 39  │ 59.7%  │\n",
      "│ 40  │ 85.2%  │\n",
      "│ 41  │ 58.8%  │\n",
      "│ 42  │ 59.5%  │\n",
      "│ 43  │ 60.6%  │\n",
      "│ 44  │ 60.1%  │\n",
      "│ 45  │ 59.3%  │\n",
      "│ 46  │ 57.8%  │"
     ]
    }
   ],
   "source": [
    "course_attempt_limit = 3\n",
    "simulation = simulate(AE_degree_plan, course_attempt_limit, students,\n",
    "                      max_credits = max_credits,\n",
    "                      performance_model = performance_model,\n",
    "                      enrollment_model = enrollment_model,\n",
    "                      duration = num_terms,\n",
    "                      duration_lock = duration_lock,\n",
    "                      stopouts = stopouts);\n",
    "simulation_report(simulation, num_terms, course_passrate, max_credits, real_passrate)"
   ]
  },
  {
   "cell_type": "code",
   "execution_count": 18,
   "metadata": {
    "scrolled": false
   },
   "outputs": [
    {
     "name": "stdout",
     "output_type": "stream",
     "text": [
      "\n",
      "\u001b[0m\u001b[1m------------ Simulation Report ------------\u001b[22m\n",
      "Computer Science, BS -- 2019-20 Degree Plan\n",
      "\n",
      "-------- Simulation Statistics --------\n",
      "Number of terms: 12\n",
      "Max Credits per Term: 18\n",
      "Max Course Attempts: 3\n",
      "Number of Students: 1000\n",
      "Preset Course Pass Rates: 90.0%\n",
      "\n",
      "-------- Graduation Statistics --------\n",
      "Number of Students Graduated: 554\n",
      "Graduation Rate: 55.400000000000006%\n",
      "Term Graduation Rates: \n",
      "[0.0, 0.0, 0.0, 0.0, 0.0, 0.0, 0.0, 0.117, 0.432, 0.537, 0.554, 0.0]\n",
      "Average time to degree: 9.03971119133574 terms\n",
      "\n",
      "-------- Stop out Statistics --------\n",
      "Number of Students Stopped Out (Stopout Model Prediction + Reached Max Attempts): 446\n",
      "Number of Students Reaching Max Attempts: 156\n",
      "Stop-out Rate: 44.6%\n",
      "Cumulative Term Stop-out Rates (including reached max course attempts students): \n",
      "[0.066, 0.19, 0.287, 0.342, 0.381, 0.406, 0.429, 0.438, 0.444, 0.446, 0.446, 0.0]\n",
      "\n",
      "Cumulative Term Stop-out Rates (excluding reaching max course attempts students): \n",
      "[0.066, 0.19, 0.219, 0.265, 0.277, 0.284, 0.29, 0.29, 0.29, 0.29, 0.29, 0.0]\n",
      "\n",
      "Cumulative Term Reached Max Course Attempts Rates: \n",
      "[0.0, 0.0, 0.068, 0.077, 0.104, 0.122, 0.139, 0.148, 0.154, 0.156, 0.156, 0.0]\n",
      "\n",
      "\n",
      "-------- Pass Rate of Each Course (computed from Student Grades CSV file) --------\n",
      "\n",
      "│ Row │ Courses                                  │ Pass_Rates │ Num_Students_Passes │ Num_Students_Taken │\n",
      "├─────┼──────────────────────────────────────────┼────────────┼─────────────────────┼────────────────────┤\n",
      "│ 1   │ CSC 110 Intro to Computer Programming I  │ 63.3%      │ 925                 │ 1461               │\n",
      "│ 2   │ MATH 120R Pre-Calculus                   │ 72.1%      │ 2246                │ 3117               │\n",
      "│ 3   │ ENGL 101 English Composition I           │ 88.9%      │ 8949                │ 10064              │\n",
      "│ 4   │ 1st Semester Second Language             │ 90.0%      │ N/A                 │ N/A                │\n",
      "│ 5   │ CSC 120 Intro to Computer Programming II │ 72.4%      │ 603                 │ 833                │\n",
      "│ 6   │ MATH 122A/B Calculus I                   │ 90.0%      │ N/A                 │ N/A                │\n",
      "│ 7   │ ENGL 102 English Composition II          │ 86.3%      │ 6615                │ 7666               │\n",
      "│ 8   │ 2nd Semester Second Language             │ 90.0%      │ N/A                 │ N/A                │\n",
      "│ 9   │ CSC 210 Software Development             │ 76.7%      │ 355                 │ 463                │\n",
      "│ 10  │ CSC 245 Intro to Discrete Structures     │ 80.4%      │ 369                 │ 459                │\n",
      "│ 11  │ MATH 129 Calculus II                     │ 74.7%      │ 2160                │ 2893               │\n",
      "│ 12  │ Tier 1 General Education 1               │ 90.0%      │ N/A                 │ N/A                │\n",
      "│ 13  │ Tier 1 General Education 2               │ 90.0%      │ N/A                 │ N/A                │\n",
      "│ 14  │ CSC 252 Computer Organization            │ 81.8%      │ 251                 │ 307                │\n",
      "│ 15  │ CSC 352 Systems Programming & Unix       │ 67.2%      │ 289                 │ 430                │\n",
      "│ 16  │ Supporting Science #1                    │ 90.0%      │ N/A                 │ N/A                │\n",
      "│ 17  │ Tier 1 General Education 3               │ 90.0%      │ N/A                 │ N/A                │\n",
      "│ 18  │ Tier 1 General Education 4               │ 90.0%      │ N/A                 │ N/A                │\n",
      "│ 19  │ CSC 335 Object-Oriented Programming      │ 91.4%      │ 278                 │ 304                │\n",
      "│ 20  │ CSC 345 Analysis of Discrete Structures  │ 79.2%      │ 316                 │ 399                │\n",
      "│ 21  │ Supporting Science #2                    │ 90.0%      │ N/A                 │ N/A                │\n",
      "│ 22  │ Tier 2 Gen Ed/Upper-Division 1           │ 90.0%      │ N/A                 │ N/A                │\n",
      "│ 23  │ Upper-Division Elective                  │ 90.0%      │ N/A                 │ N/A                │\n",
      "│ 24  │ CSC Paradigms Elective                   │ 90.0%      │ N/A                 │ N/A                │\n",
      "│ 25  │ CSC 400-Level Elective 1                 │ 90.0%      │ N/A                 │ N/A                │\n",
      "│ 26  │ Tier 2 Gen Ed/Upper-Division 2           │ 90.0%      │ N/A                 │ N/A                │\n",
      "│ 27  │ Tier 2 Gen Ed/Upper-Division 3           │ 90.0%      │ N/A                 │ N/A                │\n",
      "│ 28  │ Elective 1                               │ 90.0%      │ N/A                 │ N/A                │\n",
      "│ 29  │ CSC Theory & Writing Elective            │ 90.0%      │ N/A                 │ N/A                │\n",
      "│ 30  │ CSC 400-Level Elective 2                 │ 90.0%      │ N/A                 │ N/A                │\n",
      "│ 31  │ Elective 2                               │ 90.0%      │ N/A                 │ N/A                │\n",
      "│ 32  │ Elective 3                               │ 90.0%      │ N/A                 │ N/A                │\n",
      "│ 33  │ Elective 4                               │ 90.0%      │ N/A                 │ N/A                │\n",
      "│ 34  │ CSC Systems Elective                     │ 90.0%      │ N/A                 │ N/A                │\n",
      "│ 35  │ CSC 300/400-Level Elective               │ 90.0%      │ N/A                 │ N/A                │\n",
      "│ 36  │ Upper-Division Elective 1                │ 90.0%      │ N/A                 │ N/A                │\n",
      "│ 37  │ Upper-Division Elective 2                │ 90.0%      │ N/A                 │ N/A                │\n",
      "\n",
      "-------- Course Pass Rates by Term --------\n",
      "\n",
      "│ Row │ COUSE                            │ TERM1 │ TERM2 │ TERM3 │ TERM4 │\n",
      "├─────┼──────────────────────────────────┼───────┼───────┼───────┼───────┤\n",
      "│ 1   │ Intro to Computer Programming I  │ 61.6% │ 85.1% │ 92.3% │ 92.3% │\n",
      "│ 2   │ Pre-Calculus                     │ 71.6% │ 91.7% │ 95.2% │ 95.2% │\n",
      "│ 3   │ English Composition I            │ 89.4% │ 98.1% │ 98.8% │ 98.8% │\n",
      "│ 4   │ 1st Semester Second Language     │ 0.0%  │ 84.9% │ 91.8% │ 92.2% │\n",
      "│ 5   │ Intro to Computer Programming II │ 0.0%  │ 41.7% │ 65.3% │ 75.8% │\n",
      "│ 6   │ Calculus I                       │ 0.0%  │ 58.9% │ 80.8% │ 85.1% │\n",
      "│ 7   │ English Composition II           │ 0.0%  │ 73.3% │ 86.2% │ 89.1% │\n",
      "│ 8   │ 2nd Semester Second Language     │ 0.0%  │ 0.0%  │ 67.2% │ 77.5% │\n",
      "│ 9   │ Software Development             │ 0.0%  │ 0.0%  │ 28.8% │ 51.2% │\n",
      "│ 10  │ Intro to Discrete Structures     │ 0.0%  │ 0.0%  │ 27.3% │ 52.6% │\n",
      "│ 11  │ Calculus II                      │ 0.0%  │ 0.0%  │ 38.9% │ 62.7% │\n",
      "│ 12  │ Tier 1 General Education 1       │ 89.0% │ 89.4% │ 95.6% │ 97.6% │\n",
      "│ 13  │ Tier 1 General Education 2       │ 0.0%  │ 1.8%  │ 53.9% │ 76.9% │\n",
      "│ 14  │ Computer Organization            │ 0.0%  │ 0.0%  │ 0.0%  │ 20.4% │\n",
      "│ 15  │ Systems Programming & Unix       │ 0.0%  │ 0.0%  │ 0.0%  │ 17.0% │\n",
      "│ 16  │ Supporting Science #1            │ 0.0%  │ 0.0%  │ 19.1% │ 59.7% │\n",
      "│ 17  │ Tier 1 General Education 3       │ 0.0%  │ 0.0%  │ 2.2%  │ 51.3% │\n",
      "│ 18  │ Tier 1 General Education 4       │ 0.0%  │ 0.0%  │ 0.0%  │ 29.2% │\n",
      "│ 19  │ Object-Oriented Programming      │ 0.0%  │ 0.0%  │ 0.0%  │ 0.0%  │\n",
      "│ 20  │ Analysis of Discrete Structures  │ 0.0%  │ 0.0%  │ 0.0%  │ 0.0%  │\n",
      "│ 21  │ Supporting Science #2            │ 0.0%  │ 0.0%  │ 0.0%  │ 13.9% │\n",
      "│ 22  │ Tier 2 Gen Ed/Upper-Division 1   │ 0.0%  │ 0.0%  │ 0.0%  │ 3.4%  │\n",
      "│ 23  │ Upper-Division Elective          │ 0.0%  │ 0.0%  │ 0.0%  │ 0.0%  │\n",
      "│ 24  │ CSC Paradigms Elective           │ 0.0%  │ 0.0%  │ 0.0%  │ 0.0%  │\n",
      "│ 25  │ CSC 400-Level Elective 1         │ 0.0%  │ 0.0%  │ 0.0%  │ 0.0%  │\n",
      "│ 26  │ Tier 2 Gen Ed/Upper-Division 2   │ 0.0%  │ 0.0%  │ 0.0%  │ 0.0%  │\n",
      "│ 27  │ Tier 2 Gen Ed/Upper-Division 3   │ 0.0%  │ 0.0%  │ 0.0%  │ 0.0%  │\n",
      "│ 28  │ Elective 1                       │ 0.0%  │ 0.0%  │ 0.0%  │ 0.0%  │\n",
      "│ 29  │ CSC Theory & Writing Elective    │ 0.0%  │ 0.0%  │ 0.0%  │ 0.0%  │\n",
      "│ 30  │ CSC 400-Level Elective 2         │ 0.0%  │ 0.0%  │ 0.0%  │ 0.0%  │\n",
      "│ 31  │ Elective 2                       │ 0.0%  │ 0.0%  │ 0.0%  │ 0.0%  │\n",
      "│ 32  │ Elective 3                       │ 0.0%  │ 0.0%  │ 0.0%  │ 0.0%  │\n",
      "│ 33  │ Elective 4                       │ 0.0%  │ 0.0%  │ 0.0%  │ 0.0%  │\n",
      "│ 34  │ CSC Systems Elective             │ 0.0%  │ 0.0%  │ 0.0%  │ 0.0%  │\n",
      "│ 35  │ CSC 300/400-Level Elective       │ 0.0%  │ 0.0%  │ 0.0%  │ 0.0%  │\n",
      "│ 36  │ Upper-Division Elective 1        │ 0.0%  │ 0.0%  │ 0.0%  │ 0.0%  │\n",
      "│ 37  │ Upper-Division Elective 2        │ 0.0%  │ 0.0%  │ 0.0%  │ 0.0%  │\n",
      "│ 38  │ GRAD RATE                        │ 0.0%  │ 0.0%  │ 0.0%  │ 0.0%  │\n",
      "\n",
      "│ Row │ TERM5 │ TERM6 │ TERM7 │ TERM8 │ TERM9 │ TERM10 │ TERM11 │ TERM12 │\n",
      "├─────┼───────┼───────┼───────┼───────┼───────┼────────┼────────┼────────┤\n",
      "│ 1   │ 92.3% │ 92.3% │ 92.3% │ 92.3% │ 92.3% │ 92.3%  │ 92.3%  │ 92.3%  │\n",
      "│ 2   │ 95.2% │ 95.2% │ 95.2% │ 95.2% │ 95.2% │ 95.2%  │ 95.2%  │ 95.2%  │\n",
      "│ 3   │ 98.8% │ 98.8% │ 98.8% │ 98.8% │ 98.8% │ 98.8%  │ 98.8%  │ 98.8%  │\n",
      "│ 4   │ 92.2% │ 92.2% │ 92.2% │ 92.2% │ 92.2% │ 92.2%  │ 92.2%  │ 92.2%  │\n",
      "│ 5   │ 78.3% │ 78.4% │ 78.4% │ 78.4% │ 78.4% │ 78.4%  │ 78.4%  │ 78.4%  │\n",
      "│ 6   │ 85.6% │ 85.6% │ 85.6% │ 85.6% │ 85.6% │ 85.6%  │ 85.6%  │ 85.6%  │\n",
      "│ 7   │ 89.2% │ 89.2% │ 89.2% │ 89.2% │ 89.2% │ 89.2%  │ 89.2%  │ 89.2%  │\n",
      "│ 8   │ 78.7% │ 78.7% │ 78.7% │ 78.7% │ 78.7% │ 78.7%  │ 78.7%  │ 78.7%  │\n",
      "│ 9   │ 63.9% │ 68.6% │ 69.3% │ 69.4% │ 69.4% │ 69.4%  │ 69.4%  │ 69.4%  │\n",
      "│ 10  │ 64.7% │ 68.9% │ 69.4% │ 69.4% │ 69.4% │ 69.4%  │ 69.4%  │ 69.4%  │\n",
      "│ 11  │ 71.1% │ 73.6% │ 73.7% │ 73.7% │ 73.7% │ 73.7%  │ 73.7%  │ 73.7%  │\n",
      "│ 12  │ 97.9% │ 97.9% │ 97.9% │ 97.9% │ 97.9% │ 97.9%  │ 97.9%  │ 97.9%  │\n",
      "│ 13  │ 79.0% │ 79.0% │ 79.0% │ 79.0% │ 79.0% │ 79.0%  │ 79.0%  │ 79.0%  │\n",
      "│ 14  │ 41.4% │ 56.0% │ 61.9% │ 63.5% │ 63.6% │ 63.8%  │ 63.8%  │ 63.8%  │\n",
      "│ 15  │ 36.2% │ 50.4% │ 57.2% │ 59.7% │ 60.6% │ 60.8%  │ 60.8%  │ 60.8%  │\n",
      "│ 16  │ 70.6% │ 71.8% │ 71.8% │ 71.8% │ 71.8% │ 71.8%  │ 71.8%  │ 71.8%  │\n",
      "│ 17  │ 69.0% │ 71.3% │ 71.4% │ 71.4% │ 71.4% │ 71.4%  │ 71.4%  │ 71.4%  │\n",
      "│ 18  │ 63.6% │ 67.6% │ 68.3% │ 68.4% │ 68.4% │ 68.4%  │ 68.4%  │ 68.4%  │\n",
      "│ 19  │ 37.8% │ 54.5% │ 60.8% │ 61.6% │ 61.9% │ 61.9%  │ 61.9%  │ 61.9%  │\n",
      "│ 20  │ 27.4% │ 48.2% │ 57.8% │ 60.1% │ 60.4% │ 60.4%  │ 60.4%  │ 60.4%  │\n",
      "│ 21  │ 40.2% │ 62.8% │ 65.8% │ 66.1% │ 66.1% │ 66.1%  │ 66.1%  │ 66.1%  │\n",
      "│ 22  │ 33.5% │ 60.0% │ 64.3% │ 64.5% │ 64.5% │ 64.5%  │ 64.5%  │ 64.5%  │\n",
      "│ 23  │ 19.0% │ 53.8% │ 62.2% │ 63.0% │ 63.3% │ 63.3%  │ 63.3%  │ 63.3%  │\n",
      "│ 24  │ 7.6%  │ 47.4% │ 60.1% │ 61.7% │ 61.7% │ 61.7%  │ 61.7%  │ 61.7%  │\n",
      "│ 25  │ 4.0%  │ 38.5% │ 57.8% │ 60.8% │ 60.9% │ 60.9%  │ 60.9%  │ 60.9%  │\n",
      "│ 26  │ 0.5%  │ 27.0% │ 55.5% │ 59.4% │ 59.9% │ 59.9%  │ 59.9%  │ 59.9%  │\n",
      "│ 27  │ 0.0%  │ 15.1% │ 52.8% │ 58.7% │ 59.3% │ 59.3%  │ 59.3%  │ 59.3%  │\n",
      "│ 28  │ 0.0%  │ 7.2%  │ 47.0% │ 57.5% │ 58.4% │ 58.6%  │ 58.6%  │ 58.6%  │\n",
      "│ 29  │ 0.0%  │ 2.9%  │ 42.2% │ 57.0% │ 58.2% │ 58.4%  │ 58.4%  │ 58.4%  │\n",
      "│ 30  │ 0.0%  │ 0.0%  │ 35.1% │ 55.4% │ 57.8% │ 58.0%  │ 58.0%  │ 58.0%  │\n",
      "│ 31  │ 0.0%  │ 0.0%  │ 24.4% │ 51.9% │ 57.1% │ 57.5%  │ 57.5%  │ 57.5%  │\n",
      "│ 32  │ 0.0%  │ 0.0%  │ 15.6% │ 50.2% │ 56.1% │ 56.9%  │ 56.9%  │ 56.9%  │\n",
      "│ 33  │ 0.0%  │ 0.0%  │ 7.7%  │ 45.5% │ 55.7% │ 56.6%  │ 56.6%  │ 56.6%  │\n",
      "│ 34  │ 0.0%  │ 0.0%  │ 3.7%  │ 41.7% │ 54.5% │ 56.4%  │ 56.6%  │ 56.6%  │\n",
      "│ 35  │ 0.0%  │ 0.0%  │ 1.2%  │ 34.9% │ 53.8% │ 55.7%  │ 56.2%  │ 56.2%  │\n",
      "│ 36  │ 0.0%  │ 0.0%  │ 0.0%  │ 26.3% │ 52.8% │ 56.0%  │ 56.3%  │ 56.3%  │\n",
      "│ 37  │ 0.0%  │ 0.0%  │ 0.0%  │ 18.5% │ 49.2% │ 55.0%  │ 55.8%  │ 55.8%  │\n",
      "│ 38  │ 0.0%  │ 0.0%  │ 0.0%  │ 11.7% │ 43.2% │ 53.7%  │ 55.4%  │ 0.0%   │"
     ]
    }
   ],
   "source": [
    "simulation = simulate(CS_degree_plan, course_attempt_limit, students,\n",
    "                      max_credits = max_credits,\n",
    "                      performance_model = performance_model,\n",
    "                      enrollment_model = enrollment_model,\n",
    "                      duration = num_terms,\n",
    "                      duration_lock = duration_lock,\n",
    "                      stopouts = stopouts);\n",
    "simulation_report(simulation, num_terms, course_passrate, max_credits, real_passrate)"
   ]
  },
  {
   "cell_type": "markdown",
   "metadata": {},
   "source": [
    "Next, notice that CSC 110 -- Intro to Computer Programming I is clearly a gateway course for the computer science program at the University of Arizona, and that is has a relatively low success rate. There are a few other courses with the CSC prefix that also have low success rates. What would happen if the instruction and instructional support were changed in a way that enabled the students taking CSC 110, CSC 120 and CSC 353 to obtain a 90% pass rate? "
   ]
  },
  {
   "cell_type": "code",
   "execution_count": 19,
   "metadata": {},
   "outputs": [],
   "source": [
    "convert_ids(CS_degree_plan.curriculum)\n",
    "csc110 = course(CS_degree_plan.curriculum, \"CSC\", \"110\", \"Intro to Computer Programming I\", \"\")\n",
    "csc120 = course(CS_degree_plan.curriculum, \"CSC\", \"120\", \"Intro to Computer Programming II\", \"\")\n",
    "csc210 = course(CS_degree_plan.curriculum, \"CSC\", \"210\", \"Software Development\", \"\")\n",
    "csc345 = course(CS_degree_plan.curriculum, \"CSC\", \"345\", \"Analysis of Discrete Structures\", \"\")\n",
    "csc352 = course(CS_degree_plan.curriculum, \"CSC\", \"352\", \"Systems Programming & Unix\", \"\")\n",
    "\n",
    "csc110.passrate = csc120.passrate = csc210.passrate = csc345.passrate = csc352.passrate = 0.9;"
   ]
  },
  {
   "cell_type": "code",
   "execution_count": 20,
   "metadata": {
    "scrolled": false
   },
   "outputs": [
    {
     "name": "stdout",
     "output_type": "stream",
     "text": [
      "\n",
      "\u001b[0m\u001b[1m------------ Simulation Report ------------\u001b[22m\n",
      "Computer Science, BS -- 2019-20 Degree Plan\n",
      "\n",
      "-------- Simulation Statistics --------\n",
      "Number of terms: 12\n",
      "Max Credits per Term: 18\n",
      "Max Course Attempts: 3\n",
      "Number of Students: 1000\n",
      "Preset Course Pass Rates: 90.0%\n",
      "\n",
      "-------- Graduation Statistics --------\n",
      "Number of Students Graduated: 627\n",
      "Graduation Rate: 62.7%\n",
      "Term Graduation Rates: \n",
      "[0.0, 0.0, 0.0, 0.0, 0.0, 0.0, 0.0, 0.221, 0.558, 0.619, 0.627, 0.0]\n",
      "Average time to degree: 8.770334928229666 terms\n",
      "\n",
      "-------- Stop out Statistics --------\n",
      "Number of Students Stopped Out (Stopout Model Prediction + Reached Max Attempts): 373\n",
      "Number of Students Reaching Max Attempts: 56\n",
      "Stop-out Rate: 37.3%\n",
      "Cumulative Term Stop-out Rates (including reached max course attempts students): \n",
      "[0.086, 0.215, 0.273, 0.309, 0.342, 0.353, 0.363, 0.365, 0.367, 0.372, 0.373, 0.0]\n",
      "\n",
      "Cumulative Term Stop-out Rates (excluding reaching max course attempts students): \n",
      "[0.086, 0.215, 0.255, 0.287, 0.306, 0.308, 0.317, 0.317, 0.317, 0.317, 0.317, 0.0]\n",
      "\n",
      "Cumulative Term Reached Max Course Attempts Rates: \n",
      "[0.0, 0.0, 0.018, 0.022, 0.036, 0.045, 0.046, 0.048, 0.05, 0.055, 0.056, 0.0]\n",
      "\n",
      "\n",
      "-------- Pass Rate of Each Course (computed from Student Grades CSV file) --------\n",
      "\n",
      "│ Row │ Courses                                  │ Pass_Rates │ Num_Students_Passes │ Num_Students_Taken │\n",
      "├─────┼──────────────────────────────────────────┼────────────┼─────────────────────┼────────────────────┤\n",
      "│ 1   │ CSC 110 Intro to Computer Programming I  │ 90.0%      │ 925                 │ 1461               │\n",
      "│ 2   │ MATH 120R Pre-Calculus                   │ 72.1%      │ 2246                │ 3117               │\n",
      "│ 3   │ ENGL 101 English Composition I           │ 88.9%      │ 8949                │ 10064              │\n",
      "│ 4   │ 1st Semester Second Language             │ 90.0%      │ N/A                 │ N/A                │\n",
      "│ 5   │ CSC 120 Intro to Computer Programming II │ 90.0%      │ 603                 │ 833                │\n",
      "│ 6   │ MATH 122A/B Calculus I                   │ 90.0%      │ N/A                 │ N/A                │\n",
      "│ 7   │ ENGL 102 English Composition II          │ 86.3%      │ 6615                │ 7666               │\n",
      "│ 8   │ 2nd Semester Second Language             │ 90.0%      │ N/A                 │ N/A                │\n",
      "│ 9   │ CSC 210 Software Development             │ 90.0%      │ 355                 │ 463                │\n",
      "│ 10  │ CSC 245 Intro to Discrete Structures     │ 80.4%      │ 369                 │ 459                │\n",
      "│ 11  │ MATH 129 Calculus II                     │ 74.7%      │ 2160                │ 2893               │\n",
      "│ 12  │ Tier 1 General Education 1               │ 90.0%      │ N/A                 │ N/A                │\n",
      "│ 13  │ Tier 1 General Education 2               │ 90.0%      │ N/A                 │ N/A                │\n",
      "│ 14  │ CSC 252 Computer Organization            │ 81.8%      │ 251                 │ 307                │\n",
      "│ 15  │ CSC 352 Systems Programming & Unix       │ 90.0%      │ 289                 │ 430                │\n",
      "│ 16  │ Supporting Science #1                    │ 90.0%      │ N/A                 │ N/A                │\n",
      "│ 17  │ Tier 1 General Education 3               │ 90.0%      │ N/A                 │ N/A                │\n",
      "│ 18  │ Tier 1 General Education 4               │ 90.0%      │ N/A                 │ N/A                │\n",
      "│ 19  │ CSC 335 Object-Oriented Programming      │ 91.4%      │ 278                 │ 304                │\n",
      "│ 20  │ CSC 345 Analysis of Discrete Structures  │ 90.0%      │ 316                 │ 399                │\n",
      "│ 21  │ Supporting Science #2                    │ 90.0%      │ N/A                 │ N/A                │\n",
      "│ 22  │ Tier 2 Gen Ed/Upper-Division 1           │ 90.0%      │ N/A                 │ N/A                │\n",
      "│ 23  │ Upper-Division Elective                  │ 90.0%      │ N/A                 │ N/A                │\n",
      "│ 24  │ CSC Paradigms Elective                   │ 90.0%      │ N/A                 │ N/A                │\n",
      "│ 25  │ CSC 400-Level Elective 1                 │ 90.0%      │ N/A                 │ N/A                │\n",
      "│ 26  │ Tier 2 Gen Ed/Upper-Division 2           │ 90.0%      │ N/A                 │ N/A                │\n",
      "│ 27  │ Tier 2 Gen Ed/Upper-Division 3           │ 90.0%      │ N/A                 │ N/A                │\n",
      "│ 28  │ Elective 1                               │ 90.0%      │ N/A                 │ N/A                │\n",
      "│ 29  │ CSC Theory & Writing Elective            │ 90.0%      │ N/A                 │ N/A                │\n",
      "│ 30  │ CSC 400-Level Elective 2                 │ 90.0%      │ N/A                 │ N/A                │\n",
      "│ 31  │ Elective 2                               │ 90.0%      │ N/A                 │ N/A                │\n",
      "│ 32  │ Elective 3                               │ 90.0%      │ N/A                 │ N/A                │\n",
      "│ 33  │ Elective 4                               │ 90.0%      │ N/A                 │ N/A                │\n",
      "│ 34  │ CSC Systems Elective                     │ 90.0%      │ N/A                 │ N/A                │\n",
      "│ 35  │ CSC 300/400-Level Elective               │ 90.0%      │ N/A                 │ N/A                │\n",
      "│ 36  │ Upper-Division Elective 1                │ 90.0%      │ N/A                 │ N/A                │\n",
      "│ 37  │ Upper-Division Elective 2                │ 90.0%      │ N/A                 │ N/A                │\n",
      "\n",
      "-------- Course Pass Rates by Term --------\n",
      "\n",
      "│ Row │ COUSE                            │ TERM1 │ TERM2 │ TERM3 │ TERM4 │\n",
      "├─────┼──────────────────────────────────┼───────┼───────┼───────┼───────┤\n",
      "│ 1   │ Intro to Computer Programming I  │ 91.4% │ 98.5% │ 99.2% │ 99.2% │\n",
      "│ 2   │ Pre-Calculus                     │ 74.5% │ 91.0% │ 94.7% │ 94.7% │\n",
      "│ 3   │ English Composition I            │ 87.8% │ 96.7% │ 98.2% │ 98.2% │\n",
      "│ 4   │ 1st Semester Second Language     │ 0.0%  │ 81.0% │ 89.3% │ 89.9% │\n",
      "│ 5   │ Intro to Computer Programming II │ 0.0%  │ 76.6% │ 87.4% │ 89.0% │\n",
      "│ 6   │ Calculus I                       │ 0.0%  │ 61.6% │ 80.0% │ 84.7% │\n",
      "│ 7   │ English Composition II           │ 0.0%  │ 71.0% │ 85.0% │ 87.9% │\n",
      "│ 8   │ 2nd Semester Second Language     │ 0.0%  │ 0.0%  │ 61.8% │ 75.1% │\n",
      "│ 9   │ Software Development             │ 0.0%  │ 0.0%  │ 59.5% │ 73.8% │\n",
      "│ 10  │ Intro to Discrete Structures     │ 0.0%  │ 0.0%  │ 48.6% │ 70.7% │\n",
      "│ 11  │ Calculus II                      │ 0.0%  │ 0.0%  │ 40.0% │ 62.3% │\n",
      "│ 12  │ Tier 1 General Education 1       │ 90.8% │ 91.4% │ 95.8% │ 98.0% │\n",
      "│ 13  │ Tier 1 General Education 2       │ 0.0%  │ 2.6%  │ 44.2% │ 73.1% │\n",
      "│ 14  │ Computer Organization            │ 0.0%  │ 0.0%  │ 0.0%  │ 44.9% │\n",
      "│ 15  │ Systems Programming & Unix       │ 0.0%  │ 0.0%  │ 0.0%  │ 48.4% │\n",
      "│ 16  │ Supporting Science #1            │ 0.0%  │ 0.0%  │ 6.8%  │ 54.5% │\n",
      "│ 17  │ Tier 1 General Education 3       │ 0.0%  │ 0.0%  │ 0.8%  │ 43.3% │\n",
      "│ 18  │ Tier 1 General Education 4       │ 0.0%  │ 0.0%  │ 0.0%  │ 19.0% │\n",
      "│ 19  │ Object-Oriented Programming      │ 0.0%  │ 0.0%  │ 0.0%  │ 0.0%  │\n",
      "│ 20  │ Analysis of Discrete Structures  │ 0.0%  │ 0.0%  │ 0.0%  │ 0.0%  │\n",
      "│ 21  │ Supporting Science #2            │ 0.0%  │ 0.0%  │ 0.0%  │ 4.1%  │\n",
      "│ 22  │ Tier 2 Gen Ed/Upper-Division 1   │ 0.0%  │ 0.0%  │ 0.0%  │ 0.6%  │\n",
      "│ 23  │ Upper-Division Elective          │ 0.0%  │ 0.0%  │ 0.0%  │ 0.0%  │\n",
      "│ 24  │ CSC Paradigms Elective           │ 0.0%  │ 0.0%  │ 0.0%  │ 0.0%  │\n",
      "│ 25  │ CSC 400-Level Elective 1         │ 0.0%  │ 0.0%  │ 0.0%  │ 0.0%  │\n",
      "│ 26  │ Tier 2 Gen Ed/Upper-Division 2   │ 0.0%  │ 0.0%  │ 0.0%  │ 0.0%  │\n",
      "│ 27  │ Tier 2 Gen Ed/Upper-Division 3   │ 0.0%  │ 0.0%  │ 0.0%  │ 0.0%  │\n",
      "│ 28  │ Elective 1                       │ 0.0%  │ 0.0%  │ 0.0%  │ 0.0%  │\n",
      "│ 29  │ CSC Theory & Writing Elective    │ 0.0%  │ 0.0%  │ 0.0%  │ 0.0%  │\n",
      "│ 30  │ CSC 400-Level Elective 2         │ 0.0%  │ 0.0%  │ 0.0%  │ 0.0%  │\n",
      "│ 31  │ Elective 2                       │ 0.0%  │ 0.0%  │ 0.0%  │ 0.0%  │\n",
      "│ 32  │ Elective 3                       │ 0.0%  │ 0.0%  │ 0.0%  │ 0.0%  │\n",
      "│ 33  │ Elective 4                       │ 0.0%  │ 0.0%  │ 0.0%  │ 0.0%  │\n",
      "│ 34  │ CSC Systems Elective             │ 0.0%  │ 0.0%  │ 0.0%  │ 0.0%  │\n",
      "│ 35  │ CSC 300/400-Level Elective       │ 0.0%  │ 0.0%  │ 0.0%  │ 0.0%  │\n",
      "│ 36  │ Upper-Division Elective 1        │ 0.0%  │ 0.0%  │ 0.0%  │ 0.0%  │\n",
      "│ 37  │ Upper-Division Elective 2        │ 0.0%  │ 0.0%  │ 0.0%  │ 0.0%  │\n",
      "│ 38  │ GRAD RATE                        │ 0.0%  │ 0.0%  │ 0.0%  │ 0.0%  │\n",
      "\n",
      "│ Row │ TERM5 │ TERM6 │ TERM7 │ TERM8 │ TERM9 │ TERM10 │ TERM11 │ TERM12 │\n",
      "├─────┼───────┼───────┼───────┼───────┼───────┼────────┼────────┼────────┤\n",
      "│ 1   │ 99.2% │ 99.2% │ 99.2% │ 99.2% │ 99.2% │ 99.2%  │ 99.2%  │ 99.2%  │\n",
      "│ 2   │ 94.7% │ 94.7% │ 94.7% │ 94.7% │ 94.7% │ 94.7%  │ 94.7%  │ 94.7%  │\n",
      "│ 3   │ 98.2% │ 98.2% │ 98.2% │ 98.2% │ 98.2% │ 98.2%  │ 98.2%  │ 98.2%  │\n",
      "│ 4   │ 89.9% │ 89.9% │ 89.9% │ 89.9% │ 89.9% │ 89.9%  │ 89.9%  │ 89.9%  │\n",
      "│ 5   │ 89.0% │ 89.0% │ 89.0% │ 89.0% │ 89.0% │ 89.0%  │ 89.0%  │ 89.0%  │\n",
      "│ 6   │ 85.2% │ 85.2% │ 85.2% │ 85.2% │ 85.2% │ 85.2%  │ 85.2%  │ 85.2%  │\n",
      "│ 7   │ 88.2% │ 88.2% │ 88.2% │ 88.2% │ 88.2% │ 88.2%  │ 88.2%  │ 88.2%  │\n",
      "│ 8   │ 76.7% │ 77.0% │ 77.0% │ 77.0% │ 77.0% │ 77.0%  │ 77.0%  │ 77.0%  │\n",
      "│ 9   │ 76.0% │ 76.4% │ 76.4% │ 76.4% │ 76.4% │ 76.4%  │ 76.4%  │ 76.4%  │\n",
      "│ 10  │ 75.4% │ 76.0% │ 76.0% │ 76.0% │ 76.0% │ 76.0%  │ 76.0%  │ 76.0%  │\n",
      "│ 11  │ 70.8% │ 72.7% │ 72.7% │ 72.8% │ 72.8% │ 72.8%  │ 72.8%  │ 72.8%  │\n",
      "│ 12  │ 98.1% │ 98.1% │ 98.1% │ 98.1% │ 98.1% │ 98.1%  │ 98.1%  │ 98.1%  │\n",
      "│ 13  │ 76.0% │ 76.4% │ 76.4% │ 76.4% │ 76.4% │ 76.4%  │ 76.4%  │ 76.4%  │\n",
      "│ 14  │ 65.0% │ 69.5% │ 70.0% │ 70.2% │ 70.2% │ 70.2%  │ 70.2%  │ 70.2%  │\n",
      "│ 15  │ 65.7% │ 69.7% │ 70.5% │ 70.6% │ 70.6% │ 70.6%  │ 70.6%  │ 70.6%  │\n",
      "│ 16  │ 71.1% │ 72.3% │ 72.3% │ 72.3% │ 72.3% │ 72.3%  │ 72.3%  │ 72.3%  │\n",
      "│ 17  │ 67.3% │ 70.7% │ 70.8% │ 70.8% │ 70.8% │ 70.8%  │ 70.8%  │ 70.8%  │\n",
      "│ 18  │ 64.9% │ 69.4% │ 70.1% │ 70.1% │ 70.1% │ 70.1%  │ 70.1%  │ 70.1%  │\n",
      "│ 19  │ 56.5% │ 67.1% │ 68.2% │ 68.2% │ 68.2% │ 68.2%  │ 68.2%  │ 68.2%  │\n",
      "│ 20  │ 48.3% │ 64.7% │ 67.4% │ 67.5% │ 67.5% │ 67.5%  │ 67.5%  │ 67.5%  │\n",
      "│ 21  │ 36.4% │ 65.1% │ 67.3% │ 67.4% │ 67.4% │ 67.4%  │ 67.4%  │ 67.4%  │\n",
      "│ 22  │ 29.9% │ 63.0% │ 66.7% │ 67.2% │ 67.2% │ 67.2%  │ 67.2%  │ 67.2%  │\n",
      "│ 23  │ 9.0%  │ 59.4% │ 65.2% │ 65.7% │ 65.7% │ 65.7%  │ 65.7%  │ 65.7%  │\n",
      "│ 24  │ 1.3%  │ 52.3% │ 64.3% │ 65.5% │ 65.5% │ 65.5%  │ 65.5%  │ 65.5%  │\n",
      "│ 25  │ 0.5%  │ 44.5% │ 63.1% │ 65.0% │ 65.0% │ 65.0%  │ 65.0%  │ 65.0%  │\n",
      "│ 26  │ 0.0%  │ 34.3% │ 61.8% │ 64.9% │ 65.1% │ 65.1%  │ 65.1%  │ 65.1%  │\n",
      "│ 27  │ 0.0%  │ 23.9% │ 61.4% │ 64.8% │ 65.1% │ 65.1%  │ 65.1%  │ 65.1%  │\n",
      "│ 28  │ 0.0%  │ 12.7% │ 57.8% │ 64.0% │ 64.5% │ 64.5%  │ 64.5%  │ 64.5%  │\n",
      "│ 29  │ 0.0%  │ 4.4%  │ 53.6% │ 63.5% │ 64.7% │ 64.7%  │ 64.7%  │ 64.7%  │\n",
      "│ 30  │ 0.0%  │ 0.0%  │ 47.5% │ 63.2% │ 64.2% │ 64.3%  │ 64.3%  │ 64.3%  │\n",
      "│ 31  │ 0.0%  │ 0.0%  │ 37.0% │ 61.3% │ 64.4% │ 64.4%  │ 64.4%  │ 64.4%  │\n",
      "│ 32  │ 0.0%  │ 0.0%  │ 28.0% │ 59.7% │ 63.5% │ 64.0%  │ 64.0%  │ 64.0%  │\n",
      "│ 33  │ 0.0%  │ 0.0%  │ 17.3% │ 57.6% │ 63.2% │ 63.8%  │ 63.8%  │ 63.8%  │\n",
      "│ 34  │ 0.0%  │ 0.0%  │ 9.5%  │ 55.4% │ 62.8% │ 63.4%  │ 63.6%  │ 63.6%  │\n",
      "│ 35  │ 0.0%  │ 0.0%  │ 2.3%  │ 49.4% │ 62.4% │ 63.4%  │ 63.4%  │ 63.4%  │\n",
      "│ 36  │ 0.0%  │ 0.0%  │ 0.0%  │ 41.3% │ 61.6% │ 63.3%  │ 63.5%  │ 63.5%  │\n",
      "│ 37  │ 0.0%  │ 0.0%  │ 0.0%  │ 29.9% │ 60.1% │ 62.9%  │ 63.3%  │ 63.3%  │\n",
      "│ 38  │ 0.0%  │ 0.0%  │ 0.0%  │ 22.1% │ 55.8% │ 61.9%  │ 62.7%  │ 0.0%   │"
     ]
    }
   ],
   "source": [
    "simulation = simulate(CS_degree_plan, course_attempt_limit, students,\n",
    "                      max_credits = max_credits,\n",
    "                      performance_model = performance_model,\n",
    "                      enrollment_model = enrollment_model,\n",
    "                      duration = num_terms,\n",
    "                      duration_lock = duration_lock,\n",
    "                      stopouts = stopouts);\n",
    "simulation_report(simulation, num_terms, course_passrate, max_credits, real_passrate)"
   ]
  },
  {
   "cell_type": "markdown",
   "metadata": {},
   "source": [
    "# References\n",
    "\n",
    "Heileman, G. L., Abdallah, C.T., Slim, A., and Hickman, M. (2018). Curricular analytics: A framework for quantifying the impact of curricular reforms and pedagogical innovations. www.arXiv.org, arXiv:1811.09676 [cs.CY].\n",
    "\n",
    "Hickman, M. (2014). Development of a Curriculum Analysis and Simulation Library with Applications in Curricular Analytics. MS thesis, University of New Mexico,\n",
    "Albuquerque, NM."
   ]
  }
 ],
 "metadata": {
  "@webio": {
   "lastCommId": "d9d847f0c99e4f8b84d597e560e6aa01",
   "lastKernelId": "b3962c25-c302-46d3-8907-86a3f30bc345"
  },
  "kernelspec": {
   "display_name": "Julia 1.5.0",
   "language": "julia",
   "name": "julia-1.5"
  },
  "language_info": {
   "file_extension": ".jl",
   "mimetype": "application/julia",
   "name": "julia",
   "version": "1.5.0"
  }
 },
 "nbformat": 4,
 "nbformat_minor": 2
}
