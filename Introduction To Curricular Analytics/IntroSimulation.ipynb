{
 "cells": [
  {
   "cell_type": "markdown",
   "metadata": {},
   "source": [
    "# <center>Introduction to Curricular Simulations</center>\n",
    "\n",
    "<center>\n",
    "    <b>Gregory L. Heileman$^\\dagger$, Jiacheng Zhang$^\\ddagger$ and Hayden W. Free$^\\bullet$</b> <br>\n",
    "    $^\\dagger$Department of Electrical & Computer Engineering <br>\n",
    "    University of Arizona <br>\n",
    "    heileman@arizona.edu <br>\n",
    "    $^\\ddagger$Department of Computer Science <br>\n",
    "    jiachengzhang1@arizona.edu <br>\n",
    "    University of Arizona<br>\n",
    "    $^\\bullet$Department of Computer Science <br>\n",
    "    hayden.free@uky.edu <br>\n",
    "    University of Kentucky\n",
    "</center>"
   ]
  },
  {
   "cell_type": "markdown",
   "metadata": {},
   "source": [
    "## 1. Introduction\n",
    "\n",
    "This notebook demonstrates how to use the simulation capabilites that are included as a part of the [CurricularAnalytics toolbox](https://github.com/CurricularAnalytics/CurricularAnalytics.jl). If you would like to become more familiar with the notions behind curricular analytics, we suggest you read <cite data-cite=\"he:18\">Heileman, et. al, (2018)</cite>, and also examine the Introduction to the Curricular Analytics Toolbox notebook that accompanies this notebook.\n",
    "\n",
    "The simulation capabilites include the ability to simulate the flow of students through a curriculum, towards graduation, using discrete event simulation. Specifically, a population of students attempt to complete the selected curriculum, by taking courses in the order prescribed by the curriculum. At each step (semester) of the simulation a given student enrolls in a set of courses, earning either a passing of failing grade in each.  At the end of a given semester, if a student has passed all of the courses in the curriculum, they are deemed a graduate.  If a student has not yet gradauted, then they may stop out (according to a prescribed stop-out model), or enroll in the next set of courses available to them. One of the intended uses of these simulation capabilities is to estimate the impact that particular curricular changes or instructional improvements will have on student progress. \n",
    "\n",
    "The simulation framework (shown below) was orginally developed by <cite data-cite=\"hi:18\">Hickman, (2014)</cite>, and  subsequent development has allowed it to be integrated into the CurricularAnalytics toolbox. \n",
    "\n",
    "<img src=\"SimulationFramework.png\" width=\"600\">\n",
    "\n",
    "Notice that the simulation \"engine\" requires three inputs: a curriculum, a model for students, and a model for student peformance. The results of the simualtion are returned in an object that may be viewed using the `simulation_report()` function, as demonstrated below. \n",
    "\n",
    "In order to perform curricular simulations, first load the Curricular Analytics toolbox modules:"
   ]
  },
  {
   "cell_type": "code",
   "execution_count": 1,
   "metadata": {},
   "outputs": [
    {
     "data": {
      "text/html": [
       "<script>\n",
       "// Immediately-invoked-function-expression to avoid global variables.\n",
       "(function() {\n",
       "    var warning_div = document.getElementById(\"webio-warning-4960100937364793638\");\n",
       "    var hide = function () {\n",
       "        var script = document.getElementById(\"webio-setup-7787284047229102567\");\n",
       "        var parent = script && script.parentElement;\n",
       "        var grandparent = parent && parent.parentElement;\n",
       "        if (grandparent) {\n",
       "            grandparent.style.display = \"none\";\n",
       "        }\n",
       "        warning_div.style.display = \"none\";\n",
       "    };\n",
       "    if (typeof Jupyter !== \"undefined\") {\n",
       "        console.log(\"WebIO detected Jupyter notebook environment.\");\n",
       "        // Jupyter notebook.\n",
       "        var extensions = (\n",
       "            Jupyter\n",
       "            && Jupyter.notebook.config.data\n",
       "            && Jupyter.notebook.config.data.load_extensions\n",
       "        );\n",
       "        if (extensions && extensions[\"webio-jupyter-notebook\"]) {\n",
       "            // Extension already loaded.\n",
       "            console.log(\"Jupyter WebIO nbextension detected; not loading ad-hoc.\");\n",
       "            hide();\n",
       "            return;\n",
       "        }\n",
       "    } else if (window.location.pathname.includes(\"/lab\")) {\n",
       "        // Guessing JupyterLa\n",
       "        console.log(\"Jupyter Lab detected; make sure the @webio/jupyter-lab-provider labextension is installed.\");\n",
       "        hide();\n",
       "        return;\n",
       "    }\n",
       "})();\n",
       "\n",
       "</script>\n",
       "<p\n",
       "    id=\"webio-warning-4960100937364793638\"\n",
       "    class=\"output_text output_stderr\"\n",
       "    style=\"padding: 1em; font-weight: bold;\"\n",
       ">\n",
       "    Unable to load WebIO. Please make sure WebIO works for your Jupyter client.\n",
       "    For troubleshooting, please see <a href=\"https://juliagizmos.github.io/WebIO.jl/latest/providers/ijulia/\">\n",
       "    the WebIO/IJulia documentation</a>.\n",
       "    <!-- TODO: link to installation docs. -->\n",
       "</p>\n"
      ],
      "text/plain": [
       "HTML{String}(\"<script>\\n// Immediately-invoked-function-expression to avoid global variables.\\n(function() {\\n    var warning_div = document.getElementById(\\\"webio-warning-4960100937364793638\\\");\\n    var hide = function () {\\n        var script = document.getElementById(\\\"webio-setup-7787284047229102567\\\");\\n        var parent = script && script.parentElement;\\n        var grandparent = parent && parent.parentElement;\\n        if (grandparent) {\\n            grandparent.style.display = \\\"none\\\";\\n        }\\n        warning_div.style.display = \\\"none\\\";\\n    };\\n    if (typeof Jupyter !== \\\"undefined\\\") {\\n        console.log(\\\"WebIO detected Jupyter notebook environment.\\\");\\n        // Jupyter notebook.\\n        var extensions = (\\n            Jupyter\\n            && Jupyter.notebook.config.data\\n            && Jupyter.notebook.config.data.load_extensions\\n        );\\n        if (extensions && extensions[\\\"webio-jupyter-notebook\\\"]) {\\n            // Extension already loaded.\\n            console.log(\\\"Jupyter WebIO nbextension detected; not loading ad-hoc.\\\");\\n            hide();\\n            return;\\n        }\\n    } else if (window.location.pathname.includes(\\\"/lab\\\")) {\\n        // Guessing JupyterLa\\n        console.log(\\\"Jupyter Lab detected; make sure the @webio/jupyter-lab-provider labextension is installed.\\\");\\n        hide();\\n        return;\\n    }\\n})();\\n\\n</script>\\n<p\\n    id=\\\"webio-warning-4960100937364793638\\\"\\n    class=\\\"output_text output_stderr\\\"\\n    style=\\\"padding: 1em; font-weight: bold;\\\"\\n>\\n    Unable to load WebIO. Please make sure WebIO works for your Jupyter client.\\n    For troubleshooting, please see <a href=\\\"https://juliagizmos.github.io/WebIO.jl/latest/providers/ijulia/\\\">\\n    the WebIO/IJulia documentation</a>.\\n    <!-- TODO: link to installation docs. -->\\n</p>\\n\")"
      ]
     },
     "metadata": {},
     "output_type": "display_data"
    },
    {
     "data": {
      "text/html": [
       "<script>\n",
       "// Immediately-invoked-function-expression to avoid global variables.\n",
       "(function() {\n",
       "    var warning_div = document.getElementById(\"webio-warning-11570808977089851273\");\n",
       "    var hide = function () {\n",
       "        var script = document.getElementById(\"webio-setup-12895921644868037696\");\n",
       "        var parent = script && script.parentElement;\n",
       "        var grandparent = parent && parent.parentElement;\n",
       "        if (grandparent) {\n",
       "            grandparent.style.display = \"none\";\n",
       "        }\n",
       "        warning_div.style.display = \"none\";\n",
       "    };\n",
       "    if (typeof Jupyter !== \"undefined\") {\n",
       "        console.log(\"WebIO detected Jupyter notebook environment.\");\n",
       "        // Jupyter notebook.\n",
       "        var extensions = (\n",
       "            Jupyter\n",
       "            && Jupyter.notebook.config.data\n",
       "            && Jupyter.notebook.config.data.load_extensions\n",
       "        );\n",
       "        if (extensions && extensions[\"webio-jupyter-notebook\"]) {\n",
       "            // Extension already loaded.\n",
       "            console.log(\"Jupyter WebIO nbextension detected; not loading ad-hoc.\");\n",
       "            hide();\n",
       "            return;\n",
       "        }\n",
       "    } else if (window.location.pathname.includes(\"/lab\")) {\n",
       "        // Guessing JupyterLa\n",
       "        console.log(\"Jupyter Lab detected; make sure the @webio/jupyter-lab-provider labextension is installed.\");\n",
       "        hide();\n",
       "        return;\n",
       "    }\n",
       "})();\n",
       "\n",
       "</script>\n",
       "<p\n",
       "    id=\"webio-warning-11570808977089851273\"\n",
       "    class=\"output_text output_stderr\"\n",
       "    style=\"padding: 1em; font-weight: bold;\"\n",
       ">\n",
       "    Unable to load WebIO. Please make sure WebIO works for your Jupyter client.\n",
       "    For troubleshooting, please see <a href=\"https://juliagizmos.github.io/WebIO.jl/latest/providers/ijulia/\">\n",
       "    the WebIO/IJulia documentation</a>.\n",
       "    <!-- TODO: link to installation docs. -->\n",
       "</p>\n"
      ],
      "text/plain": [
       "HTML{String}(\"<script>\\n// Immediately-invoked-function-expression to avoid global variables.\\n(function() {\\n    var warning_div = document.getElementById(\\\"webio-warning-11570808977089851273\\\");\\n    var hide = function () {\\n        var script = document.getElementById(\\\"webio-setup-12895921644868037696\\\");\\n        var parent = script && script.parentElement;\\n        var grandparent = parent && parent.parentElement;\\n        if (grandparent) {\\n            grandparent.style.display = \\\"none\\\";\\n        }\\n        warning_div.style.display = \\\"none\\\";\\n    };\\n    if (typeof Jupyter !== \\\"undefined\\\") {\\n        console.log(\\\"WebIO detected Jupyter notebook environment.\\\");\\n        // Jupyter notebook.\\n        var extensions = (\\n            Jupyter\\n            && Jupyter.notebook.config.data\\n            && Jupyter.notebook.config.data.load_extensions\\n        );\\n        if (extensions && extensions[\\\"webio-jupyter-notebook\\\"]) {\\n            // Extension already loaded.\\n            console.log(\\\"Jupyter WebIO nbextension detected; not loading ad-hoc.\\\");\\n            hide();\\n            return;\\n        }\\n    } else if (window.location.pathname.includes(\\\"/lab\\\")) {\\n        // Guessing JupyterLa\\n        console.log(\\\"Jupyter Lab detected; make sure the @webio/jupyter-lab-provider labextension is installed.\\\");\\n        hide();\\n        return;\\n    }\\n})();\\n\\n</script>\\n<p\\n    id=\\\"webio-warning-11570808977089851273\\\"\\n    class=\\\"output_text output_stderr\\\"\\n    style=\\\"padding: 1em; font-weight: bold;\\\"\\n>\\n    Unable to load WebIO. Please make sure WebIO works for your Jupyter client.\\n    For troubleshooting, please see <a href=\\\"https://juliagizmos.github.io/WebIO.jl/latest/providers/ijulia/\\\">\\n    the WebIO/IJulia documentation</a>.\\n    <!-- TODO: link to installation docs. -->\\n</p>\\n\")"
      ]
     },
     "metadata": {},
     "output_type": "display_data"
    },
    {
     "name": "stderr",
     "output_type": "stream",
     "text": [
      "WARNING: redefinition of constant known_mimetypes. This may fail, cause incorrect answers, or produce other errors.\n",
      "WARNING: redefinition of constant singleton_instance. This may fail, cause incorrect answers, or produce other errors.\n",
      "WARNING: redefinition of constant routing_callback. This may fail, cause incorrect answers, or produce other errors.\n",
      "WARNING: redefinition of constant webio_server_config. This may fail, cause incorrect answers, or produce other errors.\n"
     ]
    }
   ],
   "source": [
    "using CurricularAnalytics, CurricularVisualization"
   ]
  },
  {
   "cell_type": "markdown",
   "metadata": {},
   "source": [
    "## 2. Setting up the Simulation Environment\n",
    "\n",
    "The first thing we will do is read in a degree plan. The student in the simulation will attempt to complete the curriculum associated with the degree plan in the order that prescribed in the degree plan.  Specifically, in each semester each student will enroll in courses they have not yet taken in the order specified by the degree plan until they reach the maximum allowed number of credit hours.\n",
    "\n",
    "### 2.1 Reading the Degree Plan\n",
    "\n",
    "The following commands read in a degree plan stored in the CSV file format, and then display a visualization of the resulting plan."
   ]
  },
  {
   "cell_type": "code",
   "execution_count": 2,
   "metadata": {
    "scrolled": false
   },
   "outputs": [
    {
     "data": {
      "application/vnd.webio.node+json": {
       "children": [
        {
         "children": [
          ""
         ],
         "instanceArgs": {
          "namespace": "html",
          "tag": "iframe"
         },
         "nodeType": "DOM",
         "props": {
          "events": {
           "load": "(function (){this.contentWindow.postMessage({\"options\":{\"hideTerms\":false,\"edit\":false},\"curriculum\":{\"name\":\"Aerospace Engineering\",\"dp_name\":\"2019-20 Degree Plan\",\"curriculum_terms\":[{\"name\":\"Term 1\",\"curriculum_items\":[{\"curriculum_requisites\":[],\"name\":\"MATH 125\",\"metrics\":{\"centrality\":0,\"complexity\":38.0,\"blocking factor\":29,\"delay factor\":9.0},\"nameSub\":\"Calculus I w/ Applications\",\"id\":1,\"credits\":3,\"nameCanonical\":\"\"},{\"curriculum_requisites\":[],\"name\":\"CHEM 151\",\"metrics\":{\"centrality\":0,\"complexity\":5.0,\"blocking factor\":2,\"delay factor\":3.0},\"nameSub\":\"Gen Chemistry I\",\"id\":2,\"credits\":4,\"nameCanonical\":\"\"},{\"curriculum_requisites\":[],\"name\":\"ENGL 101\",\"metrics\":{\"centrality\":0,\"complexity\":3.0,\"blocking factor\":1,\"delay factor\":2.0},\"nameSub\":\"First-year Comp.\",\"id\":3,\"credits\":3,\"nameCanonical\":\"\"},{\"curriculum_requisites\":[{\"source_id\":1,\"target_id\":4,\"type\":\"CurriculumCorequisite\"}],\"name\":\"ENGR 102\",\"metrics\":{\"centrality\":0,\"complexity\":2.0,\"blocking factor\":0,\"delay factor\":2.0},\"nameSub\":\"Intro to Engineering\",\"id\":4,\"credits\":3,\"nameCanonical\":\"\"},{\"curriculum_requisites\":[],\"name\":\" \",\"metrics\":{\"centrality\":0,\"complexity\":1.0,\"blocking factor\":0,\"delay factor\":1.0},\"nameSub\":\"Tier I General Ed.\",\"id\":5,\"credits\":3,\"nameCanonical\":\"\"}],\"id\":1},{\"name\":\"Term 2\",\"curriculum_items\":[{\"curriculum_requisites\":[{\"source_id\":1,\"target_id\":6,\"type\":\"CurriculumPrerequisite\"}],\"name\":\"MATH 129\",\"metrics\":{\"centrality\":387,\"complexity\":31.0,\"blocking factor\":22,\"delay factor\":9.0},\"nameSub\":\"Calculus II\",\"id\":6,\"credits\":3,\"nameCanonical\":\"\"},{\"curriculum_requisites\":[{\"source_id\":1,\"target_id\":7,\"type\":\"CurriculumPrerequisite\"}],\"name\":\"AME 105\",\"metrics\":{\"centrality\":28,\"complexity\":16.0,\"blocking factor\":9,\"delay factor\":7.0},\"nameSub\":\"Intro. to MATLAB I\",\"id\":7,\"credits\":1,\"nameCanonical\":\"\"},{\"curriculum_requisites\":[{\"source_id\":1,\"target_id\":8,\"type\":\"CurriculumPrerequisite\"}],\"name\":\"PHYS 141\",\"metrics\":{\"centrality\":277,\"complexity\":28.0,\"blocking factor\":19,\"delay factor\":9.0},\"nameSub\":\"Intro Mechanics\",\"id\":8,\"credits\":4,\"nameCanonical\":\"\"},{\"curriculum_requisites\":[{\"source_id\":3,\"target_id\":9,\"type\":\"CurriculumPrerequisite\"}],\"name\":\"ENGL 102\",\"metrics\":{\"centrality\":0,\"complexity\":2.0,\"blocking factor\":0,\"delay factor\":2.0},\"nameSub\":\"First-year Comp.\",\"id\":9,\"credits\":3,\"nameCanonical\":\"\"},{\"curriculum_requisites\":[{\"source_id\":1,\"target_id\":10,\"type\":\"CurriculumCorequisite\"}],\"name\":\"ECE 175\",\"metrics\":{\"centrality\":0,\"complexity\":2.0,\"blocking factor\":0,\"delay factor\":2.0},\"nameSub\":\"Programming for Eng. Apps.\",\"id\":10,\"credits\":3,\"nameCanonical\":\"\"},{\"curriculum_requisites\":[],\"name\":\" \",\"metrics\":{\"centrality\":0,\"complexity\":1.0,\"blocking factor\":0,\"delay factor\":1.0},\"nameSub\":\"Tier I General Ed. 1\",\"id\":11,\"credits\":3,\"nameCanonical\":\"\"}],\"id\":2},{\"name\":\"Term 3\",\"curriculum_items\":[{\"curriculum_requisites\":[{\"source_id\":8,\"target_id\":12,\"type\":\"CurriculumPrerequisite\"},{\"source_id\":6,\"target_id\":12,\"type\":\"CurriculumPrerequisite\"}],\"name\":\"CE 214\",\"metrics\":{\"centrality\":264,\"complexity\":24.0,\"blocking factor\":15,\"delay factor\":9.0},\"nameSub\":\"Statics\",\"id\":12,\"credits\":3,\"nameCanonical\":\"\"},{\"curriculum_requisites\":[{\"source_id\":6,\"target_id\":13,\"type\":\"CurriculumPrerequisite\"}],\"name\":\"MATH  223\",\"metrics\":{\"centrality\":252,\"complexity\":25.0,\"blocking factor\":16,\"delay factor\":9.0},\"nameSub\":\"Vector Calculus\",\"id\":13,\"credits\":4,\"nameCanonical\":\"\"},{\"curriculum_requisites\":[{\"source_id\":8,\"target_id\":14,\"type\":\"CurriculumPrerequisite\"},{\"source_id\":6,\"target_id\":14,\"type\":\"CurriculumPrerequisite\"}],\"name\":\"PHYS 241\",\"metrics\":{\"centrality\":0,\"complexity\":3.0,\"blocking factor\":0,\"delay factor\":3.0},\"nameSub\":\"Electricity & Magnetism\",\"id\":14,\"credits\":4,\"nameCanonical\":\"\"},{\"curriculum_requisites\":[{\"source_id\":7,\"target_id\":15,\"type\":\"CurriculumPrerequisite\"}],\"name\":\"AME  205\",\"metrics\":{\"centrality\":28,\"complexity\":15.0,\"blocking factor\":8,\"delay factor\":7.0},\"nameSub\":\"Intro. To MATLAB II\",\"id\":15,\"credits\":1,\"nameCanonical\":\"\"},{\"curriculum_requisites\":[],\"name\":\"AME 211\",\"metrics\":{\"centrality\":0,\"complexity\":1.0,\"blocking factor\":0,\"delay factor\":1.0},\"nameSub\":\"Comp. Aided Drafting & Manufacturing\",\"id\":16,\"credits\":3,\"nameCanonical\":\"\"},{\"curriculum_requisites\":[],\"name\":\" \",\"metrics\":{\"centrality\":0,\"complexity\":1.0,\"blocking factor\":0,\"delay factor\":1.0},\"nameSub\":\"Tier I General Ed. 2\",\"id\":17,\"credits\":3,\"nameCanonical\":\"\"}],\"id\":3},{\"name\":\"Term 4\",\"curriculum_items\":[{\"curriculum_requisites\":[{\"source_id\":8,\"target_id\":18,\"type\":\"CurriculumPrerequisite\"}],\"name\":\"AME 230\",\"metrics\":{\"centrality\":86,\"complexity\":19.0,\"blocking factor\":11,\"delay factor\":8.0},\"nameSub\":\"Thermodynamics\",\"id\":18,\"credits\":3,\"nameCanonical\":\"\"},{\"curriculum_requisites\":[{\"source_id\":12,\"target_id\":19,\"type\":\"CurriculumPrerequisite\"},{\"source_id\":20,\"target_id\":19,\"type\":\"CurriculumCorequisite\"}],\"name\":\"AME 250\",\"metrics\":{\"centrality\":145,\"complexity\":19.0,\"blocking factor\":10,\"delay factor\":9.0},\"nameSub\":\"Dynamics\",\"id\":19,\"credits\":3,\"nameCanonical\":\"\"},{\"curriculum_requisites\":[{\"source_id\":13,\"target_id\":20,\"type\":\"CurriculumPrerequisite\"}],\"name\":\"MATH 254\",\"metrics\":{\"centrality\":182,\"complexity\":24.0,\"blocking factor\":15,\"delay factor\":9.0},\"nameSub\":\"Intro. to ODEs\",\"id\":20,\"credits\":3,\"nameCanonical\":\"\"},{\"curriculum_requisites\":[{\"source_id\":13,\"target_id\":21,\"type\":\"CurriculumPrerequisite\"},{\"source_id\":8,\"target_id\":21,\"type\":\"CurriculumPrerequisite\"},{\"source_id\":20,\"target_id\":21,\"type\":\"CurriculumCorequisite\"}],\"name\":\"AME 220\",\"metrics\":{\"centrality\":198,\"complexity\":17.0,\"blocking factor\":8,\"delay factor\":9.0},\"nameSub\":\"Intro. to Aerospace Eng.\",\"id\":21,\"credits\":3,\"nameCanonical\":\"\"},{\"curriculum_requisites\":[],\"name\":\" \",\"metrics\":{\"centrality\":0,\"complexity\":1.0,\"blocking factor\":0,\"delay factor\":1.0},\"nameSub\":\"Tier I General Ed. 3\",\"id\":22,\"credits\":3,\"nameCanonical\":\"\"}],\"id\":4},{\"name\":\"Term 5\",\"curriculum_items\":[{\"curriculum_requisites\":[{\"source_id\":26,\"target_id\":23,\"type\":\"CurriculumCorequisite\"},{\"source_id\":21,\"target_id\":23,\"type\":\"CurriculumPrerequisite\"}],\"name\":\"AME 320\",\"metrics\":{\"centrality\":214,\"complexity\":14.0,\"blocking factor\":5,\"delay factor\":9.0},\"nameSub\":\"Aerodynamics\",\"id\":23,\"credits\":3,\"nameCanonical\":\"\"},{\"curriculum_requisites\":[{\"source_id\":12,\"target_id\":24,\"type\":\"CurriculumPrerequisite\"}],\"name\":\"AME  324A\",\"metrics\":{\"centrality\":172,\"complexity\":21.0,\"blocking factor\":12,\"delay factor\":9.0},\"nameSub\":\"Mech. Behavior of Eng. Materials.\",\"id\":24,\"credits\":3,\"nameCanonical\":\"\"},{\"curriculum_requisites\":[{\"source_id\":20,\"target_id\":25,\"type\":\"CurriculumPrerequisite\"}],\"name\":\"AME 301\",\"metrics\":{\"centrality\":6,\"complexity\":7.0,\"blocking factor\":1,\"delay factor\":6.0},\"nameSub\":\"Engineering Analysis\",\"id\":25,\"credits\":3,\"nameCanonical\":\"\"},{\"curriculum_requisites\":[{\"source_id\":18,\"target_id\":26,\"type\":\"CurriculumCorequisite\"},{\"source_id\":24,\"target_id\":26,\"type\":\"CurriculumCorequisite\"}],\"name\":\"AME 300\",\"metrics\":{\"centrality\":204,\"complexity\":19.0,\"blocking factor\":10,\"delay factor\":9.0},\"nameSub\":\"Instrumentation Lab.\",\"id\":26,\"credits\":3,\"nameCanonical\":\"\"},{\"curriculum_requisites\":[{\"source_id\":2,\"target_id\":27,\"type\":\"CurriculumPrerequisite\"}],\"name\":\"MSE 331R\",\"metrics\":{\"centrality\":3,\"complexity\":4.0,\"blocking factor\":1,\"delay factor\":3.0},\"nameSub\":\"Fund. of Materials for Engineers\",\"id\":27,\"credits\":3,\"nameCanonical\":\"\"},{\"curriculum_requisites\":[{\"source_id\":24,\"target_id\":28,\"type\":\"CurriculumCorequisite\"}],\"name\":\"AME 324L\",\"metrics\":{\"centrality\":0,\"complexity\":5.0,\"blocking factor\":0,\"delay factor\":5.0},\"nameSub\":\"Mech. of Materials Lab.\",\"id\":28,\"credits\":1,\"nameCanonical\":\"\"}],\"id\":5},{\"name\":\"Term 6\",\"curriculum_items\":[{\"curriculum_requisites\":[{\"source_id\":25,\"target_id\":29,\"type\":\"CurriculumPrerequisite\"}],\"name\":\"AME 324B\",\"metrics\":{\"centrality\":0,\"complexity\":6.0,\"blocking factor\":0,\"delay factor\":6.0},\"nameSub\":\"Eng. Component Design\",\"id\":29,\"credits\":3,\"nameCanonical\":\"\"},{\"curriculum_requisites\":[{\"source_id\":23,\"target_id\":30,\"type\":\"CurriculumCorequisite\"},{\"source_id\":19,\"target_id\":30,\"type\":\"CurriculumPrerequisite\"},{\"source_id\":21,\"target_id\":30,\"type\":\"CurriculumPrerequisite\"}],\"name\":\"AME 321\",\"metrics\":{\"centrality\":174,\"complexity\":12.0,\"blocking factor\":3,\"delay factor\":9.0},\"nameSub\":\"Aircraft Performance\",\"id\":30,\"credits\":3,\"nameCanonical\":\"\"},{\"curriculum_requisites\":[{\"source_id\":18,\"target_id\":31,\"type\":\"CurriculumPrerequisite\"},{\"source_id\":32,\"target_id\":31,\"type\":\"CurriculumCorequisite\"},{\"source_id\":21,\"target_id\":31,\"type\":\"CurriculumPrerequisite\"},{\"source_id\":20,\"target_id\":31,\"type\":\"CurriculumPrerequisite\"}],\"name\":\"AME 323\",\"metrics\":{\"centrality\":274,\"complexity\":13.0,\"blocking factor\":4,\"delay factor\":9.0},\"nameSub\":\"Gasdynamics\",\"id\":31,\"credits\":3,\"nameCanonical\":\"\"},{\"curriculum_requisites\":[{\"source_id\":26,\"target_id\":32,\"type\":\"CurriculumCorequisite\"},{\"source_id\":19,\"target_id\":32,\"type\":\"CurriculumPrerequisite\"},{\"source_id\":15,\"target_id\":32,\"type\":\"CurriculumPrerequisite\"},{\"source_id\":20,\"target_id\":32,\"type\":\"CurriculumPrerequisite\"}],\"name\":\"AME 302\",\"metrics\":{\"centrality\":232,\"complexity\":15.0,\"blocking factor\":6,\"delay factor\":9.0},\"nameSub\":\"Numerical Methods\",\"id\":32,\"credits\":3,\"nameCanonical\":\"\"},{\"curriculum_requisites\":[],\"name\":\"AME 313\",\"metrics\":{\"centrality\":0,\"complexity\":5.0,\"blocking factor\":2,\"delay factor\":3.0},\"nameSub\":\"Aero./Mech. Eng. Lab\",\"id\":33,\"credits\":1,\"nameCanonical\":\"\"},{\"curriculum_requisites\":[],\"name\":\" \",\"metrics\":{\"centrality\":0,\"complexity\":1.0,\"blocking factor\":0,\"delay factor\":1.0},\"nameSub\":\"Tier II General Ed. 1\",\"id\":34,\"credits\":3,\"nameCanonical\":\"\"}],\"id\":6},{\"name\":\"Term 7\",\"curriculum_items\":[{\"curriculum_requisites\":[{\"source_id\":23,\"target_id\":35,\"type\":\"CurriculumPrerequisite\"},{\"source_id\":31,\"target_id\":35,\"type\":\"CurriculumPrerequisite\"},{\"source_id\":27,\"target_id\":35,\"type\":\"CurriculumPrerequisite\"}],\"name\":\"AME 401\",\"metrics\":{\"centrality\":0,\"complexity\":8.0,\"blocking factor\":0,\"delay factor\":8.0},\"nameSub\":\"Senior Aerospace Lab.\",\"id\":35,\"credits\":3,\"nameCanonical\":\"\"},{\"curriculum_requisites\":[{\"source_id\":23,\"target_id\":36,\"type\":\"CurriculumPrerequisite\"},{\"source_id\":31,\"target_id\":36,\"type\":\"CurriculumPrerequisite\"},{\"source_id\":33,\"target_id\":36,\"type\":\"CurriculumPrerequisite\"},{\"source_id\":30,\"target_id\":36,\"type\":\"CurriculumPrerequisite\"}],\"name\":\"AME 420\",\"metrics\":{\"centrality\":240,\"complexity\":10.0,\"blocking factor\":1,\"delay factor\":9.0},\"nameSub\":\"Aerospace Conceptual Design\",\"id\":36,\"credits\":3,\"nameCanonical\":\"\"},{\"curriculum_requisites\":[{\"source_id\":24,\"target_id\":37,\"type\":\"CurriculumPrerequisite\"},{\"source_id\":31,\"target_id\":37,\"type\":\"CurriculumPrerequisite\"},{\"source_id\":18,\"target_id\":37,\"type\":\"CurriculumPrerequisite\"}],\"name\":\"AME 425\",\"metrics\":{\"centrality\":0,\"complexity\":8.0,\"blocking factor\":0,\"delay factor\":8.0},\"nameSub\":\"Aerospace Propulsion\",\"id\":37,\"credits\":3,\"nameCanonical\":\"\"},{\"curriculum_requisites\":[{\"source_id\":23,\"target_id\":38,\"type\":\"CurriculumPrerequisite\"},{\"source_id\":15,\"target_id\":38,\"type\":\"CurriculumPrerequisite\"},{\"source_id\":30,\"target_id\":38,\"type\":\"CurriculumPrerequisite\"}],\"name\":\"AME 427\",\"metrics\":{\"centrality\":0,\"complexity\":8.0,\"blocking factor\":0,\"delay factor\":8.0},\"nameSub\":\"Stability and Control of Aero. Vehicles\",\"id\":38,\"credits\":3,\"nameCanonical\":\"\"},{\"curriculum_requisites\":[{\"source_id\":13,\"target_id\":39,\"type\":\"CurriculumPrerequisite\"},{\"source_id\":19,\"target_id\":39,\"type\":\"CurriculumPrerequisite\"}],\"name\":\"AME 457\",\"metrics\":{\"centrality\":0,\"complexity\":6.0,\"blocking factor\":0,\"delay factor\":6.0},\"nameSub\":\"Orbital Mechanicans and Space Flt.\",\"id\":39,\"credits\":3,\"nameCanonical\":\"\"},{\"curriculum_requisites\":[],\"name\":\"AME 495S\",\"metrics\":{\"centrality\":0,\"complexity\":1.0,\"blocking factor\":0,\"delay factor\":1.0},\"nameSub\":\"Senior Colloquium\",\"id\":40,\"credits\":1,\"nameCanonical\":\"\"}],\"id\":7},{\"name\":\"Term 8\",\"curriculum_items\":[{\"curriculum_requisites\":[{\"source_id\":36,\"target_id\":41,\"type\":\"CurriculumPrerequisite\"},{\"source_id\":33,\"target_id\":41,\"type\":\"CurriculumCorequisite\"}],\"name\":\"AME 422\",\"metrics\":{\"centrality\":0,\"complexity\":9.0,\"blocking factor\":0,\"delay factor\":9.0},\"nameSub\":\"Aerospace Eng.Design\",\"id\":41,\"credits\":3,\"nameCanonical\":\"\"},{\"curriculum_requisites\":[{\"source_id\":24,\"target_id\":42,\"type\":\"CurriculumPrerequisite\"},{\"source_id\":32,\"target_id\":42,\"type\":\"CurriculumPrerequisite\"},{\"source_id\":18,\"target_id\":42,\"type\":\"CurriculumPrerequisite\"}],\"name\":\"AME 431\",\"metrics\":{\"centrality\":0,\"complexity\":7.0,\"blocking factor\":0,\"delay factor\":7.0},\"nameSub\":\"Num. Meth. in Fluid Mech. & Heat Xfer\",\"id\":42,\"credits\":3,\"nameCanonical\":\"\"},{\"curriculum_requisites\":[],\"name\":\" \",\"metrics\":{\"centrality\":0,\"complexity\":1.0,\"blocking factor\":0,\"delay factor\":1.0},\"nameSub\":\"Technical Elective 1\",\"id\":43,\"credits\":3,\"nameCanonical\":\"\"},{\"curriculum_requisites\":[],\"name\":\" \",\"metrics\":{\"centrality\":0,\"complexity\":1.0,\"blocking factor\":0,\"delay factor\":1.0},\"nameSub\":\"Technical Elective 2\",\"id\":44,\"credits\":3,\"nameCanonical\":\"\"},{\"curriculum_requisites\":[],\"name\":\" \",\"metrics\":{\"centrality\":0,\"complexity\":1.0,\"blocking factor\":0,\"delay factor\":1.0},\"nameSub\":\"Tier II General Ed. 2\",\"id\":45,\"credits\":3,\"nameCanonical\":\"\"}],\"id\":8}],\"institution\":\"University of Arizona\"}},\"*\"); window.removeEventListener(\"message\",window.messageReceived); window.messageReceived=(function (event){return (event.data.curriculum!==undefined) ? (WebIO.setval({\"name\":\"curriculum-data\",\"scope\":\"10586728829445235478\",\"id\":\"9384831193883083674\",\"type\":\"observable\"},event.data.curriculum)) : undefined}); return window.addEventListener(\"message\",window.messageReceived)})"
          },
          "id": "curriculum",
          "src": "http://localhost:8156",
          "style": {
           "border": "none",
           "height": "80vh",
           "margin": "0",
           "padding": "0",
           "width": "100%"
          }
         },
         "type": "node"
        }
       ],
       "instanceArgs": {
        "handlers": {},
        "id": "10586728829445235478",
        "imports": {
         "data": [],
         "type": "async_block"
        },
        "mount_callbacks": [],
        "observables": {
         "curriculum-data": {
          "id": "9384831193883083674",
          "sync": true,
          "value": {
           "curriculum": {
            "curriculum_terms": [
             {
              "curriculum_items": [
               {
                "credits": 3,
                "curriculum_requisites": [],
                "id": 1,
                "metrics": {
                 "blocking factor": 29,
                 "centrality": 0,
                 "complexity": 38,
                 "delay factor": 9
                },
                "name": "MATH 125",
                "nameCanonical": "",
                "nameSub": "Calculus I w/ Applications"
               },
               {
                "credits": 4,
                "curriculum_requisites": [],
                "id": 2,
                "metrics": {
                 "blocking factor": 2,
                 "centrality": 0,
                 "complexity": 5,
                 "delay factor": 3
                },
                "name": "CHEM 151",
                "nameCanonical": "",
                "nameSub": "Gen Chemistry I"
               },
               {
                "credits": 3,
                "curriculum_requisites": [],
                "id": 3,
                "metrics": {
                 "blocking factor": 1,
                 "centrality": 0,
                 "complexity": 3,
                 "delay factor": 2
                },
                "name": "ENGL 101",
                "nameCanonical": "",
                "nameSub": "First-year Comp."
               },
               {
                "credits": 3,
                "curriculum_requisites": [
                 {
                  "source_id": 1,
                  "target_id": 4,
                  "type": "CurriculumCorequisite"
                 }
                ],
                "id": 4,
                "metrics": {
                 "blocking factor": 0,
                 "centrality": 0,
                 "complexity": 2,
                 "delay factor": 2
                },
                "name": "ENGR 102",
                "nameCanonical": "",
                "nameSub": "Intro to Engineering"
               },
               {
                "credits": 3,
                "curriculum_requisites": [],
                "id": 5,
                "metrics": {
                 "blocking factor": 0,
                 "centrality": 0,
                 "complexity": 1,
                 "delay factor": 1
                },
                "name": " ",
                "nameCanonical": "",
                "nameSub": "Tier I General Ed."
               }
              ],
              "id": 1,
              "name": "Term 1"
             },
             {
              "curriculum_items": [
               {
                "credits": 3,
                "curriculum_requisites": [
                 {
                  "source_id": 1,
                  "target_id": 6,
                  "type": "CurriculumPrerequisite"
                 }
                ],
                "id": 6,
                "metrics": {
                 "blocking factor": 22,
                 "centrality": 387,
                 "complexity": 31,
                 "delay factor": 9
                },
                "name": "MATH 129",
                "nameCanonical": "",
                "nameSub": "Calculus II"
               },
               {
                "credits": 1,
                "curriculum_requisites": [
                 {
                  "source_id": 1,
                  "target_id": 7,
                  "type": "CurriculumPrerequisite"
                 }
                ],
                "id": 7,
                "metrics": {
                 "blocking factor": 9,
                 "centrality": 28,
                 "complexity": 16,
                 "delay factor": 7
                },
                "name": "AME 105",
                "nameCanonical": "",
                "nameSub": "Intro. to MATLAB I"
               },
               {
                "credits": 4,
                "curriculum_requisites": [
                 {
                  "source_id": 1,
                  "target_id": 8,
                  "type": "CurriculumPrerequisite"
                 }
                ],
                "id": 8,
                "metrics": {
                 "blocking factor": 19,
                 "centrality": 277,
                 "complexity": 28,
                 "delay factor": 9
                },
                "name": "PHYS 141",
                "nameCanonical": "",
                "nameSub": "Intro Mechanics"
               },
               {
                "credits": 3,
                "curriculum_requisites": [
                 {
                  "source_id": 3,
                  "target_id": 9,
                  "type": "CurriculumPrerequisite"
                 }
                ],
                "id": 9,
                "metrics": {
                 "blocking factor": 0,
                 "centrality": 0,
                 "complexity": 2,
                 "delay factor": 2
                },
                "name": "ENGL 102",
                "nameCanonical": "",
                "nameSub": "First-year Comp."
               },
               {
                "credits": 3,
                "curriculum_requisites": [
                 {
                  "source_id": 1,
                  "target_id": 10,
                  "type": "CurriculumCorequisite"
                 }
                ],
                "id": 10,
                "metrics": {
                 "blocking factor": 0,
                 "centrality": 0,
                 "complexity": 2,
                 "delay factor": 2
                },
                "name": "ECE 175",
                "nameCanonical": "",
                "nameSub": "Programming for Eng. Apps."
               },
               {
                "credits": 3,
                "curriculum_requisites": [],
                "id": 11,
                "metrics": {
                 "blocking factor": 0,
                 "centrality": 0,
                 "complexity": 1,
                 "delay factor": 1
                },
                "name": " ",
                "nameCanonical": "",
                "nameSub": "Tier I General Ed. 1"
               }
              ],
              "id": 2,
              "name": "Term 2"
             },
             {
              "curriculum_items": [
               {
                "credits": 3,
                "curriculum_requisites": [
                 {
                  "source_id": 8,
                  "target_id": 12,
                  "type": "CurriculumPrerequisite"
                 },
                 {
                  "source_id": 6,
                  "target_id": 12,
                  "type": "CurriculumPrerequisite"
                 }
                ],
                "id": 12,
                "metrics": {
                 "blocking factor": 15,
                 "centrality": 264,
                 "complexity": 24,
                 "delay factor": 9
                },
                "name": "CE 214",
                "nameCanonical": "",
                "nameSub": "Statics"
               },
               {
                "credits": 4,
                "curriculum_requisites": [
                 {
                  "source_id": 6,
                  "target_id": 13,
                  "type": "CurriculumPrerequisite"
                 }
                ],
                "id": 13,
                "metrics": {
                 "blocking factor": 16,
                 "centrality": 252,
                 "complexity": 25,
                 "delay factor": 9
                },
                "name": "MATH  223",
                "nameCanonical": "",
                "nameSub": "Vector Calculus"
               },
               {
                "credits": 4,
                "curriculum_requisites": [
                 {
                  "source_id": 8,
                  "target_id": 14,
                  "type": "CurriculumPrerequisite"
                 },
                 {
                  "source_id": 6,
                  "target_id": 14,
                  "type": "CurriculumPrerequisite"
                 }
                ],
                "id": 14,
                "metrics": {
                 "blocking factor": 0,
                 "centrality": 0,
                 "complexity": 3,
                 "delay factor": 3
                },
                "name": "PHYS 241",
                "nameCanonical": "",
                "nameSub": "Electricity & Magnetism"
               },
               {
                "credits": 1,
                "curriculum_requisites": [
                 {
                  "source_id": 7,
                  "target_id": 15,
                  "type": "CurriculumPrerequisite"
                 }
                ],
                "id": 15,
                "metrics": {
                 "blocking factor": 8,
                 "centrality": 28,
                 "complexity": 15,
                 "delay factor": 7
                },
                "name": "AME  205",
                "nameCanonical": "",
                "nameSub": "Intro. To MATLAB II"
               },
               {
                "credits": 3,
                "curriculum_requisites": [],
                "id": 16,
                "metrics": {
                 "blocking factor": 0,
                 "centrality": 0,
                 "complexity": 1,
                 "delay factor": 1
                },
                "name": "AME 211",
                "nameCanonical": "",
                "nameSub": "Comp. Aided Drafting & Manufacturing"
               },
               {
                "credits": 3,
                "curriculum_requisites": [],
                "id": 17,
                "metrics": {
                 "blocking factor": 0,
                 "centrality": 0,
                 "complexity": 1,
                 "delay factor": 1
                },
                "name": " ",
                "nameCanonical": "",
                "nameSub": "Tier I General Ed. 2"
               }
              ],
              "id": 3,
              "name": "Term 3"
             },
             {
              "curriculum_items": [
               {
                "credits": 3,
                "curriculum_requisites": [
                 {
                  "source_id": 8,
                  "target_id": 18,
                  "type": "CurriculumPrerequisite"
                 }
                ],
                "id": 18,
                "metrics": {
                 "blocking factor": 11,
                 "centrality": 86,
                 "complexity": 19,
                 "delay factor": 8
                },
                "name": "AME 230",
                "nameCanonical": "",
                "nameSub": "Thermodynamics"
               },
               {
                "credits": 3,
                "curriculum_requisites": [
                 {
                  "source_id": 12,
                  "target_id": 19,
                  "type": "CurriculumPrerequisite"
                 },
                 {
                  "source_id": 20,
                  "target_id": 19,
                  "type": "CurriculumCorequisite"
                 }
                ],
                "id": 19,
                "metrics": {
                 "blocking factor": 10,
                 "centrality": 145,
                 "complexity": 19,
                 "delay factor": 9
                },
                "name": "AME 250",
                "nameCanonical": "",
                "nameSub": "Dynamics"
               },
               {
                "credits": 3,
                "curriculum_requisites": [
                 {
                  "source_id": 13,
                  "target_id": 20,
                  "type": "CurriculumPrerequisite"
                 }
                ],
                "id": 20,
                "metrics": {
                 "blocking factor": 15,
                 "centrality": 182,
                 "complexity": 24,
                 "delay factor": 9
                },
                "name": "MATH 254",
                "nameCanonical": "",
                "nameSub": "Intro. to ODEs"
               },
               {
                "credits": 3,
                "curriculum_requisites": [
                 {
                  "source_id": 13,
                  "target_id": 21,
                  "type": "CurriculumPrerequisite"
                 },
                 {
                  "source_id": 8,
                  "target_id": 21,
                  "type": "CurriculumPrerequisite"
                 },
                 {
                  "source_id": 20,
                  "target_id": 21,
                  "type": "CurriculumCorequisite"
                 }
                ],
                "id": 21,
                "metrics": {
                 "blocking factor": 8,
                 "centrality": 198,
                 "complexity": 17,
                 "delay factor": 9
                },
                "name": "AME 220",
                "nameCanonical": "",
                "nameSub": "Intro. to Aerospace Eng."
               },
               {
                "credits": 3,
                "curriculum_requisites": [],
                "id": 22,
                "metrics": {
                 "blocking factor": 0,
                 "centrality": 0,
                 "complexity": 1,
                 "delay factor": 1
                },
                "name": " ",
                "nameCanonical": "",
                "nameSub": "Tier I General Ed. 3"
               }
              ],
              "id": 4,
              "name": "Term 4"
             },
             {
              "curriculum_items": [
               {
                "credits": 3,
                "curriculum_requisites": [
                 {
                  "source_id": 26,
                  "target_id": 23,
                  "type": "CurriculumCorequisite"
                 },
                 {
                  "source_id": 21,
                  "target_id": 23,
                  "type": "CurriculumPrerequisite"
                 }
                ],
                "id": 23,
                "metrics": {
                 "blocking factor": 5,
                 "centrality": 214,
                 "complexity": 14,
                 "delay factor": 9
                },
                "name": "AME 320",
                "nameCanonical": "",
                "nameSub": "Aerodynamics"
               },
               {
                "credits": 3,
                "curriculum_requisites": [
                 {
                  "source_id": 12,
                  "target_id": 24,
                  "type": "CurriculumPrerequisite"
                 }
                ],
                "id": 24,
                "metrics": {
                 "blocking factor": 12,
                 "centrality": 172,
                 "complexity": 21,
                 "delay factor": 9
                },
                "name": "AME  324A",
                "nameCanonical": "",
                "nameSub": "Mech. Behavior of Eng. Materials."
               },
               {
                "credits": 3,
                "curriculum_requisites": [
                 {
                  "source_id": 20,
                  "target_id": 25,
                  "type": "CurriculumPrerequisite"
                 }
                ],
                "id": 25,
                "metrics": {
                 "blocking factor": 1,
                 "centrality": 6,
                 "complexity": 7,
                 "delay factor": 6
                },
                "name": "AME 301",
                "nameCanonical": "",
                "nameSub": "Engineering Analysis"
               },
               {
                "credits": 3,
                "curriculum_requisites": [
                 {
                  "source_id": 18,
                  "target_id": 26,
                  "type": "CurriculumCorequisite"
                 },
                 {
                  "source_id": 24,
                  "target_id": 26,
                  "type": "CurriculumCorequisite"
                 }
                ],
                "id": 26,
                "metrics": {
                 "blocking factor": 10,
                 "centrality": 204,
                 "complexity": 19,
                 "delay factor": 9
                },
                "name": "AME 300",
                "nameCanonical": "",
                "nameSub": "Instrumentation Lab."
               },
               {
                "credits": 3,
                "curriculum_requisites": [
                 {
                  "source_id": 2,
                  "target_id": 27,
                  "type": "CurriculumPrerequisite"
                 }
                ],
                "id": 27,
                "metrics": {
                 "blocking factor": 1,
                 "centrality": 3,
                 "complexity": 4,
                 "delay factor": 3
                },
                "name": "MSE 331R",
                "nameCanonical": "",
                "nameSub": "Fund. of Materials for Engineers"
               },
               {
                "credits": 1,
                "curriculum_requisites": [
                 {
                  "source_id": 24,
                  "target_id": 28,
                  "type": "CurriculumCorequisite"
                 }
                ],
                "id": 28,
                "metrics": {
                 "blocking factor": 0,
                 "centrality": 0,
                 "complexity": 5,
                 "delay factor": 5
                },
                "name": "AME 324L",
                "nameCanonical": "",
                "nameSub": "Mech. of Materials Lab."
               }
              ],
              "id": 5,
              "name": "Term 5"
             },
             {
              "curriculum_items": [
               {
                "credits": 3,
                "curriculum_requisites": [
                 {
                  "source_id": 25,
                  "target_id": 29,
                  "type": "CurriculumPrerequisite"
                 }
                ],
                "id": 29,
                "metrics": {
                 "blocking factor": 0,
                 "centrality": 0,
                 "complexity": 6,
                 "delay factor": 6
                },
                "name": "AME 324B",
                "nameCanonical": "",
                "nameSub": "Eng. Component Design"
               },
               {
                "credits": 3,
                "curriculum_requisites": [
                 {
                  "source_id": 23,
                  "target_id": 30,
                  "type": "CurriculumCorequisite"
                 },
                 {
                  "source_id": 19,
                  "target_id": 30,
                  "type": "CurriculumPrerequisite"
                 },
                 {
                  "source_id": 21,
                  "target_id": 30,
                  "type": "CurriculumPrerequisite"
                 }
                ],
                "id": 30,
                "metrics": {
                 "blocking factor": 3,
                 "centrality": 174,
                 "complexity": 12,
                 "delay factor": 9
                },
                "name": "AME 321",
                "nameCanonical": "",
                "nameSub": "Aircraft Performance"
               },
               {
                "credits": 3,
                "curriculum_requisites": [
                 {
                  "source_id": 18,
                  "target_id": 31,
                  "type": "CurriculumPrerequisite"
                 },
                 {
                  "source_id": 32,
                  "target_id": 31,
                  "type": "CurriculumCorequisite"
                 },
                 {
                  "source_id": 21,
                  "target_id": 31,
                  "type": "CurriculumPrerequisite"
                 },
                 {
                  "source_id": 20,
                  "target_id": 31,
                  "type": "CurriculumPrerequisite"
                 }
                ],
                "id": 31,
                "metrics": {
                 "blocking factor": 4,
                 "centrality": 274,
                 "complexity": 13,
                 "delay factor": 9
                },
                "name": "AME 323",
                "nameCanonical": "",
                "nameSub": "Gasdynamics"
               },
               {
                "credits": 3,
                "curriculum_requisites": [
                 {
                  "source_id": 26,
                  "target_id": 32,
                  "type": "CurriculumCorequisite"
                 },
                 {
                  "source_id": 19,
                  "target_id": 32,
                  "type": "CurriculumPrerequisite"
                 },
                 {
                  "source_id": 15,
                  "target_id": 32,
                  "type": "CurriculumPrerequisite"
                 },
                 {
                  "source_id": 20,
                  "target_id": 32,
                  "type": "CurriculumPrerequisite"
                 }
                ],
                "id": 32,
                "metrics": {
                 "blocking factor": 6,
                 "centrality": 232,
                 "complexity": 15,
                 "delay factor": 9
                },
                "name": "AME 302",
                "nameCanonical": "",
                "nameSub": "Numerical Methods"
               },
               {
                "credits": 1,
                "curriculum_requisites": [],
                "id": 33,
                "metrics": {
                 "blocking factor": 2,
                 "centrality": 0,
                 "complexity": 5,
                 "delay factor": 3
                },
                "name": "AME 313",
                "nameCanonical": "",
                "nameSub": "Aero./Mech. Eng. Lab"
               },
               {
                "credits": 3,
                "curriculum_requisites": [],
                "id": 34,
                "metrics": {
                 "blocking factor": 0,
                 "centrality": 0,
                 "complexity": 1,
                 "delay factor": 1
                },
                "name": " ",
                "nameCanonical": "",
                "nameSub": "Tier II General Ed. 1"
               }
              ],
              "id": 6,
              "name": "Term 6"
             },
             {
              "curriculum_items": [
               {
                "credits": 3,
                "curriculum_requisites": [
                 {
                  "source_id": 23,
                  "target_id": 35,
                  "type": "CurriculumPrerequisite"
                 },
                 {
                  "source_id": 31,
                  "target_id": 35,
                  "type": "CurriculumPrerequisite"
                 },
                 {
                  "source_id": 27,
                  "target_id": 35,
                  "type": "CurriculumPrerequisite"
                 }
                ],
                "id": 35,
                "metrics": {
                 "blocking factor": 0,
                 "centrality": 0,
                 "complexity": 8,
                 "delay factor": 8
                },
                "name": "AME 401",
                "nameCanonical": "",
                "nameSub": "Senior Aerospace Lab."
               },
               {
                "credits": 3,
                "curriculum_requisites": [
                 {
                  "source_id": 23,
                  "target_id": 36,
                  "type": "CurriculumPrerequisite"
                 },
                 {
                  "source_id": 31,
                  "target_id": 36,
                  "type": "CurriculumPrerequisite"
                 },
                 {
                  "source_id": 33,
                  "target_id": 36,
                  "type": "CurriculumPrerequisite"
                 },
                 {
                  "source_id": 30,
                  "target_id": 36,
                  "type": "CurriculumPrerequisite"
                 }
                ],
                "id": 36,
                "metrics": {
                 "blocking factor": 1,
                 "centrality": 240,
                 "complexity": 10,
                 "delay factor": 9
                },
                "name": "AME 420",
                "nameCanonical": "",
                "nameSub": "Aerospace Conceptual Design"
               },
               {
                "credits": 3,
                "curriculum_requisites": [
                 {
                  "source_id": 24,
                  "target_id": 37,
                  "type": "CurriculumPrerequisite"
                 },
                 {
                  "source_id": 31,
                  "target_id": 37,
                  "type": "CurriculumPrerequisite"
                 },
                 {
                  "source_id": 18,
                  "target_id": 37,
                  "type": "CurriculumPrerequisite"
                 }
                ],
                "id": 37,
                "metrics": {
                 "blocking factor": 0,
                 "centrality": 0,
                 "complexity": 8,
                 "delay factor": 8
                },
                "name": "AME 425",
                "nameCanonical": "",
                "nameSub": "Aerospace Propulsion"
               },
               {
                "credits": 3,
                "curriculum_requisites": [
                 {
                  "source_id": 23,
                  "target_id": 38,
                  "type": "CurriculumPrerequisite"
                 },
                 {
                  "source_id": 15,
                  "target_id": 38,
                  "type": "CurriculumPrerequisite"
                 },
                 {
                  "source_id": 30,
                  "target_id": 38,
                  "type": "CurriculumPrerequisite"
                 }
                ],
                "id": 38,
                "metrics": {
                 "blocking factor": 0,
                 "centrality": 0,
                 "complexity": 8,
                 "delay factor": 8
                },
                "name": "AME 427",
                "nameCanonical": "",
                "nameSub": "Stability and Control of Aero. Vehicles"
               },
               {
                "credits": 3,
                "curriculum_requisites": [
                 {
                  "source_id": 13,
                  "target_id": 39,
                  "type": "CurriculumPrerequisite"
                 },
                 {
                  "source_id": 19,
                  "target_id": 39,
                  "type": "CurriculumPrerequisite"
                 }
                ],
                "id": 39,
                "metrics": {
                 "blocking factor": 0,
                 "centrality": 0,
                 "complexity": 6,
                 "delay factor": 6
                },
                "name": "AME 457",
                "nameCanonical": "",
                "nameSub": "Orbital Mechanicans and Space Flt."
               },
               {
                "credits": 1,
                "curriculum_requisites": [],
                "id": 40,
                "metrics": {
                 "blocking factor": 0,
                 "centrality": 0,
                 "complexity": 1,
                 "delay factor": 1
                },
                "name": "AME 495S",
                "nameCanonical": "",
                "nameSub": "Senior Colloquium"
               }
              ],
              "id": 7,
              "name": "Term 7"
             },
             {
              "curriculum_items": [
               {
                "credits": 3,
                "curriculum_requisites": [
                 {
                  "source_id": 36,
                  "target_id": 41,
                  "type": "CurriculumPrerequisite"
                 },
                 {
                  "source_id": 33,
                  "target_id": 41,
                  "type": "CurriculumCorequisite"
                 }
                ],
                "id": 41,
                "metrics": {
                 "blocking factor": 0,
                 "centrality": 0,
                 "complexity": 9,
                 "delay factor": 9
                },
                "name": "AME 422",
                "nameCanonical": "",
                "nameSub": "Aerospace Eng.Design"
               },
               {
                "credits": 3,
                "curriculum_requisites": [
                 {
                  "source_id": 24,
                  "target_id": 42,
                  "type": "CurriculumPrerequisite"
                 },
                 {
                  "source_id": 32,
                  "target_id": 42,
                  "type": "CurriculumPrerequisite"
                 },
                 {
                  "source_id": 18,
                  "target_id": 42,
                  "type": "CurriculumPrerequisite"
                 }
                ],
                "id": 42,
                "metrics": {
                 "blocking factor": 0,
                 "centrality": 0,
                 "complexity": 7,
                 "delay factor": 7
                },
                "name": "AME 431",
                "nameCanonical": "",
                "nameSub": "Num. Meth. in Fluid Mech. & Heat Xfer"
               },
               {
                "credits": 3,
                "curriculum_requisites": [],
                "id": 43,
                "metrics": {
                 "blocking factor": 0,
                 "centrality": 0,
                 "complexity": 1,
                 "delay factor": 1
                },
                "name": " ",
                "nameCanonical": "",
                "nameSub": "Technical Elective 1"
               },
               {
                "credits": 3,
                "curriculum_requisites": [],
                "id": 44,
                "metrics": {
                 "blocking factor": 0,
                 "centrality": 0,
                 "complexity": 1,
                 "delay factor": 1
                },
                "name": " ",
                "nameCanonical": "",
                "nameSub": "Technical Elective 2"
               },
               {
                "credits": 3,
                "curriculum_requisites": [],
                "id": 45,
                "metrics": {
                 "blocking factor": 0,
                 "centrality": 0,
                 "complexity": 1,
                 "delay factor": 1
                },
                "name": " ",
                "nameCanonical": "",
                "nameSub": "Tier II General Ed. 2"
               }
              ],
              "id": 8,
              "name": "Term 8"
             }
            ],
            "dp_name": "2019-20 Degree Plan",
            "institution": "University of Arizona",
            "name": "Aerospace Engineering"
           },
           "options": {
            "edit": false,
            "hideTerms": false
           }
          }
         }
        },
        "systemjs_options": null
       },
       "nodeType": "Scope",
       "props": {},
       "type": "node"
      },
      "text/html": [
       "<div\n",
       "    class=\"webio-mountpoint\"\n",
       "    data-webio-mountpoint=\"12996006118761477039\"\n",
       ">\n",
       "    <script>\n",
       "    if (window.require && require.defined && require.defined(\"nbextensions/webio-jupyter-notebook\")) {\n",
       "        console.log(\"Jupyter WebIO extension detected, not mounting.\");\n",
       "    } else if (window.WebIO) {\n",
       "        WebIO.mount(\n",
       "            document.querySelector('[data-webio-mountpoint=\"12996006118761477039\"]'),\n",
       "            {\"props\":{},\"nodeType\":\"Scope\",\"type\":\"node\",\"instanceArgs\":{\"imports\":{\"data\":[],\"type\":\"async_block\"},\"id\":\"10586728829445235478\",\"handlers\":{},\"systemjs_options\":null,\"mount_callbacks\":[],\"observables\":{\"curriculum-data\":{\"sync\":true,\"id\":\"9384831193883083674\",\"value\":{\"options\":{\"hideTerms\":false,\"edit\":false},\"curriculum\":{\"name\":\"Aerospace Engineering\",\"dp_name\":\"2019-20 Degree Plan\",\"curriculum_terms\":[{\"name\":\"Term 1\",\"curriculum_items\":[{\"curriculum_requisites\":[],\"name\":\"MATH 125\",\"metrics\":{\"centrality\":0,\"complexity\":38.0,\"blocking factor\":29,\"delay factor\":9.0},\"nameSub\":\"Calculus I w\\/ Applications\",\"id\":1,\"credits\":3,\"nameCanonical\":\"\"},{\"curriculum_requisites\":[],\"name\":\"CHEM 151\",\"metrics\":{\"centrality\":0,\"complexity\":5.0,\"blocking factor\":2,\"delay factor\":3.0},\"nameSub\":\"Gen Chemistry I\",\"id\":2,\"credits\":4,\"nameCanonical\":\"\"},{\"curriculum_requisites\":[],\"name\":\"ENGL 101\",\"metrics\":{\"centrality\":0,\"complexity\":3.0,\"blocking factor\":1,\"delay factor\":2.0},\"nameSub\":\"First-year Comp.\",\"id\":3,\"credits\":3,\"nameCanonical\":\"\"},{\"curriculum_requisites\":[{\"source_id\":1,\"target_id\":4,\"type\":\"CurriculumCorequisite\"}],\"name\":\"ENGR 102\",\"metrics\":{\"centrality\":0,\"complexity\":2.0,\"blocking factor\":0,\"delay factor\":2.0},\"nameSub\":\"Intro to Engineering\",\"id\":4,\"credits\":3,\"nameCanonical\":\"\"},{\"curriculum_requisites\":[],\"name\":\" \",\"metrics\":{\"centrality\":0,\"complexity\":1.0,\"blocking factor\":0,\"delay factor\":1.0},\"nameSub\":\"Tier I General Ed.\",\"id\":5,\"credits\":3,\"nameCanonical\":\"\"}],\"id\":1},{\"name\":\"Term 2\",\"curriculum_items\":[{\"curriculum_requisites\":[{\"source_id\":1,\"target_id\":6,\"type\":\"CurriculumPrerequisite\"}],\"name\":\"MATH 129\",\"metrics\":{\"centrality\":387,\"complexity\":31.0,\"blocking factor\":22,\"delay factor\":9.0},\"nameSub\":\"Calculus II\",\"id\":6,\"credits\":3,\"nameCanonical\":\"\"},{\"curriculum_requisites\":[{\"source_id\":1,\"target_id\":7,\"type\":\"CurriculumPrerequisite\"}],\"name\":\"AME 105\",\"metrics\":{\"centrality\":28,\"complexity\":16.0,\"blocking factor\":9,\"delay factor\":7.0},\"nameSub\":\"Intro. to MATLAB I\",\"id\":7,\"credits\":1,\"nameCanonical\":\"\"},{\"curriculum_requisites\":[{\"source_id\":1,\"target_id\":8,\"type\":\"CurriculumPrerequisite\"}],\"name\":\"PHYS 141\",\"metrics\":{\"centrality\":277,\"complexity\":28.0,\"blocking factor\":19,\"delay factor\":9.0},\"nameSub\":\"Intro Mechanics\",\"id\":8,\"credits\":4,\"nameCanonical\":\"\"},{\"curriculum_requisites\":[{\"source_id\":3,\"target_id\":9,\"type\":\"CurriculumPrerequisite\"}],\"name\":\"ENGL 102\",\"metrics\":{\"centrality\":0,\"complexity\":2.0,\"blocking factor\":0,\"delay factor\":2.0},\"nameSub\":\"First-year Comp.\",\"id\":9,\"credits\":3,\"nameCanonical\":\"\"},{\"curriculum_requisites\":[{\"source_id\":1,\"target_id\":10,\"type\":\"CurriculumCorequisite\"}],\"name\":\"ECE 175\",\"metrics\":{\"centrality\":0,\"complexity\":2.0,\"blocking factor\":0,\"delay factor\":2.0},\"nameSub\":\"Programming for Eng. Apps.\",\"id\":10,\"credits\":3,\"nameCanonical\":\"\"},{\"curriculum_requisites\":[],\"name\":\" \",\"metrics\":{\"centrality\":0,\"complexity\":1.0,\"blocking factor\":0,\"delay factor\":1.0},\"nameSub\":\"Tier I General Ed. 1\",\"id\":11,\"credits\":3,\"nameCanonical\":\"\"}],\"id\":2},{\"name\":\"Term 3\",\"curriculum_items\":[{\"curriculum_requisites\":[{\"source_id\":8,\"target_id\":12,\"type\":\"CurriculumPrerequisite\"},{\"source_id\":6,\"target_id\":12,\"type\":\"CurriculumPrerequisite\"}],\"name\":\"CE 214\",\"metrics\":{\"centrality\":264,\"complexity\":24.0,\"blocking factor\":15,\"delay factor\":9.0},\"nameSub\":\"Statics\",\"id\":12,\"credits\":3,\"nameCanonical\":\"\"},{\"curriculum_requisites\":[{\"source_id\":6,\"target_id\":13,\"type\":\"CurriculumPrerequisite\"}],\"name\":\"MATH  223\",\"metrics\":{\"centrality\":252,\"complexity\":25.0,\"blocking factor\":16,\"delay factor\":9.0},\"nameSub\":\"Vector Calculus\",\"id\":13,\"credits\":4,\"nameCanonical\":\"\"},{\"curriculum_requisites\":[{\"source_id\":8,\"target_id\":14,\"type\":\"CurriculumPrerequisite\"},{\"source_id\":6,\"target_id\":14,\"type\":\"CurriculumPrerequisite\"}],\"name\":\"PHYS 241\",\"metrics\":{\"centrality\":0,\"complexity\":3.0,\"blocking factor\":0,\"delay factor\":3.0},\"nameSub\":\"Electricity & Magnetism\",\"id\":14,\"credits\":4,\"nameCanonical\":\"\"},{\"curriculum_requisites\":[{\"source_id\":7,\"target_id\":15,\"type\":\"CurriculumPrerequisite\"}],\"name\":\"AME  205\",\"metrics\":{\"centrality\":28,\"complexity\":15.0,\"blocking factor\":8,\"delay factor\":7.0},\"nameSub\":\"Intro. To MATLAB II\",\"id\":15,\"credits\":1,\"nameCanonical\":\"\"},{\"curriculum_requisites\":[],\"name\":\"AME 211\",\"metrics\":{\"centrality\":0,\"complexity\":1.0,\"blocking factor\":0,\"delay factor\":1.0},\"nameSub\":\"Comp. Aided Drafting & Manufacturing\",\"id\":16,\"credits\":3,\"nameCanonical\":\"\"},{\"curriculum_requisites\":[],\"name\":\" \",\"metrics\":{\"centrality\":0,\"complexity\":1.0,\"blocking factor\":0,\"delay factor\":1.0},\"nameSub\":\"Tier I General Ed. 2\",\"id\":17,\"credits\":3,\"nameCanonical\":\"\"}],\"id\":3},{\"name\":\"Term 4\",\"curriculum_items\":[{\"curriculum_requisites\":[{\"source_id\":8,\"target_id\":18,\"type\":\"CurriculumPrerequisite\"}],\"name\":\"AME 230\",\"metrics\":{\"centrality\":86,\"complexity\":19.0,\"blocking factor\":11,\"delay factor\":8.0},\"nameSub\":\"Thermodynamics\",\"id\":18,\"credits\":3,\"nameCanonical\":\"\"},{\"curriculum_requisites\":[{\"source_id\":12,\"target_id\":19,\"type\":\"CurriculumPrerequisite\"},{\"source_id\":20,\"target_id\":19,\"type\":\"CurriculumCorequisite\"}],\"name\":\"AME 250\",\"metrics\":{\"centrality\":145,\"complexity\":19.0,\"blocking factor\":10,\"delay factor\":9.0},\"nameSub\":\"Dynamics\",\"id\":19,\"credits\":3,\"nameCanonical\":\"\"},{\"curriculum_requisites\":[{\"source_id\":13,\"target_id\":20,\"type\":\"CurriculumPrerequisite\"}],\"name\":\"MATH 254\",\"metrics\":{\"centrality\":182,\"complexity\":24.0,\"blocking factor\":15,\"delay factor\":9.0},\"nameSub\":\"Intro. to ODEs\",\"id\":20,\"credits\":3,\"nameCanonical\":\"\"},{\"curriculum_requisites\":[{\"source_id\":13,\"target_id\":21,\"type\":\"CurriculumPrerequisite\"},{\"source_id\":8,\"target_id\":21,\"type\":\"CurriculumPrerequisite\"},{\"source_id\":20,\"target_id\":21,\"type\":\"CurriculumCorequisite\"}],\"name\":\"AME 220\",\"metrics\":{\"centrality\":198,\"complexity\":17.0,\"blocking factor\":8,\"delay factor\":9.0},\"nameSub\":\"Intro. to Aerospace Eng.\",\"id\":21,\"credits\":3,\"nameCanonical\":\"\"},{\"curriculum_requisites\":[],\"name\":\" \",\"metrics\":{\"centrality\":0,\"complexity\":1.0,\"blocking factor\":0,\"delay factor\":1.0},\"nameSub\":\"Tier I General Ed. 3\",\"id\":22,\"credits\":3,\"nameCanonical\":\"\"}],\"id\":4},{\"name\":\"Term 5\",\"curriculum_items\":[{\"curriculum_requisites\":[{\"source_id\":26,\"target_id\":23,\"type\":\"CurriculumCorequisite\"},{\"source_id\":21,\"target_id\":23,\"type\":\"CurriculumPrerequisite\"}],\"name\":\"AME 320\",\"metrics\":{\"centrality\":214,\"complexity\":14.0,\"blocking factor\":5,\"delay factor\":9.0},\"nameSub\":\"Aerodynamics\",\"id\":23,\"credits\":3,\"nameCanonical\":\"\"},{\"curriculum_requisites\":[{\"source_id\":12,\"target_id\":24,\"type\":\"CurriculumPrerequisite\"}],\"name\":\"AME  324A\",\"metrics\":{\"centrality\":172,\"complexity\":21.0,\"blocking factor\":12,\"delay factor\":9.0},\"nameSub\":\"Mech. Behavior of Eng. Materials.\",\"id\":24,\"credits\":3,\"nameCanonical\":\"\"},{\"curriculum_requisites\":[{\"source_id\":20,\"target_id\":25,\"type\":\"CurriculumPrerequisite\"}],\"name\":\"AME 301\",\"metrics\":{\"centrality\":6,\"complexity\":7.0,\"blocking factor\":1,\"delay factor\":6.0},\"nameSub\":\"Engineering Analysis\",\"id\":25,\"credits\":3,\"nameCanonical\":\"\"},{\"curriculum_requisites\":[{\"source_id\":18,\"target_id\":26,\"type\":\"CurriculumCorequisite\"},{\"source_id\":24,\"target_id\":26,\"type\":\"CurriculumCorequisite\"}],\"name\":\"AME 300\",\"metrics\":{\"centrality\":204,\"complexity\":19.0,\"blocking factor\":10,\"delay factor\":9.0},\"nameSub\":\"Instrumentation Lab.\",\"id\":26,\"credits\":3,\"nameCanonical\":\"\"},{\"curriculum_requisites\":[{\"source_id\":2,\"target_id\":27,\"type\":\"CurriculumPrerequisite\"}],\"name\":\"MSE 331R\",\"metrics\":{\"centrality\":3,\"complexity\":4.0,\"blocking factor\":1,\"delay factor\":3.0},\"nameSub\":\"Fund. of Materials for Engineers\",\"id\":27,\"credits\":3,\"nameCanonical\":\"\"},{\"curriculum_requisites\":[{\"source_id\":24,\"target_id\":28,\"type\":\"CurriculumCorequisite\"}],\"name\":\"AME 324L\",\"metrics\":{\"centrality\":0,\"complexity\":5.0,\"blocking factor\":0,\"delay factor\":5.0},\"nameSub\":\"Mech. of Materials Lab.\",\"id\":28,\"credits\":1,\"nameCanonical\":\"\"}],\"id\":5},{\"name\":\"Term 6\",\"curriculum_items\":[{\"curriculum_requisites\":[{\"source_id\":25,\"target_id\":29,\"type\":\"CurriculumPrerequisite\"}],\"name\":\"AME 324B\",\"metrics\":{\"centrality\":0,\"complexity\":6.0,\"blocking factor\":0,\"delay factor\":6.0},\"nameSub\":\"Eng. Component Design\",\"id\":29,\"credits\":3,\"nameCanonical\":\"\"},{\"curriculum_requisites\":[{\"source_id\":23,\"target_id\":30,\"type\":\"CurriculumCorequisite\"},{\"source_id\":19,\"target_id\":30,\"type\":\"CurriculumPrerequisite\"},{\"source_id\":21,\"target_id\":30,\"type\":\"CurriculumPrerequisite\"}],\"name\":\"AME 321\",\"metrics\":{\"centrality\":174,\"complexity\":12.0,\"blocking factor\":3,\"delay factor\":9.0},\"nameSub\":\"Aircraft Performance\",\"id\":30,\"credits\":3,\"nameCanonical\":\"\"},{\"curriculum_requisites\":[{\"source_id\":18,\"target_id\":31,\"type\":\"CurriculumPrerequisite\"},{\"source_id\":32,\"target_id\":31,\"type\":\"CurriculumCorequisite\"},{\"source_id\":21,\"target_id\":31,\"type\":\"CurriculumPrerequisite\"},{\"source_id\":20,\"target_id\":31,\"type\":\"CurriculumPrerequisite\"}],\"name\":\"AME 323\",\"metrics\":{\"centrality\":274,\"complexity\":13.0,\"blocking factor\":4,\"delay factor\":9.0},\"nameSub\":\"Gasdynamics\",\"id\":31,\"credits\":3,\"nameCanonical\":\"\"},{\"curriculum_requisites\":[{\"source_id\":26,\"target_id\":32,\"type\":\"CurriculumCorequisite\"},{\"source_id\":19,\"target_id\":32,\"type\":\"CurriculumPrerequisite\"},{\"source_id\":15,\"target_id\":32,\"type\":\"CurriculumPrerequisite\"},{\"source_id\":20,\"target_id\":32,\"type\":\"CurriculumPrerequisite\"}],\"name\":\"AME 302\",\"metrics\":{\"centrality\":232,\"complexity\":15.0,\"blocking factor\":6,\"delay factor\":9.0},\"nameSub\":\"Numerical Methods\",\"id\":32,\"credits\":3,\"nameCanonical\":\"\"},{\"curriculum_requisites\":[],\"name\":\"AME 313\",\"metrics\":{\"centrality\":0,\"complexity\":5.0,\"blocking factor\":2,\"delay factor\":3.0},\"nameSub\":\"Aero.\\/Mech. Eng. Lab\",\"id\":33,\"credits\":1,\"nameCanonical\":\"\"},{\"curriculum_requisites\":[],\"name\":\" \",\"metrics\":{\"centrality\":0,\"complexity\":1.0,\"blocking factor\":0,\"delay factor\":1.0},\"nameSub\":\"Tier II General Ed. 1\",\"id\":34,\"credits\":3,\"nameCanonical\":\"\"}],\"id\":6},{\"name\":\"Term 7\",\"curriculum_items\":[{\"curriculum_requisites\":[{\"source_id\":23,\"target_id\":35,\"type\":\"CurriculumPrerequisite\"},{\"source_id\":31,\"target_id\":35,\"type\":\"CurriculumPrerequisite\"},{\"source_id\":27,\"target_id\":35,\"type\":\"CurriculumPrerequisite\"}],\"name\":\"AME 401\",\"metrics\":{\"centrality\":0,\"complexity\":8.0,\"blocking factor\":0,\"delay factor\":8.0},\"nameSub\":\"Senior Aerospace Lab.\",\"id\":35,\"credits\":3,\"nameCanonical\":\"\"},{\"curriculum_requisites\":[{\"source_id\":23,\"target_id\":36,\"type\":\"CurriculumPrerequisite\"},{\"source_id\":31,\"target_id\":36,\"type\":\"CurriculumPrerequisite\"},{\"source_id\":33,\"target_id\":36,\"type\":\"CurriculumPrerequisite\"},{\"source_id\":30,\"target_id\":36,\"type\":\"CurriculumPrerequisite\"}],\"name\":\"AME 420\",\"metrics\":{\"centrality\":240,\"complexity\":10.0,\"blocking factor\":1,\"delay factor\":9.0},\"nameSub\":\"Aerospace Conceptual Design\",\"id\":36,\"credits\":3,\"nameCanonical\":\"\"},{\"curriculum_requisites\":[{\"source_id\":24,\"target_id\":37,\"type\":\"CurriculumPrerequisite\"},{\"source_id\":31,\"target_id\":37,\"type\":\"CurriculumPrerequisite\"},{\"source_id\":18,\"target_id\":37,\"type\":\"CurriculumPrerequisite\"}],\"name\":\"AME 425\",\"metrics\":{\"centrality\":0,\"complexity\":8.0,\"blocking factor\":0,\"delay factor\":8.0},\"nameSub\":\"Aerospace Propulsion\",\"id\":37,\"credits\":3,\"nameCanonical\":\"\"},{\"curriculum_requisites\":[{\"source_id\":23,\"target_id\":38,\"type\":\"CurriculumPrerequisite\"},{\"source_id\":15,\"target_id\":38,\"type\":\"CurriculumPrerequisite\"},{\"source_id\":30,\"target_id\":38,\"type\":\"CurriculumPrerequisite\"}],\"name\":\"AME 427\",\"metrics\":{\"centrality\":0,\"complexity\":8.0,\"blocking factor\":0,\"delay factor\":8.0},\"nameSub\":\"Stability and Control of Aero. Vehicles\",\"id\":38,\"credits\":3,\"nameCanonical\":\"\"},{\"curriculum_requisites\":[{\"source_id\":13,\"target_id\":39,\"type\":\"CurriculumPrerequisite\"},{\"source_id\":19,\"target_id\":39,\"type\":\"CurriculumPrerequisite\"}],\"name\":\"AME 457\",\"metrics\":{\"centrality\":0,\"complexity\":6.0,\"blocking factor\":0,\"delay factor\":6.0},\"nameSub\":\"Orbital Mechanicans and Space Flt.\",\"id\":39,\"credits\":3,\"nameCanonical\":\"\"},{\"curriculum_requisites\":[],\"name\":\"AME 495S\",\"metrics\":{\"centrality\":0,\"complexity\":1.0,\"blocking factor\":0,\"delay factor\":1.0},\"nameSub\":\"Senior Colloquium\",\"id\":40,\"credits\":1,\"nameCanonical\":\"\"}],\"id\":7},{\"name\":\"Term 8\",\"curriculum_items\":[{\"curriculum_requisites\":[{\"source_id\":36,\"target_id\":41,\"type\":\"CurriculumPrerequisite\"},{\"source_id\":33,\"target_id\":41,\"type\":\"CurriculumCorequisite\"}],\"name\":\"AME 422\",\"metrics\":{\"centrality\":0,\"complexity\":9.0,\"blocking factor\":0,\"delay factor\":9.0},\"nameSub\":\"Aerospace Eng.Design\",\"id\":41,\"credits\":3,\"nameCanonical\":\"\"},{\"curriculum_requisites\":[{\"source_id\":24,\"target_id\":42,\"type\":\"CurriculumPrerequisite\"},{\"source_id\":32,\"target_id\":42,\"type\":\"CurriculumPrerequisite\"},{\"source_id\":18,\"target_id\":42,\"type\":\"CurriculumPrerequisite\"}],\"name\":\"AME 431\",\"metrics\":{\"centrality\":0,\"complexity\":7.0,\"blocking factor\":0,\"delay factor\":7.0},\"nameSub\":\"Num. Meth. in Fluid Mech. & Heat Xfer\",\"id\":42,\"credits\":3,\"nameCanonical\":\"\"},{\"curriculum_requisites\":[],\"name\":\" \",\"metrics\":{\"centrality\":0,\"complexity\":1.0,\"blocking factor\":0,\"delay factor\":1.0},\"nameSub\":\"Technical Elective 1\",\"id\":43,\"credits\":3,\"nameCanonical\":\"\"},{\"curriculum_requisites\":[],\"name\":\" \",\"metrics\":{\"centrality\":0,\"complexity\":1.0,\"blocking factor\":0,\"delay factor\":1.0},\"nameSub\":\"Technical Elective 2\",\"id\":44,\"credits\":3,\"nameCanonical\":\"\"},{\"curriculum_requisites\":[],\"name\":\" \",\"metrics\":{\"centrality\":0,\"complexity\":1.0,\"blocking factor\":0,\"delay factor\":1.0},\"nameSub\":\"Tier II General Ed. 2\",\"id\":45,\"credits\":3,\"nameCanonical\":\"\"}],\"id\":8}],\"institution\":\"University of Arizona\"}}}}},\"children\":[{\"props\":{\"src\":\"http:\\/\\/localhost:8156\",\"id\":\"curriculum\",\"events\":{\"load\":\"(function (){this.contentWindow.postMessage({\\\"options\\\":{\\\"hideTerms\\\":false,\\\"edit\\\":false},\\\"curriculum\\\":{\\\"name\\\":\\\"Aerospace Engineering\\\",\\\"dp_name\\\":\\\"2019-20 Degree Plan\\\",\\\"curriculum_terms\\\":[{\\\"name\\\":\\\"Term 1\\\",\\\"curriculum_items\\\":[{\\\"curriculum_requisites\\\":[],\\\"name\\\":\\\"MATH 125\\\",\\\"metrics\\\":{\\\"centrality\\\":0,\\\"complexity\\\":38.0,\\\"blocking factor\\\":29,\\\"delay factor\\\":9.0},\\\"nameSub\\\":\\\"Calculus I w\\/ Applications\\\",\\\"id\\\":1,\\\"credits\\\":3,\\\"nameCanonical\\\":\\\"\\\"},{\\\"curriculum_requisites\\\":[],\\\"name\\\":\\\"CHEM 151\\\",\\\"metrics\\\":{\\\"centrality\\\":0,\\\"complexity\\\":5.0,\\\"blocking factor\\\":2,\\\"delay factor\\\":3.0},\\\"nameSub\\\":\\\"Gen Chemistry I\\\",\\\"id\\\":2,\\\"credits\\\":4,\\\"nameCanonical\\\":\\\"\\\"},{\\\"curriculum_requisites\\\":[],\\\"name\\\":\\\"ENGL 101\\\",\\\"metrics\\\":{\\\"centrality\\\":0,\\\"complexity\\\":3.0,\\\"blocking factor\\\":1,\\\"delay factor\\\":2.0},\\\"nameSub\\\":\\\"First-year Comp.\\\",\\\"id\\\":3,\\\"credits\\\":3,\\\"nameCanonical\\\":\\\"\\\"},{\\\"curriculum_requisites\\\":[{\\\"source_id\\\":1,\\\"target_id\\\":4,\\\"type\\\":\\\"CurriculumCorequisite\\\"}],\\\"name\\\":\\\"ENGR 102\\\",\\\"metrics\\\":{\\\"centrality\\\":0,\\\"complexity\\\":2.0,\\\"blocking factor\\\":0,\\\"delay factor\\\":2.0},\\\"nameSub\\\":\\\"Intro to Engineering\\\",\\\"id\\\":4,\\\"credits\\\":3,\\\"nameCanonical\\\":\\\"\\\"},{\\\"curriculum_requisites\\\":[],\\\"name\\\":\\\" \\\",\\\"metrics\\\":{\\\"centrality\\\":0,\\\"complexity\\\":1.0,\\\"blocking factor\\\":0,\\\"delay factor\\\":1.0},\\\"nameSub\\\":\\\"Tier I General Ed.\\\",\\\"id\\\":5,\\\"credits\\\":3,\\\"nameCanonical\\\":\\\"\\\"}],\\\"id\\\":1},{\\\"name\\\":\\\"Term 2\\\",\\\"curriculum_items\\\":[{\\\"curriculum_requisites\\\":[{\\\"source_id\\\":1,\\\"target_id\\\":6,\\\"type\\\":\\\"CurriculumPrerequisite\\\"}],\\\"name\\\":\\\"MATH 129\\\",\\\"metrics\\\":{\\\"centrality\\\":387,\\\"complexity\\\":31.0,\\\"blocking factor\\\":22,\\\"delay factor\\\":9.0},\\\"nameSub\\\":\\\"Calculus II\\\",\\\"id\\\":6,\\\"credits\\\":3,\\\"nameCanonical\\\":\\\"\\\"},{\\\"curriculum_requisites\\\":[{\\\"source_id\\\":1,\\\"target_id\\\":7,\\\"type\\\":\\\"CurriculumPrerequisite\\\"}],\\\"name\\\":\\\"AME 105\\\",\\\"metrics\\\":{\\\"centrality\\\":28,\\\"complexity\\\":16.0,\\\"blocking factor\\\":9,\\\"delay factor\\\":7.0},\\\"nameSub\\\":\\\"Intro. to MATLAB I\\\",\\\"id\\\":7,\\\"credits\\\":1,\\\"nameCanonical\\\":\\\"\\\"},{\\\"curriculum_requisites\\\":[{\\\"source_id\\\":1,\\\"target_id\\\":8,\\\"type\\\":\\\"CurriculumPrerequisite\\\"}],\\\"name\\\":\\\"PHYS 141\\\",\\\"metrics\\\":{\\\"centrality\\\":277,\\\"complexity\\\":28.0,\\\"blocking factor\\\":19,\\\"delay factor\\\":9.0},\\\"nameSub\\\":\\\"Intro Mechanics\\\",\\\"id\\\":8,\\\"credits\\\":4,\\\"nameCanonical\\\":\\\"\\\"},{\\\"curriculum_requisites\\\":[{\\\"source_id\\\":3,\\\"target_id\\\":9,\\\"type\\\":\\\"CurriculumPrerequisite\\\"}],\\\"name\\\":\\\"ENGL 102\\\",\\\"metrics\\\":{\\\"centrality\\\":0,\\\"complexity\\\":2.0,\\\"blocking factor\\\":0,\\\"delay factor\\\":2.0},\\\"nameSub\\\":\\\"First-year Comp.\\\",\\\"id\\\":9,\\\"credits\\\":3,\\\"nameCanonical\\\":\\\"\\\"},{\\\"curriculum_requisites\\\":[{\\\"source_id\\\":1,\\\"target_id\\\":10,\\\"type\\\":\\\"CurriculumCorequisite\\\"}],\\\"name\\\":\\\"ECE 175\\\",\\\"metrics\\\":{\\\"centrality\\\":0,\\\"complexity\\\":2.0,\\\"blocking factor\\\":0,\\\"delay factor\\\":2.0},\\\"nameSub\\\":\\\"Programming for Eng. Apps.\\\",\\\"id\\\":10,\\\"credits\\\":3,\\\"nameCanonical\\\":\\\"\\\"},{\\\"curriculum_requisites\\\":[],\\\"name\\\":\\\" \\\",\\\"metrics\\\":{\\\"centrality\\\":0,\\\"complexity\\\":1.0,\\\"blocking factor\\\":0,\\\"delay factor\\\":1.0},\\\"nameSub\\\":\\\"Tier I General Ed. 1\\\",\\\"id\\\":11,\\\"credits\\\":3,\\\"nameCanonical\\\":\\\"\\\"}],\\\"id\\\":2},{\\\"name\\\":\\\"Term 3\\\",\\\"curriculum_items\\\":[{\\\"curriculum_requisites\\\":[{\\\"source_id\\\":8,\\\"target_id\\\":12,\\\"type\\\":\\\"CurriculumPrerequisite\\\"},{\\\"source_id\\\":6,\\\"target_id\\\":12,\\\"type\\\":\\\"CurriculumPrerequisite\\\"}],\\\"name\\\":\\\"CE 214\\\",\\\"metrics\\\":{\\\"centrality\\\":264,\\\"complexity\\\":24.0,\\\"blocking factor\\\":15,\\\"delay factor\\\":9.0},\\\"nameSub\\\":\\\"Statics\\\",\\\"id\\\":12,\\\"credits\\\":3,\\\"nameCanonical\\\":\\\"\\\"},{\\\"curriculum_requisites\\\":[{\\\"source_id\\\":6,\\\"target_id\\\":13,\\\"type\\\":\\\"CurriculumPrerequisite\\\"}],\\\"name\\\":\\\"MATH  223\\\",\\\"metrics\\\":{\\\"centrality\\\":252,\\\"complexity\\\":25.0,\\\"blocking factor\\\":16,\\\"delay factor\\\":9.0},\\\"nameSub\\\":\\\"Vector Calculus\\\",\\\"id\\\":13,\\\"credits\\\":4,\\\"nameCanonical\\\":\\\"\\\"},{\\\"curriculum_requisites\\\":[{\\\"source_id\\\":8,\\\"target_id\\\":14,\\\"type\\\":\\\"CurriculumPrerequisite\\\"},{\\\"source_id\\\":6,\\\"target_id\\\":14,\\\"type\\\":\\\"CurriculumPrerequisite\\\"}],\\\"name\\\":\\\"PHYS 241\\\",\\\"metrics\\\":{\\\"centrality\\\":0,\\\"complexity\\\":3.0,\\\"blocking factor\\\":0,\\\"delay factor\\\":3.0},\\\"nameSub\\\":\\\"Electricity & Magnetism\\\",\\\"id\\\":14,\\\"credits\\\":4,\\\"nameCanonical\\\":\\\"\\\"},{\\\"curriculum_requisites\\\":[{\\\"source_id\\\":7,\\\"target_id\\\":15,\\\"type\\\":\\\"CurriculumPrerequisite\\\"}],\\\"name\\\":\\\"AME  205\\\",\\\"metrics\\\":{\\\"centrality\\\":28,\\\"complexity\\\":15.0,\\\"blocking factor\\\":8,\\\"delay factor\\\":7.0},\\\"nameSub\\\":\\\"Intro. To MATLAB II\\\",\\\"id\\\":15,\\\"credits\\\":1,\\\"nameCanonical\\\":\\\"\\\"},{\\\"curriculum_requisites\\\":[],\\\"name\\\":\\\"AME 211\\\",\\\"metrics\\\":{\\\"centrality\\\":0,\\\"complexity\\\":1.0,\\\"blocking factor\\\":0,\\\"delay factor\\\":1.0},\\\"nameSub\\\":\\\"Comp. Aided Drafting & Manufacturing\\\",\\\"id\\\":16,\\\"credits\\\":3,\\\"nameCanonical\\\":\\\"\\\"},{\\\"curriculum_requisites\\\":[],\\\"name\\\":\\\" \\\",\\\"metrics\\\":{\\\"centrality\\\":0,\\\"complexity\\\":1.0,\\\"blocking factor\\\":0,\\\"delay factor\\\":1.0},\\\"nameSub\\\":\\\"Tier I General Ed. 2\\\",\\\"id\\\":17,\\\"credits\\\":3,\\\"nameCanonical\\\":\\\"\\\"}],\\\"id\\\":3},{\\\"name\\\":\\\"Term 4\\\",\\\"curriculum_items\\\":[{\\\"curriculum_requisites\\\":[{\\\"source_id\\\":8,\\\"target_id\\\":18,\\\"type\\\":\\\"CurriculumPrerequisite\\\"}],\\\"name\\\":\\\"AME 230\\\",\\\"metrics\\\":{\\\"centrality\\\":86,\\\"complexity\\\":19.0,\\\"blocking factor\\\":11,\\\"delay factor\\\":8.0},\\\"nameSub\\\":\\\"Thermodynamics\\\",\\\"id\\\":18,\\\"credits\\\":3,\\\"nameCanonical\\\":\\\"\\\"},{\\\"curriculum_requisites\\\":[{\\\"source_id\\\":12,\\\"target_id\\\":19,\\\"type\\\":\\\"CurriculumPrerequisite\\\"},{\\\"source_id\\\":20,\\\"target_id\\\":19,\\\"type\\\":\\\"CurriculumCorequisite\\\"}],\\\"name\\\":\\\"AME 250\\\",\\\"metrics\\\":{\\\"centrality\\\":145,\\\"complexity\\\":19.0,\\\"blocking factor\\\":10,\\\"delay factor\\\":9.0},\\\"nameSub\\\":\\\"Dynamics\\\",\\\"id\\\":19,\\\"credits\\\":3,\\\"nameCanonical\\\":\\\"\\\"},{\\\"curriculum_requisites\\\":[{\\\"source_id\\\":13,\\\"target_id\\\":20,\\\"type\\\":\\\"CurriculumPrerequisite\\\"}],\\\"name\\\":\\\"MATH 254\\\",\\\"metrics\\\":{\\\"centrality\\\":182,\\\"complexity\\\":24.0,\\\"blocking factor\\\":15,\\\"delay factor\\\":9.0},\\\"nameSub\\\":\\\"Intro. to ODEs\\\",\\\"id\\\":20,\\\"credits\\\":3,\\\"nameCanonical\\\":\\\"\\\"},{\\\"curriculum_requisites\\\":[{\\\"source_id\\\":13,\\\"target_id\\\":21,\\\"type\\\":\\\"CurriculumPrerequisite\\\"},{\\\"source_id\\\":8,\\\"target_id\\\":21,\\\"type\\\":\\\"CurriculumPrerequisite\\\"},{\\\"source_id\\\":20,\\\"target_id\\\":21,\\\"type\\\":\\\"CurriculumCorequisite\\\"}],\\\"name\\\":\\\"AME 220\\\",\\\"metrics\\\":{\\\"centrality\\\":198,\\\"complexity\\\":17.0,\\\"blocking factor\\\":8,\\\"delay factor\\\":9.0},\\\"nameSub\\\":\\\"Intro. to Aerospace Eng.\\\",\\\"id\\\":21,\\\"credits\\\":3,\\\"nameCanonical\\\":\\\"\\\"},{\\\"curriculum_requisites\\\":[],\\\"name\\\":\\\" \\\",\\\"metrics\\\":{\\\"centrality\\\":0,\\\"complexity\\\":1.0,\\\"blocking factor\\\":0,\\\"delay factor\\\":1.0},\\\"nameSub\\\":\\\"Tier I General Ed. 3\\\",\\\"id\\\":22,\\\"credits\\\":3,\\\"nameCanonical\\\":\\\"\\\"}],\\\"id\\\":4},{\\\"name\\\":\\\"Term 5\\\",\\\"curriculum_items\\\":[{\\\"curriculum_requisites\\\":[{\\\"source_id\\\":26,\\\"target_id\\\":23,\\\"type\\\":\\\"CurriculumCorequisite\\\"},{\\\"source_id\\\":21,\\\"target_id\\\":23,\\\"type\\\":\\\"CurriculumPrerequisite\\\"}],\\\"name\\\":\\\"AME 320\\\",\\\"metrics\\\":{\\\"centrality\\\":214,\\\"complexity\\\":14.0,\\\"blocking factor\\\":5,\\\"delay factor\\\":9.0},\\\"nameSub\\\":\\\"Aerodynamics\\\",\\\"id\\\":23,\\\"credits\\\":3,\\\"nameCanonical\\\":\\\"\\\"},{\\\"curriculum_requisites\\\":[{\\\"source_id\\\":12,\\\"target_id\\\":24,\\\"type\\\":\\\"CurriculumPrerequisite\\\"}],\\\"name\\\":\\\"AME  324A\\\",\\\"metrics\\\":{\\\"centrality\\\":172,\\\"complexity\\\":21.0,\\\"blocking factor\\\":12,\\\"delay factor\\\":9.0},\\\"nameSub\\\":\\\"Mech. Behavior of Eng. Materials.\\\",\\\"id\\\":24,\\\"credits\\\":3,\\\"nameCanonical\\\":\\\"\\\"},{\\\"curriculum_requisites\\\":[{\\\"source_id\\\":20,\\\"target_id\\\":25,\\\"type\\\":\\\"CurriculumPrerequisite\\\"}],\\\"name\\\":\\\"AME 301\\\",\\\"metrics\\\":{\\\"centrality\\\":6,\\\"complexity\\\":7.0,\\\"blocking factor\\\":1,\\\"delay factor\\\":6.0},\\\"nameSub\\\":\\\"Engineering Analysis\\\",\\\"id\\\":25,\\\"credits\\\":3,\\\"nameCanonical\\\":\\\"\\\"},{\\\"curriculum_requisites\\\":[{\\\"source_id\\\":18,\\\"target_id\\\":26,\\\"type\\\":\\\"CurriculumCorequisite\\\"},{\\\"source_id\\\":24,\\\"target_id\\\":26,\\\"type\\\":\\\"CurriculumCorequisite\\\"}],\\\"name\\\":\\\"AME 300\\\",\\\"metrics\\\":{\\\"centrality\\\":204,\\\"complexity\\\":19.0,\\\"blocking factor\\\":10,\\\"delay factor\\\":9.0},\\\"nameSub\\\":\\\"Instrumentation Lab.\\\",\\\"id\\\":26,\\\"credits\\\":3,\\\"nameCanonical\\\":\\\"\\\"},{\\\"curriculum_requisites\\\":[{\\\"source_id\\\":2,\\\"target_id\\\":27,\\\"type\\\":\\\"CurriculumPrerequisite\\\"}],\\\"name\\\":\\\"MSE 331R\\\",\\\"metrics\\\":{\\\"centrality\\\":3,\\\"complexity\\\":4.0,\\\"blocking factor\\\":1,\\\"delay factor\\\":3.0},\\\"nameSub\\\":\\\"Fund. of Materials for Engineers\\\",\\\"id\\\":27,\\\"credits\\\":3,\\\"nameCanonical\\\":\\\"\\\"},{\\\"curriculum_requisites\\\":[{\\\"source_id\\\":24,\\\"target_id\\\":28,\\\"type\\\":\\\"CurriculumCorequisite\\\"}],\\\"name\\\":\\\"AME 324L\\\",\\\"metrics\\\":{\\\"centrality\\\":0,\\\"complexity\\\":5.0,\\\"blocking factor\\\":0,\\\"delay factor\\\":5.0},\\\"nameSub\\\":\\\"Mech. of Materials Lab.\\\",\\\"id\\\":28,\\\"credits\\\":1,\\\"nameCanonical\\\":\\\"\\\"}],\\\"id\\\":5},{\\\"name\\\":\\\"Term 6\\\",\\\"curriculum_items\\\":[{\\\"curriculum_requisites\\\":[{\\\"source_id\\\":25,\\\"target_id\\\":29,\\\"type\\\":\\\"CurriculumPrerequisite\\\"}],\\\"name\\\":\\\"AME 324B\\\",\\\"metrics\\\":{\\\"centrality\\\":0,\\\"complexity\\\":6.0,\\\"blocking factor\\\":0,\\\"delay factor\\\":6.0},\\\"nameSub\\\":\\\"Eng. Component Design\\\",\\\"id\\\":29,\\\"credits\\\":3,\\\"nameCanonical\\\":\\\"\\\"},{\\\"curriculum_requisites\\\":[{\\\"source_id\\\":23,\\\"target_id\\\":30,\\\"type\\\":\\\"CurriculumCorequisite\\\"},{\\\"source_id\\\":19,\\\"target_id\\\":30,\\\"type\\\":\\\"CurriculumPrerequisite\\\"},{\\\"source_id\\\":21,\\\"target_id\\\":30,\\\"type\\\":\\\"CurriculumPrerequisite\\\"}],\\\"name\\\":\\\"AME 321\\\",\\\"metrics\\\":{\\\"centrality\\\":174,\\\"complexity\\\":12.0,\\\"blocking factor\\\":3,\\\"delay factor\\\":9.0},\\\"nameSub\\\":\\\"Aircraft Performance\\\",\\\"id\\\":30,\\\"credits\\\":3,\\\"nameCanonical\\\":\\\"\\\"},{\\\"curriculum_requisites\\\":[{\\\"source_id\\\":18,\\\"target_id\\\":31,\\\"type\\\":\\\"CurriculumPrerequisite\\\"},{\\\"source_id\\\":32,\\\"target_id\\\":31,\\\"type\\\":\\\"CurriculumCorequisite\\\"},{\\\"source_id\\\":21,\\\"target_id\\\":31,\\\"type\\\":\\\"CurriculumPrerequisite\\\"},{\\\"source_id\\\":20,\\\"target_id\\\":31,\\\"type\\\":\\\"CurriculumPrerequisite\\\"}],\\\"name\\\":\\\"AME 323\\\",\\\"metrics\\\":{\\\"centrality\\\":274,\\\"complexity\\\":13.0,\\\"blocking factor\\\":4,\\\"delay factor\\\":9.0},\\\"nameSub\\\":\\\"Gasdynamics\\\",\\\"id\\\":31,\\\"credits\\\":3,\\\"nameCanonical\\\":\\\"\\\"},{\\\"curriculum_requisites\\\":[{\\\"source_id\\\":26,\\\"target_id\\\":32,\\\"type\\\":\\\"CurriculumCorequisite\\\"},{\\\"source_id\\\":19,\\\"target_id\\\":32,\\\"type\\\":\\\"CurriculumPrerequisite\\\"},{\\\"source_id\\\":15,\\\"target_id\\\":32,\\\"type\\\":\\\"CurriculumPrerequisite\\\"},{\\\"source_id\\\":20,\\\"target_id\\\":32,\\\"type\\\":\\\"CurriculumPrerequisite\\\"}],\\\"name\\\":\\\"AME 302\\\",\\\"metrics\\\":{\\\"centrality\\\":232,\\\"complexity\\\":15.0,\\\"blocking factor\\\":6,\\\"delay factor\\\":9.0},\\\"nameSub\\\":\\\"Numerical Methods\\\",\\\"id\\\":32,\\\"credits\\\":3,\\\"nameCanonical\\\":\\\"\\\"},{\\\"curriculum_requisites\\\":[],\\\"name\\\":\\\"AME 313\\\",\\\"metrics\\\":{\\\"centrality\\\":0,\\\"complexity\\\":5.0,\\\"blocking factor\\\":2,\\\"delay factor\\\":3.0},\\\"nameSub\\\":\\\"Aero.\\/Mech. Eng. Lab\\\",\\\"id\\\":33,\\\"credits\\\":1,\\\"nameCanonical\\\":\\\"\\\"},{\\\"curriculum_requisites\\\":[],\\\"name\\\":\\\" \\\",\\\"metrics\\\":{\\\"centrality\\\":0,\\\"complexity\\\":1.0,\\\"blocking factor\\\":0,\\\"delay factor\\\":1.0},\\\"nameSub\\\":\\\"Tier II General Ed. 1\\\",\\\"id\\\":34,\\\"credits\\\":3,\\\"nameCanonical\\\":\\\"\\\"}],\\\"id\\\":6},{\\\"name\\\":\\\"Term 7\\\",\\\"curriculum_items\\\":[{\\\"curriculum_requisites\\\":[{\\\"source_id\\\":23,\\\"target_id\\\":35,\\\"type\\\":\\\"CurriculumPrerequisite\\\"},{\\\"source_id\\\":31,\\\"target_id\\\":35,\\\"type\\\":\\\"CurriculumPrerequisite\\\"},{\\\"source_id\\\":27,\\\"target_id\\\":35,\\\"type\\\":\\\"CurriculumPrerequisite\\\"}],\\\"name\\\":\\\"AME 401\\\",\\\"metrics\\\":{\\\"centrality\\\":0,\\\"complexity\\\":8.0,\\\"blocking factor\\\":0,\\\"delay factor\\\":8.0},\\\"nameSub\\\":\\\"Senior Aerospace Lab.\\\",\\\"id\\\":35,\\\"credits\\\":3,\\\"nameCanonical\\\":\\\"\\\"},{\\\"curriculum_requisites\\\":[{\\\"source_id\\\":23,\\\"target_id\\\":36,\\\"type\\\":\\\"CurriculumPrerequisite\\\"},{\\\"source_id\\\":31,\\\"target_id\\\":36,\\\"type\\\":\\\"CurriculumPrerequisite\\\"},{\\\"source_id\\\":33,\\\"target_id\\\":36,\\\"type\\\":\\\"CurriculumPrerequisite\\\"},{\\\"source_id\\\":30,\\\"target_id\\\":36,\\\"type\\\":\\\"CurriculumPrerequisite\\\"}],\\\"name\\\":\\\"AME 420\\\",\\\"metrics\\\":{\\\"centrality\\\":240,\\\"complexity\\\":10.0,\\\"blocking factor\\\":1,\\\"delay factor\\\":9.0},\\\"nameSub\\\":\\\"Aerospace Conceptual Design\\\",\\\"id\\\":36,\\\"credits\\\":3,\\\"nameCanonical\\\":\\\"\\\"},{\\\"curriculum_requisites\\\":[{\\\"source_id\\\":24,\\\"target_id\\\":37,\\\"type\\\":\\\"CurriculumPrerequisite\\\"},{\\\"source_id\\\":31,\\\"target_id\\\":37,\\\"type\\\":\\\"CurriculumPrerequisite\\\"},{\\\"source_id\\\":18,\\\"target_id\\\":37,\\\"type\\\":\\\"CurriculumPrerequisite\\\"}],\\\"name\\\":\\\"AME 425\\\",\\\"metrics\\\":{\\\"centrality\\\":0,\\\"complexity\\\":8.0,\\\"blocking factor\\\":0,\\\"delay factor\\\":8.0},\\\"nameSub\\\":\\\"Aerospace Propulsion\\\",\\\"id\\\":37,\\\"credits\\\":3,\\\"nameCanonical\\\":\\\"\\\"},{\\\"curriculum_requisites\\\":[{\\\"source_id\\\":23,\\\"target_id\\\":38,\\\"type\\\":\\\"CurriculumPrerequisite\\\"},{\\\"source_id\\\":15,\\\"target_id\\\":38,\\\"type\\\":\\\"CurriculumPrerequisite\\\"},{\\\"source_id\\\":30,\\\"target_id\\\":38,\\\"type\\\":\\\"CurriculumPrerequisite\\\"}],\\\"name\\\":\\\"AME 427\\\",\\\"metrics\\\":{\\\"centrality\\\":0,\\\"complexity\\\":8.0,\\\"blocking factor\\\":0,\\\"delay factor\\\":8.0},\\\"nameSub\\\":\\\"Stability and Control of Aero. Vehicles\\\",\\\"id\\\":38,\\\"credits\\\":3,\\\"nameCanonical\\\":\\\"\\\"},{\\\"curriculum_requisites\\\":[{\\\"source_id\\\":13,\\\"target_id\\\":39,\\\"type\\\":\\\"CurriculumPrerequisite\\\"},{\\\"source_id\\\":19,\\\"target_id\\\":39,\\\"type\\\":\\\"CurriculumPrerequisite\\\"}],\\\"name\\\":\\\"AME 457\\\",\\\"metrics\\\":{\\\"centrality\\\":0,\\\"complexity\\\":6.0,\\\"blocking factor\\\":0,\\\"delay factor\\\":6.0},\\\"nameSub\\\":\\\"Orbital Mechanicans and Space Flt.\\\",\\\"id\\\":39,\\\"credits\\\":3,\\\"nameCanonical\\\":\\\"\\\"},{\\\"curriculum_requisites\\\":[],\\\"name\\\":\\\"AME 495S\\\",\\\"metrics\\\":{\\\"centrality\\\":0,\\\"complexity\\\":1.0,\\\"blocking factor\\\":0,\\\"delay factor\\\":1.0},\\\"nameSub\\\":\\\"Senior Colloquium\\\",\\\"id\\\":40,\\\"credits\\\":1,\\\"nameCanonical\\\":\\\"\\\"}],\\\"id\\\":7},{\\\"name\\\":\\\"Term 8\\\",\\\"curriculum_items\\\":[{\\\"curriculum_requisites\\\":[{\\\"source_id\\\":36,\\\"target_id\\\":41,\\\"type\\\":\\\"CurriculumPrerequisite\\\"},{\\\"source_id\\\":33,\\\"target_id\\\":41,\\\"type\\\":\\\"CurriculumCorequisite\\\"}],\\\"name\\\":\\\"AME 422\\\",\\\"metrics\\\":{\\\"centrality\\\":0,\\\"complexity\\\":9.0,\\\"blocking factor\\\":0,\\\"delay factor\\\":9.0},\\\"nameSub\\\":\\\"Aerospace Eng.Design\\\",\\\"id\\\":41,\\\"credits\\\":3,\\\"nameCanonical\\\":\\\"\\\"},{\\\"curriculum_requisites\\\":[{\\\"source_id\\\":24,\\\"target_id\\\":42,\\\"type\\\":\\\"CurriculumPrerequisite\\\"},{\\\"source_id\\\":32,\\\"target_id\\\":42,\\\"type\\\":\\\"CurriculumPrerequisite\\\"},{\\\"source_id\\\":18,\\\"target_id\\\":42,\\\"type\\\":\\\"CurriculumPrerequisite\\\"}],\\\"name\\\":\\\"AME 431\\\",\\\"metrics\\\":{\\\"centrality\\\":0,\\\"complexity\\\":7.0,\\\"blocking factor\\\":0,\\\"delay factor\\\":7.0},\\\"nameSub\\\":\\\"Num. Meth. in Fluid Mech. & Heat Xfer\\\",\\\"id\\\":42,\\\"credits\\\":3,\\\"nameCanonical\\\":\\\"\\\"},{\\\"curriculum_requisites\\\":[],\\\"name\\\":\\\" \\\",\\\"metrics\\\":{\\\"centrality\\\":0,\\\"complexity\\\":1.0,\\\"blocking factor\\\":0,\\\"delay factor\\\":1.0},\\\"nameSub\\\":\\\"Technical Elective 1\\\",\\\"id\\\":43,\\\"credits\\\":3,\\\"nameCanonical\\\":\\\"\\\"},{\\\"curriculum_requisites\\\":[],\\\"name\\\":\\\" \\\",\\\"metrics\\\":{\\\"centrality\\\":0,\\\"complexity\\\":1.0,\\\"blocking factor\\\":0,\\\"delay factor\\\":1.0},\\\"nameSub\\\":\\\"Technical Elective 2\\\",\\\"id\\\":44,\\\"credits\\\":3,\\\"nameCanonical\\\":\\\"\\\"},{\\\"curriculum_requisites\\\":[],\\\"name\\\":\\\" \\\",\\\"metrics\\\":{\\\"centrality\\\":0,\\\"complexity\\\":1.0,\\\"blocking factor\\\":0,\\\"delay factor\\\":1.0},\\\"nameSub\\\":\\\"Tier II General Ed. 2\\\",\\\"id\\\":45,\\\"credits\\\":3,\\\"nameCanonical\\\":\\\"\\\"}],\\\"id\\\":8}],\\\"institution\\\":\\\"University of Arizona\\\"}},\\\"*\\\"); window.removeEventListener(\\\"message\\\",window.messageReceived); window.messageReceived=(function (event){return (event.data.curriculum!==undefined) ? (WebIO.setval({\\\"name\\\":\\\"curriculum-data\\\",\\\"scope\\\":\\\"10586728829445235478\\\",\\\"id\\\":\\\"9384831193883083674\\\",\\\"type\\\":\\\"observable\\\"},event.data.curriculum)) : undefined}); return window.addEventListener(\\\"message\\\",window.messageReceived)})\"},\"style\":{\"padding\":\"0\",\"height\":\"80vh\",\"margin\":\"0\",\"border\":\"none\",\"width\":\"100%\"}},\"nodeType\":\"DOM\",\"type\":\"node\",\"instanceArgs\":{\"namespace\":\"html\",\"tag\":\"iframe\"},\"children\":[\"\"]}]},\n",
       "            window,\n",
       "        );\n",
       "    } else {\n",
       "        document\n",
       "            .querySelector('[data-webio-mountpoint=\"12996006118761477039\"]')\n",
       "            .innerHTML = (\n",
       "                '<div style=\"padding: 1em; background-color: #f8d6da; border: 1px solid #f5c6cb\">' +\n",
       "                '<p><strong>WebIO not detected.</strong></p>' +\n",
       "                '<p>Please read ' +\n",
       "                '<a href=\"https://juliagizmos.github.io/WebIO.jl/latest/troubleshooting/not-detected/\" target=\"_blank\">the troubleshooting guide</a> ' +\n",
       "                'for more information on how to resolve this issue.</p>' +\n",
       "                '<p><a href=\"https://juliagizmos.github.io/WebIO.jl/latest/troubleshooting/not-detected/\" target=\"_blank\">https://juliagizmos.github.io/WebIO.jl/latest/troubleshooting/not-detected/</a></p>' +\n",
       "                '</div>'\n",
       "            );\n",
       "    }\n",
       "    </script>\n",
       "</div>\n"
      ],
      "text/plain": [
       "WebIO.Scope(WebIO.Node{WebIO.DOM}(WebIO.DOM(:html, :iframe), Any[\"\"], Dict{Symbol,Any}(:src => \"http://localhost:8156\",:id => \"curriculum\",:events => Dict{Symbol,WebIO.JSString}(:load => WebIO.JSString(\"(function (){this.contentWindow.postMessage({\\\"options\\\":{\\\"hideTerms\\\":false,\\\"edit\\\":false},\\\"curriculum\\\":{\\\"name\\\":\\\"Aerospace Engineering\\\",\\\"dp_name\\\":\\\"2019-20 Degree Plan\\\",\\\"curriculum_terms\\\":[{\\\"name\\\":\\\"Term 1\\\",\\\"curriculum_items\\\":[{\\\"curriculum_requisites\\\":[],\\\"name\\\":\\\"MATH 125\\\",\\\"metrics\\\":{\\\"centrality\\\":0,\\\"complexity\\\":38.0,\\\"blocking factor\\\":29,\\\"delay factor\\\":9.0},\\\"nameSub\\\":\\\"Calculus I w/ Applications\\\",\\\"id\\\":1,\\\"credits\\\":3,\\\"nameCanonical\\\":\\\"\\\"},{\\\"curriculum_requisites\\\":[],\\\"name\\\":\\\"CHEM 151\\\",\\\"metrics\\\":{\\\"centrality\\\":0,\\\"complexity\\\":5.0,\\\"blocking factor\\\":2,\\\"delay factor\\\":3.0},\\\"nameSub\\\":\\\"Gen Chemistry I\\\",\\\"id\\\":2,\\\"credits\\\":4,\\\"nameCanonical\\\":\\\"\\\"},{\\\"curriculum_requisites\\\":[],\\\"name\\\":\\\"ENGL 101\\\",\\\"metrics\\\":{\\\"centrality\\\":0,\\\"complexity\\\":3.0,\\\"blocking factor\\\":1,\\\"delay factor\\\":2.0},\\\"nameSub\\\":\\\"First-year Comp.\\\",\\\"id\\\":3,\\\"credits\\\":3,\\\"nameCanonical\\\":\\\"\\\"},{\\\"curriculum_requisites\\\":[{\\\"source_id\\\":1,\\\"target_id\\\":4,\\\"type\\\":\\\"CurriculumCorequisite\\\"}],\\\"name\\\":\\\"ENGR 102\\\",\\\"metrics\\\":{\\\"centrality\\\":0,\\\"complexity\\\":2.0,\\\"blocking factor\\\":0,\\\"delay factor\\\":2.0},\\\"nameSub\\\":\\\"Intro to Engineering\\\",\\\"id\\\":4,\\\"credits\\\":3,\\\"nameCanonical\\\":\\\"\\\"},{\\\"curriculum_requisites\\\":[],\\\"name\\\":\\\" \\\",\\\"metrics\\\":{\\\"centrality\\\":0,\\\"complexity\\\":1.0,\\\"blocking factor\\\":0,\\\"delay factor\\\":1.0},\\\"nameSub\\\":\\\"Tier I General Ed.\\\",\\\"id\\\":5,\\\"credits\\\":3,\\\"nameCanonical\\\":\\\"\\\"}],\\\"id\\\":1},{\\\"name\\\":\\\"Term 2\\\",\\\"curriculum_items\\\":[{\\\"curriculum_requisites\\\":[{\\\"source_id\\\":1,\\\"target_id\\\":6,\\\"type\\\":\\\"CurriculumPrerequisite\\\"}],\\\"name\\\":\\\"MATH 129\\\",\\\"metrics\\\":{\\\"centrality\\\":387,\\\"complexity\\\":31.0,\\\"blocking factor\\\":22,\\\"delay factor\\\":9.0},\\\"nameSub\\\":\\\"Calculus II\\\",\\\"id\\\":6,\\\"credits\\\":3,\\\"nameCanonical\\\":\\\"\\\"},{\\\"curriculum_requisites\\\":[{\\\"source_id\\\":1,\\\"target_id\\\":7,\\\"type\\\":\\\"CurriculumPrerequisite\\\"}],\\\"name\\\":\\\"AME 105\\\",\\\"metrics\\\":{\\\"centrality\\\":28,\\\"complexity\\\":16.0,\\\"blocking factor\\\":9,\\\"delay factor\\\":7.0},\\\"nameSub\\\":\\\"Intro. to MATLAB I\\\",\\\"id\\\":7,\\\"credits\\\":1,\\\"nameCanonical\\\":\\\"\\\"},{\\\"curriculum_requisites\\\":[{\\\"source_id\\\":1,\\\"target_id\\\":8,\\\"type\\\":\\\"CurriculumPrerequisite\\\"}],\\\"name\\\":\\\"PHYS 141\\\",\\\"metrics\\\":{\\\"centrality\\\":277,\\\"complexity\\\":28.0,\\\"blocking factor\\\":19,\\\"delay factor\\\":9.0},\\\"nameSub\\\":\\\"Intro Mechanics\\\",\\\"id\\\":8,\\\"credits\\\":4,\\\"nameCanonical\\\":\\\"\\\"},{\\\"curriculum_requisites\\\":[{\\\"source_id\\\":3,\\\"target_id\\\":9,\\\"type\\\":\\\"CurriculumPrerequisite\\\"}],\\\"name\\\":\\\"ENGL 102\\\",\\\"metrics\\\":{\\\"centrality\\\":0,\\\"complexity\\\":2.0,\\\"blocking factor\\\":0,\\\"delay factor\\\":2.0},\\\"nameSub\\\":\\\"First-year Comp.\\\",\\\"id\\\":9,\\\"credits\\\":3,\\\"nameCanonical\\\":\\\"\\\"},{\\\"curriculum_requisites\\\":[{\\\"source_id\\\":1,\\\"target_id\\\":10,\\\"type\\\":\\\"CurriculumCorequisite\\\"}],\\\"name\\\":\\\"ECE 175\\\",\\\"metrics\\\":{\\\"centrality\\\":0,\\\"complexity\\\":2.0,\\\"blocking factor\\\":0,\\\"delay factor\\\":2.0},\\\"nameSub\\\":\\\"Programming for Eng. Apps.\\\",\\\"id\\\":10,\\\"credits\\\":3,\\\"nameCanonical\\\":\\\"\\\"},{\\\"curriculum_requisites\\\":[],\\\"name\\\":\\\" \\\",\\\"metrics\\\":{\\\"centrality\\\":0,\\\"complexity\\\":1.0,\\\"blocking factor\\\":0,\\\"delay factor\\\":1.0},\\\"nameSub\\\":\\\"Tier I General Ed. 1\\\",\\\"id\\\":11,\\\"credits\\\":3,\\\"nameCanonical\\\":\\\"\\\"}],\\\"id\\\":2},{\\\"name\\\":\\\"Term 3\\\",\\\"curriculum_items\\\":[{\\\"curriculum_requisites\\\":[{\\\"source_id\\\":8,\\\"target_id\\\":12,\\\"type\\\":\\\"CurriculumPrerequisite\\\"},{\\\"source_id\\\":6,\\\"target_id\\\":12,\\\"type\\\":\\\"CurriculumPrerequisite\\\"}],\\\"name\\\":\\\"CE 214\\\",\\\"metrics\\\":{\\\"centrality\\\":264,\\\"complexity\\\":24.0,\\\"blocking factor\\\":15,\\\"delay factor\\\":9.0},\\\"nameSub\\\":\\\"Statics\\\",\\\"id\\\":12,\\\"credits\\\":3,\\\"nameCanonical\\\":\\\"\\\"},{\\\"curriculum_requisites\\\":[{\\\"source_id\\\":6,\\\"target_id\\\":13,\\\"type\\\":\\\"CurriculumPrerequisite\\\"}],\\\"name\\\":\\\"MATH  223\\\",\\\"metrics\\\":{\\\"centrality\\\":252,\\\"complexity\\\":25.0,\\\"blocking factor\\\":16,\\\"delay factor\\\":9.0},\\\"nameSub\\\":\\\"Vector Calculus\\\",\\\"id\\\":13,\\\"credits\\\":4,\\\"nameCanonical\\\":\\\"\\\"},{\\\"curriculum_requisites\\\":[{\\\"source_id\\\":8,\\\"target_id\\\":14,\\\"type\\\":\\\"CurriculumPrerequisite\\\"},{\\\"source_id\\\":6,\\\"target_id\\\":14,\\\"type\\\":\\\"CurriculumPrerequisite\\\"}],\\\"name\\\":\\\"PHYS 241\\\",\\\"metrics\\\":{\\\"centrality\\\":0,\\\"complexity\\\":3.0,\\\"blocking factor\\\":0,\\\"delay factor\\\":3.0},\\\"nameSub\\\":\\\"Electricity & Magnetism\\\",\\\"id\\\":14,\\\"credits\\\":4,\\\"nameCanonical\\\":\\\"\\\"},{\\\"curriculum_requisites\\\":[{\\\"source_id\\\":7,\\\"target_id\\\":15,\\\"type\\\":\\\"CurriculumPrerequisite\\\"}],\\\"name\\\":\\\"AME  205\\\",\\\"metrics\\\":{\\\"centrality\\\":28,\\\"complexity\\\":15.0,\\\"blocking factor\\\":8,\\\"delay factor\\\":7.0},\\\"nameSub\\\":\\\"Intro. To MATLAB II\\\",\\\"id\\\":15,\\\"credits\\\":1,\\\"nameCanonical\\\":\\\"\\\"},{\\\"curriculum_requisites\\\":[],\\\"name\\\":\\\"AME 211\\\",\\\"metrics\\\":{\\\"centrality\\\":0,\\\"complexity\\\":1.0,\\\"blocking factor\\\":0,\\\"delay factor\\\":1.0},\\\"nameSub\\\":\\\"Comp. Aided Drafting & Manufacturing\\\",\\\"id\\\":16,\\\"credits\\\":3,\\\"nameCanonical\\\":\\\"\\\"},{\\\"curriculum_requisites\\\":[],\\\"name\\\":\\\" \\\",\\\"metrics\\\":{\\\"centrality\\\":0,\\\"complexity\\\":1.0,\\\"blocking factor\\\":0,\\\"delay factor\\\":1.0},\\\"nameSub\\\":\\\"Tier I General Ed. 2\\\",\\\"id\\\":17,\\\"credits\\\":3,\\\"nameCanonical\\\":\\\"\\\"}],\\\"id\\\":3},{\\\"name\\\":\\\"Term 4\\\",\\\"curriculum_items\\\":[{\\\"curriculum_requisites\\\":[{\\\"source_id\\\":8,\\\"target_id\\\":18,\\\"type\\\":\\\"CurriculumPrerequisite\\\"}],\\\"name\\\":\\\"AME 230\\\",\\\"metrics\\\":{\\\"centrality\\\":86,\\\"complexity\\\":19.0,\\\"blocking factor\\\":11,\\\"delay factor\\\":8.0},\\\"nameSub\\\":\\\"Thermodynamics\\\",\\\"id\\\":18,\\\"credits\\\":3,\\\"nameCanonical\\\":\\\"\\\"},{\\\"curriculum_requisites\\\":[{\\\"source_id\\\":12,\\\"target_id\\\":19,\\\"type\\\":\\\"CurriculumPrerequisite\\\"},{\\\"source_id\\\":20,\\\"target_id\\\":19,\\\"type\\\":\\\"CurriculumCorequisite\\\"}],\\\"name\\\":\\\"AME 250\\\",\\\"metrics\\\":{\\\"centrality\\\":145,\\\"complexity\\\":19.0,\\\"blocking factor\\\":10,\\\"delay factor\\\":9.0},\\\"nameSub\\\":\\\"Dynamics\\\",\\\"id\\\":19,\\\"credits\\\":3,\\\"nameCanonical\\\":\\\"\\\"},{\\\"curriculum_requisites\\\":[{\\\"source_id\\\":13,\\\"target_id\\\":20,\\\"type\\\":\\\"CurriculumPrerequisite\\\"}],\\\"name\\\":\\\"MATH 254\\\",\\\"metrics\\\":{\\\"centrality\\\":182,\\\"complexity\\\":24.0,\\\"blocking factor\\\":15,\\\"delay factor\\\":9.0},\\\"nameSub\\\":\\\"Intro. to ODEs\\\",\\\"id\\\":20,\\\"credits\\\":3,\\\"nameCanonical\\\":\\\"\\\"},{\\\"curriculum_requisites\\\":[{\\\"source_id\\\":13,\\\"target_id\\\":21,\\\"type\\\":\\\"CurriculumPrerequisite\\\"},{\\\"source_id\\\":8,\\\"target_id\\\":21,\\\"type\\\":\\\"CurriculumPrerequisite\\\"},{\\\"source_id\\\":20,\\\"target_id\\\":21,\\\"type\\\":\\\"CurriculumCorequisite\\\"}],\\\"name\\\":\\\"AME 220\\\",\\\"metrics\\\":{\\\"centrality\\\":198,\\\"complexity\\\":17.0,\\\"blocking factor\\\":8,\\\"delay factor\\\":9.0},\\\"nameSub\\\":\\\"Intro. to Aerospace Eng.\\\",\\\"id\\\":21,\\\"credits\\\":3,\\\"nameCanonical\\\":\\\"\\\"},{\\\"curriculum_requisites\\\":[],\\\"name\\\":\\\" \\\",\\\"metrics\\\":{\\\"centrality\\\":0,\\\"complexity\\\":1.0,\\\"blocking factor\\\":0,\\\"delay factor\\\":1.0},\\\"nameSub\\\":\\\"Tier I General Ed. 3\\\",\\\"id\\\":22,\\\"credits\\\":3,\\\"nameCanonical\\\":\\\"\\\"}],\\\"id\\\":4},{\\\"name\\\":\\\"Term 5\\\",\\\"curriculum_items\\\":[{\\\"curriculum_requisites\\\":[{\\\"source_id\\\":26,\\\"target_id\\\":23,\\\"type\\\":\\\"CurriculumCorequisite\\\"},{\\\"source_id\\\":21,\\\"target_id\\\":23,\\\"type\\\":\\\"CurriculumPrerequisite\\\"}],\\\"name\\\":\\\"AME 320\\\",\\\"metrics\\\":{\\\"centrality\\\":214,\\\"complexity\\\":14.0,\\\"blocking factor\\\":5,\\\"delay factor\\\":9.0},\\\"nameSub\\\":\\\"Aerodynamics\\\",\\\"id\\\":23,\\\"credits\\\":3,\\\"nameCanonical\\\":\\\"\\\"},{\\\"curriculum_requisites\\\":[{\\\"source_id\\\":12,\\\"target_id\\\":24,\\\"type\\\":\\\"CurriculumPrerequisite\\\"}],\\\"name\\\":\\\"AME  324A\\\",\\\"metrics\\\":{\\\"centrality\\\":172,\\\"complexity\\\":21.0,\\\"blocking factor\\\":12,\\\"delay factor\\\":9.0},\\\"nameSub\\\":\\\"Mech. Behavior of Eng. Materials.\\\",\\\"id\\\":24,\\\"credits\\\":3,\\\"nameCanonical\\\":\\\"\\\"},{\\\"curriculum_requisites\\\":[{\\\"source_id\\\":20,\\\"target_id\\\":25,\\\"type\\\":\\\"CurriculumPrerequisite\\\"}],\\\"name\\\":\\\"AME 301\\\",\\\"metrics\\\":{\\\"centrality\\\":6,\\\"complexity\\\":7.0,\\\"blocking factor\\\":1,\\\"delay factor\\\":6.0},\\\"nameSub\\\":\\\"Engineering Analysis\\\",\\\"id\\\":25,\\\"credits\\\":3,\\\"nameCanonical\\\":\\\"\\\"},{\\\"curriculum_requisites\\\":[{\\\"source_id\\\":18,\\\"target_id\\\":26,\\\"type\\\":\\\"CurriculumCorequisite\\\"},{\\\"source_id\\\":24,\\\"target_id\\\":26,\\\"type\\\":\\\"CurriculumCorequisite\\\"}],\\\"name\\\":\\\"AME 300\\\",\\\"metrics\\\":{\\\"centrality\\\":204,\\\"complexity\\\":19.0,\\\"blocking factor\\\":10,\\\"delay factor\\\":9.0},\\\"nameSub\\\":\\\"Instrumentation Lab.\\\",\\\"id\\\":26,\\\"credits\\\":3,\\\"nameCanonical\\\":\\\"\\\"},{\\\"curriculum_requisites\\\":[{\\\"source_id\\\":2,\\\"target_id\\\":27,\\\"type\\\":\\\"CurriculumPrerequisite\\\"}],\\\"name\\\":\\\"MSE 331R\\\",\\\"metrics\\\":{\\\"centrality\\\":3,\\\"complexity\\\":4.0,\\\"blocking factor\\\":1,\\\"delay factor\\\":3.0},\\\"nameSub\\\":\\\"Fund. of Materials for Engineers\\\",\\\"id\\\":27,\\\"credits\\\":3,\\\"nameCanonical\\\":\\\"\\\"},{\\\"curriculum_requisites\\\":[{\\\"source_id\\\":24,\\\"target_id\\\":28,\\\"type\\\":\\\"CurriculumCorequisite\\\"}],\\\"name\\\":\\\"AME 324L\\\",\\\"metrics\\\":{\\\"centrality\\\":0,\\\"complexity\\\":5.0,\\\"blocking factor\\\":0,\\\"delay factor\\\":5.0},\\\"nameSub\\\":\\\"Mech. of Materials Lab.\\\",\\\"id\\\":28,\\\"credits\\\":1,\\\"nameCanonical\\\":\\\"\\\"}],\\\"id\\\":5},{\\\"name\\\":\\\"Term 6\\\",\\\"curriculum_items\\\":[{\\\"curriculum_requisites\\\":[{\\\"source_id\\\":25,\\\"target_id\\\":29,\\\"type\\\":\\\"CurriculumPrerequisite\\\"}],\\\"name\\\":\\\"AME 324B\\\",\\\"metrics\\\":{\\\"centrality\\\":0,\\\"complexity\\\":6.0,\\\"blocking factor\\\":0,\\\"delay factor\\\":6.0},\\\"nameSub\\\":\\\"Eng. Component Design\\\",\\\"id\\\":29,\\\"credits\\\":3,\\\"nameCanonical\\\":\\\"\\\"},{\\\"curriculum_requisites\\\":[{\\\"source_id\\\":23,\\\"target_id\\\":30,\\\"type\\\":\\\"CurriculumCorequisite\\\"},{\\\"source_id\\\":19,\\\"target_id\\\":30,\\\"type\\\":\\\"CurriculumPrerequisite\\\"},{\\\"source_id\\\":21,\\\"target_id\\\":30,\\\"type\\\":\\\"CurriculumPrerequisite\\\"}],\\\"name\\\":\\\"AME 321\\\",\\\"metrics\\\":{\\\"centrality\\\":174,\\\"complexity\\\":12.0,\\\"blocking factor\\\":3,\\\"delay factor\\\":9.0},\\\"nameSub\\\":\\\"Aircraft Performance\\\",\\\"id\\\":30,\\\"credits\\\":3,\\\"nameCanonical\\\":\\\"\\\"},{\\\"curriculum_requisites\\\":[{\\\"source_id\\\":18,\\\"target_id\\\":31,\\\"type\\\":\\\"CurriculumPrerequisite\\\"},{\\\"source_id\\\":32,\\\"target_id\\\":31,\\\"type\\\":\\\"CurriculumCorequisite\\\"},{\\\"source_id\\\":21,\\\"target_id\\\":31,\\\"type\\\":\\\"CurriculumPrerequisite\\\"},{\\\"source_id\\\":20,\\\"target_id\\\":31,\\\"type\\\":\\\"CurriculumPrerequisite\\\"}],\\\"name\\\":\\\"AME 323\\\",\\\"metrics\\\":{\\\"centrality\\\":274,\\\"complexity\\\":13.0,\\\"blocking factor\\\":4,\\\"delay factor\\\":9.0},\\\"nameSub\\\":\\\"Gasdynamics\\\",\\\"id\\\":31,\\\"credits\\\":3,\\\"nameCanonical\\\":\\\"\\\"},{\\\"curriculum_requisites\\\":[{\\\"source_id\\\":26,\\\"target_id\\\":32,\\\"type\\\":\\\"CurriculumCorequisite\\\"},{\\\"source_id\\\":19,\\\"target_id\\\":32,\\\"type\\\":\\\"CurriculumPrerequisite\\\"},{\\\"source_id\\\":15,\\\"target_id\\\":32,\\\"type\\\":\\\"CurriculumPrerequisite\\\"},{\\\"source_id\\\":20,\\\"target_id\\\":32,\\\"type\\\":\\\"CurriculumPrerequisite\\\"}],\\\"name\\\":\\\"AME 302\\\",\\\"metrics\\\":{\\\"centrality\\\":232,\\\"complexity\\\":15.0,\\\"blocking factor\\\":6,\\\"delay factor\\\":9.0},\\\"nameSub\\\":\\\"Numerical Methods\\\",\\\"id\\\":32,\\\"credits\\\":3,\\\"nameCanonical\\\":\\\"\\\"},{\\\"curriculum_requisites\\\":[],\\\"name\\\":\\\"AME 313\\\",\\\"metrics\\\":{\\\"centrality\\\":0,\\\"complexity\\\":5.0,\\\"blocking factor\\\":2,\\\"delay factor\\\":3.0},\\\"nameSub\\\":\\\"Aero./Mech. Eng. Lab\\\",\\\"id\\\":33,\\\"credits\\\":1,\\\"nameCanonical\\\":\\\"\\\"},{\\\"curriculum_requisites\\\":[],\\\"name\\\":\\\" \\\",\\\"metrics\\\":{\\\"centrality\\\":0,\\\"complexity\\\":1.0,\\\"blocking factor\\\":0,\\\"delay factor\\\":1.0},\\\"nameSub\\\":\\\"Tier II General Ed. 1\\\",\\\"id\\\":34,\\\"credits\\\":3,\\\"nameCanonical\\\":\\\"\\\"}],\\\"id\\\":6},{\\\"name\\\":\\\"Term 7\\\",\\\"curriculum_items\\\":[{\\\"curriculum_requisites\\\":[{\\\"source_id\\\":23,\\\"target_id\\\":35,\\\"type\\\":\\\"CurriculumPrerequisite\\\"},{\\\"source_id\\\":31,\\\"target_id\\\":35,\\\"type\\\":\\\"CurriculumPrerequisite\\\"},{\\\"source_id\\\":27,\\\"target_id\\\":35,\\\"type\\\":\\\"CurriculumPrerequisite\\\"}],\\\"name\\\":\\\"AME 401\\\",\\\"metrics\\\":{\\\"centrality\\\":0,\\\"complexity\\\":8.0,\\\"blocking factor\\\":0,\\\"delay factor\\\":8.0},\\\"nameSub\\\":\\\"Senior Aerospace Lab.\\\",\\\"id\\\":35,\\\"credits\\\":3,\\\"nameCanonical\\\":\\\"\\\"},{\\\"curriculum_requisites\\\":[{\\\"source_id\\\":23,\\\"target_id\\\":36,\\\"type\\\":\\\"CurriculumPrerequisite\\\"},{\\\"source_id\\\":31,\\\"target_id\\\":36,\\\"type\\\":\\\"CurriculumPrerequisite\\\"},{\\\"source_id\\\":33,\\\"target_id\\\":36,\\\"type\\\":\\\"CurriculumPrerequisite\\\"},{\\\"source_id\\\":30,\\\"target_id\\\":36,\\\"type\\\":\\\"CurriculumPrerequisite\\\"}],\\\"name\\\":\\\"AME 420\\\",\\\"metrics\\\":{\\\"centrality\\\":240,\\\"complexity\\\":10.0,\\\"blocking factor\\\":1,\\\"delay factor\\\":9.0},\\\"nameSub\\\":\\\"Aerospace Conceptual Design\\\",\\\"id\\\":36,\\\"credits\\\":3,\\\"nameCanonical\\\":\\\"\\\"},{\\\"curriculum_requisites\\\":[{\\\"source_id\\\":24,\\\"target_id\\\":37,\\\"type\\\":\\\"CurriculumPrerequisite\\\"},{\\\"source_id\\\":31,\\\"target_id\\\":37,\\\"type\\\":\\\"CurriculumPrerequisite\\\"},{\\\"source_id\\\":18,\\\"target_id\\\":37,\\\"type\\\":\\\"CurriculumPrerequisite\\\"}],\\\"name\\\":\\\"AME 425\\\",\\\"metrics\\\":{\\\"centrality\\\":0,\\\"complexity\\\":8.0,\\\"blocking factor\\\":0,\\\"delay factor\\\":8.0},\\\"nameSub\\\":\\\"Aerospace Propulsion\\\",\\\"id\\\":37,\\\"credits\\\":3,\\\"nameCanonical\\\":\\\"\\\"},{\\\"curriculum_requisites\\\":[{\\\"source_id\\\":23,\\\"target_id\\\":38,\\\"type\\\":\\\"CurriculumPrerequisite\\\"},{\\\"source_id\\\":15,\\\"target_id\\\":38,\\\"type\\\":\\\"CurriculumPrerequisite\\\"},{\\\"source_id\\\":30,\\\"target_id\\\":38,\\\"type\\\":\\\"CurriculumPrerequisite\\\"}],\\\"name\\\":\\\"AME 427\\\",\\\"metrics\\\":{\\\"centrality\\\":0,\\\"complexity\\\":8.0,\\\"blocking factor\\\":0,\\\"delay factor\\\":8.0},\\\"nameSub\\\":\\\"Stability and Control of Aero. Vehicles\\\",\\\"id\\\":38,\\\"credits\\\":3,\\\"nameCanonical\\\":\\\"\\\"},{\\\"curriculum_requisites\\\":[{\\\"source_id\\\":13,\\\"target_id\\\":39,\\\"type\\\":\\\"CurriculumPrerequisite\\\"},{\\\"source_id\\\":19,\\\"target_id\\\":39,\\\"type\\\":\\\"CurriculumPrerequisite\\\"}],\\\"name\\\":\\\"AME 457\\\",\\\"metrics\\\":{\\\"centrality\\\":0,\\\"complexity\\\":6.0,\\\"blocking factor\\\":0,\\\"delay factor\\\":6.0},\\\"nameSub\\\":\\\"Orbital Mechanicans and Space Flt.\\\",\\\"id\\\":39,\\\"credits\\\":3,\\\"nameCanonical\\\":\\\"\\\"},{\\\"curriculum_requisites\\\":[],\\\"name\\\":\\\"AME 495S\\\",\\\"metrics\\\":{\\\"centrality\\\":0,\\\"complexity\\\":1.0,\\\"blocking factor\\\":0,\\\"delay factor\\\":1.0},\\\"nameSub\\\":\\\"Senior Colloquium\\\",\\\"id\\\":40,\\\"credits\\\":1,\\\"nameCanonical\\\":\\\"\\\"}],\\\"id\\\":7},{\\\"name\\\":\\\"Term 8\\\",\\\"curriculum_items\\\":[{\\\"curriculum_requisites\\\":[{\\\"source_id\\\":36,\\\"target_id\\\":41,\\\"type\\\":\\\"CurriculumPrerequisite\\\"},{\\\"source_id\\\":33,\\\"target_id\\\":41,\\\"type\\\":\\\"CurriculumCorequisite\\\"}],\\\"name\\\":\\\"AME 422\\\",\\\"metrics\\\":{\\\"centrality\\\":0,\\\"complexity\\\":9.0,\\\"blocking factor\\\":0,\\\"delay factor\\\":9.0},\\\"nameSub\\\":\\\"Aerospace Eng.Design\\\",\\\"id\\\":41,\\\"credits\\\":3,\\\"nameCanonical\\\":\\\"\\\"},{\\\"curriculum_requisites\\\":[{\\\"source_id\\\":24,\\\"target_id\\\":42,\\\"type\\\":\\\"CurriculumPrerequisite\\\"},{\\\"source_id\\\":32,\\\"target_id\\\":42,\\\"type\\\":\\\"CurriculumPrerequisite\\\"},{\\\"source_id\\\":18,\\\"target_id\\\":42,\\\"type\\\":\\\"CurriculumPrerequisite\\\"}],\\\"name\\\":\\\"AME 431\\\",\\\"metrics\\\":{\\\"centrality\\\":0,\\\"complexity\\\":7.0,\\\"blocking factor\\\":0,\\\"delay factor\\\":7.0},\\\"nameSub\\\":\\\"Num. Meth. in Fluid Mech. & Heat Xfer\\\",\\\"id\\\":42,\\\"credits\\\":3,\\\"nameCanonical\\\":\\\"\\\"},{\\\"curriculum_requisites\\\":[],\\\"name\\\":\\\" \\\",\\\"metrics\\\":{\\\"centrality\\\":0,\\\"complexity\\\":1.0,\\\"blocking factor\\\":0,\\\"delay factor\\\":1.0},\\\"nameSub\\\":\\\"Technical Elective 1\\\",\\\"id\\\":43,\\\"credits\\\":3,\\\"nameCanonical\\\":\\\"\\\"},{\\\"curriculum_requisites\\\":[],\\\"name\\\":\\\" \\\",\\\"metrics\\\":{\\\"centrality\\\":0,\\\"complexity\\\":1.0,\\\"blocking factor\\\":0,\\\"delay factor\\\":1.0},\\\"nameSub\\\":\\\"Technical Elective 2\\\",\\\"id\\\":44,\\\"credits\\\":3,\\\"nameCanonical\\\":\\\"\\\"},{\\\"curriculum_requisites\\\":[],\\\"name\\\":\\\" \\\",\\\"metrics\\\":{\\\"centrality\\\":0,\\\"complexity\\\":1.0,\\\"blocking factor\\\":0,\\\"delay factor\\\":1.0},\\\"nameSub\\\":\\\"Tier II General Ed. 2\\\",\\\"id\\\":45,\\\"credits\\\":3,\\\"nameCanonical\\\":\\\"\\\"}],\\\"id\\\":8}],\\\"institution\\\":\\\"University of Arizona\\\"}},\\\"*\\\"); window.removeEventListener(\\\"message\\\",window.messageReceived); window.messageReceived=(function (event){return (event.data.curriculum!==undefined) ? (WebIO.setval({\\\"name\\\":\\\"curriculum-data\\\",\\\"scope\\\":\\\"10586728829445235478\\\",\\\"id\\\":\\\"9384831193883083674\\\",\\\"type\\\":\\\"observable\\\"},event.data.curriculum)) : undefined}); return window.addEventListener(\\\"message\\\",window.messageReceived)})\")),:style => Dict(:padding => \"0\",:height => \"80vh\",:margin => \"0\",:border => \"none\",:width => \"100%\"))), Dict{String,Tuple{Observables.AbstractObservable,Union{Nothing, Bool}}}(\"curriculum-data\" => (Observable{Dict{String,Any}} with 1 listeners. Value:\n",
       "Dict{String,Any}(\"options\" => Dict{String,Any}(\"hideTerms\" => false,\"edit\" => false),\"curriculum\" => Dict{String,Any}(\"name\" => \"Aerospace Engineering\",\"dp_name\" => \"2019-20 Degree Plan\",\"curriculum_terms\" => Dict{String,Any}[Dict(\"name\" => \"Term 1\",\"curriculum_items\" => Dict{String,Any}[Dict(\"curriculum_requisites\" => Dict{String,Any}[],\"name\" => \"MATH 125\",\"metrics\" => Dict{String,Any}(\"centrality\" => 0,\"complexity\" => 38.0,\"blocking factor\" => 29,\"delay factor\" => 9.0),\"nameSub\" => \"Calculus I w/ Applications\",\"id\" => 1,\"credits\" => 3,\"nameCanonical\" => \"\"), Dict(\"curriculum_requisites\" => Dict{String,Any}[],\"name\" => \"CHEM 151\",\"metrics\" => Dict{String,Any}(\"centrality\" => 0,\"complexity\" => 5.0,\"blocking factor\" => 2,\"delay factor\" => 3.0),\"nameSub\" => \"Gen Chemistry I\",\"id\" => 2,\"credits\" => 4,\"nameCanonical\" => \"\"), Dict(\"curriculum_requisites\" => Dict{String,Any}[],\"name\" => \"ENGL 101\",\"metrics\" => Dict{String,Any}(\"centrality\" => 0,\"complexity\" => 3.0,\"blocking factor\" => 1,\"delay factor\" => 2.0),\"nameSub\" => \"First-year Comp.\",\"id\" => 3,\"credits\" => 3,\"nameCanonical\" => \"\"), Dict(\"curriculum_requisites\" => Dict{String,Any}[Dict(\"source_id\" => 1,\"target_id\" => 4,\"type\" => \"CurriculumCorequisite\")],\"name\" => \"ENGR 102\",\"metrics\" => Dict{String,Any}(\"centrality\" => 0,\"complexity\" => 2.0,\"blocking factor\" => 0,\"delay factor\" => 2.0),\"nameSub\" => \"Intro to Engineering\",\"id\" => 4,\"credits\" => 3,\"nameCanonical\" => \"\"), Dict(\"curriculum_requisites\" => Dict{String,Any}[],\"name\" => \" \",\"metrics\" => Dict{String,Any}(\"centrality\" => 0,\"complexity\" => 1.0,\"blocking factor\" => 0,\"delay factor\" => 1.0),\"nameSub\" => \"Tier I General Ed.\",\"id\" => 5,\"credits\" => 3,\"nameCanonical\" => \"\")],\"id\" => 1), Dict(\"name\" => \"Term 2\",\"curriculum_items\" => Dict{String,Any}[Dict(\"curriculum_requisites\" => Dict{String,Any}[Dict(\"source_id\" => 1,\"target_id\" => 6,\"type\" => \"CurriculumPrerequisite\")],\"name\" => \"MATH 129\",\"metrics\" => Dict{String,Any}(\"centrality\" => 387,\"complexity\" => 31.0,\"blocking factor\" => 22,\"delay factor\" => 9.0),\"nameSub\" => \"Calculus II\",\"id\" => 6,\"credits\" => 3,\"nameCanonical\" => \"\"), Dict(\"curriculum_requisites\" => Dict{String,Any}[Dict(\"source_id\" => 1,\"target_id\" => 7,\"type\" => \"CurriculumPrerequisite\")],\"name\" => \"AME 105\",\"metrics\" => Dict{String,Any}(\"centrality\" => 28,\"complexity\" => 16.0,\"blocking factor\" => 9,\"delay factor\" => 7.0),\"nameSub\" => \"Intro. to MATLAB I\",\"id\" => 7,\"credits\" => 1,\"nameCanonical\" => \"\"), Dict(\"curriculum_requisites\" => Dict{String,Any}[Dict(\"source_id\" => 1,\"target_id\" => 8,\"type\" => \"CurriculumPrerequisite\")],\"name\" => \"PHYS 141\",\"metrics\" => Dict{String,Any}(\"centrality\" => 277,\"complexity\" => 28.0,\"blocking factor\" => 19,\"delay factor\" => 9.0),\"nameSub\" => \"Intro Mechanics\",\"id\" => 8,\"credits\" => 4,\"nameCanonical\" => \"\"), Dict(\"curriculum_requisites\" => Dict{String,Any}[Dict(\"source_id\" => 3,\"target_id\" => 9,\"type\" => \"CurriculumPrerequisite\")],\"name\" => \"ENGL 102\",\"metrics\" => Dict{String,Any}(\"centrality\" => 0,\"complexity\" => 2.0,\"blocking factor\" => 0,\"delay factor\" => 2.0),\"nameSub\" => \"First-year Comp.\",\"id\" => 9,\"credits\" => 3,\"nameCanonical\" => \"\"), Dict(\"curriculum_requisites\" => Dict{String,Any}[Dict(\"source_id\" => 1,\"target_id\" => 10,\"type\" => \"CurriculumCorequisite\")],\"name\" => \"ECE 175\",\"metrics\" => Dict{String,Any}(\"centrality\" => 0,\"complexity\" => 2.0,\"blocking factor\" => 0,\"delay factor\" => 2.0),\"nameSub\" => \"Programming for Eng. Apps.\",\"id\" => 10,\"credits\" => 3,\"nameCanonical\" => \"\"), Dict(\"curriculum_requisites\" => Dict{String,Any}[],\"name\" => \" \",\"metrics\" => Dict{String,Any}(\"centrality\" => 0,\"complexity\" => 1.0,\"blocking factor\" => 0,\"delay factor\" => 1.0),\"nameSub\" => \"Tier I General Ed. 1\",\"id\" => 11,\"credits\" => 3,\"nameCanonical\" => \"\")],\"id\" => 2), Dict(\"name\" => \"Term 3\",\"curriculum_items\" => Dict{String,Any}[Dict(\"curriculum_requisites\" => Dict{String,Any}[Dict(\"source_id\" => 8,\"target_id\" => 12,\"type\" => \"CurriculumPrerequisite\"), Dict(\"source_id\" => 6,\"target_id\" => 12,\"type\" => \"CurriculumPrerequisite\")],\"name\" => \"CE 214\",\"metrics\" => Dict{String,Any}(\"centrality\" => 264,\"complexity\" => 24.0,\"blocking factor\" => 15,\"delay factor\" => 9.0),\"nameSub\" => \"Statics\",\"id\" => 12,\"credits\" => 3,\"nameCanonical\" => \"\"), Dict(\"curriculum_requisites\" => Dict{String,Any}[Dict(\"source_id\" => 6,\"target_id\" => 13,\"type\" => \"CurriculumPrerequisite\")],\"name\" => \"MATH  223\",\"metrics\" => Dict{String,Any}(\"centrality\" => 252,\"complexity\" => 25.0,\"blocking factor\" => 16,\"delay factor\" => 9.0),\"nameSub\" => \"Vector Calculus\",\"id\" => 13,\"credits\" => 4,\"nameCanonical\" => \"\"), Dict(\"curriculum_requisites\" => Dict{String,Any}[Dict(\"source_id\" => 8,\"target_id\" => 14,\"type\" => \"CurriculumPrerequisite\"), Dict(\"source_id\" => 6,\"target_id\" => 14,\"type\" => \"CurriculumPrerequisite\")],\"name\" => \"PHYS 241\",\"metrics\" => Dict{String,Any}(\"centrality\" => 0,\"complexity\" => 3.0,\"blocking factor\" => 0,\"delay factor\" => 3.0),\"nameSub\" => \"Electricity & Magnetism\",\"id\" => 14,\"credits\" => 4,\"nameCanonical\" => \"\"), Dict(\"curriculum_requisites\" => Dict{String,Any}[Dict(\"source_id\" => 7,\"target_id\" => 15,\"type\" => \"CurriculumPrerequisite\")],\"name\" => \"AME  205\",\"metrics\" => Dict{String,Any}(\"centrality\" => 28,\"complexity\" => 15.0,\"blocking factor\" => 8,\"delay factor\" => 7.0),\"nameSub\" => \"Intro. To MATLAB II\",\"id\" => 15,\"credits\" => 1,\"nameCanonical\" => \"\"), Dict(\"curriculum_requisites\" => Dict{String,Any}[],\"name\" => \"AME 211\",\"metrics\" => Dict{String,Any}(\"centrality\" => 0,\"complexity\" => 1.0,\"blocking factor\" => 0,\"delay factor\" => 1.0),\"nameSub\" => \"Comp. Aided Drafting & Manufacturing\",\"id\" => 16,\"credits\" => 3,\"nameCanonical\" => \"\"), Dict(\"curriculum_requisites\" => Dict{String,Any}[],\"name\" => \" \",\"metrics\" => Dict{String,Any}(\"centrality\" => 0,\"complexity\" => 1.0,\"blocking factor\" => 0,\"delay factor\" => 1.0),\"nameSub\" => \"Tier I General Ed. 2\",\"id\" => 17,\"credits\" => 3,\"nameCanonical\" => \"\")],\"id\" => 3), Dict(\"name\" => \"Term 4\",\"curriculum_items\" => Dict{String,Any}[Dict(\"curriculum_requisites\" => Dict{String,Any}[Dict(\"source_id\" => 8,\"target_id\" => 18,\"type\" => \"CurriculumPrerequisite\")],\"name\" => \"AME 230\",\"metrics\" => Dict{String,Any}(\"centrality\" => 86,\"complexity\" => 19.0,\"blocking factor\" => 11,\"delay factor\" => 8.0),\"nameSub\" => \"Thermodynamics\",\"id\" => 18,\"credits\" => 3,\"nameCanonical\" => \"\"), Dict(\"curriculum_requisites\" => Dict{String,Any}[Dict(\"source_id\" => 12,\"target_id\" => 19,\"type\" => \"CurriculumPrerequisite\"), Dict(\"source_id\" => 20,\"target_id\" => 19,\"type\" => \"CurriculumCorequisite\")],\"name\" => \"AME 250\",\"metrics\" => Dict{String,Any}(\"centrality\" => 145,\"complexity\" => 19.0,\"blocking factor\" => 10,\"delay factor\" => 9.0),\"nameSub\" => \"Dynamics\",\"id\" => 19,\"credits\" => 3,\"nameCanonical\" => \"\"), Dict(\"curriculum_requisites\" => Dict{String,Any}[Dict(\"source_id\" => 13,\"target_id\" => 20,\"type\" => \"CurriculumPrerequisite\")],\"name\" => \"MATH 254\",\"metrics\" => Dict{String,Any}(\"centrality\" => 182,\"complexity\" => 24.0,\"blocking factor\" => 15,\"delay factor\" => 9.0),\"nameSub\" => \"Intro. to ODEs\",\"id\" => 20,\"credits\" => 3,\"nameCanonical\" => \"\"), Dict(\"curriculum_requisites\" => Dict{String,Any}[Dict(\"source_id\" => 13,\"target_id\" => 21,\"type\" => \"CurriculumPrerequisite\"), Dict(\"source_id\" => 8,\"target_id\" => 21,\"type\" => \"CurriculumPrerequisite\"), Dict(\"source_id\" => 20,\"target_id\" => 21,\"type\" => \"CurriculumCorequisite\")],\"name\" => \"AME 220\",\"metrics\" => Dict{String,Any}(\"centrality\" => 198,\"complexity\" => 17.0,\"blocking factor\" => 8,\"delay factor\" => 9.0),\"nameSub\" => \"Intro. to Aerospace Eng.\",\"id\" => 21,\"credits\" => 3,\"nameCanonical\" => \"\"), Dict(\"curriculum_requisites\" => Dict{String,Any}[],\"name\" => \" \",\"metrics\" => Dict{String,Any}(\"centrality\" => 0,\"complexity\" => 1.0,\"blocking factor\" => 0,\"delay factor\" => 1.0),\"nameSub\" => \"Tier I General Ed. 3\",\"id\" => 22,\"credits\" => 3,\"nameCanonical\" => \"\")],\"id\" => 4), Dict(\"name\" => \"Term 5\",\"curriculum_items\" => Dict{String,Any}[Dict(\"curriculum_requisites\" => Dict{String,Any}[Dict(\"source_id\" => 26,\"target_id\" => 23,\"type\" => \"CurriculumCorequisite\"), Dict(\"source_id\" => 21,\"target_id\" => 23,\"type\" => \"CurriculumPrerequisite\")],\"name\" => \"AME 320\",\"metrics\" => Dict{String,Any}(\"centrality\" => 214,\"complexity\" => 14.0,\"blocking factor\" => 5,\"delay factor\" => 9.0),\"nameSub\" => \"Aerodynamics\",\"id\" => 23,\"credits\" => 3,\"nameCanonical\" => \"\"), Dict(\"curriculum_requisites\" => Dict{String,Any}[Dict(\"source_id\" => 12,\"target_id\" => 24,\"type\" => \"CurriculumPrerequisite\")],\"name\" => \"AME  324A\",\"metrics\" => Dict{String,Any}(\"centrality\" => 172,\"complexity\" => 21.0,\"blocking factor\" => 12,\"delay factor\" => 9.0),\"nameSub\" => \"Mech. Behavior of Eng. Materials.\",\"id\" => 24,\"credits\" => 3,\"nameCanonical\" => \"\"), Dict(\"curriculum_requisites\" => Dict{String,Any}[Dict(\"source_id\" => 20,\"target_id\" => 25,\"type\" => \"CurriculumPrerequisite\")],\"name\" => \"AME 301\",\"metrics\" => Dict{String,Any}(\"centrality\" => 6,\"complexity\" => 7.0,\"blocking factor\" => 1,\"delay factor\" => 6.0),\"nameSub\" => \"Engineering Analysis\",\"id\" => 25,\"credits\" => 3,\"nameCanonical\" => \"\"), Dict(\"curriculum_requisites\" => Dict{String,Any}[Dict(\"source_id\" => 18,\"target_id\" => 26,\"type\" => \"CurriculumCorequisite\"), Dict(\"source_id\" => 24,\"target_id\" => 26,\"type\" => \"CurriculumCorequisite\")],\"name\" => \"AME 300\",\"metrics\" => Dict{String,Any}(\"centrality\" => 204,\"complexity\" => 19.0,\"blocking factor\" => 10,\"delay factor\" => 9.0),\"nameSub\" => \"Instrumentation Lab.\",\"id\" => 26,\"credits\" => 3,\"nameCanonical\" => \"\"), Dict(\"curriculum_requisites\" => Dict{String,Any}[Dict(\"source_id\" => 2,\"target_id\" => 27,\"type\" => \"CurriculumPrerequisite\")],\"name\" => \"MSE 331R\",\"metrics\" => Dict{String,Any}(\"centrality\" => 3,\"complexity\" => 4.0,\"blocking factor\" => 1,\"delay factor\" => 3.0),\"nameSub\" => \"Fund. of Materials for Engineers\",\"id\" => 27,\"credits\" => 3,\"nameCanonical\" => \"\"), Dict(\"curriculum_requisites\" => Dict{String,Any}[Dict(\"source_id\" => 24,\"target_id\" => 28,\"type\" => \"CurriculumCorequisite\")],\"name\" => \"AME 324L\",\"metrics\" => Dict{String,Any}(\"centrality\" => 0,\"complexity\" => 5.0,\"blocking factor\" => 0,\"delay factor\" => 5.0),\"nameSub\" => \"Mech. of Materials Lab.\",\"id\" => 28,\"credits\" => 1,\"nameCanonical\" => \"\")],\"id\" => 5), Dict(\"name\" => \"Term 6\",\"curriculum_items\" => Dict{String,Any}[Dict(\"curriculum_requisites\" => Dict{String,Any}[Dict(\"source_id\" => 25,\"target_id\" => 29,\"type\" => \"CurriculumPrerequisite\")],\"name\" => \"AME 324B\",\"metrics\" => Dict{String,Any}(\"centrality\" => 0,\"complexity\" => 6.0,\"blocking factor\" => 0,\"delay factor\" => 6.0),\"nameSub\" => \"Eng. Component Design\",\"id\" => 29,\"credits\" => 3,\"nameCanonical\" => \"\"), Dict(\"curriculum_requisites\" => Dict{String,Any}[Dict(\"source_id\" => 23,\"target_id\" => 30,\"type\" => \"CurriculumCorequisite\"), Dict(\"source_id\" => 19,\"target_id\" => 30,\"type\" => \"CurriculumPrerequisite\"), Dict(\"source_id\" => 21,\"target_id\" => 30,\"type\" => \"CurriculumPrerequisite\")],\"name\" => \"AME 321\",\"metrics\" => Dict{String,Any}(\"centrality\" => 174,\"complexity\" => 12.0,\"blocking factor\" => 3,\"delay factor\" => 9.0),\"nameSub\" => \"Aircraft Performance\",\"id\" => 30,\"credits\" => 3,\"nameCanonical\" => \"\"), Dict(\"curriculum_requisites\" => Dict{String,Any}[Dict(\"source_id\" => 18,\"target_id\" => 31,\"type\" => \"CurriculumPrerequisite\"), Dict(\"source_id\" => 32,\"target_id\" => 31,\"type\" => \"CurriculumCorequisite\"), Dict(\"source_id\" => 21,\"target_id\" => 31,\"type\" => \"CurriculumPrerequisite\"), Dict(\"source_id\" => 20,\"target_id\" => 31,\"type\" => \"CurriculumPrerequisite\")],\"name\" => \"AME 323\",\"metrics\" => Dict{String,Any}(\"centrality\" => 274,\"complexity\" => 13.0,\"blocking factor\" => 4,\"delay factor\" => 9.0),\"nameSub\" => \"Gasdynamics\",\"id\" => 31,\"credits\" => 3,\"nameCanonical\" => \"\"), Dict(\"curriculum_requisites\" => Dict{String,Any}[Dict(\"source_id\" => 26,\"target_id\" => 32,\"type\" => \"CurriculumCorequisite\"), Dict(\"source_id\" => 19,\"target_id\" => 32,\"type\" => \"CurriculumPrerequisite\"), Dict(\"source_id\" => 15,\"target_id\" => 32,\"type\" => \"CurriculumPrerequisite\"), Dict(\"source_id\" => 20,\"target_id\" => 32,\"type\" => \"CurriculumPrerequisite\")],\"name\" => \"AME 302\",\"metrics\" => Dict{String,Any}(\"centrality\" => 232,\"complexity\" => 15.0,\"blocking factor\" => 6,\"delay factor\" => 9.0),\"nameSub\" => \"Numerical Methods\",\"id\" => 32,\"credits\" => 3,\"nameCanonical\" => \"\"), Dict(\"curriculum_requisites\" => Dict{String,Any}[],\"name\" => \"AME 313\",\"metrics\" => Dict{String,Any}(\"centrality\" => 0,\"complexity\" => 5.0,\"blocking factor\" => 2,\"delay factor\" => 3.0),\"nameSub\" => \"Aero./Mech. Eng. Lab\",\"id\" => 33,\"credits\" => 1,\"nameCanonical\" => \"\"), Dict(\"curriculum_requisites\" => Dict{String,Any}[],\"name\" => \" \",\"metrics\" => Dict{String,Any}(\"centrality\" => 0,\"complexity\" => 1.0,\"blocking factor\" => 0,\"delay factor\" => 1.0),\"nameSub\" => \"Tier II General Ed. 1\",\"id\" => 34,\"credits\" => 3,\"nameCanonical\" => \"\")],\"id\" => 6), Dict(\"name\" => \"Term 7\",\"curriculum_items\" => Dict{String,Any}[Dict(\"curriculum_requisites\" => Dict{String,Any}[Dict(\"source_id\" => 23,\"target_id\" => 35,\"type\" => \"CurriculumPrerequisite\"), Dict(\"source_id\" => 31,\"target_id\" => 35,\"type\" => \"CurriculumPrerequisite\"), Dict(\"source_id\" => 27,\"target_id\" => 35,\"type\" => \"CurriculumPrerequisite\")],\"name\" => \"AME 401\",\"metrics\" => Dict{String,Any}(\"centrality\" => 0,\"complexity\" => 8.0,\"blocking factor\" => 0,\"delay factor\" => 8.0),\"nameSub\" => \"Senior Aerospace Lab.\",\"id\" => 35,\"credits\" => 3,\"nameCanonical\" => \"\"), Dict(\"curriculum_requisites\" => Dict{String,Any}[Dict(\"source_id\" => 23,\"target_id\" => 36,\"type\" => \"CurriculumPrerequisite\"), Dict(\"source_id\" => 31,\"target_id\" => 36,\"type\" => \"CurriculumPrerequisite\"), Dict(\"source_id\" => 33,\"target_id\" => 36,\"type\" => \"CurriculumPrerequisite\"), Dict(\"source_id\" => 30,\"target_id\" => 36,\"type\" => \"CurriculumPrerequisite\")],\"name\" => \"AME 420\",\"metrics\" => Dict{String,Any}(\"centrality\" => 240,\"complexity\" => 10.0,\"blocking factor\" => 1,\"delay factor\" => 9.0),\"nameSub\" => \"Aerospace Conceptual Design\",\"id\" => 36,\"credits\" => 3,\"nameCanonical\" => \"\"), Dict(\"curriculum_requisites\" => Dict{String,Any}[Dict(\"source_id\" => 24,\"target_id\" => 37,\"type\" => \"CurriculumPrerequisite\"), Dict(\"source_id\" => 31,\"target_id\" => 37,\"type\" => \"CurriculumPrerequisite\"), Dict(\"source_id\" => 18,\"target_id\" => 37,\"type\" => \"CurriculumPrerequisite\")],\"name\" => \"AME 425\",\"metrics\" => Dict{String,Any}(\"centrality\" => 0,\"complexity\" => 8.0,\"blocking factor\" => 0,\"delay factor\" => 8.0),\"nameSub\" => \"Aerospace Propulsion\",\"id\" => 37,\"credits\" => 3,\"nameCanonical\" => \"\"), Dict(\"curriculum_requisites\" => Dict{String,Any}[Dict(\"source_id\" => 23,\"target_id\" => 38,\"type\" => \"CurriculumPrerequisite\"), Dict(\"source_id\" => 15,\"target_id\" => 38,\"type\" => \"CurriculumPrerequisite\"), Dict(\"source_id\" => 30,\"target_id\" => 38,\"type\" => \"CurriculumPrerequisite\")],\"name\" => \"AME 427\",\"metrics\" => Dict{String,Any}(\"centrality\" => 0,\"complexity\" => 8.0,\"blocking factor\" => 0,\"delay factor\" => 8.0),\"nameSub\" => \"Stability and Control of Aero. Vehicles\",\"id\" => 38,\"credits\" => 3,\"nameCanonical\" => \"\"), Dict(\"curriculum_requisites\" => Dict{String,Any}[Dict(\"source_id\" => 13,\"target_id\" => 39,\"type\" => \"CurriculumPrerequisite\"), Dict(\"source_id\" => 19,\"target_id\" => 39,\"type\" => \"CurriculumPrerequisite\")],\"name\" => \"AME 457\",\"metrics\" => Dict{String,Any}(\"centrality\" => 0,\"complexity\" => 6.0,\"blocking factor\" => 0,\"delay factor\" => 6.0),\"nameSub\" => \"Orbital Mechanicans and Space Flt.\",\"id\" => 39,\"credits\" => 3,\"nameCanonical\" => \"\"), Dict(\"curriculum_requisites\" => Dict{String,Any}[],\"name\" => \"AME 495S\",\"metrics\" => Dict{String,Any}(\"centrality\" => 0,\"complexity\" => 1.0,\"blocking factor\" => 0,\"delay factor\" => 1.0),\"nameSub\" => \"Senior Colloquium\",\"id\" => 40,\"credits\" => 1,\"nameCanonical\" => \"\")],\"id\" => 7), Dict(\"name\" => \"Term 8\",\"curriculum_items\" => Dict{String,Any}[Dict(\"curriculum_requisites\" => Dict{String,Any}[Dict(\"source_id\" => 36,\"target_id\" => 41,\"type\" => \"CurriculumPrerequisite\"), Dict(\"source_id\" => 33,\"target_id\" => 41,\"type\" => \"CurriculumCorequisite\")],\"name\" => \"AME 422\",\"metrics\" => Dict{String,Any}(\"centrality\" => 0,\"complexity\" => 9.0,\"blocking factor\" => 0,\"delay factor\" => 9.0),\"nameSub\" => \"Aerospace Eng.Design\",\"id\" => 41,\"credits\" => 3,\"nameCanonical\" => \"\"), Dict(\"curriculum_requisites\" => Dict{String,Any}[Dict(\"source_id\" => 24,\"target_id\" => 42,\"type\" => \"CurriculumPrerequisite\"), Dict(\"source_id\" => 32,\"target_id\" => 42,\"type\" => \"CurriculumPrerequisite\"), Dict(\"source_id\" => 18,\"target_id\" => 42,\"type\" => \"CurriculumPrerequisite\")],\"name\" => \"AME 431\",\"metrics\" => Dict{String,Any}(\"centrality\" => 0,\"complexity\" => 7.0,\"blocking factor\" => 0,\"delay factor\" => 7.0),\"nameSub\" => \"Num. Meth. in Fluid Mech. & Heat Xfer\",\"id\" => 42,\"credits\" => 3,\"nameCanonical\" => \"\"), Dict(\"curriculum_requisites\" => Dict{String,Any}[],\"name\" => \" \",\"metrics\" => Dict{String,Any}(\"centrality\" => 0,\"complexity\" => 1.0,\"blocking factor\" => 0,\"delay factor\" => 1.0),\"nameSub\" => \"Technical Elective 1\",\"id\" => 43,\"credits\" => 3,\"nameCanonical\" => \"\"), Dict(\"curriculum_requisites\" => Dict{String,Any}[],\"name\" => \" \",\"metrics\" => Dict{String,Any}(\"centrality\" => 0,\"complexity\" => 1.0,\"blocking factor\" => 0,\"delay factor\" => 1.0),\"nameSub\" => \"Technical Elective 2\",\"id\" => 44,\"credits\" => 3,\"nameCanonical\" => \"\"), Dict(\"curriculum_requisites\" => Dict{String,Any}[],\"name\" => \" \",\"metrics\" => Dict{String,Any}(\"centrality\" => 0,\"complexity\" => 1.0,\"blocking factor\" => 0,\"delay factor\" => 1.0),\"nameSub\" => \"Tier II General Ed. 2\",\"id\" => 45,\"credits\" => 3,\"nameCanonical\" => \"\")],\"id\" => 8)],\"institution\" => \"University of Arizona\")), nothing)), Set{String}(), nothing, WebIO.Asset[], Dict{Any,Any}(), WebIO.ConnectionPool(Channel{Any}(sz_max:32,sz_curr:0), Set{WebIO.AbstractConnection}(), Base.GenericCondition{Base.AlwaysLockedST}(Base.InvasiveLinkedList{Task}(Task (runnable) @0x0000000135cf1b10, Task (runnable) @0x0000000135cf1b10), Base.AlwaysLockedST(1))), WebIO.JSString[])"
      ]
     },
     "execution_count": 2,
     "metadata": {
      "application/vnd.webio.node+json": {
       "kernelId": "dff7beeb-d49f-44d2-aef4-f66943ad8ef1"
      }
     },
     "output_type": "execute_result"
    }
   ],
   "source": [
    "AE_degree_plan = read_csv(\"Univ_of_Arizona-Aero.csv\")\n",
    "visualize(AE_degree_plan, notebook=true, scale=0.8)"
   ]
  },
  {
   "cell_type": "code",
   "execution_count": 3,
   "metadata": {},
   "outputs": [
    {
     "data": {
      "text/plain": [
       "Dict{String,Any} with 8 entries:\n",
       "  \"total credit hours\"         => 129\n",
       "  \"avg. credits per term\"      => 16.125\n",
       "  \"min. credits in a term\"     => 15\n",
       "  \"term credit hour std. dev.\" => 0.927025\n",
       "  \"number of terms\"            => 8\n",
       "  \"max. credits in a term\"     => 18\n",
       "  \"min. credit term\"           => 4\n",
       "  \"max. credit term\"           => 3"
      ]
     },
     "execution_count": 3,
     "metadata": {},
     "output_type": "execute_result"
    }
   ],
   "source": [
    "basic_metrics(AE_degree_plan)\n",
    "AE_degree_plan.metrics"
   ]
  },
  {
   "cell_type": "code",
   "execution_count": 4,
   "metadata": {
    "scrolled": false
   },
   "outputs": [
    {
     "data": {
      "application/vnd.webio.node+json": {
       "children": [
        {
         "children": [
          ""
         ],
         "instanceArgs": {
          "namespace": "html",
          "tag": "iframe"
         },
         "nodeType": "DOM",
         "props": {
          "events": {
           "load": "(function (){this.contentWindow.postMessage({\"options\":{\"hideTerms\":false,\"edit\":false},\"curriculum\":{\"name\":\"Computer Science\",\"dp_name\":\"2019-20 Degree Plan\",\"curriculum_terms\":[{\"name\":\"Term 1\",\"curriculum_items\":[{\"curriculum_requisites\":[{\"source_id\":2,\"target_id\":1,\"type\":\"CurriculumCorequisite\"}],\"name\":\"CSC 110\",\"metrics\":{\"centrality\":25,\"complexity\":12.0,\"blocking factor\":7,\"delay factor\":5.0},\"nameSub\":\"Intro to Computer Programming I\",\"id\":1,\"credits\":4,\"nameCanonical\":\"\"},{\"curriculum_requisites\":[],\"name\":\"MATH 120R\",\"metrics\":{\"centrality\":0,\"complexity\":15.0,\"blocking factor\":10,\"delay factor\":5.0},\"nameSub\":\"Pre-Calculus\",\"id\":2,\"credits\":4,\"nameCanonical\":\"\"},{\"curriculum_requisites\":[],\"name\":\"ENGL 101\",\"metrics\":{\"centrality\":0,\"complexity\":3.0,\"blocking factor\":1,\"delay factor\":2.0},\"nameSub\":\"English Composition I\",\"id\":3,\"credits\":3,\"nameCanonical\":\"\"},{\"curriculum_requisites\":[],\"name\":\" \",\"metrics\":{\"centrality\":0,\"complexity\":3.0,\"blocking factor\":1,\"delay factor\":2.0},\"nameSub\":\"1st Semester Second Language\",\"id\":4,\"credits\":4,\"nameCanonical\":\"\"}],\"id\":1},{\"name\":\"Term 2\",\"curriculum_items\":[{\"curriculum_requisites\":[{\"source_id\":1,\"target_id\":5,\"type\":\"CurriculumPrerequisite\"}],\"name\":\"CSC 120\",\"metrics\":{\"centrality\":25,\"complexity\":11.0,\"blocking factor\":6,\"delay factor\":5.0},\"nameSub\":\"Intro to Computer Programming II\",\"id\":5,\"credits\":4,\"nameCanonical\":\"\"},{\"curriculum_requisites\":[{\"source_id\":2,\"target_id\":6,\"type\":\"CurriculumPrerequisite\"}],\"name\":\"MATH 122A/B\",\"metrics\":{\"centrality\":3,\"complexity\":4.0,\"blocking factor\":1,\"delay factor\":3.0},\"nameSub\":\"Calculus I\",\"id\":6,\"credits\":5,\"nameCanonical\":\"\"},{\"curriculum_requisites\":[{\"source_id\":3,\"target_id\":7,\"type\":\"CurriculumPrerequisite\"}],\"name\":\"ENGL 102\",\"metrics\":{\"centrality\":0,\"complexity\":2.0,\"blocking factor\":0,\"delay factor\":2.0},\"nameSub\":\"English Composition II\",\"id\":7,\"credits\":4,\"nameCanonical\":\"\"},{\"curriculum_requisites\":[{\"source_id\":4,\"target_id\":8,\"type\":\"CurriculumPrerequisite\"}],\"name\":\" \",\"metrics\":{\"centrality\":0,\"complexity\":2.0,\"blocking factor\":0,\"delay factor\":2.0},\"nameSub\":\"2nd Semester Second Language\",\"id\":8,\"credits\":4,\"nameCanonical\":\"\"}],\"id\":2},{\"name\":\"Term 3\",\"curriculum_items\":[{\"curriculum_requisites\":[{\"source_id\":5,\"target_id\":9,\"type\":\"CurriculumPrerequisite\"}],\"name\":\"CSC 210\",\"metrics\":{\"centrality\":20,\"complexity\":9.0,\"blocking factor\":4,\"delay factor\":5.0},\"nameSub\":\"Software Development\",\"id\":9,\"credits\":4,\"nameCanonical\":\"\"},{\"curriculum_requisites\":[{\"source_id\":5,\"target_id\":10,\"type\":\"CurriculumPrerequisite\"}],\"name\":\"CSC 245\",\"metrics\":{\"centrality\":5,\"complexity\":6.0,\"blocking factor\":1,\"delay factor\":5.0},\"nameSub\":\"Intro to Discrete Structures\",\"id\":10,\"credits\":3,\"nameCanonical\":\"\"},{\"curriculum_requisites\":[{\"source_id\":6,\"target_id\":11,\"type\":\"CurriculumPrerequisite\"}],\"name\":\"MATH 129\",\"metrics\":{\"centrality\":0,\"complexity\":3.0,\"blocking factor\":0,\"delay factor\":3.0},\"nameSub\":\"Calculus II\",\"id\":11,\"credits\":3,\"nameCanonical\":\"\"},{\"curriculum_requisites\":[],\"name\":\" \",\"metrics\":{\"centrality\":0,\"complexity\":1.0,\"blocking factor\":0,\"delay factor\":1.0},\"nameSub\":\"Tier 1 General Education 1\",\"id\":12,\"credits\":3,\"nameCanonical\":\"\"},{\"curriculum_requisites\":[],\"name\":\" \",\"metrics\":{\"centrality\":0,\"complexity\":1.0,\"blocking factor\":0,\"delay factor\":1.0},\"nameSub\":\"Tier 1 General Education 2\",\"id\":13,\"credits\":3,\"nameCanonical\":\"\"}],\"id\":3},{\"name\":\"Term 4\",\"curriculum_items\":[{\"curriculum_requisites\":[{\"source_id\":9,\"target_id\":14,\"type\":\"CurriculumPrerequisite\"}],\"name\":\"CSC 252\",\"metrics\":{\"centrality\":0,\"complexity\":5.0,\"blocking factor\":0,\"delay factor\":5.0},\"nameSub\":\"Computer Organization\",\"id\":14,\"credits\":3,\"nameCanonical\":\"\"},{\"curriculum_requisites\":[{\"source_id\":9,\"target_id\":15,\"type\":\"CurriculumPrerequisite\"}],\"name\":\"CSC 352\",\"metrics\":{\"centrality\":0,\"complexity\":5.0,\"blocking factor\":0,\"delay factor\":5.0},\"nameSub\":\"Systems Programming & Unix\",\"id\":15,\"credits\":3,\"nameCanonical\":\"\"},{\"curriculum_requisites\":[],\"name\":\" \",\"metrics\":{\"centrality\":0,\"complexity\":1.0,\"blocking factor\":0,\"delay factor\":1.0},\"nameSub\":\"Supporting Science #1\",\"id\":16,\"credits\":4,\"nameCanonical\":\"\"},{\"curriculum_requisites\":[],\"name\":\" \",\"metrics\":{\"centrality\":0,\"complexity\":1.0,\"blocking factor\":0,\"delay factor\":1.0},\"nameSub\":\"Tier 1 General Education 3\",\"id\":17,\"credits\":3,\"nameCanonical\":\"\"},{\"curriculum_requisites\":[],\"name\":\" \",\"metrics\":{\"centrality\":0,\"complexity\":1.0,\"blocking factor\":0,\"delay factor\":1.0},\"nameSub\":\"Tier 1 General Education 4\",\"id\":18,\"credits\":3,\"nameCanonical\":\"\"}],\"id\":4},{\"name\":\"Term 5\",\"curriculum_items\":[{\"curriculum_requisites\":[{\"source_id\":9,\"target_id\":19,\"type\":\"CurriculumPrerequisite\"}],\"name\":\"CSC 335\",\"metrics\":{\"centrality\":0,\"complexity\":5.0,\"blocking factor\":0,\"delay factor\":5.0},\"nameSub\":\"Object-Oriented Programming\",\"id\":19,\"credits\":3,\"nameCanonical\":\"\"},{\"curriculum_requisites\":[{\"source_id\":9,\"target_id\":20,\"type\":\"CurriculumPrerequisite\"},{\"source_id\":10,\"target_id\":20,\"type\":\"CurriculumPrerequisite\"}],\"name\":\"CSC 345\",\"metrics\":{\"centrality\":0,\"complexity\":5.0,\"blocking factor\":0,\"delay factor\":5.0},\"nameSub\":\"Analysis of Discrete Structures\",\"id\":20,\"credits\":3,\"nameCanonical\":\"\"},{\"curriculum_requisites\":[],\"name\":\" \",\"metrics\":{\"centrality\":0,\"complexity\":1.0,\"blocking factor\":0,\"delay factor\":1.0},\"nameSub\":\"Supporting Science #2\",\"id\":21,\"credits\":4,\"nameCanonical\":\"\"},{\"curriculum_requisites\":[],\"name\":\" \",\"metrics\":{\"centrality\":0,\"complexity\":1.0,\"blocking factor\":0,\"delay factor\":1.0},\"nameSub\":\"Tier 2 Gen Ed/Upper-Division 1\",\"id\":22,\"credits\":3,\"nameCanonical\":\"\"},{\"curriculum_requisites\":[],\"name\":\" \",\"metrics\":{\"centrality\":0,\"complexity\":1.0,\"blocking factor\":0,\"delay factor\":1.0},\"nameSub\":\"Upper-Division Elective\",\"id\":23,\"credits\":3,\"nameCanonical\":\"\"}],\"id\":5},{\"name\":\"Term 6\",\"curriculum_items\":[{\"curriculum_requisites\":[],\"name\":\"CSC \",\"metrics\":{\"centrality\":0,\"complexity\":1.0,\"blocking factor\":0,\"delay factor\":1.0},\"nameSub\":\"CSC Paradigms Elective\",\"id\":24,\"credits\":3,\"nameCanonical\":\"\"},{\"curriculum_requisites\":[],\"name\":\"CSC \",\"metrics\":{\"centrality\":0,\"complexity\":1.0,\"blocking factor\":0,\"delay factor\":1.0},\"nameSub\":\"CSC 400-Level Elective 1\",\"id\":25,\"credits\":3,\"nameCanonical\":\"\"},{\"curriculum_requisites\":[],\"name\":\" \",\"metrics\":{\"centrality\":0,\"complexity\":1.0,\"blocking factor\":0,\"delay factor\":1.0},\"nameSub\":\"Tier 2 Gen Ed/Upper-Division 2\",\"id\":26,\"credits\":3,\"nameCanonical\":\"\"},{\"curriculum_requisites\":[],\"name\":\" \",\"metrics\":{\"centrality\":0,\"complexity\":1.0,\"blocking factor\":0,\"delay factor\":1.0},\"nameSub\":\"Tier 2 Gen Ed/Upper-Division 3\",\"id\":27,\"credits\":3,\"nameCanonical\":\"\"},{\"curriculum_requisites\":[],\"name\":\" \",\"metrics\":{\"centrality\":0,\"complexity\":1.0,\"blocking factor\":0,\"delay factor\":1.0},\"nameSub\":\"Elective 1\",\"id\":28,\"credits\":3,\"nameCanonical\":\"\"}],\"id\":6},{\"name\":\"Term 7\",\"curriculum_items\":[{\"curriculum_requisites\":[],\"name\":\"CSC \",\"metrics\":{\"centrality\":0,\"complexity\":1.0,\"blocking factor\":0,\"delay factor\":1.0},\"nameSub\":\"CSC Theory & Writing Elective\",\"id\":29,\"credits\":3,\"nameCanonical\":\"\"},{\"curriculum_requisites\":[],\"name\":\"CSC \",\"metrics\":{\"centrality\":0,\"complexity\":1.0,\"blocking factor\":0,\"delay factor\":1.0},\"nameSub\":\"CSC 400-Level Elective 2\",\"id\":30,\"credits\":3,\"nameCanonical\":\"\"},{\"curriculum_requisites\":[],\"name\":\" \",\"metrics\":{\"centrality\":0,\"complexity\":1.0,\"blocking factor\":0,\"delay factor\":1.0},\"nameSub\":\"Elective 2\",\"id\":31,\"credits\":3,\"nameCanonical\":\"\"},{\"curriculum_requisites\":[],\"name\":\" \",\"metrics\":{\"centrality\":0,\"complexity\":1.0,\"blocking factor\":0,\"delay factor\":1.0},\"nameSub\":\"Elective 3\",\"id\":32,\"credits\":3,\"nameCanonical\":\"\"},{\"curriculum_requisites\":[],\"name\":\" \",\"metrics\":{\"centrality\":0,\"complexity\":1.0,\"blocking factor\":0,\"delay factor\":1.0},\"nameSub\":\"Elective 4\",\"id\":33,\"credits\":3,\"nameCanonical\":\"\"}],\"id\":7},{\"name\":\"Term 8\",\"curriculum_items\":[{\"curriculum_requisites\":[],\"name\":\"CSC \",\"metrics\":{\"centrality\":0,\"complexity\":1.0,\"blocking factor\":0,\"delay factor\":1.0},\"nameSub\":\"CSC Systems Elective\",\"id\":34,\"credits\":3,\"nameCanonical\":\"\"},{\"curriculum_requisites\":[],\"name\":\"CSC \",\"metrics\":{\"centrality\":0,\"complexity\":1.0,\"blocking factor\":0,\"delay factor\":1.0},\"nameSub\":\"CSC 300/400-Level Elective\",\"id\":35,\"credits\":3,\"nameCanonical\":\"\"},{\"curriculum_requisites\":[],\"name\":\" \",\"metrics\":{\"centrality\":0,\"complexity\":1.0,\"blocking factor\":0,\"delay factor\":1.0},\"nameSub\":\"Upper-Division Elective 1\",\"id\":36,\"credits\":3,\"nameCanonical\":\"\"},{\"curriculum_requisites\":[],\"name\":\" \",\"metrics\":{\"centrality\":0,\"complexity\":1.0,\"blocking factor\":0,\"delay factor\":1.0},\"nameSub\":\"Upper-Division Elective 2\",\"id\":37,\"credits\":3,\"nameCanonical\":\"\"}],\"id\":8}],\"institution\":\"University of Arizona\"}},\"*\"); window.removeEventListener(\"message\",window.messageReceived); window.messageReceived=(function (event){return (event.data.curriculum!==undefined) ? (WebIO.setval({\"name\":\"curriculum-data\",\"scope\":\"3221921586379286137\",\"id\":\"4424863433952078102\",\"type\":\"observable\"},event.data.curriculum)) : undefined}); return window.addEventListener(\"message\",window.messageReceived)})"
          },
          "id": "curriculum",
          "src": "http://localhost:8156",
          "style": {
           "border": "none",
           "height": "80vh",
           "margin": "0",
           "padding": "0",
           "width": "100%"
          }
         },
         "type": "node"
        }
       ],
       "instanceArgs": {
        "handlers": {},
        "id": "3221921586379286137",
        "imports": {
         "data": [],
         "type": "async_block"
        },
        "mount_callbacks": [],
        "observables": {
         "curriculum-data": {
          "id": "4424863433952078102",
          "sync": true,
          "value": {
           "curriculum": {
            "curriculum_terms": [
             {
              "curriculum_items": [
               {
                "credits": 4,
                "curriculum_requisites": [
                 {
                  "source_id": 2,
                  "target_id": 1,
                  "type": "CurriculumCorequisite"
                 }
                ],
                "id": 1,
                "metrics": {
                 "blocking factor": 7,
                 "centrality": 25,
                 "complexity": 12,
                 "delay factor": 5
                },
                "name": "CSC 110",
                "nameCanonical": "",
                "nameSub": "Intro to Computer Programming I"
               },
               {
                "credits": 4,
                "curriculum_requisites": [],
                "id": 2,
                "metrics": {
                 "blocking factor": 10,
                 "centrality": 0,
                 "complexity": 15,
                 "delay factor": 5
                },
                "name": "MATH 120R",
                "nameCanonical": "",
                "nameSub": "Pre-Calculus"
               },
               {
                "credits": 3,
                "curriculum_requisites": [],
                "id": 3,
                "metrics": {
                 "blocking factor": 1,
                 "centrality": 0,
                 "complexity": 3,
                 "delay factor": 2
                },
                "name": "ENGL 101",
                "nameCanonical": "",
                "nameSub": "English Composition I"
               },
               {
                "credits": 4,
                "curriculum_requisites": [],
                "id": 4,
                "metrics": {
                 "blocking factor": 1,
                 "centrality": 0,
                 "complexity": 3,
                 "delay factor": 2
                },
                "name": " ",
                "nameCanonical": "",
                "nameSub": "1st Semester Second Language"
               }
              ],
              "id": 1,
              "name": "Term 1"
             },
             {
              "curriculum_items": [
               {
                "credits": 4,
                "curriculum_requisites": [
                 {
                  "source_id": 1,
                  "target_id": 5,
                  "type": "CurriculumPrerequisite"
                 }
                ],
                "id": 5,
                "metrics": {
                 "blocking factor": 6,
                 "centrality": 25,
                 "complexity": 11,
                 "delay factor": 5
                },
                "name": "CSC 120",
                "nameCanonical": "",
                "nameSub": "Intro to Computer Programming II"
               },
               {
                "credits": 5,
                "curriculum_requisites": [
                 {
                  "source_id": 2,
                  "target_id": 6,
                  "type": "CurriculumPrerequisite"
                 }
                ],
                "id": 6,
                "metrics": {
                 "blocking factor": 1,
                 "centrality": 3,
                 "complexity": 4,
                 "delay factor": 3
                },
                "name": "MATH 122A/B",
                "nameCanonical": "",
                "nameSub": "Calculus I"
               },
               {
                "credits": 4,
                "curriculum_requisites": [
                 {
                  "source_id": 3,
                  "target_id": 7,
                  "type": "CurriculumPrerequisite"
                 }
                ],
                "id": 7,
                "metrics": {
                 "blocking factor": 0,
                 "centrality": 0,
                 "complexity": 2,
                 "delay factor": 2
                },
                "name": "ENGL 102",
                "nameCanonical": "",
                "nameSub": "English Composition II"
               },
               {
                "credits": 4,
                "curriculum_requisites": [
                 {
                  "source_id": 4,
                  "target_id": 8,
                  "type": "CurriculumPrerequisite"
                 }
                ],
                "id": 8,
                "metrics": {
                 "blocking factor": 0,
                 "centrality": 0,
                 "complexity": 2,
                 "delay factor": 2
                },
                "name": " ",
                "nameCanonical": "",
                "nameSub": "2nd Semester Second Language"
               }
              ],
              "id": 2,
              "name": "Term 2"
             },
             {
              "curriculum_items": [
               {
                "credits": 4,
                "curriculum_requisites": [
                 {
                  "source_id": 5,
                  "target_id": 9,
                  "type": "CurriculumPrerequisite"
                 }
                ],
                "id": 9,
                "metrics": {
                 "blocking factor": 4,
                 "centrality": 20,
                 "complexity": 9,
                 "delay factor": 5
                },
                "name": "CSC 210",
                "nameCanonical": "",
                "nameSub": "Software Development"
               },
               {
                "credits": 3,
                "curriculum_requisites": [
                 {
                  "source_id": 5,
                  "target_id": 10,
                  "type": "CurriculumPrerequisite"
                 }
                ],
                "id": 10,
                "metrics": {
                 "blocking factor": 1,
                 "centrality": 5,
                 "complexity": 6,
                 "delay factor": 5
                },
                "name": "CSC 245",
                "nameCanonical": "",
                "nameSub": "Intro to Discrete Structures"
               },
               {
                "credits": 3,
                "curriculum_requisites": [
                 {
                  "source_id": 6,
                  "target_id": 11,
                  "type": "CurriculumPrerequisite"
                 }
                ],
                "id": 11,
                "metrics": {
                 "blocking factor": 0,
                 "centrality": 0,
                 "complexity": 3,
                 "delay factor": 3
                },
                "name": "MATH 129",
                "nameCanonical": "",
                "nameSub": "Calculus II"
               },
               {
                "credits": 3,
                "curriculum_requisites": [],
                "id": 12,
                "metrics": {
                 "blocking factor": 0,
                 "centrality": 0,
                 "complexity": 1,
                 "delay factor": 1
                },
                "name": " ",
                "nameCanonical": "",
                "nameSub": "Tier 1 General Education 1"
               },
               {
                "credits": 3,
                "curriculum_requisites": [],
                "id": 13,
                "metrics": {
                 "blocking factor": 0,
                 "centrality": 0,
                 "complexity": 1,
                 "delay factor": 1
                },
                "name": " ",
                "nameCanonical": "",
                "nameSub": "Tier 1 General Education 2"
               }
              ],
              "id": 3,
              "name": "Term 3"
             },
             {
              "curriculum_items": [
               {
                "credits": 3,
                "curriculum_requisites": [
                 {
                  "source_id": 9,
                  "target_id": 14,
                  "type": "CurriculumPrerequisite"
                 }
                ],
                "id": 14,
                "metrics": {
                 "blocking factor": 0,
                 "centrality": 0,
                 "complexity": 5,
                 "delay factor": 5
                },
                "name": "CSC 252",
                "nameCanonical": "",
                "nameSub": "Computer Organization"
               },
               {
                "credits": 3,
                "curriculum_requisites": [
                 {
                  "source_id": 9,
                  "target_id": 15,
                  "type": "CurriculumPrerequisite"
                 }
                ],
                "id": 15,
                "metrics": {
                 "blocking factor": 0,
                 "centrality": 0,
                 "complexity": 5,
                 "delay factor": 5
                },
                "name": "CSC 352",
                "nameCanonical": "",
                "nameSub": "Systems Programming & Unix"
               },
               {
                "credits": 4,
                "curriculum_requisites": [],
                "id": 16,
                "metrics": {
                 "blocking factor": 0,
                 "centrality": 0,
                 "complexity": 1,
                 "delay factor": 1
                },
                "name": " ",
                "nameCanonical": "",
                "nameSub": "Supporting Science #1"
               },
               {
                "credits": 3,
                "curriculum_requisites": [],
                "id": 17,
                "metrics": {
                 "blocking factor": 0,
                 "centrality": 0,
                 "complexity": 1,
                 "delay factor": 1
                },
                "name": " ",
                "nameCanonical": "",
                "nameSub": "Tier 1 General Education 3"
               },
               {
                "credits": 3,
                "curriculum_requisites": [],
                "id": 18,
                "metrics": {
                 "blocking factor": 0,
                 "centrality": 0,
                 "complexity": 1,
                 "delay factor": 1
                },
                "name": " ",
                "nameCanonical": "",
                "nameSub": "Tier 1 General Education 4"
               }
              ],
              "id": 4,
              "name": "Term 4"
             },
             {
              "curriculum_items": [
               {
                "credits": 3,
                "curriculum_requisites": [
                 {
                  "source_id": 9,
                  "target_id": 19,
                  "type": "CurriculumPrerequisite"
                 }
                ],
                "id": 19,
                "metrics": {
                 "blocking factor": 0,
                 "centrality": 0,
                 "complexity": 5,
                 "delay factor": 5
                },
                "name": "CSC 335",
                "nameCanonical": "",
                "nameSub": "Object-Oriented Programming"
               },
               {
                "credits": 3,
                "curriculum_requisites": [
                 {
                  "source_id": 9,
                  "target_id": 20,
                  "type": "CurriculumPrerequisite"
                 },
                 {
                  "source_id": 10,
                  "target_id": 20,
                  "type": "CurriculumPrerequisite"
                 }
                ],
                "id": 20,
                "metrics": {
                 "blocking factor": 0,
                 "centrality": 0,
                 "complexity": 5,
                 "delay factor": 5
                },
                "name": "CSC 345",
                "nameCanonical": "",
                "nameSub": "Analysis of Discrete Structures"
               },
               {
                "credits": 4,
                "curriculum_requisites": [],
                "id": 21,
                "metrics": {
                 "blocking factor": 0,
                 "centrality": 0,
                 "complexity": 1,
                 "delay factor": 1
                },
                "name": " ",
                "nameCanonical": "",
                "nameSub": "Supporting Science #2"
               },
               {
                "credits": 3,
                "curriculum_requisites": [],
                "id": 22,
                "metrics": {
                 "blocking factor": 0,
                 "centrality": 0,
                 "complexity": 1,
                 "delay factor": 1
                },
                "name": " ",
                "nameCanonical": "",
                "nameSub": "Tier 2 Gen Ed/Upper-Division 1"
               },
               {
                "credits": 3,
                "curriculum_requisites": [],
                "id": 23,
                "metrics": {
                 "blocking factor": 0,
                 "centrality": 0,
                 "complexity": 1,
                 "delay factor": 1
                },
                "name": " ",
                "nameCanonical": "",
                "nameSub": "Upper-Division Elective"
               }
              ],
              "id": 5,
              "name": "Term 5"
             },
             {
              "curriculum_items": [
               {
                "credits": 3,
                "curriculum_requisites": [],
                "id": 24,
                "metrics": {
                 "blocking factor": 0,
                 "centrality": 0,
                 "complexity": 1,
                 "delay factor": 1
                },
                "name": "CSC ",
                "nameCanonical": "",
                "nameSub": "CSC Paradigms Elective"
               },
               {
                "credits": 3,
                "curriculum_requisites": [],
                "id": 25,
                "metrics": {
                 "blocking factor": 0,
                 "centrality": 0,
                 "complexity": 1,
                 "delay factor": 1
                },
                "name": "CSC ",
                "nameCanonical": "",
                "nameSub": "CSC 400-Level Elective 1"
               },
               {
                "credits": 3,
                "curriculum_requisites": [],
                "id": 26,
                "metrics": {
                 "blocking factor": 0,
                 "centrality": 0,
                 "complexity": 1,
                 "delay factor": 1
                },
                "name": " ",
                "nameCanonical": "",
                "nameSub": "Tier 2 Gen Ed/Upper-Division 2"
               },
               {
                "credits": 3,
                "curriculum_requisites": [],
                "id": 27,
                "metrics": {
                 "blocking factor": 0,
                 "centrality": 0,
                 "complexity": 1,
                 "delay factor": 1
                },
                "name": " ",
                "nameCanonical": "",
                "nameSub": "Tier 2 Gen Ed/Upper-Division 3"
               },
               {
                "credits": 3,
                "curriculum_requisites": [],
                "id": 28,
                "metrics": {
                 "blocking factor": 0,
                 "centrality": 0,
                 "complexity": 1,
                 "delay factor": 1
                },
                "name": " ",
                "nameCanonical": "",
                "nameSub": "Elective 1"
               }
              ],
              "id": 6,
              "name": "Term 6"
             },
             {
              "curriculum_items": [
               {
                "credits": 3,
                "curriculum_requisites": [],
                "id": 29,
                "metrics": {
                 "blocking factor": 0,
                 "centrality": 0,
                 "complexity": 1,
                 "delay factor": 1
                },
                "name": "CSC ",
                "nameCanonical": "",
                "nameSub": "CSC Theory & Writing Elective"
               },
               {
                "credits": 3,
                "curriculum_requisites": [],
                "id": 30,
                "metrics": {
                 "blocking factor": 0,
                 "centrality": 0,
                 "complexity": 1,
                 "delay factor": 1
                },
                "name": "CSC ",
                "nameCanonical": "",
                "nameSub": "CSC 400-Level Elective 2"
               },
               {
                "credits": 3,
                "curriculum_requisites": [],
                "id": 31,
                "metrics": {
                 "blocking factor": 0,
                 "centrality": 0,
                 "complexity": 1,
                 "delay factor": 1
                },
                "name": " ",
                "nameCanonical": "",
                "nameSub": "Elective 2"
               },
               {
                "credits": 3,
                "curriculum_requisites": [],
                "id": 32,
                "metrics": {
                 "blocking factor": 0,
                 "centrality": 0,
                 "complexity": 1,
                 "delay factor": 1
                },
                "name": " ",
                "nameCanonical": "",
                "nameSub": "Elective 3"
               },
               {
                "credits": 3,
                "curriculum_requisites": [],
                "id": 33,
                "metrics": {
                 "blocking factor": 0,
                 "centrality": 0,
                 "complexity": 1,
                 "delay factor": 1
                },
                "name": " ",
                "nameCanonical": "",
                "nameSub": "Elective 4"
               }
              ],
              "id": 7,
              "name": "Term 7"
             },
             {
              "curriculum_items": [
               {
                "credits": 3,
                "curriculum_requisites": [],
                "id": 34,
                "metrics": {
                 "blocking factor": 0,
                 "centrality": 0,
                 "complexity": 1,
                 "delay factor": 1
                },
                "name": "CSC ",
                "nameCanonical": "",
                "nameSub": "CSC Systems Elective"
               },
               {
                "credits": 3,
                "curriculum_requisites": [],
                "id": 35,
                "metrics": {
                 "blocking factor": 0,
                 "centrality": 0,
                 "complexity": 1,
                 "delay factor": 1
                },
                "name": "CSC ",
                "nameCanonical": "",
                "nameSub": "CSC 300/400-Level Elective"
               },
               {
                "credits": 3,
                "curriculum_requisites": [],
                "id": 36,
                "metrics": {
                 "blocking factor": 0,
                 "centrality": 0,
                 "complexity": 1,
                 "delay factor": 1
                },
                "name": " ",
                "nameCanonical": "",
                "nameSub": "Upper-Division Elective 1"
               },
               {
                "credits": 3,
                "curriculum_requisites": [],
                "id": 37,
                "metrics": {
                 "blocking factor": 0,
                 "centrality": 0,
                 "complexity": 1,
                 "delay factor": 1
                },
                "name": " ",
                "nameCanonical": "",
                "nameSub": "Upper-Division Elective 2"
               }
              ],
              "id": 8,
              "name": "Term 8"
             }
            ],
            "dp_name": "2019-20 Degree Plan",
            "institution": "University of Arizona",
            "name": "Computer Science"
           },
           "options": {
            "edit": false,
            "hideTerms": false
           }
          }
         }
        },
        "systemjs_options": null
       },
       "nodeType": "Scope",
       "props": {},
       "type": "node"
      },
      "text/html": [
       "<div\n",
       "    class=\"webio-mountpoint\"\n",
       "    data-webio-mountpoint=\"6111088668279420134\"\n",
       ">\n",
       "    <script>\n",
       "    if (window.require && require.defined && require.defined(\"nbextensions/webio-jupyter-notebook\")) {\n",
       "        console.log(\"Jupyter WebIO extension detected, not mounting.\");\n",
       "    } else if (window.WebIO) {\n",
       "        WebIO.mount(\n",
       "            document.querySelector('[data-webio-mountpoint=\"6111088668279420134\"]'),\n",
       "            {\"props\":{},\"nodeType\":\"Scope\",\"type\":\"node\",\"instanceArgs\":{\"imports\":{\"data\":[],\"type\":\"async_block\"},\"id\":\"3221921586379286137\",\"handlers\":{},\"systemjs_options\":null,\"mount_callbacks\":[],\"observables\":{\"curriculum-data\":{\"sync\":true,\"id\":\"4424863433952078102\",\"value\":{\"options\":{\"hideTerms\":false,\"edit\":false},\"curriculum\":{\"name\":\"Computer Science\",\"dp_name\":\"2019-20 Degree Plan\",\"curriculum_terms\":[{\"name\":\"Term 1\",\"curriculum_items\":[{\"curriculum_requisites\":[{\"source_id\":2,\"target_id\":1,\"type\":\"CurriculumCorequisite\"}],\"name\":\"CSC 110\",\"metrics\":{\"centrality\":25,\"complexity\":12.0,\"blocking factor\":7,\"delay factor\":5.0},\"nameSub\":\"Intro to Computer Programming I\",\"id\":1,\"credits\":4,\"nameCanonical\":\"\"},{\"curriculum_requisites\":[],\"name\":\"MATH 120R\",\"metrics\":{\"centrality\":0,\"complexity\":15.0,\"blocking factor\":10,\"delay factor\":5.0},\"nameSub\":\"Pre-Calculus\",\"id\":2,\"credits\":4,\"nameCanonical\":\"\"},{\"curriculum_requisites\":[],\"name\":\"ENGL 101\",\"metrics\":{\"centrality\":0,\"complexity\":3.0,\"blocking factor\":1,\"delay factor\":2.0},\"nameSub\":\"English Composition I\",\"id\":3,\"credits\":3,\"nameCanonical\":\"\"},{\"curriculum_requisites\":[],\"name\":\" \",\"metrics\":{\"centrality\":0,\"complexity\":3.0,\"blocking factor\":1,\"delay factor\":2.0},\"nameSub\":\"1st Semester Second Language\",\"id\":4,\"credits\":4,\"nameCanonical\":\"\"}],\"id\":1},{\"name\":\"Term 2\",\"curriculum_items\":[{\"curriculum_requisites\":[{\"source_id\":1,\"target_id\":5,\"type\":\"CurriculumPrerequisite\"}],\"name\":\"CSC 120\",\"metrics\":{\"centrality\":25,\"complexity\":11.0,\"blocking factor\":6,\"delay factor\":5.0},\"nameSub\":\"Intro to Computer Programming II\",\"id\":5,\"credits\":4,\"nameCanonical\":\"\"},{\"curriculum_requisites\":[{\"source_id\":2,\"target_id\":6,\"type\":\"CurriculumPrerequisite\"}],\"name\":\"MATH 122A\\/B\",\"metrics\":{\"centrality\":3,\"complexity\":4.0,\"blocking factor\":1,\"delay factor\":3.0},\"nameSub\":\"Calculus I\",\"id\":6,\"credits\":5,\"nameCanonical\":\"\"},{\"curriculum_requisites\":[{\"source_id\":3,\"target_id\":7,\"type\":\"CurriculumPrerequisite\"}],\"name\":\"ENGL 102\",\"metrics\":{\"centrality\":0,\"complexity\":2.0,\"blocking factor\":0,\"delay factor\":2.0},\"nameSub\":\"English Composition II\",\"id\":7,\"credits\":4,\"nameCanonical\":\"\"},{\"curriculum_requisites\":[{\"source_id\":4,\"target_id\":8,\"type\":\"CurriculumPrerequisite\"}],\"name\":\" \",\"metrics\":{\"centrality\":0,\"complexity\":2.0,\"blocking factor\":0,\"delay factor\":2.0},\"nameSub\":\"2nd Semester Second Language\",\"id\":8,\"credits\":4,\"nameCanonical\":\"\"}],\"id\":2},{\"name\":\"Term 3\",\"curriculum_items\":[{\"curriculum_requisites\":[{\"source_id\":5,\"target_id\":9,\"type\":\"CurriculumPrerequisite\"}],\"name\":\"CSC 210\",\"metrics\":{\"centrality\":20,\"complexity\":9.0,\"blocking factor\":4,\"delay factor\":5.0},\"nameSub\":\"Software Development\",\"id\":9,\"credits\":4,\"nameCanonical\":\"\"},{\"curriculum_requisites\":[{\"source_id\":5,\"target_id\":10,\"type\":\"CurriculumPrerequisite\"}],\"name\":\"CSC 245\",\"metrics\":{\"centrality\":5,\"complexity\":6.0,\"blocking factor\":1,\"delay factor\":5.0},\"nameSub\":\"Intro to Discrete Structures\",\"id\":10,\"credits\":3,\"nameCanonical\":\"\"},{\"curriculum_requisites\":[{\"source_id\":6,\"target_id\":11,\"type\":\"CurriculumPrerequisite\"}],\"name\":\"MATH 129\",\"metrics\":{\"centrality\":0,\"complexity\":3.0,\"blocking factor\":0,\"delay factor\":3.0},\"nameSub\":\"Calculus II\",\"id\":11,\"credits\":3,\"nameCanonical\":\"\"},{\"curriculum_requisites\":[],\"name\":\" \",\"metrics\":{\"centrality\":0,\"complexity\":1.0,\"blocking factor\":0,\"delay factor\":1.0},\"nameSub\":\"Tier 1 General Education 1\",\"id\":12,\"credits\":3,\"nameCanonical\":\"\"},{\"curriculum_requisites\":[],\"name\":\" \",\"metrics\":{\"centrality\":0,\"complexity\":1.0,\"blocking factor\":0,\"delay factor\":1.0},\"nameSub\":\"Tier 1 General Education 2\",\"id\":13,\"credits\":3,\"nameCanonical\":\"\"}],\"id\":3},{\"name\":\"Term 4\",\"curriculum_items\":[{\"curriculum_requisites\":[{\"source_id\":9,\"target_id\":14,\"type\":\"CurriculumPrerequisite\"}],\"name\":\"CSC 252\",\"metrics\":{\"centrality\":0,\"complexity\":5.0,\"blocking factor\":0,\"delay factor\":5.0},\"nameSub\":\"Computer Organization\",\"id\":14,\"credits\":3,\"nameCanonical\":\"\"},{\"curriculum_requisites\":[{\"source_id\":9,\"target_id\":15,\"type\":\"CurriculumPrerequisite\"}],\"name\":\"CSC 352\",\"metrics\":{\"centrality\":0,\"complexity\":5.0,\"blocking factor\":0,\"delay factor\":5.0},\"nameSub\":\"Systems Programming & Unix\",\"id\":15,\"credits\":3,\"nameCanonical\":\"\"},{\"curriculum_requisites\":[],\"name\":\" \",\"metrics\":{\"centrality\":0,\"complexity\":1.0,\"blocking factor\":0,\"delay factor\":1.0},\"nameSub\":\"Supporting Science #1\",\"id\":16,\"credits\":4,\"nameCanonical\":\"\"},{\"curriculum_requisites\":[],\"name\":\" \",\"metrics\":{\"centrality\":0,\"complexity\":1.0,\"blocking factor\":0,\"delay factor\":1.0},\"nameSub\":\"Tier 1 General Education 3\",\"id\":17,\"credits\":3,\"nameCanonical\":\"\"},{\"curriculum_requisites\":[],\"name\":\" \",\"metrics\":{\"centrality\":0,\"complexity\":1.0,\"blocking factor\":0,\"delay factor\":1.0},\"nameSub\":\"Tier 1 General Education 4\",\"id\":18,\"credits\":3,\"nameCanonical\":\"\"}],\"id\":4},{\"name\":\"Term 5\",\"curriculum_items\":[{\"curriculum_requisites\":[{\"source_id\":9,\"target_id\":19,\"type\":\"CurriculumPrerequisite\"}],\"name\":\"CSC 335\",\"metrics\":{\"centrality\":0,\"complexity\":5.0,\"blocking factor\":0,\"delay factor\":5.0},\"nameSub\":\"Object-Oriented Programming\",\"id\":19,\"credits\":3,\"nameCanonical\":\"\"},{\"curriculum_requisites\":[{\"source_id\":9,\"target_id\":20,\"type\":\"CurriculumPrerequisite\"},{\"source_id\":10,\"target_id\":20,\"type\":\"CurriculumPrerequisite\"}],\"name\":\"CSC 345\",\"metrics\":{\"centrality\":0,\"complexity\":5.0,\"blocking factor\":0,\"delay factor\":5.0},\"nameSub\":\"Analysis of Discrete Structures\",\"id\":20,\"credits\":3,\"nameCanonical\":\"\"},{\"curriculum_requisites\":[],\"name\":\" \",\"metrics\":{\"centrality\":0,\"complexity\":1.0,\"blocking factor\":0,\"delay factor\":1.0},\"nameSub\":\"Supporting Science #2\",\"id\":21,\"credits\":4,\"nameCanonical\":\"\"},{\"curriculum_requisites\":[],\"name\":\" \",\"metrics\":{\"centrality\":0,\"complexity\":1.0,\"blocking factor\":0,\"delay factor\":1.0},\"nameSub\":\"Tier 2 Gen Ed\\/Upper-Division 1\",\"id\":22,\"credits\":3,\"nameCanonical\":\"\"},{\"curriculum_requisites\":[],\"name\":\" \",\"metrics\":{\"centrality\":0,\"complexity\":1.0,\"blocking factor\":0,\"delay factor\":1.0},\"nameSub\":\"Upper-Division Elective\",\"id\":23,\"credits\":3,\"nameCanonical\":\"\"}],\"id\":5},{\"name\":\"Term 6\",\"curriculum_items\":[{\"curriculum_requisites\":[],\"name\":\"CSC \",\"metrics\":{\"centrality\":0,\"complexity\":1.0,\"blocking factor\":0,\"delay factor\":1.0},\"nameSub\":\"CSC Paradigms Elective\",\"id\":24,\"credits\":3,\"nameCanonical\":\"\"},{\"curriculum_requisites\":[],\"name\":\"CSC \",\"metrics\":{\"centrality\":0,\"complexity\":1.0,\"blocking factor\":0,\"delay factor\":1.0},\"nameSub\":\"CSC 400-Level Elective 1\",\"id\":25,\"credits\":3,\"nameCanonical\":\"\"},{\"curriculum_requisites\":[],\"name\":\" \",\"metrics\":{\"centrality\":0,\"complexity\":1.0,\"blocking factor\":0,\"delay factor\":1.0},\"nameSub\":\"Tier 2 Gen Ed\\/Upper-Division 2\",\"id\":26,\"credits\":3,\"nameCanonical\":\"\"},{\"curriculum_requisites\":[],\"name\":\" \",\"metrics\":{\"centrality\":0,\"complexity\":1.0,\"blocking factor\":0,\"delay factor\":1.0},\"nameSub\":\"Tier 2 Gen Ed\\/Upper-Division 3\",\"id\":27,\"credits\":3,\"nameCanonical\":\"\"},{\"curriculum_requisites\":[],\"name\":\" \",\"metrics\":{\"centrality\":0,\"complexity\":1.0,\"blocking factor\":0,\"delay factor\":1.0},\"nameSub\":\"Elective 1\",\"id\":28,\"credits\":3,\"nameCanonical\":\"\"}],\"id\":6},{\"name\":\"Term 7\",\"curriculum_items\":[{\"curriculum_requisites\":[],\"name\":\"CSC \",\"metrics\":{\"centrality\":0,\"complexity\":1.0,\"blocking factor\":0,\"delay factor\":1.0},\"nameSub\":\"CSC Theory & Writing Elective\",\"id\":29,\"credits\":3,\"nameCanonical\":\"\"},{\"curriculum_requisites\":[],\"name\":\"CSC \",\"metrics\":{\"centrality\":0,\"complexity\":1.0,\"blocking factor\":0,\"delay factor\":1.0},\"nameSub\":\"CSC 400-Level Elective 2\",\"id\":30,\"credits\":3,\"nameCanonical\":\"\"},{\"curriculum_requisites\":[],\"name\":\" \",\"metrics\":{\"centrality\":0,\"complexity\":1.0,\"blocking factor\":0,\"delay factor\":1.0},\"nameSub\":\"Elective 2\",\"id\":31,\"credits\":3,\"nameCanonical\":\"\"},{\"curriculum_requisites\":[],\"name\":\" \",\"metrics\":{\"centrality\":0,\"complexity\":1.0,\"blocking factor\":0,\"delay factor\":1.0},\"nameSub\":\"Elective 3\",\"id\":32,\"credits\":3,\"nameCanonical\":\"\"},{\"curriculum_requisites\":[],\"name\":\" \",\"metrics\":{\"centrality\":0,\"complexity\":1.0,\"blocking factor\":0,\"delay factor\":1.0},\"nameSub\":\"Elective 4\",\"id\":33,\"credits\":3,\"nameCanonical\":\"\"}],\"id\":7},{\"name\":\"Term 8\",\"curriculum_items\":[{\"curriculum_requisites\":[],\"name\":\"CSC \",\"metrics\":{\"centrality\":0,\"complexity\":1.0,\"blocking factor\":0,\"delay factor\":1.0},\"nameSub\":\"CSC Systems Elective\",\"id\":34,\"credits\":3,\"nameCanonical\":\"\"},{\"curriculum_requisites\":[],\"name\":\"CSC \",\"metrics\":{\"centrality\":0,\"complexity\":1.0,\"blocking factor\":0,\"delay factor\":1.0},\"nameSub\":\"CSC 300\\/400-Level Elective\",\"id\":35,\"credits\":3,\"nameCanonical\":\"\"},{\"curriculum_requisites\":[],\"name\":\" \",\"metrics\":{\"centrality\":0,\"complexity\":1.0,\"blocking factor\":0,\"delay factor\":1.0},\"nameSub\":\"Upper-Division Elective 1\",\"id\":36,\"credits\":3,\"nameCanonical\":\"\"},{\"curriculum_requisites\":[],\"name\":\" \",\"metrics\":{\"centrality\":0,\"complexity\":1.0,\"blocking factor\":0,\"delay factor\":1.0},\"nameSub\":\"Upper-Division Elective 2\",\"id\":37,\"credits\":3,\"nameCanonical\":\"\"}],\"id\":8}],\"institution\":\"University of Arizona\"}}}}},\"children\":[{\"props\":{\"src\":\"http:\\/\\/localhost:8156\",\"id\":\"curriculum\",\"events\":{\"load\":\"(function (){this.contentWindow.postMessage({\\\"options\\\":{\\\"hideTerms\\\":false,\\\"edit\\\":false},\\\"curriculum\\\":{\\\"name\\\":\\\"Computer Science\\\",\\\"dp_name\\\":\\\"2019-20 Degree Plan\\\",\\\"curriculum_terms\\\":[{\\\"name\\\":\\\"Term 1\\\",\\\"curriculum_items\\\":[{\\\"curriculum_requisites\\\":[{\\\"source_id\\\":2,\\\"target_id\\\":1,\\\"type\\\":\\\"CurriculumCorequisite\\\"}],\\\"name\\\":\\\"CSC 110\\\",\\\"metrics\\\":{\\\"centrality\\\":25,\\\"complexity\\\":12.0,\\\"blocking factor\\\":7,\\\"delay factor\\\":5.0},\\\"nameSub\\\":\\\"Intro to Computer Programming I\\\",\\\"id\\\":1,\\\"credits\\\":4,\\\"nameCanonical\\\":\\\"\\\"},{\\\"curriculum_requisites\\\":[],\\\"name\\\":\\\"MATH 120R\\\",\\\"metrics\\\":{\\\"centrality\\\":0,\\\"complexity\\\":15.0,\\\"blocking factor\\\":10,\\\"delay factor\\\":5.0},\\\"nameSub\\\":\\\"Pre-Calculus\\\",\\\"id\\\":2,\\\"credits\\\":4,\\\"nameCanonical\\\":\\\"\\\"},{\\\"curriculum_requisites\\\":[],\\\"name\\\":\\\"ENGL 101\\\",\\\"metrics\\\":{\\\"centrality\\\":0,\\\"complexity\\\":3.0,\\\"blocking factor\\\":1,\\\"delay factor\\\":2.0},\\\"nameSub\\\":\\\"English Composition I\\\",\\\"id\\\":3,\\\"credits\\\":3,\\\"nameCanonical\\\":\\\"\\\"},{\\\"curriculum_requisites\\\":[],\\\"name\\\":\\\" \\\",\\\"metrics\\\":{\\\"centrality\\\":0,\\\"complexity\\\":3.0,\\\"blocking factor\\\":1,\\\"delay factor\\\":2.0},\\\"nameSub\\\":\\\"1st Semester Second Language\\\",\\\"id\\\":4,\\\"credits\\\":4,\\\"nameCanonical\\\":\\\"\\\"}],\\\"id\\\":1},{\\\"name\\\":\\\"Term 2\\\",\\\"curriculum_items\\\":[{\\\"curriculum_requisites\\\":[{\\\"source_id\\\":1,\\\"target_id\\\":5,\\\"type\\\":\\\"CurriculumPrerequisite\\\"}],\\\"name\\\":\\\"CSC 120\\\",\\\"metrics\\\":{\\\"centrality\\\":25,\\\"complexity\\\":11.0,\\\"blocking factor\\\":6,\\\"delay factor\\\":5.0},\\\"nameSub\\\":\\\"Intro to Computer Programming II\\\",\\\"id\\\":5,\\\"credits\\\":4,\\\"nameCanonical\\\":\\\"\\\"},{\\\"curriculum_requisites\\\":[{\\\"source_id\\\":2,\\\"target_id\\\":6,\\\"type\\\":\\\"CurriculumPrerequisite\\\"}],\\\"name\\\":\\\"MATH 122A\\/B\\\",\\\"metrics\\\":{\\\"centrality\\\":3,\\\"complexity\\\":4.0,\\\"blocking factor\\\":1,\\\"delay factor\\\":3.0},\\\"nameSub\\\":\\\"Calculus I\\\",\\\"id\\\":6,\\\"credits\\\":5,\\\"nameCanonical\\\":\\\"\\\"},{\\\"curriculum_requisites\\\":[{\\\"source_id\\\":3,\\\"target_id\\\":7,\\\"type\\\":\\\"CurriculumPrerequisite\\\"}],\\\"name\\\":\\\"ENGL 102\\\",\\\"metrics\\\":{\\\"centrality\\\":0,\\\"complexity\\\":2.0,\\\"blocking factor\\\":0,\\\"delay factor\\\":2.0},\\\"nameSub\\\":\\\"English Composition II\\\",\\\"id\\\":7,\\\"credits\\\":4,\\\"nameCanonical\\\":\\\"\\\"},{\\\"curriculum_requisites\\\":[{\\\"source_id\\\":4,\\\"target_id\\\":8,\\\"type\\\":\\\"CurriculumPrerequisite\\\"}],\\\"name\\\":\\\" \\\",\\\"metrics\\\":{\\\"centrality\\\":0,\\\"complexity\\\":2.0,\\\"blocking factor\\\":0,\\\"delay factor\\\":2.0},\\\"nameSub\\\":\\\"2nd Semester Second Language\\\",\\\"id\\\":8,\\\"credits\\\":4,\\\"nameCanonical\\\":\\\"\\\"}],\\\"id\\\":2},{\\\"name\\\":\\\"Term 3\\\",\\\"curriculum_items\\\":[{\\\"curriculum_requisites\\\":[{\\\"source_id\\\":5,\\\"target_id\\\":9,\\\"type\\\":\\\"CurriculumPrerequisite\\\"}],\\\"name\\\":\\\"CSC 210\\\",\\\"metrics\\\":{\\\"centrality\\\":20,\\\"complexity\\\":9.0,\\\"blocking factor\\\":4,\\\"delay factor\\\":5.0},\\\"nameSub\\\":\\\"Software Development\\\",\\\"id\\\":9,\\\"credits\\\":4,\\\"nameCanonical\\\":\\\"\\\"},{\\\"curriculum_requisites\\\":[{\\\"source_id\\\":5,\\\"target_id\\\":10,\\\"type\\\":\\\"CurriculumPrerequisite\\\"}],\\\"name\\\":\\\"CSC 245\\\",\\\"metrics\\\":{\\\"centrality\\\":5,\\\"complexity\\\":6.0,\\\"blocking factor\\\":1,\\\"delay factor\\\":5.0},\\\"nameSub\\\":\\\"Intro to Discrete Structures\\\",\\\"id\\\":10,\\\"credits\\\":3,\\\"nameCanonical\\\":\\\"\\\"},{\\\"curriculum_requisites\\\":[{\\\"source_id\\\":6,\\\"target_id\\\":11,\\\"type\\\":\\\"CurriculumPrerequisite\\\"}],\\\"name\\\":\\\"MATH 129\\\",\\\"metrics\\\":{\\\"centrality\\\":0,\\\"complexity\\\":3.0,\\\"blocking factor\\\":0,\\\"delay factor\\\":3.0},\\\"nameSub\\\":\\\"Calculus II\\\",\\\"id\\\":11,\\\"credits\\\":3,\\\"nameCanonical\\\":\\\"\\\"},{\\\"curriculum_requisites\\\":[],\\\"name\\\":\\\" \\\",\\\"metrics\\\":{\\\"centrality\\\":0,\\\"complexity\\\":1.0,\\\"blocking factor\\\":0,\\\"delay factor\\\":1.0},\\\"nameSub\\\":\\\"Tier 1 General Education 1\\\",\\\"id\\\":12,\\\"credits\\\":3,\\\"nameCanonical\\\":\\\"\\\"},{\\\"curriculum_requisites\\\":[],\\\"name\\\":\\\" \\\",\\\"metrics\\\":{\\\"centrality\\\":0,\\\"complexity\\\":1.0,\\\"blocking factor\\\":0,\\\"delay factor\\\":1.0},\\\"nameSub\\\":\\\"Tier 1 General Education 2\\\",\\\"id\\\":13,\\\"credits\\\":3,\\\"nameCanonical\\\":\\\"\\\"}],\\\"id\\\":3},{\\\"name\\\":\\\"Term 4\\\",\\\"curriculum_items\\\":[{\\\"curriculum_requisites\\\":[{\\\"source_id\\\":9,\\\"target_id\\\":14,\\\"type\\\":\\\"CurriculumPrerequisite\\\"}],\\\"name\\\":\\\"CSC 252\\\",\\\"metrics\\\":{\\\"centrality\\\":0,\\\"complexity\\\":5.0,\\\"blocking factor\\\":0,\\\"delay factor\\\":5.0},\\\"nameSub\\\":\\\"Computer Organization\\\",\\\"id\\\":14,\\\"credits\\\":3,\\\"nameCanonical\\\":\\\"\\\"},{\\\"curriculum_requisites\\\":[{\\\"source_id\\\":9,\\\"target_id\\\":15,\\\"type\\\":\\\"CurriculumPrerequisite\\\"}],\\\"name\\\":\\\"CSC 352\\\",\\\"metrics\\\":{\\\"centrality\\\":0,\\\"complexity\\\":5.0,\\\"blocking factor\\\":0,\\\"delay factor\\\":5.0},\\\"nameSub\\\":\\\"Systems Programming & Unix\\\",\\\"id\\\":15,\\\"credits\\\":3,\\\"nameCanonical\\\":\\\"\\\"},{\\\"curriculum_requisites\\\":[],\\\"name\\\":\\\" \\\",\\\"metrics\\\":{\\\"centrality\\\":0,\\\"complexity\\\":1.0,\\\"blocking factor\\\":0,\\\"delay factor\\\":1.0},\\\"nameSub\\\":\\\"Supporting Science #1\\\",\\\"id\\\":16,\\\"credits\\\":4,\\\"nameCanonical\\\":\\\"\\\"},{\\\"curriculum_requisites\\\":[],\\\"name\\\":\\\" \\\",\\\"metrics\\\":{\\\"centrality\\\":0,\\\"complexity\\\":1.0,\\\"blocking factor\\\":0,\\\"delay factor\\\":1.0},\\\"nameSub\\\":\\\"Tier 1 General Education 3\\\",\\\"id\\\":17,\\\"credits\\\":3,\\\"nameCanonical\\\":\\\"\\\"},{\\\"curriculum_requisites\\\":[],\\\"name\\\":\\\" \\\",\\\"metrics\\\":{\\\"centrality\\\":0,\\\"complexity\\\":1.0,\\\"blocking factor\\\":0,\\\"delay factor\\\":1.0},\\\"nameSub\\\":\\\"Tier 1 General Education 4\\\",\\\"id\\\":18,\\\"credits\\\":3,\\\"nameCanonical\\\":\\\"\\\"}],\\\"id\\\":4},{\\\"name\\\":\\\"Term 5\\\",\\\"curriculum_items\\\":[{\\\"curriculum_requisites\\\":[{\\\"source_id\\\":9,\\\"target_id\\\":19,\\\"type\\\":\\\"CurriculumPrerequisite\\\"}],\\\"name\\\":\\\"CSC 335\\\",\\\"metrics\\\":{\\\"centrality\\\":0,\\\"complexity\\\":5.0,\\\"blocking factor\\\":0,\\\"delay factor\\\":5.0},\\\"nameSub\\\":\\\"Object-Oriented Programming\\\",\\\"id\\\":19,\\\"credits\\\":3,\\\"nameCanonical\\\":\\\"\\\"},{\\\"curriculum_requisites\\\":[{\\\"source_id\\\":9,\\\"target_id\\\":20,\\\"type\\\":\\\"CurriculumPrerequisite\\\"},{\\\"source_id\\\":10,\\\"target_id\\\":20,\\\"type\\\":\\\"CurriculumPrerequisite\\\"}],\\\"name\\\":\\\"CSC 345\\\",\\\"metrics\\\":{\\\"centrality\\\":0,\\\"complexity\\\":5.0,\\\"blocking factor\\\":0,\\\"delay factor\\\":5.0},\\\"nameSub\\\":\\\"Analysis of Discrete Structures\\\",\\\"id\\\":20,\\\"credits\\\":3,\\\"nameCanonical\\\":\\\"\\\"},{\\\"curriculum_requisites\\\":[],\\\"name\\\":\\\" \\\",\\\"metrics\\\":{\\\"centrality\\\":0,\\\"complexity\\\":1.0,\\\"blocking factor\\\":0,\\\"delay factor\\\":1.0},\\\"nameSub\\\":\\\"Supporting Science #2\\\",\\\"id\\\":21,\\\"credits\\\":4,\\\"nameCanonical\\\":\\\"\\\"},{\\\"curriculum_requisites\\\":[],\\\"name\\\":\\\" \\\",\\\"metrics\\\":{\\\"centrality\\\":0,\\\"complexity\\\":1.0,\\\"blocking factor\\\":0,\\\"delay factor\\\":1.0},\\\"nameSub\\\":\\\"Tier 2 Gen Ed\\/Upper-Division 1\\\",\\\"id\\\":22,\\\"credits\\\":3,\\\"nameCanonical\\\":\\\"\\\"},{\\\"curriculum_requisites\\\":[],\\\"name\\\":\\\" \\\",\\\"metrics\\\":{\\\"centrality\\\":0,\\\"complexity\\\":1.0,\\\"blocking factor\\\":0,\\\"delay factor\\\":1.0},\\\"nameSub\\\":\\\"Upper-Division Elective\\\",\\\"id\\\":23,\\\"credits\\\":3,\\\"nameCanonical\\\":\\\"\\\"}],\\\"id\\\":5},{\\\"name\\\":\\\"Term 6\\\",\\\"curriculum_items\\\":[{\\\"curriculum_requisites\\\":[],\\\"name\\\":\\\"CSC \\\",\\\"metrics\\\":{\\\"centrality\\\":0,\\\"complexity\\\":1.0,\\\"blocking factor\\\":0,\\\"delay factor\\\":1.0},\\\"nameSub\\\":\\\"CSC Paradigms Elective\\\",\\\"id\\\":24,\\\"credits\\\":3,\\\"nameCanonical\\\":\\\"\\\"},{\\\"curriculum_requisites\\\":[],\\\"name\\\":\\\"CSC \\\",\\\"metrics\\\":{\\\"centrality\\\":0,\\\"complexity\\\":1.0,\\\"blocking factor\\\":0,\\\"delay factor\\\":1.0},\\\"nameSub\\\":\\\"CSC 400-Level Elective 1\\\",\\\"id\\\":25,\\\"credits\\\":3,\\\"nameCanonical\\\":\\\"\\\"},{\\\"curriculum_requisites\\\":[],\\\"name\\\":\\\" \\\",\\\"metrics\\\":{\\\"centrality\\\":0,\\\"complexity\\\":1.0,\\\"blocking factor\\\":0,\\\"delay factor\\\":1.0},\\\"nameSub\\\":\\\"Tier 2 Gen Ed\\/Upper-Division 2\\\",\\\"id\\\":26,\\\"credits\\\":3,\\\"nameCanonical\\\":\\\"\\\"},{\\\"curriculum_requisites\\\":[],\\\"name\\\":\\\" \\\",\\\"metrics\\\":{\\\"centrality\\\":0,\\\"complexity\\\":1.0,\\\"blocking factor\\\":0,\\\"delay factor\\\":1.0},\\\"nameSub\\\":\\\"Tier 2 Gen Ed\\/Upper-Division 3\\\",\\\"id\\\":27,\\\"credits\\\":3,\\\"nameCanonical\\\":\\\"\\\"},{\\\"curriculum_requisites\\\":[],\\\"name\\\":\\\" \\\",\\\"metrics\\\":{\\\"centrality\\\":0,\\\"complexity\\\":1.0,\\\"blocking factor\\\":0,\\\"delay factor\\\":1.0},\\\"nameSub\\\":\\\"Elective 1\\\",\\\"id\\\":28,\\\"credits\\\":3,\\\"nameCanonical\\\":\\\"\\\"}],\\\"id\\\":6},{\\\"name\\\":\\\"Term 7\\\",\\\"curriculum_items\\\":[{\\\"curriculum_requisites\\\":[],\\\"name\\\":\\\"CSC \\\",\\\"metrics\\\":{\\\"centrality\\\":0,\\\"complexity\\\":1.0,\\\"blocking factor\\\":0,\\\"delay factor\\\":1.0},\\\"nameSub\\\":\\\"CSC Theory & Writing Elective\\\",\\\"id\\\":29,\\\"credits\\\":3,\\\"nameCanonical\\\":\\\"\\\"},{\\\"curriculum_requisites\\\":[],\\\"name\\\":\\\"CSC \\\",\\\"metrics\\\":{\\\"centrality\\\":0,\\\"complexity\\\":1.0,\\\"blocking factor\\\":0,\\\"delay factor\\\":1.0},\\\"nameSub\\\":\\\"CSC 400-Level Elective 2\\\",\\\"id\\\":30,\\\"credits\\\":3,\\\"nameCanonical\\\":\\\"\\\"},{\\\"curriculum_requisites\\\":[],\\\"name\\\":\\\" \\\",\\\"metrics\\\":{\\\"centrality\\\":0,\\\"complexity\\\":1.0,\\\"blocking factor\\\":0,\\\"delay factor\\\":1.0},\\\"nameSub\\\":\\\"Elective 2\\\",\\\"id\\\":31,\\\"credits\\\":3,\\\"nameCanonical\\\":\\\"\\\"},{\\\"curriculum_requisites\\\":[],\\\"name\\\":\\\" \\\",\\\"metrics\\\":{\\\"centrality\\\":0,\\\"complexity\\\":1.0,\\\"blocking factor\\\":0,\\\"delay factor\\\":1.0},\\\"nameSub\\\":\\\"Elective 3\\\",\\\"id\\\":32,\\\"credits\\\":3,\\\"nameCanonical\\\":\\\"\\\"},{\\\"curriculum_requisites\\\":[],\\\"name\\\":\\\" \\\",\\\"metrics\\\":{\\\"centrality\\\":0,\\\"complexity\\\":1.0,\\\"blocking factor\\\":0,\\\"delay factor\\\":1.0},\\\"nameSub\\\":\\\"Elective 4\\\",\\\"id\\\":33,\\\"credits\\\":3,\\\"nameCanonical\\\":\\\"\\\"}],\\\"id\\\":7},{\\\"name\\\":\\\"Term 8\\\",\\\"curriculum_items\\\":[{\\\"curriculum_requisites\\\":[],\\\"name\\\":\\\"CSC \\\",\\\"metrics\\\":{\\\"centrality\\\":0,\\\"complexity\\\":1.0,\\\"blocking factor\\\":0,\\\"delay factor\\\":1.0},\\\"nameSub\\\":\\\"CSC Systems Elective\\\",\\\"id\\\":34,\\\"credits\\\":3,\\\"nameCanonical\\\":\\\"\\\"},{\\\"curriculum_requisites\\\":[],\\\"name\\\":\\\"CSC \\\",\\\"metrics\\\":{\\\"centrality\\\":0,\\\"complexity\\\":1.0,\\\"blocking factor\\\":0,\\\"delay factor\\\":1.0},\\\"nameSub\\\":\\\"CSC 300\\/400-Level Elective\\\",\\\"id\\\":35,\\\"credits\\\":3,\\\"nameCanonical\\\":\\\"\\\"},{\\\"curriculum_requisites\\\":[],\\\"name\\\":\\\" \\\",\\\"metrics\\\":{\\\"centrality\\\":0,\\\"complexity\\\":1.0,\\\"blocking factor\\\":0,\\\"delay factor\\\":1.0},\\\"nameSub\\\":\\\"Upper-Division Elective 1\\\",\\\"id\\\":36,\\\"credits\\\":3,\\\"nameCanonical\\\":\\\"\\\"},{\\\"curriculum_requisites\\\":[],\\\"name\\\":\\\" \\\",\\\"metrics\\\":{\\\"centrality\\\":0,\\\"complexity\\\":1.0,\\\"blocking factor\\\":0,\\\"delay factor\\\":1.0},\\\"nameSub\\\":\\\"Upper-Division Elective 2\\\",\\\"id\\\":37,\\\"credits\\\":3,\\\"nameCanonical\\\":\\\"\\\"}],\\\"id\\\":8}],\\\"institution\\\":\\\"University of Arizona\\\"}},\\\"*\\\"); window.removeEventListener(\\\"message\\\",window.messageReceived); window.messageReceived=(function (event){return (event.data.curriculum!==undefined) ? (WebIO.setval({\\\"name\\\":\\\"curriculum-data\\\",\\\"scope\\\":\\\"3221921586379286137\\\",\\\"id\\\":\\\"4424863433952078102\\\",\\\"type\\\":\\\"observable\\\"},event.data.curriculum)) : undefined}); return window.addEventListener(\\\"message\\\",window.messageReceived)})\"},\"style\":{\"padding\":\"0\",\"height\":\"80vh\",\"margin\":\"0\",\"border\":\"none\",\"width\":\"100%\"}},\"nodeType\":\"DOM\",\"type\":\"node\",\"instanceArgs\":{\"namespace\":\"html\",\"tag\":\"iframe\"},\"children\":[\"\"]}]},\n",
       "            window,\n",
       "        );\n",
       "    } else {\n",
       "        document\n",
       "            .querySelector('[data-webio-mountpoint=\"6111088668279420134\"]')\n",
       "            .innerHTML = (\n",
       "                '<div style=\"padding: 1em; background-color: #f8d6da; border: 1px solid #f5c6cb\">' +\n",
       "                '<p><strong>WebIO not detected.</strong></p>' +\n",
       "                '<p>Please read ' +\n",
       "                '<a href=\"https://juliagizmos.github.io/WebIO.jl/latest/troubleshooting/not-detected/\" target=\"_blank\">the troubleshooting guide</a> ' +\n",
       "                'for more information on how to resolve this issue.</p>' +\n",
       "                '<p><a href=\"https://juliagizmos.github.io/WebIO.jl/latest/troubleshooting/not-detected/\" target=\"_blank\">https://juliagizmos.github.io/WebIO.jl/latest/troubleshooting/not-detected/</a></p>' +\n",
       "                '</div>'\n",
       "            );\n",
       "    }\n",
       "    </script>\n",
       "</div>\n"
      ],
      "text/plain": [
       "WebIO.Scope(WebIO.Node{WebIO.DOM}(WebIO.DOM(:html, :iframe), Any[\"\"], Dict{Symbol,Any}(:src => \"http://localhost:8156\",:id => \"curriculum\",:events => Dict{Symbol,WebIO.JSString}(:load => WebIO.JSString(\"(function (){this.contentWindow.postMessage({\\\"options\\\":{\\\"hideTerms\\\":false,\\\"edit\\\":false},\\\"curriculum\\\":{\\\"name\\\":\\\"Computer Science\\\",\\\"dp_name\\\":\\\"2019-20 Degree Plan\\\",\\\"curriculum_terms\\\":[{\\\"name\\\":\\\"Term 1\\\",\\\"curriculum_items\\\":[{\\\"curriculum_requisites\\\":[{\\\"source_id\\\":2,\\\"target_id\\\":1,\\\"type\\\":\\\"CurriculumCorequisite\\\"}],\\\"name\\\":\\\"CSC 110\\\",\\\"metrics\\\":{\\\"centrality\\\":25,\\\"complexity\\\":12.0,\\\"blocking factor\\\":7,\\\"delay factor\\\":5.0},\\\"nameSub\\\":\\\"Intro to Computer Programming I\\\",\\\"id\\\":1,\\\"credits\\\":4,\\\"nameCanonical\\\":\\\"\\\"},{\\\"curriculum_requisites\\\":[],\\\"name\\\":\\\"MATH 120R\\\",\\\"metrics\\\":{\\\"centrality\\\":0,\\\"complexity\\\":15.0,\\\"blocking factor\\\":10,\\\"delay factor\\\":5.0},\\\"nameSub\\\":\\\"Pre-Calculus\\\",\\\"id\\\":2,\\\"credits\\\":4,\\\"nameCanonical\\\":\\\"\\\"},{\\\"curriculum_requisites\\\":[],\\\"name\\\":\\\"ENGL 101\\\",\\\"metrics\\\":{\\\"centrality\\\":0,\\\"complexity\\\":3.0,\\\"blocking factor\\\":1,\\\"delay factor\\\":2.0},\\\"nameSub\\\":\\\"English Composition I\\\",\\\"id\\\":3,\\\"credits\\\":3,\\\"nameCanonical\\\":\\\"\\\"},{\\\"curriculum_requisites\\\":[],\\\"name\\\":\\\" \\\",\\\"metrics\\\":{\\\"centrality\\\":0,\\\"complexity\\\":3.0,\\\"blocking factor\\\":1,\\\"delay factor\\\":2.0},\\\"nameSub\\\":\\\"1st Semester Second Language\\\",\\\"id\\\":4,\\\"credits\\\":4,\\\"nameCanonical\\\":\\\"\\\"}],\\\"id\\\":1},{\\\"name\\\":\\\"Term 2\\\",\\\"curriculum_items\\\":[{\\\"curriculum_requisites\\\":[{\\\"source_id\\\":1,\\\"target_id\\\":5,\\\"type\\\":\\\"CurriculumPrerequisite\\\"}],\\\"name\\\":\\\"CSC 120\\\",\\\"metrics\\\":{\\\"centrality\\\":25,\\\"complexity\\\":11.0,\\\"blocking factor\\\":6,\\\"delay factor\\\":5.0},\\\"nameSub\\\":\\\"Intro to Computer Programming II\\\",\\\"id\\\":5,\\\"credits\\\":4,\\\"nameCanonical\\\":\\\"\\\"},{\\\"curriculum_requisites\\\":[{\\\"source_id\\\":2,\\\"target_id\\\":6,\\\"type\\\":\\\"CurriculumPrerequisite\\\"}],\\\"name\\\":\\\"MATH 122A/B\\\",\\\"metrics\\\":{\\\"centrality\\\":3,\\\"complexity\\\":4.0,\\\"blocking factor\\\":1,\\\"delay factor\\\":3.0},\\\"nameSub\\\":\\\"Calculus I\\\",\\\"id\\\":6,\\\"credits\\\":5,\\\"nameCanonical\\\":\\\"\\\"},{\\\"curriculum_requisites\\\":[{\\\"source_id\\\":3,\\\"target_id\\\":7,\\\"type\\\":\\\"CurriculumPrerequisite\\\"}],\\\"name\\\":\\\"ENGL 102\\\",\\\"metrics\\\":{\\\"centrality\\\":0,\\\"complexity\\\":2.0,\\\"blocking factor\\\":0,\\\"delay factor\\\":2.0},\\\"nameSub\\\":\\\"English Composition II\\\",\\\"id\\\":7,\\\"credits\\\":4,\\\"nameCanonical\\\":\\\"\\\"},{\\\"curriculum_requisites\\\":[{\\\"source_id\\\":4,\\\"target_id\\\":8,\\\"type\\\":\\\"CurriculumPrerequisite\\\"}],\\\"name\\\":\\\" \\\",\\\"metrics\\\":{\\\"centrality\\\":0,\\\"complexity\\\":2.0,\\\"blocking factor\\\":0,\\\"delay factor\\\":2.0},\\\"nameSub\\\":\\\"2nd Semester Second Language\\\",\\\"id\\\":8,\\\"credits\\\":4,\\\"nameCanonical\\\":\\\"\\\"}],\\\"id\\\":2},{\\\"name\\\":\\\"Term 3\\\",\\\"curriculum_items\\\":[{\\\"curriculum_requisites\\\":[{\\\"source_id\\\":5,\\\"target_id\\\":9,\\\"type\\\":\\\"CurriculumPrerequisite\\\"}],\\\"name\\\":\\\"CSC 210\\\",\\\"metrics\\\":{\\\"centrality\\\":20,\\\"complexity\\\":9.0,\\\"blocking factor\\\":4,\\\"delay factor\\\":5.0},\\\"nameSub\\\":\\\"Software Development\\\",\\\"id\\\":9,\\\"credits\\\":4,\\\"nameCanonical\\\":\\\"\\\"},{\\\"curriculum_requisites\\\":[{\\\"source_id\\\":5,\\\"target_id\\\":10,\\\"type\\\":\\\"CurriculumPrerequisite\\\"}],\\\"name\\\":\\\"CSC 245\\\",\\\"metrics\\\":{\\\"centrality\\\":5,\\\"complexity\\\":6.0,\\\"blocking factor\\\":1,\\\"delay factor\\\":5.0},\\\"nameSub\\\":\\\"Intro to Discrete Structures\\\",\\\"id\\\":10,\\\"credits\\\":3,\\\"nameCanonical\\\":\\\"\\\"},{\\\"curriculum_requisites\\\":[{\\\"source_id\\\":6,\\\"target_id\\\":11,\\\"type\\\":\\\"CurriculumPrerequisite\\\"}],\\\"name\\\":\\\"MATH 129\\\",\\\"metrics\\\":{\\\"centrality\\\":0,\\\"complexity\\\":3.0,\\\"blocking factor\\\":0,\\\"delay factor\\\":3.0},\\\"nameSub\\\":\\\"Calculus II\\\",\\\"id\\\":11,\\\"credits\\\":3,\\\"nameCanonical\\\":\\\"\\\"},{\\\"curriculum_requisites\\\":[],\\\"name\\\":\\\" \\\",\\\"metrics\\\":{\\\"centrality\\\":0,\\\"complexity\\\":1.0,\\\"blocking factor\\\":0,\\\"delay factor\\\":1.0},\\\"nameSub\\\":\\\"Tier 1 General Education 1\\\",\\\"id\\\":12,\\\"credits\\\":3,\\\"nameCanonical\\\":\\\"\\\"},{\\\"curriculum_requisites\\\":[],\\\"name\\\":\\\" \\\",\\\"metrics\\\":{\\\"centrality\\\":0,\\\"complexity\\\":1.0,\\\"blocking factor\\\":0,\\\"delay factor\\\":1.0},\\\"nameSub\\\":\\\"Tier 1 General Education 2\\\",\\\"id\\\":13,\\\"credits\\\":3,\\\"nameCanonical\\\":\\\"\\\"}],\\\"id\\\":3},{\\\"name\\\":\\\"Term 4\\\",\\\"curriculum_items\\\":[{\\\"curriculum_requisites\\\":[{\\\"source_id\\\":9,\\\"target_id\\\":14,\\\"type\\\":\\\"CurriculumPrerequisite\\\"}],\\\"name\\\":\\\"CSC 252\\\",\\\"metrics\\\":{\\\"centrality\\\":0,\\\"complexity\\\":5.0,\\\"blocking factor\\\":0,\\\"delay factor\\\":5.0},\\\"nameSub\\\":\\\"Computer Organization\\\",\\\"id\\\":14,\\\"credits\\\":3,\\\"nameCanonical\\\":\\\"\\\"},{\\\"curriculum_requisites\\\":[{\\\"source_id\\\":9,\\\"target_id\\\":15,\\\"type\\\":\\\"CurriculumPrerequisite\\\"}],\\\"name\\\":\\\"CSC 352\\\",\\\"metrics\\\":{\\\"centrality\\\":0,\\\"complexity\\\":5.0,\\\"blocking factor\\\":0,\\\"delay factor\\\":5.0},\\\"nameSub\\\":\\\"Systems Programming & Unix\\\",\\\"id\\\":15,\\\"credits\\\":3,\\\"nameCanonical\\\":\\\"\\\"},{\\\"curriculum_requisites\\\":[],\\\"name\\\":\\\" \\\",\\\"metrics\\\":{\\\"centrality\\\":0,\\\"complexity\\\":1.0,\\\"blocking factor\\\":0,\\\"delay factor\\\":1.0},\\\"nameSub\\\":\\\"Supporting Science #1\\\",\\\"id\\\":16,\\\"credits\\\":4,\\\"nameCanonical\\\":\\\"\\\"},{\\\"curriculum_requisites\\\":[],\\\"name\\\":\\\" \\\",\\\"metrics\\\":{\\\"centrality\\\":0,\\\"complexity\\\":1.0,\\\"blocking factor\\\":0,\\\"delay factor\\\":1.0},\\\"nameSub\\\":\\\"Tier 1 General Education 3\\\",\\\"id\\\":17,\\\"credits\\\":3,\\\"nameCanonical\\\":\\\"\\\"},{\\\"curriculum_requisites\\\":[],\\\"name\\\":\\\" \\\",\\\"metrics\\\":{\\\"centrality\\\":0,\\\"complexity\\\":1.0,\\\"blocking factor\\\":0,\\\"delay factor\\\":1.0},\\\"nameSub\\\":\\\"Tier 1 General Education 4\\\",\\\"id\\\":18,\\\"credits\\\":3,\\\"nameCanonical\\\":\\\"\\\"}],\\\"id\\\":4},{\\\"name\\\":\\\"Term 5\\\",\\\"curriculum_items\\\":[{\\\"curriculum_requisites\\\":[{\\\"source_id\\\":9,\\\"target_id\\\":19,\\\"type\\\":\\\"CurriculumPrerequisite\\\"}],\\\"name\\\":\\\"CSC 335\\\",\\\"metrics\\\":{\\\"centrality\\\":0,\\\"complexity\\\":5.0,\\\"blocking factor\\\":0,\\\"delay factor\\\":5.0},\\\"nameSub\\\":\\\"Object-Oriented Programming\\\",\\\"id\\\":19,\\\"credits\\\":3,\\\"nameCanonical\\\":\\\"\\\"},{\\\"curriculum_requisites\\\":[{\\\"source_id\\\":9,\\\"target_id\\\":20,\\\"type\\\":\\\"CurriculumPrerequisite\\\"},{\\\"source_id\\\":10,\\\"target_id\\\":20,\\\"type\\\":\\\"CurriculumPrerequisite\\\"}],\\\"name\\\":\\\"CSC 345\\\",\\\"metrics\\\":{\\\"centrality\\\":0,\\\"complexity\\\":5.0,\\\"blocking factor\\\":0,\\\"delay factor\\\":5.0},\\\"nameSub\\\":\\\"Analysis of Discrete Structures\\\",\\\"id\\\":20,\\\"credits\\\":3,\\\"nameCanonical\\\":\\\"\\\"},{\\\"curriculum_requisites\\\":[],\\\"name\\\":\\\" \\\",\\\"metrics\\\":{\\\"centrality\\\":0,\\\"complexity\\\":1.0,\\\"blocking factor\\\":0,\\\"delay factor\\\":1.0},\\\"nameSub\\\":\\\"Supporting Science #2\\\",\\\"id\\\":21,\\\"credits\\\":4,\\\"nameCanonical\\\":\\\"\\\"},{\\\"curriculum_requisites\\\":[],\\\"name\\\":\\\" \\\",\\\"metrics\\\":{\\\"centrality\\\":0,\\\"complexity\\\":1.0,\\\"blocking factor\\\":0,\\\"delay factor\\\":1.0},\\\"nameSub\\\":\\\"Tier 2 Gen Ed/Upper-Division 1\\\",\\\"id\\\":22,\\\"credits\\\":3,\\\"nameCanonical\\\":\\\"\\\"},{\\\"curriculum_requisites\\\":[],\\\"name\\\":\\\" \\\",\\\"metrics\\\":{\\\"centrality\\\":0,\\\"complexity\\\":1.0,\\\"blocking factor\\\":0,\\\"delay factor\\\":1.0},\\\"nameSub\\\":\\\"Upper-Division Elective\\\",\\\"id\\\":23,\\\"credits\\\":3,\\\"nameCanonical\\\":\\\"\\\"}],\\\"id\\\":5},{\\\"name\\\":\\\"Term 6\\\",\\\"curriculum_items\\\":[{\\\"curriculum_requisites\\\":[],\\\"name\\\":\\\"CSC \\\",\\\"metrics\\\":{\\\"centrality\\\":0,\\\"complexity\\\":1.0,\\\"blocking factor\\\":0,\\\"delay factor\\\":1.0},\\\"nameSub\\\":\\\"CSC Paradigms Elective\\\",\\\"id\\\":24,\\\"credits\\\":3,\\\"nameCanonical\\\":\\\"\\\"},{\\\"curriculum_requisites\\\":[],\\\"name\\\":\\\"CSC \\\",\\\"metrics\\\":{\\\"centrality\\\":0,\\\"complexity\\\":1.0,\\\"blocking factor\\\":0,\\\"delay factor\\\":1.0},\\\"nameSub\\\":\\\"CSC 400-Level Elective 1\\\",\\\"id\\\":25,\\\"credits\\\":3,\\\"nameCanonical\\\":\\\"\\\"},{\\\"curriculum_requisites\\\":[],\\\"name\\\":\\\" \\\",\\\"metrics\\\":{\\\"centrality\\\":0,\\\"complexity\\\":1.0,\\\"blocking factor\\\":0,\\\"delay factor\\\":1.0},\\\"nameSub\\\":\\\"Tier 2 Gen Ed/Upper-Division 2\\\",\\\"id\\\":26,\\\"credits\\\":3,\\\"nameCanonical\\\":\\\"\\\"},{\\\"curriculum_requisites\\\":[],\\\"name\\\":\\\" \\\",\\\"metrics\\\":{\\\"centrality\\\":0,\\\"complexity\\\":1.0,\\\"blocking factor\\\":0,\\\"delay factor\\\":1.0},\\\"nameSub\\\":\\\"Tier 2 Gen Ed/Upper-Division 3\\\",\\\"id\\\":27,\\\"credits\\\":3,\\\"nameCanonical\\\":\\\"\\\"},{\\\"curriculum_requisites\\\":[],\\\"name\\\":\\\" \\\",\\\"metrics\\\":{\\\"centrality\\\":0,\\\"complexity\\\":1.0,\\\"blocking factor\\\":0,\\\"delay factor\\\":1.0},\\\"nameSub\\\":\\\"Elective 1\\\",\\\"id\\\":28,\\\"credits\\\":3,\\\"nameCanonical\\\":\\\"\\\"}],\\\"id\\\":6},{\\\"name\\\":\\\"Term 7\\\",\\\"curriculum_items\\\":[{\\\"curriculum_requisites\\\":[],\\\"name\\\":\\\"CSC \\\",\\\"metrics\\\":{\\\"centrality\\\":0,\\\"complexity\\\":1.0,\\\"blocking factor\\\":0,\\\"delay factor\\\":1.0},\\\"nameSub\\\":\\\"CSC Theory & Writing Elective\\\",\\\"id\\\":29,\\\"credits\\\":3,\\\"nameCanonical\\\":\\\"\\\"},{\\\"curriculum_requisites\\\":[],\\\"name\\\":\\\"CSC \\\",\\\"metrics\\\":{\\\"centrality\\\":0,\\\"complexity\\\":1.0,\\\"blocking factor\\\":0,\\\"delay factor\\\":1.0},\\\"nameSub\\\":\\\"CSC 400-Level Elective 2\\\",\\\"id\\\":30,\\\"credits\\\":3,\\\"nameCanonical\\\":\\\"\\\"},{\\\"curriculum_requisites\\\":[],\\\"name\\\":\\\" \\\",\\\"metrics\\\":{\\\"centrality\\\":0,\\\"complexity\\\":1.0,\\\"blocking factor\\\":0,\\\"delay factor\\\":1.0},\\\"nameSub\\\":\\\"Elective 2\\\",\\\"id\\\":31,\\\"credits\\\":3,\\\"nameCanonical\\\":\\\"\\\"},{\\\"curriculum_requisites\\\":[],\\\"name\\\":\\\" \\\",\\\"metrics\\\":{\\\"centrality\\\":0,\\\"complexity\\\":1.0,\\\"blocking factor\\\":0,\\\"delay factor\\\":1.0},\\\"nameSub\\\":\\\"Elective 3\\\",\\\"id\\\":32,\\\"credits\\\":3,\\\"nameCanonical\\\":\\\"\\\"},{\\\"curriculum_requisites\\\":[],\\\"name\\\":\\\" \\\",\\\"metrics\\\":{\\\"centrality\\\":0,\\\"complexity\\\":1.0,\\\"blocking factor\\\":0,\\\"delay factor\\\":1.0},\\\"nameSub\\\":\\\"Elective 4\\\",\\\"id\\\":33,\\\"credits\\\":3,\\\"nameCanonical\\\":\\\"\\\"}],\\\"id\\\":7},{\\\"name\\\":\\\"Term 8\\\",\\\"curriculum_items\\\":[{\\\"curriculum_requisites\\\":[],\\\"name\\\":\\\"CSC \\\",\\\"metrics\\\":{\\\"centrality\\\":0,\\\"complexity\\\":1.0,\\\"blocking factor\\\":0,\\\"delay factor\\\":1.0},\\\"nameSub\\\":\\\"CSC Systems Elective\\\",\\\"id\\\":34,\\\"credits\\\":3,\\\"nameCanonical\\\":\\\"\\\"},{\\\"curriculum_requisites\\\":[],\\\"name\\\":\\\"CSC \\\",\\\"metrics\\\":{\\\"centrality\\\":0,\\\"complexity\\\":1.0,\\\"blocking factor\\\":0,\\\"delay factor\\\":1.0},\\\"nameSub\\\":\\\"CSC 300/400-Level Elective\\\",\\\"id\\\":35,\\\"credits\\\":3,\\\"nameCanonical\\\":\\\"\\\"},{\\\"curriculum_requisites\\\":[],\\\"name\\\":\\\" \\\",\\\"metrics\\\":{\\\"centrality\\\":0,\\\"complexity\\\":1.0,\\\"blocking factor\\\":0,\\\"delay factor\\\":1.0},\\\"nameSub\\\":\\\"Upper-Division Elective 1\\\",\\\"id\\\":36,\\\"credits\\\":3,\\\"nameCanonical\\\":\\\"\\\"},{\\\"curriculum_requisites\\\":[],\\\"name\\\":\\\" \\\",\\\"metrics\\\":{\\\"centrality\\\":0,\\\"complexity\\\":1.0,\\\"blocking factor\\\":0,\\\"delay factor\\\":1.0},\\\"nameSub\\\":\\\"Upper-Division Elective 2\\\",\\\"id\\\":37,\\\"credits\\\":3,\\\"nameCanonical\\\":\\\"\\\"}],\\\"id\\\":8}],\\\"institution\\\":\\\"University of Arizona\\\"}},\\\"*\\\"); window.removeEventListener(\\\"message\\\",window.messageReceived); window.messageReceived=(function (event){return (event.data.curriculum!==undefined) ? (WebIO.setval({\\\"name\\\":\\\"curriculum-data\\\",\\\"scope\\\":\\\"3221921586379286137\\\",\\\"id\\\":\\\"4424863433952078102\\\",\\\"type\\\":\\\"observable\\\"},event.data.curriculum)) : undefined}); return window.addEventListener(\\\"message\\\",window.messageReceived)})\")),:style => Dict(:padding => \"0\",:height => \"80vh\",:margin => \"0\",:border => \"none\",:width => \"100%\"))), Dict{String,Tuple{Observables.AbstractObservable,Union{Nothing, Bool}}}(\"curriculum-data\" => (Observable{Dict{String,Any}} with 1 listeners. Value:\n",
       "Dict{String,Any}(\"options\" => Dict{String,Any}(\"hideTerms\" => false,\"edit\" => false),\"curriculum\" => Dict{String,Any}(\"name\" => \"Computer Science\",\"dp_name\" => \"2019-20 Degree Plan\",\"curriculum_terms\" => Dict{String,Any}[Dict(\"name\" => \"Term 1\",\"curriculum_items\" => Dict{String,Any}[Dict(\"curriculum_requisites\" => Dict{String,Any}[Dict(\"source_id\" => 2,\"target_id\" => 1,\"type\" => \"CurriculumCorequisite\")],\"name\" => \"CSC 110\",\"metrics\" => Dict{String,Any}(\"centrality\" => 25,\"complexity\" => 12.0,\"blocking factor\" => 7,\"delay factor\" => 5.0),\"nameSub\" => \"Intro to Computer Programming I\",\"id\" => 1,\"credits\" => 4,\"nameCanonical\" => \"\"), Dict(\"curriculum_requisites\" => Dict{String,Any}[],\"name\" => \"MATH 120R\",\"metrics\" => Dict{String,Any}(\"centrality\" => 0,\"complexity\" => 15.0,\"blocking factor\" => 10,\"delay factor\" => 5.0),\"nameSub\" => \"Pre-Calculus\",\"id\" => 2,\"credits\" => 4,\"nameCanonical\" => \"\"), Dict(\"curriculum_requisites\" => Dict{String,Any}[],\"name\" => \"ENGL 101\",\"metrics\" => Dict{String,Any}(\"centrality\" => 0,\"complexity\" => 3.0,\"blocking factor\" => 1,\"delay factor\" => 2.0),\"nameSub\" => \"English Composition I\",\"id\" => 3,\"credits\" => 3,\"nameCanonical\" => \"\"), Dict(\"curriculum_requisites\" => Dict{String,Any}[],\"name\" => \" \",\"metrics\" => Dict{String,Any}(\"centrality\" => 0,\"complexity\" => 3.0,\"blocking factor\" => 1,\"delay factor\" => 2.0),\"nameSub\" => \"1st Semester Second Language\",\"id\" => 4,\"credits\" => 4,\"nameCanonical\" => \"\")],\"id\" => 1), Dict(\"name\" => \"Term 2\",\"curriculum_items\" => Dict{String,Any}[Dict(\"curriculum_requisites\" => Dict{String,Any}[Dict(\"source_id\" => 1,\"target_id\" => 5,\"type\" => \"CurriculumPrerequisite\")],\"name\" => \"CSC 120\",\"metrics\" => Dict{String,Any}(\"centrality\" => 25,\"complexity\" => 11.0,\"blocking factor\" => 6,\"delay factor\" => 5.0),\"nameSub\" => \"Intro to Computer Programming II\",\"id\" => 5,\"credits\" => 4,\"nameCanonical\" => \"\"), Dict(\"curriculum_requisites\" => Dict{String,Any}[Dict(\"source_id\" => 2,\"target_id\" => 6,\"type\" => \"CurriculumPrerequisite\")],\"name\" => \"MATH 122A/B\",\"metrics\" => Dict{String,Any}(\"centrality\" => 3,\"complexity\" => 4.0,\"blocking factor\" => 1,\"delay factor\" => 3.0),\"nameSub\" => \"Calculus I\",\"id\" => 6,\"credits\" => 5,\"nameCanonical\" => \"\"), Dict(\"curriculum_requisites\" => Dict{String,Any}[Dict(\"source_id\" => 3,\"target_id\" => 7,\"type\" => \"CurriculumPrerequisite\")],\"name\" => \"ENGL 102\",\"metrics\" => Dict{String,Any}(\"centrality\" => 0,\"complexity\" => 2.0,\"blocking factor\" => 0,\"delay factor\" => 2.0),\"nameSub\" => \"English Composition II\",\"id\" => 7,\"credits\" => 4,\"nameCanonical\" => \"\"), Dict(\"curriculum_requisites\" => Dict{String,Any}[Dict(\"source_id\" => 4,\"target_id\" => 8,\"type\" => \"CurriculumPrerequisite\")],\"name\" => \" \",\"metrics\" => Dict{String,Any}(\"centrality\" => 0,\"complexity\" => 2.0,\"blocking factor\" => 0,\"delay factor\" => 2.0),\"nameSub\" => \"2nd Semester Second Language\",\"id\" => 8,\"credits\" => 4,\"nameCanonical\" => \"\")],\"id\" => 2), Dict(\"name\" => \"Term 3\",\"curriculum_items\" => Dict{String,Any}[Dict(\"curriculum_requisites\" => Dict{String,Any}[Dict(\"source_id\" => 5,\"target_id\" => 9,\"type\" => \"CurriculumPrerequisite\")],\"name\" => \"CSC 210\",\"metrics\" => Dict{String,Any}(\"centrality\" => 20,\"complexity\" => 9.0,\"blocking factor\" => 4,\"delay factor\" => 5.0),\"nameSub\" => \"Software Development\",\"id\" => 9,\"credits\" => 4,\"nameCanonical\" => \"\"), Dict(\"curriculum_requisites\" => Dict{String,Any}[Dict(\"source_id\" => 5,\"target_id\" => 10,\"type\" => \"CurriculumPrerequisite\")],\"name\" => \"CSC 245\",\"metrics\" => Dict{String,Any}(\"centrality\" => 5,\"complexity\" => 6.0,\"blocking factor\" => 1,\"delay factor\" => 5.0),\"nameSub\" => \"Intro to Discrete Structures\",\"id\" => 10,\"credits\" => 3,\"nameCanonical\" => \"\"), Dict(\"curriculum_requisites\" => Dict{String,Any}[Dict(\"source_id\" => 6,\"target_id\" => 11,\"type\" => \"CurriculumPrerequisite\")],\"name\" => \"MATH 129\",\"metrics\" => Dict{String,Any}(\"centrality\" => 0,\"complexity\" => 3.0,\"blocking factor\" => 0,\"delay factor\" => 3.0),\"nameSub\" => \"Calculus II\",\"id\" => 11,\"credits\" => 3,\"nameCanonical\" => \"\"), Dict(\"curriculum_requisites\" => Dict{String,Any}[],\"name\" => \" \",\"metrics\" => Dict{String,Any}(\"centrality\" => 0,\"complexity\" => 1.0,\"blocking factor\" => 0,\"delay factor\" => 1.0),\"nameSub\" => \"Tier 1 General Education 1\",\"id\" => 12,\"credits\" => 3,\"nameCanonical\" => \"\"), Dict(\"curriculum_requisites\" => Dict{String,Any}[],\"name\" => \" \",\"metrics\" => Dict{String,Any}(\"centrality\" => 0,\"complexity\" => 1.0,\"blocking factor\" => 0,\"delay factor\" => 1.0),\"nameSub\" => \"Tier 1 General Education 2\",\"id\" => 13,\"credits\" => 3,\"nameCanonical\" => \"\")],\"id\" => 3), Dict(\"name\" => \"Term 4\",\"curriculum_items\" => Dict{String,Any}[Dict(\"curriculum_requisites\" => Dict{String,Any}[Dict(\"source_id\" => 9,\"target_id\" => 14,\"type\" => \"CurriculumPrerequisite\")],\"name\" => \"CSC 252\",\"metrics\" => Dict{String,Any}(\"centrality\" => 0,\"complexity\" => 5.0,\"blocking factor\" => 0,\"delay factor\" => 5.0),\"nameSub\" => \"Computer Organization\",\"id\" => 14,\"credits\" => 3,\"nameCanonical\" => \"\"), Dict(\"curriculum_requisites\" => Dict{String,Any}[Dict(\"source_id\" => 9,\"target_id\" => 15,\"type\" => \"CurriculumPrerequisite\")],\"name\" => \"CSC 352\",\"metrics\" => Dict{String,Any}(\"centrality\" => 0,\"complexity\" => 5.0,\"blocking factor\" => 0,\"delay factor\" => 5.0),\"nameSub\" => \"Systems Programming & Unix\",\"id\" => 15,\"credits\" => 3,\"nameCanonical\" => \"\"), Dict(\"curriculum_requisites\" => Dict{String,Any}[],\"name\" => \" \",\"metrics\" => Dict{String,Any}(\"centrality\" => 0,\"complexity\" => 1.0,\"blocking factor\" => 0,\"delay factor\" => 1.0),\"nameSub\" => \"Supporting Science #1\",\"id\" => 16,\"credits\" => 4,\"nameCanonical\" => \"\"), Dict(\"curriculum_requisites\" => Dict{String,Any}[],\"name\" => \" \",\"metrics\" => Dict{String,Any}(\"centrality\" => 0,\"complexity\" => 1.0,\"blocking factor\" => 0,\"delay factor\" => 1.0),\"nameSub\" => \"Tier 1 General Education 3\",\"id\" => 17,\"credits\" => 3,\"nameCanonical\" => \"\"), Dict(\"curriculum_requisites\" => Dict{String,Any}[],\"name\" => \" \",\"metrics\" => Dict{String,Any}(\"centrality\" => 0,\"complexity\" => 1.0,\"blocking factor\" => 0,\"delay factor\" => 1.0),\"nameSub\" => \"Tier 1 General Education 4\",\"id\" => 18,\"credits\" => 3,\"nameCanonical\" => \"\")],\"id\" => 4), Dict(\"name\" => \"Term 5\",\"curriculum_items\" => Dict{String,Any}[Dict(\"curriculum_requisites\" => Dict{String,Any}[Dict(\"source_id\" => 9,\"target_id\" => 19,\"type\" => \"CurriculumPrerequisite\")],\"name\" => \"CSC 335\",\"metrics\" => Dict{String,Any}(\"centrality\" => 0,\"complexity\" => 5.0,\"blocking factor\" => 0,\"delay factor\" => 5.0),\"nameSub\" => \"Object-Oriented Programming\",\"id\" => 19,\"credits\" => 3,\"nameCanonical\" => \"\"), Dict(\"curriculum_requisites\" => Dict{String,Any}[Dict(\"source_id\" => 9,\"target_id\" => 20,\"type\" => \"CurriculumPrerequisite\"), Dict(\"source_id\" => 10,\"target_id\" => 20,\"type\" => \"CurriculumPrerequisite\")],\"name\" => \"CSC 345\",\"metrics\" => Dict{String,Any}(\"centrality\" => 0,\"complexity\" => 5.0,\"blocking factor\" => 0,\"delay factor\" => 5.0),\"nameSub\" => \"Analysis of Discrete Structures\",\"id\" => 20,\"credits\" => 3,\"nameCanonical\" => \"\"), Dict(\"curriculum_requisites\" => Dict{String,Any}[],\"name\" => \" \",\"metrics\" => Dict{String,Any}(\"centrality\" => 0,\"complexity\" => 1.0,\"blocking factor\" => 0,\"delay factor\" => 1.0),\"nameSub\" => \"Supporting Science #2\",\"id\" => 21,\"credits\" => 4,\"nameCanonical\" => \"\"), Dict(\"curriculum_requisites\" => Dict{String,Any}[],\"name\" => \" \",\"metrics\" => Dict{String,Any}(\"centrality\" => 0,\"complexity\" => 1.0,\"blocking factor\" => 0,\"delay factor\" => 1.0),\"nameSub\" => \"Tier 2 Gen Ed/Upper-Division 1\",\"id\" => 22,\"credits\" => 3,\"nameCanonical\" => \"\"), Dict(\"curriculum_requisites\" => Dict{String,Any}[],\"name\" => \" \",\"metrics\" => Dict{String,Any}(\"centrality\" => 0,\"complexity\" => 1.0,\"blocking factor\" => 0,\"delay factor\" => 1.0),\"nameSub\" => \"Upper-Division Elective\",\"id\" => 23,\"credits\" => 3,\"nameCanonical\" => \"\")],\"id\" => 5), Dict(\"name\" => \"Term 6\",\"curriculum_items\" => Dict{String,Any}[Dict(\"curriculum_requisites\" => Dict{String,Any}[],\"name\" => \"CSC \",\"metrics\" => Dict{String,Any}(\"centrality\" => 0,\"complexity\" => 1.0,\"blocking factor\" => 0,\"delay factor\" => 1.0),\"nameSub\" => \"CSC Paradigms Elective\",\"id\" => 24,\"credits\" => 3,\"nameCanonical\" => \"\"), Dict(\"curriculum_requisites\" => Dict{String,Any}[],\"name\" => \"CSC \",\"metrics\" => Dict{String,Any}(\"centrality\" => 0,\"complexity\" => 1.0,\"blocking factor\" => 0,\"delay factor\" => 1.0),\"nameSub\" => \"CSC 400-Level Elective 1\",\"id\" => 25,\"credits\" => 3,\"nameCanonical\" => \"\"), Dict(\"curriculum_requisites\" => Dict{String,Any}[],\"name\" => \" \",\"metrics\" => Dict{String,Any}(\"centrality\" => 0,\"complexity\" => 1.0,\"blocking factor\" => 0,\"delay factor\" => 1.0),\"nameSub\" => \"Tier 2 Gen Ed/Upper-Division 2\",\"id\" => 26,\"credits\" => 3,\"nameCanonical\" => \"\"), Dict(\"curriculum_requisites\" => Dict{String,Any}[],\"name\" => \" \",\"metrics\" => Dict{String,Any}(\"centrality\" => 0,\"complexity\" => 1.0,\"blocking factor\" => 0,\"delay factor\" => 1.0),\"nameSub\" => \"Tier 2 Gen Ed/Upper-Division 3\",\"id\" => 27,\"credits\" => 3,\"nameCanonical\" => \"\"), Dict(\"curriculum_requisites\" => Dict{String,Any}[],\"name\" => \" \",\"metrics\" => Dict{String,Any}(\"centrality\" => 0,\"complexity\" => 1.0,\"blocking factor\" => 0,\"delay factor\" => 1.0),\"nameSub\" => \"Elective 1\",\"id\" => 28,\"credits\" => 3,\"nameCanonical\" => \"\")],\"id\" => 6), Dict(\"name\" => \"Term 7\",\"curriculum_items\" => Dict{String,Any}[Dict(\"curriculum_requisites\" => Dict{String,Any}[],\"name\" => \"CSC \",\"metrics\" => Dict{String,Any}(\"centrality\" => 0,\"complexity\" => 1.0,\"blocking factor\" => 0,\"delay factor\" => 1.0),\"nameSub\" => \"CSC Theory & Writing Elective\",\"id\" => 29,\"credits\" => 3,\"nameCanonical\" => \"\"), Dict(\"curriculum_requisites\" => Dict{String,Any}[],\"name\" => \"CSC \",\"metrics\" => Dict{String,Any}(\"centrality\" => 0,\"complexity\" => 1.0,\"blocking factor\" => 0,\"delay factor\" => 1.0),\"nameSub\" => \"CSC 400-Level Elective 2\",\"id\" => 30,\"credits\" => 3,\"nameCanonical\" => \"\"), Dict(\"curriculum_requisites\" => Dict{String,Any}[],\"name\" => \" \",\"metrics\" => Dict{String,Any}(\"centrality\" => 0,\"complexity\" => 1.0,\"blocking factor\" => 0,\"delay factor\" => 1.0),\"nameSub\" => \"Elective 2\",\"id\" => 31,\"credits\" => 3,\"nameCanonical\" => \"\"), Dict(\"curriculum_requisites\" => Dict{String,Any}[],\"name\" => \" \",\"metrics\" => Dict{String,Any}(\"centrality\" => 0,\"complexity\" => 1.0,\"blocking factor\" => 0,\"delay factor\" => 1.0),\"nameSub\" => \"Elective 3\",\"id\" => 32,\"credits\" => 3,\"nameCanonical\" => \"\"), Dict(\"curriculum_requisites\" => Dict{String,Any}[],\"name\" => \" \",\"metrics\" => Dict{String,Any}(\"centrality\" => 0,\"complexity\" => 1.0,\"blocking factor\" => 0,\"delay factor\" => 1.0),\"nameSub\" => \"Elective 4\",\"id\" => 33,\"credits\" => 3,\"nameCanonical\" => \"\")],\"id\" => 7), Dict(\"name\" => \"Term 8\",\"curriculum_items\" => Dict{String,Any}[Dict(\"curriculum_requisites\" => Dict{String,Any}[],\"name\" => \"CSC \",\"metrics\" => Dict{String,Any}(\"centrality\" => 0,\"complexity\" => 1.0,\"blocking factor\" => 0,\"delay factor\" => 1.0),\"nameSub\" => \"CSC Systems Elective\",\"id\" => 34,\"credits\" => 3,\"nameCanonical\" => \"\"), Dict(\"curriculum_requisites\" => Dict{String,Any}[],\"name\" => \"CSC \",\"metrics\" => Dict{String,Any}(\"centrality\" => 0,\"complexity\" => 1.0,\"blocking factor\" => 0,\"delay factor\" => 1.0),\"nameSub\" => \"CSC 300/400-Level Elective\",\"id\" => 35,\"credits\" => 3,\"nameCanonical\" => \"\"), Dict(\"curriculum_requisites\" => Dict{String,Any}[],\"name\" => \" \",\"metrics\" => Dict{String,Any}(\"centrality\" => 0,\"complexity\" => 1.0,\"blocking factor\" => 0,\"delay factor\" => 1.0),\"nameSub\" => \"Upper-Division Elective 1\",\"id\" => 36,\"credits\" => 3,\"nameCanonical\" => \"\"), Dict(\"curriculum_requisites\" => Dict{String,Any}[],\"name\" => \" \",\"metrics\" => Dict{String,Any}(\"centrality\" => 0,\"complexity\" => 1.0,\"blocking factor\" => 0,\"delay factor\" => 1.0),\"nameSub\" => \"Upper-Division Elective 2\",\"id\" => 37,\"credits\" => 3,\"nameCanonical\" => \"\")],\"id\" => 8)],\"institution\" => \"University of Arizona\")), nothing)), Set{String}(), nothing, WebIO.Asset[], Dict{Any,Any}(), WebIO.ConnectionPool(Channel{Any}(sz_max:32,sz_curr:0), Set{WebIO.AbstractConnection}(), Base.GenericCondition{Base.AlwaysLockedST}(Base.InvasiveLinkedList{Task}(Task (runnable) @0x000000011da08b50, Task (runnable) @0x000000011da08b50), Base.AlwaysLockedST(1))), WebIO.JSString[])"
      ]
     },
     "execution_count": 4,
     "metadata": {
      "application/vnd.webio.node+json": {
       "kernelId": "dff7beeb-d49f-44d2-aef4-f66943ad8ef1"
      }
     },
     "output_type": "execute_result"
    }
   ],
   "source": [
    "CS_degree_plan = read_csv(\"Univ_of_Arizona-CS.csv\")\n",
    "visualize(CS_degree_plan, notebook=true, scale=0.8)"
   ]
  },
  {
   "cell_type": "code",
   "execution_count": 5,
   "metadata": {},
   "outputs": [
    {
     "data": {
      "application/vnd.webio.node+json": {
       "children": [
        {
         "children": [
          ""
         ],
         "instanceArgs": {
          "namespace": "html",
          "tag": "iframe"
         },
         "nodeType": "DOM",
         "props": {
          "events": {
           "load": "(function (){this.contentWindow.postMessage({\"options\":{\"hideTerms\":false,\"edit\":false},\"curriculum\":{\"name\":\"Electrical Engineering\",\"dp_name\":\"2017-18 Plan\",\"curriculum_terms\":[{\"name\":\"Term 1\",\"curriculum_items\":[{\"curriculum_requisites\":[],\"name\":\" \",\"metrics\":{\"centrality\":0,\"complexity\":9.0,\"blocking factor\":4,\"delay factor\":5.0},\"nameSub\":\"CHEM 1310\",\"id\":1,\"credits\":4,\"nameCanonical\":\"\"},{\"curriculum_requisites\":[],\"name\":\" \",\"metrics\":{\"centrality\":0,\"complexity\":23.0,\"blocking factor\":15,\"delay factor\":8.0},\"nameSub\":\"MATH 1551\",\"id\":2,\"credits\":2,\"nameCanonical\":\"\"},{\"curriculum_requisites\":[],\"name\":\" \",\"metrics\":{\"centrality\":0,\"complexity\":16.0,\"blocking factor\":10,\"delay factor\":6.0},\"nameSub\":\"MATH 1553\",\"id\":3,\"credits\":2,\"nameCanonical\":\"\"},{\"curriculum_requisites\":[],\"name\":\" \",\"metrics\":{\"centrality\":0,\"complexity\":17.0,\"blocking factor\":10,\"delay factor\":7.0},\"nameSub\":\"CS 1371\",\"id\":4,\"credits\":3,\"nameCanonical\":\"\"},{\"curriculum_requisites\":[],\"name\":\" \",\"metrics\":{\"centrality\":0,\"complexity\":1.0,\"blocking factor\":0,\"delay factor\":1.0},\"nameSub\":\"Wellness Elective\",\"id\":5,\"credits\":3,\"nameCanonical\":\"\"},{\"curriculum_requisites\":[],\"name\":\" \",\"metrics\":{\"centrality\":0,\"complexity\":3.0,\"blocking factor\":1,\"delay factor\":2.0},\"nameSub\":\"ENGL 1101\",\"id\":6,\"credits\":3,\"nameCanonical\":\"\"}],\"id\":1},{\"name\":\"Term 2\",\"curriculum_items\":[{\"curriculum_requisites\":[{\"source_id\":2,\"target_id\":7,\"type\":\"CurriculumPrerequisite\"}],\"name\":\" \",\"metrics\":{\"centrality\":29,\"complexity\":17.0,\"blocking factor\":9,\"delay factor\":8.0},\"nameSub\":\"PHYS 2211\",\"id\":7,\"credits\":4,\"nameCanonical\":\"\"},{\"curriculum_requisites\":[{\"source_id\":2,\"target_id\":8,\"type\":\"CurriculumPrerequisite\"}],\"name\":\" \",\"metrics\":{\"centrality\":34,\"complexity\":17.0,\"blocking factor\":10,\"delay factor\":7.0},\"nameSub\":\"MATH 1552\",\"id\":8,\"credits\":4,\"nameCanonical\":\"\"},{\"curriculum_requisites\":[{\"source_id\":4,\"target_id\":9,\"type\":\"CurriculumPrerequisite\"}],\"name\":\" \",\"metrics\":{\"centrality\":11,\"complexity\":13.0,\"blocking factor\":6,\"delay factor\":7.0},\"nameSub\":\"ECE 2020\",\"id\":9,\"credits\":3,\"nameCanonical\":\"\"},{\"curriculum_requisites\":[],\"name\":\" \",\"metrics\":{\"centrality\":0,\"complexity\":1.0,\"blocking factor\":0,\"delay factor\":1.0},\"nameSub\":\"History/Government Elective\",\"id\":10,\"credits\":3,\"nameCanonical\":\"\"},{\"curriculum_requisites\":[{\"source_id\":6,\"target_id\":11,\"type\":\"CurriculumPrerequisite\"}],\"name\":\" \",\"metrics\":{\"centrality\":0,\"complexity\":2.0,\"blocking factor\":0,\"delay factor\":2.0},\"nameSub\":\"ENGL 1102\",\"id\":11,\"credits\":3,\"nameCanonical\":\"\"}],\"id\":2},{\"name\":\"Term 3\",\"curriculum_items\":[{\"curriculum_requisites\":[{\"source_id\":7,\"target_id\":12,\"type\":\"CurriculumPrerequisite\"}],\"name\":\" \",\"metrics\":{\"centrality\":29,\"complexity\":16.0,\"blocking factor\":8,\"delay factor\":8.0},\"nameSub\":\"PHYS 2212\",\"id\":12,\"credits\":4,\"nameCanonical\":\"\"},{\"curriculum_requisites\":[{\"source_id\":3,\"target_id\":13,\"type\":\"CurriculumPrerequisite\"},{\"source_id\":8,\"target_id\":13,\"type\":\"CurriculumPrerequisite\"}],\"name\":\" \",\"metrics\":{\"centrality\":0,\"complexity\":3.0,\"blocking factor\":0,\"delay factor\":3.0},\"nameSub\":\"MATH 2552\",\"id\":13,\"credits\":4,\"nameCanonical\":\"\"},{\"curriculum_requisites\":[{\"source_id\":4,\"target_id\":14,\"type\":\"CurriculumPrerequisite\"},{\"source_id\":3,\"target_id\":14,\"type\":\"CurriculumPrerequisite\"},{\"source_id\":8,\"target_id\":14,\"type\":\"CurriculumPrerequisite\"}],\"name\":\" \",\"metrics\":{\"centrality\":32,\"complexity\":10.0,\"blocking factor\":4,\"delay factor\":6.0},\"nameSub\":\"ECE 2026\",\"id\":14,\"credits\":3,\"nameCanonical\":\"\"},{\"curriculum_requisites\":[],\"name\":\" \",\"metrics\":{\"centrality\":0,\"complexity\":5.0,\"blocking factor\":2,\"delay factor\":3.0},\"nameSub\":\"Economics Elective\",\"id\":15,\"credits\":3,\"nameCanonical\":\"\"},{\"curriculum_requisites\":[],\"name\":\" \",\"metrics\":{\"centrality\":0,\"complexity\":1.0,\"blocking factor\":0,\"delay factor\":1.0},\"nameSub\":\"Social Sciences Elective\",\"id\":16,\"credits\":3,\"nameCanonical\":\"\"}],\"id\":3},{\"name\":\"Term 4\",\"curriculum_items\":[{\"curriculum_requisites\":[],\"name\":\" \",\"metrics\":{\"centrality\":0,\"complexity\":1.0,\"blocking factor\":0,\"delay factor\":1.0},\"nameSub\":\"Science Elective\",\"id\":17,\"credits\":3,\"nameCanonical\":\"\"},{\"curriculum_requisites\":[{\"source_id\":3,\"target_id\":18,\"type\":\"CurriculumPrerequisite\"},{\"source_id\":8,\"target_id\":18,\"type\":\"CurriculumPrerequisite\"}],\"name\":\" \",\"metrics\":{\"centrality\":35,\"complexity\":13.0,\"blocking factor\":6,\"delay factor\":7.0},\"nameSub\":\"MATH 2551\",\"id\":18,\"credits\":4,\"nameCanonical\":\"\"},{\"curriculum_requisites\":[{\"source_id\":12,\"target_id\":19,\"type\":\"CurriculumPrerequisite\"}],\"name\":\" \",\"metrics\":{\"centrality\":29,\"complexity\":15.0,\"blocking factor\":7,\"delay factor\":8.0},\"nameSub\":\"ECE 2040\",\"id\":19,\"credits\":3,\"nameCanonical\":\"\"},{\"curriculum_requisites\":[{\"source_id\":9,\"target_id\":20,\"type\":\"CurriculumPrerequisite\"}],\"name\":\" \",\"metrics\":{\"centrality\":11,\"complexity\":12.0,\"blocking factor\":5,\"delay factor\":7.0},\"nameSub\":\"ECE 2031\",\"id\":20,\"credits\":2,\"nameCanonical\":\"\"},{\"curriculum_requisites\":[{\"source_id\":20,\"target_id\":21,\"type\":\"CurriculumCorequisite\"}],\"name\":\" \",\"metrics\":{\"centrality\":0,\"complexity\":4.0,\"blocking factor\":0,\"delay factor\":4.0},\"nameSub\":\"Programming Elective\",\"id\":21,\"credits\":3,\"nameCanonical\":\"\"}],\"id\":4},{\"name\":\"Term 5\",\"curriculum_items\":[{\"curriculum_requisites\":[],\"name\":\" \",\"metrics\":{\"centrality\":0,\"complexity\":1.0,\"blocking factor\":0,\"delay factor\":1.0},\"nameSub\":\"Humanities Elective\",\"id\":22,\"credits\":3,\"nameCanonical\":\"\"},{\"curriculum_requisites\":[{\"source_id\":20,\"target_id\":23,\"type\":\"CurriculumPrerequisite\"},{\"source_id\":1,\"target_id\":23,\"type\":\"CurriculumPrerequisite\"},{\"source_id\":19,\"target_id\":23,\"type\":\"CurriculumPrerequisite\"},{\"source_id\":18,\"target_id\":23,\"type\":\"CurriculumPrerequisite\"}],\"name\":\" \",\"metrics\":{\"centrality\":33,\"complexity\":11.0,\"blocking factor\":3,\"delay factor\":8.0},\"nameSub\":\"ECE 3040\",\"id\":23,\"credits\":4,\"nameCanonical\":\"\"},{\"curriculum_requisites\":[{\"source_id\":23,\"target_id\":24,\"type\":\"CurriculumCorequisite\"}],\"name\":\" \",\"metrics\":{\"centrality\":33,\"complexity\":10.0,\"blocking factor\":2,\"delay factor\":8.0},\"nameSub\":\"ECE 3043\",\"id\":24,\"credits\":2,\"nameCanonical\":\"\"},{\"curriculum_requisites\":[{\"source_id\":14,\"target_id\":25,\"type\":\"CurriculumPrerequisite\"},{\"source_id\":19,\"target_id\":25,\"type\":\"CurriculumPrerequisite\"},{\"source_id\":18,\"target_id\":25,\"type\":\"CurriculumPrerequisite\"}],\"name\":\" \",\"metrics\":{\"centrality\":34,\"complexity\":9.0,\"blocking factor\":2,\"delay factor\":7.0},\"nameSub\":\"ECE 3025\",\"id\":25,\"credits\":3,\"nameCanonical\":\"\"},{\"curriculum_requisites\":[{\"source_id\":14,\"target_id\":26,\"type\":\"CurriculumPrerequisite\"},{\"source_id\":19,\"target_id\":26,\"type\":\"CurriculumPrerequisite\"}],\"name\":\" \",\"metrics\":{\"centrality\":23,\"complexity\":9.0,\"blocking factor\":2,\"delay factor\":7.0},\"nameSub\":\"ECE 3084\",\"id\":26,\"credits\":3,\"nameCanonical\":\"\"},{\"curriculum_requisites\":[],\"name\":\" \",\"metrics\":{\"centrality\":0,\"complexity\":1.0,\"blocking factor\":0,\"delay factor\":1.0},\"nameSub\":\"Social Sciences Elective\",\"id\":27,\"credits\":3,\"nameCanonical\":\"\"}],\"id\":5},{\"name\":\"Term 6\",\"curriculum_items\":[{\"curriculum_requisites\":[],\"name\":\" \",\"metrics\":{\"centrality\":0,\"complexity\":1.0,\"blocking factor\":0,\"delay factor\":1.0},\"nameSub\":\"ECE/Approved Engineering Elective\",\"id\":28,\"credits\":3,\"nameCanonical\":\"\"},{\"curriculum_requisites\":[{\"source_id\":18,\"target_id\":29,\"type\":\"CurriculumPrerequisite\"}],\"name\":\" \",\"metrics\":{\"centrality\":11,\"complexity\":8.0,\"blocking factor\":2,\"delay factor\":6.0},\"nameSub\":\"Prob/Stat ECE/App/Engr Elective\",\"id\":29,\"credits\":3,\"nameCanonical\":\"\"},{\"curriculum_requisites\":[],\"name\":\" \",\"metrics\":{\"centrality\":0,\"complexity\":1.0,\"blocking factor\":0,\"delay factor\":1.0},\"nameSub\":\"ECE Elective\",\"id\":30,\"credits\":3,\"nameCanonical\":\"\"},{\"curriculum_requisites\":[],\"name\":\" \",\"metrics\":{\"centrality\":0,\"complexity\":1.0,\"blocking factor\":0,\"delay factor\":1.0},\"nameSub\":\"ECE Elective\",\"id\":31,\"credits\":3,\"nameCanonical\":\"\"},{\"curriculum_requisites\":[{\"source_id\":19,\"target_id\":32,\"type\":\"CurriculumPrerequisite\"}],\"name\":\" \",\"metrics\":{\"centrality\":7,\"complexity\":9.0,\"blocking factor\":2,\"delay factor\":7.0},\"nameSub\":\"ECE 3072\",\"id\":32,\"credits\":3,\"nameCanonical\":\"\"},{\"curriculum_requisites\":[],\"name\":\" \",\"metrics\":{\"centrality\":0,\"complexity\":1.0,\"blocking factor\":0,\"delay factor\":1.0},\"nameSub\":\"Approved Elective\",\"id\":33,\"credits\":3,\"nameCanonical\":\"\"}],\"id\":6},{\"name\":\"Term 7\",\"curriculum_items\":[{\"curriculum_requisites\":[],\"name\":\" \",\"metrics\":{\"centrality\":0,\"complexity\":1.0,\"blocking factor\":0,\"delay factor\":1.0},\"nameSub\":\"Engineering Elective\",\"id\":34,\"credits\":3,\"nameCanonical\":\"\"},{\"curriculum_requisites\":[],\"name\":\" \",\"metrics\":{\"centrality\":0,\"complexity\":1.0,\"blocking factor\":0,\"delay factor\":1.0},\"nameSub\":\"ECE Elective\",\"id\":35,\"credits\":3,\"nameCanonical\":\"\"},{\"curriculum_requisites\":[{\"source_id\":26,\"target_id\":36,\"type\":\"CurriculumPrerequisite\"},{\"source_id\":25,\"target_id\":36,\"type\":\"CurriculumPrerequisite\"},{\"source_id\":32,\"target_id\":36,\"type\":\"CurriculumPrerequisite\"},{\"source_id\":29,\"target_id\":36,\"type\":\"CurriculumPrerequisite\"},{\"source_id\":15,\"target_id\":36,\"type\":\"CurriculumPrerequisite\"},{\"source_id\":24,\"target_id\":36,\"type\":\"CurriculumPrerequisite\"}],\"name\":\" \",\"metrics\":{\"centrality\":111,\"complexity\":9.0,\"blocking factor\":1,\"delay factor\":8.0},\"nameSub\":\"ECE 4011\",\"id\":36,\"credits\":2,\"nameCanonical\":\"\"},{\"curriculum_requisites\":[],\"name\":\" \",\"metrics\":{\"centrality\":0,\"complexity\":1.0,\"blocking factor\":0,\"delay factor\":1.0},\"nameSub\":\"ECE 4XXX Elective\",\"id\":37,\"credits\":3,\"nameCanonical\":\"\"},{\"curriculum_requisites\":[],\"name\":\" \",\"metrics\":{\"centrality\":0,\"complexity\":1.0,\"blocking factor\":0,\"delay factor\":1.0},\"nameSub\":\"ECE 4XXX Lab Elective\",\"id\":38,\"credits\":3,\"nameCanonical\":\"\"},{\"curriculum_requisites\":[],\"name\":\" \",\"metrics\":{\"centrality\":0,\"complexity\":1.0,\"blocking factor\":0,\"delay factor\":1.0},\"nameSub\":\"Approved Elective\",\"id\":39,\"credits\":3,\"nameCanonical\":\"\"}],\"id\":7},{\"name\":\"Term 8\",\"curriculum_items\":[{\"curriculum_requisites\":[],\"name\":\" \",\"metrics\":{\"centrality\":0,\"complexity\":1.0,\"blocking factor\":0,\"delay factor\":1.0},\"nameSub\":\"Humanities Elective\",\"id\":40,\"credits\":3,\"nameCanonical\":\"\"},{\"curriculum_requisites\":[{\"source_id\":36,\"target_id\":41,\"type\":\"CurriculumPrerequisite\"}],\"name\":\" \",\"metrics\":{\"centrality\":0,\"complexity\":8.0,\"blocking factor\":0,\"delay factor\":8.0},\"nameSub\":\"ECE 4012\",\"id\":41,\"credits\":3,\"nameCanonical\":\"\"},{\"curriculum_requisites\":[],\"name\":\" \",\"metrics\":{\"centrality\":0,\"complexity\":1.0,\"blocking factor\":0,\"delay factor\":1.0},\"nameSub\":\"ECE 4XXX Elective\",\"id\":42,\"credits\":3,\"nameCanonical\":\"\"},{\"curriculum_requisites\":[],\"name\":\" \",\"metrics\":{\"centrality\":0,\"complexity\":1.0,\"blocking factor\":0,\"delay factor\":1.0},\"nameSub\":\"Approved Elective\",\"id\":43,\"credits\":3,\"nameCanonical\":\"\"},{\"curriculum_requisites\":[],\"name\":\" \",\"metrics\":{\"centrality\":0,\"complexity\":1.0,\"blocking factor\":0,\"delay factor\":1.0},\"nameSub\":\"Approved Elective\",\"id\":44,\"credits\":3,\"nameCanonical\":\"\"}],\"id\":8}],\"institution\":\"Georgia Institute of Technology\"}},\"*\"); window.removeEventListener(\"message\",window.messageReceived); window.messageReceived=(function (event){return (event.data.curriculum!==undefined) ? (WebIO.setval({\"name\":\"curriculum-data\",\"scope\":\"1651143337724458144\",\"id\":\"12708692643979458014\",\"type\":\"observable\"},event.data.curriculum)) : undefined}); return window.addEventListener(\"message\",window.messageReceived)})"
          },
          "id": "curriculum",
          "src": "http://localhost:8156",
          "style": {
           "border": "none",
           "height": "80vh",
           "margin": "0",
           "padding": "0",
           "width": "100%"
          }
         },
         "type": "node"
        }
       ],
       "instanceArgs": {
        "handlers": {},
        "id": "1651143337724458144",
        "imports": {
         "data": [],
         "type": "async_block"
        },
        "mount_callbacks": [],
        "observables": {
         "curriculum-data": {
          "id": "12708692643979458014",
          "sync": true,
          "value": {
           "curriculum": {
            "curriculum_terms": [
             {
              "curriculum_items": [
               {
                "credits": 4,
                "curriculum_requisites": [],
                "id": 1,
                "metrics": {
                 "blocking factor": 4,
                 "centrality": 0,
                 "complexity": 9,
                 "delay factor": 5
                },
                "name": " ",
                "nameCanonical": "",
                "nameSub": "CHEM 1310"
               },
               {
                "credits": 2,
                "curriculum_requisites": [],
                "id": 2,
                "metrics": {
                 "blocking factor": 15,
                 "centrality": 0,
                 "complexity": 23,
                 "delay factor": 8
                },
                "name": " ",
                "nameCanonical": "",
                "nameSub": "MATH 1551"
               },
               {
                "credits": 2,
                "curriculum_requisites": [],
                "id": 3,
                "metrics": {
                 "blocking factor": 10,
                 "centrality": 0,
                 "complexity": 16,
                 "delay factor": 6
                },
                "name": " ",
                "nameCanonical": "",
                "nameSub": "MATH 1553"
               },
               {
                "credits": 3,
                "curriculum_requisites": [],
                "id": 4,
                "metrics": {
                 "blocking factor": 10,
                 "centrality": 0,
                 "complexity": 17,
                 "delay factor": 7
                },
                "name": " ",
                "nameCanonical": "",
                "nameSub": "CS 1371"
               },
               {
                "credits": 3,
                "curriculum_requisites": [],
                "id": 5,
                "metrics": {
                 "blocking factor": 0,
                 "centrality": 0,
                 "complexity": 1,
                 "delay factor": 1
                },
                "name": " ",
                "nameCanonical": "",
                "nameSub": "Wellness Elective"
               },
               {
                "credits": 3,
                "curriculum_requisites": [],
                "id": 6,
                "metrics": {
                 "blocking factor": 1,
                 "centrality": 0,
                 "complexity": 3,
                 "delay factor": 2
                },
                "name": " ",
                "nameCanonical": "",
                "nameSub": "ENGL 1101"
               }
              ],
              "id": 1,
              "name": "Term 1"
             },
             {
              "curriculum_items": [
               {
                "credits": 4,
                "curriculum_requisites": [
                 {
                  "source_id": 2,
                  "target_id": 7,
                  "type": "CurriculumPrerequisite"
                 }
                ],
                "id": 7,
                "metrics": {
                 "blocking factor": 9,
                 "centrality": 29,
                 "complexity": 17,
                 "delay factor": 8
                },
                "name": " ",
                "nameCanonical": "",
                "nameSub": "PHYS 2211"
               },
               {
                "credits": 4,
                "curriculum_requisites": [
                 {
                  "source_id": 2,
                  "target_id": 8,
                  "type": "CurriculumPrerequisite"
                 }
                ],
                "id": 8,
                "metrics": {
                 "blocking factor": 10,
                 "centrality": 34,
                 "complexity": 17,
                 "delay factor": 7
                },
                "name": " ",
                "nameCanonical": "",
                "nameSub": "MATH 1552"
               },
               {
                "credits": 3,
                "curriculum_requisites": [
                 {
                  "source_id": 4,
                  "target_id": 9,
                  "type": "CurriculumPrerequisite"
                 }
                ],
                "id": 9,
                "metrics": {
                 "blocking factor": 6,
                 "centrality": 11,
                 "complexity": 13,
                 "delay factor": 7
                },
                "name": " ",
                "nameCanonical": "",
                "nameSub": "ECE 2020"
               },
               {
                "credits": 3,
                "curriculum_requisites": [],
                "id": 10,
                "metrics": {
                 "blocking factor": 0,
                 "centrality": 0,
                 "complexity": 1,
                 "delay factor": 1
                },
                "name": " ",
                "nameCanonical": "",
                "nameSub": "History/Government Elective"
               },
               {
                "credits": 3,
                "curriculum_requisites": [
                 {
                  "source_id": 6,
                  "target_id": 11,
                  "type": "CurriculumPrerequisite"
                 }
                ],
                "id": 11,
                "metrics": {
                 "blocking factor": 0,
                 "centrality": 0,
                 "complexity": 2,
                 "delay factor": 2
                },
                "name": " ",
                "nameCanonical": "",
                "nameSub": "ENGL 1102"
               }
              ],
              "id": 2,
              "name": "Term 2"
             },
             {
              "curriculum_items": [
               {
                "credits": 4,
                "curriculum_requisites": [
                 {
                  "source_id": 7,
                  "target_id": 12,
                  "type": "CurriculumPrerequisite"
                 }
                ],
                "id": 12,
                "metrics": {
                 "blocking factor": 8,
                 "centrality": 29,
                 "complexity": 16,
                 "delay factor": 8
                },
                "name": " ",
                "nameCanonical": "",
                "nameSub": "PHYS 2212"
               },
               {
                "credits": 4,
                "curriculum_requisites": [
                 {
                  "source_id": 3,
                  "target_id": 13,
                  "type": "CurriculumPrerequisite"
                 },
                 {
                  "source_id": 8,
                  "target_id": 13,
                  "type": "CurriculumPrerequisite"
                 }
                ],
                "id": 13,
                "metrics": {
                 "blocking factor": 0,
                 "centrality": 0,
                 "complexity": 3,
                 "delay factor": 3
                },
                "name": " ",
                "nameCanonical": "",
                "nameSub": "MATH 2552"
               },
               {
                "credits": 3,
                "curriculum_requisites": [
                 {
                  "source_id": 4,
                  "target_id": 14,
                  "type": "CurriculumPrerequisite"
                 },
                 {
                  "source_id": 3,
                  "target_id": 14,
                  "type": "CurriculumPrerequisite"
                 },
                 {
                  "source_id": 8,
                  "target_id": 14,
                  "type": "CurriculumPrerequisite"
                 }
                ],
                "id": 14,
                "metrics": {
                 "blocking factor": 4,
                 "centrality": 32,
                 "complexity": 10,
                 "delay factor": 6
                },
                "name": " ",
                "nameCanonical": "",
                "nameSub": "ECE 2026"
               },
               {
                "credits": 3,
                "curriculum_requisites": [],
                "id": 15,
                "metrics": {
                 "blocking factor": 2,
                 "centrality": 0,
                 "complexity": 5,
                 "delay factor": 3
                },
                "name": " ",
                "nameCanonical": "",
                "nameSub": "Economics Elective"
               },
               {
                "credits": 3,
                "curriculum_requisites": [],
                "id": 16,
                "metrics": {
                 "blocking factor": 0,
                 "centrality": 0,
                 "complexity": 1,
                 "delay factor": 1
                },
                "name": " ",
                "nameCanonical": "",
                "nameSub": "Social Sciences Elective"
               }
              ],
              "id": 3,
              "name": "Term 3"
             },
             {
              "curriculum_items": [
               {
                "credits": 3,
                "curriculum_requisites": [],
                "id": 17,
                "metrics": {
                 "blocking factor": 0,
                 "centrality": 0,
                 "complexity": 1,
                 "delay factor": 1
                },
                "name": " ",
                "nameCanonical": "",
                "nameSub": "Science Elective"
               },
               {
                "credits": 4,
                "curriculum_requisites": [
                 {
                  "source_id": 3,
                  "target_id": 18,
                  "type": "CurriculumPrerequisite"
                 },
                 {
                  "source_id": 8,
                  "target_id": 18,
                  "type": "CurriculumPrerequisite"
                 }
                ],
                "id": 18,
                "metrics": {
                 "blocking factor": 6,
                 "centrality": 35,
                 "complexity": 13,
                 "delay factor": 7
                },
                "name": " ",
                "nameCanonical": "",
                "nameSub": "MATH 2551"
               },
               {
                "credits": 3,
                "curriculum_requisites": [
                 {
                  "source_id": 12,
                  "target_id": 19,
                  "type": "CurriculumPrerequisite"
                 }
                ],
                "id": 19,
                "metrics": {
                 "blocking factor": 7,
                 "centrality": 29,
                 "complexity": 15,
                 "delay factor": 8
                },
                "name": " ",
                "nameCanonical": "",
                "nameSub": "ECE 2040"
               },
               {
                "credits": 2,
                "curriculum_requisites": [
                 {
                  "source_id": 9,
                  "target_id": 20,
                  "type": "CurriculumPrerequisite"
                 }
                ],
                "id": 20,
                "metrics": {
                 "blocking factor": 5,
                 "centrality": 11,
                 "complexity": 12,
                 "delay factor": 7
                },
                "name": " ",
                "nameCanonical": "",
                "nameSub": "ECE 2031"
               },
               {
                "credits": 3,
                "curriculum_requisites": [
                 {
                  "source_id": 20,
                  "target_id": 21,
                  "type": "CurriculumCorequisite"
                 }
                ],
                "id": 21,
                "metrics": {
                 "blocking factor": 0,
                 "centrality": 0,
                 "complexity": 4,
                 "delay factor": 4
                },
                "name": " ",
                "nameCanonical": "",
                "nameSub": "Programming Elective"
               }
              ],
              "id": 4,
              "name": "Term 4"
             },
             {
              "curriculum_items": [
               {
                "credits": 3,
                "curriculum_requisites": [],
                "id": 22,
                "metrics": {
                 "blocking factor": 0,
                 "centrality": 0,
                 "complexity": 1,
                 "delay factor": 1
                },
                "name": " ",
                "nameCanonical": "",
                "nameSub": "Humanities Elective"
               },
               {
                "credits": 4,
                "curriculum_requisites": [
                 {
                  "source_id": 20,
                  "target_id": 23,
                  "type": "CurriculumPrerequisite"
                 },
                 {
                  "source_id": 1,
                  "target_id": 23,
                  "type": "CurriculumPrerequisite"
                 },
                 {
                  "source_id": 19,
                  "target_id": 23,
                  "type": "CurriculumPrerequisite"
                 },
                 {
                  "source_id": 18,
                  "target_id": 23,
                  "type": "CurriculumPrerequisite"
                 }
                ],
                "id": 23,
                "metrics": {
                 "blocking factor": 3,
                 "centrality": 33,
                 "complexity": 11,
                 "delay factor": 8
                },
                "name": " ",
                "nameCanonical": "",
                "nameSub": "ECE 3040"
               },
               {
                "credits": 2,
                "curriculum_requisites": [
                 {
                  "source_id": 23,
                  "target_id": 24,
                  "type": "CurriculumCorequisite"
                 }
                ],
                "id": 24,
                "metrics": {
                 "blocking factor": 2,
                 "centrality": 33,
                 "complexity": 10,
                 "delay factor": 8
                },
                "name": " ",
                "nameCanonical": "",
                "nameSub": "ECE 3043"
               },
               {
                "credits": 3,
                "curriculum_requisites": [
                 {
                  "source_id": 14,
                  "target_id": 25,
                  "type": "CurriculumPrerequisite"
                 },
                 {
                  "source_id": 19,
                  "target_id": 25,
                  "type": "CurriculumPrerequisite"
                 },
                 {
                  "source_id": 18,
                  "target_id": 25,
                  "type": "CurriculumPrerequisite"
                 }
                ],
                "id": 25,
                "metrics": {
                 "blocking factor": 2,
                 "centrality": 34,
                 "complexity": 9,
                 "delay factor": 7
                },
                "name": " ",
                "nameCanonical": "",
                "nameSub": "ECE 3025"
               },
               {
                "credits": 3,
                "curriculum_requisites": [
                 {
                  "source_id": 14,
                  "target_id": 26,
                  "type": "CurriculumPrerequisite"
                 },
                 {
                  "source_id": 19,
                  "target_id": 26,
                  "type": "CurriculumPrerequisite"
                 }
                ],
                "id": 26,
                "metrics": {
                 "blocking factor": 2,
                 "centrality": 23,
                 "complexity": 9,
                 "delay factor": 7
                },
                "name": " ",
                "nameCanonical": "",
                "nameSub": "ECE 3084"
               },
               {
                "credits": 3,
                "curriculum_requisites": [],
                "id": 27,
                "metrics": {
                 "blocking factor": 0,
                 "centrality": 0,
                 "complexity": 1,
                 "delay factor": 1
                },
                "name": " ",
                "nameCanonical": "",
                "nameSub": "Social Sciences Elective"
               }
              ],
              "id": 5,
              "name": "Term 5"
             },
             {
              "curriculum_items": [
               {
                "credits": 3,
                "curriculum_requisites": [],
                "id": 28,
                "metrics": {
                 "blocking factor": 0,
                 "centrality": 0,
                 "complexity": 1,
                 "delay factor": 1
                },
                "name": " ",
                "nameCanonical": "",
                "nameSub": "ECE/Approved Engineering Elective"
               },
               {
                "credits": 3,
                "curriculum_requisites": [
                 {
                  "source_id": 18,
                  "target_id": 29,
                  "type": "CurriculumPrerequisite"
                 }
                ],
                "id": 29,
                "metrics": {
                 "blocking factor": 2,
                 "centrality": 11,
                 "complexity": 8,
                 "delay factor": 6
                },
                "name": " ",
                "nameCanonical": "",
                "nameSub": "Prob/Stat ECE/App/Engr Elective"
               },
               {
                "credits": 3,
                "curriculum_requisites": [],
                "id": 30,
                "metrics": {
                 "blocking factor": 0,
                 "centrality": 0,
                 "complexity": 1,
                 "delay factor": 1
                },
                "name": " ",
                "nameCanonical": "",
                "nameSub": "ECE Elective"
               },
               {
                "credits": 3,
                "curriculum_requisites": [],
                "id": 31,
                "metrics": {
                 "blocking factor": 0,
                 "centrality": 0,
                 "complexity": 1,
                 "delay factor": 1
                },
                "name": " ",
                "nameCanonical": "",
                "nameSub": "ECE Elective"
               },
               {
                "credits": 3,
                "curriculum_requisites": [
                 {
                  "source_id": 19,
                  "target_id": 32,
                  "type": "CurriculumPrerequisite"
                 }
                ],
                "id": 32,
                "metrics": {
                 "blocking factor": 2,
                 "centrality": 7,
                 "complexity": 9,
                 "delay factor": 7
                },
                "name": " ",
                "nameCanonical": "",
                "nameSub": "ECE 3072"
               },
               {
                "credits": 3,
                "curriculum_requisites": [],
                "id": 33,
                "metrics": {
                 "blocking factor": 0,
                 "centrality": 0,
                 "complexity": 1,
                 "delay factor": 1
                },
                "name": " ",
                "nameCanonical": "",
                "nameSub": "Approved Elective"
               }
              ],
              "id": 6,
              "name": "Term 6"
             },
             {
              "curriculum_items": [
               {
                "credits": 3,
                "curriculum_requisites": [],
                "id": 34,
                "metrics": {
                 "blocking factor": 0,
                 "centrality": 0,
                 "complexity": 1,
                 "delay factor": 1
                },
                "name": " ",
                "nameCanonical": "",
                "nameSub": "Engineering Elective"
               },
               {
                "credits": 3,
                "curriculum_requisites": [],
                "id": 35,
                "metrics": {
                 "blocking factor": 0,
                 "centrality": 0,
                 "complexity": 1,
                 "delay factor": 1
                },
                "name": " ",
                "nameCanonical": "",
                "nameSub": "ECE Elective"
               },
               {
                "credits": 2,
                "curriculum_requisites": [
                 {
                  "source_id": 26,
                  "target_id": 36,
                  "type": "CurriculumPrerequisite"
                 },
                 {
                  "source_id": 25,
                  "target_id": 36,
                  "type": "CurriculumPrerequisite"
                 },
                 {
                  "source_id": 32,
                  "target_id": 36,
                  "type": "CurriculumPrerequisite"
                 },
                 {
                  "source_id": 29,
                  "target_id": 36,
                  "type": "CurriculumPrerequisite"
                 },
                 {
                  "source_id": 15,
                  "target_id": 36,
                  "type": "CurriculumPrerequisite"
                 },
                 {
                  "source_id": 24,
                  "target_id": 36,
                  "type": "CurriculumPrerequisite"
                 }
                ],
                "id": 36,
                "metrics": {
                 "blocking factor": 1,
                 "centrality": 111,
                 "complexity": 9,
                 "delay factor": 8
                },
                "name": " ",
                "nameCanonical": "",
                "nameSub": "ECE 4011"
               },
               {
                "credits": 3,
                "curriculum_requisites": [],
                "id": 37,
                "metrics": {
                 "blocking factor": 0,
                 "centrality": 0,
                 "complexity": 1,
                 "delay factor": 1
                },
                "name": " ",
                "nameCanonical": "",
                "nameSub": "ECE 4XXX Elective"
               },
               {
                "credits": 3,
                "curriculum_requisites": [],
                "id": 38,
                "metrics": {
                 "blocking factor": 0,
                 "centrality": 0,
                 "complexity": 1,
                 "delay factor": 1
                },
                "name": " ",
                "nameCanonical": "",
                "nameSub": "ECE 4XXX Lab Elective"
               },
               {
                "credits": 3,
                "curriculum_requisites": [],
                "id": 39,
                "metrics": {
                 "blocking factor": 0,
                 "centrality": 0,
                 "complexity": 1,
                 "delay factor": 1
                },
                "name": " ",
                "nameCanonical": "",
                "nameSub": "Approved Elective"
               }
              ],
              "id": 7,
              "name": "Term 7"
             },
             {
              "curriculum_items": [
               {
                "credits": 3,
                "curriculum_requisites": [],
                "id": 40,
                "metrics": {
                 "blocking factor": 0,
                 "centrality": 0,
                 "complexity": 1,
                 "delay factor": 1
                },
                "name": " ",
                "nameCanonical": "",
                "nameSub": "Humanities Elective"
               },
               {
                "credits": 3,
                "curriculum_requisites": [
                 {
                  "source_id": 36,
                  "target_id": 41,
                  "type": "CurriculumPrerequisite"
                 }
                ],
                "id": 41,
                "metrics": {
                 "blocking factor": 0,
                 "centrality": 0,
                 "complexity": 8,
                 "delay factor": 8
                },
                "name": " ",
                "nameCanonical": "",
                "nameSub": "ECE 4012"
               },
               {
                "credits": 3,
                "curriculum_requisites": [],
                "id": 42,
                "metrics": {
                 "blocking factor": 0,
                 "centrality": 0,
                 "complexity": 1,
                 "delay factor": 1
                },
                "name": " ",
                "nameCanonical": "",
                "nameSub": "ECE 4XXX Elective"
               },
               {
                "credits": 3,
                "curriculum_requisites": [],
                "id": 43,
                "metrics": {
                 "blocking factor": 0,
                 "centrality": 0,
                 "complexity": 1,
                 "delay factor": 1
                },
                "name": " ",
                "nameCanonical": "",
                "nameSub": "Approved Elective"
               },
               {
                "credits": 3,
                "curriculum_requisites": [],
                "id": 44,
                "metrics": {
                 "blocking factor": 0,
                 "centrality": 0,
                 "complexity": 1,
                 "delay factor": 1
                },
                "name": " ",
                "nameCanonical": "",
                "nameSub": "Approved Elective"
               }
              ],
              "id": 8,
              "name": "Term 8"
             }
            ],
            "dp_name": "2017-18 Plan",
            "institution": "Georgia Institute of Technology",
            "name": "Electrical Engineering"
           },
           "options": {
            "edit": false,
            "hideTerms": false
           }
          }
         }
        },
        "systemjs_options": null
       },
       "nodeType": "Scope",
       "props": {},
       "type": "node"
      },
      "text/html": [
       "<div\n",
       "    class=\"webio-mountpoint\"\n",
       "    data-webio-mountpoint=\"11461753547432601026\"\n",
       ">\n",
       "    <script>\n",
       "    if (window.require && require.defined && require.defined(\"nbextensions/webio-jupyter-notebook\")) {\n",
       "        console.log(\"Jupyter WebIO extension detected, not mounting.\");\n",
       "    } else if (window.WebIO) {\n",
       "        WebIO.mount(\n",
       "            document.querySelector('[data-webio-mountpoint=\"11461753547432601026\"]'),\n",
       "            {\"props\":{},\"nodeType\":\"Scope\",\"type\":\"node\",\"instanceArgs\":{\"imports\":{\"data\":[],\"type\":\"async_block\"},\"id\":\"1651143337724458144\",\"handlers\":{},\"systemjs_options\":null,\"mount_callbacks\":[],\"observables\":{\"curriculum-data\":{\"sync\":true,\"id\":\"12708692643979458014\",\"value\":{\"options\":{\"hideTerms\":false,\"edit\":false},\"curriculum\":{\"name\":\"Electrical Engineering\",\"dp_name\":\"2017-18 Plan\",\"curriculum_terms\":[{\"name\":\"Term 1\",\"curriculum_items\":[{\"curriculum_requisites\":[],\"name\":\" \",\"metrics\":{\"centrality\":0,\"complexity\":9.0,\"blocking factor\":4,\"delay factor\":5.0},\"nameSub\":\"CHEM 1310\",\"id\":1,\"credits\":4,\"nameCanonical\":\"\"},{\"curriculum_requisites\":[],\"name\":\" \",\"metrics\":{\"centrality\":0,\"complexity\":23.0,\"blocking factor\":15,\"delay factor\":8.0},\"nameSub\":\"MATH 1551\",\"id\":2,\"credits\":2,\"nameCanonical\":\"\"},{\"curriculum_requisites\":[],\"name\":\" \",\"metrics\":{\"centrality\":0,\"complexity\":16.0,\"blocking factor\":10,\"delay factor\":6.0},\"nameSub\":\"MATH 1553\",\"id\":3,\"credits\":2,\"nameCanonical\":\"\"},{\"curriculum_requisites\":[],\"name\":\" \",\"metrics\":{\"centrality\":0,\"complexity\":17.0,\"blocking factor\":10,\"delay factor\":7.0},\"nameSub\":\"CS 1371\",\"id\":4,\"credits\":3,\"nameCanonical\":\"\"},{\"curriculum_requisites\":[],\"name\":\" \",\"metrics\":{\"centrality\":0,\"complexity\":1.0,\"blocking factor\":0,\"delay factor\":1.0},\"nameSub\":\"Wellness Elective\",\"id\":5,\"credits\":3,\"nameCanonical\":\"\"},{\"curriculum_requisites\":[],\"name\":\" \",\"metrics\":{\"centrality\":0,\"complexity\":3.0,\"blocking factor\":1,\"delay factor\":2.0},\"nameSub\":\"ENGL 1101\",\"id\":6,\"credits\":3,\"nameCanonical\":\"\"}],\"id\":1},{\"name\":\"Term 2\",\"curriculum_items\":[{\"curriculum_requisites\":[{\"source_id\":2,\"target_id\":7,\"type\":\"CurriculumPrerequisite\"}],\"name\":\" \",\"metrics\":{\"centrality\":29,\"complexity\":17.0,\"blocking factor\":9,\"delay factor\":8.0},\"nameSub\":\"PHYS 2211\",\"id\":7,\"credits\":4,\"nameCanonical\":\"\"},{\"curriculum_requisites\":[{\"source_id\":2,\"target_id\":8,\"type\":\"CurriculumPrerequisite\"}],\"name\":\" \",\"metrics\":{\"centrality\":34,\"complexity\":17.0,\"blocking factor\":10,\"delay factor\":7.0},\"nameSub\":\"MATH 1552\",\"id\":8,\"credits\":4,\"nameCanonical\":\"\"},{\"curriculum_requisites\":[{\"source_id\":4,\"target_id\":9,\"type\":\"CurriculumPrerequisite\"}],\"name\":\" \",\"metrics\":{\"centrality\":11,\"complexity\":13.0,\"blocking factor\":6,\"delay factor\":7.0},\"nameSub\":\"ECE 2020\",\"id\":9,\"credits\":3,\"nameCanonical\":\"\"},{\"curriculum_requisites\":[],\"name\":\" \",\"metrics\":{\"centrality\":0,\"complexity\":1.0,\"blocking factor\":0,\"delay factor\":1.0},\"nameSub\":\"History\\/Government Elective\",\"id\":10,\"credits\":3,\"nameCanonical\":\"\"},{\"curriculum_requisites\":[{\"source_id\":6,\"target_id\":11,\"type\":\"CurriculumPrerequisite\"}],\"name\":\" \",\"metrics\":{\"centrality\":0,\"complexity\":2.0,\"blocking factor\":0,\"delay factor\":2.0},\"nameSub\":\"ENGL 1102\",\"id\":11,\"credits\":3,\"nameCanonical\":\"\"}],\"id\":2},{\"name\":\"Term 3\",\"curriculum_items\":[{\"curriculum_requisites\":[{\"source_id\":7,\"target_id\":12,\"type\":\"CurriculumPrerequisite\"}],\"name\":\" \",\"metrics\":{\"centrality\":29,\"complexity\":16.0,\"blocking factor\":8,\"delay factor\":8.0},\"nameSub\":\"PHYS 2212\",\"id\":12,\"credits\":4,\"nameCanonical\":\"\"},{\"curriculum_requisites\":[{\"source_id\":3,\"target_id\":13,\"type\":\"CurriculumPrerequisite\"},{\"source_id\":8,\"target_id\":13,\"type\":\"CurriculumPrerequisite\"}],\"name\":\" \",\"metrics\":{\"centrality\":0,\"complexity\":3.0,\"blocking factor\":0,\"delay factor\":3.0},\"nameSub\":\"MATH 2552\",\"id\":13,\"credits\":4,\"nameCanonical\":\"\"},{\"curriculum_requisites\":[{\"source_id\":4,\"target_id\":14,\"type\":\"CurriculumPrerequisite\"},{\"source_id\":3,\"target_id\":14,\"type\":\"CurriculumPrerequisite\"},{\"source_id\":8,\"target_id\":14,\"type\":\"CurriculumPrerequisite\"}],\"name\":\" \",\"metrics\":{\"centrality\":32,\"complexity\":10.0,\"blocking factor\":4,\"delay factor\":6.0},\"nameSub\":\"ECE 2026\",\"id\":14,\"credits\":3,\"nameCanonical\":\"\"},{\"curriculum_requisites\":[],\"name\":\" \",\"metrics\":{\"centrality\":0,\"complexity\":5.0,\"blocking factor\":2,\"delay factor\":3.0},\"nameSub\":\"Economics Elective\",\"id\":15,\"credits\":3,\"nameCanonical\":\"\"},{\"curriculum_requisites\":[],\"name\":\" \",\"metrics\":{\"centrality\":0,\"complexity\":1.0,\"blocking factor\":0,\"delay factor\":1.0},\"nameSub\":\"Social Sciences Elective\",\"id\":16,\"credits\":3,\"nameCanonical\":\"\"}],\"id\":3},{\"name\":\"Term 4\",\"curriculum_items\":[{\"curriculum_requisites\":[],\"name\":\" \",\"metrics\":{\"centrality\":0,\"complexity\":1.0,\"blocking factor\":0,\"delay factor\":1.0},\"nameSub\":\"Science Elective\",\"id\":17,\"credits\":3,\"nameCanonical\":\"\"},{\"curriculum_requisites\":[{\"source_id\":3,\"target_id\":18,\"type\":\"CurriculumPrerequisite\"},{\"source_id\":8,\"target_id\":18,\"type\":\"CurriculumPrerequisite\"}],\"name\":\" \",\"metrics\":{\"centrality\":35,\"complexity\":13.0,\"blocking factor\":6,\"delay factor\":7.0},\"nameSub\":\"MATH 2551\",\"id\":18,\"credits\":4,\"nameCanonical\":\"\"},{\"curriculum_requisites\":[{\"source_id\":12,\"target_id\":19,\"type\":\"CurriculumPrerequisite\"}],\"name\":\" \",\"metrics\":{\"centrality\":29,\"complexity\":15.0,\"blocking factor\":7,\"delay factor\":8.0},\"nameSub\":\"ECE 2040\",\"id\":19,\"credits\":3,\"nameCanonical\":\"\"},{\"curriculum_requisites\":[{\"source_id\":9,\"target_id\":20,\"type\":\"CurriculumPrerequisite\"}],\"name\":\" \",\"metrics\":{\"centrality\":11,\"complexity\":12.0,\"blocking factor\":5,\"delay factor\":7.0},\"nameSub\":\"ECE 2031\",\"id\":20,\"credits\":2,\"nameCanonical\":\"\"},{\"curriculum_requisites\":[{\"source_id\":20,\"target_id\":21,\"type\":\"CurriculumCorequisite\"}],\"name\":\" \",\"metrics\":{\"centrality\":0,\"complexity\":4.0,\"blocking factor\":0,\"delay factor\":4.0},\"nameSub\":\"Programming Elective\",\"id\":21,\"credits\":3,\"nameCanonical\":\"\"}],\"id\":4},{\"name\":\"Term 5\",\"curriculum_items\":[{\"curriculum_requisites\":[],\"name\":\" \",\"metrics\":{\"centrality\":0,\"complexity\":1.0,\"blocking factor\":0,\"delay factor\":1.0},\"nameSub\":\"Humanities Elective\",\"id\":22,\"credits\":3,\"nameCanonical\":\"\"},{\"curriculum_requisites\":[{\"source_id\":20,\"target_id\":23,\"type\":\"CurriculumPrerequisite\"},{\"source_id\":1,\"target_id\":23,\"type\":\"CurriculumPrerequisite\"},{\"source_id\":19,\"target_id\":23,\"type\":\"CurriculumPrerequisite\"},{\"source_id\":18,\"target_id\":23,\"type\":\"CurriculumPrerequisite\"}],\"name\":\" \",\"metrics\":{\"centrality\":33,\"complexity\":11.0,\"blocking factor\":3,\"delay factor\":8.0},\"nameSub\":\"ECE 3040\",\"id\":23,\"credits\":4,\"nameCanonical\":\"\"},{\"curriculum_requisites\":[{\"source_id\":23,\"target_id\":24,\"type\":\"CurriculumCorequisite\"}],\"name\":\" \",\"metrics\":{\"centrality\":33,\"complexity\":10.0,\"blocking factor\":2,\"delay factor\":8.0},\"nameSub\":\"ECE 3043\",\"id\":24,\"credits\":2,\"nameCanonical\":\"\"},{\"curriculum_requisites\":[{\"source_id\":14,\"target_id\":25,\"type\":\"CurriculumPrerequisite\"},{\"source_id\":19,\"target_id\":25,\"type\":\"CurriculumPrerequisite\"},{\"source_id\":18,\"target_id\":25,\"type\":\"CurriculumPrerequisite\"}],\"name\":\" \",\"metrics\":{\"centrality\":34,\"complexity\":9.0,\"blocking factor\":2,\"delay factor\":7.0},\"nameSub\":\"ECE 3025\",\"id\":25,\"credits\":3,\"nameCanonical\":\"\"},{\"curriculum_requisites\":[{\"source_id\":14,\"target_id\":26,\"type\":\"CurriculumPrerequisite\"},{\"source_id\":19,\"target_id\":26,\"type\":\"CurriculumPrerequisite\"}],\"name\":\" \",\"metrics\":{\"centrality\":23,\"complexity\":9.0,\"blocking factor\":2,\"delay factor\":7.0},\"nameSub\":\"ECE 3084\",\"id\":26,\"credits\":3,\"nameCanonical\":\"\"},{\"curriculum_requisites\":[],\"name\":\" \",\"metrics\":{\"centrality\":0,\"complexity\":1.0,\"blocking factor\":0,\"delay factor\":1.0},\"nameSub\":\"Social Sciences Elective\",\"id\":27,\"credits\":3,\"nameCanonical\":\"\"}],\"id\":5},{\"name\":\"Term 6\",\"curriculum_items\":[{\"curriculum_requisites\":[],\"name\":\" \",\"metrics\":{\"centrality\":0,\"complexity\":1.0,\"blocking factor\":0,\"delay factor\":1.0},\"nameSub\":\"ECE\\/Approved Engineering Elective\",\"id\":28,\"credits\":3,\"nameCanonical\":\"\"},{\"curriculum_requisites\":[{\"source_id\":18,\"target_id\":29,\"type\":\"CurriculumPrerequisite\"}],\"name\":\" \",\"metrics\":{\"centrality\":11,\"complexity\":8.0,\"blocking factor\":2,\"delay factor\":6.0},\"nameSub\":\"Prob\\/Stat ECE\\/App\\/Engr Elective\",\"id\":29,\"credits\":3,\"nameCanonical\":\"\"},{\"curriculum_requisites\":[],\"name\":\" \",\"metrics\":{\"centrality\":0,\"complexity\":1.0,\"blocking factor\":0,\"delay factor\":1.0},\"nameSub\":\"ECE Elective\",\"id\":30,\"credits\":3,\"nameCanonical\":\"\"},{\"curriculum_requisites\":[],\"name\":\" \",\"metrics\":{\"centrality\":0,\"complexity\":1.0,\"blocking factor\":0,\"delay factor\":1.0},\"nameSub\":\"ECE Elective\",\"id\":31,\"credits\":3,\"nameCanonical\":\"\"},{\"curriculum_requisites\":[{\"source_id\":19,\"target_id\":32,\"type\":\"CurriculumPrerequisite\"}],\"name\":\" \",\"metrics\":{\"centrality\":7,\"complexity\":9.0,\"blocking factor\":2,\"delay factor\":7.0},\"nameSub\":\"ECE 3072\",\"id\":32,\"credits\":3,\"nameCanonical\":\"\"},{\"curriculum_requisites\":[],\"name\":\" \",\"metrics\":{\"centrality\":0,\"complexity\":1.0,\"blocking factor\":0,\"delay factor\":1.0},\"nameSub\":\"Approved Elective\",\"id\":33,\"credits\":3,\"nameCanonical\":\"\"}],\"id\":6},{\"name\":\"Term 7\",\"curriculum_items\":[{\"curriculum_requisites\":[],\"name\":\" \",\"metrics\":{\"centrality\":0,\"complexity\":1.0,\"blocking factor\":0,\"delay factor\":1.0},\"nameSub\":\"Engineering Elective\",\"id\":34,\"credits\":3,\"nameCanonical\":\"\"},{\"curriculum_requisites\":[],\"name\":\" \",\"metrics\":{\"centrality\":0,\"complexity\":1.0,\"blocking factor\":0,\"delay factor\":1.0},\"nameSub\":\"ECE Elective\",\"id\":35,\"credits\":3,\"nameCanonical\":\"\"},{\"curriculum_requisites\":[{\"source_id\":26,\"target_id\":36,\"type\":\"CurriculumPrerequisite\"},{\"source_id\":25,\"target_id\":36,\"type\":\"CurriculumPrerequisite\"},{\"source_id\":32,\"target_id\":36,\"type\":\"CurriculumPrerequisite\"},{\"source_id\":29,\"target_id\":36,\"type\":\"CurriculumPrerequisite\"},{\"source_id\":15,\"target_id\":36,\"type\":\"CurriculumPrerequisite\"},{\"source_id\":24,\"target_id\":36,\"type\":\"CurriculumPrerequisite\"}],\"name\":\" \",\"metrics\":{\"centrality\":111,\"complexity\":9.0,\"blocking factor\":1,\"delay factor\":8.0},\"nameSub\":\"ECE 4011\",\"id\":36,\"credits\":2,\"nameCanonical\":\"\"},{\"curriculum_requisites\":[],\"name\":\" \",\"metrics\":{\"centrality\":0,\"complexity\":1.0,\"blocking factor\":0,\"delay factor\":1.0},\"nameSub\":\"ECE 4XXX Elective\",\"id\":37,\"credits\":3,\"nameCanonical\":\"\"},{\"curriculum_requisites\":[],\"name\":\" \",\"metrics\":{\"centrality\":0,\"complexity\":1.0,\"blocking factor\":0,\"delay factor\":1.0},\"nameSub\":\"ECE 4XXX Lab Elective\",\"id\":38,\"credits\":3,\"nameCanonical\":\"\"},{\"curriculum_requisites\":[],\"name\":\" \",\"metrics\":{\"centrality\":0,\"complexity\":1.0,\"blocking factor\":0,\"delay factor\":1.0},\"nameSub\":\"Approved Elective\",\"id\":39,\"credits\":3,\"nameCanonical\":\"\"}],\"id\":7},{\"name\":\"Term 8\",\"curriculum_items\":[{\"curriculum_requisites\":[],\"name\":\" \",\"metrics\":{\"centrality\":0,\"complexity\":1.0,\"blocking factor\":0,\"delay factor\":1.0},\"nameSub\":\"Humanities Elective\",\"id\":40,\"credits\":3,\"nameCanonical\":\"\"},{\"curriculum_requisites\":[{\"source_id\":36,\"target_id\":41,\"type\":\"CurriculumPrerequisite\"}],\"name\":\" \",\"metrics\":{\"centrality\":0,\"complexity\":8.0,\"blocking factor\":0,\"delay factor\":8.0},\"nameSub\":\"ECE 4012\",\"id\":41,\"credits\":3,\"nameCanonical\":\"\"},{\"curriculum_requisites\":[],\"name\":\" \",\"metrics\":{\"centrality\":0,\"complexity\":1.0,\"blocking factor\":0,\"delay factor\":1.0},\"nameSub\":\"ECE 4XXX Elective\",\"id\":42,\"credits\":3,\"nameCanonical\":\"\"},{\"curriculum_requisites\":[],\"name\":\" \",\"metrics\":{\"centrality\":0,\"complexity\":1.0,\"blocking factor\":0,\"delay factor\":1.0},\"nameSub\":\"Approved Elective\",\"id\":43,\"credits\":3,\"nameCanonical\":\"\"},{\"curriculum_requisites\":[],\"name\":\" \",\"metrics\":{\"centrality\":0,\"complexity\":1.0,\"blocking factor\":0,\"delay factor\":1.0},\"nameSub\":\"Approved Elective\",\"id\":44,\"credits\":3,\"nameCanonical\":\"\"}],\"id\":8}],\"institution\":\"Georgia Institute of Technology\"}}}}},\"children\":[{\"props\":{\"src\":\"http:\\/\\/localhost:8156\",\"id\":\"curriculum\",\"events\":{\"load\":\"(function (){this.contentWindow.postMessage({\\\"options\\\":{\\\"hideTerms\\\":false,\\\"edit\\\":false},\\\"curriculum\\\":{\\\"name\\\":\\\"Electrical Engineering\\\",\\\"dp_name\\\":\\\"2017-18 Plan\\\",\\\"curriculum_terms\\\":[{\\\"name\\\":\\\"Term 1\\\",\\\"curriculum_items\\\":[{\\\"curriculum_requisites\\\":[],\\\"name\\\":\\\" \\\",\\\"metrics\\\":{\\\"centrality\\\":0,\\\"complexity\\\":9.0,\\\"blocking factor\\\":4,\\\"delay factor\\\":5.0},\\\"nameSub\\\":\\\"CHEM 1310\\\",\\\"id\\\":1,\\\"credits\\\":4,\\\"nameCanonical\\\":\\\"\\\"},{\\\"curriculum_requisites\\\":[],\\\"name\\\":\\\" \\\",\\\"metrics\\\":{\\\"centrality\\\":0,\\\"complexity\\\":23.0,\\\"blocking factor\\\":15,\\\"delay factor\\\":8.0},\\\"nameSub\\\":\\\"MATH 1551\\\",\\\"id\\\":2,\\\"credits\\\":2,\\\"nameCanonical\\\":\\\"\\\"},{\\\"curriculum_requisites\\\":[],\\\"name\\\":\\\" \\\",\\\"metrics\\\":{\\\"centrality\\\":0,\\\"complexity\\\":16.0,\\\"blocking factor\\\":10,\\\"delay factor\\\":6.0},\\\"nameSub\\\":\\\"MATH 1553\\\",\\\"id\\\":3,\\\"credits\\\":2,\\\"nameCanonical\\\":\\\"\\\"},{\\\"curriculum_requisites\\\":[],\\\"name\\\":\\\" \\\",\\\"metrics\\\":{\\\"centrality\\\":0,\\\"complexity\\\":17.0,\\\"blocking factor\\\":10,\\\"delay factor\\\":7.0},\\\"nameSub\\\":\\\"CS 1371\\\",\\\"id\\\":4,\\\"credits\\\":3,\\\"nameCanonical\\\":\\\"\\\"},{\\\"curriculum_requisites\\\":[],\\\"name\\\":\\\" \\\",\\\"metrics\\\":{\\\"centrality\\\":0,\\\"complexity\\\":1.0,\\\"blocking factor\\\":0,\\\"delay factor\\\":1.0},\\\"nameSub\\\":\\\"Wellness Elective\\\",\\\"id\\\":5,\\\"credits\\\":3,\\\"nameCanonical\\\":\\\"\\\"},{\\\"curriculum_requisites\\\":[],\\\"name\\\":\\\" \\\",\\\"metrics\\\":{\\\"centrality\\\":0,\\\"complexity\\\":3.0,\\\"blocking factor\\\":1,\\\"delay factor\\\":2.0},\\\"nameSub\\\":\\\"ENGL 1101\\\",\\\"id\\\":6,\\\"credits\\\":3,\\\"nameCanonical\\\":\\\"\\\"}],\\\"id\\\":1},{\\\"name\\\":\\\"Term 2\\\",\\\"curriculum_items\\\":[{\\\"curriculum_requisites\\\":[{\\\"source_id\\\":2,\\\"target_id\\\":7,\\\"type\\\":\\\"CurriculumPrerequisite\\\"}],\\\"name\\\":\\\" \\\",\\\"metrics\\\":{\\\"centrality\\\":29,\\\"complexity\\\":17.0,\\\"blocking factor\\\":9,\\\"delay factor\\\":8.0},\\\"nameSub\\\":\\\"PHYS 2211\\\",\\\"id\\\":7,\\\"credits\\\":4,\\\"nameCanonical\\\":\\\"\\\"},{\\\"curriculum_requisites\\\":[{\\\"source_id\\\":2,\\\"target_id\\\":8,\\\"type\\\":\\\"CurriculumPrerequisite\\\"}],\\\"name\\\":\\\" \\\",\\\"metrics\\\":{\\\"centrality\\\":34,\\\"complexity\\\":17.0,\\\"blocking factor\\\":10,\\\"delay factor\\\":7.0},\\\"nameSub\\\":\\\"MATH 1552\\\",\\\"id\\\":8,\\\"credits\\\":4,\\\"nameCanonical\\\":\\\"\\\"},{\\\"curriculum_requisites\\\":[{\\\"source_id\\\":4,\\\"target_id\\\":9,\\\"type\\\":\\\"CurriculumPrerequisite\\\"}],\\\"name\\\":\\\" \\\",\\\"metrics\\\":{\\\"centrality\\\":11,\\\"complexity\\\":13.0,\\\"blocking factor\\\":6,\\\"delay factor\\\":7.0},\\\"nameSub\\\":\\\"ECE 2020\\\",\\\"id\\\":9,\\\"credits\\\":3,\\\"nameCanonical\\\":\\\"\\\"},{\\\"curriculum_requisites\\\":[],\\\"name\\\":\\\" \\\",\\\"metrics\\\":{\\\"centrality\\\":0,\\\"complexity\\\":1.0,\\\"blocking factor\\\":0,\\\"delay factor\\\":1.0},\\\"nameSub\\\":\\\"History\\/Government Elective\\\",\\\"id\\\":10,\\\"credits\\\":3,\\\"nameCanonical\\\":\\\"\\\"},{\\\"curriculum_requisites\\\":[{\\\"source_id\\\":6,\\\"target_id\\\":11,\\\"type\\\":\\\"CurriculumPrerequisite\\\"}],\\\"name\\\":\\\" \\\",\\\"metrics\\\":{\\\"centrality\\\":0,\\\"complexity\\\":2.0,\\\"blocking factor\\\":0,\\\"delay factor\\\":2.0},\\\"nameSub\\\":\\\"ENGL 1102\\\",\\\"id\\\":11,\\\"credits\\\":3,\\\"nameCanonical\\\":\\\"\\\"}],\\\"id\\\":2},{\\\"name\\\":\\\"Term 3\\\",\\\"curriculum_items\\\":[{\\\"curriculum_requisites\\\":[{\\\"source_id\\\":7,\\\"target_id\\\":12,\\\"type\\\":\\\"CurriculumPrerequisite\\\"}],\\\"name\\\":\\\" \\\",\\\"metrics\\\":{\\\"centrality\\\":29,\\\"complexity\\\":16.0,\\\"blocking factor\\\":8,\\\"delay factor\\\":8.0},\\\"nameSub\\\":\\\"PHYS 2212\\\",\\\"id\\\":12,\\\"credits\\\":4,\\\"nameCanonical\\\":\\\"\\\"},{\\\"curriculum_requisites\\\":[{\\\"source_id\\\":3,\\\"target_id\\\":13,\\\"type\\\":\\\"CurriculumPrerequisite\\\"},{\\\"source_id\\\":8,\\\"target_id\\\":13,\\\"type\\\":\\\"CurriculumPrerequisite\\\"}],\\\"name\\\":\\\" \\\",\\\"metrics\\\":{\\\"centrality\\\":0,\\\"complexity\\\":3.0,\\\"blocking factor\\\":0,\\\"delay factor\\\":3.0},\\\"nameSub\\\":\\\"MATH 2552\\\",\\\"id\\\":13,\\\"credits\\\":4,\\\"nameCanonical\\\":\\\"\\\"},{\\\"curriculum_requisites\\\":[{\\\"source_id\\\":4,\\\"target_id\\\":14,\\\"type\\\":\\\"CurriculumPrerequisite\\\"},{\\\"source_id\\\":3,\\\"target_id\\\":14,\\\"type\\\":\\\"CurriculumPrerequisite\\\"},{\\\"source_id\\\":8,\\\"target_id\\\":14,\\\"type\\\":\\\"CurriculumPrerequisite\\\"}],\\\"name\\\":\\\" \\\",\\\"metrics\\\":{\\\"centrality\\\":32,\\\"complexity\\\":10.0,\\\"blocking factor\\\":4,\\\"delay factor\\\":6.0},\\\"nameSub\\\":\\\"ECE 2026\\\",\\\"id\\\":14,\\\"credits\\\":3,\\\"nameCanonical\\\":\\\"\\\"},{\\\"curriculum_requisites\\\":[],\\\"name\\\":\\\" \\\",\\\"metrics\\\":{\\\"centrality\\\":0,\\\"complexity\\\":5.0,\\\"blocking factor\\\":2,\\\"delay factor\\\":3.0},\\\"nameSub\\\":\\\"Economics Elective\\\",\\\"id\\\":15,\\\"credits\\\":3,\\\"nameCanonical\\\":\\\"\\\"},{\\\"curriculum_requisites\\\":[],\\\"name\\\":\\\" \\\",\\\"metrics\\\":{\\\"centrality\\\":0,\\\"complexity\\\":1.0,\\\"blocking factor\\\":0,\\\"delay factor\\\":1.0},\\\"nameSub\\\":\\\"Social Sciences Elective\\\",\\\"id\\\":16,\\\"credits\\\":3,\\\"nameCanonical\\\":\\\"\\\"}],\\\"id\\\":3},{\\\"name\\\":\\\"Term 4\\\",\\\"curriculum_items\\\":[{\\\"curriculum_requisites\\\":[],\\\"name\\\":\\\" \\\",\\\"metrics\\\":{\\\"centrality\\\":0,\\\"complexity\\\":1.0,\\\"blocking factor\\\":0,\\\"delay factor\\\":1.0},\\\"nameSub\\\":\\\"Science Elective\\\",\\\"id\\\":17,\\\"credits\\\":3,\\\"nameCanonical\\\":\\\"\\\"},{\\\"curriculum_requisites\\\":[{\\\"source_id\\\":3,\\\"target_id\\\":18,\\\"type\\\":\\\"CurriculumPrerequisite\\\"},{\\\"source_id\\\":8,\\\"target_id\\\":18,\\\"type\\\":\\\"CurriculumPrerequisite\\\"}],\\\"name\\\":\\\" \\\",\\\"metrics\\\":{\\\"centrality\\\":35,\\\"complexity\\\":13.0,\\\"blocking factor\\\":6,\\\"delay factor\\\":7.0},\\\"nameSub\\\":\\\"MATH 2551\\\",\\\"id\\\":18,\\\"credits\\\":4,\\\"nameCanonical\\\":\\\"\\\"},{\\\"curriculum_requisites\\\":[{\\\"source_id\\\":12,\\\"target_id\\\":19,\\\"type\\\":\\\"CurriculumPrerequisite\\\"}],\\\"name\\\":\\\" \\\",\\\"metrics\\\":{\\\"centrality\\\":29,\\\"complexity\\\":15.0,\\\"blocking factor\\\":7,\\\"delay factor\\\":8.0},\\\"nameSub\\\":\\\"ECE 2040\\\",\\\"id\\\":19,\\\"credits\\\":3,\\\"nameCanonical\\\":\\\"\\\"},{\\\"curriculum_requisites\\\":[{\\\"source_id\\\":9,\\\"target_id\\\":20,\\\"type\\\":\\\"CurriculumPrerequisite\\\"}],\\\"name\\\":\\\" \\\",\\\"metrics\\\":{\\\"centrality\\\":11,\\\"complexity\\\":12.0,\\\"blocking factor\\\":5,\\\"delay factor\\\":7.0},\\\"nameSub\\\":\\\"ECE 2031\\\",\\\"id\\\":20,\\\"credits\\\":2,\\\"nameCanonical\\\":\\\"\\\"},{\\\"curriculum_requisites\\\":[{\\\"source_id\\\":20,\\\"target_id\\\":21,\\\"type\\\":\\\"CurriculumCorequisite\\\"}],\\\"name\\\":\\\" \\\",\\\"metrics\\\":{\\\"centrality\\\":0,\\\"complexity\\\":4.0,\\\"blocking factor\\\":0,\\\"delay factor\\\":4.0},\\\"nameSub\\\":\\\"Programming Elective\\\",\\\"id\\\":21,\\\"credits\\\":3,\\\"nameCanonical\\\":\\\"\\\"}],\\\"id\\\":4},{\\\"name\\\":\\\"Term 5\\\",\\\"curriculum_items\\\":[{\\\"curriculum_requisites\\\":[],\\\"name\\\":\\\" \\\",\\\"metrics\\\":{\\\"centrality\\\":0,\\\"complexity\\\":1.0,\\\"blocking factor\\\":0,\\\"delay factor\\\":1.0},\\\"nameSub\\\":\\\"Humanities Elective\\\",\\\"id\\\":22,\\\"credits\\\":3,\\\"nameCanonical\\\":\\\"\\\"},{\\\"curriculum_requisites\\\":[{\\\"source_id\\\":20,\\\"target_id\\\":23,\\\"type\\\":\\\"CurriculumPrerequisite\\\"},{\\\"source_id\\\":1,\\\"target_id\\\":23,\\\"type\\\":\\\"CurriculumPrerequisite\\\"},{\\\"source_id\\\":19,\\\"target_id\\\":23,\\\"type\\\":\\\"CurriculumPrerequisite\\\"},{\\\"source_id\\\":18,\\\"target_id\\\":23,\\\"type\\\":\\\"CurriculumPrerequisite\\\"}],\\\"name\\\":\\\" \\\",\\\"metrics\\\":{\\\"centrality\\\":33,\\\"complexity\\\":11.0,\\\"blocking factor\\\":3,\\\"delay factor\\\":8.0},\\\"nameSub\\\":\\\"ECE 3040\\\",\\\"id\\\":23,\\\"credits\\\":4,\\\"nameCanonical\\\":\\\"\\\"},{\\\"curriculum_requisites\\\":[{\\\"source_id\\\":23,\\\"target_id\\\":24,\\\"type\\\":\\\"CurriculumCorequisite\\\"}],\\\"name\\\":\\\" \\\",\\\"metrics\\\":{\\\"centrality\\\":33,\\\"complexity\\\":10.0,\\\"blocking factor\\\":2,\\\"delay factor\\\":8.0},\\\"nameSub\\\":\\\"ECE 3043\\\",\\\"id\\\":24,\\\"credits\\\":2,\\\"nameCanonical\\\":\\\"\\\"},{\\\"curriculum_requisites\\\":[{\\\"source_id\\\":14,\\\"target_id\\\":25,\\\"type\\\":\\\"CurriculumPrerequisite\\\"},{\\\"source_id\\\":19,\\\"target_id\\\":25,\\\"type\\\":\\\"CurriculumPrerequisite\\\"},{\\\"source_id\\\":18,\\\"target_id\\\":25,\\\"type\\\":\\\"CurriculumPrerequisite\\\"}],\\\"name\\\":\\\" \\\",\\\"metrics\\\":{\\\"centrality\\\":34,\\\"complexity\\\":9.0,\\\"blocking factor\\\":2,\\\"delay factor\\\":7.0},\\\"nameSub\\\":\\\"ECE 3025\\\",\\\"id\\\":25,\\\"credits\\\":3,\\\"nameCanonical\\\":\\\"\\\"},{\\\"curriculum_requisites\\\":[{\\\"source_id\\\":14,\\\"target_id\\\":26,\\\"type\\\":\\\"CurriculumPrerequisite\\\"},{\\\"source_id\\\":19,\\\"target_id\\\":26,\\\"type\\\":\\\"CurriculumPrerequisite\\\"}],\\\"name\\\":\\\" \\\",\\\"metrics\\\":{\\\"centrality\\\":23,\\\"complexity\\\":9.0,\\\"blocking factor\\\":2,\\\"delay factor\\\":7.0},\\\"nameSub\\\":\\\"ECE 3084\\\",\\\"id\\\":26,\\\"credits\\\":3,\\\"nameCanonical\\\":\\\"\\\"},{\\\"curriculum_requisites\\\":[],\\\"name\\\":\\\" \\\",\\\"metrics\\\":{\\\"centrality\\\":0,\\\"complexity\\\":1.0,\\\"blocking factor\\\":0,\\\"delay factor\\\":1.0},\\\"nameSub\\\":\\\"Social Sciences Elective\\\",\\\"id\\\":27,\\\"credits\\\":3,\\\"nameCanonical\\\":\\\"\\\"}],\\\"id\\\":5},{\\\"name\\\":\\\"Term 6\\\",\\\"curriculum_items\\\":[{\\\"curriculum_requisites\\\":[],\\\"name\\\":\\\" \\\",\\\"metrics\\\":{\\\"centrality\\\":0,\\\"complexity\\\":1.0,\\\"blocking factor\\\":0,\\\"delay factor\\\":1.0},\\\"nameSub\\\":\\\"ECE\\/Approved Engineering Elective\\\",\\\"id\\\":28,\\\"credits\\\":3,\\\"nameCanonical\\\":\\\"\\\"},{\\\"curriculum_requisites\\\":[{\\\"source_id\\\":18,\\\"target_id\\\":29,\\\"type\\\":\\\"CurriculumPrerequisite\\\"}],\\\"name\\\":\\\" \\\",\\\"metrics\\\":{\\\"centrality\\\":11,\\\"complexity\\\":8.0,\\\"blocking factor\\\":2,\\\"delay factor\\\":6.0},\\\"nameSub\\\":\\\"Prob\\/Stat ECE\\/App\\/Engr Elective\\\",\\\"id\\\":29,\\\"credits\\\":3,\\\"nameCanonical\\\":\\\"\\\"},{\\\"curriculum_requisites\\\":[],\\\"name\\\":\\\" \\\",\\\"metrics\\\":{\\\"centrality\\\":0,\\\"complexity\\\":1.0,\\\"blocking factor\\\":0,\\\"delay factor\\\":1.0},\\\"nameSub\\\":\\\"ECE Elective\\\",\\\"id\\\":30,\\\"credits\\\":3,\\\"nameCanonical\\\":\\\"\\\"},{\\\"curriculum_requisites\\\":[],\\\"name\\\":\\\" \\\",\\\"metrics\\\":{\\\"centrality\\\":0,\\\"complexity\\\":1.0,\\\"blocking factor\\\":0,\\\"delay factor\\\":1.0},\\\"nameSub\\\":\\\"ECE Elective\\\",\\\"id\\\":31,\\\"credits\\\":3,\\\"nameCanonical\\\":\\\"\\\"},{\\\"curriculum_requisites\\\":[{\\\"source_id\\\":19,\\\"target_id\\\":32,\\\"type\\\":\\\"CurriculumPrerequisite\\\"}],\\\"name\\\":\\\" \\\",\\\"metrics\\\":{\\\"centrality\\\":7,\\\"complexity\\\":9.0,\\\"blocking factor\\\":2,\\\"delay factor\\\":7.0},\\\"nameSub\\\":\\\"ECE 3072\\\",\\\"id\\\":32,\\\"credits\\\":3,\\\"nameCanonical\\\":\\\"\\\"},{\\\"curriculum_requisites\\\":[],\\\"name\\\":\\\" \\\",\\\"metrics\\\":{\\\"centrality\\\":0,\\\"complexity\\\":1.0,\\\"blocking factor\\\":0,\\\"delay factor\\\":1.0},\\\"nameSub\\\":\\\"Approved Elective\\\",\\\"id\\\":33,\\\"credits\\\":3,\\\"nameCanonical\\\":\\\"\\\"}],\\\"id\\\":6},{\\\"name\\\":\\\"Term 7\\\",\\\"curriculum_items\\\":[{\\\"curriculum_requisites\\\":[],\\\"name\\\":\\\" \\\",\\\"metrics\\\":{\\\"centrality\\\":0,\\\"complexity\\\":1.0,\\\"blocking factor\\\":0,\\\"delay factor\\\":1.0},\\\"nameSub\\\":\\\"Engineering Elective\\\",\\\"id\\\":34,\\\"credits\\\":3,\\\"nameCanonical\\\":\\\"\\\"},{\\\"curriculum_requisites\\\":[],\\\"name\\\":\\\" \\\",\\\"metrics\\\":{\\\"centrality\\\":0,\\\"complexity\\\":1.0,\\\"blocking factor\\\":0,\\\"delay factor\\\":1.0},\\\"nameSub\\\":\\\"ECE Elective\\\",\\\"id\\\":35,\\\"credits\\\":3,\\\"nameCanonical\\\":\\\"\\\"},{\\\"curriculum_requisites\\\":[{\\\"source_id\\\":26,\\\"target_id\\\":36,\\\"type\\\":\\\"CurriculumPrerequisite\\\"},{\\\"source_id\\\":25,\\\"target_id\\\":36,\\\"type\\\":\\\"CurriculumPrerequisite\\\"},{\\\"source_id\\\":32,\\\"target_id\\\":36,\\\"type\\\":\\\"CurriculumPrerequisite\\\"},{\\\"source_id\\\":29,\\\"target_id\\\":36,\\\"type\\\":\\\"CurriculumPrerequisite\\\"},{\\\"source_id\\\":15,\\\"target_id\\\":36,\\\"type\\\":\\\"CurriculumPrerequisite\\\"},{\\\"source_id\\\":24,\\\"target_id\\\":36,\\\"type\\\":\\\"CurriculumPrerequisite\\\"}],\\\"name\\\":\\\" \\\",\\\"metrics\\\":{\\\"centrality\\\":111,\\\"complexity\\\":9.0,\\\"blocking factor\\\":1,\\\"delay factor\\\":8.0},\\\"nameSub\\\":\\\"ECE 4011\\\",\\\"id\\\":36,\\\"credits\\\":2,\\\"nameCanonical\\\":\\\"\\\"},{\\\"curriculum_requisites\\\":[],\\\"name\\\":\\\" \\\",\\\"metrics\\\":{\\\"centrality\\\":0,\\\"complexity\\\":1.0,\\\"blocking factor\\\":0,\\\"delay factor\\\":1.0},\\\"nameSub\\\":\\\"ECE 4XXX Elective\\\",\\\"id\\\":37,\\\"credits\\\":3,\\\"nameCanonical\\\":\\\"\\\"},{\\\"curriculum_requisites\\\":[],\\\"name\\\":\\\" \\\",\\\"metrics\\\":{\\\"centrality\\\":0,\\\"complexity\\\":1.0,\\\"blocking factor\\\":0,\\\"delay factor\\\":1.0},\\\"nameSub\\\":\\\"ECE 4XXX Lab Elective\\\",\\\"id\\\":38,\\\"credits\\\":3,\\\"nameCanonical\\\":\\\"\\\"},{\\\"curriculum_requisites\\\":[],\\\"name\\\":\\\" \\\",\\\"metrics\\\":{\\\"centrality\\\":0,\\\"complexity\\\":1.0,\\\"blocking factor\\\":0,\\\"delay factor\\\":1.0},\\\"nameSub\\\":\\\"Approved Elective\\\",\\\"id\\\":39,\\\"credits\\\":3,\\\"nameCanonical\\\":\\\"\\\"}],\\\"id\\\":7},{\\\"name\\\":\\\"Term 8\\\",\\\"curriculum_items\\\":[{\\\"curriculum_requisites\\\":[],\\\"name\\\":\\\" \\\",\\\"metrics\\\":{\\\"centrality\\\":0,\\\"complexity\\\":1.0,\\\"blocking factor\\\":0,\\\"delay factor\\\":1.0},\\\"nameSub\\\":\\\"Humanities Elective\\\",\\\"id\\\":40,\\\"credits\\\":3,\\\"nameCanonical\\\":\\\"\\\"},{\\\"curriculum_requisites\\\":[{\\\"source_id\\\":36,\\\"target_id\\\":41,\\\"type\\\":\\\"CurriculumPrerequisite\\\"}],\\\"name\\\":\\\" \\\",\\\"metrics\\\":{\\\"centrality\\\":0,\\\"complexity\\\":8.0,\\\"blocking factor\\\":0,\\\"delay factor\\\":8.0},\\\"nameSub\\\":\\\"ECE 4012\\\",\\\"id\\\":41,\\\"credits\\\":3,\\\"nameCanonical\\\":\\\"\\\"},{\\\"curriculum_requisites\\\":[],\\\"name\\\":\\\" \\\",\\\"metrics\\\":{\\\"centrality\\\":0,\\\"complexity\\\":1.0,\\\"blocking factor\\\":0,\\\"delay factor\\\":1.0},\\\"nameSub\\\":\\\"ECE 4XXX Elective\\\",\\\"id\\\":42,\\\"credits\\\":3,\\\"nameCanonical\\\":\\\"\\\"},{\\\"curriculum_requisites\\\":[],\\\"name\\\":\\\" \\\",\\\"metrics\\\":{\\\"centrality\\\":0,\\\"complexity\\\":1.0,\\\"blocking factor\\\":0,\\\"delay factor\\\":1.0},\\\"nameSub\\\":\\\"Approved Elective\\\",\\\"id\\\":43,\\\"credits\\\":3,\\\"nameCanonical\\\":\\\"\\\"},{\\\"curriculum_requisites\\\":[],\\\"name\\\":\\\" \\\",\\\"metrics\\\":{\\\"centrality\\\":0,\\\"complexity\\\":1.0,\\\"blocking factor\\\":0,\\\"delay factor\\\":1.0},\\\"nameSub\\\":\\\"Approved Elective\\\",\\\"id\\\":44,\\\"credits\\\":3,\\\"nameCanonical\\\":\\\"\\\"}],\\\"id\\\":8}],\\\"institution\\\":\\\"Georgia Institute of Technology\\\"}},\\\"*\\\"); window.removeEventListener(\\\"message\\\",window.messageReceived); window.messageReceived=(function (event){return (event.data.curriculum!==undefined) ? (WebIO.setval({\\\"name\\\":\\\"curriculum-data\\\",\\\"scope\\\":\\\"1651143337724458144\\\",\\\"id\\\":\\\"12708692643979458014\\\",\\\"type\\\":\\\"observable\\\"},event.data.curriculum)) : undefined}); return window.addEventListener(\\\"message\\\",window.messageReceived)})\"},\"style\":{\"padding\":\"0\",\"height\":\"80vh\",\"margin\":\"0\",\"border\":\"none\",\"width\":\"100%\"}},\"nodeType\":\"DOM\",\"type\":\"node\",\"instanceArgs\":{\"namespace\":\"html\",\"tag\":\"iframe\"},\"children\":[\"\"]}]},\n",
       "            window,\n",
       "        );\n",
       "    } else {\n",
       "        document\n",
       "            .querySelector('[data-webio-mountpoint=\"11461753547432601026\"]')\n",
       "            .innerHTML = (\n",
       "                '<div style=\"padding: 1em; background-color: #f8d6da; border: 1px solid #f5c6cb\">' +\n",
       "                '<p><strong>WebIO not detected.</strong></p>' +\n",
       "                '<p>Please read ' +\n",
       "                '<a href=\"https://juliagizmos.github.io/WebIO.jl/latest/troubleshooting/not-detected/\" target=\"_blank\">the troubleshooting guide</a> ' +\n",
       "                'for more information on how to resolve this issue.</p>' +\n",
       "                '<p><a href=\"https://juliagizmos.github.io/WebIO.jl/latest/troubleshooting/not-detected/\" target=\"_blank\">https://juliagizmos.github.io/WebIO.jl/latest/troubleshooting/not-detected/</a></p>' +\n",
       "                '</div>'\n",
       "            );\n",
       "    }\n",
       "    </script>\n",
       "</div>\n"
      ],
      "text/plain": [
       "WebIO.Scope(WebIO.Node{WebIO.DOM}(WebIO.DOM(:html, :iframe), Any[\"\"], Dict{Symbol,Any}(:src => \"http://localhost:8156\",:id => \"curriculum\",:events => Dict{Symbol,WebIO.JSString}(:load => WebIO.JSString(\"(function (){this.contentWindow.postMessage({\\\"options\\\":{\\\"hideTerms\\\":false,\\\"edit\\\":false},\\\"curriculum\\\":{\\\"name\\\":\\\"Electrical Engineering\\\",\\\"dp_name\\\":\\\"2017-18 Plan\\\",\\\"curriculum_terms\\\":[{\\\"name\\\":\\\"Term 1\\\",\\\"curriculum_items\\\":[{\\\"curriculum_requisites\\\":[],\\\"name\\\":\\\" \\\",\\\"metrics\\\":{\\\"centrality\\\":0,\\\"complexity\\\":9.0,\\\"blocking factor\\\":4,\\\"delay factor\\\":5.0},\\\"nameSub\\\":\\\"CHEM 1310\\\",\\\"id\\\":1,\\\"credits\\\":4,\\\"nameCanonical\\\":\\\"\\\"},{\\\"curriculum_requisites\\\":[],\\\"name\\\":\\\" \\\",\\\"metrics\\\":{\\\"centrality\\\":0,\\\"complexity\\\":23.0,\\\"blocking factor\\\":15,\\\"delay factor\\\":8.0},\\\"nameSub\\\":\\\"MATH 1551\\\",\\\"id\\\":2,\\\"credits\\\":2,\\\"nameCanonical\\\":\\\"\\\"},{\\\"curriculum_requisites\\\":[],\\\"name\\\":\\\" \\\",\\\"metrics\\\":{\\\"centrality\\\":0,\\\"complexity\\\":16.0,\\\"blocking factor\\\":10,\\\"delay factor\\\":6.0},\\\"nameSub\\\":\\\"MATH 1553\\\",\\\"id\\\":3,\\\"credits\\\":2,\\\"nameCanonical\\\":\\\"\\\"},{\\\"curriculum_requisites\\\":[],\\\"name\\\":\\\" \\\",\\\"metrics\\\":{\\\"centrality\\\":0,\\\"complexity\\\":17.0,\\\"blocking factor\\\":10,\\\"delay factor\\\":7.0},\\\"nameSub\\\":\\\"CS 1371\\\",\\\"id\\\":4,\\\"credits\\\":3,\\\"nameCanonical\\\":\\\"\\\"},{\\\"curriculum_requisites\\\":[],\\\"name\\\":\\\" \\\",\\\"metrics\\\":{\\\"centrality\\\":0,\\\"complexity\\\":1.0,\\\"blocking factor\\\":0,\\\"delay factor\\\":1.0},\\\"nameSub\\\":\\\"Wellness Elective\\\",\\\"id\\\":5,\\\"credits\\\":3,\\\"nameCanonical\\\":\\\"\\\"},{\\\"curriculum_requisites\\\":[],\\\"name\\\":\\\" \\\",\\\"metrics\\\":{\\\"centrality\\\":0,\\\"complexity\\\":3.0,\\\"blocking factor\\\":1,\\\"delay factor\\\":2.0},\\\"nameSub\\\":\\\"ENGL 1101\\\",\\\"id\\\":6,\\\"credits\\\":3,\\\"nameCanonical\\\":\\\"\\\"}],\\\"id\\\":1},{\\\"name\\\":\\\"Term 2\\\",\\\"curriculum_items\\\":[{\\\"curriculum_requisites\\\":[{\\\"source_id\\\":2,\\\"target_id\\\":7,\\\"type\\\":\\\"CurriculumPrerequisite\\\"}],\\\"name\\\":\\\" \\\",\\\"metrics\\\":{\\\"centrality\\\":29,\\\"complexity\\\":17.0,\\\"blocking factor\\\":9,\\\"delay factor\\\":8.0},\\\"nameSub\\\":\\\"PHYS 2211\\\",\\\"id\\\":7,\\\"credits\\\":4,\\\"nameCanonical\\\":\\\"\\\"},{\\\"curriculum_requisites\\\":[{\\\"source_id\\\":2,\\\"target_id\\\":8,\\\"type\\\":\\\"CurriculumPrerequisite\\\"}],\\\"name\\\":\\\" \\\",\\\"metrics\\\":{\\\"centrality\\\":34,\\\"complexity\\\":17.0,\\\"blocking factor\\\":10,\\\"delay factor\\\":7.0},\\\"nameSub\\\":\\\"MATH 1552\\\",\\\"id\\\":8,\\\"credits\\\":4,\\\"nameCanonical\\\":\\\"\\\"},{\\\"curriculum_requisites\\\":[{\\\"source_id\\\":4,\\\"target_id\\\":9,\\\"type\\\":\\\"CurriculumPrerequisite\\\"}],\\\"name\\\":\\\" \\\",\\\"metrics\\\":{\\\"centrality\\\":11,\\\"complexity\\\":13.0,\\\"blocking factor\\\":6,\\\"delay factor\\\":7.0},\\\"nameSub\\\":\\\"ECE 2020\\\",\\\"id\\\":9,\\\"credits\\\":3,\\\"nameCanonical\\\":\\\"\\\"},{\\\"curriculum_requisites\\\":[],\\\"name\\\":\\\" \\\",\\\"metrics\\\":{\\\"centrality\\\":0,\\\"complexity\\\":1.0,\\\"blocking factor\\\":0,\\\"delay factor\\\":1.0},\\\"nameSub\\\":\\\"History/Government Elective\\\",\\\"id\\\":10,\\\"credits\\\":3,\\\"nameCanonical\\\":\\\"\\\"},{\\\"curriculum_requisites\\\":[{\\\"source_id\\\":6,\\\"target_id\\\":11,\\\"type\\\":\\\"CurriculumPrerequisite\\\"}],\\\"name\\\":\\\" \\\",\\\"metrics\\\":{\\\"centrality\\\":0,\\\"complexity\\\":2.0,\\\"blocking factor\\\":0,\\\"delay factor\\\":2.0},\\\"nameSub\\\":\\\"ENGL 1102\\\",\\\"id\\\":11,\\\"credits\\\":3,\\\"nameCanonical\\\":\\\"\\\"}],\\\"id\\\":2},{\\\"name\\\":\\\"Term 3\\\",\\\"curriculum_items\\\":[{\\\"curriculum_requisites\\\":[{\\\"source_id\\\":7,\\\"target_id\\\":12,\\\"type\\\":\\\"CurriculumPrerequisite\\\"}],\\\"name\\\":\\\" \\\",\\\"metrics\\\":{\\\"centrality\\\":29,\\\"complexity\\\":16.0,\\\"blocking factor\\\":8,\\\"delay factor\\\":8.0},\\\"nameSub\\\":\\\"PHYS 2212\\\",\\\"id\\\":12,\\\"credits\\\":4,\\\"nameCanonical\\\":\\\"\\\"},{\\\"curriculum_requisites\\\":[{\\\"source_id\\\":3,\\\"target_id\\\":13,\\\"type\\\":\\\"CurriculumPrerequisite\\\"},{\\\"source_id\\\":8,\\\"target_id\\\":13,\\\"type\\\":\\\"CurriculumPrerequisite\\\"}],\\\"name\\\":\\\" \\\",\\\"metrics\\\":{\\\"centrality\\\":0,\\\"complexity\\\":3.0,\\\"blocking factor\\\":0,\\\"delay factor\\\":3.0},\\\"nameSub\\\":\\\"MATH 2552\\\",\\\"id\\\":13,\\\"credits\\\":4,\\\"nameCanonical\\\":\\\"\\\"},{\\\"curriculum_requisites\\\":[{\\\"source_id\\\":4,\\\"target_id\\\":14,\\\"type\\\":\\\"CurriculumPrerequisite\\\"},{\\\"source_id\\\":3,\\\"target_id\\\":14,\\\"type\\\":\\\"CurriculumPrerequisite\\\"},{\\\"source_id\\\":8,\\\"target_id\\\":14,\\\"type\\\":\\\"CurriculumPrerequisite\\\"}],\\\"name\\\":\\\" \\\",\\\"metrics\\\":{\\\"centrality\\\":32,\\\"complexity\\\":10.0,\\\"blocking factor\\\":4,\\\"delay factor\\\":6.0},\\\"nameSub\\\":\\\"ECE 2026\\\",\\\"id\\\":14,\\\"credits\\\":3,\\\"nameCanonical\\\":\\\"\\\"},{\\\"curriculum_requisites\\\":[],\\\"name\\\":\\\" \\\",\\\"metrics\\\":{\\\"centrality\\\":0,\\\"complexity\\\":5.0,\\\"blocking factor\\\":2,\\\"delay factor\\\":3.0},\\\"nameSub\\\":\\\"Economics Elective\\\",\\\"id\\\":15,\\\"credits\\\":3,\\\"nameCanonical\\\":\\\"\\\"},{\\\"curriculum_requisites\\\":[],\\\"name\\\":\\\" \\\",\\\"metrics\\\":{\\\"centrality\\\":0,\\\"complexity\\\":1.0,\\\"blocking factor\\\":0,\\\"delay factor\\\":1.0},\\\"nameSub\\\":\\\"Social Sciences Elective\\\",\\\"id\\\":16,\\\"credits\\\":3,\\\"nameCanonical\\\":\\\"\\\"}],\\\"id\\\":3},{\\\"name\\\":\\\"Term 4\\\",\\\"curriculum_items\\\":[{\\\"curriculum_requisites\\\":[],\\\"name\\\":\\\" \\\",\\\"metrics\\\":{\\\"centrality\\\":0,\\\"complexity\\\":1.0,\\\"blocking factor\\\":0,\\\"delay factor\\\":1.0},\\\"nameSub\\\":\\\"Science Elective\\\",\\\"id\\\":17,\\\"credits\\\":3,\\\"nameCanonical\\\":\\\"\\\"},{\\\"curriculum_requisites\\\":[{\\\"source_id\\\":3,\\\"target_id\\\":18,\\\"type\\\":\\\"CurriculumPrerequisite\\\"},{\\\"source_id\\\":8,\\\"target_id\\\":18,\\\"type\\\":\\\"CurriculumPrerequisite\\\"}],\\\"name\\\":\\\" \\\",\\\"metrics\\\":{\\\"centrality\\\":35,\\\"complexity\\\":13.0,\\\"blocking factor\\\":6,\\\"delay factor\\\":7.0},\\\"nameSub\\\":\\\"MATH 2551\\\",\\\"id\\\":18,\\\"credits\\\":4,\\\"nameCanonical\\\":\\\"\\\"},{\\\"curriculum_requisites\\\":[{\\\"source_id\\\":12,\\\"target_id\\\":19,\\\"type\\\":\\\"CurriculumPrerequisite\\\"}],\\\"name\\\":\\\" \\\",\\\"metrics\\\":{\\\"centrality\\\":29,\\\"complexity\\\":15.0,\\\"blocking factor\\\":7,\\\"delay factor\\\":8.0},\\\"nameSub\\\":\\\"ECE 2040\\\",\\\"id\\\":19,\\\"credits\\\":3,\\\"nameCanonical\\\":\\\"\\\"},{\\\"curriculum_requisites\\\":[{\\\"source_id\\\":9,\\\"target_id\\\":20,\\\"type\\\":\\\"CurriculumPrerequisite\\\"}],\\\"name\\\":\\\" \\\",\\\"metrics\\\":{\\\"centrality\\\":11,\\\"complexity\\\":12.0,\\\"blocking factor\\\":5,\\\"delay factor\\\":7.0},\\\"nameSub\\\":\\\"ECE 2031\\\",\\\"id\\\":20,\\\"credits\\\":2,\\\"nameCanonical\\\":\\\"\\\"},{\\\"curriculum_requisites\\\":[{\\\"source_id\\\":20,\\\"target_id\\\":21,\\\"type\\\":\\\"CurriculumCorequisite\\\"}],\\\"name\\\":\\\" \\\",\\\"metrics\\\":{\\\"centrality\\\":0,\\\"complexity\\\":4.0,\\\"blocking factor\\\":0,\\\"delay factor\\\":4.0},\\\"nameSub\\\":\\\"Programming Elective\\\",\\\"id\\\":21,\\\"credits\\\":3,\\\"nameCanonical\\\":\\\"\\\"}],\\\"id\\\":4},{\\\"name\\\":\\\"Term 5\\\",\\\"curriculum_items\\\":[{\\\"curriculum_requisites\\\":[],\\\"name\\\":\\\" \\\",\\\"metrics\\\":{\\\"centrality\\\":0,\\\"complexity\\\":1.0,\\\"blocking factor\\\":0,\\\"delay factor\\\":1.0},\\\"nameSub\\\":\\\"Humanities Elective\\\",\\\"id\\\":22,\\\"credits\\\":3,\\\"nameCanonical\\\":\\\"\\\"},{\\\"curriculum_requisites\\\":[{\\\"source_id\\\":20,\\\"target_id\\\":23,\\\"type\\\":\\\"CurriculumPrerequisite\\\"},{\\\"source_id\\\":1,\\\"target_id\\\":23,\\\"type\\\":\\\"CurriculumPrerequisite\\\"},{\\\"source_id\\\":19,\\\"target_id\\\":23,\\\"type\\\":\\\"CurriculumPrerequisite\\\"},{\\\"source_id\\\":18,\\\"target_id\\\":23,\\\"type\\\":\\\"CurriculumPrerequisite\\\"}],\\\"name\\\":\\\" \\\",\\\"metrics\\\":{\\\"centrality\\\":33,\\\"complexity\\\":11.0,\\\"blocking factor\\\":3,\\\"delay factor\\\":8.0},\\\"nameSub\\\":\\\"ECE 3040\\\",\\\"id\\\":23,\\\"credits\\\":4,\\\"nameCanonical\\\":\\\"\\\"},{\\\"curriculum_requisites\\\":[{\\\"source_id\\\":23,\\\"target_id\\\":24,\\\"type\\\":\\\"CurriculumCorequisite\\\"}],\\\"name\\\":\\\" \\\",\\\"metrics\\\":{\\\"centrality\\\":33,\\\"complexity\\\":10.0,\\\"blocking factor\\\":2,\\\"delay factor\\\":8.0},\\\"nameSub\\\":\\\"ECE 3043\\\",\\\"id\\\":24,\\\"credits\\\":2,\\\"nameCanonical\\\":\\\"\\\"},{\\\"curriculum_requisites\\\":[{\\\"source_id\\\":14,\\\"target_id\\\":25,\\\"type\\\":\\\"CurriculumPrerequisite\\\"},{\\\"source_id\\\":19,\\\"target_id\\\":25,\\\"type\\\":\\\"CurriculumPrerequisite\\\"},{\\\"source_id\\\":18,\\\"target_id\\\":25,\\\"type\\\":\\\"CurriculumPrerequisite\\\"}],\\\"name\\\":\\\" \\\",\\\"metrics\\\":{\\\"centrality\\\":34,\\\"complexity\\\":9.0,\\\"blocking factor\\\":2,\\\"delay factor\\\":7.0},\\\"nameSub\\\":\\\"ECE 3025\\\",\\\"id\\\":25,\\\"credits\\\":3,\\\"nameCanonical\\\":\\\"\\\"},{\\\"curriculum_requisites\\\":[{\\\"source_id\\\":14,\\\"target_id\\\":26,\\\"type\\\":\\\"CurriculumPrerequisite\\\"},{\\\"source_id\\\":19,\\\"target_id\\\":26,\\\"type\\\":\\\"CurriculumPrerequisite\\\"}],\\\"name\\\":\\\" \\\",\\\"metrics\\\":{\\\"centrality\\\":23,\\\"complexity\\\":9.0,\\\"blocking factor\\\":2,\\\"delay factor\\\":7.0},\\\"nameSub\\\":\\\"ECE 3084\\\",\\\"id\\\":26,\\\"credits\\\":3,\\\"nameCanonical\\\":\\\"\\\"},{\\\"curriculum_requisites\\\":[],\\\"name\\\":\\\" \\\",\\\"metrics\\\":{\\\"centrality\\\":0,\\\"complexity\\\":1.0,\\\"blocking factor\\\":0,\\\"delay factor\\\":1.0},\\\"nameSub\\\":\\\"Social Sciences Elective\\\",\\\"id\\\":27,\\\"credits\\\":3,\\\"nameCanonical\\\":\\\"\\\"}],\\\"id\\\":5},{\\\"name\\\":\\\"Term 6\\\",\\\"curriculum_items\\\":[{\\\"curriculum_requisites\\\":[],\\\"name\\\":\\\" \\\",\\\"metrics\\\":{\\\"centrality\\\":0,\\\"complexity\\\":1.0,\\\"blocking factor\\\":0,\\\"delay factor\\\":1.0},\\\"nameSub\\\":\\\"ECE/Approved Engineering Elective\\\",\\\"id\\\":28,\\\"credits\\\":3,\\\"nameCanonical\\\":\\\"\\\"},{\\\"curriculum_requisites\\\":[{\\\"source_id\\\":18,\\\"target_id\\\":29,\\\"type\\\":\\\"CurriculumPrerequisite\\\"}],\\\"name\\\":\\\" \\\",\\\"metrics\\\":{\\\"centrality\\\":11,\\\"complexity\\\":8.0,\\\"blocking factor\\\":2,\\\"delay factor\\\":6.0},\\\"nameSub\\\":\\\"Prob/Stat ECE/App/Engr Elective\\\",\\\"id\\\":29,\\\"credits\\\":3,\\\"nameCanonical\\\":\\\"\\\"},{\\\"curriculum_requisites\\\":[],\\\"name\\\":\\\" \\\",\\\"metrics\\\":{\\\"centrality\\\":0,\\\"complexity\\\":1.0,\\\"blocking factor\\\":0,\\\"delay factor\\\":1.0},\\\"nameSub\\\":\\\"ECE Elective\\\",\\\"id\\\":30,\\\"credits\\\":3,\\\"nameCanonical\\\":\\\"\\\"},{\\\"curriculum_requisites\\\":[],\\\"name\\\":\\\" \\\",\\\"metrics\\\":{\\\"centrality\\\":0,\\\"complexity\\\":1.0,\\\"blocking factor\\\":0,\\\"delay factor\\\":1.0},\\\"nameSub\\\":\\\"ECE Elective\\\",\\\"id\\\":31,\\\"credits\\\":3,\\\"nameCanonical\\\":\\\"\\\"},{\\\"curriculum_requisites\\\":[{\\\"source_id\\\":19,\\\"target_id\\\":32,\\\"type\\\":\\\"CurriculumPrerequisite\\\"}],\\\"name\\\":\\\" \\\",\\\"metrics\\\":{\\\"centrality\\\":7,\\\"complexity\\\":9.0,\\\"blocking factor\\\":2,\\\"delay factor\\\":7.0},\\\"nameSub\\\":\\\"ECE 3072\\\",\\\"id\\\":32,\\\"credits\\\":3,\\\"nameCanonical\\\":\\\"\\\"},{\\\"curriculum_requisites\\\":[],\\\"name\\\":\\\" \\\",\\\"metrics\\\":{\\\"centrality\\\":0,\\\"complexity\\\":1.0,\\\"blocking factor\\\":0,\\\"delay factor\\\":1.0},\\\"nameSub\\\":\\\"Approved Elective\\\",\\\"id\\\":33,\\\"credits\\\":3,\\\"nameCanonical\\\":\\\"\\\"}],\\\"id\\\":6},{\\\"name\\\":\\\"Term 7\\\",\\\"curriculum_items\\\":[{\\\"curriculum_requisites\\\":[],\\\"name\\\":\\\" \\\",\\\"metrics\\\":{\\\"centrality\\\":0,\\\"complexity\\\":1.0,\\\"blocking factor\\\":0,\\\"delay factor\\\":1.0},\\\"nameSub\\\":\\\"Engineering Elective\\\",\\\"id\\\":34,\\\"credits\\\":3,\\\"nameCanonical\\\":\\\"\\\"},{\\\"curriculum_requisites\\\":[],\\\"name\\\":\\\" \\\",\\\"metrics\\\":{\\\"centrality\\\":0,\\\"complexity\\\":1.0,\\\"blocking factor\\\":0,\\\"delay factor\\\":1.0},\\\"nameSub\\\":\\\"ECE Elective\\\",\\\"id\\\":35,\\\"credits\\\":3,\\\"nameCanonical\\\":\\\"\\\"},{\\\"curriculum_requisites\\\":[{\\\"source_id\\\":26,\\\"target_id\\\":36,\\\"type\\\":\\\"CurriculumPrerequisite\\\"},{\\\"source_id\\\":25,\\\"target_id\\\":36,\\\"type\\\":\\\"CurriculumPrerequisite\\\"},{\\\"source_id\\\":32,\\\"target_id\\\":36,\\\"type\\\":\\\"CurriculumPrerequisite\\\"},{\\\"source_id\\\":29,\\\"target_id\\\":36,\\\"type\\\":\\\"CurriculumPrerequisite\\\"},{\\\"source_id\\\":15,\\\"target_id\\\":36,\\\"type\\\":\\\"CurriculumPrerequisite\\\"},{\\\"source_id\\\":24,\\\"target_id\\\":36,\\\"type\\\":\\\"CurriculumPrerequisite\\\"}],\\\"name\\\":\\\" \\\",\\\"metrics\\\":{\\\"centrality\\\":111,\\\"complexity\\\":9.0,\\\"blocking factor\\\":1,\\\"delay factor\\\":8.0},\\\"nameSub\\\":\\\"ECE 4011\\\",\\\"id\\\":36,\\\"credits\\\":2,\\\"nameCanonical\\\":\\\"\\\"},{\\\"curriculum_requisites\\\":[],\\\"name\\\":\\\" \\\",\\\"metrics\\\":{\\\"centrality\\\":0,\\\"complexity\\\":1.0,\\\"blocking factor\\\":0,\\\"delay factor\\\":1.0},\\\"nameSub\\\":\\\"ECE 4XXX Elective\\\",\\\"id\\\":37,\\\"credits\\\":3,\\\"nameCanonical\\\":\\\"\\\"},{\\\"curriculum_requisites\\\":[],\\\"name\\\":\\\" \\\",\\\"metrics\\\":{\\\"centrality\\\":0,\\\"complexity\\\":1.0,\\\"blocking factor\\\":0,\\\"delay factor\\\":1.0},\\\"nameSub\\\":\\\"ECE 4XXX Lab Elective\\\",\\\"id\\\":38,\\\"credits\\\":3,\\\"nameCanonical\\\":\\\"\\\"},{\\\"curriculum_requisites\\\":[],\\\"name\\\":\\\" \\\",\\\"metrics\\\":{\\\"centrality\\\":0,\\\"complexity\\\":1.0,\\\"blocking factor\\\":0,\\\"delay factor\\\":1.0},\\\"nameSub\\\":\\\"Approved Elective\\\",\\\"id\\\":39,\\\"credits\\\":3,\\\"nameCanonical\\\":\\\"\\\"}],\\\"id\\\":7},{\\\"name\\\":\\\"Term 8\\\",\\\"curriculum_items\\\":[{\\\"curriculum_requisites\\\":[],\\\"name\\\":\\\" \\\",\\\"metrics\\\":{\\\"centrality\\\":0,\\\"complexity\\\":1.0,\\\"blocking factor\\\":0,\\\"delay factor\\\":1.0},\\\"nameSub\\\":\\\"Humanities Elective\\\",\\\"id\\\":40,\\\"credits\\\":3,\\\"nameCanonical\\\":\\\"\\\"},{\\\"curriculum_requisites\\\":[{\\\"source_id\\\":36,\\\"target_id\\\":41,\\\"type\\\":\\\"CurriculumPrerequisite\\\"}],\\\"name\\\":\\\" \\\",\\\"metrics\\\":{\\\"centrality\\\":0,\\\"complexity\\\":8.0,\\\"blocking factor\\\":0,\\\"delay factor\\\":8.0},\\\"nameSub\\\":\\\"ECE 4012\\\",\\\"id\\\":41,\\\"credits\\\":3,\\\"nameCanonical\\\":\\\"\\\"},{\\\"curriculum_requisites\\\":[],\\\"name\\\":\\\" \\\",\\\"metrics\\\":{\\\"centrality\\\":0,\\\"complexity\\\":1.0,\\\"blocking factor\\\":0,\\\"delay factor\\\":1.0},\\\"nameSub\\\":\\\"ECE 4XXX Elective\\\",\\\"id\\\":42,\\\"credits\\\":3,\\\"nameCanonical\\\":\\\"\\\"},{\\\"curriculum_requisites\\\":[],\\\"name\\\":\\\" \\\",\\\"metrics\\\":{\\\"centrality\\\":0,\\\"complexity\\\":1.0,\\\"blocking factor\\\":0,\\\"delay factor\\\":1.0},\\\"nameSub\\\":\\\"Approved Elective\\\",\\\"id\\\":43,\\\"credits\\\":3,\\\"nameCanonical\\\":\\\"\\\"},{\\\"curriculum_requisites\\\":[],\\\"name\\\":\\\" \\\",\\\"metrics\\\":{\\\"centrality\\\":0,\\\"complexity\\\":1.0,\\\"blocking factor\\\":0,\\\"delay factor\\\":1.0},\\\"nameSub\\\":\\\"Approved Elective\\\",\\\"id\\\":44,\\\"credits\\\":3,\\\"nameCanonical\\\":\\\"\\\"}],\\\"id\\\":8}],\\\"institution\\\":\\\"Georgia Institute of Technology\\\"}},\\\"*\\\"); window.removeEventListener(\\\"message\\\",window.messageReceived); window.messageReceived=(function (event){return (event.data.curriculum!==undefined) ? (WebIO.setval({\\\"name\\\":\\\"curriculum-data\\\",\\\"scope\\\":\\\"1651143337724458144\\\",\\\"id\\\":\\\"12708692643979458014\\\",\\\"type\\\":\\\"observable\\\"},event.data.curriculum)) : undefined}); return window.addEventListener(\\\"message\\\",window.messageReceived)})\")),:style => Dict(:padding => \"0\",:height => \"80vh\",:margin => \"0\",:border => \"none\",:width => \"100%\"))), Dict{String,Tuple{Observables.AbstractObservable,Union{Nothing, Bool}}}(\"curriculum-data\" => (Observable{Dict{String,Any}} with 1 listeners. Value:\n",
       "Dict{String,Any}(\"options\" => Dict{String,Any}(\"hideTerms\" => false,\"edit\" => false),\"curriculum\" => Dict{String,Any}(\"name\" => \"Electrical Engineering\",\"dp_name\" => \"2017-18 Plan\",\"curriculum_terms\" => Dict{String,Any}[Dict(\"name\" => \"Term 1\",\"curriculum_items\" => Dict{String,Any}[Dict(\"curriculum_requisites\" => Dict{String,Any}[],\"name\" => \" \",\"metrics\" => Dict{String,Any}(\"centrality\" => 0,\"complexity\" => 9.0,\"blocking factor\" => 4,\"delay factor\" => 5.0),\"nameSub\" => \"CHEM 1310\",\"id\" => 1,\"credits\" => 4,\"nameCanonical\" => \"\"), Dict(\"curriculum_requisites\" => Dict{String,Any}[],\"name\" => \" \",\"metrics\" => Dict{String,Any}(\"centrality\" => 0,\"complexity\" => 23.0,\"blocking factor\" => 15,\"delay factor\" => 8.0),\"nameSub\" => \"MATH 1551\",\"id\" => 2,\"credits\" => 2,\"nameCanonical\" => \"\"), Dict(\"curriculum_requisites\" => Dict{String,Any}[],\"name\" => \" \",\"metrics\" => Dict{String,Any}(\"centrality\" => 0,\"complexity\" => 16.0,\"blocking factor\" => 10,\"delay factor\" => 6.0),\"nameSub\" => \"MATH 1553\",\"id\" => 3,\"credits\" => 2,\"nameCanonical\" => \"\"), Dict(\"curriculum_requisites\" => Dict{String,Any}[],\"name\" => \" \",\"metrics\" => Dict{String,Any}(\"centrality\" => 0,\"complexity\" => 17.0,\"blocking factor\" => 10,\"delay factor\" => 7.0),\"nameSub\" => \"CS 1371\",\"id\" => 4,\"credits\" => 3,\"nameCanonical\" => \"\"), Dict(\"curriculum_requisites\" => Dict{String,Any}[],\"name\" => \" \",\"metrics\" => Dict{String,Any}(\"centrality\" => 0,\"complexity\" => 1.0,\"blocking factor\" => 0,\"delay factor\" => 1.0),\"nameSub\" => \"Wellness Elective\",\"id\" => 5,\"credits\" => 3,\"nameCanonical\" => \"\"), Dict(\"curriculum_requisites\" => Dict{String,Any}[],\"name\" => \" \",\"metrics\" => Dict{String,Any}(\"centrality\" => 0,\"complexity\" => 3.0,\"blocking factor\" => 1,\"delay factor\" => 2.0),\"nameSub\" => \"ENGL 1101\",\"id\" => 6,\"credits\" => 3,\"nameCanonical\" => \"\")],\"id\" => 1), Dict(\"name\" => \"Term 2\",\"curriculum_items\" => Dict{String,Any}[Dict(\"curriculum_requisites\" => Dict{String,Any}[Dict(\"source_id\" => 2,\"target_id\" => 7,\"type\" => \"CurriculumPrerequisite\")],\"name\" => \" \",\"metrics\" => Dict{String,Any}(\"centrality\" => 29,\"complexity\" => 17.0,\"blocking factor\" => 9,\"delay factor\" => 8.0),\"nameSub\" => \"PHYS 2211\",\"id\" => 7,\"credits\" => 4,\"nameCanonical\" => \"\"), Dict(\"curriculum_requisites\" => Dict{String,Any}[Dict(\"source_id\" => 2,\"target_id\" => 8,\"type\" => \"CurriculumPrerequisite\")],\"name\" => \" \",\"metrics\" => Dict{String,Any}(\"centrality\" => 34,\"complexity\" => 17.0,\"blocking factor\" => 10,\"delay factor\" => 7.0),\"nameSub\" => \"MATH 1552\",\"id\" => 8,\"credits\" => 4,\"nameCanonical\" => \"\"), Dict(\"curriculum_requisites\" => Dict{String,Any}[Dict(\"source_id\" => 4,\"target_id\" => 9,\"type\" => \"CurriculumPrerequisite\")],\"name\" => \" \",\"metrics\" => Dict{String,Any}(\"centrality\" => 11,\"complexity\" => 13.0,\"blocking factor\" => 6,\"delay factor\" => 7.0),\"nameSub\" => \"ECE 2020\",\"id\" => 9,\"credits\" => 3,\"nameCanonical\" => \"\"), Dict(\"curriculum_requisites\" => Dict{String,Any}[],\"name\" => \" \",\"metrics\" => Dict{String,Any}(\"centrality\" => 0,\"complexity\" => 1.0,\"blocking factor\" => 0,\"delay factor\" => 1.0),\"nameSub\" => \"History/Government Elective\",\"id\" => 10,\"credits\" => 3,\"nameCanonical\" => \"\"), Dict(\"curriculum_requisites\" => Dict{String,Any}[Dict(\"source_id\" => 6,\"target_id\" => 11,\"type\" => \"CurriculumPrerequisite\")],\"name\" => \" \",\"metrics\" => Dict{String,Any}(\"centrality\" => 0,\"complexity\" => 2.0,\"blocking factor\" => 0,\"delay factor\" => 2.0),\"nameSub\" => \"ENGL 1102\",\"id\" => 11,\"credits\" => 3,\"nameCanonical\" => \"\")],\"id\" => 2), Dict(\"name\" => \"Term 3\",\"curriculum_items\" => Dict{String,Any}[Dict(\"curriculum_requisites\" => Dict{String,Any}[Dict(\"source_id\" => 7,\"target_id\" => 12,\"type\" => \"CurriculumPrerequisite\")],\"name\" => \" \",\"metrics\" => Dict{String,Any}(\"centrality\" => 29,\"complexity\" => 16.0,\"blocking factor\" => 8,\"delay factor\" => 8.0),\"nameSub\" => \"PHYS 2212\",\"id\" => 12,\"credits\" => 4,\"nameCanonical\" => \"\"), Dict(\"curriculum_requisites\" => Dict{String,Any}[Dict(\"source_id\" => 3,\"target_id\" => 13,\"type\" => \"CurriculumPrerequisite\"), Dict(\"source_id\" => 8,\"target_id\" => 13,\"type\" => \"CurriculumPrerequisite\")],\"name\" => \" \",\"metrics\" => Dict{String,Any}(\"centrality\" => 0,\"complexity\" => 3.0,\"blocking factor\" => 0,\"delay factor\" => 3.0),\"nameSub\" => \"MATH 2552\",\"id\" => 13,\"credits\" => 4,\"nameCanonical\" => \"\"), Dict(\"curriculum_requisites\" => Dict{String,Any}[Dict(\"source_id\" => 4,\"target_id\" => 14,\"type\" => \"CurriculumPrerequisite\"), Dict(\"source_id\" => 3,\"target_id\" => 14,\"type\" => \"CurriculumPrerequisite\"), Dict(\"source_id\" => 8,\"target_id\" => 14,\"type\" => \"CurriculumPrerequisite\")],\"name\" => \" \",\"metrics\" => Dict{String,Any}(\"centrality\" => 32,\"complexity\" => 10.0,\"blocking factor\" => 4,\"delay factor\" => 6.0),\"nameSub\" => \"ECE 2026\",\"id\" => 14,\"credits\" => 3,\"nameCanonical\" => \"\"), Dict(\"curriculum_requisites\" => Dict{String,Any}[],\"name\" => \" \",\"metrics\" => Dict{String,Any}(\"centrality\" => 0,\"complexity\" => 5.0,\"blocking factor\" => 2,\"delay factor\" => 3.0),\"nameSub\" => \"Economics Elective\",\"id\" => 15,\"credits\" => 3,\"nameCanonical\" => \"\"), Dict(\"curriculum_requisites\" => Dict{String,Any}[],\"name\" => \" \",\"metrics\" => Dict{String,Any}(\"centrality\" => 0,\"complexity\" => 1.0,\"blocking factor\" => 0,\"delay factor\" => 1.0),\"nameSub\" => \"Social Sciences Elective\",\"id\" => 16,\"credits\" => 3,\"nameCanonical\" => \"\")],\"id\" => 3), Dict(\"name\" => \"Term 4\",\"curriculum_items\" => Dict{String,Any}[Dict(\"curriculum_requisites\" => Dict{String,Any}[],\"name\" => \" \",\"metrics\" => Dict{String,Any}(\"centrality\" => 0,\"complexity\" => 1.0,\"blocking factor\" => 0,\"delay factor\" => 1.0),\"nameSub\" => \"Science Elective\",\"id\" => 17,\"credits\" => 3,\"nameCanonical\" => \"\"), Dict(\"curriculum_requisites\" => Dict{String,Any}[Dict(\"source_id\" => 3,\"target_id\" => 18,\"type\" => \"CurriculumPrerequisite\"), Dict(\"source_id\" => 8,\"target_id\" => 18,\"type\" => \"CurriculumPrerequisite\")],\"name\" => \" \",\"metrics\" => Dict{String,Any}(\"centrality\" => 35,\"complexity\" => 13.0,\"blocking factor\" => 6,\"delay factor\" => 7.0),\"nameSub\" => \"MATH 2551\",\"id\" => 18,\"credits\" => 4,\"nameCanonical\" => \"\"), Dict(\"curriculum_requisites\" => Dict{String,Any}[Dict(\"source_id\" => 12,\"target_id\" => 19,\"type\" => \"CurriculumPrerequisite\")],\"name\" => \" \",\"metrics\" => Dict{String,Any}(\"centrality\" => 29,\"complexity\" => 15.0,\"blocking factor\" => 7,\"delay factor\" => 8.0),\"nameSub\" => \"ECE 2040\",\"id\" => 19,\"credits\" => 3,\"nameCanonical\" => \"\"), Dict(\"curriculum_requisites\" => Dict{String,Any}[Dict(\"source_id\" => 9,\"target_id\" => 20,\"type\" => \"CurriculumPrerequisite\")],\"name\" => \" \",\"metrics\" => Dict{String,Any}(\"centrality\" => 11,\"complexity\" => 12.0,\"blocking factor\" => 5,\"delay factor\" => 7.0),\"nameSub\" => \"ECE 2031\",\"id\" => 20,\"credits\" => 2,\"nameCanonical\" => \"\"), Dict(\"curriculum_requisites\" => Dict{String,Any}[Dict(\"source_id\" => 20,\"target_id\" => 21,\"type\" => \"CurriculumCorequisite\")],\"name\" => \" \",\"metrics\" => Dict{String,Any}(\"centrality\" => 0,\"complexity\" => 4.0,\"blocking factor\" => 0,\"delay factor\" => 4.0),\"nameSub\" => \"Programming Elective\",\"id\" => 21,\"credits\" => 3,\"nameCanonical\" => \"\")],\"id\" => 4), Dict(\"name\" => \"Term 5\",\"curriculum_items\" => Dict{String,Any}[Dict(\"curriculum_requisites\" => Dict{String,Any}[],\"name\" => \" \",\"metrics\" => Dict{String,Any}(\"centrality\" => 0,\"complexity\" => 1.0,\"blocking factor\" => 0,\"delay factor\" => 1.0),\"nameSub\" => \"Humanities Elective\",\"id\" => 22,\"credits\" => 3,\"nameCanonical\" => \"\"), Dict(\"curriculum_requisites\" => Dict{String,Any}[Dict(\"source_id\" => 20,\"target_id\" => 23,\"type\" => \"CurriculumPrerequisite\"), Dict(\"source_id\" => 1,\"target_id\" => 23,\"type\" => \"CurriculumPrerequisite\"), Dict(\"source_id\" => 19,\"target_id\" => 23,\"type\" => \"CurriculumPrerequisite\"), Dict(\"source_id\" => 18,\"target_id\" => 23,\"type\" => \"CurriculumPrerequisite\")],\"name\" => \" \",\"metrics\" => Dict{String,Any}(\"centrality\" => 33,\"complexity\" => 11.0,\"blocking factor\" => 3,\"delay factor\" => 8.0),\"nameSub\" => \"ECE 3040\",\"id\" => 23,\"credits\" => 4,\"nameCanonical\" => \"\"), Dict(\"curriculum_requisites\" => Dict{String,Any}[Dict(\"source_id\" => 23,\"target_id\" => 24,\"type\" => \"CurriculumCorequisite\")],\"name\" => \" \",\"metrics\" => Dict{String,Any}(\"centrality\" => 33,\"complexity\" => 10.0,\"blocking factor\" => 2,\"delay factor\" => 8.0),\"nameSub\" => \"ECE 3043\",\"id\" => 24,\"credits\" => 2,\"nameCanonical\" => \"\"), Dict(\"curriculum_requisites\" => Dict{String,Any}[Dict(\"source_id\" => 14,\"target_id\" => 25,\"type\" => \"CurriculumPrerequisite\"), Dict(\"source_id\" => 19,\"target_id\" => 25,\"type\" => \"CurriculumPrerequisite\"), Dict(\"source_id\" => 18,\"target_id\" => 25,\"type\" => \"CurriculumPrerequisite\")],\"name\" => \" \",\"metrics\" => Dict{String,Any}(\"centrality\" => 34,\"complexity\" => 9.0,\"blocking factor\" => 2,\"delay factor\" => 7.0),\"nameSub\" => \"ECE 3025\",\"id\" => 25,\"credits\" => 3,\"nameCanonical\" => \"\"), Dict(\"curriculum_requisites\" => Dict{String,Any}[Dict(\"source_id\" => 14,\"target_id\" => 26,\"type\" => \"CurriculumPrerequisite\"), Dict(\"source_id\" => 19,\"target_id\" => 26,\"type\" => \"CurriculumPrerequisite\")],\"name\" => \" \",\"metrics\" => Dict{String,Any}(\"centrality\" => 23,\"complexity\" => 9.0,\"blocking factor\" => 2,\"delay factor\" => 7.0),\"nameSub\" => \"ECE 3084\",\"id\" => 26,\"credits\" => 3,\"nameCanonical\" => \"\"), Dict(\"curriculum_requisites\" => Dict{String,Any}[],\"name\" => \" \",\"metrics\" => Dict{String,Any}(\"centrality\" => 0,\"complexity\" => 1.0,\"blocking factor\" => 0,\"delay factor\" => 1.0),\"nameSub\" => \"Social Sciences Elective\",\"id\" => 27,\"credits\" => 3,\"nameCanonical\" => \"\")],\"id\" => 5), Dict(\"name\" => \"Term 6\",\"curriculum_items\" => Dict{String,Any}[Dict(\"curriculum_requisites\" => Dict{String,Any}[],\"name\" => \" \",\"metrics\" => Dict{String,Any}(\"centrality\" => 0,\"complexity\" => 1.0,\"blocking factor\" => 0,\"delay factor\" => 1.0),\"nameSub\" => \"ECE/Approved Engineering Elective\",\"id\" => 28,\"credits\" => 3,\"nameCanonical\" => \"\"), Dict(\"curriculum_requisites\" => Dict{String,Any}[Dict(\"source_id\" => 18,\"target_id\" => 29,\"type\" => \"CurriculumPrerequisite\")],\"name\" => \" \",\"metrics\" => Dict{String,Any}(\"centrality\" => 11,\"complexity\" => 8.0,\"blocking factor\" => 2,\"delay factor\" => 6.0),\"nameSub\" => \"Prob/Stat ECE/App/Engr Elective\",\"id\" => 29,\"credits\" => 3,\"nameCanonical\" => \"\"), Dict(\"curriculum_requisites\" => Dict{String,Any}[],\"name\" => \" \",\"metrics\" => Dict{String,Any}(\"centrality\" => 0,\"complexity\" => 1.0,\"blocking factor\" => 0,\"delay factor\" => 1.0),\"nameSub\" => \"ECE Elective\",\"id\" => 30,\"credits\" => 3,\"nameCanonical\" => \"\"), Dict(\"curriculum_requisites\" => Dict{String,Any}[],\"name\" => \" \",\"metrics\" => Dict{String,Any}(\"centrality\" => 0,\"complexity\" => 1.0,\"blocking factor\" => 0,\"delay factor\" => 1.0),\"nameSub\" => \"ECE Elective\",\"id\" => 31,\"credits\" => 3,\"nameCanonical\" => \"\"), Dict(\"curriculum_requisites\" => Dict{String,Any}[Dict(\"source_id\" => 19,\"target_id\" => 32,\"type\" => \"CurriculumPrerequisite\")],\"name\" => \" \",\"metrics\" => Dict{String,Any}(\"centrality\" => 7,\"complexity\" => 9.0,\"blocking factor\" => 2,\"delay factor\" => 7.0),\"nameSub\" => \"ECE 3072\",\"id\" => 32,\"credits\" => 3,\"nameCanonical\" => \"\"), Dict(\"curriculum_requisites\" => Dict{String,Any}[],\"name\" => \" \",\"metrics\" => Dict{String,Any}(\"centrality\" => 0,\"complexity\" => 1.0,\"blocking factor\" => 0,\"delay factor\" => 1.0),\"nameSub\" => \"Approved Elective\",\"id\" => 33,\"credits\" => 3,\"nameCanonical\" => \"\")],\"id\" => 6), Dict(\"name\" => \"Term 7\",\"curriculum_items\" => Dict{String,Any}[Dict(\"curriculum_requisites\" => Dict{String,Any}[],\"name\" => \" \",\"metrics\" => Dict{String,Any}(\"centrality\" => 0,\"complexity\" => 1.0,\"blocking factor\" => 0,\"delay factor\" => 1.0),\"nameSub\" => \"Engineering Elective\",\"id\" => 34,\"credits\" => 3,\"nameCanonical\" => \"\"), Dict(\"curriculum_requisites\" => Dict{String,Any}[],\"name\" => \" \",\"metrics\" => Dict{String,Any}(\"centrality\" => 0,\"complexity\" => 1.0,\"blocking factor\" => 0,\"delay factor\" => 1.0),\"nameSub\" => \"ECE Elective\",\"id\" => 35,\"credits\" => 3,\"nameCanonical\" => \"\"), Dict(\"curriculum_requisites\" => Dict{String,Any}[Dict(\"source_id\" => 26,\"target_id\" => 36,\"type\" => \"CurriculumPrerequisite\"), Dict(\"source_id\" => 25,\"target_id\" => 36,\"type\" => \"CurriculumPrerequisite\"), Dict(\"source_id\" => 32,\"target_id\" => 36,\"type\" => \"CurriculumPrerequisite\"), Dict(\"source_id\" => 29,\"target_id\" => 36,\"type\" => \"CurriculumPrerequisite\"), Dict(\"source_id\" => 15,\"target_id\" => 36,\"type\" => \"CurriculumPrerequisite\"), Dict(\"source_id\" => 24,\"target_id\" => 36,\"type\" => \"CurriculumPrerequisite\")],\"name\" => \" \",\"metrics\" => Dict{String,Any}(\"centrality\" => 111,\"complexity\" => 9.0,\"blocking factor\" => 1,\"delay factor\" => 8.0),\"nameSub\" => \"ECE 4011\",\"id\" => 36,\"credits\" => 2,\"nameCanonical\" => \"\"), Dict(\"curriculum_requisites\" => Dict{String,Any}[],\"name\" => \" \",\"metrics\" => Dict{String,Any}(\"centrality\" => 0,\"complexity\" => 1.0,\"blocking factor\" => 0,\"delay factor\" => 1.0),\"nameSub\" => \"ECE 4XXX Elective\",\"id\" => 37,\"credits\" => 3,\"nameCanonical\" => \"\"), Dict(\"curriculum_requisites\" => Dict{String,Any}[],\"name\" => \" \",\"metrics\" => Dict{String,Any}(\"centrality\" => 0,\"complexity\" => 1.0,\"blocking factor\" => 0,\"delay factor\" => 1.0),\"nameSub\" => \"ECE 4XXX Lab Elective\",\"id\" => 38,\"credits\" => 3,\"nameCanonical\" => \"\"), Dict(\"curriculum_requisites\" => Dict{String,Any}[],\"name\" => \" \",\"metrics\" => Dict{String,Any}(\"centrality\" => 0,\"complexity\" => 1.0,\"blocking factor\" => 0,\"delay factor\" => 1.0),\"nameSub\" => \"Approved Elective\",\"id\" => 39,\"credits\" => 3,\"nameCanonical\" => \"\")],\"id\" => 7), Dict(\"name\" => \"Term 8\",\"curriculum_items\" => Dict{String,Any}[Dict(\"curriculum_requisites\" => Dict{String,Any}[],\"name\" => \" \",\"metrics\" => Dict{String,Any}(\"centrality\" => 0,\"complexity\" => 1.0,\"blocking factor\" => 0,\"delay factor\" => 1.0),\"nameSub\" => \"Humanities Elective\",\"id\" => 40,\"credits\" => 3,\"nameCanonical\" => \"\"), Dict(\"curriculum_requisites\" => Dict{String,Any}[Dict(\"source_id\" => 36,\"target_id\" => 41,\"type\" => \"CurriculumPrerequisite\")],\"name\" => \" \",\"metrics\" => Dict{String,Any}(\"centrality\" => 0,\"complexity\" => 8.0,\"blocking factor\" => 0,\"delay factor\" => 8.0),\"nameSub\" => \"ECE 4012\",\"id\" => 41,\"credits\" => 3,\"nameCanonical\" => \"\"), Dict(\"curriculum_requisites\" => Dict{String,Any}[],\"name\" => \" \",\"metrics\" => Dict{String,Any}(\"centrality\" => 0,\"complexity\" => 1.0,\"blocking factor\" => 0,\"delay factor\" => 1.0),\"nameSub\" => \"ECE 4XXX Elective\",\"id\" => 42,\"credits\" => 3,\"nameCanonical\" => \"\"), Dict(\"curriculum_requisites\" => Dict{String,Any}[],\"name\" => \" \",\"metrics\" => Dict{String,Any}(\"centrality\" => 0,\"complexity\" => 1.0,\"blocking factor\" => 0,\"delay factor\" => 1.0),\"nameSub\" => \"Approved Elective\",\"id\" => 43,\"credits\" => 3,\"nameCanonical\" => \"\"), Dict(\"curriculum_requisites\" => Dict{String,Any}[],\"name\" => \" \",\"metrics\" => Dict{String,Any}(\"centrality\" => 0,\"complexity\" => 1.0,\"blocking factor\" => 0,\"delay factor\" => 1.0),\"nameSub\" => \"Approved Elective\",\"id\" => 44,\"credits\" => 3,\"nameCanonical\" => \"\")],\"id\" => 8)],\"institution\" => \"Georgia Institute of Technology\")), nothing)), Set{String}(), nothing, WebIO.Asset[], Dict{Any,Any}(), WebIO.ConnectionPool(Channel{Any}(sz_max:32,sz_curr:0), Set{WebIO.AbstractConnection}(), Base.GenericCondition{Base.AlwaysLockedST}(Base.InvasiveLinkedList{Task}(Task (runnable) @0x000000011da08d90, Task (runnable) @0x000000011da08d90), Base.AlwaysLockedST(1))), WebIO.JSString[])"
      ]
     },
     "execution_count": 5,
     "metadata": {
      "application/vnd.webio.node+json": {
       "kernelId": "dff7beeb-d49f-44d2-aef4-f66943ad8ef1"
      }
     },
     "output_type": "execute_result"
    }
   ],
   "source": [
    "EE_degree_plan = read_csv(\"Ga_Tech-EE.csv\")\n",
    "visualize(EE_degree_plan, notebook=true, scale=0.8)"
   ]
  },
  {
   "cell_type": "code",
   "execution_count": 6,
   "metadata": {},
   "outputs": [
    {
     "data": {
      "text/plain": [
       "Dict{String,Any} with 8 entries:\n",
       "  \"total credit hours\"         => 134\n",
       "  \"avg. credits per term\"      => 16.75\n",
       "  \"min. credits in a term\"     => 15\n",
       "  \"term credit hour std. dev.\" => 1.08972\n",
       "  \"number of terms\"            => 8\n",
       "  \"max. credits in a term\"     => 18\n",
       "  \"min. credit term\"           => 4\n",
       "  \"max. credit term\"           => 5"
      ]
     },
     "execution_count": 6,
     "metadata": {},
     "output_type": "execute_result"
    }
   ],
   "source": [
    "basic_metrics(EE_degree_plan)\n",
    "EE_degree_plan.metrics"
   ]
  },
  {
   "cell_type": "markdown",
   "metadata": {},
   "source": [
    "### 2.2 Creating the Student Cohort\n",
    "\n",
    "The following command will create an inital cohort of students `n` using a simple enrollment model. Specifically, with this simple model, all students are assumed equally likely (or unlikely) to pass a given class according the course pass rate probability model."
   ]
  },
  {
   "cell_type": "code",
   "execution_count": 7,
   "metadata": {},
   "outputs": [],
   "source": [
    "enrollment_model = Enrollment  # use the Enrollment module to determine if/when student may enroll in a course\n",
    "stopouts = true  # assume that student may stop out of the cohort\n",
    "n = 1000   # student cohort size will be 100\n",
    "students = simple_students(n);  # create a student cohort"
   ]
  },
  {
   "cell_type": "markdown",
   "metadata": {},
   "source": [
    "### 2.3 The Course Performance Model\n",
    "\n",
    "First let's see what happens if the instructional complexity is the same for both programs. Specifically, we will use course pass rates as a proxy for instructional complexity, and we'll set the pass rates for all courses at 90%. "
   ]
  },
  {
   "cell_type": "code",
   "execution_count": 59,
   "metadata": {},
   "outputs": [],
   "source": [
    "performance_model = PassRate\n",
    "real_passrate = false\n",
    "set_passrates(AE_degree_plan.curriculum.courses, 0.9)\n",
    "set_passrates(CS_degree_plan.curriculum.courses, 0.9)\n",
    "course_passrate = 0.9;"
   ]
  },
  {
   "cell_type": "markdown",
   "metadata": {},
   "source": [
    "### 2.4 Setting the Simulation Parameters"
   ]
  },
  {
   "cell_type": "code",
   "execution_count": 60,
   "metadata": {},
   "outputs": [],
   "source": [
    "max_credits = 18  # the maximum number of credit hours a student may enroll in during a semester\n",
    "duration_lock = false # rather than simulating until no students are left in the cohort, run for a fixed number of terms\n",
    "num_terms = 12  # the maximum number of terms in the simulation\n",
    "course_attempt_limit = 3;  # number of times a student may attempt a course"
   ]
  },
  {
   "cell_type": "markdown",
   "metadata": {},
   "source": [
    "### 2.5 Running the Simulation \n",
    "The `simulation` function is used to execute the simulation.  Depending upon how many students are in the cohort, this may take some time to run."
   ]
  },
  {
   "cell_type": "code",
   "execution_count": 61,
   "metadata": {},
   "outputs": [],
   "source": [
    "simulation = simulate(AE_degree_plan, course_attempt_limit, students,\n",
    "                      max_credits = max_credits,\n",
    "                      performance_model = performance_model,\n",
    "                      enrollment_model = enrollment_model,\n",
    "                      duration = num_terms,\n",
    "                      duration_lock = duration_lock,\n",
    "                      stopouts = stopouts);"
   ]
  },
  {
   "cell_type": "markdown",
   "metadata": {},
   "source": [
    "In order to view the results of the simulation, use the `simulation_report` function:"
   ]
  },
  {
   "cell_type": "code",
   "execution_count": 62,
   "metadata": {
    "scrolled": false
   },
   "outputs": [
    {
     "name": "stdout",
     "output_type": "stream",
     "text": [
      "\n",
      "\u001b[0m\u001b[1m------------ Simulation Report ------------\u001b[22m\n",
      "Aerospace Engineering, BS -- 2019-20 Degree Plan\n",
      "\n",
      "-------- Simulation Statistics --------\n",
      "Number of terms: 12\n",
      "Max Credits per Term: 18\n",
      "Max Course Attempts: 3\n",
      "Number of Students: 1000\n",
      "Preset Course Pass Rates: 90.0%\n",
      "\n",
      "-------- Graduation Statistics --------\n",
      "Number of Students Graduated: 657\n",
      "Graduation Rate: 65.7%\n",
      "Term Graduation Rates: \n",
      "[0.0, 0.0, 0.0, 0.0, 0.0, 0.0, 0.0, 0.045, 0.358, 0.592, 0.651, 0.657]\n",
      "Average time to degree: 9.494672754946727 terms\n",
      "\n",
      "-------- Stop out Statistics --------\n",
      "Number of Students Stopped Out (Stopout Model Prediction + Reached Max Attempts): 343\n",
      "Number of Students Reaching Max Attempts: 34\n",
      "Stop-out Rate: 34.3%\n",
      "Cumulative Term Stop-out Rates (including reached max course attempts students): \n",
      "[0.085, 0.199, 0.233, 0.28, 0.31, 0.326, 0.331, 0.334, 0.337, 0.341, 0.343, 0.343]\n",
      "\n",
      "Cumulative Term Stop-out Rates (excluding reaching max course attempts students): \n",
      "[0.085, 0.199, 0.228, 0.272, 0.294, 0.304, 0.309, 0.309, 0.309, 0.309, 0.309, 0.309]\n",
      "\n",
      "Cumulative Term Reached Max Course Attempts Rates: \n",
      "[0.0, 0.0, 0.005, 0.008, 0.016, 0.022, 0.022, 0.025, 0.028, 0.032, 0.034, 0.034]\n",
      "\n",
      "\n",
      "-------- Course Pass Rates by Term --------\n",
      "\n",
      "│ Row │ COUSE                                   │ TERM1 │ TERM2 │ TERM3 │\n",
      "├─────┼─────────────────────────────────────────┼───────┼───────┼───────┤\n",
      "│ 1   │ Calculus I w/ Applications              │ 89.8% │ 97.8% │ 98.8% │\n",
      "│ 2   │ Gen Chemistry I                         │ 91.1% │ 98.7% │ 99.7% │\n",
      "│ 3   │ First-year Comp.                        │ 89.9% │ 98.5% │ 99.2% │\n",
      "│ 4   │ Intro to Engineering                    │ 90.7% │ 98.4% │ 99.0% │\n",
      "│ 5   │ Tier I General Ed.                      │ 89.7% │ 98.3% │ 99.3% │\n",
      "│ 6   │ Calculus II                             │ 0.0%  │ 74.4% │ 86.3% │\n",
      "│ 7   │ Intro. to MATLAB I                      │ 0.0%  │ 73.7% │ 86.1% │\n",
      "│ 8   │ Intro Mechanics                         │ 0.0%  │ 74.2% │ 87.3% │\n",
      "│ 9   │ First-year Comp.                        │ 0.0%  │ 74.4% │ 87.9% │\n",
      "│ 10  │ Programming for Eng. Apps.              │ 0.0%  │ 80.3% │ 89.6% │\n",
      "│ 11  │ Tier I General Ed. 1                    │ 0.0%  │ 61.6% │ 85.2% │\n",
      "│ 12  │ Statics                                 │ 0.0%  │ 0.0%  │ 53.4% │\n",
      "│ 13  │ Vector Calculus                         │ 0.0%  │ 0.0%  │ 58.3% │\n",
      "│ 14  │ Electricity & Magnetism                 │ 0.0%  │ 0.0%  │ 51.7% │\n",
      "│ 15  │ Intro. To MATLAB II                     │ 0.0%  │ 0.0%  │ 57.0% │\n",
      "│ 16  │ Comp. Aided Drafting & Manufacturing    │ 0.0%  │ 7.7%  │ 65.4% │\n",
      "│ 17  │ Tier I General Ed. 2                    │ 0.0%  │ 6.5%  │ 44.4% │\n",
      "│ 18  │ Thermodynamics                          │ 0.0%  │ 0.0%  │ 4.7%  │\n",
      "│ 19  │ Dynamics                                │ 0.0%  │ 0.0%  │ 0.0%  │\n",
      "│ 20  │ Intro. to ODEs                          │ 0.0%  │ 0.0%  │ 0.0%  │\n",
      "│ 21  │ Intro. to Aerospace Eng.                │ 0.0%  │ 0.0%  │ 0.0%  │\n",
      "│ 22  │ Tier I General Ed. 3                    │ 0.0%  │ 0.0%  │ 13.4% │\n",
      "│ 23  │ Aerodynamics                            │ 0.0%  │ 0.0%  │ 0.0%  │\n",
      "│ 24  │ Mech. Behavior of Eng. Materials.       │ 0.0%  │ 0.0%  │ 0.0%  │\n",
      "│ 25  │ Engineering Analysis                    │ 0.0%  │ 0.0%  │ 0.0%  │\n",
      "│ 26  │ Instrumentation Lab.                    │ 0.0%  │ 0.0%  │ 4.2%  │\n",
      "│ 27  │ Fund. of Materials for Engineers        │ 0.0%  │ 0.0%  │ 0.9%  │\n",
      "│ 28  │ Mech. of Materials Lab.                 │ 90.9% │ 96.8% │ 98.1% │\n",
      "│ 29  │ Eng. Component Design                   │ 0.0%  │ 0.0%  │ 0.0%  │\n",
      "│ 30  │ Aircraft Performance                    │ 0.0%  │ 0.0%  │ 0.0%  │\n",
      "│ 31  │ Gasdynamics                             │ 0.0%  │ 0.0%  │ 0.0%  │\n",
      "│ 32  │ Numerical Methods                       │ 0.0%  │ 0.0%  │ 0.0%  │\n",
      "│ 33  │ Aero./Mech. Eng. Lab                    │ 88.7% │ 95.2% │ 96.0% │\n",
      "│ 34  │ Tier II General Ed. 1                   │ 0.0%  │ 0.0%  │ 0.4%  │\n",
      "│ 35  │ Senior Aerospace Lab.                   │ 0.0%  │ 0.0%  │ 0.0%  │\n",
      "│ 36  │ Aerospace Conceptual Design             │ 0.0%  │ 0.0%  │ 0.0%  │\n",
      "│ 37  │ Aerospace Propulsion                    │ 0.0%  │ 0.0%  │ 0.0%  │\n",
      "│ 38  │ Stability and Control of Aero. Vehicles │ 0.0%  │ 0.0%  │ 0.0%  │\n",
      "│ 39  │ Orbital Mechanicans and Space Flt.      │ 0.0%  │ 0.0%  │ 0.0%  │\n",
      "│ 40  │ Senior Colloquium                       │ 0.0%  │ 55.2% │ 62.4% │\n",
      "│ 41  │ Aerospace Eng.Design                    │ 0.0%  │ 0.0%  │ 0.0%  │\n",
      "│ 42  │ Num. Meth. in Fluid Mech. & Heat Xfer   │ 0.0%  │ 0.0%  │ 0.0%  │\n",
      "│ 43  │ Technical Elective 1                    │ 0.0%  │ 0.0%  │ 0.0%  │\n",
      "│ 44  │ Technical Elective 2                    │ 0.0%  │ 0.0%  │ 0.0%  │\n",
      "│ 45  │ Tier II General Ed. 2                   │ 0.0%  │ 0.0%  │ 0.0%  │\n",
      "│ 46  │ GRAD RATE                               │ 0.0%  │ 0.0%  │ 0.0%  │\n",
      "\n",
      "│ Row │ TERM4 │ TERM5 │ TERM6 │ TERM7 │ TERM8 │ TERM9 │ TERM10 │ TERM11 │\n",
      "├─────┼───────┼───────┼───────┼───────┼───────┼───────┼────────┼────────┤\n",
      "│ 1   │ 98.8% │ 98.8% │ 98.8% │ 98.8% │ 98.8% │ 98.8% │ 98.8%  │ 98.8%  │\n",
      "│ 2   │ 99.7% │ 99.7% │ 99.7% │ 99.7% │ 99.7% │ 99.7% │ 99.7%  │ 99.7%  │\n",
      "│ 3   │ 99.2% │ 99.2% │ 99.2% │ 99.2% │ 99.2% │ 99.2% │ 99.2%  │ 99.2%  │\n",
      "│ 4   │ 99.0% │ 99.0% │ 99.0% │ 99.0% │ 99.0% │ 99.0% │ 99.0%  │ 99.0%  │\n",
      "│ 5   │ 99.3% │ 99.3% │ 99.3% │ 99.3% │ 99.3% │ 99.3% │ 99.3%  │ 99.3%  │\n",
      "│ 6   │ 89.2% │ 89.3% │ 89.3% │ 89.3% │ 89.3% │ 89.3% │ 89.3%  │ 89.3%  │\n",
      "│ 7   │ 88.8% │ 89.3% │ 89.3% │ 89.3% │ 89.3% │ 89.3% │ 89.3%  │ 89.3%  │\n",
      "│ 8   │ 89.8% │ 89.9% │ 89.9% │ 89.9% │ 89.9% │ 89.9% │ 89.9%  │ 89.9%  │\n",
      "│ 9   │ 89.3% │ 89.3% │ 89.3% │ 89.3% │ 89.3% │ 89.3% │ 89.3%  │ 89.3%  │\n",
      "│ 10  │ 90.1% │ 90.1% │ 90.1% │ 90.1% │ 90.1% │ 90.1% │ 90.1%  │ 90.1%  │\n",
      "│ 11  │ 88.1% │ 88.1% │ 88.1% │ 88.1% │ 88.1% │ 88.1% │ 88.1%  │ 88.1%  │\n",
      "│ 12  │ 72.3% │ 77.7% │ 78.7% │ 78.7% │ 78.7% │ 78.7% │ 78.7%  │ 78.7%  │\n",
      "│ 13  │ 74.3% │ 77.9% │ 78.3% │ 78.4% │ 78.4% │ 78.4% │ 78.4%  │ 78.4%  │\n",
      "│ 14  │ 72.3% │ 77.5% │ 78.3% │ 78.4% │ 78.4% │ 78.4% │ 78.4%  │ 78.4%  │\n",
      "│ 15  │ 73.4% │ 77.5% │ 78.4% │ 78.4% │ 78.4% │ 78.4% │ 78.4%  │ 78.4%  │\n",
      "│ 16  │ 77.8% │ 79.4% │ 79.4% │ 79.4% │ 79.4% │ 79.4% │ 79.4%  │ 79.4%  │\n",
      "│ 17  │ 75.4% │ 78.7% │ 78.7% │ 78.7% │ 78.7% │ 78.7% │ 78.7%  │ 78.7%  │\n",
      "│ 18  │ 67.8% │ 75.3% │ 76.2% │ 76.2% │ 76.2% │ 76.2% │ 76.2%  │ 76.2%  │\n",
      "│ 19  │ 44.0% │ 65.1% │ 72.3% │ 73.6% │ 73.9% │ 74.0% │ 74.0%  │ 74.0%  │\n",
      "│ 20  │ 41.7% │ 66.7% │ 72.6% │ 73.6% │ 73.7% │ 73.8% │ 73.8%  │ 73.8%  │\n",
      "│ 21  │ 28.8% │ 65.4% │ 71.9% │ 73.2% │ 73.3% │ 73.3% │ 73.3%  │ 73.3%  │\n",
      "│ 22  │ 34.3% │ 69.8% │ 73.7% │ 74.5% │ 74.5% │ 74.5% │ 74.5%  │ 74.5%  │\n",
      "│ 23  │ 0.0%  │ 23.6% │ 59.1% │ 67.6% │ 69.4% │ 69.9% │ 69.9%  │ 69.9%  │\n",
      "│ 24  │ 0.0%  │ 51.1% │ 67.5% │ 70.8% │ 71.1% │ 71.1% │ 71.1%  │ 71.1%  │\n",
      "│ 25  │ 0.0%  │ 32.6% │ 60.3% │ 68.1% │ 69.5% │ 69.6% │ 69.7%  │ 69.7%  │\n",
      "│ 26  │ 7.8%  │ 39.0% │ 67.9% │ 71.0% │ 71.5% │ 71.5% │ 71.5%  │ 71.5%  │\n",
      "│ 27  │ 5.2%  │ 15.0% │ 61.9% │ 69.7% │ 70.2% │ 70.2% │ 70.2%  │ 70.2%  │\n",
      "│ 28  │ 98.3% │ 98.3% │ 98.9% │ 98.9% │ 98.9% │ 98.9% │ 98.9%  │ 98.9%  │\n",
      "│ 29  │ 0.0%  │ 0.0%  │ 28.0% │ 54.5% │ 64.8% │ 67.2% │ 67.6%  │ 67.7%  │\n",
      "│ 30  │ 0.0%  │ 0.0%  │ 42.8% │ 63.0% │ 67.1% │ 67.9% │ 68.0%  │ 68.0%  │\n",
      "│ 31  │ 0.0%  │ 0.0%  │ 26.8% │ 62.8% │ 67.3% │ 68.0% │ 68.1%  │ 68.1%  │\n",
      "│ 32  │ 0.0%  │ 0.0%  │ 16.4% │ 56.1% │ 66.3% │ 67.2% │ 67.5%  │ 67.5%  │\n",
      "│ 33  │ 96.8% │ 96.9% │ 97.1% │ 98.0% │ 98.1% │ 98.1% │ 98.1%  │ 98.1%  │\n",
      "│ 34  │ 2.1%  │ 4.5%  │ 11.1% │ 56.0% │ 66.3% │ 68.1% │ 68.1%  │ 68.1%  │\n",
      "│ 35  │ 0.0%  │ 0.0%  │ 0.0%  │ 19.7% │ 56.7% │ 64.3% │ 67.0%  │ 67.1%  │\n",
      "│ 36  │ 0.0%  │ 0.0%  │ 0.0%  │ 18.5% │ 53.2% │ 63.7% │ 66.3%  │ 66.7%  │\n",
      "│ 37  │ 0.0%  │ 0.0%  │ 0.0%  │ 18.1% │ 57.2% │ 65.6% │ 66.9%  │ 67.1%  │\n",
      "│ 38  │ 0.0%  │ 0.0%  │ 0.0%  │ 26.1% │ 55.9% │ 64.9% │ 66.7%  │ 66.8%  │\n",
      "│ 39  │ 0.0%  │ 0.0%  │ 1.3%  │ 21.3% │ 57.6% │ 66.0% │ 67.2%  │ 67.2%  │\n",
      "│ 40  │ 71.2% │ 72.0% │ 72.7% │ 74.5% │ 81.7% │ 83.3% │ 83.4%  │ 83.4%  │\n",
      "│ 41  │ 0.0%  │ 0.0%  │ 0.0%  │ 0.0%  │ 16.1% │ 49.3% │ 62.7%  │ 66.0%  │\n",
      "│ 42  │ 0.0%  │ 0.0%  │ 0.0%  │ 5.0%  │ 43.3% │ 63.0% │ 66.3%  │ 66.9%  │\n",
      "│ 43  │ 1.5%  │ 2.7%  │ 4.5%  │ 7.5%  │ 40.0% │ 63.9% │ 67.4%  │ 67.6%  │\n",
      "│ 44  │ 0.6%  │ 1.5%  │ 2.9%  │ 4.3%  │ 25.8% │ 61.0% │ 66.0%  │ 66.9%  │\n",
      "│ 45  │ 0.2%  │ 1.2%  │ 1.9%  │ 2.7%  │ 13.9% │ 56.1% │ 65.4%  │ 66.6%  │\n",
      "│ 46  │ 0.0%  │ 0.0%  │ 0.0%  │ 0.0%  │ 4.5%  │ 35.8% │ 59.2%  │ 65.1%  │\n",
      "\n",
      "│ Row │ TERM12 │\n",
      "├─────┼────────┤\n",
      "│ 1   │ 98.8%  │\n",
      "│ 2   │ 99.7%  │\n",
      "│ 3   │ 99.2%  │\n",
      "│ 4   │ 99.0%  │\n",
      "│ 5   │ 99.3%  │\n",
      "│ 6   │ 89.3%  │\n",
      "│ 7   │ 89.3%  │\n",
      "│ 8   │ 89.9%  │\n",
      "│ 9   │ 89.3%  │\n",
      "│ 10  │ 90.1%  │\n",
      "│ 11  │ 88.1%  │\n",
      "│ 12  │ 78.7%  │\n",
      "│ 13  │ 78.4%  │\n",
      "│ 14  │ 78.4%  │\n",
      "│ 15  │ 78.4%  │\n",
      "│ 16  │ 79.4%  │\n",
      "│ 17  │ 78.7%  │\n",
      "│ 18  │ 76.2%  │\n",
      "│ 19  │ 74.0%  │\n",
      "│ 20  │ 73.8%  │\n",
      "│ 21  │ 73.3%  │\n",
      "│ 22  │ 74.5%  │\n",
      "│ 23  │ 69.9%  │\n",
      "│ 24  │ 71.1%  │\n",
      "│ 25  │ 69.7%  │\n",
      "│ 26  │ 71.5%  │\n",
      "│ 27  │ 70.2%  │\n",
      "│ 28  │ 98.9%  │\n",
      "│ 29  │ 67.7%  │\n",
      "│ 30  │ 68.0%  │\n",
      "│ 31  │ 68.1%  │\n",
      "│ 32  │ 67.5%  │\n",
      "│ 33  │ 98.1%  │\n",
      "│ 34  │ 68.1%  │\n",
      "│ 35  │ 67.1%  │\n",
      "│ 36  │ 66.7%  │\n",
      "│ 37  │ 67.1%  │\n",
      "│ 38  │ 66.8%  │\n",
      "│ 39  │ 67.2%  │\n",
      "│ 40  │ 83.4%  │\n",
      "│ 41  │ 66.5%  │\n",
      "│ 42  │ 66.9%  │\n",
      "│ 43  │ 67.6%  │\n",
      "│ 44  │ 66.9%  │\n",
      "│ 45  │ 66.7%  │\n",
      "│ 46  │ 65.7%  │"
     ]
    }
   ],
   "source": [
    "simulation_report(simulation, num_terms, course_passrate, max_credits, real_passrate)"
   ]
  },
  {
   "cell_type": "markdown",
   "metadata": {},
   "source": [
    "Now let's run the same set of students through the Computer Science curriculum:"
   ]
  },
  {
   "cell_type": "code",
   "execution_count": 74,
   "metadata": {
    "scrolled": false
   },
   "outputs": [
    {
     "name": "stdout",
     "output_type": "stream",
     "text": [
      "\n",
      "\u001b[0m\u001b[1m------------ Simulation Report ------------\u001b[22m\n",
      "Computer Science, BS -- 2019-20 Degree Plan\n",
      "\n",
      "-------- Simulation Statistics --------\n",
      "Number of terms: 12\n",
      "Max Credits per Term: 18\n",
      "Max Course Attempts: 3\n",
      "Number of Students: 1000\n",
      "Preset Course Pass Rates: 90.0%\n",
      "\n",
      "-------- Graduation Statistics --------\n",
      "Number of Students Graduated: 624\n",
      "Graduation Rate: 62.4%\n",
      "Term Graduation Rates: \n",
      "[0.0, 0.0, 0.0, 0.0, 0.0, 0.0, 0.0, 0.197, 0.532, 0.619, 0.624, 0.0]\n",
      "Average time to degree: 8.83974358974359 terms\n",
      "\n",
      "-------- Stop out Statistics --------\n",
      "Number of Students Stopped Out (Stopout Model Prediction + Reached Max Attempts): 376\n",
      "Number of Students Reaching Max Attempts: 77\n",
      "Stop-out Rate: 37.6%\n",
      "Cumulative Term Stop-out Rates (including reached max course attempts students): \n",
      "[0.077, 0.184, 0.231, 0.297, 0.336, 0.355, 0.368, 0.372, 0.373, 0.375, 0.376, 0.0]\n",
      "\n",
      "Cumulative Term Stop-out Rates (excluding reaching max course attempts students): \n",
      "[0.077, 0.184, 0.212, 0.271, 0.29, 0.293, 0.299, 0.299, 0.299, 0.299, 0.299, 0.0]\n",
      "\n",
      "Cumulative Term Reached Max Course Attempts Rates: \n",
      "[0.0, 0.0, 0.019, 0.026, 0.046, 0.062, 0.069, 0.073, 0.074, 0.076, 0.077, 0.0]\n",
      "\n",
      "\n",
      "-------- Course Pass Rates by Term --------\n",
      "\n",
      "│ Row │ COUSE                            │ TERM1 │ TERM2 │ TERM3 │ TERM4 │\n",
      "├─────┼──────────────────────────────────┼───────┼───────┼───────┼───────┤\n",
      "│ 1   │ Intro to Computer Programming I  │ 91.0% │ 97.9% │ 98.8% │ 98.8% │\n",
      "│ 2   │ Pre-Calculus                     │ 72.9% │ 90.1% │ 95.2% │ 95.2% │\n",
      "│ 3   │ English Composition I            │ 88.5% │ 98.1% │ 98.8% │ 98.8% │\n",
      "│ 4   │ 1st Semester Second Language     │ 0.0%  │ 83.5% │ 90.8% │ 91.4% │\n",
      "│ 5   │ Intro to Computer Programming II │ 0.0%  │ 76.0% │ 88.2% │ 90.6% │\n",
      "│ 6   │ Calculus I                       │ 0.0%  │ 61.2% │ 80.6% │ 86.4% │\n",
      "│ 7   │ English Composition II           │ 0.0%  │ 71.1% │ 86.3% │ 89.0% │\n",
      "│ 8   │ 2nd Semester Second Language     │ 0.0%  │ 0.0%  │ 65.9% │ 78.2% │\n",
      "│ 9   │ Software Development             │ 0.0%  │ 0.0%  │ 50.8% │ 71.6% │\n",
      "│ 10  │ Intro to Discrete Structures     │ 0.0%  │ 0.0%  │ 49.0% │ 71.8% │\n",
      "│ 11  │ Calculus II                      │ 0.0%  │ 0.0%  │ 41.5% │ 64.6% │\n",
      "│ 12  │ Tier 1 General Education 1       │ 88.4% │ 88.8% │ 94.3% │ 97.3% │\n",
      "│ 13  │ Tier 1 General Education 2       │ 0.0%  │ 2.6%  │ 45.4% │ 75.5% │\n",
      "│ 14  │ Computer Organization            │ 0.0%  │ 0.0%  │ 0.0%  │ 38.5% │\n",
      "│ 15  │ Systems Programming & Unix       │ 0.0%  │ 0.0%  │ 0.0%  │ 41.2% │\n",
      "│ 16  │ Supporting Science #1            │ 0.0%  │ 0.0%  │ 6.1%  │ 59.5% │\n",
      "│ 17  │ Tier 1 General Education 3       │ 0.0%  │ 0.0%  │ 1.0%  │ 48.9% │\n",
      "│ 18  │ Tier 1 General Education 4       │ 0.0%  │ 0.0%  │ 0.0%  │ 23.2% │\n",
      "│ 19  │ Object-Oriented Programming      │ 0.0%  │ 0.0%  │ 0.0%  │ 0.0%  │\n",
      "│ 20  │ Analysis of Discrete Structures  │ 0.0%  │ 0.0%  │ 0.0%  │ 0.0%  │\n",
      "│ 21  │ Supporting Science #2            │ 0.0%  │ 0.0%  │ 0.0%  │ 5.6%  │\n",
      "│ 22  │ Tier 2 Gen Ed/Upper-Division 1   │ 0.0%  │ 0.0%  │ 0.0%  │ 0.6%  │\n",
      "│ 23  │ Upper-Division Elective          │ 0.0%  │ 0.0%  │ 0.0%  │ 0.0%  │\n",
      "│ 24  │ CSC Paradigms Elective           │ 0.0%  │ 0.0%  │ 0.0%  │ 0.0%  │\n",
      "│ 25  │ CSC 400-Level Elective 1         │ 0.0%  │ 0.0%  │ 0.0%  │ 0.0%  │\n",
      "│ 26  │ Tier 2 Gen Ed/Upper-Division 2   │ 0.0%  │ 0.0%  │ 0.0%  │ 0.0%  │\n",
      "│ 27  │ Tier 2 Gen Ed/Upper-Division 3   │ 0.0%  │ 0.0%  │ 0.0%  │ 0.0%  │\n",
      "│ 28  │ Elective 1                       │ 0.0%  │ 0.0%  │ 0.0%  │ 0.0%  │\n",
      "│ 29  │ CSC Theory & Writing Elective    │ 0.0%  │ 0.0%  │ 0.0%  │ 0.0%  │\n",
      "│ 30  │ CSC 400-Level Elective 2         │ 0.0%  │ 0.0%  │ 0.0%  │ 0.0%  │\n",
      "│ 31  │ Elective 2                       │ 0.0%  │ 0.0%  │ 0.0%  │ 0.0%  │\n",
      "│ 32  │ Elective 3                       │ 0.0%  │ 0.0%  │ 0.0%  │ 0.0%  │\n",
      "│ 33  │ Elective 4                       │ 0.0%  │ 0.0%  │ 0.0%  │ 0.0%  │\n",
      "│ 34  │ CSC Systems Elective             │ 0.0%  │ 0.0%  │ 0.0%  │ 0.0%  │\n",
      "│ 35  │ CSC 300/400-Level Elective       │ 0.0%  │ 0.0%  │ 0.0%  │ 0.0%  │\n",
      "│ 36  │ Upper-Division Elective 1        │ 0.0%  │ 0.0%  │ 0.0%  │ 0.0%  │\n",
      "│ 37  │ Upper-Division Elective 2        │ 0.0%  │ 0.0%  │ 0.0%  │ 0.0%  │\n",
      "│ 38  │ GRAD RATE                        │ 0.0%  │ 0.0%  │ 0.0%  │ 0.0%  │\n",
      "\n",
      "│ Row │ TERM5 │ TERM6 │ TERM7 │ TERM8 │ TERM9 │ TERM10 │ TERM11 │ TERM12 │\n",
      "├─────┼───────┼───────┼───────┼───────┼───────┼────────┼────────┼────────┤\n",
      "│ 1   │ 98.8% │ 98.8% │ 98.8% │ 98.8% │ 98.8% │ 98.8%  │ 98.8%  │ 98.8%  │\n",
      "│ 2   │ 95.2% │ 95.2% │ 95.2% │ 95.2% │ 95.2% │ 95.2%  │ 95.2%  │ 95.2%  │\n",
      "│ 3   │ 98.8% │ 98.8% │ 98.8% │ 98.8% │ 98.8% │ 98.8%  │ 98.8%  │ 98.8%  │\n",
      "│ 4   │ 91.4% │ 91.4% │ 91.4% │ 91.4% │ 91.4% │ 91.4%  │ 91.4%  │ 91.4%  │\n",
      "│ 5   │ 90.7% │ 90.7% │ 90.7% │ 90.7% │ 90.7% │ 90.7%  │ 90.7%  │ 90.7%  │\n",
      "│ 6   │ 87.0% │ 87.0% │ 87.0% │ 87.0% │ 87.0% │ 87.0%  │ 87.0%  │ 87.0%  │\n",
      "│ 7   │ 89.1% │ 89.1% │ 89.1% │ 89.1% │ 89.1% │ 89.1%  │ 89.1%  │ 89.1%  │\n",
      "│ 8   │ 79.9% │ 80.2% │ 80.2% │ 80.2% │ 80.2% │ 80.2%  │ 80.2%  │ 80.2%  │\n",
      "│ 9   │ 77.4% │ 78.2% │ 78.3% │ 78.3% │ 78.3% │ 78.3%  │ 78.3%  │ 78.3%  │\n",
      "│ 10  │ 76.9% │ 77.7% │ 77.7% │ 77.7% │ 77.7% │ 77.7%  │ 77.7%  │ 77.7%  │\n",
      "│ 11  │ 73.1% │ 75.0% │ 75.3% │ 75.3% │ 75.3% │ 75.3%  │ 75.3%  │ 75.3%  │\n",
      "│ 12  │ 97.4% │ 97.4% │ 97.4% │ 97.4% │ 97.4% │ 97.4%  │ 97.4%  │ 97.4%  │\n",
      "│ 13  │ 78.9% │ 79.1% │ 79.1% │ 79.1% │ 79.1% │ 79.1%  │ 79.1%  │ 79.1%  │\n",
      "│ 14  │ 61.4% │ 69.6% │ 71.4% │ 71.5% │ 71.5% │ 71.5%  │ 71.5%  │ 71.5%  │\n",
      "│ 15  │ 64.2% │ 70.5% │ 72.3% │ 72.5% │ 72.5% │ 72.5%  │ 72.5%  │ 72.5%  │\n",
      "│ 16  │ 74.1% │ 75.0% │ 75.0% │ 75.0% │ 75.0% │ 75.0%  │ 75.0%  │ 75.0%  │\n",
      "│ 17  │ 71.9% │ 73.9% │ 74.2% │ 74.2% │ 74.2% │ 74.2%  │ 74.2%  │ 74.2%  │\n",
      "│ 18  │ 63.4% │ 70.0% │ 70.8% │ 70.8% │ 70.8% │ 70.8%  │ 70.8%  │ 70.8%  │\n",
      "│ 19  │ 52.6% │ 66.3% │ 68.4% │ 68.7% │ 68.7% │ 68.7%  │ 68.7%  │ 68.7%  │\n",
      "│ 20  │ 40.6% │ 59.6% │ 65.2% │ 66.4% │ 66.4% │ 66.4%  │ 66.4%  │ 66.4%  │\n",
      "│ 21  │ 39.3% │ 64.6% │ 67.9% │ 68.3% │ 68.3% │ 68.3%  │ 68.3%  │ 68.3%  │\n",
      "│ 22  │ 30.0% │ 62.7% │ 67.3% │ 68.0% │ 68.0% │ 68.0%  │ 68.0%  │ 68.0%  │\n",
      "│ 23  │ 11.5% │ 58.3% │ 65.5% │ 66.4% │ 66.4% │ 66.4%  │ 66.4%  │ 66.4%  │\n",
      "│ 24  │ 2.1%  │ 50.5% │ 63.6% │ 65.0% │ 65.3% │ 65.3%  │ 65.3%  │ 65.3%  │\n",
      "│ 25  │ 0.7%  │ 43.7% │ 62.4% │ 64.5% │ 64.8% │ 64.8%  │ 64.8%  │ 64.8%  │\n",
      "│ 26  │ 0.1%  │ 33.0% │ 61.2% │ 64.4% │ 64.7% │ 64.7%  │ 64.7%  │ 64.7%  │\n",
      "│ 27  │ 0.0%  │ 23.6% │ 58.8% │ 63.8% │ 64.4% │ 64.5%  │ 64.5%  │ 64.5%  │\n",
      "│ 28  │ 0.0%  │ 11.5% │ 54.3% │ 63.1% │ 64.0% │ 64.1%  │ 64.1%  │ 64.1%  │\n",
      "│ 29  │ 0.0%  │ 3.2%  │ 49.9% │ 62.6% │ 64.1% │ 64.1%  │ 64.1%  │ 64.1%  │\n",
      "│ 30  │ 0.0%  │ 0.0%  │ 44.4% │ 61.5% │ 63.3% │ 63.6%  │ 63.6%  │ 63.6%  │\n",
      "│ 31  │ 0.0%  │ 0.0%  │ 36.2% │ 60.5% │ 63.6% │ 63.7%  │ 63.7%  │ 63.7%  │\n",
      "│ 32  │ 0.0%  │ 0.0%  │ 26.6% │ 59.2% │ 63.3% │ 63.6%  │ 63.6%  │ 63.6%  │\n",
      "│ 33  │ 0.0%  │ 0.0%  │ 16.8% │ 54.3% │ 62.1% │ 63.2%  │ 63.3%  │ 63.3%  │\n",
      "│ 34  │ 0.0%  │ 0.0%  │ 6.4%  │ 51.0% │ 62.0% │ 63.0%  │ 63.0%  │ 63.0%  │\n",
      "│ 35  │ 0.0%  │ 0.0%  │ 1.9%  │ 45.9% │ 61.0% │ 62.9%  │ 63.1%  │ 63.1%  │\n",
      "│ 36  │ 0.0%  │ 0.0%  │ 0.0%  │ 38.6% │ 60.5% │ 62.8%  │ 63.0%  │ 63.0%  │\n",
      "│ 37  │ 0.0%  │ 0.0%  │ 0.0%  │ 29.5% │ 58.7% │ 62.8%  │ 62.9%  │ 62.9%  │\n",
      "│ 38  │ 0.0%  │ 0.0%  │ 0.0%  │ 19.7% │ 53.2% │ 61.9%  │ 62.4%  │ 0.0%   │"
     ]
    }
   ],
   "source": [
    "simulation = simulate(CS_degree_plan, course_attempt_limit, students,\n",
    "                      max_credits = max_credits,\n",
    "                      performance_model = performance_model,\n",
    "                      enrollment_model = enrollment_model,\n",
    "                      duration = num_terms,\n",
    "                      duration_lock = duration_lock,\n",
    "                      stopouts = stopouts);\n",
    "simulation_report(simulation, num_terms, course_passrate, max_credits, real_passrate)"
   ]
  },
  {
   "cell_type": "code",
   "execution_count": 72,
   "metadata": {
    "scrolled": false
   },
   "outputs": [
    {
     "name": "stdout",
     "output_type": "stream",
     "text": [
      "\n",
      "\u001b[0m\u001b[1m------------ Simulation Report ------------\u001b[22m\n",
      "Electrical Engineering, BS -- 2017-18 Plan\n",
      "\n",
      "-------- Simulation Statistics --------\n",
      "Number of terms: 12\n",
      "Max Credits per Term: 18\n",
      "Max Course Attempts: 3\n",
      "Number of Students: 1000\n",
      "Preset Course Pass Rates: 90.0%\n",
      "\n",
      "-------- Graduation Statistics --------\n",
      "Number of Students Graduated: 680\n",
      "Graduation Rate: 68.0%\n",
      "Term Graduation Rates: \n",
      "[0.0, 0.0, 0.0, 0.0, 0.0, 0.0, 0.0, 0.061, 0.425, 0.626, 0.676, 0.68]\n",
      "Average time to degree: 9.370588235294118 terms\n",
      "\n",
      "-------- Stop out Statistics --------\n",
      "Number of Students Stopped Out (Stopout Model Prediction + Reached Max Attempts): 320\n",
      "Number of Students Reaching Max Attempts: 37\n",
      "Stop-out Rate: 32.0%\n",
      "Cumulative Term Stop-out Rates (including reached max course attempts students): \n",
      "[0.07, 0.19, 0.218, 0.262, 0.284, 0.297, 0.304, 0.307, 0.313, 0.319, 0.32, 0.32]\n",
      "\n",
      "Cumulative Term Stop-out Rates (excluding reaching max course attempts students): \n",
      "[0.07, 0.19, 0.211, 0.248, 0.27, 0.278, 0.283, 0.283, 0.283, 0.283, 0.283, 0.283]\n",
      "\n",
      "Cumulative Term Reached Max Course Attempts Rates: \n",
      "[0.0, 0.0, 0.007, 0.014, 0.014, 0.019, 0.021, 0.024, 0.03, 0.036, 0.037, 0.037]\n",
      "\n",
      "\n",
      "-------- Course Pass Rates by Term --------\n",
      "\n",
      "│ Row │ COUSE                             │ TERM1 │ TERM2 │ TERM3 │ TERM4 │\n",
      "├─────┼───────────────────────────────────┼───────┼───────┼───────┼───────┤\n",
      "│ 1   │ CHEM 1310                         │ 90.0% │ 98.6% │ 99.2% │ 99.2% │\n",
      "│ 2   │ MATH 1551                         │ 90.6% │ 98.7% │ 99.0% │ 99.0% │\n",
      "│ 3   │ MATH 1553                         │ 89.8% │ 97.7% │ 98.8% │ 98.8% │\n",
      "│ 4   │ CS 1371                           │ 87.8% │ 98.3% │ 99.5% │ 99.5% │\n",
      "│ 5   │ Wellness Elective                 │ 90.9% │ 98.5% │ 99.2% │ 99.2% │\n",
      "│ 6   │ ENGL 1101                         │ 90.5% │ 97.9% │ 98.5% │ 98.5% │\n",
      "│ 7   │ PHYS 2211                         │ 0.0%  │ 76.0% │ 89.6% │ 90.5% │\n",
      "│ 8   │ MATH 1552                         │ 0.0%  │ 75.4% │ 88.9% │ 90.2% │\n",
      "│ 9   │ ECE 2020                          │ 0.0%  │ 72.6% │ 88.1% │ 90.4% │\n",
      "│ 10  │ History/Government Elective       │ 0.0%  │ 78.8% │ 90.3% │ 91.2% │\n",
      "│ 11  │ ENGL 1102                         │ 0.0%  │ 56.7% │ 84.2% │ 87.9% │\n",
      "│ 12  │ PHYS 2212                         │ 0.0%  │ 0.0%  │ 59.9% │ 77.4% │\n",
      "│ 13  │ MATH 2552                         │ 0.0%  │ 0.0%  │ 58.8% │ 75.8% │\n",
      "│ 14  │ ECE 2026                          │ 0.0%  │ 0.0%  │ 56.7% │ 75.3% │\n",
      "│ 15  │ Economics Elective                │ 0.0%  │ 7.4%  │ 64.9% │ 78.9% │\n",
      "│ 16  │ Social Sciences Elective          │ 0.0%  │ 6.1%  │ 38.2% │ 76.8% │\n",
      "│ 17  │ Science Elective                  │ 0.0%  │ 0.0%  │ 9.8%  │ 71.8% │\n",
      "│ 18  │ MATH 2551                         │ 0.0%  │ 0.0%  │ 0.0%  │ 64.8% │\n",
      "│ 19  │ ECE 2040                          │ 0.0%  │ 0.0%  │ 0.0%  │ 47.2% │\n",
      "│ 20  │ ECE 2031                          │ 0.0%  │ 0.0%  │ 4.4%  │ 58.2% │\n",
      "│ 21  │ Programming Elective              │ 0.0%  │ 0.0%  │ 3.3%  │ 36.7% │\n",
      "│ 22  │ Humanities Elective               │ 0.0%  │ 0.0%  │ 0.3%  │ 15.4% │\n",
      "│ 23  │ ECE 3040                          │ 0.0%  │ 0.0%  │ 0.0%  │ 0.0%  │\n",
      "│ 24  │ ECE 3043                          │ 0.0%  │ 7.6%  │ 12.0% │ 23.0% │\n",
      "│ 25  │ ECE 3025                          │ 0.0%  │ 0.0%  │ 0.0%  │ 0.0%  │\n",
      "│ 26  │ ECE 3084                          │ 0.0%  │ 0.0%  │ 0.0%  │ 0.0%  │\n",
      "│ 27  │ Social Sciences Elective          │ 0.0%  │ 0.0%  │ 0.2%  │ 1.0%  │\n",
      "│ 28  │ ECE/Approved Engineering Elective │ 0.0%  │ 0.0%  │ 0.0%  │ 0.5%  │\n",
      "│ 29  │ Prob/Stat ECE/App/Engr Elective   │ 0.0%  │ 0.0%  │ 0.0%  │ 0.0%  │\n",
      "│ 30  │ ECE Elective                      │ 0.0%  │ 0.0%  │ 0.0%  │ 0.2%  │\n",
      "│ 31  │ ECE Elective                      │ 0.0%  │ 0.0%  │ 0.0%  │ 0.1%  │\n",
      "│ 32  │ ECE 3072                          │ 0.0%  │ 0.0%  │ 0.0%  │ 0.0%  │\n",
      "│ 33  │ Approved Elective                 │ 0.0%  │ 0.0%  │ 0.0%  │ 0.0%  │\n",
      "│ 34  │ Engineering Elective              │ 0.0%  │ 0.0%  │ 0.0%  │ 0.0%  │\n",
      "│ 35  │ ECE Elective                      │ 0.0%  │ 0.0%  │ 0.0%  │ 0.0%  │\n",
      "│ 36  │ ECE 4011                          │ 0.0%  │ 0.0%  │ 0.0%  │ 0.0%  │\n",
      "│ 37  │ ECE 4XXX Elective                 │ 0.0%  │ 0.0%  │ 0.0%  │ 0.0%  │\n",
      "│ 38  │ ECE 4XXX Lab Elective             │ 0.0%  │ 0.0%  │ 0.0%  │ 0.0%  │\n",
      "│ 39  │ Approved Elective                 │ 0.0%  │ 0.0%  │ 0.0%  │ 0.0%  │\n",
      "│ 40  │ Humanities Elective               │ 0.0%  │ 0.0%  │ 0.0%  │ 0.0%  │\n",
      "│ 41  │ ECE 4012                          │ 0.0%  │ 0.0%  │ 0.0%  │ 0.0%  │\n",
      "│ 42  │ ECE 4XXX Elective                 │ 0.0%  │ 0.0%  │ 0.0%  │ 0.0%  │\n",
      "│ 43  │ Approved Elective                 │ 0.0%  │ 0.0%  │ 0.0%  │ 0.0%  │\n",
      "│ 44  │ Approved Elective                 │ 0.0%  │ 0.0%  │ 0.0%  │ 0.0%  │\n",
      "│ 45  │ GRAD RATE                         │ 0.0%  │ 0.0%  │ 0.0%  │ 0.0%  │\n",
      "\n",
      "│ Row │ TERM5 │ TERM6 │ TERM7 │ TERM8 │ TERM9 │ TERM10 │ TERM11 │ TERM12 │\n",
      "├─────┼───────┼───────┼───────┼───────┼───────┼────────┼────────┼────────┤\n",
      "│ 1   │ 99.2% │ 99.2% │ 99.2% │ 99.2% │ 99.2% │ 99.2%  │ 99.2%  │ 99.2%  │\n",
      "│ 2   │ 99.0% │ 99.0% │ 99.0% │ 99.0% │ 99.0% │ 99.0%  │ 99.0%  │ 99.0%  │\n",
      "│ 3   │ 98.8% │ 98.8% │ 98.8% │ 98.8% │ 98.8% │ 98.8%  │ 98.8%  │ 98.8%  │\n",
      "│ 4   │ 99.5% │ 99.5% │ 99.5% │ 99.5% │ 99.5% │ 99.5%  │ 99.5%  │ 99.5%  │\n",
      "│ 5   │ 99.2% │ 99.2% │ 99.2% │ 99.2% │ 99.2% │ 99.2%  │ 99.2%  │ 99.2%  │\n",
      "│ 6   │ 98.5% │ 98.5% │ 98.5% │ 98.5% │ 98.5% │ 98.5%  │ 98.5%  │ 98.5%  │\n",
      "│ 7   │ 90.5% │ 90.5% │ 90.5% │ 90.5% │ 90.5% │ 90.5%  │ 90.5%  │ 90.5%  │\n",
      "│ 8   │ 90.2% │ 90.3% │ 90.3% │ 90.3% │ 90.3% │ 90.3%  │ 90.3%  │ 90.3%  │\n",
      "│ 9   │ 90.6% │ 90.6% │ 90.6% │ 90.6% │ 90.6% │ 90.6%  │ 90.6%  │ 90.6%  │\n",
      "│ 10  │ 91.2% │ 91.2% │ 91.2% │ 91.2% │ 91.2% │ 91.2%  │ 91.2%  │ 91.2%  │\n",
      "│ 11  │ 88.0% │ 88.0% │ 88.0% │ 88.0% │ 88.0% │ 88.0%  │ 88.0%  │ 88.0%  │\n",
      "│ 12  │ 79.7% │ 79.8% │ 79.8% │ 79.8% │ 79.8% │ 79.8%  │ 79.8%  │ 79.8%  │\n",
      "│ 13  │ 78.9% │ 79.1% │ 79.2% │ 79.2% │ 79.2% │ 79.2%  │ 79.2%  │ 79.2%  │\n",
      "│ 14  │ 79.0% │ 79.1% │ 79.2% │ 79.2% │ 79.2% │ 79.2%  │ 79.2%  │ 79.2%  │\n",
      "│ 15  │ 81.0% │ 81.1% │ 81.1% │ 81.1% │ 81.1% │ 81.1%  │ 81.1%  │ 81.1%  │\n",
      "│ 16  │ 79.3% │ 79.7% │ 79.7% │ 79.7% │ 79.7% │ 79.7%  │ 79.7%  │ 79.7%  │\n",
      "│ 17  │ 77.7% │ 78.4% │ 78.4% │ 78.4% │ 78.4% │ 78.4%  │ 78.4%  │ 78.4%  │\n",
      "│ 18  │ 75.8% │ 76.8% │ 77.0% │ 77.0% │ 77.0% │ 77.0%  │ 77.0%  │ 77.0%  │\n",
      "│ 19  │ 70.9% │ 75.4% │ 75.9% │ 75.9% │ 75.9% │ 75.9%  │ 75.9%  │ 75.9%  │\n",
      "│ 20  │ 74.8% │ 77.1% │ 77.1% │ 77.1% │ 77.1% │ 77.1%  │ 77.1%  │ 77.1%  │\n",
      "│ 21  │ 70.8% │ 75.0% │ 75.3% │ 75.3% │ 75.3% │ 75.3%  │ 75.3%  │ 75.3%  │\n",
      "│ 22  │ 68.1% │ 74.0% │ 74.3% │ 74.3% │ 74.3% │ 74.3%  │ 74.3%  │ 74.3%  │\n",
      "│ 23  │ 27.6% │ 59.5% │ 69.8% │ 71.7% │ 71.7% │ 71.7%  │ 71.7%  │ 71.7%  │\n",
      "│ 24  │ 71.2% │ 75.8% │ 76.5% │ 76.5% │ 76.5% │ 76.5%  │ 76.5%  │ 76.5%  │\n",
      "│ 25  │ 34.0% │ 63.6% │ 70.4% │ 71.4% │ 71.5% │ 71.5%  │ 71.5%  │ 71.5%  │\n",
      "│ 26  │ 36.1% │ 64.5% │ 71.1% │ 72.0% │ 72.1% │ 72.1%  │ 72.1%  │ 72.1%  │\n",
      "│ 27  │ 45.8% │ 69.5% │ 72.4% │ 72.6% │ 72.6% │ 72.6%  │ 72.6%  │ 72.6%  │\n",
      "│ 28  │ 26.2% │ 66.3% │ 71.3% │ 72.0% │ 72.0% │ 72.0%  │ 72.0%  │ 72.0%  │\n",
      "│ 29  │ 9.1%  │ 58.5% │ 69.8% │ 71.2% │ 71.4% │ 71.4%  │ 71.4%  │ 71.4%  │\n",
      "│ 30  │ 5.2%  │ 50.0% │ 69.0% │ 71.0% │ 71.1% │ 71.1%  │ 71.1%  │ 71.1%  │\n",
      "│ 31  │ 1.1%  │ 38.6% │ 67.8% │ 70.8% │ 71.1% │ 71.1%  │ 71.1%  │ 71.1%  │\n",
      "│ 32  │ 0.0%  │ 23.8% │ 64.4% │ 70.0% │ 70.7% │ 70.7%  │ 70.7%  │ 70.7%  │\n",
      "│ 33  │ 0.0%  │ 14.9% │ 62.4% │ 69.9% │ 70.6% │ 70.6%  │ 70.6%  │ 70.6%  │\n",
      "│ 34  │ 0.1%  │ 6.1%  │ 56.6% │ 69.1% │ 70.2% │ 70.2%  │ 70.2%  │ 70.2%  │\n",
      "│ 35  │ 0.1%  │ 1.2%  │ 47.4% │ 67.3% │ 69.7% │ 69.8%  │ 69.8%  │ 69.8%  │\n",
      "│ 36  │ 0.0%  │ 0.0%  │ 19.0% │ 57.9% │ 67.4% │ 69.6%  │ 69.7%  │ 69.7%  │\n",
      "│ 37  │ 0.0%  │ 0.6%  │ 36.4% │ 66.5% │ 69.2% │ 69.8%  │ 69.8%  │ 69.8%  │\n",
      "│ 38  │ 0.0%  │ 0.1%  │ 24.2% │ 64.0% │ 69.1% │ 69.6%  │ 69.6%  │ 69.6%  │\n",
      "│ 39  │ 0.0%  │ 0.0%  │ 8.6%  │ 58.0% │ 68.3% │ 69.3%  │ 69.4%  │ 69.4%  │\n",
      "│ 40  │ 0.0%  │ 0.0%  │ 3.0%  │ 51.5% │ 68.2% │ 69.2%  │ 69.3%  │ 69.3%  │\n",
      "│ 41  │ 0.0%  │ 0.0%  │ 0.0%  │ 16.4% │ 52.8% │ 65.4%  │ 68.7%  │ 69.0%  │\n",
      "│ 42  │ 0.0%  │ 0.0%  │ 0.0%  │ 41.6% │ 66.5% │ 69.1%  │ 69.4%  │ 69.4%  │\n",
      "│ 43  │ 0.0%  │ 0.0%  │ 0.0%  │ 28.8% │ 64.3% │ 68.4%  │ 69.3%  │ 69.3%  │\n",
      "│ 44  │ 0.0%  │ 0.0%  │ 0.0%  │ 16.9% │ 61.2% │ 68.3%  │ 69.1%  │ 69.2%  │\n",
      "│ 45  │ 0.0%  │ 0.0%  │ 0.0%  │ 6.1%  │ 42.5% │ 62.6%  │ 67.6%  │ 68.0%  │"
     ]
    }
   ],
   "source": [
    "real_passrate = false\n",
    "set_passrates(EE_degree_plan.curriculum.courses, 0.9)\n",
    "simulation = simulate(EE_degree_plan, course_attempt_limit, students,\n",
    "                      max_credits = max_credits,\n",
    "                      performance_model = performance_model,\n",
    "                      enrollment_model = enrollment_model,\n",
    "                      duration = num_terms,\n",
    "                      duration_lock = duration_lock,\n",
    "                      stopouts = stopouts);\n",
    "simulation_report(simulation, num_terms, course_passrate, max_credits, real_passrate)"
   ]
  },
  {
   "cell_type": "markdown",
   "metadata": {},
   "source": [
    "Next we will use a model to determine whether or not a student passes a course. We will use actual pass/fail rates computed using historical data for the courses in the degree plan shown above. "
   ]
  },
  {
   "cell_type": "code",
   "execution_count": 65,
   "metadata": {},
   "outputs": [],
   "source": [
    "course_passrate = 0.9  # use if a course is not contained in the CSV file\n",
    "real_passrate = true  # use the actual pass rates, rather than course_passrate for all courses\n",
    "set_passrates_from_csv(AE_degree_plan.curriculum.courses, \"./Student_Grades_sp17_to_fall19.csv\", course_passrate)"
   ]
  },
  {
   "cell_type": "markdown",
   "metadata": {},
   "source": [
    "Note: A more realistic model for predicting student performance could be used here. Specifically, a more realistic model might:\n",
    "\n",
    "- take student demographics into account, including the major they are in,\n",
    "- take prior grades into account when predicting future grades,\n",
    "- take into account factors that influence student stopout, e.g., academic standing, GPA, unment need, etc.\n",
    "\n",
    "Learning the model pararmeters using actual student data would improve the fidelity of the simulation."
   ]
  },
  {
   "cell_type": "code",
   "execution_count": 66,
   "metadata": {
    "scrolled": false
   },
   "outputs": [
    {
     "name": "stdout",
     "output_type": "stream",
     "text": [
      "\n",
      "\u001b[0m\u001b[1m------------ Simulation Report ------------\u001b[22m\n",
      "Aerospace Engineering, BS -- 2019-20 Degree Plan\n",
      "\n",
      "-------- Simulation Statistics --------\n",
      "Number of terms: 12\n",
      "Max Credits per Term: 18\n",
      "Max Course Attempts: 3\n",
      "Number of Students: 1000\n",
      "Preset Course Pass Rates: 90.0%\n",
      "\n",
      "-------- Graduation Statistics --------\n",
      "Number of Students Graduated: 587\n",
      "Graduation Rate: 58.699999999999996%\n",
      "Term Graduation Rates: \n",
      "[0.0, 0.0, 0.0, 0.0, 0.0, 0.0, 0.0, 0.012, 0.242, 0.49, 0.574, 0.587]\n",
      "Average time to degree: 9.771431213955612 terms\n",
      "\n",
      "-------- Stop out Statistics --------\n",
      "Number of Students Stopped Out (Stopout Model Prediction + Reached Max Attempts): 412\n",
      "Number of Students Reaching Max Attempts: 90\n",
      "Stop-out Rate: 41.2%\n",
      "Cumulative Term Stop-out Rates (including reached max course attempts students): \n",
      "[0.079, 0.199, 0.262, 0.345, 0.376, 0.393, 0.406, 0.406, 0.407, 0.408, 0.411, 0.412]\n",
      "\n",
      "Cumulative Term Stop-out Rates (excluding reaching max course attempts students): \n",
      "[0.079, 0.199, 0.241, 0.289, 0.306, 0.315, 0.322, 0.322, 0.322, 0.322, 0.322, 0.322]\n",
      "\n",
      "Cumulative Term Reached Max Course Attempts Rates: \n",
      "[0.0, 0.0, 0.021, 0.056, 0.07, 0.078, 0.084, 0.084, 0.085, 0.086, 0.089, 0.09]\n",
      "\n",
      "\n",
      "-------- Pass Rate of Each Course (computed from Student Grades CSV file) --------\n",
      "\n",
      "│ Row │ Courses                                         │ Pass_Rates │ Num_Students_Passes │ Num_Students_Taken │\n",
      "├─────┼─────────────────────────────────────────────────┼────────────┼─────────────────────┼────────────────────┤\n",
      "│ 1   │ MATH 125 Calculus I w/ Applications             │ 80.8%      │ 724                 │ 896                │\n",
      "│ 2   │ CHEM 151 Gen Chemistry I                        │ 76.1%      │ 3671                │ 4823               │\n",
      "│ 3   │ ENGL 101 First-year Comp.                       │ 88.9%      │ 8949                │ 10064              │\n",
      "│ 4   │ ENGR 102 Intro to Engineering                   │ 90.0%      │ N/A                 │ N/A                │\n",
      "│ 5   │ Tier I General Ed.                              │ 82.1%      │ 41165               │ 50147              │\n",
      "│ 6   │ MATH 129 Calculus II                            │ 74.7%      │ 2160                │ 2893               │\n",
      "│ 7   │ AME 105 Intro. to MATLAB I                      │ 88.9%      │ 547                 │ 615                │\n",
      "│ 8   │ PHYS 141 Intro Mechanics                        │ 74.4%      │ 1301                │ 1748               │\n",
      "│ 9   │ ENGL 102 First-year Comp.                       │ 86.3%      │ 6615                │ 7666               │\n",
      "│ 10  │ ECE 175 Programming for Eng. Apps.              │ 74.9%      │ 791                 │ 1056               │\n",
      "│ 11  │ Tier I General Ed. 1                            │ 82.1%      │ 41165               │ 50147              │\n",
      "│ 12  │ CE 214 Statics                                  │ 86.5%      │ 652                 │ 754                │\n",
      "│ 13  │ MATH  223 Vector Calculus                       │ 74.7%      │ 1621                │ 2169               │\n",
      "│ 14  │ PHYS 241 Electricity & Magnetism                │ 81.0%      │ 705                 │ 870                │\n",
      "│ 15  │ AME  205 Intro. To MATLAB II                    │ 90.2%      │ 634                 │ 703                │\n",
      "│ 16  │ AME 211 Comp. Aided Drafting & Manufacturing    │ 79.5%      │ 31                  │ 39                 │\n",
      "│ 17  │ Tier I General Ed. 2                            │ 82.1%      │ 41165               │ 50147              │\n",
      "│ 18  │ AME 230 Thermodynamics                          │ 88.4%      │ 382                 │ 432                │\n",
      "│ 19  │ AME 250 Dynamics                                │ 86.8%      │ 348                 │ 401                │\n",
      "│ 20  │ MATH 254 Intro. to ODEs                         │ 81.1%      │ 843                 │ 1040               │\n",
      "│ 21  │ AME 220 Intro. to Aerospace Eng.                │ 88.0%      │ 103                 │ 117                │\n",
      "│ 22  │ Tier I General Ed. 3                            │ 82.1%      │ 41165               │ 50147              │\n",
      "│ 23  │ AME 320 Aerodynamics                            │ 94.4%      │ 134                 │ 142                │\n",
      "│ 24  │ AME  324A Mech. Behavior of Eng. Materials.     │ 92.1%      │ 304                 │ 330                │\n",
      "│ 25  │ AME 301 Engineering Analysis                    │ 89.5%      │ 392                 │ 438                │\n",
      "│ 26  │ AME 300 Instrumentation Lab.                    │ 98.4%      │ 302                 │ 307                │\n",
      "│ 27  │ MSE 331R Fund. of Materials for Engineers       │ 97.3%      │ 253                 │ 260                │\n",
      "│ 28  │ AME 324L Mech. of Materials Lab.                │ 92.2%      │ 317                 │ 344                │\n",
      "│ 29  │ AME 324B Eng. Component Design                  │ 93.1%      │ 244                 │ 262                │\n",
      "│ 30  │ AME 321 Aircraft Performance                    │ 90.0%      │ 54                  │ 60                 │\n",
      "│ 31  │ AME 323 Gasdynamics                             │ 92.0%      │ 69                  │ 75                 │\n",
      "│ 32  │ AME 302 Numerical Methods                       │ 94.9%      │ 242                 │ 255                │\n",
      "│ 33  │ AME 313 Aero./Mech. Eng. Lab                    │ 99.1%      │ 552                 │ 557                │\n",
      "│ 34  │ Tier II General Ed. 1                           │ 82.1%      │ 41165               │ 50147              │\n",
      "│ 35  │ AME 401 Senior Aerospace Lab.                   │ 100.0%     │ 103                 │ 103                │\n",
      "│ 36  │ AME 420 Aerospace Conceptual Design             │ 98.3%      │ 57                  │ 58                 │\n",
      "│ 37  │ AME 425 Aerospace Propulsion                    │ 97.0%      │ 64                  │ 66                 │\n",
      "│ 38  │ AME 427 Stability and Control of Aero. Vehicles │ 94.0%      │ 47                  │ 50                 │\n",
      "│ 39  │ AME 457 Orbital Mechanicans and Space Flt.      │ 98.6%      │ 69                  │ 70                 │\n",
      "│ 40  │ AME 495S Senior Colloquium                      │ 100.0%     │ 128                 │ 128                │\n",
      "│ 41  │ AME 422 Aerospace Eng.Design                    │ 100.0%     │ 34                  │ 34                 │\n",
      "│ 42  │ AME 431 Num. Meth. in Fluid Mech. & Heat Xfer   │ 90.9%      │ 10                  │ 11                 │\n",
      "│ 43  │ Technical Elective 1                            │ 90.0%      │ N/A                 │ N/A                │\n",
      "│ 44  │ Technical Elective 2                            │ 90.0%      │ N/A                 │ N/A                │\n",
      "│ 45  │ Tier II General Ed. 2                           │ 82.1%      │ 41165               │ 50147              │\n",
      "\n",
      "-------- Course Pass Rates by Term --------\n",
      "\n",
      "│ Row │ COUSE                                   │ TERM1 │ TERM2 │ TERM3 │\n",
      "├─────┼─────────────────────────────────────────┼───────┼───────┼───────┤\n",
      "│ 1   │ Calculus I w/ Applications              │ 80.1% │ 95.4% │ 97.3% │\n",
      "│ 2   │ Gen Chemistry I                         │ 75.6% │ 92.8% │ 95.8% │\n",
      "│ 3   │ First-year Comp.                        │ 89.7% │ 98.0% │ 98.7% │\n",
      "│ 4   │ Intro to Engineering                    │ 92.4% │ 99.1% │ 99.6% │\n",
      "│ 5   │ Tier I General Ed.                      │ 84.8% │ 96.1% │ 97.8% │\n",
      "│ 6   │ Calculus II                             │ 0.0%  │ 54.4% │ 77.4% │\n",
      "│ 7   │ Intro. to MATLAB I                      │ 0.0%  │ 64.3% │ 83.3% │\n",
      "│ 8   │ Intro Mechanics                         │ 0.0%  │ 53.3% │ 76.2% │\n",
      "│ 9   │ First-year Comp.                        │ 0.0%  │ 72.2% │ 86.3% │\n",
      "│ 10  │ Programming for Eng. Apps.              │ 0.0%  │ 66.4% │ 83.2% │\n",
      "│ 11  │ Tier I General Ed. 1                    │ 0.0%  │ 48.0% │ 77.6% │\n",
      "│ 12  │ Statics                                 │ 0.0%  │ 0.0%  │ 29.7% │\n",
      "│ 13  │ Vector Calculus                         │ 0.0%  │ 0.0%  │ 36.8% │\n",
      "│ 14  │ Electricity & Magnetism                 │ 0.0%  │ 0.0%  │ 24.5% │\n",
      "│ 15  │ Intro. To MATLAB II                     │ 0.0%  │ 0.0%  │ 49.6% │\n",
      "│ 16  │ Comp. Aided Drafting & Manufacturing    │ 0.0%  │ 12.3% │ 56.7% │\n",
      "│ 17  │ Tier I General Ed. 2                    │ 0.0%  │ 8.5%  │ 42.1% │\n",
      "│ 18  │ Thermodynamics                          │ 0.0%  │ 0.0%  │ 8.6%  │\n",
      "│ 19  │ Dynamics                                │ 0.0%  │ 0.0%  │ 0.0%  │\n",
      "│ 20  │ Intro. to ODEs                          │ 0.0%  │ 0.0%  │ 0.0%  │\n",
      "│ 21  │ Intro. to Aerospace Eng.                │ 0.0%  │ 0.0%  │ 0.0%  │\n",
      "│ 22  │ Tier I General Ed. 3                    │ 0.0%  │ 0.0%  │ 18.8% │\n",
      "│ 23  │ Aerodynamics                            │ 0.0%  │ 0.0%  │ 0.0%  │\n",
      "│ 24  │ Mech. Behavior of Eng. Materials.       │ 0.0%  │ 0.0%  │ 0.0%  │\n",
      "│ 25  │ Engineering Analysis                    │ 0.0%  │ 0.0%  │ 0.0%  │\n",
      "│ 26  │ Instrumentation Lab.                    │ 0.0%  │ 0.0%  │ 3.7%  │\n",
      "│ 27  │ Fund. of Materials for Engineers        │ 0.0%  │ 0.0%  │ 1.1%  │\n",
      "│ 28  │ Mech. of Materials Lab.                 │ 92.8% │ 96.5% │ 97.3% │\n",
      "│ 29  │ Eng. Component Design                   │ 0.0%  │ 0.0%  │ 0.0%  │\n",
      "│ 30  │ Aircraft Performance                    │ 0.0%  │ 0.0%  │ 0.0%  │\n",
      "│ 31  │ Gasdynamics                             │ 0.0%  │ 0.0%  │ 0.0%  │\n",
      "│ 32  │ Numerical Methods                       │ 0.0%  │ 0.0%  │ 0.0%  │\n",
      "│ 33  │ Aero./Mech. Eng. Lab                    │ 99.3% │ 99.6% │ 99.7% │\n",
      "│ 34  │ Tier II General Ed. 1                   │ 0.0%  │ 0.0%  │ 0.4%  │\n",
      "│ 35  │ Senior Aerospace Lab.                   │ 0.0%  │ 0.0%  │ 0.0%  │\n",
      "│ 36  │ Aerospace Conceptual Design             │ 0.0%  │ 0.0%  │ 0.0%  │\n",
      "│ 37  │ Aerospace Propulsion                    │ 0.0%  │ 0.0%  │ 0.0%  │\n",
      "│ 38  │ Stability and Control of Aero. Vehicles │ 0.0%  │ 0.0%  │ 0.0%  │\n",
      "│ 39  │ Orbital Mechanicans and Space Flt.      │ 0.0%  │ 0.0%  │ 0.0%  │\n",
      "│ 40  │ Senior Colloquium                       │ 0.0%  │ 55.0% │ 70.8% │\n",
      "│ 41  │ Aerospace Eng.Design                    │ 0.0%  │ 0.0%  │ 0.0%  │\n",
      "│ 42  │ Num. Meth. in Fluid Mech. & Heat Xfer   │ 0.0%  │ 0.0%  │ 0.0%  │\n",
      "│ 43  │ Technical Elective 1                    │ 0.0%  │ 0.0%  │ 0.0%  │\n",
      "│ 44  │ Technical Elective 2                    │ 0.0%  │ 0.0%  │ 0.0%  │\n",
      "│ 45  │ Tier II General Ed. 2                   │ 0.0%  │ 0.0%  │ 0.0%  │\n",
      "│ 46  │ GRAD RATE                               │ 0.0%  │ 0.0%  │ 0.0%  │\n",
      "\n",
      "│ Row │ TERM4 │ TERM5 │ TERM6 │ TERM7 │ TERM8 │ TERM9 │ TERM10 │ TERM11 │\n",
      "├─────┼───────┼───────┼───────┼───────┼───────┼───────┼────────┼────────┤\n",
      "│ 1   │ 97.3% │ 97.3% │ 97.3% │ 97.3% │ 97.3% │ 97.3% │ 97.3%  │ 97.3%  │\n",
      "│ 2   │ 95.8% │ 95.8% │ 95.8% │ 95.8% │ 95.8% │ 95.8% │ 95.8%  │ 95.8%  │\n",
      "│ 3   │ 98.7% │ 98.7% │ 98.7% │ 98.7% │ 98.7% │ 98.7% │ 98.7%  │ 98.7%  │\n",
      "│ 4   │ 99.6% │ 99.6% │ 99.6% │ 99.6% │ 99.6% │ 99.6% │ 99.6%  │ 99.6%  │\n",
      "│ 5   │ 97.8% │ 97.8% │ 97.8% │ 97.8% │ 97.8% │ 97.8% │ 97.8%  │ 97.8%  │\n",
      "│ 6   │ 84.3% │ 84.7% │ 84.8% │ 84.8% │ 84.8% │ 84.8% │ 84.8%  │ 84.8%  │\n",
      "│ 7   │ 87.6% │ 87.7% │ 87.7% │ 87.7% │ 87.7% │ 87.7% │ 87.7%  │ 87.7%  │\n",
      "│ 8   │ 83.4% │ 84.1% │ 84.1% │ 84.1% │ 84.1% │ 84.1% │ 84.1%  │ 84.1%  │\n",
      "│ 9   │ 88.3% │ 88.4% │ 88.4% │ 88.4% │ 88.4% │ 88.4% │ 88.4%  │ 88.4%  │\n",
      "│ 10  │ 87.0% │ 87.3% │ 87.3% │ 87.3% │ 87.3% │ 87.3% │ 87.3%  │ 87.3%  │\n",
      "│ 11  │ 83.1% │ 84.0% │ 84.0% │ 84.0% │ 84.0% │ 84.0% │ 84.0%  │ 84.0%  │\n",
      "│ 12  │ 55.7% │ 69.0% │ 71.6% │ 72.1% │ 72.1% │ 72.1% │ 72.1%  │ 72.1%  │\n",
      "│ 13  │ 60.7% │ 71.3% │ 73.0% │ 73.8% │ 73.8% │ 73.8% │ 73.8%  │ 73.8%  │\n",
      "│ 14  │ 52.6% │ 67.4% │ 70.6% │ 71.3% │ 71.4% │ 71.4% │ 71.4%  │ 71.4%  │\n",
      "│ 15  │ 71.2% │ 75.9% │ 76.6% │ 76.6% │ 76.6% │ 76.6% │ 76.6%  │ 76.6%  │\n",
      "│ 16  │ 74.6% │ 77.2% │ 77.8% │ 77.8% │ 77.8% │ 77.8% │ 77.8%  │ 77.8%  │\n",
      "│ 17  │ 70.7% │ 75.4% │ 76.3% │ 76.3% │ 76.3% │ 76.3% │ 76.3%  │ 76.3%  │\n",
      "│ 18  │ 55.1% │ 69.0% │ 70.6% │ 70.9% │ 70.9% │ 70.9% │ 70.9%  │ 70.9%  │\n",
      "│ 19  │ 19.8% │ 45.2% │ 59.8% │ 64.3% │ 65.2% │ 65.3% │ 65.3%  │ 65.3%  │\n",
      "│ 20  │ 16.2% │ 45.7% │ 59.5% │ 63.0% │ 64.3% │ 64.3% │ 64.4%  │ 64.4%  │\n",
      "│ 21  │ 7.1%  │ 41.9% │ 59.5% │ 62.6% │ 63.7% │ 63.7% │ 63.7%  │ 63.7%  │\n",
      "│ 22  │ 33.9% │ 59.8% │ 67.2% │ 69.1% │ 69.4% │ 69.4% │ 69.4%  │ 69.4%  │\n",
      "│ 23  │ 0.0%  │ 6.0%  │ 39.0% │ 56.2% │ 60.0% │ 61.2% │ 61.3%  │ 61.3%  │\n"
     ]
    },
    {
     "name": "stdout",
     "output_type": "stream",
     "text": [
      "│ 24  │ 0.0%  │ 27.2% │ 57.3% │ 63.0% │ 63.6% │ 63.8% │ 63.8%  │ 63.8%  │\n",
      "│ 25  │ 0.0%  │ 11.1% │ 38.8% │ 54.6% │ 58.9% │ 60.5% │ 60.9%  │ 61.0%  │\n",
      "│ 26  │ 14.2% │ 28.1% │ 61.2% │ 65.8% │ 65.9% │ 65.9% │ 65.9%  │ 65.9%  │\n",
      "│ 27  │ 9.2%  │ 14.9% │ 50.3% │ 64.1% │ 64.7% │ 64.8% │ 64.8%  │ 64.8%  │\n",
      "│ 28  │ 98.2% │ 98.2% │ 98.5% │ 98.5% │ 98.5% │ 98.5% │ 98.5%  │ 98.5%  │\n",
      "│ 29  │ 0.0%  │ 0.0%  │ 9.8%  │ 36.3% │ 51.9% │ 57.4% │ 59.2%  │ 59.6%  │\n",
      "│ 30  │ 0.0%  │ 0.0%  │ 16.6% │ 47.7% │ 57.5% │ 60.1% │ 60.5%  │ 60.5%  │\n",
      "│ 31  │ 0.0%  │ 0.0%  │ 8.9%  │ 46.8% │ 56.8% │ 59.7% │ 60.0%  │ 60.1%  │\n",
      "│ 32  │ 0.0%  │ 0.0%  │ 4.7%  │ 40.9% │ 57.1% │ 59.5% │ 59.8%  │ 59.9%  │\n",
      "│ 33  │ 99.8% │ 99.8% │ 99.8% │ 99.8% │ 99.8% │ 99.8% │ 99.8%  │ 99.8%  │\n",
      "│ 34  │ 3.3%  │ 6.6%  │ 14.7% │ 38.3% │ 57.0% │ 61.3% │ 61.7%  │ 61.7%  │\n",
      "│ 35  │ 0.0%  │ 0.0%  │ 0.0%  │ 8.3%  │ 45.1% │ 56.0% │ 58.9%  │ 59.3%  │\n",
      "│ 36  │ 0.0%  │ 0.0%  │ 0.0%  │ 6.2%  │ 39.1% │ 54.1% │ 58.4%  │ 59.3%  │\n",
      "│ 37  │ 0.0%  │ 0.0%  │ 0.0%  │ 6.5%  │ 43.0% │ 55.3% │ 58.6%  │ 59.3%  │\n",
      "│ 38  │ 0.0%  │ 0.0%  │ 0.0%  │ 11.5% │ 40.6% │ 55.4% │ 58.7%  │ 59.4%  │\n",
      "│ 39  │ 0.0%  │ 0.0%  │ 2.3%  │ 14.3% │ 45.7% │ 58.6% │ 59.8%  │ 60.0%  │\n",
      "│ 40  │ 79.8% │ 80.4% │ 80.7% │ 81.0% │ 82.5% │ 83.7% │ 83.7%  │ 83.7%  │\n",
      "│ 41  │ 0.0%  │ 0.0%  │ 0.0%  │ 0.0%  │ 6.2%  │ 39.1% │ 54.0%  │ 58.3%  │\n",
      "│ 42  │ 0.0%  │ 0.0%  │ 0.0%  │ 1.4%  │ 25.3% │ 53.3% │ 58.6%  │ 59.2%  │\n",
      "│ 43  │ 2.1%  │ 5.5%  │ 8.7%  │ 13.3% │ 28.7% │ 56.4% │ 60.8%  │ 61.2%  │\n",
      "│ 44  │ 0.6%  │ 2.6%  │ 4.8%  │ 8.7%  │ 17.2% │ 49.6% │ 58.8%  │ 59.9%  │\n",
      "│ 45  │ 0.1%  │ 1.0%  │ 2.4%  │ 4.4%  │ 9.9%  │ 40.9% │ 56.3%  │ 59.2%  │\n",
      "│ 46  │ 0.0%  │ 0.0%  │ 0.0%  │ 0.0%  │ 1.2%  │ 24.2% │ 49.0%  │ 57.4%  │\n",
      "\n",
      "│ Row │ TERM12 │\n",
      "├─────┼────────┤\n",
      "│ 1   │ 97.3%  │\n",
      "│ 2   │ 95.8%  │\n",
      "│ 3   │ 98.7%  │\n",
      "│ 4   │ 99.6%  │\n",
      "│ 5   │ 97.8%  │\n",
      "│ 6   │ 84.8%  │\n",
      "│ 7   │ 87.7%  │\n",
      "│ 8   │ 84.1%  │\n",
      "│ 9   │ 88.4%  │\n",
      "│ 10  │ 87.3%  │\n",
      "│ 11  │ 84.0%  │\n",
      "│ 12  │ 72.1%  │\n",
      "│ 13  │ 73.8%  │\n",
      "│ 14  │ 71.4%  │\n",
      "│ 15  │ 76.6%  │\n",
      "│ 16  │ 77.8%  │\n",
      "│ 17  │ 76.3%  │\n",
      "│ 18  │ 70.9%  │\n",
      "│ 19  │ 65.3%  │\n",
      "│ 20  │ 64.4%  │\n",
      "│ 21  │ 63.7%  │\n",
      "│ 22  │ 69.4%  │\n",
      "│ 23  │ 61.3%  │\n",
      "│ 24  │ 63.8%  │\n",
      "│ 25  │ 61.0%  │\n",
      "│ 26  │ 65.9%  │\n",
      "│ 27  │ 64.8%  │\n",
      "│ 28  │ 98.5%  │\n",
      "│ 29  │ 59.8%  │\n",
      "│ 30  │ 60.5%  │\n",
      "│ 31  │ 60.1%  │\n",
      "│ 32  │ 59.9%  │\n",
      "│ 33  │ 99.8%  │\n",
      "│ 34  │ 61.7%  │\n",
      "│ 35  │ 59.4%  │\n",
      "│ 36  │ 59.4%  │\n",
      "│ 37  │ 59.4%  │\n",
      "│ 38  │ 59.5%  │\n",
      "│ 39  │ 60.0%  │\n",
      "│ 40  │ 83.7%  │\n",
      "│ 41  │ 59.2%  │\n",
      "│ 42  │ 59.4%  │\n",
      "│ 43  │ 61.2%  │\n",
      "│ 44  │ 59.9%  │\n",
      "│ 45  │ 59.3%  │\n",
      "│ 46  │ 58.7%  │"
     ]
    }
   ],
   "source": [
    "simulation = simulate(AE_degree_plan, course_attempt_limit, students,\n",
    "                      max_credits = max_credits,\n",
    "                      performance_model = performance_model,\n",
    "                      enrollment_model = enrollment_model,\n",
    "                      duration = num_terms,\n",
    "                      duration_lock = duration_lock,\n",
    "                      stopouts = stopouts);\n",
    "simulation_report(simulation, num_terms, course_passrate, max_credits, real_passrate)"
   ]
  },
  {
   "cell_type": "markdown",
   "metadata": {},
   "source": [
    "Now, let's see what happens if we use the actual course pass rates in the computer science program."
   ]
  },
  {
   "cell_type": "code",
   "execution_count": 67,
   "metadata": {
    "scrolled": false
   },
   "outputs": [
    {
     "name": "stdout",
     "output_type": "stream",
     "text": [
      "\n",
      "\u001b[0m\u001b[1m------------ Simulation Report ------------\u001b[22m\n",
      "Computer Science, BS -- 2019-20 Degree Plan\n",
      "\n",
      "-------- Simulation Statistics --------\n",
      "Number of terms: 12\n",
      "Max Credits per Term: 18\n",
      "Max Course Attempts: 3\n",
      "Number of Students: 1000\n",
      "Preset Course Pass Rates: 90.0%\n",
      "\n",
      "-------- Graduation Statistics --------\n",
      "Number of Students Graduated: 571\n",
      "Graduation Rate: 57.099999999999994%\n",
      "Term Graduation Rates: \n",
      "[0.0, 0.0, 0.0, 0.0, 0.0, 0.0, 0.0, 0.124, 0.444, 0.554, 0.57, 0.571]\n",
      "Average time to degree: 9.03677758318739 terms\n",
      "\n",
      "-------- Stop out Statistics --------\n",
      "Number of Students Stopped Out (Stopout Model Prediction + Reached Max Attempts): 429\n",
      "Number of Students Reaching Max Attempts: 149\n",
      "Stop-out Rate: 42.9%\n",
      "Cumulative Term Stop-out Rates (including reached max course attempts students): \n",
      "[0.076, 0.19, 0.279, 0.339, 0.367, 0.395, 0.413, 0.419, 0.422, 0.428, 0.429, 0.429]\n",
      "\n",
      "Cumulative Term Stop-out Rates (excluding reaching max course attempts students): \n",
      "[0.076, 0.19, 0.21, 0.256, 0.269, 0.277, 0.28, 0.28, 0.28, 0.28, 0.28, 0.28]\n",
      "\n",
      "Cumulative Term Reached Max Course Attempts Rates: \n",
      "[0.0, 0.0, 0.069, 0.083, 0.098, 0.118, 0.133, 0.139, 0.142, 0.148, 0.149, 0.149]\n",
      "\n",
      "\n",
      "-------- Pass Rate of Each Course (computed from Student Grades CSV file) --------\n",
      "\n",
      "│ Row │ Courses                                  │ Pass_Rates │ Num_Students_Passes │ Num_Students_Taken │\n",
      "├─────┼──────────────────────────────────────────┼────────────┼─────────────────────┼────────────────────┤\n",
      "│ 1   │ CSC 110 Intro to Computer Programming I  │ 63.3%      │ 925                 │ 1461               │\n",
      "│ 2   │ MATH 120R Pre-Calculus                   │ 72.1%      │ 2246                │ 3117               │\n",
      "│ 3   │ ENGL 101 English Composition I           │ 88.9%      │ 8949                │ 10064              │\n",
      "│ 4   │ 1st Semester Second Language             │ 90.0%      │ N/A                 │ N/A                │\n",
      "│ 5   │ CSC 120 Intro to Computer Programming II │ 72.4%      │ 603                 │ 833                │\n",
      "│ 6   │ MATH 122A/B Calculus I                   │ 90.0%      │ N/A                 │ N/A                │\n",
      "│ 7   │ ENGL 102 English Composition II          │ 86.3%      │ 6615                │ 7666               │\n",
      "│ 8   │ 2nd Semester Second Language             │ 90.0%      │ N/A                 │ N/A                │\n",
      "│ 9   │ CSC 210 Software Development             │ 76.7%      │ 355                 │ 463                │\n",
      "│ 10  │ CSC 245 Intro to Discrete Structures     │ 80.4%      │ 369                 │ 459                │\n",
      "│ 11  │ MATH 129 Calculus II                     │ 74.7%      │ 2160                │ 2893               │\n",
      "│ 12  │ Tier 1 General Education 1               │ 90.0%      │ N/A                 │ N/A                │\n",
      "│ 13  │ Tier 1 General Education 2               │ 90.0%      │ N/A                 │ N/A                │\n",
      "│ 14  │ CSC 252 Computer Organization            │ 81.8%      │ 251                 │ 307                │\n",
      "│ 15  │ CSC 352 Systems Programming & Unix       │ 67.2%      │ 289                 │ 430                │\n",
      "│ 16  │ Supporting Science #1                    │ 90.0%      │ N/A                 │ N/A                │\n",
      "│ 17  │ Tier 1 General Education 3               │ 90.0%      │ N/A                 │ N/A                │\n",
      "│ 18  │ Tier 1 General Education 4               │ 90.0%      │ N/A                 │ N/A                │\n",
      "│ 19  │ CSC 335 Object-Oriented Programming      │ 91.4%      │ 278                 │ 304                │\n",
      "│ 20  │ CSC 345 Analysis of Discrete Structures  │ 79.2%      │ 316                 │ 399                │\n",
      "│ 21  │ Supporting Science #2                    │ 90.0%      │ N/A                 │ N/A                │\n",
      "│ 22  │ Tier 2 Gen Ed/Upper-Division 1           │ 90.0%      │ N/A                 │ N/A                │\n",
      "│ 23  │ Upper-Division Elective                  │ 90.0%      │ N/A                 │ N/A                │\n",
      "│ 24  │ CSC Paradigms Elective                   │ 90.0%      │ N/A                 │ N/A                │\n",
      "│ 25  │ CSC 400-Level Elective 1                 │ 90.0%      │ N/A                 │ N/A                │\n",
      "│ 26  │ Tier 2 Gen Ed/Upper-Division 2           │ 90.0%      │ N/A                 │ N/A                │\n",
      "│ 27  │ Tier 2 Gen Ed/Upper-Division 3           │ 90.0%      │ N/A                 │ N/A                │\n",
      "│ 28  │ Elective 1                               │ 90.0%      │ N/A                 │ N/A                │\n",
      "│ 29  │ CSC Theory & Writing Elective            │ 90.0%      │ N/A                 │ N/A                │\n",
      "│ 30  │ CSC 400-Level Elective 2                 │ 90.0%      │ N/A                 │ N/A                │\n",
      "│ 31  │ Elective 2                               │ 90.0%      │ N/A                 │ N/A                │\n",
      "│ 32  │ Elective 3                               │ 90.0%      │ N/A                 │ N/A                │\n",
      "│ 33  │ Elective 4                               │ 90.0%      │ N/A                 │ N/A                │\n",
      "│ 34  │ CSC Systems Elective                     │ 90.0%      │ N/A                 │ N/A                │\n",
      "│ 35  │ CSC 300/400-Level Elective               │ 90.0%      │ N/A                 │ N/A                │\n",
      "│ 36  │ Upper-Division Elective 1                │ 90.0%      │ N/A                 │ N/A                │\n",
      "│ 37  │ Upper-Division Elective 2                │ 90.0%      │ N/A                 │ N/A                │\n",
      "\n",
      "-------- Course Pass Rates by Term --------\n",
      "\n",
      "│ Row │ COUSE                            │ TERM1 │ TERM2 │ TERM3 │ TERM4 │\n",
      "├─────┼──────────────────────────────────┼───────┼───────┼───────┼───────┤\n",
      "│ 1   │ Intro to Computer Programming I  │ 63.3% │ 82.8% │ 90.8% │ 90.8% │\n",
      "│ 2   │ Pre-Calculus                     │ 72.1% │ 91.0% │ 95.6% │ 95.6% │\n",
      "│ 3   │ English Composition I            │ 86.4% │ 97.4% │ 98.5% │ 98.5% │\n",
      "│ 4   │ 1st Semester Second Language     │ 0.0%  │ 83.3% │ 90.9% │ 91.6% │\n",
      "│ 5   │ Intro to Computer Programming II │ 0.0%  │ 42.8% │ 64.3% │ 76.4% │\n",
      "│ 6   │ Calculus I                       │ 0.0%  │ 60.8% │ 80.1% │ 85.6% │\n",
      "│ 7   │ English Composition II           │ 0.0%  │ 69.9% │ 86.4% │ 89.1% │\n",
      "│ 8   │ 2nd Semester Second Language     │ 0.0%  │ 0.0%  │ 66.1% │ 77.1% │\n",
      "│ 9   │ Software Development             │ 0.0%  │ 0.0%  │ 29.1% │ 50.2% │\n",
      "│ 10  │ Intro to Discrete Structures     │ 0.0%  │ 0.0%  │ 26.5% │ 52.4% │\n",
      "│ 11  │ Calculus II                      │ 0.0%  │ 0.0%  │ 39.2% │ 62.9% │\n",
      "│ 12  │ Tier 1 General Education 1       │ 90.4% │ 90.8% │ 95.9% │ 97.9% │\n",
      "│ 13  │ Tier 1 General Education 2       │ 0.0%  │ 2.8%  │ 52.7% │ 77.1% │\n",
      "│ 14  │ Computer Organization            │ 0.0%  │ 0.0%  │ 0.0%  │ 22.2% │\n",
      "│ 15  │ Systems Programming & Unix       │ 0.0%  │ 0.0%  │ 0.0%  │ 17.6% │\n",
      "│ 16  │ Supporting Science #1            │ 0.0%  │ 0.0%  │ 17.3% │ 61.8% │\n",
      "│ 17  │ Tier 1 General Education 3       │ 0.0%  │ 0.0%  │ 2.9%  │ 49.3% │\n",
      "│ 18  │ Tier 1 General Education 4       │ 0.0%  │ 0.0%  │ 0.0%  │ 29.1% │\n",
      "│ 19  │ Object-Oriented Programming      │ 0.0%  │ 0.0%  │ 0.0%  │ 0.0%  │\n",
      "│ 20  │ Analysis of Discrete Structures  │ 0.0%  │ 0.0%  │ 0.0%  │ 0.0%  │\n",
      "│ 21  │ Supporting Science #2            │ 0.0%  │ 0.0%  │ 0.0%  │ 12.3% │\n",
      "│ 22  │ Tier 2 Gen Ed/Upper-Division 1   │ 0.0%  │ 0.0%  │ 0.0%  │ 2.2%  │\n",
      "│ 23  │ Upper-Division Elective          │ 0.0%  │ 0.0%  │ 0.0%  │ 0.0%  │\n",
      "│ 24  │ CSC Paradigms Elective           │ 0.0%  │ 0.0%  │ 0.0%  │ 0.0%  │\n",
      "│ 25  │ CSC 400-Level Elective 1         │ 0.0%  │ 0.0%  │ 0.0%  │ 0.0%  │\n",
      "│ 26  │ Tier 2 Gen Ed/Upper-Division 2   │ 0.0%  │ 0.0%  │ 0.0%  │ 0.0%  │\n",
      "│ 27  │ Tier 2 Gen Ed/Upper-Division 3   │ 0.0%  │ 0.0%  │ 0.0%  │ 0.0%  │\n",
      "│ 28  │ Elective 1                       │ 0.0%  │ 0.0%  │ 0.0%  │ 0.0%  │\n",
      "│ 29  │ CSC Theory & Writing Elective    │ 0.0%  │ 0.0%  │ 0.0%  │ 0.0%  │\n",
      "│ 30  │ CSC 400-Level Elective 2         │ 0.0%  │ 0.0%  │ 0.0%  │ 0.0%  │\n",
      "│ 31  │ Elective 2                       │ 0.0%  │ 0.0%  │ 0.0%  │ 0.0%  │\n",
      "│ 32  │ Elective 3                       │ 0.0%  │ 0.0%  │ 0.0%  │ 0.0%  │\n",
      "│ 33  │ Elective 4                       │ 0.0%  │ 0.0%  │ 0.0%  │ 0.0%  │\n",
      "│ 34  │ CSC Systems Elective             │ 0.0%  │ 0.0%  │ 0.0%  │ 0.0%  │\n",
      "│ 35  │ CSC 300/400-Level Elective       │ 0.0%  │ 0.0%  │ 0.0%  │ 0.0%  │\n",
      "│ 36  │ Upper-Division Elective 1        │ 0.0%  │ 0.0%  │ 0.0%  │ 0.0%  │\n",
      "│ 37  │ Upper-Division Elective 2        │ 0.0%  │ 0.0%  │ 0.0%  │ 0.0%  │\n",
      "│ 38  │ GRAD RATE                        │ 0.0%  │ 0.0%  │ 0.0%  │ 0.0%  │\n",
      "\n",
      "│ Row │ TERM5 │ TERM6 │ TERM7 │ TERM8 │ TERM9 │ TERM10 │ TERM11 │ TERM12 │\n",
      "├─────┼───────┼───────┼───────┼───────┼───────┼────────┼────────┼────────┤\n",
      "│ 1   │ 90.8% │ 90.8% │ 90.8% │ 90.8% │ 90.8% │ 90.8%  │ 90.8%  │ 90.8%  │\n",
      "│ 2   │ 95.6% │ 95.6% │ 95.6% │ 95.6% │ 95.6% │ 95.6%  │ 95.6%  │ 95.6%  │\n",
      "│ 3   │ 98.5% │ 98.5% │ 98.5% │ 98.5% │ 98.5% │ 98.5%  │ 98.5%  │ 98.5%  │\n",
      "│ 4   │ 91.6% │ 91.6% │ 91.6% │ 91.6% │ 91.6% │ 91.6%  │ 91.6%  │ 91.6%  │\n",
      "│ 5   │ 78.5% │ 78.8% │ 78.8% │ 78.8% │ 78.8% │ 78.8%  │ 78.8%  │ 78.8%  │\n",
      "│ 6   │ 86.2% │ 86.2% │ 86.2% │ 86.2% │ 86.2% │ 86.2%  │ 86.2%  │ 86.2%  │\n",
      "│ 7   │ 89.2% │ 89.2% │ 89.2% │ 89.2% │ 89.2% │ 89.2%  │ 89.2%  │ 89.2%  │\n",
      "│ 8   │ 79.0% │ 79.1% │ 79.1% │ 79.1% │ 79.1% │ 79.1%  │ 79.1%  │ 79.1%  │\n",
      "│ 9   │ 63.5% │ 67.9% │ 68.9% │ 69.1% │ 69.1% │ 69.1%  │ 69.1%  │ 69.1%  │\n",
      "│ 10  │ 64.3% │ 68.6% │ 69.7% │ 69.7% │ 69.7% │ 69.7%  │ 69.7%  │ 69.7%  │\n",
      "│ 11  │ 70.5% │ 72.4% │ 72.8% │ 72.8% │ 72.8% │ 72.8%  │ 72.8%  │ 72.8%  │\n",
      "│ 12  │ 98.1% │ 98.1% │ 98.1% │ 98.1% │ 98.1% │ 98.1%  │ 98.1%  │ 98.1%  │\n",
      "│ 13  │ 78.9% │ 78.9% │ 78.9% │ 78.9% │ 78.9% │ 78.9%  │ 78.9%  │ 78.9%  │\n",
      "│ 14  │ 42.6% │ 56.7% │ 63.5% │ 65.2% │ 65.7% │ 65.7%  │ 65.7%  │ 65.7%  │\n",
      "│ 15  │ 37.7% │ 53.0% │ 60.3% │ 62.2% │ 62.5% │ 62.5%  │ 62.5%  │ 62.5%  │\n",
      "│ 16  │ 72.8% │ 73.6% │ 73.6% │ 73.6% │ 73.6% │ 73.6%  │ 73.6%  │ 73.6%  │\n",
      "│ 17  │ 69.3% │ 70.6% │ 70.8% │ 70.8% │ 70.8% │ 70.8%  │ 70.8%  │ 70.8%  │\n",
      "│ 18  │ 62.2% │ 67.5% │ 68.0% │ 68.0% │ 68.0% │ 68.0%  │ 68.0%  │ 68.0%  │\n",
      "│ 19  │ 38.0% │ 56.9% │ 62.0% │ 63.5% │ 63.7% │ 63.7%  │ 63.7%  │ 63.7%  │\n",
      "│ 20  │ 27.7% │ 48.9% │ 58.1% │ 61.9% │ 62.6% │ 62.6%  │ 62.6%  │ 62.6%  │\n",
      "│ 21  │ 38.0% │ 61.6% │ 64.4% │ 64.9% │ 64.9% │ 64.9%  │ 64.9%  │ 64.9%  │\n",
      "│ 22  │ 35.4% │ 60.4% │ 64.2% │ 64.3% │ 64.3% │ 64.3%  │ 64.3%  │ 64.3%  │\n",
      "│ 23  │ 17.3% │ 54.4% │ 62.0% │ 63.4% │ 63.4% │ 63.4%  │ 63.4%  │ 63.4%  │\n",
      "│ 24  │ 7.5%  │ 47.7% │ 61.3% │ 62.7% │ 62.8% │ 62.8%  │ 62.8%  │ 62.8%  │\n",
      "│ 25  │ 2.5%  │ 38.5% │ 59.0% │ 61.6% │ 61.9% │ 61.9%  │ 61.9%  │ 61.9%  │\n",
      "│ 26  │ 0.1%  │ 26.9% │ 57.5% │ 61.2% │ 61.3% │ 61.4%  │ 61.4%  │ 61.4%  │\n",
      "│ 27  │ 0.0%  │ 16.2% │ 54.5% │ 60.4% │ 60.7% │ 60.7%  │ 60.7%  │ 60.7%  │\n",
      "│ 28  │ 0.0%  │ 7.1%  │ 47.6% │ 58.7% │ 60.1% │ 60.1%  │ 60.1%  │ 60.1%  │\n",
      "│ 29  │ 0.0%  │ 2.1%  │ 41.7% │ 57.7% │ 59.4% │ 59.7%  │ 59.7%  │ 59.7%  │\n",
      "│ 30  │ 0.0%  │ 0.1%  │ 34.6% │ 57.2% │ 59.0% │ 59.3%  │ 59.3%  │ 59.3%  │\n",
      "│ 31  │ 0.0%  │ 0.0%  │ 25.4% │ 53.7% │ 58.3% │ 58.7%  │ 58.7%  │ 58.7%  │\n",
      "│ 32  │ 0.0%  │ 0.0%  │ 16.2% │ 51.4% │ 57.7% │ 58.7%  │ 58.7%  │ 58.7%  │\n",
      "│ 33  │ 0.0%  │ 0.0%  │ 8.3%  │ 45.9% │ 57.1% │ 58.1%  │ 58.3%  │ 58.3%  │\n",
      "│ 34  │ 0.0%  │ 0.0%  │ 3.1%  │ 43.2% │ 56.2% │ 58.1%  │ 58.3%  │ 58.3%  │\n",
      "│ 35  │ 0.0%  │ 0.0%  │ 1.0%  │ 36.5% │ 56.2% │ 58.2%  │ 58.2%  │ 58.2%  │\n",
      "│ 36  │ 0.0%  │ 0.0%  │ 0.0%  │ 27.1% │ 53.8% │ 57.3%  │ 58.0%  │ 58.0%  │\n",
      "│ 37  │ 0.0%  │ 0.0%  │ 0.0%  │ 18.8% │ 52.0% │ 57.5%  │ 58.0%  │ 58.1%  │\n",
      "│ 38  │ 0.0%  │ 0.0%  │ 0.0%  │ 12.4% │ 44.4% │ 55.4%  │ 57.0%  │ 57.1%  │"
     ]
    }
   ],
   "source": [
    "set_passrates_from_csv(CS_degree_plan.curriculum.courses, \"./Student_Grades_sp17_to_fall19.csv\", course_passrate)\n",
    "simulation = simulate(CS_degree_plan, course_attempt_limit, students,\n",
    "                      max_credits = max_credits,\n",
    "                      performance_model = performance_model,\n",
    "                      enrollment_model = enrollment_model,\n",
    "                      duration = num_terms,\n",
    "                      duration_lock = duration_lock,\n",
    "                      stopouts = stopouts);\n",
    "simulation_report(simulation, num_terms, course_passrate, max_credits, real_passrate)"
   ]
  },
  {
   "cell_type": "markdown",
   "metadata": {},
   "source": [
    "## 3. What-if Analyses\n",
    "\n",
    "These simulation capabilities allow us to conduct what-if analyses around the impact that changes to curricular structure or instructional improvements will have on student success.  First, let's consider how changing the number of allowed attempts (from 2 to 3) would impact graduation rates in both of these programs."
   ]
  },
  {
   "cell_type": "code",
   "execution_count": 68,
   "metadata": {
    "scrolled": false
   },
   "outputs": [
    {
     "name": "stdout",
     "output_type": "stream",
     "text": [
      "\n",
      "\u001b[0m\u001b[1m------------ Simulation Report ------------\u001b[22m\n",
      "Aerospace Engineering, BS -- 2019-20 Degree Plan\n",
      "\n",
      "-------- Simulation Statistics --------\n",
      "Number of terms: 12\n",
      "Max Credits per Term: 18\n",
      "Max Course Attempts: 3\n",
      "Number of Students: 1000\n",
      "Preset Course Pass Rates: 90.0%\n",
      "\n",
      "-------- Graduation Statistics --------\n",
      "Number of Students Graduated: 571\n",
      "Graduation Rate: 57.099999999999994%\n",
      "Term Graduation Rates: \n",
      "[0.0, 0.0, 0.0, 0.0, 0.0, 0.0, 0.0, 0.014, 0.241, 0.475, 0.556, 0.571]\n",
      "Average time to degree: 9.747810858143607 terms\n",
      "\n",
      "-------- Stop out Statistics --------\n",
      "Number of Students Stopped Out (Stopout Model Prediction + Reached Max Attempts): 427\n",
      "Number of Students Reaching Max Attempts: 118\n",
      "Stop-out Rate: 42.7%\n",
      "Cumulative Term Stop-out Rates (including reached max course attempts students): \n",
      "[0.088, 0.201, 0.258, 0.332, 0.378, 0.398, 0.413, 0.418, 0.419, 0.421, 0.425, 0.427]\n",
      "\n",
      "Cumulative Term Stop-out Rates (excluding reaching max course attempts students): \n",
      "[0.088, 0.201, 0.234, 0.276, 0.297, 0.303, 0.309, 0.309, 0.309, 0.309, 0.309, 0.309]\n",
      "\n",
      "Cumulative Term Reached Max Course Attempts Rates: \n",
      "[0.0, 0.0, 0.024, 0.056, 0.081, 0.095, 0.104, 0.109, 0.11, 0.112, 0.116, 0.118]\n",
      "\n",
      "\n",
      "-------- Pass Rate of Each Course (computed from Student Grades CSV file) --------\n",
      "\n",
      "│ Row │ Courses                                         │ Pass_Rates │ Num_Students_Passes │ Num_Students_Taken │\n",
      "├─────┼─────────────────────────────────────────────────┼────────────┼─────────────────────┼────────────────────┤\n",
      "│ 1   │ MATH 125 Calculus I w/ Applications             │ 80.8%      │ 724                 │ 896                │\n",
      "│ 2   │ CHEM 151 Gen Chemistry I                        │ 76.1%      │ 3671                │ 4823               │\n",
      "│ 3   │ ENGL 101 First-year Comp.                       │ 88.9%      │ 8949                │ 10064              │\n",
      "│ 4   │ ENGR 102 Intro to Engineering                   │ 90.0%      │ N/A                 │ N/A                │\n",
      "│ 5   │ Tier I General Ed.                              │ 82.1%      │ 41165               │ 50147              │\n",
      "│ 6   │ MATH 129 Calculus II                            │ 74.7%      │ 2160                │ 2893               │\n",
      "│ 7   │ AME 105 Intro. to MATLAB I                      │ 88.9%      │ 547                 │ 615                │\n",
      "│ 8   │ PHYS 141 Intro Mechanics                        │ 74.4%      │ 1301                │ 1748               │\n",
      "│ 9   │ ENGL 102 First-year Comp.                       │ 86.3%      │ 6615                │ 7666               │\n",
      "│ 10  │ ECE 175 Programming for Eng. Apps.              │ 74.9%      │ 791                 │ 1056               │\n",
      "│ 11  │ Tier I General Ed. 1                            │ 82.1%      │ 41165               │ 50147              │\n",
      "│ 12  │ CE 214 Statics                                  │ 86.5%      │ 652                 │ 754                │\n",
      "│ 13  │ MATH  223 Vector Calculus                       │ 74.7%      │ 1621                │ 2169               │\n",
      "│ 14  │ PHYS 241 Electricity & Magnetism                │ 81.0%      │ 705                 │ 870                │\n",
      "│ 15  │ AME  205 Intro. To MATLAB II                    │ 90.2%      │ 634                 │ 703                │\n",
      "│ 16  │ AME 211 Comp. Aided Drafting & Manufacturing    │ 79.5%      │ 31                  │ 39                 │\n",
      "│ 17  │ Tier I General Ed. 2                            │ 82.1%      │ 41165               │ 50147              │\n",
      "│ 18  │ AME 230 Thermodynamics                          │ 88.4%      │ 382                 │ 432                │\n",
      "│ 19  │ AME 250 Dynamics                                │ 86.8%      │ 348                 │ 401                │\n",
      "│ 20  │ MATH 254 Intro. to ODEs                         │ 81.1%      │ 843                 │ 1040               │\n",
      "│ 21  │ AME 220 Intro. to Aerospace Eng.                │ 88.0%      │ 103                 │ 117                │\n",
      "│ 22  │ Tier I General Ed. 3                            │ 82.1%      │ 41165               │ 50147              │\n",
      "│ 23  │ AME 320 Aerodynamics                            │ 94.4%      │ 134                 │ 142                │\n",
      "│ 24  │ AME  324A Mech. Behavior of Eng. Materials.     │ 92.1%      │ 304                 │ 330                │\n",
      "│ 25  │ AME 301 Engineering Analysis                    │ 89.5%      │ 392                 │ 438                │\n",
      "│ 26  │ AME 300 Instrumentation Lab.                    │ 98.4%      │ 302                 │ 307                │\n",
      "│ 27  │ MSE 331R Fund. of Materials for Engineers       │ 97.3%      │ 253                 │ 260                │\n",
      "│ 28  │ AME 324L Mech. of Materials Lab.                │ 92.2%      │ 317                 │ 344                │\n",
      "│ 29  │ AME 324B Eng. Component Design                  │ 93.1%      │ 244                 │ 262                │\n",
      "│ 30  │ AME 321 Aircraft Performance                    │ 90.0%      │ 54                  │ 60                 │\n",
      "│ 31  │ AME 323 Gasdynamics                             │ 92.0%      │ 69                  │ 75                 │\n",
      "│ 32  │ AME 302 Numerical Methods                       │ 94.9%      │ 242                 │ 255                │\n",
      "│ 33  │ AME 313 Aero./Mech. Eng. Lab                    │ 99.1%      │ 552                 │ 557                │\n",
      "│ 34  │ Tier II General Ed. 1                           │ 82.1%      │ 41165               │ 50147              │\n",
      "│ 35  │ AME 401 Senior Aerospace Lab.                   │ 100.0%     │ 103                 │ 103                │\n",
      "│ 36  │ AME 420 Aerospace Conceptual Design             │ 98.3%      │ 57                  │ 58                 │\n",
      "│ 37  │ AME 425 Aerospace Propulsion                    │ 97.0%      │ 64                  │ 66                 │\n",
      "│ 38  │ AME 427 Stability and Control of Aero. Vehicles │ 94.0%      │ 47                  │ 50                 │\n",
      "│ 39  │ AME 457 Orbital Mechanicans and Space Flt.      │ 98.6%      │ 69                  │ 70                 │\n",
      "│ 40  │ AME 495S Senior Colloquium                      │ 100.0%     │ 128                 │ 128                │\n",
      "│ 41  │ AME 422 Aerospace Eng.Design                    │ 100.0%     │ 34                  │ 34                 │\n",
      "│ 42  │ AME 431 Num. Meth. in Fluid Mech. & Heat Xfer   │ 90.9%      │ 10                  │ 11                 │\n",
      "│ 43  │ Technical Elective 1                            │ 90.0%      │ N/A                 │ N/A                │\n",
      "│ 44  │ Technical Elective 2                            │ 90.0%      │ N/A                 │ N/A                │\n",
      "│ 45  │ Tier II General Ed. 2                           │ 82.1%      │ 41165               │ 50147              │\n",
      "\n",
      "-------- Course Pass Rates by Term --------\n",
      "\n",
      "│ Row │ COUSE                                   │ TERM1 │ TERM2 │ TERM3  │\n",
      "├─────┼─────────────────────────────────────────┼───────┼───────┼────────┤\n",
      "│ 1   │ Calculus I w/ Applications              │ 79.7% │ 94.3% │ 97.0%  │\n",
      "│ 2   │ Gen Chemistry I                         │ 77.6% │ 93.0% │ 96.4%  │\n",
      "│ 3   │ First-year Comp.                        │ 88.0% │ 97.9% │ 98.4%  │\n",
      "│ 4   │ Intro to Engineering                    │ 89.1% │ 98.2% │ 98.9%  │\n",
      "│ 5   │ Tier I General Ed.                      │ 83.1% │ 95.4% │ 97.7%  │\n",
      "│ 6   │ Calculus II                             │ 0.0%  │ 53.0% │ 74.3%  │\n",
      "│ 7   │ Intro. to MATLAB I                      │ 0.0%  │ 65.2% │ 82.0%  │\n",
      "│ 8   │ Intro Mechanics                         │ 0.0%  │ 54.4% │ 76.5%  │\n",
      "│ 9   │ First-year Comp.                        │ 0.0%  │ 70.8% │ 85.5%  │\n",
      "│ 10  │ Programming for Eng. Apps.              │ 0.0%  │ 65.2% │ 83.3%  │\n",
      "│ 11  │ Tier I General Ed. 1                    │ 0.0%  │ 49.3% │ 79.7%  │\n",
      "│ 12  │ Statics                                 │ 0.0%  │ 0.0%  │ 29.9%  │\n",
      "│ 13  │ Vector Calculus                         │ 0.0%  │ 0.0%  │ 35.2%  │\n",
      "│ 14  │ Electricity & Magnetism                 │ 0.0%  │ 0.0%  │ 26.1%  │\n",
      "│ 15  │ Intro. To MATLAB II                     │ 0.0%  │ 0.0%  │ 50.5%  │\n",
      "│ 16  │ Comp. Aided Drafting & Manufacturing    │ 0.0%  │ 11.3% │ 55.9%  │\n",
      "│ 17  │ Tier I General Ed. 2                    │ 0.0%  │ 8.6%  │ 42.4%  │\n",
      "│ 18  │ Thermodynamics                          │ 0.0%  │ 0.0%  │ 8.0%   │\n",
      "│ 19  │ Dynamics                                │ 0.0%  │ 0.0%  │ 0.0%   │\n",
      "│ 20  │ Intro. to ODEs                          │ 0.0%  │ 0.0%  │ 0.0%   │\n",
      "│ 21  │ Intro. to Aerospace Eng.                │ 0.0%  │ 0.0%  │ 0.0%   │\n",
      "│ 22  │ Tier I General Ed. 3                    │ 0.0%  │ 0.0%  │ 16.2%  │\n",
      "│ 23  │ Aerodynamics                            │ 0.0%  │ 0.0%  │ 0.0%   │\n",
      "│ 24  │ Mech. Behavior of Eng. Materials.       │ 0.0%  │ 0.0%  │ 0.0%   │\n",
      "│ 25  │ Engineering Analysis                    │ 0.0%  │ 0.0%  │ 0.0%   │\n",
      "│ 26  │ Instrumentation Lab.                    │ 0.0%  │ 0.0%  │ 4.7%   │\n",
      "│ 27  │ Fund. of Materials for Engineers        │ 0.0%  │ 0.0%  │ 1.8%   │\n",
      "│ 28  │ Mech. of Materials Lab.                 │ 93.0% │ 96.7% │ 97.6%  │\n",
      "│ 29  │ Eng. Component Design                   │ 0.0%  │ 0.0%  │ 0.0%   │\n",
      "│ 30  │ Aircraft Performance                    │ 0.0%  │ 0.0%  │ 0.0%   │\n",
      "│ 31  │ Gasdynamics                             │ 0.0%  │ 0.0%  │ 0.0%   │\n",
      "│ 32  │ Numerical Methods                       │ 0.0%  │ 0.0%  │ 0.0%   │\n",
      "│ 33  │ Aero./Mech. Eng. Lab                    │ 99.8% │ 99.8% │ 100.0% │\n",
      "│ 34  │ Tier II General Ed. 1                   │ 0.0%  │ 0.0%  │ 0.5%   │\n",
      "│ 35  │ Senior Aerospace Lab.                   │ 0.0%  │ 0.0%  │ 0.0%   │\n",
      "│ 36  │ Aerospace Conceptual Design             │ 0.0%  │ 0.0%  │ 0.0%   │\n",
      "│ 37  │ Aerospace Propulsion                    │ 0.0%  │ 0.0%  │ 0.0%   │\n",
      "│ 38  │ Stability and Control of Aero. Vehicles │ 0.0%  │ 0.0%  │ 0.0%   │\n",
      "│ 39  │ Orbital Mechanicans and Space Flt.      │ 0.0%  │ 0.0%  │ 0.0%   │\n",
      "│ 40  │ Senior Colloquium                       │ 0.0%  │ 57.1% │ 72.2%  │\n",
      "│ 41  │ Aerospace Eng.Design                    │ 0.0%  │ 0.0%  │ 0.0%   │\n",
      "│ 42  │ Num. Meth. in Fluid Mech. & Heat Xfer   │ 0.0%  │ 0.0%  │ 0.0%   │\n",
      "│ 43  │ Technical Elective 1                    │ 0.0%  │ 0.0%  │ 0.0%   │\n",
      "│ 44  │ Technical Elective 2                    │ 0.0%  │ 0.0%  │ 0.0%   │\n",
      "│ 45  │ Tier II General Ed. 2                   │ 0.0%  │ 0.0%  │ 0.0%   │\n",
      "│ 46  │ GRAD RATE                               │ 0.0%  │ 0.0%  │ 0.0%   │\n",
      "\n",
      "│ Row │ TERM4  │ TERM5  │ TERM6  │ TERM7  │ TERM8  │ TERM9  │ TERM10 │ TERM11 │\n",
      "├─────┼────────┼────────┼────────┼────────┼────────┼────────┼────────┼────────┤\n",
      "│ 1   │ 97.0%  │ 97.0%  │ 97.0%  │ 97.0%  │ 97.0%  │ 97.0%  │ 97.0%  │ 97.0%  │\n",
      "│ 2   │ 96.4%  │ 96.4%  │ 96.4%  │ 96.4%  │ 96.4%  │ 96.4%  │ 96.4%  │ 96.4%  │\n",
      "│ 3   │ 98.4%  │ 98.4%  │ 98.4%  │ 98.4%  │ 98.4%  │ 98.4%  │ 98.4%  │ 98.4%  │\n",
      "│ 4   │ 98.9%  │ 98.9%  │ 98.9%  │ 98.9%  │ 98.9%  │ 98.9%  │ 98.9%  │ 98.9%  │\n",
      "│ 5   │ 97.7%  │ 97.7%  │ 97.7%  │ 97.7%  │ 97.7%  │ 97.7%  │ 97.7%  │ 97.7%  │\n",
      "│ 6   │ 81.7%  │ 83.3%  │ 83.3%  │ 83.3%  │ 83.3%  │ 83.3%  │ 83.3%  │ 83.3%  │\n",
      "│ 7   │ 87.2%  │ 87.4%  │ 87.4%  │ 87.4%  │ 87.4%  │ 87.4%  │ 87.4%  │ 87.4%  │\n",
      "│ 8   │ 84.2%  │ 84.7%  │ 84.8%  │ 84.8%  │ 84.8%  │ 84.8%  │ 84.8%  │ 84.8%  │\n",
      "│ 9   │ 88.3%  │ 88.3%  │ 88.3%  │ 88.3%  │ 88.3%  │ 88.3%  │ 88.3%  │ 88.3%  │\n",
      "│ 10  │ 86.6%  │ 86.7%  │ 86.7%  │ 86.7%  │ 86.7%  │ 86.7%  │ 86.7%  │ 86.7%  │\n",
      "│ 11  │ 83.7%  │ 84.5%  │ 84.5%  │ 84.5%  │ 84.5%  │ 84.5%  │ 84.5%  │ 84.5%  │\n",
      "│ 12  │ 55.8%  │ 68.4%  │ 71.4%  │ 72.0%  │ 72.1%  │ 72.1%  │ 72.1%  │ 72.1%  │\n",
      "│ 13  │ 58.5%  │ 69.2%  │ 72.9%  │ 73.3%  │ 73.3%  │ 73.3%  │ 73.3%  │ 73.3%  │\n",
      "│ 14  │ 52.9%  │ 66.9%  │ 70.8%  │ 71.5%  │ 71.5%  │ 71.5%  │ 71.5%  │ 71.5%  │\n",
      "│ 15  │ 68.9%  │ 75.5%  │ 76.4%  │ 76.4%  │ 76.4%  │ 76.4%  │ 76.4%  │ 76.4%  │\n",
      "│ 16  │ 73.7%  │ 77.5%  │ 78.3%  │ 78.3%  │ 78.3%  │ 78.3%  │ 78.3%  │ 78.3%  │\n",
      "│ 17  │ 72.0%  │ 77.0%  │ 77.5%  │ 77.5%  │ 77.5%  │ 77.5%  │ 77.5%  │ 77.5%  │\n",
      "│ 18  │ 55.8%  │ 69.7%  │ 71.3%  │ 71.6%  │ 71.6%  │ 71.6%  │ 71.6%  │ 71.6%  │\n",
      "│ 19  │ 20.7%  │ 47.0%  │ 60.8%  │ 65.1%  │ 66.0%  │ 66.2%  │ 66.2%  │ 66.2%  │\n",
      "│ 20  │ 16.0%  │ 44.0%  │ 57.5%  │ 63.3%  │ 64.3%  │ 64.6%  │ 64.6%  │ 64.6%  │\n",
      "│ 21  │ 7.7%   │ 42.2%  │ 58.5%  │ 63.2%  │ 63.8%  │ 63.8%  │ 63.8%  │ 63.8%  │\n"
     ]
    },
    {
     "name": "stdout",
     "output_type": "stream",
     "text": [
      "│ 22  │ 34.7%  │ 61.5%  │ 68.0%  │ 69.0%  │ 69.2%  │ 69.2%  │ 69.2%  │ 69.2%  │\n",
      "│ 23  │ 0.0%   │ 6.2%   │ 38.3%  │ 55.1%  │ 60.4%  │ 61.3%  │ 61.3%  │ 61.3%  │\n",
      "│ 24  │ 0.0%   │ 27.3%  │ 54.4%  │ 61.6%  │ 62.6%  │ 62.8%  │ 62.8%  │ 62.8%  │\n",
      "│ 25  │ 0.0%   │ 10.5%  │ 36.1%  │ 52.4%  │ 58.6%  │ 60.3%  │ 60.7%  │ 60.7%  │\n",
      "│ 26  │ 13.5%  │ 30.5%  │ 61.4%  │ 65.3%  │ 65.4%  │ 65.4%  │ 65.4%  │ 65.4%  │\n",
      "│ 27  │ 9.2%   │ 15.0%  │ 51.0%  │ 63.2%  │ 63.8%  │ 63.8%  │ 63.8%  │ 63.8%  │\n",
      "│ 28  │ 98.6%  │ 98.6%  │ 98.8%  │ 98.8%  │ 98.8%  │ 98.8%  │ 98.8%  │ 98.8%  │\n",
      "│ 29  │ 0.0%   │ 0.0%   │ 9.1%   │ 32.5%  │ 50.5%  │ 56.4%  │ 58.6%  │ 59.3%  │\n",
      "│ 30  │ 0.0%   │ 0.0%   │ 17.8%  │ 47.7%  │ 57.1%  │ 59.2%  │ 59.8%  │ 59.8%  │\n",
      "│ 31  │ 0.0%   │ 0.0%   │ 9.8%   │ 44.9%  │ 57.5%  │ 58.9%  │ 59.5%  │ 59.6%  │\n",
      "│ 32  │ 0.0%   │ 0.0%   │ 4.8%   │ 40.0%  │ 56.1%  │ 58.3%  │ 59.3%  │ 59.3%  │\n",
      "│ 33  │ 100.0% │ 100.0% │ 100.0% │ 100.0% │ 100.0% │ 100.0% │ 100.0% │ 100.0% │\n",
      "│ 34  │ 3.3%   │ 8.5%   │ 15.5%  │ 40.3%  │ 57.1%  │ 60.7%  │ 61.2%  │ 61.2%  │\n",
      "│ 35  │ 0.0%   │ 0.0%   │ 0.0%   │ 9.5%   │ 43.7%  │ 56.7%  │ 58.2%  │ 58.8%  │\n",
      "│ 36  │ 0.0%   │ 0.0%   │ 0.0%   │ 7.4%   │ 39.1%  │ 54.2%  │ 57.4%  │ 58.4%  │\n",
      "│ 37  │ 0.0%   │ 0.0%   │ 0.0%   │ 6.2%   │ 41.3%  │ 56.3%  │ 58.2%  │ 58.8%  │\n",
      "│ 38  │ 0.0%   │ 0.0%   │ 0.0%   │ 12.2%  │ 40.1%  │ 54.0%  │ 57.8%  │ 58.6%  │\n",
      "│ 39  │ 0.0%   │ 0.0%   │ 3.3%   │ 14.7%  │ 45.2%  │ 57.6%  │ 59.0%  │ 59.0%  │\n",
      "│ 40  │ 80.9%  │ 81.3%  │ 81.6%  │ 82.1%  │ 83.8%  │ 84.2%  │ 84.2%  │ 84.2%  │\n",
      "│ 41  │ 0.0%   │ 0.0%   │ 0.0%   │ 0.0%   │ 7.2%   │ 38.7%  │ 53.7%  │ 56.7%  │\n",
      "│ 42  │ 0.0%   │ 0.0%   │ 0.0%   │ 1.5%   │ 24.6%  │ 50.6%  │ 56.7%  │ 58.3%  │\n",
      "│ 43  │ 2.5%   │ 5.1%   │ 9.5%   │ 14.0%  │ 29.6%  │ 54.0%  │ 59.4%  │ 59.8%  │\n",
      "│ 44  │ 0.8%   │ 3.3%   │ 6.1%   │ 9.5%   │ 19.6%  │ 50.1%  │ 58.6%  │ 59.2%  │\n",
      "│ 45  │ 0.2%   │ 1.9%   │ 3.6%   │ 5.5%   │ 10.1%  │ 40.7%  │ 54.0%  │ 58.0%  │\n",
      "│ 46  │ 0.0%   │ 0.0%   │ 0.0%   │ 0.0%   │ 1.4%   │ 24.1%  │ 47.5%  │ 55.6%  │\n",
      "\n",
      "│ Row │ TERM12 │\n",
      "├─────┼────────┤\n",
      "│ 1   │ 97.0%  │\n",
      "│ 2   │ 96.4%  │\n",
      "│ 3   │ 98.4%  │\n",
      "│ 4   │ 98.9%  │\n",
      "│ 5   │ 97.7%  │\n",
      "│ 6   │ 83.3%  │\n",
      "│ 7   │ 87.4%  │\n",
      "│ 8   │ 84.8%  │\n",
      "│ 9   │ 88.3%  │\n",
      "│ 10  │ 86.7%  │\n",
      "│ 11  │ 84.5%  │\n",
      "│ 12  │ 72.1%  │\n",
      "│ 13  │ 73.3%  │\n",
      "│ 14  │ 71.5%  │\n",
      "│ 15  │ 76.4%  │\n",
      "│ 16  │ 78.3%  │\n",
      "│ 17  │ 77.5%  │\n",
      "│ 18  │ 71.6%  │\n",
      "│ 19  │ 66.2%  │\n",
      "│ 20  │ 64.6%  │\n",
      "│ 21  │ 63.8%  │\n",
      "│ 22  │ 69.2%  │\n",
      "│ 23  │ 61.3%  │\n",
      "│ 24  │ 62.8%  │\n",
      "│ 25  │ 60.7%  │\n",
      "│ 26  │ 65.4%  │\n",
      "│ 27  │ 63.8%  │\n",
      "│ 28  │ 98.8%  │\n",
      "│ 29  │ 59.4%  │\n",
      "│ 30  │ 59.8%  │\n",
      "│ 31  │ 59.6%  │\n",
      "│ 32  │ 59.3%  │\n",
      "│ 33  │ 100.0% │\n",
      "│ 34  │ 61.2%  │\n",
      "│ 35  │ 58.9%  │\n",
      "│ 36  │ 58.6%  │\n",
      "│ 37  │ 58.9%  │\n",
      "│ 38  │ 58.6%  │\n",
      "│ 39  │ 59.0%  │\n",
      "│ 40  │ 84.2%  │\n",
      "│ 41  │ 57.7%  │\n",
      "│ 42  │ 58.4%  │\n",
      "│ 43  │ 59.8%  │\n",
      "│ 44  │ 59.3%  │\n",
      "│ 45  │ 58.4%  │\n",
      "│ 46  │ 57.1%  │"
     ]
    }
   ],
   "source": [
    "course_attempt_limit = 3\n",
    "simulation = simulate(AE_degree_plan, course_attempt_limit, students,\n",
    "                      max_credits = max_credits,\n",
    "                      performance_model = performance_model,\n",
    "                      enrollment_model = enrollment_model,\n",
    "                      duration = num_terms,\n",
    "                      duration_lock = duration_lock,\n",
    "                      stopouts = stopouts);\n",
    "simulation_report(simulation, num_terms, course_passrate, max_credits, real_passrate)"
   ]
  },
  {
   "cell_type": "code",
   "execution_count": 69,
   "metadata": {
    "scrolled": false
   },
   "outputs": [
    {
     "name": "stdout",
     "output_type": "stream",
     "text": [
      "\n",
      "\u001b[0m\u001b[1m------------ Simulation Report ------------\u001b[22m\n",
      "Computer Science, BS -- 2019-20 Degree Plan\n",
      "\n",
      "-------- Simulation Statistics --------\n",
      "Number of terms: 12\n",
      "Max Credits per Term: 18\n",
      "Max Course Attempts: 3\n",
      "Number of Students: 1000\n",
      "Preset Course Pass Rates: 90.0%\n",
      "\n",
      "-------- Graduation Statistics --------\n",
      "Number of Students Graduated: 541\n",
      "Graduation Rate: 54.1%\n",
      "Term Graduation Rates: \n",
      "[0.0, 0.0, 0.0, 0.0, 0.0, 0.0, 0.0, 0.125, 0.44, 0.532, 0.541, 0.0]\n",
      "Average time to degree: 8.972273567467653 terms\n",
      "\n",
      "-------- Stop out Statistics --------\n",
      "Number of Students Stopped Out (Stopout Model Prediction + Reached Max Attempts): 459\n",
      "Number of Students Reaching Max Attempts: 149\n",
      "Stop-out Rate: 45.9%\n",
      "Cumulative Term Stop-out Rates (including reached max course attempts students): \n",
      "[0.087, 0.21, 0.29, 0.352, 0.395, 0.423, 0.444, 0.453, 0.456, 0.459, 0.459, 0.0]\n",
      "\n",
      "Cumulative Term Stop-out Rates (excluding reaching max course attempts students): \n",
      "[0.087, 0.21, 0.23, 0.275, 0.298, 0.307, 0.31, 0.31, 0.31, 0.31, 0.31, 0.0]\n",
      "\n",
      "Cumulative Term Reached Max Course Attempts Rates: \n",
      "[0.0, 0.0, 0.06, 0.077, 0.097, 0.116, 0.134, 0.143, 0.146, 0.149, 0.149, 0.0]\n",
      "\n",
      "\n",
      "-------- Pass Rate of Each Course (computed from Student Grades CSV file) --------\n",
      "\n",
      "│ Row │ Courses                                  │ Pass_Rates │ Num_Students_Passes │ Num_Students_Taken │\n",
      "├─────┼──────────────────────────────────────────┼────────────┼─────────────────────┼────────────────────┤\n",
      "│ 1   │ CSC 110 Intro to Computer Programming I  │ 63.3%      │ 925                 │ 1461               │\n",
      "│ 2   │ MATH 120R Pre-Calculus                   │ 72.1%      │ 2246                │ 3117               │\n",
      "│ 3   │ ENGL 101 English Composition I           │ 88.9%      │ 8949                │ 10064              │\n",
      "│ 4   │ 1st Semester Second Language             │ 90.0%      │ N/A                 │ N/A                │\n",
      "│ 5   │ CSC 120 Intro to Computer Programming II │ 72.4%      │ 603                 │ 833                │\n",
      "│ 6   │ MATH 122A/B Calculus I                   │ 90.0%      │ N/A                 │ N/A                │\n",
      "│ 7   │ ENGL 102 English Composition II          │ 86.3%      │ 6615                │ 7666               │\n",
      "│ 8   │ 2nd Semester Second Language             │ 90.0%      │ N/A                 │ N/A                │\n",
      "│ 9   │ CSC 210 Software Development             │ 76.7%      │ 355                 │ 463                │\n",
      "│ 10  │ CSC 245 Intro to Discrete Structures     │ 80.4%      │ 369                 │ 459                │\n",
      "│ 11  │ MATH 129 Calculus II                     │ 74.7%      │ 2160                │ 2893               │\n",
      "│ 12  │ Tier 1 General Education 1               │ 90.0%      │ N/A                 │ N/A                │\n",
      "│ 13  │ Tier 1 General Education 2               │ 90.0%      │ N/A                 │ N/A                │\n",
      "│ 14  │ CSC 252 Computer Organization            │ 81.8%      │ 251                 │ 307                │\n",
      "│ 15  │ CSC 352 Systems Programming & Unix       │ 67.2%      │ 289                 │ 430                │\n",
      "│ 16  │ Supporting Science #1                    │ 90.0%      │ N/A                 │ N/A                │\n",
      "│ 17  │ Tier 1 General Education 3               │ 90.0%      │ N/A                 │ N/A                │\n",
      "│ 18  │ Tier 1 General Education 4               │ 90.0%      │ N/A                 │ N/A                │\n",
      "│ 19  │ CSC 335 Object-Oriented Programming      │ 91.4%      │ 278                 │ 304                │\n",
      "│ 20  │ CSC 345 Analysis of Discrete Structures  │ 79.2%      │ 316                 │ 399                │\n",
      "│ 21  │ Supporting Science #2                    │ 90.0%      │ N/A                 │ N/A                │\n",
      "│ 22  │ Tier 2 Gen Ed/Upper-Division 1           │ 90.0%      │ N/A                 │ N/A                │\n",
      "│ 23  │ Upper-Division Elective                  │ 90.0%      │ N/A                 │ N/A                │\n",
      "│ 24  │ CSC Paradigms Elective                   │ 90.0%      │ N/A                 │ N/A                │\n",
      "│ 25  │ CSC 400-Level Elective 1                 │ 90.0%      │ N/A                 │ N/A                │\n",
      "│ 26  │ Tier 2 Gen Ed/Upper-Division 2           │ 90.0%      │ N/A                 │ N/A                │\n",
      "│ 27  │ Tier 2 Gen Ed/Upper-Division 3           │ 90.0%      │ N/A                 │ N/A                │\n",
      "│ 28  │ Elective 1                               │ 90.0%      │ N/A                 │ N/A                │\n",
      "│ 29  │ CSC Theory & Writing Elective            │ 90.0%      │ N/A                 │ N/A                │\n",
      "│ 30  │ CSC 400-Level Elective 2                 │ 90.0%      │ N/A                 │ N/A                │\n",
      "│ 31  │ Elective 2                               │ 90.0%      │ N/A                 │ N/A                │\n",
      "│ 32  │ Elective 3                               │ 90.0%      │ N/A                 │ N/A                │\n",
      "│ 33  │ Elective 4                               │ 90.0%      │ N/A                 │ N/A                │\n",
      "│ 34  │ CSC Systems Elective                     │ 90.0%      │ N/A                 │ N/A                │\n",
      "│ 35  │ CSC 300/400-Level Elective               │ 90.0%      │ N/A                 │ N/A                │\n",
      "│ 36  │ Upper-Division Elective 1                │ 90.0%      │ N/A                 │ N/A                │\n",
      "│ 37  │ Upper-Division Elective 2                │ 90.0%      │ N/A                 │ N/A                │\n",
      "\n",
      "-------- Course Pass Rates by Term --------\n",
      "\n",
      "│ Row │ COUSE                            │ TERM1 │ TERM2 │ TERM3 │ TERM4 │\n",
      "├─────┼──────────────────────────────────┼───────┼───────┼───────┼───────┤\n",
      "│ 1   │ Intro to Computer Programming I  │ 65.7% │ 84.7% │ 91.4% │ 91.4% │\n",
      "│ 2   │ Pre-Calculus                     │ 73.4% │ 91.3% │ 95.8% │ 95.8% │\n",
      "│ 3   │ English Composition I            │ 88.6% │ 97.8% │ 98.9% │ 98.9% │\n",
      "│ 4   │ 1st Semester Second Language     │ 0.0%  │ 82.3% │ 89.5% │ 90.3% │\n",
      "│ 5   │ Intro to Computer Programming II │ 0.0%  │ 44.7% │ 65.3% │ 74.5% │\n",
      "│ 6   │ Calculus I                       │ 0.0%  │ 60.2% │ 78.4% │ 84.1% │\n",
      "│ 7   │ English Composition II           │ 0.0%  │ 68.7% │ 84.6% │ 87.1% │\n",
      "│ 8   │ 2nd Semester Second Language     │ 0.0%  │ 0.0%  │ 64.2% │ 75.3% │\n",
      "│ 9   │ Software Development             │ 0.0%  │ 0.0%  │ 29.2% │ 51.1% │\n",
      "│ 10  │ Intro to Discrete Structures     │ 0.0%  │ 0.0%  │ 28.1% │ 53.0% │\n",
      "│ 11  │ Calculus II                      │ 0.0%  │ 0.0%  │ 38.5% │ 60.1% │\n",
      "│ 12  │ Tier 1 General Education 1       │ 89.7% │ 89.9% │ 95.9% │ 98.1% │\n",
      "│ 13  │ Tier 1 General Education 2       │ 0.0%  │ 2.7%  │ 50.8% │ 73.5% │\n",
      "│ 14  │ Computer Organization            │ 0.0%  │ 0.0%  │ 0.0%  │ 23.8% │\n",
      "│ 15  │ Systems Programming & Unix       │ 0.0%  │ 0.0%  │ 0.0%  │ 19.9% │\n",
      "│ 16  │ Supporting Science #1            │ 0.0%  │ 0.0%  │ 15.1% │ 61.0% │\n",
      "│ 17  │ Tier 1 General Education 3       │ 0.0%  │ 0.0%  │ 1.8%  │ 46.8% │\n",
      "│ 18  │ Tier 1 General Education 4       │ 0.0%  │ 0.0%  │ 0.0%  │ 27.1% │\n",
      "│ 19  │ Object-Oriented Programming      │ 0.0%  │ 0.0%  │ 0.0%  │ 0.0%  │\n",
      "│ 20  │ Analysis of Discrete Structures  │ 0.0%  │ 0.0%  │ 0.0%  │ 0.0%  │\n",
      "│ 21  │ Supporting Science #2            │ 0.0%  │ 0.0%  │ 0.0%  │ 11.8% │\n",
      "│ 22  │ Tier 2 Gen Ed/Upper-Division 1   │ 0.0%  │ 0.0%  │ 0.0%  │ 2.7%  │\n",
      "│ 23  │ Upper-Division Elective          │ 0.0%  │ 0.0%  │ 0.0%  │ 0.0%  │\n",
      "│ 24  │ CSC Paradigms Elective           │ 0.0%  │ 0.0%  │ 0.0%  │ 0.0%  │\n",
      "│ 25  │ CSC 400-Level Elective 1         │ 0.0%  │ 0.0%  │ 0.0%  │ 0.0%  │\n",
      "│ 26  │ Tier 2 Gen Ed/Upper-Division 2   │ 0.0%  │ 0.0%  │ 0.0%  │ 0.0%  │\n",
      "│ 27  │ Tier 2 Gen Ed/Upper-Division 3   │ 0.0%  │ 0.0%  │ 0.0%  │ 0.0%  │\n",
      "│ 28  │ Elective 1                       │ 0.0%  │ 0.0%  │ 0.0%  │ 0.0%  │\n",
      "│ 29  │ CSC Theory & Writing Elective    │ 0.0%  │ 0.0%  │ 0.0%  │ 0.0%  │\n",
      "│ 30  │ CSC 400-Level Elective 2         │ 0.0%  │ 0.0%  │ 0.0%  │ 0.0%  │\n",
      "│ 31  │ Elective 2                       │ 0.0%  │ 0.0%  │ 0.0%  │ 0.0%  │\n",
      "│ 32  │ Elective 3                       │ 0.0%  │ 0.0%  │ 0.0%  │ 0.0%  │\n",
      "│ 33  │ Elective 4                       │ 0.0%  │ 0.0%  │ 0.0%  │ 0.0%  │\n",
      "│ 34  │ CSC Systems Elective             │ 0.0%  │ 0.0%  │ 0.0%  │ 0.0%  │\n",
      "│ 35  │ CSC 300/400-Level Elective       │ 0.0%  │ 0.0%  │ 0.0%  │ 0.0%  │\n",
      "│ 36  │ Upper-Division Elective 1        │ 0.0%  │ 0.0%  │ 0.0%  │ 0.0%  │\n",
      "│ 37  │ Upper-Division Elective 2        │ 0.0%  │ 0.0%  │ 0.0%  │ 0.0%  │\n",
      "│ 38  │ GRAD RATE                        │ 0.0%  │ 0.0%  │ 0.0%  │ 0.0%  │\n",
      "\n",
      "│ Row │ TERM5 │ TERM6 │ TERM7 │ TERM8 │ TERM9 │ TERM10 │ TERM11 │ TERM12 │\n",
      "├─────┼───────┼───────┼───────┼───────┼───────┼────────┼────────┼────────┤\n",
      "│ 1   │ 91.4% │ 91.4% │ 91.4% │ 91.4% │ 91.4% │ 91.4%  │ 91.4%  │ 91.4%  │\n",
      "│ 2   │ 95.8% │ 95.8% │ 95.8% │ 95.8% │ 95.8% │ 95.8%  │ 95.8%  │ 95.8%  │\n",
      "│ 3   │ 98.9% │ 98.9% │ 98.9% │ 98.9% │ 98.9% │ 98.9%  │ 98.9%  │ 98.9%  │\n",
      "│ 4   │ 90.3% │ 90.3% │ 90.3% │ 90.3% │ 90.3% │ 90.3%  │ 90.3%  │ 90.3%  │\n",
      "│ 5   │ 77.1% │ 77.3% │ 77.3% │ 77.3% │ 77.3% │ 77.3%  │ 77.3%  │ 77.3%  │\n",
      "│ 6   │ 84.7% │ 84.7% │ 84.7% │ 84.7% │ 84.7% │ 84.7%  │ 84.7%  │ 84.7%  │\n",
      "│ 7   │ 87.5% │ 87.5% │ 87.5% │ 87.5% │ 87.5% │ 87.5%  │ 87.5%  │ 87.5%  │\n",
      "│ 8   │ 76.9% │ 77.1% │ 77.1% │ 77.1% │ 77.1% │ 77.1%  │ 77.1%  │ 77.1%  │\n",
      "│ 9   │ 62.2% │ 66.7% │ 67.6% │ 67.8% │ 67.8% │ 67.8%  │ 67.8%  │ 67.8%  │\n",
      "│ 10  │ 63.6% │ 67.2% │ 68.1% │ 68.4% │ 68.4% │ 68.4%  │ 68.4%  │ 68.4%  │\n",
      "│ 11  │ 68.5% │ 70.6% │ 70.9% │ 71.0% │ 71.0% │ 71.0%  │ 71.0%  │ 71.0%  │\n",
      "│ 12  │ 98.3% │ 98.3% │ 98.3% │ 98.3% │ 98.3% │ 98.3%  │ 98.3%  │ 98.3%  │\n",
      "│ 13  │ 76.1% │ 76.4% │ 76.4% │ 76.4% │ 76.4% │ 76.4%  │ 76.4%  │ 76.4%  │\n",
      "│ 14  │ 45.2% │ 56.0% │ 62.0% │ 63.4% │ 63.7% │ 63.9%  │ 63.9%  │ 63.9%  │\n",
      "│ 15  │ 40.6% │ 52.2% │ 57.8% │ 60.5% │ 61.1% │ 61.4%  │ 61.4%  │ 61.4%  │\n",
      "│ 16  │ 71.2% │ 71.9% │ 72.0% │ 72.0% │ 72.0% │ 72.0%  │ 72.0%  │ 72.0%  │\n",
      "│ 17  │ 66.8% │ 69.6% │ 69.6% │ 69.6% │ 69.6% │ 69.6%  │ 69.6%  │ 69.6%  │\n",
      "│ 18  │ 62.3% │ 66.8% │ 67.1% │ 67.1% │ 67.1% │ 67.1%  │ 67.1%  │ 67.1%  │\n",
      "│ 19  │ 38.4% │ 54.0% │ 60.0% │ 61.2% │ 61.4% │ 61.4%  │ 61.5%  │ 61.5%  │\n",
      "│ 20  │ 29.5% │ 48.1% │ 56.3% │ 59.2% │ 59.9% │ 60.0%  │ 60.0%  │ 60.0%  │\n",
      "│ 21  │ 38.2% │ 60.7% │ 63.6% │ 63.9% │ 63.9% │ 63.9%  │ 63.9%  │ 63.9%  │\n",
      "│ 22  │ 31.2% │ 59.0% │ 62.9% │ 63.3% │ 63.3% │ 63.3%  │ 63.3%  │ 63.3%  │\n",
      "│ 23  │ 13.6% │ 51.7% │ 60.1% │ 60.8% │ 60.8% │ 60.8%  │ 60.8%  │ 60.8%  │\n",
      "│ 24  │ 5.9%  │ 44.2% │ 58.4% │ 59.8% │ 59.8% │ 59.8%  │ 59.8%  │ 59.8%  │\n",
      "│ 25  │ 3.2%  │ 36.0% │ 57.4% │ 59.2% │ 59.4% │ 59.4%  │ 59.4%  │ 59.4%  │\n",
      "│ 26  │ 0.2%  │ 26.0% │ 54.0% │ 57.9% │ 58.1% │ 58.2%  │ 58.2%  │ 58.2%  │\n",
      "│ 27  │ 0.0%  │ 15.1% │ 50.6% │ 57.0% │ 57.6% │ 57.7%  │ 57.7%  │ 57.7%  │\n",
      "│ 28  │ 0.0%  │ 6.3%  │ 45.1% │ 55.9% │ 57.2% │ 57.2%  │ 57.2%  │ 57.2%  │\n",
      "│ 29  │ 0.0%  │ 1.5%  │ 39.9% │ 54.4% │ 56.6% │ 57.0%  │ 57.0%  │ 57.0%  │\n",
      "│ 30  │ 0.0%  │ 0.0%  │ 32.4% │ 53.5% │ 56.5% │ 56.7%  │ 56.7%  │ 56.7%  │\n",
      "│ 31  │ 0.0%  │ 0.0%  │ 23.4% │ 51.7% │ 55.8% │ 56.0%  │ 56.0%  │ 56.0%  │\n",
      "│ 32  │ 0.0%  │ 0.0%  │ 15.7% │ 48.5% │ 54.9% │ 55.7%  │ 55.8%  │ 55.8%  │\n",
      "│ 33  │ 0.0%  │ 0.0%  │ 7.9%  │ 45.0% │ 54.0% │ 55.2%  │ 55.3%  │ 55.3%  │\n",
      "│ 34  │ 0.0%  │ 0.0%  │ 2.9%  │ 38.5% │ 53.8% │ 54.8%  │ 54.9%  │ 54.9%  │\n",
      "│ 35  │ 0.0%  │ 0.0%  │ 0.5%  │ 32.8% │ 51.2% │ 54.4%  │ 54.6%  │ 54.6%  │\n",
      "│ 36  │ 0.0%  │ 0.0%  │ 0.0%  │ 26.3% │ 51.4% │ 54.3%  │ 54.8%  │ 54.8%  │\n",
      "│ 37  │ 0.0%  │ 0.0%  │ 0.0%  │ 18.1% │ 49.1% │ 54.4%  │ 54.6%  │ 54.6%  │\n",
      "│ 38  │ 0.0%  │ 0.0%  │ 0.0%  │ 12.5% │ 44.0% │ 53.2%  │ 54.1%  │ 0.0%   │"
     ]
    }
   ],
   "source": [
    "simulation = simulate(CS_degree_plan, course_attempt_limit, students,\n",
    "                      max_credits = max_credits,\n",
    "                      performance_model = performance_model,\n",
    "                      enrollment_model = enrollment_model,\n",
    "                      duration = num_terms,\n",
    "                      duration_lock = duration_lock,\n",
    "                      stopouts = stopouts);\n",
    "simulation_report(simulation, num_terms, course_passrate, max_credits, real_passrate)"
   ]
  },
  {
   "cell_type": "markdown",
   "metadata": {},
   "source": [
    "Next, notice that CSC 110 -- Intro to Computer Programming I is clearly a gateway course for the computer science program at the University of Arizona, and that is has a relatively low success rate. There are a few other courses with teh CSC prefix that also have low success rates. What would happen if the instruction and instructional support were changed in a way that enabled the students taking CSC 110, CSC 120 and CSC 353 to obtain a 90% pass rate? "
   ]
  },
  {
   "cell_type": "code",
   "execution_count": 70,
   "metadata": {},
   "outputs": [],
   "source": [
    "convert_ids(CS_degree_plan.curriculum)\n",
    "csc110 = course(CS_degree_plan.curriculum, \"CSC\", \"110\", \"Intro to Computer Programming I\", \"\")\n",
    "csc120 = course(CS_degree_plan.curriculum, \"CSC\", \"120\", \"Intro to Computer Programming II\", \"\")\n",
    "csc353 = course(CS_degree_plan.curriculum, \"CSC\", \"352\", \"Systems Programming & Unix\", \"\")\n",
    "csc110.passrate = csc120.passrate = csc353.passrate = 0.9;"
   ]
  },
  {
   "cell_type": "code",
   "execution_count": 71,
   "metadata": {
    "scrolled": false
   },
   "outputs": [
    {
     "name": "stdout",
     "output_type": "stream",
     "text": [
      "\n",
      "\u001b[0m\u001b[1m------------ Simulation Report ------------\u001b[22m\n",
      "Computer Science, BS -- 2019-20 Degree Plan\n",
      "\n",
      "-------- Simulation Statistics --------\n",
      "Number of terms: 12\n",
      "Max Credits per Term: 18\n",
      "Max Course Attempts: 3\n",
      "Number of Students: 1000\n",
      "Preset Course Pass Rates: 90.0%\n",
      "\n",
      "-------- Graduation Statistics --------\n",
      "Number of Students Graduated: 633\n",
      "Graduation Rate: 63.3%\n",
      "Term Graduation Rates: \n",
      "[0.0, 0.0, 0.0, 0.0, 0.0, 0.0, 0.0, 0.174, 0.529, 0.622, 0.633, 0.0]\n",
      "Average time to degree: 8.906793048973144 terms\n",
      "\n",
      "-------- Stop out Statistics --------\n",
      "Number of Students Stopped Out (Stopout Model Prediction + Reached Max Attempts): 367\n",
      "Number of Students Reaching Max Attempts: 68\n",
      "Stop-out Rate: 36.7%\n",
      "Cumulative Term Stop-out Rates (including reached max course attempts students): \n",
      "[0.065, 0.179, 0.221, 0.274, 0.325, 0.339, 0.357, 0.358, 0.362, 0.366, 0.367, 0.0]\n",
      "\n",
      "Cumulative Term Stop-out Rates (excluding reaching max course attempts students): \n",
      "[0.065, 0.179, 0.209, 0.257, 0.286, 0.294, 0.299, 0.299, 0.299, 0.299, 0.299, 0.0]\n",
      "\n",
      "Cumulative Term Reached Max Course Attempts Rates: \n",
      "[0.0, 0.0, 0.012, 0.017, 0.039, 0.045, 0.058, 0.059, 0.063, 0.067, 0.068, 0.0]\n",
      "\n",
      "\n",
      "-------- Pass Rate of Each Course (computed from Student Grades CSV file) --------\n",
      "\n",
      "│ Row │ Courses                                  │ Pass_Rates │ Num_Students_Passes │ Num_Students_Taken │\n",
      "├─────┼──────────────────────────────────────────┼────────────┼─────────────────────┼────────────────────┤\n",
      "│ 1   │ CSC 110 Intro to Computer Programming I  │ 90.0%      │ 925                 │ 1461               │\n",
      "│ 2   │ MATH 120R Pre-Calculus                   │ 72.1%      │ 2246                │ 3117               │\n",
      "│ 3   │ ENGL 101 English Composition I           │ 88.9%      │ 8949                │ 10064              │\n",
      "│ 4   │ 1st Semester Second Language             │ 90.0%      │ N/A                 │ N/A                │\n",
      "│ 5   │ CSC 120 Intro to Computer Programming II │ 90.0%      │ 603                 │ 833                │\n",
      "│ 6   │ MATH 122A/B Calculus I                   │ 90.0%      │ N/A                 │ N/A                │\n",
      "│ 7   │ ENGL 102 English Composition II          │ 86.3%      │ 6615                │ 7666               │\n",
      "│ 8   │ 2nd Semester Second Language             │ 90.0%      │ N/A                 │ N/A                │\n",
      "│ 9   │ CSC 210 Software Development             │ 76.7%      │ 355                 │ 463                │\n",
      "│ 10  │ CSC 245 Intro to Discrete Structures     │ 80.4%      │ 369                 │ 459                │\n",
      "│ 11  │ MATH 129 Calculus II                     │ 74.7%      │ 2160                │ 2893               │\n",
      "│ 12  │ Tier 1 General Education 1               │ 90.0%      │ N/A                 │ N/A                │\n",
      "│ 13  │ Tier 1 General Education 2               │ 90.0%      │ N/A                 │ N/A                │\n",
      "│ 14  │ CSC 252 Computer Organization            │ 81.8%      │ 251                 │ 307                │\n",
      "│ 15  │ CSC 352 Systems Programming & Unix       │ 90.0%      │ 289                 │ 430                │\n",
      "│ 16  │ Supporting Science #1                    │ 90.0%      │ N/A                 │ N/A                │\n",
      "│ 17  │ Tier 1 General Education 3               │ 90.0%      │ N/A                 │ N/A                │\n",
      "│ 18  │ Tier 1 General Education 4               │ 90.0%      │ N/A                 │ N/A                │\n",
      "│ 19  │ CSC 335 Object-Oriented Programming      │ 91.4%      │ 278                 │ 304                │\n",
      "│ 20  │ CSC 345 Analysis of Discrete Structures  │ 79.2%      │ 316                 │ 399                │\n",
      "│ 21  │ Supporting Science #2                    │ 90.0%      │ N/A                 │ N/A                │\n",
      "│ 22  │ Tier 2 Gen Ed/Upper-Division 1           │ 90.0%      │ N/A                 │ N/A                │\n",
      "│ 23  │ Upper-Division Elective                  │ 90.0%      │ N/A                 │ N/A                │\n",
      "│ 24  │ CSC Paradigms Elective                   │ 90.0%      │ N/A                 │ N/A                │\n",
      "│ 25  │ CSC 400-Level Elective 1                 │ 90.0%      │ N/A                 │ N/A                │\n",
      "│ 26  │ Tier 2 Gen Ed/Upper-Division 2           │ 90.0%      │ N/A                 │ N/A                │\n",
      "│ 27  │ Tier 2 Gen Ed/Upper-Division 3           │ 90.0%      │ N/A                 │ N/A                │\n",
      "│ 28  │ Elective 1                               │ 90.0%      │ N/A                 │ N/A                │\n",
      "│ 29  │ CSC Theory & Writing Elective            │ 90.0%      │ N/A                 │ N/A                │\n",
      "│ 30  │ CSC 400-Level Elective 2                 │ 90.0%      │ N/A                 │ N/A                │\n",
      "│ 31  │ Elective 2                               │ 90.0%      │ N/A                 │ N/A                │\n",
      "│ 32  │ Elective 3                               │ 90.0%      │ N/A                 │ N/A                │\n",
      "│ 33  │ Elective 4                               │ 90.0%      │ N/A                 │ N/A                │\n",
      "│ 34  │ CSC Systems Elective                     │ 90.0%      │ N/A                 │ N/A                │\n",
      "│ 35  │ CSC 300/400-Level Elective               │ 90.0%      │ N/A                 │ N/A                │\n",
      "│ 36  │ Upper-Division Elective 1                │ 90.0%      │ N/A                 │ N/A                │\n",
      "│ 37  │ Upper-Division Elective 2                │ 90.0%      │ N/A                 │ N/A                │\n",
      "\n",
      "-------- Course Pass Rates by Term --------\n",
      "\n",
      "│ Row │ COUSE                            │ TERM1 │ TERM2 │ TERM3 │ TERM4 │\n",
      "├─────┼──────────────────────────────────┼───────┼───────┼───────┼───────┤\n",
      "│ 1   │ Intro to Computer Programming I  │ 90.6% │ 98.2% │ 99.1% │ 99.1% │\n",
      "│ 2   │ Pre-Calculus                     │ 73.8% │ 90.7% │ 95.3% │ 95.3% │\n",
      "│ 3   │ English Composition I            │ 89.6% │ 98.2% │ 98.9% │ 98.9% │\n",
      "│ 4   │ 1st Semester Second Language     │ 0.0%  │ 84.6% │ 91.2% │ 91.7% │\n",
      "│ 5   │ Intro to Computer Programming II │ 0.0%  │ 78.4% │ 90.1% │ 91.7% │\n",
      "│ 6   │ Calculus I                       │ 0.0%  │ 61.6% │ 80.8% │ 86.9% │\n",
      "│ 7   │ English Composition II           │ 0.0%  │ 72.6% │ 87.6% │ 90.4% │\n",
      "│ 8   │ 2nd Semester Second Language     │ 0.0%  │ 0.0%  │ 67.6% │ 79.4% │\n",
      "│ 9   │ Software Development             │ 0.0%  │ 0.0%  │ 53.0% │ 72.0% │\n",
      "│ 10  │ Intro to Discrete Structures     │ 0.0%  │ 0.0%  │ 50.3% │ 72.1% │\n",
      "│ 11  │ Calculus II                      │ 0.0%  │ 0.0%  │ 39.6% │ 63.8% │\n",
      "│ 12  │ Tier 1 General Education 1       │ 90.9% │ 91.1% │ 95.1% │ 97.6% │\n",
      "│ 13  │ Tier 1 General Education 2       │ 0.0%  │ 2.5%  │ 46.8% │ 77.3% │\n",
      "│ 14  │ Computer Organization            │ 0.0%  │ 0.0%  │ 0.0%  │ 39.5% │\n",
      "│ 15  │ Systems Programming & Unix       │ 0.0%  │ 0.0%  │ 0.0%  │ 44.2% │\n",
      "│ 16  │ Supporting Science #1            │ 0.0%  │ 0.0%  │ 5.8%  │ 60.0% │\n",
      "│ 17  │ Tier 1 General Education 3       │ 0.0%  │ 0.0%  │ 0.7%  │ 46.8% │\n",
      "│ 18  │ Tier 1 General Education 4       │ 0.0%  │ 0.0%  │ 0.0%  │ 22.3% │\n",
      "│ 19  │ Object-Oriented Programming      │ 0.0%  │ 0.0%  │ 0.0%  │ 0.0%  │\n",
      "│ 20  │ Analysis of Discrete Structures  │ 0.0%  │ 0.0%  │ 0.0%  │ 0.0%  │\n",
      "│ 21  │ Supporting Science #2            │ 0.0%  │ 0.0%  │ 0.0%  │ 6.0%  │\n",
      "│ 22  │ Tier 2 Gen Ed/Upper-Division 1   │ 0.0%  │ 0.0%  │ 0.0%  │ 0.2%  │\n",
      "│ 23  │ Upper-Division Elective          │ 0.0%  │ 0.0%  │ 0.0%  │ 0.0%  │\n",
      "│ 24  │ CSC Paradigms Elective           │ 0.0%  │ 0.0%  │ 0.0%  │ 0.0%  │\n",
      "│ 25  │ CSC 400-Level Elective 1         │ 0.0%  │ 0.0%  │ 0.0%  │ 0.0%  │\n",
      "│ 26  │ Tier 2 Gen Ed/Upper-Division 2   │ 0.0%  │ 0.0%  │ 0.0%  │ 0.0%  │\n",
      "│ 27  │ Tier 2 Gen Ed/Upper-Division 3   │ 0.0%  │ 0.0%  │ 0.0%  │ 0.0%  │\n",
      "│ 28  │ Elective 1                       │ 0.0%  │ 0.0%  │ 0.0%  │ 0.0%  │\n",
      "│ 29  │ CSC Theory & Writing Elective    │ 0.0%  │ 0.0%  │ 0.0%  │ 0.0%  │\n",
      "│ 30  │ CSC 400-Level Elective 2         │ 0.0%  │ 0.0%  │ 0.0%  │ 0.0%  │\n",
      "│ 31  │ Elective 2                       │ 0.0%  │ 0.0%  │ 0.0%  │ 0.0%  │\n",
      "│ 32  │ Elective 3                       │ 0.0%  │ 0.0%  │ 0.0%  │ 0.0%  │\n",
      "│ 33  │ Elective 4                       │ 0.0%  │ 0.0%  │ 0.0%  │ 0.0%  │\n",
      "│ 34  │ CSC Systems Elective             │ 0.0%  │ 0.0%  │ 0.0%  │ 0.0%  │\n",
      "│ 35  │ CSC 300/400-Level Elective       │ 0.0%  │ 0.0%  │ 0.0%  │ 0.0%  │\n",
      "│ 36  │ Upper-Division Elective 1        │ 0.0%  │ 0.0%  │ 0.0%  │ 0.0%  │\n",
      "│ 37  │ Upper-Division Elective 2        │ 0.0%  │ 0.0%  │ 0.0%  │ 0.0%  │\n",
      "│ 38  │ GRAD RATE                        │ 0.0%  │ 0.0%  │ 0.0%  │ 0.0%  │\n",
      "\n",
      "│ Row │ TERM5 │ TERM6 │ TERM7 │ TERM8 │ TERM9 │ TERM10 │ TERM11 │ TERM12 │\n",
      "├─────┼───────┼───────┼───────┼───────┼───────┼────────┼────────┼────────┤\n",
      "│ 1   │ 99.1% │ 99.1% │ 99.1% │ 99.1% │ 99.1% │ 99.1%  │ 99.1%  │ 99.1%  │\n",
      "│ 2   │ 95.3% │ 95.3% │ 95.3% │ 95.3% │ 95.3% │ 95.3%  │ 95.3%  │ 95.3%  │\n",
      "│ 3   │ 98.9% │ 98.9% │ 98.9% │ 98.9% │ 98.9% │ 98.9%  │ 98.9%  │ 98.9%  │\n",
      "│ 4   │ 91.7% │ 91.7% │ 91.7% │ 91.7% │ 91.7% │ 91.7%  │ 91.7%  │ 91.7%  │\n",
      "│ 5   │ 91.9% │ 91.9% │ 91.9% │ 91.9% │ 91.9% │ 91.9%  │ 91.9%  │ 91.9%  │\n",
      "│ 6   │ 87.4% │ 87.5% │ 87.5% │ 87.5% │ 87.5% │ 87.5%  │ 87.5%  │ 87.5%  │\n",
      "│ 7   │ 90.5% │ 90.5% │ 90.5% │ 90.5% │ 90.5% │ 90.5%  │ 90.5%  │ 90.5%  │\n",
      "│ 8   │ 81.0% │ 81.1% │ 81.1% │ 81.1% │ 81.1% │ 81.1%  │ 81.1%  │ 81.1%  │\n",
      "│ 9   │ 78.4% │ 79.1% │ 79.2% │ 79.2% │ 79.2% │ 79.2%  │ 79.2%  │ 79.2%  │\n",
      "│ 10  │ 78.1% │ 78.9% │ 79.0% │ 79.0% │ 79.0% │ 79.0%  │ 79.0%  │ 79.0%  │\n",
      "│ 11  │ 75.3% │ 77.0% │ 77.4% │ 77.4% │ 77.5% │ 77.5%  │ 77.5%  │ 77.5%  │\n",
      "│ 12  │ 97.9% │ 97.9% │ 97.9% │ 97.9% │ 97.9% │ 97.9%  │ 97.9%  │ 97.9%  │\n",
      "│ 13  │ 80.4% │ 80.5% │ 80.5% │ 80.5% │ 80.5% │ 80.5%  │ 80.5%  │ 80.5%  │\n",
      "│ 14  │ 62.0% │ 70.9% │ 72.4% │ 72.7% │ 72.8% │ 72.8%  │ 72.8%  │ 72.8%  │\n",
      "│ 15  │ 65.5% │ 72.7% │ 74.1% │ 74.3% │ 74.3% │ 74.3%  │ 74.3%  │ 74.3%  │\n",
      "│ 16  │ 75.3% │ 77.1% │ 77.2% │ 77.2% │ 77.2% │ 77.2%  │ 77.2%  │ 77.2%  │\n",
      "│ 17  │ 72.0% │ 74.5% │ 74.9% │ 74.9% │ 74.9% │ 74.9%  │ 74.9%  │ 74.9%  │\n",
      "│ 18  │ 66.8% │ 72.2% │ 72.9% │ 73.0% │ 73.0% │ 73.0%  │ 73.0%  │ 73.0%  │\n",
      "│ 19  │ 54.8% │ 68.3% │ 70.4% │ 70.5% │ 70.5% │ 70.5%  │ 70.5%  │ 70.5%  │\n",
      "│ 20  │ 39.6% │ 60.8% │ 66.8% │ 68.1% │ 68.1% │ 68.1%  │ 68.1%  │ 68.1%  │\n",
      "│ 21  │ 38.4% │ 65.0% │ 69.7% │ 69.9% │ 69.9% │ 69.9%  │ 69.9%  │ 69.9%  │\n",
      "│ 22  │ 32.3% │ 64.6% │ 69.2% │ 69.3% │ 69.4% │ 69.4%  │ 69.4%  │ 69.4%  │\n",
      "│ 23  │ 11.2% │ 59.5% │ 67.4% │ 67.8% │ 67.8% │ 67.8%  │ 67.8%  │ 67.8%  │\n",
      "│ 24  │ 3.0%  │ 52.0% │ 66.0% │ 67.4% │ 67.4% │ 67.4%  │ 67.4%  │ 67.4%  │\n",
      "│ 25  │ 0.9%  │ 43.1% │ 64.6% │ 66.7% │ 66.9% │ 66.9%  │ 66.9%  │ 66.9%  │\n",
      "│ 26  │ 0.0%  │ 32.9% │ 62.7% │ 66.2% │ 66.4% │ 66.4%  │ 66.4%  │ 66.4%  │\n",
      "│ 27  │ 0.0%  │ 22.2% │ 59.4% │ 65.2% │ 65.9% │ 65.9%  │ 65.9%  │ 65.9%  │\n",
      "│ 28  │ 0.0%  │ 9.5%  │ 55.7% │ 64.4% │ 65.4% │ 65.4%  │ 65.4%  │ 65.4%  │\n",
      "│ 29  │ 0.0%  │ 2.7%  │ 49.6% │ 64.0% │ 65.3% │ 65.3%  │ 65.3%  │ 65.3%  │\n",
      "│ 30  │ 0.0%  │ 0.0%  │ 43.9% │ 62.1% │ 64.7% │ 65.1%  │ 65.1%  │ 65.1%  │\n",
      "│ 31  │ 0.0%  │ 0.0%  │ 35.1% │ 61.9% │ 64.3% │ 64.6%  │ 64.6%  │ 64.6%  │\n",
      "│ 32  │ 0.0%  │ 0.0%  │ 24.6% │ 58.7% │ 64.1% │ 64.4%  │ 64.4%  │ 64.4%  │\n",
      "│ 33  │ 0.0%  │ 0.0%  │ 14.5% │ 55.0% │ 63.1% │ 64.2%  │ 64.2%  │ 64.2%  │\n",
      "│ 34  │ 0.0%  │ 0.0%  │ 6.2%  │ 50.2% │ 63.0% │ 64.1%  │ 64.3%  │ 64.3%  │\n",
      "│ 35  │ 0.0%  │ 0.0%  │ 1.2%  │ 44.6% │ 61.8% │ 63.9%  │ 64.2%  │ 64.2%  │\n",
      "│ 36  │ 0.0%  │ 0.0%  │ 0.0%  │ 37.2% │ 61.8% │ 63.9%  │ 64.2%  │ 64.2%  │\n",
      "│ 37  │ 0.0%  │ 0.0%  │ 0.0%  │ 27.8% │ 59.4% │ 63.8%  │ 64.1%  │ 64.1%  │\n",
      "│ 38  │ 0.0%  │ 0.0%  │ 0.0%  │ 17.4% │ 52.9% │ 62.2%  │ 63.3%  │ 0.0%   │"
     ]
    }
   ],
   "source": [
    "simulation = simulate(CS_degree_plan, course_attempt_limit, students,\n",
    "                      max_credits = max_credits,\n",
    "                      performance_model = performance_model,\n",
    "                      enrollment_model = enrollment_model,\n",
    "                      duration = num_terms,\n",
    "                      duration_lock = duration_lock,\n",
    "                      stopouts = stopouts);\n",
    "simulation_report(simulation, num_terms, course_passrate, max_credits, real_passrate)"
   ]
  },
  {
   "cell_type": "markdown",
   "metadata": {},
   "source": [
    "# References\n",
    "\n",
    "Heileman, G. L., Abdallah, C.T., Slim, A., and Hickman, M. (2018). Curricular analytics: A framework for quantifying the impact of curricular reforms and pedagogical innovations. www.arXiv.org, arXiv:1811.09676 [cs.CY].\n",
    "\n",
    "Hickman, M. (2014). Development of a Curriculum Analysis and Simulation Library with Applications in Curricular Analytics. MS thesis, University of New Mexico,\n",
    "Albuquerque, NM."
   ]
  }
 ],
 "metadata": {
  "@webio": {
   "lastCommId": "4d0139175637474c834f03a4e0791ba6",
   "lastKernelId": "8ddd0b87-8e15-433d-8289-c883fb192b50"
  },
  "kernelspec": {
   "display_name": "Julia 1.5.0",
   "language": "julia",
   "name": "julia-1.5"
  },
  "language_info": {
   "file_extension": ".jl",
   "mimetype": "application/julia",
   "name": "julia",
   "version": "1.5.0"
  }
 },
 "nbformat": 4,
 "nbformat_minor": 2
}
