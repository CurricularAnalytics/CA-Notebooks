{
 "cells": [
  {
   "cell_type": "markdown",
   "metadata": {},
   "source": [
    "# Grades Coorelation between Courses Prerequisits\n",
    "this notebook shows the coorelation of grades between all courses and their prerequisits in a given curriculum. The input of the script is the curriculum of the academic program and students grades that have/are pursing the same program."
   ]
  },
  {
   "cell_type": "code",
   "execution_count": 2,
   "metadata": {},
   "outputs": [
    {
     "data": {
      "application/vnd.webio.node+json": {
       "children": [],
       "instanceArgs": {
        "namespace": "html",
        "tag": "div"
       },
       "nodeType": "DOM",
       "props": {},
       "type": "node"
      },
      "text/html": [
       "<div style=\"padding: 1em; background-color: #f8d6da; border: 1px solid #f5c6cb; font-weight: bold;\">\n",
       "<p>The WebIO Jupyter extension was not detected. See the\n",
       "<a href=\"https://juliagizmos.github.io/WebIO.jl/latest/providers/ijulia/\" target=\"_blank\">\n",
       "    WebIO Jupyter integration documentation\n",
       "</a>\n",
       "for more information.\n",
       "</div>\n"
      ],
      "text/plain": [
       "WebIO._IJuliaInit()"
      ]
     },
     "metadata": {},
     "output_type": "display_data"
    }
   ],
   "source": [
    "using CSV\n",
    "using DataFrames\n",
    "#using Dates\n",
    "using Plots\n",
    "#using PlotlyJS\n",
    "using Statistics\n",
    "using DataFramesMeta\n",
    "#using Distributions\n",
    "using StatsBase\n",
    "using Interact\n",
    "using Blink\n",
    "using StatsPlots\n",
    "using HTTP\n",
    "#using Query\n",
    "#using FreqTables\n",
    "using Statistics\n",
    "using CurricularAnalytics"
   ]
  },
  {
   "cell_type": "code",
   "execution_count": 3,
   "metadata": {},
   "outputs": [],
   "source": [
    "#student data\n",
    "stdata= CSV.read(\"Grades.csv\",DataFrame);\n",
    "\n",
    "#curriculum\n",
    "curr = read_csv(\"ua_chemeng.csv\");"
   ]
  },
  {
   "cell_type": "code",
   "execution_count": 4,
   "metadata": {},
   "outputs": [
    {
     "data": {
      "text/plain": [
       "true"
      ]
     },
     "execution_count": 4,
     "metadata": {},
     "output_type": "execute_result"
    }
   ],
   "source": [
    "# verify the input curriculm is valid\n",
    "isvalid_curriculum(curr)"
   ]
  },
  {
   "cell_type": "code",
   "execution_count": 5,
   "metadata": {},
   "outputs": [
    {
     "data": {
      "text/html": [
       "<table class=\"data-frame\"><thead><tr><th></th><th>EMPLID</th><th>COURSE</th><th>COURSENAME</th><th>GRADE</th><th>SCORE</th><th>COURSE_1</th><th>COURSENAME_1</th></tr><tr><th></th><th>Int64</th><th>String</th><th>String</th><th>String</th><th>Int64</th><th>String</th><th>String</th></tr></thead><tbody><p>6 rows × 9 columns (omitted printing of 2 columns)</p><tr><th>1</th><td>18929</td><td>RELI481A</td><td>Hist Of E Asian Buddhism</td><td>A</td><td>4</td><td>RELI481A</td><td>Hist Of E Asian Buddhism</td></tr><tr><th>2</th><td>29812</td><td>LING515</td><td>Phonological Phonetics</td><td>A</td><td>4</td><td>LING515</td><td>Phonological Phonetics</td></tr><tr><th>3</th><td>29812</td><td>LING515</td><td>Phonological Phonetics</td><td>A</td><td>4</td><td>ENGL557B</td><td>Contemp British Lit</td></tr><tr><th>4</th><td>29812</td><td>LING515</td><td>Phonological Phonetics</td><td>A</td><td>4</td><td>LING503</td><td>Found Syntactic Theory I</td></tr><tr><th>5</th><td>29812</td><td>LING515</td><td>Phonological Phonetics</td><td>A</td><td>4</td><td>LING573</td><td>Natural Lang Processing</td></tr><tr><th>6</th><td>29812</td><td>LING515</td><td>Phonological Phonetics</td><td>A</td><td>4</td><td>LING501</td><td>Formal Found Linguistics</td></tr></tbody></table>"
      ],
      "text/latex": [
       "\\begin{tabular}{r|cccccccc}\n",
       "\t& EMPLID & COURSE & COURSENAME & GRADE & SCORE & COURSE\\_1 & COURSENAME\\_1 & \\\\\n",
       "\t\\hline\n",
       "\t& Int64 & String & String & String & Int64 & String & String & \\\\\n",
       "\t\\hline\n",
       "\t1 & 18929 & RELI481A & Hist Of E Asian Buddhism & A & 4 & RELI481A & Hist Of E Asian Buddhism & $\\dots$ \\\\\n",
       "\t2 & 29812 & LING515 & Phonological Phonetics & A & 4 & LING515 & Phonological Phonetics & $\\dots$ \\\\\n",
       "\t3 & 29812 & LING515 & Phonological Phonetics & A & 4 & ENGL557B & Contemp British Lit & $\\dots$ \\\\\n",
       "\t4 & 29812 & LING515 & Phonological Phonetics & A & 4 & LING503 & Found Syntactic Theory I & $\\dots$ \\\\\n",
       "\t5 & 29812 & LING515 & Phonological Phonetics & A & 4 & LING573 & Natural Lang Processing & $\\dots$ \\\\\n",
       "\t6 & 29812 & LING515 & Phonological Phonetics & A & 4 & LING501 & Formal Found Linguistics & $\\dots$ \\\\\n",
       "\\end{tabular}\n"
      ],
      "text/plain": [
       "6×9 DataFrame. Omitted printing of 4 columns\n",
       "│ Row │ EMPLID │ COURSE   │ COURSENAME               │ GRADE  │ SCORE │\n",
       "│     │ \u001b[90mInt64\u001b[39m  │ \u001b[90mString\u001b[39m   │ \u001b[90mString\u001b[39m                   │ \u001b[90mString\u001b[39m │ \u001b[90mInt64\u001b[39m │\n",
       "├─────┼────────┼──────────┼──────────────────────────┼────────┼───────┤\n",
       "│ 1   │ 18929  │ RELI481A │ Hist Of E Asian Buddhism │ A      │ 4     │\n",
       "│ 2   │ 29812  │ LING515  │ Phonological Phonetics   │ A      │ 4     │\n",
       "│ 3   │ 29812  │ LING515  │ Phonological Phonetics   │ A      │ 4     │\n",
       "│ 4   │ 29812  │ LING515  │ Phonological Phonetics   │ A      │ 4     │\n",
       "│ 5   │ 29812  │ LING515  │ Phonological Phonetics   │ A      │ 4     │\n",
       "│ 6   │ 29812  │ LING515  │ Phonological Phonetics   │ A      │ 4     │"
      ]
     },
     "execution_count": 5,
     "metadata": {},
     "output_type": "execute_result"
    }
   ],
   "source": [
    "#create a dataframe (df) that join the student_data to itself for easier indexing between courses prerequistis\n",
    "df=innerjoin(stdata, stdata, on=:EMPLID, makeunique=true)\n",
    "head(df)"
   ]
  },
  {
   "cell_type": "code",
   "execution_count": 6,
   "metadata": {},
   "outputs": [],
   "source": [
    "#record all courses (that have prerequisit(s)) and its prerequisit(es) in a dataframe courses\n",
    "courses = DataFrame(Prerequisite=String[],Course=String[])\n",
    "for i in 1:curr.num_courses\n",
    "    #temp=c.courses[i].requisites\n",
    "    pre_list=collect(keys(curr.courses[i].requisites))\n",
    "    if !isempty(pre_list)\n",
    "        for j in 1:size(pre_list)[1]\n",
    "            push!(courses,[string(curr.courses[pre_list[j]].prefix,\"\",curr.courses[pre_list[j]].num) string(curr.courses[i].prefix,\"\",curr.courses[i].num)])\n",
    "        end\n",
    "    end\n",
    "end"
   ]
  },
  {
   "cell_type": "code",
   "execution_count": 7,
   "metadata": {},
   "outputs": [
    {
     "data": {
      "text/html": [
       "<table class=\"data-frame\"><thead><tr><th></th><th>Prerequisite</th><th>Course</th></tr><tr><th></th><th>String</th><th>String</th></tr></thead><tbody><p>6 rows × 2 columns</p><tr><th>1</th><td>MATH122A</td><td>MATH122B</td></tr><tr><th>2</th><td>MATH122B</td><td>MATH129</td></tr><tr><th>3</th><td>MATH122B</td><td>CHEM152</td></tr><tr><th>4</th><td>ENGL101</td><td>ENGL102</td></tr><tr><th>5</th><td>MATH122B</td><td>PHYS141</td></tr><tr><th>6</th><td>MATH122B</td><td>AME105</td></tr></tbody></table>"
      ],
      "text/latex": [
       "\\begin{tabular}{r|cc}\n",
       "\t& Prerequisite & Course\\\\\n",
       "\t\\hline\n",
       "\t& String & String\\\\\n",
       "\t\\hline\n",
       "\t1 & MATH122A & MATH122B \\\\\n",
       "\t2 & MATH122B & MATH129 \\\\\n",
       "\t3 & MATH122B & CHEM152 \\\\\n",
       "\t4 & ENGL101 & ENGL102 \\\\\n",
       "\t5 & MATH122B & PHYS141 \\\\\n",
       "\t6 & MATH122B & AME105 \\\\\n",
       "\\end{tabular}\n"
      ],
      "text/plain": [
       "6×2 DataFrame\n",
       "│ Row │ Prerequisite │ Course   │\n",
       "│     │ \u001b[90mString\u001b[39m       │ \u001b[90mString\u001b[39m   │\n",
       "├─────┼──────────────┼──────────┤\n",
       "│ 1   │ MATH122A     │ MATH122B │\n",
       "│ 2   │ MATH122B     │ MATH129  │\n",
       "│ 3   │ MATH122B     │ CHEM152  │\n",
       "│ 4   │ ENGL101      │ ENGL102  │\n",
       "│ 5   │ MATH122B     │ PHYS141  │\n",
       "│ 6   │ MATH122B     │ AME105   │"
      ]
     },
     "execution_count": 7,
     "metadata": {},
     "output_type": "execute_result"
    }
   ],
   "source": [
    "head(courses)"
   ]
  },
  {
   "cell_type": "code",
   "execution_count": 8,
   "metadata": {},
   "outputs": [],
   "source": [
    "#create vectors of grade for each course (x) and its prerequisites in (y) \n",
    "x=Vector{Vector{Int64}}(undef,size(courses)[1]);\n",
    "y=Vector{Vector{Int64}}(undef,size(courses)[1]);\n",
    "for i in 1:size(courses)[1]\n",
    "    course = courses[i,\"Course\"]\n",
    "    pre_course = courses[i,\"Prerequisite\"]\n",
    "    temp_df=filter(row -> row.COURSE == pre_course && row.COURSE_1 == course ,df)\n",
    "    x[i] = temp_df.SCORE\n",
    "    y[i] = temp_df.SCORE_1\n",
    "end   "
   ]
  },
  {
   "cell_type": "code",
   "execution_count": 8,
   "metadata": {},
   "outputs": [],
   "source": [
    "#is there any empty vectors for any courses ?\n",
    "for i in 1:size(courses)[1]\n",
    "   if isempty(x[i])\n",
    "        @show i\n",
    "    end\n",
    "end"
   ]
  },
  {
   "cell_type": "code",
   "execution_count": 9,
   "metadata": {},
   "outputs": [
    {
     "data": {
      "text/html": [
       "<table class=\"data-frame\"><thead><tr><th></th><th>Prerequisite</th><th>Course</th><th>Correlation</th></tr><tr><th></th><th>String</th><th>String</th><th>Float64</th></tr></thead><tbody><p>37 rows × 3 columns</p><tr><th>1</th><td>MATH122B</td><td>MATH122A</td><td>0.367693</td></tr><tr><th>2</th><td>MATH129</td><td>MATH122B</td><td>0.458953</td></tr><tr><th>3</th><td>CHEM152</td><td>MATH122B</td><td>0.413517</td></tr><tr><th>4</th><td>ENGL102</td><td>ENGL101</td><td>0.432592</td></tr><tr><th>5</th><td>PHYS141</td><td>MATH122B</td><td>0.383004</td></tr><tr><th>6</th><td>AME105</td><td>MATH122B</td><td>NaN</td></tr><tr><th>7</th><td>CHEM243A</td><td>CHEM152</td><td>0.583673</td></tr><tr><th>8</th><td>AME205</td><td>AME105</td><td>0.583221</td></tr><tr><th>9</th><td>CHEE201L</td><td>AME105</td><td>-0.365148</td></tr><tr><th>10</th><td>CHEE201L</td><td>AME205</td><td>0.0</td></tr><tr><th>11</th><td>CHEM241A</td><td>CHEM152</td><td>0.592829</td></tr><tr><th>12</th><td>MATH223</td><td>MATH129</td><td>0.478399</td></tr><tr><th>13</th><td>CHEE201</td><td>MATH122B</td><td>1.0</td></tr><tr><th>14</th><td>CHEE201</td><td>MATH129</td><td>0.420176</td></tr><tr><th>15</th><td>CHEM241B</td><td>CHEM241A</td><td>0.59112</td></tr><tr><th>16</th><td>PHYS241</td><td>PHYS141</td><td>0.503391</td></tr><tr><th>17</th><td>CHEE202</td><td>CHEE201L</td><td>0.517683</td></tr><tr><th>18</th><td>MATH254</td><td>MATH129</td><td>0.433924</td></tr><tr><th>19</th><td>CHEE203</td><td>PHYS141</td><td>0.470876</td></tr><tr><th>20</th><td>CHEE303</td><td>CHEE203</td><td>0.480068</td></tr><tr><th>21</th><td>CHEM480A</td><td>CHEM152</td><td>0.463447</td></tr><tr><th>22</th><td>CHEE301A</td><td>CHEE203</td><td>0.00361147</td></tr><tr><th>23</th><td>CHEE402</td><td>AME205</td><td>NaN</td></tr><tr><th>24</th><td>CHEE305</td><td>CHEE402</td><td>0.566687</td></tr><tr><th>25</th><td>CHEE301B</td><td>CHEE303</td><td>0.177898</td></tr><tr><th>26</th><td>CHEE301B</td><td>CHEE305</td><td>0.170731</td></tr><tr><th>27</th><td>CHEE326</td><td>CHEM480A</td><td>0.488104</td></tr><tr><th>28</th><td>CHEE420</td><td>CHEE326</td><td>0.586703</td></tr><tr><th>29</th><td>CHEE420</td><td>CHEE402</td><td>0.5823</td></tr><tr><th>30</th><td>CHEE401A</td><td>CHEE420</td><td>0.251257</td></tr><tr><th>&vellip;</th><td>&vellip;</td><td>&vellip;</td><td>&vellip;</td></tr></tbody></table>"
      ],
      "text/latex": [
       "\\begin{tabular}{r|ccc}\n",
       "\t& Prerequisite & Course & Correlation\\\\\n",
       "\t\\hline\n",
       "\t& String & String & Float64\\\\\n",
       "\t\\hline\n",
       "\t1 & MATH122B & MATH122A & 0.367693 \\\\\n",
       "\t2 & MATH129 & MATH122B & 0.458953 \\\\\n",
       "\t3 & CHEM152 & MATH122B & 0.413517 \\\\\n",
       "\t4 & ENGL102 & ENGL101 & 0.432592 \\\\\n",
       "\t5 & PHYS141 & MATH122B & 0.383004 \\\\\n",
       "\t6 & AME105 & MATH122B & NaN \\\\\n",
       "\t7 & CHEM243A & CHEM152 & 0.583673 \\\\\n",
       "\t8 & AME205 & AME105 & 0.583221 \\\\\n",
       "\t9 & CHEE201L & AME105 & -0.365148 \\\\\n",
       "\t10 & CHEE201L & AME205 & 0.0 \\\\\n",
       "\t11 & CHEM241A & CHEM152 & 0.592829 \\\\\n",
       "\t12 & MATH223 & MATH129 & 0.478399 \\\\\n",
       "\t13 & CHEE201 & MATH122B & 1.0 \\\\\n",
       "\t14 & CHEE201 & MATH129 & 0.420176 \\\\\n",
       "\t15 & CHEM241B & CHEM241A & 0.59112 \\\\\n",
       "\t16 & PHYS241 & PHYS141 & 0.503391 \\\\\n",
       "\t17 & CHEE202 & CHEE201L & 0.517683 \\\\\n",
       "\t18 & MATH254 & MATH129 & 0.433924 \\\\\n",
       "\t19 & CHEE203 & PHYS141 & 0.470876 \\\\\n",
       "\t20 & CHEE303 & CHEE203 & 0.480068 \\\\\n",
       "\t21 & CHEM480A & CHEM152 & 0.463447 \\\\\n",
       "\t22 & CHEE301A & CHEE203 & 0.00361147 \\\\\n",
       "\t23 & CHEE402 & AME205 & NaN \\\\\n",
       "\t24 & CHEE305 & CHEE402 & 0.566687 \\\\\n",
       "\t25 & CHEE301B & CHEE303 & 0.177898 \\\\\n",
       "\t26 & CHEE301B & CHEE305 & 0.170731 \\\\\n",
       "\t27 & CHEE326 & CHEM480A & 0.488104 \\\\\n",
       "\t28 & CHEE420 & CHEE326 & 0.586703 \\\\\n",
       "\t29 & CHEE420 & CHEE402 & 0.5823 \\\\\n",
       "\t30 & CHEE401A & CHEE420 & 0.251257 \\\\\n",
       "\t$\\dots$ & $\\dots$ & $\\dots$ & $\\dots$ \\\\\n",
       "\\end{tabular}\n"
      ],
      "text/plain": [
       "37×3 DataFrame\n",
       "│ Row │ Prerequisite │ Course   │ Correlation │\n",
       "│     │ \u001b[90mString\u001b[39m       │ \u001b[90mString\u001b[39m   │ \u001b[90mFloat64\u001b[39m     │\n",
       "├─────┼──────────────┼──────────┼─────────────┤\n",
       "│ 1   │ MATH122B     │ MATH122A │ 0.367693    │\n",
       "│ 2   │ MATH129      │ MATH122B │ 0.458953    │\n",
       "│ 3   │ CHEM152      │ MATH122B │ 0.413517    │\n",
       "│ 4   │ ENGL102      │ ENGL101  │ 0.432592    │\n",
       "│ 5   │ PHYS141      │ MATH122B │ 0.383004    │\n",
       "│ 6   │ AME105       │ MATH122B │ NaN         │\n",
       "│ 7   │ CHEM243A     │ CHEM152  │ 0.583673    │\n",
       "│ 8   │ AME205       │ AME105   │ 0.583221    │\n",
       "│ 9   │ CHEE201L     │ AME105   │ -0.365148   │\n",
       "│ 10  │ CHEE201L     │ AME205   │ 0.0         │\n",
       "⋮\n",
       "│ 27  │ CHEE326      │ CHEM480A │ 0.488104    │\n",
       "│ 28  │ CHEE420      │ CHEE326  │ 0.586703    │\n",
       "│ 29  │ CHEE420      │ CHEE402  │ 0.5823      │\n",
       "│ 30  │ CHEE401A     │ CHEE420  │ 0.251257    │\n",
       "│ 31  │ CHEE401A     │ CHEE301B │ 0.144915    │\n",
       "│ 32  │ CHEM480B     │ CHEM152  │ 0.326231    │\n",
       "│ 33  │ CHEE442      │ CHEE303  │ 0.448637    │\n",
       "│ 34  │ CHEE413      │ CHEE420  │ 0.542867    │\n",
       "│ 35  │ CHEE443      │ CHEE442  │ 0.446059    │\n",
       "│ 36  │ CHEE401B     │ CHEE301B │ -0.0912871  │\n",
       "│ 37  │ CHEE401B     │ CHEE413  │ 0.542326    │"
      ]
     },
     "execution_count": 9,
     "metadata": {},
     "output_type": "execute_result"
    }
   ],
   "source": [
    "#create dataframe (curr) and calculate the statistical coorelation between x and y\n",
    "corr = DataFrame(Prerequisite=String[],Course=String[],Correlation=Float64[])\n",
    "for i in 1:size(courses)[1]\n",
    "    push!(corr,[courses[i,2] courses[i,1] Statistics.cor(x[i],y[i])])\n",
    "end\n",
    "corr"
   ]
  },
  {
   "cell_type": "code",
   "execution_count": null,
   "metadata": {},
   "outputs": [],
   "source": []
  }
 ],
 "metadata": {
  "kernelspec": {
   "display_name": "Julia 1.6.1",
   "language": "julia",
   "name": "julia-1.6"
  },
  "language_info": {
   "file_extension": ".jl",
   "mimetype": "application/julia",
   "name": "julia",
   "version": "1.6.1"
  }
 },
 "nbformat": 4,
 "nbformat_minor": 4
}
