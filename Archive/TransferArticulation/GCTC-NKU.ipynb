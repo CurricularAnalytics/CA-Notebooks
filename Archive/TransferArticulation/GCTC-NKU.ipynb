{
 "cells": [
  {
   "cell_type": "code",
   "execution_count": 1,
   "metadata": {},
   "outputs": [
    {
     "ename": "LoadError",
     "evalue": "IOError: cd(\"../../CurricularOptimization.jl/\"): no such file or directory (ENOENT)",
     "output_type": "error",
     "traceback": [
      "IOError: cd(\"../../CurricularOptimization.jl/\"): no such file or directory (ENOENT)",
      "",
      "Stacktrace:",
      " [1] uv_error",
      "   @ ./libuv.jl:97 [inlined]",
      " [2] cd(dir::String)",
      "   @ Base.Filesystem ./file.jl:85",
      " [3] top-level scope",
      "   @ In[1]:6",
      " [4] eval",
      "   @ ./boot.jl:360 [inlined]",
      " [5] include_string(mapexpr::typeof(REPL.softscope), mod::Module, code::String, filename::String)",
      "   @ Base ./loading.jl:1094"
     ]
    }
   ],
   "source": [
    "using CurricularAnalytics\n",
    "using JuMP\n",
    "using Gurobi\n",
    "using Pkg\n",
    "if split(pwd(),Base.Filesystem.path_separator)[end] != \"CurricularOptimization.jl\"\n",
    "    cd(\"../../CurricularOptimization.jl/\")\n",
    "end\n",
    "pkg\"activate .\"\n",
    "using CurricularOptimization\n",
    "cd(\"../CA-Notebooks/TransferArticulation\")"
   ]
  },
  {
   "cell_type": "code",
   "execution_count": 2,
   "metadata": {},
   "outputs": [
    {
     "ename": "LoadError",
     "evalue": "UndefVarError: assign_courses not defined",
     "output_type": "error",
     "traceback": [
      "UndefVarError: assign_courses not defined",
      "",
      "Stacktrace:",
      " [1] top-level scope",
      "   @ In[2]:71",
      " [2] eval",
      "   @ ./boot.jl:360 [inlined]",
      " [3] include_string(mapexpr::typeof(REPL.softscope), mod::Module, code::String, filename::String)",
      "   @ Base ./loading.jl:1094"
     ]
    }
   ],
   "source": [
    "C1 = Course(\"Math 1\", 3)\n",
    "C2 = Course(\"Math 2\", 3)\n",
    "C3 = Course(\"English\", 3)\n",
    "C4 = Course(\"Humanities 1\", 1)\n",
    "C5 = Course(\"Humanities 2\", 3)\n",
    "C6 = Course(\"Fine Arts\", 3)\n",
    "C7 = Course(\"Major 1\", 3)\n",
    "C8 = Course(\"Major 2\", 3)\n",
    "C9 = Course(\"Major 3\", 3)\n",
    "C10 = Course(\"Major 4\", 3)\n",
    "C11 = Course(\"Major 5\", 3)\n",
    "C12 = Course(\"Major 6\", 3)\n",
    "C13 = Course(\"Major 7\", 3)\n",
    "C14 = Course(\"Major 8\", 3)\n",
    "\n",
    "math_courses = Array{Pair{Course, Grade},1}()\n",
    "push!(math_courses, C1 => grade(\"D\"))  # must earn a D or better grade in course C1\n",
    "push!(math_courses, C2 => grade(\"D\"))\n",
    "dr1 = CourseSet(\"Math\", 6, math_courses, description=\"General Education Mathematics Requirements\", double_count = true) \n",
    "\n",
    "dr2 = CourseSet(\"English\", 3, [C3 => grade(\"D\")], description=\"General Education English Requirements\", double_count = true)\n",
    "\n",
    "humanities_courses = Array{Pair{Course, Grade},1}()\n",
    "push!(humanities_courses, C4 => grade(\"D\"))\n",
    "push!(humanities_courses, C5 => grade(\"D\"))\n",
    "dr3 = CourseSet(\"Humanities Requirement\", 6, humanities_courses, description=\"General Education Humanities Requirements\", double_count = true)\n",
    "\n",
    "gen_ed_reqs = Array{AbstractRequirement,1}()\n",
    "push!(gen_ed_reqs, dr1, dr2, dr3)\n",
    "dr4 = RequirementSet(\"Gen. Ed. Core\", 30, gen_ed_reqs, description=\"General Education Requirements\")\n",
    "\n",
    "dr5 = CourseSet(\"Major Requirement #1\", 3, [C1 => grade(\"C\")], description=\"1st Major Requirement\")\n",
    "dr6 = CourseSet(\"Major Requirement #2\", 3, [C8 => grade(\"C\")], description=\"2nd Major Requirement\")\n",
    "dr7 = CourseSet(\"Major Requirement #3\", 3, [C9 => grade(\"C\")], description=\"3rd Major Requirement\")\n",
    "dr8 = CourseSet(\"Major Requirement #4\", 3, [C10 => grade(\"C\")], description=\"4th Major Requirement\")\n",
    "\n",
    "dr9 = CourseSet(\"Track 1\", 6, [C11 => grade(\"C\"), C12 => grade(\"C\")])\n",
    "dr10 = CourseSet(\"Track 2\", 6, [C13 => grade(\"C\"), C14 => grade(\"C\")])\n",
    "\n",
    "track_reqs = Array{AbstractRequirement,1}()\n",
    "push!(track_reqs, dr9, dr10)\n",
    "dr11 = RequirementSet(\"Concentration\", 6, track_reqs, description=\"Concentration Requirements\", satisfy=1)\n",
    "\n",
    "electives = Array{Pair{Course, Grade},1}()\n",
    "push!(electives, C11 => grade(\"D\"))\n",
    "push!(electives, C12 => grade(\"D\"))\n",
    "push!(electives, C13 => grade(\"D\"))\n",
    "push!(electives, C14 => grade(\"D\"))\n",
    "dr12 = CourseSet(\"Program Electives\", 9, electives, description=\"Program Electives\")\n",
    "#dr13 = RequirementSet(\"No Track Electives/Major Requirement Double Count\", 6, [dr11, dr12], satisfy=1)\n",
    "\n",
    "program_reqs = Array{AbstractRequirement,1}()\n",
    "push!(program_reqs, dr4, dr5, dr6, dr7, dr8, dr11, dr12)\n",
    "#push!(program_reqs, dr4, dr5, dr6, dr7, dr8, dr11, dr12, dr13)\n",
    "program_requirements = RequirementSet(\"Program Requirements\", 120, program_reqs, description=\"Degree Requirements for the BS Program\")\n",
    "\n",
    "cr1 = CourseRecord(C1, grade(\"A\"))  # counts as math gen ed AND 1st major requirement\n",
    "cr2 = CourseRecord(C2, grade(\"W\"))  # doesn't count, replaced by cr3\n",
    "cr3 = CourseRecord(C2, grade(\"C➖\")) # counts as math gen ed\n",
    "cr4 = CourseRecord(C3, grade(\"D➖\")) # doesn't count, grade too low\n",
    "cr5 = CourseRecord(C7, grade(\"C➖\"))  # doesn't count for Maj. Req. #1, grade too low\n",
    "cr6 = CourseRecord(C8, grade(\"B\"))  # counts as Maj. Req #2\n",
    "cr7 = CourseRecord(C13, grade(\"A\")) # counts as track or program elective\n",
    "cr8 = CourseRecord(C14, grade(\"B\")) # counts as track or programelective\n",
    "cr9 = CourseRecord(C12, grade(\"A\")) # counts as track or program elective\n",
    "cr10 = CourseRecord(C11, grade(\"A\")) # counts as track or program elective\n",
    "\n",
    "transcript = Array{CourseRecord,1}()\n",
    "push!(transcript, cr1, cr2, cr3, cr4, cr5, cr6, cr7, cr8, cr9, cr10)\n",
    "\n",
    "model = assign_courses(transcript, program_requirements, applied_credits)"
   ]
  },
  {
   "cell_type": "code",
   "execution_count": 3,
   "metadata": {},
   "outputs": [
    {
     "ename": "LoadError",
     "evalue": "UndefVarError: model not defined",
     "output_type": "error",
     "traceback": [
      "UndefVarError: model not defined",
      "",
      "Stacktrace:",
      " [1] top-level scope",
      "   @ :0",
      " [2] eval",
      "   @ ./boot.jl:360 [inlined]",
      " [3] include_string(mapexpr::typeof(REPL.softscope), mod::Module, code::String, filename::String)",
      "   @ Base ./loading.jl:1094"
     ]
    }
   ],
   "source": [
    "model"
   ]
  },
  {
   "cell_type": "code",
   "execution_count": null,
   "metadata": {},
   "outputs": [],
   "source": []
  }
 ],
 "metadata": {
  "kernelspec": {
   "display_name": "Julia 1.6.0",
   "language": "julia",
   "name": "julia-1.6"
  },
  "language_info": {
   "file_extension": ".jl",
   "mimetype": "application/julia",
   "name": "julia",
   "version": "1.6.0"
  }
 },
 "nbformat": 4,
 "nbformat_minor": 2
}
