{
 "cells": [
  {
   "cell_type": "markdown",
   "id": "1cab6689",
   "metadata": {},
   "source": [
    "# Curricular Analytics Study of ABET Accredited Civil Engineering Program"
   ]
  },
  {
   "cell_type": "markdown",
   "id": "ff64c585",
   "metadata": {},
   "source": [
    "Civil engineering is arguably one of the oldest engineering disciplines in the United States. This notebook contains a preliminary analysis of the curricula and degree plans associated with the undergraduate Civil Engineering programs of different ABET Accredited school. Along with The University of Arizona, the schools which are included in this study are given below-\n",
    "\n",
    "1. Georgia Institute of Technology\n",
    "2. University of California-San Diego\n",
    "3. University of Florida\n",
    "4. Stanford University\n",
    "5. University of California-Berkeley\n",
    "6. Cornel University\n",
    "7. Carnegie Mellon University\n",
    "8. Purdue University \n",
    "9. University of Michigan-Ann Arbor\n",
    "10. Arizona State University\n",
    "\n",
    "Except Arizona State University, all the above-mentioned schools are members of AAU-Association of American Universities. AAU member universities collectively work to shape policy for higher education, science, and innovation and promote best practices in undergraduate education to increase the contribution of them to American society. \n"
   ]
  },
  {
   "cell_type": "markdown",
   "id": "aa0beea7",
   "metadata": {},
   "source": [
    "# Curricular Analytics ToolBox"
   ]
  },
  {
   "cell_type": "markdown",
   "id": "61774a22",
   "metadata": {},
   "source": [
    "The analyses in this notebook makes use of the Curricular Analytics toolbox built using the Julia programming language and available as open source software (Heileman, et. al., 2019). As a starting point, it will be useful to read the toolbox documenation, as well as the Heileman, et. al., (2018) paper listed in the References section below. \n",
    "\n",
    "In order to execute the analyses provided in this notebook, we need to load the following Julia packages:\n"
   ]
  },
  {
   "cell_type": "code",
   "execution_count": 21,
   "id": "dbc34a1c",
   "metadata": {},
   "outputs": [],
   "source": [
    "using CurricularAnalytics, CurricularVisualization\n",
    "using Glob\n",
    "using StatsPlots"
   ]
  },
  {
   "cell_type": "markdown",
   "id": "e2b35a98",
   "metadata": {},
   "source": [
    "# Data Structure"
   ]
  },
  {
   "cell_type": "markdown",
   "id": "0b768737",
   "metadata": {},
   "source": [
    "Degree plans associated with the undergraduate Civil Engineering programs of different schools were collected from their websites. The degree plans were stored as CSV files using the format for degree plans specified in the Curricular Analytics toolbox. The files are organized in a directory structure that is assumed to be in the same directory as this notebook as follows: ./Civil_Curricula\n",
    "\n",
    "To get a sense of the diversity in the complexities of civil enginering program curricula, below we provide visulizations of The University of Arizona civil engineering curriculum. The basic_metrics() function has been used to output a set of basic metrics associated with a curriculum. \n",
    "\n"
   ]
  },
  {
   "cell_type": "code",
   "execution_count": 22,
   "id": "c435b642",
   "metadata": {},
   "outputs": [
    {
     "data": {
      "application/vnd.webio.node+json": {
       "children": [
        {
         "children": [
          ""
         ],
         "instanceArgs": {
          "namespace": "html",
          "tag": "iframe"
         },
         "nodeType": "DOM",
         "props": {
          "events": {
           "load": "(function (){this.contentWindow.postMessage({\"options\":{\"hideTerms\":false,\"edit\":false},\"curriculum\":{\"name\":\"Civil Engineering\",\"dp_name\":\"2021-2022\",\"curriculum_terms\":[{\"name\":\"Term 1\",\"curriculum_items\":[{\"curriculum_requisites\":[],\"name\":\"MATH 122A\",\"metrics\":{\"centrality\":0,\"complexity\":37.0,\"blocking factor\":28,\"delay factor\":9.0},\"nameSub\":\"Functions for Calculus\",\"id\":1,\"credits\":1,\"nameCanonical\":\"\"},{\"curriculum_requisites\":[{\"source_id\":1,\"target_id\":2,\"type\":\"CurriculumCorequisite\"}],\"name\":\"MATH 122B\",\"metrics\":{\"centrality\":206,\"complexity\":36.0,\"blocking factor\":27,\"delay factor\":9.0},\"nameSub\":\"First Semester Calculus\",\"id\":2,\"credits\":4,\"nameCanonical\":\"\"},{\"curriculum_requisites\":[{\"source_id\":2,\"target_id\":3,\"type\":\"CurriculumCorequisite\"}],\"name\":\"CHEM 151\",\"metrics\":{\"centrality\":0,\"complexity\":3.0,\"blocking factor\":0,\"delay factor\":3.0},\"nameSub\":\"Gen Chemistry I\",\"id\":3,\"credits\":4,\"nameCanonical\":\"\"},{\"curriculum_requisites\":[],\"name\":\"ENGL 101\",\"metrics\":{\"centrality\":0,\"complexity\":3.0,\"blocking factor\":1,\"delay factor\":2.0},\"nameSub\":\"First-year Comp\",\"id\":4,\"credits\":3,\"nameCanonical\":\"\"},{\"curriculum_requisites\":[],\"name\":\"ENGR 102\",\"metrics\":{\"centrality\":0,\"complexity\":1.0,\"blocking factor\":0,\"delay factor\":1.0},\"nameSub\":\"Intro to Engineering\",\"id\":5,\"credits\":3,\"nameCanonical\":\"\"},{\"curriculum_requisites\":[],\"name\":\" \",\"metrics\":{\"centrality\":0,\"complexity\":1.0,\"blocking factor\":0,\"delay factor\":1.0},\"nameSub\":\"Tier I General Ed\",\"id\":6,\"credits\":3,\"nameCanonical\":\"\"}],\"id\":1},{\"name\":\"Term 2\",\"curriculum_items\":[{\"curriculum_requisites\":[{\"source_id\":2,\"target_id\":7,\"type\":\"CurriculumPrerequisite\"}],\"name\":\"MATH 129\",\"metrics\":{\"centrality\":113,\"complexity\":32.0,\"blocking factor\":23,\"delay factor\":9.0},\"nameSub\":\"Calculus II\",\"id\":7,\"credits\":3,\"nameCanonical\":\"\"},{\"curriculum_requisites\":[{\"source_id\":2,\"target_id\":8,\"type\":\"CurriculumPrerequisite\"}],\"name\":\"MCB 181R\",\"metrics\":{\"centrality\":0,\"complexity\":3.0,\"blocking factor\":0,\"delay factor\":3.0},\"nameSub\":\"Intro Biology I\",\"id\":8,\"credits\":4,\"nameCanonical\":\"\"},{\"curriculum_requisites\":[{\"source_id\":2,\"target_id\":9,\"type\":\"CurriculumPrerequisite\"}],\"name\":\"PHYS 141\",\"metrics\":{\"centrality\":87,\"complexity\":26.0,\"blocking factor\":17,\"delay factor\":9.0},\"nameSub\":\"Intro Mechanics\",\"id\":9,\"credits\":4,\"nameCanonical\":\"\"},{\"curriculum_requisites\":[{\"source_id\":4,\"target_id\":10,\"type\":\"CurriculumPrerequisite\"}],\"name\":\"ENGL 102\",\"metrics\":{\"centrality\":0,\"complexity\":2.0,\"blocking factor\":0,\"delay factor\":2.0},\"nameSub\":\"First-year Comp\",\"id\":10,\"credits\":3,\"nameCanonical\":\"\"},{\"curriculum_requisites\":[],\"name\":\" \",\"metrics\":{\"centrality\":0,\"complexity\":1.0,\"blocking factor\":0,\"delay factor\":1.0},\"nameSub\":\"Tier I General Ed\",\"id\":11,\"credits\":3,\"nameCanonical\":\"\"}],\"id\":2},{\"name\":\"Term 3\",\"curriculum_items\":[{\"curriculum_requisites\":[],\"name\":\"CE 210\",\"metrics\":{\"centrality\":0,\"complexity\":3.0,\"blocking factor\":1,\"delay factor\":2.0},\"nameSub\":\"Eng Graphics\",\"id\":12,\"credits\":1,\"nameCanonical\":\"\"},{\"curriculum_requisites\":[{\"source_id\":7,\"target_id\":13,\"type\":\"CurriculumPrerequisite\"},{\"source_id\":9,\"target_id\":13,\"type\":\"CurriculumPrerequisite\"}],\"name\":\"CE 214\",\"metrics\":{\"centrality\":166,\"complexity\":24.0,\"blocking factor\":15,\"delay factor\":9.0},\"nameSub\":\"Statics\",\"id\":13,\"credits\":3,\"nameCanonical\":\"\"},{\"curriculum_requisites\":[{\"source_id\":7,\"target_id\":14,\"type\":\"CurriculumPrerequisite\"}],\"name\":\"MATH  223\",\"metrics\":{\"centrality\":18,\"complexity\":10.0,\"blocking factor\":4,\"delay factor\":6.0},\"nameSub\":\"Vector Calculus\",\"id\":14,\"credits\":4,\"nameCanonical\":\"\"},{\"curriculum_requisites\":[{\"source_id\":7,\"target_id\":15,\"type\":\"CurriculumPrerequisite\"},{\"source_id\":9,\"target_id\":15,\"type\":\"CurriculumPrerequisite\"}],\"name\":\"PHYS 241\",\"metrics\":{\"centrality\":0,\"complexity\":4.0,\"blocking factor\":0,\"delay factor\":4.0},\"nameSub\":\"Electricity & Magnetism\",\"id\":15,\"credits\":4,\"nameCanonical\":\"\"},{\"curriculum_requisites\":[],\"name\":\" \",\"metrics\":{\"centrality\":0,\"complexity\":1.0,\"blocking factor\":0,\"delay factor\":1.0},\"nameSub\":\"Tier I General Ed\",\"id\":16,\"credits\":3,\"nameCanonical\":\"\"}],\"id\":3},{\"name\":\"Term 4\",\"curriculum_items\":[{\"curriculum_requisites\":[{\"source_id\":13,\"target_id\":17,\"type\":\"CurriculumPrerequisite\"}],\"name\":\"CE 215\",\"metrics\":{\"centrality\":102,\"complexity\":18.0,\"blocking factor\":9,\"delay factor\":9.0},\"nameSub\":\"Mechanics of Solids\",\"id\":17,\"credits\":3,\"nameCanonical\":\"\"},{\"curriculum_requisites\":[{\"source_id\":13,\"target_id\":18,\"type\":\"CurriculumPrerequisite\"}],\"name\":\"CE 218\",\"metrics\":{\"centrality\":54,\"complexity\":13.0,\"blocking factor\":5,\"delay factor\":8.0},\"nameSub\":\"Mechanics of Fluids\",\"id\":18,\"credits\":3,\"nameCanonical\":\"\"},{\"curriculum_requisites\":[{\"source_id\":14,\"target_id\":19,\"type\":\"CurriculumPrerequisite\"}],\"name\":\"MATH 254\",\"metrics\":{\"centrality\":12,\"complexity\":8.0,\"blocking factor\":2,\"delay factor\":6.0},\"nameSub\":\"Intro. to ODEs\",\"id\":19,\"credits\":3,\"nameCanonical\":\"\"},{\"curriculum_requisites\":[{\"source_id\":12,\"target_id\":20,\"type\":\"CurriculumPrerequisite\"}],\"name\":\"CE  251\",\"metrics\":{\"centrality\":0,\"complexity\":2.0,\"blocking factor\":0,\"delay factor\":2.0},\"nameSub\":\"Elementary Surveying\",\"id\":20,\"credits\":3,\"nameCanonical\":\"\"},{\"curriculum_requisites\":[{\"source_id\":14,\"target_id\":21,\"type\":\"CurriculumPrerequisite\"}],\"name\":\"CE 260\",\"metrics\":{\"centrality\":6,\"complexity\":7.0,\"blocking factor\":1,\"delay factor\":6.0},\"nameSub\":\"Computer Prog in CE\",\"id\":21,\"credits\":1,\"nameCanonical\":\"\"},{\"curriculum_requisites\":[],\"name\":\" \",\"metrics\":{\"centrality\":0,\"complexity\":1.0,\"blocking factor\":0,\"delay factor\":1.0},\"nameSub\":\"Tier I General Ed\",\"id\":22,\"credits\":3,\"nameCanonical\":\"\"}],\"id\":4},{\"name\":\"Term 5\",\"curriculum_items\":[{\"curriculum_requisites\":[],\"name\":\"CE 301\",\"metrics\":{\"centrality\":0,\"complexity\":5.0,\"blocking factor\":2,\"delay factor\":3.0},\"nameSub\":\"Eng Communications\",\"id\":23,\"credits\":3,\"nameCanonical\":\"\"},{\"curriculum_requisites\":[{\"source_id\":21,\"target_id\":24,\"type\":\"CurriculumPrerequisite\"},{\"source_id\":19,\"target_id\":24,\"type\":\"CurriculumPrerequisite\"}],\"name\":\"CE 303\",\"metrics\":{\"centrality\":0,\"complexity\":6.0,\"blocking factor\":0,\"delay factor\":6.0},\"nameSub\":\"Num Analysis for CE\",\"id\":24,\"credits\":3,\"nameCanonical\":\"\"},{\"curriculum_requisites\":[{\"source_id\":7,\"target_id\":25,\"type\":\"CurriculumPrerequisite\"}],\"name\":\"CE 310\",\"metrics\":{\"centrality\":0,\"complexity\":4.0,\"blocking factor\":0,\"delay factor\":4.0},\"nameSub\":\"Prob & Stats for CE\",\"id\":25,\"credits\":3,\"nameCanonical\":\"\"},{\"curriculum_requisites\":[{\"source_id\":17,\"target_id\":26,\"type\":\"CurriculumPrerequisite\"}],\"name\":\"CE 333\",\"metrics\":{\"centrality\":48,\"complexity\":13.0,\"blocking factor\":4,\"delay factor\":9.0},\"nameSub\":\"Elem Structural Analysis\",\"id\":26,\"credits\":3,\"nameCanonical\":\"\"},{\"curriculum_requisites\":[],\"name\":\"CE 363\",\"metrics\":{\"centrality\":0,\"complexity\":3.0,\"blocking factor\":1,\"delay factor\":2.0},\"nameSub\":\"Tranport Eng and Pavement Design\",\"id\":27,\"credits\":4,\"nameCanonical\":\"\"}],\"id\":5},{\"name\":\"Term 6\",\"curriculum_items\":[{\"curriculum_requisites\":[{\"source_id\":18,\"target_id\":28,\"type\":\"CurriculumPrerequisite\"}],\"name\":\"CE 323\",\"metrics\":{\"centrality\":30,\"complexity\":10.0,\"blocking factor\":2,\"delay factor\":8.0},\"nameSub\":\"Hydraulic Eng and Design\",\"id\":28,\"credits\":4,\"nameCanonical\":\"\"},{\"curriculum_requisites\":[{\"source_id\":26,\"target_id\":29,\"type\":\"CurriculumPrerequisite\"}],\"name\":\"CE 335\",\"metrics\":{\"centrality\":34,\"complexity\":11.0,\"blocking factor\":2,\"delay factor\":9.0},\"nameSub\":\"Struct Design in Concrete\",\"id\":29,\"credits\":3,\"nameCanonical\":\"\"},{\"curriculum_requisites\":[{\"source_id\":17,\"target_id\":30,\"type\":\"CurriculumPrerequisite\"}],\"name\":\"CE 343\",\"metrics\":{\"centrality\":42,\"complexity\":10.0,\"blocking factor\":3,\"delay factor\":7.0},\"nameSub\":\"Soil Mechanics\",\"id\":30,\"credits\":3,\"nameCanonical\":\"\"},{\"curriculum_requisites\":[{\"source_id\":18,\"target_id\":31,\"type\":\"CurriculumPrerequisite\"}],\"name\":\"CE 370R\",\"metrics\":{\"centrality\":0,\"complexity\":6.0,\"blocking factor\":0,\"delay factor\":6.0},\"nameSub\":\"Environ and Water Eng\",\"id\":31,\"credits\":3,\"nameCanonical\":\"\"},{\"curriculum_requisites\":[{\"source_id\":18,\"target_id\":32,\"type\":\"CurriculumCorequisite\"}],\"name\":\"CE 329\",\"metrics\":{\"centrality\":0,\"complexity\":6.0,\"blocking factor\":0,\"delay factor\":6.0},\"nameSub\":\"CE lab elective/Fluid Mechanics Lab\",\"id\":32,\"credits\":1,\"nameCanonical\":\"\"},{\"curriculum_requisites\":[{\"source_id\":13,\"target_id\":33,\"type\":\"CurriculumPrerequisite\"},{\"source_id\":19,\"target_id\":33,\"type\":\"CurriculumPrerequisite\"}],\"name\":\"ENGR 211I\",\"metrics\":{\"centrality\":0,\"complexity\":6.0,\"blocking factor\":0,\"delay factor\":6.0},\"nameSub\":\"Eng Sci Module: Dynamics\",\"id\":33,\"credits\":1,\"nameCanonical\":\"\"},{\"curriculum_requisites\":[{\"source_id\":7,\"target_id\":34,\"type\":\"CurriculumPrerequisite\"}],\"name\":\"ENGR 211P\",\"metrics\":{\"centrality\":0,\"complexity\":4.0,\"blocking factor\":0,\"delay factor\":4.0},\"nameSub\":\"Eng Sci Module: Eng Econ\",\"id\":34,\"credits\":1,\"nameCanonical\":\"\"}],\"id\":6},{\"name\":\"Term 7\",\"curriculum_items\":[{\"curriculum_requisites\":[{\"source_id\":29,\"target_id\":35,\"type\":\"CurriculumPrerequisite\"},{\"source_id\":28,\"target_id\":35,\"type\":\"CurriculumPrerequisite\"},{\"source_id\":23,\"target_id\":35,\"type\":\"CurriculumCorequisite\"}],\"name\":\"CE 408A\",\"metrics\":{\"centrality\":37,\"complexity\":10.0,\"blocking factor\":1,\"delay factor\":9.0},\"nameSub\":\"Issues in CE Practice\",\"id\":35,\"credits\":3,\"nameCanonical\":\"\"},{\"curriculum_requisites\":[{\"source_id\":26,\"target_id\":36,\"type\":\"CurriculumPrerequisite\"}],\"name\":\"CE 334\",\"metrics\":{\"centrality\":0,\"complexity\":7.0,\"blocking factor\":0,\"delay factor\":7.0},\"nameSub\":\"Struct design in Steel\",\"id\":36,\"credits\":3,\"nameCanonical\":\"\"},{\"curriculum_requisites\":[{\"source_id\":30,\"target_id\":37,\"type\":\"CurriculumPrerequisite\"}],\"name\":\"CE 440\",\"metrics\":{\"centrality\":0,\"complexity\":7.0,\"blocking factor\":0,\"delay factor\":7.0},\"nameSub\":\"Foundation Eng\",\"id\":37,\"credits\":3,\"nameCanonical\":\"\"},{\"curriculum_requisites\":[],\"name\":\" \",\"metrics\":{\"centrality\":0,\"complexity\":1.0,\"blocking factor\":0,\"delay factor\":1.0},\"nameSub\":\"CE Technical Elective\",\"id\":38,\"credits\":3,\"nameCanonical\":\"\"},{\"curriculum_requisites\":[],\"name\":\" \",\"metrics\":{\"centrality\":0,\"complexity\":1.0,\"blocking factor\":0,\"delay factor\":1.0},\"nameSub\":\"CE Technical Elective\",\"id\":39,\"credits\":3,\"nameCanonical\":\"\"},{\"curriculum_requisites\":[{\"source_id\":30,\"target_id\":40,\"type\":\"CurriculumCorequisite\"}],\"name\":\"CE 349\",\"metrics\":{\"centrality\":0,\"complexity\":7.0,\"blocking factor\":0,\"delay factor\":7.0},\"nameSub\":\"CE lab Elective/Solid LAB\",\"id\":40,\"credits\":1,\"nameCanonical\":\"\"}],\"id\":7},{\"name\":\"Term 8\",\"curriculum_items\":[{\"curriculum_requisites\":[{\"source_id\":35,\"target_id\":41,\"type\":\"CurriculumPrerequisite\"},{\"source_id\":29,\"target_id\":41,\"type\":\"CurriculumPrerequisite\"},{\"source_id\":27,\"target_id\":41,\"type\":\"CurriculumPrerequisite\"},{\"source_id\":30,\"target_id\":41,\"type\":\"CurriculumPrerequisite\"},{\"source_id\":28,\"target_id\":41,\"type\":\"CurriculumPrerequisite\"},{\"source_id\":23,\"target_id\":41,\"type\":\"CurriculumPrerequisite\"}],\"name\":\"CE 408B\",\"metrics\":{\"centrality\":0,\"complexity\":9.0,\"blocking factor\":0,\"delay factor\":9.0},\"nameSub\":\"CE Senior Capstone Design\",\"id\":41,\"credits\":3,\"nameCanonical\":\"\"},{\"curriculum_requisites\":[],\"name\":\" \",\"metrics\":{\"centrality\":0,\"complexity\":1.0,\"blocking factor\":0,\"delay factor\":1.0},\"nameSub\":\"CE Technical Elective\",\"id\":42,\"credits\":3,\"nameCanonical\":\"\"},{\"curriculum_requisites\":[],\"name\":\" \",\"metrics\":{\"centrality\":0,\"complexity\":1.0,\"blocking factor\":0,\"delay factor\":1.0},\"nameSub\":\"CE Technical Elective\",\"id\":43,\"credits\":3,\"nameCanonical\":\"\"},{\"curriculum_requisites\":[{\"source_id\":17,\"target_id\":44,\"type\":\"CurriculumPrerequisite\"}],\"name\":\"CE 389\",\"metrics\":{\"centrality\":0,\"complexity\":6.0,\"blocking factor\":0,\"delay factor\":6.0},\"nameSub\":\"CE LAB Elective/Materials Testing Lab\",\"id\":44,\"credits\":1,\"nameCanonical\":\"\"},{\"curriculum_requisites\":[],\"name\":\" \",\"metrics\":{\"centrality\":0,\"complexity\":1.0,\"blocking factor\":0,\"delay factor\":1.0},\"nameSub\":\"Tier II General Ed.\",\"id\":45,\"credits\":3,\"nameCanonical\":\"\"},{\"curriculum_requisites\":[],\"name\":\" \",\"metrics\":{\"centrality\":0,\"complexity\":1.0,\"blocking factor\":0,\"delay factor\":1.0},\"nameSub\":\"Tier II General Ed.\",\"id\":46,\"credits\":3,\"nameCanonical\":\"\"}],\"id\":8}],\"institution\":\"Univerisity of Arizona\"}},\"*\"); window.removeEventListener(\"message\",window.messageReceived); window.messageReceived=(function (event){return (event.data.curriculum!==undefined) ? (WebIO.setval({\"name\":\"curriculum-data\",\"scope\":\"866066435281500927\",\"id\":\"12813852657246764557\",\"type\":\"observable\"},event.data.curriculum)) : undefined}); return window.addEventListener(\"message\",window.messageReceived)})"
          },
          "id": "curriculum",
          "src": "https://curricula-api-embed.damoursystems.com/",
          "style": {
           "border": "none",
           "height": "100vh",
           "margin": "0",
           "padding": "0",
           "width": "100%"
          }
         },
         "type": "node"
        }
       ],
       "instanceArgs": {
        "handlers": {},
        "id": "866066435281500927",
        "imports": {
         "data": [],
         "type": "async_block"
        },
        "mount_callbacks": [],
        "observables": {
         "curriculum-data": {
          "id": "12813852657246764557",
          "sync": true,
          "value": {
           "curriculum": {
            "curriculum_terms": [
             {
              "curriculum_items": [
               {
                "credits": 1,
                "curriculum_requisites": [],
                "id": 1,
                "metrics": {
                 "blocking factor": 28,
                 "centrality": 0,
                 "complexity": 37,
                 "delay factor": 9
                },
                "name": "MATH 122A",
                "nameCanonical": "",
                "nameSub": "Functions for Calculus"
               },
               {
                "credits": 4,
                "curriculum_requisites": [
                 {
                  "source_id": 1,
                  "target_id": 2,
                  "type": "CurriculumCorequisite"
                 }
                ],
                "id": 2,
                "metrics": {
                 "blocking factor": 27,
                 "centrality": 206,
                 "complexity": 36,
                 "delay factor": 9
                },
                "name": "MATH 122B",
                "nameCanonical": "",
                "nameSub": "First Semester Calculus"
               },
               {
                "credits": 4,
                "curriculum_requisites": [
                 {
                  "source_id": 2,
                  "target_id": 3,
                  "type": "CurriculumCorequisite"
                 }
                ],
                "id": 3,
                "metrics": {
                 "blocking factor": 0,
                 "centrality": 0,
                 "complexity": 3,
                 "delay factor": 3
                },
                "name": "CHEM 151",
                "nameCanonical": "",
                "nameSub": "Gen Chemistry I"
               },
               {
                "credits": 3,
                "curriculum_requisites": [],
                "id": 4,
                "metrics": {
                 "blocking factor": 1,
                 "centrality": 0,
                 "complexity": 3,
                 "delay factor": 2
                },
                "name": "ENGL 101",
                "nameCanonical": "",
                "nameSub": "First-year Comp"
               },
               {
                "credits": 3,
                "curriculum_requisites": [],
                "id": 5,
                "metrics": {
                 "blocking factor": 0,
                 "centrality": 0,
                 "complexity": 1,
                 "delay factor": 1
                },
                "name": "ENGR 102",
                "nameCanonical": "",
                "nameSub": "Intro to Engineering"
               },
               {
                "credits": 3,
                "curriculum_requisites": [],
                "id": 6,
                "metrics": {
                 "blocking factor": 0,
                 "centrality": 0,
                 "complexity": 1,
                 "delay factor": 1
                },
                "name": " ",
                "nameCanonical": "",
                "nameSub": "Tier I General Ed"
               }
              ],
              "id": 1,
              "name": "Term 1"
             },
             {
              "curriculum_items": [
               {
                "credits": 3,
                "curriculum_requisites": [
                 {
                  "source_id": 2,
                  "target_id": 7,
                  "type": "CurriculumPrerequisite"
                 }
                ],
                "id": 7,
                "metrics": {
                 "blocking factor": 23,
                 "centrality": 113,
                 "complexity": 32,
                 "delay factor": 9
                },
                "name": "MATH 129",
                "nameCanonical": "",
                "nameSub": "Calculus II"
               },
               {
                "credits": 4,
                "curriculum_requisites": [
                 {
                  "source_id": 2,
                  "target_id": 8,
                  "type": "CurriculumPrerequisite"
                 }
                ],
                "id": 8,
                "metrics": {
                 "blocking factor": 0,
                 "centrality": 0,
                 "complexity": 3,
                 "delay factor": 3
                },
                "name": "MCB 181R",
                "nameCanonical": "",
                "nameSub": "Intro Biology I"
               },
               {
                "credits": 4,
                "curriculum_requisites": [
                 {
                  "source_id": 2,
                  "target_id": 9,
                  "type": "CurriculumPrerequisite"
                 }
                ],
                "id": 9,
                "metrics": {
                 "blocking factor": 17,
                 "centrality": 87,
                 "complexity": 26,
                 "delay factor": 9
                },
                "name": "PHYS 141",
                "nameCanonical": "",
                "nameSub": "Intro Mechanics"
               },
               {
                "credits": 3,
                "curriculum_requisites": [
                 {
                  "source_id": 4,
                  "target_id": 10,
                  "type": "CurriculumPrerequisite"
                 }
                ],
                "id": 10,
                "metrics": {
                 "blocking factor": 0,
                 "centrality": 0,
                 "complexity": 2,
                 "delay factor": 2
                },
                "name": "ENGL 102",
                "nameCanonical": "",
                "nameSub": "First-year Comp"
               },
               {
                "credits": 3,
                "curriculum_requisites": [],
                "id": 11,
                "metrics": {
                 "blocking factor": 0,
                 "centrality": 0,
                 "complexity": 1,
                 "delay factor": 1
                },
                "name": " ",
                "nameCanonical": "",
                "nameSub": "Tier I General Ed"
               }
              ],
              "id": 2,
              "name": "Term 2"
             },
             {
              "curriculum_items": [
               {
                "credits": 1,
                "curriculum_requisites": [],
                "id": 12,
                "metrics": {
                 "blocking factor": 1,
                 "centrality": 0,
                 "complexity": 3,
                 "delay factor": 2
                },
                "name": "CE 210",
                "nameCanonical": "",
                "nameSub": "Eng Graphics"
               },
               {
                "credits": 3,
                "curriculum_requisites": [
                 {
                  "source_id": 7,
                  "target_id": 13,
                  "type": "CurriculumPrerequisite"
                 },
                 {
                  "source_id": 9,
                  "target_id": 13,
                  "type": "CurriculumPrerequisite"
                 }
                ],
                "id": 13,
                "metrics": {
                 "blocking factor": 15,
                 "centrality": 166,
                 "complexity": 24,
                 "delay factor": 9
                },
                "name": "CE 214",
                "nameCanonical": "",
                "nameSub": "Statics"
               },
               {
                "credits": 4,
                "curriculum_requisites": [
                 {
                  "source_id": 7,
                  "target_id": 14,
                  "type": "CurriculumPrerequisite"
                 }
                ],
                "id": 14,
                "metrics": {
                 "blocking factor": 4,
                 "centrality": 18,
                 "complexity": 10,
                 "delay factor": 6
                },
                "name": "MATH  223",
                "nameCanonical": "",
                "nameSub": "Vector Calculus"
               },
               {
                "credits": 4,
                "curriculum_requisites": [
                 {
                  "source_id": 7,
                  "target_id": 15,
                  "type": "CurriculumPrerequisite"
                 },
                 {
                  "source_id": 9,
                  "target_id": 15,
                  "type": "CurriculumPrerequisite"
                 }
                ],
                "id": 15,
                "metrics": {
                 "blocking factor": 0,
                 "centrality": 0,
                 "complexity": 4,
                 "delay factor": 4
                },
                "name": "PHYS 241",
                "nameCanonical": "",
                "nameSub": "Electricity & Magnetism"
               },
               {
                "credits": 3,
                "curriculum_requisites": [],
                "id": 16,
                "metrics": {
                 "blocking factor": 0,
                 "centrality": 0,
                 "complexity": 1,
                 "delay factor": 1
                },
                "name": " ",
                "nameCanonical": "",
                "nameSub": "Tier I General Ed"
               }
              ],
              "id": 3,
              "name": "Term 3"
             },
             {
              "curriculum_items": [
               {
                "credits": 3,
                "curriculum_requisites": [
                 {
                  "source_id": 13,
                  "target_id": 17,
                  "type": "CurriculumPrerequisite"
                 }
                ],
                "id": 17,
                "metrics": {
                 "blocking factor": 9,
                 "centrality": 102,
                 "complexity": 18,
                 "delay factor": 9
                },
                "name": "CE 215",
                "nameCanonical": "",
                "nameSub": "Mechanics of Solids"
               },
               {
                "credits": 3,
                "curriculum_requisites": [
                 {
                  "source_id": 13,
                  "target_id": 18,
                  "type": "CurriculumPrerequisite"
                 }
                ],
                "id": 18,
                "metrics": {
                 "blocking factor": 5,
                 "centrality": 54,
                 "complexity": 13,
                 "delay factor": 8
                },
                "name": "CE 218",
                "nameCanonical": "",
                "nameSub": "Mechanics of Fluids"
               },
               {
                "credits": 3,
                "curriculum_requisites": [
                 {
                  "source_id": 14,
                  "target_id": 19,
                  "type": "CurriculumPrerequisite"
                 }
                ],
                "id": 19,
                "metrics": {
                 "blocking factor": 2,
                 "centrality": 12,
                 "complexity": 8,
                 "delay factor": 6
                },
                "name": "MATH 254",
                "nameCanonical": "",
                "nameSub": "Intro. to ODEs"
               },
               {
                "credits": 3,
                "curriculum_requisites": [
                 {
                  "source_id": 12,
                  "target_id": 20,
                  "type": "CurriculumPrerequisite"
                 }
                ],
                "id": 20,
                "metrics": {
                 "blocking factor": 0,
                 "centrality": 0,
                 "complexity": 2,
                 "delay factor": 2
                },
                "name": "CE  251",
                "nameCanonical": "",
                "nameSub": "Elementary Surveying"
               },
               {
                "credits": 1,
                "curriculum_requisites": [
                 {
                  "source_id": 14,
                  "target_id": 21,
                  "type": "CurriculumPrerequisite"
                 }
                ],
                "id": 21,
                "metrics": {
                 "blocking factor": 1,
                 "centrality": 6,
                 "complexity": 7,
                 "delay factor": 6
                },
                "name": "CE 260",
                "nameCanonical": "",
                "nameSub": "Computer Prog in CE"
               },
               {
                "credits": 3,
                "curriculum_requisites": [],
                "id": 22,
                "metrics": {
                 "blocking factor": 0,
                 "centrality": 0,
                 "complexity": 1,
                 "delay factor": 1
                },
                "name": " ",
                "nameCanonical": "",
                "nameSub": "Tier I General Ed"
               }
              ],
              "id": 4,
              "name": "Term 4"
             },
             {
              "curriculum_items": [
               {
                "credits": 3,
                "curriculum_requisites": [],
                "id": 23,
                "metrics": {
                 "blocking factor": 2,
                 "centrality": 0,
                 "complexity": 5,
                 "delay factor": 3
                },
                "name": "CE 301",
                "nameCanonical": "",
                "nameSub": "Eng Communications"
               },
               {
                "credits": 3,
                "curriculum_requisites": [
                 {
                  "source_id": 21,
                  "target_id": 24,
                  "type": "CurriculumPrerequisite"
                 },
                 {
                  "source_id": 19,
                  "target_id": 24,
                  "type": "CurriculumPrerequisite"
                 }
                ],
                "id": 24,
                "metrics": {
                 "blocking factor": 0,
                 "centrality": 0,
                 "complexity": 6,
                 "delay factor": 6
                },
                "name": "CE 303",
                "nameCanonical": "",
                "nameSub": "Num Analysis for CE"
               },
               {
                "credits": 3,
                "curriculum_requisites": [
                 {
                  "source_id": 7,
                  "target_id": 25,
                  "type": "CurriculumPrerequisite"
                 }
                ],
                "id": 25,
                "metrics": {
                 "blocking factor": 0,
                 "centrality": 0,
                 "complexity": 4,
                 "delay factor": 4
                },
                "name": "CE 310",
                "nameCanonical": "",
                "nameSub": "Prob & Stats for CE"
               },
               {
                "credits": 3,
                "curriculum_requisites": [
                 {
                  "source_id": 17,
                  "target_id": 26,
                  "type": "CurriculumPrerequisite"
                 }
                ],
                "id": 26,
                "metrics": {
                 "blocking factor": 4,
                 "centrality": 48,
                 "complexity": 13,
                 "delay factor": 9
                },
                "name": "CE 333",
                "nameCanonical": "",
                "nameSub": "Elem Structural Analysis"
               },
               {
                "credits": 4,
                "curriculum_requisites": [],
                "id": 27,
                "metrics": {
                 "blocking factor": 1,
                 "centrality": 0,
                 "complexity": 3,
                 "delay factor": 2
                },
                "name": "CE 363",
                "nameCanonical": "",
                "nameSub": "Tranport Eng and Pavement Design"
               }
              ],
              "id": 5,
              "name": "Term 5"
             },
             {
              "curriculum_items": [
               {
                "credits": 4,
                "curriculum_requisites": [
                 {
                  "source_id": 18,
                  "target_id": 28,
                  "type": "CurriculumPrerequisite"
                 }
                ],
                "id": 28,
                "metrics": {
                 "blocking factor": 2,
                 "centrality": 30,
                 "complexity": 10,
                 "delay factor": 8
                },
                "name": "CE 323",
                "nameCanonical": "",
                "nameSub": "Hydraulic Eng and Design"
               },
               {
                "credits": 3,
                "curriculum_requisites": [
                 {
                  "source_id": 26,
                  "target_id": 29,
                  "type": "CurriculumPrerequisite"
                 }
                ],
                "id": 29,
                "metrics": {
                 "blocking factor": 2,
                 "centrality": 34,
                 "complexity": 11,
                 "delay factor": 9
                },
                "name": "CE 335",
                "nameCanonical": "",
                "nameSub": "Struct Design in Concrete"
               },
               {
                "credits": 3,
                "curriculum_requisites": [
                 {
                  "source_id": 17,
                  "target_id": 30,
                  "type": "CurriculumPrerequisite"
                 }
                ],
                "id": 30,
                "metrics": {
                 "blocking factor": 3,
                 "centrality": 42,
                 "complexity": 10,
                 "delay factor": 7
                },
                "name": "CE 343",
                "nameCanonical": "",
                "nameSub": "Soil Mechanics"
               },
               {
                "credits": 3,
                "curriculum_requisites": [
                 {
                  "source_id": 18,
                  "target_id": 31,
                  "type": "CurriculumPrerequisite"
                 }
                ],
                "id": 31,
                "metrics": {
                 "blocking factor": 0,
                 "centrality": 0,
                 "complexity": 6,
                 "delay factor": 6
                },
                "name": "CE 370R",
                "nameCanonical": "",
                "nameSub": "Environ and Water Eng"
               },
               {
                "credits": 1,
                "curriculum_requisites": [
                 {
                  "source_id": 18,
                  "target_id": 32,
                  "type": "CurriculumCorequisite"
                 }
                ],
                "id": 32,
                "metrics": {
                 "blocking factor": 0,
                 "centrality": 0,
                 "complexity": 6,
                 "delay factor": 6
                },
                "name": "CE 329",
                "nameCanonical": "",
                "nameSub": "CE lab elective/Fluid Mechanics Lab"
               },
               {
                "credits": 1,
                "curriculum_requisites": [
                 {
                  "source_id": 13,
                  "target_id": 33,
                  "type": "CurriculumPrerequisite"
                 },
                 {
                  "source_id": 19,
                  "target_id": 33,
                  "type": "CurriculumPrerequisite"
                 }
                ],
                "id": 33,
                "metrics": {
                 "blocking factor": 0,
                 "centrality": 0,
                 "complexity": 6,
                 "delay factor": 6
                },
                "name": "ENGR 211I",
                "nameCanonical": "",
                "nameSub": "Eng Sci Module: Dynamics"
               },
               {
                "credits": 1,
                "curriculum_requisites": [
                 {
                  "source_id": 7,
                  "target_id": 34,
                  "type": "CurriculumPrerequisite"
                 }
                ],
                "id": 34,
                "metrics": {
                 "blocking factor": 0,
                 "centrality": 0,
                 "complexity": 4,
                 "delay factor": 4
                },
                "name": "ENGR 211P",
                "nameCanonical": "",
                "nameSub": "Eng Sci Module: Eng Econ"
               }
              ],
              "id": 6,
              "name": "Term 6"
             },
             {
              "curriculum_items": [
               {
                "credits": 3,
                "curriculum_requisites": [
                 {
                  "source_id": 29,
                  "target_id": 35,
                  "type": "CurriculumPrerequisite"
                 },
                 {
                  "source_id": 28,
                  "target_id": 35,
                  "type": "CurriculumPrerequisite"
                 },
                 {
                  "source_id": 23,
                  "target_id": 35,
                  "type": "CurriculumCorequisite"
                 }
                ],
                "id": 35,
                "metrics": {
                 "blocking factor": 1,
                 "centrality": 37,
                 "complexity": 10,
                 "delay factor": 9
                },
                "name": "CE 408A",
                "nameCanonical": "",
                "nameSub": "Issues in CE Practice"
               },
               {
                "credits": 3,
                "curriculum_requisites": [
                 {
                  "source_id": 26,
                  "target_id": 36,
                  "type": "CurriculumPrerequisite"
                 }
                ],
                "id": 36,
                "metrics": {
                 "blocking factor": 0,
                 "centrality": 0,
                 "complexity": 7,
                 "delay factor": 7
                },
                "name": "CE 334",
                "nameCanonical": "",
                "nameSub": "Struct design in Steel"
               },
               {
                "credits": 3,
                "curriculum_requisites": [
                 {
                  "source_id": 30,
                  "target_id": 37,
                  "type": "CurriculumPrerequisite"
                 }
                ],
                "id": 37,
                "metrics": {
                 "blocking factor": 0,
                 "centrality": 0,
                 "complexity": 7,
                 "delay factor": 7
                },
                "name": "CE 440",
                "nameCanonical": "",
                "nameSub": "Foundation Eng"
               },
               {
                "credits": 3,
                "curriculum_requisites": [],
                "id": 38,
                "metrics": {
                 "blocking factor": 0,
                 "centrality": 0,
                 "complexity": 1,
                 "delay factor": 1
                },
                "name": " ",
                "nameCanonical": "",
                "nameSub": "CE Technical Elective"
               },
               {
                "credits": 3,
                "curriculum_requisites": [],
                "id": 39,
                "metrics": {
                 "blocking factor": 0,
                 "centrality": 0,
                 "complexity": 1,
                 "delay factor": 1
                },
                "name": " ",
                "nameCanonical": "",
                "nameSub": "CE Technical Elective"
               },
               {
                "credits": 1,
                "curriculum_requisites": [
                 {
                  "source_id": 30,
                  "target_id": 40,
                  "type": "CurriculumCorequisite"
                 }
                ],
                "id": 40,
                "metrics": {
                 "blocking factor": 0,
                 "centrality": 0,
                 "complexity": 7,
                 "delay factor": 7
                },
                "name": "CE 349",
                "nameCanonical": "",
                "nameSub": "CE lab Elective/Solid LAB"
               }
              ],
              "id": 7,
              "name": "Term 7"
             },
             {
              "curriculum_items": [
               {
                "credits": 3,
                "curriculum_requisites": [
                 {
                  "source_id": 35,
                  "target_id": 41,
                  "type": "CurriculumPrerequisite"
                 },
                 {
                  "source_id": 29,
                  "target_id": 41,
                  "type": "CurriculumPrerequisite"
                 },
                 {
                  "source_id": 27,
                  "target_id": 41,
                  "type": "CurriculumPrerequisite"
                 },
                 {
                  "source_id": 30,
                  "target_id": 41,
                  "type": "CurriculumPrerequisite"
                 },
                 {
                  "source_id": 28,
                  "target_id": 41,
                  "type": "CurriculumPrerequisite"
                 },
                 {
                  "source_id": 23,
                  "target_id": 41,
                  "type": "CurriculumPrerequisite"
                 }
                ],
                "id": 41,
                "metrics": {
                 "blocking factor": 0,
                 "centrality": 0,
                 "complexity": 9,
                 "delay factor": 9
                },
                "name": "CE 408B",
                "nameCanonical": "",
                "nameSub": "CE Senior Capstone Design"
               },
               {
                "credits": 3,
                "curriculum_requisites": [],
                "id": 42,
                "metrics": {
                 "blocking factor": 0,
                 "centrality": 0,
                 "complexity": 1,
                 "delay factor": 1
                },
                "name": " ",
                "nameCanonical": "",
                "nameSub": "CE Technical Elective"
               },
               {
                "credits": 3,
                "curriculum_requisites": [],
                "id": 43,
                "metrics": {
                 "blocking factor": 0,
                 "centrality": 0,
                 "complexity": 1,
                 "delay factor": 1
                },
                "name": " ",
                "nameCanonical": "",
                "nameSub": "CE Technical Elective"
               },
               {
                "credits": 1,
                "curriculum_requisites": [
                 {
                  "source_id": 17,
                  "target_id": 44,
                  "type": "CurriculumPrerequisite"
                 }
                ],
                "id": 44,
                "metrics": {
                 "blocking factor": 0,
                 "centrality": 0,
                 "complexity": 6,
                 "delay factor": 6
                },
                "name": "CE 389",
                "nameCanonical": "",
                "nameSub": "CE LAB Elective/Materials Testing Lab"
               },
               {
                "credits": 3,
                "curriculum_requisites": [],
                "id": 45,
                "metrics": {
                 "blocking factor": 0,
                 "centrality": 0,
                 "complexity": 1,
                 "delay factor": 1
                },
                "name": " ",
                "nameCanonical": "",
                "nameSub": "Tier II General Ed."
               },
               {
                "credits": 3,
                "curriculum_requisites": [],
                "id": 46,
                "metrics": {
                 "blocking factor": 0,
                 "centrality": 0,
                 "complexity": 1,
                 "delay factor": 1
                },
                "name": " ",
                "nameCanonical": "",
                "nameSub": "Tier II General Ed."
               }
              ],
              "id": 8,
              "name": "Term 8"
             }
            ],
            "dp_name": "2021-2022",
            "institution": "Univerisity of Arizona",
            "name": "Civil Engineering"
           },
           "options": {
            "edit": false,
            "hideTerms": false
           }
          }
         }
        },
        "systemjs_options": null
       },
       "nodeType": "Scope",
       "props": {},
       "type": "node"
      },
      "text/html": [
       "<div\n",
       "    class=\"webio-mountpoint\"\n",
       "    data-webio-mountpoint=\"11869406350205359119\"\n",
       ">\n",
       "    <script>\n",
       "    (function(){\n",
       "    // Some integrations (namely, IJulia/Jupyter) use an alternate render pathway than\n",
       "    // just putting the html on the page. If WebIO isn't defined, then it's pretty likely\n",
       "    // that we're in one of those situations and the integration just isn't installed\n",
       "    // correctly.\n",
       "    if (typeof window.WebIO === \"undefined\") {\n",
       "        document\n",
       "            .querySelector('[data-webio-mountpoint=\"11869406350205359119\"]')\n",
       "            .innerHTML = (\n",
       "                '<div style=\"padding: 1em; background-color: #f8d6da; border: 1px solid #f5c6cb; font-weight: bold;\">' +\n",
       "                '<p><strong>WebIO not detected.</strong></p>' +\n",
       "                '<p>Please read ' +\n",
       "                '<a href=\"https://juliagizmos.github.io/WebIO.jl/latest/troubleshooting/not-detected/\" target=\"_blank\">the troubleshooting guide</a> ' +\n",
       "                'for more information on how to resolve this issue.</p>' +\n",
       "                '<p><a href=\"https://juliagizmos.github.io/WebIO.jl/latest/troubleshooting/not-detected/\" target=\"_blank\">https://juliagizmos.github.io/WebIO.jl/latest/troubleshooting/not-detected/</a></p>' +\n",
       "                '</div>'\n",
       "            );\n",
       "        return;\n",
       "    }\n",
       "    WebIO.mount(\n",
       "        document.querySelector('[data-webio-mountpoint=\"11869406350205359119\"]'),\n",
       "        {\"props\":{},\"nodeType\":\"Scope\",\"type\":\"node\",\"instanceArgs\":{\"imports\":{\"data\":[],\"type\":\"async_block\"},\"id\":\"866066435281500927\",\"handlers\":{},\"systemjs_options\":null,\"mount_callbacks\":[],\"observables\":{\"curriculum-data\":{\"sync\":true,\"id\":\"12813852657246764557\",\"value\":{\"options\":{\"hideTerms\":false,\"edit\":false},\"curriculum\":{\"name\":\"Civil Engineering\",\"dp_name\":\"2021-2022\",\"curriculum_terms\":[{\"name\":\"Term 1\",\"curriculum_items\":[{\"curriculum_requisites\":[],\"name\":\"MATH 122A\",\"metrics\":{\"centrality\":0,\"complexity\":37.0,\"blocking factor\":28,\"delay factor\":9.0},\"nameSub\":\"Functions for Calculus\",\"id\":1,\"credits\":1,\"nameCanonical\":\"\"},{\"curriculum_requisites\":[{\"source_id\":1,\"target_id\":2,\"type\":\"CurriculumCorequisite\"}],\"name\":\"MATH 122B\",\"metrics\":{\"centrality\":206,\"complexity\":36.0,\"blocking factor\":27,\"delay factor\":9.0},\"nameSub\":\"First Semester Calculus\",\"id\":2,\"credits\":4,\"nameCanonical\":\"\"},{\"curriculum_requisites\":[{\"source_id\":2,\"target_id\":3,\"type\":\"CurriculumCorequisite\"}],\"name\":\"CHEM 151\",\"metrics\":{\"centrality\":0,\"complexity\":3.0,\"blocking factor\":0,\"delay factor\":3.0},\"nameSub\":\"Gen Chemistry I\",\"id\":3,\"credits\":4,\"nameCanonical\":\"\"},{\"curriculum_requisites\":[],\"name\":\"ENGL 101\",\"metrics\":{\"centrality\":0,\"complexity\":3.0,\"blocking factor\":1,\"delay factor\":2.0},\"nameSub\":\"First-year Comp\",\"id\":4,\"credits\":3,\"nameCanonical\":\"\"},{\"curriculum_requisites\":[],\"name\":\"ENGR 102\",\"metrics\":{\"centrality\":0,\"complexity\":1.0,\"blocking factor\":0,\"delay factor\":1.0},\"nameSub\":\"Intro to Engineering\",\"id\":5,\"credits\":3,\"nameCanonical\":\"\"},{\"curriculum_requisites\":[],\"name\":\" \",\"metrics\":{\"centrality\":0,\"complexity\":1.0,\"blocking factor\":0,\"delay factor\":1.0},\"nameSub\":\"Tier I General Ed\",\"id\":6,\"credits\":3,\"nameCanonical\":\"\"}],\"id\":1},{\"name\":\"Term 2\",\"curriculum_items\":[{\"curriculum_requisites\":[{\"source_id\":2,\"target_id\":7,\"type\":\"CurriculumPrerequisite\"}],\"name\":\"MATH 129\",\"metrics\":{\"centrality\":113,\"complexity\":32.0,\"blocking factor\":23,\"delay factor\":9.0},\"nameSub\":\"Calculus II\",\"id\":7,\"credits\":3,\"nameCanonical\":\"\"},{\"curriculum_requisites\":[{\"source_id\":2,\"target_id\":8,\"type\":\"CurriculumPrerequisite\"}],\"name\":\"MCB 181R\",\"metrics\":{\"centrality\":0,\"complexity\":3.0,\"blocking factor\":0,\"delay factor\":3.0},\"nameSub\":\"Intro Biology I\",\"id\":8,\"credits\":4,\"nameCanonical\":\"\"},{\"curriculum_requisites\":[{\"source_id\":2,\"target_id\":9,\"type\":\"CurriculumPrerequisite\"}],\"name\":\"PHYS 141\",\"metrics\":{\"centrality\":87,\"complexity\":26.0,\"blocking factor\":17,\"delay factor\":9.0},\"nameSub\":\"Intro Mechanics\",\"id\":9,\"credits\":4,\"nameCanonical\":\"\"},{\"curriculum_requisites\":[{\"source_id\":4,\"target_id\":10,\"type\":\"CurriculumPrerequisite\"}],\"name\":\"ENGL 102\",\"metrics\":{\"centrality\":0,\"complexity\":2.0,\"blocking factor\":0,\"delay factor\":2.0},\"nameSub\":\"First-year Comp\",\"id\":10,\"credits\":3,\"nameCanonical\":\"\"},{\"curriculum_requisites\":[],\"name\":\" \",\"metrics\":{\"centrality\":0,\"complexity\":1.0,\"blocking factor\":0,\"delay factor\":1.0},\"nameSub\":\"Tier I General Ed\",\"id\":11,\"credits\":3,\"nameCanonical\":\"\"}],\"id\":2},{\"name\":\"Term 3\",\"curriculum_items\":[{\"curriculum_requisites\":[],\"name\":\"CE 210\",\"metrics\":{\"centrality\":0,\"complexity\":3.0,\"blocking factor\":1,\"delay factor\":2.0},\"nameSub\":\"Eng Graphics\",\"id\":12,\"credits\":1,\"nameCanonical\":\"\"},{\"curriculum_requisites\":[{\"source_id\":7,\"target_id\":13,\"type\":\"CurriculumPrerequisite\"},{\"source_id\":9,\"target_id\":13,\"type\":\"CurriculumPrerequisite\"}],\"name\":\"CE 214\",\"metrics\":{\"centrality\":166,\"complexity\":24.0,\"blocking factor\":15,\"delay factor\":9.0},\"nameSub\":\"Statics\",\"id\":13,\"credits\":3,\"nameCanonical\":\"\"},{\"curriculum_requisites\":[{\"source_id\":7,\"target_id\":14,\"type\":\"CurriculumPrerequisite\"}],\"name\":\"MATH  223\",\"metrics\":{\"centrality\":18,\"complexity\":10.0,\"blocking factor\":4,\"delay factor\":6.0},\"nameSub\":\"Vector Calculus\",\"id\":14,\"credits\":4,\"nameCanonical\":\"\"},{\"curriculum_requisites\":[{\"source_id\":7,\"target_id\":15,\"type\":\"CurriculumPrerequisite\"},{\"source_id\":9,\"target_id\":15,\"type\":\"CurriculumPrerequisite\"}],\"name\":\"PHYS 241\",\"metrics\":{\"centrality\":0,\"complexity\":4.0,\"blocking factor\":0,\"delay factor\":4.0},\"nameSub\":\"Electricity & Magnetism\",\"id\":15,\"credits\":4,\"nameCanonical\":\"\"},{\"curriculum_requisites\":[],\"name\":\" \",\"metrics\":{\"centrality\":0,\"complexity\":1.0,\"blocking factor\":0,\"delay factor\":1.0},\"nameSub\":\"Tier I General Ed\",\"id\":16,\"credits\":3,\"nameCanonical\":\"\"}],\"id\":3},{\"name\":\"Term 4\",\"curriculum_items\":[{\"curriculum_requisites\":[{\"source_id\":13,\"target_id\":17,\"type\":\"CurriculumPrerequisite\"}],\"name\":\"CE 215\",\"metrics\":{\"centrality\":102,\"complexity\":18.0,\"blocking factor\":9,\"delay factor\":9.0},\"nameSub\":\"Mechanics of Solids\",\"id\":17,\"credits\":3,\"nameCanonical\":\"\"},{\"curriculum_requisites\":[{\"source_id\":13,\"target_id\":18,\"type\":\"CurriculumPrerequisite\"}],\"name\":\"CE 218\",\"metrics\":{\"centrality\":54,\"complexity\":13.0,\"blocking factor\":5,\"delay factor\":8.0},\"nameSub\":\"Mechanics of Fluids\",\"id\":18,\"credits\":3,\"nameCanonical\":\"\"},{\"curriculum_requisites\":[{\"source_id\":14,\"target_id\":19,\"type\":\"CurriculumPrerequisite\"}],\"name\":\"MATH 254\",\"metrics\":{\"centrality\":12,\"complexity\":8.0,\"blocking factor\":2,\"delay factor\":6.0},\"nameSub\":\"Intro. to ODEs\",\"id\":19,\"credits\":3,\"nameCanonical\":\"\"},{\"curriculum_requisites\":[{\"source_id\":12,\"target_id\":20,\"type\":\"CurriculumPrerequisite\"}],\"name\":\"CE  251\",\"metrics\":{\"centrality\":0,\"complexity\":2.0,\"blocking factor\":0,\"delay factor\":2.0},\"nameSub\":\"Elementary Surveying\",\"id\":20,\"credits\":3,\"nameCanonical\":\"\"},{\"curriculum_requisites\":[{\"source_id\":14,\"target_id\":21,\"type\":\"CurriculumPrerequisite\"}],\"name\":\"CE 260\",\"metrics\":{\"centrality\":6,\"complexity\":7.0,\"blocking factor\":1,\"delay factor\":6.0},\"nameSub\":\"Computer Prog in CE\",\"id\":21,\"credits\":1,\"nameCanonical\":\"\"},{\"curriculum_requisites\":[],\"name\":\" \",\"metrics\":{\"centrality\":0,\"complexity\":1.0,\"blocking factor\":0,\"delay factor\":1.0},\"nameSub\":\"Tier I General Ed\",\"id\":22,\"credits\":3,\"nameCanonical\":\"\"}],\"id\":4},{\"name\":\"Term 5\",\"curriculum_items\":[{\"curriculum_requisites\":[],\"name\":\"CE 301\",\"metrics\":{\"centrality\":0,\"complexity\":5.0,\"blocking factor\":2,\"delay factor\":3.0},\"nameSub\":\"Eng Communications\",\"id\":23,\"credits\":3,\"nameCanonical\":\"\"},{\"curriculum_requisites\":[{\"source_id\":21,\"target_id\":24,\"type\":\"CurriculumPrerequisite\"},{\"source_id\":19,\"target_id\":24,\"type\":\"CurriculumPrerequisite\"}],\"name\":\"CE 303\",\"metrics\":{\"centrality\":0,\"complexity\":6.0,\"blocking factor\":0,\"delay factor\":6.0},\"nameSub\":\"Num Analysis for CE\",\"id\":24,\"credits\":3,\"nameCanonical\":\"\"},{\"curriculum_requisites\":[{\"source_id\":7,\"target_id\":25,\"type\":\"CurriculumPrerequisite\"}],\"name\":\"CE 310\",\"metrics\":{\"centrality\":0,\"complexity\":4.0,\"blocking factor\":0,\"delay factor\":4.0},\"nameSub\":\"Prob & Stats for CE\",\"id\":25,\"credits\":3,\"nameCanonical\":\"\"},{\"curriculum_requisites\":[{\"source_id\":17,\"target_id\":26,\"type\":\"CurriculumPrerequisite\"}],\"name\":\"CE 333\",\"metrics\":{\"centrality\":48,\"complexity\":13.0,\"blocking factor\":4,\"delay factor\":9.0},\"nameSub\":\"Elem Structural Analysis\",\"id\":26,\"credits\":3,\"nameCanonical\":\"\"},{\"curriculum_requisites\":[],\"name\":\"CE 363\",\"metrics\":{\"centrality\":0,\"complexity\":3.0,\"blocking factor\":1,\"delay factor\":2.0},\"nameSub\":\"Tranport Eng and Pavement Design\",\"id\":27,\"credits\":4,\"nameCanonical\":\"\"}],\"id\":5},{\"name\":\"Term 6\",\"curriculum_items\":[{\"curriculum_requisites\":[{\"source_id\":18,\"target_id\":28,\"type\":\"CurriculumPrerequisite\"}],\"name\":\"CE 323\",\"metrics\":{\"centrality\":30,\"complexity\":10.0,\"blocking factor\":2,\"delay factor\":8.0},\"nameSub\":\"Hydraulic Eng and Design\",\"id\":28,\"credits\":4,\"nameCanonical\":\"\"},{\"curriculum_requisites\":[{\"source_id\":26,\"target_id\":29,\"type\":\"CurriculumPrerequisite\"}],\"name\":\"CE 335\",\"metrics\":{\"centrality\":34,\"complexity\":11.0,\"blocking factor\":2,\"delay factor\":9.0},\"nameSub\":\"Struct Design in Concrete\",\"id\":29,\"credits\":3,\"nameCanonical\":\"\"},{\"curriculum_requisites\":[{\"source_id\":17,\"target_id\":30,\"type\":\"CurriculumPrerequisite\"}],\"name\":\"CE 343\",\"metrics\":{\"centrality\":42,\"complexity\":10.0,\"blocking factor\":3,\"delay factor\":7.0},\"nameSub\":\"Soil Mechanics\",\"id\":30,\"credits\":3,\"nameCanonical\":\"\"},{\"curriculum_requisites\":[{\"source_id\":18,\"target_id\":31,\"type\":\"CurriculumPrerequisite\"}],\"name\":\"CE 370R\",\"metrics\":{\"centrality\":0,\"complexity\":6.0,\"blocking factor\":0,\"delay factor\":6.0},\"nameSub\":\"Environ and Water Eng\",\"id\":31,\"credits\":3,\"nameCanonical\":\"\"},{\"curriculum_requisites\":[{\"source_id\":18,\"target_id\":32,\"type\":\"CurriculumCorequisite\"}],\"name\":\"CE 329\",\"metrics\":{\"centrality\":0,\"complexity\":6.0,\"blocking factor\":0,\"delay factor\":6.0},\"nameSub\":\"CE lab elective\\/Fluid Mechanics Lab\",\"id\":32,\"credits\":1,\"nameCanonical\":\"\"},{\"curriculum_requisites\":[{\"source_id\":13,\"target_id\":33,\"type\":\"CurriculumPrerequisite\"},{\"source_id\":19,\"target_id\":33,\"type\":\"CurriculumPrerequisite\"}],\"name\":\"ENGR 211I\",\"metrics\":{\"centrality\":0,\"complexity\":6.0,\"blocking factor\":0,\"delay factor\":6.0},\"nameSub\":\"Eng Sci Module: Dynamics\",\"id\":33,\"credits\":1,\"nameCanonical\":\"\"},{\"curriculum_requisites\":[{\"source_id\":7,\"target_id\":34,\"type\":\"CurriculumPrerequisite\"}],\"name\":\"ENGR 211P\",\"metrics\":{\"centrality\":0,\"complexity\":4.0,\"blocking factor\":0,\"delay factor\":4.0},\"nameSub\":\"Eng Sci Module: Eng Econ\",\"id\":34,\"credits\":1,\"nameCanonical\":\"\"}],\"id\":6},{\"name\":\"Term 7\",\"curriculum_items\":[{\"curriculum_requisites\":[{\"source_id\":29,\"target_id\":35,\"type\":\"CurriculumPrerequisite\"},{\"source_id\":28,\"target_id\":35,\"type\":\"CurriculumPrerequisite\"},{\"source_id\":23,\"target_id\":35,\"type\":\"CurriculumCorequisite\"}],\"name\":\"CE 408A\",\"metrics\":{\"centrality\":37,\"complexity\":10.0,\"blocking factor\":1,\"delay factor\":9.0},\"nameSub\":\"Issues in CE Practice\",\"id\":35,\"credits\":3,\"nameCanonical\":\"\"},{\"curriculum_requisites\":[{\"source_id\":26,\"target_id\":36,\"type\":\"CurriculumPrerequisite\"}],\"name\":\"CE 334\",\"metrics\":{\"centrality\":0,\"complexity\":7.0,\"blocking factor\":0,\"delay factor\":7.0},\"nameSub\":\"Struct design in Steel\",\"id\":36,\"credits\":3,\"nameCanonical\":\"\"},{\"curriculum_requisites\":[{\"source_id\":30,\"target_id\":37,\"type\":\"CurriculumPrerequisite\"}],\"name\":\"CE 440\",\"metrics\":{\"centrality\":0,\"complexity\":7.0,\"blocking factor\":0,\"delay factor\":7.0},\"nameSub\":\"Foundation Eng\",\"id\":37,\"credits\":3,\"nameCanonical\":\"\"},{\"curriculum_requisites\":[],\"name\":\" \",\"metrics\":{\"centrality\":0,\"complexity\":1.0,\"blocking factor\":0,\"delay factor\":1.0},\"nameSub\":\"CE Technical Elective\",\"id\":38,\"credits\":3,\"nameCanonical\":\"\"},{\"curriculum_requisites\":[],\"name\":\" \",\"metrics\":{\"centrality\":0,\"complexity\":1.0,\"blocking factor\":0,\"delay factor\":1.0},\"nameSub\":\"CE Technical Elective\",\"id\":39,\"credits\":3,\"nameCanonical\":\"\"},{\"curriculum_requisites\":[{\"source_id\":30,\"target_id\":40,\"type\":\"CurriculumCorequisite\"}],\"name\":\"CE 349\",\"metrics\":{\"centrality\":0,\"complexity\":7.0,\"blocking factor\":0,\"delay factor\":7.0},\"nameSub\":\"CE lab Elective\\/Solid LAB\",\"id\":40,\"credits\":1,\"nameCanonical\":\"\"}],\"id\":7},{\"name\":\"Term 8\",\"curriculum_items\":[{\"curriculum_requisites\":[{\"source_id\":35,\"target_id\":41,\"type\":\"CurriculumPrerequisite\"},{\"source_id\":29,\"target_id\":41,\"type\":\"CurriculumPrerequisite\"},{\"source_id\":27,\"target_id\":41,\"type\":\"CurriculumPrerequisite\"},{\"source_id\":30,\"target_id\":41,\"type\":\"CurriculumPrerequisite\"},{\"source_id\":28,\"target_id\":41,\"type\":\"CurriculumPrerequisite\"},{\"source_id\":23,\"target_id\":41,\"type\":\"CurriculumPrerequisite\"}],\"name\":\"CE 408B\",\"metrics\":{\"centrality\":0,\"complexity\":9.0,\"blocking factor\":0,\"delay factor\":9.0},\"nameSub\":\"CE Senior Capstone Design\",\"id\":41,\"credits\":3,\"nameCanonical\":\"\"},{\"curriculum_requisites\":[],\"name\":\" \",\"metrics\":{\"centrality\":0,\"complexity\":1.0,\"blocking factor\":0,\"delay factor\":1.0},\"nameSub\":\"CE Technical Elective\",\"id\":42,\"credits\":3,\"nameCanonical\":\"\"},{\"curriculum_requisites\":[],\"name\":\" \",\"metrics\":{\"centrality\":0,\"complexity\":1.0,\"blocking factor\":0,\"delay factor\":1.0},\"nameSub\":\"CE Technical Elective\",\"id\":43,\"credits\":3,\"nameCanonical\":\"\"},{\"curriculum_requisites\":[{\"source_id\":17,\"target_id\":44,\"type\":\"CurriculumPrerequisite\"}],\"name\":\"CE 389\",\"metrics\":{\"centrality\":0,\"complexity\":6.0,\"blocking factor\":0,\"delay factor\":6.0},\"nameSub\":\"CE LAB Elective\\/Materials Testing Lab\",\"id\":44,\"credits\":1,\"nameCanonical\":\"\"},{\"curriculum_requisites\":[],\"name\":\" \",\"metrics\":{\"centrality\":0,\"complexity\":1.0,\"blocking factor\":0,\"delay factor\":1.0},\"nameSub\":\"Tier II General Ed.\",\"id\":45,\"credits\":3,\"nameCanonical\":\"\"},{\"curriculum_requisites\":[],\"name\":\" \",\"metrics\":{\"centrality\":0,\"complexity\":1.0,\"blocking factor\":0,\"delay factor\":1.0},\"nameSub\":\"Tier II General Ed.\",\"id\":46,\"credits\":3,\"nameCanonical\":\"\"}],\"id\":8}],\"institution\":\"Univerisity of Arizona\"}}}}},\"children\":[{\"props\":{\"src\":\"https:\\/\\/curricula-api-embed.damoursystems.com\\/\",\"id\":\"curriculum\",\"events\":{\"load\":\"(function (){this.contentWindow.postMessage({\\\"options\\\":{\\\"hideTerms\\\":false,\\\"edit\\\":false},\\\"curriculum\\\":{\\\"name\\\":\\\"Civil Engineering\\\",\\\"dp_name\\\":\\\"2021-2022\\\",\\\"curriculum_terms\\\":[{\\\"name\\\":\\\"Term 1\\\",\\\"curriculum_items\\\":[{\\\"curriculum_requisites\\\":[],\\\"name\\\":\\\"MATH 122A\\\",\\\"metrics\\\":{\\\"centrality\\\":0,\\\"complexity\\\":37.0,\\\"blocking factor\\\":28,\\\"delay factor\\\":9.0},\\\"nameSub\\\":\\\"Functions for Calculus\\\",\\\"id\\\":1,\\\"credits\\\":1,\\\"nameCanonical\\\":\\\"\\\"},{\\\"curriculum_requisites\\\":[{\\\"source_id\\\":1,\\\"target_id\\\":2,\\\"type\\\":\\\"CurriculumCorequisite\\\"}],\\\"name\\\":\\\"MATH 122B\\\",\\\"metrics\\\":{\\\"centrality\\\":206,\\\"complexity\\\":36.0,\\\"blocking factor\\\":27,\\\"delay factor\\\":9.0},\\\"nameSub\\\":\\\"First Semester Calculus\\\",\\\"id\\\":2,\\\"credits\\\":4,\\\"nameCanonical\\\":\\\"\\\"},{\\\"curriculum_requisites\\\":[{\\\"source_id\\\":2,\\\"target_id\\\":3,\\\"type\\\":\\\"CurriculumCorequisite\\\"}],\\\"name\\\":\\\"CHEM 151\\\",\\\"metrics\\\":{\\\"centrality\\\":0,\\\"complexity\\\":3.0,\\\"blocking factor\\\":0,\\\"delay factor\\\":3.0},\\\"nameSub\\\":\\\"Gen Chemistry I\\\",\\\"id\\\":3,\\\"credits\\\":4,\\\"nameCanonical\\\":\\\"\\\"},{\\\"curriculum_requisites\\\":[],\\\"name\\\":\\\"ENGL 101\\\",\\\"metrics\\\":{\\\"centrality\\\":0,\\\"complexity\\\":3.0,\\\"blocking factor\\\":1,\\\"delay factor\\\":2.0},\\\"nameSub\\\":\\\"First-year Comp\\\",\\\"id\\\":4,\\\"credits\\\":3,\\\"nameCanonical\\\":\\\"\\\"},{\\\"curriculum_requisites\\\":[],\\\"name\\\":\\\"ENGR 102\\\",\\\"metrics\\\":{\\\"centrality\\\":0,\\\"complexity\\\":1.0,\\\"blocking factor\\\":0,\\\"delay factor\\\":1.0},\\\"nameSub\\\":\\\"Intro to Engineering\\\",\\\"id\\\":5,\\\"credits\\\":3,\\\"nameCanonical\\\":\\\"\\\"},{\\\"curriculum_requisites\\\":[],\\\"name\\\":\\\" \\\",\\\"metrics\\\":{\\\"centrality\\\":0,\\\"complexity\\\":1.0,\\\"blocking factor\\\":0,\\\"delay factor\\\":1.0},\\\"nameSub\\\":\\\"Tier I General Ed\\\",\\\"id\\\":6,\\\"credits\\\":3,\\\"nameCanonical\\\":\\\"\\\"}],\\\"id\\\":1},{\\\"name\\\":\\\"Term 2\\\",\\\"curriculum_items\\\":[{\\\"curriculum_requisites\\\":[{\\\"source_id\\\":2,\\\"target_id\\\":7,\\\"type\\\":\\\"CurriculumPrerequisite\\\"}],\\\"name\\\":\\\"MATH 129\\\",\\\"metrics\\\":{\\\"centrality\\\":113,\\\"complexity\\\":32.0,\\\"blocking factor\\\":23,\\\"delay factor\\\":9.0},\\\"nameSub\\\":\\\"Calculus II\\\",\\\"id\\\":7,\\\"credits\\\":3,\\\"nameCanonical\\\":\\\"\\\"},{\\\"curriculum_requisites\\\":[{\\\"source_id\\\":2,\\\"target_id\\\":8,\\\"type\\\":\\\"CurriculumPrerequisite\\\"}],\\\"name\\\":\\\"MCB 181R\\\",\\\"metrics\\\":{\\\"centrality\\\":0,\\\"complexity\\\":3.0,\\\"blocking factor\\\":0,\\\"delay factor\\\":3.0},\\\"nameSub\\\":\\\"Intro Biology I\\\",\\\"id\\\":8,\\\"credits\\\":4,\\\"nameCanonical\\\":\\\"\\\"},{\\\"curriculum_requisites\\\":[{\\\"source_id\\\":2,\\\"target_id\\\":9,\\\"type\\\":\\\"CurriculumPrerequisite\\\"}],\\\"name\\\":\\\"PHYS 141\\\",\\\"metrics\\\":{\\\"centrality\\\":87,\\\"complexity\\\":26.0,\\\"blocking factor\\\":17,\\\"delay factor\\\":9.0},\\\"nameSub\\\":\\\"Intro Mechanics\\\",\\\"id\\\":9,\\\"credits\\\":4,\\\"nameCanonical\\\":\\\"\\\"},{\\\"curriculum_requisites\\\":[{\\\"source_id\\\":4,\\\"target_id\\\":10,\\\"type\\\":\\\"CurriculumPrerequisite\\\"}],\\\"name\\\":\\\"ENGL 102\\\",\\\"metrics\\\":{\\\"centrality\\\":0,\\\"complexity\\\":2.0,\\\"blocking factor\\\":0,\\\"delay factor\\\":2.0},\\\"nameSub\\\":\\\"First-year Comp\\\",\\\"id\\\":10,\\\"credits\\\":3,\\\"nameCanonical\\\":\\\"\\\"},{\\\"curriculum_requisites\\\":[],\\\"name\\\":\\\" \\\",\\\"metrics\\\":{\\\"centrality\\\":0,\\\"complexity\\\":1.0,\\\"blocking factor\\\":0,\\\"delay factor\\\":1.0},\\\"nameSub\\\":\\\"Tier I General Ed\\\",\\\"id\\\":11,\\\"credits\\\":3,\\\"nameCanonical\\\":\\\"\\\"}],\\\"id\\\":2},{\\\"name\\\":\\\"Term 3\\\",\\\"curriculum_items\\\":[{\\\"curriculum_requisites\\\":[],\\\"name\\\":\\\"CE 210\\\",\\\"metrics\\\":{\\\"centrality\\\":0,\\\"complexity\\\":3.0,\\\"blocking factor\\\":1,\\\"delay factor\\\":2.0},\\\"nameSub\\\":\\\"Eng Graphics\\\",\\\"id\\\":12,\\\"credits\\\":1,\\\"nameCanonical\\\":\\\"\\\"},{\\\"curriculum_requisites\\\":[{\\\"source_id\\\":7,\\\"target_id\\\":13,\\\"type\\\":\\\"CurriculumPrerequisite\\\"},{\\\"source_id\\\":9,\\\"target_id\\\":13,\\\"type\\\":\\\"CurriculumPrerequisite\\\"}],\\\"name\\\":\\\"CE 214\\\",\\\"metrics\\\":{\\\"centrality\\\":166,\\\"complexity\\\":24.0,\\\"blocking factor\\\":15,\\\"delay factor\\\":9.0},\\\"nameSub\\\":\\\"Statics\\\",\\\"id\\\":13,\\\"credits\\\":3,\\\"nameCanonical\\\":\\\"\\\"},{\\\"curriculum_requisites\\\":[{\\\"source_id\\\":7,\\\"target_id\\\":14,\\\"type\\\":\\\"CurriculumPrerequisite\\\"}],\\\"name\\\":\\\"MATH  223\\\",\\\"metrics\\\":{\\\"centrality\\\":18,\\\"complexity\\\":10.0,\\\"blocking factor\\\":4,\\\"delay factor\\\":6.0},\\\"nameSub\\\":\\\"Vector Calculus\\\",\\\"id\\\":14,\\\"credits\\\":4,\\\"nameCanonical\\\":\\\"\\\"},{\\\"curriculum_requisites\\\":[{\\\"source_id\\\":7,\\\"target_id\\\":15,\\\"type\\\":\\\"CurriculumPrerequisite\\\"},{\\\"source_id\\\":9,\\\"target_id\\\":15,\\\"type\\\":\\\"CurriculumPrerequisite\\\"}],\\\"name\\\":\\\"PHYS 241\\\",\\\"metrics\\\":{\\\"centrality\\\":0,\\\"complexity\\\":4.0,\\\"blocking factor\\\":0,\\\"delay factor\\\":4.0},\\\"nameSub\\\":\\\"Electricity & Magnetism\\\",\\\"id\\\":15,\\\"credits\\\":4,\\\"nameCanonical\\\":\\\"\\\"},{\\\"curriculum_requisites\\\":[],\\\"name\\\":\\\" \\\",\\\"metrics\\\":{\\\"centrality\\\":0,\\\"complexity\\\":1.0,\\\"blocking factor\\\":0,\\\"delay factor\\\":1.0},\\\"nameSub\\\":\\\"Tier I General Ed\\\",\\\"id\\\":16,\\\"credits\\\":3,\\\"nameCanonical\\\":\\\"\\\"}],\\\"id\\\":3},{\\\"name\\\":\\\"Term 4\\\",\\\"curriculum_items\\\":[{\\\"curriculum_requisites\\\":[{\\\"source_id\\\":13,\\\"target_id\\\":17,\\\"type\\\":\\\"CurriculumPrerequisite\\\"}],\\\"name\\\":\\\"CE 215\\\",\\\"metrics\\\":{\\\"centrality\\\":102,\\\"complexity\\\":18.0,\\\"blocking factor\\\":9,\\\"delay factor\\\":9.0},\\\"nameSub\\\":\\\"Mechanics of Solids\\\",\\\"id\\\":17,\\\"credits\\\":3,\\\"nameCanonical\\\":\\\"\\\"},{\\\"curriculum_requisites\\\":[{\\\"source_id\\\":13,\\\"target_id\\\":18,\\\"type\\\":\\\"CurriculumPrerequisite\\\"}],\\\"name\\\":\\\"CE 218\\\",\\\"metrics\\\":{\\\"centrality\\\":54,\\\"complexity\\\":13.0,\\\"blocking factor\\\":5,\\\"delay factor\\\":8.0},\\\"nameSub\\\":\\\"Mechanics of Fluids\\\",\\\"id\\\":18,\\\"credits\\\":3,\\\"nameCanonical\\\":\\\"\\\"},{\\\"curriculum_requisites\\\":[{\\\"source_id\\\":14,\\\"target_id\\\":19,\\\"type\\\":\\\"CurriculumPrerequisite\\\"}],\\\"name\\\":\\\"MATH 254\\\",\\\"metrics\\\":{\\\"centrality\\\":12,\\\"complexity\\\":8.0,\\\"blocking factor\\\":2,\\\"delay factor\\\":6.0},\\\"nameSub\\\":\\\"Intro. to ODEs\\\",\\\"id\\\":19,\\\"credits\\\":3,\\\"nameCanonical\\\":\\\"\\\"},{\\\"curriculum_requisites\\\":[{\\\"source_id\\\":12,\\\"target_id\\\":20,\\\"type\\\":\\\"CurriculumPrerequisite\\\"}],\\\"name\\\":\\\"CE  251\\\",\\\"metrics\\\":{\\\"centrality\\\":0,\\\"complexity\\\":2.0,\\\"blocking factor\\\":0,\\\"delay factor\\\":2.0},\\\"nameSub\\\":\\\"Elementary Surveying\\\",\\\"id\\\":20,\\\"credits\\\":3,\\\"nameCanonical\\\":\\\"\\\"},{\\\"curriculum_requisites\\\":[{\\\"source_id\\\":14,\\\"target_id\\\":21,\\\"type\\\":\\\"CurriculumPrerequisite\\\"}],\\\"name\\\":\\\"CE 260\\\",\\\"metrics\\\":{\\\"centrality\\\":6,\\\"complexity\\\":7.0,\\\"blocking factor\\\":1,\\\"delay factor\\\":6.0},\\\"nameSub\\\":\\\"Computer Prog in CE\\\",\\\"id\\\":21,\\\"credits\\\":1,\\\"nameCanonical\\\":\\\"\\\"},{\\\"curriculum_requisites\\\":[],\\\"name\\\":\\\" \\\",\\\"metrics\\\":{\\\"centrality\\\":0,\\\"complexity\\\":1.0,\\\"blocking factor\\\":0,\\\"delay factor\\\":1.0},\\\"nameSub\\\":\\\"Tier I General Ed\\\",\\\"id\\\":22,\\\"credits\\\":3,\\\"nameCanonical\\\":\\\"\\\"}],\\\"id\\\":4},{\\\"name\\\":\\\"Term 5\\\",\\\"curriculum_items\\\":[{\\\"curriculum_requisites\\\":[],\\\"name\\\":\\\"CE 301\\\",\\\"metrics\\\":{\\\"centrality\\\":0,\\\"complexity\\\":5.0,\\\"blocking factor\\\":2,\\\"delay factor\\\":3.0},\\\"nameSub\\\":\\\"Eng Communications\\\",\\\"id\\\":23,\\\"credits\\\":3,\\\"nameCanonical\\\":\\\"\\\"},{\\\"curriculum_requisites\\\":[{\\\"source_id\\\":21,\\\"target_id\\\":24,\\\"type\\\":\\\"CurriculumPrerequisite\\\"},{\\\"source_id\\\":19,\\\"target_id\\\":24,\\\"type\\\":\\\"CurriculumPrerequisite\\\"}],\\\"name\\\":\\\"CE 303\\\",\\\"metrics\\\":{\\\"centrality\\\":0,\\\"complexity\\\":6.0,\\\"blocking factor\\\":0,\\\"delay factor\\\":6.0},\\\"nameSub\\\":\\\"Num Analysis for CE\\\",\\\"id\\\":24,\\\"credits\\\":3,\\\"nameCanonical\\\":\\\"\\\"},{\\\"curriculum_requisites\\\":[{\\\"source_id\\\":7,\\\"target_id\\\":25,\\\"type\\\":\\\"CurriculumPrerequisite\\\"}],\\\"name\\\":\\\"CE 310\\\",\\\"metrics\\\":{\\\"centrality\\\":0,\\\"complexity\\\":4.0,\\\"blocking factor\\\":0,\\\"delay factor\\\":4.0},\\\"nameSub\\\":\\\"Prob & Stats for CE\\\",\\\"id\\\":25,\\\"credits\\\":3,\\\"nameCanonical\\\":\\\"\\\"},{\\\"curriculum_requisites\\\":[{\\\"source_id\\\":17,\\\"target_id\\\":26,\\\"type\\\":\\\"CurriculumPrerequisite\\\"}],\\\"name\\\":\\\"CE 333\\\",\\\"metrics\\\":{\\\"centrality\\\":48,\\\"complexity\\\":13.0,\\\"blocking factor\\\":4,\\\"delay factor\\\":9.0},\\\"nameSub\\\":\\\"Elem Structural Analysis\\\",\\\"id\\\":26,\\\"credits\\\":3,\\\"nameCanonical\\\":\\\"\\\"},{\\\"curriculum_requisites\\\":[],\\\"name\\\":\\\"CE 363\\\",\\\"metrics\\\":{\\\"centrality\\\":0,\\\"complexity\\\":3.0,\\\"blocking factor\\\":1,\\\"delay factor\\\":2.0},\\\"nameSub\\\":\\\"Tranport Eng and Pavement Design\\\",\\\"id\\\":27,\\\"credits\\\":4,\\\"nameCanonical\\\":\\\"\\\"}],\\\"id\\\":5},{\\\"name\\\":\\\"Term 6\\\",\\\"curriculum_items\\\":[{\\\"curriculum_requisites\\\":[{\\\"source_id\\\":18,\\\"target_id\\\":28,\\\"type\\\":\\\"CurriculumPrerequisite\\\"}],\\\"name\\\":\\\"CE 323\\\",\\\"metrics\\\":{\\\"centrality\\\":30,\\\"complexity\\\":10.0,\\\"blocking factor\\\":2,\\\"delay factor\\\":8.0},\\\"nameSub\\\":\\\"Hydraulic Eng and Design\\\",\\\"id\\\":28,\\\"credits\\\":4,\\\"nameCanonical\\\":\\\"\\\"},{\\\"curriculum_requisites\\\":[{\\\"source_id\\\":26,\\\"target_id\\\":29,\\\"type\\\":\\\"CurriculumPrerequisite\\\"}],\\\"name\\\":\\\"CE 335\\\",\\\"metrics\\\":{\\\"centrality\\\":34,\\\"complexity\\\":11.0,\\\"blocking factor\\\":2,\\\"delay factor\\\":9.0},\\\"nameSub\\\":\\\"Struct Design in Concrete\\\",\\\"id\\\":29,\\\"credits\\\":3,\\\"nameCanonical\\\":\\\"\\\"},{\\\"curriculum_requisites\\\":[{\\\"source_id\\\":17,\\\"target_id\\\":30,\\\"type\\\":\\\"CurriculumPrerequisite\\\"}],\\\"name\\\":\\\"CE 343\\\",\\\"metrics\\\":{\\\"centrality\\\":42,\\\"complexity\\\":10.0,\\\"blocking factor\\\":3,\\\"delay factor\\\":7.0},\\\"nameSub\\\":\\\"Soil Mechanics\\\",\\\"id\\\":30,\\\"credits\\\":3,\\\"nameCanonical\\\":\\\"\\\"},{\\\"curriculum_requisites\\\":[{\\\"source_id\\\":18,\\\"target_id\\\":31,\\\"type\\\":\\\"CurriculumPrerequisite\\\"}],\\\"name\\\":\\\"CE 370R\\\",\\\"metrics\\\":{\\\"centrality\\\":0,\\\"complexity\\\":6.0,\\\"blocking factor\\\":0,\\\"delay factor\\\":6.0},\\\"nameSub\\\":\\\"Environ and Water Eng\\\",\\\"id\\\":31,\\\"credits\\\":3,\\\"nameCanonical\\\":\\\"\\\"},{\\\"curriculum_requisites\\\":[{\\\"source_id\\\":18,\\\"target_id\\\":32,\\\"type\\\":\\\"CurriculumCorequisite\\\"}],\\\"name\\\":\\\"CE 329\\\",\\\"metrics\\\":{\\\"centrality\\\":0,\\\"complexity\\\":6.0,\\\"blocking factor\\\":0,\\\"delay factor\\\":6.0},\\\"nameSub\\\":\\\"CE lab elective\\/Fluid Mechanics Lab\\\",\\\"id\\\":32,\\\"credits\\\":1,\\\"nameCanonical\\\":\\\"\\\"},{\\\"curriculum_requisites\\\":[{\\\"source_id\\\":13,\\\"target_id\\\":33,\\\"type\\\":\\\"CurriculumPrerequisite\\\"},{\\\"source_id\\\":19,\\\"target_id\\\":33,\\\"type\\\":\\\"CurriculumPrerequisite\\\"}],\\\"name\\\":\\\"ENGR 211I\\\",\\\"metrics\\\":{\\\"centrality\\\":0,\\\"complexity\\\":6.0,\\\"blocking factor\\\":0,\\\"delay factor\\\":6.0},\\\"nameSub\\\":\\\"Eng Sci Module: Dynamics\\\",\\\"id\\\":33,\\\"credits\\\":1,\\\"nameCanonical\\\":\\\"\\\"},{\\\"curriculum_requisites\\\":[{\\\"source_id\\\":7,\\\"target_id\\\":34,\\\"type\\\":\\\"CurriculumPrerequisite\\\"}],\\\"name\\\":\\\"ENGR 211P\\\",\\\"metrics\\\":{\\\"centrality\\\":0,\\\"complexity\\\":4.0,\\\"blocking factor\\\":0,\\\"delay factor\\\":4.0},\\\"nameSub\\\":\\\"Eng Sci Module: Eng Econ\\\",\\\"id\\\":34,\\\"credits\\\":1,\\\"nameCanonical\\\":\\\"\\\"}],\\\"id\\\":6},{\\\"name\\\":\\\"Term 7\\\",\\\"curriculum_items\\\":[{\\\"curriculum_requisites\\\":[{\\\"source_id\\\":29,\\\"target_id\\\":35,\\\"type\\\":\\\"CurriculumPrerequisite\\\"},{\\\"source_id\\\":28,\\\"target_id\\\":35,\\\"type\\\":\\\"CurriculumPrerequisite\\\"},{\\\"source_id\\\":23,\\\"target_id\\\":35,\\\"type\\\":\\\"CurriculumCorequisite\\\"}],\\\"name\\\":\\\"CE 408A\\\",\\\"metrics\\\":{\\\"centrality\\\":37,\\\"complexity\\\":10.0,\\\"blocking factor\\\":1,\\\"delay factor\\\":9.0},\\\"nameSub\\\":\\\"Issues in CE Practice\\\",\\\"id\\\":35,\\\"credits\\\":3,\\\"nameCanonical\\\":\\\"\\\"},{\\\"curriculum_requisites\\\":[{\\\"source_id\\\":26,\\\"target_id\\\":36,\\\"type\\\":\\\"CurriculumPrerequisite\\\"}],\\\"name\\\":\\\"CE 334\\\",\\\"metrics\\\":{\\\"centrality\\\":0,\\\"complexity\\\":7.0,\\\"blocking factor\\\":0,\\\"delay factor\\\":7.0},\\\"nameSub\\\":\\\"Struct design in Steel\\\",\\\"id\\\":36,\\\"credits\\\":3,\\\"nameCanonical\\\":\\\"\\\"},{\\\"curriculum_requisites\\\":[{\\\"source_id\\\":30,\\\"target_id\\\":37,\\\"type\\\":\\\"CurriculumPrerequisite\\\"}],\\\"name\\\":\\\"CE 440\\\",\\\"metrics\\\":{\\\"centrality\\\":0,\\\"complexity\\\":7.0,\\\"blocking factor\\\":0,\\\"delay factor\\\":7.0},\\\"nameSub\\\":\\\"Foundation Eng\\\",\\\"id\\\":37,\\\"credits\\\":3,\\\"nameCanonical\\\":\\\"\\\"},{\\\"curriculum_requisites\\\":[],\\\"name\\\":\\\" \\\",\\\"metrics\\\":{\\\"centrality\\\":0,\\\"complexity\\\":1.0,\\\"blocking factor\\\":0,\\\"delay factor\\\":1.0},\\\"nameSub\\\":\\\"CE Technical Elective\\\",\\\"id\\\":38,\\\"credits\\\":3,\\\"nameCanonical\\\":\\\"\\\"},{\\\"curriculum_requisites\\\":[],\\\"name\\\":\\\" \\\",\\\"metrics\\\":{\\\"centrality\\\":0,\\\"complexity\\\":1.0,\\\"blocking factor\\\":0,\\\"delay factor\\\":1.0},\\\"nameSub\\\":\\\"CE Technical Elective\\\",\\\"id\\\":39,\\\"credits\\\":3,\\\"nameCanonical\\\":\\\"\\\"},{\\\"curriculum_requisites\\\":[{\\\"source_id\\\":30,\\\"target_id\\\":40,\\\"type\\\":\\\"CurriculumCorequisite\\\"}],\\\"name\\\":\\\"CE 349\\\",\\\"metrics\\\":{\\\"centrality\\\":0,\\\"complexity\\\":7.0,\\\"blocking factor\\\":0,\\\"delay factor\\\":7.0},\\\"nameSub\\\":\\\"CE lab Elective\\/Solid LAB\\\",\\\"id\\\":40,\\\"credits\\\":1,\\\"nameCanonical\\\":\\\"\\\"}],\\\"id\\\":7},{\\\"name\\\":\\\"Term 8\\\",\\\"curriculum_items\\\":[{\\\"curriculum_requisites\\\":[{\\\"source_id\\\":35,\\\"target_id\\\":41,\\\"type\\\":\\\"CurriculumPrerequisite\\\"},{\\\"source_id\\\":29,\\\"target_id\\\":41,\\\"type\\\":\\\"CurriculumPrerequisite\\\"},{\\\"source_id\\\":27,\\\"target_id\\\":41,\\\"type\\\":\\\"CurriculumPrerequisite\\\"},{\\\"source_id\\\":30,\\\"target_id\\\":41,\\\"type\\\":\\\"CurriculumPrerequisite\\\"},{\\\"source_id\\\":28,\\\"target_id\\\":41,\\\"type\\\":\\\"CurriculumPrerequisite\\\"},{\\\"source_id\\\":23,\\\"target_id\\\":41,\\\"type\\\":\\\"CurriculumPrerequisite\\\"}],\\\"name\\\":\\\"CE 408B\\\",\\\"metrics\\\":{\\\"centrality\\\":0,\\\"complexity\\\":9.0,\\\"blocking factor\\\":0,\\\"delay factor\\\":9.0},\\\"nameSub\\\":\\\"CE Senior Capstone Design\\\",\\\"id\\\":41,\\\"credits\\\":3,\\\"nameCanonical\\\":\\\"\\\"},{\\\"curriculum_requisites\\\":[],\\\"name\\\":\\\" \\\",\\\"metrics\\\":{\\\"centrality\\\":0,\\\"complexity\\\":1.0,\\\"blocking factor\\\":0,\\\"delay factor\\\":1.0},\\\"nameSub\\\":\\\"CE Technical Elective\\\",\\\"id\\\":42,\\\"credits\\\":3,\\\"nameCanonical\\\":\\\"\\\"},{\\\"curriculum_requisites\\\":[],\\\"name\\\":\\\" \\\",\\\"metrics\\\":{\\\"centrality\\\":0,\\\"complexity\\\":1.0,\\\"blocking factor\\\":0,\\\"delay factor\\\":1.0},\\\"nameSub\\\":\\\"CE Technical Elective\\\",\\\"id\\\":43,\\\"credits\\\":3,\\\"nameCanonical\\\":\\\"\\\"},{\\\"curriculum_requisites\\\":[{\\\"source_id\\\":17,\\\"target_id\\\":44,\\\"type\\\":\\\"CurriculumPrerequisite\\\"}],\\\"name\\\":\\\"CE 389\\\",\\\"metrics\\\":{\\\"centrality\\\":0,\\\"complexity\\\":6.0,\\\"blocking factor\\\":0,\\\"delay factor\\\":6.0},\\\"nameSub\\\":\\\"CE LAB Elective\\/Materials Testing Lab\\\",\\\"id\\\":44,\\\"credits\\\":1,\\\"nameCanonical\\\":\\\"\\\"},{\\\"curriculum_requisites\\\":[],\\\"name\\\":\\\" \\\",\\\"metrics\\\":{\\\"centrality\\\":0,\\\"complexity\\\":1.0,\\\"blocking factor\\\":0,\\\"delay factor\\\":1.0},\\\"nameSub\\\":\\\"Tier II General Ed.\\\",\\\"id\\\":45,\\\"credits\\\":3,\\\"nameCanonical\\\":\\\"\\\"},{\\\"curriculum_requisites\\\":[],\\\"name\\\":\\\" \\\",\\\"metrics\\\":{\\\"centrality\\\":0,\\\"complexity\\\":1.0,\\\"blocking factor\\\":0,\\\"delay factor\\\":1.0},\\\"nameSub\\\":\\\"Tier II General Ed.\\\",\\\"id\\\":46,\\\"credits\\\":3,\\\"nameCanonical\\\":\\\"\\\"}],\\\"id\\\":8}],\\\"institution\\\":\\\"Univerisity of Arizona\\\"}},\\\"*\\\"); window.removeEventListener(\\\"message\\\",window.messageReceived); window.messageReceived=(function (event){return (event.data.curriculum!==undefined) ? (WebIO.setval({\\\"name\\\":\\\"curriculum-data\\\",\\\"scope\\\":\\\"866066435281500927\\\",\\\"id\\\":\\\"12813852657246764557\\\",\\\"type\\\":\\\"observable\\\"},event.data.curriculum)) : undefined}); return window.addEventListener(\\\"message\\\",window.messageReceived)})\"},\"style\":{\"padding\":\"0\",\"height\":\"100vh\",\"margin\":\"0\",\"border\":\"none\",\"width\":\"100%\"}},\"nodeType\":\"DOM\",\"type\":\"node\",\"instanceArgs\":{\"namespace\":\"html\",\"tag\":\"iframe\"},\"children\":[\"\"]}]},\n",
       "        window,\n",
       "    );\n",
       "    })()\n",
       "    </script>\n",
       "</div>\n"
      ],
      "text/plain": [
       "WebIO.Scope(WebIO.Node{WebIO.DOM}(WebIO.DOM(:html, :iframe), Any[\"\"], Dict{Symbol, Any}(:src => \"https://curricula-api-embed.damoursystems.com/\", :id => \"curriculum\", :events => Dict{Symbol, WebIO.JSString}(:load => WebIO.JSString(\"(function (){this.contentWindow.postMessage({\\\"options\\\":{\\\"hideTerms\\\":false,\\\"edit\\\":false},\\\"curriculum\\\":{\\\"name\\\":\\\"Civil Engineering\\\",\\\"dp_name\\\":\\\"2021-2022\\\",\\\"curriculum_terms\\\":[{\\\"name\\\":\\\"Term 1\\\",\\\"curriculum_items\\\":[{\\\"curriculum_requisites\\\":[],\\\"name\\\":\\\"MATH 122A\\\",\\\"metrics\\\":{\\\"centrality\\\":0,\\\"complexity\\\":37.0,\\\"blocking factor\\\":28,\\\"delay factor\\\":9.0},\\\"nameSub\\\":\\\"Functions for Calculus\\\",\\\"id\\\":1,\\\"credits\\\":1,\\\"nameCanonical\\\":\\\"\\\"},{\\\"curriculum_requisites\\\":[{\\\"source_id\\\":1,\\\"target_id\\\":2,\\\"type\\\":\\\"CurriculumCorequisite\\\"}],\\\"name\\\":\\\"MATH 122B\\\",\\\"metrics\\\":{\\\"centrality\\\":206,\\\"complexity\\\":36.0,\\\"blocking factor\\\":27,\\\"delay factor\\\":9.0},\\\"nameSub\\\":\\\"First Semester Calculus\\\",\\\"id\\\":2,\\\"credits\\\":4,\\\"nameCanonical\\\":\\\"\\\"},{\\\"curriculum_requisites\\\":[{\\\"source_id\\\":2,\\\"target_id\\\":3,\\\"type\\\":\\\"CurriculumCorequisite\\\"}],\\\"name\\\":\\\"CHEM 151\\\",\\\"metrics\\\":{\\\"centrality\\\":0,\\\"complexity\\\":3.0,\\\"blocking factor\\\":0,\\\"delay factor\\\":3.0},\\\"nameSub\\\":\\\"Gen Chemistry I\\\",\\\"id\\\":3,\\\"credits\\\":4,\\\"nameCanonical\\\":\\\"\\\"},{\\\"curriculum_requisites\\\":[],\\\"name\\\":\\\"ENGL 101\\\",\\\"metrics\\\":{\\\"centrality\\\":0,\\\"complexity\\\":3.0,\\\"blocking factor\\\":1,\\\"delay factor\\\":2.0},\\\"nameSub\\\":\\\"First-year Comp\\\",\\\"id\\\":4,\\\"credits\\\":3,\\\"nameCanonical\\\":\\\"\\\"},{\\\"curriculum_requisites\\\":[],\\\"name\\\":\\\"ENGR 102\\\",\\\"metrics\\\":{\\\"centrality\\\":0,\\\"complexity\\\":1.0,\\\"blocking factor\\\":0,\\\"delay factor\\\":1.0},\\\"nameSub\\\":\\\"Intro to Engineering\\\",\\\"id\\\":5,\\\"credits\\\":3,\\\"nameCanonical\\\":\\\"\\\"},{\\\"curriculum_requisites\\\":[],\\\"name\\\":\\\" \\\",\\\"metrics\\\":{\\\"centrality\\\":0,\\\"complexity\\\":1.0,\\\"blocking factor\\\":0,\\\"delay factor\\\":1.0},\\\"nameSub\\\":\\\"Tier I General Ed\\\",\\\"id\\\":6,\\\"credits\\\":3,\\\"nameCanonical\\\":\\\"\\\"}],\\\"id\\\":1},{\\\"name\\\":\\\"Term 2\\\",\\\"curriculum_items\\\":[{\\\"curriculum_requisites\\\":[{\\\"source_id\\\":2,\\\"target_id\\\":7,\\\"type\\\":\\\"CurriculumPrerequisite\\\"}],\\\"name\\\":\\\"MATH 129\\\",\\\"metrics\\\":{\\\"centrality\\\":113,\\\"complexity\\\":32.0,\\\"blocking factor\\\":23,\\\"delay factor\\\":9.0},\\\"nameSub\\\":\\\"Calculus II\\\",\\\"id\\\":7,\\\"credits\\\":3,\\\"nameCanonical\\\":\\\"\\\"},{\\\"curriculum_requisites\\\":[{\\\"source_id\\\":2,\\\"target_id\\\":8,\\\"type\\\":\\\"CurriculumPrerequisite\\\"}],\\\"name\\\":\\\"MCB 181R\\\",\\\"metrics\\\":{\\\"centrality\\\":0,\\\"complexity\\\":3.0,\\\"blocking factor\\\":0,\\\"delay factor\\\":3.0},\\\"nameSub\\\":\\\"Intro Biology I\\\",\\\"id\\\":8,\\\"credits\\\":4,\\\"nameCanonical\\\":\\\"\\\"},{\\\"curriculum_requisites\\\":[{\\\"source_id\\\":2,\\\"target_id\\\":9,\\\"type\\\":\\\"CurriculumPrerequisite\\\"}],\\\"name\\\":\\\"PHYS 141\\\",\\\"metrics\\\":{\\\"centrality\\\":87,\\\"complexity\\\":26.0,\\\"blocking factor\\\":17,\\\"delay factor\\\":9.0},\\\"nameSub\\\":\\\"Intro Mechanics\\\",\\\"id\\\":9,\\\"credits\\\":4,\\\"nameCanonical\\\":\\\"\\\"},{\\\"curriculum_requisites\\\":[{\\\"source_id\\\":4,\\\"target_id\\\":10,\\\"type\\\":\\\"CurriculumPrerequisite\\\"}],\\\"name\\\":\\\"ENGL 102\\\",\\\"metrics\\\":{\\\"centrality\\\":0,\\\"complexity\\\":2.0,\\\"blocking factor\\\":0,\\\"delay factor\\\":2.0},\\\"nameSub\\\":\\\"First-year Comp\\\",\\\"id\\\":10,\\\"credits\\\":3,\\\"nameCanonical\\\":\\\"\\\"},{\\\"curriculum_requisites\\\":[],\\\"name\\\":\\\" \\\",\\\"metrics\\\":{\\\"centrality\\\":0,\\\"complexity\\\":1.0,\\\"blocking factor\\\":0,\\\"delay factor\\\":1.0},\\\"nameSub\\\":\\\"Tier I General Ed\\\",\\\"id\\\":11,\\\"credits\\\":3,\\\"nameCanonical\\\":\\\"\\\"}],\\\"id\\\":2},{\\\"name\\\":\\\"Term 3\\\",\\\"curriculum_items\\\":[{\\\"curriculum_requisites\\\":[],\\\"name\\\":\\\"CE 210\\\",\\\"metrics\\\":{\\\"centrality\\\":0,\\\"complexity\\\":3.0,\\\"blocking factor\\\":1,\\\"delay factor\\\":2.0},\\\"nameSub\\\":\\\"Eng Graphics\\\",\\\"id\\\":12,\\\"credits\\\":1,\\\"nameCanonical\\\":\\\"\\\"},{\\\"curriculum_requisites\\\":[{\\\"source_id\\\":7,\\\"target_id\\\":13,\\\"type\\\":\\\"CurriculumPrerequisite\\\"},{\\\"source_id\\\":9,\\\"target_id\\\":13,\\\"type\\\":\\\"CurriculumPrerequisite\\\"}],\\\"name\\\":\\\"CE 214\\\",\\\"metrics\\\":{\\\"centrality\\\":166,\\\"complexity\\\":24.0,\\\"blocking factor\\\":15,\\\"delay factor\\\":9.0},\\\"nameSub\\\":\\\"Statics\\\",\\\"id\\\":13,\\\"credits\\\":3,\\\"nameCanonical\\\":\\\"\\\"},{\\\"curriculum_requisites\\\":[{\\\"source_id\\\":7,\\\"target_id\\\":14,\\\"type\\\":\\\"CurriculumPrerequisite\\\"}],\\\"name\\\":\\\"MATH  223\\\",\\\"metrics\\\":{\\\"centrality\\\":18,\\\"complexity\\\":10.0,\\\"blocking factor\\\":4,\\\"delay factor\\\":6.0},\\\"nameSub\\\":\\\"Vector Calculus\\\",\\\"id\\\":14,\\\"credits\\\":4,\\\"nameCanonical\\\":\\\"\\\"},{\\\"curriculum_requisites\\\":[{\\\"source_id\\\":7,\\\"target_id\\\":15,\\\"type\\\":\\\"CurriculumPrerequisite\\\"},{\\\"source_id\\\":9,\\\"target_id\\\":15,\\\"type\\\":\\\"CurriculumPrerequisite\\\"}],\\\"name\\\":\\\"PHYS 241\\\",\\\"metrics\\\":{\\\"centrality\\\":0,\\\"complexity\\\":4.0,\\\"blocking factor\\\":0,\\\"delay factor\\\":4.0},\\\"nameSub\\\":\\\"Electricity & Magnetism\\\",\\\"id\\\":15,\\\"credits\\\":4,\\\"nameCanonical\\\":\\\"\\\"},{\\\"curriculum_requisites\\\":[],\\\"name\\\":\\\" \\\",\\\"metrics\\\":{\\\"centrality\\\":0,\\\"complexity\\\":1.0,\\\"blocking factor\\\":0,\\\"delay factor\\\":1.0},\\\"nameSub\\\":\\\"Tier I General Ed\\\",\\\"id\\\":16,\\\"credits\\\":3,\\\"nameCanonical\\\":\\\"\\\"}],\\\"id\\\":3},{\\\"name\\\":\\\"Term 4\\\",\\\"curriculum_items\\\":[{\\\"curriculum_requisites\\\":[{\\\"source_id\\\":13,\\\"target_id\\\":17,\\\"type\\\":\\\"CurriculumPrerequisite\\\"}],\\\"name\\\":\\\"CE 215\\\",\\\"metrics\\\":{\\\"centrality\\\":102,\\\"complexity\\\":18.0,\\\"blocking factor\\\":9,\\\"delay factor\\\":9.0},\\\"nameSub\\\":\\\"Mechanics of Solids\\\",\\\"id\\\":17,\\\"credits\\\":3,\\\"nameCanonical\\\":\\\"\\\"},{\\\"curriculum_requisites\\\":[{\\\"source_id\\\":13,\\\"target_id\\\":18,\\\"type\\\":\\\"CurriculumPrerequisite\\\"}],\\\"name\\\":\\\"CE 218\\\",\\\"metrics\\\":{\\\"centrality\\\":54,\\\"complexity\\\":13.0,\\\"blocking factor\\\":5,\\\"delay factor\\\":8.0},\\\"nameSub\\\":\\\"Mechanics of Fluids\\\",\\\"id\\\":18,\\\"credits\\\":3,\\\"nameCanonical\\\":\\\"\\\"},{\\\"curriculum_requisites\\\":[{\\\"source_id\\\":14,\\\"target_id\\\":19,\\\"type\\\":\\\"CurriculumPrerequisite\\\"}],\\\"name\\\":\\\"MATH 254\\\",\\\"metrics\\\":{\\\"centrality\\\":12,\\\"complexity\\\":8.0,\\\"blocking factor\\\":2,\\\"delay factor\\\":6.0},\\\"nameSub\\\":\\\"Intro. to ODEs\\\",\\\"id\\\":19,\\\"credits\\\":3,\\\"nameCanonical\\\":\\\"\\\"},{\\\"curriculum_requisites\\\":[{\\\"source_id\\\":12,\\\"target_id\\\":20,\\\"type\\\":\\\"CurriculumPrerequisite\\\"}],\\\"name\\\":\\\"CE  251\\\",\\\"metrics\\\":{\\\"centrality\\\":0,\\\"complexity\\\":2.0,\\\"blocking factor\\\":0,\\\"delay factor\\\":2.0},\\\"nameSub\\\":\\\"Elementary Surveying\\\",\\\"id\\\":20,\\\"credits\\\":3,\\\"nameCanonical\\\":\\\"\\\"},{\\\"curriculum_requisites\\\":[{\\\"source_id\\\":14,\\\"target_id\\\":21,\\\"type\\\":\\\"CurriculumPrerequisite\\\"}],\\\"name\\\":\\\"CE 260\\\",\\\"metrics\\\":{\\\"centrality\\\":6,\\\"complexity\\\":7.0,\\\"blocking factor\\\":1,\\\"delay factor\\\":6.0},\\\"nameSub\\\":\\\"Computer Prog in CE\\\",\\\"id\\\":21,\\\"credits\\\":1,\\\"nameCanonical\\\":\\\"\\\"},{\\\"curriculum_requisites\\\":[],\\\"name\\\":\\\" \\\",\\\"metrics\\\":{\\\"centrality\\\":0,\\\"complexity\\\":1.0,\\\"blocking factor\\\":0,\\\"delay factor\\\":1.0},\\\"nameSub\\\":\\\"Tier I General Ed\\\",\\\"id\\\":22,\\\"credits\\\":3,\\\"nameCanonical\\\":\\\"\\\"}],\\\"id\\\":4},{\\\"name\\\":\\\"Term 5\\\",\\\"curriculum_items\\\":[{\\\"curriculum_requisites\\\":[],\\\"name\\\":\\\"CE 301\\\",\\\"metrics\\\":{\\\"centrality\\\":0,\\\"complexity\\\":5.0,\\\"blocking factor\\\":2,\\\"delay factor\\\":3.0},\\\"nameSub\\\":\\\"Eng Communications\\\",\\\"id\\\":23,\\\"credits\\\":3,\\\"nameCanonical\\\":\\\"\\\"},{\\\"curriculum_requisites\\\":[{\\\"source_id\\\":21,\\\"target_id\\\":24,\\\"type\\\":\\\"CurriculumPrerequisite\\\"},{\\\"source_id\\\":19,\\\"target_id\\\":24,\\\"type\\\":\\\"CurriculumPrerequisite\\\"}],\\\"name\\\":\\\"CE 303\\\",\\\"metrics\\\":{\\\"centrality\\\":0,\\\"complexity\\\":6.0,\\\"blocking factor\\\":0,\\\"delay factor\\\":6.0},\\\"nameSub\\\":\\\"Num Analysis for CE\\\",\\\"id\\\":24,\\\"credits\\\":3,\\\"nameCanonical\\\":\\\"\\\"},{\\\"curriculum_requisites\\\":[{\\\"source_id\\\":7,\\\"target_id\\\":25,\\\"type\\\":\\\"CurriculumPrerequisite\\\"}],\\\"name\\\":\\\"CE 310\\\",\\\"metrics\\\":{\\\"centrality\\\":0,\\\"complexity\\\":4.0,\\\"blocking factor\\\":0,\\\"delay factor\\\":4.0},\\\"nameSub\\\":\\\"Prob & Stats for CE\\\",\\\"id\\\":25,\\\"credits\\\":3,\\\"nameCanonical\\\":\\\"\\\"},{\\\"curriculum_requisites\\\":[{\\\"source_id\\\":17,\\\"target_id\\\":26,\\\"type\\\":\\\"CurriculumPrerequisite\\\"}],\\\"name\\\":\\\"CE 333\\\",\\\"metrics\\\":{\\\"centrality\\\":48,\\\"complexity\\\":13.0,\\\"blocking factor\\\":4,\\\"delay factor\\\":9.0},\\\"nameSub\\\":\\\"Elem Structural Analysis\\\",\\\"id\\\":26,\\\"credits\\\":3,\\\"nameCanonical\\\":\\\"\\\"},{\\\"curriculum_requisites\\\":[],\\\"name\\\":\\\"CE 363\\\",\\\"metrics\\\":{\\\"centrality\\\":0,\\\"complexity\\\":3.0,\\\"blocking factor\\\":1,\\\"delay factor\\\":2.0},\\\"nameSub\\\":\\\"Tranport Eng and Pavement Design\\\",\\\"id\\\":27,\\\"credits\\\":4,\\\"nameCanonical\\\":\\\"\\\"}],\\\"id\\\":5},{\\\"name\\\":\\\"Term 6\\\",\\\"curriculum_items\\\":[{\\\"curriculum_requisites\\\":[{\\\"source_id\\\":18,\\\"target_id\\\":28,\\\"type\\\":\\\"CurriculumPrerequisite\\\"}],\\\"name\\\":\\\"CE 323\\\",\\\"metrics\\\":{\\\"centrality\\\":30,\\\"complexity\\\":10.0,\\\"blocking factor\\\":2,\\\"delay factor\\\":8.0},\\\"nameSub\\\":\\\"Hydraulic Eng and Design\\\",\\\"id\\\":28,\\\"credits\\\":4,\\\"nameCanonical\\\":\\\"\\\"},{\\\"curriculum_requisites\\\":[{\\\"source_id\\\":26,\\\"target_id\\\":29,\\\"type\\\":\\\"CurriculumPrerequisite\\\"}],\\\"name\\\":\\\"CE 335\\\",\\\"metrics\\\":{\\\"centrality\\\":34,\\\"complexity\\\":11.0,\\\"blocking factor\\\":2,\\\"delay factor\\\":9.0},\\\"nameSub\\\":\\\"Struct Design in Concrete\\\",\\\"id\\\":29,\\\"credits\\\":3,\\\"nameCanonical\\\":\\\"\\\"},{\\\"curriculum_requisites\\\":[{\\\"source_id\\\":17,\\\"target_id\\\":30,\\\"type\\\":\\\"CurriculumPrerequisite\\\"}],\\\"name\\\":\\\"CE 343\\\",\\\"metrics\\\":{\\\"centrality\\\":42,\\\"complexity\\\":10.0,\\\"blocking factor\\\":3,\\\"delay factor\\\":7.0},\\\"nameSub\\\":\\\"Soil Mechanics\\\",\\\"id\\\":30,\\\"credits\\\":3,\\\"nameCanonical\\\":\\\"\\\"},{\\\"curriculum_requisites\\\":[{\\\"source_id\\\":18,\\\"target_id\\\":31,\\\"type\\\":\\\"CurriculumPrerequisite\\\"}],\\\"name\\\":\\\"CE 370R\\\",\\\"metrics\\\":{\\\"centrality\\\":0,\\\"complexity\\\":6.0,\\\"blocking factor\\\":0,\\\"delay factor\\\":6.0},\\\"nameSub\\\":\\\"Environ and Water Eng\\\",\\\"id\\\":31,\\\"credits\\\":3,\\\"nameCanonical\\\":\\\"\\\"},{\\\"curriculum_requisites\\\":[{\\\"source_id\\\":18,\\\"target_id\\\":32,\\\"type\\\":\\\"CurriculumCorequisite\\\"}],\\\"name\\\":\\\"CE 329\\\",\\\"metrics\\\":{\\\"centrality\\\":0,\\\"complexity\\\":6.0,\\\"blocking factor\\\":0,\\\"delay factor\\\":6.0},\\\"nameSub\\\":\\\"CE lab elective/Fluid Mechanics Lab\\\",\\\"id\\\":32,\\\"credits\\\":1,\\\"nameCanonical\\\":\\\"\\\"},{\\\"curriculum_requisites\\\":[{\\\"source_id\\\":13,\\\"target_id\\\":33,\\\"type\\\":\\\"CurriculumPrerequisite\\\"},{\\\"source_id\\\":19,\\\"target_id\\\":33,\\\"type\\\":\\\"CurriculumPrerequisite\\\"}],\\\"name\\\":\\\"ENGR 211I\\\",\\\"metrics\\\":{\\\"centrality\\\":0,\\\"complexity\\\":6.0,\\\"blocking factor\\\":0,\\\"delay factor\\\":6.0},\\\"nameSub\\\":\\\"Eng Sci Module: Dynamics\\\",\\\"id\\\":33,\\\"credits\\\":1,\\\"nameCanonical\\\":\\\"\\\"},{\\\"curriculum_requisites\\\":[{\\\"source_id\\\":7,\\\"target_id\\\":34,\\\"type\\\":\\\"CurriculumPrerequisite\\\"}],\\\"name\\\":\\\"ENGR 211P\\\",\\\"metrics\\\":{\\\"centrality\\\":0,\\\"complexity\\\":4.0,\\\"blocking factor\\\":0,\\\"delay factor\\\":4.0},\\\"nameSub\\\":\\\"Eng Sci Module: Eng Econ\\\",\\\"id\\\":34,\\\"credits\\\":1,\\\"nameCanonical\\\":\\\"\\\"}],\\\"id\\\":6},{\\\"name\\\":\\\"Term 7\\\",\\\"curriculum_items\\\":[{\\\"curriculum_requisites\\\":[{\\\"source_id\\\":29,\\\"target_id\\\":35,\\\"type\\\":\\\"CurriculumPrerequisite\\\"},{\\\"source_id\\\":28,\\\"target_id\\\":35,\\\"type\\\":\\\"CurriculumPrerequisite\\\"},{\\\"source_id\\\":23,\\\"target_id\\\":35,\\\"type\\\":\\\"CurriculumCorequisite\\\"}],\\\"name\\\":\\\"CE 408A\\\",\\\"metrics\\\":{\\\"centrality\\\":37,\\\"complexity\\\":10.0,\\\"blocking factor\\\":1,\\\"delay factor\\\":9.0},\\\"nameSub\\\":\\\"Issues in CE Practice\\\",\\\"id\\\":35,\\\"credits\\\":3,\\\"nameCanonical\\\":\\\"\\\"},{\\\"curriculum_requisites\\\":[{\\\"source_id\\\":26,\\\"target_id\\\":36,\\\"type\\\":\\\"CurriculumPrerequisite\\\"}],\\\"name\\\":\\\"CE 334\\\",\\\"metrics\\\":{\\\"centrality\\\":0,\\\"complexity\\\":7.0,\\\"blocking factor\\\":0,\\\"delay factor\\\":7.0},\\\"nameSub\\\":\\\"Struct design in Steel\\\",\\\"id\\\":36,\\\"credits\\\":3,\\\"nameCanonical\\\":\\\"\\\"},{\\\"curriculum_requisites\\\":[{\\\"source_id\\\":30,\\\"target_id\\\":37,\\\"type\\\":\\\"CurriculumPrerequisite\\\"}],\\\"name\\\":\\\"CE 440\\\",\\\"metrics\\\":{\\\"centrality\\\":0,\\\"complexity\\\":7.0,\\\"blocking factor\\\":0,\\\"delay factor\\\":7.0},\\\"nameSub\\\":\\\"Foundation Eng\\\",\\\"id\\\":37,\\\"credits\\\":3,\\\"nameCanonical\\\":\\\"\\\"},{\\\"curriculum_requisites\\\":[],\\\"name\\\":\\\" \\\",\\\"metrics\\\":{\\\"centrality\\\":0,\\\"complexity\\\":1.0,\\\"blocking factor\\\":0,\\\"delay factor\\\":1.0},\\\"nameSub\\\":\\\"CE Technical Elective\\\",\\\"id\\\":38,\\\"credits\\\":3,\\\"nameCanonical\\\":\\\"\\\"},{\\\"curriculum_requisites\\\":[],\\\"name\\\":\\\" \\\",\\\"metrics\\\":{\\\"centrality\\\":0,\\\"complexity\\\":1.0,\\\"blocking factor\\\":0,\\\"delay factor\\\":1.0},\\\"nameSub\\\":\\\"CE Technical Elective\\\",\\\"id\\\":39,\\\"credits\\\":3,\\\"nameCanonical\\\":\\\"\\\"},{\\\"curriculum_requisites\\\":[{\\\"source_id\\\":30,\\\"target_id\\\":40,\\\"type\\\":\\\"CurriculumCorequisite\\\"}],\\\"name\\\":\\\"CE 349\\\",\\\"metrics\\\":{\\\"centrality\\\":0,\\\"complexity\\\":7.0,\\\"blocking factor\\\":0,\\\"delay factor\\\":7.0},\\\"nameSub\\\":\\\"CE lab Elective/Solid LAB\\\",\\\"id\\\":40,\\\"credits\\\":1,\\\"nameCanonical\\\":\\\"\\\"}],\\\"id\\\":7},{\\\"name\\\":\\\"Term 8\\\",\\\"curriculum_items\\\":[{\\\"curriculum_requisites\\\":[{\\\"source_id\\\":35,\\\"target_id\\\":41,\\\"type\\\":\\\"CurriculumPrerequisite\\\"},{\\\"source_id\\\":29,\\\"target_id\\\":41,\\\"type\\\":\\\"CurriculumPrerequisite\\\"},{\\\"source_id\\\":27,\\\"target_id\\\":41,\\\"type\\\":\\\"CurriculumPrerequisite\\\"},{\\\"source_id\\\":30,\\\"target_id\\\":41,\\\"type\\\":\\\"CurriculumPrerequisite\\\"},{\\\"source_id\\\":28,\\\"target_id\\\":41,\\\"type\\\":\\\"CurriculumPrerequisite\\\"},{\\\"source_id\\\":23,\\\"target_id\\\":41,\\\"type\\\":\\\"CurriculumPrerequisite\\\"}],\\\"name\\\":\\\"CE 408B\\\",\\\"metrics\\\":{\\\"centrality\\\":0,\\\"complexity\\\":9.0,\\\"blocking factor\\\":0,\\\"delay factor\\\":9.0},\\\"nameSub\\\":\\\"CE Senior Capstone Design\\\",\\\"id\\\":41,\\\"credits\\\":3,\\\"nameCanonical\\\":\\\"\\\"},{\\\"curriculum_requisites\\\":[],\\\"name\\\":\\\" \\\",\\\"metrics\\\":{\\\"centrality\\\":0,\\\"complexity\\\":1.0,\\\"blocking factor\\\":0,\\\"delay factor\\\":1.0},\\\"nameSub\\\":\\\"CE Technical Elective\\\",\\\"id\\\":42,\\\"credits\\\":3,\\\"nameCanonical\\\":\\\"\\\"},{\\\"curriculum_requisites\\\":[],\\\"name\\\":\\\" \\\",\\\"metrics\\\":{\\\"centrality\\\":0,\\\"complexity\\\":1.0,\\\"blocking factor\\\":0,\\\"delay factor\\\":1.0},\\\"nameSub\\\":\\\"CE Technical Elective\\\",\\\"id\\\":43,\\\"credits\\\":3,\\\"nameCanonical\\\":\\\"\\\"},{\\\"curriculum_requisites\\\":[{\\\"source_id\\\":17,\\\"target_id\\\":44,\\\"type\\\":\\\"CurriculumPrerequisite\\\"}],\\\"name\\\":\\\"CE 389\\\",\\\"metrics\\\":{\\\"centrality\\\":0,\\\"complexity\\\":6.0,\\\"blocking factor\\\":0,\\\"delay factor\\\":6.0},\\\"nameSub\\\":\\\"CE LAB Elective/Materials Testing Lab\\\",\\\"id\\\":44,\\\"credits\\\":1,\\\"nameCanonical\\\":\\\"\\\"},{\\\"curriculum_requisites\\\":[],\\\"name\\\":\\\" \\\",\\\"metrics\\\":{\\\"centrality\\\":0,\\\"complexity\\\":1.0,\\\"blocking factor\\\":0,\\\"delay factor\\\":1.0},\\\"nameSub\\\":\\\"Tier II General Ed.\\\",\\\"id\\\":45,\\\"credits\\\":3,\\\"nameCanonical\\\":\\\"\\\"},{\\\"curriculum_requisites\\\":[],\\\"name\\\":\\\" \\\",\\\"metrics\\\":{\\\"centrality\\\":0,\\\"complexity\\\":1.0,\\\"blocking factor\\\":0,\\\"delay factor\\\":1.0},\\\"nameSub\\\":\\\"Tier II General Ed.\\\",\\\"id\\\":46,\\\"credits\\\":3,\\\"nameCanonical\\\":\\\"\\\"}],\\\"id\\\":8}],\\\"institution\\\":\\\"Univerisity of Arizona\\\"}},\\\"*\\\"); window.removeEventListener(\\\"message\\\",window.messageReceived); window.messageReceived=(function (event){return (event.data.curriculum!==undefined) ? (WebIO.setval({\\\"name\\\":\\\"curriculum-data\\\",\\\"scope\\\":\\\"866066435281500927\\\",\\\"id\\\":\\\"12813852657246764557\\\",\\\"type\\\":\\\"observable\\\"},event.data.curriculum)) : undefined}); return window.addEventListener(\\\"message\\\",window.messageReceived)})\")), :style => Dict(:padding => \"0\", :height => \"100vh\", :margin => \"0\", :border => \"none\", :width => \"100%\"))), Dict{String, Tuple{Observables.AbstractObservable, Union{Nothing, Bool}}}(\"curriculum-data\" => (Observable{Dict{String, Any}} with 1 listeners. Value:\n",
       "Dict{String, Any}(\"options\" => Dict{String, Any}(\"hideTerms\" => false, \"edit\" => false), \"curriculum\" => Dict{String, Any}(\"name\" => \"Civil Engineering\", \"dp_name\" => \"2021-2022\", \"curriculum_terms\" => Dict{String, Any}[Dict(\"name\" => \"Term 1\", \"curriculum_items\" => Dict{String, Any}[Dict(\"curriculum_requisites\" => Dict{String, Any}[], \"name\" => \"MATH 122A\", \"metrics\" => Dict{String, Any}(\"centrality\" => 0, \"complexity\" => 37.0, \"blocking factor\" => 28, \"delay factor\" => 9.0), \"nameSub\" => \"Functions for Calculus\", \"id\" => 1, \"credits\" => 1, \"nameCanonical\" => \"\"), Dict(\"curriculum_requisites\" => Dict{String, Any}[Dict(\"source_id\" => 1, \"target_id\" => 2, \"type\" => \"CurriculumCorequisite\")], \"name\" => \"MATH 122B\", \"metrics\" => Dict{String, Any}(\"centrality\" => 206, \"complexity\" => 36.0, \"blocking factor\" => 27, \"delay factor\" => 9.0), \"nameSub\" => \"First Semester Calculus\", \"id\" => 2, \"credits\" => 4, \"nameCanonical\" => \"\"), Dict(\"curriculum_requisites\" => Dict{String, Any}[Dict(\"source_id\" => 2, \"target_id\" => 3, \"type\" => \"CurriculumCorequisite\")], \"name\" => \"CHEM 151\", \"metrics\" => Dict{String, Any}(\"centrality\" => 0, \"complexity\" => 3.0, \"blocking factor\" => 0, \"delay factor\" => 3.0), \"nameSub\" => \"Gen Chemistry I\", \"id\" => 3, \"credits\" => 4, \"nameCanonical\" => \"\"), Dict(\"curriculum_requisites\" => Dict{String, Any}[], \"name\" => \"ENGL 101\", \"metrics\" => Dict{String, Any}(\"centrality\" => 0, \"complexity\" => 3.0, \"blocking factor\" => 1, \"delay factor\" => 2.0), \"nameSub\" => \"First-year Comp\", \"id\" => 4, \"credits\" => 3, \"nameCanonical\" => \"\"), Dict(\"curriculum_requisites\" => Dict{String, Any}[], \"name\" => \"ENGR 102\", \"metrics\" => Dict{String, Any}(\"centrality\" => 0, \"complexity\" => 1.0, \"blocking factor\" => 0, \"delay factor\" => 1.0), \"nameSub\" => \"Intro to Engineering\", \"id\" => 5, \"credits\" => 3, \"nameCanonical\" => \"\"), Dict(\"curriculum_requisites\" => Dict{String, Any}[], \"name\" => \" \", \"metrics\" => Dict{String, Any}(\"centrality\" => 0, \"complexity\" => 1.0, \"blocking factor\" => 0, \"delay factor\" => 1.0), \"nameSub\" => \"Tier I General Ed\", \"id\" => 6, \"credits\" => 3, \"nameCanonical\" => \"\")], \"id\" => 1), Dict(\"name\" => \"Term 2\", \"curriculum_items\" => Dict{String, Any}[Dict(\"curriculum_requisites\" => Dict{String, Any}[Dict(\"source_id\" => 2, \"target_id\" => 7, \"type\" => \"CurriculumPrerequisite\")], \"name\" => \"MATH 129\", \"metrics\" => Dict{String, Any}(\"centrality\" => 113, \"complexity\" => 32.0, \"blocking factor\" => 23, \"delay factor\" => 9.0), \"nameSub\" => \"Calculus II\", \"id\" => 7, \"credits\" => 3, \"nameCanonical\" => \"\"), Dict(\"curriculum_requisites\" => Dict{String, Any}[Dict(\"source_id\" => 2, \"target_id\" => 8, \"type\" => \"CurriculumPrerequisite\")], \"name\" => \"MCB 181R\", \"metrics\" => Dict{String, Any}(\"centrality\" => 0, \"complexity\" => 3.0, \"blocking factor\" => 0, \"delay factor\" => 3.0), \"nameSub\" => \"Intro Biology I\", \"id\" => 8, \"credits\" => 4, \"nameCanonical\" => \"\"), Dict(\"curriculum_requisites\" => Dict{String, Any}[Dict(\"source_id\" => 2, \"target_id\" => 9, \"type\" => \"CurriculumPrerequisite\")], \"name\" => \"PHYS 141\", \"metrics\" => Dict{String, Any}(\"centrality\" => 87, \"complexity\" => 26.0, \"blocking factor\" => 17, \"delay factor\" => 9.0), \"nameSub\" => \"Intro Mechanics\", \"id\" => 9, \"credits\" => 4, \"nameCanonical\" => \"\"), Dict(\"curriculum_requisites\" => Dict{String, Any}[Dict(\"source_id\" => 4, \"target_id\" => 10, \"type\" => \"CurriculumPrerequisite\")], \"name\" => \"ENGL 102\", \"metrics\" => Dict{String, Any}(\"centrality\" => 0, \"complexity\" => 2.0, \"blocking factor\" => 0, \"delay factor\" => 2.0), \"nameSub\" => \"First-year Comp\", \"id\" => 10, \"credits\" => 3, \"nameCanonical\" => \"\"), Dict(\"curriculum_requisites\" => Dict{String, Any}[], \"name\" => \" \", \"metrics\" => Dict{String, Any}(\"centrality\" => 0, \"complexity\" => 1.0, \"blocking factor\" => 0, \"delay factor\" => 1.0), \"nameSub\" => \"Tier I General Ed\", \"id\" => 11, \"credits\" => 3, \"nameCanonical\" => \"\")], \"id\" => 2), Dict(\"name\" => \"Term 3\", \"curriculum_items\" => Dict{String, Any}[Dict(\"curriculum_requisites\" => Dict{String, Any}[], \"name\" => \"CE 210\", \"metrics\" => Dict{String, Any}(\"centrality\" => 0, \"complexity\" => 3.0, \"blocking factor\" => 1, \"delay factor\" => 2.0), \"nameSub\" => \"Eng Graphics\", \"id\" => 12, \"credits\" => 1, \"nameCanonical\" => \"\"), Dict(\"curriculum_requisites\" => Dict{String, Any}[Dict(\"source_id\" => 7, \"target_id\" => 13, \"type\" => \"CurriculumPrerequisite\"), Dict(\"source_id\" => 9, \"target_id\" => 13, \"type\" => \"CurriculumPrerequisite\")], \"name\" => \"CE 214\", \"metrics\" => Dict{String, Any}(\"centrality\" => 166, \"complexity\" => 24.0, \"blocking factor\" => 15, \"delay factor\" => 9.0), \"nameSub\" => \"Statics\", \"id\" => 13, \"credits\" => 3, \"nameCanonical\" => \"\"), Dict(\"curriculum_requisites\" => Dict{String, Any}[Dict(\"source_id\" => 7, \"target_id\" => 14, \"type\" => \"CurriculumPrerequisite\")], \"name\" => \"MATH  223\", \"metrics\" => Dict{String, Any}(\"centrality\" => 18, \"complexity\" => 10.0, \"blocking factor\" => 4, \"delay factor\" => 6.0), \"nameSub\" => \"Vector Calculus\", \"id\" => 14, \"credits\" => 4, \"nameCanonical\" => \"\"), Dict(\"curriculum_requisites\" => Dict{String, Any}[Dict(\"source_id\" => 7, \"target_id\" => 15, \"type\" => \"CurriculumPrerequisite\"), Dict(\"source_id\" => 9, \"target_id\" => 15, \"type\" => \"CurriculumPrerequisite\")], \"name\" => \"PHYS 241\", \"metrics\" => Dict{String, Any}(\"centrality\" => 0, \"complexity\" => 4.0, \"blocking factor\" => 0, \"delay factor\" => 4.0), \"nameSub\" => \"Electricity & Magnetism\", \"id\" => 15, \"credits\" => 4, \"nameCanonical\" => \"\"), Dict(\"curriculum_requisites\" => Dict{String, Any}[], \"name\" => \" \", \"metrics\" => Dict{String, Any}(\"centrality\" => 0, \"complexity\" => 1.0, \"blocking factor\" => 0, \"delay factor\" => 1.0), \"nameSub\" => \"Tier I General Ed\", \"id\" => 16, \"credits\" => 3, \"nameCanonical\" => \"\")], \"id\" => 3), Dict(\"name\" => \"Term 4\", \"curriculum_items\" => Dict{String, Any}[Dict(\"curriculum_requisites\" => Dict{String, Any}[Dict(\"source_id\" => 13, \"target_id\" => 17, \"type\" => \"CurriculumPrerequisite\")], \"name\" => \"CE 215\", \"metrics\" => Dict{String, Any}(\"centrality\" => 102, \"complexity\" => 18.0, \"blocking factor\" => 9, \"delay factor\" => 9.0), \"nameSub\" => \"Mechanics of Solids\", \"id\" => 17, \"credits\" => 3, \"nameCanonical\" => \"\"), Dict(\"curriculum_requisites\" => Dict{String, Any}[Dict(\"source_id\" => 13, \"target_id\" => 18, \"type\" => \"CurriculumPrerequisite\")], \"name\" => \"CE 218\", \"metrics\" => Dict{String, Any}(\"centrality\" => 54, \"complexity\" => 13.0, \"blocking factor\" => 5, \"delay factor\" => 8.0), \"nameSub\" => \"Mechanics of Fluids\", \"id\" => 18, \"credits\" => 3, \"nameCanonical\" => \"\"), Dict(\"curriculum_requisites\" => Dict{String, Any}[Dict(\"source_id\" => 14, \"target_id\" => 19, \"type\" => \"CurriculumPrerequisite\")], \"name\" => \"MATH 254\", \"metrics\" => Dict{String, Any}(\"centrality\" => 12, \"complexity\" => 8.0, \"blocking factor\" => 2, \"delay factor\" => 6.0), \"nameSub\" => \"Intro. to ODEs\", \"id\" => 19, \"credits\" => 3, \"nameCanonical\" => \"\"), Dict(\"curriculum_requisites\" => Dict{String, Any}[Dict(\"source_id\" => 12, \"target_id\" => 20, \"type\" => \"CurriculumPrerequisite\")], \"name\" => \"CE  251\", \"metrics\" => Dict{String, Any}(\"centrality\" => 0, \"complexity\" => 2.0, \"blocking factor\" => 0, \"delay factor\" => 2.0), \"nameSub\" => \"Elementary Surveying\", \"id\" => 20, \"credits\" => 3, \"nameCanonical\" => \"\"), Dict(\"curriculum_requisites\" => Dict{String, Any}[Dict(\"source_id\" => 14, \"target_id\" => 21, \"type\" => \"CurriculumPrerequisite\")], \"name\" => \"CE 260\", \"metrics\" => Dict{String, Any}(\"centrality\" => 6, \"complexity\" => 7.0, \"blocking factor\" => 1, \"delay factor\" => 6.0), \"nameSub\" => \"Computer Prog in CE\", \"id\" => 21, \"credits\" => 1, \"nameCanonical\" => \"\"), Dict(\"curriculum_requisites\" => Dict{String, Any}[], \"name\" => \" \", \"metrics\" => Dict{String, Any}(\"centrality\" => 0, \"complexity\" => 1.0, \"blocking factor\" => 0, \"delay factor\" => 1.0), \"nameSub\" => \"Tier I General Ed\", \"id\" => 22, \"credits\" => 3, \"nameCanonical\" => \"\")], \"id\" => 4), Dict(\"name\" => \"Term 5\", \"curriculum_items\" => Dict{String, Any}[Dict(\"curriculum_requisites\" => Dict{String, Any}[], \"name\" => \"CE 301\", \"metrics\" => Dict{String, Any}(\"centrality\" => 0, \"complexity\" => 5.0, \"blocking factor\" => 2, \"delay factor\" => 3.0), \"nameSub\" => \"Eng Communications\", \"id\" => 23, \"credits\" => 3, \"nameCanonical\" => \"\"), Dict(\"curriculum_requisites\" => Dict{String, Any}[Dict(\"source_id\" => 21, \"target_id\" => 24, \"type\" => \"CurriculumPrerequisite\"), Dict(\"source_id\" => 19, \"target_id\" => 24, \"type\" => \"CurriculumPrerequisite\")], \"name\" => \"CE 303\", \"metrics\" => Dict{String, Any}(\"centrality\" => 0, \"complexity\" => 6.0, \"blocking factor\" => 0, \"delay factor\" => 6.0), \"nameSub\" => \"Num Analysis for CE\", \"id\" => 24, \"credits\" => 3, \"nameCanonical\" => \"\"), Dict(\"curriculum_requisites\" => Dict{String, Any}[Dict(\"source_id\" => 7, \"target_id\" => 25, \"type\" => \"CurriculumPrerequisite\")], \"name\" => \"CE 310\", \"metrics\" => Dict{String, Any}(\"centrality\" => 0, \"complexity\" => 4.0, \"blocking factor\" => 0, \"delay factor\" => 4.0), \"nameSub\" => \"Prob & Stats for CE\", \"id\" => 25, \"credits\" => 3, \"nameCanonical\" => \"\"), Dict(\"curriculum_requisites\" => Dict{String, Any}[Dict(\"source_id\" => 17, \"target_id\" => 26, \"type\" => \"CurriculumPrerequisite\")], \"name\" => \"CE 333\", \"metrics\" => Dict{String, Any}(\"centrality\" => 48, \"complexity\" => 13.0, \"blocking factor\" => 4, \"delay factor\" => 9.0), \"nameSub\" => \"Elem Structural Analysis\", \"id\" => 26, \"credits\" => 3, \"nameCanonical\" => \"\"), Dict(\"curriculum_requisites\" => Dict{String, Any}[], \"name\" => \"CE 363\", \"metrics\" => Dict{String, Any}(\"centrality\" => 0, \"complexity\" => 3.0, \"blocking factor\" => 1, \"delay factor\" => 2.0), \"nameSub\" => \"Tranport Eng and Pavement Design\", \"id\" => 27, \"credits\" => 4, \"nameCanonical\" => \"\")], \"id\" => 5), Dict(\"name\" => \"Term 6\", \"curriculum_items\" => Dict{String, Any}[Dict(\"curriculum_requisites\" => Dict{String, Any}[Dict(\"source_id\" => 18, \"target_id\" => 28, \"type\" => \"CurriculumPrerequisite\")], \"name\" => \"CE 323\", \"metrics\" => Dict{String, Any}(\"centrality\" => 30, \"complexity\" => 10.0, \"blocking factor\" => 2, \"delay factor\" => 8.0), \"nameSub\" => \"Hydraulic Eng and Design\", \"id\" => 28, \"credits\" => 4, \"nameCanonical\" => \"\"), Dict(\"curriculum_requisites\" => Dict{String, Any}[Dict(\"source_id\" => 26, \"target_id\" => 29, \"type\" => \"CurriculumPrerequisite\")], \"name\" => \"CE 335\", \"metrics\" => Dict{String, Any}(\"centrality\" => 34, \"complexity\" => 11.0, \"blocking factor\" => 2, \"delay factor\" => 9.0), \"nameSub\" => \"Struct Design in Concrete\", \"id\" => 29, \"credits\" => 3, \"nameCanonical\" => \"\"), Dict(\"curriculum_requisites\" => Dict{String, Any}[Dict(\"source_id\" => 17, \"target_id\" => 30, \"type\" => \"CurriculumPrerequisite\")], \"name\" => \"CE 343\", \"metrics\" => Dict{String, Any}(\"centrality\" => 42, \"complexity\" => 10.0, \"blocking factor\" => 3, \"delay factor\" => 7.0), \"nameSub\" => \"Soil Mechanics\", \"id\" => 30, \"credits\" => 3, \"nameCanonical\" => \"\"), Dict(\"curriculum_requisites\" => Dict{String, Any}[Dict(\"source_id\" => 18, \"target_id\" => 31, \"type\" => \"CurriculumPrerequisite\")], \"name\" => \"CE 370R\", \"metrics\" => Dict{String, Any}(\"centrality\" => 0, \"complexity\" => 6.0, \"blocking factor\" => 0, \"delay factor\" => 6.0), \"nameSub\" => \"Environ and Water Eng\", \"id\" => 31, \"credits\" => 3, \"nameCanonical\" => \"\"), Dict(\"curriculum_requisites\" => Dict{String, Any}[Dict(\"source_id\" => 18, \"target_id\" => 32, \"type\" => \"CurriculumCorequisite\")], \"name\" => \"CE 329\", \"metrics\" => Dict{String, Any}(\"centrality\" => 0, \"complexity\" => 6.0, \"blocking factor\" => 0, \"delay factor\" => 6.0), \"nameSub\" => \"CE lab elective/Fluid Mechanics Lab\", \"id\" => 32, \"credits\" => 1, \"nameCanonical\" => \"\"), Dict(\"curriculum_requisites\" => Dict{String, Any}[Dict(\"source_id\" => 13, \"target_id\" => 33, \"type\" => \"CurriculumPrerequisite\"), Dict(\"source_id\" => 19, \"target_id\" => 33, \"type\" => \"CurriculumPrerequisite\")], \"name\" => \"ENGR 211I\", \"metrics\" => Dict{String, Any}(\"centrality\" => 0, \"complexity\" => 6.0, \"blocking factor\" => 0, \"delay factor\" => 6.0), \"nameSub\" => \"Eng Sci Module: Dynamics\", \"id\" => 33, \"credits\" => 1, \"nameCanonical\" => \"\"), Dict(\"curriculum_requisites\" => Dict{String, Any}[Dict(\"source_id\" => 7, \"target_id\" => 34, \"type\" => \"CurriculumPrerequisite\")], \"name\" => \"ENGR 211P\", \"metrics\" => Dict{String, Any}(\"centrality\" => 0, \"complexity\" => 4.0, \"blocking factor\" => 0, \"delay factor\" => 4.0), \"nameSub\" => \"Eng Sci Module: Eng Econ\", \"id\" => 34, \"credits\" => 1, \"nameCanonical\" => \"\")], \"id\" => 6), Dict(\"name\" => \"Term 7\", \"curriculum_items\" => Dict{String, Any}[Dict(\"curriculum_requisites\" => Dict{String, Any}[Dict(\"source_id\" => 29, \"target_id\" => 35, \"type\" => \"CurriculumPrerequisite\"), Dict(\"source_id\" => 28, \"target_id\" => 35, \"type\" => \"CurriculumPrerequisite\"), Dict(\"source_id\" => 23, \"target_id\" => 35, \"type\" => \"CurriculumCorequisite\")], \"name\" => \"CE 408A\", \"metrics\" => Dict{String, Any}(\"centrality\" => 37, \"complexity\" => 10.0, \"blocking factor\" => 1, \"delay factor\" => 9.0), \"nameSub\" => \"Issues in CE Practice\", \"id\" => 35, \"credits\" => 3, \"nameCanonical\" => \"\"), Dict(\"curriculum_requisites\" => Dict{String, Any}[Dict(\"source_id\" => 26, \"target_id\" => 36, \"type\" => \"CurriculumPrerequisite\")], \"name\" => \"CE 334\", \"metrics\" => Dict{String, Any}(\"centrality\" => 0, \"complexity\" => 7.0, \"blocking factor\" => 0, \"delay factor\" => 7.0), \"nameSub\" => \"Struct design in Steel\", \"id\" => 36, \"credits\" => 3, \"nameCanonical\" => \"\"), Dict(\"curriculum_requisites\" => Dict{String, Any}[Dict(\"source_id\" => 30, \"target_id\" => 37, \"type\" => \"CurriculumPrerequisite\")], \"name\" => \"CE 440\", \"metrics\" => Dict{String, Any}(\"centrality\" => 0, \"complexity\" => 7.0, \"blocking factor\" => 0, \"delay factor\" => 7.0), \"nameSub\" => \"Foundation Eng\", \"id\" => 37, \"credits\" => 3, \"nameCanonical\" => \"\"), Dict(\"curriculum_requisites\" => Dict{String, Any}[], \"name\" => \" \", \"metrics\" => Dict{String, Any}(\"centrality\" => 0, \"complexity\" => 1.0, \"blocking factor\" => 0, \"delay factor\" => 1.0), \"nameSub\" => \"CE Technical Elective\", \"id\" => 38, \"credits\" => 3, \"nameCanonical\" => \"\"), Dict(\"curriculum_requisites\" => Dict{String, Any}[], \"name\" => \" \", \"metrics\" => Dict{String, Any}(\"centrality\" => 0, \"complexity\" => 1.0, \"blocking factor\" => 0, \"delay factor\" => 1.0), \"nameSub\" => \"CE Technical Elective\", \"id\" => 39, \"credits\" => 3, \"nameCanonical\" => \"\"), Dict(\"curriculum_requisites\" => Dict{String, Any}[Dict(\"source_id\" => 30, \"target_id\" => 40, \"type\" => \"CurriculumCorequisite\")], \"name\" => \"CE 349\", \"metrics\" => Dict{String, Any}(\"centrality\" => 0, \"complexity\" => 7.0, \"blocking factor\" => 0, \"delay factor\" => 7.0), \"nameSub\" => \"CE lab Elective/Solid LAB\", \"id\" => 40, \"credits\" => 1, \"nameCanonical\" => \"\")], \"id\" => 7), Dict(\"name\" => \"Term 8\", \"curriculum_items\" => Dict{String, Any}[Dict(\"curriculum_requisites\" => Dict{String, Any}[Dict(\"source_id\" => 35, \"target_id\" => 41, \"type\" => \"CurriculumPrerequisite\"), Dict(\"source_id\" => 29, \"target_id\" => 41, \"type\" => \"CurriculumPrerequisite\"), Dict(\"source_id\" => 27, \"target_id\" => 41, \"type\" => \"CurriculumPrerequisite\"), Dict(\"source_id\" => 30, \"target_id\" => 41, \"type\" => \"CurriculumPrerequisite\"), Dict(\"source_id\" => 28, \"target_id\" => 41, \"type\" => \"CurriculumPrerequisite\"), Dict(\"source_id\" => 23, \"target_id\" => 41, \"type\" => \"CurriculumPrerequisite\")], \"name\" => \"CE 408B\", \"metrics\" => Dict{String, Any}(\"centrality\" => 0, \"complexity\" => 9.0, \"blocking factor\" => 0, \"delay factor\" => 9.0), \"nameSub\" => \"CE Senior Capstone Design\", \"id\" => 41, \"credits\" => 3, \"nameCanonical\" => \"\"), Dict(\"curriculum_requisites\" => Dict{String, Any}[], \"name\" => \" \", \"metrics\" => Dict{String, Any}(\"centrality\" => 0, \"complexity\" => 1.0, \"blocking factor\" => 0, \"delay factor\" => 1.0), \"nameSub\" => \"CE Technical Elective\", \"id\" => 42, \"credits\" => 3, \"nameCanonical\" => \"\"), Dict(\"curriculum_requisites\" => Dict{String, Any}[], \"name\" => \" \", \"metrics\" => Dict{String, Any}(\"centrality\" => 0, \"complexity\" => 1.0, \"blocking factor\" => 0, \"delay factor\" => 1.0), \"nameSub\" => \"CE Technical Elective\", \"id\" => 43, \"credits\" => 3, \"nameCanonical\" => \"\"), Dict(\"curriculum_requisites\" => Dict{String, Any}[Dict(\"source_id\" => 17, \"target_id\" => 44, \"type\" => \"CurriculumPrerequisite\")], \"name\" => \"CE 389\", \"metrics\" => Dict{String, Any}(\"centrality\" => 0, \"complexity\" => 6.0, \"blocking factor\" => 0, \"delay factor\" => 6.0), \"nameSub\" => \"CE LAB Elective/Materials Testing Lab\", \"id\" => 44, \"credits\" => 1, \"nameCanonical\" => \"\"), Dict(\"curriculum_requisites\" => Dict{String, Any}[], \"name\" => \" \", \"metrics\" => Dict{String, Any}(\"centrality\" => 0, \"complexity\" => 1.0, \"blocking factor\" => 0, \"delay factor\" => 1.0), \"nameSub\" => \"Tier II General Ed.\", \"id\" => 45, \"credits\" => 3, \"nameCanonical\" => \"\"), Dict(\"curriculum_requisites\" => Dict{String, Any}[], \"name\" => \" \", \"metrics\" => Dict{String, Any}(\"centrality\" => 0, \"complexity\" => 1.0, \"blocking factor\" => 0, \"delay factor\" => 1.0), \"nameSub\" => \"Tier II General Ed.\", \"id\" => 46, \"credits\" => 3, \"nameCanonical\" => \"\")], \"id\" => 8)], \"institution\" => \"Univerisity of Arizona\")), nothing)), Set{String}(), nothing, WebIO.Asset[], Dict{Any, Any}(), WebIO.ConnectionPool(Channel{Any}(32), Set{WebIO.AbstractConnection}(), Condition(Base.InvasiveLinkedList{Task}(Task (runnable) @0x000000011dd99770, Task (runnable) @0x000000011dd99770), Base.AlwaysLockedST(1))), WebIO.JSString[])"
      ]
     },
     "execution_count": 22,
     "metadata": {},
     "output_type": "execute_result"
    }
   ],
   "source": [
    "UA_plan = read_csv(\"./Civil_Curricula/University of Arizona.csv\")\n",
    "visualize(UA_plan, notebook=true)"
   ]
  },
  {
   "cell_type": "code",
   "execution_count": 23,
   "id": "efecd437",
   "metadata": {},
   "outputs": [
    {
     "name": "stdout",
     "output_type": "stream",
     "text": [
      "\n",
      "Univerisity of Arizona \n",
      "Curriculum: Civil Engineering\n",
      "  credit hours = 130\n",
      "  number of courses = 46\n",
      "  Blocking Factor --\n",
      "    entire curriculum = 148\n",
      "    max. value = 28, for course(s): MATH 122A - Functions for Calculus\n",
      "  Centrality --\n",
      "    entire curriculum = 955\n",
      "    max. value = 206, for course(s): MATH 122B - First Semester Calculus\n",
      "  Delay Factor --\n",
      "    entire curriculum = 224.0\n",
      "    max. value = 9.0, for course(s): MATH 122A - Functions for Calculus, MATH 122B - First Semester Calculus, MATH 129 - Calculus II, PHYS 141 - Intro Mechanics, CE 214 - Statics, CE 215 - Mechanics of Solids, CE 333 - Elem Structural Analysis, CE 335 - Struct Design in Concrete, CE 408A - Issues in CE Practice, CE 408B - CE Senior Capstone Design\n",
      "  Complexity --\n",
      "    entire curriculum = 372.0\n",
      "    max. value = 37.0, for course(s): MATH 122A - Functions for Calculus\n",
      "  Longest Path(s) --\n",
      "    length = 9, number of paths = 2\n",
      "    path(s):\n",
      "    path 1 = MATH 122A - Functions for Calculus -> MATH 122B - First Semester Calculus -> MATH 129 - Calculus II -> CE 214 - Statics -> CE 215 - Mechanics of Solids -> CE 333 - Elem Structural Analysis -> CE 335 - Struct Design in Concrete -> CE 408A - Issues in CE Practice -> CE 408B - CE Senior Capstone Design\n",
      "    path 2 = MATH 122A - Functions for Calculus -> MATH 122B - First Semester Calculus -> PHYS 141 - Intro Mechanics -> CE 214 - Statics -> CE 215 - Mechanics of Solids -> CE 333 - Elem Structural Analysis -> CE 335 - Struct Design in Concrete -> CE 408A - Issues in CE Practice -> CE 408B - CE Senior Capstone Design\n",
      "\n"
     ]
    }
   ],
   "source": [
    "metrics = basic_metrics(UA_plan.curriculum)\n",
    "println(String(take!(metrics)))"
   ]
  },
  {
   "cell_type": "markdown",
   "id": "d18641f7",
   "metadata": {},
   "source": [
    "# Dead End Courses"
   ]
  },
  {
   "cell_type": "markdown",
   "id": "a9095074",
   "metadata": {},
   "source": [
    "The following function can be used to find \"dead end\" courses in a curricula. Dead end courses are those that appear at the end of a path (i.e., sink vertices), and are not a part of a course associated with the major. E.g., in the case of the civil engineering curriculum above, these would be courses at the end of a path that do not have the \"CE\" or \"ENGR\" prefix. One might consider these courses dead ends, as their course outcomes are not (formally) used by any major-specific course, i.e., by any course with the prefix \"CE."
   ]
  },
  {
   "cell_type": "code",
   "execution_count": 24,
   "id": "f9704185",
   "metadata": {},
   "outputs": [
    {
     "name": "stdout",
     "output_type": "stream",
     "text": [
      "\n",
      "Dead end courses in the Civil Engineering curriculum:\n",
      "  CHEM 151: Gen Chemistry I\n",
      "  MCB 181R: Intro Biology I\n",
      "  ENGL 102: First-year Comp\n",
      "  PHYS 241: Electricity & Magnetism\n",
      "  CE  251: Elementary Surveying\n"
     ]
    }
   ],
   "source": [
    "de = dead_ends(UA_plan.curriculum, [\"ENGR\", \"CE\"])\n",
    "println(\"\\nDead end courses in the $(UA_plan.curriculum.name) curriculum:\")\n",
    "for course in de[2]\n",
    "  println(\"  $(course.prefix) $(course.num): $(course.name)\")\n",
    "end"
   ]
  },
  {
   "cell_type": "markdown",
   "id": "bc25a8d0",
   "metadata": {},
   "source": [
    "# Extraneous Prerequisites"
   ]
  },
  {
   "cell_type": "markdown",
   "id": "f11bf1fc",
   "metadata": {},
   "source": [
    "The following function will find redundant prerequisites that are unnecessary in a curriculum. Extraneous prerequisites do not effect the curricular complexity metric, they simply are unnecessary clutter in a curriculum or degree plan."
   ]
  },
  {
   "cell_type": "code",
   "execution_count": 25,
   "id": "621fc5e8",
   "metadata": {},
   "outputs": [
    {
     "name": "stdout",
     "output_type": "stream",
     "text": [
      "\n",
      "Univerisity of Arizona: curriculum Civil Engineering has extraneous requisites:\n",
      "-CE Senior Capstone Design has redundant requisite Hydraulic Eng and Design\n",
      "-CE Senior Capstone Design has redundant requisite Struct Design in Concrete\n",
      "\n"
     ]
    }
   ],
   "source": [
    "extraneous_requisites(UA_plan.curriculum, print=true);"
   ]
  },
  {
   "cell_type": "markdown",
   "id": "abb4e31c",
   "metadata": {},
   "source": [
    "# Analysis of Curricula Across all schools"
   ]
  },
  {
   "cell_type": "markdown",
   "id": "4fc11159",
   "metadata": {},
   "source": [
    "Assuming the aforementioned directory structure, we first create an dictionary called curriculum containing the degree plans for each of the programs in different schools. The basic_statistics() function is then called in order to compute the statistical features of the curricular complexities within civil engineering discipline of different schools. Finally a histogram of the curricular complexities is provided using the metric_histogram() function.\n"
   ]
  },
  {
   "cell_type": "code",
   "execution_count": 26,
   "id": "921c6317",
   "metadata": {},
   "outputs": [],
   "source": [
    "schools = glob(\"*\", \"civil_curricula\")\n",
    "curriculum = Dict{String, Curriculum}()\n",
    "for csv_filepath in schools\n",
    "    dp = read_csv(csv_filepath)\n",
    "    complexity(dp.curriculum)\n",
    "    curriculum[csv_filepath] = dp.curriculum\n",
    "end"
   ]
  },
  {
   "cell_type": "code",
   "execution_count": 27,
   "id": "51e8e928",
   "metadata": {},
   "outputs": [
    {
     "name": "stdout",
     "output_type": "stream",
     "text": [
      "Carnegie Mellon University => 190.0\n",
      "University of Arizona => 372.0\n",
      "Purdue University => 222.0\n",
      "University of Michigan-Ann Arbor => 127.0\n",
      "University of California-Berkeley => 108.0\n",
      "Georgia Tech University => 133.0\n",
      "University of California-San Diego => 282.29999999999995\n",
      "Arizona State University => 323.0\n",
      "University of Florida => 177.0\n",
      "Cornell University => 137.0\n",
      "Stanford University => 108.20000000000006\n",
      "Avg. curricular complexity = 198.14\n",
      "\n",
      " Metric -- complexity\n",
      "  Number of curricula = 11\n",
      "  Mean = 198.13636363636368\n",
      "  STD = 27.116833926434683\n",
      "  Max. = 372.0\n",
      "  Min. = 108.0\n"
     ]
    },
    {
     "data": {
      "image/svg+xml": [
       "<?xml version=\"1.0\" encoding=\"utf-8\"?>\n",
       "<svg xmlns=\"http://www.w3.org/2000/svg\" xmlns:xlink=\"http://www.w3.org/1999/xlink\" width=\"600\" height=\"400\" viewBox=\"0 0 2400 1600\">\n",
       "<defs>\n",
       "  <clipPath id=\"clip950\">\n",
       "    <rect x=\"0\" y=\"0\" width=\"2400\" height=\"1600\"/>\n",
       "  </clipPath>\n",
       "</defs>\n",
       "<path clip-path=\"url(#clip950)\" d=\"\n",
       "M0 1600 L2400 1600 L2400 0 L0 0  Z\n",
       "  \" fill=\"#ffffff\" fill-rule=\"evenodd\" fill-opacity=\"1\"/>\n",
       "<defs>\n",
       "  <clipPath id=\"clip951\">\n",
       "    <rect x=\"480\" y=\"0\" width=\"1681\" height=\"1600\"/>\n",
       "  </clipPath>\n",
       "</defs>\n",
       "<path clip-path=\"url(#clip950)\" d=\"\n",
       "M175.445 1423.18 L2352.76 1423.18 L2352.76 123.472 L175.445 123.472  Z\n",
       "  \" fill=\"#ffffff\" fill-rule=\"evenodd\" fill-opacity=\"1\"/>\n",
       "<defs>\n",
       "  <clipPath id=\"clip952\">\n",
       "    <rect x=\"175\" y=\"123\" width=\"2178\" height=\"1301\"/>\n",
       "  </clipPath>\n",
       "</defs>\n",
       "<polyline clip-path=\"url(#clip952)\" style=\"stroke:#000000; stroke-linecap:butt; stroke-linejoin:round; stroke-width:2; stroke-opacity:0.1; fill:none\" points=\"\n",
       "  175.445,1423.18 175.445,123.472 \n",
       "  \"/>\n",
       "<polyline clip-path=\"url(#clip952)\" style=\"stroke:#000000; stroke-linecap:butt; stroke-linejoin:round; stroke-width:2; stroke-opacity:0.1; fill:none\" points=\"\n",
       "  610.907,1423.18 610.907,123.472 \n",
       "  \"/>\n",
       "<polyline clip-path=\"url(#clip952)\" style=\"stroke:#000000; stroke-linecap:butt; stroke-linejoin:round; stroke-width:2; stroke-opacity:0.1; fill:none\" points=\"\n",
       "  1046.37,1423.18 1046.37,123.472 \n",
       "  \"/>\n",
       "<polyline clip-path=\"url(#clip952)\" style=\"stroke:#000000; stroke-linecap:butt; stroke-linejoin:round; stroke-width:2; stroke-opacity:0.1; fill:none\" points=\"\n",
       "  1481.83,1423.18 1481.83,123.472 \n",
       "  \"/>\n",
       "<polyline clip-path=\"url(#clip952)\" style=\"stroke:#000000; stroke-linecap:butt; stroke-linejoin:round; stroke-width:2; stroke-opacity:0.1; fill:none\" points=\"\n",
       "  1917.29,1423.18 1917.29,123.472 \n",
       "  \"/>\n",
       "<polyline clip-path=\"url(#clip952)\" style=\"stroke:#000000; stroke-linecap:butt; stroke-linejoin:round; stroke-width:2; stroke-opacity:0.1; fill:none\" points=\"\n",
       "  2352.76,1423.18 2352.76,123.472 \n",
       "  \"/>\n",
       "<polyline clip-path=\"url(#clip950)\" style=\"stroke:#000000; stroke-linecap:butt; stroke-linejoin:round; stroke-width:4; stroke-opacity:1; fill:none\" points=\"\n",
       "  175.445,1423.18 2352.76,1423.18 \n",
       "  \"/>\n",
       "<polyline clip-path=\"url(#clip950)\" style=\"stroke:#000000; stroke-linecap:butt; stroke-linejoin:round; stroke-width:4; stroke-opacity:1; fill:none\" points=\"\n",
       "  175.445,1423.18 175.445,1404.28 \n",
       "  \"/>\n",
       "<polyline clip-path=\"url(#clip950)\" style=\"stroke:#000000; stroke-linecap:butt; stroke-linejoin:round; stroke-width:4; stroke-opacity:1; fill:none\" points=\"\n",
       "  610.907,1423.18 610.907,1404.28 \n",
       "  \"/>\n",
       "<polyline clip-path=\"url(#clip950)\" style=\"stroke:#000000; stroke-linecap:butt; stroke-linejoin:round; stroke-width:4; stroke-opacity:1; fill:none\" points=\"\n",
       "  1046.37,1423.18 1046.37,1404.28 \n",
       "  \"/>\n",
       "<polyline clip-path=\"url(#clip950)\" style=\"stroke:#000000; stroke-linecap:butt; stroke-linejoin:round; stroke-width:4; stroke-opacity:1; fill:none\" points=\"\n",
       "  1481.83,1423.18 1481.83,1404.28 \n",
       "  \"/>\n",
       "<polyline clip-path=\"url(#clip950)\" style=\"stroke:#000000; stroke-linecap:butt; stroke-linejoin:round; stroke-width:4; stroke-opacity:1; fill:none\" points=\"\n",
       "  1917.29,1423.18 1917.29,1404.28 \n",
       "  \"/>\n",
       "<polyline clip-path=\"url(#clip950)\" style=\"stroke:#000000; stroke-linecap:butt; stroke-linejoin:round; stroke-width:4; stroke-opacity:1; fill:none\" points=\"\n",
       "  2352.76,1423.18 2352.76,1404.28 \n",
       "  \"/>\n",
       "<path clip-path=\"url(#clip950)\" d=\"M175.445 1454.1 Q171.834 1454.1 170.005 1457.66 Q168.2 1461.2 168.2 1468.33 Q168.2 1475.44 170.005 1479.01 Q171.834 1482.55 175.445 1482.55 Q179.079 1482.55 180.885 1479.01 Q182.714 1475.44 182.714 1468.33 Q182.714 1461.2 180.885 1457.66 Q179.079 1454.1 175.445 1454.1 M175.445 1450.39 Q181.255 1450.39 184.311 1455 Q187.39 1459.58 187.39 1468.33 Q187.39 1477.06 184.311 1481.67 Q181.255 1486.25 175.445 1486.25 Q169.635 1486.25 166.556 1481.67 Q163.501 1477.06 163.501 1468.33 Q163.501 1459.58 166.556 1455 Q169.635 1450.39 175.445 1450.39 Z\" fill=\"#000000\" fill-rule=\"evenodd\" fill-opacity=\"1\" /><path clip-path=\"url(#clip950)\" d=\"M570.514 1481.64 L578.153 1481.64 L578.153 1455.28 L569.843 1456.95 L569.843 1452.69 L578.107 1451.02 L582.782 1451.02 L582.782 1481.64 L590.421 1481.64 L590.421 1485.58 L570.514 1485.58 L570.514 1481.64 Z\" fill=\"#000000\" fill-rule=\"evenodd\" fill-opacity=\"1\" /><path clip-path=\"url(#clip950)\" d=\"M609.866 1454.1 Q606.255 1454.1 604.426 1457.66 Q602.62 1461.2 602.62 1468.33 Q602.62 1475.44 604.426 1479.01 Q606.255 1482.55 609.866 1482.55 Q613.5 1482.55 615.305 1479.01 Q617.134 1475.44 617.134 1468.33 Q617.134 1461.2 615.305 1457.66 Q613.5 1454.1 609.866 1454.1 M609.866 1450.39 Q615.676 1450.39 618.731 1455 Q621.81 1459.58 621.81 1468.33 Q621.81 1477.06 618.731 1481.67 Q615.676 1486.25 609.866 1486.25 Q604.056 1486.25 600.977 1481.67 Q597.921 1477.06 597.921 1468.33 Q597.921 1459.58 600.977 1455 Q604.056 1450.39 609.866 1450.39 Z\" fill=\"#000000\" fill-rule=\"evenodd\" fill-opacity=\"1\" /><path clip-path=\"url(#clip950)\" d=\"M640.028 1454.1 Q636.416 1454.1 634.588 1457.66 Q632.782 1461.2 632.782 1468.33 Q632.782 1475.44 634.588 1479.01 Q636.416 1482.55 640.028 1482.55 Q643.662 1482.55 645.467 1479.01 Q647.296 1475.44 647.296 1468.33 Q647.296 1461.2 645.467 1457.66 Q643.662 1454.1 640.028 1454.1 M640.028 1450.39 Q645.838 1450.39 648.893 1455 Q651.972 1459.58 651.972 1468.33 Q651.972 1477.06 648.893 1481.67 Q645.838 1486.25 640.028 1486.25 Q634.217 1486.25 631.139 1481.67 Q628.083 1477.06 628.083 1468.33 Q628.083 1459.58 631.139 1455 Q634.217 1450.39 640.028 1450.39 Z\" fill=\"#000000\" fill-rule=\"evenodd\" fill-opacity=\"1\" /><path clip-path=\"url(#clip950)\" d=\"M1010.06 1481.64 L1026.38 1481.64 L1026.38 1485.58 L1004.44 1485.58 L1004.44 1481.64 Q1007.1 1478.89 1011.68 1474.26 Q1016.29 1469.61 1017.47 1468.27 Q1019.71 1465.74 1020.59 1464.01 Q1021.5 1462.25 1021.5 1460.56 Q1021.5 1457.8 1019.55 1456.07 Q1017.63 1454.33 1014.53 1454.33 Q1012.33 1454.33 1009.88 1455.09 Q1007.45 1455.86 1004.67 1457.41 L1004.67 1452.69 Q1007.49 1451.55 1009.95 1450.97 Q1012.4 1450.39 1014.44 1450.39 Q1019.81 1450.39 1023 1453.08 Q1026.2 1455.77 1026.2 1460.26 Q1026.2 1462.39 1025.39 1464.31 Q1024.6 1466.2 1022.49 1468.8 Q1021.91 1469.47 1018.81 1472.69 Q1015.71 1475.88 1010.06 1481.64 Z\" fill=\"#000000\" fill-rule=\"evenodd\" fill-opacity=\"1\" /><path clip-path=\"url(#clip950)\" d=\"M1046.2 1454.1 Q1042.58 1454.1 1040.76 1457.66 Q1038.95 1461.2 1038.95 1468.33 Q1038.95 1475.44 1040.76 1479.01 Q1042.58 1482.55 1046.2 1482.55 Q1049.83 1482.55 1051.64 1479.01 Q1053.46 1475.44 1053.46 1468.33 Q1053.46 1461.2 1051.64 1457.66 Q1049.83 1454.1 1046.2 1454.1 M1046.2 1450.39 Q1052.01 1450.39 1055.06 1455 Q1058.14 1459.58 1058.14 1468.33 Q1058.14 1477.06 1055.06 1481.67 Q1052.01 1486.25 1046.2 1486.25 Q1040.39 1486.25 1037.31 1481.67 Q1034.25 1477.06 1034.25 1468.33 Q1034.25 1459.58 1037.31 1455 Q1040.39 1450.39 1046.2 1450.39 Z\" fill=\"#000000\" fill-rule=\"evenodd\" fill-opacity=\"1\" /><path clip-path=\"url(#clip950)\" d=\"M1076.36 1454.1 Q1072.75 1454.1 1070.92 1457.66 Q1069.11 1461.2 1069.11 1468.33 Q1069.11 1475.44 1070.92 1479.01 Q1072.75 1482.55 1076.36 1482.55 Q1079.99 1482.55 1081.8 1479.01 Q1083.63 1475.44 1083.63 1468.33 Q1083.63 1461.2 1081.8 1457.66 Q1079.99 1454.1 1076.36 1454.1 M1076.36 1450.39 Q1082.17 1450.39 1085.22 1455 Q1088.3 1459.58 1088.3 1468.33 Q1088.3 1477.06 1085.22 1481.67 Q1082.17 1486.25 1076.36 1486.25 Q1070.55 1486.25 1067.47 1481.67 Q1064.41 1477.06 1064.41 1468.33 Q1064.41 1459.58 1067.47 1455 Q1070.55 1450.39 1076.36 1450.39 Z\" fill=\"#000000\" fill-rule=\"evenodd\" fill-opacity=\"1\" /><path clip-path=\"url(#clip950)\" d=\"M1455.59 1466.95 Q1458.95 1467.66 1460.82 1469.93 Q1462.72 1472.2 1462.72 1475.53 Q1462.72 1480.65 1459.2 1483.45 Q1455.69 1486.25 1449.2 1486.25 Q1447.03 1486.25 1444.71 1485.81 Q1442.42 1485.39 1439.97 1484.54 L1439.97 1480.02 Q1441.91 1481.16 1444.23 1481.74 Q1446.54 1482.32 1449.07 1482.32 Q1453.46 1482.32 1455.76 1480.58 Q1458.07 1478.84 1458.07 1475.53 Q1458.07 1472.48 1455.92 1470.77 Q1453.79 1469.03 1449.97 1469.03 L1445.94 1469.03 L1445.94 1465.19 L1450.15 1465.19 Q1453.6 1465.19 1455.43 1463.82 Q1457.26 1462.43 1457.26 1459.84 Q1457.26 1457.18 1455.36 1455.77 Q1453.49 1454.33 1449.97 1454.33 Q1448.05 1454.33 1445.85 1454.75 Q1443.65 1455.16 1441.01 1456.04 L1441.01 1451.88 Q1443.67 1451.14 1445.99 1450.77 Q1448.32 1450.39 1450.39 1450.39 Q1455.71 1450.39 1458.81 1452.83 Q1461.91 1455.23 1461.91 1459.35 Q1461.91 1462.22 1460.27 1464.21 Q1458.63 1466.18 1455.59 1466.95 Z\" fill=\"#000000\" fill-rule=\"evenodd\" fill-opacity=\"1\" /><path clip-path=\"url(#clip950)\" d=\"M1481.59 1454.1 Q1477.98 1454.1 1476.15 1457.66 Q1474.34 1461.2 1474.34 1468.33 Q1474.34 1475.44 1476.15 1479.01 Q1477.98 1482.55 1481.59 1482.55 Q1485.22 1482.55 1487.03 1479.01 Q1488.86 1475.44 1488.86 1468.33 Q1488.86 1461.2 1487.03 1457.66 Q1485.22 1454.1 1481.59 1454.1 M1481.59 1450.39 Q1487.4 1450.39 1490.45 1455 Q1493.53 1459.58 1493.53 1468.33 Q1493.53 1477.06 1490.45 1481.67 Q1487.4 1486.25 1481.59 1486.25 Q1475.78 1486.25 1472.7 1481.67 Q1469.64 1477.06 1469.64 1468.33 Q1469.64 1459.58 1472.7 1455 Q1475.78 1450.39 1481.59 1450.39 Z\" fill=\"#000000\" fill-rule=\"evenodd\" fill-opacity=\"1\" /><path clip-path=\"url(#clip950)\" d=\"M1511.75 1454.1 Q1508.14 1454.1 1506.31 1457.66 Q1504.51 1461.2 1504.51 1468.33 Q1504.51 1475.44 1506.31 1479.01 Q1508.14 1482.55 1511.75 1482.55 Q1515.38 1482.55 1517.19 1479.01 Q1519.02 1475.44 1519.02 1468.33 Q1519.02 1461.2 1517.19 1457.66 Q1515.38 1454.1 1511.75 1454.1 M1511.75 1450.39 Q1517.56 1450.39 1520.62 1455 Q1523.69 1459.58 1523.69 1468.33 Q1523.69 1477.06 1520.62 1481.67 Q1517.56 1486.25 1511.75 1486.25 Q1505.94 1486.25 1502.86 1481.67 Q1499.81 1477.06 1499.81 1468.33 Q1499.81 1459.58 1502.86 1455 Q1505.94 1450.39 1511.75 1450.39 Z\" fill=\"#000000\" fill-rule=\"evenodd\" fill-opacity=\"1\" /><path clip-path=\"url(#clip950)\" d=\"M1890.38 1455.09 L1878.58 1473.54 L1890.38 1473.54 L1890.38 1455.09 M1889.16 1451.02 L1895.04 1451.02 L1895.04 1473.54 L1899.97 1473.54 L1899.97 1477.43 L1895.04 1477.43 L1895.04 1485.58 L1890.38 1485.58 L1890.38 1477.43 L1874.78 1477.43 L1874.78 1472.92 L1889.16 1451.02 Z\" fill=\"#000000\" fill-rule=\"evenodd\" fill-opacity=\"1\" /><path clip-path=\"url(#clip950)\" d=\"M1917.7 1454.1 Q1914.09 1454.1 1912.26 1457.66 Q1910.45 1461.2 1910.45 1468.33 Q1910.45 1475.44 1912.26 1479.01 Q1914.09 1482.55 1917.7 1482.55 Q1921.33 1482.55 1923.14 1479.01 Q1924.97 1475.44 1924.97 1468.33 Q1924.97 1461.2 1923.14 1457.66 Q1921.33 1454.1 1917.7 1454.1 M1917.7 1450.39 Q1923.51 1450.39 1926.56 1455 Q1929.64 1459.58 1929.64 1468.33 Q1929.64 1477.06 1926.56 1481.67 Q1923.51 1486.25 1917.7 1486.25 Q1911.89 1486.25 1908.81 1481.67 Q1905.75 1477.06 1905.75 1468.33 Q1905.75 1459.58 1908.81 1455 Q1911.89 1450.39 1917.7 1450.39 Z\" fill=\"#000000\" fill-rule=\"evenodd\" fill-opacity=\"1\" /><path clip-path=\"url(#clip950)\" d=\"M1947.86 1454.1 Q1944.25 1454.1 1942.42 1457.66 Q1940.62 1461.2 1940.62 1468.33 Q1940.62 1475.44 1942.42 1479.01 Q1944.25 1482.55 1947.86 1482.55 Q1951.49 1482.55 1953.3 1479.01 Q1955.13 1475.44 1955.13 1468.33 Q1955.13 1461.2 1953.3 1457.66 Q1951.49 1454.1 1947.86 1454.1 M1947.86 1450.39 Q1953.67 1450.39 1956.73 1455 Q1959.81 1459.58 1959.81 1468.33 Q1959.81 1477.06 1956.73 1481.67 Q1953.67 1486.25 1947.86 1486.25 Q1942.05 1486.25 1938.97 1481.67 Q1935.92 1477.06 1935.92 1468.33 Q1935.92 1459.58 1938.97 1455 Q1942.05 1450.39 1947.86 1450.39 Z\" fill=\"#000000\" fill-rule=\"evenodd\" fill-opacity=\"1\" /><path clip-path=\"url(#clip950)\" d=\"M2312.37 1451.02 L2330.73 1451.02 L2330.73 1454.96 L2316.66 1454.96 L2316.66 1463.43 Q2317.68 1463.08 2318.69 1462.92 Q2319.71 1462.73 2320.73 1462.73 Q2326.52 1462.73 2329.9 1465.9 Q2333.28 1469.08 2333.28 1474.49 Q2333.28 1480.07 2329.8 1483.17 Q2326.33 1486.25 2320.01 1486.25 Q2317.84 1486.25 2315.57 1485.88 Q2313.32 1485.51 2310.92 1484.77 L2310.92 1480.07 Q2313 1481.2 2315.22 1481.76 Q2317.44 1482.32 2319.92 1482.32 Q2323.93 1482.32 2326.26 1480.21 Q2328.6 1478.1 2328.6 1474.49 Q2328.6 1470.88 2326.26 1468.77 Q2323.93 1466.67 2319.92 1466.67 Q2318.05 1466.67 2316.17 1467.08 Q2314.32 1467.5 2312.37 1468.38 L2312.37 1451.02 Z\" fill=\"#000000\" fill-rule=\"evenodd\" fill-opacity=\"1\" /><path clip-path=\"url(#clip950)\" d=\"M2352.49 1454.1 Q2348.88 1454.1 2347.05 1457.66 Q2345.24 1461.2 2345.24 1468.33 Q2345.24 1475.44 2347.05 1479.01 Q2348.88 1482.55 2352.49 1482.55 Q2356.12 1482.55 2357.93 1479.01 Q2359.76 1475.44 2359.76 1468.33 Q2359.76 1461.2 2357.93 1457.66 Q2356.12 1454.1 2352.49 1454.1 M2352.49 1450.39 Q2358.3 1450.39 2361.36 1455 Q2364.43 1459.58 2364.43 1468.33 Q2364.43 1477.06 2361.36 1481.67 Q2358.3 1486.25 2352.49 1486.25 Q2346.68 1486.25 2343.6 1481.67 Q2340.55 1477.06 2340.55 1468.33 Q2340.55 1459.58 2343.6 1455 Q2346.68 1450.39 2352.49 1450.39 Z\" fill=\"#000000\" fill-rule=\"evenodd\" fill-opacity=\"1\" /><path clip-path=\"url(#clip950)\" d=\"M2382.65 1454.1 Q2379.04 1454.1 2377.21 1457.66 Q2375.41 1461.2 2375.41 1468.33 Q2375.41 1475.44 2377.21 1479.01 Q2379.04 1482.55 2382.65 1482.55 Q2386.29 1482.55 2388.09 1479.01 Q2389.92 1475.44 2389.92 1468.33 Q2389.92 1461.2 2388.09 1457.66 Q2386.29 1454.1 2382.65 1454.1 M2382.65 1450.39 Q2388.46 1450.39 2391.52 1455 Q2394.6 1459.58 2394.6 1468.33 Q2394.6 1477.06 2391.52 1481.67 Q2388.46 1486.25 2382.65 1486.25 Q2376.84 1486.25 2373.76 1481.67 Q2370.71 1477.06 2370.71 1468.33 Q2370.71 1459.58 2373.76 1455 Q2376.84 1450.39 2382.65 1450.39 Z\" fill=\"#000000\" fill-rule=\"evenodd\" fill-opacity=\"1\" /><path clip-path=\"url(#clip950)\" d=\"M950.605 1533.76 L950.605 1539.24 Q948.123 1537.87 945.608 1537.2 Q943.126 1536.5 940.579 1536.5 Q934.882 1536.5 931.731 1540.13 Q928.58 1543.73 928.58 1550.25 Q928.58 1556.78 931.731 1560.4 Q934.882 1564 940.579 1564 Q943.126 1564 945.608 1563.33 Q948.123 1562.63 950.605 1561.26 L950.605 1566.68 Q948.155 1567.82 945.513 1568.39 Q942.903 1568.97 939.943 1568.97 Q931.89 1568.97 927.148 1563.91 Q922.405 1558.85 922.405 1550.25 Q922.405 1541.53 927.18 1536.53 Q931.986 1531.54 940.325 1531.54 Q943.03 1531.54 945.608 1532.11 Q948.186 1532.65 950.605 1533.76 Z\" fill=\"#000000\" fill-rule=\"evenodd\" fill-opacity=\"1\" /><path clip-path=\"url(#clip950)\" d=\"M960.186 1553.98 L960.186 1532.4 L966.042 1532.4 L966.042 1553.75 Q966.042 1558.81 968.016 1561.36 Q969.989 1563.87 973.936 1563.87 Q978.678 1563.87 981.415 1560.85 Q984.185 1557.83 984.185 1552.61 L984.185 1532.4 L990.041 1532.4 L990.041 1568.04 L984.185 1568.04 L984.185 1562.57 Q982.052 1565.82 979.219 1567.41 Q976.418 1568.97 972.694 1568.97 Q966.552 1568.97 963.369 1565.15 Q960.186 1561.33 960.186 1553.98 M974.922 1531.54 L974.922 1531.54 Z\" fill=\"#000000\" fill-rule=\"evenodd\" fill-opacity=\"1\" /><path clip-path=\"url(#clip950)\" d=\"M1022.76 1537.87 Q1021.77 1537.3 1020.6 1537.04 Q1019.45 1536.76 1018.05 1536.76 Q1013.08 1536.76 1010.41 1540 Q1007.77 1543.22 1007.77 1549.27 L1007.77 1568.04 L1001.88 1568.04 L1001.88 1532.4 L1007.77 1532.4 L1007.77 1537.93 Q1009.62 1534.69 1012.58 1533.13 Q1015.54 1531.54 1019.77 1531.54 Q1020.37 1531.54 1021.11 1531.63 Q1021.84 1531.7 1022.73 1531.85 L1022.76 1537.87 Z\" fill=\"#000000\" fill-rule=\"evenodd\" fill-opacity=\"1\" /><path clip-path=\"url(#clip950)\" d=\"M1048.41 1537.87 Q1047.43 1537.3 1046.25 1537.04 Q1045.1 1536.76 1043.7 1536.76 Q1038.74 1536.76 1036.07 1540 Q1033.42 1543.22 1033.42 1549.27 L1033.42 1568.04 L1027.53 1568.04 L1027.53 1532.4 L1033.42 1532.4 L1033.42 1537.93 Q1035.27 1534.69 1038.23 1533.13 Q1041.19 1531.54 1045.42 1531.54 Q1046.03 1531.54 1046.76 1531.63 Q1047.49 1531.7 1048.38 1531.85 L1048.41 1537.87 Z\" fill=\"#000000\" fill-rule=\"evenodd\" fill-opacity=\"1\" /><path clip-path=\"url(#clip950)\" d=\"M1054.56 1532.4 L1060.41 1532.4 L1060.41 1568.04 L1054.56 1568.04 L1054.56 1532.4 M1054.56 1518.52 L1060.41 1518.52 L1060.41 1525.93 L1054.56 1525.93 L1054.56 1518.52 Z\" fill=\"#000000\" fill-rule=\"evenodd\" fill-opacity=\"1\" /><path clip-path=\"url(#clip950)\" d=\"M1098.32 1533.76 L1098.32 1539.24 Q1095.84 1537.87 1093.32 1537.2 Q1090.84 1536.5 1088.3 1536.5 Q1082.6 1536.5 1079.45 1540.13 Q1076.3 1543.73 1076.3 1550.25 Q1076.3 1556.78 1079.45 1560.4 Q1082.6 1564 1088.3 1564 Q1090.84 1564 1093.32 1563.33 Q1095.84 1562.63 1098.32 1561.26 L1098.32 1566.68 Q1095.87 1567.82 1093.23 1568.39 Q1090.62 1568.97 1087.66 1568.97 Q1079.61 1568.97 1074.86 1563.91 Q1070.12 1558.85 1070.12 1550.25 Q1070.12 1541.53 1074.9 1536.53 Q1079.7 1531.54 1088.04 1531.54 Q1090.75 1531.54 1093.32 1532.11 Q1095.9 1532.65 1098.32 1533.76 Z\" fill=\"#000000\" fill-rule=\"evenodd\" fill-opacity=\"1\" /><path clip-path=\"url(#clip950)\" d=\"M1107.9 1553.98 L1107.9 1532.4 L1113.76 1532.4 L1113.76 1553.75 Q1113.76 1558.81 1115.73 1561.36 Q1117.71 1563.87 1121.65 1563.87 Q1126.39 1563.87 1129.13 1560.85 Q1131.9 1557.83 1131.9 1552.61 L1131.9 1532.4 L1137.76 1532.4 L1137.76 1568.04 L1131.9 1568.04 L1131.9 1562.57 Q1129.77 1565.82 1126.94 1567.41 Q1124.13 1568.97 1120.41 1568.97 Q1114.27 1568.97 1111.08 1565.15 Q1107.9 1561.33 1107.9 1553.98 M1122.64 1531.54 L1122.64 1531.54 Z\" fill=\"#000000\" fill-rule=\"evenodd\" fill-opacity=\"1\" /><path clip-path=\"url(#clip950)\" d=\"M1149.82 1518.52 L1155.68 1518.52 L1155.68 1568.04 L1149.82 1568.04 L1149.82 1518.52 Z\" fill=\"#000000\" fill-rule=\"evenodd\" fill-opacity=\"1\" /><path clip-path=\"url(#clip950)\" d=\"M1184.13 1550.12 Q1177.03 1550.12 1174.3 1551.75 Q1171.56 1553.37 1171.56 1557.29 Q1171.56 1560.4 1173.6 1562.25 Q1175.66 1564.07 1179.2 1564.07 Q1184.07 1564.07 1187 1560.63 Q1189.96 1557.16 1189.96 1551.43 L1189.96 1550.12 L1184.13 1550.12 M1195.81 1547.71 L1195.81 1568.04 L1189.96 1568.04 L1189.96 1562.63 Q1187.95 1565.88 1184.96 1567.44 Q1181.97 1568.97 1177.64 1568.97 Q1172.16 1568.97 1168.92 1565.91 Q1165.7 1562.82 1165.7 1557.67 Q1165.7 1551.65 1169.71 1548.6 Q1173.76 1545.54 1181.74 1545.54 L1189.96 1545.54 L1189.96 1544.97 Q1189.96 1540.93 1187.28 1538.73 Q1184.64 1536.5 1179.83 1536.5 Q1176.78 1536.5 1173.88 1537.23 Q1170.99 1537.97 1168.31 1539.43 L1168.31 1534.02 Q1171.53 1532.78 1174.55 1532.17 Q1177.57 1531.54 1180.44 1531.54 Q1188.17 1531.54 1191.99 1535.55 Q1195.81 1539.56 1195.81 1547.71 Z\" fill=\"#000000\" fill-rule=\"evenodd\" fill-opacity=\"1\" /><path clip-path=\"url(#clip950)\" d=\"M1228.53 1537.87 Q1227.55 1537.3 1226.37 1537.04 Q1225.22 1536.76 1223.82 1536.76 Q1218.86 1536.76 1216.18 1540 Q1213.54 1543.22 1213.54 1549.27 L1213.54 1568.04 L1207.65 1568.04 L1207.65 1532.4 L1213.54 1532.4 L1213.54 1537.93 Q1215.39 1534.69 1218.35 1533.13 Q1221.31 1531.54 1225.54 1531.54 Q1226.15 1531.54 1226.88 1531.63 Q1227.61 1531.7 1228.5 1531.85 L1228.53 1537.87 Z\" fill=\"#000000\" fill-rule=\"evenodd\" fill-opacity=\"1\" /><path clip-path=\"url(#clip950)\" d=\"M1281.05 1533.76 L1281.05 1539.24 Q1278.57 1537.87 1276.05 1537.2 Q1273.57 1536.5 1271.02 1536.5 Q1265.33 1536.5 1262.17 1540.13 Q1259.02 1543.73 1259.02 1550.25 Q1259.02 1556.78 1262.17 1560.4 Q1265.33 1564 1271.02 1564 Q1273.57 1564 1276.05 1563.33 Q1278.57 1562.63 1281.05 1561.26 L1281.05 1566.68 Q1278.6 1567.82 1275.96 1568.39 Q1273.35 1568.97 1270.39 1568.97 Q1262.33 1568.97 1257.59 1563.91 Q1252.85 1558.85 1252.85 1550.25 Q1252.85 1541.53 1257.62 1536.53 Q1262.43 1531.54 1270.77 1531.54 Q1273.47 1531.54 1276.05 1532.11 Q1278.63 1532.65 1281.05 1533.76 Z\" fill=\"#000000\" fill-rule=\"evenodd\" fill-opacity=\"1\" /><path clip-path=\"url(#clip950)\" d=\"M1305.05 1536.5 Q1300.34 1536.5 1297.6 1540.19 Q1294.86 1543.85 1294.86 1550.25 Q1294.86 1556.65 1297.57 1560.34 Q1300.31 1564 1305.05 1564 Q1309.73 1564 1312.46 1560.31 Q1315.2 1556.62 1315.2 1550.25 Q1315.2 1543.92 1312.46 1540.23 Q1309.73 1536.5 1305.05 1536.5 M1305.05 1531.54 Q1312.69 1531.54 1317.05 1536.5 Q1321.41 1541.47 1321.41 1550.25 Q1321.41 1559 1317.05 1564 Q1312.69 1568.97 1305.05 1568.97 Q1297.38 1568.97 1293.02 1564 Q1288.69 1559 1288.69 1550.25 Q1288.69 1541.47 1293.02 1536.5 Q1297.38 1531.54 1305.05 1531.54 Z\" fill=\"#000000\" fill-rule=\"evenodd\" fill-opacity=\"1\" /><path clip-path=\"url(#clip950)\" d=\"M1358.87 1539.24 Q1361.07 1535.29 1364.12 1533.41 Q1367.18 1531.54 1371.31 1531.54 Q1376.88 1531.54 1379.91 1535.45 Q1382.93 1539.33 1382.93 1546.53 L1382.93 1568.04 L1377.04 1568.04 L1377.04 1546.72 Q1377.04 1541.59 1375.23 1539.11 Q1373.42 1536.63 1369.69 1536.63 Q1365.14 1536.63 1362.5 1539.65 Q1359.86 1542.68 1359.86 1547.9 L1359.86 1568.04 L1353.97 1568.04 L1353.97 1546.72 Q1353.97 1541.56 1352.15 1539.11 Q1350.34 1536.63 1346.55 1536.63 Q1342.06 1536.63 1339.42 1539.68 Q1336.78 1542.71 1336.78 1547.9 L1336.78 1568.04 L1330.89 1568.04 L1330.89 1532.4 L1336.78 1532.4 L1336.78 1537.93 Q1338.79 1534.66 1341.59 1533.1 Q1344.39 1531.54 1348.24 1531.54 Q1352.12 1531.54 1354.83 1533.51 Q1357.57 1535.48 1358.87 1539.24 Z\" fill=\"#000000\" fill-rule=\"evenodd\" fill-opacity=\"1\" /><path clip-path=\"url(#clip950)\" d=\"M1400.28 1562.7 L1400.28 1581.6 L1394.39 1581.6 L1394.39 1532.4 L1400.28 1532.4 L1400.28 1537.81 Q1402.12 1534.62 1404.93 1533.1 Q1407.76 1531.54 1411.67 1531.54 Q1418.17 1531.54 1422.21 1536.69 Q1426.28 1541.85 1426.28 1550.25 Q1426.28 1558.65 1422.21 1563.81 Q1418.17 1568.97 1411.67 1568.97 Q1407.76 1568.97 1404.93 1567.44 Q1402.12 1565.88 1400.28 1562.7 M1420.2 1550.25 Q1420.2 1543.79 1417.53 1540.13 Q1414.89 1536.44 1410.24 1536.44 Q1405.59 1536.44 1402.92 1540.13 Q1400.28 1543.79 1400.28 1550.25 Q1400.28 1556.71 1402.92 1560.4 Q1405.59 1564.07 1410.24 1564.07 Q1414.89 1564.07 1417.53 1560.4 Q1420.2 1556.71 1420.2 1550.25 Z\" fill=\"#000000\" fill-rule=\"evenodd\" fill-opacity=\"1\" /><path clip-path=\"url(#clip950)\" d=\"M1435.99 1518.52 L1441.85 1518.52 L1441.85 1568.04 L1435.99 1568.04 L1435.99 1518.52 Z\" fill=\"#000000\" fill-rule=\"evenodd\" fill-opacity=\"1\" /><path clip-path=\"url(#clip950)\" d=\"M1484.59 1548.76 L1484.59 1551.62 L1457.67 1551.62 Q1458.05 1557.67 1461.29 1560.85 Q1464.57 1564 1470.4 1564 Q1473.77 1564 1476.92 1563.17 Q1480.1 1562.35 1483.22 1560.69 L1483.22 1566.23 Q1480.07 1567.57 1476.76 1568.27 Q1473.45 1568.97 1470.05 1568.97 Q1461.52 1568.97 1456.52 1564 Q1451.55 1559.04 1451.55 1550.57 Q1451.55 1541.82 1456.27 1536.69 Q1461.01 1531.54 1469.03 1531.54 Q1476.22 1531.54 1480.39 1536.18 Q1484.59 1540.8 1484.59 1548.76 M1478.74 1547.04 Q1478.67 1542.23 1476.03 1539.37 Q1473.42 1536.5 1469.09 1536.5 Q1464.19 1536.5 1461.23 1539.27 Q1458.3 1542.04 1457.86 1547.07 L1478.74 1547.04 Z\" fill=\"#000000\" fill-rule=\"evenodd\" fill-opacity=\"1\" /><path clip-path=\"url(#clip950)\" d=\"M1522.69 1532.4 L1509.8 1549.74 L1523.36 1568.04 L1516.45 1568.04 L1506.08 1554.04 L1495.7 1568.04 L1488.79 1568.04 L1502.64 1549.39 L1489.97 1532.4 L1496.88 1532.4 L1506.33 1545.1 L1515.78 1532.4 L1522.69 1532.4 Z\" fill=\"#000000\" fill-rule=\"evenodd\" fill-opacity=\"1\" /><path clip-path=\"url(#clip950)\" d=\"M1531.64 1532.4 L1537.49 1532.4 L1537.49 1568.04 L1531.64 1568.04 L1531.64 1532.4 M1531.64 1518.52 L1537.49 1518.52 L1537.49 1525.93 L1531.64 1525.93 L1531.64 1518.52 Z\" fill=\"#000000\" fill-rule=\"evenodd\" fill-opacity=\"1\" /><path clip-path=\"url(#clip950)\" d=\"M1555.54 1522.27 L1555.54 1532.4 L1567.6 1532.4 L1567.6 1536.95 L1555.54 1536.95 L1555.54 1556.3 Q1555.54 1560.66 1556.72 1561.9 Q1557.93 1563.14 1561.59 1563.14 L1567.6 1563.14 L1567.6 1568.04 L1561.59 1568.04 Q1554.81 1568.04 1552.23 1565.53 Q1549.65 1562.98 1549.65 1556.3 L1549.65 1536.95 L1545.35 1536.95 L1545.35 1532.4 L1549.65 1532.4 L1549.65 1522.27 L1555.54 1522.27 Z\" fill=\"#000000\" fill-rule=\"evenodd\" fill-opacity=\"1\" /><path clip-path=\"url(#clip950)\" d=\"M1590.14 1571.35 Q1587.65 1577.72 1585.3 1579.66 Q1582.94 1581.6 1579 1581.6 L1574.32 1581.6 L1574.32 1576.7 L1577.75 1576.7 Q1580.17 1576.7 1581.51 1575.56 Q1582.85 1574.41 1584.47 1570.14 L1585.52 1567.47 L1571.1 1532.4 L1577.31 1532.4 L1588.45 1560.28 L1599.59 1532.4 L1605.8 1532.4 L1590.14 1571.35 Z\" fill=\"#000000\" fill-rule=\"evenodd\" fill-opacity=\"1\" /><polyline clip-path=\"url(#clip952)\" style=\"stroke:#000000; stroke-linecap:butt; stroke-linejoin:round; stroke-width:2; stroke-opacity:0.1; fill:none\" points=\"\n",
       "  175.445,1423.18 2352.76,1423.18 \n",
       "  \"/>\n",
       "<polyline clip-path=\"url(#clip952)\" style=\"stroke:#000000; stroke-linecap:butt; stroke-linejoin:round; stroke-width:2; stroke-opacity:0.1; fill:none\" points=\"\n",
       "  175.445,1186.87 2352.76,1186.87 \n",
       "  \"/>\n",
       "<polyline clip-path=\"url(#clip952)\" style=\"stroke:#000000; stroke-linecap:butt; stroke-linejoin:round; stroke-width:2; stroke-opacity:0.1; fill:none\" points=\"\n",
       "  175.445,950.559 2352.76,950.559 \n",
       "  \"/>\n",
       "<polyline clip-path=\"url(#clip952)\" style=\"stroke:#000000; stroke-linecap:butt; stroke-linejoin:round; stroke-width:2; stroke-opacity:0.1; fill:none\" points=\"\n",
       "  175.445,714.248 2352.76,714.248 \n",
       "  \"/>\n",
       "<polyline clip-path=\"url(#clip952)\" style=\"stroke:#000000; stroke-linecap:butt; stroke-linejoin:round; stroke-width:2; stroke-opacity:0.1; fill:none\" points=\"\n",
       "  175.445,477.938 2352.76,477.938 \n",
       "  \"/>\n",
       "<polyline clip-path=\"url(#clip952)\" style=\"stroke:#000000; stroke-linecap:butt; stroke-linejoin:round; stroke-width:2; stroke-opacity:0.1; fill:none\" points=\"\n",
       "  175.445,241.627 2352.76,241.627 \n",
       "  \"/>\n",
       "<polyline clip-path=\"url(#clip950)\" style=\"stroke:#000000; stroke-linecap:butt; stroke-linejoin:round; stroke-width:4; stroke-opacity:1; fill:none\" points=\"\n",
       "  175.445,1423.18 175.445,123.472 \n",
       "  \"/>\n",
       "<polyline clip-path=\"url(#clip950)\" style=\"stroke:#000000; stroke-linecap:butt; stroke-linejoin:round; stroke-width:4; stroke-opacity:1; fill:none\" points=\"\n",
       "  175.445,1423.18 194.343,1423.18 \n",
       "  \"/>\n",
       "<polyline clip-path=\"url(#clip950)\" style=\"stroke:#000000; stroke-linecap:butt; stroke-linejoin:round; stroke-width:4; stroke-opacity:1; fill:none\" points=\"\n",
       "  175.445,1186.87 194.343,1186.87 \n",
       "  \"/>\n",
       "<polyline clip-path=\"url(#clip950)\" style=\"stroke:#000000; stroke-linecap:butt; stroke-linejoin:round; stroke-width:4; stroke-opacity:1; fill:none\" points=\"\n",
       "  175.445,950.559 194.343,950.559 \n",
       "  \"/>\n",
       "<polyline clip-path=\"url(#clip950)\" style=\"stroke:#000000; stroke-linecap:butt; stroke-linejoin:round; stroke-width:4; stroke-opacity:1; fill:none\" points=\"\n",
       "  175.445,714.248 194.343,714.248 \n",
       "  \"/>\n",
       "<polyline clip-path=\"url(#clip950)\" style=\"stroke:#000000; stroke-linecap:butt; stroke-linejoin:round; stroke-width:4; stroke-opacity:1; fill:none\" points=\"\n",
       "  175.445,477.938 194.343,477.938 \n",
       "  \"/>\n",
       "<polyline clip-path=\"url(#clip950)\" style=\"stroke:#000000; stroke-linecap:butt; stroke-linejoin:round; stroke-width:4; stroke-opacity:1; fill:none\" points=\"\n",
       "  175.445,241.627 194.343,241.627 \n",
       "  \"/>\n",
       "<path clip-path=\"url(#clip950)\" d=\"M127.501 1408.98 Q123.89 1408.98 122.061 1412.54 Q120.255 1416.08 120.255 1423.21 Q120.255 1430.32 122.061 1433.89 Q123.89 1437.43 127.501 1437.43 Q131.135 1437.43 132.941 1433.89 Q134.769 1430.32 134.769 1423.21 Q134.769 1416.08 132.941 1412.54 Q131.135 1408.98 127.501 1408.98 M127.501 1405.27 Q133.311 1405.27 136.367 1409.88 Q139.445 1414.46 139.445 1423.21 Q139.445 1431.94 136.367 1436.55 Q133.311 1441.13 127.501 1441.13 Q121.691 1441.13 118.612 1436.55 Q115.556 1431.94 115.556 1423.21 Q115.556 1414.46 118.612 1409.88 Q121.691 1405.27 127.501 1405.27 Z\" fill=\"#000000\" fill-rule=\"evenodd\" fill-opacity=\"1\" /><path clip-path=\"url(#clip950)\" d=\"M119.538 1200.21 L127.177 1200.21 L127.177 1173.85 L118.867 1175.52 L118.867 1171.26 L127.13 1169.59 L131.806 1169.59 L131.806 1200.21 L139.445 1200.21 L139.445 1204.15 L119.538 1204.15 L119.538 1200.21 Z\" fill=\"#000000\" fill-rule=\"evenodd\" fill-opacity=\"1\" /><path clip-path=\"url(#clip950)\" d=\"M123.126 963.904 L139.445 963.904 L139.445 967.839 L117.501 967.839 L117.501 963.904 Q120.163 961.149 124.746 956.519 Q129.353 951.867 130.533 950.524 Q132.779 948.001 133.658 946.265 Q134.561 944.506 134.561 942.816 Q134.561 940.061 132.617 938.325 Q130.695 936.589 127.593 936.589 Q125.394 936.589 122.941 937.353 Q120.51 938.117 117.732 939.668 L117.732 934.946 Q120.556 933.811 123.01 933.233 Q125.464 932.654 127.501 932.654 Q132.871 932.654 136.066 935.339 Q139.26 938.024 139.26 942.515 Q139.26 944.645 138.45 946.566 Q137.663 948.464 135.556 951.057 Q134.978 951.728 131.876 954.945 Q128.774 958.14 123.126 963.904 Z\" fill=\"#000000\" fill-rule=\"evenodd\" fill-opacity=\"1\" /><path clip-path=\"url(#clip950)\" d=\"M132.316 712.894 Q135.672 713.612 137.547 715.88 Q139.445 718.149 139.445 721.482 Q139.445 726.598 135.927 729.399 Q132.408 732.2 125.927 732.2 Q123.751 732.2 121.436 731.76 Q119.144 731.343 116.691 730.487 L116.691 725.973 Q118.635 727.107 120.95 727.686 Q123.265 728.264 125.788 728.264 Q130.186 728.264 132.478 726.528 Q134.792 724.792 134.792 721.482 Q134.792 718.427 132.64 716.714 Q130.51 714.978 126.691 714.978 L122.663 714.978 L122.663 711.135 L126.876 711.135 Q130.325 711.135 132.154 709.769 Q133.982 708.38 133.982 705.788 Q133.982 703.126 132.084 701.714 Q130.209 700.279 126.691 700.279 Q124.769 700.279 122.57 700.695 Q120.371 701.112 117.732 701.991 L117.732 697.825 Q120.394 697.084 122.709 696.714 Q125.047 696.343 127.107 696.343 Q132.431 696.343 135.533 698.774 Q138.635 701.181 138.635 705.302 Q138.635 708.172 136.992 710.163 Q135.348 712.13 132.316 712.894 Z\" fill=\"#000000\" fill-rule=\"evenodd\" fill-opacity=\"1\" /><path clip-path=\"url(#clip950)\" d=\"M129.862 464.732 L118.056 483.181 L129.862 483.181 L129.862 464.732 M128.635 460.658 L134.515 460.658 L134.515 483.181 L139.445 483.181 L139.445 487.07 L134.515 487.07 L134.515 495.218 L129.862 495.218 L129.862 487.07 L114.26 487.07 L114.26 482.556 L128.635 460.658 Z\" fill=\"#000000\" fill-rule=\"evenodd\" fill-opacity=\"1\" /><path clip-path=\"url(#clip950)\" d=\"M118.543 224.347 L136.899 224.347 L136.899 228.283 L122.825 228.283 L122.825 236.755 Q123.843 236.407 124.862 236.245 Q125.88 236.06 126.899 236.06 Q132.686 236.06 136.066 239.232 Q139.445 242.403 139.445 247.819 Q139.445 253.398 135.973 256.5 Q132.501 259.579 126.181 259.579 Q124.005 259.579 121.737 259.208 Q119.492 258.838 117.084 258.097 L117.084 253.398 Q119.168 254.532 121.39 255.088 Q123.612 255.644 126.089 255.644 Q130.093 255.644 132.431 253.537 Q134.769 251.431 134.769 247.819 Q134.769 244.208 132.431 242.102 Q130.093 239.995 126.089 239.995 Q124.214 239.995 122.339 240.412 Q120.487 240.829 118.543 241.708 L118.543 224.347 Z\" fill=\"#000000\" fill-rule=\"evenodd\" fill-opacity=\"1\" /><path clip-path=\"url(#clip950)\" d=\"M35.3266 900.067 L35.3266 909.329 L45.9574 912.003 L45.9574 902.677 L35.3266 900.067 M17.2162 904.841 L30.4251 908.152 L30.4251 898.858 L17.2162 895.516 L17.2162 890.423 L30.4251 893.701 L30.4251 883.771 L35.3266 883.771 L35.3266 894.943 L45.9574 897.553 L45.9574 887.431 L50.8271 887.431 L50.8271 898.794 L64.0042 902.104 L64.0042 907.197 L50.8271 903.918 L50.8271 913.244 L64.0042 916.523 L64.0042 921.647 L50.8271 918.337 L50.8271 928.363 L45.9574 928.363 L45.9574 917.159 L35.3266 914.486 L35.3266 924.734 L30.4251 924.734 L30.4251 913.244 L17.2162 909.998 L17.2162 904.841 Z\" fill=\"#000000\" fill-rule=\"evenodd\" fill-opacity=\"1\" /><path clip-path=\"url(#clip950)\" d=\"M29.4065 829.185 L34.9447 829.185 Q33.6716 831.668 33.035 834.341 Q32.3984 837.015 32.3984 839.879 Q32.3984 844.24 33.7352 846.436 Q35.072 848.6 37.7456 848.6 Q39.7826 848.6 40.9603 847.041 Q42.1061 845.481 43.1565 840.771 L43.6021 838.765 Q44.9389 832.527 47.3897 829.917 Q49.8086 827.275 54.1691 827.275 Q59.1344 827.275 62.0308 831.222 Q64.9272 835.137 64.9272 842.012 Q64.9272 844.877 64.3543 847.996 Q63.8132 851.083 62.6992 854.521 L56.6518 854.521 Q58.3387 851.274 59.198 848.123 Q60.0256 844.972 60.0256 841.885 Q60.0256 837.747 58.6251 835.519 Q57.1929 833.291 54.6147 833.291 Q52.2276 833.291 50.9545 834.914 Q49.6813 836.506 48.5037 841.948 L48.0262 843.985 Q46.8804 849.428 44.5251 851.847 Q42.138 854.266 38.0002 854.266 Q32.9713 854.266 30.2341 850.701 Q27.4968 847.136 27.4968 840.58 Q27.4968 837.333 27.9743 834.469 Q28.4517 831.604 29.4065 829.185 Z\" fill=\"#000000\" fill-rule=\"evenodd\" fill-opacity=\"1\" /><path clip-path=\"url(#clip950)\" d=\"M29.7248 792.296 L35.1993 792.296 Q33.8307 794.778 33.1623 797.293 Q32.4621 799.775 32.4621 802.322 Q32.4621 808.019 36.0905 811.17 Q39.6872 814.321 46.212 814.321 Q52.7369 814.321 56.3653 811.17 Q59.9619 808.019 59.9619 802.322 Q59.9619 799.775 59.2935 797.293 Q58.5933 794.778 57.2247 792.296 L62.6355 792.296 Q63.7814 794.747 64.3543 797.388 Q64.9272 799.998 64.9272 802.958 Q64.9272 811.011 59.8664 815.753 Q54.8057 820.496 46.212 820.496 Q37.491 820.496 32.4939 815.722 Q27.4968 810.915 27.4968 802.576 Q27.4968 799.871 28.0697 797.293 Q28.6108 794.715 29.7248 792.296 Z\" fill=\"#000000\" fill-rule=\"evenodd\" fill-opacity=\"1\" /><path clip-path=\"url(#clip950)\" d=\"M42.4881 752.478 L64.0042 752.478 L64.0042 758.335 L42.679 758.335 Q37.6183 758.335 35.1038 760.308 Q32.5894 762.281 32.5894 766.228 Q32.5894 770.971 35.6131 773.708 Q38.6368 776.445 43.8567 776.445 L64.0042 776.445 L64.0042 782.333 L14.479 782.333 L14.479 776.445 L33.8944 776.445 Q30.6797 774.344 29.0883 771.512 Q27.4968 768.647 27.4968 764.923 Q27.4968 758.78 31.3163 755.629 Q35.1038 752.478 42.4881 752.478 Z\" fill=\"#000000\" fill-rule=\"evenodd\" fill-opacity=\"1\" /><path clip-path=\"url(#clip950)\" d=\"M32.4621 726.984 Q32.4621 731.694 36.1542 734.432 Q39.8145 737.169 46.212 737.169 Q52.6095 737.169 56.3017 734.463 Q59.9619 731.726 59.9619 726.984 Q59.9619 722.305 56.2698 719.568 Q52.5777 716.83 46.212 716.83 Q39.8781 716.83 36.186 719.568 Q32.4621 722.305 32.4621 726.984 M27.4968 726.984 Q27.4968 719.345 32.4621 714.984 Q37.4273 710.624 46.212 710.624 Q54.9649 710.624 59.9619 714.984 Q64.9272 719.345 64.9272 726.984 Q64.9272 734.654 59.9619 739.015 Q54.9649 743.344 46.212 743.344 Q37.4273 743.344 32.4621 739.015 Q27.4968 734.654 27.4968 726.984 Z\" fill=\"#000000\" fill-rule=\"evenodd\" fill-opacity=\"1\" /><path clip-path=\"url(#clip950)\" d=\"M32.4621 687.102 Q32.4621 691.813 36.1542 694.55 Q39.8145 697.288 46.212 697.288 Q52.6095 697.288 56.3017 694.582 Q59.9619 691.845 59.9619 687.102 Q59.9619 682.424 56.2698 679.686 Q52.5777 676.949 46.212 676.949 Q39.8781 676.949 36.186 679.686 Q32.4621 682.424 32.4621 687.102 M27.4968 687.102 Q27.4968 679.464 32.4621 675.103 Q37.4273 670.743 46.212 670.743 Q54.9649 670.743 59.9619 675.103 Q64.9272 679.464 64.9272 687.102 Q64.9272 694.773 59.9619 699.134 Q54.9649 703.462 46.212 703.462 Q37.4273 703.462 32.4621 699.134 Q27.4968 694.773 27.4968 687.102 Z\" fill=\"#000000\" fill-rule=\"evenodd\" fill-opacity=\"1\" /><path clip-path=\"url(#clip950)\" d=\"M14.479 661.035 L14.479 655.178 L64.0042 655.178 L64.0042 661.035 L14.479 661.035 Z\" fill=\"#000000\" fill-rule=\"evenodd\" fill-opacity=\"1\" /><path clip-path=\"url(#clip950)\" d=\"M29.4065 620.199 L34.9447 620.199 Q33.6716 622.682 33.035 625.355 Q32.3984 628.029 32.3984 630.893 Q32.3984 635.254 33.7352 637.45 Q35.072 639.614 37.7456 639.614 Q39.7826 639.614 40.9603 638.055 Q42.1061 636.495 43.1565 631.784 L43.6021 629.779 Q44.9389 623.541 47.3897 620.931 Q49.8086 618.289 54.1691 618.289 Q59.1344 618.289 62.0308 622.236 Q64.9272 626.151 64.9272 633.026 Q64.9272 635.89 64.3543 639.01 Q63.8132 642.097 62.6992 645.534 L56.6518 645.534 Q58.3387 642.288 59.198 639.137 Q60.0256 635.986 60.0256 632.898 Q60.0256 628.761 58.6251 626.533 Q57.1929 624.305 54.6147 624.305 Q52.2276 624.305 50.9545 625.928 Q49.6813 627.519 48.5037 632.962 L48.0262 634.999 Q46.8804 640.442 44.5251 642.861 Q42.138 645.28 38.0002 645.28 Q32.9713 645.28 30.2341 641.715 Q27.4968 638.15 27.4968 631.594 Q27.4968 628.347 27.9743 625.482 Q28.4517 622.618 29.4065 620.199 Z\" fill=\"#000000\" fill-rule=\"evenodd\" fill-opacity=\"1\" /><path clip-path=\"url(#clip950)\" d=\"M968.81 16.7545 L968.81 25.383 Q964.678 21.5346 959.979 19.6307 Q955.32 17.7268 950.054 17.7268 Q939.684 17.7268 934.175 24.0867 Q928.665 30.4061 928.665 42.3968 Q928.665 54.3469 934.175 60.7069 Q939.684 67.0263 950.054 67.0263 Q955.32 67.0263 959.979 65.1223 Q964.678 63.2184 968.81 59.3701 L968.81 67.9175 Q964.516 70.8341 959.695 72.2924 Q954.915 73.7508 949.568 73.7508 Q935.836 73.7508 927.936 65.3654 Q920.037 56.9395 920.037 42.3968 Q920.037 27.8135 927.936 19.4281 Q935.836 11.0023 949.568 11.0023 Q954.996 11.0023 959.776 12.4606 Q964.597 13.8784 968.81 16.7545 Z\" fill=\"#000000\" fill-rule=\"evenodd\" fill-opacity=\"1\" /><path clip-path=\"url(#clip950)\" d=\"M981.125 27.2059 L988.578 27.2059 L988.578 72.576 L981.125 72.576 L981.125 27.2059 M981.125 9.54393 L988.578 9.54393 L988.578 18.9825 L981.125 18.9825 L981.125 9.54393 Z\" fill=\"#000000\" fill-rule=\"evenodd\" fill-opacity=\"1\" /><path clip-path=\"url(#clip950)\" d=\"M998.827 27.2059 L1006.73 27.2059 L1020.9 65.2844 L1035.08 27.2059 L1042.98 27.2059 L1025.97 72.576 L1015.84 72.576 L998.827 27.2059 Z\" fill=\"#000000\" fill-rule=\"evenodd\" fill-opacity=\"1\" /><path clip-path=\"url(#clip950)\" d=\"M1053.27 27.2059 L1060.72 27.2059 L1060.72 72.576 L1053.27 72.576 L1053.27 27.2059 M1053.27 9.54393 L1060.72 9.54393 L1060.72 18.9825 L1053.27 18.9825 L1053.27 9.54393 Z\" fill=\"#000000\" fill-rule=\"evenodd\" fill-opacity=\"1\" /><path clip-path=\"url(#clip950)\" d=\"M1076.32 9.54393 L1083.77 9.54393 L1083.77 72.576 L1076.32 72.576 L1076.32 9.54393 Z\" fill=\"#000000\" fill-rule=\"evenodd\" fill-opacity=\"1\" /><path clip-path=\"url(#clip950)\" d=\"M1126.07 12.096 L1164.31 12.096 L1164.31 18.9825 L1134.25 18.9825 L1134.25 36.8875 L1163.05 36.8875 L1163.05 43.7741 L1134.25 43.7741 L1134.25 65.6895 L1165.04 65.6895 L1165.04 72.576 L1126.07 72.576 L1126.07 12.096 Z\" fill=\"#000000\" fill-rule=\"evenodd\" fill-opacity=\"1\" /><path clip-path=\"url(#clip950)\" d=\"M1215.87 45.1919 L1215.87 72.576 L1208.42 72.576 L1208.42 45.4349 Q1208.42 38.994 1205.91 35.7938 Q1203.4 32.5936 1198.37 32.5936 Q1192.34 32.5936 1188.86 36.4419 Q1185.37 40.2903 1185.37 46.9338 L1185.37 72.576 L1177.88 72.576 L1177.88 27.2059 L1185.37 27.2059 L1185.37 34.2544 Q1188.04 30.163 1191.65 28.1376 Q1195.3 26.1121 1200.04 26.1121 Q1207.85 26.1121 1211.86 30.9732 Q1215.87 35.7938 1215.87 45.1919 Z\" fill=\"#000000\" fill-rule=\"evenodd\" fill-opacity=\"1\" /><path clip-path=\"url(#clip950)\" d=\"M1260.6 49.3643 Q1260.6 41.2625 1257.23 36.8065 Q1253.91 32.3505 1247.88 32.3505 Q1241.88 32.3505 1238.52 36.8065 Q1235.2 41.2625 1235.2 49.3643 Q1235.2 57.4256 1238.52 61.8816 Q1241.88 66.3376 1247.88 66.3376 Q1253.91 66.3376 1257.23 61.8816 Q1260.6 57.4256 1260.6 49.3643 M1268.05 66.9452 Q1268.05 78.5308 1262.91 84.1616 Q1257.76 89.8329 1247.15 89.8329 Q1243.22 89.8329 1239.73 89.2252 Q1236.25 88.6581 1232.97 87.4428 L1232.97 80.1917 Q1236.25 81.9741 1239.45 82.8248 Q1242.65 83.6755 1245.97 83.6755 Q1253.3 83.6755 1256.95 79.8271 Q1260.6 76.0193 1260.6 68.282 L1260.6 64.5957 Q1258.29 68.6061 1254.68 70.5911 Q1251.08 72.576 1246.05 72.576 Q1237.71 72.576 1232.6 66.2161 Q1227.5 59.8562 1227.5 49.3643 Q1227.5 38.832 1232.6 32.472 Q1237.71 26.1121 1246.05 26.1121 Q1251.08 26.1121 1254.68 28.0971 Q1258.29 30.082 1260.6 34.0924 L1260.6 27.2059 L1268.05 27.2059 L1268.05 66.9452 Z\" fill=\"#000000\" fill-rule=\"evenodd\" fill-opacity=\"1\" /><path clip-path=\"url(#clip950)\" d=\"M1283.4 27.2059 L1290.86 27.2059 L1290.86 72.576 L1283.4 72.576 L1283.4 27.2059 M1283.4 9.54393 L1290.86 9.54393 L1290.86 18.9825 L1283.4 18.9825 L1283.4 9.54393 Z\" fill=\"#000000\" fill-rule=\"evenodd\" fill-opacity=\"1\" /><path clip-path=\"url(#clip950)\" d=\"M1344.17 45.1919 L1344.17 72.576 L1336.71 72.576 L1336.71 45.4349 Q1336.71 38.994 1334.2 35.7938 Q1331.69 32.5936 1326.67 32.5936 Q1320.63 32.5936 1317.15 36.4419 Q1313.66 40.2903 1313.66 46.9338 L1313.66 72.576 L1306.17 72.576 L1306.17 27.2059 L1313.66 27.2059 L1313.66 34.2544 Q1316.34 30.163 1319.94 28.1376 Q1323.59 26.1121 1328.33 26.1121 Q1336.15 26.1121 1340.16 30.9732 Q1344.17 35.7938 1344.17 45.1919 Z\" fill=\"#000000\" fill-rule=\"evenodd\" fill-opacity=\"1\" /><path clip-path=\"url(#clip950)\" d=\"M1397.84 48.0275 L1397.84 51.6733 L1363.57 51.6733 Q1364.06 59.3701 1368.19 63.421 Q1372.36 67.4314 1379.77 67.4314 Q1384.07 67.4314 1388.08 66.3781 Q1392.13 65.3249 1396.1 63.2184 L1396.1 70.267 Q1392.09 71.9684 1387.88 72.8596 Q1383.66 73.7508 1379.33 73.7508 Q1368.47 73.7508 1362.11 67.4314 Q1355.79 61.1119 1355.79 50.3365 Q1355.79 39.1965 1361.79 32.6746 Q1367.82 26.1121 1378.03 26.1121 Q1387.19 26.1121 1392.49 32.0264 Q1397.84 37.9003 1397.84 48.0275 M1390.39 45.84 Q1390.31 39.7232 1386.94 36.0774 Q1383.62 32.4315 1378.11 32.4315 Q1371.87 32.4315 1368.11 35.9558 Q1364.38 39.4801 1363.81 45.8805 L1390.39 45.84 Z\" fill=\"#000000\" fill-rule=\"evenodd\" fill-opacity=\"1\" /><path clip-path=\"url(#clip950)\" d=\"M1448.88 48.0275 L1448.88 51.6733 L1414.61 51.6733 Q1415.1 59.3701 1419.23 63.421 Q1423.4 67.4314 1430.82 67.4314 Q1435.11 67.4314 1439.12 66.3781 Q1443.17 65.3249 1447.14 63.2184 L1447.14 70.267 Q1443.13 71.9684 1438.92 72.8596 Q1434.7 73.7508 1430.37 73.7508 Q1419.51 73.7508 1413.15 67.4314 Q1406.83 61.1119 1406.83 50.3365 Q1406.83 39.1965 1412.83 32.6746 Q1418.87 26.1121 1429.07 26.1121 Q1438.23 26.1121 1443.54 32.0264 Q1448.88 37.9003 1448.88 48.0275 M1441.43 45.84 Q1441.35 39.7232 1437.99 36.0774 Q1434.66 32.4315 1429.15 32.4315 Q1422.92 32.4315 1419.15 35.9558 Q1415.42 39.4801 1414.85 45.8805 L1441.43 45.84 Z\" fill=\"#000000\" fill-rule=\"evenodd\" fill-opacity=\"1\" /><path clip-path=\"url(#clip950)\" d=\"M1487.41 34.1734 Q1486.15 33.4443 1484.65 33.1202 Q1483.19 32.7556 1481.41 32.7556 Q1475.09 32.7556 1471.69 36.8875 Q1468.33 40.9789 1468.33 48.6757 L1468.33 72.576 L1460.83 72.576 L1460.83 27.2059 L1468.33 27.2059 L1468.33 34.2544 Q1470.68 30.1225 1474.44 28.1376 Q1478.21 26.1121 1483.6 26.1121 Q1484.37 26.1121 1485.3 26.2337 Q1486.23 26.3147 1487.37 26.5172 L1487.41 34.1734 Z\" fill=\"#000000\" fill-rule=\"evenodd\" fill-opacity=\"1\" /><path clip-path=\"url(#clip950)\" d=\"M1495.22 27.2059 L1502.68 27.2059 L1502.68 72.576 L1495.22 72.576 L1495.22 27.2059 M1495.22 9.54393 L1502.68 9.54393 L1502.68 18.9825 L1495.22 18.9825 L1495.22 9.54393 Z\" fill=\"#000000\" fill-rule=\"evenodd\" fill-opacity=\"1\" /><path clip-path=\"url(#clip950)\" d=\"M1555.99 45.1919 L1555.99 72.576 L1548.53 72.576 L1548.53 45.4349 Q1548.53 38.994 1546.02 35.7938 Q1543.51 32.5936 1538.49 32.5936 Q1532.45 32.5936 1528.97 36.4419 Q1525.49 40.2903 1525.49 46.9338 L1525.49 72.576 L1517.99 72.576 L1517.99 27.2059 L1525.49 27.2059 L1525.49 34.2544 Q1528.16 30.163 1531.76 28.1376 Q1535.41 26.1121 1540.15 26.1121 Q1547.97 26.1121 1551.98 30.9732 Q1555.99 35.7938 1555.99 45.1919 Z\" fill=\"#000000\" fill-rule=\"evenodd\" fill-opacity=\"1\" /><path clip-path=\"url(#clip950)\" d=\"M1600.71 49.3643 Q1600.71 41.2625 1597.35 36.8065 Q1594.03 32.3505 1587.99 32.3505 Q1582 32.3505 1578.63 36.8065 Q1575.31 41.2625 1575.31 49.3643 Q1575.31 57.4256 1578.63 61.8816 Q1582 66.3376 1587.99 66.3376 Q1594.03 66.3376 1597.35 61.8816 Q1600.71 57.4256 1600.71 49.3643 M1608.16 66.9452 Q1608.16 78.5308 1603.02 84.1616 Q1597.87 89.8329 1587.26 89.8329 Q1583.33 89.8329 1579.85 89.2252 Q1576.36 88.6581 1573.08 87.4428 L1573.08 80.1917 Q1576.36 81.9741 1579.56 82.8248 Q1582.76 83.6755 1586.09 83.6755 Q1593.42 83.6755 1597.06 79.8271 Q1600.71 76.0193 1600.71 68.282 L1600.71 64.5957 Q1598.4 68.6061 1594.8 70.5911 Q1591.19 72.576 1586.17 72.576 Q1577.82 72.576 1572.72 66.2161 Q1567.61 59.8562 1567.61 49.3643 Q1567.61 38.832 1572.72 32.472 Q1577.82 26.1121 1586.17 26.1121 Q1591.19 26.1121 1594.8 28.0971 Q1598.4 30.082 1600.71 34.0924 L1600.71 27.2059 L1608.16 27.2059 L1608.16 66.9452 Z\" fill=\"#000000\" fill-rule=\"evenodd\" fill-opacity=\"1\" /><path clip-path=\"url(#clip952)\" d=\"\n",
       "M610.907 241.627 L610.907 1423.18 L828.638 1423.18 L828.638 241.627 L610.907 241.627 L610.907 241.627  Z\n",
       "  \" fill=\"#1874cd\" fill-rule=\"evenodd\" fill-opacity=\"0.7\"/>\n",
       "<polyline clip-path=\"url(#clip952)\" style=\"stroke:#000000; stroke-linecap:butt; stroke-linejoin:round; stroke-width:4; stroke-opacity:0.7; fill:none\" points=\"\n",
       "  610.907,241.627 610.907,1423.18 828.638,1423.18 828.638,241.627 610.907,241.627 \n",
       "  \"/>\n",
       "<path clip-path=\"url(#clip952)\" d=\"\n",
       "M828.638 950.559 L828.638 1423.18 L1046.37 1423.18 L1046.37 950.559 L828.638 950.559 L828.638 950.559  Z\n",
       "  \" fill=\"#1874cd\" fill-rule=\"evenodd\" fill-opacity=\"0.7\"/>\n",
       "<polyline clip-path=\"url(#clip952)\" style=\"stroke:#000000; stroke-linecap:butt; stroke-linejoin:round; stroke-width:4; stroke-opacity:0.7; fill:none\" points=\"\n",
       "  828.638,950.559 828.638,1423.18 1046.37,1423.18 1046.37,950.559 828.638,950.559 \n",
       "  \"/>\n",
       "<path clip-path=\"url(#clip952)\" d=\"\n",
       "M1046.37 1186.87 L1046.37 1423.18 L1264.1 1423.18 L1264.1 1186.87 L1046.37 1186.87 L1046.37 1186.87  Z\n",
       "  \" fill=\"#1874cd\" fill-rule=\"evenodd\" fill-opacity=\"0.7\"/>\n",
       "<polyline clip-path=\"url(#clip952)\" style=\"stroke:#000000; stroke-linecap:butt; stroke-linejoin:round; stroke-width:4; stroke-opacity:0.7; fill:none\" points=\"\n",
       "  1046.37,1186.87 1046.37,1423.18 1264.1,1423.18 1264.1,1186.87 1046.37,1186.87 \n",
       "  \"/>\n",
       "<path clip-path=\"url(#clip952)\" d=\"\n",
       "M1264.1 1186.87 L1264.1 1423.18 L1481.83 1423.18 L1481.83 1186.87 L1264.1 1186.87 L1264.1 1186.87  Z\n",
       "  \" fill=\"#1874cd\" fill-rule=\"evenodd\" fill-opacity=\"0.7\"/>\n",
       "<polyline clip-path=\"url(#clip952)\" style=\"stroke:#000000; stroke-linecap:butt; stroke-linejoin:round; stroke-width:4; stroke-opacity:0.7; fill:none\" points=\"\n",
       "  1264.1,1186.87 1264.1,1423.18 1481.83,1423.18 1481.83,1186.87 1264.1,1186.87 \n",
       "  \"/>\n",
       "<path clip-path=\"url(#clip952)\" d=\"\n",
       "M1481.83 1186.87 L1481.83 1423.18 L1699.56 1423.18 L1699.56 1186.87 L1481.83 1186.87 L1481.83 1186.87  Z\n",
       "  \" fill=\"#1874cd\" fill-rule=\"evenodd\" fill-opacity=\"0.7\"/>\n",
       "<polyline clip-path=\"url(#clip952)\" style=\"stroke:#000000; stroke-linecap:butt; stroke-linejoin:round; stroke-width:4; stroke-opacity:0.7; fill:none\" points=\"\n",
       "  1481.83,1186.87 1481.83,1423.18 1699.56,1423.18 1699.56,1186.87 1481.83,1186.87 \n",
       "  \"/>\n",
       "<path clip-path=\"url(#clip952)\" d=\"\n",
       "M1699.56 1186.87 L1699.56 1423.18 L1917.29 1423.18 L1917.29 1186.87 L1699.56 1186.87 L1699.56 1186.87  Z\n",
       "  \" fill=\"#1874cd\" fill-rule=\"evenodd\" fill-opacity=\"0.7\"/>\n",
       "<polyline clip-path=\"url(#clip952)\" style=\"stroke:#000000; stroke-linecap:butt; stroke-linejoin:round; stroke-width:4; stroke-opacity:0.7; fill:none\" points=\"\n",
       "  1699.56,1186.87 1699.56,1423.18 1917.29,1423.18 1917.29,1186.87 1699.56,1186.87 \n",
       "  \"/>\n",
       "<circle clip-path=\"url(#clip952)\" style=\"fill:#1874cd; stroke:none; fill-opacity:0\" cx=\"719.773\" cy=\"241.627\" r=\"2\"/>\n",
       "<circle clip-path=\"url(#clip952)\" style=\"fill:#1874cd; stroke:none; fill-opacity:0\" cx=\"937.504\" cy=\"950.559\" r=\"2\"/>\n",
       "<circle clip-path=\"url(#clip952)\" style=\"fill:#1874cd; stroke:none; fill-opacity:0\" cx=\"1155.24\" cy=\"1186.87\" r=\"2\"/>\n",
       "<circle clip-path=\"url(#clip952)\" style=\"fill:#1874cd; stroke:none; fill-opacity:0\" cx=\"1372.97\" cy=\"1186.87\" r=\"2\"/>\n",
       "<circle clip-path=\"url(#clip952)\" style=\"fill:#1874cd; stroke:none; fill-opacity:0\" cx=\"1590.7\" cy=\"1186.87\" r=\"2\"/>\n",
       "<circle clip-path=\"url(#clip952)\" style=\"fill:#1874cd; stroke:none; fill-opacity:0\" cx=\"1808.43\" cy=\"1186.87\" r=\"2\"/>\n",
       "</svg>\n"
      ]
     },
     "execution_count": 27,
     "metadata": {},
     "output_type": "execute_result"
    }
   ],
   "source": [
    "Civil = Array{Curriculum,1}()\n",
    "Civil_total_cc = 0\n",
    "Civil_avg_cc = 0\n",
    "for (key, val) in curriculum\n",
    "    if (split(key, \"/\")[1]) == \"civil_curricula\"\n",
    "        name = split(split(key, \"/\")[2], \".\")[1]\n",
    "        println(\"$name => $(val.metrics[\"complexity\"][1])\")\n",
    "        push!(Civil, val)\n",
    "        Civil_total_cc += val.metrics[\"complexity\"][1]\n",
    "    end\n",
    "end\n",
    "Civil_avg_cc = round(Civil_total_cc / length(Civil), digits=2)\n",
    "println(\"Avg. curricular complexity = $(Civil_avg_cc)\")\n",
    "\n",
    "metric = \"complexity\"\n",
    "stats = basic_statistics(Civil, \"complexity\")\n",
    "println(String(take!(stats))); flush(stdout)\n",
    "\n",
    "metric_histogram(Civil, \"complexity\", title=\"Civil Engineering\", xlabel=\"curricular complexity\", ylabel=\"# schools\", xlim=(0,500))"
   ]
  },
  {
   "cell_type": "markdown",
   "id": "af5c2e6c",
   "metadata": {},
   "source": [
    "# Primary Results"
   ]
  },
  {
   "cell_type": "markdown",
   "id": "cfba2d2c",
   "metadata": {},
   "source": [
    "After the primary analysis, it can be concluded that the average curricular complexity of civil engineering curricula is 198.14. Among the 11 civil curriculums, 7 of the civil curricular complexities fall between the range of 100-200. The University of Arizona-civil curriculum has the highest complexity of 372 among these."
   ]
  },
  {
   "cell_type": "markdown",
   "id": "857b28a6",
   "metadata": {},
   "source": [
    "# Future Works"
   ]
  },
  {
   "cell_type": "markdown",
   "id": "643de9fc",
   "metadata": {},
   "source": [
    "Based on the initial study, this leaves huge scopes for upgrades and improvements to make the study more comprehensive. In future, we will consider other engineering programs to do the comparative analysis. Also graduation rates of these schools, student grades, learning outcomes can be a possibility to reduce the complexity of engineering programs. Finally, using machine learning we can also carry out this study to a next level. "
   ]
  }
 ],
 "metadata": {
  "kernelspec": {
   "display_name": "Julia 1.6.6",
   "language": "julia",
   "name": "julia-1.6"
  },
  "language_info": {
   "file_extension": ".jl",
   "mimetype": "application/julia",
   "name": "julia",
   "version": "1.6.6"
  }
 },
 "nbformat": 4,
 "nbformat_minor": 5
}
