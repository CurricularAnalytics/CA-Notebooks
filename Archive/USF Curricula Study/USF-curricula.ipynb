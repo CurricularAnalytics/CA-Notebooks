{
 "cells": [
  {
   "cell_type": "markdown",
   "metadata": {},
   "source": [
    "# <center>University of South Florda Curricula - College of Engineering</center>\n",
    "\n",
    "This notebook contains a prelmininary analyses of the curricula and degree plans associated with the undergradatue programs in the College of Engineering at the University of South.  In order to execute the analyses provided in this notebook, you need to load the following Julia packages:"
   ]
  },
  {
   "cell_type": "code",
   "execution_count": 1,
   "metadata": {},
   "outputs": [
    {
     "data": {
      "text/html": [
       "<script>\n",
       "// Immediately-invoked-function-expression to avoid global variables.\n",
       "(function() {\n",
       "    var warning_div = document.getElementById(\"webio-warning-11358787798433893227\");\n",
       "    var hide = function () {\n",
       "        var script = document.getElementById(\"webio-setup-12885719696656015906\");\n",
       "        var parent = script && script.parentElement;\n",
       "        var grandparent = parent && parent.parentElement;\n",
       "        if (grandparent) {\n",
       "            grandparent.style.display = \"none\";\n",
       "        }\n",
       "        warning_div.style.display = \"none\";\n",
       "    };\n",
       "    if (typeof Jupyter !== \"undefined\") {\n",
       "        console.log(\"WebIO detected Jupyter notebook environment.\");\n",
       "        // Jupyter notebook.\n",
       "        var extensions = (\n",
       "            Jupyter\n",
       "            && Jupyter.notebook.config.data\n",
       "            && Jupyter.notebook.config.data.load_extensions\n",
       "        );\n",
       "        if (extensions && extensions[\"webio-jupyter-notebook\"]) {\n",
       "            // Extension already loaded.\n",
       "            console.log(\"Jupyter WebIO nbextension detected; not loading ad-hoc.\");\n",
       "            hide();\n",
       "            return;\n",
       "        }\n",
       "    } else if (window.location.pathname.includes(\"/lab\")) {\n",
       "        // Guessing JupyterLa\n",
       "        console.log(\"Jupyter Lab detected; make sure the @webio/jupyter-lab-provider labextension is installed.\");\n",
       "        hide();\n",
       "        return;\n",
       "    }\n",
       "})();\n",
       "\n",
       "</script>\n",
       "<p\n",
       "    id=\"webio-warning-11358787798433893227\"\n",
       "    class=\"output_text output_stderr\"\n",
       "    style=\"padding: 1em; font-weight: bold;\"\n",
       ">\n",
       "    Unable to load WebIO. Please make sure WebIO works for your Jupyter client.\n",
       "    For troubleshooting, please see <a href=\"https://juliagizmos.github.io/WebIO.jl/latest/providers/ijulia/\">\n",
       "    the WebIO/IJulia documentation</a>.\n",
       "    <!-- TODO: link to installation docs. -->\n",
       "</p>\n"
      ],
      "text/plain": [
       "HTML{String}(\"<script>\\n// Immediately-invoked-function-expression to avoid global variables.\\n(function() {\\n    var warning_div = document.getElementById(\\\"webio-warning-11358787798433893227\\\");\\n    var hide = function () {\\n        var script = document.getElementById(\\\"webio-setup-12885719696656015906\\\");\\n        var parent = script && script.parentElement;\\n        var grandparent = parent && parent.parentElement;\\n        if (grandparent) {\\n            grandparent.style.display = \\\"none\\\";\\n        }\\n        warning_div.style.display = \\\"none\\\";\\n    };\\n    if (typeof Jupyter !== \\\"undefined\\\") {\\n        console.log(\\\"WebIO detected Jupyter notebook environment.\\\");\\n        // Jupyter notebook.\\n        var extensions = (\\n            Jupyter\\n            && Jupyter.notebook.config.data\\n            && Jupyter.notebook.config.data.load_extensions\\n        );\\n        if (extensions && extensions[\\\"webio-jupyter-notebook\\\"]) {\\n            // Extension already loaded.\\n            console.log(\\\"Jupyter WebIO nbextension detected; not loading ad-hoc.\\\");\\n            hide();\\n            return;\\n        }\\n    } else if (window.location.pathname.includes(\\\"/lab\\\")) {\\n        // Guessing JupyterLa\\n        console.log(\\\"Jupyter Lab detected; make sure the @webio/jupyter-lab-provider labextension is installed.\\\");\\n        hide();\\n        return;\\n    }\\n})();\\n\\n</script>\\n<p\\n    id=\\\"webio-warning-11358787798433893227\\\"\\n    class=\\\"output_text output_stderr\\\"\\n    style=\\\"padding: 1em; font-weight: bold;\\\"\\n>\\n    Unable to load WebIO. Please make sure WebIO works for your Jupyter client.\\n    For troubleshooting, please see <a href=\\\"https://juliagizmos.github.io/WebIO.jl/latest/providers/ijulia/\\\">\\n    the WebIO/IJulia documentation</a>.\\n    <!-- TODO: link to installation docs. -->\\n</p>\\n\")"
      ]
     },
     "metadata": {},
     "output_type": "display_data"
    }
   ],
   "source": [
    "using CurricularAnalytics, CurricularVisualization\n",
    "# using CurricularOptimization # note: requires a pro license\n",
    "using Glob\n",
    "using Gurobi"
   ]
  },
  {
   "cell_type": "markdown",
   "metadata": {},
   "source": [
    "## Create the Data Structures \n",
    "Degree plans associated with the undergraduate programs in the College of Engineering were collected. The degree plans were stored as CSV files using the format for degree plans specified in the Curricular Analytics toolbox.  The files are organized in a directory structure that is assumed to be in the same directory as this notebook as follows:  `./programs/<college-name>/`\n",
    "\n",
    "Assuming the aforementioned directory structure, we first create an dictionay called `plans` containing the degree plans for each of the programs in a given college, in this case the college of engineering."
   ]
  },
  {
   "cell_type": "code",
   "execution_count": 14,
   "metadata": {},
   "outputs": [
    {
     "name": "stdout",
     "output_type": "stream",
     "text": [
      "CYR-MATH ready\n",
      "CYR-NOT MATH ready\n",
      "ECH-CALC+CHM ready\n",
      "ECH-CALC+CHM ready-updated\n",
      "ECP-CALC+CHM ready\n",
      "ECP-CALC-NOT CHM ready\n"
     ]
    }
   ],
   "source": [
    "#college = \"College of Engineering\"\n",
    "college = \"Temp\"\n",
    "plan = Dict{String, DegreePlan}()\n",
    "program_files = glob(\"*\", \"./programs/$college\")\n",
    "for filename in program_files\n",
    "    if occursin(\"-DP.csv\", filename)\n",
    "        dp = read_csv(filename)\n",
    "        complexity(dp.curriculum)  # compute the curricular complexity of the degree plan\n",
    "        plan[dp.name] = dp    # store the degree plan the dictionary\n",
    "        print(\"$(dp.name)\\n\")\n",
    "    end\n",
    "end"
   ]
  },
  {
   "cell_type": "code",
   "execution_count": 15,
   "metadata": {},
   "outputs": [
    {
     "data": {
      "application/vnd.webio.node+json": {
       "children": [
        {
         "children": [
          ""
         ],
         "instanceArgs": {
          "namespace": "html",
          "tag": "iframe"
         },
         "nodeType": "DOM",
         "props": {
          "events": {
           "load": "(function (){this.contentWindow.postMessage({\"options\":{\"hideTerms\":false,\"edit\":false},\"curriculum\":{\"name\":\"BSCP-Computer Engineering\",\"dp_name\":\"ECP-CALC+CHM ready\",\"curriculum_terms\":[{\"name\":\"Term 1\",\"curriculum_items\":[{\"curriculum_requisites\":[],\"name\":\"MAC 2281\",\"metrics\":{\"complexity\":38.0,\"centrality\":0,\"blocking factor\":30,\"delay factor\":8.0},\"nameSub\":\"Engineering Calculus I\",\"id\":24950,\"credits\":4,\"nameCanonical\":\"\"},{\"curriculum_requisites\":[],\"name\":\"CHM or CHS 2045 or 2440\",\"metrics\":{\"complexity\":4.0,\"centrality\":0,\"blocking factor\":2,\"delay factor\":2.0},\"nameSub\":\"General Chemistry I (for Engineers)\",\"id\":25478,\"credits\":3,\"nameCanonical\":\"\"},{\"curriculum_requisites\":[],\"name\":\"ENC 1101\",\"metrics\":{\"complexity\":3.0,\"centrality\":0,\"blocking factor\":1,\"delay factor\":2.0},\"nameSub\":\"Composition I\",\"id\":23525,\"credits\":3,\"nameCanonical\":\"\"},{\"curriculum_requisites\":[{\"source_id\":25478,\"target_id\":25479,\"type\":\"CurriculumStrictCorequisite\"}],\"name\":\"CHM or CHS 2045L or 2440L\",\"metrics\":{\"complexity\":2.0,\"centrality\":0,\"blocking factor\":0,\"delay factor\":2.0},\"nameSub\":\"General Chemistry I Laboratory (for Engineers)\",\"id\":25479,\"credits\":1,\"nameCanonical\":\"\"},{\"curriculum_requisites\":[],\"name\":\"EGN 3000L\",\"metrics\":{\"complexity\":1.0,\"centrality\":0,\"blocking factor\":0,\"delay factor\":1.0},\"nameSub\":\"Foundations of Engineering Lab\",\"id\":23287,\"credits\":3,\"nameCanonical\":\"\"},{\"curriculum_requisites\":[],\"name\":\"EGN 3000\",\"metrics\":{\"complexity\":1.0,\"centrality\":0,\"blocking factor\":0,\"delay factor\":1.0},\"nameSub\":\"Foundations of Engineering\",\"id\":28172,\"credits\":0,\"nameCanonical\":\"\"}],\"id\":1},{\"name\":\"Term 2\",\"curriculum_items\":[{\"curriculum_requisites\":[{\"source_id\":24950,\"target_id\":24951,\"type\":\"CurriculumPrerequisite\"}],\"name\":\"MAC 2282\",\"metrics\":{\"complexity\":31.0,\"centrality\":130,\"blocking factor\":24,\"delay factor\":7.0},\"nameSub\":\"Engineering Calculus II\",\"id\":24951,\"credits\":4,\"nameCanonical\":\"\"},{\"curriculum_requisites\":[{\"source_id\":23525,\"target_id\":23526,\"type\":\"CurriculumPrerequisite\"}],\"name\":\"ENC 1102\",\"metrics\":{\"complexity\":2.0,\"centrality\":0,\"blocking factor\":0,\"delay factor\":2.0},\"nameSub\":\"Composition II\",\"id\":23526,\"credits\":3,\"nameCanonical\":\"\"},{\"curriculum_requisites\":[{\"source_id\":24950,\"target_id\":26014,\"type\":\"CurriculumPrerequisite\"}],\"name\":\"PHY 2048\",\"metrics\":{\"complexity\":30.0,\"centrality\":252,\"blocking factor\":22,\"delay factor\":8.0},\"nameSub\":\"General Physics I - Calculus Based\",\"id\":26014,\"credits\":3,\"nameCanonical\":\"\"},{\"curriculum_requisites\":[{\"source_id\":24950,\"target_id\":23738,\"type\":\"CurriculumPrerequisite\"}],\"name\":\"COP 2510\",\"metrics\":{\"complexity\":23.0,\"centrality\":149,\"blocking factor\":17,\"delay factor\":6.0},\"nameSub\":\"Programming Concepts\",\"id\":23738,\"credits\":3,\"nameCanonical\":\"\"},{\"curriculum_requisites\":[{\"source_id\":24950,\"target_id\":26015,\"type\":\"CurriculumPrerequisite\"},{\"source_id\":26014,\"target_id\":26015,\"type\":\"CurriculumStrictCorequisite\"}],\"name\":\"PHY 2048L\",\"metrics\":{\"complexity\":28.0,\"centrality\":249,\"blocking factor\":20,\"delay factor\":8.0},\"nameSub\":\"General Physics I Laboratory\",\"id\":26015,\"credits\":1,\"nameCanonical\":\"\"}],\"id\":2},{\"name\":\"Term 3\",\"curriculum_items\":[{\"curriculum_requisites\":[{\"source_id\":24951,\"target_id\":24952,\"type\":\"CurriculumPrerequisite\"}],\"name\":\"MAC 2283\",\"metrics\":{\"complexity\":8.0,\"centrality\":9,\"blocking factor\":3,\"delay factor\":5.0},\"nameSub\":\"Engineering Calculus III\",\"id\":24952,\"credits\":4,\"nameCanonical\":\"\"},{\"curriculum_requisites\":[{\"source_id\":24951,\"target_id\":26016,\"type\":\"CurriculumPrerequisite\"},{\"source_id\":26014,\"target_id\":26016,\"type\":\"CurriculumPrerequisite\"},{\"source_id\":26015,\"target_id\":26016,\"type\":\"CurriculumPrerequisite\"}],\"name\":\"PHY 2049\",\"metrics\":{\"complexity\":27.0,\"centrality\":466,\"blocking factor\":19,\"delay factor\":8.0},\"nameSub\":\"General Physics II - Calculus Based\",\"id\":26016,\"credits\":3,\"nameCanonical\":\"\"},{\"curriculum_requisites\":[{\"source_id\":23738,\"target_id\":26655,\"type\":\"CurriculumPrerequisite\"}],\"name\":\"COP 3514\",\"metrics\":{\"complexity\":21.0,\"centrality\":62,\"blocking factor\":15,\"delay factor\":6.0},\"nameSub\":\"Program Design\",\"id\":26655,\"credits\":3,\"nameCanonical\":\"\"},{\"curriculum_requisites\":[{\"source_id\":24951,\"target_id\":26017,\"type\":\"CurriculumPrerequisite\"},{\"source_id\":26014,\"target_id\":26017,\"type\":\"CurriculumPrerequisite\"},{\"source_id\":26016,\"target_id\":26017,\"type\":\"CurriculumStrictCorequisite\"},{\"source_id\":26015,\"target_id\":26017,\"type\":\"CurriculumPrerequisite\"}],\"name\":\"PHY 2049L\",\"metrics\":{\"complexity\":5.0,\"centrality\":0,\"blocking factor\":0,\"delay factor\":5.0},\"nameSub\":\"General Physics II Laboratory\",\"id\":26017,\"credits\":1,\"nameCanonical\":\"\"},{\"curriculum_requisites\":[],\"name\":\"SGES \",\"metrics\":{\"complexity\":1.0,\"centrality\":0,\"blocking factor\":0,\"delay factor\":1.0},\"nameSub\":\"State Social Science Gen Ed\",\"id\":4,\"credits\":3,\"nameCanonical\":\"\"}],\"id\":3},{\"name\":\"Term 4\",\"curriculum_items\":[{\"curriculum_requisites\":[{\"source_id\":23738,\"target_id\":24493,\"type\":\"CurriculumPrerequisite\"},{\"source_id\":26016,\"target_id\":24493,\"type\":\"CurriculumPrerequisite\"}],\"name\":\"CDA 3103\",\"metrics\":{\"complexity\":23.0,\"centrality\":515,\"blocking factor\":15,\"delay factor\":8.0},\"nameSub\":\"Computer Organization\",\"id\":24493,\"credits\":3,\"nameCanonical\":\"\"},{\"curriculum_requisites\":[],\"name\":\"SGEH \",\"metrics\":{\"complexity\":1.0,\"centrality\":0,\"blocking factor\":0,\"delay factor\":1.0},\"nameSub\":\"State Humanities Gen Ed\",\"id\":5,\"credits\":3,\"nameCanonical\":\"\"},{\"curriculum_requisites\":[{\"source_id\":24950,\"target_id\":23739,\"type\":\"CurriculumPrerequisite\"}],\"name\":\"COT 3100\",\"metrics\":{\"complexity\":10.0,\"centrality\":23,\"blocking factor\":6,\"delay factor\":4.0},\"nameSub\":\"Introduction to Discrete Structures\",\"id\":23739,\"credits\":3,\"nameCanonical\":\"\"},{\"curriculum_requisites\":[{\"source_id\":24952,\"target_id\":25929,\"type\":\"CurriculumPrerequisite\"},{\"source_id\":26016,\"target_id\":25929,\"type\":\"CurriculumPrerequisite\"}],\"name\":\"EGN or MAP 3433 or 2302\",\"metrics\":{\"complexity\":7.0,\"centrality\":26,\"blocking factor\":1,\"delay factor\":6.0},\"nameSub\":\"Modeling and Analysis of Engineering Systems or Diff Eq\",\"id\":25929,\"credits\":3,\"nameCanonical\":\"\"},{\"curriculum_requisites\":[{\"source_id\":26655,\"target_id\":24641,\"type\":\"CurriculumPrerequisite\"},{\"source_id\":24493,\"target_id\":24641,\"type\":\"CurriculumCorequisite\"}],\"name\":\"COP 3331\",\"metrics\":{\"complexity\":14.0,\"centrality\":205,\"blocking factor\":6,\"delay factor\":8.0},\"nameSub\":\"Object Oriented Software Design\",\"id\":24641,\"credits\":3,\"nameCanonical\":\"\"}],\"id\":4},{\"name\":\"Term 5\",\"curriculum_items\":[{\"curriculum_requisites\":[{\"source_id\":24493,\"target_id\":27726,\"type\":\"CurriculumPrerequisite\"},{\"source_id\":26655,\"target_id\":27726,\"type\":\"CurriculumPrerequisite\"},{\"source_id\":23435,\"target_id\":27726,\"type\":\"CurriculumStrictCorequisite\"}],\"name\":\"CDA 3201\",\"metrics\":{\"complexity\":15.0,\"centrality\":242,\"blocking factor\":7,\"delay factor\":8.0},\"nameSub\":\"Computer Logic and Design\",\"id\":27726,\"credits\":3,\"nameCanonical\":\"\"},{\"curriculum_requisites\":[{\"source_id\":23739,\"target_id\":28111,\"type\":\"CurriculumPrerequisite\"},{\"source_id\":24493,\"target_id\":28111,\"type\":\"CurriculumPrerequisite\"},{\"source_id\":24641,\"target_id\":28111,\"type\":\"CurriculumPrerequisite\"}],\"name\":\"COP 4530\",\"metrics\":{\"complexity\":13.0,\"centrality\":375,\"blocking factor\":5,\"delay factor\":8.0},\"nameSub\":\"Data Structures\",\"id\":28111,\"credits\":3,\"nameCanonical\":\"\"},{\"curriculum_requisites\":[{\"source_id\":24951,\"target_id\":26647,\"type\":\"CurriculumPrerequisite\"}],\"name\":\"EGN 4450\",\"metrics\":{\"complexity\":3.0,\"centrality\":0,\"blocking factor\":0,\"delay factor\":3.0},\"nameSub\":\"Introduction to Linear Systems\",\"id\":26647,\"credits\":2,\"nameCanonical\":\"\"},{\"curriculum_requisites\":[],\"name\":\"CDA 3201L\",\"metrics\":{\"complexity\":12.0,\"centrality\":0,\"blocking factor\":8,\"delay factor\":4.0},\"nameSub\":\"Computer Logic and Design Lab\",\"id\":23435,\"credits\":1,\"nameCanonical\":\"\"}],\"id\":5},{\"name\":\"Term 6\",\"curriculum_items\":[{\"curriculum_requisites\":[{\"source_id\":23739,\"target_id\":23996,\"type\":\"CurriculumPrerequisite\"},{\"source_id\":28111,\"target_id\":23996,\"type\":\"CurriculumPrerequisite\"}],\"name\":\"COT 4400\",\"metrics\":{\"complexity\":8.0,\"centrality\":0,\"blocking factor\":0,\"delay factor\":8.0},\"nameSub\":\"Analysis Of Algorithms\",\"id\":23996,\"credits\":3,\"nameCanonical\":\"\"},{\"curriculum_requisites\":[{\"source_id\":23435,\"target_id\":24494,\"type\":\"CurriculumPrerequisite\"},{\"source_id\":27726,\"target_id\":24494,\"type\":\"CurriculumPrerequisite\"}],\"name\":\"CDA 4205\",\"metrics\":{\"complexity\":7.0,\"centrality\":0,\"blocking factor\":0,\"delay factor\":7.0},\"nameSub\":\"Computer Architecture\",\"id\":24494,\"credits\":3,\"nameCanonical\":\"\"},{\"curriculum_requisites\":[{\"source_id\":24952,\"target_id\":27967,\"type\":\"CurriculumCorequisite\"},{\"source_id\":26014,\"target_id\":27967,\"type\":\"CurriculumPrerequisite\"},{\"source_id\":25478,\"target_id\":27967,\"type\":\"CurriculumPrerequisite\"}],\"name\":\"EEE 3394\",\"metrics\":{\"complexity\":4.0,\"centrality\":0,\"blocking factor\":0,\"delay factor\":4.0},\"nameSub\":\"Electronic Materials\",\"id\":27967,\"credits\":3,\"nameCanonical\":\"\"},{\"curriculum_requisites\":[{\"source_id\":25929,\"target_id\":25981,\"type\":\"CurriculumCorequisite\"}],\"name\":\"EGN 3373\",\"metrics\":{\"complexity\":6.0,\"centrality\":0,\"blocking factor\":0,\"delay factor\":6.0},\"nameSub\":\"Introduction to Electrical Systems I\",\"id\":25981,\"credits\":3,\"nameCanonical\":\"\"},{\"curriculum_requisites\":[{\"source_id\":27726,\"target_id\":6,\"type\":\"CurriculumPrerequisite\"}],\"name\":\" \",\"metrics\":{\"complexity\":7.0,\"centrality\":0,\"blocking factor\":0,\"delay factor\":7.0},\"nameSub\":\"CSE Hardware Elective\",\"id\":6,\"credits\":3,\"nameCanonical\":\"\"}],\"id\":6},{\"name\":\"Term 7\",\"curriculum_items\":[{\"curriculum_requisites\":[{\"source_id\":23435,\"target_id\":26840,\"type\":\"CurriculumPrerequisite\"},{\"source_id\":27726,\"target_id\":26840,\"type\":\"CurriculumPrerequisite\"}],\"name\":\"CDA 4203\",\"metrics\":{\"complexity\":9.0,\"centrality\":48,\"blocking factor\":1,\"delay factor\":8.0},\"nameSub\":\"Computer System Design\",\"id\":26840,\"credits\":3,\"nameCanonical\":\"\"},{\"curriculum_requisites\":[],\"name\":\"EGN 3615\",\"metrics\":{\"complexity\":1.0,\"centrality\":0,\"blocking factor\":0,\"delay factor\":1.0},\"nameSub\":\"Engineering Economics with Social and Global Implications\",\"id\":24859,\"credits\":3,\"nameCanonical\":\"\"},{\"curriculum_requisites\":[{\"source_id\":28111,\"target_id\":23860,\"type\":\"CurriculumPrerequisite\"}],\"name\":\"COP 4600\",\"metrics\":{\"complexity\":8.0,\"centrality\":0,\"blocking factor\":0,\"delay factor\":8.0},\"nameSub\":\"Operating Systems\",\"id\":23860,\"credits\":3,\"nameCanonical\":\"\"},{\"curriculum_requisites\":[{\"source_id\":27726,\"target_id\":8,\"type\":\"CurriculumPrerequisite\"}],\"name\":\" \",\"metrics\":{\"complexity\":7.0,\"centrality\":0,\"blocking factor\":0,\"delay factor\":7.0},\"nameSub\":\"CSE Hardware Elective\",\"id\":8,\"credits\":3,\"nameCanonical\":\"\"},{\"curriculum_requisites\":[{\"source_id\":26840,\"target_id\":26843,\"type\":\"CurriculumStrictCorequisite\"}],\"name\":\"CDA 4203L\",\"metrics\":{\"complexity\":8.0,\"centrality\":0,\"blocking factor\":0,\"delay factor\":8.0},\"nameSub\":\"Computer System Design Lab\",\"id\":26843,\"credits\":1,\"nameCanonical\":\"\"},{\"curriculum_requisites\":[],\"name\":\" \",\"metrics\":{\"complexity\":1.0,\"centrality\":0,\"blocking factor\":0,\"delay factor\":1.0},\"nameSub\":\"Natural Sci Elective\",\"id\":9,\"credits\":3,\"nameCanonical\":\"\"}],\"id\":7},{\"name\":\"Term 8\",\"curriculum_items\":[{\"curriculum_requisites\":[{\"source_id\":23435,\"target_id\":23590,\"type\":\"CurriculumPrerequisite\"},{\"source_id\":27726,\"target_id\":23590,\"type\":\"CurriculumPrerequisite\"}],\"name\":\"CDA 4213\",\"metrics\":{\"complexity\":9.0,\"centrality\":48,\"blocking factor\":1,\"delay factor\":8.0},\"nameSub\":\"CMOS-VLSI Design\",\"id\":23590,\"credits\":3,\"nameCanonical\":\"\"},{\"curriculum_requisites\":[],\"name\":\"ENC 3246\",\"metrics\":{\"complexity\":1.0,\"centrality\":0,\"blocking factor\":0,\"delay factor\":1.0},\"nameSub\":\"Communication for Engineers\",\"id\":27719,\"credits\":3,\"nameCanonical\":\"\"},{\"curriculum_requisites\":[{\"source_id\":24951,\"target_id\":25983,\"type\":\"CurriculumPrerequisite\"}],\"name\":\"EGN 3443\",\"metrics\":{\"complexity\":3.0,\"centrality\":0,\"blocking factor\":0,\"delay factor\":3.0},\"nameSub\":\"Probability and Statistics for Engineers\",\"id\":25983,\"credits\":3,\"nameCanonical\":\"\"},{\"curriculum_requisites\":[{\"source_id\":28111,\"target_id\":12,\"type\":\"CurriculumPrerequisite\"}],\"name\":\" \",\"metrics\":{\"complexity\":8.0,\"centrality\":0,\"blocking factor\":0,\"delay factor\":8.0},\"nameSub\":\"CSE Elective\",\"id\":12,\"credits\":3,\"nameCanonical\":\"\"},{\"curriculum_requisites\":[{\"source_id\":23435,\"target_id\":28057,\"type\":\"CurriculumPrerequisite\"},{\"source_id\":27726,\"target_id\":28057,\"type\":\"CurriculumPrerequisite\"},{\"source_id\":23590,\"target_id\":28057,\"type\":\"CurriculumStrictCorequisite\"}],\"name\":\"CDA 4213L\",\"metrics\":{\"complexity\":8.0,\"centrality\":0,\"blocking factor\":0,\"delay factor\":8.0},\"nameSub\":\"CMOS-VLSI Design Lab\",\"id\":28057,\"credits\":1,\"nameCanonical\":\"\"}],\"id\":8},{\"name\":\"Term 9\",\"curriculum_items\":[{\"curriculum_requisites\":[],\"name\":\"CIS 4250\",\"metrics\":{\"complexity\":1.0,\"centrality\":0,\"blocking factor\":0,\"delay factor\":1.0},\"nameSub\":\"Ethical Issues And Professional Conduct\",\"id\":26844,\"credits\":3,\"nameCanonical\":\"\"},{\"curriculum_requisites\":[{\"source_id\":28111,\"target_id\":15,\"type\":\"CurriculumPrerequisite\"}],\"name\":\" \",\"metrics\":{\"complexity\":8.0,\"centrality\":0,\"blocking factor\":0,\"delay factor\":8.0},\"nameSub\":\"CSE Elective\",\"id\":15,\"credits\":3,\"nameCanonical\":\"\"},{\"curriculum_requisites\":[{\"source_id\":28111,\"target_id\":24532,\"type\":\"CurriculumPrerequisite\"}],\"name\":\"CIS 4910\",\"metrics\":{\"complexity\":8.0,\"centrality\":0,\"blocking factor\":0,\"delay factor\":8.0},\"nameSub\":\"Computer Science and Engineering Project\",\"id\":24532,\"credits\":3,\"nameCanonical\":\"\"},{\"curriculum_requisites\":[],\"name\":\" \",\"metrics\":{\"complexity\":1.0,\"centrality\":0,\"blocking factor\":0,\"delay factor\":1.0},\"nameSub\":\"LAB\",\"id\":16,\"credits\":1,\"nameCanonical\":\"\"}],\"id\":9}],\"institution\":\"USF\"}},\"*\"); window.removeEventListener(\"message\",window.messageReceived); window.messageReceived=(function (event){return (event.data.curriculum!==undefined) ? (WebIO.setval({\"name\":\"curriculum-data\",\"scope\":\"7671973489885029178\",\"id\":\"2413678271866327799\",\"type\":\"observable\"},event.data.curriculum)) : undefined}); return window.addEventListener(\"message\",window.messageReceived)})"
          },
          "id": "curriculum",
          "src": "https://curricula-api-embed.damoursystems.com/",
          "style": {
           "border": "none",
           "height": "100vh",
           "margin": "0",
           "padding": "0",
           "width": "100%"
          }
         },
         "type": "node"
        }
       ],
       "instanceArgs": {
        "handlers": {},
        "id": "7671973489885029178",
        "imports": {
         "data": [],
         "type": "async_block"
        },
        "mount_callbacks": [],
        "observables": {
         "curriculum-data": {
          "id": "2413678271866327799",
          "sync": true,
          "value": {
           "curriculum": {
            "curriculum_terms": [
             {
              "curriculum_items": [
               {
                "credits": 4,
                "curriculum_requisites": [],
                "id": 24950,
                "metrics": {
                 "blocking factor": 30,
                 "centrality": 0,
                 "complexity": 38,
                 "delay factor": 8
                },
                "name": "MAC 2281",
                "nameCanonical": "",
                "nameSub": "Engineering Calculus I"
               },
               {
                "credits": 3,
                "curriculum_requisites": [],
                "id": 25478,
                "metrics": {
                 "blocking factor": 2,
                 "centrality": 0,
                 "complexity": 4,
                 "delay factor": 2
                },
                "name": "CHM or CHS 2045 or 2440",
                "nameCanonical": "",
                "nameSub": "General Chemistry I (for Engineers)"
               },
               {
                "credits": 3,
                "curriculum_requisites": [],
                "id": 23525,
                "metrics": {
                 "blocking factor": 1,
                 "centrality": 0,
                 "complexity": 3,
                 "delay factor": 2
                },
                "name": "ENC 1101",
                "nameCanonical": "",
                "nameSub": "Composition I"
               },
               {
                "credits": 1,
                "curriculum_requisites": [
                 {
                  "source_id": 25478,
                  "target_id": 25479,
                  "type": "CurriculumStrictCorequisite"
                 }
                ],
                "id": 25479,
                "metrics": {
                 "blocking factor": 0,
                 "centrality": 0,
                 "complexity": 2,
                 "delay factor": 2
                },
                "name": "CHM or CHS 2045L or 2440L",
                "nameCanonical": "",
                "nameSub": "General Chemistry I Laboratory (for Engineers)"
               },
               {
                "credits": 3,
                "curriculum_requisites": [],
                "id": 23287,
                "metrics": {
                 "blocking factor": 0,
                 "centrality": 0,
                 "complexity": 1,
                 "delay factor": 1
                },
                "name": "EGN 3000L",
                "nameCanonical": "",
                "nameSub": "Foundations of Engineering Lab"
               },
               {
                "credits": 0,
                "curriculum_requisites": [],
                "id": 28172,
                "metrics": {
                 "blocking factor": 0,
                 "centrality": 0,
                 "complexity": 1,
                 "delay factor": 1
                },
                "name": "EGN 3000",
                "nameCanonical": "",
                "nameSub": "Foundations of Engineering"
               }
              ],
              "id": 1,
              "name": "Term 1"
             },
             {
              "curriculum_items": [
               {
                "credits": 4,
                "curriculum_requisites": [
                 {
                  "source_id": 24950,
                  "target_id": 24951,
                  "type": "CurriculumPrerequisite"
                 }
                ],
                "id": 24951,
                "metrics": {
                 "blocking factor": 24,
                 "centrality": 130,
                 "complexity": 31,
                 "delay factor": 7
                },
                "name": "MAC 2282",
                "nameCanonical": "",
                "nameSub": "Engineering Calculus II"
               },
               {
                "credits": 3,
                "curriculum_requisites": [
                 {
                  "source_id": 23525,
                  "target_id": 23526,
                  "type": "CurriculumPrerequisite"
                 }
                ],
                "id": 23526,
                "metrics": {
                 "blocking factor": 0,
                 "centrality": 0,
                 "complexity": 2,
                 "delay factor": 2
                },
                "name": "ENC 1102",
                "nameCanonical": "",
                "nameSub": "Composition II"
               },
               {
                "credits": 3,
                "curriculum_requisites": [
                 {
                  "source_id": 24950,
                  "target_id": 26014,
                  "type": "CurriculumPrerequisite"
                 }
                ],
                "id": 26014,
                "metrics": {
                 "blocking factor": 22,
                 "centrality": 252,
                 "complexity": 30,
                 "delay factor": 8
                },
                "name": "PHY 2048",
                "nameCanonical": "",
                "nameSub": "General Physics I - Calculus Based"
               },
               {
                "credits": 3,
                "curriculum_requisites": [
                 {
                  "source_id": 24950,
                  "target_id": 23738,
                  "type": "CurriculumPrerequisite"
                 }
                ],
                "id": 23738,
                "metrics": {
                 "blocking factor": 17,
                 "centrality": 149,
                 "complexity": 23,
                 "delay factor": 6
                },
                "name": "COP 2510",
                "nameCanonical": "",
                "nameSub": "Programming Concepts"
               },
               {
                "credits": 1,
                "curriculum_requisites": [
                 {
                  "source_id": 24950,
                  "target_id": 26015,
                  "type": "CurriculumPrerequisite"
                 },
                 {
                  "source_id": 26014,
                  "target_id": 26015,
                  "type": "CurriculumStrictCorequisite"
                 }
                ],
                "id": 26015,
                "metrics": {
                 "blocking factor": 20,
                 "centrality": 249,
                 "complexity": 28,
                 "delay factor": 8
                },
                "name": "PHY 2048L",
                "nameCanonical": "",
                "nameSub": "General Physics I Laboratory"
               }
              ],
              "id": 2,
              "name": "Term 2"
             },
             {
              "curriculum_items": [
               {
                "credits": 4,
                "curriculum_requisites": [
                 {
                  "source_id": 24951,
                  "target_id": 24952,
                  "type": "CurriculumPrerequisite"
                 }
                ],
                "id": 24952,
                "metrics": {
                 "blocking factor": 3,
                 "centrality": 9,
                 "complexity": 8,
                 "delay factor": 5
                },
                "name": "MAC 2283",
                "nameCanonical": "",
                "nameSub": "Engineering Calculus III"
               },
               {
                "credits": 3,
                "curriculum_requisites": [
                 {
                  "source_id": 24951,
                  "target_id": 26016,
                  "type": "CurriculumPrerequisite"
                 },
                 {
                  "source_id": 26014,
                  "target_id": 26016,
                  "type": "CurriculumPrerequisite"
                 },
                 {
                  "source_id": 26015,
                  "target_id": 26016,
                  "type": "CurriculumPrerequisite"
                 }
                ],
                "id": 26016,
                "metrics": {
                 "blocking factor": 19,
                 "centrality": 466,
                 "complexity": 27,
                 "delay factor": 8
                },
                "name": "PHY 2049",
                "nameCanonical": "",
                "nameSub": "General Physics II - Calculus Based"
               },
               {
                "credits": 3,
                "curriculum_requisites": [
                 {
                  "source_id": 23738,
                  "target_id": 26655,
                  "type": "CurriculumPrerequisite"
                 }
                ],
                "id": 26655,
                "metrics": {
                 "blocking factor": 15,
                 "centrality": 62,
                 "complexity": 21,
                 "delay factor": 6
                },
                "name": "COP 3514",
                "nameCanonical": "",
                "nameSub": "Program Design"
               },
               {
                "credits": 1,
                "curriculum_requisites": [
                 {
                  "source_id": 24951,
                  "target_id": 26017,
                  "type": "CurriculumPrerequisite"
                 },
                 {
                  "source_id": 26014,
                  "target_id": 26017,
                  "type": "CurriculumPrerequisite"
                 },
                 {
                  "source_id": 26016,
                  "target_id": 26017,
                  "type": "CurriculumStrictCorequisite"
                 },
                 {
                  "source_id": 26015,
                  "target_id": 26017,
                  "type": "CurriculumPrerequisite"
                 }
                ],
                "id": 26017,
                "metrics": {
                 "blocking factor": 0,
                 "centrality": 0,
                 "complexity": 5,
                 "delay factor": 5
                },
                "name": "PHY 2049L",
                "nameCanonical": "",
                "nameSub": "General Physics II Laboratory"
               },
               {
                "credits": 3,
                "curriculum_requisites": [],
                "id": 4,
                "metrics": {
                 "blocking factor": 0,
                 "centrality": 0,
                 "complexity": 1,
                 "delay factor": 1
                },
                "name": "SGES ",
                "nameCanonical": "",
                "nameSub": "State Social Science Gen Ed"
               }
              ],
              "id": 3,
              "name": "Term 3"
             },
             {
              "curriculum_items": [
               {
                "credits": 3,
                "curriculum_requisites": [
                 {
                  "source_id": 23738,
                  "target_id": 24493,
                  "type": "CurriculumPrerequisite"
                 },
                 {
                  "source_id": 26016,
                  "target_id": 24493,
                  "type": "CurriculumPrerequisite"
                 }
                ],
                "id": 24493,
                "metrics": {
                 "blocking factor": 15,
                 "centrality": 515,
                 "complexity": 23,
                 "delay factor": 8
                },
                "name": "CDA 3103",
                "nameCanonical": "",
                "nameSub": "Computer Organization"
               },
               {
                "credits": 3,
                "curriculum_requisites": [],
                "id": 5,
                "metrics": {
                 "blocking factor": 0,
                 "centrality": 0,
                 "complexity": 1,
                 "delay factor": 1
                },
                "name": "SGEH ",
                "nameCanonical": "",
                "nameSub": "State Humanities Gen Ed"
               },
               {
                "credits": 3,
                "curriculum_requisites": [
                 {
                  "source_id": 24950,
                  "target_id": 23739,
                  "type": "CurriculumPrerequisite"
                 }
                ],
                "id": 23739,
                "metrics": {
                 "blocking factor": 6,
                 "centrality": 23,
                 "complexity": 10,
                 "delay factor": 4
                },
                "name": "COT 3100",
                "nameCanonical": "",
                "nameSub": "Introduction to Discrete Structures"
               },
               {
                "credits": 3,
                "curriculum_requisites": [
                 {
                  "source_id": 24952,
                  "target_id": 25929,
                  "type": "CurriculumPrerequisite"
                 },
                 {
                  "source_id": 26016,
                  "target_id": 25929,
                  "type": "CurriculumPrerequisite"
                 }
                ],
                "id": 25929,
                "metrics": {
                 "blocking factor": 1,
                 "centrality": 26,
                 "complexity": 7,
                 "delay factor": 6
                },
                "name": "EGN or MAP 3433 or 2302",
                "nameCanonical": "",
                "nameSub": "Modeling and Analysis of Engineering Systems or Diff Eq"
               },
               {
                "credits": 3,
                "curriculum_requisites": [
                 {
                  "source_id": 26655,
                  "target_id": 24641,
                  "type": "CurriculumPrerequisite"
                 },
                 {
                  "source_id": 24493,
                  "target_id": 24641,
                  "type": "CurriculumCorequisite"
                 }
                ],
                "id": 24641,
                "metrics": {
                 "blocking factor": 6,
                 "centrality": 205,
                 "complexity": 14,
                 "delay factor": 8
                },
                "name": "COP 3331",
                "nameCanonical": "",
                "nameSub": "Object Oriented Software Design"
               }
              ],
              "id": 4,
              "name": "Term 4"
             },
             {
              "curriculum_items": [
               {
                "credits": 3,
                "curriculum_requisites": [
                 {
                  "source_id": 24493,
                  "target_id": 27726,
                  "type": "CurriculumPrerequisite"
                 },
                 {
                  "source_id": 26655,
                  "target_id": 27726,
                  "type": "CurriculumPrerequisite"
                 },
                 {
                  "source_id": 23435,
                  "target_id": 27726,
                  "type": "CurriculumStrictCorequisite"
                 }
                ],
                "id": 27726,
                "metrics": {
                 "blocking factor": 7,
                 "centrality": 242,
                 "complexity": 15,
                 "delay factor": 8
                },
                "name": "CDA 3201",
                "nameCanonical": "",
                "nameSub": "Computer Logic and Design"
               },
               {
                "credits": 3,
                "curriculum_requisites": [
                 {
                  "source_id": 23739,
                  "target_id": 28111,
                  "type": "CurriculumPrerequisite"
                 },
                 {
                  "source_id": 24493,
                  "target_id": 28111,
                  "type": "CurriculumPrerequisite"
                 },
                 {
                  "source_id": 24641,
                  "target_id": 28111,
                  "type": "CurriculumPrerequisite"
                 }
                ],
                "id": 28111,
                "metrics": {
                 "blocking factor": 5,
                 "centrality": 375,
                 "complexity": 13,
                 "delay factor": 8
                },
                "name": "COP 4530",
                "nameCanonical": "",
                "nameSub": "Data Structures"
               },
               {
                "credits": 2,
                "curriculum_requisites": [
                 {
                  "source_id": 24951,
                  "target_id": 26647,
                  "type": "CurriculumPrerequisite"
                 }
                ],
                "id": 26647,
                "metrics": {
                 "blocking factor": 0,
                 "centrality": 0,
                 "complexity": 3,
                 "delay factor": 3
                },
                "name": "EGN 4450",
                "nameCanonical": "",
                "nameSub": "Introduction to Linear Systems"
               },
               {
                "credits": 1,
                "curriculum_requisites": [],
                "id": 23435,
                "metrics": {
                 "blocking factor": 8,
                 "centrality": 0,
                 "complexity": 12,
                 "delay factor": 4
                },
                "name": "CDA 3201L",
                "nameCanonical": "",
                "nameSub": "Computer Logic and Design Lab"
               }
              ],
              "id": 5,
              "name": "Term 5"
             },
             {
              "curriculum_items": [
               {
                "credits": 3,
                "curriculum_requisites": [
                 {
                  "source_id": 23739,
                  "target_id": 23996,
                  "type": "CurriculumPrerequisite"
                 },
                 {
                  "source_id": 28111,
                  "target_id": 23996,
                  "type": "CurriculumPrerequisite"
                 }
                ],
                "id": 23996,
                "metrics": {
                 "blocking factor": 0,
                 "centrality": 0,
                 "complexity": 8,
                 "delay factor": 8
                },
                "name": "COT 4400",
                "nameCanonical": "",
                "nameSub": "Analysis Of Algorithms"
               },
               {
                "credits": 3,
                "curriculum_requisites": [
                 {
                  "source_id": 23435,
                  "target_id": 24494,
                  "type": "CurriculumPrerequisite"
                 },
                 {
                  "source_id": 27726,
                  "target_id": 24494,
                  "type": "CurriculumPrerequisite"
                 }
                ],
                "id": 24494,
                "metrics": {
                 "blocking factor": 0,
                 "centrality": 0,
                 "complexity": 7,
                 "delay factor": 7
                },
                "name": "CDA 4205",
                "nameCanonical": "",
                "nameSub": "Computer Architecture"
               },
               {
                "credits": 3,
                "curriculum_requisites": [
                 {
                  "source_id": 24952,
                  "target_id": 27967,
                  "type": "CurriculumCorequisite"
                 },
                 {
                  "source_id": 26014,
                  "target_id": 27967,
                  "type": "CurriculumPrerequisite"
                 },
                 {
                  "source_id": 25478,
                  "target_id": 27967,
                  "type": "CurriculumPrerequisite"
                 }
                ],
                "id": 27967,
                "metrics": {
                 "blocking factor": 0,
                 "centrality": 0,
                 "complexity": 4,
                 "delay factor": 4
                },
                "name": "EEE 3394",
                "nameCanonical": "",
                "nameSub": "Electronic Materials"
               },
               {
                "credits": 3,
                "curriculum_requisites": [
                 {
                  "source_id": 25929,
                  "target_id": 25981,
                  "type": "CurriculumCorequisite"
                 }
                ],
                "id": 25981,
                "metrics": {
                 "blocking factor": 0,
                 "centrality": 0,
                 "complexity": 6,
                 "delay factor": 6
                },
                "name": "EGN 3373",
                "nameCanonical": "",
                "nameSub": "Introduction to Electrical Systems I"
               },
               {
                "credits": 3,
                "curriculum_requisites": [
                 {
                  "source_id": 27726,
                  "target_id": 6,
                  "type": "CurriculumPrerequisite"
                 }
                ],
                "id": 6,
                "metrics": {
                 "blocking factor": 0,
                 "centrality": 0,
                 "complexity": 7,
                 "delay factor": 7
                },
                "name": " ",
                "nameCanonical": "",
                "nameSub": "CSE Hardware Elective"
               }
              ],
              "id": 6,
              "name": "Term 6"
             },
             {
              "curriculum_items": [
               {
                "credits": 3,
                "curriculum_requisites": [
                 {
                  "source_id": 23435,
                  "target_id": 26840,
                  "type": "CurriculumPrerequisite"
                 },
                 {
                  "source_id": 27726,
                  "target_id": 26840,
                  "type": "CurriculumPrerequisite"
                 }
                ],
                "id": 26840,
                "metrics": {
                 "blocking factor": 1,
                 "centrality": 48,
                 "complexity": 9,
                 "delay factor": 8
                },
                "name": "CDA 4203",
                "nameCanonical": "",
                "nameSub": "Computer System Design"
               },
               {
                "credits": 3,
                "curriculum_requisites": [],
                "id": 24859,
                "metrics": {
                 "blocking factor": 0,
                 "centrality": 0,
                 "complexity": 1,
                 "delay factor": 1
                },
                "name": "EGN 3615",
                "nameCanonical": "",
                "nameSub": "Engineering Economics with Social and Global Implications"
               },
               {
                "credits": 3,
                "curriculum_requisites": [
                 {
                  "source_id": 28111,
                  "target_id": 23860,
                  "type": "CurriculumPrerequisite"
                 }
                ],
                "id": 23860,
                "metrics": {
                 "blocking factor": 0,
                 "centrality": 0,
                 "complexity": 8,
                 "delay factor": 8
                },
                "name": "COP 4600",
                "nameCanonical": "",
                "nameSub": "Operating Systems"
               },
               {
                "credits": 3,
                "curriculum_requisites": [
                 {
                  "source_id": 27726,
                  "target_id": 8,
                  "type": "CurriculumPrerequisite"
                 }
                ],
                "id": 8,
                "metrics": {
                 "blocking factor": 0,
                 "centrality": 0,
                 "complexity": 7,
                 "delay factor": 7
                },
                "name": " ",
                "nameCanonical": "",
                "nameSub": "CSE Hardware Elective"
               },
               {
                "credits": 1,
                "curriculum_requisites": [
                 {
                  "source_id": 26840,
                  "target_id": 26843,
                  "type": "CurriculumStrictCorequisite"
                 }
                ],
                "id": 26843,
                "metrics": {
                 "blocking factor": 0,
                 "centrality": 0,
                 "complexity": 8,
                 "delay factor": 8
                },
                "name": "CDA 4203L",
                "nameCanonical": "",
                "nameSub": "Computer System Design Lab"
               },
               {
                "credits": 3,
                "curriculum_requisites": [],
                "id": 9,
                "metrics": {
                 "blocking factor": 0,
                 "centrality": 0,
                 "complexity": 1,
                 "delay factor": 1
                },
                "name": " ",
                "nameCanonical": "",
                "nameSub": "Natural Sci Elective"
               }
              ],
              "id": 7,
              "name": "Term 7"
             },
             {
              "curriculum_items": [
               {
                "credits": 3,
                "curriculum_requisites": [
                 {
                  "source_id": 23435,
                  "target_id": 23590,
                  "type": "CurriculumPrerequisite"
                 },
                 {
                  "source_id": 27726,
                  "target_id": 23590,
                  "type": "CurriculumPrerequisite"
                 }
                ],
                "id": 23590,
                "metrics": {
                 "blocking factor": 1,
                 "centrality": 48,
                 "complexity": 9,
                 "delay factor": 8
                },
                "name": "CDA 4213",
                "nameCanonical": "",
                "nameSub": "CMOS-VLSI Design"
               },
               {
                "credits": 3,
                "curriculum_requisites": [],
                "id": 27719,
                "metrics": {
                 "blocking factor": 0,
                 "centrality": 0,
                 "complexity": 1,
                 "delay factor": 1
                },
                "name": "ENC 3246",
                "nameCanonical": "",
                "nameSub": "Communication for Engineers"
               },
               {
                "credits": 3,
                "curriculum_requisites": [
                 {
                  "source_id": 24951,
                  "target_id": 25983,
                  "type": "CurriculumPrerequisite"
                 }
                ],
                "id": 25983,
                "metrics": {
                 "blocking factor": 0,
                 "centrality": 0,
                 "complexity": 3,
                 "delay factor": 3
                },
                "name": "EGN 3443",
                "nameCanonical": "",
                "nameSub": "Probability and Statistics for Engineers"
               },
               {
                "credits": 3,
                "curriculum_requisites": [
                 {
                  "source_id": 28111,
                  "target_id": 12,
                  "type": "CurriculumPrerequisite"
                 }
                ],
                "id": 12,
                "metrics": {
                 "blocking factor": 0,
                 "centrality": 0,
                 "complexity": 8,
                 "delay factor": 8
                },
                "name": " ",
                "nameCanonical": "",
                "nameSub": "CSE Elective"
               },
               {
                "credits": 1,
                "curriculum_requisites": [
                 {
                  "source_id": 23435,
                  "target_id": 28057,
                  "type": "CurriculumPrerequisite"
                 },
                 {
                  "source_id": 27726,
                  "target_id": 28057,
                  "type": "CurriculumPrerequisite"
                 },
                 {
                  "source_id": 23590,
                  "target_id": 28057,
                  "type": "CurriculumStrictCorequisite"
                 }
                ],
                "id": 28057,
                "metrics": {
                 "blocking factor": 0,
                 "centrality": 0,
                 "complexity": 8,
                 "delay factor": 8
                },
                "name": "CDA 4213L",
                "nameCanonical": "",
                "nameSub": "CMOS-VLSI Design Lab"
               }
              ],
              "id": 8,
              "name": "Term 8"
             },
             {
              "curriculum_items": [
               {
                "credits": 3,
                "curriculum_requisites": [],
                "id": 26844,
                "metrics": {
                 "blocking factor": 0,
                 "centrality": 0,
                 "complexity": 1,
                 "delay factor": 1
                },
                "name": "CIS 4250",
                "nameCanonical": "",
                "nameSub": "Ethical Issues And Professional Conduct"
               },
               {
                "credits": 3,
                "curriculum_requisites": [
                 {
                  "source_id": 28111,
                  "target_id": 15,
                  "type": "CurriculumPrerequisite"
                 }
                ],
                "id": 15,
                "metrics": {
                 "blocking factor": 0,
                 "centrality": 0,
                 "complexity": 8,
                 "delay factor": 8
                },
                "name": " ",
                "nameCanonical": "",
                "nameSub": "CSE Elective"
               },
               {
                "credits": 3,
                "curriculum_requisites": [
                 {
                  "source_id": 28111,
                  "target_id": 24532,
                  "type": "CurriculumPrerequisite"
                 }
                ],
                "id": 24532,
                "metrics": {
                 "blocking factor": 0,
                 "centrality": 0,
                 "complexity": 8,
                 "delay factor": 8
                },
                "name": "CIS 4910",
                "nameCanonical": "",
                "nameSub": "Computer Science and Engineering Project"
               },
               {
                "credits": 1,
                "curriculum_requisites": [],
                "id": 16,
                "metrics": {
                 "blocking factor": 0,
                 "centrality": 0,
                 "complexity": 1,
                 "delay factor": 1
                },
                "name": " ",
                "nameCanonical": "",
                "nameSub": "LAB"
               }
              ],
              "id": 9,
              "name": "Term 9"
             }
            ],
            "dp_name": "ECP-CALC+CHM ready",
            "institution": "USF",
            "name": "BSCP-Computer Engineering"
           },
           "options": {
            "edit": false,
            "hideTerms": false
           }
          }
         }
        },
        "systemjs_options": null
       },
       "nodeType": "Scope",
       "props": {},
       "type": "node"
      },
      "text/html": [
       "<div\n",
       "    class=\"webio-mountpoint\"\n",
       "    data-webio-mountpoint=\"8811502436636633809\"\n",
       ">\n",
       "    <script>\n",
       "    if (window.require && require.defined && require.defined(\"nbextensions/webio-jupyter-notebook\")) {\n",
       "        console.log(\"Jupyter WebIO extension detected, not mounting.\");\n",
       "    } else if (window.WebIO) {\n",
       "        WebIO.mount(\n",
       "            document.querySelector('[data-webio-mountpoint=\"8811502436636633809\"]'),\n",
       "            {\"props\":{},\"nodeType\":\"Scope\",\"type\":\"node\",\"instanceArgs\":{\"imports\":{\"data\":[],\"type\":\"async_block\"},\"id\":\"7671973489885029178\",\"handlers\":{},\"systemjs_options\":null,\"mount_callbacks\":[],\"observables\":{\"curriculum-data\":{\"sync\":true,\"id\":\"2413678271866327799\",\"value\":{\"options\":{\"hideTerms\":false,\"edit\":false},\"curriculum\":{\"name\":\"BSCP-Computer Engineering\",\"dp_name\":\"ECP-CALC+CHM ready\",\"curriculum_terms\":[{\"name\":\"Term 1\",\"curriculum_items\":[{\"curriculum_requisites\":[],\"name\":\"MAC 2281\",\"metrics\":{\"complexity\":38.0,\"centrality\":0,\"blocking factor\":30,\"delay factor\":8.0},\"nameSub\":\"Engineering Calculus I\",\"id\":24950,\"credits\":4,\"nameCanonical\":\"\"},{\"curriculum_requisites\":[],\"name\":\"CHM or CHS 2045 or 2440\",\"metrics\":{\"complexity\":4.0,\"centrality\":0,\"blocking factor\":2,\"delay factor\":2.0},\"nameSub\":\"General Chemistry I (for Engineers)\",\"id\":25478,\"credits\":3,\"nameCanonical\":\"\"},{\"curriculum_requisites\":[],\"name\":\"ENC 1101\",\"metrics\":{\"complexity\":3.0,\"centrality\":0,\"blocking factor\":1,\"delay factor\":2.0},\"nameSub\":\"Composition I\",\"id\":23525,\"credits\":3,\"nameCanonical\":\"\"},{\"curriculum_requisites\":[{\"source_id\":25478,\"target_id\":25479,\"type\":\"CurriculumStrictCorequisite\"}],\"name\":\"CHM or CHS 2045L or 2440L\",\"metrics\":{\"complexity\":2.0,\"centrality\":0,\"blocking factor\":0,\"delay factor\":2.0},\"nameSub\":\"General Chemistry I Laboratory (for Engineers)\",\"id\":25479,\"credits\":1,\"nameCanonical\":\"\"},{\"curriculum_requisites\":[],\"name\":\"EGN 3000L\",\"metrics\":{\"complexity\":1.0,\"centrality\":0,\"blocking factor\":0,\"delay factor\":1.0},\"nameSub\":\"Foundations of Engineering Lab\",\"id\":23287,\"credits\":3,\"nameCanonical\":\"\"},{\"curriculum_requisites\":[],\"name\":\"EGN 3000\",\"metrics\":{\"complexity\":1.0,\"centrality\":0,\"blocking factor\":0,\"delay factor\":1.0},\"nameSub\":\"Foundations of Engineering\",\"id\":28172,\"credits\":0,\"nameCanonical\":\"\"}],\"id\":1},{\"name\":\"Term 2\",\"curriculum_items\":[{\"curriculum_requisites\":[{\"source_id\":24950,\"target_id\":24951,\"type\":\"CurriculumPrerequisite\"}],\"name\":\"MAC 2282\",\"metrics\":{\"complexity\":31.0,\"centrality\":130,\"blocking factor\":24,\"delay factor\":7.0},\"nameSub\":\"Engineering Calculus II\",\"id\":24951,\"credits\":4,\"nameCanonical\":\"\"},{\"curriculum_requisites\":[{\"source_id\":23525,\"target_id\":23526,\"type\":\"CurriculumPrerequisite\"}],\"name\":\"ENC 1102\",\"metrics\":{\"complexity\":2.0,\"centrality\":0,\"blocking factor\":0,\"delay factor\":2.0},\"nameSub\":\"Composition II\",\"id\":23526,\"credits\":3,\"nameCanonical\":\"\"},{\"curriculum_requisites\":[{\"source_id\":24950,\"target_id\":26014,\"type\":\"CurriculumPrerequisite\"}],\"name\":\"PHY 2048\",\"metrics\":{\"complexity\":30.0,\"centrality\":252,\"blocking factor\":22,\"delay factor\":8.0},\"nameSub\":\"General Physics I - Calculus Based\",\"id\":26014,\"credits\":3,\"nameCanonical\":\"\"},{\"curriculum_requisites\":[{\"source_id\":24950,\"target_id\":23738,\"type\":\"CurriculumPrerequisite\"}],\"name\":\"COP 2510\",\"metrics\":{\"complexity\":23.0,\"centrality\":149,\"blocking factor\":17,\"delay factor\":6.0},\"nameSub\":\"Programming Concepts\",\"id\":23738,\"credits\":3,\"nameCanonical\":\"\"},{\"curriculum_requisites\":[{\"source_id\":24950,\"target_id\":26015,\"type\":\"CurriculumPrerequisite\"},{\"source_id\":26014,\"target_id\":26015,\"type\":\"CurriculumStrictCorequisite\"}],\"name\":\"PHY 2048L\",\"metrics\":{\"complexity\":28.0,\"centrality\":249,\"blocking factor\":20,\"delay factor\":8.0},\"nameSub\":\"General Physics I Laboratory\",\"id\":26015,\"credits\":1,\"nameCanonical\":\"\"}],\"id\":2},{\"name\":\"Term 3\",\"curriculum_items\":[{\"curriculum_requisites\":[{\"source_id\":24951,\"target_id\":24952,\"type\":\"CurriculumPrerequisite\"}],\"name\":\"MAC 2283\",\"metrics\":{\"complexity\":8.0,\"centrality\":9,\"blocking factor\":3,\"delay factor\":5.0},\"nameSub\":\"Engineering Calculus III\",\"id\":24952,\"credits\":4,\"nameCanonical\":\"\"},{\"curriculum_requisites\":[{\"source_id\":24951,\"target_id\":26016,\"type\":\"CurriculumPrerequisite\"},{\"source_id\":26014,\"target_id\":26016,\"type\":\"CurriculumPrerequisite\"},{\"source_id\":26015,\"target_id\":26016,\"type\":\"CurriculumPrerequisite\"}],\"name\":\"PHY 2049\",\"metrics\":{\"complexity\":27.0,\"centrality\":466,\"blocking factor\":19,\"delay factor\":8.0},\"nameSub\":\"General Physics II - Calculus Based\",\"id\":26016,\"credits\":3,\"nameCanonical\":\"\"},{\"curriculum_requisites\":[{\"source_id\":23738,\"target_id\":26655,\"type\":\"CurriculumPrerequisite\"}],\"name\":\"COP 3514\",\"metrics\":{\"complexity\":21.0,\"centrality\":62,\"blocking factor\":15,\"delay factor\":6.0},\"nameSub\":\"Program Design\",\"id\":26655,\"credits\":3,\"nameCanonical\":\"\"},{\"curriculum_requisites\":[{\"source_id\":24951,\"target_id\":26017,\"type\":\"CurriculumPrerequisite\"},{\"source_id\":26014,\"target_id\":26017,\"type\":\"CurriculumPrerequisite\"},{\"source_id\":26016,\"target_id\":26017,\"type\":\"CurriculumStrictCorequisite\"},{\"source_id\":26015,\"target_id\":26017,\"type\":\"CurriculumPrerequisite\"}],\"name\":\"PHY 2049L\",\"metrics\":{\"complexity\":5.0,\"centrality\":0,\"blocking factor\":0,\"delay factor\":5.0},\"nameSub\":\"General Physics II Laboratory\",\"id\":26017,\"credits\":1,\"nameCanonical\":\"\"},{\"curriculum_requisites\":[],\"name\":\"SGES \",\"metrics\":{\"complexity\":1.0,\"centrality\":0,\"blocking factor\":0,\"delay factor\":1.0},\"nameSub\":\"State Social Science Gen Ed\",\"id\":4,\"credits\":3,\"nameCanonical\":\"\"}],\"id\":3},{\"name\":\"Term 4\",\"curriculum_items\":[{\"curriculum_requisites\":[{\"source_id\":23738,\"target_id\":24493,\"type\":\"CurriculumPrerequisite\"},{\"source_id\":26016,\"target_id\":24493,\"type\":\"CurriculumPrerequisite\"}],\"name\":\"CDA 3103\",\"metrics\":{\"complexity\":23.0,\"centrality\":515,\"blocking factor\":15,\"delay factor\":8.0},\"nameSub\":\"Computer Organization\",\"id\":24493,\"credits\":3,\"nameCanonical\":\"\"},{\"curriculum_requisites\":[],\"name\":\"SGEH \",\"metrics\":{\"complexity\":1.0,\"centrality\":0,\"blocking factor\":0,\"delay factor\":1.0},\"nameSub\":\"State Humanities Gen Ed\",\"id\":5,\"credits\":3,\"nameCanonical\":\"\"},{\"curriculum_requisites\":[{\"source_id\":24950,\"target_id\":23739,\"type\":\"CurriculumPrerequisite\"}],\"name\":\"COT 3100\",\"metrics\":{\"complexity\":10.0,\"centrality\":23,\"blocking factor\":6,\"delay factor\":4.0},\"nameSub\":\"Introduction to Discrete Structures\",\"id\":23739,\"credits\":3,\"nameCanonical\":\"\"},{\"curriculum_requisites\":[{\"source_id\":24952,\"target_id\":25929,\"type\":\"CurriculumPrerequisite\"},{\"source_id\":26016,\"target_id\":25929,\"type\":\"CurriculumPrerequisite\"}],\"name\":\"EGN or MAP 3433 or 2302\",\"metrics\":{\"complexity\":7.0,\"centrality\":26,\"blocking factor\":1,\"delay factor\":6.0},\"nameSub\":\"Modeling and Analysis of Engineering Systems or Diff Eq\",\"id\":25929,\"credits\":3,\"nameCanonical\":\"\"},{\"curriculum_requisites\":[{\"source_id\":26655,\"target_id\":24641,\"type\":\"CurriculumPrerequisite\"},{\"source_id\":24493,\"target_id\":24641,\"type\":\"CurriculumCorequisite\"}],\"name\":\"COP 3331\",\"metrics\":{\"complexity\":14.0,\"centrality\":205,\"blocking factor\":6,\"delay factor\":8.0},\"nameSub\":\"Object Oriented Software Design\",\"id\":24641,\"credits\":3,\"nameCanonical\":\"\"}],\"id\":4},{\"name\":\"Term 5\",\"curriculum_items\":[{\"curriculum_requisites\":[{\"source_id\":24493,\"target_id\":27726,\"type\":\"CurriculumPrerequisite\"},{\"source_id\":26655,\"target_id\":27726,\"type\":\"CurriculumPrerequisite\"},{\"source_id\":23435,\"target_id\":27726,\"type\":\"CurriculumStrictCorequisite\"}],\"name\":\"CDA 3201\",\"metrics\":{\"complexity\":15.0,\"centrality\":242,\"blocking factor\":7,\"delay factor\":8.0},\"nameSub\":\"Computer Logic and Design\",\"id\":27726,\"credits\":3,\"nameCanonical\":\"\"},{\"curriculum_requisites\":[{\"source_id\":23739,\"target_id\":28111,\"type\":\"CurriculumPrerequisite\"},{\"source_id\":24493,\"target_id\":28111,\"type\":\"CurriculumPrerequisite\"},{\"source_id\":24641,\"target_id\":28111,\"type\":\"CurriculumPrerequisite\"}],\"name\":\"COP 4530\",\"metrics\":{\"complexity\":13.0,\"centrality\":375,\"blocking factor\":5,\"delay factor\":8.0},\"nameSub\":\"Data Structures\",\"id\":28111,\"credits\":3,\"nameCanonical\":\"\"},{\"curriculum_requisites\":[{\"source_id\":24951,\"target_id\":26647,\"type\":\"CurriculumPrerequisite\"}],\"name\":\"EGN 4450\",\"metrics\":{\"complexity\":3.0,\"centrality\":0,\"blocking factor\":0,\"delay factor\":3.0},\"nameSub\":\"Introduction to Linear Systems\",\"id\":26647,\"credits\":2,\"nameCanonical\":\"\"},{\"curriculum_requisites\":[],\"name\":\"CDA 3201L\",\"metrics\":{\"complexity\":12.0,\"centrality\":0,\"blocking factor\":8,\"delay factor\":4.0},\"nameSub\":\"Computer Logic and Design Lab\",\"id\":23435,\"credits\":1,\"nameCanonical\":\"\"}],\"id\":5},{\"name\":\"Term 6\",\"curriculum_items\":[{\"curriculum_requisites\":[{\"source_id\":23739,\"target_id\":23996,\"type\":\"CurriculumPrerequisite\"},{\"source_id\":28111,\"target_id\":23996,\"type\":\"CurriculumPrerequisite\"}],\"name\":\"COT 4400\",\"metrics\":{\"complexity\":8.0,\"centrality\":0,\"blocking factor\":0,\"delay factor\":8.0},\"nameSub\":\"Analysis Of Algorithms\",\"id\":23996,\"credits\":3,\"nameCanonical\":\"\"},{\"curriculum_requisites\":[{\"source_id\":23435,\"target_id\":24494,\"type\":\"CurriculumPrerequisite\"},{\"source_id\":27726,\"target_id\":24494,\"type\":\"CurriculumPrerequisite\"}],\"name\":\"CDA 4205\",\"metrics\":{\"complexity\":7.0,\"centrality\":0,\"blocking factor\":0,\"delay factor\":7.0},\"nameSub\":\"Computer Architecture\",\"id\":24494,\"credits\":3,\"nameCanonical\":\"\"},{\"curriculum_requisites\":[{\"source_id\":24952,\"target_id\":27967,\"type\":\"CurriculumCorequisite\"},{\"source_id\":26014,\"target_id\":27967,\"type\":\"CurriculumPrerequisite\"},{\"source_id\":25478,\"target_id\":27967,\"type\":\"CurriculumPrerequisite\"}],\"name\":\"EEE 3394\",\"metrics\":{\"complexity\":4.0,\"centrality\":0,\"blocking factor\":0,\"delay factor\":4.0},\"nameSub\":\"Electronic Materials\",\"id\":27967,\"credits\":3,\"nameCanonical\":\"\"},{\"curriculum_requisites\":[{\"source_id\":25929,\"target_id\":25981,\"type\":\"CurriculumCorequisite\"}],\"name\":\"EGN 3373\",\"metrics\":{\"complexity\":6.0,\"centrality\":0,\"blocking factor\":0,\"delay factor\":6.0},\"nameSub\":\"Introduction to Electrical Systems I\",\"id\":25981,\"credits\":3,\"nameCanonical\":\"\"},{\"curriculum_requisites\":[{\"source_id\":27726,\"target_id\":6,\"type\":\"CurriculumPrerequisite\"}],\"name\":\" \",\"metrics\":{\"complexity\":7.0,\"centrality\":0,\"blocking factor\":0,\"delay factor\":7.0},\"nameSub\":\"CSE Hardware Elective\",\"id\":6,\"credits\":3,\"nameCanonical\":\"\"}],\"id\":6},{\"name\":\"Term 7\",\"curriculum_items\":[{\"curriculum_requisites\":[{\"source_id\":23435,\"target_id\":26840,\"type\":\"CurriculumPrerequisite\"},{\"source_id\":27726,\"target_id\":26840,\"type\":\"CurriculumPrerequisite\"}],\"name\":\"CDA 4203\",\"metrics\":{\"complexity\":9.0,\"centrality\":48,\"blocking factor\":1,\"delay factor\":8.0},\"nameSub\":\"Computer System Design\",\"id\":26840,\"credits\":3,\"nameCanonical\":\"\"},{\"curriculum_requisites\":[],\"name\":\"EGN 3615\",\"metrics\":{\"complexity\":1.0,\"centrality\":0,\"blocking factor\":0,\"delay factor\":1.0},\"nameSub\":\"Engineering Economics with Social and Global Implications\",\"id\":24859,\"credits\":3,\"nameCanonical\":\"\"},{\"curriculum_requisites\":[{\"source_id\":28111,\"target_id\":23860,\"type\":\"CurriculumPrerequisite\"}],\"name\":\"COP 4600\",\"metrics\":{\"complexity\":8.0,\"centrality\":0,\"blocking factor\":0,\"delay factor\":8.0},\"nameSub\":\"Operating Systems\",\"id\":23860,\"credits\":3,\"nameCanonical\":\"\"},{\"curriculum_requisites\":[{\"source_id\":27726,\"target_id\":8,\"type\":\"CurriculumPrerequisite\"}],\"name\":\" \",\"metrics\":{\"complexity\":7.0,\"centrality\":0,\"blocking factor\":0,\"delay factor\":7.0},\"nameSub\":\"CSE Hardware Elective\",\"id\":8,\"credits\":3,\"nameCanonical\":\"\"},{\"curriculum_requisites\":[{\"source_id\":26840,\"target_id\":26843,\"type\":\"CurriculumStrictCorequisite\"}],\"name\":\"CDA 4203L\",\"metrics\":{\"complexity\":8.0,\"centrality\":0,\"blocking factor\":0,\"delay factor\":8.0},\"nameSub\":\"Computer System Design Lab\",\"id\":26843,\"credits\":1,\"nameCanonical\":\"\"},{\"curriculum_requisites\":[],\"name\":\" \",\"metrics\":{\"complexity\":1.0,\"centrality\":0,\"blocking factor\":0,\"delay factor\":1.0},\"nameSub\":\"Natural Sci Elective\",\"id\":9,\"credits\":3,\"nameCanonical\":\"\"}],\"id\":7},{\"name\":\"Term 8\",\"curriculum_items\":[{\"curriculum_requisites\":[{\"source_id\":23435,\"target_id\":23590,\"type\":\"CurriculumPrerequisite\"},{\"source_id\":27726,\"target_id\":23590,\"type\":\"CurriculumPrerequisite\"}],\"name\":\"CDA 4213\",\"metrics\":{\"complexity\":9.0,\"centrality\":48,\"blocking factor\":1,\"delay factor\":8.0},\"nameSub\":\"CMOS-VLSI Design\",\"id\":23590,\"credits\":3,\"nameCanonical\":\"\"},{\"curriculum_requisites\":[],\"name\":\"ENC 3246\",\"metrics\":{\"complexity\":1.0,\"centrality\":0,\"blocking factor\":0,\"delay factor\":1.0},\"nameSub\":\"Communication for Engineers\",\"id\":27719,\"credits\":3,\"nameCanonical\":\"\"},{\"curriculum_requisites\":[{\"source_id\":24951,\"target_id\":25983,\"type\":\"CurriculumPrerequisite\"}],\"name\":\"EGN 3443\",\"metrics\":{\"complexity\":3.0,\"centrality\":0,\"blocking factor\":0,\"delay factor\":3.0},\"nameSub\":\"Probability and Statistics for Engineers\",\"id\":25983,\"credits\":3,\"nameCanonical\":\"\"},{\"curriculum_requisites\":[{\"source_id\":28111,\"target_id\":12,\"type\":\"CurriculumPrerequisite\"}],\"name\":\" \",\"metrics\":{\"complexity\":8.0,\"centrality\":0,\"blocking factor\":0,\"delay factor\":8.0},\"nameSub\":\"CSE Elective\",\"id\":12,\"credits\":3,\"nameCanonical\":\"\"},{\"curriculum_requisites\":[{\"source_id\":23435,\"target_id\":28057,\"type\":\"CurriculumPrerequisite\"},{\"source_id\":27726,\"target_id\":28057,\"type\":\"CurriculumPrerequisite\"},{\"source_id\":23590,\"target_id\":28057,\"type\":\"CurriculumStrictCorequisite\"}],\"name\":\"CDA 4213L\",\"metrics\":{\"complexity\":8.0,\"centrality\":0,\"blocking factor\":0,\"delay factor\":8.0},\"nameSub\":\"CMOS-VLSI Design Lab\",\"id\":28057,\"credits\":1,\"nameCanonical\":\"\"}],\"id\":8},{\"name\":\"Term 9\",\"curriculum_items\":[{\"curriculum_requisites\":[],\"name\":\"CIS 4250\",\"metrics\":{\"complexity\":1.0,\"centrality\":0,\"blocking factor\":0,\"delay factor\":1.0},\"nameSub\":\"Ethical Issues And Professional Conduct\",\"id\":26844,\"credits\":3,\"nameCanonical\":\"\"},{\"curriculum_requisites\":[{\"source_id\":28111,\"target_id\":15,\"type\":\"CurriculumPrerequisite\"}],\"name\":\" \",\"metrics\":{\"complexity\":8.0,\"centrality\":0,\"blocking factor\":0,\"delay factor\":8.0},\"nameSub\":\"CSE Elective\",\"id\":15,\"credits\":3,\"nameCanonical\":\"\"},{\"curriculum_requisites\":[{\"source_id\":28111,\"target_id\":24532,\"type\":\"CurriculumPrerequisite\"}],\"name\":\"CIS 4910\",\"metrics\":{\"complexity\":8.0,\"centrality\":0,\"blocking factor\":0,\"delay factor\":8.0},\"nameSub\":\"Computer Science and Engineering Project\",\"id\":24532,\"credits\":3,\"nameCanonical\":\"\"},{\"curriculum_requisites\":[],\"name\":\" \",\"metrics\":{\"complexity\":1.0,\"centrality\":0,\"blocking factor\":0,\"delay factor\":1.0},\"nameSub\":\"LAB\",\"id\":16,\"credits\":1,\"nameCanonical\":\"\"}],\"id\":9}],\"institution\":\"USF\"}}}}},\"children\":[{\"props\":{\"src\":\"https:\\/\\/curricula-api-embed.damoursystems.com\\/\",\"id\":\"curriculum\",\"events\":{\"load\":\"(function (){this.contentWindow.postMessage({\\\"options\\\":{\\\"hideTerms\\\":false,\\\"edit\\\":false},\\\"curriculum\\\":{\\\"name\\\":\\\"BSCP-Computer Engineering\\\",\\\"dp_name\\\":\\\"ECP-CALC+CHM ready\\\",\\\"curriculum_terms\\\":[{\\\"name\\\":\\\"Term 1\\\",\\\"curriculum_items\\\":[{\\\"curriculum_requisites\\\":[],\\\"name\\\":\\\"MAC 2281\\\",\\\"metrics\\\":{\\\"complexity\\\":38.0,\\\"centrality\\\":0,\\\"blocking factor\\\":30,\\\"delay factor\\\":8.0},\\\"nameSub\\\":\\\"Engineering Calculus I\\\",\\\"id\\\":24950,\\\"credits\\\":4,\\\"nameCanonical\\\":\\\"\\\"},{\\\"curriculum_requisites\\\":[],\\\"name\\\":\\\"CHM or CHS 2045 or 2440\\\",\\\"metrics\\\":{\\\"complexity\\\":4.0,\\\"centrality\\\":0,\\\"blocking factor\\\":2,\\\"delay factor\\\":2.0},\\\"nameSub\\\":\\\"General Chemistry I (for Engineers)\\\",\\\"id\\\":25478,\\\"credits\\\":3,\\\"nameCanonical\\\":\\\"\\\"},{\\\"curriculum_requisites\\\":[],\\\"name\\\":\\\"ENC 1101\\\",\\\"metrics\\\":{\\\"complexity\\\":3.0,\\\"centrality\\\":0,\\\"blocking factor\\\":1,\\\"delay factor\\\":2.0},\\\"nameSub\\\":\\\"Composition I\\\",\\\"id\\\":23525,\\\"credits\\\":3,\\\"nameCanonical\\\":\\\"\\\"},{\\\"curriculum_requisites\\\":[{\\\"source_id\\\":25478,\\\"target_id\\\":25479,\\\"type\\\":\\\"CurriculumStrictCorequisite\\\"}],\\\"name\\\":\\\"CHM or CHS 2045L or 2440L\\\",\\\"metrics\\\":{\\\"complexity\\\":2.0,\\\"centrality\\\":0,\\\"blocking factor\\\":0,\\\"delay factor\\\":2.0},\\\"nameSub\\\":\\\"General Chemistry I Laboratory (for Engineers)\\\",\\\"id\\\":25479,\\\"credits\\\":1,\\\"nameCanonical\\\":\\\"\\\"},{\\\"curriculum_requisites\\\":[],\\\"name\\\":\\\"EGN 3000L\\\",\\\"metrics\\\":{\\\"complexity\\\":1.0,\\\"centrality\\\":0,\\\"blocking factor\\\":0,\\\"delay factor\\\":1.0},\\\"nameSub\\\":\\\"Foundations of Engineering Lab\\\",\\\"id\\\":23287,\\\"credits\\\":3,\\\"nameCanonical\\\":\\\"\\\"},{\\\"curriculum_requisites\\\":[],\\\"name\\\":\\\"EGN 3000\\\",\\\"metrics\\\":{\\\"complexity\\\":1.0,\\\"centrality\\\":0,\\\"blocking factor\\\":0,\\\"delay factor\\\":1.0},\\\"nameSub\\\":\\\"Foundations of Engineering\\\",\\\"id\\\":28172,\\\"credits\\\":0,\\\"nameCanonical\\\":\\\"\\\"}],\\\"id\\\":1},{\\\"name\\\":\\\"Term 2\\\",\\\"curriculum_items\\\":[{\\\"curriculum_requisites\\\":[{\\\"source_id\\\":24950,\\\"target_id\\\":24951,\\\"type\\\":\\\"CurriculumPrerequisite\\\"}],\\\"name\\\":\\\"MAC 2282\\\",\\\"metrics\\\":{\\\"complexity\\\":31.0,\\\"centrality\\\":130,\\\"blocking factor\\\":24,\\\"delay factor\\\":7.0},\\\"nameSub\\\":\\\"Engineering Calculus II\\\",\\\"id\\\":24951,\\\"credits\\\":4,\\\"nameCanonical\\\":\\\"\\\"},{\\\"curriculum_requisites\\\":[{\\\"source_id\\\":23525,\\\"target_id\\\":23526,\\\"type\\\":\\\"CurriculumPrerequisite\\\"}],\\\"name\\\":\\\"ENC 1102\\\",\\\"metrics\\\":{\\\"complexity\\\":2.0,\\\"centrality\\\":0,\\\"blocking factor\\\":0,\\\"delay factor\\\":2.0},\\\"nameSub\\\":\\\"Composition II\\\",\\\"id\\\":23526,\\\"credits\\\":3,\\\"nameCanonical\\\":\\\"\\\"},{\\\"curriculum_requisites\\\":[{\\\"source_id\\\":24950,\\\"target_id\\\":26014,\\\"type\\\":\\\"CurriculumPrerequisite\\\"}],\\\"name\\\":\\\"PHY 2048\\\",\\\"metrics\\\":{\\\"complexity\\\":30.0,\\\"centrality\\\":252,\\\"blocking factor\\\":22,\\\"delay factor\\\":8.0},\\\"nameSub\\\":\\\"General Physics I - Calculus Based\\\",\\\"id\\\":26014,\\\"credits\\\":3,\\\"nameCanonical\\\":\\\"\\\"},{\\\"curriculum_requisites\\\":[{\\\"source_id\\\":24950,\\\"target_id\\\":23738,\\\"type\\\":\\\"CurriculumPrerequisite\\\"}],\\\"name\\\":\\\"COP 2510\\\",\\\"metrics\\\":{\\\"complexity\\\":23.0,\\\"centrality\\\":149,\\\"blocking factor\\\":17,\\\"delay factor\\\":6.0},\\\"nameSub\\\":\\\"Programming Concepts\\\",\\\"id\\\":23738,\\\"credits\\\":3,\\\"nameCanonical\\\":\\\"\\\"},{\\\"curriculum_requisites\\\":[{\\\"source_id\\\":24950,\\\"target_id\\\":26015,\\\"type\\\":\\\"CurriculumPrerequisite\\\"},{\\\"source_id\\\":26014,\\\"target_id\\\":26015,\\\"type\\\":\\\"CurriculumStrictCorequisite\\\"}],\\\"name\\\":\\\"PHY 2048L\\\",\\\"metrics\\\":{\\\"complexity\\\":28.0,\\\"centrality\\\":249,\\\"blocking factor\\\":20,\\\"delay factor\\\":8.0},\\\"nameSub\\\":\\\"General Physics I Laboratory\\\",\\\"id\\\":26015,\\\"credits\\\":1,\\\"nameCanonical\\\":\\\"\\\"}],\\\"id\\\":2},{\\\"name\\\":\\\"Term 3\\\",\\\"curriculum_items\\\":[{\\\"curriculum_requisites\\\":[{\\\"source_id\\\":24951,\\\"target_id\\\":24952,\\\"type\\\":\\\"CurriculumPrerequisite\\\"}],\\\"name\\\":\\\"MAC 2283\\\",\\\"metrics\\\":{\\\"complexity\\\":8.0,\\\"centrality\\\":9,\\\"blocking factor\\\":3,\\\"delay factor\\\":5.0},\\\"nameSub\\\":\\\"Engineering Calculus III\\\",\\\"id\\\":24952,\\\"credits\\\":4,\\\"nameCanonical\\\":\\\"\\\"},{\\\"curriculum_requisites\\\":[{\\\"source_id\\\":24951,\\\"target_id\\\":26016,\\\"type\\\":\\\"CurriculumPrerequisite\\\"},{\\\"source_id\\\":26014,\\\"target_id\\\":26016,\\\"type\\\":\\\"CurriculumPrerequisite\\\"},{\\\"source_id\\\":26015,\\\"target_id\\\":26016,\\\"type\\\":\\\"CurriculumPrerequisite\\\"}],\\\"name\\\":\\\"PHY 2049\\\",\\\"metrics\\\":{\\\"complexity\\\":27.0,\\\"centrality\\\":466,\\\"blocking factor\\\":19,\\\"delay factor\\\":8.0},\\\"nameSub\\\":\\\"General Physics II - Calculus Based\\\",\\\"id\\\":26016,\\\"credits\\\":3,\\\"nameCanonical\\\":\\\"\\\"},{\\\"curriculum_requisites\\\":[{\\\"source_id\\\":23738,\\\"target_id\\\":26655,\\\"type\\\":\\\"CurriculumPrerequisite\\\"}],\\\"name\\\":\\\"COP 3514\\\",\\\"metrics\\\":{\\\"complexity\\\":21.0,\\\"centrality\\\":62,\\\"blocking factor\\\":15,\\\"delay factor\\\":6.0},\\\"nameSub\\\":\\\"Program Design\\\",\\\"id\\\":26655,\\\"credits\\\":3,\\\"nameCanonical\\\":\\\"\\\"},{\\\"curriculum_requisites\\\":[{\\\"source_id\\\":24951,\\\"target_id\\\":26017,\\\"type\\\":\\\"CurriculumPrerequisite\\\"},{\\\"source_id\\\":26014,\\\"target_id\\\":26017,\\\"type\\\":\\\"CurriculumPrerequisite\\\"},{\\\"source_id\\\":26016,\\\"target_id\\\":26017,\\\"type\\\":\\\"CurriculumStrictCorequisite\\\"},{\\\"source_id\\\":26015,\\\"target_id\\\":26017,\\\"type\\\":\\\"CurriculumPrerequisite\\\"}],\\\"name\\\":\\\"PHY 2049L\\\",\\\"metrics\\\":{\\\"complexity\\\":5.0,\\\"centrality\\\":0,\\\"blocking factor\\\":0,\\\"delay factor\\\":5.0},\\\"nameSub\\\":\\\"General Physics II Laboratory\\\",\\\"id\\\":26017,\\\"credits\\\":1,\\\"nameCanonical\\\":\\\"\\\"},{\\\"curriculum_requisites\\\":[],\\\"name\\\":\\\"SGES \\\",\\\"metrics\\\":{\\\"complexity\\\":1.0,\\\"centrality\\\":0,\\\"blocking factor\\\":0,\\\"delay factor\\\":1.0},\\\"nameSub\\\":\\\"State Social Science Gen Ed\\\",\\\"id\\\":4,\\\"credits\\\":3,\\\"nameCanonical\\\":\\\"\\\"}],\\\"id\\\":3},{\\\"name\\\":\\\"Term 4\\\",\\\"curriculum_items\\\":[{\\\"curriculum_requisites\\\":[{\\\"source_id\\\":23738,\\\"target_id\\\":24493,\\\"type\\\":\\\"CurriculumPrerequisite\\\"},{\\\"source_id\\\":26016,\\\"target_id\\\":24493,\\\"type\\\":\\\"CurriculumPrerequisite\\\"}],\\\"name\\\":\\\"CDA 3103\\\",\\\"metrics\\\":{\\\"complexity\\\":23.0,\\\"centrality\\\":515,\\\"blocking factor\\\":15,\\\"delay factor\\\":8.0},\\\"nameSub\\\":\\\"Computer Organization\\\",\\\"id\\\":24493,\\\"credits\\\":3,\\\"nameCanonical\\\":\\\"\\\"},{\\\"curriculum_requisites\\\":[],\\\"name\\\":\\\"SGEH \\\",\\\"metrics\\\":{\\\"complexity\\\":1.0,\\\"centrality\\\":0,\\\"blocking factor\\\":0,\\\"delay factor\\\":1.0},\\\"nameSub\\\":\\\"State Humanities Gen Ed\\\",\\\"id\\\":5,\\\"credits\\\":3,\\\"nameCanonical\\\":\\\"\\\"},{\\\"curriculum_requisites\\\":[{\\\"source_id\\\":24950,\\\"target_id\\\":23739,\\\"type\\\":\\\"CurriculumPrerequisite\\\"}],\\\"name\\\":\\\"COT 3100\\\",\\\"metrics\\\":{\\\"complexity\\\":10.0,\\\"centrality\\\":23,\\\"blocking factor\\\":6,\\\"delay factor\\\":4.0},\\\"nameSub\\\":\\\"Introduction to Discrete Structures\\\",\\\"id\\\":23739,\\\"credits\\\":3,\\\"nameCanonical\\\":\\\"\\\"},{\\\"curriculum_requisites\\\":[{\\\"source_id\\\":24952,\\\"target_id\\\":25929,\\\"type\\\":\\\"CurriculumPrerequisite\\\"},{\\\"source_id\\\":26016,\\\"target_id\\\":25929,\\\"type\\\":\\\"CurriculumPrerequisite\\\"}],\\\"name\\\":\\\"EGN or MAP 3433 or 2302\\\",\\\"metrics\\\":{\\\"complexity\\\":7.0,\\\"centrality\\\":26,\\\"blocking factor\\\":1,\\\"delay factor\\\":6.0},\\\"nameSub\\\":\\\"Modeling and Analysis of Engineering Systems or Diff Eq\\\",\\\"id\\\":25929,\\\"credits\\\":3,\\\"nameCanonical\\\":\\\"\\\"},{\\\"curriculum_requisites\\\":[{\\\"source_id\\\":26655,\\\"target_id\\\":24641,\\\"type\\\":\\\"CurriculumPrerequisite\\\"},{\\\"source_id\\\":24493,\\\"target_id\\\":24641,\\\"type\\\":\\\"CurriculumCorequisite\\\"}],\\\"name\\\":\\\"COP 3331\\\",\\\"metrics\\\":{\\\"complexity\\\":14.0,\\\"centrality\\\":205,\\\"blocking factor\\\":6,\\\"delay factor\\\":8.0},\\\"nameSub\\\":\\\"Object Oriented Software Design\\\",\\\"id\\\":24641,\\\"credits\\\":3,\\\"nameCanonical\\\":\\\"\\\"}],\\\"id\\\":4},{\\\"name\\\":\\\"Term 5\\\",\\\"curriculum_items\\\":[{\\\"curriculum_requisites\\\":[{\\\"source_id\\\":24493,\\\"target_id\\\":27726,\\\"type\\\":\\\"CurriculumPrerequisite\\\"},{\\\"source_id\\\":26655,\\\"target_id\\\":27726,\\\"type\\\":\\\"CurriculumPrerequisite\\\"},{\\\"source_id\\\":23435,\\\"target_id\\\":27726,\\\"type\\\":\\\"CurriculumStrictCorequisite\\\"}],\\\"name\\\":\\\"CDA 3201\\\",\\\"metrics\\\":{\\\"complexity\\\":15.0,\\\"centrality\\\":242,\\\"blocking factor\\\":7,\\\"delay factor\\\":8.0},\\\"nameSub\\\":\\\"Computer Logic and Design\\\",\\\"id\\\":27726,\\\"credits\\\":3,\\\"nameCanonical\\\":\\\"\\\"},{\\\"curriculum_requisites\\\":[{\\\"source_id\\\":23739,\\\"target_id\\\":28111,\\\"type\\\":\\\"CurriculumPrerequisite\\\"},{\\\"source_id\\\":24493,\\\"target_id\\\":28111,\\\"type\\\":\\\"CurriculumPrerequisite\\\"},{\\\"source_id\\\":24641,\\\"target_id\\\":28111,\\\"type\\\":\\\"CurriculumPrerequisite\\\"}],\\\"name\\\":\\\"COP 4530\\\",\\\"metrics\\\":{\\\"complexity\\\":13.0,\\\"centrality\\\":375,\\\"blocking factor\\\":5,\\\"delay factor\\\":8.0},\\\"nameSub\\\":\\\"Data Structures\\\",\\\"id\\\":28111,\\\"credits\\\":3,\\\"nameCanonical\\\":\\\"\\\"},{\\\"curriculum_requisites\\\":[{\\\"source_id\\\":24951,\\\"target_id\\\":26647,\\\"type\\\":\\\"CurriculumPrerequisite\\\"}],\\\"name\\\":\\\"EGN 4450\\\",\\\"metrics\\\":{\\\"complexity\\\":3.0,\\\"centrality\\\":0,\\\"blocking factor\\\":0,\\\"delay factor\\\":3.0},\\\"nameSub\\\":\\\"Introduction to Linear Systems\\\",\\\"id\\\":26647,\\\"credits\\\":2,\\\"nameCanonical\\\":\\\"\\\"},{\\\"curriculum_requisites\\\":[],\\\"name\\\":\\\"CDA 3201L\\\",\\\"metrics\\\":{\\\"complexity\\\":12.0,\\\"centrality\\\":0,\\\"blocking factor\\\":8,\\\"delay factor\\\":4.0},\\\"nameSub\\\":\\\"Computer Logic and Design Lab\\\",\\\"id\\\":23435,\\\"credits\\\":1,\\\"nameCanonical\\\":\\\"\\\"}],\\\"id\\\":5},{\\\"name\\\":\\\"Term 6\\\",\\\"curriculum_items\\\":[{\\\"curriculum_requisites\\\":[{\\\"source_id\\\":23739,\\\"target_id\\\":23996,\\\"type\\\":\\\"CurriculumPrerequisite\\\"},{\\\"source_id\\\":28111,\\\"target_id\\\":23996,\\\"type\\\":\\\"CurriculumPrerequisite\\\"}],\\\"name\\\":\\\"COT 4400\\\",\\\"metrics\\\":{\\\"complexity\\\":8.0,\\\"centrality\\\":0,\\\"blocking factor\\\":0,\\\"delay factor\\\":8.0},\\\"nameSub\\\":\\\"Analysis Of Algorithms\\\",\\\"id\\\":23996,\\\"credits\\\":3,\\\"nameCanonical\\\":\\\"\\\"},{\\\"curriculum_requisites\\\":[{\\\"source_id\\\":23435,\\\"target_id\\\":24494,\\\"type\\\":\\\"CurriculumPrerequisite\\\"},{\\\"source_id\\\":27726,\\\"target_id\\\":24494,\\\"type\\\":\\\"CurriculumPrerequisite\\\"}],\\\"name\\\":\\\"CDA 4205\\\",\\\"metrics\\\":{\\\"complexity\\\":7.0,\\\"centrality\\\":0,\\\"blocking factor\\\":0,\\\"delay factor\\\":7.0},\\\"nameSub\\\":\\\"Computer Architecture\\\",\\\"id\\\":24494,\\\"credits\\\":3,\\\"nameCanonical\\\":\\\"\\\"},{\\\"curriculum_requisites\\\":[{\\\"source_id\\\":24952,\\\"target_id\\\":27967,\\\"type\\\":\\\"CurriculumCorequisite\\\"},{\\\"source_id\\\":26014,\\\"target_id\\\":27967,\\\"type\\\":\\\"CurriculumPrerequisite\\\"},{\\\"source_id\\\":25478,\\\"target_id\\\":27967,\\\"type\\\":\\\"CurriculumPrerequisite\\\"}],\\\"name\\\":\\\"EEE 3394\\\",\\\"metrics\\\":{\\\"complexity\\\":4.0,\\\"centrality\\\":0,\\\"blocking factor\\\":0,\\\"delay factor\\\":4.0},\\\"nameSub\\\":\\\"Electronic Materials\\\",\\\"id\\\":27967,\\\"credits\\\":3,\\\"nameCanonical\\\":\\\"\\\"},{\\\"curriculum_requisites\\\":[{\\\"source_id\\\":25929,\\\"target_id\\\":25981,\\\"type\\\":\\\"CurriculumCorequisite\\\"}],\\\"name\\\":\\\"EGN 3373\\\",\\\"metrics\\\":{\\\"complexity\\\":6.0,\\\"centrality\\\":0,\\\"blocking factor\\\":0,\\\"delay factor\\\":6.0},\\\"nameSub\\\":\\\"Introduction to Electrical Systems I\\\",\\\"id\\\":25981,\\\"credits\\\":3,\\\"nameCanonical\\\":\\\"\\\"},{\\\"curriculum_requisites\\\":[{\\\"source_id\\\":27726,\\\"target_id\\\":6,\\\"type\\\":\\\"CurriculumPrerequisite\\\"}],\\\"name\\\":\\\" \\\",\\\"metrics\\\":{\\\"complexity\\\":7.0,\\\"centrality\\\":0,\\\"blocking factor\\\":0,\\\"delay factor\\\":7.0},\\\"nameSub\\\":\\\"CSE Hardware Elective\\\",\\\"id\\\":6,\\\"credits\\\":3,\\\"nameCanonical\\\":\\\"\\\"}],\\\"id\\\":6},{\\\"name\\\":\\\"Term 7\\\",\\\"curriculum_items\\\":[{\\\"curriculum_requisites\\\":[{\\\"source_id\\\":23435,\\\"target_id\\\":26840,\\\"type\\\":\\\"CurriculumPrerequisite\\\"},{\\\"source_id\\\":27726,\\\"target_id\\\":26840,\\\"type\\\":\\\"CurriculumPrerequisite\\\"}],\\\"name\\\":\\\"CDA 4203\\\",\\\"metrics\\\":{\\\"complexity\\\":9.0,\\\"centrality\\\":48,\\\"blocking factor\\\":1,\\\"delay factor\\\":8.0},\\\"nameSub\\\":\\\"Computer System Design\\\",\\\"id\\\":26840,\\\"credits\\\":3,\\\"nameCanonical\\\":\\\"\\\"},{\\\"curriculum_requisites\\\":[],\\\"name\\\":\\\"EGN 3615\\\",\\\"metrics\\\":{\\\"complexity\\\":1.0,\\\"centrality\\\":0,\\\"blocking factor\\\":0,\\\"delay factor\\\":1.0},\\\"nameSub\\\":\\\"Engineering Economics with Social and Global Implications\\\",\\\"id\\\":24859,\\\"credits\\\":3,\\\"nameCanonical\\\":\\\"\\\"},{\\\"curriculum_requisites\\\":[{\\\"source_id\\\":28111,\\\"target_id\\\":23860,\\\"type\\\":\\\"CurriculumPrerequisite\\\"}],\\\"name\\\":\\\"COP 4600\\\",\\\"metrics\\\":{\\\"complexity\\\":8.0,\\\"centrality\\\":0,\\\"blocking factor\\\":0,\\\"delay factor\\\":8.0},\\\"nameSub\\\":\\\"Operating Systems\\\",\\\"id\\\":23860,\\\"credits\\\":3,\\\"nameCanonical\\\":\\\"\\\"},{\\\"curriculum_requisites\\\":[{\\\"source_id\\\":27726,\\\"target_id\\\":8,\\\"type\\\":\\\"CurriculumPrerequisite\\\"}],\\\"name\\\":\\\" \\\",\\\"metrics\\\":{\\\"complexity\\\":7.0,\\\"centrality\\\":0,\\\"blocking factor\\\":0,\\\"delay factor\\\":7.0},\\\"nameSub\\\":\\\"CSE Hardware Elective\\\",\\\"id\\\":8,\\\"credits\\\":3,\\\"nameCanonical\\\":\\\"\\\"},{\\\"curriculum_requisites\\\":[{\\\"source_id\\\":26840,\\\"target_id\\\":26843,\\\"type\\\":\\\"CurriculumStrictCorequisite\\\"}],\\\"name\\\":\\\"CDA 4203L\\\",\\\"metrics\\\":{\\\"complexity\\\":8.0,\\\"centrality\\\":0,\\\"blocking factor\\\":0,\\\"delay factor\\\":8.0},\\\"nameSub\\\":\\\"Computer System Design Lab\\\",\\\"id\\\":26843,\\\"credits\\\":1,\\\"nameCanonical\\\":\\\"\\\"},{\\\"curriculum_requisites\\\":[],\\\"name\\\":\\\" \\\",\\\"metrics\\\":{\\\"complexity\\\":1.0,\\\"centrality\\\":0,\\\"blocking factor\\\":0,\\\"delay factor\\\":1.0},\\\"nameSub\\\":\\\"Natural Sci Elective\\\",\\\"id\\\":9,\\\"credits\\\":3,\\\"nameCanonical\\\":\\\"\\\"}],\\\"id\\\":7},{\\\"name\\\":\\\"Term 8\\\",\\\"curriculum_items\\\":[{\\\"curriculum_requisites\\\":[{\\\"source_id\\\":23435,\\\"target_id\\\":23590,\\\"type\\\":\\\"CurriculumPrerequisite\\\"},{\\\"source_id\\\":27726,\\\"target_id\\\":23590,\\\"type\\\":\\\"CurriculumPrerequisite\\\"}],\\\"name\\\":\\\"CDA 4213\\\",\\\"metrics\\\":{\\\"complexity\\\":9.0,\\\"centrality\\\":48,\\\"blocking factor\\\":1,\\\"delay factor\\\":8.0},\\\"nameSub\\\":\\\"CMOS-VLSI Design\\\",\\\"id\\\":23590,\\\"credits\\\":3,\\\"nameCanonical\\\":\\\"\\\"},{\\\"curriculum_requisites\\\":[],\\\"name\\\":\\\"ENC 3246\\\",\\\"metrics\\\":{\\\"complexity\\\":1.0,\\\"centrality\\\":0,\\\"blocking factor\\\":0,\\\"delay factor\\\":1.0},\\\"nameSub\\\":\\\"Communication for Engineers\\\",\\\"id\\\":27719,\\\"credits\\\":3,\\\"nameCanonical\\\":\\\"\\\"},{\\\"curriculum_requisites\\\":[{\\\"source_id\\\":24951,\\\"target_id\\\":25983,\\\"type\\\":\\\"CurriculumPrerequisite\\\"}],\\\"name\\\":\\\"EGN 3443\\\",\\\"metrics\\\":{\\\"complexity\\\":3.0,\\\"centrality\\\":0,\\\"blocking factor\\\":0,\\\"delay factor\\\":3.0},\\\"nameSub\\\":\\\"Probability and Statistics for Engineers\\\",\\\"id\\\":25983,\\\"credits\\\":3,\\\"nameCanonical\\\":\\\"\\\"},{\\\"curriculum_requisites\\\":[{\\\"source_id\\\":28111,\\\"target_id\\\":12,\\\"type\\\":\\\"CurriculumPrerequisite\\\"}],\\\"name\\\":\\\" \\\",\\\"metrics\\\":{\\\"complexity\\\":8.0,\\\"centrality\\\":0,\\\"blocking factor\\\":0,\\\"delay factor\\\":8.0},\\\"nameSub\\\":\\\"CSE Elective\\\",\\\"id\\\":12,\\\"credits\\\":3,\\\"nameCanonical\\\":\\\"\\\"},{\\\"curriculum_requisites\\\":[{\\\"source_id\\\":23435,\\\"target_id\\\":28057,\\\"type\\\":\\\"CurriculumPrerequisite\\\"},{\\\"source_id\\\":27726,\\\"target_id\\\":28057,\\\"type\\\":\\\"CurriculumPrerequisite\\\"},{\\\"source_id\\\":23590,\\\"target_id\\\":28057,\\\"type\\\":\\\"CurriculumStrictCorequisite\\\"}],\\\"name\\\":\\\"CDA 4213L\\\",\\\"metrics\\\":{\\\"complexity\\\":8.0,\\\"centrality\\\":0,\\\"blocking factor\\\":0,\\\"delay factor\\\":8.0},\\\"nameSub\\\":\\\"CMOS-VLSI Design Lab\\\",\\\"id\\\":28057,\\\"credits\\\":1,\\\"nameCanonical\\\":\\\"\\\"}],\\\"id\\\":8},{\\\"name\\\":\\\"Term 9\\\",\\\"curriculum_items\\\":[{\\\"curriculum_requisites\\\":[],\\\"name\\\":\\\"CIS 4250\\\",\\\"metrics\\\":{\\\"complexity\\\":1.0,\\\"centrality\\\":0,\\\"blocking factor\\\":0,\\\"delay factor\\\":1.0},\\\"nameSub\\\":\\\"Ethical Issues And Professional Conduct\\\",\\\"id\\\":26844,\\\"credits\\\":3,\\\"nameCanonical\\\":\\\"\\\"},{\\\"curriculum_requisites\\\":[{\\\"source_id\\\":28111,\\\"target_id\\\":15,\\\"type\\\":\\\"CurriculumPrerequisite\\\"}],\\\"name\\\":\\\" \\\",\\\"metrics\\\":{\\\"complexity\\\":8.0,\\\"centrality\\\":0,\\\"blocking factor\\\":0,\\\"delay factor\\\":8.0},\\\"nameSub\\\":\\\"CSE Elective\\\",\\\"id\\\":15,\\\"credits\\\":3,\\\"nameCanonical\\\":\\\"\\\"},{\\\"curriculum_requisites\\\":[{\\\"source_id\\\":28111,\\\"target_id\\\":24532,\\\"type\\\":\\\"CurriculumPrerequisite\\\"}],\\\"name\\\":\\\"CIS 4910\\\",\\\"metrics\\\":{\\\"complexity\\\":8.0,\\\"centrality\\\":0,\\\"blocking factor\\\":0,\\\"delay factor\\\":8.0},\\\"nameSub\\\":\\\"Computer Science and Engineering Project\\\",\\\"id\\\":24532,\\\"credits\\\":3,\\\"nameCanonical\\\":\\\"\\\"},{\\\"curriculum_requisites\\\":[],\\\"name\\\":\\\" \\\",\\\"metrics\\\":{\\\"complexity\\\":1.0,\\\"centrality\\\":0,\\\"blocking factor\\\":0,\\\"delay factor\\\":1.0},\\\"nameSub\\\":\\\"LAB\\\",\\\"id\\\":16,\\\"credits\\\":1,\\\"nameCanonical\\\":\\\"\\\"}],\\\"id\\\":9}],\\\"institution\\\":\\\"USF\\\"}},\\\"*\\\"); window.removeEventListener(\\\"message\\\",window.messageReceived); window.messageReceived=(function (event){return (event.data.curriculum!==undefined) ? (WebIO.setval({\\\"name\\\":\\\"curriculum-data\\\",\\\"scope\\\":\\\"7671973489885029178\\\",\\\"id\\\":\\\"2413678271866327799\\\",\\\"type\\\":\\\"observable\\\"},event.data.curriculum)) : undefined}); return window.addEventListener(\\\"message\\\",window.messageReceived)})\"},\"style\":{\"padding\":\"0\",\"height\":\"100vh\",\"margin\":\"0\",\"border\":\"none\",\"width\":\"100%\"}},\"nodeType\":\"DOM\",\"type\":\"node\",\"instanceArgs\":{\"namespace\":\"html\",\"tag\":\"iframe\"},\"children\":[\"\"]}]},\n",
       "            window,\n",
       "        );\n",
       "    } else {\n",
       "        document\n",
       "            .querySelector('[data-webio-mountpoint=\"8811502436636633809\"]')\n",
       "            .innerHTML = (\n",
       "                '<div style=\"padding: 1em; background-color: #f8d6da; border: 1px solid #f5c6cb\">' +\n",
       "                '<p><strong>WebIO not detected.</strong></p>' +\n",
       "                '<p>Please read ' +\n",
       "                '<a href=\"https://juliagizmos.github.io/WebIO.jl/latest/troubleshooting/not-detected/\" target=\"_blank\">the troubleshooting guide</a> ' +\n",
       "                'for more information on how to resolve this issue.</p>' +\n",
       "                '<p><a href=\"https://juliagizmos.github.io/WebIO.jl/latest/troubleshooting/not-detected/\" target=\"_blank\">https://juliagizmos.github.io/WebIO.jl/latest/troubleshooting/not-detected/</a></p>' +\n",
       "                '</div>'\n",
       "            );\n",
       "    }\n",
       "    </script>\n",
       "</div>\n"
      ],
      "text/plain": [
       "WebIO.Scope(WebIO.Node{WebIO.DOM}(WebIO.DOM(:html, :iframe), Any[\"\"], Dict{Symbol, Any}(:src => \"https://curricula-api-embed.damoursystems.com/\", :id => \"curriculum\", :events => Dict{Symbol, WebIO.JSString}(:load => WebIO.JSString(\"(function (){this.contentWindow.postMessage({\\\"options\\\":{\\\"hideTerms\\\":false,\\\"edit\\\":false},\\\"curriculum\\\":{\\\"name\\\":\\\"BSCP-Computer Engineering\\\",\\\"dp_name\\\":\\\"ECP-CALC+CHM ready\\\",\\\"curriculum_terms\\\":[{\\\"name\\\":\\\"Term 1\\\",\\\"curriculum_items\\\":[{\\\"curriculum_requisites\\\":[],\\\"name\\\":\\\"MAC 2281\\\",\\\"metrics\\\":{\\\"complexity\\\":38.0,\\\"centrality\\\":0,\\\"blocking factor\\\":30,\\\"delay factor\\\":8.0},\\\"nameSub\\\":\\\"Engineering Calculus I\\\",\\\"id\\\":24950,\\\"credits\\\":4,\\\"nameCanonical\\\":\\\"\\\"},{\\\"curriculum_requisites\\\":[],\\\"name\\\":\\\"CHM or CHS 2045 or 2440\\\",\\\"metrics\\\":{\\\"complexity\\\":4.0,\\\"centrality\\\":0,\\\"blocking factor\\\":2,\\\"delay factor\\\":2.0},\\\"nameSub\\\":\\\"General Chemistry I (for Engineers)\\\",\\\"id\\\":25478,\\\"credits\\\":3,\\\"nameCanonical\\\":\\\"\\\"},{\\\"curriculum_requisites\\\":[],\\\"name\\\":\\\"ENC 1101\\\",\\\"metrics\\\":{\\\"complexity\\\":3.0,\\\"centrality\\\":0,\\\"blocking factor\\\":1,\\\"delay factor\\\":2.0},\\\"nameSub\\\":\\\"Composition I\\\",\\\"id\\\":23525,\\\"credits\\\":3,\\\"nameCanonical\\\":\\\"\\\"},{\\\"curriculum_requisites\\\":[{\\\"source_id\\\":25478,\\\"target_id\\\":25479,\\\"type\\\":\\\"CurriculumStrictCorequisite\\\"}],\\\"name\\\":\\\"CHM or CHS 2045L or 2440L\\\",\\\"metrics\\\":{\\\"complexity\\\":2.0,\\\"centrality\\\":0,\\\"blocking factor\\\":0,\\\"delay factor\\\":2.0},\\\"nameSub\\\":\\\"General Chemistry I Laboratory (for Engineers)\\\",\\\"id\\\":25479,\\\"credits\\\":1,\\\"nameCanonical\\\":\\\"\\\"},{\\\"curriculum_requisites\\\":[],\\\"name\\\":\\\"EGN 3000L\\\",\\\"metrics\\\":{\\\"complexity\\\":1.0,\\\"centrality\\\":0,\\\"blocking factor\\\":0,\\\"delay factor\\\":1.0},\\\"nameSub\\\":\\\"Foundations of Engineering Lab\\\",\\\"id\\\":23287,\\\"credits\\\":3,\\\"nameCanonical\\\":\\\"\\\"},{\\\"curriculum_requisites\\\":[],\\\"name\\\":\\\"EGN 3000\\\",\\\"metrics\\\":{\\\"complexity\\\":1.0,\\\"centrality\\\":0,\\\"blocking factor\\\":0,\\\"delay factor\\\":1.0},\\\"nameSub\\\":\\\"Foundations of Engineering\\\",\\\"id\\\":28172,\\\"credits\\\":0,\\\"nameCanonical\\\":\\\"\\\"}],\\\"id\\\":1},{\\\"name\\\":\\\"Term 2\\\",\\\"curriculum_items\\\":[{\\\"curriculum_requisites\\\":[{\\\"source_id\\\":24950,\\\"target_id\\\":24951,\\\"type\\\":\\\"CurriculumPrerequisite\\\"}],\\\"name\\\":\\\"MAC 2282\\\",\\\"metrics\\\":{\\\"complexity\\\":31.0,\\\"centrality\\\":130,\\\"blocking factor\\\":24,\\\"delay factor\\\":7.0},\\\"nameSub\\\":\\\"Engineering Calculus II\\\",\\\"id\\\":24951,\\\"credits\\\":4,\\\"nameCanonical\\\":\\\"\\\"},{\\\"curriculum_requisites\\\":[{\\\"source_id\\\":23525,\\\"target_id\\\":23526,\\\"type\\\":\\\"CurriculumPrerequisite\\\"}],\\\"name\\\":\\\"ENC 1102\\\",\\\"metrics\\\":{\\\"complexity\\\":2.0,\\\"centrality\\\":0,\\\"blocking factor\\\":0,\\\"delay factor\\\":2.0},\\\"nameSub\\\":\\\"Composition II\\\",\\\"id\\\":23526,\\\"credits\\\":3,\\\"nameCanonical\\\":\\\"\\\"},{\\\"curriculum_requisites\\\":[{\\\"source_id\\\":24950,\\\"target_id\\\":26014,\\\"type\\\":\\\"CurriculumPrerequisite\\\"}],\\\"name\\\":\\\"PHY 2048\\\",\\\"metrics\\\":{\\\"complexity\\\":30.0,\\\"centrality\\\":252,\\\"blocking factor\\\":22,\\\"delay factor\\\":8.0},\\\"nameSub\\\":\\\"General Physics I - Calculus Based\\\",\\\"id\\\":26014,\\\"credits\\\":3,\\\"nameCanonical\\\":\\\"\\\"},{\\\"curriculum_requisites\\\":[{\\\"source_id\\\":24950,\\\"target_id\\\":23738,\\\"type\\\":\\\"CurriculumPrerequisite\\\"}],\\\"name\\\":\\\"COP 2510\\\",\\\"metrics\\\":{\\\"complexity\\\":23.0,\\\"centrality\\\":149,\\\"blocking factor\\\":17,\\\"delay factor\\\":6.0},\\\"nameSub\\\":\\\"Programming Concepts\\\",\\\"id\\\":23738,\\\"credits\\\":3,\\\"nameCanonical\\\":\\\"\\\"},{\\\"curriculum_requisites\\\":[{\\\"source_id\\\":24950,\\\"target_id\\\":26015,\\\"type\\\":\\\"CurriculumPrerequisite\\\"},{\\\"source_id\\\":26014,\\\"target_id\\\":26015,\\\"type\\\":\\\"CurriculumStrictCorequisite\\\"}],\\\"name\\\":\\\"PHY 2048L\\\",\\\"metrics\\\":{\\\"complexity\\\":28.0,\\\"centrality\\\":249,\\\"blocking factor\\\":20,\\\"delay factor\\\":8.0},\\\"nameSub\\\":\\\"General Physics I Laboratory\\\",\\\"id\\\":26015,\\\"credits\\\":1,\\\"nameCanonical\\\":\\\"\\\"}],\\\"id\\\":2},{\\\"name\\\":\\\"Term 3\\\",\\\"curriculum_items\\\":[{\\\"curriculum_requisites\\\":[{\\\"source_id\\\":24951,\\\"target_id\\\":24952,\\\"type\\\":\\\"CurriculumPrerequisite\\\"}],\\\"name\\\":\\\"MAC 2283\\\",\\\"metrics\\\":{\\\"complexity\\\":8.0,\\\"centrality\\\":9,\\\"blocking factor\\\":3,\\\"delay factor\\\":5.0},\\\"nameSub\\\":\\\"Engineering Calculus III\\\",\\\"id\\\":24952,\\\"credits\\\":4,\\\"nameCanonical\\\":\\\"\\\"},{\\\"curriculum_requisites\\\":[{\\\"source_id\\\":24951,\\\"target_id\\\":26016,\\\"type\\\":\\\"CurriculumPrerequisite\\\"},{\\\"source_id\\\":26014,\\\"target_id\\\":26016,\\\"type\\\":\\\"CurriculumPrerequisite\\\"},{\\\"source_id\\\":26015,\\\"target_id\\\":26016,\\\"type\\\":\\\"CurriculumPrerequisite\\\"}],\\\"name\\\":\\\"PHY 2049\\\",\\\"metrics\\\":{\\\"complexity\\\":27.0,\\\"centrality\\\":466,\\\"blocking factor\\\":19,\\\"delay factor\\\":8.0},\\\"nameSub\\\":\\\"General Physics II - Calculus Based\\\",\\\"id\\\":26016,\\\"credits\\\":3,\\\"nameCanonical\\\":\\\"\\\"},{\\\"curriculum_requisites\\\":[{\\\"source_id\\\":23738,\\\"target_id\\\":26655,\\\"type\\\":\\\"CurriculumPrerequisite\\\"}],\\\"name\\\":\\\"COP 3514\\\",\\\"metrics\\\":{\\\"complexity\\\":21.0,\\\"centrality\\\":62,\\\"blocking factor\\\":15,\\\"delay factor\\\":6.0},\\\"nameSub\\\":\\\"Program Design\\\",\\\"id\\\":26655,\\\"credits\\\":3,\\\"nameCanonical\\\":\\\"\\\"},{\\\"curriculum_requisites\\\":[{\\\"source_id\\\":24951,\\\"target_id\\\":26017,\\\"type\\\":\\\"CurriculumPrerequisite\\\"},{\\\"source_id\\\":26014,\\\"target_id\\\":26017,\\\"type\\\":\\\"CurriculumPrerequisite\\\"},{\\\"source_id\\\":26016,\\\"target_id\\\":26017,\\\"type\\\":\\\"CurriculumStrictCorequisite\\\"},{\\\"source_id\\\":26015,\\\"target_id\\\":26017,\\\"type\\\":\\\"CurriculumPrerequisite\\\"}],\\\"name\\\":\\\"PHY 2049L\\\",\\\"metrics\\\":{\\\"complexity\\\":5.0,\\\"centrality\\\":0,\\\"blocking factor\\\":0,\\\"delay factor\\\":5.0},\\\"nameSub\\\":\\\"General Physics II Laboratory\\\",\\\"id\\\":26017,\\\"credits\\\":1,\\\"nameCanonical\\\":\\\"\\\"},{\\\"curriculum_requisites\\\":[],\\\"name\\\":\\\"SGES \\\",\\\"metrics\\\":{\\\"complexity\\\":1.0,\\\"centrality\\\":0,\\\"blocking factor\\\":0,\\\"delay factor\\\":1.0},\\\"nameSub\\\":\\\"State Social Science Gen Ed\\\",\\\"id\\\":4,\\\"credits\\\":3,\\\"nameCanonical\\\":\\\"\\\"}],\\\"id\\\":3},{\\\"name\\\":\\\"Term 4\\\",\\\"curriculum_items\\\":[{\\\"curriculum_requisites\\\":[{\\\"source_id\\\":23738,\\\"target_id\\\":24493,\\\"type\\\":\\\"CurriculumPrerequisite\\\"},{\\\"source_id\\\":26016,\\\"target_id\\\":24493,\\\"type\\\":\\\"CurriculumPrerequisite\\\"}],\\\"name\\\":\\\"CDA 3103\\\",\\\"metrics\\\":{\\\"complexity\\\":23.0,\\\"centrality\\\":515,\\\"blocking factor\\\":15,\\\"delay factor\\\":8.0},\\\"nameSub\\\":\\\"Computer Organization\\\",\\\"id\\\":24493,\\\"credits\\\":3,\\\"nameCanonical\\\":\\\"\\\"},{\\\"curriculum_requisites\\\":[],\\\"name\\\":\\\"SGEH \\\",\\\"metrics\\\":{\\\"complexity\\\":1.0,\\\"centrality\\\":0,\\\"blocking factor\\\":0,\\\"delay factor\\\":1.0},\\\"nameSub\\\":\\\"State Humanities Gen Ed\\\",\\\"id\\\":5,\\\"credits\\\":3,\\\"nameCanonical\\\":\\\"\\\"},{\\\"curriculum_requisites\\\":[{\\\"source_id\\\":24950,\\\"target_id\\\":23739,\\\"type\\\":\\\"CurriculumPrerequisite\\\"}],\\\"name\\\":\\\"COT 3100\\\",\\\"metrics\\\":{\\\"complexity\\\":10.0,\\\"centrality\\\":23,\\\"blocking factor\\\":6,\\\"delay factor\\\":4.0},\\\"nameSub\\\":\\\"Introduction to Discrete Structures\\\",\\\"id\\\":23739,\\\"credits\\\":3,\\\"nameCanonical\\\":\\\"\\\"},{\\\"curriculum_requisites\\\":[{\\\"source_id\\\":24952,\\\"target_id\\\":25929,\\\"type\\\":\\\"CurriculumPrerequisite\\\"},{\\\"source_id\\\":26016,\\\"target_id\\\":25929,\\\"type\\\":\\\"CurriculumPrerequisite\\\"}],\\\"name\\\":\\\"EGN or MAP 3433 or 2302\\\",\\\"metrics\\\":{\\\"complexity\\\":7.0,\\\"centrality\\\":26,\\\"blocking factor\\\":1,\\\"delay factor\\\":6.0},\\\"nameSub\\\":\\\"Modeling and Analysis of Engineering Systems or Diff Eq\\\",\\\"id\\\":25929,\\\"credits\\\":3,\\\"nameCanonical\\\":\\\"\\\"},{\\\"curriculum_requisites\\\":[{\\\"source_id\\\":26655,\\\"target_id\\\":24641,\\\"type\\\":\\\"CurriculumPrerequisite\\\"},{\\\"source_id\\\":24493,\\\"target_id\\\":24641,\\\"type\\\":\\\"CurriculumCorequisite\\\"}],\\\"name\\\":\\\"COP 3331\\\",\\\"metrics\\\":{\\\"complexity\\\":14.0,\\\"centrality\\\":205,\\\"blocking factor\\\":6,\\\"delay factor\\\":8.0},\\\"nameSub\\\":\\\"Object Oriented Software Design\\\",\\\"id\\\":24641,\\\"credits\\\":3,\\\"nameCanonical\\\":\\\"\\\"}],\\\"id\\\":4},{\\\"name\\\":\\\"Term 5\\\",\\\"curriculum_items\\\":[{\\\"curriculum_requisites\\\":[{\\\"source_id\\\":24493,\\\"target_id\\\":27726,\\\"type\\\":\\\"CurriculumPrerequisite\\\"},{\\\"source_id\\\":26655,\\\"target_id\\\":27726,\\\"type\\\":\\\"CurriculumPrerequisite\\\"},{\\\"source_id\\\":23435,\\\"target_id\\\":27726,\\\"type\\\":\\\"CurriculumStrictCorequisite\\\"}],\\\"name\\\":\\\"CDA 3201\\\",\\\"metrics\\\":{\\\"complexity\\\":15.0,\\\"centrality\\\":242,\\\"blocking factor\\\":7,\\\"delay factor\\\":8.0},\\\"nameSub\\\":\\\"Computer Logic and Design\\\",\\\"id\\\":27726,\\\"credits\\\":3,\\\"nameCanonical\\\":\\\"\\\"},{\\\"curriculum_requisites\\\":[{\\\"source_id\\\":23739,\\\"target_id\\\":28111,\\\"type\\\":\\\"CurriculumPrerequisite\\\"},{\\\"source_id\\\":24493,\\\"target_id\\\":28111,\\\"type\\\":\\\"CurriculumPrerequisite\\\"},{\\\"source_id\\\":24641,\\\"target_id\\\":28111,\\\"type\\\":\\\"CurriculumPrerequisite\\\"}],\\\"name\\\":\\\"COP 4530\\\",\\\"metrics\\\":{\\\"complexity\\\":13.0,\\\"centrality\\\":375,\\\"blocking factor\\\":5,\\\"delay factor\\\":8.0},\\\"nameSub\\\":\\\"Data Structures\\\",\\\"id\\\":28111,\\\"credits\\\":3,\\\"nameCanonical\\\":\\\"\\\"},{\\\"curriculum_requisites\\\":[{\\\"source_id\\\":24951,\\\"target_id\\\":26647,\\\"type\\\":\\\"CurriculumPrerequisite\\\"}],\\\"name\\\":\\\"EGN 4450\\\",\\\"metrics\\\":{\\\"complexity\\\":3.0,\\\"centrality\\\":0,\\\"blocking factor\\\":0,\\\"delay factor\\\":3.0},\\\"nameSub\\\":\\\"Introduction to Linear Systems\\\",\\\"id\\\":26647,\\\"credits\\\":2,\\\"nameCanonical\\\":\\\"\\\"},{\\\"curriculum_requisites\\\":[],\\\"name\\\":\\\"CDA 3201L\\\",\\\"metrics\\\":{\\\"complexity\\\":12.0,\\\"centrality\\\":0,\\\"blocking factor\\\":8,\\\"delay factor\\\":4.0},\\\"nameSub\\\":\\\"Computer Logic and Design Lab\\\",\\\"id\\\":23435,\\\"credits\\\":1,\\\"nameCanonical\\\":\\\"\\\"}],\\\"id\\\":5},{\\\"name\\\":\\\"Term 6\\\",\\\"curriculum_items\\\":[{\\\"curriculum_requisites\\\":[{\\\"source_id\\\":23739,\\\"target_id\\\":23996,\\\"type\\\":\\\"CurriculumPrerequisite\\\"},{\\\"source_id\\\":28111,\\\"target_id\\\":23996,\\\"type\\\":\\\"CurriculumPrerequisite\\\"}],\\\"name\\\":\\\"COT 4400\\\",\\\"metrics\\\":{\\\"complexity\\\":8.0,\\\"centrality\\\":0,\\\"blocking factor\\\":0,\\\"delay factor\\\":8.0},\\\"nameSub\\\":\\\"Analysis Of Algorithms\\\",\\\"id\\\":23996,\\\"credits\\\":3,\\\"nameCanonical\\\":\\\"\\\"},{\\\"curriculum_requisites\\\":[{\\\"source_id\\\":23435,\\\"target_id\\\":24494,\\\"type\\\":\\\"CurriculumPrerequisite\\\"},{\\\"source_id\\\":27726,\\\"target_id\\\":24494,\\\"type\\\":\\\"CurriculumPrerequisite\\\"}],\\\"name\\\":\\\"CDA 4205\\\",\\\"metrics\\\":{\\\"complexity\\\":7.0,\\\"centrality\\\":0,\\\"blocking factor\\\":0,\\\"delay factor\\\":7.0},\\\"nameSub\\\":\\\"Computer Architecture\\\",\\\"id\\\":24494,\\\"credits\\\":3,\\\"nameCanonical\\\":\\\"\\\"},{\\\"curriculum_requisites\\\":[{\\\"source_id\\\":24952,\\\"target_id\\\":27967,\\\"type\\\":\\\"CurriculumCorequisite\\\"},{\\\"source_id\\\":26014,\\\"target_id\\\":27967,\\\"type\\\":\\\"CurriculumPrerequisite\\\"},{\\\"source_id\\\":25478,\\\"target_id\\\":27967,\\\"type\\\":\\\"CurriculumPrerequisite\\\"}],\\\"name\\\":\\\"EEE 3394\\\",\\\"metrics\\\":{\\\"complexity\\\":4.0,\\\"centrality\\\":0,\\\"blocking factor\\\":0,\\\"delay factor\\\":4.0},\\\"nameSub\\\":\\\"Electronic Materials\\\",\\\"id\\\":27967,\\\"credits\\\":3,\\\"nameCanonical\\\":\\\"\\\"},{\\\"curriculum_requisites\\\":[{\\\"source_id\\\":25929,\\\"target_id\\\":25981,\\\"type\\\":\\\"CurriculumCorequisite\\\"}],\\\"name\\\":\\\"EGN 3373\\\",\\\"metrics\\\":{\\\"complexity\\\":6.0,\\\"centrality\\\":0,\\\"blocking factor\\\":0,\\\"delay factor\\\":6.0},\\\"nameSub\\\":\\\"Introduction to Electrical Systems I\\\",\\\"id\\\":25981,\\\"credits\\\":3,\\\"nameCanonical\\\":\\\"\\\"},{\\\"curriculum_requisites\\\":[{\\\"source_id\\\":27726,\\\"target_id\\\":6,\\\"type\\\":\\\"CurriculumPrerequisite\\\"}],\\\"name\\\":\\\" \\\",\\\"metrics\\\":{\\\"complexity\\\":7.0,\\\"centrality\\\":0,\\\"blocking factor\\\":0,\\\"delay factor\\\":7.0},\\\"nameSub\\\":\\\"CSE Hardware Elective\\\",\\\"id\\\":6,\\\"credits\\\":3,\\\"nameCanonical\\\":\\\"\\\"}],\\\"id\\\":6},{\\\"name\\\":\\\"Term 7\\\",\\\"curriculum_items\\\":[{\\\"curriculum_requisites\\\":[{\\\"source_id\\\":23435,\\\"target_id\\\":26840,\\\"type\\\":\\\"CurriculumPrerequisite\\\"},{\\\"source_id\\\":27726,\\\"target_id\\\":26840,\\\"type\\\":\\\"CurriculumPrerequisite\\\"}],\\\"name\\\":\\\"CDA 4203\\\",\\\"metrics\\\":{\\\"complexity\\\":9.0,\\\"centrality\\\":48,\\\"blocking factor\\\":1,\\\"delay factor\\\":8.0},\\\"nameSub\\\":\\\"Computer System Design\\\",\\\"id\\\":26840,\\\"credits\\\":3,\\\"nameCanonical\\\":\\\"\\\"},{\\\"curriculum_requisites\\\":[],\\\"name\\\":\\\"EGN 3615\\\",\\\"metrics\\\":{\\\"complexity\\\":1.0,\\\"centrality\\\":0,\\\"blocking factor\\\":0,\\\"delay factor\\\":1.0},\\\"nameSub\\\":\\\"Engineering Economics with Social and Global Implications\\\",\\\"id\\\":24859,\\\"credits\\\":3,\\\"nameCanonical\\\":\\\"\\\"},{\\\"curriculum_requisites\\\":[{\\\"source_id\\\":28111,\\\"target_id\\\":23860,\\\"type\\\":\\\"CurriculumPrerequisite\\\"}],\\\"name\\\":\\\"COP 4600\\\",\\\"metrics\\\":{\\\"complexity\\\":8.0,\\\"centrality\\\":0,\\\"blocking factor\\\":0,\\\"delay factor\\\":8.0},\\\"nameSub\\\":\\\"Operating Systems\\\",\\\"id\\\":23860,\\\"credits\\\":3,\\\"nameCanonical\\\":\\\"\\\"},{\\\"curriculum_requisites\\\":[{\\\"source_id\\\":27726,\\\"target_id\\\":8,\\\"type\\\":\\\"CurriculumPrerequisite\\\"}],\\\"name\\\":\\\" \\\",\\\"metrics\\\":{\\\"complexity\\\":7.0,\\\"centrality\\\":0,\\\"blocking factor\\\":0,\\\"delay factor\\\":7.0},\\\"nameSub\\\":\\\"CSE Hardware Elective\\\",\\\"id\\\":8,\\\"credits\\\":3,\\\"nameCanonical\\\":\\\"\\\"},{\\\"curriculum_requisites\\\":[{\\\"source_id\\\":26840,\\\"target_id\\\":26843,\\\"type\\\":\\\"CurriculumStrictCorequisite\\\"}],\\\"name\\\":\\\"CDA 4203L\\\",\\\"metrics\\\":{\\\"complexity\\\":8.0,\\\"centrality\\\":0,\\\"blocking factor\\\":0,\\\"delay factor\\\":8.0},\\\"nameSub\\\":\\\"Computer System Design Lab\\\",\\\"id\\\":26843,\\\"credits\\\":1,\\\"nameCanonical\\\":\\\"\\\"},{\\\"curriculum_requisites\\\":[],\\\"name\\\":\\\" \\\",\\\"metrics\\\":{\\\"complexity\\\":1.0,\\\"centrality\\\":0,\\\"blocking factor\\\":0,\\\"delay factor\\\":1.0},\\\"nameSub\\\":\\\"Natural Sci Elective\\\",\\\"id\\\":9,\\\"credits\\\":3,\\\"nameCanonical\\\":\\\"\\\"}],\\\"id\\\":7},{\\\"name\\\":\\\"Term 8\\\",\\\"curriculum_items\\\":[{\\\"curriculum_requisites\\\":[{\\\"source_id\\\":23435,\\\"target_id\\\":23590,\\\"type\\\":\\\"CurriculumPrerequisite\\\"},{\\\"source_id\\\":27726,\\\"target_id\\\":23590,\\\"type\\\":\\\"CurriculumPrerequisite\\\"}],\\\"name\\\":\\\"CDA 4213\\\",\\\"metrics\\\":{\\\"complexity\\\":9.0,\\\"centrality\\\":48,\\\"blocking factor\\\":1,\\\"delay factor\\\":8.0},\\\"nameSub\\\":\\\"CMOS-VLSI Design\\\",\\\"id\\\":23590,\\\"credits\\\":3,\\\"nameCanonical\\\":\\\"\\\"},{\\\"curriculum_requisites\\\":[],\\\"name\\\":\\\"ENC 3246\\\",\\\"metrics\\\":{\\\"complexity\\\":1.0,\\\"centrality\\\":0,\\\"blocking factor\\\":0,\\\"delay factor\\\":1.0},\\\"nameSub\\\":\\\"Communication for Engineers\\\",\\\"id\\\":27719,\\\"credits\\\":3,\\\"nameCanonical\\\":\\\"\\\"},{\\\"curriculum_requisites\\\":[{\\\"source_id\\\":24951,\\\"target_id\\\":25983,\\\"type\\\":\\\"CurriculumPrerequisite\\\"}],\\\"name\\\":\\\"EGN 3443\\\",\\\"metrics\\\":{\\\"complexity\\\":3.0,\\\"centrality\\\":0,\\\"blocking factor\\\":0,\\\"delay factor\\\":3.0},\\\"nameSub\\\":\\\"Probability and Statistics for Engineers\\\",\\\"id\\\":25983,\\\"credits\\\":3,\\\"nameCanonical\\\":\\\"\\\"},{\\\"curriculum_requisites\\\":[{\\\"source_id\\\":28111,\\\"target_id\\\":12,\\\"type\\\":\\\"CurriculumPrerequisite\\\"}],\\\"name\\\":\\\" \\\",\\\"metrics\\\":{\\\"complexity\\\":8.0,\\\"centrality\\\":0,\\\"blocking factor\\\":0,\\\"delay factor\\\":8.0},\\\"nameSub\\\":\\\"CSE Elective\\\",\\\"id\\\":12,\\\"credits\\\":3,\\\"nameCanonical\\\":\\\"\\\"},{\\\"curriculum_requisites\\\":[{\\\"source_id\\\":23435,\\\"target_id\\\":28057,\\\"type\\\":\\\"CurriculumPrerequisite\\\"},{\\\"source_id\\\":27726,\\\"target_id\\\":28057,\\\"type\\\":\\\"CurriculumPrerequisite\\\"},{\\\"source_id\\\":23590,\\\"target_id\\\":28057,\\\"type\\\":\\\"CurriculumStrictCorequisite\\\"}],\\\"name\\\":\\\"CDA 4213L\\\",\\\"metrics\\\":{\\\"complexity\\\":8.0,\\\"centrality\\\":0,\\\"blocking factor\\\":0,\\\"delay factor\\\":8.0},\\\"nameSub\\\":\\\"CMOS-VLSI Design Lab\\\",\\\"id\\\":28057,\\\"credits\\\":1,\\\"nameCanonical\\\":\\\"\\\"}],\\\"id\\\":8},{\\\"name\\\":\\\"Term 9\\\",\\\"curriculum_items\\\":[{\\\"curriculum_requisites\\\":[],\\\"name\\\":\\\"CIS 4250\\\",\\\"metrics\\\":{\\\"complexity\\\":1.0,\\\"centrality\\\":0,\\\"blocking factor\\\":0,\\\"delay factor\\\":1.0},\\\"nameSub\\\":\\\"Ethical Issues And Professional Conduct\\\",\\\"id\\\":26844,\\\"credits\\\":3,\\\"nameCanonical\\\":\\\"\\\"},{\\\"curriculum_requisites\\\":[{\\\"source_id\\\":28111,\\\"target_id\\\":15,\\\"type\\\":\\\"CurriculumPrerequisite\\\"}],\\\"name\\\":\\\" \\\",\\\"metrics\\\":{\\\"complexity\\\":8.0,\\\"centrality\\\":0,\\\"blocking factor\\\":0,\\\"delay factor\\\":8.0},\\\"nameSub\\\":\\\"CSE Elective\\\",\\\"id\\\":15,\\\"credits\\\":3,\\\"nameCanonical\\\":\\\"\\\"},{\\\"curriculum_requisites\\\":[{\\\"source_id\\\":28111,\\\"target_id\\\":24532,\\\"type\\\":\\\"CurriculumPrerequisite\\\"}],\\\"name\\\":\\\"CIS 4910\\\",\\\"metrics\\\":{\\\"complexity\\\":8.0,\\\"centrality\\\":0,\\\"blocking factor\\\":0,\\\"delay factor\\\":8.0},\\\"nameSub\\\":\\\"Computer Science and Engineering Project\\\",\\\"id\\\":24532,\\\"credits\\\":3,\\\"nameCanonical\\\":\\\"\\\"},{\\\"curriculum_requisites\\\":[],\\\"name\\\":\\\" \\\",\\\"metrics\\\":{\\\"complexity\\\":1.0,\\\"centrality\\\":0,\\\"blocking factor\\\":0,\\\"delay factor\\\":1.0},\\\"nameSub\\\":\\\"LAB\\\",\\\"id\\\":16,\\\"credits\\\":1,\\\"nameCanonical\\\":\\\"\\\"}],\\\"id\\\":9}],\\\"institution\\\":\\\"USF\\\"}},\\\"*\\\"); window.removeEventListener(\\\"message\\\",window.messageReceived); window.messageReceived=(function (event){return (event.data.curriculum!==undefined) ? (WebIO.setval({\\\"name\\\":\\\"curriculum-data\\\",\\\"scope\\\":\\\"7671973489885029178\\\",\\\"id\\\":\\\"2413678271866327799\\\",\\\"type\\\":\\\"observable\\\"},event.data.curriculum)) : undefined}); return window.addEventListener(\\\"message\\\",window.messageReceived)})\")), :style => Dict(:padding => \"0\", :height => \"100vh\", :margin => \"0\", :border => \"none\", :width => \"100%\"))), Dict{String, Tuple{Observables.AbstractObservable, Union{Nothing, Bool}}}(\"curriculum-data\" => (Observable{Dict{String, Any}} with 1 listeners. Value:\n",
       "Dict{String, Any}(\"options\" => Dict{String, Any}(\"hideTerms\" => false, \"edit\" => false), \"curriculum\" => Dict{String, Any}(\"name\" => \"BSCP-Computer Engineering\", \"dp_name\" => \"ECP-CALC+CHM ready\", \"curriculum_terms\" => Dict{String, Any}[Dict(\"name\" => \"Term 1\", \"curriculum_items\" => Dict{String, Any}[Dict(\"curriculum_requisites\" => Dict{String, Any}[], \"name\" => \"MAC 2281\", \"metrics\" => Dict{String, Any}(\"complexity\" => 38.0, \"centrality\" => 0, \"blocking factor\" => 30, \"delay factor\" => 8.0), \"nameSub\" => \"Engineering Calculus I\", \"id\" => 24950, \"credits\" => 4, \"nameCanonical\" => \"\"), Dict(\"curriculum_requisites\" => Dict{String, Any}[], \"name\" => \"CHM or CHS 2045 or 2440\", \"metrics\" => Dict{String, Any}(\"complexity\" => 4.0, \"centrality\" => 0, \"blocking factor\" => 2, \"delay factor\" => 2.0), \"nameSub\" => \"General Chemistry I (for Engineers)\", \"id\" => 25478, \"credits\" => 3, \"nameCanonical\" => \"\"), Dict(\"curriculum_requisites\" => Dict{String, Any}[], \"name\" => \"ENC 1101\", \"metrics\" => Dict{String, Any}(\"complexity\" => 3.0, \"centrality\" => 0, \"blocking factor\" => 1, \"delay factor\" => 2.0), \"nameSub\" => \"Composition I\", \"id\" => 23525, \"credits\" => 3, \"nameCanonical\" => \"\"), Dict(\"curriculum_requisites\" => Dict{String, Any}[Dict(\"source_id\" => 25478, \"target_id\" => 25479, \"type\" => \"CurriculumStrictCorequisite\")], \"name\" => \"CHM or CHS 2045L or 2440L\", \"metrics\" => Dict{String, Any}(\"complexity\" => 2.0, \"centrality\" => 0, \"blocking factor\" => 0, \"delay factor\" => 2.0), \"nameSub\" => \"General Chemistry I Laboratory (for Engineers)\", \"id\" => 25479, \"credits\" => 1, \"nameCanonical\" => \"\"), Dict(\"curriculum_requisites\" => Dict{String, Any}[], \"name\" => \"EGN 3000L\", \"metrics\" => Dict{String, Any}(\"complexity\" => 1.0, \"centrality\" => 0, \"blocking factor\" => 0, \"delay factor\" => 1.0), \"nameSub\" => \"Foundations of Engineering Lab\", \"id\" => 23287, \"credits\" => 3, \"nameCanonical\" => \"\"), Dict(\"curriculum_requisites\" => Dict{String, Any}[], \"name\" => \"EGN 3000\", \"metrics\" => Dict{String, Any}(\"complexity\" => 1.0, \"centrality\" => 0, \"blocking factor\" => 0, \"delay factor\" => 1.0), \"nameSub\" => \"Foundations of Engineering\", \"id\" => 28172, \"credits\" => 0, \"nameCanonical\" => \"\")], \"id\" => 1), Dict(\"name\" => \"Term 2\", \"curriculum_items\" => Dict{String, Any}[Dict(\"curriculum_requisites\" => Dict{String, Any}[Dict(\"source_id\" => 24950, \"target_id\" => 24951, \"type\" => \"CurriculumPrerequisite\")], \"name\" => \"MAC 2282\", \"metrics\" => Dict{String, Any}(\"complexity\" => 31.0, \"centrality\" => 130, \"blocking factor\" => 24, \"delay factor\" => 7.0), \"nameSub\" => \"Engineering Calculus II\", \"id\" => 24951, \"credits\" => 4, \"nameCanonical\" => \"\"), Dict(\"curriculum_requisites\" => Dict{String, Any}[Dict(\"source_id\" => 23525, \"target_id\" => 23526, \"type\" => \"CurriculumPrerequisite\")], \"name\" => \"ENC 1102\", \"metrics\" => Dict{String, Any}(\"complexity\" => 2.0, \"centrality\" => 0, \"blocking factor\" => 0, \"delay factor\" => 2.0), \"nameSub\" => \"Composition II\", \"id\" => 23526, \"credits\" => 3, \"nameCanonical\" => \"\"), Dict(\"curriculum_requisites\" => Dict{String, Any}[Dict(\"source_id\" => 24950, \"target_id\" => 26014, \"type\" => \"CurriculumPrerequisite\")], \"name\" => \"PHY 2048\", \"metrics\" => Dict{String, Any}(\"complexity\" => 30.0, \"centrality\" => 252, \"blocking factor\" => 22, \"delay factor\" => 8.0), \"nameSub\" => \"General Physics I - Calculus Based\", \"id\" => 26014, \"credits\" => 3, \"nameCanonical\" => \"\"), Dict(\"curriculum_requisites\" => Dict{String, Any}[Dict(\"source_id\" => 24950, \"target_id\" => 23738, \"type\" => \"CurriculumPrerequisite\")], \"name\" => \"COP 2510\", \"metrics\" => Dict{String, Any}(\"complexity\" => 23.0, \"centrality\" => 149, \"blocking factor\" => 17, \"delay factor\" => 6.0), \"nameSub\" => \"Programming Concepts\", \"id\" => 23738, \"credits\" => 3, \"nameCanonical\" => \"\"), Dict(\"curriculum_requisites\" => Dict{String, Any}[Dict(\"source_id\" => 24950, \"target_id\" => 26015, \"type\" => \"CurriculumPrerequisite\"), Dict(\"source_id\" => 26014, \"target_id\" => 26015, \"type\" => \"CurriculumStrictCorequisite\")], \"name\" => \"PHY 2048L\", \"metrics\" => Dict{String, Any}(\"complexity\" => 28.0, \"centrality\" => 249, \"blocking factor\" => 20, \"delay factor\" => 8.0), \"nameSub\" => \"General Physics I Laboratory\", \"id\" => 26015, \"credits\" => 1, \"nameCanonical\" => \"\")], \"id\" => 2), Dict(\"name\" => \"Term 3\", \"curriculum_items\" => Dict{String, Any}[Dict(\"curriculum_requisites\" => Dict{String, Any}[Dict(\"source_id\" => 24951, \"target_id\" => 24952, \"type\" => \"CurriculumPrerequisite\")], \"name\" => \"MAC 2283\", \"metrics\" => Dict{String, Any}(\"complexity\" => 8.0, \"centrality\" => 9, \"blocking factor\" => 3, \"delay factor\" => 5.0), \"nameSub\" => \"Engineering Calculus III\", \"id\" => 24952, \"credits\" => 4, \"nameCanonical\" => \"\"), Dict(\"curriculum_requisites\" => Dict{String, Any}[Dict(\"source_id\" => 24951, \"target_id\" => 26016, \"type\" => \"CurriculumPrerequisite\"), Dict(\"source_id\" => 26014, \"target_id\" => 26016, \"type\" => \"CurriculumPrerequisite\"), Dict(\"source_id\" => 26015, \"target_id\" => 26016, \"type\" => \"CurriculumPrerequisite\")], \"name\" => \"PHY 2049\", \"metrics\" => Dict{String, Any}(\"complexity\" => 27.0, \"centrality\" => 466, \"blocking factor\" => 19, \"delay factor\" => 8.0), \"nameSub\" => \"General Physics II - Calculus Based\", \"id\" => 26016, \"credits\" => 3, \"nameCanonical\" => \"\"), Dict(\"curriculum_requisites\" => Dict{String, Any}[Dict(\"source_id\" => 23738, \"target_id\" => 26655, \"type\" => \"CurriculumPrerequisite\")], \"name\" => \"COP 3514\", \"metrics\" => Dict{String, Any}(\"complexity\" => 21.0, \"centrality\" => 62, \"blocking factor\" => 15, \"delay factor\" => 6.0), \"nameSub\" => \"Program Design\", \"id\" => 26655, \"credits\" => 3, \"nameCanonical\" => \"\"), Dict(\"curriculum_requisites\" => Dict{String, Any}[Dict(\"source_id\" => 24951, \"target_id\" => 26017, \"type\" => \"CurriculumPrerequisite\"), Dict(\"source_id\" => 26014, \"target_id\" => 26017, \"type\" => \"CurriculumPrerequisite\"), Dict(\"source_id\" => 26016, \"target_id\" => 26017, \"type\" => \"CurriculumStrictCorequisite\"), Dict(\"source_id\" => 26015, \"target_id\" => 26017, \"type\" => \"CurriculumPrerequisite\")], \"name\" => \"PHY 2049L\", \"metrics\" => Dict{String, Any}(\"complexity\" => 5.0, \"centrality\" => 0, \"blocking factor\" => 0, \"delay factor\" => 5.0), \"nameSub\" => \"General Physics II Laboratory\", \"id\" => 26017, \"credits\" => 1, \"nameCanonical\" => \"\"), Dict(\"curriculum_requisites\" => Dict{String, Any}[], \"name\" => \"SGES \", \"metrics\" => Dict{String, Any}(\"complexity\" => 1.0, \"centrality\" => 0, \"blocking factor\" => 0, \"delay factor\" => 1.0), \"nameSub\" => \"State Social Science Gen Ed\", \"id\" => 4, \"credits\" => 3, \"nameCanonical\" => \"\")], \"id\" => 3), Dict(\"name\" => \"Term 4\", \"curriculum_items\" => Dict{String, Any}[Dict(\"curriculum_requisites\" => Dict{String, Any}[Dict(\"source_id\" => 23738, \"target_id\" => 24493, \"type\" => \"CurriculumPrerequisite\"), Dict(\"source_id\" => 26016, \"target_id\" => 24493, \"type\" => \"CurriculumPrerequisite\")], \"name\" => \"CDA 3103\", \"metrics\" => Dict{String, Any}(\"complexity\" => 23.0, \"centrality\" => 515, \"blocking factor\" => 15, \"delay factor\" => 8.0), \"nameSub\" => \"Computer Organization\", \"id\" => 24493, \"credits\" => 3, \"nameCanonical\" => \"\"), Dict(\"curriculum_requisites\" => Dict{String, Any}[], \"name\" => \"SGEH \", \"metrics\" => Dict{String, Any}(\"complexity\" => 1.0, \"centrality\" => 0, \"blocking factor\" => 0, \"delay factor\" => 1.0), \"nameSub\" => \"State Humanities Gen Ed\", \"id\" => 5, \"credits\" => 3, \"nameCanonical\" => \"\"), Dict(\"curriculum_requisites\" => Dict{String, Any}[Dict(\"source_id\" => 24950, \"target_id\" => 23739, \"type\" => \"CurriculumPrerequisite\")], \"name\" => \"COT 3100\", \"metrics\" => Dict{String, Any}(\"complexity\" => 10.0, \"centrality\" => 23, \"blocking factor\" => 6, \"delay factor\" => 4.0), \"nameSub\" => \"Introduction to Discrete Structures\", \"id\" => 23739, \"credits\" => 3, \"nameCanonical\" => \"\"), Dict(\"curriculum_requisites\" => Dict{String, Any}[Dict(\"source_id\" => 24952, \"target_id\" => 25929, \"type\" => \"CurriculumPrerequisite\"), Dict(\"source_id\" => 26016, \"target_id\" => 25929, \"type\" => \"CurriculumPrerequisite\")], \"name\" => \"EGN or MAP 3433 or 2302\", \"metrics\" => Dict{String, Any}(\"complexity\" => 7.0, \"centrality\" => 26, \"blocking factor\" => 1, \"delay factor\" => 6.0), \"nameSub\" => \"Modeling and Analysis of Engineering Systems or Diff Eq\", \"id\" => 25929, \"credits\" => 3, \"nameCanonical\" => \"\"), Dict(\"curriculum_requisites\" => Dict{String, Any}[Dict(\"source_id\" => 26655, \"target_id\" => 24641, \"type\" => \"CurriculumPrerequisite\"), Dict(\"source_id\" => 24493, \"target_id\" => 24641, \"type\" => \"CurriculumCorequisite\")], \"name\" => \"COP 3331\", \"metrics\" => Dict{String, Any}(\"complexity\" => 14.0, \"centrality\" => 205, \"blocking factor\" => 6, \"delay factor\" => 8.0), \"nameSub\" => \"Object Oriented Software Design\", \"id\" => 24641, \"credits\" => 3, \"nameCanonical\" => \"\")], \"id\" => 4), Dict(\"name\" => \"Term 5\", \"curriculum_items\" => Dict{String, Any}[Dict(\"curriculum_requisites\" => Dict{String, Any}[Dict(\"source_id\" => 24493, \"target_id\" => 27726, \"type\" => \"CurriculumPrerequisite\"), Dict(\"source_id\" => 26655, \"target_id\" => 27726, \"type\" => \"CurriculumPrerequisite\"), Dict(\"source_id\" => 23435, \"target_id\" => 27726, \"type\" => \"CurriculumStrictCorequisite\")], \"name\" => \"CDA 3201\", \"metrics\" => Dict{String, Any}(\"complexity\" => 15.0, \"centrality\" => 242, \"blocking factor\" => 7, \"delay factor\" => 8.0), \"nameSub\" => \"Computer Logic and Design\", \"id\" => 27726, \"credits\" => 3, \"nameCanonical\" => \"\"), Dict(\"curriculum_requisites\" => Dict{String, Any}[Dict(\"source_id\" => 23739, \"target_id\" => 28111, \"type\" => \"CurriculumPrerequisite\"), Dict(\"source_id\" => 24493, \"target_id\" => 28111, \"type\" => \"CurriculumPrerequisite\"), Dict(\"source_id\" => 24641, \"target_id\" => 28111, \"type\" => \"CurriculumPrerequisite\")], \"name\" => \"COP 4530\", \"metrics\" => Dict{String, Any}(\"complexity\" => 13.0, \"centrality\" => 375, \"blocking factor\" => 5, \"delay factor\" => 8.0), \"nameSub\" => \"Data Structures\", \"id\" => 28111, \"credits\" => 3, \"nameCanonical\" => \"\"), Dict(\"curriculum_requisites\" => Dict{String, Any}[Dict(\"source_id\" => 24951, \"target_id\" => 26647, \"type\" => \"CurriculumPrerequisite\")], \"name\" => \"EGN 4450\", \"metrics\" => Dict{String, Any}(\"complexity\" => 3.0, \"centrality\" => 0, \"blocking factor\" => 0, \"delay factor\" => 3.0), \"nameSub\" => \"Introduction to Linear Systems\", \"id\" => 26647, \"credits\" => 2, \"nameCanonical\" => \"\"), Dict(\"curriculum_requisites\" => Dict{String, Any}[], \"name\" => \"CDA 3201L\", \"metrics\" => Dict{String, Any}(\"complexity\" => 12.0, \"centrality\" => 0, \"blocking factor\" => 8, \"delay factor\" => 4.0), \"nameSub\" => \"Computer Logic and Design Lab\", \"id\" => 23435, \"credits\" => 1, \"nameCanonical\" => \"\")], \"id\" => 5), Dict(\"name\" => \"Term 6\", \"curriculum_items\" => Dict{String, Any}[Dict(\"curriculum_requisites\" => Dict{String, Any}[Dict(\"source_id\" => 23739, \"target_id\" => 23996, \"type\" => \"CurriculumPrerequisite\"), Dict(\"source_id\" => 28111, \"target_id\" => 23996, \"type\" => \"CurriculumPrerequisite\")], \"name\" => \"COT 4400\", \"metrics\" => Dict{String, Any}(\"complexity\" => 8.0, \"centrality\" => 0, \"blocking factor\" => 0, \"delay factor\" => 8.0), \"nameSub\" => \"Analysis Of Algorithms\", \"id\" => 23996, \"credits\" => 3, \"nameCanonical\" => \"\"), Dict(\"curriculum_requisites\" => Dict{String, Any}[Dict(\"source_id\" => 23435, \"target_id\" => 24494, \"type\" => \"CurriculumPrerequisite\"), Dict(\"source_id\" => 27726, \"target_id\" => 24494, \"type\" => \"CurriculumPrerequisite\")], \"name\" => \"CDA 4205\", \"metrics\" => Dict{String, Any}(\"complexity\" => 7.0, \"centrality\" => 0, \"blocking factor\" => 0, \"delay factor\" => 7.0), \"nameSub\" => \"Computer Architecture\", \"id\" => 24494, \"credits\" => 3, \"nameCanonical\" => \"\"), Dict(\"curriculum_requisites\" => Dict{String, Any}[Dict(\"source_id\" => 24952, \"target_id\" => 27967, \"type\" => \"CurriculumCorequisite\"), Dict(\"source_id\" => 26014, \"target_id\" => 27967, \"type\" => \"CurriculumPrerequisite\"), Dict(\"source_id\" => 25478, \"target_id\" => 27967, \"type\" => \"CurriculumPrerequisite\")], \"name\" => \"EEE 3394\", \"metrics\" => Dict{String, Any}(\"complexity\" => 4.0, \"centrality\" => 0, \"blocking factor\" => 0, \"delay factor\" => 4.0), \"nameSub\" => \"Electronic Materials\", \"id\" => 27967, \"credits\" => 3, \"nameCanonical\" => \"\"), Dict(\"curriculum_requisites\" => Dict{String, Any}[Dict(\"source_id\" => 25929, \"target_id\" => 25981, \"type\" => \"CurriculumCorequisite\")], \"name\" => \"EGN 3373\", \"metrics\" => Dict{String, Any}(\"complexity\" => 6.0, \"centrality\" => 0, \"blocking factor\" => 0, \"delay factor\" => 6.0), \"nameSub\" => \"Introduction to Electrical Systems I\", \"id\" => 25981, \"credits\" => 3, \"nameCanonical\" => \"\"), Dict(\"curriculum_requisites\" => Dict{String, Any}[Dict(\"source_id\" => 27726, \"target_id\" => 6, \"type\" => \"CurriculumPrerequisite\")], \"name\" => \" \", \"metrics\" => Dict{String, Any}(\"complexity\" => 7.0, \"centrality\" => 0, \"blocking factor\" => 0, \"delay factor\" => 7.0), \"nameSub\" => \"CSE Hardware Elective\", \"id\" => 6, \"credits\" => 3, \"nameCanonical\" => \"\")], \"id\" => 6), Dict(\"name\" => \"Term 7\", \"curriculum_items\" => Dict{String, Any}[Dict(\"curriculum_requisites\" => Dict{String, Any}[Dict(\"source_id\" => 23435, \"target_id\" => 26840, \"type\" => \"CurriculumPrerequisite\"), Dict(\"source_id\" => 27726, \"target_id\" => 26840, \"type\" => \"CurriculumPrerequisite\")], \"name\" => \"CDA 4203\", \"metrics\" => Dict{String, Any}(\"complexity\" => 9.0, \"centrality\" => 48, \"blocking factor\" => 1, \"delay factor\" => 8.0), \"nameSub\" => \"Computer System Design\", \"id\" => 26840, \"credits\" => 3, \"nameCanonical\" => \"\"), Dict(\"curriculum_requisites\" => Dict{String, Any}[], \"name\" => \"EGN 3615\", \"metrics\" => Dict{String, Any}(\"complexity\" => 1.0, \"centrality\" => 0, \"blocking factor\" => 0, \"delay factor\" => 1.0), \"nameSub\" => \"Engineering Economics with Social and Global Implications\", \"id\" => 24859, \"credits\" => 3, \"nameCanonical\" => \"\"), Dict(\"curriculum_requisites\" => Dict{String, Any}[Dict(\"source_id\" => 28111, \"target_id\" => 23860, \"type\" => \"CurriculumPrerequisite\")], \"name\" => \"COP 4600\", \"metrics\" => Dict{String, Any}(\"complexity\" => 8.0, \"centrality\" => 0, \"blocking factor\" => 0, \"delay factor\" => 8.0), \"nameSub\" => \"Operating Systems\", \"id\" => 23860, \"credits\" => 3, \"nameCanonical\" => \"\"), Dict(\"curriculum_requisites\" => Dict{String, Any}[Dict(\"source_id\" => 27726, \"target_id\" => 8, \"type\" => \"CurriculumPrerequisite\")], \"name\" => \" \", \"metrics\" => Dict{String, Any}(\"complexity\" => 7.0, \"centrality\" => 0, \"blocking factor\" => 0, \"delay factor\" => 7.0), \"nameSub\" => \"CSE Hardware Elective\", \"id\" => 8, \"credits\" => 3, \"nameCanonical\" => \"\"), Dict(\"curriculum_requisites\" => Dict{String, Any}[Dict(\"source_id\" => 26840, \"target_id\" => 26843, \"type\" => \"CurriculumStrictCorequisite\")], \"name\" => \"CDA 4203L\", \"metrics\" => Dict{String, Any}(\"complexity\" => 8.0, \"centrality\" => 0, \"blocking factor\" => 0, \"delay factor\" => 8.0), \"nameSub\" => \"Computer System Design Lab\", \"id\" => 26843, \"credits\" => 1, \"nameCanonical\" => \"\"), Dict(\"curriculum_requisites\" => Dict{String, Any}[], \"name\" => \" \", \"metrics\" => Dict{String, Any}(\"complexity\" => 1.0, \"centrality\" => 0, \"blocking factor\" => 0, \"delay factor\" => 1.0), \"nameSub\" => \"Natural Sci Elective\", \"id\" => 9, \"credits\" => 3, \"nameCanonical\" => \"\")], \"id\" => 7), Dict(\"name\" => \"Term 8\", \"curriculum_items\" => Dict{String, Any}[Dict(\"curriculum_requisites\" => Dict{String, Any}[Dict(\"source_id\" => 23435, \"target_id\" => 23590, \"type\" => \"CurriculumPrerequisite\"), Dict(\"source_id\" => 27726, \"target_id\" => 23590, \"type\" => \"CurriculumPrerequisite\")], \"name\" => \"CDA 4213\", \"metrics\" => Dict{String, Any}(\"complexity\" => 9.0, \"centrality\" => 48, \"blocking factor\" => 1, \"delay factor\" => 8.0), \"nameSub\" => \"CMOS-VLSI Design\", \"id\" => 23590, \"credits\" => 3, \"nameCanonical\" => \"\"), Dict(\"curriculum_requisites\" => Dict{String, Any}[], \"name\" => \"ENC 3246\", \"metrics\" => Dict{String, Any}(\"complexity\" => 1.0, \"centrality\" => 0, \"blocking factor\" => 0, \"delay factor\" => 1.0), \"nameSub\" => \"Communication for Engineers\", \"id\" => 27719, \"credits\" => 3, \"nameCanonical\" => \"\"), Dict(\"curriculum_requisites\" => Dict{String, Any}[Dict(\"source_id\" => 24951, \"target_id\" => 25983, \"type\" => \"CurriculumPrerequisite\")], \"name\" => \"EGN 3443\", \"metrics\" => Dict{String, Any}(\"complexity\" => 3.0, \"centrality\" => 0, \"blocking factor\" => 0, \"delay factor\" => 3.0), \"nameSub\" => \"Probability and Statistics for Engineers\", \"id\" => 25983, \"credits\" => 3, \"nameCanonical\" => \"\"), Dict(\"curriculum_requisites\" => Dict{String, Any}[Dict(\"source_id\" => 28111, \"target_id\" => 12, \"type\" => \"CurriculumPrerequisite\")], \"name\" => \" \", \"metrics\" => Dict{String, Any}(\"complexity\" => 8.0, \"centrality\" => 0, \"blocking factor\" => 0, \"delay factor\" => 8.0), \"nameSub\" => \"CSE Elective\", \"id\" => 12, \"credits\" => 3, \"nameCanonical\" => \"\"), Dict(\"curriculum_requisites\" => Dict{String, Any}[Dict(\"source_id\" => 23435, \"target_id\" => 28057, \"type\" => \"CurriculumPrerequisite\"), Dict(\"source_id\" => 27726, \"target_id\" => 28057, \"type\" => \"CurriculumPrerequisite\"), Dict(\"source_id\" => 23590, \"target_id\" => 28057, \"type\" => \"CurriculumStrictCorequisite\")], \"name\" => \"CDA 4213L\", \"metrics\" => Dict{String, Any}(\"complexity\" => 8.0, \"centrality\" => 0, \"blocking factor\" => 0, \"delay factor\" => 8.0), \"nameSub\" => \"CMOS-VLSI Design Lab\", \"id\" => 28057, \"credits\" => 1, \"nameCanonical\" => \"\")], \"id\" => 8), Dict(\"name\" => \"Term 9\", \"curriculum_items\" => Dict{String, Any}[Dict(\"curriculum_requisites\" => Dict{String, Any}[], \"name\" => \"CIS 4250\", \"metrics\" => Dict{String, Any}(\"complexity\" => 1.0, \"centrality\" => 0, \"blocking factor\" => 0, \"delay factor\" => 1.0), \"nameSub\" => \"Ethical Issues And Professional Conduct\", \"id\" => 26844, \"credits\" => 3, \"nameCanonical\" => \"\"), Dict(\"curriculum_requisites\" => Dict{String, Any}[Dict(\"source_id\" => 28111, \"target_id\" => 15, \"type\" => \"CurriculumPrerequisite\")], \"name\" => \" \", \"metrics\" => Dict{String, Any}(\"complexity\" => 8.0, \"centrality\" => 0, \"blocking factor\" => 0, \"delay factor\" => 8.0), \"nameSub\" => \"CSE Elective\", \"id\" => 15, \"credits\" => 3, \"nameCanonical\" => \"\"), Dict(\"curriculum_requisites\" => Dict{String, Any}[Dict(\"source_id\" => 28111, \"target_id\" => 24532, \"type\" => \"CurriculumPrerequisite\")], \"name\" => \"CIS 4910\", \"metrics\" => Dict{String, Any}(\"complexity\" => 8.0, \"centrality\" => 0, \"blocking factor\" => 0, \"delay factor\" => 8.0), \"nameSub\" => \"Computer Science and Engineering Project\", \"id\" => 24532, \"credits\" => 3, \"nameCanonical\" => \"\"), Dict(\"curriculum_requisites\" => Dict{String, Any}[], \"name\" => \" \", \"metrics\" => Dict{String, Any}(\"complexity\" => 1.0, \"centrality\" => 0, \"blocking factor\" => 0, \"delay factor\" => 1.0), \"nameSub\" => \"LAB\", \"id\" => 16, \"credits\" => 1, \"nameCanonical\" => \"\")], \"id\" => 9)], \"institution\" => \"USF\")), nothing)), Set{String}(), nothing, WebIO.Asset[], Dict{Any, Any}(), WebIO.ConnectionPool(Channel{Any}(32), Set{WebIO.AbstractConnection}(), Condition(Base.InvasiveLinkedList{Task}(Task (runnable) @0x000000017dd37750, Task (runnable) @0x000000017dd37750), Base.AlwaysLockedST(1))), WebIO.JSString[])"
      ]
     },
     "execution_count": 15,
     "metadata": {
      "application/vnd.webio.node+json": {
       "kernelId": "5d04c9f1-46cd-48d9-9337-f86702539843"
      }
     },
     "output_type": "execute_result"
    }
   ],
   "source": [
    "dp = plan[\"ECP-CALC+CHM ready\"]\n",
    "visualize(dp, notebook=true)"
   ]
  },
  {
   "cell_type": "code",
   "execution_count": 16,
   "metadata": {},
   "outputs": [
    {
     "ename": "LoadError",
     "evalue": "KeyError: key \"ECP-NOT CALCorCHM ready-MAC 1114&1140\" not found",
     "output_type": "error",
     "traceback": [
      "KeyError: key \"ECP-NOT CALCorCHM ready-MAC 1114&1140\" not found",
      "",
      "Stacktrace:",
      " [1] getindex(h::Dict{String, DegreePlan}, key::String)",
      "   @ Base ./dict.jl:482",
      " [2] top-level scope",
      "   @ In[16]:1",
      " [3] eval",
      "   @ ./boot.jl:360 [inlined]",
      " [4] include_string(mapexpr::typeof(REPL.softscope), mod::Module, code::String, filename::String)",
      "   @ Base ./loading.jl:1094"
     ]
    }
   ],
   "source": [
    "dp = plan[\"ECP-NOT CALCorCHM ready-MAC 1114&1140\"]\n",
    "visualize(dp, notebook=true)"
   ]
  },
  {
   "cell_type": "code",
   "execution_count": 17,
   "metadata": {},
   "outputs": [
    {
     "ename": "LoadError",
     "evalue": "KeyError: key \"EEL-CALC+CHM ready\" not found",
     "output_type": "error",
     "traceback": [
      "KeyError: key \"EEL-CALC+CHM ready\" not found",
      "",
      "Stacktrace:",
      " [1] getindex(h::Dict{String, DegreePlan}, key::String)",
      "   @ Base ./dict.jl:482",
      " [2] top-level scope",
      "   @ In[17]:1",
      " [3] eval",
      "   @ ./boot.jl:360 [inlined]",
      " [4] include_string(mapexpr::typeof(REPL.softscope), mod::Module, code::String, filename::String)",
      "   @ Base ./loading.jl:1094"
     ]
    }
   ],
   "source": [
    "dp = plan[\"EEL-CALC+CHM ready\"]\n",
    "visualize(dp, notebook=true)"
   ]
  },
  {
   "cell_type": "code",
   "execution_count": 6,
   "metadata": {},
   "outputs": [
    {
     "ename": "LoadError",
     "evalue": "KeyError: key \"EEL-NOT CALCorCHM ready-MAC1114&1140\" not found",
     "output_type": "error",
     "traceback": [
      "KeyError: key \"EEL-NOT CALCorCHM ready-MAC1114&1140\" not found",
      "",
      "Stacktrace:",
      " [1] getindex(h::Dict{String, DegreePlan}, key::String)",
      "   @ Base ./dict.jl:482",
      " [2] top-level scope",
      "   @ In[6]:1",
      " [3] eval",
      "   @ ./boot.jl:360 [inlined]",
      " [4] include_string(mapexpr::typeof(REPL.softscope), mod::Module, code::String, filename::String)",
      "   @ Base ./loading.jl:1094"
     ]
    }
   ],
   "source": [
    "dp = plan[\"EEL-NOT CALCorCHM ready-MAC1114&1140\"]\n",
    "visualize(dp, notebook=true)"
   ]
  },
  {
   "cell_type": "code",
   "execution_count": 7,
   "metadata": {},
   "outputs": [
    {
     "ename": "LoadError",
     "evalue": "Strict-Corequisites column is missing",
     "output_type": "error",
     "traceback": [
      "Strict-Corequisites column is missing",
      "",
      "Stacktrace:",
      "  [1] error(s::String)",
      "    @ Base ./error.jl:33",
      "  [2] find_cell(row::DataFrames.DataFrameRow{DataFrames.DataFrame, DataFrames.Index}, header::Symbol)",
      "    @ CurricularAnalytics ~/.julia/packages/CurricularAnalytics/aXd7e/src/CSVUtilities.jl:104",
      "  [3] read_all_courses(df_courses::DataFrames.DataFrame, lo_Course::Dict{Int64, Array{LearningOutcome, N} where N})",
      "    @ CurricularAnalytics ~/.julia/packages/CurricularAnalytics/aXd7e/src/CSVUtilities.jl:149",
      "  [4] (::CurricularAnalytics.var\"#27#30\"{String, Dict{String, System}, Dict{String, Degree}})(csv_file::IOStream)",
      "    @ CurricularAnalytics ~/.julia/packages/CurricularAnalytics/aXd7e/src/DataHandler.jl:213",
      "  [5] open(f::CurricularAnalytics.var\"#27#30\"{String, Dict{String, System}, Dict{String, Degree}}, args::String; kwargs::Base.Iterators.Pairs{Union{}, Union{}, Tuple{}, NamedTuple{(), Tuple{}}})",
      "    @ Base ./io.jl:330",
      "  [6] open(f::Function, args::String)",
      "    @ Base ./io.jl:328",
      "  [7] read_csv(file_path::String)",
      "    @ CurricularAnalytics ~/.julia/packages/CurricularAnalytics/aXd7e/src/DataHandler.jl:49",
      "  [8] top-level scope",
      "    @ In[7]:1",
      "  [9] eval",
      "    @ ./boot.jl:360 [inlined]",
      " [10] include_string(mapexpr::typeof(REPL.softscope), mod::Module, code::String, filename::String)",
      "    @ Base ./loading.jl:1094"
     ]
    }
   ],
   "source": [
    "curric = read_csv(\"./programs/$college/BSEE-EEL-ENG101-c.csv\")\n",
    "visualize(curric, notebook=true)"
   ]
  },
  {
   "cell_type": "code",
   "execution_count": 8,
   "metadata": {},
   "outputs": [
    {
     "ename": "LoadError",
     "evalue": "UndefVarError: optimize_plan not defined",
     "output_type": "error",
     "traceback": [
      "UndefVarError: optimize_plan not defined",
      "",
      "Stacktrace:",
      " [1] top-level scope",
      "   @ In[8]:1",
      " [2] eval",
      "   @ ./boot.jl:360 [inlined]",
      " [3] include_string(mapexpr::typeof(REPL.softscope), mod::Module, code::String, filename::String)",
      "   @ Base ./loading.jl:1094"
     ]
    }
   ],
   "source": [
    "dp = optimize_plan(curric, 8, 12, 19, balance_obj)\n",
    "visualize(dp, notebook=true)"
   ]
  },
  {
   "cell_type": "code",
   "execution_count": 9,
   "metadata": {},
   "outputs": [
    {
     "ename": "LoadError",
     "evalue": "UndefVarError: dp not defined",
     "output_type": "error",
     "traceback": [
      "UndefVarError: dp not defined",
      "",
      "Stacktrace:",
      " [1] top-level scope",
      "   @ In[9]:1",
      " [2] eval",
      "   @ ./boot.jl:360 [inlined]",
      " [3] include_string(mapexpr::typeof(REPL.softscope), mod::Module, code::String, filename::String)",
      "   @ Base ./loading.jl:1094"
     ]
    }
   ],
   "source": [
    "println(String(take!(basic_metrics(dp))))"
   ]
  },
  {
   "cell_type": "code",
   "execution_count": 10,
   "metadata": {},
   "outputs": [
    {
     "ename": "LoadError",
     "evalue": "UndefVarError: dp not defined",
     "output_type": "error",
     "traceback": [
      "UndefVarError: dp not defined",
      "",
      "Stacktrace:",
      " [1] top-level scope",
      "   @ In[10]:1",
      " [2] eval",
      "   @ ./boot.jl:360 [inlined]",
      " [3] include_string(mapexpr::typeof(REPL.softscope), mod::Module, code::String, filename::String)",
      "   @ Base ./loading.jl:1094"
     ]
    }
   ],
   "source": [
    "write_csv(dp, \"./programs/$college/EE-unmod.csv\")"
   ]
  },
  {
   "cell_type": "code",
   "execution_count": 11,
   "metadata": {},
   "outputs": [
    {
     "data": {
      "application/vnd.webio.node+json": {
       "children": [
        {
         "children": [
          ""
         ],
         "instanceArgs": {
          "namespace": "html",
          "tag": "iframe"
         },
         "nodeType": "DOM",
         "props": {
          "events": {
           "load": "(function (){this.contentWindow.postMessage({\"options\":{\"hideTerms\":false,\"edit\":false},\"curriculum\":{\"name\":\"BSEE-Electrical Engineering \",\"dp_name\":\"Starting w/ ENG 101\",\"curriculum_terms\":[{\"name\":\"Term 1\",\"curriculum_items\":[{\"curriculum_requisites\":[],\"name\":\"CHM/CHS 2045/2440L\",\"metrics\":{\"centrality\":0,\"complexity\":5.0,\"blocking factor\":2,\"delay factor\":3.0},\"nameSub\":\"General Chemistry I/Chem for Engineers Laboratory\",\"id\":25479,\"credits\":1,\"nameCanonical\":\"\"},{\"curriculum_requisites\":[],\"name\":\"SGEH \",\"metrics\":{\"centrality\":0,\"complexity\":1.0,\"blocking factor\":0,\"delay factor\":1.0},\"nameSub\":\"State Humanities Gen Ed\",\"id\":4,\"credits\":3,\"nameCanonical\":\"\"},{\"curriculum_requisites\":[],\"name\":\" \",\"metrics\":{\"centrality\":0,\"complexity\":1.0,\"blocking factor\":0,\"delay factor\":1.0},\"nameSub\":\"General Elective\",\"id\":30,\"credits\":1,\"nameCanonical\":\"\"},{\"curriculum_requisites\":[],\"name\":\"ENG 101\",\"metrics\":{\"centrality\":0,\"complexity\":20.0,\"blocking factor\":14,\"delay factor\":6.0},\"nameSub\":\"Engineering 101\",\"id\":1,\"credits\":5,\"nameCanonical\":\"\"},{\"curriculum_requisites\":[],\"name\":\"ENC 1101\",\"metrics\":{\"centrality\":0,\"complexity\":3.0,\"blocking factor\":1,\"delay factor\":2.0},\"nameSub\":\"Composition I\",\"id\":23525,\"credits\":3,\"nameCanonical\":\"\"},{\"curriculum_requisites\":[],\"name\":\"EGN 3000\",\"metrics\":{\"centrality\":0,\"complexity\":1.0,\"blocking factor\":0,\"delay factor\":1.0},\"nameSub\":\"Foundations of Engineering\",\"id\":28172,\"credits\":0,\"nameCanonical\":\"\"},{\"curriculum_requisites\":[],\"name\":\"EGS 2070\",\"metrics\":{\"centrality\":0,\"complexity\":5.0,\"blocking factor\":2,\"delay factor\":3.0},\"nameSub\":\"Professional Formation of Engineers I\",\"id\":6,\"credits\":1,\"nameCanonical\":\"\"},{\"curriculum_requisites\":[],\"name\":\" \",\"metrics\":{\"centrality\":0,\"complexity\":1.0,\"blocking factor\":0,\"delay factor\":1.0},\"nameSub\":\"General Elective\",\"id\":29,\"credits\":3,\"nameCanonical\":\"\"}],\"id\":1},{\"name\":\"Term 2\",\"curriculum_items\":[{\"curriculum_requisites\":[],\"name\":\"EEL 3705\",\"metrics\":{\"centrality\":0,\"complexity\":3.0,\"blocking factor\":1,\"delay factor\":2.0},\"nameSub\":\"Fundamentals of Digital Circuits\",\"id\":23747,\"credits\":3,\"nameCanonical\":\"\"},{\"curriculum_requisites\":[],\"name\":\"SGES \",\"metrics\":{\"centrality\":0,\"complexity\":1.0,\"blocking factor\":0,\"delay factor\":1.0},\"nameSub\":\"State Social Science Gen Ed\",\"id\":31,\"credits\":3,\"nameCanonical\":\"\"},{\"curriculum_requisites\":[{\"source_id\":1,\"target_id\":24950,\"type\":\"CurriculumPrerequisite\"}],\"name\":\"MAC 2281\",\"metrics\":{\"centrality\":33,\"complexity\":16.0,\"blocking factor\":10,\"delay factor\":6.0},\"nameSub\":\"Engineering Calculus I\",\"id\":24950,\"credits\":4,\"nameCanonical\":\"\"},{\"curriculum_requisites\":[],\"name\":\"ENC 3246\",\"metrics\":{\"centrality\":0,\"complexity\":1.0,\"blocking factor\":0,\"delay factor\":1.0},\"nameSub\":\"Communication for Engineers\",\"id\":27719,\"credits\":3,\"nameCanonical\":\"\"},{\"curriculum_requisites\":[{\"source_id\":1,\"target_id\":25981,\"type\":\"CurriculumPrerequisite\"}],\"name\":\"EGN 3373\",\"metrics\":{\"centrality\":7,\"complexity\":7.0,\"blocking factor\":3,\"delay factor\":4.0},\"nameSub\":\"Introduction to Electrical Systems I\",\"id\":25981,\"credits\":3,\"nameCanonical\":\"\"}],\"id\":2},{\"name\":\"Term 3\",\"curriculum_items\":[{\"curriculum_requisites\":[{\"source_id\":6,\"target_id\":11,\"type\":\"CurriculumPrerequisite\"}],\"name\":\"EGS 3071\",\"metrics\":{\"centrality\":3,\"complexity\":4.0,\"blocking factor\":1,\"delay factor\":3.0},\"nameSub\":\"Professional Formation of Engineers II\",\"id\":11,\"credits\":1,\"nameCanonical\":\"\"},{\"curriculum_requisites\":[],\"name\":\"EEL 2161\",\"metrics\":{\"centrality\":0,\"complexity\":3.0,\"blocking factor\":1,\"delay factor\":2.0},\"nameSub\":\"Programming with C\",\"id\":24974,\"credits\":3,\"nameCanonical\":\"\"},{\"curriculum_requisites\":[{\"source_id\":23525,\"target_id\":23526,\"type\":\"CurriculumPrerequisite\"}],\"name\":\"ENC 1102\",\"metrics\":{\"centrality\":0,\"complexity\":2.0,\"blocking factor\":0,\"delay factor\":2.0},\"nameSub\":\"Composition II\",\"id\":23526,\"credits\":3,\"nameCanonical\":\"\"},{\"curriculum_requisites\":[{\"source_id\":24950,\"target_id\":26014,\"type\":\"CurriculumPrerequisite\"}],\"name\":\"PHY 2048\",\"metrics\":{\"centrality\":5,\"complexity\":7.0,\"blocking factor\":2,\"delay factor\":5.0},\"nameSub\":\"General Physics I - Calculus Based\",\"id\":26014,\"credits\":3,\"nameCanonical\":\"\"},{\"curriculum_requisites\":[{\"source_id\":24950,\"target_id\":26015,\"type\":\"CurriculumPrerequisite\"}],\"name\":\"PHY 2048L\",\"metrics\":{\"centrality\":0,\"complexity\":3.0,\"blocking factor\":0,\"delay factor\":3.0},\"nameSub\":\"General Physics I Laboratory\",\"id\":26015,\"credits\":1,\"nameCanonical\":\"\"},{\"curriculum_requisites\":[{\"source_id\":24950,\"target_id\":24951,\"type\":\"CurriculumPrerequisite\"}],\"name\":\"MAC 2282\",\"metrics\":{\"centrality\":25,\"complexity\":13.0,\"blocking factor\":7,\"delay factor\":6.0},\"nameSub\":\"Engineering Calculus II\",\"id\":24951,\"credits\":4,\"nameCanonical\":\"\"}],\"id\":3},{\"name\":\"Term 4\",\"curriculum_items\":[{\"curriculum_requisites\":[],\"name\":\"EGN 3615\",\"metrics\":{\"centrality\":0,\"complexity\":1.0,\"blocking factor\":0,\"delay factor\":1.0},\"nameSub\":\"Engineering Economics with Social and Global Implications\",\"id\":24859,\"credits\":3,\"nameCanonical\":\"\"},{\"curriculum_requisites\":[{\"source_id\":24951,\"target_id\":24952,\"type\":\"CurriculumPrerequisite\"}],\"name\":\"MAC 2283\",\"metrics\":{\"centrality\":11,\"complexity\":9.0,\"blocking factor\":3,\"delay factor\":6.0},\"nameSub\":\"Engineering Calculus III\",\"id\":24952,\"credits\":4,\"nameCanonical\":\"\"},{\"curriculum_requisites\":[],\"name\":\" \",\"metrics\":{\"centrality\":0,\"complexity\":1.0,\"blocking factor\":0,\"delay factor\":1.0},\"nameSub\":\"EE Core Technical Elective\",\"id\":12,\"credits\":3,\"nameCanonical\":\"\"},{\"curriculum_requisites\":[],\"name\":\" \",\"metrics\":{\"centrality\":0,\"complexity\":1.0,\"blocking factor\":0,\"delay factor\":1.0},\"nameSub\":\"EE Track Elective\",\"id\":14,\"credits\":3,\"nameCanonical\":\"\"},{\"curriculum_requisites\":[{\"source_id\":24952,\"target_id\":27967,\"type\":\"CurriculumCorequisite\"},{\"source_id\":25479,\"target_id\":27967,\"type\":\"CurriculumPrerequisite\"},{\"source_id\":26014,\"target_id\":27967,\"type\":\"CurriculumPrerequisite\"}],\"name\":\"EEE 3394\",\"metrics\":{\"centrality\":14,\"complexity\":7.0,\"blocking factor\":1,\"delay factor\":6.0},\"nameSub\":\"Electrical Engineering Science I - Electronic Materials\",\"id\":27967,\"credits\":3,\"nameCanonical\":\"\"},{\"curriculum_requisites\":[],\"name\":\"CHM/CHS 2045/2440\",\"metrics\":{\"centrality\":0,\"complexity\":1.0,\"blocking factor\":0,\"delay factor\":1.0},\"nameSub\":\"General Chemistry I/Chem for Engineers \",\"id\":25478,\"credits\":3,\"nameCanonical\":\"\"}],\"id\":4},{\"name\":\"Term 5\",\"curriculum_items\":[{\"curriculum_requisites\":[{\"source_id\":24951,\"target_id\":25357,\"type\":\"CurriculumPrerequisite\"}],\"name\":\"EGN 3420\",\"metrics\":{\"centrality\":10,\"complexity\":7.0,\"blocking factor\":2,\"delay factor\":5.0},\"nameSub\":\"Engineering Analysis\",\"id\":25357,\"credits\":4,\"nameCanonical\":\"\"},{\"curriculum_requisites\":[],\"name\":\" \",\"metrics\":{\"centrality\":0,\"complexity\":1.0,\"blocking factor\":0,\"delay factor\":1.0},\"nameSub\":\"EE Core Technical Elective\",\"id\":9,\"credits\":3,\"nameCanonical\":\"\"},{\"curriculum_requisites\":[{\"source_id\":25981,\"target_id\":27018,\"type\":\"CurriculumPrerequisite\"}],\"name\":\"EGN 3374\",\"metrics\":{\"centrality\":4,\"complexity\":5.0,\"blocking factor\":1,\"delay factor\":4.0},\"nameSub\":\"Introduction to Electrical Systems II\",\"id\":27018,\"credits\":3,\"nameCanonical\":\"\"},{\"curriculum_requisites\":[{\"source_id\":24951,\"target_id\":25983,\"type\":\"CurriculumPrerequisite\"}],\"name\":\"EGN 3443\",\"metrics\":{\"centrality\":0,\"complexity\":4.0,\"blocking factor\":0,\"delay factor\":4.0},\"nameSub\":\"Probability and Statistics for Engineers\",\"id\":25983,\"credits\":3,\"nameCanonical\":\"\"},{\"curriculum_requisites\":[],\"name\":\"EGN 3000L\",\"metrics\":{\"centrality\":0,\"complexity\":1.0,\"blocking factor\":0,\"delay factor\":1.0},\"nameSub\":\"Foundations of Engineering Lab\",\"id\":23287,\"credits\":3,\"nameCanonical\":\"\"}],\"id\":5},{\"name\":\"Term 6\",\"curriculum_items\":[{\"curriculum_requisites\":[{\"source_id\":24952,\"target_id\":24959,\"type\":\"CurriculumPrerequisite\"}],\"name\":\"MAP 2302\",\"metrics\":{\"centrality\":0,\"complexity\":5.0,\"blocking factor\":0,\"delay factor\":5.0},\"nameSub\":\"Differential Equations\",\"id\":24959,\"credits\":3,\"nameCanonical\":\"\"},{\"curriculum_requisites\":[],\"name\":\" \",\"metrics\":{\"centrality\":0,\"complexity\":1.0,\"blocking factor\":0,\"delay factor\":1.0},\"nameSub\":\"Upper-Level Department Elective\",\"id\":21,\"credits\":3,\"nameCanonical\":\"\"},{\"curriculum_requisites\":[],\"name\":\" \",\"metrics\":{\"centrality\":0,\"complexity\":1.0,\"blocking factor\":0,\"delay factor\":1.0},\"nameSub\":\"EE Track Elective\",\"id\":22,\"credits\":3,\"nameCanonical\":\"\"},{\"curriculum_requisites\":[],\"name\":\" \",\"metrics\":{\"centrality\":0,\"complexity\":1.0,\"blocking factor\":0,\"delay factor\":1.0},\"nameSub\":\"EE Track Elective Lab\",\"id\":24,\"credits\":1,\"nameCanonical\":\"\"},{\"curriculum_requisites\":[{\"source_id\":25981,\"target_id\":26911,\"type\":\"CurriculumPrerequisite\"}],\"name\":\"EEL 3115L\",\"metrics\":{\"centrality\":0,\"complexity\":3.0,\"blocking factor\":0,\"delay factor\":3.0},\"nameSub\":\"Laboratory I\",\"id\":26911,\"credits\":1,\"nameCanonical\":\"\"},{\"curriculum_requisites\":[{\"source_id\":25357,\"target_id\":25885,\"type\":\"CurriculumPrerequisite\"},{\"source_id\":27018,\"target_id\":25885,\"type\":\"CurriculumPrerequisite\"}],\"name\":\"EEL 4102\",\"metrics\":{\"centrality\":0,\"complexity\":5.0,\"blocking factor\":0,\"delay factor\":5.0},\"nameSub\":\"Signals and Systems\",\"id\":25885,\"credits\":3,\"nameCanonical\":\"\"},{\"curriculum_requisites\":[],\"name\":\" \",\"metrics\":{\"centrality\":0,\"complexity\":1.0,\"blocking factor\":0,\"delay factor\":1.0},\"nameSub\":\"EE Track Elective\",\"id\":15,\"credits\":3,\"nameCanonical\":\"\"}],\"id\":6},{\"name\":\"Term 7\",\"curriculum_items\":[{\"curriculum_requisites\":[],\"name\":\" \",\"metrics\":{\"centrality\":0,\"complexity\":1.0,\"blocking factor\":0,\"delay factor\":1.0},\"nameSub\":\"Internship/Co-op Participation\",\"id\":20,\"credits\":0,\"nameCanonical\":\"\"}],\"id\":7},{\"name\":\"Term 8\",\"curriculum_items\":[{\"curriculum_requisites\":[],\"name\":\" \",\"metrics\":{\"centrality\":0,\"complexity\":1.0,\"blocking factor\":0,\"delay factor\":1.0},\"nameSub\":\"Upper-Level Department Elective\",\"id\":28,\"credits\":3,\"nameCanonical\":\"\"},{\"curriculum_requisites\":[{\"source_id\":11,\"target_id\":17,\"type\":\"CurriculumPrerequisite\"}],\"name\":\"EGS 3072\",\"metrics\":{\"centrality\":0,\"complexity\":3.0,\"blocking factor\":0,\"delay factor\":3.0},\"nameSub\":\"Professional Formation of Engineers III\",\"id\":17,\"credits\":1,\"nameCanonical\":\"\"},{\"curriculum_requisites\":[],\"name\":\" \",\"metrics\":{\"centrality\":0,\"complexity\":1.0,\"blocking factor\":0,\"delay factor\":1.0},\"nameSub\":\"EE Core Technical Elective\",\"id\":13,\"credits\":3,\"nameCanonical\":\"\"},{\"curriculum_requisites\":[],\"name\":\"EEL 4906\",\"metrics\":{\"centrality\":0,\"complexity\":3.0,\"blocking factor\":1,\"delay factor\":2.0},\"nameSub\":\"EE Design 1\",\"id\":26904,\"credits\":3,\"nameCanonical\":\"\"},{\"curriculum_requisites\":[],\"name\":\" \",\"metrics\":{\"centrality\":0,\"complexity\":1.0,\"blocking factor\":0,\"delay factor\":1.0},\"nameSub\":\"Upper-Level Department Elective\",\"id\":25,\"credits\":3,\"nameCanonical\":\"\"},{\"curriculum_requisites\":[{\"source_id\":24974,\"target_id\":29988,\"type\":\"CurriculumPrerequisite\"}],\"name\":\"EEL 3163C\",\"metrics\":{\"centrality\":0,\"complexity\":2.0,\"blocking factor\":0,\"delay factor\":2.0},\"nameSub\":\"Computer Tool Lab\",\"id\":29988,\"credits\":1,\"nameCanonical\":\"\"},{\"curriculum_requisites\":[],\"name\":\" \",\"metrics\":{\"centrality\":0,\"complexity\":1.0,\"blocking factor\":0,\"delay factor\":1.0},\"nameSub\":\"EE Core Technical Elective\",\"id\":10,\"credits\":3,\"nameCanonical\":\"\"}],\"id\":8},{\"name\":\"Term 9\",\"curriculum_items\":[{\"curriculum_requisites\":[{\"source_id\":27967,\"target_id\":29920,\"type\":\"CurriculumPrerequisite\"},{\"source_id\":25357,\"target_id\":29920,\"type\":\"CurriculumPrerequisite\"}],\"name\":\"EEL 3472C\",\"metrics\":{\"centrality\":0,\"complexity\":6.0,\"blocking factor\":0,\"delay factor\":6.0},\"nameSub\":\"Electrical Engineering Science II - Electromagnetics\",\"id\":29920,\"credits\":4,\"nameCanonical\":\"\"},{\"curriculum_requisites\":[],\"name\":\" \",\"metrics\":{\"centrality\":0,\"complexity\":1.0,\"blocking factor\":0,\"delay factor\":1.0},\"nameSub\":\"Upper-Level Department Elective Lab\",\"id\":18,\"credits\":1,\"nameCanonical\":\"\"},{\"curriculum_requisites\":[{\"source_id\":23747,\"target_id\":26896,\"type\":\"CurriculumPrerequisite\"}],\"name\":\"EEL 3705L\",\"metrics\":{\"centrality\":0,\"complexity\":2.0,\"blocking factor\":0,\"delay factor\":2.0},\"nameSub\":\"Fundamentals of Digital Circuits Laboratory\",\"id\":26896,\"credits\":1,\"nameCanonical\":\"\"},{\"curriculum_requisites\":[{\"source_id\":26904,\"target_id\":27855,\"type\":\"CurriculumPrerequisite\"}],\"name\":\"EEL 4914\",\"metrics\":{\"centrality\":0,\"complexity\":2.0,\"blocking factor\":0,\"delay factor\":2.0},\"nameSub\":\"EE Design 2\",\"id\":27855,\"credits\":3,\"nameCanonical\":\"\"},{\"curriculum_requisites\":[],\"name\":\" \",\"metrics\":{\"centrality\":0,\"complexity\":1.0,\"blocking factor\":0,\"delay factor\":1.0},\"nameSub\":\"EE Track Elective Lab\",\"id\":16,\"credits\":1,\"nameCanonical\":\"\"},{\"curriculum_requisites\":[],\"name\":\" \",\"metrics\":{\"centrality\":0,\"complexity\":1.0,\"blocking factor\":0,\"delay factor\":1.0},\"nameSub\":\"EE Track Elective\",\"id\":23,\"credits\":3,\"nameCanonical\":\"\"},{\"curriculum_requisites\":[],\"name\":\" \",\"metrics\":{\"centrality\":0,\"complexity\":1.0,\"blocking factor\":0,\"delay factor\":1.0},\"nameSub\":\"Upper-Level Department Elective\",\"id\":27,\"credits\":3,\"nameCanonical\":\"\"}],\"id\":9}],\"institution\":\"USF\"}},\"*\"); window.removeEventListener(\"message\",window.messageReceived); window.messageReceived=(function (event){return (event.data.curriculum!==undefined) ? (WebIO.setval({\"name\":\"curriculum-data\",\"scope\":\"4637880687143456970\",\"id\":\"16574607799817359985\",\"type\":\"observable\"},event.data.curriculum)) : undefined}); return window.addEventListener(\"message\",window.messageReceived)})"
          },
          "id": "curriculum",
          "src": "https://curricula-api-embed.damoursystems.com/",
          "style": {
           "border": "none",
           "height": "100vh",
           "margin": "0",
           "padding": "0",
           "width": "100%"
          }
         },
         "type": "node"
        }
       ],
       "instanceArgs": {
        "handlers": {},
        "id": "4637880687143456970",
        "imports": {
         "data": [],
         "type": "async_block"
        },
        "mount_callbacks": [],
        "observables": {
         "curriculum-data": {
          "id": "16574607799817359985",
          "sync": true,
          "value": {
           "curriculum": {
            "curriculum_terms": [
             {
              "curriculum_items": [
               {
                "credits": 1,
                "curriculum_requisites": [],
                "id": 25479,
                "metrics": {
                 "blocking factor": 2,
                 "centrality": 0,
                 "complexity": 5,
                 "delay factor": 3
                },
                "name": "CHM/CHS 2045/2440L",
                "nameCanonical": "",
                "nameSub": "General Chemistry I/Chem for Engineers Laboratory"
               },
               {
                "credits": 3,
                "curriculum_requisites": [],
                "id": 4,
                "metrics": {
                 "blocking factor": 0,
                 "centrality": 0,
                 "complexity": 1,
                 "delay factor": 1
                },
                "name": "SGEH ",
                "nameCanonical": "",
                "nameSub": "State Humanities Gen Ed"
               },
               {
                "credits": 1,
                "curriculum_requisites": [],
                "id": 30,
                "metrics": {
                 "blocking factor": 0,
                 "centrality": 0,
                 "complexity": 1,
                 "delay factor": 1
                },
                "name": " ",
                "nameCanonical": "",
                "nameSub": "General Elective"
               },
               {
                "credits": 5,
                "curriculum_requisites": [],
                "id": 1,
                "metrics": {
                 "blocking factor": 14,
                 "centrality": 0,
                 "complexity": 20,
                 "delay factor": 6
                },
                "name": "ENG 101",
                "nameCanonical": "",
                "nameSub": "Engineering 101"
               },
               {
                "credits": 3,
                "curriculum_requisites": [],
                "id": 23525,
                "metrics": {
                 "blocking factor": 1,
                 "centrality": 0,
                 "complexity": 3,
                 "delay factor": 2
                },
                "name": "ENC 1101",
                "nameCanonical": "",
                "nameSub": "Composition I"
               },
               {
                "credits": 0,
                "curriculum_requisites": [],
                "id": 28172,
                "metrics": {
                 "blocking factor": 0,
                 "centrality": 0,
                 "complexity": 1,
                 "delay factor": 1
                },
                "name": "EGN 3000",
                "nameCanonical": "",
                "nameSub": "Foundations of Engineering"
               },
               {
                "credits": 1,
                "curriculum_requisites": [],
                "id": 6,
                "metrics": {
                 "blocking factor": 2,
                 "centrality": 0,
                 "complexity": 5,
                 "delay factor": 3
                },
                "name": "EGS 2070",
                "nameCanonical": "",
                "nameSub": "Professional Formation of Engineers I"
               },
               {
                "credits": 3,
                "curriculum_requisites": [],
                "id": 29,
                "metrics": {
                 "blocking factor": 0,
                 "centrality": 0,
                 "complexity": 1,
                 "delay factor": 1
                },
                "name": " ",
                "nameCanonical": "",
                "nameSub": "General Elective"
               }
              ],
              "id": 1,
              "name": "Term 1"
             },
             {
              "curriculum_items": [
               {
                "credits": 3,
                "curriculum_requisites": [],
                "id": 23747,
                "metrics": {
                 "blocking factor": 1,
                 "centrality": 0,
                 "complexity": 3,
                 "delay factor": 2
                },
                "name": "EEL 3705",
                "nameCanonical": "",
                "nameSub": "Fundamentals of Digital Circuits"
               },
               {
                "credits": 3,
                "curriculum_requisites": [],
                "id": 31,
                "metrics": {
                 "blocking factor": 0,
                 "centrality": 0,
                 "complexity": 1,
                 "delay factor": 1
                },
                "name": "SGES ",
                "nameCanonical": "",
                "nameSub": "State Social Science Gen Ed"
               },
               {
                "credits": 4,
                "curriculum_requisites": [
                 {
                  "source_id": 1,
                  "target_id": 24950,
                  "type": "CurriculumPrerequisite"
                 }
                ],
                "id": 24950,
                "metrics": {
                 "blocking factor": 10,
                 "centrality": 33,
                 "complexity": 16,
                 "delay factor": 6
                },
                "name": "MAC 2281",
                "nameCanonical": "",
                "nameSub": "Engineering Calculus I"
               },
               {
                "credits": 3,
                "curriculum_requisites": [],
                "id": 27719,
                "metrics": {
                 "blocking factor": 0,
                 "centrality": 0,
                 "complexity": 1,
                 "delay factor": 1
                },
                "name": "ENC 3246",
                "nameCanonical": "",
                "nameSub": "Communication for Engineers"
               },
               {
                "credits": 3,
                "curriculum_requisites": [
                 {
                  "source_id": 1,
                  "target_id": 25981,
                  "type": "CurriculumPrerequisite"
                 }
                ],
                "id": 25981,
                "metrics": {
                 "blocking factor": 3,
                 "centrality": 7,
                 "complexity": 7,
                 "delay factor": 4
                },
                "name": "EGN 3373",
                "nameCanonical": "",
                "nameSub": "Introduction to Electrical Systems I"
               }
              ],
              "id": 2,
              "name": "Term 2"
             },
             {
              "curriculum_items": [
               {
                "credits": 1,
                "curriculum_requisites": [
                 {
                  "source_id": 6,
                  "target_id": 11,
                  "type": "CurriculumPrerequisite"
                 }
                ],
                "id": 11,
                "metrics": {
                 "blocking factor": 1,
                 "centrality": 3,
                 "complexity": 4,
                 "delay factor": 3
                },
                "name": "EGS 3071",
                "nameCanonical": "",
                "nameSub": "Professional Formation of Engineers II"
               },
               {
                "credits": 3,
                "curriculum_requisites": [],
                "id": 24974,
                "metrics": {
                 "blocking factor": 1,
                 "centrality": 0,
                 "complexity": 3,
                 "delay factor": 2
                },
                "name": "EEL 2161",
                "nameCanonical": "",
                "nameSub": "Programming with C"
               },
               {
                "credits": 3,
                "curriculum_requisites": [
                 {
                  "source_id": 23525,
                  "target_id": 23526,
                  "type": "CurriculumPrerequisite"
                 }
                ],
                "id": 23526,
                "metrics": {
                 "blocking factor": 0,
                 "centrality": 0,
                 "complexity": 2,
                 "delay factor": 2
                },
                "name": "ENC 1102",
                "nameCanonical": "",
                "nameSub": "Composition II"
               },
               {
                "credits": 3,
                "curriculum_requisites": [
                 {
                  "source_id": 24950,
                  "target_id": 26014,
                  "type": "CurriculumPrerequisite"
                 }
                ],
                "id": 26014,
                "metrics": {
                 "blocking factor": 2,
                 "centrality": 5,
                 "complexity": 7,
                 "delay factor": 5
                },
                "name": "PHY 2048",
                "nameCanonical": "",
                "nameSub": "General Physics I - Calculus Based"
               },
               {
                "credits": 1,
                "curriculum_requisites": [
                 {
                  "source_id": 24950,
                  "target_id": 26015,
                  "type": "CurriculumPrerequisite"
                 }
                ],
                "id": 26015,
                "metrics": {
                 "blocking factor": 0,
                 "centrality": 0,
                 "complexity": 3,
                 "delay factor": 3
                },
                "name": "PHY 2048L",
                "nameCanonical": "",
                "nameSub": "General Physics I Laboratory"
               },
               {
                "credits": 4,
                "curriculum_requisites": [
                 {
                  "source_id": 24950,
                  "target_id": 24951,
                  "type": "CurriculumPrerequisite"
                 }
                ],
                "id": 24951,
                "metrics": {
                 "blocking factor": 7,
                 "centrality": 25,
                 "complexity": 13,
                 "delay factor": 6
                },
                "name": "MAC 2282",
                "nameCanonical": "",
                "nameSub": "Engineering Calculus II"
               }
              ],
              "id": 3,
              "name": "Term 3"
             },
             {
              "curriculum_items": [
               {
                "credits": 3,
                "curriculum_requisites": [],
                "id": 24859,
                "metrics": {
                 "blocking factor": 0,
                 "centrality": 0,
                 "complexity": 1,
                 "delay factor": 1
                },
                "name": "EGN 3615",
                "nameCanonical": "",
                "nameSub": "Engineering Economics with Social and Global Implications"
               },
               {
                "credits": 4,
                "curriculum_requisites": [
                 {
                  "source_id": 24951,
                  "target_id": 24952,
                  "type": "CurriculumPrerequisite"
                 }
                ],
                "id": 24952,
                "metrics": {
                 "blocking factor": 3,
                 "centrality": 11,
                 "complexity": 9,
                 "delay factor": 6
                },
                "name": "MAC 2283",
                "nameCanonical": "",
                "nameSub": "Engineering Calculus III"
               },
               {
                "credits": 3,
                "curriculum_requisites": [],
                "id": 12,
                "metrics": {
                 "blocking factor": 0,
                 "centrality": 0,
                 "complexity": 1,
                 "delay factor": 1
                },
                "name": " ",
                "nameCanonical": "",
                "nameSub": "EE Core Technical Elective"
               },
               {
                "credits": 3,
                "curriculum_requisites": [],
                "id": 14,
                "metrics": {
                 "blocking factor": 0,
                 "centrality": 0,
                 "complexity": 1,
                 "delay factor": 1
                },
                "name": " ",
                "nameCanonical": "",
                "nameSub": "EE Track Elective"
               },
               {
                "credits": 3,
                "curriculum_requisites": [
                 {
                  "source_id": 24952,
                  "target_id": 27967,
                  "type": "CurriculumCorequisite"
                 },
                 {
                  "source_id": 25479,
                  "target_id": 27967,
                  "type": "CurriculumPrerequisite"
                 },
                 {
                  "source_id": 26014,
                  "target_id": 27967,
                  "type": "CurriculumPrerequisite"
                 }
                ],
                "id": 27967,
                "metrics": {
                 "blocking factor": 1,
                 "centrality": 14,
                 "complexity": 7,
                 "delay factor": 6
                },
                "name": "EEE 3394",
                "nameCanonical": "",
                "nameSub": "Electrical Engineering Science I - Electronic Materials"
               },
               {
                "credits": 3,
                "curriculum_requisites": [],
                "id": 25478,
                "metrics": {
                 "blocking factor": 0,
                 "centrality": 0,
                 "complexity": 1,
                 "delay factor": 1
                },
                "name": "CHM/CHS 2045/2440",
                "nameCanonical": "",
                "nameSub": "General Chemistry I/Chem for Engineers "
               }
              ],
              "id": 4,
              "name": "Term 4"
             },
             {
              "curriculum_items": [
               {
                "credits": 4,
                "curriculum_requisites": [
                 {
                  "source_id": 24951,
                  "target_id": 25357,
                  "type": "CurriculumPrerequisite"
                 }
                ],
                "id": 25357,
                "metrics": {
                 "blocking factor": 2,
                 "centrality": 10,
                 "complexity": 7,
                 "delay factor": 5
                },
                "name": "EGN 3420",
                "nameCanonical": "",
                "nameSub": "Engineering Analysis"
               },
               {
                "credits": 3,
                "curriculum_requisites": [],
                "id": 9,
                "metrics": {
                 "blocking factor": 0,
                 "centrality": 0,
                 "complexity": 1,
                 "delay factor": 1
                },
                "name": " ",
                "nameCanonical": "",
                "nameSub": "EE Core Technical Elective"
               },
               {
                "credits": 3,
                "curriculum_requisites": [
                 {
                  "source_id": 25981,
                  "target_id": 27018,
                  "type": "CurriculumPrerequisite"
                 }
                ],
                "id": 27018,
                "metrics": {
                 "blocking factor": 1,
                 "centrality": 4,
                 "complexity": 5,
                 "delay factor": 4
                },
                "name": "EGN 3374",
                "nameCanonical": "",
                "nameSub": "Introduction to Electrical Systems II"
               },
               {
                "credits": 3,
                "curriculum_requisites": [
                 {
                  "source_id": 24951,
                  "target_id": 25983,
                  "type": "CurriculumPrerequisite"
                 }
                ],
                "id": 25983,
                "metrics": {
                 "blocking factor": 0,
                 "centrality": 0,
                 "complexity": 4,
                 "delay factor": 4
                },
                "name": "EGN 3443",
                "nameCanonical": "",
                "nameSub": "Probability and Statistics for Engineers"
               },
               {
                "credits": 3,
                "curriculum_requisites": [],
                "id": 23287,
                "metrics": {
                 "blocking factor": 0,
                 "centrality": 0,
                 "complexity": 1,
                 "delay factor": 1
                },
                "name": "EGN 3000L",
                "nameCanonical": "",
                "nameSub": "Foundations of Engineering Lab"
               }
              ],
              "id": 5,
              "name": "Term 5"
             },
             {
              "curriculum_items": [
               {
                "credits": 3,
                "curriculum_requisites": [
                 {
                  "source_id": 24952,
                  "target_id": 24959,
                  "type": "CurriculumPrerequisite"
                 }
                ],
                "id": 24959,
                "metrics": {
                 "blocking factor": 0,
                 "centrality": 0,
                 "complexity": 5,
                 "delay factor": 5
                },
                "name": "MAP 2302",
                "nameCanonical": "",
                "nameSub": "Differential Equations"
               },
               {
                "credits": 3,
                "curriculum_requisites": [],
                "id": 21,
                "metrics": {
                 "blocking factor": 0,
                 "centrality": 0,
                 "complexity": 1,
                 "delay factor": 1
                },
                "name": " ",
                "nameCanonical": "",
                "nameSub": "Upper-Level Department Elective"
               },
               {
                "credits": 3,
                "curriculum_requisites": [],
                "id": 22,
                "metrics": {
                 "blocking factor": 0,
                 "centrality": 0,
                 "complexity": 1,
                 "delay factor": 1
                },
                "name": " ",
                "nameCanonical": "",
                "nameSub": "EE Track Elective"
               },
               {
                "credits": 1,
                "curriculum_requisites": [],
                "id": 24,
                "metrics": {
                 "blocking factor": 0,
                 "centrality": 0,
                 "complexity": 1,
                 "delay factor": 1
                },
                "name": " ",
                "nameCanonical": "",
                "nameSub": "EE Track Elective Lab"
               },
               {
                "credits": 1,
                "curriculum_requisites": [
                 {
                  "source_id": 25981,
                  "target_id": 26911,
                  "type": "CurriculumPrerequisite"
                 }
                ],
                "id": 26911,
                "metrics": {
                 "blocking factor": 0,
                 "centrality": 0,
                 "complexity": 3,
                 "delay factor": 3
                },
                "name": "EEL 3115L",
                "nameCanonical": "",
                "nameSub": "Laboratory I"
               },
               {
                "credits": 3,
                "curriculum_requisites": [
                 {
                  "source_id": 25357,
                  "target_id": 25885,
                  "type": "CurriculumPrerequisite"
                 },
                 {
                  "source_id": 27018,
                  "target_id": 25885,
                  "type": "CurriculumPrerequisite"
                 }
                ],
                "id": 25885,
                "metrics": {
                 "blocking factor": 0,
                 "centrality": 0,
                 "complexity": 5,
                 "delay factor": 5
                },
                "name": "EEL 4102",
                "nameCanonical": "",
                "nameSub": "Signals and Systems"
               },
               {
                "credits": 3,
                "curriculum_requisites": [],
                "id": 15,
                "metrics": {
                 "blocking factor": 0,
                 "centrality": 0,
                 "complexity": 1,
                 "delay factor": 1
                },
                "name": " ",
                "nameCanonical": "",
                "nameSub": "EE Track Elective"
               }
              ],
              "id": 6,
              "name": "Term 6"
             },
             {
              "curriculum_items": [
               {
                "credits": 0,
                "curriculum_requisites": [],
                "id": 20,
                "metrics": {
                 "blocking factor": 0,
                 "centrality": 0,
                 "complexity": 1,
                 "delay factor": 1
                },
                "name": " ",
                "nameCanonical": "",
                "nameSub": "Internship/Co-op Participation"
               }
              ],
              "id": 7,
              "name": "Term 7"
             },
             {
              "curriculum_items": [
               {
                "credits": 3,
                "curriculum_requisites": [],
                "id": 28,
                "metrics": {
                 "blocking factor": 0,
                 "centrality": 0,
                 "complexity": 1,
                 "delay factor": 1
                },
                "name": " ",
                "nameCanonical": "",
                "nameSub": "Upper-Level Department Elective"
               },
               {
                "credits": 1,
                "curriculum_requisites": [
                 {
                  "source_id": 11,
                  "target_id": 17,
                  "type": "CurriculumPrerequisite"
                 }
                ],
                "id": 17,
                "metrics": {
                 "blocking factor": 0,
                 "centrality": 0,
                 "complexity": 3,
                 "delay factor": 3
                },
                "name": "EGS 3072",
                "nameCanonical": "",
                "nameSub": "Professional Formation of Engineers III"
               },
               {
                "credits": 3,
                "curriculum_requisites": [],
                "id": 13,
                "metrics": {
                 "blocking factor": 0,
                 "centrality": 0,
                 "complexity": 1,
                 "delay factor": 1
                },
                "name": " ",
                "nameCanonical": "",
                "nameSub": "EE Core Technical Elective"
               },
               {
                "credits": 3,
                "curriculum_requisites": [],
                "id": 26904,
                "metrics": {
                 "blocking factor": 1,
                 "centrality": 0,
                 "complexity": 3,
                 "delay factor": 2
                },
                "name": "EEL 4906",
                "nameCanonical": "",
                "nameSub": "EE Design 1"
               },
               {
                "credits": 3,
                "curriculum_requisites": [],
                "id": 25,
                "metrics": {
                 "blocking factor": 0,
                 "centrality": 0,
                 "complexity": 1,
                 "delay factor": 1
                },
                "name": " ",
                "nameCanonical": "",
                "nameSub": "Upper-Level Department Elective"
               },
               {
                "credits": 1,
                "curriculum_requisites": [
                 {
                  "source_id": 24974,
                  "target_id": 29988,
                  "type": "CurriculumPrerequisite"
                 }
                ],
                "id": 29988,
                "metrics": {
                 "blocking factor": 0,
                 "centrality": 0,
                 "complexity": 2,
                 "delay factor": 2
                },
                "name": "EEL 3163C",
                "nameCanonical": "",
                "nameSub": "Computer Tool Lab"
               },
               {
                "credits": 3,
                "curriculum_requisites": [],
                "id": 10,
                "metrics": {
                 "blocking factor": 0,
                 "centrality": 0,
                 "complexity": 1,
                 "delay factor": 1
                },
                "name": " ",
                "nameCanonical": "",
                "nameSub": "EE Core Technical Elective"
               }
              ],
              "id": 8,
              "name": "Term 8"
             },
             {
              "curriculum_items": [
               {
                "credits": 4,
                "curriculum_requisites": [
                 {
                  "source_id": 27967,
                  "target_id": 29920,
                  "type": "CurriculumPrerequisite"
                 },
                 {
                  "source_id": 25357,
                  "target_id": 29920,
                  "type": "CurriculumPrerequisite"
                 }
                ],
                "id": 29920,
                "metrics": {
                 "blocking factor": 0,
                 "centrality": 0,
                 "complexity": 6,
                 "delay factor": 6
                },
                "name": "EEL 3472C",
                "nameCanonical": "",
                "nameSub": "Electrical Engineering Science II - Electromagnetics"
               },
               {
                "credits": 1,
                "curriculum_requisites": [],
                "id": 18,
                "metrics": {
                 "blocking factor": 0,
                 "centrality": 0,
                 "complexity": 1,
                 "delay factor": 1
                },
                "name": " ",
                "nameCanonical": "",
                "nameSub": "Upper-Level Department Elective Lab"
               },
               {
                "credits": 1,
                "curriculum_requisites": [
                 {
                  "source_id": 23747,
                  "target_id": 26896,
                  "type": "CurriculumPrerequisite"
                 }
                ],
                "id": 26896,
                "metrics": {
                 "blocking factor": 0,
                 "centrality": 0,
                 "complexity": 2,
                 "delay factor": 2
                },
                "name": "EEL 3705L",
                "nameCanonical": "",
                "nameSub": "Fundamentals of Digital Circuits Laboratory"
               },
               {
                "credits": 3,
                "curriculum_requisites": [
                 {
                  "source_id": 26904,
                  "target_id": 27855,
                  "type": "CurriculumPrerequisite"
                 }
                ],
                "id": 27855,
                "metrics": {
                 "blocking factor": 0,
                 "centrality": 0,
                 "complexity": 2,
                 "delay factor": 2
                },
                "name": "EEL 4914",
                "nameCanonical": "",
                "nameSub": "EE Design 2"
               },
               {
                "credits": 1,
                "curriculum_requisites": [],
                "id": 16,
                "metrics": {
                 "blocking factor": 0,
                 "centrality": 0,
                 "complexity": 1,
                 "delay factor": 1
                },
                "name": " ",
                "nameCanonical": "",
                "nameSub": "EE Track Elective Lab"
               },
               {
                "credits": 3,
                "curriculum_requisites": [],
                "id": 23,
                "metrics": {
                 "blocking factor": 0,
                 "centrality": 0,
                 "complexity": 1,
                 "delay factor": 1
                },
                "name": " ",
                "nameCanonical": "",
                "nameSub": "EE Track Elective"
               },
               {
                "credits": 3,
                "curriculum_requisites": [],
                "id": 27,
                "metrics": {
                 "blocking factor": 0,
                 "centrality": 0,
                 "complexity": 1,
                 "delay factor": 1
                },
                "name": " ",
                "nameCanonical": "",
                "nameSub": "Upper-Level Department Elective"
               }
              ],
              "id": 9,
              "name": "Term 9"
             }
            ],
            "dp_name": "Starting w/ ENG 101",
            "institution": "USF",
            "name": "BSEE-Electrical Engineering "
           },
           "options": {
            "edit": false,
            "hideTerms": false
           }
          }
         }
        },
        "systemjs_options": null
       },
       "nodeType": "Scope",
       "props": {},
       "type": "node"
      },
      "text/html": [
       "<div\n",
       "    class=\"webio-mountpoint\"\n",
       "    data-webio-mountpoint=\"1834951403415911848\"\n",
       ">\n",
       "    <script>\n",
       "    if (window.require && require.defined && require.defined(\"nbextensions/webio-jupyter-notebook\")) {\n",
       "        console.log(\"Jupyter WebIO extension detected, not mounting.\");\n",
       "    } else if (window.WebIO) {\n",
       "        WebIO.mount(\n",
       "            document.querySelector('[data-webio-mountpoint=\"1834951403415911848\"]'),\n",
       "            {\"props\":{},\"nodeType\":\"Scope\",\"type\":\"node\",\"instanceArgs\":{\"imports\":{\"data\":[],\"type\":\"async_block\"},\"id\":\"4637880687143456970\",\"handlers\":{},\"systemjs_options\":null,\"mount_callbacks\":[],\"observables\":{\"curriculum-data\":{\"sync\":true,\"id\":\"16574607799817359985\",\"value\":{\"options\":{\"hideTerms\":false,\"edit\":false},\"curriculum\":{\"name\":\"BSEE-Electrical Engineering \",\"dp_name\":\"Starting w\\/ ENG 101\",\"curriculum_terms\":[{\"name\":\"Term 1\",\"curriculum_items\":[{\"curriculum_requisites\":[],\"name\":\"CHM\\/CHS 2045\\/2440L\",\"metrics\":{\"centrality\":0,\"complexity\":5.0,\"blocking factor\":2,\"delay factor\":3.0},\"nameSub\":\"General Chemistry I\\/Chem for Engineers Laboratory\",\"id\":25479,\"credits\":1,\"nameCanonical\":\"\"},{\"curriculum_requisites\":[],\"name\":\"SGEH \",\"metrics\":{\"centrality\":0,\"complexity\":1.0,\"blocking factor\":0,\"delay factor\":1.0},\"nameSub\":\"State Humanities Gen Ed\",\"id\":4,\"credits\":3,\"nameCanonical\":\"\"},{\"curriculum_requisites\":[],\"name\":\" \",\"metrics\":{\"centrality\":0,\"complexity\":1.0,\"blocking factor\":0,\"delay factor\":1.0},\"nameSub\":\"General Elective\",\"id\":30,\"credits\":1,\"nameCanonical\":\"\"},{\"curriculum_requisites\":[],\"name\":\"ENG 101\",\"metrics\":{\"centrality\":0,\"complexity\":20.0,\"blocking factor\":14,\"delay factor\":6.0},\"nameSub\":\"Engineering 101\",\"id\":1,\"credits\":5,\"nameCanonical\":\"\"},{\"curriculum_requisites\":[],\"name\":\"ENC 1101\",\"metrics\":{\"centrality\":0,\"complexity\":3.0,\"blocking factor\":1,\"delay factor\":2.0},\"nameSub\":\"Composition I\",\"id\":23525,\"credits\":3,\"nameCanonical\":\"\"},{\"curriculum_requisites\":[],\"name\":\"EGN 3000\",\"metrics\":{\"centrality\":0,\"complexity\":1.0,\"blocking factor\":0,\"delay factor\":1.0},\"nameSub\":\"Foundations of Engineering\",\"id\":28172,\"credits\":0,\"nameCanonical\":\"\"},{\"curriculum_requisites\":[],\"name\":\"EGS 2070\",\"metrics\":{\"centrality\":0,\"complexity\":5.0,\"blocking factor\":2,\"delay factor\":3.0},\"nameSub\":\"Professional Formation of Engineers I\",\"id\":6,\"credits\":1,\"nameCanonical\":\"\"},{\"curriculum_requisites\":[],\"name\":\" \",\"metrics\":{\"centrality\":0,\"complexity\":1.0,\"blocking factor\":0,\"delay factor\":1.0},\"nameSub\":\"General Elective\",\"id\":29,\"credits\":3,\"nameCanonical\":\"\"}],\"id\":1},{\"name\":\"Term 2\",\"curriculum_items\":[{\"curriculum_requisites\":[],\"name\":\"EEL 3705\",\"metrics\":{\"centrality\":0,\"complexity\":3.0,\"blocking factor\":1,\"delay factor\":2.0},\"nameSub\":\"Fundamentals of Digital Circuits\",\"id\":23747,\"credits\":3,\"nameCanonical\":\"\"},{\"curriculum_requisites\":[],\"name\":\"SGES \",\"metrics\":{\"centrality\":0,\"complexity\":1.0,\"blocking factor\":0,\"delay factor\":1.0},\"nameSub\":\"State Social Science Gen Ed\",\"id\":31,\"credits\":3,\"nameCanonical\":\"\"},{\"curriculum_requisites\":[{\"source_id\":1,\"target_id\":24950,\"type\":\"CurriculumPrerequisite\"}],\"name\":\"MAC 2281\",\"metrics\":{\"centrality\":33,\"complexity\":16.0,\"blocking factor\":10,\"delay factor\":6.0},\"nameSub\":\"Engineering Calculus I\",\"id\":24950,\"credits\":4,\"nameCanonical\":\"\"},{\"curriculum_requisites\":[],\"name\":\"ENC 3246\",\"metrics\":{\"centrality\":0,\"complexity\":1.0,\"blocking factor\":0,\"delay factor\":1.0},\"nameSub\":\"Communication for Engineers\",\"id\":27719,\"credits\":3,\"nameCanonical\":\"\"},{\"curriculum_requisites\":[{\"source_id\":1,\"target_id\":25981,\"type\":\"CurriculumPrerequisite\"}],\"name\":\"EGN 3373\",\"metrics\":{\"centrality\":7,\"complexity\":7.0,\"blocking factor\":3,\"delay factor\":4.0},\"nameSub\":\"Introduction to Electrical Systems I\",\"id\":25981,\"credits\":3,\"nameCanonical\":\"\"}],\"id\":2},{\"name\":\"Term 3\",\"curriculum_items\":[{\"curriculum_requisites\":[{\"source_id\":6,\"target_id\":11,\"type\":\"CurriculumPrerequisite\"}],\"name\":\"EGS 3071\",\"metrics\":{\"centrality\":3,\"complexity\":4.0,\"blocking factor\":1,\"delay factor\":3.0},\"nameSub\":\"Professional Formation of Engineers II\",\"id\":11,\"credits\":1,\"nameCanonical\":\"\"},{\"curriculum_requisites\":[],\"name\":\"EEL 2161\",\"metrics\":{\"centrality\":0,\"complexity\":3.0,\"blocking factor\":1,\"delay factor\":2.0},\"nameSub\":\"Programming with C\",\"id\":24974,\"credits\":3,\"nameCanonical\":\"\"},{\"curriculum_requisites\":[{\"source_id\":23525,\"target_id\":23526,\"type\":\"CurriculumPrerequisite\"}],\"name\":\"ENC 1102\",\"metrics\":{\"centrality\":0,\"complexity\":2.0,\"blocking factor\":0,\"delay factor\":2.0},\"nameSub\":\"Composition II\",\"id\":23526,\"credits\":3,\"nameCanonical\":\"\"},{\"curriculum_requisites\":[{\"source_id\":24950,\"target_id\":26014,\"type\":\"CurriculumPrerequisite\"}],\"name\":\"PHY 2048\",\"metrics\":{\"centrality\":5,\"complexity\":7.0,\"blocking factor\":2,\"delay factor\":5.0},\"nameSub\":\"General Physics I - Calculus Based\",\"id\":26014,\"credits\":3,\"nameCanonical\":\"\"},{\"curriculum_requisites\":[{\"source_id\":24950,\"target_id\":26015,\"type\":\"CurriculumPrerequisite\"}],\"name\":\"PHY 2048L\",\"metrics\":{\"centrality\":0,\"complexity\":3.0,\"blocking factor\":0,\"delay factor\":3.0},\"nameSub\":\"General Physics I Laboratory\",\"id\":26015,\"credits\":1,\"nameCanonical\":\"\"},{\"curriculum_requisites\":[{\"source_id\":24950,\"target_id\":24951,\"type\":\"CurriculumPrerequisite\"}],\"name\":\"MAC 2282\",\"metrics\":{\"centrality\":25,\"complexity\":13.0,\"blocking factor\":7,\"delay factor\":6.0},\"nameSub\":\"Engineering Calculus II\",\"id\":24951,\"credits\":4,\"nameCanonical\":\"\"}],\"id\":3},{\"name\":\"Term 4\",\"curriculum_items\":[{\"curriculum_requisites\":[],\"name\":\"EGN 3615\",\"metrics\":{\"centrality\":0,\"complexity\":1.0,\"blocking factor\":0,\"delay factor\":1.0},\"nameSub\":\"Engineering Economics with Social and Global Implications\",\"id\":24859,\"credits\":3,\"nameCanonical\":\"\"},{\"curriculum_requisites\":[{\"source_id\":24951,\"target_id\":24952,\"type\":\"CurriculumPrerequisite\"}],\"name\":\"MAC 2283\",\"metrics\":{\"centrality\":11,\"complexity\":9.0,\"blocking factor\":3,\"delay factor\":6.0},\"nameSub\":\"Engineering Calculus III\",\"id\":24952,\"credits\":4,\"nameCanonical\":\"\"},{\"curriculum_requisites\":[],\"name\":\" \",\"metrics\":{\"centrality\":0,\"complexity\":1.0,\"blocking factor\":0,\"delay factor\":1.0},\"nameSub\":\"EE Core Technical Elective\",\"id\":12,\"credits\":3,\"nameCanonical\":\"\"},{\"curriculum_requisites\":[],\"name\":\" \",\"metrics\":{\"centrality\":0,\"complexity\":1.0,\"blocking factor\":0,\"delay factor\":1.0},\"nameSub\":\"EE Track Elective\",\"id\":14,\"credits\":3,\"nameCanonical\":\"\"},{\"curriculum_requisites\":[{\"source_id\":24952,\"target_id\":27967,\"type\":\"CurriculumCorequisite\"},{\"source_id\":25479,\"target_id\":27967,\"type\":\"CurriculumPrerequisite\"},{\"source_id\":26014,\"target_id\":27967,\"type\":\"CurriculumPrerequisite\"}],\"name\":\"EEE 3394\",\"metrics\":{\"centrality\":14,\"complexity\":7.0,\"blocking factor\":1,\"delay factor\":6.0},\"nameSub\":\"Electrical Engineering Science I - Electronic Materials\",\"id\":27967,\"credits\":3,\"nameCanonical\":\"\"},{\"curriculum_requisites\":[],\"name\":\"CHM\\/CHS 2045\\/2440\",\"metrics\":{\"centrality\":0,\"complexity\":1.0,\"blocking factor\":0,\"delay factor\":1.0},\"nameSub\":\"General Chemistry I\\/Chem for Engineers \",\"id\":25478,\"credits\":3,\"nameCanonical\":\"\"}],\"id\":4},{\"name\":\"Term 5\",\"curriculum_items\":[{\"curriculum_requisites\":[{\"source_id\":24951,\"target_id\":25357,\"type\":\"CurriculumPrerequisite\"}],\"name\":\"EGN 3420\",\"metrics\":{\"centrality\":10,\"complexity\":7.0,\"blocking factor\":2,\"delay factor\":5.0},\"nameSub\":\"Engineering Analysis\",\"id\":25357,\"credits\":4,\"nameCanonical\":\"\"},{\"curriculum_requisites\":[],\"name\":\" \",\"metrics\":{\"centrality\":0,\"complexity\":1.0,\"blocking factor\":0,\"delay factor\":1.0},\"nameSub\":\"EE Core Technical Elective\",\"id\":9,\"credits\":3,\"nameCanonical\":\"\"},{\"curriculum_requisites\":[{\"source_id\":25981,\"target_id\":27018,\"type\":\"CurriculumPrerequisite\"}],\"name\":\"EGN 3374\",\"metrics\":{\"centrality\":4,\"complexity\":5.0,\"blocking factor\":1,\"delay factor\":4.0},\"nameSub\":\"Introduction to Electrical Systems II\",\"id\":27018,\"credits\":3,\"nameCanonical\":\"\"},{\"curriculum_requisites\":[{\"source_id\":24951,\"target_id\":25983,\"type\":\"CurriculumPrerequisite\"}],\"name\":\"EGN 3443\",\"metrics\":{\"centrality\":0,\"complexity\":4.0,\"blocking factor\":0,\"delay factor\":4.0},\"nameSub\":\"Probability and Statistics for Engineers\",\"id\":25983,\"credits\":3,\"nameCanonical\":\"\"},{\"curriculum_requisites\":[],\"name\":\"EGN 3000L\",\"metrics\":{\"centrality\":0,\"complexity\":1.0,\"blocking factor\":0,\"delay factor\":1.0},\"nameSub\":\"Foundations of Engineering Lab\",\"id\":23287,\"credits\":3,\"nameCanonical\":\"\"}],\"id\":5},{\"name\":\"Term 6\",\"curriculum_items\":[{\"curriculum_requisites\":[{\"source_id\":24952,\"target_id\":24959,\"type\":\"CurriculumPrerequisite\"}],\"name\":\"MAP 2302\",\"metrics\":{\"centrality\":0,\"complexity\":5.0,\"blocking factor\":0,\"delay factor\":5.0},\"nameSub\":\"Differential Equations\",\"id\":24959,\"credits\":3,\"nameCanonical\":\"\"},{\"curriculum_requisites\":[],\"name\":\" \",\"metrics\":{\"centrality\":0,\"complexity\":1.0,\"blocking factor\":0,\"delay factor\":1.0},\"nameSub\":\"Upper-Level Department Elective\",\"id\":21,\"credits\":3,\"nameCanonical\":\"\"},{\"curriculum_requisites\":[],\"name\":\" \",\"metrics\":{\"centrality\":0,\"complexity\":1.0,\"blocking factor\":0,\"delay factor\":1.0},\"nameSub\":\"EE Track Elective\",\"id\":22,\"credits\":3,\"nameCanonical\":\"\"},{\"curriculum_requisites\":[],\"name\":\" \",\"metrics\":{\"centrality\":0,\"complexity\":1.0,\"blocking factor\":0,\"delay factor\":1.0},\"nameSub\":\"EE Track Elective Lab\",\"id\":24,\"credits\":1,\"nameCanonical\":\"\"},{\"curriculum_requisites\":[{\"source_id\":25981,\"target_id\":26911,\"type\":\"CurriculumPrerequisite\"}],\"name\":\"EEL 3115L\",\"metrics\":{\"centrality\":0,\"complexity\":3.0,\"blocking factor\":0,\"delay factor\":3.0},\"nameSub\":\"Laboratory I\",\"id\":26911,\"credits\":1,\"nameCanonical\":\"\"},{\"curriculum_requisites\":[{\"source_id\":25357,\"target_id\":25885,\"type\":\"CurriculumPrerequisite\"},{\"source_id\":27018,\"target_id\":25885,\"type\":\"CurriculumPrerequisite\"}],\"name\":\"EEL 4102\",\"metrics\":{\"centrality\":0,\"complexity\":5.0,\"blocking factor\":0,\"delay factor\":5.0},\"nameSub\":\"Signals and Systems\",\"id\":25885,\"credits\":3,\"nameCanonical\":\"\"},{\"curriculum_requisites\":[],\"name\":\" \",\"metrics\":{\"centrality\":0,\"complexity\":1.0,\"blocking factor\":0,\"delay factor\":1.0},\"nameSub\":\"EE Track Elective\",\"id\":15,\"credits\":3,\"nameCanonical\":\"\"}],\"id\":6},{\"name\":\"Term 7\",\"curriculum_items\":[{\"curriculum_requisites\":[],\"name\":\" \",\"metrics\":{\"centrality\":0,\"complexity\":1.0,\"blocking factor\":0,\"delay factor\":1.0},\"nameSub\":\"Internship\\/Co-op Participation\",\"id\":20,\"credits\":0,\"nameCanonical\":\"\"}],\"id\":7},{\"name\":\"Term 8\",\"curriculum_items\":[{\"curriculum_requisites\":[],\"name\":\" \",\"metrics\":{\"centrality\":0,\"complexity\":1.0,\"blocking factor\":0,\"delay factor\":1.0},\"nameSub\":\"Upper-Level Department Elective\",\"id\":28,\"credits\":3,\"nameCanonical\":\"\"},{\"curriculum_requisites\":[{\"source_id\":11,\"target_id\":17,\"type\":\"CurriculumPrerequisite\"}],\"name\":\"EGS 3072\",\"metrics\":{\"centrality\":0,\"complexity\":3.0,\"blocking factor\":0,\"delay factor\":3.0},\"nameSub\":\"Professional Formation of Engineers III\",\"id\":17,\"credits\":1,\"nameCanonical\":\"\"},{\"curriculum_requisites\":[],\"name\":\" \",\"metrics\":{\"centrality\":0,\"complexity\":1.0,\"blocking factor\":0,\"delay factor\":1.0},\"nameSub\":\"EE Core Technical Elective\",\"id\":13,\"credits\":3,\"nameCanonical\":\"\"},{\"curriculum_requisites\":[],\"name\":\"EEL 4906\",\"metrics\":{\"centrality\":0,\"complexity\":3.0,\"blocking factor\":1,\"delay factor\":2.0},\"nameSub\":\"EE Design 1\",\"id\":26904,\"credits\":3,\"nameCanonical\":\"\"},{\"curriculum_requisites\":[],\"name\":\" \",\"metrics\":{\"centrality\":0,\"complexity\":1.0,\"blocking factor\":0,\"delay factor\":1.0},\"nameSub\":\"Upper-Level Department Elective\",\"id\":25,\"credits\":3,\"nameCanonical\":\"\"},{\"curriculum_requisites\":[{\"source_id\":24974,\"target_id\":29988,\"type\":\"CurriculumPrerequisite\"}],\"name\":\"EEL 3163C\",\"metrics\":{\"centrality\":0,\"complexity\":2.0,\"blocking factor\":0,\"delay factor\":2.0},\"nameSub\":\"Computer Tool Lab\",\"id\":29988,\"credits\":1,\"nameCanonical\":\"\"},{\"curriculum_requisites\":[],\"name\":\" \",\"metrics\":{\"centrality\":0,\"complexity\":1.0,\"blocking factor\":0,\"delay factor\":1.0},\"nameSub\":\"EE Core Technical Elective\",\"id\":10,\"credits\":3,\"nameCanonical\":\"\"}],\"id\":8},{\"name\":\"Term 9\",\"curriculum_items\":[{\"curriculum_requisites\":[{\"source_id\":27967,\"target_id\":29920,\"type\":\"CurriculumPrerequisite\"},{\"source_id\":25357,\"target_id\":29920,\"type\":\"CurriculumPrerequisite\"}],\"name\":\"EEL 3472C\",\"metrics\":{\"centrality\":0,\"complexity\":6.0,\"blocking factor\":0,\"delay factor\":6.0},\"nameSub\":\"Electrical Engineering Science II - Electromagnetics\",\"id\":29920,\"credits\":4,\"nameCanonical\":\"\"},{\"curriculum_requisites\":[],\"name\":\" \",\"metrics\":{\"centrality\":0,\"complexity\":1.0,\"blocking factor\":0,\"delay factor\":1.0},\"nameSub\":\"Upper-Level Department Elective Lab\",\"id\":18,\"credits\":1,\"nameCanonical\":\"\"},{\"curriculum_requisites\":[{\"source_id\":23747,\"target_id\":26896,\"type\":\"CurriculumPrerequisite\"}],\"name\":\"EEL 3705L\",\"metrics\":{\"centrality\":0,\"complexity\":2.0,\"blocking factor\":0,\"delay factor\":2.0},\"nameSub\":\"Fundamentals of Digital Circuits Laboratory\",\"id\":26896,\"credits\":1,\"nameCanonical\":\"\"},{\"curriculum_requisites\":[{\"source_id\":26904,\"target_id\":27855,\"type\":\"CurriculumPrerequisite\"}],\"name\":\"EEL 4914\",\"metrics\":{\"centrality\":0,\"complexity\":2.0,\"blocking factor\":0,\"delay factor\":2.0},\"nameSub\":\"EE Design 2\",\"id\":27855,\"credits\":3,\"nameCanonical\":\"\"},{\"curriculum_requisites\":[],\"name\":\" \",\"metrics\":{\"centrality\":0,\"complexity\":1.0,\"blocking factor\":0,\"delay factor\":1.0},\"nameSub\":\"EE Track Elective Lab\",\"id\":16,\"credits\":1,\"nameCanonical\":\"\"},{\"curriculum_requisites\":[],\"name\":\" \",\"metrics\":{\"centrality\":0,\"complexity\":1.0,\"blocking factor\":0,\"delay factor\":1.0},\"nameSub\":\"EE Track Elective\",\"id\":23,\"credits\":3,\"nameCanonical\":\"\"},{\"curriculum_requisites\":[],\"name\":\" \",\"metrics\":{\"centrality\":0,\"complexity\":1.0,\"blocking factor\":0,\"delay factor\":1.0},\"nameSub\":\"Upper-Level Department Elective\",\"id\":27,\"credits\":3,\"nameCanonical\":\"\"}],\"id\":9}],\"institution\":\"USF\"}}}}},\"children\":[{\"props\":{\"src\":\"https:\\/\\/curricula-api-embed.damoursystems.com\\/\",\"id\":\"curriculum\",\"events\":{\"load\":\"(function (){this.contentWindow.postMessage({\\\"options\\\":{\\\"hideTerms\\\":false,\\\"edit\\\":false},\\\"curriculum\\\":{\\\"name\\\":\\\"BSEE-Electrical Engineering \\\",\\\"dp_name\\\":\\\"Starting w\\/ ENG 101\\\",\\\"curriculum_terms\\\":[{\\\"name\\\":\\\"Term 1\\\",\\\"curriculum_items\\\":[{\\\"curriculum_requisites\\\":[],\\\"name\\\":\\\"CHM\\/CHS 2045\\/2440L\\\",\\\"metrics\\\":{\\\"centrality\\\":0,\\\"complexity\\\":5.0,\\\"blocking factor\\\":2,\\\"delay factor\\\":3.0},\\\"nameSub\\\":\\\"General Chemistry I\\/Chem for Engineers Laboratory\\\",\\\"id\\\":25479,\\\"credits\\\":1,\\\"nameCanonical\\\":\\\"\\\"},{\\\"curriculum_requisites\\\":[],\\\"name\\\":\\\"SGEH \\\",\\\"metrics\\\":{\\\"centrality\\\":0,\\\"complexity\\\":1.0,\\\"blocking factor\\\":0,\\\"delay factor\\\":1.0},\\\"nameSub\\\":\\\"State Humanities Gen Ed\\\",\\\"id\\\":4,\\\"credits\\\":3,\\\"nameCanonical\\\":\\\"\\\"},{\\\"curriculum_requisites\\\":[],\\\"name\\\":\\\" \\\",\\\"metrics\\\":{\\\"centrality\\\":0,\\\"complexity\\\":1.0,\\\"blocking factor\\\":0,\\\"delay factor\\\":1.0},\\\"nameSub\\\":\\\"General Elective\\\",\\\"id\\\":30,\\\"credits\\\":1,\\\"nameCanonical\\\":\\\"\\\"},{\\\"curriculum_requisites\\\":[],\\\"name\\\":\\\"ENG 101\\\",\\\"metrics\\\":{\\\"centrality\\\":0,\\\"complexity\\\":20.0,\\\"blocking factor\\\":14,\\\"delay factor\\\":6.0},\\\"nameSub\\\":\\\"Engineering 101\\\",\\\"id\\\":1,\\\"credits\\\":5,\\\"nameCanonical\\\":\\\"\\\"},{\\\"curriculum_requisites\\\":[],\\\"name\\\":\\\"ENC 1101\\\",\\\"metrics\\\":{\\\"centrality\\\":0,\\\"complexity\\\":3.0,\\\"blocking factor\\\":1,\\\"delay factor\\\":2.0},\\\"nameSub\\\":\\\"Composition I\\\",\\\"id\\\":23525,\\\"credits\\\":3,\\\"nameCanonical\\\":\\\"\\\"},{\\\"curriculum_requisites\\\":[],\\\"name\\\":\\\"EGN 3000\\\",\\\"metrics\\\":{\\\"centrality\\\":0,\\\"complexity\\\":1.0,\\\"blocking factor\\\":0,\\\"delay factor\\\":1.0},\\\"nameSub\\\":\\\"Foundations of Engineering\\\",\\\"id\\\":28172,\\\"credits\\\":0,\\\"nameCanonical\\\":\\\"\\\"},{\\\"curriculum_requisites\\\":[],\\\"name\\\":\\\"EGS 2070\\\",\\\"metrics\\\":{\\\"centrality\\\":0,\\\"complexity\\\":5.0,\\\"blocking factor\\\":2,\\\"delay factor\\\":3.0},\\\"nameSub\\\":\\\"Professional Formation of Engineers I\\\",\\\"id\\\":6,\\\"credits\\\":1,\\\"nameCanonical\\\":\\\"\\\"},{\\\"curriculum_requisites\\\":[],\\\"name\\\":\\\" \\\",\\\"metrics\\\":{\\\"centrality\\\":0,\\\"complexity\\\":1.0,\\\"blocking factor\\\":0,\\\"delay factor\\\":1.0},\\\"nameSub\\\":\\\"General Elective\\\",\\\"id\\\":29,\\\"credits\\\":3,\\\"nameCanonical\\\":\\\"\\\"}],\\\"id\\\":1},{\\\"name\\\":\\\"Term 2\\\",\\\"curriculum_items\\\":[{\\\"curriculum_requisites\\\":[],\\\"name\\\":\\\"EEL 3705\\\",\\\"metrics\\\":{\\\"centrality\\\":0,\\\"complexity\\\":3.0,\\\"blocking factor\\\":1,\\\"delay factor\\\":2.0},\\\"nameSub\\\":\\\"Fundamentals of Digital Circuits\\\",\\\"id\\\":23747,\\\"credits\\\":3,\\\"nameCanonical\\\":\\\"\\\"},{\\\"curriculum_requisites\\\":[],\\\"name\\\":\\\"SGES \\\",\\\"metrics\\\":{\\\"centrality\\\":0,\\\"complexity\\\":1.0,\\\"blocking factor\\\":0,\\\"delay factor\\\":1.0},\\\"nameSub\\\":\\\"State Social Science Gen Ed\\\",\\\"id\\\":31,\\\"credits\\\":3,\\\"nameCanonical\\\":\\\"\\\"},{\\\"curriculum_requisites\\\":[{\\\"source_id\\\":1,\\\"target_id\\\":24950,\\\"type\\\":\\\"CurriculumPrerequisite\\\"}],\\\"name\\\":\\\"MAC 2281\\\",\\\"metrics\\\":{\\\"centrality\\\":33,\\\"complexity\\\":16.0,\\\"blocking factor\\\":10,\\\"delay factor\\\":6.0},\\\"nameSub\\\":\\\"Engineering Calculus I\\\",\\\"id\\\":24950,\\\"credits\\\":4,\\\"nameCanonical\\\":\\\"\\\"},{\\\"curriculum_requisites\\\":[],\\\"name\\\":\\\"ENC 3246\\\",\\\"metrics\\\":{\\\"centrality\\\":0,\\\"complexity\\\":1.0,\\\"blocking factor\\\":0,\\\"delay factor\\\":1.0},\\\"nameSub\\\":\\\"Communication for Engineers\\\",\\\"id\\\":27719,\\\"credits\\\":3,\\\"nameCanonical\\\":\\\"\\\"},{\\\"curriculum_requisites\\\":[{\\\"source_id\\\":1,\\\"target_id\\\":25981,\\\"type\\\":\\\"CurriculumPrerequisite\\\"}],\\\"name\\\":\\\"EGN 3373\\\",\\\"metrics\\\":{\\\"centrality\\\":7,\\\"complexity\\\":7.0,\\\"blocking factor\\\":3,\\\"delay factor\\\":4.0},\\\"nameSub\\\":\\\"Introduction to Electrical Systems I\\\",\\\"id\\\":25981,\\\"credits\\\":3,\\\"nameCanonical\\\":\\\"\\\"}],\\\"id\\\":2},{\\\"name\\\":\\\"Term 3\\\",\\\"curriculum_items\\\":[{\\\"curriculum_requisites\\\":[{\\\"source_id\\\":6,\\\"target_id\\\":11,\\\"type\\\":\\\"CurriculumPrerequisite\\\"}],\\\"name\\\":\\\"EGS 3071\\\",\\\"metrics\\\":{\\\"centrality\\\":3,\\\"complexity\\\":4.0,\\\"blocking factor\\\":1,\\\"delay factor\\\":3.0},\\\"nameSub\\\":\\\"Professional Formation of Engineers II\\\",\\\"id\\\":11,\\\"credits\\\":1,\\\"nameCanonical\\\":\\\"\\\"},{\\\"curriculum_requisites\\\":[],\\\"name\\\":\\\"EEL 2161\\\",\\\"metrics\\\":{\\\"centrality\\\":0,\\\"complexity\\\":3.0,\\\"blocking factor\\\":1,\\\"delay factor\\\":2.0},\\\"nameSub\\\":\\\"Programming with C\\\",\\\"id\\\":24974,\\\"credits\\\":3,\\\"nameCanonical\\\":\\\"\\\"},{\\\"curriculum_requisites\\\":[{\\\"source_id\\\":23525,\\\"target_id\\\":23526,\\\"type\\\":\\\"CurriculumPrerequisite\\\"}],\\\"name\\\":\\\"ENC 1102\\\",\\\"metrics\\\":{\\\"centrality\\\":0,\\\"complexity\\\":2.0,\\\"blocking factor\\\":0,\\\"delay factor\\\":2.0},\\\"nameSub\\\":\\\"Composition II\\\",\\\"id\\\":23526,\\\"credits\\\":3,\\\"nameCanonical\\\":\\\"\\\"},{\\\"curriculum_requisites\\\":[{\\\"source_id\\\":24950,\\\"target_id\\\":26014,\\\"type\\\":\\\"CurriculumPrerequisite\\\"}],\\\"name\\\":\\\"PHY 2048\\\",\\\"metrics\\\":{\\\"centrality\\\":5,\\\"complexity\\\":7.0,\\\"blocking factor\\\":2,\\\"delay factor\\\":5.0},\\\"nameSub\\\":\\\"General Physics I - Calculus Based\\\",\\\"id\\\":26014,\\\"credits\\\":3,\\\"nameCanonical\\\":\\\"\\\"},{\\\"curriculum_requisites\\\":[{\\\"source_id\\\":24950,\\\"target_id\\\":26015,\\\"type\\\":\\\"CurriculumPrerequisite\\\"}],\\\"name\\\":\\\"PHY 2048L\\\",\\\"metrics\\\":{\\\"centrality\\\":0,\\\"complexity\\\":3.0,\\\"blocking factor\\\":0,\\\"delay factor\\\":3.0},\\\"nameSub\\\":\\\"General Physics I Laboratory\\\",\\\"id\\\":26015,\\\"credits\\\":1,\\\"nameCanonical\\\":\\\"\\\"},{\\\"curriculum_requisites\\\":[{\\\"source_id\\\":24950,\\\"target_id\\\":24951,\\\"type\\\":\\\"CurriculumPrerequisite\\\"}],\\\"name\\\":\\\"MAC 2282\\\",\\\"metrics\\\":{\\\"centrality\\\":25,\\\"complexity\\\":13.0,\\\"blocking factor\\\":7,\\\"delay factor\\\":6.0},\\\"nameSub\\\":\\\"Engineering Calculus II\\\",\\\"id\\\":24951,\\\"credits\\\":4,\\\"nameCanonical\\\":\\\"\\\"}],\\\"id\\\":3},{\\\"name\\\":\\\"Term 4\\\",\\\"curriculum_items\\\":[{\\\"curriculum_requisites\\\":[],\\\"name\\\":\\\"EGN 3615\\\",\\\"metrics\\\":{\\\"centrality\\\":0,\\\"complexity\\\":1.0,\\\"blocking factor\\\":0,\\\"delay factor\\\":1.0},\\\"nameSub\\\":\\\"Engineering Economics with Social and Global Implications\\\",\\\"id\\\":24859,\\\"credits\\\":3,\\\"nameCanonical\\\":\\\"\\\"},{\\\"curriculum_requisites\\\":[{\\\"source_id\\\":24951,\\\"target_id\\\":24952,\\\"type\\\":\\\"CurriculumPrerequisite\\\"}],\\\"name\\\":\\\"MAC 2283\\\",\\\"metrics\\\":{\\\"centrality\\\":11,\\\"complexity\\\":9.0,\\\"blocking factor\\\":3,\\\"delay factor\\\":6.0},\\\"nameSub\\\":\\\"Engineering Calculus III\\\",\\\"id\\\":24952,\\\"credits\\\":4,\\\"nameCanonical\\\":\\\"\\\"},{\\\"curriculum_requisites\\\":[],\\\"name\\\":\\\" \\\",\\\"metrics\\\":{\\\"centrality\\\":0,\\\"complexity\\\":1.0,\\\"blocking factor\\\":0,\\\"delay factor\\\":1.0},\\\"nameSub\\\":\\\"EE Core Technical Elective\\\",\\\"id\\\":12,\\\"credits\\\":3,\\\"nameCanonical\\\":\\\"\\\"},{\\\"curriculum_requisites\\\":[],\\\"name\\\":\\\" \\\",\\\"metrics\\\":{\\\"centrality\\\":0,\\\"complexity\\\":1.0,\\\"blocking factor\\\":0,\\\"delay factor\\\":1.0},\\\"nameSub\\\":\\\"EE Track Elective\\\",\\\"id\\\":14,\\\"credits\\\":3,\\\"nameCanonical\\\":\\\"\\\"},{\\\"curriculum_requisites\\\":[{\\\"source_id\\\":24952,\\\"target_id\\\":27967,\\\"type\\\":\\\"CurriculumCorequisite\\\"},{\\\"source_id\\\":25479,\\\"target_id\\\":27967,\\\"type\\\":\\\"CurriculumPrerequisite\\\"},{\\\"source_id\\\":26014,\\\"target_id\\\":27967,\\\"type\\\":\\\"CurriculumPrerequisite\\\"}],\\\"name\\\":\\\"EEE 3394\\\",\\\"metrics\\\":{\\\"centrality\\\":14,\\\"complexity\\\":7.0,\\\"blocking factor\\\":1,\\\"delay factor\\\":6.0},\\\"nameSub\\\":\\\"Electrical Engineering Science I - Electronic Materials\\\",\\\"id\\\":27967,\\\"credits\\\":3,\\\"nameCanonical\\\":\\\"\\\"},{\\\"curriculum_requisites\\\":[],\\\"name\\\":\\\"CHM\\/CHS 2045\\/2440\\\",\\\"metrics\\\":{\\\"centrality\\\":0,\\\"complexity\\\":1.0,\\\"blocking factor\\\":0,\\\"delay factor\\\":1.0},\\\"nameSub\\\":\\\"General Chemistry I\\/Chem for Engineers \\\",\\\"id\\\":25478,\\\"credits\\\":3,\\\"nameCanonical\\\":\\\"\\\"}],\\\"id\\\":4},{\\\"name\\\":\\\"Term 5\\\",\\\"curriculum_items\\\":[{\\\"curriculum_requisites\\\":[{\\\"source_id\\\":24951,\\\"target_id\\\":25357,\\\"type\\\":\\\"CurriculumPrerequisite\\\"}],\\\"name\\\":\\\"EGN 3420\\\",\\\"metrics\\\":{\\\"centrality\\\":10,\\\"complexity\\\":7.0,\\\"blocking factor\\\":2,\\\"delay factor\\\":5.0},\\\"nameSub\\\":\\\"Engineering Analysis\\\",\\\"id\\\":25357,\\\"credits\\\":4,\\\"nameCanonical\\\":\\\"\\\"},{\\\"curriculum_requisites\\\":[],\\\"name\\\":\\\" \\\",\\\"metrics\\\":{\\\"centrality\\\":0,\\\"complexity\\\":1.0,\\\"blocking factor\\\":0,\\\"delay factor\\\":1.0},\\\"nameSub\\\":\\\"EE Core Technical Elective\\\",\\\"id\\\":9,\\\"credits\\\":3,\\\"nameCanonical\\\":\\\"\\\"},{\\\"curriculum_requisites\\\":[{\\\"source_id\\\":25981,\\\"target_id\\\":27018,\\\"type\\\":\\\"CurriculumPrerequisite\\\"}],\\\"name\\\":\\\"EGN 3374\\\",\\\"metrics\\\":{\\\"centrality\\\":4,\\\"complexity\\\":5.0,\\\"blocking factor\\\":1,\\\"delay factor\\\":4.0},\\\"nameSub\\\":\\\"Introduction to Electrical Systems II\\\",\\\"id\\\":27018,\\\"credits\\\":3,\\\"nameCanonical\\\":\\\"\\\"},{\\\"curriculum_requisites\\\":[{\\\"source_id\\\":24951,\\\"target_id\\\":25983,\\\"type\\\":\\\"CurriculumPrerequisite\\\"}],\\\"name\\\":\\\"EGN 3443\\\",\\\"metrics\\\":{\\\"centrality\\\":0,\\\"complexity\\\":4.0,\\\"blocking factor\\\":0,\\\"delay factor\\\":4.0},\\\"nameSub\\\":\\\"Probability and Statistics for Engineers\\\",\\\"id\\\":25983,\\\"credits\\\":3,\\\"nameCanonical\\\":\\\"\\\"},{\\\"curriculum_requisites\\\":[],\\\"name\\\":\\\"EGN 3000L\\\",\\\"metrics\\\":{\\\"centrality\\\":0,\\\"complexity\\\":1.0,\\\"blocking factor\\\":0,\\\"delay factor\\\":1.0},\\\"nameSub\\\":\\\"Foundations of Engineering Lab\\\",\\\"id\\\":23287,\\\"credits\\\":3,\\\"nameCanonical\\\":\\\"\\\"}],\\\"id\\\":5},{\\\"name\\\":\\\"Term 6\\\",\\\"curriculum_items\\\":[{\\\"curriculum_requisites\\\":[{\\\"source_id\\\":24952,\\\"target_id\\\":24959,\\\"type\\\":\\\"CurriculumPrerequisite\\\"}],\\\"name\\\":\\\"MAP 2302\\\",\\\"metrics\\\":{\\\"centrality\\\":0,\\\"complexity\\\":5.0,\\\"blocking factor\\\":0,\\\"delay factor\\\":5.0},\\\"nameSub\\\":\\\"Differential Equations\\\",\\\"id\\\":24959,\\\"credits\\\":3,\\\"nameCanonical\\\":\\\"\\\"},{\\\"curriculum_requisites\\\":[],\\\"name\\\":\\\" \\\",\\\"metrics\\\":{\\\"centrality\\\":0,\\\"complexity\\\":1.0,\\\"blocking factor\\\":0,\\\"delay factor\\\":1.0},\\\"nameSub\\\":\\\"Upper-Level Department Elective\\\",\\\"id\\\":21,\\\"credits\\\":3,\\\"nameCanonical\\\":\\\"\\\"},{\\\"curriculum_requisites\\\":[],\\\"name\\\":\\\" \\\",\\\"metrics\\\":{\\\"centrality\\\":0,\\\"complexity\\\":1.0,\\\"blocking factor\\\":0,\\\"delay factor\\\":1.0},\\\"nameSub\\\":\\\"EE Track Elective\\\",\\\"id\\\":22,\\\"credits\\\":3,\\\"nameCanonical\\\":\\\"\\\"},{\\\"curriculum_requisites\\\":[],\\\"name\\\":\\\" \\\",\\\"metrics\\\":{\\\"centrality\\\":0,\\\"complexity\\\":1.0,\\\"blocking factor\\\":0,\\\"delay factor\\\":1.0},\\\"nameSub\\\":\\\"EE Track Elective Lab\\\",\\\"id\\\":24,\\\"credits\\\":1,\\\"nameCanonical\\\":\\\"\\\"},{\\\"curriculum_requisites\\\":[{\\\"source_id\\\":25981,\\\"target_id\\\":26911,\\\"type\\\":\\\"CurriculumPrerequisite\\\"}],\\\"name\\\":\\\"EEL 3115L\\\",\\\"metrics\\\":{\\\"centrality\\\":0,\\\"complexity\\\":3.0,\\\"blocking factor\\\":0,\\\"delay factor\\\":3.0},\\\"nameSub\\\":\\\"Laboratory I\\\",\\\"id\\\":26911,\\\"credits\\\":1,\\\"nameCanonical\\\":\\\"\\\"},{\\\"curriculum_requisites\\\":[{\\\"source_id\\\":25357,\\\"target_id\\\":25885,\\\"type\\\":\\\"CurriculumPrerequisite\\\"},{\\\"source_id\\\":27018,\\\"target_id\\\":25885,\\\"type\\\":\\\"CurriculumPrerequisite\\\"}],\\\"name\\\":\\\"EEL 4102\\\",\\\"metrics\\\":{\\\"centrality\\\":0,\\\"complexity\\\":5.0,\\\"blocking factor\\\":0,\\\"delay factor\\\":5.0},\\\"nameSub\\\":\\\"Signals and Systems\\\",\\\"id\\\":25885,\\\"credits\\\":3,\\\"nameCanonical\\\":\\\"\\\"},{\\\"curriculum_requisites\\\":[],\\\"name\\\":\\\" \\\",\\\"metrics\\\":{\\\"centrality\\\":0,\\\"complexity\\\":1.0,\\\"blocking factor\\\":0,\\\"delay factor\\\":1.0},\\\"nameSub\\\":\\\"EE Track Elective\\\",\\\"id\\\":15,\\\"credits\\\":3,\\\"nameCanonical\\\":\\\"\\\"}],\\\"id\\\":6},{\\\"name\\\":\\\"Term 7\\\",\\\"curriculum_items\\\":[{\\\"curriculum_requisites\\\":[],\\\"name\\\":\\\" \\\",\\\"metrics\\\":{\\\"centrality\\\":0,\\\"complexity\\\":1.0,\\\"blocking factor\\\":0,\\\"delay factor\\\":1.0},\\\"nameSub\\\":\\\"Internship\\/Co-op Participation\\\",\\\"id\\\":20,\\\"credits\\\":0,\\\"nameCanonical\\\":\\\"\\\"}],\\\"id\\\":7},{\\\"name\\\":\\\"Term 8\\\",\\\"curriculum_items\\\":[{\\\"curriculum_requisites\\\":[],\\\"name\\\":\\\" \\\",\\\"metrics\\\":{\\\"centrality\\\":0,\\\"complexity\\\":1.0,\\\"blocking factor\\\":0,\\\"delay factor\\\":1.0},\\\"nameSub\\\":\\\"Upper-Level Department Elective\\\",\\\"id\\\":28,\\\"credits\\\":3,\\\"nameCanonical\\\":\\\"\\\"},{\\\"curriculum_requisites\\\":[{\\\"source_id\\\":11,\\\"target_id\\\":17,\\\"type\\\":\\\"CurriculumPrerequisite\\\"}],\\\"name\\\":\\\"EGS 3072\\\",\\\"metrics\\\":{\\\"centrality\\\":0,\\\"complexity\\\":3.0,\\\"blocking factor\\\":0,\\\"delay factor\\\":3.0},\\\"nameSub\\\":\\\"Professional Formation of Engineers III\\\",\\\"id\\\":17,\\\"credits\\\":1,\\\"nameCanonical\\\":\\\"\\\"},{\\\"curriculum_requisites\\\":[],\\\"name\\\":\\\" \\\",\\\"metrics\\\":{\\\"centrality\\\":0,\\\"complexity\\\":1.0,\\\"blocking factor\\\":0,\\\"delay factor\\\":1.0},\\\"nameSub\\\":\\\"EE Core Technical Elective\\\",\\\"id\\\":13,\\\"credits\\\":3,\\\"nameCanonical\\\":\\\"\\\"},{\\\"curriculum_requisites\\\":[],\\\"name\\\":\\\"EEL 4906\\\",\\\"metrics\\\":{\\\"centrality\\\":0,\\\"complexity\\\":3.0,\\\"blocking factor\\\":1,\\\"delay factor\\\":2.0},\\\"nameSub\\\":\\\"EE Design 1\\\",\\\"id\\\":26904,\\\"credits\\\":3,\\\"nameCanonical\\\":\\\"\\\"},{\\\"curriculum_requisites\\\":[],\\\"name\\\":\\\" \\\",\\\"metrics\\\":{\\\"centrality\\\":0,\\\"complexity\\\":1.0,\\\"blocking factor\\\":0,\\\"delay factor\\\":1.0},\\\"nameSub\\\":\\\"Upper-Level Department Elective\\\",\\\"id\\\":25,\\\"credits\\\":3,\\\"nameCanonical\\\":\\\"\\\"},{\\\"curriculum_requisites\\\":[{\\\"source_id\\\":24974,\\\"target_id\\\":29988,\\\"type\\\":\\\"CurriculumPrerequisite\\\"}],\\\"name\\\":\\\"EEL 3163C\\\",\\\"metrics\\\":{\\\"centrality\\\":0,\\\"complexity\\\":2.0,\\\"blocking factor\\\":0,\\\"delay factor\\\":2.0},\\\"nameSub\\\":\\\"Computer Tool Lab\\\",\\\"id\\\":29988,\\\"credits\\\":1,\\\"nameCanonical\\\":\\\"\\\"},{\\\"curriculum_requisites\\\":[],\\\"name\\\":\\\" \\\",\\\"metrics\\\":{\\\"centrality\\\":0,\\\"complexity\\\":1.0,\\\"blocking factor\\\":0,\\\"delay factor\\\":1.0},\\\"nameSub\\\":\\\"EE Core Technical Elective\\\",\\\"id\\\":10,\\\"credits\\\":3,\\\"nameCanonical\\\":\\\"\\\"}],\\\"id\\\":8},{\\\"name\\\":\\\"Term 9\\\",\\\"curriculum_items\\\":[{\\\"curriculum_requisites\\\":[{\\\"source_id\\\":27967,\\\"target_id\\\":29920,\\\"type\\\":\\\"CurriculumPrerequisite\\\"},{\\\"source_id\\\":25357,\\\"target_id\\\":29920,\\\"type\\\":\\\"CurriculumPrerequisite\\\"}],\\\"name\\\":\\\"EEL 3472C\\\",\\\"metrics\\\":{\\\"centrality\\\":0,\\\"complexity\\\":6.0,\\\"blocking factor\\\":0,\\\"delay factor\\\":6.0},\\\"nameSub\\\":\\\"Electrical Engineering Science II - Electromagnetics\\\",\\\"id\\\":29920,\\\"credits\\\":4,\\\"nameCanonical\\\":\\\"\\\"},{\\\"curriculum_requisites\\\":[],\\\"name\\\":\\\" \\\",\\\"metrics\\\":{\\\"centrality\\\":0,\\\"complexity\\\":1.0,\\\"blocking factor\\\":0,\\\"delay factor\\\":1.0},\\\"nameSub\\\":\\\"Upper-Level Department Elective Lab\\\",\\\"id\\\":18,\\\"credits\\\":1,\\\"nameCanonical\\\":\\\"\\\"},{\\\"curriculum_requisites\\\":[{\\\"source_id\\\":23747,\\\"target_id\\\":26896,\\\"type\\\":\\\"CurriculumPrerequisite\\\"}],\\\"name\\\":\\\"EEL 3705L\\\",\\\"metrics\\\":{\\\"centrality\\\":0,\\\"complexity\\\":2.0,\\\"blocking factor\\\":0,\\\"delay factor\\\":2.0},\\\"nameSub\\\":\\\"Fundamentals of Digital Circuits Laboratory\\\",\\\"id\\\":26896,\\\"credits\\\":1,\\\"nameCanonical\\\":\\\"\\\"},{\\\"curriculum_requisites\\\":[{\\\"source_id\\\":26904,\\\"target_id\\\":27855,\\\"type\\\":\\\"CurriculumPrerequisite\\\"}],\\\"name\\\":\\\"EEL 4914\\\",\\\"metrics\\\":{\\\"centrality\\\":0,\\\"complexity\\\":2.0,\\\"blocking factor\\\":0,\\\"delay factor\\\":2.0},\\\"nameSub\\\":\\\"EE Design 2\\\",\\\"id\\\":27855,\\\"credits\\\":3,\\\"nameCanonical\\\":\\\"\\\"},{\\\"curriculum_requisites\\\":[],\\\"name\\\":\\\" \\\",\\\"metrics\\\":{\\\"centrality\\\":0,\\\"complexity\\\":1.0,\\\"blocking factor\\\":0,\\\"delay factor\\\":1.0},\\\"nameSub\\\":\\\"EE Track Elective Lab\\\",\\\"id\\\":16,\\\"credits\\\":1,\\\"nameCanonical\\\":\\\"\\\"},{\\\"curriculum_requisites\\\":[],\\\"name\\\":\\\" \\\",\\\"metrics\\\":{\\\"centrality\\\":0,\\\"complexity\\\":1.0,\\\"blocking factor\\\":0,\\\"delay factor\\\":1.0},\\\"nameSub\\\":\\\"EE Track Elective\\\",\\\"id\\\":23,\\\"credits\\\":3,\\\"nameCanonical\\\":\\\"\\\"},{\\\"curriculum_requisites\\\":[],\\\"name\\\":\\\" \\\",\\\"metrics\\\":{\\\"centrality\\\":0,\\\"complexity\\\":1.0,\\\"blocking factor\\\":0,\\\"delay factor\\\":1.0},\\\"nameSub\\\":\\\"Upper-Level Department Elective\\\",\\\"id\\\":27,\\\"credits\\\":3,\\\"nameCanonical\\\":\\\"\\\"}],\\\"id\\\":9}],\\\"institution\\\":\\\"USF\\\"}},\\\"*\\\"); window.removeEventListener(\\\"message\\\",window.messageReceived); window.messageReceived=(function (event){return (event.data.curriculum!==undefined) ? (WebIO.setval({\\\"name\\\":\\\"curriculum-data\\\",\\\"scope\\\":\\\"4637880687143456970\\\",\\\"id\\\":\\\"16574607799817359985\\\",\\\"type\\\":\\\"observable\\\"},event.data.curriculum)) : undefined}); return window.addEventListener(\\\"message\\\",window.messageReceived)})\"},\"style\":{\"padding\":\"0\",\"height\":\"100vh\",\"margin\":\"0\",\"border\":\"none\",\"width\":\"100%\"}},\"nodeType\":\"DOM\",\"type\":\"node\",\"instanceArgs\":{\"namespace\":\"html\",\"tag\":\"iframe\"},\"children\":[\"\"]}]},\n",
       "            window,\n",
       "        );\n",
       "    } else {\n",
       "        document\n",
       "            .querySelector('[data-webio-mountpoint=\"1834951403415911848\"]')\n",
       "            .innerHTML = (\n",
       "                '<div style=\"padding: 1em; background-color: #f8d6da; border: 1px solid #f5c6cb\">' +\n",
       "                '<p><strong>WebIO not detected.</strong></p>' +\n",
       "                '<p>Please read ' +\n",
       "                '<a href=\"https://juliagizmos.github.io/WebIO.jl/latest/troubleshooting/not-detected/\" target=\"_blank\">the troubleshooting guide</a> ' +\n",
       "                'for more information on how to resolve this issue.</p>' +\n",
       "                '<p><a href=\"https://juliagizmos.github.io/WebIO.jl/latest/troubleshooting/not-detected/\" target=\"_blank\">https://juliagizmos.github.io/WebIO.jl/latest/troubleshooting/not-detected/</a></p>' +\n",
       "                '</div>'\n",
       "            );\n",
       "    }\n",
       "    </script>\n",
       "</div>\n"
      ],
      "text/plain": [
       "WebIO.Scope(WebIO.Node{WebIO.DOM}(WebIO.DOM(:html, :iframe), Any[\"\"], Dict{Symbol, Any}(:src => \"https://curricula-api-embed.damoursystems.com/\", :id => \"curriculum\", :events => Dict{Symbol, WebIO.JSString}(:load => WebIO.JSString(\"(function (){this.contentWindow.postMessage({\\\"options\\\":{\\\"hideTerms\\\":false,\\\"edit\\\":false},\\\"curriculum\\\":{\\\"name\\\":\\\"BSEE-Electrical Engineering \\\",\\\"dp_name\\\":\\\"Starting w/ ENG 101\\\",\\\"curriculum_terms\\\":[{\\\"name\\\":\\\"Term 1\\\",\\\"curriculum_items\\\":[{\\\"curriculum_requisites\\\":[],\\\"name\\\":\\\"CHM/CHS 2045/2440L\\\",\\\"metrics\\\":{\\\"centrality\\\":0,\\\"complexity\\\":5.0,\\\"blocking factor\\\":2,\\\"delay factor\\\":3.0},\\\"nameSub\\\":\\\"General Chemistry I/Chem for Engineers Laboratory\\\",\\\"id\\\":25479,\\\"credits\\\":1,\\\"nameCanonical\\\":\\\"\\\"},{\\\"curriculum_requisites\\\":[],\\\"name\\\":\\\"SGEH \\\",\\\"metrics\\\":{\\\"centrality\\\":0,\\\"complexity\\\":1.0,\\\"blocking factor\\\":0,\\\"delay factor\\\":1.0},\\\"nameSub\\\":\\\"State Humanities Gen Ed\\\",\\\"id\\\":4,\\\"credits\\\":3,\\\"nameCanonical\\\":\\\"\\\"},{\\\"curriculum_requisites\\\":[],\\\"name\\\":\\\" \\\",\\\"metrics\\\":{\\\"centrality\\\":0,\\\"complexity\\\":1.0,\\\"blocking factor\\\":0,\\\"delay factor\\\":1.0},\\\"nameSub\\\":\\\"General Elective\\\",\\\"id\\\":30,\\\"credits\\\":1,\\\"nameCanonical\\\":\\\"\\\"},{\\\"curriculum_requisites\\\":[],\\\"name\\\":\\\"ENG 101\\\",\\\"metrics\\\":{\\\"centrality\\\":0,\\\"complexity\\\":20.0,\\\"blocking factor\\\":14,\\\"delay factor\\\":6.0},\\\"nameSub\\\":\\\"Engineering 101\\\",\\\"id\\\":1,\\\"credits\\\":5,\\\"nameCanonical\\\":\\\"\\\"},{\\\"curriculum_requisites\\\":[],\\\"name\\\":\\\"ENC 1101\\\",\\\"metrics\\\":{\\\"centrality\\\":0,\\\"complexity\\\":3.0,\\\"blocking factor\\\":1,\\\"delay factor\\\":2.0},\\\"nameSub\\\":\\\"Composition I\\\",\\\"id\\\":23525,\\\"credits\\\":3,\\\"nameCanonical\\\":\\\"\\\"},{\\\"curriculum_requisites\\\":[],\\\"name\\\":\\\"EGN 3000\\\",\\\"metrics\\\":{\\\"centrality\\\":0,\\\"complexity\\\":1.0,\\\"blocking factor\\\":0,\\\"delay factor\\\":1.0},\\\"nameSub\\\":\\\"Foundations of Engineering\\\",\\\"id\\\":28172,\\\"credits\\\":0,\\\"nameCanonical\\\":\\\"\\\"},{\\\"curriculum_requisites\\\":[],\\\"name\\\":\\\"EGS 2070\\\",\\\"metrics\\\":{\\\"centrality\\\":0,\\\"complexity\\\":5.0,\\\"blocking factor\\\":2,\\\"delay factor\\\":3.0},\\\"nameSub\\\":\\\"Professional Formation of Engineers I\\\",\\\"id\\\":6,\\\"credits\\\":1,\\\"nameCanonical\\\":\\\"\\\"},{\\\"curriculum_requisites\\\":[],\\\"name\\\":\\\" \\\",\\\"metrics\\\":{\\\"centrality\\\":0,\\\"complexity\\\":1.0,\\\"blocking factor\\\":0,\\\"delay factor\\\":1.0},\\\"nameSub\\\":\\\"General Elective\\\",\\\"id\\\":29,\\\"credits\\\":3,\\\"nameCanonical\\\":\\\"\\\"}],\\\"id\\\":1},{\\\"name\\\":\\\"Term 2\\\",\\\"curriculum_items\\\":[{\\\"curriculum_requisites\\\":[],\\\"name\\\":\\\"EEL 3705\\\",\\\"metrics\\\":{\\\"centrality\\\":0,\\\"complexity\\\":3.0,\\\"blocking factor\\\":1,\\\"delay factor\\\":2.0},\\\"nameSub\\\":\\\"Fundamentals of Digital Circuits\\\",\\\"id\\\":23747,\\\"credits\\\":3,\\\"nameCanonical\\\":\\\"\\\"},{\\\"curriculum_requisites\\\":[],\\\"name\\\":\\\"SGES \\\",\\\"metrics\\\":{\\\"centrality\\\":0,\\\"complexity\\\":1.0,\\\"blocking factor\\\":0,\\\"delay factor\\\":1.0},\\\"nameSub\\\":\\\"State Social Science Gen Ed\\\",\\\"id\\\":31,\\\"credits\\\":3,\\\"nameCanonical\\\":\\\"\\\"},{\\\"curriculum_requisites\\\":[{\\\"source_id\\\":1,\\\"target_id\\\":24950,\\\"type\\\":\\\"CurriculumPrerequisite\\\"}],\\\"name\\\":\\\"MAC 2281\\\",\\\"metrics\\\":{\\\"centrality\\\":33,\\\"complexity\\\":16.0,\\\"blocking factor\\\":10,\\\"delay factor\\\":6.0},\\\"nameSub\\\":\\\"Engineering Calculus I\\\",\\\"id\\\":24950,\\\"credits\\\":4,\\\"nameCanonical\\\":\\\"\\\"},{\\\"curriculum_requisites\\\":[],\\\"name\\\":\\\"ENC 3246\\\",\\\"metrics\\\":{\\\"centrality\\\":0,\\\"complexity\\\":1.0,\\\"blocking factor\\\":0,\\\"delay factor\\\":1.0},\\\"nameSub\\\":\\\"Communication for Engineers\\\",\\\"id\\\":27719,\\\"credits\\\":3,\\\"nameCanonical\\\":\\\"\\\"},{\\\"curriculum_requisites\\\":[{\\\"source_id\\\":1,\\\"target_id\\\":25981,\\\"type\\\":\\\"CurriculumPrerequisite\\\"}],\\\"name\\\":\\\"EGN 3373\\\",\\\"metrics\\\":{\\\"centrality\\\":7,\\\"complexity\\\":7.0,\\\"blocking factor\\\":3,\\\"delay factor\\\":4.0},\\\"nameSub\\\":\\\"Introduction to Electrical Systems I\\\",\\\"id\\\":25981,\\\"credits\\\":3,\\\"nameCanonical\\\":\\\"\\\"}],\\\"id\\\":2},{\\\"name\\\":\\\"Term 3\\\",\\\"curriculum_items\\\":[{\\\"curriculum_requisites\\\":[{\\\"source_id\\\":6,\\\"target_id\\\":11,\\\"type\\\":\\\"CurriculumPrerequisite\\\"}],\\\"name\\\":\\\"EGS 3071\\\",\\\"metrics\\\":{\\\"centrality\\\":3,\\\"complexity\\\":4.0,\\\"blocking factor\\\":1,\\\"delay factor\\\":3.0},\\\"nameSub\\\":\\\"Professional Formation of Engineers II\\\",\\\"id\\\":11,\\\"credits\\\":1,\\\"nameCanonical\\\":\\\"\\\"},{\\\"curriculum_requisites\\\":[],\\\"name\\\":\\\"EEL 2161\\\",\\\"metrics\\\":{\\\"centrality\\\":0,\\\"complexity\\\":3.0,\\\"blocking factor\\\":1,\\\"delay factor\\\":2.0},\\\"nameSub\\\":\\\"Programming with C\\\",\\\"id\\\":24974,\\\"credits\\\":3,\\\"nameCanonical\\\":\\\"\\\"},{\\\"curriculum_requisites\\\":[{\\\"source_id\\\":23525,\\\"target_id\\\":23526,\\\"type\\\":\\\"CurriculumPrerequisite\\\"}],\\\"name\\\":\\\"ENC 1102\\\",\\\"metrics\\\":{\\\"centrality\\\":0,\\\"complexity\\\":2.0,\\\"blocking factor\\\":0,\\\"delay factor\\\":2.0},\\\"nameSub\\\":\\\"Composition II\\\",\\\"id\\\":23526,\\\"credits\\\":3,\\\"nameCanonical\\\":\\\"\\\"},{\\\"curriculum_requisites\\\":[{\\\"source_id\\\":24950,\\\"target_id\\\":26014,\\\"type\\\":\\\"CurriculumPrerequisite\\\"}],\\\"name\\\":\\\"PHY 2048\\\",\\\"metrics\\\":{\\\"centrality\\\":5,\\\"complexity\\\":7.0,\\\"blocking factor\\\":2,\\\"delay factor\\\":5.0},\\\"nameSub\\\":\\\"General Physics I - Calculus Based\\\",\\\"id\\\":26014,\\\"credits\\\":3,\\\"nameCanonical\\\":\\\"\\\"},{\\\"curriculum_requisites\\\":[{\\\"source_id\\\":24950,\\\"target_id\\\":26015,\\\"type\\\":\\\"CurriculumPrerequisite\\\"}],\\\"name\\\":\\\"PHY 2048L\\\",\\\"metrics\\\":{\\\"centrality\\\":0,\\\"complexity\\\":3.0,\\\"blocking factor\\\":0,\\\"delay factor\\\":3.0},\\\"nameSub\\\":\\\"General Physics I Laboratory\\\",\\\"id\\\":26015,\\\"credits\\\":1,\\\"nameCanonical\\\":\\\"\\\"},{\\\"curriculum_requisites\\\":[{\\\"source_id\\\":24950,\\\"target_id\\\":24951,\\\"type\\\":\\\"CurriculumPrerequisite\\\"}],\\\"name\\\":\\\"MAC 2282\\\",\\\"metrics\\\":{\\\"centrality\\\":25,\\\"complexity\\\":13.0,\\\"blocking factor\\\":7,\\\"delay factor\\\":6.0},\\\"nameSub\\\":\\\"Engineering Calculus II\\\",\\\"id\\\":24951,\\\"credits\\\":4,\\\"nameCanonical\\\":\\\"\\\"}],\\\"id\\\":3},{\\\"name\\\":\\\"Term 4\\\",\\\"curriculum_items\\\":[{\\\"curriculum_requisites\\\":[],\\\"name\\\":\\\"EGN 3615\\\",\\\"metrics\\\":{\\\"centrality\\\":0,\\\"complexity\\\":1.0,\\\"blocking factor\\\":0,\\\"delay factor\\\":1.0},\\\"nameSub\\\":\\\"Engineering Economics with Social and Global Implications\\\",\\\"id\\\":24859,\\\"credits\\\":3,\\\"nameCanonical\\\":\\\"\\\"},{\\\"curriculum_requisites\\\":[{\\\"source_id\\\":24951,\\\"target_id\\\":24952,\\\"type\\\":\\\"CurriculumPrerequisite\\\"}],\\\"name\\\":\\\"MAC 2283\\\",\\\"metrics\\\":{\\\"centrality\\\":11,\\\"complexity\\\":9.0,\\\"blocking factor\\\":3,\\\"delay factor\\\":6.0},\\\"nameSub\\\":\\\"Engineering Calculus III\\\",\\\"id\\\":24952,\\\"credits\\\":4,\\\"nameCanonical\\\":\\\"\\\"},{\\\"curriculum_requisites\\\":[],\\\"name\\\":\\\" \\\",\\\"metrics\\\":{\\\"centrality\\\":0,\\\"complexity\\\":1.0,\\\"blocking factor\\\":0,\\\"delay factor\\\":1.0},\\\"nameSub\\\":\\\"EE Core Technical Elective\\\",\\\"id\\\":12,\\\"credits\\\":3,\\\"nameCanonical\\\":\\\"\\\"},{\\\"curriculum_requisites\\\":[],\\\"name\\\":\\\" \\\",\\\"metrics\\\":{\\\"centrality\\\":0,\\\"complexity\\\":1.0,\\\"blocking factor\\\":0,\\\"delay factor\\\":1.0},\\\"nameSub\\\":\\\"EE Track Elective\\\",\\\"id\\\":14,\\\"credits\\\":3,\\\"nameCanonical\\\":\\\"\\\"},{\\\"curriculum_requisites\\\":[{\\\"source_id\\\":24952,\\\"target_id\\\":27967,\\\"type\\\":\\\"CurriculumCorequisite\\\"},{\\\"source_id\\\":25479,\\\"target_id\\\":27967,\\\"type\\\":\\\"CurriculumPrerequisite\\\"},{\\\"source_id\\\":26014,\\\"target_id\\\":27967,\\\"type\\\":\\\"CurriculumPrerequisite\\\"}],\\\"name\\\":\\\"EEE 3394\\\",\\\"metrics\\\":{\\\"centrality\\\":14,\\\"complexity\\\":7.0,\\\"blocking factor\\\":1,\\\"delay factor\\\":6.0},\\\"nameSub\\\":\\\"Electrical Engineering Science I - Electronic Materials\\\",\\\"id\\\":27967,\\\"credits\\\":3,\\\"nameCanonical\\\":\\\"\\\"},{\\\"curriculum_requisites\\\":[],\\\"name\\\":\\\"CHM/CHS 2045/2440\\\",\\\"metrics\\\":{\\\"centrality\\\":0,\\\"complexity\\\":1.0,\\\"blocking factor\\\":0,\\\"delay factor\\\":1.0},\\\"nameSub\\\":\\\"General Chemistry I/Chem for Engineers \\\",\\\"id\\\":25478,\\\"credits\\\":3,\\\"nameCanonical\\\":\\\"\\\"}],\\\"id\\\":4},{\\\"name\\\":\\\"Term 5\\\",\\\"curriculum_items\\\":[{\\\"curriculum_requisites\\\":[{\\\"source_id\\\":24951,\\\"target_id\\\":25357,\\\"type\\\":\\\"CurriculumPrerequisite\\\"}],\\\"name\\\":\\\"EGN 3420\\\",\\\"metrics\\\":{\\\"centrality\\\":10,\\\"complexity\\\":7.0,\\\"blocking factor\\\":2,\\\"delay factor\\\":5.0},\\\"nameSub\\\":\\\"Engineering Analysis\\\",\\\"id\\\":25357,\\\"credits\\\":4,\\\"nameCanonical\\\":\\\"\\\"},{\\\"curriculum_requisites\\\":[],\\\"name\\\":\\\" \\\",\\\"metrics\\\":{\\\"centrality\\\":0,\\\"complexity\\\":1.0,\\\"blocking factor\\\":0,\\\"delay factor\\\":1.0},\\\"nameSub\\\":\\\"EE Core Technical Elective\\\",\\\"id\\\":9,\\\"credits\\\":3,\\\"nameCanonical\\\":\\\"\\\"},{\\\"curriculum_requisites\\\":[{\\\"source_id\\\":25981,\\\"target_id\\\":27018,\\\"type\\\":\\\"CurriculumPrerequisite\\\"}],\\\"name\\\":\\\"EGN 3374\\\",\\\"metrics\\\":{\\\"centrality\\\":4,\\\"complexity\\\":5.0,\\\"blocking factor\\\":1,\\\"delay factor\\\":4.0},\\\"nameSub\\\":\\\"Introduction to Electrical Systems II\\\",\\\"id\\\":27018,\\\"credits\\\":3,\\\"nameCanonical\\\":\\\"\\\"},{\\\"curriculum_requisites\\\":[{\\\"source_id\\\":24951,\\\"target_id\\\":25983,\\\"type\\\":\\\"CurriculumPrerequisite\\\"}],\\\"name\\\":\\\"EGN 3443\\\",\\\"metrics\\\":{\\\"centrality\\\":0,\\\"complexity\\\":4.0,\\\"blocking factor\\\":0,\\\"delay factor\\\":4.0},\\\"nameSub\\\":\\\"Probability and Statistics for Engineers\\\",\\\"id\\\":25983,\\\"credits\\\":3,\\\"nameCanonical\\\":\\\"\\\"},{\\\"curriculum_requisites\\\":[],\\\"name\\\":\\\"EGN 3000L\\\",\\\"metrics\\\":{\\\"centrality\\\":0,\\\"complexity\\\":1.0,\\\"blocking factor\\\":0,\\\"delay factor\\\":1.0},\\\"nameSub\\\":\\\"Foundations of Engineering Lab\\\",\\\"id\\\":23287,\\\"credits\\\":3,\\\"nameCanonical\\\":\\\"\\\"}],\\\"id\\\":5},{\\\"name\\\":\\\"Term 6\\\",\\\"curriculum_items\\\":[{\\\"curriculum_requisites\\\":[{\\\"source_id\\\":24952,\\\"target_id\\\":24959,\\\"type\\\":\\\"CurriculumPrerequisite\\\"}],\\\"name\\\":\\\"MAP 2302\\\",\\\"metrics\\\":{\\\"centrality\\\":0,\\\"complexity\\\":5.0,\\\"blocking factor\\\":0,\\\"delay factor\\\":5.0},\\\"nameSub\\\":\\\"Differential Equations\\\",\\\"id\\\":24959,\\\"credits\\\":3,\\\"nameCanonical\\\":\\\"\\\"},{\\\"curriculum_requisites\\\":[],\\\"name\\\":\\\" \\\",\\\"metrics\\\":{\\\"centrality\\\":0,\\\"complexity\\\":1.0,\\\"blocking factor\\\":0,\\\"delay factor\\\":1.0},\\\"nameSub\\\":\\\"Upper-Level Department Elective\\\",\\\"id\\\":21,\\\"credits\\\":3,\\\"nameCanonical\\\":\\\"\\\"},{\\\"curriculum_requisites\\\":[],\\\"name\\\":\\\" \\\",\\\"metrics\\\":{\\\"centrality\\\":0,\\\"complexity\\\":1.0,\\\"blocking factor\\\":0,\\\"delay factor\\\":1.0},\\\"nameSub\\\":\\\"EE Track Elective\\\",\\\"id\\\":22,\\\"credits\\\":3,\\\"nameCanonical\\\":\\\"\\\"},{\\\"curriculum_requisites\\\":[],\\\"name\\\":\\\" \\\",\\\"metrics\\\":{\\\"centrality\\\":0,\\\"complexity\\\":1.0,\\\"blocking factor\\\":0,\\\"delay factor\\\":1.0},\\\"nameSub\\\":\\\"EE Track Elective Lab\\\",\\\"id\\\":24,\\\"credits\\\":1,\\\"nameCanonical\\\":\\\"\\\"},{\\\"curriculum_requisites\\\":[{\\\"source_id\\\":25981,\\\"target_id\\\":26911,\\\"type\\\":\\\"CurriculumPrerequisite\\\"}],\\\"name\\\":\\\"EEL 3115L\\\",\\\"metrics\\\":{\\\"centrality\\\":0,\\\"complexity\\\":3.0,\\\"blocking factor\\\":0,\\\"delay factor\\\":3.0},\\\"nameSub\\\":\\\"Laboratory I\\\",\\\"id\\\":26911,\\\"credits\\\":1,\\\"nameCanonical\\\":\\\"\\\"},{\\\"curriculum_requisites\\\":[{\\\"source_id\\\":25357,\\\"target_id\\\":25885,\\\"type\\\":\\\"CurriculumPrerequisite\\\"},{\\\"source_id\\\":27018,\\\"target_id\\\":25885,\\\"type\\\":\\\"CurriculumPrerequisite\\\"}],\\\"name\\\":\\\"EEL 4102\\\",\\\"metrics\\\":{\\\"centrality\\\":0,\\\"complexity\\\":5.0,\\\"blocking factor\\\":0,\\\"delay factor\\\":5.0},\\\"nameSub\\\":\\\"Signals and Systems\\\",\\\"id\\\":25885,\\\"credits\\\":3,\\\"nameCanonical\\\":\\\"\\\"},{\\\"curriculum_requisites\\\":[],\\\"name\\\":\\\" \\\",\\\"metrics\\\":{\\\"centrality\\\":0,\\\"complexity\\\":1.0,\\\"blocking factor\\\":0,\\\"delay factor\\\":1.0},\\\"nameSub\\\":\\\"EE Track Elective\\\",\\\"id\\\":15,\\\"credits\\\":3,\\\"nameCanonical\\\":\\\"\\\"}],\\\"id\\\":6},{\\\"name\\\":\\\"Term 7\\\",\\\"curriculum_items\\\":[{\\\"curriculum_requisites\\\":[],\\\"name\\\":\\\" \\\",\\\"metrics\\\":{\\\"centrality\\\":0,\\\"complexity\\\":1.0,\\\"blocking factor\\\":0,\\\"delay factor\\\":1.0},\\\"nameSub\\\":\\\"Internship/Co-op Participation\\\",\\\"id\\\":20,\\\"credits\\\":0,\\\"nameCanonical\\\":\\\"\\\"}],\\\"id\\\":7},{\\\"name\\\":\\\"Term 8\\\",\\\"curriculum_items\\\":[{\\\"curriculum_requisites\\\":[],\\\"name\\\":\\\" \\\",\\\"metrics\\\":{\\\"centrality\\\":0,\\\"complexity\\\":1.0,\\\"blocking factor\\\":0,\\\"delay factor\\\":1.0},\\\"nameSub\\\":\\\"Upper-Level Department Elective\\\",\\\"id\\\":28,\\\"credits\\\":3,\\\"nameCanonical\\\":\\\"\\\"},{\\\"curriculum_requisites\\\":[{\\\"source_id\\\":11,\\\"target_id\\\":17,\\\"type\\\":\\\"CurriculumPrerequisite\\\"}],\\\"name\\\":\\\"EGS 3072\\\",\\\"metrics\\\":{\\\"centrality\\\":0,\\\"complexity\\\":3.0,\\\"blocking factor\\\":0,\\\"delay factor\\\":3.0},\\\"nameSub\\\":\\\"Professional Formation of Engineers III\\\",\\\"id\\\":17,\\\"credits\\\":1,\\\"nameCanonical\\\":\\\"\\\"},{\\\"curriculum_requisites\\\":[],\\\"name\\\":\\\" \\\",\\\"metrics\\\":{\\\"centrality\\\":0,\\\"complexity\\\":1.0,\\\"blocking factor\\\":0,\\\"delay factor\\\":1.0},\\\"nameSub\\\":\\\"EE Core Technical Elective\\\",\\\"id\\\":13,\\\"credits\\\":3,\\\"nameCanonical\\\":\\\"\\\"},{\\\"curriculum_requisites\\\":[],\\\"name\\\":\\\"EEL 4906\\\",\\\"metrics\\\":{\\\"centrality\\\":0,\\\"complexity\\\":3.0,\\\"blocking factor\\\":1,\\\"delay factor\\\":2.0},\\\"nameSub\\\":\\\"EE Design 1\\\",\\\"id\\\":26904,\\\"credits\\\":3,\\\"nameCanonical\\\":\\\"\\\"},{\\\"curriculum_requisites\\\":[],\\\"name\\\":\\\" \\\",\\\"metrics\\\":{\\\"centrality\\\":0,\\\"complexity\\\":1.0,\\\"blocking factor\\\":0,\\\"delay factor\\\":1.0},\\\"nameSub\\\":\\\"Upper-Level Department Elective\\\",\\\"id\\\":25,\\\"credits\\\":3,\\\"nameCanonical\\\":\\\"\\\"},{\\\"curriculum_requisites\\\":[{\\\"source_id\\\":24974,\\\"target_id\\\":29988,\\\"type\\\":\\\"CurriculumPrerequisite\\\"}],\\\"name\\\":\\\"EEL 3163C\\\",\\\"metrics\\\":{\\\"centrality\\\":0,\\\"complexity\\\":2.0,\\\"blocking factor\\\":0,\\\"delay factor\\\":2.0},\\\"nameSub\\\":\\\"Computer Tool Lab\\\",\\\"id\\\":29988,\\\"credits\\\":1,\\\"nameCanonical\\\":\\\"\\\"},{\\\"curriculum_requisites\\\":[],\\\"name\\\":\\\" \\\",\\\"metrics\\\":{\\\"centrality\\\":0,\\\"complexity\\\":1.0,\\\"blocking factor\\\":0,\\\"delay factor\\\":1.0},\\\"nameSub\\\":\\\"EE Core Technical Elective\\\",\\\"id\\\":10,\\\"credits\\\":3,\\\"nameCanonical\\\":\\\"\\\"}],\\\"id\\\":8},{\\\"name\\\":\\\"Term 9\\\",\\\"curriculum_items\\\":[{\\\"curriculum_requisites\\\":[{\\\"source_id\\\":27967,\\\"target_id\\\":29920,\\\"type\\\":\\\"CurriculumPrerequisite\\\"},{\\\"source_id\\\":25357,\\\"target_id\\\":29920,\\\"type\\\":\\\"CurriculumPrerequisite\\\"}],\\\"name\\\":\\\"EEL 3472C\\\",\\\"metrics\\\":{\\\"centrality\\\":0,\\\"complexity\\\":6.0,\\\"blocking factor\\\":0,\\\"delay factor\\\":6.0},\\\"nameSub\\\":\\\"Electrical Engineering Science II - Electromagnetics\\\",\\\"id\\\":29920,\\\"credits\\\":4,\\\"nameCanonical\\\":\\\"\\\"},{\\\"curriculum_requisites\\\":[],\\\"name\\\":\\\" \\\",\\\"metrics\\\":{\\\"centrality\\\":0,\\\"complexity\\\":1.0,\\\"blocking factor\\\":0,\\\"delay factor\\\":1.0},\\\"nameSub\\\":\\\"Upper-Level Department Elective Lab\\\",\\\"id\\\":18,\\\"credits\\\":1,\\\"nameCanonical\\\":\\\"\\\"},{\\\"curriculum_requisites\\\":[{\\\"source_id\\\":23747,\\\"target_id\\\":26896,\\\"type\\\":\\\"CurriculumPrerequisite\\\"}],\\\"name\\\":\\\"EEL 3705L\\\",\\\"metrics\\\":{\\\"centrality\\\":0,\\\"complexity\\\":2.0,\\\"blocking factor\\\":0,\\\"delay factor\\\":2.0},\\\"nameSub\\\":\\\"Fundamentals of Digital Circuits Laboratory\\\",\\\"id\\\":26896,\\\"credits\\\":1,\\\"nameCanonical\\\":\\\"\\\"},{\\\"curriculum_requisites\\\":[{\\\"source_id\\\":26904,\\\"target_id\\\":27855,\\\"type\\\":\\\"CurriculumPrerequisite\\\"}],\\\"name\\\":\\\"EEL 4914\\\",\\\"metrics\\\":{\\\"centrality\\\":0,\\\"complexity\\\":2.0,\\\"blocking factor\\\":0,\\\"delay factor\\\":2.0},\\\"nameSub\\\":\\\"EE Design 2\\\",\\\"id\\\":27855,\\\"credits\\\":3,\\\"nameCanonical\\\":\\\"\\\"},{\\\"curriculum_requisites\\\":[],\\\"name\\\":\\\" \\\",\\\"metrics\\\":{\\\"centrality\\\":0,\\\"complexity\\\":1.0,\\\"blocking factor\\\":0,\\\"delay factor\\\":1.0},\\\"nameSub\\\":\\\"EE Track Elective Lab\\\",\\\"id\\\":16,\\\"credits\\\":1,\\\"nameCanonical\\\":\\\"\\\"},{\\\"curriculum_requisites\\\":[],\\\"name\\\":\\\" \\\",\\\"metrics\\\":{\\\"centrality\\\":0,\\\"complexity\\\":1.0,\\\"blocking factor\\\":0,\\\"delay factor\\\":1.0},\\\"nameSub\\\":\\\"EE Track Elective\\\",\\\"id\\\":23,\\\"credits\\\":3,\\\"nameCanonical\\\":\\\"\\\"},{\\\"curriculum_requisites\\\":[],\\\"name\\\":\\\" \\\",\\\"metrics\\\":{\\\"centrality\\\":0,\\\"complexity\\\":1.0,\\\"blocking factor\\\":0,\\\"delay factor\\\":1.0},\\\"nameSub\\\":\\\"Upper-Level Department Elective\\\",\\\"id\\\":27,\\\"credits\\\":3,\\\"nameCanonical\\\":\\\"\\\"}],\\\"id\\\":9}],\\\"institution\\\":\\\"USF\\\"}},\\\"*\\\"); window.removeEventListener(\\\"message\\\",window.messageReceived); window.messageReceived=(function (event){return (event.data.curriculum!==undefined) ? (WebIO.setval({\\\"name\\\":\\\"curriculum-data\\\",\\\"scope\\\":\\\"4637880687143456970\\\",\\\"id\\\":\\\"16574607799817359985\\\",\\\"type\\\":\\\"observable\\\"},event.data.curriculum)) : undefined}); return window.addEventListener(\\\"message\\\",window.messageReceived)})\")), :style => Dict(:padding => \"0\", :height => \"100vh\", :margin => \"0\", :border => \"none\", :width => \"100%\"))), Dict{String, Tuple{Observables.AbstractObservable, Union{Nothing, Bool}}}(\"curriculum-data\" => (Observable{Dict{String, Any}} with 1 listeners. Value:\n",
       "Dict{String, Any}(\"options\" => Dict{String, Any}(\"hideTerms\" => false, \"edit\" => false), \"curriculum\" => Dict{String, Any}(\"name\" => \"BSEE-Electrical Engineering \", \"dp_name\" => \"Starting w/ ENG 101\", \"curriculum_terms\" => Dict{String, Any}[Dict(\"name\" => \"Term 1\", \"curriculum_items\" => Dict{String, Any}[Dict(\"curriculum_requisites\" => Dict{String, Any}[], \"name\" => \"CHM/CHS 2045/2440L\", \"metrics\" => Dict{String, Any}(\"centrality\" => 0, \"complexity\" => 5.0, \"blocking factor\" => 2, \"delay factor\" => 3.0), \"nameSub\" => \"General Chemistry I/Chem for Engineers Laboratory\", \"id\" => 25479, \"credits\" => 1, \"nameCanonical\" => \"\"), Dict(\"curriculum_requisites\" => Dict{String, Any}[], \"name\" => \"SGEH \", \"metrics\" => Dict{String, Any}(\"centrality\" => 0, \"complexity\" => 1.0, \"blocking factor\" => 0, \"delay factor\" => 1.0), \"nameSub\" => \"State Humanities Gen Ed\", \"id\" => 4, \"credits\" => 3, \"nameCanonical\" => \"\"), Dict(\"curriculum_requisites\" => Dict{String, Any}[], \"name\" => \" \", \"metrics\" => Dict{String, Any}(\"centrality\" => 0, \"complexity\" => 1.0, \"blocking factor\" => 0, \"delay factor\" => 1.0), \"nameSub\" => \"General Elective\", \"id\" => 30, \"credits\" => 1, \"nameCanonical\" => \"\"), Dict(\"curriculum_requisites\" => Dict{String, Any}[], \"name\" => \"ENG 101\", \"metrics\" => Dict{String, Any}(\"centrality\" => 0, \"complexity\" => 20.0, \"blocking factor\" => 14, \"delay factor\" => 6.0), \"nameSub\" => \"Engineering 101\", \"id\" => 1, \"credits\" => 5, \"nameCanonical\" => \"\"), Dict(\"curriculum_requisites\" => Dict{String, Any}[], \"name\" => \"ENC 1101\", \"metrics\" => Dict{String, Any}(\"centrality\" => 0, \"complexity\" => 3.0, \"blocking factor\" => 1, \"delay factor\" => 2.0), \"nameSub\" => \"Composition I\", \"id\" => 23525, \"credits\" => 3, \"nameCanonical\" => \"\"), Dict(\"curriculum_requisites\" => Dict{String, Any}[], \"name\" => \"EGN 3000\", \"metrics\" => Dict{String, Any}(\"centrality\" => 0, \"complexity\" => 1.0, \"blocking factor\" => 0, \"delay factor\" => 1.0), \"nameSub\" => \"Foundations of Engineering\", \"id\" => 28172, \"credits\" => 0, \"nameCanonical\" => \"\"), Dict(\"curriculum_requisites\" => Dict{String, Any}[], \"name\" => \"EGS 2070\", \"metrics\" => Dict{String, Any}(\"centrality\" => 0, \"complexity\" => 5.0, \"blocking factor\" => 2, \"delay factor\" => 3.0), \"nameSub\" => \"Professional Formation of Engineers I\", \"id\" => 6, \"credits\" => 1, \"nameCanonical\" => \"\"), Dict(\"curriculum_requisites\" => Dict{String, Any}[], \"name\" => \" \", \"metrics\" => Dict{String, Any}(\"centrality\" => 0, \"complexity\" => 1.0, \"blocking factor\" => 0, \"delay factor\" => 1.0), \"nameSub\" => \"General Elective\", \"id\" => 29, \"credits\" => 3, \"nameCanonical\" => \"\")], \"id\" => 1), Dict(\"name\" => \"Term 2\", \"curriculum_items\" => Dict{String, Any}[Dict(\"curriculum_requisites\" => Dict{String, Any}[], \"name\" => \"EEL 3705\", \"metrics\" => Dict{String, Any}(\"centrality\" => 0, \"complexity\" => 3.0, \"blocking factor\" => 1, \"delay factor\" => 2.0), \"nameSub\" => \"Fundamentals of Digital Circuits\", \"id\" => 23747, \"credits\" => 3, \"nameCanonical\" => \"\"), Dict(\"curriculum_requisites\" => Dict{String, Any}[], \"name\" => \"SGES \", \"metrics\" => Dict{String, Any}(\"centrality\" => 0, \"complexity\" => 1.0, \"blocking factor\" => 0, \"delay factor\" => 1.0), \"nameSub\" => \"State Social Science Gen Ed\", \"id\" => 31, \"credits\" => 3, \"nameCanonical\" => \"\"), Dict(\"curriculum_requisites\" => Dict{String, Any}[Dict(\"source_id\" => 1, \"target_id\" => 24950, \"type\" => \"CurriculumPrerequisite\")], \"name\" => \"MAC 2281\", \"metrics\" => Dict{String, Any}(\"centrality\" => 33, \"complexity\" => 16.0, \"blocking factor\" => 10, \"delay factor\" => 6.0), \"nameSub\" => \"Engineering Calculus I\", \"id\" => 24950, \"credits\" => 4, \"nameCanonical\" => \"\"), Dict(\"curriculum_requisites\" => Dict{String, Any}[], \"name\" => \"ENC 3246\", \"metrics\" => Dict{String, Any}(\"centrality\" => 0, \"complexity\" => 1.0, \"blocking factor\" => 0, \"delay factor\" => 1.0), \"nameSub\" => \"Communication for Engineers\", \"id\" => 27719, \"credits\" => 3, \"nameCanonical\" => \"\"), Dict(\"curriculum_requisites\" => Dict{String, Any}[Dict(\"source_id\" => 1, \"target_id\" => 25981, \"type\" => \"CurriculumPrerequisite\")], \"name\" => \"EGN 3373\", \"metrics\" => Dict{String, Any}(\"centrality\" => 7, \"complexity\" => 7.0, \"blocking factor\" => 3, \"delay factor\" => 4.0), \"nameSub\" => \"Introduction to Electrical Systems I\", \"id\" => 25981, \"credits\" => 3, \"nameCanonical\" => \"\")], \"id\" => 2), Dict(\"name\" => \"Term 3\", \"curriculum_items\" => Dict{String, Any}[Dict(\"curriculum_requisites\" => Dict{String, Any}[Dict(\"source_id\" => 6, \"target_id\" => 11, \"type\" => \"CurriculumPrerequisite\")], \"name\" => \"EGS 3071\", \"metrics\" => Dict{String, Any}(\"centrality\" => 3, \"complexity\" => 4.0, \"blocking factor\" => 1, \"delay factor\" => 3.0), \"nameSub\" => \"Professional Formation of Engineers II\", \"id\" => 11, \"credits\" => 1, \"nameCanonical\" => \"\"), Dict(\"curriculum_requisites\" => Dict{String, Any}[], \"name\" => \"EEL 2161\", \"metrics\" => Dict{String, Any}(\"centrality\" => 0, \"complexity\" => 3.0, \"blocking factor\" => 1, \"delay factor\" => 2.0), \"nameSub\" => \"Programming with C\", \"id\" => 24974, \"credits\" => 3, \"nameCanonical\" => \"\"), Dict(\"curriculum_requisites\" => Dict{String, Any}[Dict(\"source_id\" => 23525, \"target_id\" => 23526, \"type\" => \"CurriculumPrerequisite\")], \"name\" => \"ENC 1102\", \"metrics\" => Dict{String, Any}(\"centrality\" => 0, \"complexity\" => 2.0, \"blocking factor\" => 0, \"delay factor\" => 2.0), \"nameSub\" => \"Composition II\", \"id\" => 23526, \"credits\" => 3, \"nameCanonical\" => \"\"), Dict(\"curriculum_requisites\" => Dict{String, Any}[Dict(\"source_id\" => 24950, \"target_id\" => 26014, \"type\" => \"CurriculumPrerequisite\")], \"name\" => \"PHY 2048\", \"metrics\" => Dict{String, Any}(\"centrality\" => 5, \"complexity\" => 7.0, \"blocking factor\" => 2, \"delay factor\" => 5.0), \"nameSub\" => \"General Physics I - Calculus Based\", \"id\" => 26014, \"credits\" => 3, \"nameCanonical\" => \"\"), Dict(\"curriculum_requisites\" => Dict{String, Any}[Dict(\"source_id\" => 24950, \"target_id\" => 26015, \"type\" => \"CurriculumPrerequisite\")], \"name\" => \"PHY 2048L\", \"metrics\" => Dict{String, Any}(\"centrality\" => 0, \"complexity\" => 3.0, \"blocking factor\" => 0, \"delay factor\" => 3.0), \"nameSub\" => \"General Physics I Laboratory\", \"id\" => 26015, \"credits\" => 1, \"nameCanonical\" => \"\"), Dict(\"curriculum_requisites\" => Dict{String, Any}[Dict(\"source_id\" => 24950, \"target_id\" => 24951, \"type\" => \"CurriculumPrerequisite\")], \"name\" => \"MAC 2282\", \"metrics\" => Dict{String, Any}(\"centrality\" => 25, \"complexity\" => 13.0, \"blocking factor\" => 7, \"delay factor\" => 6.0), \"nameSub\" => \"Engineering Calculus II\", \"id\" => 24951, \"credits\" => 4, \"nameCanonical\" => \"\")], \"id\" => 3), Dict(\"name\" => \"Term 4\", \"curriculum_items\" => Dict{String, Any}[Dict(\"curriculum_requisites\" => Dict{String, Any}[], \"name\" => \"EGN 3615\", \"metrics\" => Dict{String, Any}(\"centrality\" => 0, \"complexity\" => 1.0, \"blocking factor\" => 0, \"delay factor\" => 1.0), \"nameSub\" => \"Engineering Economics with Social and Global Implications\", \"id\" => 24859, \"credits\" => 3, \"nameCanonical\" => \"\"), Dict(\"curriculum_requisites\" => Dict{String, Any}[Dict(\"source_id\" => 24951, \"target_id\" => 24952, \"type\" => \"CurriculumPrerequisite\")], \"name\" => \"MAC 2283\", \"metrics\" => Dict{String, Any}(\"centrality\" => 11, \"complexity\" => 9.0, \"blocking factor\" => 3, \"delay factor\" => 6.0), \"nameSub\" => \"Engineering Calculus III\", \"id\" => 24952, \"credits\" => 4, \"nameCanonical\" => \"\"), Dict(\"curriculum_requisites\" => Dict{String, Any}[], \"name\" => \" \", \"metrics\" => Dict{String, Any}(\"centrality\" => 0, \"complexity\" => 1.0, \"blocking factor\" => 0, \"delay factor\" => 1.0), \"nameSub\" => \"EE Core Technical Elective\", \"id\" => 12, \"credits\" => 3, \"nameCanonical\" => \"\"), Dict(\"curriculum_requisites\" => Dict{String, Any}[], \"name\" => \" \", \"metrics\" => Dict{String, Any}(\"centrality\" => 0, \"complexity\" => 1.0, \"blocking factor\" => 0, \"delay factor\" => 1.0), \"nameSub\" => \"EE Track Elective\", \"id\" => 14, \"credits\" => 3, \"nameCanonical\" => \"\"), Dict(\"curriculum_requisites\" => Dict{String, Any}[Dict(\"source_id\" => 24952, \"target_id\" => 27967, \"type\" => \"CurriculumCorequisite\"), Dict(\"source_id\" => 25479, \"target_id\" => 27967, \"type\" => \"CurriculumPrerequisite\"), Dict(\"source_id\" => 26014, \"target_id\" => 27967, \"type\" => \"CurriculumPrerequisite\")], \"name\" => \"EEE 3394\", \"metrics\" => Dict{String, Any}(\"centrality\" => 14, \"complexity\" => 7.0, \"blocking factor\" => 1, \"delay factor\" => 6.0), \"nameSub\" => \"Electrical Engineering Science I - Electronic Materials\", \"id\" => 27967, \"credits\" => 3, \"nameCanonical\" => \"\"), Dict(\"curriculum_requisites\" => Dict{String, Any}[], \"name\" => \"CHM/CHS 2045/2440\", \"metrics\" => Dict{String, Any}(\"centrality\" => 0, \"complexity\" => 1.0, \"blocking factor\" => 0, \"delay factor\" => 1.0), \"nameSub\" => \"General Chemistry I/Chem for Engineers \", \"id\" => 25478, \"credits\" => 3, \"nameCanonical\" => \"\")], \"id\" => 4), Dict(\"name\" => \"Term 5\", \"curriculum_items\" => Dict{String, Any}[Dict(\"curriculum_requisites\" => Dict{String, Any}[Dict(\"source_id\" => 24951, \"target_id\" => 25357, \"type\" => \"CurriculumPrerequisite\")], \"name\" => \"EGN 3420\", \"metrics\" => Dict{String, Any}(\"centrality\" => 10, \"complexity\" => 7.0, \"blocking factor\" => 2, \"delay factor\" => 5.0), \"nameSub\" => \"Engineering Analysis\", \"id\" => 25357, \"credits\" => 4, \"nameCanonical\" => \"\"), Dict(\"curriculum_requisites\" => Dict{String, Any}[], \"name\" => \" \", \"metrics\" => Dict{String, Any}(\"centrality\" => 0, \"complexity\" => 1.0, \"blocking factor\" => 0, \"delay factor\" => 1.0), \"nameSub\" => \"EE Core Technical Elective\", \"id\" => 9, \"credits\" => 3, \"nameCanonical\" => \"\"), Dict(\"curriculum_requisites\" => Dict{String, Any}[Dict(\"source_id\" => 25981, \"target_id\" => 27018, \"type\" => \"CurriculumPrerequisite\")], \"name\" => \"EGN 3374\", \"metrics\" => Dict{String, Any}(\"centrality\" => 4, \"complexity\" => 5.0, \"blocking factor\" => 1, \"delay factor\" => 4.0), \"nameSub\" => \"Introduction to Electrical Systems II\", \"id\" => 27018, \"credits\" => 3, \"nameCanonical\" => \"\"), Dict(\"curriculum_requisites\" => Dict{String, Any}[Dict(\"source_id\" => 24951, \"target_id\" => 25983, \"type\" => \"CurriculumPrerequisite\")], \"name\" => \"EGN 3443\", \"metrics\" => Dict{String, Any}(\"centrality\" => 0, \"complexity\" => 4.0, \"blocking factor\" => 0, \"delay factor\" => 4.0), \"nameSub\" => \"Probability and Statistics for Engineers\", \"id\" => 25983, \"credits\" => 3, \"nameCanonical\" => \"\"), Dict(\"curriculum_requisites\" => Dict{String, Any}[], \"name\" => \"EGN 3000L\", \"metrics\" => Dict{String, Any}(\"centrality\" => 0, \"complexity\" => 1.0, \"blocking factor\" => 0, \"delay factor\" => 1.0), \"nameSub\" => \"Foundations of Engineering Lab\", \"id\" => 23287, \"credits\" => 3, \"nameCanonical\" => \"\")], \"id\" => 5), Dict(\"name\" => \"Term 6\", \"curriculum_items\" => Dict{String, Any}[Dict(\"curriculum_requisites\" => Dict{String, Any}[Dict(\"source_id\" => 24952, \"target_id\" => 24959, \"type\" => \"CurriculumPrerequisite\")], \"name\" => \"MAP 2302\", \"metrics\" => Dict{String, Any}(\"centrality\" => 0, \"complexity\" => 5.0, \"blocking factor\" => 0, \"delay factor\" => 5.0), \"nameSub\" => \"Differential Equations\", \"id\" => 24959, \"credits\" => 3, \"nameCanonical\" => \"\"), Dict(\"curriculum_requisites\" => Dict{String, Any}[], \"name\" => \" \", \"metrics\" => Dict{String, Any}(\"centrality\" => 0, \"complexity\" => 1.0, \"blocking factor\" => 0, \"delay factor\" => 1.0), \"nameSub\" => \"Upper-Level Department Elective\", \"id\" => 21, \"credits\" => 3, \"nameCanonical\" => \"\"), Dict(\"curriculum_requisites\" => Dict{String, Any}[], \"name\" => \" \", \"metrics\" => Dict{String, Any}(\"centrality\" => 0, \"complexity\" => 1.0, \"blocking factor\" => 0, \"delay factor\" => 1.0), \"nameSub\" => \"EE Track Elective\", \"id\" => 22, \"credits\" => 3, \"nameCanonical\" => \"\"), Dict(\"curriculum_requisites\" => Dict{String, Any}[], \"name\" => \" \", \"metrics\" => Dict{String, Any}(\"centrality\" => 0, \"complexity\" => 1.0, \"blocking factor\" => 0, \"delay factor\" => 1.0), \"nameSub\" => \"EE Track Elective Lab\", \"id\" => 24, \"credits\" => 1, \"nameCanonical\" => \"\"), Dict(\"curriculum_requisites\" => Dict{String, Any}[Dict(\"source_id\" => 25981, \"target_id\" => 26911, \"type\" => \"CurriculumPrerequisite\")], \"name\" => \"EEL 3115L\", \"metrics\" => Dict{String, Any}(\"centrality\" => 0, \"complexity\" => 3.0, \"blocking factor\" => 0, \"delay factor\" => 3.0), \"nameSub\" => \"Laboratory I\", \"id\" => 26911, \"credits\" => 1, \"nameCanonical\" => \"\"), Dict(\"curriculum_requisites\" => Dict{String, Any}[Dict(\"source_id\" => 25357, \"target_id\" => 25885, \"type\" => \"CurriculumPrerequisite\"), Dict(\"source_id\" => 27018, \"target_id\" => 25885, \"type\" => \"CurriculumPrerequisite\")], \"name\" => \"EEL 4102\", \"metrics\" => Dict{String, Any}(\"centrality\" => 0, \"complexity\" => 5.0, \"blocking factor\" => 0, \"delay factor\" => 5.0), \"nameSub\" => \"Signals and Systems\", \"id\" => 25885, \"credits\" => 3, \"nameCanonical\" => \"\"), Dict(\"curriculum_requisites\" => Dict{String, Any}[], \"name\" => \" \", \"metrics\" => Dict{String, Any}(\"centrality\" => 0, \"complexity\" => 1.0, \"blocking factor\" => 0, \"delay factor\" => 1.0), \"nameSub\" => \"EE Track Elective\", \"id\" => 15, \"credits\" => 3, \"nameCanonical\" => \"\")], \"id\" => 6), Dict(\"name\" => \"Term 7\", \"curriculum_items\" => Dict{String, Any}[Dict(\"curriculum_requisites\" => Dict{String, Any}[], \"name\" => \" \", \"metrics\" => Dict{String, Any}(\"centrality\" => 0, \"complexity\" => 1.0, \"blocking factor\" => 0, \"delay factor\" => 1.0), \"nameSub\" => \"Internship/Co-op Participation\", \"id\" => 20, \"credits\" => 0, \"nameCanonical\" => \"\")], \"id\" => 7), Dict(\"name\" => \"Term 8\", \"curriculum_items\" => Dict{String, Any}[Dict(\"curriculum_requisites\" => Dict{String, Any}[], \"name\" => \" \", \"metrics\" => Dict{String, Any}(\"centrality\" => 0, \"complexity\" => 1.0, \"blocking factor\" => 0, \"delay factor\" => 1.0), \"nameSub\" => \"Upper-Level Department Elective\", \"id\" => 28, \"credits\" => 3, \"nameCanonical\" => \"\"), Dict(\"curriculum_requisites\" => Dict{String, Any}[Dict(\"source_id\" => 11, \"target_id\" => 17, \"type\" => \"CurriculumPrerequisite\")], \"name\" => \"EGS 3072\", \"metrics\" => Dict{String, Any}(\"centrality\" => 0, \"complexity\" => 3.0, \"blocking factor\" => 0, \"delay factor\" => 3.0), \"nameSub\" => \"Professional Formation of Engineers III\", \"id\" => 17, \"credits\" => 1, \"nameCanonical\" => \"\"), Dict(\"curriculum_requisites\" => Dict{String, Any}[], \"name\" => \" \", \"metrics\" => Dict{String, Any}(\"centrality\" => 0, \"complexity\" => 1.0, \"blocking factor\" => 0, \"delay factor\" => 1.0), \"nameSub\" => \"EE Core Technical Elective\", \"id\" => 13, \"credits\" => 3, \"nameCanonical\" => \"\"), Dict(\"curriculum_requisites\" => Dict{String, Any}[], \"name\" => \"EEL 4906\", \"metrics\" => Dict{String, Any}(\"centrality\" => 0, \"complexity\" => 3.0, \"blocking factor\" => 1, \"delay factor\" => 2.0), \"nameSub\" => \"EE Design 1\", \"id\" => 26904, \"credits\" => 3, \"nameCanonical\" => \"\"), Dict(\"curriculum_requisites\" => Dict{String, Any}[], \"name\" => \" \", \"metrics\" => Dict{String, Any}(\"centrality\" => 0, \"complexity\" => 1.0, \"blocking factor\" => 0, \"delay factor\" => 1.0), \"nameSub\" => \"Upper-Level Department Elective\", \"id\" => 25, \"credits\" => 3, \"nameCanonical\" => \"\"), Dict(\"curriculum_requisites\" => Dict{String, Any}[Dict(\"source_id\" => 24974, \"target_id\" => 29988, \"type\" => \"CurriculumPrerequisite\")], \"name\" => \"EEL 3163C\", \"metrics\" => Dict{String, Any}(\"centrality\" => 0, \"complexity\" => 2.0, \"blocking factor\" => 0, \"delay factor\" => 2.0), \"nameSub\" => \"Computer Tool Lab\", \"id\" => 29988, \"credits\" => 1, \"nameCanonical\" => \"\"), Dict(\"curriculum_requisites\" => Dict{String, Any}[], \"name\" => \" \", \"metrics\" => Dict{String, Any}(\"centrality\" => 0, \"complexity\" => 1.0, \"blocking factor\" => 0, \"delay factor\" => 1.0), \"nameSub\" => \"EE Core Technical Elective\", \"id\" => 10, \"credits\" => 3, \"nameCanonical\" => \"\")], \"id\" => 8), Dict(\"name\" => \"Term 9\", \"curriculum_items\" => Dict{String, Any}[Dict(\"curriculum_requisites\" => Dict{String, Any}[Dict(\"source_id\" => 27967, \"target_id\" => 29920, \"type\" => \"CurriculumPrerequisite\"), Dict(\"source_id\" => 25357, \"target_id\" => 29920, \"type\" => \"CurriculumPrerequisite\")], \"name\" => \"EEL 3472C\", \"metrics\" => Dict{String, Any}(\"centrality\" => 0, \"complexity\" => 6.0, \"blocking factor\" => 0, \"delay factor\" => 6.0), \"nameSub\" => \"Electrical Engineering Science II - Electromagnetics\", \"id\" => 29920, \"credits\" => 4, \"nameCanonical\" => \"\"), Dict(\"curriculum_requisites\" => Dict{String, Any}[], \"name\" => \" \", \"metrics\" => Dict{String, Any}(\"centrality\" => 0, \"complexity\" => 1.0, \"blocking factor\" => 0, \"delay factor\" => 1.0), \"nameSub\" => \"Upper-Level Department Elective Lab\", \"id\" => 18, \"credits\" => 1, \"nameCanonical\" => \"\"), Dict(\"curriculum_requisites\" => Dict{String, Any}[Dict(\"source_id\" => 23747, \"target_id\" => 26896, \"type\" => \"CurriculumPrerequisite\")], \"name\" => \"EEL 3705L\", \"metrics\" => Dict{String, Any}(\"centrality\" => 0, \"complexity\" => 2.0, \"blocking factor\" => 0, \"delay factor\" => 2.0), \"nameSub\" => \"Fundamentals of Digital Circuits Laboratory\", \"id\" => 26896, \"credits\" => 1, \"nameCanonical\" => \"\"), Dict(\"curriculum_requisites\" => Dict{String, Any}[Dict(\"source_id\" => 26904, \"target_id\" => 27855, \"type\" => \"CurriculumPrerequisite\")], \"name\" => \"EEL 4914\", \"metrics\" => Dict{String, Any}(\"centrality\" => 0, \"complexity\" => 2.0, \"blocking factor\" => 0, \"delay factor\" => 2.0), \"nameSub\" => \"EE Design 2\", \"id\" => 27855, \"credits\" => 3, \"nameCanonical\" => \"\"), Dict(\"curriculum_requisites\" => Dict{String, Any}[], \"name\" => \" \", \"metrics\" => Dict{String, Any}(\"centrality\" => 0, \"complexity\" => 1.0, \"blocking factor\" => 0, \"delay factor\" => 1.0), \"nameSub\" => \"EE Track Elective Lab\", \"id\" => 16, \"credits\" => 1, \"nameCanonical\" => \"\"), Dict(\"curriculum_requisites\" => Dict{String, Any}[], \"name\" => \" \", \"metrics\" => Dict{String, Any}(\"centrality\" => 0, \"complexity\" => 1.0, \"blocking factor\" => 0, \"delay factor\" => 1.0), \"nameSub\" => \"EE Track Elective\", \"id\" => 23, \"credits\" => 3, \"nameCanonical\" => \"\"), Dict(\"curriculum_requisites\" => Dict{String, Any}[], \"name\" => \" \", \"metrics\" => Dict{String, Any}(\"centrality\" => 0, \"complexity\" => 1.0, \"blocking factor\" => 0, \"delay factor\" => 1.0), \"nameSub\" => \"Upper-Level Department Elective\", \"id\" => 27, \"credits\" => 3, \"nameCanonical\" => \"\")], \"id\" => 9)], \"institution\" => \"USF\")), nothing)), Set{String}(), nothing, WebIO.Asset[], Dict{Any, Any}(), WebIO.ConnectionPool(Channel{Any}(32), Set{WebIO.AbstractConnection}(), Condition(Base.InvasiveLinkedList{Task}(Task (runnable) @0x0000000176ec5550, Task (runnable) @0x0000000176ec5550), Base.AlwaysLockedST(1))), WebIO.JSString[])"
      ]
     },
     "execution_count": 11,
     "metadata": {
      "application/vnd.webio.node+json": {
       "kernelId": null
      }
     },
     "output_type": "execute_result"
    }
   ],
   "source": [
    "dp = read_csv(\"./programs/$college/EE-ENG101-DP.csv\")\n",
    "visualize(dp, notebook=true)"
   ]
  },
  {
   "cell_type": "code",
   "execution_count": null,
   "metadata": {},
   "outputs": [],
   "source": []
  }
 ],
 "metadata": {
  "@webio": {
   "lastCommId": "594d2f29e4c343b185c1af4b1ac6cd17",
   "lastKernelId": "5d04c9f1-46cd-48d9-9337-f86702539843"
  },
  "kernelspec": {
   "display_name": "Julia 1.6.0",
   "language": "julia",
   "name": "julia-1.6"
  },
  "language_info": {
   "file_extension": ".jl",
   "mimetype": "application/julia",
   "name": "julia",
   "version": "1.6.0"
  }
 },
 "nbformat": 4,
 "nbformat_minor": 2
}
