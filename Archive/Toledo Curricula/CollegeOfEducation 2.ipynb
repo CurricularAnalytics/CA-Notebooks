{
 "cells": [
  {
   "cell_type": "markdown",
   "metadata": {},
   "source": [
    "# <center>University of Toledo Curricula - Judith Herb College of Education</center>\n",
    "\n",
    "This notebook contains a prelmininary analyses of the curricula and degree plan associated with the undergradatue programs in the Judith Herb College of Education at the University of Toledo.  "
   ]
  },
  {
   "cell_type": "code",
   "execution_count": 1,
   "metadata": {},
   "outputs": [
    {
     "data": {
      "text/html": [
       "<script>\n",
       "// Immediately-invoked-function-expression to avoid global variables.\n",
       "(function() {\n",
       "    var warning_div = document.getElementById(\"webio-warning-2955495223117337493\");\n",
       "    var hide = function () {\n",
       "        var script = document.getElementById(\"webio-setup-12764707834144075486\");\n",
       "        var parent = script && script.parentElement;\n",
       "        var grandparent = parent && parent.parentElement;\n",
       "        if (grandparent) {\n",
       "            grandparent.style.display = \"none\";\n",
       "        }\n",
       "        warning_div.style.display = \"none\";\n",
       "    };\n",
       "    if (typeof Jupyter !== \"undefined\") {\n",
       "        console.log(\"WebIO detected Jupyter notebook environment.\");\n",
       "        // Jupyter notebook.\n",
       "        var extensions = (\n",
       "            Jupyter\n",
       "            && Jupyter.notebook.config.data\n",
       "            && Jupyter.notebook.config.data.load_extensions\n",
       "        );\n",
       "        if (extensions && extensions[\"webio-jupyter-notebook\"]) {\n",
       "            // Extension already loaded.\n",
       "            console.log(\"Jupyter WebIO nbextension detected; not loading ad-hoc.\");\n",
       "            hide();\n",
       "            return;\n",
       "        }\n",
       "    } else if (window.location.pathname.includes(\"/lab\")) {\n",
       "        // Guessing JupyterLa\n",
       "        console.log(\"Jupyter Lab detected; make sure the @webio/jupyter-lab-provider labextension is installed.\");\n",
       "        hide();\n",
       "        return;\n",
       "    }\n",
       "})();\n",
       "\n",
       "</script>\n",
       "<p\n",
       "    id=\"webio-warning-2955495223117337493\"\n",
       "    class=\"output_text output_stderr\"\n",
       "    style=\"padding: 1em; font-weight: bold;\"\n",
       ">\n",
       "    Unable to load WebIO. Please make sure WebIO works for your Jupyter client.\n",
       "    For troubleshooting, please see <a href=\"https://juliagizmos.github.io/WebIO.jl/latest/providers/ijulia/\">\n",
       "    the WebIO/IJulia documentation</a>.\n",
       "    <!-- TODO: link to installation docs. -->\n",
       "</p>\n"
      ],
      "text/plain": [
       "HTML{String}(\"<script>\\n// Immediately-invoked-function-expression to avoid global variables.\\n(function() {\\n    var warning_div = document.getElementById(\\\"webio-warning-2955495223117337493\\\");\\n    var hide = function () {\\n        var script = document.getElementById(\\\"webio-setup-12764707834144075486\\\");\\n        var parent = script && script.parentElement;\\n        var grandparent = parent && parent.parentElement;\\n        if (grandparent) {\\n            grandparent.style.display = \\\"none\\\";\\n        }\\n        warning_div.style.display = \\\"none\\\";\\n    };\\n    if (typeof Jupyter !== \\\"undefined\\\") {\\n        console.log(\\\"WebIO detected Jupyter notebook environment.\\\");\\n        // Jupyter notebook.\\n        var extensions = (\\n            Jupyter\\n            && Jupyter.notebook.config.data\\n            && Jupyter.notebook.config.data.load_extensions\\n        );\\n        if (extensions && extensions[\\\"webio-jupyter-notebook\\\"]) {\\n            // Extension already loaded.\\n            console.log(\\\"Jupyter WebIO nbextension detected; not loading ad-hoc.\\\");\\n            hide();\\n            return;\\n        }\\n    } else if (window.location.pathname.includes(\\\"/lab\\\")) {\\n        // Guessing JupyterLa\\n        console.log(\\\"Jupyter Lab detected; make sure the @webio/jupyter-lab-provider labextension is installed.\\\");\\n        hide();\\n        return;\\n    }\\n})();\\n\\n</script>\\n<p\\n    id=\\\"webio-warning-2955495223117337493\\\"\\n    class=\\\"output_text output_stderr\\\"\\n    style=\\\"padding: 1em; font-weight: bold;\\\"\\n>\\n    Unable to load WebIO. Please make sure WebIO works for your Jupyter client.\\n    For troubleshooting, please see <a href=\\\"https://juliagizmos.github.io/WebIO.jl/latest/providers/ijulia/\\\">\\n    the WebIO/IJulia documentation</a>.\\n    <!-- TODO: link to installation docs. -->\\n</p>\\n\")"
      ]
     },
     "metadata": {},
     "output_type": "display_data"
    },
    {
     "name": "stderr",
     "output_type": "stream",
     "text": [
      "\u001b[32m\u001b[1m Activating\u001b[22m\u001b[39m environment at `~/Library/Mobile Documents/com~apple~CloudDocs/work/research/Curricular Analytics/CurricularAnalytics.jl/Project.toml`\n"
     ]
    },
    {
     "data": {
      "text/html": [
       "<script>\n",
       "// Immediately-invoked-function-expression to avoid global variables.\n",
       "(function() {\n",
       "    var warning_div = document.getElementById(\"webio-warning-4676817984356951407\");\n",
       "    var hide = function () {\n",
       "        var script = document.getElementById(\"webio-setup-5129781572137430305\");\n",
       "        var parent = script && script.parentElement;\n",
       "        var grandparent = parent && parent.parentElement;\n",
       "        if (grandparent) {\n",
       "            grandparent.style.display = \"none\";\n",
       "        }\n",
       "        warning_div.style.display = \"none\";\n",
       "    };\n",
       "    if (typeof Jupyter !== \"undefined\") {\n",
       "        console.log(\"WebIO detected Jupyter notebook environment.\");\n",
       "        // Jupyter notebook.\n",
       "        var extensions = (\n",
       "            Jupyter\n",
       "            && Jupyter.notebook.config.data\n",
       "            && Jupyter.notebook.config.data.load_extensions\n",
       "        );\n",
       "        if (extensions && extensions[\"webio-jupyter-notebook\"]) {\n",
       "            // Extension already loaded.\n",
       "            console.log(\"Jupyter WebIO nbextension detected; not loading ad-hoc.\");\n",
       "            hide();\n",
       "            return;\n",
       "        }\n",
       "    } else if (window.location.pathname.includes(\"/lab\")) {\n",
       "        // Guessing JupyterLa\n",
       "        console.log(\"Jupyter Lab detected; make sure the @webio/jupyter-lab-provider labextension is installed.\");\n",
       "        hide();\n",
       "        return;\n",
       "    }\n",
       "})();\n",
       "\n",
       "</script>\n",
       "<p\n",
       "    id=\"webio-warning-4676817984356951407\"\n",
       "    class=\"output_text output_stderr\"\n",
       "    style=\"padding: 1em; font-weight: bold;\"\n",
       ">\n",
       "    Unable to load WebIO. Please make sure WebIO works for your Jupyter client.\n",
       "    For troubleshooting, please see <a href=\"https://juliagizmos.github.io/WebIO.jl/latest/providers/ijulia/\">\n",
       "    the WebIO/IJulia documentation</a>.\n",
       "    <!-- TODO: link to installation docs. -->\n",
       "</p>\n"
      ],
      "text/plain": [
       "HTML{String}(\"<script>\\n// Immediately-invoked-function-expression to avoid global variables.\\n(function() {\\n    var warning_div = document.getElementById(\\\"webio-warning-4676817984356951407\\\");\\n    var hide = function () {\\n        var script = document.getElementById(\\\"webio-setup-5129781572137430305\\\");\\n        var parent = script && script.parentElement;\\n        var grandparent = parent && parent.parentElement;\\n        if (grandparent) {\\n            grandparent.style.display = \\\"none\\\";\\n        }\\n        warning_div.style.display = \\\"none\\\";\\n    };\\n    if (typeof Jupyter !== \\\"undefined\\\") {\\n        console.log(\\\"WebIO detected Jupyter notebook environment.\\\");\\n        // Jupyter notebook.\\n        var extensions = (\\n            Jupyter\\n            && Jupyter.notebook.config.data\\n            && Jupyter.notebook.config.data.load_extensions\\n        );\\n        if (extensions && extensions[\\\"webio-jupyter-notebook\\\"]) {\\n            // Extension already loaded.\\n            console.log(\\\"Jupyter WebIO nbextension detected; not loading ad-hoc.\\\");\\n            hide();\\n            return;\\n        }\\n    } else if (window.location.pathname.includes(\\\"/lab\\\")) {\\n        // Guessing JupyterLa\\n        console.log(\\\"Jupyter Lab detected; make sure the @webio/jupyter-lab-provider labextension is installed.\\\");\\n        hide();\\n        return;\\n    }\\n})();\\n\\n</script>\\n<p\\n    id=\\\"webio-warning-4676817984356951407\\\"\\n    class=\\\"output_text output_stderr\\\"\\n    style=\\\"padding: 1em; font-weight: bold;\\\"\\n>\\n    Unable to load WebIO. Please make sure WebIO works for your Jupyter client.\\n    For troubleshooting, please see <a href=\\\"https://juliagizmos.github.io/WebIO.jl/latest/providers/ijulia/\\\">\\n    the WebIO/IJulia documentation</a>.\\n    <!-- TODO: link to installation docs. -->\\n</p>\\n\")"
      ]
     },
     "metadata": {},
     "output_type": "display_data"
    },
    {
     "name": "stderr",
     "output_type": "stream",
     "text": [
      "WARNING: redefinition of constant known_mimetypes. This may fail, cause incorrect answers, or produce other errors.\n",
      "WARNING: redefinition of constant singleton_instance. This may fail, cause incorrect answers, or produce other errors.\n",
      "WARNING: redefinition of constant routing_callback. This may fail, cause incorrect answers, or produce other errors.\n",
      "WARNING: redefinition of constant webio_server_config. This may fail, cause incorrect answers, or produce other errors.\n"
     ]
    }
   ],
   "source": [
    "using Pkg\n",
    "if split(pwd(),Base.Filesystem.path_separator)[end] != \"CurricularAnalytics.jl\"\n",
    "    cd(\"../../../CurricularAnalytics.jl/\")\n",
    "end\n",
    "pkg\"activate .\"\n",
    "using CurricularAnalytics\n",
    "cd(\"../CA-Notebooks/Old Notebooks/Toledo Curricula\")\n",
    "using CurricularVisualization"
   ]
  },
  {
   "cell_type": "code",
   "execution_count": 2,
   "metadata": {
    "scrolled": false
   },
   "outputs": [],
   "source": [
    "degree_plan = read_csv(\"SpecialEd-dp.csv\");"
   ]
  },
  {
   "cell_type": "code",
   "execution_count": 3,
   "metadata": {},
   "outputs": [
    {
     "data": {
      "application/vnd.webio.node+json": {
       "children": [
        {
         "children": [
          ""
         ],
         "instanceArgs": {
          "namespace": "html",
          "tag": "iframe"
         },
         "nodeType": "DOM",
         "props": {
          "events": {
           "load": "(function (){this.contentWindow.postMessage({\"options\":{\"hideTerms\":true,\"edit\":false},\"curriculum\":{\"name\":\"Special Education/Interventionist Specialist mild/moderate\",\"dp_name\":\"\",\"curriculum_terms\":[{\"name\":\"Term 1\",\"curriculum_items\":[{\"curriculum_requisites\":[],\"name\":\"SOC 1010\",\"metrics\":{},\"nameSub\":\"Social Science list\",\"id\":7,\"credits\":3,\"nameCanonical\":\"\"},{\"curriculum_requisites\":[],\"name\":\"ASTR 1010\",\"metrics\":{},\"nameSub\":\"Natural Science Core\",\"id\":9,\"credits\":3,\"nameCanonical\":\"\"},{\"curriculum_requisites\":[],\"name\":\"ENGL 1110\",\"metrics\":{},\"nameSub\":\"Comp 1\",\"id\":1,\"credits\":3,\"nameCanonical\":\"\"},{\"curriculum_requisites\":[],\"name\":\"EEES 1130\",\"metrics\":{},\"nameSub\":\"Natural Science Core\",\"id\":8,\"credits\":3,\"nameCanonical\":\"\"},{\"curriculum_requisites\":[],\"name\":\"PSC  1200\",\"metrics\":{},\"nameSub\":\"Social Science list\",\"id\":6,\"credits\":3,\"nameCanonical\":\"\"},{\"curriculum_requisites\":[],\"name\":\"MATH 1210\",\"metrics\":{},\"nameSub\":\"Math for Education Majors 1\",\"id\":3,\"credits\":3,\"nameCanonical\":\"\"},{\"curriculum_requisites\":[],\"name\":\"EDU  1700\",\"metrics\":{},\"nameSub\":\"Intro. To Education\",\"id\":20,\"credits\":3,\"nameCanonical\":\"\"}],\"id\":1},{\"name\":\"Term 2\",\"curriculum_items\":[{\"curriculum_requisites\":[],\"name\":\"PJS 2000\",\"metrics\":{},\"nameSub\":\"Humanities list\",\"id\":5,\"credits\":3,\"nameCanonical\":\"\"},{\"curriculum_requisites\":[{\"source_id\":1,\"target_id\":2,\"type\":\"CurriculumPrerequisite\"}],\"name\":\"ENGL 1130\",\"metrics\":{},\"nameSub\":\"Comp 2\",\"id\":2,\"credits\":3,\"nameCanonical\":\"\"},{\"curriculum_requisites\":[{\"source_id\":3,\"target_id\":4,\"type\":\"CurriculumPrerequisite\"}],\"name\":\"MATH 1220\",\"metrics\":{},\"nameSub\":\"Math for Education Majors 3\",\"id\":4,\"credits\":3,\"nameCanonical\":\"\"},{\"curriculum_requisites\":[],\"name\":\"ETPT 2020\",\"metrics\":{},\"nameSub\":\"Tech Multi-Media for Ed. Environment\",\"id\":21,\"credits\":3,\"nameCanonical\":\"\"},{\"curriculum_requisites\":[],\"name\":\"SPED 2040\",\"metrics\":{},\"nameSub\":\"Perspectives in Spec. Ed.\",\"id\":22,\"credits\":3,\"nameCanonical\":\"\"},{\"curriculum_requisites\":[],\"name\":\"ASTR 2050\",\"metrics\":{},\"nameSub\":\"Natural Science Lab\",\"id\":10,\"credits\":1,\"nameCanonical\":\"\"},{\"curriculum_requisites\":[],\"name\":\"ANTH 2100\",\"metrics\":{},\"nameSub\":\"Non-Western Multicultural\",\"id\":11,\"credits\":3,\"nameCanonical\":\"\"}],\"id\":2},{\"name\":\"Term 3\",\"curriculum_items\":[{\"curriculum_requisites\":[{\"source_id\":1,\"target_id\":13,\"type\":\"CurriculumPrerequisite\"}],\"name\":\"ENGL 2710\",\"metrics\":{},\"nameSub\":\"english cognate list\",\"id\":13,\"credits\":3,\"nameCanonical\":\"\"},{\"curriculum_requisites\":[{\"source_id\":1,\"target_id\":12,\"type\":\"CurriculumPrerequisite\"}],\"name\":\"ENGL 2720\",\"metrics\":{},\"nameSub\":\"ENGL above comp 2\",\"id\":12,\"credits\":3,\"nameCanonical\":\"\"},{\"curriculum_requisites\":[],\"name\":\"ENGL  2770\",\"metrics\":{},\"nameSub\":\"english cognate list\",\"id\":14,\"credits\":3,\"nameCanonical\":\"\"},{\"curriculum_requisites\":[],\"name\":\"TSOC 3000\",\"metrics\":{},\"nameSub\":\"School & Democratic Society\",\"id\":24,\"credits\":3,\"nameCanonical\":\"\"},{\"curriculum_requisites\":[],\"name\":\"SPED  3130\",\"metrics\":{},\"nameSub\":\"Linguistic Analysis\",\"id\":23,\"credits\":3,\"nameCanonical\":\"\"},{\"curriculum_requisites\":[],\"name\":\"EDP  3200\",\"metrics\":{},\"nameSub\":\"Ed. Psych\",\"id\":19,\"credits\":3,\"nameCanonical\":\"\"},{\"curriculum_requisites\":[],\"name\":\"EDP  3290\",\"metrics\":{},\"nameSub\":\"Life Span Development\",\"id\":26,\"credits\":3,\"nameCanonical\":\"\"}],\"id\":3},{\"name\":\"Term 4\",\"curriculum_items\":[{\"curriculum_requisites\":[],\"name\":\"CI 3400\",\"metrics\":{},\"nameSub\":\"Foundation of Literacy\",\"id\":18,\"credits\":3,\"nameCanonical\":\"\"},{\"curriculum_requisites\":[],\"name\":\"SPED 3670\",\"metrics\":{},\"nameSub\":\"foreign lang\",\"id\":15,\"credits\":3,\"nameCanonical\":\"\"},{\"curriculum_requisites\":[],\"name\":\"SPED 4060\",\"metrics\":{},\"nameSub\":\"Spec Interv EC\",\"id\":37,\"credits\":3,\"nameCanonical\":\"\"},{\"curriculum_requisites\":[],\"name\":\"SPED 4110\",\"metrics\":{},\"nameSub\":\"Curr/Methods Mod\",\"id\":28,\"credits\":3,\"nameCanonical\":\"\"},{\"curriculum_requisites\":[{\"source_id\":28,\"target_id\":27,\"type\":\"CurriculumStrictCorequisite\"}],\"name\":\"SPED  4100\",\"metrics\":{},\"nameSub\":\"Field Practicum\",\"id\":27,\"credits\":3,\"nameCanonical\":\"\"},{\"curriculum_requisites\":[],\"name\":\"AED 4140\",\"metrics\":{},\"nameSub\":\"Art Education/Special Needs\",\"id\":17,\"credits\":3,\"nameCanonical\":\"\"},{\"curriculum_requisites\":[],\"name\":\"RESM 4200\",\"metrics\":{},\"nameSub\":\"Classroom Assessment\",\"id\":34,\"credits\":3,\"nameCanonical\":\"\"}],\"id\":4},{\"name\":\"Term 5\",\"curriculum_items\":[{\"curriculum_requisites\":[{\"source_id\":27,\"target_id\":29,\"type\":\"CurriculumStrictCorequisite\"}],\"name\":\"SPED  4240\",\"metrics\":{},\"nameSub\":\"Teach Phonics & Context Read\",\"id\":29,\"credits\":3,\"nameCanonical\":\"\"},{\"curriculum_requisites\":[{\"source_id\":15,\"target_id\":16,\"type\":\"CurriculumPrerequisite\"}],\"name\":\"SPED 3680\",\"metrics\":{},\"nameSub\":\"foreign lang\",\"id\":16,\"credits\":3,\"nameCanonical\":\"\"},{\"curriculum_requisites\":[],\"name\":\"SPED 4250\",\"metrics\":{},\"nameSub\":\"Career/Voc Skills\",\"id\":38,\"credits\":3,\"nameCanonical\":\"\"},{\"curriculum_requisites\":[],\"name\":\"SPED 4260\",\"metrics\":{},\"nameSub\":\"Family & Prof Partner\",\"id\":30,\"credits\":3,\"nameCanonical\":\"\"},{\"curriculum_requisites\":[{\"source_id\":27,\"target_id\":25,\"type\":\"CurriculumStrictCorequisite\"}],\"name\":\"SPED 4370\",\"metrics\":{},\"nameSub\":\"Curriculum and Methods - Mild Needs\",\"id\":25,\"credits\":3,\"nameCanonical\":\"\"},{\"curriculum_requisites\":[{\"source_id\":25,\"target_id\":32,\"type\":\"CurriculumStrictCorequisite\"}],\"name\":\"SPED 4100\",\"metrics\":{},\"nameSub\":\"Field Practicum\",\"id\":32,\"credits\":3,\"nameCanonical\":\"\"},{\"curriculum_requisites\":[],\"name\":\"CI 4400\",\"metrics\":{},\"nameSub\":\"Read Middle Grades\",\"id\":36,\"credits\":3,\"nameCanonical\":\"\"}],\"id\":5},{\"name\":\"Term 6\",\"curriculum_items\":[{\"curriculum_requisites\":[{\"source_id\":18,\"target_id\":31,\"type\":\"CurriculumPrerequisite\"}],\"name\":\"CI 4470\",\"metrics\":{},\"nameSub\":\"Lit Assess & Remediation\",\"id\":31,\"credits\":3,\"nameCanonical\":\"\"},{\"curriculum_requisites\":[{\"source_id\":23,\"target_id\":33,\"type\":\"CurriculumPrerequisite\"},{\"source_id\":29,\"target_id\":33,\"type\":\"CurriculumPrerequisite\"},{\"source_id\":27,\"target_id\":33,\"type\":\"CurriculumStrictCorequisite\"},{\"source_id\":28,\"target_id\":33,\"type\":\"CurriculumPrerequisite\"}],\"name\":\"SPED 4340\",\"metrics\":{},\"nameSub\":\"Effective Mgmt\",\"id\":33,\"credits\":3,\"nameCanonical\":\"\"},{\"curriculum_requisites\":[],\"name\":\"SPED 4600\",\"metrics\":{},\"nameSub\":\"Reflective Seminar\",\"id\":41,\"credits\":3,\"nameCanonical\":\"\"},{\"curriculum_requisites\":[{\"source_id\":41,\"target_id\":40,\"type\":\"CurriculumStrictCorequisite\"}],\"name\":\"SPED 4930\",\"metrics\":{},\"nameSub\":\"Student Teaching\",\"id\":40,\"credits\":12,\"nameCanonical\":\"\"}],\"id\":6},{\"name\":\"Term 7\",\"curriculum_items\":[{\"curriculum_requisites\":[],\"name\":\"SPED 4980\",\"metrics\":{},\"nameSub\":\"Field\",\"id\":35,\"credits\":1,\"nameCanonical\":\"\"},{\"curriculum_requisites\":[{\"source_id\":33,\"target_id\":39,\"type\":\"CurriculumPrerequisite\"}],\"name\":\"SPED 4450\",\"metrics\":{},\"nameSub\":\"Methods/ Student ED\",\"id\":39,\"credits\":3,\"nameCanonical\":\"\"}],\"id\":7}],\"institution\":\"University of Toledo\"}},\"*\"); window.removeEventListener(\"message\",window.messageReceived); window.messageReceived=(function (event){return (event.data.curriculum!==undefined) ? (WebIO.setval({\"name\":\"curriculum-data\",\"scope\":\"2436547360214303601\",\"id\":\"12380297832469602504\",\"type\":\"observable\"},event.data.curriculum)) : undefined}); return window.addEventListener(\"message\",window.messageReceived)})"
          },
          "id": "curriculum",
          "src": "http://localhost:8156",
          "style": {
           "border": "none",
           "height": "100vh",
           "margin": "0",
           "padding": "0",
           "width": "100%"
          }
         },
         "type": "node"
        }
       ],
       "instanceArgs": {
        "handlers": {},
        "id": "2436547360214303601",
        "imports": {
         "data": [],
         "type": "async_block"
        },
        "mount_callbacks": [],
        "observables": {
         "curriculum-data": {
          "id": "12380297832469602504",
          "sync": true,
          "value": {
           "curriculum": {
            "curriculum_terms": [
             {
              "curriculum_items": [
               {
                "credits": 3,
                "curriculum_requisites": [],
                "id": 7,
                "metrics": {},
                "name": "SOC 1010",
                "nameCanonical": "",
                "nameSub": "Social Science list"
               },
               {
                "credits": 3,
                "curriculum_requisites": [],
                "id": 9,
                "metrics": {},
                "name": "ASTR 1010",
                "nameCanonical": "",
                "nameSub": "Natural Science Core"
               },
               {
                "credits": 3,
                "curriculum_requisites": [],
                "id": 1,
                "metrics": {},
                "name": "ENGL 1110",
                "nameCanonical": "",
                "nameSub": "Comp 1"
               },
               {
                "credits": 3,
                "curriculum_requisites": [],
                "id": 8,
                "metrics": {},
                "name": "EEES 1130",
                "nameCanonical": "",
                "nameSub": "Natural Science Core"
               },
               {
                "credits": 3,
                "curriculum_requisites": [],
                "id": 6,
                "metrics": {},
                "name": "PSC  1200",
                "nameCanonical": "",
                "nameSub": "Social Science list"
               },
               {
                "credits": 3,
                "curriculum_requisites": [],
                "id": 3,
                "metrics": {},
                "name": "MATH 1210",
                "nameCanonical": "",
                "nameSub": "Math for Education Majors 1"
               },
               {
                "credits": 3,
                "curriculum_requisites": [],
                "id": 20,
                "metrics": {},
                "name": "EDU  1700",
                "nameCanonical": "",
                "nameSub": "Intro. To Education"
               }
              ],
              "id": 1,
              "name": "Term 1"
             },
             {
              "curriculum_items": [
               {
                "credits": 3,
                "curriculum_requisites": [],
                "id": 5,
                "metrics": {},
                "name": "PJS 2000",
                "nameCanonical": "",
                "nameSub": "Humanities list"
               },
               {
                "credits": 3,
                "curriculum_requisites": [
                 {
                  "source_id": 1,
                  "target_id": 2,
                  "type": "CurriculumPrerequisite"
                 }
                ],
                "id": 2,
                "metrics": {},
                "name": "ENGL 1130",
                "nameCanonical": "",
                "nameSub": "Comp 2"
               },
               {
                "credits": 3,
                "curriculum_requisites": [
                 {
                  "source_id": 3,
                  "target_id": 4,
                  "type": "CurriculumPrerequisite"
                 }
                ],
                "id": 4,
                "metrics": {},
                "name": "MATH 1220",
                "nameCanonical": "",
                "nameSub": "Math for Education Majors 3"
               },
               {
                "credits": 3,
                "curriculum_requisites": [],
                "id": 21,
                "metrics": {},
                "name": "ETPT 2020",
                "nameCanonical": "",
                "nameSub": "Tech Multi-Media for Ed. Environment"
               },
               {
                "credits": 3,
                "curriculum_requisites": [],
                "id": 22,
                "metrics": {},
                "name": "SPED 2040",
                "nameCanonical": "",
                "nameSub": "Perspectives in Spec. Ed."
               },
               {
                "credits": 1,
                "curriculum_requisites": [],
                "id": 10,
                "metrics": {},
                "name": "ASTR 2050",
                "nameCanonical": "",
                "nameSub": "Natural Science Lab"
               },
               {
                "credits": 3,
                "curriculum_requisites": [],
                "id": 11,
                "metrics": {},
                "name": "ANTH 2100",
                "nameCanonical": "",
                "nameSub": "Non-Western Multicultural"
               }
              ],
              "id": 2,
              "name": "Term 2"
             },
             {
              "curriculum_items": [
               {
                "credits": 3,
                "curriculum_requisites": [
                 {
                  "source_id": 1,
                  "target_id": 13,
                  "type": "CurriculumPrerequisite"
                 }
                ],
                "id": 13,
                "metrics": {},
                "name": "ENGL 2710",
                "nameCanonical": "",
                "nameSub": "english cognate list"
               },
               {
                "credits": 3,
                "curriculum_requisites": [
                 {
                  "source_id": 1,
                  "target_id": 12,
                  "type": "CurriculumPrerequisite"
                 }
                ],
                "id": 12,
                "metrics": {},
                "name": "ENGL 2720",
                "nameCanonical": "",
                "nameSub": "ENGL above comp 2"
               },
               {
                "credits": 3,
                "curriculum_requisites": [],
                "id": 14,
                "metrics": {},
                "name": "ENGL  2770",
                "nameCanonical": "",
                "nameSub": "english cognate list"
               },
               {
                "credits": 3,
                "curriculum_requisites": [],
                "id": 24,
                "metrics": {},
                "name": "TSOC 3000",
                "nameCanonical": "",
                "nameSub": "School & Democratic Society"
               },
               {
                "credits": 3,
                "curriculum_requisites": [],
                "id": 23,
                "metrics": {},
                "name": "SPED  3130",
                "nameCanonical": "",
                "nameSub": "Linguistic Analysis"
               },
               {
                "credits": 3,
                "curriculum_requisites": [],
                "id": 19,
                "metrics": {},
                "name": "EDP  3200",
                "nameCanonical": "",
                "nameSub": "Ed. Psych"
               },
               {
                "credits": 3,
                "curriculum_requisites": [],
                "id": 26,
                "metrics": {},
                "name": "EDP  3290",
                "nameCanonical": "",
                "nameSub": "Life Span Development"
               }
              ],
              "id": 3,
              "name": "Term 3"
             },
             {
              "curriculum_items": [
               {
                "credits": 3,
                "curriculum_requisites": [],
                "id": 18,
                "metrics": {},
                "name": "CI 3400",
                "nameCanonical": "",
                "nameSub": "Foundation of Literacy"
               },
               {
                "credits": 3,
                "curriculum_requisites": [],
                "id": 15,
                "metrics": {},
                "name": "SPED 3670",
                "nameCanonical": "",
                "nameSub": "foreign lang"
               },
               {
                "credits": 3,
                "curriculum_requisites": [],
                "id": 37,
                "metrics": {},
                "name": "SPED 4060",
                "nameCanonical": "",
                "nameSub": "Spec Interv EC"
               },
               {
                "credits": 3,
                "curriculum_requisites": [],
                "id": 28,
                "metrics": {},
                "name": "SPED 4110",
                "nameCanonical": "",
                "nameSub": "Curr/Methods Mod"
               },
               {
                "credits": 3,
                "curriculum_requisites": [
                 {
                  "source_id": 28,
                  "target_id": 27,
                  "type": "CurriculumStrictCorequisite"
                 }
                ],
                "id": 27,
                "metrics": {},
                "name": "SPED  4100",
                "nameCanonical": "",
                "nameSub": "Field Practicum"
               },
               {
                "credits": 3,
                "curriculum_requisites": [],
                "id": 17,
                "metrics": {},
                "name": "AED 4140",
                "nameCanonical": "",
                "nameSub": "Art Education/Special Needs"
               },
               {
                "credits": 3,
                "curriculum_requisites": [],
                "id": 34,
                "metrics": {},
                "name": "RESM 4200",
                "nameCanonical": "",
                "nameSub": "Classroom Assessment"
               }
              ],
              "id": 4,
              "name": "Term 4"
             },
             {
              "curriculum_items": [
               {
                "credits": 3,
                "curriculum_requisites": [
                 {
                  "source_id": 27,
                  "target_id": 29,
                  "type": "CurriculumStrictCorequisite"
                 }
                ],
                "id": 29,
                "metrics": {},
                "name": "SPED  4240",
                "nameCanonical": "",
                "nameSub": "Teach Phonics & Context Read"
               },
               {
                "credits": 3,
                "curriculum_requisites": [
                 {
                  "source_id": 15,
                  "target_id": 16,
                  "type": "CurriculumPrerequisite"
                 }
                ],
                "id": 16,
                "metrics": {},
                "name": "SPED 3680",
                "nameCanonical": "",
                "nameSub": "foreign lang"
               },
               {
                "credits": 3,
                "curriculum_requisites": [],
                "id": 38,
                "metrics": {},
                "name": "SPED 4250",
                "nameCanonical": "",
                "nameSub": "Career/Voc Skills"
               },
               {
                "credits": 3,
                "curriculum_requisites": [],
                "id": 30,
                "metrics": {},
                "name": "SPED 4260",
                "nameCanonical": "",
                "nameSub": "Family & Prof Partner"
               },
               {
                "credits": 3,
                "curriculum_requisites": [
                 {
                  "source_id": 27,
                  "target_id": 25,
                  "type": "CurriculumStrictCorequisite"
                 }
                ],
                "id": 25,
                "metrics": {},
                "name": "SPED 4370",
                "nameCanonical": "",
                "nameSub": "Curriculum and Methods - Mild Needs"
               },
               {
                "credits": 3,
                "curriculum_requisites": [
                 {
                  "source_id": 25,
                  "target_id": 32,
                  "type": "CurriculumStrictCorequisite"
                 }
                ],
                "id": 32,
                "metrics": {},
                "name": "SPED 4100",
                "nameCanonical": "",
                "nameSub": "Field Practicum"
               },
               {
                "credits": 3,
                "curriculum_requisites": [],
                "id": 36,
                "metrics": {},
                "name": "CI 4400",
                "nameCanonical": "",
                "nameSub": "Read Middle Grades"
               }
              ],
              "id": 5,
              "name": "Term 5"
             },
             {
              "curriculum_items": [
               {
                "credits": 3,
                "curriculum_requisites": [
                 {
                  "source_id": 18,
                  "target_id": 31,
                  "type": "CurriculumPrerequisite"
                 }
                ],
                "id": 31,
                "metrics": {},
                "name": "CI 4470",
                "nameCanonical": "",
                "nameSub": "Lit Assess & Remediation"
               },
               {
                "credits": 3,
                "curriculum_requisites": [
                 {
                  "source_id": 23,
                  "target_id": 33,
                  "type": "CurriculumPrerequisite"
                 },
                 {
                  "source_id": 29,
                  "target_id": 33,
                  "type": "CurriculumPrerequisite"
                 },
                 {
                  "source_id": 27,
                  "target_id": 33,
                  "type": "CurriculumStrictCorequisite"
                 },
                 {
                  "source_id": 28,
                  "target_id": 33,
                  "type": "CurriculumPrerequisite"
                 }
                ],
                "id": 33,
                "metrics": {},
                "name": "SPED 4340",
                "nameCanonical": "",
                "nameSub": "Effective Mgmt"
               },
               {
                "credits": 3,
                "curriculum_requisites": [],
                "id": 41,
                "metrics": {},
                "name": "SPED 4600",
                "nameCanonical": "",
                "nameSub": "Reflective Seminar"
               },
               {
                "credits": 12,
                "curriculum_requisites": [
                 {
                  "source_id": 41,
                  "target_id": 40,
                  "type": "CurriculumStrictCorequisite"
                 }
                ],
                "id": 40,
                "metrics": {},
                "name": "SPED 4930",
                "nameCanonical": "",
                "nameSub": "Student Teaching"
               }
              ],
              "id": 6,
              "name": "Term 6"
             },
             {
              "curriculum_items": [
               {
                "credits": 1,
                "curriculum_requisites": [],
                "id": 35,
                "metrics": {},
                "name": "SPED 4980",
                "nameCanonical": "",
                "nameSub": "Field"
               },
               {
                "credits": 3,
                "curriculum_requisites": [
                 {
                  "source_id": 33,
                  "target_id": 39,
                  "type": "CurriculumPrerequisite"
                 }
                ],
                "id": 39,
                "metrics": {},
                "name": "SPED 4450",
                "nameCanonical": "",
                "nameSub": "Methods/ Student ED"
               }
              ],
              "id": 7,
              "name": "Term 7"
             }
            ],
            "dp_name": "",
            "institution": "University of Toledo",
            "name": "Special Education/Interventionist Specialist mild/moderate"
           },
           "options": {
            "edit": false,
            "hideTerms": true
           }
          }
         }
        },
        "systemjs_options": null
       },
       "nodeType": "Scope",
       "props": {},
       "type": "node"
      },
      "text/html": [
       "<div\n",
       "    class=\"webio-mountpoint\"\n",
       "    data-webio-mountpoint=\"1852837745431727191\"\n",
       ">\n",
       "    <script>\n",
       "    if (window.require && require.defined && require.defined(\"nbextensions/webio-jupyter-notebook\")) {\n",
       "        console.log(\"Jupyter WebIO extension detected, not mounting.\");\n",
       "    } else if (window.WebIO) {\n",
       "        WebIO.mount(\n",
       "            document.querySelector('[data-webio-mountpoint=\"1852837745431727191\"]'),\n",
       "            {\"props\":{},\"nodeType\":\"Scope\",\"type\":\"node\",\"instanceArgs\":{\"imports\":{\"data\":[],\"type\":\"async_block\"},\"id\":\"2436547360214303601\",\"handlers\":{},\"systemjs_options\":null,\"mount_callbacks\":[],\"observables\":{\"curriculum-data\":{\"sync\":true,\"id\":\"12380297832469602504\",\"value\":{\"options\":{\"hideTerms\":true,\"edit\":false},\"curriculum\":{\"name\":\"Special Education\\/Interventionist Specialist mild\\/moderate\",\"dp_name\":\"\",\"curriculum_terms\":[{\"name\":\"Term 1\",\"curriculum_items\":[{\"curriculum_requisites\":[],\"name\":\"SOC 1010\",\"metrics\":{},\"nameSub\":\"Social Science list\",\"id\":7,\"credits\":3,\"nameCanonical\":\"\"},{\"curriculum_requisites\":[],\"name\":\"ASTR 1010\",\"metrics\":{},\"nameSub\":\"Natural Science Core\",\"id\":9,\"credits\":3,\"nameCanonical\":\"\"},{\"curriculum_requisites\":[],\"name\":\"ENGL 1110\",\"metrics\":{},\"nameSub\":\"Comp 1\",\"id\":1,\"credits\":3,\"nameCanonical\":\"\"},{\"curriculum_requisites\":[],\"name\":\"EEES 1130\",\"metrics\":{},\"nameSub\":\"Natural Science Core\",\"id\":8,\"credits\":3,\"nameCanonical\":\"\"},{\"curriculum_requisites\":[],\"name\":\"PSC  1200\",\"metrics\":{},\"nameSub\":\"Social Science list\",\"id\":6,\"credits\":3,\"nameCanonical\":\"\"},{\"curriculum_requisites\":[],\"name\":\"MATH 1210\",\"metrics\":{},\"nameSub\":\"Math for Education Majors 1\",\"id\":3,\"credits\":3,\"nameCanonical\":\"\"},{\"curriculum_requisites\":[],\"name\":\"EDU  1700\",\"metrics\":{},\"nameSub\":\"Intro. To Education\",\"id\":20,\"credits\":3,\"nameCanonical\":\"\"}],\"id\":1},{\"name\":\"Term 2\",\"curriculum_items\":[{\"curriculum_requisites\":[],\"name\":\"PJS 2000\",\"metrics\":{},\"nameSub\":\"Humanities list\",\"id\":5,\"credits\":3,\"nameCanonical\":\"\"},{\"curriculum_requisites\":[{\"source_id\":1,\"target_id\":2,\"type\":\"CurriculumPrerequisite\"}],\"name\":\"ENGL 1130\",\"metrics\":{},\"nameSub\":\"Comp 2\",\"id\":2,\"credits\":3,\"nameCanonical\":\"\"},{\"curriculum_requisites\":[{\"source_id\":3,\"target_id\":4,\"type\":\"CurriculumPrerequisite\"}],\"name\":\"MATH 1220\",\"metrics\":{},\"nameSub\":\"Math for Education Majors 3\",\"id\":4,\"credits\":3,\"nameCanonical\":\"\"},{\"curriculum_requisites\":[],\"name\":\"ETPT 2020\",\"metrics\":{},\"nameSub\":\"Tech Multi-Media for Ed. Environment\",\"id\":21,\"credits\":3,\"nameCanonical\":\"\"},{\"curriculum_requisites\":[],\"name\":\"SPED 2040\",\"metrics\":{},\"nameSub\":\"Perspectives in Spec. Ed.\",\"id\":22,\"credits\":3,\"nameCanonical\":\"\"},{\"curriculum_requisites\":[],\"name\":\"ASTR 2050\",\"metrics\":{},\"nameSub\":\"Natural Science Lab\",\"id\":10,\"credits\":1,\"nameCanonical\":\"\"},{\"curriculum_requisites\":[],\"name\":\"ANTH 2100\",\"metrics\":{},\"nameSub\":\"Non-Western Multicultural\",\"id\":11,\"credits\":3,\"nameCanonical\":\"\"}],\"id\":2},{\"name\":\"Term 3\",\"curriculum_items\":[{\"curriculum_requisites\":[{\"source_id\":1,\"target_id\":13,\"type\":\"CurriculumPrerequisite\"}],\"name\":\"ENGL 2710\",\"metrics\":{},\"nameSub\":\"english cognate list\",\"id\":13,\"credits\":3,\"nameCanonical\":\"\"},{\"curriculum_requisites\":[{\"source_id\":1,\"target_id\":12,\"type\":\"CurriculumPrerequisite\"}],\"name\":\"ENGL 2720\",\"metrics\":{},\"nameSub\":\"ENGL above comp 2\",\"id\":12,\"credits\":3,\"nameCanonical\":\"\"},{\"curriculum_requisites\":[],\"name\":\"ENGL  2770\",\"metrics\":{},\"nameSub\":\"english cognate list\",\"id\":14,\"credits\":3,\"nameCanonical\":\"\"},{\"curriculum_requisites\":[],\"name\":\"TSOC 3000\",\"metrics\":{},\"nameSub\":\"School & Democratic Society\",\"id\":24,\"credits\":3,\"nameCanonical\":\"\"},{\"curriculum_requisites\":[],\"name\":\"SPED  3130\",\"metrics\":{},\"nameSub\":\"Linguistic Analysis\",\"id\":23,\"credits\":3,\"nameCanonical\":\"\"},{\"curriculum_requisites\":[],\"name\":\"EDP  3200\",\"metrics\":{},\"nameSub\":\"Ed. Psych\",\"id\":19,\"credits\":3,\"nameCanonical\":\"\"},{\"curriculum_requisites\":[],\"name\":\"EDP  3290\",\"metrics\":{},\"nameSub\":\"Life Span Development\",\"id\":26,\"credits\":3,\"nameCanonical\":\"\"}],\"id\":3},{\"name\":\"Term 4\",\"curriculum_items\":[{\"curriculum_requisites\":[],\"name\":\"CI 3400\",\"metrics\":{},\"nameSub\":\"Foundation of Literacy\",\"id\":18,\"credits\":3,\"nameCanonical\":\"\"},{\"curriculum_requisites\":[],\"name\":\"SPED 3670\",\"metrics\":{},\"nameSub\":\"foreign lang\",\"id\":15,\"credits\":3,\"nameCanonical\":\"\"},{\"curriculum_requisites\":[],\"name\":\"SPED 4060\",\"metrics\":{},\"nameSub\":\"Spec Interv EC\",\"id\":37,\"credits\":3,\"nameCanonical\":\"\"},{\"curriculum_requisites\":[],\"name\":\"SPED 4110\",\"metrics\":{},\"nameSub\":\"Curr\\/Methods Mod\",\"id\":28,\"credits\":3,\"nameCanonical\":\"\"},{\"curriculum_requisites\":[{\"source_id\":28,\"target_id\":27,\"type\":\"CurriculumStrictCorequisite\"}],\"name\":\"SPED  4100\",\"metrics\":{},\"nameSub\":\"Field Practicum\",\"id\":27,\"credits\":3,\"nameCanonical\":\"\"},{\"curriculum_requisites\":[],\"name\":\"AED 4140\",\"metrics\":{},\"nameSub\":\"Art Education\\/Special Needs\",\"id\":17,\"credits\":3,\"nameCanonical\":\"\"},{\"curriculum_requisites\":[],\"name\":\"RESM 4200\",\"metrics\":{},\"nameSub\":\"Classroom Assessment\",\"id\":34,\"credits\":3,\"nameCanonical\":\"\"}],\"id\":4},{\"name\":\"Term 5\",\"curriculum_items\":[{\"curriculum_requisites\":[{\"source_id\":27,\"target_id\":29,\"type\":\"CurriculumStrictCorequisite\"}],\"name\":\"SPED  4240\",\"metrics\":{},\"nameSub\":\"Teach Phonics & Context Read\",\"id\":29,\"credits\":3,\"nameCanonical\":\"\"},{\"curriculum_requisites\":[{\"source_id\":15,\"target_id\":16,\"type\":\"CurriculumPrerequisite\"}],\"name\":\"SPED 3680\",\"metrics\":{},\"nameSub\":\"foreign lang\",\"id\":16,\"credits\":3,\"nameCanonical\":\"\"},{\"curriculum_requisites\":[],\"name\":\"SPED 4250\",\"metrics\":{},\"nameSub\":\"Career\\/Voc Skills\",\"id\":38,\"credits\":3,\"nameCanonical\":\"\"},{\"curriculum_requisites\":[],\"name\":\"SPED 4260\",\"metrics\":{},\"nameSub\":\"Family & Prof Partner\",\"id\":30,\"credits\":3,\"nameCanonical\":\"\"},{\"curriculum_requisites\":[{\"source_id\":27,\"target_id\":25,\"type\":\"CurriculumStrictCorequisite\"}],\"name\":\"SPED 4370\",\"metrics\":{},\"nameSub\":\"Curriculum and Methods - Mild Needs\",\"id\":25,\"credits\":3,\"nameCanonical\":\"\"},{\"curriculum_requisites\":[{\"source_id\":25,\"target_id\":32,\"type\":\"CurriculumStrictCorequisite\"}],\"name\":\"SPED 4100\",\"metrics\":{},\"nameSub\":\"Field Practicum\",\"id\":32,\"credits\":3,\"nameCanonical\":\"\"},{\"curriculum_requisites\":[],\"name\":\"CI 4400\",\"metrics\":{},\"nameSub\":\"Read Middle Grades\",\"id\":36,\"credits\":3,\"nameCanonical\":\"\"}],\"id\":5},{\"name\":\"Term 6\",\"curriculum_items\":[{\"curriculum_requisites\":[{\"source_id\":18,\"target_id\":31,\"type\":\"CurriculumPrerequisite\"}],\"name\":\"CI 4470\",\"metrics\":{},\"nameSub\":\"Lit Assess & Remediation\",\"id\":31,\"credits\":3,\"nameCanonical\":\"\"},{\"curriculum_requisites\":[{\"source_id\":23,\"target_id\":33,\"type\":\"CurriculumPrerequisite\"},{\"source_id\":29,\"target_id\":33,\"type\":\"CurriculumPrerequisite\"},{\"source_id\":27,\"target_id\":33,\"type\":\"CurriculumStrictCorequisite\"},{\"source_id\":28,\"target_id\":33,\"type\":\"CurriculumPrerequisite\"}],\"name\":\"SPED 4340\",\"metrics\":{},\"nameSub\":\"Effective Mgmt\",\"id\":33,\"credits\":3,\"nameCanonical\":\"\"},{\"curriculum_requisites\":[],\"name\":\"SPED 4600\",\"metrics\":{},\"nameSub\":\"Reflective Seminar\",\"id\":41,\"credits\":3,\"nameCanonical\":\"\"},{\"curriculum_requisites\":[{\"source_id\":41,\"target_id\":40,\"type\":\"CurriculumStrictCorequisite\"}],\"name\":\"SPED 4930\",\"metrics\":{},\"nameSub\":\"Student Teaching\",\"id\":40,\"credits\":12,\"nameCanonical\":\"\"}],\"id\":6},{\"name\":\"Term 7\",\"curriculum_items\":[{\"curriculum_requisites\":[],\"name\":\"SPED 4980\",\"metrics\":{},\"nameSub\":\"Field\",\"id\":35,\"credits\":1,\"nameCanonical\":\"\"},{\"curriculum_requisites\":[{\"source_id\":33,\"target_id\":39,\"type\":\"CurriculumPrerequisite\"}],\"name\":\"SPED 4450\",\"metrics\":{},\"nameSub\":\"Methods\\/ Student ED\",\"id\":39,\"credits\":3,\"nameCanonical\":\"\"}],\"id\":7}],\"institution\":\"University of Toledo\"}}}}},\"children\":[{\"props\":{\"src\":\"http:\\/\\/localhost:8156\",\"id\":\"curriculum\",\"events\":{\"load\":\"(function (){this.contentWindow.postMessage({\\\"options\\\":{\\\"hideTerms\\\":true,\\\"edit\\\":false},\\\"curriculum\\\":{\\\"name\\\":\\\"Special Education\\/Interventionist Specialist mild\\/moderate\\\",\\\"dp_name\\\":\\\"\\\",\\\"curriculum_terms\\\":[{\\\"name\\\":\\\"Term 1\\\",\\\"curriculum_items\\\":[{\\\"curriculum_requisites\\\":[],\\\"name\\\":\\\"SOC 1010\\\",\\\"metrics\\\":{},\\\"nameSub\\\":\\\"Social Science list\\\",\\\"id\\\":7,\\\"credits\\\":3,\\\"nameCanonical\\\":\\\"\\\"},{\\\"curriculum_requisites\\\":[],\\\"name\\\":\\\"ASTR 1010\\\",\\\"metrics\\\":{},\\\"nameSub\\\":\\\"Natural Science Core\\\",\\\"id\\\":9,\\\"credits\\\":3,\\\"nameCanonical\\\":\\\"\\\"},{\\\"curriculum_requisites\\\":[],\\\"name\\\":\\\"ENGL 1110\\\",\\\"metrics\\\":{},\\\"nameSub\\\":\\\"Comp 1\\\",\\\"id\\\":1,\\\"credits\\\":3,\\\"nameCanonical\\\":\\\"\\\"},{\\\"curriculum_requisites\\\":[],\\\"name\\\":\\\"EEES 1130\\\",\\\"metrics\\\":{},\\\"nameSub\\\":\\\"Natural Science Core\\\",\\\"id\\\":8,\\\"credits\\\":3,\\\"nameCanonical\\\":\\\"\\\"},{\\\"curriculum_requisites\\\":[],\\\"name\\\":\\\"PSC  1200\\\",\\\"metrics\\\":{},\\\"nameSub\\\":\\\"Social Science list\\\",\\\"id\\\":6,\\\"credits\\\":3,\\\"nameCanonical\\\":\\\"\\\"},{\\\"curriculum_requisites\\\":[],\\\"name\\\":\\\"MATH 1210\\\",\\\"metrics\\\":{},\\\"nameSub\\\":\\\"Math for Education Majors 1\\\",\\\"id\\\":3,\\\"credits\\\":3,\\\"nameCanonical\\\":\\\"\\\"},{\\\"curriculum_requisites\\\":[],\\\"name\\\":\\\"EDU  1700\\\",\\\"metrics\\\":{},\\\"nameSub\\\":\\\"Intro. To Education\\\",\\\"id\\\":20,\\\"credits\\\":3,\\\"nameCanonical\\\":\\\"\\\"}],\\\"id\\\":1},{\\\"name\\\":\\\"Term 2\\\",\\\"curriculum_items\\\":[{\\\"curriculum_requisites\\\":[],\\\"name\\\":\\\"PJS 2000\\\",\\\"metrics\\\":{},\\\"nameSub\\\":\\\"Humanities list\\\",\\\"id\\\":5,\\\"credits\\\":3,\\\"nameCanonical\\\":\\\"\\\"},{\\\"curriculum_requisites\\\":[{\\\"source_id\\\":1,\\\"target_id\\\":2,\\\"type\\\":\\\"CurriculumPrerequisite\\\"}],\\\"name\\\":\\\"ENGL 1130\\\",\\\"metrics\\\":{},\\\"nameSub\\\":\\\"Comp 2\\\",\\\"id\\\":2,\\\"credits\\\":3,\\\"nameCanonical\\\":\\\"\\\"},{\\\"curriculum_requisites\\\":[{\\\"source_id\\\":3,\\\"target_id\\\":4,\\\"type\\\":\\\"CurriculumPrerequisite\\\"}],\\\"name\\\":\\\"MATH 1220\\\",\\\"metrics\\\":{},\\\"nameSub\\\":\\\"Math for Education Majors 3\\\",\\\"id\\\":4,\\\"credits\\\":3,\\\"nameCanonical\\\":\\\"\\\"},{\\\"curriculum_requisites\\\":[],\\\"name\\\":\\\"ETPT 2020\\\",\\\"metrics\\\":{},\\\"nameSub\\\":\\\"Tech Multi-Media for Ed. Environment\\\",\\\"id\\\":21,\\\"credits\\\":3,\\\"nameCanonical\\\":\\\"\\\"},{\\\"curriculum_requisites\\\":[],\\\"name\\\":\\\"SPED 2040\\\",\\\"metrics\\\":{},\\\"nameSub\\\":\\\"Perspectives in Spec. Ed.\\\",\\\"id\\\":22,\\\"credits\\\":3,\\\"nameCanonical\\\":\\\"\\\"},{\\\"curriculum_requisites\\\":[],\\\"name\\\":\\\"ASTR 2050\\\",\\\"metrics\\\":{},\\\"nameSub\\\":\\\"Natural Science Lab\\\",\\\"id\\\":10,\\\"credits\\\":1,\\\"nameCanonical\\\":\\\"\\\"},{\\\"curriculum_requisites\\\":[],\\\"name\\\":\\\"ANTH 2100\\\",\\\"metrics\\\":{},\\\"nameSub\\\":\\\"Non-Western Multicultural\\\",\\\"id\\\":11,\\\"credits\\\":3,\\\"nameCanonical\\\":\\\"\\\"}],\\\"id\\\":2},{\\\"name\\\":\\\"Term 3\\\",\\\"curriculum_items\\\":[{\\\"curriculum_requisites\\\":[{\\\"source_id\\\":1,\\\"target_id\\\":13,\\\"type\\\":\\\"CurriculumPrerequisite\\\"}],\\\"name\\\":\\\"ENGL 2710\\\",\\\"metrics\\\":{},\\\"nameSub\\\":\\\"english cognate list\\\",\\\"id\\\":13,\\\"credits\\\":3,\\\"nameCanonical\\\":\\\"\\\"},{\\\"curriculum_requisites\\\":[{\\\"source_id\\\":1,\\\"target_id\\\":12,\\\"type\\\":\\\"CurriculumPrerequisite\\\"}],\\\"name\\\":\\\"ENGL 2720\\\",\\\"metrics\\\":{},\\\"nameSub\\\":\\\"ENGL above comp 2\\\",\\\"id\\\":12,\\\"credits\\\":3,\\\"nameCanonical\\\":\\\"\\\"},{\\\"curriculum_requisites\\\":[],\\\"name\\\":\\\"ENGL  2770\\\",\\\"metrics\\\":{},\\\"nameSub\\\":\\\"english cognate list\\\",\\\"id\\\":14,\\\"credits\\\":3,\\\"nameCanonical\\\":\\\"\\\"},{\\\"curriculum_requisites\\\":[],\\\"name\\\":\\\"TSOC 3000\\\",\\\"metrics\\\":{},\\\"nameSub\\\":\\\"School & Democratic Society\\\",\\\"id\\\":24,\\\"credits\\\":3,\\\"nameCanonical\\\":\\\"\\\"},{\\\"curriculum_requisites\\\":[],\\\"name\\\":\\\"SPED  3130\\\",\\\"metrics\\\":{},\\\"nameSub\\\":\\\"Linguistic Analysis\\\",\\\"id\\\":23,\\\"credits\\\":3,\\\"nameCanonical\\\":\\\"\\\"},{\\\"curriculum_requisites\\\":[],\\\"name\\\":\\\"EDP  3200\\\",\\\"metrics\\\":{},\\\"nameSub\\\":\\\"Ed. Psych\\\",\\\"id\\\":19,\\\"credits\\\":3,\\\"nameCanonical\\\":\\\"\\\"},{\\\"curriculum_requisites\\\":[],\\\"name\\\":\\\"EDP  3290\\\",\\\"metrics\\\":{},\\\"nameSub\\\":\\\"Life Span Development\\\",\\\"id\\\":26,\\\"credits\\\":3,\\\"nameCanonical\\\":\\\"\\\"}],\\\"id\\\":3},{\\\"name\\\":\\\"Term 4\\\",\\\"curriculum_items\\\":[{\\\"curriculum_requisites\\\":[],\\\"name\\\":\\\"CI 3400\\\",\\\"metrics\\\":{},\\\"nameSub\\\":\\\"Foundation of Literacy\\\",\\\"id\\\":18,\\\"credits\\\":3,\\\"nameCanonical\\\":\\\"\\\"},{\\\"curriculum_requisites\\\":[],\\\"name\\\":\\\"SPED 3670\\\",\\\"metrics\\\":{},\\\"nameSub\\\":\\\"foreign lang\\\",\\\"id\\\":15,\\\"credits\\\":3,\\\"nameCanonical\\\":\\\"\\\"},{\\\"curriculum_requisites\\\":[],\\\"name\\\":\\\"SPED 4060\\\",\\\"metrics\\\":{},\\\"nameSub\\\":\\\"Spec Interv EC\\\",\\\"id\\\":37,\\\"credits\\\":3,\\\"nameCanonical\\\":\\\"\\\"},{\\\"curriculum_requisites\\\":[],\\\"name\\\":\\\"SPED 4110\\\",\\\"metrics\\\":{},\\\"nameSub\\\":\\\"Curr\\/Methods Mod\\\",\\\"id\\\":28,\\\"credits\\\":3,\\\"nameCanonical\\\":\\\"\\\"},{\\\"curriculum_requisites\\\":[{\\\"source_id\\\":28,\\\"target_id\\\":27,\\\"type\\\":\\\"CurriculumStrictCorequisite\\\"}],\\\"name\\\":\\\"SPED  4100\\\",\\\"metrics\\\":{},\\\"nameSub\\\":\\\"Field Practicum\\\",\\\"id\\\":27,\\\"credits\\\":3,\\\"nameCanonical\\\":\\\"\\\"},{\\\"curriculum_requisites\\\":[],\\\"name\\\":\\\"AED 4140\\\",\\\"metrics\\\":{},\\\"nameSub\\\":\\\"Art Education\\/Special Needs\\\",\\\"id\\\":17,\\\"credits\\\":3,\\\"nameCanonical\\\":\\\"\\\"},{\\\"curriculum_requisites\\\":[],\\\"name\\\":\\\"RESM 4200\\\",\\\"metrics\\\":{},\\\"nameSub\\\":\\\"Classroom Assessment\\\",\\\"id\\\":34,\\\"credits\\\":3,\\\"nameCanonical\\\":\\\"\\\"}],\\\"id\\\":4},{\\\"name\\\":\\\"Term 5\\\",\\\"curriculum_items\\\":[{\\\"curriculum_requisites\\\":[{\\\"source_id\\\":27,\\\"target_id\\\":29,\\\"type\\\":\\\"CurriculumStrictCorequisite\\\"}],\\\"name\\\":\\\"SPED  4240\\\",\\\"metrics\\\":{},\\\"nameSub\\\":\\\"Teach Phonics & Context Read\\\",\\\"id\\\":29,\\\"credits\\\":3,\\\"nameCanonical\\\":\\\"\\\"},{\\\"curriculum_requisites\\\":[{\\\"source_id\\\":15,\\\"target_id\\\":16,\\\"type\\\":\\\"CurriculumPrerequisite\\\"}],\\\"name\\\":\\\"SPED 3680\\\",\\\"metrics\\\":{},\\\"nameSub\\\":\\\"foreign lang\\\",\\\"id\\\":16,\\\"credits\\\":3,\\\"nameCanonical\\\":\\\"\\\"},{\\\"curriculum_requisites\\\":[],\\\"name\\\":\\\"SPED 4250\\\",\\\"metrics\\\":{},\\\"nameSub\\\":\\\"Career\\/Voc Skills\\\",\\\"id\\\":38,\\\"credits\\\":3,\\\"nameCanonical\\\":\\\"\\\"},{\\\"curriculum_requisites\\\":[],\\\"name\\\":\\\"SPED 4260\\\",\\\"metrics\\\":{},\\\"nameSub\\\":\\\"Family & Prof Partner\\\",\\\"id\\\":30,\\\"credits\\\":3,\\\"nameCanonical\\\":\\\"\\\"},{\\\"curriculum_requisites\\\":[{\\\"source_id\\\":27,\\\"target_id\\\":25,\\\"type\\\":\\\"CurriculumStrictCorequisite\\\"}],\\\"name\\\":\\\"SPED 4370\\\",\\\"metrics\\\":{},\\\"nameSub\\\":\\\"Curriculum and Methods - Mild Needs\\\",\\\"id\\\":25,\\\"credits\\\":3,\\\"nameCanonical\\\":\\\"\\\"},{\\\"curriculum_requisites\\\":[{\\\"source_id\\\":25,\\\"target_id\\\":32,\\\"type\\\":\\\"CurriculumStrictCorequisite\\\"}],\\\"name\\\":\\\"SPED 4100\\\",\\\"metrics\\\":{},\\\"nameSub\\\":\\\"Field Practicum\\\",\\\"id\\\":32,\\\"credits\\\":3,\\\"nameCanonical\\\":\\\"\\\"},{\\\"curriculum_requisites\\\":[],\\\"name\\\":\\\"CI 4400\\\",\\\"metrics\\\":{},\\\"nameSub\\\":\\\"Read Middle Grades\\\",\\\"id\\\":36,\\\"credits\\\":3,\\\"nameCanonical\\\":\\\"\\\"}],\\\"id\\\":5},{\\\"name\\\":\\\"Term 6\\\",\\\"curriculum_items\\\":[{\\\"curriculum_requisites\\\":[{\\\"source_id\\\":18,\\\"target_id\\\":31,\\\"type\\\":\\\"CurriculumPrerequisite\\\"}],\\\"name\\\":\\\"CI 4470\\\",\\\"metrics\\\":{},\\\"nameSub\\\":\\\"Lit Assess & Remediation\\\",\\\"id\\\":31,\\\"credits\\\":3,\\\"nameCanonical\\\":\\\"\\\"},{\\\"curriculum_requisites\\\":[{\\\"source_id\\\":23,\\\"target_id\\\":33,\\\"type\\\":\\\"CurriculumPrerequisite\\\"},{\\\"source_id\\\":29,\\\"target_id\\\":33,\\\"type\\\":\\\"CurriculumPrerequisite\\\"},{\\\"source_id\\\":27,\\\"target_id\\\":33,\\\"type\\\":\\\"CurriculumStrictCorequisite\\\"},{\\\"source_id\\\":28,\\\"target_id\\\":33,\\\"type\\\":\\\"CurriculumPrerequisite\\\"}],\\\"name\\\":\\\"SPED 4340\\\",\\\"metrics\\\":{},\\\"nameSub\\\":\\\"Effective Mgmt\\\",\\\"id\\\":33,\\\"credits\\\":3,\\\"nameCanonical\\\":\\\"\\\"},{\\\"curriculum_requisites\\\":[],\\\"name\\\":\\\"SPED 4600\\\",\\\"metrics\\\":{},\\\"nameSub\\\":\\\"Reflective Seminar\\\",\\\"id\\\":41,\\\"credits\\\":3,\\\"nameCanonical\\\":\\\"\\\"},{\\\"curriculum_requisites\\\":[{\\\"source_id\\\":41,\\\"target_id\\\":40,\\\"type\\\":\\\"CurriculumStrictCorequisite\\\"}],\\\"name\\\":\\\"SPED 4930\\\",\\\"metrics\\\":{},\\\"nameSub\\\":\\\"Student Teaching\\\",\\\"id\\\":40,\\\"credits\\\":12,\\\"nameCanonical\\\":\\\"\\\"}],\\\"id\\\":6},{\\\"name\\\":\\\"Term 7\\\",\\\"curriculum_items\\\":[{\\\"curriculum_requisites\\\":[],\\\"name\\\":\\\"SPED 4980\\\",\\\"metrics\\\":{},\\\"nameSub\\\":\\\"Field\\\",\\\"id\\\":35,\\\"credits\\\":1,\\\"nameCanonical\\\":\\\"\\\"},{\\\"curriculum_requisites\\\":[{\\\"source_id\\\":33,\\\"target_id\\\":39,\\\"type\\\":\\\"CurriculumPrerequisite\\\"}],\\\"name\\\":\\\"SPED 4450\\\",\\\"metrics\\\":{},\\\"nameSub\\\":\\\"Methods\\/ Student ED\\\",\\\"id\\\":39,\\\"credits\\\":3,\\\"nameCanonical\\\":\\\"\\\"}],\\\"id\\\":7}],\\\"institution\\\":\\\"University of Toledo\\\"}},\\\"*\\\"); window.removeEventListener(\\\"message\\\",window.messageReceived); window.messageReceived=(function (event){return (event.data.curriculum!==undefined) ? (WebIO.setval({\\\"name\\\":\\\"curriculum-data\\\",\\\"scope\\\":\\\"2436547360214303601\\\",\\\"id\\\":\\\"12380297832469602504\\\",\\\"type\\\":\\\"observable\\\"},event.data.curriculum)) : undefined}); return window.addEventListener(\\\"message\\\",window.messageReceived)})\"},\"style\":{\"padding\":\"0\",\"height\":\"100vh\",\"margin\":\"0\",\"border\":\"none\",\"width\":\"100%\"}},\"nodeType\":\"DOM\",\"type\":\"node\",\"instanceArgs\":{\"namespace\":\"html\",\"tag\":\"iframe\"},\"children\":[\"\"]}]},\n",
       "            window,\n",
       "        );\n",
       "    } else {\n",
       "        document\n",
       "            .querySelector('[data-webio-mountpoint=\"1852837745431727191\"]')\n",
       "            .innerHTML = (\n",
       "                '<div style=\"padding: 1em; background-color: #f8d6da; border: 1px solid #f5c6cb\">' +\n",
       "                '<p><strong>WebIO not detected.</strong></p>' +\n",
       "                '<p>Please read ' +\n",
       "                '<a href=\"https://juliagizmos.github.io/WebIO.jl/latest/troubleshooting/not-detected/\" target=\"_blank\">the troubleshooting guide</a> ' +\n",
       "                'for more information on how to resolve this issue.</p>' +\n",
       "                '<p><a href=\"https://juliagizmos.github.io/WebIO.jl/latest/troubleshooting/not-detected/\" target=\"_blank\">https://juliagizmos.github.io/WebIO.jl/latest/troubleshooting/not-detected/</a></p>' +\n",
       "                '</div>'\n",
       "            );\n",
       "    }\n",
       "    </script>\n",
       "</div>\n"
      ],
      "text/plain": [
       "WebIO.Scope(WebIO.Node{WebIO.DOM}(WebIO.DOM(:html, :iframe), Any[\"\"], Dict{Symbol,Any}(:src => \"http://localhost:8156\",:id => \"curriculum\",:events => Dict{Symbol,WebIO.JSString}(:load => WebIO.JSString(\"(function (){this.contentWindow.postMessage({\\\"options\\\":{\\\"hideTerms\\\":true,\\\"edit\\\":false},\\\"curriculum\\\":{\\\"name\\\":\\\"Special Education/Interventionist Specialist mild/moderate\\\",\\\"dp_name\\\":\\\"\\\",\\\"curriculum_terms\\\":[{\\\"name\\\":\\\"Term 1\\\",\\\"curriculum_items\\\":[{\\\"curriculum_requisites\\\":[],\\\"name\\\":\\\"SOC 1010\\\",\\\"metrics\\\":{},\\\"nameSub\\\":\\\"Social Science list\\\",\\\"id\\\":7,\\\"credits\\\":3,\\\"nameCanonical\\\":\\\"\\\"},{\\\"curriculum_requisites\\\":[],\\\"name\\\":\\\"ASTR 1010\\\",\\\"metrics\\\":{},\\\"nameSub\\\":\\\"Natural Science Core\\\",\\\"id\\\":9,\\\"credits\\\":3,\\\"nameCanonical\\\":\\\"\\\"},{\\\"curriculum_requisites\\\":[],\\\"name\\\":\\\"ENGL 1110\\\",\\\"metrics\\\":{},\\\"nameSub\\\":\\\"Comp 1\\\",\\\"id\\\":1,\\\"credits\\\":3,\\\"nameCanonical\\\":\\\"\\\"},{\\\"curriculum_requisites\\\":[],\\\"name\\\":\\\"EEES 1130\\\",\\\"metrics\\\":{},\\\"nameSub\\\":\\\"Natural Science Core\\\",\\\"id\\\":8,\\\"credits\\\":3,\\\"nameCanonical\\\":\\\"\\\"},{\\\"curriculum_requisites\\\":[],\\\"name\\\":\\\"PSC  1200\\\",\\\"metrics\\\":{},\\\"nameSub\\\":\\\"Social Science list\\\",\\\"id\\\":6,\\\"credits\\\":3,\\\"nameCanonical\\\":\\\"\\\"},{\\\"curriculum_requisites\\\":[],\\\"name\\\":\\\"MATH 1210\\\",\\\"metrics\\\":{},\\\"nameSub\\\":\\\"Math for Education Majors 1\\\",\\\"id\\\":3,\\\"credits\\\":3,\\\"nameCanonical\\\":\\\"\\\"},{\\\"curriculum_requisites\\\":[],\\\"name\\\":\\\"EDU  1700\\\",\\\"metrics\\\":{},\\\"nameSub\\\":\\\"Intro. To Education\\\",\\\"id\\\":20,\\\"credits\\\":3,\\\"nameCanonical\\\":\\\"\\\"}],\\\"id\\\":1},{\\\"name\\\":\\\"Term 2\\\",\\\"curriculum_items\\\":[{\\\"curriculum_requisites\\\":[],\\\"name\\\":\\\"PJS 2000\\\",\\\"metrics\\\":{},\\\"nameSub\\\":\\\"Humanities list\\\",\\\"id\\\":5,\\\"credits\\\":3,\\\"nameCanonical\\\":\\\"\\\"},{\\\"curriculum_requisites\\\":[{\\\"source_id\\\":1,\\\"target_id\\\":2,\\\"type\\\":\\\"CurriculumPrerequisite\\\"}],\\\"name\\\":\\\"ENGL 1130\\\",\\\"metrics\\\":{},\\\"nameSub\\\":\\\"Comp 2\\\",\\\"id\\\":2,\\\"credits\\\":3,\\\"nameCanonical\\\":\\\"\\\"},{\\\"curriculum_requisites\\\":[{\\\"source_id\\\":3,\\\"target_id\\\":4,\\\"type\\\":\\\"CurriculumPrerequisite\\\"}],\\\"name\\\":\\\"MATH 1220\\\",\\\"metrics\\\":{},\\\"nameSub\\\":\\\"Math for Education Majors 3\\\",\\\"id\\\":4,\\\"credits\\\":3,\\\"nameCanonical\\\":\\\"\\\"},{\\\"curriculum_requisites\\\":[],\\\"name\\\":\\\"ETPT 2020\\\",\\\"metrics\\\":{},\\\"nameSub\\\":\\\"Tech Multi-Media for Ed. Environment\\\",\\\"id\\\":21,\\\"credits\\\":3,\\\"nameCanonical\\\":\\\"\\\"},{\\\"curriculum_requisites\\\":[],\\\"name\\\":\\\"SPED 2040\\\",\\\"metrics\\\":{},\\\"nameSub\\\":\\\"Perspectives in Spec. Ed.\\\",\\\"id\\\":22,\\\"credits\\\":3,\\\"nameCanonical\\\":\\\"\\\"},{\\\"curriculum_requisites\\\":[],\\\"name\\\":\\\"ASTR 2050\\\",\\\"metrics\\\":{},\\\"nameSub\\\":\\\"Natural Science Lab\\\",\\\"id\\\":10,\\\"credits\\\":1,\\\"nameCanonical\\\":\\\"\\\"},{\\\"curriculum_requisites\\\":[],\\\"name\\\":\\\"ANTH 2100\\\",\\\"metrics\\\":{},\\\"nameSub\\\":\\\"Non-Western Multicultural\\\",\\\"id\\\":11,\\\"credits\\\":3,\\\"nameCanonical\\\":\\\"\\\"}],\\\"id\\\":2},{\\\"name\\\":\\\"Term 3\\\",\\\"curriculum_items\\\":[{\\\"curriculum_requisites\\\":[{\\\"source_id\\\":1,\\\"target_id\\\":13,\\\"type\\\":\\\"CurriculumPrerequisite\\\"}],\\\"name\\\":\\\"ENGL 2710\\\",\\\"metrics\\\":{},\\\"nameSub\\\":\\\"english cognate list\\\",\\\"id\\\":13,\\\"credits\\\":3,\\\"nameCanonical\\\":\\\"\\\"},{\\\"curriculum_requisites\\\":[{\\\"source_id\\\":1,\\\"target_id\\\":12,\\\"type\\\":\\\"CurriculumPrerequisite\\\"}],\\\"name\\\":\\\"ENGL 2720\\\",\\\"metrics\\\":{},\\\"nameSub\\\":\\\"ENGL above comp 2\\\",\\\"id\\\":12,\\\"credits\\\":3,\\\"nameCanonical\\\":\\\"\\\"},{\\\"curriculum_requisites\\\":[],\\\"name\\\":\\\"ENGL  2770\\\",\\\"metrics\\\":{},\\\"nameSub\\\":\\\"english cognate list\\\",\\\"id\\\":14,\\\"credits\\\":3,\\\"nameCanonical\\\":\\\"\\\"},{\\\"curriculum_requisites\\\":[],\\\"name\\\":\\\"TSOC 3000\\\",\\\"metrics\\\":{},\\\"nameSub\\\":\\\"School & Democratic Society\\\",\\\"id\\\":24,\\\"credits\\\":3,\\\"nameCanonical\\\":\\\"\\\"},{\\\"curriculum_requisites\\\":[],\\\"name\\\":\\\"SPED  3130\\\",\\\"metrics\\\":{},\\\"nameSub\\\":\\\"Linguistic Analysis\\\",\\\"id\\\":23,\\\"credits\\\":3,\\\"nameCanonical\\\":\\\"\\\"},{\\\"curriculum_requisites\\\":[],\\\"name\\\":\\\"EDP  3200\\\",\\\"metrics\\\":{},\\\"nameSub\\\":\\\"Ed. Psych\\\",\\\"id\\\":19,\\\"credits\\\":3,\\\"nameCanonical\\\":\\\"\\\"},{\\\"curriculum_requisites\\\":[],\\\"name\\\":\\\"EDP  3290\\\",\\\"metrics\\\":{},\\\"nameSub\\\":\\\"Life Span Development\\\",\\\"id\\\":26,\\\"credits\\\":3,\\\"nameCanonical\\\":\\\"\\\"}],\\\"id\\\":3},{\\\"name\\\":\\\"Term 4\\\",\\\"curriculum_items\\\":[{\\\"curriculum_requisites\\\":[],\\\"name\\\":\\\"CI 3400\\\",\\\"metrics\\\":{},\\\"nameSub\\\":\\\"Foundation of Literacy\\\",\\\"id\\\":18,\\\"credits\\\":3,\\\"nameCanonical\\\":\\\"\\\"},{\\\"curriculum_requisites\\\":[],\\\"name\\\":\\\"SPED 3670\\\",\\\"metrics\\\":{},\\\"nameSub\\\":\\\"foreign lang\\\",\\\"id\\\":15,\\\"credits\\\":3,\\\"nameCanonical\\\":\\\"\\\"},{\\\"curriculum_requisites\\\":[],\\\"name\\\":\\\"SPED 4060\\\",\\\"metrics\\\":{},\\\"nameSub\\\":\\\"Spec Interv EC\\\",\\\"id\\\":37,\\\"credits\\\":3,\\\"nameCanonical\\\":\\\"\\\"},{\\\"curriculum_requisites\\\":[],\\\"name\\\":\\\"SPED 4110\\\",\\\"metrics\\\":{},\\\"nameSub\\\":\\\"Curr/Methods Mod\\\",\\\"id\\\":28,\\\"credits\\\":3,\\\"nameCanonical\\\":\\\"\\\"},{\\\"curriculum_requisites\\\":[{\\\"source_id\\\":28,\\\"target_id\\\":27,\\\"type\\\":\\\"CurriculumStrictCorequisite\\\"}],\\\"name\\\":\\\"SPED  4100\\\",\\\"metrics\\\":{},\\\"nameSub\\\":\\\"Field Practicum\\\",\\\"id\\\":27,\\\"credits\\\":3,\\\"nameCanonical\\\":\\\"\\\"},{\\\"curriculum_requisites\\\":[],\\\"name\\\":\\\"AED 4140\\\",\\\"metrics\\\":{},\\\"nameSub\\\":\\\"Art Education/Special Needs\\\",\\\"id\\\":17,\\\"credits\\\":3,\\\"nameCanonical\\\":\\\"\\\"},{\\\"curriculum_requisites\\\":[],\\\"name\\\":\\\"RESM 4200\\\",\\\"metrics\\\":{},\\\"nameSub\\\":\\\"Classroom Assessment\\\",\\\"id\\\":34,\\\"credits\\\":3,\\\"nameCanonical\\\":\\\"\\\"}],\\\"id\\\":4},{\\\"name\\\":\\\"Term 5\\\",\\\"curriculum_items\\\":[{\\\"curriculum_requisites\\\":[{\\\"source_id\\\":27,\\\"target_id\\\":29,\\\"type\\\":\\\"CurriculumStrictCorequisite\\\"}],\\\"name\\\":\\\"SPED  4240\\\",\\\"metrics\\\":{},\\\"nameSub\\\":\\\"Teach Phonics & Context Read\\\",\\\"id\\\":29,\\\"credits\\\":3,\\\"nameCanonical\\\":\\\"\\\"},{\\\"curriculum_requisites\\\":[{\\\"source_id\\\":15,\\\"target_id\\\":16,\\\"type\\\":\\\"CurriculumPrerequisite\\\"}],\\\"name\\\":\\\"SPED 3680\\\",\\\"metrics\\\":{},\\\"nameSub\\\":\\\"foreign lang\\\",\\\"id\\\":16,\\\"credits\\\":3,\\\"nameCanonical\\\":\\\"\\\"},{\\\"curriculum_requisites\\\":[],\\\"name\\\":\\\"SPED 4250\\\",\\\"metrics\\\":{},\\\"nameSub\\\":\\\"Career/Voc Skills\\\",\\\"id\\\":38,\\\"credits\\\":3,\\\"nameCanonical\\\":\\\"\\\"},{\\\"curriculum_requisites\\\":[],\\\"name\\\":\\\"SPED 4260\\\",\\\"metrics\\\":{},\\\"nameSub\\\":\\\"Family & Prof Partner\\\",\\\"id\\\":30,\\\"credits\\\":3,\\\"nameCanonical\\\":\\\"\\\"},{\\\"curriculum_requisites\\\":[{\\\"source_id\\\":27,\\\"target_id\\\":25,\\\"type\\\":\\\"CurriculumStrictCorequisite\\\"}],\\\"name\\\":\\\"SPED 4370\\\",\\\"metrics\\\":{},\\\"nameSub\\\":\\\"Curriculum and Methods - Mild Needs\\\",\\\"id\\\":25,\\\"credits\\\":3,\\\"nameCanonical\\\":\\\"\\\"},{\\\"curriculum_requisites\\\":[{\\\"source_id\\\":25,\\\"target_id\\\":32,\\\"type\\\":\\\"CurriculumStrictCorequisite\\\"}],\\\"name\\\":\\\"SPED 4100\\\",\\\"metrics\\\":{},\\\"nameSub\\\":\\\"Field Practicum\\\",\\\"id\\\":32,\\\"credits\\\":3,\\\"nameCanonical\\\":\\\"\\\"},{\\\"curriculum_requisites\\\":[],\\\"name\\\":\\\"CI 4400\\\",\\\"metrics\\\":{},\\\"nameSub\\\":\\\"Read Middle Grades\\\",\\\"id\\\":36,\\\"credits\\\":3,\\\"nameCanonical\\\":\\\"\\\"}],\\\"id\\\":5},{\\\"name\\\":\\\"Term 6\\\",\\\"curriculum_items\\\":[{\\\"curriculum_requisites\\\":[{\\\"source_id\\\":18,\\\"target_id\\\":31,\\\"type\\\":\\\"CurriculumPrerequisite\\\"}],\\\"name\\\":\\\"CI 4470\\\",\\\"metrics\\\":{},\\\"nameSub\\\":\\\"Lit Assess & Remediation\\\",\\\"id\\\":31,\\\"credits\\\":3,\\\"nameCanonical\\\":\\\"\\\"},{\\\"curriculum_requisites\\\":[{\\\"source_id\\\":23,\\\"target_id\\\":33,\\\"type\\\":\\\"CurriculumPrerequisite\\\"},{\\\"source_id\\\":29,\\\"target_id\\\":33,\\\"type\\\":\\\"CurriculumPrerequisite\\\"},{\\\"source_id\\\":27,\\\"target_id\\\":33,\\\"type\\\":\\\"CurriculumStrictCorequisite\\\"},{\\\"source_id\\\":28,\\\"target_id\\\":33,\\\"type\\\":\\\"CurriculumPrerequisite\\\"}],\\\"name\\\":\\\"SPED 4340\\\",\\\"metrics\\\":{},\\\"nameSub\\\":\\\"Effective Mgmt\\\",\\\"id\\\":33,\\\"credits\\\":3,\\\"nameCanonical\\\":\\\"\\\"},{\\\"curriculum_requisites\\\":[],\\\"name\\\":\\\"SPED 4600\\\",\\\"metrics\\\":{},\\\"nameSub\\\":\\\"Reflective Seminar\\\",\\\"id\\\":41,\\\"credits\\\":3,\\\"nameCanonical\\\":\\\"\\\"},{\\\"curriculum_requisites\\\":[{\\\"source_id\\\":41,\\\"target_id\\\":40,\\\"type\\\":\\\"CurriculumStrictCorequisite\\\"}],\\\"name\\\":\\\"SPED 4930\\\",\\\"metrics\\\":{},\\\"nameSub\\\":\\\"Student Teaching\\\",\\\"id\\\":40,\\\"credits\\\":12,\\\"nameCanonical\\\":\\\"\\\"}],\\\"id\\\":6},{\\\"name\\\":\\\"Term 7\\\",\\\"curriculum_items\\\":[{\\\"curriculum_requisites\\\":[],\\\"name\\\":\\\"SPED 4980\\\",\\\"metrics\\\":{},\\\"nameSub\\\":\\\"Field\\\",\\\"id\\\":35,\\\"credits\\\":1,\\\"nameCanonical\\\":\\\"\\\"},{\\\"curriculum_requisites\\\":[{\\\"source_id\\\":33,\\\"target_id\\\":39,\\\"type\\\":\\\"CurriculumPrerequisite\\\"}],\\\"name\\\":\\\"SPED 4450\\\",\\\"metrics\\\":{},\\\"nameSub\\\":\\\"Methods/ Student ED\\\",\\\"id\\\":39,\\\"credits\\\":3,\\\"nameCanonical\\\":\\\"\\\"}],\\\"id\\\":7}],\\\"institution\\\":\\\"University of Toledo\\\"}},\\\"*\\\"); window.removeEventListener(\\\"message\\\",window.messageReceived); window.messageReceived=(function (event){return (event.data.curriculum!==undefined) ? (WebIO.setval({\\\"name\\\":\\\"curriculum-data\\\",\\\"scope\\\":\\\"2436547360214303601\\\",\\\"id\\\":\\\"12380297832469602504\\\",\\\"type\\\":\\\"observable\\\"},event.data.curriculum)) : undefined}); return window.addEventListener(\\\"message\\\",window.messageReceived)})\")),:style => Dict(:padding => \"0\",:height => \"100vh\",:margin => \"0\",:border => \"none\",:width => \"100%\"))), Dict{String,Tuple{Observables.AbstractObservable,Union{Nothing, Bool}}}(\"curriculum-data\" => (Observable{Dict{String,Any}} with 1 listeners. Value:\n",
       "Dict{String,Any}(\"options\" => Dict{String,Any}(\"hideTerms\" => true,\"edit\" => false),\"curriculum\" => Dict{String,Any}(\"name\" => \"Special Education/Interventionist Specialist mild/moderate\",\"dp_name\" => \"\",\"curriculum_terms\" => Dict{String,Any}[Dict(\"name\" => \"Term 1\",\"curriculum_items\" => Dict{String,Any}[Dict(\"curriculum_requisites\" => Dict{String,Any}[],\"name\" => \"SOC 1010\",\"metrics\" => Dict{String,Any}(),\"nameSub\" => \"Social Science list\",\"id\" => 7,\"credits\" => 3,\"nameCanonical\" => \"\"), Dict(\"curriculum_requisites\" => Dict{String,Any}[],\"name\" => \"ASTR 1010\",\"metrics\" => Dict{String,Any}(),\"nameSub\" => \"Natural Science Core\",\"id\" => 9,\"credits\" => 3,\"nameCanonical\" => \"\"), Dict(\"curriculum_requisites\" => Dict{String,Any}[],\"name\" => \"ENGL 1110\",\"metrics\" => Dict{String,Any}(),\"nameSub\" => \"Comp 1\",\"id\" => 1,\"credits\" => 3,\"nameCanonical\" => \"\"), Dict(\"curriculum_requisites\" => Dict{String,Any}[],\"name\" => \"EEES 1130\",\"metrics\" => Dict{String,Any}(),\"nameSub\" => \"Natural Science Core\",\"id\" => 8,\"credits\" => 3,\"nameCanonical\" => \"\"), Dict(\"curriculum_requisites\" => Dict{String,Any}[],\"name\" => \"PSC  1200\",\"metrics\" => Dict{String,Any}(),\"nameSub\" => \"Social Science list\",\"id\" => 6,\"credits\" => 3,\"nameCanonical\" => \"\"), Dict(\"curriculum_requisites\" => Dict{String,Any}[],\"name\" => \"MATH 1210\",\"metrics\" => Dict{String,Any}(),\"nameSub\" => \"Math for Education Majors 1\",\"id\" => 3,\"credits\" => 3,\"nameCanonical\" => \"\"), Dict(\"curriculum_requisites\" => Dict{String,Any}[],\"name\" => \"EDU  1700\",\"metrics\" => Dict{String,Any}(),\"nameSub\" => \"Intro. To Education\",\"id\" => 20,\"credits\" => 3,\"nameCanonical\" => \"\")],\"id\" => 1), Dict(\"name\" => \"Term 2\",\"curriculum_items\" => Dict{String,Any}[Dict(\"curriculum_requisites\" => Dict{String,Any}[],\"name\" => \"PJS 2000\",\"metrics\" => Dict{String,Any}(),\"nameSub\" => \"Humanities list\",\"id\" => 5,\"credits\" => 3,\"nameCanonical\" => \"\"), Dict(\"curriculum_requisites\" => Dict{String,Any}[Dict(\"source_id\" => 1,\"target_id\" => 2,\"type\" => \"CurriculumPrerequisite\")],\"name\" => \"ENGL 1130\",\"metrics\" => Dict{String,Any}(),\"nameSub\" => \"Comp 2\",\"id\" => 2,\"credits\" => 3,\"nameCanonical\" => \"\"), Dict(\"curriculum_requisites\" => Dict{String,Any}[Dict(\"source_id\" => 3,\"target_id\" => 4,\"type\" => \"CurriculumPrerequisite\")],\"name\" => \"MATH 1220\",\"metrics\" => Dict{String,Any}(),\"nameSub\" => \"Math for Education Majors 3\",\"id\" => 4,\"credits\" => 3,\"nameCanonical\" => \"\"), Dict(\"curriculum_requisites\" => Dict{String,Any}[],\"name\" => \"ETPT 2020\",\"metrics\" => Dict{String,Any}(),\"nameSub\" => \"Tech Multi-Media for Ed. Environment\",\"id\" => 21,\"credits\" => 3,\"nameCanonical\" => \"\"), Dict(\"curriculum_requisites\" => Dict{String,Any}[],\"name\" => \"SPED 2040\",\"metrics\" => Dict{String,Any}(),\"nameSub\" => \"Perspectives in Spec. Ed.\",\"id\" => 22,\"credits\" => 3,\"nameCanonical\" => \"\"), Dict(\"curriculum_requisites\" => Dict{String,Any}[],\"name\" => \"ASTR 2050\",\"metrics\" => Dict{String,Any}(),\"nameSub\" => \"Natural Science Lab\",\"id\" => 10,\"credits\" => 1,\"nameCanonical\" => \"\"), Dict(\"curriculum_requisites\" => Dict{String,Any}[],\"name\" => \"ANTH 2100\",\"metrics\" => Dict{String,Any}(),\"nameSub\" => \"Non-Western Multicultural\",\"id\" => 11,\"credits\" => 3,\"nameCanonical\" => \"\")],\"id\" => 2), Dict(\"name\" => \"Term 3\",\"curriculum_items\" => Dict{String,Any}[Dict(\"curriculum_requisites\" => Dict{String,Any}[Dict(\"source_id\" => 1,\"target_id\" => 13,\"type\" => \"CurriculumPrerequisite\")],\"name\" => \"ENGL 2710\",\"metrics\" => Dict{String,Any}(),\"nameSub\" => \"english cognate list\",\"id\" => 13,\"credits\" => 3,\"nameCanonical\" => \"\"), Dict(\"curriculum_requisites\" => Dict{String,Any}[Dict(\"source_id\" => 1,\"target_id\" => 12,\"type\" => \"CurriculumPrerequisite\")],\"name\" => \"ENGL 2720\",\"metrics\" => Dict{String,Any}(),\"nameSub\" => \"ENGL above comp 2\",\"id\" => 12,\"credits\" => 3,\"nameCanonical\" => \"\"), Dict(\"curriculum_requisites\" => Dict{String,Any}[],\"name\" => \"ENGL  2770\",\"metrics\" => Dict{String,Any}(),\"nameSub\" => \"english cognate list\",\"id\" => 14,\"credits\" => 3,\"nameCanonical\" => \"\"), Dict(\"curriculum_requisites\" => Dict{String,Any}[],\"name\" => \"TSOC 3000\",\"metrics\" => Dict{String,Any}(),\"nameSub\" => \"School & Democratic Society\",\"id\" => 24,\"credits\" => 3,\"nameCanonical\" => \"\"), Dict(\"curriculum_requisites\" => Dict{String,Any}[],\"name\" => \"SPED  3130\",\"metrics\" => Dict{String,Any}(),\"nameSub\" => \"Linguistic Analysis\",\"id\" => 23,\"credits\" => 3,\"nameCanonical\" => \"\"), Dict(\"curriculum_requisites\" => Dict{String,Any}[],\"name\" => \"EDP  3200\",\"metrics\" => Dict{String,Any}(),\"nameSub\" => \"Ed. Psych\",\"id\" => 19,\"credits\" => 3,\"nameCanonical\" => \"\"), Dict(\"curriculum_requisites\" => Dict{String,Any}[],\"name\" => \"EDP  3290\",\"metrics\" => Dict{String,Any}(),\"nameSub\" => \"Life Span Development\",\"id\" => 26,\"credits\" => 3,\"nameCanonical\" => \"\")],\"id\" => 3), Dict(\"name\" => \"Term 4\",\"curriculum_items\" => Dict{String,Any}[Dict(\"curriculum_requisites\" => Dict{String,Any}[],\"name\" => \"CI 3400\",\"metrics\" => Dict{String,Any}(),\"nameSub\" => \"Foundation of Literacy\",\"id\" => 18,\"credits\" => 3,\"nameCanonical\" => \"\"), Dict(\"curriculum_requisites\" => Dict{String,Any}[],\"name\" => \"SPED 3670\",\"metrics\" => Dict{String,Any}(),\"nameSub\" => \"foreign lang\",\"id\" => 15,\"credits\" => 3,\"nameCanonical\" => \"\"), Dict(\"curriculum_requisites\" => Dict{String,Any}[],\"name\" => \"SPED 4060\",\"metrics\" => Dict{String,Any}(),\"nameSub\" => \"Spec Interv EC\",\"id\" => 37,\"credits\" => 3,\"nameCanonical\" => \"\"), Dict(\"curriculum_requisites\" => Dict{String,Any}[],\"name\" => \"SPED 4110\",\"metrics\" => Dict{String,Any}(),\"nameSub\" => \"Curr/Methods Mod\",\"id\" => 28,\"credits\" => 3,\"nameCanonical\" => \"\"), Dict(\"curriculum_requisites\" => Dict{String,Any}[Dict(\"source_id\" => 28,\"target_id\" => 27,\"type\" => \"CurriculumStrictCorequisite\")],\"name\" => \"SPED  4100\",\"metrics\" => Dict{String,Any}(),\"nameSub\" => \"Field Practicum\",\"id\" => 27,\"credits\" => 3,\"nameCanonical\" => \"\"), Dict(\"curriculum_requisites\" => Dict{String,Any}[],\"name\" => \"AED 4140\",\"metrics\" => Dict{String,Any}(),\"nameSub\" => \"Art Education/Special Needs\",\"id\" => 17,\"credits\" => 3,\"nameCanonical\" => \"\"), Dict(\"curriculum_requisites\" => Dict{String,Any}[],\"name\" => \"RESM 4200\",\"metrics\" => Dict{String,Any}(),\"nameSub\" => \"Classroom Assessment\",\"id\" => 34,\"credits\" => 3,\"nameCanonical\" => \"\")],\"id\" => 4), Dict(\"name\" => \"Term 5\",\"curriculum_items\" => Dict{String,Any}[Dict(\"curriculum_requisites\" => Dict{String,Any}[Dict(\"source_id\" => 27,\"target_id\" => 29,\"type\" => \"CurriculumStrictCorequisite\")],\"name\" => \"SPED  4240\",\"metrics\" => Dict{String,Any}(),\"nameSub\" => \"Teach Phonics & Context Read\",\"id\" => 29,\"credits\" => 3,\"nameCanonical\" => \"\"), Dict(\"curriculum_requisites\" => Dict{String,Any}[Dict(\"source_id\" => 15,\"target_id\" => 16,\"type\" => \"CurriculumPrerequisite\")],\"name\" => \"SPED 3680\",\"metrics\" => Dict{String,Any}(),\"nameSub\" => \"foreign lang\",\"id\" => 16,\"credits\" => 3,\"nameCanonical\" => \"\"), Dict(\"curriculum_requisites\" => Dict{String,Any}[],\"name\" => \"SPED 4250\",\"metrics\" => Dict{String,Any}(),\"nameSub\" => \"Career/Voc Skills\",\"id\" => 38,\"credits\" => 3,\"nameCanonical\" => \"\"), Dict(\"curriculum_requisites\" => Dict{String,Any}[],\"name\" => \"SPED 4260\",\"metrics\" => Dict{String,Any}(),\"nameSub\" => \"Family & Prof Partner\",\"id\" => 30,\"credits\" => 3,\"nameCanonical\" => \"\"), Dict(\"curriculum_requisites\" => Dict{String,Any}[Dict(\"source_id\" => 27,\"target_id\" => 25,\"type\" => \"CurriculumStrictCorequisite\")],\"name\" => \"SPED 4370\",\"metrics\" => Dict{String,Any}(),\"nameSub\" => \"Curriculum and Methods - Mild Needs\",\"id\" => 25,\"credits\" => 3,\"nameCanonical\" => \"\"), Dict(\"curriculum_requisites\" => Dict{String,Any}[Dict(\"source_id\" => 25,\"target_id\" => 32,\"type\" => \"CurriculumStrictCorequisite\")],\"name\" => \"SPED 4100\",\"metrics\" => Dict{String,Any}(),\"nameSub\" => \"Field Practicum\",\"id\" => 32,\"credits\" => 3,\"nameCanonical\" => \"\"), Dict(\"curriculum_requisites\" => Dict{String,Any}[],\"name\" => \"CI 4400\",\"metrics\" => Dict{String,Any}(),\"nameSub\" => \"Read Middle Grades\",\"id\" => 36,\"credits\" => 3,\"nameCanonical\" => \"\")],\"id\" => 5), Dict(\"name\" => \"Term 6\",\"curriculum_items\" => Dict{String,Any}[Dict(\"curriculum_requisites\" => Dict{String,Any}[Dict(\"source_id\" => 18,\"target_id\" => 31,\"type\" => \"CurriculumPrerequisite\")],\"name\" => \"CI 4470\",\"metrics\" => Dict{String,Any}(),\"nameSub\" => \"Lit Assess & Remediation\",\"id\" => 31,\"credits\" => 3,\"nameCanonical\" => \"\"), Dict(\"curriculum_requisites\" => Dict{String,Any}[Dict(\"source_id\" => 23,\"target_id\" => 33,\"type\" => \"CurriculumPrerequisite\"), Dict(\"source_id\" => 29,\"target_id\" => 33,\"type\" => \"CurriculumPrerequisite\"), Dict(\"source_id\" => 27,\"target_id\" => 33,\"type\" => \"CurriculumStrictCorequisite\"), Dict(\"source_id\" => 28,\"target_id\" => 33,\"type\" => \"CurriculumPrerequisite\")],\"name\" => \"SPED 4340\",\"metrics\" => Dict{String,Any}(),\"nameSub\" => \"Effective Mgmt\",\"id\" => 33,\"credits\" => 3,\"nameCanonical\" => \"\"), Dict(\"curriculum_requisites\" => Dict{String,Any}[],\"name\" => \"SPED 4600\",\"metrics\" => Dict{String,Any}(),\"nameSub\" => \"Reflective Seminar\",\"id\" => 41,\"credits\" => 3,\"nameCanonical\" => \"\"), Dict(\"curriculum_requisites\" => Dict{String,Any}[Dict(\"source_id\" => 41,\"target_id\" => 40,\"type\" => \"CurriculumStrictCorequisite\")],\"name\" => \"SPED 4930\",\"metrics\" => Dict{String,Any}(),\"nameSub\" => \"Student Teaching\",\"id\" => 40,\"credits\" => 12,\"nameCanonical\" => \"\")],\"id\" => 6), Dict(\"name\" => \"Term 7\",\"curriculum_items\" => Dict{String,Any}[Dict(\"curriculum_requisites\" => Dict{String,Any}[],\"name\" => \"SPED 4980\",\"metrics\" => Dict{String,Any}(),\"nameSub\" => \"Field\",\"id\" => 35,\"credits\" => 1,\"nameCanonical\" => \"\"), Dict(\"curriculum_requisites\" => Dict{String,Any}[Dict(\"source_id\" => 33,\"target_id\" => 39,\"type\" => \"CurriculumPrerequisite\")],\"name\" => \"SPED 4450\",\"metrics\" => Dict{String,Any}(),\"nameSub\" => \"Methods/ Student ED\",\"id\" => 39,\"credits\" => 3,\"nameCanonical\" => \"\")],\"id\" => 7)],\"institution\" => \"University of Toledo\")), nothing)), Set{String}(), nothing, WebIO.Asset[], Dict{Any,Any}(), WebIO.ConnectionPool(Channel{Any}(sz_max:32,sz_curr:0), Set{WebIO.AbstractConnection}(), Base.GenericCondition{Base.AlwaysLockedST}(Base.InvasiveLinkedList{Task}(Task (runnable) @0x0000000134962890, Task (runnable) @0x0000000134962890), Base.AlwaysLockedST(1))), WebIO.JSString[])"
      ]
     },
     "execution_count": 3,
     "metadata": {
      "application/vnd.webio.node+json": {
       "kernelId": "91e778f3-dc98-4e10-8bd0-87a4c06cd970"
      }
     },
     "output_type": "execute_result"
    }
   ],
   "source": [
    "visualize(degree_plan.curriculum, notebook=true)"
   ]
  },
  {
   "cell_type": "code",
   "execution_count": null,
   "metadata": {},
   "outputs": [],
   "source": []
  }
 ],
 "metadata": {
  "@webio": {
   "lastCommId": "bcd09ebdb41742e689f0f263f35666a8",
   "lastKernelId": "91e778f3-dc98-4e10-8bd0-87a4c06cd970"
  },
  "kernelspec": {
   "display_name": "Julia 1.5.0",
   "language": "julia",
   "name": "julia-1.5"
  },
  "language_info": {
   "file_extension": ".jl",
   "mimetype": "application/julia",
   "name": "julia",
   "version": "1.5.0"
  }
 },
 "nbformat": 4,
 "nbformat_minor": 2
}
