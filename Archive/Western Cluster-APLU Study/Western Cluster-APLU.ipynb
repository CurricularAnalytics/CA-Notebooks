{
 "cells": [
  {
   "cell_type": "markdown",
   "metadata": {},
   "source": [
    "# <center>APLU Western Cluster Curricular Analytics Study</center>\n",
    "\n",
    "In this notebook we analyze the curricula and degree plans associated with a set of programs at universities in the APLU Western Cluster.  This cluster of schools is one of the \"transformation clusters\" formed as a part of APLU's \n",
    "[Powered by Publics Initiative](https://www.aplu.org/projects-and-initiatives/center-for-public-university-transformation/powered-by-publics) <cite data-cite=\"APLU:18\">(APLU, 2019)</cite>. The schools in the Western Cluster include:\n",
    "\n",
    "- Colorado State University\n",
    "- Langston University\n",
    "- Montana State University\n",
    "- New Mexico State University\n",
    "- North Dakota State University\n",
    "- Oklahoma State University\n",
    "- South Dakota State University\n",
    "- University of Idaho\n",
    "- University of Nevada-Reno\n",
    "- University of Wyoming\n",
    "- Utah State University\n",
    "\n",
    "The analyses in this notebook makes use of the [Curricular Analytics toolbox](https://github.com/CurricularAnalytics/CurricularAnalytics.jl) \n",
    "built using the Julia programming language  and available as open source software (<cite data-cite=\"he:19\">Heileman, et. al., 2019</cite>). As a starting \n",
    "point, you may find it useful to read the [toolbox documenation](https://curricularanalytics.github.io/CurricularAnalytics.jl/latest/), as well as \n",
    "the <cite data-cite=\"he:18\">Heileman, et. al., (2018)</cite> paper listed in the [References](#References) \n",
    "section below.\n",
    "\n",
    "If you are interested in joining the community of scholars working to apply curricular analytics, please \n",
    "feel free to make suggestions about future development or [contribute](https://curricularanalytics.github.io/CurricularAnalytics.jl/latest/contributing.html) to the \n",
    "CurricularAnalytics.jl project.\n"
   ]
  },
  {
   "cell_type": "markdown",
   "metadata": {},
   "source": [
    "In order to execute the analyses provided in this notebook, you need to load the following Julia packages:"
   ]
  },
  {
   "cell_type": "code",
   "execution_count": 1,
   "metadata": {
    "scrolled": false
   },
   "outputs": [
    {
     "name": "stderr",
     "output_type": "stream",
     "text": [
      "┌ Info: Precompiling CurricularVisualization [fbaee398-1ac9-4ee2-a69c-ef17203eefbf]\n",
      "└ @ Base loading.jl:1278\n",
      "WARNING: Method definition (::Type{CurricularAnalytics.DegreePlan})(AbstractString, CurricularAnalytics.Curriculum, Array{CurricularAnalytics.Term, 1}) in module CurricularAnalytics at /Users/heileman/.julia/packages/CurricularAnalytics/qqlQU/src/DataTypes/DegreePlan.jl:74 overwritten at /Users/heileman/.julia/packages/CurricularAnalytics/qqlQU/src/DataTypes/DegreePlan.jl:99.\n",
      "  ** incremental compilation may be fatally broken for this module **\n",
      "\n",
      "┌ Warning: Package OffsetArrays does not have Adapt in its dependencies:\n",
      "│ - If you have OffsetArrays checked out for development and have\n",
      "│   added Adapt as a dependency but haven't updated your primary\n",
      "│   environment's manifest file, try `Pkg.resolve()`.\n",
      "│ - Otherwise you may need to report an issue with OffsetArrays\n",
      "└ Loading Adapt into OffsetArrays from project dependency, future warnings for OffsetArrays are suppressed.\n",
      "┌ Warning: The call to compilecache failed to create a usable precompiled cache file for Interpolations [a98d9a8b-a2ab-59e6-89dd-64a1c18fca59]\n",
      "│   exception = Required dependency OffsetArrays [6fe1bfb0-de20-5000-8ca7-80f57d26f881] failed to load from a cache file.\n",
      "└ @ Base loading.jl:1042\n",
      "┌ Warning: Package OffsetArrays does not have Adapt in its dependencies:\n",
      "│ - If you have OffsetArrays checked out for development and have\n",
      "│   added Adapt as a dependency but haven't updated your primary\n",
      "│   environment's manifest file, try `Pkg.resolve()`.\n",
      "│ - Otherwise you may need to report an issue with OffsetArrays\n",
      "└ Loading Adapt into OffsetArrays from project dependency, future warnings for OffsetArrays are suppressed.\n",
      "┌ Warning: Module Interpolations with build ID 84693283606329 is missing from the cache.\n",
      "│ This may mean Interpolations [a98d9a8b-a2ab-59e6-89dd-64a1c18fca59] does not support precompilation but is imported by a module that does.\n",
      "└ @ Base loading.jl:1017\n",
      "┌ Warning: The call to compilecache failed to create a usable precompiled cache file for StatsPlots [f3b207a7-027a-5e70-b257-86293d7955fd]\n",
      "│   exception = Required dependency OffsetArrays [6fe1bfb0-de20-5000-8ca7-80f57d26f881] failed to load from a cache file.\n",
      "└ @ Base loading.jl:1042\n",
      "┌ Warning: Package OffsetArrays does not have Adapt in its dependencies:\n",
      "│ - If you have OffsetArrays checked out for development and have\n",
      "│   added Adapt as a dependency but haven't updated your primary\n",
      "│   environment's manifest file, try `Pkg.resolve()`.\n",
      "│ - Otherwise you may need to report an issue with OffsetArrays\n",
      "└ Loading Adapt into OffsetArrays from project dependency, future warnings for OffsetArrays are suppressed.\n",
      "┌ Warning: The call to compilecache failed to create a usable precompiled cache file for Interpolations [a98d9a8b-a2ab-59e6-89dd-64a1c18fca59]\n",
      "│   exception = Required dependency OffsetArrays [6fe1bfb0-de20-5000-8ca7-80f57d26f881] failed to load from a cache file.\n",
      "└ @ Base loading.jl:1042\n",
      "┌ Warning: Package OffsetArrays does not have Adapt in its dependencies:\n",
      "│ - If you have OffsetArrays checked out for development and have\n",
      "│   added Adapt as a dependency but haven't updated your primary\n",
      "│   environment's manifest file, try `Pkg.resolve()`.\n",
      "│ - Otherwise you may need to report an issue with OffsetArrays\n",
      "└ Loading Adapt into OffsetArrays from project dependency, future warnings for OffsetArrays are suppressed.\n",
      "┌ Warning: Module Interpolations with build ID 84707718648590 is missing from the cache.\n",
      "│ This may mean Interpolations [a98d9a8b-a2ab-59e6-89dd-64a1c18fca59] does not support precompilation but is imported by a module that does.\n",
      "└ @ Base loading.jl:1017\n"
     ]
    },
    {
     "data": {
      "text/html": [
       "<script>\n",
       "// Immediately-invoked-function-expression to avoid global variables.\n",
       "(function() {\n",
       "    var warning_div = document.getElementById(\"webio-warning-11363919479042345723\");\n",
       "    var hide = function () {\n",
       "        var script = document.getElementById(\"webio-setup-2072126527726622693\");\n",
       "        var parent = script && script.parentElement;\n",
       "        var grandparent = parent && parent.parentElement;\n",
       "        if (grandparent) {\n",
       "            grandparent.style.display = \"none\";\n",
       "        }\n",
       "        warning_div.style.display = \"none\";\n",
       "    };\n",
       "    if (typeof Jupyter !== \"undefined\") {\n",
       "        console.log(\"WebIO detected Jupyter notebook environment.\");\n",
       "        // Jupyter notebook.\n",
       "        var extensions = (\n",
       "            Jupyter\n",
       "            && Jupyter.notebook.config.data\n",
       "            && Jupyter.notebook.config.data.load_extensions\n",
       "        );\n",
       "        if (extensions && extensions[\"webio-jupyter-notebook\"]) {\n",
       "            // Extension already loaded.\n",
       "            console.log(\"Jupyter WebIO nbextension detected; not loading ad-hoc.\");\n",
       "            hide();\n",
       "            return;\n",
       "        }\n",
       "    } else if (window.location.pathname.includes(\"/lab\")) {\n",
       "        // Guessing JupyterLa\n",
       "        console.log(\"Jupyter Lab detected; make sure the @webio/jupyter-lab-provider labextension is installed.\");\n",
       "        hide();\n",
       "        return;\n",
       "    }\n",
       "})();\n",
       "\n",
       "</script>\n",
       "<p\n",
       "    id=\"webio-warning-11363919479042345723\"\n",
       "    class=\"output_text output_stderr\"\n",
       "    style=\"padding: 1em; font-weight: bold;\"\n",
       ">\n",
       "    Unable to load WebIO. Please make sure WebIO works for your Jupyter client.\n",
       "    For troubleshooting, please see <a href=\"https://juliagizmos.github.io/WebIO.jl/latest/providers/ijulia/\">\n",
       "    the WebIO/IJulia documentation</a>.\n",
       "    <!-- TODO: link to installation docs. -->\n",
       "</p>\n"
      ],
      "text/plain": [
       "HTML{String}(\"<script>\\n// Immediately-invoked-function-expression to avoid global variables.\\n(function() {\\n    var warning_div = document.getElementById(\\\"webio-warning-11363919479042345723\\\");\\n    var hide = function () {\\n        var script = document.getElementById(\\\"webio-setup-2072126527726622693\\\");\\n        var parent = script && script.parentElement;\\n        var grandparent = parent && parent.parentElement;\\n        if (grandparent) {\\n            grandparent.style.display = \\\"none\\\";\\n        }\\n        warning_div.style.display = \\\"none\\\";\\n    };\\n    if (typeof Jupyter !== \\\"undefined\\\") {\\n        console.log(\\\"WebIO detected Jupyter notebook environment.\\\");\\n        // Jupyter notebook.\\n        var extensions = (\\n            Jupyter\\n            && Jupyter.notebook.config.data\\n            && Jupyter.notebook.config.data.load_extensions\\n        );\\n        if (extensions && extensions[\\\"webio-jupyter-notebook\\\"]) {\\n            // Extension already loaded.\\n            console.log(\\\"Jupyter WebIO nbextension detected; not loading ad-hoc.\\\");\\n            hide();\\n            return;\\n        }\\n    } else if (window.location.pathname.includes(\\\"/lab\\\")) {\\n        // Guessing JupyterLa\\n        console.log(\\\"Jupyter Lab detected; make sure the @webio/jupyter-lab-provider labextension is installed.\\\");\\n        hide();\\n        return;\\n    }\\n})();\\n\\n</script>\\n<p\\n    id=\\\"webio-warning-11363919479042345723\\\"\\n    class=\\\"output_text output_stderr\\\"\\n    style=\\\"padding: 1em; font-weight: bold;\\\"\\n>\\n    Unable to load WebIO. Please make sure WebIO works for your Jupyter client.\\n    For troubleshooting, please see <a href=\\\"https://juliagizmos.github.io/WebIO.jl/latest/providers/ijulia/\\\">\\n    the WebIO/IJulia documentation</a>.\\n    <!-- TODO: link to installation docs. -->\\n</p>\\n\")"
      ]
     },
     "metadata": {},
     "output_type": "display_data"
    },
    {
     "name": "stderr",
     "output_type": "stream",
     "text": [
      "┌ Warning: The call to compilecache failed to create a usable precompiled cache file for CurricularVisualization [fbaee398-1ac9-4ee2-a69c-ef17203eefbf]\n",
      "│   exception = ErrorException(\"Required dependency OffsetArrays [6fe1bfb0-de20-5000-8ca7-80f57d26f881] failed to load from a cache file.\")\n",
      "└ @ Base loading.jl:1042\n"
     ]
    },
    {
     "data": {
      "text/html": [
       "<script>\n",
       "// Immediately-invoked-function-expression to avoid global variables.\n",
       "(function() {\n",
       "    var warning_div = document.getElementById(\"webio-warning-2371300438767725302\");\n",
       "    var hide = function () {\n",
       "        var script = document.getElementById(\"webio-setup-9170299326510949412\");\n",
       "        var parent = script && script.parentElement;\n",
       "        var grandparent = parent && parent.parentElement;\n",
       "        if (grandparent) {\n",
       "            grandparent.style.display = \"none\";\n",
       "        }\n",
       "        warning_div.style.display = \"none\";\n",
       "    };\n",
       "    if (typeof Jupyter !== \"undefined\") {\n",
       "        console.log(\"WebIO detected Jupyter notebook environment.\");\n",
       "        // Jupyter notebook.\n",
       "        var extensions = (\n",
       "            Jupyter\n",
       "            && Jupyter.notebook.config.data\n",
       "            && Jupyter.notebook.config.data.load_extensions\n",
       "        );\n",
       "        if (extensions && extensions[\"webio-jupyter-notebook\"]) {\n",
       "            // Extension already loaded.\n",
       "            console.log(\"Jupyter WebIO nbextension detected; not loading ad-hoc.\");\n",
       "            hide();\n",
       "            return;\n",
       "        }\n",
       "    } else if (window.location.pathname.includes(\"/lab\")) {\n",
       "        // Guessing JupyterLa\n",
       "        console.log(\"Jupyter Lab detected; make sure the @webio/jupyter-lab-provider labextension is installed.\");\n",
       "        hide();\n",
       "        return;\n",
       "    }\n",
       "})();\n",
       "\n",
       "</script>\n",
       "<p\n",
       "    id=\"webio-warning-2371300438767725302\"\n",
       "    class=\"output_text output_stderr\"\n",
       "    style=\"padding: 1em; font-weight: bold;\"\n",
       ">\n",
       "    Unable to load WebIO. Please make sure WebIO works for your Jupyter client.\n",
       "    For troubleshooting, please see <a href=\"https://juliagizmos.github.io/WebIO.jl/latest/providers/ijulia/\">\n",
       "    the WebIO/IJulia documentation</a>.\n",
       "    <!-- TODO: link to installation docs. -->\n",
       "</p>\n"
      ],
      "text/plain": [
       "HTML{String}(\"<script>\\n// Immediately-invoked-function-expression to avoid global variables.\\n(function() {\\n    var warning_div = document.getElementById(\\\"webio-warning-2371300438767725302\\\");\\n    var hide = function () {\\n        var script = document.getElementById(\\\"webio-setup-9170299326510949412\\\");\\n        var parent = script && script.parentElement;\\n        var grandparent = parent && parent.parentElement;\\n        if (grandparent) {\\n            grandparent.style.display = \\\"none\\\";\\n        }\\n        warning_div.style.display = \\\"none\\\";\\n    };\\n    if (typeof Jupyter !== \\\"undefined\\\") {\\n        console.log(\\\"WebIO detected Jupyter notebook environment.\\\");\\n        // Jupyter notebook.\\n        var extensions = (\\n            Jupyter\\n            && Jupyter.notebook.config.data\\n            && Jupyter.notebook.config.data.load_extensions\\n        );\\n        if (extensions && extensions[\\\"webio-jupyter-notebook\\\"]) {\\n            // Extension already loaded.\\n            console.log(\\\"Jupyter WebIO nbextension detected; not loading ad-hoc.\\\");\\n            hide();\\n            return;\\n        }\\n    } else if (window.location.pathname.includes(\\\"/lab\\\")) {\\n        // Guessing JupyterLa\\n        console.log(\\\"Jupyter Lab detected; make sure the @webio/jupyter-lab-provider labextension is installed.\\\");\\n        hide();\\n        return;\\n    }\\n})();\\n\\n</script>\\n<p\\n    id=\\\"webio-warning-2371300438767725302\\\"\\n    class=\\\"output_text output_stderr\\\"\\n    style=\\\"padding: 1em; font-weight: bold;\\\"\\n>\\n    Unable to load WebIO. Please make sure WebIO works for your Jupyter client.\\n    For troubleshooting, please see <a href=\\\"https://juliagizmos.github.io/WebIO.jl/latest/providers/ijulia/\\\">\\n    the WebIO/IJulia documentation</a>.\\n    <!-- TODO: link to installation docs. -->\\n</p>\\n\")"
      ]
     },
     "metadata": {},
     "output_type": "display_data"
    },
    {
     "name": "stderr",
     "output_type": "stream",
     "text": [
      "WARNING: redefinition of constant known_mimetypes. This may fail, cause incorrect answers, or produce other errors.\n",
      "WARNING: redefinition of constant singleton_instance. This may fail, cause incorrect answers, or produce other errors.\n",
      "WARNING: redefinition of constant routing_callback. This may fail, cause incorrect answers, or produce other errors.\n",
      "WARNING: redefinition of constant webio_server_config. This may fail, cause incorrect answers, or produce other errors.\n",
      "┌ Info: Precompiling StatsPlots [f3b207a7-027a-5e70-b257-86293d7955fd]\n",
      "└ @ Base loading.jl:1278\n",
      "┌ Warning: Package OffsetArrays does not have Adapt in its dependencies:\n",
      "│ - If you have OffsetArrays checked out for development and have\n",
      "│   added Adapt as a dependency but haven't updated your primary\n",
      "│   environment's manifest file, try `Pkg.resolve()`.\n",
      "│ - Otherwise you may need to report an issue with OffsetArrays\n",
      "└ Loading Adapt into OffsetArrays from project dependency, future warnings for OffsetArrays are suppressed.\n",
      "┌ Warning: The call to compilecache failed to create a usable precompiled cache file for Interpolations [a98d9a8b-a2ab-59e6-89dd-64a1c18fca59]\n",
      "│   exception = Required dependency OffsetArrays [6fe1bfb0-de20-5000-8ca7-80f57d26f881] failed to load from a cache file.\n",
      "└ @ Base loading.jl:1042\n",
      "┌ Warning: Package OffsetArrays does not have Adapt in its dependencies:\n",
      "│ - If you have OffsetArrays checked out for development and have\n",
      "│   added Adapt as a dependency but haven't updated your primary\n",
      "│   environment's manifest file, try `Pkg.resolve()`.\n",
      "│ - Otherwise you may need to report an issue with OffsetArrays\n",
      "└ Loading Adapt into OffsetArrays from project dependency, future warnings for OffsetArrays are suppressed.\n",
      "┌ Warning: Module Interpolations with build ID 84749230009537 is missing from the cache.\n",
      "│ This may mean Interpolations [a98d9a8b-a2ab-59e6-89dd-64a1c18fca59] does not support precompilation but is imported by a module that does.\n",
      "└ @ Base loading.jl:1017\n",
      "┌ Warning: The call to compilecache failed to create a usable precompiled cache file for StatsPlots [f3b207a7-027a-5e70-b257-86293d7955fd]\n",
      "│   exception = ErrorException(\"Required dependency OffsetArrays [6fe1bfb0-de20-5000-8ca7-80f57d26f881] failed to load from a cache file.\")\n",
      "└ @ Base loading.jl:1042\n",
      "┌ Info: Precompiling Interpolations [a98d9a8b-a2ab-59e6-89dd-64a1c18fca59]\n",
      "└ @ Base loading.jl:1278\n",
      "┌ Warning: Package OffsetArrays does not have Adapt in its dependencies:\n",
      "│ - If you have OffsetArrays checked out for development and have\n",
      "│   added Adapt as a dependency but haven't updated your primary\n",
      "│   environment's manifest file, try `Pkg.resolve()`.\n",
      "│ - Otherwise you may need to report an issue with OffsetArrays\n",
      "└ Loading Adapt into OffsetArrays from project dependency, future warnings for OffsetArrays are suppressed.\n",
      "┌ Warning: The call to compilecache failed to create a usable precompiled cache file for Interpolations [a98d9a8b-a2ab-59e6-89dd-64a1c18fca59]\n",
      "│   exception = ErrorException(\"Required dependency OffsetArrays [6fe1bfb0-de20-5000-8ca7-80f57d26f881] failed to load from a cache file.\")\n",
      "└ @ Base loading.jl:1042\n",
      "┌ Info: Precompiling OffsetArrays [6fe1bfb0-de20-5000-8ca7-80f57d26f881]\n",
      "└ @ Base loading.jl:1278\n",
      "┌ Warning: Package OffsetArrays does not have Adapt in its dependencies:\n",
      "│ - If you have OffsetArrays checked out for development and have\n",
      "│   added Adapt as a dependency but haven't updated your primary\n",
      "│   environment's manifest file, try `Pkg.resolve()`.\n",
      "│ - Otherwise you may need to report an issue with OffsetArrays\n",
      "└ Loading Adapt into OffsetArrays from project dependency, future warnings for OffsetArrays are suppressed.\n",
      "┌ Info: Precompiling KernelDensity [5ab0869b-81aa-558d-bb23-cbf5423bbe9b]\n",
      "└ @ Base loading.jl:1278\n",
      "┌ Warning: Module Interpolations with build ID 84766420794479 is missing from the cache.\n",
      "│ This may mean Interpolations [a98d9a8b-a2ab-59e6-89dd-64a1c18fca59] does not support precompilation but is imported by a module that does.\n",
      "└ @ Base loading.jl:1017\n",
      "┌ Info: Skipping precompilation since __precompile__(false). Importing KernelDensity [5ab0869b-81aa-558d-bb23-cbf5423bbe9b].\n",
      "└ @ Base loading.jl:1034\n"
     ]
    }
   ],
   "source": [
    "using CurricularAnalytics, CurricularVisualization\n",
    "using Glob\n",
    "using StatsPlots"
   ]
  },
  {
   "cell_type": "markdown",
   "metadata": {},
   "source": [
    "## Create the Data Structures \n",
    "Degree plans associated with four different disciplines (animal science, mechanical engineering, music education, and psychology) were collected from each of the eleven schools in the cluster. The degree plans were stored as CSV files using the format for degree plans specified in the Curricular Analytics toolbox.  The files are organized in a directory structure that is assumed to be in the same directory as this notebook as follows:  `./cluster/<school-name>/<program-name.csv>`\n",
    "\n",
    "Asuuming the aforementioned directory structure, we first create an array called `schools` containing the names of the schools in the cluster, given by the subdirectory names in the ./cluster directory."
   ]
  },
  {
   "cell_type": "code",
   "execution_count": 2,
   "metadata": {},
   "outputs": [],
   "source": [
    "schools = Array{String,1}()\n",
    "for path in glob(\"*\", \"./cluster\")\n",
    "  push!(schools, replace(path, \"./cluster/\" => \"\"))\n",
    "end"
   ]
  },
  {
   "cell_type": "markdown",
   "metadata": {},
   "source": [
    "Next, we will read each of the degree plans, and store them as `DegreePlan` objects in a `school_plans` dictionary data structure."
   ]
  },
  {
   "cell_type": "code",
   "execution_count": 3,
   "metadata": {
    "scrolled": false
   },
   "outputs": [],
   "source": [
    "schools_plans = Dict{String, Dict{String, DegreePlan}}()\n",
    "for school in schools\n",
    "  plans = Dict{String, DegreePlan}()\n",
    "  programs = glob(\"*\", \"./cluster/$(school)\")\n",
    "  for program in programs\n",
    "    program_name = replace(split(\"$(program)\", \"/\")[end], \".csv\" => \"\")\n",
    "    plans[program_name] = read_csv(program)\n",
    "    complexity(plans[program_name].curriculum)  # compute the curricular complexity of the degree plan\n",
    "  end\n",
    "  schools_plans[school] = plans\n",
    "end"
   ]
  },
  {
   "cell_type": "markdown",
   "metadata": {},
   "source": [
    "You can now use this dictionary to access and visualize the degree plan associated with a particular program at a particular school as follows:"
   ]
  },
  {
   "cell_type": "code",
   "execution_count": 4,
   "metadata": {
    "scrolled": false
   },
   "outputs": [
    {
     "data": {
      "application/vnd.webio.node+json": {
       "children": [
        {
         "children": [
          ""
         ],
         "instanceArgs": {
          "namespace": "html",
          "tag": "iframe"
         },
         "nodeType": "DOM",
         "props": {
          "events": {
           "load": "(function (){this.contentWindow.postMessage({\"options\":{\"hideTerms\":false,\"edit\":false},\"curriculum\":{\"name\":\"Music Education\",\"dp_name\":\"4-Year Plan\",\"curriculum_terms\":[{\"name\":\"Term 1\",\"curriculum_items\":[{\"curriculum_requisites\":[],\"name\":\" \",\"metrics\":{\"complexity\":3.0,\"centrality\":0,\"blocking factor\":1,\"delay factor\":2.0},\"nameSub\":\"CO 150\",\"id\":1,\"credits\":3,\"nameCanonical\":\"\"},{\"curriculum_requisites\":[],\"name\":\" \",\"metrics\":{\"complexity\":22.0,\"centrality\":0,\"blocking factor\":14,\"delay factor\":8.0},\"nameSub\":\"MU 117\",\"id\":2,\"credits\":3,\"nameCanonical\":\"\"},{\"curriculum_requisites\":[],\"name\":\" \",\"metrics\":{\"complexity\":7.0,\"centrality\":0,\"blocking factor\":3,\"delay factor\":4.0},\"nameSub\":\"MU 127\",\"id\":3,\"credits\":1,\"nameCanonical\":\"\"},{\"curriculum_requisites\":[],\"name\":\" \",\"metrics\":{\"complexity\":4.0,\"centrality\":0,\"blocking factor\":2,\"delay factor\":2.0},\"nameSub\":\"MU 131\",\"id\":4,\"credits\":3,\"nameCanonical\":\"\"},{\"curriculum_requisites\":[],\"name\":\" \",\"metrics\":{\"complexity\":3.0,\"centrality\":0,\"blocking factor\":1,\"delay factor\":2.0},\"nameSub\":\"MU 150\",\"id\":5,\"credits\":1,\"nameCanonical\":\"\"},{\"curriculum_requisites\":[],\"name\":\" \",\"metrics\":{\"complexity\":1.0,\"centrality\":0,\"blocking factor\":0,\"delay factor\":1.0},\"nameSub\":\"MU 251\",\"id\":6,\"credits\":1,\"nameCanonical\":\"\"},{\"curriculum_requisites\":[],\"name\":\" \",\"metrics\":{\"complexity\":1.0,\"centrality\":0,\"blocking factor\":0,\"delay factor\":1.0},\"nameSub\":\"MU 272\",\"id\":7,\"credits\":1,\"nameCanonical\":\"\"},{\"curriculum_requisites\":[],\"name\":\" \",\"metrics\":{\"complexity\":1.0,\"centrality\":0,\"blocking factor\":0,\"delay factor\":1.0},\"nameSub\":\"MU 286\",\"id\":8,\"credits\":3,\"nameCanonical\":\"\"},{\"curriculum_requisites\":[],\"name\":\" \",\"metrics\":{\"complexity\":1.0,\"centrality\":0,\"blocking factor\":0,\"delay factor\":1.0},\"nameSub\":\"ENSEMBLE\",\"id\":9,\"credits\":1,\"nameCanonical\":\"\"}],\"id\":1},{\"name\":\"Term 2\",\"curriculum_items\":[{\"curriculum_requisites\":[{\"source_id\":2,\"target_id\":10,\"type\":\"CurriculumPrerequisite\"}],\"name\":\" \",\"metrics\":{\"complexity\":19.0,\"centrality\":48,\"blocking factor\":11,\"delay factor\":8.0},\"nameSub\":\"MU 118\",\"id\":10,\"credits\":3,\"nameCanonical\":\"\"},{\"curriculum_requisites\":[{\"source_id\":3,\"target_id\":11,\"type\":\"CurriculumPrerequisite\"}],\"name\":\" \",\"metrics\":{\"complexity\":6.0,\"centrality\":4,\"blocking factor\":2,\"delay factor\":4.0},\"nameSub\":\"MU 128\",\"id\":11,\"credits\":1,\"nameCanonical\":\"\"},{\"curriculum_requisites\":[{\"source_id\":5,\"target_id\":12,\"type\":\"CurriculumPrerequisite\"}],\"name\":\" \",\"metrics\":{\"complexity\":2.0,\"centrality\":0,\"blocking factor\":0,\"delay factor\":2.0},\"nameSub\":\"MU 151A\",\"id\":12,\"credits\":1,\"nameCanonical\":\"\"},{\"curriculum_requisites\":[],\"name\":\" \",\"metrics\":{\"complexity\":1.0,\"centrality\":0,\"blocking factor\":0,\"delay factor\":1.0},\"nameSub\":\"MU 252B\",\"id\":13,\"credits\":2,\"nameCanonical\":\"\"},{\"curriculum_requisites\":[],\"name\":\" \",\"metrics\":{\"complexity\":1.0,\"centrality\":0,\"blocking factor\":0,\"delay factor\":1.0},\"nameSub\":\"MU 272\",\"id\":14,\"credits\":1,\"nameCanonical\":\"\"},{\"curriculum_requisites\":[],\"name\":\" \",\"metrics\":{\"complexity\":1.0,\"centrality\":0,\"blocking factor\":0,\"delay factor\":1.0},\"nameSub\":\"ENSEMBLE\",\"id\":15,\"credits\":1,\"nameCanonical\":\"\"},{\"curriculum_requisites\":[],\"name\":\" \",\"metrics\":{\"complexity\":1.0,\"centrality\":0,\"blocking factor\":0,\"delay factor\":1.0},\"nameSub\":\"AUCC 3B\",\"id\":16,\"credits\":3,\"nameCanonical\":\"\"},{\"curriculum_requisites\":[],\"name\":\" \",\"metrics\":{\"complexity\":1.0,\"centrality\":0,\"blocking factor\":0,\"delay factor\":1.0},\"nameSub\":\"AUCC MATH\",\"id\":17,\"credits\":3,\"nameCanonical\":\"\"}],\"id\":2},{\"name\":\"Term 3\",\"curriculum_items\":[{\"curriculum_requisites\":[],\"name\":\" \",\"metrics\":{\"complexity\":16.0,\"centrality\":0,\"blocking factor\":8,\"delay factor\":8.0},\"nameSub\":\"EDUC 275\",\"id\":18,\"credits\":3,\"nameCanonical\":\"\"},{\"curriculum_requisites\":[{\"source_id\":10,\"target_id\":19,\"type\":\"CurriculumPrerequisite\"}],\"name\":\" \",\"metrics\":{\"complexity\":16.0,\"centrality\":42,\"blocking factor\":8,\"delay factor\":8.0},\"nameSub\":\"MU 217\",\"id\":19,\"credits\":3,\"nameCanonical\":\"\"},{\"curriculum_requisites\":[{\"source_id\":11,\"target_id\":20,\"type\":\"CurriculumPrerequisite\"}],\"name\":\" \",\"metrics\":{\"complexity\":5.0,\"centrality\":4,\"blocking factor\":1,\"delay factor\":4.0},\"nameSub\":\"MU 227\",\"id\":20,\"credits\":1,\"nameCanonical\":\"\"},{\"curriculum_requisites\":[],\"name\":\" \",\"metrics\":{\"complexity\":1.0,\"centrality\":0,\"blocking factor\":0,\"delay factor\":1.0},\"nameSub\":\"MU 252C\",\"id\":21,\"credits\":1,\"nameCanonical\":\"\"},{\"curriculum_requisites\":[],\"name\":\" \",\"metrics\":{\"complexity\":1.0,\"centrality\":0,\"blocking factor\":0,\"delay factor\":1.0},\"nameSub\":\"MU 272\",\"id\":22,\"credits\":1,\"nameCanonical\":\"\"},{\"curriculum_requisites\":[],\"name\":\" \",\"metrics\":{\"complexity\":1.0,\"centrality\":0,\"blocking factor\":0,\"delay factor\":1.0},\"nameSub\":\"ENSEMBLE\",\"id\":23,\"credits\":1,\"nameCanonical\":\"\"},{\"curriculum_requisites\":[{\"source_id\":1,\"target_id\":24,\"type\":\"CurriculumPrerequisite\"}],\"name\":\" \",\"metrics\":{\"complexity\":2.0,\"centrality\":0,\"blocking factor\":0,\"delay factor\":2.0},\"nameSub\":\"AUCC Advanced Writing\",\"id\":24,\"credits\":3,\"nameCanonical\":\"\"},{\"curriculum_requisites\":[],\"name\":\" \",\"metrics\":{\"complexity\":1.0,\"centrality\":0,\"blocking factor\":0,\"delay factor\":1.0},\"nameSub\":\"AUCC 3D\",\"id\":25,\"credits\":3,\"nameCanonical\":\"\"}],\"id\":3},{\"name\":\"Term 4\",\"curriculum_items\":[{\"curriculum_requisites\":[],\"name\":\" \",\"metrics\":{\"complexity\":16.0,\"centrality\":0,\"blocking factor\":8,\"delay factor\":8.0},\"nameSub\":\"EDUC 340\",\"id\":26,\"credits\":3,\"nameCanonical\":\"\"},{\"curriculum_requisites\":[{\"source_id\":19,\"target_id\":27,\"type\":\"CurriculumPrerequisite\"}],\"name\":\" \",\"metrics\":{\"complexity\":7.0,\"centrality\":10,\"blocking factor\":2,\"delay factor\":5.0},\"nameSub\":\"MU 218\",\"id\":27,\"credits\":3,\"nameCanonical\":\"\"},{\"curriculum_requisites\":[{\"source_id\":20,\"target_id\":28,\"type\":\"CurriculumPrerequisite\"}],\"name\":\" \",\"metrics\":{\"complexity\":4.0,\"centrality\":0,\"blocking factor\":0,\"delay factor\":4.0},\"nameSub\":\"MU 228\",\"id\":28,\"credits\":1,\"nameCanonical\":\"\"},{\"curriculum_requisites\":[],\"name\":\" \",\"metrics\":{\"complexity\":1.0,\"centrality\":0,\"blocking factor\":0,\"delay factor\":1.0},\"nameSub\":\"MU 252A\",\"id\":29,\"credits\":2,\"nameCanonical\":\"\"},{\"curriculum_requisites\":[],\"name\":\" \",\"metrics\":{\"complexity\":1.0,\"centrality\":0,\"blocking factor\":0,\"delay factor\":1.0},\"nameSub\":\"MU 272\",\"id\":30,\"credits\":1,\"nameCanonical\":\"\"},{\"curriculum_requisites\":[],\"name\":\" \",\"metrics\":{\"complexity\":1.0,\"centrality\":0,\"blocking factor\":0,\"delay factor\":1.0},\"nameSub\":\"ENSEMBLE\",\"id\":31,\"credits\":1,\"nameCanonical\":\"\"},{\"curriculum_requisites\":[],\"name\":\" \",\"metrics\":{\"complexity\":1.0,\"centrality\":0,\"blocking factor\":0,\"delay factor\":1.0},\"nameSub\":\"AUCC 3A\",\"id\":32,\"credits\":4,\"nameCanonical\":\"\"}],\"id\":4},{\"name\":\"Term 5\",\"curriculum_items\":[{\"curriculum_requisites\":[{\"source_id\":26,\"target_id\":33,\"type\":\"CurriculumPrerequisite\"},{\"source_id\":18,\"target_id\":33,\"type\":\"CurriculumPrerequisite\"}],\"name\":\" \",\"metrics\":{\"complexity\":10.0,\"centrality\":30,\"blocking factor\":4,\"delay factor\":6.0},\"nameSub\":\"EDUC 331\",\"id\":33,\"credits\":2,\"nameCanonical\":\"\"},{\"curriculum_requisites\":[],\"name\":\" \",\"metrics\":{\"complexity\":1.0,\"centrality\":0,\"blocking factor\":0,\"delay factor\":1.0},\"nameSub\":\"EDUC 474\",\"id\":34,\"credits\":2,\"nameCanonical\":\"\"},{\"curriculum_requisites\":[{\"source_id\":2,\"target_id\":35,\"type\":\"CurriculumPrerequisite\"}],\"name\":\" \",\"metrics\":{\"complexity\":4.0,\"centrality\":3,\"blocking factor\":1,\"delay factor\":3.0},\"nameSub\":\"MU 254\",\"id\":35,\"credits\":2,\"nameCanonical\":\"\"},{\"curriculum_requisites\":[{\"source_id\":27,\"target_id\":36,\"type\":\"CurriculumPrerequisite\"}],\"name\":\" \",\"metrics\":{\"complexity\":5.0,\"centrality\":0,\"blocking factor\":0,\"delay factor\":5.0},\"nameSub\":\"MU 317\",\"id\":36,\"credits\":2,\"nameCanonical\":\"\"},{\"curriculum_requisites\":[{\"source_id\":4,\"target_id\":37,\"type\":\"CurriculumPrerequisite\"},{\"source_id\":10,\"target_id\":37,\"type\":\"CurriculumPrerequisite\"}],\"name\":\" \",\"metrics\":{\"complexity\":3.0,\"centrality\":0,\"blocking factor\":0,\"delay factor\":3.0},\"nameSub\":\"MU 334\",\"id\":37,\"credits\":3,\"nameCanonical\":\"\"},{\"curriculum_requisites\":[],\"name\":\" \",\"metrics\":{\"complexity\":1.0,\"centrality\":0,\"blocking factor\":0,\"delay factor\":1.0},\"nameSub\":\"MU 472\",\"id\":38,\"credits\":1,\"nameCanonical\":\"\"},{\"curriculum_requisites\":[],\"name\":\" \",\"metrics\":{\"complexity\":1.0,\"centrality\":0,\"blocking factor\":0,\"delay factor\":1.0},\"nameSub\":\"ENSEMBLE\",\"id\":39,\"credits\":1,\"nameCanonical\":\"\"},{\"curriculum_requisites\":[],\"name\":\" \",\"metrics\":{\"complexity\":1.0,\"centrality\":0,\"blocking factor\":0,\"delay factor\":1.0},\"nameSub\":\"AUCC 3A\",\"id\":40,\"credits\":3,\"nameCanonical\":\"\"}],\"id\":5},{\"name\":\"Term 6\",\"curriculum_items\":[{\"curriculum_requisites\":[{\"source_id\":26,\"target_id\":41,\"type\":\"CurriculumPrerequisite\"},{\"source_id\":42,\"target_id\":41,\"type\":\"CurriculumCorequisite\"},{\"source_id\":18,\"target_id\":41,\"type\":\"CurriculumPrerequisite\"}],\"name\":\" \",\"metrics\":{\"complexity\":12.0,\"centrality\":108,\"blocking factor\":4,\"delay factor\":8.0},\"nameSub\":\"EDUC 350\",\"id\":41,\"credits\":3,\"nameCanonical\":\"\"},{\"curriculum_requisites\":[{\"source_id\":26,\"target_id\":42,\"type\":\"CurriculumPrerequisite\"},{\"source_id\":43,\"target_id\":42,\"type\":\"CurriculumCorequisite\"},{\"source_id\":18,\"target_id\":42,\"type\":\"CurriculumPrerequisite\"}],\"name\":\" \",\"metrics\":{\"complexity\":13.0,\"centrality\":144,\"blocking factor\":5,\"delay factor\":8.0},\"nameSub\":\"EDUC 386\",\"id\":42,\"credits\":1,\"nameCanonical\":\"\"},{\"curriculum_requisites\":[{\"source_id\":26,\"target_id\":43,\"type\":\"CurriculumPrerequisite\"},{\"source_id\":18,\"target_id\":43,\"type\":\"CurriculumPrerequisite\"}],\"name\":\" \",\"metrics\":{\"complexity\":14.0,\"centrality\":78,\"blocking factor\":6,\"delay factor\":8.0},\"nameSub\":\"EDUC 475\",\"id\":43,\"credits\":1,\"nameCanonical\":\"\"},{\"curriculum_requisites\":[{\"source_id\":27,\"target_id\":44,\"type\":\"CurriculumPrerequisite\"}],\"name\":\" \",\"metrics\":{\"complexity\":5.0,\"centrality\":0,\"blocking factor\":0,\"delay factor\":5.0},\"nameSub\":\"MU 318\",\"id\":44,\"credits\":1,\"nameCanonical\":\"\"},{\"curriculum_requisites\":[{\"source_id\":4,\"target_id\":45,\"type\":\"CurriculumPrerequisite\"},{\"source_id\":10,\"target_id\":45,\"type\":\"CurriculumPrerequisite\"}],\"name\":\" \",\"metrics\":{\"complexity\":3.0,\"centrality\":0,\"blocking factor\":0,\"delay factor\":3.0},\"nameSub\":\"MU 335\",\"id\":45,\"credits\":1,\"nameCanonical\":\"\"},{\"curriculum_requisites\":[{\"source_id\":35,\"target_id\":46,\"type\":\"CurriculumPrerequisite\"}],\"name\":\" \",\"metrics\":{\"complexity\":3.0,\"centrality\":0,\"blocking factor\":0,\"delay factor\":3.0},\"nameSub\":\"MU 356\",\"id\":46,\"credits\":1,\"nameCanonical\":\"\"},{\"curriculum_requisites\":[],\"name\":\" \",\"metrics\":{\"complexity\":1.0,\"centrality\":0,\"blocking factor\":0,\"delay factor\":1.0},\"nameSub\":\"MU ELECTIVE\",\"id\":47,\"credits\":1,\"nameCanonical\":\"\"},{\"curriculum_requisites\":[],\"name\":\" \",\"metrics\":{\"complexity\":1.0,\"centrality\":0,\"blocking factor\":0,\"delay factor\":1.0},\"nameSub\":\"MU 472\",\"id\":48,\"credits\":1,\"nameCanonical\":\"\"},{\"curriculum_requisites\":[],\"name\":\" \",\"metrics\":{\"complexity\":1.0,\"centrality\":0,\"blocking factor\":0,\"delay factor\":1.0},\"nameSub\":\"ENSEMBLE\",\"id\":49,\"credits\":1,\"nameCanonical\":\"\"}],\"id\":6},{\"name\":\"Term 7\",\"curriculum_items\":[{\"curriculum_requisites\":[{\"source_id\":42,\"target_id\":50,\"type\":\"CurriculumPrerequisite\"},{\"source_id\":51,\"target_id\":50,\"type\":\"CurriculumCorequisite\"},{\"source_id\":41,\"target_id\":50,\"type\":\"CurriculumPrerequisite\"},{\"source_id\":33,\"target_id\":50,\"type\":\"CurriculumPrerequisite\"}],\"name\":\" \",\"metrics\":{\"complexity\":11.0,\"centrality\":240,\"blocking factor\":3,\"delay factor\":8.0},\"nameSub\":\"EDUC 450\",\"id\":50,\"credits\":4,\"nameCanonical\":\"\"},{\"curriculum_requisites\":[{\"source_id\":19,\"target_id\":51,\"type\":\"CurriculumPrerequisite\"},{\"source_id\":52,\"target_id\":51,\"type\":\"CurriculumCorequisite\"}],\"name\":\" \",\"metrics\":{\"complexity\":12.0,\"centrality\":54,\"blocking factor\":4,\"delay factor\":8.0},\"nameSub\":\"EDUC 477\",\"id\":51,\"credits\":2,\"nameCanonical\":\"\"},{\"curriculum_requisites\":[],\"name\":\" \",\"metrics\":{\"complexity\":11.0,\"centrality\":0,\"blocking factor\":5,\"delay factor\":6.0},\"nameSub\":\"EDUC 486E\",\"id\":52,\"credits\":1,\"nameCanonical\":\"\"},{\"curriculum_requisites\":[],\"name\":\" \",\"metrics\":{\"complexity\":1.0,\"centrality\":0,\"blocking factor\":0,\"delay factor\":1.0},\"nameSub\":\"MU 252D\",\"id\":53,\"credits\":1,\"nameCanonical\":\"\"},{\"curriculum_requisites\":[],\"name\":\" \",\"metrics\":{\"complexity\":1.0,\"centrality\":0,\"blocking factor\":0,\"delay factor\":1.0},\"nameSub\":\"MU 425\",\"id\":54,\"credits\":2,\"nameCanonical\":\"\"},{\"curriculum_requisites\":[],\"name\":\" \",\"metrics\":{\"complexity\":1.0,\"centrality\":0,\"blocking factor\":0,\"delay factor\":1.0},\"nameSub\":\"MU 471\",\"id\":55,\"credits\":1,\"nameCanonical\":\"\"},{\"curriculum_requisites\":[],\"name\":\" \",\"metrics\":{\"complexity\":1.0,\"centrality\":0,\"blocking factor\":0,\"delay factor\":1.0},\"nameSub\":\"MU 472\",\"id\":56,\"credits\":1,\"nameCanonical\":\"\"},{\"curriculum_requisites\":[],\"name\":\" \",\"metrics\":{\"complexity\":1.0,\"centrality\":0,\"blocking factor\":0,\"delay factor\":1.0},\"nameSub\":\"ENSEMBLE\",\"id\":57,\"credits\":1,\"nameCanonical\":\"\"},{\"curriculum_requisites\":[],\"name\":\" \",\"metrics\":{\"complexity\":1.0,\"centrality\":0,\"blocking factor\":0,\"delay factor\":1.0},\"nameSub\":\"AUCC 3E\",\"id\":58,\"credits\":3,\"nameCanonical\":\"\"}],\"id\":7},{\"name\":\"Term 8\",\"curriculum_items\":[{\"curriculum_requisites\":[{\"source_id\":50,\"target_id\":59,\"type\":\"CurriculumPrerequisite\"},{\"source_id\":60,\"target_id\":59,\"type\":\"CurriculumCorequisite\"},{\"source_id\":51,\"target_id\":59,\"type\":\"CurriculumPrerequisite\"}],\"name\":\" \",\"metrics\":{\"complexity\":8.0,\"centrality\":0,\"blocking factor\":0,\"delay factor\":8.0},\"nameSub\":\"EDUC 485A\",\"id\":59,\"credits\":6,\"nameCanonical\":\"\"},{\"curriculum_requisites\":[{\"source_id\":50,\"target_id\":60,\"type\":\"CurriculumPrerequisite\"},{\"source_id\":61,\"target_id\":60,\"type\":\"CurriculumCorequisite\"},{\"source_id\":51,\"target_id\":60,\"type\":\"CurriculumPrerequisite\"}],\"name\":\" \",\"metrics\":{\"complexity\":9.0,\"centrality\":184,\"blocking factor\":1,\"delay factor\":8.0},\"nameSub\":\"EDUC 485B\",\"id\":60,\"credits\":6,\"nameCanonical\":\"\"},{\"curriculum_requisites\":[{\"source_id\":50,\"target_id\":61,\"type\":\"CurriculumPrerequisite\"}],\"name\":\" \",\"metrics\":{\"complexity\":10.0,\"centrality\":94,\"blocking factor\":2,\"delay factor\":8.0},\"nameSub\":\"EDUC 493A\",\"id\":61,\"credits\":1,\"nameCanonical\":\"\"},{\"curriculum_requisites\":[],\"name\":\" \",\"metrics\":{\"complexity\":1.0,\"centrality\":0,\"blocking factor\":0,\"delay factor\":1.0},\"nameSub\":\"ELECTIVE\",\"id\":62,\"credits\":1,\"nameCanonical\":\"\"}],\"id\":8}],\"institution\":\"Colorado State University\"}},\"*\"); window.removeEventListener(\"message\",window.messageReceived); window.messageReceived=(function (event){return (event.data.curriculum!==undefined) ? (WebIO.setval({\"name\":\"curriculum-data\",\"scope\":\"7710941920300394773\",\"id\":\"2074722546589354105\",\"type\":\"observable\"},event.data.curriculum)) : undefined}); return window.addEventListener(\"message\",window.messageReceived)})"
          },
          "id": "curriculum",
          "src": "http://localhost:8156",
          "style": {
           "border": "none",
           "height": "100vh",
           "margin": "0",
           "padding": "0",
           "width": "100%"
          }
         },
         "type": "node"
        }
       ],
       "instanceArgs": {
        "handlers": {},
        "id": "7710941920300394773",
        "imports": {
         "data": [],
         "type": "async_block"
        },
        "mount_callbacks": [],
        "observables": {
         "curriculum-data": {
          "id": "2074722546589354105",
          "sync": true,
          "value": {
           "curriculum": {
            "curriculum_terms": [
             {
              "curriculum_items": [
               {
                "credits": 3,
                "curriculum_requisites": [],
                "id": 1,
                "metrics": {
                 "blocking factor": 1,
                 "centrality": 0,
                 "complexity": 3,
                 "delay factor": 2
                },
                "name": " ",
                "nameCanonical": "",
                "nameSub": "CO 150"
               },
               {
                "credits": 3,
                "curriculum_requisites": [],
                "id": 2,
                "metrics": {
                 "blocking factor": 14,
                 "centrality": 0,
                 "complexity": 22,
                 "delay factor": 8
                },
                "name": " ",
                "nameCanonical": "",
                "nameSub": "MU 117"
               },
               {
                "credits": 1,
                "curriculum_requisites": [],
                "id": 3,
                "metrics": {
                 "blocking factor": 3,
                 "centrality": 0,
                 "complexity": 7,
                 "delay factor": 4
                },
                "name": " ",
                "nameCanonical": "",
                "nameSub": "MU 127"
               },
               {
                "credits": 3,
                "curriculum_requisites": [],
                "id": 4,
                "metrics": {
                 "blocking factor": 2,
                 "centrality": 0,
                 "complexity": 4,
                 "delay factor": 2
                },
                "name": " ",
                "nameCanonical": "",
                "nameSub": "MU 131"
               },
               {
                "credits": 1,
                "curriculum_requisites": [],
                "id": 5,
                "metrics": {
                 "blocking factor": 1,
                 "centrality": 0,
                 "complexity": 3,
                 "delay factor": 2
                },
                "name": " ",
                "nameCanonical": "",
                "nameSub": "MU 150"
               },
               {
                "credits": 1,
                "curriculum_requisites": [],
                "id": 6,
                "metrics": {
                 "blocking factor": 0,
                 "centrality": 0,
                 "complexity": 1,
                 "delay factor": 1
                },
                "name": " ",
                "nameCanonical": "",
                "nameSub": "MU 251"
               },
               {
                "credits": 1,
                "curriculum_requisites": [],
                "id": 7,
                "metrics": {
                 "blocking factor": 0,
                 "centrality": 0,
                 "complexity": 1,
                 "delay factor": 1
                },
                "name": " ",
                "nameCanonical": "",
                "nameSub": "MU 272"
               },
               {
                "credits": 3,
                "curriculum_requisites": [],
                "id": 8,
                "metrics": {
                 "blocking factor": 0,
                 "centrality": 0,
                 "complexity": 1,
                 "delay factor": 1
                },
                "name": " ",
                "nameCanonical": "",
                "nameSub": "MU 286"
               },
               {
                "credits": 1,
                "curriculum_requisites": [],
                "id": 9,
                "metrics": {
                 "blocking factor": 0,
                 "centrality": 0,
                 "complexity": 1,
                 "delay factor": 1
                },
                "name": " ",
                "nameCanonical": "",
                "nameSub": "ENSEMBLE"
               }
              ],
              "id": 1,
              "name": "Term 1"
             },
             {
              "curriculum_items": [
               {
                "credits": 3,
                "curriculum_requisites": [
                 {
                  "source_id": 2,
                  "target_id": 10,
                  "type": "CurriculumPrerequisite"
                 }
                ],
                "id": 10,
                "metrics": {
                 "blocking factor": 11,
                 "centrality": 48,
                 "complexity": 19,
                 "delay factor": 8
                },
                "name": " ",
                "nameCanonical": "",
                "nameSub": "MU 118"
               },
               {
                "credits": 1,
                "curriculum_requisites": [
                 {
                  "source_id": 3,
                  "target_id": 11,
                  "type": "CurriculumPrerequisite"
                 }
                ],
                "id": 11,
                "metrics": {
                 "blocking factor": 2,
                 "centrality": 4,
                 "complexity": 6,
                 "delay factor": 4
                },
                "name": " ",
                "nameCanonical": "",
                "nameSub": "MU 128"
               },
               {
                "credits": 1,
                "curriculum_requisites": [
                 {
                  "source_id": 5,
                  "target_id": 12,
                  "type": "CurriculumPrerequisite"
                 }
                ],
                "id": 12,
                "metrics": {
                 "blocking factor": 0,
                 "centrality": 0,
                 "complexity": 2,
                 "delay factor": 2
                },
                "name": " ",
                "nameCanonical": "",
                "nameSub": "MU 151A"
               },
               {
                "credits": 2,
                "curriculum_requisites": [],
                "id": 13,
                "metrics": {
                 "blocking factor": 0,
                 "centrality": 0,
                 "complexity": 1,
                 "delay factor": 1
                },
                "name": " ",
                "nameCanonical": "",
                "nameSub": "MU 252B"
               },
               {
                "credits": 1,
                "curriculum_requisites": [],
                "id": 14,
                "metrics": {
                 "blocking factor": 0,
                 "centrality": 0,
                 "complexity": 1,
                 "delay factor": 1
                },
                "name": " ",
                "nameCanonical": "",
                "nameSub": "MU 272"
               },
               {
                "credits": 1,
                "curriculum_requisites": [],
                "id": 15,
                "metrics": {
                 "blocking factor": 0,
                 "centrality": 0,
                 "complexity": 1,
                 "delay factor": 1
                },
                "name": " ",
                "nameCanonical": "",
                "nameSub": "ENSEMBLE"
               },
               {
                "credits": 3,
                "curriculum_requisites": [],
                "id": 16,
                "metrics": {
                 "blocking factor": 0,
                 "centrality": 0,
                 "complexity": 1,
                 "delay factor": 1
                },
                "name": " ",
                "nameCanonical": "",
                "nameSub": "AUCC 3B"
               },
               {
                "credits": 3,
                "curriculum_requisites": [],
                "id": 17,
                "metrics": {
                 "blocking factor": 0,
                 "centrality": 0,
                 "complexity": 1,
                 "delay factor": 1
                },
                "name": " ",
                "nameCanonical": "",
                "nameSub": "AUCC MATH"
               }
              ],
              "id": 2,
              "name": "Term 2"
             },
             {
              "curriculum_items": [
               {
                "credits": 3,
                "curriculum_requisites": [],
                "id": 18,
                "metrics": {
                 "blocking factor": 8,
                 "centrality": 0,
                 "complexity": 16,
                 "delay factor": 8
                },
                "name": " ",
                "nameCanonical": "",
                "nameSub": "EDUC 275"
               },
               {
                "credits": 3,
                "curriculum_requisites": [
                 {
                  "source_id": 10,
                  "target_id": 19,
                  "type": "CurriculumPrerequisite"
                 }
                ],
                "id": 19,
                "metrics": {
                 "blocking factor": 8,
                 "centrality": 42,
                 "complexity": 16,
                 "delay factor": 8
                },
                "name": " ",
                "nameCanonical": "",
                "nameSub": "MU 217"
               },
               {
                "credits": 1,
                "curriculum_requisites": [
                 {
                  "source_id": 11,
                  "target_id": 20,
                  "type": "CurriculumPrerequisite"
                 }
                ],
                "id": 20,
                "metrics": {
                 "blocking factor": 1,
                 "centrality": 4,
                 "complexity": 5,
                 "delay factor": 4
                },
                "name": " ",
                "nameCanonical": "",
                "nameSub": "MU 227"
               },
               {
                "credits": 1,
                "curriculum_requisites": [],
                "id": 21,
                "metrics": {
                 "blocking factor": 0,
                 "centrality": 0,
                 "complexity": 1,
                 "delay factor": 1
                },
                "name": " ",
                "nameCanonical": "",
                "nameSub": "MU 252C"
               },
               {
                "credits": 1,
                "curriculum_requisites": [],
                "id": 22,
                "metrics": {
                 "blocking factor": 0,
                 "centrality": 0,
                 "complexity": 1,
                 "delay factor": 1
                },
                "name": " ",
                "nameCanonical": "",
                "nameSub": "MU 272"
               },
               {
                "credits": 1,
                "curriculum_requisites": [],
                "id": 23,
                "metrics": {
                 "blocking factor": 0,
                 "centrality": 0,
                 "complexity": 1,
                 "delay factor": 1
                },
                "name": " ",
                "nameCanonical": "",
                "nameSub": "ENSEMBLE"
               },
               {
                "credits": 3,
                "curriculum_requisites": [
                 {
                  "source_id": 1,
                  "target_id": 24,
                  "type": "CurriculumPrerequisite"
                 }
                ],
                "id": 24,
                "metrics": {
                 "blocking factor": 0,
                 "centrality": 0,
                 "complexity": 2,
                 "delay factor": 2
                },
                "name": " ",
                "nameCanonical": "",
                "nameSub": "AUCC Advanced Writing"
               },
               {
                "credits": 3,
                "curriculum_requisites": [],
                "id": 25,
                "metrics": {
                 "blocking factor": 0,
                 "centrality": 0,
                 "complexity": 1,
                 "delay factor": 1
                },
                "name": " ",
                "nameCanonical": "",
                "nameSub": "AUCC 3D"
               }
              ],
              "id": 3,
              "name": "Term 3"
             },
             {
              "curriculum_items": [
               {
                "credits": 3,
                "curriculum_requisites": [],
                "id": 26,
                "metrics": {
                 "blocking factor": 8,
                 "centrality": 0,
                 "complexity": 16,
                 "delay factor": 8
                },
                "name": " ",
                "nameCanonical": "",
                "nameSub": "EDUC 340"
               },
               {
                "credits": 3,
                "curriculum_requisites": [
                 {
                  "source_id": 19,
                  "target_id": 27,
                  "type": "CurriculumPrerequisite"
                 }
                ],
                "id": 27,
                "metrics": {
                 "blocking factor": 2,
                 "centrality": 10,
                 "complexity": 7,
                 "delay factor": 5
                },
                "name": " ",
                "nameCanonical": "",
                "nameSub": "MU 218"
               },
               {
                "credits": 1,
                "curriculum_requisites": [
                 {
                  "source_id": 20,
                  "target_id": 28,
                  "type": "CurriculumPrerequisite"
                 }
                ],
                "id": 28,
                "metrics": {
                 "blocking factor": 0,
                 "centrality": 0,
                 "complexity": 4,
                 "delay factor": 4
                },
                "name": " ",
                "nameCanonical": "",
                "nameSub": "MU 228"
               },
               {
                "credits": 2,
                "curriculum_requisites": [],
                "id": 29,
                "metrics": {
                 "blocking factor": 0,
                 "centrality": 0,
                 "complexity": 1,
                 "delay factor": 1
                },
                "name": " ",
                "nameCanonical": "",
                "nameSub": "MU 252A"
               },
               {
                "credits": 1,
                "curriculum_requisites": [],
                "id": 30,
                "metrics": {
                 "blocking factor": 0,
                 "centrality": 0,
                 "complexity": 1,
                 "delay factor": 1
                },
                "name": " ",
                "nameCanonical": "",
                "nameSub": "MU 272"
               },
               {
                "credits": 1,
                "curriculum_requisites": [],
                "id": 31,
                "metrics": {
                 "blocking factor": 0,
                 "centrality": 0,
                 "complexity": 1,
                 "delay factor": 1
                },
                "name": " ",
                "nameCanonical": "",
                "nameSub": "ENSEMBLE"
               },
               {
                "credits": 4,
                "curriculum_requisites": [],
                "id": 32,
                "metrics": {
                 "blocking factor": 0,
                 "centrality": 0,
                 "complexity": 1,
                 "delay factor": 1
                },
                "name": " ",
                "nameCanonical": "",
                "nameSub": "AUCC 3A"
               }
              ],
              "id": 4,
              "name": "Term 4"
             },
             {
              "curriculum_items": [
               {
                "credits": 2,
                "curriculum_requisites": [
                 {
                  "source_id": 26,
                  "target_id": 33,
                  "type": "CurriculumPrerequisite"
                 },
                 {
                  "source_id": 18,
                  "target_id": 33,
                  "type": "CurriculumPrerequisite"
                 }
                ],
                "id": 33,
                "metrics": {
                 "blocking factor": 4,
                 "centrality": 30,
                 "complexity": 10,
                 "delay factor": 6
                },
                "name": " ",
                "nameCanonical": "",
                "nameSub": "EDUC 331"
               },
               {
                "credits": 2,
                "curriculum_requisites": [],
                "id": 34,
                "metrics": {
                 "blocking factor": 0,
                 "centrality": 0,
                 "complexity": 1,
                 "delay factor": 1
                },
                "name": " ",
                "nameCanonical": "",
                "nameSub": "EDUC 474"
               },
               {
                "credits": 2,
                "curriculum_requisites": [
                 {
                  "source_id": 2,
                  "target_id": 35,
                  "type": "CurriculumPrerequisite"
                 }
                ],
                "id": 35,
                "metrics": {
                 "blocking factor": 1,
                 "centrality": 3,
                 "complexity": 4,
                 "delay factor": 3
                },
                "name": " ",
                "nameCanonical": "",
                "nameSub": "MU 254"
               },
               {
                "credits": 2,
                "curriculum_requisites": [
                 {
                  "source_id": 27,
                  "target_id": 36,
                  "type": "CurriculumPrerequisite"
                 }
                ],
                "id": 36,
                "metrics": {
                 "blocking factor": 0,
                 "centrality": 0,
                 "complexity": 5,
                 "delay factor": 5
                },
                "name": " ",
                "nameCanonical": "",
                "nameSub": "MU 317"
               },
               {
                "credits": 3,
                "curriculum_requisites": [
                 {
                  "source_id": 4,
                  "target_id": 37,
                  "type": "CurriculumPrerequisite"
                 },
                 {
                  "source_id": 10,
                  "target_id": 37,
                  "type": "CurriculumPrerequisite"
                 }
                ],
                "id": 37,
                "metrics": {
                 "blocking factor": 0,
                 "centrality": 0,
                 "complexity": 3,
                 "delay factor": 3
                },
                "name": " ",
                "nameCanonical": "",
                "nameSub": "MU 334"
               },
               {
                "credits": 1,
                "curriculum_requisites": [],
                "id": 38,
                "metrics": {
                 "blocking factor": 0,
                 "centrality": 0,
                 "complexity": 1,
                 "delay factor": 1
                },
                "name": " ",
                "nameCanonical": "",
                "nameSub": "MU 472"
               },
               {
                "credits": 1,
                "curriculum_requisites": [],
                "id": 39,
                "metrics": {
                 "blocking factor": 0,
                 "centrality": 0,
                 "complexity": 1,
                 "delay factor": 1
                },
                "name": " ",
                "nameCanonical": "",
                "nameSub": "ENSEMBLE"
               },
               {
                "credits": 3,
                "curriculum_requisites": [],
                "id": 40,
                "metrics": {
                 "blocking factor": 0,
                 "centrality": 0,
                 "complexity": 1,
                 "delay factor": 1
                },
                "name": " ",
                "nameCanonical": "",
                "nameSub": "AUCC 3A"
               }
              ],
              "id": 5,
              "name": "Term 5"
             },
             {
              "curriculum_items": [
               {
                "credits": 3,
                "curriculum_requisites": [
                 {
                  "source_id": 26,
                  "target_id": 41,
                  "type": "CurriculumPrerequisite"
                 },
                 {
                  "source_id": 42,
                  "target_id": 41,
                  "type": "CurriculumCorequisite"
                 },
                 {
                  "source_id": 18,
                  "target_id": 41,
                  "type": "CurriculumPrerequisite"
                 }
                ],
                "id": 41,
                "metrics": {
                 "blocking factor": 4,
                 "centrality": 108,
                 "complexity": 12,
                 "delay factor": 8
                },
                "name": " ",
                "nameCanonical": "",
                "nameSub": "EDUC 350"
               },
               {
                "credits": 1,
                "curriculum_requisites": [
                 {
                  "source_id": 26,
                  "target_id": 42,
                  "type": "CurriculumPrerequisite"
                 },
                 {
                  "source_id": 43,
                  "target_id": 42,
                  "type": "CurriculumCorequisite"
                 },
                 {
                  "source_id": 18,
                  "target_id": 42,
                  "type": "CurriculumPrerequisite"
                 }
                ],
                "id": 42,
                "metrics": {
                 "blocking factor": 5,
                 "centrality": 144,
                 "complexity": 13,
                 "delay factor": 8
                },
                "name": " ",
                "nameCanonical": "",
                "nameSub": "EDUC 386"
               },
               {
                "credits": 1,
                "curriculum_requisites": [
                 {
                  "source_id": 26,
                  "target_id": 43,
                  "type": "CurriculumPrerequisite"
                 },
                 {
                  "source_id": 18,
                  "target_id": 43,
                  "type": "CurriculumPrerequisite"
                 }
                ],
                "id": 43,
                "metrics": {
                 "blocking factor": 6,
                 "centrality": 78,
                 "complexity": 14,
                 "delay factor": 8
                },
                "name": " ",
                "nameCanonical": "",
                "nameSub": "EDUC 475"
               },
               {
                "credits": 1,
                "curriculum_requisites": [
                 {
                  "source_id": 27,
                  "target_id": 44,
                  "type": "CurriculumPrerequisite"
                 }
                ],
                "id": 44,
                "metrics": {
                 "blocking factor": 0,
                 "centrality": 0,
                 "complexity": 5,
                 "delay factor": 5
                },
                "name": " ",
                "nameCanonical": "",
                "nameSub": "MU 318"
               },
               {
                "credits": 1,
                "curriculum_requisites": [
                 {
                  "source_id": 4,
                  "target_id": 45,
                  "type": "CurriculumPrerequisite"
                 },
                 {
                  "source_id": 10,
                  "target_id": 45,
                  "type": "CurriculumPrerequisite"
                 }
                ],
                "id": 45,
                "metrics": {
                 "blocking factor": 0,
                 "centrality": 0,
                 "complexity": 3,
                 "delay factor": 3
                },
                "name": " ",
                "nameCanonical": "",
                "nameSub": "MU 335"
               },
               {
                "credits": 1,
                "curriculum_requisites": [
                 {
                  "source_id": 35,
                  "target_id": 46,
                  "type": "CurriculumPrerequisite"
                 }
                ],
                "id": 46,
                "metrics": {
                 "blocking factor": 0,
                 "centrality": 0,
                 "complexity": 3,
                 "delay factor": 3
                },
                "name": " ",
                "nameCanonical": "",
                "nameSub": "MU 356"
               },
               {
                "credits": 1,
                "curriculum_requisites": [],
                "id": 47,
                "metrics": {
                 "blocking factor": 0,
                 "centrality": 0,
                 "complexity": 1,
                 "delay factor": 1
                },
                "name": " ",
                "nameCanonical": "",
                "nameSub": "MU ELECTIVE"
               },
               {
                "credits": 1,
                "curriculum_requisites": [],
                "id": 48,
                "metrics": {
                 "blocking factor": 0,
                 "centrality": 0,
                 "complexity": 1,
                 "delay factor": 1
                },
                "name": " ",
                "nameCanonical": "",
                "nameSub": "MU 472"
               },
               {
                "credits": 1,
                "curriculum_requisites": [],
                "id": 49,
                "metrics": {
                 "blocking factor": 0,
                 "centrality": 0,
                 "complexity": 1,
                 "delay factor": 1
                },
                "name": " ",
                "nameCanonical": "",
                "nameSub": "ENSEMBLE"
               }
              ],
              "id": 6,
              "name": "Term 6"
             },
             {
              "curriculum_items": [
               {
                "credits": 4,
                "curriculum_requisites": [
                 {
                  "source_id": 42,
                  "target_id": 50,
                  "type": "CurriculumPrerequisite"
                 },
                 {
                  "source_id": 51,
                  "target_id": 50,
                  "type": "CurriculumCorequisite"
                 },
                 {
                  "source_id": 41,
                  "target_id": 50,
                  "type": "CurriculumPrerequisite"
                 },
                 {
                  "source_id": 33,
                  "target_id": 50,
                  "type": "CurriculumPrerequisite"
                 }
                ],
                "id": 50,
                "metrics": {
                 "blocking factor": 3,
                 "centrality": 240,
                 "complexity": 11,
                 "delay factor": 8
                },
                "name": " ",
                "nameCanonical": "",
                "nameSub": "EDUC 450"
               },
               {
                "credits": 2,
                "curriculum_requisites": [
                 {
                  "source_id": 19,
                  "target_id": 51,
                  "type": "CurriculumPrerequisite"
                 },
                 {
                  "source_id": 52,
                  "target_id": 51,
                  "type": "CurriculumCorequisite"
                 }
                ],
                "id": 51,
                "metrics": {
                 "blocking factor": 4,
                 "centrality": 54,
                 "complexity": 12,
                 "delay factor": 8
                },
                "name": " ",
                "nameCanonical": "",
                "nameSub": "EDUC 477"
               },
               {
                "credits": 1,
                "curriculum_requisites": [],
                "id": 52,
                "metrics": {
                 "blocking factor": 5,
                 "centrality": 0,
                 "complexity": 11,
                 "delay factor": 6
                },
                "name": " ",
                "nameCanonical": "",
                "nameSub": "EDUC 486E"
               },
               {
                "credits": 1,
                "curriculum_requisites": [],
                "id": 53,
                "metrics": {
                 "blocking factor": 0,
                 "centrality": 0,
                 "complexity": 1,
                 "delay factor": 1
                },
                "name": " ",
                "nameCanonical": "",
                "nameSub": "MU 252D"
               },
               {
                "credits": 2,
                "curriculum_requisites": [],
                "id": 54,
                "metrics": {
                 "blocking factor": 0,
                 "centrality": 0,
                 "complexity": 1,
                 "delay factor": 1
                },
                "name": " ",
                "nameCanonical": "",
                "nameSub": "MU 425"
               },
               {
                "credits": 1,
                "curriculum_requisites": [],
                "id": 55,
                "metrics": {
                 "blocking factor": 0,
                 "centrality": 0,
                 "complexity": 1,
                 "delay factor": 1
                },
                "name": " ",
                "nameCanonical": "",
                "nameSub": "MU 471"
               },
               {
                "credits": 1,
                "curriculum_requisites": [],
                "id": 56,
                "metrics": {
                 "blocking factor": 0,
                 "centrality": 0,
                 "complexity": 1,
                 "delay factor": 1
                },
                "name": " ",
                "nameCanonical": "",
                "nameSub": "MU 472"
               },
               {
                "credits": 1,
                "curriculum_requisites": [],
                "id": 57,
                "metrics": {
                 "blocking factor": 0,
                 "centrality": 0,
                 "complexity": 1,
                 "delay factor": 1
                },
                "name": " ",
                "nameCanonical": "",
                "nameSub": "ENSEMBLE"
               },
               {
                "credits": 3,
                "curriculum_requisites": [],
                "id": 58,
                "metrics": {
                 "blocking factor": 0,
                 "centrality": 0,
                 "complexity": 1,
                 "delay factor": 1
                },
                "name": " ",
                "nameCanonical": "",
                "nameSub": "AUCC 3E"
               }
              ],
              "id": 7,
              "name": "Term 7"
             },
             {
              "curriculum_items": [
               {
                "credits": 6,
                "curriculum_requisites": [
                 {
                  "source_id": 50,
                  "target_id": 59,
                  "type": "CurriculumPrerequisite"
                 },
                 {
                  "source_id": 60,
                  "target_id": 59,
                  "type": "CurriculumCorequisite"
                 },
                 {
                  "source_id": 51,
                  "target_id": 59,
                  "type": "CurriculumPrerequisite"
                 }
                ],
                "id": 59,
                "metrics": {
                 "blocking factor": 0,
                 "centrality": 0,
                 "complexity": 8,
                 "delay factor": 8
                },
                "name": " ",
                "nameCanonical": "",
                "nameSub": "EDUC 485A"
               },
               {
                "credits": 6,
                "curriculum_requisites": [
                 {
                  "source_id": 50,
                  "target_id": 60,
                  "type": "CurriculumPrerequisite"
                 },
                 {
                  "source_id": 61,
                  "target_id": 60,
                  "type": "CurriculumCorequisite"
                 },
                 {
                  "source_id": 51,
                  "target_id": 60,
                  "type": "CurriculumPrerequisite"
                 }
                ],
                "id": 60,
                "metrics": {
                 "blocking factor": 1,
                 "centrality": 184,
                 "complexity": 9,
                 "delay factor": 8
                },
                "name": " ",
                "nameCanonical": "",
                "nameSub": "EDUC 485B"
               },
               {
                "credits": 1,
                "curriculum_requisites": [
                 {
                  "source_id": 50,
                  "target_id": 61,
                  "type": "CurriculumPrerequisite"
                 }
                ],
                "id": 61,
                "metrics": {
                 "blocking factor": 2,
                 "centrality": 94,
                 "complexity": 10,
                 "delay factor": 8
                },
                "name": " ",
                "nameCanonical": "",
                "nameSub": "EDUC 493A"
               },
               {
                "credits": 1,
                "curriculum_requisites": [],
                "id": 62,
                "metrics": {
                 "blocking factor": 0,
                 "centrality": 0,
                 "complexity": 1,
                 "delay factor": 1
                },
                "name": " ",
                "nameCanonical": "",
                "nameSub": "ELECTIVE"
               }
              ],
              "id": 8,
              "name": "Term 8"
             }
            ],
            "dp_name": "4-Year Plan",
            "institution": "Colorado State University",
            "name": "Music Education"
           },
           "options": {
            "edit": false,
            "hideTerms": false
           }
          }
         }
        },
        "systemjs_options": null
       },
       "nodeType": "Scope",
       "props": {},
       "type": "node"
      },
      "text/html": [
       "<div\n",
       "    class=\"webio-mountpoint\"\n",
       "    data-webio-mountpoint=\"13885736637175086063\"\n",
       ">\n",
       "    <script>\n",
       "    if (window.require && require.defined && require.defined(\"nbextensions/webio-jupyter-notebook\")) {\n",
       "        console.log(\"Jupyter WebIO extension detected, not mounting.\");\n",
       "    } else if (window.WebIO) {\n",
       "        WebIO.mount(\n",
       "            document.querySelector('[data-webio-mountpoint=\"13885736637175086063\"]'),\n",
       "            {\"props\":{},\"nodeType\":\"Scope\",\"type\":\"node\",\"instanceArgs\":{\"imports\":{\"data\":[],\"type\":\"async_block\"},\"id\":\"7710941920300394773\",\"handlers\":{},\"systemjs_options\":null,\"mount_callbacks\":[],\"observables\":{\"curriculum-data\":{\"sync\":true,\"id\":\"2074722546589354105\",\"value\":{\"options\":{\"hideTerms\":false,\"edit\":false},\"curriculum\":{\"name\":\"Music Education\",\"dp_name\":\"4-Year Plan\",\"curriculum_terms\":[{\"name\":\"Term 1\",\"curriculum_items\":[{\"curriculum_requisites\":[],\"name\":\" \",\"metrics\":{\"complexity\":3.0,\"centrality\":0,\"blocking factor\":1,\"delay factor\":2.0},\"nameSub\":\"CO 150\",\"id\":1,\"credits\":3,\"nameCanonical\":\"\"},{\"curriculum_requisites\":[],\"name\":\" \",\"metrics\":{\"complexity\":22.0,\"centrality\":0,\"blocking factor\":14,\"delay factor\":8.0},\"nameSub\":\"MU 117\",\"id\":2,\"credits\":3,\"nameCanonical\":\"\"},{\"curriculum_requisites\":[],\"name\":\" \",\"metrics\":{\"complexity\":7.0,\"centrality\":0,\"blocking factor\":3,\"delay factor\":4.0},\"nameSub\":\"MU 127\",\"id\":3,\"credits\":1,\"nameCanonical\":\"\"},{\"curriculum_requisites\":[],\"name\":\" \",\"metrics\":{\"complexity\":4.0,\"centrality\":0,\"blocking factor\":2,\"delay factor\":2.0},\"nameSub\":\"MU 131\",\"id\":4,\"credits\":3,\"nameCanonical\":\"\"},{\"curriculum_requisites\":[],\"name\":\" \",\"metrics\":{\"complexity\":3.0,\"centrality\":0,\"blocking factor\":1,\"delay factor\":2.0},\"nameSub\":\"MU 150\",\"id\":5,\"credits\":1,\"nameCanonical\":\"\"},{\"curriculum_requisites\":[],\"name\":\" \",\"metrics\":{\"complexity\":1.0,\"centrality\":0,\"blocking factor\":0,\"delay factor\":1.0},\"nameSub\":\"MU 251\",\"id\":6,\"credits\":1,\"nameCanonical\":\"\"},{\"curriculum_requisites\":[],\"name\":\" \",\"metrics\":{\"complexity\":1.0,\"centrality\":0,\"blocking factor\":0,\"delay factor\":1.0},\"nameSub\":\"MU 272\",\"id\":7,\"credits\":1,\"nameCanonical\":\"\"},{\"curriculum_requisites\":[],\"name\":\" \",\"metrics\":{\"complexity\":1.0,\"centrality\":0,\"blocking factor\":0,\"delay factor\":1.0},\"nameSub\":\"MU 286\",\"id\":8,\"credits\":3,\"nameCanonical\":\"\"},{\"curriculum_requisites\":[],\"name\":\" \",\"metrics\":{\"complexity\":1.0,\"centrality\":0,\"blocking factor\":0,\"delay factor\":1.0},\"nameSub\":\"ENSEMBLE\",\"id\":9,\"credits\":1,\"nameCanonical\":\"\"}],\"id\":1},{\"name\":\"Term 2\",\"curriculum_items\":[{\"curriculum_requisites\":[{\"source_id\":2,\"target_id\":10,\"type\":\"CurriculumPrerequisite\"}],\"name\":\" \",\"metrics\":{\"complexity\":19.0,\"centrality\":48,\"blocking factor\":11,\"delay factor\":8.0},\"nameSub\":\"MU 118\",\"id\":10,\"credits\":3,\"nameCanonical\":\"\"},{\"curriculum_requisites\":[{\"source_id\":3,\"target_id\":11,\"type\":\"CurriculumPrerequisite\"}],\"name\":\" \",\"metrics\":{\"complexity\":6.0,\"centrality\":4,\"blocking factor\":2,\"delay factor\":4.0},\"nameSub\":\"MU 128\",\"id\":11,\"credits\":1,\"nameCanonical\":\"\"},{\"curriculum_requisites\":[{\"source_id\":5,\"target_id\":12,\"type\":\"CurriculumPrerequisite\"}],\"name\":\" \",\"metrics\":{\"complexity\":2.0,\"centrality\":0,\"blocking factor\":0,\"delay factor\":2.0},\"nameSub\":\"MU 151A\",\"id\":12,\"credits\":1,\"nameCanonical\":\"\"},{\"curriculum_requisites\":[],\"name\":\" \",\"metrics\":{\"complexity\":1.0,\"centrality\":0,\"blocking factor\":0,\"delay factor\":1.0},\"nameSub\":\"MU 252B\",\"id\":13,\"credits\":2,\"nameCanonical\":\"\"},{\"curriculum_requisites\":[],\"name\":\" \",\"metrics\":{\"complexity\":1.0,\"centrality\":0,\"blocking factor\":0,\"delay factor\":1.0},\"nameSub\":\"MU 272\",\"id\":14,\"credits\":1,\"nameCanonical\":\"\"},{\"curriculum_requisites\":[],\"name\":\" \",\"metrics\":{\"complexity\":1.0,\"centrality\":0,\"blocking factor\":0,\"delay factor\":1.0},\"nameSub\":\"ENSEMBLE\",\"id\":15,\"credits\":1,\"nameCanonical\":\"\"},{\"curriculum_requisites\":[],\"name\":\" \",\"metrics\":{\"complexity\":1.0,\"centrality\":0,\"blocking factor\":0,\"delay factor\":1.0},\"nameSub\":\"AUCC 3B\",\"id\":16,\"credits\":3,\"nameCanonical\":\"\"},{\"curriculum_requisites\":[],\"name\":\" \",\"metrics\":{\"complexity\":1.0,\"centrality\":0,\"blocking factor\":0,\"delay factor\":1.0},\"nameSub\":\"AUCC MATH\",\"id\":17,\"credits\":3,\"nameCanonical\":\"\"}],\"id\":2},{\"name\":\"Term 3\",\"curriculum_items\":[{\"curriculum_requisites\":[],\"name\":\" \",\"metrics\":{\"complexity\":16.0,\"centrality\":0,\"blocking factor\":8,\"delay factor\":8.0},\"nameSub\":\"EDUC 275\",\"id\":18,\"credits\":3,\"nameCanonical\":\"\"},{\"curriculum_requisites\":[{\"source_id\":10,\"target_id\":19,\"type\":\"CurriculumPrerequisite\"}],\"name\":\" \",\"metrics\":{\"complexity\":16.0,\"centrality\":42,\"blocking factor\":8,\"delay factor\":8.0},\"nameSub\":\"MU 217\",\"id\":19,\"credits\":3,\"nameCanonical\":\"\"},{\"curriculum_requisites\":[{\"source_id\":11,\"target_id\":20,\"type\":\"CurriculumPrerequisite\"}],\"name\":\" \",\"metrics\":{\"complexity\":5.0,\"centrality\":4,\"blocking factor\":1,\"delay factor\":4.0},\"nameSub\":\"MU 227\",\"id\":20,\"credits\":1,\"nameCanonical\":\"\"},{\"curriculum_requisites\":[],\"name\":\" \",\"metrics\":{\"complexity\":1.0,\"centrality\":0,\"blocking factor\":0,\"delay factor\":1.0},\"nameSub\":\"MU 252C\",\"id\":21,\"credits\":1,\"nameCanonical\":\"\"},{\"curriculum_requisites\":[],\"name\":\" \",\"metrics\":{\"complexity\":1.0,\"centrality\":0,\"blocking factor\":0,\"delay factor\":1.0},\"nameSub\":\"MU 272\",\"id\":22,\"credits\":1,\"nameCanonical\":\"\"},{\"curriculum_requisites\":[],\"name\":\" \",\"metrics\":{\"complexity\":1.0,\"centrality\":0,\"blocking factor\":0,\"delay factor\":1.0},\"nameSub\":\"ENSEMBLE\",\"id\":23,\"credits\":1,\"nameCanonical\":\"\"},{\"curriculum_requisites\":[{\"source_id\":1,\"target_id\":24,\"type\":\"CurriculumPrerequisite\"}],\"name\":\" \",\"metrics\":{\"complexity\":2.0,\"centrality\":0,\"blocking factor\":0,\"delay factor\":2.0},\"nameSub\":\"AUCC Advanced Writing\",\"id\":24,\"credits\":3,\"nameCanonical\":\"\"},{\"curriculum_requisites\":[],\"name\":\" \",\"metrics\":{\"complexity\":1.0,\"centrality\":0,\"blocking factor\":0,\"delay factor\":1.0},\"nameSub\":\"AUCC 3D\",\"id\":25,\"credits\":3,\"nameCanonical\":\"\"}],\"id\":3},{\"name\":\"Term 4\",\"curriculum_items\":[{\"curriculum_requisites\":[],\"name\":\" \",\"metrics\":{\"complexity\":16.0,\"centrality\":0,\"blocking factor\":8,\"delay factor\":8.0},\"nameSub\":\"EDUC 340\",\"id\":26,\"credits\":3,\"nameCanonical\":\"\"},{\"curriculum_requisites\":[{\"source_id\":19,\"target_id\":27,\"type\":\"CurriculumPrerequisite\"}],\"name\":\" \",\"metrics\":{\"complexity\":7.0,\"centrality\":10,\"blocking factor\":2,\"delay factor\":5.0},\"nameSub\":\"MU 218\",\"id\":27,\"credits\":3,\"nameCanonical\":\"\"},{\"curriculum_requisites\":[{\"source_id\":20,\"target_id\":28,\"type\":\"CurriculumPrerequisite\"}],\"name\":\" \",\"metrics\":{\"complexity\":4.0,\"centrality\":0,\"blocking factor\":0,\"delay factor\":4.0},\"nameSub\":\"MU 228\",\"id\":28,\"credits\":1,\"nameCanonical\":\"\"},{\"curriculum_requisites\":[],\"name\":\" \",\"metrics\":{\"complexity\":1.0,\"centrality\":0,\"blocking factor\":0,\"delay factor\":1.0},\"nameSub\":\"MU 252A\",\"id\":29,\"credits\":2,\"nameCanonical\":\"\"},{\"curriculum_requisites\":[],\"name\":\" \",\"metrics\":{\"complexity\":1.0,\"centrality\":0,\"blocking factor\":0,\"delay factor\":1.0},\"nameSub\":\"MU 272\",\"id\":30,\"credits\":1,\"nameCanonical\":\"\"},{\"curriculum_requisites\":[],\"name\":\" \",\"metrics\":{\"complexity\":1.0,\"centrality\":0,\"blocking factor\":0,\"delay factor\":1.0},\"nameSub\":\"ENSEMBLE\",\"id\":31,\"credits\":1,\"nameCanonical\":\"\"},{\"curriculum_requisites\":[],\"name\":\" \",\"metrics\":{\"complexity\":1.0,\"centrality\":0,\"blocking factor\":0,\"delay factor\":1.0},\"nameSub\":\"AUCC 3A\",\"id\":32,\"credits\":4,\"nameCanonical\":\"\"}],\"id\":4},{\"name\":\"Term 5\",\"curriculum_items\":[{\"curriculum_requisites\":[{\"source_id\":26,\"target_id\":33,\"type\":\"CurriculumPrerequisite\"},{\"source_id\":18,\"target_id\":33,\"type\":\"CurriculumPrerequisite\"}],\"name\":\" \",\"metrics\":{\"complexity\":10.0,\"centrality\":30,\"blocking factor\":4,\"delay factor\":6.0},\"nameSub\":\"EDUC 331\",\"id\":33,\"credits\":2,\"nameCanonical\":\"\"},{\"curriculum_requisites\":[],\"name\":\" \",\"metrics\":{\"complexity\":1.0,\"centrality\":0,\"blocking factor\":0,\"delay factor\":1.0},\"nameSub\":\"EDUC 474\",\"id\":34,\"credits\":2,\"nameCanonical\":\"\"},{\"curriculum_requisites\":[{\"source_id\":2,\"target_id\":35,\"type\":\"CurriculumPrerequisite\"}],\"name\":\" \",\"metrics\":{\"complexity\":4.0,\"centrality\":3,\"blocking factor\":1,\"delay factor\":3.0},\"nameSub\":\"MU 254\",\"id\":35,\"credits\":2,\"nameCanonical\":\"\"},{\"curriculum_requisites\":[{\"source_id\":27,\"target_id\":36,\"type\":\"CurriculumPrerequisite\"}],\"name\":\" \",\"metrics\":{\"complexity\":5.0,\"centrality\":0,\"blocking factor\":0,\"delay factor\":5.0},\"nameSub\":\"MU 317\",\"id\":36,\"credits\":2,\"nameCanonical\":\"\"},{\"curriculum_requisites\":[{\"source_id\":4,\"target_id\":37,\"type\":\"CurriculumPrerequisite\"},{\"source_id\":10,\"target_id\":37,\"type\":\"CurriculumPrerequisite\"}],\"name\":\" \",\"metrics\":{\"complexity\":3.0,\"centrality\":0,\"blocking factor\":0,\"delay factor\":3.0},\"nameSub\":\"MU 334\",\"id\":37,\"credits\":3,\"nameCanonical\":\"\"},{\"curriculum_requisites\":[],\"name\":\" \",\"metrics\":{\"complexity\":1.0,\"centrality\":0,\"blocking factor\":0,\"delay factor\":1.0},\"nameSub\":\"MU 472\",\"id\":38,\"credits\":1,\"nameCanonical\":\"\"},{\"curriculum_requisites\":[],\"name\":\" \",\"metrics\":{\"complexity\":1.0,\"centrality\":0,\"blocking factor\":0,\"delay factor\":1.0},\"nameSub\":\"ENSEMBLE\",\"id\":39,\"credits\":1,\"nameCanonical\":\"\"},{\"curriculum_requisites\":[],\"name\":\" \",\"metrics\":{\"complexity\":1.0,\"centrality\":0,\"blocking factor\":0,\"delay factor\":1.0},\"nameSub\":\"AUCC 3A\",\"id\":40,\"credits\":3,\"nameCanonical\":\"\"}],\"id\":5},{\"name\":\"Term 6\",\"curriculum_items\":[{\"curriculum_requisites\":[{\"source_id\":26,\"target_id\":41,\"type\":\"CurriculumPrerequisite\"},{\"source_id\":42,\"target_id\":41,\"type\":\"CurriculumCorequisite\"},{\"source_id\":18,\"target_id\":41,\"type\":\"CurriculumPrerequisite\"}],\"name\":\" \",\"metrics\":{\"complexity\":12.0,\"centrality\":108,\"blocking factor\":4,\"delay factor\":8.0},\"nameSub\":\"EDUC 350\",\"id\":41,\"credits\":3,\"nameCanonical\":\"\"},{\"curriculum_requisites\":[{\"source_id\":26,\"target_id\":42,\"type\":\"CurriculumPrerequisite\"},{\"source_id\":43,\"target_id\":42,\"type\":\"CurriculumCorequisite\"},{\"source_id\":18,\"target_id\":42,\"type\":\"CurriculumPrerequisite\"}],\"name\":\" \",\"metrics\":{\"complexity\":13.0,\"centrality\":144,\"blocking factor\":5,\"delay factor\":8.0},\"nameSub\":\"EDUC 386\",\"id\":42,\"credits\":1,\"nameCanonical\":\"\"},{\"curriculum_requisites\":[{\"source_id\":26,\"target_id\":43,\"type\":\"CurriculumPrerequisite\"},{\"source_id\":18,\"target_id\":43,\"type\":\"CurriculumPrerequisite\"}],\"name\":\" \",\"metrics\":{\"complexity\":14.0,\"centrality\":78,\"blocking factor\":6,\"delay factor\":8.0},\"nameSub\":\"EDUC 475\",\"id\":43,\"credits\":1,\"nameCanonical\":\"\"},{\"curriculum_requisites\":[{\"source_id\":27,\"target_id\":44,\"type\":\"CurriculumPrerequisite\"}],\"name\":\" \",\"metrics\":{\"complexity\":5.0,\"centrality\":0,\"blocking factor\":0,\"delay factor\":5.0},\"nameSub\":\"MU 318\",\"id\":44,\"credits\":1,\"nameCanonical\":\"\"},{\"curriculum_requisites\":[{\"source_id\":4,\"target_id\":45,\"type\":\"CurriculumPrerequisite\"},{\"source_id\":10,\"target_id\":45,\"type\":\"CurriculumPrerequisite\"}],\"name\":\" \",\"metrics\":{\"complexity\":3.0,\"centrality\":0,\"blocking factor\":0,\"delay factor\":3.0},\"nameSub\":\"MU 335\",\"id\":45,\"credits\":1,\"nameCanonical\":\"\"},{\"curriculum_requisites\":[{\"source_id\":35,\"target_id\":46,\"type\":\"CurriculumPrerequisite\"}],\"name\":\" \",\"metrics\":{\"complexity\":3.0,\"centrality\":0,\"blocking factor\":0,\"delay factor\":3.0},\"nameSub\":\"MU 356\",\"id\":46,\"credits\":1,\"nameCanonical\":\"\"},{\"curriculum_requisites\":[],\"name\":\" \",\"metrics\":{\"complexity\":1.0,\"centrality\":0,\"blocking factor\":0,\"delay factor\":1.0},\"nameSub\":\"MU ELECTIVE\",\"id\":47,\"credits\":1,\"nameCanonical\":\"\"},{\"curriculum_requisites\":[],\"name\":\" \",\"metrics\":{\"complexity\":1.0,\"centrality\":0,\"blocking factor\":0,\"delay factor\":1.0},\"nameSub\":\"MU 472\",\"id\":48,\"credits\":1,\"nameCanonical\":\"\"},{\"curriculum_requisites\":[],\"name\":\" \",\"metrics\":{\"complexity\":1.0,\"centrality\":0,\"blocking factor\":0,\"delay factor\":1.0},\"nameSub\":\"ENSEMBLE\",\"id\":49,\"credits\":1,\"nameCanonical\":\"\"}],\"id\":6},{\"name\":\"Term 7\",\"curriculum_items\":[{\"curriculum_requisites\":[{\"source_id\":42,\"target_id\":50,\"type\":\"CurriculumPrerequisite\"},{\"source_id\":51,\"target_id\":50,\"type\":\"CurriculumCorequisite\"},{\"source_id\":41,\"target_id\":50,\"type\":\"CurriculumPrerequisite\"},{\"source_id\":33,\"target_id\":50,\"type\":\"CurriculumPrerequisite\"}],\"name\":\" \",\"metrics\":{\"complexity\":11.0,\"centrality\":240,\"blocking factor\":3,\"delay factor\":8.0},\"nameSub\":\"EDUC 450\",\"id\":50,\"credits\":4,\"nameCanonical\":\"\"},{\"curriculum_requisites\":[{\"source_id\":19,\"target_id\":51,\"type\":\"CurriculumPrerequisite\"},{\"source_id\":52,\"target_id\":51,\"type\":\"CurriculumCorequisite\"}],\"name\":\" \",\"metrics\":{\"complexity\":12.0,\"centrality\":54,\"blocking factor\":4,\"delay factor\":8.0},\"nameSub\":\"EDUC 477\",\"id\":51,\"credits\":2,\"nameCanonical\":\"\"},{\"curriculum_requisites\":[],\"name\":\" \",\"metrics\":{\"complexity\":11.0,\"centrality\":0,\"blocking factor\":5,\"delay factor\":6.0},\"nameSub\":\"EDUC 486E\",\"id\":52,\"credits\":1,\"nameCanonical\":\"\"},{\"curriculum_requisites\":[],\"name\":\" \",\"metrics\":{\"complexity\":1.0,\"centrality\":0,\"blocking factor\":0,\"delay factor\":1.0},\"nameSub\":\"MU 252D\",\"id\":53,\"credits\":1,\"nameCanonical\":\"\"},{\"curriculum_requisites\":[],\"name\":\" \",\"metrics\":{\"complexity\":1.0,\"centrality\":0,\"blocking factor\":0,\"delay factor\":1.0},\"nameSub\":\"MU 425\",\"id\":54,\"credits\":2,\"nameCanonical\":\"\"},{\"curriculum_requisites\":[],\"name\":\" \",\"metrics\":{\"complexity\":1.0,\"centrality\":0,\"blocking factor\":0,\"delay factor\":1.0},\"nameSub\":\"MU 471\",\"id\":55,\"credits\":1,\"nameCanonical\":\"\"},{\"curriculum_requisites\":[],\"name\":\" \",\"metrics\":{\"complexity\":1.0,\"centrality\":0,\"blocking factor\":0,\"delay factor\":1.0},\"nameSub\":\"MU 472\",\"id\":56,\"credits\":1,\"nameCanonical\":\"\"},{\"curriculum_requisites\":[],\"name\":\" \",\"metrics\":{\"complexity\":1.0,\"centrality\":0,\"blocking factor\":0,\"delay factor\":1.0},\"nameSub\":\"ENSEMBLE\",\"id\":57,\"credits\":1,\"nameCanonical\":\"\"},{\"curriculum_requisites\":[],\"name\":\" \",\"metrics\":{\"complexity\":1.0,\"centrality\":0,\"blocking factor\":0,\"delay factor\":1.0},\"nameSub\":\"AUCC 3E\",\"id\":58,\"credits\":3,\"nameCanonical\":\"\"}],\"id\":7},{\"name\":\"Term 8\",\"curriculum_items\":[{\"curriculum_requisites\":[{\"source_id\":50,\"target_id\":59,\"type\":\"CurriculumPrerequisite\"},{\"source_id\":60,\"target_id\":59,\"type\":\"CurriculumCorequisite\"},{\"source_id\":51,\"target_id\":59,\"type\":\"CurriculumPrerequisite\"}],\"name\":\" \",\"metrics\":{\"complexity\":8.0,\"centrality\":0,\"blocking factor\":0,\"delay factor\":8.0},\"nameSub\":\"EDUC 485A\",\"id\":59,\"credits\":6,\"nameCanonical\":\"\"},{\"curriculum_requisites\":[{\"source_id\":50,\"target_id\":60,\"type\":\"CurriculumPrerequisite\"},{\"source_id\":61,\"target_id\":60,\"type\":\"CurriculumCorequisite\"},{\"source_id\":51,\"target_id\":60,\"type\":\"CurriculumPrerequisite\"}],\"name\":\" \",\"metrics\":{\"complexity\":9.0,\"centrality\":184,\"blocking factor\":1,\"delay factor\":8.0},\"nameSub\":\"EDUC 485B\",\"id\":60,\"credits\":6,\"nameCanonical\":\"\"},{\"curriculum_requisites\":[{\"source_id\":50,\"target_id\":61,\"type\":\"CurriculumPrerequisite\"}],\"name\":\" \",\"metrics\":{\"complexity\":10.0,\"centrality\":94,\"blocking factor\":2,\"delay factor\":8.0},\"nameSub\":\"EDUC 493A\",\"id\":61,\"credits\":1,\"nameCanonical\":\"\"},{\"curriculum_requisites\":[],\"name\":\" \",\"metrics\":{\"complexity\":1.0,\"centrality\":0,\"blocking factor\":0,\"delay factor\":1.0},\"nameSub\":\"ELECTIVE\",\"id\":62,\"credits\":1,\"nameCanonical\":\"\"}],\"id\":8}],\"institution\":\"Colorado State University\"}}}}},\"children\":[{\"props\":{\"src\":\"http:\\/\\/localhost:8156\",\"id\":\"curriculum\",\"events\":{\"load\":\"(function (){this.contentWindow.postMessage({\\\"options\\\":{\\\"hideTerms\\\":false,\\\"edit\\\":false},\\\"curriculum\\\":{\\\"name\\\":\\\"Music Education\\\",\\\"dp_name\\\":\\\"4-Year Plan\\\",\\\"curriculum_terms\\\":[{\\\"name\\\":\\\"Term 1\\\",\\\"curriculum_items\\\":[{\\\"curriculum_requisites\\\":[],\\\"name\\\":\\\" \\\",\\\"metrics\\\":{\\\"complexity\\\":3.0,\\\"centrality\\\":0,\\\"blocking factor\\\":1,\\\"delay factor\\\":2.0},\\\"nameSub\\\":\\\"CO 150\\\",\\\"id\\\":1,\\\"credits\\\":3,\\\"nameCanonical\\\":\\\"\\\"},{\\\"curriculum_requisites\\\":[],\\\"name\\\":\\\" \\\",\\\"metrics\\\":{\\\"complexity\\\":22.0,\\\"centrality\\\":0,\\\"blocking factor\\\":14,\\\"delay factor\\\":8.0},\\\"nameSub\\\":\\\"MU 117\\\",\\\"id\\\":2,\\\"credits\\\":3,\\\"nameCanonical\\\":\\\"\\\"},{\\\"curriculum_requisites\\\":[],\\\"name\\\":\\\" \\\",\\\"metrics\\\":{\\\"complexity\\\":7.0,\\\"centrality\\\":0,\\\"blocking factor\\\":3,\\\"delay factor\\\":4.0},\\\"nameSub\\\":\\\"MU 127\\\",\\\"id\\\":3,\\\"credits\\\":1,\\\"nameCanonical\\\":\\\"\\\"},{\\\"curriculum_requisites\\\":[],\\\"name\\\":\\\" \\\",\\\"metrics\\\":{\\\"complexity\\\":4.0,\\\"centrality\\\":0,\\\"blocking factor\\\":2,\\\"delay factor\\\":2.0},\\\"nameSub\\\":\\\"MU 131\\\",\\\"id\\\":4,\\\"credits\\\":3,\\\"nameCanonical\\\":\\\"\\\"},{\\\"curriculum_requisites\\\":[],\\\"name\\\":\\\" \\\",\\\"metrics\\\":{\\\"complexity\\\":3.0,\\\"centrality\\\":0,\\\"blocking factor\\\":1,\\\"delay factor\\\":2.0},\\\"nameSub\\\":\\\"MU 150\\\",\\\"id\\\":5,\\\"credits\\\":1,\\\"nameCanonical\\\":\\\"\\\"},{\\\"curriculum_requisites\\\":[],\\\"name\\\":\\\" \\\",\\\"metrics\\\":{\\\"complexity\\\":1.0,\\\"centrality\\\":0,\\\"blocking factor\\\":0,\\\"delay factor\\\":1.0},\\\"nameSub\\\":\\\"MU 251\\\",\\\"id\\\":6,\\\"credits\\\":1,\\\"nameCanonical\\\":\\\"\\\"},{\\\"curriculum_requisites\\\":[],\\\"name\\\":\\\" \\\",\\\"metrics\\\":{\\\"complexity\\\":1.0,\\\"centrality\\\":0,\\\"blocking factor\\\":0,\\\"delay factor\\\":1.0},\\\"nameSub\\\":\\\"MU 272\\\",\\\"id\\\":7,\\\"credits\\\":1,\\\"nameCanonical\\\":\\\"\\\"},{\\\"curriculum_requisites\\\":[],\\\"name\\\":\\\" \\\",\\\"metrics\\\":{\\\"complexity\\\":1.0,\\\"centrality\\\":0,\\\"blocking factor\\\":0,\\\"delay factor\\\":1.0},\\\"nameSub\\\":\\\"MU 286\\\",\\\"id\\\":8,\\\"credits\\\":3,\\\"nameCanonical\\\":\\\"\\\"},{\\\"curriculum_requisites\\\":[],\\\"name\\\":\\\" \\\",\\\"metrics\\\":{\\\"complexity\\\":1.0,\\\"centrality\\\":0,\\\"blocking factor\\\":0,\\\"delay factor\\\":1.0},\\\"nameSub\\\":\\\"ENSEMBLE\\\",\\\"id\\\":9,\\\"credits\\\":1,\\\"nameCanonical\\\":\\\"\\\"}],\\\"id\\\":1},{\\\"name\\\":\\\"Term 2\\\",\\\"curriculum_items\\\":[{\\\"curriculum_requisites\\\":[{\\\"source_id\\\":2,\\\"target_id\\\":10,\\\"type\\\":\\\"CurriculumPrerequisite\\\"}],\\\"name\\\":\\\" \\\",\\\"metrics\\\":{\\\"complexity\\\":19.0,\\\"centrality\\\":48,\\\"blocking factor\\\":11,\\\"delay factor\\\":8.0},\\\"nameSub\\\":\\\"MU 118\\\",\\\"id\\\":10,\\\"credits\\\":3,\\\"nameCanonical\\\":\\\"\\\"},{\\\"curriculum_requisites\\\":[{\\\"source_id\\\":3,\\\"target_id\\\":11,\\\"type\\\":\\\"CurriculumPrerequisite\\\"}],\\\"name\\\":\\\" \\\",\\\"metrics\\\":{\\\"complexity\\\":6.0,\\\"centrality\\\":4,\\\"blocking factor\\\":2,\\\"delay factor\\\":4.0},\\\"nameSub\\\":\\\"MU 128\\\",\\\"id\\\":11,\\\"credits\\\":1,\\\"nameCanonical\\\":\\\"\\\"},{\\\"curriculum_requisites\\\":[{\\\"source_id\\\":5,\\\"target_id\\\":12,\\\"type\\\":\\\"CurriculumPrerequisite\\\"}],\\\"name\\\":\\\" \\\",\\\"metrics\\\":{\\\"complexity\\\":2.0,\\\"centrality\\\":0,\\\"blocking factor\\\":0,\\\"delay factor\\\":2.0},\\\"nameSub\\\":\\\"MU 151A\\\",\\\"id\\\":12,\\\"credits\\\":1,\\\"nameCanonical\\\":\\\"\\\"},{\\\"curriculum_requisites\\\":[],\\\"name\\\":\\\" \\\",\\\"metrics\\\":{\\\"complexity\\\":1.0,\\\"centrality\\\":0,\\\"blocking factor\\\":0,\\\"delay factor\\\":1.0},\\\"nameSub\\\":\\\"MU 252B\\\",\\\"id\\\":13,\\\"credits\\\":2,\\\"nameCanonical\\\":\\\"\\\"},{\\\"curriculum_requisites\\\":[],\\\"name\\\":\\\" \\\",\\\"metrics\\\":{\\\"complexity\\\":1.0,\\\"centrality\\\":0,\\\"blocking factor\\\":0,\\\"delay factor\\\":1.0},\\\"nameSub\\\":\\\"MU 272\\\",\\\"id\\\":14,\\\"credits\\\":1,\\\"nameCanonical\\\":\\\"\\\"},{\\\"curriculum_requisites\\\":[],\\\"name\\\":\\\" \\\",\\\"metrics\\\":{\\\"complexity\\\":1.0,\\\"centrality\\\":0,\\\"blocking factor\\\":0,\\\"delay factor\\\":1.0},\\\"nameSub\\\":\\\"ENSEMBLE\\\",\\\"id\\\":15,\\\"credits\\\":1,\\\"nameCanonical\\\":\\\"\\\"},{\\\"curriculum_requisites\\\":[],\\\"name\\\":\\\" \\\",\\\"metrics\\\":{\\\"complexity\\\":1.0,\\\"centrality\\\":0,\\\"blocking factor\\\":0,\\\"delay factor\\\":1.0},\\\"nameSub\\\":\\\"AUCC 3B\\\",\\\"id\\\":16,\\\"credits\\\":3,\\\"nameCanonical\\\":\\\"\\\"},{\\\"curriculum_requisites\\\":[],\\\"name\\\":\\\" \\\",\\\"metrics\\\":{\\\"complexity\\\":1.0,\\\"centrality\\\":0,\\\"blocking factor\\\":0,\\\"delay factor\\\":1.0},\\\"nameSub\\\":\\\"AUCC MATH\\\",\\\"id\\\":17,\\\"credits\\\":3,\\\"nameCanonical\\\":\\\"\\\"}],\\\"id\\\":2},{\\\"name\\\":\\\"Term 3\\\",\\\"curriculum_items\\\":[{\\\"curriculum_requisites\\\":[],\\\"name\\\":\\\" \\\",\\\"metrics\\\":{\\\"complexity\\\":16.0,\\\"centrality\\\":0,\\\"blocking factor\\\":8,\\\"delay factor\\\":8.0},\\\"nameSub\\\":\\\"EDUC 275\\\",\\\"id\\\":18,\\\"credits\\\":3,\\\"nameCanonical\\\":\\\"\\\"},{\\\"curriculum_requisites\\\":[{\\\"source_id\\\":10,\\\"target_id\\\":19,\\\"type\\\":\\\"CurriculumPrerequisite\\\"}],\\\"name\\\":\\\" \\\",\\\"metrics\\\":{\\\"complexity\\\":16.0,\\\"centrality\\\":42,\\\"blocking factor\\\":8,\\\"delay factor\\\":8.0},\\\"nameSub\\\":\\\"MU 217\\\",\\\"id\\\":19,\\\"credits\\\":3,\\\"nameCanonical\\\":\\\"\\\"},{\\\"curriculum_requisites\\\":[{\\\"source_id\\\":11,\\\"target_id\\\":20,\\\"type\\\":\\\"CurriculumPrerequisite\\\"}],\\\"name\\\":\\\" \\\",\\\"metrics\\\":{\\\"complexity\\\":5.0,\\\"centrality\\\":4,\\\"blocking factor\\\":1,\\\"delay factor\\\":4.0},\\\"nameSub\\\":\\\"MU 227\\\",\\\"id\\\":20,\\\"credits\\\":1,\\\"nameCanonical\\\":\\\"\\\"},{\\\"curriculum_requisites\\\":[],\\\"name\\\":\\\" \\\",\\\"metrics\\\":{\\\"complexity\\\":1.0,\\\"centrality\\\":0,\\\"blocking factor\\\":0,\\\"delay factor\\\":1.0},\\\"nameSub\\\":\\\"MU 252C\\\",\\\"id\\\":21,\\\"credits\\\":1,\\\"nameCanonical\\\":\\\"\\\"},{\\\"curriculum_requisites\\\":[],\\\"name\\\":\\\" \\\",\\\"metrics\\\":{\\\"complexity\\\":1.0,\\\"centrality\\\":0,\\\"blocking factor\\\":0,\\\"delay factor\\\":1.0},\\\"nameSub\\\":\\\"MU 272\\\",\\\"id\\\":22,\\\"credits\\\":1,\\\"nameCanonical\\\":\\\"\\\"},{\\\"curriculum_requisites\\\":[],\\\"name\\\":\\\" \\\",\\\"metrics\\\":{\\\"complexity\\\":1.0,\\\"centrality\\\":0,\\\"blocking factor\\\":0,\\\"delay factor\\\":1.0},\\\"nameSub\\\":\\\"ENSEMBLE\\\",\\\"id\\\":23,\\\"credits\\\":1,\\\"nameCanonical\\\":\\\"\\\"},{\\\"curriculum_requisites\\\":[{\\\"source_id\\\":1,\\\"target_id\\\":24,\\\"type\\\":\\\"CurriculumPrerequisite\\\"}],\\\"name\\\":\\\" \\\",\\\"metrics\\\":{\\\"complexity\\\":2.0,\\\"centrality\\\":0,\\\"blocking factor\\\":0,\\\"delay factor\\\":2.0},\\\"nameSub\\\":\\\"AUCC Advanced Writing\\\",\\\"id\\\":24,\\\"credits\\\":3,\\\"nameCanonical\\\":\\\"\\\"},{\\\"curriculum_requisites\\\":[],\\\"name\\\":\\\" \\\",\\\"metrics\\\":{\\\"complexity\\\":1.0,\\\"centrality\\\":0,\\\"blocking factor\\\":0,\\\"delay factor\\\":1.0},\\\"nameSub\\\":\\\"AUCC 3D\\\",\\\"id\\\":25,\\\"credits\\\":3,\\\"nameCanonical\\\":\\\"\\\"}],\\\"id\\\":3},{\\\"name\\\":\\\"Term 4\\\",\\\"curriculum_items\\\":[{\\\"curriculum_requisites\\\":[],\\\"name\\\":\\\" \\\",\\\"metrics\\\":{\\\"complexity\\\":16.0,\\\"centrality\\\":0,\\\"blocking factor\\\":8,\\\"delay factor\\\":8.0},\\\"nameSub\\\":\\\"EDUC 340\\\",\\\"id\\\":26,\\\"credits\\\":3,\\\"nameCanonical\\\":\\\"\\\"},{\\\"curriculum_requisites\\\":[{\\\"source_id\\\":19,\\\"target_id\\\":27,\\\"type\\\":\\\"CurriculumPrerequisite\\\"}],\\\"name\\\":\\\" \\\",\\\"metrics\\\":{\\\"complexity\\\":7.0,\\\"centrality\\\":10,\\\"blocking factor\\\":2,\\\"delay factor\\\":5.0},\\\"nameSub\\\":\\\"MU 218\\\",\\\"id\\\":27,\\\"credits\\\":3,\\\"nameCanonical\\\":\\\"\\\"},{\\\"curriculum_requisites\\\":[{\\\"source_id\\\":20,\\\"target_id\\\":28,\\\"type\\\":\\\"CurriculumPrerequisite\\\"}],\\\"name\\\":\\\" \\\",\\\"metrics\\\":{\\\"complexity\\\":4.0,\\\"centrality\\\":0,\\\"blocking factor\\\":0,\\\"delay factor\\\":4.0},\\\"nameSub\\\":\\\"MU 228\\\",\\\"id\\\":28,\\\"credits\\\":1,\\\"nameCanonical\\\":\\\"\\\"},{\\\"curriculum_requisites\\\":[],\\\"name\\\":\\\" \\\",\\\"metrics\\\":{\\\"complexity\\\":1.0,\\\"centrality\\\":0,\\\"blocking factor\\\":0,\\\"delay factor\\\":1.0},\\\"nameSub\\\":\\\"MU 252A\\\",\\\"id\\\":29,\\\"credits\\\":2,\\\"nameCanonical\\\":\\\"\\\"},{\\\"curriculum_requisites\\\":[],\\\"name\\\":\\\" \\\",\\\"metrics\\\":{\\\"complexity\\\":1.0,\\\"centrality\\\":0,\\\"blocking factor\\\":0,\\\"delay factor\\\":1.0},\\\"nameSub\\\":\\\"MU 272\\\",\\\"id\\\":30,\\\"credits\\\":1,\\\"nameCanonical\\\":\\\"\\\"},{\\\"curriculum_requisites\\\":[],\\\"name\\\":\\\" \\\",\\\"metrics\\\":{\\\"complexity\\\":1.0,\\\"centrality\\\":0,\\\"blocking factor\\\":0,\\\"delay factor\\\":1.0},\\\"nameSub\\\":\\\"ENSEMBLE\\\",\\\"id\\\":31,\\\"credits\\\":1,\\\"nameCanonical\\\":\\\"\\\"},{\\\"curriculum_requisites\\\":[],\\\"name\\\":\\\" \\\",\\\"metrics\\\":{\\\"complexity\\\":1.0,\\\"centrality\\\":0,\\\"blocking factor\\\":0,\\\"delay factor\\\":1.0},\\\"nameSub\\\":\\\"AUCC 3A\\\",\\\"id\\\":32,\\\"credits\\\":4,\\\"nameCanonical\\\":\\\"\\\"}],\\\"id\\\":4},{\\\"name\\\":\\\"Term 5\\\",\\\"curriculum_items\\\":[{\\\"curriculum_requisites\\\":[{\\\"source_id\\\":26,\\\"target_id\\\":33,\\\"type\\\":\\\"CurriculumPrerequisite\\\"},{\\\"source_id\\\":18,\\\"target_id\\\":33,\\\"type\\\":\\\"CurriculumPrerequisite\\\"}],\\\"name\\\":\\\" \\\",\\\"metrics\\\":{\\\"complexity\\\":10.0,\\\"centrality\\\":30,\\\"blocking factor\\\":4,\\\"delay factor\\\":6.0},\\\"nameSub\\\":\\\"EDUC 331\\\",\\\"id\\\":33,\\\"credits\\\":2,\\\"nameCanonical\\\":\\\"\\\"},{\\\"curriculum_requisites\\\":[],\\\"name\\\":\\\" \\\",\\\"metrics\\\":{\\\"complexity\\\":1.0,\\\"centrality\\\":0,\\\"blocking factor\\\":0,\\\"delay factor\\\":1.0},\\\"nameSub\\\":\\\"EDUC 474\\\",\\\"id\\\":34,\\\"credits\\\":2,\\\"nameCanonical\\\":\\\"\\\"},{\\\"curriculum_requisites\\\":[{\\\"source_id\\\":2,\\\"target_id\\\":35,\\\"type\\\":\\\"CurriculumPrerequisite\\\"}],\\\"name\\\":\\\" \\\",\\\"metrics\\\":{\\\"complexity\\\":4.0,\\\"centrality\\\":3,\\\"blocking factor\\\":1,\\\"delay factor\\\":3.0},\\\"nameSub\\\":\\\"MU 254\\\",\\\"id\\\":35,\\\"credits\\\":2,\\\"nameCanonical\\\":\\\"\\\"},{\\\"curriculum_requisites\\\":[{\\\"source_id\\\":27,\\\"target_id\\\":36,\\\"type\\\":\\\"CurriculumPrerequisite\\\"}],\\\"name\\\":\\\" \\\",\\\"metrics\\\":{\\\"complexity\\\":5.0,\\\"centrality\\\":0,\\\"blocking factor\\\":0,\\\"delay factor\\\":5.0},\\\"nameSub\\\":\\\"MU 317\\\",\\\"id\\\":36,\\\"credits\\\":2,\\\"nameCanonical\\\":\\\"\\\"},{\\\"curriculum_requisites\\\":[{\\\"source_id\\\":4,\\\"target_id\\\":37,\\\"type\\\":\\\"CurriculumPrerequisite\\\"},{\\\"source_id\\\":10,\\\"target_id\\\":37,\\\"type\\\":\\\"CurriculumPrerequisite\\\"}],\\\"name\\\":\\\" \\\",\\\"metrics\\\":{\\\"complexity\\\":3.0,\\\"centrality\\\":0,\\\"blocking factor\\\":0,\\\"delay factor\\\":3.0},\\\"nameSub\\\":\\\"MU 334\\\",\\\"id\\\":37,\\\"credits\\\":3,\\\"nameCanonical\\\":\\\"\\\"},{\\\"curriculum_requisites\\\":[],\\\"name\\\":\\\" \\\",\\\"metrics\\\":{\\\"complexity\\\":1.0,\\\"centrality\\\":0,\\\"blocking factor\\\":0,\\\"delay factor\\\":1.0},\\\"nameSub\\\":\\\"MU 472\\\",\\\"id\\\":38,\\\"credits\\\":1,\\\"nameCanonical\\\":\\\"\\\"},{\\\"curriculum_requisites\\\":[],\\\"name\\\":\\\" \\\",\\\"metrics\\\":{\\\"complexity\\\":1.0,\\\"centrality\\\":0,\\\"blocking factor\\\":0,\\\"delay factor\\\":1.0},\\\"nameSub\\\":\\\"ENSEMBLE\\\",\\\"id\\\":39,\\\"credits\\\":1,\\\"nameCanonical\\\":\\\"\\\"},{\\\"curriculum_requisites\\\":[],\\\"name\\\":\\\" \\\",\\\"metrics\\\":{\\\"complexity\\\":1.0,\\\"centrality\\\":0,\\\"blocking factor\\\":0,\\\"delay factor\\\":1.0},\\\"nameSub\\\":\\\"AUCC 3A\\\",\\\"id\\\":40,\\\"credits\\\":3,\\\"nameCanonical\\\":\\\"\\\"}],\\\"id\\\":5},{\\\"name\\\":\\\"Term 6\\\",\\\"curriculum_items\\\":[{\\\"curriculum_requisites\\\":[{\\\"source_id\\\":26,\\\"target_id\\\":41,\\\"type\\\":\\\"CurriculumPrerequisite\\\"},{\\\"source_id\\\":42,\\\"target_id\\\":41,\\\"type\\\":\\\"CurriculumCorequisite\\\"},{\\\"source_id\\\":18,\\\"target_id\\\":41,\\\"type\\\":\\\"CurriculumPrerequisite\\\"}],\\\"name\\\":\\\" \\\",\\\"metrics\\\":{\\\"complexity\\\":12.0,\\\"centrality\\\":108,\\\"blocking factor\\\":4,\\\"delay factor\\\":8.0},\\\"nameSub\\\":\\\"EDUC 350\\\",\\\"id\\\":41,\\\"credits\\\":3,\\\"nameCanonical\\\":\\\"\\\"},{\\\"curriculum_requisites\\\":[{\\\"source_id\\\":26,\\\"target_id\\\":42,\\\"type\\\":\\\"CurriculumPrerequisite\\\"},{\\\"source_id\\\":43,\\\"target_id\\\":42,\\\"type\\\":\\\"CurriculumCorequisite\\\"},{\\\"source_id\\\":18,\\\"target_id\\\":42,\\\"type\\\":\\\"CurriculumPrerequisite\\\"}],\\\"name\\\":\\\" \\\",\\\"metrics\\\":{\\\"complexity\\\":13.0,\\\"centrality\\\":144,\\\"blocking factor\\\":5,\\\"delay factor\\\":8.0},\\\"nameSub\\\":\\\"EDUC 386\\\",\\\"id\\\":42,\\\"credits\\\":1,\\\"nameCanonical\\\":\\\"\\\"},{\\\"curriculum_requisites\\\":[{\\\"source_id\\\":26,\\\"target_id\\\":43,\\\"type\\\":\\\"CurriculumPrerequisite\\\"},{\\\"source_id\\\":18,\\\"target_id\\\":43,\\\"type\\\":\\\"CurriculumPrerequisite\\\"}],\\\"name\\\":\\\" \\\",\\\"metrics\\\":{\\\"complexity\\\":14.0,\\\"centrality\\\":78,\\\"blocking factor\\\":6,\\\"delay factor\\\":8.0},\\\"nameSub\\\":\\\"EDUC 475\\\",\\\"id\\\":43,\\\"credits\\\":1,\\\"nameCanonical\\\":\\\"\\\"},{\\\"curriculum_requisites\\\":[{\\\"source_id\\\":27,\\\"target_id\\\":44,\\\"type\\\":\\\"CurriculumPrerequisite\\\"}],\\\"name\\\":\\\" \\\",\\\"metrics\\\":{\\\"complexity\\\":5.0,\\\"centrality\\\":0,\\\"blocking factor\\\":0,\\\"delay factor\\\":5.0},\\\"nameSub\\\":\\\"MU 318\\\",\\\"id\\\":44,\\\"credits\\\":1,\\\"nameCanonical\\\":\\\"\\\"},{\\\"curriculum_requisites\\\":[{\\\"source_id\\\":4,\\\"target_id\\\":45,\\\"type\\\":\\\"CurriculumPrerequisite\\\"},{\\\"source_id\\\":10,\\\"target_id\\\":45,\\\"type\\\":\\\"CurriculumPrerequisite\\\"}],\\\"name\\\":\\\" \\\",\\\"metrics\\\":{\\\"complexity\\\":3.0,\\\"centrality\\\":0,\\\"blocking factor\\\":0,\\\"delay factor\\\":3.0},\\\"nameSub\\\":\\\"MU 335\\\",\\\"id\\\":45,\\\"credits\\\":1,\\\"nameCanonical\\\":\\\"\\\"},{\\\"curriculum_requisites\\\":[{\\\"source_id\\\":35,\\\"target_id\\\":46,\\\"type\\\":\\\"CurriculumPrerequisite\\\"}],\\\"name\\\":\\\" \\\",\\\"metrics\\\":{\\\"complexity\\\":3.0,\\\"centrality\\\":0,\\\"blocking factor\\\":0,\\\"delay factor\\\":3.0},\\\"nameSub\\\":\\\"MU 356\\\",\\\"id\\\":46,\\\"credits\\\":1,\\\"nameCanonical\\\":\\\"\\\"},{\\\"curriculum_requisites\\\":[],\\\"name\\\":\\\" \\\",\\\"metrics\\\":{\\\"complexity\\\":1.0,\\\"centrality\\\":0,\\\"blocking factor\\\":0,\\\"delay factor\\\":1.0},\\\"nameSub\\\":\\\"MU ELECTIVE\\\",\\\"id\\\":47,\\\"credits\\\":1,\\\"nameCanonical\\\":\\\"\\\"},{\\\"curriculum_requisites\\\":[],\\\"name\\\":\\\" \\\",\\\"metrics\\\":{\\\"complexity\\\":1.0,\\\"centrality\\\":0,\\\"blocking factor\\\":0,\\\"delay factor\\\":1.0},\\\"nameSub\\\":\\\"MU 472\\\",\\\"id\\\":48,\\\"credits\\\":1,\\\"nameCanonical\\\":\\\"\\\"},{\\\"curriculum_requisites\\\":[],\\\"name\\\":\\\" \\\",\\\"metrics\\\":{\\\"complexity\\\":1.0,\\\"centrality\\\":0,\\\"blocking factor\\\":0,\\\"delay factor\\\":1.0},\\\"nameSub\\\":\\\"ENSEMBLE\\\",\\\"id\\\":49,\\\"credits\\\":1,\\\"nameCanonical\\\":\\\"\\\"}],\\\"id\\\":6},{\\\"name\\\":\\\"Term 7\\\",\\\"curriculum_items\\\":[{\\\"curriculum_requisites\\\":[{\\\"source_id\\\":42,\\\"target_id\\\":50,\\\"type\\\":\\\"CurriculumPrerequisite\\\"},{\\\"source_id\\\":51,\\\"target_id\\\":50,\\\"type\\\":\\\"CurriculumCorequisite\\\"},{\\\"source_id\\\":41,\\\"target_id\\\":50,\\\"type\\\":\\\"CurriculumPrerequisite\\\"},{\\\"source_id\\\":33,\\\"target_id\\\":50,\\\"type\\\":\\\"CurriculumPrerequisite\\\"}],\\\"name\\\":\\\" \\\",\\\"metrics\\\":{\\\"complexity\\\":11.0,\\\"centrality\\\":240,\\\"blocking factor\\\":3,\\\"delay factor\\\":8.0},\\\"nameSub\\\":\\\"EDUC 450\\\",\\\"id\\\":50,\\\"credits\\\":4,\\\"nameCanonical\\\":\\\"\\\"},{\\\"curriculum_requisites\\\":[{\\\"source_id\\\":19,\\\"target_id\\\":51,\\\"type\\\":\\\"CurriculumPrerequisite\\\"},{\\\"source_id\\\":52,\\\"target_id\\\":51,\\\"type\\\":\\\"CurriculumCorequisite\\\"}],\\\"name\\\":\\\" \\\",\\\"metrics\\\":{\\\"complexity\\\":12.0,\\\"centrality\\\":54,\\\"blocking factor\\\":4,\\\"delay factor\\\":8.0},\\\"nameSub\\\":\\\"EDUC 477\\\",\\\"id\\\":51,\\\"credits\\\":2,\\\"nameCanonical\\\":\\\"\\\"},{\\\"curriculum_requisites\\\":[],\\\"name\\\":\\\" \\\",\\\"metrics\\\":{\\\"complexity\\\":11.0,\\\"centrality\\\":0,\\\"blocking factor\\\":5,\\\"delay factor\\\":6.0},\\\"nameSub\\\":\\\"EDUC 486E\\\",\\\"id\\\":52,\\\"credits\\\":1,\\\"nameCanonical\\\":\\\"\\\"},{\\\"curriculum_requisites\\\":[],\\\"name\\\":\\\" \\\",\\\"metrics\\\":{\\\"complexity\\\":1.0,\\\"centrality\\\":0,\\\"blocking factor\\\":0,\\\"delay factor\\\":1.0},\\\"nameSub\\\":\\\"MU 252D\\\",\\\"id\\\":53,\\\"credits\\\":1,\\\"nameCanonical\\\":\\\"\\\"},{\\\"curriculum_requisites\\\":[],\\\"name\\\":\\\" \\\",\\\"metrics\\\":{\\\"complexity\\\":1.0,\\\"centrality\\\":0,\\\"blocking factor\\\":0,\\\"delay factor\\\":1.0},\\\"nameSub\\\":\\\"MU 425\\\",\\\"id\\\":54,\\\"credits\\\":2,\\\"nameCanonical\\\":\\\"\\\"},{\\\"curriculum_requisites\\\":[],\\\"name\\\":\\\" \\\",\\\"metrics\\\":{\\\"complexity\\\":1.0,\\\"centrality\\\":0,\\\"blocking factor\\\":0,\\\"delay factor\\\":1.0},\\\"nameSub\\\":\\\"MU 471\\\",\\\"id\\\":55,\\\"credits\\\":1,\\\"nameCanonical\\\":\\\"\\\"},{\\\"curriculum_requisites\\\":[],\\\"name\\\":\\\" \\\",\\\"metrics\\\":{\\\"complexity\\\":1.0,\\\"centrality\\\":0,\\\"blocking factor\\\":0,\\\"delay factor\\\":1.0},\\\"nameSub\\\":\\\"MU 472\\\",\\\"id\\\":56,\\\"credits\\\":1,\\\"nameCanonical\\\":\\\"\\\"},{\\\"curriculum_requisites\\\":[],\\\"name\\\":\\\" \\\",\\\"metrics\\\":{\\\"complexity\\\":1.0,\\\"centrality\\\":0,\\\"blocking factor\\\":0,\\\"delay factor\\\":1.0},\\\"nameSub\\\":\\\"ENSEMBLE\\\",\\\"id\\\":57,\\\"credits\\\":1,\\\"nameCanonical\\\":\\\"\\\"},{\\\"curriculum_requisites\\\":[],\\\"name\\\":\\\" \\\",\\\"metrics\\\":{\\\"complexity\\\":1.0,\\\"centrality\\\":0,\\\"blocking factor\\\":0,\\\"delay factor\\\":1.0},\\\"nameSub\\\":\\\"AUCC 3E\\\",\\\"id\\\":58,\\\"credits\\\":3,\\\"nameCanonical\\\":\\\"\\\"}],\\\"id\\\":7},{\\\"name\\\":\\\"Term 8\\\",\\\"curriculum_items\\\":[{\\\"curriculum_requisites\\\":[{\\\"source_id\\\":50,\\\"target_id\\\":59,\\\"type\\\":\\\"CurriculumPrerequisite\\\"},{\\\"source_id\\\":60,\\\"target_id\\\":59,\\\"type\\\":\\\"CurriculumCorequisite\\\"},{\\\"source_id\\\":51,\\\"target_id\\\":59,\\\"type\\\":\\\"CurriculumPrerequisite\\\"}],\\\"name\\\":\\\" \\\",\\\"metrics\\\":{\\\"complexity\\\":8.0,\\\"centrality\\\":0,\\\"blocking factor\\\":0,\\\"delay factor\\\":8.0},\\\"nameSub\\\":\\\"EDUC 485A\\\",\\\"id\\\":59,\\\"credits\\\":6,\\\"nameCanonical\\\":\\\"\\\"},{\\\"curriculum_requisites\\\":[{\\\"source_id\\\":50,\\\"target_id\\\":60,\\\"type\\\":\\\"CurriculumPrerequisite\\\"},{\\\"source_id\\\":61,\\\"target_id\\\":60,\\\"type\\\":\\\"CurriculumCorequisite\\\"},{\\\"source_id\\\":51,\\\"target_id\\\":60,\\\"type\\\":\\\"CurriculumPrerequisite\\\"}],\\\"name\\\":\\\" \\\",\\\"metrics\\\":{\\\"complexity\\\":9.0,\\\"centrality\\\":184,\\\"blocking factor\\\":1,\\\"delay factor\\\":8.0},\\\"nameSub\\\":\\\"EDUC 485B\\\",\\\"id\\\":60,\\\"credits\\\":6,\\\"nameCanonical\\\":\\\"\\\"},{\\\"curriculum_requisites\\\":[{\\\"source_id\\\":50,\\\"target_id\\\":61,\\\"type\\\":\\\"CurriculumPrerequisite\\\"}],\\\"name\\\":\\\" \\\",\\\"metrics\\\":{\\\"complexity\\\":10.0,\\\"centrality\\\":94,\\\"blocking factor\\\":2,\\\"delay factor\\\":8.0},\\\"nameSub\\\":\\\"EDUC 493A\\\",\\\"id\\\":61,\\\"credits\\\":1,\\\"nameCanonical\\\":\\\"\\\"},{\\\"curriculum_requisites\\\":[],\\\"name\\\":\\\" \\\",\\\"metrics\\\":{\\\"complexity\\\":1.0,\\\"centrality\\\":0,\\\"blocking factor\\\":0,\\\"delay factor\\\":1.0},\\\"nameSub\\\":\\\"ELECTIVE\\\",\\\"id\\\":62,\\\"credits\\\":1,\\\"nameCanonical\\\":\\\"\\\"}],\\\"id\\\":8}],\\\"institution\\\":\\\"Colorado State University\\\"}},\\\"*\\\"); window.removeEventListener(\\\"message\\\",window.messageReceived); window.messageReceived=(function (event){return (event.data.curriculum!==undefined) ? (WebIO.setval({\\\"name\\\":\\\"curriculum-data\\\",\\\"scope\\\":\\\"7710941920300394773\\\",\\\"id\\\":\\\"2074722546589354105\\\",\\\"type\\\":\\\"observable\\\"},event.data.curriculum)) : undefined}); return window.addEventListener(\\\"message\\\",window.messageReceived)})\"},\"style\":{\"padding\":\"0\",\"height\":\"100vh\",\"margin\":\"0\",\"border\":\"none\",\"width\":\"100%\"}},\"nodeType\":\"DOM\",\"type\":\"node\",\"instanceArgs\":{\"namespace\":\"html\",\"tag\":\"iframe\"},\"children\":[\"\"]}]},\n",
       "            window,\n",
       "        );\n",
       "    } else {\n",
       "        document\n",
       "            .querySelector('[data-webio-mountpoint=\"13885736637175086063\"]')\n",
       "            .innerHTML = (\n",
       "                '<div style=\"padding: 1em; background-color: #f8d6da; border: 1px solid #f5c6cb\">' +\n",
       "                '<p><strong>WebIO not detected.</strong></p>' +\n",
       "                '<p>Please read ' +\n",
       "                '<a href=\"https://juliagizmos.github.io/WebIO.jl/latest/troubleshooting/not-detected/\" target=\"_blank\">the troubleshooting guide</a> ' +\n",
       "                'for more information on how to resolve this issue.</p>' +\n",
       "                '<p><a href=\"https://juliagizmos.github.io/WebIO.jl/latest/troubleshooting/not-detected/\" target=\"_blank\">https://juliagizmos.github.io/WebIO.jl/latest/troubleshooting/not-detected/</a></p>' +\n",
       "                '</div>'\n",
       "            );\n",
       "    }\n",
       "    </script>\n",
       "</div>\n"
      ],
      "text/plain": [
       "WebIO.Scope(WebIO.Node{WebIO.DOM}(WebIO.DOM(:html, :iframe), Any[\"\"], Dict{Symbol,Any}(:src => \"http://localhost:8156\",:id => \"curriculum\",:events => Dict{Symbol,WebIO.JSString}(:load => WebIO.JSString(\"(function (){this.contentWindow.postMessage({\\\"options\\\":{\\\"hideTerms\\\":false,\\\"edit\\\":false},\\\"curriculum\\\":{\\\"name\\\":\\\"Music Education\\\",\\\"dp_name\\\":\\\"4-Year Plan\\\",\\\"curriculum_terms\\\":[{\\\"name\\\":\\\"Term 1\\\",\\\"curriculum_items\\\":[{\\\"curriculum_requisites\\\":[],\\\"name\\\":\\\" \\\",\\\"metrics\\\":{\\\"complexity\\\":3.0,\\\"centrality\\\":0,\\\"blocking factor\\\":1,\\\"delay factor\\\":2.0},\\\"nameSub\\\":\\\"CO 150\\\",\\\"id\\\":1,\\\"credits\\\":3,\\\"nameCanonical\\\":\\\"\\\"},{\\\"curriculum_requisites\\\":[],\\\"name\\\":\\\" \\\",\\\"metrics\\\":{\\\"complexity\\\":22.0,\\\"centrality\\\":0,\\\"blocking factor\\\":14,\\\"delay factor\\\":8.0},\\\"nameSub\\\":\\\"MU 117\\\",\\\"id\\\":2,\\\"credits\\\":3,\\\"nameCanonical\\\":\\\"\\\"},{\\\"curriculum_requisites\\\":[],\\\"name\\\":\\\" \\\",\\\"metrics\\\":{\\\"complexity\\\":7.0,\\\"centrality\\\":0,\\\"blocking factor\\\":3,\\\"delay factor\\\":4.0},\\\"nameSub\\\":\\\"MU 127\\\",\\\"id\\\":3,\\\"credits\\\":1,\\\"nameCanonical\\\":\\\"\\\"},{\\\"curriculum_requisites\\\":[],\\\"name\\\":\\\" \\\",\\\"metrics\\\":{\\\"complexity\\\":4.0,\\\"centrality\\\":0,\\\"blocking factor\\\":2,\\\"delay factor\\\":2.0},\\\"nameSub\\\":\\\"MU 131\\\",\\\"id\\\":4,\\\"credits\\\":3,\\\"nameCanonical\\\":\\\"\\\"},{\\\"curriculum_requisites\\\":[],\\\"name\\\":\\\" \\\",\\\"metrics\\\":{\\\"complexity\\\":3.0,\\\"centrality\\\":0,\\\"blocking factor\\\":1,\\\"delay factor\\\":2.0},\\\"nameSub\\\":\\\"MU 150\\\",\\\"id\\\":5,\\\"credits\\\":1,\\\"nameCanonical\\\":\\\"\\\"},{\\\"curriculum_requisites\\\":[],\\\"name\\\":\\\" \\\",\\\"metrics\\\":{\\\"complexity\\\":1.0,\\\"centrality\\\":0,\\\"blocking factor\\\":0,\\\"delay factor\\\":1.0},\\\"nameSub\\\":\\\"MU 251\\\",\\\"id\\\":6,\\\"credits\\\":1,\\\"nameCanonical\\\":\\\"\\\"},{\\\"curriculum_requisites\\\":[],\\\"name\\\":\\\" \\\",\\\"metrics\\\":{\\\"complexity\\\":1.0,\\\"centrality\\\":0,\\\"blocking factor\\\":0,\\\"delay factor\\\":1.0},\\\"nameSub\\\":\\\"MU 272\\\",\\\"id\\\":7,\\\"credits\\\":1,\\\"nameCanonical\\\":\\\"\\\"},{\\\"curriculum_requisites\\\":[],\\\"name\\\":\\\" \\\",\\\"metrics\\\":{\\\"complexity\\\":1.0,\\\"centrality\\\":0,\\\"blocking factor\\\":0,\\\"delay factor\\\":1.0},\\\"nameSub\\\":\\\"MU 286\\\",\\\"id\\\":8,\\\"credits\\\":3,\\\"nameCanonical\\\":\\\"\\\"},{\\\"curriculum_requisites\\\":[],\\\"name\\\":\\\" \\\",\\\"metrics\\\":{\\\"complexity\\\":1.0,\\\"centrality\\\":0,\\\"blocking factor\\\":0,\\\"delay factor\\\":1.0},\\\"nameSub\\\":\\\"ENSEMBLE\\\",\\\"id\\\":9,\\\"credits\\\":1,\\\"nameCanonical\\\":\\\"\\\"}],\\\"id\\\":1},{\\\"name\\\":\\\"Term 2\\\",\\\"curriculum_items\\\":[{\\\"curriculum_requisites\\\":[{\\\"source_id\\\":2,\\\"target_id\\\":10,\\\"type\\\":\\\"CurriculumPrerequisite\\\"}],\\\"name\\\":\\\" \\\",\\\"metrics\\\":{\\\"complexity\\\":19.0,\\\"centrality\\\":48,\\\"blocking factor\\\":11,\\\"delay factor\\\":8.0},\\\"nameSub\\\":\\\"MU 118\\\",\\\"id\\\":10,\\\"credits\\\":3,\\\"nameCanonical\\\":\\\"\\\"},{\\\"curriculum_requisites\\\":[{\\\"source_id\\\":3,\\\"target_id\\\":11,\\\"type\\\":\\\"CurriculumPrerequisite\\\"}],\\\"name\\\":\\\" \\\",\\\"metrics\\\":{\\\"complexity\\\":6.0,\\\"centrality\\\":4,\\\"blocking factor\\\":2,\\\"delay factor\\\":4.0},\\\"nameSub\\\":\\\"MU 128\\\",\\\"id\\\":11,\\\"credits\\\":1,\\\"nameCanonical\\\":\\\"\\\"},{\\\"curriculum_requisites\\\":[{\\\"source_id\\\":5,\\\"target_id\\\":12,\\\"type\\\":\\\"CurriculumPrerequisite\\\"}],\\\"name\\\":\\\" \\\",\\\"metrics\\\":{\\\"complexity\\\":2.0,\\\"centrality\\\":0,\\\"blocking factor\\\":0,\\\"delay factor\\\":2.0},\\\"nameSub\\\":\\\"MU 151A\\\",\\\"id\\\":12,\\\"credits\\\":1,\\\"nameCanonical\\\":\\\"\\\"},{\\\"curriculum_requisites\\\":[],\\\"name\\\":\\\" \\\",\\\"metrics\\\":{\\\"complexity\\\":1.0,\\\"centrality\\\":0,\\\"blocking factor\\\":0,\\\"delay factor\\\":1.0},\\\"nameSub\\\":\\\"MU 252B\\\",\\\"id\\\":13,\\\"credits\\\":2,\\\"nameCanonical\\\":\\\"\\\"},{\\\"curriculum_requisites\\\":[],\\\"name\\\":\\\" \\\",\\\"metrics\\\":{\\\"complexity\\\":1.0,\\\"centrality\\\":0,\\\"blocking factor\\\":0,\\\"delay factor\\\":1.0},\\\"nameSub\\\":\\\"MU 272\\\",\\\"id\\\":14,\\\"credits\\\":1,\\\"nameCanonical\\\":\\\"\\\"},{\\\"curriculum_requisites\\\":[],\\\"name\\\":\\\" \\\",\\\"metrics\\\":{\\\"complexity\\\":1.0,\\\"centrality\\\":0,\\\"blocking factor\\\":0,\\\"delay factor\\\":1.0},\\\"nameSub\\\":\\\"ENSEMBLE\\\",\\\"id\\\":15,\\\"credits\\\":1,\\\"nameCanonical\\\":\\\"\\\"},{\\\"curriculum_requisites\\\":[],\\\"name\\\":\\\" \\\",\\\"metrics\\\":{\\\"complexity\\\":1.0,\\\"centrality\\\":0,\\\"blocking factor\\\":0,\\\"delay factor\\\":1.0},\\\"nameSub\\\":\\\"AUCC 3B\\\",\\\"id\\\":16,\\\"credits\\\":3,\\\"nameCanonical\\\":\\\"\\\"},{\\\"curriculum_requisites\\\":[],\\\"name\\\":\\\" \\\",\\\"metrics\\\":{\\\"complexity\\\":1.0,\\\"centrality\\\":0,\\\"blocking factor\\\":0,\\\"delay factor\\\":1.0},\\\"nameSub\\\":\\\"AUCC MATH\\\",\\\"id\\\":17,\\\"credits\\\":3,\\\"nameCanonical\\\":\\\"\\\"}],\\\"id\\\":2},{\\\"name\\\":\\\"Term 3\\\",\\\"curriculum_items\\\":[{\\\"curriculum_requisites\\\":[],\\\"name\\\":\\\" \\\",\\\"metrics\\\":{\\\"complexity\\\":16.0,\\\"centrality\\\":0,\\\"blocking factor\\\":8,\\\"delay factor\\\":8.0},\\\"nameSub\\\":\\\"EDUC 275\\\",\\\"id\\\":18,\\\"credits\\\":3,\\\"nameCanonical\\\":\\\"\\\"},{\\\"curriculum_requisites\\\":[{\\\"source_id\\\":10,\\\"target_id\\\":19,\\\"type\\\":\\\"CurriculumPrerequisite\\\"}],\\\"name\\\":\\\" \\\",\\\"metrics\\\":{\\\"complexity\\\":16.0,\\\"centrality\\\":42,\\\"blocking factor\\\":8,\\\"delay factor\\\":8.0},\\\"nameSub\\\":\\\"MU 217\\\",\\\"id\\\":19,\\\"credits\\\":3,\\\"nameCanonical\\\":\\\"\\\"},{\\\"curriculum_requisites\\\":[{\\\"source_id\\\":11,\\\"target_id\\\":20,\\\"type\\\":\\\"CurriculumPrerequisite\\\"}],\\\"name\\\":\\\" \\\",\\\"metrics\\\":{\\\"complexity\\\":5.0,\\\"centrality\\\":4,\\\"blocking factor\\\":1,\\\"delay factor\\\":4.0},\\\"nameSub\\\":\\\"MU 227\\\",\\\"id\\\":20,\\\"credits\\\":1,\\\"nameCanonical\\\":\\\"\\\"},{\\\"curriculum_requisites\\\":[],\\\"name\\\":\\\" \\\",\\\"metrics\\\":{\\\"complexity\\\":1.0,\\\"centrality\\\":0,\\\"blocking factor\\\":0,\\\"delay factor\\\":1.0},\\\"nameSub\\\":\\\"MU 252C\\\",\\\"id\\\":21,\\\"credits\\\":1,\\\"nameCanonical\\\":\\\"\\\"},{\\\"curriculum_requisites\\\":[],\\\"name\\\":\\\" \\\",\\\"metrics\\\":{\\\"complexity\\\":1.0,\\\"centrality\\\":0,\\\"blocking factor\\\":0,\\\"delay factor\\\":1.0},\\\"nameSub\\\":\\\"MU 272\\\",\\\"id\\\":22,\\\"credits\\\":1,\\\"nameCanonical\\\":\\\"\\\"},{\\\"curriculum_requisites\\\":[],\\\"name\\\":\\\" \\\",\\\"metrics\\\":{\\\"complexity\\\":1.0,\\\"centrality\\\":0,\\\"blocking factor\\\":0,\\\"delay factor\\\":1.0},\\\"nameSub\\\":\\\"ENSEMBLE\\\",\\\"id\\\":23,\\\"credits\\\":1,\\\"nameCanonical\\\":\\\"\\\"},{\\\"curriculum_requisites\\\":[{\\\"source_id\\\":1,\\\"target_id\\\":24,\\\"type\\\":\\\"CurriculumPrerequisite\\\"}],\\\"name\\\":\\\" \\\",\\\"metrics\\\":{\\\"complexity\\\":2.0,\\\"centrality\\\":0,\\\"blocking factor\\\":0,\\\"delay factor\\\":2.0},\\\"nameSub\\\":\\\"AUCC Advanced Writing\\\",\\\"id\\\":24,\\\"credits\\\":3,\\\"nameCanonical\\\":\\\"\\\"},{\\\"curriculum_requisites\\\":[],\\\"name\\\":\\\" \\\",\\\"metrics\\\":{\\\"complexity\\\":1.0,\\\"centrality\\\":0,\\\"blocking factor\\\":0,\\\"delay factor\\\":1.0},\\\"nameSub\\\":\\\"AUCC 3D\\\",\\\"id\\\":25,\\\"credits\\\":3,\\\"nameCanonical\\\":\\\"\\\"}],\\\"id\\\":3},{\\\"name\\\":\\\"Term 4\\\",\\\"curriculum_items\\\":[{\\\"curriculum_requisites\\\":[],\\\"name\\\":\\\" \\\",\\\"metrics\\\":{\\\"complexity\\\":16.0,\\\"centrality\\\":0,\\\"blocking factor\\\":8,\\\"delay factor\\\":8.0},\\\"nameSub\\\":\\\"EDUC 340\\\",\\\"id\\\":26,\\\"credits\\\":3,\\\"nameCanonical\\\":\\\"\\\"},{\\\"curriculum_requisites\\\":[{\\\"source_id\\\":19,\\\"target_id\\\":27,\\\"type\\\":\\\"CurriculumPrerequisite\\\"}],\\\"name\\\":\\\" \\\",\\\"metrics\\\":{\\\"complexity\\\":7.0,\\\"centrality\\\":10,\\\"blocking factor\\\":2,\\\"delay factor\\\":5.0},\\\"nameSub\\\":\\\"MU 218\\\",\\\"id\\\":27,\\\"credits\\\":3,\\\"nameCanonical\\\":\\\"\\\"},{\\\"curriculum_requisites\\\":[{\\\"source_id\\\":20,\\\"target_id\\\":28,\\\"type\\\":\\\"CurriculumPrerequisite\\\"}],\\\"name\\\":\\\" \\\",\\\"metrics\\\":{\\\"complexity\\\":4.0,\\\"centrality\\\":0,\\\"blocking factor\\\":0,\\\"delay factor\\\":4.0},\\\"nameSub\\\":\\\"MU 228\\\",\\\"id\\\":28,\\\"credits\\\":1,\\\"nameCanonical\\\":\\\"\\\"},{\\\"curriculum_requisites\\\":[],\\\"name\\\":\\\" \\\",\\\"metrics\\\":{\\\"complexity\\\":1.0,\\\"centrality\\\":0,\\\"blocking factor\\\":0,\\\"delay factor\\\":1.0},\\\"nameSub\\\":\\\"MU 252A\\\",\\\"id\\\":29,\\\"credits\\\":2,\\\"nameCanonical\\\":\\\"\\\"},{\\\"curriculum_requisites\\\":[],\\\"name\\\":\\\" \\\",\\\"metrics\\\":{\\\"complexity\\\":1.0,\\\"centrality\\\":0,\\\"blocking factor\\\":0,\\\"delay factor\\\":1.0},\\\"nameSub\\\":\\\"MU 272\\\",\\\"id\\\":30,\\\"credits\\\":1,\\\"nameCanonical\\\":\\\"\\\"},{\\\"curriculum_requisites\\\":[],\\\"name\\\":\\\" \\\",\\\"metrics\\\":{\\\"complexity\\\":1.0,\\\"centrality\\\":0,\\\"blocking factor\\\":0,\\\"delay factor\\\":1.0},\\\"nameSub\\\":\\\"ENSEMBLE\\\",\\\"id\\\":31,\\\"credits\\\":1,\\\"nameCanonical\\\":\\\"\\\"},{\\\"curriculum_requisites\\\":[],\\\"name\\\":\\\" \\\",\\\"metrics\\\":{\\\"complexity\\\":1.0,\\\"centrality\\\":0,\\\"blocking factor\\\":0,\\\"delay factor\\\":1.0},\\\"nameSub\\\":\\\"AUCC 3A\\\",\\\"id\\\":32,\\\"credits\\\":4,\\\"nameCanonical\\\":\\\"\\\"}],\\\"id\\\":4},{\\\"name\\\":\\\"Term 5\\\",\\\"curriculum_items\\\":[{\\\"curriculum_requisites\\\":[{\\\"source_id\\\":26,\\\"target_id\\\":33,\\\"type\\\":\\\"CurriculumPrerequisite\\\"},{\\\"source_id\\\":18,\\\"target_id\\\":33,\\\"type\\\":\\\"CurriculumPrerequisite\\\"}],\\\"name\\\":\\\" \\\",\\\"metrics\\\":{\\\"complexity\\\":10.0,\\\"centrality\\\":30,\\\"blocking factor\\\":4,\\\"delay factor\\\":6.0},\\\"nameSub\\\":\\\"EDUC 331\\\",\\\"id\\\":33,\\\"credits\\\":2,\\\"nameCanonical\\\":\\\"\\\"},{\\\"curriculum_requisites\\\":[],\\\"name\\\":\\\" \\\",\\\"metrics\\\":{\\\"complexity\\\":1.0,\\\"centrality\\\":0,\\\"blocking factor\\\":0,\\\"delay factor\\\":1.0},\\\"nameSub\\\":\\\"EDUC 474\\\",\\\"id\\\":34,\\\"credits\\\":2,\\\"nameCanonical\\\":\\\"\\\"},{\\\"curriculum_requisites\\\":[{\\\"source_id\\\":2,\\\"target_id\\\":35,\\\"type\\\":\\\"CurriculumPrerequisite\\\"}],\\\"name\\\":\\\" \\\",\\\"metrics\\\":{\\\"complexity\\\":4.0,\\\"centrality\\\":3,\\\"blocking factor\\\":1,\\\"delay factor\\\":3.0},\\\"nameSub\\\":\\\"MU 254\\\",\\\"id\\\":35,\\\"credits\\\":2,\\\"nameCanonical\\\":\\\"\\\"},{\\\"curriculum_requisites\\\":[{\\\"source_id\\\":27,\\\"target_id\\\":36,\\\"type\\\":\\\"CurriculumPrerequisite\\\"}],\\\"name\\\":\\\" \\\",\\\"metrics\\\":{\\\"complexity\\\":5.0,\\\"centrality\\\":0,\\\"blocking factor\\\":0,\\\"delay factor\\\":5.0},\\\"nameSub\\\":\\\"MU 317\\\",\\\"id\\\":36,\\\"credits\\\":2,\\\"nameCanonical\\\":\\\"\\\"},{\\\"curriculum_requisites\\\":[{\\\"source_id\\\":4,\\\"target_id\\\":37,\\\"type\\\":\\\"CurriculumPrerequisite\\\"},{\\\"source_id\\\":10,\\\"target_id\\\":37,\\\"type\\\":\\\"CurriculumPrerequisite\\\"}],\\\"name\\\":\\\" \\\",\\\"metrics\\\":{\\\"complexity\\\":3.0,\\\"centrality\\\":0,\\\"blocking factor\\\":0,\\\"delay factor\\\":3.0},\\\"nameSub\\\":\\\"MU 334\\\",\\\"id\\\":37,\\\"credits\\\":3,\\\"nameCanonical\\\":\\\"\\\"},{\\\"curriculum_requisites\\\":[],\\\"name\\\":\\\" \\\",\\\"metrics\\\":{\\\"complexity\\\":1.0,\\\"centrality\\\":0,\\\"blocking factor\\\":0,\\\"delay factor\\\":1.0},\\\"nameSub\\\":\\\"MU 472\\\",\\\"id\\\":38,\\\"credits\\\":1,\\\"nameCanonical\\\":\\\"\\\"},{\\\"curriculum_requisites\\\":[],\\\"name\\\":\\\" \\\",\\\"metrics\\\":{\\\"complexity\\\":1.0,\\\"centrality\\\":0,\\\"blocking factor\\\":0,\\\"delay factor\\\":1.0},\\\"nameSub\\\":\\\"ENSEMBLE\\\",\\\"id\\\":39,\\\"credits\\\":1,\\\"nameCanonical\\\":\\\"\\\"},{\\\"curriculum_requisites\\\":[],\\\"name\\\":\\\" \\\",\\\"metrics\\\":{\\\"complexity\\\":1.0,\\\"centrality\\\":0,\\\"blocking factor\\\":0,\\\"delay factor\\\":1.0},\\\"nameSub\\\":\\\"AUCC 3A\\\",\\\"id\\\":40,\\\"credits\\\":3,\\\"nameCanonical\\\":\\\"\\\"}],\\\"id\\\":5},{\\\"name\\\":\\\"Term 6\\\",\\\"curriculum_items\\\":[{\\\"curriculum_requisites\\\":[{\\\"source_id\\\":26,\\\"target_id\\\":41,\\\"type\\\":\\\"CurriculumPrerequisite\\\"},{\\\"source_id\\\":42,\\\"target_id\\\":41,\\\"type\\\":\\\"CurriculumCorequisite\\\"},{\\\"source_id\\\":18,\\\"target_id\\\":41,\\\"type\\\":\\\"CurriculumPrerequisite\\\"}],\\\"name\\\":\\\" \\\",\\\"metrics\\\":{\\\"complexity\\\":12.0,\\\"centrality\\\":108,\\\"blocking factor\\\":4,\\\"delay factor\\\":8.0},\\\"nameSub\\\":\\\"EDUC 350\\\",\\\"id\\\":41,\\\"credits\\\":3,\\\"nameCanonical\\\":\\\"\\\"},{\\\"curriculum_requisites\\\":[{\\\"source_id\\\":26,\\\"target_id\\\":42,\\\"type\\\":\\\"CurriculumPrerequisite\\\"},{\\\"source_id\\\":43,\\\"target_id\\\":42,\\\"type\\\":\\\"CurriculumCorequisite\\\"},{\\\"source_id\\\":18,\\\"target_id\\\":42,\\\"type\\\":\\\"CurriculumPrerequisite\\\"}],\\\"name\\\":\\\" \\\",\\\"metrics\\\":{\\\"complexity\\\":13.0,\\\"centrality\\\":144,\\\"blocking factor\\\":5,\\\"delay factor\\\":8.0},\\\"nameSub\\\":\\\"EDUC 386\\\",\\\"id\\\":42,\\\"credits\\\":1,\\\"nameCanonical\\\":\\\"\\\"},{\\\"curriculum_requisites\\\":[{\\\"source_id\\\":26,\\\"target_id\\\":43,\\\"type\\\":\\\"CurriculumPrerequisite\\\"},{\\\"source_id\\\":18,\\\"target_id\\\":43,\\\"type\\\":\\\"CurriculumPrerequisite\\\"}],\\\"name\\\":\\\" \\\",\\\"metrics\\\":{\\\"complexity\\\":14.0,\\\"centrality\\\":78,\\\"blocking factor\\\":6,\\\"delay factor\\\":8.0},\\\"nameSub\\\":\\\"EDUC 475\\\",\\\"id\\\":43,\\\"credits\\\":1,\\\"nameCanonical\\\":\\\"\\\"},{\\\"curriculum_requisites\\\":[{\\\"source_id\\\":27,\\\"target_id\\\":44,\\\"type\\\":\\\"CurriculumPrerequisite\\\"}],\\\"name\\\":\\\" \\\",\\\"metrics\\\":{\\\"complexity\\\":5.0,\\\"centrality\\\":0,\\\"blocking factor\\\":0,\\\"delay factor\\\":5.0},\\\"nameSub\\\":\\\"MU 318\\\",\\\"id\\\":44,\\\"credits\\\":1,\\\"nameCanonical\\\":\\\"\\\"},{\\\"curriculum_requisites\\\":[{\\\"source_id\\\":4,\\\"target_id\\\":45,\\\"type\\\":\\\"CurriculumPrerequisite\\\"},{\\\"source_id\\\":10,\\\"target_id\\\":45,\\\"type\\\":\\\"CurriculumPrerequisite\\\"}],\\\"name\\\":\\\" \\\",\\\"metrics\\\":{\\\"complexity\\\":3.0,\\\"centrality\\\":0,\\\"blocking factor\\\":0,\\\"delay factor\\\":3.0},\\\"nameSub\\\":\\\"MU 335\\\",\\\"id\\\":45,\\\"credits\\\":1,\\\"nameCanonical\\\":\\\"\\\"},{\\\"curriculum_requisites\\\":[{\\\"source_id\\\":35,\\\"target_id\\\":46,\\\"type\\\":\\\"CurriculumPrerequisite\\\"}],\\\"name\\\":\\\" \\\",\\\"metrics\\\":{\\\"complexity\\\":3.0,\\\"centrality\\\":0,\\\"blocking factor\\\":0,\\\"delay factor\\\":3.0},\\\"nameSub\\\":\\\"MU 356\\\",\\\"id\\\":46,\\\"credits\\\":1,\\\"nameCanonical\\\":\\\"\\\"},{\\\"curriculum_requisites\\\":[],\\\"name\\\":\\\" \\\",\\\"metrics\\\":{\\\"complexity\\\":1.0,\\\"centrality\\\":0,\\\"blocking factor\\\":0,\\\"delay factor\\\":1.0},\\\"nameSub\\\":\\\"MU ELECTIVE\\\",\\\"id\\\":47,\\\"credits\\\":1,\\\"nameCanonical\\\":\\\"\\\"},{\\\"curriculum_requisites\\\":[],\\\"name\\\":\\\" \\\",\\\"metrics\\\":{\\\"complexity\\\":1.0,\\\"centrality\\\":0,\\\"blocking factor\\\":0,\\\"delay factor\\\":1.0},\\\"nameSub\\\":\\\"MU 472\\\",\\\"id\\\":48,\\\"credits\\\":1,\\\"nameCanonical\\\":\\\"\\\"},{\\\"curriculum_requisites\\\":[],\\\"name\\\":\\\" \\\",\\\"metrics\\\":{\\\"complexity\\\":1.0,\\\"centrality\\\":0,\\\"blocking factor\\\":0,\\\"delay factor\\\":1.0},\\\"nameSub\\\":\\\"ENSEMBLE\\\",\\\"id\\\":49,\\\"credits\\\":1,\\\"nameCanonical\\\":\\\"\\\"}],\\\"id\\\":6},{\\\"name\\\":\\\"Term 7\\\",\\\"curriculum_items\\\":[{\\\"curriculum_requisites\\\":[{\\\"source_id\\\":42,\\\"target_id\\\":50,\\\"type\\\":\\\"CurriculumPrerequisite\\\"},{\\\"source_id\\\":51,\\\"target_id\\\":50,\\\"type\\\":\\\"CurriculumCorequisite\\\"},{\\\"source_id\\\":41,\\\"target_id\\\":50,\\\"type\\\":\\\"CurriculumPrerequisite\\\"},{\\\"source_id\\\":33,\\\"target_id\\\":50,\\\"type\\\":\\\"CurriculumPrerequisite\\\"}],\\\"name\\\":\\\" \\\",\\\"metrics\\\":{\\\"complexity\\\":11.0,\\\"centrality\\\":240,\\\"blocking factor\\\":3,\\\"delay factor\\\":8.0},\\\"nameSub\\\":\\\"EDUC 450\\\",\\\"id\\\":50,\\\"credits\\\":4,\\\"nameCanonical\\\":\\\"\\\"},{\\\"curriculum_requisites\\\":[{\\\"source_id\\\":19,\\\"target_id\\\":51,\\\"type\\\":\\\"CurriculumPrerequisite\\\"},{\\\"source_id\\\":52,\\\"target_id\\\":51,\\\"type\\\":\\\"CurriculumCorequisite\\\"}],\\\"name\\\":\\\" \\\",\\\"metrics\\\":{\\\"complexity\\\":12.0,\\\"centrality\\\":54,\\\"blocking factor\\\":4,\\\"delay factor\\\":8.0},\\\"nameSub\\\":\\\"EDUC 477\\\",\\\"id\\\":51,\\\"credits\\\":2,\\\"nameCanonical\\\":\\\"\\\"},{\\\"curriculum_requisites\\\":[],\\\"name\\\":\\\" \\\",\\\"metrics\\\":{\\\"complexity\\\":11.0,\\\"centrality\\\":0,\\\"blocking factor\\\":5,\\\"delay factor\\\":6.0},\\\"nameSub\\\":\\\"EDUC 486E\\\",\\\"id\\\":52,\\\"credits\\\":1,\\\"nameCanonical\\\":\\\"\\\"},{\\\"curriculum_requisites\\\":[],\\\"name\\\":\\\" \\\",\\\"metrics\\\":{\\\"complexity\\\":1.0,\\\"centrality\\\":0,\\\"blocking factor\\\":0,\\\"delay factor\\\":1.0},\\\"nameSub\\\":\\\"MU 252D\\\",\\\"id\\\":53,\\\"credits\\\":1,\\\"nameCanonical\\\":\\\"\\\"},{\\\"curriculum_requisites\\\":[],\\\"name\\\":\\\" \\\",\\\"metrics\\\":{\\\"complexity\\\":1.0,\\\"centrality\\\":0,\\\"blocking factor\\\":0,\\\"delay factor\\\":1.0},\\\"nameSub\\\":\\\"MU 425\\\",\\\"id\\\":54,\\\"credits\\\":2,\\\"nameCanonical\\\":\\\"\\\"},{\\\"curriculum_requisites\\\":[],\\\"name\\\":\\\" \\\",\\\"metrics\\\":{\\\"complexity\\\":1.0,\\\"centrality\\\":0,\\\"blocking factor\\\":0,\\\"delay factor\\\":1.0},\\\"nameSub\\\":\\\"MU 471\\\",\\\"id\\\":55,\\\"credits\\\":1,\\\"nameCanonical\\\":\\\"\\\"},{\\\"curriculum_requisites\\\":[],\\\"name\\\":\\\" \\\",\\\"metrics\\\":{\\\"complexity\\\":1.0,\\\"centrality\\\":0,\\\"blocking factor\\\":0,\\\"delay factor\\\":1.0},\\\"nameSub\\\":\\\"MU 472\\\",\\\"id\\\":56,\\\"credits\\\":1,\\\"nameCanonical\\\":\\\"\\\"},{\\\"curriculum_requisites\\\":[],\\\"name\\\":\\\" \\\",\\\"metrics\\\":{\\\"complexity\\\":1.0,\\\"centrality\\\":0,\\\"blocking factor\\\":0,\\\"delay factor\\\":1.0},\\\"nameSub\\\":\\\"ENSEMBLE\\\",\\\"id\\\":57,\\\"credits\\\":1,\\\"nameCanonical\\\":\\\"\\\"},{\\\"curriculum_requisites\\\":[],\\\"name\\\":\\\" \\\",\\\"metrics\\\":{\\\"complexity\\\":1.0,\\\"centrality\\\":0,\\\"blocking factor\\\":0,\\\"delay factor\\\":1.0},\\\"nameSub\\\":\\\"AUCC 3E\\\",\\\"id\\\":58,\\\"credits\\\":3,\\\"nameCanonical\\\":\\\"\\\"}],\\\"id\\\":7},{\\\"name\\\":\\\"Term 8\\\",\\\"curriculum_items\\\":[{\\\"curriculum_requisites\\\":[{\\\"source_id\\\":50,\\\"target_id\\\":59,\\\"type\\\":\\\"CurriculumPrerequisite\\\"},{\\\"source_id\\\":60,\\\"target_id\\\":59,\\\"type\\\":\\\"CurriculumCorequisite\\\"},{\\\"source_id\\\":51,\\\"target_id\\\":59,\\\"type\\\":\\\"CurriculumPrerequisite\\\"}],\\\"name\\\":\\\" \\\",\\\"metrics\\\":{\\\"complexity\\\":8.0,\\\"centrality\\\":0,\\\"blocking factor\\\":0,\\\"delay factor\\\":8.0},\\\"nameSub\\\":\\\"EDUC 485A\\\",\\\"id\\\":59,\\\"credits\\\":6,\\\"nameCanonical\\\":\\\"\\\"},{\\\"curriculum_requisites\\\":[{\\\"source_id\\\":50,\\\"target_id\\\":60,\\\"type\\\":\\\"CurriculumPrerequisite\\\"},{\\\"source_id\\\":61,\\\"target_id\\\":60,\\\"type\\\":\\\"CurriculumCorequisite\\\"},{\\\"source_id\\\":51,\\\"target_id\\\":60,\\\"type\\\":\\\"CurriculumPrerequisite\\\"}],\\\"name\\\":\\\" \\\",\\\"metrics\\\":{\\\"complexity\\\":9.0,\\\"centrality\\\":184,\\\"blocking factor\\\":1,\\\"delay factor\\\":8.0},\\\"nameSub\\\":\\\"EDUC 485B\\\",\\\"id\\\":60,\\\"credits\\\":6,\\\"nameCanonical\\\":\\\"\\\"},{\\\"curriculum_requisites\\\":[{\\\"source_id\\\":50,\\\"target_id\\\":61,\\\"type\\\":\\\"CurriculumPrerequisite\\\"}],\\\"name\\\":\\\" \\\",\\\"metrics\\\":{\\\"complexity\\\":10.0,\\\"centrality\\\":94,\\\"blocking factor\\\":2,\\\"delay factor\\\":8.0},\\\"nameSub\\\":\\\"EDUC 493A\\\",\\\"id\\\":61,\\\"credits\\\":1,\\\"nameCanonical\\\":\\\"\\\"},{\\\"curriculum_requisites\\\":[],\\\"name\\\":\\\" \\\",\\\"metrics\\\":{\\\"complexity\\\":1.0,\\\"centrality\\\":0,\\\"blocking factor\\\":0,\\\"delay factor\\\":1.0},\\\"nameSub\\\":\\\"ELECTIVE\\\",\\\"id\\\":62,\\\"credits\\\":1,\\\"nameCanonical\\\":\\\"\\\"}],\\\"id\\\":8}],\\\"institution\\\":\\\"Colorado State University\\\"}},\\\"*\\\"); window.removeEventListener(\\\"message\\\",window.messageReceived); window.messageReceived=(function (event){return (event.data.curriculum!==undefined) ? (WebIO.setval({\\\"name\\\":\\\"curriculum-data\\\",\\\"scope\\\":\\\"7710941920300394773\\\",\\\"id\\\":\\\"2074722546589354105\\\",\\\"type\\\":\\\"observable\\\"},event.data.curriculum)) : undefined}); return window.addEventListener(\\\"message\\\",window.messageReceived)})\")),:style => Dict(:padding => \"0\",:height => \"100vh\",:margin => \"0\",:border => \"none\",:width => \"100%\"))), Dict{String,Tuple{Observables.AbstractObservable,Union{Nothing, Bool}}}(\"curriculum-data\" => (Observable{Dict{String,Any}} with 1 listeners. Value:\n",
       "Dict{String,Any}(\"options\" => Dict{String,Any}(\"hideTerms\" => false,\"edit\" => false),\"curriculum\" => Dict{String,Any}(\"name\" => \"Music Education\",\"dp_name\" => \"4-Year Plan\",\"curriculum_terms\" => Dict{String,Any}[Dict(\"name\" => \"Term 1\",\"curriculum_items\" => Dict{String,Any}[Dict(\"curriculum_requisites\" => Dict{String,Any}[],\"name\" => \" \",\"metrics\" => Dict{String,Any}(\"complexity\" => 3.0,\"centrality\" => 0,\"blocking factor\" => 1,\"delay factor\" => 2.0),\"nameSub\" => \"CO 150\",\"id\" => 1,\"credits\" => 3,\"nameCanonical\" => \"\"), Dict(\"curriculum_requisites\" => Dict{String,Any}[],\"name\" => \" \",\"metrics\" => Dict{String,Any}(\"complexity\" => 22.0,\"centrality\" => 0,\"blocking factor\" => 14,\"delay factor\" => 8.0),\"nameSub\" => \"MU 117\",\"id\" => 2,\"credits\" => 3,\"nameCanonical\" => \"\"), Dict(\"curriculum_requisites\" => Dict{String,Any}[],\"name\" => \" \",\"metrics\" => Dict{String,Any}(\"complexity\" => 7.0,\"centrality\" => 0,\"blocking factor\" => 3,\"delay factor\" => 4.0),\"nameSub\" => \"MU 127\",\"id\" => 3,\"credits\" => 1,\"nameCanonical\" => \"\"), Dict(\"curriculum_requisites\" => Dict{String,Any}[],\"name\" => \" \",\"metrics\" => Dict{String,Any}(\"complexity\" => 4.0,\"centrality\" => 0,\"blocking factor\" => 2,\"delay factor\" => 2.0),\"nameSub\" => \"MU 131\",\"id\" => 4,\"credits\" => 3,\"nameCanonical\" => \"\"), Dict(\"curriculum_requisites\" => Dict{String,Any}[],\"name\" => \" \",\"metrics\" => Dict{String,Any}(\"complexity\" => 3.0,\"centrality\" => 0,\"blocking factor\" => 1,\"delay factor\" => 2.0),\"nameSub\" => \"MU 150\",\"id\" => 5,\"credits\" => 1,\"nameCanonical\" => \"\"), Dict(\"curriculum_requisites\" => Dict{String,Any}[],\"name\" => \" \",\"metrics\" => Dict{String,Any}(\"complexity\" => 1.0,\"centrality\" => 0,\"blocking factor\" => 0,\"delay factor\" => 1.0),\"nameSub\" => \"MU 251\",\"id\" => 6,\"credits\" => 1,\"nameCanonical\" => \"\"), Dict(\"curriculum_requisites\" => Dict{String,Any}[],\"name\" => \" \",\"metrics\" => Dict{String,Any}(\"complexity\" => 1.0,\"centrality\" => 0,\"blocking factor\" => 0,\"delay factor\" => 1.0),\"nameSub\" => \"MU 272\",\"id\" => 7,\"credits\" => 1,\"nameCanonical\" => \"\"), Dict(\"curriculum_requisites\" => Dict{String,Any}[],\"name\" => \" \",\"metrics\" => Dict{String,Any}(\"complexity\" => 1.0,\"centrality\" => 0,\"blocking factor\" => 0,\"delay factor\" => 1.0),\"nameSub\" => \"MU 286\",\"id\" => 8,\"credits\" => 3,\"nameCanonical\" => \"\"), Dict(\"curriculum_requisites\" => Dict{String,Any}[],\"name\" => \" \",\"metrics\" => Dict{String,Any}(\"complexity\" => 1.0,\"centrality\" => 0,\"blocking factor\" => 0,\"delay factor\" => 1.0),\"nameSub\" => \"ENSEMBLE\",\"id\" => 9,\"credits\" => 1,\"nameCanonical\" => \"\")],\"id\" => 1), Dict(\"name\" => \"Term 2\",\"curriculum_items\" => Dict{String,Any}[Dict(\"curriculum_requisites\" => Dict{String,Any}[Dict(\"source_id\" => 2,\"target_id\" => 10,\"type\" => \"CurriculumPrerequisite\")],\"name\" => \" \",\"metrics\" => Dict{String,Any}(\"complexity\" => 19.0,\"centrality\" => 48,\"blocking factor\" => 11,\"delay factor\" => 8.0),\"nameSub\" => \"MU 118\",\"id\" => 10,\"credits\" => 3,\"nameCanonical\" => \"\"), Dict(\"curriculum_requisites\" => Dict{String,Any}[Dict(\"source_id\" => 3,\"target_id\" => 11,\"type\" => \"CurriculumPrerequisite\")],\"name\" => \" \",\"metrics\" => Dict{String,Any}(\"complexity\" => 6.0,\"centrality\" => 4,\"blocking factor\" => 2,\"delay factor\" => 4.0),\"nameSub\" => \"MU 128\",\"id\" => 11,\"credits\" => 1,\"nameCanonical\" => \"\"), Dict(\"curriculum_requisites\" => Dict{String,Any}[Dict(\"source_id\" => 5,\"target_id\" => 12,\"type\" => \"CurriculumPrerequisite\")],\"name\" => \" \",\"metrics\" => Dict{String,Any}(\"complexity\" => 2.0,\"centrality\" => 0,\"blocking factor\" => 0,\"delay factor\" => 2.0),\"nameSub\" => \"MU 151A\",\"id\" => 12,\"credits\" => 1,\"nameCanonical\" => \"\"), Dict(\"curriculum_requisites\" => Dict{String,Any}[],\"name\" => \" \",\"metrics\" => Dict{String,Any}(\"complexity\" => 1.0,\"centrality\" => 0,\"blocking factor\" => 0,\"delay factor\" => 1.0),\"nameSub\" => \"MU 252B\",\"id\" => 13,\"credits\" => 2,\"nameCanonical\" => \"\"), Dict(\"curriculum_requisites\" => Dict{String,Any}[],\"name\" => \" \",\"metrics\" => Dict{String,Any}(\"complexity\" => 1.0,\"centrality\" => 0,\"blocking factor\" => 0,\"delay factor\" => 1.0),\"nameSub\" => \"MU 272\",\"id\" => 14,\"credits\" => 1,\"nameCanonical\" => \"\"), Dict(\"curriculum_requisites\" => Dict{String,Any}[],\"name\" => \" \",\"metrics\" => Dict{String,Any}(\"complexity\" => 1.0,\"centrality\" => 0,\"blocking factor\" => 0,\"delay factor\" => 1.0),\"nameSub\" => \"ENSEMBLE\",\"id\" => 15,\"credits\" => 1,\"nameCanonical\" => \"\"), Dict(\"curriculum_requisites\" => Dict{String,Any}[],\"name\" => \" \",\"metrics\" => Dict{String,Any}(\"complexity\" => 1.0,\"centrality\" => 0,\"blocking factor\" => 0,\"delay factor\" => 1.0),\"nameSub\" => \"AUCC 3B\",\"id\" => 16,\"credits\" => 3,\"nameCanonical\" => \"\"), Dict(\"curriculum_requisites\" => Dict{String,Any}[],\"name\" => \" \",\"metrics\" => Dict{String,Any}(\"complexity\" => 1.0,\"centrality\" => 0,\"blocking factor\" => 0,\"delay factor\" => 1.0),\"nameSub\" => \"AUCC MATH\",\"id\" => 17,\"credits\" => 3,\"nameCanonical\" => \"\")],\"id\" => 2), Dict(\"name\" => \"Term 3\",\"curriculum_items\" => Dict{String,Any}[Dict(\"curriculum_requisites\" => Dict{String,Any}[],\"name\" => \" \",\"metrics\" => Dict{String,Any}(\"complexity\" => 16.0,\"centrality\" => 0,\"blocking factor\" => 8,\"delay factor\" => 8.0),\"nameSub\" => \"EDUC 275\",\"id\" => 18,\"credits\" => 3,\"nameCanonical\" => \"\"), Dict(\"curriculum_requisites\" => Dict{String,Any}[Dict(\"source_id\" => 10,\"target_id\" => 19,\"type\" => \"CurriculumPrerequisite\")],\"name\" => \" \",\"metrics\" => Dict{String,Any}(\"complexity\" => 16.0,\"centrality\" => 42,\"blocking factor\" => 8,\"delay factor\" => 8.0),\"nameSub\" => \"MU 217\",\"id\" => 19,\"credits\" => 3,\"nameCanonical\" => \"\"), Dict(\"curriculum_requisites\" => Dict{String,Any}[Dict(\"source_id\" => 11,\"target_id\" => 20,\"type\" => \"CurriculumPrerequisite\")],\"name\" => \" \",\"metrics\" => Dict{String,Any}(\"complexity\" => 5.0,\"centrality\" => 4,\"blocking factor\" => 1,\"delay factor\" => 4.0),\"nameSub\" => \"MU 227\",\"id\" => 20,\"credits\" => 1,\"nameCanonical\" => \"\"), Dict(\"curriculum_requisites\" => Dict{String,Any}[],\"name\" => \" \",\"metrics\" => Dict{String,Any}(\"complexity\" => 1.0,\"centrality\" => 0,\"blocking factor\" => 0,\"delay factor\" => 1.0),\"nameSub\" => \"MU 252C\",\"id\" => 21,\"credits\" => 1,\"nameCanonical\" => \"\"), Dict(\"curriculum_requisites\" => Dict{String,Any}[],\"name\" => \" \",\"metrics\" => Dict{String,Any}(\"complexity\" => 1.0,\"centrality\" => 0,\"blocking factor\" => 0,\"delay factor\" => 1.0),\"nameSub\" => \"MU 272\",\"id\" => 22,\"credits\" => 1,\"nameCanonical\" => \"\"), Dict(\"curriculum_requisites\" => Dict{String,Any}[],\"name\" => \" \",\"metrics\" => Dict{String,Any}(\"complexity\" => 1.0,\"centrality\" => 0,\"blocking factor\" => 0,\"delay factor\" => 1.0),\"nameSub\" => \"ENSEMBLE\",\"id\" => 23,\"credits\" => 1,\"nameCanonical\" => \"\"), Dict(\"curriculum_requisites\" => Dict{String,Any}[Dict(\"source_id\" => 1,\"target_id\" => 24,\"type\" => \"CurriculumPrerequisite\")],\"name\" => \" \",\"metrics\" => Dict{String,Any}(\"complexity\" => 2.0,\"centrality\" => 0,\"blocking factor\" => 0,\"delay factor\" => 2.0),\"nameSub\" => \"AUCC Advanced Writing\",\"id\" => 24,\"credits\" => 3,\"nameCanonical\" => \"\"), Dict(\"curriculum_requisites\" => Dict{String,Any}[],\"name\" => \" \",\"metrics\" => Dict{String,Any}(\"complexity\" => 1.0,\"centrality\" => 0,\"blocking factor\" => 0,\"delay factor\" => 1.0),\"nameSub\" => \"AUCC 3D\",\"id\" => 25,\"credits\" => 3,\"nameCanonical\" => \"\")],\"id\" => 3), Dict(\"name\" => \"Term 4\",\"curriculum_items\" => Dict{String,Any}[Dict(\"curriculum_requisites\" => Dict{String,Any}[],\"name\" => \" \",\"metrics\" => Dict{String,Any}(\"complexity\" => 16.0,\"centrality\" => 0,\"blocking factor\" => 8,\"delay factor\" => 8.0),\"nameSub\" => \"EDUC 340\",\"id\" => 26,\"credits\" => 3,\"nameCanonical\" => \"\"), Dict(\"curriculum_requisites\" => Dict{String,Any}[Dict(\"source_id\" => 19,\"target_id\" => 27,\"type\" => \"CurriculumPrerequisite\")],\"name\" => \" \",\"metrics\" => Dict{String,Any}(\"complexity\" => 7.0,\"centrality\" => 10,\"blocking factor\" => 2,\"delay factor\" => 5.0),\"nameSub\" => \"MU 218\",\"id\" => 27,\"credits\" => 3,\"nameCanonical\" => \"\"), Dict(\"curriculum_requisites\" => Dict{String,Any}[Dict(\"source_id\" => 20,\"target_id\" => 28,\"type\" => \"CurriculumPrerequisite\")],\"name\" => \" \",\"metrics\" => Dict{String,Any}(\"complexity\" => 4.0,\"centrality\" => 0,\"blocking factor\" => 0,\"delay factor\" => 4.0),\"nameSub\" => \"MU 228\",\"id\" => 28,\"credits\" => 1,\"nameCanonical\" => \"\"), Dict(\"curriculum_requisites\" => Dict{String,Any}[],\"name\" => \" \",\"metrics\" => Dict{String,Any}(\"complexity\" => 1.0,\"centrality\" => 0,\"blocking factor\" => 0,\"delay factor\" => 1.0),\"nameSub\" => \"MU 252A\",\"id\" => 29,\"credits\" => 2,\"nameCanonical\" => \"\"), Dict(\"curriculum_requisites\" => Dict{String,Any}[],\"name\" => \" \",\"metrics\" => Dict{String,Any}(\"complexity\" => 1.0,\"centrality\" => 0,\"blocking factor\" => 0,\"delay factor\" => 1.0),\"nameSub\" => \"MU 272\",\"id\" => 30,\"credits\" => 1,\"nameCanonical\" => \"\"), Dict(\"curriculum_requisites\" => Dict{String,Any}[],\"name\" => \" \",\"metrics\" => Dict{String,Any}(\"complexity\" => 1.0,\"centrality\" => 0,\"blocking factor\" => 0,\"delay factor\" => 1.0),\"nameSub\" => \"ENSEMBLE\",\"id\" => 31,\"credits\" => 1,\"nameCanonical\" => \"\"), Dict(\"curriculum_requisites\" => Dict{String,Any}[],\"name\" => \" \",\"metrics\" => Dict{String,Any}(\"complexity\" => 1.0,\"centrality\" => 0,\"blocking factor\" => 0,\"delay factor\" => 1.0),\"nameSub\" => \"AUCC 3A\",\"id\" => 32,\"credits\" => 4,\"nameCanonical\" => \"\")],\"id\" => 4), Dict(\"name\" => \"Term 5\",\"curriculum_items\" => Dict{String,Any}[Dict(\"curriculum_requisites\" => Dict{String,Any}[Dict(\"source_id\" => 26,\"target_id\" => 33,\"type\" => \"CurriculumPrerequisite\"), Dict(\"source_id\" => 18,\"target_id\" => 33,\"type\" => \"CurriculumPrerequisite\")],\"name\" => \" \",\"metrics\" => Dict{String,Any}(\"complexity\" => 10.0,\"centrality\" => 30,\"blocking factor\" => 4,\"delay factor\" => 6.0),\"nameSub\" => \"EDUC 331\",\"id\" => 33,\"credits\" => 2,\"nameCanonical\" => \"\"), Dict(\"curriculum_requisites\" => Dict{String,Any}[],\"name\" => \" \",\"metrics\" => Dict{String,Any}(\"complexity\" => 1.0,\"centrality\" => 0,\"blocking factor\" => 0,\"delay factor\" => 1.0),\"nameSub\" => \"EDUC 474\",\"id\" => 34,\"credits\" => 2,\"nameCanonical\" => \"\"), Dict(\"curriculum_requisites\" => Dict{String,Any}[Dict(\"source_id\" => 2,\"target_id\" => 35,\"type\" => \"CurriculumPrerequisite\")],\"name\" => \" \",\"metrics\" => Dict{String,Any}(\"complexity\" => 4.0,\"centrality\" => 3,\"blocking factor\" => 1,\"delay factor\" => 3.0),\"nameSub\" => \"MU 254\",\"id\" => 35,\"credits\" => 2,\"nameCanonical\" => \"\"), Dict(\"curriculum_requisites\" => Dict{String,Any}[Dict(\"source_id\" => 27,\"target_id\" => 36,\"type\" => \"CurriculumPrerequisite\")],\"name\" => \" \",\"metrics\" => Dict{String,Any}(\"complexity\" => 5.0,\"centrality\" => 0,\"blocking factor\" => 0,\"delay factor\" => 5.0),\"nameSub\" => \"MU 317\",\"id\" => 36,\"credits\" => 2,\"nameCanonical\" => \"\"), Dict(\"curriculum_requisites\" => Dict{String,Any}[Dict(\"source_id\" => 4,\"target_id\" => 37,\"type\" => \"CurriculumPrerequisite\"), Dict(\"source_id\" => 10,\"target_id\" => 37,\"type\" => \"CurriculumPrerequisite\")],\"name\" => \" \",\"metrics\" => Dict{String,Any}(\"complexity\" => 3.0,\"centrality\" => 0,\"blocking factor\" => 0,\"delay factor\" => 3.0),\"nameSub\" => \"MU 334\",\"id\" => 37,\"credits\" => 3,\"nameCanonical\" => \"\"), Dict(\"curriculum_requisites\" => Dict{String,Any}[],\"name\" => \" \",\"metrics\" => Dict{String,Any}(\"complexity\" => 1.0,\"centrality\" => 0,\"blocking factor\" => 0,\"delay factor\" => 1.0),\"nameSub\" => \"MU 472\",\"id\" => 38,\"credits\" => 1,\"nameCanonical\" => \"\"), Dict(\"curriculum_requisites\" => Dict{String,Any}[],\"name\" => \" \",\"metrics\" => Dict{String,Any}(\"complexity\" => 1.0,\"centrality\" => 0,\"blocking factor\" => 0,\"delay factor\" => 1.0),\"nameSub\" => \"ENSEMBLE\",\"id\" => 39,\"credits\" => 1,\"nameCanonical\" => \"\"), Dict(\"curriculum_requisites\" => Dict{String,Any}[],\"name\" => \" \",\"metrics\" => Dict{String,Any}(\"complexity\" => 1.0,\"centrality\" => 0,\"blocking factor\" => 0,\"delay factor\" => 1.0),\"nameSub\" => \"AUCC 3A\",\"id\" => 40,\"credits\" => 3,\"nameCanonical\" => \"\")],\"id\" => 5), Dict(\"name\" => \"Term 6\",\"curriculum_items\" => Dict{String,Any}[Dict(\"curriculum_requisites\" => Dict{String,Any}[Dict(\"source_id\" => 26,\"target_id\" => 41,\"type\" => \"CurriculumPrerequisite\"), Dict(\"source_id\" => 42,\"target_id\" => 41,\"type\" => \"CurriculumCorequisite\"), Dict(\"source_id\" => 18,\"target_id\" => 41,\"type\" => \"CurriculumPrerequisite\")],\"name\" => \" \",\"metrics\" => Dict{String,Any}(\"complexity\" => 12.0,\"centrality\" => 108,\"blocking factor\" => 4,\"delay factor\" => 8.0),\"nameSub\" => \"EDUC 350\",\"id\" => 41,\"credits\" => 3,\"nameCanonical\" => \"\"), Dict(\"curriculum_requisites\" => Dict{String,Any}[Dict(\"source_id\" => 26,\"target_id\" => 42,\"type\" => \"CurriculumPrerequisite\"), Dict(\"source_id\" => 43,\"target_id\" => 42,\"type\" => \"CurriculumCorequisite\"), Dict(\"source_id\" => 18,\"target_id\" => 42,\"type\" => \"CurriculumPrerequisite\")],\"name\" => \" \",\"metrics\" => Dict{String,Any}(\"complexity\" => 13.0,\"centrality\" => 144,\"blocking factor\" => 5,\"delay factor\" => 8.0),\"nameSub\" => \"EDUC 386\",\"id\" => 42,\"credits\" => 1,\"nameCanonical\" => \"\"), Dict(\"curriculum_requisites\" => Dict{String,Any}[Dict(\"source_id\" => 26,\"target_id\" => 43,\"type\" => \"CurriculumPrerequisite\"), Dict(\"source_id\" => 18,\"target_id\" => 43,\"type\" => \"CurriculumPrerequisite\")],\"name\" => \" \",\"metrics\" => Dict{String,Any}(\"complexity\" => 14.0,\"centrality\" => 78,\"blocking factor\" => 6,\"delay factor\" => 8.0),\"nameSub\" => \"EDUC 475\",\"id\" => 43,\"credits\" => 1,\"nameCanonical\" => \"\"), Dict(\"curriculum_requisites\" => Dict{String,Any}[Dict(\"source_id\" => 27,\"target_id\" => 44,\"type\" => \"CurriculumPrerequisite\")],\"name\" => \" \",\"metrics\" => Dict{String,Any}(\"complexity\" => 5.0,\"centrality\" => 0,\"blocking factor\" => 0,\"delay factor\" => 5.0),\"nameSub\" => \"MU 318\",\"id\" => 44,\"credits\" => 1,\"nameCanonical\" => \"\"), Dict(\"curriculum_requisites\" => Dict{String,Any}[Dict(\"source_id\" => 4,\"target_id\" => 45,\"type\" => \"CurriculumPrerequisite\"), Dict(\"source_id\" => 10,\"target_id\" => 45,\"type\" => \"CurriculumPrerequisite\")],\"name\" => \" \",\"metrics\" => Dict{String,Any}(\"complexity\" => 3.0,\"centrality\" => 0,\"blocking factor\" => 0,\"delay factor\" => 3.0),\"nameSub\" => \"MU 335\",\"id\" => 45,\"credits\" => 1,\"nameCanonical\" => \"\"), Dict(\"curriculum_requisites\" => Dict{String,Any}[Dict(\"source_id\" => 35,\"target_id\" => 46,\"type\" => \"CurriculumPrerequisite\")],\"name\" => \" \",\"metrics\" => Dict{String,Any}(\"complexity\" => 3.0,\"centrality\" => 0,\"blocking factor\" => 0,\"delay factor\" => 3.0),\"nameSub\" => \"MU 356\",\"id\" => 46,\"credits\" => 1,\"nameCanonical\" => \"\"), Dict(\"curriculum_requisites\" => Dict{String,Any}[],\"name\" => \" \",\"metrics\" => Dict{String,Any}(\"complexity\" => 1.0,\"centrality\" => 0,\"blocking factor\" => 0,\"delay factor\" => 1.0),\"nameSub\" => \"MU ELECTIVE\",\"id\" => 47,\"credits\" => 1,\"nameCanonical\" => \"\"), Dict(\"curriculum_requisites\" => Dict{String,Any}[],\"name\" => \" \",\"metrics\" => Dict{String,Any}(\"complexity\" => 1.0,\"centrality\" => 0,\"blocking factor\" => 0,\"delay factor\" => 1.0),\"nameSub\" => \"MU 472\",\"id\" => 48,\"credits\" => 1,\"nameCanonical\" => \"\"), Dict(\"curriculum_requisites\" => Dict{String,Any}[],\"name\" => \" \",\"metrics\" => Dict{String,Any}(\"complexity\" => 1.0,\"centrality\" => 0,\"blocking factor\" => 0,\"delay factor\" => 1.0),\"nameSub\" => \"ENSEMBLE\",\"id\" => 49,\"credits\" => 1,\"nameCanonical\" => \"\")],\"id\" => 6), Dict(\"name\" => \"Term 7\",\"curriculum_items\" => Dict{String,Any}[Dict(\"curriculum_requisites\" => Dict{String,Any}[Dict(\"source_id\" => 42,\"target_id\" => 50,\"type\" => \"CurriculumPrerequisite\"), Dict(\"source_id\" => 51,\"target_id\" => 50,\"type\" => \"CurriculumCorequisite\"), Dict(\"source_id\" => 41,\"target_id\" => 50,\"type\" => \"CurriculumPrerequisite\"), Dict(\"source_id\" => 33,\"target_id\" => 50,\"type\" => \"CurriculumPrerequisite\")],\"name\" => \" \",\"metrics\" => Dict{String,Any}(\"complexity\" => 11.0,\"centrality\" => 240,\"blocking factor\" => 3,\"delay factor\" => 8.0),\"nameSub\" => \"EDUC 450\",\"id\" => 50,\"credits\" => 4,\"nameCanonical\" => \"\"), Dict(\"curriculum_requisites\" => Dict{String,Any}[Dict(\"source_id\" => 19,\"target_id\" => 51,\"type\" => \"CurriculumPrerequisite\"), Dict(\"source_id\" => 52,\"target_id\" => 51,\"type\" => \"CurriculumCorequisite\")],\"name\" => \" \",\"metrics\" => Dict{String,Any}(\"complexity\" => 12.0,\"centrality\" => 54,\"blocking factor\" => 4,\"delay factor\" => 8.0),\"nameSub\" => \"EDUC 477\",\"id\" => 51,\"credits\" => 2,\"nameCanonical\" => \"\"), Dict(\"curriculum_requisites\" => Dict{String,Any}[],\"name\" => \" \",\"metrics\" => Dict{String,Any}(\"complexity\" => 11.0,\"centrality\" => 0,\"blocking factor\" => 5,\"delay factor\" => 6.0),\"nameSub\" => \"EDUC 486E\",\"id\" => 52,\"credits\" => 1,\"nameCanonical\" => \"\"), Dict(\"curriculum_requisites\" => Dict{String,Any}[],\"name\" => \" \",\"metrics\" => Dict{String,Any}(\"complexity\" => 1.0,\"centrality\" => 0,\"blocking factor\" => 0,\"delay factor\" => 1.0),\"nameSub\" => \"MU 252D\",\"id\" => 53,\"credits\" => 1,\"nameCanonical\" => \"\"), Dict(\"curriculum_requisites\" => Dict{String,Any}[],\"name\" => \" \",\"metrics\" => Dict{String,Any}(\"complexity\" => 1.0,\"centrality\" => 0,\"blocking factor\" => 0,\"delay factor\" => 1.0),\"nameSub\" => \"MU 425\",\"id\" => 54,\"credits\" => 2,\"nameCanonical\" => \"\"), Dict(\"curriculum_requisites\" => Dict{String,Any}[],\"name\" => \" \",\"metrics\" => Dict{String,Any}(\"complexity\" => 1.0,\"centrality\" => 0,\"blocking factor\" => 0,\"delay factor\" => 1.0),\"nameSub\" => \"MU 471\",\"id\" => 55,\"credits\" => 1,\"nameCanonical\" => \"\"), Dict(\"curriculum_requisites\" => Dict{String,Any}[],\"name\" => \" \",\"metrics\" => Dict{String,Any}(\"complexity\" => 1.0,\"centrality\" => 0,\"blocking factor\" => 0,\"delay factor\" => 1.0),\"nameSub\" => \"MU 472\",\"id\" => 56,\"credits\" => 1,\"nameCanonical\" => \"\"), Dict(\"curriculum_requisites\" => Dict{String,Any}[],\"name\" => \" \",\"metrics\" => Dict{String,Any}(\"complexity\" => 1.0,\"centrality\" => 0,\"blocking factor\" => 0,\"delay factor\" => 1.0),\"nameSub\" => \"ENSEMBLE\",\"id\" => 57,\"credits\" => 1,\"nameCanonical\" => \"\"), Dict(\"curriculum_requisites\" => Dict{String,Any}[],\"name\" => \" \",\"metrics\" => Dict{String,Any}(\"complexity\" => 1.0,\"centrality\" => 0,\"blocking factor\" => 0,\"delay factor\" => 1.0),\"nameSub\" => \"AUCC 3E\",\"id\" => 58,\"credits\" => 3,\"nameCanonical\" => \"\")],\"id\" => 7), Dict(\"name\" => \"Term 8\",\"curriculum_items\" => Dict{String,Any}[Dict(\"curriculum_requisites\" => Dict{String,Any}[Dict(\"source_id\" => 50,\"target_id\" => 59,\"type\" => \"CurriculumPrerequisite\"), Dict(\"source_id\" => 60,\"target_id\" => 59,\"type\" => \"CurriculumCorequisite\"), Dict(\"source_id\" => 51,\"target_id\" => 59,\"type\" => \"CurriculumPrerequisite\")],\"name\" => \" \",\"metrics\" => Dict{String,Any}(\"complexity\" => 8.0,\"centrality\" => 0,\"blocking factor\" => 0,\"delay factor\" => 8.0),\"nameSub\" => \"EDUC 485A\",\"id\" => 59,\"credits\" => 6,\"nameCanonical\" => \"\"), Dict(\"curriculum_requisites\" => Dict{String,Any}[Dict(\"source_id\" => 50,\"target_id\" => 60,\"type\" => \"CurriculumPrerequisite\"), Dict(\"source_id\" => 61,\"target_id\" => 60,\"type\" => \"CurriculumCorequisite\"), Dict(\"source_id\" => 51,\"target_id\" => 60,\"type\" => \"CurriculumPrerequisite\")],\"name\" => \" \",\"metrics\" => Dict{String,Any}(\"complexity\" => 9.0,\"centrality\" => 184,\"blocking factor\" => 1,\"delay factor\" => 8.0),\"nameSub\" => \"EDUC 485B\",\"id\" => 60,\"credits\" => 6,\"nameCanonical\" => \"\"), Dict(\"curriculum_requisites\" => Dict{String,Any}[Dict(\"source_id\" => 50,\"target_id\" => 61,\"type\" => \"CurriculumPrerequisite\")],\"name\" => \" \",\"metrics\" => Dict{String,Any}(\"complexity\" => 10.0,\"centrality\" => 94,\"blocking factor\" => 2,\"delay factor\" => 8.0),\"nameSub\" => \"EDUC 493A\",\"id\" => 61,\"credits\" => 1,\"nameCanonical\" => \"\"), Dict(\"curriculum_requisites\" => Dict{String,Any}[],\"name\" => \" \",\"metrics\" => Dict{String,Any}(\"complexity\" => 1.0,\"centrality\" => 0,\"blocking factor\" => 0,\"delay factor\" => 1.0),\"nameSub\" => \"ELECTIVE\",\"id\" => 62,\"credits\" => 1,\"nameCanonical\" => \"\")],\"id\" => 8)],\"institution\" => \"Colorado State University\")), nothing)), Set{String}(), nothing, WebIO.Asset[], Dict{Any,Any}(), WebIO.ConnectionPool(Channel{Any}(sz_max:32,sz_curr:0), Set{WebIO.AbstractConnection}(), Base.GenericCondition{Base.AlwaysLockedST}(Base.InvasiveLinkedList{Task}(Task (runnable) @0x0000000143d5d8d0, Task (runnable) @0x0000000143d5d8d0), Base.AlwaysLockedST(1))), WebIO.JSString[])"
      ]
     },
     "execution_count": 4,
     "metadata": {
      "application/vnd.webio.node+json": {
       "kernelId": "662f37b6-e905-497d-a539-49accc690147"
      }
     },
     "output_type": "execute_result"
    }
   ],
   "source": [
    "dp = schools_plans[\"colorado-state\"][\"music-education\"]\n",
    "visualize(dp, notebook=true)"
   ]
  },
  {
   "cell_type": "markdown",
   "metadata": {},
   "source": [
    "## Curricular Analytics\n",
    "First we will analyze the structural properties of the various curricula provided by the programs at the cluster schools.  This will involve analyzing the structural properties of a single curriculum.  The structural properties of a curriculum are determined by the underlying structural properties of its corresponding curriculum graph (i.e., the graph showing the prerequisite relationships between the courses in a curriculum, ignoring term information).\n",
    "\n",
    "Next we will analyze the complexities associated with the curricula in each of four disciplines across all schools in the cluster, namely animal science, mechanical engineering, music education, and psychology.  That is, we will look at the intra-discipline curricular complexity for each of these disciplines.  Finally, we will compare the inter-discipline curricular complexity statistics of the schools in the cluster."
   ]
  },
  {
   "cell_type": "markdown",
   "metadata": {},
   "source": [
    "### Analysis of a single curriclum \n",
    "The `basic_metrics()` function can be used to output a set of basic metrics associatd with a curriculum. As an example, here are the basic curricular metrics associated with the Music Education program at Colorado State Univeristy:"
   ]
  },
  {
   "cell_type": "code",
   "execution_count": 5,
   "metadata": {},
   "outputs": [
    {
     "name": "stdout",
     "output_type": "stream",
     "text": [
      "\n",
      "Colorado State University \n",
      "Curriculum: Music Education\n",
      "  credit hours = 120\n",
      "  number of courses = 62\n",
      "  Blocking Factor --\n",
      "    entire curriculum = 96\n",
      "    max. value = 14, for course(s): MU 117\n",
      "  Centrality --\n",
      "    entire curriculum = 1043\n",
      "    max. value = 240, for course(s): EDUC 450\n",
      "  Delay Factor --\n",
      "    entire curriculum = 200.0\n",
      "    max. value = 8.0, for course(s): MU 117, MU 118, EDUC 275, MU 217, EDUC 340, EDUC 350, EDUC 386, EDUC 475, EDUC 450, EDUC 477, EDUC 485A, EDUC 485B, EDUC 493A\n",
      "  Complexity --\n",
      "    entire curriculum = 296.0\n",
      "    max. value = 22.0, for course(s): MU 117\n",
      "  Longest Path(s) --\n",
      "    length = 8, number of paths = 3\n",
      "    path(s):\n",
      "    path 1 = EDUC 275 -> EDUC 475 -> EDUC 386 -> EDUC 350 -> EDUC 450 -> EDUC 493A -> EDUC 485B -> EDUC 485A\n",
      "    path 2 = EDUC 340 -> EDUC 475 -> EDUC 386 -> EDUC 350 -> EDUC 450 -> EDUC 493A -> EDUC 485B -> EDUC 485A\n",
      "    path 3 = MU 117 -> MU 118 -> MU 217 -> EDUC 477 -> EDUC 450 -> EDUC 493A -> EDUC 485B -> EDUC 485A\n",
      "\n"
     ]
    }
   ],
   "source": [
    "dp = schools_plans[\"colorado-state\"][\"music-education\"]\n",
    "metrics = basic_metrics(dp.curriculum)\n",
    "println(String(take!(metrics)))"
   ]
  },
  {
   "cell_type": "markdown",
   "metadata": {},
   "source": [
    "Here are the basic curricular metrics associated with the Mechanical Engineering program at Colorado State Univeristy:"
   ]
  },
  {
   "cell_type": "code",
   "execution_count": 6,
   "metadata": {},
   "outputs": [
    {
     "name": "stdout",
     "output_type": "stream",
     "text": [
      "\n",
      "Colorado State University \n",
      "Curriculum: Mechanical Engineering\n",
      "  credit hours = 129\n",
      "  number of courses = 39\n",
      "  Blocking Factor --\n",
      "    entire curriculum = 143\n",
      "    max. value = 26, for course(s): MATH 160\n",
      "  Centrality --\n",
      "    entire curriculum = 683\n",
      "    max. value = 81, for course(s): PH 141\n",
      "  Delay Factor --\n",
      "    entire curriculum = 189.0\n",
      "    max. value = 7.0, for course(s): MATH 160, MATH 161, MATH 261, MATH 340, MECH 337, MECH 342, MECH 338, MECH 486B, MECH 498B\n",
      "  Complexity --\n",
      "    entire curriculum = 332.0\n",
      "    max. value = 33.0, for course(s): MATH 160\n",
      "  Longest Path(s) --\n",
      "    length = 7, number of paths = 4\n",
      "    path(s):\n",
      "    path 1 = MATH 160 -> MATH 161 -> MATH 261 -> MATH 340 -> MECH 342 -> MECH 338 -> MECH 486B\n",
      "    path 2 = MATH 160 -> MATH 161 -> MATH 261 -> MECH 337 -> MECH 342 -> MECH 338 -> MECH 486B\n",
      "    path 3 = MATH 160 -> MATH 161 -> MATH 261 -> MATH 340 -> MECH 342 -> MECH 338 -> MECH 498B\n",
      "    path 4 = MATH 160 -> MATH 161 -> MATH 261 -> MECH 337 -> MECH 342 -> MECH 338 -> MECH 498B\n",
      "\n"
     ]
    }
   ],
   "source": [
    "dp = schools_plans[\"colorado-state\"][\"mechanical-engineering\"]\n",
    "metrics = basic_metrics(dp.curriculum)\n",
    "println(String(take!(metrics)))"
   ]
  },
  {
   "cell_type": "markdown",
   "metadata": {},
   "source": [
    "### Analysis of curricula across all cluster schools\n",
    "Next, a data structure is created that groups together the curricula of similar programs across all of the Western Cluster schools. The four disciplinary groupings in this case are all programs with names containing: \"animal,\" \"mechanical,\" \"music,\" and \"psychology.\"\n",
    "\n",
    "The `basic_statistics()` function is then called on each collection of curricula in order to compute the statistical features of the curricular complexities within each discipline.  Finally, a historgram of the curricular complexities within each discipline is provided using the `metric_histogram()` function."
   ]
  },
  {
   "cell_type": "code",
   "execution_count": 7,
   "metadata": {
    "scrolled": false
   },
   "outputs": [
    {
     "name": "stdout",
     "output_type": "stream",
     "text": [
      "****** Music Education Programs ******\n",
      "\n",
      " Metric -- complexity\n",
      "  Number of curricula = 14\n",
      "  Mean = 225.71428571428572\n",
      "  STD = 21.571800240074257\n",
      "  Max. = 301.0\n",
      "  Min. = 145.0\n"
     ]
    },
    {
     "data": {
      "image/svg+xml": [
       "<?xml version=\"1.0\" encoding=\"utf-8\"?>\n",
       "<svg xmlns=\"http://www.w3.org/2000/svg\" xmlns:xlink=\"http://www.w3.org/1999/xlink\" width=\"600\" height=\"400\" viewBox=\"0 0 2400 1600\">\n",
       "<defs>\n",
       "  <clipPath id=\"clip290\">\n",
       "    <rect x=\"0\" y=\"0\" width=\"2400\" height=\"1600\"/>\n",
       "  </clipPath>\n",
       "</defs>\n",
       "<path clip-path=\"url(#clip290)\" d=\"\n",
       "M0 1600 L2400 1600 L2400 0 L0 0  Z\n",
       "  \" fill=\"#ffffff\" fill-rule=\"evenodd\" fill-opacity=\"1\"/>\n",
       "<defs>\n",
       "  <clipPath id=\"clip291\">\n",
       "    <rect x=\"480\" y=\"0\" width=\"1681\" height=\"1600\"/>\n",
       "  </clipPath>\n",
       "</defs>\n",
       "<path clip-path=\"url(#clip290)\" d=\"\n",
       "M175.445 1423.18 L2352.76 1423.18 L2352.76 123.472 L175.445 123.472  Z\n",
       "  \" fill=\"#ffffff\" fill-rule=\"evenodd\" fill-opacity=\"1\"/>\n",
       "<defs>\n",
       "  <clipPath id=\"clip292\">\n",
       "    <rect x=\"175\" y=\"123\" width=\"2178\" height=\"1301\"/>\n",
       "  </clipPath>\n",
       "</defs>\n",
       "<polyline clip-path=\"url(#clip292)\" style=\"stroke:#000000; stroke-width:2; stroke-opacity:0.1; fill:none\" points=\"\n",
       "  175.445,1423.18 175.445,123.472 \n",
       "  \"/>\n",
       "<polyline clip-path=\"url(#clip292)\" style=\"stroke:#000000; stroke-width:2; stroke-opacity:0.1; fill:none\" points=\"\n",
       "  610.907,1423.18 610.907,123.472 \n",
       "  \"/>\n",
       "<polyline clip-path=\"url(#clip292)\" style=\"stroke:#000000; stroke-width:2; stroke-opacity:0.1; fill:none\" points=\"\n",
       "  1046.37,1423.18 1046.37,123.472 \n",
       "  \"/>\n",
       "<polyline clip-path=\"url(#clip292)\" style=\"stroke:#000000; stroke-width:2; stroke-opacity:0.1; fill:none\" points=\"\n",
       "  1481.83,1423.18 1481.83,123.472 \n",
       "  \"/>\n",
       "<polyline clip-path=\"url(#clip292)\" style=\"stroke:#000000; stroke-width:2; stroke-opacity:0.1; fill:none\" points=\"\n",
       "  1917.29,1423.18 1917.29,123.472 \n",
       "  \"/>\n",
       "<polyline clip-path=\"url(#clip292)\" style=\"stroke:#000000; stroke-width:2; stroke-opacity:0.1; fill:none\" points=\"\n",
       "  2352.76,1423.18 2352.76,123.472 \n",
       "  \"/>\n",
       "<polyline clip-path=\"url(#clip292)\" style=\"stroke:#000000; stroke-width:2; stroke-opacity:0.1; fill:none\" points=\"\n",
       "  175.445,1423.18 2352.76,1423.18 \n",
       "  \"/>\n",
       "<polyline clip-path=\"url(#clip292)\" style=\"stroke:#000000; stroke-width:2; stroke-opacity:0.1; fill:none\" points=\"\n",
       "  175.445,1237.51 2352.76,1237.51 \n",
       "  \"/>\n",
       "<polyline clip-path=\"url(#clip292)\" style=\"stroke:#000000; stroke-width:2; stroke-opacity:0.1; fill:none\" points=\"\n",
       "  175.445,1051.83 2352.76,1051.83 \n",
       "  \"/>\n",
       "<polyline clip-path=\"url(#clip292)\" style=\"stroke:#000000; stroke-width:2; stroke-opacity:0.1; fill:none\" points=\"\n",
       "  175.445,866.162 2352.76,866.162 \n",
       "  \"/>\n",
       "<polyline clip-path=\"url(#clip292)\" style=\"stroke:#000000; stroke-width:2; stroke-opacity:0.1; fill:none\" points=\"\n",
       "  175.445,680.49 2352.76,680.49 \n",
       "  \"/>\n",
       "<polyline clip-path=\"url(#clip292)\" style=\"stroke:#000000; stroke-width:2; stroke-opacity:0.1; fill:none\" points=\"\n",
       "  175.445,494.817 2352.76,494.817 \n",
       "  \"/>\n",
       "<polyline clip-path=\"url(#clip292)\" style=\"stroke:#000000; stroke-width:2; stroke-opacity:0.1; fill:none\" points=\"\n",
       "  175.445,309.145 2352.76,309.145 \n",
       "  \"/>\n",
       "<polyline clip-path=\"url(#clip292)\" style=\"stroke:#000000; stroke-width:2; stroke-opacity:0.1; fill:none\" points=\"\n",
       "  175.445,123.472 2352.76,123.472 \n",
       "  \"/>\n",
       "<polyline clip-path=\"url(#clip290)\" style=\"stroke:#000000; stroke-width:4; stroke-opacity:1; fill:none\" points=\"\n",
       "  175.445,1423.18 2352.76,1423.18 \n",
       "  \"/>\n",
       "<polyline clip-path=\"url(#clip290)\" style=\"stroke:#000000; stroke-width:4; stroke-opacity:1; fill:none\" points=\"\n",
       "  175.445,1423.18 175.445,123.472 \n",
       "  \"/>\n",
       "<polyline clip-path=\"url(#clip290)\" style=\"stroke:#000000; stroke-width:4; stroke-opacity:1; fill:none\" points=\"\n",
       "  175.445,1423.18 175.445,1407.58 \n",
       "  \"/>\n",
       "<polyline clip-path=\"url(#clip290)\" style=\"stroke:#000000; stroke-width:4; stroke-opacity:1; fill:none\" points=\"\n",
       "  610.907,1423.18 610.907,1407.58 \n",
       "  \"/>\n",
       "<polyline clip-path=\"url(#clip290)\" style=\"stroke:#000000; stroke-width:4; stroke-opacity:1; fill:none\" points=\"\n",
       "  1046.37,1423.18 1046.37,1407.58 \n",
       "  \"/>\n",
       "<polyline clip-path=\"url(#clip290)\" style=\"stroke:#000000; stroke-width:4; stroke-opacity:1; fill:none\" points=\"\n",
       "  1481.83,1423.18 1481.83,1407.58 \n",
       "  \"/>\n",
       "<polyline clip-path=\"url(#clip290)\" style=\"stroke:#000000; stroke-width:4; stroke-opacity:1; fill:none\" points=\"\n",
       "  1917.29,1423.18 1917.29,1407.58 \n",
       "  \"/>\n",
       "<polyline clip-path=\"url(#clip290)\" style=\"stroke:#000000; stroke-width:4; stroke-opacity:1; fill:none\" points=\"\n",
       "  2352.76,1423.18 2352.76,1407.58 \n",
       "  \"/>\n",
       "<polyline clip-path=\"url(#clip290)\" style=\"stroke:#000000; stroke-width:4; stroke-opacity:1; fill:none\" points=\"\n",
       "  175.445,1423.18 201.573,1423.18 \n",
       "  \"/>\n",
       "<polyline clip-path=\"url(#clip290)\" style=\"stroke:#000000; stroke-width:4; stroke-opacity:1; fill:none\" points=\"\n",
       "  175.445,1237.51 201.573,1237.51 \n",
       "  \"/>\n",
       "<polyline clip-path=\"url(#clip290)\" style=\"stroke:#000000; stroke-width:4; stroke-opacity:1; fill:none\" points=\"\n",
       "  175.445,1051.83 201.573,1051.83 \n",
       "  \"/>\n",
       "<polyline clip-path=\"url(#clip290)\" style=\"stroke:#000000; stroke-width:4; stroke-opacity:1; fill:none\" points=\"\n",
       "  175.445,866.162 201.573,866.162 \n",
       "  \"/>\n",
       "<polyline clip-path=\"url(#clip290)\" style=\"stroke:#000000; stroke-width:4; stroke-opacity:1; fill:none\" points=\"\n",
       "  175.445,680.49 201.573,680.49 \n",
       "  \"/>\n",
       "<polyline clip-path=\"url(#clip290)\" style=\"stroke:#000000; stroke-width:4; stroke-opacity:1; fill:none\" points=\"\n",
       "  175.445,494.817 201.573,494.817 \n",
       "  \"/>\n",
       "<polyline clip-path=\"url(#clip290)\" style=\"stroke:#000000; stroke-width:4; stroke-opacity:1; fill:none\" points=\"\n",
       "  175.445,309.145 201.573,309.145 \n",
       "  \"/>\n",
       "<polyline clip-path=\"url(#clip290)\" style=\"stroke:#000000; stroke-width:4; stroke-opacity:1; fill:none\" points=\"\n",
       "  175.445,123.472 201.573,123.472 \n",
       "  \"/>\n",
       "<path clip-path=\"url(#clip290)\" d=\"M 0 0 M175.445 1445.17 Q171.834 1445.17 170.005 1448.74 Q168.2 1452.28 168.2 1459.41 Q168.2 1466.51 170.005 1470.08 Q171.834 1473.62 175.445 1473.62 Q179.079 1473.62 180.885 1470.08 Q182.714 1466.51 182.714 1459.41 Q182.714 1452.28 180.885 1448.74 Q179.079 1445.17 175.445 1445.17 M175.445 1441.47 Q181.255 1441.47 184.311 1446.07 Q187.39 1450.66 187.39 1459.41 Q187.39 1468.13 184.311 1472.74 Q181.255 1477.32 175.445 1477.32 Q169.635 1477.32 166.556 1472.74 Q163.501 1468.13 163.501 1459.41 Q163.501 1450.66 166.556 1446.07 Q169.635 1441.47 175.445 1441.47 Z\" fill=\"#000000\" fill-rule=\"evenodd\" fill-opacity=\"1\" /><path clip-path=\"url(#clip290)\" d=\"M 0 0 M574.276 1472.72 L581.914 1472.72 L581.914 1446.35 L573.604 1448.02 L573.604 1443.76 L581.868 1442.09 L586.544 1442.09 L586.544 1472.72 L594.183 1472.72 L594.183 1476.65 L574.276 1476.65 L574.276 1472.72 Z\" fill=\"#000000\" fill-rule=\"evenodd\" fill-opacity=\"1\" /><path clip-path=\"url(#clip290)\" d=\"M 0 0 M609.252 1445.17 Q605.641 1445.17 603.812 1448.74 Q602.007 1452.28 602.007 1459.41 Q602.007 1466.51 603.812 1470.08 Q605.641 1473.62 609.252 1473.62 Q612.887 1473.62 614.692 1470.08 Q616.521 1466.51 616.521 1459.41 Q616.521 1452.28 614.692 1448.74 Q612.887 1445.17 609.252 1445.17 M609.252 1441.47 Q615.062 1441.47 618.118 1446.07 Q621.197 1450.66 621.197 1459.41 Q621.197 1468.13 618.118 1472.74 Q615.062 1477.32 609.252 1477.32 Q603.442 1477.32 600.363 1472.74 Q597.308 1468.13 597.308 1459.41 Q597.308 1450.66 600.363 1446.07 Q603.442 1441.47 609.252 1441.47 Z\" fill=\"#000000\" fill-rule=\"evenodd\" fill-opacity=\"1\" /><path clip-path=\"url(#clip290)\" d=\"M 0 0 M636.266 1445.17 Q632.655 1445.17 630.826 1448.74 Q629.021 1452.28 629.021 1459.41 Q629.021 1466.51 630.826 1470.08 Q632.655 1473.62 636.266 1473.62 Q639.9 1473.62 641.706 1470.08 Q643.534 1466.51 643.534 1459.41 Q643.534 1452.28 641.706 1448.74 Q639.9 1445.17 636.266 1445.17 M636.266 1441.47 Q642.076 1441.47 645.132 1446.07 Q648.21 1450.66 648.21 1459.41 Q648.21 1468.13 645.132 1472.74 Q642.076 1477.32 636.266 1477.32 Q630.456 1477.32 627.377 1472.74 Q624.322 1468.13 624.322 1459.41 Q624.322 1450.66 627.377 1446.07 Q630.456 1441.47 636.266 1441.47 Z\" fill=\"#000000\" fill-rule=\"evenodd\" fill-opacity=\"1\" /><path clip-path=\"url(#clip290)\" d=\"M 0 0 M1014.01 1472.72 L1030.33 1472.72 L1030.33 1476.65 L1008.38 1476.65 L1008.38 1472.72 Q1011.05 1469.96 1015.63 1465.33 Q1020.24 1460.68 1021.42 1459.34 Q1023.66 1456.81 1024.54 1455.08 Q1025.44 1453.32 1025.44 1451.63 Q1025.44 1448.87 1023.5 1447.14 Q1021.58 1445.4 1018.48 1445.4 Q1016.28 1445.4 1013.82 1446.17 Q1011.39 1446.93 1008.62 1448.48 L1008.62 1443.76 Q1011.44 1442.62 1013.89 1442.05 Q1016.35 1441.47 1018.38 1441.47 Q1023.75 1441.47 1026.95 1444.15 Q1030.14 1446.84 1030.14 1451.33 Q1030.14 1453.46 1029.33 1455.38 Q1028.55 1457.28 1026.44 1459.87 Q1025.86 1460.54 1022.76 1463.76 Q1019.66 1466.95 1014.01 1472.72 Z\" fill=\"#000000\" fill-rule=\"evenodd\" fill-opacity=\"1\" /><path clip-path=\"url(#clip290)\" d=\"M 0 0 M1045.4 1445.17 Q1041.79 1445.17 1039.96 1448.74 Q1038.15 1452.28 1038.15 1459.41 Q1038.15 1466.51 1039.96 1470.08 Q1041.79 1473.62 1045.4 1473.62 Q1049.03 1473.62 1050.84 1470.08 Q1052.67 1466.51 1052.67 1459.41 Q1052.67 1452.28 1050.84 1448.74 Q1049.03 1445.17 1045.4 1445.17 M1045.4 1441.47 Q1051.21 1441.47 1054.26 1446.07 Q1057.34 1450.66 1057.34 1459.41 Q1057.34 1468.13 1054.26 1472.74 Q1051.21 1477.32 1045.4 1477.32 Q1039.59 1477.32 1036.51 1472.74 Q1033.45 1468.13 1033.45 1459.41 Q1033.45 1450.66 1036.51 1446.07 Q1039.59 1441.47 1045.4 1441.47 Z\" fill=\"#000000\" fill-rule=\"evenodd\" fill-opacity=\"1\" /><path clip-path=\"url(#clip290)\" d=\"M 0 0 M1072.41 1445.17 Q1068.8 1445.17 1066.97 1448.74 Q1065.17 1452.28 1065.17 1459.41 Q1065.17 1466.51 1066.97 1470.08 Q1068.8 1473.62 1072.41 1473.62 Q1076.05 1473.62 1077.85 1470.08 Q1079.68 1466.51 1079.68 1459.41 Q1079.68 1452.28 1077.85 1448.74 Q1076.05 1445.17 1072.41 1445.17 M1072.41 1441.47 Q1078.22 1441.47 1081.28 1446.07 Q1084.36 1450.66 1084.36 1459.41 Q1084.36 1468.13 1081.28 1472.74 Q1078.22 1477.32 1072.41 1477.32 Q1066.6 1477.32 1063.52 1472.74 Q1060.47 1468.13 1060.47 1459.41 Q1060.47 1450.66 1063.52 1446.07 Q1066.6 1441.47 1072.41 1441.47 Z\" fill=\"#000000\" fill-rule=\"evenodd\" fill-opacity=\"1\" /><path clip-path=\"url(#clip290)\" d=\"M 0 0 M1459.07 1458.02 Q1462.42 1458.74 1464.3 1461 Q1466.2 1463.27 1466.2 1466.61 Q1466.2 1471.72 1462.68 1474.52 Q1459.16 1477.32 1452.68 1477.32 Q1450.5 1477.32 1448.19 1476.88 Q1445.89 1476.47 1443.44 1475.61 L1443.44 1471.1 Q1445.39 1472.23 1447.7 1472.81 Q1450.01 1473.39 1452.54 1473.39 Q1456.94 1473.39 1459.23 1471.65 Q1461.54 1469.92 1461.54 1466.61 Q1461.54 1463.55 1459.39 1461.84 Q1457.26 1460.1 1453.44 1460.1 L1449.41 1460.1 L1449.41 1456.26 L1453.63 1456.26 Q1457.07 1456.26 1458.9 1454.89 Q1460.73 1453.5 1460.73 1450.91 Q1460.73 1448.25 1458.83 1446.84 Q1456.96 1445.4 1453.44 1445.4 Q1451.52 1445.4 1449.32 1445.82 Q1447.12 1446.24 1444.48 1447.11 L1444.48 1442.95 Q1447.14 1442.21 1449.46 1441.84 Q1451.8 1441.47 1453.86 1441.47 Q1459.18 1441.47 1462.28 1443.9 Q1465.38 1446.3 1465.38 1450.43 Q1465.38 1453.3 1463.74 1455.29 Q1462.1 1457.25 1459.07 1458.02 Z\" fill=\"#000000\" fill-rule=\"evenodd\" fill-opacity=\"1\" /><path clip-path=\"url(#clip290)\" d=\"M 0 0 M1481.26 1445.17 Q1477.65 1445.17 1475.82 1448.74 Q1474.02 1452.28 1474.02 1459.41 Q1474.02 1466.51 1475.82 1470.08 Q1477.65 1473.62 1481.26 1473.62 Q1484.9 1473.62 1486.7 1470.08 Q1488.53 1466.51 1488.53 1459.41 Q1488.53 1452.28 1486.7 1448.74 Q1484.9 1445.17 1481.26 1445.17 M1481.26 1441.47 Q1487.07 1441.47 1490.13 1446.07 Q1493.21 1450.66 1493.21 1459.41 Q1493.21 1468.13 1490.13 1472.74 Q1487.07 1477.32 1481.26 1477.32 Q1475.45 1477.32 1472.38 1472.74 Q1469.32 1468.13 1469.32 1459.41 Q1469.32 1450.66 1472.38 1446.07 Q1475.45 1441.47 1481.26 1441.47 Z\" fill=\"#000000\" fill-rule=\"evenodd\" fill-opacity=\"1\" /><path clip-path=\"url(#clip290)\" d=\"M 0 0 M1508.28 1445.17 Q1504.67 1445.17 1502.84 1448.74 Q1501.03 1452.28 1501.03 1459.41 Q1501.03 1466.51 1502.84 1470.08 Q1504.67 1473.62 1508.28 1473.62 Q1511.91 1473.62 1513.72 1470.08 Q1515.55 1466.51 1515.55 1459.41 Q1515.55 1452.28 1513.72 1448.74 Q1511.91 1445.17 1508.28 1445.17 M1508.28 1441.47 Q1514.09 1441.47 1517.14 1446.07 Q1520.22 1450.66 1520.22 1459.41 Q1520.22 1468.13 1517.14 1472.74 Q1514.09 1477.32 1508.28 1477.32 Q1502.47 1477.32 1499.39 1472.74 Q1496.33 1468.13 1496.33 1459.41 Q1496.33 1450.66 1499.39 1446.07 Q1502.47 1441.47 1508.28 1441.47 Z\" fill=\"#000000\" fill-rule=\"evenodd\" fill-opacity=\"1\" /><path clip-path=\"url(#clip290)\" d=\"M 0 0 M1893.29 1446.17 L1881.48 1464.61 L1893.29 1464.61 L1893.29 1446.17 M1892.06 1442.09 L1897.94 1442.09 L1897.94 1464.61 L1902.87 1464.61 L1902.87 1468.5 L1897.94 1468.5 L1897.94 1476.65 L1893.29 1476.65 L1893.29 1468.5 L1877.69 1468.5 L1877.69 1463.99 L1892.06 1442.09 Z\" fill=\"#000000\" fill-rule=\"evenodd\" fill-opacity=\"1\" /><path clip-path=\"url(#clip290)\" d=\"M 0 0 M1917.94 1445.17 Q1914.33 1445.17 1912.5 1448.74 Q1910.7 1452.28 1910.7 1459.41 Q1910.7 1466.51 1912.5 1470.08 Q1914.33 1473.62 1917.94 1473.62 Q1921.58 1473.62 1923.38 1470.08 Q1925.21 1466.51 1925.21 1459.41 Q1925.21 1452.28 1923.38 1448.74 Q1921.58 1445.17 1917.94 1445.17 M1917.94 1441.47 Q1923.75 1441.47 1926.81 1446.07 Q1929.89 1450.66 1929.89 1459.41 Q1929.89 1468.13 1926.81 1472.74 Q1923.75 1477.32 1917.94 1477.32 Q1912.13 1477.32 1909.05 1472.74 Q1906 1468.13 1906 1459.41 Q1906 1450.66 1909.05 1446.07 Q1912.13 1441.47 1917.94 1441.47 Z\" fill=\"#000000\" fill-rule=\"evenodd\" fill-opacity=\"1\" /><path clip-path=\"url(#clip290)\" d=\"M 0 0 M1944.96 1445.17 Q1941.34 1445.17 1939.52 1448.74 Q1937.71 1452.28 1937.71 1459.41 Q1937.71 1466.51 1939.52 1470.08 Q1941.34 1473.62 1944.96 1473.62 Q1948.59 1473.62 1950.4 1470.08 Q1952.22 1466.51 1952.22 1459.41 Q1952.22 1452.28 1950.4 1448.74 Q1948.59 1445.17 1944.96 1445.17 M1944.96 1441.47 Q1950.77 1441.47 1953.82 1446.07 Q1956.9 1450.66 1956.9 1459.41 Q1956.9 1468.13 1953.82 1472.74 Q1950.77 1477.32 1944.96 1477.32 Q1939.15 1477.32 1936.07 1472.74 Q1933.01 1468.13 1933.01 1459.41 Q1933.01 1450.66 1936.07 1446.07 Q1939.15 1441.47 1944.96 1441.47 Z\" fill=\"#000000\" fill-rule=\"evenodd\" fill-opacity=\"1\" /><path clip-path=\"url(#clip290)\" d=\"M 0 0 M2316.02 1442.09 L2334.38 1442.09 L2334.38 1446.03 L2320.3 1446.03 L2320.3 1454.5 Q2321.32 1454.15 2322.34 1453.99 Q2323.36 1453.8 2324.38 1453.8 Q2330.16 1453.8 2333.54 1456.98 Q2336.92 1460.15 2336.92 1465.56 Q2336.92 1471.14 2333.45 1474.24 Q2329.98 1477.32 2323.66 1477.32 Q2321.48 1477.32 2319.21 1476.95 Q2316.97 1476.58 2314.56 1475.84 L2314.56 1471.14 Q2316.64 1472.28 2318.87 1472.83 Q2321.09 1473.39 2323.57 1473.39 Q2327.57 1473.39 2329.91 1471.28 Q2332.25 1469.18 2332.25 1465.56 Q2332.25 1461.95 2329.91 1459.85 Q2327.57 1457.74 2323.57 1457.74 Q2321.69 1457.74 2319.82 1458.16 Q2317.96 1458.57 2316.02 1459.45 L2316.02 1442.09 Z\" fill=\"#000000\" fill-rule=\"evenodd\" fill-opacity=\"1\" /><path clip-path=\"url(#clip290)\" d=\"M 0 0 M2351.99 1445.17 Q2348.38 1445.17 2346.55 1448.74 Q2344.75 1452.28 2344.75 1459.41 Q2344.75 1466.51 2346.55 1470.08 Q2348.38 1473.62 2351.99 1473.62 Q2355.63 1473.62 2357.43 1470.08 Q2359.26 1466.51 2359.26 1459.41 Q2359.26 1452.28 2357.43 1448.74 Q2355.63 1445.17 2351.99 1445.17 M2351.99 1441.47 Q2357.8 1441.47 2360.86 1446.07 Q2363.94 1450.66 2363.94 1459.41 Q2363.94 1468.13 2360.86 1472.74 Q2357.8 1477.32 2351.99 1477.32 Q2346.18 1477.32 2343.1 1472.74 Q2340.05 1468.13 2340.05 1459.41 Q2340.05 1450.66 2343.1 1446.07 Q2346.18 1441.47 2351.99 1441.47 Z\" fill=\"#000000\" fill-rule=\"evenodd\" fill-opacity=\"1\" /><path clip-path=\"url(#clip290)\" d=\"M 0 0 M2379.01 1445.17 Q2375.39 1445.17 2373.57 1448.74 Q2371.76 1452.28 2371.76 1459.41 Q2371.76 1466.51 2373.57 1470.08 Q2375.39 1473.62 2379.01 1473.62 Q2382.64 1473.62 2384.45 1470.08 Q2386.27 1466.51 2386.27 1459.41 Q2386.27 1452.28 2384.45 1448.74 Q2382.64 1445.17 2379.01 1445.17 M2379.01 1441.47 Q2384.82 1441.47 2387.87 1446.07 Q2390.95 1450.66 2390.95 1459.41 Q2390.95 1468.13 2387.87 1472.74 Q2384.82 1477.32 2379.01 1477.32 Q2373.2 1477.32 2370.12 1472.74 Q2367.06 1468.13 2367.06 1459.41 Q2367.06 1450.66 2370.12 1446.07 Q2373.2 1441.47 2379.01 1441.47 Z\" fill=\"#000000\" fill-rule=\"evenodd\" fill-opacity=\"1\" /><path clip-path=\"url(#clip290)\" d=\"M 0 0 M139.501 1408.98 Q135.89 1408.98 134.061 1412.54 Q132.255 1416.08 132.255 1423.21 Q132.255 1430.32 134.061 1433.89 Q135.89 1437.43 139.501 1437.43 Q143.135 1437.43 144.941 1433.89 Q146.769 1430.32 146.769 1423.21 Q146.769 1416.08 144.941 1412.54 Q143.135 1408.98 139.501 1408.98 M139.501 1405.27 Q145.311 1405.27 148.367 1409.88 Q151.445 1414.46 151.445 1423.21 Q151.445 1431.94 148.367 1436.55 Q145.311 1441.13 139.501 1441.13 Q133.691 1441.13 130.612 1436.55 Q127.556 1431.94 127.556 1423.21 Q127.556 1414.46 130.612 1409.88 Q133.691 1405.27 139.501 1405.27 Z\" fill=\"#000000\" fill-rule=\"evenodd\" fill-opacity=\"1\" /><path clip-path=\"url(#clip290)\" d=\"M 0 0 M131.538 1250.85 L139.177 1250.85 L139.177 1224.49 L130.867 1226.15 L130.867 1221.89 L139.13 1220.23 L143.806 1220.23 L143.806 1250.85 L151.445 1250.85 L151.445 1254.79 L131.538 1254.79 L131.538 1250.85 Z\" fill=\"#000000\" fill-rule=\"evenodd\" fill-opacity=\"1\" /><path clip-path=\"url(#clip290)\" d=\"M 0 0 M135.126 1065.18 L151.445 1065.18 L151.445 1069.11 L129.501 1069.11 L129.501 1065.18 Q132.163 1062.43 136.746 1057.8 Q141.353 1053.14 142.533 1051.8 Q144.779 1049.28 145.658 1047.54 Q146.561 1045.78 146.561 1044.09 Q146.561 1041.34 144.617 1039.6 Q142.695 1037.86 139.593 1037.86 Q137.394 1037.86 134.941 1038.63 Q132.51 1039.39 129.732 1040.94 L129.732 1036.22 Q132.556 1035.09 135.01 1034.51 Q137.464 1033.93 139.501 1033.93 Q144.871 1033.93 148.066 1036.61 Q151.26 1039.3 151.26 1043.79 Q151.26 1045.92 150.45 1047.84 Q149.663 1049.74 147.556 1052.33 Q146.978 1053 143.876 1056.22 Q140.774 1059.42 135.126 1065.18 Z\" fill=\"#000000\" fill-rule=\"evenodd\" fill-opacity=\"1\" /><path clip-path=\"url(#clip290)\" d=\"M 0 0 M144.316 864.808 Q147.672 865.526 149.547 867.794 Q151.445 870.063 151.445 873.396 Q151.445 878.512 147.927 881.313 Q144.408 884.114 137.927 884.114 Q135.751 884.114 133.436 883.674 Q131.144 883.257 128.691 882.401 L128.691 877.887 Q130.635 879.021 132.95 879.6 Q135.265 880.178 137.788 880.178 Q142.186 880.178 144.478 878.442 Q146.792 876.706 146.792 873.396 Q146.792 870.34 144.64 868.628 Q142.51 866.891 138.691 866.891 L134.663 866.891 L134.663 863.049 L138.876 863.049 Q142.325 863.049 144.154 861.683 Q145.982 860.294 145.982 857.702 Q145.982 855.04 144.084 853.628 Q142.209 852.192 138.691 852.192 Q136.769 852.192 134.57 852.609 Q132.371 853.026 129.732 853.905 L129.732 849.739 Q132.394 848.998 134.709 848.628 Q137.047 848.257 139.107 848.257 Q144.431 848.257 147.533 850.688 Q150.635 853.095 150.635 857.216 Q150.635 860.086 148.992 862.077 Q147.348 864.044 144.316 864.808 Z\" fill=\"#000000\" fill-rule=\"evenodd\" fill-opacity=\"1\" /><path clip-path=\"url(#clip290)\" d=\"M 0 0 M141.862 667.284 L130.056 685.733 L141.862 685.733 L141.862 667.284 M140.635 663.21 L146.515 663.21 L146.515 685.733 L151.445 685.733 L151.445 689.622 L146.515 689.622 L146.515 697.77 L141.862 697.77 L141.862 689.622 L126.26 689.622 L126.26 685.108 L140.635 663.21 Z\" fill=\"#000000\" fill-rule=\"evenodd\" fill-opacity=\"1\" /><path clip-path=\"url(#clip290)\" d=\"M 0 0 M130.543 477.537 L148.899 477.537 L148.899 481.472 L134.825 481.472 L134.825 489.945 Q135.843 489.597 136.862 489.435 Q137.88 489.25 138.899 489.25 Q144.686 489.25 148.066 492.421 Q151.445 495.593 151.445 501.009 Q151.445 506.588 147.973 509.69 Q144.501 512.768 138.181 512.768 Q136.005 512.768 133.737 512.398 Q131.492 512.028 129.084 511.287 L129.084 506.588 Q131.168 507.722 133.39 508.278 Q135.612 508.833 138.089 508.833 Q142.093 508.833 144.431 506.727 Q146.769 504.62 146.769 501.009 Q146.769 497.398 144.431 495.292 Q142.093 493.185 138.089 493.185 Q136.214 493.185 134.339 493.602 Q132.487 494.019 130.543 494.898 L130.543 477.537 Z\" fill=\"#000000\" fill-rule=\"evenodd\" fill-opacity=\"1\" /><path clip-path=\"url(#clip290)\" d=\"M 0 0 M139.917 307.281 Q136.769 307.281 134.918 309.434 Q133.089 311.587 133.089 315.337 Q133.089 319.064 134.918 321.239 Q136.769 323.392 139.917 323.392 Q143.066 323.392 144.894 321.239 Q146.746 319.064 146.746 315.337 Q146.746 311.587 144.894 309.434 Q143.066 307.281 139.917 307.281 M149.2 292.629 L149.2 296.888 Q147.441 296.054 145.635 295.615 Q143.853 295.175 142.093 295.175 Q137.464 295.175 135.01 298.3 Q132.58 301.425 132.232 307.744 Q133.598 305.73 135.658 304.666 Q137.718 303.578 140.195 303.578 Q145.404 303.578 148.413 306.749 Q151.445 309.897 151.445 315.337 Q151.445 320.661 148.297 323.878 Q145.149 327.096 139.917 327.096 Q133.922 327.096 130.751 322.513 Q127.58 317.906 127.58 309.179 Q127.58 300.985 131.468 296.124 Q135.357 291.24 141.908 291.24 Q143.667 291.24 145.45 291.587 Q147.255 291.934 149.2 292.629 Z\" fill=\"#000000\" fill-rule=\"evenodd\" fill-opacity=\"1\" /><path clip-path=\"url(#clip290)\" d=\"M 0 0 M129.223 106.192 L151.445 106.192 L151.445 108.183 L138.899 140.752 L134.015 140.752 L145.82 110.127 L129.223 110.127 L129.223 106.192 Z\" fill=\"#000000\" fill-rule=\"evenodd\" fill-opacity=\"1\" /><path clip-path=\"url(#clip290)\" d=\"M 0 0 M780.909 12.096 L793.102 12.096 L808.536 53.2532 L824.051 12.096 L836.244 12.096 L836.244 72.576 L828.264 72.576 L828.264 19.4686 L812.668 60.9499 L804.444 60.9499 L788.848 19.4686 L788.848 72.576 L780.909 72.576 L780.909 12.096 Z\" fill=\"#000000\" fill-rule=\"evenodd\" fill-opacity=\"1\" /><path clip-path=\"url(#clip290)\" d=\"M 0 0 M843.293 54.671 L843.293 27.2059 L850.746 27.2059 L850.746 54.3874 Q850.746 60.8284 853.258 64.0691 Q855.769 67.2693 860.793 67.2693 Q866.828 67.2693 870.312 63.421 Q873.836 59.5726 873.836 52.9291 L873.836 27.2059 L881.29 27.2059 L881.29 72.576 L873.836 72.576 L873.836 65.6084 Q871.122 69.7404 867.517 71.7658 Q863.952 73.7508 859.213 73.7508 Q851.394 73.7508 847.344 68.8897 Q843.293 64.0286 843.293 54.671 M862.048 26.1121 L862.048 26.1121 Z\" fill=\"#000000\" fill-rule=\"evenodd\" fill-opacity=\"1\" /><path clip-path=\"url(#clip290)\" d=\"M 0 0 M918.032 28.5427 L918.032 35.5912 Q914.872 33.9709 911.469 33.1607 Q908.067 32.3505 904.421 32.3505 Q898.871 32.3505 896.076 34.0519 Q893.321 35.7533 893.321 39.156 Q893.321 41.7486 895.306 43.2475 Q897.291 44.7058 903.287 46.0426 L905.839 46.6097 Q913.778 48.3111 917.1 51.4303 Q920.462 54.509 920.462 60.0587 Q920.462 66.3781 915.439 70.0644 Q910.457 73.7508 901.707 73.7508 Q898.061 73.7508 894.091 73.0216 Q890.162 72.3329 885.787 70.9151 L885.787 63.2184 Q889.919 65.3654 893.929 66.4591 Q897.939 67.5124 901.869 67.5124 Q907.135 67.5124 909.971 65.73 Q912.806 63.9071 912.806 60.6258 Q912.806 57.5877 910.74 55.9673 Q908.715 54.3469 901.788 52.8481 L899.195 52.2405 Q892.268 50.7821 889.189 47.7845 Q886.111 44.7463 886.111 39.4801 Q886.111 33.0797 890.648 29.5959 Q895.185 26.1121 903.53 26.1121 Q907.661 26.1121 911.307 26.7198 Q914.953 27.3274 918.032 28.5427 Z\" fill=\"#000000\" fill-rule=\"evenodd\" fill-opacity=\"1\" /><path clip-path=\"url(#clip290)\" d=\"M 0 0 M928.281 27.2059 L935.734 27.2059 L935.734 72.576 L928.281 72.576 L928.281 27.2059 M928.281 9.54393 L935.734 9.54393 L935.734 18.9825 L928.281 18.9825 L928.281 9.54393 Z\" fill=\"#000000\" fill-rule=\"evenodd\" fill-opacity=\"1\" /><path clip-path=\"url(#clip290)\" d=\"M 0 0 M976.203 28.9478 L976.203 35.9153 Q973.043 34.1734 969.843 33.3227 Q966.683 32.4315 963.442 32.4315 Q956.191 32.4315 952.181 37.0496 Q948.171 41.6271 948.171 49.9314 Q948.171 58.2358 952.181 62.8538 Q956.191 67.4314 963.442 67.4314 Q966.683 67.4314 969.843 66.5807 Q973.043 65.6895 976.203 63.9476 L976.203 70.8341 Q973.084 72.2924 969.721 73.0216 Q966.4 73.7508 962.632 73.7508 Q952.383 73.7508 946.348 67.3098 Q940.312 60.8689 940.312 49.9314 Q940.312 38.832 946.388 32.472 Q952.505 26.1121 963.118 26.1121 Q966.562 26.1121 969.843 26.8413 Q973.124 27.5299 976.203 28.9478 Z\" fill=\"#000000\" fill-rule=\"evenodd\" fill-opacity=\"1\" /><path clip-path=\"url(#clip290)\" d=\"M 0 0 M1010.72 12.096 L1048.96 12.096 L1048.96 18.9825 L1018.9 18.9825 L1018.9 36.8875 L1047.7 36.8875 L1047.7 43.7741 L1018.9 43.7741 L1018.9 65.6895 L1049.69 65.6895 L1049.69 72.576 L1010.72 72.576 L1010.72 12.096 Z\" fill=\"#000000\" fill-rule=\"evenodd\" fill-opacity=\"1\" /><path clip-path=\"url(#clip290)\" d=\"M 0 0 M1087.36 34.0924 L1087.36 9.54393 L1094.81 9.54393 L1094.81 72.576 L1087.36 72.576 L1087.36 65.7705 Q1085.01 69.8214 1081.4 71.8063 Q1077.84 73.7508 1072.82 73.7508 Q1064.59 73.7508 1059.41 67.1883 Q1054.26 60.6258 1054.26 49.9314 Q1054.26 39.2371 1059.41 32.6746 Q1064.59 26.1121 1072.82 26.1121 Q1077.84 26.1121 1081.4 28.0971 Q1085.01 30.0415 1087.36 34.0924 M1061.96 49.9314 Q1061.96 58.1548 1065.32 62.8538 Q1068.73 67.5124 1074.64 67.5124 Q1080.55 67.5124 1083.96 62.8538 Q1087.36 58.1548 1087.36 49.9314 Q1087.36 41.7081 1083.96 37.0496 Q1080.55 32.3505 1074.64 32.3505 Q1068.73 32.3505 1065.32 37.0496 Q1061.96 41.7081 1061.96 49.9314 Z\" fill=\"#000000\" fill-rule=\"evenodd\" fill-opacity=\"1\" /><path clip-path=\"url(#clip290)\" d=\"M 0 0 M1101.86 54.671 L1101.86 27.2059 L1109.32 27.2059 L1109.32 54.3874 Q1109.32 60.8284 1111.83 64.0691 Q1114.34 67.2693 1119.36 67.2693 Q1125.4 67.2693 1128.88 63.421 Q1132.41 59.5726 1132.41 52.9291 L1132.41 27.2059 L1139.86 27.2059 L1139.86 72.576 L1132.41 72.576 L1132.41 65.6084 Q1129.69 69.7404 1126.09 71.7658 Q1122.52 73.7508 1117.78 73.7508 Q1109.96 73.7508 1105.91 68.8897 Q1101.86 64.0286 1101.86 54.671 M1120.62 26.1121 L1120.62 26.1121 Z\" fill=\"#000000\" fill-rule=\"evenodd\" fill-opacity=\"1\" /><path clip-path=\"url(#clip290)\" d=\"M 0 0 M1180.33 28.9478 L1180.33 35.9153 Q1177.17 34.1734 1173.97 33.3227 Q1170.81 32.4315 1167.57 32.4315 Q1160.32 32.4315 1156.31 37.0496 Q1152.3 41.6271 1152.3 49.9314 Q1152.3 58.2358 1156.31 62.8538 Q1160.32 67.4314 1167.57 67.4314 Q1170.81 67.4314 1173.97 66.5807 Q1177.17 65.6895 1180.33 63.9476 L1180.33 70.8341 Q1177.21 72.2924 1173.85 73.0216 Q1170.52 73.7508 1166.76 73.7508 Q1156.51 73.7508 1150.47 67.3098 Q1144.44 60.8689 1144.44 49.9314 Q1144.44 38.832 1150.51 32.472 Q1156.63 26.1121 1167.24 26.1121 Q1170.69 26.1121 1173.97 26.8413 Q1177.25 27.5299 1180.33 28.9478 Z\" fill=\"#000000\" fill-rule=\"evenodd\" fill-opacity=\"1\" /><path clip-path=\"url(#clip290)\" d=\"M 0 0 M1208.77 49.7694 Q1199.73 49.7694 1196.25 51.8354 Q1192.76 53.9013 1192.76 58.8839 Q1192.76 62.8538 1195.36 65.2034 Q1197.99 67.5124 1202.49 67.5124 Q1208.68 67.5124 1212.41 63.1374 Q1216.18 58.7219 1216.18 51.4303 L1216.18 49.7694 L1208.77 49.7694 M1223.63 46.6907 L1223.63 72.576 L1216.18 72.576 L1216.18 65.6895 Q1213.63 69.8214 1209.82 71.8063 Q1206.01 73.7508 1200.5 73.7508 Q1193.53 73.7508 1189.4 69.8619 Q1185.31 65.9325 1185.31 59.3701 Q1185.31 51.7138 1190.41 47.825 Q1195.56 43.9361 1205.73 43.9361 L1216.18 43.9361 L1216.18 43.2069 Q1216.18 38.0623 1212.78 35.2672 Q1209.41 32.4315 1203.3 32.4315 Q1199.41 32.4315 1195.72 33.3632 Q1192.03 34.295 1188.63 36.1584 L1188.63 29.2718 Q1192.72 27.692 1196.57 26.9223 Q1200.42 26.1121 1204.07 26.1121 Q1213.91 26.1121 1218.77 31.2163 Q1223.63 36.3204 1223.63 46.6907 Z\" fill=\"#000000\" fill-rule=\"evenodd\" fill-opacity=\"1\" /><path clip-path=\"url(#clip290)\" d=\"M 0 0 M1238.82 14.324 L1238.82 27.2059 L1254.18 27.2059 L1254.18 32.9987 L1238.82 32.9987 L1238.82 57.6282 Q1238.82 63.1779 1240.32 64.7578 Q1241.86 66.3376 1246.52 66.3376 L1254.18 66.3376 L1254.18 72.576 L1246.52 72.576 Q1237.89 72.576 1234.61 69.3758 Q1231.33 66.1351 1231.33 57.6282 L1231.33 32.9987 L1225.86 32.9987 L1225.86 27.2059 L1231.33 27.2059 L1231.33 14.324 L1238.82 14.324 Z\" fill=\"#000000\" fill-rule=\"evenodd\" fill-opacity=\"1\" /><path clip-path=\"url(#clip290)\" d=\"M 0 0 M1261.99 27.2059 L1269.45 27.2059 L1269.45 72.576 L1261.99 72.576 L1261.99 27.2059 M1261.99 9.54393 L1269.45 9.54393 L1269.45 18.9825 L1261.99 18.9825 L1261.99 9.54393 Z\" fill=\"#000000\" fill-rule=\"evenodd\" fill-opacity=\"1\" /><path clip-path=\"url(#clip290)\" d=\"M 0 0 M1294.85 32.4315 Q1288.85 32.4315 1285.37 37.1306 Q1281.88 41.7891 1281.88 49.9314 Q1281.88 58.0738 1285.33 62.7728 Q1288.81 67.4314 1294.85 67.4314 Q1300.8 67.4314 1304.29 62.7323 Q1307.77 58.0333 1307.77 49.9314 Q1307.77 41.8701 1304.29 37.1711 Q1300.8 32.4315 1294.85 32.4315 M1294.85 26.1121 Q1304.57 26.1121 1310.12 32.4315 Q1315.67 38.7509 1315.67 49.9314 Q1315.67 61.0714 1310.12 67.4314 Q1304.57 73.7508 1294.85 73.7508 Q1285.08 73.7508 1279.53 67.4314 Q1274.03 61.0714 1274.03 49.9314 Q1274.03 38.7509 1279.53 32.4315 Q1285.08 26.1121 1294.85 26.1121 Z\" fill=\"#000000\" fill-rule=\"evenodd\" fill-opacity=\"1\" /><path clip-path=\"url(#clip290)\" d=\"M 0 0 M1361.2 45.1919 L1361.2 72.576 L1353.75 72.576 L1353.75 45.4349 Q1353.75 38.994 1351.24 35.7938 Q1348.72 32.5936 1343.7 32.5936 Q1337.66 32.5936 1334.18 36.4419 Q1330.7 40.2903 1330.7 46.9338 L1330.7 72.576 L1323.2 72.576 L1323.2 27.2059 L1330.7 27.2059 L1330.7 34.2544 Q1333.37 30.163 1336.98 28.1376 Q1340.62 26.1121 1345.36 26.1121 Q1353.18 26.1121 1357.19 30.9732 Q1361.2 35.7938 1361.2 45.1919 Z\" fill=\"#000000\" fill-rule=\"evenodd\" fill-opacity=\"1\" /><path clip-path=\"url(#clip290)\" d=\"M 0 0 M1403.9 18.8205 L1403.9 41.5461 L1414.19 41.5461 Q1419.9 41.5461 1423.02 38.5889 Q1426.14 35.6318 1426.14 30.163 Q1426.14 24.7348 1423.02 21.7777 Q1419.9 18.8205 1414.19 18.8205 L1403.9 18.8205 M1395.71 12.096 L1414.19 12.096 Q1424.35 12.096 1429.54 16.714 Q1434.77 21.2916 1434.77 30.163 Q1434.77 39.1155 1429.54 43.6931 Q1424.35 48.2706 1414.19 48.2706 L1403.9 48.2706 L1403.9 72.576 L1395.71 72.576 L1395.71 12.096 Z\" fill=\"#000000\" fill-rule=\"evenodd\" fill-opacity=\"1\" /><path clip-path=\"url(#clip290)\" d=\"M 0 0 M1467.42 34.1734 Q1466.16 33.4443 1464.66 33.1202 Q1463.2 32.7556 1461.42 32.7556 Q1455.1 32.7556 1451.7 36.8875 Q1448.34 40.9789 1448.34 48.6757 L1448.34 72.576 L1440.84 72.576 L1440.84 27.2059 L1448.34 27.2059 L1448.34 34.2544 Q1450.69 30.1225 1454.45 28.1376 Q1458.22 26.1121 1463.61 26.1121 Q1464.38 26.1121 1465.31 26.2337 Q1466.24 26.3147 1467.37 26.5172 L1467.42 34.1734 Z\" fill=\"#000000\" fill-rule=\"evenodd\" fill-opacity=\"1\" /><path clip-path=\"url(#clip290)\" d=\"M 0 0 M1490.99 32.4315 Q1485 32.4315 1481.51 37.1306 Q1478.03 41.7891 1478.03 49.9314 Q1478.03 58.0738 1481.47 62.7728 Q1484.96 67.4314 1490.99 67.4314 Q1496.95 67.4314 1500.43 62.7323 Q1503.91 58.0333 1503.91 49.9314 Q1503.91 41.8701 1500.43 37.1711 Q1496.95 32.4315 1490.99 32.4315 M1490.99 26.1121 Q1500.71 26.1121 1506.26 32.4315 Q1511.81 38.7509 1511.81 49.9314 Q1511.81 61.0714 1506.26 67.4314 Q1500.71 73.7508 1490.99 73.7508 Q1481.23 73.7508 1475.68 67.4314 Q1470.17 61.0714 1470.17 49.9314 Q1470.17 38.7509 1475.68 32.4315 Q1481.23 26.1121 1490.99 26.1121 Z\" fill=\"#000000\" fill-rule=\"evenodd\" fill-opacity=\"1\" /><path clip-path=\"url(#clip290)\" d=\"M 0 0 M1549.49 49.3643 Q1549.49 41.2625 1546.12 36.8065 Q1542.8 32.3505 1536.77 32.3505 Q1530.77 32.3505 1527.41 36.8065 Q1524.09 41.2625 1524.09 49.3643 Q1524.09 57.4256 1527.41 61.8816 Q1530.77 66.3376 1536.77 66.3376 Q1542.8 66.3376 1546.12 61.8816 Q1549.49 57.4256 1549.49 49.3643 M1556.94 66.9452 Q1556.94 78.5308 1551.8 84.1616 Q1546.65 89.8329 1536.04 89.8329 Q1532.11 89.8329 1528.62 89.2252 Q1525.14 88.6581 1521.86 87.4428 L1521.86 80.1917 Q1525.14 81.9741 1528.34 82.8248 Q1531.54 83.6755 1534.86 83.6755 Q1542.2 83.6755 1545.84 79.8271 Q1549.49 76.0193 1549.49 68.282 L1549.49 64.5957 Q1547.18 68.6061 1543.57 70.5911 Q1539.97 72.576 1534.94 72.576 Q1526.6 72.576 1521.5 66.2161 Q1516.39 59.8562 1516.39 49.3643 Q1516.39 38.832 1521.5 32.472 Q1526.6 26.1121 1534.94 26.1121 Q1539.97 26.1121 1543.57 28.0971 Q1547.18 30.082 1549.49 34.0924 L1549.49 27.2059 L1556.94 27.2059 L1556.94 66.9452 Z\" fill=\"#000000\" fill-rule=\"evenodd\" fill-opacity=\"1\" /><path clip-path=\"url(#clip290)\" d=\"M 0 0 M1591.05 34.1734 Q1589.79 33.4443 1588.29 33.1202 Q1586.84 32.7556 1585.05 32.7556 Q1578.73 32.7556 1575.33 36.8875 Q1571.97 40.9789 1571.97 48.6757 L1571.97 72.576 L1564.48 72.576 L1564.48 27.2059 L1571.97 27.2059 L1571.97 34.2544 Q1574.32 30.1225 1578.09 28.1376 Q1581.85 26.1121 1587.24 26.1121 Q1588.01 26.1121 1588.94 26.2337 Q1589.87 26.3147 1591.01 26.5172 L1591.05 34.1734 Z\" fill=\"#000000\" fill-rule=\"evenodd\" fill-opacity=\"1\" /><path clip-path=\"url(#clip290)\" d=\"M 0 0 M1619.49 49.7694 Q1610.45 49.7694 1606.97 51.8354 Q1603.49 53.9013 1603.49 58.8839 Q1603.49 62.8538 1606.08 65.2034 Q1608.71 67.5124 1613.21 67.5124 Q1619.41 67.5124 1623.13 63.1374 Q1626.9 58.7219 1626.9 51.4303 L1626.9 49.7694 L1619.49 49.7694 M1634.35 46.6907 L1634.35 72.576 L1626.9 72.576 L1626.9 65.6895 Q1624.35 69.8214 1620.54 71.8063 Q1616.73 73.7508 1611.22 73.7508 Q1604.25 73.7508 1600.12 69.8619 Q1596.03 65.9325 1596.03 59.3701 Q1596.03 51.7138 1601.14 47.825 Q1606.28 43.9361 1616.45 43.9361 L1626.9 43.9361 L1626.9 43.2069 Q1626.9 38.0623 1623.5 35.2672 Q1620.13 32.4315 1614.02 32.4315 Q1610.13 32.4315 1606.44 33.3632 Q1602.76 34.295 1599.35 36.1584 L1599.35 29.2718 Q1603.44 27.692 1607.29 26.9223 Q1611.14 26.1121 1614.79 26.1121 Q1624.63 26.1121 1629.49 31.2163 Q1634.35 36.3204 1634.35 46.6907 Z\" fill=\"#000000\" fill-rule=\"evenodd\" fill-opacity=\"1\" /><path clip-path=\"url(#clip290)\" d=\"M 0 0 M1677.5 35.9153 Q1680.29 30.8922 1684.18 28.5022 Q1688.07 26.1121 1693.33 26.1121 Q1700.42 26.1121 1704.27 31.0947 Q1708.12 36.0368 1708.12 45.1919 L1708.12 72.576 L1700.63 72.576 L1700.63 45.4349 Q1700.63 38.913 1698.32 35.7533 Q1696.01 32.5936 1691.27 32.5936 Q1685.48 32.5936 1682.11 36.4419 Q1678.75 40.2903 1678.75 46.9338 L1678.75 72.576 L1671.26 72.576 L1671.26 45.4349 Q1671.26 38.8725 1668.95 35.7533 Q1666.64 32.5936 1661.82 32.5936 Q1656.11 32.5936 1652.74 36.4824 Q1649.38 40.3308 1649.38 46.9338 L1649.38 72.576 L1641.89 72.576 L1641.89 27.2059 L1649.38 27.2059 L1649.38 34.2544 Q1651.93 30.082 1655.5 28.0971 Q1659.06 26.1121 1663.97 26.1121 Q1668.91 26.1121 1672.35 28.6237 Q1675.83 31.1352 1677.5 35.9153 Z\" fill=\"#000000\" fill-rule=\"evenodd\" fill-opacity=\"1\" /><path clip-path=\"url(#clip290)\" d=\"M 0 0 M1744.86 28.5427 L1744.86 35.5912 Q1741.7 33.9709 1738.3 33.1607 Q1734.9 32.3505 1731.25 32.3505 Q1725.7 32.3505 1722.91 34.0519 Q1720.15 35.7533 1720.15 39.156 Q1720.15 41.7486 1722.14 43.2475 Q1724.12 44.7058 1730.12 46.0426 L1732.67 46.6097 Q1740.61 48.3111 1743.93 51.4303 Q1747.29 54.509 1747.29 60.0587 Q1747.29 66.3781 1742.27 70.0644 Q1737.29 73.7508 1728.54 73.7508 Q1724.89 73.7508 1720.92 73.0216 Q1716.99 72.3329 1712.62 70.9151 L1712.62 63.2184 Q1716.75 65.3654 1720.76 66.4591 Q1724.77 67.5124 1728.7 67.5124 Q1733.96 67.5124 1736.8 65.73 Q1739.64 63.9071 1739.64 60.6258 Q1739.64 57.5877 1737.57 55.9673 Q1735.54 54.3469 1728.62 52.8481 L1726.03 52.2405 Q1719.1 50.7821 1716.02 47.7845 Q1712.94 44.7463 1712.94 39.4801 Q1712.94 33.0797 1717.48 29.5959 Q1722.01 26.1121 1730.36 26.1121 Q1734.49 26.1121 1738.14 26.7198 Q1741.78 27.3274 1744.86 28.5427 Z\" fill=\"#000000\" fill-rule=\"evenodd\" fill-opacity=\"1\" /><path clip-path=\"url(#clip290)\" d=\"M 0 0 M1133.87 1521.76 L1133.87 1527.24 Q1131.39 1525.87 1128.88 1525.2 Q1126.39 1524.5 1123.85 1524.5 Q1118.15 1524.5 1115 1528.13 Q1111.85 1531.73 1111.85 1538.25 Q1111.85 1544.78 1115 1548.4 Q1118.15 1552 1123.85 1552 Q1126.39 1552 1128.88 1551.33 Q1131.39 1550.63 1133.87 1549.26 L1133.87 1554.68 Q1131.42 1555.82 1128.78 1556.39 Q1126.17 1556.97 1123.21 1556.97 Q1115.16 1556.97 1110.42 1551.91 Q1105.67 1546.85 1105.67 1538.25 Q1105.67 1529.53 1110.45 1524.53 Q1115.25 1519.54 1123.59 1519.54 Q1126.3 1519.54 1128.88 1520.11 Q1131.46 1520.65 1133.87 1521.76 Z\" fill=\"#000000\" fill-rule=\"evenodd\" fill-opacity=\"1\" /><path clip-path=\"url(#clip290)\" d=\"M 0 0 M1153.83 1524.5 Q1149.12 1524.5 1146.38 1528.19 Q1143.65 1531.85 1143.65 1538.25 Q1143.65 1544.65 1146.35 1548.34 Q1149.09 1552 1153.83 1552 Q1158.51 1552 1161.25 1548.31 Q1163.98 1544.62 1163.98 1538.25 Q1163.98 1531.92 1161.25 1528.23 Q1158.51 1524.5 1153.83 1524.5 M1153.83 1519.54 Q1161.47 1519.54 1165.83 1524.5 Q1170.19 1529.47 1170.19 1538.25 Q1170.19 1547 1165.83 1552 Q1161.47 1556.97 1153.83 1556.97 Q1146.16 1556.97 1141.8 1552 Q1137.47 1547 1137.47 1538.25 Q1137.47 1529.47 1141.8 1524.5 Q1146.16 1519.54 1153.83 1519.54 Z\" fill=\"#000000\" fill-rule=\"evenodd\" fill-opacity=\"1\" /><path clip-path=\"url(#clip290)\" d=\"M 0 0 M1204.09 1527.24 Q1206.28 1523.29 1209.34 1521.41 Q1212.4 1519.54 1216.53 1519.54 Q1222.1 1519.54 1225.13 1523.45 Q1228.15 1527.33 1228.15 1534.53 L1228.15 1556.04 L1222.26 1556.04 L1222.26 1534.72 Q1222.26 1529.59 1220.45 1527.11 Q1218.63 1524.63 1214.91 1524.63 Q1210.36 1524.63 1207.72 1527.65 Q1205.07 1530.68 1205.07 1535.9 L1205.07 1556.04 L1199.19 1556.04 L1199.19 1534.72 Q1199.19 1529.56 1197.37 1527.11 Q1195.56 1524.63 1191.77 1524.63 Q1187.28 1524.63 1184.64 1527.68 Q1182 1530.71 1182 1535.9 L1182 1556.04 L1176.11 1556.04 L1176.11 1520.4 L1182 1520.4 L1182 1525.93 Q1184 1522.66 1186.8 1521.1 Q1189.61 1519.54 1193.46 1519.54 Q1197.34 1519.54 1200.05 1521.51 Q1202.78 1523.48 1204.09 1527.24 Z\" fill=\"#000000\" fill-rule=\"evenodd\" fill-opacity=\"1\" /><path clip-path=\"url(#clip290)\" d=\"M 0 0 M1239.96 1550.7 L1239.96 1569.6 L1234.07 1569.6 L1234.07 1520.4 L1239.96 1520.4 L1239.96 1525.81 Q1241.8 1522.62 1244.61 1521.1 Q1247.44 1519.54 1251.35 1519.54 Q1257.85 1519.54 1261.89 1524.69 Q1265.96 1529.85 1265.96 1538.25 Q1265.96 1546.65 1261.89 1551.81 Q1257.85 1556.97 1251.35 1556.97 Q1247.44 1556.97 1244.61 1555.44 Q1241.8 1553.88 1239.96 1550.7 M1259.88 1538.25 Q1259.88 1531.79 1257.21 1528.13 Q1254.57 1524.44 1249.92 1524.44 Q1245.27 1524.44 1242.6 1528.13 Q1239.96 1531.79 1239.96 1538.25 Q1239.96 1544.71 1242.6 1548.4 Q1245.27 1552.07 1249.92 1552.07 Q1254.57 1552.07 1257.21 1548.4 Q1259.88 1544.71 1259.88 1538.25 Z\" fill=\"#000000\" fill-rule=\"evenodd\" fill-opacity=\"1\" /><path clip-path=\"url(#clip290)\" d=\"M 0 0 M1272.11 1506.52 L1277.96 1506.52 L1277.96 1556.04 L1272.11 1556.04 L1272.11 1506.52 Z\" fill=\"#000000\" fill-rule=\"evenodd\" fill-opacity=\"1\" /><path clip-path=\"url(#clip290)\" d=\"M 0 0 M1314.6 1536.76 L1314.6 1539.62 L1287.67 1539.62 Q1288.05 1545.67 1291.3 1548.85 Q1294.58 1552 1300.4 1552 Q1303.77 1552 1306.93 1551.17 Q1310.11 1550.35 1313.23 1548.69 L1313.23 1554.23 Q1310.08 1555.57 1306.77 1556.27 Q1303.46 1556.97 1300.05 1556.97 Q1291.52 1556.97 1286.52 1552 Q1281.56 1547.04 1281.56 1538.57 Q1281.56 1529.82 1286.27 1524.69 Q1291.01 1519.54 1299.03 1519.54 Q1306.23 1519.54 1310.4 1524.18 Q1314.6 1528.8 1314.6 1536.76 M1308.74 1535.04 Q1308.68 1530.23 1306.03 1527.37 Q1303.42 1524.5 1299.1 1524.5 Q1294.19 1524.5 1291.23 1527.27 Q1288.31 1530.04 1287.86 1535.07 L1308.74 1535.04 Z\" fill=\"#000000\" fill-rule=\"evenodd\" fill-opacity=\"1\" /><path clip-path=\"url(#clip290)\" d=\"M 0 0 M1349.23 1520.4 L1336.34 1537.74 L1349.89 1556.04 L1342.99 1556.04 L1332.61 1542.04 L1322.24 1556.04 L1315.33 1556.04 L1329.17 1537.39 L1316.51 1520.4 L1323.41 1520.4 L1332.87 1533.1 L1342.32 1520.4 L1349.23 1520.4 Z\" fill=\"#000000\" fill-rule=\"evenodd\" fill-opacity=\"1\" /><path clip-path=\"url(#clip290)\" d=\"M 0 0 M1356.04 1520.4 L1361.89 1520.4 L1361.89 1556.04 L1356.04 1556.04 L1356.04 1520.4 M1356.04 1506.52 L1361.89 1506.52 L1361.89 1513.93 L1356.04 1513.93 L1356.04 1506.52 Z\" fill=\"#000000\" fill-rule=\"evenodd\" fill-opacity=\"1\" /><path clip-path=\"url(#clip290)\" d=\"M 0 0 M1373.83 1510.27 L1373.83 1520.4 L1385.89 1520.4 L1385.89 1524.95 L1373.83 1524.95 L1373.83 1544.3 Q1373.83 1548.66 1375.01 1549.9 Q1376.22 1551.14 1379.88 1551.14 L1385.89 1551.14 L1385.89 1556.04 L1379.88 1556.04 Q1373.1 1556.04 1370.52 1553.53 Q1367.94 1550.98 1367.94 1544.3 L1367.94 1524.95 L1363.64 1524.95 L1363.64 1520.4 L1367.94 1520.4 L1367.94 1510.27 L1373.83 1510.27 Z\" fill=\"#000000\" fill-rule=\"evenodd\" fill-opacity=\"1\" /><path clip-path=\"url(#clip290)\" d=\"M 0 0 M1406.87 1559.35 Q1404.38 1565.72 1402.03 1567.66 Q1399.67 1569.6 1395.73 1569.6 L1391.05 1569.6 L1391.05 1564.7 L1394.49 1564.7 Q1396.91 1564.7 1398.24 1563.56 Q1399.58 1562.41 1401.2 1558.14 L1402.25 1555.47 L1387.83 1520.4 L1394.04 1520.4 L1405.18 1548.28 L1416.32 1520.4 L1422.53 1520.4 L1406.87 1559.35 Z\" fill=\"#000000\" fill-rule=\"evenodd\" fill-opacity=\"1\" /><path clip-path=\"url(#clip290)\" d=\"M 0 0 M59.3266 940.728 L59.3266 949.99 L69.9574 952.664 L69.9574 943.338 L59.3266 940.728 M41.2162 945.502 L54.4251 948.813 L54.4251 939.519 L41.2162 936.177 L41.2162 931.084 L54.4251 934.362 L54.4251 924.432 L59.3266 924.432 L59.3266 935.604 L69.9574 938.214 L69.9574 928.092 L74.8271 928.092 L74.8271 939.455 L88.0042 942.765 L88.0042 947.858 L74.8271 944.579 L74.8271 953.905 L88.0042 957.184 L88.0042 962.308 L74.8271 958.998 L74.8271 969.024 L69.9574 969.024 L69.9574 957.82 L59.3266 955.146 L59.3266 965.395 L54.4251 965.395 L54.4251 953.905 L41.2162 950.659 L41.2162 945.502 Z\" fill=\"#000000\" fill-rule=\"evenodd\" fill-opacity=\"1\" /><path clip-path=\"url(#clip290)\" d=\"M 0 0 M56.4621 883.755 Q56.4621 888.466 60.1542 891.203 Q63.8145 893.94 70.212 893.94 Q76.6095 893.94 80.3017 891.235 Q83.9619 888.498 83.9619 883.755 Q83.9619 879.076 80.2698 876.339 Q76.5777 873.602 70.212 873.602 Q63.8781 873.602 60.186 876.339 Q56.4621 879.076 56.4621 883.755 M51.4968 883.755 Q51.4968 876.116 56.4621 871.756 Q61.4273 867.395 70.212 867.395 Q78.9649 867.395 83.9619 871.756 Q88.9272 876.116 88.9272 883.755 Q88.9272 891.426 83.9619 895.786 Q78.9649 900.115 70.212 900.115 Q61.4273 900.115 56.4621 895.786 Q51.4968 891.426 51.4968 883.755 Z\" fill=\"#000000\" fill-rule=\"evenodd\" fill-opacity=\"1\" /><path clip-path=\"url(#clip290)\" d=\"M 0 0 M38.479 843.206 L43.3487 843.206 L43.3487 848.807 Q43.3487 851.958 44.6219 853.2 Q45.895 854.409 49.2052 854.409 L52.3562 854.409 L52.3562 844.765 L56.9077 844.765 L56.9077 854.409 L88.0042 854.409 L88.0042 860.297 L56.9077 860.297 L56.9077 865.899 L52.3562 865.899 L52.3562 860.297 L49.8736 860.297 Q43.9216 860.297 41.2162 857.528 Q38.479 854.759 38.479 848.744 L38.479 843.206 Z\" fill=\"#000000\" fill-rule=\"evenodd\" fill-opacity=\"1\" /><path clip-path=\"url(#clip290)\" d=\"M 0 0 M53.7248 790.688 L59.1993 790.688 Q57.8307 793.171 57.1623 795.686 Q56.4621 798.168 56.4621 800.714 Q56.4621 806.412 60.0905 809.563 Q63.6872 812.714 70.212 812.714 Q76.7369 812.714 80.3653 809.563 Q83.9619 806.412 83.9619 800.714 Q83.9619 798.168 83.2935 795.686 Q82.5933 793.171 81.2247 790.688 L86.6355 790.688 Q87.7814 793.139 88.3543 795.781 Q88.9272 798.391 88.9272 801.351 Q88.9272 809.404 83.8664 814.146 Q78.8057 818.889 70.212 818.889 Q61.491 818.889 56.4939 814.114 Q51.4968 809.308 51.4968 800.969 Q51.4968 798.264 52.0697 795.686 Q52.6108 793.107 53.7248 790.688 Z\" fill=\"#000000\" fill-rule=\"evenodd\" fill-opacity=\"1\" /><path clip-path=\"url(#clip290)\" d=\"M 0 0 M73.9359 785.15 L52.3562 785.15 L52.3562 779.294 L73.7131 779.294 Q78.7739 779.294 81.3202 777.32 Q83.8346 775.347 83.8346 771.4 Q83.8346 766.658 80.8109 763.921 Q77.7872 761.152 72.5673 761.152 L52.3562 761.152 L52.3562 755.295 L88.0042 755.295 L88.0042 761.152 L82.5296 761.152 Q85.7762 763.284 87.3676 766.117 Q88.9272 768.918 88.9272 772.642 Q88.9272 778.785 85.1078 781.967 Q81.2883 785.15 73.9359 785.15 M51.4968 770.414 L51.4968 770.414 Z\" fill=\"#000000\" fill-rule=\"evenodd\" fill-opacity=\"1\" /><path clip-path=\"url(#clip290)\" d=\"M 0 0 M57.8307 728.495 Q57.2578 729.482 57.0032 730.66 Q56.7167 731.806 56.7167 733.206 Q56.7167 738.171 59.9632 740.845 Q63.1779 743.487 69.2253 743.487 L88.0042 743.487 L88.0042 749.375 L52.3562 749.375 L52.3562 743.487 L57.8944 743.487 Q54.6479 741.641 53.0883 738.681 Q51.4968 735.721 51.4968 731.487 Q51.4968 730.883 51.5923 730.151 Q51.656 729.419 51.8151 728.527 L57.8307 728.495 Z\" fill=\"#000000\" fill-rule=\"evenodd\" fill-opacity=\"1\" /><path clip-path=\"url(#clip290)\" d=\"M 0 0 M57.8307 702.842 Q57.2578 703.828 57.0032 705.006 Q56.7167 706.152 56.7167 707.552 Q56.7167 712.518 59.9632 715.191 Q63.1779 717.833 69.2253 717.833 L88.0042 717.833 L88.0042 723.721 L52.3562 723.721 L52.3562 717.833 L57.8944 717.833 Q54.6479 715.987 53.0883 713.027 Q51.4968 710.067 51.4968 705.834 Q51.4968 705.229 51.5923 704.497 Q51.656 703.765 51.8151 702.874 L57.8307 702.842 Z\" fill=\"#000000\" fill-rule=\"evenodd\" fill-opacity=\"1\" /><path clip-path=\"url(#clip290)\" d=\"M 0 0 M52.3562 696.699 L52.3562 690.842 L88.0042 690.842 L88.0042 696.699 L52.3562 696.699 M38.479 696.699 L38.479 690.842 L45.895 690.842 L45.895 696.699 L38.479 696.699 Z\" fill=\"#000000\" fill-rule=\"evenodd\" fill-opacity=\"1\" /><path clip-path=\"url(#clip290)\" d=\"M 0 0 M53.7248 659.046 L59.1993 659.046 Q57.8307 661.528 57.1623 664.043 Q56.4621 666.525 56.4621 669.072 Q56.4621 674.769 60.0905 677.92 Q63.6872 681.071 70.212 681.071 Q76.7369 681.071 80.3653 677.92 Q83.9619 674.769 83.9619 669.072 Q83.9619 666.525 83.2935 664.043 Q82.5933 661.528 81.2247 659.046 L86.6355 659.046 Q87.7814 661.496 88.3543 664.138 Q88.9272 666.748 88.9272 669.708 Q88.9272 677.761 83.8664 682.503 Q78.8057 687.246 70.212 687.246 Q61.491 687.246 56.4939 682.471 Q51.4968 677.665 51.4968 669.326 Q51.4968 666.621 52.0697 664.043 Q52.6108 661.465 53.7248 659.046 Z\" fill=\"#000000\" fill-rule=\"evenodd\" fill-opacity=\"1\" /><path clip-path=\"url(#clip290)\" d=\"M 0 0 M73.9359 653.507 L52.3562 653.507 L52.3562 647.651 L73.7131 647.651 Q78.7739 647.651 81.3202 645.678 Q83.8346 643.704 83.8346 639.758 Q83.8346 635.015 80.8109 632.278 Q77.7872 629.509 72.5673 629.509 L52.3562 629.509 L52.3562 623.652 L88.0042 623.652 L88.0042 629.509 L82.5296 629.509 Q85.7762 631.641 87.3676 634.474 Q88.9272 637.275 88.9272 640.999 Q88.9272 647.142 85.1078 650.325 Q81.2883 653.507 73.9359 653.507 M51.4968 638.771 L51.4968 638.771 Z\" fill=\"#000000\" fill-rule=\"evenodd\" fill-opacity=\"1\" /><path clip-path=\"url(#clip290)\" d=\"M 0 0 M38.479 617.509 L38.479 611.653 L88.0042 611.653 L88.0042 617.509 L38.479 617.509 Z\" fill=\"#000000\" fill-rule=\"evenodd\" fill-opacity=\"1\" /><path clip-path=\"url(#clip290)\" d=\"M 0 0 M70.0847 589.309 Q70.0847 596.407 71.7079 599.144 Q73.3312 601.882 77.2461 601.882 Q80.3653 601.882 82.2114 599.845 Q84.0256 597.776 84.0256 594.243 Q84.0256 589.373 80.5881 586.445 Q77.1188 583.485 71.3897 583.485 L70.0847 583.485 L70.0847 589.309 M67.6657 577.628 L88.0042 577.628 L88.0042 583.485 L82.5933 583.485 Q85.8398 585.49 87.3994 588.482 Q88.9272 591.474 88.9272 595.802 Q88.9272 601.277 85.8716 604.523 Q82.7843 607.738 77.6281 607.738 Q71.6125 607.738 68.5569 603.728 Q65.5014 599.685 65.5014 591.696 L65.5014 583.485 L64.9285 583.485 Q60.8862 583.485 58.6901 586.158 Q56.4621 588.8 56.4621 593.606 Q56.4621 596.662 57.1941 599.558 Q57.9262 602.455 59.3903 605.128 L53.9795 605.128 Q52.7381 601.913 52.1334 598.89 Q51.4968 595.866 51.4968 593.001 Q51.4968 585.267 55.5072 581.448 Q59.5176 577.628 67.6657 577.628 Z\" fill=\"#000000\" fill-rule=\"evenodd\" fill-opacity=\"1\" /><path clip-path=\"url(#clip292)\" d=\"\n",
       "M610.907 1237.51 L610.907 1423.18 L828.638 1423.18 L828.638 1237.51 L610.907 1237.51 L610.907 1237.51  Z\n",
       "  \" fill=\"#1874cd\" fill-rule=\"evenodd\" fill-opacity=\"0.7\"/>\n",
       "<polyline clip-path=\"url(#clip292)\" style=\"stroke:#000000; stroke-width:4; stroke-opacity:0.7; fill:none\" points=\"\n",
       "  610.907,1237.51 610.907,1423.18 828.638,1423.18 828.638,1237.51 610.907,1237.51 \n",
       "  \"/>\n",
       "<path clip-path=\"url(#clip292)\" d=\"\n",
       "M828.638 866.162 L828.638 1423.18 L1046.37 1423.18 L1046.37 866.162 L828.638 866.162 L828.638 866.162  Z\n",
       "  \" fill=\"#1874cd\" fill-rule=\"evenodd\" fill-opacity=\"0.7\"/>\n",
       "<polyline clip-path=\"url(#clip292)\" style=\"stroke:#000000; stroke-width:4; stroke-opacity:0.7; fill:none\" points=\"\n",
       "  828.638,866.162 828.638,1423.18 1046.37,1423.18 1046.37,866.162 828.638,866.162 \n",
       "  \"/>\n",
       "<path clip-path=\"url(#clip292)\" d=\"\n",
       "M1046.37 494.817 L1046.37 1423.18 L1264.1 1423.18 L1264.1 494.817 L1046.37 494.817 L1046.37 494.817  Z\n",
       "  \" fill=\"#1874cd\" fill-rule=\"evenodd\" fill-opacity=\"0.7\"/>\n",
       "<polyline clip-path=\"url(#clip292)\" style=\"stroke:#000000; stroke-width:4; stroke-opacity:0.7; fill:none\" points=\"\n",
       "  1046.37,494.817 1046.37,1423.18 1264.1,1423.18 1264.1,494.817 1046.37,494.817 \n",
       "  \"/>\n",
       "<path clip-path=\"url(#clip292)\" d=\"\n",
       "M1264.1 680.49 L1264.1 1423.18 L1481.83 1423.18 L1481.83 680.49 L1264.1 680.49 L1264.1 680.49  Z\n",
       "  \" fill=\"#1874cd\" fill-rule=\"evenodd\" fill-opacity=\"0.7\"/>\n",
       "<polyline clip-path=\"url(#clip292)\" style=\"stroke:#000000; stroke-width:4; stroke-opacity:0.7; fill:none\" points=\"\n",
       "  1264.1,680.49 1264.1,1423.18 1481.83,1423.18 1481.83,680.49 1264.1,680.49 \n",
       "  \"/>\n",
       "<path clip-path=\"url(#clip292)\" d=\"\n",
       "M1481.83 1237.51 L1481.83 1423.18 L1699.56 1423.18 L1699.56 1237.51 L1481.83 1237.51 L1481.83 1237.51  Z\n",
       "  \" fill=\"#1874cd\" fill-rule=\"evenodd\" fill-opacity=\"0.7\"/>\n",
       "<polyline clip-path=\"url(#clip292)\" style=\"stroke:#000000; stroke-width:4; stroke-opacity:0.7; fill:none\" points=\"\n",
       "  1481.83,1237.51 1481.83,1423.18 1699.56,1423.18 1699.56,1237.51 1481.83,1237.51 \n",
       "  \"/>\n",
       "</svg>\n"
      ]
     },
     "metadata": {},
     "output_type": "display_data"
    },
    {
     "name": "stdout",
     "output_type": "stream",
     "text": [
      "****** Animal Science Programs ******\n",
      "\n",
      " Metric -- complexity\n",
      "  Number of curricula = 20\n",
      "  Mean = 139.65\n",
      "  STD = 13.338145485786248\n",
      "  Max. = 307.0\n",
      "  Min. = 71.0\n"
     ]
    },
    {
     "data": {
      "image/svg+xml": [
       "<?xml version=\"1.0\" encoding=\"utf-8\"?>\n",
       "<svg xmlns=\"http://www.w3.org/2000/svg\" xmlns:xlink=\"http://www.w3.org/1999/xlink\" width=\"600\" height=\"400\" viewBox=\"0 0 2400 1600\">\n",
       "<defs>\n",
       "  <clipPath id=\"clip330\">\n",
       "    <rect x=\"0\" y=\"0\" width=\"2400\" height=\"1600\"/>\n",
       "  </clipPath>\n",
       "</defs>\n",
       "<path clip-path=\"url(#clip330)\" d=\"\n",
       "M0 1600 L2400 1600 L2400 0 L0 0  Z\n",
       "  \" fill=\"#ffffff\" fill-rule=\"evenodd\" fill-opacity=\"1\"/>\n",
       "<defs>\n",
       "  <clipPath id=\"clip331\">\n",
       "    <rect x=\"480\" y=\"0\" width=\"1681\" height=\"1600\"/>\n",
       "  </clipPath>\n",
       "</defs>\n",
       "<path clip-path=\"url(#clip330)\" d=\"\n",
       "M197.852 1423.18 L2352.76 1423.18 L2352.76 123.472 L197.852 123.472  Z\n",
       "  \" fill=\"#ffffff\" fill-rule=\"evenodd\" fill-opacity=\"1\"/>\n",
       "<defs>\n",
       "  <clipPath id=\"clip332\">\n",
       "    <rect x=\"197\" y=\"123\" width=\"2156\" height=\"1301\"/>\n",
       "  </clipPath>\n",
       "</defs>\n",
       "<polyline clip-path=\"url(#clip332)\" style=\"stroke:#000000; stroke-width:2; stroke-opacity:0.1; fill:none\" points=\"\n",
       "  197.852,1423.18 197.852,123.472 \n",
       "  \"/>\n",
       "<polyline clip-path=\"url(#clip332)\" style=\"stroke:#000000; stroke-width:2; stroke-opacity:0.1; fill:none\" points=\"\n",
       "  628.833,1423.18 628.833,123.472 \n",
       "  \"/>\n",
       "<polyline clip-path=\"url(#clip332)\" style=\"stroke:#000000; stroke-width:2; stroke-opacity:0.1; fill:none\" points=\"\n",
       "  1059.81,1423.18 1059.81,123.472 \n",
       "  \"/>\n",
       "<polyline clip-path=\"url(#clip332)\" style=\"stroke:#000000; stroke-width:2; stroke-opacity:0.1; fill:none\" points=\"\n",
       "  1490.79,1423.18 1490.79,123.472 \n",
       "  \"/>\n",
       "<polyline clip-path=\"url(#clip332)\" style=\"stroke:#000000; stroke-width:2; stroke-opacity:0.1; fill:none\" points=\"\n",
       "  1921.78,1423.18 1921.78,123.472 \n",
       "  \"/>\n",
       "<polyline clip-path=\"url(#clip332)\" style=\"stroke:#000000; stroke-width:2; stroke-opacity:0.1; fill:none\" points=\"\n",
       "  2352.76,1423.18 2352.76,123.472 \n",
       "  \"/>\n",
       "<polyline clip-path=\"url(#clip332)\" style=\"stroke:#000000; stroke-width:2; stroke-opacity:0.1; fill:none\" points=\"\n",
       "  197.852,1423.18 2352.76,1423.18 \n",
       "  \"/>\n",
       "<polyline clip-path=\"url(#clip332)\" style=\"stroke:#000000; stroke-width:2; stroke-opacity:0.1; fill:none\" points=\"\n",
       "  197.852,1163.24 2352.76,1163.24 \n",
       "  \"/>\n",
       "<polyline clip-path=\"url(#clip332)\" style=\"stroke:#000000; stroke-width:2; stroke-opacity:0.1; fill:none\" points=\"\n",
       "  197.852,903.297 2352.76,903.297 \n",
       "  \"/>\n",
       "<polyline clip-path=\"url(#clip332)\" style=\"stroke:#000000; stroke-width:2; stroke-opacity:0.1; fill:none\" points=\"\n",
       "  197.852,643.355 2352.76,643.355 \n",
       "  \"/>\n",
       "<polyline clip-path=\"url(#clip332)\" style=\"stroke:#000000; stroke-width:2; stroke-opacity:0.1; fill:none\" points=\"\n",
       "  197.852,383.414 2352.76,383.414 \n",
       "  \"/>\n",
       "<polyline clip-path=\"url(#clip332)\" style=\"stroke:#000000; stroke-width:2; stroke-opacity:0.1; fill:none\" points=\"\n",
       "  197.852,123.472 2352.76,123.472 \n",
       "  \"/>\n",
       "<polyline clip-path=\"url(#clip330)\" style=\"stroke:#000000; stroke-width:4; stroke-opacity:1; fill:none\" points=\"\n",
       "  197.852,1423.18 2352.76,1423.18 \n",
       "  \"/>\n",
       "<polyline clip-path=\"url(#clip330)\" style=\"stroke:#000000; stroke-width:4; stroke-opacity:1; fill:none\" points=\"\n",
       "  197.852,1423.18 197.852,123.472 \n",
       "  \"/>\n",
       "<polyline clip-path=\"url(#clip330)\" style=\"stroke:#000000; stroke-width:4; stroke-opacity:1; fill:none\" points=\"\n",
       "  197.852,1423.18 197.852,1407.58 \n",
       "  \"/>\n",
       "<polyline clip-path=\"url(#clip330)\" style=\"stroke:#000000; stroke-width:4; stroke-opacity:1; fill:none\" points=\"\n",
       "  628.833,1423.18 628.833,1407.58 \n",
       "  \"/>\n",
       "<polyline clip-path=\"url(#clip330)\" style=\"stroke:#000000; stroke-width:4; stroke-opacity:1; fill:none\" points=\"\n",
       "  1059.81,1423.18 1059.81,1407.58 \n",
       "  \"/>\n",
       "<polyline clip-path=\"url(#clip330)\" style=\"stroke:#000000; stroke-width:4; stroke-opacity:1; fill:none\" points=\"\n",
       "  1490.79,1423.18 1490.79,1407.58 \n",
       "  \"/>\n",
       "<polyline clip-path=\"url(#clip330)\" style=\"stroke:#000000; stroke-width:4; stroke-opacity:1; fill:none\" points=\"\n",
       "  1921.78,1423.18 1921.78,1407.58 \n",
       "  \"/>\n",
       "<polyline clip-path=\"url(#clip330)\" style=\"stroke:#000000; stroke-width:4; stroke-opacity:1; fill:none\" points=\"\n",
       "  2352.76,1423.18 2352.76,1407.58 \n",
       "  \"/>\n",
       "<polyline clip-path=\"url(#clip330)\" style=\"stroke:#000000; stroke-width:4; stroke-opacity:1; fill:none\" points=\"\n",
       "  197.852,1423.18 223.711,1423.18 \n",
       "  \"/>\n",
       "<polyline clip-path=\"url(#clip330)\" style=\"stroke:#000000; stroke-width:4; stroke-opacity:1; fill:none\" points=\"\n",
       "  197.852,1163.24 223.711,1163.24 \n",
       "  \"/>\n",
       "<polyline clip-path=\"url(#clip330)\" style=\"stroke:#000000; stroke-width:4; stroke-opacity:1; fill:none\" points=\"\n",
       "  197.852,903.297 223.711,903.297 \n",
       "  \"/>\n",
       "<polyline clip-path=\"url(#clip330)\" style=\"stroke:#000000; stroke-width:4; stroke-opacity:1; fill:none\" points=\"\n",
       "  197.852,643.355 223.711,643.355 \n",
       "  \"/>\n",
       "<polyline clip-path=\"url(#clip330)\" style=\"stroke:#000000; stroke-width:4; stroke-opacity:1; fill:none\" points=\"\n",
       "  197.852,383.414 223.711,383.414 \n",
       "  \"/>\n",
       "<polyline clip-path=\"url(#clip330)\" style=\"stroke:#000000; stroke-width:4; stroke-opacity:1; fill:none\" points=\"\n",
       "  197.852,123.472 223.711,123.472 \n",
       "  \"/>\n",
       "<path clip-path=\"url(#clip330)\" d=\"M 0 0 M197.852 1445.17 Q194.241 1445.17 192.413 1448.74 Q190.607 1452.28 190.607 1459.41 Q190.607 1466.51 192.413 1470.08 Q194.241 1473.62 197.852 1473.62 Q201.487 1473.62 203.292 1470.08 Q205.121 1466.51 205.121 1459.41 Q205.121 1452.28 203.292 1448.74 Q201.487 1445.17 197.852 1445.17 M197.852 1441.47 Q203.663 1441.47 206.718 1446.07 Q209.797 1450.66 209.797 1459.41 Q209.797 1468.13 206.718 1472.74 Q203.663 1477.32 197.852 1477.32 Q192.042 1477.32 188.964 1472.74 Q185.908 1468.13 185.908 1459.41 Q185.908 1450.66 188.964 1446.07 Q192.042 1441.47 197.852 1441.47 Z\" fill=\"#000000\" fill-rule=\"evenodd\" fill-opacity=\"1\" /><path clip-path=\"url(#clip330)\" d=\"M 0 0 M592.201 1472.72 L599.84 1472.72 L599.84 1446.35 L591.53 1448.02 L591.53 1443.76 L599.794 1442.09 L604.47 1442.09 L604.47 1472.72 L612.109 1472.72 L612.109 1476.65 L592.201 1476.65 L592.201 1472.72 Z\" fill=\"#000000\" fill-rule=\"evenodd\" fill-opacity=\"1\" /><path clip-path=\"url(#clip330)\" d=\"M 0 0 M627.178 1445.17 Q623.567 1445.17 621.738 1448.74 Q619.933 1452.28 619.933 1459.41 Q619.933 1466.51 621.738 1470.08 Q623.567 1473.62 627.178 1473.62 Q630.812 1473.62 632.618 1470.08 Q634.447 1466.51 634.447 1459.41 Q634.447 1452.28 632.618 1448.74 Q630.812 1445.17 627.178 1445.17 M627.178 1441.47 Q632.988 1441.47 636.044 1446.07 Q639.122 1450.66 639.122 1459.41 Q639.122 1468.13 636.044 1472.74 Q632.988 1477.32 627.178 1477.32 Q621.368 1477.32 618.289 1472.74 Q615.234 1468.13 615.234 1459.41 Q615.234 1450.66 618.289 1446.07 Q621.368 1441.47 627.178 1441.47 Z\" fill=\"#000000\" fill-rule=\"evenodd\" fill-opacity=\"1\" /><path clip-path=\"url(#clip330)\" d=\"M 0 0 M654.192 1445.17 Q650.581 1445.17 648.752 1448.74 Q646.947 1452.28 646.947 1459.41 Q646.947 1466.51 648.752 1470.08 Q650.581 1473.62 654.192 1473.62 Q657.826 1473.62 659.632 1470.08 Q661.46 1466.51 661.46 1459.41 Q661.46 1452.28 659.632 1448.74 Q657.826 1445.17 654.192 1445.17 M654.192 1441.47 Q660.002 1441.47 663.058 1446.07 Q666.136 1450.66 666.136 1459.41 Q666.136 1468.13 663.058 1472.74 Q660.002 1477.32 654.192 1477.32 Q648.382 1477.32 645.303 1472.74 Q642.247 1468.13 642.247 1459.41 Q642.247 1450.66 645.303 1446.07 Q648.382 1441.47 654.192 1441.47 Z\" fill=\"#000000\" fill-rule=\"evenodd\" fill-opacity=\"1\" /><path clip-path=\"url(#clip330)\" d=\"M 0 0 M1027.45 1472.72 L1043.77 1472.72 L1043.77 1476.65 L1021.83 1476.65 L1021.83 1472.72 Q1024.49 1469.96 1029.07 1465.33 Q1033.68 1460.68 1034.86 1459.34 Q1037.11 1456.81 1037.99 1455.08 Q1038.89 1453.32 1038.89 1451.63 Q1038.89 1448.87 1036.94 1447.14 Q1035.02 1445.4 1031.92 1445.4 Q1029.72 1445.4 1027.27 1446.17 Q1024.84 1446.93 1022.06 1448.48 L1022.06 1443.76 Q1024.88 1442.62 1027.34 1442.05 Q1029.79 1441.47 1031.83 1441.47 Q1037.2 1441.47 1040.39 1444.15 Q1043.59 1446.84 1043.59 1451.33 Q1043.59 1453.46 1042.78 1455.38 Q1041.99 1457.28 1039.88 1459.87 Q1039.3 1460.54 1036.2 1463.76 Q1033.1 1466.95 1027.45 1472.72 Z\" fill=\"#000000\" fill-rule=\"evenodd\" fill-opacity=\"1\" /><path clip-path=\"url(#clip330)\" d=\"M 0 0 M1058.84 1445.17 Q1055.23 1445.17 1053.4 1448.74 Q1051.6 1452.28 1051.6 1459.41 Q1051.6 1466.51 1053.4 1470.08 Q1055.23 1473.62 1058.84 1473.62 Q1062.48 1473.62 1064.28 1470.08 Q1066.11 1466.51 1066.11 1459.41 Q1066.11 1452.28 1064.28 1448.74 Q1062.48 1445.17 1058.84 1445.17 M1058.84 1441.47 Q1064.65 1441.47 1067.71 1446.07 Q1070.79 1450.66 1070.79 1459.41 Q1070.79 1468.13 1067.71 1472.74 Q1064.65 1477.32 1058.84 1477.32 Q1053.03 1477.32 1049.95 1472.74 Q1046.9 1468.13 1046.9 1459.41 Q1046.9 1450.66 1049.95 1446.07 Q1053.03 1441.47 1058.84 1441.47 Z\" fill=\"#000000\" fill-rule=\"evenodd\" fill-opacity=\"1\" /><path clip-path=\"url(#clip330)\" d=\"M 0 0 M1085.86 1445.17 Q1082.24 1445.17 1080.42 1448.74 Q1078.61 1452.28 1078.61 1459.41 Q1078.61 1466.51 1080.42 1470.08 Q1082.24 1473.62 1085.86 1473.62 Q1089.49 1473.62 1091.3 1470.08 Q1093.12 1466.51 1093.12 1459.41 Q1093.12 1452.28 1091.3 1448.74 Q1089.49 1445.17 1085.86 1445.17 M1085.86 1441.47 Q1091.67 1441.47 1094.72 1446.07 Q1097.8 1450.66 1097.8 1459.41 Q1097.8 1468.13 1094.72 1472.74 Q1091.67 1477.32 1085.86 1477.32 Q1080.05 1477.32 1076.97 1472.74 Q1073.91 1468.13 1073.91 1459.41 Q1073.91 1450.66 1076.97 1446.07 Q1080.05 1441.47 1085.86 1441.47 Z\" fill=\"#000000\" fill-rule=\"evenodd\" fill-opacity=\"1\" /><path clip-path=\"url(#clip330)\" d=\"M 0 0 M1468.03 1458.02 Q1471.38 1458.74 1473.26 1461 Q1475.16 1463.27 1475.16 1466.61 Q1475.16 1471.72 1471.64 1474.52 Q1468.12 1477.32 1461.64 1477.32 Q1459.46 1477.32 1457.15 1476.88 Q1454.86 1476.47 1452.4 1475.61 L1452.4 1471.1 Q1454.35 1472.23 1456.66 1472.81 Q1458.98 1473.39 1461.5 1473.39 Q1465.9 1473.39 1468.19 1471.65 Q1470.51 1469.92 1470.51 1466.61 Q1470.51 1463.55 1468.35 1461.84 Q1466.22 1460.1 1462.4 1460.1 L1458.38 1460.1 L1458.38 1456.26 L1462.59 1456.26 Q1466.04 1456.26 1467.87 1454.89 Q1469.7 1453.5 1469.7 1450.91 Q1469.7 1448.25 1467.8 1446.84 Q1465.92 1445.4 1462.4 1445.4 Q1460.48 1445.4 1458.28 1445.82 Q1456.08 1446.24 1453.45 1447.11 L1453.45 1442.95 Q1456.11 1442.21 1458.42 1441.84 Q1460.76 1441.47 1462.82 1441.47 Q1468.14 1441.47 1471.25 1443.9 Q1474.35 1446.3 1474.35 1450.43 Q1474.35 1453.3 1472.7 1455.29 Q1471.06 1457.25 1468.03 1458.02 Z\" fill=\"#000000\" fill-rule=\"evenodd\" fill-opacity=\"1\" /><path clip-path=\"url(#clip330)\" d=\"M 0 0 M1490.23 1445.17 Q1486.62 1445.17 1484.79 1448.74 Q1482.98 1452.28 1482.98 1459.41 Q1482.98 1466.51 1484.79 1470.08 Q1486.62 1473.62 1490.23 1473.62 Q1493.86 1473.62 1495.67 1470.08 Q1497.5 1466.51 1497.5 1459.41 Q1497.5 1452.28 1495.67 1448.74 Q1493.86 1445.17 1490.23 1445.17 M1490.23 1441.47 Q1496.04 1441.47 1499.09 1446.07 Q1502.17 1450.66 1502.17 1459.41 Q1502.17 1468.13 1499.09 1472.74 Q1496.04 1477.32 1490.23 1477.32 Q1484.42 1477.32 1481.34 1472.74 Q1478.28 1468.13 1478.28 1459.41 Q1478.28 1450.66 1481.34 1446.07 Q1484.42 1441.47 1490.23 1441.47 Z\" fill=\"#000000\" fill-rule=\"evenodd\" fill-opacity=\"1\" /><path clip-path=\"url(#clip330)\" d=\"M 0 0 M1517.24 1445.17 Q1513.63 1445.17 1511.8 1448.74 Q1510 1452.28 1510 1459.41 Q1510 1466.51 1511.8 1470.08 Q1513.63 1473.62 1517.24 1473.62 Q1520.88 1473.62 1522.68 1470.08 Q1524.51 1466.51 1524.51 1459.41 Q1524.51 1452.28 1522.68 1448.74 Q1520.88 1445.17 1517.24 1445.17 M1517.24 1441.47 Q1523.05 1441.47 1526.11 1446.07 Q1529.19 1450.66 1529.19 1459.41 Q1529.19 1468.13 1526.11 1472.74 Q1523.05 1477.32 1517.24 1477.32 Q1511.43 1477.32 1508.35 1472.74 Q1505.3 1468.13 1505.3 1459.41 Q1505.3 1450.66 1508.35 1446.07 Q1511.43 1441.47 1517.24 1441.47 Z\" fill=\"#000000\" fill-rule=\"evenodd\" fill-opacity=\"1\" /><path clip-path=\"url(#clip330)\" d=\"M 0 0 M1897.77 1446.17 L1885.97 1464.61 L1897.77 1464.61 L1897.77 1446.17 M1896.54 1442.09 L1902.42 1442.09 L1902.42 1464.61 L1907.35 1464.61 L1907.35 1468.5 L1902.42 1468.5 L1902.42 1476.65 L1897.77 1476.65 L1897.77 1468.5 L1882.17 1468.5 L1882.17 1463.99 L1896.54 1442.09 Z\" fill=\"#000000\" fill-rule=\"evenodd\" fill-opacity=\"1\" /><path clip-path=\"url(#clip330)\" d=\"M 0 0 M1922.42 1445.17 Q1918.81 1445.17 1916.98 1448.74 Q1915.18 1452.28 1915.18 1459.41 Q1915.18 1466.51 1916.98 1470.08 Q1918.81 1473.62 1922.42 1473.62 Q1926.06 1473.62 1927.86 1470.08 Q1929.69 1466.51 1929.69 1459.41 Q1929.69 1452.28 1927.86 1448.74 Q1926.06 1445.17 1922.42 1445.17 M1922.42 1441.47 Q1928.23 1441.47 1931.29 1446.07 Q1934.37 1450.66 1934.37 1459.41 Q1934.37 1468.13 1931.29 1472.74 Q1928.23 1477.32 1922.42 1477.32 Q1916.61 1477.32 1913.53 1472.74 Q1910.48 1468.13 1910.48 1459.41 Q1910.48 1450.66 1913.53 1446.07 Q1916.61 1441.47 1922.42 1441.47 Z\" fill=\"#000000\" fill-rule=\"evenodd\" fill-opacity=\"1\" /><path clip-path=\"url(#clip330)\" d=\"M 0 0 M1949.44 1445.17 Q1945.83 1445.17 1944 1448.74 Q1942.19 1452.28 1942.19 1459.41 Q1942.19 1466.51 1944 1470.08 Q1945.83 1473.62 1949.44 1473.62 Q1953.07 1473.62 1954.88 1470.08 Q1956.71 1466.51 1956.71 1459.41 Q1956.71 1452.28 1954.88 1448.74 Q1953.07 1445.17 1949.44 1445.17 M1949.44 1441.47 Q1955.25 1441.47 1958.3 1446.07 Q1961.38 1450.66 1961.38 1459.41 Q1961.38 1468.13 1958.3 1472.74 Q1955.25 1477.32 1949.44 1477.32 Q1943.63 1477.32 1940.55 1472.74 Q1937.49 1468.13 1937.49 1459.41 Q1937.49 1450.66 1940.55 1446.07 Q1943.63 1441.47 1949.44 1441.47 Z\" fill=\"#000000\" fill-rule=\"evenodd\" fill-opacity=\"1\" /><path clip-path=\"url(#clip330)\" d=\"M 0 0 M2316.02 1442.09 L2334.38 1442.09 L2334.38 1446.03 L2320.3 1446.03 L2320.3 1454.5 Q2321.32 1454.15 2322.34 1453.99 Q2323.36 1453.8 2324.38 1453.8 Q2330.16 1453.8 2333.54 1456.98 Q2336.92 1460.15 2336.92 1465.56 Q2336.92 1471.14 2333.45 1474.24 Q2329.98 1477.32 2323.66 1477.32 Q2321.48 1477.32 2319.21 1476.95 Q2316.97 1476.58 2314.56 1475.84 L2314.56 1471.14 Q2316.64 1472.28 2318.87 1472.83 Q2321.09 1473.39 2323.57 1473.39 Q2327.57 1473.39 2329.91 1471.28 Q2332.25 1469.18 2332.25 1465.56 Q2332.25 1461.95 2329.91 1459.85 Q2327.57 1457.74 2323.57 1457.74 Q2321.69 1457.74 2319.82 1458.16 Q2317.96 1458.57 2316.02 1459.45 L2316.02 1442.09 Z\" fill=\"#000000\" fill-rule=\"evenodd\" fill-opacity=\"1\" /><path clip-path=\"url(#clip330)\" d=\"M 0 0 M2351.99 1445.17 Q2348.38 1445.17 2346.55 1448.74 Q2344.75 1452.28 2344.75 1459.41 Q2344.75 1466.51 2346.55 1470.08 Q2348.38 1473.62 2351.99 1473.62 Q2355.63 1473.62 2357.43 1470.08 Q2359.26 1466.51 2359.26 1459.41 Q2359.26 1452.28 2357.43 1448.74 Q2355.63 1445.17 2351.99 1445.17 M2351.99 1441.47 Q2357.8 1441.47 2360.86 1446.07 Q2363.94 1450.66 2363.94 1459.41 Q2363.94 1468.13 2360.86 1472.74 Q2357.8 1477.32 2351.99 1477.32 Q2346.18 1477.32 2343.1 1472.74 Q2340.05 1468.13 2340.05 1459.41 Q2340.05 1450.66 2343.1 1446.07 Q2346.18 1441.47 2351.99 1441.47 Z\" fill=\"#000000\" fill-rule=\"evenodd\" fill-opacity=\"1\" /><path clip-path=\"url(#clip330)\" d=\"M 0 0 M2379.01 1445.17 Q2375.39 1445.17 2373.57 1448.74 Q2371.76 1452.28 2371.76 1459.41 Q2371.76 1466.51 2373.57 1470.08 Q2375.39 1473.62 2379.01 1473.62 Q2382.64 1473.62 2384.45 1470.08 Q2386.27 1466.51 2386.27 1459.41 Q2386.27 1452.28 2384.45 1448.74 Q2382.64 1445.17 2379.01 1445.17 M2379.01 1441.47 Q2384.82 1441.47 2387.87 1446.07 Q2390.95 1450.66 2390.95 1459.41 Q2390.95 1468.13 2387.87 1472.74 Q2384.82 1477.32 2379.01 1477.32 Q2373.2 1477.32 2370.12 1472.74 Q2367.06 1468.13 2367.06 1459.41 Q2367.06 1450.66 2370.12 1446.07 Q2373.2 1441.47 2379.01 1441.47 Z\" fill=\"#000000\" fill-rule=\"evenodd\" fill-opacity=\"1\" /><path clip-path=\"url(#clip330)\" d=\"M 0 0 M161.908 1408.98 Q158.297 1408.98 156.468 1412.54 Q154.663 1416.08 154.663 1423.21 Q154.663 1430.32 156.468 1433.89 Q158.297 1437.43 161.908 1437.43 Q165.542 1437.43 167.348 1433.89 Q169.177 1430.32 169.177 1423.21 Q169.177 1416.08 167.348 1412.54 Q165.542 1408.98 161.908 1408.98 M161.908 1405.27 Q167.718 1405.27 170.774 1409.88 Q173.852 1414.46 173.852 1423.21 Q173.852 1431.94 170.774 1436.55 Q167.718 1441.13 161.908 1441.13 Q156.098 1441.13 153.019 1436.55 Q149.964 1431.94 149.964 1423.21 Q149.964 1414.46 153.019 1409.88 Q156.098 1405.27 161.908 1405.27 Z\" fill=\"#000000\" fill-rule=\"evenodd\" fill-opacity=\"1\" /><path clip-path=\"url(#clip330)\" d=\"M 0 0 M157.533 1176.58 L173.852 1176.58 L173.852 1180.52 L151.908 1180.52 L151.908 1176.58 Q154.57 1173.83 159.153 1169.2 Q163.76 1164.55 164.941 1163.2 Q167.186 1160.68 168.065 1158.94 Q168.968 1157.19 168.968 1155.5 Q168.968 1152.74 167.024 1151 Q165.103 1149.27 162.001 1149.27 Q159.802 1149.27 157.348 1150.03 Q154.917 1150.8 152.14 1152.35 L152.14 1147.62 Q154.964 1146.49 157.417 1145.91 Q159.871 1145.33 161.908 1145.33 Q167.278 1145.33 170.473 1148.02 Q173.667 1150.7 173.667 1155.19 Q173.667 1157.32 172.857 1159.25 Q172.07 1161.14 169.964 1163.74 Q169.385 1164.41 166.283 1167.62 Q163.181 1170.82 157.533 1176.58 Z\" fill=\"#000000\" fill-rule=\"evenodd\" fill-opacity=\"1\" /><path clip-path=\"url(#clip330)\" d=\"M 0 0 M164.269 890.091 L152.464 908.54 L164.269 908.54 L164.269 890.091 M163.042 886.017 L168.922 886.017 L168.922 908.54 L173.852 908.54 L173.852 912.429 L168.922 912.429 L168.922 920.577 L164.269 920.577 L164.269 912.429 L148.667 912.429 L148.667 907.915 L163.042 886.017 Z\" fill=\"#000000\" fill-rule=\"evenodd\" fill-opacity=\"1\" /><path clip-path=\"url(#clip330)\" d=\"M 0 0 M162.325 641.492 Q159.177 641.492 157.325 643.645 Q155.496 645.797 155.496 649.547 Q155.496 653.274 157.325 655.45 Q159.177 657.603 162.325 657.603 Q165.473 657.603 167.302 655.45 Q169.153 653.274 169.153 649.547 Q169.153 645.797 167.302 643.645 Q165.473 641.492 162.325 641.492 M171.607 626.839 L171.607 631.098 Q169.848 630.265 168.042 629.825 Q166.26 629.385 164.501 629.385 Q159.871 629.385 157.417 632.51 Q154.987 635.635 154.64 641.955 Q156.005 639.941 158.066 638.876 Q160.126 637.788 162.603 637.788 Q167.811 637.788 170.82 640.959 Q173.852 644.108 173.852 649.547 Q173.852 654.871 170.704 658.089 Q167.556 661.307 162.325 661.307 Q156.329 661.307 153.158 656.723 Q149.987 652.117 149.987 643.39 Q149.987 635.196 153.876 630.334 Q157.765 625.45 164.316 625.45 Q166.075 625.45 167.857 625.797 Q169.663 626.145 171.607 626.839 Z\" fill=\"#000000\" fill-rule=\"evenodd\" fill-opacity=\"1\" /><path clip-path=\"url(#clip330)\" d=\"M 0 0 M162.001 384.282 Q158.667 384.282 156.746 386.064 Q154.848 387.847 154.848 390.971 Q154.848 394.096 156.746 395.879 Q158.667 397.661 162.001 397.661 Q165.334 397.661 167.255 395.879 Q169.177 394.073 169.177 390.971 Q169.177 387.847 167.255 386.064 Q165.357 384.282 162.001 384.282 M157.325 382.291 Q154.316 381.55 152.626 379.49 Q150.959 377.43 150.959 374.467 Q150.959 370.323 153.899 367.916 Q156.862 365.509 162.001 365.509 Q167.163 365.509 170.103 367.916 Q173.042 370.323 173.042 374.467 Q173.042 377.43 171.353 379.49 Q169.686 381.55 166.7 382.291 Q170.079 383.078 171.954 385.37 Q173.852 387.661 173.852 390.971 Q173.852 395.995 170.774 398.68 Q167.718 401.365 162.001 401.365 Q156.283 401.365 153.204 398.68 Q150.149 395.995 150.149 390.971 Q150.149 387.661 152.047 385.37 Q153.945 383.078 157.325 382.291 M155.612 374.907 Q155.612 377.592 157.279 379.097 Q158.968 380.601 162.001 380.601 Q165.01 380.601 166.7 379.097 Q168.413 377.592 168.413 374.907 Q168.413 372.222 166.7 370.717 Q165.01 369.212 162.001 369.212 Q158.968 369.212 157.279 370.717 Q155.612 372.222 155.612 374.907 Z\" fill=\"#000000\" fill-rule=\"evenodd\" fill-opacity=\"1\" /><path clip-path=\"url(#clip330)\" d=\"M 0 0 M126.931 136.817 L134.57 136.817 L134.57 110.451 L126.26 112.118 L126.26 107.859 L134.524 106.192 L139.2 106.192 L139.2 136.817 L146.839 136.817 L146.839 140.752 L126.931 140.752 L126.931 136.817 Z\" fill=\"#000000\" fill-rule=\"evenodd\" fill-opacity=\"1\" /><path clip-path=\"url(#clip330)\" d=\"M 0 0 M161.908 109.271 Q158.297 109.271 156.468 112.836 Q154.663 116.377 154.663 123.507 Q154.663 130.613 156.468 134.178 Q158.297 137.72 161.908 137.72 Q165.542 137.72 167.348 134.178 Q169.177 130.613 169.177 123.507 Q169.177 116.377 167.348 112.836 Q165.542 109.271 161.908 109.271 M161.908 105.567 Q167.718 105.567 170.774 110.174 Q173.852 114.757 173.852 123.507 Q173.852 132.234 170.774 136.84 Q167.718 141.423 161.908 141.423 Q156.098 141.423 153.019 136.84 Q149.964 132.234 149.964 123.507 Q149.964 114.757 153.019 110.174 Q156.098 105.567 161.908 105.567 Z\" fill=\"#000000\" fill-rule=\"evenodd\" fill-opacity=\"1\" /><path clip-path=\"url(#clip330)\" d=\"M 0 0 M830.981 20.1573 L819.881 50.2555 L842.121 50.2555 L830.981 20.1573 M826.363 12.096 L835.639 12.096 L858.689 72.576 L850.182 72.576 L844.673 57.061 L817.41 57.061 L811.901 72.576 L803.273 72.576 L826.363 12.096 Z\" fill=\"#000000\" fill-rule=\"evenodd\" fill-opacity=\"1\" /><path clip-path=\"url(#clip330)\" d=\"M 0 0 M904.221 45.1919 L904.221 72.576 L896.767 72.576 L896.767 45.4349 Q896.767 38.994 894.256 35.7938 Q891.744 32.5936 886.721 32.5936 Q880.685 32.5936 877.202 36.4419 Q873.718 40.2903 873.718 46.9338 L873.718 72.576 L866.224 72.576 L866.224 27.2059 L873.718 27.2059 L873.718 34.2544 Q876.391 30.163 879.997 28.1376 Q883.643 26.1121 888.382 26.1121 Q896.2 26.1121 900.211 30.9732 Q904.221 35.7938 904.221 45.1919 Z\" fill=\"#000000\" fill-rule=\"evenodd\" fill-opacity=\"1\" /><path clip-path=\"url(#clip330)\" d=\"M 0 0 M912.039 27.2059 L919.493 27.2059 L919.493 72.576 L912.039 72.576 L912.039 27.2059 M912.039 9.54393 L919.493 9.54393 L919.493 18.9825 L912.039 18.9825 L912.039 9.54393 Z\" fill=\"#000000\" fill-rule=\"evenodd\" fill-opacity=\"1\" /><path clip-path=\"url(#clip330)\" d=\"M 0 0 M962.635 35.9153 Q965.43 30.8922 969.319 28.5022 Q973.208 26.1121 978.474 26.1121 Q985.563 26.1121 989.412 31.0947 Q993.26 36.0368 993.26 45.1919 L993.26 72.576 L985.766 72.576 L985.766 45.4349 Q985.766 38.913 983.457 35.7533 Q981.148 32.5936 976.408 32.5936 Q970.615 32.5936 967.253 36.4419 Q963.891 40.2903 963.891 46.9338 L963.891 72.576 L956.397 72.576 L956.397 45.4349 Q956.397 38.8725 954.088 35.7533 Q951.779 32.5936 946.958 32.5936 Q941.246 32.5936 937.884 36.4824 Q934.522 40.3308 934.522 46.9338 L934.522 72.576 L927.028 72.576 L927.028 27.2059 L934.522 27.2059 L934.522 34.2544 Q937.074 30.082 940.639 28.0971 Q944.204 26.1121 949.105 26.1121 Q954.047 26.1121 957.491 28.6237 Q960.974 31.1352 962.635 35.9153 Z\" fill=\"#000000\" fill-rule=\"evenodd\" fill-opacity=\"1\" /><path clip-path=\"url(#clip330)\" d=\"M 0 0 M1021.7 49.7694 Q1012.66 49.7694 1009.18 51.8354 Q1005.7 53.9013 1005.7 58.8839 Q1005.7 62.8538 1008.29 65.2034 Q1010.92 67.5124 1015.42 67.5124 Q1021.62 67.5124 1025.34 63.1374 Q1029.11 58.7219 1029.11 51.4303 L1029.11 49.7694 L1021.7 49.7694 M1036.56 46.6907 L1036.56 72.576 L1029.11 72.576 L1029.11 65.6895 Q1026.56 69.8214 1022.75 71.8063 Q1018.94 73.7508 1013.43 73.7508 Q1006.47 73.7508 1002.33 69.8619 Q998.243 65.9325 998.243 59.3701 Q998.243 51.7138 1003.35 47.825 Q1008.49 43.9361 1018.66 43.9361 L1029.11 43.9361 L1029.11 43.2069 Q1029.11 38.0623 1025.71 35.2672 Q1022.35 32.4315 1016.23 32.4315 Q1012.34 32.4315 1008.65 33.3632 Q1004.97 34.295 1001.56 36.1584 L1001.56 29.2718 Q1005.66 27.692 1009.5 26.9223 Q1013.35 26.1121 1017 26.1121 Q1026.84 26.1121 1031.7 31.2163 Q1036.56 36.3204 1036.56 46.6907 Z\" fill=\"#000000\" fill-rule=\"evenodd\" fill-opacity=\"1\" /><path clip-path=\"url(#clip330)\" d=\"M 0 0 M1044.38 9.54393 L1051.84 9.54393 L1051.84 72.576 L1044.38 72.576 L1044.38 9.54393 Z\" fill=\"#000000\" fill-rule=\"evenodd\" fill-opacity=\"1\" /><path clip-path=\"url(#clip330)\" d=\"M 0 0 M1122.61 14.0809 L1122.61 22.0612 Q1117.95 19.8332 1113.81 18.7395 Q1109.68 17.6457 1105.83 17.6457 Q1099.15 17.6457 1095.5 20.2383 Q1091.9 22.8309 1091.9 27.611 Q1091.9 31.6214 1094.29 33.6873 Q1096.72 35.7128 1103.44 36.9686 L1108.39 37.9813 Q1117.54 39.7232 1121.88 44.1387 Q1126.25 48.5136 1126.25 55.8863 Q1126.25 64.6767 1120.34 69.2137 Q1114.46 73.7508 1103.08 73.7508 Q1098.79 73.7508 1093.92 72.7785 Q1089.1 71.8063 1083.92 69.9024 L1083.92 61.4765 Q1088.9 64.2716 1093.68 65.6895 Q1098.46 67.1073 1103.08 67.1073 Q1110.09 67.1073 1113.9 64.3527 Q1117.7 61.598 1117.7 56.4939 Q1117.7 52.0379 1114.95 49.5264 Q1112.24 47.0148 1106 45.759 L1101.01 44.7868 Q1091.86 42.9639 1087.77 39.075 Q1083.68 35.1862 1083.68 28.2591 Q1083.68 20.2383 1089.31 15.6203 Q1094.98 11.0023 1104.9 11.0023 Q1109.16 11.0023 1113.57 11.7719 Q1117.99 12.5416 1122.61 14.0809 Z\" fill=\"#000000\" fill-rule=\"evenodd\" fill-opacity=\"1\" /><path clip-path=\"url(#clip330)\" d=\"M 0 0 M1166.72 28.9478 L1166.72 35.9153 Q1163.56 34.1734 1160.36 33.3227 Q1157.2 32.4315 1153.96 32.4315 Q1146.71 32.4315 1142.7 37.0496 Q1138.69 41.6271 1138.69 49.9314 Q1138.69 58.2358 1142.7 62.8538 Q1146.71 67.4314 1153.96 67.4314 Q1157.2 67.4314 1160.36 66.5807 Q1163.56 65.6895 1166.72 63.9476 L1166.72 70.8341 Q1163.6 72.2924 1160.24 73.0216 Q1156.92 73.7508 1153.15 73.7508 Q1142.9 73.7508 1136.86 67.3098 Q1130.83 60.8689 1130.83 49.9314 Q1130.83 38.832 1136.91 32.472 Q1143.02 26.1121 1153.64 26.1121 Q1157.08 26.1121 1160.36 26.8413 Q1163.64 27.5299 1166.72 28.9478 Z\" fill=\"#000000\" fill-rule=\"evenodd\" fill-opacity=\"1\" /><path clip-path=\"url(#clip330)\" d=\"M 0 0 M1174.54 27.2059 L1181.99 27.2059 L1181.99 72.576 L1174.54 72.576 L1174.54 27.2059 M1174.54 9.54393 L1181.99 9.54393 L1181.99 18.9825 L1174.54 18.9825 L1174.54 9.54393 Z\" fill=\"#000000\" fill-rule=\"evenodd\" fill-opacity=\"1\" /><path clip-path=\"url(#clip330)\" d=\"M 0 0 M1228.62 48.0275 L1228.62 51.6733 L1194.35 51.6733 Q1194.83 59.3701 1198.96 63.421 Q1203.14 67.4314 1210.55 67.4314 Q1214.84 67.4314 1218.85 66.3781 Q1222.91 65.3249 1226.88 63.2184 L1226.88 70.267 Q1222.87 71.9684 1218.65 72.8596 Q1214.44 73.7508 1210.1 73.7508 Q1199.25 73.7508 1192.89 67.4314 Q1186.57 61.1119 1186.57 50.3365 Q1186.57 39.1965 1192.56 32.6746 Q1198.6 26.1121 1208.81 26.1121 Q1217.96 26.1121 1223.27 32.0264 Q1228.62 37.9003 1228.62 48.0275 M1221.16 45.84 Q1221.08 39.7232 1217.72 36.0774 Q1214.4 32.4315 1208.89 32.4315 Q1202.65 32.4315 1198.88 35.9558 Q1195.16 39.4801 1194.59 45.8805 L1221.16 45.84 Z\" fill=\"#000000\" fill-rule=\"evenodd\" fill-opacity=\"1\" /><path clip-path=\"url(#clip330)\" d=\"M 0 0 M1274.15 45.1919 L1274.15 72.576 L1266.7 72.576 L1266.7 45.4349 Q1266.7 38.994 1264.18 35.7938 Q1261.67 32.5936 1256.65 32.5936 Q1250.61 32.5936 1247.13 36.4419 Q1243.65 40.2903 1243.65 46.9338 L1243.65 72.576 L1236.15 72.576 L1236.15 27.2059 L1243.65 27.2059 L1243.65 34.2544 Q1246.32 30.163 1249.93 28.1376 Q1253.57 26.1121 1258.31 26.1121 Q1266.13 26.1121 1270.14 30.9732 Q1274.15 35.7938 1274.15 45.1919 Z\" fill=\"#000000\" fill-rule=\"evenodd\" fill-opacity=\"1\" /><path clip-path=\"url(#clip330)\" d=\"M 0 0 M1314.62 28.9478 L1314.62 35.9153 Q1311.46 34.1734 1308.26 33.3227 Q1305.1 32.4315 1301.86 32.4315 Q1294.61 32.4315 1290.6 37.0496 Q1286.59 41.6271 1286.59 49.9314 Q1286.59 58.2358 1290.6 62.8538 Q1294.61 67.4314 1301.86 67.4314 Q1305.1 67.4314 1308.26 66.5807 Q1311.46 65.6895 1314.62 63.9476 L1314.62 70.8341 Q1311.5 72.2924 1308.14 73.0216 Q1304.82 73.7508 1301.05 73.7508 Q1290.8 73.7508 1284.76 67.3098 Q1278.73 60.8689 1278.73 49.9314 Q1278.73 38.832 1284.8 32.472 Q1290.92 26.1121 1301.53 26.1121 Q1304.98 26.1121 1308.26 26.8413 Q1311.54 27.5299 1314.62 28.9478 Z\" fill=\"#000000\" fill-rule=\"evenodd\" fill-opacity=\"1\" /><path clip-path=\"url(#clip330)\" d=\"M 0 0 M1361.24 48.0275 L1361.24 51.6733 L1326.97 51.6733 Q1327.46 59.3701 1331.59 63.421 Q1335.76 67.4314 1343.18 67.4314 Q1347.47 67.4314 1351.48 66.3781 Q1355.53 65.3249 1359.5 63.2184 L1359.5 70.267 Q1355.49 71.9684 1351.28 72.8596 Q1347.07 73.7508 1342.73 73.7508 Q1331.88 73.7508 1325.52 67.4314 Q1319.2 61.1119 1319.2 50.3365 Q1319.2 39.1965 1325.19 32.6746 Q1331.23 26.1121 1341.44 26.1121 Q1350.59 26.1121 1355.9 32.0264 Q1361.24 37.9003 1361.24 48.0275 M1353.79 45.84 Q1353.71 39.7232 1350.35 36.0774 Q1347.03 32.4315 1341.52 32.4315 Q1335.28 32.4315 1331.51 35.9558 Q1327.78 39.4801 1327.22 45.8805 L1353.79 45.84 Z\" fill=\"#000000\" fill-rule=\"evenodd\" fill-opacity=\"1\" /><path clip-path=\"url(#clip330)\" d=\"M 0 0 M1403.94 18.8205 L1403.94 41.5461 L1414.23 41.5461 Q1419.94 41.5461 1423.06 38.5889 Q1426.18 35.6318 1426.18 30.163 Q1426.18 24.7348 1423.06 21.7777 Q1419.94 18.8205 1414.23 18.8205 L1403.94 18.8205 M1395.76 12.096 L1414.23 12.096 Q1424.4 12.096 1429.58 16.714 Q1434.81 21.2916 1434.81 30.163 Q1434.81 39.1155 1429.58 43.6931 Q1424.4 48.2706 1414.23 48.2706 L1403.94 48.2706 L1403.94 72.576 L1395.76 72.576 L1395.76 12.096 Z\" fill=\"#000000\" fill-rule=\"evenodd\" fill-opacity=\"1\" /><path clip-path=\"url(#clip330)\" d=\"M 0 0 M1467.46 34.1734 Q1466.2 33.4443 1464.7 33.1202 Q1463.25 32.7556 1461.46 32.7556 Q1455.14 32.7556 1451.74 36.8875 Q1448.38 40.9789 1448.38 48.6757 L1448.38 72.576 L1440.88 72.576 L1440.88 27.2059 L1448.38 27.2059 L1448.38 34.2544 Q1450.73 30.1225 1454.5 28.1376 Q1458.26 26.1121 1463.65 26.1121 Q1464.42 26.1121 1465.35 26.2337 Q1466.28 26.3147 1467.42 26.5172 L1467.46 34.1734 Z\" fill=\"#000000\" fill-rule=\"evenodd\" fill-opacity=\"1\" /><path clip-path=\"url(#clip330)\" d=\"M 0 0 M1491.04 32.4315 Q1485.04 32.4315 1481.56 37.1306 Q1478.07 41.7891 1478.07 49.9314 Q1478.07 58.0738 1481.52 62.7728 Q1485 67.4314 1491.04 67.4314 Q1496.99 67.4314 1500.47 62.7323 Q1503.96 58.0333 1503.96 49.9314 Q1503.96 41.8701 1500.47 37.1711 Q1496.99 32.4315 1491.04 32.4315 M1491.04 26.1121 Q1500.76 26.1121 1506.31 32.4315 Q1511.86 38.7509 1511.86 49.9314 Q1511.86 61.0714 1506.31 67.4314 Q1500.76 73.7508 1491.04 73.7508 Q1481.27 73.7508 1475.72 67.4314 Q1470.21 61.0714 1470.21 49.9314 Q1470.21 38.7509 1475.72 32.4315 Q1481.27 26.1121 1491.04 26.1121 Z\" fill=\"#000000\" fill-rule=\"evenodd\" fill-opacity=\"1\" /><path clip-path=\"url(#clip330)\" d=\"M 0 0 M1549.53 49.3643 Q1549.53 41.2625 1546.17 36.8065 Q1542.85 32.3505 1536.81 32.3505 Q1530.81 32.3505 1527.45 36.8065 Q1524.13 41.2625 1524.13 49.3643 Q1524.13 57.4256 1527.45 61.8816 Q1530.81 66.3376 1536.81 66.3376 Q1542.85 66.3376 1546.17 61.8816 Q1549.53 57.4256 1549.53 49.3643 M1556.98 66.9452 Q1556.98 78.5308 1551.84 84.1616 Q1546.69 89.8329 1536.08 89.8329 Q1532.15 89.8329 1528.67 89.2252 Q1525.18 88.6581 1521.9 87.4428 L1521.9 80.1917 Q1525.18 81.9741 1528.38 82.8248 Q1531.58 83.6755 1534.91 83.6755 Q1542.24 83.6755 1545.88 79.8271 Q1549.53 76.0193 1549.53 68.282 L1549.53 64.5957 Q1547.22 68.6061 1543.62 70.5911 Q1540.01 72.576 1534.99 72.576 Q1526.64 72.576 1521.54 66.2161 Q1516.43 59.8562 1516.43 49.3643 Q1516.43 38.832 1521.54 32.472 Q1526.64 26.1121 1534.99 26.1121 Q1540.01 26.1121 1543.62 28.0971 Q1547.22 30.082 1549.53 34.0924 L1549.53 27.2059 L1556.98 27.2059 L1556.98 66.9452 Z\" fill=\"#000000\" fill-rule=\"evenodd\" fill-opacity=\"1\" /><path clip-path=\"url(#clip330)\" d=\"M 0 0 M1591.09 34.1734 Q1589.84 33.4443 1588.34 33.1202 Q1586.88 32.7556 1585.1 32.7556 Q1578.78 32.7556 1575.37 36.8875 Q1572.01 40.9789 1572.01 48.6757 L1572.01 72.576 L1564.52 72.576 L1564.52 27.2059 L1572.01 27.2059 L1572.01 34.2544 Q1574.36 30.1225 1578.13 28.1376 Q1581.9 26.1121 1587.28 26.1121 Q1588.05 26.1121 1588.99 26.2337 Q1589.92 26.3147 1591.05 26.5172 L1591.09 34.1734 Z\" fill=\"#000000\" fill-rule=\"evenodd\" fill-opacity=\"1\" /><path clip-path=\"url(#clip330)\" d=\"M 0 0 M1619.53 49.7694 Q1610.5 49.7694 1607.01 51.8354 Q1603.53 53.9013 1603.53 58.8839 Q1603.53 62.8538 1606.12 65.2034 Q1608.75 67.5124 1613.25 67.5124 Q1619.45 67.5124 1623.18 63.1374 Q1626.94 58.7219 1626.94 51.4303 L1626.94 49.7694 L1619.53 49.7694 M1634.4 46.6907 L1634.4 72.576 L1626.94 72.576 L1626.94 65.6895 Q1624.39 69.8214 1620.58 71.8063 Q1616.78 73.7508 1611.27 73.7508 Q1604.3 73.7508 1600.17 69.8619 Q1596.08 65.9325 1596.08 59.3701 Q1596.08 51.7138 1601.18 47.825 Q1606.32 43.9361 1616.49 43.9361 L1626.94 43.9361 L1626.94 43.2069 Q1626.94 38.0623 1623.54 35.2672 Q1620.18 32.4315 1614.06 32.4315 Q1610.17 32.4315 1606.49 33.3632 Q1602.8 34.295 1599.4 36.1584 L1599.4 29.2718 Q1603.49 27.692 1607.34 26.9223 Q1611.18 26.1121 1614.83 26.1121 Q1624.67 26.1121 1629.54 31.2163 Q1634.4 36.3204 1634.4 46.6907 Z\" fill=\"#000000\" fill-rule=\"evenodd\" fill-opacity=\"1\" /><path clip-path=\"url(#clip330)\" d=\"M 0 0 M1677.54 35.9153 Q1680.33 30.8922 1684.22 28.5022 Q1688.11 26.1121 1693.38 26.1121 Q1700.47 26.1121 1704.32 31.0947 Q1708.16 36.0368 1708.16 45.1919 L1708.16 72.576 L1700.67 72.576 L1700.67 45.4349 Q1700.67 38.913 1698.36 35.7533 Q1696.05 32.5936 1691.31 32.5936 Q1685.52 32.5936 1682.16 36.4419 Q1678.79 40.2903 1678.79 46.9338 L1678.79 72.576 L1671.3 72.576 L1671.3 45.4349 Q1671.3 38.8725 1668.99 35.7533 Q1666.68 32.5936 1661.86 32.5936 Q1656.15 32.5936 1652.79 36.4824 Q1649.43 40.3308 1649.43 46.9338 L1649.43 72.576 L1641.93 72.576 L1641.93 27.2059 L1649.43 27.2059 L1649.43 34.2544 Q1651.98 30.082 1655.54 28.0971 Q1659.11 26.1121 1664.01 26.1121 Q1668.95 26.1121 1672.39 28.6237 Q1675.88 31.1352 1677.54 35.9153 Z\" fill=\"#000000\" fill-rule=\"evenodd\" fill-opacity=\"1\" /><path clip-path=\"url(#clip330)\" d=\"M 0 0 M1744.91 28.5427 L1744.91 35.5912 Q1741.75 33.9709 1738.34 33.1607 Q1734.94 32.3505 1731.29 32.3505 Q1725.74 32.3505 1722.95 34.0519 Q1720.19 35.7533 1720.19 39.156 Q1720.19 41.7486 1722.18 43.2475 Q1724.16 44.7058 1730.16 46.0426 L1732.71 46.6097 Q1740.65 48.3111 1743.97 51.4303 Q1747.34 54.509 1747.34 60.0587 Q1747.34 66.3781 1742.31 70.0644 Q1737.33 73.7508 1728.58 73.7508 Q1724.93 73.7508 1720.96 73.0216 Q1717.04 72.3329 1712.66 70.9151 L1712.66 63.2184 Q1716.79 65.3654 1720.8 66.4591 Q1724.81 67.5124 1728.74 67.5124 Q1734.01 67.5124 1736.84 65.73 Q1739.68 63.9071 1739.68 60.6258 Q1739.68 57.5877 1737.61 55.9673 Q1735.59 54.3469 1728.66 52.8481 L1726.07 52.2405 Q1719.14 50.7821 1716.06 47.7845 Q1712.98 44.7463 1712.98 39.4801 Q1712.98 33.0797 1717.52 29.5959 Q1722.06 26.1121 1730.4 26.1121 Q1734.53 26.1121 1738.18 26.7198 Q1741.83 27.3274 1744.91 28.5427 Z\" fill=\"#000000\" fill-rule=\"evenodd\" fill-opacity=\"1\" /><path clip-path=\"url(#clip330)\" d=\"M 0 0 M1145.08 1521.76 L1145.08 1527.24 Q1142.6 1525.87 1140.08 1525.2 Q1137.6 1524.5 1135.05 1524.5 Q1129.35 1524.5 1126.2 1528.13 Q1123.05 1531.73 1123.05 1538.25 Q1123.05 1544.78 1126.2 1548.4 Q1129.35 1552 1135.05 1552 Q1137.6 1552 1140.08 1551.33 Q1142.6 1550.63 1145.08 1549.26 L1145.08 1554.68 Q1142.63 1555.82 1139.99 1556.39 Q1137.38 1556.97 1134.42 1556.97 Q1126.36 1556.97 1121.62 1551.91 Q1116.88 1546.85 1116.88 1538.25 Q1116.88 1529.53 1121.65 1524.53 Q1126.46 1519.54 1134.8 1519.54 Q1137.5 1519.54 1140.08 1520.11 Q1142.66 1520.65 1145.08 1521.76 Z\" fill=\"#000000\" fill-rule=\"evenodd\" fill-opacity=\"1\" /><path clip-path=\"url(#clip330)\" d=\"M 0 0 M1165.03 1524.5 Q1160.32 1524.5 1157.59 1528.19 Q1154.85 1531.85 1154.85 1538.25 Q1154.85 1544.65 1157.55 1548.34 Q1160.29 1552 1165.03 1552 Q1169.71 1552 1172.45 1548.31 Q1175.19 1544.62 1175.19 1538.25 Q1175.19 1531.92 1172.45 1528.23 Q1169.71 1524.5 1165.03 1524.5 M1165.03 1519.54 Q1172.67 1519.54 1177.03 1524.5 Q1181.39 1529.47 1181.39 1538.25 Q1181.39 1547 1177.03 1552 Q1172.67 1556.97 1165.03 1556.97 Q1157.36 1556.97 1153 1552 Q1148.67 1547 1148.67 1538.25 Q1148.67 1529.47 1153 1524.5 Q1157.36 1519.54 1165.03 1519.54 Z\" fill=\"#000000\" fill-rule=\"evenodd\" fill-opacity=\"1\" /><path clip-path=\"url(#clip330)\" d=\"M 0 0 M1215.29 1527.24 Q1217.49 1523.29 1220.54 1521.41 Q1223.6 1519.54 1227.74 1519.54 Q1233.31 1519.54 1236.33 1523.45 Q1239.35 1527.33 1239.35 1534.53 L1239.35 1556.04 L1233.47 1556.04 L1233.47 1534.72 Q1233.47 1529.59 1231.65 1527.11 Q1229.84 1524.63 1226.11 1524.63 Q1221.56 1524.63 1218.92 1527.65 Q1216.28 1530.68 1216.28 1535.9 L1216.28 1556.04 L1210.39 1556.04 L1210.39 1534.72 Q1210.39 1529.56 1208.58 1527.11 Q1206.76 1524.63 1202.97 1524.63 Q1198.49 1524.63 1195.84 1527.68 Q1193.2 1530.71 1193.2 1535.9 L1193.2 1556.04 L1187.31 1556.04 L1187.31 1520.4 L1193.2 1520.4 L1193.2 1525.93 Q1195.21 1522.66 1198.01 1521.1 Q1200.81 1519.54 1204.66 1519.54 Q1208.54 1519.54 1211.25 1521.51 Q1213.99 1523.48 1215.29 1527.24 Z\" fill=\"#000000\" fill-rule=\"evenodd\" fill-opacity=\"1\" /><path clip-path=\"url(#clip330)\" d=\"M 0 0 M1251.16 1550.7 L1251.16 1569.6 L1245.27 1569.6 L1245.27 1520.4 L1251.16 1520.4 L1251.16 1525.81 Q1253.01 1522.62 1255.81 1521.1 Q1258.64 1519.54 1262.56 1519.54 Q1269.05 1519.54 1273.09 1524.69 Q1277.17 1529.85 1277.17 1538.25 Q1277.17 1546.65 1273.09 1551.81 Q1269.05 1556.97 1262.56 1556.97 Q1258.64 1556.97 1255.81 1555.44 Q1253.01 1553.88 1251.16 1550.7 M1271.09 1538.25 Q1271.09 1531.79 1268.41 1528.13 Q1265.77 1524.44 1261.12 1524.44 Q1256.48 1524.44 1253.8 1528.13 Q1251.16 1531.79 1251.16 1538.25 Q1251.16 1544.71 1253.8 1548.4 Q1256.48 1552.07 1261.12 1552.07 Q1265.77 1552.07 1268.41 1548.4 Q1271.09 1544.71 1271.09 1538.25 Z\" fill=\"#000000\" fill-rule=\"evenodd\" fill-opacity=\"1\" /><path clip-path=\"url(#clip330)\" d=\"M 0 0 M1283.31 1506.52 L1289.17 1506.52 L1289.17 1556.04 L1283.31 1556.04 L1283.31 1506.52 Z\" fill=\"#000000\" fill-rule=\"evenodd\" fill-opacity=\"1\" /><path clip-path=\"url(#clip330)\" d=\"M 0 0 M1325.8 1536.76 L1325.8 1539.62 L1298.87 1539.62 Q1299.26 1545.67 1302.5 1548.85 Q1305.78 1552 1311.6 1552 Q1314.98 1552 1318.13 1551.17 Q1321.31 1550.35 1324.43 1548.69 L1324.43 1554.23 Q1321.28 1555.57 1317.97 1556.27 Q1314.66 1556.97 1311.25 1556.97 Q1302.72 1556.97 1297.73 1552 Q1292.76 1547.04 1292.76 1538.57 Q1292.76 1529.82 1297.47 1524.69 Q1302.22 1519.54 1310.24 1519.54 Q1317.43 1519.54 1321.6 1524.18 Q1325.8 1528.8 1325.8 1536.76 M1319.94 1535.04 Q1319.88 1530.23 1317.24 1527.37 Q1314.63 1524.5 1310.3 1524.5 Q1305.4 1524.5 1302.44 1527.27 Q1299.51 1530.04 1299.06 1535.07 L1319.94 1535.04 Z\" fill=\"#000000\" fill-rule=\"evenodd\" fill-opacity=\"1\" /><path clip-path=\"url(#clip330)\" d=\"M 0 0 M1360.43 1520.4 L1347.54 1537.74 L1361.1 1556.04 L1354.19 1556.04 L1343.82 1542.04 L1333.44 1556.04 L1326.53 1556.04 L1340.38 1537.39 L1327.71 1520.4 L1334.62 1520.4 L1344.07 1533.1 L1353.52 1520.4 L1360.43 1520.4 Z\" fill=\"#000000\" fill-rule=\"evenodd\" fill-opacity=\"1\" /><path clip-path=\"url(#clip330)\" d=\"M 0 0 M1367.24 1520.4 L1373.1 1520.4 L1373.1 1556.04 L1367.24 1556.04 L1367.24 1520.4 M1367.24 1506.52 L1373.1 1506.52 L1373.1 1513.93 L1367.24 1513.93 L1367.24 1506.52 Z\" fill=\"#000000\" fill-rule=\"evenodd\" fill-opacity=\"1\" /><path clip-path=\"url(#clip330)\" d=\"M 0 0 M1385.03 1510.27 L1385.03 1520.4 L1397.1 1520.4 L1397.1 1524.95 L1385.03 1524.95 L1385.03 1544.3 Q1385.03 1548.66 1386.21 1549.9 Q1387.42 1551.14 1391.08 1551.14 L1397.1 1551.14 L1397.1 1556.04 L1391.08 1556.04 Q1384.3 1556.04 1381.72 1553.53 Q1379.14 1550.98 1379.14 1544.3 L1379.14 1524.95 L1374.85 1524.95 L1374.85 1520.4 L1379.14 1520.4 L1379.14 1510.27 L1385.03 1510.27 Z\" fill=\"#000000\" fill-rule=\"evenodd\" fill-opacity=\"1\" /><path clip-path=\"url(#clip330)\" d=\"M 0 0 M1418.07 1559.35 Q1415.59 1565.72 1413.23 1567.66 Q1410.88 1569.6 1406.93 1569.6 L1402.25 1569.6 L1402.25 1564.7 L1405.69 1564.7 Q1408.11 1564.7 1409.45 1563.56 Q1410.78 1562.41 1412.41 1558.14 L1413.46 1555.47 L1399.04 1520.4 L1405.24 1520.4 L1416.38 1548.28 L1427.52 1520.4 L1433.73 1520.4 L1418.07 1559.35 Z\" fill=\"#000000\" fill-rule=\"evenodd\" fill-opacity=\"1\" /><path clip-path=\"url(#clip330)\" d=\"M 0 0 M59.3266 940.728 L59.3266 949.99 L69.9574 952.664 L69.9574 943.338 L59.3266 940.728 M41.2162 945.502 L54.4251 948.813 L54.4251 939.519 L41.2162 936.177 L41.2162 931.084 L54.4251 934.362 L54.4251 924.432 L59.3266 924.432 L59.3266 935.604 L69.9574 938.214 L69.9574 928.092 L74.8271 928.092 L74.8271 939.455 L88.0042 942.765 L88.0042 947.858 L74.8271 944.579 L74.8271 953.905 L88.0042 957.184 L88.0042 962.308 L74.8271 958.998 L74.8271 969.024 L69.9574 969.024 L69.9574 957.82 L59.3266 955.146 L59.3266 965.395 L54.4251 965.395 L54.4251 953.905 L41.2162 950.659 L41.2162 945.502 Z\" fill=\"#000000\" fill-rule=\"evenodd\" fill-opacity=\"1\" /><path clip-path=\"url(#clip330)\" d=\"M 0 0 M56.4621 883.755 Q56.4621 888.466 60.1542 891.203 Q63.8145 893.94 70.212 893.94 Q76.6095 893.94 80.3017 891.235 Q83.9619 888.498 83.9619 883.755 Q83.9619 879.076 80.2698 876.339 Q76.5777 873.602 70.212 873.602 Q63.8781 873.602 60.186 876.339 Q56.4621 879.076 56.4621 883.755 M51.4968 883.755 Q51.4968 876.116 56.4621 871.756 Q61.4273 867.395 70.212 867.395 Q78.9649 867.395 83.9619 871.756 Q88.9272 876.116 88.9272 883.755 Q88.9272 891.426 83.9619 895.786 Q78.9649 900.115 70.212 900.115 Q61.4273 900.115 56.4621 895.786 Q51.4968 891.426 51.4968 883.755 Z\" fill=\"#000000\" fill-rule=\"evenodd\" fill-opacity=\"1\" /><path clip-path=\"url(#clip330)\" d=\"M 0 0 M38.479 843.206 L43.3487 843.206 L43.3487 848.807 Q43.3487 851.958 44.6219 853.2 Q45.895 854.409 49.2052 854.409 L52.3562 854.409 L52.3562 844.765 L56.9077 844.765 L56.9077 854.409 L88.0042 854.409 L88.0042 860.297 L56.9077 860.297 L56.9077 865.899 L52.3562 865.899 L52.3562 860.297 L49.8736 860.297 Q43.9216 860.297 41.2162 857.528 Q38.479 854.759 38.479 848.744 L38.479 843.206 Z\" fill=\"#000000\" fill-rule=\"evenodd\" fill-opacity=\"1\" /><path clip-path=\"url(#clip330)\" d=\"M 0 0 M53.7248 790.688 L59.1993 790.688 Q57.8307 793.171 57.1623 795.686 Q56.4621 798.168 56.4621 800.714 Q56.4621 806.412 60.0905 809.563 Q63.6872 812.714 70.212 812.714 Q76.7369 812.714 80.3653 809.563 Q83.9619 806.412 83.9619 800.714 Q83.9619 798.168 83.2935 795.686 Q82.5933 793.171 81.2247 790.688 L86.6355 790.688 Q87.7814 793.139 88.3543 795.781 Q88.9272 798.391 88.9272 801.351 Q88.9272 809.404 83.8664 814.146 Q78.8057 818.889 70.212 818.889 Q61.491 818.889 56.4939 814.114 Q51.4968 809.308 51.4968 800.969 Q51.4968 798.264 52.0697 795.686 Q52.6108 793.107 53.7248 790.688 Z\" fill=\"#000000\" fill-rule=\"evenodd\" fill-opacity=\"1\" /><path clip-path=\"url(#clip330)\" d=\"M 0 0 M73.9359 785.15 L52.3562 785.15 L52.3562 779.294 L73.7131 779.294 Q78.7739 779.294 81.3202 777.32 Q83.8346 775.347 83.8346 771.4 Q83.8346 766.658 80.8109 763.921 Q77.7872 761.152 72.5673 761.152 L52.3562 761.152 L52.3562 755.295 L88.0042 755.295 L88.0042 761.152 L82.5296 761.152 Q85.7762 763.284 87.3676 766.117 Q88.9272 768.918 88.9272 772.642 Q88.9272 778.785 85.1078 781.967 Q81.2883 785.15 73.9359 785.15 M51.4968 770.414 L51.4968 770.414 Z\" fill=\"#000000\" fill-rule=\"evenodd\" fill-opacity=\"1\" /><path clip-path=\"url(#clip330)\" d=\"M 0 0 M57.8307 728.495 Q57.2578 729.482 57.0032 730.66 Q56.7167 731.806 56.7167 733.206 Q56.7167 738.171 59.9632 740.845 Q63.1779 743.487 69.2253 743.487 L88.0042 743.487 L88.0042 749.375 L52.3562 749.375 L52.3562 743.487 L57.8944 743.487 Q54.6479 741.641 53.0883 738.681 Q51.4968 735.721 51.4968 731.487 Q51.4968 730.883 51.5923 730.151 Q51.656 729.419 51.8151 728.527 L57.8307 728.495 Z\" fill=\"#000000\" fill-rule=\"evenodd\" fill-opacity=\"1\" /><path clip-path=\"url(#clip330)\" d=\"M 0 0 M57.8307 702.842 Q57.2578 703.828 57.0032 705.006 Q56.7167 706.152 56.7167 707.552 Q56.7167 712.518 59.9632 715.191 Q63.1779 717.833 69.2253 717.833 L88.0042 717.833 L88.0042 723.721 L52.3562 723.721 L52.3562 717.833 L57.8944 717.833 Q54.6479 715.987 53.0883 713.027 Q51.4968 710.067 51.4968 705.834 Q51.4968 705.229 51.5923 704.497 Q51.656 703.765 51.8151 702.874 L57.8307 702.842 Z\" fill=\"#000000\" fill-rule=\"evenodd\" fill-opacity=\"1\" /><path clip-path=\"url(#clip330)\" d=\"M 0 0 M52.3562 696.699 L52.3562 690.842 L88.0042 690.842 L88.0042 696.699 L52.3562 696.699 M38.479 696.699 L38.479 690.842 L45.895 690.842 L45.895 696.699 L38.479 696.699 Z\" fill=\"#000000\" fill-rule=\"evenodd\" fill-opacity=\"1\" /><path clip-path=\"url(#clip330)\" d=\"M 0 0 M53.7248 659.046 L59.1993 659.046 Q57.8307 661.528 57.1623 664.043 Q56.4621 666.525 56.4621 669.072 Q56.4621 674.769 60.0905 677.92 Q63.6872 681.071 70.212 681.071 Q76.7369 681.071 80.3653 677.92 Q83.9619 674.769 83.9619 669.072 Q83.9619 666.525 83.2935 664.043 Q82.5933 661.528 81.2247 659.046 L86.6355 659.046 Q87.7814 661.496 88.3543 664.138 Q88.9272 666.748 88.9272 669.708 Q88.9272 677.761 83.8664 682.503 Q78.8057 687.246 70.212 687.246 Q61.491 687.246 56.4939 682.471 Q51.4968 677.665 51.4968 669.326 Q51.4968 666.621 52.0697 664.043 Q52.6108 661.465 53.7248 659.046 Z\" fill=\"#000000\" fill-rule=\"evenodd\" fill-opacity=\"1\" /><path clip-path=\"url(#clip330)\" d=\"M 0 0 M73.9359 653.507 L52.3562 653.507 L52.3562 647.651 L73.7131 647.651 Q78.7739 647.651 81.3202 645.678 Q83.8346 643.704 83.8346 639.758 Q83.8346 635.015 80.8109 632.278 Q77.7872 629.509 72.5673 629.509 L52.3562 629.509 L52.3562 623.652 L88.0042 623.652 L88.0042 629.509 L82.5296 629.509 Q85.7762 631.641 87.3676 634.474 Q88.9272 637.275 88.9272 640.999 Q88.9272 647.142 85.1078 650.325 Q81.2883 653.507 73.9359 653.507 M51.4968 638.771 L51.4968 638.771 Z\" fill=\"#000000\" fill-rule=\"evenodd\" fill-opacity=\"1\" /><path clip-path=\"url(#clip330)\" d=\"M 0 0 M38.479 617.509 L38.479 611.653 L88.0042 611.653 L88.0042 617.509 L38.479 617.509 Z\" fill=\"#000000\" fill-rule=\"evenodd\" fill-opacity=\"1\" /><path clip-path=\"url(#clip330)\" d=\"M 0 0 M70.0847 589.309 Q70.0847 596.407 71.7079 599.144 Q73.3312 601.882 77.2461 601.882 Q80.3653 601.882 82.2114 599.845 Q84.0256 597.776 84.0256 594.243 Q84.0256 589.373 80.5881 586.445 Q77.1188 583.485 71.3897 583.485 L70.0847 583.485 L70.0847 589.309 M67.6657 577.628 L88.0042 577.628 L88.0042 583.485 L82.5933 583.485 Q85.8398 585.49 87.3994 588.482 Q88.9272 591.474 88.9272 595.802 Q88.9272 601.277 85.8716 604.523 Q82.7843 607.738 77.6281 607.738 Q71.6125 607.738 68.5569 603.728 Q65.5014 599.685 65.5014 591.696 L65.5014 583.485 L64.9285 583.485 Q60.8862 583.485 58.6901 586.158 Q56.4621 588.8 56.4621 593.606 Q56.4621 596.662 57.1941 599.558 Q57.9262 602.455 59.3903 605.128 L53.9795 605.128 Q52.7381 601.913 52.1334 598.89 Q51.4968 595.866 51.4968 593.001 Q51.4968 585.267 55.5072 581.448 Q59.5176 577.628 67.6657 577.628 Z\" fill=\"#000000\" fill-rule=\"evenodd\" fill-opacity=\"1\" /><path clip-path=\"url(#clip332)\" d=\"\n",
       "M413.343 903.297 L413.343 1423.18 L628.833 1423.18 L628.833 903.297 L413.343 903.297 L413.343 903.297  Z\n",
       "  \" fill=\"#1874cd\" fill-rule=\"evenodd\" fill-opacity=\"0.7\"/>\n",
       "<polyline clip-path=\"url(#clip332)\" style=\"stroke:#000000; stroke-width:4; stroke-opacity:0.7; fill:none\" points=\"\n",
       "  413.343,903.297 413.343,1423.18 628.833,1423.18 628.833,903.297 413.343,903.297 \n",
       "  \"/>\n",
       "<path clip-path=\"url(#clip332)\" d=\"\n",
       "M628.833 383.414 L628.833 1423.18 L844.324 1423.18 L844.324 383.414 L628.833 383.414 L628.833 383.414  Z\n",
       "  \" fill=\"#1874cd\" fill-rule=\"evenodd\" fill-opacity=\"0.7\"/>\n",
       "<polyline clip-path=\"url(#clip332)\" style=\"stroke:#000000; stroke-width:4; stroke-opacity:0.7; fill:none\" points=\"\n",
       "  628.833,383.414 628.833,1423.18 844.324,1423.18 844.324,383.414 628.833,383.414 \n",
       "  \"/>\n",
       "<path clip-path=\"url(#clip332)\" d=\"\n",
       "M844.324 643.355 L844.324 1423.18 L1059.81 1423.18 L1059.81 643.355 L844.324 643.355 L844.324 643.355  Z\n",
       "  \" fill=\"#1874cd\" fill-rule=\"evenodd\" fill-opacity=\"0.7\"/>\n",
       "<polyline clip-path=\"url(#clip332)\" style=\"stroke:#000000; stroke-width:4; stroke-opacity:0.7; fill:none\" points=\"\n",
       "  844.324,643.355 844.324,1423.18 1059.81,1423.18 1059.81,643.355 844.324,643.355 \n",
       "  \"/>\n",
       "<path clip-path=\"url(#clip332)\" d=\"\n",
       "M1059.81 1293.21 L1059.81 1423.18 L1275.3 1423.18 L1275.3 1293.21 L1059.81 1293.21 L1059.81 1293.21  Z\n",
       "  \" fill=\"#1874cd\" fill-rule=\"evenodd\" fill-opacity=\"0.7\"/>\n",
       "<polyline clip-path=\"url(#clip332)\" style=\"stroke:#000000; stroke-width:4; stroke-opacity:0.7; fill:none\" points=\"\n",
       "  1059.81,1293.21 1059.81,1423.18 1275.3,1423.18 1275.3,1293.21 1059.81,1293.21 \n",
       "  \"/>\n",
       "<path clip-path=\"url(#clip332)\" d=\"\n",
       "M1275.3 1423.18 L1275.3 1423.18 L1490.79 1423.18 L1490.79 1423.18 L1275.3 1423.18 L1275.3 1423.18  Z\n",
       "  \" fill=\"#1874cd\" fill-rule=\"evenodd\" fill-opacity=\"0.7\"/>\n",
       "<polyline clip-path=\"url(#clip332)\" style=\"stroke:#000000; stroke-width:4; stroke-opacity:0.7; fill:none\" points=\"\n",
       "  1275.3,1423.18 1275.3,1423.18 1490.79,1423.18 1275.3,1423.18 \n",
       "  \"/>\n",
       "<path clip-path=\"url(#clip332)\" d=\"\n",
       "M1490.79 1293.21 L1490.79 1423.18 L1706.28 1423.18 L1706.28 1293.21 L1490.79 1293.21 L1490.79 1293.21  Z\n",
       "  \" fill=\"#1874cd\" fill-rule=\"evenodd\" fill-opacity=\"0.7\"/>\n",
       "<polyline clip-path=\"url(#clip332)\" style=\"stroke:#000000; stroke-width:4; stroke-opacity:0.7; fill:none\" points=\"\n",
       "  1490.79,1293.21 1490.79,1423.18 1706.28,1423.18 1706.28,1293.21 1490.79,1293.21 \n",
       "  \"/>\n",
       "</svg>\n"
      ]
     },
     "metadata": {},
     "output_type": "display_data"
    },
    {
     "name": "stdout",
     "output_type": "stream",
     "text": [
      "****** Mechanical Engineering Programs ******\n",
      "\n",
      " Metric -- complexity\n",
      "  Number of curricula = 11\n",
      "  Mean = 333.3636363636364\n",
      "  STD = 5.619075058040138\n",
      "  Max. = 514.0\n",
      "  Min. = 140.0\n"
     ]
    },
    {
     "data": {
      "image/svg+xml": [
       "<?xml version=\"1.0\" encoding=\"utf-8\"?>\n",
       "<svg xmlns=\"http://www.w3.org/2000/svg\" xmlns:xlink=\"http://www.w3.org/1999/xlink\" width=\"600\" height=\"400\" viewBox=\"0 0 2400 1600\">\n",
       "<defs>\n",
       "  <clipPath id=\"clip370\">\n",
       "    <rect x=\"0\" y=\"0\" width=\"2400\" height=\"1600\"/>\n",
       "  </clipPath>\n",
       "</defs>\n",
       "<path clip-path=\"url(#clip370)\" d=\"\n",
       "M0 1600 L2400 1600 L2400 0 L0 0  Z\n",
       "  \" fill=\"#ffffff\" fill-rule=\"evenodd\" fill-opacity=\"1\"/>\n",
       "<defs>\n",
       "  <clipPath id=\"clip371\">\n",
       "    <rect x=\"480\" y=\"0\" width=\"1681\" height=\"1600\"/>\n",
       "  </clipPath>\n",
       "</defs>\n",
       "<path clip-path=\"url(#clip370)\" d=\"\n",
       "M175.445 1423.18 L2352.76 1423.18 L2352.76 123.472 L175.445 123.472  Z\n",
       "  \" fill=\"#ffffff\" fill-rule=\"evenodd\" fill-opacity=\"1\"/>\n",
       "<defs>\n",
       "  <clipPath id=\"clip372\">\n",
       "    <rect x=\"175\" y=\"123\" width=\"2178\" height=\"1301\"/>\n",
       "  </clipPath>\n",
       "</defs>\n",
       "<polyline clip-path=\"url(#clip372)\" style=\"stroke:#000000; stroke-width:2; stroke-opacity:0.1; fill:none\" points=\"\n",
       "  175.445,1423.18 175.445,123.472 \n",
       "  \"/>\n",
       "<polyline clip-path=\"url(#clip372)\" style=\"stroke:#000000; stroke-width:2; stroke-opacity:0.1; fill:none\" points=\"\n",
       "  610.907,1423.18 610.907,123.472 \n",
       "  \"/>\n",
       "<polyline clip-path=\"url(#clip372)\" style=\"stroke:#000000; stroke-width:2; stroke-opacity:0.1; fill:none\" points=\"\n",
       "  1046.37,1423.18 1046.37,123.472 \n",
       "  \"/>\n",
       "<polyline clip-path=\"url(#clip372)\" style=\"stroke:#000000; stroke-width:2; stroke-opacity:0.1; fill:none\" points=\"\n",
       "  1481.83,1423.18 1481.83,123.472 \n",
       "  \"/>\n",
       "<polyline clip-path=\"url(#clip372)\" style=\"stroke:#000000; stroke-width:2; stroke-opacity:0.1; fill:none\" points=\"\n",
       "  1917.29,1423.18 1917.29,123.472 \n",
       "  \"/>\n",
       "<polyline clip-path=\"url(#clip372)\" style=\"stroke:#000000; stroke-width:2; stroke-opacity:0.1; fill:none\" points=\"\n",
       "  2352.76,1423.18 2352.76,123.472 \n",
       "  \"/>\n",
       "<polyline clip-path=\"url(#clip372)\" style=\"stroke:#000000; stroke-width:2; stroke-opacity:0.1; fill:none\" points=\"\n",
       "  175.445,1423.18 2352.76,1423.18 \n",
       "  \"/>\n",
       "<polyline clip-path=\"url(#clip372)\" style=\"stroke:#000000; stroke-width:2; stroke-opacity:0.1; fill:none\" points=\"\n",
       "  175.445,1186.87 2352.76,1186.87 \n",
       "  \"/>\n",
       "<polyline clip-path=\"url(#clip372)\" style=\"stroke:#000000; stroke-width:2; stroke-opacity:0.1; fill:none\" points=\"\n",
       "  175.445,950.559 2352.76,950.559 \n",
       "  \"/>\n",
       "<polyline clip-path=\"url(#clip372)\" style=\"stroke:#000000; stroke-width:2; stroke-opacity:0.1; fill:none\" points=\"\n",
       "  175.445,714.248 2352.76,714.248 \n",
       "  \"/>\n",
       "<polyline clip-path=\"url(#clip372)\" style=\"stroke:#000000; stroke-width:2; stroke-opacity:0.1; fill:none\" points=\"\n",
       "  175.445,477.938 2352.76,477.938 \n",
       "  \"/>\n",
       "<polyline clip-path=\"url(#clip372)\" style=\"stroke:#000000; stroke-width:2; stroke-opacity:0.1; fill:none\" points=\"\n",
       "  175.445,241.627 2352.76,241.627 \n",
       "  \"/>\n",
       "<polyline clip-path=\"url(#clip370)\" style=\"stroke:#000000; stroke-width:4; stroke-opacity:1; fill:none\" points=\"\n",
       "  175.445,1423.18 2352.76,1423.18 \n",
       "  \"/>\n",
       "<polyline clip-path=\"url(#clip370)\" style=\"stroke:#000000; stroke-width:4; stroke-opacity:1; fill:none\" points=\"\n",
       "  175.445,1423.18 175.445,123.472 \n",
       "  \"/>\n",
       "<polyline clip-path=\"url(#clip370)\" style=\"stroke:#000000; stroke-width:4; stroke-opacity:1; fill:none\" points=\"\n",
       "  175.445,1423.18 175.445,1407.58 \n",
       "  \"/>\n",
       "<polyline clip-path=\"url(#clip370)\" style=\"stroke:#000000; stroke-width:4; stroke-opacity:1; fill:none\" points=\"\n",
       "  610.907,1423.18 610.907,1407.58 \n",
       "  \"/>\n",
       "<polyline clip-path=\"url(#clip370)\" style=\"stroke:#000000; stroke-width:4; stroke-opacity:1; fill:none\" points=\"\n",
       "  1046.37,1423.18 1046.37,1407.58 \n",
       "  \"/>\n",
       "<polyline clip-path=\"url(#clip370)\" style=\"stroke:#000000; stroke-width:4; stroke-opacity:1; fill:none\" points=\"\n",
       "  1481.83,1423.18 1481.83,1407.58 \n",
       "  \"/>\n",
       "<polyline clip-path=\"url(#clip370)\" style=\"stroke:#000000; stroke-width:4; stroke-opacity:1; fill:none\" points=\"\n",
       "  1917.29,1423.18 1917.29,1407.58 \n",
       "  \"/>\n",
       "<polyline clip-path=\"url(#clip370)\" style=\"stroke:#000000; stroke-width:4; stroke-opacity:1; fill:none\" points=\"\n",
       "  2352.76,1423.18 2352.76,1407.58 \n",
       "  \"/>\n",
       "<polyline clip-path=\"url(#clip370)\" style=\"stroke:#000000; stroke-width:4; stroke-opacity:1; fill:none\" points=\"\n",
       "  175.445,1423.18 201.573,1423.18 \n",
       "  \"/>\n",
       "<polyline clip-path=\"url(#clip370)\" style=\"stroke:#000000; stroke-width:4; stroke-opacity:1; fill:none\" points=\"\n",
       "  175.445,1186.87 201.573,1186.87 \n",
       "  \"/>\n",
       "<polyline clip-path=\"url(#clip370)\" style=\"stroke:#000000; stroke-width:4; stroke-opacity:1; fill:none\" points=\"\n",
       "  175.445,950.559 201.573,950.559 \n",
       "  \"/>\n",
       "<polyline clip-path=\"url(#clip370)\" style=\"stroke:#000000; stroke-width:4; stroke-opacity:1; fill:none\" points=\"\n",
       "  175.445,714.248 201.573,714.248 \n",
       "  \"/>\n",
       "<polyline clip-path=\"url(#clip370)\" style=\"stroke:#000000; stroke-width:4; stroke-opacity:1; fill:none\" points=\"\n",
       "  175.445,477.938 201.573,477.938 \n",
       "  \"/>\n",
       "<polyline clip-path=\"url(#clip370)\" style=\"stroke:#000000; stroke-width:4; stroke-opacity:1; fill:none\" points=\"\n",
       "  175.445,241.627 201.573,241.627 \n",
       "  \"/>\n",
       "<path clip-path=\"url(#clip370)\" d=\"M 0 0 M175.445 1445.17 Q171.834 1445.17 170.005 1448.74 Q168.2 1452.28 168.2 1459.41 Q168.2 1466.51 170.005 1470.08 Q171.834 1473.62 175.445 1473.62 Q179.079 1473.62 180.885 1470.08 Q182.714 1466.51 182.714 1459.41 Q182.714 1452.28 180.885 1448.74 Q179.079 1445.17 175.445 1445.17 M175.445 1441.47 Q181.255 1441.47 184.311 1446.07 Q187.39 1450.66 187.39 1459.41 Q187.39 1468.13 184.311 1472.74 Q181.255 1477.32 175.445 1477.32 Q169.635 1477.32 166.556 1472.74 Q163.501 1468.13 163.501 1459.41 Q163.501 1450.66 166.556 1446.07 Q169.635 1441.47 175.445 1441.47 Z\" fill=\"#000000\" fill-rule=\"evenodd\" fill-opacity=\"1\" /><path clip-path=\"url(#clip370)\" d=\"M 0 0 M574.276 1472.72 L581.914 1472.72 L581.914 1446.35 L573.604 1448.02 L573.604 1443.76 L581.868 1442.09 L586.544 1442.09 L586.544 1472.72 L594.183 1472.72 L594.183 1476.65 L574.276 1476.65 L574.276 1472.72 Z\" fill=\"#000000\" fill-rule=\"evenodd\" fill-opacity=\"1\" /><path clip-path=\"url(#clip370)\" d=\"M 0 0 M609.252 1445.17 Q605.641 1445.17 603.812 1448.74 Q602.007 1452.28 602.007 1459.41 Q602.007 1466.51 603.812 1470.08 Q605.641 1473.62 609.252 1473.62 Q612.887 1473.62 614.692 1470.08 Q616.521 1466.51 616.521 1459.41 Q616.521 1452.28 614.692 1448.74 Q612.887 1445.17 609.252 1445.17 M609.252 1441.47 Q615.062 1441.47 618.118 1446.07 Q621.197 1450.66 621.197 1459.41 Q621.197 1468.13 618.118 1472.74 Q615.062 1477.32 609.252 1477.32 Q603.442 1477.32 600.363 1472.74 Q597.308 1468.13 597.308 1459.41 Q597.308 1450.66 600.363 1446.07 Q603.442 1441.47 609.252 1441.47 Z\" fill=\"#000000\" fill-rule=\"evenodd\" fill-opacity=\"1\" /><path clip-path=\"url(#clip370)\" d=\"M 0 0 M636.266 1445.17 Q632.655 1445.17 630.826 1448.74 Q629.021 1452.28 629.021 1459.41 Q629.021 1466.51 630.826 1470.08 Q632.655 1473.62 636.266 1473.62 Q639.9 1473.62 641.706 1470.08 Q643.534 1466.51 643.534 1459.41 Q643.534 1452.28 641.706 1448.74 Q639.9 1445.17 636.266 1445.17 M636.266 1441.47 Q642.076 1441.47 645.132 1446.07 Q648.21 1450.66 648.21 1459.41 Q648.21 1468.13 645.132 1472.74 Q642.076 1477.32 636.266 1477.32 Q630.456 1477.32 627.377 1472.74 Q624.322 1468.13 624.322 1459.41 Q624.322 1450.66 627.377 1446.07 Q630.456 1441.47 636.266 1441.47 Z\" fill=\"#000000\" fill-rule=\"evenodd\" fill-opacity=\"1\" /><path clip-path=\"url(#clip370)\" d=\"M 0 0 M1014.01 1472.72 L1030.33 1472.72 L1030.33 1476.65 L1008.38 1476.65 L1008.38 1472.72 Q1011.05 1469.96 1015.63 1465.33 Q1020.24 1460.68 1021.42 1459.34 Q1023.66 1456.81 1024.54 1455.08 Q1025.44 1453.32 1025.44 1451.63 Q1025.44 1448.87 1023.5 1447.14 Q1021.58 1445.4 1018.48 1445.4 Q1016.28 1445.4 1013.82 1446.17 Q1011.39 1446.93 1008.62 1448.48 L1008.62 1443.76 Q1011.44 1442.62 1013.89 1442.05 Q1016.35 1441.47 1018.38 1441.47 Q1023.75 1441.47 1026.95 1444.15 Q1030.14 1446.84 1030.14 1451.33 Q1030.14 1453.46 1029.33 1455.38 Q1028.55 1457.28 1026.44 1459.87 Q1025.86 1460.54 1022.76 1463.76 Q1019.66 1466.95 1014.01 1472.72 Z\" fill=\"#000000\" fill-rule=\"evenodd\" fill-opacity=\"1\" /><path clip-path=\"url(#clip370)\" d=\"M 0 0 M1045.4 1445.17 Q1041.79 1445.17 1039.96 1448.74 Q1038.15 1452.28 1038.15 1459.41 Q1038.15 1466.51 1039.96 1470.08 Q1041.79 1473.62 1045.4 1473.62 Q1049.03 1473.62 1050.84 1470.08 Q1052.67 1466.51 1052.67 1459.41 Q1052.67 1452.28 1050.84 1448.74 Q1049.03 1445.17 1045.4 1445.17 M1045.4 1441.47 Q1051.21 1441.47 1054.26 1446.07 Q1057.34 1450.66 1057.34 1459.41 Q1057.34 1468.13 1054.26 1472.74 Q1051.21 1477.32 1045.4 1477.32 Q1039.59 1477.32 1036.51 1472.74 Q1033.45 1468.13 1033.45 1459.41 Q1033.45 1450.66 1036.51 1446.07 Q1039.59 1441.47 1045.4 1441.47 Z\" fill=\"#000000\" fill-rule=\"evenodd\" fill-opacity=\"1\" /><path clip-path=\"url(#clip370)\" d=\"M 0 0 M1072.41 1445.17 Q1068.8 1445.17 1066.97 1448.74 Q1065.17 1452.28 1065.17 1459.41 Q1065.17 1466.51 1066.97 1470.08 Q1068.8 1473.62 1072.41 1473.62 Q1076.05 1473.62 1077.85 1470.08 Q1079.68 1466.51 1079.68 1459.41 Q1079.68 1452.28 1077.85 1448.74 Q1076.05 1445.17 1072.41 1445.17 M1072.41 1441.47 Q1078.22 1441.47 1081.28 1446.07 Q1084.36 1450.66 1084.36 1459.41 Q1084.36 1468.13 1081.28 1472.74 Q1078.22 1477.32 1072.41 1477.32 Q1066.6 1477.32 1063.52 1472.74 Q1060.47 1468.13 1060.47 1459.41 Q1060.47 1450.66 1063.52 1446.07 Q1066.6 1441.47 1072.41 1441.47 Z\" fill=\"#000000\" fill-rule=\"evenodd\" fill-opacity=\"1\" /><path clip-path=\"url(#clip370)\" d=\"M 0 0 M1459.07 1458.02 Q1462.42 1458.74 1464.3 1461 Q1466.2 1463.27 1466.2 1466.61 Q1466.2 1471.72 1462.68 1474.52 Q1459.16 1477.32 1452.68 1477.32 Q1450.5 1477.32 1448.19 1476.88 Q1445.89 1476.47 1443.44 1475.61 L1443.44 1471.1 Q1445.39 1472.23 1447.7 1472.81 Q1450.01 1473.39 1452.54 1473.39 Q1456.94 1473.39 1459.23 1471.65 Q1461.54 1469.92 1461.54 1466.61 Q1461.54 1463.55 1459.39 1461.84 Q1457.26 1460.1 1453.44 1460.1 L1449.41 1460.1 L1449.41 1456.26 L1453.63 1456.26 Q1457.07 1456.26 1458.9 1454.89 Q1460.73 1453.5 1460.73 1450.91 Q1460.73 1448.25 1458.83 1446.84 Q1456.96 1445.4 1453.44 1445.4 Q1451.52 1445.4 1449.32 1445.82 Q1447.12 1446.24 1444.48 1447.11 L1444.48 1442.95 Q1447.14 1442.21 1449.46 1441.84 Q1451.8 1441.47 1453.86 1441.47 Q1459.18 1441.47 1462.28 1443.9 Q1465.38 1446.3 1465.38 1450.43 Q1465.38 1453.3 1463.74 1455.29 Q1462.1 1457.25 1459.07 1458.02 Z\" fill=\"#000000\" fill-rule=\"evenodd\" fill-opacity=\"1\" /><path clip-path=\"url(#clip370)\" d=\"M 0 0 M1481.26 1445.17 Q1477.65 1445.17 1475.82 1448.74 Q1474.02 1452.28 1474.02 1459.41 Q1474.02 1466.51 1475.82 1470.08 Q1477.65 1473.62 1481.26 1473.62 Q1484.9 1473.62 1486.7 1470.08 Q1488.53 1466.51 1488.53 1459.41 Q1488.53 1452.28 1486.7 1448.74 Q1484.9 1445.17 1481.26 1445.17 M1481.26 1441.47 Q1487.07 1441.47 1490.13 1446.07 Q1493.21 1450.66 1493.21 1459.41 Q1493.21 1468.13 1490.13 1472.74 Q1487.07 1477.32 1481.26 1477.32 Q1475.45 1477.32 1472.38 1472.74 Q1469.32 1468.13 1469.32 1459.41 Q1469.32 1450.66 1472.38 1446.07 Q1475.45 1441.47 1481.26 1441.47 Z\" fill=\"#000000\" fill-rule=\"evenodd\" fill-opacity=\"1\" /><path clip-path=\"url(#clip370)\" d=\"M 0 0 M1508.28 1445.17 Q1504.67 1445.17 1502.84 1448.74 Q1501.03 1452.28 1501.03 1459.41 Q1501.03 1466.51 1502.84 1470.08 Q1504.67 1473.62 1508.28 1473.62 Q1511.91 1473.62 1513.72 1470.08 Q1515.55 1466.51 1515.55 1459.41 Q1515.55 1452.28 1513.72 1448.74 Q1511.91 1445.17 1508.28 1445.17 M1508.28 1441.47 Q1514.09 1441.47 1517.14 1446.07 Q1520.22 1450.66 1520.22 1459.41 Q1520.22 1468.13 1517.14 1472.74 Q1514.09 1477.32 1508.28 1477.32 Q1502.47 1477.32 1499.39 1472.74 Q1496.33 1468.13 1496.33 1459.41 Q1496.33 1450.66 1499.39 1446.07 Q1502.47 1441.47 1508.28 1441.47 Z\" fill=\"#000000\" fill-rule=\"evenodd\" fill-opacity=\"1\" /><path clip-path=\"url(#clip370)\" d=\"M 0 0 M1893.29 1446.17 L1881.48 1464.61 L1893.29 1464.61 L1893.29 1446.17 M1892.06 1442.09 L1897.94 1442.09 L1897.94 1464.61 L1902.87 1464.61 L1902.87 1468.5 L1897.94 1468.5 L1897.94 1476.65 L1893.29 1476.65 L1893.29 1468.5 L1877.69 1468.5 L1877.69 1463.99 L1892.06 1442.09 Z\" fill=\"#000000\" fill-rule=\"evenodd\" fill-opacity=\"1\" /><path clip-path=\"url(#clip370)\" d=\"M 0 0 M1917.94 1445.17 Q1914.33 1445.17 1912.5 1448.74 Q1910.7 1452.28 1910.7 1459.41 Q1910.7 1466.51 1912.5 1470.08 Q1914.33 1473.62 1917.94 1473.62 Q1921.58 1473.62 1923.38 1470.08 Q1925.21 1466.51 1925.21 1459.41 Q1925.21 1452.28 1923.38 1448.74 Q1921.58 1445.17 1917.94 1445.17 M1917.94 1441.47 Q1923.75 1441.47 1926.81 1446.07 Q1929.89 1450.66 1929.89 1459.41 Q1929.89 1468.13 1926.81 1472.74 Q1923.75 1477.32 1917.94 1477.32 Q1912.13 1477.32 1909.05 1472.74 Q1906 1468.13 1906 1459.41 Q1906 1450.66 1909.05 1446.07 Q1912.13 1441.47 1917.94 1441.47 Z\" fill=\"#000000\" fill-rule=\"evenodd\" fill-opacity=\"1\" /><path clip-path=\"url(#clip370)\" d=\"M 0 0 M1944.96 1445.17 Q1941.34 1445.17 1939.52 1448.74 Q1937.71 1452.28 1937.71 1459.41 Q1937.71 1466.51 1939.52 1470.08 Q1941.34 1473.62 1944.96 1473.62 Q1948.59 1473.62 1950.4 1470.08 Q1952.22 1466.51 1952.22 1459.41 Q1952.22 1452.28 1950.4 1448.74 Q1948.59 1445.17 1944.96 1445.17 M1944.96 1441.47 Q1950.77 1441.47 1953.82 1446.07 Q1956.9 1450.66 1956.9 1459.41 Q1956.9 1468.13 1953.82 1472.74 Q1950.77 1477.32 1944.96 1477.32 Q1939.15 1477.32 1936.07 1472.74 Q1933.01 1468.13 1933.01 1459.41 Q1933.01 1450.66 1936.07 1446.07 Q1939.15 1441.47 1944.96 1441.47 Z\" fill=\"#000000\" fill-rule=\"evenodd\" fill-opacity=\"1\" /><path clip-path=\"url(#clip370)\" d=\"M 0 0 M2316.02 1442.09 L2334.38 1442.09 L2334.38 1446.03 L2320.3 1446.03 L2320.3 1454.5 Q2321.32 1454.15 2322.34 1453.99 Q2323.36 1453.8 2324.38 1453.8 Q2330.16 1453.8 2333.54 1456.98 Q2336.92 1460.15 2336.92 1465.56 Q2336.92 1471.14 2333.45 1474.24 Q2329.98 1477.32 2323.66 1477.32 Q2321.48 1477.32 2319.21 1476.95 Q2316.97 1476.58 2314.56 1475.84 L2314.56 1471.14 Q2316.64 1472.28 2318.87 1472.83 Q2321.09 1473.39 2323.57 1473.39 Q2327.57 1473.39 2329.91 1471.28 Q2332.25 1469.18 2332.25 1465.56 Q2332.25 1461.95 2329.91 1459.85 Q2327.57 1457.74 2323.57 1457.74 Q2321.69 1457.74 2319.82 1458.16 Q2317.96 1458.57 2316.02 1459.45 L2316.02 1442.09 Z\" fill=\"#000000\" fill-rule=\"evenodd\" fill-opacity=\"1\" /><path clip-path=\"url(#clip370)\" d=\"M 0 0 M2351.99 1445.17 Q2348.38 1445.17 2346.55 1448.74 Q2344.75 1452.28 2344.75 1459.41 Q2344.75 1466.51 2346.55 1470.08 Q2348.38 1473.62 2351.99 1473.62 Q2355.63 1473.62 2357.43 1470.08 Q2359.26 1466.51 2359.26 1459.41 Q2359.26 1452.28 2357.43 1448.74 Q2355.63 1445.17 2351.99 1445.17 M2351.99 1441.47 Q2357.8 1441.47 2360.86 1446.07 Q2363.94 1450.66 2363.94 1459.41 Q2363.94 1468.13 2360.86 1472.74 Q2357.8 1477.32 2351.99 1477.32 Q2346.18 1477.32 2343.1 1472.74 Q2340.05 1468.13 2340.05 1459.41 Q2340.05 1450.66 2343.1 1446.07 Q2346.18 1441.47 2351.99 1441.47 Z\" fill=\"#000000\" fill-rule=\"evenodd\" fill-opacity=\"1\" /><path clip-path=\"url(#clip370)\" d=\"M 0 0 M2379.01 1445.17 Q2375.39 1445.17 2373.57 1448.74 Q2371.76 1452.28 2371.76 1459.41 Q2371.76 1466.51 2373.57 1470.08 Q2375.39 1473.62 2379.01 1473.62 Q2382.64 1473.62 2384.45 1470.08 Q2386.27 1466.51 2386.27 1459.41 Q2386.27 1452.28 2384.45 1448.74 Q2382.64 1445.17 2379.01 1445.17 M2379.01 1441.47 Q2384.82 1441.47 2387.87 1446.07 Q2390.95 1450.66 2390.95 1459.41 Q2390.95 1468.13 2387.87 1472.74 Q2384.82 1477.32 2379.01 1477.32 Q2373.2 1477.32 2370.12 1472.74 Q2367.06 1468.13 2367.06 1459.41 Q2367.06 1450.66 2370.12 1446.07 Q2373.2 1441.47 2379.01 1441.47 Z\" fill=\"#000000\" fill-rule=\"evenodd\" fill-opacity=\"1\" /><path clip-path=\"url(#clip370)\" d=\"M 0 0 M139.501 1408.98 Q135.89 1408.98 134.061 1412.54 Q132.255 1416.08 132.255 1423.21 Q132.255 1430.32 134.061 1433.89 Q135.89 1437.43 139.501 1437.43 Q143.135 1437.43 144.941 1433.89 Q146.769 1430.32 146.769 1423.21 Q146.769 1416.08 144.941 1412.54 Q143.135 1408.98 139.501 1408.98 M139.501 1405.27 Q145.311 1405.27 148.367 1409.88 Q151.445 1414.46 151.445 1423.21 Q151.445 1431.94 148.367 1436.55 Q145.311 1441.13 139.501 1441.13 Q133.691 1441.13 130.612 1436.55 Q127.556 1431.94 127.556 1423.21 Q127.556 1414.46 130.612 1409.88 Q133.691 1405.27 139.501 1405.27 Z\" fill=\"#000000\" fill-rule=\"evenodd\" fill-opacity=\"1\" /><path clip-path=\"url(#clip370)\" d=\"M 0 0 M131.538 1200.21 L139.177 1200.21 L139.177 1173.85 L130.867 1175.52 L130.867 1171.26 L139.13 1169.59 L143.806 1169.59 L143.806 1200.21 L151.445 1200.21 L151.445 1204.15 L131.538 1204.15 L131.538 1200.21 Z\" fill=\"#000000\" fill-rule=\"evenodd\" fill-opacity=\"1\" /><path clip-path=\"url(#clip370)\" d=\"M 0 0 M135.126 963.904 L151.445 963.904 L151.445 967.839 L129.501 967.839 L129.501 963.904 Q132.163 961.149 136.746 956.519 Q141.353 951.867 142.533 950.524 Q144.779 948.001 145.658 946.265 Q146.561 944.506 146.561 942.816 Q146.561 940.061 144.617 938.325 Q142.695 936.589 139.593 936.589 Q137.394 936.589 134.941 937.353 Q132.51 938.117 129.732 939.668 L129.732 934.946 Q132.556 933.811 135.01 933.233 Q137.464 932.654 139.501 932.654 Q144.871 932.654 148.066 935.339 Q151.26 938.024 151.26 942.515 Q151.26 944.645 150.45 946.566 Q149.663 948.464 147.556 951.057 Q146.978 951.728 143.876 954.945 Q140.774 958.14 135.126 963.904 Z\" fill=\"#000000\" fill-rule=\"evenodd\" fill-opacity=\"1\" /><path clip-path=\"url(#clip370)\" d=\"M 0 0 M144.316 712.894 Q147.672 713.612 149.547 715.88 Q151.445 718.149 151.445 721.482 Q151.445 726.598 147.927 729.399 Q144.408 732.2 137.927 732.2 Q135.751 732.2 133.436 731.76 Q131.144 731.343 128.691 730.487 L128.691 725.973 Q130.635 727.107 132.95 727.686 Q135.265 728.264 137.788 728.264 Q142.186 728.264 144.478 726.528 Q146.792 724.792 146.792 721.482 Q146.792 718.427 144.64 716.714 Q142.51 714.978 138.691 714.978 L134.663 714.978 L134.663 711.135 L138.876 711.135 Q142.325 711.135 144.154 709.769 Q145.982 708.38 145.982 705.788 Q145.982 703.126 144.084 701.714 Q142.209 700.279 138.691 700.279 Q136.769 700.279 134.57 700.695 Q132.371 701.112 129.732 701.991 L129.732 697.825 Q132.394 697.084 134.709 696.714 Q137.047 696.343 139.107 696.343 Q144.431 696.343 147.533 698.774 Q150.635 701.181 150.635 705.302 Q150.635 708.172 148.992 710.163 Q147.348 712.13 144.316 712.894 Z\" fill=\"#000000\" fill-rule=\"evenodd\" fill-opacity=\"1\" /><path clip-path=\"url(#clip370)\" d=\"M 0 0 M141.862 464.732 L130.056 483.181 L141.862 483.181 L141.862 464.732 M140.635 460.658 L146.515 460.658 L146.515 483.181 L151.445 483.181 L151.445 487.07 L146.515 487.07 L146.515 495.218 L141.862 495.218 L141.862 487.07 L126.26 487.07 L126.26 482.556 L140.635 460.658 Z\" fill=\"#000000\" fill-rule=\"evenodd\" fill-opacity=\"1\" /><path clip-path=\"url(#clip370)\" d=\"M 0 0 M130.543 224.347 L148.899 224.347 L148.899 228.283 L134.825 228.283 L134.825 236.755 Q135.843 236.407 136.862 236.245 Q137.88 236.06 138.899 236.06 Q144.686 236.06 148.066 239.232 Q151.445 242.403 151.445 247.819 Q151.445 253.398 147.973 256.5 Q144.501 259.579 138.181 259.579 Q136.005 259.579 133.737 259.208 Q131.492 258.838 129.084 258.097 L129.084 253.398 Q131.168 254.532 133.39 255.088 Q135.612 255.644 138.089 255.644 Q142.093 255.644 144.431 253.537 Q146.769 251.431 146.769 247.819 Q146.769 244.208 144.431 242.102 Q142.093 239.995 138.089 239.995 Q136.214 239.995 134.339 240.412 Q132.487 240.829 130.543 241.708 L130.543 224.347 Z\" fill=\"#000000\" fill-rule=\"evenodd\" fill-opacity=\"1\" /><path clip-path=\"url(#clip370)\" d=\"M 0 0 M646.378 12.096 L658.571 12.096 L674.005 53.2532 L689.52 12.096 L701.714 12.096 L701.714 72.576 L693.733 72.576 L693.733 19.4686 L678.137 60.9499 L669.914 60.9499 L654.318 19.4686 L654.318 72.576 L646.378 72.576 L646.378 12.096 Z\" fill=\"#000000\" fill-rule=\"evenodd\" fill-opacity=\"1\" /><path clip-path=\"url(#clip370)\" d=\"M 0 0 M748.339 48.0275 L748.339 51.6733 L714.069 51.6733 Q714.555 59.3701 718.687 63.421 Q722.859 67.4314 730.272 67.4314 Q734.566 67.4314 738.577 66.3781 Q742.628 65.3249 746.598 63.2184 L746.598 70.267 Q742.587 71.9684 738.374 72.8596 Q734.161 73.7508 729.827 73.7508 Q718.97 73.7508 712.61 67.4314 Q706.291 61.1119 706.291 50.3365 Q706.291 39.1965 712.286 32.6746 Q718.322 26.1121 728.531 26.1121 Q737.686 26.1121 742.992 32.0264 Q748.339 37.9003 748.339 48.0275 M740.886 45.84 Q740.805 39.7232 737.442 36.0774 Q734.121 32.4315 728.612 32.4315 Q722.373 32.4315 718.606 35.9558 Q714.879 39.4801 714.312 45.8805 L740.886 45.84 Z\" fill=\"#000000\" fill-rule=\"evenodd\" fill-opacity=\"1\" /><path clip-path=\"url(#clip370)\" d=\"M 0 0 M788.808 28.9478 L788.808 35.9153 Q785.648 34.1734 782.448 33.3227 Q779.288 32.4315 776.048 32.4315 Q768.796 32.4315 764.786 37.0496 Q760.776 41.6271 760.776 49.9314 Q760.776 58.2358 764.786 62.8538 Q768.796 67.4314 776.048 67.4314 Q779.288 67.4314 782.448 66.5807 Q785.648 65.6895 788.808 63.9476 L788.808 70.8341 Q785.689 72.2924 782.327 73.0216 Q779.005 73.7508 775.237 73.7508 Q764.989 73.7508 758.953 67.3098 Q752.917 60.8689 752.917 49.9314 Q752.917 38.832 758.993 32.472 Q765.11 26.1121 775.724 26.1121 Q779.167 26.1121 782.448 26.8413 Q785.729 27.5299 788.808 28.9478 Z\" fill=\"#000000\" fill-rule=\"evenodd\" fill-opacity=\"1\" /><path clip-path=\"url(#clip370)\" d=\"M 0 0 M834.34 45.1919 L834.34 72.576 L826.886 72.576 L826.886 45.4349 Q826.886 38.994 824.375 35.7938 Q821.863 32.5936 816.84 32.5936 Q810.804 32.5936 807.321 36.4419 Q803.837 40.2903 803.837 46.9338 L803.837 72.576 L796.343 72.576 L796.343 9.54393 L803.837 9.54393 L803.837 34.2544 Q806.51 30.163 810.116 28.1376 Q813.762 26.1121 818.501 26.1121 Q826.319 26.1121 830.33 30.9732 Q834.34 35.7938 834.34 45.1919 Z\" fill=\"#000000\" fill-rule=\"evenodd\" fill-opacity=\"1\" /><path clip-path=\"url(#clip370)\" d=\"M 0 0 M862.777 49.7694 Q853.744 49.7694 850.26 51.8354 Q846.776 53.9013 846.776 58.8839 Q846.776 62.8538 849.369 65.2034 Q852.002 67.5124 856.499 67.5124 Q862.696 67.5124 866.423 63.1374 Q870.191 58.7219 870.191 51.4303 L870.191 49.7694 L862.777 49.7694 M877.644 46.6907 L877.644 72.576 L870.191 72.576 L870.191 65.6895 Q867.639 69.8214 863.831 71.8063 Q860.023 73.7508 854.514 73.7508 Q847.546 73.7508 843.414 69.8619 Q839.323 65.9325 839.323 59.3701 Q839.323 51.7138 844.427 47.825 Q849.572 43.9361 859.739 43.9361 L870.191 43.9361 L870.191 43.2069 Q870.191 38.0623 866.788 35.2672 Q863.426 32.4315 857.309 32.4315 Q853.42 32.4315 849.734 33.3632 Q846.047 34.295 842.644 36.1584 L842.644 29.2718 Q846.736 27.692 850.584 26.9223 Q854.433 26.1121 858.078 26.1121 Q867.922 26.1121 872.783 31.2163 Q877.644 36.3204 877.644 46.6907 Z\" fill=\"#000000\" fill-rule=\"evenodd\" fill-opacity=\"1\" /><path clip-path=\"url(#clip370)\" d=\"M 0 0 M923.176 45.1919 L923.176 72.576 L915.723 72.576 L915.723 45.4349 Q915.723 38.994 913.211 35.7938 Q910.7 32.5936 905.677 32.5936 Q899.641 32.5936 896.157 36.4419 Q892.673 40.2903 892.673 46.9338 L892.673 72.576 L885.179 72.576 L885.179 27.2059 L892.673 27.2059 L892.673 34.2544 Q895.347 30.163 898.952 28.1376 Q902.598 26.1121 907.337 26.1121 Q915.156 26.1121 919.166 30.9732 Q923.176 35.7938 923.176 45.1919 Z\" fill=\"#000000\" fill-rule=\"evenodd\" fill-opacity=\"1\" /><path clip-path=\"url(#clip370)\" d=\"M 0 0 M930.995 27.2059 L938.448 27.2059 L938.448 72.576 L930.995 72.576 L930.995 27.2059 M930.995 9.54393 L938.448 9.54393 L938.448 18.9825 L930.995 18.9825 L930.995 9.54393 Z\" fill=\"#000000\" fill-rule=\"evenodd\" fill-opacity=\"1\" /><path clip-path=\"url(#clip370)\" d=\"M 0 0 M978.917 28.9478 L978.917 35.9153 Q975.757 34.1734 972.557 33.3227 Q969.397 32.4315 966.157 32.4315 Q958.905 32.4315 954.895 37.0496 Q950.885 41.6271 950.885 49.9314 Q950.885 58.2358 954.895 62.8538 Q958.905 67.4314 966.157 67.4314 Q969.397 67.4314 972.557 66.5807 Q975.757 65.6895 978.917 63.9476 L978.917 70.8341 Q975.798 72.2924 972.435 73.0216 Q969.114 73.7508 965.346 73.7508 Q955.098 73.7508 949.062 67.3098 Q943.026 60.8689 943.026 49.9314 Q943.026 38.832 949.102 32.472 Q955.219 26.1121 965.832 26.1121 Q969.276 26.1121 972.557 26.8413 Q975.838 27.5299 978.917 28.9478 Z\" fill=\"#000000\" fill-rule=\"evenodd\" fill-opacity=\"1\" /><path clip-path=\"url(#clip370)\" d=\"M 0 0 M1007.35 49.7694 Q998.321 49.7694 994.837 51.8354 Q991.353 53.9013 991.353 58.8839 Q991.353 62.8538 993.946 65.2034 Q996.579 67.5124 1001.08 67.5124 Q1007.27 67.5124 1011 63.1374 Q1014.77 58.7219 1014.77 51.4303 L1014.77 49.7694 L1007.35 49.7694 M1022.22 46.6907 L1022.22 72.576 L1014.77 72.576 L1014.77 65.6895 Q1012.22 69.8214 1008.41 71.8063 Q1004.6 73.7508 999.09 73.7508 Q992.123 73.7508 987.991 69.8619 Q983.9 65.9325 983.9 59.3701 Q983.9 51.7138 989.004 47.825 Q994.148 43.9361 1004.32 43.9361 L1014.77 43.9361 L1014.77 43.2069 Q1014.77 38.0623 1011.36 35.2672 Q1008 32.4315 1001.89 32.4315 Q997.997 32.4315 994.31 33.3632 Q990.624 34.295 987.221 36.1584 L987.221 29.2718 Q991.313 27.692 995.161 26.9223 Q999.009 26.1121 1002.66 26.1121 Q1012.5 26.1121 1017.36 31.2163 Q1022.22 36.3204 1022.22 46.6907 Z\" fill=\"#000000\" fill-rule=\"evenodd\" fill-opacity=\"1\" /><path clip-path=\"url(#clip370)\" d=\"M 0 0 M1030.04 9.54393 L1037.49 9.54393 L1037.49 72.576 L1030.04 72.576 L1030.04 9.54393 Z\" fill=\"#000000\" fill-rule=\"evenodd\" fill-opacity=\"1\" /><path clip-path=\"url(#clip370)\" d=\"M 0 0 M1072.01 12.096 L1110.25 12.096 L1110.25 18.9825 L1080.19 18.9825 L1080.19 36.8875 L1108.99 36.8875 L1108.99 43.7741 L1080.19 43.7741 L1080.19 65.6895 L1110.98 65.6895 L1110.98 72.576 L1072.01 72.576 L1072.01 12.096 Z\" fill=\"#000000\" fill-rule=\"evenodd\" fill-opacity=\"1\" /><path clip-path=\"url(#clip370)\" d=\"M 0 0 M1156.51 45.1919 L1156.51 72.576 L1149.05 72.576 L1149.05 45.4349 Q1149.05 38.994 1146.54 35.7938 Q1144.03 32.5936 1139.01 32.5936 Q1132.97 32.5936 1129.49 36.4419 Q1126.01 40.2903 1126.01 46.9338 L1126.01 72.576 L1118.51 72.576 L1118.51 27.2059 L1126.01 27.2059 L1126.01 34.2544 Q1128.68 30.163 1132.28 28.1376 Q1135.93 26.1121 1140.67 26.1121 Q1148.49 26.1121 1152.5 30.9732 Q1156.51 35.7938 1156.51 45.1919 Z\" fill=\"#000000\" fill-rule=\"evenodd\" fill-opacity=\"1\" /><path clip-path=\"url(#clip370)\" d=\"M 0 0 M1194.18 49.3643 Q1194.18 41.2625 1190.82 36.8065 Q1187.5 32.3505 1181.46 32.3505 Q1175.47 32.3505 1172.1 36.8065 Q1168.78 41.2625 1168.78 49.3643 Q1168.78 57.4256 1172.1 61.8816 Q1175.47 66.3376 1181.46 66.3376 Q1187.5 66.3376 1190.82 61.8816 Q1194.18 57.4256 1194.18 49.3643 M1201.64 66.9452 Q1201.64 78.5308 1196.49 84.1616 Q1191.35 89.8329 1180.73 89.8329 Q1176.8 89.8329 1173.32 89.2252 Q1169.84 88.6581 1166.55 87.4428 L1166.55 80.1917 Q1169.84 81.9741 1173.04 82.8248 Q1176.24 83.6755 1179.56 83.6755 Q1186.89 83.6755 1190.54 79.8271 Q1194.18 76.0193 1194.18 68.282 L1194.18 64.5957 Q1191.87 68.6061 1188.27 70.5911 Q1184.66 72.576 1179.64 72.576 Q1171.29 72.576 1166.19 66.2161 Q1161.09 59.8562 1161.09 49.3643 Q1161.09 38.832 1166.19 32.472 Q1171.29 26.1121 1179.64 26.1121 Q1184.66 26.1121 1188.27 28.0971 Q1191.87 30.082 1194.18 34.0924 L1194.18 27.2059 L1201.64 27.2059 L1201.64 66.9452 Z\" fill=\"#000000\" fill-rule=\"evenodd\" fill-opacity=\"1\" /><path clip-path=\"url(#clip370)\" d=\"M 0 0 M1209.45 27.2059 L1216.91 27.2059 L1216.91 72.576 L1209.45 72.576 L1209.45 27.2059 M1209.45 9.54393 L1216.91 9.54393 L1216.91 18.9825 L1209.45 18.9825 L1209.45 9.54393 Z\" fill=\"#000000\" fill-rule=\"evenodd\" fill-opacity=\"1\" /><path clip-path=\"url(#clip370)\" d=\"M 0 0 M1262.44 45.1919 L1262.44 72.576 L1254.99 72.576 L1254.99 45.4349 Q1254.99 38.994 1252.47 35.7938 Q1249.96 32.5936 1244.94 32.5936 Q1238.9 32.5936 1235.42 36.4419 Q1231.94 40.2903 1231.94 46.9338 L1231.94 72.576 L1224.44 72.576 L1224.44 27.2059 L1231.94 27.2059 L1231.94 34.2544 Q1234.61 30.163 1238.22 28.1376 Q1241.86 26.1121 1246.6 26.1121 Q1254.42 26.1121 1258.43 30.9732 Q1262.44 35.7938 1262.44 45.1919 Z\" fill=\"#000000\" fill-rule=\"evenodd\" fill-opacity=\"1\" /><path clip-path=\"url(#clip370)\" d=\"M 0 0 M1309.07 48.0275 L1309.07 51.6733 L1274.79 51.6733 Q1275.28 59.3701 1279.41 63.421 Q1283.59 67.4314 1291 67.4314 Q1295.29 67.4314 1299.3 66.3781 Q1303.35 65.3249 1307.32 63.2184 L1307.32 70.267 Q1303.31 71.9684 1299.1 72.8596 Q1294.89 73.7508 1290.55 73.7508 Q1279.7 73.7508 1273.34 67.4314 Q1267.02 61.1119 1267.02 50.3365 Q1267.02 39.1965 1273.01 32.6746 Q1279.05 26.1121 1289.26 26.1121 Q1298.41 26.1121 1303.72 32.0264 Q1309.07 37.9003 1309.07 48.0275 M1301.61 45.84 Q1301.53 39.7232 1298.17 36.0774 Q1294.85 32.4315 1289.34 32.4315 Q1283.1 32.4315 1279.33 35.9558 Q1275.61 39.4801 1275.04 45.8805 L1301.61 45.84 Z\" fill=\"#000000\" fill-rule=\"evenodd\" fill-opacity=\"1\" /><path clip-path=\"url(#clip370)\" d=\"M 0 0 M1355.69 48.0275 L1355.69 51.6733 L1321.42 51.6733 Q1321.91 59.3701 1326.04 63.421 Q1330.21 67.4314 1337.62 67.4314 Q1341.92 67.4314 1345.93 66.3781 Q1349.98 65.3249 1353.95 63.2184 L1353.95 70.267 Q1349.94 71.9684 1345.73 72.8596 Q1341.51 73.7508 1337.18 73.7508 Q1326.32 73.7508 1319.96 67.4314 Q1313.64 61.1119 1313.64 50.3365 Q1313.64 39.1965 1319.64 32.6746 Q1325.67 26.1121 1335.88 26.1121 Q1345.04 26.1121 1350.34 32.0264 Q1355.69 37.9003 1355.69 48.0275 M1348.24 45.84 Q1348.16 39.7232 1344.79 36.0774 Q1341.47 32.4315 1335.96 32.4315 Q1329.73 32.4315 1325.96 35.9558 Q1322.23 39.4801 1321.66 45.8805 L1348.24 45.84 Z\" fill=\"#000000\" fill-rule=\"evenodd\" fill-opacity=\"1\" /><path clip-path=\"url(#clip370)\" d=\"M 0 0 M1389.8 34.1734 Q1388.54 33.4443 1387.05 33.1202 Q1385.59 32.7556 1383.8 32.7556 Q1377.49 32.7556 1374.08 36.8875 Q1370.72 40.9789 1370.72 48.6757 L1370.72 72.576 L1363.23 72.576 L1363.23 27.2059 L1370.72 27.2059 L1370.72 34.2544 Q1373.07 30.1225 1376.84 28.1376 Q1380.6 26.1121 1385.99 26.1121 Q1386.76 26.1121 1387.69 26.2337 Q1388.63 26.3147 1389.76 26.5172 L1389.8 34.1734 Z\" fill=\"#000000\" fill-rule=\"evenodd\" fill-opacity=\"1\" /><path clip-path=\"url(#clip370)\" d=\"M 0 0 M1397.62 27.2059 L1405.07 27.2059 L1405.07 72.576 L1397.62 72.576 L1397.62 27.2059 M1397.62 9.54393 L1405.07 9.54393 L1405.07 18.9825 L1397.62 18.9825 L1397.62 9.54393 Z\" fill=\"#000000\" fill-rule=\"evenodd\" fill-opacity=\"1\" /><path clip-path=\"url(#clip370)\" d=\"M 0 0 M1450.6 45.1919 L1450.6 72.576 L1443.15 72.576 L1443.15 45.4349 Q1443.15 38.994 1440.64 35.7938 Q1438.13 32.5936 1433.1 32.5936 Q1427.07 32.5936 1423.58 36.4419 Q1420.1 40.2903 1420.1 46.9338 L1420.1 72.576 L1412.61 72.576 L1412.61 27.2059 L1420.1 27.2059 L1420.1 34.2544 Q1422.77 30.163 1426.38 28.1376 Q1430.03 26.1121 1434.77 26.1121 Q1442.58 26.1121 1446.59 30.9732 Q1450.6 35.7938 1450.6 45.1919 Z\" fill=\"#000000\" fill-rule=\"evenodd\" fill-opacity=\"1\" /><path clip-path=\"url(#clip370)\" d=\"M 0 0 M1488.28 49.3643 Q1488.28 41.2625 1484.92 36.8065 Q1481.59 32.3505 1475.56 32.3505 Q1469.56 32.3505 1466.2 36.8065 Q1462.88 41.2625 1462.88 49.3643 Q1462.88 57.4256 1466.2 61.8816 Q1469.56 66.3376 1475.56 66.3376 Q1481.59 66.3376 1484.92 61.8816 Q1488.28 57.4256 1488.28 49.3643 M1495.73 66.9452 Q1495.73 78.5308 1490.59 84.1616 Q1485.44 89.8329 1474.83 89.8329 Q1470.9 89.8329 1467.42 89.2252 Q1463.93 88.6581 1460.65 87.4428 L1460.65 80.1917 Q1463.93 81.9741 1467.13 82.8248 Q1470.33 83.6755 1473.65 83.6755 Q1480.99 83.6755 1484.63 79.8271 Q1488.28 76.0193 1488.28 68.282 L1488.28 64.5957 Q1485.97 68.6061 1482.36 70.5911 Q1478.76 72.576 1473.73 72.576 Q1465.39 72.576 1460.29 66.2161 Q1455.18 59.8562 1455.18 49.3643 Q1455.18 38.832 1460.29 32.472 Q1465.39 26.1121 1473.73 26.1121 Q1478.76 26.1121 1482.36 28.0971 Q1485.97 30.082 1488.28 34.0924 L1488.28 27.2059 L1495.73 27.2059 L1495.73 66.9452 Z\" fill=\"#000000\" fill-rule=\"evenodd\" fill-opacity=\"1\" /><path clip-path=\"url(#clip370)\" d=\"M 0 0 M1538.43 18.8205 L1538.43 41.5461 L1548.72 41.5461 Q1554.43 41.5461 1557.55 38.5889 Q1560.67 35.6318 1560.67 30.163 Q1560.67 24.7348 1557.55 21.7777 Q1554.43 18.8205 1548.72 18.8205 L1538.43 18.8205 M1530.24 12.096 L1548.72 12.096 Q1558.88 12.096 1564.07 16.714 Q1569.3 21.2916 1569.3 30.163 Q1569.3 39.1155 1564.07 43.6931 Q1558.88 48.2706 1548.72 48.2706 L1538.43 48.2706 L1538.43 72.576 L1530.24 72.576 L1530.24 12.096 Z\" fill=\"#000000\" fill-rule=\"evenodd\" fill-opacity=\"1\" /><path clip-path=\"url(#clip370)\" d=\"M 0 0 M1601.95 34.1734 Q1600.69 33.4443 1599.19 33.1202 Q1597.73 32.7556 1595.95 32.7556 Q1589.63 32.7556 1586.23 36.8875 Q1582.87 40.9789 1582.87 48.6757 L1582.87 72.576 L1575.37 72.576 L1575.37 27.2059 L1582.87 27.2059 L1582.87 34.2544 Q1585.22 30.1225 1588.98 28.1376 Q1592.75 26.1121 1598.14 26.1121 Q1598.91 26.1121 1599.84 26.2337 Q1600.77 26.3147 1601.91 26.5172 L1601.95 34.1734 Z\" fill=\"#000000\" fill-rule=\"evenodd\" fill-opacity=\"1\" /><path clip-path=\"url(#clip370)\" d=\"M 0 0 M1625.52 32.4315 Q1619.53 32.4315 1616.04 37.1306 Q1612.56 41.7891 1612.56 49.9314 Q1612.56 58.0738 1616 62.7728 Q1619.49 67.4314 1625.52 67.4314 Q1631.48 67.4314 1634.96 62.7323 Q1638.44 58.0333 1638.44 49.9314 Q1638.44 41.8701 1634.96 37.1711 Q1631.48 32.4315 1625.52 32.4315 M1625.52 26.1121 Q1635.24 26.1121 1640.79 32.4315 Q1646.34 38.7509 1646.34 49.9314 Q1646.34 61.0714 1640.79 67.4314 Q1635.24 73.7508 1625.52 73.7508 Q1615.76 73.7508 1610.21 67.4314 Q1604.7 61.0714 1604.7 49.9314 Q1604.7 38.7509 1610.21 32.4315 Q1615.76 26.1121 1625.52 26.1121 Z\" fill=\"#000000\" fill-rule=\"evenodd\" fill-opacity=\"1\" /><path clip-path=\"url(#clip370)\" d=\"M 0 0 M1684.02 49.3643 Q1684.02 41.2625 1680.66 36.8065 Q1677.33 32.3505 1671.3 32.3505 Q1665.3 32.3505 1661.94 36.8065 Q1658.62 41.2625 1658.62 49.3643 Q1658.62 57.4256 1661.94 61.8816 Q1665.3 66.3376 1671.3 66.3376 Q1677.33 66.3376 1680.66 61.8816 Q1684.02 57.4256 1684.02 49.3643 M1691.47 66.9452 Q1691.47 78.5308 1686.33 84.1616 Q1681.18 89.8329 1670.57 89.8329 Q1666.64 89.8329 1663.16 89.2252 Q1659.67 88.6581 1656.39 87.4428 L1656.39 80.1917 Q1659.67 81.9741 1662.87 82.8248 Q1666.07 83.6755 1669.39 83.6755 Q1676.73 83.6755 1680.37 79.8271 Q1684.02 76.0193 1684.02 68.282 L1684.02 64.5957 Q1681.71 68.6061 1678.1 70.5911 Q1674.5 72.576 1669.47 72.576 Q1661.13 72.576 1656.03 66.2161 Q1650.92 59.8562 1650.92 49.3643 Q1650.92 38.832 1656.03 32.472 Q1661.13 26.1121 1669.47 26.1121 Q1674.5 26.1121 1678.1 28.0971 Q1681.71 30.082 1684.02 34.0924 L1684.02 27.2059 L1691.47 27.2059 L1691.47 66.9452 Z\" fill=\"#000000\" fill-rule=\"evenodd\" fill-opacity=\"1\" /><path clip-path=\"url(#clip370)\" d=\"M 0 0 M1725.58 34.1734 Q1724.32 33.4443 1722.82 33.1202 Q1721.37 32.7556 1719.58 32.7556 Q1713.26 32.7556 1709.86 36.8875 Q1706.5 40.9789 1706.5 48.6757 L1706.5 72.576 L1699.01 72.576 L1699.01 27.2059 L1706.5 27.2059 L1706.5 34.2544 Q1708.85 30.1225 1712.62 28.1376 Q1716.38 26.1121 1721.77 26.1121 Q1722.54 26.1121 1723.47 26.2337 Q1724.4 26.3147 1725.54 26.5172 L1725.58 34.1734 Z\" fill=\"#000000\" fill-rule=\"evenodd\" fill-opacity=\"1\" /><path clip-path=\"url(#clip370)\" d=\"M 0 0 M1754.02 49.7694 Q1744.98 49.7694 1741.5 51.8354 Q1738.02 53.9013 1738.02 58.8839 Q1738.02 62.8538 1740.61 65.2034 Q1743.24 67.5124 1747.74 67.5124 Q1753.94 67.5124 1757.66 63.1374 Q1761.43 58.7219 1761.43 51.4303 L1761.43 49.7694 L1754.02 49.7694 M1768.88 46.6907 L1768.88 72.576 L1761.43 72.576 L1761.43 65.6895 Q1758.88 69.8214 1755.07 71.8063 Q1751.26 73.7508 1745.75 73.7508 Q1738.79 73.7508 1734.65 69.8619 Q1730.56 65.9325 1730.56 59.3701 Q1730.56 51.7138 1735.67 47.825 Q1740.81 43.9361 1750.98 43.9361 L1761.43 43.9361 L1761.43 43.2069 Q1761.43 38.0623 1758.03 35.2672 Q1754.67 32.4315 1748.55 32.4315 Q1744.66 32.4315 1740.97 33.3632 Q1737.29 34.295 1733.88 36.1584 L1733.88 29.2718 Q1737.98 27.692 1741.82 26.9223 Q1745.67 26.1121 1749.32 26.1121 Q1759.16 26.1121 1764.02 31.2163 Q1768.88 36.3204 1768.88 46.6907 Z\" fill=\"#000000\" fill-rule=\"evenodd\" fill-opacity=\"1\" /><path clip-path=\"url(#clip370)\" d=\"M 0 0 M1812.03 35.9153 Q1814.82 30.8922 1818.71 28.5022 Q1822.6 26.1121 1827.86 26.1121 Q1834.95 26.1121 1838.8 31.0947 Q1842.65 36.0368 1842.65 45.1919 L1842.65 72.576 L1835.16 72.576 L1835.16 45.4349 Q1835.16 38.913 1832.85 35.7533 Q1830.54 32.5936 1825.8 32.5936 Q1820.01 32.5936 1816.64 36.4419 Q1813.28 40.2903 1813.28 46.9338 L1813.28 72.576 L1805.79 72.576 L1805.79 45.4349 Q1805.79 38.8725 1803.48 35.7533 Q1801.17 32.5936 1796.35 32.5936 Q1790.64 32.5936 1787.27 36.4824 Q1783.91 40.3308 1783.91 46.9338 L1783.91 72.576 L1776.42 72.576 L1776.42 27.2059 L1783.91 27.2059 L1783.91 34.2544 Q1786.46 30.082 1790.03 28.0971 Q1793.59 26.1121 1798.5 26.1121 Q1803.44 26.1121 1806.88 28.6237 Q1810.36 31.1352 1812.03 35.9153 Z\" fill=\"#000000\" fill-rule=\"evenodd\" fill-opacity=\"1\" /><path clip-path=\"url(#clip370)\" d=\"M 0 0 M1879.39 28.5427 L1879.39 35.5912 Q1876.23 33.9709 1872.83 33.1607 Q1869.43 32.3505 1865.78 32.3505 Q1860.23 32.3505 1857.44 34.0519 Q1854.68 35.7533 1854.68 39.156 Q1854.68 41.7486 1856.67 43.2475 Q1858.65 44.7058 1864.65 46.0426 L1867.2 46.6097 Q1875.14 48.3111 1878.46 51.4303 Q1881.82 54.509 1881.82 60.0587 Q1881.82 66.3781 1876.8 70.0644 Q1871.82 73.7508 1863.07 73.7508 Q1859.42 73.7508 1855.45 73.0216 Q1851.52 72.3329 1847.15 70.9151 L1847.15 63.2184 Q1851.28 65.3654 1855.29 66.4591 Q1859.3 67.5124 1863.23 67.5124 Q1868.5 67.5124 1871.33 65.73 Q1874.17 63.9071 1874.17 60.6258 Q1874.17 57.5877 1872.1 55.9673 Q1870.08 54.3469 1863.15 52.8481 L1860.56 52.2405 Q1853.63 50.7821 1850.55 47.7845 Q1847.47 44.7463 1847.47 39.4801 Q1847.47 33.0797 1852.01 29.5959 Q1856.55 26.1121 1864.89 26.1121 Q1869.02 26.1121 1872.67 26.7198 Q1876.31 27.3274 1879.39 28.5427 Z\" fill=\"#000000\" fill-rule=\"evenodd\" fill-opacity=\"1\" /><path clip-path=\"url(#clip370)\" d=\"M 0 0 M1133.87 1521.76 L1133.87 1527.24 Q1131.39 1525.87 1128.88 1525.2 Q1126.39 1524.5 1123.85 1524.5 Q1118.15 1524.5 1115 1528.13 Q1111.85 1531.73 1111.85 1538.25 Q1111.85 1544.78 1115 1548.4 Q1118.15 1552 1123.85 1552 Q1126.39 1552 1128.88 1551.33 Q1131.39 1550.63 1133.87 1549.26 L1133.87 1554.68 Q1131.42 1555.82 1128.78 1556.39 Q1126.17 1556.97 1123.21 1556.97 Q1115.16 1556.97 1110.42 1551.91 Q1105.67 1546.85 1105.67 1538.25 Q1105.67 1529.53 1110.45 1524.53 Q1115.25 1519.54 1123.59 1519.54 Q1126.3 1519.54 1128.88 1520.11 Q1131.46 1520.65 1133.87 1521.76 Z\" fill=\"#000000\" fill-rule=\"evenodd\" fill-opacity=\"1\" /><path clip-path=\"url(#clip370)\" d=\"M 0 0 M1153.83 1524.5 Q1149.12 1524.5 1146.38 1528.19 Q1143.65 1531.85 1143.65 1538.25 Q1143.65 1544.65 1146.35 1548.34 Q1149.09 1552 1153.83 1552 Q1158.51 1552 1161.25 1548.31 Q1163.98 1544.62 1163.98 1538.25 Q1163.98 1531.92 1161.25 1528.23 Q1158.51 1524.5 1153.83 1524.5 M1153.83 1519.54 Q1161.47 1519.54 1165.83 1524.5 Q1170.19 1529.47 1170.19 1538.25 Q1170.19 1547 1165.83 1552 Q1161.47 1556.97 1153.83 1556.97 Q1146.16 1556.97 1141.8 1552 Q1137.47 1547 1137.47 1538.25 Q1137.47 1529.47 1141.8 1524.5 Q1146.16 1519.54 1153.83 1519.54 Z\" fill=\"#000000\" fill-rule=\"evenodd\" fill-opacity=\"1\" /><path clip-path=\"url(#clip370)\" d=\"M 0 0 M1204.09 1527.24 Q1206.28 1523.29 1209.34 1521.41 Q1212.4 1519.54 1216.53 1519.54 Q1222.1 1519.54 1225.13 1523.45 Q1228.15 1527.33 1228.15 1534.53 L1228.15 1556.04 L1222.26 1556.04 L1222.26 1534.72 Q1222.26 1529.59 1220.45 1527.11 Q1218.63 1524.63 1214.91 1524.63 Q1210.36 1524.63 1207.72 1527.65 Q1205.07 1530.68 1205.07 1535.9 L1205.07 1556.04 L1199.19 1556.04 L1199.19 1534.72 Q1199.19 1529.56 1197.37 1527.11 Q1195.56 1524.63 1191.77 1524.63 Q1187.28 1524.63 1184.64 1527.68 Q1182 1530.71 1182 1535.9 L1182 1556.04 L1176.11 1556.04 L1176.11 1520.4 L1182 1520.4 L1182 1525.93 Q1184 1522.66 1186.8 1521.1 Q1189.61 1519.54 1193.46 1519.54 Q1197.34 1519.54 1200.05 1521.51 Q1202.78 1523.48 1204.09 1527.24 Z\" fill=\"#000000\" fill-rule=\"evenodd\" fill-opacity=\"1\" /><path clip-path=\"url(#clip370)\" d=\"M 0 0 M1239.96 1550.7 L1239.96 1569.6 L1234.07 1569.6 L1234.07 1520.4 L1239.96 1520.4 L1239.96 1525.81 Q1241.8 1522.62 1244.61 1521.1 Q1247.44 1519.54 1251.35 1519.54 Q1257.85 1519.54 1261.89 1524.69 Q1265.96 1529.85 1265.96 1538.25 Q1265.96 1546.65 1261.89 1551.81 Q1257.85 1556.97 1251.35 1556.97 Q1247.44 1556.97 1244.61 1555.44 Q1241.8 1553.88 1239.96 1550.7 M1259.88 1538.25 Q1259.88 1531.79 1257.21 1528.13 Q1254.57 1524.44 1249.92 1524.44 Q1245.27 1524.44 1242.6 1528.13 Q1239.96 1531.79 1239.96 1538.25 Q1239.96 1544.71 1242.6 1548.4 Q1245.27 1552.07 1249.92 1552.07 Q1254.57 1552.07 1257.21 1548.4 Q1259.88 1544.71 1259.88 1538.25 Z\" fill=\"#000000\" fill-rule=\"evenodd\" fill-opacity=\"1\" /><path clip-path=\"url(#clip370)\" d=\"M 0 0 M1272.11 1506.52 L1277.96 1506.52 L1277.96 1556.04 L1272.11 1556.04 L1272.11 1506.52 Z\" fill=\"#000000\" fill-rule=\"evenodd\" fill-opacity=\"1\" /><path clip-path=\"url(#clip370)\" d=\"M 0 0 M1314.6 1536.76 L1314.6 1539.62 L1287.67 1539.62 Q1288.05 1545.67 1291.3 1548.85 Q1294.58 1552 1300.4 1552 Q1303.77 1552 1306.93 1551.17 Q1310.11 1550.35 1313.23 1548.69 L1313.23 1554.23 Q1310.08 1555.57 1306.77 1556.27 Q1303.46 1556.97 1300.05 1556.97 Q1291.52 1556.97 1286.52 1552 Q1281.56 1547.04 1281.56 1538.57 Q1281.56 1529.82 1286.27 1524.69 Q1291.01 1519.54 1299.03 1519.54 Q1306.23 1519.54 1310.4 1524.18 Q1314.6 1528.8 1314.6 1536.76 M1308.74 1535.04 Q1308.68 1530.23 1306.03 1527.37 Q1303.42 1524.5 1299.1 1524.5 Q1294.19 1524.5 1291.23 1527.27 Q1288.31 1530.04 1287.86 1535.07 L1308.74 1535.04 Z\" fill=\"#000000\" fill-rule=\"evenodd\" fill-opacity=\"1\" /><path clip-path=\"url(#clip370)\" d=\"M 0 0 M1349.23 1520.4 L1336.34 1537.74 L1349.89 1556.04 L1342.99 1556.04 L1332.61 1542.04 L1322.24 1556.04 L1315.33 1556.04 L1329.17 1537.39 L1316.51 1520.4 L1323.41 1520.4 L1332.87 1533.1 L1342.32 1520.4 L1349.23 1520.4 Z\" fill=\"#000000\" fill-rule=\"evenodd\" fill-opacity=\"1\" /><path clip-path=\"url(#clip370)\" d=\"M 0 0 M1356.04 1520.4 L1361.89 1520.4 L1361.89 1556.04 L1356.04 1556.04 L1356.04 1520.4 M1356.04 1506.52 L1361.89 1506.52 L1361.89 1513.93 L1356.04 1513.93 L1356.04 1506.52 Z\" fill=\"#000000\" fill-rule=\"evenodd\" fill-opacity=\"1\" /><path clip-path=\"url(#clip370)\" d=\"M 0 0 M1373.83 1510.27 L1373.83 1520.4 L1385.89 1520.4 L1385.89 1524.95 L1373.83 1524.95 L1373.83 1544.3 Q1373.83 1548.66 1375.01 1549.9 Q1376.22 1551.14 1379.88 1551.14 L1385.89 1551.14 L1385.89 1556.04 L1379.88 1556.04 Q1373.1 1556.04 1370.52 1553.53 Q1367.94 1550.98 1367.94 1544.3 L1367.94 1524.95 L1363.64 1524.95 L1363.64 1520.4 L1367.94 1520.4 L1367.94 1510.27 L1373.83 1510.27 Z\" fill=\"#000000\" fill-rule=\"evenodd\" fill-opacity=\"1\" /><path clip-path=\"url(#clip370)\" d=\"M 0 0 M1406.87 1559.35 Q1404.38 1565.72 1402.03 1567.66 Q1399.67 1569.6 1395.73 1569.6 L1391.05 1569.6 L1391.05 1564.7 L1394.49 1564.7 Q1396.91 1564.7 1398.24 1563.56 Q1399.58 1562.41 1401.2 1558.14 L1402.25 1555.47 L1387.83 1520.4 L1394.04 1520.4 L1405.18 1548.28 L1416.32 1520.4 L1422.53 1520.4 L1406.87 1559.35 Z\" fill=\"#000000\" fill-rule=\"evenodd\" fill-opacity=\"1\" /><path clip-path=\"url(#clip370)\" d=\"M 0 0 M59.3266 940.728 L59.3266 949.99 L69.9574 952.664 L69.9574 943.338 L59.3266 940.728 M41.2162 945.502 L54.4251 948.813 L54.4251 939.519 L41.2162 936.177 L41.2162 931.084 L54.4251 934.362 L54.4251 924.432 L59.3266 924.432 L59.3266 935.604 L69.9574 938.214 L69.9574 928.092 L74.8271 928.092 L74.8271 939.455 L88.0042 942.765 L88.0042 947.858 L74.8271 944.579 L74.8271 953.905 L88.0042 957.184 L88.0042 962.308 L74.8271 958.998 L74.8271 969.024 L69.9574 969.024 L69.9574 957.82 L59.3266 955.146 L59.3266 965.395 L54.4251 965.395 L54.4251 953.905 L41.2162 950.659 L41.2162 945.502 Z\" fill=\"#000000\" fill-rule=\"evenodd\" fill-opacity=\"1\" /><path clip-path=\"url(#clip370)\" d=\"M 0 0 M56.4621 883.755 Q56.4621 888.466 60.1542 891.203 Q63.8145 893.94 70.212 893.94 Q76.6095 893.94 80.3017 891.235 Q83.9619 888.498 83.9619 883.755 Q83.9619 879.076 80.2698 876.339 Q76.5777 873.602 70.212 873.602 Q63.8781 873.602 60.186 876.339 Q56.4621 879.076 56.4621 883.755 M51.4968 883.755 Q51.4968 876.116 56.4621 871.756 Q61.4273 867.395 70.212 867.395 Q78.9649 867.395 83.9619 871.756 Q88.9272 876.116 88.9272 883.755 Q88.9272 891.426 83.9619 895.786 Q78.9649 900.115 70.212 900.115 Q61.4273 900.115 56.4621 895.786 Q51.4968 891.426 51.4968 883.755 Z\" fill=\"#000000\" fill-rule=\"evenodd\" fill-opacity=\"1\" /><path clip-path=\"url(#clip370)\" d=\"M 0 0 M38.479 843.206 L43.3487 843.206 L43.3487 848.807 Q43.3487 851.958 44.6219 853.2 Q45.895 854.409 49.2052 854.409 L52.3562 854.409 L52.3562 844.765 L56.9077 844.765 L56.9077 854.409 L88.0042 854.409 L88.0042 860.297 L56.9077 860.297 L56.9077 865.899 L52.3562 865.899 L52.3562 860.297 L49.8736 860.297 Q43.9216 860.297 41.2162 857.528 Q38.479 854.759 38.479 848.744 L38.479 843.206 Z\" fill=\"#000000\" fill-rule=\"evenodd\" fill-opacity=\"1\" /><path clip-path=\"url(#clip370)\" d=\"M 0 0 M53.7248 790.688 L59.1993 790.688 Q57.8307 793.171 57.1623 795.686 Q56.4621 798.168 56.4621 800.714 Q56.4621 806.412 60.0905 809.563 Q63.6872 812.714 70.212 812.714 Q76.7369 812.714 80.3653 809.563 Q83.9619 806.412 83.9619 800.714 Q83.9619 798.168 83.2935 795.686 Q82.5933 793.171 81.2247 790.688 L86.6355 790.688 Q87.7814 793.139 88.3543 795.781 Q88.9272 798.391 88.9272 801.351 Q88.9272 809.404 83.8664 814.146 Q78.8057 818.889 70.212 818.889 Q61.491 818.889 56.4939 814.114 Q51.4968 809.308 51.4968 800.969 Q51.4968 798.264 52.0697 795.686 Q52.6108 793.107 53.7248 790.688 Z\" fill=\"#000000\" fill-rule=\"evenodd\" fill-opacity=\"1\" /><path clip-path=\"url(#clip370)\" d=\"M 0 0 M73.9359 785.15 L52.3562 785.15 L52.3562 779.294 L73.7131 779.294 Q78.7739 779.294 81.3202 777.32 Q83.8346 775.347 83.8346 771.4 Q83.8346 766.658 80.8109 763.921 Q77.7872 761.152 72.5673 761.152 L52.3562 761.152 L52.3562 755.295 L88.0042 755.295 L88.0042 761.152 L82.5296 761.152 Q85.7762 763.284 87.3676 766.117 Q88.9272 768.918 88.9272 772.642 Q88.9272 778.785 85.1078 781.967 Q81.2883 785.15 73.9359 785.15 M51.4968 770.414 L51.4968 770.414 Z\" fill=\"#000000\" fill-rule=\"evenodd\" fill-opacity=\"1\" /><path clip-path=\"url(#clip370)\" d=\"M 0 0 M57.8307 728.495 Q57.2578 729.482 57.0032 730.66 Q56.7167 731.806 56.7167 733.206 Q56.7167 738.171 59.9632 740.845 Q63.1779 743.487 69.2253 743.487 L88.0042 743.487 L88.0042 749.375 L52.3562 749.375 L52.3562 743.487 L57.8944 743.487 Q54.6479 741.641 53.0883 738.681 Q51.4968 735.721 51.4968 731.487 Q51.4968 730.883 51.5923 730.151 Q51.656 729.419 51.8151 728.527 L57.8307 728.495 Z\" fill=\"#000000\" fill-rule=\"evenodd\" fill-opacity=\"1\" /><path clip-path=\"url(#clip370)\" d=\"M 0 0 M57.8307 702.842 Q57.2578 703.828 57.0032 705.006 Q56.7167 706.152 56.7167 707.552 Q56.7167 712.518 59.9632 715.191 Q63.1779 717.833 69.2253 717.833 L88.0042 717.833 L88.0042 723.721 L52.3562 723.721 L52.3562 717.833 L57.8944 717.833 Q54.6479 715.987 53.0883 713.027 Q51.4968 710.067 51.4968 705.834 Q51.4968 705.229 51.5923 704.497 Q51.656 703.765 51.8151 702.874 L57.8307 702.842 Z\" fill=\"#000000\" fill-rule=\"evenodd\" fill-opacity=\"1\" /><path clip-path=\"url(#clip370)\" d=\"M 0 0 M52.3562 696.699 L52.3562 690.842 L88.0042 690.842 L88.0042 696.699 L52.3562 696.699 M38.479 696.699 L38.479 690.842 L45.895 690.842 L45.895 696.699 L38.479 696.699 Z\" fill=\"#000000\" fill-rule=\"evenodd\" fill-opacity=\"1\" /><path clip-path=\"url(#clip370)\" d=\"M 0 0 M53.7248 659.046 L59.1993 659.046 Q57.8307 661.528 57.1623 664.043 Q56.4621 666.525 56.4621 669.072 Q56.4621 674.769 60.0905 677.92 Q63.6872 681.071 70.212 681.071 Q76.7369 681.071 80.3653 677.92 Q83.9619 674.769 83.9619 669.072 Q83.9619 666.525 83.2935 664.043 Q82.5933 661.528 81.2247 659.046 L86.6355 659.046 Q87.7814 661.496 88.3543 664.138 Q88.9272 666.748 88.9272 669.708 Q88.9272 677.761 83.8664 682.503 Q78.8057 687.246 70.212 687.246 Q61.491 687.246 56.4939 682.471 Q51.4968 677.665 51.4968 669.326 Q51.4968 666.621 52.0697 664.043 Q52.6108 661.465 53.7248 659.046 Z\" fill=\"#000000\" fill-rule=\"evenodd\" fill-opacity=\"1\" /><path clip-path=\"url(#clip370)\" d=\"M 0 0 M73.9359 653.507 L52.3562 653.507 L52.3562 647.651 L73.7131 647.651 Q78.7739 647.651 81.3202 645.678 Q83.8346 643.704 83.8346 639.758 Q83.8346 635.015 80.8109 632.278 Q77.7872 629.509 72.5673 629.509 L52.3562 629.509 L52.3562 623.652 L88.0042 623.652 L88.0042 629.509 L82.5296 629.509 Q85.7762 631.641 87.3676 634.474 Q88.9272 637.275 88.9272 640.999 Q88.9272 647.142 85.1078 650.325 Q81.2883 653.507 73.9359 653.507 M51.4968 638.771 L51.4968 638.771 Z\" fill=\"#000000\" fill-rule=\"evenodd\" fill-opacity=\"1\" /><path clip-path=\"url(#clip370)\" d=\"M 0 0 M38.479 617.509 L38.479 611.653 L88.0042 611.653 L88.0042 617.509 L38.479 617.509 Z\" fill=\"#000000\" fill-rule=\"evenodd\" fill-opacity=\"1\" /><path clip-path=\"url(#clip370)\" d=\"M 0 0 M70.0847 589.309 Q70.0847 596.407 71.7079 599.144 Q73.3312 601.882 77.2461 601.882 Q80.3653 601.882 82.2114 599.845 Q84.0256 597.776 84.0256 594.243 Q84.0256 589.373 80.5881 586.445 Q77.1188 583.485 71.3897 583.485 L70.0847 583.485 L70.0847 589.309 M67.6657 577.628 L88.0042 577.628 L88.0042 583.485 L82.5933 583.485 Q85.8398 585.49 87.3994 588.482 Q88.9272 591.474 88.9272 595.802 Q88.9272 601.277 85.8716 604.523 Q82.7843 607.738 77.6281 607.738 Q71.6125 607.738 68.5569 603.728 Q65.5014 599.685 65.5014 591.696 L65.5014 583.485 L64.9285 583.485 Q60.8862 583.485 58.6901 586.158 Q56.4621 588.8 56.4621 593.606 Q56.4621 596.662 57.1941 599.558 Q57.9262 602.455 59.3903 605.128 L53.9795 605.128 Q52.7381 601.913 52.1334 598.89 Q51.4968 595.866 51.4968 593.001 Q51.4968 585.267 55.5072 581.448 Q59.5176 577.628 67.6657 577.628 Z\" fill=\"#000000\" fill-rule=\"evenodd\" fill-opacity=\"1\" /><path clip-path=\"url(#clip372)\" d=\"\n",
       "M610.907 1186.87 L610.907 1423.18 L1046.37 1423.18 L1046.37 1186.87 L610.907 1186.87 L610.907 1186.87  Z\n",
       "  \" fill=\"#1874cd\" fill-rule=\"evenodd\" fill-opacity=\"0.7\"/>\n",
       "<polyline clip-path=\"url(#clip372)\" style=\"stroke:#000000; stroke-width:4; stroke-opacity:0.7; fill:none\" points=\"\n",
       "  610.907,1186.87 610.907,1423.18 1046.37,1423.18 1046.37,1186.87 610.907,1186.87 \n",
       "  \"/>\n",
       "<path clip-path=\"url(#clip372)\" d=\"\n",
       "M1046.37 714.248 L1046.37 1423.18 L1481.83 1423.18 L1481.83 714.248 L1046.37 714.248 L1046.37 714.248  Z\n",
       "  \" fill=\"#1874cd\" fill-rule=\"evenodd\" fill-opacity=\"0.7\"/>\n",
       "<polyline clip-path=\"url(#clip372)\" style=\"stroke:#000000; stroke-width:4; stroke-opacity:0.7; fill:none\" points=\"\n",
       "  1046.37,714.248 1046.37,1423.18 1481.83,1423.18 1481.83,714.248 1046.37,714.248 \n",
       "  \"/>\n",
       "<path clip-path=\"url(#clip372)\" d=\"\n",
       "M1481.83 477.938 L1481.83 1423.18 L1917.29 1423.18 L1917.29 477.938 L1481.83 477.938 L1481.83 477.938  Z\n",
       "  \" fill=\"#1874cd\" fill-rule=\"evenodd\" fill-opacity=\"0.7\"/>\n",
       "<polyline clip-path=\"url(#clip372)\" style=\"stroke:#000000; stroke-width:4; stroke-opacity:0.7; fill:none\" points=\"\n",
       "  1481.83,477.938 1481.83,1423.18 1917.29,1423.18 1917.29,477.938 1481.83,477.938 \n",
       "  \"/>\n",
       "<path clip-path=\"url(#clip372)\" d=\"\n",
       "M1917.29 950.559 L1917.29 1423.18 L2352.76 1423.18 L2352.76 950.559 L1917.29 950.559 L1917.29 950.559  Z\n",
       "  \" fill=\"#1874cd\" fill-rule=\"evenodd\" fill-opacity=\"0.7\"/>\n",
       "<polyline clip-path=\"url(#clip372)\" style=\"stroke:#000000; stroke-width:4; stroke-opacity:0.7; fill:none\" points=\"\n",
       "  1917.29,950.559 1917.29,1423.18 2352.76,1423.18 2352.76,950.559 1917.29,950.559 \n",
       "  \"/>\n",
       "<path clip-path=\"url(#clip372)\" d=\"\n",
       "M2352.76 1186.87 L2352.76 1423.18 L2788.22 1423.18 L2788.22 1186.87 L2352.76 1186.87 L2352.76 1186.87  Z\n",
       "  \" fill=\"#1874cd\" fill-rule=\"evenodd\" fill-opacity=\"0.7\"/>\n",
       "<polyline clip-path=\"url(#clip372)\" style=\"stroke:#000000; stroke-width:4; stroke-opacity:0.7; fill:none\" points=\"\n",
       "  2352.76,1186.87 2352.76,1423.18 2788.22,1423.18 2788.22,1186.87 2352.76,1186.87 \n",
       "  \"/>\n",
       "</svg>\n"
      ]
     },
     "metadata": {},
     "output_type": "display_data"
    },
    {
     "name": "stdout",
     "output_type": "stream",
     "text": [
      "****** Psychology Programs ******\n",
      "\n",
      " Metric -- complexity\n",
      "  Number of curricula = 13\n",
      "  Mean = 77.6923076923077\n",
      "  STD = 2.133462293173958\n",
      "  Max. = 114.0\n",
      "  Min. = 40.0\n"
     ]
    },
    {
     "data": {
      "image/svg+xml": [
       "<?xml version=\"1.0\" encoding=\"utf-8\"?>\n",
       "<svg xmlns=\"http://www.w3.org/2000/svg\" xmlns:xlink=\"http://www.w3.org/1999/xlink\" width=\"600\" height=\"400\" viewBox=\"0 0 2400 1600\">\n",
       "<defs>\n",
       "  <clipPath id=\"clip410\">\n",
       "    <rect x=\"0\" y=\"0\" width=\"2400\" height=\"1600\"/>\n",
       "  </clipPath>\n",
       "</defs>\n",
       "<path clip-path=\"url(#clip410)\" d=\"\n",
       "M0 1600 L2400 1600 L2400 0 L0 0  Z\n",
       "  \" fill=\"#ffffff\" fill-rule=\"evenodd\" fill-opacity=\"1\"/>\n",
       "<defs>\n",
       "  <clipPath id=\"clip411\">\n",
       "    <rect x=\"480\" y=\"0\" width=\"1681\" height=\"1600\"/>\n",
       "  </clipPath>\n",
       "</defs>\n",
       "<path clip-path=\"url(#clip410)\" d=\"\n",
       "M175.445 1423.18 L2352.76 1423.18 L2352.76 123.472 L175.445 123.472  Z\n",
       "  \" fill=\"#ffffff\" fill-rule=\"evenodd\" fill-opacity=\"1\"/>\n",
       "<defs>\n",
       "  <clipPath id=\"clip412\">\n",
       "    <rect x=\"175\" y=\"123\" width=\"2178\" height=\"1301\"/>\n",
       "  </clipPath>\n",
       "</defs>\n",
       "<polyline clip-path=\"url(#clip412)\" style=\"stroke:#000000; stroke-width:2; stroke-opacity:0.1; fill:none\" points=\"\n",
       "  175.445,1423.18 175.445,123.472 \n",
       "  \"/>\n",
       "<polyline clip-path=\"url(#clip412)\" style=\"stroke:#000000; stroke-width:2; stroke-opacity:0.1; fill:none\" points=\"\n",
       "  610.907,1423.18 610.907,123.472 \n",
       "  \"/>\n",
       "<polyline clip-path=\"url(#clip412)\" style=\"stroke:#000000; stroke-width:2; stroke-opacity:0.1; fill:none\" points=\"\n",
       "  1046.37,1423.18 1046.37,123.472 \n",
       "  \"/>\n",
       "<polyline clip-path=\"url(#clip412)\" style=\"stroke:#000000; stroke-width:2; stroke-opacity:0.1; fill:none\" points=\"\n",
       "  1481.83,1423.18 1481.83,123.472 \n",
       "  \"/>\n",
       "<polyline clip-path=\"url(#clip412)\" style=\"stroke:#000000; stroke-width:2; stroke-opacity:0.1; fill:none\" points=\"\n",
       "  1917.29,1423.18 1917.29,123.472 \n",
       "  \"/>\n",
       "<polyline clip-path=\"url(#clip412)\" style=\"stroke:#000000; stroke-width:2; stroke-opacity:0.1; fill:none\" points=\"\n",
       "  2352.76,1423.18 2352.76,123.472 \n",
       "  \"/>\n",
       "<polyline clip-path=\"url(#clip412)\" style=\"stroke:#000000; stroke-width:2; stroke-opacity:0.1; fill:none\" points=\"\n",
       "  175.445,1423.18 2352.76,1423.18 \n",
       "  \"/>\n",
       "<polyline clip-path=\"url(#clip412)\" style=\"stroke:#000000; stroke-width:2; stroke-opacity:0.1; fill:none\" points=\"\n",
       "  175.445,1223.22 2352.76,1223.22 \n",
       "  \"/>\n",
       "<polyline clip-path=\"url(#clip412)\" style=\"stroke:#000000; stroke-width:2; stroke-opacity:0.1; fill:none\" points=\"\n",
       "  175.445,1023.27 2352.76,1023.27 \n",
       "  \"/>\n",
       "<polyline clip-path=\"url(#clip412)\" style=\"stroke:#000000; stroke-width:2; stroke-opacity:0.1; fill:none\" points=\"\n",
       "  175.445,823.315 2352.76,823.315 \n",
       "  \"/>\n",
       "<polyline clip-path=\"url(#clip412)\" style=\"stroke:#000000; stroke-width:2; stroke-opacity:0.1; fill:none\" points=\"\n",
       "  175.445,623.36 2352.76,623.36 \n",
       "  \"/>\n",
       "<polyline clip-path=\"url(#clip412)\" style=\"stroke:#000000; stroke-width:2; stroke-opacity:0.1; fill:none\" points=\"\n",
       "  175.445,423.405 2352.76,423.405 \n",
       "  \"/>\n",
       "<polyline clip-path=\"url(#clip412)\" style=\"stroke:#000000; stroke-width:2; stroke-opacity:0.1; fill:none\" points=\"\n",
       "  175.445,223.45 2352.76,223.45 \n",
       "  \"/>\n",
       "<polyline clip-path=\"url(#clip410)\" style=\"stroke:#000000; stroke-width:4; stroke-opacity:1; fill:none\" points=\"\n",
       "  175.445,1423.18 2352.76,1423.18 \n",
       "  \"/>\n",
       "<polyline clip-path=\"url(#clip410)\" style=\"stroke:#000000; stroke-width:4; stroke-opacity:1; fill:none\" points=\"\n",
       "  175.445,1423.18 175.445,123.472 \n",
       "  \"/>\n",
       "<polyline clip-path=\"url(#clip410)\" style=\"stroke:#000000; stroke-width:4; stroke-opacity:1; fill:none\" points=\"\n",
       "  175.445,1423.18 175.445,1407.58 \n",
       "  \"/>\n",
       "<polyline clip-path=\"url(#clip410)\" style=\"stroke:#000000; stroke-width:4; stroke-opacity:1; fill:none\" points=\"\n",
       "  610.907,1423.18 610.907,1407.58 \n",
       "  \"/>\n",
       "<polyline clip-path=\"url(#clip410)\" style=\"stroke:#000000; stroke-width:4; stroke-opacity:1; fill:none\" points=\"\n",
       "  1046.37,1423.18 1046.37,1407.58 \n",
       "  \"/>\n",
       "<polyline clip-path=\"url(#clip410)\" style=\"stroke:#000000; stroke-width:4; stroke-opacity:1; fill:none\" points=\"\n",
       "  1481.83,1423.18 1481.83,1407.58 \n",
       "  \"/>\n",
       "<polyline clip-path=\"url(#clip410)\" style=\"stroke:#000000; stroke-width:4; stroke-opacity:1; fill:none\" points=\"\n",
       "  1917.29,1423.18 1917.29,1407.58 \n",
       "  \"/>\n",
       "<polyline clip-path=\"url(#clip410)\" style=\"stroke:#000000; stroke-width:4; stroke-opacity:1; fill:none\" points=\"\n",
       "  2352.76,1423.18 2352.76,1407.58 \n",
       "  \"/>\n",
       "<polyline clip-path=\"url(#clip410)\" style=\"stroke:#000000; stroke-width:4; stroke-opacity:1; fill:none\" points=\"\n",
       "  175.445,1423.18 201.573,1423.18 \n",
       "  \"/>\n",
       "<polyline clip-path=\"url(#clip410)\" style=\"stroke:#000000; stroke-width:4; stroke-opacity:1; fill:none\" points=\"\n",
       "  175.445,1223.22 201.573,1223.22 \n",
       "  \"/>\n",
       "<polyline clip-path=\"url(#clip410)\" style=\"stroke:#000000; stroke-width:4; stroke-opacity:1; fill:none\" points=\"\n",
       "  175.445,1023.27 201.573,1023.27 \n",
       "  \"/>\n",
       "<polyline clip-path=\"url(#clip410)\" style=\"stroke:#000000; stroke-width:4; stroke-opacity:1; fill:none\" points=\"\n",
       "  175.445,823.315 201.573,823.315 \n",
       "  \"/>\n",
       "<polyline clip-path=\"url(#clip410)\" style=\"stroke:#000000; stroke-width:4; stroke-opacity:1; fill:none\" points=\"\n",
       "  175.445,623.36 201.573,623.36 \n",
       "  \"/>\n",
       "<polyline clip-path=\"url(#clip410)\" style=\"stroke:#000000; stroke-width:4; stroke-opacity:1; fill:none\" points=\"\n",
       "  175.445,423.405 201.573,423.405 \n",
       "  \"/>\n",
       "<polyline clip-path=\"url(#clip410)\" style=\"stroke:#000000; stroke-width:4; stroke-opacity:1; fill:none\" points=\"\n",
       "  175.445,223.45 201.573,223.45 \n",
       "  \"/>\n",
       "<path clip-path=\"url(#clip410)\" d=\"M 0 0 M175.445 1445.17 Q171.834 1445.17 170.005 1448.74 Q168.2 1452.28 168.2 1459.41 Q168.2 1466.51 170.005 1470.08 Q171.834 1473.62 175.445 1473.62 Q179.079 1473.62 180.885 1470.08 Q182.714 1466.51 182.714 1459.41 Q182.714 1452.28 180.885 1448.74 Q179.079 1445.17 175.445 1445.17 M175.445 1441.47 Q181.255 1441.47 184.311 1446.07 Q187.39 1450.66 187.39 1459.41 Q187.39 1468.13 184.311 1472.74 Q181.255 1477.32 175.445 1477.32 Q169.635 1477.32 166.556 1472.74 Q163.501 1468.13 163.501 1459.41 Q163.501 1450.66 166.556 1446.07 Q169.635 1441.47 175.445 1441.47 Z\" fill=\"#000000\" fill-rule=\"evenodd\" fill-opacity=\"1\" /><path clip-path=\"url(#clip410)\" d=\"M 0 0 M574.276 1472.72 L581.914 1472.72 L581.914 1446.35 L573.604 1448.02 L573.604 1443.76 L581.868 1442.09 L586.544 1442.09 L586.544 1472.72 L594.183 1472.72 L594.183 1476.65 L574.276 1476.65 L574.276 1472.72 Z\" fill=\"#000000\" fill-rule=\"evenodd\" fill-opacity=\"1\" /><path clip-path=\"url(#clip410)\" d=\"M 0 0 M609.252 1445.17 Q605.641 1445.17 603.812 1448.74 Q602.007 1452.28 602.007 1459.41 Q602.007 1466.51 603.812 1470.08 Q605.641 1473.62 609.252 1473.62 Q612.887 1473.62 614.692 1470.08 Q616.521 1466.51 616.521 1459.41 Q616.521 1452.28 614.692 1448.74 Q612.887 1445.17 609.252 1445.17 M609.252 1441.47 Q615.062 1441.47 618.118 1446.07 Q621.197 1450.66 621.197 1459.41 Q621.197 1468.13 618.118 1472.74 Q615.062 1477.32 609.252 1477.32 Q603.442 1477.32 600.363 1472.74 Q597.308 1468.13 597.308 1459.41 Q597.308 1450.66 600.363 1446.07 Q603.442 1441.47 609.252 1441.47 Z\" fill=\"#000000\" fill-rule=\"evenodd\" fill-opacity=\"1\" /><path clip-path=\"url(#clip410)\" d=\"M 0 0 M636.266 1445.17 Q632.655 1445.17 630.826 1448.74 Q629.021 1452.28 629.021 1459.41 Q629.021 1466.51 630.826 1470.08 Q632.655 1473.62 636.266 1473.62 Q639.9 1473.62 641.706 1470.08 Q643.534 1466.51 643.534 1459.41 Q643.534 1452.28 641.706 1448.74 Q639.9 1445.17 636.266 1445.17 M636.266 1441.47 Q642.076 1441.47 645.132 1446.07 Q648.21 1450.66 648.21 1459.41 Q648.21 1468.13 645.132 1472.74 Q642.076 1477.32 636.266 1477.32 Q630.456 1477.32 627.377 1472.74 Q624.322 1468.13 624.322 1459.41 Q624.322 1450.66 627.377 1446.07 Q630.456 1441.47 636.266 1441.47 Z\" fill=\"#000000\" fill-rule=\"evenodd\" fill-opacity=\"1\" /><path clip-path=\"url(#clip410)\" d=\"M 0 0 M1014.01 1472.72 L1030.33 1472.72 L1030.33 1476.65 L1008.38 1476.65 L1008.38 1472.72 Q1011.05 1469.96 1015.63 1465.33 Q1020.24 1460.68 1021.42 1459.34 Q1023.66 1456.81 1024.54 1455.08 Q1025.44 1453.32 1025.44 1451.63 Q1025.44 1448.87 1023.5 1447.14 Q1021.58 1445.4 1018.48 1445.4 Q1016.28 1445.4 1013.82 1446.17 Q1011.39 1446.93 1008.62 1448.48 L1008.62 1443.76 Q1011.44 1442.62 1013.89 1442.05 Q1016.35 1441.47 1018.38 1441.47 Q1023.75 1441.47 1026.95 1444.15 Q1030.14 1446.84 1030.14 1451.33 Q1030.14 1453.46 1029.33 1455.38 Q1028.55 1457.28 1026.44 1459.87 Q1025.86 1460.54 1022.76 1463.76 Q1019.66 1466.95 1014.01 1472.72 Z\" fill=\"#000000\" fill-rule=\"evenodd\" fill-opacity=\"1\" /><path clip-path=\"url(#clip410)\" d=\"M 0 0 M1045.4 1445.17 Q1041.79 1445.17 1039.96 1448.74 Q1038.15 1452.28 1038.15 1459.41 Q1038.15 1466.51 1039.96 1470.08 Q1041.79 1473.62 1045.4 1473.62 Q1049.03 1473.62 1050.84 1470.08 Q1052.67 1466.51 1052.67 1459.41 Q1052.67 1452.28 1050.84 1448.74 Q1049.03 1445.17 1045.4 1445.17 M1045.4 1441.47 Q1051.21 1441.47 1054.26 1446.07 Q1057.34 1450.66 1057.34 1459.41 Q1057.34 1468.13 1054.26 1472.74 Q1051.21 1477.32 1045.4 1477.32 Q1039.59 1477.32 1036.51 1472.74 Q1033.45 1468.13 1033.45 1459.41 Q1033.45 1450.66 1036.51 1446.07 Q1039.59 1441.47 1045.4 1441.47 Z\" fill=\"#000000\" fill-rule=\"evenodd\" fill-opacity=\"1\" /><path clip-path=\"url(#clip410)\" d=\"M 0 0 M1072.41 1445.17 Q1068.8 1445.17 1066.97 1448.74 Q1065.17 1452.28 1065.17 1459.41 Q1065.17 1466.51 1066.97 1470.08 Q1068.8 1473.62 1072.41 1473.62 Q1076.05 1473.62 1077.85 1470.08 Q1079.68 1466.51 1079.68 1459.41 Q1079.68 1452.28 1077.85 1448.74 Q1076.05 1445.17 1072.41 1445.17 M1072.41 1441.47 Q1078.22 1441.47 1081.28 1446.07 Q1084.36 1450.66 1084.36 1459.41 Q1084.36 1468.13 1081.28 1472.74 Q1078.22 1477.32 1072.41 1477.32 Q1066.6 1477.32 1063.52 1472.74 Q1060.47 1468.13 1060.47 1459.41 Q1060.47 1450.66 1063.52 1446.07 Q1066.6 1441.47 1072.41 1441.47 Z\" fill=\"#000000\" fill-rule=\"evenodd\" fill-opacity=\"1\" /><path clip-path=\"url(#clip410)\" d=\"M 0 0 M1459.07 1458.02 Q1462.42 1458.74 1464.3 1461 Q1466.2 1463.27 1466.2 1466.61 Q1466.2 1471.72 1462.68 1474.52 Q1459.16 1477.32 1452.68 1477.32 Q1450.5 1477.32 1448.19 1476.88 Q1445.89 1476.47 1443.44 1475.61 L1443.44 1471.1 Q1445.39 1472.23 1447.7 1472.81 Q1450.01 1473.39 1452.54 1473.39 Q1456.94 1473.39 1459.23 1471.65 Q1461.54 1469.92 1461.54 1466.61 Q1461.54 1463.55 1459.39 1461.84 Q1457.26 1460.1 1453.44 1460.1 L1449.41 1460.1 L1449.41 1456.26 L1453.63 1456.26 Q1457.07 1456.26 1458.9 1454.89 Q1460.73 1453.5 1460.73 1450.91 Q1460.73 1448.25 1458.83 1446.84 Q1456.96 1445.4 1453.44 1445.4 Q1451.52 1445.4 1449.32 1445.82 Q1447.12 1446.24 1444.48 1447.11 L1444.48 1442.95 Q1447.14 1442.21 1449.46 1441.84 Q1451.8 1441.47 1453.86 1441.47 Q1459.18 1441.47 1462.28 1443.9 Q1465.38 1446.3 1465.38 1450.43 Q1465.38 1453.3 1463.74 1455.29 Q1462.1 1457.25 1459.07 1458.02 Z\" fill=\"#000000\" fill-rule=\"evenodd\" fill-opacity=\"1\" /><path clip-path=\"url(#clip410)\" d=\"M 0 0 M1481.26 1445.17 Q1477.65 1445.17 1475.82 1448.74 Q1474.02 1452.28 1474.02 1459.41 Q1474.02 1466.51 1475.82 1470.08 Q1477.65 1473.62 1481.26 1473.62 Q1484.9 1473.62 1486.7 1470.08 Q1488.53 1466.51 1488.53 1459.41 Q1488.53 1452.28 1486.7 1448.74 Q1484.9 1445.17 1481.26 1445.17 M1481.26 1441.47 Q1487.07 1441.47 1490.13 1446.07 Q1493.21 1450.66 1493.21 1459.41 Q1493.21 1468.13 1490.13 1472.74 Q1487.07 1477.32 1481.26 1477.32 Q1475.45 1477.32 1472.38 1472.74 Q1469.32 1468.13 1469.32 1459.41 Q1469.32 1450.66 1472.38 1446.07 Q1475.45 1441.47 1481.26 1441.47 Z\" fill=\"#000000\" fill-rule=\"evenodd\" fill-opacity=\"1\" /><path clip-path=\"url(#clip410)\" d=\"M 0 0 M1508.28 1445.17 Q1504.67 1445.17 1502.84 1448.74 Q1501.03 1452.28 1501.03 1459.41 Q1501.03 1466.51 1502.84 1470.08 Q1504.67 1473.62 1508.28 1473.62 Q1511.91 1473.62 1513.72 1470.08 Q1515.55 1466.51 1515.55 1459.41 Q1515.55 1452.28 1513.72 1448.74 Q1511.91 1445.17 1508.28 1445.17 M1508.28 1441.47 Q1514.09 1441.47 1517.14 1446.07 Q1520.22 1450.66 1520.22 1459.41 Q1520.22 1468.13 1517.14 1472.74 Q1514.09 1477.32 1508.28 1477.32 Q1502.47 1477.32 1499.39 1472.74 Q1496.33 1468.13 1496.33 1459.41 Q1496.33 1450.66 1499.39 1446.07 Q1502.47 1441.47 1508.28 1441.47 Z\" fill=\"#000000\" fill-rule=\"evenodd\" fill-opacity=\"1\" /><path clip-path=\"url(#clip410)\" d=\"M 0 0 M1893.29 1446.17 L1881.48 1464.61 L1893.29 1464.61 L1893.29 1446.17 M1892.06 1442.09 L1897.94 1442.09 L1897.94 1464.61 L1902.87 1464.61 L1902.87 1468.5 L1897.94 1468.5 L1897.94 1476.65 L1893.29 1476.65 L1893.29 1468.5 L1877.69 1468.5 L1877.69 1463.99 L1892.06 1442.09 Z\" fill=\"#000000\" fill-rule=\"evenodd\" fill-opacity=\"1\" /><path clip-path=\"url(#clip410)\" d=\"M 0 0 M1917.94 1445.17 Q1914.33 1445.17 1912.5 1448.74 Q1910.7 1452.28 1910.7 1459.41 Q1910.7 1466.51 1912.5 1470.08 Q1914.33 1473.62 1917.94 1473.62 Q1921.58 1473.62 1923.38 1470.08 Q1925.21 1466.51 1925.21 1459.41 Q1925.21 1452.28 1923.38 1448.74 Q1921.58 1445.17 1917.94 1445.17 M1917.94 1441.47 Q1923.75 1441.47 1926.81 1446.07 Q1929.89 1450.66 1929.89 1459.41 Q1929.89 1468.13 1926.81 1472.74 Q1923.75 1477.32 1917.94 1477.32 Q1912.13 1477.32 1909.05 1472.74 Q1906 1468.13 1906 1459.41 Q1906 1450.66 1909.05 1446.07 Q1912.13 1441.47 1917.94 1441.47 Z\" fill=\"#000000\" fill-rule=\"evenodd\" fill-opacity=\"1\" /><path clip-path=\"url(#clip410)\" d=\"M 0 0 M1944.96 1445.17 Q1941.34 1445.17 1939.52 1448.74 Q1937.71 1452.28 1937.71 1459.41 Q1937.71 1466.51 1939.52 1470.08 Q1941.34 1473.62 1944.96 1473.62 Q1948.59 1473.62 1950.4 1470.08 Q1952.22 1466.51 1952.22 1459.41 Q1952.22 1452.28 1950.4 1448.74 Q1948.59 1445.17 1944.96 1445.17 M1944.96 1441.47 Q1950.77 1441.47 1953.82 1446.07 Q1956.9 1450.66 1956.9 1459.41 Q1956.9 1468.13 1953.82 1472.74 Q1950.77 1477.32 1944.96 1477.32 Q1939.15 1477.32 1936.07 1472.74 Q1933.01 1468.13 1933.01 1459.41 Q1933.01 1450.66 1936.07 1446.07 Q1939.15 1441.47 1944.96 1441.47 Z\" fill=\"#000000\" fill-rule=\"evenodd\" fill-opacity=\"1\" /><path clip-path=\"url(#clip410)\" d=\"M 0 0 M2316.02 1442.09 L2334.38 1442.09 L2334.38 1446.03 L2320.3 1446.03 L2320.3 1454.5 Q2321.32 1454.15 2322.34 1453.99 Q2323.36 1453.8 2324.38 1453.8 Q2330.16 1453.8 2333.54 1456.98 Q2336.92 1460.15 2336.92 1465.56 Q2336.92 1471.14 2333.45 1474.24 Q2329.98 1477.32 2323.66 1477.32 Q2321.48 1477.32 2319.21 1476.95 Q2316.97 1476.58 2314.56 1475.84 L2314.56 1471.14 Q2316.64 1472.28 2318.87 1472.83 Q2321.09 1473.39 2323.57 1473.39 Q2327.57 1473.39 2329.91 1471.28 Q2332.25 1469.18 2332.25 1465.56 Q2332.25 1461.95 2329.91 1459.85 Q2327.57 1457.74 2323.57 1457.74 Q2321.69 1457.74 2319.82 1458.16 Q2317.96 1458.57 2316.02 1459.45 L2316.02 1442.09 Z\" fill=\"#000000\" fill-rule=\"evenodd\" fill-opacity=\"1\" /><path clip-path=\"url(#clip410)\" d=\"M 0 0 M2351.99 1445.17 Q2348.38 1445.17 2346.55 1448.74 Q2344.75 1452.28 2344.75 1459.41 Q2344.75 1466.51 2346.55 1470.08 Q2348.38 1473.62 2351.99 1473.62 Q2355.63 1473.62 2357.43 1470.08 Q2359.26 1466.51 2359.26 1459.41 Q2359.26 1452.28 2357.43 1448.74 Q2355.63 1445.17 2351.99 1445.17 M2351.99 1441.47 Q2357.8 1441.47 2360.86 1446.07 Q2363.94 1450.66 2363.94 1459.41 Q2363.94 1468.13 2360.86 1472.74 Q2357.8 1477.32 2351.99 1477.32 Q2346.18 1477.32 2343.1 1472.74 Q2340.05 1468.13 2340.05 1459.41 Q2340.05 1450.66 2343.1 1446.07 Q2346.18 1441.47 2351.99 1441.47 Z\" fill=\"#000000\" fill-rule=\"evenodd\" fill-opacity=\"1\" /><path clip-path=\"url(#clip410)\" d=\"M 0 0 M2379.01 1445.17 Q2375.39 1445.17 2373.57 1448.74 Q2371.76 1452.28 2371.76 1459.41 Q2371.76 1466.51 2373.57 1470.08 Q2375.39 1473.62 2379.01 1473.62 Q2382.64 1473.62 2384.45 1470.08 Q2386.27 1466.51 2386.27 1459.41 Q2386.27 1452.28 2384.45 1448.74 Q2382.64 1445.17 2379.01 1445.17 M2379.01 1441.47 Q2384.82 1441.47 2387.87 1446.07 Q2390.95 1450.66 2390.95 1459.41 Q2390.95 1468.13 2387.87 1472.74 Q2384.82 1477.32 2379.01 1477.32 Q2373.2 1477.32 2370.12 1472.74 Q2367.06 1468.13 2367.06 1459.41 Q2367.06 1450.66 2370.12 1446.07 Q2373.2 1441.47 2379.01 1441.47 Z\" fill=\"#000000\" fill-rule=\"evenodd\" fill-opacity=\"1\" /><path clip-path=\"url(#clip410)\" d=\"M 0 0 M139.501 1408.98 Q135.89 1408.98 134.061 1412.54 Q132.255 1416.08 132.255 1423.21 Q132.255 1430.32 134.061 1433.89 Q135.89 1437.43 139.501 1437.43 Q143.135 1437.43 144.941 1433.89 Q146.769 1430.32 146.769 1423.21 Q146.769 1416.08 144.941 1412.54 Q143.135 1408.98 139.501 1408.98 M139.501 1405.27 Q145.311 1405.27 148.367 1409.88 Q151.445 1414.46 151.445 1423.21 Q151.445 1431.94 148.367 1436.55 Q145.311 1441.13 139.501 1441.13 Q133.691 1441.13 130.612 1436.55 Q127.556 1431.94 127.556 1423.21 Q127.556 1414.46 130.612 1409.88 Q133.691 1405.27 139.501 1405.27 Z\" fill=\"#000000\" fill-rule=\"evenodd\" fill-opacity=\"1\" /><path clip-path=\"url(#clip410)\" d=\"M 0 0 M131.538 1236.57 L139.177 1236.57 L139.177 1210.2 L130.867 1211.87 L130.867 1207.61 L139.13 1205.94 L143.806 1205.94 L143.806 1236.57 L151.445 1236.57 L151.445 1240.5 L131.538 1240.5 L131.538 1236.57 Z\" fill=\"#000000\" fill-rule=\"evenodd\" fill-opacity=\"1\" /><path clip-path=\"url(#clip410)\" d=\"M 0 0 M135.126 1036.61 L151.445 1036.61 L151.445 1040.55 L129.501 1040.55 L129.501 1036.61 Q132.163 1033.86 136.746 1029.23 Q141.353 1024.58 142.533 1023.24 Q144.779 1020.71 145.658 1018.98 Q146.561 1017.22 146.561 1015.53 Q146.561 1012.77 144.617 1011.04 Q142.695 1009.3 139.593 1009.3 Q137.394 1009.3 134.941 1010.06 Q132.51 1010.83 129.732 1012.38 L129.732 1007.66 Q132.556 1006.52 135.01 1005.94 Q137.464 1005.36 139.501 1005.36 Q144.871 1005.36 148.066 1008.05 Q151.26 1010.74 151.26 1015.23 Q151.26 1017.36 150.45 1019.28 Q149.663 1021.17 147.556 1023.77 Q146.978 1024.44 143.876 1027.66 Q140.774 1030.85 135.126 1036.61 Z\" fill=\"#000000\" fill-rule=\"evenodd\" fill-opacity=\"1\" /><path clip-path=\"url(#clip410)\" d=\"M 0 0 M144.316 821.961 Q147.672 822.678 149.547 824.947 Q151.445 827.215 151.445 830.549 Q151.445 835.664 147.927 838.465 Q144.408 841.266 137.927 841.266 Q135.751 841.266 133.436 840.826 Q131.144 840.41 128.691 839.553 L128.691 835.039 Q130.635 836.173 132.95 836.752 Q135.265 837.331 137.788 837.331 Q142.186 837.331 144.478 835.595 Q146.792 833.859 146.792 830.549 Q146.792 827.493 144.64 825.78 Q142.51 824.044 138.691 824.044 L134.663 824.044 L134.663 820.201 L138.876 820.201 Q142.325 820.201 144.154 818.836 Q145.982 817.447 145.982 814.854 Q145.982 812.192 144.084 810.78 Q142.209 809.345 138.691 809.345 Q136.769 809.345 134.57 809.762 Q132.371 810.178 129.732 811.058 L129.732 806.891 Q132.394 806.15 134.709 805.78 Q137.047 805.41 139.107 805.41 Q144.431 805.41 147.533 807.84 Q150.635 810.248 150.635 814.368 Q150.635 817.238 148.992 819.229 Q147.348 821.197 144.316 821.961 Z\" fill=\"#000000\" fill-rule=\"evenodd\" fill-opacity=\"1\" /><path clip-path=\"url(#clip410)\" d=\"M 0 0 M141.862 610.154 L130.056 628.603 L141.862 628.603 L141.862 610.154 M140.635 606.08 L146.515 606.08 L146.515 628.603 L151.445 628.603 L151.445 632.492 L146.515 632.492 L146.515 640.64 L141.862 640.64 L141.862 632.492 L126.26 632.492 L126.26 627.978 L140.635 606.08 Z\" fill=\"#000000\" fill-rule=\"evenodd\" fill-opacity=\"1\" /><path clip-path=\"url(#clip410)\" d=\"M 0 0 M130.543 406.125 L148.899 406.125 L148.899 410.06 L134.825 410.06 L134.825 418.532 Q135.843 418.185 136.862 418.023 Q137.88 417.838 138.899 417.838 Q144.686 417.838 148.066 421.009 Q151.445 424.18 151.445 429.597 Q151.445 435.175 147.973 438.277 Q144.501 441.356 138.181 441.356 Q136.005 441.356 133.737 440.986 Q131.492 440.615 129.084 439.874 L129.084 435.175 Q131.168 436.31 133.39 436.865 Q135.612 437.421 138.089 437.421 Q142.093 437.421 144.431 435.314 Q146.769 433.208 146.769 429.597 Q146.769 425.986 144.431 423.879 Q142.093 421.773 138.089 421.773 Q136.214 421.773 134.339 422.189 Q132.487 422.606 130.543 423.486 L130.543 406.125 Z\" fill=\"#000000\" fill-rule=\"evenodd\" fill-opacity=\"1\" /><path clip-path=\"url(#clip410)\" d=\"M 0 0 M139.917 221.586 Q136.769 221.586 134.918 223.739 Q133.089 225.892 133.089 229.642 Q133.089 233.369 134.918 235.544 Q136.769 237.697 139.917 237.697 Q143.066 237.697 144.894 235.544 Q146.746 233.369 146.746 229.642 Q146.746 225.892 144.894 223.739 Q143.066 221.586 139.917 221.586 M149.2 206.934 L149.2 211.193 Q147.441 210.359 145.635 209.92 Q143.853 209.48 142.093 209.48 Q137.464 209.48 135.01 212.605 Q132.58 215.73 132.232 222.049 Q133.598 220.035 135.658 218.97 Q137.718 217.883 140.195 217.883 Q145.404 217.883 148.413 221.054 Q151.445 224.202 151.445 229.642 Q151.445 234.966 148.297 238.183 Q145.149 241.401 139.917 241.401 Q133.922 241.401 130.751 236.818 Q127.58 232.211 127.58 223.484 Q127.58 215.29 131.468 210.429 Q135.357 205.545 141.908 205.545 Q143.667 205.545 145.45 205.892 Q147.255 206.239 149.2 206.934 Z\" fill=\"#000000\" fill-rule=\"evenodd\" fill-opacity=\"1\" /><path clip-path=\"url(#clip410)\" d=\"M 0 0 M874.809 18.8205 L874.809 41.5461 L885.098 41.5461 Q890.81 41.5461 893.929 38.5889 Q897.048 35.6318 897.048 30.163 Q897.048 24.7348 893.929 21.7777 Q890.81 18.8205 885.098 18.8205 L874.809 18.8205 M866.626 12.096 L885.098 12.096 Q895.266 12.096 900.451 16.714 Q905.677 21.2916 905.677 30.163 Q905.677 39.1155 900.451 43.6931 Q895.266 48.2706 885.098 48.2706 L874.809 48.2706 L874.809 72.576 L866.626 72.576 L866.626 12.096 Z\" fill=\"#000000\" fill-rule=\"evenodd\" fill-opacity=\"1\" /><path clip-path=\"url(#clip410)\" d=\"M 0 0 M940.96 28.5427 L940.96 35.5912 Q937.8 33.9709 934.397 33.1607 Q930.995 32.3505 927.349 32.3505 Q921.799 32.3505 919.004 34.0519 Q916.249 35.7533 916.249 39.156 Q916.249 41.7486 918.234 43.2475 Q920.219 44.7058 926.215 46.0426 L928.767 46.6097 Q936.706 48.3111 940.028 51.4303 Q943.39 54.509 943.39 60.0587 Q943.39 66.3781 938.367 70.0644 Q933.385 73.7508 924.635 73.7508 Q920.989 73.7508 917.019 73.0216 Q913.09 72.3329 908.715 70.9151 L908.715 63.2184 Q912.847 65.3654 916.857 66.4591 Q920.867 67.5124 924.797 67.5124 Q930.063 67.5124 932.899 65.73 Q935.734 63.9071 935.734 60.6258 Q935.734 57.5877 933.668 55.9673 Q931.643 54.3469 924.716 52.8481 L922.123 52.2405 Q915.196 50.7821 912.117 47.7845 Q909.039 44.7463 909.039 39.4801 Q909.039 33.0797 913.576 29.5959 Q918.113 26.1121 926.458 26.1121 Q930.59 26.1121 934.235 26.7198 Q937.881 27.3274 940.96 28.5427 Z\" fill=\"#000000\" fill-rule=\"evenodd\" fill-opacity=\"1\" /><path clip-path=\"url(#clip410)\" d=\"M 0 0 M970.086 76.7889 Q966.926 84.8907 963.929 87.3618 Q960.931 89.8329 955.908 89.8329 L949.953 89.8329 L949.953 83.5945 L954.328 83.5945 Q957.407 83.5945 959.108 82.1361 Q960.809 80.6778 962.875 75.2496 L964.212 71.8468 L945.862 27.2059 L953.761 27.2059 L967.939 62.6918 L982.117 27.2059 L990.016 27.2059 L970.086 76.7889 Z\" fill=\"#000000\" fill-rule=\"evenodd\" fill-opacity=\"1\" /><path clip-path=\"url(#clip410)\" d=\"M 0 0 M1030.48 28.9478 L1030.48 35.9153 Q1027.33 34.1734 1024.12 33.3227 Q1020.97 32.4315 1017.72 32.4315 Q1010.47 32.4315 1006.46 37.0496 Q1002.45 41.6271 1002.45 49.9314 Q1002.45 58.2358 1006.46 62.8538 Q1010.47 67.4314 1017.72 67.4314 Q1020.97 67.4314 1024.12 66.5807 Q1027.33 65.6895 1030.48 63.9476 L1030.48 70.8341 Q1027.37 72.2924 1024 73.0216 Q1020.68 73.7508 1016.91 73.7508 Q1006.67 73.7508 1000.63 67.3098 Q994.594 60.8689 994.594 49.9314 Q994.594 38.832 1000.67 32.472 Q1006.79 26.1121 1017.4 26.1121 Q1020.84 26.1121 1024.12 26.8413 Q1027.41 27.5299 1030.48 28.9478 Z\" fill=\"#000000\" fill-rule=\"evenodd\" fill-opacity=\"1\" /><path clip-path=\"url(#clip410)\" d=\"M 0 0 M1076.02 45.1919 L1076.02 72.576 L1068.56 72.576 L1068.56 45.4349 Q1068.56 38.994 1066.05 35.7938 Q1063.54 32.5936 1058.52 32.5936 Q1052.48 32.5936 1049 36.4419 Q1045.51 40.2903 1045.51 46.9338 L1045.51 72.576 L1038.02 72.576 L1038.02 9.54393 L1045.51 9.54393 L1045.51 34.2544 Q1048.19 30.163 1051.79 28.1376 Q1055.44 26.1121 1060.18 26.1121 Q1068 26.1121 1072.01 30.9732 Q1076.02 35.7938 1076.02 45.1919 Z\" fill=\"#000000\" fill-rule=\"evenodd\" fill-opacity=\"1\" /><path clip-path=\"url(#clip410)\" d=\"M 0 0 M1101.42 32.4315 Q1095.42 32.4315 1091.94 37.1306 Q1088.45 41.7891 1088.45 49.9314 Q1088.45 58.0738 1091.9 62.7728 Q1095.38 67.4314 1101.42 67.4314 Q1107.37 67.4314 1110.85 62.7323 Q1114.34 58.0333 1114.34 49.9314 Q1114.34 41.8701 1110.85 37.1711 Q1107.37 32.4315 1101.42 32.4315 M1101.42 26.1121 Q1111.14 26.1121 1116.69 32.4315 Q1122.24 38.7509 1122.24 49.9314 Q1122.24 61.0714 1116.69 67.4314 Q1111.14 73.7508 1101.42 73.7508 Q1091.65 73.7508 1086.1 67.4314 Q1080.59 61.0714 1080.59 49.9314 Q1080.59 38.7509 1086.1 32.4315 Q1091.65 26.1121 1101.42 26.1121 Z\" fill=\"#000000\" fill-rule=\"evenodd\" fill-opacity=\"1\" /><path clip-path=\"url(#clip410)\" d=\"M 0 0 M1130.06 9.54393 L1137.51 9.54393 L1137.51 72.576 L1130.06 72.576 L1130.06 9.54393 Z\" fill=\"#000000\" fill-rule=\"evenodd\" fill-opacity=\"1\" /><path clip-path=\"url(#clip410)\" d=\"M 0 0 M1162.91 32.4315 Q1156.91 32.4315 1153.43 37.1306 Q1149.95 41.7891 1149.95 49.9314 Q1149.95 58.0738 1153.39 62.7728 Q1156.87 67.4314 1162.91 67.4314 Q1168.86 67.4314 1172.35 62.7323 Q1175.83 58.0333 1175.83 49.9314 Q1175.83 41.8701 1172.35 37.1711 Q1168.86 32.4315 1162.91 32.4315 M1162.91 26.1121 Q1172.63 26.1121 1178.18 32.4315 Q1183.73 38.7509 1183.73 49.9314 Q1183.73 61.0714 1178.18 67.4314 Q1172.63 73.7508 1162.91 73.7508 Q1153.15 73.7508 1147.6 67.4314 Q1142.09 61.0714 1142.09 49.9314 Q1142.09 38.7509 1147.6 32.4315 Q1153.15 26.1121 1162.91 26.1121 Z\" fill=\"#000000\" fill-rule=\"evenodd\" fill-opacity=\"1\" /><path clip-path=\"url(#clip410)\" d=\"M 0 0 M1221.4 49.3643 Q1221.4 41.2625 1218.04 36.8065 Q1214.72 32.3505 1208.68 32.3505 Q1202.69 32.3505 1199.33 36.8065 Q1196 41.2625 1196 49.3643 Q1196 57.4256 1199.33 61.8816 Q1202.69 66.3376 1208.68 66.3376 Q1214.72 66.3376 1218.04 61.8816 Q1221.4 57.4256 1221.4 49.3643 M1228.86 66.9452 Q1228.86 78.5308 1223.71 84.1616 Q1218.57 89.8329 1207.96 89.8329 Q1204.03 89.8329 1200.54 89.2252 Q1197.06 88.6581 1193.78 87.4428 L1193.78 80.1917 Q1197.06 81.9741 1200.26 82.8248 Q1203.46 83.6755 1206.78 83.6755 Q1214.11 83.6755 1217.76 79.8271 Q1221.4 76.0193 1221.4 68.282 L1221.4 64.5957 Q1219.1 68.6061 1215.49 70.5911 Q1211.88 72.576 1206.86 72.576 Q1198.52 72.576 1193.41 66.2161 Q1188.31 59.8562 1188.31 49.3643 Q1188.31 38.832 1193.41 32.472 Q1198.52 26.1121 1206.86 26.1121 Q1211.88 26.1121 1215.49 28.0971 Q1219.1 30.082 1221.4 34.0924 L1221.4 27.2059 L1228.86 27.2059 L1228.86 66.9452 Z\" fill=\"#000000\" fill-rule=\"evenodd\" fill-opacity=\"1\" /><path clip-path=\"url(#clip410)\" d=\"M 0 0 M1255.55 76.7889 Q1252.39 84.8907 1249.4 87.3618 Q1246.4 89.8329 1241.37 89.8329 L1235.42 89.8329 L1235.42 83.5945 L1239.8 83.5945 Q1242.87 83.5945 1244.58 82.1361 Q1246.28 80.6778 1248.34 75.2496 L1249.68 71.8468 L1231.33 27.2059 L1239.23 27.2059 L1253.41 62.6918 L1267.58 27.2059 L1275.48 27.2059 L1255.55 76.7889 Z\" fill=\"#000000\" fill-rule=\"evenodd\" fill-opacity=\"1\" /><path clip-path=\"url(#clip410)\" d=\"M 0 0 M1318.18 18.8205 L1318.18 41.5461 L1328.47 41.5461 Q1334.18 41.5461 1337.3 38.5889 Q1340.42 35.6318 1340.42 30.163 Q1340.42 24.7348 1337.3 21.7777 Q1334.18 18.8205 1328.47 18.8205 L1318.18 18.8205 M1310 12.096 L1328.47 12.096 Q1338.64 12.096 1343.82 16.714 Q1349.05 21.2916 1349.05 30.163 Q1349.05 39.1155 1343.82 43.6931 Q1338.64 48.2706 1328.47 48.2706 L1318.18 48.2706 L1318.18 72.576 L1310 72.576 L1310 12.096 Z\" fill=\"#000000\" fill-rule=\"evenodd\" fill-opacity=\"1\" /><path clip-path=\"url(#clip410)\" d=\"M 0 0 M1381.7 34.1734 Q1380.44 33.4443 1378.94 33.1202 Q1377.49 32.7556 1375.7 32.7556 Q1369.38 32.7556 1365.98 36.8875 Q1362.62 40.9789 1362.62 48.6757 L1362.62 72.576 L1355.12 72.576 L1355.12 27.2059 L1362.62 27.2059 L1362.62 34.2544 Q1364.97 30.1225 1368.74 28.1376 Q1372.5 26.1121 1377.89 26.1121 Q1378.66 26.1121 1379.59 26.2337 Q1380.52 26.3147 1381.66 26.5172 L1381.7 34.1734 Z\" fill=\"#000000\" fill-rule=\"evenodd\" fill-opacity=\"1\" /><path clip-path=\"url(#clip410)\" d=\"M 0 0 M1405.27 32.4315 Q1399.28 32.4315 1395.8 37.1306 Q1392.31 41.7891 1392.31 49.9314 Q1392.31 58.0738 1395.75 62.7728 Q1399.24 67.4314 1405.27 67.4314 Q1411.23 67.4314 1414.71 62.7323 Q1418.2 58.0333 1418.2 49.9314 Q1418.2 41.8701 1414.71 37.1711 Q1411.23 32.4315 1405.27 32.4315 M1405.27 26.1121 Q1415 26.1121 1420.55 32.4315 Q1426.1 38.7509 1426.1 49.9314 Q1426.1 61.0714 1420.55 67.4314 Q1415 73.7508 1405.27 73.7508 Q1395.51 73.7508 1389.96 67.4314 Q1384.45 61.0714 1384.45 49.9314 Q1384.45 38.7509 1389.96 32.4315 Q1395.51 26.1121 1405.27 26.1121 Z\" fill=\"#000000\" fill-rule=\"evenodd\" fill-opacity=\"1\" /><path clip-path=\"url(#clip410)\" d=\"M 0 0 M1463.77 49.3643 Q1463.77 41.2625 1460.41 36.8065 Q1457.09 32.3505 1451.05 32.3505 Q1445.05 32.3505 1441.69 36.8065 Q1438.37 41.2625 1438.37 49.3643 Q1438.37 57.4256 1441.69 61.8816 Q1445.05 66.3376 1451.05 66.3376 Q1457.09 66.3376 1460.41 61.8816 Q1463.77 57.4256 1463.77 49.3643 M1471.22 66.9452 Q1471.22 78.5308 1466.08 84.1616 Q1460.93 89.8329 1450.32 89.8329 Q1446.39 89.8329 1442.91 89.2252 Q1439.42 88.6581 1436.14 87.4428 L1436.14 80.1917 Q1439.42 81.9741 1442.62 82.8248 Q1445.82 83.6755 1449.15 83.6755 Q1456.48 83.6755 1460.12 79.8271 Q1463.77 76.0193 1463.77 68.282 L1463.77 64.5957 Q1461.46 68.6061 1457.86 70.5911 Q1454.25 72.576 1449.23 72.576 Q1440.88 72.576 1435.78 66.2161 Q1430.67 59.8562 1430.67 49.3643 Q1430.67 38.832 1435.78 32.472 Q1440.88 26.1121 1449.23 26.1121 Q1454.25 26.1121 1457.86 28.0971 Q1461.46 30.082 1463.77 34.0924 L1463.77 27.2059 L1471.22 27.2059 L1471.22 66.9452 Z\" fill=\"#000000\" fill-rule=\"evenodd\" fill-opacity=\"1\" /><path clip-path=\"url(#clip410)\" d=\"M 0 0 M1505.33 34.1734 Q1504.08 33.4443 1502.58 33.1202 Q1501.12 32.7556 1499.34 32.7556 Q1493.02 32.7556 1489.61 36.8875 Q1486.25 40.9789 1486.25 48.6757 L1486.25 72.576 L1478.76 72.576 L1478.76 27.2059 L1486.25 27.2059 L1486.25 34.2544 Q1488.6 30.1225 1492.37 28.1376 Q1496.14 26.1121 1501.52 26.1121 Q1502.29 26.1121 1503.23 26.2337 Q1504.16 26.3147 1505.29 26.5172 L1505.33 34.1734 Z\" fill=\"#000000\" fill-rule=\"evenodd\" fill-opacity=\"1\" /><path clip-path=\"url(#clip410)\" d=\"M 0 0 M1533.77 49.7694 Q1524.74 49.7694 1521.25 51.8354 Q1517.77 53.9013 1517.77 58.8839 Q1517.77 62.8538 1520.36 65.2034 Q1522.99 67.5124 1527.49 67.5124 Q1533.69 67.5124 1537.42 63.1374 Q1541.18 58.7219 1541.18 51.4303 L1541.18 49.7694 L1533.77 49.7694 M1548.64 46.6907 L1548.64 72.576 L1541.18 72.576 L1541.18 65.6895 Q1538.63 69.8214 1534.82 71.8063 Q1531.01 73.7508 1525.51 73.7508 Q1518.54 73.7508 1514.41 69.8619 Q1510.31 65.9325 1510.31 59.3701 Q1510.31 51.7138 1515.42 47.825 Q1520.56 43.9361 1530.73 43.9361 L1541.18 43.9361 L1541.18 43.2069 Q1541.18 38.0623 1537.78 35.2672 Q1534.42 32.4315 1528.3 32.4315 Q1524.41 32.4315 1520.73 33.3632 Q1517.04 34.295 1513.64 36.1584 L1513.64 29.2718 Q1517.73 27.692 1521.58 26.9223 Q1525.42 26.1121 1529.07 26.1121 Q1538.91 26.1121 1543.77 31.2163 Q1548.64 36.3204 1548.64 46.6907 Z\" fill=\"#000000\" fill-rule=\"evenodd\" fill-opacity=\"1\" /><path clip-path=\"url(#clip410)\" d=\"M 0 0 M1591.78 35.9153 Q1594.57 30.8922 1598.46 28.5022 Q1602.35 26.1121 1607.62 26.1121 Q1614.71 26.1121 1618.55 31.0947 Q1622.4 36.0368 1622.4 45.1919 L1622.4 72.576 L1614.91 72.576 L1614.91 45.4349 Q1614.91 38.913 1612.6 35.7533 Q1610.29 32.5936 1605.55 32.5936 Q1599.76 32.5936 1596.4 36.4419 Q1593.03 40.2903 1593.03 46.9338 L1593.03 72.576 L1585.54 72.576 L1585.54 45.4349 Q1585.54 38.8725 1583.23 35.7533 Q1580.92 32.5936 1576.1 32.5936 Q1570.39 32.5936 1567.03 36.4824 Q1563.66 40.3308 1563.66 46.9338 L1563.66 72.576 L1556.17 72.576 L1556.17 27.2059 L1563.66 27.2059 L1563.66 34.2544 Q1566.22 30.082 1569.78 28.0971 Q1573.35 26.1121 1578.25 26.1121 Q1583.19 26.1121 1586.63 28.6237 Q1590.12 31.1352 1591.78 35.9153 Z\" fill=\"#000000\" fill-rule=\"evenodd\" fill-opacity=\"1\" /><path clip-path=\"url(#clip410)\" d=\"M 0 0 M1659.14 28.5427 L1659.14 35.5912 Q1655.99 33.9709 1652.58 33.1607 Q1649.18 32.3505 1645.53 32.3505 Q1639.98 32.3505 1637.19 34.0519 Q1634.43 35.7533 1634.43 39.156 Q1634.43 41.7486 1636.42 43.2475 Q1638.4 44.7058 1644.4 46.0426 L1646.95 46.6097 Q1654.89 48.3111 1658.21 51.4303 Q1661.58 54.509 1661.58 60.0587 Q1661.58 66.3781 1656.55 70.0644 Q1651.57 73.7508 1642.82 73.7508 Q1639.17 73.7508 1635.2 73.0216 Q1631.27 72.3329 1626.9 70.9151 L1626.9 63.2184 Q1631.03 65.3654 1635.04 66.4591 Q1639.05 67.5124 1642.98 67.5124 Q1648.25 67.5124 1651.08 65.73 Q1653.92 63.9071 1653.92 60.6258 Q1653.92 57.5877 1651.85 55.9673 Q1649.83 54.3469 1642.9 52.8481 L1640.31 52.2405 Q1633.38 50.7821 1630.3 47.7845 Q1627.22 44.7463 1627.22 39.4801 Q1627.22 33.0797 1631.76 29.5959 Q1636.3 26.1121 1644.64 26.1121 Q1648.77 26.1121 1652.42 26.7198 Q1656.07 27.3274 1659.14 28.5427 Z\" fill=\"#000000\" fill-rule=\"evenodd\" fill-opacity=\"1\" /><path clip-path=\"url(#clip410)\" d=\"M 0 0 M1133.87 1521.76 L1133.87 1527.24 Q1131.39 1525.87 1128.88 1525.2 Q1126.39 1524.5 1123.85 1524.5 Q1118.15 1524.5 1115 1528.13 Q1111.85 1531.73 1111.85 1538.25 Q1111.85 1544.78 1115 1548.4 Q1118.15 1552 1123.85 1552 Q1126.39 1552 1128.88 1551.33 Q1131.39 1550.63 1133.87 1549.26 L1133.87 1554.68 Q1131.42 1555.82 1128.78 1556.39 Q1126.17 1556.97 1123.21 1556.97 Q1115.16 1556.97 1110.42 1551.91 Q1105.67 1546.85 1105.67 1538.25 Q1105.67 1529.53 1110.45 1524.53 Q1115.25 1519.54 1123.59 1519.54 Q1126.3 1519.54 1128.88 1520.11 Q1131.46 1520.65 1133.87 1521.76 Z\" fill=\"#000000\" fill-rule=\"evenodd\" fill-opacity=\"1\" /><path clip-path=\"url(#clip410)\" d=\"M 0 0 M1153.83 1524.5 Q1149.12 1524.5 1146.38 1528.19 Q1143.65 1531.85 1143.65 1538.25 Q1143.65 1544.65 1146.35 1548.34 Q1149.09 1552 1153.83 1552 Q1158.51 1552 1161.25 1548.31 Q1163.98 1544.62 1163.98 1538.25 Q1163.98 1531.92 1161.25 1528.23 Q1158.51 1524.5 1153.83 1524.5 M1153.83 1519.54 Q1161.47 1519.54 1165.83 1524.5 Q1170.19 1529.47 1170.19 1538.25 Q1170.19 1547 1165.83 1552 Q1161.47 1556.97 1153.83 1556.97 Q1146.16 1556.97 1141.8 1552 Q1137.47 1547 1137.47 1538.25 Q1137.47 1529.47 1141.8 1524.5 Q1146.16 1519.54 1153.83 1519.54 Z\" fill=\"#000000\" fill-rule=\"evenodd\" fill-opacity=\"1\" /><path clip-path=\"url(#clip410)\" d=\"M 0 0 M1204.09 1527.24 Q1206.28 1523.29 1209.34 1521.41 Q1212.4 1519.54 1216.53 1519.54 Q1222.1 1519.54 1225.13 1523.45 Q1228.15 1527.33 1228.15 1534.53 L1228.15 1556.04 L1222.26 1556.04 L1222.26 1534.72 Q1222.26 1529.59 1220.45 1527.11 Q1218.63 1524.63 1214.91 1524.63 Q1210.36 1524.63 1207.72 1527.65 Q1205.07 1530.68 1205.07 1535.9 L1205.07 1556.04 L1199.19 1556.04 L1199.19 1534.72 Q1199.19 1529.56 1197.37 1527.11 Q1195.56 1524.63 1191.77 1524.63 Q1187.28 1524.63 1184.64 1527.68 Q1182 1530.71 1182 1535.9 L1182 1556.04 L1176.11 1556.04 L1176.11 1520.4 L1182 1520.4 L1182 1525.93 Q1184 1522.66 1186.8 1521.1 Q1189.61 1519.54 1193.46 1519.54 Q1197.34 1519.54 1200.05 1521.51 Q1202.78 1523.48 1204.09 1527.24 Z\" fill=\"#000000\" fill-rule=\"evenodd\" fill-opacity=\"1\" /><path clip-path=\"url(#clip410)\" d=\"M 0 0 M1239.96 1550.7 L1239.96 1569.6 L1234.07 1569.6 L1234.07 1520.4 L1239.96 1520.4 L1239.96 1525.81 Q1241.8 1522.62 1244.61 1521.1 Q1247.44 1519.54 1251.35 1519.54 Q1257.85 1519.54 1261.89 1524.69 Q1265.96 1529.85 1265.96 1538.25 Q1265.96 1546.65 1261.89 1551.81 Q1257.85 1556.97 1251.35 1556.97 Q1247.44 1556.97 1244.61 1555.44 Q1241.8 1553.88 1239.96 1550.7 M1259.88 1538.25 Q1259.88 1531.79 1257.21 1528.13 Q1254.57 1524.44 1249.92 1524.44 Q1245.27 1524.44 1242.6 1528.13 Q1239.96 1531.79 1239.96 1538.25 Q1239.96 1544.71 1242.6 1548.4 Q1245.27 1552.07 1249.92 1552.07 Q1254.57 1552.07 1257.21 1548.4 Q1259.88 1544.71 1259.88 1538.25 Z\" fill=\"#000000\" fill-rule=\"evenodd\" fill-opacity=\"1\" /><path clip-path=\"url(#clip410)\" d=\"M 0 0 M1272.11 1506.52 L1277.96 1506.52 L1277.96 1556.04 L1272.11 1556.04 L1272.11 1506.52 Z\" fill=\"#000000\" fill-rule=\"evenodd\" fill-opacity=\"1\" /><path clip-path=\"url(#clip410)\" d=\"M 0 0 M1314.6 1536.76 L1314.6 1539.62 L1287.67 1539.62 Q1288.05 1545.67 1291.3 1548.85 Q1294.58 1552 1300.4 1552 Q1303.77 1552 1306.93 1551.17 Q1310.11 1550.35 1313.23 1548.69 L1313.23 1554.23 Q1310.08 1555.57 1306.77 1556.27 Q1303.46 1556.97 1300.05 1556.97 Q1291.52 1556.97 1286.52 1552 Q1281.56 1547.04 1281.56 1538.57 Q1281.56 1529.82 1286.27 1524.69 Q1291.01 1519.54 1299.03 1519.54 Q1306.23 1519.54 1310.4 1524.18 Q1314.6 1528.8 1314.6 1536.76 M1308.74 1535.04 Q1308.68 1530.23 1306.03 1527.37 Q1303.42 1524.5 1299.1 1524.5 Q1294.19 1524.5 1291.23 1527.27 Q1288.31 1530.04 1287.86 1535.07 L1308.74 1535.04 Z\" fill=\"#000000\" fill-rule=\"evenodd\" fill-opacity=\"1\" /><path clip-path=\"url(#clip410)\" d=\"M 0 0 M1349.23 1520.4 L1336.34 1537.74 L1349.89 1556.04 L1342.99 1556.04 L1332.61 1542.04 L1322.24 1556.04 L1315.33 1556.04 L1329.17 1537.39 L1316.51 1520.4 L1323.41 1520.4 L1332.87 1533.1 L1342.32 1520.4 L1349.23 1520.4 Z\" fill=\"#000000\" fill-rule=\"evenodd\" fill-opacity=\"1\" /><path clip-path=\"url(#clip410)\" d=\"M 0 0 M1356.04 1520.4 L1361.89 1520.4 L1361.89 1556.04 L1356.04 1556.04 L1356.04 1520.4 M1356.04 1506.52 L1361.89 1506.52 L1361.89 1513.93 L1356.04 1513.93 L1356.04 1506.52 Z\" fill=\"#000000\" fill-rule=\"evenodd\" fill-opacity=\"1\" /><path clip-path=\"url(#clip410)\" d=\"M 0 0 M1373.83 1510.27 L1373.83 1520.4 L1385.89 1520.4 L1385.89 1524.95 L1373.83 1524.95 L1373.83 1544.3 Q1373.83 1548.66 1375.01 1549.9 Q1376.22 1551.14 1379.88 1551.14 L1385.89 1551.14 L1385.89 1556.04 L1379.88 1556.04 Q1373.1 1556.04 1370.52 1553.53 Q1367.94 1550.98 1367.94 1544.3 L1367.94 1524.95 L1363.64 1524.95 L1363.64 1520.4 L1367.94 1520.4 L1367.94 1510.27 L1373.83 1510.27 Z\" fill=\"#000000\" fill-rule=\"evenodd\" fill-opacity=\"1\" /><path clip-path=\"url(#clip410)\" d=\"M 0 0 M1406.87 1559.35 Q1404.38 1565.72 1402.03 1567.66 Q1399.67 1569.6 1395.73 1569.6 L1391.05 1569.6 L1391.05 1564.7 L1394.49 1564.7 Q1396.91 1564.7 1398.24 1563.56 Q1399.58 1562.41 1401.2 1558.14 L1402.25 1555.47 L1387.83 1520.4 L1394.04 1520.4 L1405.18 1548.28 L1416.32 1520.4 L1422.53 1520.4 L1406.87 1559.35 Z\" fill=\"#000000\" fill-rule=\"evenodd\" fill-opacity=\"1\" /><path clip-path=\"url(#clip410)\" d=\"M 0 0 M59.3266 940.728 L59.3266 949.99 L69.9574 952.664 L69.9574 943.338 L59.3266 940.728 M41.2162 945.502 L54.4251 948.813 L54.4251 939.519 L41.2162 936.177 L41.2162 931.084 L54.4251 934.362 L54.4251 924.432 L59.3266 924.432 L59.3266 935.604 L69.9574 938.214 L69.9574 928.092 L74.8271 928.092 L74.8271 939.455 L88.0042 942.765 L88.0042 947.858 L74.8271 944.579 L74.8271 953.905 L88.0042 957.184 L88.0042 962.308 L74.8271 958.998 L74.8271 969.024 L69.9574 969.024 L69.9574 957.82 L59.3266 955.146 L59.3266 965.395 L54.4251 965.395 L54.4251 953.905 L41.2162 950.659 L41.2162 945.502 Z\" fill=\"#000000\" fill-rule=\"evenodd\" fill-opacity=\"1\" /><path clip-path=\"url(#clip410)\" d=\"M 0 0 M56.4621 883.755 Q56.4621 888.466 60.1542 891.203 Q63.8145 893.94 70.212 893.94 Q76.6095 893.94 80.3017 891.235 Q83.9619 888.498 83.9619 883.755 Q83.9619 879.076 80.2698 876.339 Q76.5777 873.602 70.212 873.602 Q63.8781 873.602 60.186 876.339 Q56.4621 879.076 56.4621 883.755 M51.4968 883.755 Q51.4968 876.116 56.4621 871.756 Q61.4273 867.395 70.212 867.395 Q78.9649 867.395 83.9619 871.756 Q88.9272 876.116 88.9272 883.755 Q88.9272 891.426 83.9619 895.786 Q78.9649 900.115 70.212 900.115 Q61.4273 900.115 56.4621 895.786 Q51.4968 891.426 51.4968 883.755 Z\" fill=\"#000000\" fill-rule=\"evenodd\" fill-opacity=\"1\" /><path clip-path=\"url(#clip410)\" d=\"M 0 0 M38.479 843.206 L43.3487 843.206 L43.3487 848.807 Q43.3487 851.958 44.6219 853.2 Q45.895 854.409 49.2052 854.409 L52.3562 854.409 L52.3562 844.765 L56.9077 844.765 L56.9077 854.409 L88.0042 854.409 L88.0042 860.297 L56.9077 860.297 L56.9077 865.899 L52.3562 865.899 L52.3562 860.297 L49.8736 860.297 Q43.9216 860.297 41.2162 857.528 Q38.479 854.759 38.479 848.744 L38.479 843.206 Z\" fill=\"#000000\" fill-rule=\"evenodd\" fill-opacity=\"1\" /><path clip-path=\"url(#clip410)\" d=\"M 0 0 M53.7248 790.688 L59.1993 790.688 Q57.8307 793.171 57.1623 795.686 Q56.4621 798.168 56.4621 800.714 Q56.4621 806.412 60.0905 809.563 Q63.6872 812.714 70.212 812.714 Q76.7369 812.714 80.3653 809.563 Q83.9619 806.412 83.9619 800.714 Q83.9619 798.168 83.2935 795.686 Q82.5933 793.171 81.2247 790.688 L86.6355 790.688 Q87.7814 793.139 88.3543 795.781 Q88.9272 798.391 88.9272 801.351 Q88.9272 809.404 83.8664 814.146 Q78.8057 818.889 70.212 818.889 Q61.491 818.889 56.4939 814.114 Q51.4968 809.308 51.4968 800.969 Q51.4968 798.264 52.0697 795.686 Q52.6108 793.107 53.7248 790.688 Z\" fill=\"#000000\" fill-rule=\"evenodd\" fill-opacity=\"1\" /><path clip-path=\"url(#clip410)\" d=\"M 0 0 M73.9359 785.15 L52.3562 785.15 L52.3562 779.294 L73.7131 779.294 Q78.7739 779.294 81.3202 777.32 Q83.8346 775.347 83.8346 771.4 Q83.8346 766.658 80.8109 763.921 Q77.7872 761.152 72.5673 761.152 L52.3562 761.152 L52.3562 755.295 L88.0042 755.295 L88.0042 761.152 L82.5296 761.152 Q85.7762 763.284 87.3676 766.117 Q88.9272 768.918 88.9272 772.642 Q88.9272 778.785 85.1078 781.967 Q81.2883 785.15 73.9359 785.15 M51.4968 770.414 L51.4968 770.414 Z\" fill=\"#000000\" fill-rule=\"evenodd\" fill-opacity=\"1\" /><path clip-path=\"url(#clip410)\" d=\"M 0 0 M57.8307 728.495 Q57.2578 729.482 57.0032 730.66 Q56.7167 731.806 56.7167 733.206 Q56.7167 738.171 59.9632 740.845 Q63.1779 743.487 69.2253 743.487 L88.0042 743.487 L88.0042 749.375 L52.3562 749.375 L52.3562 743.487 L57.8944 743.487 Q54.6479 741.641 53.0883 738.681 Q51.4968 735.721 51.4968 731.487 Q51.4968 730.883 51.5923 730.151 Q51.656 729.419 51.8151 728.527 L57.8307 728.495 Z\" fill=\"#000000\" fill-rule=\"evenodd\" fill-opacity=\"1\" /><path clip-path=\"url(#clip410)\" d=\"M 0 0 M57.8307 702.842 Q57.2578 703.828 57.0032 705.006 Q56.7167 706.152 56.7167 707.552 Q56.7167 712.518 59.9632 715.191 Q63.1779 717.833 69.2253 717.833 L88.0042 717.833 L88.0042 723.721 L52.3562 723.721 L52.3562 717.833 L57.8944 717.833 Q54.6479 715.987 53.0883 713.027 Q51.4968 710.067 51.4968 705.834 Q51.4968 705.229 51.5923 704.497 Q51.656 703.765 51.8151 702.874 L57.8307 702.842 Z\" fill=\"#000000\" fill-rule=\"evenodd\" fill-opacity=\"1\" /><path clip-path=\"url(#clip410)\" d=\"M 0 0 M52.3562 696.699 L52.3562 690.842 L88.0042 690.842 L88.0042 696.699 L52.3562 696.699 M38.479 696.699 L38.479 690.842 L45.895 690.842 L45.895 696.699 L38.479 696.699 Z\" fill=\"#000000\" fill-rule=\"evenodd\" fill-opacity=\"1\" /><path clip-path=\"url(#clip410)\" d=\"M 0 0 M53.7248 659.046 L59.1993 659.046 Q57.8307 661.528 57.1623 664.043 Q56.4621 666.525 56.4621 669.072 Q56.4621 674.769 60.0905 677.92 Q63.6872 681.071 70.212 681.071 Q76.7369 681.071 80.3653 677.92 Q83.9619 674.769 83.9619 669.072 Q83.9619 666.525 83.2935 664.043 Q82.5933 661.528 81.2247 659.046 L86.6355 659.046 Q87.7814 661.496 88.3543 664.138 Q88.9272 666.748 88.9272 669.708 Q88.9272 677.761 83.8664 682.503 Q78.8057 687.246 70.212 687.246 Q61.491 687.246 56.4939 682.471 Q51.4968 677.665 51.4968 669.326 Q51.4968 666.621 52.0697 664.043 Q52.6108 661.465 53.7248 659.046 Z\" fill=\"#000000\" fill-rule=\"evenodd\" fill-opacity=\"1\" /><path clip-path=\"url(#clip410)\" d=\"M 0 0 M73.9359 653.507 L52.3562 653.507 L52.3562 647.651 L73.7131 647.651 Q78.7739 647.651 81.3202 645.678 Q83.8346 643.704 83.8346 639.758 Q83.8346 635.015 80.8109 632.278 Q77.7872 629.509 72.5673 629.509 L52.3562 629.509 L52.3562 623.652 L88.0042 623.652 L88.0042 629.509 L82.5296 629.509 Q85.7762 631.641 87.3676 634.474 Q88.9272 637.275 88.9272 640.999 Q88.9272 647.142 85.1078 650.325 Q81.2883 653.507 73.9359 653.507 M51.4968 638.771 L51.4968 638.771 Z\" fill=\"#000000\" fill-rule=\"evenodd\" fill-opacity=\"1\" /><path clip-path=\"url(#clip410)\" d=\"M 0 0 M38.479 617.509 L38.479 611.653 L88.0042 611.653 L88.0042 617.509 L38.479 617.509 Z\" fill=\"#000000\" fill-rule=\"evenodd\" fill-opacity=\"1\" /><path clip-path=\"url(#clip410)\" d=\"M 0 0 M70.0847 589.309 Q70.0847 596.407 71.7079 599.144 Q73.3312 601.882 77.2461 601.882 Q80.3653 601.882 82.2114 599.845 Q84.0256 597.776 84.0256 594.243 Q84.0256 589.373 80.5881 586.445 Q77.1188 583.485 71.3897 583.485 L70.0847 583.485 L70.0847 589.309 M67.6657 577.628 L88.0042 577.628 L88.0042 583.485 L82.5933 583.485 Q85.8398 585.49 87.3994 588.482 Q88.9272 591.474 88.9272 595.802 Q88.9272 601.277 85.8716 604.523 Q82.7843 607.738 77.6281 607.738 Q71.6125 607.738 68.5569 603.728 Q65.5014 599.685 65.5014 591.696 L65.5014 583.485 L64.9285 583.485 Q60.8862 583.485 58.6901 586.158 Q56.4621 588.8 56.4621 593.606 Q56.4621 596.662 57.1941 599.558 Q57.9262 602.455 59.3903 605.128 L53.9795 605.128 Q52.7381 601.913 52.1334 598.89 Q51.4968 595.866 51.4968 593.001 Q51.4968 585.267 55.5072 581.448 Q59.5176 577.628 67.6657 577.628 Z\" fill=\"#000000\" fill-rule=\"evenodd\" fill-opacity=\"1\" /><path clip-path=\"url(#clip412)\" d=\"\n",
       "M349.63 823.315 L349.63 1423.18 L436.722 1423.18 L436.722 823.315 L349.63 823.315 L349.63 823.315  Z\n",
       "  \" fill=\"#1874cd\" fill-rule=\"evenodd\" fill-opacity=\"0.7\"/>\n",
       "<polyline clip-path=\"url(#clip412)\" style=\"stroke:#000000; stroke-width:4; stroke-opacity:0.7; fill:none\" points=\"\n",
       "  349.63,823.315 349.63,1423.18 436.722,1423.18 436.722,823.315 349.63,823.315 \n",
       "  \"/>\n",
       "<path clip-path=\"url(#clip412)\" d=\"\n",
       "M436.722 623.36 L436.722 1423.18 L523.815 1423.18 L523.815 623.36 L436.722 623.36 L436.722 623.36  Z\n",
       "  \" fill=\"#1874cd\" fill-rule=\"evenodd\" fill-opacity=\"0.7\"/>\n",
       "<polyline clip-path=\"url(#clip412)\" style=\"stroke:#000000; stroke-width:4; stroke-opacity:0.7; fill:none\" points=\"\n",
       "  436.722,623.36 436.722,1423.18 523.815,1423.18 523.815,623.36 436.722,623.36 \n",
       "  \"/>\n",
       "<path clip-path=\"url(#clip412)\" d=\"\n",
       "M523.815 423.405 L523.815 1423.18 L610.907 1423.18 L610.907 423.405 L523.815 423.405 L523.815 423.405  Z\n",
       "  \" fill=\"#1874cd\" fill-rule=\"evenodd\" fill-opacity=\"0.7\"/>\n",
       "<polyline clip-path=\"url(#clip412)\" style=\"stroke:#000000; stroke-width:4; stroke-opacity:0.7; fill:none\" points=\"\n",
       "  523.815,423.405 523.815,1423.18 610.907,1423.18 610.907,423.405 523.815,423.405 \n",
       "  \"/>\n",
       "<path clip-path=\"url(#clip412)\" d=\"\n",
       "M610.907 1223.22 L610.907 1423.18 L698 1423.18 L698 1223.22 L610.907 1223.22 L610.907 1223.22  Z\n",
       "  \" fill=\"#1874cd\" fill-rule=\"evenodd\" fill-opacity=\"0.7\"/>\n",
       "<polyline clip-path=\"url(#clip412)\" style=\"stroke:#000000; stroke-width:4; stroke-opacity:0.7; fill:none\" points=\"\n",
       "  610.907,1223.22 610.907,1423.18 698,1423.18 698,1223.22 610.907,1223.22 \n",
       "  \"/>\n",
       "</svg>\n"
      ]
     },
     "metadata": {},
     "output_type": "display_data"
    }
   ],
   "source": [
    "# Find all programs with the keywords listed below in their names, and store them in corresponding arrays.\n",
    "program_types = Dict{String, Array{Curriculum,1}}(\"animal-science\" => [], \"mechanical-engineering\" => [], \"music-education\" => [], \"psychology\" => [])\n",
    "program_keyword = Dict{String, String}(\"animal-science\" => \"animal\", \"mechanical-engineering\" => \"mechanical\", \"music-education\" => \"music\", \"psychology\" => \"psychology\")\n",
    "metric = \"complexity\"\n",
    "for (k, programs) in program_types\n",
    "    for school in schools\n",
    "      path = \"./cluster/$(school)\"\n",
    "      for file in readdir(path)\n",
    "        if (occursin(program_keyword[k], file) && occursin(\".csv\", file))\n",
    "          program_name = replace(file, \".csv\" => \"\")\n",
    "          push!(programs, schools_plans[school][program_name].curriculum);\n",
    "        end\n",
    "      end\n",
    "    end\n",
    "    println(\"****** $(replace(titlecase(k), \"-\" => \" \")) Programs ******\")\n",
    "    stats = basic_statistics(programs, \"complexity\")\n",
    "    println(String(take!(stats))); flush(stdout)  \n",
    "    display(metric_histogram(programs, metric, title=\"$(replace(titlecase(k), \"-\" => \" \")) Programs\", \n",
    "             xlabel=\"$(metric)\", ylabel=\"# of curricula\", xlim=(0,500)))\n",
    "end"
   ]
  },
  {
   "cell_type": "markdown",
   "metadata": {},
   "source": [
    "In order to get a better sense of the curricular complexity variations between disciplines, the `metric_boxplot()` function can be used to simultaneously display (on the same scale) the curricular complexity variations in all four disciplines, i.e., the inter-discipline curricular complexities.   "
   ]
  },
  {
   "cell_type": "code",
   "execution_count": 8,
   "metadata": {},
   "outputs": [
    {
     "data": {
      "image/svg+xml": [
       "<?xml version=\"1.0\" encoding=\"utf-8\"?>\n",
       "<svg xmlns=\"http://www.w3.org/2000/svg\" xmlns:xlink=\"http://www.w3.org/1999/xlink\" width=\"600\" height=\"400\" viewBox=\"0 0 2400 1600\">\n",
       "<defs>\n",
       "  <clipPath id=\"clip900\">\n",
       "    <rect x=\"0\" y=\"0\" width=\"2400\" height=\"1600\"/>\n",
       "  </clipPath>\n",
       "</defs>\n",
       "<path clip-path=\"url(#clip900)\" d=\"\n",
       "M0 1600 L2400 1600 L2400 0 L0 0  Z\n",
       "  \" fill=\"#ffffff\" fill-rule=\"evenodd\" fill-opacity=\"1\"/>\n",
       "<defs>\n",
       "  <clipPath id=\"clip901\">\n",
       "    <rect x=\"480\" y=\"0\" width=\"1681\" height=\"1600\"/>\n",
       "  </clipPath>\n",
       "</defs>\n",
       "<path clip-path=\"url(#clip900)\" d=\"\n",
       "M229.473 1423.18 L2352.76 1423.18 L2352.76 123.472 L229.473 123.472  Z\n",
       "  \" fill=\"#ffffff\" fill-rule=\"evenodd\" fill-opacity=\"1\"/>\n",
       "<defs>\n",
       "  <clipPath id=\"clip902\">\n",
       "    <rect x=\"229\" y=\"123\" width=\"2124\" height=\"1301\"/>\n",
       "  </clipPath>\n",
       "</defs>\n",
       "<polyline clip-path=\"url(#clip902)\" style=\"stroke:#000000; stroke-width:2; stroke-opacity:0.1; fill:none\" points=\"\n",
       "  449.813,1423.18 449.813,123.472 \n",
       "  \"/>\n",
       "<polyline clip-path=\"url(#clip902)\" style=\"stroke:#000000; stroke-width:2; stroke-opacity:0.1; fill:none\" points=\"\n",
       "  1010.68,1423.18 1010.68,123.472 \n",
       "  \"/>\n",
       "<polyline clip-path=\"url(#clip902)\" style=\"stroke:#000000; stroke-width:2; stroke-opacity:0.1; fill:none\" points=\"\n",
       "  1571.55,1423.18 1571.55,123.472 \n",
       "  \"/>\n",
       "<polyline clip-path=\"url(#clip902)\" style=\"stroke:#000000; stroke-width:2; stroke-opacity:0.1; fill:none\" points=\"\n",
       "  2132.42,1423.18 2132.42,123.472 \n",
       "  \"/>\n",
       "<polyline clip-path=\"url(#clip902)\" style=\"stroke:#000000; stroke-width:2; stroke-opacity:0.1; fill:none\" points=\"\n",
       "  229.473,1231.19 2352.76,1231.19 \n",
       "  \"/>\n",
       "<polyline clip-path=\"url(#clip902)\" style=\"stroke:#000000; stroke-width:2; stroke-opacity:0.1; fill:none\" points=\"\n",
       "  229.473,972.509 2352.76,972.509 \n",
       "  \"/>\n",
       "<polyline clip-path=\"url(#clip902)\" style=\"stroke:#000000; stroke-width:2; stroke-opacity:0.1; fill:none\" points=\"\n",
       "  229.473,713.83 2352.76,713.83 \n",
       "  \"/>\n",
       "<polyline clip-path=\"url(#clip902)\" style=\"stroke:#000000; stroke-width:2; stroke-opacity:0.1; fill:none\" points=\"\n",
       "  229.473,455.151 2352.76,455.151 \n",
       "  \"/>\n",
       "<polyline clip-path=\"url(#clip902)\" style=\"stroke:#000000; stroke-width:2; stroke-opacity:0.1; fill:none\" points=\"\n",
       "  229.473,196.471 2352.76,196.471 \n",
       "  \"/>\n",
       "<polyline clip-path=\"url(#clip900)\" style=\"stroke:#000000; stroke-width:4; stroke-opacity:1; fill:none\" points=\"\n",
       "  229.473,1423.18 2352.76,1423.18 \n",
       "  \"/>\n",
       "<polyline clip-path=\"url(#clip900)\" style=\"stroke:#000000; stroke-width:4; stroke-opacity:1; fill:none\" points=\"\n",
       "  229.473,1423.18 229.473,123.472 \n",
       "  \"/>\n",
       "<polyline clip-path=\"url(#clip900)\" style=\"stroke:#000000; stroke-width:4; stroke-opacity:1; fill:none\" points=\"\n",
       "  449.813,1423.18 449.813,1407.58 \n",
       "  \"/>\n",
       "<polyline clip-path=\"url(#clip900)\" style=\"stroke:#000000; stroke-width:4; stroke-opacity:1; fill:none\" points=\"\n",
       "  1010.68,1423.18 1010.68,1407.58 \n",
       "  \"/>\n",
       "<polyline clip-path=\"url(#clip900)\" style=\"stroke:#000000; stroke-width:4; stroke-opacity:1; fill:none\" points=\"\n",
       "  1571.55,1423.18 1571.55,1407.58 \n",
       "  \"/>\n",
       "<polyline clip-path=\"url(#clip900)\" style=\"stroke:#000000; stroke-width:4; stroke-opacity:1; fill:none\" points=\"\n",
       "  2132.42,1423.18 2132.42,1407.58 \n",
       "  \"/>\n",
       "<polyline clip-path=\"url(#clip900)\" style=\"stroke:#000000; stroke-width:4; stroke-opacity:1; fill:none\" points=\"\n",
       "  229.473,1231.19 254.952,1231.19 \n",
       "  \"/>\n",
       "<polyline clip-path=\"url(#clip900)\" style=\"stroke:#000000; stroke-width:4; stroke-opacity:1; fill:none\" points=\"\n",
       "  229.473,972.509 254.952,972.509 \n",
       "  \"/>\n",
       "<polyline clip-path=\"url(#clip900)\" style=\"stroke:#000000; stroke-width:4; stroke-opacity:1; fill:none\" points=\"\n",
       "  229.473,713.83 254.952,713.83 \n",
       "  \"/>\n",
       "<polyline clip-path=\"url(#clip900)\" style=\"stroke:#000000; stroke-width:4; stroke-opacity:1; fill:none\" points=\"\n",
       "  229.473,455.151 254.952,455.151 \n",
       "  \"/>\n",
       "<polyline clip-path=\"url(#clip900)\" style=\"stroke:#000000; stroke-width:4; stroke-opacity:1; fill:none\" points=\"\n",
       "  229.473,196.471 254.952,196.471 \n",
       "  \"/>\n",
       "<path clip-path=\"url(#clip900)\" d=\"M 0 0 M284.016 1442.09 L290.983 1442.09 L299.803 1465.61 L308.668 1442.09 L315.636 1442.09 L315.636 1476.65 L311.076 1476.65 L311.076 1446.3 L302.164 1470.01 L297.465 1470.01 L288.553 1446.3 L288.553 1476.65 L284.016 1476.65 L284.016 1442.09 Z\" fill=\"#000000\" fill-rule=\"evenodd\" fill-opacity=\"1\" /><path clip-path=\"url(#clip900)\" d=\"M 0 0 M319.664 1466.42 L319.664 1450.73 L323.923 1450.73 L323.923 1466.26 Q323.923 1469.94 325.358 1471.79 Q326.793 1473.62 329.664 1473.62 Q333.113 1473.62 335.103 1471.42 Q337.117 1469.22 337.117 1465.43 L337.117 1450.73 L341.376 1450.73 L341.376 1476.65 L337.117 1476.65 L337.117 1472.67 Q335.566 1475.03 333.506 1476.19 Q331.469 1477.32 328.761 1477.32 Q324.293 1477.32 321.978 1474.55 Q319.664 1471.77 319.664 1466.42 M330.381 1450.1 L330.381 1450.1 Z\" fill=\"#000000\" fill-rule=\"evenodd\" fill-opacity=\"1\" /><path clip-path=\"url(#clip900)\" d=\"M 0 0 M362.372 1451.49 L362.372 1455.52 Q360.566 1454.59 358.622 1454.13 Q356.677 1453.67 354.594 1453.67 Q351.423 1453.67 349.826 1454.64 Q348.251 1455.61 348.251 1457.55 Q348.251 1459.04 349.386 1459.89 Q350.52 1460.73 353.946 1461.49 L355.404 1461.81 Q359.941 1462.79 361.839 1464.57 Q363.761 1466.33 363.761 1469.5 Q363.761 1473.11 360.89 1475.22 Q358.043 1477.32 353.043 1477.32 Q350.96 1477.32 348.691 1476.91 Q346.446 1476.51 343.946 1475.7 L343.946 1471.3 Q346.307 1472.53 348.599 1473.16 Q350.89 1473.76 353.136 1473.76 Q356.145 1473.76 357.765 1472.74 Q359.386 1471.7 359.386 1469.82 Q359.386 1468.09 358.205 1467.16 Q357.048 1466.24 353.089 1465.38 L351.608 1465.03 Q347.65 1464.2 345.89 1462.49 Q344.131 1460.75 344.131 1457.74 Q344.131 1454.08 346.724 1452.09 Q349.316 1450.1 354.085 1450.1 Q356.446 1450.1 358.529 1450.45 Q360.612 1450.8 362.372 1451.49 Z\" fill=\"#000000\" fill-rule=\"evenodd\" fill-opacity=\"1\" /><path clip-path=\"url(#clip900)\" d=\"M 0 0 M368.228 1450.73 L372.487 1450.73 L372.487 1476.65 L368.228 1476.65 L368.228 1450.73 M368.228 1440.63 L372.487 1440.63 L372.487 1446.03 L368.228 1446.03 L368.228 1440.63 Z\" fill=\"#000000\" fill-rule=\"evenodd\" fill-opacity=\"1\" /><path clip-path=\"url(#clip900)\" d=\"M 0 0 M395.612 1451.72 L395.612 1455.7 Q393.807 1454.71 391.978 1454.22 Q390.173 1453.71 388.321 1453.71 Q384.177 1453.71 381.886 1456.35 Q379.594 1458.97 379.594 1463.71 Q379.594 1468.46 381.886 1471.1 Q384.177 1473.71 388.321 1473.71 Q390.173 1473.71 391.978 1473.23 Q393.807 1472.72 395.612 1471.72 L395.612 1475.66 Q393.83 1476.49 391.909 1476.91 Q390.01 1477.32 387.858 1477.32 Q382.001 1477.32 378.552 1473.64 Q375.103 1469.96 375.103 1463.71 Q375.103 1457.37 378.575 1453.74 Q382.071 1450.1 388.135 1450.1 Q390.103 1450.1 391.978 1450.52 Q393.853 1450.91 395.612 1451.72 Z\" fill=\"#000000\" fill-rule=\"evenodd\" fill-opacity=\"1\" /><path clip-path=\"url(#clip900)\" d=\"M 0 0 M415.334 1442.09 L437.186 1442.09 L437.186 1446.03 L420.01 1446.03 L420.01 1456.26 L436.469 1456.26 L436.469 1460.19 L420.01 1460.19 L420.01 1472.72 L437.603 1472.72 L437.603 1476.65 L415.334 1476.65 L415.334 1442.09 Z\" fill=\"#000000\" fill-rule=\"evenodd\" fill-opacity=\"1\" /><path clip-path=\"url(#clip900)\" d=\"M 0 0 M459.13 1454.66 L459.13 1440.63 L463.39 1440.63 L463.39 1476.65 L459.13 1476.65 L459.13 1472.76 Q457.788 1475.08 455.728 1476.21 Q453.691 1477.32 450.82 1477.32 Q446.121 1477.32 443.158 1473.57 Q440.219 1469.82 440.219 1463.71 Q440.219 1457.6 443.158 1453.85 Q446.121 1450.1 450.82 1450.1 Q453.691 1450.1 455.728 1451.24 Q457.788 1452.35 459.13 1454.66 M444.617 1463.71 Q444.617 1468.41 446.538 1471.1 Q448.482 1473.76 451.862 1473.76 Q455.242 1473.76 457.186 1471.1 Q459.13 1468.41 459.13 1463.71 Q459.13 1459.01 457.186 1456.35 Q455.242 1453.67 451.862 1453.67 Q448.482 1453.67 446.538 1456.35 Q444.617 1459.01 444.617 1463.71 Z\" fill=\"#000000\" fill-rule=\"evenodd\" fill-opacity=\"1\" /><path clip-path=\"url(#clip900)\" d=\"M 0 0 M467.417 1466.42 L467.417 1450.73 L471.677 1450.73 L471.677 1466.26 Q471.677 1469.94 473.112 1471.79 Q474.547 1473.62 477.417 1473.62 Q480.866 1473.62 482.857 1471.42 Q484.871 1469.22 484.871 1465.43 L484.871 1450.73 L489.13 1450.73 L489.13 1476.65 L484.871 1476.65 L484.871 1472.67 Q483.32 1475.03 481.26 1476.19 Q479.223 1477.32 476.515 1477.32 Q472.047 1477.32 469.732 1474.55 Q467.417 1471.77 467.417 1466.42 M478.135 1450.1 L478.135 1450.1 Z\" fill=\"#000000\" fill-rule=\"evenodd\" fill-opacity=\"1\" /><path clip-path=\"url(#clip900)\" d=\"M 0 0 M512.255 1451.72 L512.255 1455.7 Q510.45 1454.71 508.621 1454.22 Q506.815 1453.71 504.964 1453.71 Q500.82 1453.71 498.528 1456.35 Q496.237 1458.97 496.237 1463.71 Q496.237 1468.46 498.528 1471.1 Q500.82 1473.71 504.964 1473.71 Q506.815 1473.71 508.621 1473.23 Q510.45 1472.72 512.255 1471.72 L512.255 1475.66 Q510.473 1476.49 508.552 1476.91 Q506.653 1477.32 504.501 1477.32 Q498.644 1477.32 495.195 1473.64 Q491.746 1469.96 491.746 1463.71 Q491.746 1457.37 495.218 1453.74 Q498.714 1450.1 504.778 1450.1 Q506.746 1450.1 508.621 1450.52 Q510.496 1450.91 512.255 1451.72 Z\" fill=\"#000000\" fill-rule=\"evenodd\" fill-opacity=\"1\" /><path clip-path=\"url(#clip900)\" d=\"M 0 0 M528.505 1463.62 Q523.343 1463.62 521.352 1464.8 Q519.362 1465.98 519.362 1468.83 Q519.362 1471.1 520.843 1472.44 Q522.348 1473.76 524.917 1473.76 Q528.459 1473.76 530.588 1471.26 Q532.741 1468.74 532.741 1464.57 L532.741 1463.62 L528.505 1463.62 M537 1461.86 L537 1476.65 L532.741 1476.65 L532.741 1472.72 Q531.283 1475.08 529.107 1476.21 Q526.931 1477.32 523.783 1477.32 Q519.801 1477.32 517.44 1475.1 Q515.102 1472.86 515.102 1469.11 Q515.102 1464.73 518.019 1462.51 Q520.959 1460.29 526.769 1460.29 L532.741 1460.29 L532.741 1459.87 Q532.741 1456.93 530.797 1455.33 Q528.875 1453.71 525.38 1453.71 Q523.158 1453.71 521.051 1454.24 Q518.945 1454.78 517.001 1455.84 L517.001 1451.91 Q519.338 1451 521.538 1450.56 Q523.737 1450.1 525.82 1450.1 Q531.445 1450.1 534.223 1453.02 Q537 1455.93 537 1461.86 Z\" fill=\"#000000\" fill-rule=\"evenodd\" fill-opacity=\"1\" /><path clip-path=\"url(#clip900)\" d=\"M 0 0 M545.681 1443.36 L545.681 1450.73 L554.454 1450.73 L554.454 1454.04 L545.681 1454.04 L545.681 1468.11 Q545.681 1471.28 546.537 1472.18 Q547.417 1473.09 550.079 1473.09 L554.454 1473.09 L554.454 1476.65 L550.079 1476.65 Q545.149 1476.65 543.274 1474.82 Q541.399 1472.97 541.399 1468.11 L541.399 1454.04 L538.274 1454.04 L538.274 1450.73 L541.399 1450.73 L541.399 1443.36 L545.681 1443.36 Z\" fill=\"#000000\" fill-rule=\"evenodd\" fill-opacity=\"1\" /><path clip-path=\"url(#clip900)\" d=\"M 0 0 M558.922 1450.73 L563.181 1450.73 L563.181 1476.65 L558.922 1476.65 L558.922 1450.73 M558.922 1440.63 L563.181 1440.63 L563.181 1446.03 L558.922 1446.03 L558.922 1440.63 Z\" fill=\"#000000\" fill-rule=\"evenodd\" fill-opacity=\"1\" /><path clip-path=\"url(#clip900)\" d=\"M 0 0 M577.695 1453.71 Q574.269 1453.71 572.278 1456.4 Q570.287 1459.06 570.287 1463.71 Q570.287 1468.36 572.255 1471.05 Q574.246 1473.71 577.695 1473.71 Q581.097 1473.71 583.088 1471.03 Q585.079 1468.34 585.079 1463.71 Q585.079 1459.11 583.088 1456.42 Q581.097 1453.71 577.695 1453.71 M577.695 1450.1 Q583.25 1450.1 586.421 1453.71 Q589.593 1457.32 589.593 1463.71 Q589.593 1470.08 586.421 1473.71 Q583.25 1477.32 577.695 1477.32 Q572.116 1477.32 568.945 1473.71 Q565.797 1470.08 565.797 1463.71 Q565.797 1457.32 568.945 1453.71 Q572.116 1450.1 577.695 1450.1 Z\" fill=\"#000000\" fill-rule=\"evenodd\" fill-opacity=\"1\" /><path clip-path=\"url(#clip900)\" d=\"M 0 0 M615.611 1461 L615.611 1476.65 L611.352 1476.65 L611.352 1461.14 Q611.352 1457.46 609.917 1455.63 Q608.482 1453.8 605.611 1453.8 Q602.162 1453.8 600.171 1456 Q598.181 1458.2 598.181 1462 L598.181 1476.65 L593.898 1476.65 L593.898 1450.73 L598.181 1450.73 L598.181 1454.75 Q599.708 1452.42 601.769 1451.26 Q603.852 1450.1 606.56 1450.1 Q611.028 1450.1 613.319 1452.88 Q615.611 1455.63 615.611 1461 Z\" fill=\"#000000\" fill-rule=\"evenodd\" fill-opacity=\"1\" /><path clip-path=\"url(#clip900)\" d=\"M 0 0 M867.093 1446.7 L860.751 1463.9 L873.459 1463.9 L867.093 1446.7 M864.455 1442.09 L869.755 1442.09 L882.927 1476.65 L878.066 1476.65 L874.918 1467.79 L859.339 1467.79 L856.191 1476.65 L851.26 1476.65 L864.455 1442.09 Z\" fill=\"#000000\" fill-rule=\"evenodd\" fill-opacity=\"1\" /><path clip-path=\"url(#clip900)\" d=\"M 0 0 M908.945 1461 L908.945 1476.65 L904.686 1476.65 L904.686 1461.14 Q904.686 1457.46 903.251 1455.63 Q901.816 1453.8 898.945 1453.8 Q895.496 1453.8 893.505 1456 Q891.515 1458.2 891.515 1462 L891.515 1476.65 L887.232 1476.65 L887.232 1450.73 L891.515 1450.73 L891.515 1454.75 Q893.042 1452.42 895.103 1451.26 Q897.186 1450.1 899.894 1450.1 Q904.362 1450.1 906.653 1452.88 Q908.945 1455.63 908.945 1461 Z\" fill=\"#000000\" fill-rule=\"evenodd\" fill-opacity=\"1\" /><path clip-path=\"url(#clip900)\" d=\"M 0 0 M913.413 1450.73 L917.672 1450.73 L917.672 1476.65 L913.413 1476.65 L913.413 1450.73 M913.413 1440.63 L917.672 1440.63 L917.672 1446.03 L913.413 1446.03 L913.413 1440.63 Z\" fill=\"#000000\" fill-rule=\"evenodd\" fill-opacity=\"1\" /><path clip-path=\"url(#clip900)\" d=\"M 0 0 M942.325 1455.7 Q943.922 1452.83 946.144 1451.47 Q948.366 1450.1 951.375 1450.1 Q955.426 1450.1 957.625 1452.95 Q959.824 1455.77 959.824 1461 L959.824 1476.65 L955.542 1476.65 L955.542 1461.14 Q955.542 1457.42 954.223 1455.61 Q952.903 1453.8 950.195 1453.8 Q946.885 1453.8 944.963 1456 Q943.042 1458.2 943.042 1462 L943.042 1476.65 L938.76 1476.65 L938.76 1461.14 Q938.76 1457.39 937.44 1455.61 Q936.121 1453.8 933.366 1453.8 Q930.102 1453.8 928.181 1456.03 Q926.26 1458.23 926.26 1462 L926.26 1476.65 L921.977 1476.65 L921.977 1450.73 L926.26 1450.73 L926.26 1454.75 Q927.718 1452.37 929.755 1451.24 Q931.792 1450.1 934.593 1450.1 Q937.417 1450.1 939.385 1451.54 Q941.375 1452.97 942.325 1455.7 Z\" fill=\"#000000\" fill-rule=\"evenodd\" fill-opacity=\"1\" /><path clip-path=\"url(#clip900)\" d=\"M 0 0 M976.074 1463.62 Q970.912 1463.62 968.922 1464.8 Q966.931 1465.98 966.931 1468.83 Q966.931 1471.1 968.412 1472.44 Q969.917 1473.76 972.486 1473.76 Q976.028 1473.76 978.158 1471.26 Q980.31 1468.74 980.31 1464.57 L980.31 1463.62 L976.074 1463.62 M984.57 1461.86 L984.57 1476.65 L980.31 1476.65 L980.31 1472.72 Q978.852 1475.08 976.676 1476.21 Q974.5 1477.32 971.352 1477.32 Q967.371 1477.32 965.01 1475.1 Q962.672 1472.86 962.672 1469.11 Q962.672 1464.73 965.588 1462.51 Q968.528 1460.29 974.338 1460.29 L980.31 1460.29 L980.31 1459.87 Q980.31 1456.93 978.366 1455.33 Q976.445 1453.71 972.949 1453.71 Q970.727 1453.71 968.621 1454.24 Q966.514 1454.78 964.57 1455.84 L964.57 1451.91 Q966.908 1451 969.107 1450.56 Q971.306 1450.1 973.389 1450.1 Q979.014 1450.1 981.792 1453.02 Q984.57 1455.93 984.57 1461.86 Z\" fill=\"#000000\" fill-rule=\"evenodd\" fill-opacity=\"1\" /><path clip-path=\"url(#clip900)\" d=\"M 0 0 M989.037 1440.63 L993.297 1440.63 L993.297 1476.65 L989.037 1476.65 L989.037 1440.63 Z\" fill=\"#000000\" fill-rule=\"evenodd\" fill-opacity=\"1\" /><path clip-path=\"url(#clip900)\" d=\"M 0 0 M1033.74 1443.23 L1033.74 1447.79 Q1031.07 1446.51 1028.71 1445.89 Q1026.35 1445.26 1024.15 1445.26 Q1020.33 1445.26 1018.25 1446.74 Q1016.19 1448.23 1016.19 1450.96 Q1016.19 1453.25 1017.56 1454.43 Q1018.94 1455.59 1022.79 1456.3 L1025.61 1456.88 Q1030.84 1457.88 1033.32 1460.4 Q1035.82 1462.9 1035.82 1467.11 Q1035.82 1472.14 1032.44 1474.73 Q1029.08 1477.32 1022.58 1477.32 Q1020.13 1477.32 1017.35 1476.77 Q1014.59 1476.21 1011.63 1475.12 L1011.63 1470.31 Q1014.48 1471.91 1017.21 1472.72 Q1019.94 1473.53 1022.58 1473.53 Q1026.58 1473.53 1028.76 1471.95 Q1030.94 1470.38 1030.94 1467.46 Q1030.94 1464.92 1029.36 1463.48 Q1027.81 1462.05 1024.25 1461.33 L1021.4 1460.77 Q1016.17 1459.73 1013.83 1457.51 Q1011.49 1455.29 1011.49 1451.33 Q1011.49 1446.74 1014.71 1444.11 Q1017.95 1441.47 1023.62 1441.47 Q1026.05 1441.47 1028.57 1441.91 Q1031.1 1442.35 1033.74 1443.23 Z\" fill=\"#000000\" fill-rule=\"evenodd\" fill-opacity=\"1\" /><path clip-path=\"url(#clip900)\" d=\"M 0 0 M1058.94 1451.72 L1058.94 1455.7 Q1057.14 1454.71 1055.31 1454.22 Q1053.5 1453.71 1051.65 1453.71 Q1047.51 1453.71 1045.22 1456.35 Q1042.93 1458.97 1042.93 1463.71 Q1042.93 1468.46 1045.22 1471.1 Q1047.51 1473.71 1051.65 1473.71 Q1053.5 1473.71 1055.31 1473.23 Q1057.14 1472.72 1058.94 1471.72 L1058.94 1475.66 Q1057.16 1476.49 1055.24 1476.91 Q1053.34 1477.32 1051.19 1477.32 Q1045.33 1477.32 1041.88 1473.64 Q1038.44 1469.96 1038.44 1463.71 Q1038.44 1457.37 1041.91 1453.74 Q1045.4 1450.1 1051.47 1450.1 Q1053.44 1450.1 1055.31 1450.52 Q1057.19 1450.91 1058.94 1451.72 Z\" fill=\"#000000\" fill-rule=\"evenodd\" fill-opacity=\"1\" /><path clip-path=\"url(#clip900)\" d=\"M 0 0 M1063.41 1450.73 L1067.67 1450.73 L1067.67 1476.65 L1063.41 1476.65 L1063.41 1450.73 M1063.41 1440.63 L1067.67 1440.63 L1067.67 1446.03 L1063.41 1446.03 L1063.41 1440.63 Z\" fill=\"#000000\" fill-rule=\"evenodd\" fill-opacity=\"1\" /><path clip-path=\"url(#clip900)\" d=\"M 0 0 M1094.31 1462.62 L1094.31 1464.71 L1074.73 1464.71 Q1075.01 1469.11 1077.37 1471.42 Q1079.75 1473.71 1083.99 1473.71 Q1086.44 1473.71 1088.74 1473.11 Q1091.05 1472.51 1093.32 1471.3 L1093.32 1475.33 Q1091.03 1476.3 1088.62 1476.81 Q1086.21 1477.32 1083.74 1477.32 Q1077.53 1477.32 1073.9 1473.71 Q1070.29 1470.1 1070.29 1463.94 Q1070.29 1457.58 1073.71 1453.85 Q1077.16 1450.1 1083 1450.1 Q1088.23 1450.1 1091.26 1453.48 Q1094.31 1456.84 1094.31 1462.62 M1090.06 1461.37 Q1090.01 1457.88 1088.09 1455.8 Q1086.19 1453.71 1083.04 1453.71 Q1079.48 1453.71 1077.32 1455.73 Q1075.19 1457.74 1074.87 1461.4 L1090.06 1461.37 Z\" fill=\"#000000\" fill-rule=\"evenodd\" fill-opacity=\"1\" /><path clip-path=\"url(#clip900)\" d=\"M 0 0 M1120.33 1461 L1120.33 1476.65 L1116.07 1476.65 L1116.07 1461.14 Q1116.07 1457.46 1114.64 1455.63 Q1113.2 1453.8 1110.33 1453.8 Q1106.88 1453.8 1104.89 1456 Q1102.9 1458.2 1102.9 1462 L1102.9 1476.65 L1098.62 1476.65 L1098.62 1450.73 L1102.9 1450.73 L1102.9 1454.75 Q1104.43 1452.42 1106.49 1451.26 Q1108.57 1450.1 1111.28 1450.1 Q1115.75 1450.1 1118.04 1452.88 Q1120.33 1455.63 1120.33 1461 Z\" fill=\"#000000\" fill-rule=\"evenodd\" fill-opacity=\"1\" /><path clip-path=\"url(#clip900)\" d=\"M 0 0 M1143.46 1451.72 L1143.46 1455.7 Q1141.65 1454.71 1139.82 1454.22 Q1138.02 1453.71 1136.17 1453.71 Q1132.02 1453.71 1129.73 1456.35 Q1127.44 1458.97 1127.44 1463.71 Q1127.44 1468.46 1129.73 1471.1 Q1132.02 1473.71 1136.17 1473.71 Q1138.02 1473.71 1139.82 1473.23 Q1141.65 1472.72 1143.46 1471.72 L1143.46 1475.66 Q1141.68 1476.49 1139.75 1476.91 Q1137.86 1477.32 1135.7 1477.32 Q1129.85 1477.32 1126.4 1473.64 Q1122.95 1469.96 1122.95 1463.71 Q1122.95 1457.37 1126.42 1453.74 Q1129.92 1450.1 1135.98 1450.1 Q1137.95 1450.1 1139.82 1450.52 Q1141.7 1450.91 1143.46 1451.72 Z\" fill=\"#000000\" fill-rule=\"evenodd\" fill-opacity=\"1\" /><path clip-path=\"url(#clip900)\" d=\"M 0 0 M1170.1 1462.62 L1170.1 1464.71 L1150.52 1464.71 Q1150.8 1469.11 1153.16 1471.42 Q1155.54 1473.71 1159.78 1473.71 Q1162.23 1473.71 1164.52 1473.11 Q1166.84 1472.51 1169.11 1471.3 L1169.11 1475.33 Q1166.81 1476.3 1164.41 1476.81 Q1162 1477.32 1159.52 1477.32 Q1153.32 1477.32 1149.68 1473.71 Q1146.07 1470.1 1146.07 1463.94 Q1146.07 1457.58 1149.5 1453.85 Q1152.95 1450.1 1158.78 1450.1 Q1164.01 1450.1 1167.05 1453.48 Q1170.1 1456.84 1170.1 1462.62 M1165.84 1461.37 Q1165.8 1457.88 1163.87 1455.8 Q1161.98 1453.71 1158.83 1453.71 Q1155.26 1453.71 1153.11 1455.73 Q1150.98 1457.74 1150.66 1461.4 L1165.84 1461.37 Z\" fill=\"#000000\" fill-rule=\"evenodd\" fill-opacity=\"1\" /><path clip-path=\"url(#clip900)\" d=\"M 0 0 M1407.93 1442.09 L1414.89 1442.09 L1423.71 1465.61 L1432.58 1442.09 L1439.55 1442.09 L1439.55 1476.65 L1434.99 1476.65 L1434.99 1446.3 L1426.07 1470.01 L1421.38 1470.01 L1412.46 1446.3 L1412.46 1476.65 L1407.93 1476.65 L1407.93 1442.09 Z\" fill=\"#000000\" fill-rule=\"evenodd\" fill-opacity=\"1\" /><path clip-path=\"url(#clip900)\" d=\"M 0 0 M1466.19 1462.62 L1466.19 1464.71 L1446.61 1464.71 Q1446.88 1469.11 1449.25 1471.42 Q1451.63 1473.71 1455.87 1473.71 Q1458.32 1473.71 1460.61 1473.11 Q1462.93 1472.51 1465.19 1471.3 L1465.19 1475.33 Q1462.9 1476.3 1460.5 1476.81 Q1458.09 1477.32 1455.61 1477.32 Q1449.41 1477.32 1445.77 1473.71 Q1442.16 1470.1 1442.16 1463.94 Q1442.16 1457.58 1445.59 1453.85 Q1449.04 1450.1 1454.87 1450.1 Q1460.1 1450.1 1463.13 1453.48 Q1466.19 1456.84 1466.19 1462.62 M1461.93 1461.37 Q1461.88 1457.88 1459.96 1455.8 Q1458.06 1453.71 1454.92 1453.71 Q1451.35 1453.71 1449.2 1455.73 Q1447.07 1457.74 1446.75 1461.4 L1461.93 1461.37 Z\" fill=\"#000000\" fill-rule=\"evenodd\" fill-opacity=\"1\" /><path clip-path=\"url(#clip900)\" d=\"M 0 0 M1489.31 1451.72 L1489.31 1455.7 Q1487.51 1454.71 1485.68 1454.22 Q1483.87 1453.71 1482.02 1453.71 Q1477.88 1453.71 1475.59 1456.35 Q1473.3 1458.97 1473.3 1463.71 Q1473.3 1468.46 1475.59 1471.1 Q1477.88 1473.71 1482.02 1473.71 Q1483.87 1473.71 1485.68 1473.23 Q1487.51 1472.72 1489.31 1471.72 L1489.31 1475.66 Q1487.53 1476.49 1485.61 1476.91 Q1483.71 1477.32 1481.56 1477.32 Q1475.7 1477.32 1472.25 1473.64 Q1468.81 1469.96 1468.81 1463.71 Q1468.81 1457.37 1472.28 1453.74 Q1475.77 1450.1 1481.84 1450.1 Q1483.81 1450.1 1485.68 1450.52 Q1487.56 1450.91 1489.31 1451.72 Z\" fill=\"#000000\" fill-rule=\"evenodd\" fill-opacity=\"1\" /><path clip-path=\"url(#clip900)\" d=\"M 0 0 M1515.33 1461 L1515.33 1476.65 L1511.07 1476.65 L1511.07 1461.14 Q1511.07 1457.46 1509.64 1455.63 Q1508.2 1453.8 1505.33 1453.8 Q1501.88 1453.8 1499.89 1456 Q1497.9 1458.2 1497.9 1462 L1497.9 1476.65 L1493.62 1476.65 L1493.62 1440.63 L1497.9 1440.63 L1497.9 1454.75 Q1499.43 1452.42 1501.49 1451.26 Q1503.57 1450.1 1506.28 1450.1 Q1510.75 1450.1 1513.04 1452.88 Q1515.33 1455.63 1515.33 1461 Z\" fill=\"#000000\" fill-rule=\"evenodd\" fill-opacity=\"1\" /><path clip-path=\"url(#clip900)\" d=\"M 0 0 M1531.58 1463.62 Q1526.42 1463.62 1524.43 1464.8 Q1522.44 1465.98 1522.44 1468.83 Q1522.44 1471.1 1523.92 1472.44 Q1525.43 1473.76 1527.99 1473.76 Q1531.54 1473.76 1533.67 1471.26 Q1535.82 1468.74 1535.82 1464.57 L1535.82 1463.62 L1531.58 1463.62 M1540.08 1461.86 L1540.08 1476.65 L1535.82 1476.65 L1535.82 1472.72 Q1534.36 1475.08 1532.18 1476.21 Q1530.01 1477.32 1526.86 1477.32 Q1522.88 1477.32 1520.52 1475.1 Q1518.18 1472.86 1518.18 1469.11 Q1518.18 1464.73 1521.1 1462.51 Q1524.04 1460.29 1529.85 1460.29 L1535.82 1460.29 L1535.82 1459.87 Q1535.82 1456.93 1533.87 1455.33 Q1531.95 1453.71 1528.46 1453.71 Q1526.24 1453.71 1524.13 1454.24 Q1522.02 1454.78 1520.08 1455.84 L1520.08 1451.91 Q1522.42 1451 1524.62 1450.56 Q1526.81 1450.1 1528.9 1450.1 Q1534.52 1450.1 1537.3 1453.02 Q1540.08 1455.93 1540.08 1461.86 Z\" fill=\"#000000\" fill-rule=\"evenodd\" fill-opacity=\"1\" /><path clip-path=\"url(#clip900)\" d=\"M 0 0 M1566.1 1461 L1566.1 1476.65 L1561.84 1476.65 L1561.84 1461.14 Q1561.84 1457.46 1560.4 1455.63 Q1558.97 1453.8 1556.1 1453.8 Q1552.65 1453.8 1550.66 1456 Q1548.67 1458.2 1548.67 1462 L1548.67 1476.65 L1544.38 1476.65 L1544.38 1450.73 L1548.67 1450.73 L1548.67 1454.75 Q1550.19 1452.42 1552.25 1451.26 Q1554.34 1450.1 1557.05 1450.1 Q1561.51 1450.1 1563.8 1452.88 Q1566.1 1455.63 1566.1 1461 Z\" fill=\"#000000\" fill-rule=\"evenodd\" fill-opacity=\"1\" /><path clip-path=\"url(#clip900)\" d=\"M 0 0 M1570.56 1450.73 L1574.82 1450.73 L1574.82 1476.65 L1570.56 1476.65 L1570.56 1450.73 M1570.56 1440.63 L1574.82 1440.63 L1574.82 1446.03 L1570.56 1446.03 L1570.56 1440.63 Z\" fill=\"#000000\" fill-rule=\"evenodd\" fill-opacity=\"1\" /><path clip-path=\"url(#clip900)\" d=\"M 0 0 M1597.95 1451.72 L1597.95 1455.7 Q1596.14 1454.71 1594.31 1454.22 Q1592.51 1453.71 1590.66 1453.71 Q1586.51 1453.71 1584.22 1456.35 Q1581.93 1458.97 1581.93 1463.71 Q1581.93 1468.46 1584.22 1471.1 Q1586.51 1473.71 1590.66 1473.71 Q1592.51 1473.71 1594.31 1473.23 Q1596.14 1472.72 1597.95 1471.72 L1597.95 1475.66 Q1596.17 1476.49 1594.24 1476.91 Q1592.35 1477.32 1590.19 1477.32 Q1584.34 1477.32 1580.89 1473.64 Q1577.44 1469.96 1577.44 1463.71 Q1577.44 1457.37 1580.91 1453.74 Q1584.41 1450.1 1590.47 1450.1 Q1592.44 1450.1 1594.31 1450.52 Q1596.19 1450.91 1597.95 1451.72 Z\" fill=\"#000000\" fill-rule=\"evenodd\" fill-opacity=\"1\" /><path clip-path=\"url(#clip900)\" d=\"M 0 0 M1614.2 1463.62 Q1609.04 1463.62 1607.05 1464.8 Q1605.05 1465.98 1605.05 1468.83 Q1605.05 1471.1 1606.54 1472.44 Q1608.04 1473.76 1610.61 1473.76 Q1614.15 1473.76 1616.28 1471.26 Q1618.43 1468.74 1618.43 1464.57 L1618.43 1463.62 L1614.2 1463.62 M1622.69 1461.86 L1622.69 1476.65 L1618.43 1476.65 L1618.43 1472.72 Q1616.98 1475.08 1614.8 1476.21 Q1612.62 1477.32 1609.48 1477.32 Q1605.49 1477.32 1603.13 1475.1 Q1600.8 1472.86 1600.8 1469.11 Q1600.8 1464.73 1603.71 1462.51 Q1606.65 1460.29 1612.46 1460.29 L1618.43 1460.29 L1618.43 1459.87 Q1618.43 1456.93 1616.49 1455.33 Q1614.57 1453.71 1611.07 1453.71 Q1608.85 1453.71 1606.74 1454.24 Q1604.64 1454.78 1602.69 1455.84 L1602.69 1451.91 Q1605.03 1451 1607.23 1450.56 Q1609.43 1450.1 1611.51 1450.1 Q1617.14 1450.1 1619.92 1453.02 Q1622.69 1455.93 1622.69 1461.86 Z\" fill=\"#000000\" fill-rule=\"evenodd\" fill-opacity=\"1\" /><path clip-path=\"url(#clip900)\" d=\"M 0 0 M1627.16 1440.63 L1631.42 1440.63 L1631.42 1476.65 L1627.16 1476.65 L1627.16 1440.63 Z\" fill=\"#000000\" fill-rule=\"evenodd\" fill-opacity=\"1\" /><path clip-path=\"url(#clip900)\" d=\"M 0 0 M1651.14 1442.09 L1672.99 1442.09 L1672.99 1446.03 L1655.82 1446.03 L1655.82 1456.26 L1672.28 1456.26 L1672.28 1460.19 L1655.82 1460.19 L1655.82 1472.72 L1673.41 1472.72 L1673.41 1476.65 L1651.14 1476.65 L1651.14 1442.09 Z\" fill=\"#000000\" fill-rule=\"evenodd\" fill-opacity=\"1\" /><path clip-path=\"url(#clip900)\" d=\"M 0 0 M1699.43 1461 L1699.43 1476.65 L1695.17 1476.65 L1695.17 1461.14 Q1695.17 1457.46 1693.73 1455.63 Q1692.3 1453.8 1689.43 1453.8 Q1685.98 1453.8 1683.99 1456 Q1682 1458.2 1682 1462 L1682 1476.65 L1677.72 1476.65 L1677.72 1450.73 L1682 1450.73 L1682 1454.75 Q1683.53 1452.42 1685.59 1451.26 Q1687.67 1450.1 1690.38 1450.1 Q1694.85 1450.1 1697.14 1452.88 Q1699.43 1455.63 1699.43 1461 Z\" fill=\"#000000\" fill-rule=\"evenodd\" fill-opacity=\"1\" /><path clip-path=\"url(#clip900)\" d=\"M 0 0 M1720.96 1463.39 Q1720.96 1458.76 1719.04 1456.21 Q1717.14 1453.67 1713.69 1453.67 Q1710.26 1453.67 1708.34 1456.21 Q1706.44 1458.76 1706.44 1463.39 Q1706.44 1467.99 1708.34 1470.54 Q1710.26 1473.09 1713.69 1473.09 Q1717.14 1473.09 1719.04 1470.54 Q1720.96 1467.99 1720.96 1463.39 M1725.22 1473.43 Q1725.22 1480.05 1722.28 1483.27 Q1719.34 1486.51 1713.27 1486.51 Q1711.03 1486.51 1709.04 1486.17 Q1707.04 1485.84 1705.17 1485.15 L1705.17 1481 Q1707.04 1482.02 1708.87 1482.51 Q1710.7 1482.99 1712.6 1482.99 Q1716.79 1482.99 1718.87 1480.8 Q1720.96 1478.62 1720.96 1474.2 L1720.96 1472.09 Q1719.64 1474.38 1717.58 1475.52 Q1715.52 1476.65 1712.65 1476.65 Q1707.88 1476.65 1704.96 1473.02 Q1702.04 1469.38 1702.04 1463.39 Q1702.04 1457.37 1704.96 1453.74 Q1707.88 1450.1 1712.65 1450.1 Q1715.52 1450.1 1717.58 1451.24 Q1719.64 1452.37 1720.96 1454.66 L1720.96 1450.73 L1725.22 1450.73 L1725.22 1473.43 Z\" fill=\"#000000\" fill-rule=\"evenodd\" fill-opacity=\"1\" /><path clip-path=\"url(#clip900)\" d=\"M 0 0 M1730.29 1470.77 L1735.17 1470.77 L1735.17 1476.65 L1730.29 1476.65 L1730.29 1470.77 Z\" fill=\"#000000\" fill-rule=\"evenodd\" fill-opacity=\"1\" /><path clip-path=\"url(#clip900)\" d=\"M 0 0 M2020.27 1445.93 L2020.27 1458.92 L2026.15 1458.92 Q2029.42 1458.92 2031.2 1457.23 Q2032.98 1455.54 2032.98 1452.42 Q2032.98 1449.31 2031.2 1447.62 Q2029.42 1445.93 2026.15 1445.93 L2020.27 1445.93 M2015.6 1442.09 L2026.15 1442.09 Q2031.96 1442.09 2034.93 1444.73 Q2037.91 1447.35 2037.91 1452.42 Q2037.91 1457.53 2034.93 1460.15 Q2031.96 1462.76 2026.15 1462.76 L2020.27 1462.76 L2020.27 1476.65 L2015.6 1476.65 L2015.6 1442.09 Z\" fill=\"#000000\" fill-rule=\"evenodd\" fill-opacity=\"1\" /><path clip-path=\"url(#clip900)\" d=\"M 0 0 M2058.08 1451.49 L2058.08 1455.52 Q2056.27 1454.59 2054.33 1454.13 Q2052.38 1453.67 2050.3 1453.67 Q2047.13 1453.67 2045.53 1454.64 Q2043.96 1455.61 2043.96 1457.55 Q2043.96 1459.04 2045.09 1459.89 Q2046.22 1460.73 2049.65 1461.49 L2051.11 1461.81 Q2055.64 1462.79 2057.54 1464.57 Q2059.46 1466.33 2059.46 1469.5 Q2059.46 1473.11 2056.59 1475.22 Q2053.75 1477.32 2048.75 1477.32 Q2046.66 1477.32 2044.39 1476.91 Q2042.15 1476.51 2039.65 1475.7 L2039.65 1471.3 Q2042.01 1472.53 2044.3 1473.16 Q2046.59 1473.76 2048.84 1473.76 Q2051.85 1473.76 2053.47 1472.74 Q2055.09 1471.7 2055.09 1469.82 Q2055.09 1468.09 2053.91 1467.16 Q2052.75 1466.24 2048.79 1465.38 L2047.31 1465.03 Q2043.35 1464.2 2041.59 1462.49 Q2039.83 1460.75 2039.83 1457.74 Q2039.83 1454.08 2042.43 1452.09 Q2045.02 1450.1 2049.79 1450.1 Q2052.15 1450.1 2054.23 1450.45 Q2056.32 1450.8 2058.08 1451.49 Z\" fill=\"#000000\" fill-rule=\"evenodd\" fill-opacity=\"1\" /><path clip-path=\"url(#clip900)\" d=\"M 0 0 M2074.72 1479.06 Q2072.91 1483.69 2071.2 1485.1 Q2069.49 1486.51 2066.62 1486.51 L2063.21 1486.51 L2063.21 1482.95 L2065.71 1482.95 Q2067.47 1482.95 2068.45 1482.11 Q2069.42 1481.28 2070.6 1478.18 L2071.36 1476.24 L2060.88 1450.73 L2065.39 1450.73 L2073.49 1471 L2081.59 1450.73 L2086.11 1450.73 L2074.72 1479.06 Z\" fill=\"#000000\" fill-rule=\"evenodd\" fill-opacity=\"1\" /><path clip-path=\"url(#clip900)\" d=\"M 0 0 M2109.23 1451.72 L2109.23 1455.7 Q2107.43 1454.71 2105.6 1454.22 Q2103.79 1453.71 2101.94 1453.71 Q2097.8 1453.71 2095.51 1456.35 Q2093.21 1458.97 2093.21 1463.71 Q2093.21 1468.46 2095.51 1471.1 Q2097.8 1473.71 2101.94 1473.71 Q2103.79 1473.71 2105.6 1473.23 Q2107.43 1472.72 2109.23 1471.72 L2109.23 1475.66 Q2107.45 1476.49 2105.53 1476.91 Q2103.63 1477.32 2101.48 1477.32 Q2095.62 1477.32 2092.17 1473.64 Q2088.72 1469.96 2088.72 1463.71 Q2088.72 1457.37 2092.2 1453.74 Q2095.69 1450.1 2101.76 1450.1 Q2103.72 1450.1 2105.6 1450.52 Q2107.47 1450.91 2109.23 1451.72 Z\" fill=\"#000000\" fill-rule=\"evenodd\" fill-opacity=\"1\" /><path clip-path=\"url(#clip900)\" d=\"M 0 0 M2135.25 1461 L2135.25 1476.65 L2130.99 1476.65 L2130.99 1461.14 Q2130.99 1457.46 2129.56 1455.63 Q2128.12 1453.8 2125.25 1453.8 Q2121.8 1453.8 2119.81 1456 Q2117.82 1458.2 2117.82 1462 L2117.82 1476.65 L2113.54 1476.65 L2113.54 1440.63 L2117.82 1440.63 L2117.82 1454.75 Q2119.35 1452.42 2121.41 1451.26 Q2123.49 1450.1 2126.2 1450.1 Q2130.67 1450.1 2132.96 1452.88 Q2135.25 1455.63 2135.25 1461 Z\" fill=\"#000000\" fill-rule=\"evenodd\" fill-opacity=\"1\" /><path clip-path=\"url(#clip900)\" d=\"M 0 0 M2149.76 1453.71 Q2146.34 1453.71 2144.35 1456.4 Q2142.36 1459.06 2142.36 1463.71 Q2142.36 1468.36 2144.32 1471.05 Q2146.32 1473.71 2149.76 1473.71 Q2153.17 1473.71 2155.16 1471.03 Q2157.15 1468.34 2157.15 1463.71 Q2157.15 1459.11 2155.16 1456.42 Q2153.17 1453.71 2149.76 1453.71 M2149.76 1450.1 Q2155.32 1450.1 2158.49 1453.71 Q2161.66 1457.32 2161.66 1463.71 Q2161.66 1470.08 2158.49 1473.71 Q2155.32 1477.32 2149.76 1477.32 Q2144.19 1477.32 2141.01 1473.71 Q2137.87 1470.08 2137.87 1463.71 Q2137.87 1457.32 2141.01 1453.71 Q2144.19 1450.1 2149.76 1450.1 Z\" fill=\"#000000\" fill-rule=\"evenodd\" fill-opacity=\"1\" /><path clip-path=\"url(#clip900)\" d=\"M 0 0 M2166.13 1440.63 L2170.39 1440.63 L2170.39 1476.65 L2166.13 1476.65 L2166.13 1440.63 Z\" fill=\"#000000\" fill-rule=\"evenodd\" fill-opacity=\"1\" /><path clip-path=\"url(#clip900)\" d=\"M 0 0 M2184.9 1453.71 Q2181.48 1453.71 2179.49 1456.4 Q2177.5 1459.06 2177.5 1463.71 Q2177.5 1468.36 2179.46 1471.05 Q2181.45 1473.71 2184.9 1473.71 Q2188.31 1473.71 2190.3 1471.03 Q2192.29 1468.34 2192.29 1463.71 Q2192.29 1459.11 2190.3 1456.42 Q2188.31 1453.71 2184.9 1453.71 M2184.9 1450.1 Q2190.46 1450.1 2193.63 1453.71 Q2196.8 1457.32 2196.8 1463.71 Q2196.8 1470.08 2193.63 1473.71 Q2190.46 1477.32 2184.9 1477.32 Q2179.32 1477.32 2176.15 1473.71 Q2173.01 1470.08 2173.01 1463.71 Q2173.01 1457.32 2176.15 1453.71 Q2179.32 1450.1 2184.9 1450.1 Z\" fill=\"#000000\" fill-rule=\"evenodd\" fill-opacity=\"1\" /><path clip-path=\"url(#clip900)\" d=\"M 0 0 M2218.33 1463.39 Q2218.33 1458.76 2216.41 1456.21 Q2214.51 1453.67 2211.06 1453.67 Q2207.63 1453.67 2205.71 1456.21 Q2203.82 1458.76 2203.82 1463.39 Q2203.82 1467.99 2205.71 1470.54 Q2207.63 1473.09 2211.06 1473.09 Q2214.51 1473.09 2216.41 1470.54 Q2218.33 1467.99 2218.33 1463.39 M2222.59 1473.43 Q2222.59 1480.05 2219.65 1483.27 Q2216.71 1486.51 2210.64 1486.51 Q2208.4 1486.51 2206.41 1486.17 Q2204.42 1485.84 2202.54 1485.15 L2202.54 1481 Q2204.42 1482.02 2206.25 1482.51 Q2208.07 1482.99 2209.97 1482.99 Q2214.16 1482.99 2216.25 1480.8 Q2218.33 1478.62 2218.33 1474.2 L2218.33 1472.09 Q2217.01 1474.38 2214.95 1475.52 Q2212.89 1476.65 2210.02 1476.65 Q2205.25 1476.65 2202.33 1473.02 Q2199.42 1469.38 2199.42 1463.39 Q2199.42 1457.37 2202.33 1453.74 Q2205.25 1450.1 2210.02 1450.1 Q2212.89 1450.1 2214.95 1451.24 Q2217.01 1452.37 2218.33 1454.66 L2218.33 1450.73 L2222.59 1450.73 L2222.59 1473.43 Z\" fill=\"#000000\" fill-rule=\"evenodd\" fill-opacity=\"1\" /><path clip-path=\"url(#clip900)\" d=\"M 0 0 M2237.84 1479.06 Q2236.04 1483.69 2234.32 1485.1 Q2232.61 1486.51 2229.74 1486.51 L2226.34 1486.51 L2226.34 1482.95 L2228.84 1482.95 Q2230.6 1482.95 2231.57 1482.11 Q2232.54 1481.28 2233.72 1478.18 L2234.49 1476.24 L2224 1450.73 L2228.51 1450.73 L2236.62 1471 L2244.72 1450.73 L2249.23 1450.73 L2237.84 1479.06 Z\" fill=\"#000000\" fill-rule=\"evenodd\" fill-opacity=\"1\" /><path clip-path=\"url(#clip900)\" d=\"M 0 0 M131.538 1244.53 L139.177 1244.53 L139.177 1218.17 L130.867 1219.83 L130.867 1215.57 L139.13 1213.91 L143.806 1213.91 L143.806 1244.53 L151.445 1244.53 L151.445 1248.47 L131.538 1248.47 L131.538 1244.53 Z\" fill=\"#000000\" fill-rule=\"evenodd\" fill-opacity=\"1\" /><path clip-path=\"url(#clip900)\" d=\"M 0 0 M166.515 1216.99 Q162.903 1216.99 161.075 1220.55 Q159.269 1224.09 159.269 1231.22 Q159.269 1238.33 161.075 1241.89 Q162.903 1245.44 166.515 1245.44 Q170.149 1245.44 171.954 1241.89 Q173.783 1238.33 173.783 1231.22 Q173.783 1224.09 171.954 1220.55 Q170.149 1216.99 166.515 1216.99 M166.515 1213.28 Q172.325 1213.28 175.38 1217.89 Q178.459 1222.47 178.459 1231.22 Q178.459 1239.95 175.38 1244.56 Q172.325 1249.14 166.515 1249.14 Q160.704 1249.14 157.626 1244.56 Q154.57 1239.95 154.57 1231.22 Q154.57 1222.47 157.626 1217.89 Q160.704 1213.28 166.515 1213.28 Z\" fill=\"#000000\" fill-rule=\"evenodd\" fill-opacity=\"1\" /><path clip-path=\"url(#clip900)\" d=\"M 0 0 M193.528 1216.99 Q189.917 1216.99 188.089 1220.55 Q186.283 1224.09 186.283 1231.22 Q186.283 1238.33 188.089 1241.89 Q189.917 1245.44 193.528 1245.44 Q197.163 1245.44 198.968 1241.89 Q200.797 1238.33 200.797 1231.22 Q200.797 1224.09 198.968 1220.55 Q197.163 1216.99 193.528 1216.99 M193.528 1213.28 Q199.338 1213.28 202.394 1217.89 Q205.473 1222.47 205.473 1231.22 Q205.473 1239.95 202.394 1244.56 Q199.338 1249.14 193.528 1249.14 Q187.718 1249.14 184.639 1244.56 Q181.584 1239.95 181.584 1231.22 Q181.584 1222.47 184.639 1217.89 Q187.718 1213.28 193.528 1213.28 Z\" fill=\"#000000\" fill-rule=\"evenodd\" fill-opacity=\"1\" /><path clip-path=\"url(#clip900)\" d=\"M 0 0 M135.126 985.854 L151.445 985.854 L151.445 989.789 L129.501 989.789 L129.501 985.854 Q132.163 983.099 136.746 978.47 Q141.353 973.817 142.533 972.474 Q144.779 969.951 145.658 968.215 Q146.561 966.456 146.561 964.766 Q146.561 962.011 144.617 960.275 Q142.695 958.539 139.593 958.539 Q137.394 958.539 134.941 959.303 Q132.51 960.067 129.732 961.618 L129.732 956.896 Q132.556 955.761 135.01 955.183 Q137.464 954.604 139.501 954.604 Q144.871 954.604 148.066 957.289 Q151.26 959.974 151.26 964.465 Q151.26 966.595 150.45 968.516 Q149.663 970.414 147.556 973.007 Q146.978 973.678 143.876 976.896 Q140.774 980.09 135.126 985.854 Z\" fill=\"#000000\" fill-rule=\"evenodd\" fill-opacity=\"1\" /><path clip-path=\"url(#clip900)\" d=\"M 0 0 M166.515 958.308 Q162.903 958.308 161.075 961.872 Q159.269 965.414 159.269 972.544 Q159.269 979.65 161.075 983.215 Q162.903 986.757 166.515 986.757 Q170.149 986.757 171.954 983.215 Q173.783 979.65 173.783 972.544 Q173.783 965.414 171.954 961.872 Q170.149 958.308 166.515 958.308 M166.515 954.604 Q172.325 954.604 175.38 959.21 Q178.459 963.794 178.459 972.544 Q178.459 981.27 175.38 985.877 Q172.325 990.46 166.515 990.46 Q160.704 990.46 157.626 985.877 Q154.57 981.27 154.57 972.544 Q154.57 963.794 157.626 959.21 Q160.704 954.604 166.515 954.604 Z\" fill=\"#000000\" fill-rule=\"evenodd\" fill-opacity=\"1\" /><path clip-path=\"url(#clip900)\" d=\"M 0 0 M193.528 958.308 Q189.917 958.308 188.089 961.872 Q186.283 965.414 186.283 972.544 Q186.283 979.65 188.089 983.215 Q189.917 986.757 193.528 986.757 Q197.163 986.757 198.968 983.215 Q200.797 979.65 200.797 972.544 Q200.797 965.414 198.968 961.872 Q197.163 958.308 193.528 958.308 M193.528 954.604 Q199.338 954.604 202.394 959.21 Q205.473 963.794 205.473 972.544 Q205.473 981.27 202.394 985.877 Q199.338 990.46 193.528 990.46 Q187.718 990.46 184.639 985.877 Q181.584 981.27 181.584 972.544 Q181.584 963.794 184.639 959.21 Q187.718 954.604 193.528 954.604 Z\" fill=\"#000000\" fill-rule=\"evenodd\" fill-opacity=\"1\" /><path clip-path=\"url(#clip900)\" d=\"M 0 0 M144.316 712.476 Q147.672 713.193 149.547 715.462 Q151.445 717.73 151.445 721.064 Q151.445 726.179 147.927 728.98 Q144.408 731.781 137.927 731.781 Q135.751 731.781 133.436 731.341 Q131.144 730.925 128.691 730.068 L128.691 725.554 Q130.635 726.688 132.95 727.267 Q135.265 727.846 137.788 727.846 Q142.186 727.846 144.478 726.11 Q146.792 724.374 146.792 721.064 Q146.792 718.008 144.64 716.295 Q142.51 714.559 138.691 714.559 L134.663 714.559 L134.663 710.716 L138.876 710.716 Q142.325 710.716 144.154 709.351 Q145.982 707.962 145.982 705.369 Q145.982 702.707 144.084 701.295 Q142.209 699.86 138.691 699.86 Q136.769 699.86 134.57 700.277 Q132.371 700.693 129.732 701.573 L129.732 697.406 Q132.394 696.666 134.709 696.295 Q137.047 695.925 139.107 695.925 Q144.431 695.925 147.533 698.355 Q150.635 700.763 150.635 704.883 Q150.635 707.753 148.992 709.744 Q147.348 711.712 144.316 712.476 Z\" fill=\"#000000\" fill-rule=\"evenodd\" fill-opacity=\"1\" /><path clip-path=\"url(#clip900)\" d=\"M 0 0 M166.515 699.628 Q162.903 699.628 161.075 703.193 Q159.269 706.735 159.269 713.864 Q159.269 720.971 161.075 724.536 Q162.903 728.077 166.515 728.077 Q170.149 728.077 171.954 724.536 Q173.783 720.971 173.783 713.864 Q173.783 706.735 171.954 703.193 Q170.149 699.628 166.515 699.628 M166.515 695.925 Q172.325 695.925 175.38 700.531 Q178.459 705.115 178.459 713.864 Q178.459 722.591 175.38 727.198 Q172.325 731.781 166.515 731.781 Q160.704 731.781 157.626 727.198 Q154.57 722.591 154.57 713.864 Q154.57 705.115 157.626 700.531 Q160.704 695.925 166.515 695.925 Z\" fill=\"#000000\" fill-rule=\"evenodd\" fill-opacity=\"1\" /><path clip-path=\"url(#clip900)\" d=\"M 0 0 M193.528 699.628 Q189.917 699.628 188.089 703.193 Q186.283 706.735 186.283 713.864 Q186.283 720.971 188.089 724.536 Q189.917 728.077 193.528 728.077 Q197.163 728.077 198.968 724.536 Q200.797 720.971 200.797 713.864 Q200.797 706.735 198.968 703.193 Q197.163 699.628 193.528 699.628 M193.528 695.925 Q199.338 695.925 202.394 700.531 Q205.473 705.115 205.473 713.864 Q205.473 722.591 202.394 727.198 Q199.338 731.781 193.528 731.781 Q187.718 731.781 184.639 727.198 Q181.584 722.591 181.584 713.864 Q181.584 705.115 184.639 700.531 Q187.718 695.925 193.528 695.925 Z\" fill=\"#000000\" fill-rule=\"evenodd\" fill-opacity=\"1\" /><path clip-path=\"url(#clip900)\" d=\"M 0 0 M141.862 441.945 L130.056 460.394 L141.862 460.394 L141.862 441.945 M140.635 437.871 L146.515 437.871 L146.515 460.394 L151.445 460.394 L151.445 464.282 L146.515 464.282 L146.515 472.431 L141.862 472.431 L141.862 464.282 L126.26 464.282 L126.26 459.769 L140.635 437.871 Z\" fill=\"#000000\" fill-rule=\"evenodd\" fill-opacity=\"1\" /><path clip-path=\"url(#clip900)\" d=\"M 0 0 M166.515 440.949 Q162.903 440.949 161.075 444.514 Q159.269 448.056 159.269 455.185 Q159.269 462.292 161.075 465.857 Q162.903 469.398 166.515 469.398 Q170.149 469.398 171.954 465.857 Q173.783 462.292 173.783 455.185 Q173.783 448.056 171.954 444.514 Q170.149 440.949 166.515 440.949 M166.515 437.246 Q172.325 437.246 175.38 441.852 Q178.459 446.435 178.459 455.185 Q178.459 463.912 175.38 468.519 Q172.325 473.102 166.515 473.102 Q160.704 473.102 157.626 468.519 Q154.57 463.912 154.57 455.185 Q154.57 446.435 157.626 441.852 Q160.704 437.246 166.515 437.246 Z\" fill=\"#000000\" fill-rule=\"evenodd\" fill-opacity=\"1\" /><path clip-path=\"url(#clip900)\" d=\"M 0 0 M193.528 440.949 Q189.917 440.949 188.089 444.514 Q186.283 448.056 186.283 455.185 Q186.283 462.292 188.089 465.857 Q189.917 469.398 193.528 469.398 Q197.163 469.398 198.968 465.857 Q200.797 462.292 200.797 455.185 Q200.797 448.056 198.968 444.514 Q197.163 440.949 193.528 440.949 M193.528 437.246 Q199.338 437.246 202.394 441.852 Q205.473 446.435 205.473 455.185 Q205.473 463.912 202.394 468.519 Q199.338 473.102 193.528 473.102 Q187.718 473.102 184.639 468.519 Q181.584 463.912 181.584 455.185 Q181.584 446.435 184.639 441.852 Q187.718 437.246 193.528 437.246 Z\" fill=\"#000000\" fill-rule=\"evenodd\" fill-opacity=\"1\" /><path clip-path=\"url(#clip900)\" d=\"M 0 0 M130.543 179.191 L148.899 179.191 L148.899 183.127 L134.825 183.127 L134.825 191.599 Q135.843 191.252 136.862 191.089 Q137.88 190.904 138.899 190.904 Q144.686 190.904 148.066 194.076 Q151.445 197.247 151.445 202.663 Q151.445 208.242 147.973 211.344 Q144.501 214.423 138.181 214.423 Q136.005 214.423 133.737 214.052 Q131.492 213.682 129.084 212.941 L129.084 208.242 Q131.168 209.376 133.39 209.932 Q135.612 210.488 138.089 210.488 Q142.093 210.488 144.431 208.381 Q146.769 206.275 146.769 202.663 Q146.769 199.052 144.431 196.946 Q142.093 194.839 138.089 194.839 Q136.214 194.839 134.339 195.256 Q132.487 195.673 130.543 196.552 L130.543 179.191 Z\" fill=\"#000000\" fill-rule=\"evenodd\" fill-opacity=\"1\" /><path clip-path=\"url(#clip900)\" d=\"M 0 0 M166.515 182.27 Q162.903 182.27 161.075 185.835 Q159.269 189.377 159.269 196.506 Q159.269 203.613 161.075 207.177 Q162.903 210.719 166.515 210.719 Q170.149 210.719 171.954 207.177 Q173.783 203.613 173.783 196.506 Q173.783 189.377 171.954 185.835 Q170.149 182.27 166.515 182.27 M166.515 178.566 Q172.325 178.566 175.38 183.173 Q178.459 187.756 178.459 196.506 Q178.459 205.233 175.38 209.839 Q172.325 214.423 166.515 214.423 Q160.704 214.423 157.626 209.839 Q154.57 205.233 154.57 196.506 Q154.57 187.756 157.626 183.173 Q160.704 178.566 166.515 178.566 Z\" fill=\"#000000\" fill-rule=\"evenodd\" fill-opacity=\"1\" /><path clip-path=\"url(#clip900)\" d=\"M 0 0 M193.528 182.27 Q189.917 182.27 188.089 185.835 Q186.283 189.377 186.283 196.506 Q186.283 203.613 188.089 207.177 Q189.917 210.719 193.528 210.719 Q197.163 210.719 198.968 207.177 Q200.797 203.613 200.797 196.506 Q200.797 189.377 198.968 185.835 Q197.163 182.27 193.528 182.27 M193.528 178.566 Q199.338 178.566 202.394 183.173 Q205.473 187.756 205.473 196.506 Q205.473 205.233 202.394 209.839 Q199.338 214.423 193.528 214.423 Q187.718 214.423 184.639 209.839 Q181.584 205.233 181.584 196.506 Q181.584 187.756 184.639 183.173 Q187.718 178.566 193.528 178.566 Z\" fill=\"#000000\" fill-rule=\"evenodd\" fill-opacity=\"1\" /><path clip-path=\"url(#clip900)\" d=\"M 0 0 M709.425 20.1573 L698.325 50.2555 L720.565 50.2555 L709.425 20.1573 M704.807 12.096 L714.083 12.096 L737.133 72.576 L728.626 72.576 L723.117 57.061 L695.854 57.061 L690.345 72.576 L681.717 72.576 L704.807 12.096 Z\" fill=\"#000000\" fill-rule=\"evenodd\" fill-opacity=\"1\" /><path clip-path=\"url(#clip900)\" d=\"M 0 0 M753.458 18.8205 L753.458 41.5461 L763.747 41.5461 Q769.459 41.5461 772.578 38.5889 Q775.698 35.6318 775.698 30.163 Q775.698 24.7348 772.578 21.7777 Q769.459 18.8205 763.747 18.8205 L753.458 18.8205 M745.275 12.096 L763.747 12.096 Q773.915 12.096 779.1 16.714 Q784.326 21.2916 784.326 30.163 Q784.326 39.1155 779.1 43.6931 Q773.915 48.2706 763.747 48.2706 L753.458 48.2706 L753.458 72.576 L745.275 72.576 L745.275 12.096 Z\" fill=\"#000000\" fill-rule=\"evenodd\" fill-opacity=\"1\" /><path clip-path=\"url(#clip900)\" d=\"M 0 0 M792.468 12.096 L800.651 12.096 L800.651 65.6895 L830.101 65.6895 L830.101 72.576 L792.468 72.576 L792.468 12.096 Z\" fill=\"#000000\" fill-rule=\"evenodd\" fill-opacity=\"1\" /><path clip-path=\"url(#clip900)\" d=\"M 0 0 M833.18 12.096 L841.403 12.096 L841.403 48.8377 Q841.403 58.5599 844.927 62.8538 Q848.452 67.1073 856.351 67.1073 Q864.21 67.1073 867.734 62.8538 Q871.258 58.5599 871.258 48.8377 L871.258 12.096 L879.482 12.096 L879.482 49.8504 Q879.482 61.6791 873.608 67.7149 Q867.775 73.7508 856.351 73.7508 Q844.887 73.7508 839.013 67.7149 Q833.18 61.6791 833.18 49.8504 L833.18 12.096 Z\" fill=\"#000000\" fill-rule=\"evenodd\" fill-opacity=\"1\" /><path clip-path=\"url(#clip900)\" d=\"M 0 0 M908.608 12.096 L916.872 12.096 L929.591 63.2184 L942.271 12.096 L951.466 12.096 L964.186 63.2184 L976.865 12.096 L985.17 12.096 L969.979 72.576 L959.69 72.576 L946.929 20.0763 L934.047 72.576 L923.758 72.576 L908.608 12.096 Z\" fill=\"#000000\" fill-rule=\"evenodd\" fill-opacity=\"1\" /><path clip-path=\"url(#clip900)\" d=\"M 0 0 M1026.93 48.0275 L1026.93 51.6733 L992.664 51.6733 Q993.15 59.3701 997.282 63.421 Q1001.45 67.4314 1008.87 67.4314 Q1013.16 67.4314 1017.17 66.3781 Q1021.22 65.3249 1025.19 63.2184 L1025.19 70.267 Q1021.18 71.9684 1016.97 72.8596 Q1012.76 73.7508 1008.42 73.7508 Q997.566 73.7508 991.206 67.4314 Q984.886 61.1119 984.886 50.3365 Q984.886 39.1965 990.882 32.6746 Q996.917 26.1121 1007.13 26.1121 Q1016.28 26.1121 1021.59 32.0264 Q1026.93 37.9003 1026.93 48.0275 M1019.48 45.84 Q1019.4 39.7232 1016.04 36.0774 Q1012.72 32.4315 1007.21 32.4315 Q1000.97 32.4315 997.201 35.9558 Q993.474 39.4801 992.907 45.8805 L1019.48 45.84 Z\" fill=\"#000000\" fill-rule=\"evenodd\" fill-opacity=\"1\" /><path clip-path=\"url(#clip900)\" d=\"M 0 0 M1063.68 28.5427 L1063.68 35.5912 Q1060.52 33.9709 1057.11 33.1607 Q1053.71 32.3505 1050.07 32.3505 Q1044.52 32.3505 1041.72 34.0519 Q1038.97 35.7533 1038.97 39.156 Q1038.97 41.7486 1040.95 43.2475 Q1042.94 44.7058 1048.93 46.0426 L1051.48 46.6097 Q1059.42 48.3111 1062.74 51.4303 Q1066.11 54.509 1066.11 60.0587 Q1066.11 66.3781 1061.08 70.0644 Q1056.1 73.7508 1047.35 73.7508 Q1043.71 73.7508 1039.74 73.0216 Q1035.81 72.3329 1031.43 70.9151 L1031.43 63.2184 Q1035.56 65.3654 1039.57 66.4591 Q1043.58 67.5124 1047.51 67.5124 Q1052.78 67.5124 1055.61 65.73 Q1058.45 63.9071 1058.45 60.6258 Q1058.45 57.5877 1056.38 55.9673 Q1054.36 54.3469 1047.43 52.8481 L1044.84 52.2405 Q1037.91 50.7821 1034.83 47.7845 Q1031.76 44.7463 1031.76 39.4801 Q1031.76 33.0797 1036.29 29.5959 Q1040.83 26.1121 1049.17 26.1121 Q1053.31 26.1121 1056.95 26.7198 Q1060.6 27.3274 1063.68 28.5427 Z\" fill=\"#000000\" fill-rule=\"evenodd\" fill-opacity=\"1\" /><path clip-path=\"url(#clip900)\" d=\"M 0 0 M1081.3 14.324 L1081.3 27.2059 L1096.65 27.2059 L1096.65 32.9987 L1081.3 32.9987 L1081.3 57.6282 Q1081.3 63.1779 1082.8 64.7578 Q1084.34 66.3376 1088.99 66.3376 L1096.65 66.3376 L1096.65 72.576 L1088.99 72.576 Q1080.37 72.576 1077.08 69.3758 Q1073.8 66.1351 1073.8 57.6282 L1073.8 32.9987 L1068.33 32.9987 L1068.33 27.2059 L1073.8 27.2059 L1073.8 14.324 L1081.3 14.324 Z\" fill=\"#000000\" fill-rule=\"evenodd\" fill-opacity=\"1\" /><path clip-path=\"url(#clip900)\" d=\"M 0 0 M1143.28 48.0275 L1143.28 51.6733 L1109.01 51.6733 Q1109.49 59.3701 1113.62 63.421 Q1117.8 67.4314 1125.21 67.4314 Q1129.5 67.4314 1133.51 66.3781 Q1137.56 65.3249 1141.53 63.2184 L1141.53 70.267 Q1137.52 71.9684 1133.31 72.8596 Q1129.1 73.7508 1124.76 73.7508 Q1113.91 73.7508 1107.55 67.4314 Q1101.23 61.1119 1101.23 50.3365 Q1101.23 39.1965 1107.22 32.6746 Q1113.26 26.1121 1123.47 26.1121 Q1132.62 26.1121 1137.93 32.0264 Q1143.28 37.9003 1143.28 48.0275 M1135.82 45.84 Q1135.74 39.7232 1132.38 36.0774 Q1129.06 32.4315 1123.55 32.4315 Q1117.31 32.4315 1113.54 35.9558 Q1109.82 39.4801 1109.25 45.8805 L1135.82 45.84 Z\" fill=\"#000000\" fill-rule=\"evenodd\" fill-opacity=\"1\" /><path clip-path=\"url(#clip900)\" d=\"M 0 0 M1177.39 34.1734 Q1176.13 33.4443 1174.63 33.1202 Q1173.17 32.7556 1171.39 32.7556 Q1165.07 32.7556 1161.67 36.8875 Q1158.31 40.9789 1158.31 48.6757 L1158.31 72.576 L1150.81 72.576 L1150.81 27.2059 L1158.31 27.2059 L1158.31 34.2544 Q1160.65 30.1225 1164.42 28.1376 Q1168.19 26.1121 1173.58 26.1121 Q1174.35 26.1121 1175.28 26.2337 Q1176.21 26.3147 1177.34 26.5172 L1177.39 34.1734 Z\" fill=\"#000000\" fill-rule=\"evenodd\" fill-opacity=\"1\" /><path clip-path=\"url(#clip900)\" d=\"M 0 0 M1221.46 45.1919 L1221.46 72.576 L1214.01 72.576 L1214.01 45.4349 Q1214.01 38.994 1211.49 35.7938 Q1208.98 32.5936 1203.96 32.5936 Q1197.92 32.5936 1194.44 36.4419 Q1190.96 40.2903 1190.96 46.9338 L1190.96 72.576 L1183.46 72.576 L1183.46 27.2059 L1190.96 27.2059 L1190.96 34.2544 Q1193.63 30.163 1197.23 28.1376 Q1200.88 26.1121 1205.62 26.1121 Q1213.44 26.1121 1217.45 30.9732 Q1221.46 35.7938 1221.46 45.1919 Z\" fill=\"#000000\" fill-rule=\"evenodd\" fill-opacity=\"1\" /><path clip-path=\"url(#clip900)\" d=\"M 0 0 M1301.26 16.7545 L1301.26 25.383 Q1297.13 21.5346 1292.43 19.6307 Q1287.77 17.7268 1282.51 17.7268 Q1272.14 17.7268 1266.63 24.0867 Q1261.12 30.4061 1261.12 42.3968 Q1261.12 54.3469 1266.63 60.7069 Q1272.14 67.0263 1282.51 67.0263 Q1287.77 67.0263 1292.43 65.1223 Q1297.13 63.2184 1301.26 59.3701 L1301.26 67.9175 Q1296.97 70.8341 1292.15 72.2924 Q1287.37 73.7508 1282.02 73.7508 Q1268.29 73.7508 1260.39 65.3654 Q1252.49 56.9395 1252.49 42.3968 Q1252.49 27.8135 1260.39 19.4281 Q1268.29 11.0023 1282.02 11.0023 Q1287.45 11.0023 1292.23 12.4606 Q1297.05 13.8784 1301.26 16.7545 Z\" fill=\"#000000\" fill-rule=\"evenodd\" fill-opacity=\"1\" /><path clip-path=\"url(#clip900)\" d=\"M 0 0 M1309.08 9.54393 L1316.53 9.54393 L1316.53 72.576 L1309.08 72.576 L1309.08 9.54393 Z\" fill=\"#000000\" fill-rule=\"evenodd\" fill-opacity=\"1\" /><path clip-path=\"url(#clip900)\" d=\"M 0 0 M1323.58 54.671 L1323.58 27.2059 L1331.04 27.2059 L1331.04 54.3874 Q1331.04 60.8284 1333.55 64.0691 Q1336.06 67.2693 1341.08 67.2693 Q1347.12 67.2693 1350.6 63.421 Q1354.13 59.5726 1354.13 52.9291 L1354.13 27.2059 L1361.58 27.2059 L1361.58 72.576 L1354.13 72.576 L1354.13 65.6084 Q1351.41 69.7404 1347.81 71.7658 Q1344.24 73.7508 1339.5 73.7508 Q1331.68 73.7508 1327.63 68.8897 Q1323.58 64.0286 1323.58 54.671 M1342.34 26.1121 L1342.34 26.1121 Z\" fill=\"#000000\" fill-rule=\"evenodd\" fill-opacity=\"1\" /><path clip-path=\"url(#clip900)\" d=\"M 0 0 M1398.32 28.5427 L1398.32 35.5912 Q1395.16 33.9709 1391.76 33.1607 Q1388.36 32.3505 1384.71 32.3505 Q1379.16 32.3505 1376.37 34.0519 Q1373.61 35.7533 1373.61 39.156 Q1373.61 41.7486 1375.6 43.2475 Q1377.58 44.7058 1383.58 46.0426 L1386.13 46.6097 Q1394.07 48.3111 1397.39 51.4303 Q1400.75 54.509 1400.75 60.0587 Q1400.75 66.3781 1395.73 70.0644 Q1390.75 73.7508 1382 73.7508 Q1378.35 73.7508 1374.38 73.0216 Q1370.45 72.3329 1366.08 70.9151 L1366.08 63.2184 Q1370.21 65.3654 1374.22 66.4591 Q1378.23 67.5124 1382.16 67.5124 Q1387.42 67.5124 1390.26 65.73 Q1393.1 63.9071 1393.1 60.6258 Q1393.1 57.5877 1391.03 55.9673 Q1389 54.3469 1382.08 52.8481 L1379.48 52.2405 Q1372.56 50.7821 1369.48 47.7845 Q1366.4 44.7463 1366.4 39.4801 Q1366.4 33.0797 1370.94 29.5959 Q1375.47 26.1121 1383.82 26.1121 Q1387.95 26.1121 1391.6 26.7198 Q1395.24 27.3274 1398.32 28.5427 Z\" fill=\"#000000\" fill-rule=\"evenodd\" fill-opacity=\"1\" /><path clip-path=\"url(#clip900)\" d=\"M 0 0 M1415.94 14.324 L1415.94 27.2059 L1431.3 27.2059 L1431.3 32.9987 L1415.94 32.9987 L1415.94 57.6282 Q1415.94 63.1779 1417.44 64.7578 Q1418.98 66.3376 1423.64 66.3376 L1431.3 66.3376 L1431.3 72.576 L1423.64 72.576 Q1415.01 72.576 1411.73 69.3758 Q1408.45 66.1351 1408.45 57.6282 L1408.45 32.9987 L1402.98 32.9987 L1402.98 27.2059 L1408.45 27.2059 L1408.45 14.324 L1415.94 14.324 Z\" fill=\"#000000\" fill-rule=\"evenodd\" fill-opacity=\"1\" /><path clip-path=\"url(#clip900)\" d=\"M 0 0 M1477.92 48.0275 L1477.92 51.6733 L1443.65 51.6733 Q1444.14 59.3701 1448.27 63.421 Q1452.44 67.4314 1459.85 67.4314 Q1464.15 67.4314 1468.16 66.3781 Q1472.21 65.3249 1476.18 63.2184 L1476.18 70.267 Q1472.17 71.9684 1467.96 72.8596 Q1463.74 73.7508 1459.41 73.7508 Q1448.55 73.7508 1442.19 67.4314 Q1435.87 61.1119 1435.87 50.3365 Q1435.87 39.1965 1441.87 32.6746 Q1447.9 26.1121 1458.11 26.1121 Q1467.27 26.1121 1472.57 32.0264 Q1477.92 37.9003 1477.92 48.0275 M1470.47 45.84 Q1470.39 39.7232 1467.02 36.0774 Q1463.7 32.4315 1458.19 32.4315 Q1451.96 32.4315 1448.19 35.9558 Q1444.46 39.4801 1443.89 45.8805 L1470.47 45.84 Z\" fill=\"#000000\" fill-rule=\"evenodd\" fill-opacity=\"1\" /><path clip-path=\"url(#clip900)\" d=\"M 0 0 M1512.03 34.1734 Q1510.77 33.4443 1509.28 33.1202 Q1507.82 32.7556 1506.04 32.7556 Q1499.72 32.7556 1496.31 36.8875 Q1492.95 40.9789 1492.95 48.6757 L1492.95 72.576 L1485.46 72.576 L1485.46 27.2059 L1492.95 27.2059 L1492.95 34.2544 Q1495.3 30.1225 1499.07 28.1376 Q1502.83 26.1121 1508.22 26.1121 Q1508.99 26.1121 1509.92 26.2337 Q1510.86 26.3147 1511.99 26.5172 L1512.03 34.1734 Z\" fill=\"#000000\" fill-rule=\"evenodd\" fill-opacity=\"1\" /><path clip-path=\"url(#clip900)\" d=\"M 0 0 M1553.43 65.7705 L1553.43 89.8329 L1545.94 89.8329 L1545.94 27.2059 L1553.43 27.2059 L1553.43 34.0924 Q1555.78 30.0415 1559.34 28.0971 Q1562.95 26.1121 1567.93 26.1121 Q1576.2 26.1121 1581.34 32.6746 Q1586.53 39.2371 1586.53 49.9314 Q1586.53 60.6258 1581.34 67.1883 Q1576.2 73.7508 1567.93 73.7508 Q1562.95 73.7508 1559.34 71.8063 Q1555.78 69.8214 1553.43 65.7705 M1578.79 49.9314 Q1578.79 41.7081 1575.39 37.0496 Q1572.02 32.3505 1566.11 32.3505 Q1560.2 32.3505 1556.79 37.0496 Q1553.43 41.7081 1553.43 49.9314 Q1553.43 58.1548 1556.79 62.8538 Q1560.2 67.5124 1566.11 67.5124 Q1572.02 67.5124 1575.39 62.8538 Q1578.79 58.1548 1578.79 49.9314 Z\" fill=\"#000000\" fill-rule=\"evenodd\" fill-opacity=\"1\" /><path clip-path=\"url(#clip900)\" d=\"M 0 0 M1620.64 34.1734 Q1619.38 33.4443 1617.88 33.1202 Q1616.42 32.7556 1614.64 32.7556 Q1608.32 32.7556 1604.92 36.8875 Q1601.56 40.9789 1601.56 48.6757 L1601.56 72.576 L1594.06 72.576 L1594.06 27.2059 L1601.56 27.2059 L1601.56 34.2544 Q1603.9 30.1225 1607.67 28.1376 Q1611.44 26.1121 1616.83 26.1121 Q1617.6 26.1121 1618.53 26.2337 Q1619.46 26.3147 1620.59 26.5172 L1620.64 34.1734 Z\" fill=\"#000000\" fill-rule=\"evenodd\" fill-opacity=\"1\" /><path clip-path=\"url(#clip900)\" d=\"M 0 0 M1644.21 32.4315 Q1638.22 32.4315 1634.73 37.1306 Q1631.25 41.7891 1631.25 49.9314 Q1631.25 58.0738 1634.69 62.7728 Q1638.18 67.4314 1644.21 67.4314 Q1650.17 67.4314 1653.65 62.7323 Q1657.13 58.0333 1657.13 49.9314 Q1657.13 41.8701 1653.65 37.1711 Q1650.17 32.4315 1644.21 32.4315 M1644.21 26.1121 Q1653.93 26.1121 1659.48 32.4315 Q1665.03 38.7509 1665.03 49.9314 Q1665.03 61.0714 1659.48 67.4314 Q1653.93 73.7508 1644.21 73.7508 Q1634.45 73.7508 1628.9 67.4314 Q1623.39 61.0714 1623.39 49.9314 Q1623.39 38.7509 1628.9 32.4315 Q1634.45 26.1121 1644.21 26.1121 Z\" fill=\"#000000\" fill-rule=\"evenodd\" fill-opacity=\"1\" /><path clip-path=\"url(#clip900)\" d=\"M 0 0 M1702.71 49.3643 Q1702.71 41.2625 1699.34 36.8065 Q1696.02 32.3505 1689.99 32.3505 Q1683.99 32.3505 1680.63 36.8065 Q1677.31 41.2625 1677.31 49.3643 Q1677.31 57.4256 1680.63 61.8816 Q1683.99 66.3376 1689.99 66.3376 Q1696.02 66.3376 1699.34 61.8816 Q1702.71 57.4256 1702.71 49.3643 M1710.16 66.9452 Q1710.16 78.5308 1705.02 84.1616 Q1699.87 89.8329 1689.26 89.8329 Q1685.33 89.8329 1681.84 89.2252 Q1678.36 88.6581 1675.08 87.4428 L1675.08 80.1917 Q1678.36 81.9741 1681.56 82.8248 Q1684.76 83.6755 1688.08 83.6755 Q1695.41 83.6755 1699.06 79.8271 Q1702.71 76.0193 1702.71 68.282 L1702.71 64.5957 Q1700.4 68.6061 1696.79 70.5911 Q1693.19 72.576 1688.16 72.576 Q1679.82 72.576 1674.71 66.2161 Q1669.61 59.8562 1669.61 49.3643 Q1669.61 38.832 1674.71 32.472 Q1679.82 26.1121 1688.16 26.1121 Q1693.19 26.1121 1696.79 28.0971 Q1700.4 30.082 1702.71 34.0924 L1702.71 27.2059 L1710.16 27.2059 L1710.16 66.9452 Z\" fill=\"#000000\" fill-rule=\"evenodd\" fill-opacity=\"1\" /><path clip-path=\"url(#clip900)\" d=\"M 0 0 M1744.27 34.1734 Q1743.01 33.4443 1741.51 33.1202 Q1740.06 32.7556 1738.27 32.7556 Q1731.95 32.7556 1728.55 36.8875 Q1725.19 40.9789 1725.19 48.6757 L1725.19 72.576 L1717.69 72.576 L1717.69 27.2059 L1725.19 27.2059 L1725.19 34.2544 Q1727.54 30.1225 1731.31 28.1376 Q1735.07 26.1121 1740.46 26.1121 Q1741.23 26.1121 1742.16 26.2337 Q1743.09 26.3147 1744.23 26.5172 L1744.27 34.1734 Z\" fill=\"#000000\" fill-rule=\"evenodd\" fill-opacity=\"1\" /><path clip-path=\"url(#clip900)\" d=\"M 0 0 M1772.71 49.7694 Q1763.67 49.7694 1760.19 51.8354 Q1756.7 53.9013 1756.7 58.8839 Q1756.7 62.8538 1759.3 65.2034 Q1761.93 67.5124 1766.43 67.5124 Q1772.63 67.5124 1776.35 63.1374 Q1780.12 58.7219 1780.12 51.4303 L1780.12 49.7694 L1772.71 49.7694 M1787.57 46.6907 L1787.57 72.576 L1780.12 72.576 L1780.12 65.6895 Q1777.57 69.8214 1773.76 71.8063 Q1769.95 73.7508 1764.44 73.7508 Q1757.47 73.7508 1753.34 69.8619 Q1749.25 65.9325 1749.25 59.3701 Q1749.25 51.7138 1754.36 47.825 Q1759.5 43.9361 1769.67 43.9361 L1780.12 43.9361 L1780.12 43.2069 Q1780.12 38.0623 1776.72 35.2672 Q1773.35 32.4315 1767.24 32.4315 Q1763.35 32.4315 1759.66 33.3632 Q1755.98 34.295 1752.57 36.1584 L1752.57 29.2718 Q1756.66 27.692 1760.51 26.9223 Q1764.36 26.1121 1768.01 26.1121 Q1777.85 26.1121 1782.71 31.2163 Q1787.57 36.3204 1787.57 46.6907 Z\" fill=\"#000000\" fill-rule=\"evenodd\" fill-opacity=\"1\" /><path clip-path=\"url(#clip900)\" d=\"M 0 0 M1830.71 35.9153 Q1833.51 30.8922 1837.4 28.5022 Q1841.29 26.1121 1846.55 26.1121 Q1853.64 26.1121 1857.49 31.0947 Q1861.34 36.0368 1861.34 45.1919 L1861.34 72.576 L1853.85 72.576 L1853.85 45.4349 Q1853.85 38.913 1851.54 35.7533 Q1849.23 32.5936 1844.49 32.5936 Q1838.7 32.5936 1835.33 36.4419 Q1831.97 40.2903 1831.97 46.9338 L1831.97 72.576 L1824.48 72.576 L1824.48 45.4349 Q1824.48 38.8725 1822.17 35.7533 Q1819.86 32.5936 1815.04 32.5936 Q1809.33 32.5936 1805.96 36.4824 Q1802.6 40.3308 1802.6 46.9338 L1802.6 72.576 L1795.11 72.576 L1795.11 27.2059 L1802.6 27.2059 L1802.6 34.2544 Q1805.15 30.082 1808.72 28.0971 Q1812.28 26.1121 1817.18 26.1121 Q1822.13 26.1121 1825.57 28.6237 Q1829.05 31.1352 1830.71 35.9153 Z\" fill=\"#000000\" fill-rule=\"evenodd\" fill-opacity=\"1\" /><path clip-path=\"url(#clip900)\" d=\"M 0 0 M1898.08 28.5427 L1898.08 35.5912 Q1894.92 33.9709 1891.52 33.1607 Q1888.12 32.3505 1884.47 32.3505 Q1878.92 32.3505 1876.13 34.0519 Q1873.37 35.7533 1873.37 39.156 Q1873.37 41.7486 1875.36 43.2475 Q1877.34 44.7058 1883.34 46.0426 L1885.89 46.6097 Q1893.83 48.3111 1897.15 51.4303 Q1900.51 54.509 1900.51 60.0587 Q1900.51 66.3781 1895.49 70.0644 Q1890.51 73.7508 1881.76 73.7508 Q1878.11 73.7508 1874.14 73.0216 Q1870.21 72.3329 1865.84 70.9151 L1865.84 63.2184 Q1869.97 65.3654 1873.98 66.4591 Q1877.99 67.5124 1881.92 67.5124 Q1887.18 67.5124 1890.02 65.73 Q1892.86 63.9071 1892.86 60.6258 Q1892.86 57.5877 1890.79 55.9673 Q1888.76 54.3469 1881.84 52.8481 L1879.24 52.2405 Q1872.32 50.7821 1869.24 47.7845 Q1866.16 44.7463 1866.16 39.4801 Q1866.16 33.0797 1870.7 29.5959 Q1875.23 26.1121 1883.58 26.1121 Q1887.71 26.1121 1891.36 26.7198 Q1895 27.3274 1898.08 28.5427 Z\" fill=\"#000000\" fill-rule=\"evenodd\" fill-opacity=\"1\" /><path clip-path=\"url(#clip900)\" d=\"M 0 0 M1157.71 1550.7 L1157.71 1569.6 L1151.82 1569.6 L1151.82 1520.4 L1157.71 1520.4 L1157.71 1525.81 Q1159.55 1522.62 1162.35 1521.1 Q1165.18 1519.54 1169.1 1519.54 Q1175.59 1519.54 1179.63 1524.69 Q1183.71 1529.85 1183.71 1538.25 Q1183.71 1546.65 1179.63 1551.81 Q1175.59 1556.97 1169.1 1556.97 Q1165.18 1556.97 1162.35 1555.44 Q1159.55 1553.88 1157.71 1550.7 M1177.63 1538.25 Q1177.63 1531.79 1174.96 1528.13 Q1172.31 1524.44 1167.67 1524.44 Q1163.02 1524.44 1160.35 1528.13 Q1157.71 1531.79 1157.71 1538.25 Q1157.71 1544.71 1160.35 1548.4 Q1163.02 1552.07 1167.67 1552.07 Q1172.31 1552.07 1174.96 1548.4 Q1177.63 1544.71 1177.63 1538.25 Z\" fill=\"#000000\" fill-rule=\"evenodd\" fill-opacity=\"1\" /><path clip-path=\"url(#clip900)\" d=\"M 0 0 M1210.51 1525.87 Q1209.52 1525.3 1208.34 1525.04 Q1207.2 1524.76 1205.8 1524.76 Q1200.83 1524.76 1198.16 1528 Q1195.52 1531.22 1195.52 1537.27 L1195.52 1556.04 L1189.63 1556.04 L1189.63 1520.4 L1195.52 1520.4 L1195.52 1525.93 Q1197.36 1522.69 1200.32 1521.13 Q1203.28 1519.54 1207.52 1519.54 Q1208.12 1519.54 1208.85 1519.63 Q1209.59 1519.7 1210.48 1519.85 L1210.51 1525.87 Z\" fill=\"#000000\" fill-rule=\"evenodd\" fill-opacity=\"1\" /><path clip-path=\"url(#clip900)\" d=\"M 0 0 M1229.03 1524.5 Q1224.32 1524.5 1221.58 1528.19 Q1218.85 1531.85 1218.85 1538.25 Q1218.85 1544.65 1221.55 1548.34 Q1224.29 1552 1229.03 1552 Q1233.71 1552 1236.45 1548.31 Q1239.19 1544.62 1239.19 1538.25 Q1239.19 1531.92 1236.45 1528.23 Q1233.71 1524.5 1229.03 1524.5 M1229.03 1519.54 Q1236.67 1519.54 1241.03 1524.5 Q1245.39 1529.47 1245.39 1538.25 Q1245.39 1547 1241.03 1552 Q1236.67 1556.97 1229.03 1556.97 Q1221.36 1556.97 1217 1552 Q1212.67 1547 1212.67 1538.25 Q1212.67 1529.47 1217 1524.5 Q1221.36 1519.54 1229.03 1519.54 Z\" fill=\"#000000\" fill-rule=\"evenodd\" fill-opacity=\"1\" /><path clip-path=\"url(#clip900)\" d=\"M 0 0 M1274.99 1537.81 Q1274.99 1531.44 1272.35 1527.94 Q1269.74 1524.44 1265 1524.44 Q1260.29 1524.44 1257.65 1527.94 Q1255.04 1531.44 1255.04 1537.81 Q1255.04 1544.14 1257.65 1547.64 Q1260.29 1551.14 1265 1551.14 Q1269.74 1551.14 1272.35 1547.64 Q1274.99 1544.14 1274.99 1537.81 M1280.85 1551.62 Q1280.85 1560.72 1276.81 1565.15 Q1272.77 1569.6 1264.43 1569.6 Q1261.34 1569.6 1258.6 1569.13 Q1255.86 1568.68 1253.29 1567.72 L1253.29 1562.03 Q1255.86 1563.43 1258.38 1564.1 Q1260.89 1564.76 1263.5 1564.76 Q1269.26 1564.76 1272.13 1561.74 Q1274.99 1558.75 1274.99 1552.67 L1274.99 1549.77 Q1273.18 1552.92 1270.35 1554.48 Q1267.51 1556.04 1263.57 1556.04 Q1257.01 1556.04 1253 1551.05 Q1248.99 1546.05 1248.99 1537.81 Q1248.99 1529.53 1253 1524.53 Q1257.01 1519.54 1263.57 1519.54 Q1267.51 1519.54 1270.35 1521.1 Q1273.18 1522.66 1274.99 1525.81 L1274.99 1520.4 L1280.85 1520.4 L1280.85 1551.62 Z\" fill=\"#000000\" fill-rule=\"evenodd\" fill-opacity=\"1\" /><path clip-path=\"url(#clip900)\" d=\"M 0 0 M1307.65 1525.87 Q1306.66 1525.3 1305.48 1525.04 Q1304.34 1524.76 1302.94 1524.76 Q1297.97 1524.76 1295.3 1528 Q1292.66 1531.22 1292.66 1537.27 L1292.66 1556.04 L1286.77 1556.04 L1286.77 1520.4 L1292.66 1520.4 L1292.66 1525.93 Q1294.5 1522.69 1297.46 1521.13 Q1300.42 1519.54 1304.66 1519.54 Q1305.26 1519.54 1305.99 1519.63 Q1306.73 1519.7 1307.62 1519.85 L1307.65 1525.87 Z\" fill=\"#000000\" fill-rule=\"evenodd\" fill-opacity=\"1\" /><path clip-path=\"url(#clip900)\" d=\"M 0 0 M1329.99 1538.12 Q1322.9 1538.12 1320.16 1539.75 Q1317.42 1541.37 1317.42 1545.29 Q1317.42 1548.4 1319.46 1550.25 Q1321.53 1552.07 1325.06 1552.07 Q1329.93 1552.07 1332.86 1548.63 Q1335.82 1545.16 1335.82 1539.43 L1335.82 1538.12 L1329.99 1538.12 M1341.67 1535.71 L1341.67 1556.04 L1335.82 1556.04 L1335.82 1550.63 Q1333.81 1553.88 1330.82 1555.44 Q1327.83 1556.97 1323.5 1556.97 Q1318.03 1556.97 1314.78 1553.91 Q1311.56 1550.82 1311.56 1545.67 Q1311.56 1539.65 1315.57 1536.6 Q1319.62 1533.54 1327.61 1533.54 L1335.82 1533.54 L1335.82 1532.97 Q1335.82 1528.93 1333.14 1526.73 Q1330.5 1524.5 1325.7 1524.5 Q1322.64 1524.5 1319.74 1525.23 Q1316.85 1525.97 1314.17 1527.43 L1314.17 1522.02 Q1317.39 1520.78 1320.41 1520.17 Q1323.44 1519.54 1326.3 1519.54 Q1334.04 1519.54 1337.85 1523.55 Q1341.67 1527.56 1341.67 1535.71 Z\" fill=\"#000000\" fill-rule=\"evenodd\" fill-opacity=\"1\" /><path clip-path=\"url(#clip900)\" d=\"M 0 0 M1375.57 1527.24 Q1377.77 1523.29 1380.82 1521.41 Q1383.88 1519.54 1388.02 1519.54 Q1393.59 1519.54 1396.61 1523.45 Q1399.63 1527.33 1399.63 1534.53 L1399.63 1556.04 L1393.75 1556.04 L1393.75 1534.72 Q1393.75 1529.59 1391.93 1527.11 Q1390.12 1524.63 1386.39 1524.63 Q1381.84 1524.63 1379.2 1527.65 Q1376.56 1530.68 1376.56 1535.9 L1376.56 1556.04 L1370.67 1556.04 L1370.67 1534.72 Q1370.67 1529.56 1368.86 1527.11 Q1367.04 1524.63 1363.25 1524.63 Q1358.77 1524.63 1356.12 1527.68 Q1353.48 1530.71 1353.48 1535.9 L1353.48 1556.04 L1347.59 1556.04 L1347.59 1520.4 L1353.48 1520.4 L1353.48 1525.93 Q1355.49 1522.66 1358.29 1521.1 Q1361.09 1519.54 1364.94 1519.54 Q1368.82 1519.54 1371.53 1521.51 Q1374.27 1523.48 1375.57 1527.24 Z\" fill=\"#000000\" fill-rule=\"evenodd\" fill-opacity=\"1\" /><path clip-path=\"url(#clip900)\" d=\"M 0 0 M1428.5 1521.45 L1428.5 1526.98 Q1426.02 1525.71 1423.35 1525.07 Q1420.67 1524.44 1417.81 1524.44 Q1413.45 1524.44 1411.25 1525.77 Q1409.09 1527.11 1409.09 1529.79 Q1409.09 1531.82 1410.65 1533 Q1412.21 1534.15 1416.92 1535.2 L1418.92 1535.64 Q1425.16 1536.98 1427.77 1539.43 Q1430.41 1541.85 1430.41 1546.21 Q1430.41 1551.17 1426.47 1554.07 Q1422.55 1556.97 1415.68 1556.97 Q1412.81 1556.97 1409.69 1556.39 Q1406.6 1555.85 1403.17 1554.74 L1403.17 1548.69 Q1406.41 1550.38 1409.56 1551.24 Q1412.72 1552.07 1415.8 1552.07 Q1419.94 1552.07 1422.17 1550.66 Q1424.4 1549.23 1424.4 1546.65 Q1424.4 1544.27 1422.77 1542.99 Q1421.18 1541.72 1415.74 1540.54 L1413.7 1540.07 Q1408.26 1538.92 1405.84 1536.56 Q1403.42 1534.18 1403.42 1530.04 Q1403.42 1525.01 1406.99 1522.27 Q1410.55 1519.54 1417.11 1519.54 Q1420.35 1519.54 1423.22 1520.01 Q1426.08 1520.49 1428.5 1521.45 Z\" fill=\"#000000\" fill-rule=\"evenodd\" fill-opacity=\"1\" /><path clip-path=\"url(#clip900)\" d=\"M 0 0 M53.7248 1049.74 L59.1993 1049.74 Q57.8307 1052.22 57.1623 1054.74 Q56.4621 1057.22 56.4621 1059.77 Q56.4621 1065.46 60.0905 1068.62 Q63.6872 1071.77 70.212 1071.77 Q76.7369 1071.77 80.3653 1068.62 Q83.9619 1065.46 83.9619 1059.77 Q83.9619 1057.22 83.2935 1054.74 Q82.5933 1052.22 81.2247 1049.74 L86.6355 1049.74 Q87.7814 1052.19 88.3543 1054.83 Q88.9272 1057.44 88.9272 1060.4 Q88.9272 1068.46 83.8664 1073.2 Q78.8057 1077.94 70.212 1077.94 Q61.491 1077.94 56.4939 1073.17 Q51.4968 1068.36 51.4968 1060.02 Q51.4968 1057.32 52.0697 1054.74 Q52.6108 1052.16 53.7248 1049.74 Z\" fill=\"#000000\" fill-rule=\"evenodd\" fill-opacity=\"1\" /><path clip-path=\"url(#clip900)\" d=\"M 0 0 M73.9359 1044.2 L52.3562 1044.2 L52.3562 1038.35 L73.7131 1038.35 Q78.7739 1038.35 81.3202 1036.37 Q83.8346 1034.4 83.8346 1030.45 Q83.8346 1025.71 80.8109 1022.97 Q77.7872 1020.2 72.5673 1020.2 L52.3562 1020.2 L52.3562 1014.35 L88.0042 1014.35 L88.0042 1020.2 L82.5296 1020.2 Q85.7762 1022.34 87.3676 1025.17 Q88.9272 1027.97 88.9272 1031.69 Q88.9272 1037.84 85.1078 1041.02 Q81.2883 1044.2 73.9359 1044.2 M51.4968 1029.47 L51.4968 1029.47 Z\" fill=\"#000000\" fill-rule=\"evenodd\" fill-opacity=\"1\" /><path clip-path=\"url(#clip900)\" d=\"M 0 0 M57.8307 987.548 Q57.2578 988.535 57.0032 989.712 Q56.7167 990.858 56.7167 992.259 Q56.7167 997.224 59.9632 999.897 Q63.1779 1002.54 69.2253 1002.54 L88.0042 1002.54 L88.0042 1008.43 L52.3562 1008.43 L52.3562 1002.54 L57.8944 1002.54 Q54.6479 1000.69 53.0883 997.733 Q51.4968 994.773 51.4968 990.54 Q51.4968 989.935 51.5923 989.203 Q51.656 988.471 51.8151 987.58 L57.8307 987.548 Z\" fill=\"#000000\" fill-rule=\"evenodd\" fill-opacity=\"1\" /><path clip-path=\"url(#clip900)\" d=\"M 0 0 M57.8307 961.894 Q57.2578 962.881 57.0032 964.058 Q56.7167 965.204 56.7167 966.605 Q56.7167 971.57 59.9632 974.244 Q63.1779 976.885 69.2253 976.885 L88.0042 976.885 L88.0042 982.774 L52.3562 982.774 L52.3562 976.885 L57.8944 976.885 Q54.6479 975.039 53.0883 972.079 Q51.4968 969.119 51.4968 964.886 Q51.4968 964.281 51.5923 963.549 Q51.656 962.817 51.8151 961.926 L57.8307 961.894 Z\" fill=\"#000000\" fill-rule=\"evenodd\" fill-opacity=\"1\" /><path clip-path=\"url(#clip900)\" d=\"M 0 0 M52.3562 955.751 L52.3562 949.895 L88.0042 949.895 L88.0042 955.751 L52.3562 955.751 M38.479 955.751 L38.479 949.895 L45.895 949.895 L45.895 955.751 L38.479 955.751 Z\" fill=\"#000000\" fill-rule=\"evenodd\" fill-opacity=\"1\" /><path clip-path=\"url(#clip900)\" d=\"M 0 0 M53.7248 918.098 L59.1993 918.098 Q57.8307 920.581 57.1623 923.095 Q56.4621 925.578 56.4621 928.124 Q56.4621 933.821 60.0905 936.972 Q63.6872 940.123 70.212 940.123 Q76.7369 940.123 80.3653 936.972 Q83.9619 933.821 83.9619 928.124 Q83.9619 925.578 83.2935 923.095 Q82.5933 920.581 81.2247 918.098 L86.6355 918.098 Q87.7814 920.549 88.3543 923.191 Q88.9272 925.801 88.9272 928.761 Q88.9272 936.813 83.8664 941.556 Q78.8057 946.298 70.212 946.298 Q61.491 946.298 56.4939 941.524 Q51.4968 936.718 51.4968 928.379 Q51.4968 925.673 52.0697 923.095 Q52.6108 920.517 53.7248 918.098 Z\" fill=\"#000000\" fill-rule=\"evenodd\" fill-opacity=\"1\" /><path clip-path=\"url(#clip900)\" d=\"M 0 0 M73.9359 912.56 L52.3562 912.56 L52.3562 906.703 L73.7131 906.703 Q78.7739 906.703 81.3202 904.73 Q83.8346 902.757 83.8346 898.81 Q83.8346 894.068 80.8109 891.33 Q77.7872 888.561 72.5673 888.561 L52.3562 888.561 L52.3562 882.705 L88.0042 882.705 L88.0042 888.561 L82.5296 888.561 Q85.7762 890.694 87.3676 893.526 Q88.9272 896.327 88.9272 900.051 Q88.9272 906.194 85.1078 909.377 Q81.2883 912.56 73.9359 912.56 M51.4968 897.823 L51.4968 897.823 Z\" fill=\"#000000\" fill-rule=\"evenodd\" fill-opacity=\"1\" /><path clip-path=\"url(#clip900)\" d=\"M 0 0 M38.479 876.562 L38.479 870.705 L88.0042 870.705 L88.0042 876.562 L38.479 876.562 Z\" fill=\"#000000\" fill-rule=\"evenodd\" fill-opacity=\"1\" /><path clip-path=\"url(#clip900)\" d=\"M 0 0 M70.0847 848.362 Q70.0847 855.46 71.7079 858.197 Q73.3312 860.934 77.2461 860.934 Q80.3653 860.934 82.2114 858.897 Q84.0256 856.828 84.0256 853.295 Q84.0256 848.425 80.5881 845.497 Q77.1188 842.537 71.3897 842.537 L70.0847 842.537 L70.0847 848.362 M67.6657 836.681 L88.0042 836.681 L88.0042 842.537 L82.5933 842.537 Q85.8398 844.542 87.3994 847.534 Q88.9272 850.526 88.9272 854.855 Q88.9272 860.329 85.8716 863.576 Q82.7843 866.79 77.6281 866.79 Q71.6125 866.79 68.5569 862.78 Q65.5014 858.738 65.5014 850.749 L65.5014 842.537 L64.9285 842.537 Q60.8862 842.537 58.6901 845.211 Q56.4621 847.852 56.4621 852.659 Q56.4621 855.714 57.1941 858.611 Q57.9262 861.507 59.3903 864.181 L53.9795 864.181 Q52.7381 860.966 52.1334 857.942 Q51.4968 854.918 51.4968 852.054 Q51.4968 844.32 55.5072 840.5 Q59.5176 836.681 67.6657 836.681 Z\" fill=\"#000000\" fill-rule=\"evenodd\" fill-opacity=\"1\" /><path clip-path=\"url(#clip900)\" d=\"M 0 0 M57.8307 809.881 Q57.2578 810.868 57.0032 812.045 Q56.7167 813.191 56.7167 814.592 Q56.7167 819.557 59.9632 822.231 Q63.1779 824.872 69.2253 824.872 L88.0042 824.872 L88.0042 830.761 L52.3562 830.761 L52.3562 824.872 L57.8944 824.872 Q54.6479 823.026 53.0883 820.066 Q51.4968 817.106 51.4968 812.873 Q51.4968 812.268 51.5923 811.536 Q51.656 810.804 51.8151 809.913 L57.8307 809.881 Z\" fill=\"#000000\" fill-rule=\"evenodd\" fill-opacity=\"1\" /><path clip-path=\"url(#clip900)\" d=\"M 0 0 M53.7248 757.364 L59.1993 757.364 Q57.8307 759.847 57.1623 762.361 Q56.4621 764.844 56.4621 767.39 Q56.4621 773.087 60.0905 776.238 Q63.6872 779.389 70.212 779.389 Q76.7369 779.389 80.3653 776.238 Q83.9619 773.087 83.9619 767.39 Q83.9619 764.844 83.2935 762.361 Q82.5933 759.847 81.2247 757.364 L86.6355 757.364 Q87.7814 759.815 88.3543 762.457 Q88.9272 765.066 88.9272 768.027 Q88.9272 776.079 83.8664 780.822 Q78.8057 785.564 70.212 785.564 Q61.491 785.564 56.4939 780.79 Q51.4968 775.984 51.4968 767.645 Q51.4968 764.939 52.0697 762.361 Q52.6108 759.783 53.7248 757.364 Z\" fill=\"#000000\" fill-rule=\"evenodd\" fill-opacity=\"1\" /><path clip-path=\"url(#clip900)\" d=\"M 0 0 M56.4621 737.407 Q56.4621 742.118 60.1542 744.855 Q63.8145 747.593 70.212 747.593 Q76.6095 747.593 80.3017 744.887 Q83.9619 742.15 83.9619 737.407 Q83.9619 732.729 80.2698 729.991 Q76.5777 727.254 70.212 727.254 Q63.8781 727.254 60.186 729.991 Q56.4621 732.729 56.4621 737.407 M51.4968 737.407 Q51.4968 729.769 56.4621 725.408 Q61.4273 721.048 70.212 721.048 Q78.9649 721.048 83.9619 725.408 Q88.9272 729.769 88.9272 737.407 Q88.9272 745.078 83.9619 749.439 Q78.9649 753.767 70.212 753.767 Q61.4273 753.767 56.4621 749.439 Q51.4968 745.078 51.4968 737.407 Z\" fill=\"#000000\" fill-rule=\"evenodd\" fill-opacity=\"1\" /><path clip-path=\"url(#clip900)\" d=\"M 0 0 M59.1993 687.15 Q55.2526 684.954 53.3747 681.899 Q51.4968 678.843 51.4968 674.705 Q51.4968 669.135 55.4117 666.112 Q59.2948 663.088 66.4881 663.088 L88.0042 663.088 L88.0042 668.976 L66.679 668.976 Q61.5546 668.976 59.072 670.79 Q56.5894 672.605 56.5894 676.329 Q56.5894 680.88 59.6131 683.522 Q62.6368 686.164 67.8567 686.164 L88.0042 686.164 L88.0042 692.052 L66.679 692.052 Q61.5228 692.052 59.072 693.866 Q56.5894 695.68 56.5894 699.468 Q56.5894 703.956 59.6449 706.597 Q62.6686 709.239 67.8567 709.239 L88.0042 709.239 L88.0042 715.128 L52.3562 715.128 L52.3562 709.239 L57.8944 709.239 Q54.616 707.234 53.0564 704.433 Q51.4968 701.632 51.4968 697.781 Q51.4968 693.898 53.4702 691.192 Q55.4436 688.455 59.1993 687.15 Z\" fill=\"#000000\" fill-rule=\"evenodd\" fill-opacity=\"1\" /><path clip-path=\"url(#clip900)\" d=\"M 0 0 M82.657 651.279 L101.563 651.279 L101.563 657.168 L52.3562 657.168 L52.3562 651.279 L57.7671 651.279 Q54.5842 649.433 53.0564 646.633 Q51.4968 643.8 51.4968 639.885 Q51.4968 633.392 56.6531 629.35 Q61.8093 625.276 70.212 625.276 Q78.6147 625.276 83.771 629.35 Q88.9272 633.392 88.9272 639.885 Q88.9272 643.8 87.3994 646.633 Q85.8398 649.433 82.657 651.279 M70.212 631.355 Q63.7508 631.355 60.0905 634.028 Q56.3984 636.67 56.3984 641.317 Q56.3984 645.964 60.0905 648.638 Q63.7508 651.279 70.212 651.279 Q76.6732 651.279 80.3653 648.638 Q84.0256 645.964 84.0256 641.317 Q84.0256 636.67 80.3653 634.028 Q76.6732 631.355 70.212 631.355 Z\" fill=\"#000000\" fill-rule=\"evenodd\" fill-opacity=\"1\" /><path clip-path=\"url(#clip900)\" d=\"M 0 0 M38.479 619.133 L38.479 613.276 L88.0042 613.276 L88.0042 619.133 L38.479 619.133 Z\" fill=\"#000000\" fill-rule=\"evenodd\" fill-opacity=\"1\" /><path clip-path=\"url(#clip900)\" d=\"M 0 0 M68.7161 576.642 L71.5806 576.642 L71.5806 603.569 Q77.6281 603.187 80.8109 599.94 Q83.9619 596.662 83.9619 590.837 Q83.9619 587.463 83.1344 584.312 Q82.3069 581.129 80.6518 578.01 L86.1899 578.01 Q87.5267 581.161 88.227 584.471 Q88.9272 587.782 88.9272 591.187 Q88.9272 599.717 83.9619 604.714 Q78.9967 609.68 70.5303 609.68 Q61.7774 609.68 56.6531 604.969 Q51.4968 600.227 51.4968 592.206 Q51.4968 585.012 56.1438 580.843 Q60.7589 576.642 68.7161 576.642 M66.9973 582.498 Q62.1912 582.562 59.3266 585.203 Q56.4621 587.813 56.4621 592.142 Q56.4621 597.044 59.2312 600.004 Q62.0002 602.932 67.0292 603.378 L66.9973 582.498 Z\" fill=\"#000000\" fill-rule=\"evenodd\" fill-opacity=\"1\" /><path clip-path=\"url(#clip900)\" d=\"M 0 0 M52.3562 542.012 L69.7028 554.903 L88.0042 541.344 L88.0042 548.251 L73.9996 558.627 L88.0042 569.003 L88.0042 575.91 L69.3526 562.064 L52.3562 574.732 L52.3562 567.825 L65.0558 558.372 L52.3562 548.919 L52.3562 542.012 Z\" fill=\"#000000\" fill-rule=\"evenodd\" fill-opacity=\"1\" /><path clip-path=\"url(#clip900)\" d=\"M 0 0 M52.3562 535.201 L52.3562 529.344 L88.0042 529.344 L88.0042 535.201 L52.3562 535.201 M38.479 535.201 L38.479 529.344 L45.895 529.344 L45.895 535.201 L38.479 535.201 Z\" fill=\"#000000\" fill-rule=\"evenodd\" fill-opacity=\"1\" /><path clip-path=\"url(#clip900)\" d=\"M 0 0 M42.2347 517.409 L52.3562 517.409 L52.3562 505.346 L56.9077 505.346 L56.9077 517.409 L76.2594 517.409 Q80.6199 517.409 81.8613 516.231 Q83.1026 515.022 83.1026 511.361 L83.1026 505.346 L88.0042 505.346 L88.0042 511.361 Q88.0042 518.141 85.4897 520.719 Q82.9434 523.297 76.2594 523.297 L56.9077 523.297 L56.9077 527.594 L52.3562 527.594 L52.3562 523.297 L42.2347 523.297 L42.2347 517.409 Z\" fill=\"#000000\" fill-rule=\"evenodd\" fill-opacity=\"1\" /><path clip-path=\"url(#clip900)\" d=\"M 0 0 M91.3143 484.371 Q97.68 486.853 99.6216 489.209 Q101.563 491.564 101.563 495.511 L101.563 500.189 L96.6615 500.189 L96.6615 496.752 Q96.6615 494.333 95.5157 492.996 Q94.3699 491.659 90.1048 490.036 L87.4312 488.986 L52.3562 503.404 L52.3562 497.198 L80.238 486.058 L52.3562 474.918 L52.3562 468.711 L91.3143 484.371 Z\" fill=\"#000000\" fill-rule=\"evenodd\" fill-opacity=\"1\" /><path clip-path=\"url(#clip902)\" d=\"\n",
       "M449.813 1114.78 L289.566 1114.78 L610.061 1114.78 L449.813 1114.78 L449.813 997.73 L449.813 1114.78  Z\n",
       "  \" fill=\"#1874cd\" fill-rule=\"evenodd\" fill-opacity=\"0.7\"/>\n",
       "<polyline clip-path=\"url(#clip902)\" style=\"stroke:#000000; stroke-width:4; stroke-opacity:0.7; fill:none\" points=\"\n",
       "  449.813,1114.78 289.566,1114.78 610.061,1114.78 449.813,1114.78 449.813,997.73 449.813,1114.78 \n",
       "  \"/>\n",
       "<path clip-path=\"url(#clip902)\" d=\"\n",
       "M289.566 997.73 L289.566 923.36 L610.061 923.36 L610.061 997.73 L289.566 997.73 L289.566 997.73  Z\n",
       "  \" fill=\"#1874cd\" fill-rule=\"evenodd\" fill-opacity=\"0.7\"/>\n",
       "<polyline clip-path=\"url(#clip902)\" style=\"stroke:#000000; stroke-width:4; stroke-opacity:0.7; fill:none\" points=\"\n",
       "  289.566,997.73 289.566,923.36 610.061,923.36 610.061,997.73 289.566,997.73 \n",
       "  \"/>\n",
       "<path clip-path=\"url(#clip902)\" d=\"\n",
       "M289.566 809.541 L289.566 923.36 L610.061 923.36 L610.061 809.541 L289.566 809.541 L289.566 809.541  Z\n",
       "  \" fill=\"#1874cd\" fill-rule=\"evenodd\" fill-opacity=\"0.7\"/>\n",
       "<polyline clip-path=\"url(#clip902)\" style=\"stroke:#000000; stroke-width:4; stroke-opacity:0.7; fill:none\" points=\"\n",
       "  289.566,809.541 289.566,923.36 610.061,923.36 610.061,809.541 289.566,809.541 \n",
       "  \"/>\n",
       "<path clip-path=\"url(#clip902)\" d=\"\n",
       "M449.813 711.243 L289.566 711.243 L610.061 711.243 L449.813 711.243 L449.813 809.541 L449.813 711.243  Z\n",
       "  \" fill=\"#1874cd\" fill-rule=\"evenodd\" fill-opacity=\"0.7\"/>\n",
       "<polyline clip-path=\"url(#clip902)\" style=\"stroke:#000000; stroke-width:4; stroke-opacity:0.7; fill:none\" points=\"\n",
       "  449.813,711.243 289.566,711.243 610.061,711.243 449.813,711.243 449.813,809.541 449.813,711.243 \n",
       "  \"/>\n",
       "<circle clip-path=\"url(#clip902)\" cx=\"1010.68\" cy=\"695.722\" r=\"14\" fill=\"#1874cd\" fill-rule=\"evenodd\" fill-opacity=\"0.7\" stroke=\"#000000\" stroke-opacity=\"0.7\" stroke-width=\"3.2\"/>\n",
       "<path clip-path=\"url(#clip902)\" d=\"\n",
       "M1010.68 1306.21 L850.433 1306.21 L1170.93 1306.21 L1010.68 1306.21 L1010.68 1209.85 L1010.68 1306.21  Z\n",
       "  \" fill=\"#1874cd\" fill-rule=\"evenodd\" fill-opacity=\"0.7\"/>\n",
       "<polyline clip-path=\"url(#clip902)\" style=\"stroke:#000000; stroke-width:4; stroke-opacity:0.7; fill:none\" points=\"\n",
       "  1010.68,1306.21 850.433,1306.21 1170.93,1306.21 1010.68,1306.21 1010.68,1209.85 1010.68,1306.21 \n",
       "  \"/>\n",
       "<path clip-path=\"url(#clip902)\" d=\"\n",
       "M850.433 1209.85 L850.433 1113.49 L1170.93 1113.49 L1170.93 1209.85 L850.433 1209.85 L850.433 1209.85  Z\n",
       "  \" fill=\"#1874cd\" fill-rule=\"evenodd\" fill-opacity=\"0.7\"/>\n",
       "<polyline clip-path=\"url(#clip902)\" style=\"stroke:#000000; stroke-width:4; stroke-opacity:0.7; fill:none\" points=\"\n",
       "  850.433,1209.85 850.433,1113.49 1170.93,1113.49 1170.93,1209.85 850.433,1209.85 \n",
       "  \"/>\n",
       "<path clip-path=\"url(#clip902)\" d=\"\n",
       "M850.433 1092.79 L850.433 1113.49 L1170.93 1113.49 L1170.93 1092.79 L850.433 1092.79 L850.433 1092.79  Z\n",
       "  \" fill=\"#1874cd\" fill-rule=\"evenodd\" fill-opacity=\"0.7\"/>\n",
       "<polyline clip-path=\"url(#clip902)\" style=\"stroke:#000000; stroke-width:4; stroke-opacity:0.7; fill:none\" points=\"\n",
       "  850.433,1092.79 850.433,1113.49 1170.93,1113.49 1170.93,1092.79 850.433,1092.79 \n",
       "  \"/>\n",
       "<path clip-path=\"url(#clip902)\" d=\"\n",
       "M1010.68 964.749 L850.433 964.749 L1170.93 964.749 L1010.68 964.749 L1010.68 1092.79 L1010.68 964.749  Z\n",
       "  \" fill=\"#1874cd\" fill-rule=\"evenodd\" fill-opacity=\"0.7\"/>\n",
       "<polyline clip-path=\"url(#clip902)\" style=\"stroke:#000000; stroke-width:4; stroke-opacity:0.7; fill:none\" points=\"\n",
       "  1010.68,964.749 850.433,964.749 1170.93,964.749 1010.68,964.749 1010.68,1092.79 1010.68,964.749 \n",
       "  \"/>\n",
       "<path clip-path=\"url(#clip902)\" d=\"\n",
       "M1571.55 1127.72 L1411.3 1127.72 L1731.8 1127.72 L1571.55 1127.72 L1571.55 828.942 L1571.55 1127.72  Z\n",
       "  \" fill=\"#1874cd\" fill-rule=\"evenodd\" fill-opacity=\"0.7\"/>\n",
       "<polyline clip-path=\"url(#clip902)\" style=\"stroke:#000000; stroke-width:4; stroke-opacity:0.7; fill:none\" points=\"\n",
       "  1571.55,1127.72 1411.3,1127.72 1731.8,1127.72 1571.55,1127.72 1571.55,828.942 1571.55,1127.72 \n",
       "  \"/>\n",
       "<path clip-path=\"url(#clip902)\" d=\"\n",
       "M1411.3 828.942 L1411.3 631.052 L1731.8 631.052 L1731.8 828.942 L1411.3 828.942 L1411.3 828.942  Z\n",
       "  \" fill=\"#1874cd\" fill-rule=\"evenodd\" fill-opacity=\"0.7\"/>\n",
       "<polyline clip-path=\"url(#clip902)\" style=\"stroke:#000000; stroke-width:4; stroke-opacity:0.7; fill:none\" points=\"\n",
       "  1411.3,828.942 1411.3,631.052 1731.8,631.052 1731.8,828.942 1411.3,828.942 \n",
       "  \"/>\n",
       "<path clip-path=\"url(#clip902)\" d=\"\n",
       "M1411.3 455.151 L1411.3 631.052 L1731.8 631.052 L1731.8 455.151 L1411.3 455.151 L1411.3 455.151  Z\n",
       "  \" fill=\"#1874cd\" fill-rule=\"evenodd\" fill-opacity=\"0.7\"/>\n",
       "<polyline clip-path=\"url(#clip902)\" style=\"stroke:#000000; stroke-width:4; stroke-opacity:0.7; fill:none\" points=\"\n",
       "  1411.3,455.151 1411.3,631.052 1731.8,631.052 1731.8,455.151 1411.3,455.151 \n",
       "  \"/>\n",
       "<path clip-path=\"url(#clip902)\" d=\"\n",
       "M1571.55 160.256 L1411.3 160.256 L1731.8 160.256 L1571.55 160.256 L1571.55 455.151 L1571.55 160.256  Z\n",
       "  \" fill=\"#1874cd\" fill-rule=\"evenodd\" fill-opacity=\"0.7\"/>\n",
       "<polyline clip-path=\"url(#clip902)\" style=\"stroke:#000000; stroke-width:4; stroke-opacity:0.7; fill:none\" points=\"\n",
       "  1571.55,160.256 1411.3,160.256 1731.8,160.256 1571.55,160.256 1571.55,455.151 1571.55,160.256 \n",
       "  \"/>\n",
       "<path clip-path=\"url(#clip902)\" d=\"\n",
       "M2132.42 1386.4 L1972.17 1386.4 L2292.66 1386.4 L2132.42 1386.4 L2132.42 1308.79 L2132.42 1386.4  Z\n",
       "  \" fill=\"#1874cd\" fill-rule=\"evenodd\" fill-opacity=\"0.7\"/>\n",
       "<polyline clip-path=\"url(#clip902)\" style=\"stroke:#000000; stroke-width:4; stroke-opacity:0.7; fill:none\" points=\"\n",
       "  2132.42,1386.4 1972.17,1386.4 2292.66,1386.4 2132.42,1386.4 2132.42,1308.79 2132.42,1386.4 \n",
       "  \"/>\n",
       "<path clip-path=\"url(#clip902)\" d=\"\n",
       "M1972.17 1308.79 L1972.17 1295.86 L2292.66 1295.86 L2292.66 1308.79 L1972.17 1308.79 L1972.17 1308.79  Z\n",
       "  \" fill=\"#1874cd\" fill-rule=\"evenodd\" fill-opacity=\"0.7\"/>\n",
       "<polyline clip-path=\"url(#clip902)\" style=\"stroke:#000000; stroke-width:4; stroke-opacity:0.7; fill:none\" points=\"\n",
       "  1972.17,1308.79 1972.17,1295.86 2292.66,1295.86 2292.66,1308.79 1972.17,1308.79 \n",
       "  \"/>\n",
       "<path clip-path=\"url(#clip902)\" d=\"\n",
       "M1972.17 1257.06 L1972.17 1295.86 L2292.66 1295.86 L2292.66 1257.06 L1972.17 1257.06 L1972.17 1257.06  Z\n",
       "  \" fill=\"#1874cd\" fill-rule=\"evenodd\" fill-opacity=\"0.7\"/>\n",
       "<polyline clip-path=\"url(#clip902)\" style=\"stroke:#000000; stroke-width:4; stroke-opacity:0.7; fill:none\" points=\"\n",
       "  1972.17,1257.06 1972.17,1295.86 2292.66,1295.86 2292.66,1257.06 1972.17,1257.06 \n",
       "  \"/>\n",
       "<path clip-path=\"url(#clip902)\" d=\"\n",
       "M2132.42 1194.97 L1972.17 1194.97 L2292.66 1194.97 L2132.42 1194.97 L2132.42 1257.06 L2132.42 1194.97  Z\n",
       "  \" fill=\"#1874cd\" fill-rule=\"evenodd\" fill-opacity=\"0.7\"/>\n",
       "<polyline clip-path=\"url(#clip902)\" style=\"stroke:#000000; stroke-width:4; stroke-opacity:0.7; fill:none\" points=\"\n",
       "  2132.42,1194.97 1972.17,1194.97 2292.66,1194.97 2132.42,1194.97 2132.42,1257.06 2132.42,1194.97 \n",
       "  \"/>\n",
       "</svg>\n"
      ]
     },
     "execution_count": 8,
     "metadata": {},
     "output_type": "execute_result"
    }
   ],
   "source": [
    "metric_boxplot([\"Music Education\" \"Animal Science\" \"Mechanical Eng.\" \"Psychology\"], [program_types[\"music-education\"], \n",
    "      program_types[\"animal-science\"], program_types[\"mechanical-engineering\"], program_types[\"psychology\"]], \n",
    "      \"complexity\", title=\"APLU Western Cluster programs\", xlabel=\"programs\", ylabel=\"curricular complexity\")"
   ]
  },
  {
   "cell_type": "markdown",
   "metadata": {},
   "source": [
    "The smallest mean and variance occur in the psychology programs, where the average curricular complexity is 77 units, and the standard deviation is only 2.11.  All but one of the psychology programs have a curricular complexity of less than 100 units.  The largest mean and variance occur in the mechanical engineering programs.  The average complexity for mechanical engineering programs is 319 units, with a variance of 7.13.  Music education programs as a whole have curricula that are more complex than animal science programs.  Music education programs appear closer in curricular complexity to mechanical engineering programs than they do to psychology programs."
   ]
  },
  {
   "cell_type": "markdown",
   "metadata": {},
   "source": [
    "Below are two animal science programs that differ significantly in terms of curricular complexity.  It would be interesting to compare the learning outcomes and student success rates of these two programs."
   ]
  },
  {
   "cell_type": "code",
   "execution_count": 8,
   "metadata": {},
   "outputs": [
    {
     "data": {
      "application/vnd.webio.node+json": {
       "children": [
        {
         "children": [
          ""
         ],
         "instanceArgs": {
          "namespace": "html",
          "tag": "iframe"
         },
         "nodeType": "DOM",
         "props": {
          "events": {
           "load": "(function (){this.contentWindow.postMessage({\"options\":{\"hideTerms\":false,\"edit\":false},\"curriculum\":{\"name\":\"Animal Science\",\"dp_name\":\"4-Year Plan\",\"curriculum_terms\":[{\"name\":\"Term 1\",\"curriculum_items\":[{\"curriculum_requisites\":[],\"name\":\" \",\"metrics\":{\"complexity\":6.0,\"centrality\":0,\"blocking factor\":3,\"delay factor\":3.0},\"nameSub\":\"ENG 101\",\"id\":1,\"credits\":3,\"nameCanonical\":\"\"},{\"curriculum_requisites\":[],\"name\":\" \",\"metrics\":{\"complexity\":30.0,\"centrality\":0,\"blocking factor\":22,\"delay factor\":8.0},\"nameSub\":\"MATH 126\",\"id\":2,\"credits\":3,\"nameCanonical\":\"\"},{\"curriculum_requisites\":[],\"name\":\" \",\"metrics\":{\"complexity\":8.0,\"centrality\":0,\"blocking factor\":5,\"delay factor\":3.0},\"nameSub\":\"AGSC 100\",\"id\":3,\"credits\":3,\"nameCanonical\":\"\"},{\"curriculum_requisites\":[{\"source_id\":2,\"target_id\":4,\"type\":\"CurriculumCorequisite\"}],\"name\":\" \",\"metrics\":{\"complexity\":2.0,\"centrality\":0,\"blocking factor\":0,\"delay factor\":2.0},\"nameSub\":\"ECON 102\",\"id\":4,\"credits\":3,\"nameCanonical\":\"\"},{\"curriculum_requisites\":[],\"name\":\" \",\"metrics\":{\"complexity\":1.0,\"centrality\":0,\"blocking factor\":0,\"delay factor\":1.0},\"nameSub\":\"Fine Arts\",\"id\":5,\"credits\":3,\"nameCanonical\":\"\"}],\"id\":1},{\"name\":\"Term 2\",\"curriculum_items\":[{\"curriculum_requisites\":[{\"source_id\":7,\"target_id\":6,\"type\":\"CurriculumCorequisite\"},{\"source_id\":9,\"target_id\":6,\"type\":\"CurriculumCorequisite\"},{\"source_id\":2,\"target_id\":6,\"type\":\"CurriculumPrerequisite\"}],\"name\":\" \",\"metrics\":{\"complexity\":25.0,\"centrality\":576,\"blocking factor\":17,\"delay factor\":8.0},\"nameSub\":\"CHEM 121A\",\"id\":6,\"credits\":3,\"nameCanonical\":\"\"},{\"curriculum_requisites\":[{\"source_id\":9,\"target_id\":7,\"type\":\"CurriculumCorequisite\"},{\"source_id\":2,\"target_id\":7,\"type\":\"CurriculumPrerequisite\"}],\"name\":\" \",\"metrics\":{\"complexity\":26.0,\"centrality\":576,\"blocking factor\":18,\"delay factor\":8.0},\"nameSub\":\"CHEM 121L\",\"id\":7,\"credits\":1,\"nameCanonical\":\"\"},{\"curriculum_requisites\":[{\"source_id\":1,\"target_id\":8,\"type\":\"CurriculumPrerequisite\"}],\"name\":\" \",\"metrics\":{\"complexity\":4.0,\"centrality\":3,\"blocking factor\":1,\"delay factor\":3.0},\"nameSub\":\"ENG 102\",\"id\":8,\"credits\":3,\"nameCanonical\":\"\"},{\"curriculum_requisites\":[{\"source_id\":2,\"target_id\":9,\"type\":\"CurriculumPrerequisite\"}],\"name\":\" \",\"metrics\":{\"complexity\":27.0,\"centrality\":502,\"blocking factor\":19,\"delay factor\":8.0},\"nameSub\":\"MATH 127\",\"id\":9,\"credits\":3,\"nameCanonical\":\"\"},{\"curriculum_requisites\":[],\"name\":\" \",\"metrics\":{\"complexity\":1.0,\"centrality\":0,\"blocking factor\":0,\"delay factor\":1.0},\"nameSub\":\"Elective\",\"id\":10,\"credits\":3,\"nameCanonical\":\"\"},{\"curriculum_requisites\":[],\"name\":\" \",\"metrics\":{\"complexity\":1.0,\"centrality\":0,\"blocking factor\":0,\"delay factor\":1.0},\"nameSub\":\"AGSC 211\",\"id\":11,\"credits\":3,\"nameCanonical\":\"\"}],\"id\":2},{\"name\":\"Term 3\",\"curriculum_items\":[{\"curriculum_requisites\":[{\"source_id\":2,\"target_id\":12,\"type\":\"CurriculumPrerequisite\"}],\"name\":\" \",\"metrics\":{\"complexity\":2.0,\"centrality\":0,\"blocking factor\":0,\"delay factor\":2.0},\"nameSub\":\"APST 207\",\"id\":12,\"credits\":3,\"nameCanonical\":\"\"},{\"curriculum_requisites\":[{\"source_id\":7,\"target_id\":13,\"type\":\"CurriculumPrerequisite\"},{\"source_id\":6,\"target_id\":13,\"type\":\"CurriculumPrerequisite\"}],\"name\":\" \",\"metrics\":{\"complexity\":17.0,\"centrality\":379,\"blocking factor\":9,\"delay factor\":8.0},\"nameSub\":\"BIOL 190\",\"id\":13,\"credits\":3,\"nameCanonical\":\"\"},{\"curriculum_requisites\":[{\"source_id\":7,\"target_id\":14,\"type\":\"CurriculumPrerequisite\"},{\"source_id\":9,\"target_id\":14,\"type\":\"CurriculumPrerequisite\"},{\"source_id\":15,\"target_id\":14,\"type\":\"CurriculumCorequisite\"},{\"source_id\":6,\"target_id\":14,\"type\":\"CurriculumPrerequisite\"}],\"name\":\" \",\"metrics\":{\"complexity\":12.0,\"centrality\":247,\"blocking factor\":4,\"delay factor\":8.0},\"nameSub\":\"CHEM 122A\",\"id\":14,\"credits\":3,\"nameCanonical\":\"\"},{\"curriculum_requisites\":[{\"source_id\":7,\"target_id\":15,\"type\":\"CurriculumPrerequisite\"},{\"source_id\":9,\"target_id\":15,\"type\":\"CurriculumPrerequisite\"},{\"source_id\":6,\"target_id\":15,\"type\":\"CurriculumPrerequisite\"}],\"name\":\" \",\"metrics\":{\"complexity\":13.0,\"centrality\":247,\"blocking factor\":5,\"delay factor\":8.0},\"nameSub\":\"CHEM 122L\",\"id\":15,\"credits\":1,\"nameCanonical\":\"\"},{\"curriculum_requisites\":[{\"source_id\":1,\"target_id\":16,\"type\":\"CurriculumPrerequisite\"}],\"name\":\" \",\"metrics\":{\"complexity\":4.0,\"centrality\":3,\"blocking factor\":1,\"delay factor\":3.0},\"nameSub\":\"CH 201\",\"id\":16,\"credits\":3,\"nameCanonical\":\"\"},{\"curriculum_requisites\":[],\"name\":\" \",\"metrics\":{\"complexity\":1.0,\"centrality\":0,\"blocking factor\":0,\"delay factor\":1.0},\"nameSub\":\"CH 203\",\"id\":17,\"credits\":3,\"nameCanonical\":\"\"}],\"id\":3},{\"name\":\"Term 4\",\"curriculum_items\":[{\"curriculum_requisites\":[{\"source_id\":7,\"target_id\":18,\"type\":\"CurriculumPrerequisite\"},{\"source_id\":14,\"target_id\":18,\"type\":\"CurriculumPrerequisite\"},{\"source_id\":3,\"target_id\":18,\"type\":\"CurriculumPrerequisite\"},{\"source_id\":15,\"target_id\":18,\"type\":\"CurriculumPrerequisite\"},{\"source_id\":6,\"target_id\":18,\"type\":\"CurriculumPrerequisite\"}],\"name\":\" \",\"metrics\":{\"complexity\":10.0,\"centrality\":318,\"blocking factor\":2,\"delay factor\":8.0},\"nameSub\":\"AGSC 206\",\"id\":18,\"credits\":3,\"nameCanonical\":\"\"},{\"curriculum_requisites\":[{\"source_id\":13,\"target_id\":19,\"type\":\"CurriculumPrerequisite\"}],\"name\":\" \",\"metrics\":{\"complexity\":15.0,\"centrality\":222,\"blocking factor\":7,\"delay factor\":8.0},\"nameSub\":\"BIOL 191\",\"id\":19,\"credits\":3,\"nameCanonical\":\"\"},{\"curriculum_requisites\":[{\"source_id\":13,\"target_id\":20,\"type\":\"CurriculumPrerequisite\"},{\"source_id\":19,\"target_id\":20,\"type\":\"CurriculumCorequisite\"}],\"name\":\" \",\"metrics\":{\"complexity\":7.0,\"centrality\":0,\"blocking factor\":0,\"delay factor\":7.0},\"nameSub\":\"BIOL 192\",\"id\":20,\"credits\":2,\"nameCanonical\":\"\"},{\"curriculum_requisites\":[{\"source_id\":3,\"target_id\":21,\"type\":\"CurriculumPrerequisite\"}],\"name\":\" \",\"metrics\":{\"complexity\":2.0,\"centrality\":0,\"blocking factor\":0,\"delay factor\":2.0},\"nameSub\":\"NRES 241\",\"id\":21,\"credits\":3,\"nameCanonical\":\"\"},{\"curriculum_requisites\":[{\"source_id\":13,\"target_id\":22,\"type\":\"CurriculumPrerequisite\"},{\"source_id\":14,\"target_id\":22,\"type\":\"CurriculumPrerequisite\"},{\"source_id\":19,\"target_id\":22,\"type\":\"CurriculumCorequisite\"},{\"source_id\":15,\"target_id\":22,\"type\":\"CurriculumPrerequisite\"}],\"name\":\" \",\"metrics\":{\"complexity\":7.0,\"centrality\":0,\"blocking factor\":0,\"delay factor\":7.0},\"nameSub\":\"AGSC 211\",\"id\":22,\"credits\":3,\"nameCanonical\":\"\"}],\"id\":4},{\"name\":\"Term 5\",\"curriculum_items\":[{\"curriculum_requisites\":[],\"name\":\" \",\"metrics\":{\"complexity\":1.0,\"centrality\":0,\"blocking factor\":0,\"delay factor\":1.0},\"nameSub\":\"AGSC 250\",\"id\":23,\"credits\":3,\"nameCanonical\":\"\"},{\"curriculum_requisites\":[],\"name\":\" \",\"metrics\":{\"complexity\":1.0,\"centrality\":0,\"blocking factor\":0,\"delay factor\":1.0},\"nameSub\":\"AGSC 416\",\"id\":24,\"credits\":3,\"nameCanonical\":\"\"},{\"curriculum_requisites\":[],\"name\":\" \",\"metrics\":{\"complexity\":1.0,\"centrality\":0,\"blocking factor\":0,\"delay factor\":1.0},\"nameSub\":\"NUTR 325\",\"id\":25,\"credits\":3,\"nameCanonical\":\"\"},{\"curriculum_requisites\":[{\"source_id\":7,\"target_id\":26,\"type\":\"CurriculumPrerequisite\"},{\"source_id\":6,\"target_id\":26,\"type\":\"CurriculumPrerequisite\"}],\"name\":\" \",\"metrics\":{\"complexity\":9.0,\"centrality\":87,\"blocking factor\":3,\"delay factor\":6.0},\"nameSub\":\"CHEM 220A\",\"id\":26,\"credits\":3,\"nameCanonical\":\"\"},{\"curriculum_requisites\":[{\"source_id\":26,\"target_id\":27,\"type\":\"CurriculumCorequisite\"}],\"name\":\" \",\"metrics\":{\"complexity\":6.0,\"centrality\":0,\"blocking factor\":0,\"delay factor\":6.0},\"nameSub\":\"CHEM 220L\",\"id\":27,\"credits\":1,\"nameCanonical\":\"\"},{\"curriculum_requisites\":[],\"name\":\" \",\"metrics\":{\"complexity\":1.0,\"centrality\":0,\"blocking factor\":0,\"delay factor\":1.0},\"nameSub\":\"Elective\",\"id\":28,\"credits\":3,\"nameCanonical\":\"\"}],\"id\":5},{\"name\":\"Term 6\",\"curriculum_items\":[{\"curriculum_requisites\":[{\"source_id\":19,\"target_id\":29,\"type\":\"CurriculumPrerequisite\"}],\"name\":\" \",\"metrics\":{\"complexity\":7.0,\"centrality\":0,\"blocking factor\":0,\"delay factor\":7.0},\"nameSub\":\"AGSC 325\",\"id\":29,\"credits\":3,\"nameCanonical\":\"\"},{\"curriculum_requisites\":[{\"source_id\":3,\"target_id\":30,\"type\":\"CurriculumPrerequisite\"},{\"source_id\":18,\"target_id\":30,\"type\":\"CurriculumPrerequisite\"}],\"name\":\" \",\"metrics\":{\"complexity\":8.0,\"centrality\":0,\"blocking factor\":0,\"delay factor\":8.0},\"nameSub\":\"AGSC 425\",\"id\":30,\"credits\":4,\"nameCanonical\":\"\"},{\"curriculum_requisites\":[{\"source_id\":26,\"target_id\":31,\"type\":\"CurriculumPrerequisite\"},{\"source_id\":13,\"target_id\":31,\"type\":\"CurriculumPrerequisite\"}],\"name\":\" \",\"metrics\":{\"complexity\":6.0,\"centrality\":0,\"blocking factor\":0,\"delay factor\":6.0},\"nameSub\":\"BCH 400\",\"id\":31,\"credits\":4,\"nameCanonical\":\"\"},{\"curriculum_requisites\":[{\"source_id\":13,\"target_id\":32,\"type\":\"CurriculumPrerequisite\"},{\"source_id\":19,\"target_id\":32,\"type\":\"CurriculumPrerequisite\"}],\"name\":\" \",\"metrics\":{\"complexity\":10.0,\"centrality\":152,\"blocking factor\":2,\"delay factor\":8.0},\"nameSub\":\"VM 328\",\"id\":32,\"credits\":4,\"nameCanonical\":\"\"}],\"id\":6},{\"name\":\"Term 7\",\"curriculum_items\":[{\"curriculum_requisites\":[{\"source_id\":32,\"target_id\":33,\"type\":\"CurriculumCorequisite\"}],\"name\":\" \",\"metrics\":{\"complexity\":8.0,\"centrality\":0,\"blocking factor\":0,\"delay factor\":8.0},\"nameSub\":\"AGSC 310\",\"id\":33,\"credits\":3,\"nameCanonical\":\"\"},{\"curriculum_requisites\":[{\"source_id\":26,\"target_id\":34,\"type\":\"CurriculumPrerequisite\"},{\"source_id\":18,\"target_id\":34,\"type\":\"CurriculumPrerequisite\"}],\"name\":\" \",\"metrics\":{\"complexity\":8.0,\"centrality\":0,\"blocking factor\":0,\"delay factor\":8.0},\"nameSub\":\"AGSC 406\",\"id\":34,\"credits\":4,\"nameCanonical\":\"\"},{\"curriculum_requisites\":[{\"source_id\":16,\"target_id\":35,\"type\":\"CurriculumPrerequisite\"},{\"source_id\":8,\"target_id\":35,\"type\":\"CurriculumPrerequisite\"}],\"name\":\" \",\"metrics\":{\"complexity\":3.0,\"centrality\":0,\"blocking factor\":0,\"delay factor\":3.0},\"nameSub\":\"AGSC 415\",\"id\":35,\"credits\":3,\"nameCanonical\":\"\"},{\"curriculum_requisites\":[],\"name\":\" \",\"metrics\":{\"complexity\":1.0,\"centrality\":0,\"blocking factor\":0,\"delay factor\":1.0},\"nameSub\":\"Elective\",\"id\":36,\"credits\":6,\"nameCanonical\":\"\"}],\"id\":7},{\"name\":\"Term 8\",\"curriculum_items\":[{\"curriculum_requisites\":[{\"source_id\":32,\"target_id\":37,\"type\":\"CurriculumPrerequisite\"},{\"source_id\":3,\"target_id\":37,\"type\":\"CurriculumPrerequisite\"}],\"name\":\" \",\"metrics\":{\"complexity\":8.0,\"centrality\":0,\"blocking factor\":0,\"delay factor\":8.0},\"nameSub\":\"AGSC 410\",\"id\":37,\"credits\":3,\"nameCanonical\":\"\"},{\"curriculum_requisites\":[{\"source_id\":19,\"target_id\":38,\"type\":\"CurriculumPrerequisite\"}],\"name\":\" \",\"metrics\":{\"complexity\":7.0,\"centrality\":0,\"blocking factor\":0,\"delay factor\":7.0},\"nameSub\":\"VM 475\",\"id\":38,\"credits\":3,\"nameCanonical\":\"\"},{\"curriculum_requisites\":[],\"name\":\" \",\"metrics\":{\"complexity\":1.0,\"centrality\":0,\"blocking factor\":0,\"delay factor\":1.0},\"nameSub\":\"Electives\",\"id\":39,\"credits\":6,\"nameCanonical\":\"\"}],\"id\":8}],\"institution\":\"University of Nevada-Reno\"}},\"*\"); window.removeEventListener(\"message\",window.messageReceived); window.messageReceived=(function (event){return (event.data.curriculum!==undefined) ? (WebIO.setval({\"name\":\"curriculum-data\",\"scope\":\"644089127279214502\",\"id\":\"4812524561297704311\",\"type\":\"observable\"},event.data.curriculum)) : undefined}); return window.addEventListener(\"message\",window.messageReceived)})"
          },
          "id": "curriculum",
          "src": "http://localhost:8156",
          "style": {
           "border": "none",
           "height": "100vh",
           "margin": "0",
           "padding": "0",
           "width": "100%"
          }
         },
         "type": "node"
        }
       ],
       "instanceArgs": {
        "handlers": {},
        "id": "644089127279214502",
        "imports": {
         "data": [],
         "type": "async_block"
        },
        "mount_callbacks": [],
        "observables": {
         "curriculum-data": {
          "id": "4812524561297704311",
          "sync": true,
          "value": {
           "curriculum": {
            "curriculum_terms": [
             {
              "curriculum_items": [
               {
                "credits": 3,
                "curriculum_requisites": [],
                "id": 1,
                "metrics": {
                 "blocking factor": 3,
                 "centrality": 0,
                 "complexity": 6,
                 "delay factor": 3
                },
                "name": " ",
                "nameCanonical": "",
                "nameSub": "ENG 101"
               },
               {
                "credits": 3,
                "curriculum_requisites": [],
                "id": 2,
                "metrics": {
                 "blocking factor": 22,
                 "centrality": 0,
                 "complexity": 30,
                 "delay factor": 8
                },
                "name": " ",
                "nameCanonical": "",
                "nameSub": "MATH 126"
               },
               {
                "credits": 3,
                "curriculum_requisites": [],
                "id": 3,
                "metrics": {
                 "blocking factor": 5,
                 "centrality": 0,
                 "complexity": 8,
                 "delay factor": 3
                },
                "name": " ",
                "nameCanonical": "",
                "nameSub": "AGSC 100"
               },
               {
                "credits": 3,
                "curriculum_requisites": [
                 {
                  "source_id": 2,
                  "target_id": 4,
                  "type": "CurriculumCorequisite"
                 }
                ],
                "id": 4,
                "metrics": {
                 "blocking factor": 0,
                 "centrality": 0,
                 "complexity": 2,
                 "delay factor": 2
                },
                "name": " ",
                "nameCanonical": "",
                "nameSub": "ECON 102"
               },
               {
                "credits": 3,
                "curriculum_requisites": [],
                "id": 5,
                "metrics": {
                 "blocking factor": 0,
                 "centrality": 0,
                 "complexity": 1,
                 "delay factor": 1
                },
                "name": " ",
                "nameCanonical": "",
                "nameSub": "Fine Arts"
               }
              ],
              "id": 1,
              "name": "Term 1"
             },
             {
              "curriculum_items": [
               {
                "credits": 3,
                "curriculum_requisites": [
                 {
                  "source_id": 7,
                  "target_id": 6,
                  "type": "CurriculumCorequisite"
                 },
                 {
                  "source_id": 9,
                  "target_id": 6,
                  "type": "CurriculumCorequisite"
                 },
                 {
                  "source_id": 2,
                  "target_id": 6,
                  "type": "CurriculumPrerequisite"
                 }
                ],
                "id": 6,
                "metrics": {
                 "blocking factor": 17,
                 "centrality": 576,
                 "complexity": 25,
                 "delay factor": 8
                },
                "name": " ",
                "nameCanonical": "",
                "nameSub": "CHEM 121A"
               },
               {
                "credits": 1,
                "curriculum_requisites": [
                 {
                  "source_id": 9,
                  "target_id": 7,
                  "type": "CurriculumCorequisite"
                 },
                 {
                  "source_id": 2,
                  "target_id": 7,
                  "type": "CurriculumPrerequisite"
                 }
                ],
                "id": 7,
                "metrics": {
                 "blocking factor": 18,
                 "centrality": 576,
                 "complexity": 26,
                 "delay factor": 8
                },
                "name": " ",
                "nameCanonical": "",
                "nameSub": "CHEM 121L"
               },
               {
                "credits": 3,
                "curriculum_requisites": [
                 {
                  "source_id": 1,
                  "target_id": 8,
                  "type": "CurriculumPrerequisite"
                 }
                ],
                "id": 8,
                "metrics": {
                 "blocking factor": 1,
                 "centrality": 3,
                 "complexity": 4,
                 "delay factor": 3
                },
                "name": " ",
                "nameCanonical": "",
                "nameSub": "ENG 102"
               },
               {
                "credits": 3,
                "curriculum_requisites": [
                 {
                  "source_id": 2,
                  "target_id": 9,
                  "type": "CurriculumPrerequisite"
                 }
                ],
                "id": 9,
                "metrics": {
                 "blocking factor": 19,
                 "centrality": 502,
                 "complexity": 27,
                 "delay factor": 8
                },
                "name": " ",
                "nameCanonical": "",
                "nameSub": "MATH 127"
               },
               {
                "credits": 3,
                "curriculum_requisites": [],
                "id": 10,
                "metrics": {
                 "blocking factor": 0,
                 "centrality": 0,
                 "complexity": 1,
                 "delay factor": 1
                },
                "name": " ",
                "nameCanonical": "",
                "nameSub": "Elective"
               },
               {
                "credits": 3,
                "curriculum_requisites": [],
                "id": 11,
                "metrics": {
                 "blocking factor": 0,
                 "centrality": 0,
                 "complexity": 1,
                 "delay factor": 1
                },
                "name": " ",
                "nameCanonical": "",
                "nameSub": "AGSC 211"
               }
              ],
              "id": 2,
              "name": "Term 2"
             },
             {
              "curriculum_items": [
               {
                "credits": 3,
                "curriculum_requisites": [
                 {
                  "source_id": 2,
                  "target_id": 12,
                  "type": "CurriculumPrerequisite"
                 }
                ],
                "id": 12,
                "metrics": {
                 "blocking factor": 0,
                 "centrality": 0,
                 "complexity": 2,
                 "delay factor": 2
                },
                "name": " ",
                "nameCanonical": "",
                "nameSub": "APST 207"
               },
               {
                "credits": 3,
                "curriculum_requisites": [
                 {
                  "source_id": 7,
                  "target_id": 13,
                  "type": "CurriculumPrerequisite"
                 },
                 {
                  "source_id": 6,
                  "target_id": 13,
                  "type": "CurriculumPrerequisite"
                 }
                ],
                "id": 13,
                "metrics": {
                 "blocking factor": 9,
                 "centrality": 379,
                 "complexity": 17,
                 "delay factor": 8
                },
                "name": " ",
                "nameCanonical": "",
                "nameSub": "BIOL 190"
               },
               {
                "credits": 3,
                "curriculum_requisites": [
                 {
                  "source_id": 7,
                  "target_id": 14,
                  "type": "CurriculumPrerequisite"
                 },
                 {
                  "source_id": 9,
                  "target_id": 14,
                  "type": "CurriculumPrerequisite"
                 },
                 {
                  "source_id": 15,
                  "target_id": 14,
                  "type": "CurriculumCorequisite"
                 },
                 {
                  "source_id": 6,
                  "target_id": 14,
                  "type": "CurriculumPrerequisite"
                 }
                ],
                "id": 14,
                "metrics": {
                 "blocking factor": 4,
                 "centrality": 247,
                 "complexity": 12,
                 "delay factor": 8
                },
                "name": " ",
                "nameCanonical": "",
                "nameSub": "CHEM 122A"
               },
               {
                "credits": 1,
                "curriculum_requisites": [
                 {
                  "source_id": 7,
                  "target_id": 15,
                  "type": "CurriculumPrerequisite"
                 },
                 {
                  "source_id": 9,
                  "target_id": 15,
                  "type": "CurriculumPrerequisite"
                 },
                 {
                  "source_id": 6,
                  "target_id": 15,
                  "type": "CurriculumPrerequisite"
                 }
                ],
                "id": 15,
                "metrics": {
                 "blocking factor": 5,
                 "centrality": 247,
                 "complexity": 13,
                 "delay factor": 8
                },
                "name": " ",
                "nameCanonical": "",
                "nameSub": "CHEM 122L"
               },
               {
                "credits": 3,
                "curriculum_requisites": [
                 {
                  "source_id": 1,
                  "target_id": 16,
                  "type": "CurriculumPrerequisite"
                 }
                ],
                "id": 16,
                "metrics": {
                 "blocking factor": 1,
                 "centrality": 3,
                 "complexity": 4,
                 "delay factor": 3
                },
                "name": " ",
                "nameCanonical": "",
                "nameSub": "CH 201"
               },
               {
                "credits": 3,
                "curriculum_requisites": [],
                "id": 17,
                "metrics": {
                 "blocking factor": 0,
                 "centrality": 0,
                 "complexity": 1,
                 "delay factor": 1
                },
                "name": " ",
                "nameCanonical": "",
                "nameSub": "CH 203"
               }
              ],
              "id": 3,
              "name": "Term 3"
             },
             {
              "curriculum_items": [
               {
                "credits": 3,
                "curriculum_requisites": [
                 {
                  "source_id": 7,
                  "target_id": 18,
                  "type": "CurriculumPrerequisite"
                 },
                 {
                  "source_id": 14,
                  "target_id": 18,
                  "type": "CurriculumPrerequisite"
                 },
                 {
                  "source_id": 3,
                  "target_id": 18,
                  "type": "CurriculumPrerequisite"
                 },
                 {
                  "source_id": 15,
                  "target_id": 18,
                  "type": "CurriculumPrerequisite"
                 },
                 {
                  "source_id": 6,
                  "target_id": 18,
                  "type": "CurriculumPrerequisite"
                 }
                ],
                "id": 18,
                "metrics": {
                 "blocking factor": 2,
                 "centrality": 318,
                 "complexity": 10,
                 "delay factor": 8
                },
                "name": " ",
                "nameCanonical": "",
                "nameSub": "AGSC 206"
               },
               {
                "credits": 3,
                "curriculum_requisites": [
                 {
                  "source_id": 13,
                  "target_id": 19,
                  "type": "CurriculumPrerequisite"
                 }
                ],
                "id": 19,
                "metrics": {
                 "blocking factor": 7,
                 "centrality": 222,
                 "complexity": 15,
                 "delay factor": 8
                },
                "name": " ",
                "nameCanonical": "",
                "nameSub": "BIOL 191"
               },
               {
                "credits": 2,
                "curriculum_requisites": [
                 {
                  "source_id": 13,
                  "target_id": 20,
                  "type": "CurriculumPrerequisite"
                 },
                 {
                  "source_id": 19,
                  "target_id": 20,
                  "type": "CurriculumCorequisite"
                 }
                ],
                "id": 20,
                "metrics": {
                 "blocking factor": 0,
                 "centrality": 0,
                 "complexity": 7,
                 "delay factor": 7
                },
                "name": " ",
                "nameCanonical": "",
                "nameSub": "BIOL 192"
               },
               {
                "credits": 3,
                "curriculum_requisites": [
                 {
                  "source_id": 3,
                  "target_id": 21,
                  "type": "CurriculumPrerequisite"
                 }
                ],
                "id": 21,
                "metrics": {
                 "blocking factor": 0,
                 "centrality": 0,
                 "complexity": 2,
                 "delay factor": 2
                },
                "name": " ",
                "nameCanonical": "",
                "nameSub": "NRES 241"
               },
               {
                "credits": 3,
                "curriculum_requisites": [
                 {
                  "source_id": 13,
                  "target_id": 22,
                  "type": "CurriculumPrerequisite"
                 },
                 {
                  "source_id": 14,
                  "target_id": 22,
                  "type": "CurriculumPrerequisite"
                 },
                 {
                  "source_id": 19,
                  "target_id": 22,
                  "type": "CurriculumCorequisite"
                 },
                 {
                  "source_id": 15,
                  "target_id": 22,
                  "type": "CurriculumPrerequisite"
                 }
                ],
                "id": 22,
                "metrics": {
                 "blocking factor": 0,
                 "centrality": 0,
                 "complexity": 7,
                 "delay factor": 7
                },
                "name": " ",
                "nameCanonical": "",
                "nameSub": "AGSC 211"
               }
              ],
              "id": 4,
              "name": "Term 4"
             },
             {
              "curriculum_items": [
               {
                "credits": 3,
                "curriculum_requisites": [],
                "id": 23,
                "metrics": {
                 "blocking factor": 0,
                 "centrality": 0,
                 "complexity": 1,
                 "delay factor": 1
                },
                "name": " ",
                "nameCanonical": "",
                "nameSub": "AGSC 250"
               },
               {
                "credits": 3,
                "curriculum_requisites": [],
                "id": 24,
                "metrics": {
                 "blocking factor": 0,
                 "centrality": 0,
                 "complexity": 1,
                 "delay factor": 1
                },
                "name": " ",
                "nameCanonical": "",
                "nameSub": "AGSC 416"
               },
               {
                "credits": 3,
                "curriculum_requisites": [],
                "id": 25,
                "metrics": {
                 "blocking factor": 0,
                 "centrality": 0,
                 "complexity": 1,
                 "delay factor": 1
                },
                "name": " ",
                "nameCanonical": "",
                "nameSub": "NUTR 325"
               },
               {
                "credits": 3,
                "curriculum_requisites": [
                 {
                  "source_id": 7,
                  "target_id": 26,
                  "type": "CurriculumPrerequisite"
                 },
                 {
                  "source_id": 6,
                  "target_id": 26,
                  "type": "CurriculumPrerequisite"
                 }
                ],
                "id": 26,
                "metrics": {
                 "blocking factor": 3,
                 "centrality": 87,
                 "complexity": 9,
                 "delay factor": 6
                },
                "name": " ",
                "nameCanonical": "",
                "nameSub": "CHEM 220A"
               },
               {
                "credits": 1,
                "curriculum_requisites": [
                 {
                  "source_id": 26,
                  "target_id": 27,
                  "type": "CurriculumCorequisite"
                 }
                ],
                "id": 27,
                "metrics": {
                 "blocking factor": 0,
                 "centrality": 0,
                 "complexity": 6,
                 "delay factor": 6
                },
                "name": " ",
                "nameCanonical": "",
                "nameSub": "CHEM 220L"
               },
               {
                "credits": 3,
                "curriculum_requisites": [],
                "id": 28,
                "metrics": {
                 "blocking factor": 0,
                 "centrality": 0,
                 "complexity": 1,
                 "delay factor": 1
                },
                "name": " ",
                "nameCanonical": "",
                "nameSub": "Elective"
               }
              ],
              "id": 5,
              "name": "Term 5"
             },
             {
              "curriculum_items": [
               {
                "credits": 3,
                "curriculum_requisites": [
                 {
                  "source_id": 19,
                  "target_id": 29,
                  "type": "CurriculumPrerequisite"
                 }
                ],
                "id": 29,
                "metrics": {
                 "blocking factor": 0,
                 "centrality": 0,
                 "complexity": 7,
                 "delay factor": 7
                },
                "name": " ",
                "nameCanonical": "",
                "nameSub": "AGSC 325"
               },
               {
                "credits": 4,
                "curriculum_requisites": [
                 {
                  "source_id": 3,
                  "target_id": 30,
                  "type": "CurriculumPrerequisite"
                 },
                 {
                  "source_id": 18,
                  "target_id": 30,
                  "type": "CurriculumPrerequisite"
                 }
                ],
                "id": 30,
                "metrics": {
                 "blocking factor": 0,
                 "centrality": 0,
                 "complexity": 8,
                 "delay factor": 8
                },
                "name": " ",
                "nameCanonical": "",
                "nameSub": "AGSC 425"
               },
               {
                "credits": 4,
                "curriculum_requisites": [
                 {
                  "source_id": 26,
                  "target_id": 31,
                  "type": "CurriculumPrerequisite"
                 },
                 {
                  "source_id": 13,
                  "target_id": 31,
                  "type": "CurriculumPrerequisite"
                 }
                ],
                "id": 31,
                "metrics": {
                 "blocking factor": 0,
                 "centrality": 0,
                 "complexity": 6,
                 "delay factor": 6
                },
                "name": " ",
                "nameCanonical": "",
                "nameSub": "BCH 400"
               },
               {
                "credits": 4,
                "curriculum_requisites": [
                 {
                  "source_id": 13,
                  "target_id": 32,
                  "type": "CurriculumPrerequisite"
                 },
                 {
                  "source_id": 19,
                  "target_id": 32,
                  "type": "CurriculumPrerequisite"
                 }
                ],
                "id": 32,
                "metrics": {
                 "blocking factor": 2,
                 "centrality": 152,
                 "complexity": 10,
                 "delay factor": 8
                },
                "name": " ",
                "nameCanonical": "",
                "nameSub": "VM 328"
               }
              ],
              "id": 6,
              "name": "Term 6"
             },
             {
              "curriculum_items": [
               {
                "credits": 3,
                "curriculum_requisites": [
                 {
                  "source_id": 32,
                  "target_id": 33,
                  "type": "CurriculumCorequisite"
                 }
                ],
                "id": 33,
                "metrics": {
                 "blocking factor": 0,
                 "centrality": 0,
                 "complexity": 8,
                 "delay factor": 8
                },
                "name": " ",
                "nameCanonical": "",
                "nameSub": "AGSC 310"
               },
               {
                "credits": 4,
                "curriculum_requisites": [
                 {
                  "source_id": 26,
                  "target_id": 34,
                  "type": "CurriculumPrerequisite"
                 },
                 {
                  "source_id": 18,
                  "target_id": 34,
                  "type": "CurriculumPrerequisite"
                 }
                ],
                "id": 34,
                "metrics": {
                 "blocking factor": 0,
                 "centrality": 0,
                 "complexity": 8,
                 "delay factor": 8
                },
                "name": " ",
                "nameCanonical": "",
                "nameSub": "AGSC 406"
               },
               {
                "credits": 3,
                "curriculum_requisites": [
                 {
                  "source_id": 16,
                  "target_id": 35,
                  "type": "CurriculumPrerequisite"
                 },
                 {
                  "source_id": 8,
                  "target_id": 35,
                  "type": "CurriculumPrerequisite"
                 }
                ],
                "id": 35,
                "metrics": {
                 "blocking factor": 0,
                 "centrality": 0,
                 "complexity": 3,
                 "delay factor": 3
                },
                "name": " ",
                "nameCanonical": "",
                "nameSub": "AGSC 415"
               },
               {
                "credits": 6,
                "curriculum_requisites": [],
                "id": 36,
                "metrics": {
                 "blocking factor": 0,
                 "centrality": 0,
                 "complexity": 1,
                 "delay factor": 1
                },
                "name": " ",
                "nameCanonical": "",
                "nameSub": "Elective"
               }
              ],
              "id": 7,
              "name": "Term 7"
             },
             {
              "curriculum_items": [
               {
                "credits": 3,
                "curriculum_requisites": [
                 {
                  "source_id": 32,
                  "target_id": 37,
                  "type": "CurriculumPrerequisite"
                 },
                 {
                  "source_id": 3,
                  "target_id": 37,
                  "type": "CurriculumPrerequisite"
                 }
                ],
                "id": 37,
                "metrics": {
                 "blocking factor": 0,
                 "centrality": 0,
                 "complexity": 8,
                 "delay factor": 8
                },
                "name": " ",
                "nameCanonical": "",
                "nameSub": "AGSC 410"
               },
               {
                "credits": 3,
                "curriculum_requisites": [
                 {
                  "source_id": 19,
                  "target_id": 38,
                  "type": "CurriculumPrerequisite"
                 }
                ],
                "id": 38,
                "metrics": {
                 "blocking factor": 0,
                 "centrality": 0,
                 "complexity": 7,
                 "delay factor": 7
                },
                "name": " ",
                "nameCanonical": "",
                "nameSub": "VM 475"
               },
               {
                "credits": 6,
                "curriculum_requisites": [],
                "id": 39,
                "metrics": {
                 "blocking factor": 0,
                 "centrality": 0,
                 "complexity": 1,
                 "delay factor": 1
                },
                "name": " ",
                "nameCanonical": "",
                "nameSub": "Electives"
               }
              ],
              "id": 8,
              "name": "Term 8"
             }
            ],
            "dp_name": "4-Year Plan",
            "institution": "University of Nevada-Reno",
            "name": "Animal Science"
           },
           "options": {
            "edit": false,
            "hideTerms": false
           }
          }
         }
        },
        "systemjs_options": null
       },
       "nodeType": "Scope",
       "props": {},
       "type": "node"
      },
      "text/html": [
       "<div\n",
       "    class=\"webio-mountpoint\"\n",
       "    data-webio-mountpoint=\"5389168124005782549\"\n",
       ">\n",
       "    <script>\n",
       "    if (window.require && require.defined && require.defined(\"nbextensions/webio-jupyter-notebook\")) {\n",
       "        console.log(\"Jupyter WebIO extension detected, not mounting.\");\n",
       "    } else if (window.WebIO) {\n",
       "        WebIO.mount(\n",
       "            document.querySelector('[data-webio-mountpoint=\"5389168124005782549\"]'),\n",
       "            {\"props\":{},\"nodeType\":\"Scope\",\"type\":\"node\",\"instanceArgs\":{\"imports\":{\"data\":[],\"type\":\"async_block\"},\"id\":\"644089127279214502\",\"handlers\":{},\"systemjs_options\":null,\"mount_callbacks\":[],\"observables\":{\"curriculum-data\":{\"sync\":true,\"id\":\"4812524561297704311\",\"value\":{\"options\":{\"hideTerms\":false,\"edit\":false},\"curriculum\":{\"name\":\"Animal Science\",\"dp_name\":\"4-Year Plan\",\"curriculum_terms\":[{\"name\":\"Term 1\",\"curriculum_items\":[{\"curriculum_requisites\":[],\"name\":\" \",\"metrics\":{\"complexity\":6.0,\"centrality\":0,\"blocking factor\":3,\"delay factor\":3.0},\"nameSub\":\"ENG 101\",\"id\":1,\"credits\":3,\"nameCanonical\":\"\"},{\"curriculum_requisites\":[],\"name\":\" \",\"metrics\":{\"complexity\":30.0,\"centrality\":0,\"blocking factor\":22,\"delay factor\":8.0},\"nameSub\":\"MATH 126\",\"id\":2,\"credits\":3,\"nameCanonical\":\"\"},{\"curriculum_requisites\":[],\"name\":\" \",\"metrics\":{\"complexity\":8.0,\"centrality\":0,\"blocking factor\":5,\"delay factor\":3.0},\"nameSub\":\"AGSC 100\",\"id\":3,\"credits\":3,\"nameCanonical\":\"\"},{\"curriculum_requisites\":[{\"source_id\":2,\"target_id\":4,\"type\":\"CurriculumCorequisite\"}],\"name\":\" \",\"metrics\":{\"complexity\":2.0,\"centrality\":0,\"blocking factor\":0,\"delay factor\":2.0},\"nameSub\":\"ECON 102\",\"id\":4,\"credits\":3,\"nameCanonical\":\"\"},{\"curriculum_requisites\":[],\"name\":\" \",\"metrics\":{\"complexity\":1.0,\"centrality\":0,\"blocking factor\":0,\"delay factor\":1.0},\"nameSub\":\"Fine Arts\",\"id\":5,\"credits\":3,\"nameCanonical\":\"\"}],\"id\":1},{\"name\":\"Term 2\",\"curriculum_items\":[{\"curriculum_requisites\":[{\"source_id\":7,\"target_id\":6,\"type\":\"CurriculumCorequisite\"},{\"source_id\":9,\"target_id\":6,\"type\":\"CurriculumCorequisite\"},{\"source_id\":2,\"target_id\":6,\"type\":\"CurriculumPrerequisite\"}],\"name\":\" \",\"metrics\":{\"complexity\":25.0,\"centrality\":576,\"blocking factor\":17,\"delay factor\":8.0},\"nameSub\":\"CHEM 121A\",\"id\":6,\"credits\":3,\"nameCanonical\":\"\"},{\"curriculum_requisites\":[{\"source_id\":9,\"target_id\":7,\"type\":\"CurriculumCorequisite\"},{\"source_id\":2,\"target_id\":7,\"type\":\"CurriculumPrerequisite\"}],\"name\":\" \",\"metrics\":{\"complexity\":26.0,\"centrality\":576,\"blocking factor\":18,\"delay factor\":8.0},\"nameSub\":\"CHEM 121L\",\"id\":7,\"credits\":1,\"nameCanonical\":\"\"},{\"curriculum_requisites\":[{\"source_id\":1,\"target_id\":8,\"type\":\"CurriculumPrerequisite\"}],\"name\":\" \",\"metrics\":{\"complexity\":4.0,\"centrality\":3,\"blocking factor\":1,\"delay factor\":3.0},\"nameSub\":\"ENG 102\",\"id\":8,\"credits\":3,\"nameCanonical\":\"\"},{\"curriculum_requisites\":[{\"source_id\":2,\"target_id\":9,\"type\":\"CurriculumPrerequisite\"}],\"name\":\" \",\"metrics\":{\"complexity\":27.0,\"centrality\":502,\"blocking factor\":19,\"delay factor\":8.0},\"nameSub\":\"MATH 127\",\"id\":9,\"credits\":3,\"nameCanonical\":\"\"},{\"curriculum_requisites\":[],\"name\":\" \",\"metrics\":{\"complexity\":1.0,\"centrality\":0,\"blocking factor\":0,\"delay factor\":1.0},\"nameSub\":\"Elective\",\"id\":10,\"credits\":3,\"nameCanonical\":\"\"},{\"curriculum_requisites\":[],\"name\":\" \",\"metrics\":{\"complexity\":1.0,\"centrality\":0,\"blocking factor\":0,\"delay factor\":1.0},\"nameSub\":\"AGSC 211\",\"id\":11,\"credits\":3,\"nameCanonical\":\"\"}],\"id\":2},{\"name\":\"Term 3\",\"curriculum_items\":[{\"curriculum_requisites\":[{\"source_id\":2,\"target_id\":12,\"type\":\"CurriculumPrerequisite\"}],\"name\":\" \",\"metrics\":{\"complexity\":2.0,\"centrality\":0,\"blocking factor\":0,\"delay factor\":2.0},\"nameSub\":\"APST 207\",\"id\":12,\"credits\":3,\"nameCanonical\":\"\"},{\"curriculum_requisites\":[{\"source_id\":7,\"target_id\":13,\"type\":\"CurriculumPrerequisite\"},{\"source_id\":6,\"target_id\":13,\"type\":\"CurriculumPrerequisite\"}],\"name\":\" \",\"metrics\":{\"complexity\":17.0,\"centrality\":379,\"blocking factor\":9,\"delay factor\":8.0},\"nameSub\":\"BIOL 190\",\"id\":13,\"credits\":3,\"nameCanonical\":\"\"},{\"curriculum_requisites\":[{\"source_id\":7,\"target_id\":14,\"type\":\"CurriculumPrerequisite\"},{\"source_id\":9,\"target_id\":14,\"type\":\"CurriculumPrerequisite\"},{\"source_id\":15,\"target_id\":14,\"type\":\"CurriculumCorequisite\"},{\"source_id\":6,\"target_id\":14,\"type\":\"CurriculumPrerequisite\"}],\"name\":\" \",\"metrics\":{\"complexity\":12.0,\"centrality\":247,\"blocking factor\":4,\"delay factor\":8.0},\"nameSub\":\"CHEM 122A\",\"id\":14,\"credits\":3,\"nameCanonical\":\"\"},{\"curriculum_requisites\":[{\"source_id\":7,\"target_id\":15,\"type\":\"CurriculumPrerequisite\"},{\"source_id\":9,\"target_id\":15,\"type\":\"CurriculumPrerequisite\"},{\"source_id\":6,\"target_id\":15,\"type\":\"CurriculumPrerequisite\"}],\"name\":\" \",\"metrics\":{\"complexity\":13.0,\"centrality\":247,\"blocking factor\":5,\"delay factor\":8.0},\"nameSub\":\"CHEM 122L\",\"id\":15,\"credits\":1,\"nameCanonical\":\"\"},{\"curriculum_requisites\":[{\"source_id\":1,\"target_id\":16,\"type\":\"CurriculumPrerequisite\"}],\"name\":\" \",\"metrics\":{\"complexity\":4.0,\"centrality\":3,\"blocking factor\":1,\"delay factor\":3.0},\"nameSub\":\"CH 201\",\"id\":16,\"credits\":3,\"nameCanonical\":\"\"},{\"curriculum_requisites\":[],\"name\":\" \",\"metrics\":{\"complexity\":1.0,\"centrality\":0,\"blocking factor\":0,\"delay factor\":1.0},\"nameSub\":\"CH 203\",\"id\":17,\"credits\":3,\"nameCanonical\":\"\"}],\"id\":3},{\"name\":\"Term 4\",\"curriculum_items\":[{\"curriculum_requisites\":[{\"source_id\":7,\"target_id\":18,\"type\":\"CurriculumPrerequisite\"},{\"source_id\":14,\"target_id\":18,\"type\":\"CurriculumPrerequisite\"},{\"source_id\":3,\"target_id\":18,\"type\":\"CurriculumPrerequisite\"},{\"source_id\":15,\"target_id\":18,\"type\":\"CurriculumPrerequisite\"},{\"source_id\":6,\"target_id\":18,\"type\":\"CurriculumPrerequisite\"}],\"name\":\" \",\"metrics\":{\"complexity\":10.0,\"centrality\":318,\"blocking factor\":2,\"delay factor\":8.0},\"nameSub\":\"AGSC 206\",\"id\":18,\"credits\":3,\"nameCanonical\":\"\"},{\"curriculum_requisites\":[{\"source_id\":13,\"target_id\":19,\"type\":\"CurriculumPrerequisite\"}],\"name\":\" \",\"metrics\":{\"complexity\":15.0,\"centrality\":222,\"blocking factor\":7,\"delay factor\":8.0},\"nameSub\":\"BIOL 191\",\"id\":19,\"credits\":3,\"nameCanonical\":\"\"},{\"curriculum_requisites\":[{\"source_id\":13,\"target_id\":20,\"type\":\"CurriculumPrerequisite\"},{\"source_id\":19,\"target_id\":20,\"type\":\"CurriculumCorequisite\"}],\"name\":\" \",\"metrics\":{\"complexity\":7.0,\"centrality\":0,\"blocking factor\":0,\"delay factor\":7.0},\"nameSub\":\"BIOL 192\",\"id\":20,\"credits\":2,\"nameCanonical\":\"\"},{\"curriculum_requisites\":[{\"source_id\":3,\"target_id\":21,\"type\":\"CurriculumPrerequisite\"}],\"name\":\" \",\"metrics\":{\"complexity\":2.0,\"centrality\":0,\"blocking factor\":0,\"delay factor\":2.0},\"nameSub\":\"NRES 241\",\"id\":21,\"credits\":3,\"nameCanonical\":\"\"},{\"curriculum_requisites\":[{\"source_id\":13,\"target_id\":22,\"type\":\"CurriculumPrerequisite\"},{\"source_id\":14,\"target_id\":22,\"type\":\"CurriculumPrerequisite\"},{\"source_id\":19,\"target_id\":22,\"type\":\"CurriculumCorequisite\"},{\"source_id\":15,\"target_id\":22,\"type\":\"CurriculumPrerequisite\"}],\"name\":\" \",\"metrics\":{\"complexity\":7.0,\"centrality\":0,\"blocking factor\":0,\"delay factor\":7.0},\"nameSub\":\"AGSC 211\",\"id\":22,\"credits\":3,\"nameCanonical\":\"\"}],\"id\":4},{\"name\":\"Term 5\",\"curriculum_items\":[{\"curriculum_requisites\":[],\"name\":\" \",\"metrics\":{\"complexity\":1.0,\"centrality\":0,\"blocking factor\":0,\"delay factor\":1.0},\"nameSub\":\"AGSC 250\",\"id\":23,\"credits\":3,\"nameCanonical\":\"\"},{\"curriculum_requisites\":[],\"name\":\" \",\"metrics\":{\"complexity\":1.0,\"centrality\":0,\"blocking factor\":0,\"delay factor\":1.0},\"nameSub\":\"AGSC 416\",\"id\":24,\"credits\":3,\"nameCanonical\":\"\"},{\"curriculum_requisites\":[],\"name\":\" \",\"metrics\":{\"complexity\":1.0,\"centrality\":0,\"blocking factor\":0,\"delay factor\":1.0},\"nameSub\":\"NUTR 325\",\"id\":25,\"credits\":3,\"nameCanonical\":\"\"},{\"curriculum_requisites\":[{\"source_id\":7,\"target_id\":26,\"type\":\"CurriculumPrerequisite\"},{\"source_id\":6,\"target_id\":26,\"type\":\"CurriculumPrerequisite\"}],\"name\":\" \",\"metrics\":{\"complexity\":9.0,\"centrality\":87,\"blocking factor\":3,\"delay factor\":6.0},\"nameSub\":\"CHEM 220A\",\"id\":26,\"credits\":3,\"nameCanonical\":\"\"},{\"curriculum_requisites\":[{\"source_id\":26,\"target_id\":27,\"type\":\"CurriculumCorequisite\"}],\"name\":\" \",\"metrics\":{\"complexity\":6.0,\"centrality\":0,\"blocking factor\":0,\"delay factor\":6.0},\"nameSub\":\"CHEM 220L\",\"id\":27,\"credits\":1,\"nameCanonical\":\"\"},{\"curriculum_requisites\":[],\"name\":\" \",\"metrics\":{\"complexity\":1.0,\"centrality\":0,\"blocking factor\":0,\"delay factor\":1.0},\"nameSub\":\"Elective\",\"id\":28,\"credits\":3,\"nameCanonical\":\"\"}],\"id\":5},{\"name\":\"Term 6\",\"curriculum_items\":[{\"curriculum_requisites\":[{\"source_id\":19,\"target_id\":29,\"type\":\"CurriculumPrerequisite\"}],\"name\":\" \",\"metrics\":{\"complexity\":7.0,\"centrality\":0,\"blocking factor\":0,\"delay factor\":7.0},\"nameSub\":\"AGSC 325\",\"id\":29,\"credits\":3,\"nameCanonical\":\"\"},{\"curriculum_requisites\":[{\"source_id\":3,\"target_id\":30,\"type\":\"CurriculumPrerequisite\"},{\"source_id\":18,\"target_id\":30,\"type\":\"CurriculumPrerequisite\"}],\"name\":\" \",\"metrics\":{\"complexity\":8.0,\"centrality\":0,\"blocking factor\":0,\"delay factor\":8.0},\"nameSub\":\"AGSC 425\",\"id\":30,\"credits\":4,\"nameCanonical\":\"\"},{\"curriculum_requisites\":[{\"source_id\":26,\"target_id\":31,\"type\":\"CurriculumPrerequisite\"},{\"source_id\":13,\"target_id\":31,\"type\":\"CurriculumPrerequisite\"}],\"name\":\" \",\"metrics\":{\"complexity\":6.0,\"centrality\":0,\"blocking factor\":0,\"delay factor\":6.0},\"nameSub\":\"BCH 400\",\"id\":31,\"credits\":4,\"nameCanonical\":\"\"},{\"curriculum_requisites\":[{\"source_id\":13,\"target_id\":32,\"type\":\"CurriculumPrerequisite\"},{\"source_id\":19,\"target_id\":32,\"type\":\"CurriculumPrerequisite\"}],\"name\":\" \",\"metrics\":{\"complexity\":10.0,\"centrality\":152,\"blocking factor\":2,\"delay factor\":8.0},\"nameSub\":\"VM 328\",\"id\":32,\"credits\":4,\"nameCanonical\":\"\"}],\"id\":6},{\"name\":\"Term 7\",\"curriculum_items\":[{\"curriculum_requisites\":[{\"source_id\":32,\"target_id\":33,\"type\":\"CurriculumCorequisite\"}],\"name\":\" \",\"metrics\":{\"complexity\":8.0,\"centrality\":0,\"blocking factor\":0,\"delay factor\":8.0},\"nameSub\":\"AGSC 310\",\"id\":33,\"credits\":3,\"nameCanonical\":\"\"},{\"curriculum_requisites\":[{\"source_id\":26,\"target_id\":34,\"type\":\"CurriculumPrerequisite\"},{\"source_id\":18,\"target_id\":34,\"type\":\"CurriculumPrerequisite\"}],\"name\":\" \",\"metrics\":{\"complexity\":8.0,\"centrality\":0,\"blocking factor\":0,\"delay factor\":8.0},\"nameSub\":\"AGSC 406\",\"id\":34,\"credits\":4,\"nameCanonical\":\"\"},{\"curriculum_requisites\":[{\"source_id\":16,\"target_id\":35,\"type\":\"CurriculumPrerequisite\"},{\"source_id\":8,\"target_id\":35,\"type\":\"CurriculumPrerequisite\"}],\"name\":\" \",\"metrics\":{\"complexity\":3.0,\"centrality\":0,\"blocking factor\":0,\"delay factor\":3.0},\"nameSub\":\"AGSC 415\",\"id\":35,\"credits\":3,\"nameCanonical\":\"\"},{\"curriculum_requisites\":[],\"name\":\" \",\"metrics\":{\"complexity\":1.0,\"centrality\":0,\"blocking factor\":0,\"delay factor\":1.0},\"nameSub\":\"Elective\",\"id\":36,\"credits\":6,\"nameCanonical\":\"\"}],\"id\":7},{\"name\":\"Term 8\",\"curriculum_items\":[{\"curriculum_requisites\":[{\"source_id\":32,\"target_id\":37,\"type\":\"CurriculumPrerequisite\"},{\"source_id\":3,\"target_id\":37,\"type\":\"CurriculumPrerequisite\"}],\"name\":\" \",\"metrics\":{\"complexity\":8.0,\"centrality\":0,\"blocking factor\":0,\"delay factor\":8.0},\"nameSub\":\"AGSC 410\",\"id\":37,\"credits\":3,\"nameCanonical\":\"\"},{\"curriculum_requisites\":[{\"source_id\":19,\"target_id\":38,\"type\":\"CurriculumPrerequisite\"}],\"name\":\" \",\"metrics\":{\"complexity\":7.0,\"centrality\":0,\"blocking factor\":0,\"delay factor\":7.0},\"nameSub\":\"VM 475\",\"id\":38,\"credits\":3,\"nameCanonical\":\"\"},{\"curriculum_requisites\":[],\"name\":\" \",\"metrics\":{\"complexity\":1.0,\"centrality\":0,\"blocking factor\":0,\"delay factor\":1.0},\"nameSub\":\"Electives\",\"id\":39,\"credits\":6,\"nameCanonical\":\"\"}],\"id\":8}],\"institution\":\"University of Nevada-Reno\"}}}}},\"children\":[{\"props\":{\"src\":\"http:\\/\\/localhost:8156\",\"id\":\"curriculum\",\"events\":{\"load\":\"(function (){this.contentWindow.postMessage({\\\"options\\\":{\\\"hideTerms\\\":false,\\\"edit\\\":false},\\\"curriculum\\\":{\\\"name\\\":\\\"Animal Science\\\",\\\"dp_name\\\":\\\"4-Year Plan\\\",\\\"curriculum_terms\\\":[{\\\"name\\\":\\\"Term 1\\\",\\\"curriculum_items\\\":[{\\\"curriculum_requisites\\\":[],\\\"name\\\":\\\" \\\",\\\"metrics\\\":{\\\"complexity\\\":6.0,\\\"centrality\\\":0,\\\"blocking factor\\\":3,\\\"delay factor\\\":3.0},\\\"nameSub\\\":\\\"ENG 101\\\",\\\"id\\\":1,\\\"credits\\\":3,\\\"nameCanonical\\\":\\\"\\\"},{\\\"curriculum_requisites\\\":[],\\\"name\\\":\\\" \\\",\\\"metrics\\\":{\\\"complexity\\\":30.0,\\\"centrality\\\":0,\\\"blocking factor\\\":22,\\\"delay factor\\\":8.0},\\\"nameSub\\\":\\\"MATH 126\\\",\\\"id\\\":2,\\\"credits\\\":3,\\\"nameCanonical\\\":\\\"\\\"},{\\\"curriculum_requisites\\\":[],\\\"name\\\":\\\" \\\",\\\"metrics\\\":{\\\"complexity\\\":8.0,\\\"centrality\\\":0,\\\"blocking factor\\\":5,\\\"delay factor\\\":3.0},\\\"nameSub\\\":\\\"AGSC 100\\\",\\\"id\\\":3,\\\"credits\\\":3,\\\"nameCanonical\\\":\\\"\\\"},{\\\"curriculum_requisites\\\":[{\\\"source_id\\\":2,\\\"target_id\\\":4,\\\"type\\\":\\\"CurriculumCorequisite\\\"}],\\\"name\\\":\\\" \\\",\\\"metrics\\\":{\\\"complexity\\\":2.0,\\\"centrality\\\":0,\\\"blocking factor\\\":0,\\\"delay factor\\\":2.0},\\\"nameSub\\\":\\\"ECON 102\\\",\\\"id\\\":4,\\\"credits\\\":3,\\\"nameCanonical\\\":\\\"\\\"},{\\\"curriculum_requisites\\\":[],\\\"name\\\":\\\" \\\",\\\"metrics\\\":{\\\"complexity\\\":1.0,\\\"centrality\\\":0,\\\"blocking factor\\\":0,\\\"delay factor\\\":1.0},\\\"nameSub\\\":\\\"Fine Arts\\\",\\\"id\\\":5,\\\"credits\\\":3,\\\"nameCanonical\\\":\\\"\\\"}],\\\"id\\\":1},{\\\"name\\\":\\\"Term 2\\\",\\\"curriculum_items\\\":[{\\\"curriculum_requisites\\\":[{\\\"source_id\\\":7,\\\"target_id\\\":6,\\\"type\\\":\\\"CurriculumCorequisite\\\"},{\\\"source_id\\\":9,\\\"target_id\\\":6,\\\"type\\\":\\\"CurriculumCorequisite\\\"},{\\\"source_id\\\":2,\\\"target_id\\\":6,\\\"type\\\":\\\"CurriculumPrerequisite\\\"}],\\\"name\\\":\\\" \\\",\\\"metrics\\\":{\\\"complexity\\\":25.0,\\\"centrality\\\":576,\\\"blocking factor\\\":17,\\\"delay factor\\\":8.0},\\\"nameSub\\\":\\\"CHEM 121A\\\",\\\"id\\\":6,\\\"credits\\\":3,\\\"nameCanonical\\\":\\\"\\\"},{\\\"curriculum_requisites\\\":[{\\\"source_id\\\":9,\\\"target_id\\\":7,\\\"type\\\":\\\"CurriculumCorequisite\\\"},{\\\"source_id\\\":2,\\\"target_id\\\":7,\\\"type\\\":\\\"CurriculumPrerequisite\\\"}],\\\"name\\\":\\\" \\\",\\\"metrics\\\":{\\\"complexity\\\":26.0,\\\"centrality\\\":576,\\\"blocking factor\\\":18,\\\"delay factor\\\":8.0},\\\"nameSub\\\":\\\"CHEM 121L\\\",\\\"id\\\":7,\\\"credits\\\":1,\\\"nameCanonical\\\":\\\"\\\"},{\\\"curriculum_requisites\\\":[{\\\"source_id\\\":1,\\\"target_id\\\":8,\\\"type\\\":\\\"CurriculumPrerequisite\\\"}],\\\"name\\\":\\\" \\\",\\\"metrics\\\":{\\\"complexity\\\":4.0,\\\"centrality\\\":3,\\\"blocking factor\\\":1,\\\"delay factor\\\":3.0},\\\"nameSub\\\":\\\"ENG 102\\\",\\\"id\\\":8,\\\"credits\\\":3,\\\"nameCanonical\\\":\\\"\\\"},{\\\"curriculum_requisites\\\":[{\\\"source_id\\\":2,\\\"target_id\\\":9,\\\"type\\\":\\\"CurriculumPrerequisite\\\"}],\\\"name\\\":\\\" \\\",\\\"metrics\\\":{\\\"complexity\\\":27.0,\\\"centrality\\\":502,\\\"blocking factor\\\":19,\\\"delay factor\\\":8.0},\\\"nameSub\\\":\\\"MATH 127\\\",\\\"id\\\":9,\\\"credits\\\":3,\\\"nameCanonical\\\":\\\"\\\"},{\\\"curriculum_requisites\\\":[],\\\"name\\\":\\\" \\\",\\\"metrics\\\":{\\\"complexity\\\":1.0,\\\"centrality\\\":0,\\\"blocking factor\\\":0,\\\"delay factor\\\":1.0},\\\"nameSub\\\":\\\"Elective\\\",\\\"id\\\":10,\\\"credits\\\":3,\\\"nameCanonical\\\":\\\"\\\"},{\\\"curriculum_requisites\\\":[],\\\"name\\\":\\\" \\\",\\\"metrics\\\":{\\\"complexity\\\":1.0,\\\"centrality\\\":0,\\\"blocking factor\\\":0,\\\"delay factor\\\":1.0},\\\"nameSub\\\":\\\"AGSC 211\\\",\\\"id\\\":11,\\\"credits\\\":3,\\\"nameCanonical\\\":\\\"\\\"}],\\\"id\\\":2},{\\\"name\\\":\\\"Term 3\\\",\\\"curriculum_items\\\":[{\\\"curriculum_requisites\\\":[{\\\"source_id\\\":2,\\\"target_id\\\":12,\\\"type\\\":\\\"CurriculumPrerequisite\\\"}],\\\"name\\\":\\\" \\\",\\\"metrics\\\":{\\\"complexity\\\":2.0,\\\"centrality\\\":0,\\\"blocking factor\\\":0,\\\"delay factor\\\":2.0},\\\"nameSub\\\":\\\"APST 207\\\",\\\"id\\\":12,\\\"credits\\\":3,\\\"nameCanonical\\\":\\\"\\\"},{\\\"curriculum_requisites\\\":[{\\\"source_id\\\":7,\\\"target_id\\\":13,\\\"type\\\":\\\"CurriculumPrerequisite\\\"},{\\\"source_id\\\":6,\\\"target_id\\\":13,\\\"type\\\":\\\"CurriculumPrerequisite\\\"}],\\\"name\\\":\\\" \\\",\\\"metrics\\\":{\\\"complexity\\\":17.0,\\\"centrality\\\":379,\\\"blocking factor\\\":9,\\\"delay factor\\\":8.0},\\\"nameSub\\\":\\\"BIOL 190\\\",\\\"id\\\":13,\\\"credits\\\":3,\\\"nameCanonical\\\":\\\"\\\"},{\\\"curriculum_requisites\\\":[{\\\"source_id\\\":7,\\\"target_id\\\":14,\\\"type\\\":\\\"CurriculumPrerequisite\\\"},{\\\"source_id\\\":9,\\\"target_id\\\":14,\\\"type\\\":\\\"CurriculumPrerequisite\\\"},{\\\"source_id\\\":15,\\\"target_id\\\":14,\\\"type\\\":\\\"CurriculumCorequisite\\\"},{\\\"source_id\\\":6,\\\"target_id\\\":14,\\\"type\\\":\\\"CurriculumPrerequisite\\\"}],\\\"name\\\":\\\" \\\",\\\"metrics\\\":{\\\"complexity\\\":12.0,\\\"centrality\\\":247,\\\"blocking factor\\\":4,\\\"delay factor\\\":8.0},\\\"nameSub\\\":\\\"CHEM 122A\\\",\\\"id\\\":14,\\\"credits\\\":3,\\\"nameCanonical\\\":\\\"\\\"},{\\\"curriculum_requisites\\\":[{\\\"source_id\\\":7,\\\"target_id\\\":15,\\\"type\\\":\\\"CurriculumPrerequisite\\\"},{\\\"source_id\\\":9,\\\"target_id\\\":15,\\\"type\\\":\\\"CurriculumPrerequisite\\\"},{\\\"source_id\\\":6,\\\"target_id\\\":15,\\\"type\\\":\\\"CurriculumPrerequisite\\\"}],\\\"name\\\":\\\" \\\",\\\"metrics\\\":{\\\"complexity\\\":13.0,\\\"centrality\\\":247,\\\"blocking factor\\\":5,\\\"delay factor\\\":8.0},\\\"nameSub\\\":\\\"CHEM 122L\\\",\\\"id\\\":15,\\\"credits\\\":1,\\\"nameCanonical\\\":\\\"\\\"},{\\\"curriculum_requisites\\\":[{\\\"source_id\\\":1,\\\"target_id\\\":16,\\\"type\\\":\\\"CurriculumPrerequisite\\\"}],\\\"name\\\":\\\" \\\",\\\"metrics\\\":{\\\"complexity\\\":4.0,\\\"centrality\\\":3,\\\"blocking factor\\\":1,\\\"delay factor\\\":3.0},\\\"nameSub\\\":\\\"CH 201\\\",\\\"id\\\":16,\\\"credits\\\":3,\\\"nameCanonical\\\":\\\"\\\"},{\\\"curriculum_requisites\\\":[],\\\"name\\\":\\\" \\\",\\\"metrics\\\":{\\\"complexity\\\":1.0,\\\"centrality\\\":0,\\\"blocking factor\\\":0,\\\"delay factor\\\":1.0},\\\"nameSub\\\":\\\"CH 203\\\",\\\"id\\\":17,\\\"credits\\\":3,\\\"nameCanonical\\\":\\\"\\\"}],\\\"id\\\":3},{\\\"name\\\":\\\"Term 4\\\",\\\"curriculum_items\\\":[{\\\"curriculum_requisites\\\":[{\\\"source_id\\\":7,\\\"target_id\\\":18,\\\"type\\\":\\\"CurriculumPrerequisite\\\"},{\\\"source_id\\\":14,\\\"target_id\\\":18,\\\"type\\\":\\\"CurriculumPrerequisite\\\"},{\\\"source_id\\\":3,\\\"target_id\\\":18,\\\"type\\\":\\\"CurriculumPrerequisite\\\"},{\\\"source_id\\\":15,\\\"target_id\\\":18,\\\"type\\\":\\\"CurriculumPrerequisite\\\"},{\\\"source_id\\\":6,\\\"target_id\\\":18,\\\"type\\\":\\\"CurriculumPrerequisite\\\"}],\\\"name\\\":\\\" \\\",\\\"metrics\\\":{\\\"complexity\\\":10.0,\\\"centrality\\\":318,\\\"blocking factor\\\":2,\\\"delay factor\\\":8.0},\\\"nameSub\\\":\\\"AGSC 206\\\",\\\"id\\\":18,\\\"credits\\\":3,\\\"nameCanonical\\\":\\\"\\\"},{\\\"curriculum_requisites\\\":[{\\\"source_id\\\":13,\\\"target_id\\\":19,\\\"type\\\":\\\"CurriculumPrerequisite\\\"}],\\\"name\\\":\\\" \\\",\\\"metrics\\\":{\\\"complexity\\\":15.0,\\\"centrality\\\":222,\\\"blocking factor\\\":7,\\\"delay factor\\\":8.0},\\\"nameSub\\\":\\\"BIOL 191\\\",\\\"id\\\":19,\\\"credits\\\":3,\\\"nameCanonical\\\":\\\"\\\"},{\\\"curriculum_requisites\\\":[{\\\"source_id\\\":13,\\\"target_id\\\":20,\\\"type\\\":\\\"CurriculumPrerequisite\\\"},{\\\"source_id\\\":19,\\\"target_id\\\":20,\\\"type\\\":\\\"CurriculumCorequisite\\\"}],\\\"name\\\":\\\" \\\",\\\"metrics\\\":{\\\"complexity\\\":7.0,\\\"centrality\\\":0,\\\"blocking factor\\\":0,\\\"delay factor\\\":7.0},\\\"nameSub\\\":\\\"BIOL 192\\\",\\\"id\\\":20,\\\"credits\\\":2,\\\"nameCanonical\\\":\\\"\\\"},{\\\"curriculum_requisites\\\":[{\\\"source_id\\\":3,\\\"target_id\\\":21,\\\"type\\\":\\\"CurriculumPrerequisite\\\"}],\\\"name\\\":\\\" \\\",\\\"metrics\\\":{\\\"complexity\\\":2.0,\\\"centrality\\\":0,\\\"blocking factor\\\":0,\\\"delay factor\\\":2.0},\\\"nameSub\\\":\\\"NRES 241\\\",\\\"id\\\":21,\\\"credits\\\":3,\\\"nameCanonical\\\":\\\"\\\"},{\\\"curriculum_requisites\\\":[{\\\"source_id\\\":13,\\\"target_id\\\":22,\\\"type\\\":\\\"CurriculumPrerequisite\\\"},{\\\"source_id\\\":14,\\\"target_id\\\":22,\\\"type\\\":\\\"CurriculumPrerequisite\\\"},{\\\"source_id\\\":19,\\\"target_id\\\":22,\\\"type\\\":\\\"CurriculumCorequisite\\\"},{\\\"source_id\\\":15,\\\"target_id\\\":22,\\\"type\\\":\\\"CurriculumPrerequisite\\\"}],\\\"name\\\":\\\" \\\",\\\"metrics\\\":{\\\"complexity\\\":7.0,\\\"centrality\\\":0,\\\"blocking factor\\\":0,\\\"delay factor\\\":7.0},\\\"nameSub\\\":\\\"AGSC 211\\\",\\\"id\\\":22,\\\"credits\\\":3,\\\"nameCanonical\\\":\\\"\\\"}],\\\"id\\\":4},{\\\"name\\\":\\\"Term 5\\\",\\\"curriculum_items\\\":[{\\\"curriculum_requisites\\\":[],\\\"name\\\":\\\" \\\",\\\"metrics\\\":{\\\"complexity\\\":1.0,\\\"centrality\\\":0,\\\"blocking factor\\\":0,\\\"delay factor\\\":1.0},\\\"nameSub\\\":\\\"AGSC 250\\\",\\\"id\\\":23,\\\"credits\\\":3,\\\"nameCanonical\\\":\\\"\\\"},{\\\"curriculum_requisites\\\":[],\\\"name\\\":\\\" \\\",\\\"metrics\\\":{\\\"complexity\\\":1.0,\\\"centrality\\\":0,\\\"blocking factor\\\":0,\\\"delay factor\\\":1.0},\\\"nameSub\\\":\\\"AGSC 416\\\",\\\"id\\\":24,\\\"credits\\\":3,\\\"nameCanonical\\\":\\\"\\\"},{\\\"curriculum_requisites\\\":[],\\\"name\\\":\\\" \\\",\\\"metrics\\\":{\\\"complexity\\\":1.0,\\\"centrality\\\":0,\\\"blocking factor\\\":0,\\\"delay factor\\\":1.0},\\\"nameSub\\\":\\\"NUTR 325\\\",\\\"id\\\":25,\\\"credits\\\":3,\\\"nameCanonical\\\":\\\"\\\"},{\\\"curriculum_requisites\\\":[{\\\"source_id\\\":7,\\\"target_id\\\":26,\\\"type\\\":\\\"CurriculumPrerequisite\\\"},{\\\"source_id\\\":6,\\\"target_id\\\":26,\\\"type\\\":\\\"CurriculumPrerequisite\\\"}],\\\"name\\\":\\\" \\\",\\\"metrics\\\":{\\\"complexity\\\":9.0,\\\"centrality\\\":87,\\\"blocking factor\\\":3,\\\"delay factor\\\":6.0},\\\"nameSub\\\":\\\"CHEM 220A\\\",\\\"id\\\":26,\\\"credits\\\":3,\\\"nameCanonical\\\":\\\"\\\"},{\\\"curriculum_requisites\\\":[{\\\"source_id\\\":26,\\\"target_id\\\":27,\\\"type\\\":\\\"CurriculumCorequisite\\\"}],\\\"name\\\":\\\" \\\",\\\"metrics\\\":{\\\"complexity\\\":6.0,\\\"centrality\\\":0,\\\"blocking factor\\\":0,\\\"delay factor\\\":6.0},\\\"nameSub\\\":\\\"CHEM 220L\\\",\\\"id\\\":27,\\\"credits\\\":1,\\\"nameCanonical\\\":\\\"\\\"},{\\\"curriculum_requisites\\\":[],\\\"name\\\":\\\" \\\",\\\"metrics\\\":{\\\"complexity\\\":1.0,\\\"centrality\\\":0,\\\"blocking factor\\\":0,\\\"delay factor\\\":1.0},\\\"nameSub\\\":\\\"Elective\\\",\\\"id\\\":28,\\\"credits\\\":3,\\\"nameCanonical\\\":\\\"\\\"}],\\\"id\\\":5},{\\\"name\\\":\\\"Term 6\\\",\\\"curriculum_items\\\":[{\\\"curriculum_requisites\\\":[{\\\"source_id\\\":19,\\\"target_id\\\":29,\\\"type\\\":\\\"CurriculumPrerequisite\\\"}],\\\"name\\\":\\\" \\\",\\\"metrics\\\":{\\\"complexity\\\":7.0,\\\"centrality\\\":0,\\\"blocking factor\\\":0,\\\"delay factor\\\":7.0},\\\"nameSub\\\":\\\"AGSC 325\\\",\\\"id\\\":29,\\\"credits\\\":3,\\\"nameCanonical\\\":\\\"\\\"},{\\\"curriculum_requisites\\\":[{\\\"source_id\\\":3,\\\"target_id\\\":30,\\\"type\\\":\\\"CurriculumPrerequisite\\\"},{\\\"source_id\\\":18,\\\"target_id\\\":30,\\\"type\\\":\\\"CurriculumPrerequisite\\\"}],\\\"name\\\":\\\" \\\",\\\"metrics\\\":{\\\"complexity\\\":8.0,\\\"centrality\\\":0,\\\"blocking factor\\\":0,\\\"delay factor\\\":8.0},\\\"nameSub\\\":\\\"AGSC 425\\\",\\\"id\\\":30,\\\"credits\\\":4,\\\"nameCanonical\\\":\\\"\\\"},{\\\"curriculum_requisites\\\":[{\\\"source_id\\\":26,\\\"target_id\\\":31,\\\"type\\\":\\\"CurriculumPrerequisite\\\"},{\\\"source_id\\\":13,\\\"target_id\\\":31,\\\"type\\\":\\\"CurriculumPrerequisite\\\"}],\\\"name\\\":\\\" \\\",\\\"metrics\\\":{\\\"complexity\\\":6.0,\\\"centrality\\\":0,\\\"blocking factor\\\":0,\\\"delay factor\\\":6.0},\\\"nameSub\\\":\\\"BCH 400\\\",\\\"id\\\":31,\\\"credits\\\":4,\\\"nameCanonical\\\":\\\"\\\"},{\\\"curriculum_requisites\\\":[{\\\"source_id\\\":13,\\\"target_id\\\":32,\\\"type\\\":\\\"CurriculumPrerequisite\\\"},{\\\"source_id\\\":19,\\\"target_id\\\":32,\\\"type\\\":\\\"CurriculumPrerequisite\\\"}],\\\"name\\\":\\\" \\\",\\\"metrics\\\":{\\\"complexity\\\":10.0,\\\"centrality\\\":152,\\\"blocking factor\\\":2,\\\"delay factor\\\":8.0},\\\"nameSub\\\":\\\"VM 328\\\",\\\"id\\\":32,\\\"credits\\\":4,\\\"nameCanonical\\\":\\\"\\\"}],\\\"id\\\":6},{\\\"name\\\":\\\"Term 7\\\",\\\"curriculum_items\\\":[{\\\"curriculum_requisites\\\":[{\\\"source_id\\\":32,\\\"target_id\\\":33,\\\"type\\\":\\\"CurriculumCorequisite\\\"}],\\\"name\\\":\\\" \\\",\\\"metrics\\\":{\\\"complexity\\\":8.0,\\\"centrality\\\":0,\\\"blocking factor\\\":0,\\\"delay factor\\\":8.0},\\\"nameSub\\\":\\\"AGSC 310\\\",\\\"id\\\":33,\\\"credits\\\":3,\\\"nameCanonical\\\":\\\"\\\"},{\\\"curriculum_requisites\\\":[{\\\"source_id\\\":26,\\\"target_id\\\":34,\\\"type\\\":\\\"CurriculumPrerequisite\\\"},{\\\"source_id\\\":18,\\\"target_id\\\":34,\\\"type\\\":\\\"CurriculumPrerequisite\\\"}],\\\"name\\\":\\\" \\\",\\\"metrics\\\":{\\\"complexity\\\":8.0,\\\"centrality\\\":0,\\\"blocking factor\\\":0,\\\"delay factor\\\":8.0},\\\"nameSub\\\":\\\"AGSC 406\\\",\\\"id\\\":34,\\\"credits\\\":4,\\\"nameCanonical\\\":\\\"\\\"},{\\\"curriculum_requisites\\\":[{\\\"source_id\\\":16,\\\"target_id\\\":35,\\\"type\\\":\\\"CurriculumPrerequisite\\\"},{\\\"source_id\\\":8,\\\"target_id\\\":35,\\\"type\\\":\\\"CurriculumPrerequisite\\\"}],\\\"name\\\":\\\" \\\",\\\"metrics\\\":{\\\"complexity\\\":3.0,\\\"centrality\\\":0,\\\"blocking factor\\\":0,\\\"delay factor\\\":3.0},\\\"nameSub\\\":\\\"AGSC 415\\\",\\\"id\\\":35,\\\"credits\\\":3,\\\"nameCanonical\\\":\\\"\\\"},{\\\"curriculum_requisites\\\":[],\\\"name\\\":\\\" \\\",\\\"metrics\\\":{\\\"complexity\\\":1.0,\\\"centrality\\\":0,\\\"blocking factor\\\":0,\\\"delay factor\\\":1.0},\\\"nameSub\\\":\\\"Elective\\\",\\\"id\\\":36,\\\"credits\\\":6,\\\"nameCanonical\\\":\\\"\\\"}],\\\"id\\\":7},{\\\"name\\\":\\\"Term 8\\\",\\\"curriculum_items\\\":[{\\\"curriculum_requisites\\\":[{\\\"source_id\\\":32,\\\"target_id\\\":37,\\\"type\\\":\\\"CurriculumPrerequisite\\\"},{\\\"source_id\\\":3,\\\"target_id\\\":37,\\\"type\\\":\\\"CurriculumPrerequisite\\\"}],\\\"name\\\":\\\" \\\",\\\"metrics\\\":{\\\"complexity\\\":8.0,\\\"centrality\\\":0,\\\"blocking factor\\\":0,\\\"delay factor\\\":8.0},\\\"nameSub\\\":\\\"AGSC 410\\\",\\\"id\\\":37,\\\"credits\\\":3,\\\"nameCanonical\\\":\\\"\\\"},{\\\"curriculum_requisites\\\":[{\\\"source_id\\\":19,\\\"target_id\\\":38,\\\"type\\\":\\\"CurriculumPrerequisite\\\"}],\\\"name\\\":\\\" \\\",\\\"metrics\\\":{\\\"complexity\\\":7.0,\\\"centrality\\\":0,\\\"blocking factor\\\":0,\\\"delay factor\\\":7.0},\\\"nameSub\\\":\\\"VM 475\\\",\\\"id\\\":38,\\\"credits\\\":3,\\\"nameCanonical\\\":\\\"\\\"},{\\\"curriculum_requisites\\\":[],\\\"name\\\":\\\" \\\",\\\"metrics\\\":{\\\"complexity\\\":1.0,\\\"centrality\\\":0,\\\"blocking factor\\\":0,\\\"delay factor\\\":1.0},\\\"nameSub\\\":\\\"Electives\\\",\\\"id\\\":39,\\\"credits\\\":6,\\\"nameCanonical\\\":\\\"\\\"}],\\\"id\\\":8}],\\\"institution\\\":\\\"University of Nevada-Reno\\\"}},\\\"*\\\"); window.removeEventListener(\\\"message\\\",window.messageReceived); window.messageReceived=(function (event){return (event.data.curriculum!==undefined) ? (WebIO.setval({\\\"name\\\":\\\"curriculum-data\\\",\\\"scope\\\":\\\"644089127279214502\\\",\\\"id\\\":\\\"4812524561297704311\\\",\\\"type\\\":\\\"observable\\\"},event.data.curriculum)) : undefined}); return window.addEventListener(\\\"message\\\",window.messageReceived)})\"},\"style\":{\"padding\":\"0\",\"height\":\"100vh\",\"margin\":\"0\",\"border\":\"none\",\"width\":\"100%\"}},\"nodeType\":\"DOM\",\"type\":\"node\",\"instanceArgs\":{\"namespace\":\"html\",\"tag\":\"iframe\"},\"children\":[\"\"]}]},\n",
       "            window,\n",
       "        );\n",
       "    } else {\n",
       "        document\n",
       "            .querySelector('[data-webio-mountpoint=\"5389168124005782549\"]')\n",
       "            .innerHTML = (\n",
       "                '<div style=\"padding: 1em; background-color: #f8d6da; border: 1px solid #f5c6cb\">' +\n",
       "                '<p><strong>WebIO not detected.</strong></p>' +\n",
       "                '<p>Please read ' +\n",
       "                '<a href=\"https://juliagizmos.github.io/WebIO.jl/latest/troubleshooting/not-detected/\" target=\"_blank\">the troubleshooting guide</a> ' +\n",
       "                'for more information on how to resolve this issue.</p>' +\n",
       "                '<p><a href=\"https://juliagizmos.github.io/WebIO.jl/latest/troubleshooting/not-detected/\" target=\"_blank\">https://juliagizmos.github.io/WebIO.jl/latest/troubleshooting/not-detected/</a></p>' +\n",
       "                '</div>'\n",
       "            );\n",
       "    }\n",
       "    </script>\n",
       "</div>\n"
      ],
      "text/plain": [
       "WebIO.Scope(WebIO.Node{WebIO.DOM}(WebIO.DOM(:html, :iframe), Any[\"\"], Dict{Symbol,Any}(:src => \"http://localhost:8156\",:id => \"curriculum\",:events => Dict{Symbol,WebIO.JSString}(:load => WebIO.JSString(\"(function (){this.contentWindow.postMessage({\\\"options\\\":{\\\"hideTerms\\\":false,\\\"edit\\\":false},\\\"curriculum\\\":{\\\"name\\\":\\\"Animal Science\\\",\\\"dp_name\\\":\\\"4-Year Plan\\\",\\\"curriculum_terms\\\":[{\\\"name\\\":\\\"Term 1\\\",\\\"curriculum_items\\\":[{\\\"curriculum_requisites\\\":[],\\\"name\\\":\\\" \\\",\\\"metrics\\\":{\\\"complexity\\\":6.0,\\\"centrality\\\":0,\\\"blocking factor\\\":3,\\\"delay factor\\\":3.0},\\\"nameSub\\\":\\\"ENG 101\\\",\\\"id\\\":1,\\\"credits\\\":3,\\\"nameCanonical\\\":\\\"\\\"},{\\\"curriculum_requisites\\\":[],\\\"name\\\":\\\" \\\",\\\"metrics\\\":{\\\"complexity\\\":30.0,\\\"centrality\\\":0,\\\"blocking factor\\\":22,\\\"delay factor\\\":8.0},\\\"nameSub\\\":\\\"MATH 126\\\",\\\"id\\\":2,\\\"credits\\\":3,\\\"nameCanonical\\\":\\\"\\\"},{\\\"curriculum_requisites\\\":[],\\\"name\\\":\\\" \\\",\\\"metrics\\\":{\\\"complexity\\\":8.0,\\\"centrality\\\":0,\\\"blocking factor\\\":5,\\\"delay factor\\\":3.0},\\\"nameSub\\\":\\\"AGSC 100\\\",\\\"id\\\":3,\\\"credits\\\":3,\\\"nameCanonical\\\":\\\"\\\"},{\\\"curriculum_requisites\\\":[{\\\"source_id\\\":2,\\\"target_id\\\":4,\\\"type\\\":\\\"CurriculumCorequisite\\\"}],\\\"name\\\":\\\" \\\",\\\"metrics\\\":{\\\"complexity\\\":2.0,\\\"centrality\\\":0,\\\"blocking factor\\\":0,\\\"delay factor\\\":2.0},\\\"nameSub\\\":\\\"ECON 102\\\",\\\"id\\\":4,\\\"credits\\\":3,\\\"nameCanonical\\\":\\\"\\\"},{\\\"curriculum_requisites\\\":[],\\\"name\\\":\\\" \\\",\\\"metrics\\\":{\\\"complexity\\\":1.0,\\\"centrality\\\":0,\\\"blocking factor\\\":0,\\\"delay factor\\\":1.0},\\\"nameSub\\\":\\\"Fine Arts\\\",\\\"id\\\":5,\\\"credits\\\":3,\\\"nameCanonical\\\":\\\"\\\"}],\\\"id\\\":1},{\\\"name\\\":\\\"Term 2\\\",\\\"curriculum_items\\\":[{\\\"curriculum_requisites\\\":[{\\\"source_id\\\":7,\\\"target_id\\\":6,\\\"type\\\":\\\"CurriculumCorequisite\\\"},{\\\"source_id\\\":9,\\\"target_id\\\":6,\\\"type\\\":\\\"CurriculumCorequisite\\\"},{\\\"source_id\\\":2,\\\"target_id\\\":6,\\\"type\\\":\\\"CurriculumPrerequisite\\\"}],\\\"name\\\":\\\" \\\",\\\"metrics\\\":{\\\"complexity\\\":25.0,\\\"centrality\\\":576,\\\"blocking factor\\\":17,\\\"delay factor\\\":8.0},\\\"nameSub\\\":\\\"CHEM 121A\\\",\\\"id\\\":6,\\\"credits\\\":3,\\\"nameCanonical\\\":\\\"\\\"},{\\\"curriculum_requisites\\\":[{\\\"source_id\\\":9,\\\"target_id\\\":7,\\\"type\\\":\\\"CurriculumCorequisite\\\"},{\\\"source_id\\\":2,\\\"target_id\\\":7,\\\"type\\\":\\\"CurriculumPrerequisite\\\"}],\\\"name\\\":\\\" \\\",\\\"metrics\\\":{\\\"complexity\\\":26.0,\\\"centrality\\\":576,\\\"blocking factor\\\":18,\\\"delay factor\\\":8.0},\\\"nameSub\\\":\\\"CHEM 121L\\\",\\\"id\\\":7,\\\"credits\\\":1,\\\"nameCanonical\\\":\\\"\\\"},{\\\"curriculum_requisites\\\":[{\\\"source_id\\\":1,\\\"target_id\\\":8,\\\"type\\\":\\\"CurriculumPrerequisite\\\"}],\\\"name\\\":\\\" \\\",\\\"metrics\\\":{\\\"complexity\\\":4.0,\\\"centrality\\\":3,\\\"blocking factor\\\":1,\\\"delay factor\\\":3.0},\\\"nameSub\\\":\\\"ENG 102\\\",\\\"id\\\":8,\\\"credits\\\":3,\\\"nameCanonical\\\":\\\"\\\"},{\\\"curriculum_requisites\\\":[{\\\"source_id\\\":2,\\\"target_id\\\":9,\\\"type\\\":\\\"CurriculumPrerequisite\\\"}],\\\"name\\\":\\\" \\\",\\\"metrics\\\":{\\\"complexity\\\":27.0,\\\"centrality\\\":502,\\\"blocking factor\\\":19,\\\"delay factor\\\":8.0},\\\"nameSub\\\":\\\"MATH 127\\\",\\\"id\\\":9,\\\"credits\\\":3,\\\"nameCanonical\\\":\\\"\\\"},{\\\"curriculum_requisites\\\":[],\\\"name\\\":\\\" \\\",\\\"metrics\\\":{\\\"complexity\\\":1.0,\\\"centrality\\\":0,\\\"blocking factor\\\":0,\\\"delay factor\\\":1.0},\\\"nameSub\\\":\\\"Elective\\\",\\\"id\\\":10,\\\"credits\\\":3,\\\"nameCanonical\\\":\\\"\\\"},{\\\"curriculum_requisites\\\":[],\\\"name\\\":\\\" \\\",\\\"metrics\\\":{\\\"complexity\\\":1.0,\\\"centrality\\\":0,\\\"blocking factor\\\":0,\\\"delay factor\\\":1.0},\\\"nameSub\\\":\\\"AGSC 211\\\",\\\"id\\\":11,\\\"credits\\\":3,\\\"nameCanonical\\\":\\\"\\\"}],\\\"id\\\":2},{\\\"name\\\":\\\"Term 3\\\",\\\"curriculum_items\\\":[{\\\"curriculum_requisites\\\":[{\\\"source_id\\\":2,\\\"target_id\\\":12,\\\"type\\\":\\\"CurriculumPrerequisite\\\"}],\\\"name\\\":\\\" \\\",\\\"metrics\\\":{\\\"complexity\\\":2.0,\\\"centrality\\\":0,\\\"blocking factor\\\":0,\\\"delay factor\\\":2.0},\\\"nameSub\\\":\\\"APST 207\\\",\\\"id\\\":12,\\\"credits\\\":3,\\\"nameCanonical\\\":\\\"\\\"},{\\\"curriculum_requisites\\\":[{\\\"source_id\\\":7,\\\"target_id\\\":13,\\\"type\\\":\\\"CurriculumPrerequisite\\\"},{\\\"source_id\\\":6,\\\"target_id\\\":13,\\\"type\\\":\\\"CurriculumPrerequisite\\\"}],\\\"name\\\":\\\" \\\",\\\"metrics\\\":{\\\"complexity\\\":17.0,\\\"centrality\\\":379,\\\"blocking factor\\\":9,\\\"delay factor\\\":8.0},\\\"nameSub\\\":\\\"BIOL 190\\\",\\\"id\\\":13,\\\"credits\\\":3,\\\"nameCanonical\\\":\\\"\\\"},{\\\"curriculum_requisites\\\":[{\\\"source_id\\\":7,\\\"target_id\\\":14,\\\"type\\\":\\\"CurriculumPrerequisite\\\"},{\\\"source_id\\\":9,\\\"target_id\\\":14,\\\"type\\\":\\\"CurriculumPrerequisite\\\"},{\\\"source_id\\\":15,\\\"target_id\\\":14,\\\"type\\\":\\\"CurriculumCorequisite\\\"},{\\\"source_id\\\":6,\\\"target_id\\\":14,\\\"type\\\":\\\"CurriculumPrerequisite\\\"}],\\\"name\\\":\\\" \\\",\\\"metrics\\\":{\\\"complexity\\\":12.0,\\\"centrality\\\":247,\\\"blocking factor\\\":4,\\\"delay factor\\\":8.0},\\\"nameSub\\\":\\\"CHEM 122A\\\",\\\"id\\\":14,\\\"credits\\\":3,\\\"nameCanonical\\\":\\\"\\\"},{\\\"curriculum_requisites\\\":[{\\\"source_id\\\":7,\\\"target_id\\\":15,\\\"type\\\":\\\"CurriculumPrerequisite\\\"},{\\\"source_id\\\":9,\\\"target_id\\\":15,\\\"type\\\":\\\"CurriculumPrerequisite\\\"},{\\\"source_id\\\":6,\\\"target_id\\\":15,\\\"type\\\":\\\"CurriculumPrerequisite\\\"}],\\\"name\\\":\\\" \\\",\\\"metrics\\\":{\\\"complexity\\\":13.0,\\\"centrality\\\":247,\\\"blocking factor\\\":5,\\\"delay factor\\\":8.0},\\\"nameSub\\\":\\\"CHEM 122L\\\",\\\"id\\\":15,\\\"credits\\\":1,\\\"nameCanonical\\\":\\\"\\\"},{\\\"curriculum_requisites\\\":[{\\\"source_id\\\":1,\\\"target_id\\\":16,\\\"type\\\":\\\"CurriculumPrerequisite\\\"}],\\\"name\\\":\\\" \\\",\\\"metrics\\\":{\\\"complexity\\\":4.0,\\\"centrality\\\":3,\\\"blocking factor\\\":1,\\\"delay factor\\\":3.0},\\\"nameSub\\\":\\\"CH 201\\\",\\\"id\\\":16,\\\"credits\\\":3,\\\"nameCanonical\\\":\\\"\\\"},{\\\"curriculum_requisites\\\":[],\\\"name\\\":\\\" \\\",\\\"metrics\\\":{\\\"complexity\\\":1.0,\\\"centrality\\\":0,\\\"blocking factor\\\":0,\\\"delay factor\\\":1.0},\\\"nameSub\\\":\\\"CH 203\\\",\\\"id\\\":17,\\\"credits\\\":3,\\\"nameCanonical\\\":\\\"\\\"}],\\\"id\\\":3},{\\\"name\\\":\\\"Term 4\\\",\\\"curriculum_items\\\":[{\\\"curriculum_requisites\\\":[{\\\"source_id\\\":7,\\\"target_id\\\":18,\\\"type\\\":\\\"CurriculumPrerequisite\\\"},{\\\"source_id\\\":14,\\\"target_id\\\":18,\\\"type\\\":\\\"CurriculumPrerequisite\\\"},{\\\"source_id\\\":3,\\\"target_id\\\":18,\\\"type\\\":\\\"CurriculumPrerequisite\\\"},{\\\"source_id\\\":15,\\\"target_id\\\":18,\\\"type\\\":\\\"CurriculumPrerequisite\\\"},{\\\"source_id\\\":6,\\\"target_id\\\":18,\\\"type\\\":\\\"CurriculumPrerequisite\\\"}],\\\"name\\\":\\\" \\\",\\\"metrics\\\":{\\\"complexity\\\":10.0,\\\"centrality\\\":318,\\\"blocking factor\\\":2,\\\"delay factor\\\":8.0},\\\"nameSub\\\":\\\"AGSC 206\\\",\\\"id\\\":18,\\\"credits\\\":3,\\\"nameCanonical\\\":\\\"\\\"},{\\\"curriculum_requisites\\\":[{\\\"source_id\\\":13,\\\"target_id\\\":19,\\\"type\\\":\\\"CurriculumPrerequisite\\\"}],\\\"name\\\":\\\" \\\",\\\"metrics\\\":{\\\"complexity\\\":15.0,\\\"centrality\\\":222,\\\"blocking factor\\\":7,\\\"delay factor\\\":8.0},\\\"nameSub\\\":\\\"BIOL 191\\\",\\\"id\\\":19,\\\"credits\\\":3,\\\"nameCanonical\\\":\\\"\\\"},{\\\"curriculum_requisites\\\":[{\\\"source_id\\\":13,\\\"target_id\\\":20,\\\"type\\\":\\\"CurriculumPrerequisite\\\"},{\\\"source_id\\\":19,\\\"target_id\\\":20,\\\"type\\\":\\\"CurriculumCorequisite\\\"}],\\\"name\\\":\\\" \\\",\\\"metrics\\\":{\\\"complexity\\\":7.0,\\\"centrality\\\":0,\\\"blocking factor\\\":0,\\\"delay factor\\\":7.0},\\\"nameSub\\\":\\\"BIOL 192\\\",\\\"id\\\":20,\\\"credits\\\":2,\\\"nameCanonical\\\":\\\"\\\"},{\\\"curriculum_requisites\\\":[{\\\"source_id\\\":3,\\\"target_id\\\":21,\\\"type\\\":\\\"CurriculumPrerequisite\\\"}],\\\"name\\\":\\\" \\\",\\\"metrics\\\":{\\\"complexity\\\":2.0,\\\"centrality\\\":0,\\\"blocking factor\\\":0,\\\"delay factor\\\":2.0},\\\"nameSub\\\":\\\"NRES 241\\\",\\\"id\\\":21,\\\"credits\\\":3,\\\"nameCanonical\\\":\\\"\\\"},{\\\"curriculum_requisites\\\":[{\\\"source_id\\\":13,\\\"target_id\\\":22,\\\"type\\\":\\\"CurriculumPrerequisite\\\"},{\\\"source_id\\\":14,\\\"target_id\\\":22,\\\"type\\\":\\\"CurriculumPrerequisite\\\"},{\\\"source_id\\\":19,\\\"target_id\\\":22,\\\"type\\\":\\\"CurriculumCorequisite\\\"},{\\\"source_id\\\":15,\\\"target_id\\\":22,\\\"type\\\":\\\"CurriculumPrerequisite\\\"}],\\\"name\\\":\\\" \\\",\\\"metrics\\\":{\\\"complexity\\\":7.0,\\\"centrality\\\":0,\\\"blocking factor\\\":0,\\\"delay factor\\\":7.0},\\\"nameSub\\\":\\\"AGSC 211\\\",\\\"id\\\":22,\\\"credits\\\":3,\\\"nameCanonical\\\":\\\"\\\"}],\\\"id\\\":4},{\\\"name\\\":\\\"Term 5\\\",\\\"curriculum_items\\\":[{\\\"curriculum_requisites\\\":[],\\\"name\\\":\\\" \\\",\\\"metrics\\\":{\\\"complexity\\\":1.0,\\\"centrality\\\":0,\\\"blocking factor\\\":0,\\\"delay factor\\\":1.0},\\\"nameSub\\\":\\\"AGSC 250\\\",\\\"id\\\":23,\\\"credits\\\":3,\\\"nameCanonical\\\":\\\"\\\"},{\\\"curriculum_requisites\\\":[],\\\"name\\\":\\\" \\\",\\\"metrics\\\":{\\\"complexity\\\":1.0,\\\"centrality\\\":0,\\\"blocking factor\\\":0,\\\"delay factor\\\":1.0},\\\"nameSub\\\":\\\"AGSC 416\\\",\\\"id\\\":24,\\\"credits\\\":3,\\\"nameCanonical\\\":\\\"\\\"},{\\\"curriculum_requisites\\\":[],\\\"name\\\":\\\" \\\",\\\"metrics\\\":{\\\"complexity\\\":1.0,\\\"centrality\\\":0,\\\"blocking factor\\\":0,\\\"delay factor\\\":1.0},\\\"nameSub\\\":\\\"NUTR 325\\\",\\\"id\\\":25,\\\"credits\\\":3,\\\"nameCanonical\\\":\\\"\\\"},{\\\"curriculum_requisites\\\":[{\\\"source_id\\\":7,\\\"target_id\\\":26,\\\"type\\\":\\\"CurriculumPrerequisite\\\"},{\\\"source_id\\\":6,\\\"target_id\\\":26,\\\"type\\\":\\\"CurriculumPrerequisite\\\"}],\\\"name\\\":\\\" \\\",\\\"metrics\\\":{\\\"complexity\\\":9.0,\\\"centrality\\\":87,\\\"blocking factor\\\":3,\\\"delay factor\\\":6.0},\\\"nameSub\\\":\\\"CHEM 220A\\\",\\\"id\\\":26,\\\"credits\\\":3,\\\"nameCanonical\\\":\\\"\\\"},{\\\"curriculum_requisites\\\":[{\\\"source_id\\\":26,\\\"target_id\\\":27,\\\"type\\\":\\\"CurriculumCorequisite\\\"}],\\\"name\\\":\\\" \\\",\\\"metrics\\\":{\\\"complexity\\\":6.0,\\\"centrality\\\":0,\\\"blocking factor\\\":0,\\\"delay factor\\\":6.0},\\\"nameSub\\\":\\\"CHEM 220L\\\",\\\"id\\\":27,\\\"credits\\\":1,\\\"nameCanonical\\\":\\\"\\\"},{\\\"curriculum_requisites\\\":[],\\\"name\\\":\\\" \\\",\\\"metrics\\\":{\\\"complexity\\\":1.0,\\\"centrality\\\":0,\\\"blocking factor\\\":0,\\\"delay factor\\\":1.0},\\\"nameSub\\\":\\\"Elective\\\",\\\"id\\\":28,\\\"credits\\\":3,\\\"nameCanonical\\\":\\\"\\\"}],\\\"id\\\":5},{\\\"name\\\":\\\"Term 6\\\",\\\"curriculum_items\\\":[{\\\"curriculum_requisites\\\":[{\\\"source_id\\\":19,\\\"target_id\\\":29,\\\"type\\\":\\\"CurriculumPrerequisite\\\"}],\\\"name\\\":\\\" \\\",\\\"metrics\\\":{\\\"complexity\\\":7.0,\\\"centrality\\\":0,\\\"blocking factor\\\":0,\\\"delay factor\\\":7.0},\\\"nameSub\\\":\\\"AGSC 325\\\",\\\"id\\\":29,\\\"credits\\\":3,\\\"nameCanonical\\\":\\\"\\\"},{\\\"curriculum_requisites\\\":[{\\\"source_id\\\":3,\\\"target_id\\\":30,\\\"type\\\":\\\"CurriculumPrerequisite\\\"},{\\\"source_id\\\":18,\\\"target_id\\\":30,\\\"type\\\":\\\"CurriculumPrerequisite\\\"}],\\\"name\\\":\\\" \\\",\\\"metrics\\\":{\\\"complexity\\\":8.0,\\\"centrality\\\":0,\\\"blocking factor\\\":0,\\\"delay factor\\\":8.0},\\\"nameSub\\\":\\\"AGSC 425\\\",\\\"id\\\":30,\\\"credits\\\":4,\\\"nameCanonical\\\":\\\"\\\"},{\\\"curriculum_requisites\\\":[{\\\"source_id\\\":26,\\\"target_id\\\":31,\\\"type\\\":\\\"CurriculumPrerequisite\\\"},{\\\"source_id\\\":13,\\\"target_id\\\":31,\\\"type\\\":\\\"CurriculumPrerequisite\\\"}],\\\"name\\\":\\\" \\\",\\\"metrics\\\":{\\\"complexity\\\":6.0,\\\"centrality\\\":0,\\\"blocking factor\\\":0,\\\"delay factor\\\":6.0},\\\"nameSub\\\":\\\"BCH 400\\\",\\\"id\\\":31,\\\"credits\\\":4,\\\"nameCanonical\\\":\\\"\\\"},{\\\"curriculum_requisites\\\":[{\\\"source_id\\\":13,\\\"target_id\\\":32,\\\"type\\\":\\\"CurriculumPrerequisite\\\"},{\\\"source_id\\\":19,\\\"target_id\\\":32,\\\"type\\\":\\\"CurriculumPrerequisite\\\"}],\\\"name\\\":\\\" \\\",\\\"metrics\\\":{\\\"complexity\\\":10.0,\\\"centrality\\\":152,\\\"blocking factor\\\":2,\\\"delay factor\\\":8.0},\\\"nameSub\\\":\\\"VM 328\\\",\\\"id\\\":32,\\\"credits\\\":4,\\\"nameCanonical\\\":\\\"\\\"}],\\\"id\\\":6},{\\\"name\\\":\\\"Term 7\\\",\\\"curriculum_items\\\":[{\\\"curriculum_requisites\\\":[{\\\"source_id\\\":32,\\\"target_id\\\":33,\\\"type\\\":\\\"CurriculumCorequisite\\\"}],\\\"name\\\":\\\" \\\",\\\"metrics\\\":{\\\"complexity\\\":8.0,\\\"centrality\\\":0,\\\"blocking factor\\\":0,\\\"delay factor\\\":8.0},\\\"nameSub\\\":\\\"AGSC 310\\\",\\\"id\\\":33,\\\"credits\\\":3,\\\"nameCanonical\\\":\\\"\\\"},{\\\"curriculum_requisites\\\":[{\\\"source_id\\\":26,\\\"target_id\\\":34,\\\"type\\\":\\\"CurriculumPrerequisite\\\"},{\\\"source_id\\\":18,\\\"target_id\\\":34,\\\"type\\\":\\\"CurriculumPrerequisite\\\"}],\\\"name\\\":\\\" \\\",\\\"metrics\\\":{\\\"complexity\\\":8.0,\\\"centrality\\\":0,\\\"blocking factor\\\":0,\\\"delay factor\\\":8.0},\\\"nameSub\\\":\\\"AGSC 406\\\",\\\"id\\\":34,\\\"credits\\\":4,\\\"nameCanonical\\\":\\\"\\\"},{\\\"curriculum_requisites\\\":[{\\\"source_id\\\":16,\\\"target_id\\\":35,\\\"type\\\":\\\"CurriculumPrerequisite\\\"},{\\\"source_id\\\":8,\\\"target_id\\\":35,\\\"type\\\":\\\"CurriculumPrerequisite\\\"}],\\\"name\\\":\\\" \\\",\\\"metrics\\\":{\\\"complexity\\\":3.0,\\\"centrality\\\":0,\\\"blocking factor\\\":0,\\\"delay factor\\\":3.0},\\\"nameSub\\\":\\\"AGSC 415\\\",\\\"id\\\":35,\\\"credits\\\":3,\\\"nameCanonical\\\":\\\"\\\"},{\\\"curriculum_requisites\\\":[],\\\"name\\\":\\\" \\\",\\\"metrics\\\":{\\\"complexity\\\":1.0,\\\"centrality\\\":0,\\\"blocking factor\\\":0,\\\"delay factor\\\":1.0},\\\"nameSub\\\":\\\"Elective\\\",\\\"id\\\":36,\\\"credits\\\":6,\\\"nameCanonical\\\":\\\"\\\"}],\\\"id\\\":7},{\\\"name\\\":\\\"Term 8\\\",\\\"curriculum_items\\\":[{\\\"curriculum_requisites\\\":[{\\\"source_id\\\":32,\\\"target_id\\\":37,\\\"type\\\":\\\"CurriculumPrerequisite\\\"},{\\\"source_id\\\":3,\\\"target_id\\\":37,\\\"type\\\":\\\"CurriculumPrerequisite\\\"}],\\\"name\\\":\\\" \\\",\\\"metrics\\\":{\\\"complexity\\\":8.0,\\\"centrality\\\":0,\\\"blocking factor\\\":0,\\\"delay factor\\\":8.0},\\\"nameSub\\\":\\\"AGSC 410\\\",\\\"id\\\":37,\\\"credits\\\":3,\\\"nameCanonical\\\":\\\"\\\"},{\\\"curriculum_requisites\\\":[{\\\"source_id\\\":19,\\\"target_id\\\":38,\\\"type\\\":\\\"CurriculumPrerequisite\\\"}],\\\"name\\\":\\\" \\\",\\\"metrics\\\":{\\\"complexity\\\":7.0,\\\"centrality\\\":0,\\\"blocking factor\\\":0,\\\"delay factor\\\":7.0},\\\"nameSub\\\":\\\"VM 475\\\",\\\"id\\\":38,\\\"credits\\\":3,\\\"nameCanonical\\\":\\\"\\\"},{\\\"curriculum_requisites\\\":[],\\\"name\\\":\\\" \\\",\\\"metrics\\\":{\\\"complexity\\\":1.0,\\\"centrality\\\":0,\\\"blocking factor\\\":0,\\\"delay factor\\\":1.0},\\\"nameSub\\\":\\\"Electives\\\",\\\"id\\\":39,\\\"credits\\\":6,\\\"nameCanonical\\\":\\\"\\\"}],\\\"id\\\":8}],\\\"institution\\\":\\\"University of Nevada-Reno\\\"}},\\\"*\\\"); window.removeEventListener(\\\"message\\\",window.messageReceived); window.messageReceived=(function (event){return (event.data.curriculum!==undefined) ? (WebIO.setval({\\\"name\\\":\\\"curriculum-data\\\",\\\"scope\\\":\\\"644089127279214502\\\",\\\"id\\\":\\\"4812524561297704311\\\",\\\"type\\\":\\\"observable\\\"},event.data.curriculum)) : undefined}); return window.addEventListener(\\\"message\\\",window.messageReceived)})\")),:style => Dict(:padding => \"0\",:height => \"100vh\",:margin => \"0\",:border => \"none\",:width => \"100%\"))), Dict{String,Tuple{Observables.AbstractObservable,Union{Nothing, Bool}}}(\"curriculum-data\" => (Observable{Dict{String,Any}} with 1 listeners. Value:\n",
       "Dict{String,Any}(\"options\" => Dict{String,Any}(\"hideTerms\" => false,\"edit\" => false),\"curriculum\" => Dict{String,Any}(\"name\" => \"Animal Science\",\"dp_name\" => \"4-Year Plan\",\"curriculum_terms\" => Dict{String,Any}[Dict(\"name\" => \"Term 1\",\"curriculum_items\" => Dict{String,Any}[Dict(\"curriculum_requisites\" => Dict{String,Any}[],\"name\" => \" \",\"metrics\" => Dict{String,Any}(\"complexity\" => 6.0,\"centrality\" => 0,\"blocking factor\" => 3,\"delay factor\" => 3.0),\"nameSub\" => \"ENG 101\",\"id\" => 1,\"credits\" => 3,\"nameCanonical\" => \"\"), Dict(\"curriculum_requisites\" => Dict{String,Any}[],\"name\" => \" \",\"metrics\" => Dict{String,Any}(\"complexity\" => 30.0,\"centrality\" => 0,\"blocking factor\" => 22,\"delay factor\" => 8.0),\"nameSub\" => \"MATH 126\",\"id\" => 2,\"credits\" => 3,\"nameCanonical\" => \"\"), Dict(\"curriculum_requisites\" => Dict{String,Any}[],\"name\" => \" \",\"metrics\" => Dict{String,Any}(\"complexity\" => 8.0,\"centrality\" => 0,\"blocking factor\" => 5,\"delay factor\" => 3.0),\"nameSub\" => \"AGSC 100\",\"id\" => 3,\"credits\" => 3,\"nameCanonical\" => \"\"), Dict(\"curriculum_requisites\" => Dict{String,Any}[Dict(\"source_id\" => 2,\"target_id\" => 4,\"type\" => \"CurriculumCorequisite\")],\"name\" => \" \",\"metrics\" => Dict{String,Any}(\"complexity\" => 2.0,\"centrality\" => 0,\"blocking factor\" => 0,\"delay factor\" => 2.0),\"nameSub\" => \"ECON 102\",\"id\" => 4,\"credits\" => 3,\"nameCanonical\" => \"\"), Dict(\"curriculum_requisites\" => Dict{String,Any}[],\"name\" => \" \",\"metrics\" => Dict{String,Any}(\"complexity\" => 1.0,\"centrality\" => 0,\"blocking factor\" => 0,\"delay factor\" => 1.0),\"nameSub\" => \"Fine Arts\",\"id\" => 5,\"credits\" => 3,\"nameCanonical\" => \"\")],\"id\" => 1), Dict(\"name\" => \"Term 2\",\"curriculum_items\" => Dict{String,Any}[Dict(\"curriculum_requisites\" => Dict{String,Any}[Dict(\"source_id\" => 7,\"target_id\" => 6,\"type\" => \"CurriculumCorequisite\"), Dict(\"source_id\" => 9,\"target_id\" => 6,\"type\" => \"CurriculumCorequisite\"), Dict(\"source_id\" => 2,\"target_id\" => 6,\"type\" => \"CurriculumPrerequisite\")],\"name\" => \" \",\"metrics\" => Dict{String,Any}(\"complexity\" => 25.0,\"centrality\" => 576,\"blocking factor\" => 17,\"delay factor\" => 8.0),\"nameSub\" => \"CHEM 121A\",\"id\" => 6,\"credits\" => 3,\"nameCanonical\" => \"\"), Dict(\"curriculum_requisites\" => Dict{String,Any}[Dict(\"source_id\" => 9,\"target_id\" => 7,\"type\" => \"CurriculumCorequisite\"), Dict(\"source_id\" => 2,\"target_id\" => 7,\"type\" => \"CurriculumPrerequisite\")],\"name\" => \" \",\"metrics\" => Dict{String,Any}(\"complexity\" => 26.0,\"centrality\" => 576,\"blocking factor\" => 18,\"delay factor\" => 8.0),\"nameSub\" => \"CHEM 121L\",\"id\" => 7,\"credits\" => 1,\"nameCanonical\" => \"\"), Dict(\"curriculum_requisites\" => Dict{String,Any}[Dict(\"source_id\" => 1,\"target_id\" => 8,\"type\" => \"CurriculumPrerequisite\")],\"name\" => \" \",\"metrics\" => Dict{String,Any}(\"complexity\" => 4.0,\"centrality\" => 3,\"blocking factor\" => 1,\"delay factor\" => 3.0),\"nameSub\" => \"ENG 102\",\"id\" => 8,\"credits\" => 3,\"nameCanonical\" => \"\"), Dict(\"curriculum_requisites\" => Dict{String,Any}[Dict(\"source_id\" => 2,\"target_id\" => 9,\"type\" => \"CurriculumPrerequisite\")],\"name\" => \" \",\"metrics\" => Dict{String,Any}(\"complexity\" => 27.0,\"centrality\" => 502,\"blocking factor\" => 19,\"delay factor\" => 8.0),\"nameSub\" => \"MATH 127\",\"id\" => 9,\"credits\" => 3,\"nameCanonical\" => \"\"), Dict(\"curriculum_requisites\" => Dict{String,Any}[],\"name\" => \" \",\"metrics\" => Dict{String,Any}(\"complexity\" => 1.0,\"centrality\" => 0,\"blocking factor\" => 0,\"delay factor\" => 1.0),\"nameSub\" => \"Elective\",\"id\" => 10,\"credits\" => 3,\"nameCanonical\" => \"\"), Dict(\"curriculum_requisites\" => Dict{String,Any}[],\"name\" => \" \",\"metrics\" => Dict{String,Any}(\"complexity\" => 1.0,\"centrality\" => 0,\"blocking factor\" => 0,\"delay factor\" => 1.0),\"nameSub\" => \"AGSC 211\",\"id\" => 11,\"credits\" => 3,\"nameCanonical\" => \"\")],\"id\" => 2), Dict(\"name\" => \"Term 3\",\"curriculum_items\" => Dict{String,Any}[Dict(\"curriculum_requisites\" => Dict{String,Any}[Dict(\"source_id\" => 2,\"target_id\" => 12,\"type\" => \"CurriculumPrerequisite\")],\"name\" => \" \",\"metrics\" => Dict{String,Any}(\"complexity\" => 2.0,\"centrality\" => 0,\"blocking factor\" => 0,\"delay factor\" => 2.0),\"nameSub\" => \"APST 207\",\"id\" => 12,\"credits\" => 3,\"nameCanonical\" => \"\"), Dict(\"curriculum_requisites\" => Dict{String,Any}[Dict(\"source_id\" => 7,\"target_id\" => 13,\"type\" => \"CurriculumPrerequisite\"), Dict(\"source_id\" => 6,\"target_id\" => 13,\"type\" => \"CurriculumPrerequisite\")],\"name\" => \" \",\"metrics\" => Dict{String,Any}(\"complexity\" => 17.0,\"centrality\" => 379,\"blocking factor\" => 9,\"delay factor\" => 8.0),\"nameSub\" => \"BIOL 190\",\"id\" => 13,\"credits\" => 3,\"nameCanonical\" => \"\"), Dict(\"curriculum_requisites\" => Dict{String,Any}[Dict(\"source_id\" => 7,\"target_id\" => 14,\"type\" => \"CurriculumPrerequisite\"), Dict(\"source_id\" => 9,\"target_id\" => 14,\"type\" => \"CurriculumPrerequisite\"), Dict(\"source_id\" => 15,\"target_id\" => 14,\"type\" => \"CurriculumCorequisite\"), Dict(\"source_id\" => 6,\"target_id\" => 14,\"type\" => \"CurriculumPrerequisite\")],\"name\" => \" \",\"metrics\" => Dict{String,Any}(\"complexity\" => 12.0,\"centrality\" => 247,\"blocking factor\" => 4,\"delay factor\" => 8.0),\"nameSub\" => \"CHEM 122A\",\"id\" => 14,\"credits\" => 3,\"nameCanonical\" => \"\"), Dict(\"curriculum_requisites\" => Dict{String,Any}[Dict(\"source_id\" => 7,\"target_id\" => 15,\"type\" => \"CurriculumPrerequisite\"), Dict(\"source_id\" => 9,\"target_id\" => 15,\"type\" => \"CurriculumPrerequisite\"), Dict(\"source_id\" => 6,\"target_id\" => 15,\"type\" => \"CurriculumPrerequisite\")],\"name\" => \" \",\"metrics\" => Dict{String,Any}(\"complexity\" => 13.0,\"centrality\" => 247,\"blocking factor\" => 5,\"delay factor\" => 8.0),\"nameSub\" => \"CHEM 122L\",\"id\" => 15,\"credits\" => 1,\"nameCanonical\" => \"\"), Dict(\"curriculum_requisites\" => Dict{String,Any}[Dict(\"source_id\" => 1,\"target_id\" => 16,\"type\" => \"CurriculumPrerequisite\")],\"name\" => \" \",\"metrics\" => Dict{String,Any}(\"complexity\" => 4.0,\"centrality\" => 3,\"blocking factor\" => 1,\"delay factor\" => 3.0),\"nameSub\" => \"CH 201\",\"id\" => 16,\"credits\" => 3,\"nameCanonical\" => \"\"), Dict(\"curriculum_requisites\" => Dict{String,Any}[],\"name\" => \" \",\"metrics\" => Dict{String,Any}(\"complexity\" => 1.0,\"centrality\" => 0,\"blocking factor\" => 0,\"delay factor\" => 1.0),\"nameSub\" => \"CH 203\",\"id\" => 17,\"credits\" => 3,\"nameCanonical\" => \"\")],\"id\" => 3), Dict(\"name\" => \"Term 4\",\"curriculum_items\" => Dict{String,Any}[Dict(\"curriculum_requisites\" => Dict{String,Any}[Dict(\"source_id\" => 7,\"target_id\" => 18,\"type\" => \"CurriculumPrerequisite\"), Dict(\"source_id\" => 14,\"target_id\" => 18,\"type\" => \"CurriculumPrerequisite\"), Dict(\"source_id\" => 3,\"target_id\" => 18,\"type\" => \"CurriculumPrerequisite\"), Dict(\"source_id\" => 15,\"target_id\" => 18,\"type\" => \"CurriculumPrerequisite\"), Dict(\"source_id\" => 6,\"target_id\" => 18,\"type\" => \"CurriculumPrerequisite\")],\"name\" => \" \",\"metrics\" => Dict{String,Any}(\"complexity\" => 10.0,\"centrality\" => 318,\"blocking factor\" => 2,\"delay factor\" => 8.0),\"nameSub\" => \"AGSC 206\",\"id\" => 18,\"credits\" => 3,\"nameCanonical\" => \"\"), Dict(\"curriculum_requisites\" => Dict{String,Any}[Dict(\"source_id\" => 13,\"target_id\" => 19,\"type\" => \"CurriculumPrerequisite\")],\"name\" => \" \",\"metrics\" => Dict{String,Any}(\"complexity\" => 15.0,\"centrality\" => 222,\"blocking factor\" => 7,\"delay factor\" => 8.0),\"nameSub\" => \"BIOL 191\",\"id\" => 19,\"credits\" => 3,\"nameCanonical\" => \"\"), Dict(\"curriculum_requisites\" => Dict{String,Any}[Dict(\"source_id\" => 13,\"target_id\" => 20,\"type\" => \"CurriculumPrerequisite\"), Dict(\"source_id\" => 19,\"target_id\" => 20,\"type\" => \"CurriculumCorequisite\")],\"name\" => \" \",\"metrics\" => Dict{String,Any}(\"complexity\" => 7.0,\"centrality\" => 0,\"blocking factor\" => 0,\"delay factor\" => 7.0),\"nameSub\" => \"BIOL 192\",\"id\" => 20,\"credits\" => 2,\"nameCanonical\" => \"\"), Dict(\"curriculum_requisites\" => Dict{String,Any}[Dict(\"source_id\" => 3,\"target_id\" => 21,\"type\" => \"CurriculumPrerequisite\")],\"name\" => \" \",\"metrics\" => Dict{String,Any}(\"complexity\" => 2.0,\"centrality\" => 0,\"blocking factor\" => 0,\"delay factor\" => 2.0),\"nameSub\" => \"NRES 241\",\"id\" => 21,\"credits\" => 3,\"nameCanonical\" => \"\"), Dict(\"curriculum_requisites\" => Dict{String,Any}[Dict(\"source_id\" => 13,\"target_id\" => 22,\"type\" => \"CurriculumPrerequisite\"), Dict(\"source_id\" => 14,\"target_id\" => 22,\"type\" => \"CurriculumPrerequisite\"), Dict(\"source_id\" => 19,\"target_id\" => 22,\"type\" => \"CurriculumCorequisite\"), Dict(\"source_id\" => 15,\"target_id\" => 22,\"type\" => \"CurriculumPrerequisite\")],\"name\" => \" \",\"metrics\" => Dict{String,Any}(\"complexity\" => 7.0,\"centrality\" => 0,\"blocking factor\" => 0,\"delay factor\" => 7.0),\"nameSub\" => \"AGSC 211\",\"id\" => 22,\"credits\" => 3,\"nameCanonical\" => \"\")],\"id\" => 4), Dict(\"name\" => \"Term 5\",\"curriculum_items\" => Dict{String,Any}[Dict(\"curriculum_requisites\" => Dict{String,Any}[],\"name\" => \" \",\"metrics\" => Dict{String,Any}(\"complexity\" => 1.0,\"centrality\" => 0,\"blocking factor\" => 0,\"delay factor\" => 1.0),\"nameSub\" => \"AGSC 250\",\"id\" => 23,\"credits\" => 3,\"nameCanonical\" => \"\"), Dict(\"curriculum_requisites\" => Dict{String,Any}[],\"name\" => \" \",\"metrics\" => Dict{String,Any}(\"complexity\" => 1.0,\"centrality\" => 0,\"blocking factor\" => 0,\"delay factor\" => 1.0),\"nameSub\" => \"AGSC 416\",\"id\" => 24,\"credits\" => 3,\"nameCanonical\" => \"\"), Dict(\"curriculum_requisites\" => Dict{String,Any}[],\"name\" => \" \",\"metrics\" => Dict{String,Any}(\"complexity\" => 1.0,\"centrality\" => 0,\"blocking factor\" => 0,\"delay factor\" => 1.0),\"nameSub\" => \"NUTR 325\",\"id\" => 25,\"credits\" => 3,\"nameCanonical\" => \"\"), Dict(\"curriculum_requisites\" => Dict{String,Any}[Dict(\"source_id\" => 7,\"target_id\" => 26,\"type\" => \"CurriculumPrerequisite\"), Dict(\"source_id\" => 6,\"target_id\" => 26,\"type\" => \"CurriculumPrerequisite\")],\"name\" => \" \",\"metrics\" => Dict{String,Any}(\"complexity\" => 9.0,\"centrality\" => 87,\"blocking factor\" => 3,\"delay factor\" => 6.0),\"nameSub\" => \"CHEM 220A\",\"id\" => 26,\"credits\" => 3,\"nameCanonical\" => \"\"), Dict(\"curriculum_requisites\" => Dict{String,Any}[Dict(\"source_id\" => 26,\"target_id\" => 27,\"type\" => \"CurriculumCorequisite\")],\"name\" => \" \",\"metrics\" => Dict{String,Any}(\"complexity\" => 6.0,\"centrality\" => 0,\"blocking factor\" => 0,\"delay factor\" => 6.0),\"nameSub\" => \"CHEM 220L\",\"id\" => 27,\"credits\" => 1,\"nameCanonical\" => \"\"), Dict(\"curriculum_requisites\" => Dict{String,Any}[],\"name\" => \" \",\"metrics\" => Dict{String,Any}(\"complexity\" => 1.0,\"centrality\" => 0,\"blocking factor\" => 0,\"delay factor\" => 1.0),\"nameSub\" => \"Elective\",\"id\" => 28,\"credits\" => 3,\"nameCanonical\" => \"\")],\"id\" => 5), Dict(\"name\" => \"Term 6\",\"curriculum_items\" => Dict{String,Any}[Dict(\"curriculum_requisites\" => Dict{String,Any}[Dict(\"source_id\" => 19,\"target_id\" => 29,\"type\" => \"CurriculumPrerequisite\")],\"name\" => \" \",\"metrics\" => Dict{String,Any}(\"complexity\" => 7.0,\"centrality\" => 0,\"blocking factor\" => 0,\"delay factor\" => 7.0),\"nameSub\" => \"AGSC 325\",\"id\" => 29,\"credits\" => 3,\"nameCanonical\" => \"\"), Dict(\"curriculum_requisites\" => Dict{String,Any}[Dict(\"source_id\" => 3,\"target_id\" => 30,\"type\" => \"CurriculumPrerequisite\"), Dict(\"source_id\" => 18,\"target_id\" => 30,\"type\" => \"CurriculumPrerequisite\")],\"name\" => \" \",\"metrics\" => Dict{String,Any}(\"complexity\" => 8.0,\"centrality\" => 0,\"blocking factor\" => 0,\"delay factor\" => 8.0),\"nameSub\" => \"AGSC 425\",\"id\" => 30,\"credits\" => 4,\"nameCanonical\" => \"\"), Dict(\"curriculum_requisites\" => Dict{String,Any}[Dict(\"source_id\" => 26,\"target_id\" => 31,\"type\" => \"CurriculumPrerequisite\"), Dict(\"source_id\" => 13,\"target_id\" => 31,\"type\" => \"CurriculumPrerequisite\")],\"name\" => \" \",\"metrics\" => Dict{String,Any}(\"complexity\" => 6.0,\"centrality\" => 0,\"blocking factor\" => 0,\"delay factor\" => 6.0),\"nameSub\" => \"BCH 400\",\"id\" => 31,\"credits\" => 4,\"nameCanonical\" => \"\"), Dict(\"curriculum_requisites\" => Dict{String,Any}[Dict(\"source_id\" => 13,\"target_id\" => 32,\"type\" => \"CurriculumPrerequisite\"), Dict(\"source_id\" => 19,\"target_id\" => 32,\"type\" => \"CurriculumPrerequisite\")],\"name\" => \" \",\"metrics\" => Dict{String,Any}(\"complexity\" => 10.0,\"centrality\" => 152,\"blocking factor\" => 2,\"delay factor\" => 8.0),\"nameSub\" => \"VM 328\",\"id\" => 32,\"credits\" => 4,\"nameCanonical\" => \"\")],\"id\" => 6), Dict(\"name\" => \"Term 7\",\"curriculum_items\" => Dict{String,Any}[Dict(\"curriculum_requisites\" => Dict{String,Any}[Dict(\"source_id\" => 32,\"target_id\" => 33,\"type\" => \"CurriculumCorequisite\")],\"name\" => \" \",\"metrics\" => Dict{String,Any}(\"complexity\" => 8.0,\"centrality\" => 0,\"blocking factor\" => 0,\"delay factor\" => 8.0),\"nameSub\" => \"AGSC 310\",\"id\" => 33,\"credits\" => 3,\"nameCanonical\" => \"\"), Dict(\"curriculum_requisites\" => Dict{String,Any}[Dict(\"source_id\" => 26,\"target_id\" => 34,\"type\" => \"CurriculumPrerequisite\"), Dict(\"source_id\" => 18,\"target_id\" => 34,\"type\" => \"CurriculumPrerequisite\")],\"name\" => \" \",\"metrics\" => Dict{String,Any}(\"complexity\" => 8.0,\"centrality\" => 0,\"blocking factor\" => 0,\"delay factor\" => 8.0),\"nameSub\" => \"AGSC 406\",\"id\" => 34,\"credits\" => 4,\"nameCanonical\" => \"\"), Dict(\"curriculum_requisites\" => Dict{String,Any}[Dict(\"source_id\" => 16,\"target_id\" => 35,\"type\" => \"CurriculumPrerequisite\"), Dict(\"source_id\" => 8,\"target_id\" => 35,\"type\" => \"CurriculumPrerequisite\")],\"name\" => \" \",\"metrics\" => Dict{String,Any}(\"complexity\" => 3.0,\"centrality\" => 0,\"blocking factor\" => 0,\"delay factor\" => 3.0),\"nameSub\" => \"AGSC 415\",\"id\" => 35,\"credits\" => 3,\"nameCanonical\" => \"\"), Dict(\"curriculum_requisites\" => Dict{String,Any}[],\"name\" => \" \",\"metrics\" => Dict{String,Any}(\"complexity\" => 1.0,\"centrality\" => 0,\"blocking factor\" => 0,\"delay factor\" => 1.0),\"nameSub\" => \"Elective\",\"id\" => 36,\"credits\" => 6,\"nameCanonical\" => \"\")],\"id\" => 7), Dict(\"name\" => \"Term 8\",\"curriculum_items\" => Dict{String,Any}[Dict(\"curriculum_requisites\" => Dict{String,Any}[Dict(\"source_id\" => 32,\"target_id\" => 37,\"type\" => \"CurriculumPrerequisite\"), Dict(\"source_id\" => 3,\"target_id\" => 37,\"type\" => \"CurriculumPrerequisite\")],\"name\" => \" \",\"metrics\" => Dict{String,Any}(\"complexity\" => 8.0,\"centrality\" => 0,\"blocking factor\" => 0,\"delay factor\" => 8.0),\"nameSub\" => \"AGSC 410\",\"id\" => 37,\"credits\" => 3,\"nameCanonical\" => \"\"), Dict(\"curriculum_requisites\" => Dict{String,Any}[Dict(\"source_id\" => 19,\"target_id\" => 38,\"type\" => \"CurriculumPrerequisite\")],\"name\" => \" \",\"metrics\" => Dict{String,Any}(\"complexity\" => 7.0,\"centrality\" => 0,\"blocking factor\" => 0,\"delay factor\" => 7.0),\"nameSub\" => \"VM 475\",\"id\" => 38,\"credits\" => 3,\"nameCanonical\" => \"\"), Dict(\"curriculum_requisites\" => Dict{String,Any}[],\"name\" => \" \",\"metrics\" => Dict{String,Any}(\"complexity\" => 1.0,\"centrality\" => 0,\"blocking factor\" => 0,\"delay factor\" => 1.0),\"nameSub\" => \"Electives\",\"id\" => 39,\"credits\" => 6,\"nameCanonical\" => \"\")],\"id\" => 8)],\"institution\" => \"University of Nevada-Reno\")), nothing)), Set{String}(), nothing, WebIO.Asset[], Dict{Any,Any}(), WebIO.ConnectionPool(Channel{Any}(sz_max:32,sz_curr:0), Set{WebIO.AbstractConnection}(), Base.GenericCondition{Base.AlwaysLockedST}(Base.InvasiveLinkedList{Task}(Task (runnable) @0x0000000141494490, Task (runnable) @0x0000000141494490), Base.AlwaysLockedST(1))), WebIO.JSString[])"
      ]
     },
     "execution_count": 8,
     "metadata": {
      "application/vnd.webio.node+json": {
       "kernelId": "662f37b6-e905-497d-a539-49accc690147"
      }
     },
     "output_type": "execute_result"
    }
   ],
   "source": [
    "dp = schools_plans[\"university-of-nevada-reno\"][\"animal-science\"]\n",
    "visualize(dp, notebook=true)"
   ]
  },
  {
   "cell_type": "code",
   "execution_count": 10,
   "metadata": {
    "scrolled": false
   },
   "outputs": [
    {
     "data": {
      "application/vnd.webio.node+json": {
       "children": [
        {
         "children": [
          ""
         ],
         "instanceArgs": {
          "namespace": "html",
          "tag": "iframe"
         },
         "nodeType": "DOM",
         "props": {
          "events": {
           "load": "(function (){this.contentWindow.postMessage({\"options\":{\"hideTerms\":false,\"edit\":false},\"curriculum\":{\"name\":\"Animal Science (Equine)\",\"dp_name\":\"4-Year Plan\",\"curriculum_terms\":[{\"name\":\"Term 1\",\"curriculum_items\":[{\"curriculum_requisites\":[],\"name\":\" \",\"metrics\":{\"complexity\":1.0,\"centrality\":0,\"blocking factor\":0,\"delay factor\":1.0},\"nameSub\":\"ADVS 1110\",\"id\":1,\"credits\":4,\"nameCanonical\":\"\"},{\"curriculum_requisites\":[],\"name\":\" \",\"metrics\":{\"complexity\":9.0,\"centrality\":0,\"blocking factor\":5,\"delay factor\":4.0},\"nameSub\":\"BIOL 1610\",\"id\":2,\"credits\":3,\"nameCanonical\":\"\"},{\"curriculum_requisites\":[],\"name\":\" \",\"metrics\":{\"complexity\":1.0,\"centrality\":0,\"blocking factor\":0,\"delay factor\":1.0},\"nameSub\":\"BIOL 1615\",\"id\":3,\"credits\":1,\"nameCanonical\":\"\"},{\"curriculum_requisites\":[],\"name\":\" \",\"metrics\":{\"complexity\":3.0,\"centrality\":0,\"blocking factor\":1,\"delay factor\":2.0},\"nameSub\":\"ENGL 1010\",\"id\":4,\"credits\":3,\"nameCanonical\":\"\"},{\"curriculum_requisites\":[],\"name\":\" \",\"metrics\":{\"complexity\":1.0,\"centrality\":0,\"blocking factor\":0,\"delay factor\":1.0},\"nameSub\":\"MATH 1050\",\"id\":5,\"credits\":4,\"nameCanonical\":\"\"},{\"curriculum_requisites\":[],\"name\":\" \",\"metrics\":{\"complexity\":1.0,\"centrality\":0,\"blocking factor\":0,\"delay factor\":1.0},\"nameSub\":\"ADVS 1050\",\"id\":6,\"credits\":1,\"nameCanonical\":\"\"}],\"id\":1},{\"name\":\"Term 2\",\"curriculum_items\":[{\"curriculum_requisites\":[],\"name\":\" \",\"metrics\":{\"complexity\":1.0,\"centrality\":0,\"blocking factor\":0,\"delay factor\":1.0},\"nameSub\":\"ADVS 1600\",\"id\":7,\"credits\":3,\"nameCanonical\":\"\"},{\"curriculum_requisites\":[],\"name\":\" \",\"metrics\":{\"complexity\":3.0,\"centrality\":0,\"blocking factor\":1,\"delay factor\":2.0},\"nameSub\":\"ADVS 2190\",\"id\":8,\"credits\":3,\"nameCanonical\":\"\"},{\"curriculum_requisites\":[{\"source_id\":2,\"target_id\":9,\"type\":\"CurriculumPrerequisite\"}],\"name\":\" \",\"metrics\":{\"complexity\":8.0,\"centrality\":11,\"blocking factor\":4,\"delay factor\":4.0},\"nameSub\":\"BIOL 1620\",\"id\":9,\"credits\":3,\"nameCanonical\":\"\"},{\"curriculum_requisites\":[],\"name\":\" \",\"metrics\":{\"complexity\":1.0,\"centrality\":0,\"blocking factor\":0,\"delay factor\":1.0},\"nameSub\":\"BIOL 1625\",\"id\":10,\"credits\":1,\"nameCanonical\":\"\"},{\"curriculum_requisites\":[],\"name\":\" \",\"metrics\":{\"complexity\":1.0,\"centrality\":0,\"blocking factor\":0,\"delay factor\":1.0},\"nameSub\":\"STAT 1040\",\"id\":11,\"credits\":3,\"nameCanonical\":\"\"},{\"curriculum_requisites\":[],\"name\":\" \",\"metrics\":{\"complexity\":1.0,\"centrality\":0,\"blocking factor\":0,\"delay factor\":1.0},\"nameSub\":\"Elective 1\",\"id\":12,\"credits\":2,\"nameCanonical\":\"\"}],\"id\":2},{\"name\":\"Term 3\",\"curriculum_items\":[{\"curriculum_requisites\":[{\"source_id\":8,\"target_id\":13,\"type\":\"CurriculumPrerequisite\"}],\"name\":\" \",\"metrics\":{\"complexity\":2.0,\"centrality\":0,\"blocking factor\":0,\"delay factor\":2.0},\"nameSub\":\"ADVS 2300\",\"id\":13,\"credits\":2,\"nameCanonical\":\"\"},{\"curriculum_requisites\":[],\"name\":\" \",\"metrics\":{\"complexity\":3.0,\"centrality\":0,\"blocking factor\":1,\"delay factor\":2.0},\"nameSub\":\"CHEM 1210\",\"id\":14,\"credits\":4,\"nameCanonical\":\"\"},{\"curriculum_requisites\":[],\"name\":\" \",\"metrics\":{\"complexity\":1.0,\"centrality\":0,\"blocking factor\":0,\"delay factor\":1.0},\"nameSub\":\"CHEM 1215\",\"id\":15,\"credits\":1,\"nameCanonical\":\"\"},{\"curriculum_requisites\":[],\"name\":\" \",\"metrics\":{\"complexity\":1.0,\"centrality\":0,\"blocking factor\":0,\"delay factor\":1.0},\"nameSub\":\"APEC 1600\",\"id\":16,\"credits\":3,\"nameCanonical\":\"\"},{\"curriculum_requisites\":[],\"name\":\" \",\"metrics\":{\"complexity\":1.0,\"centrality\":0,\"blocking factor\":0,\"delay factor\":1.0},\"nameSub\":\"LAEP 1030\",\"id\":17,\"credits\":3,\"nameCanonical\":\"\"},{\"curriculum_requisites\":[],\"name\":\" \",\"metrics\":{\"complexity\":1.0,\"centrality\":0,\"blocking factor\":0,\"delay factor\":1.0},\"nameSub\":\"Elective 2\",\"id\":18,\"credits\":2,\"nameCanonical\":\"\"}],\"id\":3},{\"name\":\"Term 4\",\"curriculum_items\":[{\"curriculum_requisites\":[{\"source_id\":9,\"target_id\":19,\"type\":\"CurriculumPrerequisite\"}],\"name\":\" \",\"metrics\":{\"complexity\":6.0,\"centrality\":8,\"blocking factor\":2,\"delay factor\":4.0},\"nameSub\":\"ADVS 2200\",\"id\":19,\"credits\":4,\"nameCanonical\":\"\"},{\"curriculum_requisites\":[],\"name\":\" \",\"metrics\":{\"complexity\":1.0,\"centrality\":0,\"blocking factor\":0,\"delay factor\":1.0},\"nameSub\":\"APEC 2010\",\"id\":20,\"credits\":3,\"nameCanonical\":\"\"},{\"curriculum_requisites\":[{\"source_id\":14,\"target_id\":21,\"type\":\"CurriculumPrerequisite\"}],\"name\":\" \",\"metrics\":{\"complexity\":2.0,\"centrality\":0,\"blocking factor\":0,\"delay factor\":2.0},\"nameSub\":\"CHEM 1220\",\"id\":21,\"credits\":4,\"nameCanonical\":\"\"},{\"curriculum_requisites\":[],\"name\":\" \",\"metrics\":{\"complexity\":1.0,\"centrality\":0,\"blocking factor\":0,\"delay factor\":1.0},\"nameSub\":\"CHEM 1225\",\"id\":22,\"credits\":1,\"nameCanonical\":\"\"},{\"curriculum_requisites\":[{\"source_id\":4,\"target_id\":23,\"type\":\"CurriculumPrerequisite\"}],\"name\":\" \",\"metrics\":{\"complexity\":2.0,\"centrality\":0,\"blocking factor\":0,\"delay factor\":2.0},\"nameSub\":\"Engl 2010\",\"id\":23,\"credits\":3,\"nameCanonical\":\"\"}],\"id\":4},{\"name\":\"Term 5\",\"curriculum_items\":[{\"curriculum_requisites\":[],\"name\":\" \",\"metrics\":{\"complexity\":1.0,\"centrality\":0,\"blocking factor\":0,\"delay factor\":1.0},\"nameSub\":\"ADVS 2500\",\"id\":24,\"credits\":3,\"nameCanonical\":\"\"},{\"curriculum_requisites\":[],\"name\":\" \",\"metrics\":{\"complexity\":1.0,\"centrality\":0,\"blocking factor\":0,\"delay factor\":1.0},\"nameSub\":\"MGT 3530\",\"id\":25,\"credits\":3,\"nameCanonical\":\"\"},{\"curriculum_requisites\":[],\"name\":\" \",\"metrics\":{\"complexity\":1.0,\"centrality\":0,\"blocking factor\":0,\"delay factor\":1.0},\"nameSub\":\"ADVS 3520\",\"id\":26,\"credits\":3,\"nameCanonical\":\"\"},{\"curriculum_requisites\":[],\"name\":\" \",\"metrics\":{\"complexity\":1.0,\"centrality\":0,\"blocking factor\":0,\"delay factor\":1.0},\"nameSub\":\"ENGL 2240\",\"id\":27,\"credits\":3,\"nameCanonical\":\"\"},{\"curriculum_requisites\":[],\"name\":\" \",\"metrics\":{\"complexity\":1.0,\"centrality\":0,\"blocking factor\":0,\"delay factor\":1.0},\"nameSub\":\"APEC 3012\",\"id\":28,\"credits\":3,\"nameCanonical\":\"\"}],\"id\":5},{\"name\":\"Term 6\",\"curriculum_items\":[{\"curriculum_requisites\":[{\"source_id\":19,\"target_id\":29,\"type\":\"CurriculumPrerequisite\"}],\"name\":\" \",\"metrics\":{\"complexity\":4.0,\"centrality\":0,\"blocking factor\":0,\"delay factor\":4.0},\"nameSub\":\"ADVS 3000\",\"id\":29,\"credits\":3,\"nameCanonical\":\"\"},{\"curriculum_requisites\":[],\"name\":\" \",\"metrics\":{\"complexity\":1.0,\"centrality\":0,\"blocking factor\":0,\"delay factor\":1.0},\"nameSub\":\"ADVS 3100\",\"id\":30,\"credits\":3,\"nameCanonical\":\"\"},{\"curriculum_requisites\":[],\"name\":\" \",\"metrics\":{\"complexity\":1.0,\"centrality\":0,\"blocking factor\":0,\"delay factor\":1.0},\"nameSub\":\"ASTE 2830\",\"id\":31,\"credits\":3,\"nameCanonical\":\"\"},{\"curriculum_requisites\":[],\"name\":\" \",\"metrics\":{\"complexity\":1.0,\"centrality\":0,\"blocking factor\":0,\"delay factor\":1.0},\"nameSub\":\"Elective 3\",\"id\":32,\"credits\":3,\"nameCanonical\":\"\"},{\"curriculum_requisites\":[],\"name\":\" \",\"metrics\":{\"complexity\":1.0,\"centrality\":0,\"blocking factor\":0,\"delay factor\":1.0},\"nameSub\":\"Elective 4\",\"id\":33,\"credits\":3,\"nameCanonical\":\"\"}],\"id\":6},{\"name\":\"Term 7\",\"curriculum_items\":[{\"curriculum_requisites\":[{\"source_id\":19,\"target_id\":34,\"type\":\"CurriculumPrerequisite\"}],\"name\":\" \",\"metrics\":{\"complexity\":4.0,\"centrality\":0,\"blocking factor\":0,\"delay factor\":4.0},\"nameSub\":\"ADVS 4200\",\"id\":34,\"credits\":4,\"nameCanonical\":\"\"},{\"curriculum_requisites\":[],\"name\":\" \",\"metrics\":{\"complexity\":1.0,\"centrality\":0,\"blocking factor\":0,\"delay factor\":1.0},\"nameSub\":\"ADVS 4270\",\"id\":35,\"credits\":4,\"nameCanonical\":\"\"},{\"curriculum_requisites\":[{\"source_id\":9,\"target_id\":36,\"type\":\"CurriculumPrerequisite\"}],\"name\":\" \",\"metrics\":{\"complexity\":3.0,\"centrality\":0,\"blocking factor\":0,\"delay factor\":3.0},\"nameSub\":\"ADVS 4560\",\"id\":36,\"credits\":3,\"nameCanonical\":\"\"},{\"curriculum_requisites\":[],\"name\":\" \",\"metrics\":{\"complexity\":1.0,\"centrality\":0,\"blocking factor\":0,\"delay factor\":1.0},\"nameSub\":\"ADVS 4920\",\"id\":37,\"credits\":2,\"nameCanonical\":\"\"},{\"curriculum_requisites\":[],\"name\":\" \",\"metrics\":{\"complexity\":1.0,\"centrality\":0,\"blocking factor\":0,\"delay factor\":1.0},\"nameSub\":\"ADVS 5190\",\"id\":38,\"credits\":3,\"nameCanonical\":\"\"}],\"id\":7},{\"name\":\"Term 8\",\"curriculum_items\":[{\"curriculum_requisites\":[],\"name\":\" \",\"metrics\":{\"complexity\":1.0,\"centrality\":0,\"blocking factor\":0,\"delay factor\":1.0},\"nameSub\":\"APEC 3010\",\"id\":39,\"credits\":3,\"nameCanonical\":\"\"},{\"curriculum_requisites\":[],\"name\":\" \",\"metrics\":{\"complexity\":1.0,\"centrality\":0,\"blocking factor\":0,\"delay factor\":1.0},\"nameSub\":\"MGT 3500\",\"id\":40,\"credits\":3,\"nameCanonical\":\"\"},{\"curriculum_requisites\":[],\"name\":\" \",\"metrics\":{\"complexity\":1.0,\"centrality\":0,\"blocking factor\":0,\"delay factor\":1.0},\"nameSub\":\"MGT 3110\",\"id\":41,\"credits\":3,\"nameCanonical\":\"\"},{\"curriculum_requisites\":[],\"name\":\" \",\"metrics\":{\"complexity\":1.0,\"centrality\":0,\"blocking factor\":0,\"delay factor\":1.0},\"nameSub\":\"ENGL 3040\",\"id\":42,\"credits\":3,\"nameCanonical\":\"\"},{\"curriculum_requisites\":[],\"name\":\" \",\"metrics\":{\"complexity\":1.0,\"centrality\":0,\"blocking factor\":0,\"delay factor\":1.0},\"nameSub\":\"Elective 5\",\"id\":43,\"credits\":3,\"nameCanonical\":\"\"}],\"id\":8}],\"institution\":\"Utah State University\"}},\"*\"); window.removeEventListener(\"message\",window.messageReceived); window.messageReceived=(function (event){return (event.data.curriculum!==undefined) ? (WebIO.setval({\"name\":\"curriculum-data\",\"scope\":\"64121313442752630\",\"id\":\"14584118147419934612\",\"type\":\"observable\"},event.data.curriculum)) : undefined}); return window.addEventListener(\"message\",window.messageReceived)})"
          },
          "id": "curriculum",
          "src": "http://localhost:8156",
          "style": {
           "border": "none",
           "height": "100vh",
           "margin": "0",
           "padding": "0",
           "width": "100%"
          }
         },
         "type": "node"
        }
       ],
       "instanceArgs": {
        "handlers": {},
        "id": "64121313442752630",
        "imports": {
         "data": [],
         "type": "async_block"
        },
        "mount_callbacks": [],
        "observables": {
         "curriculum-data": {
          "id": "14584118147419934612",
          "sync": true,
          "value": {
           "curriculum": {
            "curriculum_terms": [
             {
              "curriculum_items": [
               {
                "credits": 4,
                "curriculum_requisites": [],
                "id": 1,
                "metrics": {
                 "blocking factor": 0,
                 "centrality": 0,
                 "complexity": 1,
                 "delay factor": 1
                },
                "name": " ",
                "nameCanonical": "",
                "nameSub": "ADVS 1110"
               },
               {
                "credits": 3,
                "curriculum_requisites": [],
                "id": 2,
                "metrics": {
                 "blocking factor": 5,
                 "centrality": 0,
                 "complexity": 9,
                 "delay factor": 4
                },
                "name": " ",
                "nameCanonical": "",
                "nameSub": "BIOL 1610"
               },
               {
                "credits": 1,
                "curriculum_requisites": [],
                "id": 3,
                "metrics": {
                 "blocking factor": 0,
                 "centrality": 0,
                 "complexity": 1,
                 "delay factor": 1
                },
                "name": " ",
                "nameCanonical": "",
                "nameSub": "BIOL 1615"
               },
               {
                "credits": 3,
                "curriculum_requisites": [],
                "id": 4,
                "metrics": {
                 "blocking factor": 1,
                 "centrality": 0,
                 "complexity": 3,
                 "delay factor": 2
                },
                "name": " ",
                "nameCanonical": "",
                "nameSub": "ENGL 1010"
               },
               {
                "credits": 4,
                "curriculum_requisites": [],
                "id": 5,
                "metrics": {
                 "blocking factor": 0,
                 "centrality": 0,
                 "complexity": 1,
                 "delay factor": 1
                },
                "name": " ",
                "nameCanonical": "",
                "nameSub": "MATH 1050"
               },
               {
                "credits": 1,
                "curriculum_requisites": [],
                "id": 6,
                "metrics": {
                 "blocking factor": 0,
                 "centrality": 0,
                 "complexity": 1,
                 "delay factor": 1
                },
                "name": " ",
                "nameCanonical": "",
                "nameSub": "ADVS 1050"
               }
              ],
              "id": 1,
              "name": "Term 1"
             },
             {
              "curriculum_items": [
               {
                "credits": 3,
                "curriculum_requisites": [],
                "id": 7,
                "metrics": {
                 "blocking factor": 0,
                 "centrality": 0,
                 "complexity": 1,
                 "delay factor": 1
                },
                "name": " ",
                "nameCanonical": "",
                "nameSub": "ADVS 1600"
               },
               {
                "credits": 3,
                "curriculum_requisites": [],
                "id": 8,
                "metrics": {
                 "blocking factor": 1,
                 "centrality": 0,
                 "complexity": 3,
                 "delay factor": 2
                },
                "name": " ",
                "nameCanonical": "",
                "nameSub": "ADVS 2190"
               },
               {
                "credits": 3,
                "curriculum_requisites": [
                 {
                  "source_id": 2,
                  "target_id": 9,
                  "type": "CurriculumPrerequisite"
                 }
                ],
                "id": 9,
                "metrics": {
                 "blocking factor": 4,
                 "centrality": 11,
                 "complexity": 8,
                 "delay factor": 4
                },
                "name": " ",
                "nameCanonical": "",
                "nameSub": "BIOL 1620"
               },
               {
                "credits": 1,
                "curriculum_requisites": [],
                "id": 10,
                "metrics": {
                 "blocking factor": 0,
                 "centrality": 0,
                 "complexity": 1,
                 "delay factor": 1
                },
                "name": " ",
                "nameCanonical": "",
                "nameSub": "BIOL 1625"
               },
               {
                "credits": 3,
                "curriculum_requisites": [],
                "id": 11,
                "metrics": {
                 "blocking factor": 0,
                 "centrality": 0,
                 "complexity": 1,
                 "delay factor": 1
                },
                "name": " ",
                "nameCanonical": "",
                "nameSub": "STAT 1040"
               },
               {
                "credits": 2,
                "curriculum_requisites": [],
                "id": 12,
                "metrics": {
                 "blocking factor": 0,
                 "centrality": 0,
                 "complexity": 1,
                 "delay factor": 1
                },
                "name": " ",
                "nameCanonical": "",
                "nameSub": "Elective 1"
               }
              ],
              "id": 2,
              "name": "Term 2"
             },
             {
              "curriculum_items": [
               {
                "credits": 2,
                "curriculum_requisites": [
                 {
                  "source_id": 8,
                  "target_id": 13,
                  "type": "CurriculumPrerequisite"
                 }
                ],
                "id": 13,
                "metrics": {
                 "blocking factor": 0,
                 "centrality": 0,
                 "complexity": 2,
                 "delay factor": 2
                },
                "name": " ",
                "nameCanonical": "",
                "nameSub": "ADVS 2300"
               },
               {
                "credits": 4,
                "curriculum_requisites": [],
                "id": 14,
                "metrics": {
                 "blocking factor": 1,
                 "centrality": 0,
                 "complexity": 3,
                 "delay factor": 2
                },
                "name": " ",
                "nameCanonical": "",
                "nameSub": "CHEM 1210"
               },
               {
                "credits": 1,
                "curriculum_requisites": [],
                "id": 15,
                "metrics": {
                 "blocking factor": 0,
                 "centrality": 0,
                 "complexity": 1,
                 "delay factor": 1
                },
                "name": " ",
                "nameCanonical": "",
                "nameSub": "CHEM 1215"
               },
               {
                "credits": 3,
                "curriculum_requisites": [],
                "id": 16,
                "metrics": {
                 "blocking factor": 0,
                 "centrality": 0,
                 "complexity": 1,
                 "delay factor": 1
                },
                "name": " ",
                "nameCanonical": "",
                "nameSub": "APEC 1600"
               },
               {
                "credits": 3,
                "curriculum_requisites": [],
                "id": 17,
                "metrics": {
                 "blocking factor": 0,
                 "centrality": 0,
                 "complexity": 1,
                 "delay factor": 1
                },
                "name": " ",
                "nameCanonical": "",
                "nameSub": "LAEP 1030"
               },
               {
                "credits": 2,
                "curriculum_requisites": [],
                "id": 18,
                "metrics": {
                 "blocking factor": 0,
                 "centrality": 0,
                 "complexity": 1,
                 "delay factor": 1
                },
                "name": " ",
                "nameCanonical": "",
                "nameSub": "Elective 2"
               }
              ],
              "id": 3,
              "name": "Term 3"
             },
             {
              "curriculum_items": [
               {
                "credits": 4,
                "curriculum_requisites": [
                 {
                  "source_id": 9,
                  "target_id": 19,
                  "type": "CurriculumPrerequisite"
                 }
                ],
                "id": 19,
                "metrics": {
                 "blocking factor": 2,
                 "centrality": 8,
                 "complexity": 6,
                 "delay factor": 4
                },
                "name": " ",
                "nameCanonical": "",
                "nameSub": "ADVS 2200"
               },
               {
                "credits": 3,
                "curriculum_requisites": [],
                "id": 20,
                "metrics": {
                 "blocking factor": 0,
                 "centrality": 0,
                 "complexity": 1,
                 "delay factor": 1
                },
                "name": " ",
                "nameCanonical": "",
                "nameSub": "APEC 2010"
               },
               {
                "credits": 4,
                "curriculum_requisites": [
                 {
                  "source_id": 14,
                  "target_id": 21,
                  "type": "CurriculumPrerequisite"
                 }
                ],
                "id": 21,
                "metrics": {
                 "blocking factor": 0,
                 "centrality": 0,
                 "complexity": 2,
                 "delay factor": 2
                },
                "name": " ",
                "nameCanonical": "",
                "nameSub": "CHEM 1220"
               },
               {
                "credits": 1,
                "curriculum_requisites": [],
                "id": 22,
                "metrics": {
                 "blocking factor": 0,
                 "centrality": 0,
                 "complexity": 1,
                 "delay factor": 1
                },
                "name": " ",
                "nameCanonical": "",
                "nameSub": "CHEM 1225"
               },
               {
                "credits": 3,
                "curriculum_requisites": [
                 {
                  "source_id": 4,
                  "target_id": 23,
                  "type": "CurriculumPrerequisite"
                 }
                ],
                "id": 23,
                "metrics": {
                 "blocking factor": 0,
                 "centrality": 0,
                 "complexity": 2,
                 "delay factor": 2
                },
                "name": " ",
                "nameCanonical": "",
                "nameSub": "Engl 2010"
               }
              ],
              "id": 4,
              "name": "Term 4"
             },
             {
              "curriculum_items": [
               {
                "credits": 3,
                "curriculum_requisites": [],
                "id": 24,
                "metrics": {
                 "blocking factor": 0,
                 "centrality": 0,
                 "complexity": 1,
                 "delay factor": 1
                },
                "name": " ",
                "nameCanonical": "",
                "nameSub": "ADVS 2500"
               },
               {
                "credits": 3,
                "curriculum_requisites": [],
                "id": 25,
                "metrics": {
                 "blocking factor": 0,
                 "centrality": 0,
                 "complexity": 1,
                 "delay factor": 1
                },
                "name": " ",
                "nameCanonical": "",
                "nameSub": "MGT 3530"
               },
               {
                "credits": 3,
                "curriculum_requisites": [],
                "id": 26,
                "metrics": {
                 "blocking factor": 0,
                 "centrality": 0,
                 "complexity": 1,
                 "delay factor": 1
                },
                "name": " ",
                "nameCanonical": "",
                "nameSub": "ADVS 3520"
               },
               {
                "credits": 3,
                "curriculum_requisites": [],
                "id": 27,
                "metrics": {
                 "blocking factor": 0,
                 "centrality": 0,
                 "complexity": 1,
                 "delay factor": 1
                },
                "name": " ",
                "nameCanonical": "",
                "nameSub": "ENGL 2240"
               },
               {
                "credits": 3,
                "curriculum_requisites": [],
                "id": 28,
                "metrics": {
                 "blocking factor": 0,
                 "centrality": 0,
                 "complexity": 1,
                 "delay factor": 1
                },
                "name": " ",
                "nameCanonical": "",
                "nameSub": "APEC 3012"
               }
              ],
              "id": 5,
              "name": "Term 5"
             },
             {
              "curriculum_items": [
               {
                "credits": 3,
                "curriculum_requisites": [
                 {
                  "source_id": 19,
                  "target_id": 29,
                  "type": "CurriculumPrerequisite"
                 }
                ],
                "id": 29,
                "metrics": {
                 "blocking factor": 0,
                 "centrality": 0,
                 "complexity": 4,
                 "delay factor": 4
                },
                "name": " ",
                "nameCanonical": "",
                "nameSub": "ADVS 3000"
               },
               {
                "credits": 3,
                "curriculum_requisites": [],
                "id": 30,
                "metrics": {
                 "blocking factor": 0,
                 "centrality": 0,
                 "complexity": 1,
                 "delay factor": 1
                },
                "name": " ",
                "nameCanonical": "",
                "nameSub": "ADVS 3100"
               },
               {
                "credits": 3,
                "curriculum_requisites": [],
                "id": 31,
                "metrics": {
                 "blocking factor": 0,
                 "centrality": 0,
                 "complexity": 1,
                 "delay factor": 1
                },
                "name": " ",
                "nameCanonical": "",
                "nameSub": "ASTE 2830"
               },
               {
                "credits": 3,
                "curriculum_requisites": [],
                "id": 32,
                "metrics": {
                 "blocking factor": 0,
                 "centrality": 0,
                 "complexity": 1,
                 "delay factor": 1
                },
                "name": " ",
                "nameCanonical": "",
                "nameSub": "Elective 3"
               },
               {
                "credits": 3,
                "curriculum_requisites": [],
                "id": 33,
                "metrics": {
                 "blocking factor": 0,
                 "centrality": 0,
                 "complexity": 1,
                 "delay factor": 1
                },
                "name": " ",
                "nameCanonical": "",
                "nameSub": "Elective 4"
               }
              ],
              "id": 6,
              "name": "Term 6"
             },
             {
              "curriculum_items": [
               {
                "credits": 4,
                "curriculum_requisites": [
                 {
                  "source_id": 19,
                  "target_id": 34,
                  "type": "CurriculumPrerequisite"
                 }
                ],
                "id": 34,
                "metrics": {
                 "blocking factor": 0,
                 "centrality": 0,
                 "complexity": 4,
                 "delay factor": 4
                },
                "name": " ",
                "nameCanonical": "",
                "nameSub": "ADVS 4200"
               },
               {
                "credits": 4,
                "curriculum_requisites": [],
                "id": 35,
                "metrics": {
                 "blocking factor": 0,
                 "centrality": 0,
                 "complexity": 1,
                 "delay factor": 1
                },
                "name": " ",
                "nameCanonical": "",
                "nameSub": "ADVS 4270"
               },
               {
                "credits": 3,
                "curriculum_requisites": [
                 {
                  "source_id": 9,
                  "target_id": 36,
                  "type": "CurriculumPrerequisite"
                 }
                ],
                "id": 36,
                "metrics": {
                 "blocking factor": 0,
                 "centrality": 0,
                 "complexity": 3,
                 "delay factor": 3
                },
                "name": " ",
                "nameCanonical": "",
                "nameSub": "ADVS 4560"
               },
               {
                "credits": 2,
                "curriculum_requisites": [],
                "id": 37,
                "metrics": {
                 "blocking factor": 0,
                 "centrality": 0,
                 "complexity": 1,
                 "delay factor": 1
                },
                "name": " ",
                "nameCanonical": "",
                "nameSub": "ADVS 4920"
               },
               {
                "credits": 3,
                "curriculum_requisites": [],
                "id": 38,
                "metrics": {
                 "blocking factor": 0,
                 "centrality": 0,
                 "complexity": 1,
                 "delay factor": 1
                },
                "name": " ",
                "nameCanonical": "",
                "nameSub": "ADVS 5190"
               }
              ],
              "id": 7,
              "name": "Term 7"
             },
             {
              "curriculum_items": [
               {
                "credits": 3,
                "curriculum_requisites": [],
                "id": 39,
                "metrics": {
                 "blocking factor": 0,
                 "centrality": 0,
                 "complexity": 1,
                 "delay factor": 1
                },
                "name": " ",
                "nameCanonical": "",
                "nameSub": "APEC 3010"
               },
               {
                "credits": 3,
                "curriculum_requisites": [],
                "id": 40,
                "metrics": {
                 "blocking factor": 0,
                 "centrality": 0,
                 "complexity": 1,
                 "delay factor": 1
                },
                "name": " ",
                "nameCanonical": "",
                "nameSub": "MGT 3500"
               },
               {
                "credits": 3,
                "curriculum_requisites": [],
                "id": 41,
                "metrics": {
                 "blocking factor": 0,
                 "centrality": 0,
                 "complexity": 1,
                 "delay factor": 1
                },
                "name": " ",
                "nameCanonical": "",
                "nameSub": "MGT 3110"
               },
               {
                "credits": 3,
                "curriculum_requisites": [],
                "id": 42,
                "metrics": {
                 "blocking factor": 0,
                 "centrality": 0,
                 "complexity": 1,
                 "delay factor": 1
                },
                "name": " ",
                "nameCanonical": "",
                "nameSub": "ENGL 3040"
               },
               {
                "credits": 3,
                "curriculum_requisites": [],
                "id": 43,
                "metrics": {
                 "blocking factor": 0,
                 "centrality": 0,
                 "complexity": 1,
                 "delay factor": 1
                },
                "name": " ",
                "nameCanonical": "",
                "nameSub": "Elective 5"
               }
              ],
              "id": 8,
              "name": "Term 8"
             }
            ],
            "dp_name": "4-Year Plan",
            "institution": "Utah State University",
            "name": "Animal Science (Equine)"
           },
           "options": {
            "edit": false,
            "hideTerms": false
           }
          }
         }
        },
        "systemjs_options": null
       },
       "nodeType": "Scope",
       "props": {},
       "type": "node"
      },
      "text/html": [
       "<div\n",
       "    class=\"webio-mountpoint\"\n",
       "    data-webio-mountpoint=\"5663805375283505356\"\n",
       ">\n",
       "    <script>\n",
       "    if (window.require && require.defined && require.defined(\"nbextensions/webio-jupyter-notebook\")) {\n",
       "        console.log(\"Jupyter WebIO extension detected, not mounting.\");\n",
       "    } else if (window.WebIO) {\n",
       "        WebIO.mount(\n",
       "            document.querySelector('[data-webio-mountpoint=\"5663805375283505356\"]'),\n",
       "            {\"props\":{},\"nodeType\":\"Scope\",\"type\":\"node\",\"instanceArgs\":{\"imports\":{\"data\":[],\"type\":\"async_block\"},\"id\":\"64121313442752630\",\"handlers\":{},\"systemjs_options\":null,\"mount_callbacks\":[],\"observables\":{\"curriculum-data\":{\"sync\":true,\"id\":\"14584118147419934612\",\"value\":{\"options\":{\"hideTerms\":false,\"edit\":false},\"curriculum\":{\"name\":\"Animal Science (Equine)\",\"dp_name\":\"4-Year Plan\",\"curriculum_terms\":[{\"name\":\"Term 1\",\"curriculum_items\":[{\"curriculum_requisites\":[],\"name\":\" \",\"metrics\":{\"complexity\":1.0,\"centrality\":0,\"blocking factor\":0,\"delay factor\":1.0},\"nameSub\":\"ADVS 1110\",\"id\":1,\"credits\":4,\"nameCanonical\":\"\"},{\"curriculum_requisites\":[],\"name\":\" \",\"metrics\":{\"complexity\":9.0,\"centrality\":0,\"blocking factor\":5,\"delay factor\":4.0},\"nameSub\":\"BIOL 1610\",\"id\":2,\"credits\":3,\"nameCanonical\":\"\"},{\"curriculum_requisites\":[],\"name\":\" \",\"metrics\":{\"complexity\":1.0,\"centrality\":0,\"blocking factor\":0,\"delay factor\":1.0},\"nameSub\":\"BIOL 1615\",\"id\":3,\"credits\":1,\"nameCanonical\":\"\"},{\"curriculum_requisites\":[],\"name\":\" \",\"metrics\":{\"complexity\":3.0,\"centrality\":0,\"blocking factor\":1,\"delay factor\":2.0},\"nameSub\":\"ENGL 1010\",\"id\":4,\"credits\":3,\"nameCanonical\":\"\"},{\"curriculum_requisites\":[],\"name\":\" \",\"metrics\":{\"complexity\":1.0,\"centrality\":0,\"blocking factor\":0,\"delay factor\":1.0},\"nameSub\":\"MATH 1050\",\"id\":5,\"credits\":4,\"nameCanonical\":\"\"},{\"curriculum_requisites\":[],\"name\":\" \",\"metrics\":{\"complexity\":1.0,\"centrality\":0,\"blocking factor\":0,\"delay factor\":1.0},\"nameSub\":\"ADVS 1050\",\"id\":6,\"credits\":1,\"nameCanonical\":\"\"}],\"id\":1},{\"name\":\"Term 2\",\"curriculum_items\":[{\"curriculum_requisites\":[],\"name\":\" \",\"metrics\":{\"complexity\":1.0,\"centrality\":0,\"blocking factor\":0,\"delay factor\":1.0},\"nameSub\":\"ADVS 1600\",\"id\":7,\"credits\":3,\"nameCanonical\":\"\"},{\"curriculum_requisites\":[],\"name\":\" \",\"metrics\":{\"complexity\":3.0,\"centrality\":0,\"blocking factor\":1,\"delay factor\":2.0},\"nameSub\":\"ADVS 2190\",\"id\":8,\"credits\":3,\"nameCanonical\":\"\"},{\"curriculum_requisites\":[{\"source_id\":2,\"target_id\":9,\"type\":\"CurriculumPrerequisite\"}],\"name\":\" \",\"metrics\":{\"complexity\":8.0,\"centrality\":11,\"blocking factor\":4,\"delay factor\":4.0},\"nameSub\":\"BIOL 1620\",\"id\":9,\"credits\":3,\"nameCanonical\":\"\"},{\"curriculum_requisites\":[],\"name\":\" \",\"metrics\":{\"complexity\":1.0,\"centrality\":0,\"blocking factor\":0,\"delay factor\":1.0},\"nameSub\":\"BIOL 1625\",\"id\":10,\"credits\":1,\"nameCanonical\":\"\"},{\"curriculum_requisites\":[],\"name\":\" \",\"metrics\":{\"complexity\":1.0,\"centrality\":0,\"blocking factor\":0,\"delay factor\":1.0},\"nameSub\":\"STAT 1040\",\"id\":11,\"credits\":3,\"nameCanonical\":\"\"},{\"curriculum_requisites\":[],\"name\":\" \",\"metrics\":{\"complexity\":1.0,\"centrality\":0,\"blocking factor\":0,\"delay factor\":1.0},\"nameSub\":\"Elective 1\",\"id\":12,\"credits\":2,\"nameCanonical\":\"\"}],\"id\":2},{\"name\":\"Term 3\",\"curriculum_items\":[{\"curriculum_requisites\":[{\"source_id\":8,\"target_id\":13,\"type\":\"CurriculumPrerequisite\"}],\"name\":\" \",\"metrics\":{\"complexity\":2.0,\"centrality\":0,\"blocking factor\":0,\"delay factor\":2.0},\"nameSub\":\"ADVS 2300\",\"id\":13,\"credits\":2,\"nameCanonical\":\"\"},{\"curriculum_requisites\":[],\"name\":\" \",\"metrics\":{\"complexity\":3.0,\"centrality\":0,\"blocking factor\":1,\"delay factor\":2.0},\"nameSub\":\"CHEM 1210\",\"id\":14,\"credits\":4,\"nameCanonical\":\"\"},{\"curriculum_requisites\":[],\"name\":\" \",\"metrics\":{\"complexity\":1.0,\"centrality\":0,\"blocking factor\":0,\"delay factor\":1.0},\"nameSub\":\"CHEM 1215\",\"id\":15,\"credits\":1,\"nameCanonical\":\"\"},{\"curriculum_requisites\":[],\"name\":\" \",\"metrics\":{\"complexity\":1.0,\"centrality\":0,\"blocking factor\":0,\"delay factor\":1.0},\"nameSub\":\"APEC 1600\",\"id\":16,\"credits\":3,\"nameCanonical\":\"\"},{\"curriculum_requisites\":[],\"name\":\" \",\"metrics\":{\"complexity\":1.0,\"centrality\":0,\"blocking factor\":0,\"delay factor\":1.0},\"nameSub\":\"LAEP 1030\",\"id\":17,\"credits\":3,\"nameCanonical\":\"\"},{\"curriculum_requisites\":[],\"name\":\" \",\"metrics\":{\"complexity\":1.0,\"centrality\":0,\"blocking factor\":0,\"delay factor\":1.0},\"nameSub\":\"Elective 2\",\"id\":18,\"credits\":2,\"nameCanonical\":\"\"}],\"id\":3},{\"name\":\"Term 4\",\"curriculum_items\":[{\"curriculum_requisites\":[{\"source_id\":9,\"target_id\":19,\"type\":\"CurriculumPrerequisite\"}],\"name\":\" \",\"metrics\":{\"complexity\":6.0,\"centrality\":8,\"blocking factor\":2,\"delay factor\":4.0},\"nameSub\":\"ADVS 2200\",\"id\":19,\"credits\":4,\"nameCanonical\":\"\"},{\"curriculum_requisites\":[],\"name\":\" \",\"metrics\":{\"complexity\":1.0,\"centrality\":0,\"blocking factor\":0,\"delay factor\":1.0},\"nameSub\":\"APEC 2010\",\"id\":20,\"credits\":3,\"nameCanonical\":\"\"},{\"curriculum_requisites\":[{\"source_id\":14,\"target_id\":21,\"type\":\"CurriculumPrerequisite\"}],\"name\":\" \",\"metrics\":{\"complexity\":2.0,\"centrality\":0,\"blocking factor\":0,\"delay factor\":2.0},\"nameSub\":\"CHEM 1220\",\"id\":21,\"credits\":4,\"nameCanonical\":\"\"},{\"curriculum_requisites\":[],\"name\":\" \",\"metrics\":{\"complexity\":1.0,\"centrality\":0,\"blocking factor\":0,\"delay factor\":1.0},\"nameSub\":\"CHEM 1225\",\"id\":22,\"credits\":1,\"nameCanonical\":\"\"},{\"curriculum_requisites\":[{\"source_id\":4,\"target_id\":23,\"type\":\"CurriculumPrerequisite\"}],\"name\":\" \",\"metrics\":{\"complexity\":2.0,\"centrality\":0,\"blocking factor\":0,\"delay factor\":2.0},\"nameSub\":\"Engl 2010\",\"id\":23,\"credits\":3,\"nameCanonical\":\"\"}],\"id\":4},{\"name\":\"Term 5\",\"curriculum_items\":[{\"curriculum_requisites\":[],\"name\":\" \",\"metrics\":{\"complexity\":1.0,\"centrality\":0,\"blocking factor\":0,\"delay factor\":1.0},\"nameSub\":\"ADVS 2500\",\"id\":24,\"credits\":3,\"nameCanonical\":\"\"},{\"curriculum_requisites\":[],\"name\":\" \",\"metrics\":{\"complexity\":1.0,\"centrality\":0,\"blocking factor\":0,\"delay factor\":1.0},\"nameSub\":\"MGT 3530\",\"id\":25,\"credits\":3,\"nameCanonical\":\"\"},{\"curriculum_requisites\":[],\"name\":\" \",\"metrics\":{\"complexity\":1.0,\"centrality\":0,\"blocking factor\":0,\"delay factor\":1.0},\"nameSub\":\"ADVS 3520\",\"id\":26,\"credits\":3,\"nameCanonical\":\"\"},{\"curriculum_requisites\":[],\"name\":\" \",\"metrics\":{\"complexity\":1.0,\"centrality\":0,\"blocking factor\":0,\"delay factor\":1.0},\"nameSub\":\"ENGL 2240\",\"id\":27,\"credits\":3,\"nameCanonical\":\"\"},{\"curriculum_requisites\":[],\"name\":\" \",\"metrics\":{\"complexity\":1.0,\"centrality\":0,\"blocking factor\":0,\"delay factor\":1.0},\"nameSub\":\"APEC 3012\",\"id\":28,\"credits\":3,\"nameCanonical\":\"\"}],\"id\":5},{\"name\":\"Term 6\",\"curriculum_items\":[{\"curriculum_requisites\":[{\"source_id\":19,\"target_id\":29,\"type\":\"CurriculumPrerequisite\"}],\"name\":\" \",\"metrics\":{\"complexity\":4.0,\"centrality\":0,\"blocking factor\":0,\"delay factor\":4.0},\"nameSub\":\"ADVS 3000\",\"id\":29,\"credits\":3,\"nameCanonical\":\"\"},{\"curriculum_requisites\":[],\"name\":\" \",\"metrics\":{\"complexity\":1.0,\"centrality\":0,\"blocking factor\":0,\"delay factor\":1.0},\"nameSub\":\"ADVS 3100\",\"id\":30,\"credits\":3,\"nameCanonical\":\"\"},{\"curriculum_requisites\":[],\"name\":\" \",\"metrics\":{\"complexity\":1.0,\"centrality\":0,\"blocking factor\":0,\"delay factor\":1.0},\"nameSub\":\"ASTE 2830\",\"id\":31,\"credits\":3,\"nameCanonical\":\"\"},{\"curriculum_requisites\":[],\"name\":\" \",\"metrics\":{\"complexity\":1.0,\"centrality\":0,\"blocking factor\":0,\"delay factor\":1.0},\"nameSub\":\"Elective 3\",\"id\":32,\"credits\":3,\"nameCanonical\":\"\"},{\"curriculum_requisites\":[],\"name\":\" \",\"metrics\":{\"complexity\":1.0,\"centrality\":0,\"blocking factor\":0,\"delay factor\":1.0},\"nameSub\":\"Elective 4\",\"id\":33,\"credits\":3,\"nameCanonical\":\"\"}],\"id\":6},{\"name\":\"Term 7\",\"curriculum_items\":[{\"curriculum_requisites\":[{\"source_id\":19,\"target_id\":34,\"type\":\"CurriculumPrerequisite\"}],\"name\":\" \",\"metrics\":{\"complexity\":4.0,\"centrality\":0,\"blocking factor\":0,\"delay factor\":4.0},\"nameSub\":\"ADVS 4200\",\"id\":34,\"credits\":4,\"nameCanonical\":\"\"},{\"curriculum_requisites\":[],\"name\":\" \",\"metrics\":{\"complexity\":1.0,\"centrality\":0,\"blocking factor\":0,\"delay factor\":1.0},\"nameSub\":\"ADVS 4270\",\"id\":35,\"credits\":4,\"nameCanonical\":\"\"},{\"curriculum_requisites\":[{\"source_id\":9,\"target_id\":36,\"type\":\"CurriculumPrerequisite\"}],\"name\":\" \",\"metrics\":{\"complexity\":3.0,\"centrality\":0,\"blocking factor\":0,\"delay factor\":3.0},\"nameSub\":\"ADVS 4560\",\"id\":36,\"credits\":3,\"nameCanonical\":\"\"},{\"curriculum_requisites\":[],\"name\":\" \",\"metrics\":{\"complexity\":1.0,\"centrality\":0,\"blocking factor\":0,\"delay factor\":1.0},\"nameSub\":\"ADVS 4920\",\"id\":37,\"credits\":2,\"nameCanonical\":\"\"},{\"curriculum_requisites\":[],\"name\":\" \",\"metrics\":{\"complexity\":1.0,\"centrality\":0,\"blocking factor\":0,\"delay factor\":1.0},\"nameSub\":\"ADVS 5190\",\"id\":38,\"credits\":3,\"nameCanonical\":\"\"}],\"id\":7},{\"name\":\"Term 8\",\"curriculum_items\":[{\"curriculum_requisites\":[],\"name\":\" \",\"metrics\":{\"complexity\":1.0,\"centrality\":0,\"blocking factor\":0,\"delay factor\":1.0},\"nameSub\":\"APEC 3010\",\"id\":39,\"credits\":3,\"nameCanonical\":\"\"},{\"curriculum_requisites\":[],\"name\":\" \",\"metrics\":{\"complexity\":1.0,\"centrality\":0,\"blocking factor\":0,\"delay factor\":1.0},\"nameSub\":\"MGT 3500\",\"id\":40,\"credits\":3,\"nameCanonical\":\"\"},{\"curriculum_requisites\":[],\"name\":\" \",\"metrics\":{\"complexity\":1.0,\"centrality\":0,\"blocking factor\":0,\"delay factor\":1.0},\"nameSub\":\"MGT 3110\",\"id\":41,\"credits\":3,\"nameCanonical\":\"\"},{\"curriculum_requisites\":[],\"name\":\" \",\"metrics\":{\"complexity\":1.0,\"centrality\":0,\"blocking factor\":0,\"delay factor\":1.0},\"nameSub\":\"ENGL 3040\",\"id\":42,\"credits\":3,\"nameCanonical\":\"\"},{\"curriculum_requisites\":[],\"name\":\" \",\"metrics\":{\"complexity\":1.0,\"centrality\":0,\"blocking factor\":0,\"delay factor\":1.0},\"nameSub\":\"Elective 5\",\"id\":43,\"credits\":3,\"nameCanonical\":\"\"}],\"id\":8}],\"institution\":\"Utah State University\"}}}}},\"children\":[{\"props\":{\"src\":\"http:\\/\\/localhost:8156\",\"id\":\"curriculum\",\"events\":{\"load\":\"(function (){this.contentWindow.postMessage({\\\"options\\\":{\\\"hideTerms\\\":false,\\\"edit\\\":false},\\\"curriculum\\\":{\\\"name\\\":\\\"Animal Science (Equine)\\\",\\\"dp_name\\\":\\\"4-Year Plan\\\",\\\"curriculum_terms\\\":[{\\\"name\\\":\\\"Term 1\\\",\\\"curriculum_items\\\":[{\\\"curriculum_requisites\\\":[],\\\"name\\\":\\\" \\\",\\\"metrics\\\":{\\\"complexity\\\":1.0,\\\"centrality\\\":0,\\\"blocking factor\\\":0,\\\"delay factor\\\":1.0},\\\"nameSub\\\":\\\"ADVS 1110\\\",\\\"id\\\":1,\\\"credits\\\":4,\\\"nameCanonical\\\":\\\"\\\"},{\\\"curriculum_requisites\\\":[],\\\"name\\\":\\\" \\\",\\\"metrics\\\":{\\\"complexity\\\":9.0,\\\"centrality\\\":0,\\\"blocking factor\\\":5,\\\"delay factor\\\":4.0},\\\"nameSub\\\":\\\"BIOL 1610\\\",\\\"id\\\":2,\\\"credits\\\":3,\\\"nameCanonical\\\":\\\"\\\"},{\\\"curriculum_requisites\\\":[],\\\"name\\\":\\\" \\\",\\\"metrics\\\":{\\\"complexity\\\":1.0,\\\"centrality\\\":0,\\\"blocking factor\\\":0,\\\"delay factor\\\":1.0},\\\"nameSub\\\":\\\"BIOL 1615\\\",\\\"id\\\":3,\\\"credits\\\":1,\\\"nameCanonical\\\":\\\"\\\"},{\\\"curriculum_requisites\\\":[],\\\"name\\\":\\\" \\\",\\\"metrics\\\":{\\\"complexity\\\":3.0,\\\"centrality\\\":0,\\\"blocking factor\\\":1,\\\"delay factor\\\":2.0},\\\"nameSub\\\":\\\"ENGL 1010\\\",\\\"id\\\":4,\\\"credits\\\":3,\\\"nameCanonical\\\":\\\"\\\"},{\\\"curriculum_requisites\\\":[],\\\"name\\\":\\\" \\\",\\\"metrics\\\":{\\\"complexity\\\":1.0,\\\"centrality\\\":0,\\\"blocking factor\\\":0,\\\"delay factor\\\":1.0},\\\"nameSub\\\":\\\"MATH 1050\\\",\\\"id\\\":5,\\\"credits\\\":4,\\\"nameCanonical\\\":\\\"\\\"},{\\\"curriculum_requisites\\\":[],\\\"name\\\":\\\" \\\",\\\"metrics\\\":{\\\"complexity\\\":1.0,\\\"centrality\\\":0,\\\"blocking factor\\\":0,\\\"delay factor\\\":1.0},\\\"nameSub\\\":\\\"ADVS 1050\\\",\\\"id\\\":6,\\\"credits\\\":1,\\\"nameCanonical\\\":\\\"\\\"}],\\\"id\\\":1},{\\\"name\\\":\\\"Term 2\\\",\\\"curriculum_items\\\":[{\\\"curriculum_requisites\\\":[],\\\"name\\\":\\\" \\\",\\\"metrics\\\":{\\\"complexity\\\":1.0,\\\"centrality\\\":0,\\\"blocking factor\\\":0,\\\"delay factor\\\":1.0},\\\"nameSub\\\":\\\"ADVS 1600\\\",\\\"id\\\":7,\\\"credits\\\":3,\\\"nameCanonical\\\":\\\"\\\"},{\\\"curriculum_requisites\\\":[],\\\"name\\\":\\\" \\\",\\\"metrics\\\":{\\\"complexity\\\":3.0,\\\"centrality\\\":0,\\\"blocking factor\\\":1,\\\"delay factor\\\":2.0},\\\"nameSub\\\":\\\"ADVS 2190\\\",\\\"id\\\":8,\\\"credits\\\":3,\\\"nameCanonical\\\":\\\"\\\"},{\\\"curriculum_requisites\\\":[{\\\"source_id\\\":2,\\\"target_id\\\":9,\\\"type\\\":\\\"CurriculumPrerequisite\\\"}],\\\"name\\\":\\\" \\\",\\\"metrics\\\":{\\\"complexity\\\":8.0,\\\"centrality\\\":11,\\\"blocking factor\\\":4,\\\"delay factor\\\":4.0},\\\"nameSub\\\":\\\"BIOL 1620\\\",\\\"id\\\":9,\\\"credits\\\":3,\\\"nameCanonical\\\":\\\"\\\"},{\\\"curriculum_requisites\\\":[],\\\"name\\\":\\\" \\\",\\\"metrics\\\":{\\\"complexity\\\":1.0,\\\"centrality\\\":0,\\\"blocking factor\\\":0,\\\"delay factor\\\":1.0},\\\"nameSub\\\":\\\"BIOL 1625\\\",\\\"id\\\":10,\\\"credits\\\":1,\\\"nameCanonical\\\":\\\"\\\"},{\\\"curriculum_requisites\\\":[],\\\"name\\\":\\\" \\\",\\\"metrics\\\":{\\\"complexity\\\":1.0,\\\"centrality\\\":0,\\\"blocking factor\\\":0,\\\"delay factor\\\":1.0},\\\"nameSub\\\":\\\"STAT 1040\\\",\\\"id\\\":11,\\\"credits\\\":3,\\\"nameCanonical\\\":\\\"\\\"},{\\\"curriculum_requisites\\\":[],\\\"name\\\":\\\" \\\",\\\"metrics\\\":{\\\"complexity\\\":1.0,\\\"centrality\\\":0,\\\"blocking factor\\\":0,\\\"delay factor\\\":1.0},\\\"nameSub\\\":\\\"Elective 1\\\",\\\"id\\\":12,\\\"credits\\\":2,\\\"nameCanonical\\\":\\\"\\\"}],\\\"id\\\":2},{\\\"name\\\":\\\"Term 3\\\",\\\"curriculum_items\\\":[{\\\"curriculum_requisites\\\":[{\\\"source_id\\\":8,\\\"target_id\\\":13,\\\"type\\\":\\\"CurriculumPrerequisite\\\"}],\\\"name\\\":\\\" \\\",\\\"metrics\\\":{\\\"complexity\\\":2.0,\\\"centrality\\\":0,\\\"blocking factor\\\":0,\\\"delay factor\\\":2.0},\\\"nameSub\\\":\\\"ADVS 2300\\\",\\\"id\\\":13,\\\"credits\\\":2,\\\"nameCanonical\\\":\\\"\\\"},{\\\"curriculum_requisites\\\":[],\\\"name\\\":\\\" \\\",\\\"metrics\\\":{\\\"complexity\\\":3.0,\\\"centrality\\\":0,\\\"blocking factor\\\":1,\\\"delay factor\\\":2.0},\\\"nameSub\\\":\\\"CHEM 1210\\\",\\\"id\\\":14,\\\"credits\\\":4,\\\"nameCanonical\\\":\\\"\\\"},{\\\"curriculum_requisites\\\":[],\\\"name\\\":\\\" \\\",\\\"metrics\\\":{\\\"complexity\\\":1.0,\\\"centrality\\\":0,\\\"blocking factor\\\":0,\\\"delay factor\\\":1.0},\\\"nameSub\\\":\\\"CHEM 1215\\\",\\\"id\\\":15,\\\"credits\\\":1,\\\"nameCanonical\\\":\\\"\\\"},{\\\"curriculum_requisites\\\":[],\\\"name\\\":\\\" \\\",\\\"metrics\\\":{\\\"complexity\\\":1.0,\\\"centrality\\\":0,\\\"blocking factor\\\":0,\\\"delay factor\\\":1.0},\\\"nameSub\\\":\\\"APEC 1600\\\",\\\"id\\\":16,\\\"credits\\\":3,\\\"nameCanonical\\\":\\\"\\\"},{\\\"curriculum_requisites\\\":[],\\\"name\\\":\\\" \\\",\\\"metrics\\\":{\\\"complexity\\\":1.0,\\\"centrality\\\":0,\\\"blocking factor\\\":0,\\\"delay factor\\\":1.0},\\\"nameSub\\\":\\\"LAEP 1030\\\",\\\"id\\\":17,\\\"credits\\\":3,\\\"nameCanonical\\\":\\\"\\\"},{\\\"curriculum_requisites\\\":[],\\\"name\\\":\\\" \\\",\\\"metrics\\\":{\\\"complexity\\\":1.0,\\\"centrality\\\":0,\\\"blocking factor\\\":0,\\\"delay factor\\\":1.0},\\\"nameSub\\\":\\\"Elective 2\\\",\\\"id\\\":18,\\\"credits\\\":2,\\\"nameCanonical\\\":\\\"\\\"}],\\\"id\\\":3},{\\\"name\\\":\\\"Term 4\\\",\\\"curriculum_items\\\":[{\\\"curriculum_requisites\\\":[{\\\"source_id\\\":9,\\\"target_id\\\":19,\\\"type\\\":\\\"CurriculumPrerequisite\\\"}],\\\"name\\\":\\\" \\\",\\\"metrics\\\":{\\\"complexity\\\":6.0,\\\"centrality\\\":8,\\\"blocking factor\\\":2,\\\"delay factor\\\":4.0},\\\"nameSub\\\":\\\"ADVS 2200\\\",\\\"id\\\":19,\\\"credits\\\":4,\\\"nameCanonical\\\":\\\"\\\"},{\\\"curriculum_requisites\\\":[],\\\"name\\\":\\\" \\\",\\\"metrics\\\":{\\\"complexity\\\":1.0,\\\"centrality\\\":0,\\\"blocking factor\\\":0,\\\"delay factor\\\":1.0},\\\"nameSub\\\":\\\"APEC 2010\\\",\\\"id\\\":20,\\\"credits\\\":3,\\\"nameCanonical\\\":\\\"\\\"},{\\\"curriculum_requisites\\\":[{\\\"source_id\\\":14,\\\"target_id\\\":21,\\\"type\\\":\\\"CurriculumPrerequisite\\\"}],\\\"name\\\":\\\" \\\",\\\"metrics\\\":{\\\"complexity\\\":2.0,\\\"centrality\\\":0,\\\"blocking factor\\\":0,\\\"delay factor\\\":2.0},\\\"nameSub\\\":\\\"CHEM 1220\\\",\\\"id\\\":21,\\\"credits\\\":4,\\\"nameCanonical\\\":\\\"\\\"},{\\\"curriculum_requisites\\\":[],\\\"name\\\":\\\" \\\",\\\"metrics\\\":{\\\"complexity\\\":1.0,\\\"centrality\\\":0,\\\"blocking factor\\\":0,\\\"delay factor\\\":1.0},\\\"nameSub\\\":\\\"CHEM 1225\\\",\\\"id\\\":22,\\\"credits\\\":1,\\\"nameCanonical\\\":\\\"\\\"},{\\\"curriculum_requisites\\\":[{\\\"source_id\\\":4,\\\"target_id\\\":23,\\\"type\\\":\\\"CurriculumPrerequisite\\\"}],\\\"name\\\":\\\" \\\",\\\"metrics\\\":{\\\"complexity\\\":2.0,\\\"centrality\\\":0,\\\"blocking factor\\\":0,\\\"delay factor\\\":2.0},\\\"nameSub\\\":\\\"Engl 2010\\\",\\\"id\\\":23,\\\"credits\\\":3,\\\"nameCanonical\\\":\\\"\\\"}],\\\"id\\\":4},{\\\"name\\\":\\\"Term 5\\\",\\\"curriculum_items\\\":[{\\\"curriculum_requisites\\\":[],\\\"name\\\":\\\" \\\",\\\"metrics\\\":{\\\"complexity\\\":1.0,\\\"centrality\\\":0,\\\"blocking factor\\\":0,\\\"delay factor\\\":1.0},\\\"nameSub\\\":\\\"ADVS 2500\\\",\\\"id\\\":24,\\\"credits\\\":3,\\\"nameCanonical\\\":\\\"\\\"},{\\\"curriculum_requisites\\\":[],\\\"name\\\":\\\" \\\",\\\"metrics\\\":{\\\"complexity\\\":1.0,\\\"centrality\\\":0,\\\"blocking factor\\\":0,\\\"delay factor\\\":1.0},\\\"nameSub\\\":\\\"MGT 3530\\\",\\\"id\\\":25,\\\"credits\\\":3,\\\"nameCanonical\\\":\\\"\\\"},{\\\"curriculum_requisites\\\":[],\\\"name\\\":\\\" \\\",\\\"metrics\\\":{\\\"complexity\\\":1.0,\\\"centrality\\\":0,\\\"blocking factor\\\":0,\\\"delay factor\\\":1.0},\\\"nameSub\\\":\\\"ADVS 3520\\\",\\\"id\\\":26,\\\"credits\\\":3,\\\"nameCanonical\\\":\\\"\\\"},{\\\"curriculum_requisites\\\":[],\\\"name\\\":\\\" \\\",\\\"metrics\\\":{\\\"complexity\\\":1.0,\\\"centrality\\\":0,\\\"blocking factor\\\":0,\\\"delay factor\\\":1.0},\\\"nameSub\\\":\\\"ENGL 2240\\\",\\\"id\\\":27,\\\"credits\\\":3,\\\"nameCanonical\\\":\\\"\\\"},{\\\"curriculum_requisites\\\":[],\\\"name\\\":\\\" \\\",\\\"metrics\\\":{\\\"complexity\\\":1.0,\\\"centrality\\\":0,\\\"blocking factor\\\":0,\\\"delay factor\\\":1.0},\\\"nameSub\\\":\\\"APEC 3012\\\",\\\"id\\\":28,\\\"credits\\\":3,\\\"nameCanonical\\\":\\\"\\\"}],\\\"id\\\":5},{\\\"name\\\":\\\"Term 6\\\",\\\"curriculum_items\\\":[{\\\"curriculum_requisites\\\":[{\\\"source_id\\\":19,\\\"target_id\\\":29,\\\"type\\\":\\\"CurriculumPrerequisite\\\"}],\\\"name\\\":\\\" \\\",\\\"metrics\\\":{\\\"complexity\\\":4.0,\\\"centrality\\\":0,\\\"blocking factor\\\":0,\\\"delay factor\\\":4.0},\\\"nameSub\\\":\\\"ADVS 3000\\\",\\\"id\\\":29,\\\"credits\\\":3,\\\"nameCanonical\\\":\\\"\\\"},{\\\"curriculum_requisites\\\":[],\\\"name\\\":\\\" \\\",\\\"metrics\\\":{\\\"complexity\\\":1.0,\\\"centrality\\\":0,\\\"blocking factor\\\":0,\\\"delay factor\\\":1.0},\\\"nameSub\\\":\\\"ADVS 3100\\\",\\\"id\\\":30,\\\"credits\\\":3,\\\"nameCanonical\\\":\\\"\\\"},{\\\"curriculum_requisites\\\":[],\\\"name\\\":\\\" \\\",\\\"metrics\\\":{\\\"complexity\\\":1.0,\\\"centrality\\\":0,\\\"blocking factor\\\":0,\\\"delay factor\\\":1.0},\\\"nameSub\\\":\\\"ASTE 2830\\\",\\\"id\\\":31,\\\"credits\\\":3,\\\"nameCanonical\\\":\\\"\\\"},{\\\"curriculum_requisites\\\":[],\\\"name\\\":\\\" \\\",\\\"metrics\\\":{\\\"complexity\\\":1.0,\\\"centrality\\\":0,\\\"blocking factor\\\":0,\\\"delay factor\\\":1.0},\\\"nameSub\\\":\\\"Elective 3\\\",\\\"id\\\":32,\\\"credits\\\":3,\\\"nameCanonical\\\":\\\"\\\"},{\\\"curriculum_requisites\\\":[],\\\"name\\\":\\\" \\\",\\\"metrics\\\":{\\\"complexity\\\":1.0,\\\"centrality\\\":0,\\\"blocking factor\\\":0,\\\"delay factor\\\":1.0},\\\"nameSub\\\":\\\"Elective 4\\\",\\\"id\\\":33,\\\"credits\\\":3,\\\"nameCanonical\\\":\\\"\\\"}],\\\"id\\\":6},{\\\"name\\\":\\\"Term 7\\\",\\\"curriculum_items\\\":[{\\\"curriculum_requisites\\\":[{\\\"source_id\\\":19,\\\"target_id\\\":34,\\\"type\\\":\\\"CurriculumPrerequisite\\\"}],\\\"name\\\":\\\" \\\",\\\"metrics\\\":{\\\"complexity\\\":4.0,\\\"centrality\\\":0,\\\"blocking factor\\\":0,\\\"delay factor\\\":4.0},\\\"nameSub\\\":\\\"ADVS 4200\\\",\\\"id\\\":34,\\\"credits\\\":4,\\\"nameCanonical\\\":\\\"\\\"},{\\\"curriculum_requisites\\\":[],\\\"name\\\":\\\" \\\",\\\"metrics\\\":{\\\"complexity\\\":1.0,\\\"centrality\\\":0,\\\"blocking factor\\\":0,\\\"delay factor\\\":1.0},\\\"nameSub\\\":\\\"ADVS 4270\\\",\\\"id\\\":35,\\\"credits\\\":4,\\\"nameCanonical\\\":\\\"\\\"},{\\\"curriculum_requisites\\\":[{\\\"source_id\\\":9,\\\"target_id\\\":36,\\\"type\\\":\\\"CurriculumPrerequisite\\\"}],\\\"name\\\":\\\" \\\",\\\"metrics\\\":{\\\"complexity\\\":3.0,\\\"centrality\\\":0,\\\"blocking factor\\\":0,\\\"delay factor\\\":3.0},\\\"nameSub\\\":\\\"ADVS 4560\\\",\\\"id\\\":36,\\\"credits\\\":3,\\\"nameCanonical\\\":\\\"\\\"},{\\\"curriculum_requisites\\\":[],\\\"name\\\":\\\" \\\",\\\"metrics\\\":{\\\"complexity\\\":1.0,\\\"centrality\\\":0,\\\"blocking factor\\\":0,\\\"delay factor\\\":1.0},\\\"nameSub\\\":\\\"ADVS 4920\\\",\\\"id\\\":37,\\\"credits\\\":2,\\\"nameCanonical\\\":\\\"\\\"},{\\\"curriculum_requisites\\\":[],\\\"name\\\":\\\" \\\",\\\"metrics\\\":{\\\"complexity\\\":1.0,\\\"centrality\\\":0,\\\"blocking factor\\\":0,\\\"delay factor\\\":1.0},\\\"nameSub\\\":\\\"ADVS 5190\\\",\\\"id\\\":38,\\\"credits\\\":3,\\\"nameCanonical\\\":\\\"\\\"}],\\\"id\\\":7},{\\\"name\\\":\\\"Term 8\\\",\\\"curriculum_items\\\":[{\\\"curriculum_requisites\\\":[],\\\"name\\\":\\\" \\\",\\\"metrics\\\":{\\\"complexity\\\":1.0,\\\"centrality\\\":0,\\\"blocking factor\\\":0,\\\"delay factor\\\":1.0},\\\"nameSub\\\":\\\"APEC 3010\\\",\\\"id\\\":39,\\\"credits\\\":3,\\\"nameCanonical\\\":\\\"\\\"},{\\\"curriculum_requisites\\\":[],\\\"name\\\":\\\" \\\",\\\"metrics\\\":{\\\"complexity\\\":1.0,\\\"centrality\\\":0,\\\"blocking factor\\\":0,\\\"delay factor\\\":1.0},\\\"nameSub\\\":\\\"MGT 3500\\\",\\\"id\\\":40,\\\"credits\\\":3,\\\"nameCanonical\\\":\\\"\\\"},{\\\"curriculum_requisites\\\":[],\\\"name\\\":\\\" \\\",\\\"metrics\\\":{\\\"complexity\\\":1.0,\\\"centrality\\\":0,\\\"blocking factor\\\":0,\\\"delay factor\\\":1.0},\\\"nameSub\\\":\\\"MGT 3110\\\",\\\"id\\\":41,\\\"credits\\\":3,\\\"nameCanonical\\\":\\\"\\\"},{\\\"curriculum_requisites\\\":[],\\\"name\\\":\\\" \\\",\\\"metrics\\\":{\\\"complexity\\\":1.0,\\\"centrality\\\":0,\\\"blocking factor\\\":0,\\\"delay factor\\\":1.0},\\\"nameSub\\\":\\\"ENGL 3040\\\",\\\"id\\\":42,\\\"credits\\\":3,\\\"nameCanonical\\\":\\\"\\\"},{\\\"curriculum_requisites\\\":[],\\\"name\\\":\\\" \\\",\\\"metrics\\\":{\\\"complexity\\\":1.0,\\\"centrality\\\":0,\\\"blocking factor\\\":0,\\\"delay factor\\\":1.0},\\\"nameSub\\\":\\\"Elective 5\\\",\\\"id\\\":43,\\\"credits\\\":3,\\\"nameCanonical\\\":\\\"\\\"}],\\\"id\\\":8}],\\\"institution\\\":\\\"Utah State University\\\"}},\\\"*\\\"); window.removeEventListener(\\\"message\\\",window.messageReceived); window.messageReceived=(function (event){return (event.data.curriculum!==undefined) ? (WebIO.setval({\\\"name\\\":\\\"curriculum-data\\\",\\\"scope\\\":\\\"64121313442752630\\\",\\\"id\\\":\\\"14584118147419934612\\\",\\\"type\\\":\\\"observable\\\"},event.data.curriculum)) : undefined}); return window.addEventListener(\\\"message\\\",window.messageReceived)})\"},\"style\":{\"padding\":\"0\",\"height\":\"100vh\",\"margin\":\"0\",\"border\":\"none\",\"width\":\"100%\"}},\"nodeType\":\"DOM\",\"type\":\"node\",\"instanceArgs\":{\"namespace\":\"html\",\"tag\":\"iframe\"},\"children\":[\"\"]}]},\n",
       "            window,\n",
       "        );\n",
       "    } else {\n",
       "        document\n",
       "            .querySelector('[data-webio-mountpoint=\"5663805375283505356\"]')\n",
       "            .innerHTML = (\n",
       "                '<div style=\"padding: 1em; background-color: #f8d6da; border: 1px solid #f5c6cb\">' +\n",
       "                '<p><strong>WebIO not detected.</strong></p>' +\n",
       "                '<p>Please read ' +\n",
       "                '<a href=\"https://juliagizmos.github.io/WebIO.jl/latest/troubleshooting/not-detected/\" target=\"_blank\">the troubleshooting guide</a> ' +\n",
       "                'for more information on how to resolve this issue.</p>' +\n",
       "                '<p><a href=\"https://juliagizmos.github.io/WebIO.jl/latest/troubleshooting/not-detected/\" target=\"_blank\">https://juliagizmos.github.io/WebIO.jl/latest/troubleshooting/not-detected/</a></p>' +\n",
       "                '</div>'\n",
       "            );\n",
       "    }\n",
       "    </script>\n",
       "</div>\n"
      ],
      "text/plain": [
       "WebIO.Scope(WebIO.Node{WebIO.DOM}(WebIO.DOM(:html, :iframe), Any[\"\"], Dict{Symbol,Any}(:src => \"http://localhost:8156\",:id => \"curriculum\",:events => Dict{Symbol,WebIO.JSString}(:load => WebIO.JSString(\"(function (){this.contentWindow.postMessage({\\\"options\\\":{\\\"hideTerms\\\":false,\\\"edit\\\":false},\\\"curriculum\\\":{\\\"name\\\":\\\"Animal Science (Equine)\\\",\\\"dp_name\\\":\\\"4-Year Plan\\\",\\\"curriculum_terms\\\":[{\\\"name\\\":\\\"Term 1\\\",\\\"curriculum_items\\\":[{\\\"curriculum_requisites\\\":[],\\\"name\\\":\\\" \\\",\\\"metrics\\\":{\\\"complexity\\\":1.0,\\\"centrality\\\":0,\\\"blocking factor\\\":0,\\\"delay factor\\\":1.0},\\\"nameSub\\\":\\\"ADVS 1110\\\",\\\"id\\\":1,\\\"credits\\\":4,\\\"nameCanonical\\\":\\\"\\\"},{\\\"curriculum_requisites\\\":[],\\\"name\\\":\\\" \\\",\\\"metrics\\\":{\\\"complexity\\\":9.0,\\\"centrality\\\":0,\\\"blocking factor\\\":5,\\\"delay factor\\\":4.0},\\\"nameSub\\\":\\\"BIOL 1610\\\",\\\"id\\\":2,\\\"credits\\\":3,\\\"nameCanonical\\\":\\\"\\\"},{\\\"curriculum_requisites\\\":[],\\\"name\\\":\\\" \\\",\\\"metrics\\\":{\\\"complexity\\\":1.0,\\\"centrality\\\":0,\\\"blocking factor\\\":0,\\\"delay factor\\\":1.0},\\\"nameSub\\\":\\\"BIOL 1615\\\",\\\"id\\\":3,\\\"credits\\\":1,\\\"nameCanonical\\\":\\\"\\\"},{\\\"curriculum_requisites\\\":[],\\\"name\\\":\\\" \\\",\\\"metrics\\\":{\\\"complexity\\\":3.0,\\\"centrality\\\":0,\\\"blocking factor\\\":1,\\\"delay factor\\\":2.0},\\\"nameSub\\\":\\\"ENGL 1010\\\",\\\"id\\\":4,\\\"credits\\\":3,\\\"nameCanonical\\\":\\\"\\\"},{\\\"curriculum_requisites\\\":[],\\\"name\\\":\\\" \\\",\\\"metrics\\\":{\\\"complexity\\\":1.0,\\\"centrality\\\":0,\\\"blocking factor\\\":0,\\\"delay factor\\\":1.0},\\\"nameSub\\\":\\\"MATH 1050\\\",\\\"id\\\":5,\\\"credits\\\":4,\\\"nameCanonical\\\":\\\"\\\"},{\\\"curriculum_requisites\\\":[],\\\"name\\\":\\\" \\\",\\\"metrics\\\":{\\\"complexity\\\":1.0,\\\"centrality\\\":0,\\\"blocking factor\\\":0,\\\"delay factor\\\":1.0},\\\"nameSub\\\":\\\"ADVS 1050\\\",\\\"id\\\":6,\\\"credits\\\":1,\\\"nameCanonical\\\":\\\"\\\"}],\\\"id\\\":1},{\\\"name\\\":\\\"Term 2\\\",\\\"curriculum_items\\\":[{\\\"curriculum_requisites\\\":[],\\\"name\\\":\\\" \\\",\\\"metrics\\\":{\\\"complexity\\\":1.0,\\\"centrality\\\":0,\\\"blocking factor\\\":0,\\\"delay factor\\\":1.0},\\\"nameSub\\\":\\\"ADVS 1600\\\",\\\"id\\\":7,\\\"credits\\\":3,\\\"nameCanonical\\\":\\\"\\\"},{\\\"curriculum_requisites\\\":[],\\\"name\\\":\\\" \\\",\\\"metrics\\\":{\\\"complexity\\\":3.0,\\\"centrality\\\":0,\\\"blocking factor\\\":1,\\\"delay factor\\\":2.0},\\\"nameSub\\\":\\\"ADVS 2190\\\",\\\"id\\\":8,\\\"credits\\\":3,\\\"nameCanonical\\\":\\\"\\\"},{\\\"curriculum_requisites\\\":[{\\\"source_id\\\":2,\\\"target_id\\\":9,\\\"type\\\":\\\"CurriculumPrerequisite\\\"}],\\\"name\\\":\\\" \\\",\\\"metrics\\\":{\\\"complexity\\\":8.0,\\\"centrality\\\":11,\\\"blocking factor\\\":4,\\\"delay factor\\\":4.0},\\\"nameSub\\\":\\\"BIOL 1620\\\",\\\"id\\\":9,\\\"credits\\\":3,\\\"nameCanonical\\\":\\\"\\\"},{\\\"curriculum_requisites\\\":[],\\\"name\\\":\\\" \\\",\\\"metrics\\\":{\\\"complexity\\\":1.0,\\\"centrality\\\":0,\\\"blocking factor\\\":0,\\\"delay factor\\\":1.0},\\\"nameSub\\\":\\\"BIOL 1625\\\",\\\"id\\\":10,\\\"credits\\\":1,\\\"nameCanonical\\\":\\\"\\\"},{\\\"curriculum_requisites\\\":[],\\\"name\\\":\\\" \\\",\\\"metrics\\\":{\\\"complexity\\\":1.0,\\\"centrality\\\":0,\\\"blocking factor\\\":0,\\\"delay factor\\\":1.0},\\\"nameSub\\\":\\\"STAT 1040\\\",\\\"id\\\":11,\\\"credits\\\":3,\\\"nameCanonical\\\":\\\"\\\"},{\\\"curriculum_requisites\\\":[],\\\"name\\\":\\\" \\\",\\\"metrics\\\":{\\\"complexity\\\":1.0,\\\"centrality\\\":0,\\\"blocking factor\\\":0,\\\"delay factor\\\":1.0},\\\"nameSub\\\":\\\"Elective 1\\\",\\\"id\\\":12,\\\"credits\\\":2,\\\"nameCanonical\\\":\\\"\\\"}],\\\"id\\\":2},{\\\"name\\\":\\\"Term 3\\\",\\\"curriculum_items\\\":[{\\\"curriculum_requisites\\\":[{\\\"source_id\\\":8,\\\"target_id\\\":13,\\\"type\\\":\\\"CurriculumPrerequisite\\\"}],\\\"name\\\":\\\" \\\",\\\"metrics\\\":{\\\"complexity\\\":2.0,\\\"centrality\\\":0,\\\"blocking factor\\\":0,\\\"delay factor\\\":2.0},\\\"nameSub\\\":\\\"ADVS 2300\\\",\\\"id\\\":13,\\\"credits\\\":2,\\\"nameCanonical\\\":\\\"\\\"},{\\\"curriculum_requisites\\\":[],\\\"name\\\":\\\" \\\",\\\"metrics\\\":{\\\"complexity\\\":3.0,\\\"centrality\\\":0,\\\"blocking factor\\\":1,\\\"delay factor\\\":2.0},\\\"nameSub\\\":\\\"CHEM 1210\\\",\\\"id\\\":14,\\\"credits\\\":4,\\\"nameCanonical\\\":\\\"\\\"},{\\\"curriculum_requisites\\\":[],\\\"name\\\":\\\" \\\",\\\"metrics\\\":{\\\"complexity\\\":1.0,\\\"centrality\\\":0,\\\"blocking factor\\\":0,\\\"delay factor\\\":1.0},\\\"nameSub\\\":\\\"CHEM 1215\\\",\\\"id\\\":15,\\\"credits\\\":1,\\\"nameCanonical\\\":\\\"\\\"},{\\\"curriculum_requisites\\\":[],\\\"name\\\":\\\" \\\",\\\"metrics\\\":{\\\"complexity\\\":1.0,\\\"centrality\\\":0,\\\"blocking factor\\\":0,\\\"delay factor\\\":1.0},\\\"nameSub\\\":\\\"APEC 1600\\\",\\\"id\\\":16,\\\"credits\\\":3,\\\"nameCanonical\\\":\\\"\\\"},{\\\"curriculum_requisites\\\":[],\\\"name\\\":\\\" \\\",\\\"metrics\\\":{\\\"complexity\\\":1.0,\\\"centrality\\\":0,\\\"blocking factor\\\":0,\\\"delay factor\\\":1.0},\\\"nameSub\\\":\\\"LAEP 1030\\\",\\\"id\\\":17,\\\"credits\\\":3,\\\"nameCanonical\\\":\\\"\\\"},{\\\"curriculum_requisites\\\":[],\\\"name\\\":\\\" \\\",\\\"metrics\\\":{\\\"complexity\\\":1.0,\\\"centrality\\\":0,\\\"blocking factor\\\":0,\\\"delay factor\\\":1.0},\\\"nameSub\\\":\\\"Elective 2\\\",\\\"id\\\":18,\\\"credits\\\":2,\\\"nameCanonical\\\":\\\"\\\"}],\\\"id\\\":3},{\\\"name\\\":\\\"Term 4\\\",\\\"curriculum_items\\\":[{\\\"curriculum_requisites\\\":[{\\\"source_id\\\":9,\\\"target_id\\\":19,\\\"type\\\":\\\"CurriculumPrerequisite\\\"}],\\\"name\\\":\\\" \\\",\\\"metrics\\\":{\\\"complexity\\\":6.0,\\\"centrality\\\":8,\\\"blocking factor\\\":2,\\\"delay factor\\\":4.0},\\\"nameSub\\\":\\\"ADVS 2200\\\",\\\"id\\\":19,\\\"credits\\\":4,\\\"nameCanonical\\\":\\\"\\\"},{\\\"curriculum_requisites\\\":[],\\\"name\\\":\\\" \\\",\\\"metrics\\\":{\\\"complexity\\\":1.0,\\\"centrality\\\":0,\\\"blocking factor\\\":0,\\\"delay factor\\\":1.0},\\\"nameSub\\\":\\\"APEC 2010\\\",\\\"id\\\":20,\\\"credits\\\":3,\\\"nameCanonical\\\":\\\"\\\"},{\\\"curriculum_requisites\\\":[{\\\"source_id\\\":14,\\\"target_id\\\":21,\\\"type\\\":\\\"CurriculumPrerequisite\\\"}],\\\"name\\\":\\\" \\\",\\\"metrics\\\":{\\\"complexity\\\":2.0,\\\"centrality\\\":0,\\\"blocking factor\\\":0,\\\"delay factor\\\":2.0},\\\"nameSub\\\":\\\"CHEM 1220\\\",\\\"id\\\":21,\\\"credits\\\":4,\\\"nameCanonical\\\":\\\"\\\"},{\\\"curriculum_requisites\\\":[],\\\"name\\\":\\\" \\\",\\\"metrics\\\":{\\\"complexity\\\":1.0,\\\"centrality\\\":0,\\\"blocking factor\\\":0,\\\"delay factor\\\":1.0},\\\"nameSub\\\":\\\"CHEM 1225\\\",\\\"id\\\":22,\\\"credits\\\":1,\\\"nameCanonical\\\":\\\"\\\"},{\\\"curriculum_requisites\\\":[{\\\"source_id\\\":4,\\\"target_id\\\":23,\\\"type\\\":\\\"CurriculumPrerequisite\\\"}],\\\"name\\\":\\\" \\\",\\\"metrics\\\":{\\\"complexity\\\":2.0,\\\"centrality\\\":0,\\\"blocking factor\\\":0,\\\"delay factor\\\":2.0},\\\"nameSub\\\":\\\"Engl 2010\\\",\\\"id\\\":23,\\\"credits\\\":3,\\\"nameCanonical\\\":\\\"\\\"}],\\\"id\\\":4},{\\\"name\\\":\\\"Term 5\\\",\\\"curriculum_items\\\":[{\\\"curriculum_requisites\\\":[],\\\"name\\\":\\\" \\\",\\\"metrics\\\":{\\\"complexity\\\":1.0,\\\"centrality\\\":0,\\\"blocking factor\\\":0,\\\"delay factor\\\":1.0},\\\"nameSub\\\":\\\"ADVS 2500\\\",\\\"id\\\":24,\\\"credits\\\":3,\\\"nameCanonical\\\":\\\"\\\"},{\\\"curriculum_requisites\\\":[],\\\"name\\\":\\\" \\\",\\\"metrics\\\":{\\\"complexity\\\":1.0,\\\"centrality\\\":0,\\\"blocking factor\\\":0,\\\"delay factor\\\":1.0},\\\"nameSub\\\":\\\"MGT 3530\\\",\\\"id\\\":25,\\\"credits\\\":3,\\\"nameCanonical\\\":\\\"\\\"},{\\\"curriculum_requisites\\\":[],\\\"name\\\":\\\" \\\",\\\"metrics\\\":{\\\"complexity\\\":1.0,\\\"centrality\\\":0,\\\"blocking factor\\\":0,\\\"delay factor\\\":1.0},\\\"nameSub\\\":\\\"ADVS 3520\\\",\\\"id\\\":26,\\\"credits\\\":3,\\\"nameCanonical\\\":\\\"\\\"},{\\\"curriculum_requisites\\\":[],\\\"name\\\":\\\" \\\",\\\"metrics\\\":{\\\"complexity\\\":1.0,\\\"centrality\\\":0,\\\"blocking factor\\\":0,\\\"delay factor\\\":1.0},\\\"nameSub\\\":\\\"ENGL 2240\\\",\\\"id\\\":27,\\\"credits\\\":3,\\\"nameCanonical\\\":\\\"\\\"},{\\\"curriculum_requisites\\\":[],\\\"name\\\":\\\" \\\",\\\"metrics\\\":{\\\"complexity\\\":1.0,\\\"centrality\\\":0,\\\"blocking factor\\\":0,\\\"delay factor\\\":1.0},\\\"nameSub\\\":\\\"APEC 3012\\\",\\\"id\\\":28,\\\"credits\\\":3,\\\"nameCanonical\\\":\\\"\\\"}],\\\"id\\\":5},{\\\"name\\\":\\\"Term 6\\\",\\\"curriculum_items\\\":[{\\\"curriculum_requisites\\\":[{\\\"source_id\\\":19,\\\"target_id\\\":29,\\\"type\\\":\\\"CurriculumPrerequisite\\\"}],\\\"name\\\":\\\" \\\",\\\"metrics\\\":{\\\"complexity\\\":4.0,\\\"centrality\\\":0,\\\"blocking factor\\\":0,\\\"delay factor\\\":4.0},\\\"nameSub\\\":\\\"ADVS 3000\\\",\\\"id\\\":29,\\\"credits\\\":3,\\\"nameCanonical\\\":\\\"\\\"},{\\\"curriculum_requisites\\\":[],\\\"name\\\":\\\" \\\",\\\"metrics\\\":{\\\"complexity\\\":1.0,\\\"centrality\\\":0,\\\"blocking factor\\\":0,\\\"delay factor\\\":1.0},\\\"nameSub\\\":\\\"ADVS 3100\\\",\\\"id\\\":30,\\\"credits\\\":3,\\\"nameCanonical\\\":\\\"\\\"},{\\\"curriculum_requisites\\\":[],\\\"name\\\":\\\" \\\",\\\"metrics\\\":{\\\"complexity\\\":1.0,\\\"centrality\\\":0,\\\"blocking factor\\\":0,\\\"delay factor\\\":1.0},\\\"nameSub\\\":\\\"ASTE 2830\\\",\\\"id\\\":31,\\\"credits\\\":3,\\\"nameCanonical\\\":\\\"\\\"},{\\\"curriculum_requisites\\\":[],\\\"name\\\":\\\" \\\",\\\"metrics\\\":{\\\"complexity\\\":1.0,\\\"centrality\\\":0,\\\"blocking factor\\\":0,\\\"delay factor\\\":1.0},\\\"nameSub\\\":\\\"Elective 3\\\",\\\"id\\\":32,\\\"credits\\\":3,\\\"nameCanonical\\\":\\\"\\\"},{\\\"curriculum_requisites\\\":[],\\\"name\\\":\\\" \\\",\\\"metrics\\\":{\\\"complexity\\\":1.0,\\\"centrality\\\":0,\\\"blocking factor\\\":0,\\\"delay factor\\\":1.0},\\\"nameSub\\\":\\\"Elective 4\\\",\\\"id\\\":33,\\\"credits\\\":3,\\\"nameCanonical\\\":\\\"\\\"}],\\\"id\\\":6},{\\\"name\\\":\\\"Term 7\\\",\\\"curriculum_items\\\":[{\\\"curriculum_requisites\\\":[{\\\"source_id\\\":19,\\\"target_id\\\":34,\\\"type\\\":\\\"CurriculumPrerequisite\\\"}],\\\"name\\\":\\\" \\\",\\\"metrics\\\":{\\\"complexity\\\":4.0,\\\"centrality\\\":0,\\\"blocking factor\\\":0,\\\"delay factor\\\":4.0},\\\"nameSub\\\":\\\"ADVS 4200\\\",\\\"id\\\":34,\\\"credits\\\":4,\\\"nameCanonical\\\":\\\"\\\"},{\\\"curriculum_requisites\\\":[],\\\"name\\\":\\\" \\\",\\\"metrics\\\":{\\\"complexity\\\":1.0,\\\"centrality\\\":0,\\\"blocking factor\\\":0,\\\"delay factor\\\":1.0},\\\"nameSub\\\":\\\"ADVS 4270\\\",\\\"id\\\":35,\\\"credits\\\":4,\\\"nameCanonical\\\":\\\"\\\"},{\\\"curriculum_requisites\\\":[{\\\"source_id\\\":9,\\\"target_id\\\":36,\\\"type\\\":\\\"CurriculumPrerequisite\\\"}],\\\"name\\\":\\\" \\\",\\\"metrics\\\":{\\\"complexity\\\":3.0,\\\"centrality\\\":0,\\\"blocking factor\\\":0,\\\"delay factor\\\":3.0},\\\"nameSub\\\":\\\"ADVS 4560\\\",\\\"id\\\":36,\\\"credits\\\":3,\\\"nameCanonical\\\":\\\"\\\"},{\\\"curriculum_requisites\\\":[],\\\"name\\\":\\\" \\\",\\\"metrics\\\":{\\\"complexity\\\":1.0,\\\"centrality\\\":0,\\\"blocking factor\\\":0,\\\"delay factor\\\":1.0},\\\"nameSub\\\":\\\"ADVS 4920\\\",\\\"id\\\":37,\\\"credits\\\":2,\\\"nameCanonical\\\":\\\"\\\"},{\\\"curriculum_requisites\\\":[],\\\"name\\\":\\\" \\\",\\\"metrics\\\":{\\\"complexity\\\":1.0,\\\"centrality\\\":0,\\\"blocking factor\\\":0,\\\"delay factor\\\":1.0},\\\"nameSub\\\":\\\"ADVS 5190\\\",\\\"id\\\":38,\\\"credits\\\":3,\\\"nameCanonical\\\":\\\"\\\"}],\\\"id\\\":7},{\\\"name\\\":\\\"Term 8\\\",\\\"curriculum_items\\\":[{\\\"curriculum_requisites\\\":[],\\\"name\\\":\\\" \\\",\\\"metrics\\\":{\\\"complexity\\\":1.0,\\\"centrality\\\":0,\\\"blocking factor\\\":0,\\\"delay factor\\\":1.0},\\\"nameSub\\\":\\\"APEC 3010\\\",\\\"id\\\":39,\\\"credits\\\":3,\\\"nameCanonical\\\":\\\"\\\"},{\\\"curriculum_requisites\\\":[],\\\"name\\\":\\\" \\\",\\\"metrics\\\":{\\\"complexity\\\":1.0,\\\"centrality\\\":0,\\\"blocking factor\\\":0,\\\"delay factor\\\":1.0},\\\"nameSub\\\":\\\"MGT 3500\\\",\\\"id\\\":40,\\\"credits\\\":3,\\\"nameCanonical\\\":\\\"\\\"},{\\\"curriculum_requisites\\\":[],\\\"name\\\":\\\" \\\",\\\"metrics\\\":{\\\"complexity\\\":1.0,\\\"centrality\\\":0,\\\"blocking factor\\\":0,\\\"delay factor\\\":1.0},\\\"nameSub\\\":\\\"MGT 3110\\\",\\\"id\\\":41,\\\"credits\\\":3,\\\"nameCanonical\\\":\\\"\\\"},{\\\"curriculum_requisites\\\":[],\\\"name\\\":\\\" \\\",\\\"metrics\\\":{\\\"complexity\\\":1.0,\\\"centrality\\\":0,\\\"blocking factor\\\":0,\\\"delay factor\\\":1.0},\\\"nameSub\\\":\\\"ENGL 3040\\\",\\\"id\\\":42,\\\"credits\\\":3,\\\"nameCanonical\\\":\\\"\\\"},{\\\"curriculum_requisites\\\":[],\\\"name\\\":\\\" \\\",\\\"metrics\\\":{\\\"complexity\\\":1.0,\\\"centrality\\\":0,\\\"blocking factor\\\":0,\\\"delay factor\\\":1.0},\\\"nameSub\\\":\\\"Elective 5\\\",\\\"id\\\":43,\\\"credits\\\":3,\\\"nameCanonical\\\":\\\"\\\"}],\\\"id\\\":8}],\\\"institution\\\":\\\"Utah State University\\\"}},\\\"*\\\"); window.removeEventListener(\\\"message\\\",window.messageReceived); window.messageReceived=(function (event){return (event.data.curriculum!==undefined) ? (WebIO.setval({\\\"name\\\":\\\"curriculum-data\\\",\\\"scope\\\":\\\"64121313442752630\\\",\\\"id\\\":\\\"14584118147419934612\\\",\\\"type\\\":\\\"observable\\\"},event.data.curriculum)) : undefined}); return window.addEventListener(\\\"message\\\",window.messageReceived)})\")),:style => Dict(:padding => \"0\",:height => \"100vh\",:margin => \"0\",:border => \"none\",:width => \"100%\"))), Dict{String,Tuple{Observables.AbstractObservable,Union{Nothing, Bool}}}(\"curriculum-data\" => (Observable{Dict{String,Any}} with 1 listeners. Value:\n",
       "Dict{String,Any}(\"options\" => Dict{String,Any}(\"hideTerms\" => false,\"edit\" => false),\"curriculum\" => Dict{String,Any}(\"name\" => \"Animal Science (Equine)\",\"dp_name\" => \"4-Year Plan\",\"curriculum_terms\" => Dict{String,Any}[Dict(\"name\" => \"Term 1\",\"curriculum_items\" => Dict{String,Any}[Dict(\"curriculum_requisites\" => Dict{String,Any}[],\"name\" => \" \",\"metrics\" => Dict{String,Any}(\"complexity\" => 1.0,\"centrality\" => 0,\"blocking factor\" => 0,\"delay factor\" => 1.0),\"nameSub\" => \"ADVS 1110\",\"id\" => 1,\"credits\" => 4,\"nameCanonical\" => \"\"), Dict(\"curriculum_requisites\" => Dict{String,Any}[],\"name\" => \" \",\"metrics\" => Dict{String,Any}(\"complexity\" => 9.0,\"centrality\" => 0,\"blocking factor\" => 5,\"delay factor\" => 4.0),\"nameSub\" => \"BIOL 1610\",\"id\" => 2,\"credits\" => 3,\"nameCanonical\" => \"\"), Dict(\"curriculum_requisites\" => Dict{String,Any}[],\"name\" => \" \",\"metrics\" => Dict{String,Any}(\"complexity\" => 1.0,\"centrality\" => 0,\"blocking factor\" => 0,\"delay factor\" => 1.0),\"nameSub\" => \"BIOL 1615\",\"id\" => 3,\"credits\" => 1,\"nameCanonical\" => \"\"), Dict(\"curriculum_requisites\" => Dict{String,Any}[],\"name\" => \" \",\"metrics\" => Dict{String,Any}(\"complexity\" => 3.0,\"centrality\" => 0,\"blocking factor\" => 1,\"delay factor\" => 2.0),\"nameSub\" => \"ENGL 1010\",\"id\" => 4,\"credits\" => 3,\"nameCanonical\" => \"\"), Dict(\"curriculum_requisites\" => Dict{String,Any}[],\"name\" => \" \",\"metrics\" => Dict{String,Any}(\"complexity\" => 1.0,\"centrality\" => 0,\"blocking factor\" => 0,\"delay factor\" => 1.0),\"nameSub\" => \"MATH 1050\",\"id\" => 5,\"credits\" => 4,\"nameCanonical\" => \"\"), Dict(\"curriculum_requisites\" => Dict{String,Any}[],\"name\" => \" \",\"metrics\" => Dict{String,Any}(\"complexity\" => 1.0,\"centrality\" => 0,\"blocking factor\" => 0,\"delay factor\" => 1.0),\"nameSub\" => \"ADVS 1050\",\"id\" => 6,\"credits\" => 1,\"nameCanonical\" => \"\")],\"id\" => 1), Dict(\"name\" => \"Term 2\",\"curriculum_items\" => Dict{String,Any}[Dict(\"curriculum_requisites\" => Dict{String,Any}[],\"name\" => \" \",\"metrics\" => Dict{String,Any}(\"complexity\" => 1.0,\"centrality\" => 0,\"blocking factor\" => 0,\"delay factor\" => 1.0),\"nameSub\" => \"ADVS 1600\",\"id\" => 7,\"credits\" => 3,\"nameCanonical\" => \"\"), Dict(\"curriculum_requisites\" => Dict{String,Any}[],\"name\" => \" \",\"metrics\" => Dict{String,Any}(\"complexity\" => 3.0,\"centrality\" => 0,\"blocking factor\" => 1,\"delay factor\" => 2.0),\"nameSub\" => \"ADVS 2190\",\"id\" => 8,\"credits\" => 3,\"nameCanonical\" => \"\"), Dict(\"curriculum_requisites\" => Dict{String,Any}[Dict(\"source_id\" => 2,\"target_id\" => 9,\"type\" => \"CurriculumPrerequisite\")],\"name\" => \" \",\"metrics\" => Dict{String,Any}(\"complexity\" => 8.0,\"centrality\" => 11,\"blocking factor\" => 4,\"delay factor\" => 4.0),\"nameSub\" => \"BIOL 1620\",\"id\" => 9,\"credits\" => 3,\"nameCanonical\" => \"\"), Dict(\"curriculum_requisites\" => Dict{String,Any}[],\"name\" => \" \",\"metrics\" => Dict{String,Any}(\"complexity\" => 1.0,\"centrality\" => 0,\"blocking factor\" => 0,\"delay factor\" => 1.0),\"nameSub\" => \"BIOL 1625\",\"id\" => 10,\"credits\" => 1,\"nameCanonical\" => \"\"), Dict(\"curriculum_requisites\" => Dict{String,Any}[],\"name\" => \" \",\"metrics\" => Dict{String,Any}(\"complexity\" => 1.0,\"centrality\" => 0,\"blocking factor\" => 0,\"delay factor\" => 1.0),\"nameSub\" => \"STAT 1040\",\"id\" => 11,\"credits\" => 3,\"nameCanonical\" => \"\"), Dict(\"curriculum_requisites\" => Dict{String,Any}[],\"name\" => \" \",\"metrics\" => Dict{String,Any}(\"complexity\" => 1.0,\"centrality\" => 0,\"blocking factor\" => 0,\"delay factor\" => 1.0),\"nameSub\" => \"Elective 1\",\"id\" => 12,\"credits\" => 2,\"nameCanonical\" => \"\")],\"id\" => 2), Dict(\"name\" => \"Term 3\",\"curriculum_items\" => Dict{String,Any}[Dict(\"curriculum_requisites\" => Dict{String,Any}[Dict(\"source_id\" => 8,\"target_id\" => 13,\"type\" => \"CurriculumPrerequisite\")],\"name\" => \" \",\"metrics\" => Dict{String,Any}(\"complexity\" => 2.0,\"centrality\" => 0,\"blocking factor\" => 0,\"delay factor\" => 2.0),\"nameSub\" => \"ADVS 2300\",\"id\" => 13,\"credits\" => 2,\"nameCanonical\" => \"\"), Dict(\"curriculum_requisites\" => Dict{String,Any}[],\"name\" => \" \",\"metrics\" => Dict{String,Any}(\"complexity\" => 3.0,\"centrality\" => 0,\"blocking factor\" => 1,\"delay factor\" => 2.0),\"nameSub\" => \"CHEM 1210\",\"id\" => 14,\"credits\" => 4,\"nameCanonical\" => \"\"), Dict(\"curriculum_requisites\" => Dict{String,Any}[],\"name\" => \" \",\"metrics\" => Dict{String,Any}(\"complexity\" => 1.0,\"centrality\" => 0,\"blocking factor\" => 0,\"delay factor\" => 1.0),\"nameSub\" => \"CHEM 1215\",\"id\" => 15,\"credits\" => 1,\"nameCanonical\" => \"\"), Dict(\"curriculum_requisites\" => Dict{String,Any}[],\"name\" => \" \",\"metrics\" => Dict{String,Any}(\"complexity\" => 1.0,\"centrality\" => 0,\"blocking factor\" => 0,\"delay factor\" => 1.0),\"nameSub\" => \"APEC 1600\",\"id\" => 16,\"credits\" => 3,\"nameCanonical\" => \"\"), Dict(\"curriculum_requisites\" => Dict{String,Any}[],\"name\" => \" \",\"metrics\" => Dict{String,Any}(\"complexity\" => 1.0,\"centrality\" => 0,\"blocking factor\" => 0,\"delay factor\" => 1.0),\"nameSub\" => \"LAEP 1030\",\"id\" => 17,\"credits\" => 3,\"nameCanonical\" => \"\"), Dict(\"curriculum_requisites\" => Dict{String,Any}[],\"name\" => \" \",\"metrics\" => Dict{String,Any}(\"complexity\" => 1.0,\"centrality\" => 0,\"blocking factor\" => 0,\"delay factor\" => 1.0),\"nameSub\" => \"Elective 2\",\"id\" => 18,\"credits\" => 2,\"nameCanonical\" => \"\")],\"id\" => 3), Dict(\"name\" => \"Term 4\",\"curriculum_items\" => Dict{String,Any}[Dict(\"curriculum_requisites\" => Dict{String,Any}[Dict(\"source_id\" => 9,\"target_id\" => 19,\"type\" => \"CurriculumPrerequisite\")],\"name\" => \" \",\"metrics\" => Dict{String,Any}(\"complexity\" => 6.0,\"centrality\" => 8,\"blocking factor\" => 2,\"delay factor\" => 4.0),\"nameSub\" => \"ADVS 2200\",\"id\" => 19,\"credits\" => 4,\"nameCanonical\" => \"\"), Dict(\"curriculum_requisites\" => Dict{String,Any}[],\"name\" => \" \",\"metrics\" => Dict{String,Any}(\"complexity\" => 1.0,\"centrality\" => 0,\"blocking factor\" => 0,\"delay factor\" => 1.0),\"nameSub\" => \"APEC 2010\",\"id\" => 20,\"credits\" => 3,\"nameCanonical\" => \"\"), Dict(\"curriculum_requisites\" => Dict{String,Any}[Dict(\"source_id\" => 14,\"target_id\" => 21,\"type\" => \"CurriculumPrerequisite\")],\"name\" => \" \",\"metrics\" => Dict{String,Any}(\"complexity\" => 2.0,\"centrality\" => 0,\"blocking factor\" => 0,\"delay factor\" => 2.0),\"nameSub\" => \"CHEM 1220\",\"id\" => 21,\"credits\" => 4,\"nameCanonical\" => \"\"), Dict(\"curriculum_requisites\" => Dict{String,Any}[],\"name\" => \" \",\"metrics\" => Dict{String,Any}(\"complexity\" => 1.0,\"centrality\" => 0,\"blocking factor\" => 0,\"delay factor\" => 1.0),\"nameSub\" => \"CHEM 1225\",\"id\" => 22,\"credits\" => 1,\"nameCanonical\" => \"\"), Dict(\"curriculum_requisites\" => Dict{String,Any}[Dict(\"source_id\" => 4,\"target_id\" => 23,\"type\" => \"CurriculumPrerequisite\")],\"name\" => \" \",\"metrics\" => Dict{String,Any}(\"complexity\" => 2.0,\"centrality\" => 0,\"blocking factor\" => 0,\"delay factor\" => 2.0),\"nameSub\" => \"Engl 2010\",\"id\" => 23,\"credits\" => 3,\"nameCanonical\" => \"\")],\"id\" => 4), Dict(\"name\" => \"Term 5\",\"curriculum_items\" => Dict{String,Any}[Dict(\"curriculum_requisites\" => Dict{String,Any}[],\"name\" => \" \",\"metrics\" => Dict{String,Any}(\"complexity\" => 1.0,\"centrality\" => 0,\"blocking factor\" => 0,\"delay factor\" => 1.0),\"nameSub\" => \"ADVS 2500\",\"id\" => 24,\"credits\" => 3,\"nameCanonical\" => \"\"), Dict(\"curriculum_requisites\" => Dict{String,Any}[],\"name\" => \" \",\"metrics\" => Dict{String,Any}(\"complexity\" => 1.0,\"centrality\" => 0,\"blocking factor\" => 0,\"delay factor\" => 1.0),\"nameSub\" => \"MGT 3530\",\"id\" => 25,\"credits\" => 3,\"nameCanonical\" => \"\"), Dict(\"curriculum_requisites\" => Dict{String,Any}[],\"name\" => \" \",\"metrics\" => Dict{String,Any}(\"complexity\" => 1.0,\"centrality\" => 0,\"blocking factor\" => 0,\"delay factor\" => 1.0),\"nameSub\" => \"ADVS 3520\",\"id\" => 26,\"credits\" => 3,\"nameCanonical\" => \"\"), Dict(\"curriculum_requisites\" => Dict{String,Any}[],\"name\" => \" \",\"metrics\" => Dict{String,Any}(\"complexity\" => 1.0,\"centrality\" => 0,\"blocking factor\" => 0,\"delay factor\" => 1.0),\"nameSub\" => \"ENGL 2240\",\"id\" => 27,\"credits\" => 3,\"nameCanonical\" => \"\"), Dict(\"curriculum_requisites\" => Dict{String,Any}[],\"name\" => \" \",\"metrics\" => Dict{String,Any}(\"complexity\" => 1.0,\"centrality\" => 0,\"blocking factor\" => 0,\"delay factor\" => 1.0),\"nameSub\" => \"APEC 3012\",\"id\" => 28,\"credits\" => 3,\"nameCanonical\" => \"\")],\"id\" => 5), Dict(\"name\" => \"Term 6\",\"curriculum_items\" => Dict{String,Any}[Dict(\"curriculum_requisites\" => Dict{String,Any}[Dict(\"source_id\" => 19,\"target_id\" => 29,\"type\" => \"CurriculumPrerequisite\")],\"name\" => \" \",\"metrics\" => Dict{String,Any}(\"complexity\" => 4.0,\"centrality\" => 0,\"blocking factor\" => 0,\"delay factor\" => 4.0),\"nameSub\" => \"ADVS 3000\",\"id\" => 29,\"credits\" => 3,\"nameCanonical\" => \"\"), Dict(\"curriculum_requisites\" => Dict{String,Any}[],\"name\" => \" \",\"metrics\" => Dict{String,Any}(\"complexity\" => 1.0,\"centrality\" => 0,\"blocking factor\" => 0,\"delay factor\" => 1.0),\"nameSub\" => \"ADVS 3100\",\"id\" => 30,\"credits\" => 3,\"nameCanonical\" => \"\"), Dict(\"curriculum_requisites\" => Dict{String,Any}[],\"name\" => \" \",\"metrics\" => Dict{String,Any}(\"complexity\" => 1.0,\"centrality\" => 0,\"blocking factor\" => 0,\"delay factor\" => 1.0),\"nameSub\" => \"ASTE 2830\",\"id\" => 31,\"credits\" => 3,\"nameCanonical\" => \"\"), Dict(\"curriculum_requisites\" => Dict{String,Any}[],\"name\" => \" \",\"metrics\" => Dict{String,Any}(\"complexity\" => 1.0,\"centrality\" => 0,\"blocking factor\" => 0,\"delay factor\" => 1.0),\"nameSub\" => \"Elective 3\",\"id\" => 32,\"credits\" => 3,\"nameCanonical\" => \"\"), Dict(\"curriculum_requisites\" => Dict{String,Any}[],\"name\" => \" \",\"metrics\" => Dict{String,Any}(\"complexity\" => 1.0,\"centrality\" => 0,\"blocking factor\" => 0,\"delay factor\" => 1.0),\"nameSub\" => \"Elective 4\",\"id\" => 33,\"credits\" => 3,\"nameCanonical\" => \"\")],\"id\" => 6), Dict(\"name\" => \"Term 7\",\"curriculum_items\" => Dict{String,Any}[Dict(\"curriculum_requisites\" => Dict{String,Any}[Dict(\"source_id\" => 19,\"target_id\" => 34,\"type\" => \"CurriculumPrerequisite\")],\"name\" => \" \",\"metrics\" => Dict{String,Any}(\"complexity\" => 4.0,\"centrality\" => 0,\"blocking factor\" => 0,\"delay factor\" => 4.0),\"nameSub\" => \"ADVS 4200\",\"id\" => 34,\"credits\" => 4,\"nameCanonical\" => \"\"), Dict(\"curriculum_requisites\" => Dict{String,Any}[],\"name\" => \" \",\"metrics\" => Dict{String,Any}(\"complexity\" => 1.0,\"centrality\" => 0,\"blocking factor\" => 0,\"delay factor\" => 1.0),\"nameSub\" => \"ADVS 4270\",\"id\" => 35,\"credits\" => 4,\"nameCanonical\" => \"\"), Dict(\"curriculum_requisites\" => Dict{String,Any}[Dict(\"source_id\" => 9,\"target_id\" => 36,\"type\" => \"CurriculumPrerequisite\")],\"name\" => \" \",\"metrics\" => Dict{String,Any}(\"complexity\" => 3.0,\"centrality\" => 0,\"blocking factor\" => 0,\"delay factor\" => 3.0),\"nameSub\" => \"ADVS 4560\",\"id\" => 36,\"credits\" => 3,\"nameCanonical\" => \"\"), Dict(\"curriculum_requisites\" => Dict{String,Any}[],\"name\" => \" \",\"metrics\" => Dict{String,Any}(\"complexity\" => 1.0,\"centrality\" => 0,\"blocking factor\" => 0,\"delay factor\" => 1.0),\"nameSub\" => \"ADVS 4920\",\"id\" => 37,\"credits\" => 2,\"nameCanonical\" => \"\"), Dict(\"curriculum_requisites\" => Dict{String,Any}[],\"name\" => \" \",\"metrics\" => Dict{String,Any}(\"complexity\" => 1.0,\"centrality\" => 0,\"blocking factor\" => 0,\"delay factor\" => 1.0),\"nameSub\" => \"ADVS 5190\",\"id\" => 38,\"credits\" => 3,\"nameCanonical\" => \"\")],\"id\" => 7), Dict(\"name\" => \"Term 8\",\"curriculum_items\" => Dict{String,Any}[Dict(\"curriculum_requisites\" => Dict{String,Any}[],\"name\" => \" \",\"metrics\" => Dict{String,Any}(\"complexity\" => 1.0,\"centrality\" => 0,\"blocking factor\" => 0,\"delay factor\" => 1.0),\"nameSub\" => \"APEC 3010\",\"id\" => 39,\"credits\" => 3,\"nameCanonical\" => \"\"), Dict(\"curriculum_requisites\" => Dict{String,Any}[],\"name\" => \" \",\"metrics\" => Dict{String,Any}(\"complexity\" => 1.0,\"centrality\" => 0,\"blocking factor\" => 0,\"delay factor\" => 1.0),\"nameSub\" => \"MGT 3500\",\"id\" => 40,\"credits\" => 3,\"nameCanonical\" => \"\"), Dict(\"curriculum_requisites\" => Dict{String,Any}[],\"name\" => \" \",\"metrics\" => Dict{String,Any}(\"complexity\" => 1.0,\"centrality\" => 0,\"blocking factor\" => 0,\"delay factor\" => 1.0),\"nameSub\" => \"MGT 3110\",\"id\" => 41,\"credits\" => 3,\"nameCanonical\" => \"\"), Dict(\"curriculum_requisites\" => Dict{String,Any}[],\"name\" => \" \",\"metrics\" => Dict{String,Any}(\"complexity\" => 1.0,\"centrality\" => 0,\"blocking factor\" => 0,\"delay factor\" => 1.0),\"nameSub\" => \"ENGL 3040\",\"id\" => 42,\"credits\" => 3,\"nameCanonical\" => \"\"), Dict(\"curriculum_requisites\" => Dict{String,Any}[],\"name\" => \" \",\"metrics\" => Dict{String,Any}(\"complexity\" => 1.0,\"centrality\" => 0,\"blocking factor\" => 0,\"delay factor\" => 1.0),\"nameSub\" => \"Elective 5\",\"id\" => 43,\"credits\" => 3,\"nameCanonical\" => \"\")],\"id\" => 8)],\"institution\" => \"Utah State University\")), nothing)), Set{String}(), nothing, WebIO.Asset[], Dict{Any,Any}(), WebIO.ConnectionPool(Channel{Any}(sz_max:32,sz_curr:0), Set{WebIO.AbstractConnection}(), Base.GenericCondition{Base.AlwaysLockedST}(Base.InvasiveLinkedList{Task}(Task (runnable) @0x00000001201f2410, Task (runnable) @0x00000001201f2410), Base.AlwaysLockedST(1))), WebIO.JSString[])"
      ]
     },
     "execution_count": 10,
     "metadata": {
      "application/vnd.webio.node+json": {
       "kernelId": "9dd30290-9719-4c59-84ee-e85e1e3d339f"
      }
     },
     "output_type": "execute_result"
    }
   ],
   "source": [
    "dp = schools_plans[\"utah-state\"][\"animal-science-equine\"]\n",
    "visualize(dp, notebook=true)"
   ]
  },
  {
   "cell_type": "markdown",
   "metadata": {},
   "source": [
    "Similarly, below are the mechanical engineering programs in the cluster having maximal and minimal curricular complexity.  It would also be interesting to compare the learning outcomes and student success rates of these two programs.  Note: Given that both are ABET accredited programs, they should have the same learning outcomes."
   ]
  },
  {
   "cell_type": "code",
   "execution_count": 11,
   "metadata": {
    "scrolled": false
   },
   "outputs": [
    {
     "data": {
      "application/vnd.webio.node+json": {
       "children": [
        {
         "children": [
          ""
         ],
         "instanceArgs": {
          "namespace": "html",
          "tag": "iframe"
         },
         "nodeType": "DOM",
         "props": {
          "events": {
           "load": "(function (){this.contentWindow.postMessage({\"options\":{\"hideTerms\":false,\"edit\":false},\"curriculum\":{\"name\":\"Mechanical Engineering\",\"dp_name\":\"4-Year Plan\",\"curriculum_terms\":[{\"name\":\"Term 1\",\"curriculum_items\":[{\"curriculum_requisites\":[],\"name\":\" \",\"metrics\":{\"complexity\":5.0,\"centrality\":0,\"blocking factor\":2,\"delay factor\":3.0},\"nameSub\":\"CHEM 111\",\"id\":1,\"credits\":4,\"nameCanonical\":\"\"},{\"curriculum_requisites\":[],\"name\":\" \",\"metrics\":{\"complexity\":5.0,\"centrality\":0,\"blocking factor\":2,\"delay factor\":3.0},\"nameSub\":\"CHEM 112\",\"id\":2,\"credits\":1,\"nameCanonical\":\"\"},{\"curriculum_requisites\":[],\"name\":\" \",\"metrics\":{\"complexity\":1.0,\"centrality\":0,\"blocking factor\":0,\"delay factor\":1.0},\"nameSub\":\"CO 150\",\"id\":3,\"credits\":3,\"nameCanonical\":\"\"},{\"curriculum_requisites\":[],\"name\":\" \",\"metrics\":{\"complexity\":33.0,\"centrality\":0,\"blocking factor\":26,\"delay factor\":7.0},\"nameSub\":\"MATH 160\",\"id\":4,\"credits\":4,\"nameCanonical\":\"\"},{\"curriculum_requisites\":[],\"name\":\" \",\"metrics\":{\"complexity\":14.0,\"centrality\":0,\"blocking factor\":9,\"delay factor\":5.0},\"nameSub\":\"MECH 103\",\"id\":5,\"credits\":3,\"nameCanonical\":\"\"}],\"id\":1},{\"name\":\"Term 2\",\"curriculum_items\":[{\"curriculum_requisites\":[{\"source_id\":4,\"target_id\":6,\"type\":\"CurriculumPrerequisite\"}],\"name\":\" \",\"metrics\":{\"complexity\":22.0,\"centrality\":70,\"blocking factor\":15,\"delay factor\":7.0},\"nameSub\":\"MATH 161\",\"id\":6,\"credits\":4,\"nameCanonical\":\"\"},{\"curriculum_requisites\":[{\"source_id\":5,\"target_id\":7,\"type\":\"CurriculumPrerequisite\"},{\"source_id\":8,\"target_id\":7,\"type\":\"CurriculumPrerequisite\"}],\"name\":\" \",\"metrics\":{\"complexity\":14.0,\"centrality\":44,\"blocking factor\":8,\"delay factor\":6.0},\"nameSub\":\"MECH 105\",\"id\":7,\"credits\":3,\"nameCanonical\":\"\"},{\"curriculum_requisites\":[{\"source_id\":4,\"target_id\":8,\"type\":\"CurriculumPrerequisite\"}],\"name\":\" \",\"metrics\":{\"complexity\":28.0,\"centrality\":81,\"blocking factor\":22,\"delay factor\":6.0},\"nameSub\":\"PH 141\",\"id\":8,\"credits\":5,\"nameCanonical\":\"\"},{\"curriculum_requisites\":[],\"name\":\" \",\"metrics\":{\"complexity\":1.0,\"centrality\":0,\"blocking factor\":0,\"delay factor\":1.0},\"nameSub\":\"AUCC 3B\",\"id\":9,\"credits\":6,\"nameCanonical\":\"\"}],\"id\":2},{\"name\":\"Term 3\",\"curriculum_items\":[{\"curriculum_requisites\":[{\"source_id\":8,\"target_id\":10,\"type\":\"CurriculumPrerequisite\"}],\"name\":\" \",\"metrics\":{\"complexity\":13.0,\"centrality\":22,\"blocking factor\":7,\"delay factor\":6.0},\"nameSub\":\"CIVE 260\",\"id\":10,\"credits\":3,\"nameCanonical\":\"\"},{\"curriculum_requisites\":[{\"source_id\":6,\"target_id\":11,\"type\":\"CurriculumPrerequisite\"}],\"name\":\" \",\"metrics\":{\"complexity\":17.0,\"centrality\":52,\"blocking factor\":10,\"delay factor\":7.0},\"nameSub\":\"MATH 261\",\"id\":11,\"credits\":4,\"nameCanonical\":\"\"},{\"curriculum_requisites\":[{\"source_id\":7,\"target_id\":12,\"type\":\"CurriculumPrerequisite\"}],\"name\":\" \",\"metrics\":{\"complexity\":8.0,\"centrality\":11,\"blocking factor\":2,\"delay factor\":6.0},\"nameSub\":\"MECH 200\",\"id\":12,\"credits\":3,\"nameCanonical\":\"\"},{\"curriculum_requisites\":[{\"source_id\":7,\"target_id\":13,\"type\":\"CurriculumPrerequisite\"}],\"name\":\" \",\"metrics\":{\"complexity\":8.0,\"centrality\":11,\"blocking factor\":2,\"delay factor\":6.0},\"nameSub\":\"MECH 201\",\"id\":13,\"credits\":2,\"nameCanonical\":\"\"},{\"curriculum_requisites\":[{\"source_id\":8,\"target_id\":14,\"type\":\"CurriculumPrerequisite\"},{\"source_id\":6,\"target_id\":14,\"type\":\"CurriculumPrerequisite\"}],\"name\":\" \",\"metrics\":{\"complexity\":11.0,\"centrality\":36,\"blocking factor\":5,\"delay factor\":6.0},\"nameSub\":\"PH 142\",\"id\":14,\"credits\":5,\"nameCanonical\":\"\"}],\"id\":3},{\"name\":\"Term 4\",\"curriculum_items\":[{\"curriculum_requisites\":[{\"source_id\":10,\"target_id\":15,\"type\":\"CurriculumPrerequisite\"}],\"name\":\" \",\"metrics\":{\"complexity\":9.0,\"centrality\":12,\"blocking factor\":3,\"delay factor\":6.0},\"nameSub\":\"CIVE 261\",\"id\":15,\"credits\":3,\"nameCanonical\":\"\"},{\"curriculum_requisites\":[{\"source_id\":14,\"target_id\":16,\"type\":\"CurriculumPrerequisite\"}],\"name\":\" \",\"metrics\":{\"complexity\":8.0,\"centrality\":12,\"blocking factor\":2,\"delay factor\":6.0},\"nameSub\":\"ECE 204\",\"id\":16,\"credits\":3,\"nameCanonical\":\"\"},{\"curriculum_requisites\":[{\"source_id\":11,\"target_id\":17,\"type\":\"CurriculumPrerequisite\"}],\"name\":\" \",\"metrics\":{\"complexity\":15.0,\"centrality\":32,\"blocking factor\":8,\"delay factor\":7.0},\"nameSub\":\"MATH 340\",\"id\":17,\"credits\":4,\"nameCanonical\":\"\"},{\"curriculum_requisites\":[{\"source_id\":13,\"target_id\":18,\"type\":\"CurriculumPrerequisite\"},{\"source_id\":12,\"target_id\":18,\"type\":\"CurriculumPrerequisite\"}],\"name\":\" \",\"metrics\":{\"complexity\":7.0,\"centrality\":22,\"blocking factor\":1,\"delay factor\":6.0},\"nameSub\":\"MECH 202\",\"id\":18,\"credits\":3,\"nameCanonical\":\"\"},{\"curriculum_requisites\":[{\"source_id\":7,\"target_id\":19,\"type\":\"CurriculumPrerequisite\"},{\"source_id\":14,\"target_id\":19,\"type\":\"CurriculumPrerequisite\"}],\"name\":\" \",\"metrics\":{\"complexity\":9.0,\"centrality\":46,\"blocking factor\":3,\"delay factor\":6.0},\"nameSub\":\"MECH 231\",\"id\":19,\"credits\":3,\"nameCanonical\":\"\"},{\"curriculum_requisites\":[{\"source_id\":11,\"target_id\":20,\"type\":\"CurriculumPrerequisite\"},{\"source_id\":8,\"target_id\":20,\"type\":\"CurriculumPrerequisite\"}],\"name\":\" \",\"metrics\":{\"complexity\":12.0,\"centrality\":37,\"blocking factor\":5,\"delay factor\":7.0},\"nameSub\":\"MECH 337\",\"id\":20,\"credits\":4,\"nameCanonical\":\"\"}],\"id\":4},{\"name\":\"Term 5\",\"curriculum_items\":[{\"curriculum_requisites\":[{\"source_id\":10,\"target_id\":21,\"type\":\"CurriculumPrerequisite\"}],\"name\":\" \",\"metrics\":{\"complexity\":7.0,\"centrality\":10,\"blocking factor\":2,\"delay factor\":5.0},\"nameSub\":\"CIVE 360\",\"id\":21,\"credits\":3,\"nameCanonical\":\"\"},{\"curriculum_requisites\":[{\"source_id\":16,\"target_id\":22,\"type\":\"CurriculumPrerequisite\"},{\"source_id\":17,\"target_id\":22,\"type\":\"CurriculumPrerequisite\"},{\"source_id\":19,\"target_id\":22,\"type\":\"CurriculumPrerequisite\"},{\"source_id\":15,\"target_id\":22,\"type\":\"CurriculumPrerequisite\"}],\"name\":\" \",\"metrics\":{\"complexity\":7.0,\"centrality\":47,\"blocking factor\":1,\"delay factor\":6.0},\"nameSub\":\"MECH 307\",\"id\":22,\"credits\":4,\"nameCanonical\":\"\"},{\"curriculum_requisites\":[{\"source_id\":17,\"target_id\":23,\"type\":\"CurriculumPrerequisite\"},{\"source_id\":15,\"target_id\":23,\"type\":\"CurriculumPrerequisite\"}],\"name\":\" \",\"metrics\":{\"complexity\":7.0,\"centrality\":12,\"blocking factor\":1,\"delay factor\":6.0},\"nameSub\":\"MECH 324\",\"id\":23,\"credits\":4,\"nameCanonical\":\"\"},{\"curriculum_requisites\":[{\"source_id\":17,\"target_id\":24,\"type\":\"CurriculumPrerequisite\"},{\"source_id\":20,\"target_id\":24,\"type\":\"CurriculumPrerequisite\"}],\"name\":\" \",\"metrics\":{\"complexity\":11.0,\"centrality\":57,\"blocking factor\":4,\"delay factor\":7.0},\"nameSub\":\"MECH 342\",\"id\":24,\"credits\":3,\"nameCanonical\":\"\"}],\"id\":5},{\"name\":\"Term 6\",\"curriculum_items\":[{\"curriculum_requisites\":[{\"source_id\":21,\"target_id\":25,\"type\":\"CurriculumPrerequisite\"},{\"source_id\":18,\"target_id\":25,\"type\":\"CurriculumPrerequisite\"}],\"name\":\" \",\"metrics\":{\"complexity\":6.0,\"centrality\":0,\"blocking factor\":0,\"delay factor\":6.0},\"nameSub\":\"MECH 301\",\"id\":25,\"credits\":2,\"nameCanonical\":\"\"},{\"curriculum_requisites\":[{\"source_id\":21,\"target_id\":26,\"type\":\"CurriculumPrerequisite\"}],\"name\":\" \",\"metrics\":{\"complexity\":5.0,\"centrality\":0,\"blocking factor\":0,\"delay factor\":5.0},\"nameSub\":\"MECH 325\",\"id\":26,\"credits\":3,\"nameCanonical\":\"\"},{\"curriculum_requisites\":[{\"source_id\":2,\"target_id\":27,\"type\":\"CurriculumPrerequisite\"},{\"source_id\":19,\"target_id\":27,\"type\":\"CurriculumPrerequisite\"},{\"source_id\":1,\"target_id\":27,\"type\":\"CurriculumPrerequisite\"}],\"name\":\" \",\"metrics\":{\"complexity\":7.0,\"centrality\":29,\"blocking factor\":1,\"delay factor\":6.0},\"nameSub\":\"MECH 331\",\"id\":27,\"credits\":4,\"nameCanonical\":\"\"},{\"curriculum_requisites\":[{\"source_id\":24,\"target_id\":28,\"type\":\"CurriculumPrerequisite\"}],\"name\":\" \",\"metrics\":{\"complexity\":9.0,\"centrality\":40,\"blocking factor\":2,\"delay factor\":7.0},\"nameSub\":\"MECH 338\",\"id\":28,\"credits\":1,\"nameCanonical\":\"\"},{\"curriculum_requisites\":[{\"source_id\":24,\"target_id\":29,\"type\":\"CurriculumPrerequisite\"}],\"name\":\" \",\"metrics\":{\"complexity\":6.0,\"centrality\":0,\"blocking factor\":0,\"delay factor\":6.0},\"nameSub\":\"MECH 344\",\"id\":29,\"credits\":3,\"nameCanonical\":\"\"}],\"id\":6},{\"name\":\"Term 7\",\"curriculum_items\":[{\"curriculum_requisites\":[{\"source_id\":23,\"target_id\":30,\"type\":\"CurriculumPrerequisite\"},{\"source_id\":27,\"target_id\":30,\"type\":\"CurriculumPrerequisite\"},{\"source_id\":22,\"target_id\":30,\"type\":\"CurriculumPrerequisite\"}],\"name\":\" \",\"metrics\":{\"complexity\":6.0,\"centrality\":0,\"blocking factor\":0,\"delay factor\":6.0},\"nameSub\":\"MECH 402\",\"id\":30,\"credits\":3,\"nameCanonical\":\"\"},{\"curriculum_requisites\":[],\"name\":\" \",\"metrics\":{\"complexity\":1.0,\"centrality\":0,\"blocking factor\":0,\"delay factor\":1.0},\"nameSub\":\"ELECTIVE 1\",\"id\":31,\"credits\":4,\"nameCanonical\":\"\"},{\"curriculum_requisites\":[],\"name\":\" \",\"metrics\":{\"complexity\":1.0,\"centrality\":0,\"blocking factor\":0,\"delay factor\":1.0},\"nameSub\":\"AUCC 3E\",\"id\":32,\"credits\":3,\"nameCanonical\":\"\"},{\"curriculum_requisites\":[],\"name\":\" \",\"metrics\":{\"complexity\":1.0,\"centrality\":0,\"blocking factor\":0,\"delay factor\":1.0},\"nameSub\":\"AUCC 3C\",\"id\":33,\"credits\":3,\"nameCanonical\":\"\"},{\"curriculum_requisites\":[],\"name\":\" \",\"metrics\":{\"complexity\":1.0,\"centrality\":0,\"blocking factor\":0,\"delay factor\":1.0},\"nameSub\":\"TECH ELECTIVE\",\"id\":34,\"credits\":3,\"nameCanonical\":\"\"}],\"id\":7},{\"name\":\"Term 8\",\"curriculum_items\":[{\"curriculum_requisites\":[{\"source_id\":28,\"target_id\":35,\"type\":\"CurriculumPrerequisite\"}],\"name\":\" \",\"metrics\":{\"complexity\":7.0,\"centrality\":0,\"blocking factor\":0,\"delay factor\":7.0},\"nameSub\":\"MECH 486B\",\"id\":35,\"credits\":4,\"nameCanonical\":\"\"},{\"curriculum_requisites\":[{\"source_id\":28,\"target_id\":36,\"type\":\"CurriculumPrerequisite\"}],\"name\":\" \",\"metrics\":{\"complexity\":7.0,\"centrality\":0,\"blocking factor\":0,\"delay factor\":7.0},\"nameSub\":\"MECH 498B\",\"id\":36,\"credits\":3,\"nameCanonical\":\"\"},{\"curriculum_requisites\":[],\"name\":\" \",\"metrics\":{\"complexity\":1.0,\"centrality\":0,\"blocking factor\":0,\"delay factor\":1.0},\"nameSub\":\"AUCC 3D\",\"id\":37,\"credits\":3,\"nameCanonical\":\"\"},{\"curriculum_requisites\":[],\"name\":\" \",\"metrics\":{\"complexity\":1.0,\"centrality\":0,\"blocking factor\":0,\"delay factor\":1.0},\"nameSub\":\"TECH ELECTIVE\",\"id\":38,\"credits\":3,\"nameCanonical\":\"\"},{\"curriculum_requisites\":[],\"name\":\" \",\"metrics\":{\"complexity\":1.0,\"centrality\":0,\"blocking factor\":0,\"delay factor\":1.0},\"nameSub\":\"TECH ELECTIVE\",\"id\":39,\"credits\":3,\"nameCanonical\":\"\"}],\"id\":8}],\"institution\":\"Colorado State University\"}},\"*\"); window.removeEventListener(\"message\",window.messageReceived); window.messageReceived=(function (event){return (event.data.curriculum!==undefined) ? (WebIO.setval({\"name\":\"curriculum-data\",\"scope\":\"8773462466384873277\",\"id\":\"10594152006794071\",\"type\":\"observable\"},event.data.curriculum)) : undefined}); return window.addEventListener(\"message\",window.messageReceived)})"
          },
          "id": "curriculum",
          "src": "http://localhost:8156",
          "style": {
           "border": "none",
           "height": "100vh",
           "margin": "0",
           "padding": "0",
           "width": "100%"
          }
         },
         "type": "node"
        }
       ],
       "instanceArgs": {
        "handlers": {},
        "id": "8773462466384873277",
        "imports": {
         "data": [],
         "type": "async_block"
        },
        "mount_callbacks": [],
        "observables": {
         "curriculum-data": {
          "id": "10594152006794071",
          "sync": true,
          "value": {
           "curriculum": {
            "curriculum_terms": [
             {
              "curriculum_items": [
               {
                "credits": 4,
                "curriculum_requisites": [],
                "id": 1,
                "metrics": {
                 "blocking factor": 2,
                 "centrality": 0,
                 "complexity": 5,
                 "delay factor": 3
                },
                "name": " ",
                "nameCanonical": "",
                "nameSub": "CHEM 111"
               },
               {
                "credits": 1,
                "curriculum_requisites": [],
                "id": 2,
                "metrics": {
                 "blocking factor": 2,
                 "centrality": 0,
                 "complexity": 5,
                 "delay factor": 3
                },
                "name": " ",
                "nameCanonical": "",
                "nameSub": "CHEM 112"
               },
               {
                "credits": 3,
                "curriculum_requisites": [],
                "id": 3,
                "metrics": {
                 "blocking factor": 0,
                 "centrality": 0,
                 "complexity": 1,
                 "delay factor": 1
                },
                "name": " ",
                "nameCanonical": "",
                "nameSub": "CO 150"
               },
               {
                "credits": 4,
                "curriculum_requisites": [],
                "id": 4,
                "metrics": {
                 "blocking factor": 26,
                 "centrality": 0,
                 "complexity": 33,
                 "delay factor": 7
                },
                "name": " ",
                "nameCanonical": "",
                "nameSub": "MATH 160"
               },
               {
                "credits": 3,
                "curriculum_requisites": [],
                "id": 5,
                "metrics": {
                 "blocking factor": 9,
                 "centrality": 0,
                 "complexity": 14,
                 "delay factor": 5
                },
                "name": " ",
                "nameCanonical": "",
                "nameSub": "MECH 103"
               }
              ],
              "id": 1,
              "name": "Term 1"
             },
             {
              "curriculum_items": [
               {
                "credits": 4,
                "curriculum_requisites": [
                 {
                  "source_id": 4,
                  "target_id": 6,
                  "type": "CurriculumPrerequisite"
                 }
                ],
                "id": 6,
                "metrics": {
                 "blocking factor": 15,
                 "centrality": 70,
                 "complexity": 22,
                 "delay factor": 7
                },
                "name": " ",
                "nameCanonical": "",
                "nameSub": "MATH 161"
               },
               {
                "credits": 3,
                "curriculum_requisites": [
                 {
                  "source_id": 5,
                  "target_id": 7,
                  "type": "CurriculumPrerequisite"
                 },
                 {
                  "source_id": 8,
                  "target_id": 7,
                  "type": "CurriculumPrerequisite"
                 }
                ],
                "id": 7,
                "metrics": {
                 "blocking factor": 8,
                 "centrality": 44,
                 "complexity": 14,
                 "delay factor": 6
                },
                "name": " ",
                "nameCanonical": "",
                "nameSub": "MECH 105"
               },
               {
                "credits": 5,
                "curriculum_requisites": [
                 {
                  "source_id": 4,
                  "target_id": 8,
                  "type": "CurriculumPrerequisite"
                 }
                ],
                "id": 8,
                "metrics": {
                 "blocking factor": 22,
                 "centrality": 81,
                 "complexity": 28,
                 "delay factor": 6
                },
                "name": " ",
                "nameCanonical": "",
                "nameSub": "PH 141"
               },
               {
                "credits": 6,
                "curriculum_requisites": [],
                "id": 9,
                "metrics": {
                 "blocking factor": 0,
                 "centrality": 0,
                 "complexity": 1,
                 "delay factor": 1
                },
                "name": " ",
                "nameCanonical": "",
                "nameSub": "AUCC 3B"
               }
              ],
              "id": 2,
              "name": "Term 2"
             },
             {
              "curriculum_items": [
               {
                "credits": 3,
                "curriculum_requisites": [
                 {
                  "source_id": 8,
                  "target_id": 10,
                  "type": "CurriculumPrerequisite"
                 }
                ],
                "id": 10,
                "metrics": {
                 "blocking factor": 7,
                 "centrality": 22,
                 "complexity": 13,
                 "delay factor": 6
                },
                "name": " ",
                "nameCanonical": "",
                "nameSub": "CIVE 260"
               },
               {
                "credits": 4,
                "curriculum_requisites": [
                 {
                  "source_id": 6,
                  "target_id": 11,
                  "type": "CurriculumPrerequisite"
                 }
                ],
                "id": 11,
                "metrics": {
                 "blocking factor": 10,
                 "centrality": 52,
                 "complexity": 17,
                 "delay factor": 7
                },
                "name": " ",
                "nameCanonical": "",
                "nameSub": "MATH 261"
               },
               {
                "credits": 3,
                "curriculum_requisites": [
                 {
                  "source_id": 7,
                  "target_id": 12,
                  "type": "CurriculumPrerequisite"
                 }
                ],
                "id": 12,
                "metrics": {
                 "blocking factor": 2,
                 "centrality": 11,
                 "complexity": 8,
                 "delay factor": 6
                },
                "name": " ",
                "nameCanonical": "",
                "nameSub": "MECH 200"
               },
               {
                "credits": 2,
                "curriculum_requisites": [
                 {
                  "source_id": 7,
                  "target_id": 13,
                  "type": "CurriculumPrerequisite"
                 }
                ],
                "id": 13,
                "metrics": {
                 "blocking factor": 2,
                 "centrality": 11,
                 "complexity": 8,
                 "delay factor": 6
                },
                "name": " ",
                "nameCanonical": "",
                "nameSub": "MECH 201"
               },
               {
                "credits": 5,
                "curriculum_requisites": [
                 {
                  "source_id": 8,
                  "target_id": 14,
                  "type": "CurriculumPrerequisite"
                 },
                 {
                  "source_id": 6,
                  "target_id": 14,
                  "type": "CurriculumPrerequisite"
                 }
                ],
                "id": 14,
                "metrics": {
                 "blocking factor": 5,
                 "centrality": 36,
                 "complexity": 11,
                 "delay factor": 6
                },
                "name": " ",
                "nameCanonical": "",
                "nameSub": "PH 142"
               }
              ],
              "id": 3,
              "name": "Term 3"
             },
             {
              "curriculum_items": [
               {
                "credits": 3,
                "curriculum_requisites": [
                 {
                  "source_id": 10,
                  "target_id": 15,
                  "type": "CurriculumPrerequisite"
                 }
                ],
                "id": 15,
                "metrics": {
                 "blocking factor": 3,
                 "centrality": 12,
                 "complexity": 9,
                 "delay factor": 6
                },
                "name": " ",
                "nameCanonical": "",
                "nameSub": "CIVE 261"
               },
               {
                "credits": 3,
                "curriculum_requisites": [
                 {
                  "source_id": 14,
                  "target_id": 16,
                  "type": "CurriculumPrerequisite"
                 }
                ],
                "id": 16,
                "metrics": {
                 "blocking factor": 2,
                 "centrality": 12,
                 "complexity": 8,
                 "delay factor": 6
                },
                "name": " ",
                "nameCanonical": "",
                "nameSub": "ECE 204"
               },
               {
                "credits": 4,
                "curriculum_requisites": [
                 {
                  "source_id": 11,
                  "target_id": 17,
                  "type": "CurriculumPrerequisite"
                 }
                ],
                "id": 17,
                "metrics": {
                 "blocking factor": 8,
                 "centrality": 32,
                 "complexity": 15,
                 "delay factor": 7
                },
                "name": " ",
                "nameCanonical": "",
                "nameSub": "MATH 340"
               },
               {
                "credits": 3,
                "curriculum_requisites": [
                 {
                  "source_id": 13,
                  "target_id": 18,
                  "type": "CurriculumPrerequisite"
                 },
                 {
                  "source_id": 12,
                  "target_id": 18,
                  "type": "CurriculumPrerequisite"
                 }
                ],
                "id": 18,
                "metrics": {
                 "blocking factor": 1,
                 "centrality": 22,
                 "complexity": 7,
                 "delay factor": 6
                },
                "name": " ",
                "nameCanonical": "",
                "nameSub": "MECH 202"
               },
               {
                "credits": 3,
                "curriculum_requisites": [
                 {
                  "source_id": 7,
                  "target_id": 19,
                  "type": "CurriculumPrerequisite"
                 },
                 {
                  "source_id": 14,
                  "target_id": 19,
                  "type": "CurriculumPrerequisite"
                 }
                ],
                "id": 19,
                "metrics": {
                 "blocking factor": 3,
                 "centrality": 46,
                 "complexity": 9,
                 "delay factor": 6
                },
                "name": " ",
                "nameCanonical": "",
                "nameSub": "MECH 231"
               },
               {
                "credits": 4,
                "curriculum_requisites": [
                 {
                  "source_id": 11,
                  "target_id": 20,
                  "type": "CurriculumPrerequisite"
                 },
                 {
                  "source_id": 8,
                  "target_id": 20,
                  "type": "CurriculumPrerequisite"
                 }
                ],
                "id": 20,
                "metrics": {
                 "blocking factor": 5,
                 "centrality": 37,
                 "complexity": 12,
                 "delay factor": 7
                },
                "name": " ",
                "nameCanonical": "",
                "nameSub": "MECH 337"
               }
              ],
              "id": 4,
              "name": "Term 4"
             },
             {
              "curriculum_items": [
               {
                "credits": 3,
                "curriculum_requisites": [
                 {
                  "source_id": 10,
                  "target_id": 21,
                  "type": "CurriculumPrerequisite"
                 }
                ],
                "id": 21,
                "metrics": {
                 "blocking factor": 2,
                 "centrality": 10,
                 "complexity": 7,
                 "delay factor": 5
                },
                "name": " ",
                "nameCanonical": "",
                "nameSub": "CIVE 360"
               },
               {
                "credits": 4,
                "curriculum_requisites": [
                 {
                  "source_id": 16,
                  "target_id": 22,
                  "type": "CurriculumPrerequisite"
                 },
                 {
                  "source_id": 17,
                  "target_id": 22,
                  "type": "CurriculumPrerequisite"
                 },
                 {
                  "source_id": 19,
                  "target_id": 22,
                  "type": "CurriculumPrerequisite"
                 },
                 {
                  "source_id": 15,
                  "target_id": 22,
                  "type": "CurriculumPrerequisite"
                 }
                ],
                "id": 22,
                "metrics": {
                 "blocking factor": 1,
                 "centrality": 47,
                 "complexity": 7,
                 "delay factor": 6
                },
                "name": " ",
                "nameCanonical": "",
                "nameSub": "MECH 307"
               },
               {
                "credits": 4,
                "curriculum_requisites": [
                 {
                  "source_id": 17,
                  "target_id": 23,
                  "type": "CurriculumPrerequisite"
                 },
                 {
                  "source_id": 15,
                  "target_id": 23,
                  "type": "CurriculumPrerequisite"
                 }
                ],
                "id": 23,
                "metrics": {
                 "blocking factor": 1,
                 "centrality": 12,
                 "complexity": 7,
                 "delay factor": 6
                },
                "name": " ",
                "nameCanonical": "",
                "nameSub": "MECH 324"
               },
               {
                "credits": 3,
                "curriculum_requisites": [
                 {
                  "source_id": 17,
                  "target_id": 24,
                  "type": "CurriculumPrerequisite"
                 },
                 {
                  "source_id": 20,
                  "target_id": 24,
                  "type": "CurriculumPrerequisite"
                 }
                ],
                "id": 24,
                "metrics": {
                 "blocking factor": 4,
                 "centrality": 57,
                 "complexity": 11,
                 "delay factor": 7
                },
                "name": " ",
                "nameCanonical": "",
                "nameSub": "MECH 342"
               }
              ],
              "id": 5,
              "name": "Term 5"
             },
             {
              "curriculum_items": [
               {
                "credits": 2,
                "curriculum_requisites": [
                 {
                  "source_id": 21,
                  "target_id": 25,
                  "type": "CurriculumPrerequisite"
                 },
                 {
                  "source_id": 18,
                  "target_id": 25,
                  "type": "CurriculumPrerequisite"
                 }
                ],
                "id": 25,
                "metrics": {
                 "blocking factor": 0,
                 "centrality": 0,
                 "complexity": 6,
                 "delay factor": 6
                },
                "name": " ",
                "nameCanonical": "",
                "nameSub": "MECH 301"
               },
               {
                "credits": 3,
                "curriculum_requisites": [
                 {
                  "source_id": 21,
                  "target_id": 26,
                  "type": "CurriculumPrerequisite"
                 }
                ],
                "id": 26,
                "metrics": {
                 "blocking factor": 0,
                 "centrality": 0,
                 "complexity": 5,
                 "delay factor": 5
                },
                "name": " ",
                "nameCanonical": "",
                "nameSub": "MECH 325"
               },
               {
                "credits": 4,
                "curriculum_requisites": [
                 {
                  "source_id": 2,
                  "target_id": 27,
                  "type": "CurriculumPrerequisite"
                 },
                 {
                  "source_id": 19,
                  "target_id": 27,
                  "type": "CurriculumPrerequisite"
                 },
                 {
                  "source_id": 1,
                  "target_id": 27,
                  "type": "CurriculumPrerequisite"
                 }
                ],
                "id": 27,
                "metrics": {
                 "blocking factor": 1,
                 "centrality": 29,
                 "complexity": 7,
                 "delay factor": 6
                },
                "name": " ",
                "nameCanonical": "",
                "nameSub": "MECH 331"
               },
               {
                "credits": 1,
                "curriculum_requisites": [
                 {
                  "source_id": 24,
                  "target_id": 28,
                  "type": "CurriculumPrerequisite"
                 }
                ],
                "id": 28,
                "metrics": {
                 "blocking factor": 2,
                 "centrality": 40,
                 "complexity": 9,
                 "delay factor": 7
                },
                "name": " ",
                "nameCanonical": "",
                "nameSub": "MECH 338"
               },
               {
                "credits": 3,
                "curriculum_requisites": [
                 {
                  "source_id": 24,
                  "target_id": 29,
                  "type": "CurriculumPrerequisite"
                 }
                ],
                "id": 29,
                "metrics": {
                 "blocking factor": 0,
                 "centrality": 0,
                 "complexity": 6,
                 "delay factor": 6
                },
                "name": " ",
                "nameCanonical": "",
                "nameSub": "MECH 344"
               }
              ],
              "id": 6,
              "name": "Term 6"
             },
             {
              "curriculum_items": [
               {
                "credits": 3,
                "curriculum_requisites": [
                 {
                  "source_id": 23,
                  "target_id": 30,
                  "type": "CurriculumPrerequisite"
                 },
                 {
                  "source_id": 27,
                  "target_id": 30,
                  "type": "CurriculumPrerequisite"
                 },
                 {
                  "source_id": 22,
                  "target_id": 30,
                  "type": "CurriculumPrerequisite"
                 }
                ],
                "id": 30,
                "metrics": {
                 "blocking factor": 0,
                 "centrality": 0,
                 "complexity": 6,
                 "delay factor": 6
                },
                "name": " ",
                "nameCanonical": "",
                "nameSub": "MECH 402"
               },
               {
                "credits": 4,
                "curriculum_requisites": [],
                "id": 31,
                "metrics": {
                 "blocking factor": 0,
                 "centrality": 0,
                 "complexity": 1,
                 "delay factor": 1
                },
                "name": " ",
                "nameCanonical": "",
                "nameSub": "ELECTIVE 1"
               },
               {
                "credits": 3,
                "curriculum_requisites": [],
                "id": 32,
                "metrics": {
                 "blocking factor": 0,
                 "centrality": 0,
                 "complexity": 1,
                 "delay factor": 1
                },
                "name": " ",
                "nameCanonical": "",
                "nameSub": "AUCC 3E"
               },
               {
                "credits": 3,
                "curriculum_requisites": [],
                "id": 33,
                "metrics": {
                 "blocking factor": 0,
                 "centrality": 0,
                 "complexity": 1,
                 "delay factor": 1
                },
                "name": " ",
                "nameCanonical": "",
                "nameSub": "AUCC 3C"
               },
               {
                "credits": 3,
                "curriculum_requisites": [],
                "id": 34,
                "metrics": {
                 "blocking factor": 0,
                 "centrality": 0,
                 "complexity": 1,
                 "delay factor": 1
                },
                "name": " ",
                "nameCanonical": "",
                "nameSub": "TECH ELECTIVE"
               }
              ],
              "id": 7,
              "name": "Term 7"
             },
             {
              "curriculum_items": [
               {
                "credits": 4,
                "curriculum_requisites": [
                 {
                  "source_id": 28,
                  "target_id": 35,
                  "type": "CurriculumPrerequisite"
                 }
                ],
                "id": 35,
                "metrics": {
                 "blocking factor": 0,
                 "centrality": 0,
                 "complexity": 7,
                 "delay factor": 7
                },
                "name": " ",
                "nameCanonical": "",
                "nameSub": "MECH 486B"
               },
               {
                "credits": 3,
                "curriculum_requisites": [
                 {
                  "source_id": 28,
                  "target_id": 36,
                  "type": "CurriculumPrerequisite"
                 }
                ],
                "id": 36,
                "metrics": {
                 "blocking factor": 0,
                 "centrality": 0,
                 "complexity": 7,
                 "delay factor": 7
                },
                "name": " ",
                "nameCanonical": "",
                "nameSub": "MECH 498B"
               },
               {
                "credits": 3,
                "curriculum_requisites": [],
                "id": 37,
                "metrics": {
                 "blocking factor": 0,
                 "centrality": 0,
                 "complexity": 1,
                 "delay factor": 1
                },
                "name": " ",
                "nameCanonical": "",
                "nameSub": "AUCC 3D"
               },
               {
                "credits": 3,
                "curriculum_requisites": [],
                "id": 38,
                "metrics": {
                 "blocking factor": 0,
                 "centrality": 0,
                 "complexity": 1,
                 "delay factor": 1
                },
                "name": " ",
                "nameCanonical": "",
                "nameSub": "TECH ELECTIVE"
               },
               {
                "credits": 3,
                "curriculum_requisites": [],
                "id": 39,
                "metrics": {
                 "blocking factor": 0,
                 "centrality": 0,
                 "complexity": 1,
                 "delay factor": 1
                },
                "name": " ",
                "nameCanonical": "",
                "nameSub": "TECH ELECTIVE"
               }
              ],
              "id": 8,
              "name": "Term 8"
             }
            ],
            "dp_name": "4-Year Plan",
            "institution": "Colorado State University",
            "name": "Mechanical Engineering"
           },
           "options": {
            "edit": false,
            "hideTerms": false
           }
          }
         }
        },
        "systemjs_options": null
       },
       "nodeType": "Scope",
       "props": {},
       "type": "node"
      },
      "text/html": [
       "<div\n",
       "    class=\"webio-mountpoint\"\n",
       "    data-webio-mountpoint=\"1258077935037914994\"\n",
       ">\n",
       "    <script>\n",
       "    if (window.require && require.defined && require.defined(\"nbextensions/webio-jupyter-notebook\")) {\n",
       "        console.log(\"Jupyter WebIO extension detected, not mounting.\");\n",
       "    } else if (window.WebIO) {\n",
       "        WebIO.mount(\n",
       "            document.querySelector('[data-webio-mountpoint=\"1258077935037914994\"]'),\n",
       "            {\"props\":{},\"nodeType\":\"Scope\",\"type\":\"node\",\"instanceArgs\":{\"imports\":{\"data\":[],\"type\":\"async_block\"},\"id\":\"8773462466384873277\",\"handlers\":{},\"systemjs_options\":null,\"mount_callbacks\":[],\"observables\":{\"curriculum-data\":{\"sync\":true,\"id\":\"10594152006794071\",\"value\":{\"options\":{\"hideTerms\":false,\"edit\":false},\"curriculum\":{\"name\":\"Mechanical Engineering\",\"dp_name\":\"4-Year Plan\",\"curriculum_terms\":[{\"name\":\"Term 1\",\"curriculum_items\":[{\"curriculum_requisites\":[],\"name\":\" \",\"metrics\":{\"complexity\":5.0,\"centrality\":0,\"blocking factor\":2,\"delay factor\":3.0},\"nameSub\":\"CHEM 111\",\"id\":1,\"credits\":4,\"nameCanonical\":\"\"},{\"curriculum_requisites\":[],\"name\":\" \",\"metrics\":{\"complexity\":5.0,\"centrality\":0,\"blocking factor\":2,\"delay factor\":3.0},\"nameSub\":\"CHEM 112\",\"id\":2,\"credits\":1,\"nameCanonical\":\"\"},{\"curriculum_requisites\":[],\"name\":\" \",\"metrics\":{\"complexity\":1.0,\"centrality\":0,\"blocking factor\":0,\"delay factor\":1.0},\"nameSub\":\"CO 150\",\"id\":3,\"credits\":3,\"nameCanonical\":\"\"},{\"curriculum_requisites\":[],\"name\":\" \",\"metrics\":{\"complexity\":33.0,\"centrality\":0,\"blocking factor\":26,\"delay factor\":7.0},\"nameSub\":\"MATH 160\",\"id\":4,\"credits\":4,\"nameCanonical\":\"\"},{\"curriculum_requisites\":[],\"name\":\" \",\"metrics\":{\"complexity\":14.0,\"centrality\":0,\"blocking factor\":9,\"delay factor\":5.0},\"nameSub\":\"MECH 103\",\"id\":5,\"credits\":3,\"nameCanonical\":\"\"}],\"id\":1},{\"name\":\"Term 2\",\"curriculum_items\":[{\"curriculum_requisites\":[{\"source_id\":4,\"target_id\":6,\"type\":\"CurriculumPrerequisite\"}],\"name\":\" \",\"metrics\":{\"complexity\":22.0,\"centrality\":70,\"blocking factor\":15,\"delay factor\":7.0},\"nameSub\":\"MATH 161\",\"id\":6,\"credits\":4,\"nameCanonical\":\"\"},{\"curriculum_requisites\":[{\"source_id\":5,\"target_id\":7,\"type\":\"CurriculumPrerequisite\"},{\"source_id\":8,\"target_id\":7,\"type\":\"CurriculumPrerequisite\"}],\"name\":\" \",\"metrics\":{\"complexity\":14.0,\"centrality\":44,\"blocking factor\":8,\"delay factor\":6.0},\"nameSub\":\"MECH 105\",\"id\":7,\"credits\":3,\"nameCanonical\":\"\"},{\"curriculum_requisites\":[{\"source_id\":4,\"target_id\":8,\"type\":\"CurriculumPrerequisite\"}],\"name\":\" \",\"metrics\":{\"complexity\":28.0,\"centrality\":81,\"blocking factor\":22,\"delay factor\":6.0},\"nameSub\":\"PH 141\",\"id\":8,\"credits\":5,\"nameCanonical\":\"\"},{\"curriculum_requisites\":[],\"name\":\" \",\"metrics\":{\"complexity\":1.0,\"centrality\":0,\"blocking factor\":0,\"delay factor\":1.0},\"nameSub\":\"AUCC 3B\",\"id\":9,\"credits\":6,\"nameCanonical\":\"\"}],\"id\":2},{\"name\":\"Term 3\",\"curriculum_items\":[{\"curriculum_requisites\":[{\"source_id\":8,\"target_id\":10,\"type\":\"CurriculumPrerequisite\"}],\"name\":\" \",\"metrics\":{\"complexity\":13.0,\"centrality\":22,\"blocking factor\":7,\"delay factor\":6.0},\"nameSub\":\"CIVE 260\",\"id\":10,\"credits\":3,\"nameCanonical\":\"\"},{\"curriculum_requisites\":[{\"source_id\":6,\"target_id\":11,\"type\":\"CurriculumPrerequisite\"}],\"name\":\" \",\"metrics\":{\"complexity\":17.0,\"centrality\":52,\"blocking factor\":10,\"delay factor\":7.0},\"nameSub\":\"MATH 261\",\"id\":11,\"credits\":4,\"nameCanonical\":\"\"},{\"curriculum_requisites\":[{\"source_id\":7,\"target_id\":12,\"type\":\"CurriculumPrerequisite\"}],\"name\":\" \",\"metrics\":{\"complexity\":8.0,\"centrality\":11,\"blocking factor\":2,\"delay factor\":6.0},\"nameSub\":\"MECH 200\",\"id\":12,\"credits\":3,\"nameCanonical\":\"\"},{\"curriculum_requisites\":[{\"source_id\":7,\"target_id\":13,\"type\":\"CurriculumPrerequisite\"}],\"name\":\" \",\"metrics\":{\"complexity\":8.0,\"centrality\":11,\"blocking factor\":2,\"delay factor\":6.0},\"nameSub\":\"MECH 201\",\"id\":13,\"credits\":2,\"nameCanonical\":\"\"},{\"curriculum_requisites\":[{\"source_id\":8,\"target_id\":14,\"type\":\"CurriculumPrerequisite\"},{\"source_id\":6,\"target_id\":14,\"type\":\"CurriculumPrerequisite\"}],\"name\":\" \",\"metrics\":{\"complexity\":11.0,\"centrality\":36,\"blocking factor\":5,\"delay factor\":6.0},\"nameSub\":\"PH 142\",\"id\":14,\"credits\":5,\"nameCanonical\":\"\"}],\"id\":3},{\"name\":\"Term 4\",\"curriculum_items\":[{\"curriculum_requisites\":[{\"source_id\":10,\"target_id\":15,\"type\":\"CurriculumPrerequisite\"}],\"name\":\" \",\"metrics\":{\"complexity\":9.0,\"centrality\":12,\"blocking factor\":3,\"delay factor\":6.0},\"nameSub\":\"CIVE 261\",\"id\":15,\"credits\":3,\"nameCanonical\":\"\"},{\"curriculum_requisites\":[{\"source_id\":14,\"target_id\":16,\"type\":\"CurriculumPrerequisite\"}],\"name\":\" \",\"metrics\":{\"complexity\":8.0,\"centrality\":12,\"blocking factor\":2,\"delay factor\":6.0},\"nameSub\":\"ECE 204\",\"id\":16,\"credits\":3,\"nameCanonical\":\"\"},{\"curriculum_requisites\":[{\"source_id\":11,\"target_id\":17,\"type\":\"CurriculumPrerequisite\"}],\"name\":\" \",\"metrics\":{\"complexity\":15.0,\"centrality\":32,\"blocking factor\":8,\"delay factor\":7.0},\"nameSub\":\"MATH 340\",\"id\":17,\"credits\":4,\"nameCanonical\":\"\"},{\"curriculum_requisites\":[{\"source_id\":13,\"target_id\":18,\"type\":\"CurriculumPrerequisite\"},{\"source_id\":12,\"target_id\":18,\"type\":\"CurriculumPrerequisite\"}],\"name\":\" \",\"metrics\":{\"complexity\":7.0,\"centrality\":22,\"blocking factor\":1,\"delay factor\":6.0},\"nameSub\":\"MECH 202\",\"id\":18,\"credits\":3,\"nameCanonical\":\"\"},{\"curriculum_requisites\":[{\"source_id\":7,\"target_id\":19,\"type\":\"CurriculumPrerequisite\"},{\"source_id\":14,\"target_id\":19,\"type\":\"CurriculumPrerequisite\"}],\"name\":\" \",\"metrics\":{\"complexity\":9.0,\"centrality\":46,\"blocking factor\":3,\"delay factor\":6.0},\"nameSub\":\"MECH 231\",\"id\":19,\"credits\":3,\"nameCanonical\":\"\"},{\"curriculum_requisites\":[{\"source_id\":11,\"target_id\":20,\"type\":\"CurriculumPrerequisite\"},{\"source_id\":8,\"target_id\":20,\"type\":\"CurriculumPrerequisite\"}],\"name\":\" \",\"metrics\":{\"complexity\":12.0,\"centrality\":37,\"blocking factor\":5,\"delay factor\":7.0},\"nameSub\":\"MECH 337\",\"id\":20,\"credits\":4,\"nameCanonical\":\"\"}],\"id\":4},{\"name\":\"Term 5\",\"curriculum_items\":[{\"curriculum_requisites\":[{\"source_id\":10,\"target_id\":21,\"type\":\"CurriculumPrerequisite\"}],\"name\":\" \",\"metrics\":{\"complexity\":7.0,\"centrality\":10,\"blocking factor\":2,\"delay factor\":5.0},\"nameSub\":\"CIVE 360\",\"id\":21,\"credits\":3,\"nameCanonical\":\"\"},{\"curriculum_requisites\":[{\"source_id\":16,\"target_id\":22,\"type\":\"CurriculumPrerequisite\"},{\"source_id\":17,\"target_id\":22,\"type\":\"CurriculumPrerequisite\"},{\"source_id\":19,\"target_id\":22,\"type\":\"CurriculumPrerequisite\"},{\"source_id\":15,\"target_id\":22,\"type\":\"CurriculumPrerequisite\"}],\"name\":\" \",\"metrics\":{\"complexity\":7.0,\"centrality\":47,\"blocking factor\":1,\"delay factor\":6.0},\"nameSub\":\"MECH 307\",\"id\":22,\"credits\":4,\"nameCanonical\":\"\"},{\"curriculum_requisites\":[{\"source_id\":17,\"target_id\":23,\"type\":\"CurriculumPrerequisite\"},{\"source_id\":15,\"target_id\":23,\"type\":\"CurriculumPrerequisite\"}],\"name\":\" \",\"metrics\":{\"complexity\":7.0,\"centrality\":12,\"blocking factor\":1,\"delay factor\":6.0},\"nameSub\":\"MECH 324\",\"id\":23,\"credits\":4,\"nameCanonical\":\"\"},{\"curriculum_requisites\":[{\"source_id\":17,\"target_id\":24,\"type\":\"CurriculumPrerequisite\"},{\"source_id\":20,\"target_id\":24,\"type\":\"CurriculumPrerequisite\"}],\"name\":\" \",\"metrics\":{\"complexity\":11.0,\"centrality\":57,\"blocking factor\":4,\"delay factor\":7.0},\"nameSub\":\"MECH 342\",\"id\":24,\"credits\":3,\"nameCanonical\":\"\"}],\"id\":5},{\"name\":\"Term 6\",\"curriculum_items\":[{\"curriculum_requisites\":[{\"source_id\":21,\"target_id\":25,\"type\":\"CurriculumPrerequisite\"},{\"source_id\":18,\"target_id\":25,\"type\":\"CurriculumPrerequisite\"}],\"name\":\" \",\"metrics\":{\"complexity\":6.0,\"centrality\":0,\"blocking factor\":0,\"delay factor\":6.0},\"nameSub\":\"MECH 301\",\"id\":25,\"credits\":2,\"nameCanonical\":\"\"},{\"curriculum_requisites\":[{\"source_id\":21,\"target_id\":26,\"type\":\"CurriculumPrerequisite\"}],\"name\":\" \",\"metrics\":{\"complexity\":5.0,\"centrality\":0,\"blocking factor\":0,\"delay factor\":5.0},\"nameSub\":\"MECH 325\",\"id\":26,\"credits\":3,\"nameCanonical\":\"\"},{\"curriculum_requisites\":[{\"source_id\":2,\"target_id\":27,\"type\":\"CurriculumPrerequisite\"},{\"source_id\":19,\"target_id\":27,\"type\":\"CurriculumPrerequisite\"},{\"source_id\":1,\"target_id\":27,\"type\":\"CurriculumPrerequisite\"}],\"name\":\" \",\"metrics\":{\"complexity\":7.0,\"centrality\":29,\"blocking factor\":1,\"delay factor\":6.0},\"nameSub\":\"MECH 331\",\"id\":27,\"credits\":4,\"nameCanonical\":\"\"},{\"curriculum_requisites\":[{\"source_id\":24,\"target_id\":28,\"type\":\"CurriculumPrerequisite\"}],\"name\":\" \",\"metrics\":{\"complexity\":9.0,\"centrality\":40,\"blocking factor\":2,\"delay factor\":7.0},\"nameSub\":\"MECH 338\",\"id\":28,\"credits\":1,\"nameCanonical\":\"\"},{\"curriculum_requisites\":[{\"source_id\":24,\"target_id\":29,\"type\":\"CurriculumPrerequisite\"}],\"name\":\" \",\"metrics\":{\"complexity\":6.0,\"centrality\":0,\"blocking factor\":0,\"delay factor\":6.0},\"nameSub\":\"MECH 344\",\"id\":29,\"credits\":3,\"nameCanonical\":\"\"}],\"id\":6},{\"name\":\"Term 7\",\"curriculum_items\":[{\"curriculum_requisites\":[{\"source_id\":23,\"target_id\":30,\"type\":\"CurriculumPrerequisite\"},{\"source_id\":27,\"target_id\":30,\"type\":\"CurriculumPrerequisite\"},{\"source_id\":22,\"target_id\":30,\"type\":\"CurriculumPrerequisite\"}],\"name\":\" \",\"metrics\":{\"complexity\":6.0,\"centrality\":0,\"blocking factor\":0,\"delay factor\":6.0},\"nameSub\":\"MECH 402\",\"id\":30,\"credits\":3,\"nameCanonical\":\"\"},{\"curriculum_requisites\":[],\"name\":\" \",\"metrics\":{\"complexity\":1.0,\"centrality\":0,\"blocking factor\":0,\"delay factor\":1.0},\"nameSub\":\"ELECTIVE 1\",\"id\":31,\"credits\":4,\"nameCanonical\":\"\"},{\"curriculum_requisites\":[],\"name\":\" \",\"metrics\":{\"complexity\":1.0,\"centrality\":0,\"blocking factor\":0,\"delay factor\":1.0},\"nameSub\":\"AUCC 3E\",\"id\":32,\"credits\":3,\"nameCanonical\":\"\"},{\"curriculum_requisites\":[],\"name\":\" \",\"metrics\":{\"complexity\":1.0,\"centrality\":0,\"blocking factor\":0,\"delay factor\":1.0},\"nameSub\":\"AUCC 3C\",\"id\":33,\"credits\":3,\"nameCanonical\":\"\"},{\"curriculum_requisites\":[],\"name\":\" \",\"metrics\":{\"complexity\":1.0,\"centrality\":0,\"blocking factor\":0,\"delay factor\":1.0},\"nameSub\":\"TECH ELECTIVE\",\"id\":34,\"credits\":3,\"nameCanonical\":\"\"}],\"id\":7},{\"name\":\"Term 8\",\"curriculum_items\":[{\"curriculum_requisites\":[{\"source_id\":28,\"target_id\":35,\"type\":\"CurriculumPrerequisite\"}],\"name\":\" \",\"metrics\":{\"complexity\":7.0,\"centrality\":0,\"blocking factor\":0,\"delay factor\":7.0},\"nameSub\":\"MECH 486B\",\"id\":35,\"credits\":4,\"nameCanonical\":\"\"},{\"curriculum_requisites\":[{\"source_id\":28,\"target_id\":36,\"type\":\"CurriculumPrerequisite\"}],\"name\":\" \",\"metrics\":{\"complexity\":7.0,\"centrality\":0,\"blocking factor\":0,\"delay factor\":7.0},\"nameSub\":\"MECH 498B\",\"id\":36,\"credits\":3,\"nameCanonical\":\"\"},{\"curriculum_requisites\":[],\"name\":\" \",\"metrics\":{\"complexity\":1.0,\"centrality\":0,\"blocking factor\":0,\"delay factor\":1.0},\"nameSub\":\"AUCC 3D\",\"id\":37,\"credits\":3,\"nameCanonical\":\"\"},{\"curriculum_requisites\":[],\"name\":\" \",\"metrics\":{\"complexity\":1.0,\"centrality\":0,\"blocking factor\":0,\"delay factor\":1.0},\"nameSub\":\"TECH ELECTIVE\",\"id\":38,\"credits\":3,\"nameCanonical\":\"\"},{\"curriculum_requisites\":[],\"name\":\" \",\"metrics\":{\"complexity\":1.0,\"centrality\":0,\"blocking factor\":0,\"delay factor\":1.0},\"nameSub\":\"TECH ELECTIVE\",\"id\":39,\"credits\":3,\"nameCanonical\":\"\"}],\"id\":8}],\"institution\":\"Colorado State University\"}}}}},\"children\":[{\"props\":{\"src\":\"http:\\/\\/localhost:8156\",\"id\":\"curriculum\",\"events\":{\"load\":\"(function (){this.contentWindow.postMessage({\\\"options\\\":{\\\"hideTerms\\\":false,\\\"edit\\\":false},\\\"curriculum\\\":{\\\"name\\\":\\\"Mechanical Engineering\\\",\\\"dp_name\\\":\\\"4-Year Plan\\\",\\\"curriculum_terms\\\":[{\\\"name\\\":\\\"Term 1\\\",\\\"curriculum_items\\\":[{\\\"curriculum_requisites\\\":[],\\\"name\\\":\\\" \\\",\\\"metrics\\\":{\\\"complexity\\\":5.0,\\\"centrality\\\":0,\\\"blocking factor\\\":2,\\\"delay factor\\\":3.0},\\\"nameSub\\\":\\\"CHEM 111\\\",\\\"id\\\":1,\\\"credits\\\":4,\\\"nameCanonical\\\":\\\"\\\"},{\\\"curriculum_requisites\\\":[],\\\"name\\\":\\\" \\\",\\\"metrics\\\":{\\\"complexity\\\":5.0,\\\"centrality\\\":0,\\\"blocking factor\\\":2,\\\"delay factor\\\":3.0},\\\"nameSub\\\":\\\"CHEM 112\\\",\\\"id\\\":2,\\\"credits\\\":1,\\\"nameCanonical\\\":\\\"\\\"},{\\\"curriculum_requisites\\\":[],\\\"name\\\":\\\" \\\",\\\"metrics\\\":{\\\"complexity\\\":1.0,\\\"centrality\\\":0,\\\"blocking factor\\\":0,\\\"delay factor\\\":1.0},\\\"nameSub\\\":\\\"CO 150\\\",\\\"id\\\":3,\\\"credits\\\":3,\\\"nameCanonical\\\":\\\"\\\"},{\\\"curriculum_requisites\\\":[],\\\"name\\\":\\\" \\\",\\\"metrics\\\":{\\\"complexity\\\":33.0,\\\"centrality\\\":0,\\\"blocking factor\\\":26,\\\"delay factor\\\":7.0},\\\"nameSub\\\":\\\"MATH 160\\\",\\\"id\\\":4,\\\"credits\\\":4,\\\"nameCanonical\\\":\\\"\\\"},{\\\"curriculum_requisites\\\":[],\\\"name\\\":\\\" \\\",\\\"metrics\\\":{\\\"complexity\\\":14.0,\\\"centrality\\\":0,\\\"blocking factor\\\":9,\\\"delay factor\\\":5.0},\\\"nameSub\\\":\\\"MECH 103\\\",\\\"id\\\":5,\\\"credits\\\":3,\\\"nameCanonical\\\":\\\"\\\"}],\\\"id\\\":1},{\\\"name\\\":\\\"Term 2\\\",\\\"curriculum_items\\\":[{\\\"curriculum_requisites\\\":[{\\\"source_id\\\":4,\\\"target_id\\\":6,\\\"type\\\":\\\"CurriculumPrerequisite\\\"}],\\\"name\\\":\\\" \\\",\\\"metrics\\\":{\\\"complexity\\\":22.0,\\\"centrality\\\":70,\\\"blocking factor\\\":15,\\\"delay factor\\\":7.0},\\\"nameSub\\\":\\\"MATH 161\\\",\\\"id\\\":6,\\\"credits\\\":4,\\\"nameCanonical\\\":\\\"\\\"},{\\\"curriculum_requisites\\\":[{\\\"source_id\\\":5,\\\"target_id\\\":7,\\\"type\\\":\\\"CurriculumPrerequisite\\\"},{\\\"source_id\\\":8,\\\"target_id\\\":7,\\\"type\\\":\\\"CurriculumPrerequisite\\\"}],\\\"name\\\":\\\" \\\",\\\"metrics\\\":{\\\"complexity\\\":14.0,\\\"centrality\\\":44,\\\"blocking factor\\\":8,\\\"delay factor\\\":6.0},\\\"nameSub\\\":\\\"MECH 105\\\",\\\"id\\\":7,\\\"credits\\\":3,\\\"nameCanonical\\\":\\\"\\\"},{\\\"curriculum_requisites\\\":[{\\\"source_id\\\":4,\\\"target_id\\\":8,\\\"type\\\":\\\"CurriculumPrerequisite\\\"}],\\\"name\\\":\\\" \\\",\\\"metrics\\\":{\\\"complexity\\\":28.0,\\\"centrality\\\":81,\\\"blocking factor\\\":22,\\\"delay factor\\\":6.0},\\\"nameSub\\\":\\\"PH 141\\\",\\\"id\\\":8,\\\"credits\\\":5,\\\"nameCanonical\\\":\\\"\\\"},{\\\"curriculum_requisites\\\":[],\\\"name\\\":\\\" \\\",\\\"metrics\\\":{\\\"complexity\\\":1.0,\\\"centrality\\\":0,\\\"blocking factor\\\":0,\\\"delay factor\\\":1.0},\\\"nameSub\\\":\\\"AUCC 3B\\\",\\\"id\\\":9,\\\"credits\\\":6,\\\"nameCanonical\\\":\\\"\\\"}],\\\"id\\\":2},{\\\"name\\\":\\\"Term 3\\\",\\\"curriculum_items\\\":[{\\\"curriculum_requisites\\\":[{\\\"source_id\\\":8,\\\"target_id\\\":10,\\\"type\\\":\\\"CurriculumPrerequisite\\\"}],\\\"name\\\":\\\" \\\",\\\"metrics\\\":{\\\"complexity\\\":13.0,\\\"centrality\\\":22,\\\"blocking factor\\\":7,\\\"delay factor\\\":6.0},\\\"nameSub\\\":\\\"CIVE 260\\\",\\\"id\\\":10,\\\"credits\\\":3,\\\"nameCanonical\\\":\\\"\\\"},{\\\"curriculum_requisites\\\":[{\\\"source_id\\\":6,\\\"target_id\\\":11,\\\"type\\\":\\\"CurriculumPrerequisite\\\"}],\\\"name\\\":\\\" \\\",\\\"metrics\\\":{\\\"complexity\\\":17.0,\\\"centrality\\\":52,\\\"blocking factor\\\":10,\\\"delay factor\\\":7.0},\\\"nameSub\\\":\\\"MATH 261\\\",\\\"id\\\":11,\\\"credits\\\":4,\\\"nameCanonical\\\":\\\"\\\"},{\\\"curriculum_requisites\\\":[{\\\"source_id\\\":7,\\\"target_id\\\":12,\\\"type\\\":\\\"CurriculumPrerequisite\\\"}],\\\"name\\\":\\\" \\\",\\\"metrics\\\":{\\\"complexity\\\":8.0,\\\"centrality\\\":11,\\\"blocking factor\\\":2,\\\"delay factor\\\":6.0},\\\"nameSub\\\":\\\"MECH 200\\\",\\\"id\\\":12,\\\"credits\\\":3,\\\"nameCanonical\\\":\\\"\\\"},{\\\"curriculum_requisites\\\":[{\\\"source_id\\\":7,\\\"target_id\\\":13,\\\"type\\\":\\\"CurriculumPrerequisite\\\"}],\\\"name\\\":\\\" \\\",\\\"metrics\\\":{\\\"complexity\\\":8.0,\\\"centrality\\\":11,\\\"blocking factor\\\":2,\\\"delay factor\\\":6.0},\\\"nameSub\\\":\\\"MECH 201\\\",\\\"id\\\":13,\\\"credits\\\":2,\\\"nameCanonical\\\":\\\"\\\"},{\\\"curriculum_requisites\\\":[{\\\"source_id\\\":8,\\\"target_id\\\":14,\\\"type\\\":\\\"CurriculumPrerequisite\\\"},{\\\"source_id\\\":6,\\\"target_id\\\":14,\\\"type\\\":\\\"CurriculumPrerequisite\\\"}],\\\"name\\\":\\\" \\\",\\\"metrics\\\":{\\\"complexity\\\":11.0,\\\"centrality\\\":36,\\\"blocking factor\\\":5,\\\"delay factor\\\":6.0},\\\"nameSub\\\":\\\"PH 142\\\",\\\"id\\\":14,\\\"credits\\\":5,\\\"nameCanonical\\\":\\\"\\\"}],\\\"id\\\":3},{\\\"name\\\":\\\"Term 4\\\",\\\"curriculum_items\\\":[{\\\"curriculum_requisites\\\":[{\\\"source_id\\\":10,\\\"target_id\\\":15,\\\"type\\\":\\\"CurriculumPrerequisite\\\"}],\\\"name\\\":\\\" \\\",\\\"metrics\\\":{\\\"complexity\\\":9.0,\\\"centrality\\\":12,\\\"blocking factor\\\":3,\\\"delay factor\\\":6.0},\\\"nameSub\\\":\\\"CIVE 261\\\",\\\"id\\\":15,\\\"credits\\\":3,\\\"nameCanonical\\\":\\\"\\\"},{\\\"curriculum_requisites\\\":[{\\\"source_id\\\":14,\\\"target_id\\\":16,\\\"type\\\":\\\"CurriculumPrerequisite\\\"}],\\\"name\\\":\\\" \\\",\\\"metrics\\\":{\\\"complexity\\\":8.0,\\\"centrality\\\":12,\\\"blocking factor\\\":2,\\\"delay factor\\\":6.0},\\\"nameSub\\\":\\\"ECE 204\\\",\\\"id\\\":16,\\\"credits\\\":3,\\\"nameCanonical\\\":\\\"\\\"},{\\\"curriculum_requisites\\\":[{\\\"source_id\\\":11,\\\"target_id\\\":17,\\\"type\\\":\\\"CurriculumPrerequisite\\\"}],\\\"name\\\":\\\" \\\",\\\"metrics\\\":{\\\"complexity\\\":15.0,\\\"centrality\\\":32,\\\"blocking factor\\\":8,\\\"delay factor\\\":7.0},\\\"nameSub\\\":\\\"MATH 340\\\",\\\"id\\\":17,\\\"credits\\\":4,\\\"nameCanonical\\\":\\\"\\\"},{\\\"curriculum_requisites\\\":[{\\\"source_id\\\":13,\\\"target_id\\\":18,\\\"type\\\":\\\"CurriculumPrerequisite\\\"},{\\\"source_id\\\":12,\\\"target_id\\\":18,\\\"type\\\":\\\"CurriculumPrerequisite\\\"}],\\\"name\\\":\\\" \\\",\\\"metrics\\\":{\\\"complexity\\\":7.0,\\\"centrality\\\":22,\\\"blocking factor\\\":1,\\\"delay factor\\\":6.0},\\\"nameSub\\\":\\\"MECH 202\\\",\\\"id\\\":18,\\\"credits\\\":3,\\\"nameCanonical\\\":\\\"\\\"},{\\\"curriculum_requisites\\\":[{\\\"source_id\\\":7,\\\"target_id\\\":19,\\\"type\\\":\\\"CurriculumPrerequisite\\\"},{\\\"source_id\\\":14,\\\"target_id\\\":19,\\\"type\\\":\\\"CurriculumPrerequisite\\\"}],\\\"name\\\":\\\" \\\",\\\"metrics\\\":{\\\"complexity\\\":9.0,\\\"centrality\\\":46,\\\"blocking factor\\\":3,\\\"delay factor\\\":6.0},\\\"nameSub\\\":\\\"MECH 231\\\",\\\"id\\\":19,\\\"credits\\\":3,\\\"nameCanonical\\\":\\\"\\\"},{\\\"curriculum_requisites\\\":[{\\\"source_id\\\":11,\\\"target_id\\\":20,\\\"type\\\":\\\"CurriculumPrerequisite\\\"},{\\\"source_id\\\":8,\\\"target_id\\\":20,\\\"type\\\":\\\"CurriculumPrerequisite\\\"}],\\\"name\\\":\\\" \\\",\\\"metrics\\\":{\\\"complexity\\\":12.0,\\\"centrality\\\":37,\\\"blocking factor\\\":5,\\\"delay factor\\\":7.0},\\\"nameSub\\\":\\\"MECH 337\\\",\\\"id\\\":20,\\\"credits\\\":4,\\\"nameCanonical\\\":\\\"\\\"}],\\\"id\\\":4},{\\\"name\\\":\\\"Term 5\\\",\\\"curriculum_items\\\":[{\\\"curriculum_requisites\\\":[{\\\"source_id\\\":10,\\\"target_id\\\":21,\\\"type\\\":\\\"CurriculumPrerequisite\\\"}],\\\"name\\\":\\\" \\\",\\\"metrics\\\":{\\\"complexity\\\":7.0,\\\"centrality\\\":10,\\\"blocking factor\\\":2,\\\"delay factor\\\":5.0},\\\"nameSub\\\":\\\"CIVE 360\\\",\\\"id\\\":21,\\\"credits\\\":3,\\\"nameCanonical\\\":\\\"\\\"},{\\\"curriculum_requisites\\\":[{\\\"source_id\\\":16,\\\"target_id\\\":22,\\\"type\\\":\\\"CurriculumPrerequisite\\\"},{\\\"source_id\\\":17,\\\"target_id\\\":22,\\\"type\\\":\\\"CurriculumPrerequisite\\\"},{\\\"source_id\\\":19,\\\"target_id\\\":22,\\\"type\\\":\\\"CurriculumPrerequisite\\\"},{\\\"source_id\\\":15,\\\"target_id\\\":22,\\\"type\\\":\\\"CurriculumPrerequisite\\\"}],\\\"name\\\":\\\" \\\",\\\"metrics\\\":{\\\"complexity\\\":7.0,\\\"centrality\\\":47,\\\"blocking factor\\\":1,\\\"delay factor\\\":6.0},\\\"nameSub\\\":\\\"MECH 307\\\",\\\"id\\\":22,\\\"credits\\\":4,\\\"nameCanonical\\\":\\\"\\\"},{\\\"curriculum_requisites\\\":[{\\\"source_id\\\":17,\\\"target_id\\\":23,\\\"type\\\":\\\"CurriculumPrerequisite\\\"},{\\\"source_id\\\":15,\\\"target_id\\\":23,\\\"type\\\":\\\"CurriculumPrerequisite\\\"}],\\\"name\\\":\\\" \\\",\\\"metrics\\\":{\\\"complexity\\\":7.0,\\\"centrality\\\":12,\\\"blocking factor\\\":1,\\\"delay factor\\\":6.0},\\\"nameSub\\\":\\\"MECH 324\\\",\\\"id\\\":23,\\\"credits\\\":4,\\\"nameCanonical\\\":\\\"\\\"},{\\\"curriculum_requisites\\\":[{\\\"source_id\\\":17,\\\"target_id\\\":24,\\\"type\\\":\\\"CurriculumPrerequisite\\\"},{\\\"source_id\\\":20,\\\"target_id\\\":24,\\\"type\\\":\\\"CurriculumPrerequisite\\\"}],\\\"name\\\":\\\" \\\",\\\"metrics\\\":{\\\"complexity\\\":11.0,\\\"centrality\\\":57,\\\"blocking factor\\\":4,\\\"delay factor\\\":7.0},\\\"nameSub\\\":\\\"MECH 342\\\",\\\"id\\\":24,\\\"credits\\\":3,\\\"nameCanonical\\\":\\\"\\\"}],\\\"id\\\":5},{\\\"name\\\":\\\"Term 6\\\",\\\"curriculum_items\\\":[{\\\"curriculum_requisites\\\":[{\\\"source_id\\\":21,\\\"target_id\\\":25,\\\"type\\\":\\\"CurriculumPrerequisite\\\"},{\\\"source_id\\\":18,\\\"target_id\\\":25,\\\"type\\\":\\\"CurriculumPrerequisite\\\"}],\\\"name\\\":\\\" \\\",\\\"metrics\\\":{\\\"complexity\\\":6.0,\\\"centrality\\\":0,\\\"blocking factor\\\":0,\\\"delay factor\\\":6.0},\\\"nameSub\\\":\\\"MECH 301\\\",\\\"id\\\":25,\\\"credits\\\":2,\\\"nameCanonical\\\":\\\"\\\"},{\\\"curriculum_requisites\\\":[{\\\"source_id\\\":21,\\\"target_id\\\":26,\\\"type\\\":\\\"CurriculumPrerequisite\\\"}],\\\"name\\\":\\\" \\\",\\\"metrics\\\":{\\\"complexity\\\":5.0,\\\"centrality\\\":0,\\\"blocking factor\\\":0,\\\"delay factor\\\":5.0},\\\"nameSub\\\":\\\"MECH 325\\\",\\\"id\\\":26,\\\"credits\\\":3,\\\"nameCanonical\\\":\\\"\\\"},{\\\"curriculum_requisites\\\":[{\\\"source_id\\\":2,\\\"target_id\\\":27,\\\"type\\\":\\\"CurriculumPrerequisite\\\"},{\\\"source_id\\\":19,\\\"target_id\\\":27,\\\"type\\\":\\\"CurriculumPrerequisite\\\"},{\\\"source_id\\\":1,\\\"target_id\\\":27,\\\"type\\\":\\\"CurriculumPrerequisite\\\"}],\\\"name\\\":\\\" \\\",\\\"metrics\\\":{\\\"complexity\\\":7.0,\\\"centrality\\\":29,\\\"blocking factor\\\":1,\\\"delay factor\\\":6.0},\\\"nameSub\\\":\\\"MECH 331\\\",\\\"id\\\":27,\\\"credits\\\":4,\\\"nameCanonical\\\":\\\"\\\"},{\\\"curriculum_requisites\\\":[{\\\"source_id\\\":24,\\\"target_id\\\":28,\\\"type\\\":\\\"CurriculumPrerequisite\\\"}],\\\"name\\\":\\\" \\\",\\\"metrics\\\":{\\\"complexity\\\":9.0,\\\"centrality\\\":40,\\\"blocking factor\\\":2,\\\"delay factor\\\":7.0},\\\"nameSub\\\":\\\"MECH 338\\\",\\\"id\\\":28,\\\"credits\\\":1,\\\"nameCanonical\\\":\\\"\\\"},{\\\"curriculum_requisites\\\":[{\\\"source_id\\\":24,\\\"target_id\\\":29,\\\"type\\\":\\\"CurriculumPrerequisite\\\"}],\\\"name\\\":\\\" \\\",\\\"metrics\\\":{\\\"complexity\\\":6.0,\\\"centrality\\\":0,\\\"blocking factor\\\":0,\\\"delay factor\\\":6.0},\\\"nameSub\\\":\\\"MECH 344\\\",\\\"id\\\":29,\\\"credits\\\":3,\\\"nameCanonical\\\":\\\"\\\"}],\\\"id\\\":6},{\\\"name\\\":\\\"Term 7\\\",\\\"curriculum_items\\\":[{\\\"curriculum_requisites\\\":[{\\\"source_id\\\":23,\\\"target_id\\\":30,\\\"type\\\":\\\"CurriculumPrerequisite\\\"},{\\\"source_id\\\":27,\\\"target_id\\\":30,\\\"type\\\":\\\"CurriculumPrerequisite\\\"},{\\\"source_id\\\":22,\\\"target_id\\\":30,\\\"type\\\":\\\"CurriculumPrerequisite\\\"}],\\\"name\\\":\\\" \\\",\\\"metrics\\\":{\\\"complexity\\\":6.0,\\\"centrality\\\":0,\\\"blocking factor\\\":0,\\\"delay factor\\\":6.0},\\\"nameSub\\\":\\\"MECH 402\\\",\\\"id\\\":30,\\\"credits\\\":3,\\\"nameCanonical\\\":\\\"\\\"},{\\\"curriculum_requisites\\\":[],\\\"name\\\":\\\" \\\",\\\"metrics\\\":{\\\"complexity\\\":1.0,\\\"centrality\\\":0,\\\"blocking factor\\\":0,\\\"delay factor\\\":1.0},\\\"nameSub\\\":\\\"ELECTIVE 1\\\",\\\"id\\\":31,\\\"credits\\\":4,\\\"nameCanonical\\\":\\\"\\\"},{\\\"curriculum_requisites\\\":[],\\\"name\\\":\\\" \\\",\\\"metrics\\\":{\\\"complexity\\\":1.0,\\\"centrality\\\":0,\\\"blocking factor\\\":0,\\\"delay factor\\\":1.0},\\\"nameSub\\\":\\\"AUCC 3E\\\",\\\"id\\\":32,\\\"credits\\\":3,\\\"nameCanonical\\\":\\\"\\\"},{\\\"curriculum_requisites\\\":[],\\\"name\\\":\\\" \\\",\\\"metrics\\\":{\\\"complexity\\\":1.0,\\\"centrality\\\":0,\\\"blocking factor\\\":0,\\\"delay factor\\\":1.0},\\\"nameSub\\\":\\\"AUCC 3C\\\",\\\"id\\\":33,\\\"credits\\\":3,\\\"nameCanonical\\\":\\\"\\\"},{\\\"curriculum_requisites\\\":[],\\\"name\\\":\\\" \\\",\\\"metrics\\\":{\\\"complexity\\\":1.0,\\\"centrality\\\":0,\\\"blocking factor\\\":0,\\\"delay factor\\\":1.0},\\\"nameSub\\\":\\\"TECH ELECTIVE\\\",\\\"id\\\":34,\\\"credits\\\":3,\\\"nameCanonical\\\":\\\"\\\"}],\\\"id\\\":7},{\\\"name\\\":\\\"Term 8\\\",\\\"curriculum_items\\\":[{\\\"curriculum_requisites\\\":[{\\\"source_id\\\":28,\\\"target_id\\\":35,\\\"type\\\":\\\"CurriculumPrerequisite\\\"}],\\\"name\\\":\\\" \\\",\\\"metrics\\\":{\\\"complexity\\\":7.0,\\\"centrality\\\":0,\\\"blocking factor\\\":0,\\\"delay factor\\\":7.0},\\\"nameSub\\\":\\\"MECH 486B\\\",\\\"id\\\":35,\\\"credits\\\":4,\\\"nameCanonical\\\":\\\"\\\"},{\\\"curriculum_requisites\\\":[{\\\"source_id\\\":28,\\\"target_id\\\":36,\\\"type\\\":\\\"CurriculumPrerequisite\\\"}],\\\"name\\\":\\\" \\\",\\\"metrics\\\":{\\\"complexity\\\":7.0,\\\"centrality\\\":0,\\\"blocking factor\\\":0,\\\"delay factor\\\":7.0},\\\"nameSub\\\":\\\"MECH 498B\\\",\\\"id\\\":36,\\\"credits\\\":3,\\\"nameCanonical\\\":\\\"\\\"},{\\\"curriculum_requisites\\\":[],\\\"name\\\":\\\" \\\",\\\"metrics\\\":{\\\"complexity\\\":1.0,\\\"centrality\\\":0,\\\"blocking factor\\\":0,\\\"delay factor\\\":1.0},\\\"nameSub\\\":\\\"AUCC 3D\\\",\\\"id\\\":37,\\\"credits\\\":3,\\\"nameCanonical\\\":\\\"\\\"},{\\\"curriculum_requisites\\\":[],\\\"name\\\":\\\" \\\",\\\"metrics\\\":{\\\"complexity\\\":1.0,\\\"centrality\\\":0,\\\"blocking factor\\\":0,\\\"delay factor\\\":1.0},\\\"nameSub\\\":\\\"TECH ELECTIVE\\\",\\\"id\\\":38,\\\"credits\\\":3,\\\"nameCanonical\\\":\\\"\\\"},{\\\"curriculum_requisites\\\":[],\\\"name\\\":\\\" \\\",\\\"metrics\\\":{\\\"complexity\\\":1.0,\\\"centrality\\\":0,\\\"blocking factor\\\":0,\\\"delay factor\\\":1.0},\\\"nameSub\\\":\\\"TECH ELECTIVE\\\",\\\"id\\\":39,\\\"credits\\\":3,\\\"nameCanonical\\\":\\\"\\\"}],\\\"id\\\":8}],\\\"institution\\\":\\\"Colorado State University\\\"}},\\\"*\\\"); window.removeEventListener(\\\"message\\\",window.messageReceived); window.messageReceived=(function (event){return (event.data.curriculum!==undefined) ? (WebIO.setval({\\\"name\\\":\\\"curriculum-data\\\",\\\"scope\\\":\\\"8773462466384873277\\\",\\\"id\\\":\\\"10594152006794071\\\",\\\"type\\\":\\\"observable\\\"},event.data.curriculum)) : undefined}); return window.addEventListener(\\\"message\\\",window.messageReceived)})\"},\"style\":{\"padding\":\"0\",\"height\":\"100vh\",\"margin\":\"0\",\"border\":\"none\",\"width\":\"100%\"}},\"nodeType\":\"DOM\",\"type\":\"node\",\"instanceArgs\":{\"namespace\":\"html\",\"tag\":\"iframe\"},\"children\":[\"\"]}]},\n",
       "            window,\n",
       "        );\n",
       "    } else {\n",
       "        document\n",
       "            .querySelector('[data-webio-mountpoint=\"1258077935037914994\"]')\n",
       "            .innerHTML = (\n",
       "                '<div style=\"padding: 1em; background-color: #f8d6da; border: 1px solid #f5c6cb\">' +\n",
       "                '<p><strong>WebIO not detected.</strong></p>' +\n",
       "                '<p>Please read ' +\n",
       "                '<a href=\"https://juliagizmos.github.io/WebIO.jl/latest/troubleshooting/not-detected/\" target=\"_blank\">the troubleshooting guide</a> ' +\n",
       "                'for more information on how to resolve this issue.</p>' +\n",
       "                '<p><a href=\"https://juliagizmos.github.io/WebIO.jl/latest/troubleshooting/not-detected/\" target=\"_blank\">https://juliagizmos.github.io/WebIO.jl/latest/troubleshooting/not-detected/</a></p>' +\n",
       "                '</div>'\n",
       "            );\n",
       "    }\n",
       "    </script>\n",
       "</div>\n"
      ],
      "text/plain": [
       "WebIO.Scope(WebIO.Node{WebIO.DOM}(WebIO.DOM(:html, :iframe), Any[\"\"], Dict{Symbol,Any}(:src => \"http://localhost:8156\",:id => \"curriculum\",:events => Dict{Symbol,WebIO.JSString}(:load => WebIO.JSString(\"(function (){this.contentWindow.postMessage({\\\"options\\\":{\\\"hideTerms\\\":false,\\\"edit\\\":false},\\\"curriculum\\\":{\\\"name\\\":\\\"Mechanical Engineering\\\",\\\"dp_name\\\":\\\"4-Year Plan\\\",\\\"curriculum_terms\\\":[{\\\"name\\\":\\\"Term 1\\\",\\\"curriculum_items\\\":[{\\\"curriculum_requisites\\\":[],\\\"name\\\":\\\" \\\",\\\"metrics\\\":{\\\"complexity\\\":5.0,\\\"centrality\\\":0,\\\"blocking factor\\\":2,\\\"delay factor\\\":3.0},\\\"nameSub\\\":\\\"CHEM 111\\\",\\\"id\\\":1,\\\"credits\\\":4,\\\"nameCanonical\\\":\\\"\\\"},{\\\"curriculum_requisites\\\":[],\\\"name\\\":\\\" \\\",\\\"metrics\\\":{\\\"complexity\\\":5.0,\\\"centrality\\\":0,\\\"blocking factor\\\":2,\\\"delay factor\\\":3.0},\\\"nameSub\\\":\\\"CHEM 112\\\",\\\"id\\\":2,\\\"credits\\\":1,\\\"nameCanonical\\\":\\\"\\\"},{\\\"curriculum_requisites\\\":[],\\\"name\\\":\\\" \\\",\\\"metrics\\\":{\\\"complexity\\\":1.0,\\\"centrality\\\":0,\\\"blocking factor\\\":0,\\\"delay factor\\\":1.0},\\\"nameSub\\\":\\\"CO 150\\\",\\\"id\\\":3,\\\"credits\\\":3,\\\"nameCanonical\\\":\\\"\\\"},{\\\"curriculum_requisites\\\":[],\\\"name\\\":\\\" \\\",\\\"metrics\\\":{\\\"complexity\\\":33.0,\\\"centrality\\\":0,\\\"blocking factor\\\":26,\\\"delay factor\\\":7.0},\\\"nameSub\\\":\\\"MATH 160\\\",\\\"id\\\":4,\\\"credits\\\":4,\\\"nameCanonical\\\":\\\"\\\"},{\\\"curriculum_requisites\\\":[],\\\"name\\\":\\\" \\\",\\\"metrics\\\":{\\\"complexity\\\":14.0,\\\"centrality\\\":0,\\\"blocking factor\\\":9,\\\"delay factor\\\":5.0},\\\"nameSub\\\":\\\"MECH 103\\\",\\\"id\\\":5,\\\"credits\\\":3,\\\"nameCanonical\\\":\\\"\\\"}],\\\"id\\\":1},{\\\"name\\\":\\\"Term 2\\\",\\\"curriculum_items\\\":[{\\\"curriculum_requisites\\\":[{\\\"source_id\\\":4,\\\"target_id\\\":6,\\\"type\\\":\\\"CurriculumPrerequisite\\\"}],\\\"name\\\":\\\" \\\",\\\"metrics\\\":{\\\"complexity\\\":22.0,\\\"centrality\\\":70,\\\"blocking factor\\\":15,\\\"delay factor\\\":7.0},\\\"nameSub\\\":\\\"MATH 161\\\",\\\"id\\\":6,\\\"credits\\\":4,\\\"nameCanonical\\\":\\\"\\\"},{\\\"curriculum_requisites\\\":[{\\\"source_id\\\":5,\\\"target_id\\\":7,\\\"type\\\":\\\"CurriculumPrerequisite\\\"},{\\\"source_id\\\":8,\\\"target_id\\\":7,\\\"type\\\":\\\"CurriculumPrerequisite\\\"}],\\\"name\\\":\\\" \\\",\\\"metrics\\\":{\\\"complexity\\\":14.0,\\\"centrality\\\":44,\\\"blocking factor\\\":8,\\\"delay factor\\\":6.0},\\\"nameSub\\\":\\\"MECH 105\\\",\\\"id\\\":7,\\\"credits\\\":3,\\\"nameCanonical\\\":\\\"\\\"},{\\\"curriculum_requisites\\\":[{\\\"source_id\\\":4,\\\"target_id\\\":8,\\\"type\\\":\\\"CurriculumPrerequisite\\\"}],\\\"name\\\":\\\" \\\",\\\"metrics\\\":{\\\"complexity\\\":28.0,\\\"centrality\\\":81,\\\"blocking factor\\\":22,\\\"delay factor\\\":6.0},\\\"nameSub\\\":\\\"PH 141\\\",\\\"id\\\":8,\\\"credits\\\":5,\\\"nameCanonical\\\":\\\"\\\"},{\\\"curriculum_requisites\\\":[],\\\"name\\\":\\\" \\\",\\\"metrics\\\":{\\\"complexity\\\":1.0,\\\"centrality\\\":0,\\\"blocking factor\\\":0,\\\"delay factor\\\":1.0},\\\"nameSub\\\":\\\"AUCC 3B\\\",\\\"id\\\":9,\\\"credits\\\":6,\\\"nameCanonical\\\":\\\"\\\"}],\\\"id\\\":2},{\\\"name\\\":\\\"Term 3\\\",\\\"curriculum_items\\\":[{\\\"curriculum_requisites\\\":[{\\\"source_id\\\":8,\\\"target_id\\\":10,\\\"type\\\":\\\"CurriculumPrerequisite\\\"}],\\\"name\\\":\\\" \\\",\\\"metrics\\\":{\\\"complexity\\\":13.0,\\\"centrality\\\":22,\\\"blocking factor\\\":7,\\\"delay factor\\\":6.0},\\\"nameSub\\\":\\\"CIVE 260\\\",\\\"id\\\":10,\\\"credits\\\":3,\\\"nameCanonical\\\":\\\"\\\"},{\\\"curriculum_requisites\\\":[{\\\"source_id\\\":6,\\\"target_id\\\":11,\\\"type\\\":\\\"CurriculumPrerequisite\\\"}],\\\"name\\\":\\\" \\\",\\\"metrics\\\":{\\\"complexity\\\":17.0,\\\"centrality\\\":52,\\\"blocking factor\\\":10,\\\"delay factor\\\":7.0},\\\"nameSub\\\":\\\"MATH 261\\\",\\\"id\\\":11,\\\"credits\\\":4,\\\"nameCanonical\\\":\\\"\\\"},{\\\"curriculum_requisites\\\":[{\\\"source_id\\\":7,\\\"target_id\\\":12,\\\"type\\\":\\\"CurriculumPrerequisite\\\"}],\\\"name\\\":\\\" \\\",\\\"metrics\\\":{\\\"complexity\\\":8.0,\\\"centrality\\\":11,\\\"blocking factor\\\":2,\\\"delay factor\\\":6.0},\\\"nameSub\\\":\\\"MECH 200\\\",\\\"id\\\":12,\\\"credits\\\":3,\\\"nameCanonical\\\":\\\"\\\"},{\\\"curriculum_requisites\\\":[{\\\"source_id\\\":7,\\\"target_id\\\":13,\\\"type\\\":\\\"CurriculumPrerequisite\\\"}],\\\"name\\\":\\\" \\\",\\\"metrics\\\":{\\\"complexity\\\":8.0,\\\"centrality\\\":11,\\\"blocking factor\\\":2,\\\"delay factor\\\":6.0},\\\"nameSub\\\":\\\"MECH 201\\\",\\\"id\\\":13,\\\"credits\\\":2,\\\"nameCanonical\\\":\\\"\\\"},{\\\"curriculum_requisites\\\":[{\\\"source_id\\\":8,\\\"target_id\\\":14,\\\"type\\\":\\\"CurriculumPrerequisite\\\"},{\\\"source_id\\\":6,\\\"target_id\\\":14,\\\"type\\\":\\\"CurriculumPrerequisite\\\"}],\\\"name\\\":\\\" \\\",\\\"metrics\\\":{\\\"complexity\\\":11.0,\\\"centrality\\\":36,\\\"blocking factor\\\":5,\\\"delay factor\\\":6.0},\\\"nameSub\\\":\\\"PH 142\\\",\\\"id\\\":14,\\\"credits\\\":5,\\\"nameCanonical\\\":\\\"\\\"}],\\\"id\\\":3},{\\\"name\\\":\\\"Term 4\\\",\\\"curriculum_items\\\":[{\\\"curriculum_requisites\\\":[{\\\"source_id\\\":10,\\\"target_id\\\":15,\\\"type\\\":\\\"CurriculumPrerequisite\\\"}],\\\"name\\\":\\\" \\\",\\\"metrics\\\":{\\\"complexity\\\":9.0,\\\"centrality\\\":12,\\\"blocking factor\\\":3,\\\"delay factor\\\":6.0},\\\"nameSub\\\":\\\"CIVE 261\\\",\\\"id\\\":15,\\\"credits\\\":3,\\\"nameCanonical\\\":\\\"\\\"},{\\\"curriculum_requisites\\\":[{\\\"source_id\\\":14,\\\"target_id\\\":16,\\\"type\\\":\\\"CurriculumPrerequisite\\\"}],\\\"name\\\":\\\" \\\",\\\"metrics\\\":{\\\"complexity\\\":8.0,\\\"centrality\\\":12,\\\"blocking factor\\\":2,\\\"delay factor\\\":6.0},\\\"nameSub\\\":\\\"ECE 204\\\",\\\"id\\\":16,\\\"credits\\\":3,\\\"nameCanonical\\\":\\\"\\\"},{\\\"curriculum_requisites\\\":[{\\\"source_id\\\":11,\\\"target_id\\\":17,\\\"type\\\":\\\"CurriculumPrerequisite\\\"}],\\\"name\\\":\\\" \\\",\\\"metrics\\\":{\\\"complexity\\\":15.0,\\\"centrality\\\":32,\\\"blocking factor\\\":8,\\\"delay factor\\\":7.0},\\\"nameSub\\\":\\\"MATH 340\\\",\\\"id\\\":17,\\\"credits\\\":4,\\\"nameCanonical\\\":\\\"\\\"},{\\\"curriculum_requisites\\\":[{\\\"source_id\\\":13,\\\"target_id\\\":18,\\\"type\\\":\\\"CurriculumPrerequisite\\\"},{\\\"source_id\\\":12,\\\"target_id\\\":18,\\\"type\\\":\\\"CurriculumPrerequisite\\\"}],\\\"name\\\":\\\" \\\",\\\"metrics\\\":{\\\"complexity\\\":7.0,\\\"centrality\\\":22,\\\"blocking factor\\\":1,\\\"delay factor\\\":6.0},\\\"nameSub\\\":\\\"MECH 202\\\",\\\"id\\\":18,\\\"credits\\\":3,\\\"nameCanonical\\\":\\\"\\\"},{\\\"curriculum_requisites\\\":[{\\\"source_id\\\":7,\\\"target_id\\\":19,\\\"type\\\":\\\"CurriculumPrerequisite\\\"},{\\\"source_id\\\":14,\\\"target_id\\\":19,\\\"type\\\":\\\"CurriculumPrerequisite\\\"}],\\\"name\\\":\\\" \\\",\\\"metrics\\\":{\\\"complexity\\\":9.0,\\\"centrality\\\":46,\\\"blocking factor\\\":3,\\\"delay factor\\\":6.0},\\\"nameSub\\\":\\\"MECH 231\\\",\\\"id\\\":19,\\\"credits\\\":3,\\\"nameCanonical\\\":\\\"\\\"},{\\\"curriculum_requisites\\\":[{\\\"source_id\\\":11,\\\"target_id\\\":20,\\\"type\\\":\\\"CurriculumPrerequisite\\\"},{\\\"source_id\\\":8,\\\"target_id\\\":20,\\\"type\\\":\\\"CurriculumPrerequisite\\\"}],\\\"name\\\":\\\" \\\",\\\"metrics\\\":{\\\"complexity\\\":12.0,\\\"centrality\\\":37,\\\"blocking factor\\\":5,\\\"delay factor\\\":7.0},\\\"nameSub\\\":\\\"MECH 337\\\",\\\"id\\\":20,\\\"credits\\\":4,\\\"nameCanonical\\\":\\\"\\\"}],\\\"id\\\":4},{\\\"name\\\":\\\"Term 5\\\",\\\"curriculum_items\\\":[{\\\"curriculum_requisites\\\":[{\\\"source_id\\\":10,\\\"target_id\\\":21,\\\"type\\\":\\\"CurriculumPrerequisite\\\"}],\\\"name\\\":\\\" \\\",\\\"metrics\\\":{\\\"complexity\\\":7.0,\\\"centrality\\\":10,\\\"blocking factor\\\":2,\\\"delay factor\\\":5.0},\\\"nameSub\\\":\\\"CIVE 360\\\",\\\"id\\\":21,\\\"credits\\\":3,\\\"nameCanonical\\\":\\\"\\\"},{\\\"curriculum_requisites\\\":[{\\\"source_id\\\":16,\\\"target_id\\\":22,\\\"type\\\":\\\"CurriculumPrerequisite\\\"},{\\\"source_id\\\":17,\\\"target_id\\\":22,\\\"type\\\":\\\"CurriculumPrerequisite\\\"},{\\\"source_id\\\":19,\\\"target_id\\\":22,\\\"type\\\":\\\"CurriculumPrerequisite\\\"},{\\\"source_id\\\":15,\\\"target_id\\\":22,\\\"type\\\":\\\"CurriculumPrerequisite\\\"}],\\\"name\\\":\\\" \\\",\\\"metrics\\\":{\\\"complexity\\\":7.0,\\\"centrality\\\":47,\\\"blocking factor\\\":1,\\\"delay factor\\\":6.0},\\\"nameSub\\\":\\\"MECH 307\\\",\\\"id\\\":22,\\\"credits\\\":4,\\\"nameCanonical\\\":\\\"\\\"},{\\\"curriculum_requisites\\\":[{\\\"source_id\\\":17,\\\"target_id\\\":23,\\\"type\\\":\\\"CurriculumPrerequisite\\\"},{\\\"source_id\\\":15,\\\"target_id\\\":23,\\\"type\\\":\\\"CurriculumPrerequisite\\\"}],\\\"name\\\":\\\" \\\",\\\"metrics\\\":{\\\"complexity\\\":7.0,\\\"centrality\\\":12,\\\"blocking factor\\\":1,\\\"delay factor\\\":6.0},\\\"nameSub\\\":\\\"MECH 324\\\",\\\"id\\\":23,\\\"credits\\\":4,\\\"nameCanonical\\\":\\\"\\\"},{\\\"curriculum_requisites\\\":[{\\\"source_id\\\":17,\\\"target_id\\\":24,\\\"type\\\":\\\"CurriculumPrerequisite\\\"},{\\\"source_id\\\":20,\\\"target_id\\\":24,\\\"type\\\":\\\"CurriculumPrerequisite\\\"}],\\\"name\\\":\\\" \\\",\\\"metrics\\\":{\\\"complexity\\\":11.0,\\\"centrality\\\":57,\\\"blocking factor\\\":4,\\\"delay factor\\\":7.0},\\\"nameSub\\\":\\\"MECH 342\\\",\\\"id\\\":24,\\\"credits\\\":3,\\\"nameCanonical\\\":\\\"\\\"}],\\\"id\\\":5},{\\\"name\\\":\\\"Term 6\\\",\\\"curriculum_items\\\":[{\\\"curriculum_requisites\\\":[{\\\"source_id\\\":21,\\\"target_id\\\":25,\\\"type\\\":\\\"CurriculumPrerequisite\\\"},{\\\"source_id\\\":18,\\\"target_id\\\":25,\\\"type\\\":\\\"CurriculumPrerequisite\\\"}],\\\"name\\\":\\\" \\\",\\\"metrics\\\":{\\\"complexity\\\":6.0,\\\"centrality\\\":0,\\\"blocking factor\\\":0,\\\"delay factor\\\":6.0},\\\"nameSub\\\":\\\"MECH 301\\\",\\\"id\\\":25,\\\"credits\\\":2,\\\"nameCanonical\\\":\\\"\\\"},{\\\"curriculum_requisites\\\":[{\\\"source_id\\\":21,\\\"target_id\\\":26,\\\"type\\\":\\\"CurriculumPrerequisite\\\"}],\\\"name\\\":\\\" \\\",\\\"metrics\\\":{\\\"complexity\\\":5.0,\\\"centrality\\\":0,\\\"blocking factor\\\":0,\\\"delay factor\\\":5.0},\\\"nameSub\\\":\\\"MECH 325\\\",\\\"id\\\":26,\\\"credits\\\":3,\\\"nameCanonical\\\":\\\"\\\"},{\\\"curriculum_requisites\\\":[{\\\"source_id\\\":2,\\\"target_id\\\":27,\\\"type\\\":\\\"CurriculumPrerequisite\\\"},{\\\"source_id\\\":19,\\\"target_id\\\":27,\\\"type\\\":\\\"CurriculumPrerequisite\\\"},{\\\"source_id\\\":1,\\\"target_id\\\":27,\\\"type\\\":\\\"CurriculumPrerequisite\\\"}],\\\"name\\\":\\\" \\\",\\\"metrics\\\":{\\\"complexity\\\":7.0,\\\"centrality\\\":29,\\\"blocking factor\\\":1,\\\"delay factor\\\":6.0},\\\"nameSub\\\":\\\"MECH 331\\\",\\\"id\\\":27,\\\"credits\\\":4,\\\"nameCanonical\\\":\\\"\\\"},{\\\"curriculum_requisites\\\":[{\\\"source_id\\\":24,\\\"target_id\\\":28,\\\"type\\\":\\\"CurriculumPrerequisite\\\"}],\\\"name\\\":\\\" \\\",\\\"metrics\\\":{\\\"complexity\\\":9.0,\\\"centrality\\\":40,\\\"blocking factor\\\":2,\\\"delay factor\\\":7.0},\\\"nameSub\\\":\\\"MECH 338\\\",\\\"id\\\":28,\\\"credits\\\":1,\\\"nameCanonical\\\":\\\"\\\"},{\\\"curriculum_requisites\\\":[{\\\"source_id\\\":24,\\\"target_id\\\":29,\\\"type\\\":\\\"CurriculumPrerequisite\\\"}],\\\"name\\\":\\\" \\\",\\\"metrics\\\":{\\\"complexity\\\":6.0,\\\"centrality\\\":0,\\\"blocking factor\\\":0,\\\"delay factor\\\":6.0},\\\"nameSub\\\":\\\"MECH 344\\\",\\\"id\\\":29,\\\"credits\\\":3,\\\"nameCanonical\\\":\\\"\\\"}],\\\"id\\\":6},{\\\"name\\\":\\\"Term 7\\\",\\\"curriculum_items\\\":[{\\\"curriculum_requisites\\\":[{\\\"source_id\\\":23,\\\"target_id\\\":30,\\\"type\\\":\\\"CurriculumPrerequisite\\\"},{\\\"source_id\\\":27,\\\"target_id\\\":30,\\\"type\\\":\\\"CurriculumPrerequisite\\\"},{\\\"source_id\\\":22,\\\"target_id\\\":30,\\\"type\\\":\\\"CurriculumPrerequisite\\\"}],\\\"name\\\":\\\" \\\",\\\"metrics\\\":{\\\"complexity\\\":6.0,\\\"centrality\\\":0,\\\"blocking factor\\\":0,\\\"delay factor\\\":6.0},\\\"nameSub\\\":\\\"MECH 402\\\",\\\"id\\\":30,\\\"credits\\\":3,\\\"nameCanonical\\\":\\\"\\\"},{\\\"curriculum_requisites\\\":[],\\\"name\\\":\\\" \\\",\\\"metrics\\\":{\\\"complexity\\\":1.0,\\\"centrality\\\":0,\\\"blocking factor\\\":0,\\\"delay factor\\\":1.0},\\\"nameSub\\\":\\\"ELECTIVE 1\\\",\\\"id\\\":31,\\\"credits\\\":4,\\\"nameCanonical\\\":\\\"\\\"},{\\\"curriculum_requisites\\\":[],\\\"name\\\":\\\" \\\",\\\"metrics\\\":{\\\"complexity\\\":1.0,\\\"centrality\\\":0,\\\"blocking factor\\\":0,\\\"delay factor\\\":1.0},\\\"nameSub\\\":\\\"AUCC 3E\\\",\\\"id\\\":32,\\\"credits\\\":3,\\\"nameCanonical\\\":\\\"\\\"},{\\\"curriculum_requisites\\\":[],\\\"name\\\":\\\" \\\",\\\"metrics\\\":{\\\"complexity\\\":1.0,\\\"centrality\\\":0,\\\"blocking factor\\\":0,\\\"delay factor\\\":1.0},\\\"nameSub\\\":\\\"AUCC 3C\\\",\\\"id\\\":33,\\\"credits\\\":3,\\\"nameCanonical\\\":\\\"\\\"},{\\\"curriculum_requisites\\\":[],\\\"name\\\":\\\" \\\",\\\"metrics\\\":{\\\"complexity\\\":1.0,\\\"centrality\\\":0,\\\"blocking factor\\\":0,\\\"delay factor\\\":1.0},\\\"nameSub\\\":\\\"TECH ELECTIVE\\\",\\\"id\\\":34,\\\"credits\\\":3,\\\"nameCanonical\\\":\\\"\\\"}],\\\"id\\\":7},{\\\"name\\\":\\\"Term 8\\\",\\\"curriculum_items\\\":[{\\\"curriculum_requisites\\\":[{\\\"source_id\\\":28,\\\"target_id\\\":35,\\\"type\\\":\\\"CurriculumPrerequisite\\\"}],\\\"name\\\":\\\" \\\",\\\"metrics\\\":{\\\"complexity\\\":7.0,\\\"centrality\\\":0,\\\"blocking factor\\\":0,\\\"delay factor\\\":7.0},\\\"nameSub\\\":\\\"MECH 486B\\\",\\\"id\\\":35,\\\"credits\\\":4,\\\"nameCanonical\\\":\\\"\\\"},{\\\"curriculum_requisites\\\":[{\\\"source_id\\\":28,\\\"target_id\\\":36,\\\"type\\\":\\\"CurriculumPrerequisite\\\"}],\\\"name\\\":\\\" \\\",\\\"metrics\\\":{\\\"complexity\\\":7.0,\\\"centrality\\\":0,\\\"blocking factor\\\":0,\\\"delay factor\\\":7.0},\\\"nameSub\\\":\\\"MECH 498B\\\",\\\"id\\\":36,\\\"credits\\\":3,\\\"nameCanonical\\\":\\\"\\\"},{\\\"curriculum_requisites\\\":[],\\\"name\\\":\\\" \\\",\\\"metrics\\\":{\\\"complexity\\\":1.0,\\\"centrality\\\":0,\\\"blocking factor\\\":0,\\\"delay factor\\\":1.0},\\\"nameSub\\\":\\\"AUCC 3D\\\",\\\"id\\\":37,\\\"credits\\\":3,\\\"nameCanonical\\\":\\\"\\\"},{\\\"curriculum_requisites\\\":[],\\\"name\\\":\\\" \\\",\\\"metrics\\\":{\\\"complexity\\\":1.0,\\\"centrality\\\":0,\\\"blocking factor\\\":0,\\\"delay factor\\\":1.0},\\\"nameSub\\\":\\\"TECH ELECTIVE\\\",\\\"id\\\":38,\\\"credits\\\":3,\\\"nameCanonical\\\":\\\"\\\"},{\\\"curriculum_requisites\\\":[],\\\"name\\\":\\\" \\\",\\\"metrics\\\":{\\\"complexity\\\":1.0,\\\"centrality\\\":0,\\\"blocking factor\\\":0,\\\"delay factor\\\":1.0},\\\"nameSub\\\":\\\"TECH ELECTIVE\\\",\\\"id\\\":39,\\\"credits\\\":3,\\\"nameCanonical\\\":\\\"\\\"}],\\\"id\\\":8}],\\\"institution\\\":\\\"Colorado State University\\\"}},\\\"*\\\"); window.removeEventListener(\\\"message\\\",window.messageReceived); window.messageReceived=(function (event){return (event.data.curriculum!==undefined) ? (WebIO.setval({\\\"name\\\":\\\"curriculum-data\\\",\\\"scope\\\":\\\"8773462466384873277\\\",\\\"id\\\":\\\"10594152006794071\\\",\\\"type\\\":\\\"observable\\\"},event.data.curriculum)) : undefined}); return window.addEventListener(\\\"message\\\",window.messageReceived)})\")),:style => Dict(:padding => \"0\",:height => \"100vh\",:margin => \"0\",:border => \"none\",:width => \"100%\"))), Dict{String,Tuple{Observables.AbstractObservable,Union{Nothing, Bool}}}(\"curriculum-data\" => (Observable{Dict{String,Any}} with 1 listeners. Value:\n",
       "Dict{String,Any}(\"options\" => Dict{String,Any}(\"hideTerms\" => false,\"edit\" => false),\"curriculum\" => Dict{String,Any}(\"name\" => \"Mechanical Engineering\",\"dp_name\" => \"4-Year Plan\",\"curriculum_terms\" => Dict{String,Any}[Dict(\"name\" => \"Term 1\",\"curriculum_items\" => Dict{String,Any}[Dict(\"curriculum_requisites\" => Dict{String,Any}[],\"name\" => \" \",\"metrics\" => Dict{String,Any}(\"complexity\" => 5.0,\"centrality\" => 0,\"blocking factor\" => 2,\"delay factor\" => 3.0),\"nameSub\" => \"CHEM 111\",\"id\" => 1,\"credits\" => 4,\"nameCanonical\" => \"\"), Dict(\"curriculum_requisites\" => Dict{String,Any}[],\"name\" => \" \",\"metrics\" => Dict{String,Any}(\"complexity\" => 5.0,\"centrality\" => 0,\"blocking factor\" => 2,\"delay factor\" => 3.0),\"nameSub\" => \"CHEM 112\",\"id\" => 2,\"credits\" => 1,\"nameCanonical\" => \"\"), Dict(\"curriculum_requisites\" => Dict{String,Any}[],\"name\" => \" \",\"metrics\" => Dict{String,Any}(\"complexity\" => 1.0,\"centrality\" => 0,\"blocking factor\" => 0,\"delay factor\" => 1.0),\"nameSub\" => \"CO 150\",\"id\" => 3,\"credits\" => 3,\"nameCanonical\" => \"\"), Dict(\"curriculum_requisites\" => Dict{String,Any}[],\"name\" => \" \",\"metrics\" => Dict{String,Any}(\"complexity\" => 33.0,\"centrality\" => 0,\"blocking factor\" => 26,\"delay factor\" => 7.0),\"nameSub\" => \"MATH 160\",\"id\" => 4,\"credits\" => 4,\"nameCanonical\" => \"\"), Dict(\"curriculum_requisites\" => Dict{String,Any}[],\"name\" => \" \",\"metrics\" => Dict{String,Any}(\"complexity\" => 14.0,\"centrality\" => 0,\"blocking factor\" => 9,\"delay factor\" => 5.0),\"nameSub\" => \"MECH 103\",\"id\" => 5,\"credits\" => 3,\"nameCanonical\" => \"\")],\"id\" => 1), Dict(\"name\" => \"Term 2\",\"curriculum_items\" => Dict{String,Any}[Dict(\"curriculum_requisites\" => Dict{String,Any}[Dict(\"source_id\" => 4,\"target_id\" => 6,\"type\" => \"CurriculumPrerequisite\")],\"name\" => \" \",\"metrics\" => Dict{String,Any}(\"complexity\" => 22.0,\"centrality\" => 70,\"blocking factor\" => 15,\"delay factor\" => 7.0),\"nameSub\" => \"MATH 161\",\"id\" => 6,\"credits\" => 4,\"nameCanonical\" => \"\"), Dict(\"curriculum_requisites\" => Dict{String,Any}[Dict(\"source_id\" => 5,\"target_id\" => 7,\"type\" => \"CurriculumPrerequisite\"), Dict(\"source_id\" => 8,\"target_id\" => 7,\"type\" => \"CurriculumPrerequisite\")],\"name\" => \" \",\"metrics\" => Dict{String,Any}(\"complexity\" => 14.0,\"centrality\" => 44,\"blocking factor\" => 8,\"delay factor\" => 6.0),\"nameSub\" => \"MECH 105\",\"id\" => 7,\"credits\" => 3,\"nameCanonical\" => \"\"), Dict(\"curriculum_requisites\" => Dict{String,Any}[Dict(\"source_id\" => 4,\"target_id\" => 8,\"type\" => \"CurriculumPrerequisite\")],\"name\" => \" \",\"metrics\" => Dict{String,Any}(\"complexity\" => 28.0,\"centrality\" => 81,\"blocking factor\" => 22,\"delay factor\" => 6.0),\"nameSub\" => \"PH 141\",\"id\" => 8,\"credits\" => 5,\"nameCanonical\" => \"\"), Dict(\"curriculum_requisites\" => Dict{String,Any}[],\"name\" => \" \",\"metrics\" => Dict{String,Any}(\"complexity\" => 1.0,\"centrality\" => 0,\"blocking factor\" => 0,\"delay factor\" => 1.0),\"nameSub\" => \"AUCC 3B\",\"id\" => 9,\"credits\" => 6,\"nameCanonical\" => \"\")],\"id\" => 2), Dict(\"name\" => \"Term 3\",\"curriculum_items\" => Dict{String,Any}[Dict(\"curriculum_requisites\" => Dict{String,Any}[Dict(\"source_id\" => 8,\"target_id\" => 10,\"type\" => \"CurriculumPrerequisite\")],\"name\" => \" \",\"metrics\" => Dict{String,Any}(\"complexity\" => 13.0,\"centrality\" => 22,\"blocking factor\" => 7,\"delay factor\" => 6.0),\"nameSub\" => \"CIVE 260\",\"id\" => 10,\"credits\" => 3,\"nameCanonical\" => \"\"), Dict(\"curriculum_requisites\" => Dict{String,Any}[Dict(\"source_id\" => 6,\"target_id\" => 11,\"type\" => \"CurriculumPrerequisite\")],\"name\" => \" \",\"metrics\" => Dict{String,Any}(\"complexity\" => 17.0,\"centrality\" => 52,\"blocking factor\" => 10,\"delay factor\" => 7.0),\"nameSub\" => \"MATH 261\",\"id\" => 11,\"credits\" => 4,\"nameCanonical\" => \"\"), Dict(\"curriculum_requisites\" => Dict{String,Any}[Dict(\"source_id\" => 7,\"target_id\" => 12,\"type\" => \"CurriculumPrerequisite\")],\"name\" => \" \",\"metrics\" => Dict{String,Any}(\"complexity\" => 8.0,\"centrality\" => 11,\"blocking factor\" => 2,\"delay factor\" => 6.0),\"nameSub\" => \"MECH 200\",\"id\" => 12,\"credits\" => 3,\"nameCanonical\" => \"\"), Dict(\"curriculum_requisites\" => Dict{String,Any}[Dict(\"source_id\" => 7,\"target_id\" => 13,\"type\" => \"CurriculumPrerequisite\")],\"name\" => \" \",\"metrics\" => Dict{String,Any}(\"complexity\" => 8.0,\"centrality\" => 11,\"blocking factor\" => 2,\"delay factor\" => 6.0),\"nameSub\" => \"MECH 201\",\"id\" => 13,\"credits\" => 2,\"nameCanonical\" => \"\"), Dict(\"curriculum_requisites\" => Dict{String,Any}[Dict(\"source_id\" => 8,\"target_id\" => 14,\"type\" => \"CurriculumPrerequisite\"), Dict(\"source_id\" => 6,\"target_id\" => 14,\"type\" => \"CurriculumPrerequisite\")],\"name\" => \" \",\"metrics\" => Dict{String,Any}(\"complexity\" => 11.0,\"centrality\" => 36,\"blocking factor\" => 5,\"delay factor\" => 6.0),\"nameSub\" => \"PH 142\",\"id\" => 14,\"credits\" => 5,\"nameCanonical\" => \"\")],\"id\" => 3), Dict(\"name\" => \"Term 4\",\"curriculum_items\" => Dict{String,Any}[Dict(\"curriculum_requisites\" => Dict{String,Any}[Dict(\"source_id\" => 10,\"target_id\" => 15,\"type\" => \"CurriculumPrerequisite\")],\"name\" => \" \",\"metrics\" => Dict{String,Any}(\"complexity\" => 9.0,\"centrality\" => 12,\"blocking factor\" => 3,\"delay factor\" => 6.0),\"nameSub\" => \"CIVE 261\",\"id\" => 15,\"credits\" => 3,\"nameCanonical\" => \"\"), Dict(\"curriculum_requisites\" => Dict{String,Any}[Dict(\"source_id\" => 14,\"target_id\" => 16,\"type\" => \"CurriculumPrerequisite\")],\"name\" => \" \",\"metrics\" => Dict{String,Any}(\"complexity\" => 8.0,\"centrality\" => 12,\"blocking factor\" => 2,\"delay factor\" => 6.0),\"nameSub\" => \"ECE 204\",\"id\" => 16,\"credits\" => 3,\"nameCanonical\" => \"\"), Dict(\"curriculum_requisites\" => Dict{String,Any}[Dict(\"source_id\" => 11,\"target_id\" => 17,\"type\" => \"CurriculumPrerequisite\")],\"name\" => \" \",\"metrics\" => Dict{String,Any}(\"complexity\" => 15.0,\"centrality\" => 32,\"blocking factor\" => 8,\"delay factor\" => 7.0),\"nameSub\" => \"MATH 340\",\"id\" => 17,\"credits\" => 4,\"nameCanonical\" => \"\"), Dict(\"curriculum_requisites\" => Dict{String,Any}[Dict(\"source_id\" => 13,\"target_id\" => 18,\"type\" => \"CurriculumPrerequisite\"), Dict(\"source_id\" => 12,\"target_id\" => 18,\"type\" => \"CurriculumPrerequisite\")],\"name\" => \" \",\"metrics\" => Dict{String,Any}(\"complexity\" => 7.0,\"centrality\" => 22,\"blocking factor\" => 1,\"delay factor\" => 6.0),\"nameSub\" => \"MECH 202\",\"id\" => 18,\"credits\" => 3,\"nameCanonical\" => \"\"), Dict(\"curriculum_requisites\" => Dict{String,Any}[Dict(\"source_id\" => 7,\"target_id\" => 19,\"type\" => \"CurriculumPrerequisite\"), Dict(\"source_id\" => 14,\"target_id\" => 19,\"type\" => \"CurriculumPrerequisite\")],\"name\" => \" \",\"metrics\" => Dict{String,Any}(\"complexity\" => 9.0,\"centrality\" => 46,\"blocking factor\" => 3,\"delay factor\" => 6.0),\"nameSub\" => \"MECH 231\",\"id\" => 19,\"credits\" => 3,\"nameCanonical\" => \"\"), Dict(\"curriculum_requisites\" => Dict{String,Any}[Dict(\"source_id\" => 11,\"target_id\" => 20,\"type\" => \"CurriculumPrerequisite\"), Dict(\"source_id\" => 8,\"target_id\" => 20,\"type\" => \"CurriculumPrerequisite\")],\"name\" => \" \",\"metrics\" => Dict{String,Any}(\"complexity\" => 12.0,\"centrality\" => 37,\"blocking factor\" => 5,\"delay factor\" => 7.0),\"nameSub\" => \"MECH 337\",\"id\" => 20,\"credits\" => 4,\"nameCanonical\" => \"\")],\"id\" => 4), Dict(\"name\" => \"Term 5\",\"curriculum_items\" => Dict{String,Any}[Dict(\"curriculum_requisites\" => Dict{String,Any}[Dict(\"source_id\" => 10,\"target_id\" => 21,\"type\" => \"CurriculumPrerequisite\")],\"name\" => \" \",\"metrics\" => Dict{String,Any}(\"complexity\" => 7.0,\"centrality\" => 10,\"blocking factor\" => 2,\"delay factor\" => 5.0),\"nameSub\" => \"CIVE 360\",\"id\" => 21,\"credits\" => 3,\"nameCanonical\" => \"\"), Dict(\"curriculum_requisites\" => Dict{String,Any}[Dict(\"source_id\" => 16,\"target_id\" => 22,\"type\" => \"CurriculumPrerequisite\"), Dict(\"source_id\" => 17,\"target_id\" => 22,\"type\" => \"CurriculumPrerequisite\"), Dict(\"source_id\" => 19,\"target_id\" => 22,\"type\" => \"CurriculumPrerequisite\"), Dict(\"source_id\" => 15,\"target_id\" => 22,\"type\" => \"CurriculumPrerequisite\")],\"name\" => \" \",\"metrics\" => Dict{String,Any}(\"complexity\" => 7.0,\"centrality\" => 47,\"blocking factor\" => 1,\"delay factor\" => 6.0),\"nameSub\" => \"MECH 307\",\"id\" => 22,\"credits\" => 4,\"nameCanonical\" => \"\"), Dict(\"curriculum_requisites\" => Dict{String,Any}[Dict(\"source_id\" => 17,\"target_id\" => 23,\"type\" => \"CurriculumPrerequisite\"), Dict(\"source_id\" => 15,\"target_id\" => 23,\"type\" => \"CurriculumPrerequisite\")],\"name\" => \" \",\"metrics\" => Dict{String,Any}(\"complexity\" => 7.0,\"centrality\" => 12,\"blocking factor\" => 1,\"delay factor\" => 6.0),\"nameSub\" => \"MECH 324\",\"id\" => 23,\"credits\" => 4,\"nameCanonical\" => \"\"), Dict(\"curriculum_requisites\" => Dict{String,Any}[Dict(\"source_id\" => 17,\"target_id\" => 24,\"type\" => \"CurriculumPrerequisite\"), Dict(\"source_id\" => 20,\"target_id\" => 24,\"type\" => \"CurriculumPrerequisite\")],\"name\" => \" \",\"metrics\" => Dict{String,Any}(\"complexity\" => 11.0,\"centrality\" => 57,\"blocking factor\" => 4,\"delay factor\" => 7.0),\"nameSub\" => \"MECH 342\",\"id\" => 24,\"credits\" => 3,\"nameCanonical\" => \"\")],\"id\" => 5), Dict(\"name\" => \"Term 6\",\"curriculum_items\" => Dict{String,Any}[Dict(\"curriculum_requisites\" => Dict{String,Any}[Dict(\"source_id\" => 21,\"target_id\" => 25,\"type\" => \"CurriculumPrerequisite\"), Dict(\"source_id\" => 18,\"target_id\" => 25,\"type\" => \"CurriculumPrerequisite\")],\"name\" => \" \",\"metrics\" => Dict{String,Any}(\"complexity\" => 6.0,\"centrality\" => 0,\"blocking factor\" => 0,\"delay factor\" => 6.0),\"nameSub\" => \"MECH 301\",\"id\" => 25,\"credits\" => 2,\"nameCanonical\" => \"\"), Dict(\"curriculum_requisites\" => Dict{String,Any}[Dict(\"source_id\" => 21,\"target_id\" => 26,\"type\" => \"CurriculumPrerequisite\")],\"name\" => \" \",\"metrics\" => Dict{String,Any}(\"complexity\" => 5.0,\"centrality\" => 0,\"blocking factor\" => 0,\"delay factor\" => 5.0),\"nameSub\" => \"MECH 325\",\"id\" => 26,\"credits\" => 3,\"nameCanonical\" => \"\"), Dict(\"curriculum_requisites\" => Dict{String,Any}[Dict(\"source_id\" => 2,\"target_id\" => 27,\"type\" => \"CurriculumPrerequisite\"), Dict(\"source_id\" => 19,\"target_id\" => 27,\"type\" => \"CurriculumPrerequisite\"), Dict(\"source_id\" => 1,\"target_id\" => 27,\"type\" => \"CurriculumPrerequisite\")],\"name\" => \" \",\"metrics\" => Dict{String,Any}(\"complexity\" => 7.0,\"centrality\" => 29,\"blocking factor\" => 1,\"delay factor\" => 6.0),\"nameSub\" => \"MECH 331\",\"id\" => 27,\"credits\" => 4,\"nameCanonical\" => \"\"), Dict(\"curriculum_requisites\" => Dict{String,Any}[Dict(\"source_id\" => 24,\"target_id\" => 28,\"type\" => \"CurriculumPrerequisite\")],\"name\" => \" \",\"metrics\" => Dict{String,Any}(\"complexity\" => 9.0,\"centrality\" => 40,\"blocking factor\" => 2,\"delay factor\" => 7.0),\"nameSub\" => \"MECH 338\",\"id\" => 28,\"credits\" => 1,\"nameCanonical\" => \"\"), Dict(\"curriculum_requisites\" => Dict{String,Any}[Dict(\"source_id\" => 24,\"target_id\" => 29,\"type\" => \"CurriculumPrerequisite\")],\"name\" => \" \",\"metrics\" => Dict{String,Any}(\"complexity\" => 6.0,\"centrality\" => 0,\"blocking factor\" => 0,\"delay factor\" => 6.0),\"nameSub\" => \"MECH 344\",\"id\" => 29,\"credits\" => 3,\"nameCanonical\" => \"\")],\"id\" => 6), Dict(\"name\" => \"Term 7\",\"curriculum_items\" => Dict{String,Any}[Dict(\"curriculum_requisites\" => Dict{String,Any}[Dict(\"source_id\" => 23,\"target_id\" => 30,\"type\" => \"CurriculumPrerequisite\"), Dict(\"source_id\" => 27,\"target_id\" => 30,\"type\" => \"CurriculumPrerequisite\"), Dict(\"source_id\" => 22,\"target_id\" => 30,\"type\" => \"CurriculumPrerequisite\")],\"name\" => \" \",\"metrics\" => Dict{String,Any}(\"complexity\" => 6.0,\"centrality\" => 0,\"blocking factor\" => 0,\"delay factor\" => 6.0),\"nameSub\" => \"MECH 402\",\"id\" => 30,\"credits\" => 3,\"nameCanonical\" => \"\"), Dict(\"curriculum_requisites\" => Dict{String,Any}[],\"name\" => \" \",\"metrics\" => Dict{String,Any}(\"complexity\" => 1.0,\"centrality\" => 0,\"blocking factor\" => 0,\"delay factor\" => 1.0),\"nameSub\" => \"ELECTIVE 1\",\"id\" => 31,\"credits\" => 4,\"nameCanonical\" => \"\"), Dict(\"curriculum_requisites\" => Dict{String,Any}[],\"name\" => \" \",\"metrics\" => Dict{String,Any}(\"complexity\" => 1.0,\"centrality\" => 0,\"blocking factor\" => 0,\"delay factor\" => 1.0),\"nameSub\" => \"AUCC 3E\",\"id\" => 32,\"credits\" => 3,\"nameCanonical\" => \"\"), Dict(\"curriculum_requisites\" => Dict{String,Any}[],\"name\" => \" \",\"metrics\" => Dict{String,Any}(\"complexity\" => 1.0,\"centrality\" => 0,\"blocking factor\" => 0,\"delay factor\" => 1.0),\"nameSub\" => \"AUCC 3C\",\"id\" => 33,\"credits\" => 3,\"nameCanonical\" => \"\"), Dict(\"curriculum_requisites\" => Dict{String,Any}[],\"name\" => \" \",\"metrics\" => Dict{String,Any}(\"complexity\" => 1.0,\"centrality\" => 0,\"blocking factor\" => 0,\"delay factor\" => 1.0),\"nameSub\" => \"TECH ELECTIVE\",\"id\" => 34,\"credits\" => 3,\"nameCanonical\" => \"\")],\"id\" => 7), Dict(\"name\" => \"Term 8\",\"curriculum_items\" => Dict{String,Any}[Dict(\"curriculum_requisites\" => Dict{String,Any}[Dict(\"source_id\" => 28,\"target_id\" => 35,\"type\" => \"CurriculumPrerequisite\")],\"name\" => \" \",\"metrics\" => Dict{String,Any}(\"complexity\" => 7.0,\"centrality\" => 0,\"blocking factor\" => 0,\"delay factor\" => 7.0),\"nameSub\" => \"MECH 486B\",\"id\" => 35,\"credits\" => 4,\"nameCanonical\" => \"\"), Dict(\"curriculum_requisites\" => Dict{String,Any}[Dict(\"source_id\" => 28,\"target_id\" => 36,\"type\" => \"CurriculumPrerequisite\")],\"name\" => \" \",\"metrics\" => Dict{String,Any}(\"complexity\" => 7.0,\"centrality\" => 0,\"blocking factor\" => 0,\"delay factor\" => 7.0),\"nameSub\" => \"MECH 498B\",\"id\" => 36,\"credits\" => 3,\"nameCanonical\" => \"\"), Dict(\"curriculum_requisites\" => Dict{String,Any}[],\"name\" => \" \",\"metrics\" => Dict{String,Any}(\"complexity\" => 1.0,\"centrality\" => 0,\"blocking factor\" => 0,\"delay factor\" => 1.0),\"nameSub\" => \"AUCC 3D\",\"id\" => 37,\"credits\" => 3,\"nameCanonical\" => \"\"), Dict(\"curriculum_requisites\" => Dict{String,Any}[],\"name\" => \" \",\"metrics\" => Dict{String,Any}(\"complexity\" => 1.0,\"centrality\" => 0,\"blocking factor\" => 0,\"delay factor\" => 1.0),\"nameSub\" => \"TECH ELECTIVE\",\"id\" => 38,\"credits\" => 3,\"nameCanonical\" => \"\"), Dict(\"curriculum_requisites\" => Dict{String,Any}[],\"name\" => \" \",\"metrics\" => Dict{String,Any}(\"complexity\" => 1.0,\"centrality\" => 0,\"blocking factor\" => 0,\"delay factor\" => 1.0),\"nameSub\" => \"TECH ELECTIVE\",\"id\" => 39,\"credits\" => 3,\"nameCanonical\" => \"\")],\"id\" => 8)],\"institution\" => \"Colorado State University\")), nothing)), Set{String}(), nothing, WebIO.Asset[], Dict{Any,Any}(), WebIO.ConnectionPool(Channel{Any}(sz_max:32,sz_curr:0), Set{WebIO.AbstractConnection}(), Base.GenericCondition{Base.AlwaysLockedST}(Base.InvasiveLinkedList{Task}(Task (runnable) @0x0000000120eef850, Task (runnable) @0x0000000120eef850), Base.AlwaysLockedST(1))), WebIO.JSString[])"
      ]
     },
     "execution_count": 11,
     "metadata": {
      "application/vnd.webio.node+json": {
       "kernelId": "9dd30290-9719-4c59-84ee-e85e1e3d339f"
      }
     },
     "output_type": "execute_result"
    }
   ],
   "source": [
    "dp = schools_plans[\"colorado-state\"][\"mechanical-engineering\"]\n",
    "visualize(dp, notebook=true)"
   ]
  },
  {
   "cell_type": "code",
   "execution_count": 12,
   "metadata": {},
   "outputs": [
    {
     "data": {
      "application/vnd.webio.node+json": {
       "children": [
        {
         "children": [
          ""
         ],
         "instanceArgs": {
          "namespace": "html",
          "tag": "iframe"
         },
         "nodeType": "DOM",
         "props": {
          "events": {
           "load": "(function (){this.contentWindow.postMessage({\"options\":{\"hideTerms\":false,\"edit\":false},\"curriculum\":{\"name\":\"Mechanical Engineering\",\"dp_name\":\"4-Year Plan\",\"curriculum_terms\":[{\"name\":\"Term 1\",\"curriculum_items\":[{\"curriculum_requisites\":[],\"name\":\" \",\"metrics\":{\"complexity\":1.0,\"centrality\":0,\"blocking factor\":0,\"delay factor\":1.0},\"nameSub\":\"ENGL 111G\",\"id\":1,\"credits\":4,\"nameCanonical\":\"\"},{\"curriculum_requisites\":[],\"name\":\" \",\"metrics\":{\"complexity\":18.0,\"centrality\":0,\"blocking factor\":12,\"delay factor\":6.0},\"nameSub\":\"MATH 191G\",\"id\":2,\"credits\":4,\"nameCanonical\":\"\"},{\"curriculum_requisites\":[],\"name\":\" \",\"metrics\":{\"complexity\":3.0,\"centrality\":0,\"blocking factor\":1,\"delay factor\":2.0},\"nameSub\":\"M E 159\",\"id\":3,\"credits\":2,\"nameCanonical\":\"\"},{\"curriculum_requisites\":[],\"name\":\" \",\"metrics\":{\"complexity\":1.0,\"centrality\":0,\"blocking factor\":0,\"delay factor\":1.0},\"nameSub\":\"ENGR 100\",\"id\":4,\"credits\":3,\"nameCanonical\":\"\"}],\"id\":1},{\"name\":\"Term 2\",\"curriculum_items\":[{\"curriculum_requisites\":[{\"source_id\":2,\"target_id\":5,\"type\":\"CurriculumPrerequisite\"}],\"name\":\" \",\"metrics\":{\"complexity\":2.0,\"centrality\":0,\"blocking factor\":0,\"delay factor\":2.0},\"nameSub\":\"MATH 192G \",\"id\":5,\"credits\":4,\"nameCanonical\":\"\"},{\"curriculum_requisites\":[{\"source_id\":2,\"target_id\":6,\"type\":\"CurriculumPrerequisite\"}],\"name\":\" \",\"metrics\":{\"complexity\":16.0,\"centrality\":22,\"blocking factor\":10,\"delay factor\":6.0},\"nameSub\":\"PHYS 215G\",\"id\":6,\"credits\":3,\"nameCanonical\":\"\"},{\"curriculum_requisites\":[{\"source_id\":6,\"target_id\":7,\"type\":\"CurriculumCorequisite\"}],\"name\":\" \",\"metrics\":{\"complexity\":3.0,\"centrality\":0,\"blocking factor\":0,\"delay factor\":3.0},\"nameSub\":\"PHYS 215GL\",\"id\":7,\"credits\":1,\"nameCanonical\":\"\"},{\"curriculum_requisites\":[{\"source_id\":3,\"target_id\":8,\"type\":\"CurriculumPrerequisite\"}],\"name\":\" \",\"metrics\":{\"complexity\":2.0,\"centrality\":0,\"blocking factor\":0,\"delay factor\":2.0},\"nameSub\":\"M E 222\",\"id\":8,\"credits\":3,\"nameCanonical\":\"\"},{\"curriculum_requisites\":[],\"name\":\" \",\"metrics\":{\"complexity\":1.0,\"centrality\":0,\"blocking factor\":0,\"delay factor\":1.0},\"nameSub\":\"English Comp\",\"id\":9,\"credits\":3,\"nameCanonical\":\"\"}],\"id\":2},{\"name\":\"Term 3\",\"curriculum_items\":[{\"curriculum_requisites\":[{\"source_id\":6,\"target_id\":10,\"type\":\"CurriculumCorequisite\"}],\"name\":\" \",\"metrics\":{\"complexity\":11.0,\"centrality\":11,\"blocking factor\":5,\"delay factor\":6.0},\"nameSub\":\"M E 236\",\"id\":10,\"credits\":4,\"nameCanonical\":\"\"},{\"curriculum_requisites\":[],\"name\":\" \",\"metrics\":{\"complexity\":1.0,\"centrality\":0,\"blocking factor\":0,\"delay factor\":1.0},\"nameSub\":\"MATH 291G\",\"id\":11,\"credits\":3,\"nameCanonical\":\"\"},{\"curriculum_requisites\":[],\"name\":\" \",\"metrics\":{\"complexity\":1.0,\"centrality\":0,\"blocking factor\":0,\"delay factor\":1.0},\"nameSub\":\"PHYS 216G\",\"id\":12,\"credits\":3,\"nameCanonical\":\"\"},{\"curriculum_requisites\":[],\"name\":\" \",\"metrics\":{\"complexity\":1.0,\"centrality\":0,\"blocking factor\":0,\"delay factor\":1.0},\"nameSub\":\"M E 210\",\"id\":13,\"credits\":3,\"nameCanonical\":\"\"},{\"curriculum_requisites\":[],\"name\":\" \",\"metrics\":{\"complexity\":1.0,\"centrality\":0,\"blocking factor\":0,\"delay factor\":1.0},\"nameSub\":\"M E 261\",\"id\":14,\"credits\":3,\"nameCanonical\":\"\"}],\"id\":3},{\"name\":\"Term 4\",\"curriculum_items\":[{\"curriculum_requisites\":[],\"name\":\" \",\"metrics\":{\"complexity\":7.0,\"centrality\":0,\"blocking factor\":4,\"delay factor\":3.0},\"nameSub\":\"M E 228\",\"id\":15,\"credits\":3,\"nameCanonical\":\"\"},{\"curriculum_requisites\":[{\"source_id\":10,\"target_id\":16,\"type\":\"CurriculumPrerequisite\"}],\"name\":\" \",\"metrics\":{\"complexity\":8.0,\"centrality\":6,\"blocking factor\":2,\"delay factor\":6.0},\"nameSub\":\"M E 237\",\"id\":16,\"credits\":3,\"nameCanonical\":\"\"},{\"curriculum_requisites\":[{\"source_id\":10,\"target_id\":17,\"type\":\"CurriculumPrerequisite\"}],\"name\":\" \",\"metrics\":{\"complexity\":6.0,\"centrality\":5,\"blocking factor\":1,\"delay factor\":5.0},\"nameSub\":\"C E 301\",\"id\":17,\"credits\":3,\"nameCanonical\":\"\"},{\"curriculum_requisites\":[{\"source_id\":6,\"target_id\":18,\"type\":\"CurriculumPrerequisite\"}],\"name\":\" \",\"metrics\":{\"complexity\":6.0,\"centrality\":8,\"blocking factor\":2,\"delay factor\":4.0},\"nameSub\":\"M E 240\",\"id\":18,\"credits\":3,\"nameCanonical\":\"\"},{\"curriculum_requisites\":[],\"name\":\" \",\"metrics\":{\"complexity\":1.0,\"centrality\":0,\"blocking factor\":0,\"delay factor\":1.0},\"nameSub\":\"Oral Comm\",\"id\":19,\"credits\":3,\"nameCanonical\":\"\"}],\"id\":4},{\"name\":\"Term 5\",\"curriculum_items\":[{\"curriculum_requisites\":[{\"source_id\":15,\"target_id\":20,\"type\":\"CurriculumPrerequisite\"}],\"name\":\" \",\"metrics\":{\"complexity\":2.0,\"centrality\":0,\"blocking factor\":0,\"delay factor\":2.0},\"nameSub\":\"M E 238\",\"id\":20,\"credits\":3,\"nameCanonical\":\"\"},{\"curriculum_requisites\":[{\"source_id\":15,\"target_id\":21,\"type\":\"CurriculumPrerequisite\"}],\"name\":\" \",\"metrics\":{\"complexity\":4.0,\"centrality\":3,\"blocking factor\":1,\"delay factor\":3.0},\"nameSub\":\"M E 338\",\"id\":21,\"credits\":3,\"nameCanonical\":\"\"},{\"curriculum_requisites\":[],\"name\":\" \",\"metrics\":{\"complexity\":1.0,\"centrality\":0,\"blocking factor\":0,\"delay factor\":1.0},\"nameSub\":\"CHME 361\",\"id\":22,\"credits\":3,\"nameCanonical\":\"\"},{\"curriculum_requisites\":[{\"source_id\":18,\"target_id\":23,\"type\":\"CurriculumPrerequisite\"}],\"name\":\" \",\"metrics\":{\"complexity\":4.0,\"centrality\":0,\"blocking factor\":0,\"delay factor\":4.0},\"nameSub\":\"M E 340\",\"id\":23,\"credits\":3,\"nameCanonical\":\"\"},{\"curriculum_requisites\":[],\"name\":\" \",\"metrics\":{\"complexity\":1.0,\"centrality\":0,\"blocking factor\":0,\"delay factor\":1.0},\"nameSub\":\"M E 349\",\"id\":24,\"credits\":1,\"nameCanonical\":\"\"},{\"curriculum_requisites\":[],\"name\":\" \",\"metrics\":{\"complexity\":1.0,\"centrality\":0,\"blocking factor\":0,\"delay factor\":1.0},\"nameSub\":\"Fine Arts\",\"id\":25,\"credits\":3,\"nameCanonical\":\"\"}],\"id\":5},{\"name\":\"Term 6\",\"curriculum_items\":[{\"curriculum_requisites\":[{\"source_id\":16,\"target_id\":26,\"type\":\"CurriculumPrerequisite\"}],\"name\":\" \",\"metrics\":{\"complexity\":7.0,\"centrality\":6,\"blocking factor\":1,\"delay factor\":6.0},\"nameSub\":\"M E 326\",\"id\":26,\"credits\":3,\"nameCanonical\":\"\"},{\"curriculum_requisites\":[],\"name\":\" \",\"metrics\":{\"complexity\":1.0,\"centrality\":0,\"blocking factor\":0,\"delay factor\":1.0},\"nameSub\":\"Mech Elective\",\"id\":27,\"credits\":3,\"nameCanonical\":\"\"},{\"curriculum_requisites\":[{\"source_id\":17,\"target_id\":28,\"type\":\"CurriculumCorequisite\"},{\"source_id\":15,\"target_id\":28,\"type\":\"CurriculumPrerequisite\"}],\"name\":\" \",\"metrics\":{\"complexity\":5.0,\"centrality\":0,\"blocking factor\":0,\"delay factor\":5.0},\"nameSub\":\"M E 345\",\"id\":28,\"credits\":3,\"nameCanonical\":\"\"},{\"curriculum_requisites\":[{\"source_id\":18,\"target_id\":29,\"type\":\"CurriculumPrerequisite\"}],\"name\":\" \",\"metrics\":{\"complexity\":4.0,\"centrality\":0,\"blocking factor\":0,\"delay factor\":4.0},\"nameSub\":\"M E 341\",\"id\":29,\"credits\":3,\"nameCanonical\":\"\"},{\"curriculum_requisites\":[],\"name\":\" \",\"metrics\":{\"complexity\":1.0,\"centrality\":0,\"blocking factor\":0,\"delay factor\":1.0},\"nameSub\":\"Humanities\",\"id\":30,\"credits\":3,\"nameCanonical\":\"\"}],\"id\":6},{\"name\":\"Term 7\",\"curriculum_items\":[{\"curriculum_requisites\":[],\"name\":\" \",\"metrics\":{\"complexity\":1.0,\"centrality\":0,\"blocking factor\":0,\"delay factor\":1.0},\"nameSub\":\"PHYS 303V\",\"id\":31,\"credits\":3,\"nameCanonical\":\"\"},{\"curriculum_requisites\":[],\"name\":\" \",\"metrics\":{\"complexity\":3.0,\"centrality\":0,\"blocking factor\":1,\"delay factor\":2.0},\"nameSub\":\"ENGR 401\",\"id\":32,\"credits\":3,\"nameCanonical\":\"\"},{\"curriculum_requisites\":[{\"source_id\":26,\"target_id\":33,\"type\":\"CurriculumPrerequisite\"}],\"name\":\" \",\"metrics\":{\"complexity\":6.0,\"centrality\":0,\"blocking factor\":0,\"delay factor\":6.0},\"nameSub\":\"M E 425\",\"id\":33,\"credits\":3,\"nameCanonical\":\"\"},{\"curriculum_requisites\":[{\"source_id\":21,\"target_id\":34,\"type\":\"CurriculumPrerequisite\"}],\"name\":\" \",\"metrics\":{\"complexity\":3.0,\"centrality\":0,\"blocking factor\":0,\"delay factor\":3.0},\"nameSub\":\"M E 445\",\"id\":34,\"credits\":3,\"nameCanonical\":\"\"},{\"curriculum_requisites\":[],\"name\":\" \",\"metrics\":{\"complexity\":1.0,\"centrality\":0,\"blocking factor\":0,\"delay factor\":1.0},\"nameSub\":\"Behav Sci\",\"id\":35,\"credits\":3,\"nameCanonical\":\"\"}],\"id\":7},{\"name\":\"Term 8\",\"curriculum_items\":[{\"curriculum_requisites\":[{\"source_id\":32,\"target_id\":36,\"type\":\"CurriculumPrerequisite\"}],\"name\":\" \",\"metrics\":{\"complexity\":2.0,\"centrality\":0,\"blocking factor\":0,\"delay factor\":2.0},\"nameSub\":\"ENGR 402\",\"id\":36,\"credits\":3,\"nameCanonical\":\"\"},{\"curriculum_requisites\":[],\"name\":\" \",\"metrics\":{\"complexity\":1.0,\"centrality\":0,\"blocking factor\":0,\"delay factor\":1.0},\"nameSub\":\"Elective\",\"id\":37,\"credits\":6,\"nameCanonical\":\"\"},{\"curriculum_requisites\":[],\"name\":\" \",\"metrics\":{\"complexity\":1.0,\"centrality\":0,\"blocking factor\":0,\"delay factor\":1.0},\"nameSub\":\"VWW\",\"id\":38,\"credits\":3,\"nameCanonical\":\"\"},{\"curriculum_requisites\":[],\"name\":\" \",\"metrics\":{\"complexity\":1.0,\"centrality\":0,\"blocking factor\":0,\"delay factor\":1.0},\"nameSub\":\"Elective\",\"id\":39,\"credits\":1,\"nameCanonical\":\"\"}],\"id\":8}],\"institution\":\"New Mexico State University\"}},\"*\"); window.removeEventListener(\"message\",window.messageReceived); window.messageReceived=(function (event){return (event.data.curriculum!==undefined) ? (WebIO.setval({\"name\":\"curriculum-data\",\"scope\":\"1791077681253331247\",\"id\":\"6277485604842161903\",\"type\":\"observable\"},event.data.curriculum)) : undefined}); return window.addEventListener(\"message\",window.messageReceived)})"
          },
          "id": "curriculum",
          "src": "http://localhost:8156",
          "style": {
           "border": "none",
           "height": "100vh",
           "margin": "0",
           "padding": "0",
           "width": "100%"
          }
         },
         "type": "node"
        }
       ],
       "instanceArgs": {
        "handlers": {},
        "id": "1791077681253331247",
        "imports": {
         "data": [],
         "type": "async_block"
        },
        "mount_callbacks": [],
        "observables": {
         "curriculum-data": {
          "id": "6277485604842161903",
          "sync": true,
          "value": {
           "curriculum": {
            "curriculum_terms": [
             {
              "curriculum_items": [
               {
                "credits": 4,
                "curriculum_requisites": [],
                "id": 1,
                "metrics": {
                 "blocking factor": 0,
                 "centrality": 0,
                 "complexity": 1,
                 "delay factor": 1
                },
                "name": " ",
                "nameCanonical": "",
                "nameSub": "ENGL 111G"
               },
               {
                "credits": 4,
                "curriculum_requisites": [],
                "id": 2,
                "metrics": {
                 "blocking factor": 12,
                 "centrality": 0,
                 "complexity": 18,
                 "delay factor": 6
                },
                "name": " ",
                "nameCanonical": "",
                "nameSub": "MATH 191G"
               },
               {
                "credits": 2,
                "curriculum_requisites": [],
                "id": 3,
                "metrics": {
                 "blocking factor": 1,
                 "centrality": 0,
                 "complexity": 3,
                 "delay factor": 2
                },
                "name": " ",
                "nameCanonical": "",
                "nameSub": "M E 159"
               },
               {
                "credits": 3,
                "curriculum_requisites": [],
                "id": 4,
                "metrics": {
                 "blocking factor": 0,
                 "centrality": 0,
                 "complexity": 1,
                 "delay factor": 1
                },
                "name": " ",
                "nameCanonical": "",
                "nameSub": "ENGR 100"
               }
              ],
              "id": 1,
              "name": "Term 1"
             },
             {
              "curriculum_items": [
               {
                "credits": 4,
                "curriculum_requisites": [
                 {
                  "source_id": 2,
                  "target_id": 5,
                  "type": "CurriculumPrerequisite"
                 }
                ],
                "id": 5,
                "metrics": {
                 "blocking factor": 0,
                 "centrality": 0,
                 "complexity": 2,
                 "delay factor": 2
                },
                "name": " ",
                "nameCanonical": "",
                "nameSub": "MATH 192G "
               },
               {
                "credits": 3,
                "curriculum_requisites": [
                 {
                  "source_id": 2,
                  "target_id": 6,
                  "type": "CurriculumPrerequisite"
                 }
                ],
                "id": 6,
                "metrics": {
                 "blocking factor": 10,
                 "centrality": 22,
                 "complexity": 16,
                 "delay factor": 6
                },
                "name": " ",
                "nameCanonical": "",
                "nameSub": "PHYS 215G"
               },
               {
                "credits": 1,
                "curriculum_requisites": [
                 {
                  "source_id": 6,
                  "target_id": 7,
                  "type": "CurriculumCorequisite"
                 }
                ],
                "id": 7,
                "metrics": {
                 "blocking factor": 0,
                 "centrality": 0,
                 "complexity": 3,
                 "delay factor": 3
                },
                "name": " ",
                "nameCanonical": "",
                "nameSub": "PHYS 215GL"
               },
               {
                "credits": 3,
                "curriculum_requisites": [
                 {
                  "source_id": 3,
                  "target_id": 8,
                  "type": "CurriculumPrerequisite"
                 }
                ],
                "id": 8,
                "metrics": {
                 "blocking factor": 0,
                 "centrality": 0,
                 "complexity": 2,
                 "delay factor": 2
                },
                "name": " ",
                "nameCanonical": "",
                "nameSub": "M E 222"
               },
               {
                "credits": 3,
                "curriculum_requisites": [],
                "id": 9,
                "metrics": {
                 "blocking factor": 0,
                 "centrality": 0,
                 "complexity": 1,
                 "delay factor": 1
                },
                "name": " ",
                "nameCanonical": "",
                "nameSub": "English Comp"
               }
              ],
              "id": 2,
              "name": "Term 2"
             },
             {
              "curriculum_items": [
               {
                "credits": 4,
                "curriculum_requisites": [
                 {
                  "source_id": 6,
                  "target_id": 10,
                  "type": "CurriculumCorequisite"
                 }
                ],
                "id": 10,
                "metrics": {
                 "blocking factor": 5,
                 "centrality": 11,
                 "complexity": 11,
                 "delay factor": 6
                },
                "name": " ",
                "nameCanonical": "",
                "nameSub": "M E 236"
               },
               {
                "credits": 3,
                "curriculum_requisites": [],
                "id": 11,
                "metrics": {
                 "blocking factor": 0,
                 "centrality": 0,
                 "complexity": 1,
                 "delay factor": 1
                },
                "name": " ",
                "nameCanonical": "",
                "nameSub": "MATH 291G"
               },
               {
                "credits": 3,
                "curriculum_requisites": [],
                "id": 12,
                "metrics": {
                 "blocking factor": 0,
                 "centrality": 0,
                 "complexity": 1,
                 "delay factor": 1
                },
                "name": " ",
                "nameCanonical": "",
                "nameSub": "PHYS 216G"
               },
               {
                "credits": 3,
                "curriculum_requisites": [],
                "id": 13,
                "metrics": {
                 "blocking factor": 0,
                 "centrality": 0,
                 "complexity": 1,
                 "delay factor": 1
                },
                "name": " ",
                "nameCanonical": "",
                "nameSub": "M E 210"
               },
               {
                "credits": 3,
                "curriculum_requisites": [],
                "id": 14,
                "metrics": {
                 "blocking factor": 0,
                 "centrality": 0,
                 "complexity": 1,
                 "delay factor": 1
                },
                "name": " ",
                "nameCanonical": "",
                "nameSub": "M E 261"
               }
              ],
              "id": 3,
              "name": "Term 3"
             },
             {
              "curriculum_items": [
               {
                "credits": 3,
                "curriculum_requisites": [],
                "id": 15,
                "metrics": {
                 "blocking factor": 4,
                 "centrality": 0,
                 "complexity": 7,
                 "delay factor": 3
                },
                "name": " ",
                "nameCanonical": "",
                "nameSub": "M E 228"
               },
               {
                "credits": 3,
                "curriculum_requisites": [
                 {
                  "source_id": 10,
                  "target_id": 16,
                  "type": "CurriculumPrerequisite"
                 }
                ],
                "id": 16,
                "metrics": {
                 "blocking factor": 2,
                 "centrality": 6,
                 "complexity": 8,
                 "delay factor": 6
                },
                "name": " ",
                "nameCanonical": "",
                "nameSub": "M E 237"
               },
               {
                "credits": 3,
                "curriculum_requisites": [
                 {
                  "source_id": 10,
                  "target_id": 17,
                  "type": "CurriculumPrerequisite"
                 }
                ],
                "id": 17,
                "metrics": {
                 "blocking factor": 1,
                 "centrality": 5,
                 "complexity": 6,
                 "delay factor": 5
                },
                "name": " ",
                "nameCanonical": "",
                "nameSub": "C E 301"
               },
               {
                "credits": 3,
                "curriculum_requisites": [
                 {
                  "source_id": 6,
                  "target_id": 18,
                  "type": "CurriculumPrerequisite"
                 }
                ],
                "id": 18,
                "metrics": {
                 "blocking factor": 2,
                 "centrality": 8,
                 "complexity": 6,
                 "delay factor": 4
                },
                "name": " ",
                "nameCanonical": "",
                "nameSub": "M E 240"
               },
               {
                "credits": 3,
                "curriculum_requisites": [],
                "id": 19,
                "metrics": {
                 "blocking factor": 0,
                 "centrality": 0,
                 "complexity": 1,
                 "delay factor": 1
                },
                "name": " ",
                "nameCanonical": "",
                "nameSub": "Oral Comm"
               }
              ],
              "id": 4,
              "name": "Term 4"
             },
             {
              "curriculum_items": [
               {
                "credits": 3,
                "curriculum_requisites": [
                 {
                  "source_id": 15,
                  "target_id": 20,
                  "type": "CurriculumPrerequisite"
                 }
                ],
                "id": 20,
                "metrics": {
                 "blocking factor": 0,
                 "centrality": 0,
                 "complexity": 2,
                 "delay factor": 2
                },
                "name": " ",
                "nameCanonical": "",
                "nameSub": "M E 238"
               },
               {
                "credits": 3,
                "curriculum_requisites": [
                 {
                  "source_id": 15,
                  "target_id": 21,
                  "type": "CurriculumPrerequisite"
                 }
                ],
                "id": 21,
                "metrics": {
                 "blocking factor": 1,
                 "centrality": 3,
                 "complexity": 4,
                 "delay factor": 3
                },
                "name": " ",
                "nameCanonical": "",
                "nameSub": "M E 338"
               },
               {
                "credits": 3,
                "curriculum_requisites": [],
                "id": 22,
                "metrics": {
                 "blocking factor": 0,
                 "centrality": 0,
                 "complexity": 1,
                 "delay factor": 1
                },
                "name": " ",
                "nameCanonical": "",
                "nameSub": "CHME 361"
               },
               {
                "credits": 3,
                "curriculum_requisites": [
                 {
                  "source_id": 18,
                  "target_id": 23,
                  "type": "CurriculumPrerequisite"
                 }
                ],
                "id": 23,
                "metrics": {
                 "blocking factor": 0,
                 "centrality": 0,
                 "complexity": 4,
                 "delay factor": 4
                },
                "name": " ",
                "nameCanonical": "",
                "nameSub": "M E 340"
               },
               {
                "credits": 1,
                "curriculum_requisites": [],
                "id": 24,
                "metrics": {
                 "blocking factor": 0,
                 "centrality": 0,
                 "complexity": 1,
                 "delay factor": 1
                },
                "name": " ",
                "nameCanonical": "",
                "nameSub": "M E 349"
               },
               {
                "credits": 3,
                "curriculum_requisites": [],
                "id": 25,
                "metrics": {
                 "blocking factor": 0,
                 "centrality": 0,
                 "complexity": 1,
                 "delay factor": 1
                },
                "name": " ",
                "nameCanonical": "",
                "nameSub": "Fine Arts"
               }
              ],
              "id": 5,
              "name": "Term 5"
             },
             {
              "curriculum_items": [
               {
                "credits": 3,
                "curriculum_requisites": [
                 {
                  "source_id": 16,
                  "target_id": 26,
                  "type": "CurriculumPrerequisite"
                 }
                ],
                "id": 26,
                "metrics": {
                 "blocking factor": 1,
                 "centrality": 6,
                 "complexity": 7,
                 "delay factor": 6
                },
                "name": " ",
                "nameCanonical": "",
                "nameSub": "M E 326"
               },
               {
                "credits": 3,
                "curriculum_requisites": [],
                "id": 27,
                "metrics": {
                 "blocking factor": 0,
                 "centrality": 0,
                 "complexity": 1,
                 "delay factor": 1
                },
                "name": " ",
                "nameCanonical": "",
                "nameSub": "Mech Elective"
               },
               {
                "credits": 3,
                "curriculum_requisites": [
                 {
                  "source_id": 17,
                  "target_id": 28,
                  "type": "CurriculumCorequisite"
                 },
                 {
                  "source_id": 15,
                  "target_id": 28,
                  "type": "CurriculumPrerequisite"
                 }
                ],
                "id": 28,
                "metrics": {
                 "blocking factor": 0,
                 "centrality": 0,
                 "complexity": 5,
                 "delay factor": 5
                },
                "name": " ",
                "nameCanonical": "",
                "nameSub": "M E 345"
               },
               {
                "credits": 3,
                "curriculum_requisites": [
                 {
                  "source_id": 18,
                  "target_id": 29,
                  "type": "CurriculumPrerequisite"
                 }
                ],
                "id": 29,
                "metrics": {
                 "blocking factor": 0,
                 "centrality": 0,
                 "complexity": 4,
                 "delay factor": 4
                },
                "name": " ",
                "nameCanonical": "",
                "nameSub": "M E 341"
               },
               {
                "credits": 3,
                "curriculum_requisites": [],
                "id": 30,
                "metrics": {
                 "blocking factor": 0,
                 "centrality": 0,
                 "complexity": 1,
                 "delay factor": 1
                },
                "name": " ",
                "nameCanonical": "",
                "nameSub": "Humanities"
               }
              ],
              "id": 6,
              "name": "Term 6"
             },
             {
              "curriculum_items": [
               {
                "credits": 3,
                "curriculum_requisites": [],
                "id": 31,
                "metrics": {
                 "blocking factor": 0,
                 "centrality": 0,
                 "complexity": 1,
                 "delay factor": 1
                },
                "name": " ",
                "nameCanonical": "",
                "nameSub": "PHYS 303V"
               },
               {
                "credits": 3,
                "curriculum_requisites": [],
                "id": 32,
                "metrics": {
                 "blocking factor": 1,
                 "centrality": 0,
                 "complexity": 3,
                 "delay factor": 2
                },
                "name": " ",
                "nameCanonical": "",
                "nameSub": "ENGR 401"
               },
               {
                "credits": 3,
                "curriculum_requisites": [
                 {
                  "source_id": 26,
                  "target_id": 33,
                  "type": "CurriculumPrerequisite"
                 }
                ],
                "id": 33,
                "metrics": {
                 "blocking factor": 0,
                 "centrality": 0,
                 "complexity": 6,
                 "delay factor": 6
                },
                "name": " ",
                "nameCanonical": "",
                "nameSub": "M E 425"
               },
               {
                "credits": 3,
                "curriculum_requisites": [
                 {
                  "source_id": 21,
                  "target_id": 34,
                  "type": "CurriculumPrerequisite"
                 }
                ],
                "id": 34,
                "metrics": {
                 "blocking factor": 0,
                 "centrality": 0,
                 "complexity": 3,
                 "delay factor": 3
                },
                "name": " ",
                "nameCanonical": "",
                "nameSub": "M E 445"
               },
               {
                "credits": 3,
                "curriculum_requisites": [],
                "id": 35,
                "metrics": {
                 "blocking factor": 0,
                 "centrality": 0,
                 "complexity": 1,
                 "delay factor": 1
                },
                "name": " ",
                "nameCanonical": "",
                "nameSub": "Behav Sci"
               }
              ],
              "id": 7,
              "name": "Term 7"
             },
             {
              "curriculum_items": [
               {
                "credits": 3,
                "curriculum_requisites": [
                 {
                  "source_id": 32,
                  "target_id": 36,
                  "type": "CurriculumPrerequisite"
                 }
                ],
                "id": 36,
                "metrics": {
                 "blocking factor": 0,
                 "centrality": 0,
                 "complexity": 2,
                 "delay factor": 2
                },
                "name": " ",
                "nameCanonical": "",
                "nameSub": "ENGR 402"
               },
               {
                "credits": 6,
                "curriculum_requisites": [],
                "id": 37,
                "metrics": {
                 "blocking factor": 0,
                 "centrality": 0,
                 "complexity": 1,
                 "delay factor": 1
                },
                "name": " ",
                "nameCanonical": "",
                "nameSub": "Elective"
               },
               {
                "credits": 3,
                "curriculum_requisites": [],
                "id": 38,
                "metrics": {
                 "blocking factor": 0,
                 "centrality": 0,
                 "complexity": 1,
                 "delay factor": 1
                },
                "name": " ",
                "nameCanonical": "",
                "nameSub": "VWW"
               },
               {
                "credits": 1,
                "curriculum_requisites": [],
                "id": 39,
                "metrics": {
                 "blocking factor": 0,
                 "centrality": 0,
                 "complexity": 1,
                 "delay factor": 1
                },
                "name": " ",
                "nameCanonical": "",
                "nameSub": "Elective"
               }
              ],
              "id": 8,
              "name": "Term 8"
             }
            ],
            "dp_name": "4-Year Plan",
            "institution": "New Mexico State University",
            "name": "Mechanical Engineering"
           },
           "options": {
            "edit": false,
            "hideTerms": false
           }
          }
         }
        },
        "systemjs_options": null
       },
       "nodeType": "Scope",
       "props": {},
       "type": "node"
      },
      "text/html": [
       "<div\n",
       "    class=\"webio-mountpoint\"\n",
       "    data-webio-mountpoint=\"15318251055820580450\"\n",
       ">\n",
       "    <script>\n",
       "    if (window.require && require.defined && require.defined(\"nbextensions/webio-jupyter-notebook\")) {\n",
       "        console.log(\"Jupyter WebIO extension detected, not mounting.\");\n",
       "    } else if (window.WebIO) {\n",
       "        WebIO.mount(\n",
       "            document.querySelector('[data-webio-mountpoint=\"15318251055820580450\"]'),\n",
       "            {\"props\":{},\"nodeType\":\"Scope\",\"type\":\"node\",\"instanceArgs\":{\"imports\":{\"data\":[],\"type\":\"async_block\"},\"id\":\"1791077681253331247\",\"handlers\":{},\"systemjs_options\":null,\"mount_callbacks\":[],\"observables\":{\"curriculum-data\":{\"sync\":true,\"id\":\"6277485604842161903\",\"value\":{\"options\":{\"hideTerms\":false,\"edit\":false},\"curriculum\":{\"name\":\"Mechanical Engineering\",\"dp_name\":\"4-Year Plan\",\"curriculum_terms\":[{\"name\":\"Term 1\",\"curriculum_items\":[{\"curriculum_requisites\":[],\"name\":\" \",\"metrics\":{\"complexity\":1.0,\"centrality\":0,\"blocking factor\":0,\"delay factor\":1.0},\"nameSub\":\"ENGL 111G\",\"id\":1,\"credits\":4,\"nameCanonical\":\"\"},{\"curriculum_requisites\":[],\"name\":\" \",\"metrics\":{\"complexity\":18.0,\"centrality\":0,\"blocking factor\":12,\"delay factor\":6.0},\"nameSub\":\"MATH 191G\",\"id\":2,\"credits\":4,\"nameCanonical\":\"\"},{\"curriculum_requisites\":[],\"name\":\" \",\"metrics\":{\"complexity\":3.0,\"centrality\":0,\"blocking factor\":1,\"delay factor\":2.0},\"nameSub\":\"M E 159\",\"id\":3,\"credits\":2,\"nameCanonical\":\"\"},{\"curriculum_requisites\":[],\"name\":\" \",\"metrics\":{\"complexity\":1.0,\"centrality\":0,\"blocking factor\":0,\"delay factor\":1.0},\"nameSub\":\"ENGR 100\",\"id\":4,\"credits\":3,\"nameCanonical\":\"\"}],\"id\":1},{\"name\":\"Term 2\",\"curriculum_items\":[{\"curriculum_requisites\":[{\"source_id\":2,\"target_id\":5,\"type\":\"CurriculumPrerequisite\"}],\"name\":\" \",\"metrics\":{\"complexity\":2.0,\"centrality\":0,\"blocking factor\":0,\"delay factor\":2.0},\"nameSub\":\"MATH 192G \",\"id\":5,\"credits\":4,\"nameCanonical\":\"\"},{\"curriculum_requisites\":[{\"source_id\":2,\"target_id\":6,\"type\":\"CurriculumPrerequisite\"}],\"name\":\" \",\"metrics\":{\"complexity\":16.0,\"centrality\":22,\"blocking factor\":10,\"delay factor\":6.0},\"nameSub\":\"PHYS 215G\",\"id\":6,\"credits\":3,\"nameCanonical\":\"\"},{\"curriculum_requisites\":[{\"source_id\":6,\"target_id\":7,\"type\":\"CurriculumCorequisite\"}],\"name\":\" \",\"metrics\":{\"complexity\":3.0,\"centrality\":0,\"blocking factor\":0,\"delay factor\":3.0},\"nameSub\":\"PHYS 215GL\",\"id\":7,\"credits\":1,\"nameCanonical\":\"\"},{\"curriculum_requisites\":[{\"source_id\":3,\"target_id\":8,\"type\":\"CurriculumPrerequisite\"}],\"name\":\" \",\"metrics\":{\"complexity\":2.0,\"centrality\":0,\"blocking factor\":0,\"delay factor\":2.0},\"nameSub\":\"M E 222\",\"id\":8,\"credits\":3,\"nameCanonical\":\"\"},{\"curriculum_requisites\":[],\"name\":\" \",\"metrics\":{\"complexity\":1.0,\"centrality\":0,\"blocking factor\":0,\"delay factor\":1.0},\"nameSub\":\"English Comp\",\"id\":9,\"credits\":3,\"nameCanonical\":\"\"}],\"id\":2},{\"name\":\"Term 3\",\"curriculum_items\":[{\"curriculum_requisites\":[{\"source_id\":6,\"target_id\":10,\"type\":\"CurriculumCorequisite\"}],\"name\":\" \",\"metrics\":{\"complexity\":11.0,\"centrality\":11,\"blocking factor\":5,\"delay factor\":6.0},\"nameSub\":\"M E 236\",\"id\":10,\"credits\":4,\"nameCanonical\":\"\"},{\"curriculum_requisites\":[],\"name\":\" \",\"metrics\":{\"complexity\":1.0,\"centrality\":0,\"blocking factor\":0,\"delay factor\":1.0},\"nameSub\":\"MATH 291G\",\"id\":11,\"credits\":3,\"nameCanonical\":\"\"},{\"curriculum_requisites\":[],\"name\":\" \",\"metrics\":{\"complexity\":1.0,\"centrality\":0,\"blocking factor\":0,\"delay factor\":1.0},\"nameSub\":\"PHYS 216G\",\"id\":12,\"credits\":3,\"nameCanonical\":\"\"},{\"curriculum_requisites\":[],\"name\":\" \",\"metrics\":{\"complexity\":1.0,\"centrality\":0,\"blocking factor\":0,\"delay factor\":1.0},\"nameSub\":\"M E 210\",\"id\":13,\"credits\":3,\"nameCanonical\":\"\"},{\"curriculum_requisites\":[],\"name\":\" \",\"metrics\":{\"complexity\":1.0,\"centrality\":0,\"blocking factor\":0,\"delay factor\":1.0},\"nameSub\":\"M E 261\",\"id\":14,\"credits\":3,\"nameCanonical\":\"\"}],\"id\":3},{\"name\":\"Term 4\",\"curriculum_items\":[{\"curriculum_requisites\":[],\"name\":\" \",\"metrics\":{\"complexity\":7.0,\"centrality\":0,\"blocking factor\":4,\"delay factor\":3.0},\"nameSub\":\"M E 228\",\"id\":15,\"credits\":3,\"nameCanonical\":\"\"},{\"curriculum_requisites\":[{\"source_id\":10,\"target_id\":16,\"type\":\"CurriculumPrerequisite\"}],\"name\":\" \",\"metrics\":{\"complexity\":8.0,\"centrality\":6,\"blocking factor\":2,\"delay factor\":6.0},\"nameSub\":\"M E 237\",\"id\":16,\"credits\":3,\"nameCanonical\":\"\"},{\"curriculum_requisites\":[{\"source_id\":10,\"target_id\":17,\"type\":\"CurriculumPrerequisite\"}],\"name\":\" \",\"metrics\":{\"complexity\":6.0,\"centrality\":5,\"blocking factor\":1,\"delay factor\":5.0},\"nameSub\":\"C E 301\",\"id\":17,\"credits\":3,\"nameCanonical\":\"\"},{\"curriculum_requisites\":[{\"source_id\":6,\"target_id\":18,\"type\":\"CurriculumPrerequisite\"}],\"name\":\" \",\"metrics\":{\"complexity\":6.0,\"centrality\":8,\"blocking factor\":2,\"delay factor\":4.0},\"nameSub\":\"M E 240\",\"id\":18,\"credits\":3,\"nameCanonical\":\"\"},{\"curriculum_requisites\":[],\"name\":\" \",\"metrics\":{\"complexity\":1.0,\"centrality\":0,\"blocking factor\":0,\"delay factor\":1.0},\"nameSub\":\"Oral Comm\",\"id\":19,\"credits\":3,\"nameCanonical\":\"\"}],\"id\":4},{\"name\":\"Term 5\",\"curriculum_items\":[{\"curriculum_requisites\":[{\"source_id\":15,\"target_id\":20,\"type\":\"CurriculumPrerequisite\"}],\"name\":\" \",\"metrics\":{\"complexity\":2.0,\"centrality\":0,\"blocking factor\":0,\"delay factor\":2.0},\"nameSub\":\"M E 238\",\"id\":20,\"credits\":3,\"nameCanonical\":\"\"},{\"curriculum_requisites\":[{\"source_id\":15,\"target_id\":21,\"type\":\"CurriculumPrerequisite\"}],\"name\":\" \",\"metrics\":{\"complexity\":4.0,\"centrality\":3,\"blocking factor\":1,\"delay factor\":3.0},\"nameSub\":\"M E 338\",\"id\":21,\"credits\":3,\"nameCanonical\":\"\"},{\"curriculum_requisites\":[],\"name\":\" \",\"metrics\":{\"complexity\":1.0,\"centrality\":0,\"blocking factor\":0,\"delay factor\":1.0},\"nameSub\":\"CHME 361\",\"id\":22,\"credits\":3,\"nameCanonical\":\"\"},{\"curriculum_requisites\":[{\"source_id\":18,\"target_id\":23,\"type\":\"CurriculumPrerequisite\"}],\"name\":\" \",\"metrics\":{\"complexity\":4.0,\"centrality\":0,\"blocking factor\":0,\"delay factor\":4.0},\"nameSub\":\"M E 340\",\"id\":23,\"credits\":3,\"nameCanonical\":\"\"},{\"curriculum_requisites\":[],\"name\":\" \",\"metrics\":{\"complexity\":1.0,\"centrality\":0,\"blocking factor\":0,\"delay factor\":1.0},\"nameSub\":\"M E 349\",\"id\":24,\"credits\":1,\"nameCanonical\":\"\"},{\"curriculum_requisites\":[],\"name\":\" \",\"metrics\":{\"complexity\":1.0,\"centrality\":0,\"blocking factor\":0,\"delay factor\":1.0},\"nameSub\":\"Fine Arts\",\"id\":25,\"credits\":3,\"nameCanonical\":\"\"}],\"id\":5},{\"name\":\"Term 6\",\"curriculum_items\":[{\"curriculum_requisites\":[{\"source_id\":16,\"target_id\":26,\"type\":\"CurriculumPrerequisite\"}],\"name\":\" \",\"metrics\":{\"complexity\":7.0,\"centrality\":6,\"blocking factor\":1,\"delay factor\":6.0},\"nameSub\":\"M E 326\",\"id\":26,\"credits\":3,\"nameCanonical\":\"\"},{\"curriculum_requisites\":[],\"name\":\" \",\"metrics\":{\"complexity\":1.0,\"centrality\":0,\"blocking factor\":0,\"delay factor\":1.0},\"nameSub\":\"Mech Elective\",\"id\":27,\"credits\":3,\"nameCanonical\":\"\"},{\"curriculum_requisites\":[{\"source_id\":17,\"target_id\":28,\"type\":\"CurriculumCorequisite\"},{\"source_id\":15,\"target_id\":28,\"type\":\"CurriculumPrerequisite\"}],\"name\":\" \",\"metrics\":{\"complexity\":5.0,\"centrality\":0,\"blocking factor\":0,\"delay factor\":5.0},\"nameSub\":\"M E 345\",\"id\":28,\"credits\":3,\"nameCanonical\":\"\"},{\"curriculum_requisites\":[{\"source_id\":18,\"target_id\":29,\"type\":\"CurriculumPrerequisite\"}],\"name\":\" \",\"metrics\":{\"complexity\":4.0,\"centrality\":0,\"blocking factor\":0,\"delay factor\":4.0},\"nameSub\":\"M E 341\",\"id\":29,\"credits\":3,\"nameCanonical\":\"\"},{\"curriculum_requisites\":[],\"name\":\" \",\"metrics\":{\"complexity\":1.0,\"centrality\":0,\"blocking factor\":0,\"delay factor\":1.0},\"nameSub\":\"Humanities\",\"id\":30,\"credits\":3,\"nameCanonical\":\"\"}],\"id\":6},{\"name\":\"Term 7\",\"curriculum_items\":[{\"curriculum_requisites\":[],\"name\":\" \",\"metrics\":{\"complexity\":1.0,\"centrality\":0,\"blocking factor\":0,\"delay factor\":1.0},\"nameSub\":\"PHYS 303V\",\"id\":31,\"credits\":3,\"nameCanonical\":\"\"},{\"curriculum_requisites\":[],\"name\":\" \",\"metrics\":{\"complexity\":3.0,\"centrality\":0,\"blocking factor\":1,\"delay factor\":2.0},\"nameSub\":\"ENGR 401\",\"id\":32,\"credits\":3,\"nameCanonical\":\"\"},{\"curriculum_requisites\":[{\"source_id\":26,\"target_id\":33,\"type\":\"CurriculumPrerequisite\"}],\"name\":\" \",\"metrics\":{\"complexity\":6.0,\"centrality\":0,\"blocking factor\":0,\"delay factor\":6.0},\"nameSub\":\"M E 425\",\"id\":33,\"credits\":3,\"nameCanonical\":\"\"},{\"curriculum_requisites\":[{\"source_id\":21,\"target_id\":34,\"type\":\"CurriculumPrerequisite\"}],\"name\":\" \",\"metrics\":{\"complexity\":3.0,\"centrality\":0,\"blocking factor\":0,\"delay factor\":3.0},\"nameSub\":\"M E 445\",\"id\":34,\"credits\":3,\"nameCanonical\":\"\"},{\"curriculum_requisites\":[],\"name\":\" \",\"metrics\":{\"complexity\":1.0,\"centrality\":0,\"blocking factor\":0,\"delay factor\":1.0},\"nameSub\":\"Behav Sci\",\"id\":35,\"credits\":3,\"nameCanonical\":\"\"}],\"id\":7},{\"name\":\"Term 8\",\"curriculum_items\":[{\"curriculum_requisites\":[{\"source_id\":32,\"target_id\":36,\"type\":\"CurriculumPrerequisite\"}],\"name\":\" \",\"metrics\":{\"complexity\":2.0,\"centrality\":0,\"blocking factor\":0,\"delay factor\":2.0},\"nameSub\":\"ENGR 402\",\"id\":36,\"credits\":3,\"nameCanonical\":\"\"},{\"curriculum_requisites\":[],\"name\":\" \",\"metrics\":{\"complexity\":1.0,\"centrality\":0,\"blocking factor\":0,\"delay factor\":1.0},\"nameSub\":\"Elective\",\"id\":37,\"credits\":6,\"nameCanonical\":\"\"},{\"curriculum_requisites\":[],\"name\":\" \",\"metrics\":{\"complexity\":1.0,\"centrality\":0,\"blocking factor\":0,\"delay factor\":1.0},\"nameSub\":\"VWW\",\"id\":38,\"credits\":3,\"nameCanonical\":\"\"},{\"curriculum_requisites\":[],\"name\":\" \",\"metrics\":{\"complexity\":1.0,\"centrality\":0,\"blocking factor\":0,\"delay factor\":1.0},\"nameSub\":\"Elective\",\"id\":39,\"credits\":1,\"nameCanonical\":\"\"}],\"id\":8}],\"institution\":\"New Mexico State University\"}}}}},\"children\":[{\"props\":{\"src\":\"http:\\/\\/localhost:8156\",\"id\":\"curriculum\",\"events\":{\"load\":\"(function (){this.contentWindow.postMessage({\\\"options\\\":{\\\"hideTerms\\\":false,\\\"edit\\\":false},\\\"curriculum\\\":{\\\"name\\\":\\\"Mechanical Engineering\\\",\\\"dp_name\\\":\\\"4-Year Plan\\\",\\\"curriculum_terms\\\":[{\\\"name\\\":\\\"Term 1\\\",\\\"curriculum_items\\\":[{\\\"curriculum_requisites\\\":[],\\\"name\\\":\\\" \\\",\\\"metrics\\\":{\\\"complexity\\\":1.0,\\\"centrality\\\":0,\\\"blocking factor\\\":0,\\\"delay factor\\\":1.0},\\\"nameSub\\\":\\\"ENGL 111G\\\",\\\"id\\\":1,\\\"credits\\\":4,\\\"nameCanonical\\\":\\\"\\\"},{\\\"curriculum_requisites\\\":[],\\\"name\\\":\\\" \\\",\\\"metrics\\\":{\\\"complexity\\\":18.0,\\\"centrality\\\":0,\\\"blocking factor\\\":12,\\\"delay factor\\\":6.0},\\\"nameSub\\\":\\\"MATH 191G\\\",\\\"id\\\":2,\\\"credits\\\":4,\\\"nameCanonical\\\":\\\"\\\"},{\\\"curriculum_requisites\\\":[],\\\"name\\\":\\\" \\\",\\\"metrics\\\":{\\\"complexity\\\":3.0,\\\"centrality\\\":0,\\\"blocking factor\\\":1,\\\"delay factor\\\":2.0},\\\"nameSub\\\":\\\"M E 159\\\",\\\"id\\\":3,\\\"credits\\\":2,\\\"nameCanonical\\\":\\\"\\\"},{\\\"curriculum_requisites\\\":[],\\\"name\\\":\\\" \\\",\\\"metrics\\\":{\\\"complexity\\\":1.0,\\\"centrality\\\":0,\\\"blocking factor\\\":0,\\\"delay factor\\\":1.0},\\\"nameSub\\\":\\\"ENGR 100\\\",\\\"id\\\":4,\\\"credits\\\":3,\\\"nameCanonical\\\":\\\"\\\"}],\\\"id\\\":1},{\\\"name\\\":\\\"Term 2\\\",\\\"curriculum_items\\\":[{\\\"curriculum_requisites\\\":[{\\\"source_id\\\":2,\\\"target_id\\\":5,\\\"type\\\":\\\"CurriculumPrerequisite\\\"}],\\\"name\\\":\\\" \\\",\\\"metrics\\\":{\\\"complexity\\\":2.0,\\\"centrality\\\":0,\\\"blocking factor\\\":0,\\\"delay factor\\\":2.0},\\\"nameSub\\\":\\\"MATH 192G \\\",\\\"id\\\":5,\\\"credits\\\":4,\\\"nameCanonical\\\":\\\"\\\"},{\\\"curriculum_requisites\\\":[{\\\"source_id\\\":2,\\\"target_id\\\":6,\\\"type\\\":\\\"CurriculumPrerequisite\\\"}],\\\"name\\\":\\\" \\\",\\\"metrics\\\":{\\\"complexity\\\":16.0,\\\"centrality\\\":22,\\\"blocking factor\\\":10,\\\"delay factor\\\":6.0},\\\"nameSub\\\":\\\"PHYS 215G\\\",\\\"id\\\":6,\\\"credits\\\":3,\\\"nameCanonical\\\":\\\"\\\"},{\\\"curriculum_requisites\\\":[{\\\"source_id\\\":6,\\\"target_id\\\":7,\\\"type\\\":\\\"CurriculumCorequisite\\\"}],\\\"name\\\":\\\" \\\",\\\"metrics\\\":{\\\"complexity\\\":3.0,\\\"centrality\\\":0,\\\"blocking factor\\\":0,\\\"delay factor\\\":3.0},\\\"nameSub\\\":\\\"PHYS 215GL\\\",\\\"id\\\":7,\\\"credits\\\":1,\\\"nameCanonical\\\":\\\"\\\"},{\\\"curriculum_requisites\\\":[{\\\"source_id\\\":3,\\\"target_id\\\":8,\\\"type\\\":\\\"CurriculumPrerequisite\\\"}],\\\"name\\\":\\\" \\\",\\\"metrics\\\":{\\\"complexity\\\":2.0,\\\"centrality\\\":0,\\\"blocking factor\\\":0,\\\"delay factor\\\":2.0},\\\"nameSub\\\":\\\"M E 222\\\",\\\"id\\\":8,\\\"credits\\\":3,\\\"nameCanonical\\\":\\\"\\\"},{\\\"curriculum_requisites\\\":[],\\\"name\\\":\\\" \\\",\\\"metrics\\\":{\\\"complexity\\\":1.0,\\\"centrality\\\":0,\\\"blocking factor\\\":0,\\\"delay factor\\\":1.0},\\\"nameSub\\\":\\\"English Comp\\\",\\\"id\\\":9,\\\"credits\\\":3,\\\"nameCanonical\\\":\\\"\\\"}],\\\"id\\\":2},{\\\"name\\\":\\\"Term 3\\\",\\\"curriculum_items\\\":[{\\\"curriculum_requisites\\\":[{\\\"source_id\\\":6,\\\"target_id\\\":10,\\\"type\\\":\\\"CurriculumCorequisite\\\"}],\\\"name\\\":\\\" \\\",\\\"metrics\\\":{\\\"complexity\\\":11.0,\\\"centrality\\\":11,\\\"blocking factor\\\":5,\\\"delay factor\\\":6.0},\\\"nameSub\\\":\\\"M E 236\\\",\\\"id\\\":10,\\\"credits\\\":4,\\\"nameCanonical\\\":\\\"\\\"},{\\\"curriculum_requisites\\\":[],\\\"name\\\":\\\" \\\",\\\"metrics\\\":{\\\"complexity\\\":1.0,\\\"centrality\\\":0,\\\"blocking factor\\\":0,\\\"delay factor\\\":1.0},\\\"nameSub\\\":\\\"MATH 291G\\\",\\\"id\\\":11,\\\"credits\\\":3,\\\"nameCanonical\\\":\\\"\\\"},{\\\"curriculum_requisites\\\":[],\\\"name\\\":\\\" \\\",\\\"metrics\\\":{\\\"complexity\\\":1.0,\\\"centrality\\\":0,\\\"blocking factor\\\":0,\\\"delay factor\\\":1.0},\\\"nameSub\\\":\\\"PHYS 216G\\\",\\\"id\\\":12,\\\"credits\\\":3,\\\"nameCanonical\\\":\\\"\\\"},{\\\"curriculum_requisites\\\":[],\\\"name\\\":\\\" \\\",\\\"metrics\\\":{\\\"complexity\\\":1.0,\\\"centrality\\\":0,\\\"blocking factor\\\":0,\\\"delay factor\\\":1.0},\\\"nameSub\\\":\\\"M E 210\\\",\\\"id\\\":13,\\\"credits\\\":3,\\\"nameCanonical\\\":\\\"\\\"},{\\\"curriculum_requisites\\\":[],\\\"name\\\":\\\" \\\",\\\"metrics\\\":{\\\"complexity\\\":1.0,\\\"centrality\\\":0,\\\"blocking factor\\\":0,\\\"delay factor\\\":1.0},\\\"nameSub\\\":\\\"M E 261\\\",\\\"id\\\":14,\\\"credits\\\":3,\\\"nameCanonical\\\":\\\"\\\"}],\\\"id\\\":3},{\\\"name\\\":\\\"Term 4\\\",\\\"curriculum_items\\\":[{\\\"curriculum_requisites\\\":[],\\\"name\\\":\\\" \\\",\\\"metrics\\\":{\\\"complexity\\\":7.0,\\\"centrality\\\":0,\\\"blocking factor\\\":4,\\\"delay factor\\\":3.0},\\\"nameSub\\\":\\\"M E 228\\\",\\\"id\\\":15,\\\"credits\\\":3,\\\"nameCanonical\\\":\\\"\\\"},{\\\"curriculum_requisites\\\":[{\\\"source_id\\\":10,\\\"target_id\\\":16,\\\"type\\\":\\\"CurriculumPrerequisite\\\"}],\\\"name\\\":\\\" \\\",\\\"metrics\\\":{\\\"complexity\\\":8.0,\\\"centrality\\\":6,\\\"blocking factor\\\":2,\\\"delay factor\\\":6.0},\\\"nameSub\\\":\\\"M E 237\\\",\\\"id\\\":16,\\\"credits\\\":3,\\\"nameCanonical\\\":\\\"\\\"},{\\\"curriculum_requisites\\\":[{\\\"source_id\\\":10,\\\"target_id\\\":17,\\\"type\\\":\\\"CurriculumPrerequisite\\\"}],\\\"name\\\":\\\" \\\",\\\"metrics\\\":{\\\"complexity\\\":6.0,\\\"centrality\\\":5,\\\"blocking factor\\\":1,\\\"delay factor\\\":5.0},\\\"nameSub\\\":\\\"C E 301\\\",\\\"id\\\":17,\\\"credits\\\":3,\\\"nameCanonical\\\":\\\"\\\"},{\\\"curriculum_requisites\\\":[{\\\"source_id\\\":6,\\\"target_id\\\":18,\\\"type\\\":\\\"CurriculumPrerequisite\\\"}],\\\"name\\\":\\\" \\\",\\\"metrics\\\":{\\\"complexity\\\":6.0,\\\"centrality\\\":8,\\\"blocking factor\\\":2,\\\"delay factor\\\":4.0},\\\"nameSub\\\":\\\"M E 240\\\",\\\"id\\\":18,\\\"credits\\\":3,\\\"nameCanonical\\\":\\\"\\\"},{\\\"curriculum_requisites\\\":[],\\\"name\\\":\\\" \\\",\\\"metrics\\\":{\\\"complexity\\\":1.0,\\\"centrality\\\":0,\\\"blocking factor\\\":0,\\\"delay factor\\\":1.0},\\\"nameSub\\\":\\\"Oral Comm\\\",\\\"id\\\":19,\\\"credits\\\":3,\\\"nameCanonical\\\":\\\"\\\"}],\\\"id\\\":4},{\\\"name\\\":\\\"Term 5\\\",\\\"curriculum_items\\\":[{\\\"curriculum_requisites\\\":[{\\\"source_id\\\":15,\\\"target_id\\\":20,\\\"type\\\":\\\"CurriculumPrerequisite\\\"}],\\\"name\\\":\\\" \\\",\\\"metrics\\\":{\\\"complexity\\\":2.0,\\\"centrality\\\":0,\\\"blocking factor\\\":0,\\\"delay factor\\\":2.0},\\\"nameSub\\\":\\\"M E 238\\\",\\\"id\\\":20,\\\"credits\\\":3,\\\"nameCanonical\\\":\\\"\\\"},{\\\"curriculum_requisites\\\":[{\\\"source_id\\\":15,\\\"target_id\\\":21,\\\"type\\\":\\\"CurriculumPrerequisite\\\"}],\\\"name\\\":\\\" \\\",\\\"metrics\\\":{\\\"complexity\\\":4.0,\\\"centrality\\\":3,\\\"blocking factor\\\":1,\\\"delay factor\\\":3.0},\\\"nameSub\\\":\\\"M E 338\\\",\\\"id\\\":21,\\\"credits\\\":3,\\\"nameCanonical\\\":\\\"\\\"},{\\\"curriculum_requisites\\\":[],\\\"name\\\":\\\" \\\",\\\"metrics\\\":{\\\"complexity\\\":1.0,\\\"centrality\\\":0,\\\"blocking factor\\\":0,\\\"delay factor\\\":1.0},\\\"nameSub\\\":\\\"CHME 361\\\",\\\"id\\\":22,\\\"credits\\\":3,\\\"nameCanonical\\\":\\\"\\\"},{\\\"curriculum_requisites\\\":[{\\\"source_id\\\":18,\\\"target_id\\\":23,\\\"type\\\":\\\"CurriculumPrerequisite\\\"}],\\\"name\\\":\\\" \\\",\\\"metrics\\\":{\\\"complexity\\\":4.0,\\\"centrality\\\":0,\\\"blocking factor\\\":0,\\\"delay factor\\\":4.0},\\\"nameSub\\\":\\\"M E 340\\\",\\\"id\\\":23,\\\"credits\\\":3,\\\"nameCanonical\\\":\\\"\\\"},{\\\"curriculum_requisites\\\":[],\\\"name\\\":\\\" \\\",\\\"metrics\\\":{\\\"complexity\\\":1.0,\\\"centrality\\\":0,\\\"blocking factor\\\":0,\\\"delay factor\\\":1.0},\\\"nameSub\\\":\\\"M E 349\\\",\\\"id\\\":24,\\\"credits\\\":1,\\\"nameCanonical\\\":\\\"\\\"},{\\\"curriculum_requisites\\\":[],\\\"name\\\":\\\" \\\",\\\"metrics\\\":{\\\"complexity\\\":1.0,\\\"centrality\\\":0,\\\"blocking factor\\\":0,\\\"delay factor\\\":1.0},\\\"nameSub\\\":\\\"Fine Arts\\\",\\\"id\\\":25,\\\"credits\\\":3,\\\"nameCanonical\\\":\\\"\\\"}],\\\"id\\\":5},{\\\"name\\\":\\\"Term 6\\\",\\\"curriculum_items\\\":[{\\\"curriculum_requisites\\\":[{\\\"source_id\\\":16,\\\"target_id\\\":26,\\\"type\\\":\\\"CurriculumPrerequisite\\\"}],\\\"name\\\":\\\" \\\",\\\"metrics\\\":{\\\"complexity\\\":7.0,\\\"centrality\\\":6,\\\"blocking factor\\\":1,\\\"delay factor\\\":6.0},\\\"nameSub\\\":\\\"M E 326\\\",\\\"id\\\":26,\\\"credits\\\":3,\\\"nameCanonical\\\":\\\"\\\"},{\\\"curriculum_requisites\\\":[],\\\"name\\\":\\\" \\\",\\\"metrics\\\":{\\\"complexity\\\":1.0,\\\"centrality\\\":0,\\\"blocking factor\\\":0,\\\"delay factor\\\":1.0},\\\"nameSub\\\":\\\"Mech Elective\\\",\\\"id\\\":27,\\\"credits\\\":3,\\\"nameCanonical\\\":\\\"\\\"},{\\\"curriculum_requisites\\\":[{\\\"source_id\\\":17,\\\"target_id\\\":28,\\\"type\\\":\\\"CurriculumCorequisite\\\"},{\\\"source_id\\\":15,\\\"target_id\\\":28,\\\"type\\\":\\\"CurriculumPrerequisite\\\"}],\\\"name\\\":\\\" \\\",\\\"metrics\\\":{\\\"complexity\\\":5.0,\\\"centrality\\\":0,\\\"blocking factor\\\":0,\\\"delay factor\\\":5.0},\\\"nameSub\\\":\\\"M E 345\\\",\\\"id\\\":28,\\\"credits\\\":3,\\\"nameCanonical\\\":\\\"\\\"},{\\\"curriculum_requisites\\\":[{\\\"source_id\\\":18,\\\"target_id\\\":29,\\\"type\\\":\\\"CurriculumPrerequisite\\\"}],\\\"name\\\":\\\" \\\",\\\"metrics\\\":{\\\"complexity\\\":4.0,\\\"centrality\\\":0,\\\"blocking factor\\\":0,\\\"delay factor\\\":4.0},\\\"nameSub\\\":\\\"M E 341\\\",\\\"id\\\":29,\\\"credits\\\":3,\\\"nameCanonical\\\":\\\"\\\"},{\\\"curriculum_requisites\\\":[],\\\"name\\\":\\\" \\\",\\\"metrics\\\":{\\\"complexity\\\":1.0,\\\"centrality\\\":0,\\\"blocking factor\\\":0,\\\"delay factor\\\":1.0},\\\"nameSub\\\":\\\"Humanities\\\",\\\"id\\\":30,\\\"credits\\\":3,\\\"nameCanonical\\\":\\\"\\\"}],\\\"id\\\":6},{\\\"name\\\":\\\"Term 7\\\",\\\"curriculum_items\\\":[{\\\"curriculum_requisites\\\":[],\\\"name\\\":\\\" \\\",\\\"metrics\\\":{\\\"complexity\\\":1.0,\\\"centrality\\\":0,\\\"blocking factor\\\":0,\\\"delay factor\\\":1.0},\\\"nameSub\\\":\\\"PHYS 303V\\\",\\\"id\\\":31,\\\"credits\\\":3,\\\"nameCanonical\\\":\\\"\\\"},{\\\"curriculum_requisites\\\":[],\\\"name\\\":\\\" \\\",\\\"metrics\\\":{\\\"complexity\\\":3.0,\\\"centrality\\\":0,\\\"blocking factor\\\":1,\\\"delay factor\\\":2.0},\\\"nameSub\\\":\\\"ENGR 401\\\",\\\"id\\\":32,\\\"credits\\\":3,\\\"nameCanonical\\\":\\\"\\\"},{\\\"curriculum_requisites\\\":[{\\\"source_id\\\":26,\\\"target_id\\\":33,\\\"type\\\":\\\"CurriculumPrerequisite\\\"}],\\\"name\\\":\\\" \\\",\\\"metrics\\\":{\\\"complexity\\\":6.0,\\\"centrality\\\":0,\\\"blocking factor\\\":0,\\\"delay factor\\\":6.0},\\\"nameSub\\\":\\\"M E 425\\\",\\\"id\\\":33,\\\"credits\\\":3,\\\"nameCanonical\\\":\\\"\\\"},{\\\"curriculum_requisites\\\":[{\\\"source_id\\\":21,\\\"target_id\\\":34,\\\"type\\\":\\\"CurriculumPrerequisite\\\"}],\\\"name\\\":\\\" \\\",\\\"metrics\\\":{\\\"complexity\\\":3.0,\\\"centrality\\\":0,\\\"blocking factor\\\":0,\\\"delay factor\\\":3.0},\\\"nameSub\\\":\\\"M E 445\\\",\\\"id\\\":34,\\\"credits\\\":3,\\\"nameCanonical\\\":\\\"\\\"},{\\\"curriculum_requisites\\\":[],\\\"name\\\":\\\" \\\",\\\"metrics\\\":{\\\"complexity\\\":1.0,\\\"centrality\\\":0,\\\"blocking factor\\\":0,\\\"delay factor\\\":1.0},\\\"nameSub\\\":\\\"Behav Sci\\\",\\\"id\\\":35,\\\"credits\\\":3,\\\"nameCanonical\\\":\\\"\\\"}],\\\"id\\\":7},{\\\"name\\\":\\\"Term 8\\\",\\\"curriculum_items\\\":[{\\\"curriculum_requisites\\\":[{\\\"source_id\\\":32,\\\"target_id\\\":36,\\\"type\\\":\\\"CurriculumPrerequisite\\\"}],\\\"name\\\":\\\" \\\",\\\"metrics\\\":{\\\"complexity\\\":2.0,\\\"centrality\\\":0,\\\"blocking factor\\\":0,\\\"delay factor\\\":2.0},\\\"nameSub\\\":\\\"ENGR 402\\\",\\\"id\\\":36,\\\"credits\\\":3,\\\"nameCanonical\\\":\\\"\\\"},{\\\"curriculum_requisites\\\":[],\\\"name\\\":\\\" \\\",\\\"metrics\\\":{\\\"complexity\\\":1.0,\\\"centrality\\\":0,\\\"blocking factor\\\":0,\\\"delay factor\\\":1.0},\\\"nameSub\\\":\\\"Elective\\\",\\\"id\\\":37,\\\"credits\\\":6,\\\"nameCanonical\\\":\\\"\\\"},{\\\"curriculum_requisites\\\":[],\\\"name\\\":\\\" \\\",\\\"metrics\\\":{\\\"complexity\\\":1.0,\\\"centrality\\\":0,\\\"blocking factor\\\":0,\\\"delay factor\\\":1.0},\\\"nameSub\\\":\\\"VWW\\\",\\\"id\\\":38,\\\"credits\\\":3,\\\"nameCanonical\\\":\\\"\\\"},{\\\"curriculum_requisites\\\":[],\\\"name\\\":\\\" \\\",\\\"metrics\\\":{\\\"complexity\\\":1.0,\\\"centrality\\\":0,\\\"blocking factor\\\":0,\\\"delay factor\\\":1.0},\\\"nameSub\\\":\\\"Elective\\\",\\\"id\\\":39,\\\"credits\\\":1,\\\"nameCanonical\\\":\\\"\\\"}],\\\"id\\\":8}],\\\"institution\\\":\\\"New Mexico State University\\\"}},\\\"*\\\"); window.removeEventListener(\\\"message\\\",window.messageReceived); window.messageReceived=(function (event){return (event.data.curriculum!==undefined) ? (WebIO.setval({\\\"name\\\":\\\"curriculum-data\\\",\\\"scope\\\":\\\"1791077681253331247\\\",\\\"id\\\":\\\"6277485604842161903\\\",\\\"type\\\":\\\"observable\\\"},event.data.curriculum)) : undefined}); return window.addEventListener(\\\"message\\\",window.messageReceived)})\"},\"style\":{\"padding\":\"0\",\"height\":\"100vh\",\"margin\":\"0\",\"border\":\"none\",\"width\":\"100%\"}},\"nodeType\":\"DOM\",\"type\":\"node\",\"instanceArgs\":{\"namespace\":\"html\",\"tag\":\"iframe\"},\"children\":[\"\"]}]},\n",
       "            window,\n",
       "        );\n",
       "    } else {\n",
       "        document\n",
       "            .querySelector('[data-webio-mountpoint=\"15318251055820580450\"]')\n",
       "            .innerHTML = (\n",
       "                '<div style=\"padding: 1em; background-color: #f8d6da; border: 1px solid #f5c6cb\">' +\n",
       "                '<p><strong>WebIO not detected.</strong></p>' +\n",
       "                '<p>Please read ' +\n",
       "                '<a href=\"https://juliagizmos.github.io/WebIO.jl/latest/troubleshooting/not-detected/\" target=\"_blank\">the troubleshooting guide</a> ' +\n",
       "                'for more information on how to resolve this issue.</p>' +\n",
       "                '<p><a href=\"https://juliagizmos.github.io/WebIO.jl/latest/troubleshooting/not-detected/\" target=\"_blank\">https://juliagizmos.github.io/WebIO.jl/latest/troubleshooting/not-detected/</a></p>' +\n",
       "                '</div>'\n",
       "            );\n",
       "    }\n",
       "    </script>\n",
       "</div>\n"
      ],
      "text/plain": [
       "WebIO.Scope(WebIO.Node{WebIO.DOM}(WebIO.DOM(:html, :iframe), Any[\"\"], Dict{Symbol,Any}(:src => \"http://localhost:8156\",:id => \"curriculum\",:events => Dict{Symbol,WebIO.JSString}(:load => WebIO.JSString(\"(function (){this.contentWindow.postMessage({\\\"options\\\":{\\\"hideTerms\\\":false,\\\"edit\\\":false},\\\"curriculum\\\":{\\\"name\\\":\\\"Mechanical Engineering\\\",\\\"dp_name\\\":\\\"4-Year Plan\\\",\\\"curriculum_terms\\\":[{\\\"name\\\":\\\"Term 1\\\",\\\"curriculum_items\\\":[{\\\"curriculum_requisites\\\":[],\\\"name\\\":\\\" \\\",\\\"metrics\\\":{\\\"complexity\\\":1.0,\\\"centrality\\\":0,\\\"blocking factor\\\":0,\\\"delay factor\\\":1.0},\\\"nameSub\\\":\\\"ENGL 111G\\\",\\\"id\\\":1,\\\"credits\\\":4,\\\"nameCanonical\\\":\\\"\\\"},{\\\"curriculum_requisites\\\":[],\\\"name\\\":\\\" \\\",\\\"metrics\\\":{\\\"complexity\\\":18.0,\\\"centrality\\\":0,\\\"blocking factor\\\":12,\\\"delay factor\\\":6.0},\\\"nameSub\\\":\\\"MATH 191G\\\",\\\"id\\\":2,\\\"credits\\\":4,\\\"nameCanonical\\\":\\\"\\\"},{\\\"curriculum_requisites\\\":[],\\\"name\\\":\\\" \\\",\\\"metrics\\\":{\\\"complexity\\\":3.0,\\\"centrality\\\":0,\\\"blocking factor\\\":1,\\\"delay factor\\\":2.0},\\\"nameSub\\\":\\\"M E 159\\\",\\\"id\\\":3,\\\"credits\\\":2,\\\"nameCanonical\\\":\\\"\\\"},{\\\"curriculum_requisites\\\":[],\\\"name\\\":\\\" \\\",\\\"metrics\\\":{\\\"complexity\\\":1.0,\\\"centrality\\\":0,\\\"blocking factor\\\":0,\\\"delay factor\\\":1.0},\\\"nameSub\\\":\\\"ENGR 100\\\",\\\"id\\\":4,\\\"credits\\\":3,\\\"nameCanonical\\\":\\\"\\\"}],\\\"id\\\":1},{\\\"name\\\":\\\"Term 2\\\",\\\"curriculum_items\\\":[{\\\"curriculum_requisites\\\":[{\\\"source_id\\\":2,\\\"target_id\\\":5,\\\"type\\\":\\\"CurriculumPrerequisite\\\"}],\\\"name\\\":\\\" \\\",\\\"metrics\\\":{\\\"complexity\\\":2.0,\\\"centrality\\\":0,\\\"blocking factor\\\":0,\\\"delay factor\\\":2.0},\\\"nameSub\\\":\\\"MATH 192G \\\",\\\"id\\\":5,\\\"credits\\\":4,\\\"nameCanonical\\\":\\\"\\\"},{\\\"curriculum_requisites\\\":[{\\\"source_id\\\":2,\\\"target_id\\\":6,\\\"type\\\":\\\"CurriculumPrerequisite\\\"}],\\\"name\\\":\\\" \\\",\\\"metrics\\\":{\\\"complexity\\\":16.0,\\\"centrality\\\":22,\\\"blocking factor\\\":10,\\\"delay factor\\\":6.0},\\\"nameSub\\\":\\\"PHYS 215G\\\",\\\"id\\\":6,\\\"credits\\\":3,\\\"nameCanonical\\\":\\\"\\\"},{\\\"curriculum_requisites\\\":[{\\\"source_id\\\":6,\\\"target_id\\\":7,\\\"type\\\":\\\"CurriculumCorequisite\\\"}],\\\"name\\\":\\\" \\\",\\\"metrics\\\":{\\\"complexity\\\":3.0,\\\"centrality\\\":0,\\\"blocking factor\\\":0,\\\"delay factor\\\":3.0},\\\"nameSub\\\":\\\"PHYS 215GL\\\",\\\"id\\\":7,\\\"credits\\\":1,\\\"nameCanonical\\\":\\\"\\\"},{\\\"curriculum_requisites\\\":[{\\\"source_id\\\":3,\\\"target_id\\\":8,\\\"type\\\":\\\"CurriculumPrerequisite\\\"}],\\\"name\\\":\\\" \\\",\\\"metrics\\\":{\\\"complexity\\\":2.0,\\\"centrality\\\":0,\\\"blocking factor\\\":0,\\\"delay factor\\\":2.0},\\\"nameSub\\\":\\\"M E 222\\\",\\\"id\\\":8,\\\"credits\\\":3,\\\"nameCanonical\\\":\\\"\\\"},{\\\"curriculum_requisites\\\":[],\\\"name\\\":\\\" \\\",\\\"metrics\\\":{\\\"complexity\\\":1.0,\\\"centrality\\\":0,\\\"blocking factor\\\":0,\\\"delay factor\\\":1.0},\\\"nameSub\\\":\\\"English Comp\\\",\\\"id\\\":9,\\\"credits\\\":3,\\\"nameCanonical\\\":\\\"\\\"}],\\\"id\\\":2},{\\\"name\\\":\\\"Term 3\\\",\\\"curriculum_items\\\":[{\\\"curriculum_requisites\\\":[{\\\"source_id\\\":6,\\\"target_id\\\":10,\\\"type\\\":\\\"CurriculumCorequisite\\\"}],\\\"name\\\":\\\" \\\",\\\"metrics\\\":{\\\"complexity\\\":11.0,\\\"centrality\\\":11,\\\"blocking factor\\\":5,\\\"delay factor\\\":6.0},\\\"nameSub\\\":\\\"M E 236\\\",\\\"id\\\":10,\\\"credits\\\":4,\\\"nameCanonical\\\":\\\"\\\"},{\\\"curriculum_requisites\\\":[],\\\"name\\\":\\\" \\\",\\\"metrics\\\":{\\\"complexity\\\":1.0,\\\"centrality\\\":0,\\\"blocking factor\\\":0,\\\"delay factor\\\":1.0},\\\"nameSub\\\":\\\"MATH 291G\\\",\\\"id\\\":11,\\\"credits\\\":3,\\\"nameCanonical\\\":\\\"\\\"},{\\\"curriculum_requisites\\\":[],\\\"name\\\":\\\" \\\",\\\"metrics\\\":{\\\"complexity\\\":1.0,\\\"centrality\\\":0,\\\"blocking factor\\\":0,\\\"delay factor\\\":1.0},\\\"nameSub\\\":\\\"PHYS 216G\\\",\\\"id\\\":12,\\\"credits\\\":3,\\\"nameCanonical\\\":\\\"\\\"},{\\\"curriculum_requisites\\\":[],\\\"name\\\":\\\" \\\",\\\"metrics\\\":{\\\"complexity\\\":1.0,\\\"centrality\\\":0,\\\"blocking factor\\\":0,\\\"delay factor\\\":1.0},\\\"nameSub\\\":\\\"M E 210\\\",\\\"id\\\":13,\\\"credits\\\":3,\\\"nameCanonical\\\":\\\"\\\"},{\\\"curriculum_requisites\\\":[],\\\"name\\\":\\\" \\\",\\\"metrics\\\":{\\\"complexity\\\":1.0,\\\"centrality\\\":0,\\\"blocking factor\\\":0,\\\"delay factor\\\":1.0},\\\"nameSub\\\":\\\"M E 261\\\",\\\"id\\\":14,\\\"credits\\\":3,\\\"nameCanonical\\\":\\\"\\\"}],\\\"id\\\":3},{\\\"name\\\":\\\"Term 4\\\",\\\"curriculum_items\\\":[{\\\"curriculum_requisites\\\":[],\\\"name\\\":\\\" \\\",\\\"metrics\\\":{\\\"complexity\\\":7.0,\\\"centrality\\\":0,\\\"blocking factor\\\":4,\\\"delay factor\\\":3.0},\\\"nameSub\\\":\\\"M E 228\\\",\\\"id\\\":15,\\\"credits\\\":3,\\\"nameCanonical\\\":\\\"\\\"},{\\\"curriculum_requisites\\\":[{\\\"source_id\\\":10,\\\"target_id\\\":16,\\\"type\\\":\\\"CurriculumPrerequisite\\\"}],\\\"name\\\":\\\" \\\",\\\"metrics\\\":{\\\"complexity\\\":8.0,\\\"centrality\\\":6,\\\"blocking factor\\\":2,\\\"delay factor\\\":6.0},\\\"nameSub\\\":\\\"M E 237\\\",\\\"id\\\":16,\\\"credits\\\":3,\\\"nameCanonical\\\":\\\"\\\"},{\\\"curriculum_requisites\\\":[{\\\"source_id\\\":10,\\\"target_id\\\":17,\\\"type\\\":\\\"CurriculumPrerequisite\\\"}],\\\"name\\\":\\\" \\\",\\\"metrics\\\":{\\\"complexity\\\":6.0,\\\"centrality\\\":5,\\\"blocking factor\\\":1,\\\"delay factor\\\":5.0},\\\"nameSub\\\":\\\"C E 301\\\",\\\"id\\\":17,\\\"credits\\\":3,\\\"nameCanonical\\\":\\\"\\\"},{\\\"curriculum_requisites\\\":[{\\\"source_id\\\":6,\\\"target_id\\\":18,\\\"type\\\":\\\"CurriculumPrerequisite\\\"}],\\\"name\\\":\\\" \\\",\\\"metrics\\\":{\\\"complexity\\\":6.0,\\\"centrality\\\":8,\\\"blocking factor\\\":2,\\\"delay factor\\\":4.0},\\\"nameSub\\\":\\\"M E 240\\\",\\\"id\\\":18,\\\"credits\\\":3,\\\"nameCanonical\\\":\\\"\\\"},{\\\"curriculum_requisites\\\":[],\\\"name\\\":\\\" \\\",\\\"metrics\\\":{\\\"complexity\\\":1.0,\\\"centrality\\\":0,\\\"blocking factor\\\":0,\\\"delay factor\\\":1.0},\\\"nameSub\\\":\\\"Oral Comm\\\",\\\"id\\\":19,\\\"credits\\\":3,\\\"nameCanonical\\\":\\\"\\\"}],\\\"id\\\":4},{\\\"name\\\":\\\"Term 5\\\",\\\"curriculum_items\\\":[{\\\"curriculum_requisites\\\":[{\\\"source_id\\\":15,\\\"target_id\\\":20,\\\"type\\\":\\\"CurriculumPrerequisite\\\"}],\\\"name\\\":\\\" \\\",\\\"metrics\\\":{\\\"complexity\\\":2.0,\\\"centrality\\\":0,\\\"blocking factor\\\":0,\\\"delay factor\\\":2.0},\\\"nameSub\\\":\\\"M E 238\\\",\\\"id\\\":20,\\\"credits\\\":3,\\\"nameCanonical\\\":\\\"\\\"},{\\\"curriculum_requisites\\\":[{\\\"source_id\\\":15,\\\"target_id\\\":21,\\\"type\\\":\\\"CurriculumPrerequisite\\\"}],\\\"name\\\":\\\" \\\",\\\"metrics\\\":{\\\"complexity\\\":4.0,\\\"centrality\\\":3,\\\"blocking factor\\\":1,\\\"delay factor\\\":3.0},\\\"nameSub\\\":\\\"M E 338\\\",\\\"id\\\":21,\\\"credits\\\":3,\\\"nameCanonical\\\":\\\"\\\"},{\\\"curriculum_requisites\\\":[],\\\"name\\\":\\\" \\\",\\\"metrics\\\":{\\\"complexity\\\":1.0,\\\"centrality\\\":0,\\\"blocking factor\\\":0,\\\"delay factor\\\":1.0},\\\"nameSub\\\":\\\"CHME 361\\\",\\\"id\\\":22,\\\"credits\\\":3,\\\"nameCanonical\\\":\\\"\\\"},{\\\"curriculum_requisites\\\":[{\\\"source_id\\\":18,\\\"target_id\\\":23,\\\"type\\\":\\\"CurriculumPrerequisite\\\"}],\\\"name\\\":\\\" \\\",\\\"metrics\\\":{\\\"complexity\\\":4.0,\\\"centrality\\\":0,\\\"blocking factor\\\":0,\\\"delay factor\\\":4.0},\\\"nameSub\\\":\\\"M E 340\\\",\\\"id\\\":23,\\\"credits\\\":3,\\\"nameCanonical\\\":\\\"\\\"},{\\\"curriculum_requisites\\\":[],\\\"name\\\":\\\" \\\",\\\"metrics\\\":{\\\"complexity\\\":1.0,\\\"centrality\\\":0,\\\"blocking factor\\\":0,\\\"delay factor\\\":1.0},\\\"nameSub\\\":\\\"M E 349\\\",\\\"id\\\":24,\\\"credits\\\":1,\\\"nameCanonical\\\":\\\"\\\"},{\\\"curriculum_requisites\\\":[],\\\"name\\\":\\\" \\\",\\\"metrics\\\":{\\\"complexity\\\":1.0,\\\"centrality\\\":0,\\\"blocking factor\\\":0,\\\"delay factor\\\":1.0},\\\"nameSub\\\":\\\"Fine Arts\\\",\\\"id\\\":25,\\\"credits\\\":3,\\\"nameCanonical\\\":\\\"\\\"}],\\\"id\\\":5},{\\\"name\\\":\\\"Term 6\\\",\\\"curriculum_items\\\":[{\\\"curriculum_requisites\\\":[{\\\"source_id\\\":16,\\\"target_id\\\":26,\\\"type\\\":\\\"CurriculumPrerequisite\\\"}],\\\"name\\\":\\\" \\\",\\\"metrics\\\":{\\\"complexity\\\":7.0,\\\"centrality\\\":6,\\\"blocking factor\\\":1,\\\"delay factor\\\":6.0},\\\"nameSub\\\":\\\"M E 326\\\",\\\"id\\\":26,\\\"credits\\\":3,\\\"nameCanonical\\\":\\\"\\\"},{\\\"curriculum_requisites\\\":[],\\\"name\\\":\\\" \\\",\\\"metrics\\\":{\\\"complexity\\\":1.0,\\\"centrality\\\":0,\\\"blocking factor\\\":0,\\\"delay factor\\\":1.0},\\\"nameSub\\\":\\\"Mech Elective\\\",\\\"id\\\":27,\\\"credits\\\":3,\\\"nameCanonical\\\":\\\"\\\"},{\\\"curriculum_requisites\\\":[{\\\"source_id\\\":17,\\\"target_id\\\":28,\\\"type\\\":\\\"CurriculumCorequisite\\\"},{\\\"source_id\\\":15,\\\"target_id\\\":28,\\\"type\\\":\\\"CurriculumPrerequisite\\\"}],\\\"name\\\":\\\" \\\",\\\"metrics\\\":{\\\"complexity\\\":5.0,\\\"centrality\\\":0,\\\"blocking factor\\\":0,\\\"delay factor\\\":5.0},\\\"nameSub\\\":\\\"M E 345\\\",\\\"id\\\":28,\\\"credits\\\":3,\\\"nameCanonical\\\":\\\"\\\"},{\\\"curriculum_requisites\\\":[{\\\"source_id\\\":18,\\\"target_id\\\":29,\\\"type\\\":\\\"CurriculumPrerequisite\\\"}],\\\"name\\\":\\\" \\\",\\\"metrics\\\":{\\\"complexity\\\":4.0,\\\"centrality\\\":0,\\\"blocking factor\\\":0,\\\"delay factor\\\":4.0},\\\"nameSub\\\":\\\"M E 341\\\",\\\"id\\\":29,\\\"credits\\\":3,\\\"nameCanonical\\\":\\\"\\\"},{\\\"curriculum_requisites\\\":[],\\\"name\\\":\\\" \\\",\\\"metrics\\\":{\\\"complexity\\\":1.0,\\\"centrality\\\":0,\\\"blocking factor\\\":0,\\\"delay factor\\\":1.0},\\\"nameSub\\\":\\\"Humanities\\\",\\\"id\\\":30,\\\"credits\\\":3,\\\"nameCanonical\\\":\\\"\\\"}],\\\"id\\\":6},{\\\"name\\\":\\\"Term 7\\\",\\\"curriculum_items\\\":[{\\\"curriculum_requisites\\\":[],\\\"name\\\":\\\" \\\",\\\"metrics\\\":{\\\"complexity\\\":1.0,\\\"centrality\\\":0,\\\"blocking factor\\\":0,\\\"delay factor\\\":1.0},\\\"nameSub\\\":\\\"PHYS 303V\\\",\\\"id\\\":31,\\\"credits\\\":3,\\\"nameCanonical\\\":\\\"\\\"},{\\\"curriculum_requisites\\\":[],\\\"name\\\":\\\" \\\",\\\"metrics\\\":{\\\"complexity\\\":3.0,\\\"centrality\\\":0,\\\"blocking factor\\\":1,\\\"delay factor\\\":2.0},\\\"nameSub\\\":\\\"ENGR 401\\\",\\\"id\\\":32,\\\"credits\\\":3,\\\"nameCanonical\\\":\\\"\\\"},{\\\"curriculum_requisites\\\":[{\\\"source_id\\\":26,\\\"target_id\\\":33,\\\"type\\\":\\\"CurriculumPrerequisite\\\"}],\\\"name\\\":\\\" \\\",\\\"metrics\\\":{\\\"complexity\\\":6.0,\\\"centrality\\\":0,\\\"blocking factor\\\":0,\\\"delay factor\\\":6.0},\\\"nameSub\\\":\\\"M E 425\\\",\\\"id\\\":33,\\\"credits\\\":3,\\\"nameCanonical\\\":\\\"\\\"},{\\\"curriculum_requisites\\\":[{\\\"source_id\\\":21,\\\"target_id\\\":34,\\\"type\\\":\\\"CurriculumPrerequisite\\\"}],\\\"name\\\":\\\" \\\",\\\"metrics\\\":{\\\"complexity\\\":3.0,\\\"centrality\\\":0,\\\"blocking factor\\\":0,\\\"delay factor\\\":3.0},\\\"nameSub\\\":\\\"M E 445\\\",\\\"id\\\":34,\\\"credits\\\":3,\\\"nameCanonical\\\":\\\"\\\"},{\\\"curriculum_requisites\\\":[],\\\"name\\\":\\\" \\\",\\\"metrics\\\":{\\\"complexity\\\":1.0,\\\"centrality\\\":0,\\\"blocking factor\\\":0,\\\"delay factor\\\":1.0},\\\"nameSub\\\":\\\"Behav Sci\\\",\\\"id\\\":35,\\\"credits\\\":3,\\\"nameCanonical\\\":\\\"\\\"}],\\\"id\\\":7},{\\\"name\\\":\\\"Term 8\\\",\\\"curriculum_items\\\":[{\\\"curriculum_requisites\\\":[{\\\"source_id\\\":32,\\\"target_id\\\":36,\\\"type\\\":\\\"CurriculumPrerequisite\\\"}],\\\"name\\\":\\\" \\\",\\\"metrics\\\":{\\\"complexity\\\":2.0,\\\"centrality\\\":0,\\\"blocking factor\\\":0,\\\"delay factor\\\":2.0},\\\"nameSub\\\":\\\"ENGR 402\\\",\\\"id\\\":36,\\\"credits\\\":3,\\\"nameCanonical\\\":\\\"\\\"},{\\\"curriculum_requisites\\\":[],\\\"name\\\":\\\" \\\",\\\"metrics\\\":{\\\"complexity\\\":1.0,\\\"centrality\\\":0,\\\"blocking factor\\\":0,\\\"delay factor\\\":1.0},\\\"nameSub\\\":\\\"Elective\\\",\\\"id\\\":37,\\\"credits\\\":6,\\\"nameCanonical\\\":\\\"\\\"},{\\\"curriculum_requisites\\\":[],\\\"name\\\":\\\" \\\",\\\"metrics\\\":{\\\"complexity\\\":1.0,\\\"centrality\\\":0,\\\"blocking factor\\\":0,\\\"delay factor\\\":1.0},\\\"nameSub\\\":\\\"VWW\\\",\\\"id\\\":38,\\\"credits\\\":3,\\\"nameCanonical\\\":\\\"\\\"},{\\\"curriculum_requisites\\\":[],\\\"name\\\":\\\" \\\",\\\"metrics\\\":{\\\"complexity\\\":1.0,\\\"centrality\\\":0,\\\"blocking factor\\\":0,\\\"delay factor\\\":1.0},\\\"nameSub\\\":\\\"Elective\\\",\\\"id\\\":39,\\\"credits\\\":1,\\\"nameCanonical\\\":\\\"\\\"}],\\\"id\\\":8}],\\\"institution\\\":\\\"New Mexico State University\\\"}},\\\"*\\\"); window.removeEventListener(\\\"message\\\",window.messageReceived); window.messageReceived=(function (event){return (event.data.curriculum!==undefined) ? (WebIO.setval({\\\"name\\\":\\\"curriculum-data\\\",\\\"scope\\\":\\\"1791077681253331247\\\",\\\"id\\\":\\\"6277485604842161903\\\",\\\"type\\\":\\\"observable\\\"},event.data.curriculum)) : undefined}); return window.addEventListener(\\\"message\\\",window.messageReceived)})\")),:style => Dict(:padding => \"0\",:height => \"100vh\",:margin => \"0\",:border => \"none\",:width => \"100%\"))), Dict{String,Tuple{Observables.AbstractObservable,Union{Nothing, Bool}}}(\"curriculum-data\" => (Observable{Dict{String,Any}} with 1 listeners. Value:\n",
       "Dict{String,Any}(\"options\" => Dict{String,Any}(\"hideTerms\" => false,\"edit\" => false),\"curriculum\" => Dict{String,Any}(\"name\" => \"Mechanical Engineering\",\"dp_name\" => \"4-Year Plan\",\"curriculum_terms\" => Dict{String,Any}[Dict(\"name\" => \"Term 1\",\"curriculum_items\" => Dict{String,Any}[Dict(\"curriculum_requisites\" => Dict{String,Any}[],\"name\" => \" \",\"metrics\" => Dict{String,Any}(\"complexity\" => 1.0,\"centrality\" => 0,\"blocking factor\" => 0,\"delay factor\" => 1.0),\"nameSub\" => \"ENGL 111G\",\"id\" => 1,\"credits\" => 4,\"nameCanonical\" => \"\"), Dict(\"curriculum_requisites\" => Dict{String,Any}[],\"name\" => \" \",\"metrics\" => Dict{String,Any}(\"complexity\" => 18.0,\"centrality\" => 0,\"blocking factor\" => 12,\"delay factor\" => 6.0),\"nameSub\" => \"MATH 191G\",\"id\" => 2,\"credits\" => 4,\"nameCanonical\" => \"\"), Dict(\"curriculum_requisites\" => Dict{String,Any}[],\"name\" => \" \",\"metrics\" => Dict{String,Any}(\"complexity\" => 3.0,\"centrality\" => 0,\"blocking factor\" => 1,\"delay factor\" => 2.0),\"nameSub\" => \"M E 159\",\"id\" => 3,\"credits\" => 2,\"nameCanonical\" => \"\"), Dict(\"curriculum_requisites\" => Dict{String,Any}[],\"name\" => \" \",\"metrics\" => Dict{String,Any}(\"complexity\" => 1.0,\"centrality\" => 0,\"blocking factor\" => 0,\"delay factor\" => 1.0),\"nameSub\" => \"ENGR 100\",\"id\" => 4,\"credits\" => 3,\"nameCanonical\" => \"\")],\"id\" => 1), Dict(\"name\" => \"Term 2\",\"curriculum_items\" => Dict{String,Any}[Dict(\"curriculum_requisites\" => Dict{String,Any}[Dict(\"source_id\" => 2,\"target_id\" => 5,\"type\" => \"CurriculumPrerequisite\")],\"name\" => \" \",\"metrics\" => Dict{String,Any}(\"complexity\" => 2.0,\"centrality\" => 0,\"blocking factor\" => 0,\"delay factor\" => 2.0),\"nameSub\" => \"MATH 192G \",\"id\" => 5,\"credits\" => 4,\"nameCanonical\" => \"\"), Dict(\"curriculum_requisites\" => Dict{String,Any}[Dict(\"source_id\" => 2,\"target_id\" => 6,\"type\" => \"CurriculumPrerequisite\")],\"name\" => \" \",\"metrics\" => Dict{String,Any}(\"complexity\" => 16.0,\"centrality\" => 22,\"blocking factor\" => 10,\"delay factor\" => 6.0),\"nameSub\" => \"PHYS 215G\",\"id\" => 6,\"credits\" => 3,\"nameCanonical\" => \"\"), Dict(\"curriculum_requisites\" => Dict{String,Any}[Dict(\"source_id\" => 6,\"target_id\" => 7,\"type\" => \"CurriculumCorequisite\")],\"name\" => \" \",\"metrics\" => Dict{String,Any}(\"complexity\" => 3.0,\"centrality\" => 0,\"blocking factor\" => 0,\"delay factor\" => 3.0),\"nameSub\" => \"PHYS 215GL\",\"id\" => 7,\"credits\" => 1,\"nameCanonical\" => \"\"), Dict(\"curriculum_requisites\" => Dict{String,Any}[Dict(\"source_id\" => 3,\"target_id\" => 8,\"type\" => \"CurriculumPrerequisite\")],\"name\" => \" \",\"metrics\" => Dict{String,Any}(\"complexity\" => 2.0,\"centrality\" => 0,\"blocking factor\" => 0,\"delay factor\" => 2.0),\"nameSub\" => \"M E 222\",\"id\" => 8,\"credits\" => 3,\"nameCanonical\" => \"\"), Dict(\"curriculum_requisites\" => Dict{String,Any}[],\"name\" => \" \",\"metrics\" => Dict{String,Any}(\"complexity\" => 1.0,\"centrality\" => 0,\"blocking factor\" => 0,\"delay factor\" => 1.0),\"nameSub\" => \"English Comp\",\"id\" => 9,\"credits\" => 3,\"nameCanonical\" => \"\")],\"id\" => 2), Dict(\"name\" => \"Term 3\",\"curriculum_items\" => Dict{String,Any}[Dict(\"curriculum_requisites\" => Dict{String,Any}[Dict(\"source_id\" => 6,\"target_id\" => 10,\"type\" => \"CurriculumCorequisite\")],\"name\" => \" \",\"metrics\" => Dict{String,Any}(\"complexity\" => 11.0,\"centrality\" => 11,\"blocking factor\" => 5,\"delay factor\" => 6.0),\"nameSub\" => \"M E 236\",\"id\" => 10,\"credits\" => 4,\"nameCanonical\" => \"\"), Dict(\"curriculum_requisites\" => Dict{String,Any}[],\"name\" => \" \",\"metrics\" => Dict{String,Any}(\"complexity\" => 1.0,\"centrality\" => 0,\"blocking factor\" => 0,\"delay factor\" => 1.0),\"nameSub\" => \"MATH 291G\",\"id\" => 11,\"credits\" => 3,\"nameCanonical\" => \"\"), Dict(\"curriculum_requisites\" => Dict{String,Any}[],\"name\" => \" \",\"metrics\" => Dict{String,Any}(\"complexity\" => 1.0,\"centrality\" => 0,\"blocking factor\" => 0,\"delay factor\" => 1.0),\"nameSub\" => \"PHYS 216G\",\"id\" => 12,\"credits\" => 3,\"nameCanonical\" => \"\"), Dict(\"curriculum_requisites\" => Dict{String,Any}[],\"name\" => \" \",\"metrics\" => Dict{String,Any}(\"complexity\" => 1.0,\"centrality\" => 0,\"blocking factor\" => 0,\"delay factor\" => 1.0),\"nameSub\" => \"M E 210\",\"id\" => 13,\"credits\" => 3,\"nameCanonical\" => \"\"), Dict(\"curriculum_requisites\" => Dict{String,Any}[],\"name\" => \" \",\"metrics\" => Dict{String,Any}(\"complexity\" => 1.0,\"centrality\" => 0,\"blocking factor\" => 0,\"delay factor\" => 1.0),\"nameSub\" => \"M E 261\",\"id\" => 14,\"credits\" => 3,\"nameCanonical\" => \"\")],\"id\" => 3), Dict(\"name\" => \"Term 4\",\"curriculum_items\" => Dict{String,Any}[Dict(\"curriculum_requisites\" => Dict{String,Any}[],\"name\" => \" \",\"metrics\" => Dict{String,Any}(\"complexity\" => 7.0,\"centrality\" => 0,\"blocking factor\" => 4,\"delay factor\" => 3.0),\"nameSub\" => \"M E 228\",\"id\" => 15,\"credits\" => 3,\"nameCanonical\" => \"\"), Dict(\"curriculum_requisites\" => Dict{String,Any}[Dict(\"source_id\" => 10,\"target_id\" => 16,\"type\" => \"CurriculumPrerequisite\")],\"name\" => \" \",\"metrics\" => Dict{String,Any}(\"complexity\" => 8.0,\"centrality\" => 6,\"blocking factor\" => 2,\"delay factor\" => 6.0),\"nameSub\" => \"M E 237\",\"id\" => 16,\"credits\" => 3,\"nameCanonical\" => \"\"), Dict(\"curriculum_requisites\" => Dict{String,Any}[Dict(\"source_id\" => 10,\"target_id\" => 17,\"type\" => \"CurriculumPrerequisite\")],\"name\" => \" \",\"metrics\" => Dict{String,Any}(\"complexity\" => 6.0,\"centrality\" => 5,\"blocking factor\" => 1,\"delay factor\" => 5.0),\"nameSub\" => \"C E 301\",\"id\" => 17,\"credits\" => 3,\"nameCanonical\" => \"\"), Dict(\"curriculum_requisites\" => Dict{String,Any}[Dict(\"source_id\" => 6,\"target_id\" => 18,\"type\" => \"CurriculumPrerequisite\")],\"name\" => \" \",\"metrics\" => Dict{String,Any}(\"complexity\" => 6.0,\"centrality\" => 8,\"blocking factor\" => 2,\"delay factor\" => 4.0),\"nameSub\" => \"M E 240\",\"id\" => 18,\"credits\" => 3,\"nameCanonical\" => \"\"), Dict(\"curriculum_requisites\" => Dict{String,Any}[],\"name\" => \" \",\"metrics\" => Dict{String,Any}(\"complexity\" => 1.0,\"centrality\" => 0,\"blocking factor\" => 0,\"delay factor\" => 1.0),\"nameSub\" => \"Oral Comm\",\"id\" => 19,\"credits\" => 3,\"nameCanonical\" => \"\")],\"id\" => 4), Dict(\"name\" => \"Term 5\",\"curriculum_items\" => Dict{String,Any}[Dict(\"curriculum_requisites\" => Dict{String,Any}[Dict(\"source_id\" => 15,\"target_id\" => 20,\"type\" => \"CurriculumPrerequisite\")],\"name\" => \" \",\"metrics\" => Dict{String,Any}(\"complexity\" => 2.0,\"centrality\" => 0,\"blocking factor\" => 0,\"delay factor\" => 2.0),\"nameSub\" => \"M E 238\",\"id\" => 20,\"credits\" => 3,\"nameCanonical\" => \"\"), Dict(\"curriculum_requisites\" => Dict{String,Any}[Dict(\"source_id\" => 15,\"target_id\" => 21,\"type\" => \"CurriculumPrerequisite\")],\"name\" => \" \",\"metrics\" => Dict{String,Any}(\"complexity\" => 4.0,\"centrality\" => 3,\"blocking factor\" => 1,\"delay factor\" => 3.0),\"nameSub\" => \"M E 338\",\"id\" => 21,\"credits\" => 3,\"nameCanonical\" => \"\"), Dict(\"curriculum_requisites\" => Dict{String,Any}[],\"name\" => \" \",\"metrics\" => Dict{String,Any}(\"complexity\" => 1.0,\"centrality\" => 0,\"blocking factor\" => 0,\"delay factor\" => 1.0),\"nameSub\" => \"CHME 361\",\"id\" => 22,\"credits\" => 3,\"nameCanonical\" => \"\"), Dict(\"curriculum_requisites\" => Dict{String,Any}[Dict(\"source_id\" => 18,\"target_id\" => 23,\"type\" => \"CurriculumPrerequisite\")],\"name\" => \" \",\"metrics\" => Dict{String,Any}(\"complexity\" => 4.0,\"centrality\" => 0,\"blocking factor\" => 0,\"delay factor\" => 4.0),\"nameSub\" => \"M E 340\",\"id\" => 23,\"credits\" => 3,\"nameCanonical\" => \"\"), Dict(\"curriculum_requisites\" => Dict{String,Any}[],\"name\" => \" \",\"metrics\" => Dict{String,Any}(\"complexity\" => 1.0,\"centrality\" => 0,\"blocking factor\" => 0,\"delay factor\" => 1.0),\"nameSub\" => \"M E 349\",\"id\" => 24,\"credits\" => 1,\"nameCanonical\" => \"\"), Dict(\"curriculum_requisites\" => Dict{String,Any}[],\"name\" => \" \",\"metrics\" => Dict{String,Any}(\"complexity\" => 1.0,\"centrality\" => 0,\"blocking factor\" => 0,\"delay factor\" => 1.0),\"nameSub\" => \"Fine Arts\",\"id\" => 25,\"credits\" => 3,\"nameCanonical\" => \"\")],\"id\" => 5), Dict(\"name\" => \"Term 6\",\"curriculum_items\" => Dict{String,Any}[Dict(\"curriculum_requisites\" => Dict{String,Any}[Dict(\"source_id\" => 16,\"target_id\" => 26,\"type\" => \"CurriculumPrerequisite\")],\"name\" => \" \",\"metrics\" => Dict{String,Any}(\"complexity\" => 7.0,\"centrality\" => 6,\"blocking factor\" => 1,\"delay factor\" => 6.0),\"nameSub\" => \"M E 326\",\"id\" => 26,\"credits\" => 3,\"nameCanonical\" => \"\"), Dict(\"curriculum_requisites\" => Dict{String,Any}[],\"name\" => \" \",\"metrics\" => Dict{String,Any}(\"complexity\" => 1.0,\"centrality\" => 0,\"blocking factor\" => 0,\"delay factor\" => 1.0),\"nameSub\" => \"Mech Elective\",\"id\" => 27,\"credits\" => 3,\"nameCanonical\" => \"\"), Dict(\"curriculum_requisites\" => Dict{String,Any}[Dict(\"source_id\" => 17,\"target_id\" => 28,\"type\" => \"CurriculumCorequisite\"), Dict(\"source_id\" => 15,\"target_id\" => 28,\"type\" => \"CurriculumPrerequisite\")],\"name\" => \" \",\"metrics\" => Dict{String,Any}(\"complexity\" => 5.0,\"centrality\" => 0,\"blocking factor\" => 0,\"delay factor\" => 5.0),\"nameSub\" => \"M E 345\",\"id\" => 28,\"credits\" => 3,\"nameCanonical\" => \"\"), Dict(\"curriculum_requisites\" => Dict{String,Any}[Dict(\"source_id\" => 18,\"target_id\" => 29,\"type\" => \"CurriculumPrerequisite\")],\"name\" => \" \",\"metrics\" => Dict{String,Any}(\"complexity\" => 4.0,\"centrality\" => 0,\"blocking factor\" => 0,\"delay factor\" => 4.0),\"nameSub\" => \"M E 341\",\"id\" => 29,\"credits\" => 3,\"nameCanonical\" => \"\"), Dict(\"curriculum_requisites\" => Dict{String,Any}[],\"name\" => \" \",\"metrics\" => Dict{String,Any}(\"complexity\" => 1.0,\"centrality\" => 0,\"blocking factor\" => 0,\"delay factor\" => 1.0),\"nameSub\" => \"Humanities\",\"id\" => 30,\"credits\" => 3,\"nameCanonical\" => \"\")],\"id\" => 6), Dict(\"name\" => \"Term 7\",\"curriculum_items\" => Dict{String,Any}[Dict(\"curriculum_requisites\" => Dict{String,Any}[],\"name\" => \" \",\"metrics\" => Dict{String,Any}(\"complexity\" => 1.0,\"centrality\" => 0,\"blocking factor\" => 0,\"delay factor\" => 1.0),\"nameSub\" => \"PHYS 303V\",\"id\" => 31,\"credits\" => 3,\"nameCanonical\" => \"\"), Dict(\"curriculum_requisites\" => Dict{String,Any}[],\"name\" => \" \",\"metrics\" => Dict{String,Any}(\"complexity\" => 3.0,\"centrality\" => 0,\"blocking factor\" => 1,\"delay factor\" => 2.0),\"nameSub\" => \"ENGR 401\",\"id\" => 32,\"credits\" => 3,\"nameCanonical\" => \"\"), Dict(\"curriculum_requisites\" => Dict{String,Any}[Dict(\"source_id\" => 26,\"target_id\" => 33,\"type\" => \"CurriculumPrerequisite\")],\"name\" => \" \",\"metrics\" => Dict{String,Any}(\"complexity\" => 6.0,\"centrality\" => 0,\"blocking factor\" => 0,\"delay factor\" => 6.0),\"nameSub\" => \"M E 425\",\"id\" => 33,\"credits\" => 3,\"nameCanonical\" => \"\"), Dict(\"curriculum_requisites\" => Dict{String,Any}[Dict(\"source_id\" => 21,\"target_id\" => 34,\"type\" => \"CurriculumPrerequisite\")],\"name\" => \" \",\"metrics\" => Dict{String,Any}(\"complexity\" => 3.0,\"centrality\" => 0,\"blocking factor\" => 0,\"delay factor\" => 3.0),\"nameSub\" => \"M E 445\",\"id\" => 34,\"credits\" => 3,\"nameCanonical\" => \"\"), Dict(\"curriculum_requisites\" => Dict{String,Any}[],\"name\" => \" \",\"metrics\" => Dict{String,Any}(\"complexity\" => 1.0,\"centrality\" => 0,\"blocking factor\" => 0,\"delay factor\" => 1.0),\"nameSub\" => \"Behav Sci\",\"id\" => 35,\"credits\" => 3,\"nameCanonical\" => \"\")],\"id\" => 7), Dict(\"name\" => \"Term 8\",\"curriculum_items\" => Dict{String,Any}[Dict(\"curriculum_requisites\" => Dict{String,Any}[Dict(\"source_id\" => 32,\"target_id\" => 36,\"type\" => \"CurriculumPrerequisite\")],\"name\" => \" \",\"metrics\" => Dict{String,Any}(\"complexity\" => 2.0,\"centrality\" => 0,\"blocking factor\" => 0,\"delay factor\" => 2.0),\"nameSub\" => \"ENGR 402\",\"id\" => 36,\"credits\" => 3,\"nameCanonical\" => \"\"), Dict(\"curriculum_requisites\" => Dict{String,Any}[],\"name\" => \" \",\"metrics\" => Dict{String,Any}(\"complexity\" => 1.0,\"centrality\" => 0,\"blocking factor\" => 0,\"delay factor\" => 1.0),\"nameSub\" => \"Elective\",\"id\" => 37,\"credits\" => 6,\"nameCanonical\" => \"\"), Dict(\"curriculum_requisites\" => Dict{String,Any}[],\"name\" => \" \",\"metrics\" => Dict{String,Any}(\"complexity\" => 1.0,\"centrality\" => 0,\"blocking factor\" => 0,\"delay factor\" => 1.0),\"nameSub\" => \"VWW\",\"id\" => 38,\"credits\" => 3,\"nameCanonical\" => \"\"), Dict(\"curriculum_requisites\" => Dict{String,Any}[],\"name\" => \" \",\"metrics\" => Dict{String,Any}(\"complexity\" => 1.0,\"centrality\" => 0,\"blocking factor\" => 0,\"delay factor\" => 1.0),\"nameSub\" => \"Elective\",\"id\" => 39,\"credits\" => 1,\"nameCanonical\" => \"\")],\"id\" => 8)],\"institution\" => \"New Mexico State University\")), nothing)), Set{String}(), nothing, WebIO.Asset[], Dict{Any,Any}(), WebIO.ConnectionPool(Channel{Any}(sz_max:32,sz_curr:0), Set{WebIO.AbstractConnection}(), Base.GenericCondition{Base.AlwaysLockedST}(Base.InvasiveLinkedList{Task}(Task (runnable) @0x0000000121618d90, Task (runnable) @0x0000000121618d90), Base.AlwaysLockedST(1))), WebIO.JSString[])"
      ]
     },
     "execution_count": 12,
     "metadata": {
      "application/vnd.webio.node+json": {
       "kernelId": "9dd30290-9719-4c59-84ee-e85e1e3d339f"
      }
     },
     "output_type": "execute_result"
    }
   ],
   "source": [
    "dp = schools_plans[\"new-mexico-state\"][\"mechanical-engineering\"]\n",
    "visualize(dp, notebook=true)"
   ]
  },
  {
   "cell_type": "markdown",
   "metadata": {},
   "source": [
    "## Degree Plan Analytics\n",
    "Next let us take into account the term-by-term information associated with a degree plan. A degree plan adds a temporal element to a curriculum. The manner in which a curriculum is structured over time in the form of a degree plan can impact the success rates of students attempting to complete the curriculum."
   ]
  },
  {
   "cell_type": "markdown",
   "metadata": {},
   "source": [
    "### Analysis of a single degree plan \n",
    "The `basic_metrics()` function can be applied to a degree plan in order to obtain information about how the credit hours in the curriculum are spread over the terms in the degree plan.  As an example, consider the music education and mechanical engineering programs at Colorado State University."
   ]
  },
  {
   "cell_type": "code",
   "execution_count": 27,
   "metadata": {},
   "outputs": [
    {
     "name": "stdout",
     "output_type": "stream",
     "text": [
      "\n",
      "Curriculum: Music Education\n",
      "Degree Plan: 4-Year Plan\n",
      "  total credit hours = 120\n",
      "  number of terms = 8\n",
      "  max. credits in a term = 17, in term 1\n",
      "  min. credits in a term = 11, in term 6\n",
      "  avg. credits per term = 15.0, with std. dev. = 1.7320508075688772\n",
      "\n"
     ]
    }
   ],
   "source": [
    "dp = schools_plans[\"colorado-state\"][\"music-education\"]\n",
    "metrics = basic_metrics(dp)\n",
    "println(String(take!(metrics)))"
   ]
  },
  {
   "cell_type": "code",
   "execution_count": 28,
   "metadata": {},
   "outputs": [
    {
     "name": "stdout",
     "output_type": "stream",
     "text": [
      "\n",
      "Curriculum: Mechanical Engineering\n",
      "Degree Plan: 4-Year Plan\n",
      "  total credit hours = 129\n",
      "  number of terms = 8\n",
      "  max. credits in a term = 20, in term 4\n",
      "  min. credits in a term = 13, in term 6\n",
      "  avg. credits per term = 16.125, with std. dev. = 2.0879116360612584\n",
      "\n"
     ]
    }
   ],
   "source": [
    "dp = schools_plans[\"colorado-state\"][\"mechanical-engineering\"]\n",
    "metrics = basic_metrics(dp)\n",
    "println(String(take!(metrics)))"
   ]
  },
  {
   "cell_type": "markdown",
   "metadata": {},
   "source": [
    "### Degree plan optimization\n",
    "The Curricular Analytics toolbox contains a number of functions that will create different degree plans for a curriculum depending upon various optimization criteria.  In order to use these functions, you must first install the Gourbi solver, called [Gurobi Optimizer](https://www.gurobi.com/downloads/gurobi-optimizer-eula). Gurobi is a commercial product, and requires a license key; however, [academic licenses](https://www.gurobi.com/downloads/end-user-license-agreement-academic) are available at no cost."
   ]
  },
  {
   "cell_type": "code",
   "execution_count": 36,
   "metadata": {},
   "outputs": [],
   "source": [
    "# Uncomment the following two lines if the Gurobi package has not yet been included in your Julia environment.\n",
    "#using Pkg\n",
    "#Pkg.add(\"Gurobi\")\n",
    "using Gurobi"
   ]
  },
  {
   "cell_type": "markdown",
   "metadata": {},
   "source": [
    "First we will create a degree plan for the Colorado State mechanical engineering program that attempts to balance the credits evenly across eight terms.  This is accomplished by passing the `\"Balance\"` objective to the `optimize_plan()` function."
   ]
  },
  {
   "cell_type": "code",
   "execution_count": 37,
   "metadata": {
    "scrolled": false
   },
   "outputs": [
    {
     "ename": "LoadError",
     "evalue": "UndefVarError: optimize_plan not defined",
     "output_type": "error",
     "traceback": [
      "UndefVarError: optimize_plan not defined",
      "",
      "Stacktrace:",
      " [1] top-level scope at In[37]:2",
      " [2] include_string(::Function, ::Module, ::String, ::String) at ./loading.jl:1091"
     ]
    }
   ],
   "source": [
    "dp = schools_plans[\"colorado-state\"][\"mechanical-engineering\"]\n",
    "dp_new = optimize_plan(dp.curriculum, 8, 12, 18, [\"Balance\"]);\n",
    "visualize(dp_new, notebook=true)"
   ]
  },
  {
   "cell_type": "markdown",
   "metadata": {},
   "source": [
    "Notice that rearranging the terms in which courses are offered has no impact on curricular complexity.  I.e., curricular complexity is a function of the curriculum, not the plan created for the curriculum.  In order to see if the new plan is more balanced, run the `basic_metrics()` function on the new degree plan."
   ]
  },
  {
   "cell_type": "code",
   "execution_count": 38,
   "metadata": {},
   "outputs": [
    {
     "ename": "LoadError",
     "evalue": "UndefVarError: dp_new not defined",
     "output_type": "error",
     "traceback": [
      "UndefVarError: dp_new not defined",
      "",
      "Stacktrace:",
      " [1] top-level scope at In[38]:1",
      " [2] include_string(::Function, ::Module, ::String, ::String) at ./loading.jl:1091"
     ]
    }
   ],
   "source": [
    "metrics = basic_metrics(dp_new)\n",
    "println(String(take!(metrics)))"
   ]
  },
  {
   "cell_type": "code",
   "execution_count": 18,
   "metadata": {},
   "outputs": [
    {
     "ename": "LoadError",
     "evalue": "UndefVarError: dp not defined",
     "output_type": "error",
     "traceback": [
      "UndefVarError: dp not defined",
      "",
      "Stacktrace:",
      " [1] top-level scope at In[18]:1",
      " [2] include_string(::Function, ::Module, ::String, ::String) at ./loading.jl:1091"
     ]
    }
   ],
   "source": [
    "dp_new = optimize_plan(dp.curriculum, 8, 12, 18, [\"Prereq\"]);\n",
    "visualize(dp_new, notebook=true)"
   ]
  },
  {
   "cell_type": "code",
   "execution_count": 19,
   "metadata": {},
   "outputs": [
    {
     "ename": "LoadError",
     "evalue": "UndefVarError: dp_new not defined",
     "output_type": "error",
     "traceback": [
      "UndefVarError: dp_new not defined",
      "",
      "Stacktrace:",
      " [1] top-level scope at In[19]:1",
      " [2] include_string(::Function, ::Module, ::String, ::String) at ./loading.jl:1091"
     ]
    }
   ],
   "source": [
    "metrics = basic_metrics(dp_new)\n",
    "println(String(take!(metrics)))"
   ]
  },
  {
   "cell_type": "markdown",
   "metadata": {},
   "source": [
    "Thus, the new degree plan is more balanced than the original degree; however, the new degree plan has some features that are probably not desirable, e.g., technical electives in the first term.  These courses could be swapped with core courses that appear later in the curriculum.  In addition, it is possible to \"lock\" any course into a particular term as a part of the specificiations provided to `optimize_plan()`.  Finally, notice the chemistry is now taken much later in the new curriculum (in term 6 rather than term 1).\n",
    "\n",
    "Next, we demonstrate the multi-objective capabilities of the `optimize_plan()` function.  Below we provide two objectives; `\"Balance\"` attempts to balance the credit hours across the terms as evenly as possible, and `\"Prereq\"` attempts to keep the pre- and co-requisites of every course as close as possible to the course that requires them. "
   ]
  },
  {
   "cell_type": "code",
   "execution_count": 20,
   "metadata": {
    "scrolled": false
   },
   "outputs": [
    {
     "ename": "LoadError",
     "evalue": "UndefVarError: dp not defined",
     "output_type": "error",
     "traceback": [
      "UndefVarError: dp not defined",
      "",
      "Stacktrace:",
      " [1] top-level scope at In[20]:1",
      " [2] include_string(::Function, ::Module, ::String, ::String) at ./loading.jl:1091"
     ]
    }
   ],
   "source": [
    "dp_new = optimize_plan(dp.curriculum, 8, 12, 18, [\"Balance\", \"Prereq\"]);\n",
    "visualize(dp_new, notebook=true)"
   ]
  },
  {
   "cell_type": "markdown",
   "metadata": {},
   "source": [
    "Notice that as compared to the prior degree plan (the one that only used the `\"Balance\"` objective), MECH 103 is now closer to MECH 105, and MECH 105 is now closer to MECH 200, MECH 201, and MECH 231.  In addition, the degree plan maintained the same balance that the previous plan had, as demonstrated below."
   ]
  },
  {
   "cell_type": "code",
   "execution_count": 21,
   "metadata": {},
   "outputs": [
    {
     "ename": "LoadError",
     "evalue": "UndefVarError: dp_new not defined",
     "output_type": "error",
     "traceback": [
      "UndefVarError: dp_new not defined",
      "",
      "Stacktrace:",
      " [1] top-level scope at In[21]:1",
      " [2] include_string(::Function, ::Module, ::String, ::String) at ./loading.jl:1091"
     ]
    }
   ],
   "source": [
    "metrics = basic_metrics(dp_new)\n",
    "println(String(take!(metrics)))"
   ]
  },
  {
   "cell_type": "markdown",
   "metadata": {},
   "source": [
    "## References\n",
    "<a id='References'></a>\n",
    "\n",
    "APLU, Powered by Publics website (accessed August 15, 2019). https://www.aplu.org/projects-and-initiatives/center-for-public-university-transformation/powered-by-publics\n",
    "\n",
    "Heileman, G. L., Abdallah, C.T., Slim, A., and Hickman, M. (2018). Curricular analytics: A framework for quantifying the impact of curricular reforms and pedagogical innovations. www.arXiv.org, arXiv:1811.09676 [cs.CY].\n",
    "\n",
    "Heileman, G. L., Free, H. W., Abar, O. and Thompson-Arjona, W. G, (2019). CurricularAnalytics.jl Toolbox. https://github.com/heileman/CurricularAnalytics.jl."
   ]
  }
 ],
 "metadata": {
  "@webio": {
   "lastCommId": "2630294f025c431c80fb8fd91a8ba96e",
   "lastKernelId": "662f37b6-e905-497d-a539-49accc690147"
  },
  "kernelspec": {
   "display_name": "Julia 1.5.0",
   "language": "julia",
   "name": "julia-1.5"
  },
  "language_info": {
   "file_extension": ".jl",
   "mimetype": "application/julia",
   "name": "julia",
   "version": "1.5.0"
  }
 },
 "nbformat": 4,
 "nbformat_minor": 2
}
