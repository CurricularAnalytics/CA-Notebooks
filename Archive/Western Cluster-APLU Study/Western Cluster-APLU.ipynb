{
 "cells": [
  {
   "cell_type": "markdown",
   "metadata": {},
   "source": [
    "# <center>APLU Western Cluster Curricular Analytics Study</center>\n",
    "\n",
    "In this notebook we analyze the curricula and degree plans associated with a set of programs at universities in the APLU Western Cluster.  This cluster of schools is one of the \"transformation clusters\" formed as a part of APLU's \n",
    "[Powered by Publics Initiative](https://www.aplu.org/projects-and-initiatives/center-for-public-university-transformation/powered-by-publics) <cite data-cite=\"APLU:18\">(APLU, 2019)</cite>. The schools in the Western Cluster include:\n",
    "\n",
    "- Colorado State University\n",
    "- Langston University\n",
    "- Montana State University\n",
    "- New Mexico State University\n",
    "- North Dakota State University\n",
    "- Oklahoma State University\n",
    "- South Dakota State University\n",
    "- University of Idaho\n",
    "- University of Nevada-Reno\n",
    "- University of Wyoming\n",
    "- Utah State University\n",
    "\n",
    "The analyses in this notebook makes use of the [Curricular Analytics toolbox](https://github.com/CurricularAnalytics/CurricularAnalytics.jl) \n",
    "built using the Julia programming language  and available as open source software (<cite data-cite=\"he:19\">Heileman, et. al., 2019</cite>). As a starting \n",
    "point, you may find it useful to read the [toolbox documenation](https://curricularanalytics.github.io/CurricularAnalytics.jl/latest/), as well as \n",
    "the <cite data-cite=\"he:18\">Heileman, et. al., (2018)</cite> paper listed in the [References](#References) \n",
    "section below.\n",
    "\n",
    "If you are interested in joining the community of scholars working to apply curricular analytics, please \n",
    "feel free to make suggestions about future development or [contribute](https://curricularanalytics.github.io/CurricularAnalytics.jl/latest/contributing.html) to the \n",
    "CurricularAnalytics.jl project.\n"
   ]
  },
  {
   "cell_type": "markdown",
   "metadata": {},
   "source": [
    "In order to execute the analyses provided in this notebook, you need to load the following Julia packages:"
   ]
  },
  {
   "cell_type": "code",
   "execution_count": 1,
   "metadata": {
    "scrolled": false
   },
   "outputs": [
    {
     "data": {
      "text/html": [
       "<script>\n",
       "// Immediately-invoked-function-expression to avoid global variables.\n",
       "(function() {\n",
       "    var warning_div = document.getElementById(\"webio-warning-13822974928909324917\");\n",
       "    var hide = function () {\n",
       "        var script = document.getElementById(\"webio-setup-2559218241388627005\");\n",
       "        var parent = script && script.parentElement;\n",
       "        var grandparent = parent && parent.parentElement;\n",
       "        if (grandparent) {\n",
       "            grandparent.style.display = \"none\";\n",
       "        }\n",
       "        warning_div.style.display = \"none\";\n",
       "    };\n",
       "    if (typeof Jupyter !== \"undefined\") {\n",
       "        console.log(\"WebIO detected Jupyter notebook environment.\");\n",
       "        // Jupyter notebook.\n",
       "        var extensions = (\n",
       "            Jupyter\n",
       "            && Jupyter.notebook.config.data\n",
       "            && Jupyter.notebook.config.data.load_extensions\n",
       "        );\n",
       "        if (extensions && extensions[\"webio-jupyter-notebook\"]) {\n",
       "            // Extension already loaded.\n",
       "            console.log(\"Jupyter WebIO nbextension detected; not loading ad-hoc.\");\n",
       "            hide();\n",
       "            return;\n",
       "        }\n",
       "    } else if (window.location.pathname.includes(\"/lab\")) {\n",
       "        // Guessing JupyterLa\n",
       "        console.log(\"Jupyter Lab detected; make sure the @webio/jupyter-lab-provider labextension is installed.\");\n",
       "        hide();\n",
       "        return;\n",
       "    }\n",
       "})();\n",
       "\n",
       "</script>\n",
       "<p\n",
       "    id=\"webio-warning-13822974928909324917\"\n",
       "    class=\"output_text output_stderr\"\n",
       "    style=\"padding: 1em; font-weight: bold;\"\n",
       ">\n",
       "    Unable to load WebIO. Please make sure WebIO works for your Jupyter client.\n",
       "    For troubleshooting, please see <a href=\"https://juliagizmos.github.io/WebIO.jl/latest/providers/ijulia/\">\n",
       "    the WebIO/IJulia documentation</a>.\n",
       "    <!-- TODO: link to installation docs. -->\n",
       "</p>\n"
      ],
      "text/plain": [
       "HTML{String}(\"<script>\\n// Immediately-invoked-function-expression to avoid global variables.\\n(function() {\\n    var warning_div = document.getElementById(\\\"webio-warning-13822974928909324917\\\");\\n    var hide = function () {\\n        var script = document.getElementById(\\\"webio-setup-2559218241388627005\\\");\\n        var parent = script && script.parentElement;\\n        var grandparent = parent && parent.parentElement;\\n        if (grandparent) {\\n            grandparent.style.display = \\\"none\\\";\\n        }\\n        warning_div.style.display = \\\"none\\\";\\n    };\\n    if (typeof Jupyter !== \\\"undefined\\\") {\\n        console.log(\\\"WebIO detected Jupyter notebook environment.\\\");\\n        // Jupyter notebook.\\n        var extensions = (\\n            Jupyter\\n            && Jupyter.notebook.config.data\\n            && Jupyter.notebook.config.data.load_extensions\\n        );\\n        if (extensions && extensions[\\\"webio-jupyter-notebook\\\"]) {\\n            // Extension already loaded.\\n            console.log(\\\"Jupyter WebIO nbextension detected; not loading ad-hoc.\\\");\\n            hide();\\n            return;\\n        }\\n    } else if (window.location.pathname.includes(\\\"/lab\\\")) {\\n        // Guessing JupyterLa\\n        console.log(\\\"Jupyter Lab detected; make sure the @webio/jupyter-lab-provider labextension is installed.\\\");\\n        hide();\\n        return;\\n    }\\n})();\\n\\n</script>\\n<p\\n    id=\\\"webio-warning-13822974928909324917\\\"\\n    class=\\\"output_text output_stderr\\\"\\n    style=\\\"padding: 1em; font-weight: bold;\\\"\\n>\\n    Unable to load WebIO. Please make sure WebIO works for your Jupyter client.\\n    For troubleshooting, please see <a href=\\\"https://juliagizmos.github.io/WebIO.jl/latest/providers/ijulia/\\\">\\n    the WebIO/IJulia documentation</a>.\\n    <!-- TODO: link to installation docs. -->\\n</p>\\n\")"
      ]
     },
     "metadata": {},
     "output_type": "display_data"
    }
   ],
   "source": [
    "using CurricularAnalytics, CurricularVisualization\n",
    "using Glob\n",
    "using StatsPlots"
   ]
  },
  {
   "cell_type": "markdown",
   "metadata": {},
   "source": [
    "## Create the Data Structures \n",
    "Degree plans associated with four different disciplines (animal science, mechanical engineering, music education, and psychology) were collected from each of the eleven schools in the cluster. The degree plans were stored as CSV files using the format for degree plans specified in the Curricular Analytics toolbox.  The files are organized in a directory structure that is assumed to be in the same directory as this notebook as follows:  `./cluster/<school-name>/<program-name.csv>`\n",
    "\n",
    "Asuuming the aforementioned directory structure, we first create an array called `schools` containing the names of the schools in the cluster, given by the subdirectory names in the ./cluster directory."
   ]
  },
  {
   "cell_type": "code",
   "execution_count": 2,
   "metadata": {},
   "outputs": [],
   "source": [
    "schools = Array{String,1}()\n",
    "for path in glob(\"*\", \"./cluster\")\n",
    "  push!(schools, replace(path, \"./cluster/\" => \"\"))\n",
    "end"
   ]
  },
  {
   "cell_type": "markdown",
   "metadata": {},
   "source": [
    "Next, we will read each of the degree plans, and store them as `DegreePlan` objects in a `school_plans` dictionary data structure."
   ]
  },
  {
   "cell_type": "code",
   "execution_count": 3,
   "metadata": {
    "scrolled": false
   },
   "outputs": [],
   "source": [
    "schools_plans = Dict{String, Dict{String, DegreePlan}}()\n",
    "for school in schools\n",
    "  plans = Dict{String, DegreePlan}()\n",
    "  programs = glob(\"*\", \"./cluster/$(school)\")\n",
    "  for program in programs\n",
    "    program_name = replace(split(\"$(program)\", \"/\")[end], \".csv\" => \"\")\n",
    "    plans[program_name] = read_csv(program)\n",
    "    complexity(plans[program_name].curriculum)  # compute the curricular complexity of the degree plan\n",
    "  end\n",
    "  schools_plans[school] = plans\n",
    "end"
   ]
  },
  {
   "cell_type": "markdown",
   "metadata": {},
   "source": [
    "You can now use this dictionary to access and visualize the degree plan associated with a particular program at a particular school as follows:"
   ]
  },
  {
   "cell_type": "code",
   "execution_count": 4,
   "metadata": {
    "scrolled": false
   },
   "outputs": [
    {
     "data": {
      "application/vnd.webio.node+json": {
       "children": [
        {
         "children": [
          ""
         ],
         "instanceArgs": {
          "namespace": "html",
          "tag": "iframe"
         },
         "nodeType": "DOM",
         "props": {
          "events": {
           "load": "(function (){this.contentWindow.postMessage({\"options\":{\"hideTerms\":false,\"edit\":false},\"curriculum\":{\"name\":\"Music Education\",\"dp_name\":\"4-Year Plan\",\"curriculum_terms\":[{\"name\":\"Term 1\",\"curriculum_items\":[{\"curriculum_requisites\":[],\"name\":\" \",\"metrics\":{\"complexity\":3.0,\"centrality\":0,\"blocking factor\":1,\"delay factor\":2.0},\"nameSub\":\"CO 150\",\"id\":1,\"credits\":3,\"nameCanonical\":\"\"},{\"curriculum_requisites\":[],\"name\":\" \",\"metrics\":{\"complexity\":22.0,\"centrality\":0,\"blocking factor\":14,\"delay factor\":8.0},\"nameSub\":\"MU 117\",\"id\":2,\"credits\":3,\"nameCanonical\":\"\"},{\"curriculum_requisites\":[],\"name\":\" \",\"metrics\":{\"complexity\":7.0,\"centrality\":0,\"blocking factor\":3,\"delay factor\":4.0},\"nameSub\":\"MU 127\",\"id\":3,\"credits\":1,\"nameCanonical\":\"\"},{\"curriculum_requisites\":[],\"name\":\" \",\"metrics\":{\"complexity\":4.0,\"centrality\":0,\"blocking factor\":2,\"delay factor\":2.0},\"nameSub\":\"MU 131\",\"id\":4,\"credits\":3,\"nameCanonical\":\"\"},{\"curriculum_requisites\":[],\"name\":\" \",\"metrics\":{\"complexity\":3.0,\"centrality\":0,\"blocking factor\":1,\"delay factor\":2.0},\"nameSub\":\"MU 150\",\"id\":5,\"credits\":1,\"nameCanonical\":\"\"},{\"curriculum_requisites\":[],\"name\":\" \",\"metrics\":{\"complexity\":1.0,\"centrality\":0,\"blocking factor\":0,\"delay factor\":1.0},\"nameSub\":\"MU 251\",\"id\":6,\"credits\":1,\"nameCanonical\":\"\"},{\"curriculum_requisites\":[],\"name\":\" \",\"metrics\":{\"complexity\":1.0,\"centrality\":0,\"blocking factor\":0,\"delay factor\":1.0},\"nameSub\":\"MU 272\",\"id\":7,\"credits\":1,\"nameCanonical\":\"\"},{\"curriculum_requisites\":[],\"name\":\" \",\"metrics\":{\"complexity\":1.0,\"centrality\":0,\"blocking factor\":0,\"delay factor\":1.0},\"nameSub\":\"MU 286\",\"id\":8,\"credits\":3,\"nameCanonical\":\"\"},{\"curriculum_requisites\":[],\"name\":\" \",\"metrics\":{\"complexity\":1.0,\"centrality\":0,\"blocking factor\":0,\"delay factor\":1.0},\"nameSub\":\"ENSEMBLE\",\"id\":9,\"credits\":1,\"nameCanonical\":\"\"}],\"id\":1},{\"name\":\"Term 2\",\"curriculum_items\":[{\"curriculum_requisites\":[{\"source_id\":2,\"target_id\":10,\"type\":\"CurriculumPrerequisite\"}],\"name\":\" \",\"metrics\":{\"complexity\":19.0,\"centrality\":48,\"blocking factor\":11,\"delay factor\":8.0},\"nameSub\":\"MU 118\",\"id\":10,\"credits\":3,\"nameCanonical\":\"\"},{\"curriculum_requisites\":[{\"source_id\":3,\"target_id\":11,\"type\":\"CurriculumPrerequisite\"}],\"name\":\" \",\"metrics\":{\"complexity\":6.0,\"centrality\":4,\"blocking factor\":2,\"delay factor\":4.0},\"nameSub\":\"MU 128\",\"id\":11,\"credits\":1,\"nameCanonical\":\"\"},{\"curriculum_requisites\":[{\"source_id\":5,\"target_id\":12,\"type\":\"CurriculumPrerequisite\"}],\"name\":\" \",\"metrics\":{\"complexity\":2.0,\"centrality\":0,\"blocking factor\":0,\"delay factor\":2.0},\"nameSub\":\"MU 151A\",\"id\":12,\"credits\":1,\"nameCanonical\":\"\"},{\"curriculum_requisites\":[],\"name\":\" \",\"metrics\":{\"complexity\":1.0,\"centrality\":0,\"blocking factor\":0,\"delay factor\":1.0},\"nameSub\":\"MU 252B\",\"id\":13,\"credits\":2,\"nameCanonical\":\"\"},{\"curriculum_requisites\":[],\"name\":\" \",\"metrics\":{\"complexity\":1.0,\"centrality\":0,\"blocking factor\":0,\"delay factor\":1.0},\"nameSub\":\"MU 272\",\"id\":14,\"credits\":1,\"nameCanonical\":\"\"},{\"curriculum_requisites\":[],\"name\":\" \",\"metrics\":{\"complexity\":1.0,\"centrality\":0,\"blocking factor\":0,\"delay factor\":1.0},\"nameSub\":\"ENSEMBLE\",\"id\":15,\"credits\":1,\"nameCanonical\":\"\"},{\"curriculum_requisites\":[],\"name\":\" \",\"metrics\":{\"complexity\":1.0,\"centrality\":0,\"blocking factor\":0,\"delay factor\":1.0},\"nameSub\":\"AUCC 3B\",\"id\":16,\"credits\":3,\"nameCanonical\":\"\"},{\"curriculum_requisites\":[],\"name\":\" \",\"metrics\":{\"complexity\":1.0,\"centrality\":0,\"blocking factor\":0,\"delay factor\":1.0},\"nameSub\":\"AUCC MATH\",\"id\":17,\"credits\":3,\"nameCanonical\":\"\"}],\"id\":2},{\"name\":\"Term 3\",\"curriculum_items\":[{\"curriculum_requisites\":[],\"name\":\" \",\"metrics\":{\"complexity\":16.0,\"centrality\":0,\"blocking factor\":8,\"delay factor\":8.0},\"nameSub\":\"EDUC 275\",\"id\":18,\"credits\":3,\"nameCanonical\":\"\"},{\"curriculum_requisites\":[{\"source_id\":10,\"target_id\":19,\"type\":\"CurriculumPrerequisite\"}],\"name\":\" \",\"metrics\":{\"complexity\":16.0,\"centrality\":42,\"blocking factor\":8,\"delay factor\":8.0},\"nameSub\":\"MU 217\",\"id\":19,\"credits\":3,\"nameCanonical\":\"\"},{\"curriculum_requisites\":[{\"source_id\":11,\"target_id\":20,\"type\":\"CurriculumPrerequisite\"}],\"name\":\" \",\"metrics\":{\"complexity\":5.0,\"centrality\":4,\"blocking factor\":1,\"delay factor\":4.0},\"nameSub\":\"MU 227\",\"id\":20,\"credits\":1,\"nameCanonical\":\"\"},{\"curriculum_requisites\":[],\"name\":\" \",\"metrics\":{\"complexity\":1.0,\"centrality\":0,\"blocking factor\":0,\"delay factor\":1.0},\"nameSub\":\"MU 252C\",\"id\":21,\"credits\":1,\"nameCanonical\":\"\"},{\"curriculum_requisites\":[],\"name\":\" \",\"metrics\":{\"complexity\":1.0,\"centrality\":0,\"blocking factor\":0,\"delay factor\":1.0},\"nameSub\":\"MU 272\",\"id\":22,\"credits\":1,\"nameCanonical\":\"\"},{\"curriculum_requisites\":[],\"name\":\" \",\"metrics\":{\"complexity\":1.0,\"centrality\":0,\"blocking factor\":0,\"delay factor\":1.0},\"nameSub\":\"ENSEMBLE\",\"id\":23,\"credits\":1,\"nameCanonical\":\"\"},{\"curriculum_requisites\":[{\"source_id\":1,\"target_id\":24,\"type\":\"CurriculumPrerequisite\"}],\"name\":\" \",\"metrics\":{\"complexity\":2.0,\"centrality\":0,\"blocking factor\":0,\"delay factor\":2.0},\"nameSub\":\"AUCC Advanced Writing\",\"id\":24,\"credits\":3,\"nameCanonical\":\"\"},{\"curriculum_requisites\":[],\"name\":\" \",\"metrics\":{\"complexity\":1.0,\"centrality\":0,\"blocking factor\":0,\"delay factor\":1.0},\"nameSub\":\"AUCC 3D\",\"id\":25,\"credits\":3,\"nameCanonical\":\"\"}],\"id\":3},{\"name\":\"Term 4\",\"curriculum_items\":[{\"curriculum_requisites\":[],\"name\":\" \",\"metrics\":{\"complexity\":16.0,\"centrality\":0,\"blocking factor\":8,\"delay factor\":8.0},\"nameSub\":\"EDUC 340\",\"id\":26,\"credits\":3,\"nameCanonical\":\"\"},{\"curriculum_requisites\":[{\"source_id\":19,\"target_id\":27,\"type\":\"CurriculumPrerequisite\"}],\"name\":\" \",\"metrics\":{\"complexity\":7.0,\"centrality\":10,\"blocking factor\":2,\"delay factor\":5.0},\"nameSub\":\"MU 218\",\"id\":27,\"credits\":3,\"nameCanonical\":\"\"},{\"curriculum_requisites\":[{\"source_id\":20,\"target_id\":28,\"type\":\"CurriculumPrerequisite\"}],\"name\":\" \",\"metrics\":{\"complexity\":4.0,\"centrality\":0,\"blocking factor\":0,\"delay factor\":4.0},\"nameSub\":\"MU 228\",\"id\":28,\"credits\":1,\"nameCanonical\":\"\"},{\"curriculum_requisites\":[],\"name\":\" \",\"metrics\":{\"complexity\":1.0,\"centrality\":0,\"blocking factor\":0,\"delay factor\":1.0},\"nameSub\":\"MU 252A\",\"id\":29,\"credits\":2,\"nameCanonical\":\"\"},{\"curriculum_requisites\":[],\"name\":\" \",\"metrics\":{\"complexity\":1.0,\"centrality\":0,\"blocking factor\":0,\"delay factor\":1.0},\"nameSub\":\"MU 272\",\"id\":30,\"credits\":1,\"nameCanonical\":\"\"},{\"curriculum_requisites\":[],\"name\":\" \",\"metrics\":{\"complexity\":1.0,\"centrality\":0,\"blocking factor\":0,\"delay factor\":1.0},\"nameSub\":\"ENSEMBLE\",\"id\":31,\"credits\":1,\"nameCanonical\":\"\"},{\"curriculum_requisites\":[],\"name\":\" \",\"metrics\":{\"complexity\":1.0,\"centrality\":0,\"blocking factor\":0,\"delay factor\":1.0},\"nameSub\":\"AUCC 3A\",\"id\":32,\"credits\":4,\"nameCanonical\":\"\"}],\"id\":4},{\"name\":\"Term 5\",\"curriculum_items\":[{\"curriculum_requisites\":[{\"source_id\":18,\"target_id\":33,\"type\":\"CurriculumPrerequisite\"},{\"source_id\":26,\"target_id\":33,\"type\":\"CurriculumPrerequisite\"}],\"name\":\" \",\"metrics\":{\"complexity\":10.0,\"centrality\":30,\"blocking factor\":4,\"delay factor\":6.0},\"nameSub\":\"EDUC 331\",\"id\":33,\"credits\":2,\"nameCanonical\":\"\"},{\"curriculum_requisites\":[],\"name\":\" \",\"metrics\":{\"complexity\":1.0,\"centrality\":0,\"blocking factor\":0,\"delay factor\":1.0},\"nameSub\":\"EDUC 474\",\"id\":34,\"credits\":2,\"nameCanonical\":\"\"},{\"curriculum_requisites\":[{\"source_id\":2,\"target_id\":35,\"type\":\"CurriculumPrerequisite\"}],\"name\":\" \",\"metrics\":{\"complexity\":4.0,\"centrality\":3,\"blocking factor\":1,\"delay factor\":3.0},\"nameSub\":\"MU 254\",\"id\":35,\"credits\":2,\"nameCanonical\":\"\"},{\"curriculum_requisites\":[{\"source_id\":27,\"target_id\":36,\"type\":\"CurriculumPrerequisite\"}],\"name\":\" \",\"metrics\":{\"complexity\":5.0,\"centrality\":0,\"blocking factor\":0,\"delay factor\":5.0},\"nameSub\":\"MU 317\",\"id\":36,\"credits\":2,\"nameCanonical\":\"\"},{\"curriculum_requisites\":[{\"source_id\":4,\"target_id\":37,\"type\":\"CurriculumPrerequisite\"},{\"source_id\":10,\"target_id\":37,\"type\":\"CurriculumPrerequisite\"}],\"name\":\" \",\"metrics\":{\"complexity\":3.0,\"centrality\":0,\"blocking factor\":0,\"delay factor\":3.0},\"nameSub\":\"MU 334\",\"id\":37,\"credits\":3,\"nameCanonical\":\"\"},{\"curriculum_requisites\":[],\"name\":\" \",\"metrics\":{\"complexity\":1.0,\"centrality\":0,\"blocking factor\":0,\"delay factor\":1.0},\"nameSub\":\"MU 472\",\"id\":38,\"credits\":1,\"nameCanonical\":\"\"},{\"curriculum_requisites\":[],\"name\":\" \",\"metrics\":{\"complexity\":1.0,\"centrality\":0,\"blocking factor\":0,\"delay factor\":1.0},\"nameSub\":\"ENSEMBLE\",\"id\":39,\"credits\":1,\"nameCanonical\":\"\"},{\"curriculum_requisites\":[],\"name\":\" \",\"metrics\":{\"complexity\":1.0,\"centrality\":0,\"blocking factor\":0,\"delay factor\":1.0},\"nameSub\":\"AUCC 3A\",\"id\":40,\"credits\":3,\"nameCanonical\":\"\"}],\"id\":5},{\"name\":\"Term 6\",\"curriculum_items\":[{\"curriculum_requisites\":[{\"source_id\":18,\"target_id\":41,\"type\":\"CurriculumPrerequisite\"},{\"source_id\":26,\"target_id\":41,\"type\":\"CurriculumPrerequisite\"},{\"source_id\":42,\"target_id\":41,\"type\":\"CurriculumCorequisite\"}],\"name\":\" \",\"metrics\":{\"complexity\":12.0,\"centrality\":108,\"blocking factor\":4,\"delay factor\":8.0},\"nameSub\":\"EDUC 350\",\"id\":41,\"credits\":3,\"nameCanonical\":\"\"},{\"curriculum_requisites\":[{\"source_id\":43,\"target_id\":42,\"type\":\"CurriculumCorequisite\"},{\"source_id\":18,\"target_id\":42,\"type\":\"CurriculumPrerequisite\"},{\"source_id\":26,\"target_id\":42,\"type\":\"CurriculumPrerequisite\"}],\"name\":\" \",\"metrics\":{\"complexity\":13.0,\"centrality\":144,\"blocking factor\":5,\"delay factor\":8.0},\"nameSub\":\"EDUC 386\",\"id\":42,\"credits\":1,\"nameCanonical\":\"\"},{\"curriculum_requisites\":[{\"source_id\":18,\"target_id\":43,\"type\":\"CurriculumPrerequisite\"},{\"source_id\":26,\"target_id\":43,\"type\":\"CurriculumPrerequisite\"}],\"name\":\" \",\"metrics\":{\"complexity\":14.0,\"centrality\":78,\"blocking factor\":6,\"delay factor\":8.0},\"nameSub\":\"EDUC 475\",\"id\":43,\"credits\":1,\"nameCanonical\":\"\"},{\"curriculum_requisites\":[{\"source_id\":27,\"target_id\":44,\"type\":\"CurriculumPrerequisite\"}],\"name\":\" \",\"metrics\":{\"complexity\":5.0,\"centrality\":0,\"blocking factor\":0,\"delay factor\":5.0},\"nameSub\":\"MU 318\",\"id\":44,\"credits\":1,\"nameCanonical\":\"\"},{\"curriculum_requisites\":[{\"source_id\":4,\"target_id\":45,\"type\":\"CurriculumPrerequisite\"},{\"source_id\":10,\"target_id\":45,\"type\":\"CurriculumPrerequisite\"}],\"name\":\" \",\"metrics\":{\"complexity\":3.0,\"centrality\":0,\"blocking factor\":0,\"delay factor\":3.0},\"nameSub\":\"MU 335\",\"id\":45,\"credits\":1,\"nameCanonical\":\"\"},{\"curriculum_requisites\":[{\"source_id\":35,\"target_id\":46,\"type\":\"CurriculumPrerequisite\"}],\"name\":\" \",\"metrics\":{\"complexity\":3.0,\"centrality\":0,\"blocking factor\":0,\"delay factor\":3.0},\"nameSub\":\"MU 356\",\"id\":46,\"credits\":1,\"nameCanonical\":\"\"},{\"curriculum_requisites\":[],\"name\":\" \",\"metrics\":{\"complexity\":1.0,\"centrality\":0,\"blocking factor\":0,\"delay factor\":1.0},\"nameSub\":\"MU ELECTIVE\",\"id\":47,\"credits\":1,\"nameCanonical\":\"\"},{\"curriculum_requisites\":[],\"name\":\" \",\"metrics\":{\"complexity\":1.0,\"centrality\":0,\"blocking factor\":0,\"delay factor\":1.0},\"nameSub\":\"MU 472\",\"id\":48,\"credits\":1,\"nameCanonical\":\"\"},{\"curriculum_requisites\":[],\"name\":\" \",\"metrics\":{\"complexity\":1.0,\"centrality\":0,\"blocking factor\":0,\"delay factor\":1.0},\"nameSub\":\"ENSEMBLE\",\"id\":49,\"credits\":1,\"nameCanonical\":\"\"}],\"id\":6},{\"name\":\"Term 7\",\"curriculum_items\":[{\"curriculum_requisites\":[{\"source_id\":51,\"target_id\":50,\"type\":\"CurriculumCorequisite\"},{\"source_id\":41,\"target_id\":50,\"type\":\"CurriculumPrerequisite\"},{\"source_id\":33,\"target_id\":50,\"type\":\"CurriculumPrerequisite\"},{\"source_id\":42,\"target_id\":50,\"type\":\"CurriculumPrerequisite\"}],\"name\":\" \",\"metrics\":{\"complexity\":11.0,\"centrality\":240,\"blocking factor\":3,\"delay factor\":8.0},\"nameSub\":\"EDUC 450\",\"id\":50,\"credits\":4,\"nameCanonical\":\"\"},{\"curriculum_requisites\":[{\"source_id\":52,\"target_id\":51,\"type\":\"CurriculumCorequisite\"},{\"source_id\":19,\"target_id\":51,\"type\":\"CurriculumPrerequisite\"}],\"name\":\" \",\"metrics\":{\"complexity\":12.0,\"centrality\":54,\"blocking factor\":4,\"delay factor\":8.0},\"nameSub\":\"EDUC 477\",\"id\":51,\"credits\":2,\"nameCanonical\":\"\"},{\"curriculum_requisites\":[],\"name\":\" \",\"metrics\":{\"complexity\":11.0,\"centrality\":0,\"blocking factor\":5,\"delay factor\":6.0},\"nameSub\":\"EDUC 486E\",\"id\":52,\"credits\":1,\"nameCanonical\":\"\"},{\"curriculum_requisites\":[],\"name\":\" \",\"metrics\":{\"complexity\":1.0,\"centrality\":0,\"blocking factor\":0,\"delay factor\":1.0},\"nameSub\":\"MU 252D\",\"id\":53,\"credits\":1,\"nameCanonical\":\"\"},{\"curriculum_requisites\":[],\"name\":\" \",\"metrics\":{\"complexity\":1.0,\"centrality\":0,\"blocking factor\":0,\"delay factor\":1.0},\"nameSub\":\"MU 425\",\"id\":54,\"credits\":2,\"nameCanonical\":\"\"},{\"curriculum_requisites\":[],\"name\":\" \",\"metrics\":{\"complexity\":1.0,\"centrality\":0,\"blocking factor\":0,\"delay factor\":1.0},\"nameSub\":\"MU 471\",\"id\":55,\"credits\":1,\"nameCanonical\":\"\"},{\"curriculum_requisites\":[],\"name\":\" \",\"metrics\":{\"complexity\":1.0,\"centrality\":0,\"blocking factor\":0,\"delay factor\":1.0},\"nameSub\":\"MU 472\",\"id\":56,\"credits\":1,\"nameCanonical\":\"\"},{\"curriculum_requisites\":[],\"name\":\" \",\"metrics\":{\"complexity\":1.0,\"centrality\":0,\"blocking factor\":0,\"delay factor\":1.0},\"nameSub\":\"ENSEMBLE\",\"id\":57,\"credits\":1,\"nameCanonical\":\"\"},{\"curriculum_requisites\":[],\"name\":\" \",\"metrics\":{\"complexity\":1.0,\"centrality\":0,\"blocking factor\":0,\"delay factor\":1.0},\"nameSub\":\"AUCC 3E\",\"id\":58,\"credits\":3,\"nameCanonical\":\"\"}],\"id\":7},{\"name\":\"Term 8\",\"curriculum_items\":[{\"curriculum_requisites\":[{\"source_id\":51,\"target_id\":59,\"type\":\"CurriculumPrerequisite\"},{\"source_id\":50,\"target_id\":59,\"type\":\"CurriculumPrerequisite\"},{\"source_id\":60,\"target_id\":59,\"type\":\"CurriculumCorequisite\"}],\"name\":\" \",\"metrics\":{\"complexity\":8.0,\"centrality\":0,\"blocking factor\":0,\"delay factor\":8.0},\"nameSub\":\"EDUC 485A\",\"id\":59,\"credits\":6,\"nameCanonical\":\"\"},{\"curriculum_requisites\":[{\"source_id\":51,\"target_id\":60,\"type\":\"CurriculumPrerequisite\"},{\"source_id\":50,\"target_id\":60,\"type\":\"CurriculumPrerequisite\"},{\"source_id\":61,\"target_id\":60,\"type\":\"CurriculumCorequisite\"}],\"name\":\" \",\"metrics\":{\"complexity\":9.0,\"centrality\":184,\"blocking factor\":1,\"delay factor\":8.0},\"nameSub\":\"EDUC 485B\",\"id\":60,\"credits\":6,\"nameCanonical\":\"\"},{\"curriculum_requisites\":[{\"source_id\":50,\"target_id\":61,\"type\":\"CurriculumPrerequisite\"}],\"name\":\" \",\"metrics\":{\"complexity\":10.0,\"centrality\":94,\"blocking factor\":2,\"delay factor\":8.0},\"nameSub\":\"EDUC 493A\",\"id\":61,\"credits\":1,\"nameCanonical\":\"\"},{\"curriculum_requisites\":[],\"name\":\" \",\"metrics\":{\"complexity\":1.0,\"centrality\":0,\"blocking factor\":0,\"delay factor\":1.0},\"nameSub\":\"ELECTIVE\",\"id\":62,\"credits\":1,\"nameCanonical\":\"\"}],\"id\":8}],\"institution\":\"Colorado State University\"}},\"*\"); window.removeEventListener(\"message\",window.messageReceived); window.messageReceived=(function (event){return (event.data.curriculum!==undefined) ? (WebIO.setval({\"name\":\"curriculum-data\",\"scope\":\"9011490339508951562\",\"id\":\"1765218350728805825\",\"type\":\"observable\"},event.data.curriculum)) : undefined}); return window.addEventListener(\"message\",window.messageReceived)})"
          },
          "id": "curriculum",
          "src": "https://curricula-api-embed.damoursystems.com/",
          "style": {
           "border": "none",
           "height": "100vh",
           "margin": "0",
           "padding": "0",
           "width": "100%"
          }
         },
         "type": "node"
        }
       ],
       "instanceArgs": {
        "handlers": {},
        "id": "9011490339508951562",
        "imports": {
         "data": [],
         "type": "async_block"
        },
        "mount_callbacks": [],
        "observables": {
         "curriculum-data": {
          "id": "1765218350728805825",
          "sync": true,
          "value": {
           "curriculum": {
            "curriculum_terms": [
             {
              "curriculum_items": [
               {
                "credits": 3,
                "curriculum_requisites": [],
                "id": 1,
                "metrics": {
                 "blocking factor": 1,
                 "centrality": 0,
                 "complexity": 3,
                 "delay factor": 2
                },
                "name": " ",
                "nameCanonical": "",
                "nameSub": "CO 150"
               },
               {
                "credits": 3,
                "curriculum_requisites": [],
                "id": 2,
                "metrics": {
                 "blocking factor": 14,
                 "centrality": 0,
                 "complexity": 22,
                 "delay factor": 8
                },
                "name": " ",
                "nameCanonical": "",
                "nameSub": "MU 117"
               },
               {
                "credits": 1,
                "curriculum_requisites": [],
                "id": 3,
                "metrics": {
                 "blocking factor": 3,
                 "centrality": 0,
                 "complexity": 7,
                 "delay factor": 4
                },
                "name": " ",
                "nameCanonical": "",
                "nameSub": "MU 127"
               },
               {
                "credits": 3,
                "curriculum_requisites": [],
                "id": 4,
                "metrics": {
                 "blocking factor": 2,
                 "centrality": 0,
                 "complexity": 4,
                 "delay factor": 2
                },
                "name": " ",
                "nameCanonical": "",
                "nameSub": "MU 131"
               },
               {
                "credits": 1,
                "curriculum_requisites": [],
                "id": 5,
                "metrics": {
                 "blocking factor": 1,
                 "centrality": 0,
                 "complexity": 3,
                 "delay factor": 2
                },
                "name": " ",
                "nameCanonical": "",
                "nameSub": "MU 150"
               },
               {
                "credits": 1,
                "curriculum_requisites": [],
                "id": 6,
                "metrics": {
                 "blocking factor": 0,
                 "centrality": 0,
                 "complexity": 1,
                 "delay factor": 1
                },
                "name": " ",
                "nameCanonical": "",
                "nameSub": "MU 251"
               },
               {
                "credits": 1,
                "curriculum_requisites": [],
                "id": 7,
                "metrics": {
                 "blocking factor": 0,
                 "centrality": 0,
                 "complexity": 1,
                 "delay factor": 1
                },
                "name": " ",
                "nameCanonical": "",
                "nameSub": "MU 272"
               },
               {
                "credits": 3,
                "curriculum_requisites": [],
                "id": 8,
                "metrics": {
                 "blocking factor": 0,
                 "centrality": 0,
                 "complexity": 1,
                 "delay factor": 1
                },
                "name": " ",
                "nameCanonical": "",
                "nameSub": "MU 286"
               },
               {
                "credits": 1,
                "curriculum_requisites": [],
                "id": 9,
                "metrics": {
                 "blocking factor": 0,
                 "centrality": 0,
                 "complexity": 1,
                 "delay factor": 1
                },
                "name": " ",
                "nameCanonical": "",
                "nameSub": "ENSEMBLE"
               }
              ],
              "id": 1,
              "name": "Term 1"
             },
             {
              "curriculum_items": [
               {
                "credits": 3,
                "curriculum_requisites": [
                 {
                  "source_id": 2,
                  "target_id": 10,
                  "type": "CurriculumPrerequisite"
                 }
                ],
                "id": 10,
                "metrics": {
                 "blocking factor": 11,
                 "centrality": 48,
                 "complexity": 19,
                 "delay factor": 8
                },
                "name": " ",
                "nameCanonical": "",
                "nameSub": "MU 118"
               },
               {
                "credits": 1,
                "curriculum_requisites": [
                 {
                  "source_id": 3,
                  "target_id": 11,
                  "type": "CurriculumPrerequisite"
                 }
                ],
                "id": 11,
                "metrics": {
                 "blocking factor": 2,
                 "centrality": 4,
                 "complexity": 6,
                 "delay factor": 4
                },
                "name": " ",
                "nameCanonical": "",
                "nameSub": "MU 128"
               },
               {
                "credits": 1,
                "curriculum_requisites": [
                 {
                  "source_id": 5,
                  "target_id": 12,
                  "type": "CurriculumPrerequisite"
                 }
                ],
                "id": 12,
                "metrics": {
                 "blocking factor": 0,
                 "centrality": 0,
                 "complexity": 2,
                 "delay factor": 2
                },
                "name": " ",
                "nameCanonical": "",
                "nameSub": "MU 151A"
               },
               {
                "credits": 2,
                "curriculum_requisites": [],
                "id": 13,
                "metrics": {
                 "blocking factor": 0,
                 "centrality": 0,
                 "complexity": 1,
                 "delay factor": 1
                },
                "name": " ",
                "nameCanonical": "",
                "nameSub": "MU 252B"
               },
               {
                "credits": 1,
                "curriculum_requisites": [],
                "id": 14,
                "metrics": {
                 "blocking factor": 0,
                 "centrality": 0,
                 "complexity": 1,
                 "delay factor": 1
                },
                "name": " ",
                "nameCanonical": "",
                "nameSub": "MU 272"
               },
               {
                "credits": 1,
                "curriculum_requisites": [],
                "id": 15,
                "metrics": {
                 "blocking factor": 0,
                 "centrality": 0,
                 "complexity": 1,
                 "delay factor": 1
                },
                "name": " ",
                "nameCanonical": "",
                "nameSub": "ENSEMBLE"
               },
               {
                "credits": 3,
                "curriculum_requisites": [],
                "id": 16,
                "metrics": {
                 "blocking factor": 0,
                 "centrality": 0,
                 "complexity": 1,
                 "delay factor": 1
                },
                "name": " ",
                "nameCanonical": "",
                "nameSub": "AUCC 3B"
               },
               {
                "credits": 3,
                "curriculum_requisites": [],
                "id": 17,
                "metrics": {
                 "blocking factor": 0,
                 "centrality": 0,
                 "complexity": 1,
                 "delay factor": 1
                },
                "name": " ",
                "nameCanonical": "",
                "nameSub": "AUCC MATH"
               }
              ],
              "id": 2,
              "name": "Term 2"
             },
             {
              "curriculum_items": [
               {
                "credits": 3,
                "curriculum_requisites": [],
                "id": 18,
                "metrics": {
                 "blocking factor": 8,
                 "centrality": 0,
                 "complexity": 16,
                 "delay factor": 8
                },
                "name": " ",
                "nameCanonical": "",
                "nameSub": "EDUC 275"
               },
               {
                "credits": 3,
                "curriculum_requisites": [
                 {
                  "source_id": 10,
                  "target_id": 19,
                  "type": "CurriculumPrerequisite"
                 }
                ],
                "id": 19,
                "metrics": {
                 "blocking factor": 8,
                 "centrality": 42,
                 "complexity": 16,
                 "delay factor": 8
                },
                "name": " ",
                "nameCanonical": "",
                "nameSub": "MU 217"
               },
               {
                "credits": 1,
                "curriculum_requisites": [
                 {
                  "source_id": 11,
                  "target_id": 20,
                  "type": "CurriculumPrerequisite"
                 }
                ],
                "id": 20,
                "metrics": {
                 "blocking factor": 1,
                 "centrality": 4,
                 "complexity": 5,
                 "delay factor": 4
                },
                "name": " ",
                "nameCanonical": "",
                "nameSub": "MU 227"
               },
               {
                "credits": 1,
                "curriculum_requisites": [],
                "id": 21,
                "metrics": {
                 "blocking factor": 0,
                 "centrality": 0,
                 "complexity": 1,
                 "delay factor": 1
                },
                "name": " ",
                "nameCanonical": "",
                "nameSub": "MU 252C"
               },
               {
                "credits": 1,
                "curriculum_requisites": [],
                "id": 22,
                "metrics": {
                 "blocking factor": 0,
                 "centrality": 0,
                 "complexity": 1,
                 "delay factor": 1
                },
                "name": " ",
                "nameCanonical": "",
                "nameSub": "MU 272"
               },
               {
                "credits": 1,
                "curriculum_requisites": [],
                "id": 23,
                "metrics": {
                 "blocking factor": 0,
                 "centrality": 0,
                 "complexity": 1,
                 "delay factor": 1
                },
                "name": " ",
                "nameCanonical": "",
                "nameSub": "ENSEMBLE"
               },
               {
                "credits": 3,
                "curriculum_requisites": [
                 {
                  "source_id": 1,
                  "target_id": 24,
                  "type": "CurriculumPrerequisite"
                 }
                ],
                "id": 24,
                "metrics": {
                 "blocking factor": 0,
                 "centrality": 0,
                 "complexity": 2,
                 "delay factor": 2
                },
                "name": " ",
                "nameCanonical": "",
                "nameSub": "AUCC Advanced Writing"
               },
               {
                "credits": 3,
                "curriculum_requisites": [],
                "id": 25,
                "metrics": {
                 "blocking factor": 0,
                 "centrality": 0,
                 "complexity": 1,
                 "delay factor": 1
                },
                "name": " ",
                "nameCanonical": "",
                "nameSub": "AUCC 3D"
               }
              ],
              "id": 3,
              "name": "Term 3"
             },
             {
              "curriculum_items": [
               {
                "credits": 3,
                "curriculum_requisites": [],
                "id": 26,
                "metrics": {
                 "blocking factor": 8,
                 "centrality": 0,
                 "complexity": 16,
                 "delay factor": 8
                },
                "name": " ",
                "nameCanonical": "",
                "nameSub": "EDUC 340"
               },
               {
                "credits": 3,
                "curriculum_requisites": [
                 {
                  "source_id": 19,
                  "target_id": 27,
                  "type": "CurriculumPrerequisite"
                 }
                ],
                "id": 27,
                "metrics": {
                 "blocking factor": 2,
                 "centrality": 10,
                 "complexity": 7,
                 "delay factor": 5
                },
                "name": " ",
                "nameCanonical": "",
                "nameSub": "MU 218"
               },
               {
                "credits": 1,
                "curriculum_requisites": [
                 {
                  "source_id": 20,
                  "target_id": 28,
                  "type": "CurriculumPrerequisite"
                 }
                ],
                "id": 28,
                "metrics": {
                 "blocking factor": 0,
                 "centrality": 0,
                 "complexity": 4,
                 "delay factor": 4
                },
                "name": " ",
                "nameCanonical": "",
                "nameSub": "MU 228"
               },
               {
                "credits": 2,
                "curriculum_requisites": [],
                "id": 29,
                "metrics": {
                 "blocking factor": 0,
                 "centrality": 0,
                 "complexity": 1,
                 "delay factor": 1
                },
                "name": " ",
                "nameCanonical": "",
                "nameSub": "MU 252A"
               },
               {
                "credits": 1,
                "curriculum_requisites": [],
                "id": 30,
                "metrics": {
                 "blocking factor": 0,
                 "centrality": 0,
                 "complexity": 1,
                 "delay factor": 1
                },
                "name": " ",
                "nameCanonical": "",
                "nameSub": "MU 272"
               },
               {
                "credits": 1,
                "curriculum_requisites": [],
                "id": 31,
                "metrics": {
                 "blocking factor": 0,
                 "centrality": 0,
                 "complexity": 1,
                 "delay factor": 1
                },
                "name": " ",
                "nameCanonical": "",
                "nameSub": "ENSEMBLE"
               },
               {
                "credits": 4,
                "curriculum_requisites": [],
                "id": 32,
                "metrics": {
                 "blocking factor": 0,
                 "centrality": 0,
                 "complexity": 1,
                 "delay factor": 1
                },
                "name": " ",
                "nameCanonical": "",
                "nameSub": "AUCC 3A"
               }
              ],
              "id": 4,
              "name": "Term 4"
             },
             {
              "curriculum_items": [
               {
                "credits": 2,
                "curriculum_requisites": [
                 {
                  "source_id": 18,
                  "target_id": 33,
                  "type": "CurriculumPrerequisite"
                 },
                 {
                  "source_id": 26,
                  "target_id": 33,
                  "type": "CurriculumPrerequisite"
                 }
                ],
                "id": 33,
                "metrics": {
                 "blocking factor": 4,
                 "centrality": 30,
                 "complexity": 10,
                 "delay factor": 6
                },
                "name": " ",
                "nameCanonical": "",
                "nameSub": "EDUC 331"
               },
               {
                "credits": 2,
                "curriculum_requisites": [],
                "id": 34,
                "metrics": {
                 "blocking factor": 0,
                 "centrality": 0,
                 "complexity": 1,
                 "delay factor": 1
                },
                "name": " ",
                "nameCanonical": "",
                "nameSub": "EDUC 474"
               },
               {
                "credits": 2,
                "curriculum_requisites": [
                 {
                  "source_id": 2,
                  "target_id": 35,
                  "type": "CurriculumPrerequisite"
                 }
                ],
                "id": 35,
                "metrics": {
                 "blocking factor": 1,
                 "centrality": 3,
                 "complexity": 4,
                 "delay factor": 3
                },
                "name": " ",
                "nameCanonical": "",
                "nameSub": "MU 254"
               },
               {
                "credits": 2,
                "curriculum_requisites": [
                 {
                  "source_id": 27,
                  "target_id": 36,
                  "type": "CurriculumPrerequisite"
                 }
                ],
                "id": 36,
                "metrics": {
                 "blocking factor": 0,
                 "centrality": 0,
                 "complexity": 5,
                 "delay factor": 5
                },
                "name": " ",
                "nameCanonical": "",
                "nameSub": "MU 317"
               },
               {
                "credits": 3,
                "curriculum_requisites": [
                 {
                  "source_id": 4,
                  "target_id": 37,
                  "type": "CurriculumPrerequisite"
                 },
                 {
                  "source_id": 10,
                  "target_id": 37,
                  "type": "CurriculumPrerequisite"
                 }
                ],
                "id": 37,
                "metrics": {
                 "blocking factor": 0,
                 "centrality": 0,
                 "complexity": 3,
                 "delay factor": 3
                },
                "name": " ",
                "nameCanonical": "",
                "nameSub": "MU 334"
               },
               {
                "credits": 1,
                "curriculum_requisites": [],
                "id": 38,
                "metrics": {
                 "blocking factor": 0,
                 "centrality": 0,
                 "complexity": 1,
                 "delay factor": 1
                },
                "name": " ",
                "nameCanonical": "",
                "nameSub": "MU 472"
               },
               {
                "credits": 1,
                "curriculum_requisites": [],
                "id": 39,
                "metrics": {
                 "blocking factor": 0,
                 "centrality": 0,
                 "complexity": 1,
                 "delay factor": 1
                },
                "name": " ",
                "nameCanonical": "",
                "nameSub": "ENSEMBLE"
               },
               {
                "credits": 3,
                "curriculum_requisites": [],
                "id": 40,
                "metrics": {
                 "blocking factor": 0,
                 "centrality": 0,
                 "complexity": 1,
                 "delay factor": 1
                },
                "name": " ",
                "nameCanonical": "",
                "nameSub": "AUCC 3A"
               }
              ],
              "id": 5,
              "name": "Term 5"
             },
             {
              "curriculum_items": [
               {
                "credits": 3,
                "curriculum_requisites": [
                 {
                  "source_id": 18,
                  "target_id": 41,
                  "type": "CurriculumPrerequisite"
                 },
                 {
                  "source_id": 26,
                  "target_id": 41,
                  "type": "CurriculumPrerequisite"
                 },
                 {
                  "source_id": 42,
                  "target_id": 41,
                  "type": "CurriculumCorequisite"
                 }
                ],
                "id": 41,
                "metrics": {
                 "blocking factor": 4,
                 "centrality": 108,
                 "complexity": 12,
                 "delay factor": 8
                },
                "name": " ",
                "nameCanonical": "",
                "nameSub": "EDUC 350"
               },
               {
                "credits": 1,
                "curriculum_requisites": [
                 {
                  "source_id": 43,
                  "target_id": 42,
                  "type": "CurriculumCorequisite"
                 },
                 {
                  "source_id": 18,
                  "target_id": 42,
                  "type": "CurriculumPrerequisite"
                 },
                 {
                  "source_id": 26,
                  "target_id": 42,
                  "type": "CurriculumPrerequisite"
                 }
                ],
                "id": 42,
                "metrics": {
                 "blocking factor": 5,
                 "centrality": 144,
                 "complexity": 13,
                 "delay factor": 8
                },
                "name": " ",
                "nameCanonical": "",
                "nameSub": "EDUC 386"
               },
               {
                "credits": 1,
                "curriculum_requisites": [
                 {
                  "source_id": 18,
                  "target_id": 43,
                  "type": "CurriculumPrerequisite"
                 },
                 {
                  "source_id": 26,
                  "target_id": 43,
                  "type": "CurriculumPrerequisite"
                 }
                ],
                "id": 43,
                "metrics": {
                 "blocking factor": 6,
                 "centrality": 78,
                 "complexity": 14,
                 "delay factor": 8
                },
                "name": " ",
                "nameCanonical": "",
                "nameSub": "EDUC 475"
               },
               {
                "credits": 1,
                "curriculum_requisites": [
                 {
                  "source_id": 27,
                  "target_id": 44,
                  "type": "CurriculumPrerequisite"
                 }
                ],
                "id": 44,
                "metrics": {
                 "blocking factor": 0,
                 "centrality": 0,
                 "complexity": 5,
                 "delay factor": 5
                },
                "name": " ",
                "nameCanonical": "",
                "nameSub": "MU 318"
               },
               {
                "credits": 1,
                "curriculum_requisites": [
                 {
                  "source_id": 4,
                  "target_id": 45,
                  "type": "CurriculumPrerequisite"
                 },
                 {
                  "source_id": 10,
                  "target_id": 45,
                  "type": "CurriculumPrerequisite"
                 }
                ],
                "id": 45,
                "metrics": {
                 "blocking factor": 0,
                 "centrality": 0,
                 "complexity": 3,
                 "delay factor": 3
                },
                "name": " ",
                "nameCanonical": "",
                "nameSub": "MU 335"
               },
               {
                "credits": 1,
                "curriculum_requisites": [
                 {
                  "source_id": 35,
                  "target_id": 46,
                  "type": "CurriculumPrerequisite"
                 }
                ],
                "id": 46,
                "metrics": {
                 "blocking factor": 0,
                 "centrality": 0,
                 "complexity": 3,
                 "delay factor": 3
                },
                "name": " ",
                "nameCanonical": "",
                "nameSub": "MU 356"
               },
               {
                "credits": 1,
                "curriculum_requisites": [],
                "id": 47,
                "metrics": {
                 "blocking factor": 0,
                 "centrality": 0,
                 "complexity": 1,
                 "delay factor": 1
                },
                "name": " ",
                "nameCanonical": "",
                "nameSub": "MU ELECTIVE"
               },
               {
                "credits": 1,
                "curriculum_requisites": [],
                "id": 48,
                "metrics": {
                 "blocking factor": 0,
                 "centrality": 0,
                 "complexity": 1,
                 "delay factor": 1
                },
                "name": " ",
                "nameCanonical": "",
                "nameSub": "MU 472"
               },
               {
                "credits": 1,
                "curriculum_requisites": [],
                "id": 49,
                "metrics": {
                 "blocking factor": 0,
                 "centrality": 0,
                 "complexity": 1,
                 "delay factor": 1
                },
                "name": " ",
                "nameCanonical": "",
                "nameSub": "ENSEMBLE"
               }
              ],
              "id": 6,
              "name": "Term 6"
             },
             {
              "curriculum_items": [
               {
                "credits": 4,
                "curriculum_requisites": [
                 {
                  "source_id": 51,
                  "target_id": 50,
                  "type": "CurriculumCorequisite"
                 },
                 {
                  "source_id": 41,
                  "target_id": 50,
                  "type": "CurriculumPrerequisite"
                 },
                 {
                  "source_id": 33,
                  "target_id": 50,
                  "type": "CurriculumPrerequisite"
                 },
                 {
                  "source_id": 42,
                  "target_id": 50,
                  "type": "CurriculumPrerequisite"
                 }
                ],
                "id": 50,
                "metrics": {
                 "blocking factor": 3,
                 "centrality": 240,
                 "complexity": 11,
                 "delay factor": 8
                },
                "name": " ",
                "nameCanonical": "",
                "nameSub": "EDUC 450"
               },
               {
                "credits": 2,
                "curriculum_requisites": [
                 {
                  "source_id": 52,
                  "target_id": 51,
                  "type": "CurriculumCorequisite"
                 },
                 {
                  "source_id": 19,
                  "target_id": 51,
                  "type": "CurriculumPrerequisite"
                 }
                ],
                "id": 51,
                "metrics": {
                 "blocking factor": 4,
                 "centrality": 54,
                 "complexity": 12,
                 "delay factor": 8
                },
                "name": " ",
                "nameCanonical": "",
                "nameSub": "EDUC 477"
               },
               {
                "credits": 1,
                "curriculum_requisites": [],
                "id": 52,
                "metrics": {
                 "blocking factor": 5,
                 "centrality": 0,
                 "complexity": 11,
                 "delay factor": 6
                },
                "name": " ",
                "nameCanonical": "",
                "nameSub": "EDUC 486E"
               },
               {
                "credits": 1,
                "curriculum_requisites": [],
                "id": 53,
                "metrics": {
                 "blocking factor": 0,
                 "centrality": 0,
                 "complexity": 1,
                 "delay factor": 1
                },
                "name": " ",
                "nameCanonical": "",
                "nameSub": "MU 252D"
               },
               {
                "credits": 2,
                "curriculum_requisites": [],
                "id": 54,
                "metrics": {
                 "blocking factor": 0,
                 "centrality": 0,
                 "complexity": 1,
                 "delay factor": 1
                },
                "name": " ",
                "nameCanonical": "",
                "nameSub": "MU 425"
               },
               {
                "credits": 1,
                "curriculum_requisites": [],
                "id": 55,
                "metrics": {
                 "blocking factor": 0,
                 "centrality": 0,
                 "complexity": 1,
                 "delay factor": 1
                },
                "name": " ",
                "nameCanonical": "",
                "nameSub": "MU 471"
               },
               {
                "credits": 1,
                "curriculum_requisites": [],
                "id": 56,
                "metrics": {
                 "blocking factor": 0,
                 "centrality": 0,
                 "complexity": 1,
                 "delay factor": 1
                },
                "name": " ",
                "nameCanonical": "",
                "nameSub": "MU 472"
               },
               {
                "credits": 1,
                "curriculum_requisites": [],
                "id": 57,
                "metrics": {
                 "blocking factor": 0,
                 "centrality": 0,
                 "complexity": 1,
                 "delay factor": 1
                },
                "name": " ",
                "nameCanonical": "",
                "nameSub": "ENSEMBLE"
               },
               {
                "credits": 3,
                "curriculum_requisites": [],
                "id": 58,
                "metrics": {
                 "blocking factor": 0,
                 "centrality": 0,
                 "complexity": 1,
                 "delay factor": 1
                },
                "name": " ",
                "nameCanonical": "",
                "nameSub": "AUCC 3E"
               }
              ],
              "id": 7,
              "name": "Term 7"
             },
             {
              "curriculum_items": [
               {
                "credits": 6,
                "curriculum_requisites": [
                 {
                  "source_id": 51,
                  "target_id": 59,
                  "type": "CurriculumPrerequisite"
                 },
                 {
                  "source_id": 50,
                  "target_id": 59,
                  "type": "CurriculumPrerequisite"
                 },
                 {
                  "source_id": 60,
                  "target_id": 59,
                  "type": "CurriculumCorequisite"
                 }
                ],
                "id": 59,
                "metrics": {
                 "blocking factor": 0,
                 "centrality": 0,
                 "complexity": 8,
                 "delay factor": 8
                },
                "name": " ",
                "nameCanonical": "",
                "nameSub": "EDUC 485A"
               },
               {
                "credits": 6,
                "curriculum_requisites": [
                 {
                  "source_id": 51,
                  "target_id": 60,
                  "type": "CurriculumPrerequisite"
                 },
                 {
                  "source_id": 50,
                  "target_id": 60,
                  "type": "CurriculumPrerequisite"
                 },
                 {
                  "source_id": 61,
                  "target_id": 60,
                  "type": "CurriculumCorequisite"
                 }
                ],
                "id": 60,
                "metrics": {
                 "blocking factor": 1,
                 "centrality": 184,
                 "complexity": 9,
                 "delay factor": 8
                },
                "name": " ",
                "nameCanonical": "",
                "nameSub": "EDUC 485B"
               },
               {
                "credits": 1,
                "curriculum_requisites": [
                 {
                  "source_id": 50,
                  "target_id": 61,
                  "type": "CurriculumPrerequisite"
                 }
                ],
                "id": 61,
                "metrics": {
                 "blocking factor": 2,
                 "centrality": 94,
                 "complexity": 10,
                 "delay factor": 8
                },
                "name": " ",
                "nameCanonical": "",
                "nameSub": "EDUC 493A"
               },
               {
                "credits": 1,
                "curriculum_requisites": [],
                "id": 62,
                "metrics": {
                 "blocking factor": 0,
                 "centrality": 0,
                 "complexity": 1,
                 "delay factor": 1
                },
                "name": " ",
                "nameCanonical": "",
                "nameSub": "ELECTIVE"
               }
              ],
              "id": 8,
              "name": "Term 8"
             }
            ],
            "dp_name": "4-Year Plan",
            "institution": "Colorado State University",
            "name": "Music Education"
           },
           "options": {
            "edit": false,
            "hideTerms": false
           }
          }
         }
        },
        "systemjs_options": null
       },
       "nodeType": "Scope",
       "props": {},
       "type": "node"
      },
      "text/html": [
       "<div\n",
       "    class=\"webio-mountpoint\"\n",
       "    data-webio-mountpoint=\"2786708538776992047\"\n",
       ">\n",
       "    <script>\n",
       "    if (window.require && require.defined && require.defined(\"nbextensions/webio-jupyter-notebook\")) {\n",
       "        console.log(\"Jupyter WebIO extension detected, not mounting.\");\n",
       "    } else if (window.WebIO) {\n",
       "        WebIO.mount(\n",
       "            document.querySelector('[data-webio-mountpoint=\"2786708538776992047\"]'),\n",
       "            {\"props\":{},\"nodeType\":\"Scope\",\"type\":\"node\",\"instanceArgs\":{\"imports\":{\"data\":[],\"type\":\"async_block\"},\"id\":\"9011490339508951562\",\"handlers\":{},\"systemjs_options\":null,\"mount_callbacks\":[],\"observables\":{\"curriculum-data\":{\"sync\":true,\"id\":\"1765218350728805825\",\"value\":{\"options\":{\"hideTerms\":false,\"edit\":false},\"curriculum\":{\"name\":\"Music Education\",\"dp_name\":\"4-Year Plan\",\"curriculum_terms\":[{\"name\":\"Term 1\",\"curriculum_items\":[{\"curriculum_requisites\":[],\"name\":\" \",\"metrics\":{\"complexity\":3.0,\"centrality\":0,\"blocking factor\":1,\"delay factor\":2.0},\"nameSub\":\"CO 150\",\"id\":1,\"credits\":3,\"nameCanonical\":\"\"},{\"curriculum_requisites\":[],\"name\":\" \",\"metrics\":{\"complexity\":22.0,\"centrality\":0,\"blocking factor\":14,\"delay factor\":8.0},\"nameSub\":\"MU 117\",\"id\":2,\"credits\":3,\"nameCanonical\":\"\"},{\"curriculum_requisites\":[],\"name\":\" \",\"metrics\":{\"complexity\":7.0,\"centrality\":0,\"blocking factor\":3,\"delay factor\":4.0},\"nameSub\":\"MU 127\",\"id\":3,\"credits\":1,\"nameCanonical\":\"\"},{\"curriculum_requisites\":[],\"name\":\" \",\"metrics\":{\"complexity\":4.0,\"centrality\":0,\"blocking factor\":2,\"delay factor\":2.0},\"nameSub\":\"MU 131\",\"id\":4,\"credits\":3,\"nameCanonical\":\"\"},{\"curriculum_requisites\":[],\"name\":\" \",\"metrics\":{\"complexity\":3.0,\"centrality\":0,\"blocking factor\":1,\"delay factor\":2.0},\"nameSub\":\"MU 150\",\"id\":5,\"credits\":1,\"nameCanonical\":\"\"},{\"curriculum_requisites\":[],\"name\":\" \",\"metrics\":{\"complexity\":1.0,\"centrality\":0,\"blocking factor\":0,\"delay factor\":1.0},\"nameSub\":\"MU 251\",\"id\":6,\"credits\":1,\"nameCanonical\":\"\"},{\"curriculum_requisites\":[],\"name\":\" \",\"metrics\":{\"complexity\":1.0,\"centrality\":0,\"blocking factor\":0,\"delay factor\":1.0},\"nameSub\":\"MU 272\",\"id\":7,\"credits\":1,\"nameCanonical\":\"\"},{\"curriculum_requisites\":[],\"name\":\" \",\"metrics\":{\"complexity\":1.0,\"centrality\":0,\"blocking factor\":0,\"delay factor\":1.0},\"nameSub\":\"MU 286\",\"id\":8,\"credits\":3,\"nameCanonical\":\"\"},{\"curriculum_requisites\":[],\"name\":\" \",\"metrics\":{\"complexity\":1.0,\"centrality\":0,\"blocking factor\":0,\"delay factor\":1.0},\"nameSub\":\"ENSEMBLE\",\"id\":9,\"credits\":1,\"nameCanonical\":\"\"}],\"id\":1},{\"name\":\"Term 2\",\"curriculum_items\":[{\"curriculum_requisites\":[{\"source_id\":2,\"target_id\":10,\"type\":\"CurriculumPrerequisite\"}],\"name\":\" \",\"metrics\":{\"complexity\":19.0,\"centrality\":48,\"blocking factor\":11,\"delay factor\":8.0},\"nameSub\":\"MU 118\",\"id\":10,\"credits\":3,\"nameCanonical\":\"\"},{\"curriculum_requisites\":[{\"source_id\":3,\"target_id\":11,\"type\":\"CurriculumPrerequisite\"}],\"name\":\" \",\"metrics\":{\"complexity\":6.0,\"centrality\":4,\"blocking factor\":2,\"delay factor\":4.0},\"nameSub\":\"MU 128\",\"id\":11,\"credits\":1,\"nameCanonical\":\"\"},{\"curriculum_requisites\":[{\"source_id\":5,\"target_id\":12,\"type\":\"CurriculumPrerequisite\"}],\"name\":\" \",\"metrics\":{\"complexity\":2.0,\"centrality\":0,\"blocking factor\":0,\"delay factor\":2.0},\"nameSub\":\"MU 151A\",\"id\":12,\"credits\":1,\"nameCanonical\":\"\"},{\"curriculum_requisites\":[],\"name\":\" \",\"metrics\":{\"complexity\":1.0,\"centrality\":0,\"blocking factor\":0,\"delay factor\":1.0},\"nameSub\":\"MU 252B\",\"id\":13,\"credits\":2,\"nameCanonical\":\"\"},{\"curriculum_requisites\":[],\"name\":\" \",\"metrics\":{\"complexity\":1.0,\"centrality\":0,\"blocking factor\":0,\"delay factor\":1.0},\"nameSub\":\"MU 272\",\"id\":14,\"credits\":1,\"nameCanonical\":\"\"},{\"curriculum_requisites\":[],\"name\":\" \",\"metrics\":{\"complexity\":1.0,\"centrality\":0,\"blocking factor\":0,\"delay factor\":1.0},\"nameSub\":\"ENSEMBLE\",\"id\":15,\"credits\":1,\"nameCanonical\":\"\"},{\"curriculum_requisites\":[],\"name\":\" \",\"metrics\":{\"complexity\":1.0,\"centrality\":0,\"blocking factor\":0,\"delay factor\":1.0},\"nameSub\":\"AUCC 3B\",\"id\":16,\"credits\":3,\"nameCanonical\":\"\"},{\"curriculum_requisites\":[],\"name\":\" \",\"metrics\":{\"complexity\":1.0,\"centrality\":0,\"blocking factor\":0,\"delay factor\":1.0},\"nameSub\":\"AUCC MATH\",\"id\":17,\"credits\":3,\"nameCanonical\":\"\"}],\"id\":2},{\"name\":\"Term 3\",\"curriculum_items\":[{\"curriculum_requisites\":[],\"name\":\" \",\"metrics\":{\"complexity\":16.0,\"centrality\":0,\"blocking factor\":8,\"delay factor\":8.0},\"nameSub\":\"EDUC 275\",\"id\":18,\"credits\":3,\"nameCanonical\":\"\"},{\"curriculum_requisites\":[{\"source_id\":10,\"target_id\":19,\"type\":\"CurriculumPrerequisite\"}],\"name\":\" \",\"metrics\":{\"complexity\":16.0,\"centrality\":42,\"blocking factor\":8,\"delay factor\":8.0},\"nameSub\":\"MU 217\",\"id\":19,\"credits\":3,\"nameCanonical\":\"\"},{\"curriculum_requisites\":[{\"source_id\":11,\"target_id\":20,\"type\":\"CurriculumPrerequisite\"}],\"name\":\" \",\"metrics\":{\"complexity\":5.0,\"centrality\":4,\"blocking factor\":1,\"delay factor\":4.0},\"nameSub\":\"MU 227\",\"id\":20,\"credits\":1,\"nameCanonical\":\"\"},{\"curriculum_requisites\":[],\"name\":\" \",\"metrics\":{\"complexity\":1.0,\"centrality\":0,\"blocking factor\":0,\"delay factor\":1.0},\"nameSub\":\"MU 252C\",\"id\":21,\"credits\":1,\"nameCanonical\":\"\"},{\"curriculum_requisites\":[],\"name\":\" \",\"metrics\":{\"complexity\":1.0,\"centrality\":0,\"blocking factor\":0,\"delay factor\":1.0},\"nameSub\":\"MU 272\",\"id\":22,\"credits\":1,\"nameCanonical\":\"\"},{\"curriculum_requisites\":[],\"name\":\" \",\"metrics\":{\"complexity\":1.0,\"centrality\":0,\"blocking factor\":0,\"delay factor\":1.0},\"nameSub\":\"ENSEMBLE\",\"id\":23,\"credits\":1,\"nameCanonical\":\"\"},{\"curriculum_requisites\":[{\"source_id\":1,\"target_id\":24,\"type\":\"CurriculumPrerequisite\"}],\"name\":\" \",\"metrics\":{\"complexity\":2.0,\"centrality\":0,\"blocking factor\":0,\"delay factor\":2.0},\"nameSub\":\"AUCC Advanced Writing\",\"id\":24,\"credits\":3,\"nameCanonical\":\"\"},{\"curriculum_requisites\":[],\"name\":\" \",\"metrics\":{\"complexity\":1.0,\"centrality\":0,\"blocking factor\":0,\"delay factor\":1.0},\"nameSub\":\"AUCC 3D\",\"id\":25,\"credits\":3,\"nameCanonical\":\"\"}],\"id\":3},{\"name\":\"Term 4\",\"curriculum_items\":[{\"curriculum_requisites\":[],\"name\":\" \",\"metrics\":{\"complexity\":16.0,\"centrality\":0,\"blocking factor\":8,\"delay factor\":8.0},\"nameSub\":\"EDUC 340\",\"id\":26,\"credits\":3,\"nameCanonical\":\"\"},{\"curriculum_requisites\":[{\"source_id\":19,\"target_id\":27,\"type\":\"CurriculumPrerequisite\"}],\"name\":\" \",\"metrics\":{\"complexity\":7.0,\"centrality\":10,\"blocking factor\":2,\"delay factor\":5.0},\"nameSub\":\"MU 218\",\"id\":27,\"credits\":3,\"nameCanonical\":\"\"},{\"curriculum_requisites\":[{\"source_id\":20,\"target_id\":28,\"type\":\"CurriculumPrerequisite\"}],\"name\":\" \",\"metrics\":{\"complexity\":4.0,\"centrality\":0,\"blocking factor\":0,\"delay factor\":4.0},\"nameSub\":\"MU 228\",\"id\":28,\"credits\":1,\"nameCanonical\":\"\"},{\"curriculum_requisites\":[],\"name\":\" \",\"metrics\":{\"complexity\":1.0,\"centrality\":0,\"blocking factor\":0,\"delay factor\":1.0},\"nameSub\":\"MU 252A\",\"id\":29,\"credits\":2,\"nameCanonical\":\"\"},{\"curriculum_requisites\":[],\"name\":\" \",\"metrics\":{\"complexity\":1.0,\"centrality\":0,\"blocking factor\":0,\"delay factor\":1.0},\"nameSub\":\"MU 272\",\"id\":30,\"credits\":1,\"nameCanonical\":\"\"},{\"curriculum_requisites\":[],\"name\":\" \",\"metrics\":{\"complexity\":1.0,\"centrality\":0,\"blocking factor\":0,\"delay factor\":1.0},\"nameSub\":\"ENSEMBLE\",\"id\":31,\"credits\":1,\"nameCanonical\":\"\"},{\"curriculum_requisites\":[],\"name\":\" \",\"metrics\":{\"complexity\":1.0,\"centrality\":0,\"blocking factor\":0,\"delay factor\":1.0},\"nameSub\":\"AUCC 3A\",\"id\":32,\"credits\":4,\"nameCanonical\":\"\"}],\"id\":4},{\"name\":\"Term 5\",\"curriculum_items\":[{\"curriculum_requisites\":[{\"source_id\":18,\"target_id\":33,\"type\":\"CurriculumPrerequisite\"},{\"source_id\":26,\"target_id\":33,\"type\":\"CurriculumPrerequisite\"}],\"name\":\" \",\"metrics\":{\"complexity\":10.0,\"centrality\":30,\"blocking factor\":4,\"delay factor\":6.0},\"nameSub\":\"EDUC 331\",\"id\":33,\"credits\":2,\"nameCanonical\":\"\"},{\"curriculum_requisites\":[],\"name\":\" \",\"metrics\":{\"complexity\":1.0,\"centrality\":0,\"blocking factor\":0,\"delay factor\":1.0},\"nameSub\":\"EDUC 474\",\"id\":34,\"credits\":2,\"nameCanonical\":\"\"},{\"curriculum_requisites\":[{\"source_id\":2,\"target_id\":35,\"type\":\"CurriculumPrerequisite\"}],\"name\":\" \",\"metrics\":{\"complexity\":4.0,\"centrality\":3,\"blocking factor\":1,\"delay factor\":3.0},\"nameSub\":\"MU 254\",\"id\":35,\"credits\":2,\"nameCanonical\":\"\"},{\"curriculum_requisites\":[{\"source_id\":27,\"target_id\":36,\"type\":\"CurriculumPrerequisite\"}],\"name\":\" \",\"metrics\":{\"complexity\":5.0,\"centrality\":0,\"blocking factor\":0,\"delay factor\":5.0},\"nameSub\":\"MU 317\",\"id\":36,\"credits\":2,\"nameCanonical\":\"\"},{\"curriculum_requisites\":[{\"source_id\":4,\"target_id\":37,\"type\":\"CurriculumPrerequisite\"},{\"source_id\":10,\"target_id\":37,\"type\":\"CurriculumPrerequisite\"}],\"name\":\" \",\"metrics\":{\"complexity\":3.0,\"centrality\":0,\"blocking factor\":0,\"delay factor\":3.0},\"nameSub\":\"MU 334\",\"id\":37,\"credits\":3,\"nameCanonical\":\"\"},{\"curriculum_requisites\":[],\"name\":\" \",\"metrics\":{\"complexity\":1.0,\"centrality\":0,\"blocking factor\":0,\"delay factor\":1.0},\"nameSub\":\"MU 472\",\"id\":38,\"credits\":1,\"nameCanonical\":\"\"},{\"curriculum_requisites\":[],\"name\":\" \",\"metrics\":{\"complexity\":1.0,\"centrality\":0,\"blocking factor\":0,\"delay factor\":1.0},\"nameSub\":\"ENSEMBLE\",\"id\":39,\"credits\":1,\"nameCanonical\":\"\"},{\"curriculum_requisites\":[],\"name\":\" \",\"metrics\":{\"complexity\":1.0,\"centrality\":0,\"blocking factor\":0,\"delay factor\":1.0},\"nameSub\":\"AUCC 3A\",\"id\":40,\"credits\":3,\"nameCanonical\":\"\"}],\"id\":5},{\"name\":\"Term 6\",\"curriculum_items\":[{\"curriculum_requisites\":[{\"source_id\":18,\"target_id\":41,\"type\":\"CurriculumPrerequisite\"},{\"source_id\":26,\"target_id\":41,\"type\":\"CurriculumPrerequisite\"},{\"source_id\":42,\"target_id\":41,\"type\":\"CurriculumCorequisite\"}],\"name\":\" \",\"metrics\":{\"complexity\":12.0,\"centrality\":108,\"blocking factor\":4,\"delay factor\":8.0},\"nameSub\":\"EDUC 350\",\"id\":41,\"credits\":3,\"nameCanonical\":\"\"},{\"curriculum_requisites\":[{\"source_id\":43,\"target_id\":42,\"type\":\"CurriculumCorequisite\"},{\"source_id\":18,\"target_id\":42,\"type\":\"CurriculumPrerequisite\"},{\"source_id\":26,\"target_id\":42,\"type\":\"CurriculumPrerequisite\"}],\"name\":\" \",\"metrics\":{\"complexity\":13.0,\"centrality\":144,\"blocking factor\":5,\"delay factor\":8.0},\"nameSub\":\"EDUC 386\",\"id\":42,\"credits\":1,\"nameCanonical\":\"\"},{\"curriculum_requisites\":[{\"source_id\":18,\"target_id\":43,\"type\":\"CurriculumPrerequisite\"},{\"source_id\":26,\"target_id\":43,\"type\":\"CurriculumPrerequisite\"}],\"name\":\" \",\"metrics\":{\"complexity\":14.0,\"centrality\":78,\"blocking factor\":6,\"delay factor\":8.0},\"nameSub\":\"EDUC 475\",\"id\":43,\"credits\":1,\"nameCanonical\":\"\"},{\"curriculum_requisites\":[{\"source_id\":27,\"target_id\":44,\"type\":\"CurriculumPrerequisite\"}],\"name\":\" \",\"metrics\":{\"complexity\":5.0,\"centrality\":0,\"blocking factor\":0,\"delay factor\":5.0},\"nameSub\":\"MU 318\",\"id\":44,\"credits\":1,\"nameCanonical\":\"\"},{\"curriculum_requisites\":[{\"source_id\":4,\"target_id\":45,\"type\":\"CurriculumPrerequisite\"},{\"source_id\":10,\"target_id\":45,\"type\":\"CurriculumPrerequisite\"}],\"name\":\" \",\"metrics\":{\"complexity\":3.0,\"centrality\":0,\"blocking factor\":0,\"delay factor\":3.0},\"nameSub\":\"MU 335\",\"id\":45,\"credits\":1,\"nameCanonical\":\"\"},{\"curriculum_requisites\":[{\"source_id\":35,\"target_id\":46,\"type\":\"CurriculumPrerequisite\"}],\"name\":\" \",\"metrics\":{\"complexity\":3.0,\"centrality\":0,\"blocking factor\":0,\"delay factor\":3.0},\"nameSub\":\"MU 356\",\"id\":46,\"credits\":1,\"nameCanonical\":\"\"},{\"curriculum_requisites\":[],\"name\":\" \",\"metrics\":{\"complexity\":1.0,\"centrality\":0,\"blocking factor\":0,\"delay factor\":1.0},\"nameSub\":\"MU ELECTIVE\",\"id\":47,\"credits\":1,\"nameCanonical\":\"\"},{\"curriculum_requisites\":[],\"name\":\" \",\"metrics\":{\"complexity\":1.0,\"centrality\":0,\"blocking factor\":0,\"delay factor\":1.0},\"nameSub\":\"MU 472\",\"id\":48,\"credits\":1,\"nameCanonical\":\"\"},{\"curriculum_requisites\":[],\"name\":\" \",\"metrics\":{\"complexity\":1.0,\"centrality\":0,\"blocking factor\":0,\"delay factor\":1.0},\"nameSub\":\"ENSEMBLE\",\"id\":49,\"credits\":1,\"nameCanonical\":\"\"}],\"id\":6},{\"name\":\"Term 7\",\"curriculum_items\":[{\"curriculum_requisites\":[{\"source_id\":51,\"target_id\":50,\"type\":\"CurriculumCorequisite\"},{\"source_id\":41,\"target_id\":50,\"type\":\"CurriculumPrerequisite\"},{\"source_id\":33,\"target_id\":50,\"type\":\"CurriculumPrerequisite\"},{\"source_id\":42,\"target_id\":50,\"type\":\"CurriculumPrerequisite\"}],\"name\":\" \",\"metrics\":{\"complexity\":11.0,\"centrality\":240,\"blocking factor\":3,\"delay factor\":8.0},\"nameSub\":\"EDUC 450\",\"id\":50,\"credits\":4,\"nameCanonical\":\"\"},{\"curriculum_requisites\":[{\"source_id\":52,\"target_id\":51,\"type\":\"CurriculumCorequisite\"},{\"source_id\":19,\"target_id\":51,\"type\":\"CurriculumPrerequisite\"}],\"name\":\" \",\"metrics\":{\"complexity\":12.0,\"centrality\":54,\"blocking factor\":4,\"delay factor\":8.0},\"nameSub\":\"EDUC 477\",\"id\":51,\"credits\":2,\"nameCanonical\":\"\"},{\"curriculum_requisites\":[],\"name\":\" \",\"metrics\":{\"complexity\":11.0,\"centrality\":0,\"blocking factor\":5,\"delay factor\":6.0},\"nameSub\":\"EDUC 486E\",\"id\":52,\"credits\":1,\"nameCanonical\":\"\"},{\"curriculum_requisites\":[],\"name\":\" \",\"metrics\":{\"complexity\":1.0,\"centrality\":0,\"blocking factor\":0,\"delay factor\":1.0},\"nameSub\":\"MU 252D\",\"id\":53,\"credits\":1,\"nameCanonical\":\"\"},{\"curriculum_requisites\":[],\"name\":\" \",\"metrics\":{\"complexity\":1.0,\"centrality\":0,\"blocking factor\":0,\"delay factor\":1.0},\"nameSub\":\"MU 425\",\"id\":54,\"credits\":2,\"nameCanonical\":\"\"},{\"curriculum_requisites\":[],\"name\":\" \",\"metrics\":{\"complexity\":1.0,\"centrality\":0,\"blocking factor\":0,\"delay factor\":1.0},\"nameSub\":\"MU 471\",\"id\":55,\"credits\":1,\"nameCanonical\":\"\"},{\"curriculum_requisites\":[],\"name\":\" \",\"metrics\":{\"complexity\":1.0,\"centrality\":0,\"blocking factor\":0,\"delay factor\":1.0},\"nameSub\":\"MU 472\",\"id\":56,\"credits\":1,\"nameCanonical\":\"\"},{\"curriculum_requisites\":[],\"name\":\" \",\"metrics\":{\"complexity\":1.0,\"centrality\":0,\"blocking factor\":0,\"delay factor\":1.0},\"nameSub\":\"ENSEMBLE\",\"id\":57,\"credits\":1,\"nameCanonical\":\"\"},{\"curriculum_requisites\":[],\"name\":\" \",\"metrics\":{\"complexity\":1.0,\"centrality\":0,\"blocking factor\":0,\"delay factor\":1.0},\"nameSub\":\"AUCC 3E\",\"id\":58,\"credits\":3,\"nameCanonical\":\"\"}],\"id\":7},{\"name\":\"Term 8\",\"curriculum_items\":[{\"curriculum_requisites\":[{\"source_id\":51,\"target_id\":59,\"type\":\"CurriculumPrerequisite\"},{\"source_id\":50,\"target_id\":59,\"type\":\"CurriculumPrerequisite\"},{\"source_id\":60,\"target_id\":59,\"type\":\"CurriculumCorequisite\"}],\"name\":\" \",\"metrics\":{\"complexity\":8.0,\"centrality\":0,\"blocking factor\":0,\"delay factor\":8.0},\"nameSub\":\"EDUC 485A\",\"id\":59,\"credits\":6,\"nameCanonical\":\"\"},{\"curriculum_requisites\":[{\"source_id\":51,\"target_id\":60,\"type\":\"CurriculumPrerequisite\"},{\"source_id\":50,\"target_id\":60,\"type\":\"CurriculumPrerequisite\"},{\"source_id\":61,\"target_id\":60,\"type\":\"CurriculumCorequisite\"}],\"name\":\" \",\"metrics\":{\"complexity\":9.0,\"centrality\":184,\"blocking factor\":1,\"delay factor\":8.0},\"nameSub\":\"EDUC 485B\",\"id\":60,\"credits\":6,\"nameCanonical\":\"\"},{\"curriculum_requisites\":[{\"source_id\":50,\"target_id\":61,\"type\":\"CurriculumPrerequisite\"}],\"name\":\" \",\"metrics\":{\"complexity\":10.0,\"centrality\":94,\"blocking factor\":2,\"delay factor\":8.0},\"nameSub\":\"EDUC 493A\",\"id\":61,\"credits\":1,\"nameCanonical\":\"\"},{\"curriculum_requisites\":[],\"name\":\" \",\"metrics\":{\"complexity\":1.0,\"centrality\":0,\"blocking factor\":0,\"delay factor\":1.0},\"nameSub\":\"ELECTIVE\",\"id\":62,\"credits\":1,\"nameCanonical\":\"\"}],\"id\":8}],\"institution\":\"Colorado State University\"}}}}},\"children\":[{\"props\":{\"src\":\"https:\\/\\/curricula-api-embed.damoursystems.com\\/\",\"id\":\"curriculum\",\"events\":{\"load\":\"(function (){this.contentWindow.postMessage({\\\"options\\\":{\\\"hideTerms\\\":false,\\\"edit\\\":false},\\\"curriculum\\\":{\\\"name\\\":\\\"Music Education\\\",\\\"dp_name\\\":\\\"4-Year Plan\\\",\\\"curriculum_terms\\\":[{\\\"name\\\":\\\"Term 1\\\",\\\"curriculum_items\\\":[{\\\"curriculum_requisites\\\":[],\\\"name\\\":\\\" \\\",\\\"metrics\\\":{\\\"complexity\\\":3.0,\\\"centrality\\\":0,\\\"blocking factor\\\":1,\\\"delay factor\\\":2.0},\\\"nameSub\\\":\\\"CO 150\\\",\\\"id\\\":1,\\\"credits\\\":3,\\\"nameCanonical\\\":\\\"\\\"},{\\\"curriculum_requisites\\\":[],\\\"name\\\":\\\" \\\",\\\"metrics\\\":{\\\"complexity\\\":22.0,\\\"centrality\\\":0,\\\"blocking factor\\\":14,\\\"delay factor\\\":8.0},\\\"nameSub\\\":\\\"MU 117\\\",\\\"id\\\":2,\\\"credits\\\":3,\\\"nameCanonical\\\":\\\"\\\"},{\\\"curriculum_requisites\\\":[],\\\"name\\\":\\\" \\\",\\\"metrics\\\":{\\\"complexity\\\":7.0,\\\"centrality\\\":0,\\\"blocking factor\\\":3,\\\"delay factor\\\":4.0},\\\"nameSub\\\":\\\"MU 127\\\",\\\"id\\\":3,\\\"credits\\\":1,\\\"nameCanonical\\\":\\\"\\\"},{\\\"curriculum_requisites\\\":[],\\\"name\\\":\\\" \\\",\\\"metrics\\\":{\\\"complexity\\\":4.0,\\\"centrality\\\":0,\\\"blocking factor\\\":2,\\\"delay factor\\\":2.0},\\\"nameSub\\\":\\\"MU 131\\\",\\\"id\\\":4,\\\"credits\\\":3,\\\"nameCanonical\\\":\\\"\\\"},{\\\"curriculum_requisites\\\":[],\\\"name\\\":\\\" \\\",\\\"metrics\\\":{\\\"complexity\\\":3.0,\\\"centrality\\\":0,\\\"blocking factor\\\":1,\\\"delay factor\\\":2.0},\\\"nameSub\\\":\\\"MU 150\\\",\\\"id\\\":5,\\\"credits\\\":1,\\\"nameCanonical\\\":\\\"\\\"},{\\\"curriculum_requisites\\\":[],\\\"name\\\":\\\" \\\",\\\"metrics\\\":{\\\"complexity\\\":1.0,\\\"centrality\\\":0,\\\"blocking factor\\\":0,\\\"delay factor\\\":1.0},\\\"nameSub\\\":\\\"MU 251\\\",\\\"id\\\":6,\\\"credits\\\":1,\\\"nameCanonical\\\":\\\"\\\"},{\\\"curriculum_requisites\\\":[],\\\"name\\\":\\\" \\\",\\\"metrics\\\":{\\\"complexity\\\":1.0,\\\"centrality\\\":0,\\\"blocking factor\\\":0,\\\"delay factor\\\":1.0},\\\"nameSub\\\":\\\"MU 272\\\",\\\"id\\\":7,\\\"credits\\\":1,\\\"nameCanonical\\\":\\\"\\\"},{\\\"curriculum_requisites\\\":[],\\\"name\\\":\\\" \\\",\\\"metrics\\\":{\\\"complexity\\\":1.0,\\\"centrality\\\":0,\\\"blocking factor\\\":0,\\\"delay factor\\\":1.0},\\\"nameSub\\\":\\\"MU 286\\\",\\\"id\\\":8,\\\"credits\\\":3,\\\"nameCanonical\\\":\\\"\\\"},{\\\"curriculum_requisites\\\":[],\\\"name\\\":\\\" \\\",\\\"metrics\\\":{\\\"complexity\\\":1.0,\\\"centrality\\\":0,\\\"blocking factor\\\":0,\\\"delay factor\\\":1.0},\\\"nameSub\\\":\\\"ENSEMBLE\\\",\\\"id\\\":9,\\\"credits\\\":1,\\\"nameCanonical\\\":\\\"\\\"}],\\\"id\\\":1},{\\\"name\\\":\\\"Term 2\\\",\\\"curriculum_items\\\":[{\\\"curriculum_requisites\\\":[{\\\"source_id\\\":2,\\\"target_id\\\":10,\\\"type\\\":\\\"CurriculumPrerequisite\\\"}],\\\"name\\\":\\\" \\\",\\\"metrics\\\":{\\\"complexity\\\":19.0,\\\"centrality\\\":48,\\\"blocking factor\\\":11,\\\"delay factor\\\":8.0},\\\"nameSub\\\":\\\"MU 118\\\",\\\"id\\\":10,\\\"credits\\\":3,\\\"nameCanonical\\\":\\\"\\\"},{\\\"curriculum_requisites\\\":[{\\\"source_id\\\":3,\\\"target_id\\\":11,\\\"type\\\":\\\"CurriculumPrerequisite\\\"}],\\\"name\\\":\\\" \\\",\\\"metrics\\\":{\\\"complexity\\\":6.0,\\\"centrality\\\":4,\\\"blocking factor\\\":2,\\\"delay factor\\\":4.0},\\\"nameSub\\\":\\\"MU 128\\\",\\\"id\\\":11,\\\"credits\\\":1,\\\"nameCanonical\\\":\\\"\\\"},{\\\"curriculum_requisites\\\":[{\\\"source_id\\\":5,\\\"target_id\\\":12,\\\"type\\\":\\\"CurriculumPrerequisite\\\"}],\\\"name\\\":\\\" \\\",\\\"metrics\\\":{\\\"complexity\\\":2.0,\\\"centrality\\\":0,\\\"blocking factor\\\":0,\\\"delay factor\\\":2.0},\\\"nameSub\\\":\\\"MU 151A\\\",\\\"id\\\":12,\\\"credits\\\":1,\\\"nameCanonical\\\":\\\"\\\"},{\\\"curriculum_requisites\\\":[],\\\"name\\\":\\\" \\\",\\\"metrics\\\":{\\\"complexity\\\":1.0,\\\"centrality\\\":0,\\\"blocking factor\\\":0,\\\"delay factor\\\":1.0},\\\"nameSub\\\":\\\"MU 252B\\\",\\\"id\\\":13,\\\"credits\\\":2,\\\"nameCanonical\\\":\\\"\\\"},{\\\"curriculum_requisites\\\":[],\\\"name\\\":\\\" \\\",\\\"metrics\\\":{\\\"complexity\\\":1.0,\\\"centrality\\\":0,\\\"blocking factor\\\":0,\\\"delay factor\\\":1.0},\\\"nameSub\\\":\\\"MU 272\\\",\\\"id\\\":14,\\\"credits\\\":1,\\\"nameCanonical\\\":\\\"\\\"},{\\\"curriculum_requisites\\\":[],\\\"name\\\":\\\" \\\",\\\"metrics\\\":{\\\"complexity\\\":1.0,\\\"centrality\\\":0,\\\"blocking factor\\\":0,\\\"delay factor\\\":1.0},\\\"nameSub\\\":\\\"ENSEMBLE\\\",\\\"id\\\":15,\\\"credits\\\":1,\\\"nameCanonical\\\":\\\"\\\"},{\\\"curriculum_requisites\\\":[],\\\"name\\\":\\\" \\\",\\\"metrics\\\":{\\\"complexity\\\":1.0,\\\"centrality\\\":0,\\\"blocking factor\\\":0,\\\"delay factor\\\":1.0},\\\"nameSub\\\":\\\"AUCC 3B\\\",\\\"id\\\":16,\\\"credits\\\":3,\\\"nameCanonical\\\":\\\"\\\"},{\\\"curriculum_requisites\\\":[],\\\"name\\\":\\\" \\\",\\\"metrics\\\":{\\\"complexity\\\":1.0,\\\"centrality\\\":0,\\\"blocking factor\\\":0,\\\"delay factor\\\":1.0},\\\"nameSub\\\":\\\"AUCC MATH\\\",\\\"id\\\":17,\\\"credits\\\":3,\\\"nameCanonical\\\":\\\"\\\"}],\\\"id\\\":2},{\\\"name\\\":\\\"Term 3\\\",\\\"curriculum_items\\\":[{\\\"curriculum_requisites\\\":[],\\\"name\\\":\\\" \\\",\\\"metrics\\\":{\\\"complexity\\\":16.0,\\\"centrality\\\":0,\\\"blocking factor\\\":8,\\\"delay factor\\\":8.0},\\\"nameSub\\\":\\\"EDUC 275\\\",\\\"id\\\":18,\\\"credits\\\":3,\\\"nameCanonical\\\":\\\"\\\"},{\\\"curriculum_requisites\\\":[{\\\"source_id\\\":10,\\\"target_id\\\":19,\\\"type\\\":\\\"CurriculumPrerequisite\\\"}],\\\"name\\\":\\\" \\\",\\\"metrics\\\":{\\\"complexity\\\":16.0,\\\"centrality\\\":42,\\\"blocking factor\\\":8,\\\"delay factor\\\":8.0},\\\"nameSub\\\":\\\"MU 217\\\",\\\"id\\\":19,\\\"credits\\\":3,\\\"nameCanonical\\\":\\\"\\\"},{\\\"curriculum_requisites\\\":[{\\\"source_id\\\":11,\\\"target_id\\\":20,\\\"type\\\":\\\"CurriculumPrerequisite\\\"}],\\\"name\\\":\\\" \\\",\\\"metrics\\\":{\\\"complexity\\\":5.0,\\\"centrality\\\":4,\\\"blocking factor\\\":1,\\\"delay factor\\\":4.0},\\\"nameSub\\\":\\\"MU 227\\\",\\\"id\\\":20,\\\"credits\\\":1,\\\"nameCanonical\\\":\\\"\\\"},{\\\"curriculum_requisites\\\":[],\\\"name\\\":\\\" \\\",\\\"metrics\\\":{\\\"complexity\\\":1.0,\\\"centrality\\\":0,\\\"blocking factor\\\":0,\\\"delay factor\\\":1.0},\\\"nameSub\\\":\\\"MU 252C\\\",\\\"id\\\":21,\\\"credits\\\":1,\\\"nameCanonical\\\":\\\"\\\"},{\\\"curriculum_requisites\\\":[],\\\"name\\\":\\\" \\\",\\\"metrics\\\":{\\\"complexity\\\":1.0,\\\"centrality\\\":0,\\\"blocking factor\\\":0,\\\"delay factor\\\":1.0},\\\"nameSub\\\":\\\"MU 272\\\",\\\"id\\\":22,\\\"credits\\\":1,\\\"nameCanonical\\\":\\\"\\\"},{\\\"curriculum_requisites\\\":[],\\\"name\\\":\\\" \\\",\\\"metrics\\\":{\\\"complexity\\\":1.0,\\\"centrality\\\":0,\\\"blocking factor\\\":0,\\\"delay factor\\\":1.0},\\\"nameSub\\\":\\\"ENSEMBLE\\\",\\\"id\\\":23,\\\"credits\\\":1,\\\"nameCanonical\\\":\\\"\\\"},{\\\"curriculum_requisites\\\":[{\\\"source_id\\\":1,\\\"target_id\\\":24,\\\"type\\\":\\\"CurriculumPrerequisite\\\"}],\\\"name\\\":\\\" \\\",\\\"metrics\\\":{\\\"complexity\\\":2.0,\\\"centrality\\\":0,\\\"blocking factor\\\":0,\\\"delay factor\\\":2.0},\\\"nameSub\\\":\\\"AUCC Advanced Writing\\\",\\\"id\\\":24,\\\"credits\\\":3,\\\"nameCanonical\\\":\\\"\\\"},{\\\"curriculum_requisites\\\":[],\\\"name\\\":\\\" \\\",\\\"metrics\\\":{\\\"complexity\\\":1.0,\\\"centrality\\\":0,\\\"blocking factor\\\":0,\\\"delay factor\\\":1.0},\\\"nameSub\\\":\\\"AUCC 3D\\\",\\\"id\\\":25,\\\"credits\\\":3,\\\"nameCanonical\\\":\\\"\\\"}],\\\"id\\\":3},{\\\"name\\\":\\\"Term 4\\\",\\\"curriculum_items\\\":[{\\\"curriculum_requisites\\\":[],\\\"name\\\":\\\" \\\",\\\"metrics\\\":{\\\"complexity\\\":16.0,\\\"centrality\\\":0,\\\"blocking factor\\\":8,\\\"delay factor\\\":8.0},\\\"nameSub\\\":\\\"EDUC 340\\\",\\\"id\\\":26,\\\"credits\\\":3,\\\"nameCanonical\\\":\\\"\\\"},{\\\"curriculum_requisites\\\":[{\\\"source_id\\\":19,\\\"target_id\\\":27,\\\"type\\\":\\\"CurriculumPrerequisite\\\"}],\\\"name\\\":\\\" \\\",\\\"metrics\\\":{\\\"complexity\\\":7.0,\\\"centrality\\\":10,\\\"blocking factor\\\":2,\\\"delay factor\\\":5.0},\\\"nameSub\\\":\\\"MU 218\\\",\\\"id\\\":27,\\\"credits\\\":3,\\\"nameCanonical\\\":\\\"\\\"},{\\\"curriculum_requisites\\\":[{\\\"source_id\\\":20,\\\"target_id\\\":28,\\\"type\\\":\\\"CurriculumPrerequisite\\\"}],\\\"name\\\":\\\" \\\",\\\"metrics\\\":{\\\"complexity\\\":4.0,\\\"centrality\\\":0,\\\"blocking factor\\\":0,\\\"delay factor\\\":4.0},\\\"nameSub\\\":\\\"MU 228\\\",\\\"id\\\":28,\\\"credits\\\":1,\\\"nameCanonical\\\":\\\"\\\"},{\\\"curriculum_requisites\\\":[],\\\"name\\\":\\\" \\\",\\\"metrics\\\":{\\\"complexity\\\":1.0,\\\"centrality\\\":0,\\\"blocking factor\\\":0,\\\"delay factor\\\":1.0},\\\"nameSub\\\":\\\"MU 252A\\\",\\\"id\\\":29,\\\"credits\\\":2,\\\"nameCanonical\\\":\\\"\\\"},{\\\"curriculum_requisites\\\":[],\\\"name\\\":\\\" \\\",\\\"metrics\\\":{\\\"complexity\\\":1.0,\\\"centrality\\\":0,\\\"blocking factor\\\":0,\\\"delay factor\\\":1.0},\\\"nameSub\\\":\\\"MU 272\\\",\\\"id\\\":30,\\\"credits\\\":1,\\\"nameCanonical\\\":\\\"\\\"},{\\\"curriculum_requisites\\\":[],\\\"name\\\":\\\" \\\",\\\"metrics\\\":{\\\"complexity\\\":1.0,\\\"centrality\\\":0,\\\"blocking factor\\\":0,\\\"delay factor\\\":1.0},\\\"nameSub\\\":\\\"ENSEMBLE\\\",\\\"id\\\":31,\\\"credits\\\":1,\\\"nameCanonical\\\":\\\"\\\"},{\\\"curriculum_requisites\\\":[],\\\"name\\\":\\\" \\\",\\\"metrics\\\":{\\\"complexity\\\":1.0,\\\"centrality\\\":0,\\\"blocking factor\\\":0,\\\"delay factor\\\":1.0},\\\"nameSub\\\":\\\"AUCC 3A\\\",\\\"id\\\":32,\\\"credits\\\":4,\\\"nameCanonical\\\":\\\"\\\"}],\\\"id\\\":4},{\\\"name\\\":\\\"Term 5\\\",\\\"curriculum_items\\\":[{\\\"curriculum_requisites\\\":[{\\\"source_id\\\":18,\\\"target_id\\\":33,\\\"type\\\":\\\"CurriculumPrerequisite\\\"},{\\\"source_id\\\":26,\\\"target_id\\\":33,\\\"type\\\":\\\"CurriculumPrerequisite\\\"}],\\\"name\\\":\\\" \\\",\\\"metrics\\\":{\\\"complexity\\\":10.0,\\\"centrality\\\":30,\\\"blocking factor\\\":4,\\\"delay factor\\\":6.0},\\\"nameSub\\\":\\\"EDUC 331\\\",\\\"id\\\":33,\\\"credits\\\":2,\\\"nameCanonical\\\":\\\"\\\"},{\\\"curriculum_requisites\\\":[],\\\"name\\\":\\\" \\\",\\\"metrics\\\":{\\\"complexity\\\":1.0,\\\"centrality\\\":0,\\\"blocking factor\\\":0,\\\"delay factor\\\":1.0},\\\"nameSub\\\":\\\"EDUC 474\\\",\\\"id\\\":34,\\\"credits\\\":2,\\\"nameCanonical\\\":\\\"\\\"},{\\\"curriculum_requisites\\\":[{\\\"source_id\\\":2,\\\"target_id\\\":35,\\\"type\\\":\\\"CurriculumPrerequisite\\\"}],\\\"name\\\":\\\" \\\",\\\"metrics\\\":{\\\"complexity\\\":4.0,\\\"centrality\\\":3,\\\"blocking factor\\\":1,\\\"delay factor\\\":3.0},\\\"nameSub\\\":\\\"MU 254\\\",\\\"id\\\":35,\\\"credits\\\":2,\\\"nameCanonical\\\":\\\"\\\"},{\\\"curriculum_requisites\\\":[{\\\"source_id\\\":27,\\\"target_id\\\":36,\\\"type\\\":\\\"CurriculumPrerequisite\\\"}],\\\"name\\\":\\\" \\\",\\\"metrics\\\":{\\\"complexity\\\":5.0,\\\"centrality\\\":0,\\\"blocking factor\\\":0,\\\"delay factor\\\":5.0},\\\"nameSub\\\":\\\"MU 317\\\",\\\"id\\\":36,\\\"credits\\\":2,\\\"nameCanonical\\\":\\\"\\\"},{\\\"curriculum_requisites\\\":[{\\\"source_id\\\":4,\\\"target_id\\\":37,\\\"type\\\":\\\"CurriculumPrerequisite\\\"},{\\\"source_id\\\":10,\\\"target_id\\\":37,\\\"type\\\":\\\"CurriculumPrerequisite\\\"}],\\\"name\\\":\\\" \\\",\\\"metrics\\\":{\\\"complexity\\\":3.0,\\\"centrality\\\":0,\\\"blocking factor\\\":0,\\\"delay factor\\\":3.0},\\\"nameSub\\\":\\\"MU 334\\\",\\\"id\\\":37,\\\"credits\\\":3,\\\"nameCanonical\\\":\\\"\\\"},{\\\"curriculum_requisites\\\":[],\\\"name\\\":\\\" \\\",\\\"metrics\\\":{\\\"complexity\\\":1.0,\\\"centrality\\\":0,\\\"blocking factor\\\":0,\\\"delay factor\\\":1.0},\\\"nameSub\\\":\\\"MU 472\\\",\\\"id\\\":38,\\\"credits\\\":1,\\\"nameCanonical\\\":\\\"\\\"},{\\\"curriculum_requisites\\\":[],\\\"name\\\":\\\" \\\",\\\"metrics\\\":{\\\"complexity\\\":1.0,\\\"centrality\\\":0,\\\"blocking factor\\\":0,\\\"delay factor\\\":1.0},\\\"nameSub\\\":\\\"ENSEMBLE\\\",\\\"id\\\":39,\\\"credits\\\":1,\\\"nameCanonical\\\":\\\"\\\"},{\\\"curriculum_requisites\\\":[],\\\"name\\\":\\\" \\\",\\\"metrics\\\":{\\\"complexity\\\":1.0,\\\"centrality\\\":0,\\\"blocking factor\\\":0,\\\"delay factor\\\":1.0},\\\"nameSub\\\":\\\"AUCC 3A\\\",\\\"id\\\":40,\\\"credits\\\":3,\\\"nameCanonical\\\":\\\"\\\"}],\\\"id\\\":5},{\\\"name\\\":\\\"Term 6\\\",\\\"curriculum_items\\\":[{\\\"curriculum_requisites\\\":[{\\\"source_id\\\":18,\\\"target_id\\\":41,\\\"type\\\":\\\"CurriculumPrerequisite\\\"},{\\\"source_id\\\":26,\\\"target_id\\\":41,\\\"type\\\":\\\"CurriculumPrerequisite\\\"},{\\\"source_id\\\":42,\\\"target_id\\\":41,\\\"type\\\":\\\"CurriculumCorequisite\\\"}],\\\"name\\\":\\\" \\\",\\\"metrics\\\":{\\\"complexity\\\":12.0,\\\"centrality\\\":108,\\\"blocking factor\\\":4,\\\"delay factor\\\":8.0},\\\"nameSub\\\":\\\"EDUC 350\\\",\\\"id\\\":41,\\\"credits\\\":3,\\\"nameCanonical\\\":\\\"\\\"},{\\\"curriculum_requisites\\\":[{\\\"source_id\\\":43,\\\"target_id\\\":42,\\\"type\\\":\\\"CurriculumCorequisite\\\"},{\\\"source_id\\\":18,\\\"target_id\\\":42,\\\"type\\\":\\\"CurriculumPrerequisite\\\"},{\\\"source_id\\\":26,\\\"target_id\\\":42,\\\"type\\\":\\\"CurriculumPrerequisite\\\"}],\\\"name\\\":\\\" \\\",\\\"metrics\\\":{\\\"complexity\\\":13.0,\\\"centrality\\\":144,\\\"blocking factor\\\":5,\\\"delay factor\\\":8.0},\\\"nameSub\\\":\\\"EDUC 386\\\",\\\"id\\\":42,\\\"credits\\\":1,\\\"nameCanonical\\\":\\\"\\\"},{\\\"curriculum_requisites\\\":[{\\\"source_id\\\":18,\\\"target_id\\\":43,\\\"type\\\":\\\"CurriculumPrerequisite\\\"},{\\\"source_id\\\":26,\\\"target_id\\\":43,\\\"type\\\":\\\"CurriculumPrerequisite\\\"}],\\\"name\\\":\\\" \\\",\\\"metrics\\\":{\\\"complexity\\\":14.0,\\\"centrality\\\":78,\\\"blocking factor\\\":6,\\\"delay factor\\\":8.0},\\\"nameSub\\\":\\\"EDUC 475\\\",\\\"id\\\":43,\\\"credits\\\":1,\\\"nameCanonical\\\":\\\"\\\"},{\\\"curriculum_requisites\\\":[{\\\"source_id\\\":27,\\\"target_id\\\":44,\\\"type\\\":\\\"CurriculumPrerequisite\\\"}],\\\"name\\\":\\\" \\\",\\\"metrics\\\":{\\\"complexity\\\":5.0,\\\"centrality\\\":0,\\\"blocking factor\\\":0,\\\"delay factor\\\":5.0},\\\"nameSub\\\":\\\"MU 318\\\",\\\"id\\\":44,\\\"credits\\\":1,\\\"nameCanonical\\\":\\\"\\\"},{\\\"curriculum_requisites\\\":[{\\\"source_id\\\":4,\\\"target_id\\\":45,\\\"type\\\":\\\"CurriculumPrerequisite\\\"},{\\\"source_id\\\":10,\\\"target_id\\\":45,\\\"type\\\":\\\"CurriculumPrerequisite\\\"}],\\\"name\\\":\\\" \\\",\\\"metrics\\\":{\\\"complexity\\\":3.0,\\\"centrality\\\":0,\\\"blocking factor\\\":0,\\\"delay factor\\\":3.0},\\\"nameSub\\\":\\\"MU 335\\\",\\\"id\\\":45,\\\"credits\\\":1,\\\"nameCanonical\\\":\\\"\\\"},{\\\"curriculum_requisites\\\":[{\\\"source_id\\\":35,\\\"target_id\\\":46,\\\"type\\\":\\\"CurriculumPrerequisite\\\"}],\\\"name\\\":\\\" \\\",\\\"metrics\\\":{\\\"complexity\\\":3.0,\\\"centrality\\\":0,\\\"blocking factor\\\":0,\\\"delay factor\\\":3.0},\\\"nameSub\\\":\\\"MU 356\\\",\\\"id\\\":46,\\\"credits\\\":1,\\\"nameCanonical\\\":\\\"\\\"},{\\\"curriculum_requisites\\\":[],\\\"name\\\":\\\" \\\",\\\"metrics\\\":{\\\"complexity\\\":1.0,\\\"centrality\\\":0,\\\"blocking factor\\\":0,\\\"delay factor\\\":1.0},\\\"nameSub\\\":\\\"MU ELECTIVE\\\",\\\"id\\\":47,\\\"credits\\\":1,\\\"nameCanonical\\\":\\\"\\\"},{\\\"curriculum_requisites\\\":[],\\\"name\\\":\\\" \\\",\\\"metrics\\\":{\\\"complexity\\\":1.0,\\\"centrality\\\":0,\\\"blocking factor\\\":0,\\\"delay factor\\\":1.0},\\\"nameSub\\\":\\\"MU 472\\\",\\\"id\\\":48,\\\"credits\\\":1,\\\"nameCanonical\\\":\\\"\\\"},{\\\"curriculum_requisites\\\":[],\\\"name\\\":\\\" \\\",\\\"metrics\\\":{\\\"complexity\\\":1.0,\\\"centrality\\\":0,\\\"blocking factor\\\":0,\\\"delay factor\\\":1.0},\\\"nameSub\\\":\\\"ENSEMBLE\\\",\\\"id\\\":49,\\\"credits\\\":1,\\\"nameCanonical\\\":\\\"\\\"}],\\\"id\\\":6},{\\\"name\\\":\\\"Term 7\\\",\\\"curriculum_items\\\":[{\\\"curriculum_requisites\\\":[{\\\"source_id\\\":51,\\\"target_id\\\":50,\\\"type\\\":\\\"CurriculumCorequisite\\\"},{\\\"source_id\\\":41,\\\"target_id\\\":50,\\\"type\\\":\\\"CurriculumPrerequisite\\\"},{\\\"source_id\\\":33,\\\"target_id\\\":50,\\\"type\\\":\\\"CurriculumPrerequisite\\\"},{\\\"source_id\\\":42,\\\"target_id\\\":50,\\\"type\\\":\\\"CurriculumPrerequisite\\\"}],\\\"name\\\":\\\" \\\",\\\"metrics\\\":{\\\"complexity\\\":11.0,\\\"centrality\\\":240,\\\"blocking factor\\\":3,\\\"delay factor\\\":8.0},\\\"nameSub\\\":\\\"EDUC 450\\\",\\\"id\\\":50,\\\"credits\\\":4,\\\"nameCanonical\\\":\\\"\\\"},{\\\"curriculum_requisites\\\":[{\\\"source_id\\\":52,\\\"target_id\\\":51,\\\"type\\\":\\\"CurriculumCorequisite\\\"},{\\\"source_id\\\":19,\\\"target_id\\\":51,\\\"type\\\":\\\"CurriculumPrerequisite\\\"}],\\\"name\\\":\\\" \\\",\\\"metrics\\\":{\\\"complexity\\\":12.0,\\\"centrality\\\":54,\\\"blocking factor\\\":4,\\\"delay factor\\\":8.0},\\\"nameSub\\\":\\\"EDUC 477\\\",\\\"id\\\":51,\\\"credits\\\":2,\\\"nameCanonical\\\":\\\"\\\"},{\\\"curriculum_requisites\\\":[],\\\"name\\\":\\\" \\\",\\\"metrics\\\":{\\\"complexity\\\":11.0,\\\"centrality\\\":0,\\\"blocking factor\\\":5,\\\"delay factor\\\":6.0},\\\"nameSub\\\":\\\"EDUC 486E\\\",\\\"id\\\":52,\\\"credits\\\":1,\\\"nameCanonical\\\":\\\"\\\"},{\\\"curriculum_requisites\\\":[],\\\"name\\\":\\\" \\\",\\\"metrics\\\":{\\\"complexity\\\":1.0,\\\"centrality\\\":0,\\\"blocking factor\\\":0,\\\"delay factor\\\":1.0},\\\"nameSub\\\":\\\"MU 252D\\\",\\\"id\\\":53,\\\"credits\\\":1,\\\"nameCanonical\\\":\\\"\\\"},{\\\"curriculum_requisites\\\":[],\\\"name\\\":\\\" \\\",\\\"metrics\\\":{\\\"complexity\\\":1.0,\\\"centrality\\\":0,\\\"blocking factor\\\":0,\\\"delay factor\\\":1.0},\\\"nameSub\\\":\\\"MU 425\\\",\\\"id\\\":54,\\\"credits\\\":2,\\\"nameCanonical\\\":\\\"\\\"},{\\\"curriculum_requisites\\\":[],\\\"name\\\":\\\" \\\",\\\"metrics\\\":{\\\"complexity\\\":1.0,\\\"centrality\\\":0,\\\"blocking factor\\\":0,\\\"delay factor\\\":1.0},\\\"nameSub\\\":\\\"MU 471\\\",\\\"id\\\":55,\\\"credits\\\":1,\\\"nameCanonical\\\":\\\"\\\"},{\\\"curriculum_requisites\\\":[],\\\"name\\\":\\\" \\\",\\\"metrics\\\":{\\\"complexity\\\":1.0,\\\"centrality\\\":0,\\\"blocking factor\\\":0,\\\"delay factor\\\":1.0},\\\"nameSub\\\":\\\"MU 472\\\",\\\"id\\\":56,\\\"credits\\\":1,\\\"nameCanonical\\\":\\\"\\\"},{\\\"curriculum_requisites\\\":[],\\\"name\\\":\\\" \\\",\\\"metrics\\\":{\\\"complexity\\\":1.0,\\\"centrality\\\":0,\\\"blocking factor\\\":0,\\\"delay factor\\\":1.0},\\\"nameSub\\\":\\\"ENSEMBLE\\\",\\\"id\\\":57,\\\"credits\\\":1,\\\"nameCanonical\\\":\\\"\\\"},{\\\"curriculum_requisites\\\":[],\\\"name\\\":\\\" \\\",\\\"metrics\\\":{\\\"complexity\\\":1.0,\\\"centrality\\\":0,\\\"blocking factor\\\":0,\\\"delay factor\\\":1.0},\\\"nameSub\\\":\\\"AUCC 3E\\\",\\\"id\\\":58,\\\"credits\\\":3,\\\"nameCanonical\\\":\\\"\\\"}],\\\"id\\\":7},{\\\"name\\\":\\\"Term 8\\\",\\\"curriculum_items\\\":[{\\\"curriculum_requisites\\\":[{\\\"source_id\\\":51,\\\"target_id\\\":59,\\\"type\\\":\\\"CurriculumPrerequisite\\\"},{\\\"source_id\\\":50,\\\"target_id\\\":59,\\\"type\\\":\\\"CurriculumPrerequisite\\\"},{\\\"source_id\\\":60,\\\"target_id\\\":59,\\\"type\\\":\\\"CurriculumCorequisite\\\"}],\\\"name\\\":\\\" \\\",\\\"metrics\\\":{\\\"complexity\\\":8.0,\\\"centrality\\\":0,\\\"blocking factor\\\":0,\\\"delay factor\\\":8.0},\\\"nameSub\\\":\\\"EDUC 485A\\\",\\\"id\\\":59,\\\"credits\\\":6,\\\"nameCanonical\\\":\\\"\\\"},{\\\"curriculum_requisites\\\":[{\\\"source_id\\\":51,\\\"target_id\\\":60,\\\"type\\\":\\\"CurriculumPrerequisite\\\"},{\\\"source_id\\\":50,\\\"target_id\\\":60,\\\"type\\\":\\\"CurriculumPrerequisite\\\"},{\\\"source_id\\\":61,\\\"target_id\\\":60,\\\"type\\\":\\\"CurriculumCorequisite\\\"}],\\\"name\\\":\\\" \\\",\\\"metrics\\\":{\\\"complexity\\\":9.0,\\\"centrality\\\":184,\\\"blocking factor\\\":1,\\\"delay factor\\\":8.0},\\\"nameSub\\\":\\\"EDUC 485B\\\",\\\"id\\\":60,\\\"credits\\\":6,\\\"nameCanonical\\\":\\\"\\\"},{\\\"curriculum_requisites\\\":[{\\\"source_id\\\":50,\\\"target_id\\\":61,\\\"type\\\":\\\"CurriculumPrerequisite\\\"}],\\\"name\\\":\\\" \\\",\\\"metrics\\\":{\\\"complexity\\\":10.0,\\\"centrality\\\":94,\\\"blocking factor\\\":2,\\\"delay factor\\\":8.0},\\\"nameSub\\\":\\\"EDUC 493A\\\",\\\"id\\\":61,\\\"credits\\\":1,\\\"nameCanonical\\\":\\\"\\\"},{\\\"curriculum_requisites\\\":[],\\\"name\\\":\\\" \\\",\\\"metrics\\\":{\\\"complexity\\\":1.0,\\\"centrality\\\":0,\\\"blocking factor\\\":0,\\\"delay factor\\\":1.0},\\\"nameSub\\\":\\\"ELECTIVE\\\",\\\"id\\\":62,\\\"credits\\\":1,\\\"nameCanonical\\\":\\\"\\\"}],\\\"id\\\":8}],\\\"institution\\\":\\\"Colorado State University\\\"}},\\\"*\\\"); window.removeEventListener(\\\"message\\\",window.messageReceived); window.messageReceived=(function (event){return (event.data.curriculum!==undefined) ? (WebIO.setval({\\\"name\\\":\\\"curriculum-data\\\",\\\"scope\\\":\\\"9011490339508951562\\\",\\\"id\\\":\\\"1765218350728805825\\\",\\\"type\\\":\\\"observable\\\"},event.data.curriculum)) : undefined}); return window.addEventListener(\\\"message\\\",window.messageReceived)})\"},\"style\":{\"padding\":\"0\",\"height\":\"100vh\",\"margin\":\"0\",\"border\":\"none\",\"width\":\"100%\"}},\"nodeType\":\"DOM\",\"type\":\"node\",\"instanceArgs\":{\"namespace\":\"html\",\"tag\":\"iframe\"},\"children\":[\"\"]}]},\n",
       "            window,\n",
       "        );\n",
       "    } else {\n",
       "        document\n",
       "            .querySelector('[data-webio-mountpoint=\"2786708538776992047\"]')\n",
       "            .innerHTML = (\n",
       "                '<div style=\"padding: 1em; background-color: #f8d6da; border: 1px solid #f5c6cb\">' +\n",
       "                '<p><strong>WebIO not detected.</strong></p>' +\n",
       "                '<p>Please read ' +\n",
       "                '<a href=\"https://juliagizmos.github.io/WebIO.jl/latest/troubleshooting/not-detected/\" target=\"_blank\">the troubleshooting guide</a> ' +\n",
       "                'for more information on how to resolve this issue.</p>' +\n",
       "                '<p><a href=\"https://juliagizmos.github.io/WebIO.jl/latest/troubleshooting/not-detected/\" target=\"_blank\">https://juliagizmos.github.io/WebIO.jl/latest/troubleshooting/not-detected/</a></p>' +\n",
       "                '</div>'\n",
       "            );\n",
       "    }\n",
       "    </script>\n",
       "</div>\n"
      ],
      "text/plain": [
       "WebIO.Scope(WebIO.Node{WebIO.DOM}(WebIO.DOM(:html, :iframe), Any[\"\"], Dict{Symbol, Any}(:src => \"https://curricula-api-embed.damoursystems.com/\", :id => \"curriculum\", :events => Dict{Symbol, WebIO.JSString}(:load => WebIO.JSString(\"(function (){this.contentWindow.postMessage({\\\"options\\\":{\\\"hideTerms\\\":false,\\\"edit\\\":false},\\\"curriculum\\\":{\\\"name\\\":\\\"Music Education\\\",\\\"dp_name\\\":\\\"4-Year Plan\\\",\\\"curriculum_terms\\\":[{\\\"name\\\":\\\"Term 1\\\",\\\"curriculum_items\\\":[{\\\"curriculum_requisites\\\":[],\\\"name\\\":\\\" \\\",\\\"metrics\\\":{\\\"complexity\\\":3.0,\\\"centrality\\\":0,\\\"blocking factor\\\":1,\\\"delay factor\\\":2.0},\\\"nameSub\\\":\\\"CO 150\\\",\\\"id\\\":1,\\\"credits\\\":3,\\\"nameCanonical\\\":\\\"\\\"},{\\\"curriculum_requisites\\\":[],\\\"name\\\":\\\" \\\",\\\"metrics\\\":{\\\"complexity\\\":22.0,\\\"centrality\\\":0,\\\"blocking factor\\\":14,\\\"delay factor\\\":8.0},\\\"nameSub\\\":\\\"MU 117\\\",\\\"id\\\":2,\\\"credits\\\":3,\\\"nameCanonical\\\":\\\"\\\"},{\\\"curriculum_requisites\\\":[],\\\"name\\\":\\\" \\\",\\\"metrics\\\":{\\\"complexity\\\":7.0,\\\"centrality\\\":0,\\\"blocking factor\\\":3,\\\"delay factor\\\":4.0},\\\"nameSub\\\":\\\"MU 127\\\",\\\"id\\\":3,\\\"credits\\\":1,\\\"nameCanonical\\\":\\\"\\\"},{\\\"curriculum_requisites\\\":[],\\\"name\\\":\\\" \\\",\\\"metrics\\\":{\\\"complexity\\\":4.0,\\\"centrality\\\":0,\\\"blocking factor\\\":2,\\\"delay factor\\\":2.0},\\\"nameSub\\\":\\\"MU 131\\\",\\\"id\\\":4,\\\"credits\\\":3,\\\"nameCanonical\\\":\\\"\\\"},{\\\"curriculum_requisites\\\":[],\\\"name\\\":\\\" \\\",\\\"metrics\\\":{\\\"complexity\\\":3.0,\\\"centrality\\\":0,\\\"blocking factor\\\":1,\\\"delay factor\\\":2.0},\\\"nameSub\\\":\\\"MU 150\\\",\\\"id\\\":5,\\\"credits\\\":1,\\\"nameCanonical\\\":\\\"\\\"},{\\\"curriculum_requisites\\\":[],\\\"name\\\":\\\" \\\",\\\"metrics\\\":{\\\"complexity\\\":1.0,\\\"centrality\\\":0,\\\"blocking factor\\\":0,\\\"delay factor\\\":1.0},\\\"nameSub\\\":\\\"MU 251\\\",\\\"id\\\":6,\\\"credits\\\":1,\\\"nameCanonical\\\":\\\"\\\"},{\\\"curriculum_requisites\\\":[],\\\"name\\\":\\\" \\\",\\\"metrics\\\":{\\\"complexity\\\":1.0,\\\"centrality\\\":0,\\\"blocking factor\\\":0,\\\"delay factor\\\":1.0},\\\"nameSub\\\":\\\"MU 272\\\",\\\"id\\\":7,\\\"credits\\\":1,\\\"nameCanonical\\\":\\\"\\\"},{\\\"curriculum_requisites\\\":[],\\\"name\\\":\\\" \\\",\\\"metrics\\\":{\\\"complexity\\\":1.0,\\\"centrality\\\":0,\\\"blocking factor\\\":0,\\\"delay factor\\\":1.0},\\\"nameSub\\\":\\\"MU 286\\\",\\\"id\\\":8,\\\"credits\\\":3,\\\"nameCanonical\\\":\\\"\\\"},{\\\"curriculum_requisites\\\":[],\\\"name\\\":\\\" \\\",\\\"metrics\\\":{\\\"complexity\\\":1.0,\\\"centrality\\\":0,\\\"blocking factor\\\":0,\\\"delay factor\\\":1.0},\\\"nameSub\\\":\\\"ENSEMBLE\\\",\\\"id\\\":9,\\\"credits\\\":1,\\\"nameCanonical\\\":\\\"\\\"}],\\\"id\\\":1},{\\\"name\\\":\\\"Term 2\\\",\\\"curriculum_items\\\":[{\\\"curriculum_requisites\\\":[{\\\"source_id\\\":2,\\\"target_id\\\":10,\\\"type\\\":\\\"CurriculumPrerequisite\\\"}],\\\"name\\\":\\\" \\\",\\\"metrics\\\":{\\\"complexity\\\":19.0,\\\"centrality\\\":48,\\\"blocking factor\\\":11,\\\"delay factor\\\":8.0},\\\"nameSub\\\":\\\"MU 118\\\",\\\"id\\\":10,\\\"credits\\\":3,\\\"nameCanonical\\\":\\\"\\\"},{\\\"curriculum_requisites\\\":[{\\\"source_id\\\":3,\\\"target_id\\\":11,\\\"type\\\":\\\"CurriculumPrerequisite\\\"}],\\\"name\\\":\\\" \\\",\\\"metrics\\\":{\\\"complexity\\\":6.0,\\\"centrality\\\":4,\\\"blocking factor\\\":2,\\\"delay factor\\\":4.0},\\\"nameSub\\\":\\\"MU 128\\\",\\\"id\\\":11,\\\"credits\\\":1,\\\"nameCanonical\\\":\\\"\\\"},{\\\"curriculum_requisites\\\":[{\\\"source_id\\\":5,\\\"target_id\\\":12,\\\"type\\\":\\\"CurriculumPrerequisite\\\"}],\\\"name\\\":\\\" \\\",\\\"metrics\\\":{\\\"complexity\\\":2.0,\\\"centrality\\\":0,\\\"blocking factor\\\":0,\\\"delay factor\\\":2.0},\\\"nameSub\\\":\\\"MU 151A\\\",\\\"id\\\":12,\\\"credits\\\":1,\\\"nameCanonical\\\":\\\"\\\"},{\\\"curriculum_requisites\\\":[],\\\"name\\\":\\\" \\\",\\\"metrics\\\":{\\\"complexity\\\":1.0,\\\"centrality\\\":0,\\\"blocking factor\\\":0,\\\"delay factor\\\":1.0},\\\"nameSub\\\":\\\"MU 252B\\\",\\\"id\\\":13,\\\"credits\\\":2,\\\"nameCanonical\\\":\\\"\\\"},{\\\"curriculum_requisites\\\":[],\\\"name\\\":\\\" \\\",\\\"metrics\\\":{\\\"complexity\\\":1.0,\\\"centrality\\\":0,\\\"blocking factor\\\":0,\\\"delay factor\\\":1.0},\\\"nameSub\\\":\\\"MU 272\\\",\\\"id\\\":14,\\\"credits\\\":1,\\\"nameCanonical\\\":\\\"\\\"},{\\\"curriculum_requisites\\\":[],\\\"name\\\":\\\" \\\",\\\"metrics\\\":{\\\"complexity\\\":1.0,\\\"centrality\\\":0,\\\"blocking factor\\\":0,\\\"delay factor\\\":1.0},\\\"nameSub\\\":\\\"ENSEMBLE\\\",\\\"id\\\":15,\\\"credits\\\":1,\\\"nameCanonical\\\":\\\"\\\"},{\\\"curriculum_requisites\\\":[],\\\"name\\\":\\\" \\\",\\\"metrics\\\":{\\\"complexity\\\":1.0,\\\"centrality\\\":0,\\\"blocking factor\\\":0,\\\"delay factor\\\":1.0},\\\"nameSub\\\":\\\"AUCC 3B\\\",\\\"id\\\":16,\\\"credits\\\":3,\\\"nameCanonical\\\":\\\"\\\"},{\\\"curriculum_requisites\\\":[],\\\"name\\\":\\\" \\\",\\\"metrics\\\":{\\\"complexity\\\":1.0,\\\"centrality\\\":0,\\\"blocking factor\\\":0,\\\"delay factor\\\":1.0},\\\"nameSub\\\":\\\"AUCC MATH\\\",\\\"id\\\":17,\\\"credits\\\":3,\\\"nameCanonical\\\":\\\"\\\"}],\\\"id\\\":2},{\\\"name\\\":\\\"Term 3\\\",\\\"curriculum_items\\\":[{\\\"curriculum_requisites\\\":[],\\\"name\\\":\\\" \\\",\\\"metrics\\\":{\\\"complexity\\\":16.0,\\\"centrality\\\":0,\\\"blocking factor\\\":8,\\\"delay factor\\\":8.0},\\\"nameSub\\\":\\\"EDUC 275\\\",\\\"id\\\":18,\\\"credits\\\":3,\\\"nameCanonical\\\":\\\"\\\"},{\\\"curriculum_requisites\\\":[{\\\"source_id\\\":10,\\\"target_id\\\":19,\\\"type\\\":\\\"CurriculumPrerequisite\\\"}],\\\"name\\\":\\\" \\\",\\\"metrics\\\":{\\\"complexity\\\":16.0,\\\"centrality\\\":42,\\\"blocking factor\\\":8,\\\"delay factor\\\":8.0},\\\"nameSub\\\":\\\"MU 217\\\",\\\"id\\\":19,\\\"credits\\\":3,\\\"nameCanonical\\\":\\\"\\\"},{\\\"curriculum_requisites\\\":[{\\\"source_id\\\":11,\\\"target_id\\\":20,\\\"type\\\":\\\"CurriculumPrerequisite\\\"}],\\\"name\\\":\\\" \\\",\\\"metrics\\\":{\\\"complexity\\\":5.0,\\\"centrality\\\":4,\\\"blocking factor\\\":1,\\\"delay factor\\\":4.0},\\\"nameSub\\\":\\\"MU 227\\\",\\\"id\\\":20,\\\"credits\\\":1,\\\"nameCanonical\\\":\\\"\\\"},{\\\"curriculum_requisites\\\":[],\\\"name\\\":\\\" \\\",\\\"metrics\\\":{\\\"complexity\\\":1.0,\\\"centrality\\\":0,\\\"blocking factor\\\":0,\\\"delay factor\\\":1.0},\\\"nameSub\\\":\\\"MU 252C\\\",\\\"id\\\":21,\\\"credits\\\":1,\\\"nameCanonical\\\":\\\"\\\"},{\\\"curriculum_requisites\\\":[],\\\"name\\\":\\\" \\\",\\\"metrics\\\":{\\\"complexity\\\":1.0,\\\"centrality\\\":0,\\\"blocking factor\\\":0,\\\"delay factor\\\":1.0},\\\"nameSub\\\":\\\"MU 272\\\",\\\"id\\\":22,\\\"credits\\\":1,\\\"nameCanonical\\\":\\\"\\\"},{\\\"curriculum_requisites\\\":[],\\\"name\\\":\\\" \\\",\\\"metrics\\\":{\\\"complexity\\\":1.0,\\\"centrality\\\":0,\\\"blocking factor\\\":0,\\\"delay factor\\\":1.0},\\\"nameSub\\\":\\\"ENSEMBLE\\\",\\\"id\\\":23,\\\"credits\\\":1,\\\"nameCanonical\\\":\\\"\\\"},{\\\"curriculum_requisites\\\":[{\\\"source_id\\\":1,\\\"target_id\\\":24,\\\"type\\\":\\\"CurriculumPrerequisite\\\"}],\\\"name\\\":\\\" \\\",\\\"metrics\\\":{\\\"complexity\\\":2.0,\\\"centrality\\\":0,\\\"blocking factor\\\":0,\\\"delay factor\\\":2.0},\\\"nameSub\\\":\\\"AUCC Advanced Writing\\\",\\\"id\\\":24,\\\"credits\\\":3,\\\"nameCanonical\\\":\\\"\\\"},{\\\"curriculum_requisites\\\":[],\\\"name\\\":\\\" \\\",\\\"metrics\\\":{\\\"complexity\\\":1.0,\\\"centrality\\\":0,\\\"blocking factor\\\":0,\\\"delay factor\\\":1.0},\\\"nameSub\\\":\\\"AUCC 3D\\\",\\\"id\\\":25,\\\"credits\\\":3,\\\"nameCanonical\\\":\\\"\\\"}],\\\"id\\\":3},{\\\"name\\\":\\\"Term 4\\\",\\\"curriculum_items\\\":[{\\\"curriculum_requisites\\\":[],\\\"name\\\":\\\" \\\",\\\"metrics\\\":{\\\"complexity\\\":16.0,\\\"centrality\\\":0,\\\"blocking factor\\\":8,\\\"delay factor\\\":8.0},\\\"nameSub\\\":\\\"EDUC 340\\\",\\\"id\\\":26,\\\"credits\\\":3,\\\"nameCanonical\\\":\\\"\\\"},{\\\"curriculum_requisites\\\":[{\\\"source_id\\\":19,\\\"target_id\\\":27,\\\"type\\\":\\\"CurriculumPrerequisite\\\"}],\\\"name\\\":\\\" \\\",\\\"metrics\\\":{\\\"complexity\\\":7.0,\\\"centrality\\\":10,\\\"blocking factor\\\":2,\\\"delay factor\\\":5.0},\\\"nameSub\\\":\\\"MU 218\\\",\\\"id\\\":27,\\\"credits\\\":3,\\\"nameCanonical\\\":\\\"\\\"},{\\\"curriculum_requisites\\\":[{\\\"source_id\\\":20,\\\"target_id\\\":28,\\\"type\\\":\\\"CurriculumPrerequisite\\\"}],\\\"name\\\":\\\" \\\",\\\"metrics\\\":{\\\"complexity\\\":4.0,\\\"centrality\\\":0,\\\"blocking factor\\\":0,\\\"delay factor\\\":4.0},\\\"nameSub\\\":\\\"MU 228\\\",\\\"id\\\":28,\\\"credits\\\":1,\\\"nameCanonical\\\":\\\"\\\"},{\\\"curriculum_requisites\\\":[],\\\"name\\\":\\\" \\\",\\\"metrics\\\":{\\\"complexity\\\":1.0,\\\"centrality\\\":0,\\\"blocking factor\\\":0,\\\"delay factor\\\":1.0},\\\"nameSub\\\":\\\"MU 252A\\\",\\\"id\\\":29,\\\"credits\\\":2,\\\"nameCanonical\\\":\\\"\\\"},{\\\"curriculum_requisites\\\":[],\\\"name\\\":\\\" \\\",\\\"metrics\\\":{\\\"complexity\\\":1.0,\\\"centrality\\\":0,\\\"blocking factor\\\":0,\\\"delay factor\\\":1.0},\\\"nameSub\\\":\\\"MU 272\\\",\\\"id\\\":30,\\\"credits\\\":1,\\\"nameCanonical\\\":\\\"\\\"},{\\\"curriculum_requisites\\\":[],\\\"name\\\":\\\" \\\",\\\"metrics\\\":{\\\"complexity\\\":1.0,\\\"centrality\\\":0,\\\"blocking factor\\\":0,\\\"delay factor\\\":1.0},\\\"nameSub\\\":\\\"ENSEMBLE\\\",\\\"id\\\":31,\\\"credits\\\":1,\\\"nameCanonical\\\":\\\"\\\"},{\\\"curriculum_requisites\\\":[],\\\"name\\\":\\\" \\\",\\\"metrics\\\":{\\\"complexity\\\":1.0,\\\"centrality\\\":0,\\\"blocking factor\\\":0,\\\"delay factor\\\":1.0},\\\"nameSub\\\":\\\"AUCC 3A\\\",\\\"id\\\":32,\\\"credits\\\":4,\\\"nameCanonical\\\":\\\"\\\"}],\\\"id\\\":4},{\\\"name\\\":\\\"Term 5\\\",\\\"curriculum_items\\\":[{\\\"curriculum_requisites\\\":[{\\\"source_id\\\":18,\\\"target_id\\\":33,\\\"type\\\":\\\"CurriculumPrerequisite\\\"},{\\\"source_id\\\":26,\\\"target_id\\\":33,\\\"type\\\":\\\"CurriculumPrerequisite\\\"}],\\\"name\\\":\\\" \\\",\\\"metrics\\\":{\\\"complexity\\\":10.0,\\\"centrality\\\":30,\\\"blocking factor\\\":4,\\\"delay factor\\\":6.0},\\\"nameSub\\\":\\\"EDUC 331\\\",\\\"id\\\":33,\\\"credits\\\":2,\\\"nameCanonical\\\":\\\"\\\"},{\\\"curriculum_requisites\\\":[],\\\"name\\\":\\\" \\\",\\\"metrics\\\":{\\\"complexity\\\":1.0,\\\"centrality\\\":0,\\\"blocking factor\\\":0,\\\"delay factor\\\":1.0},\\\"nameSub\\\":\\\"EDUC 474\\\",\\\"id\\\":34,\\\"credits\\\":2,\\\"nameCanonical\\\":\\\"\\\"},{\\\"curriculum_requisites\\\":[{\\\"source_id\\\":2,\\\"target_id\\\":35,\\\"type\\\":\\\"CurriculumPrerequisite\\\"}],\\\"name\\\":\\\" \\\",\\\"metrics\\\":{\\\"complexity\\\":4.0,\\\"centrality\\\":3,\\\"blocking factor\\\":1,\\\"delay factor\\\":3.0},\\\"nameSub\\\":\\\"MU 254\\\",\\\"id\\\":35,\\\"credits\\\":2,\\\"nameCanonical\\\":\\\"\\\"},{\\\"curriculum_requisites\\\":[{\\\"source_id\\\":27,\\\"target_id\\\":36,\\\"type\\\":\\\"CurriculumPrerequisite\\\"}],\\\"name\\\":\\\" \\\",\\\"metrics\\\":{\\\"complexity\\\":5.0,\\\"centrality\\\":0,\\\"blocking factor\\\":0,\\\"delay factor\\\":5.0},\\\"nameSub\\\":\\\"MU 317\\\",\\\"id\\\":36,\\\"credits\\\":2,\\\"nameCanonical\\\":\\\"\\\"},{\\\"curriculum_requisites\\\":[{\\\"source_id\\\":4,\\\"target_id\\\":37,\\\"type\\\":\\\"CurriculumPrerequisite\\\"},{\\\"source_id\\\":10,\\\"target_id\\\":37,\\\"type\\\":\\\"CurriculumPrerequisite\\\"}],\\\"name\\\":\\\" \\\",\\\"metrics\\\":{\\\"complexity\\\":3.0,\\\"centrality\\\":0,\\\"blocking factor\\\":0,\\\"delay factor\\\":3.0},\\\"nameSub\\\":\\\"MU 334\\\",\\\"id\\\":37,\\\"credits\\\":3,\\\"nameCanonical\\\":\\\"\\\"},{\\\"curriculum_requisites\\\":[],\\\"name\\\":\\\" \\\",\\\"metrics\\\":{\\\"complexity\\\":1.0,\\\"centrality\\\":0,\\\"blocking factor\\\":0,\\\"delay factor\\\":1.0},\\\"nameSub\\\":\\\"MU 472\\\",\\\"id\\\":38,\\\"credits\\\":1,\\\"nameCanonical\\\":\\\"\\\"},{\\\"curriculum_requisites\\\":[],\\\"name\\\":\\\" \\\",\\\"metrics\\\":{\\\"complexity\\\":1.0,\\\"centrality\\\":0,\\\"blocking factor\\\":0,\\\"delay factor\\\":1.0},\\\"nameSub\\\":\\\"ENSEMBLE\\\",\\\"id\\\":39,\\\"credits\\\":1,\\\"nameCanonical\\\":\\\"\\\"},{\\\"curriculum_requisites\\\":[],\\\"name\\\":\\\" \\\",\\\"metrics\\\":{\\\"complexity\\\":1.0,\\\"centrality\\\":0,\\\"blocking factor\\\":0,\\\"delay factor\\\":1.0},\\\"nameSub\\\":\\\"AUCC 3A\\\",\\\"id\\\":40,\\\"credits\\\":3,\\\"nameCanonical\\\":\\\"\\\"}],\\\"id\\\":5},{\\\"name\\\":\\\"Term 6\\\",\\\"curriculum_items\\\":[{\\\"curriculum_requisites\\\":[{\\\"source_id\\\":18,\\\"target_id\\\":41,\\\"type\\\":\\\"CurriculumPrerequisite\\\"},{\\\"source_id\\\":26,\\\"target_id\\\":41,\\\"type\\\":\\\"CurriculumPrerequisite\\\"},{\\\"source_id\\\":42,\\\"target_id\\\":41,\\\"type\\\":\\\"CurriculumCorequisite\\\"}],\\\"name\\\":\\\" \\\",\\\"metrics\\\":{\\\"complexity\\\":12.0,\\\"centrality\\\":108,\\\"blocking factor\\\":4,\\\"delay factor\\\":8.0},\\\"nameSub\\\":\\\"EDUC 350\\\",\\\"id\\\":41,\\\"credits\\\":3,\\\"nameCanonical\\\":\\\"\\\"},{\\\"curriculum_requisites\\\":[{\\\"source_id\\\":43,\\\"target_id\\\":42,\\\"type\\\":\\\"CurriculumCorequisite\\\"},{\\\"source_id\\\":18,\\\"target_id\\\":42,\\\"type\\\":\\\"CurriculumPrerequisite\\\"},{\\\"source_id\\\":26,\\\"target_id\\\":42,\\\"type\\\":\\\"CurriculumPrerequisite\\\"}],\\\"name\\\":\\\" \\\",\\\"metrics\\\":{\\\"complexity\\\":13.0,\\\"centrality\\\":144,\\\"blocking factor\\\":5,\\\"delay factor\\\":8.0},\\\"nameSub\\\":\\\"EDUC 386\\\",\\\"id\\\":42,\\\"credits\\\":1,\\\"nameCanonical\\\":\\\"\\\"},{\\\"curriculum_requisites\\\":[{\\\"source_id\\\":18,\\\"target_id\\\":43,\\\"type\\\":\\\"CurriculumPrerequisite\\\"},{\\\"source_id\\\":26,\\\"target_id\\\":43,\\\"type\\\":\\\"CurriculumPrerequisite\\\"}],\\\"name\\\":\\\" \\\",\\\"metrics\\\":{\\\"complexity\\\":14.0,\\\"centrality\\\":78,\\\"blocking factor\\\":6,\\\"delay factor\\\":8.0},\\\"nameSub\\\":\\\"EDUC 475\\\",\\\"id\\\":43,\\\"credits\\\":1,\\\"nameCanonical\\\":\\\"\\\"},{\\\"curriculum_requisites\\\":[{\\\"source_id\\\":27,\\\"target_id\\\":44,\\\"type\\\":\\\"CurriculumPrerequisite\\\"}],\\\"name\\\":\\\" \\\",\\\"metrics\\\":{\\\"complexity\\\":5.0,\\\"centrality\\\":0,\\\"blocking factor\\\":0,\\\"delay factor\\\":5.0},\\\"nameSub\\\":\\\"MU 318\\\",\\\"id\\\":44,\\\"credits\\\":1,\\\"nameCanonical\\\":\\\"\\\"},{\\\"curriculum_requisites\\\":[{\\\"source_id\\\":4,\\\"target_id\\\":45,\\\"type\\\":\\\"CurriculumPrerequisite\\\"},{\\\"source_id\\\":10,\\\"target_id\\\":45,\\\"type\\\":\\\"CurriculumPrerequisite\\\"}],\\\"name\\\":\\\" \\\",\\\"metrics\\\":{\\\"complexity\\\":3.0,\\\"centrality\\\":0,\\\"blocking factor\\\":0,\\\"delay factor\\\":3.0},\\\"nameSub\\\":\\\"MU 335\\\",\\\"id\\\":45,\\\"credits\\\":1,\\\"nameCanonical\\\":\\\"\\\"},{\\\"curriculum_requisites\\\":[{\\\"source_id\\\":35,\\\"target_id\\\":46,\\\"type\\\":\\\"CurriculumPrerequisite\\\"}],\\\"name\\\":\\\" \\\",\\\"metrics\\\":{\\\"complexity\\\":3.0,\\\"centrality\\\":0,\\\"blocking factor\\\":0,\\\"delay factor\\\":3.0},\\\"nameSub\\\":\\\"MU 356\\\",\\\"id\\\":46,\\\"credits\\\":1,\\\"nameCanonical\\\":\\\"\\\"},{\\\"curriculum_requisites\\\":[],\\\"name\\\":\\\" \\\",\\\"metrics\\\":{\\\"complexity\\\":1.0,\\\"centrality\\\":0,\\\"blocking factor\\\":0,\\\"delay factor\\\":1.0},\\\"nameSub\\\":\\\"MU ELECTIVE\\\",\\\"id\\\":47,\\\"credits\\\":1,\\\"nameCanonical\\\":\\\"\\\"},{\\\"curriculum_requisites\\\":[],\\\"name\\\":\\\" \\\",\\\"metrics\\\":{\\\"complexity\\\":1.0,\\\"centrality\\\":0,\\\"blocking factor\\\":0,\\\"delay factor\\\":1.0},\\\"nameSub\\\":\\\"MU 472\\\",\\\"id\\\":48,\\\"credits\\\":1,\\\"nameCanonical\\\":\\\"\\\"},{\\\"curriculum_requisites\\\":[],\\\"name\\\":\\\" \\\",\\\"metrics\\\":{\\\"complexity\\\":1.0,\\\"centrality\\\":0,\\\"blocking factor\\\":0,\\\"delay factor\\\":1.0},\\\"nameSub\\\":\\\"ENSEMBLE\\\",\\\"id\\\":49,\\\"credits\\\":1,\\\"nameCanonical\\\":\\\"\\\"}],\\\"id\\\":6},{\\\"name\\\":\\\"Term 7\\\",\\\"curriculum_items\\\":[{\\\"curriculum_requisites\\\":[{\\\"source_id\\\":51,\\\"target_id\\\":50,\\\"type\\\":\\\"CurriculumCorequisite\\\"},{\\\"source_id\\\":41,\\\"target_id\\\":50,\\\"type\\\":\\\"CurriculumPrerequisite\\\"},{\\\"source_id\\\":33,\\\"target_id\\\":50,\\\"type\\\":\\\"CurriculumPrerequisite\\\"},{\\\"source_id\\\":42,\\\"target_id\\\":50,\\\"type\\\":\\\"CurriculumPrerequisite\\\"}],\\\"name\\\":\\\" \\\",\\\"metrics\\\":{\\\"complexity\\\":11.0,\\\"centrality\\\":240,\\\"blocking factor\\\":3,\\\"delay factor\\\":8.0},\\\"nameSub\\\":\\\"EDUC 450\\\",\\\"id\\\":50,\\\"credits\\\":4,\\\"nameCanonical\\\":\\\"\\\"},{\\\"curriculum_requisites\\\":[{\\\"source_id\\\":52,\\\"target_id\\\":51,\\\"type\\\":\\\"CurriculumCorequisite\\\"},{\\\"source_id\\\":19,\\\"target_id\\\":51,\\\"type\\\":\\\"CurriculumPrerequisite\\\"}],\\\"name\\\":\\\" \\\",\\\"metrics\\\":{\\\"complexity\\\":12.0,\\\"centrality\\\":54,\\\"blocking factor\\\":4,\\\"delay factor\\\":8.0},\\\"nameSub\\\":\\\"EDUC 477\\\",\\\"id\\\":51,\\\"credits\\\":2,\\\"nameCanonical\\\":\\\"\\\"},{\\\"curriculum_requisites\\\":[],\\\"name\\\":\\\" \\\",\\\"metrics\\\":{\\\"complexity\\\":11.0,\\\"centrality\\\":0,\\\"blocking factor\\\":5,\\\"delay factor\\\":6.0},\\\"nameSub\\\":\\\"EDUC 486E\\\",\\\"id\\\":52,\\\"credits\\\":1,\\\"nameCanonical\\\":\\\"\\\"},{\\\"curriculum_requisites\\\":[],\\\"name\\\":\\\" \\\",\\\"metrics\\\":{\\\"complexity\\\":1.0,\\\"centrality\\\":0,\\\"blocking factor\\\":0,\\\"delay factor\\\":1.0},\\\"nameSub\\\":\\\"MU 252D\\\",\\\"id\\\":53,\\\"credits\\\":1,\\\"nameCanonical\\\":\\\"\\\"},{\\\"curriculum_requisites\\\":[],\\\"name\\\":\\\" \\\",\\\"metrics\\\":{\\\"complexity\\\":1.0,\\\"centrality\\\":0,\\\"blocking factor\\\":0,\\\"delay factor\\\":1.0},\\\"nameSub\\\":\\\"MU 425\\\",\\\"id\\\":54,\\\"credits\\\":2,\\\"nameCanonical\\\":\\\"\\\"},{\\\"curriculum_requisites\\\":[],\\\"name\\\":\\\" \\\",\\\"metrics\\\":{\\\"complexity\\\":1.0,\\\"centrality\\\":0,\\\"blocking factor\\\":0,\\\"delay factor\\\":1.0},\\\"nameSub\\\":\\\"MU 471\\\",\\\"id\\\":55,\\\"credits\\\":1,\\\"nameCanonical\\\":\\\"\\\"},{\\\"curriculum_requisites\\\":[],\\\"name\\\":\\\" \\\",\\\"metrics\\\":{\\\"complexity\\\":1.0,\\\"centrality\\\":0,\\\"blocking factor\\\":0,\\\"delay factor\\\":1.0},\\\"nameSub\\\":\\\"MU 472\\\",\\\"id\\\":56,\\\"credits\\\":1,\\\"nameCanonical\\\":\\\"\\\"},{\\\"curriculum_requisites\\\":[],\\\"name\\\":\\\" \\\",\\\"metrics\\\":{\\\"complexity\\\":1.0,\\\"centrality\\\":0,\\\"blocking factor\\\":0,\\\"delay factor\\\":1.0},\\\"nameSub\\\":\\\"ENSEMBLE\\\",\\\"id\\\":57,\\\"credits\\\":1,\\\"nameCanonical\\\":\\\"\\\"},{\\\"curriculum_requisites\\\":[],\\\"name\\\":\\\" \\\",\\\"metrics\\\":{\\\"complexity\\\":1.0,\\\"centrality\\\":0,\\\"blocking factor\\\":0,\\\"delay factor\\\":1.0},\\\"nameSub\\\":\\\"AUCC 3E\\\",\\\"id\\\":58,\\\"credits\\\":3,\\\"nameCanonical\\\":\\\"\\\"}],\\\"id\\\":7},{\\\"name\\\":\\\"Term 8\\\",\\\"curriculum_items\\\":[{\\\"curriculum_requisites\\\":[{\\\"source_id\\\":51,\\\"target_id\\\":59,\\\"type\\\":\\\"CurriculumPrerequisite\\\"},{\\\"source_id\\\":50,\\\"target_id\\\":59,\\\"type\\\":\\\"CurriculumPrerequisite\\\"},{\\\"source_id\\\":60,\\\"target_id\\\":59,\\\"type\\\":\\\"CurriculumCorequisite\\\"}],\\\"name\\\":\\\" \\\",\\\"metrics\\\":{\\\"complexity\\\":8.0,\\\"centrality\\\":0,\\\"blocking factor\\\":0,\\\"delay factor\\\":8.0},\\\"nameSub\\\":\\\"EDUC 485A\\\",\\\"id\\\":59,\\\"credits\\\":6,\\\"nameCanonical\\\":\\\"\\\"},{\\\"curriculum_requisites\\\":[{\\\"source_id\\\":51,\\\"target_id\\\":60,\\\"type\\\":\\\"CurriculumPrerequisite\\\"},{\\\"source_id\\\":50,\\\"target_id\\\":60,\\\"type\\\":\\\"CurriculumPrerequisite\\\"},{\\\"source_id\\\":61,\\\"target_id\\\":60,\\\"type\\\":\\\"CurriculumCorequisite\\\"}],\\\"name\\\":\\\" \\\",\\\"metrics\\\":{\\\"complexity\\\":9.0,\\\"centrality\\\":184,\\\"blocking factor\\\":1,\\\"delay factor\\\":8.0},\\\"nameSub\\\":\\\"EDUC 485B\\\",\\\"id\\\":60,\\\"credits\\\":6,\\\"nameCanonical\\\":\\\"\\\"},{\\\"curriculum_requisites\\\":[{\\\"source_id\\\":50,\\\"target_id\\\":61,\\\"type\\\":\\\"CurriculumPrerequisite\\\"}],\\\"name\\\":\\\" \\\",\\\"metrics\\\":{\\\"complexity\\\":10.0,\\\"centrality\\\":94,\\\"blocking factor\\\":2,\\\"delay factor\\\":8.0},\\\"nameSub\\\":\\\"EDUC 493A\\\",\\\"id\\\":61,\\\"credits\\\":1,\\\"nameCanonical\\\":\\\"\\\"},{\\\"curriculum_requisites\\\":[],\\\"name\\\":\\\" \\\",\\\"metrics\\\":{\\\"complexity\\\":1.0,\\\"centrality\\\":0,\\\"blocking factor\\\":0,\\\"delay factor\\\":1.0},\\\"nameSub\\\":\\\"ELECTIVE\\\",\\\"id\\\":62,\\\"credits\\\":1,\\\"nameCanonical\\\":\\\"\\\"}],\\\"id\\\":8}],\\\"institution\\\":\\\"Colorado State University\\\"}},\\\"*\\\"); window.removeEventListener(\\\"message\\\",window.messageReceived); window.messageReceived=(function (event){return (event.data.curriculum!==undefined) ? (WebIO.setval({\\\"name\\\":\\\"curriculum-data\\\",\\\"scope\\\":\\\"9011490339508951562\\\",\\\"id\\\":\\\"1765218350728805825\\\",\\\"type\\\":\\\"observable\\\"},event.data.curriculum)) : undefined}); return window.addEventListener(\\\"message\\\",window.messageReceived)})\")), :style => Dict(:padding => \"0\", :height => \"100vh\", :margin => \"0\", :border => \"none\", :width => \"100%\"))), Dict{String, Tuple{Observables.AbstractObservable, Union{Nothing, Bool}}}(\"curriculum-data\" => (Observable{Dict{String, Any}} with 1 listeners. Value:\n",
       "Dict{String, Any}(\"options\" => Dict{String, Any}(\"hideTerms\" => false, \"edit\" => false), \"curriculum\" => Dict{String, Any}(\"name\" => \"Music Education\", \"dp_name\" => \"4-Year Plan\", \"curriculum_terms\" => Dict{String, Any}[Dict(\"name\" => \"Term 1\", \"curriculum_items\" => Dict{String, Any}[Dict(\"curriculum_requisites\" => Dict{String, Any}[], \"name\" => \" \", \"metrics\" => Dict{String, Any}(\"complexity\" => 3.0, \"centrality\" => 0, \"blocking factor\" => 1, \"delay factor\" => 2.0), \"nameSub\" => \"CO 150\", \"id\" => 1, \"credits\" => 3, \"nameCanonical\" => \"\"), Dict(\"curriculum_requisites\" => Dict{String, Any}[], \"name\" => \" \", \"metrics\" => Dict{String, Any}(\"complexity\" => 22.0, \"centrality\" => 0, \"blocking factor\" => 14, \"delay factor\" => 8.0), \"nameSub\" => \"MU 117\", \"id\" => 2, \"credits\" => 3, \"nameCanonical\" => \"\"), Dict(\"curriculum_requisites\" => Dict{String, Any}[], \"name\" => \" \", \"metrics\" => Dict{String, Any}(\"complexity\" => 7.0, \"centrality\" => 0, \"blocking factor\" => 3, \"delay factor\" => 4.0), \"nameSub\" => \"MU 127\", \"id\" => 3, \"credits\" => 1, \"nameCanonical\" => \"\"), Dict(\"curriculum_requisites\" => Dict{String, Any}[], \"name\" => \" \", \"metrics\" => Dict{String, Any}(\"complexity\" => 4.0, \"centrality\" => 0, \"blocking factor\" => 2, \"delay factor\" => 2.0), \"nameSub\" => \"MU 131\", \"id\" => 4, \"credits\" => 3, \"nameCanonical\" => \"\"), Dict(\"curriculum_requisites\" => Dict{String, Any}[], \"name\" => \" \", \"metrics\" => Dict{String, Any}(\"complexity\" => 3.0, \"centrality\" => 0, \"blocking factor\" => 1, \"delay factor\" => 2.0), \"nameSub\" => \"MU 150\", \"id\" => 5, \"credits\" => 1, \"nameCanonical\" => \"\"), Dict(\"curriculum_requisites\" => Dict{String, Any}[], \"name\" => \" \", \"metrics\" => Dict{String, Any}(\"complexity\" => 1.0, \"centrality\" => 0, \"blocking factor\" => 0, \"delay factor\" => 1.0), \"nameSub\" => \"MU 251\", \"id\" => 6, \"credits\" => 1, \"nameCanonical\" => \"\"), Dict(\"curriculum_requisites\" => Dict{String, Any}[], \"name\" => \" \", \"metrics\" => Dict{String, Any}(\"complexity\" => 1.0, \"centrality\" => 0, \"blocking factor\" => 0, \"delay factor\" => 1.0), \"nameSub\" => \"MU 272\", \"id\" => 7, \"credits\" => 1, \"nameCanonical\" => \"\"), Dict(\"curriculum_requisites\" => Dict{String, Any}[], \"name\" => \" \", \"metrics\" => Dict{String, Any}(\"complexity\" => 1.0, \"centrality\" => 0, \"blocking factor\" => 0, \"delay factor\" => 1.0), \"nameSub\" => \"MU 286\", \"id\" => 8, \"credits\" => 3, \"nameCanonical\" => \"\"), Dict(\"curriculum_requisites\" => Dict{String, Any}[], \"name\" => \" \", \"metrics\" => Dict{String, Any}(\"complexity\" => 1.0, \"centrality\" => 0, \"blocking factor\" => 0, \"delay factor\" => 1.0), \"nameSub\" => \"ENSEMBLE\", \"id\" => 9, \"credits\" => 1, \"nameCanonical\" => \"\")], \"id\" => 1), Dict(\"name\" => \"Term 2\", \"curriculum_items\" => Dict{String, Any}[Dict(\"curriculum_requisites\" => Dict{String, Any}[Dict(\"source_id\" => 2, \"target_id\" => 10, \"type\" => \"CurriculumPrerequisite\")], \"name\" => \" \", \"metrics\" => Dict{String, Any}(\"complexity\" => 19.0, \"centrality\" => 48, \"blocking factor\" => 11, \"delay factor\" => 8.0), \"nameSub\" => \"MU 118\", \"id\" => 10, \"credits\" => 3, \"nameCanonical\" => \"\"), Dict(\"curriculum_requisites\" => Dict{String, Any}[Dict(\"source_id\" => 3, \"target_id\" => 11, \"type\" => \"CurriculumPrerequisite\")], \"name\" => \" \", \"metrics\" => Dict{String, Any}(\"complexity\" => 6.0, \"centrality\" => 4, \"blocking factor\" => 2, \"delay factor\" => 4.0), \"nameSub\" => \"MU 128\", \"id\" => 11, \"credits\" => 1, \"nameCanonical\" => \"\"), Dict(\"curriculum_requisites\" => Dict{String, Any}[Dict(\"source_id\" => 5, \"target_id\" => 12, \"type\" => \"CurriculumPrerequisite\")], \"name\" => \" \", \"metrics\" => Dict{String, Any}(\"complexity\" => 2.0, \"centrality\" => 0, \"blocking factor\" => 0, \"delay factor\" => 2.0), \"nameSub\" => \"MU 151A\", \"id\" => 12, \"credits\" => 1, \"nameCanonical\" => \"\"), Dict(\"curriculum_requisites\" => Dict{String, Any}[], \"name\" => \" \", \"metrics\" => Dict{String, Any}(\"complexity\" => 1.0, \"centrality\" => 0, \"blocking factor\" => 0, \"delay factor\" => 1.0), \"nameSub\" => \"MU 252B\", \"id\" => 13, \"credits\" => 2, \"nameCanonical\" => \"\"), Dict(\"curriculum_requisites\" => Dict{String, Any}[], \"name\" => \" \", \"metrics\" => Dict{String, Any}(\"complexity\" => 1.0, \"centrality\" => 0, \"blocking factor\" => 0, \"delay factor\" => 1.0), \"nameSub\" => \"MU 272\", \"id\" => 14, \"credits\" => 1, \"nameCanonical\" => \"\"), Dict(\"curriculum_requisites\" => Dict{String, Any}[], \"name\" => \" \", \"metrics\" => Dict{String, Any}(\"complexity\" => 1.0, \"centrality\" => 0, \"blocking factor\" => 0, \"delay factor\" => 1.0), \"nameSub\" => \"ENSEMBLE\", \"id\" => 15, \"credits\" => 1, \"nameCanonical\" => \"\"), Dict(\"curriculum_requisites\" => Dict{String, Any}[], \"name\" => \" \", \"metrics\" => Dict{String, Any}(\"complexity\" => 1.0, \"centrality\" => 0, \"blocking factor\" => 0, \"delay factor\" => 1.0), \"nameSub\" => \"AUCC 3B\", \"id\" => 16, \"credits\" => 3, \"nameCanonical\" => \"\"), Dict(\"curriculum_requisites\" => Dict{String, Any}[], \"name\" => \" \", \"metrics\" => Dict{String, Any}(\"complexity\" => 1.0, \"centrality\" => 0, \"blocking factor\" => 0, \"delay factor\" => 1.0), \"nameSub\" => \"AUCC MATH\", \"id\" => 17, \"credits\" => 3, \"nameCanonical\" => \"\")], \"id\" => 2), Dict(\"name\" => \"Term 3\", \"curriculum_items\" => Dict{String, Any}[Dict(\"curriculum_requisites\" => Dict{String, Any}[], \"name\" => \" \", \"metrics\" => Dict{String, Any}(\"complexity\" => 16.0, \"centrality\" => 0, \"blocking factor\" => 8, \"delay factor\" => 8.0), \"nameSub\" => \"EDUC 275\", \"id\" => 18, \"credits\" => 3, \"nameCanonical\" => \"\"), Dict(\"curriculum_requisites\" => Dict{String, Any}[Dict(\"source_id\" => 10, \"target_id\" => 19, \"type\" => \"CurriculumPrerequisite\")], \"name\" => \" \", \"metrics\" => Dict{String, Any}(\"complexity\" => 16.0, \"centrality\" => 42, \"blocking factor\" => 8, \"delay factor\" => 8.0), \"nameSub\" => \"MU 217\", \"id\" => 19, \"credits\" => 3, \"nameCanonical\" => \"\"), Dict(\"curriculum_requisites\" => Dict{String, Any}[Dict(\"source_id\" => 11, \"target_id\" => 20, \"type\" => \"CurriculumPrerequisite\")], \"name\" => \" \", \"metrics\" => Dict{String, Any}(\"complexity\" => 5.0, \"centrality\" => 4, \"blocking factor\" => 1, \"delay factor\" => 4.0), \"nameSub\" => \"MU 227\", \"id\" => 20, \"credits\" => 1, \"nameCanonical\" => \"\"), Dict(\"curriculum_requisites\" => Dict{String, Any}[], \"name\" => \" \", \"metrics\" => Dict{String, Any}(\"complexity\" => 1.0, \"centrality\" => 0, \"blocking factor\" => 0, \"delay factor\" => 1.0), \"nameSub\" => \"MU 252C\", \"id\" => 21, \"credits\" => 1, \"nameCanonical\" => \"\"), Dict(\"curriculum_requisites\" => Dict{String, Any}[], \"name\" => \" \", \"metrics\" => Dict{String, Any}(\"complexity\" => 1.0, \"centrality\" => 0, \"blocking factor\" => 0, \"delay factor\" => 1.0), \"nameSub\" => \"MU 272\", \"id\" => 22, \"credits\" => 1, \"nameCanonical\" => \"\"), Dict(\"curriculum_requisites\" => Dict{String, Any}[], \"name\" => \" \", \"metrics\" => Dict{String, Any}(\"complexity\" => 1.0, \"centrality\" => 0, \"blocking factor\" => 0, \"delay factor\" => 1.0), \"nameSub\" => \"ENSEMBLE\", \"id\" => 23, \"credits\" => 1, \"nameCanonical\" => \"\"), Dict(\"curriculum_requisites\" => Dict{String, Any}[Dict(\"source_id\" => 1, \"target_id\" => 24, \"type\" => \"CurriculumPrerequisite\")], \"name\" => \" \", \"metrics\" => Dict{String, Any}(\"complexity\" => 2.0, \"centrality\" => 0, \"blocking factor\" => 0, \"delay factor\" => 2.0), \"nameSub\" => \"AUCC Advanced Writing\", \"id\" => 24, \"credits\" => 3, \"nameCanonical\" => \"\"), Dict(\"curriculum_requisites\" => Dict{String, Any}[], \"name\" => \" \", \"metrics\" => Dict{String, Any}(\"complexity\" => 1.0, \"centrality\" => 0, \"blocking factor\" => 0, \"delay factor\" => 1.0), \"nameSub\" => \"AUCC 3D\", \"id\" => 25, \"credits\" => 3, \"nameCanonical\" => \"\")], \"id\" => 3), Dict(\"name\" => \"Term 4\", \"curriculum_items\" => Dict{String, Any}[Dict(\"curriculum_requisites\" => Dict{String, Any}[], \"name\" => \" \", \"metrics\" => Dict{String, Any}(\"complexity\" => 16.0, \"centrality\" => 0, \"blocking factor\" => 8, \"delay factor\" => 8.0), \"nameSub\" => \"EDUC 340\", \"id\" => 26, \"credits\" => 3, \"nameCanonical\" => \"\"), Dict(\"curriculum_requisites\" => Dict{String, Any}[Dict(\"source_id\" => 19, \"target_id\" => 27, \"type\" => \"CurriculumPrerequisite\")], \"name\" => \" \", \"metrics\" => Dict{String, Any}(\"complexity\" => 7.0, \"centrality\" => 10, \"blocking factor\" => 2, \"delay factor\" => 5.0), \"nameSub\" => \"MU 218\", \"id\" => 27, \"credits\" => 3, \"nameCanonical\" => \"\"), Dict(\"curriculum_requisites\" => Dict{String, Any}[Dict(\"source_id\" => 20, \"target_id\" => 28, \"type\" => \"CurriculumPrerequisite\")], \"name\" => \" \", \"metrics\" => Dict{String, Any}(\"complexity\" => 4.0, \"centrality\" => 0, \"blocking factor\" => 0, \"delay factor\" => 4.0), \"nameSub\" => \"MU 228\", \"id\" => 28, \"credits\" => 1, \"nameCanonical\" => \"\"), Dict(\"curriculum_requisites\" => Dict{String, Any}[], \"name\" => \" \", \"metrics\" => Dict{String, Any}(\"complexity\" => 1.0, \"centrality\" => 0, \"blocking factor\" => 0, \"delay factor\" => 1.0), \"nameSub\" => \"MU 252A\", \"id\" => 29, \"credits\" => 2, \"nameCanonical\" => \"\"), Dict(\"curriculum_requisites\" => Dict{String, Any}[], \"name\" => \" \", \"metrics\" => Dict{String, Any}(\"complexity\" => 1.0, \"centrality\" => 0, \"blocking factor\" => 0, \"delay factor\" => 1.0), \"nameSub\" => \"MU 272\", \"id\" => 30, \"credits\" => 1, \"nameCanonical\" => \"\"), Dict(\"curriculum_requisites\" => Dict{String, Any}[], \"name\" => \" \", \"metrics\" => Dict{String, Any}(\"complexity\" => 1.0, \"centrality\" => 0, \"blocking factor\" => 0, \"delay factor\" => 1.0), \"nameSub\" => \"ENSEMBLE\", \"id\" => 31, \"credits\" => 1, \"nameCanonical\" => \"\"), Dict(\"curriculum_requisites\" => Dict{String, Any}[], \"name\" => \" \", \"metrics\" => Dict{String, Any}(\"complexity\" => 1.0, \"centrality\" => 0, \"blocking factor\" => 0, \"delay factor\" => 1.0), \"nameSub\" => \"AUCC 3A\", \"id\" => 32, \"credits\" => 4, \"nameCanonical\" => \"\")], \"id\" => 4), Dict(\"name\" => \"Term 5\", \"curriculum_items\" => Dict{String, Any}[Dict(\"curriculum_requisites\" => Dict{String, Any}[Dict(\"source_id\" => 18, \"target_id\" => 33, \"type\" => \"CurriculumPrerequisite\"), Dict(\"source_id\" => 26, \"target_id\" => 33, \"type\" => \"CurriculumPrerequisite\")], \"name\" => \" \", \"metrics\" => Dict{String, Any}(\"complexity\" => 10.0, \"centrality\" => 30, \"blocking factor\" => 4, \"delay factor\" => 6.0), \"nameSub\" => \"EDUC 331\", \"id\" => 33, \"credits\" => 2, \"nameCanonical\" => \"\"), Dict(\"curriculum_requisites\" => Dict{String, Any}[], \"name\" => \" \", \"metrics\" => Dict{String, Any}(\"complexity\" => 1.0, \"centrality\" => 0, \"blocking factor\" => 0, \"delay factor\" => 1.0), \"nameSub\" => \"EDUC 474\", \"id\" => 34, \"credits\" => 2, \"nameCanonical\" => \"\"), Dict(\"curriculum_requisites\" => Dict{String, Any}[Dict(\"source_id\" => 2, \"target_id\" => 35, \"type\" => \"CurriculumPrerequisite\")], \"name\" => \" \", \"metrics\" => Dict{String, Any}(\"complexity\" => 4.0, \"centrality\" => 3, \"blocking factor\" => 1, \"delay factor\" => 3.0), \"nameSub\" => \"MU 254\", \"id\" => 35, \"credits\" => 2, \"nameCanonical\" => \"\"), Dict(\"curriculum_requisites\" => Dict{String, Any}[Dict(\"source_id\" => 27, \"target_id\" => 36, \"type\" => \"CurriculumPrerequisite\")], \"name\" => \" \", \"metrics\" => Dict{String, Any}(\"complexity\" => 5.0, \"centrality\" => 0, \"blocking factor\" => 0, \"delay factor\" => 5.0), \"nameSub\" => \"MU 317\", \"id\" => 36, \"credits\" => 2, \"nameCanonical\" => \"\"), Dict(\"curriculum_requisites\" => Dict{String, Any}[Dict(\"source_id\" => 4, \"target_id\" => 37, \"type\" => \"CurriculumPrerequisite\"), Dict(\"source_id\" => 10, \"target_id\" => 37, \"type\" => \"CurriculumPrerequisite\")], \"name\" => \" \", \"metrics\" => Dict{String, Any}(\"complexity\" => 3.0, \"centrality\" => 0, \"blocking factor\" => 0, \"delay factor\" => 3.0), \"nameSub\" => \"MU 334\", \"id\" => 37, \"credits\" => 3, \"nameCanonical\" => \"\"), Dict(\"curriculum_requisites\" => Dict{String, Any}[], \"name\" => \" \", \"metrics\" => Dict{String, Any}(\"complexity\" => 1.0, \"centrality\" => 0, \"blocking factor\" => 0, \"delay factor\" => 1.0), \"nameSub\" => \"MU 472\", \"id\" => 38, \"credits\" => 1, \"nameCanonical\" => \"\"), Dict(\"curriculum_requisites\" => Dict{String, Any}[], \"name\" => \" \", \"metrics\" => Dict{String, Any}(\"complexity\" => 1.0, \"centrality\" => 0, \"blocking factor\" => 0, \"delay factor\" => 1.0), \"nameSub\" => \"ENSEMBLE\", \"id\" => 39, \"credits\" => 1, \"nameCanonical\" => \"\"), Dict(\"curriculum_requisites\" => Dict{String, Any}[], \"name\" => \" \", \"metrics\" => Dict{String, Any}(\"complexity\" => 1.0, \"centrality\" => 0, \"blocking factor\" => 0, \"delay factor\" => 1.0), \"nameSub\" => \"AUCC 3A\", \"id\" => 40, \"credits\" => 3, \"nameCanonical\" => \"\")], \"id\" => 5), Dict(\"name\" => \"Term 6\", \"curriculum_items\" => Dict{String, Any}[Dict(\"curriculum_requisites\" => Dict{String, Any}[Dict(\"source_id\" => 18, \"target_id\" => 41, \"type\" => \"CurriculumPrerequisite\"), Dict(\"source_id\" => 26, \"target_id\" => 41, \"type\" => \"CurriculumPrerequisite\"), Dict(\"source_id\" => 42, \"target_id\" => 41, \"type\" => \"CurriculumCorequisite\")], \"name\" => \" \", \"metrics\" => Dict{String, Any}(\"complexity\" => 12.0, \"centrality\" => 108, \"blocking factor\" => 4, \"delay factor\" => 8.0), \"nameSub\" => \"EDUC 350\", \"id\" => 41, \"credits\" => 3, \"nameCanonical\" => \"\"), Dict(\"curriculum_requisites\" => Dict{String, Any}[Dict(\"source_id\" => 43, \"target_id\" => 42, \"type\" => \"CurriculumCorequisite\"), Dict(\"source_id\" => 18, \"target_id\" => 42, \"type\" => \"CurriculumPrerequisite\"), Dict(\"source_id\" => 26, \"target_id\" => 42, \"type\" => \"CurriculumPrerequisite\")], \"name\" => \" \", \"metrics\" => Dict{String, Any}(\"complexity\" => 13.0, \"centrality\" => 144, \"blocking factor\" => 5, \"delay factor\" => 8.0), \"nameSub\" => \"EDUC 386\", \"id\" => 42, \"credits\" => 1, \"nameCanonical\" => \"\"), Dict(\"curriculum_requisites\" => Dict{String, Any}[Dict(\"source_id\" => 18, \"target_id\" => 43, \"type\" => \"CurriculumPrerequisite\"), Dict(\"source_id\" => 26, \"target_id\" => 43, \"type\" => \"CurriculumPrerequisite\")], \"name\" => \" \", \"metrics\" => Dict{String, Any}(\"complexity\" => 14.0, \"centrality\" => 78, \"blocking factor\" => 6, \"delay factor\" => 8.0), \"nameSub\" => \"EDUC 475\", \"id\" => 43, \"credits\" => 1, \"nameCanonical\" => \"\"), Dict(\"curriculum_requisites\" => Dict{String, Any}[Dict(\"source_id\" => 27, \"target_id\" => 44, \"type\" => \"CurriculumPrerequisite\")], \"name\" => \" \", \"metrics\" => Dict{String, Any}(\"complexity\" => 5.0, \"centrality\" => 0, \"blocking factor\" => 0, \"delay factor\" => 5.0), \"nameSub\" => \"MU 318\", \"id\" => 44, \"credits\" => 1, \"nameCanonical\" => \"\"), Dict(\"curriculum_requisites\" => Dict{String, Any}[Dict(\"source_id\" => 4, \"target_id\" => 45, \"type\" => \"CurriculumPrerequisite\"), Dict(\"source_id\" => 10, \"target_id\" => 45, \"type\" => \"CurriculumPrerequisite\")], \"name\" => \" \", \"metrics\" => Dict{String, Any}(\"complexity\" => 3.0, \"centrality\" => 0, \"blocking factor\" => 0, \"delay factor\" => 3.0), \"nameSub\" => \"MU 335\", \"id\" => 45, \"credits\" => 1, \"nameCanonical\" => \"\"), Dict(\"curriculum_requisites\" => Dict{String, Any}[Dict(\"source_id\" => 35, \"target_id\" => 46, \"type\" => \"CurriculumPrerequisite\")], \"name\" => \" \", \"metrics\" => Dict{String, Any}(\"complexity\" => 3.0, \"centrality\" => 0, \"blocking factor\" => 0, \"delay factor\" => 3.0), \"nameSub\" => \"MU 356\", \"id\" => 46, \"credits\" => 1, \"nameCanonical\" => \"\"), Dict(\"curriculum_requisites\" => Dict{String, Any}[], \"name\" => \" \", \"metrics\" => Dict{String, Any}(\"complexity\" => 1.0, \"centrality\" => 0, \"blocking factor\" => 0, \"delay factor\" => 1.0), \"nameSub\" => \"MU ELECTIVE\", \"id\" => 47, \"credits\" => 1, \"nameCanonical\" => \"\"), Dict(\"curriculum_requisites\" => Dict{String, Any}[], \"name\" => \" \", \"metrics\" => Dict{String, Any}(\"complexity\" => 1.0, \"centrality\" => 0, \"blocking factor\" => 0, \"delay factor\" => 1.0), \"nameSub\" => \"MU 472\", \"id\" => 48, \"credits\" => 1, \"nameCanonical\" => \"\"), Dict(\"curriculum_requisites\" => Dict{String, Any}[], \"name\" => \" \", \"metrics\" => Dict{String, Any}(\"complexity\" => 1.0, \"centrality\" => 0, \"blocking factor\" => 0, \"delay factor\" => 1.0), \"nameSub\" => \"ENSEMBLE\", \"id\" => 49, \"credits\" => 1, \"nameCanonical\" => \"\")], \"id\" => 6), Dict(\"name\" => \"Term 7\", \"curriculum_items\" => Dict{String, Any}[Dict(\"curriculum_requisites\" => Dict{String, Any}[Dict(\"source_id\" => 51, \"target_id\" => 50, \"type\" => \"CurriculumCorequisite\"), Dict(\"source_id\" => 41, \"target_id\" => 50, \"type\" => \"CurriculumPrerequisite\"), Dict(\"source_id\" => 33, \"target_id\" => 50, \"type\" => \"CurriculumPrerequisite\"), Dict(\"source_id\" => 42, \"target_id\" => 50, \"type\" => \"CurriculumPrerequisite\")], \"name\" => \" \", \"metrics\" => Dict{String, Any}(\"complexity\" => 11.0, \"centrality\" => 240, \"blocking factor\" => 3, \"delay factor\" => 8.0), \"nameSub\" => \"EDUC 450\", \"id\" => 50, \"credits\" => 4, \"nameCanonical\" => \"\"), Dict(\"curriculum_requisites\" => Dict{String, Any}[Dict(\"source_id\" => 52, \"target_id\" => 51, \"type\" => \"CurriculumCorequisite\"), Dict(\"source_id\" => 19, \"target_id\" => 51, \"type\" => \"CurriculumPrerequisite\")], \"name\" => \" \", \"metrics\" => Dict{String, Any}(\"complexity\" => 12.0, \"centrality\" => 54, \"blocking factor\" => 4, \"delay factor\" => 8.0), \"nameSub\" => \"EDUC 477\", \"id\" => 51, \"credits\" => 2, \"nameCanonical\" => \"\"), Dict(\"curriculum_requisites\" => Dict{String, Any}[], \"name\" => \" \", \"metrics\" => Dict{String, Any}(\"complexity\" => 11.0, \"centrality\" => 0, \"blocking factor\" => 5, \"delay factor\" => 6.0), \"nameSub\" => \"EDUC 486E\", \"id\" => 52, \"credits\" => 1, \"nameCanonical\" => \"\"), Dict(\"curriculum_requisites\" => Dict{String, Any}[], \"name\" => \" \", \"metrics\" => Dict{String, Any}(\"complexity\" => 1.0, \"centrality\" => 0, \"blocking factor\" => 0, \"delay factor\" => 1.0), \"nameSub\" => \"MU 252D\", \"id\" => 53, \"credits\" => 1, \"nameCanonical\" => \"\"), Dict(\"curriculum_requisites\" => Dict{String, Any}[], \"name\" => \" \", \"metrics\" => Dict{String, Any}(\"complexity\" => 1.0, \"centrality\" => 0, \"blocking factor\" => 0, \"delay factor\" => 1.0), \"nameSub\" => \"MU 425\", \"id\" => 54, \"credits\" => 2, \"nameCanonical\" => \"\"), Dict(\"curriculum_requisites\" => Dict{String, Any}[], \"name\" => \" \", \"metrics\" => Dict{String, Any}(\"complexity\" => 1.0, \"centrality\" => 0, \"blocking factor\" => 0, \"delay factor\" => 1.0), \"nameSub\" => \"MU 471\", \"id\" => 55, \"credits\" => 1, \"nameCanonical\" => \"\"), Dict(\"curriculum_requisites\" => Dict{String, Any}[], \"name\" => \" \", \"metrics\" => Dict{String, Any}(\"complexity\" => 1.0, \"centrality\" => 0, \"blocking factor\" => 0, \"delay factor\" => 1.0), \"nameSub\" => \"MU 472\", \"id\" => 56, \"credits\" => 1, \"nameCanonical\" => \"\"), Dict(\"curriculum_requisites\" => Dict{String, Any}[], \"name\" => \" \", \"metrics\" => Dict{String, Any}(\"complexity\" => 1.0, \"centrality\" => 0, \"blocking factor\" => 0, \"delay factor\" => 1.0), \"nameSub\" => \"ENSEMBLE\", \"id\" => 57, \"credits\" => 1, \"nameCanonical\" => \"\"), Dict(\"curriculum_requisites\" => Dict{String, Any}[], \"name\" => \" \", \"metrics\" => Dict{String, Any}(\"complexity\" => 1.0, \"centrality\" => 0, \"blocking factor\" => 0, \"delay factor\" => 1.0), \"nameSub\" => \"AUCC 3E\", \"id\" => 58, \"credits\" => 3, \"nameCanonical\" => \"\")], \"id\" => 7), Dict(\"name\" => \"Term 8\", \"curriculum_items\" => Dict{String, Any}[Dict(\"curriculum_requisites\" => Dict{String, Any}[Dict(\"source_id\" => 51, \"target_id\" => 59, \"type\" => \"CurriculumPrerequisite\"), Dict(\"source_id\" => 50, \"target_id\" => 59, \"type\" => \"CurriculumPrerequisite\"), Dict(\"source_id\" => 60, \"target_id\" => 59, \"type\" => \"CurriculumCorequisite\")], \"name\" => \" \", \"metrics\" => Dict{String, Any}(\"complexity\" => 8.0, \"centrality\" => 0, \"blocking factor\" => 0, \"delay factor\" => 8.0), \"nameSub\" => \"EDUC 485A\", \"id\" => 59, \"credits\" => 6, \"nameCanonical\" => \"\"), Dict(\"curriculum_requisites\" => Dict{String, Any}[Dict(\"source_id\" => 51, \"target_id\" => 60, \"type\" => \"CurriculumPrerequisite\"), Dict(\"source_id\" => 50, \"target_id\" => 60, \"type\" => \"CurriculumPrerequisite\"), Dict(\"source_id\" => 61, \"target_id\" => 60, \"type\" => \"CurriculumCorequisite\")], \"name\" => \" \", \"metrics\" => Dict{String, Any}(\"complexity\" => 9.0, \"centrality\" => 184, \"blocking factor\" => 1, \"delay factor\" => 8.0), \"nameSub\" => \"EDUC 485B\", \"id\" => 60, \"credits\" => 6, \"nameCanonical\" => \"\"), Dict(\"curriculum_requisites\" => Dict{String, Any}[Dict(\"source_id\" => 50, \"target_id\" => 61, \"type\" => \"CurriculumPrerequisite\")], \"name\" => \" \", \"metrics\" => Dict{String, Any}(\"complexity\" => 10.0, \"centrality\" => 94, \"blocking factor\" => 2, \"delay factor\" => 8.0), \"nameSub\" => \"EDUC 493A\", \"id\" => 61, \"credits\" => 1, \"nameCanonical\" => \"\"), Dict(\"curriculum_requisites\" => Dict{String, Any}[], \"name\" => \" \", \"metrics\" => Dict{String, Any}(\"complexity\" => 1.0, \"centrality\" => 0, \"blocking factor\" => 0, \"delay factor\" => 1.0), \"nameSub\" => \"ELECTIVE\", \"id\" => 62, \"credits\" => 1, \"nameCanonical\" => \"\")], \"id\" => 8)], \"institution\" => \"Colorado State University\")), nothing)), Set{String}(), nothing, WebIO.Asset[], Dict{Any, Any}(), WebIO.ConnectionPool(Channel{Any}(32), Set{WebIO.AbstractConnection}(), Condition(Base.InvasiveLinkedList{Task}(Task (runnable) @0x0000000177f97970, Task (runnable) @0x0000000177f97970), Base.AlwaysLockedST(1))), WebIO.JSString[])"
      ]
     },
     "execution_count": 4,
     "metadata": {
      "application/vnd.webio.node+json": {
       "kernelId": "b76ffe58-60fd-4d75-94dc-8eaaa668a3fa"
      }
     },
     "output_type": "execute_result"
    }
   ],
   "source": [
    "dp = schools_plans[\"colorado-state\"][\"music-education\"]\n",
    "visualize(dp, notebook=true)"
   ]
  },
  {
   "cell_type": "markdown",
   "metadata": {},
   "source": [
    "## Curricular Analytics\n",
    "First we will analyze the structural properties of the various curricula provided by the programs at the cluster schools.  This will involve analyzing the structural properties of a single curriculum.  The structural properties of a curriculum are determined by the underlying structural properties of its corresponding curriculum graph (i.e., the graph showing the prerequisite relationships between the courses in a curriculum, ignoring term information).\n",
    "\n",
    "Next we will analyze the complexities associated with the curricula in each of four disciplines across all schools in the cluster, namely animal science, mechanical engineering, music education, and psychology.  That is, we will look at the intra-discipline curricular complexity for each of these disciplines.  Finally, we will compare the inter-discipline curricular complexity statistics of the schools in the cluster."
   ]
  },
  {
   "cell_type": "markdown",
   "metadata": {},
   "source": [
    "### Analysis of a single curriclum \n",
    "The `basic_metrics()` function can be used to output a set of basic metrics associatd with a curriculum. As an example, here are the basic curricular metrics associated with the Music Education program at Colorado State Univeristy:"
   ]
  },
  {
   "cell_type": "code",
   "execution_count": 5,
   "metadata": {},
   "outputs": [
    {
     "name": "stdout",
     "output_type": "stream",
     "text": [
      "\n",
      "Colorado State University \n",
      "Curriculum: Music Education\n",
      "  credit hours = 120\n",
      "  number of courses = 62\n",
      "  Blocking Factor --\n",
      "    entire curriculum = 96\n",
      "    max. value = 14, for course(s): MU 117\n",
      "  Centrality --\n",
      "    entire curriculum = 1043\n",
      "    max. value = 240, for course(s): EDUC 450\n",
      "  Delay Factor --\n",
      "    entire curriculum = 200.0\n",
      "    max. value = 8.0, for course(s): MU 117, MU 118, EDUC 275, MU 217, EDUC 340, EDUC 350, EDUC 386, EDUC 475, EDUC 450, EDUC 477, EDUC 485A, EDUC 485B, EDUC 493A\n",
      "  Complexity --\n",
      "    entire curriculum = 296.0\n",
      "    max. value = 22.0, for course(s): MU 117\n",
      "  Longest Path(s) --\n",
      "    length = 8, number of paths = 3\n",
      "    path(s):\n",
      "    path 1 = EDUC 275 -> EDUC 475 -> EDUC 386 -> EDUC 350 -> EDUC 450 -> EDUC 493A -> EDUC 485B -> EDUC 485A\n",
      "    path 2 = EDUC 340 -> EDUC 475 -> EDUC 386 -> EDUC 350 -> EDUC 450 -> EDUC 493A -> EDUC 485B -> EDUC 485A\n",
      "    path 3 = MU 117 -> MU 118 -> MU 217 -> EDUC 477 -> EDUC 450 -> EDUC 493A -> EDUC 485B -> EDUC 485A\n",
      "\n"
     ]
    }
   ],
   "source": [
    "dp = schools_plans[\"colorado-state\"][\"music-education\"]\n",
    "metrics = basic_metrics(dp.curriculum)\n",
    "println(String(take!(metrics)))"
   ]
  },
  {
   "cell_type": "markdown",
   "metadata": {},
   "source": [
    "Here are the basic curricular metrics associated with the Mechanical Engineering program at Colorado State Univeristy:"
   ]
  },
  {
   "cell_type": "code",
   "execution_count": 6,
   "metadata": {},
   "outputs": [
    {
     "name": "stdout",
     "output_type": "stream",
     "text": [
      "\n",
      "Colorado State University \n",
      "Curriculum: Mechanical Engineering\n",
      "  credit hours = 129\n",
      "  number of courses = 39\n",
      "  Blocking Factor --\n",
      "    entire curriculum = 143\n",
      "    max. value = 26, for course(s): MATH 160\n",
      "  Centrality --\n",
      "    entire curriculum = 683\n",
      "    max. value = 81, for course(s): PH 141\n",
      "  Delay Factor --\n",
      "    entire curriculum = 189.0\n",
      "    max. value = 7.0, for course(s): MATH 160, MATH 161, MATH 261, MATH 340, MECH 337, MECH 342, MECH 338, MECH 486B, MECH 498B\n",
      "  Complexity --\n",
      "    entire curriculum = 332.0\n",
      "    max. value = 33.0, for course(s): MATH 160\n",
      "  Longest Path(s) --\n",
      "    length = 7, number of paths = 4\n",
      "    path(s):\n",
      "    path 1 = MATH 160 -> MATH 161 -> MATH 261 -> MATH 340 -> MECH 342 -> MECH 338 -> MECH 486B\n",
      "    path 2 = MATH 160 -> MATH 161 -> MATH 261 -> MECH 337 -> MECH 342 -> MECH 338 -> MECH 486B\n",
      "    path 3 = MATH 160 -> MATH 161 -> MATH 261 -> MATH 340 -> MECH 342 -> MECH 338 -> MECH 498B\n",
      "    path 4 = MATH 160 -> MATH 161 -> MATH 261 -> MECH 337 -> MECH 342 -> MECH 338 -> MECH 498B\n",
      "\n"
     ]
    }
   ],
   "source": [
    "dp = schools_plans[\"colorado-state\"][\"mechanical-engineering\"]\n",
    "metrics = basic_metrics(dp.curriculum)\n",
    "println(String(take!(metrics)))"
   ]
  },
  {
   "cell_type": "markdown",
   "metadata": {},
   "source": [
    "### Analysis of curricula across all cluster schools\n",
    "Next, a data structure is created that groups together the curricula of similar programs across all of the Western Cluster schools. The four disciplinary groupings in this case are all programs with names containing: \"animal,\" \"mechanical,\" \"music,\" and \"psychology.\"\n",
    "\n",
    "The `basic_statistics()` function is then called on each collection of curricula in order to compute the statistical features of the curricular complexities within each discipline.  Finally, a historgram of the curricular complexities within each discipline is provided using the `metric_histogram()` function."
   ]
  },
  {
   "cell_type": "code",
   "execution_count": 7,
   "metadata": {
    "scrolled": false
   },
   "outputs": [
    {
     "name": "stdout",
     "output_type": "stream",
     "text": [
      "****** Music Education Programs ******\n",
      "\n",
      " Metric -- complexity\n",
      "  Number of curricula = 14\n",
      "  Mean = 225.71428571428572\n",
      "  STD = 21.571800240074257\n",
      "  Max. = 301.0\n",
      "  Min. = 145.0\n"
     ]
    },
    {
     "data": {
      "image/svg+xml": [
       "<?xml version=\"1.0\" encoding=\"utf-8\"?>\n",
       "<svg xmlns=\"http://www.w3.org/2000/svg\" xmlns:xlink=\"http://www.w3.org/1999/xlink\" width=\"600\" height=\"400\" viewBox=\"0 0 2400 1600\">\n",
       "<defs>\n",
       "  <clipPath id=\"clip380\">\n",
       "    <rect x=\"0\" y=\"0\" width=\"2400\" height=\"1600\"/>\n",
       "  </clipPath>\n",
       "</defs>\n",
       "<path clip-path=\"url(#clip380)\" d=\"\n",
       "M0 1600 L2400 1600 L2400 0 L0 0  Z\n",
       "  \" fill=\"#ffffff\" fill-rule=\"evenodd\" fill-opacity=\"1\"/>\n",
       "<defs>\n",
       "  <clipPath id=\"clip381\">\n",
       "    <rect x=\"480\" y=\"0\" width=\"1681\" height=\"1600\"/>\n",
       "  </clipPath>\n",
       "</defs>\n",
       "<path clip-path=\"url(#clip380)\" d=\"\n",
       "M175.445 1423.18 L2352.76 1423.18 L2352.76 123.472 L175.445 123.472  Z\n",
       "  \" fill=\"#ffffff\" fill-rule=\"evenodd\" fill-opacity=\"1\"/>\n",
       "<defs>\n",
       "  <clipPath id=\"clip382\">\n",
       "    <rect x=\"175\" y=\"123\" width=\"2178\" height=\"1301\"/>\n",
       "  </clipPath>\n",
       "</defs>\n",
       "<polyline clip-path=\"url(#clip382)\" style=\"stroke:#000000; stroke-width:2; stroke-opacity:0.1; fill:none\" points=\"\n",
       "  175.445,1423.18 175.445,123.472 \n",
       "  \"/>\n",
       "<polyline clip-path=\"url(#clip382)\" style=\"stroke:#000000; stroke-width:2; stroke-opacity:0.1; fill:none\" points=\"\n",
       "  610.907,1423.18 610.907,123.472 \n",
       "  \"/>\n",
       "<polyline clip-path=\"url(#clip382)\" style=\"stroke:#000000; stroke-width:2; stroke-opacity:0.1; fill:none\" points=\"\n",
       "  1046.37,1423.18 1046.37,123.472 \n",
       "  \"/>\n",
       "<polyline clip-path=\"url(#clip382)\" style=\"stroke:#000000; stroke-width:2; stroke-opacity:0.1; fill:none\" points=\"\n",
       "  1481.83,1423.18 1481.83,123.472 \n",
       "  \"/>\n",
       "<polyline clip-path=\"url(#clip382)\" style=\"stroke:#000000; stroke-width:2; stroke-opacity:0.1; fill:none\" points=\"\n",
       "  1917.29,1423.18 1917.29,123.472 \n",
       "  \"/>\n",
       "<polyline clip-path=\"url(#clip382)\" style=\"stroke:#000000; stroke-width:2; stroke-opacity:0.1; fill:none\" points=\"\n",
       "  2352.76,1423.18 2352.76,123.472 \n",
       "  \"/>\n",
       "<polyline clip-path=\"url(#clip380)\" style=\"stroke:#000000; stroke-width:4; stroke-opacity:1; fill:none\" points=\"\n",
       "  175.445,1423.18 2352.76,1423.18 \n",
       "  \"/>\n",
       "<polyline clip-path=\"url(#clip380)\" style=\"stroke:#000000; stroke-width:4; stroke-opacity:1; fill:none\" points=\"\n",
       "  175.445,1423.18 175.445,1407.58 \n",
       "  \"/>\n",
       "<polyline clip-path=\"url(#clip380)\" style=\"stroke:#000000; stroke-width:4; stroke-opacity:1; fill:none\" points=\"\n",
       "  610.907,1423.18 610.907,1407.58 \n",
       "  \"/>\n",
       "<polyline clip-path=\"url(#clip380)\" style=\"stroke:#000000; stroke-width:4; stroke-opacity:1; fill:none\" points=\"\n",
       "  1046.37,1423.18 1046.37,1407.58 \n",
       "  \"/>\n",
       "<polyline clip-path=\"url(#clip380)\" style=\"stroke:#000000; stroke-width:4; stroke-opacity:1; fill:none\" points=\"\n",
       "  1481.83,1423.18 1481.83,1407.58 \n",
       "  \"/>\n",
       "<polyline clip-path=\"url(#clip380)\" style=\"stroke:#000000; stroke-width:4; stroke-opacity:1; fill:none\" points=\"\n",
       "  1917.29,1423.18 1917.29,1407.58 \n",
       "  \"/>\n",
       "<polyline clip-path=\"url(#clip380)\" style=\"stroke:#000000; stroke-width:4; stroke-opacity:1; fill:none\" points=\"\n",
       "  2352.76,1423.18 2352.76,1407.58 \n",
       "  \"/>\n",
       "<path clip-path=\"url(#clip380)\" d=\"M 0 0 M175.445 1452.37 Q171.834 1452.37 170.005 1455.94 Q168.2 1459.48 168.2 1466.61 Q168.2 1473.71 170.005 1477.28 Q171.834 1480.82 175.445 1480.82 Q179.079 1480.82 180.885 1477.28 Q182.714 1473.71 182.714 1466.61 Q182.714 1459.48 180.885 1455.94 Q179.079 1452.37 175.445 1452.37 M175.445 1448.67 Q181.255 1448.67 184.311 1453.27 Q187.39 1457.86 187.39 1466.61 Q187.39 1475.33 184.311 1479.94 Q181.255 1484.52 175.445 1484.52 Q169.635 1484.52 166.556 1479.94 Q163.501 1475.33 163.501 1466.61 Q163.501 1457.86 166.556 1453.27 Q169.635 1448.67 175.445 1448.67 Z\" fill=\"#000000\" fill-rule=\"evenodd\" fill-opacity=\"1\" /><path clip-path=\"url(#clip380)\" d=\"M 0 0 M570.514 1479.92 L578.153 1479.92 L578.153 1453.55 L569.843 1455.22 L569.843 1450.96 L578.107 1449.29 L582.782 1449.29 L582.782 1479.92 L590.421 1479.92 L590.421 1483.85 L570.514 1483.85 L570.514 1479.92 Z\" fill=\"#000000\" fill-rule=\"evenodd\" fill-opacity=\"1\" /><path clip-path=\"url(#clip380)\" d=\"M 0 0 M609.866 1452.37 Q606.255 1452.37 604.426 1455.94 Q602.62 1459.48 602.62 1466.61 Q602.62 1473.71 604.426 1477.28 Q606.255 1480.82 609.866 1480.82 Q613.5 1480.82 615.305 1477.28 Q617.134 1473.71 617.134 1466.61 Q617.134 1459.48 615.305 1455.94 Q613.5 1452.37 609.866 1452.37 M609.866 1448.67 Q615.676 1448.67 618.731 1453.27 Q621.81 1457.86 621.81 1466.61 Q621.81 1475.33 618.731 1479.94 Q615.676 1484.52 609.866 1484.52 Q604.056 1484.52 600.977 1479.94 Q597.921 1475.33 597.921 1466.61 Q597.921 1457.86 600.977 1453.27 Q604.056 1448.67 609.866 1448.67 Z\" fill=\"#000000\" fill-rule=\"evenodd\" fill-opacity=\"1\" /><path clip-path=\"url(#clip380)\" d=\"M 0 0 M640.028 1452.37 Q636.416 1452.37 634.588 1455.94 Q632.782 1459.48 632.782 1466.61 Q632.782 1473.71 634.588 1477.28 Q636.416 1480.82 640.028 1480.82 Q643.662 1480.82 645.467 1477.28 Q647.296 1473.71 647.296 1466.61 Q647.296 1459.48 645.467 1455.94 Q643.662 1452.37 640.028 1452.37 M640.028 1448.67 Q645.838 1448.67 648.893 1453.27 Q651.972 1457.86 651.972 1466.61 Q651.972 1475.33 648.893 1479.94 Q645.838 1484.52 640.028 1484.52 Q634.217 1484.52 631.139 1479.94 Q628.083 1475.33 628.083 1466.61 Q628.083 1457.86 631.139 1453.27 Q634.217 1448.67 640.028 1448.67 Z\" fill=\"#000000\" fill-rule=\"evenodd\" fill-opacity=\"1\" /><path clip-path=\"url(#clip380)\" d=\"M 0 0 M1010.06 1479.92 L1026.38 1479.92 L1026.38 1483.85 L1004.44 1483.85 L1004.44 1479.92 Q1007.1 1477.16 1011.68 1472.53 Q1016.29 1467.88 1017.47 1466.54 Q1019.71 1464.01 1020.59 1462.28 Q1021.5 1460.52 1021.5 1458.83 Q1021.5 1456.07 1019.55 1454.34 Q1017.63 1452.6 1014.53 1452.6 Q1012.33 1452.6 1009.88 1453.37 Q1007.45 1454.13 1004.67 1455.68 L1004.67 1450.96 Q1007.49 1449.82 1009.95 1449.25 Q1012.4 1448.67 1014.44 1448.67 Q1019.81 1448.67 1023 1451.35 Q1026.2 1454.04 1026.2 1458.53 Q1026.2 1460.66 1025.39 1462.58 Q1024.6 1464.48 1022.49 1467.07 Q1021.91 1467.74 1018.81 1470.96 Q1015.71 1474.15 1010.06 1479.92 Z\" fill=\"#000000\" fill-rule=\"evenodd\" fill-opacity=\"1\" /><path clip-path=\"url(#clip380)\" d=\"M 0 0 M1046.2 1452.37 Q1042.58 1452.37 1040.76 1455.94 Q1038.95 1459.48 1038.95 1466.61 Q1038.95 1473.71 1040.76 1477.28 Q1042.58 1480.82 1046.2 1480.82 Q1049.83 1480.82 1051.64 1477.28 Q1053.46 1473.71 1053.46 1466.61 Q1053.46 1459.48 1051.64 1455.94 Q1049.83 1452.37 1046.2 1452.37 M1046.2 1448.67 Q1052.01 1448.67 1055.06 1453.27 Q1058.14 1457.86 1058.14 1466.61 Q1058.14 1475.33 1055.06 1479.94 Q1052.01 1484.52 1046.2 1484.52 Q1040.39 1484.52 1037.31 1479.94 Q1034.25 1475.33 1034.25 1466.61 Q1034.25 1457.86 1037.31 1453.27 Q1040.39 1448.67 1046.2 1448.67 Z\" fill=\"#000000\" fill-rule=\"evenodd\" fill-opacity=\"1\" /><path clip-path=\"url(#clip380)\" d=\"M 0 0 M1076.36 1452.37 Q1072.75 1452.37 1070.92 1455.94 Q1069.11 1459.48 1069.11 1466.61 Q1069.11 1473.71 1070.92 1477.28 Q1072.75 1480.82 1076.36 1480.82 Q1079.99 1480.82 1081.8 1477.28 Q1083.63 1473.71 1083.63 1466.61 Q1083.63 1459.48 1081.8 1455.94 Q1079.99 1452.37 1076.36 1452.37 M1076.36 1448.67 Q1082.17 1448.67 1085.22 1453.27 Q1088.3 1457.86 1088.3 1466.61 Q1088.3 1475.33 1085.22 1479.94 Q1082.17 1484.52 1076.36 1484.52 Q1070.55 1484.52 1067.47 1479.94 Q1064.41 1475.33 1064.41 1466.61 Q1064.41 1457.86 1067.47 1453.27 Q1070.55 1448.67 1076.36 1448.67 Z\" fill=\"#000000\" fill-rule=\"evenodd\" fill-opacity=\"1\" /><path clip-path=\"url(#clip380)\" d=\"M 0 0 M1455.59 1465.22 Q1458.95 1465.94 1460.82 1468.2 Q1462.72 1470.47 1462.72 1473.81 Q1462.72 1478.92 1459.2 1481.72 Q1455.69 1484.52 1449.2 1484.52 Q1447.03 1484.52 1444.71 1484.08 Q1442.42 1483.67 1439.97 1482.81 L1439.97 1478.3 Q1441.91 1479.43 1444.23 1480.01 Q1446.54 1480.59 1449.07 1480.59 Q1453.46 1480.59 1455.76 1478.85 Q1458.07 1477.12 1458.07 1473.81 Q1458.07 1470.75 1455.92 1469.04 Q1453.79 1467.3 1449.97 1467.3 L1445.94 1467.3 L1445.94 1463.46 L1450.15 1463.46 Q1453.6 1463.46 1455.43 1462.09 Q1457.26 1460.7 1457.26 1458.11 Q1457.26 1455.45 1455.36 1454.04 Q1453.49 1452.6 1449.97 1452.6 Q1448.05 1452.6 1445.85 1453.02 Q1443.65 1453.44 1441.01 1454.31 L1441.01 1450.15 Q1443.67 1449.41 1445.99 1449.04 Q1448.32 1448.67 1450.39 1448.67 Q1455.71 1448.67 1458.81 1451.1 Q1461.91 1453.5 1461.91 1457.63 Q1461.91 1460.5 1460.27 1462.49 Q1458.63 1464.45 1455.59 1465.22 Z\" fill=\"#000000\" fill-rule=\"evenodd\" fill-opacity=\"1\" /><path clip-path=\"url(#clip380)\" d=\"M 0 0 M1481.59 1452.37 Q1477.98 1452.37 1476.15 1455.94 Q1474.34 1459.48 1474.34 1466.61 Q1474.34 1473.71 1476.15 1477.28 Q1477.98 1480.82 1481.59 1480.82 Q1485.22 1480.82 1487.03 1477.28 Q1488.86 1473.71 1488.86 1466.61 Q1488.86 1459.48 1487.03 1455.94 Q1485.22 1452.37 1481.59 1452.37 M1481.59 1448.67 Q1487.4 1448.67 1490.45 1453.27 Q1493.53 1457.86 1493.53 1466.61 Q1493.53 1475.33 1490.45 1479.94 Q1487.4 1484.52 1481.59 1484.52 Q1475.78 1484.52 1472.7 1479.94 Q1469.64 1475.33 1469.64 1466.61 Q1469.64 1457.86 1472.7 1453.27 Q1475.78 1448.67 1481.59 1448.67 Z\" fill=\"#000000\" fill-rule=\"evenodd\" fill-opacity=\"1\" /><path clip-path=\"url(#clip380)\" d=\"M 0 0 M1511.75 1452.37 Q1508.14 1452.37 1506.31 1455.94 Q1504.51 1459.48 1504.51 1466.61 Q1504.51 1473.71 1506.31 1477.28 Q1508.14 1480.82 1511.75 1480.82 Q1515.38 1480.82 1517.19 1477.28 Q1519.02 1473.71 1519.02 1466.61 Q1519.02 1459.48 1517.19 1455.94 Q1515.38 1452.37 1511.75 1452.37 M1511.75 1448.67 Q1517.56 1448.67 1520.62 1453.27 Q1523.69 1457.86 1523.69 1466.61 Q1523.69 1475.33 1520.62 1479.94 Q1517.56 1484.52 1511.75 1484.52 Q1505.94 1484.52 1502.86 1479.94 Q1499.81 1475.33 1499.81 1466.61 Q1499.81 1457.86 1502.86 1453.27 Q1505.94 1448.67 1511.75 1448.67 Z\" fill=\"#000000\" fill-rule=\"evenodd\" fill-opacity=\"1\" /><path clip-path=\"url(#clip380)\" d=\"M 0 0 M1890.38 1453.37 L1878.58 1471.81 L1890.38 1471.81 L1890.38 1453.37 M1889.16 1449.29 L1895.04 1449.29 L1895.04 1471.81 L1899.97 1471.81 L1899.97 1475.7 L1895.04 1475.7 L1895.04 1483.85 L1890.38 1483.85 L1890.38 1475.7 L1874.78 1475.7 L1874.78 1471.19 L1889.16 1449.29 Z\" fill=\"#000000\" fill-rule=\"evenodd\" fill-opacity=\"1\" /><path clip-path=\"url(#clip380)\" d=\"M 0 0 M1917.7 1452.37 Q1914.09 1452.37 1912.26 1455.94 Q1910.45 1459.48 1910.45 1466.61 Q1910.45 1473.71 1912.26 1477.28 Q1914.09 1480.82 1917.7 1480.82 Q1921.33 1480.82 1923.14 1477.28 Q1924.97 1473.71 1924.97 1466.61 Q1924.97 1459.48 1923.14 1455.94 Q1921.33 1452.37 1917.7 1452.37 M1917.7 1448.67 Q1923.51 1448.67 1926.56 1453.27 Q1929.64 1457.86 1929.64 1466.61 Q1929.64 1475.33 1926.56 1479.94 Q1923.51 1484.52 1917.7 1484.52 Q1911.89 1484.52 1908.81 1479.94 Q1905.75 1475.33 1905.75 1466.61 Q1905.75 1457.86 1908.81 1453.27 Q1911.89 1448.67 1917.7 1448.67 Z\" fill=\"#000000\" fill-rule=\"evenodd\" fill-opacity=\"1\" /><path clip-path=\"url(#clip380)\" d=\"M 0 0 M1947.86 1452.37 Q1944.25 1452.37 1942.42 1455.94 Q1940.62 1459.48 1940.62 1466.61 Q1940.62 1473.71 1942.42 1477.28 Q1944.25 1480.82 1947.86 1480.82 Q1951.49 1480.82 1953.3 1477.28 Q1955.13 1473.71 1955.13 1466.61 Q1955.13 1459.48 1953.3 1455.94 Q1951.49 1452.37 1947.86 1452.37 M1947.86 1448.67 Q1953.67 1448.67 1956.73 1453.27 Q1959.81 1457.86 1959.81 1466.61 Q1959.81 1475.33 1956.73 1479.94 Q1953.67 1484.52 1947.86 1484.52 Q1942.05 1484.52 1938.97 1479.94 Q1935.92 1475.33 1935.92 1466.61 Q1935.92 1457.86 1938.97 1453.27 Q1942.05 1448.67 1947.86 1448.67 Z\" fill=\"#000000\" fill-rule=\"evenodd\" fill-opacity=\"1\" /><path clip-path=\"url(#clip380)\" d=\"M 0 0 M2312.37 1449.29 L2330.73 1449.29 L2330.73 1453.23 L2316.66 1453.23 L2316.66 1461.7 Q2317.68 1461.35 2318.69 1461.19 Q2319.71 1461 2320.73 1461 Q2326.52 1461 2329.9 1464.18 Q2333.28 1467.35 2333.28 1472.76 Q2333.28 1478.34 2329.8 1481.44 Q2326.33 1484.52 2320.01 1484.52 Q2317.84 1484.52 2315.57 1484.15 Q2313.32 1483.78 2310.92 1483.04 L2310.92 1478.34 Q2313 1479.48 2315.22 1480.03 Q2317.44 1480.59 2319.92 1480.59 Q2323.93 1480.59 2326.26 1478.48 Q2328.6 1476.38 2328.6 1472.76 Q2328.6 1469.15 2326.26 1467.05 Q2323.93 1464.94 2319.92 1464.94 Q2318.05 1464.94 2316.17 1465.36 Q2314.32 1465.77 2312.37 1466.65 L2312.37 1449.29 Z\" fill=\"#000000\" fill-rule=\"evenodd\" fill-opacity=\"1\" /><path clip-path=\"url(#clip380)\" d=\"M 0 0 M2352.49 1452.37 Q2348.88 1452.37 2347.05 1455.94 Q2345.24 1459.48 2345.24 1466.61 Q2345.24 1473.71 2347.05 1477.28 Q2348.88 1480.82 2352.49 1480.82 Q2356.12 1480.82 2357.93 1477.28 Q2359.76 1473.71 2359.76 1466.61 Q2359.76 1459.48 2357.93 1455.94 Q2356.12 1452.37 2352.49 1452.37 M2352.49 1448.67 Q2358.3 1448.67 2361.36 1453.27 Q2364.43 1457.86 2364.43 1466.61 Q2364.43 1475.33 2361.36 1479.94 Q2358.3 1484.52 2352.49 1484.52 Q2346.68 1484.52 2343.6 1479.94 Q2340.55 1475.33 2340.55 1466.61 Q2340.55 1457.86 2343.6 1453.27 Q2346.68 1448.67 2352.49 1448.67 Z\" fill=\"#000000\" fill-rule=\"evenodd\" fill-opacity=\"1\" /><path clip-path=\"url(#clip380)\" d=\"M 0 0 M2382.65 1452.37 Q2379.04 1452.37 2377.21 1455.94 Q2375.41 1459.48 2375.41 1466.61 Q2375.41 1473.71 2377.21 1477.28 Q2379.04 1480.82 2382.65 1480.82 Q2386.29 1480.82 2388.09 1477.28 Q2389.92 1473.71 2389.92 1466.61 Q2389.92 1459.48 2388.09 1455.94 Q2386.29 1452.37 2382.65 1452.37 M2382.65 1448.67 Q2388.46 1448.67 2391.52 1453.27 Q2394.6 1457.86 2394.6 1466.61 Q2394.6 1475.33 2391.52 1479.94 Q2388.46 1484.52 2382.65 1484.52 Q2376.84 1484.52 2373.76 1479.94 Q2370.71 1475.33 2370.71 1466.61 Q2370.71 1457.86 2373.76 1453.27 Q2376.84 1448.67 2382.65 1448.67 Z\" fill=\"#000000\" fill-rule=\"evenodd\" fill-opacity=\"1\" /><path clip-path=\"url(#clip380)\" d=\"M 0 0 M1115.83 1533.76 L1115.83 1539.24 Q1113.34 1537.87 1110.83 1537.2 Q1108.35 1536.5 1105.8 1536.5 Q1100.1 1536.5 1096.95 1540.13 Q1093.8 1543.73 1093.8 1550.25 Q1093.8 1556.78 1096.95 1560.4 Q1100.1 1564 1105.8 1564 Q1108.35 1564 1110.83 1563.33 Q1113.34 1562.63 1115.83 1561.26 L1115.83 1566.68 Q1113.38 1567.82 1110.73 1568.39 Q1108.12 1568.97 1105.16 1568.97 Q1097.11 1568.97 1092.37 1563.91 Q1087.63 1558.85 1087.63 1550.25 Q1087.63 1541.53 1092.4 1536.53 Q1097.21 1531.54 1105.55 1531.54 Q1108.25 1531.54 1110.83 1532.11 Q1113.41 1532.65 1115.83 1533.76 Z\" fill=\"#000000\" fill-rule=\"evenodd\" fill-opacity=\"1\" /><path clip-path=\"url(#clip380)\" d=\"M 0 0 M1139.83 1536.5 Q1135.12 1536.5 1132.38 1540.19 Q1129.64 1543.85 1129.64 1550.25 Q1129.64 1556.65 1132.35 1560.34 Q1135.08 1564 1139.83 1564 Q1144.5 1564 1147.24 1560.31 Q1149.98 1556.62 1149.98 1550.25 Q1149.98 1543.92 1147.24 1540.23 Q1144.5 1536.5 1139.83 1536.5 M1139.83 1531.54 Q1147.46 1531.54 1151.83 1536.5 Q1156.19 1541.47 1156.19 1550.25 Q1156.19 1559 1151.83 1564 Q1147.46 1568.97 1139.83 1568.97 Q1132.16 1568.97 1127.79 1564 Q1123.47 1559 1123.47 1550.25 Q1123.47 1541.47 1127.79 1536.5 Q1132.16 1531.54 1139.83 1531.54 Z\" fill=\"#000000\" fill-rule=\"evenodd\" fill-opacity=\"1\" /><path clip-path=\"url(#clip380)\" d=\"M 0 0 M1193.65 1539.24 Q1195.84 1535.29 1198.9 1533.41 Q1201.96 1531.54 1206.09 1531.54 Q1211.66 1531.54 1214.69 1535.45 Q1217.71 1539.33 1217.71 1546.53 L1217.71 1568.04 L1211.82 1568.04 L1211.82 1546.72 Q1211.82 1541.59 1210.01 1539.11 Q1208.19 1536.63 1204.47 1536.63 Q1199.92 1536.63 1197.28 1539.65 Q1194.63 1542.68 1194.63 1547.9 L1194.63 1568.04 L1188.75 1568.04 L1188.75 1546.72 Q1188.75 1541.56 1186.93 1539.11 Q1185.12 1536.63 1181.33 1536.63 Q1176.84 1536.63 1174.2 1539.68 Q1171.56 1542.71 1171.56 1547.9 L1171.56 1568.04 L1165.67 1568.04 L1165.67 1532.4 L1171.56 1532.4 L1171.56 1537.93 Q1173.56 1534.66 1176.37 1533.1 Q1179.17 1531.54 1183.02 1531.54 Q1186.9 1531.54 1189.61 1533.51 Q1192.34 1535.48 1193.65 1539.24 Z\" fill=\"#000000\" fill-rule=\"evenodd\" fill-opacity=\"1\" /><path clip-path=\"url(#clip380)\" d=\"M 0 0 M1235.06 1562.7 L1235.06 1581.6 L1229.17 1581.6 L1229.17 1532.4 L1235.06 1532.4 L1235.06 1537.81 Q1236.9 1534.62 1239.7 1533.1 Q1242.54 1531.54 1246.45 1531.54 Q1252.94 1531.54 1256.99 1536.69 Q1261.06 1541.85 1261.06 1550.25 Q1261.06 1558.65 1256.99 1563.81 Q1252.94 1568.97 1246.45 1568.97 Q1242.54 1568.97 1239.7 1567.44 Q1236.9 1565.88 1235.06 1562.7 M1254.98 1550.25 Q1254.98 1543.79 1252.31 1540.13 Q1249.67 1536.44 1245.02 1536.44 Q1240.37 1536.44 1237.7 1540.13 Q1235.06 1543.79 1235.06 1550.25 Q1235.06 1556.71 1237.7 1560.4 Q1240.37 1564.07 1245.02 1564.07 Q1249.67 1564.07 1252.31 1560.4 Q1254.98 1556.71 1254.98 1550.25 Z\" fill=\"#000000\" fill-rule=\"evenodd\" fill-opacity=\"1\" /><path clip-path=\"url(#clip380)\" d=\"M 0 0 M1270.77 1518.52 L1276.63 1518.52 L1276.63 1568.04 L1270.77 1568.04 L1270.77 1518.52 Z\" fill=\"#000000\" fill-rule=\"evenodd\" fill-opacity=\"1\" /><path clip-path=\"url(#clip380)\" d=\"M 0 0 M1319.37 1548.76 L1319.37 1551.62 L1292.44 1551.62 Q1292.83 1557.67 1296.07 1560.85 Q1299.35 1564 1305.18 1564 Q1308.55 1564 1311.7 1563.17 Q1314.88 1562.35 1318 1560.69 L1318 1566.23 Q1314.85 1567.57 1311.54 1568.27 Q1308.23 1568.97 1304.83 1568.97 Q1296.3 1568.97 1291.3 1564 Q1286.33 1559.04 1286.33 1550.57 Q1286.33 1541.82 1291.04 1536.69 Q1295.79 1531.54 1303.81 1531.54 Q1311 1531.54 1315.17 1536.18 Q1319.37 1540.8 1319.37 1548.76 M1313.51 1547.04 Q1313.45 1542.23 1310.81 1539.37 Q1308.2 1536.5 1303.87 1536.5 Q1298.97 1536.5 1296.01 1539.27 Q1293.08 1542.04 1292.63 1547.07 L1313.51 1547.04 Z\" fill=\"#000000\" fill-rule=\"evenodd\" fill-opacity=\"1\" /><path clip-path=\"url(#clip380)\" d=\"M 0 0 M1357.47 1532.4 L1344.58 1549.74 L1358.14 1568.04 L1351.23 1568.04 L1340.86 1554.04 L1330.48 1568.04 L1323.57 1568.04 L1337.42 1549.39 L1324.75 1532.4 L1331.66 1532.4 L1341.11 1545.1 L1350.56 1532.4 L1357.47 1532.4 Z\" fill=\"#000000\" fill-rule=\"evenodd\" fill-opacity=\"1\" /><path clip-path=\"url(#clip380)\" d=\"M 0 0 M1366.41 1532.4 L1372.27 1532.4 L1372.27 1568.04 L1366.41 1568.04 L1366.41 1532.4 M1366.41 1518.52 L1372.27 1518.52 L1372.27 1525.93 L1366.41 1525.93 L1366.41 1518.52 Z\" fill=\"#000000\" fill-rule=\"evenodd\" fill-opacity=\"1\" /><path clip-path=\"url(#clip380)\" d=\"M 0 0 M1390.32 1522.27 L1390.32 1532.4 L1402.38 1532.4 L1402.38 1536.95 L1390.32 1536.95 L1390.32 1556.3 Q1390.32 1560.66 1391.49 1561.9 Q1392.7 1563.14 1396.36 1563.14 L1402.38 1563.14 L1402.38 1568.04 L1396.36 1568.04 Q1389.58 1568.04 1387.01 1565.53 Q1384.43 1562.98 1384.43 1556.3 L1384.43 1536.95 L1380.13 1536.95 L1380.13 1532.4 L1384.43 1532.4 L1384.43 1522.27 L1390.32 1522.27 Z\" fill=\"#000000\" fill-rule=\"evenodd\" fill-opacity=\"1\" /><path clip-path=\"url(#clip380)\" d=\"M 0 0 M1424.91 1571.35 Q1422.43 1577.72 1420.08 1579.66 Q1417.72 1581.6 1413.77 1581.6 L1409.1 1581.6 L1409.1 1576.7 L1412.53 1576.7 Q1414.95 1576.7 1416.29 1575.56 Q1417.63 1574.41 1419.25 1570.14 L1420.3 1567.47 L1405.88 1532.4 L1412.09 1532.4 L1423.23 1560.28 L1434.37 1532.4 L1440.57 1532.4 L1424.91 1571.35 Z\" fill=\"#000000\" fill-rule=\"evenodd\" fill-opacity=\"1\" /><polyline clip-path=\"url(#clip382)\" style=\"stroke:#000000; stroke-width:2; stroke-opacity:0.1; fill:none\" points=\"\n",
       "  175.445,1423.18 2352.76,1423.18 \n",
       "  \"/>\n",
       "<polyline clip-path=\"url(#clip382)\" style=\"stroke:#000000; stroke-width:2; stroke-opacity:0.1; fill:none\" points=\"\n",
       "  175.445,1237.51 2352.76,1237.51 \n",
       "  \"/>\n",
       "<polyline clip-path=\"url(#clip382)\" style=\"stroke:#000000; stroke-width:2; stroke-opacity:0.1; fill:none\" points=\"\n",
       "  175.445,1051.83 2352.76,1051.83 \n",
       "  \"/>\n",
       "<polyline clip-path=\"url(#clip382)\" style=\"stroke:#000000; stroke-width:2; stroke-opacity:0.1; fill:none\" points=\"\n",
       "  175.445,866.162 2352.76,866.162 \n",
       "  \"/>\n",
       "<polyline clip-path=\"url(#clip382)\" style=\"stroke:#000000; stroke-width:2; stroke-opacity:0.1; fill:none\" points=\"\n",
       "  175.445,680.49 2352.76,680.49 \n",
       "  \"/>\n",
       "<polyline clip-path=\"url(#clip382)\" style=\"stroke:#000000; stroke-width:2; stroke-opacity:0.1; fill:none\" points=\"\n",
       "  175.445,494.817 2352.76,494.817 \n",
       "  \"/>\n",
       "<polyline clip-path=\"url(#clip382)\" style=\"stroke:#000000; stroke-width:2; stroke-opacity:0.1; fill:none\" points=\"\n",
       "  175.445,309.145 2352.76,309.145 \n",
       "  \"/>\n",
       "<polyline clip-path=\"url(#clip382)\" style=\"stroke:#000000; stroke-width:2; stroke-opacity:0.1; fill:none\" points=\"\n",
       "  175.445,123.472 2352.76,123.472 \n",
       "  \"/>\n",
       "<polyline clip-path=\"url(#clip380)\" style=\"stroke:#000000; stroke-width:4; stroke-opacity:1; fill:none\" points=\"\n",
       "  175.445,1423.18 175.445,123.472 \n",
       "  \"/>\n",
       "<polyline clip-path=\"url(#clip380)\" style=\"stroke:#000000; stroke-width:4; stroke-opacity:1; fill:none\" points=\"\n",
       "  175.445,1423.18 201.573,1423.18 \n",
       "  \"/>\n",
       "<polyline clip-path=\"url(#clip380)\" style=\"stroke:#000000; stroke-width:4; stroke-opacity:1; fill:none\" points=\"\n",
       "  175.445,1237.51 201.573,1237.51 \n",
       "  \"/>\n",
       "<polyline clip-path=\"url(#clip380)\" style=\"stroke:#000000; stroke-width:4; stroke-opacity:1; fill:none\" points=\"\n",
       "  175.445,1051.83 201.573,1051.83 \n",
       "  \"/>\n",
       "<polyline clip-path=\"url(#clip380)\" style=\"stroke:#000000; stroke-width:4; stroke-opacity:1; fill:none\" points=\"\n",
       "  175.445,866.162 201.573,866.162 \n",
       "  \"/>\n",
       "<polyline clip-path=\"url(#clip380)\" style=\"stroke:#000000; stroke-width:4; stroke-opacity:1; fill:none\" points=\"\n",
       "  175.445,680.49 201.573,680.49 \n",
       "  \"/>\n",
       "<polyline clip-path=\"url(#clip380)\" style=\"stroke:#000000; stroke-width:4; stroke-opacity:1; fill:none\" points=\"\n",
       "  175.445,494.817 201.573,494.817 \n",
       "  \"/>\n",
       "<polyline clip-path=\"url(#clip380)\" style=\"stroke:#000000; stroke-width:4; stroke-opacity:1; fill:none\" points=\"\n",
       "  175.445,309.145 201.573,309.145 \n",
       "  \"/>\n",
       "<polyline clip-path=\"url(#clip380)\" style=\"stroke:#000000; stroke-width:4; stroke-opacity:1; fill:none\" points=\"\n",
       "  175.445,123.472 201.573,123.472 \n",
       "  \"/>\n",
       "<path clip-path=\"url(#clip380)\" d=\"M 0 0 M127.501 1408.98 Q123.89 1408.98 122.061 1412.54 Q120.255 1416.08 120.255 1423.21 Q120.255 1430.32 122.061 1433.89 Q123.89 1437.43 127.501 1437.43 Q131.135 1437.43 132.941 1433.89 Q134.769 1430.32 134.769 1423.21 Q134.769 1416.08 132.941 1412.54 Q131.135 1408.98 127.501 1408.98 M127.501 1405.27 Q133.311 1405.27 136.367 1409.88 Q139.445 1414.46 139.445 1423.21 Q139.445 1431.94 136.367 1436.55 Q133.311 1441.13 127.501 1441.13 Q121.691 1441.13 118.612 1436.55 Q115.556 1431.94 115.556 1423.21 Q115.556 1414.46 118.612 1409.88 Q121.691 1405.27 127.501 1405.27 Z\" fill=\"#000000\" fill-rule=\"evenodd\" fill-opacity=\"1\" /><path clip-path=\"url(#clip380)\" d=\"M 0 0 M119.538 1250.85 L127.177 1250.85 L127.177 1224.49 L118.867 1226.15 L118.867 1221.89 L127.13 1220.23 L131.806 1220.23 L131.806 1250.85 L139.445 1250.85 L139.445 1254.79 L119.538 1254.79 L119.538 1250.85 Z\" fill=\"#000000\" fill-rule=\"evenodd\" fill-opacity=\"1\" /><path clip-path=\"url(#clip380)\" d=\"M 0 0 M123.126 1065.18 L139.445 1065.18 L139.445 1069.11 L117.501 1069.11 L117.501 1065.18 Q120.163 1062.43 124.746 1057.8 Q129.353 1053.14 130.533 1051.8 Q132.779 1049.28 133.658 1047.54 Q134.561 1045.78 134.561 1044.09 Q134.561 1041.34 132.617 1039.6 Q130.695 1037.86 127.593 1037.86 Q125.394 1037.86 122.941 1038.63 Q120.51 1039.39 117.732 1040.94 L117.732 1036.22 Q120.556 1035.09 123.01 1034.51 Q125.464 1033.93 127.501 1033.93 Q132.871 1033.93 136.066 1036.61 Q139.26 1039.3 139.26 1043.79 Q139.26 1045.92 138.45 1047.84 Q137.663 1049.74 135.556 1052.33 Q134.978 1053 131.876 1056.22 Q128.774 1059.42 123.126 1065.18 Z\" fill=\"#000000\" fill-rule=\"evenodd\" fill-opacity=\"1\" /><path clip-path=\"url(#clip380)\" d=\"M 0 0 M132.316 864.808 Q135.672 865.526 137.547 867.794 Q139.445 870.063 139.445 873.396 Q139.445 878.512 135.927 881.313 Q132.408 884.114 125.927 884.114 Q123.751 884.114 121.436 883.674 Q119.144 883.257 116.691 882.401 L116.691 877.887 Q118.635 879.021 120.95 879.6 Q123.265 880.178 125.788 880.178 Q130.186 880.178 132.478 878.442 Q134.792 876.706 134.792 873.396 Q134.792 870.34 132.64 868.628 Q130.51 866.891 126.691 866.891 L122.663 866.891 L122.663 863.049 L126.876 863.049 Q130.325 863.049 132.154 861.683 Q133.982 860.294 133.982 857.702 Q133.982 855.04 132.084 853.628 Q130.209 852.192 126.691 852.192 Q124.769 852.192 122.57 852.609 Q120.371 853.026 117.732 853.905 L117.732 849.739 Q120.394 848.998 122.709 848.628 Q125.047 848.257 127.107 848.257 Q132.431 848.257 135.533 850.688 Q138.635 853.095 138.635 857.216 Q138.635 860.086 136.992 862.077 Q135.348 864.044 132.316 864.808 Z\" fill=\"#000000\" fill-rule=\"evenodd\" fill-opacity=\"1\" /><path clip-path=\"url(#clip380)\" d=\"M 0 0 M129.862 667.284 L118.056 685.733 L129.862 685.733 L129.862 667.284 M128.635 663.21 L134.515 663.21 L134.515 685.733 L139.445 685.733 L139.445 689.622 L134.515 689.622 L134.515 697.77 L129.862 697.77 L129.862 689.622 L114.26 689.622 L114.26 685.108 L128.635 663.21 Z\" fill=\"#000000\" fill-rule=\"evenodd\" fill-opacity=\"1\" /><path clip-path=\"url(#clip380)\" d=\"M 0 0 M118.543 477.537 L136.899 477.537 L136.899 481.472 L122.825 481.472 L122.825 489.945 Q123.843 489.597 124.862 489.435 Q125.88 489.25 126.899 489.25 Q132.686 489.25 136.066 492.421 Q139.445 495.593 139.445 501.009 Q139.445 506.588 135.973 509.69 Q132.501 512.768 126.181 512.768 Q124.005 512.768 121.737 512.398 Q119.492 512.028 117.084 511.287 L117.084 506.588 Q119.168 507.722 121.39 508.278 Q123.612 508.833 126.089 508.833 Q130.093 508.833 132.431 506.727 Q134.769 504.62 134.769 501.009 Q134.769 497.398 132.431 495.292 Q130.093 493.185 126.089 493.185 Q124.214 493.185 122.339 493.602 Q120.487 494.019 118.543 494.898 L118.543 477.537 Z\" fill=\"#000000\" fill-rule=\"evenodd\" fill-opacity=\"1\" /><path clip-path=\"url(#clip380)\" d=\"M 0 0 M127.917 307.281 Q124.769 307.281 122.918 309.434 Q121.089 311.587 121.089 315.337 Q121.089 319.064 122.918 321.239 Q124.769 323.392 127.917 323.392 Q131.066 323.392 132.894 321.239 Q134.746 319.064 134.746 315.337 Q134.746 311.587 132.894 309.434 Q131.066 307.281 127.917 307.281 M137.2 292.629 L137.2 296.888 Q135.441 296.054 133.635 295.615 Q131.853 295.175 130.093 295.175 Q125.464 295.175 123.01 298.3 Q120.58 301.425 120.232 307.744 Q121.598 305.73 123.658 304.666 Q125.718 303.578 128.195 303.578 Q133.404 303.578 136.413 306.749 Q139.445 309.897 139.445 315.337 Q139.445 320.661 136.297 323.878 Q133.149 327.096 127.917 327.096 Q121.922 327.096 118.751 322.513 Q115.58 317.906 115.58 309.179 Q115.58 300.985 119.468 296.124 Q123.357 291.24 129.908 291.24 Q131.667 291.24 133.45 291.587 Q135.255 291.934 137.2 292.629 Z\" fill=\"#000000\" fill-rule=\"evenodd\" fill-opacity=\"1\" /><path clip-path=\"url(#clip380)\" d=\"M 0 0 M117.223 106.192 L139.445 106.192 L139.445 108.183 L126.899 140.752 L122.015 140.752 L133.82 110.127 L117.223 110.127 L117.223 106.192 Z\" fill=\"#000000\" fill-rule=\"evenodd\" fill-opacity=\"1\" /><path clip-path=\"url(#clip380)\" d=\"M 0 0 M35.3266 960.462 L35.3266 969.724 L45.9574 972.398 L45.9574 963.072 L35.3266 960.462 M17.2162 965.236 L30.4251 968.546 L30.4251 959.252 L17.2162 955.91 L17.2162 950.818 L30.4251 954.096 L30.4251 944.166 L35.3266 944.166 L35.3266 955.337 L45.9574 957.947 L45.9574 947.826 L50.8271 947.826 L50.8271 959.189 L64.0042 962.499 L64.0042 967.591 L50.8271 964.313 L50.8271 973.639 L64.0042 976.917 L64.0042 982.042 L50.8271 978.731 L50.8271 988.757 L45.9574 988.757 L45.9574 977.554 L35.3266 974.88 L35.3266 985.129 L30.4251 985.129 L30.4251 973.639 L17.2162 970.392 L17.2162 965.236 Z\" fill=\"#000000\" fill-rule=\"evenodd\" fill-opacity=\"1\" /><path clip-path=\"url(#clip380)\" d=\"M 0 0 M32.4621 898.492 Q32.4621 903.202 36.1542 905.94 Q39.8145 908.677 46.212 908.677 Q52.6095 908.677 56.3017 905.971 Q59.9619 903.234 59.9619 898.492 Q59.9619 893.813 56.2698 891.076 Q52.5777 888.338 46.212 888.338 Q39.8781 888.338 36.186 891.076 Q32.4621 893.813 32.4621 898.492 M27.4968 898.492 Q27.4968 890.853 32.4621 886.492 Q37.4273 882.132 46.212 882.132 Q54.9649 882.132 59.9619 886.492 Q64.9272 890.853 64.9272 898.492 Q64.9272 906.162 59.9619 910.523 Q54.9649 914.852 46.212 914.852 Q37.4273 914.852 32.4621 910.523 Q27.4968 906.162 27.4968 898.492 Z\" fill=\"#000000\" fill-rule=\"evenodd\" fill-opacity=\"1\" /><path clip-path=\"url(#clip380)\" d=\"M 0 0 M14.479 854.377 L19.3487 854.377 L19.3487 859.979 Q19.3487 863.13 20.6219 864.372 Q21.895 865.581 25.2052 865.581 L28.3562 865.581 L28.3562 855.937 L32.9077 855.937 L32.9077 865.581 L64.0042 865.581 L64.0042 871.469 L32.9077 871.469 L32.9077 877.071 L28.3562 877.071 L28.3562 871.469 L25.8736 871.469 Q19.9216 871.469 17.2162 868.7 Q14.479 865.931 14.479 859.916 L14.479 854.377 Z\" fill=\"#000000\" fill-rule=\"evenodd\" fill-opacity=\"1\" /><path clip-path=\"url(#clip380)\" d=\"M 0 0 M29.7248 803.102 L35.1993 803.102 Q33.8307 805.584 33.1623 808.099 Q32.4621 810.581 32.4621 813.128 Q32.4621 818.825 36.0905 821.976 Q39.6872 825.127 46.212 825.127 Q52.7369 825.127 56.3653 821.976 Q59.9619 818.825 59.9619 813.128 Q59.9619 810.581 59.2935 808.099 Q58.5933 805.584 57.2247 803.102 L62.6355 803.102 Q63.7814 805.552 64.3543 808.194 Q64.9272 810.804 64.9272 813.764 Q64.9272 821.817 59.8664 826.559 Q54.8057 831.302 46.212 831.302 Q37.491 831.302 32.4939 826.527 Q27.4968 821.721 27.4968 813.382 Q27.4968 810.677 28.0697 808.099 Q28.6108 805.521 29.7248 803.102 Z\" fill=\"#000000\" fill-rule=\"evenodd\" fill-opacity=\"1\" /><path clip-path=\"url(#clip380)\" d=\"M 0 0 M49.9359 793.521 L28.3562 793.521 L28.3562 787.665 L49.7131 787.665 Q54.7739 787.665 57.3202 785.691 Q59.8346 783.718 59.8346 779.771 Q59.8346 775.029 56.8109 772.292 Q53.7872 769.522 48.5673 769.522 L28.3562 769.522 L28.3562 763.666 L64.0042 763.666 L64.0042 769.522 L58.5296 769.522 Q61.7762 771.655 63.3676 774.488 Q64.9272 777.289 64.9272 781.013 Q64.9272 787.155 61.1078 790.338 Q57.2883 793.521 49.9359 793.521 M27.4968 778.785 L27.4968 778.785 Z\" fill=\"#000000\" fill-rule=\"evenodd\" fill-opacity=\"1\" /><path clip-path=\"url(#clip380)\" d=\"M 0 0 M33.8307 730.946 Q33.2578 731.933 33.0032 733.111 Q32.7167 734.256 32.7167 735.657 Q32.7167 740.622 35.9632 743.296 Q39.1779 745.938 45.2253 745.938 L64.0042 745.938 L64.0042 751.826 L28.3562 751.826 L28.3562 745.938 L33.8944 745.938 Q30.6479 744.091 29.0883 741.131 Q27.4968 738.171 27.4968 733.938 Q27.4968 733.333 27.5923 732.601 Q27.656 731.869 27.8151 730.978 L33.8307 730.946 Z\" fill=\"#000000\" fill-rule=\"evenodd\" fill-opacity=\"1\" /><path clip-path=\"url(#clip380)\" d=\"M 0 0 M33.8307 705.292 Q33.2578 706.279 33.0032 707.457 Q32.7167 708.603 32.7167 710.003 Q32.7167 714.968 35.9632 717.642 Q39.1779 720.284 45.2253 720.284 L64.0042 720.284 L64.0042 726.172 L28.3562 726.172 L28.3562 720.284 L33.8944 720.284 Q30.6479 718.438 29.0883 715.478 Q27.4968 712.518 27.4968 708.284 Q27.4968 707.68 27.5923 706.948 Q27.656 706.216 27.8151 705.324 L33.8307 705.292 Z\" fill=\"#000000\" fill-rule=\"evenodd\" fill-opacity=\"1\" /><path clip-path=\"url(#clip380)\" d=\"M 0 0 M28.3562 699.15 L28.3562 693.293 L64.0042 693.293 L64.0042 699.15 L28.3562 699.15 M14.479 699.15 L14.479 693.293 L21.895 693.293 L21.895 699.15 L14.479 699.15 Z\" fill=\"#000000\" fill-rule=\"evenodd\" fill-opacity=\"1\" /><path clip-path=\"url(#clip380)\" d=\"M 0 0 M29.7248 655.385 L35.1993 655.385 Q33.8307 657.868 33.1623 660.382 Q32.4621 662.865 32.4621 665.411 Q32.4621 671.109 36.0905 674.26 Q39.6872 677.411 46.212 677.411 Q52.7369 677.411 56.3653 674.26 Q59.9619 671.109 59.9619 665.411 Q59.9619 662.865 59.2935 660.382 Q58.5933 657.868 57.2247 655.385 L62.6355 655.385 Q63.7814 657.836 64.3543 660.478 Q64.9272 663.088 64.9272 666.048 Q64.9272 674.101 59.8664 678.843 Q54.8057 683.585 46.212 683.585 Q37.491 683.585 32.4939 678.811 Q27.4968 674.005 27.4968 665.666 Q27.4968 662.961 28.0697 660.382 Q28.6108 657.804 29.7248 655.385 Z\" fill=\"#000000\" fill-rule=\"evenodd\" fill-opacity=\"1\" /><path clip-path=\"url(#clip380)\" d=\"M 0 0 M49.9359 645.805 L28.3562 645.805 L28.3562 639.949 L49.7131 639.949 Q54.7739 639.949 57.3202 637.975 Q59.8346 636.002 59.8346 632.055 Q59.8346 627.313 56.8109 624.575 Q53.7872 621.806 48.5673 621.806 L28.3562 621.806 L28.3562 615.95 L64.0042 615.95 L64.0042 621.806 L58.5296 621.806 Q61.7762 623.939 63.3676 626.772 Q64.9272 629.572 64.9272 633.296 Q64.9272 639.439 61.1078 642.622 Q57.2883 645.805 49.9359 645.805 M27.4968 631.068 L27.4968 631.068 Z\" fill=\"#000000\" fill-rule=\"evenodd\" fill-opacity=\"1\" /><path clip-path=\"url(#clip380)\" d=\"M 0 0 M14.479 603.887 L14.479 598.03 L64.0042 598.03 L64.0042 603.887 L14.479 603.887 Z\" fill=\"#000000\" fill-rule=\"evenodd\" fill-opacity=\"1\" /><path clip-path=\"url(#clip380)\" d=\"M 0 0 M46.0847 569.576 Q46.0847 576.673 47.7079 579.411 Q49.3312 582.148 53.2461 582.148 Q56.3653 582.148 58.2114 580.111 Q60.0256 578.042 60.0256 574.509 Q60.0256 569.639 56.5881 566.711 Q53.1188 563.751 47.3897 563.751 L46.0847 563.751 L46.0847 569.576 M43.6657 557.895 L64.0042 557.895 L64.0042 563.751 L58.5933 563.751 Q61.8398 565.756 63.3994 568.748 Q64.9272 571.74 64.9272 576.069 Q64.9272 581.543 61.8716 584.79 Q58.7843 588.004 53.6281 588.004 Q47.6125 588.004 44.5569 583.994 Q41.5014 579.952 41.5014 571.963 L41.5014 563.751 L40.9285 563.751 Q36.8862 563.751 34.6901 566.425 Q32.4621 569.066 32.4621 573.872 Q32.4621 576.928 33.1941 579.824 Q33.9262 582.721 35.3903 585.394 L29.9795 585.394 Q28.7381 582.18 28.1334 579.156 Q27.4968 576.132 27.4968 573.268 Q27.4968 565.533 31.5072 561.714 Q35.5176 557.895 43.6657 557.895 Z\" fill=\"#000000\" fill-rule=\"evenodd\" fill-opacity=\"1\" /><path clip-path=\"url(#clip380)\" d=\"M 0 0 M722.657 12.096 L734.85 12.096 L750.284 53.2532 L765.799 12.096 L777.992 12.096 L777.992 72.576 L770.012 72.576 L770.012 19.4686 L754.416 60.9499 L746.192 60.9499 L730.596 19.4686 L730.596 72.576 L722.657 72.576 L722.657 12.096 Z\" fill=\"#000000\" fill-rule=\"evenodd\" fill-opacity=\"1\" /><path clip-path=\"url(#clip380)\" d=\"M 0 0 M793.142 54.671 L793.142 27.2059 L800.596 27.2059 L800.596 54.3874 Q800.596 60.8284 803.108 64.0691 Q805.619 67.2693 810.642 67.2693 Q816.678 67.2693 820.162 63.421 Q823.686 59.5726 823.686 52.9291 L823.686 27.2059 L831.14 27.2059 L831.14 72.576 L823.686 72.576 L823.686 65.6084 Q820.972 69.7404 817.367 71.7658 Q813.802 73.7508 809.062 73.7508 Q801.244 73.7508 797.193 68.8897 Q793.142 64.0286 793.142 54.671 M811.898 26.1121 L811.898 26.1121 Z\" fill=\"#000000\" fill-rule=\"evenodd\" fill-opacity=\"1\" /><path clip-path=\"url(#clip380)\" d=\"M 0 0 M875.416 28.5427 L875.416 35.5912 Q872.257 33.9709 868.854 33.1607 Q865.451 32.3505 861.805 32.3505 Q856.256 32.3505 853.46 34.0519 Q850.706 35.7533 850.706 39.156 Q850.706 41.7486 852.691 43.2475 Q854.676 44.7058 860.671 46.0426 L863.223 46.6097 Q871.163 48.3111 874.485 51.4303 Q877.847 54.509 877.847 60.0587 Q877.847 66.3781 872.824 70.0644 Q867.841 73.7508 859.091 73.7508 Q855.445 73.7508 851.475 73.0216 Q847.546 72.3329 843.171 70.9151 L843.171 63.2184 Q847.303 65.3654 851.313 66.4591 Q855.324 67.5124 859.253 67.5124 Q864.519 67.5124 867.355 65.73 Q870.191 63.9071 870.191 60.6258 Q870.191 57.5877 868.125 55.9673 Q866.099 54.3469 859.172 52.8481 L856.58 52.2405 Q849.653 50.7821 846.574 47.7845 Q843.495 44.7463 843.495 39.4801 Q843.495 33.0797 848.032 29.5959 Q852.569 26.1121 860.914 26.1121 Q865.046 26.1121 868.692 26.7198 Q872.338 27.3274 875.416 28.5427 Z\" fill=\"#000000\" fill-rule=\"evenodd\" fill-opacity=\"1\" /><path clip-path=\"url(#clip380)\" d=\"M 0 0 M889.716 27.2059 L897.17 27.2059 L897.17 72.576 L889.716 72.576 L889.716 27.2059 M889.716 9.54393 L897.17 9.54393 L897.17 18.9825 L889.716 18.9825 L889.716 9.54393 Z\" fill=\"#000000\" fill-rule=\"evenodd\" fill-opacity=\"1\" /><path clip-path=\"url(#clip380)\" d=\"M 0 0 M945.416 28.9478 L945.416 35.9153 Q942.256 34.1734 939.056 33.3227 Q935.896 32.4315 932.656 32.4315 Q925.404 32.4315 921.394 37.0496 Q917.384 41.6271 917.384 49.9314 Q917.384 58.2358 921.394 62.8538 Q925.404 67.4314 932.656 67.4314 Q935.896 67.4314 939.056 66.5807 Q942.256 65.6895 945.416 63.9476 L945.416 70.8341 Q942.297 72.2924 938.934 73.0216 Q935.613 73.7508 931.845 73.7508 Q921.597 73.7508 915.561 67.3098 Q909.525 60.8689 909.525 49.9314 Q909.525 38.832 915.601 32.472 Q921.718 26.1121 932.332 26.1121 Q935.775 26.1121 939.056 26.8413 Q942.337 27.5299 945.416 28.9478 Z\" fill=\"#000000\" fill-rule=\"evenodd\" fill-opacity=\"1\" /><path clip-path=\"url(#clip380)\" d=\"M 0 0 M985.074 12.096 L1023.31 12.096 L1023.31 18.9825 L993.257 18.9825 L993.257 36.8875 L1022.06 36.8875 L1022.06 43.7741 L993.257 43.7741 L993.257 65.6895 L1024.04 65.6895 L1024.04 72.576 L985.074 72.576 L985.074 12.096 Z\" fill=\"#000000\" fill-rule=\"evenodd\" fill-opacity=\"1\" /><path clip-path=\"url(#clip380)\" d=\"M 0 0 M1067.02 34.0924 L1067.02 9.54393 L1074.48 9.54393 L1074.48 72.576 L1067.02 72.576 L1067.02 65.7705 Q1064.67 69.8214 1061.07 71.8063 Q1057.5 73.7508 1052.48 73.7508 Q1044.26 73.7508 1039.07 67.1883 Q1033.93 60.6258 1033.93 49.9314 Q1033.93 39.2371 1039.07 32.6746 Q1044.26 26.1121 1052.48 26.1121 Q1057.5 26.1121 1061.07 28.0971 Q1064.67 30.0415 1067.02 34.0924 M1041.62 49.9314 Q1041.62 58.1548 1044.99 62.8538 Q1048.39 67.5124 1054.3 67.5124 Q1060.22 67.5124 1063.62 62.8538 Q1067.02 58.1548 1067.02 49.9314 Q1067.02 41.7081 1063.62 37.0496 Q1060.22 32.3505 1054.3 32.3505 Q1048.39 32.3505 1044.99 37.0496 Q1041.62 41.7081 1041.62 49.9314 Z\" fill=\"#000000\" fill-rule=\"evenodd\" fill-opacity=\"1\" /><path clip-path=\"url(#clip380)\" d=\"M 0 0 M1089.06 54.671 L1089.06 27.2059 L1096.51 27.2059 L1096.51 54.3874 Q1096.51 60.8284 1099.03 64.0691 Q1101.54 67.2693 1106.56 67.2693 Q1112.6 67.2693 1116.08 63.421 Q1119.6 59.5726 1119.6 52.9291 L1119.6 27.2059 L1127.06 27.2059 L1127.06 72.576 L1119.6 72.576 L1119.6 65.6084 Q1116.89 69.7404 1113.29 71.7658 Q1109.72 73.7508 1104.98 73.7508 Q1097.16 73.7508 1093.11 68.8897 Q1089.06 64.0286 1089.06 54.671 M1107.82 26.1121 L1107.82 26.1121 Z\" fill=\"#000000\" fill-rule=\"evenodd\" fill-opacity=\"1\" /><path clip-path=\"url(#clip380)\" d=\"M 0 0 M1175.06 28.9478 L1175.06 35.9153 Q1171.9 34.1734 1168.7 33.3227 Q1165.54 32.4315 1162.3 32.4315 Q1155.05 32.4315 1151.04 37.0496 Q1147.03 41.6271 1147.03 49.9314 Q1147.03 58.2358 1151.04 62.8538 Q1155.05 67.4314 1162.3 67.4314 Q1165.54 67.4314 1168.7 66.5807 Q1171.9 65.6895 1175.06 63.9476 L1175.06 70.8341 Q1171.94 72.2924 1168.58 73.0216 Q1165.26 73.7508 1161.49 73.7508 Q1151.24 73.7508 1145.21 67.3098 Q1139.17 60.8689 1139.17 49.9314 Q1139.17 38.832 1145.25 32.472 Q1151.36 26.1121 1161.98 26.1121 Q1165.42 26.1121 1168.7 26.8413 Q1171.98 27.5299 1175.06 28.9478 Z\" fill=\"#000000\" fill-rule=\"evenodd\" fill-opacity=\"1\" /><path clip-path=\"url(#clip380)\" d=\"M 0 0 M1208.64 49.7694 Q1199.61 49.7694 1196.13 51.8354 Q1192.64 53.9013 1192.64 58.8839 Q1192.64 62.8538 1195.24 65.2034 Q1197.87 67.5124 1202.36 67.5124 Q1208.56 67.5124 1212.29 63.1374 Q1216.06 58.7219 1216.06 51.4303 L1216.06 49.7694 L1208.64 49.7694 M1223.51 46.6907 L1223.51 72.576 L1216.06 72.576 L1216.06 65.6895 Q1213.5 69.8214 1209.7 71.8063 Q1205.89 73.7508 1200.38 73.7508 Q1193.41 73.7508 1189.28 69.8619 Q1185.19 65.9325 1185.19 59.3701 Q1185.19 51.7138 1190.29 47.825 Q1195.44 43.9361 1205.61 43.9361 L1216.06 43.9361 L1216.06 43.2069 Q1216.06 38.0623 1212.65 35.2672 Q1209.29 32.4315 1203.17 32.4315 Q1199.29 32.4315 1195.6 33.3632 Q1191.91 34.295 1188.51 36.1584 L1188.51 29.2718 Q1192.6 27.692 1196.45 26.9223 Q1200.3 26.1121 1203.94 26.1121 Q1213.79 26.1121 1218.65 31.2163 Q1223.51 36.3204 1223.51 46.6907 Z\" fill=\"#000000\" fill-rule=\"evenodd\" fill-opacity=\"1\" /><path clip-path=\"url(#clip380)\" d=\"M 0 0 M1246.24 14.324 L1246.24 27.2059 L1261.59 27.2059 L1261.59 32.9987 L1246.24 32.9987 L1246.24 57.6282 Q1246.24 63.1779 1247.73 64.7578 Q1249.27 66.3376 1253.93 66.3376 L1261.59 66.3376 L1261.59 72.576 L1253.93 72.576 Q1245.3 72.576 1242.02 69.3758 Q1238.74 66.1351 1238.74 57.6282 L1238.74 32.9987 L1233.27 32.9987 L1233.27 27.2059 L1238.74 27.2059 L1238.74 14.324 L1246.24 14.324 Z\" fill=\"#000000\" fill-rule=\"evenodd\" fill-opacity=\"1\" /><path clip-path=\"url(#clip380)\" d=\"M 0 0 M1271.39 27.2059 L1278.85 27.2059 L1278.85 72.576 L1271.39 72.576 L1271.39 27.2059 M1271.39 9.54393 L1278.85 9.54393 L1278.85 18.9825 L1271.39 18.9825 L1271.39 9.54393 Z\" fill=\"#000000\" fill-rule=\"evenodd\" fill-opacity=\"1\" /><path clip-path=\"url(#clip380)\" d=\"M 0 0 M1312.02 32.4315 Q1306.03 32.4315 1302.54 37.1306 Q1299.06 41.7891 1299.06 49.9314 Q1299.06 58.0738 1302.5 62.7728 Q1305.99 67.4314 1312.02 67.4314 Q1317.98 67.4314 1321.46 62.7323 Q1324.95 58.0333 1324.95 49.9314 Q1324.95 41.8701 1321.46 37.1711 Q1317.98 32.4315 1312.02 32.4315 M1312.02 26.1121 Q1321.74 26.1121 1327.29 32.4315 Q1332.84 38.7509 1332.84 49.9314 Q1332.84 61.0714 1327.29 67.4314 Q1321.74 73.7508 1312.02 73.7508 Q1302.26 73.7508 1296.71 67.4314 Q1291.2 61.0714 1291.2 49.9314 Q1291.2 38.7509 1296.71 32.4315 Q1302.26 26.1121 1312.02 26.1121 Z\" fill=\"#000000\" fill-rule=\"evenodd\" fill-opacity=\"1\" /><path clip-path=\"url(#clip380)\" d=\"M 0 0 M1382.91 45.1919 L1382.91 72.576 L1375.46 72.576 L1375.46 45.4349 Q1375.46 38.994 1372.95 35.7938 Q1370.44 32.5936 1365.41 32.5936 Q1359.38 32.5936 1355.89 36.4419 Q1352.41 40.2903 1352.41 46.9338 L1352.41 72.576 L1344.92 72.576 L1344.92 27.2059 L1352.41 27.2059 L1352.41 34.2544 Q1355.08 30.163 1358.69 28.1376 Q1362.33 26.1121 1367.07 26.1121 Q1374.89 26.1121 1378.9 30.9732 Q1382.91 35.7938 1382.91 45.1919 Z\" fill=\"#000000\" fill-rule=\"evenodd\" fill-opacity=\"1\" /><path clip-path=\"url(#clip380)\" d=\"M 0 0 M1432.66 18.8205 L1432.66 41.5461 L1442.95 41.5461 Q1448.66 41.5461 1451.78 38.5889 Q1454.9 35.6318 1454.9 30.163 Q1454.9 24.7348 1451.78 21.7777 Q1448.66 18.8205 1442.95 18.8205 L1432.66 18.8205 M1424.48 12.096 L1442.95 12.096 Q1453.12 12.096 1458.3 16.714 Q1463.53 21.2916 1463.53 30.163 Q1463.53 39.1155 1458.3 43.6931 Q1453.12 48.2706 1442.95 48.2706 L1432.66 48.2706 L1432.66 72.576 L1424.48 72.576 L1424.48 12.096 Z\" fill=\"#000000\" fill-rule=\"evenodd\" fill-opacity=\"1\" /><path clip-path=\"url(#clip380)\" d=\"M 0 0 M1499.01 34.1734 Q1497.76 33.4443 1496.26 33.1202 Q1494.8 32.7556 1493.02 32.7556 Q1486.7 32.7556 1483.29 36.8875 Q1479.93 40.9789 1479.93 48.6757 L1479.93 72.576 L1472.44 72.576 L1472.44 27.2059 L1479.93 27.2059 L1479.93 34.2544 Q1482.28 30.1225 1486.05 28.1376 Q1489.82 26.1121 1495.2 26.1121 Q1495.97 26.1121 1496.91 26.2337 Q1497.84 26.3147 1498.97 26.5172 L1499.01 34.1734 Z\" fill=\"#000000\" fill-rule=\"evenodd\" fill-opacity=\"1\" /><path clip-path=\"url(#clip380)\" d=\"M 0 0 M1522.59 32.4315 Q1516.59 32.4315 1513.11 37.1306 Q1509.63 41.7891 1509.63 49.9314 Q1509.63 58.0738 1513.07 62.7728 Q1516.55 67.4314 1522.59 67.4314 Q1528.54 67.4314 1532.03 62.7323 Q1535.51 58.0333 1535.51 49.9314 Q1535.51 41.8701 1532.03 37.1711 Q1528.54 32.4315 1522.59 32.4315 M1522.59 26.1121 Q1532.31 26.1121 1537.86 32.4315 Q1543.41 38.7509 1543.41 49.9314 Q1543.41 61.0714 1537.86 67.4314 Q1532.31 73.7508 1522.59 73.7508 Q1512.83 73.7508 1507.28 67.4314 Q1501.77 61.0714 1501.77 49.9314 Q1501.77 38.7509 1507.28 32.4315 Q1512.83 26.1121 1522.59 26.1121 Z\" fill=\"#000000\" fill-rule=\"evenodd\" fill-opacity=\"1\" /><path clip-path=\"url(#clip380)\" d=\"M 0 0 M1585.62 49.3643 Q1585.62 41.2625 1582.26 36.8065 Q1578.94 32.3505 1572.9 32.3505 Q1566.91 32.3505 1563.54 36.8065 Q1560.22 41.2625 1560.22 49.3643 Q1560.22 57.4256 1563.54 61.8816 Q1566.91 66.3376 1572.9 66.3376 Q1578.94 66.3376 1582.26 61.8816 Q1585.62 57.4256 1585.62 49.3643 M1593.07 66.9452 Q1593.07 78.5308 1587.93 84.1616 Q1582.79 89.8329 1572.17 89.8329 Q1568.24 89.8329 1564.76 89.2252 Q1561.27 88.6581 1557.99 87.4428 L1557.99 80.1917 Q1561.27 81.9741 1564.48 82.8248 Q1567.68 83.6755 1571 83.6755 Q1578.33 83.6755 1581.98 79.8271 Q1585.62 76.0193 1585.62 68.282 L1585.62 64.5957 Q1583.31 68.6061 1579.71 70.5911 Q1576.1 72.576 1571.08 72.576 Q1562.73 72.576 1557.63 66.2161 Q1552.52 59.8562 1552.52 49.3643 Q1552.52 38.832 1557.63 32.472 Q1562.73 26.1121 1571.08 26.1121 Q1576.1 26.1121 1579.71 28.0971 Q1583.31 30.082 1585.62 34.0924 L1585.62 27.2059 L1593.07 27.2059 L1593.07 66.9452 Z\" fill=\"#000000\" fill-rule=\"evenodd\" fill-opacity=\"1\" /><path clip-path=\"url(#clip380)\" d=\"M 0 0 M1634.72 34.1734 Q1633.46 33.4443 1631.96 33.1202 Q1630.5 32.7556 1628.72 32.7556 Q1622.4 32.7556 1619 36.8875 Q1615.64 40.9789 1615.64 48.6757 L1615.64 72.576 L1608.14 72.576 L1608.14 27.2059 L1615.64 27.2059 L1615.64 34.2544 Q1617.99 30.1225 1621.75 28.1376 Q1625.52 26.1121 1630.91 26.1121 Q1631.68 26.1121 1632.61 26.2337 Q1633.54 26.3147 1634.68 26.5172 L1634.72 34.1734 Z\" fill=\"#000000\" fill-rule=\"evenodd\" fill-opacity=\"1\" /><path clip-path=\"url(#clip380)\" d=\"M 0 0 M1663.16 49.7694 Q1654.12 49.7694 1650.64 51.8354 Q1647.15 53.9013 1647.15 58.8839 Q1647.15 62.8538 1649.75 65.2034 Q1652.38 67.5124 1656.88 67.5124 Q1663.07 67.5124 1666.8 63.1374 Q1670.57 58.7219 1670.57 51.4303 L1670.57 49.7694 L1663.16 49.7694 M1678.02 46.6907 L1678.02 72.576 L1670.57 72.576 L1670.57 65.6895 Q1668.02 69.8214 1664.21 71.8063 Q1660.4 73.7508 1654.89 73.7508 Q1647.92 73.7508 1643.79 69.8619 Q1639.7 65.9325 1639.7 59.3701 Q1639.7 51.7138 1644.8 47.825 Q1649.95 43.9361 1660.12 43.9361 L1670.57 43.9361 L1670.57 43.2069 Q1670.57 38.0623 1667.17 35.2672 Q1663.8 32.4315 1657.69 32.4315 Q1653.8 32.4315 1650.11 33.3632 Q1646.42 34.295 1643.02 36.1584 L1643.02 29.2718 Q1647.11 27.692 1650.96 26.9223 Q1654.81 26.1121 1658.46 26.1121 Q1668.3 26.1121 1673.16 31.2163 Q1678.02 36.3204 1678.02 46.6907 Z\" fill=\"#000000\" fill-rule=\"evenodd\" fill-opacity=\"1\" /><path clip-path=\"url(#clip380)\" d=\"M 0 0 M1728.7 35.9153 Q1731.49 30.8922 1735.38 28.5022 Q1739.27 26.1121 1744.54 26.1121 Q1751.63 26.1121 1755.48 31.0947 Q1759.32 36.0368 1759.32 45.1919 L1759.32 72.576 L1751.83 72.576 L1751.83 45.4349 Q1751.83 38.913 1749.52 35.7533 Q1747.21 32.5936 1742.47 32.5936 Q1736.68 32.5936 1733.32 36.4419 Q1729.95 40.2903 1729.95 46.9338 L1729.95 72.576 L1722.46 72.576 L1722.46 45.4349 Q1722.46 38.8725 1720.15 35.7533 Q1717.84 32.5936 1713.02 32.5936 Q1707.31 32.5936 1703.95 36.4824 Q1700.59 40.3308 1700.59 46.9338 L1700.59 72.576 L1693.09 72.576 L1693.09 27.2059 L1700.59 27.2059 L1700.59 34.2544 Q1703.14 30.082 1706.7 28.0971 Q1710.27 26.1121 1715.17 26.1121 Q1720.11 26.1121 1723.55 28.6237 Q1727.04 31.1352 1728.7 35.9153 Z\" fill=\"#000000\" fill-rule=\"evenodd\" fill-opacity=\"1\" /><path clip-path=\"url(#clip380)\" d=\"M 0 0 M1803.11 28.5427 L1803.11 35.5912 Q1799.95 33.9709 1796.55 33.1607 Q1793.15 32.3505 1789.5 32.3505 Q1783.95 32.3505 1781.16 34.0519 Q1778.4 35.7533 1778.4 39.156 Q1778.4 41.7486 1780.39 43.2475 Q1782.37 44.7058 1788.37 46.0426 L1790.92 46.6097 Q1798.86 48.3111 1802.18 51.4303 Q1805.54 54.509 1805.54 60.0587 Q1805.54 66.3781 1800.52 70.0644 Q1795.54 73.7508 1786.79 73.7508 Q1783.14 73.7508 1779.17 73.0216 Q1775.24 72.3329 1770.87 70.9151 L1770.87 63.2184 Q1775 65.3654 1779.01 66.4591 Q1783.02 67.5124 1786.95 67.5124 Q1792.22 67.5124 1795.05 65.73 Q1797.89 63.9071 1797.89 60.6258 Q1797.89 57.5877 1795.82 55.9673 Q1793.8 54.3469 1786.87 52.8481 L1784.28 52.2405 Q1777.35 50.7821 1774.27 47.7845 Q1771.19 44.7463 1771.19 39.4801 Q1771.19 33.0797 1775.73 29.5959 Q1780.27 26.1121 1788.61 26.1121 Q1792.74 26.1121 1796.39 26.7198 Q1800.04 27.3274 1803.11 28.5427 Z\" fill=\"#000000\" fill-rule=\"evenodd\" fill-opacity=\"1\" /><path clip-path=\"url(#clip382)\" d=\"\n",
       "M610.907 1237.51 L610.907 1423.18 L828.638 1423.18 L828.638 1237.51 L610.907 1237.51 L610.907 1237.51  Z\n",
       "  \" fill=\"#1874cd\" fill-rule=\"evenodd\" fill-opacity=\"0.7\"/>\n",
       "<polyline clip-path=\"url(#clip382)\" style=\"stroke:#000000; stroke-width:4; stroke-opacity:0.7; fill:none\" points=\"\n",
       "  610.907,1237.51 610.907,1423.18 828.638,1423.18 828.638,1237.51 610.907,1237.51 \n",
       "  \"/>\n",
       "<path clip-path=\"url(#clip382)\" d=\"\n",
       "M828.638 866.162 L828.638 1423.18 L1046.37 1423.18 L1046.37 866.162 L828.638 866.162 L828.638 866.162  Z\n",
       "  \" fill=\"#1874cd\" fill-rule=\"evenodd\" fill-opacity=\"0.7\"/>\n",
       "<polyline clip-path=\"url(#clip382)\" style=\"stroke:#000000; stroke-width:4; stroke-opacity:0.7; fill:none\" points=\"\n",
       "  828.638,866.162 828.638,1423.18 1046.37,1423.18 1046.37,866.162 828.638,866.162 \n",
       "  \"/>\n",
       "<path clip-path=\"url(#clip382)\" d=\"\n",
       "M1046.37 494.817 L1046.37 1423.18 L1264.1 1423.18 L1264.1 494.817 L1046.37 494.817 L1046.37 494.817  Z\n",
       "  \" fill=\"#1874cd\" fill-rule=\"evenodd\" fill-opacity=\"0.7\"/>\n",
       "<polyline clip-path=\"url(#clip382)\" style=\"stroke:#000000; stroke-width:4; stroke-opacity:0.7; fill:none\" points=\"\n",
       "  1046.37,494.817 1046.37,1423.18 1264.1,1423.18 1264.1,494.817 1046.37,494.817 \n",
       "  \"/>\n",
       "<path clip-path=\"url(#clip382)\" d=\"\n",
       "M1264.1 680.49 L1264.1 1423.18 L1481.83 1423.18 L1481.83 680.49 L1264.1 680.49 L1264.1 680.49  Z\n",
       "  \" fill=\"#1874cd\" fill-rule=\"evenodd\" fill-opacity=\"0.7\"/>\n",
       "<polyline clip-path=\"url(#clip382)\" style=\"stroke:#000000; stroke-width:4; stroke-opacity:0.7; fill:none\" points=\"\n",
       "  1264.1,680.49 1264.1,1423.18 1481.83,1423.18 1481.83,680.49 1264.1,680.49 \n",
       "  \"/>\n",
       "<path clip-path=\"url(#clip382)\" d=\"\n",
       "M1481.83 1237.51 L1481.83 1423.18 L1699.56 1423.18 L1699.56 1237.51 L1481.83 1237.51 L1481.83 1237.51  Z\n",
       "  \" fill=\"#1874cd\" fill-rule=\"evenodd\" fill-opacity=\"0.7\"/>\n",
       "<polyline clip-path=\"url(#clip382)\" style=\"stroke:#000000; stroke-width:4; stroke-opacity:0.7; fill:none\" points=\"\n",
       "  1481.83,1237.51 1481.83,1423.18 1699.56,1423.18 1699.56,1237.51 1481.83,1237.51 \n",
       "  \"/>\n",
       "</svg>\n"
      ]
     },
     "metadata": {},
     "output_type": "display_data"
    },
    {
     "name": "stdout",
     "output_type": "stream",
     "text": [
      "****** Animal Science Programs ******\n",
      "\n",
      " Metric -- complexity\n",
      "  Number of curricula = 20\n",
      "  Mean = 139.65\n",
      "  STD = 13.338145485786248\n",
      "  Max. = 307.0\n",
      "  Min. = 71.0\n"
     ]
    },
    {
     "data": {
      "image/svg+xml": [
       "<?xml version=\"1.0\" encoding=\"utf-8\"?>\n",
       "<svg xmlns=\"http://www.w3.org/2000/svg\" xmlns:xlink=\"http://www.w3.org/1999/xlink\" width=\"600\" height=\"400\" viewBox=\"0 0 2400 1600\">\n",
       "<defs>\n",
       "  <clipPath id=\"clip420\">\n",
       "    <rect x=\"0\" y=\"0\" width=\"2400\" height=\"1600\"/>\n",
       "  </clipPath>\n",
       "</defs>\n",
       "<path clip-path=\"url(#clip420)\" d=\"\n",
       "M0 1600 L2400 1600 L2400 0 L0 0  Z\n",
       "  \" fill=\"#ffffff\" fill-rule=\"evenodd\" fill-opacity=\"1\"/>\n",
       "<defs>\n",
       "  <clipPath id=\"clip421\">\n",
       "    <rect x=\"480\" y=\"0\" width=\"1681\" height=\"1600\"/>\n",
       "  </clipPath>\n",
       "</defs>\n",
       "<path clip-path=\"url(#clip420)\" d=\"\n",
       "M202.227 1423.18 L2352.76 1423.18 L2352.76 123.472 L202.227 123.472  Z\n",
       "  \" fill=\"#ffffff\" fill-rule=\"evenodd\" fill-opacity=\"1\"/>\n",
       "<defs>\n",
       "  <clipPath id=\"clip422\">\n",
       "    <rect x=\"202\" y=\"123\" width=\"2152\" height=\"1301\"/>\n",
       "  </clipPath>\n",
       "</defs>\n",
       "<polyline clip-path=\"url(#clip422)\" style=\"stroke:#000000; stroke-width:2; stroke-opacity:0.1; fill:none\" points=\"\n",
       "  202.227,1423.18 202.227,123.472 \n",
       "  \"/>\n",
       "<polyline clip-path=\"url(#clip422)\" style=\"stroke:#000000; stroke-width:2; stroke-opacity:0.1; fill:none\" points=\"\n",
       "  632.333,1423.18 632.333,123.472 \n",
       "  \"/>\n",
       "<polyline clip-path=\"url(#clip422)\" style=\"stroke:#000000; stroke-width:2; stroke-opacity:0.1; fill:none\" points=\"\n",
       "  1062.44,1423.18 1062.44,123.472 \n",
       "  \"/>\n",
       "<polyline clip-path=\"url(#clip422)\" style=\"stroke:#000000; stroke-width:2; stroke-opacity:0.1; fill:none\" points=\"\n",
       "  1492.54,1423.18 1492.54,123.472 \n",
       "  \"/>\n",
       "<polyline clip-path=\"url(#clip422)\" style=\"stroke:#000000; stroke-width:2; stroke-opacity:0.1; fill:none\" points=\"\n",
       "  1922.65,1423.18 1922.65,123.472 \n",
       "  \"/>\n",
       "<polyline clip-path=\"url(#clip422)\" style=\"stroke:#000000; stroke-width:2; stroke-opacity:0.1; fill:none\" points=\"\n",
       "  2352.76,1423.18 2352.76,123.472 \n",
       "  \"/>\n",
       "<polyline clip-path=\"url(#clip420)\" style=\"stroke:#000000; stroke-width:4; stroke-opacity:1; fill:none\" points=\"\n",
       "  202.227,1423.18 2352.76,1423.18 \n",
       "  \"/>\n",
       "<polyline clip-path=\"url(#clip420)\" style=\"stroke:#000000; stroke-width:4; stroke-opacity:1; fill:none\" points=\"\n",
       "  202.227,1423.18 202.227,1407.58 \n",
       "  \"/>\n",
       "<polyline clip-path=\"url(#clip420)\" style=\"stroke:#000000; stroke-width:4; stroke-opacity:1; fill:none\" points=\"\n",
       "  632.333,1423.18 632.333,1407.58 \n",
       "  \"/>\n",
       "<polyline clip-path=\"url(#clip420)\" style=\"stroke:#000000; stroke-width:4; stroke-opacity:1; fill:none\" points=\"\n",
       "  1062.44,1423.18 1062.44,1407.58 \n",
       "  \"/>\n",
       "<polyline clip-path=\"url(#clip420)\" style=\"stroke:#000000; stroke-width:4; stroke-opacity:1; fill:none\" points=\"\n",
       "  1492.54,1423.18 1492.54,1407.58 \n",
       "  \"/>\n",
       "<polyline clip-path=\"url(#clip420)\" style=\"stroke:#000000; stroke-width:4; stroke-opacity:1; fill:none\" points=\"\n",
       "  1922.65,1423.18 1922.65,1407.58 \n",
       "  \"/>\n",
       "<polyline clip-path=\"url(#clip420)\" style=\"stroke:#000000; stroke-width:4; stroke-opacity:1; fill:none\" points=\"\n",
       "  2352.76,1423.18 2352.76,1407.58 \n",
       "  \"/>\n",
       "<path clip-path=\"url(#clip420)\" d=\"M 0 0 M202.227 1452.37 Q198.616 1452.37 196.788 1455.94 Q194.982 1459.48 194.982 1466.61 Q194.982 1473.71 196.788 1477.28 Q198.616 1480.82 202.227 1480.82 Q205.862 1480.82 207.667 1477.28 Q209.496 1473.71 209.496 1466.61 Q209.496 1459.48 207.667 1455.94 Q205.862 1452.37 202.227 1452.37 M202.227 1448.67 Q208.038 1448.67 211.093 1453.27 Q214.172 1457.86 214.172 1466.61 Q214.172 1475.33 211.093 1479.94 Q208.038 1484.52 202.227 1484.52 Q196.417 1484.52 193.339 1479.94 Q190.283 1475.33 190.283 1466.61 Q190.283 1457.86 193.339 1453.27 Q196.417 1448.67 202.227 1448.67 Z\" fill=\"#000000\" fill-rule=\"evenodd\" fill-opacity=\"1\" /><path clip-path=\"url(#clip420)\" d=\"M 0 0 M591.94 1479.92 L599.579 1479.92 L599.579 1453.55 L591.269 1455.22 L591.269 1450.96 L599.532 1449.29 L604.208 1449.29 L604.208 1479.92 L611.847 1479.92 L611.847 1483.85 L591.94 1483.85 L591.94 1479.92 Z\" fill=\"#000000\" fill-rule=\"evenodd\" fill-opacity=\"1\" /><path clip-path=\"url(#clip420)\" d=\"M 0 0 M631.291 1452.37 Q627.68 1452.37 625.852 1455.94 Q624.046 1459.48 624.046 1466.61 Q624.046 1473.71 625.852 1477.28 Q627.68 1480.82 631.291 1480.82 Q634.926 1480.82 636.731 1477.28 Q638.56 1473.71 638.56 1466.61 Q638.56 1459.48 636.731 1455.94 Q634.926 1452.37 631.291 1452.37 M631.291 1448.67 Q637.102 1448.67 640.157 1453.27 Q643.236 1457.86 643.236 1466.61 Q643.236 1475.33 640.157 1479.94 Q637.102 1484.52 631.291 1484.52 Q625.481 1484.52 622.403 1479.94 Q619.347 1475.33 619.347 1466.61 Q619.347 1457.86 622.403 1453.27 Q625.481 1448.67 631.291 1448.67 Z\" fill=\"#000000\" fill-rule=\"evenodd\" fill-opacity=\"1\" /><path clip-path=\"url(#clip420)\" d=\"M 0 0 M661.453 1452.37 Q657.842 1452.37 656.014 1455.94 Q654.208 1459.48 654.208 1466.61 Q654.208 1473.71 656.014 1477.28 Q657.842 1480.82 661.453 1480.82 Q665.088 1480.82 666.893 1477.28 Q668.722 1473.71 668.722 1466.61 Q668.722 1459.48 666.893 1455.94 Q665.088 1452.37 661.453 1452.37 M661.453 1448.67 Q667.264 1448.67 670.319 1453.27 Q673.398 1457.86 673.398 1466.61 Q673.398 1475.33 670.319 1479.94 Q667.264 1484.52 661.453 1484.52 Q655.643 1484.52 652.565 1479.94 Q649.509 1475.33 649.509 1466.61 Q649.509 1457.86 652.565 1453.27 Q655.643 1448.67 661.453 1448.67 Z\" fill=\"#000000\" fill-rule=\"evenodd\" fill-opacity=\"1\" /><path clip-path=\"url(#clip420)\" d=\"M 0 0 M1026.13 1479.92 L1042.45 1479.92 L1042.45 1483.85 L1020.51 1483.85 L1020.51 1479.92 Q1023.17 1477.16 1027.75 1472.53 Q1032.36 1467.88 1033.54 1466.54 Q1035.78 1464.01 1036.66 1462.28 Q1037.57 1460.52 1037.57 1458.83 Q1037.57 1456.07 1035.62 1454.34 Q1033.7 1452.6 1030.6 1452.6 Q1028.4 1452.6 1025.95 1453.37 Q1023.52 1454.13 1020.74 1455.68 L1020.74 1450.96 Q1023.56 1449.82 1026.02 1449.25 Q1028.47 1448.67 1030.51 1448.67 Q1035.88 1448.67 1039.07 1451.35 Q1042.27 1454.04 1042.27 1458.53 Q1042.27 1460.66 1041.46 1462.58 Q1040.67 1464.48 1038.56 1467.07 Q1037.98 1467.74 1034.88 1470.96 Q1031.78 1474.15 1026.13 1479.92 Z\" fill=\"#000000\" fill-rule=\"evenodd\" fill-opacity=\"1\" /><path clip-path=\"url(#clip420)\" d=\"M 0 0 M1062.27 1452.37 Q1058.65 1452.37 1056.83 1455.94 Q1055.02 1459.48 1055.02 1466.61 Q1055.02 1473.71 1056.83 1477.28 Q1058.65 1480.82 1062.27 1480.82 Q1065.9 1480.82 1067.71 1477.28 Q1069.53 1473.71 1069.53 1466.61 Q1069.53 1459.48 1067.71 1455.94 Q1065.9 1452.37 1062.27 1452.37 M1062.27 1448.67 Q1068.08 1448.67 1071.13 1453.27 Q1074.21 1457.86 1074.21 1466.61 Q1074.21 1475.33 1071.13 1479.94 Q1068.08 1484.52 1062.27 1484.52 Q1056.46 1484.52 1053.38 1479.94 Q1050.32 1475.33 1050.32 1466.61 Q1050.32 1457.86 1053.38 1453.27 Q1056.46 1448.67 1062.27 1448.67 Z\" fill=\"#000000\" fill-rule=\"evenodd\" fill-opacity=\"1\" /><path clip-path=\"url(#clip420)\" d=\"M 0 0 M1092.43 1452.37 Q1088.82 1452.37 1086.99 1455.94 Q1085.18 1459.48 1085.18 1466.61 Q1085.18 1473.71 1086.99 1477.28 Q1088.82 1480.82 1092.43 1480.82 Q1096.06 1480.82 1097.87 1477.28 Q1099.7 1473.71 1099.7 1466.61 Q1099.7 1459.48 1097.87 1455.94 Q1096.06 1452.37 1092.43 1452.37 M1092.43 1448.67 Q1098.24 1448.67 1101.29 1453.27 Q1104.37 1457.86 1104.37 1466.61 Q1104.37 1475.33 1101.29 1479.94 Q1098.24 1484.52 1092.43 1484.52 Q1086.62 1484.52 1083.54 1479.94 Q1080.48 1475.33 1080.48 1466.61 Q1080.48 1457.86 1083.54 1453.27 Q1086.62 1448.67 1092.43 1448.67 Z\" fill=\"#000000\" fill-rule=\"evenodd\" fill-opacity=\"1\" /><path clip-path=\"url(#clip420)\" d=\"M 0 0 M1466.31 1465.22 Q1469.66 1465.94 1471.54 1468.2 Q1473.44 1470.47 1473.44 1473.81 Q1473.44 1478.92 1469.92 1481.72 Q1466.4 1484.52 1459.92 1484.52 Q1457.74 1484.52 1455.43 1484.08 Q1453.14 1483.67 1450.68 1482.81 L1450.68 1478.3 Q1452.63 1479.43 1454.94 1480.01 Q1457.26 1480.59 1459.78 1480.59 Q1464.18 1480.59 1466.47 1478.85 Q1468.78 1477.12 1468.78 1473.81 Q1468.78 1470.75 1466.63 1469.04 Q1464.5 1467.3 1460.68 1467.3 L1456.65 1467.3 L1456.65 1463.46 L1460.87 1463.46 Q1464.32 1463.46 1466.14 1462.09 Q1467.97 1460.7 1467.97 1458.11 Q1467.97 1455.45 1466.07 1454.04 Q1464.2 1452.6 1460.68 1452.6 Q1458.76 1452.6 1456.56 1453.02 Q1454.36 1453.44 1451.72 1454.31 L1451.72 1450.15 Q1454.39 1449.41 1456.7 1449.04 Q1459.04 1448.67 1461.1 1448.67 Q1466.42 1448.67 1469.52 1451.1 Q1472.63 1453.5 1472.63 1457.63 Q1472.63 1460.5 1470.98 1462.49 Q1469.34 1464.45 1466.31 1465.22 Z\" fill=\"#000000\" fill-rule=\"evenodd\" fill-opacity=\"1\" /><path clip-path=\"url(#clip420)\" d=\"M 0 0 M1492.3 1452.37 Q1488.69 1452.37 1486.86 1455.94 Q1485.06 1459.48 1485.06 1466.61 Q1485.06 1473.71 1486.86 1477.28 Q1488.69 1480.82 1492.3 1480.82 Q1495.94 1480.82 1497.74 1477.28 Q1499.57 1473.71 1499.57 1466.61 Q1499.57 1459.48 1497.74 1455.94 Q1495.94 1452.37 1492.3 1452.37 M1492.3 1448.67 Q1498.11 1448.67 1501.17 1453.27 Q1504.25 1457.86 1504.25 1466.61 Q1504.25 1475.33 1501.17 1479.94 Q1498.11 1484.52 1492.3 1484.52 Q1486.49 1484.52 1483.41 1479.94 Q1480.36 1475.33 1480.36 1466.61 Q1480.36 1457.86 1483.41 1453.27 Q1486.49 1448.67 1492.3 1448.67 Z\" fill=\"#000000\" fill-rule=\"evenodd\" fill-opacity=\"1\" /><path clip-path=\"url(#clip420)\" d=\"M 0 0 M1522.46 1452.37 Q1518.85 1452.37 1517.02 1455.94 Q1515.22 1459.48 1515.22 1466.61 Q1515.22 1473.71 1517.02 1477.28 Q1518.85 1480.82 1522.46 1480.82 Q1526.1 1480.82 1527.9 1477.28 Q1529.73 1473.71 1529.73 1466.61 Q1529.73 1459.48 1527.9 1455.94 Q1526.1 1452.37 1522.46 1452.37 M1522.46 1448.67 Q1528.27 1448.67 1531.33 1453.27 Q1534.41 1457.86 1534.41 1466.61 Q1534.41 1475.33 1531.33 1479.94 Q1528.27 1484.52 1522.46 1484.52 Q1516.65 1484.52 1513.57 1479.94 Q1510.52 1475.33 1510.52 1466.61 Q1510.52 1457.86 1513.57 1453.27 Q1516.65 1448.67 1522.46 1448.67 Z\" fill=\"#000000\" fill-rule=\"evenodd\" fill-opacity=\"1\" /><path clip-path=\"url(#clip420)\" d=\"M 0 0 M1895.74 1453.37 L1883.94 1471.81 L1895.74 1471.81 L1895.74 1453.37 M1894.51 1449.29 L1900.39 1449.29 L1900.39 1471.81 L1905.32 1471.81 L1905.32 1475.7 L1900.39 1475.7 L1900.39 1483.85 L1895.74 1483.85 L1895.74 1475.7 L1880.14 1475.7 L1880.14 1471.19 L1894.51 1449.29 Z\" fill=\"#000000\" fill-rule=\"evenodd\" fill-opacity=\"1\" /><path clip-path=\"url(#clip420)\" d=\"M 0 0 M1923.06 1452.37 Q1919.44 1452.37 1917.62 1455.94 Q1915.81 1459.48 1915.81 1466.61 Q1915.81 1473.71 1917.62 1477.28 Q1919.44 1480.82 1923.06 1480.82 Q1926.69 1480.82 1928.5 1477.28 Q1930.32 1473.71 1930.32 1466.61 Q1930.32 1459.48 1928.5 1455.94 Q1926.69 1452.37 1923.06 1452.37 M1923.06 1448.67 Q1928.87 1448.67 1931.92 1453.27 Q1935 1457.86 1935 1466.61 Q1935 1475.33 1931.92 1479.94 Q1928.87 1484.52 1923.06 1484.52 Q1917.25 1484.52 1914.17 1479.94 Q1911.11 1475.33 1911.11 1466.61 Q1911.11 1457.86 1914.17 1453.27 Q1917.25 1448.67 1923.06 1448.67 Z\" fill=\"#000000\" fill-rule=\"evenodd\" fill-opacity=\"1\" /><path clip-path=\"url(#clip420)\" d=\"M 0 0 M1953.22 1452.37 Q1949.61 1452.37 1947.78 1455.94 Q1945.97 1459.48 1945.97 1466.61 Q1945.97 1473.71 1947.78 1477.28 Q1949.61 1480.82 1953.22 1480.82 Q1956.85 1480.82 1958.66 1477.28 Q1960.49 1473.71 1960.49 1466.61 Q1960.49 1459.48 1958.66 1455.94 Q1956.85 1452.37 1953.22 1452.37 M1953.22 1448.67 Q1959.03 1448.67 1962.08 1453.27 Q1965.16 1457.86 1965.16 1466.61 Q1965.16 1475.33 1962.08 1479.94 Q1959.03 1484.52 1953.22 1484.52 Q1947.41 1484.52 1944.33 1479.94 Q1941.27 1475.33 1941.27 1466.61 Q1941.27 1457.86 1944.33 1453.27 Q1947.41 1448.67 1953.22 1448.67 Z\" fill=\"#000000\" fill-rule=\"evenodd\" fill-opacity=\"1\" /><path clip-path=\"url(#clip420)\" d=\"M 0 0 M2312.37 1449.29 L2330.73 1449.29 L2330.73 1453.23 L2316.66 1453.23 L2316.66 1461.7 Q2317.68 1461.35 2318.69 1461.19 Q2319.71 1461 2320.73 1461 Q2326.52 1461 2329.9 1464.18 Q2333.28 1467.35 2333.28 1472.76 Q2333.28 1478.34 2329.8 1481.44 Q2326.33 1484.52 2320.01 1484.52 Q2317.84 1484.52 2315.57 1484.15 Q2313.32 1483.78 2310.92 1483.04 L2310.92 1478.34 Q2313 1479.48 2315.22 1480.03 Q2317.44 1480.59 2319.92 1480.59 Q2323.93 1480.59 2326.26 1478.48 Q2328.6 1476.38 2328.6 1472.76 Q2328.6 1469.15 2326.26 1467.05 Q2323.93 1464.94 2319.92 1464.94 Q2318.05 1464.94 2316.17 1465.36 Q2314.32 1465.77 2312.37 1466.65 L2312.37 1449.29 Z\" fill=\"#000000\" fill-rule=\"evenodd\" fill-opacity=\"1\" /><path clip-path=\"url(#clip420)\" d=\"M 0 0 M2352.49 1452.37 Q2348.88 1452.37 2347.05 1455.94 Q2345.24 1459.48 2345.24 1466.61 Q2345.24 1473.71 2347.05 1477.28 Q2348.88 1480.82 2352.49 1480.82 Q2356.12 1480.82 2357.93 1477.28 Q2359.76 1473.71 2359.76 1466.61 Q2359.76 1459.48 2357.93 1455.94 Q2356.12 1452.37 2352.49 1452.37 M2352.49 1448.67 Q2358.3 1448.67 2361.36 1453.27 Q2364.43 1457.86 2364.43 1466.61 Q2364.43 1475.33 2361.36 1479.94 Q2358.3 1484.52 2352.49 1484.52 Q2346.68 1484.52 2343.6 1479.94 Q2340.55 1475.33 2340.55 1466.61 Q2340.55 1457.86 2343.6 1453.27 Q2346.68 1448.67 2352.49 1448.67 Z\" fill=\"#000000\" fill-rule=\"evenodd\" fill-opacity=\"1\" /><path clip-path=\"url(#clip420)\" d=\"M 0 0 M2382.65 1452.37 Q2379.04 1452.37 2377.21 1455.94 Q2375.41 1459.48 2375.41 1466.61 Q2375.41 1473.71 2377.21 1477.28 Q2379.04 1480.82 2382.65 1480.82 Q2386.29 1480.82 2388.09 1477.28 Q2389.92 1473.71 2389.92 1466.61 Q2389.92 1459.48 2388.09 1455.94 Q2386.29 1452.37 2382.65 1452.37 M2382.65 1448.67 Q2388.46 1448.67 2391.52 1453.27 Q2394.6 1457.86 2394.6 1466.61 Q2394.6 1475.33 2391.52 1479.94 Q2388.46 1484.52 2382.65 1484.52 Q2376.84 1484.52 2373.76 1479.94 Q2370.71 1475.33 2370.71 1466.61 Q2370.71 1457.86 2373.76 1453.27 Q2376.84 1448.67 2382.65 1448.67 Z\" fill=\"#000000\" fill-rule=\"evenodd\" fill-opacity=\"1\" /><path clip-path=\"url(#clip420)\" d=\"M 0 0 M1129.22 1533.76 L1129.22 1539.24 Q1126.74 1537.87 1124.22 1537.2 Q1121.74 1536.5 1119.19 1536.5 Q1113.5 1536.5 1110.34 1540.13 Q1107.19 1543.73 1107.19 1550.25 Q1107.19 1556.78 1110.34 1560.4 Q1113.5 1564 1119.19 1564 Q1121.74 1564 1124.22 1563.33 Q1126.74 1562.63 1129.22 1561.26 L1129.22 1566.68 Q1126.77 1567.82 1124.13 1568.39 Q1121.52 1568.97 1118.56 1568.97 Q1110.5 1568.97 1105.76 1563.91 Q1101.02 1558.85 1101.02 1550.25 Q1101.02 1541.53 1105.79 1536.53 Q1110.6 1531.54 1118.94 1531.54 Q1121.64 1531.54 1124.22 1532.11 Q1126.8 1532.65 1129.22 1533.76 Z\" fill=\"#000000\" fill-rule=\"evenodd\" fill-opacity=\"1\" /><path clip-path=\"url(#clip420)\" d=\"M 0 0 M1153.22 1536.5 Q1148.51 1536.5 1145.77 1540.19 Q1143.03 1543.85 1143.03 1550.25 Q1143.03 1556.65 1145.74 1560.34 Q1148.47 1564 1153.22 1564 Q1157.9 1564 1160.63 1560.31 Q1163.37 1556.62 1163.37 1550.25 Q1163.37 1543.92 1160.63 1540.23 Q1157.9 1536.5 1153.22 1536.5 M1153.22 1531.54 Q1160.86 1531.54 1165.22 1536.5 Q1169.58 1541.47 1169.58 1550.25 Q1169.58 1559 1165.22 1564 Q1160.86 1568.97 1153.22 1568.97 Q1145.55 1568.97 1141.19 1564 Q1136.86 1559 1136.86 1550.25 Q1136.86 1541.47 1141.19 1536.5 Q1145.55 1531.54 1153.22 1531.54 Z\" fill=\"#000000\" fill-rule=\"evenodd\" fill-opacity=\"1\" /><path clip-path=\"url(#clip420)\" d=\"M 0 0 M1207.04 1539.24 Q1209.24 1535.29 1212.29 1533.41 Q1215.35 1531.54 1219.48 1531.54 Q1225.05 1531.54 1228.08 1535.45 Q1231.1 1539.33 1231.1 1546.53 L1231.1 1568.04 L1225.21 1568.04 L1225.21 1546.72 Q1225.21 1541.59 1223.4 1539.11 Q1221.58 1536.63 1217.86 1536.63 Q1213.31 1536.63 1210.67 1539.65 Q1208.03 1542.68 1208.03 1547.9 L1208.03 1568.04 L1202.14 1568.04 L1202.14 1546.72 Q1202.14 1541.56 1200.32 1539.11 Q1198.51 1536.63 1194.72 1536.63 Q1190.23 1536.63 1187.59 1539.68 Q1184.95 1542.71 1184.95 1547.9 L1184.95 1568.04 L1179.06 1568.04 L1179.06 1532.4 L1184.95 1532.4 L1184.95 1537.93 Q1186.96 1534.66 1189.76 1533.1 Q1192.56 1531.54 1196.41 1531.54 Q1200.29 1531.54 1203 1533.51 Q1205.73 1535.48 1207.04 1539.24 Z\" fill=\"#000000\" fill-rule=\"evenodd\" fill-opacity=\"1\" /><path clip-path=\"url(#clip420)\" d=\"M 0 0 M1248.45 1562.7 L1248.45 1581.6 L1242.56 1581.6 L1242.56 1532.4 L1248.45 1532.4 L1248.45 1537.81 Q1250.29 1534.62 1253.1 1533.1 Q1255.93 1531.54 1259.84 1531.54 Q1266.34 1531.54 1270.38 1536.69 Q1274.45 1541.85 1274.45 1550.25 Q1274.45 1558.65 1270.38 1563.81 Q1266.34 1568.97 1259.84 1568.97 Q1255.93 1568.97 1253.1 1567.44 Q1250.29 1565.88 1248.45 1562.7 M1268.37 1550.25 Q1268.37 1543.79 1265.7 1540.13 Q1263.06 1536.44 1258.41 1536.44 Q1253.76 1536.44 1251.09 1540.13 Q1248.45 1543.79 1248.45 1550.25 Q1248.45 1556.71 1251.09 1560.4 Q1253.76 1564.07 1258.41 1564.07 Q1263.06 1564.07 1265.7 1560.4 Q1268.37 1556.71 1268.37 1550.25 Z\" fill=\"#000000\" fill-rule=\"evenodd\" fill-opacity=\"1\" /><path clip-path=\"url(#clip420)\" d=\"M 0 0 M1284.16 1518.52 L1290.02 1518.52 L1290.02 1568.04 L1284.16 1568.04 L1284.16 1518.52 Z\" fill=\"#000000\" fill-rule=\"evenodd\" fill-opacity=\"1\" /><path clip-path=\"url(#clip420)\" d=\"M 0 0 M1332.76 1548.76 L1332.76 1551.62 L1305.83 1551.62 Q1306.22 1557.67 1309.46 1560.85 Q1312.74 1564 1318.57 1564 Q1321.94 1564 1325.09 1563.17 Q1328.27 1562.35 1331.39 1560.69 L1331.39 1566.23 Q1328.24 1567.57 1324.93 1568.27 Q1321.62 1568.97 1318.22 1568.97 Q1309.69 1568.97 1304.69 1564 Q1299.72 1559.04 1299.72 1550.57 Q1299.72 1541.82 1304.43 1536.69 Q1309.18 1531.54 1317.2 1531.54 Q1324.39 1531.54 1328.56 1536.18 Q1332.76 1540.8 1332.76 1548.76 M1326.91 1547.04 Q1326.84 1542.23 1324.2 1539.37 Q1321.59 1536.5 1317.26 1536.5 Q1312.36 1536.5 1309.4 1539.27 Q1306.47 1542.04 1306.03 1547.07 L1326.91 1547.04 Z\" fill=\"#000000\" fill-rule=\"evenodd\" fill-opacity=\"1\" /><path clip-path=\"url(#clip420)\" d=\"M 0 0 M1370.86 1532.4 L1357.97 1549.74 L1371.53 1568.04 L1364.62 1568.04 L1354.25 1554.04 L1343.87 1568.04 L1336.96 1568.04 L1350.81 1549.39 L1338.14 1532.4 L1345.05 1532.4 L1354.5 1545.1 L1363.95 1532.4 L1370.86 1532.4 Z\" fill=\"#000000\" fill-rule=\"evenodd\" fill-opacity=\"1\" /><path clip-path=\"url(#clip420)\" d=\"M 0 0 M1379.8 1532.4 L1385.66 1532.4 L1385.66 1568.04 L1379.8 1568.04 L1379.8 1532.4 M1379.8 1518.52 L1385.66 1518.52 L1385.66 1525.93 L1379.8 1525.93 L1379.8 1518.52 Z\" fill=\"#000000\" fill-rule=\"evenodd\" fill-opacity=\"1\" /><path clip-path=\"url(#clip420)\" d=\"M 0 0 M1403.71 1522.27 L1403.71 1532.4 L1415.77 1532.4 L1415.77 1536.95 L1403.71 1536.95 L1403.71 1556.3 Q1403.71 1560.66 1404.89 1561.9 Q1406.09 1563.14 1409.76 1563.14 L1415.77 1563.14 L1415.77 1568.04 L1409.76 1568.04 Q1402.98 1568.04 1400.4 1565.53 Q1397.82 1562.98 1397.82 1556.3 L1397.82 1536.95 L1393.52 1536.95 L1393.52 1532.4 L1397.82 1532.4 L1397.82 1522.27 L1403.71 1522.27 Z\" fill=\"#000000\" fill-rule=\"evenodd\" fill-opacity=\"1\" /><path clip-path=\"url(#clip420)\" d=\"M 0 0 M1438.31 1571.35 Q1435.82 1577.72 1433.47 1579.66 Q1431.11 1581.6 1427.17 1581.6 L1422.49 1581.6 L1422.49 1576.7 L1425.92 1576.7 Q1428.34 1576.7 1429.68 1575.56 Q1431.02 1574.41 1432.64 1570.14 L1433.69 1567.47 L1419.27 1532.4 L1425.48 1532.4 L1436.62 1560.28 L1447.76 1532.4 L1453.96 1532.4 L1438.31 1571.35 Z\" fill=\"#000000\" fill-rule=\"evenodd\" fill-opacity=\"1\" /><polyline clip-path=\"url(#clip422)\" style=\"stroke:#000000; stroke-width:2; stroke-opacity:0.1; fill:none\" points=\"\n",
       "  202.227,1423.18 2352.76,1423.18 \n",
       "  \"/>\n",
       "<polyline clip-path=\"url(#clip422)\" style=\"stroke:#000000; stroke-width:2; stroke-opacity:0.1; fill:none\" points=\"\n",
       "  202.227,1163.24 2352.76,1163.24 \n",
       "  \"/>\n",
       "<polyline clip-path=\"url(#clip422)\" style=\"stroke:#000000; stroke-width:2; stroke-opacity:0.1; fill:none\" points=\"\n",
       "  202.227,903.297 2352.76,903.297 \n",
       "  \"/>\n",
       "<polyline clip-path=\"url(#clip422)\" style=\"stroke:#000000; stroke-width:2; stroke-opacity:0.1; fill:none\" points=\"\n",
       "  202.227,643.355 2352.76,643.355 \n",
       "  \"/>\n",
       "<polyline clip-path=\"url(#clip422)\" style=\"stroke:#000000; stroke-width:2; stroke-opacity:0.1; fill:none\" points=\"\n",
       "  202.227,383.414 2352.76,383.414 \n",
       "  \"/>\n",
       "<polyline clip-path=\"url(#clip422)\" style=\"stroke:#000000; stroke-width:2; stroke-opacity:0.1; fill:none\" points=\"\n",
       "  202.227,123.472 2352.76,123.472 \n",
       "  \"/>\n",
       "<polyline clip-path=\"url(#clip420)\" style=\"stroke:#000000; stroke-width:4; stroke-opacity:1; fill:none\" points=\"\n",
       "  202.227,1423.18 202.227,123.472 \n",
       "  \"/>\n",
       "<polyline clip-path=\"url(#clip420)\" style=\"stroke:#000000; stroke-width:4; stroke-opacity:1; fill:none\" points=\"\n",
       "  202.227,1423.18 228.034,1423.18 \n",
       "  \"/>\n",
       "<polyline clip-path=\"url(#clip420)\" style=\"stroke:#000000; stroke-width:4; stroke-opacity:1; fill:none\" points=\"\n",
       "  202.227,1163.24 228.034,1163.24 \n",
       "  \"/>\n",
       "<polyline clip-path=\"url(#clip420)\" style=\"stroke:#000000; stroke-width:4; stroke-opacity:1; fill:none\" points=\"\n",
       "  202.227,903.297 228.034,903.297 \n",
       "  \"/>\n",
       "<polyline clip-path=\"url(#clip420)\" style=\"stroke:#000000; stroke-width:4; stroke-opacity:1; fill:none\" points=\"\n",
       "  202.227,643.355 228.034,643.355 \n",
       "  \"/>\n",
       "<polyline clip-path=\"url(#clip420)\" style=\"stroke:#000000; stroke-width:4; stroke-opacity:1; fill:none\" points=\"\n",
       "  202.227,383.414 228.034,383.414 \n",
       "  \"/>\n",
       "<polyline clip-path=\"url(#clip420)\" style=\"stroke:#000000; stroke-width:4; stroke-opacity:1; fill:none\" points=\"\n",
       "  202.227,123.472 228.034,123.472 \n",
       "  \"/>\n",
       "<path clip-path=\"url(#clip420)\" d=\"M 0 0 M154.283 1408.98 Q150.672 1408.98 148.843 1412.54 Q147.038 1416.08 147.038 1423.21 Q147.038 1430.32 148.843 1433.89 Q150.672 1437.43 154.283 1437.43 Q157.917 1437.43 159.723 1433.89 Q161.552 1430.32 161.552 1423.21 Q161.552 1416.08 159.723 1412.54 Q157.917 1408.98 154.283 1408.98 M154.283 1405.27 Q160.093 1405.27 163.149 1409.88 Q166.227 1414.46 166.227 1423.21 Q166.227 1431.94 163.149 1436.55 Q160.093 1441.13 154.283 1441.13 Q148.473 1441.13 145.394 1436.55 Q142.339 1431.94 142.339 1423.21 Q142.339 1414.46 145.394 1409.88 Q148.473 1405.27 154.283 1405.27 Z\" fill=\"#000000\" fill-rule=\"evenodd\" fill-opacity=\"1\" /><path clip-path=\"url(#clip420)\" d=\"M 0 0 M149.908 1176.58 L166.227 1176.58 L166.227 1180.52 L144.283 1180.52 L144.283 1176.58 Q146.945 1173.83 151.528 1169.2 Q156.135 1164.55 157.315 1163.2 Q159.561 1160.68 160.44 1158.94 Q161.343 1157.19 161.343 1155.5 Q161.343 1152.74 159.399 1151 Q157.478 1149.27 154.376 1149.27 Q152.177 1149.27 149.723 1150.03 Q147.292 1150.8 144.515 1152.35 L144.515 1147.62 Q147.339 1146.49 149.792 1145.91 Q152.246 1145.33 154.283 1145.33 Q159.653 1145.33 162.848 1148.02 Q166.042 1150.7 166.042 1155.19 Q166.042 1157.32 165.232 1159.25 Q164.445 1161.14 162.339 1163.74 Q161.76 1164.41 158.658 1167.62 Q155.556 1170.82 149.908 1176.58 Z\" fill=\"#000000\" fill-rule=\"evenodd\" fill-opacity=\"1\" /><path clip-path=\"url(#clip420)\" d=\"M 0 0 M156.644 890.091 L144.839 908.54 L156.644 908.54 L156.644 890.091 M155.417 886.017 L161.297 886.017 L161.297 908.54 L166.227 908.54 L166.227 912.429 L161.297 912.429 L161.297 920.577 L156.644 920.577 L156.644 912.429 L141.042 912.429 L141.042 907.915 L155.417 886.017 Z\" fill=\"#000000\" fill-rule=\"evenodd\" fill-opacity=\"1\" /><path clip-path=\"url(#clip420)\" d=\"M 0 0 M154.7 641.492 Q151.552 641.492 149.7 643.645 Q147.871 645.797 147.871 649.547 Q147.871 653.274 149.7 655.45 Q151.552 657.603 154.7 657.603 Q157.848 657.603 159.677 655.45 Q161.528 653.274 161.528 649.547 Q161.528 645.797 159.677 643.645 Q157.848 641.492 154.7 641.492 M163.982 626.839 L163.982 631.098 Q162.223 630.265 160.417 629.825 Q158.635 629.385 156.876 629.385 Q152.246 629.385 149.792 632.51 Q147.362 635.635 147.015 641.955 Q148.38 639.941 150.441 638.876 Q152.501 637.788 154.978 637.788 Q160.186 637.788 163.195 640.959 Q166.227 644.108 166.227 649.547 Q166.227 654.871 163.079 658.089 Q159.931 661.307 154.7 661.307 Q148.704 661.307 145.533 656.723 Q142.362 652.117 142.362 643.39 Q142.362 635.196 146.251 630.334 Q150.14 625.45 156.69 625.45 Q158.45 625.45 160.232 625.797 Q162.038 626.145 163.982 626.839 Z\" fill=\"#000000\" fill-rule=\"evenodd\" fill-opacity=\"1\" /><path clip-path=\"url(#clip420)\" d=\"M 0 0 M154.376 384.282 Q151.042 384.282 149.121 386.064 Q147.223 387.847 147.223 390.971 Q147.223 394.096 149.121 395.879 Q151.042 397.661 154.376 397.661 Q157.709 397.661 159.63 395.879 Q161.552 394.073 161.552 390.971 Q161.552 387.847 159.63 386.064 Q157.732 384.282 154.376 384.282 M149.7 382.291 Q146.691 381.55 145.001 379.49 Q143.334 377.43 143.334 374.467 Q143.334 370.323 146.274 367.916 Q149.237 365.509 154.376 365.509 Q159.538 365.509 162.477 367.916 Q165.417 370.323 165.417 374.467 Q165.417 377.43 163.727 379.49 Q162.061 381.55 159.075 382.291 Q162.454 383.078 164.329 385.37 Q166.227 387.661 166.227 390.971 Q166.227 395.995 163.149 398.68 Q160.093 401.365 154.376 401.365 Q148.658 401.365 145.579 398.68 Q142.524 395.995 142.524 390.971 Q142.524 387.661 144.422 385.37 Q146.32 383.078 149.7 382.291 M147.987 374.907 Q147.987 377.592 149.653 379.097 Q151.343 380.601 154.376 380.601 Q157.385 380.601 159.075 379.097 Q160.788 377.592 160.788 374.907 Q160.788 372.222 159.075 370.717 Q157.385 369.212 154.376 369.212 Q151.343 369.212 149.653 370.717 Q147.987 372.222 147.987 374.907 Z\" fill=\"#000000\" fill-rule=\"evenodd\" fill-opacity=\"1\" /><path clip-path=\"url(#clip420)\" d=\"M 0 0 M114.931 136.817 L122.57 136.817 L122.57 110.451 L114.26 112.118 L114.26 107.859 L122.524 106.192 L127.2 106.192 L127.2 136.817 L134.839 136.817 L134.839 140.752 L114.931 140.752 L114.931 136.817 Z\" fill=\"#000000\" fill-rule=\"evenodd\" fill-opacity=\"1\" /><path clip-path=\"url(#clip420)\" d=\"M 0 0 M154.283 109.271 Q150.672 109.271 148.843 112.836 Q147.038 116.377 147.038 123.507 Q147.038 130.613 148.843 134.178 Q150.672 137.72 154.283 137.72 Q157.917 137.72 159.723 134.178 Q161.552 130.613 161.552 123.507 Q161.552 116.377 159.723 112.836 Q157.917 109.271 154.283 109.271 M154.283 105.567 Q160.093 105.567 163.149 110.174 Q166.227 114.757 166.227 123.507 Q166.227 132.234 163.149 136.84 Q160.093 141.423 154.283 141.423 Q148.473 141.423 145.394 136.84 Q142.339 132.234 142.339 123.507 Q142.339 114.757 145.394 110.174 Q148.473 105.567 154.283 105.567 Z\" fill=\"#000000\" fill-rule=\"evenodd\" fill-opacity=\"1\" /><path clip-path=\"url(#clip420)\" d=\"M 0 0 M35.3266 960.462 L35.3266 969.724 L45.9574 972.398 L45.9574 963.072 L35.3266 960.462 M17.2162 965.236 L30.4251 968.546 L30.4251 959.252 L17.2162 955.91 L17.2162 950.818 L30.4251 954.096 L30.4251 944.166 L35.3266 944.166 L35.3266 955.337 L45.9574 957.947 L45.9574 947.826 L50.8271 947.826 L50.8271 959.189 L64.0042 962.499 L64.0042 967.591 L50.8271 964.313 L50.8271 973.639 L64.0042 976.917 L64.0042 982.042 L50.8271 978.731 L50.8271 988.757 L45.9574 988.757 L45.9574 977.554 L35.3266 974.88 L35.3266 985.129 L30.4251 985.129 L30.4251 973.639 L17.2162 970.392 L17.2162 965.236 Z\" fill=\"#000000\" fill-rule=\"evenodd\" fill-opacity=\"1\" /><path clip-path=\"url(#clip420)\" d=\"M 0 0 M32.4621 898.492 Q32.4621 903.202 36.1542 905.94 Q39.8145 908.677 46.212 908.677 Q52.6095 908.677 56.3017 905.971 Q59.9619 903.234 59.9619 898.492 Q59.9619 893.813 56.2698 891.076 Q52.5777 888.338 46.212 888.338 Q39.8781 888.338 36.186 891.076 Q32.4621 893.813 32.4621 898.492 M27.4968 898.492 Q27.4968 890.853 32.4621 886.492 Q37.4273 882.132 46.212 882.132 Q54.9649 882.132 59.9619 886.492 Q64.9272 890.853 64.9272 898.492 Q64.9272 906.162 59.9619 910.523 Q54.9649 914.852 46.212 914.852 Q37.4273 914.852 32.4621 910.523 Q27.4968 906.162 27.4968 898.492 Z\" fill=\"#000000\" fill-rule=\"evenodd\" fill-opacity=\"1\" /><path clip-path=\"url(#clip420)\" d=\"M 0 0 M14.479 854.377 L19.3487 854.377 L19.3487 859.979 Q19.3487 863.13 20.6219 864.372 Q21.895 865.581 25.2052 865.581 L28.3562 865.581 L28.3562 855.937 L32.9077 855.937 L32.9077 865.581 L64.0042 865.581 L64.0042 871.469 L32.9077 871.469 L32.9077 877.071 L28.3562 877.071 L28.3562 871.469 L25.8736 871.469 Q19.9216 871.469 17.2162 868.7 Q14.479 865.931 14.479 859.916 L14.479 854.377 Z\" fill=\"#000000\" fill-rule=\"evenodd\" fill-opacity=\"1\" /><path clip-path=\"url(#clip420)\" d=\"M 0 0 M29.7248 803.102 L35.1993 803.102 Q33.8307 805.584 33.1623 808.099 Q32.4621 810.581 32.4621 813.128 Q32.4621 818.825 36.0905 821.976 Q39.6872 825.127 46.212 825.127 Q52.7369 825.127 56.3653 821.976 Q59.9619 818.825 59.9619 813.128 Q59.9619 810.581 59.2935 808.099 Q58.5933 805.584 57.2247 803.102 L62.6355 803.102 Q63.7814 805.552 64.3543 808.194 Q64.9272 810.804 64.9272 813.764 Q64.9272 821.817 59.8664 826.559 Q54.8057 831.302 46.212 831.302 Q37.491 831.302 32.4939 826.527 Q27.4968 821.721 27.4968 813.382 Q27.4968 810.677 28.0697 808.099 Q28.6108 805.521 29.7248 803.102 Z\" fill=\"#000000\" fill-rule=\"evenodd\" fill-opacity=\"1\" /><path clip-path=\"url(#clip420)\" d=\"M 0 0 M49.9359 793.521 L28.3562 793.521 L28.3562 787.665 L49.7131 787.665 Q54.7739 787.665 57.3202 785.691 Q59.8346 783.718 59.8346 779.771 Q59.8346 775.029 56.8109 772.292 Q53.7872 769.522 48.5673 769.522 L28.3562 769.522 L28.3562 763.666 L64.0042 763.666 L64.0042 769.522 L58.5296 769.522 Q61.7762 771.655 63.3676 774.488 Q64.9272 777.289 64.9272 781.013 Q64.9272 787.155 61.1078 790.338 Q57.2883 793.521 49.9359 793.521 M27.4968 778.785 L27.4968 778.785 Z\" fill=\"#000000\" fill-rule=\"evenodd\" fill-opacity=\"1\" /><path clip-path=\"url(#clip420)\" d=\"M 0 0 M33.8307 730.946 Q33.2578 731.933 33.0032 733.111 Q32.7167 734.256 32.7167 735.657 Q32.7167 740.622 35.9632 743.296 Q39.1779 745.938 45.2253 745.938 L64.0042 745.938 L64.0042 751.826 L28.3562 751.826 L28.3562 745.938 L33.8944 745.938 Q30.6479 744.091 29.0883 741.131 Q27.4968 738.171 27.4968 733.938 Q27.4968 733.333 27.5923 732.601 Q27.656 731.869 27.8151 730.978 L33.8307 730.946 Z\" fill=\"#000000\" fill-rule=\"evenodd\" fill-opacity=\"1\" /><path clip-path=\"url(#clip420)\" d=\"M 0 0 M33.8307 705.292 Q33.2578 706.279 33.0032 707.457 Q32.7167 708.603 32.7167 710.003 Q32.7167 714.968 35.9632 717.642 Q39.1779 720.284 45.2253 720.284 L64.0042 720.284 L64.0042 726.172 L28.3562 726.172 L28.3562 720.284 L33.8944 720.284 Q30.6479 718.438 29.0883 715.478 Q27.4968 712.518 27.4968 708.284 Q27.4968 707.68 27.5923 706.948 Q27.656 706.216 27.8151 705.324 L33.8307 705.292 Z\" fill=\"#000000\" fill-rule=\"evenodd\" fill-opacity=\"1\" /><path clip-path=\"url(#clip420)\" d=\"M 0 0 M28.3562 699.15 L28.3562 693.293 L64.0042 693.293 L64.0042 699.15 L28.3562 699.15 M14.479 699.15 L14.479 693.293 L21.895 693.293 L21.895 699.15 L14.479 699.15 Z\" fill=\"#000000\" fill-rule=\"evenodd\" fill-opacity=\"1\" /><path clip-path=\"url(#clip420)\" d=\"M 0 0 M29.7248 655.385 L35.1993 655.385 Q33.8307 657.868 33.1623 660.382 Q32.4621 662.865 32.4621 665.411 Q32.4621 671.109 36.0905 674.26 Q39.6872 677.411 46.212 677.411 Q52.7369 677.411 56.3653 674.26 Q59.9619 671.109 59.9619 665.411 Q59.9619 662.865 59.2935 660.382 Q58.5933 657.868 57.2247 655.385 L62.6355 655.385 Q63.7814 657.836 64.3543 660.478 Q64.9272 663.088 64.9272 666.048 Q64.9272 674.101 59.8664 678.843 Q54.8057 683.585 46.212 683.585 Q37.491 683.585 32.4939 678.811 Q27.4968 674.005 27.4968 665.666 Q27.4968 662.961 28.0697 660.382 Q28.6108 657.804 29.7248 655.385 Z\" fill=\"#000000\" fill-rule=\"evenodd\" fill-opacity=\"1\" /><path clip-path=\"url(#clip420)\" d=\"M 0 0 M49.9359 645.805 L28.3562 645.805 L28.3562 639.949 L49.7131 639.949 Q54.7739 639.949 57.3202 637.975 Q59.8346 636.002 59.8346 632.055 Q59.8346 627.313 56.8109 624.575 Q53.7872 621.806 48.5673 621.806 L28.3562 621.806 L28.3562 615.95 L64.0042 615.95 L64.0042 621.806 L58.5296 621.806 Q61.7762 623.939 63.3676 626.772 Q64.9272 629.572 64.9272 633.296 Q64.9272 639.439 61.1078 642.622 Q57.2883 645.805 49.9359 645.805 M27.4968 631.068 L27.4968 631.068 Z\" fill=\"#000000\" fill-rule=\"evenodd\" fill-opacity=\"1\" /><path clip-path=\"url(#clip420)\" d=\"M 0 0 M14.479 603.887 L14.479 598.03 L64.0042 598.03 L64.0042 603.887 L14.479 603.887 Z\" fill=\"#000000\" fill-rule=\"evenodd\" fill-opacity=\"1\" /><path clip-path=\"url(#clip420)\" d=\"M 0 0 M46.0847 569.576 Q46.0847 576.673 47.7079 579.411 Q49.3312 582.148 53.2461 582.148 Q56.3653 582.148 58.2114 580.111 Q60.0256 578.042 60.0256 574.509 Q60.0256 569.639 56.5881 566.711 Q53.1188 563.751 47.3897 563.751 L46.0847 563.751 L46.0847 569.576 M43.6657 557.895 L64.0042 557.895 L64.0042 563.751 L58.5933 563.751 Q61.8398 565.756 63.3994 568.748 Q64.9272 571.74 64.9272 576.069 Q64.9272 581.543 61.8716 584.79 Q58.7843 588.004 53.6281 588.004 Q47.6125 588.004 44.5569 583.994 Q41.5014 579.952 41.5014 571.963 L41.5014 563.751 L40.9285 563.751 Q36.8862 563.751 34.6901 566.425 Q32.4621 569.066 32.4621 573.872 Q32.4621 576.928 33.1941 579.824 Q33.9262 582.721 35.3903 585.394 L29.9795 585.394 Q28.7381 582.18 28.1334 579.156 Q27.4968 576.132 27.4968 573.268 Q27.4968 565.533 31.5072 561.714 Q35.5176 557.895 43.6657 557.895 Z\" fill=\"#000000\" fill-rule=\"evenodd\" fill-opacity=\"1\" /><path clip-path=\"url(#clip420)\" d=\"M 0 0 M780.203 20.1573 L769.103 50.2555 L791.343 50.2555 L780.203 20.1573 M775.585 12.096 L784.861 12.096 L807.911 72.576 L799.404 72.576 L793.895 57.061 L766.632 57.061 L761.123 72.576 L752.495 72.576 L775.585 12.096 Z\" fill=\"#000000\" fill-rule=\"evenodd\" fill-opacity=\"1\" /><path clip-path=\"url(#clip420)\" d=\"M 0 0 M854.132 45.1919 L854.132 72.576 L846.678 72.576 L846.678 45.4349 Q846.678 38.994 844.166 35.7938 Q841.655 32.5936 836.632 32.5936 Q830.596 32.5936 827.112 36.4419 Q823.628 40.2903 823.628 46.9338 L823.628 72.576 L816.134 72.576 L816.134 27.2059 L823.628 27.2059 L823.628 34.2544 Q826.302 30.163 829.907 28.1376 Q833.553 26.1121 838.293 26.1121 Q846.111 26.1121 850.121 30.9732 Q854.132 35.7938 854.132 45.1919 Z\" fill=\"#000000\" fill-rule=\"evenodd\" fill-opacity=\"1\" /><path clip-path=\"url(#clip420)\" d=\"M 0 0 M868.999 27.2059 L876.452 27.2059 L876.452 72.576 L868.999 72.576 L868.999 27.2059 M868.999 9.54393 L876.452 9.54393 L876.452 18.9825 L868.999 18.9825 L868.999 9.54393 Z\" fill=\"#000000\" fill-rule=\"evenodd\" fill-opacity=\"1\" /><path clip-path=\"url(#clip420)\" d=\"M 0 0 M927.372 35.9153 Q930.167 30.8922 934.056 28.5022 Q937.945 26.1121 943.211 26.1121 Q950.3 26.1121 954.149 31.0947 Q957.997 36.0368 957.997 45.1919 L957.997 72.576 L950.503 72.576 L950.503 45.4349 Q950.503 38.913 948.194 35.7533 Q945.885 32.5936 941.145 32.5936 Q935.352 32.5936 931.99 36.4419 Q928.628 40.2903 928.628 46.9338 L928.628 72.576 L921.134 72.576 L921.134 45.4349 Q921.134 38.8725 918.825 35.7533 Q916.516 32.5936 911.695 32.5936 Q905.983 32.5936 902.621 36.4824 Q899.259 40.3308 899.259 46.9338 L899.259 72.576 L891.765 72.576 L891.765 27.2059 L899.259 27.2059 L899.259 34.2544 Q901.811 30.082 905.376 28.0971 Q908.94 26.1121 913.842 26.1121 Q918.784 26.1121 922.227 28.6237 Q925.711 31.1352 927.372 35.9153 Z\" fill=\"#000000\" fill-rule=\"evenodd\" fill-opacity=\"1\" /><path clip-path=\"url(#clip420)\" d=\"M 0 0 M993.483 49.7694 Q984.449 49.7694 980.965 51.8354 Q977.482 53.9013 977.482 58.8839 Q977.482 62.8538 980.074 65.2034 Q982.707 67.5124 987.204 67.5124 Q993.402 67.5124 997.129 63.1374 Q1000.9 58.7219 1000.9 51.4303 L1000.9 49.7694 L993.483 49.7694 M1008.35 46.6907 L1008.35 72.576 L1000.9 72.576 L1000.9 65.6895 Q998.344 69.8214 994.536 71.8063 Q990.728 73.7508 985.219 73.7508 Q978.251 73.7508 974.119 69.8619 Q970.028 65.9325 970.028 59.3701 Q970.028 51.7138 975.132 47.825 Q980.277 43.9361 990.445 43.9361 L1000.9 43.9361 L1000.9 43.2069 Q1000.9 38.0623 997.493 35.2672 Q994.131 32.4315 988.014 32.4315 Q984.125 32.4315 980.439 33.3632 Q976.753 34.295 973.35 36.1584 L973.35 29.2718 Q977.441 27.692 981.29 26.9223 Q985.138 26.1121 988.784 26.1121 Q998.627 26.1121 1003.49 31.2163 Q1008.35 36.3204 1008.35 46.6907 Z\" fill=\"#000000\" fill-rule=\"evenodd\" fill-opacity=\"1\" /><path clip-path=\"url(#clip420)\" d=\"M 0 0 M1023.7 9.54393 L1031.16 9.54393 L1031.16 72.576 L1023.7 72.576 L1023.7 9.54393 Z\" fill=\"#000000\" fill-rule=\"evenodd\" fill-opacity=\"1\" /><path clip-path=\"url(#clip420)\" d=\"M 0 0 M1109.7 14.0809 L1109.7 22.0612 Q1105.04 19.8332 1100.91 18.7395 Q1096.78 17.6457 1092.93 17.6457 Q1086.25 17.6457 1082.6 20.2383 Q1079 22.8309 1079 27.611 Q1079 31.6214 1081.39 33.6873 Q1083.82 35.7128 1090.54 36.9686 L1095.48 37.9813 Q1104.64 39.7232 1108.97 44.1387 Q1113.35 48.5136 1113.35 55.8863 Q1113.35 64.6767 1107.43 69.2137 Q1101.56 73.7508 1090.18 73.7508 Q1085.88 73.7508 1081.02 72.7785 Q1076.2 71.8063 1071.02 69.9024 L1071.02 61.4765 Q1076 64.2716 1080.78 65.6895 Q1085.56 67.1073 1090.18 67.1073 Q1097.19 67.1073 1100.99 64.3527 Q1104.8 61.598 1104.8 56.4939 Q1104.8 52.0379 1102.05 49.5264 Q1099.33 47.0148 1093.09 45.759 L1088.11 44.7868 Q1078.96 42.9639 1074.87 39.075 Q1070.77 35.1862 1070.77 28.2591 Q1070.77 20.2383 1076.4 15.6203 Q1082.08 11.0023 1092 11.0023 Q1096.25 11.0023 1100.67 11.7719 Q1105.09 12.5416 1109.7 14.0809 Z\" fill=\"#000000\" fill-rule=\"evenodd\" fill-opacity=\"1\" /><path clip-path=\"url(#clip420)\" d=\"M 0 0 M1158.44 28.9478 L1158.44 35.9153 Q1155.28 34.1734 1152.08 33.3227 Q1148.92 32.4315 1145.68 32.4315 Q1138.42 32.4315 1134.41 37.0496 Q1130.4 41.6271 1130.4 49.9314 Q1130.4 58.2358 1134.41 62.8538 Q1138.42 67.4314 1145.68 67.4314 Q1148.92 67.4314 1152.08 66.5807 Q1155.28 65.6895 1158.44 63.9476 L1158.44 70.8341 Q1155.32 72.2924 1151.95 73.0216 Q1148.63 73.7508 1144.87 73.7508 Q1134.62 73.7508 1128.58 67.3098 Q1122.54 60.8689 1122.54 49.9314 Q1122.54 38.832 1128.62 32.472 Q1134.74 26.1121 1145.35 26.1121 Q1148.79 26.1121 1152.08 26.8413 Q1155.36 27.5299 1158.44 28.9478 Z\" fill=\"#000000\" fill-rule=\"evenodd\" fill-opacity=\"1\" /><path clip-path=\"url(#clip420)\" d=\"M 0 0 M1171.4 27.2059 L1178.85 27.2059 L1178.85 72.576 L1171.4 72.576 L1171.4 27.2059 M1171.4 9.54393 L1178.85 9.54393 L1178.85 18.9825 L1171.4 18.9825 L1171.4 9.54393 Z\" fill=\"#000000\" fill-rule=\"evenodd\" fill-opacity=\"1\" /><path clip-path=\"url(#clip420)\" d=\"M 0 0 M1233.26 48.0275 L1233.26 51.6733 L1198.99 51.6733 Q1199.47 59.3701 1203.6 63.421 Q1207.78 67.4314 1215.19 67.4314 Q1219.48 67.4314 1223.49 66.3781 Q1227.54 65.3249 1231.51 63.2184 L1231.51 70.267 Q1227.5 71.9684 1223.29 72.8596 Q1219.08 73.7508 1214.74 73.7508 Q1203.89 73.7508 1197.53 67.4314 Q1191.21 61.1119 1191.21 50.3365 Q1191.21 39.1965 1197.2 32.6746 Q1203.24 26.1121 1213.45 26.1121 Q1222.6 26.1121 1227.91 32.0264 Q1233.26 37.9003 1233.26 48.0275 M1225.8 45.84 Q1225.72 39.7232 1222.36 36.0774 Q1219.04 32.4315 1213.53 32.4315 Q1207.29 32.4315 1203.52 35.9558 Q1199.8 39.4801 1199.23 45.8805 L1225.8 45.84 Z\" fill=\"#000000\" fill-rule=\"evenodd\" fill-opacity=\"1\" /><path clip-path=\"url(#clip420)\" d=\"M 0 0 M1283.2 45.1919 L1283.2 72.576 L1275.75 72.576 L1275.75 45.4349 Q1275.75 38.994 1273.24 35.7938 Q1270.73 32.5936 1265.7 32.5936 Q1259.67 32.5936 1256.18 36.4419 Q1252.7 40.2903 1252.7 46.9338 L1252.7 72.576 L1245.21 72.576 L1245.21 27.2059 L1252.7 27.2059 L1252.7 34.2544 Q1255.37 30.163 1258.98 28.1376 Q1262.62 26.1121 1267.36 26.1121 Q1275.18 26.1121 1279.19 30.9732 Q1283.2 35.7938 1283.2 45.1919 Z\" fill=\"#000000\" fill-rule=\"evenodd\" fill-opacity=\"1\" /><path clip-path=\"url(#clip420)\" d=\"M 0 0 M1330.72 28.9478 L1330.72 35.9153 Q1327.56 34.1734 1324.36 33.3227 Q1321.2 32.4315 1317.96 32.4315 Q1310.71 32.4315 1306.7 37.0496 Q1302.69 41.6271 1302.69 49.9314 Q1302.69 58.2358 1306.7 62.8538 Q1310.71 67.4314 1317.96 67.4314 Q1321.2 67.4314 1324.36 66.5807 Q1327.56 65.6895 1330.72 63.9476 L1330.72 70.8341 Q1327.6 72.2924 1324.24 73.0216 Q1320.92 73.7508 1317.15 73.7508 Q1306.9 73.7508 1300.87 67.3098 Q1294.83 60.8689 1294.83 49.9314 Q1294.83 38.832 1300.91 32.472 Q1307.02 26.1121 1317.64 26.1121 Q1321.08 26.1121 1324.36 26.8413 Q1327.64 27.5299 1330.72 28.9478 Z\" fill=\"#000000\" fill-rule=\"evenodd\" fill-opacity=\"1\" /><path clip-path=\"url(#clip420)\" d=\"M 0 0 M1382.49 48.0275 L1382.49 51.6733 L1348.22 51.6733 Q1348.71 59.3701 1352.84 63.421 Q1357.01 67.4314 1364.42 67.4314 Q1368.72 67.4314 1372.73 66.3781 Q1376.78 65.3249 1380.75 63.2184 L1380.75 70.267 Q1376.74 71.9684 1372.53 72.8596 Q1368.31 73.7508 1363.98 73.7508 Q1353.12 73.7508 1346.76 67.4314 Q1340.44 61.1119 1340.44 50.3365 Q1340.44 39.1965 1346.44 32.6746 Q1352.47 26.1121 1362.68 26.1121 Q1371.84 26.1121 1377.14 32.0264 Q1382.49 37.9003 1382.49 48.0275 M1375.04 45.84 Q1374.96 39.7232 1371.59 36.0774 Q1368.27 32.4315 1362.76 32.4315 Q1356.52 32.4315 1352.76 35.9558 Q1349.03 39.4801 1348.46 45.8805 L1375.04 45.84 Z\" fill=\"#000000\" fill-rule=\"evenodd\" fill-opacity=\"1\" /><path clip-path=\"url(#clip420)\" d=\"M 0 0 M1429.6 18.8205 L1429.6 41.5461 L1439.89 41.5461 Q1445.6 41.5461 1448.72 38.5889 Q1451.84 35.6318 1451.84 30.163 Q1451.84 24.7348 1448.72 21.7777 Q1445.6 18.8205 1439.89 18.8205 L1429.6 18.8205 M1421.42 12.096 L1439.89 12.096 Q1450.06 12.096 1455.25 16.714 Q1460.47 21.2916 1460.47 30.163 Q1460.47 39.1155 1455.25 43.6931 Q1450.06 48.2706 1439.89 48.2706 L1429.6 48.2706 L1429.6 72.576 L1421.42 72.576 L1421.42 12.096 Z\" fill=\"#000000\" fill-rule=\"evenodd\" fill-opacity=\"1\" /><path clip-path=\"url(#clip420)\" d=\"M 0 0 M1495.96 34.1734 Q1494.7 33.4443 1493.2 33.1202 Q1491.74 32.7556 1489.96 32.7556 Q1483.64 32.7556 1480.24 36.8875 Q1476.88 40.9789 1476.88 48.6757 L1476.88 72.576 L1469.38 72.576 L1469.38 27.2059 L1476.88 27.2059 L1476.88 34.2544 Q1479.23 30.1225 1482.99 28.1376 Q1486.76 26.1121 1492.15 26.1121 Q1492.92 26.1121 1493.85 26.2337 Q1494.78 26.3147 1495.92 26.5172 L1495.96 34.1734 Z\" fill=\"#000000\" fill-rule=\"evenodd\" fill-opacity=\"1\" /><path clip-path=\"url(#clip420)\" d=\"M 0 0 M1519.53 32.4315 Q1513.54 32.4315 1510.05 37.1306 Q1506.57 41.7891 1506.57 49.9314 Q1506.57 58.0738 1510.01 62.7728 Q1513.5 67.4314 1519.53 67.4314 Q1525.49 67.4314 1528.97 62.7323 Q1532.46 58.0333 1532.46 49.9314 Q1532.46 41.8701 1528.97 37.1711 Q1525.49 32.4315 1519.53 32.4315 M1519.53 26.1121 Q1529.26 26.1121 1534.81 32.4315 Q1540.35 38.7509 1540.35 49.9314 Q1540.35 61.0714 1534.81 67.4314 Q1529.26 73.7508 1519.53 73.7508 Q1509.77 73.7508 1504.22 67.4314 Q1498.71 61.0714 1498.71 49.9314 Q1498.71 38.7509 1504.22 32.4315 Q1509.77 26.1121 1519.53 26.1121 Z\" fill=\"#000000\" fill-rule=\"evenodd\" fill-opacity=\"1\" /><path clip-path=\"url(#clip420)\" d=\"M 0 0 M1582.57 49.3643 Q1582.57 41.2625 1579.2 36.8065 Q1575.88 32.3505 1569.85 32.3505 Q1563.85 32.3505 1560.49 36.8065 Q1557.17 41.2625 1557.17 49.3643 Q1557.17 57.4256 1560.49 61.8816 Q1563.85 66.3376 1569.85 66.3376 Q1575.88 66.3376 1579.2 61.8816 Q1582.57 57.4256 1582.57 49.3643 M1590.02 66.9452 Q1590.02 78.5308 1584.87 84.1616 Q1579.73 89.8329 1569.12 89.8329 Q1565.19 89.8329 1561.7 89.2252 Q1558.22 88.6581 1554.94 87.4428 L1554.94 80.1917 Q1558.22 81.9741 1561.42 82.8248 Q1564.62 83.6755 1567.94 83.6755 Q1575.27 83.6755 1578.92 79.8271 Q1582.57 76.0193 1582.57 68.282 L1582.57 64.5957 Q1580.26 68.6061 1576.65 70.5911 Q1573.05 72.576 1568.02 72.576 Q1559.68 72.576 1554.57 66.2161 Q1549.47 59.8562 1549.47 49.3643 Q1549.47 38.832 1554.57 32.472 Q1559.68 26.1121 1568.02 26.1121 Q1573.05 26.1121 1576.65 28.0971 Q1580.26 30.082 1582.57 34.0924 L1582.57 27.2059 L1590.02 27.2059 L1590.02 66.9452 Z\" fill=\"#000000\" fill-rule=\"evenodd\" fill-opacity=\"1\" /><path clip-path=\"url(#clip420)\" d=\"M 0 0 M1631.66 34.1734 Q1630.41 33.4443 1628.91 33.1202 Q1627.45 32.7556 1625.67 32.7556 Q1619.35 32.7556 1615.94 36.8875 Q1612.58 40.9789 1612.58 48.6757 L1612.58 72.576 L1605.09 72.576 L1605.09 27.2059 L1612.58 27.2059 L1612.58 34.2544 Q1614.93 30.1225 1618.7 28.1376 Q1622.47 26.1121 1627.85 26.1121 Q1628.62 26.1121 1629.56 26.2337 Q1630.49 26.3147 1631.62 26.5172 L1631.66 34.1734 Z\" fill=\"#000000\" fill-rule=\"evenodd\" fill-opacity=\"1\" /><path clip-path=\"url(#clip420)\" d=\"M 0 0 M1660.1 49.7694 Q1651.07 49.7694 1647.58 51.8354 Q1644.1 53.9013 1644.1 58.8839 Q1644.1 62.8538 1646.69 65.2034 Q1649.32 67.5124 1653.82 67.5124 Q1660.02 67.5124 1663.75 63.1374 Q1667.51 58.7219 1667.51 51.4303 L1667.51 49.7694 L1660.1 49.7694 M1674.97 46.6907 L1674.97 72.576 L1667.51 72.576 L1667.51 65.6895 Q1664.96 69.8214 1661.15 71.8063 Q1657.34 73.7508 1651.84 73.7508 Q1644.87 73.7508 1640.74 69.8619 Q1636.64 65.9325 1636.64 59.3701 Q1636.64 51.7138 1641.75 47.825 Q1646.89 43.9361 1657.06 43.9361 L1667.51 43.9361 L1667.51 43.2069 Q1667.51 38.0623 1664.11 35.2672 Q1660.75 32.4315 1654.63 32.4315 Q1650.74 32.4315 1647.06 33.3632 Q1643.37 34.295 1639.97 36.1584 L1639.97 29.2718 Q1644.06 27.692 1647.91 26.9223 Q1651.75 26.1121 1655.4 26.1121 Q1665.24 26.1121 1670.11 31.2163 Q1674.97 36.3204 1674.97 46.6907 Z\" fill=\"#000000\" fill-rule=\"evenodd\" fill-opacity=\"1\" /><path clip-path=\"url(#clip420)\" d=\"M 0 0 M1725.64 35.9153 Q1728.44 30.8922 1732.33 28.5022 Q1736.22 26.1121 1741.48 26.1121 Q1748.57 26.1121 1752.42 31.0947 Q1756.27 36.0368 1756.27 45.1919 L1756.27 72.576 L1748.77 72.576 L1748.77 45.4349 Q1748.77 38.913 1746.46 35.7533 Q1744.16 32.5936 1739.42 32.5936 Q1733.62 32.5936 1730.26 36.4419 Q1726.9 40.2903 1726.9 46.9338 L1726.9 72.576 L1719.4 72.576 L1719.4 45.4349 Q1719.4 38.8725 1717.1 35.7533 Q1714.79 32.5936 1709.97 32.5936 Q1704.25 32.5936 1700.89 36.4824 Q1697.53 40.3308 1697.53 46.9338 L1697.53 72.576 L1690.04 72.576 L1690.04 27.2059 L1697.53 27.2059 L1697.53 34.2544 Q1700.08 30.082 1703.65 28.0971 Q1707.21 26.1121 1712.11 26.1121 Q1717.06 26.1121 1720.5 28.6237 Q1723.98 31.1352 1725.64 35.9153 Z\" fill=\"#000000\" fill-rule=\"evenodd\" fill-opacity=\"1\" /><path clip-path=\"url(#clip420)\" d=\"M 0 0 M1800.06 28.5427 L1800.06 35.5912 Q1796.9 33.9709 1793.5 33.1607 Q1790.09 32.3505 1786.45 32.3505 Q1780.9 32.3505 1778.1 34.0519 Q1775.35 35.7533 1775.35 39.156 Q1775.35 41.7486 1777.33 43.2475 Q1779.32 44.7058 1785.31 46.0426 L1787.87 46.6097 Q1795.8 48.3111 1799.13 51.4303 Q1802.49 54.509 1802.49 60.0587 Q1802.49 66.3781 1797.47 70.0644 Q1792.48 73.7508 1783.73 73.7508 Q1780.09 73.7508 1776.12 73.0216 Q1772.19 72.3329 1767.81 70.9151 L1767.81 63.2184 Q1771.95 65.3654 1775.96 66.4591 Q1779.97 67.5124 1783.9 67.5124 Q1789.16 67.5124 1792 65.73 Q1794.83 63.9071 1794.83 60.6258 Q1794.83 57.5877 1792.77 55.9673 Q1790.74 54.3469 1783.81 52.8481 L1781.22 52.2405 Q1774.29 50.7821 1771.22 47.7845 Q1768.14 44.7463 1768.14 39.4801 Q1768.14 33.0797 1772.67 29.5959 Q1777.21 26.1121 1785.56 26.1121 Q1789.69 26.1121 1793.33 26.7198 Q1796.98 27.3274 1800.06 28.5427 Z\" fill=\"#000000\" fill-rule=\"evenodd\" fill-opacity=\"1\" /><path clip-path=\"url(#clip422)\" d=\"\n",
       "M417.28 903.297 L417.28 1423.18 L632.333 1423.18 L632.333 903.297 L417.28 903.297 L417.28 903.297  Z\n",
       "  \" fill=\"#1874cd\" fill-rule=\"evenodd\" fill-opacity=\"0.7\"/>\n",
       "<polyline clip-path=\"url(#clip422)\" style=\"stroke:#000000; stroke-width:4; stroke-opacity:0.7; fill:none\" points=\"\n",
       "  417.28,903.297 417.28,1423.18 632.333,1423.18 632.333,903.297 417.28,903.297 \n",
       "  \"/>\n",
       "<path clip-path=\"url(#clip422)\" d=\"\n",
       "M632.333 383.414 L632.333 1423.18 L847.386 1423.18 L847.386 383.414 L632.333 383.414 L632.333 383.414  Z\n",
       "  \" fill=\"#1874cd\" fill-rule=\"evenodd\" fill-opacity=\"0.7\"/>\n",
       "<polyline clip-path=\"url(#clip422)\" style=\"stroke:#000000; stroke-width:4; stroke-opacity:0.7; fill:none\" points=\"\n",
       "  632.333,383.414 632.333,1423.18 847.386,1423.18 847.386,383.414 632.333,383.414 \n",
       "  \"/>\n",
       "<path clip-path=\"url(#clip422)\" d=\"\n",
       "M847.386 643.355 L847.386 1423.18 L1062.44 1423.18 L1062.44 643.355 L847.386 643.355 L847.386 643.355  Z\n",
       "  \" fill=\"#1874cd\" fill-rule=\"evenodd\" fill-opacity=\"0.7\"/>\n",
       "<polyline clip-path=\"url(#clip422)\" style=\"stroke:#000000; stroke-width:4; stroke-opacity:0.7; fill:none\" points=\"\n",
       "  847.386,643.355 847.386,1423.18 1062.44,1423.18 1062.44,643.355 847.386,643.355 \n",
       "  \"/>\n",
       "<path clip-path=\"url(#clip422)\" d=\"\n",
       "M1062.44 1293.21 L1062.44 1423.18 L1277.49 1423.18 L1277.49 1293.21 L1062.44 1293.21 L1062.44 1293.21  Z\n",
       "  \" fill=\"#1874cd\" fill-rule=\"evenodd\" fill-opacity=\"0.7\"/>\n",
       "<polyline clip-path=\"url(#clip422)\" style=\"stroke:#000000; stroke-width:4; stroke-opacity:0.7; fill:none\" points=\"\n",
       "  1062.44,1293.21 1062.44,1423.18 1277.49,1423.18 1277.49,1293.21 1062.44,1293.21 \n",
       "  \"/>\n",
       "<path clip-path=\"url(#clip422)\" d=\"\n",
       "M1277.49 1423.18 L1277.49 1423.18 L1492.54 1423.18 L1492.54 1423.18 L1277.49 1423.18 L1277.49 1423.18  Z\n",
       "  \" fill=\"#1874cd\" fill-rule=\"evenodd\" fill-opacity=\"0.7\"/>\n",
       "<polyline clip-path=\"url(#clip422)\" style=\"stroke:#000000; stroke-width:4; stroke-opacity:0.7; fill:none\" points=\"\n",
       "  1277.49,1423.18 1277.49,1423.18 1492.54,1423.18 1277.49,1423.18 \n",
       "  \"/>\n",
       "<path clip-path=\"url(#clip422)\" d=\"\n",
       "M1492.54 1293.21 L1492.54 1423.18 L1707.6 1423.18 L1707.6 1293.21 L1492.54 1293.21 L1492.54 1293.21  Z\n",
       "  \" fill=\"#1874cd\" fill-rule=\"evenodd\" fill-opacity=\"0.7\"/>\n",
       "<polyline clip-path=\"url(#clip422)\" style=\"stroke:#000000; stroke-width:4; stroke-opacity:0.7; fill:none\" points=\"\n",
       "  1492.54,1293.21 1492.54,1423.18 1707.6,1423.18 1707.6,1293.21 1492.54,1293.21 \n",
       "  \"/>\n",
       "</svg>\n"
      ]
     },
     "metadata": {},
     "output_type": "display_data"
    },
    {
     "name": "stdout",
     "output_type": "stream",
     "text": [
      "****** Mechanical Engineering Programs ******\n",
      "\n",
      " Metric -- complexity\n",
      "  Number of curricula = 11\n",
      "  Mean = 333.3636363636364\n",
      "  STD = 5.619075058040138\n",
      "  Max. = 514.0\n",
      "  Min. = 140.0\n"
     ]
    },
    {
     "data": {
      "image/svg+xml": [
       "<?xml version=\"1.0\" encoding=\"utf-8\"?>\n",
       "<svg xmlns=\"http://www.w3.org/2000/svg\" xmlns:xlink=\"http://www.w3.org/1999/xlink\" width=\"600\" height=\"400\" viewBox=\"0 0 2400 1600\">\n",
       "<defs>\n",
       "  <clipPath id=\"clip460\">\n",
       "    <rect x=\"0\" y=\"0\" width=\"2400\" height=\"1600\"/>\n",
       "  </clipPath>\n",
       "</defs>\n",
       "<path clip-path=\"url(#clip460)\" d=\"\n",
       "M0 1600 L2400 1600 L2400 0 L0 0  Z\n",
       "  \" fill=\"#ffffff\" fill-rule=\"evenodd\" fill-opacity=\"1\"/>\n",
       "<defs>\n",
       "  <clipPath id=\"clip461\">\n",
       "    <rect x=\"480\" y=\"0\" width=\"1681\" height=\"1600\"/>\n",
       "  </clipPath>\n",
       "</defs>\n",
       "<path clip-path=\"url(#clip460)\" d=\"\n",
       "M175.445 1423.18 L2352.76 1423.18 L2352.76 123.472 L175.445 123.472  Z\n",
       "  \" fill=\"#ffffff\" fill-rule=\"evenodd\" fill-opacity=\"1\"/>\n",
       "<defs>\n",
       "  <clipPath id=\"clip462\">\n",
       "    <rect x=\"175\" y=\"123\" width=\"2178\" height=\"1301\"/>\n",
       "  </clipPath>\n",
       "</defs>\n",
       "<polyline clip-path=\"url(#clip462)\" style=\"stroke:#000000; stroke-width:2; stroke-opacity:0.1; fill:none\" points=\"\n",
       "  175.445,1423.18 175.445,123.472 \n",
       "  \"/>\n",
       "<polyline clip-path=\"url(#clip462)\" style=\"stroke:#000000; stroke-width:2; stroke-opacity:0.1; fill:none\" points=\"\n",
       "  610.907,1423.18 610.907,123.472 \n",
       "  \"/>\n",
       "<polyline clip-path=\"url(#clip462)\" style=\"stroke:#000000; stroke-width:2; stroke-opacity:0.1; fill:none\" points=\"\n",
       "  1046.37,1423.18 1046.37,123.472 \n",
       "  \"/>\n",
       "<polyline clip-path=\"url(#clip462)\" style=\"stroke:#000000; stroke-width:2; stroke-opacity:0.1; fill:none\" points=\"\n",
       "  1481.83,1423.18 1481.83,123.472 \n",
       "  \"/>\n",
       "<polyline clip-path=\"url(#clip462)\" style=\"stroke:#000000; stroke-width:2; stroke-opacity:0.1; fill:none\" points=\"\n",
       "  1917.29,1423.18 1917.29,123.472 \n",
       "  \"/>\n",
       "<polyline clip-path=\"url(#clip462)\" style=\"stroke:#000000; stroke-width:2; stroke-opacity:0.1; fill:none\" points=\"\n",
       "  2352.76,1423.18 2352.76,123.472 \n",
       "  \"/>\n",
       "<polyline clip-path=\"url(#clip460)\" style=\"stroke:#000000; stroke-width:4; stroke-opacity:1; fill:none\" points=\"\n",
       "  175.445,1423.18 2352.76,1423.18 \n",
       "  \"/>\n",
       "<polyline clip-path=\"url(#clip460)\" style=\"stroke:#000000; stroke-width:4; stroke-opacity:1; fill:none\" points=\"\n",
       "  175.445,1423.18 175.445,1407.58 \n",
       "  \"/>\n",
       "<polyline clip-path=\"url(#clip460)\" style=\"stroke:#000000; stroke-width:4; stroke-opacity:1; fill:none\" points=\"\n",
       "  610.907,1423.18 610.907,1407.58 \n",
       "  \"/>\n",
       "<polyline clip-path=\"url(#clip460)\" style=\"stroke:#000000; stroke-width:4; stroke-opacity:1; fill:none\" points=\"\n",
       "  1046.37,1423.18 1046.37,1407.58 \n",
       "  \"/>\n",
       "<polyline clip-path=\"url(#clip460)\" style=\"stroke:#000000; stroke-width:4; stroke-opacity:1; fill:none\" points=\"\n",
       "  1481.83,1423.18 1481.83,1407.58 \n",
       "  \"/>\n",
       "<polyline clip-path=\"url(#clip460)\" style=\"stroke:#000000; stroke-width:4; stroke-opacity:1; fill:none\" points=\"\n",
       "  1917.29,1423.18 1917.29,1407.58 \n",
       "  \"/>\n",
       "<polyline clip-path=\"url(#clip460)\" style=\"stroke:#000000; stroke-width:4; stroke-opacity:1; fill:none\" points=\"\n",
       "  2352.76,1423.18 2352.76,1407.58 \n",
       "  \"/>\n",
       "<path clip-path=\"url(#clip460)\" d=\"M 0 0 M175.445 1452.37 Q171.834 1452.37 170.005 1455.94 Q168.2 1459.48 168.2 1466.61 Q168.2 1473.71 170.005 1477.28 Q171.834 1480.82 175.445 1480.82 Q179.079 1480.82 180.885 1477.28 Q182.714 1473.71 182.714 1466.61 Q182.714 1459.48 180.885 1455.94 Q179.079 1452.37 175.445 1452.37 M175.445 1448.67 Q181.255 1448.67 184.311 1453.27 Q187.39 1457.86 187.39 1466.61 Q187.39 1475.33 184.311 1479.94 Q181.255 1484.52 175.445 1484.52 Q169.635 1484.52 166.556 1479.94 Q163.501 1475.33 163.501 1466.61 Q163.501 1457.86 166.556 1453.27 Q169.635 1448.67 175.445 1448.67 Z\" fill=\"#000000\" fill-rule=\"evenodd\" fill-opacity=\"1\" /><path clip-path=\"url(#clip460)\" d=\"M 0 0 M570.514 1479.92 L578.153 1479.92 L578.153 1453.55 L569.843 1455.22 L569.843 1450.96 L578.107 1449.29 L582.782 1449.29 L582.782 1479.92 L590.421 1479.92 L590.421 1483.85 L570.514 1483.85 L570.514 1479.92 Z\" fill=\"#000000\" fill-rule=\"evenodd\" fill-opacity=\"1\" /><path clip-path=\"url(#clip460)\" d=\"M 0 0 M609.866 1452.37 Q606.255 1452.37 604.426 1455.94 Q602.62 1459.48 602.62 1466.61 Q602.62 1473.71 604.426 1477.28 Q606.255 1480.82 609.866 1480.82 Q613.5 1480.82 615.305 1477.28 Q617.134 1473.71 617.134 1466.61 Q617.134 1459.48 615.305 1455.94 Q613.5 1452.37 609.866 1452.37 M609.866 1448.67 Q615.676 1448.67 618.731 1453.27 Q621.81 1457.86 621.81 1466.61 Q621.81 1475.33 618.731 1479.94 Q615.676 1484.52 609.866 1484.52 Q604.056 1484.52 600.977 1479.94 Q597.921 1475.33 597.921 1466.61 Q597.921 1457.86 600.977 1453.27 Q604.056 1448.67 609.866 1448.67 Z\" fill=\"#000000\" fill-rule=\"evenodd\" fill-opacity=\"1\" /><path clip-path=\"url(#clip460)\" d=\"M 0 0 M640.028 1452.37 Q636.416 1452.37 634.588 1455.94 Q632.782 1459.48 632.782 1466.61 Q632.782 1473.71 634.588 1477.28 Q636.416 1480.82 640.028 1480.82 Q643.662 1480.82 645.467 1477.28 Q647.296 1473.71 647.296 1466.61 Q647.296 1459.48 645.467 1455.94 Q643.662 1452.37 640.028 1452.37 M640.028 1448.67 Q645.838 1448.67 648.893 1453.27 Q651.972 1457.86 651.972 1466.61 Q651.972 1475.33 648.893 1479.94 Q645.838 1484.52 640.028 1484.52 Q634.217 1484.52 631.139 1479.94 Q628.083 1475.33 628.083 1466.61 Q628.083 1457.86 631.139 1453.27 Q634.217 1448.67 640.028 1448.67 Z\" fill=\"#000000\" fill-rule=\"evenodd\" fill-opacity=\"1\" /><path clip-path=\"url(#clip460)\" d=\"M 0 0 M1010.06 1479.92 L1026.38 1479.92 L1026.38 1483.85 L1004.44 1483.85 L1004.44 1479.92 Q1007.1 1477.16 1011.68 1472.53 Q1016.29 1467.88 1017.47 1466.54 Q1019.71 1464.01 1020.59 1462.28 Q1021.5 1460.52 1021.5 1458.83 Q1021.5 1456.07 1019.55 1454.34 Q1017.63 1452.6 1014.53 1452.6 Q1012.33 1452.6 1009.88 1453.37 Q1007.45 1454.13 1004.67 1455.68 L1004.67 1450.96 Q1007.49 1449.82 1009.95 1449.25 Q1012.4 1448.67 1014.44 1448.67 Q1019.81 1448.67 1023 1451.35 Q1026.2 1454.04 1026.2 1458.53 Q1026.2 1460.66 1025.39 1462.58 Q1024.6 1464.48 1022.49 1467.07 Q1021.91 1467.74 1018.81 1470.96 Q1015.71 1474.15 1010.06 1479.92 Z\" fill=\"#000000\" fill-rule=\"evenodd\" fill-opacity=\"1\" /><path clip-path=\"url(#clip460)\" d=\"M 0 0 M1046.2 1452.37 Q1042.58 1452.37 1040.76 1455.94 Q1038.95 1459.48 1038.95 1466.61 Q1038.95 1473.71 1040.76 1477.28 Q1042.58 1480.82 1046.2 1480.82 Q1049.83 1480.82 1051.64 1477.28 Q1053.46 1473.71 1053.46 1466.61 Q1053.46 1459.48 1051.64 1455.94 Q1049.83 1452.37 1046.2 1452.37 M1046.2 1448.67 Q1052.01 1448.67 1055.06 1453.27 Q1058.14 1457.86 1058.14 1466.61 Q1058.14 1475.33 1055.06 1479.94 Q1052.01 1484.52 1046.2 1484.52 Q1040.39 1484.52 1037.31 1479.94 Q1034.25 1475.33 1034.25 1466.61 Q1034.25 1457.86 1037.31 1453.27 Q1040.39 1448.67 1046.2 1448.67 Z\" fill=\"#000000\" fill-rule=\"evenodd\" fill-opacity=\"1\" /><path clip-path=\"url(#clip460)\" d=\"M 0 0 M1076.36 1452.37 Q1072.75 1452.37 1070.92 1455.94 Q1069.11 1459.48 1069.11 1466.61 Q1069.11 1473.71 1070.92 1477.28 Q1072.75 1480.82 1076.36 1480.82 Q1079.99 1480.82 1081.8 1477.28 Q1083.63 1473.71 1083.63 1466.61 Q1083.63 1459.48 1081.8 1455.94 Q1079.99 1452.37 1076.36 1452.37 M1076.36 1448.67 Q1082.17 1448.67 1085.22 1453.27 Q1088.3 1457.86 1088.3 1466.61 Q1088.3 1475.33 1085.22 1479.94 Q1082.17 1484.52 1076.36 1484.52 Q1070.55 1484.52 1067.47 1479.94 Q1064.41 1475.33 1064.41 1466.61 Q1064.41 1457.86 1067.47 1453.27 Q1070.55 1448.67 1076.36 1448.67 Z\" fill=\"#000000\" fill-rule=\"evenodd\" fill-opacity=\"1\" /><path clip-path=\"url(#clip460)\" d=\"M 0 0 M1455.59 1465.22 Q1458.95 1465.94 1460.82 1468.2 Q1462.72 1470.47 1462.72 1473.81 Q1462.72 1478.92 1459.2 1481.72 Q1455.69 1484.52 1449.2 1484.52 Q1447.03 1484.52 1444.71 1484.08 Q1442.42 1483.67 1439.97 1482.81 L1439.97 1478.3 Q1441.91 1479.43 1444.23 1480.01 Q1446.54 1480.59 1449.07 1480.59 Q1453.46 1480.59 1455.76 1478.85 Q1458.07 1477.12 1458.07 1473.81 Q1458.07 1470.75 1455.92 1469.04 Q1453.79 1467.3 1449.97 1467.3 L1445.94 1467.3 L1445.94 1463.46 L1450.15 1463.46 Q1453.6 1463.46 1455.43 1462.09 Q1457.26 1460.7 1457.26 1458.11 Q1457.26 1455.45 1455.36 1454.04 Q1453.49 1452.6 1449.97 1452.6 Q1448.05 1452.6 1445.85 1453.02 Q1443.65 1453.44 1441.01 1454.31 L1441.01 1450.15 Q1443.67 1449.41 1445.99 1449.04 Q1448.32 1448.67 1450.39 1448.67 Q1455.71 1448.67 1458.81 1451.1 Q1461.91 1453.5 1461.91 1457.63 Q1461.91 1460.5 1460.27 1462.49 Q1458.63 1464.45 1455.59 1465.22 Z\" fill=\"#000000\" fill-rule=\"evenodd\" fill-opacity=\"1\" /><path clip-path=\"url(#clip460)\" d=\"M 0 0 M1481.59 1452.37 Q1477.98 1452.37 1476.15 1455.94 Q1474.34 1459.48 1474.34 1466.61 Q1474.34 1473.71 1476.15 1477.28 Q1477.98 1480.82 1481.59 1480.82 Q1485.22 1480.82 1487.03 1477.28 Q1488.86 1473.71 1488.86 1466.61 Q1488.86 1459.48 1487.03 1455.94 Q1485.22 1452.37 1481.59 1452.37 M1481.59 1448.67 Q1487.4 1448.67 1490.45 1453.27 Q1493.53 1457.86 1493.53 1466.61 Q1493.53 1475.33 1490.45 1479.94 Q1487.4 1484.52 1481.59 1484.52 Q1475.78 1484.52 1472.7 1479.94 Q1469.64 1475.33 1469.64 1466.61 Q1469.64 1457.86 1472.7 1453.27 Q1475.78 1448.67 1481.59 1448.67 Z\" fill=\"#000000\" fill-rule=\"evenodd\" fill-opacity=\"1\" /><path clip-path=\"url(#clip460)\" d=\"M 0 0 M1511.75 1452.37 Q1508.14 1452.37 1506.31 1455.94 Q1504.51 1459.48 1504.51 1466.61 Q1504.51 1473.71 1506.31 1477.28 Q1508.14 1480.82 1511.75 1480.82 Q1515.38 1480.82 1517.19 1477.28 Q1519.02 1473.71 1519.02 1466.61 Q1519.02 1459.48 1517.19 1455.94 Q1515.38 1452.37 1511.75 1452.37 M1511.75 1448.67 Q1517.56 1448.67 1520.62 1453.27 Q1523.69 1457.86 1523.69 1466.61 Q1523.69 1475.33 1520.62 1479.94 Q1517.56 1484.52 1511.75 1484.52 Q1505.94 1484.52 1502.86 1479.94 Q1499.81 1475.33 1499.81 1466.61 Q1499.81 1457.86 1502.86 1453.27 Q1505.94 1448.67 1511.75 1448.67 Z\" fill=\"#000000\" fill-rule=\"evenodd\" fill-opacity=\"1\" /><path clip-path=\"url(#clip460)\" d=\"M 0 0 M1890.38 1453.37 L1878.58 1471.81 L1890.38 1471.81 L1890.38 1453.37 M1889.16 1449.29 L1895.04 1449.29 L1895.04 1471.81 L1899.97 1471.81 L1899.97 1475.7 L1895.04 1475.7 L1895.04 1483.85 L1890.38 1483.85 L1890.38 1475.7 L1874.78 1475.7 L1874.78 1471.19 L1889.16 1449.29 Z\" fill=\"#000000\" fill-rule=\"evenodd\" fill-opacity=\"1\" /><path clip-path=\"url(#clip460)\" d=\"M 0 0 M1917.7 1452.37 Q1914.09 1452.37 1912.26 1455.94 Q1910.45 1459.48 1910.45 1466.61 Q1910.45 1473.71 1912.26 1477.28 Q1914.09 1480.82 1917.7 1480.82 Q1921.33 1480.82 1923.14 1477.28 Q1924.97 1473.71 1924.97 1466.61 Q1924.97 1459.48 1923.14 1455.94 Q1921.33 1452.37 1917.7 1452.37 M1917.7 1448.67 Q1923.51 1448.67 1926.56 1453.27 Q1929.64 1457.86 1929.64 1466.61 Q1929.64 1475.33 1926.56 1479.94 Q1923.51 1484.52 1917.7 1484.52 Q1911.89 1484.52 1908.81 1479.94 Q1905.75 1475.33 1905.75 1466.61 Q1905.75 1457.86 1908.81 1453.27 Q1911.89 1448.67 1917.7 1448.67 Z\" fill=\"#000000\" fill-rule=\"evenodd\" fill-opacity=\"1\" /><path clip-path=\"url(#clip460)\" d=\"M 0 0 M1947.86 1452.37 Q1944.25 1452.37 1942.42 1455.94 Q1940.62 1459.48 1940.62 1466.61 Q1940.62 1473.71 1942.42 1477.28 Q1944.25 1480.82 1947.86 1480.82 Q1951.49 1480.82 1953.3 1477.28 Q1955.13 1473.71 1955.13 1466.61 Q1955.13 1459.48 1953.3 1455.94 Q1951.49 1452.37 1947.86 1452.37 M1947.86 1448.67 Q1953.67 1448.67 1956.73 1453.27 Q1959.81 1457.86 1959.81 1466.61 Q1959.81 1475.33 1956.73 1479.94 Q1953.67 1484.52 1947.86 1484.52 Q1942.05 1484.52 1938.97 1479.94 Q1935.92 1475.33 1935.92 1466.61 Q1935.92 1457.86 1938.97 1453.27 Q1942.05 1448.67 1947.86 1448.67 Z\" fill=\"#000000\" fill-rule=\"evenodd\" fill-opacity=\"1\" /><path clip-path=\"url(#clip460)\" d=\"M 0 0 M2312.37 1449.29 L2330.73 1449.29 L2330.73 1453.23 L2316.66 1453.23 L2316.66 1461.7 Q2317.68 1461.35 2318.69 1461.19 Q2319.71 1461 2320.73 1461 Q2326.52 1461 2329.9 1464.18 Q2333.28 1467.35 2333.28 1472.76 Q2333.28 1478.34 2329.8 1481.44 Q2326.33 1484.52 2320.01 1484.52 Q2317.84 1484.52 2315.57 1484.15 Q2313.32 1483.78 2310.92 1483.04 L2310.92 1478.34 Q2313 1479.48 2315.22 1480.03 Q2317.44 1480.59 2319.92 1480.59 Q2323.93 1480.59 2326.26 1478.48 Q2328.6 1476.38 2328.6 1472.76 Q2328.6 1469.15 2326.26 1467.05 Q2323.93 1464.94 2319.92 1464.94 Q2318.05 1464.94 2316.17 1465.36 Q2314.32 1465.77 2312.37 1466.65 L2312.37 1449.29 Z\" fill=\"#000000\" fill-rule=\"evenodd\" fill-opacity=\"1\" /><path clip-path=\"url(#clip460)\" d=\"M 0 0 M2352.49 1452.37 Q2348.88 1452.37 2347.05 1455.94 Q2345.24 1459.48 2345.24 1466.61 Q2345.24 1473.71 2347.05 1477.28 Q2348.88 1480.82 2352.49 1480.82 Q2356.12 1480.82 2357.93 1477.28 Q2359.76 1473.71 2359.76 1466.61 Q2359.76 1459.48 2357.93 1455.94 Q2356.12 1452.37 2352.49 1452.37 M2352.49 1448.67 Q2358.3 1448.67 2361.36 1453.27 Q2364.43 1457.86 2364.43 1466.61 Q2364.43 1475.33 2361.36 1479.94 Q2358.3 1484.52 2352.49 1484.52 Q2346.68 1484.52 2343.6 1479.94 Q2340.55 1475.33 2340.55 1466.61 Q2340.55 1457.86 2343.6 1453.27 Q2346.68 1448.67 2352.49 1448.67 Z\" fill=\"#000000\" fill-rule=\"evenodd\" fill-opacity=\"1\" /><path clip-path=\"url(#clip460)\" d=\"M 0 0 M2382.65 1452.37 Q2379.04 1452.37 2377.21 1455.94 Q2375.41 1459.48 2375.41 1466.61 Q2375.41 1473.71 2377.21 1477.28 Q2379.04 1480.82 2382.65 1480.82 Q2386.29 1480.82 2388.09 1477.28 Q2389.92 1473.71 2389.92 1466.61 Q2389.92 1459.48 2388.09 1455.94 Q2386.29 1452.37 2382.65 1452.37 M2382.65 1448.67 Q2388.46 1448.67 2391.52 1453.27 Q2394.6 1457.86 2394.6 1466.61 Q2394.6 1475.33 2391.52 1479.94 Q2388.46 1484.52 2382.65 1484.52 Q2376.84 1484.52 2373.76 1479.94 Q2370.71 1475.33 2370.71 1466.61 Q2370.71 1457.86 2373.76 1453.27 Q2376.84 1448.67 2382.65 1448.67 Z\" fill=\"#000000\" fill-rule=\"evenodd\" fill-opacity=\"1\" /><path clip-path=\"url(#clip460)\" d=\"M 0 0 M1115.83 1533.76 L1115.83 1539.24 Q1113.34 1537.87 1110.83 1537.2 Q1108.35 1536.5 1105.8 1536.5 Q1100.1 1536.5 1096.95 1540.13 Q1093.8 1543.73 1093.8 1550.25 Q1093.8 1556.78 1096.95 1560.4 Q1100.1 1564 1105.8 1564 Q1108.35 1564 1110.83 1563.33 Q1113.34 1562.63 1115.83 1561.26 L1115.83 1566.68 Q1113.38 1567.82 1110.73 1568.39 Q1108.12 1568.97 1105.16 1568.97 Q1097.11 1568.97 1092.37 1563.91 Q1087.63 1558.85 1087.63 1550.25 Q1087.63 1541.53 1092.4 1536.53 Q1097.21 1531.54 1105.55 1531.54 Q1108.25 1531.54 1110.83 1532.11 Q1113.41 1532.65 1115.83 1533.76 Z\" fill=\"#000000\" fill-rule=\"evenodd\" fill-opacity=\"1\" /><path clip-path=\"url(#clip460)\" d=\"M 0 0 M1139.83 1536.5 Q1135.12 1536.5 1132.38 1540.19 Q1129.64 1543.85 1129.64 1550.25 Q1129.64 1556.65 1132.35 1560.34 Q1135.08 1564 1139.83 1564 Q1144.5 1564 1147.24 1560.31 Q1149.98 1556.62 1149.98 1550.25 Q1149.98 1543.92 1147.24 1540.23 Q1144.5 1536.5 1139.83 1536.5 M1139.83 1531.54 Q1147.46 1531.54 1151.83 1536.5 Q1156.19 1541.47 1156.19 1550.25 Q1156.19 1559 1151.83 1564 Q1147.46 1568.97 1139.83 1568.97 Q1132.16 1568.97 1127.79 1564 Q1123.47 1559 1123.47 1550.25 Q1123.47 1541.47 1127.79 1536.5 Q1132.16 1531.54 1139.83 1531.54 Z\" fill=\"#000000\" fill-rule=\"evenodd\" fill-opacity=\"1\" /><path clip-path=\"url(#clip460)\" d=\"M 0 0 M1193.65 1539.24 Q1195.84 1535.29 1198.9 1533.41 Q1201.96 1531.54 1206.09 1531.54 Q1211.66 1531.54 1214.69 1535.45 Q1217.71 1539.33 1217.71 1546.53 L1217.71 1568.04 L1211.82 1568.04 L1211.82 1546.72 Q1211.82 1541.59 1210.01 1539.11 Q1208.19 1536.63 1204.47 1536.63 Q1199.92 1536.63 1197.28 1539.65 Q1194.63 1542.68 1194.63 1547.9 L1194.63 1568.04 L1188.75 1568.04 L1188.75 1546.72 Q1188.75 1541.56 1186.93 1539.11 Q1185.12 1536.63 1181.33 1536.63 Q1176.84 1536.63 1174.2 1539.68 Q1171.56 1542.71 1171.56 1547.9 L1171.56 1568.04 L1165.67 1568.04 L1165.67 1532.4 L1171.56 1532.4 L1171.56 1537.93 Q1173.56 1534.66 1176.37 1533.1 Q1179.17 1531.54 1183.02 1531.54 Q1186.9 1531.54 1189.61 1533.51 Q1192.34 1535.48 1193.65 1539.24 Z\" fill=\"#000000\" fill-rule=\"evenodd\" fill-opacity=\"1\" /><path clip-path=\"url(#clip460)\" d=\"M 0 0 M1235.06 1562.7 L1235.06 1581.6 L1229.17 1581.6 L1229.17 1532.4 L1235.06 1532.4 L1235.06 1537.81 Q1236.9 1534.62 1239.7 1533.1 Q1242.54 1531.54 1246.45 1531.54 Q1252.94 1531.54 1256.99 1536.69 Q1261.06 1541.85 1261.06 1550.25 Q1261.06 1558.65 1256.99 1563.81 Q1252.94 1568.97 1246.45 1568.97 Q1242.54 1568.97 1239.7 1567.44 Q1236.9 1565.88 1235.06 1562.7 M1254.98 1550.25 Q1254.98 1543.79 1252.31 1540.13 Q1249.67 1536.44 1245.02 1536.44 Q1240.37 1536.44 1237.7 1540.13 Q1235.06 1543.79 1235.06 1550.25 Q1235.06 1556.71 1237.7 1560.4 Q1240.37 1564.07 1245.02 1564.07 Q1249.67 1564.07 1252.31 1560.4 Q1254.98 1556.71 1254.98 1550.25 Z\" fill=\"#000000\" fill-rule=\"evenodd\" fill-opacity=\"1\" /><path clip-path=\"url(#clip460)\" d=\"M 0 0 M1270.77 1518.52 L1276.63 1518.52 L1276.63 1568.04 L1270.77 1568.04 L1270.77 1518.52 Z\" fill=\"#000000\" fill-rule=\"evenodd\" fill-opacity=\"1\" /><path clip-path=\"url(#clip460)\" d=\"M 0 0 M1319.37 1548.76 L1319.37 1551.62 L1292.44 1551.62 Q1292.83 1557.67 1296.07 1560.85 Q1299.35 1564 1305.18 1564 Q1308.55 1564 1311.7 1563.17 Q1314.88 1562.35 1318 1560.69 L1318 1566.23 Q1314.85 1567.57 1311.54 1568.27 Q1308.23 1568.97 1304.83 1568.97 Q1296.3 1568.97 1291.3 1564 Q1286.33 1559.04 1286.33 1550.57 Q1286.33 1541.82 1291.04 1536.69 Q1295.79 1531.54 1303.81 1531.54 Q1311 1531.54 1315.17 1536.18 Q1319.37 1540.8 1319.37 1548.76 M1313.51 1547.04 Q1313.45 1542.23 1310.81 1539.37 Q1308.2 1536.5 1303.87 1536.5 Q1298.97 1536.5 1296.01 1539.27 Q1293.08 1542.04 1292.63 1547.07 L1313.51 1547.04 Z\" fill=\"#000000\" fill-rule=\"evenodd\" fill-opacity=\"1\" /><path clip-path=\"url(#clip460)\" d=\"M 0 0 M1357.47 1532.4 L1344.58 1549.74 L1358.14 1568.04 L1351.23 1568.04 L1340.86 1554.04 L1330.48 1568.04 L1323.57 1568.04 L1337.42 1549.39 L1324.75 1532.4 L1331.66 1532.4 L1341.11 1545.1 L1350.56 1532.4 L1357.47 1532.4 Z\" fill=\"#000000\" fill-rule=\"evenodd\" fill-opacity=\"1\" /><path clip-path=\"url(#clip460)\" d=\"M 0 0 M1366.41 1532.4 L1372.27 1532.4 L1372.27 1568.04 L1366.41 1568.04 L1366.41 1532.4 M1366.41 1518.52 L1372.27 1518.52 L1372.27 1525.93 L1366.41 1525.93 L1366.41 1518.52 Z\" fill=\"#000000\" fill-rule=\"evenodd\" fill-opacity=\"1\" /><path clip-path=\"url(#clip460)\" d=\"M 0 0 M1390.32 1522.27 L1390.32 1532.4 L1402.38 1532.4 L1402.38 1536.95 L1390.32 1536.95 L1390.32 1556.3 Q1390.32 1560.66 1391.49 1561.9 Q1392.7 1563.14 1396.36 1563.14 L1402.38 1563.14 L1402.38 1568.04 L1396.36 1568.04 Q1389.58 1568.04 1387.01 1565.53 Q1384.43 1562.98 1384.43 1556.3 L1384.43 1536.95 L1380.13 1536.95 L1380.13 1532.4 L1384.43 1532.4 L1384.43 1522.27 L1390.32 1522.27 Z\" fill=\"#000000\" fill-rule=\"evenodd\" fill-opacity=\"1\" /><path clip-path=\"url(#clip460)\" d=\"M 0 0 M1424.91 1571.35 Q1422.43 1577.72 1420.08 1579.66 Q1417.72 1581.6 1413.77 1581.6 L1409.1 1581.6 L1409.1 1576.7 L1412.53 1576.7 Q1414.95 1576.7 1416.29 1575.56 Q1417.63 1574.41 1419.25 1570.14 L1420.3 1567.47 L1405.88 1532.4 L1412.09 1532.4 L1423.23 1560.28 L1434.37 1532.4 L1440.57 1532.4 L1424.91 1571.35 Z\" fill=\"#000000\" fill-rule=\"evenodd\" fill-opacity=\"1\" /><polyline clip-path=\"url(#clip462)\" style=\"stroke:#000000; stroke-width:2; stroke-opacity:0.1; fill:none\" points=\"\n",
       "  175.445,1423.18 2352.76,1423.18 \n",
       "  \"/>\n",
       "<polyline clip-path=\"url(#clip462)\" style=\"stroke:#000000; stroke-width:2; stroke-opacity:0.1; fill:none\" points=\"\n",
       "  175.445,1186.87 2352.76,1186.87 \n",
       "  \"/>\n",
       "<polyline clip-path=\"url(#clip462)\" style=\"stroke:#000000; stroke-width:2; stroke-opacity:0.1; fill:none\" points=\"\n",
       "  175.445,950.559 2352.76,950.559 \n",
       "  \"/>\n",
       "<polyline clip-path=\"url(#clip462)\" style=\"stroke:#000000; stroke-width:2; stroke-opacity:0.1; fill:none\" points=\"\n",
       "  175.445,714.248 2352.76,714.248 \n",
       "  \"/>\n",
       "<polyline clip-path=\"url(#clip462)\" style=\"stroke:#000000; stroke-width:2; stroke-opacity:0.1; fill:none\" points=\"\n",
       "  175.445,477.938 2352.76,477.938 \n",
       "  \"/>\n",
       "<polyline clip-path=\"url(#clip462)\" style=\"stroke:#000000; stroke-width:2; stroke-opacity:0.1; fill:none\" points=\"\n",
       "  175.445,241.627 2352.76,241.627 \n",
       "  \"/>\n",
       "<polyline clip-path=\"url(#clip460)\" style=\"stroke:#000000; stroke-width:4; stroke-opacity:1; fill:none\" points=\"\n",
       "  175.445,1423.18 175.445,123.472 \n",
       "  \"/>\n",
       "<polyline clip-path=\"url(#clip460)\" style=\"stroke:#000000; stroke-width:4; stroke-opacity:1; fill:none\" points=\"\n",
       "  175.445,1423.18 201.573,1423.18 \n",
       "  \"/>\n",
       "<polyline clip-path=\"url(#clip460)\" style=\"stroke:#000000; stroke-width:4; stroke-opacity:1; fill:none\" points=\"\n",
       "  175.445,1186.87 201.573,1186.87 \n",
       "  \"/>\n",
       "<polyline clip-path=\"url(#clip460)\" style=\"stroke:#000000; stroke-width:4; stroke-opacity:1; fill:none\" points=\"\n",
       "  175.445,950.559 201.573,950.559 \n",
       "  \"/>\n",
       "<polyline clip-path=\"url(#clip460)\" style=\"stroke:#000000; stroke-width:4; stroke-opacity:1; fill:none\" points=\"\n",
       "  175.445,714.248 201.573,714.248 \n",
       "  \"/>\n",
       "<polyline clip-path=\"url(#clip460)\" style=\"stroke:#000000; stroke-width:4; stroke-opacity:1; fill:none\" points=\"\n",
       "  175.445,477.938 201.573,477.938 \n",
       "  \"/>\n",
       "<polyline clip-path=\"url(#clip460)\" style=\"stroke:#000000; stroke-width:4; stroke-opacity:1; fill:none\" points=\"\n",
       "  175.445,241.627 201.573,241.627 \n",
       "  \"/>\n",
       "<path clip-path=\"url(#clip460)\" d=\"M 0 0 M127.501 1408.98 Q123.89 1408.98 122.061 1412.54 Q120.255 1416.08 120.255 1423.21 Q120.255 1430.32 122.061 1433.89 Q123.89 1437.43 127.501 1437.43 Q131.135 1437.43 132.941 1433.89 Q134.769 1430.32 134.769 1423.21 Q134.769 1416.08 132.941 1412.54 Q131.135 1408.98 127.501 1408.98 M127.501 1405.27 Q133.311 1405.27 136.367 1409.88 Q139.445 1414.46 139.445 1423.21 Q139.445 1431.94 136.367 1436.55 Q133.311 1441.13 127.501 1441.13 Q121.691 1441.13 118.612 1436.55 Q115.556 1431.94 115.556 1423.21 Q115.556 1414.46 118.612 1409.88 Q121.691 1405.27 127.501 1405.27 Z\" fill=\"#000000\" fill-rule=\"evenodd\" fill-opacity=\"1\" /><path clip-path=\"url(#clip460)\" d=\"M 0 0 M119.538 1200.21 L127.177 1200.21 L127.177 1173.85 L118.867 1175.52 L118.867 1171.26 L127.13 1169.59 L131.806 1169.59 L131.806 1200.21 L139.445 1200.21 L139.445 1204.15 L119.538 1204.15 L119.538 1200.21 Z\" fill=\"#000000\" fill-rule=\"evenodd\" fill-opacity=\"1\" /><path clip-path=\"url(#clip460)\" d=\"M 0 0 M123.126 963.904 L139.445 963.904 L139.445 967.839 L117.501 967.839 L117.501 963.904 Q120.163 961.149 124.746 956.519 Q129.353 951.867 130.533 950.524 Q132.779 948.001 133.658 946.265 Q134.561 944.506 134.561 942.816 Q134.561 940.061 132.617 938.325 Q130.695 936.589 127.593 936.589 Q125.394 936.589 122.941 937.353 Q120.51 938.117 117.732 939.668 L117.732 934.946 Q120.556 933.811 123.01 933.233 Q125.464 932.654 127.501 932.654 Q132.871 932.654 136.066 935.339 Q139.26 938.024 139.26 942.515 Q139.26 944.645 138.45 946.566 Q137.663 948.464 135.556 951.057 Q134.978 951.728 131.876 954.945 Q128.774 958.14 123.126 963.904 Z\" fill=\"#000000\" fill-rule=\"evenodd\" fill-opacity=\"1\" /><path clip-path=\"url(#clip460)\" d=\"M 0 0 M132.316 712.894 Q135.672 713.612 137.547 715.88 Q139.445 718.149 139.445 721.482 Q139.445 726.598 135.927 729.399 Q132.408 732.2 125.927 732.2 Q123.751 732.2 121.436 731.76 Q119.144 731.343 116.691 730.487 L116.691 725.973 Q118.635 727.107 120.95 727.686 Q123.265 728.264 125.788 728.264 Q130.186 728.264 132.478 726.528 Q134.792 724.792 134.792 721.482 Q134.792 718.427 132.64 716.714 Q130.51 714.978 126.691 714.978 L122.663 714.978 L122.663 711.135 L126.876 711.135 Q130.325 711.135 132.154 709.769 Q133.982 708.38 133.982 705.788 Q133.982 703.126 132.084 701.714 Q130.209 700.279 126.691 700.279 Q124.769 700.279 122.57 700.695 Q120.371 701.112 117.732 701.991 L117.732 697.825 Q120.394 697.084 122.709 696.714 Q125.047 696.343 127.107 696.343 Q132.431 696.343 135.533 698.774 Q138.635 701.181 138.635 705.302 Q138.635 708.172 136.992 710.163 Q135.348 712.13 132.316 712.894 Z\" fill=\"#000000\" fill-rule=\"evenodd\" fill-opacity=\"1\" /><path clip-path=\"url(#clip460)\" d=\"M 0 0 M129.862 464.732 L118.056 483.181 L129.862 483.181 L129.862 464.732 M128.635 460.658 L134.515 460.658 L134.515 483.181 L139.445 483.181 L139.445 487.07 L134.515 487.07 L134.515 495.218 L129.862 495.218 L129.862 487.07 L114.26 487.07 L114.26 482.556 L128.635 460.658 Z\" fill=\"#000000\" fill-rule=\"evenodd\" fill-opacity=\"1\" /><path clip-path=\"url(#clip460)\" d=\"M 0 0 M118.543 224.347 L136.899 224.347 L136.899 228.283 L122.825 228.283 L122.825 236.755 Q123.843 236.407 124.862 236.245 Q125.88 236.06 126.899 236.06 Q132.686 236.06 136.066 239.232 Q139.445 242.403 139.445 247.819 Q139.445 253.398 135.973 256.5 Q132.501 259.579 126.181 259.579 Q124.005 259.579 121.737 259.208 Q119.492 258.838 117.084 258.097 L117.084 253.398 Q119.168 254.532 121.39 255.088 Q123.612 255.644 126.089 255.644 Q130.093 255.644 132.431 253.537 Q134.769 251.431 134.769 247.819 Q134.769 244.208 132.431 242.102 Q130.093 239.995 126.089 239.995 Q124.214 239.995 122.339 240.412 Q120.487 240.829 118.543 241.708 L118.543 224.347 Z\" fill=\"#000000\" fill-rule=\"evenodd\" fill-opacity=\"1\" /><path clip-path=\"url(#clip460)\" d=\"M 0 0 M35.3266 960.462 L35.3266 969.724 L45.9574 972.398 L45.9574 963.072 L35.3266 960.462 M17.2162 965.236 L30.4251 968.546 L30.4251 959.252 L17.2162 955.91 L17.2162 950.818 L30.4251 954.096 L30.4251 944.166 L35.3266 944.166 L35.3266 955.337 L45.9574 957.947 L45.9574 947.826 L50.8271 947.826 L50.8271 959.189 L64.0042 962.499 L64.0042 967.591 L50.8271 964.313 L50.8271 973.639 L64.0042 976.917 L64.0042 982.042 L50.8271 978.731 L50.8271 988.757 L45.9574 988.757 L45.9574 977.554 L35.3266 974.88 L35.3266 985.129 L30.4251 985.129 L30.4251 973.639 L17.2162 970.392 L17.2162 965.236 Z\" fill=\"#000000\" fill-rule=\"evenodd\" fill-opacity=\"1\" /><path clip-path=\"url(#clip460)\" d=\"M 0 0 M32.4621 898.492 Q32.4621 903.202 36.1542 905.94 Q39.8145 908.677 46.212 908.677 Q52.6095 908.677 56.3017 905.971 Q59.9619 903.234 59.9619 898.492 Q59.9619 893.813 56.2698 891.076 Q52.5777 888.338 46.212 888.338 Q39.8781 888.338 36.186 891.076 Q32.4621 893.813 32.4621 898.492 M27.4968 898.492 Q27.4968 890.853 32.4621 886.492 Q37.4273 882.132 46.212 882.132 Q54.9649 882.132 59.9619 886.492 Q64.9272 890.853 64.9272 898.492 Q64.9272 906.162 59.9619 910.523 Q54.9649 914.852 46.212 914.852 Q37.4273 914.852 32.4621 910.523 Q27.4968 906.162 27.4968 898.492 Z\" fill=\"#000000\" fill-rule=\"evenodd\" fill-opacity=\"1\" /><path clip-path=\"url(#clip460)\" d=\"M 0 0 M14.479 854.377 L19.3487 854.377 L19.3487 859.979 Q19.3487 863.13 20.6219 864.372 Q21.895 865.581 25.2052 865.581 L28.3562 865.581 L28.3562 855.937 L32.9077 855.937 L32.9077 865.581 L64.0042 865.581 L64.0042 871.469 L32.9077 871.469 L32.9077 877.071 L28.3562 877.071 L28.3562 871.469 L25.8736 871.469 Q19.9216 871.469 17.2162 868.7 Q14.479 865.931 14.479 859.916 L14.479 854.377 Z\" fill=\"#000000\" fill-rule=\"evenodd\" fill-opacity=\"1\" /><path clip-path=\"url(#clip460)\" d=\"M 0 0 M29.7248 803.102 L35.1993 803.102 Q33.8307 805.584 33.1623 808.099 Q32.4621 810.581 32.4621 813.128 Q32.4621 818.825 36.0905 821.976 Q39.6872 825.127 46.212 825.127 Q52.7369 825.127 56.3653 821.976 Q59.9619 818.825 59.9619 813.128 Q59.9619 810.581 59.2935 808.099 Q58.5933 805.584 57.2247 803.102 L62.6355 803.102 Q63.7814 805.552 64.3543 808.194 Q64.9272 810.804 64.9272 813.764 Q64.9272 821.817 59.8664 826.559 Q54.8057 831.302 46.212 831.302 Q37.491 831.302 32.4939 826.527 Q27.4968 821.721 27.4968 813.382 Q27.4968 810.677 28.0697 808.099 Q28.6108 805.521 29.7248 803.102 Z\" fill=\"#000000\" fill-rule=\"evenodd\" fill-opacity=\"1\" /><path clip-path=\"url(#clip460)\" d=\"M 0 0 M49.9359 793.521 L28.3562 793.521 L28.3562 787.665 L49.7131 787.665 Q54.7739 787.665 57.3202 785.691 Q59.8346 783.718 59.8346 779.771 Q59.8346 775.029 56.8109 772.292 Q53.7872 769.522 48.5673 769.522 L28.3562 769.522 L28.3562 763.666 L64.0042 763.666 L64.0042 769.522 L58.5296 769.522 Q61.7762 771.655 63.3676 774.488 Q64.9272 777.289 64.9272 781.013 Q64.9272 787.155 61.1078 790.338 Q57.2883 793.521 49.9359 793.521 M27.4968 778.785 L27.4968 778.785 Z\" fill=\"#000000\" fill-rule=\"evenodd\" fill-opacity=\"1\" /><path clip-path=\"url(#clip460)\" d=\"M 0 0 M33.8307 730.946 Q33.2578 731.933 33.0032 733.111 Q32.7167 734.256 32.7167 735.657 Q32.7167 740.622 35.9632 743.296 Q39.1779 745.938 45.2253 745.938 L64.0042 745.938 L64.0042 751.826 L28.3562 751.826 L28.3562 745.938 L33.8944 745.938 Q30.6479 744.091 29.0883 741.131 Q27.4968 738.171 27.4968 733.938 Q27.4968 733.333 27.5923 732.601 Q27.656 731.869 27.8151 730.978 L33.8307 730.946 Z\" fill=\"#000000\" fill-rule=\"evenodd\" fill-opacity=\"1\" /><path clip-path=\"url(#clip460)\" d=\"M 0 0 M33.8307 705.292 Q33.2578 706.279 33.0032 707.457 Q32.7167 708.603 32.7167 710.003 Q32.7167 714.968 35.9632 717.642 Q39.1779 720.284 45.2253 720.284 L64.0042 720.284 L64.0042 726.172 L28.3562 726.172 L28.3562 720.284 L33.8944 720.284 Q30.6479 718.438 29.0883 715.478 Q27.4968 712.518 27.4968 708.284 Q27.4968 707.68 27.5923 706.948 Q27.656 706.216 27.8151 705.324 L33.8307 705.292 Z\" fill=\"#000000\" fill-rule=\"evenodd\" fill-opacity=\"1\" /><path clip-path=\"url(#clip460)\" d=\"M 0 0 M28.3562 699.15 L28.3562 693.293 L64.0042 693.293 L64.0042 699.15 L28.3562 699.15 M14.479 699.15 L14.479 693.293 L21.895 693.293 L21.895 699.15 L14.479 699.15 Z\" fill=\"#000000\" fill-rule=\"evenodd\" fill-opacity=\"1\" /><path clip-path=\"url(#clip460)\" d=\"M 0 0 M29.7248 655.385 L35.1993 655.385 Q33.8307 657.868 33.1623 660.382 Q32.4621 662.865 32.4621 665.411 Q32.4621 671.109 36.0905 674.26 Q39.6872 677.411 46.212 677.411 Q52.7369 677.411 56.3653 674.26 Q59.9619 671.109 59.9619 665.411 Q59.9619 662.865 59.2935 660.382 Q58.5933 657.868 57.2247 655.385 L62.6355 655.385 Q63.7814 657.836 64.3543 660.478 Q64.9272 663.088 64.9272 666.048 Q64.9272 674.101 59.8664 678.843 Q54.8057 683.585 46.212 683.585 Q37.491 683.585 32.4939 678.811 Q27.4968 674.005 27.4968 665.666 Q27.4968 662.961 28.0697 660.382 Q28.6108 657.804 29.7248 655.385 Z\" fill=\"#000000\" fill-rule=\"evenodd\" fill-opacity=\"1\" /><path clip-path=\"url(#clip460)\" d=\"M 0 0 M49.9359 645.805 L28.3562 645.805 L28.3562 639.949 L49.7131 639.949 Q54.7739 639.949 57.3202 637.975 Q59.8346 636.002 59.8346 632.055 Q59.8346 627.313 56.8109 624.575 Q53.7872 621.806 48.5673 621.806 L28.3562 621.806 L28.3562 615.95 L64.0042 615.95 L64.0042 621.806 L58.5296 621.806 Q61.7762 623.939 63.3676 626.772 Q64.9272 629.572 64.9272 633.296 Q64.9272 639.439 61.1078 642.622 Q57.2883 645.805 49.9359 645.805 M27.4968 631.068 L27.4968 631.068 Z\" fill=\"#000000\" fill-rule=\"evenodd\" fill-opacity=\"1\" /><path clip-path=\"url(#clip460)\" d=\"M 0 0 M14.479 603.887 L14.479 598.03 L64.0042 598.03 L64.0042 603.887 L14.479 603.887 Z\" fill=\"#000000\" fill-rule=\"evenodd\" fill-opacity=\"1\" /><path clip-path=\"url(#clip460)\" d=\"M 0 0 M46.0847 569.576 Q46.0847 576.673 47.7079 579.411 Q49.3312 582.148 53.2461 582.148 Q56.3653 582.148 58.2114 580.111 Q60.0256 578.042 60.0256 574.509 Q60.0256 569.639 56.5881 566.711 Q53.1188 563.751 47.3897 563.751 L46.0847 563.751 L46.0847 569.576 M43.6657 557.895 L64.0042 557.895 L64.0042 563.751 L58.5933 563.751 Q61.8398 565.756 63.3994 568.748 Q64.9272 571.74 64.9272 576.069 Q64.9272 581.543 61.8716 584.79 Q58.7843 588.004 53.6281 588.004 Q47.6125 588.004 44.5569 583.994 Q41.5014 579.952 41.5014 571.963 L41.5014 563.751 L40.9285 563.751 Q36.8862 563.751 34.6901 566.425 Q32.4621 569.066 32.4621 573.872 Q32.4621 576.928 33.1941 579.824 Q33.9262 582.721 35.3903 585.394 L29.9795 585.394 Q28.7381 582.18 28.1334 579.156 Q27.4968 576.132 27.4968 573.268 Q27.4968 565.533 31.5072 561.714 Q35.5176 557.895 43.6657 557.895 Z\" fill=\"#000000\" fill-rule=\"evenodd\" fill-opacity=\"1\" /><path clip-path=\"url(#clip460)\" d=\"M 0 0 M564.914 12.096 L577.108 12.096 L592.542 53.2532 L608.057 12.096 L620.25 12.096 L620.25 72.576 L612.27 72.576 L612.27 19.4686 L596.674 60.9499 L588.45 60.9499 L572.854 19.4686 L572.854 72.576 L564.914 72.576 L564.914 12.096 Z\" fill=\"#000000\" fill-rule=\"evenodd\" fill-opacity=\"1\" /><path clip-path=\"url(#clip460)\" d=\"M 0 0 M674.978 48.0275 L674.978 51.6733 L640.707 51.6733 Q641.193 59.3701 645.325 63.421 Q649.497 67.4314 656.911 67.4314 Q661.204 67.4314 665.215 66.3781 Q669.266 65.3249 673.236 63.2184 L673.236 70.267 Q669.225 71.9684 665.012 72.8596 Q660.799 73.7508 656.465 73.7508 Q645.609 73.7508 639.249 67.4314 Q632.929 61.1119 632.929 50.3365 Q632.929 39.1965 638.925 32.6746 Q644.96 26.1121 655.169 26.1121 Q664.324 26.1121 669.63 32.0264 Q674.978 37.9003 674.978 48.0275 M667.524 45.84 Q667.443 39.7232 664.081 36.0774 Q660.759 32.4315 655.25 32.4315 Q649.011 32.4315 645.244 35.9558 Q641.517 39.4801 640.95 45.8805 L667.524 45.84 Z\" fill=\"#000000\" fill-rule=\"evenodd\" fill-opacity=\"1\" /><path clip-path=\"url(#clip460)\" d=\"M 0 0 M719.862 28.9478 L719.862 35.9153 Q716.702 34.1734 713.502 33.3227 Q710.342 32.4315 707.101 32.4315 Q699.85 32.4315 695.84 37.0496 Q691.829 41.6271 691.829 49.9314 Q691.829 58.2358 695.84 62.8538 Q699.85 67.4314 707.101 67.4314 Q710.342 67.4314 713.502 66.5807 Q716.702 65.6895 719.862 63.9476 L719.862 70.8341 Q716.742 72.2924 713.38 73.0216 Q710.058 73.7508 706.291 73.7508 Q696.042 73.7508 690.006 67.3098 Q683.971 60.8689 683.971 49.9314 Q683.971 38.832 690.047 32.472 Q696.164 26.1121 706.777 26.1121 Q710.22 26.1121 713.502 26.8413 Q716.783 27.5299 719.862 28.9478 Z\" fill=\"#000000\" fill-rule=\"evenodd\" fill-opacity=\"1\" /><path clip-path=\"url(#clip460)\" d=\"M 0 0 M770.538 45.1919 L770.538 72.576 L763.085 72.576 L763.085 45.4349 Q763.085 38.994 760.573 35.7938 Q758.062 32.5936 753.038 32.5936 Q747.003 32.5936 743.519 36.4419 Q740.035 40.2903 740.035 46.9338 L740.035 72.576 L732.541 72.576 L732.541 9.54393 L740.035 9.54393 L740.035 34.2544 Q742.709 30.163 746.314 28.1376 Q749.96 26.1121 754.699 26.1121 Q762.518 26.1121 766.528 30.9732 Q770.538 35.7938 770.538 45.1919 Z\" fill=\"#000000\" fill-rule=\"evenodd\" fill-opacity=\"1\" /><path clip-path=\"url(#clip460)\" d=\"M 0 0 M806.024 49.7694 Q796.991 49.7694 793.507 51.8354 Q790.023 53.9013 790.023 58.8839 Q790.023 62.8538 792.616 65.2034 Q795.249 67.5124 799.745 67.5124 Q805.943 67.5124 809.67 63.1374 Q813.437 58.7219 813.437 51.4303 L813.437 49.7694 L806.024 49.7694 M820.891 46.6907 L820.891 72.576 L813.437 72.576 L813.437 65.6895 Q810.885 69.8214 807.078 71.8063 Q803.27 73.7508 797.76 73.7508 Q790.793 73.7508 786.661 69.8619 Q782.57 65.9325 782.57 59.3701 Q782.57 51.7138 787.674 47.825 Q792.818 43.9361 802.986 43.9361 L813.437 43.9361 L813.437 43.2069 Q813.437 38.0623 810.035 35.2672 Q806.672 32.4315 800.556 32.4315 Q796.667 32.4315 792.98 33.3632 Q789.294 34.295 785.891 36.1584 L785.891 29.2718 Q789.983 27.692 793.831 26.9223 Q797.679 26.1121 801.325 26.1121 Q811.169 26.1121 816.03 31.2163 Q820.891 36.3204 820.891 46.6907 Z\" fill=\"#000000\" fill-rule=\"evenodd\" fill-opacity=\"1\" /><path clip-path=\"url(#clip460)\" d=\"M 0 0 M873.958 45.1919 L873.958 72.576 L866.504 72.576 L866.504 45.4349 Q866.504 38.994 863.993 35.7938 Q861.481 32.5936 856.458 32.5936 Q850.422 32.5936 846.938 36.4419 Q843.455 40.2903 843.455 46.9338 L843.455 72.576 L835.96 72.576 L835.96 27.2059 L843.455 27.2059 L843.455 34.2544 Q846.128 30.163 849.734 28.1376 Q853.379 26.1121 858.119 26.1121 Q865.937 26.1121 869.948 30.9732 Q873.958 35.7938 873.958 45.1919 Z\" fill=\"#000000\" fill-rule=\"evenodd\" fill-opacity=\"1\" /><path clip-path=\"url(#clip460)\" d=\"M 0 0 M888.825 27.2059 L896.278 27.2059 L896.278 72.576 L888.825 72.576 L888.825 27.2059 M888.825 9.54393 L896.278 9.54393 L896.278 18.9825 L888.825 18.9825 L888.825 9.54393 Z\" fill=\"#000000\" fill-rule=\"evenodd\" fill-opacity=\"1\" /><path clip-path=\"url(#clip460)\" d=\"M 0 0 M944.525 28.9478 L944.525 35.9153 Q941.365 34.1734 938.165 33.3227 Q935.005 32.4315 931.764 32.4315 Q924.513 32.4315 920.503 37.0496 Q916.492 41.6271 916.492 49.9314 Q916.492 58.2358 920.503 62.8538 Q924.513 67.4314 931.764 67.4314 Q935.005 67.4314 938.165 66.5807 Q941.365 65.6895 944.525 63.9476 L944.525 70.8341 Q941.406 72.2924 938.043 73.0216 Q934.722 73.7508 930.954 73.7508 Q920.705 73.7508 914.67 67.3098 Q908.634 60.8689 908.634 49.9314 Q908.634 38.832 914.71 32.472 Q920.827 26.1121 931.44 26.1121 Q934.884 26.1121 938.165 26.8413 Q941.446 27.5299 944.525 28.9478 Z\" fill=\"#000000\" fill-rule=\"evenodd\" fill-opacity=\"1\" /><path clip-path=\"url(#clip460)\" d=\"M 0 0 M978.107 49.7694 Q969.073 49.7694 965.589 51.8354 Q962.106 53.9013 962.106 58.8839 Q962.106 62.8538 964.698 65.2034 Q967.331 67.5124 971.828 67.5124 Q978.026 67.5124 981.753 63.1374 Q985.52 58.7219 985.52 51.4303 L985.52 49.7694 L978.107 49.7694 M992.974 46.6907 L992.974 72.576 L985.52 72.576 L985.52 65.6895 Q982.968 69.8214 979.16 71.8063 Q975.352 73.7508 969.843 73.7508 Q962.875 73.7508 958.743 69.8619 Q954.652 65.9325 954.652 59.3701 Q954.652 51.7138 959.756 47.825 Q964.901 43.9361 975.069 43.9361 L985.52 43.9361 L985.52 43.2069 Q985.52 38.0623 982.117 35.2672 Q978.755 32.4315 972.638 32.4315 Q968.749 32.4315 965.063 33.3632 Q961.376 34.295 957.974 36.1584 L957.974 29.2718 Q962.065 27.692 965.913 26.9223 Q969.762 26.1121 973.408 26.1121 Q983.251 26.1121 988.112 31.2163 Q992.974 36.3204 992.974 46.6907 Z\" fill=\"#000000\" fill-rule=\"evenodd\" fill-opacity=\"1\" /><path clip-path=\"url(#clip460)\" d=\"M 0 0 M1008.33 9.54393 L1015.78 9.54393 L1015.78 72.576 L1008.33 72.576 L1008.33 9.54393 Z\" fill=\"#000000\" fill-rule=\"evenodd\" fill-opacity=\"1\" /><path clip-path=\"url(#clip460)\" d=\"M 0 0 M1058.07 12.096 L1096.31 12.096 L1096.31 18.9825 L1066.25 18.9825 L1066.25 36.8875 L1095.06 36.8875 L1095.06 43.7741 L1066.25 43.7741 L1066.25 65.6895 L1097.04 65.6895 L1097.04 72.576 L1058.07 72.576 L1058.07 12.096 Z\" fill=\"#000000\" fill-rule=\"evenodd\" fill-opacity=\"1\" /><path clip-path=\"url(#clip460)\" d=\"M 0 0 M1147.88 45.1919 L1147.88 72.576 L1140.43 72.576 L1140.43 45.4349 Q1140.43 38.994 1137.91 35.7938 Q1135.4 32.5936 1130.38 32.5936 Q1124.34 32.5936 1120.86 36.4419 Q1117.38 40.2903 1117.38 46.9338 L1117.38 72.576 L1109.88 72.576 L1109.88 27.2059 L1117.38 27.2059 L1117.38 34.2544 Q1120.05 30.163 1123.66 28.1376 Q1127.3 26.1121 1132.04 26.1121 Q1139.86 26.1121 1143.87 30.9732 Q1147.88 35.7938 1147.88 45.1919 Z\" fill=\"#000000\" fill-rule=\"evenodd\" fill-opacity=\"1\" /><path clip-path=\"url(#clip460)\" d=\"M 0 0 M1192.6 49.3643 Q1192.6 41.2625 1189.24 36.8065 Q1185.92 32.3505 1179.88 32.3505 Q1173.89 32.3505 1170.52 36.8065 Q1167.2 41.2625 1167.2 49.3643 Q1167.2 57.4256 1170.52 61.8816 Q1173.89 66.3376 1179.88 66.3376 Q1185.92 66.3376 1189.24 61.8816 Q1192.6 57.4256 1192.6 49.3643 M1200.06 66.9452 Q1200.06 78.5308 1194.91 84.1616 Q1189.77 89.8329 1179.15 89.8329 Q1175.22 89.8329 1171.74 89.2252 Q1168.26 88.6581 1164.97 87.4428 L1164.97 80.1917 Q1168.26 81.9741 1171.46 82.8248 Q1174.66 83.6755 1177.98 83.6755 Q1185.31 83.6755 1188.96 79.8271 Q1192.6 76.0193 1192.6 68.282 L1192.6 64.5957 Q1190.29 68.6061 1186.69 70.5911 Q1183.08 72.576 1178.06 72.576 Q1169.71 72.576 1164.61 66.2161 Q1159.51 59.8562 1159.51 49.3643 Q1159.51 38.832 1164.61 32.472 Q1169.71 26.1121 1178.06 26.1121 Q1183.08 26.1121 1186.69 28.0971 Q1190.29 30.082 1192.6 34.0924 L1192.6 27.2059 L1200.06 27.2059 L1200.06 66.9452 Z\" fill=\"#000000\" fill-rule=\"evenodd\" fill-opacity=\"1\" /><path clip-path=\"url(#clip460)\" d=\"M 0 0 M1215.41 27.2059 L1222.86 27.2059 L1222.86 72.576 L1215.41 72.576 L1215.41 27.2059 M1215.41 9.54393 L1222.86 9.54393 L1222.86 18.9825 L1215.41 18.9825 L1215.41 9.54393 Z\" fill=\"#000000\" fill-rule=\"evenodd\" fill-opacity=\"1\" /><path clip-path=\"url(#clip460)\" d=\"M 0 0 M1276.17 45.1919 L1276.17 72.576 L1268.72 72.576 L1268.72 45.4349 Q1268.72 38.994 1266.21 35.7938 Q1263.7 32.5936 1258.67 32.5936 Q1252.64 32.5936 1249.15 36.4419 Q1245.67 40.2903 1245.67 46.9338 L1245.67 72.576 L1238.17 72.576 L1238.17 27.2059 L1245.67 27.2059 L1245.67 34.2544 Q1248.34 30.163 1251.95 28.1376 Q1255.59 26.1121 1260.33 26.1121 Q1268.15 26.1121 1272.16 30.9732 Q1276.17 35.7938 1276.17 45.1919 Z\" fill=\"#000000\" fill-rule=\"evenodd\" fill-opacity=\"1\" /><path clip-path=\"url(#clip460)\" d=\"M 0 0 M1329.85 48.0275 L1329.85 51.6733 L1295.58 51.6733 Q1296.06 59.3701 1300.19 63.421 Q1304.37 67.4314 1311.78 67.4314 Q1316.07 67.4314 1320.08 66.3781 Q1324.13 65.3249 1328.1 63.2184 L1328.1 70.267 Q1324.09 71.9684 1319.88 72.8596 Q1315.67 73.7508 1311.33 73.7508 Q1300.48 73.7508 1294.12 67.4314 Q1287.8 61.1119 1287.8 50.3365 Q1287.8 39.1965 1293.79 32.6746 Q1299.83 26.1121 1310.04 26.1121 Q1319.19 26.1121 1324.5 32.0264 Q1329.85 37.9003 1329.85 48.0275 M1322.39 45.84 Q1322.31 39.7232 1318.95 36.0774 Q1315.63 32.4315 1310.12 32.4315 Q1303.88 32.4315 1300.11 35.9558 Q1296.39 39.4801 1295.82 45.8805 L1322.39 45.84 Z\" fill=\"#000000\" fill-rule=\"evenodd\" fill-opacity=\"1\" /><path clip-path=\"url(#clip460)\" d=\"M 0 0 M1380.89 48.0275 L1380.89 51.6733 L1346.62 51.6733 Q1347.1 59.3701 1351.24 63.421 Q1355.41 67.4314 1362.82 67.4314 Q1367.12 67.4314 1371.13 66.3781 Q1375.18 65.3249 1379.15 63.2184 L1379.15 70.267 Q1375.14 71.9684 1370.92 72.8596 Q1366.71 73.7508 1362.38 73.7508 Q1351.52 73.7508 1345.16 67.4314 Q1338.84 61.1119 1338.84 50.3365 Q1338.84 39.1965 1344.84 32.6746 Q1350.87 26.1121 1361.08 26.1121 Q1370.23 26.1121 1375.54 32.0264 Q1380.89 37.9003 1380.89 48.0275 M1373.43 45.84 Q1373.35 39.7232 1369.99 36.0774 Q1366.67 32.4315 1361.16 32.4315 Q1354.92 32.4315 1351.15 35.9558 Q1347.43 39.4801 1346.86 45.8805 L1373.43 45.84 Z\" fill=\"#000000\" fill-rule=\"evenodd\" fill-opacity=\"1\" /><path clip-path=\"url(#clip460)\" d=\"M 0 0 M1419.41 34.1734 Q1418.16 33.4443 1416.66 33.1202 Q1415.2 32.7556 1413.42 32.7556 Q1407.1 32.7556 1403.69 36.8875 Q1400.33 40.9789 1400.33 48.6757 L1400.33 72.576 L1392.84 72.576 L1392.84 27.2059 L1400.33 27.2059 L1400.33 34.2544 Q1402.68 30.1225 1406.45 28.1376 Q1410.22 26.1121 1415.6 26.1121 Q1416.37 26.1121 1417.31 26.2337 Q1418.24 26.3147 1419.37 26.5172 L1419.41 34.1734 Z\" fill=\"#000000\" fill-rule=\"evenodd\" fill-opacity=\"1\" /><path clip-path=\"url(#clip460)\" d=\"M 0 0 M1427.23 27.2059 L1434.68 27.2059 L1434.68 72.576 L1427.23 72.576 L1427.23 27.2059 M1427.23 9.54393 L1434.68 9.54393 L1434.68 18.9825 L1427.23 18.9825 L1427.23 9.54393 Z\" fill=\"#000000\" fill-rule=\"evenodd\" fill-opacity=\"1\" /><path clip-path=\"url(#clip460)\" d=\"M 0 0 M1487.99 45.1919 L1487.99 72.576 L1480.54 72.576 L1480.54 45.4349 Q1480.54 38.994 1478.03 35.7938 Q1475.52 32.5936 1470.49 32.5936 Q1464.46 32.5936 1460.97 36.4419 Q1457.49 40.2903 1457.49 46.9338 L1457.49 72.576 L1450 72.576 L1450 27.2059 L1457.49 27.2059 L1457.49 34.2544 Q1460.16 30.163 1463.77 28.1376 Q1467.42 26.1121 1472.15 26.1121 Q1479.97 26.1121 1483.98 30.9732 Q1487.99 35.7938 1487.99 45.1919 Z\" fill=\"#000000\" fill-rule=\"evenodd\" fill-opacity=\"1\" /><path clip-path=\"url(#clip460)\" d=\"M 0 0 M1532.72 49.3643 Q1532.72 41.2625 1529.35 36.8065 Q1526.03 32.3505 1520 32.3505 Q1514 32.3505 1510.64 36.8065 Q1507.32 41.2625 1507.32 49.3643 Q1507.32 57.4256 1510.64 61.8816 Q1514 66.3376 1520 66.3376 Q1526.03 66.3376 1529.35 61.8816 Q1532.72 57.4256 1532.72 49.3643 M1540.17 66.9452 Q1540.17 78.5308 1535.03 84.1616 Q1529.88 89.8329 1519.27 89.8329 Q1515.34 89.8329 1511.85 89.2252 Q1508.37 88.6581 1505.09 87.4428 L1505.09 80.1917 Q1508.37 81.9741 1511.57 82.8248 Q1514.77 83.6755 1518.09 83.6755 Q1525.42 83.6755 1529.07 79.8271 Q1532.72 76.0193 1532.72 68.282 L1532.72 64.5957 Q1530.41 68.6061 1526.8 70.5911 Q1523.2 72.576 1518.17 72.576 Q1509.83 72.576 1504.72 66.2161 Q1499.62 59.8562 1499.62 49.3643 Q1499.62 38.832 1504.72 32.472 Q1509.83 26.1121 1518.17 26.1121 Q1523.2 26.1121 1526.8 28.0971 Q1530.41 30.082 1532.72 34.0924 L1532.72 27.2059 L1540.17 27.2059 L1540.17 66.9452 Z\" fill=\"#000000\" fill-rule=\"evenodd\" fill-opacity=\"1\" /><path clip-path=\"url(#clip460)\" d=\"M 0 0 M1590.4 18.8205 L1590.4 41.5461 L1600.69 41.5461 Q1606.4 41.5461 1609.52 38.5889 Q1612.64 35.6318 1612.64 30.163 Q1612.64 24.7348 1609.52 21.7777 Q1606.4 18.8205 1600.69 18.8205 L1590.4 18.8205 M1582.22 12.096 L1600.69 12.096 Q1610.86 12.096 1616.04 16.714 Q1621.27 21.2916 1621.27 30.163 Q1621.27 39.1155 1616.04 43.6931 Q1610.86 48.2706 1600.69 48.2706 L1590.4 48.2706 L1590.4 72.576 L1582.22 72.576 L1582.22 12.096 Z\" fill=\"#000000\" fill-rule=\"evenodd\" fill-opacity=\"1\" /><path clip-path=\"url(#clip460)\" d=\"M 0 0 M1656.75 34.1734 Q1655.5 33.4443 1654 33.1202 Q1652.54 32.7556 1650.76 32.7556 Q1644.44 32.7556 1641.04 36.8875 Q1637.67 40.9789 1637.67 48.6757 L1637.67 72.576 L1630.18 72.576 L1630.18 27.2059 L1637.67 27.2059 L1637.67 34.2544 Q1640.02 30.1225 1643.79 28.1376 Q1647.56 26.1121 1652.95 26.1121 Q1653.72 26.1121 1654.65 26.2337 Q1655.58 26.3147 1656.71 26.5172 L1656.75 34.1734 Z\" fill=\"#000000\" fill-rule=\"evenodd\" fill-opacity=\"1\" /><path clip-path=\"url(#clip460)\" d=\"M 0 0 M1680.33 32.4315 Q1674.34 32.4315 1670.85 37.1306 Q1667.37 41.7891 1667.37 49.9314 Q1667.37 58.0738 1670.81 62.7728 Q1674.3 67.4314 1680.33 67.4314 Q1686.29 67.4314 1689.77 62.7323 Q1693.25 58.0333 1693.25 49.9314 Q1693.25 41.8701 1689.77 37.1711 Q1686.29 32.4315 1680.33 32.4315 M1680.33 26.1121 Q1690.05 26.1121 1695.6 32.4315 Q1701.15 38.7509 1701.15 49.9314 Q1701.15 61.0714 1695.6 67.4314 Q1690.05 73.7508 1680.33 73.7508 Q1670.57 73.7508 1665.02 67.4314 Q1659.51 61.0714 1659.51 49.9314 Q1659.51 38.7509 1665.02 32.4315 Q1670.57 26.1121 1680.33 26.1121 Z\" fill=\"#000000\" fill-rule=\"evenodd\" fill-opacity=\"1\" /><path clip-path=\"url(#clip460)\" d=\"M 0 0 M1743.36 49.3643 Q1743.36 41.2625 1740 36.8065 Q1736.68 32.3505 1730.64 32.3505 Q1724.65 32.3505 1721.29 36.8065 Q1717.96 41.2625 1717.96 49.3643 Q1717.96 57.4256 1721.29 61.8816 Q1724.65 66.3376 1730.64 66.3376 Q1736.68 66.3376 1740 61.8816 Q1743.36 57.4256 1743.36 49.3643 M1750.82 66.9452 Q1750.82 78.5308 1745.67 84.1616 Q1740.53 89.8329 1729.91 89.8329 Q1725.98 89.8329 1722.5 89.2252 Q1719.02 88.6581 1715.74 87.4428 L1715.74 80.1917 Q1719.02 81.9741 1722.22 82.8248 Q1725.42 83.6755 1728.74 83.6755 Q1736.07 83.6755 1739.72 79.8271 Q1743.36 76.0193 1743.36 68.282 L1743.36 64.5957 Q1741.05 68.6061 1737.45 70.5911 Q1733.84 72.576 1728.82 72.576 Q1720.48 72.576 1715.37 66.2161 Q1710.27 59.8562 1710.27 49.3643 Q1710.27 38.832 1715.37 32.472 Q1720.48 26.1121 1728.82 26.1121 Q1733.84 26.1121 1737.45 28.0971 Q1741.05 30.082 1743.36 34.0924 L1743.36 27.2059 L1750.82 27.2059 L1750.82 66.9452 Z\" fill=\"#000000\" fill-rule=\"evenodd\" fill-opacity=\"1\" /><path clip-path=\"url(#clip460)\" d=\"M 0 0 M1792.46 34.1734 Q1791.2 33.4443 1789.71 33.1202 Q1788.25 32.7556 1786.46 32.7556 Q1780.15 32.7556 1776.74 36.8875 Q1773.38 40.9789 1773.38 48.6757 L1773.38 72.576 L1765.89 72.576 L1765.89 27.2059 L1773.38 27.2059 L1773.38 34.2544 Q1775.73 30.1225 1779.5 28.1376 Q1783.26 26.1121 1788.65 26.1121 Q1789.42 26.1121 1790.35 26.2337 Q1791.29 26.3147 1792.42 26.5172 L1792.46 34.1734 Z\" fill=\"#000000\" fill-rule=\"evenodd\" fill-opacity=\"1\" /><path clip-path=\"url(#clip460)\" d=\"M 0 0 M1820.9 49.7694 Q1811.86 49.7694 1808.38 51.8354 Q1804.9 53.9013 1804.9 58.8839 Q1804.9 62.8538 1807.49 65.2034 Q1810.12 67.5124 1814.62 67.5124 Q1820.82 67.5124 1824.54 63.1374 Q1828.31 58.7219 1828.31 51.4303 L1828.31 49.7694 L1820.9 49.7694 M1835.76 46.6907 L1835.76 72.576 L1828.31 72.576 L1828.31 65.6895 Q1825.76 69.8214 1821.95 71.8063 Q1818.14 73.7508 1812.63 73.7508 Q1805.67 73.7508 1801.53 69.8619 Q1797.44 65.9325 1797.44 59.3701 Q1797.44 51.7138 1802.55 47.825 Q1807.69 43.9361 1817.86 43.9361 L1828.31 43.9361 L1828.31 43.2069 Q1828.31 38.0623 1824.91 35.2672 Q1821.55 32.4315 1815.43 32.4315 Q1811.54 32.4315 1807.85 33.3632 Q1804.17 34.295 1800.76 36.1584 L1800.76 29.2718 Q1804.86 27.692 1808.7 26.9223 Q1812.55 26.1121 1816.2 26.1121 Q1826.04 26.1121 1830.9 31.2163 Q1835.76 36.3204 1835.76 46.6907 Z\" fill=\"#000000\" fill-rule=\"evenodd\" fill-opacity=\"1\" /><path clip-path=\"url(#clip460)\" d=\"M 0 0 M1886.44 35.9153 Q1889.24 30.8922 1893.12 28.5022 Q1897.01 26.1121 1902.28 26.1121 Q1909.37 26.1121 1913.22 31.0947 Q1917.07 36.0368 1917.07 45.1919 L1917.07 72.576 L1909.57 72.576 L1909.57 45.4349 Q1909.57 38.913 1907.26 35.7533 Q1904.95 32.5936 1900.21 32.5936 Q1894.42 32.5936 1891.06 36.4419 Q1887.7 40.2903 1887.7 46.9338 L1887.7 72.576 L1880.2 72.576 L1880.2 45.4349 Q1880.2 38.8725 1877.89 35.7533 Q1875.58 32.5936 1870.76 32.5936 Q1865.05 32.5936 1861.69 36.4824 Q1858.33 40.3308 1858.33 46.9338 L1858.33 72.576 L1850.83 72.576 L1850.83 27.2059 L1858.33 27.2059 L1858.33 34.2544 Q1860.88 30.082 1864.44 28.0971 Q1868.01 26.1121 1872.91 26.1121 Q1877.85 26.1121 1881.3 28.6237 Q1884.78 31.1352 1886.44 35.9153 Z\" fill=\"#000000\" fill-rule=\"evenodd\" fill-opacity=\"1\" /><path clip-path=\"url(#clip460)\" d=\"M 0 0 M1960.86 28.5427 L1960.86 35.5912 Q1957.7 33.9709 1954.29 33.1607 Q1950.89 32.3505 1947.25 32.3505 Q1941.7 32.3505 1938.9 34.0519 Q1936.15 35.7533 1936.15 39.156 Q1936.15 41.7486 1938.13 43.2475 Q1940.12 44.7058 1946.11 46.0426 L1948.66 46.6097 Q1956.6 48.3111 1959.92 51.4303 Q1963.29 54.509 1963.29 60.0587 Q1963.29 66.3781 1958.26 70.0644 Q1953.28 73.7508 1944.53 73.7508 Q1940.89 73.7508 1936.92 73.0216 Q1932.99 72.3329 1928.61 70.9151 L1928.61 63.2184 Q1932.74 65.3654 1936.75 66.4591 Q1940.76 67.5124 1944.69 67.5124 Q1949.96 67.5124 1952.79 65.73 Q1955.63 63.9071 1955.63 60.6258 Q1955.63 57.5877 1953.56 55.9673 Q1951.54 54.3469 1944.61 52.8481 L1942.02 52.2405 Q1935.09 50.7821 1932.01 47.7845 Q1928.93 44.7463 1928.93 39.4801 Q1928.93 33.0797 1933.47 29.5959 Q1938.01 26.1121 1946.35 26.1121 Q1950.49 26.1121 1954.13 26.7198 Q1957.78 27.3274 1960.86 28.5427 Z\" fill=\"#000000\" fill-rule=\"evenodd\" fill-opacity=\"1\" /><path clip-path=\"url(#clip462)\" d=\"\n",
       "M610.907 1186.87 L610.907 1423.18 L1046.37 1423.18 L1046.37 1186.87 L610.907 1186.87 L610.907 1186.87  Z\n",
       "  \" fill=\"#1874cd\" fill-rule=\"evenodd\" fill-opacity=\"0.7\"/>\n",
       "<polyline clip-path=\"url(#clip462)\" style=\"stroke:#000000; stroke-width:4; stroke-opacity:0.7; fill:none\" points=\"\n",
       "  610.907,1186.87 610.907,1423.18 1046.37,1423.18 1046.37,1186.87 610.907,1186.87 \n",
       "  \"/>\n",
       "<path clip-path=\"url(#clip462)\" d=\"\n",
       "M1046.37 714.248 L1046.37 1423.18 L1481.83 1423.18 L1481.83 714.248 L1046.37 714.248 L1046.37 714.248  Z\n",
       "  \" fill=\"#1874cd\" fill-rule=\"evenodd\" fill-opacity=\"0.7\"/>\n",
       "<polyline clip-path=\"url(#clip462)\" style=\"stroke:#000000; stroke-width:4; stroke-opacity:0.7; fill:none\" points=\"\n",
       "  1046.37,714.248 1046.37,1423.18 1481.83,1423.18 1481.83,714.248 1046.37,714.248 \n",
       "  \"/>\n",
       "<path clip-path=\"url(#clip462)\" d=\"\n",
       "M1481.83 477.938 L1481.83 1423.18 L1917.29 1423.18 L1917.29 477.938 L1481.83 477.938 L1481.83 477.938  Z\n",
       "  \" fill=\"#1874cd\" fill-rule=\"evenodd\" fill-opacity=\"0.7\"/>\n",
       "<polyline clip-path=\"url(#clip462)\" style=\"stroke:#000000; stroke-width:4; stroke-opacity:0.7; fill:none\" points=\"\n",
       "  1481.83,477.938 1481.83,1423.18 1917.29,1423.18 1917.29,477.938 1481.83,477.938 \n",
       "  \"/>\n",
       "<path clip-path=\"url(#clip462)\" d=\"\n",
       "M1917.29 950.559 L1917.29 1423.18 L2352.76 1423.18 L2352.76 950.559 L1917.29 950.559 L1917.29 950.559  Z\n",
       "  \" fill=\"#1874cd\" fill-rule=\"evenodd\" fill-opacity=\"0.7\"/>\n",
       "<polyline clip-path=\"url(#clip462)\" style=\"stroke:#000000; stroke-width:4; stroke-opacity:0.7; fill:none\" points=\"\n",
       "  1917.29,950.559 1917.29,1423.18 2352.76,1423.18 2352.76,950.559 1917.29,950.559 \n",
       "  \"/>\n",
       "<path clip-path=\"url(#clip462)\" d=\"\n",
       "M2352.76 1186.87 L2352.76 1423.18 L2788.22 1423.18 L2788.22 1186.87 L2352.76 1186.87 L2352.76 1186.87  Z\n",
       "  \" fill=\"#1874cd\" fill-rule=\"evenodd\" fill-opacity=\"0.7\"/>\n",
       "<polyline clip-path=\"url(#clip462)\" style=\"stroke:#000000; stroke-width:4; stroke-opacity:0.7; fill:none\" points=\"\n",
       "  2352.76,1186.87 2352.76,1423.18 2788.22,1423.18 2788.22,1186.87 2352.76,1186.87 \n",
       "  \"/>\n",
       "</svg>\n"
      ]
     },
     "metadata": {},
     "output_type": "display_data"
    },
    {
     "name": "stdout",
     "output_type": "stream",
     "text": [
      "****** Psychology Programs ******\n",
      "\n",
      " Metric -- complexity\n",
      "  Number of curricula = 13\n",
      "  Mean = 77.6923076923077\n",
      "  STD = 2.133462293173958\n",
      "  Max. = 114.0\n",
      "  Min. = 40.0\n"
     ]
    },
    {
     "data": {
      "image/svg+xml": [
       "<?xml version=\"1.0\" encoding=\"utf-8\"?>\n",
       "<svg xmlns=\"http://www.w3.org/2000/svg\" xmlns:xlink=\"http://www.w3.org/1999/xlink\" width=\"600\" height=\"400\" viewBox=\"0 0 2400 1600\">\n",
       "<defs>\n",
       "  <clipPath id=\"clip500\">\n",
       "    <rect x=\"0\" y=\"0\" width=\"2400\" height=\"1600\"/>\n",
       "  </clipPath>\n",
       "</defs>\n",
       "<path clip-path=\"url(#clip500)\" d=\"\n",
       "M0 1600 L2400 1600 L2400 0 L0 0  Z\n",
       "  \" fill=\"#ffffff\" fill-rule=\"evenodd\" fill-opacity=\"1\"/>\n",
       "<defs>\n",
       "  <clipPath id=\"clip501\">\n",
       "    <rect x=\"480\" y=\"0\" width=\"1681\" height=\"1600\"/>\n",
       "  </clipPath>\n",
       "</defs>\n",
       "<path clip-path=\"url(#clip500)\" d=\"\n",
       "M175.445 1423.18 L2352.76 1423.18 L2352.76 123.472 L175.445 123.472  Z\n",
       "  \" fill=\"#ffffff\" fill-rule=\"evenodd\" fill-opacity=\"1\"/>\n",
       "<defs>\n",
       "  <clipPath id=\"clip502\">\n",
       "    <rect x=\"175\" y=\"123\" width=\"2178\" height=\"1301\"/>\n",
       "  </clipPath>\n",
       "</defs>\n",
       "<polyline clip-path=\"url(#clip502)\" style=\"stroke:#000000; stroke-width:2; stroke-opacity:0.1; fill:none\" points=\"\n",
       "  175.445,1423.18 175.445,123.472 \n",
       "  \"/>\n",
       "<polyline clip-path=\"url(#clip502)\" style=\"stroke:#000000; stroke-width:2; stroke-opacity:0.1; fill:none\" points=\"\n",
       "  610.907,1423.18 610.907,123.472 \n",
       "  \"/>\n",
       "<polyline clip-path=\"url(#clip502)\" style=\"stroke:#000000; stroke-width:2; stroke-opacity:0.1; fill:none\" points=\"\n",
       "  1046.37,1423.18 1046.37,123.472 \n",
       "  \"/>\n",
       "<polyline clip-path=\"url(#clip502)\" style=\"stroke:#000000; stroke-width:2; stroke-opacity:0.1; fill:none\" points=\"\n",
       "  1481.83,1423.18 1481.83,123.472 \n",
       "  \"/>\n",
       "<polyline clip-path=\"url(#clip502)\" style=\"stroke:#000000; stroke-width:2; stroke-opacity:0.1; fill:none\" points=\"\n",
       "  1917.29,1423.18 1917.29,123.472 \n",
       "  \"/>\n",
       "<polyline clip-path=\"url(#clip502)\" style=\"stroke:#000000; stroke-width:2; stroke-opacity:0.1; fill:none\" points=\"\n",
       "  2352.76,1423.18 2352.76,123.472 \n",
       "  \"/>\n",
       "<polyline clip-path=\"url(#clip500)\" style=\"stroke:#000000; stroke-width:4; stroke-opacity:1; fill:none\" points=\"\n",
       "  175.445,1423.18 2352.76,1423.18 \n",
       "  \"/>\n",
       "<polyline clip-path=\"url(#clip500)\" style=\"stroke:#000000; stroke-width:4; stroke-opacity:1; fill:none\" points=\"\n",
       "  175.445,1423.18 175.445,1407.58 \n",
       "  \"/>\n",
       "<polyline clip-path=\"url(#clip500)\" style=\"stroke:#000000; stroke-width:4; stroke-opacity:1; fill:none\" points=\"\n",
       "  610.907,1423.18 610.907,1407.58 \n",
       "  \"/>\n",
       "<polyline clip-path=\"url(#clip500)\" style=\"stroke:#000000; stroke-width:4; stroke-opacity:1; fill:none\" points=\"\n",
       "  1046.37,1423.18 1046.37,1407.58 \n",
       "  \"/>\n",
       "<polyline clip-path=\"url(#clip500)\" style=\"stroke:#000000; stroke-width:4; stroke-opacity:1; fill:none\" points=\"\n",
       "  1481.83,1423.18 1481.83,1407.58 \n",
       "  \"/>\n",
       "<polyline clip-path=\"url(#clip500)\" style=\"stroke:#000000; stroke-width:4; stroke-opacity:1; fill:none\" points=\"\n",
       "  1917.29,1423.18 1917.29,1407.58 \n",
       "  \"/>\n",
       "<polyline clip-path=\"url(#clip500)\" style=\"stroke:#000000; stroke-width:4; stroke-opacity:1; fill:none\" points=\"\n",
       "  2352.76,1423.18 2352.76,1407.58 \n",
       "  \"/>\n",
       "<path clip-path=\"url(#clip500)\" d=\"M 0 0 M175.445 1452.37 Q171.834 1452.37 170.005 1455.94 Q168.2 1459.48 168.2 1466.61 Q168.2 1473.71 170.005 1477.28 Q171.834 1480.82 175.445 1480.82 Q179.079 1480.82 180.885 1477.28 Q182.714 1473.71 182.714 1466.61 Q182.714 1459.48 180.885 1455.94 Q179.079 1452.37 175.445 1452.37 M175.445 1448.67 Q181.255 1448.67 184.311 1453.27 Q187.39 1457.86 187.39 1466.61 Q187.39 1475.33 184.311 1479.94 Q181.255 1484.52 175.445 1484.52 Q169.635 1484.52 166.556 1479.94 Q163.501 1475.33 163.501 1466.61 Q163.501 1457.86 166.556 1453.27 Q169.635 1448.67 175.445 1448.67 Z\" fill=\"#000000\" fill-rule=\"evenodd\" fill-opacity=\"1\" /><path clip-path=\"url(#clip500)\" d=\"M 0 0 M570.514 1479.92 L578.153 1479.92 L578.153 1453.55 L569.843 1455.22 L569.843 1450.96 L578.107 1449.29 L582.782 1449.29 L582.782 1479.92 L590.421 1479.92 L590.421 1483.85 L570.514 1483.85 L570.514 1479.92 Z\" fill=\"#000000\" fill-rule=\"evenodd\" fill-opacity=\"1\" /><path clip-path=\"url(#clip500)\" d=\"M 0 0 M609.866 1452.37 Q606.255 1452.37 604.426 1455.94 Q602.62 1459.48 602.62 1466.61 Q602.62 1473.71 604.426 1477.28 Q606.255 1480.82 609.866 1480.82 Q613.5 1480.82 615.305 1477.28 Q617.134 1473.71 617.134 1466.61 Q617.134 1459.48 615.305 1455.94 Q613.5 1452.37 609.866 1452.37 M609.866 1448.67 Q615.676 1448.67 618.731 1453.27 Q621.81 1457.86 621.81 1466.61 Q621.81 1475.33 618.731 1479.94 Q615.676 1484.52 609.866 1484.52 Q604.056 1484.52 600.977 1479.94 Q597.921 1475.33 597.921 1466.61 Q597.921 1457.86 600.977 1453.27 Q604.056 1448.67 609.866 1448.67 Z\" fill=\"#000000\" fill-rule=\"evenodd\" fill-opacity=\"1\" /><path clip-path=\"url(#clip500)\" d=\"M 0 0 M640.028 1452.37 Q636.416 1452.37 634.588 1455.94 Q632.782 1459.48 632.782 1466.61 Q632.782 1473.71 634.588 1477.28 Q636.416 1480.82 640.028 1480.82 Q643.662 1480.82 645.467 1477.28 Q647.296 1473.71 647.296 1466.61 Q647.296 1459.48 645.467 1455.94 Q643.662 1452.37 640.028 1452.37 M640.028 1448.67 Q645.838 1448.67 648.893 1453.27 Q651.972 1457.86 651.972 1466.61 Q651.972 1475.33 648.893 1479.94 Q645.838 1484.52 640.028 1484.52 Q634.217 1484.52 631.139 1479.94 Q628.083 1475.33 628.083 1466.61 Q628.083 1457.86 631.139 1453.27 Q634.217 1448.67 640.028 1448.67 Z\" fill=\"#000000\" fill-rule=\"evenodd\" fill-opacity=\"1\" /><path clip-path=\"url(#clip500)\" d=\"M 0 0 M1010.06 1479.92 L1026.38 1479.92 L1026.38 1483.85 L1004.44 1483.85 L1004.44 1479.92 Q1007.1 1477.16 1011.68 1472.53 Q1016.29 1467.88 1017.47 1466.54 Q1019.71 1464.01 1020.59 1462.28 Q1021.5 1460.52 1021.5 1458.83 Q1021.5 1456.07 1019.55 1454.34 Q1017.63 1452.6 1014.53 1452.6 Q1012.33 1452.6 1009.88 1453.37 Q1007.45 1454.13 1004.67 1455.68 L1004.67 1450.96 Q1007.49 1449.82 1009.95 1449.25 Q1012.4 1448.67 1014.44 1448.67 Q1019.81 1448.67 1023 1451.35 Q1026.2 1454.04 1026.2 1458.53 Q1026.2 1460.66 1025.39 1462.58 Q1024.6 1464.48 1022.49 1467.07 Q1021.91 1467.74 1018.81 1470.96 Q1015.71 1474.15 1010.06 1479.92 Z\" fill=\"#000000\" fill-rule=\"evenodd\" fill-opacity=\"1\" /><path clip-path=\"url(#clip500)\" d=\"M 0 0 M1046.2 1452.37 Q1042.58 1452.37 1040.76 1455.94 Q1038.95 1459.48 1038.95 1466.61 Q1038.95 1473.71 1040.76 1477.28 Q1042.58 1480.82 1046.2 1480.82 Q1049.83 1480.82 1051.64 1477.28 Q1053.46 1473.71 1053.46 1466.61 Q1053.46 1459.48 1051.64 1455.94 Q1049.83 1452.37 1046.2 1452.37 M1046.2 1448.67 Q1052.01 1448.67 1055.06 1453.27 Q1058.14 1457.86 1058.14 1466.61 Q1058.14 1475.33 1055.06 1479.94 Q1052.01 1484.52 1046.2 1484.52 Q1040.39 1484.52 1037.31 1479.94 Q1034.25 1475.33 1034.25 1466.61 Q1034.25 1457.86 1037.31 1453.27 Q1040.39 1448.67 1046.2 1448.67 Z\" fill=\"#000000\" fill-rule=\"evenodd\" fill-opacity=\"1\" /><path clip-path=\"url(#clip500)\" d=\"M 0 0 M1076.36 1452.37 Q1072.75 1452.37 1070.92 1455.94 Q1069.11 1459.48 1069.11 1466.61 Q1069.11 1473.71 1070.92 1477.28 Q1072.75 1480.82 1076.36 1480.82 Q1079.99 1480.82 1081.8 1477.28 Q1083.63 1473.71 1083.63 1466.61 Q1083.63 1459.48 1081.8 1455.94 Q1079.99 1452.37 1076.36 1452.37 M1076.36 1448.67 Q1082.17 1448.67 1085.22 1453.27 Q1088.3 1457.86 1088.3 1466.61 Q1088.3 1475.33 1085.22 1479.94 Q1082.17 1484.52 1076.36 1484.52 Q1070.55 1484.52 1067.47 1479.94 Q1064.41 1475.33 1064.41 1466.61 Q1064.41 1457.86 1067.47 1453.27 Q1070.55 1448.67 1076.36 1448.67 Z\" fill=\"#000000\" fill-rule=\"evenodd\" fill-opacity=\"1\" /><path clip-path=\"url(#clip500)\" d=\"M 0 0 M1455.59 1465.22 Q1458.95 1465.94 1460.82 1468.2 Q1462.72 1470.47 1462.72 1473.81 Q1462.72 1478.92 1459.2 1481.72 Q1455.69 1484.52 1449.2 1484.52 Q1447.03 1484.52 1444.71 1484.08 Q1442.42 1483.67 1439.97 1482.81 L1439.97 1478.3 Q1441.91 1479.43 1444.23 1480.01 Q1446.54 1480.59 1449.07 1480.59 Q1453.46 1480.59 1455.76 1478.85 Q1458.07 1477.12 1458.07 1473.81 Q1458.07 1470.75 1455.92 1469.04 Q1453.79 1467.3 1449.97 1467.3 L1445.94 1467.3 L1445.94 1463.46 L1450.15 1463.46 Q1453.6 1463.46 1455.43 1462.09 Q1457.26 1460.7 1457.26 1458.11 Q1457.26 1455.45 1455.36 1454.04 Q1453.49 1452.6 1449.97 1452.6 Q1448.05 1452.6 1445.85 1453.02 Q1443.65 1453.44 1441.01 1454.31 L1441.01 1450.15 Q1443.67 1449.41 1445.99 1449.04 Q1448.32 1448.67 1450.39 1448.67 Q1455.71 1448.67 1458.81 1451.1 Q1461.91 1453.5 1461.91 1457.63 Q1461.91 1460.5 1460.27 1462.49 Q1458.63 1464.45 1455.59 1465.22 Z\" fill=\"#000000\" fill-rule=\"evenodd\" fill-opacity=\"1\" /><path clip-path=\"url(#clip500)\" d=\"M 0 0 M1481.59 1452.37 Q1477.98 1452.37 1476.15 1455.94 Q1474.34 1459.48 1474.34 1466.61 Q1474.34 1473.71 1476.15 1477.28 Q1477.98 1480.82 1481.59 1480.82 Q1485.22 1480.82 1487.03 1477.28 Q1488.86 1473.71 1488.86 1466.61 Q1488.86 1459.48 1487.03 1455.94 Q1485.22 1452.37 1481.59 1452.37 M1481.59 1448.67 Q1487.4 1448.67 1490.45 1453.27 Q1493.53 1457.86 1493.53 1466.61 Q1493.53 1475.33 1490.45 1479.94 Q1487.4 1484.52 1481.59 1484.52 Q1475.78 1484.52 1472.7 1479.94 Q1469.64 1475.33 1469.64 1466.61 Q1469.64 1457.86 1472.7 1453.27 Q1475.78 1448.67 1481.59 1448.67 Z\" fill=\"#000000\" fill-rule=\"evenodd\" fill-opacity=\"1\" /><path clip-path=\"url(#clip500)\" d=\"M 0 0 M1511.75 1452.37 Q1508.14 1452.37 1506.31 1455.94 Q1504.51 1459.48 1504.51 1466.61 Q1504.51 1473.71 1506.31 1477.28 Q1508.14 1480.82 1511.75 1480.82 Q1515.38 1480.82 1517.19 1477.28 Q1519.02 1473.71 1519.02 1466.61 Q1519.02 1459.48 1517.19 1455.94 Q1515.38 1452.37 1511.75 1452.37 M1511.75 1448.67 Q1517.56 1448.67 1520.62 1453.27 Q1523.69 1457.86 1523.69 1466.61 Q1523.69 1475.33 1520.62 1479.94 Q1517.56 1484.52 1511.75 1484.52 Q1505.94 1484.52 1502.86 1479.94 Q1499.81 1475.33 1499.81 1466.61 Q1499.81 1457.86 1502.86 1453.27 Q1505.94 1448.67 1511.75 1448.67 Z\" fill=\"#000000\" fill-rule=\"evenodd\" fill-opacity=\"1\" /><path clip-path=\"url(#clip500)\" d=\"M 0 0 M1890.38 1453.37 L1878.58 1471.81 L1890.38 1471.81 L1890.38 1453.37 M1889.16 1449.29 L1895.04 1449.29 L1895.04 1471.81 L1899.97 1471.81 L1899.97 1475.7 L1895.04 1475.7 L1895.04 1483.85 L1890.38 1483.85 L1890.38 1475.7 L1874.78 1475.7 L1874.78 1471.19 L1889.16 1449.29 Z\" fill=\"#000000\" fill-rule=\"evenodd\" fill-opacity=\"1\" /><path clip-path=\"url(#clip500)\" d=\"M 0 0 M1917.7 1452.37 Q1914.09 1452.37 1912.26 1455.94 Q1910.45 1459.48 1910.45 1466.61 Q1910.45 1473.71 1912.26 1477.28 Q1914.09 1480.82 1917.7 1480.82 Q1921.33 1480.82 1923.14 1477.28 Q1924.97 1473.71 1924.97 1466.61 Q1924.97 1459.48 1923.14 1455.94 Q1921.33 1452.37 1917.7 1452.37 M1917.7 1448.67 Q1923.51 1448.67 1926.56 1453.27 Q1929.64 1457.86 1929.64 1466.61 Q1929.64 1475.33 1926.56 1479.94 Q1923.51 1484.52 1917.7 1484.52 Q1911.89 1484.52 1908.81 1479.94 Q1905.75 1475.33 1905.75 1466.61 Q1905.75 1457.86 1908.81 1453.27 Q1911.89 1448.67 1917.7 1448.67 Z\" fill=\"#000000\" fill-rule=\"evenodd\" fill-opacity=\"1\" /><path clip-path=\"url(#clip500)\" d=\"M 0 0 M1947.86 1452.37 Q1944.25 1452.37 1942.42 1455.94 Q1940.62 1459.48 1940.62 1466.61 Q1940.62 1473.71 1942.42 1477.28 Q1944.25 1480.82 1947.86 1480.82 Q1951.49 1480.82 1953.3 1477.28 Q1955.13 1473.71 1955.13 1466.61 Q1955.13 1459.48 1953.3 1455.94 Q1951.49 1452.37 1947.86 1452.37 M1947.86 1448.67 Q1953.67 1448.67 1956.73 1453.27 Q1959.81 1457.86 1959.81 1466.61 Q1959.81 1475.33 1956.73 1479.94 Q1953.67 1484.52 1947.86 1484.52 Q1942.05 1484.52 1938.97 1479.94 Q1935.92 1475.33 1935.92 1466.61 Q1935.92 1457.86 1938.97 1453.27 Q1942.05 1448.67 1947.86 1448.67 Z\" fill=\"#000000\" fill-rule=\"evenodd\" fill-opacity=\"1\" /><path clip-path=\"url(#clip500)\" d=\"M 0 0 M2312.37 1449.29 L2330.73 1449.29 L2330.73 1453.23 L2316.66 1453.23 L2316.66 1461.7 Q2317.68 1461.35 2318.69 1461.19 Q2319.71 1461 2320.73 1461 Q2326.52 1461 2329.9 1464.18 Q2333.28 1467.35 2333.28 1472.76 Q2333.28 1478.34 2329.8 1481.44 Q2326.33 1484.52 2320.01 1484.52 Q2317.84 1484.52 2315.57 1484.15 Q2313.32 1483.78 2310.92 1483.04 L2310.92 1478.34 Q2313 1479.48 2315.22 1480.03 Q2317.44 1480.59 2319.92 1480.59 Q2323.93 1480.59 2326.26 1478.48 Q2328.6 1476.38 2328.6 1472.76 Q2328.6 1469.15 2326.26 1467.05 Q2323.93 1464.94 2319.92 1464.94 Q2318.05 1464.94 2316.17 1465.36 Q2314.32 1465.77 2312.37 1466.65 L2312.37 1449.29 Z\" fill=\"#000000\" fill-rule=\"evenodd\" fill-opacity=\"1\" /><path clip-path=\"url(#clip500)\" d=\"M 0 0 M2352.49 1452.37 Q2348.88 1452.37 2347.05 1455.94 Q2345.24 1459.48 2345.24 1466.61 Q2345.24 1473.71 2347.05 1477.28 Q2348.88 1480.82 2352.49 1480.82 Q2356.12 1480.82 2357.93 1477.28 Q2359.76 1473.71 2359.76 1466.61 Q2359.76 1459.48 2357.93 1455.94 Q2356.12 1452.37 2352.49 1452.37 M2352.49 1448.67 Q2358.3 1448.67 2361.36 1453.27 Q2364.43 1457.86 2364.43 1466.61 Q2364.43 1475.33 2361.36 1479.94 Q2358.3 1484.52 2352.49 1484.52 Q2346.68 1484.52 2343.6 1479.94 Q2340.55 1475.33 2340.55 1466.61 Q2340.55 1457.86 2343.6 1453.27 Q2346.68 1448.67 2352.49 1448.67 Z\" fill=\"#000000\" fill-rule=\"evenodd\" fill-opacity=\"1\" /><path clip-path=\"url(#clip500)\" d=\"M 0 0 M2382.65 1452.37 Q2379.04 1452.37 2377.21 1455.94 Q2375.41 1459.48 2375.41 1466.61 Q2375.41 1473.71 2377.21 1477.28 Q2379.04 1480.82 2382.65 1480.82 Q2386.29 1480.82 2388.09 1477.28 Q2389.92 1473.71 2389.92 1466.61 Q2389.92 1459.48 2388.09 1455.94 Q2386.29 1452.37 2382.65 1452.37 M2382.65 1448.67 Q2388.46 1448.67 2391.52 1453.27 Q2394.6 1457.86 2394.6 1466.61 Q2394.6 1475.33 2391.52 1479.94 Q2388.46 1484.52 2382.65 1484.52 Q2376.84 1484.52 2373.76 1479.94 Q2370.71 1475.33 2370.71 1466.61 Q2370.71 1457.86 2373.76 1453.27 Q2376.84 1448.67 2382.65 1448.67 Z\" fill=\"#000000\" fill-rule=\"evenodd\" fill-opacity=\"1\" /><path clip-path=\"url(#clip500)\" d=\"M 0 0 M1115.83 1533.76 L1115.83 1539.24 Q1113.34 1537.87 1110.83 1537.2 Q1108.35 1536.5 1105.8 1536.5 Q1100.1 1536.5 1096.95 1540.13 Q1093.8 1543.73 1093.8 1550.25 Q1093.8 1556.78 1096.95 1560.4 Q1100.1 1564 1105.8 1564 Q1108.35 1564 1110.83 1563.33 Q1113.34 1562.63 1115.83 1561.26 L1115.83 1566.68 Q1113.38 1567.82 1110.73 1568.39 Q1108.12 1568.97 1105.16 1568.97 Q1097.11 1568.97 1092.37 1563.91 Q1087.63 1558.85 1087.63 1550.25 Q1087.63 1541.53 1092.4 1536.53 Q1097.21 1531.54 1105.55 1531.54 Q1108.25 1531.54 1110.83 1532.11 Q1113.41 1532.65 1115.83 1533.76 Z\" fill=\"#000000\" fill-rule=\"evenodd\" fill-opacity=\"1\" /><path clip-path=\"url(#clip500)\" d=\"M 0 0 M1139.83 1536.5 Q1135.12 1536.5 1132.38 1540.19 Q1129.64 1543.85 1129.64 1550.25 Q1129.64 1556.65 1132.35 1560.34 Q1135.08 1564 1139.83 1564 Q1144.5 1564 1147.24 1560.31 Q1149.98 1556.62 1149.98 1550.25 Q1149.98 1543.92 1147.24 1540.23 Q1144.5 1536.5 1139.83 1536.5 M1139.83 1531.54 Q1147.46 1531.54 1151.83 1536.5 Q1156.19 1541.47 1156.19 1550.25 Q1156.19 1559 1151.83 1564 Q1147.46 1568.97 1139.83 1568.97 Q1132.16 1568.97 1127.79 1564 Q1123.47 1559 1123.47 1550.25 Q1123.47 1541.47 1127.79 1536.5 Q1132.16 1531.54 1139.83 1531.54 Z\" fill=\"#000000\" fill-rule=\"evenodd\" fill-opacity=\"1\" /><path clip-path=\"url(#clip500)\" d=\"M 0 0 M1193.65 1539.24 Q1195.84 1535.29 1198.9 1533.41 Q1201.96 1531.54 1206.09 1531.54 Q1211.66 1531.54 1214.69 1535.45 Q1217.71 1539.33 1217.71 1546.53 L1217.71 1568.04 L1211.82 1568.04 L1211.82 1546.72 Q1211.82 1541.59 1210.01 1539.11 Q1208.19 1536.63 1204.47 1536.63 Q1199.92 1536.63 1197.28 1539.65 Q1194.63 1542.68 1194.63 1547.9 L1194.63 1568.04 L1188.75 1568.04 L1188.75 1546.72 Q1188.75 1541.56 1186.93 1539.11 Q1185.12 1536.63 1181.33 1536.63 Q1176.84 1536.63 1174.2 1539.68 Q1171.56 1542.71 1171.56 1547.9 L1171.56 1568.04 L1165.67 1568.04 L1165.67 1532.4 L1171.56 1532.4 L1171.56 1537.93 Q1173.56 1534.66 1176.37 1533.1 Q1179.17 1531.54 1183.02 1531.54 Q1186.9 1531.54 1189.61 1533.51 Q1192.34 1535.48 1193.65 1539.24 Z\" fill=\"#000000\" fill-rule=\"evenodd\" fill-opacity=\"1\" /><path clip-path=\"url(#clip500)\" d=\"M 0 0 M1235.06 1562.7 L1235.06 1581.6 L1229.17 1581.6 L1229.17 1532.4 L1235.06 1532.4 L1235.06 1537.81 Q1236.9 1534.62 1239.7 1533.1 Q1242.54 1531.54 1246.45 1531.54 Q1252.94 1531.54 1256.99 1536.69 Q1261.06 1541.85 1261.06 1550.25 Q1261.06 1558.65 1256.99 1563.81 Q1252.94 1568.97 1246.45 1568.97 Q1242.54 1568.97 1239.7 1567.44 Q1236.9 1565.88 1235.06 1562.7 M1254.98 1550.25 Q1254.98 1543.79 1252.31 1540.13 Q1249.67 1536.44 1245.02 1536.44 Q1240.37 1536.44 1237.7 1540.13 Q1235.06 1543.79 1235.06 1550.25 Q1235.06 1556.71 1237.7 1560.4 Q1240.37 1564.07 1245.02 1564.07 Q1249.67 1564.07 1252.31 1560.4 Q1254.98 1556.71 1254.98 1550.25 Z\" fill=\"#000000\" fill-rule=\"evenodd\" fill-opacity=\"1\" /><path clip-path=\"url(#clip500)\" d=\"M 0 0 M1270.77 1518.52 L1276.63 1518.52 L1276.63 1568.04 L1270.77 1568.04 L1270.77 1518.52 Z\" fill=\"#000000\" fill-rule=\"evenodd\" fill-opacity=\"1\" /><path clip-path=\"url(#clip500)\" d=\"M 0 0 M1319.37 1548.76 L1319.37 1551.62 L1292.44 1551.62 Q1292.83 1557.67 1296.07 1560.85 Q1299.35 1564 1305.18 1564 Q1308.55 1564 1311.7 1563.17 Q1314.88 1562.35 1318 1560.69 L1318 1566.23 Q1314.85 1567.57 1311.54 1568.27 Q1308.23 1568.97 1304.83 1568.97 Q1296.3 1568.97 1291.3 1564 Q1286.33 1559.04 1286.33 1550.57 Q1286.33 1541.82 1291.04 1536.69 Q1295.79 1531.54 1303.81 1531.54 Q1311 1531.54 1315.17 1536.18 Q1319.37 1540.8 1319.37 1548.76 M1313.51 1547.04 Q1313.45 1542.23 1310.81 1539.37 Q1308.2 1536.5 1303.87 1536.5 Q1298.97 1536.5 1296.01 1539.27 Q1293.08 1542.04 1292.63 1547.07 L1313.51 1547.04 Z\" fill=\"#000000\" fill-rule=\"evenodd\" fill-opacity=\"1\" /><path clip-path=\"url(#clip500)\" d=\"M 0 0 M1357.47 1532.4 L1344.58 1549.74 L1358.14 1568.04 L1351.23 1568.04 L1340.86 1554.04 L1330.48 1568.04 L1323.57 1568.04 L1337.42 1549.39 L1324.75 1532.4 L1331.66 1532.4 L1341.11 1545.1 L1350.56 1532.4 L1357.47 1532.4 Z\" fill=\"#000000\" fill-rule=\"evenodd\" fill-opacity=\"1\" /><path clip-path=\"url(#clip500)\" d=\"M 0 0 M1366.41 1532.4 L1372.27 1532.4 L1372.27 1568.04 L1366.41 1568.04 L1366.41 1532.4 M1366.41 1518.52 L1372.27 1518.52 L1372.27 1525.93 L1366.41 1525.93 L1366.41 1518.52 Z\" fill=\"#000000\" fill-rule=\"evenodd\" fill-opacity=\"1\" /><path clip-path=\"url(#clip500)\" d=\"M 0 0 M1390.32 1522.27 L1390.32 1532.4 L1402.38 1532.4 L1402.38 1536.95 L1390.32 1536.95 L1390.32 1556.3 Q1390.32 1560.66 1391.49 1561.9 Q1392.7 1563.14 1396.36 1563.14 L1402.38 1563.14 L1402.38 1568.04 L1396.36 1568.04 Q1389.58 1568.04 1387.01 1565.53 Q1384.43 1562.98 1384.43 1556.3 L1384.43 1536.95 L1380.13 1536.95 L1380.13 1532.4 L1384.43 1532.4 L1384.43 1522.27 L1390.32 1522.27 Z\" fill=\"#000000\" fill-rule=\"evenodd\" fill-opacity=\"1\" /><path clip-path=\"url(#clip500)\" d=\"M 0 0 M1424.91 1571.35 Q1422.43 1577.72 1420.08 1579.66 Q1417.72 1581.6 1413.77 1581.6 L1409.1 1581.6 L1409.1 1576.7 L1412.53 1576.7 Q1414.95 1576.7 1416.29 1575.56 Q1417.63 1574.41 1419.25 1570.14 L1420.3 1567.47 L1405.88 1532.4 L1412.09 1532.4 L1423.23 1560.28 L1434.37 1532.4 L1440.57 1532.4 L1424.91 1571.35 Z\" fill=\"#000000\" fill-rule=\"evenodd\" fill-opacity=\"1\" /><polyline clip-path=\"url(#clip502)\" style=\"stroke:#000000; stroke-width:2; stroke-opacity:0.1; fill:none\" points=\"\n",
       "  175.445,1423.18 2352.76,1423.18 \n",
       "  \"/>\n",
       "<polyline clip-path=\"url(#clip502)\" style=\"stroke:#000000; stroke-width:2; stroke-opacity:0.1; fill:none\" points=\"\n",
       "  175.445,1223.22 2352.76,1223.22 \n",
       "  \"/>\n",
       "<polyline clip-path=\"url(#clip502)\" style=\"stroke:#000000; stroke-width:2; stroke-opacity:0.1; fill:none\" points=\"\n",
       "  175.445,1023.27 2352.76,1023.27 \n",
       "  \"/>\n",
       "<polyline clip-path=\"url(#clip502)\" style=\"stroke:#000000; stroke-width:2; stroke-opacity:0.1; fill:none\" points=\"\n",
       "  175.445,823.315 2352.76,823.315 \n",
       "  \"/>\n",
       "<polyline clip-path=\"url(#clip502)\" style=\"stroke:#000000; stroke-width:2; stroke-opacity:0.1; fill:none\" points=\"\n",
       "  175.445,623.36 2352.76,623.36 \n",
       "  \"/>\n",
       "<polyline clip-path=\"url(#clip502)\" style=\"stroke:#000000; stroke-width:2; stroke-opacity:0.1; fill:none\" points=\"\n",
       "  175.445,423.405 2352.76,423.405 \n",
       "  \"/>\n",
       "<polyline clip-path=\"url(#clip502)\" style=\"stroke:#000000; stroke-width:2; stroke-opacity:0.1; fill:none\" points=\"\n",
       "  175.445,223.45 2352.76,223.45 \n",
       "  \"/>\n",
       "<polyline clip-path=\"url(#clip500)\" style=\"stroke:#000000; stroke-width:4; stroke-opacity:1; fill:none\" points=\"\n",
       "  175.445,1423.18 175.445,123.472 \n",
       "  \"/>\n",
       "<polyline clip-path=\"url(#clip500)\" style=\"stroke:#000000; stroke-width:4; stroke-opacity:1; fill:none\" points=\"\n",
       "  175.445,1423.18 201.573,1423.18 \n",
       "  \"/>\n",
       "<polyline clip-path=\"url(#clip500)\" style=\"stroke:#000000; stroke-width:4; stroke-opacity:1; fill:none\" points=\"\n",
       "  175.445,1223.22 201.573,1223.22 \n",
       "  \"/>\n",
       "<polyline clip-path=\"url(#clip500)\" style=\"stroke:#000000; stroke-width:4; stroke-opacity:1; fill:none\" points=\"\n",
       "  175.445,1023.27 201.573,1023.27 \n",
       "  \"/>\n",
       "<polyline clip-path=\"url(#clip500)\" style=\"stroke:#000000; stroke-width:4; stroke-opacity:1; fill:none\" points=\"\n",
       "  175.445,823.315 201.573,823.315 \n",
       "  \"/>\n",
       "<polyline clip-path=\"url(#clip500)\" style=\"stroke:#000000; stroke-width:4; stroke-opacity:1; fill:none\" points=\"\n",
       "  175.445,623.36 201.573,623.36 \n",
       "  \"/>\n",
       "<polyline clip-path=\"url(#clip500)\" style=\"stroke:#000000; stroke-width:4; stroke-opacity:1; fill:none\" points=\"\n",
       "  175.445,423.405 201.573,423.405 \n",
       "  \"/>\n",
       "<polyline clip-path=\"url(#clip500)\" style=\"stroke:#000000; stroke-width:4; stroke-opacity:1; fill:none\" points=\"\n",
       "  175.445,223.45 201.573,223.45 \n",
       "  \"/>\n",
       "<path clip-path=\"url(#clip500)\" d=\"M 0 0 M127.501 1408.98 Q123.89 1408.98 122.061 1412.54 Q120.255 1416.08 120.255 1423.21 Q120.255 1430.32 122.061 1433.89 Q123.89 1437.43 127.501 1437.43 Q131.135 1437.43 132.941 1433.89 Q134.769 1430.32 134.769 1423.21 Q134.769 1416.08 132.941 1412.54 Q131.135 1408.98 127.501 1408.98 M127.501 1405.27 Q133.311 1405.27 136.367 1409.88 Q139.445 1414.46 139.445 1423.21 Q139.445 1431.94 136.367 1436.55 Q133.311 1441.13 127.501 1441.13 Q121.691 1441.13 118.612 1436.55 Q115.556 1431.94 115.556 1423.21 Q115.556 1414.46 118.612 1409.88 Q121.691 1405.27 127.501 1405.27 Z\" fill=\"#000000\" fill-rule=\"evenodd\" fill-opacity=\"1\" /><path clip-path=\"url(#clip500)\" d=\"M 0 0 M119.538 1236.57 L127.177 1236.57 L127.177 1210.2 L118.867 1211.87 L118.867 1207.61 L127.13 1205.94 L131.806 1205.94 L131.806 1236.57 L139.445 1236.57 L139.445 1240.5 L119.538 1240.5 L119.538 1236.57 Z\" fill=\"#000000\" fill-rule=\"evenodd\" fill-opacity=\"1\" /><path clip-path=\"url(#clip500)\" d=\"M 0 0 M123.126 1036.61 L139.445 1036.61 L139.445 1040.55 L117.501 1040.55 L117.501 1036.61 Q120.163 1033.86 124.746 1029.23 Q129.353 1024.58 130.533 1023.24 Q132.779 1020.71 133.658 1018.98 Q134.561 1017.22 134.561 1015.53 Q134.561 1012.77 132.617 1011.04 Q130.695 1009.3 127.593 1009.3 Q125.394 1009.3 122.941 1010.06 Q120.51 1010.83 117.732 1012.38 L117.732 1007.66 Q120.556 1006.52 123.01 1005.94 Q125.464 1005.36 127.501 1005.36 Q132.871 1005.36 136.066 1008.05 Q139.26 1010.74 139.26 1015.23 Q139.26 1017.36 138.45 1019.28 Q137.663 1021.17 135.556 1023.77 Q134.978 1024.44 131.876 1027.66 Q128.774 1030.85 123.126 1036.61 Z\" fill=\"#000000\" fill-rule=\"evenodd\" fill-opacity=\"1\" /><path clip-path=\"url(#clip500)\" d=\"M 0 0 M132.316 821.961 Q135.672 822.678 137.547 824.947 Q139.445 827.215 139.445 830.549 Q139.445 835.664 135.927 838.465 Q132.408 841.266 125.927 841.266 Q123.751 841.266 121.436 840.826 Q119.144 840.41 116.691 839.553 L116.691 835.039 Q118.635 836.173 120.95 836.752 Q123.265 837.331 125.788 837.331 Q130.186 837.331 132.478 835.595 Q134.792 833.859 134.792 830.549 Q134.792 827.493 132.64 825.78 Q130.51 824.044 126.691 824.044 L122.663 824.044 L122.663 820.201 L126.876 820.201 Q130.325 820.201 132.154 818.836 Q133.982 817.447 133.982 814.854 Q133.982 812.192 132.084 810.78 Q130.209 809.345 126.691 809.345 Q124.769 809.345 122.57 809.762 Q120.371 810.178 117.732 811.058 L117.732 806.891 Q120.394 806.15 122.709 805.78 Q125.047 805.41 127.107 805.41 Q132.431 805.41 135.533 807.84 Q138.635 810.248 138.635 814.368 Q138.635 817.238 136.992 819.229 Q135.348 821.197 132.316 821.961 Z\" fill=\"#000000\" fill-rule=\"evenodd\" fill-opacity=\"1\" /><path clip-path=\"url(#clip500)\" d=\"M 0 0 M129.862 610.154 L118.056 628.603 L129.862 628.603 L129.862 610.154 M128.635 606.08 L134.515 606.08 L134.515 628.603 L139.445 628.603 L139.445 632.492 L134.515 632.492 L134.515 640.64 L129.862 640.64 L129.862 632.492 L114.26 632.492 L114.26 627.978 L128.635 606.08 Z\" fill=\"#000000\" fill-rule=\"evenodd\" fill-opacity=\"1\" /><path clip-path=\"url(#clip500)\" d=\"M 0 0 M118.543 406.125 L136.899 406.125 L136.899 410.06 L122.825 410.06 L122.825 418.532 Q123.843 418.185 124.862 418.023 Q125.88 417.838 126.899 417.838 Q132.686 417.838 136.066 421.009 Q139.445 424.18 139.445 429.597 Q139.445 435.175 135.973 438.277 Q132.501 441.356 126.181 441.356 Q124.005 441.356 121.737 440.986 Q119.492 440.615 117.084 439.874 L117.084 435.175 Q119.168 436.31 121.39 436.865 Q123.612 437.421 126.089 437.421 Q130.093 437.421 132.431 435.314 Q134.769 433.208 134.769 429.597 Q134.769 425.986 132.431 423.879 Q130.093 421.773 126.089 421.773 Q124.214 421.773 122.339 422.189 Q120.487 422.606 118.543 423.486 L118.543 406.125 Z\" fill=\"#000000\" fill-rule=\"evenodd\" fill-opacity=\"1\" /><path clip-path=\"url(#clip500)\" d=\"M 0 0 M127.917 221.586 Q124.769 221.586 122.918 223.739 Q121.089 225.892 121.089 229.642 Q121.089 233.369 122.918 235.544 Q124.769 237.697 127.917 237.697 Q131.066 237.697 132.894 235.544 Q134.746 233.369 134.746 229.642 Q134.746 225.892 132.894 223.739 Q131.066 221.586 127.917 221.586 M137.2 206.934 L137.2 211.193 Q135.441 210.359 133.635 209.92 Q131.853 209.48 130.093 209.48 Q125.464 209.48 123.01 212.605 Q120.58 215.73 120.232 222.049 Q121.598 220.035 123.658 218.97 Q125.718 217.883 128.195 217.883 Q133.404 217.883 136.413 221.054 Q139.445 224.202 139.445 229.642 Q139.445 234.966 136.297 238.183 Q133.149 241.401 127.917 241.401 Q121.922 241.401 118.751 236.818 Q115.58 232.211 115.58 223.484 Q115.58 215.29 119.468 210.429 Q123.357 205.545 129.908 205.545 Q131.667 205.545 133.45 205.892 Q135.255 206.239 137.2 206.934 Z\" fill=\"#000000\" fill-rule=\"evenodd\" fill-opacity=\"1\" /><path clip-path=\"url(#clip500)\" d=\"M 0 0 M35.3266 960.462 L35.3266 969.724 L45.9574 972.398 L45.9574 963.072 L35.3266 960.462 M17.2162 965.236 L30.4251 968.546 L30.4251 959.252 L17.2162 955.91 L17.2162 950.818 L30.4251 954.096 L30.4251 944.166 L35.3266 944.166 L35.3266 955.337 L45.9574 957.947 L45.9574 947.826 L50.8271 947.826 L50.8271 959.189 L64.0042 962.499 L64.0042 967.591 L50.8271 964.313 L50.8271 973.639 L64.0042 976.917 L64.0042 982.042 L50.8271 978.731 L50.8271 988.757 L45.9574 988.757 L45.9574 977.554 L35.3266 974.88 L35.3266 985.129 L30.4251 985.129 L30.4251 973.639 L17.2162 970.392 L17.2162 965.236 Z\" fill=\"#000000\" fill-rule=\"evenodd\" fill-opacity=\"1\" /><path clip-path=\"url(#clip500)\" d=\"M 0 0 M32.4621 898.492 Q32.4621 903.202 36.1542 905.94 Q39.8145 908.677 46.212 908.677 Q52.6095 908.677 56.3017 905.971 Q59.9619 903.234 59.9619 898.492 Q59.9619 893.813 56.2698 891.076 Q52.5777 888.338 46.212 888.338 Q39.8781 888.338 36.186 891.076 Q32.4621 893.813 32.4621 898.492 M27.4968 898.492 Q27.4968 890.853 32.4621 886.492 Q37.4273 882.132 46.212 882.132 Q54.9649 882.132 59.9619 886.492 Q64.9272 890.853 64.9272 898.492 Q64.9272 906.162 59.9619 910.523 Q54.9649 914.852 46.212 914.852 Q37.4273 914.852 32.4621 910.523 Q27.4968 906.162 27.4968 898.492 Z\" fill=\"#000000\" fill-rule=\"evenodd\" fill-opacity=\"1\" /><path clip-path=\"url(#clip500)\" d=\"M 0 0 M14.479 854.377 L19.3487 854.377 L19.3487 859.979 Q19.3487 863.13 20.6219 864.372 Q21.895 865.581 25.2052 865.581 L28.3562 865.581 L28.3562 855.937 L32.9077 855.937 L32.9077 865.581 L64.0042 865.581 L64.0042 871.469 L32.9077 871.469 L32.9077 877.071 L28.3562 877.071 L28.3562 871.469 L25.8736 871.469 Q19.9216 871.469 17.2162 868.7 Q14.479 865.931 14.479 859.916 L14.479 854.377 Z\" fill=\"#000000\" fill-rule=\"evenodd\" fill-opacity=\"1\" /><path clip-path=\"url(#clip500)\" d=\"M 0 0 M29.7248 803.102 L35.1993 803.102 Q33.8307 805.584 33.1623 808.099 Q32.4621 810.581 32.4621 813.128 Q32.4621 818.825 36.0905 821.976 Q39.6872 825.127 46.212 825.127 Q52.7369 825.127 56.3653 821.976 Q59.9619 818.825 59.9619 813.128 Q59.9619 810.581 59.2935 808.099 Q58.5933 805.584 57.2247 803.102 L62.6355 803.102 Q63.7814 805.552 64.3543 808.194 Q64.9272 810.804 64.9272 813.764 Q64.9272 821.817 59.8664 826.559 Q54.8057 831.302 46.212 831.302 Q37.491 831.302 32.4939 826.527 Q27.4968 821.721 27.4968 813.382 Q27.4968 810.677 28.0697 808.099 Q28.6108 805.521 29.7248 803.102 Z\" fill=\"#000000\" fill-rule=\"evenodd\" fill-opacity=\"1\" /><path clip-path=\"url(#clip500)\" d=\"M 0 0 M49.9359 793.521 L28.3562 793.521 L28.3562 787.665 L49.7131 787.665 Q54.7739 787.665 57.3202 785.691 Q59.8346 783.718 59.8346 779.771 Q59.8346 775.029 56.8109 772.292 Q53.7872 769.522 48.5673 769.522 L28.3562 769.522 L28.3562 763.666 L64.0042 763.666 L64.0042 769.522 L58.5296 769.522 Q61.7762 771.655 63.3676 774.488 Q64.9272 777.289 64.9272 781.013 Q64.9272 787.155 61.1078 790.338 Q57.2883 793.521 49.9359 793.521 M27.4968 778.785 L27.4968 778.785 Z\" fill=\"#000000\" fill-rule=\"evenodd\" fill-opacity=\"1\" /><path clip-path=\"url(#clip500)\" d=\"M 0 0 M33.8307 730.946 Q33.2578 731.933 33.0032 733.111 Q32.7167 734.256 32.7167 735.657 Q32.7167 740.622 35.9632 743.296 Q39.1779 745.938 45.2253 745.938 L64.0042 745.938 L64.0042 751.826 L28.3562 751.826 L28.3562 745.938 L33.8944 745.938 Q30.6479 744.091 29.0883 741.131 Q27.4968 738.171 27.4968 733.938 Q27.4968 733.333 27.5923 732.601 Q27.656 731.869 27.8151 730.978 L33.8307 730.946 Z\" fill=\"#000000\" fill-rule=\"evenodd\" fill-opacity=\"1\" /><path clip-path=\"url(#clip500)\" d=\"M 0 0 M33.8307 705.292 Q33.2578 706.279 33.0032 707.457 Q32.7167 708.603 32.7167 710.003 Q32.7167 714.968 35.9632 717.642 Q39.1779 720.284 45.2253 720.284 L64.0042 720.284 L64.0042 726.172 L28.3562 726.172 L28.3562 720.284 L33.8944 720.284 Q30.6479 718.438 29.0883 715.478 Q27.4968 712.518 27.4968 708.284 Q27.4968 707.68 27.5923 706.948 Q27.656 706.216 27.8151 705.324 L33.8307 705.292 Z\" fill=\"#000000\" fill-rule=\"evenodd\" fill-opacity=\"1\" /><path clip-path=\"url(#clip500)\" d=\"M 0 0 M28.3562 699.15 L28.3562 693.293 L64.0042 693.293 L64.0042 699.15 L28.3562 699.15 M14.479 699.15 L14.479 693.293 L21.895 693.293 L21.895 699.15 L14.479 699.15 Z\" fill=\"#000000\" fill-rule=\"evenodd\" fill-opacity=\"1\" /><path clip-path=\"url(#clip500)\" d=\"M 0 0 M29.7248 655.385 L35.1993 655.385 Q33.8307 657.868 33.1623 660.382 Q32.4621 662.865 32.4621 665.411 Q32.4621 671.109 36.0905 674.26 Q39.6872 677.411 46.212 677.411 Q52.7369 677.411 56.3653 674.26 Q59.9619 671.109 59.9619 665.411 Q59.9619 662.865 59.2935 660.382 Q58.5933 657.868 57.2247 655.385 L62.6355 655.385 Q63.7814 657.836 64.3543 660.478 Q64.9272 663.088 64.9272 666.048 Q64.9272 674.101 59.8664 678.843 Q54.8057 683.585 46.212 683.585 Q37.491 683.585 32.4939 678.811 Q27.4968 674.005 27.4968 665.666 Q27.4968 662.961 28.0697 660.382 Q28.6108 657.804 29.7248 655.385 Z\" fill=\"#000000\" fill-rule=\"evenodd\" fill-opacity=\"1\" /><path clip-path=\"url(#clip500)\" d=\"M 0 0 M49.9359 645.805 L28.3562 645.805 L28.3562 639.949 L49.7131 639.949 Q54.7739 639.949 57.3202 637.975 Q59.8346 636.002 59.8346 632.055 Q59.8346 627.313 56.8109 624.575 Q53.7872 621.806 48.5673 621.806 L28.3562 621.806 L28.3562 615.95 L64.0042 615.95 L64.0042 621.806 L58.5296 621.806 Q61.7762 623.939 63.3676 626.772 Q64.9272 629.572 64.9272 633.296 Q64.9272 639.439 61.1078 642.622 Q57.2883 645.805 49.9359 645.805 M27.4968 631.068 L27.4968 631.068 Z\" fill=\"#000000\" fill-rule=\"evenodd\" fill-opacity=\"1\" /><path clip-path=\"url(#clip500)\" d=\"M 0 0 M14.479 603.887 L14.479 598.03 L64.0042 598.03 L64.0042 603.887 L14.479 603.887 Z\" fill=\"#000000\" fill-rule=\"evenodd\" fill-opacity=\"1\" /><path clip-path=\"url(#clip500)\" d=\"M 0 0 M46.0847 569.576 Q46.0847 576.673 47.7079 579.411 Q49.3312 582.148 53.2461 582.148 Q56.3653 582.148 58.2114 580.111 Q60.0256 578.042 60.0256 574.509 Q60.0256 569.639 56.5881 566.711 Q53.1188 563.751 47.3897 563.751 L46.0847 563.751 L46.0847 569.576 M43.6657 557.895 L64.0042 557.895 L64.0042 563.751 L58.5933 563.751 Q61.8398 565.756 63.3994 568.748 Q64.9272 571.74 64.9272 576.069 Q64.9272 581.543 61.8716 584.79 Q58.7843 588.004 53.6281 588.004 Q47.6125 588.004 44.5569 583.994 Q41.5014 579.952 41.5014 571.963 L41.5014 563.751 L40.9285 563.751 Q36.8862 563.751 34.6901 566.425 Q32.4621 569.066 32.4621 573.872 Q32.4621 576.928 33.1941 579.824 Q33.9262 582.721 35.3903 585.394 L29.9795 585.394 Q28.7381 582.18 28.1334 579.156 Q27.4968 576.132 27.4968 573.268 Q27.4968 565.533 31.5072 561.714 Q35.5176 557.895 43.6657 557.895 Z\" fill=\"#000000\" fill-rule=\"evenodd\" fill-opacity=\"1\" /><path clip-path=\"url(#clip500)\" d=\"M 0 0 M835.859 18.8205 L835.859 41.5461 L846.149 41.5461 Q851.86 41.5461 854.979 38.5889 Q858.099 35.6318 858.099 30.163 Q858.099 24.7348 854.979 21.7777 Q851.86 18.8205 846.149 18.8205 L835.859 18.8205 M827.676 12.096 L846.149 12.096 Q856.316 12.096 861.501 16.714 Q866.727 21.2916 866.727 30.163 Q866.727 39.1155 861.501 43.6931 Q856.316 48.2706 846.149 48.2706 L835.859 48.2706 L835.859 72.576 L827.676 72.576 L827.676 12.096 Z\" fill=\"#000000\" fill-rule=\"evenodd\" fill-opacity=\"1\" /><path clip-path=\"url(#clip500)\" d=\"M 0 0 M904.846 28.5427 L904.846 35.5912 Q901.686 33.9709 898.284 33.1607 Q894.881 32.3505 891.235 32.3505 Q885.685 32.3505 882.89 34.0519 Q880.136 35.7533 880.136 39.156 Q880.136 41.7486 882.121 43.2475 Q884.105 44.7058 890.101 46.0426 L892.653 46.6097 Q900.593 48.3111 903.914 51.4303 Q907.277 54.509 907.277 60.0587 Q907.277 66.3781 902.254 70.0644 Q897.271 73.7508 888.521 73.7508 Q884.875 73.7508 880.905 73.0216 Q876.976 72.3329 872.601 70.9151 L872.601 63.2184 Q876.733 65.3654 880.743 66.4591 Q884.754 67.5124 888.683 67.5124 Q893.949 67.5124 896.785 65.73 Q899.62 63.9071 899.62 60.6258 Q899.62 57.5877 897.554 55.9673 Q895.529 54.3469 888.602 52.8481 L886.009 52.2405 Q879.082 50.7821 876.004 47.7845 Q872.925 44.7463 872.925 39.4801 Q872.925 33.0797 877.462 29.5959 Q881.999 26.1121 890.344 26.1121 Q894.476 26.1121 898.122 26.7198 Q901.767 27.3274 904.846 28.5427 Z\" fill=\"#000000\" fill-rule=\"evenodd\" fill-opacity=\"1\" /><path clip-path=\"url(#clip500)\" d=\"M 0 0 M938.023 76.7889 Q934.863 84.8907 931.866 87.3618 Q928.868 89.8329 923.845 89.8329 L917.89 89.8329 L917.89 83.5945 L922.265 83.5945 Q925.344 83.5945 927.045 82.1361 Q928.746 80.6778 930.812 75.2496 L932.149 71.8468 L913.799 27.2059 L921.698 27.2059 L935.876 62.6918 L950.054 27.2059 L957.953 27.2059 L938.023 76.7889 Z\" fill=\"#000000\" fill-rule=\"evenodd\" fill-opacity=\"1\" /><path clip-path=\"url(#clip500)\" d=\"M 0 0 M1000.89 28.9478 L1000.89 35.9153 Q997.733 34.1734 994.533 33.3227 Q991.373 32.4315 988.133 32.4315 Q980.882 32.4315 976.871 37.0496 Q972.861 41.6271 972.861 49.9314 Q972.861 58.2358 976.871 62.8538 Q980.882 67.4314 988.133 67.4314 Q991.373 67.4314 994.533 66.5807 Q997.733 65.6895 1000.89 63.9476 L1000.89 70.8341 Q997.774 72.2924 994.412 73.0216 Q991.09 73.7508 987.323 73.7508 Q977.074 73.7508 971.038 67.3098 Q965.002 60.8689 965.002 49.9314 Q965.002 38.832 971.078 32.472 Q977.195 26.1121 987.809 26.1121 Q991.252 26.1121 994.533 26.8413 Q997.814 27.5299 1000.89 28.9478 Z\" fill=\"#000000\" fill-rule=\"evenodd\" fill-opacity=\"1\" /><path clip-path=\"url(#clip500)\" d=\"M 0 0 M1051.57 45.1919 L1051.57 72.576 L1044.12 72.576 L1044.12 45.4349 Q1044.12 38.994 1041.6 35.7938 Q1039.09 32.5936 1034.07 32.5936 Q1028.03 32.5936 1024.55 36.4419 Q1021.07 40.2903 1021.07 46.9338 L1021.07 72.576 L1013.57 72.576 L1013.57 9.54393 L1021.07 9.54393 L1021.07 34.2544 Q1023.74 30.163 1027.35 28.1376 Q1030.99 26.1121 1035.73 26.1121 Q1043.55 26.1121 1047.56 30.9732 Q1051.57 35.7938 1051.57 45.1919 Z\" fill=\"#000000\" fill-rule=\"evenodd\" fill-opacity=\"1\" /><path clip-path=\"url(#clip500)\" d=\"M 0 0 M1084.02 32.4315 Q1078.02 32.4315 1074.54 37.1306 Q1071.05 41.7891 1071.05 49.9314 Q1071.05 58.0738 1074.5 62.7728 Q1077.98 67.4314 1084.02 67.4314 Q1089.97 67.4314 1093.46 62.7323 Q1096.94 58.0333 1096.94 49.9314 Q1096.94 41.8701 1093.46 37.1711 Q1089.97 32.4315 1084.02 32.4315 M1084.02 26.1121 Q1093.74 26.1121 1099.29 32.4315 Q1104.84 38.7509 1104.84 49.9314 Q1104.84 61.0714 1099.29 67.4314 Q1093.74 73.7508 1084.02 73.7508 Q1074.25 73.7508 1068.71 67.4314 Q1063.2 61.0714 1063.2 49.9314 Q1063.2 38.7509 1068.71 32.4315 Q1074.25 26.1121 1084.02 26.1121 Z\" fill=\"#000000\" fill-rule=\"evenodd\" fill-opacity=\"1\" /><path clip-path=\"url(#clip500)\" d=\"M 0 0 M1117.19 9.54393 L1124.65 9.54393 L1124.65 72.576 L1117.19 72.576 L1117.19 9.54393 Z\" fill=\"#000000\" fill-rule=\"evenodd\" fill-opacity=\"1\" /><path clip-path=\"url(#clip500)\" d=\"M 0 0 M1157.83 32.4315 Q1151.83 32.4315 1148.35 37.1306 Q1144.86 41.7891 1144.86 49.9314 Q1144.86 58.0738 1148.31 62.7728 Q1151.79 67.4314 1157.83 67.4314 Q1163.78 67.4314 1167.26 62.7323 Q1170.75 58.0333 1170.75 49.9314 Q1170.75 41.8701 1167.26 37.1711 Q1163.78 32.4315 1157.83 32.4315 M1157.83 26.1121 Q1167.55 26.1121 1173.1 32.4315 Q1178.65 38.7509 1178.65 49.9314 Q1178.65 61.0714 1173.1 67.4314 Q1167.55 73.7508 1157.83 73.7508 Q1148.06 73.7508 1142.51 67.4314 Q1137 61.0714 1137 49.9314 Q1137 38.7509 1142.51 32.4315 Q1148.06 26.1121 1157.83 26.1121 Z\" fill=\"#000000\" fill-rule=\"evenodd\" fill-opacity=\"1\" /><path clip-path=\"url(#clip500)\" d=\"M 0 0 M1220.86 49.3643 Q1220.86 41.2625 1217.49 36.8065 Q1214.17 32.3505 1208.14 32.3505 Q1202.14 32.3505 1198.78 36.8065 Q1195.46 41.2625 1195.46 49.3643 Q1195.46 57.4256 1198.78 61.8816 Q1202.14 66.3376 1208.14 66.3376 Q1214.17 66.3376 1217.49 61.8816 Q1220.86 57.4256 1220.86 49.3643 M1228.31 66.9452 Q1228.31 78.5308 1223.17 84.1616 Q1218.02 89.8329 1207.41 89.8329 Q1203.48 89.8329 1199.99 89.2252 Q1196.51 88.6581 1193.23 87.4428 L1193.23 80.1917 Q1196.51 81.9741 1199.71 82.8248 Q1202.91 83.6755 1206.23 83.6755 Q1213.57 83.6755 1217.21 79.8271 Q1220.86 76.0193 1220.86 68.282 L1220.86 64.5957 Q1218.55 68.6061 1214.94 70.5911 Q1211.34 72.576 1206.31 72.576 Q1197.97 72.576 1192.87 66.2161 Q1187.76 59.8562 1187.76 49.3643 Q1187.76 38.832 1192.87 32.472 Q1197.97 26.1121 1206.31 26.1121 Q1211.34 26.1121 1214.94 28.0971 Q1218.55 30.082 1220.86 34.0924 L1220.86 27.2059 L1228.31 27.2059 L1228.31 66.9452 Z\" fill=\"#000000\" fill-rule=\"evenodd\" fill-opacity=\"1\" /><path clip-path=\"url(#clip500)\" d=\"M 0 0 M1262.54 76.7889 Q1259.38 84.8907 1256.38 87.3618 Q1253.39 89.8329 1248.36 89.8329 L1242.41 89.8329 L1242.41 83.5945 L1246.78 83.5945 Q1249.86 83.5945 1251.56 82.1361 Q1253.26 80.6778 1255.33 75.2496 L1256.67 71.8468 L1238.32 27.2059 L1246.22 27.2059 L1260.39 62.6918 L1274.57 27.2059 L1282.47 27.2059 L1262.54 76.7889 Z\" fill=\"#000000\" fill-rule=\"evenodd\" fill-opacity=\"1\" /><path clip-path=\"url(#clip500)\" d=\"M 0 0 M1327.64 18.8205 L1327.64 41.5461 L1337.93 41.5461 Q1343.64 41.5461 1346.76 38.5889 Q1349.88 35.6318 1349.88 30.163 Q1349.88 24.7348 1346.76 21.7777 Q1343.64 18.8205 1337.93 18.8205 L1327.64 18.8205 M1319.46 12.096 L1337.93 12.096 Q1348.1 12.096 1353.28 16.714 Q1358.51 21.2916 1358.51 30.163 Q1358.51 39.1155 1353.28 43.6931 Q1348.1 48.2706 1337.93 48.2706 L1327.64 48.2706 L1327.64 72.576 L1319.46 72.576 L1319.46 12.096 Z\" fill=\"#000000\" fill-rule=\"evenodd\" fill-opacity=\"1\" /><path clip-path=\"url(#clip500)\" d=\"M 0 0 M1393.99 34.1734 Q1392.74 33.4443 1391.24 33.1202 Q1389.78 32.7556 1388 32.7556 Q1381.68 32.7556 1378.28 36.8875 Q1374.91 40.9789 1374.91 48.6757 L1374.91 72.576 L1367.42 72.576 L1367.42 27.2059 L1374.91 27.2059 L1374.91 34.2544 Q1377.26 30.1225 1381.03 28.1376 Q1384.8 26.1121 1390.18 26.1121 Q1390.95 26.1121 1391.89 26.2337 Q1392.82 26.3147 1393.95 26.5172 L1393.99 34.1734 Z\" fill=\"#000000\" fill-rule=\"evenodd\" fill-opacity=\"1\" /><path clip-path=\"url(#clip500)\" d=\"M 0 0 M1417.57 32.4315 Q1411.57 32.4315 1408.09 37.1306 Q1404.61 41.7891 1404.61 49.9314 Q1404.61 58.0738 1408.05 62.7728 Q1411.53 67.4314 1417.57 67.4314 Q1423.52 67.4314 1427.01 62.7323 Q1430.49 58.0333 1430.49 49.9314 Q1430.49 41.8701 1427.01 37.1711 Q1423.52 32.4315 1417.57 32.4315 M1417.57 26.1121 Q1427.29 26.1121 1432.84 32.4315 Q1438.39 38.7509 1438.39 49.9314 Q1438.39 61.0714 1432.84 67.4314 Q1427.29 73.7508 1417.57 73.7508 Q1407.81 73.7508 1402.26 67.4314 Q1396.75 61.0714 1396.75 49.9314 Q1396.75 38.7509 1402.26 32.4315 Q1407.81 26.1121 1417.57 26.1121 Z\" fill=\"#000000\" fill-rule=\"evenodd\" fill-opacity=\"1\" /><path clip-path=\"url(#clip500)\" d=\"M 0 0 M1480.6 49.3643 Q1480.6 41.2625 1477.24 36.8065 Q1473.92 32.3505 1467.88 32.3505 Q1461.89 32.3505 1458.52 36.8065 Q1455.2 41.2625 1455.2 49.3643 Q1455.2 57.4256 1458.52 61.8816 Q1461.89 66.3376 1467.88 66.3376 Q1473.92 66.3376 1477.24 61.8816 Q1480.6 57.4256 1480.6 49.3643 M1488.05 66.9452 Q1488.05 78.5308 1482.91 84.1616 Q1477.77 89.8329 1467.15 89.8329 Q1463.22 89.8329 1459.74 89.2252 Q1456.26 88.6581 1452.97 87.4428 L1452.97 80.1917 Q1456.26 81.9741 1459.46 82.8248 Q1462.66 83.6755 1465.98 83.6755 Q1473.31 83.6755 1476.96 79.8271 Q1480.6 76.0193 1480.6 68.282 L1480.6 64.5957 Q1478.29 68.6061 1474.69 70.5911 Q1471.08 72.576 1466.06 72.576 Q1457.71 72.576 1452.61 66.2161 Q1447.51 59.8562 1447.51 49.3643 Q1447.51 38.832 1452.61 32.472 Q1457.71 26.1121 1466.06 26.1121 Q1471.08 26.1121 1474.69 28.0971 Q1478.29 30.082 1480.6 34.0924 L1480.6 27.2059 L1488.05 27.2059 L1488.05 66.9452 Z\" fill=\"#000000\" fill-rule=\"evenodd\" fill-opacity=\"1\" /><path clip-path=\"url(#clip500)\" d=\"M 0 0 M1529.7 34.1734 Q1528.44 33.4443 1526.94 33.1202 Q1525.49 32.7556 1523.7 32.7556 Q1517.38 32.7556 1513.98 36.8875 Q1510.62 40.9789 1510.62 48.6757 L1510.62 72.576 L1503.12 72.576 L1503.12 27.2059 L1510.62 27.2059 L1510.62 34.2544 Q1512.97 30.1225 1516.74 28.1376 Q1520.5 26.1121 1525.89 26.1121 Q1526.66 26.1121 1527.59 26.2337 Q1528.52 26.3147 1529.66 26.5172 L1529.7 34.1734 Z\" fill=\"#000000\" fill-rule=\"evenodd\" fill-opacity=\"1\" /><path clip-path=\"url(#clip500)\" d=\"M 0 0 M1558.14 49.7694 Q1549.1 49.7694 1545.62 51.8354 Q1542.13 53.9013 1542.13 58.8839 Q1542.13 62.8538 1544.73 65.2034 Q1547.36 67.5124 1551.86 67.5124 Q1558.05 67.5124 1561.78 63.1374 Q1565.55 58.7219 1565.55 51.4303 L1565.55 49.7694 L1558.14 49.7694 M1573 46.6907 L1573 72.576 L1565.55 72.576 L1565.55 65.6895 Q1563 69.8214 1559.19 71.8063 Q1555.38 73.7508 1549.87 73.7508 Q1542.9 73.7508 1538.77 69.8619 Q1534.68 65.9325 1534.68 59.3701 Q1534.68 51.7138 1539.78 47.825 Q1544.93 43.9361 1555.1 43.9361 L1565.55 43.9361 L1565.55 43.2069 Q1565.55 38.0623 1562.15 35.2672 Q1558.78 32.4315 1552.67 32.4315 Q1548.78 32.4315 1545.09 33.3632 Q1541.41 34.295 1538 36.1584 L1538 29.2718 Q1542.09 27.692 1545.94 26.9223 Q1549.79 26.1121 1553.44 26.1121 Q1563.28 26.1121 1568.14 31.2163 Q1573 36.3204 1573 46.6907 Z\" fill=\"#000000\" fill-rule=\"evenodd\" fill-opacity=\"1\" /><path clip-path=\"url(#clip500)\" d=\"M 0 0 M1623.68 35.9153 Q1626.47 30.8922 1630.36 28.5022 Q1634.25 26.1121 1639.52 26.1121 Q1646.61 26.1121 1650.46 31.0947 Q1654.3 36.0368 1654.3 45.1919 L1654.3 72.576 L1646.81 72.576 L1646.81 45.4349 Q1646.81 38.913 1644.5 35.7533 Q1642.19 32.5936 1637.45 32.5936 Q1631.66 32.5936 1628.3 36.4419 Q1624.93 40.2903 1624.93 46.9338 L1624.93 72.576 L1617.44 72.576 L1617.44 45.4349 Q1617.44 38.8725 1615.13 35.7533 Q1612.82 32.5936 1608 32.5936 Q1602.29 32.5936 1598.93 36.4824 Q1595.57 40.3308 1595.57 46.9338 L1595.57 72.576 L1588.07 72.576 L1588.07 27.2059 L1595.57 27.2059 L1595.57 34.2544 Q1598.12 30.082 1601.68 28.0971 Q1605.25 26.1121 1610.15 26.1121 Q1615.09 26.1121 1618.53 28.6237 Q1622.02 31.1352 1623.68 35.9153 Z\" fill=\"#000000\" fill-rule=\"evenodd\" fill-opacity=\"1\" /><path clip-path=\"url(#clip500)\" d=\"M 0 0 M1698.09 28.5427 L1698.09 35.5912 Q1694.93 33.9709 1691.53 33.1607 Q1688.13 32.3505 1684.48 32.3505 Q1678.93 32.3505 1676.14 34.0519 Q1673.38 35.7533 1673.38 39.156 Q1673.38 41.7486 1675.37 43.2475 Q1677.35 44.7058 1683.35 46.0426 L1685.9 46.6097 Q1693.84 48.3111 1697.16 51.4303 Q1700.52 54.509 1700.52 60.0587 Q1700.52 66.3781 1695.5 70.0644 Q1690.52 73.7508 1681.77 73.7508 Q1678.12 73.7508 1674.15 73.0216 Q1670.22 72.3329 1665.85 70.9151 L1665.85 63.2184 Q1669.98 65.3654 1673.99 66.4591 Q1678 67.5124 1681.93 67.5124 Q1687.2 67.5124 1690.03 65.73 Q1692.87 63.9071 1692.87 60.6258 Q1692.87 57.5877 1690.8 55.9673 Q1688.78 54.3469 1681.85 52.8481 L1679.26 52.2405 Q1672.33 50.7821 1669.25 47.7845 Q1666.17 44.7463 1666.17 39.4801 Q1666.17 33.0797 1670.71 29.5959 Q1675.25 26.1121 1683.59 26.1121 Q1687.72 26.1121 1691.37 26.7198 Q1695.02 27.3274 1698.09 28.5427 Z\" fill=\"#000000\" fill-rule=\"evenodd\" fill-opacity=\"1\" /><path clip-path=\"url(#clip502)\" d=\"\n",
       "M349.63 823.315 L349.63 1423.18 L436.722 1423.18 L436.722 823.315 L349.63 823.315 L349.63 823.315  Z\n",
       "  \" fill=\"#1874cd\" fill-rule=\"evenodd\" fill-opacity=\"0.7\"/>\n",
       "<polyline clip-path=\"url(#clip502)\" style=\"stroke:#000000; stroke-width:4; stroke-opacity:0.7; fill:none\" points=\"\n",
       "  349.63,823.315 349.63,1423.18 436.722,1423.18 436.722,823.315 349.63,823.315 \n",
       "  \"/>\n",
       "<path clip-path=\"url(#clip502)\" d=\"\n",
       "M436.722 623.36 L436.722 1423.18 L523.815 1423.18 L523.815 623.36 L436.722 623.36 L436.722 623.36  Z\n",
       "  \" fill=\"#1874cd\" fill-rule=\"evenodd\" fill-opacity=\"0.7\"/>\n",
       "<polyline clip-path=\"url(#clip502)\" style=\"stroke:#000000; stroke-width:4; stroke-opacity:0.7; fill:none\" points=\"\n",
       "  436.722,623.36 436.722,1423.18 523.815,1423.18 523.815,623.36 436.722,623.36 \n",
       "  \"/>\n",
       "<path clip-path=\"url(#clip502)\" d=\"\n",
       "M523.815 423.405 L523.815 1423.18 L610.907 1423.18 L610.907 423.405 L523.815 423.405 L523.815 423.405  Z\n",
       "  \" fill=\"#1874cd\" fill-rule=\"evenodd\" fill-opacity=\"0.7\"/>\n",
       "<polyline clip-path=\"url(#clip502)\" style=\"stroke:#000000; stroke-width:4; stroke-opacity:0.7; fill:none\" points=\"\n",
       "  523.815,423.405 523.815,1423.18 610.907,1423.18 610.907,423.405 523.815,423.405 \n",
       "  \"/>\n",
       "<path clip-path=\"url(#clip502)\" d=\"\n",
       "M610.907 1223.22 L610.907 1423.18 L698 1423.18 L698 1223.22 L610.907 1223.22 L610.907 1223.22  Z\n",
       "  \" fill=\"#1874cd\" fill-rule=\"evenodd\" fill-opacity=\"0.7\"/>\n",
       "<polyline clip-path=\"url(#clip502)\" style=\"stroke:#000000; stroke-width:4; stroke-opacity:0.7; fill:none\" points=\"\n",
       "  610.907,1223.22 610.907,1423.18 698,1423.18 698,1223.22 610.907,1223.22 \n",
       "  \"/>\n",
       "</svg>\n"
      ]
     },
     "metadata": {},
     "output_type": "display_data"
    }
   ],
   "source": [
    "# Find all programs with the keywords listed below in their names, and store them in corresponding arrays.\n",
    "program_types = Dict{String, Array{Curriculum,1}}(\"animal-science\" => [], \"mechanical-engineering\" => [], \"music-education\" => [], \"psychology\" => [])\n",
    "program_keyword = Dict{String, String}(\"animal-science\" => \"animal\", \"mechanical-engineering\" => \"mechanical\", \"music-education\" => \"music\", \"psychology\" => \"psychology\")\n",
    "metric = \"complexity\"\n",
    "for (k, programs) in program_types\n",
    "    for school in schools\n",
    "      path = \"./cluster/$(school)\"\n",
    "      for file in readdir(path)\n",
    "        if (occursin(program_keyword[k], file) && occursin(\".csv\", file))\n",
    "          program_name = replace(file, \".csv\" => \"\")\n",
    "          push!(programs, schools_plans[school][program_name].curriculum);\n",
    "        end\n",
    "      end\n",
    "    end\n",
    "    println(\"****** $(replace(titlecase(k), \"-\" => \" \")) Programs ******\")\n",
    "    stats = basic_statistics(programs, \"complexity\")\n",
    "    println(String(take!(stats))); flush(stdout)  \n",
    "    display(metric_histogram(programs, metric, title=\"$(replace(titlecase(k), \"-\" => \" \")) Programs\", \n",
    "             xlabel=\"$(metric)\", ylabel=\"# of curricula\", xlim=(0,500)))\n",
    "end"
   ]
  },
  {
   "cell_type": "markdown",
   "metadata": {},
   "source": [
    "In order to get a better sense of the curricular complexity variations between disciplines, the `metric_boxplot()` function can be used to simultaneously display (on the same scale) the curricular complexity variations in all four disciplines, i.e., the inter-discipline curricular complexities.   "
   ]
  },
  {
   "cell_type": "code",
   "execution_count": 8,
   "metadata": {},
   "outputs": [
    {
     "data": {
      "image/svg+xml": [
       "<?xml version=\"1.0\" encoding=\"utf-8\"?>\n",
       "<svg xmlns=\"http://www.w3.org/2000/svg\" xmlns:xlink=\"http://www.w3.org/1999/xlink\" width=\"600\" height=\"400\" viewBox=\"0 0 2400 1600\">\n",
       "<defs>\n",
       "  <clipPath id=\"clip900\">\n",
       "    <rect x=\"0\" y=\"0\" width=\"2400\" height=\"1600\"/>\n",
       "  </clipPath>\n",
       "</defs>\n",
       "<path clip-path=\"url(#clip900)\" d=\"\n",
       "M0 1600 L2400 1600 L2400 0 L0 0  Z\n",
       "  \" fill=\"#ffffff\" fill-rule=\"evenodd\" fill-opacity=\"1\"/>\n",
       "<defs>\n",
       "  <clipPath id=\"clip901\">\n",
       "    <rect x=\"480\" y=\"0\" width=\"1681\" height=\"1600\"/>\n",
       "  </clipPath>\n",
       "</defs>\n",
       "<path clip-path=\"url(#clip900)\" d=\"\n",
       "M229.473 1423.18 L2352.76 1423.18 L2352.76 123.472 L229.473 123.472  Z\n",
       "  \" fill=\"#ffffff\" fill-rule=\"evenodd\" fill-opacity=\"1\"/>\n",
       "<defs>\n",
       "  <clipPath id=\"clip902\">\n",
       "    <rect x=\"229\" y=\"123\" width=\"2124\" height=\"1301\"/>\n",
       "  </clipPath>\n",
       "</defs>\n",
       "<polyline clip-path=\"url(#clip902)\" style=\"stroke:#000000; stroke-width:2; stroke-opacity:0.1; fill:none\" points=\"\n",
       "  449.813,1423.18 449.813,123.472 \n",
       "  \"/>\n",
       "<polyline clip-path=\"url(#clip902)\" style=\"stroke:#000000; stroke-width:2; stroke-opacity:0.1; fill:none\" points=\"\n",
       "  1010.68,1423.18 1010.68,123.472 \n",
       "  \"/>\n",
       "<polyline clip-path=\"url(#clip902)\" style=\"stroke:#000000; stroke-width:2; stroke-opacity:0.1; fill:none\" points=\"\n",
       "  1571.55,1423.18 1571.55,123.472 \n",
       "  \"/>\n",
       "<polyline clip-path=\"url(#clip902)\" style=\"stroke:#000000; stroke-width:2; stroke-opacity:0.1; fill:none\" points=\"\n",
       "  2132.42,1423.18 2132.42,123.472 \n",
       "  \"/>\n",
       "<polyline clip-path=\"url(#clip902)\" style=\"stroke:#000000; stroke-width:2; stroke-opacity:0.1; fill:none\" points=\"\n",
       "  229.473,1231.19 2352.76,1231.19 \n",
       "  \"/>\n",
       "<polyline clip-path=\"url(#clip902)\" style=\"stroke:#000000; stroke-width:2; stroke-opacity:0.1; fill:none\" points=\"\n",
       "  229.473,972.509 2352.76,972.509 \n",
       "  \"/>\n",
       "<polyline clip-path=\"url(#clip902)\" style=\"stroke:#000000; stroke-width:2; stroke-opacity:0.1; fill:none\" points=\"\n",
       "  229.473,713.83 2352.76,713.83 \n",
       "  \"/>\n",
       "<polyline clip-path=\"url(#clip902)\" style=\"stroke:#000000; stroke-width:2; stroke-opacity:0.1; fill:none\" points=\"\n",
       "  229.473,455.151 2352.76,455.151 \n",
       "  \"/>\n",
       "<polyline clip-path=\"url(#clip902)\" style=\"stroke:#000000; stroke-width:2; stroke-opacity:0.1; fill:none\" points=\"\n",
       "  229.473,196.471 2352.76,196.471 \n",
       "  \"/>\n",
       "<polyline clip-path=\"url(#clip900)\" style=\"stroke:#000000; stroke-width:4; stroke-opacity:1; fill:none\" points=\"\n",
       "  229.473,1423.18 2352.76,1423.18 \n",
       "  \"/>\n",
       "<polyline clip-path=\"url(#clip900)\" style=\"stroke:#000000; stroke-width:4; stroke-opacity:1; fill:none\" points=\"\n",
       "  229.473,1423.18 229.473,123.472 \n",
       "  \"/>\n",
       "<polyline clip-path=\"url(#clip900)\" style=\"stroke:#000000; stroke-width:4; stroke-opacity:1; fill:none\" points=\"\n",
       "  449.813,1423.18 449.813,1407.58 \n",
       "  \"/>\n",
       "<polyline clip-path=\"url(#clip900)\" style=\"stroke:#000000; stroke-width:4; stroke-opacity:1; fill:none\" points=\"\n",
       "  1010.68,1423.18 1010.68,1407.58 \n",
       "  \"/>\n",
       "<polyline clip-path=\"url(#clip900)\" style=\"stroke:#000000; stroke-width:4; stroke-opacity:1; fill:none\" points=\"\n",
       "  1571.55,1423.18 1571.55,1407.58 \n",
       "  \"/>\n",
       "<polyline clip-path=\"url(#clip900)\" style=\"stroke:#000000; stroke-width:4; stroke-opacity:1; fill:none\" points=\"\n",
       "  2132.42,1423.18 2132.42,1407.58 \n",
       "  \"/>\n",
       "<polyline clip-path=\"url(#clip900)\" style=\"stroke:#000000; stroke-width:4; stroke-opacity:1; fill:none\" points=\"\n",
       "  229.473,1231.19 254.952,1231.19 \n",
       "  \"/>\n",
       "<polyline clip-path=\"url(#clip900)\" style=\"stroke:#000000; stroke-width:4; stroke-opacity:1; fill:none\" points=\"\n",
       "  229.473,972.509 254.952,972.509 \n",
       "  \"/>\n",
       "<polyline clip-path=\"url(#clip900)\" style=\"stroke:#000000; stroke-width:4; stroke-opacity:1; fill:none\" points=\"\n",
       "  229.473,713.83 254.952,713.83 \n",
       "  \"/>\n",
       "<polyline clip-path=\"url(#clip900)\" style=\"stroke:#000000; stroke-width:4; stroke-opacity:1; fill:none\" points=\"\n",
       "  229.473,455.151 254.952,455.151 \n",
       "  \"/>\n",
       "<polyline clip-path=\"url(#clip900)\" style=\"stroke:#000000; stroke-width:4; stroke-opacity:1; fill:none\" points=\"\n",
       "  229.473,196.471 254.952,196.471 \n",
       "  \"/>\n",
       "<path clip-path=\"url(#clip900)\" d=\"M 0 0 M284.016 1442.09 L290.983 1442.09 L299.803 1465.61 L308.668 1442.09 L315.636 1442.09 L315.636 1476.65 L311.076 1476.65 L311.076 1446.3 L302.164 1470.01 L297.465 1470.01 L288.553 1446.3 L288.553 1476.65 L284.016 1476.65 L284.016 1442.09 Z\" fill=\"#000000\" fill-rule=\"evenodd\" fill-opacity=\"1\" /><path clip-path=\"url(#clip900)\" d=\"M 0 0 M319.664 1466.42 L319.664 1450.73 L323.923 1450.73 L323.923 1466.26 Q323.923 1469.94 325.358 1471.79 Q326.793 1473.62 329.664 1473.62 Q333.113 1473.62 335.103 1471.42 Q337.117 1469.22 337.117 1465.43 L337.117 1450.73 L341.376 1450.73 L341.376 1476.65 L337.117 1476.65 L337.117 1472.67 Q335.566 1475.03 333.506 1476.19 Q331.469 1477.32 328.761 1477.32 Q324.293 1477.32 321.978 1474.55 Q319.664 1471.77 319.664 1466.42 M330.381 1450.1 L330.381 1450.1 Z\" fill=\"#000000\" fill-rule=\"evenodd\" fill-opacity=\"1\" /><path clip-path=\"url(#clip900)\" d=\"M 0 0 M362.372 1451.49 L362.372 1455.52 Q360.566 1454.59 358.622 1454.13 Q356.677 1453.67 354.594 1453.67 Q351.423 1453.67 349.826 1454.64 Q348.251 1455.61 348.251 1457.55 Q348.251 1459.04 349.386 1459.89 Q350.52 1460.73 353.946 1461.49 L355.404 1461.81 Q359.941 1462.79 361.839 1464.57 Q363.761 1466.33 363.761 1469.5 Q363.761 1473.11 360.89 1475.22 Q358.043 1477.32 353.043 1477.32 Q350.96 1477.32 348.691 1476.91 Q346.446 1476.51 343.946 1475.7 L343.946 1471.3 Q346.307 1472.53 348.599 1473.16 Q350.89 1473.76 353.136 1473.76 Q356.145 1473.76 357.765 1472.74 Q359.386 1471.7 359.386 1469.82 Q359.386 1468.09 358.205 1467.16 Q357.048 1466.24 353.089 1465.38 L351.608 1465.03 Q347.65 1464.2 345.89 1462.49 Q344.131 1460.75 344.131 1457.74 Q344.131 1454.08 346.724 1452.09 Q349.316 1450.1 354.085 1450.1 Q356.446 1450.1 358.529 1450.45 Q360.612 1450.8 362.372 1451.49 Z\" fill=\"#000000\" fill-rule=\"evenodd\" fill-opacity=\"1\" /><path clip-path=\"url(#clip900)\" d=\"M 0 0 M368.228 1450.73 L372.487 1450.73 L372.487 1476.65 L368.228 1476.65 L368.228 1450.73 M368.228 1440.63 L372.487 1440.63 L372.487 1446.03 L368.228 1446.03 L368.228 1440.63 Z\" fill=\"#000000\" fill-rule=\"evenodd\" fill-opacity=\"1\" /><path clip-path=\"url(#clip900)\" d=\"M 0 0 M395.612 1451.72 L395.612 1455.7 Q393.807 1454.71 391.978 1454.22 Q390.173 1453.71 388.321 1453.71 Q384.177 1453.71 381.886 1456.35 Q379.594 1458.97 379.594 1463.71 Q379.594 1468.46 381.886 1471.1 Q384.177 1473.71 388.321 1473.71 Q390.173 1473.71 391.978 1473.23 Q393.807 1472.72 395.612 1471.72 L395.612 1475.66 Q393.83 1476.49 391.909 1476.91 Q390.01 1477.32 387.858 1477.32 Q382.001 1477.32 378.552 1473.64 Q375.103 1469.96 375.103 1463.71 Q375.103 1457.37 378.575 1453.74 Q382.071 1450.1 388.135 1450.1 Q390.103 1450.1 391.978 1450.52 Q393.853 1450.91 395.612 1451.72 Z\" fill=\"#000000\" fill-rule=\"evenodd\" fill-opacity=\"1\" /><path clip-path=\"url(#clip900)\" d=\"M 0 0 M415.334 1442.09 L437.186 1442.09 L437.186 1446.03 L420.01 1446.03 L420.01 1456.26 L436.469 1456.26 L436.469 1460.19 L420.01 1460.19 L420.01 1472.72 L437.603 1472.72 L437.603 1476.65 L415.334 1476.65 L415.334 1442.09 Z\" fill=\"#000000\" fill-rule=\"evenodd\" fill-opacity=\"1\" /><path clip-path=\"url(#clip900)\" d=\"M 0 0 M459.13 1454.66 L459.13 1440.63 L463.39 1440.63 L463.39 1476.65 L459.13 1476.65 L459.13 1472.76 Q457.788 1475.08 455.728 1476.21 Q453.691 1477.32 450.82 1477.32 Q446.121 1477.32 443.158 1473.57 Q440.219 1469.82 440.219 1463.71 Q440.219 1457.6 443.158 1453.85 Q446.121 1450.1 450.82 1450.1 Q453.691 1450.1 455.728 1451.24 Q457.788 1452.35 459.13 1454.66 M444.617 1463.71 Q444.617 1468.41 446.538 1471.1 Q448.482 1473.76 451.862 1473.76 Q455.242 1473.76 457.186 1471.1 Q459.13 1468.41 459.13 1463.71 Q459.13 1459.01 457.186 1456.35 Q455.242 1453.67 451.862 1453.67 Q448.482 1453.67 446.538 1456.35 Q444.617 1459.01 444.617 1463.71 Z\" fill=\"#000000\" fill-rule=\"evenodd\" fill-opacity=\"1\" /><path clip-path=\"url(#clip900)\" d=\"M 0 0 M467.417 1466.42 L467.417 1450.73 L471.677 1450.73 L471.677 1466.26 Q471.677 1469.94 473.112 1471.79 Q474.547 1473.62 477.417 1473.62 Q480.866 1473.62 482.857 1471.42 Q484.871 1469.22 484.871 1465.43 L484.871 1450.73 L489.13 1450.73 L489.13 1476.65 L484.871 1476.65 L484.871 1472.67 Q483.32 1475.03 481.26 1476.19 Q479.223 1477.32 476.515 1477.32 Q472.047 1477.32 469.732 1474.55 Q467.417 1471.77 467.417 1466.42 M478.135 1450.1 L478.135 1450.1 Z\" fill=\"#000000\" fill-rule=\"evenodd\" fill-opacity=\"1\" /><path clip-path=\"url(#clip900)\" d=\"M 0 0 M512.255 1451.72 L512.255 1455.7 Q510.45 1454.71 508.621 1454.22 Q506.815 1453.71 504.964 1453.71 Q500.82 1453.71 498.528 1456.35 Q496.237 1458.97 496.237 1463.71 Q496.237 1468.46 498.528 1471.1 Q500.82 1473.71 504.964 1473.71 Q506.815 1473.71 508.621 1473.23 Q510.45 1472.72 512.255 1471.72 L512.255 1475.66 Q510.473 1476.49 508.552 1476.91 Q506.653 1477.32 504.501 1477.32 Q498.644 1477.32 495.195 1473.64 Q491.746 1469.96 491.746 1463.71 Q491.746 1457.37 495.218 1453.74 Q498.714 1450.1 504.778 1450.1 Q506.746 1450.1 508.621 1450.52 Q510.496 1450.91 512.255 1451.72 Z\" fill=\"#000000\" fill-rule=\"evenodd\" fill-opacity=\"1\" /><path clip-path=\"url(#clip900)\" d=\"M 0 0 M528.505 1463.62 Q523.343 1463.62 521.352 1464.8 Q519.362 1465.98 519.362 1468.83 Q519.362 1471.1 520.843 1472.44 Q522.348 1473.76 524.917 1473.76 Q528.459 1473.76 530.588 1471.26 Q532.741 1468.74 532.741 1464.57 L532.741 1463.62 L528.505 1463.62 M537 1461.86 L537 1476.65 L532.741 1476.65 L532.741 1472.72 Q531.283 1475.08 529.107 1476.21 Q526.931 1477.32 523.783 1477.32 Q519.801 1477.32 517.44 1475.1 Q515.102 1472.86 515.102 1469.11 Q515.102 1464.73 518.019 1462.51 Q520.959 1460.29 526.769 1460.29 L532.741 1460.29 L532.741 1459.87 Q532.741 1456.93 530.797 1455.33 Q528.875 1453.71 525.38 1453.71 Q523.158 1453.71 521.051 1454.24 Q518.945 1454.78 517.001 1455.84 L517.001 1451.91 Q519.338 1451 521.538 1450.56 Q523.737 1450.1 525.82 1450.1 Q531.445 1450.1 534.223 1453.02 Q537 1455.93 537 1461.86 Z\" fill=\"#000000\" fill-rule=\"evenodd\" fill-opacity=\"1\" /><path clip-path=\"url(#clip900)\" d=\"M 0 0 M545.681 1443.36 L545.681 1450.73 L554.454 1450.73 L554.454 1454.04 L545.681 1454.04 L545.681 1468.11 Q545.681 1471.28 546.537 1472.18 Q547.417 1473.09 550.079 1473.09 L554.454 1473.09 L554.454 1476.65 L550.079 1476.65 Q545.149 1476.65 543.274 1474.82 Q541.399 1472.97 541.399 1468.11 L541.399 1454.04 L538.274 1454.04 L538.274 1450.73 L541.399 1450.73 L541.399 1443.36 L545.681 1443.36 Z\" fill=\"#000000\" fill-rule=\"evenodd\" fill-opacity=\"1\" /><path clip-path=\"url(#clip900)\" d=\"M 0 0 M558.922 1450.73 L563.181 1450.73 L563.181 1476.65 L558.922 1476.65 L558.922 1450.73 M558.922 1440.63 L563.181 1440.63 L563.181 1446.03 L558.922 1446.03 L558.922 1440.63 Z\" fill=\"#000000\" fill-rule=\"evenodd\" fill-opacity=\"1\" /><path clip-path=\"url(#clip900)\" d=\"M 0 0 M577.695 1453.71 Q574.269 1453.71 572.278 1456.4 Q570.287 1459.06 570.287 1463.71 Q570.287 1468.36 572.255 1471.05 Q574.246 1473.71 577.695 1473.71 Q581.097 1473.71 583.088 1471.03 Q585.079 1468.34 585.079 1463.71 Q585.079 1459.11 583.088 1456.42 Q581.097 1453.71 577.695 1453.71 M577.695 1450.1 Q583.25 1450.1 586.421 1453.71 Q589.593 1457.32 589.593 1463.71 Q589.593 1470.08 586.421 1473.71 Q583.25 1477.32 577.695 1477.32 Q572.116 1477.32 568.945 1473.71 Q565.797 1470.08 565.797 1463.71 Q565.797 1457.32 568.945 1453.71 Q572.116 1450.1 577.695 1450.1 Z\" fill=\"#000000\" fill-rule=\"evenodd\" fill-opacity=\"1\" /><path clip-path=\"url(#clip900)\" d=\"M 0 0 M615.611 1461 L615.611 1476.65 L611.352 1476.65 L611.352 1461.14 Q611.352 1457.46 609.917 1455.63 Q608.482 1453.8 605.611 1453.8 Q602.162 1453.8 600.171 1456 Q598.181 1458.2 598.181 1462 L598.181 1476.65 L593.898 1476.65 L593.898 1450.73 L598.181 1450.73 L598.181 1454.75 Q599.708 1452.42 601.769 1451.26 Q603.852 1450.1 606.56 1450.1 Q611.028 1450.1 613.319 1452.88 Q615.611 1455.63 615.611 1461 Z\" fill=\"#000000\" fill-rule=\"evenodd\" fill-opacity=\"1\" /><path clip-path=\"url(#clip900)\" d=\"M 0 0 M867.093 1446.7 L860.751 1463.9 L873.459 1463.9 L867.093 1446.7 M864.455 1442.09 L869.755 1442.09 L882.927 1476.65 L878.066 1476.65 L874.918 1467.79 L859.339 1467.79 L856.191 1476.65 L851.26 1476.65 L864.455 1442.09 Z\" fill=\"#000000\" fill-rule=\"evenodd\" fill-opacity=\"1\" /><path clip-path=\"url(#clip900)\" d=\"M 0 0 M908.945 1461 L908.945 1476.65 L904.686 1476.65 L904.686 1461.14 Q904.686 1457.46 903.251 1455.63 Q901.816 1453.8 898.945 1453.8 Q895.496 1453.8 893.505 1456 Q891.515 1458.2 891.515 1462 L891.515 1476.65 L887.232 1476.65 L887.232 1450.73 L891.515 1450.73 L891.515 1454.75 Q893.042 1452.42 895.103 1451.26 Q897.186 1450.1 899.894 1450.1 Q904.362 1450.1 906.653 1452.88 Q908.945 1455.63 908.945 1461 Z\" fill=\"#000000\" fill-rule=\"evenodd\" fill-opacity=\"1\" /><path clip-path=\"url(#clip900)\" d=\"M 0 0 M913.413 1450.73 L917.672 1450.73 L917.672 1476.65 L913.413 1476.65 L913.413 1450.73 M913.413 1440.63 L917.672 1440.63 L917.672 1446.03 L913.413 1446.03 L913.413 1440.63 Z\" fill=\"#000000\" fill-rule=\"evenodd\" fill-opacity=\"1\" /><path clip-path=\"url(#clip900)\" d=\"M 0 0 M942.325 1455.7 Q943.922 1452.83 946.144 1451.47 Q948.366 1450.1 951.375 1450.1 Q955.426 1450.1 957.625 1452.95 Q959.824 1455.77 959.824 1461 L959.824 1476.65 L955.542 1476.65 L955.542 1461.14 Q955.542 1457.42 954.223 1455.61 Q952.903 1453.8 950.195 1453.8 Q946.885 1453.8 944.963 1456 Q943.042 1458.2 943.042 1462 L943.042 1476.65 L938.76 1476.65 L938.76 1461.14 Q938.76 1457.39 937.44 1455.61 Q936.121 1453.8 933.366 1453.8 Q930.102 1453.8 928.181 1456.03 Q926.26 1458.23 926.26 1462 L926.26 1476.65 L921.977 1476.65 L921.977 1450.73 L926.26 1450.73 L926.26 1454.75 Q927.718 1452.37 929.755 1451.24 Q931.792 1450.1 934.593 1450.1 Q937.417 1450.1 939.385 1451.54 Q941.375 1452.97 942.325 1455.7 Z\" fill=\"#000000\" fill-rule=\"evenodd\" fill-opacity=\"1\" /><path clip-path=\"url(#clip900)\" d=\"M 0 0 M976.074 1463.62 Q970.912 1463.62 968.922 1464.8 Q966.931 1465.98 966.931 1468.83 Q966.931 1471.1 968.412 1472.44 Q969.917 1473.76 972.486 1473.76 Q976.028 1473.76 978.158 1471.26 Q980.31 1468.74 980.31 1464.57 L980.31 1463.62 L976.074 1463.62 M984.57 1461.86 L984.57 1476.65 L980.31 1476.65 L980.31 1472.72 Q978.852 1475.08 976.676 1476.21 Q974.5 1477.32 971.352 1477.32 Q967.371 1477.32 965.01 1475.1 Q962.672 1472.86 962.672 1469.11 Q962.672 1464.73 965.588 1462.51 Q968.528 1460.29 974.338 1460.29 L980.31 1460.29 L980.31 1459.87 Q980.31 1456.93 978.366 1455.33 Q976.445 1453.71 972.949 1453.71 Q970.727 1453.71 968.621 1454.24 Q966.514 1454.78 964.57 1455.84 L964.57 1451.91 Q966.908 1451 969.107 1450.56 Q971.306 1450.1 973.389 1450.1 Q979.014 1450.1 981.792 1453.02 Q984.57 1455.93 984.57 1461.86 Z\" fill=\"#000000\" fill-rule=\"evenodd\" fill-opacity=\"1\" /><path clip-path=\"url(#clip900)\" d=\"M 0 0 M989.037 1440.63 L993.297 1440.63 L993.297 1476.65 L989.037 1476.65 L989.037 1440.63 Z\" fill=\"#000000\" fill-rule=\"evenodd\" fill-opacity=\"1\" /><path clip-path=\"url(#clip900)\" d=\"M 0 0 M1033.74 1443.23 L1033.74 1447.79 Q1031.07 1446.51 1028.71 1445.89 Q1026.35 1445.26 1024.15 1445.26 Q1020.33 1445.26 1018.25 1446.74 Q1016.19 1448.23 1016.19 1450.96 Q1016.19 1453.25 1017.56 1454.43 Q1018.94 1455.59 1022.79 1456.3 L1025.61 1456.88 Q1030.84 1457.88 1033.32 1460.4 Q1035.82 1462.9 1035.82 1467.11 Q1035.82 1472.14 1032.44 1474.73 Q1029.08 1477.32 1022.58 1477.32 Q1020.13 1477.32 1017.35 1476.77 Q1014.59 1476.21 1011.63 1475.12 L1011.63 1470.31 Q1014.48 1471.91 1017.21 1472.72 Q1019.94 1473.53 1022.58 1473.53 Q1026.58 1473.53 1028.76 1471.95 Q1030.94 1470.38 1030.94 1467.46 Q1030.94 1464.92 1029.36 1463.48 Q1027.81 1462.05 1024.25 1461.33 L1021.4 1460.77 Q1016.17 1459.73 1013.83 1457.51 Q1011.49 1455.29 1011.49 1451.33 Q1011.49 1446.74 1014.71 1444.11 Q1017.95 1441.47 1023.62 1441.47 Q1026.05 1441.47 1028.57 1441.91 Q1031.1 1442.35 1033.74 1443.23 Z\" fill=\"#000000\" fill-rule=\"evenodd\" fill-opacity=\"1\" /><path clip-path=\"url(#clip900)\" d=\"M 0 0 M1058.94 1451.72 L1058.94 1455.7 Q1057.14 1454.71 1055.31 1454.22 Q1053.5 1453.71 1051.65 1453.71 Q1047.51 1453.71 1045.22 1456.35 Q1042.93 1458.97 1042.93 1463.71 Q1042.93 1468.46 1045.22 1471.1 Q1047.51 1473.71 1051.65 1473.71 Q1053.5 1473.71 1055.31 1473.23 Q1057.14 1472.72 1058.94 1471.72 L1058.94 1475.66 Q1057.16 1476.49 1055.24 1476.91 Q1053.34 1477.32 1051.19 1477.32 Q1045.33 1477.32 1041.88 1473.64 Q1038.44 1469.96 1038.44 1463.71 Q1038.44 1457.37 1041.91 1453.74 Q1045.4 1450.1 1051.47 1450.1 Q1053.44 1450.1 1055.31 1450.52 Q1057.19 1450.91 1058.94 1451.72 Z\" fill=\"#000000\" fill-rule=\"evenodd\" fill-opacity=\"1\" /><path clip-path=\"url(#clip900)\" d=\"M 0 0 M1063.41 1450.73 L1067.67 1450.73 L1067.67 1476.65 L1063.41 1476.65 L1063.41 1450.73 M1063.41 1440.63 L1067.67 1440.63 L1067.67 1446.03 L1063.41 1446.03 L1063.41 1440.63 Z\" fill=\"#000000\" fill-rule=\"evenodd\" fill-opacity=\"1\" /><path clip-path=\"url(#clip900)\" d=\"M 0 0 M1094.31 1462.62 L1094.31 1464.71 L1074.73 1464.71 Q1075.01 1469.11 1077.37 1471.42 Q1079.75 1473.71 1083.99 1473.71 Q1086.44 1473.71 1088.74 1473.11 Q1091.05 1472.51 1093.32 1471.3 L1093.32 1475.33 Q1091.03 1476.3 1088.62 1476.81 Q1086.21 1477.32 1083.74 1477.32 Q1077.53 1477.32 1073.9 1473.71 Q1070.29 1470.1 1070.29 1463.94 Q1070.29 1457.58 1073.71 1453.85 Q1077.16 1450.1 1083 1450.1 Q1088.23 1450.1 1091.26 1453.48 Q1094.31 1456.84 1094.31 1462.62 M1090.06 1461.37 Q1090.01 1457.88 1088.09 1455.8 Q1086.19 1453.71 1083.04 1453.71 Q1079.48 1453.71 1077.32 1455.73 Q1075.19 1457.74 1074.87 1461.4 L1090.06 1461.37 Z\" fill=\"#000000\" fill-rule=\"evenodd\" fill-opacity=\"1\" /><path clip-path=\"url(#clip900)\" d=\"M 0 0 M1120.33 1461 L1120.33 1476.65 L1116.07 1476.65 L1116.07 1461.14 Q1116.07 1457.46 1114.64 1455.63 Q1113.2 1453.8 1110.33 1453.8 Q1106.88 1453.8 1104.89 1456 Q1102.9 1458.2 1102.9 1462 L1102.9 1476.65 L1098.62 1476.65 L1098.62 1450.73 L1102.9 1450.73 L1102.9 1454.75 Q1104.43 1452.42 1106.49 1451.26 Q1108.57 1450.1 1111.28 1450.1 Q1115.75 1450.1 1118.04 1452.88 Q1120.33 1455.63 1120.33 1461 Z\" fill=\"#000000\" fill-rule=\"evenodd\" fill-opacity=\"1\" /><path clip-path=\"url(#clip900)\" d=\"M 0 0 M1143.46 1451.72 L1143.46 1455.7 Q1141.65 1454.71 1139.82 1454.22 Q1138.02 1453.71 1136.17 1453.71 Q1132.02 1453.71 1129.73 1456.35 Q1127.44 1458.97 1127.44 1463.71 Q1127.44 1468.46 1129.73 1471.1 Q1132.02 1473.71 1136.17 1473.71 Q1138.02 1473.71 1139.82 1473.23 Q1141.65 1472.72 1143.46 1471.72 L1143.46 1475.66 Q1141.68 1476.49 1139.75 1476.91 Q1137.86 1477.32 1135.7 1477.32 Q1129.85 1477.32 1126.4 1473.64 Q1122.95 1469.96 1122.95 1463.71 Q1122.95 1457.37 1126.42 1453.74 Q1129.92 1450.1 1135.98 1450.1 Q1137.95 1450.1 1139.82 1450.52 Q1141.7 1450.91 1143.46 1451.72 Z\" fill=\"#000000\" fill-rule=\"evenodd\" fill-opacity=\"1\" /><path clip-path=\"url(#clip900)\" d=\"M 0 0 M1170.1 1462.62 L1170.1 1464.71 L1150.52 1464.71 Q1150.8 1469.11 1153.16 1471.42 Q1155.54 1473.71 1159.78 1473.71 Q1162.23 1473.71 1164.52 1473.11 Q1166.84 1472.51 1169.11 1471.3 L1169.11 1475.33 Q1166.81 1476.3 1164.41 1476.81 Q1162 1477.32 1159.52 1477.32 Q1153.32 1477.32 1149.68 1473.71 Q1146.07 1470.1 1146.07 1463.94 Q1146.07 1457.58 1149.5 1453.85 Q1152.95 1450.1 1158.78 1450.1 Q1164.01 1450.1 1167.05 1453.48 Q1170.1 1456.84 1170.1 1462.62 M1165.84 1461.37 Q1165.8 1457.88 1163.87 1455.8 Q1161.98 1453.71 1158.83 1453.71 Q1155.26 1453.71 1153.11 1455.73 Q1150.98 1457.74 1150.66 1461.4 L1165.84 1461.37 Z\" fill=\"#000000\" fill-rule=\"evenodd\" fill-opacity=\"1\" /><path clip-path=\"url(#clip900)\" d=\"M 0 0 M1407.93 1442.09 L1414.89 1442.09 L1423.71 1465.61 L1432.58 1442.09 L1439.55 1442.09 L1439.55 1476.65 L1434.99 1476.65 L1434.99 1446.3 L1426.07 1470.01 L1421.38 1470.01 L1412.46 1446.3 L1412.46 1476.65 L1407.93 1476.65 L1407.93 1442.09 Z\" fill=\"#000000\" fill-rule=\"evenodd\" fill-opacity=\"1\" /><path clip-path=\"url(#clip900)\" d=\"M 0 0 M1466.19 1462.62 L1466.19 1464.71 L1446.61 1464.71 Q1446.88 1469.11 1449.25 1471.42 Q1451.63 1473.71 1455.87 1473.71 Q1458.32 1473.71 1460.61 1473.11 Q1462.93 1472.51 1465.19 1471.3 L1465.19 1475.33 Q1462.9 1476.3 1460.5 1476.81 Q1458.09 1477.32 1455.61 1477.32 Q1449.41 1477.32 1445.77 1473.71 Q1442.16 1470.1 1442.16 1463.94 Q1442.16 1457.58 1445.59 1453.85 Q1449.04 1450.1 1454.87 1450.1 Q1460.1 1450.1 1463.13 1453.48 Q1466.19 1456.84 1466.19 1462.62 M1461.93 1461.37 Q1461.88 1457.88 1459.96 1455.8 Q1458.06 1453.71 1454.92 1453.71 Q1451.35 1453.71 1449.2 1455.73 Q1447.07 1457.74 1446.75 1461.4 L1461.93 1461.37 Z\" fill=\"#000000\" fill-rule=\"evenodd\" fill-opacity=\"1\" /><path clip-path=\"url(#clip900)\" d=\"M 0 0 M1489.31 1451.72 L1489.31 1455.7 Q1487.51 1454.71 1485.68 1454.22 Q1483.87 1453.71 1482.02 1453.71 Q1477.88 1453.71 1475.59 1456.35 Q1473.3 1458.97 1473.3 1463.71 Q1473.3 1468.46 1475.59 1471.1 Q1477.88 1473.71 1482.02 1473.71 Q1483.87 1473.71 1485.68 1473.23 Q1487.51 1472.72 1489.31 1471.72 L1489.31 1475.66 Q1487.53 1476.49 1485.61 1476.91 Q1483.71 1477.32 1481.56 1477.32 Q1475.7 1477.32 1472.25 1473.64 Q1468.81 1469.96 1468.81 1463.71 Q1468.81 1457.37 1472.28 1453.74 Q1475.77 1450.1 1481.84 1450.1 Q1483.81 1450.1 1485.68 1450.52 Q1487.56 1450.91 1489.31 1451.72 Z\" fill=\"#000000\" fill-rule=\"evenodd\" fill-opacity=\"1\" /><path clip-path=\"url(#clip900)\" d=\"M 0 0 M1515.33 1461 L1515.33 1476.65 L1511.07 1476.65 L1511.07 1461.14 Q1511.07 1457.46 1509.64 1455.63 Q1508.2 1453.8 1505.33 1453.8 Q1501.88 1453.8 1499.89 1456 Q1497.9 1458.2 1497.9 1462 L1497.9 1476.65 L1493.62 1476.65 L1493.62 1440.63 L1497.9 1440.63 L1497.9 1454.75 Q1499.43 1452.42 1501.49 1451.26 Q1503.57 1450.1 1506.28 1450.1 Q1510.75 1450.1 1513.04 1452.88 Q1515.33 1455.63 1515.33 1461 Z\" fill=\"#000000\" fill-rule=\"evenodd\" fill-opacity=\"1\" /><path clip-path=\"url(#clip900)\" d=\"M 0 0 M1531.58 1463.62 Q1526.42 1463.62 1524.43 1464.8 Q1522.44 1465.98 1522.44 1468.83 Q1522.44 1471.1 1523.92 1472.44 Q1525.43 1473.76 1527.99 1473.76 Q1531.54 1473.76 1533.67 1471.26 Q1535.82 1468.74 1535.82 1464.57 L1535.82 1463.62 L1531.58 1463.62 M1540.08 1461.86 L1540.08 1476.65 L1535.82 1476.65 L1535.82 1472.72 Q1534.36 1475.08 1532.18 1476.21 Q1530.01 1477.32 1526.86 1477.32 Q1522.88 1477.32 1520.52 1475.1 Q1518.18 1472.86 1518.18 1469.11 Q1518.18 1464.73 1521.1 1462.51 Q1524.04 1460.29 1529.85 1460.29 L1535.82 1460.29 L1535.82 1459.87 Q1535.82 1456.93 1533.87 1455.33 Q1531.95 1453.71 1528.46 1453.71 Q1526.24 1453.71 1524.13 1454.24 Q1522.02 1454.78 1520.08 1455.84 L1520.08 1451.91 Q1522.42 1451 1524.62 1450.56 Q1526.81 1450.1 1528.9 1450.1 Q1534.52 1450.1 1537.3 1453.02 Q1540.08 1455.93 1540.08 1461.86 Z\" fill=\"#000000\" fill-rule=\"evenodd\" fill-opacity=\"1\" /><path clip-path=\"url(#clip900)\" d=\"M 0 0 M1566.1 1461 L1566.1 1476.65 L1561.84 1476.65 L1561.84 1461.14 Q1561.84 1457.46 1560.4 1455.63 Q1558.97 1453.8 1556.1 1453.8 Q1552.65 1453.8 1550.66 1456 Q1548.67 1458.2 1548.67 1462 L1548.67 1476.65 L1544.38 1476.65 L1544.38 1450.73 L1548.67 1450.73 L1548.67 1454.75 Q1550.19 1452.42 1552.25 1451.26 Q1554.34 1450.1 1557.05 1450.1 Q1561.51 1450.1 1563.8 1452.88 Q1566.1 1455.63 1566.1 1461 Z\" fill=\"#000000\" fill-rule=\"evenodd\" fill-opacity=\"1\" /><path clip-path=\"url(#clip900)\" d=\"M 0 0 M1570.56 1450.73 L1574.82 1450.73 L1574.82 1476.65 L1570.56 1476.65 L1570.56 1450.73 M1570.56 1440.63 L1574.82 1440.63 L1574.82 1446.03 L1570.56 1446.03 L1570.56 1440.63 Z\" fill=\"#000000\" fill-rule=\"evenodd\" fill-opacity=\"1\" /><path clip-path=\"url(#clip900)\" d=\"M 0 0 M1597.95 1451.72 L1597.95 1455.7 Q1596.14 1454.71 1594.31 1454.22 Q1592.51 1453.71 1590.66 1453.71 Q1586.51 1453.71 1584.22 1456.35 Q1581.93 1458.97 1581.93 1463.71 Q1581.93 1468.46 1584.22 1471.1 Q1586.51 1473.71 1590.66 1473.71 Q1592.51 1473.71 1594.31 1473.23 Q1596.14 1472.72 1597.95 1471.72 L1597.95 1475.66 Q1596.17 1476.49 1594.24 1476.91 Q1592.35 1477.32 1590.19 1477.32 Q1584.34 1477.32 1580.89 1473.64 Q1577.44 1469.96 1577.44 1463.71 Q1577.44 1457.37 1580.91 1453.74 Q1584.41 1450.1 1590.47 1450.1 Q1592.44 1450.1 1594.31 1450.52 Q1596.19 1450.91 1597.95 1451.72 Z\" fill=\"#000000\" fill-rule=\"evenodd\" fill-opacity=\"1\" /><path clip-path=\"url(#clip900)\" d=\"M 0 0 M1614.2 1463.62 Q1609.04 1463.62 1607.05 1464.8 Q1605.05 1465.98 1605.05 1468.83 Q1605.05 1471.1 1606.54 1472.44 Q1608.04 1473.76 1610.61 1473.76 Q1614.15 1473.76 1616.28 1471.26 Q1618.43 1468.74 1618.43 1464.57 L1618.43 1463.62 L1614.2 1463.62 M1622.69 1461.86 L1622.69 1476.65 L1618.43 1476.65 L1618.43 1472.72 Q1616.98 1475.08 1614.8 1476.21 Q1612.62 1477.32 1609.48 1477.32 Q1605.49 1477.32 1603.13 1475.1 Q1600.8 1472.86 1600.8 1469.11 Q1600.8 1464.73 1603.71 1462.51 Q1606.65 1460.29 1612.46 1460.29 L1618.43 1460.29 L1618.43 1459.87 Q1618.43 1456.93 1616.49 1455.33 Q1614.57 1453.71 1611.07 1453.71 Q1608.85 1453.71 1606.74 1454.24 Q1604.64 1454.78 1602.69 1455.84 L1602.69 1451.91 Q1605.03 1451 1607.23 1450.56 Q1609.43 1450.1 1611.51 1450.1 Q1617.14 1450.1 1619.92 1453.02 Q1622.69 1455.93 1622.69 1461.86 Z\" fill=\"#000000\" fill-rule=\"evenodd\" fill-opacity=\"1\" /><path clip-path=\"url(#clip900)\" d=\"M 0 0 M1627.16 1440.63 L1631.42 1440.63 L1631.42 1476.65 L1627.16 1476.65 L1627.16 1440.63 Z\" fill=\"#000000\" fill-rule=\"evenodd\" fill-opacity=\"1\" /><path clip-path=\"url(#clip900)\" d=\"M 0 0 M1651.14 1442.09 L1672.99 1442.09 L1672.99 1446.03 L1655.82 1446.03 L1655.82 1456.26 L1672.28 1456.26 L1672.28 1460.19 L1655.82 1460.19 L1655.82 1472.72 L1673.41 1472.72 L1673.41 1476.65 L1651.14 1476.65 L1651.14 1442.09 Z\" fill=\"#000000\" fill-rule=\"evenodd\" fill-opacity=\"1\" /><path clip-path=\"url(#clip900)\" d=\"M 0 0 M1699.43 1461 L1699.43 1476.65 L1695.17 1476.65 L1695.17 1461.14 Q1695.17 1457.46 1693.73 1455.63 Q1692.3 1453.8 1689.43 1453.8 Q1685.98 1453.8 1683.99 1456 Q1682 1458.2 1682 1462 L1682 1476.65 L1677.72 1476.65 L1677.72 1450.73 L1682 1450.73 L1682 1454.75 Q1683.53 1452.42 1685.59 1451.26 Q1687.67 1450.1 1690.38 1450.1 Q1694.85 1450.1 1697.14 1452.88 Q1699.43 1455.63 1699.43 1461 Z\" fill=\"#000000\" fill-rule=\"evenodd\" fill-opacity=\"1\" /><path clip-path=\"url(#clip900)\" d=\"M 0 0 M1720.96 1463.39 Q1720.96 1458.76 1719.04 1456.21 Q1717.14 1453.67 1713.69 1453.67 Q1710.26 1453.67 1708.34 1456.21 Q1706.44 1458.76 1706.44 1463.39 Q1706.44 1467.99 1708.34 1470.54 Q1710.26 1473.09 1713.69 1473.09 Q1717.14 1473.09 1719.04 1470.54 Q1720.96 1467.99 1720.96 1463.39 M1725.22 1473.43 Q1725.22 1480.05 1722.28 1483.27 Q1719.34 1486.51 1713.27 1486.51 Q1711.03 1486.51 1709.04 1486.17 Q1707.04 1485.84 1705.17 1485.15 L1705.17 1481 Q1707.04 1482.02 1708.87 1482.51 Q1710.7 1482.99 1712.6 1482.99 Q1716.79 1482.99 1718.87 1480.8 Q1720.96 1478.62 1720.96 1474.2 L1720.96 1472.09 Q1719.64 1474.38 1717.58 1475.52 Q1715.52 1476.65 1712.65 1476.65 Q1707.88 1476.65 1704.96 1473.02 Q1702.04 1469.38 1702.04 1463.39 Q1702.04 1457.37 1704.96 1453.74 Q1707.88 1450.1 1712.65 1450.1 Q1715.52 1450.1 1717.58 1451.24 Q1719.64 1452.37 1720.96 1454.66 L1720.96 1450.73 L1725.22 1450.73 L1725.22 1473.43 Z\" fill=\"#000000\" fill-rule=\"evenodd\" fill-opacity=\"1\" /><path clip-path=\"url(#clip900)\" d=\"M 0 0 M1730.29 1470.77 L1735.17 1470.77 L1735.17 1476.65 L1730.29 1476.65 L1730.29 1470.77 Z\" fill=\"#000000\" fill-rule=\"evenodd\" fill-opacity=\"1\" /><path clip-path=\"url(#clip900)\" d=\"M 0 0 M2020.27 1445.93 L2020.27 1458.92 L2026.15 1458.92 Q2029.42 1458.92 2031.2 1457.23 Q2032.98 1455.54 2032.98 1452.42 Q2032.98 1449.31 2031.2 1447.62 Q2029.42 1445.93 2026.15 1445.93 L2020.27 1445.93 M2015.6 1442.09 L2026.15 1442.09 Q2031.96 1442.09 2034.93 1444.73 Q2037.91 1447.35 2037.91 1452.42 Q2037.91 1457.53 2034.93 1460.15 Q2031.96 1462.76 2026.15 1462.76 L2020.27 1462.76 L2020.27 1476.65 L2015.6 1476.65 L2015.6 1442.09 Z\" fill=\"#000000\" fill-rule=\"evenodd\" fill-opacity=\"1\" /><path clip-path=\"url(#clip900)\" d=\"M 0 0 M2058.08 1451.49 L2058.08 1455.52 Q2056.27 1454.59 2054.33 1454.13 Q2052.38 1453.67 2050.3 1453.67 Q2047.13 1453.67 2045.53 1454.64 Q2043.96 1455.61 2043.96 1457.55 Q2043.96 1459.04 2045.09 1459.89 Q2046.22 1460.73 2049.65 1461.49 L2051.11 1461.81 Q2055.64 1462.79 2057.54 1464.57 Q2059.46 1466.33 2059.46 1469.5 Q2059.46 1473.11 2056.59 1475.22 Q2053.75 1477.32 2048.75 1477.32 Q2046.66 1477.32 2044.39 1476.91 Q2042.15 1476.51 2039.65 1475.7 L2039.65 1471.3 Q2042.01 1472.53 2044.3 1473.16 Q2046.59 1473.76 2048.84 1473.76 Q2051.85 1473.76 2053.47 1472.74 Q2055.09 1471.7 2055.09 1469.82 Q2055.09 1468.09 2053.91 1467.16 Q2052.75 1466.24 2048.79 1465.38 L2047.31 1465.03 Q2043.35 1464.2 2041.59 1462.49 Q2039.83 1460.75 2039.83 1457.74 Q2039.83 1454.08 2042.43 1452.09 Q2045.02 1450.1 2049.79 1450.1 Q2052.15 1450.1 2054.23 1450.45 Q2056.32 1450.8 2058.08 1451.49 Z\" fill=\"#000000\" fill-rule=\"evenodd\" fill-opacity=\"1\" /><path clip-path=\"url(#clip900)\" d=\"M 0 0 M2074.72 1479.06 Q2072.91 1483.69 2071.2 1485.1 Q2069.49 1486.51 2066.62 1486.51 L2063.21 1486.51 L2063.21 1482.95 L2065.71 1482.95 Q2067.47 1482.95 2068.45 1482.11 Q2069.42 1481.28 2070.6 1478.18 L2071.36 1476.24 L2060.88 1450.73 L2065.39 1450.73 L2073.49 1471 L2081.59 1450.73 L2086.11 1450.73 L2074.72 1479.06 Z\" fill=\"#000000\" fill-rule=\"evenodd\" fill-opacity=\"1\" /><path clip-path=\"url(#clip900)\" d=\"M 0 0 M2109.23 1451.72 L2109.23 1455.7 Q2107.43 1454.71 2105.6 1454.22 Q2103.79 1453.71 2101.94 1453.71 Q2097.8 1453.71 2095.51 1456.35 Q2093.21 1458.97 2093.21 1463.71 Q2093.21 1468.46 2095.51 1471.1 Q2097.8 1473.71 2101.94 1473.71 Q2103.79 1473.71 2105.6 1473.23 Q2107.43 1472.72 2109.23 1471.72 L2109.23 1475.66 Q2107.45 1476.49 2105.53 1476.91 Q2103.63 1477.32 2101.48 1477.32 Q2095.62 1477.32 2092.17 1473.64 Q2088.72 1469.96 2088.72 1463.71 Q2088.72 1457.37 2092.2 1453.74 Q2095.69 1450.1 2101.76 1450.1 Q2103.72 1450.1 2105.6 1450.52 Q2107.47 1450.91 2109.23 1451.72 Z\" fill=\"#000000\" fill-rule=\"evenodd\" fill-opacity=\"1\" /><path clip-path=\"url(#clip900)\" d=\"M 0 0 M2135.25 1461 L2135.25 1476.65 L2130.99 1476.65 L2130.99 1461.14 Q2130.99 1457.46 2129.56 1455.63 Q2128.12 1453.8 2125.25 1453.8 Q2121.8 1453.8 2119.81 1456 Q2117.82 1458.2 2117.82 1462 L2117.82 1476.65 L2113.54 1476.65 L2113.54 1440.63 L2117.82 1440.63 L2117.82 1454.75 Q2119.35 1452.42 2121.41 1451.26 Q2123.49 1450.1 2126.2 1450.1 Q2130.67 1450.1 2132.96 1452.88 Q2135.25 1455.63 2135.25 1461 Z\" fill=\"#000000\" fill-rule=\"evenodd\" fill-opacity=\"1\" /><path clip-path=\"url(#clip900)\" d=\"M 0 0 M2149.76 1453.71 Q2146.34 1453.71 2144.35 1456.4 Q2142.36 1459.06 2142.36 1463.71 Q2142.36 1468.36 2144.32 1471.05 Q2146.32 1473.71 2149.76 1473.71 Q2153.17 1473.71 2155.16 1471.03 Q2157.15 1468.34 2157.15 1463.71 Q2157.15 1459.11 2155.16 1456.42 Q2153.17 1453.71 2149.76 1453.71 M2149.76 1450.1 Q2155.32 1450.1 2158.49 1453.71 Q2161.66 1457.32 2161.66 1463.71 Q2161.66 1470.08 2158.49 1473.71 Q2155.32 1477.32 2149.76 1477.32 Q2144.19 1477.32 2141.01 1473.71 Q2137.87 1470.08 2137.87 1463.71 Q2137.87 1457.32 2141.01 1453.71 Q2144.19 1450.1 2149.76 1450.1 Z\" fill=\"#000000\" fill-rule=\"evenodd\" fill-opacity=\"1\" /><path clip-path=\"url(#clip900)\" d=\"M 0 0 M2166.13 1440.63 L2170.39 1440.63 L2170.39 1476.65 L2166.13 1476.65 L2166.13 1440.63 Z\" fill=\"#000000\" fill-rule=\"evenodd\" fill-opacity=\"1\" /><path clip-path=\"url(#clip900)\" d=\"M 0 0 M2184.9 1453.71 Q2181.48 1453.71 2179.49 1456.4 Q2177.5 1459.06 2177.5 1463.71 Q2177.5 1468.36 2179.46 1471.05 Q2181.45 1473.71 2184.9 1473.71 Q2188.31 1473.71 2190.3 1471.03 Q2192.29 1468.34 2192.29 1463.71 Q2192.29 1459.11 2190.3 1456.42 Q2188.31 1453.71 2184.9 1453.71 M2184.9 1450.1 Q2190.46 1450.1 2193.63 1453.71 Q2196.8 1457.32 2196.8 1463.71 Q2196.8 1470.08 2193.63 1473.71 Q2190.46 1477.32 2184.9 1477.32 Q2179.32 1477.32 2176.15 1473.71 Q2173.01 1470.08 2173.01 1463.71 Q2173.01 1457.32 2176.15 1453.71 Q2179.32 1450.1 2184.9 1450.1 Z\" fill=\"#000000\" fill-rule=\"evenodd\" fill-opacity=\"1\" /><path clip-path=\"url(#clip900)\" d=\"M 0 0 M2218.33 1463.39 Q2218.33 1458.76 2216.41 1456.21 Q2214.51 1453.67 2211.06 1453.67 Q2207.63 1453.67 2205.71 1456.21 Q2203.82 1458.76 2203.82 1463.39 Q2203.82 1467.99 2205.71 1470.54 Q2207.63 1473.09 2211.06 1473.09 Q2214.51 1473.09 2216.41 1470.54 Q2218.33 1467.99 2218.33 1463.39 M2222.59 1473.43 Q2222.59 1480.05 2219.65 1483.27 Q2216.71 1486.51 2210.64 1486.51 Q2208.4 1486.51 2206.41 1486.17 Q2204.42 1485.84 2202.54 1485.15 L2202.54 1481 Q2204.42 1482.02 2206.25 1482.51 Q2208.07 1482.99 2209.97 1482.99 Q2214.16 1482.99 2216.25 1480.8 Q2218.33 1478.62 2218.33 1474.2 L2218.33 1472.09 Q2217.01 1474.38 2214.95 1475.52 Q2212.89 1476.65 2210.02 1476.65 Q2205.25 1476.65 2202.33 1473.02 Q2199.42 1469.38 2199.42 1463.39 Q2199.42 1457.37 2202.33 1453.74 Q2205.25 1450.1 2210.02 1450.1 Q2212.89 1450.1 2214.95 1451.24 Q2217.01 1452.37 2218.33 1454.66 L2218.33 1450.73 L2222.59 1450.73 L2222.59 1473.43 Z\" fill=\"#000000\" fill-rule=\"evenodd\" fill-opacity=\"1\" /><path clip-path=\"url(#clip900)\" d=\"M 0 0 M2237.84 1479.06 Q2236.04 1483.69 2234.32 1485.1 Q2232.61 1486.51 2229.74 1486.51 L2226.34 1486.51 L2226.34 1482.95 L2228.84 1482.95 Q2230.6 1482.95 2231.57 1482.11 Q2232.54 1481.28 2233.72 1478.18 L2234.49 1476.24 L2224 1450.73 L2228.51 1450.73 L2236.62 1471 L2244.72 1450.73 L2249.23 1450.73 L2237.84 1479.06 Z\" fill=\"#000000\" fill-rule=\"evenodd\" fill-opacity=\"1\" /><path clip-path=\"url(#clip900)\" d=\"M 0 0 M131.538 1244.53 L139.177 1244.53 L139.177 1218.17 L130.867 1219.83 L130.867 1215.57 L139.13 1213.91 L143.806 1213.91 L143.806 1244.53 L151.445 1244.53 L151.445 1248.47 L131.538 1248.47 L131.538 1244.53 Z\" fill=\"#000000\" fill-rule=\"evenodd\" fill-opacity=\"1\" /><path clip-path=\"url(#clip900)\" d=\"M 0 0 M166.515 1216.99 Q162.903 1216.99 161.075 1220.55 Q159.269 1224.09 159.269 1231.22 Q159.269 1238.33 161.075 1241.89 Q162.903 1245.44 166.515 1245.44 Q170.149 1245.44 171.954 1241.89 Q173.783 1238.33 173.783 1231.22 Q173.783 1224.09 171.954 1220.55 Q170.149 1216.99 166.515 1216.99 M166.515 1213.28 Q172.325 1213.28 175.38 1217.89 Q178.459 1222.47 178.459 1231.22 Q178.459 1239.95 175.38 1244.56 Q172.325 1249.14 166.515 1249.14 Q160.704 1249.14 157.626 1244.56 Q154.57 1239.95 154.57 1231.22 Q154.57 1222.47 157.626 1217.89 Q160.704 1213.28 166.515 1213.28 Z\" fill=\"#000000\" fill-rule=\"evenodd\" fill-opacity=\"1\" /><path clip-path=\"url(#clip900)\" d=\"M 0 0 M193.528 1216.99 Q189.917 1216.99 188.089 1220.55 Q186.283 1224.09 186.283 1231.22 Q186.283 1238.33 188.089 1241.89 Q189.917 1245.44 193.528 1245.44 Q197.163 1245.44 198.968 1241.89 Q200.797 1238.33 200.797 1231.22 Q200.797 1224.09 198.968 1220.55 Q197.163 1216.99 193.528 1216.99 M193.528 1213.28 Q199.338 1213.28 202.394 1217.89 Q205.473 1222.47 205.473 1231.22 Q205.473 1239.95 202.394 1244.56 Q199.338 1249.14 193.528 1249.14 Q187.718 1249.14 184.639 1244.56 Q181.584 1239.95 181.584 1231.22 Q181.584 1222.47 184.639 1217.89 Q187.718 1213.28 193.528 1213.28 Z\" fill=\"#000000\" fill-rule=\"evenodd\" fill-opacity=\"1\" /><path clip-path=\"url(#clip900)\" d=\"M 0 0 M135.126 985.854 L151.445 985.854 L151.445 989.789 L129.501 989.789 L129.501 985.854 Q132.163 983.099 136.746 978.47 Q141.353 973.817 142.533 972.474 Q144.779 969.951 145.658 968.215 Q146.561 966.456 146.561 964.766 Q146.561 962.011 144.617 960.275 Q142.695 958.539 139.593 958.539 Q137.394 958.539 134.941 959.303 Q132.51 960.067 129.732 961.618 L129.732 956.896 Q132.556 955.761 135.01 955.183 Q137.464 954.604 139.501 954.604 Q144.871 954.604 148.066 957.289 Q151.26 959.974 151.26 964.465 Q151.26 966.595 150.45 968.516 Q149.663 970.414 147.556 973.007 Q146.978 973.678 143.876 976.896 Q140.774 980.09 135.126 985.854 Z\" fill=\"#000000\" fill-rule=\"evenodd\" fill-opacity=\"1\" /><path clip-path=\"url(#clip900)\" d=\"M 0 0 M166.515 958.308 Q162.903 958.308 161.075 961.872 Q159.269 965.414 159.269 972.544 Q159.269 979.65 161.075 983.215 Q162.903 986.757 166.515 986.757 Q170.149 986.757 171.954 983.215 Q173.783 979.65 173.783 972.544 Q173.783 965.414 171.954 961.872 Q170.149 958.308 166.515 958.308 M166.515 954.604 Q172.325 954.604 175.38 959.21 Q178.459 963.794 178.459 972.544 Q178.459 981.27 175.38 985.877 Q172.325 990.46 166.515 990.46 Q160.704 990.46 157.626 985.877 Q154.57 981.27 154.57 972.544 Q154.57 963.794 157.626 959.21 Q160.704 954.604 166.515 954.604 Z\" fill=\"#000000\" fill-rule=\"evenodd\" fill-opacity=\"1\" /><path clip-path=\"url(#clip900)\" d=\"M 0 0 M193.528 958.308 Q189.917 958.308 188.089 961.872 Q186.283 965.414 186.283 972.544 Q186.283 979.65 188.089 983.215 Q189.917 986.757 193.528 986.757 Q197.163 986.757 198.968 983.215 Q200.797 979.65 200.797 972.544 Q200.797 965.414 198.968 961.872 Q197.163 958.308 193.528 958.308 M193.528 954.604 Q199.338 954.604 202.394 959.21 Q205.473 963.794 205.473 972.544 Q205.473 981.27 202.394 985.877 Q199.338 990.46 193.528 990.46 Q187.718 990.46 184.639 985.877 Q181.584 981.27 181.584 972.544 Q181.584 963.794 184.639 959.21 Q187.718 954.604 193.528 954.604 Z\" fill=\"#000000\" fill-rule=\"evenodd\" fill-opacity=\"1\" /><path clip-path=\"url(#clip900)\" d=\"M 0 0 M144.316 712.476 Q147.672 713.193 149.547 715.462 Q151.445 717.73 151.445 721.064 Q151.445 726.179 147.927 728.98 Q144.408 731.781 137.927 731.781 Q135.751 731.781 133.436 731.341 Q131.144 730.925 128.691 730.068 L128.691 725.554 Q130.635 726.688 132.95 727.267 Q135.265 727.846 137.788 727.846 Q142.186 727.846 144.478 726.11 Q146.792 724.374 146.792 721.064 Q146.792 718.008 144.64 716.295 Q142.51 714.559 138.691 714.559 L134.663 714.559 L134.663 710.716 L138.876 710.716 Q142.325 710.716 144.154 709.351 Q145.982 707.962 145.982 705.369 Q145.982 702.707 144.084 701.295 Q142.209 699.86 138.691 699.86 Q136.769 699.86 134.57 700.277 Q132.371 700.693 129.732 701.573 L129.732 697.406 Q132.394 696.666 134.709 696.295 Q137.047 695.925 139.107 695.925 Q144.431 695.925 147.533 698.355 Q150.635 700.763 150.635 704.883 Q150.635 707.753 148.992 709.744 Q147.348 711.712 144.316 712.476 Z\" fill=\"#000000\" fill-rule=\"evenodd\" fill-opacity=\"1\" /><path clip-path=\"url(#clip900)\" d=\"M 0 0 M166.515 699.628 Q162.903 699.628 161.075 703.193 Q159.269 706.735 159.269 713.864 Q159.269 720.971 161.075 724.536 Q162.903 728.077 166.515 728.077 Q170.149 728.077 171.954 724.536 Q173.783 720.971 173.783 713.864 Q173.783 706.735 171.954 703.193 Q170.149 699.628 166.515 699.628 M166.515 695.925 Q172.325 695.925 175.38 700.531 Q178.459 705.115 178.459 713.864 Q178.459 722.591 175.38 727.198 Q172.325 731.781 166.515 731.781 Q160.704 731.781 157.626 727.198 Q154.57 722.591 154.57 713.864 Q154.57 705.115 157.626 700.531 Q160.704 695.925 166.515 695.925 Z\" fill=\"#000000\" fill-rule=\"evenodd\" fill-opacity=\"1\" /><path clip-path=\"url(#clip900)\" d=\"M 0 0 M193.528 699.628 Q189.917 699.628 188.089 703.193 Q186.283 706.735 186.283 713.864 Q186.283 720.971 188.089 724.536 Q189.917 728.077 193.528 728.077 Q197.163 728.077 198.968 724.536 Q200.797 720.971 200.797 713.864 Q200.797 706.735 198.968 703.193 Q197.163 699.628 193.528 699.628 M193.528 695.925 Q199.338 695.925 202.394 700.531 Q205.473 705.115 205.473 713.864 Q205.473 722.591 202.394 727.198 Q199.338 731.781 193.528 731.781 Q187.718 731.781 184.639 727.198 Q181.584 722.591 181.584 713.864 Q181.584 705.115 184.639 700.531 Q187.718 695.925 193.528 695.925 Z\" fill=\"#000000\" fill-rule=\"evenodd\" fill-opacity=\"1\" /><path clip-path=\"url(#clip900)\" d=\"M 0 0 M141.862 441.945 L130.056 460.394 L141.862 460.394 L141.862 441.945 M140.635 437.871 L146.515 437.871 L146.515 460.394 L151.445 460.394 L151.445 464.282 L146.515 464.282 L146.515 472.431 L141.862 472.431 L141.862 464.282 L126.26 464.282 L126.26 459.769 L140.635 437.871 Z\" fill=\"#000000\" fill-rule=\"evenodd\" fill-opacity=\"1\" /><path clip-path=\"url(#clip900)\" d=\"M 0 0 M166.515 440.949 Q162.903 440.949 161.075 444.514 Q159.269 448.056 159.269 455.185 Q159.269 462.292 161.075 465.857 Q162.903 469.398 166.515 469.398 Q170.149 469.398 171.954 465.857 Q173.783 462.292 173.783 455.185 Q173.783 448.056 171.954 444.514 Q170.149 440.949 166.515 440.949 M166.515 437.246 Q172.325 437.246 175.38 441.852 Q178.459 446.435 178.459 455.185 Q178.459 463.912 175.38 468.519 Q172.325 473.102 166.515 473.102 Q160.704 473.102 157.626 468.519 Q154.57 463.912 154.57 455.185 Q154.57 446.435 157.626 441.852 Q160.704 437.246 166.515 437.246 Z\" fill=\"#000000\" fill-rule=\"evenodd\" fill-opacity=\"1\" /><path clip-path=\"url(#clip900)\" d=\"M 0 0 M193.528 440.949 Q189.917 440.949 188.089 444.514 Q186.283 448.056 186.283 455.185 Q186.283 462.292 188.089 465.857 Q189.917 469.398 193.528 469.398 Q197.163 469.398 198.968 465.857 Q200.797 462.292 200.797 455.185 Q200.797 448.056 198.968 444.514 Q197.163 440.949 193.528 440.949 M193.528 437.246 Q199.338 437.246 202.394 441.852 Q205.473 446.435 205.473 455.185 Q205.473 463.912 202.394 468.519 Q199.338 473.102 193.528 473.102 Q187.718 473.102 184.639 468.519 Q181.584 463.912 181.584 455.185 Q181.584 446.435 184.639 441.852 Q187.718 437.246 193.528 437.246 Z\" fill=\"#000000\" fill-rule=\"evenodd\" fill-opacity=\"1\" /><path clip-path=\"url(#clip900)\" d=\"M 0 0 M130.543 179.191 L148.899 179.191 L148.899 183.127 L134.825 183.127 L134.825 191.599 Q135.843 191.252 136.862 191.089 Q137.88 190.904 138.899 190.904 Q144.686 190.904 148.066 194.076 Q151.445 197.247 151.445 202.663 Q151.445 208.242 147.973 211.344 Q144.501 214.423 138.181 214.423 Q136.005 214.423 133.737 214.052 Q131.492 213.682 129.084 212.941 L129.084 208.242 Q131.168 209.376 133.39 209.932 Q135.612 210.488 138.089 210.488 Q142.093 210.488 144.431 208.381 Q146.769 206.275 146.769 202.663 Q146.769 199.052 144.431 196.946 Q142.093 194.839 138.089 194.839 Q136.214 194.839 134.339 195.256 Q132.487 195.673 130.543 196.552 L130.543 179.191 Z\" fill=\"#000000\" fill-rule=\"evenodd\" fill-opacity=\"1\" /><path clip-path=\"url(#clip900)\" d=\"M 0 0 M166.515 182.27 Q162.903 182.27 161.075 185.835 Q159.269 189.377 159.269 196.506 Q159.269 203.613 161.075 207.177 Q162.903 210.719 166.515 210.719 Q170.149 210.719 171.954 207.177 Q173.783 203.613 173.783 196.506 Q173.783 189.377 171.954 185.835 Q170.149 182.27 166.515 182.27 M166.515 178.566 Q172.325 178.566 175.38 183.173 Q178.459 187.756 178.459 196.506 Q178.459 205.233 175.38 209.839 Q172.325 214.423 166.515 214.423 Q160.704 214.423 157.626 209.839 Q154.57 205.233 154.57 196.506 Q154.57 187.756 157.626 183.173 Q160.704 178.566 166.515 178.566 Z\" fill=\"#000000\" fill-rule=\"evenodd\" fill-opacity=\"1\" /><path clip-path=\"url(#clip900)\" d=\"M 0 0 M193.528 182.27 Q189.917 182.27 188.089 185.835 Q186.283 189.377 186.283 196.506 Q186.283 203.613 188.089 207.177 Q189.917 210.719 193.528 210.719 Q197.163 210.719 198.968 207.177 Q200.797 203.613 200.797 196.506 Q200.797 189.377 198.968 185.835 Q197.163 182.27 193.528 182.27 M193.528 178.566 Q199.338 178.566 202.394 183.173 Q205.473 187.756 205.473 196.506 Q205.473 205.233 202.394 209.839 Q199.338 214.423 193.528 214.423 Q187.718 214.423 184.639 209.839 Q181.584 205.233 181.584 196.506 Q181.584 187.756 184.639 183.173 Q187.718 178.566 193.528 178.566 Z\" fill=\"#000000\" fill-rule=\"evenodd\" fill-opacity=\"1\" /><path clip-path=\"url(#clip900)\" d=\"M 0 0 M709.425 20.1573 L698.325 50.2555 L720.565 50.2555 L709.425 20.1573 M704.807 12.096 L714.083 12.096 L737.133 72.576 L728.626 72.576 L723.117 57.061 L695.854 57.061 L690.345 72.576 L681.717 72.576 L704.807 12.096 Z\" fill=\"#000000\" fill-rule=\"evenodd\" fill-opacity=\"1\" /><path clip-path=\"url(#clip900)\" d=\"M 0 0 M753.458 18.8205 L753.458 41.5461 L763.747 41.5461 Q769.459 41.5461 772.578 38.5889 Q775.698 35.6318 775.698 30.163 Q775.698 24.7348 772.578 21.7777 Q769.459 18.8205 763.747 18.8205 L753.458 18.8205 M745.275 12.096 L763.747 12.096 Q773.915 12.096 779.1 16.714 Q784.326 21.2916 784.326 30.163 Q784.326 39.1155 779.1 43.6931 Q773.915 48.2706 763.747 48.2706 L753.458 48.2706 L753.458 72.576 L745.275 72.576 L745.275 12.096 Z\" fill=\"#000000\" fill-rule=\"evenodd\" fill-opacity=\"1\" /><path clip-path=\"url(#clip900)\" d=\"M 0 0 M792.468 12.096 L800.651 12.096 L800.651 65.6895 L830.101 65.6895 L830.101 72.576 L792.468 72.576 L792.468 12.096 Z\" fill=\"#000000\" fill-rule=\"evenodd\" fill-opacity=\"1\" /><path clip-path=\"url(#clip900)\" d=\"M 0 0 M833.18 12.096 L841.403 12.096 L841.403 48.8377 Q841.403 58.5599 844.927 62.8538 Q848.452 67.1073 856.351 67.1073 Q864.21 67.1073 867.734 62.8538 Q871.258 58.5599 871.258 48.8377 L871.258 12.096 L879.482 12.096 L879.482 49.8504 Q879.482 61.6791 873.608 67.7149 Q867.775 73.7508 856.351 73.7508 Q844.887 73.7508 839.013 67.7149 Q833.18 61.6791 833.18 49.8504 L833.18 12.096 Z\" fill=\"#000000\" fill-rule=\"evenodd\" fill-opacity=\"1\" /><path clip-path=\"url(#clip900)\" d=\"M 0 0 M908.608 12.096 L916.872 12.096 L929.591 63.2184 L942.271 12.096 L951.466 12.096 L964.186 63.2184 L976.865 12.096 L985.17 12.096 L969.979 72.576 L959.69 72.576 L946.929 20.0763 L934.047 72.576 L923.758 72.576 L908.608 12.096 Z\" fill=\"#000000\" fill-rule=\"evenodd\" fill-opacity=\"1\" /><path clip-path=\"url(#clip900)\" d=\"M 0 0 M1026.93 48.0275 L1026.93 51.6733 L992.664 51.6733 Q993.15 59.3701 997.282 63.421 Q1001.45 67.4314 1008.87 67.4314 Q1013.16 67.4314 1017.17 66.3781 Q1021.22 65.3249 1025.19 63.2184 L1025.19 70.267 Q1021.18 71.9684 1016.97 72.8596 Q1012.76 73.7508 1008.42 73.7508 Q997.566 73.7508 991.206 67.4314 Q984.886 61.1119 984.886 50.3365 Q984.886 39.1965 990.882 32.6746 Q996.917 26.1121 1007.13 26.1121 Q1016.28 26.1121 1021.59 32.0264 Q1026.93 37.9003 1026.93 48.0275 M1019.48 45.84 Q1019.4 39.7232 1016.04 36.0774 Q1012.72 32.4315 1007.21 32.4315 Q1000.97 32.4315 997.201 35.9558 Q993.474 39.4801 992.907 45.8805 L1019.48 45.84 Z\" fill=\"#000000\" fill-rule=\"evenodd\" fill-opacity=\"1\" /><path clip-path=\"url(#clip900)\" d=\"M 0 0 M1063.68 28.5427 L1063.68 35.5912 Q1060.52 33.9709 1057.11 33.1607 Q1053.71 32.3505 1050.07 32.3505 Q1044.52 32.3505 1041.72 34.0519 Q1038.97 35.7533 1038.97 39.156 Q1038.97 41.7486 1040.95 43.2475 Q1042.94 44.7058 1048.93 46.0426 L1051.48 46.6097 Q1059.42 48.3111 1062.74 51.4303 Q1066.11 54.509 1066.11 60.0587 Q1066.11 66.3781 1061.08 70.0644 Q1056.1 73.7508 1047.35 73.7508 Q1043.71 73.7508 1039.74 73.0216 Q1035.81 72.3329 1031.43 70.9151 L1031.43 63.2184 Q1035.56 65.3654 1039.57 66.4591 Q1043.58 67.5124 1047.51 67.5124 Q1052.78 67.5124 1055.61 65.73 Q1058.45 63.9071 1058.45 60.6258 Q1058.45 57.5877 1056.38 55.9673 Q1054.36 54.3469 1047.43 52.8481 L1044.84 52.2405 Q1037.91 50.7821 1034.83 47.7845 Q1031.76 44.7463 1031.76 39.4801 Q1031.76 33.0797 1036.29 29.5959 Q1040.83 26.1121 1049.17 26.1121 Q1053.31 26.1121 1056.95 26.7198 Q1060.6 27.3274 1063.68 28.5427 Z\" fill=\"#000000\" fill-rule=\"evenodd\" fill-opacity=\"1\" /><path clip-path=\"url(#clip900)\" d=\"M 0 0 M1081.3 14.324 L1081.3 27.2059 L1096.65 27.2059 L1096.65 32.9987 L1081.3 32.9987 L1081.3 57.6282 Q1081.3 63.1779 1082.8 64.7578 Q1084.34 66.3376 1088.99 66.3376 L1096.65 66.3376 L1096.65 72.576 L1088.99 72.576 Q1080.37 72.576 1077.08 69.3758 Q1073.8 66.1351 1073.8 57.6282 L1073.8 32.9987 L1068.33 32.9987 L1068.33 27.2059 L1073.8 27.2059 L1073.8 14.324 L1081.3 14.324 Z\" fill=\"#000000\" fill-rule=\"evenodd\" fill-opacity=\"1\" /><path clip-path=\"url(#clip900)\" d=\"M 0 0 M1143.28 48.0275 L1143.28 51.6733 L1109.01 51.6733 Q1109.49 59.3701 1113.62 63.421 Q1117.8 67.4314 1125.21 67.4314 Q1129.5 67.4314 1133.51 66.3781 Q1137.56 65.3249 1141.53 63.2184 L1141.53 70.267 Q1137.52 71.9684 1133.31 72.8596 Q1129.1 73.7508 1124.76 73.7508 Q1113.91 73.7508 1107.55 67.4314 Q1101.23 61.1119 1101.23 50.3365 Q1101.23 39.1965 1107.22 32.6746 Q1113.26 26.1121 1123.47 26.1121 Q1132.62 26.1121 1137.93 32.0264 Q1143.28 37.9003 1143.28 48.0275 M1135.82 45.84 Q1135.74 39.7232 1132.38 36.0774 Q1129.06 32.4315 1123.55 32.4315 Q1117.31 32.4315 1113.54 35.9558 Q1109.82 39.4801 1109.25 45.8805 L1135.82 45.84 Z\" fill=\"#000000\" fill-rule=\"evenodd\" fill-opacity=\"1\" /><path clip-path=\"url(#clip900)\" d=\"M 0 0 M1177.39 34.1734 Q1176.13 33.4443 1174.63 33.1202 Q1173.17 32.7556 1171.39 32.7556 Q1165.07 32.7556 1161.67 36.8875 Q1158.31 40.9789 1158.31 48.6757 L1158.31 72.576 L1150.81 72.576 L1150.81 27.2059 L1158.31 27.2059 L1158.31 34.2544 Q1160.65 30.1225 1164.42 28.1376 Q1168.19 26.1121 1173.58 26.1121 Q1174.35 26.1121 1175.28 26.2337 Q1176.21 26.3147 1177.34 26.5172 L1177.39 34.1734 Z\" fill=\"#000000\" fill-rule=\"evenodd\" fill-opacity=\"1\" /><path clip-path=\"url(#clip900)\" d=\"M 0 0 M1221.46 45.1919 L1221.46 72.576 L1214.01 72.576 L1214.01 45.4349 Q1214.01 38.994 1211.49 35.7938 Q1208.98 32.5936 1203.96 32.5936 Q1197.92 32.5936 1194.44 36.4419 Q1190.96 40.2903 1190.96 46.9338 L1190.96 72.576 L1183.46 72.576 L1183.46 27.2059 L1190.96 27.2059 L1190.96 34.2544 Q1193.63 30.163 1197.23 28.1376 Q1200.88 26.1121 1205.62 26.1121 Q1213.44 26.1121 1217.45 30.9732 Q1221.46 35.7938 1221.46 45.1919 Z\" fill=\"#000000\" fill-rule=\"evenodd\" fill-opacity=\"1\" /><path clip-path=\"url(#clip900)\" d=\"M 0 0 M1301.26 16.7545 L1301.26 25.383 Q1297.13 21.5346 1292.43 19.6307 Q1287.77 17.7268 1282.51 17.7268 Q1272.14 17.7268 1266.63 24.0867 Q1261.12 30.4061 1261.12 42.3968 Q1261.12 54.3469 1266.63 60.7069 Q1272.14 67.0263 1282.51 67.0263 Q1287.77 67.0263 1292.43 65.1223 Q1297.13 63.2184 1301.26 59.3701 L1301.26 67.9175 Q1296.97 70.8341 1292.15 72.2924 Q1287.37 73.7508 1282.02 73.7508 Q1268.29 73.7508 1260.39 65.3654 Q1252.49 56.9395 1252.49 42.3968 Q1252.49 27.8135 1260.39 19.4281 Q1268.29 11.0023 1282.02 11.0023 Q1287.45 11.0023 1292.23 12.4606 Q1297.05 13.8784 1301.26 16.7545 Z\" fill=\"#000000\" fill-rule=\"evenodd\" fill-opacity=\"1\" /><path clip-path=\"url(#clip900)\" d=\"M 0 0 M1309.08 9.54393 L1316.53 9.54393 L1316.53 72.576 L1309.08 72.576 L1309.08 9.54393 Z\" fill=\"#000000\" fill-rule=\"evenodd\" fill-opacity=\"1\" /><path clip-path=\"url(#clip900)\" d=\"M 0 0 M1323.58 54.671 L1323.58 27.2059 L1331.04 27.2059 L1331.04 54.3874 Q1331.04 60.8284 1333.55 64.0691 Q1336.06 67.2693 1341.08 67.2693 Q1347.12 67.2693 1350.6 63.421 Q1354.13 59.5726 1354.13 52.9291 L1354.13 27.2059 L1361.58 27.2059 L1361.58 72.576 L1354.13 72.576 L1354.13 65.6084 Q1351.41 69.7404 1347.81 71.7658 Q1344.24 73.7508 1339.5 73.7508 Q1331.68 73.7508 1327.63 68.8897 Q1323.58 64.0286 1323.58 54.671 M1342.34 26.1121 L1342.34 26.1121 Z\" fill=\"#000000\" fill-rule=\"evenodd\" fill-opacity=\"1\" /><path clip-path=\"url(#clip900)\" d=\"M 0 0 M1398.32 28.5427 L1398.32 35.5912 Q1395.16 33.9709 1391.76 33.1607 Q1388.36 32.3505 1384.71 32.3505 Q1379.16 32.3505 1376.37 34.0519 Q1373.61 35.7533 1373.61 39.156 Q1373.61 41.7486 1375.6 43.2475 Q1377.58 44.7058 1383.58 46.0426 L1386.13 46.6097 Q1394.07 48.3111 1397.39 51.4303 Q1400.75 54.509 1400.75 60.0587 Q1400.75 66.3781 1395.73 70.0644 Q1390.75 73.7508 1382 73.7508 Q1378.35 73.7508 1374.38 73.0216 Q1370.45 72.3329 1366.08 70.9151 L1366.08 63.2184 Q1370.21 65.3654 1374.22 66.4591 Q1378.23 67.5124 1382.16 67.5124 Q1387.42 67.5124 1390.26 65.73 Q1393.1 63.9071 1393.1 60.6258 Q1393.1 57.5877 1391.03 55.9673 Q1389 54.3469 1382.08 52.8481 L1379.48 52.2405 Q1372.56 50.7821 1369.48 47.7845 Q1366.4 44.7463 1366.4 39.4801 Q1366.4 33.0797 1370.94 29.5959 Q1375.47 26.1121 1383.82 26.1121 Q1387.95 26.1121 1391.6 26.7198 Q1395.24 27.3274 1398.32 28.5427 Z\" fill=\"#000000\" fill-rule=\"evenodd\" fill-opacity=\"1\" /><path clip-path=\"url(#clip900)\" d=\"M 0 0 M1415.94 14.324 L1415.94 27.2059 L1431.3 27.2059 L1431.3 32.9987 L1415.94 32.9987 L1415.94 57.6282 Q1415.94 63.1779 1417.44 64.7578 Q1418.98 66.3376 1423.64 66.3376 L1431.3 66.3376 L1431.3 72.576 L1423.64 72.576 Q1415.01 72.576 1411.73 69.3758 Q1408.45 66.1351 1408.45 57.6282 L1408.45 32.9987 L1402.98 32.9987 L1402.98 27.2059 L1408.45 27.2059 L1408.45 14.324 L1415.94 14.324 Z\" fill=\"#000000\" fill-rule=\"evenodd\" fill-opacity=\"1\" /><path clip-path=\"url(#clip900)\" d=\"M 0 0 M1477.92 48.0275 L1477.92 51.6733 L1443.65 51.6733 Q1444.14 59.3701 1448.27 63.421 Q1452.44 67.4314 1459.85 67.4314 Q1464.15 67.4314 1468.16 66.3781 Q1472.21 65.3249 1476.18 63.2184 L1476.18 70.267 Q1472.17 71.9684 1467.96 72.8596 Q1463.74 73.7508 1459.41 73.7508 Q1448.55 73.7508 1442.19 67.4314 Q1435.87 61.1119 1435.87 50.3365 Q1435.87 39.1965 1441.87 32.6746 Q1447.9 26.1121 1458.11 26.1121 Q1467.27 26.1121 1472.57 32.0264 Q1477.92 37.9003 1477.92 48.0275 M1470.47 45.84 Q1470.39 39.7232 1467.02 36.0774 Q1463.7 32.4315 1458.19 32.4315 Q1451.96 32.4315 1448.19 35.9558 Q1444.46 39.4801 1443.89 45.8805 L1470.47 45.84 Z\" fill=\"#000000\" fill-rule=\"evenodd\" fill-opacity=\"1\" /><path clip-path=\"url(#clip900)\" d=\"M 0 0 M1512.03 34.1734 Q1510.77 33.4443 1509.28 33.1202 Q1507.82 32.7556 1506.04 32.7556 Q1499.72 32.7556 1496.31 36.8875 Q1492.95 40.9789 1492.95 48.6757 L1492.95 72.576 L1485.46 72.576 L1485.46 27.2059 L1492.95 27.2059 L1492.95 34.2544 Q1495.3 30.1225 1499.07 28.1376 Q1502.83 26.1121 1508.22 26.1121 Q1508.99 26.1121 1509.92 26.2337 Q1510.86 26.3147 1511.99 26.5172 L1512.03 34.1734 Z\" fill=\"#000000\" fill-rule=\"evenodd\" fill-opacity=\"1\" /><path clip-path=\"url(#clip900)\" d=\"M 0 0 M1553.43 65.7705 L1553.43 89.8329 L1545.94 89.8329 L1545.94 27.2059 L1553.43 27.2059 L1553.43 34.0924 Q1555.78 30.0415 1559.34 28.0971 Q1562.95 26.1121 1567.93 26.1121 Q1576.2 26.1121 1581.34 32.6746 Q1586.53 39.2371 1586.53 49.9314 Q1586.53 60.6258 1581.34 67.1883 Q1576.2 73.7508 1567.93 73.7508 Q1562.95 73.7508 1559.34 71.8063 Q1555.78 69.8214 1553.43 65.7705 M1578.79 49.9314 Q1578.79 41.7081 1575.39 37.0496 Q1572.02 32.3505 1566.11 32.3505 Q1560.2 32.3505 1556.79 37.0496 Q1553.43 41.7081 1553.43 49.9314 Q1553.43 58.1548 1556.79 62.8538 Q1560.2 67.5124 1566.11 67.5124 Q1572.02 67.5124 1575.39 62.8538 Q1578.79 58.1548 1578.79 49.9314 Z\" fill=\"#000000\" fill-rule=\"evenodd\" fill-opacity=\"1\" /><path clip-path=\"url(#clip900)\" d=\"M 0 0 M1620.64 34.1734 Q1619.38 33.4443 1617.88 33.1202 Q1616.42 32.7556 1614.64 32.7556 Q1608.32 32.7556 1604.92 36.8875 Q1601.56 40.9789 1601.56 48.6757 L1601.56 72.576 L1594.06 72.576 L1594.06 27.2059 L1601.56 27.2059 L1601.56 34.2544 Q1603.9 30.1225 1607.67 28.1376 Q1611.44 26.1121 1616.83 26.1121 Q1617.6 26.1121 1618.53 26.2337 Q1619.46 26.3147 1620.59 26.5172 L1620.64 34.1734 Z\" fill=\"#000000\" fill-rule=\"evenodd\" fill-opacity=\"1\" /><path clip-path=\"url(#clip900)\" d=\"M 0 0 M1644.21 32.4315 Q1638.22 32.4315 1634.73 37.1306 Q1631.25 41.7891 1631.25 49.9314 Q1631.25 58.0738 1634.69 62.7728 Q1638.18 67.4314 1644.21 67.4314 Q1650.17 67.4314 1653.65 62.7323 Q1657.13 58.0333 1657.13 49.9314 Q1657.13 41.8701 1653.65 37.1711 Q1650.17 32.4315 1644.21 32.4315 M1644.21 26.1121 Q1653.93 26.1121 1659.48 32.4315 Q1665.03 38.7509 1665.03 49.9314 Q1665.03 61.0714 1659.48 67.4314 Q1653.93 73.7508 1644.21 73.7508 Q1634.45 73.7508 1628.9 67.4314 Q1623.39 61.0714 1623.39 49.9314 Q1623.39 38.7509 1628.9 32.4315 Q1634.45 26.1121 1644.21 26.1121 Z\" fill=\"#000000\" fill-rule=\"evenodd\" fill-opacity=\"1\" /><path clip-path=\"url(#clip900)\" d=\"M 0 0 M1702.71 49.3643 Q1702.71 41.2625 1699.34 36.8065 Q1696.02 32.3505 1689.99 32.3505 Q1683.99 32.3505 1680.63 36.8065 Q1677.31 41.2625 1677.31 49.3643 Q1677.31 57.4256 1680.63 61.8816 Q1683.99 66.3376 1689.99 66.3376 Q1696.02 66.3376 1699.34 61.8816 Q1702.71 57.4256 1702.71 49.3643 M1710.16 66.9452 Q1710.16 78.5308 1705.02 84.1616 Q1699.87 89.8329 1689.26 89.8329 Q1685.33 89.8329 1681.84 89.2252 Q1678.36 88.6581 1675.08 87.4428 L1675.08 80.1917 Q1678.36 81.9741 1681.56 82.8248 Q1684.76 83.6755 1688.08 83.6755 Q1695.41 83.6755 1699.06 79.8271 Q1702.71 76.0193 1702.71 68.282 L1702.71 64.5957 Q1700.4 68.6061 1696.79 70.5911 Q1693.19 72.576 1688.16 72.576 Q1679.82 72.576 1674.71 66.2161 Q1669.61 59.8562 1669.61 49.3643 Q1669.61 38.832 1674.71 32.472 Q1679.82 26.1121 1688.16 26.1121 Q1693.19 26.1121 1696.79 28.0971 Q1700.4 30.082 1702.71 34.0924 L1702.71 27.2059 L1710.16 27.2059 L1710.16 66.9452 Z\" fill=\"#000000\" fill-rule=\"evenodd\" fill-opacity=\"1\" /><path clip-path=\"url(#clip900)\" d=\"M 0 0 M1744.27 34.1734 Q1743.01 33.4443 1741.51 33.1202 Q1740.06 32.7556 1738.27 32.7556 Q1731.95 32.7556 1728.55 36.8875 Q1725.19 40.9789 1725.19 48.6757 L1725.19 72.576 L1717.69 72.576 L1717.69 27.2059 L1725.19 27.2059 L1725.19 34.2544 Q1727.54 30.1225 1731.31 28.1376 Q1735.07 26.1121 1740.46 26.1121 Q1741.23 26.1121 1742.16 26.2337 Q1743.09 26.3147 1744.23 26.5172 L1744.27 34.1734 Z\" fill=\"#000000\" fill-rule=\"evenodd\" fill-opacity=\"1\" /><path clip-path=\"url(#clip900)\" d=\"M 0 0 M1772.71 49.7694 Q1763.67 49.7694 1760.19 51.8354 Q1756.7 53.9013 1756.7 58.8839 Q1756.7 62.8538 1759.3 65.2034 Q1761.93 67.5124 1766.43 67.5124 Q1772.63 67.5124 1776.35 63.1374 Q1780.12 58.7219 1780.12 51.4303 L1780.12 49.7694 L1772.71 49.7694 M1787.57 46.6907 L1787.57 72.576 L1780.12 72.576 L1780.12 65.6895 Q1777.57 69.8214 1773.76 71.8063 Q1769.95 73.7508 1764.44 73.7508 Q1757.47 73.7508 1753.34 69.8619 Q1749.25 65.9325 1749.25 59.3701 Q1749.25 51.7138 1754.36 47.825 Q1759.5 43.9361 1769.67 43.9361 L1780.12 43.9361 L1780.12 43.2069 Q1780.12 38.0623 1776.72 35.2672 Q1773.35 32.4315 1767.24 32.4315 Q1763.35 32.4315 1759.66 33.3632 Q1755.98 34.295 1752.57 36.1584 L1752.57 29.2718 Q1756.66 27.692 1760.51 26.9223 Q1764.36 26.1121 1768.01 26.1121 Q1777.85 26.1121 1782.71 31.2163 Q1787.57 36.3204 1787.57 46.6907 Z\" fill=\"#000000\" fill-rule=\"evenodd\" fill-opacity=\"1\" /><path clip-path=\"url(#clip900)\" d=\"M 0 0 M1830.71 35.9153 Q1833.51 30.8922 1837.4 28.5022 Q1841.29 26.1121 1846.55 26.1121 Q1853.64 26.1121 1857.49 31.0947 Q1861.34 36.0368 1861.34 45.1919 L1861.34 72.576 L1853.85 72.576 L1853.85 45.4349 Q1853.85 38.913 1851.54 35.7533 Q1849.23 32.5936 1844.49 32.5936 Q1838.7 32.5936 1835.33 36.4419 Q1831.97 40.2903 1831.97 46.9338 L1831.97 72.576 L1824.48 72.576 L1824.48 45.4349 Q1824.48 38.8725 1822.17 35.7533 Q1819.86 32.5936 1815.04 32.5936 Q1809.33 32.5936 1805.96 36.4824 Q1802.6 40.3308 1802.6 46.9338 L1802.6 72.576 L1795.11 72.576 L1795.11 27.2059 L1802.6 27.2059 L1802.6 34.2544 Q1805.15 30.082 1808.72 28.0971 Q1812.28 26.1121 1817.18 26.1121 Q1822.13 26.1121 1825.57 28.6237 Q1829.05 31.1352 1830.71 35.9153 Z\" fill=\"#000000\" fill-rule=\"evenodd\" fill-opacity=\"1\" /><path clip-path=\"url(#clip900)\" d=\"M 0 0 M1898.08 28.5427 L1898.08 35.5912 Q1894.92 33.9709 1891.52 33.1607 Q1888.12 32.3505 1884.47 32.3505 Q1878.92 32.3505 1876.13 34.0519 Q1873.37 35.7533 1873.37 39.156 Q1873.37 41.7486 1875.36 43.2475 Q1877.34 44.7058 1883.34 46.0426 L1885.89 46.6097 Q1893.83 48.3111 1897.15 51.4303 Q1900.51 54.509 1900.51 60.0587 Q1900.51 66.3781 1895.49 70.0644 Q1890.51 73.7508 1881.76 73.7508 Q1878.11 73.7508 1874.14 73.0216 Q1870.21 72.3329 1865.84 70.9151 L1865.84 63.2184 Q1869.97 65.3654 1873.98 66.4591 Q1877.99 67.5124 1881.92 67.5124 Q1887.18 67.5124 1890.02 65.73 Q1892.86 63.9071 1892.86 60.6258 Q1892.86 57.5877 1890.79 55.9673 Q1888.76 54.3469 1881.84 52.8481 L1879.24 52.2405 Q1872.32 50.7821 1869.24 47.7845 Q1866.16 44.7463 1866.16 39.4801 Q1866.16 33.0797 1870.7 29.5959 Q1875.23 26.1121 1883.58 26.1121 Q1887.71 26.1121 1891.36 26.7198 Q1895 27.3274 1898.08 28.5427 Z\" fill=\"#000000\" fill-rule=\"evenodd\" fill-opacity=\"1\" /><path clip-path=\"url(#clip900)\" d=\"M 0 0 M1157.71 1550.7 L1157.71 1569.6 L1151.82 1569.6 L1151.82 1520.4 L1157.71 1520.4 L1157.71 1525.81 Q1159.55 1522.62 1162.35 1521.1 Q1165.18 1519.54 1169.1 1519.54 Q1175.59 1519.54 1179.63 1524.69 Q1183.71 1529.85 1183.71 1538.25 Q1183.71 1546.65 1179.63 1551.81 Q1175.59 1556.97 1169.1 1556.97 Q1165.18 1556.97 1162.35 1555.44 Q1159.55 1553.88 1157.71 1550.7 M1177.63 1538.25 Q1177.63 1531.79 1174.96 1528.13 Q1172.31 1524.44 1167.67 1524.44 Q1163.02 1524.44 1160.35 1528.13 Q1157.71 1531.79 1157.71 1538.25 Q1157.71 1544.71 1160.35 1548.4 Q1163.02 1552.07 1167.67 1552.07 Q1172.31 1552.07 1174.96 1548.4 Q1177.63 1544.71 1177.63 1538.25 Z\" fill=\"#000000\" fill-rule=\"evenodd\" fill-opacity=\"1\" /><path clip-path=\"url(#clip900)\" d=\"M 0 0 M1210.51 1525.87 Q1209.52 1525.3 1208.34 1525.04 Q1207.2 1524.76 1205.8 1524.76 Q1200.83 1524.76 1198.16 1528 Q1195.52 1531.22 1195.52 1537.27 L1195.52 1556.04 L1189.63 1556.04 L1189.63 1520.4 L1195.52 1520.4 L1195.52 1525.93 Q1197.36 1522.69 1200.32 1521.13 Q1203.28 1519.54 1207.52 1519.54 Q1208.12 1519.54 1208.85 1519.63 Q1209.59 1519.7 1210.48 1519.85 L1210.51 1525.87 Z\" fill=\"#000000\" fill-rule=\"evenodd\" fill-opacity=\"1\" /><path clip-path=\"url(#clip900)\" d=\"M 0 0 M1229.03 1524.5 Q1224.32 1524.5 1221.58 1528.19 Q1218.85 1531.85 1218.85 1538.25 Q1218.85 1544.65 1221.55 1548.34 Q1224.29 1552 1229.03 1552 Q1233.71 1552 1236.45 1548.31 Q1239.19 1544.62 1239.19 1538.25 Q1239.19 1531.92 1236.45 1528.23 Q1233.71 1524.5 1229.03 1524.5 M1229.03 1519.54 Q1236.67 1519.54 1241.03 1524.5 Q1245.39 1529.47 1245.39 1538.25 Q1245.39 1547 1241.03 1552 Q1236.67 1556.97 1229.03 1556.97 Q1221.36 1556.97 1217 1552 Q1212.67 1547 1212.67 1538.25 Q1212.67 1529.47 1217 1524.5 Q1221.36 1519.54 1229.03 1519.54 Z\" fill=\"#000000\" fill-rule=\"evenodd\" fill-opacity=\"1\" /><path clip-path=\"url(#clip900)\" d=\"M 0 0 M1274.99 1537.81 Q1274.99 1531.44 1272.35 1527.94 Q1269.74 1524.44 1265 1524.44 Q1260.29 1524.44 1257.65 1527.94 Q1255.04 1531.44 1255.04 1537.81 Q1255.04 1544.14 1257.65 1547.64 Q1260.29 1551.14 1265 1551.14 Q1269.74 1551.14 1272.35 1547.64 Q1274.99 1544.14 1274.99 1537.81 M1280.85 1551.62 Q1280.85 1560.72 1276.81 1565.15 Q1272.77 1569.6 1264.43 1569.6 Q1261.34 1569.6 1258.6 1569.13 Q1255.86 1568.68 1253.29 1567.72 L1253.29 1562.03 Q1255.86 1563.43 1258.38 1564.1 Q1260.89 1564.76 1263.5 1564.76 Q1269.26 1564.76 1272.13 1561.74 Q1274.99 1558.75 1274.99 1552.67 L1274.99 1549.77 Q1273.18 1552.92 1270.35 1554.48 Q1267.51 1556.04 1263.57 1556.04 Q1257.01 1556.04 1253 1551.05 Q1248.99 1546.05 1248.99 1537.81 Q1248.99 1529.53 1253 1524.53 Q1257.01 1519.54 1263.57 1519.54 Q1267.51 1519.54 1270.35 1521.1 Q1273.18 1522.66 1274.99 1525.81 L1274.99 1520.4 L1280.85 1520.4 L1280.85 1551.62 Z\" fill=\"#000000\" fill-rule=\"evenodd\" fill-opacity=\"1\" /><path clip-path=\"url(#clip900)\" d=\"M 0 0 M1307.65 1525.87 Q1306.66 1525.3 1305.48 1525.04 Q1304.34 1524.76 1302.94 1524.76 Q1297.97 1524.76 1295.3 1528 Q1292.66 1531.22 1292.66 1537.27 L1292.66 1556.04 L1286.77 1556.04 L1286.77 1520.4 L1292.66 1520.4 L1292.66 1525.93 Q1294.5 1522.69 1297.46 1521.13 Q1300.42 1519.54 1304.66 1519.54 Q1305.26 1519.54 1305.99 1519.63 Q1306.73 1519.7 1307.62 1519.85 L1307.65 1525.87 Z\" fill=\"#000000\" fill-rule=\"evenodd\" fill-opacity=\"1\" /><path clip-path=\"url(#clip900)\" d=\"M 0 0 M1329.99 1538.12 Q1322.9 1538.12 1320.16 1539.75 Q1317.42 1541.37 1317.42 1545.29 Q1317.42 1548.4 1319.46 1550.25 Q1321.53 1552.07 1325.06 1552.07 Q1329.93 1552.07 1332.86 1548.63 Q1335.82 1545.16 1335.82 1539.43 L1335.82 1538.12 L1329.99 1538.12 M1341.67 1535.71 L1341.67 1556.04 L1335.82 1556.04 L1335.82 1550.63 Q1333.81 1553.88 1330.82 1555.44 Q1327.83 1556.97 1323.5 1556.97 Q1318.03 1556.97 1314.78 1553.91 Q1311.56 1550.82 1311.56 1545.67 Q1311.56 1539.65 1315.57 1536.6 Q1319.62 1533.54 1327.61 1533.54 L1335.82 1533.54 L1335.82 1532.97 Q1335.82 1528.93 1333.14 1526.73 Q1330.5 1524.5 1325.7 1524.5 Q1322.64 1524.5 1319.74 1525.23 Q1316.85 1525.97 1314.17 1527.43 L1314.17 1522.02 Q1317.39 1520.78 1320.41 1520.17 Q1323.44 1519.54 1326.3 1519.54 Q1334.04 1519.54 1337.85 1523.55 Q1341.67 1527.56 1341.67 1535.71 Z\" fill=\"#000000\" fill-rule=\"evenodd\" fill-opacity=\"1\" /><path clip-path=\"url(#clip900)\" d=\"M 0 0 M1375.57 1527.24 Q1377.77 1523.29 1380.82 1521.41 Q1383.88 1519.54 1388.02 1519.54 Q1393.59 1519.54 1396.61 1523.45 Q1399.63 1527.33 1399.63 1534.53 L1399.63 1556.04 L1393.75 1556.04 L1393.75 1534.72 Q1393.75 1529.59 1391.93 1527.11 Q1390.12 1524.63 1386.39 1524.63 Q1381.84 1524.63 1379.2 1527.65 Q1376.56 1530.68 1376.56 1535.9 L1376.56 1556.04 L1370.67 1556.04 L1370.67 1534.72 Q1370.67 1529.56 1368.86 1527.11 Q1367.04 1524.63 1363.25 1524.63 Q1358.77 1524.63 1356.12 1527.68 Q1353.48 1530.71 1353.48 1535.9 L1353.48 1556.04 L1347.59 1556.04 L1347.59 1520.4 L1353.48 1520.4 L1353.48 1525.93 Q1355.49 1522.66 1358.29 1521.1 Q1361.09 1519.54 1364.94 1519.54 Q1368.82 1519.54 1371.53 1521.51 Q1374.27 1523.48 1375.57 1527.24 Z\" fill=\"#000000\" fill-rule=\"evenodd\" fill-opacity=\"1\" /><path clip-path=\"url(#clip900)\" d=\"M 0 0 M1428.5 1521.45 L1428.5 1526.98 Q1426.02 1525.71 1423.35 1525.07 Q1420.67 1524.44 1417.81 1524.44 Q1413.45 1524.44 1411.25 1525.77 Q1409.09 1527.11 1409.09 1529.79 Q1409.09 1531.82 1410.65 1533 Q1412.21 1534.15 1416.92 1535.2 L1418.92 1535.64 Q1425.16 1536.98 1427.77 1539.43 Q1430.41 1541.85 1430.41 1546.21 Q1430.41 1551.17 1426.47 1554.07 Q1422.55 1556.97 1415.68 1556.97 Q1412.81 1556.97 1409.69 1556.39 Q1406.6 1555.85 1403.17 1554.74 L1403.17 1548.69 Q1406.41 1550.38 1409.56 1551.24 Q1412.72 1552.07 1415.8 1552.07 Q1419.94 1552.07 1422.17 1550.66 Q1424.4 1549.23 1424.4 1546.65 Q1424.4 1544.27 1422.77 1542.99 Q1421.18 1541.72 1415.74 1540.54 L1413.7 1540.07 Q1408.26 1538.92 1405.84 1536.56 Q1403.42 1534.18 1403.42 1530.04 Q1403.42 1525.01 1406.99 1522.27 Q1410.55 1519.54 1417.11 1519.54 Q1420.35 1519.54 1423.22 1520.01 Q1426.08 1520.49 1428.5 1521.45 Z\" fill=\"#000000\" fill-rule=\"evenodd\" fill-opacity=\"1\" /><path clip-path=\"url(#clip900)\" d=\"M 0 0 M53.7248 1049.74 L59.1993 1049.74 Q57.8307 1052.22 57.1623 1054.74 Q56.4621 1057.22 56.4621 1059.77 Q56.4621 1065.46 60.0905 1068.62 Q63.6872 1071.77 70.212 1071.77 Q76.7369 1071.77 80.3653 1068.62 Q83.9619 1065.46 83.9619 1059.77 Q83.9619 1057.22 83.2935 1054.74 Q82.5933 1052.22 81.2247 1049.74 L86.6355 1049.74 Q87.7814 1052.19 88.3543 1054.83 Q88.9272 1057.44 88.9272 1060.4 Q88.9272 1068.46 83.8664 1073.2 Q78.8057 1077.94 70.212 1077.94 Q61.491 1077.94 56.4939 1073.17 Q51.4968 1068.36 51.4968 1060.02 Q51.4968 1057.32 52.0697 1054.74 Q52.6108 1052.16 53.7248 1049.74 Z\" fill=\"#000000\" fill-rule=\"evenodd\" fill-opacity=\"1\" /><path clip-path=\"url(#clip900)\" d=\"M 0 0 M73.9359 1044.2 L52.3562 1044.2 L52.3562 1038.35 L73.7131 1038.35 Q78.7739 1038.35 81.3202 1036.37 Q83.8346 1034.4 83.8346 1030.45 Q83.8346 1025.71 80.8109 1022.97 Q77.7872 1020.2 72.5673 1020.2 L52.3562 1020.2 L52.3562 1014.35 L88.0042 1014.35 L88.0042 1020.2 L82.5296 1020.2 Q85.7762 1022.34 87.3676 1025.17 Q88.9272 1027.97 88.9272 1031.69 Q88.9272 1037.84 85.1078 1041.02 Q81.2883 1044.2 73.9359 1044.2 M51.4968 1029.47 L51.4968 1029.47 Z\" fill=\"#000000\" fill-rule=\"evenodd\" fill-opacity=\"1\" /><path clip-path=\"url(#clip900)\" d=\"M 0 0 M57.8307 987.548 Q57.2578 988.535 57.0032 989.712 Q56.7167 990.858 56.7167 992.259 Q56.7167 997.224 59.9632 999.897 Q63.1779 1002.54 69.2253 1002.54 L88.0042 1002.54 L88.0042 1008.43 L52.3562 1008.43 L52.3562 1002.54 L57.8944 1002.54 Q54.6479 1000.69 53.0883 997.733 Q51.4968 994.773 51.4968 990.54 Q51.4968 989.935 51.5923 989.203 Q51.656 988.471 51.8151 987.58 L57.8307 987.548 Z\" fill=\"#000000\" fill-rule=\"evenodd\" fill-opacity=\"1\" /><path clip-path=\"url(#clip900)\" d=\"M 0 0 M57.8307 961.894 Q57.2578 962.881 57.0032 964.058 Q56.7167 965.204 56.7167 966.605 Q56.7167 971.57 59.9632 974.244 Q63.1779 976.885 69.2253 976.885 L88.0042 976.885 L88.0042 982.774 L52.3562 982.774 L52.3562 976.885 L57.8944 976.885 Q54.6479 975.039 53.0883 972.079 Q51.4968 969.119 51.4968 964.886 Q51.4968 964.281 51.5923 963.549 Q51.656 962.817 51.8151 961.926 L57.8307 961.894 Z\" fill=\"#000000\" fill-rule=\"evenodd\" fill-opacity=\"1\" /><path clip-path=\"url(#clip900)\" d=\"M 0 0 M52.3562 955.751 L52.3562 949.895 L88.0042 949.895 L88.0042 955.751 L52.3562 955.751 M38.479 955.751 L38.479 949.895 L45.895 949.895 L45.895 955.751 L38.479 955.751 Z\" fill=\"#000000\" fill-rule=\"evenodd\" fill-opacity=\"1\" /><path clip-path=\"url(#clip900)\" d=\"M 0 0 M53.7248 918.098 L59.1993 918.098 Q57.8307 920.581 57.1623 923.095 Q56.4621 925.578 56.4621 928.124 Q56.4621 933.821 60.0905 936.972 Q63.6872 940.123 70.212 940.123 Q76.7369 940.123 80.3653 936.972 Q83.9619 933.821 83.9619 928.124 Q83.9619 925.578 83.2935 923.095 Q82.5933 920.581 81.2247 918.098 L86.6355 918.098 Q87.7814 920.549 88.3543 923.191 Q88.9272 925.801 88.9272 928.761 Q88.9272 936.813 83.8664 941.556 Q78.8057 946.298 70.212 946.298 Q61.491 946.298 56.4939 941.524 Q51.4968 936.718 51.4968 928.379 Q51.4968 925.673 52.0697 923.095 Q52.6108 920.517 53.7248 918.098 Z\" fill=\"#000000\" fill-rule=\"evenodd\" fill-opacity=\"1\" /><path clip-path=\"url(#clip900)\" d=\"M 0 0 M73.9359 912.56 L52.3562 912.56 L52.3562 906.703 L73.7131 906.703 Q78.7739 906.703 81.3202 904.73 Q83.8346 902.757 83.8346 898.81 Q83.8346 894.068 80.8109 891.33 Q77.7872 888.561 72.5673 888.561 L52.3562 888.561 L52.3562 882.705 L88.0042 882.705 L88.0042 888.561 L82.5296 888.561 Q85.7762 890.694 87.3676 893.526 Q88.9272 896.327 88.9272 900.051 Q88.9272 906.194 85.1078 909.377 Q81.2883 912.56 73.9359 912.56 M51.4968 897.823 L51.4968 897.823 Z\" fill=\"#000000\" fill-rule=\"evenodd\" fill-opacity=\"1\" /><path clip-path=\"url(#clip900)\" d=\"M 0 0 M38.479 876.562 L38.479 870.705 L88.0042 870.705 L88.0042 876.562 L38.479 876.562 Z\" fill=\"#000000\" fill-rule=\"evenodd\" fill-opacity=\"1\" /><path clip-path=\"url(#clip900)\" d=\"M 0 0 M70.0847 848.362 Q70.0847 855.46 71.7079 858.197 Q73.3312 860.934 77.2461 860.934 Q80.3653 860.934 82.2114 858.897 Q84.0256 856.828 84.0256 853.295 Q84.0256 848.425 80.5881 845.497 Q77.1188 842.537 71.3897 842.537 L70.0847 842.537 L70.0847 848.362 M67.6657 836.681 L88.0042 836.681 L88.0042 842.537 L82.5933 842.537 Q85.8398 844.542 87.3994 847.534 Q88.9272 850.526 88.9272 854.855 Q88.9272 860.329 85.8716 863.576 Q82.7843 866.79 77.6281 866.79 Q71.6125 866.79 68.5569 862.78 Q65.5014 858.738 65.5014 850.749 L65.5014 842.537 L64.9285 842.537 Q60.8862 842.537 58.6901 845.211 Q56.4621 847.852 56.4621 852.659 Q56.4621 855.714 57.1941 858.611 Q57.9262 861.507 59.3903 864.181 L53.9795 864.181 Q52.7381 860.966 52.1334 857.942 Q51.4968 854.918 51.4968 852.054 Q51.4968 844.32 55.5072 840.5 Q59.5176 836.681 67.6657 836.681 Z\" fill=\"#000000\" fill-rule=\"evenodd\" fill-opacity=\"1\" /><path clip-path=\"url(#clip900)\" d=\"M 0 0 M57.8307 809.881 Q57.2578 810.868 57.0032 812.045 Q56.7167 813.191 56.7167 814.592 Q56.7167 819.557 59.9632 822.231 Q63.1779 824.872 69.2253 824.872 L88.0042 824.872 L88.0042 830.761 L52.3562 830.761 L52.3562 824.872 L57.8944 824.872 Q54.6479 823.026 53.0883 820.066 Q51.4968 817.106 51.4968 812.873 Q51.4968 812.268 51.5923 811.536 Q51.656 810.804 51.8151 809.913 L57.8307 809.881 Z\" fill=\"#000000\" fill-rule=\"evenodd\" fill-opacity=\"1\" /><path clip-path=\"url(#clip900)\" d=\"M 0 0 M53.7248 757.364 L59.1993 757.364 Q57.8307 759.847 57.1623 762.361 Q56.4621 764.844 56.4621 767.39 Q56.4621 773.087 60.0905 776.238 Q63.6872 779.389 70.212 779.389 Q76.7369 779.389 80.3653 776.238 Q83.9619 773.087 83.9619 767.39 Q83.9619 764.844 83.2935 762.361 Q82.5933 759.847 81.2247 757.364 L86.6355 757.364 Q87.7814 759.815 88.3543 762.457 Q88.9272 765.066 88.9272 768.027 Q88.9272 776.079 83.8664 780.822 Q78.8057 785.564 70.212 785.564 Q61.491 785.564 56.4939 780.79 Q51.4968 775.984 51.4968 767.645 Q51.4968 764.939 52.0697 762.361 Q52.6108 759.783 53.7248 757.364 Z\" fill=\"#000000\" fill-rule=\"evenodd\" fill-opacity=\"1\" /><path clip-path=\"url(#clip900)\" d=\"M 0 0 M56.4621 737.407 Q56.4621 742.118 60.1542 744.855 Q63.8145 747.593 70.212 747.593 Q76.6095 747.593 80.3017 744.887 Q83.9619 742.15 83.9619 737.407 Q83.9619 732.729 80.2698 729.991 Q76.5777 727.254 70.212 727.254 Q63.8781 727.254 60.186 729.991 Q56.4621 732.729 56.4621 737.407 M51.4968 737.407 Q51.4968 729.769 56.4621 725.408 Q61.4273 721.048 70.212 721.048 Q78.9649 721.048 83.9619 725.408 Q88.9272 729.769 88.9272 737.407 Q88.9272 745.078 83.9619 749.439 Q78.9649 753.767 70.212 753.767 Q61.4273 753.767 56.4621 749.439 Q51.4968 745.078 51.4968 737.407 Z\" fill=\"#000000\" fill-rule=\"evenodd\" fill-opacity=\"1\" /><path clip-path=\"url(#clip900)\" d=\"M 0 0 M59.1993 687.15 Q55.2526 684.954 53.3747 681.899 Q51.4968 678.843 51.4968 674.705 Q51.4968 669.135 55.4117 666.112 Q59.2948 663.088 66.4881 663.088 L88.0042 663.088 L88.0042 668.976 L66.679 668.976 Q61.5546 668.976 59.072 670.79 Q56.5894 672.605 56.5894 676.329 Q56.5894 680.88 59.6131 683.522 Q62.6368 686.164 67.8567 686.164 L88.0042 686.164 L88.0042 692.052 L66.679 692.052 Q61.5228 692.052 59.072 693.866 Q56.5894 695.68 56.5894 699.468 Q56.5894 703.956 59.6449 706.597 Q62.6686 709.239 67.8567 709.239 L88.0042 709.239 L88.0042 715.128 L52.3562 715.128 L52.3562 709.239 L57.8944 709.239 Q54.616 707.234 53.0564 704.433 Q51.4968 701.632 51.4968 697.781 Q51.4968 693.898 53.4702 691.192 Q55.4436 688.455 59.1993 687.15 Z\" fill=\"#000000\" fill-rule=\"evenodd\" fill-opacity=\"1\" /><path clip-path=\"url(#clip900)\" d=\"M 0 0 M82.657 651.279 L101.563 651.279 L101.563 657.168 L52.3562 657.168 L52.3562 651.279 L57.7671 651.279 Q54.5842 649.433 53.0564 646.633 Q51.4968 643.8 51.4968 639.885 Q51.4968 633.392 56.6531 629.35 Q61.8093 625.276 70.212 625.276 Q78.6147 625.276 83.771 629.35 Q88.9272 633.392 88.9272 639.885 Q88.9272 643.8 87.3994 646.633 Q85.8398 649.433 82.657 651.279 M70.212 631.355 Q63.7508 631.355 60.0905 634.028 Q56.3984 636.67 56.3984 641.317 Q56.3984 645.964 60.0905 648.638 Q63.7508 651.279 70.212 651.279 Q76.6732 651.279 80.3653 648.638 Q84.0256 645.964 84.0256 641.317 Q84.0256 636.67 80.3653 634.028 Q76.6732 631.355 70.212 631.355 Z\" fill=\"#000000\" fill-rule=\"evenodd\" fill-opacity=\"1\" /><path clip-path=\"url(#clip900)\" d=\"M 0 0 M38.479 619.133 L38.479 613.276 L88.0042 613.276 L88.0042 619.133 L38.479 619.133 Z\" fill=\"#000000\" fill-rule=\"evenodd\" fill-opacity=\"1\" /><path clip-path=\"url(#clip900)\" d=\"M 0 0 M68.7161 576.642 L71.5806 576.642 L71.5806 603.569 Q77.6281 603.187 80.8109 599.94 Q83.9619 596.662 83.9619 590.837 Q83.9619 587.463 83.1344 584.312 Q82.3069 581.129 80.6518 578.01 L86.1899 578.01 Q87.5267 581.161 88.227 584.471 Q88.9272 587.782 88.9272 591.187 Q88.9272 599.717 83.9619 604.714 Q78.9967 609.68 70.5303 609.68 Q61.7774 609.68 56.6531 604.969 Q51.4968 600.227 51.4968 592.206 Q51.4968 585.012 56.1438 580.843 Q60.7589 576.642 68.7161 576.642 M66.9973 582.498 Q62.1912 582.562 59.3266 585.203 Q56.4621 587.813 56.4621 592.142 Q56.4621 597.044 59.2312 600.004 Q62.0002 602.932 67.0292 603.378 L66.9973 582.498 Z\" fill=\"#000000\" fill-rule=\"evenodd\" fill-opacity=\"1\" /><path clip-path=\"url(#clip900)\" d=\"M 0 0 M52.3562 542.012 L69.7028 554.903 L88.0042 541.344 L88.0042 548.251 L73.9996 558.627 L88.0042 569.003 L88.0042 575.91 L69.3526 562.064 L52.3562 574.732 L52.3562 567.825 L65.0558 558.372 L52.3562 548.919 L52.3562 542.012 Z\" fill=\"#000000\" fill-rule=\"evenodd\" fill-opacity=\"1\" /><path clip-path=\"url(#clip900)\" d=\"M 0 0 M52.3562 535.201 L52.3562 529.344 L88.0042 529.344 L88.0042 535.201 L52.3562 535.201 M38.479 535.201 L38.479 529.344 L45.895 529.344 L45.895 535.201 L38.479 535.201 Z\" fill=\"#000000\" fill-rule=\"evenodd\" fill-opacity=\"1\" /><path clip-path=\"url(#clip900)\" d=\"M 0 0 M42.2347 517.409 L52.3562 517.409 L52.3562 505.346 L56.9077 505.346 L56.9077 517.409 L76.2594 517.409 Q80.6199 517.409 81.8613 516.231 Q83.1026 515.022 83.1026 511.361 L83.1026 505.346 L88.0042 505.346 L88.0042 511.361 Q88.0042 518.141 85.4897 520.719 Q82.9434 523.297 76.2594 523.297 L56.9077 523.297 L56.9077 527.594 L52.3562 527.594 L52.3562 523.297 L42.2347 523.297 L42.2347 517.409 Z\" fill=\"#000000\" fill-rule=\"evenodd\" fill-opacity=\"1\" /><path clip-path=\"url(#clip900)\" d=\"M 0 0 M91.3143 484.371 Q97.68 486.853 99.6216 489.209 Q101.563 491.564 101.563 495.511 L101.563 500.189 L96.6615 500.189 L96.6615 496.752 Q96.6615 494.333 95.5157 492.996 Q94.3699 491.659 90.1048 490.036 L87.4312 488.986 L52.3562 503.404 L52.3562 497.198 L80.238 486.058 L52.3562 474.918 L52.3562 468.711 L91.3143 484.371 Z\" fill=\"#000000\" fill-rule=\"evenodd\" fill-opacity=\"1\" /><path clip-path=\"url(#clip902)\" d=\"\n",
       "M449.813 1114.78 L289.566 1114.78 L610.061 1114.78 L449.813 1114.78 L449.813 997.73 L449.813 1114.78  Z\n",
       "  \" fill=\"#1874cd\" fill-rule=\"evenodd\" fill-opacity=\"0.7\"/>\n",
       "<polyline clip-path=\"url(#clip902)\" style=\"stroke:#000000; stroke-width:4; stroke-opacity:0.7; fill:none\" points=\"\n",
       "  449.813,1114.78 289.566,1114.78 610.061,1114.78 449.813,1114.78 449.813,997.73 449.813,1114.78 \n",
       "  \"/>\n",
       "<path clip-path=\"url(#clip902)\" d=\"\n",
       "M289.566 997.73 L289.566 923.36 L610.061 923.36 L610.061 997.73 L289.566 997.73 L289.566 997.73  Z\n",
       "  \" fill=\"#1874cd\" fill-rule=\"evenodd\" fill-opacity=\"0.7\"/>\n",
       "<polyline clip-path=\"url(#clip902)\" style=\"stroke:#000000; stroke-width:4; stroke-opacity:0.7; fill:none\" points=\"\n",
       "  289.566,997.73 289.566,923.36 610.061,923.36 610.061,997.73 289.566,997.73 \n",
       "  \"/>\n",
       "<path clip-path=\"url(#clip902)\" d=\"\n",
       "M289.566 809.541 L289.566 923.36 L610.061 923.36 L610.061 809.541 L289.566 809.541 L289.566 809.541  Z\n",
       "  \" fill=\"#1874cd\" fill-rule=\"evenodd\" fill-opacity=\"0.7\"/>\n",
       "<polyline clip-path=\"url(#clip902)\" style=\"stroke:#000000; stroke-width:4; stroke-opacity:0.7; fill:none\" points=\"\n",
       "  289.566,809.541 289.566,923.36 610.061,923.36 610.061,809.541 289.566,809.541 \n",
       "  \"/>\n",
       "<path clip-path=\"url(#clip902)\" d=\"\n",
       "M449.813 711.243 L289.566 711.243 L610.061 711.243 L449.813 711.243 L449.813 809.541 L449.813 711.243  Z\n",
       "  \" fill=\"#1874cd\" fill-rule=\"evenodd\" fill-opacity=\"0.7\"/>\n",
       "<polyline clip-path=\"url(#clip902)\" style=\"stroke:#000000; stroke-width:4; stroke-opacity:0.7; fill:none\" points=\"\n",
       "  449.813,711.243 289.566,711.243 610.061,711.243 449.813,711.243 449.813,809.541 449.813,711.243 \n",
       "  \"/>\n",
       "<circle clip-path=\"url(#clip902)\" cx=\"1010.68\" cy=\"695.722\" r=\"14\" fill=\"#1874cd\" fill-rule=\"evenodd\" fill-opacity=\"0.7\" stroke=\"#000000\" stroke-opacity=\"0.7\" stroke-width=\"3.2\"/>\n",
       "<path clip-path=\"url(#clip902)\" d=\"\n",
       "M1010.68 1306.21 L850.433 1306.21 L1170.93 1306.21 L1010.68 1306.21 L1010.68 1209.85 L1010.68 1306.21  Z\n",
       "  \" fill=\"#1874cd\" fill-rule=\"evenodd\" fill-opacity=\"0.7\"/>\n",
       "<polyline clip-path=\"url(#clip902)\" style=\"stroke:#000000; stroke-width:4; stroke-opacity:0.7; fill:none\" points=\"\n",
       "  1010.68,1306.21 850.433,1306.21 1170.93,1306.21 1010.68,1306.21 1010.68,1209.85 1010.68,1306.21 \n",
       "  \"/>\n",
       "<path clip-path=\"url(#clip902)\" d=\"\n",
       "M850.433 1209.85 L850.433 1113.49 L1170.93 1113.49 L1170.93 1209.85 L850.433 1209.85 L850.433 1209.85  Z\n",
       "  \" fill=\"#1874cd\" fill-rule=\"evenodd\" fill-opacity=\"0.7\"/>\n",
       "<polyline clip-path=\"url(#clip902)\" style=\"stroke:#000000; stroke-width:4; stroke-opacity:0.7; fill:none\" points=\"\n",
       "  850.433,1209.85 850.433,1113.49 1170.93,1113.49 1170.93,1209.85 850.433,1209.85 \n",
       "  \"/>\n",
       "<path clip-path=\"url(#clip902)\" d=\"\n",
       "M850.433 1092.79 L850.433 1113.49 L1170.93 1113.49 L1170.93 1092.79 L850.433 1092.79 L850.433 1092.79  Z\n",
       "  \" fill=\"#1874cd\" fill-rule=\"evenodd\" fill-opacity=\"0.7\"/>\n",
       "<polyline clip-path=\"url(#clip902)\" style=\"stroke:#000000; stroke-width:4; stroke-opacity:0.7; fill:none\" points=\"\n",
       "  850.433,1092.79 850.433,1113.49 1170.93,1113.49 1170.93,1092.79 850.433,1092.79 \n",
       "  \"/>\n",
       "<path clip-path=\"url(#clip902)\" d=\"\n",
       "M1010.68 964.749 L850.433 964.749 L1170.93 964.749 L1010.68 964.749 L1010.68 1092.79 L1010.68 964.749  Z\n",
       "  \" fill=\"#1874cd\" fill-rule=\"evenodd\" fill-opacity=\"0.7\"/>\n",
       "<polyline clip-path=\"url(#clip902)\" style=\"stroke:#000000; stroke-width:4; stroke-opacity:0.7; fill:none\" points=\"\n",
       "  1010.68,964.749 850.433,964.749 1170.93,964.749 1010.68,964.749 1010.68,1092.79 1010.68,964.749 \n",
       "  \"/>\n",
       "<path clip-path=\"url(#clip902)\" d=\"\n",
       "M1571.55 1127.72 L1411.3 1127.72 L1731.8 1127.72 L1571.55 1127.72 L1571.55 828.942 L1571.55 1127.72  Z\n",
       "  \" fill=\"#1874cd\" fill-rule=\"evenodd\" fill-opacity=\"0.7\"/>\n",
       "<polyline clip-path=\"url(#clip902)\" style=\"stroke:#000000; stroke-width:4; stroke-opacity:0.7; fill:none\" points=\"\n",
       "  1571.55,1127.72 1411.3,1127.72 1731.8,1127.72 1571.55,1127.72 1571.55,828.942 1571.55,1127.72 \n",
       "  \"/>\n",
       "<path clip-path=\"url(#clip902)\" d=\"\n",
       "M1411.3 828.942 L1411.3 631.052 L1731.8 631.052 L1731.8 828.942 L1411.3 828.942 L1411.3 828.942  Z\n",
       "  \" fill=\"#1874cd\" fill-rule=\"evenodd\" fill-opacity=\"0.7\"/>\n",
       "<polyline clip-path=\"url(#clip902)\" style=\"stroke:#000000; stroke-width:4; stroke-opacity:0.7; fill:none\" points=\"\n",
       "  1411.3,828.942 1411.3,631.052 1731.8,631.052 1731.8,828.942 1411.3,828.942 \n",
       "  \"/>\n",
       "<path clip-path=\"url(#clip902)\" d=\"\n",
       "M1411.3 455.151 L1411.3 631.052 L1731.8 631.052 L1731.8 455.151 L1411.3 455.151 L1411.3 455.151  Z\n",
       "  \" fill=\"#1874cd\" fill-rule=\"evenodd\" fill-opacity=\"0.7\"/>\n",
       "<polyline clip-path=\"url(#clip902)\" style=\"stroke:#000000; stroke-width:4; stroke-opacity:0.7; fill:none\" points=\"\n",
       "  1411.3,455.151 1411.3,631.052 1731.8,631.052 1731.8,455.151 1411.3,455.151 \n",
       "  \"/>\n",
       "<path clip-path=\"url(#clip902)\" d=\"\n",
       "M1571.55 160.256 L1411.3 160.256 L1731.8 160.256 L1571.55 160.256 L1571.55 455.151 L1571.55 160.256  Z\n",
       "  \" fill=\"#1874cd\" fill-rule=\"evenodd\" fill-opacity=\"0.7\"/>\n",
       "<polyline clip-path=\"url(#clip902)\" style=\"stroke:#000000; stroke-width:4; stroke-opacity:0.7; fill:none\" points=\"\n",
       "  1571.55,160.256 1411.3,160.256 1731.8,160.256 1571.55,160.256 1571.55,455.151 1571.55,160.256 \n",
       "  \"/>\n",
       "<path clip-path=\"url(#clip902)\" d=\"\n",
       "M2132.42 1386.4 L1972.17 1386.4 L2292.66 1386.4 L2132.42 1386.4 L2132.42 1308.79 L2132.42 1386.4  Z\n",
       "  \" fill=\"#1874cd\" fill-rule=\"evenodd\" fill-opacity=\"0.7\"/>\n",
       "<polyline clip-path=\"url(#clip902)\" style=\"stroke:#000000; stroke-width:4; stroke-opacity:0.7; fill:none\" points=\"\n",
       "  2132.42,1386.4 1972.17,1386.4 2292.66,1386.4 2132.42,1386.4 2132.42,1308.79 2132.42,1386.4 \n",
       "  \"/>\n",
       "<path clip-path=\"url(#clip902)\" d=\"\n",
       "M1972.17 1308.79 L1972.17 1295.86 L2292.66 1295.86 L2292.66 1308.79 L1972.17 1308.79 L1972.17 1308.79  Z\n",
       "  \" fill=\"#1874cd\" fill-rule=\"evenodd\" fill-opacity=\"0.7\"/>\n",
       "<polyline clip-path=\"url(#clip902)\" style=\"stroke:#000000; stroke-width:4; stroke-opacity:0.7; fill:none\" points=\"\n",
       "  1972.17,1308.79 1972.17,1295.86 2292.66,1295.86 2292.66,1308.79 1972.17,1308.79 \n",
       "  \"/>\n",
       "<path clip-path=\"url(#clip902)\" d=\"\n",
       "M1972.17 1257.06 L1972.17 1295.86 L2292.66 1295.86 L2292.66 1257.06 L1972.17 1257.06 L1972.17 1257.06  Z\n",
       "  \" fill=\"#1874cd\" fill-rule=\"evenodd\" fill-opacity=\"0.7\"/>\n",
       "<polyline clip-path=\"url(#clip902)\" style=\"stroke:#000000; stroke-width:4; stroke-opacity:0.7; fill:none\" points=\"\n",
       "  1972.17,1257.06 1972.17,1295.86 2292.66,1295.86 2292.66,1257.06 1972.17,1257.06 \n",
       "  \"/>\n",
       "<path clip-path=\"url(#clip902)\" d=\"\n",
       "M2132.42 1194.97 L1972.17 1194.97 L2292.66 1194.97 L2132.42 1194.97 L2132.42 1257.06 L2132.42 1194.97  Z\n",
       "  \" fill=\"#1874cd\" fill-rule=\"evenodd\" fill-opacity=\"0.7\"/>\n",
       "<polyline clip-path=\"url(#clip902)\" style=\"stroke:#000000; stroke-width:4; stroke-opacity:0.7; fill:none\" points=\"\n",
       "  2132.42,1194.97 1972.17,1194.97 2292.66,1194.97 2132.42,1194.97 2132.42,1257.06 2132.42,1194.97 \n",
       "  \"/>\n",
       "</svg>\n"
      ]
     },
     "execution_count": 8,
     "metadata": {},
     "output_type": "execute_result"
    }
   ],
   "source": [
    "metric_boxplot([\"Music Education\" \"Animal Science\" \"Mechanical Eng.\" \"Psychology\"], [program_types[\"music-education\"], \n",
    "      program_types[\"animal-science\"], program_types[\"mechanical-engineering\"], program_types[\"psychology\"]], \n",
    "      \"complexity\", title=\"APLU Western Cluster programs\", xlabel=\"programs\", ylabel=\"curricular complexity\")"
   ]
  },
  {
   "cell_type": "markdown",
   "metadata": {},
   "source": [
    "The smallest mean and variance occur in the psychology programs, where the average curricular complexity is 77 units, and the standard deviation is only 2.11.  All but one of the psychology programs have a curricular complexity of less than 100 units.  The largest mean and variance occur in the mechanical engineering programs.  The average complexity for mechanical engineering programs is 319 units, with a variance of 7.13.  Music education programs as a whole have curricula that are more complex than animal science programs.  Music education programs appear closer in curricular complexity to mechanical engineering programs than they do to psychology programs."
   ]
  },
  {
   "cell_type": "markdown",
   "metadata": {},
   "source": [
    "Below are two animal science programs that differ significantly in terms of curricular complexity.  It would be interesting to compare the learning outcomes and student success rates of these two programs."
   ]
  },
  {
   "cell_type": "code",
   "execution_count": 8,
   "metadata": {},
   "outputs": [
    {
     "data": {
      "application/vnd.webio.node+json": {
       "children": [
        {
         "children": [
          ""
         ],
         "instanceArgs": {
          "namespace": "html",
          "tag": "iframe"
         },
         "nodeType": "DOM",
         "props": {
          "events": {
           "load": "(function (){this.contentWindow.postMessage({\"options\":{\"hideTerms\":false,\"edit\":false},\"curriculum\":{\"name\":\"Animal Science\",\"dp_name\":\"4-Year Plan\",\"curriculum_terms\":[{\"name\":\"Term 1\",\"curriculum_items\":[{\"curriculum_requisites\":[],\"name\":\" \",\"metrics\":{\"complexity\":6.0,\"centrality\":0,\"blocking factor\":3,\"delay factor\":3.0},\"nameSub\":\"ENG 101\",\"id\":1,\"credits\":3,\"nameCanonical\":\"\"},{\"curriculum_requisites\":[],\"name\":\" \",\"metrics\":{\"complexity\":30.0,\"centrality\":0,\"blocking factor\":22,\"delay factor\":8.0},\"nameSub\":\"MATH 126\",\"id\":2,\"credits\":3,\"nameCanonical\":\"\"},{\"curriculum_requisites\":[],\"name\":\" \",\"metrics\":{\"complexity\":8.0,\"centrality\":0,\"blocking factor\":5,\"delay factor\":3.0},\"nameSub\":\"AGSC 100\",\"id\":3,\"credits\":3,\"nameCanonical\":\"\"},{\"curriculum_requisites\":[{\"source_id\":2,\"target_id\":4,\"type\":\"CurriculumCorequisite\"}],\"name\":\" \",\"metrics\":{\"complexity\":2.0,\"centrality\":0,\"blocking factor\":0,\"delay factor\":2.0},\"nameSub\":\"ECON 102\",\"id\":4,\"credits\":3,\"nameCanonical\":\"\"},{\"curriculum_requisites\":[],\"name\":\" \",\"metrics\":{\"complexity\":1.0,\"centrality\":0,\"blocking factor\":0,\"delay factor\":1.0},\"nameSub\":\"Fine Arts\",\"id\":5,\"credits\":3,\"nameCanonical\":\"\"}],\"id\":1},{\"name\":\"Term 2\",\"curriculum_items\":[{\"curriculum_requisites\":[{\"source_id\":7,\"target_id\":6,\"type\":\"CurriculumCorequisite\"},{\"source_id\":9,\"target_id\":6,\"type\":\"CurriculumCorequisite\"},{\"source_id\":2,\"target_id\":6,\"type\":\"CurriculumPrerequisite\"}],\"name\":\" \",\"metrics\":{\"complexity\":25.0,\"centrality\":576,\"blocking factor\":17,\"delay factor\":8.0},\"nameSub\":\"CHEM 121A\",\"id\":6,\"credits\":3,\"nameCanonical\":\"\"},{\"curriculum_requisites\":[{\"source_id\":9,\"target_id\":7,\"type\":\"CurriculumCorequisite\"},{\"source_id\":2,\"target_id\":7,\"type\":\"CurriculumPrerequisite\"}],\"name\":\" \",\"metrics\":{\"complexity\":26.0,\"centrality\":576,\"blocking factor\":18,\"delay factor\":8.0},\"nameSub\":\"CHEM 121L\",\"id\":7,\"credits\":1,\"nameCanonical\":\"\"},{\"curriculum_requisites\":[{\"source_id\":1,\"target_id\":8,\"type\":\"CurriculumPrerequisite\"}],\"name\":\" \",\"metrics\":{\"complexity\":4.0,\"centrality\":3,\"blocking factor\":1,\"delay factor\":3.0},\"nameSub\":\"ENG 102\",\"id\":8,\"credits\":3,\"nameCanonical\":\"\"},{\"curriculum_requisites\":[{\"source_id\":2,\"target_id\":9,\"type\":\"CurriculumPrerequisite\"}],\"name\":\" \",\"metrics\":{\"complexity\":27.0,\"centrality\":502,\"blocking factor\":19,\"delay factor\":8.0},\"nameSub\":\"MATH 127\",\"id\":9,\"credits\":3,\"nameCanonical\":\"\"},{\"curriculum_requisites\":[],\"name\":\" \",\"metrics\":{\"complexity\":1.0,\"centrality\":0,\"blocking factor\":0,\"delay factor\":1.0},\"nameSub\":\"Elective\",\"id\":10,\"credits\":3,\"nameCanonical\":\"\"},{\"curriculum_requisites\":[],\"name\":\" \",\"metrics\":{\"complexity\":1.0,\"centrality\":0,\"blocking factor\":0,\"delay factor\":1.0},\"nameSub\":\"AGSC 211\",\"id\":11,\"credits\":3,\"nameCanonical\":\"\"}],\"id\":2},{\"name\":\"Term 3\",\"curriculum_items\":[{\"curriculum_requisites\":[{\"source_id\":2,\"target_id\":12,\"type\":\"CurriculumPrerequisite\"}],\"name\":\" \",\"metrics\":{\"complexity\":2.0,\"centrality\":0,\"blocking factor\":0,\"delay factor\":2.0},\"nameSub\":\"APST 207\",\"id\":12,\"credits\":3,\"nameCanonical\":\"\"},{\"curriculum_requisites\":[{\"source_id\":7,\"target_id\":13,\"type\":\"CurriculumPrerequisite\"},{\"source_id\":6,\"target_id\":13,\"type\":\"CurriculumPrerequisite\"}],\"name\":\" \",\"metrics\":{\"complexity\":17.0,\"centrality\":379,\"blocking factor\":9,\"delay factor\":8.0},\"nameSub\":\"BIOL 190\",\"id\":13,\"credits\":3,\"nameCanonical\":\"\"},{\"curriculum_requisites\":[{\"source_id\":7,\"target_id\":14,\"type\":\"CurriculumPrerequisite\"},{\"source_id\":9,\"target_id\":14,\"type\":\"CurriculumPrerequisite\"},{\"source_id\":15,\"target_id\":14,\"type\":\"CurriculumCorequisite\"},{\"source_id\":6,\"target_id\":14,\"type\":\"CurriculumPrerequisite\"}],\"name\":\" \",\"metrics\":{\"complexity\":12.0,\"centrality\":247,\"blocking factor\":4,\"delay factor\":8.0},\"nameSub\":\"CHEM 122A\",\"id\":14,\"credits\":3,\"nameCanonical\":\"\"},{\"curriculum_requisites\":[{\"source_id\":7,\"target_id\":15,\"type\":\"CurriculumPrerequisite\"},{\"source_id\":9,\"target_id\":15,\"type\":\"CurriculumPrerequisite\"},{\"source_id\":6,\"target_id\":15,\"type\":\"CurriculumPrerequisite\"}],\"name\":\" \",\"metrics\":{\"complexity\":13.0,\"centrality\":247,\"blocking factor\":5,\"delay factor\":8.0},\"nameSub\":\"CHEM 122L\",\"id\":15,\"credits\":1,\"nameCanonical\":\"\"},{\"curriculum_requisites\":[{\"source_id\":1,\"target_id\":16,\"type\":\"CurriculumPrerequisite\"}],\"name\":\" \",\"metrics\":{\"complexity\":4.0,\"centrality\":3,\"blocking factor\":1,\"delay factor\":3.0},\"nameSub\":\"CH 201\",\"id\":16,\"credits\":3,\"nameCanonical\":\"\"},{\"curriculum_requisites\":[],\"name\":\" \",\"metrics\":{\"complexity\":1.0,\"centrality\":0,\"blocking factor\":0,\"delay factor\":1.0},\"nameSub\":\"CH 203\",\"id\":17,\"credits\":3,\"nameCanonical\":\"\"}],\"id\":3},{\"name\":\"Term 4\",\"curriculum_items\":[{\"curriculum_requisites\":[{\"source_id\":7,\"target_id\":18,\"type\":\"CurriculumPrerequisite\"},{\"source_id\":14,\"target_id\":18,\"type\":\"CurriculumPrerequisite\"},{\"source_id\":3,\"target_id\":18,\"type\":\"CurriculumPrerequisite\"},{\"source_id\":15,\"target_id\":18,\"type\":\"CurriculumPrerequisite\"},{\"source_id\":6,\"target_id\":18,\"type\":\"CurriculumPrerequisite\"}],\"name\":\" \",\"metrics\":{\"complexity\":10.0,\"centrality\":318,\"blocking factor\":2,\"delay factor\":8.0},\"nameSub\":\"AGSC 206\",\"id\":18,\"credits\":3,\"nameCanonical\":\"\"},{\"curriculum_requisites\":[{\"source_id\":13,\"target_id\":19,\"type\":\"CurriculumPrerequisite\"}],\"name\":\" \",\"metrics\":{\"complexity\":15.0,\"centrality\":222,\"blocking factor\":7,\"delay factor\":8.0},\"nameSub\":\"BIOL 191\",\"id\":19,\"credits\":3,\"nameCanonical\":\"\"},{\"curriculum_requisites\":[{\"source_id\":13,\"target_id\":20,\"type\":\"CurriculumPrerequisite\"},{\"source_id\":19,\"target_id\":20,\"type\":\"CurriculumCorequisite\"}],\"name\":\" \",\"metrics\":{\"complexity\":7.0,\"centrality\":0,\"blocking factor\":0,\"delay factor\":7.0},\"nameSub\":\"BIOL 192\",\"id\":20,\"credits\":2,\"nameCanonical\":\"\"},{\"curriculum_requisites\":[{\"source_id\":3,\"target_id\":21,\"type\":\"CurriculumPrerequisite\"}],\"name\":\" \",\"metrics\":{\"complexity\":2.0,\"centrality\":0,\"blocking factor\":0,\"delay factor\":2.0},\"nameSub\":\"NRES 241\",\"id\":21,\"credits\":3,\"nameCanonical\":\"\"},{\"curriculum_requisites\":[{\"source_id\":13,\"target_id\":22,\"type\":\"CurriculumPrerequisite\"},{\"source_id\":14,\"target_id\":22,\"type\":\"CurriculumPrerequisite\"},{\"source_id\":19,\"target_id\":22,\"type\":\"CurriculumCorequisite\"},{\"source_id\":15,\"target_id\":22,\"type\":\"CurriculumPrerequisite\"}],\"name\":\" \",\"metrics\":{\"complexity\":7.0,\"centrality\":0,\"blocking factor\":0,\"delay factor\":7.0},\"nameSub\":\"AGSC 211\",\"id\":22,\"credits\":3,\"nameCanonical\":\"\"}],\"id\":4},{\"name\":\"Term 5\",\"curriculum_items\":[{\"curriculum_requisites\":[],\"name\":\" \",\"metrics\":{\"complexity\":1.0,\"centrality\":0,\"blocking factor\":0,\"delay factor\":1.0},\"nameSub\":\"AGSC 250\",\"id\":23,\"credits\":3,\"nameCanonical\":\"\"},{\"curriculum_requisites\":[],\"name\":\" \",\"metrics\":{\"complexity\":1.0,\"centrality\":0,\"blocking factor\":0,\"delay factor\":1.0},\"nameSub\":\"AGSC 416\",\"id\":24,\"credits\":3,\"nameCanonical\":\"\"},{\"curriculum_requisites\":[],\"name\":\" \",\"metrics\":{\"complexity\":1.0,\"centrality\":0,\"blocking factor\":0,\"delay factor\":1.0},\"nameSub\":\"NUTR 325\",\"id\":25,\"credits\":3,\"nameCanonical\":\"\"},{\"curriculum_requisites\":[{\"source_id\":7,\"target_id\":26,\"type\":\"CurriculumPrerequisite\"},{\"source_id\":6,\"target_id\":26,\"type\":\"CurriculumPrerequisite\"}],\"name\":\" \",\"metrics\":{\"complexity\":9.0,\"centrality\":87,\"blocking factor\":3,\"delay factor\":6.0},\"nameSub\":\"CHEM 220A\",\"id\":26,\"credits\":3,\"nameCanonical\":\"\"},{\"curriculum_requisites\":[{\"source_id\":26,\"target_id\":27,\"type\":\"CurriculumCorequisite\"}],\"name\":\" \",\"metrics\":{\"complexity\":6.0,\"centrality\":0,\"blocking factor\":0,\"delay factor\":6.0},\"nameSub\":\"CHEM 220L\",\"id\":27,\"credits\":1,\"nameCanonical\":\"\"},{\"curriculum_requisites\":[],\"name\":\" \",\"metrics\":{\"complexity\":1.0,\"centrality\":0,\"blocking factor\":0,\"delay factor\":1.0},\"nameSub\":\"Elective\",\"id\":28,\"credits\":3,\"nameCanonical\":\"\"}],\"id\":5},{\"name\":\"Term 6\",\"curriculum_items\":[{\"curriculum_requisites\":[{\"source_id\":19,\"target_id\":29,\"type\":\"CurriculumPrerequisite\"}],\"name\":\" \",\"metrics\":{\"complexity\":7.0,\"centrality\":0,\"blocking factor\":0,\"delay factor\":7.0},\"nameSub\":\"AGSC 325\",\"id\":29,\"credits\":3,\"nameCanonical\":\"\"},{\"curriculum_requisites\":[{\"source_id\":3,\"target_id\":30,\"type\":\"CurriculumPrerequisite\"},{\"source_id\":18,\"target_id\":30,\"type\":\"CurriculumPrerequisite\"}],\"name\":\" \",\"metrics\":{\"complexity\":8.0,\"centrality\":0,\"blocking factor\":0,\"delay factor\":8.0},\"nameSub\":\"AGSC 425\",\"id\":30,\"credits\":4,\"nameCanonical\":\"\"},{\"curriculum_requisites\":[{\"source_id\":26,\"target_id\":31,\"type\":\"CurriculumPrerequisite\"},{\"source_id\":13,\"target_id\":31,\"type\":\"CurriculumPrerequisite\"}],\"name\":\" \",\"metrics\":{\"complexity\":6.0,\"centrality\":0,\"blocking factor\":0,\"delay factor\":6.0},\"nameSub\":\"BCH 400\",\"id\":31,\"credits\":4,\"nameCanonical\":\"\"},{\"curriculum_requisites\":[{\"source_id\":13,\"target_id\":32,\"type\":\"CurriculumPrerequisite\"},{\"source_id\":19,\"target_id\":32,\"type\":\"CurriculumPrerequisite\"}],\"name\":\" \",\"metrics\":{\"complexity\":10.0,\"centrality\":152,\"blocking factor\":2,\"delay factor\":8.0},\"nameSub\":\"VM 328\",\"id\":32,\"credits\":4,\"nameCanonical\":\"\"}],\"id\":6},{\"name\":\"Term 7\",\"curriculum_items\":[{\"curriculum_requisites\":[{\"source_id\":32,\"target_id\":33,\"type\":\"CurriculumCorequisite\"}],\"name\":\" \",\"metrics\":{\"complexity\":8.0,\"centrality\":0,\"blocking factor\":0,\"delay factor\":8.0},\"nameSub\":\"AGSC 310\",\"id\":33,\"credits\":3,\"nameCanonical\":\"\"},{\"curriculum_requisites\":[{\"source_id\":26,\"target_id\":34,\"type\":\"CurriculumPrerequisite\"},{\"source_id\":18,\"target_id\":34,\"type\":\"CurriculumPrerequisite\"}],\"name\":\" \",\"metrics\":{\"complexity\":8.0,\"centrality\":0,\"blocking factor\":0,\"delay factor\":8.0},\"nameSub\":\"AGSC 406\",\"id\":34,\"credits\":4,\"nameCanonical\":\"\"},{\"curriculum_requisites\":[{\"source_id\":16,\"target_id\":35,\"type\":\"CurriculumPrerequisite\"},{\"source_id\":8,\"target_id\":35,\"type\":\"CurriculumPrerequisite\"}],\"name\":\" \",\"metrics\":{\"complexity\":3.0,\"centrality\":0,\"blocking factor\":0,\"delay factor\":3.0},\"nameSub\":\"AGSC 415\",\"id\":35,\"credits\":3,\"nameCanonical\":\"\"},{\"curriculum_requisites\":[],\"name\":\" \",\"metrics\":{\"complexity\":1.0,\"centrality\":0,\"blocking factor\":0,\"delay factor\":1.0},\"nameSub\":\"Elective\",\"id\":36,\"credits\":6,\"nameCanonical\":\"\"}],\"id\":7},{\"name\":\"Term 8\",\"curriculum_items\":[{\"curriculum_requisites\":[{\"source_id\":32,\"target_id\":37,\"type\":\"CurriculumPrerequisite\"},{\"source_id\":3,\"target_id\":37,\"type\":\"CurriculumPrerequisite\"}],\"name\":\" \",\"metrics\":{\"complexity\":8.0,\"centrality\":0,\"blocking factor\":0,\"delay factor\":8.0},\"nameSub\":\"AGSC 410\",\"id\":37,\"credits\":3,\"nameCanonical\":\"\"},{\"curriculum_requisites\":[{\"source_id\":19,\"target_id\":38,\"type\":\"CurriculumPrerequisite\"}],\"name\":\" \",\"metrics\":{\"complexity\":7.0,\"centrality\":0,\"blocking factor\":0,\"delay factor\":7.0},\"nameSub\":\"VM 475\",\"id\":38,\"credits\":3,\"nameCanonical\":\"\"},{\"curriculum_requisites\":[],\"name\":\" \",\"metrics\":{\"complexity\":1.0,\"centrality\":0,\"blocking factor\":0,\"delay factor\":1.0},\"nameSub\":\"Electives\",\"id\":39,\"credits\":6,\"nameCanonical\":\"\"}],\"id\":8}],\"institution\":\"University of Nevada-Reno\"}},\"*\"); window.removeEventListener(\"message\",window.messageReceived); window.messageReceived=(function (event){return (event.data.curriculum!==undefined) ? (WebIO.setval({\"name\":\"curriculum-data\",\"scope\":\"644089127279214502\",\"id\":\"4812524561297704311\",\"type\":\"observable\"},event.data.curriculum)) : undefined}); return window.addEventListener(\"message\",window.messageReceived)})"
          },
          "id": "curriculum",
          "src": "http://localhost:8156",
          "style": {
           "border": "none",
           "height": "100vh",
           "margin": "0",
           "padding": "0",
           "width": "100%"
          }
         },
         "type": "node"
        }
       ],
       "instanceArgs": {
        "handlers": {},
        "id": "644089127279214502",
        "imports": {
         "data": [],
         "type": "async_block"
        },
        "mount_callbacks": [],
        "observables": {
         "curriculum-data": {
          "id": "4812524561297704311",
          "sync": true,
          "value": {
           "curriculum": {
            "curriculum_terms": [
             {
              "curriculum_items": [
               {
                "credits": 3,
                "curriculum_requisites": [],
                "id": 1,
                "metrics": {
                 "blocking factor": 3,
                 "centrality": 0,
                 "complexity": 6,
                 "delay factor": 3
                },
                "name": " ",
                "nameCanonical": "",
                "nameSub": "ENG 101"
               },
               {
                "credits": 3,
                "curriculum_requisites": [],
                "id": 2,
                "metrics": {
                 "blocking factor": 22,
                 "centrality": 0,
                 "complexity": 30,
                 "delay factor": 8
                },
                "name": " ",
                "nameCanonical": "",
                "nameSub": "MATH 126"
               },
               {
                "credits": 3,
                "curriculum_requisites": [],
                "id": 3,
                "metrics": {
                 "blocking factor": 5,
                 "centrality": 0,
                 "complexity": 8,
                 "delay factor": 3
                },
                "name": " ",
                "nameCanonical": "",
                "nameSub": "AGSC 100"
               },
               {
                "credits": 3,
                "curriculum_requisites": [
                 {
                  "source_id": 2,
                  "target_id": 4,
                  "type": "CurriculumCorequisite"
                 }
                ],
                "id": 4,
                "metrics": {
                 "blocking factor": 0,
                 "centrality": 0,
                 "complexity": 2,
                 "delay factor": 2
                },
                "name": " ",
                "nameCanonical": "",
                "nameSub": "ECON 102"
               },
               {
                "credits": 3,
                "curriculum_requisites": [],
                "id": 5,
                "metrics": {
                 "blocking factor": 0,
                 "centrality": 0,
                 "complexity": 1,
                 "delay factor": 1
                },
                "name": " ",
                "nameCanonical": "",
                "nameSub": "Fine Arts"
               }
              ],
              "id": 1,
              "name": "Term 1"
             },
             {
              "curriculum_items": [
               {
                "credits": 3,
                "curriculum_requisites": [
                 {
                  "source_id": 7,
                  "target_id": 6,
                  "type": "CurriculumCorequisite"
                 },
                 {
                  "source_id": 9,
                  "target_id": 6,
                  "type": "CurriculumCorequisite"
                 },
                 {
                  "source_id": 2,
                  "target_id": 6,
                  "type": "CurriculumPrerequisite"
                 }
                ],
                "id": 6,
                "metrics": {
                 "blocking factor": 17,
                 "centrality": 576,
                 "complexity": 25,
                 "delay factor": 8
                },
                "name": " ",
                "nameCanonical": "",
                "nameSub": "CHEM 121A"
               },
               {
                "credits": 1,
                "curriculum_requisites": [
                 {
                  "source_id": 9,
                  "target_id": 7,
                  "type": "CurriculumCorequisite"
                 },
                 {
                  "source_id": 2,
                  "target_id": 7,
                  "type": "CurriculumPrerequisite"
                 }
                ],
                "id": 7,
                "metrics": {
                 "blocking factor": 18,
                 "centrality": 576,
                 "complexity": 26,
                 "delay factor": 8
                },
                "name": " ",
                "nameCanonical": "",
                "nameSub": "CHEM 121L"
               },
               {
                "credits": 3,
                "curriculum_requisites": [
                 {
                  "source_id": 1,
                  "target_id": 8,
                  "type": "CurriculumPrerequisite"
                 }
                ],
                "id": 8,
                "metrics": {
                 "blocking factor": 1,
                 "centrality": 3,
                 "complexity": 4,
                 "delay factor": 3
                },
                "name": " ",
                "nameCanonical": "",
                "nameSub": "ENG 102"
               },
               {
                "credits": 3,
                "curriculum_requisites": [
                 {
                  "source_id": 2,
                  "target_id": 9,
                  "type": "CurriculumPrerequisite"
                 }
                ],
                "id": 9,
                "metrics": {
                 "blocking factor": 19,
                 "centrality": 502,
                 "complexity": 27,
                 "delay factor": 8
                },
                "name": " ",
                "nameCanonical": "",
                "nameSub": "MATH 127"
               },
               {
                "credits": 3,
                "curriculum_requisites": [],
                "id": 10,
                "metrics": {
                 "blocking factor": 0,
                 "centrality": 0,
                 "complexity": 1,
                 "delay factor": 1
                },
                "name": " ",
                "nameCanonical": "",
                "nameSub": "Elective"
               },
               {
                "credits": 3,
                "curriculum_requisites": [],
                "id": 11,
                "metrics": {
                 "blocking factor": 0,
                 "centrality": 0,
                 "complexity": 1,
                 "delay factor": 1
                },
                "name": " ",
                "nameCanonical": "",
                "nameSub": "AGSC 211"
               }
              ],
              "id": 2,
              "name": "Term 2"
             },
             {
              "curriculum_items": [
               {
                "credits": 3,
                "curriculum_requisites": [
                 {
                  "source_id": 2,
                  "target_id": 12,
                  "type": "CurriculumPrerequisite"
                 }
                ],
                "id": 12,
                "metrics": {
                 "blocking factor": 0,
                 "centrality": 0,
                 "complexity": 2,
                 "delay factor": 2
                },
                "name": " ",
                "nameCanonical": "",
                "nameSub": "APST 207"
               },
               {
                "credits": 3,
                "curriculum_requisites": [
                 {
                  "source_id": 7,
                  "target_id": 13,
                  "type": "CurriculumPrerequisite"
                 },
                 {
                  "source_id": 6,
                  "target_id": 13,
                  "type": "CurriculumPrerequisite"
                 }
                ],
                "id": 13,
                "metrics": {
                 "blocking factor": 9,
                 "centrality": 379,
                 "complexity": 17,
                 "delay factor": 8
                },
                "name": " ",
                "nameCanonical": "",
                "nameSub": "BIOL 190"
               },
               {
                "credits": 3,
                "curriculum_requisites": [
                 {
                  "source_id": 7,
                  "target_id": 14,
                  "type": "CurriculumPrerequisite"
                 },
                 {
                  "source_id": 9,
                  "target_id": 14,
                  "type": "CurriculumPrerequisite"
                 },
                 {
                  "source_id": 15,
                  "target_id": 14,
                  "type": "CurriculumCorequisite"
                 },
                 {
                  "source_id": 6,
                  "target_id": 14,
                  "type": "CurriculumPrerequisite"
                 }
                ],
                "id": 14,
                "metrics": {
                 "blocking factor": 4,
                 "centrality": 247,
                 "complexity": 12,
                 "delay factor": 8
                },
                "name": " ",
                "nameCanonical": "",
                "nameSub": "CHEM 122A"
               },
               {
                "credits": 1,
                "curriculum_requisites": [
                 {
                  "source_id": 7,
                  "target_id": 15,
                  "type": "CurriculumPrerequisite"
                 },
                 {
                  "source_id": 9,
                  "target_id": 15,
                  "type": "CurriculumPrerequisite"
                 },
                 {
                  "source_id": 6,
                  "target_id": 15,
                  "type": "CurriculumPrerequisite"
                 }
                ],
                "id": 15,
                "metrics": {
                 "blocking factor": 5,
                 "centrality": 247,
                 "complexity": 13,
                 "delay factor": 8
                },
                "name": " ",
                "nameCanonical": "",
                "nameSub": "CHEM 122L"
               },
               {
                "credits": 3,
                "curriculum_requisites": [
                 {
                  "source_id": 1,
                  "target_id": 16,
                  "type": "CurriculumPrerequisite"
                 }
                ],
                "id": 16,
                "metrics": {
                 "blocking factor": 1,
                 "centrality": 3,
                 "complexity": 4,
                 "delay factor": 3
                },
                "name": " ",
                "nameCanonical": "",
                "nameSub": "CH 201"
               },
               {
                "credits": 3,
                "curriculum_requisites": [],
                "id": 17,
                "metrics": {
                 "blocking factor": 0,
                 "centrality": 0,
                 "complexity": 1,
                 "delay factor": 1
                },
                "name": " ",
                "nameCanonical": "",
                "nameSub": "CH 203"
               }
              ],
              "id": 3,
              "name": "Term 3"
             },
             {
              "curriculum_items": [
               {
                "credits": 3,
                "curriculum_requisites": [
                 {
                  "source_id": 7,
                  "target_id": 18,
                  "type": "CurriculumPrerequisite"
                 },
                 {
                  "source_id": 14,
                  "target_id": 18,
                  "type": "CurriculumPrerequisite"
                 },
                 {
                  "source_id": 3,
                  "target_id": 18,
                  "type": "CurriculumPrerequisite"
                 },
                 {
                  "source_id": 15,
                  "target_id": 18,
                  "type": "CurriculumPrerequisite"
                 },
                 {
                  "source_id": 6,
                  "target_id": 18,
                  "type": "CurriculumPrerequisite"
                 }
                ],
                "id": 18,
                "metrics": {
                 "blocking factor": 2,
                 "centrality": 318,
                 "complexity": 10,
                 "delay factor": 8
                },
                "name": " ",
                "nameCanonical": "",
                "nameSub": "AGSC 206"
               },
               {
                "credits": 3,
                "curriculum_requisites": [
                 {
                  "source_id": 13,
                  "target_id": 19,
                  "type": "CurriculumPrerequisite"
                 }
                ],
                "id": 19,
                "metrics": {
                 "blocking factor": 7,
                 "centrality": 222,
                 "complexity": 15,
                 "delay factor": 8
                },
                "name": " ",
                "nameCanonical": "",
                "nameSub": "BIOL 191"
               },
               {
                "credits": 2,
                "curriculum_requisites": [
                 {
                  "source_id": 13,
                  "target_id": 20,
                  "type": "CurriculumPrerequisite"
                 },
                 {
                  "source_id": 19,
                  "target_id": 20,
                  "type": "CurriculumCorequisite"
                 }
                ],
                "id": 20,
                "metrics": {
                 "blocking factor": 0,
                 "centrality": 0,
                 "complexity": 7,
                 "delay factor": 7
                },
                "name": " ",
                "nameCanonical": "",
                "nameSub": "BIOL 192"
               },
               {
                "credits": 3,
                "curriculum_requisites": [
                 {
                  "source_id": 3,
                  "target_id": 21,
                  "type": "CurriculumPrerequisite"
                 }
                ],
                "id": 21,
                "metrics": {
                 "blocking factor": 0,
                 "centrality": 0,
                 "complexity": 2,
                 "delay factor": 2
                },
                "name": " ",
                "nameCanonical": "",
                "nameSub": "NRES 241"
               },
               {
                "credits": 3,
                "curriculum_requisites": [
                 {
                  "source_id": 13,
                  "target_id": 22,
                  "type": "CurriculumPrerequisite"
                 },
                 {
                  "source_id": 14,
                  "target_id": 22,
                  "type": "CurriculumPrerequisite"
                 },
                 {
                  "source_id": 19,
                  "target_id": 22,
                  "type": "CurriculumCorequisite"
                 },
                 {
                  "source_id": 15,
                  "target_id": 22,
                  "type": "CurriculumPrerequisite"
                 }
                ],
                "id": 22,
                "metrics": {
                 "blocking factor": 0,
                 "centrality": 0,
                 "complexity": 7,
                 "delay factor": 7
                },
                "name": " ",
                "nameCanonical": "",
                "nameSub": "AGSC 211"
               }
              ],
              "id": 4,
              "name": "Term 4"
             },
             {
              "curriculum_items": [
               {
                "credits": 3,
                "curriculum_requisites": [],
                "id": 23,
                "metrics": {
                 "blocking factor": 0,
                 "centrality": 0,
                 "complexity": 1,
                 "delay factor": 1
                },
                "name": " ",
                "nameCanonical": "",
                "nameSub": "AGSC 250"
               },
               {
                "credits": 3,
                "curriculum_requisites": [],
                "id": 24,
                "metrics": {
                 "blocking factor": 0,
                 "centrality": 0,
                 "complexity": 1,
                 "delay factor": 1
                },
                "name": " ",
                "nameCanonical": "",
                "nameSub": "AGSC 416"
               },
               {
                "credits": 3,
                "curriculum_requisites": [],
                "id": 25,
                "metrics": {
                 "blocking factor": 0,
                 "centrality": 0,
                 "complexity": 1,
                 "delay factor": 1
                },
                "name": " ",
                "nameCanonical": "",
                "nameSub": "NUTR 325"
               },
               {
                "credits": 3,
                "curriculum_requisites": [
                 {
                  "source_id": 7,
                  "target_id": 26,
                  "type": "CurriculumPrerequisite"
                 },
                 {
                  "source_id": 6,
                  "target_id": 26,
                  "type": "CurriculumPrerequisite"
                 }
                ],
                "id": 26,
                "metrics": {
                 "blocking factor": 3,
                 "centrality": 87,
                 "complexity": 9,
                 "delay factor": 6
                },
                "name": " ",
                "nameCanonical": "",
                "nameSub": "CHEM 220A"
               },
               {
                "credits": 1,
                "curriculum_requisites": [
                 {
                  "source_id": 26,
                  "target_id": 27,
                  "type": "CurriculumCorequisite"
                 }
                ],
                "id": 27,
                "metrics": {
                 "blocking factor": 0,
                 "centrality": 0,
                 "complexity": 6,
                 "delay factor": 6
                },
                "name": " ",
                "nameCanonical": "",
                "nameSub": "CHEM 220L"
               },
               {
                "credits": 3,
                "curriculum_requisites": [],
                "id": 28,
                "metrics": {
                 "blocking factor": 0,
                 "centrality": 0,
                 "complexity": 1,
                 "delay factor": 1
                },
                "name": " ",
                "nameCanonical": "",
                "nameSub": "Elective"
               }
              ],
              "id": 5,
              "name": "Term 5"
             },
             {
              "curriculum_items": [
               {
                "credits": 3,
                "curriculum_requisites": [
                 {
                  "source_id": 19,
                  "target_id": 29,
                  "type": "CurriculumPrerequisite"
                 }
                ],
                "id": 29,
                "metrics": {
                 "blocking factor": 0,
                 "centrality": 0,
                 "complexity": 7,
                 "delay factor": 7
                },
                "name": " ",
                "nameCanonical": "",
                "nameSub": "AGSC 325"
               },
               {
                "credits": 4,
                "curriculum_requisites": [
                 {
                  "source_id": 3,
                  "target_id": 30,
                  "type": "CurriculumPrerequisite"
                 },
                 {
                  "source_id": 18,
                  "target_id": 30,
                  "type": "CurriculumPrerequisite"
                 }
                ],
                "id": 30,
                "metrics": {
                 "blocking factor": 0,
                 "centrality": 0,
                 "complexity": 8,
                 "delay factor": 8
                },
                "name": " ",
                "nameCanonical": "",
                "nameSub": "AGSC 425"
               },
               {
                "credits": 4,
                "curriculum_requisites": [
                 {
                  "source_id": 26,
                  "target_id": 31,
                  "type": "CurriculumPrerequisite"
                 },
                 {
                  "source_id": 13,
                  "target_id": 31,
                  "type": "CurriculumPrerequisite"
                 }
                ],
                "id": 31,
                "metrics": {
                 "blocking factor": 0,
                 "centrality": 0,
                 "complexity": 6,
                 "delay factor": 6
                },
                "name": " ",
                "nameCanonical": "",
                "nameSub": "BCH 400"
               },
               {
                "credits": 4,
                "curriculum_requisites": [
                 {
                  "source_id": 13,
                  "target_id": 32,
                  "type": "CurriculumPrerequisite"
                 },
                 {
                  "source_id": 19,
                  "target_id": 32,
                  "type": "CurriculumPrerequisite"
                 }
                ],
                "id": 32,
                "metrics": {
                 "blocking factor": 2,
                 "centrality": 152,
                 "complexity": 10,
                 "delay factor": 8
                },
                "name": " ",
                "nameCanonical": "",
                "nameSub": "VM 328"
               }
              ],
              "id": 6,
              "name": "Term 6"
             },
             {
              "curriculum_items": [
               {
                "credits": 3,
                "curriculum_requisites": [
                 {
                  "source_id": 32,
                  "target_id": 33,
                  "type": "CurriculumCorequisite"
                 }
                ],
                "id": 33,
                "metrics": {
                 "blocking factor": 0,
                 "centrality": 0,
                 "complexity": 8,
                 "delay factor": 8
                },
                "name": " ",
                "nameCanonical": "",
                "nameSub": "AGSC 310"
               },
               {
                "credits": 4,
                "curriculum_requisites": [
                 {
                  "source_id": 26,
                  "target_id": 34,
                  "type": "CurriculumPrerequisite"
                 },
                 {
                  "source_id": 18,
                  "target_id": 34,
                  "type": "CurriculumPrerequisite"
                 }
                ],
                "id": 34,
                "metrics": {
                 "blocking factor": 0,
                 "centrality": 0,
                 "complexity": 8,
                 "delay factor": 8
                },
                "name": " ",
                "nameCanonical": "",
                "nameSub": "AGSC 406"
               },
               {
                "credits": 3,
                "curriculum_requisites": [
                 {
                  "source_id": 16,
                  "target_id": 35,
                  "type": "CurriculumPrerequisite"
                 },
                 {
                  "source_id": 8,
                  "target_id": 35,
                  "type": "CurriculumPrerequisite"
                 }
                ],
                "id": 35,
                "metrics": {
                 "blocking factor": 0,
                 "centrality": 0,
                 "complexity": 3,
                 "delay factor": 3
                },
                "name": " ",
                "nameCanonical": "",
                "nameSub": "AGSC 415"
               },
               {
                "credits": 6,
                "curriculum_requisites": [],
                "id": 36,
                "metrics": {
                 "blocking factor": 0,
                 "centrality": 0,
                 "complexity": 1,
                 "delay factor": 1
                },
                "name": " ",
                "nameCanonical": "",
                "nameSub": "Elective"
               }
              ],
              "id": 7,
              "name": "Term 7"
             },
             {
              "curriculum_items": [
               {
                "credits": 3,
                "curriculum_requisites": [
                 {
                  "source_id": 32,
                  "target_id": 37,
                  "type": "CurriculumPrerequisite"
                 },
                 {
                  "source_id": 3,
                  "target_id": 37,
                  "type": "CurriculumPrerequisite"
                 }
                ],
                "id": 37,
                "metrics": {
                 "blocking factor": 0,
                 "centrality": 0,
                 "complexity": 8,
                 "delay factor": 8
                },
                "name": " ",
                "nameCanonical": "",
                "nameSub": "AGSC 410"
               },
               {
                "credits": 3,
                "curriculum_requisites": [
                 {
                  "source_id": 19,
                  "target_id": 38,
                  "type": "CurriculumPrerequisite"
                 }
                ],
                "id": 38,
                "metrics": {
                 "blocking factor": 0,
                 "centrality": 0,
                 "complexity": 7,
                 "delay factor": 7
                },
                "name": " ",
                "nameCanonical": "",
                "nameSub": "VM 475"
               },
               {
                "credits": 6,
                "curriculum_requisites": [],
                "id": 39,
                "metrics": {
                 "blocking factor": 0,
                 "centrality": 0,
                 "complexity": 1,
                 "delay factor": 1
                },
                "name": " ",
                "nameCanonical": "",
                "nameSub": "Electives"
               }
              ],
              "id": 8,
              "name": "Term 8"
             }
            ],
            "dp_name": "4-Year Plan",
            "institution": "University of Nevada-Reno",
            "name": "Animal Science"
           },
           "options": {
            "edit": false,
            "hideTerms": false
           }
          }
         }
        },
        "systemjs_options": null
       },
       "nodeType": "Scope",
       "props": {},
       "type": "node"
      },
      "text/html": [
       "<div\n",
       "    class=\"webio-mountpoint\"\n",
       "    data-webio-mountpoint=\"5389168124005782549\"\n",
       ">\n",
       "    <script>\n",
       "    if (window.require && require.defined && require.defined(\"nbextensions/webio-jupyter-notebook\")) {\n",
       "        console.log(\"Jupyter WebIO extension detected, not mounting.\");\n",
       "    } else if (window.WebIO) {\n",
       "        WebIO.mount(\n",
       "            document.querySelector('[data-webio-mountpoint=\"5389168124005782549\"]'),\n",
       "            {\"props\":{},\"nodeType\":\"Scope\",\"type\":\"node\",\"instanceArgs\":{\"imports\":{\"data\":[],\"type\":\"async_block\"},\"id\":\"644089127279214502\",\"handlers\":{},\"systemjs_options\":null,\"mount_callbacks\":[],\"observables\":{\"curriculum-data\":{\"sync\":true,\"id\":\"4812524561297704311\",\"value\":{\"options\":{\"hideTerms\":false,\"edit\":false},\"curriculum\":{\"name\":\"Animal Science\",\"dp_name\":\"4-Year Plan\",\"curriculum_terms\":[{\"name\":\"Term 1\",\"curriculum_items\":[{\"curriculum_requisites\":[],\"name\":\" \",\"metrics\":{\"complexity\":6.0,\"centrality\":0,\"blocking factor\":3,\"delay factor\":3.0},\"nameSub\":\"ENG 101\",\"id\":1,\"credits\":3,\"nameCanonical\":\"\"},{\"curriculum_requisites\":[],\"name\":\" \",\"metrics\":{\"complexity\":30.0,\"centrality\":0,\"blocking factor\":22,\"delay factor\":8.0},\"nameSub\":\"MATH 126\",\"id\":2,\"credits\":3,\"nameCanonical\":\"\"},{\"curriculum_requisites\":[],\"name\":\" \",\"metrics\":{\"complexity\":8.0,\"centrality\":0,\"blocking factor\":5,\"delay factor\":3.0},\"nameSub\":\"AGSC 100\",\"id\":3,\"credits\":3,\"nameCanonical\":\"\"},{\"curriculum_requisites\":[{\"source_id\":2,\"target_id\":4,\"type\":\"CurriculumCorequisite\"}],\"name\":\" \",\"metrics\":{\"complexity\":2.0,\"centrality\":0,\"blocking factor\":0,\"delay factor\":2.0},\"nameSub\":\"ECON 102\",\"id\":4,\"credits\":3,\"nameCanonical\":\"\"},{\"curriculum_requisites\":[],\"name\":\" \",\"metrics\":{\"complexity\":1.0,\"centrality\":0,\"blocking factor\":0,\"delay factor\":1.0},\"nameSub\":\"Fine Arts\",\"id\":5,\"credits\":3,\"nameCanonical\":\"\"}],\"id\":1},{\"name\":\"Term 2\",\"curriculum_items\":[{\"curriculum_requisites\":[{\"source_id\":7,\"target_id\":6,\"type\":\"CurriculumCorequisite\"},{\"source_id\":9,\"target_id\":6,\"type\":\"CurriculumCorequisite\"},{\"source_id\":2,\"target_id\":6,\"type\":\"CurriculumPrerequisite\"}],\"name\":\" \",\"metrics\":{\"complexity\":25.0,\"centrality\":576,\"blocking factor\":17,\"delay factor\":8.0},\"nameSub\":\"CHEM 121A\",\"id\":6,\"credits\":3,\"nameCanonical\":\"\"},{\"curriculum_requisites\":[{\"source_id\":9,\"target_id\":7,\"type\":\"CurriculumCorequisite\"},{\"source_id\":2,\"target_id\":7,\"type\":\"CurriculumPrerequisite\"}],\"name\":\" \",\"metrics\":{\"complexity\":26.0,\"centrality\":576,\"blocking factor\":18,\"delay factor\":8.0},\"nameSub\":\"CHEM 121L\",\"id\":7,\"credits\":1,\"nameCanonical\":\"\"},{\"curriculum_requisites\":[{\"source_id\":1,\"target_id\":8,\"type\":\"CurriculumPrerequisite\"}],\"name\":\" \",\"metrics\":{\"complexity\":4.0,\"centrality\":3,\"blocking factor\":1,\"delay factor\":3.0},\"nameSub\":\"ENG 102\",\"id\":8,\"credits\":3,\"nameCanonical\":\"\"},{\"curriculum_requisites\":[{\"source_id\":2,\"target_id\":9,\"type\":\"CurriculumPrerequisite\"}],\"name\":\" \",\"metrics\":{\"complexity\":27.0,\"centrality\":502,\"blocking factor\":19,\"delay factor\":8.0},\"nameSub\":\"MATH 127\",\"id\":9,\"credits\":3,\"nameCanonical\":\"\"},{\"curriculum_requisites\":[],\"name\":\" \",\"metrics\":{\"complexity\":1.0,\"centrality\":0,\"blocking factor\":0,\"delay factor\":1.0},\"nameSub\":\"Elective\",\"id\":10,\"credits\":3,\"nameCanonical\":\"\"},{\"curriculum_requisites\":[],\"name\":\" \",\"metrics\":{\"complexity\":1.0,\"centrality\":0,\"blocking factor\":0,\"delay factor\":1.0},\"nameSub\":\"AGSC 211\",\"id\":11,\"credits\":3,\"nameCanonical\":\"\"}],\"id\":2},{\"name\":\"Term 3\",\"curriculum_items\":[{\"curriculum_requisites\":[{\"source_id\":2,\"target_id\":12,\"type\":\"CurriculumPrerequisite\"}],\"name\":\" \",\"metrics\":{\"complexity\":2.0,\"centrality\":0,\"blocking factor\":0,\"delay factor\":2.0},\"nameSub\":\"APST 207\",\"id\":12,\"credits\":3,\"nameCanonical\":\"\"},{\"curriculum_requisites\":[{\"source_id\":7,\"target_id\":13,\"type\":\"CurriculumPrerequisite\"},{\"source_id\":6,\"target_id\":13,\"type\":\"CurriculumPrerequisite\"}],\"name\":\" \",\"metrics\":{\"complexity\":17.0,\"centrality\":379,\"blocking factor\":9,\"delay factor\":8.0},\"nameSub\":\"BIOL 190\",\"id\":13,\"credits\":3,\"nameCanonical\":\"\"},{\"curriculum_requisites\":[{\"source_id\":7,\"target_id\":14,\"type\":\"CurriculumPrerequisite\"},{\"source_id\":9,\"target_id\":14,\"type\":\"CurriculumPrerequisite\"},{\"source_id\":15,\"target_id\":14,\"type\":\"CurriculumCorequisite\"},{\"source_id\":6,\"target_id\":14,\"type\":\"CurriculumPrerequisite\"}],\"name\":\" \",\"metrics\":{\"complexity\":12.0,\"centrality\":247,\"blocking factor\":4,\"delay factor\":8.0},\"nameSub\":\"CHEM 122A\",\"id\":14,\"credits\":3,\"nameCanonical\":\"\"},{\"curriculum_requisites\":[{\"source_id\":7,\"target_id\":15,\"type\":\"CurriculumPrerequisite\"},{\"source_id\":9,\"target_id\":15,\"type\":\"CurriculumPrerequisite\"},{\"source_id\":6,\"target_id\":15,\"type\":\"CurriculumPrerequisite\"}],\"name\":\" \",\"metrics\":{\"complexity\":13.0,\"centrality\":247,\"blocking factor\":5,\"delay factor\":8.0},\"nameSub\":\"CHEM 122L\",\"id\":15,\"credits\":1,\"nameCanonical\":\"\"},{\"curriculum_requisites\":[{\"source_id\":1,\"target_id\":16,\"type\":\"CurriculumPrerequisite\"}],\"name\":\" \",\"metrics\":{\"complexity\":4.0,\"centrality\":3,\"blocking factor\":1,\"delay factor\":3.0},\"nameSub\":\"CH 201\",\"id\":16,\"credits\":3,\"nameCanonical\":\"\"},{\"curriculum_requisites\":[],\"name\":\" \",\"metrics\":{\"complexity\":1.0,\"centrality\":0,\"blocking factor\":0,\"delay factor\":1.0},\"nameSub\":\"CH 203\",\"id\":17,\"credits\":3,\"nameCanonical\":\"\"}],\"id\":3},{\"name\":\"Term 4\",\"curriculum_items\":[{\"curriculum_requisites\":[{\"source_id\":7,\"target_id\":18,\"type\":\"CurriculumPrerequisite\"},{\"source_id\":14,\"target_id\":18,\"type\":\"CurriculumPrerequisite\"},{\"source_id\":3,\"target_id\":18,\"type\":\"CurriculumPrerequisite\"},{\"source_id\":15,\"target_id\":18,\"type\":\"CurriculumPrerequisite\"},{\"source_id\":6,\"target_id\":18,\"type\":\"CurriculumPrerequisite\"}],\"name\":\" \",\"metrics\":{\"complexity\":10.0,\"centrality\":318,\"blocking factor\":2,\"delay factor\":8.0},\"nameSub\":\"AGSC 206\",\"id\":18,\"credits\":3,\"nameCanonical\":\"\"},{\"curriculum_requisites\":[{\"source_id\":13,\"target_id\":19,\"type\":\"CurriculumPrerequisite\"}],\"name\":\" \",\"metrics\":{\"complexity\":15.0,\"centrality\":222,\"blocking factor\":7,\"delay factor\":8.0},\"nameSub\":\"BIOL 191\",\"id\":19,\"credits\":3,\"nameCanonical\":\"\"},{\"curriculum_requisites\":[{\"source_id\":13,\"target_id\":20,\"type\":\"CurriculumPrerequisite\"},{\"source_id\":19,\"target_id\":20,\"type\":\"CurriculumCorequisite\"}],\"name\":\" \",\"metrics\":{\"complexity\":7.0,\"centrality\":0,\"blocking factor\":0,\"delay factor\":7.0},\"nameSub\":\"BIOL 192\",\"id\":20,\"credits\":2,\"nameCanonical\":\"\"},{\"curriculum_requisites\":[{\"source_id\":3,\"target_id\":21,\"type\":\"CurriculumPrerequisite\"}],\"name\":\" \",\"metrics\":{\"complexity\":2.0,\"centrality\":0,\"blocking factor\":0,\"delay factor\":2.0},\"nameSub\":\"NRES 241\",\"id\":21,\"credits\":3,\"nameCanonical\":\"\"},{\"curriculum_requisites\":[{\"source_id\":13,\"target_id\":22,\"type\":\"CurriculumPrerequisite\"},{\"source_id\":14,\"target_id\":22,\"type\":\"CurriculumPrerequisite\"},{\"source_id\":19,\"target_id\":22,\"type\":\"CurriculumCorequisite\"},{\"source_id\":15,\"target_id\":22,\"type\":\"CurriculumPrerequisite\"}],\"name\":\" \",\"metrics\":{\"complexity\":7.0,\"centrality\":0,\"blocking factor\":0,\"delay factor\":7.0},\"nameSub\":\"AGSC 211\",\"id\":22,\"credits\":3,\"nameCanonical\":\"\"}],\"id\":4},{\"name\":\"Term 5\",\"curriculum_items\":[{\"curriculum_requisites\":[],\"name\":\" \",\"metrics\":{\"complexity\":1.0,\"centrality\":0,\"blocking factor\":0,\"delay factor\":1.0},\"nameSub\":\"AGSC 250\",\"id\":23,\"credits\":3,\"nameCanonical\":\"\"},{\"curriculum_requisites\":[],\"name\":\" \",\"metrics\":{\"complexity\":1.0,\"centrality\":0,\"blocking factor\":0,\"delay factor\":1.0},\"nameSub\":\"AGSC 416\",\"id\":24,\"credits\":3,\"nameCanonical\":\"\"},{\"curriculum_requisites\":[],\"name\":\" \",\"metrics\":{\"complexity\":1.0,\"centrality\":0,\"blocking factor\":0,\"delay factor\":1.0},\"nameSub\":\"NUTR 325\",\"id\":25,\"credits\":3,\"nameCanonical\":\"\"},{\"curriculum_requisites\":[{\"source_id\":7,\"target_id\":26,\"type\":\"CurriculumPrerequisite\"},{\"source_id\":6,\"target_id\":26,\"type\":\"CurriculumPrerequisite\"}],\"name\":\" \",\"metrics\":{\"complexity\":9.0,\"centrality\":87,\"blocking factor\":3,\"delay factor\":6.0},\"nameSub\":\"CHEM 220A\",\"id\":26,\"credits\":3,\"nameCanonical\":\"\"},{\"curriculum_requisites\":[{\"source_id\":26,\"target_id\":27,\"type\":\"CurriculumCorequisite\"}],\"name\":\" \",\"metrics\":{\"complexity\":6.0,\"centrality\":0,\"blocking factor\":0,\"delay factor\":6.0},\"nameSub\":\"CHEM 220L\",\"id\":27,\"credits\":1,\"nameCanonical\":\"\"},{\"curriculum_requisites\":[],\"name\":\" \",\"metrics\":{\"complexity\":1.0,\"centrality\":0,\"blocking factor\":0,\"delay factor\":1.0},\"nameSub\":\"Elective\",\"id\":28,\"credits\":3,\"nameCanonical\":\"\"}],\"id\":5},{\"name\":\"Term 6\",\"curriculum_items\":[{\"curriculum_requisites\":[{\"source_id\":19,\"target_id\":29,\"type\":\"CurriculumPrerequisite\"}],\"name\":\" \",\"metrics\":{\"complexity\":7.0,\"centrality\":0,\"blocking factor\":0,\"delay factor\":7.0},\"nameSub\":\"AGSC 325\",\"id\":29,\"credits\":3,\"nameCanonical\":\"\"},{\"curriculum_requisites\":[{\"source_id\":3,\"target_id\":30,\"type\":\"CurriculumPrerequisite\"},{\"source_id\":18,\"target_id\":30,\"type\":\"CurriculumPrerequisite\"}],\"name\":\" \",\"metrics\":{\"complexity\":8.0,\"centrality\":0,\"blocking factor\":0,\"delay factor\":8.0},\"nameSub\":\"AGSC 425\",\"id\":30,\"credits\":4,\"nameCanonical\":\"\"},{\"curriculum_requisites\":[{\"source_id\":26,\"target_id\":31,\"type\":\"CurriculumPrerequisite\"},{\"source_id\":13,\"target_id\":31,\"type\":\"CurriculumPrerequisite\"}],\"name\":\" \",\"metrics\":{\"complexity\":6.0,\"centrality\":0,\"blocking factor\":0,\"delay factor\":6.0},\"nameSub\":\"BCH 400\",\"id\":31,\"credits\":4,\"nameCanonical\":\"\"},{\"curriculum_requisites\":[{\"source_id\":13,\"target_id\":32,\"type\":\"CurriculumPrerequisite\"},{\"source_id\":19,\"target_id\":32,\"type\":\"CurriculumPrerequisite\"}],\"name\":\" \",\"metrics\":{\"complexity\":10.0,\"centrality\":152,\"blocking factor\":2,\"delay factor\":8.0},\"nameSub\":\"VM 328\",\"id\":32,\"credits\":4,\"nameCanonical\":\"\"}],\"id\":6},{\"name\":\"Term 7\",\"curriculum_items\":[{\"curriculum_requisites\":[{\"source_id\":32,\"target_id\":33,\"type\":\"CurriculumCorequisite\"}],\"name\":\" \",\"metrics\":{\"complexity\":8.0,\"centrality\":0,\"blocking factor\":0,\"delay factor\":8.0},\"nameSub\":\"AGSC 310\",\"id\":33,\"credits\":3,\"nameCanonical\":\"\"},{\"curriculum_requisites\":[{\"source_id\":26,\"target_id\":34,\"type\":\"CurriculumPrerequisite\"},{\"source_id\":18,\"target_id\":34,\"type\":\"CurriculumPrerequisite\"}],\"name\":\" \",\"metrics\":{\"complexity\":8.0,\"centrality\":0,\"blocking factor\":0,\"delay factor\":8.0},\"nameSub\":\"AGSC 406\",\"id\":34,\"credits\":4,\"nameCanonical\":\"\"},{\"curriculum_requisites\":[{\"source_id\":16,\"target_id\":35,\"type\":\"CurriculumPrerequisite\"},{\"source_id\":8,\"target_id\":35,\"type\":\"CurriculumPrerequisite\"}],\"name\":\" \",\"metrics\":{\"complexity\":3.0,\"centrality\":0,\"blocking factor\":0,\"delay factor\":3.0},\"nameSub\":\"AGSC 415\",\"id\":35,\"credits\":3,\"nameCanonical\":\"\"},{\"curriculum_requisites\":[],\"name\":\" \",\"metrics\":{\"complexity\":1.0,\"centrality\":0,\"blocking factor\":0,\"delay factor\":1.0},\"nameSub\":\"Elective\",\"id\":36,\"credits\":6,\"nameCanonical\":\"\"}],\"id\":7},{\"name\":\"Term 8\",\"curriculum_items\":[{\"curriculum_requisites\":[{\"source_id\":32,\"target_id\":37,\"type\":\"CurriculumPrerequisite\"},{\"source_id\":3,\"target_id\":37,\"type\":\"CurriculumPrerequisite\"}],\"name\":\" \",\"metrics\":{\"complexity\":8.0,\"centrality\":0,\"blocking factor\":0,\"delay factor\":8.0},\"nameSub\":\"AGSC 410\",\"id\":37,\"credits\":3,\"nameCanonical\":\"\"},{\"curriculum_requisites\":[{\"source_id\":19,\"target_id\":38,\"type\":\"CurriculumPrerequisite\"}],\"name\":\" \",\"metrics\":{\"complexity\":7.0,\"centrality\":0,\"blocking factor\":0,\"delay factor\":7.0},\"nameSub\":\"VM 475\",\"id\":38,\"credits\":3,\"nameCanonical\":\"\"},{\"curriculum_requisites\":[],\"name\":\" \",\"metrics\":{\"complexity\":1.0,\"centrality\":0,\"blocking factor\":0,\"delay factor\":1.0},\"nameSub\":\"Electives\",\"id\":39,\"credits\":6,\"nameCanonical\":\"\"}],\"id\":8}],\"institution\":\"University of Nevada-Reno\"}}}}},\"children\":[{\"props\":{\"src\":\"http:\\/\\/localhost:8156\",\"id\":\"curriculum\",\"events\":{\"load\":\"(function (){this.contentWindow.postMessage({\\\"options\\\":{\\\"hideTerms\\\":false,\\\"edit\\\":false},\\\"curriculum\\\":{\\\"name\\\":\\\"Animal Science\\\",\\\"dp_name\\\":\\\"4-Year Plan\\\",\\\"curriculum_terms\\\":[{\\\"name\\\":\\\"Term 1\\\",\\\"curriculum_items\\\":[{\\\"curriculum_requisites\\\":[],\\\"name\\\":\\\" \\\",\\\"metrics\\\":{\\\"complexity\\\":6.0,\\\"centrality\\\":0,\\\"blocking factor\\\":3,\\\"delay factor\\\":3.0},\\\"nameSub\\\":\\\"ENG 101\\\",\\\"id\\\":1,\\\"credits\\\":3,\\\"nameCanonical\\\":\\\"\\\"},{\\\"curriculum_requisites\\\":[],\\\"name\\\":\\\" \\\",\\\"metrics\\\":{\\\"complexity\\\":30.0,\\\"centrality\\\":0,\\\"blocking factor\\\":22,\\\"delay factor\\\":8.0},\\\"nameSub\\\":\\\"MATH 126\\\",\\\"id\\\":2,\\\"credits\\\":3,\\\"nameCanonical\\\":\\\"\\\"},{\\\"curriculum_requisites\\\":[],\\\"name\\\":\\\" \\\",\\\"metrics\\\":{\\\"complexity\\\":8.0,\\\"centrality\\\":0,\\\"blocking factor\\\":5,\\\"delay factor\\\":3.0},\\\"nameSub\\\":\\\"AGSC 100\\\",\\\"id\\\":3,\\\"credits\\\":3,\\\"nameCanonical\\\":\\\"\\\"},{\\\"curriculum_requisites\\\":[{\\\"source_id\\\":2,\\\"target_id\\\":4,\\\"type\\\":\\\"CurriculumCorequisite\\\"}],\\\"name\\\":\\\" \\\",\\\"metrics\\\":{\\\"complexity\\\":2.0,\\\"centrality\\\":0,\\\"blocking factor\\\":0,\\\"delay factor\\\":2.0},\\\"nameSub\\\":\\\"ECON 102\\\",\\\"id\\\":4,\\\"credits\\\":3,\\\"nameCanonical\\\":\\\"\\\"},{\\\"curriculum_requisites\\\":[],\\\"name\\\":\\\" \\\",\\\"metrics\\\":{\\\"complexity\\\":1.0,\\\"centrality\\\":0,\\\"blocking factor\\\":0,\\\"delay factor\\\":1.0},\\\"nameSub\\\":\\\"Fine Arts\\\",\\\"id\\\":5,\\\"credits\\\":3,\\\"nameCanonical\\\":\\\"\\\"}],\\\"id\\\":1},{\\\"name\\\":\\\"Term 2\\\",\\\"curriculum_items\\\":[{\\\"curriculum_requisites\\\":[{\\\"source_id\\\":7,\\\"target_id\\\":6,\\\"type\\\":\\\"CurriculumCorequisite\\\"},{\\\"source_id\\\":9,\\\"target_id\\\":6,\\\"type\\\":\\\"CurriculumCorequisite\\\"},{\\\"source_id\\\":2,\\\"target_id\\\":6,\\\"type\\\":\\\"CurriculumPrerequisite\\\"}],\\\"name\\\":\\\" \\\",\\\"metrics\\\":{\\\"complexity\\\":25.0,\\\"centrality\\\":576,\\\"blocking factor\\\":17,\\\"delay factor\\\":8.0},\\\"nameSub\\\":\\\"CHEM 121A\\\",\\\"id\\\":6,\\\"credits\\\":3,\\\"nameCanonical\\\":\\\"\\\"},{\\\"curriculum_requisites\\\":[{\\\"source_id\\\":9,\\\"target_id\\\":7,\\\"type\\\":\\\"CurriculumCorequisite\\\"},{\\\"source_id\\\":2,\\\"target_id\\\":7,\\\"type\\\":\\\"CurriculumPrerequisite\\\"}],\\\"name\\\":\\\" \\\",\\\"metrics\\\":{\\\"complexity\\\":26.0,\\\"centrality\\\":576,\\\"blocking factor\\\":18,\\\"delay factor\\\":8.0},\\\"nameSub\\\":\\\"CHEM 121L\\\",\\\"id\\\":7,\\\"credits\\\":1,\\\"nameCanonical\\\":\\\"\\\"},{\\\"curriculum_requisites\\\":[{\\\"source_id\\\":1,\\\"target_id\\\":8,\\\"type\\\":\\\"CurriculumPrerequisite\\\"}],\\\"name\\\":\\\" \\\",\\\"metrics\\\":{\\\"complexity\\\":4.0,\\\"centrality\\\":3,\\\"blocking factor\\\":1,\\\"delay factor\\\":3.0},\\\"nameSub\\\":\\\"ENG 102\\\",\\\"id\\\":8,\\\"credits\\\":3,\\\"nameCanonical\\\":\\\"\\\"},{\\\"curriculum_requisites\\\":[{\\\"source_id\\\":2,\\\"target_id\\\":9,\\\"type\\\":\\\"CurriculumPrerequisite\\\"}],\\\"name\\\":\\\" \\\",\\\"metrics\\\":{\\\"complexity\\\":27.0,\\\"centrality\\\":502,\\\"blocking factor\\\":19,\\\"delay factor\\\":8.0},\\\"nameSub\\\":\\\"MATH 127\\\",\\\"id\\\":9,\\\"credits\\\":3,\\\"nameCanonical\\\":\\\"\\\"},{\\\"curriculum_requisites\\\":[],\\\"name\\\":\\\" \\\",\\\"metrics\\\":{\\\"complexity\\\":1.0,\\\"centrality\\\":0,\\\"blocking factor\\\":0,\\\"delay factor\\\":1.0},\\\"nameSub\\\":\\\"Elective\\\",\\\"id\\\":10,\\\"credits\\\":3,\\\"nameCanonical\\\":\\\"\\\"},{\\\"curriculum_requisites\\\":[],\\\"name\\\":\\\" \\\",\\\"metrics\\\":{\\\"complexity\\\":1.0,\\\"centrality\\\":0,\\\"blocking factor\\\":0,\\\"delay factor\\\":1.0},\\\"nameSub\\\":\\\"AGSC 211\\\",\\\"id\\\":11,\\\"credits\\\":3,\\\"nameCanonical\\\":\\\"\\\"}],\\\"id\\\":2},{\\\"name\\\":\\\"Term 3\\\",\\\"curriculum_items\\\":[{\\\"curriculum_requisites\\\":[{\\\"source_id\\\":2,\\\"target_id\\\":12,\\\"type\\\":\\\"CurriculumPrerequisite\\\"}],\\\"name\\\":\\\" \\\",\\\"metrics\\\":{\\\"complexity\\\":2.0,\\\"centrality\\\":0,\\\"blocking factor\\\":0,\\\"delay factor\\\":2.0},\\\"nameSub\\\":\\\"APST 207\\\",\\\"id\\\":12,\\\"credits\\\":3,\\\"nameCanonical\\\":\\\"\\\"},{\\\"curriculum_requisites\\\":[{\\\"source_id\\\":7,\\\"target_id\\\":13,\\\"type\\\":\\\"CurriculumPrerequisite\\\"},{\\\"source_id\\\":6,\\\"target_id\\\":13,\\\"type\\\":\\\"CurriculumPrerequisite\\\"}],\\\"name\\\":\\\" \\\",\\\"metrics\\\":{\\\"complexity\\\":17.0,\\\"centrality\\\":379,\\\"blocking factor\\\":9,\\\"delay factor\\\":8.0},\\\"nameSub\\\":\\\"BIOL 190\\\",\\\"id\\\":13,\\\"credits\\\":3,\\\"nameCanonical\\\":\\\"\\\"},{\\\"curriculum_requisites\\\":[{\\\"source_id\\\":7,\\\"target_id\\\":14,\\\"type\\\":\\\"CurriculumPrerequisite\\\"},{\\\"source_id\\\":9,\\\"target_id\\\":14,\\\"type\\\":\\\"CurriculumPrerequisite\\\"},{\\\"source_id\\\":15,\\\"target_id\\\":14,\\\"type\\\":\\\"CurriculumCorequisite\\\"},{\\\"source_id\\\":6,\\\"target_id\\\":14,\\\"type\\\":\\\"CurriculumPrerequisite\\\"}],\\\"name\\\":\\\" \\\",\\\"metrics\\\":{\\\"complexity\\\":12.0,\\\"centrality\\\":247,\\\"blocking factor\\\":4,\\\"delay factor\\\":8.0},\\\"nameSub\\\":\\\"CHEM 122A\\\",\\\"id\\\":14,\\\"credits\\\":3,\\\"nameCanonical\\\":\\\"\\\"},{\\\"curriculum_requisites\\\":[{\\\"source_id\\\":7,\\\"target_id\\\":15,\\\"type\\\":\\\"CurriculumPrerequisite\\\"},{\\\"source_id\\\":9,\\\"target_id\\\":15,\\\"type\\\":\\\"CurriculumPrerequisite\\\"},{\\\"source_id\\\":6,\\\"target_id\\\":15,\\\"type\\\":\\\"CurriculumPrerequisite\\\"}],\\\"name\\\":\\\" \\\",\\\"metrics\\\":{\\\"complexity\\\":13.0,\\\"centrality\\\":247,\\\"blocking factor\\\":5,\\\"delay factor\\\":8.0},\\\"nameSub\\\":\\\"CHEM 122L\\\",\\\"id\\\":15,\\\"credits\\\":1,\\\"nameCanonical\\\":\\\"\\\"},{\\\"curriculum_requisites\\\":[{\\\"source_id\\\":1,\\\"target_id\\\":16,\\\"type\\\":\\\"CurriculumPrerequisite\\\"}],\\\"name\\\":\\\" \\\",\\\"metrics\\\":{\\\"complexity\\\":4.0,\\\"centrality\\\":3,\\\"blocking factor\\\":1,\\\"delay factor\\\":3.0},\\\"nameSub\\\":\\\"CH 201\\\",\\\"id\\\":16,\\\"credits\\\":3,\\\"nameCanonical\\\":\\\"\\\"},{\\\"curriculum_requisites\\\":[],\\\"name\\\":\\\" \\\",\\\"metrics\\\":{\\\"complexity\\\":1.0,\\\"centrality\\\":0,\\\"blocking factor\\\":0,\\\"delay factor\\\":1.0},\\\"nameSub\\\":\\\"CH 203\\\",\\\"id\\\":17,\\\"credits\\\":3,\\\"nameCanonical\\\":\\\"\\\"}],\\\"id\\\":3},{\\\"name\\\":\\\"Term 4\\\",\\\"curriculum_items\\\":[{\\\"curriculum_requisites\\\":[{\\\"source_id\\\":7,\\\"target_id\\\":18,\\\"type\\\":\\\"CurriculumPrerequisite\\\"},{\\\"source_id\\\":14,\\\"target_id\\\":18,\\\"type\\\":\\\"CurriculumPrerequisite\\\"},{\\\"source_id\\\":3,\\\"target_id\\\":18,\\\"type\\\":\\\"CurriculumPrerequisite\\\"},{\\\"source_id\\\":15,\\\"target_id\\\":18,\\\"type\\\":\\\"CurriculumPrerequisite\\\"},{\\\"source_id\\\":6,\\\"target_id\\\":18,\\\"type\\\":\\\"CurriculumPrerequisite\\\"}],\\\"name\\\":\\\" \\\",\\\"metrics\\\":{\\\"complexity\\\":10.0,\\\"centrality\\\":318,\\\"blocking factor\\\":2,\\\"delay factor\\\":8.0},\\\"nameSub\\\":\\\"AGSC 206\\\",\\\"id\\\":18,\\\"credits\\\":3,\\\"nameCanonical\\\":\\\"\\\"},{\\\"curriculum_requisites\\\":[{\\\"source_id\\\":13,\\\"target_id\\\":19,\\\"type\\\":\\\"CurriculumPrerequisite\\\"}],\\\"name\\\":\\\" \\\",\\\"metrics\\\":{\\\"complexity\\\":15.0,\\\"centrality\\\":222,\\\"blocking factor\\\":7,\\\"delay factor\\\":8.0},\\\"nameSub\\\":\\\"BIOL 191\\\",\\\"id\\\":19,\\\"credits\\\":3,\\\"nameCanonical\\\":\\\"\\\"},{\\\"curriculum_requisites\\\":[{\\\"source_id\\\":13,\\\"target_id\\\":20,\\\"type\\\":\\\"CurriculumPrerequisite\\\"},{\\\"source_id\\\":19,\\\"target_id\\\":20,\\\"type\\\":\\\"CurriculumCorequisite\\\"}],\\\"name\\\":\\\" \\\",\\\"metrics\\\":{\\\"complexity\\\":7.0,\\\"centrality\\\":0,\\\"blocking factor\\\":0,\\\"delay factor\\\":7.0},\\\"nameSub\\\":\\\"BIOL 192\\\",\\\"id\\\":20,\\\"credits\\\":2,\\\"nameCanonical\\\":\\\"\\\"},{\\\"curriculum_requisites\\\":[{\\\"source_id\\\":3,\\\"target_id\\\":21,\\\"type\\\":\\\"CurriculumPrerequisite\\\"}],\\\"name\\\":\\\" \\\",\\\"metrics\\\":{\\\"complexity\\\":2.0,\\\"centrality\\\":0,\\\"blocking factor\\\":0,\\\"delay factor\\\":2.0},\\\"nameSub\\\":\\\"NRES 241\\\",\\\"id\\\":21,\\\"credits\\\":3,\\\"nameCanonical\\\":\\\"\\\"},{\\\"curriculum_requisites\\\":[{\\\"source_id\\\":13,\\\"target_id\\\":22,\\\"type\\\":\\\"CurriculumPrerequisite\\\"},{\\\"source_id\\\":14,\\\"target_id\\\":22,\\\"type\\\":\\\"CurriculumPrerequisite\\\"},{\\\"source_id\\\":19,\\\"target_id\\\":22,\\\"type\\\":\\\"CurriculumCorequisite\\\"},{\\\"source_id\\\":15,\\\"target_id\\\":22,\\\"type\\\":\\\"CurriculumPrerequisite\\\"}],\\\"name\\\":\\\" \\\",\\\"metrics\\\":{\\\"complexity\\\":7.0,\\\"centrality\\\":0,\\\"blocking factor\\\":0,\\\"delay factor\\\":7.0},\\\"nameSub\\\":\\\"AGSC 211\\\",\\\"id\\\":22,\\\"credits\\\":3,\\\"nameCanonical\\\":\\\"\\\"}],\\\"id\\\":4},{\\\"name\\\":\\\"Term 5\\\",\\\"curriculum_items\\\":[{\\\"curriculum_requisites\\\":[],\\\"name\\\":\\\" \\\",\\\"metrics\\\":{\\\"complexity\\\":1.0,\\\"centrality\\\":0,\\\"blocking factor\\\":0,\\\"delay factor\\\":1.0},\\\"nameSub\\\":\\\"AGSC 250\\\",\\\"id\\\":23,\\\"credits\\\":3,\\\"nameCanonical\\\":\\\"\\\"},{\\\"curriculum_requisites\\\":[],\\\"name\\\":\\\" \\\",\\\"metrics\\\":{\\\"complexity\\\":1.0,\\\"centrality\\\":0,\\\"blocking factor\\\":0,\\\"delay factor\\\":1.0},\\\"nameSub\\\":\\\"AGSC 416\\\",\\\"id\\\":24,\\\"credits\\\":3,\\\"nameCanonical\\\":\\\"\\\"},{\\\"curriculum_requisites\\\":[],\\\"name\\\":\\\" \\\",\\\"metrics\\\":{\\\"complexity\\\":1.0,\\\"centrality\\\":0,\\\"blocking factor\\\":0,\\\"delay factor\\\":1.0},\\\"nameSub\\\":\\\"NUTR 325\\\",\\\"id\\\":25,\\\"credits\\\":3,\\\"nameCanonical\\\":\\\"\\\"},{\\\"curriculum_requisites\\\":[{\\\"source_id\\\":7,\\\"target_id\\\":26,\\\"type\\\":\\\"CurriculumPrerequisite\\\"},{\\\"source_id\\\":6,\\\"target_id\\\":26,\\\"type\\\":\\\"CurriculumPrerequisite\\\"}],\\\"name\\\":\\\" \\\",\\\"metrics\\\":{\\\"complexity\\\":9.0,\\\"centrality\\\":87,\\\"blocking factor\\\":3,\\\"delay factor\\\":6.0},\\\"nameSub\\\":\\\"CHEM 220A\\\",\\\"id\\\":26,\\\"credits\\\":3,\\\"nameCanonical\\\":\\\"\\\"},{\\\"curriculum_requisites\\\":[{\\\"source_id\\\":26,\\\"target_id\\\":27,\\\"type\\\":\\\"CurriculumCorequisite\\\"}],\\\"name\\\":\\\" \\\",\\\"metrics\\\":{\\\"complexity\\\":6.0,\\\"centrality\\\":0,\\\"blocking factor\\\":0,\\\"delay factor\\\":6.0},\\\"nameSub\\\":\\\"CHEM 220L\\\",\\\"id\\\":27,\\\"credits\\\":1,\\\"nameCanonical\\\":\\\"\\\"},{\\\"curriculum_requisites\\\":[],\\\"name\\\":\\\" \\\",\\\"metrics\\\":{\\\"complexity\\\":1.0,\\\"centrality\\\":0,\\\"blocking factor\\\":0,\\\"delay factor\\\":1.0},\\\"nameSub\\\":\\\"Elective\\\",\\\"id\\\":28,\\\"credits\\\":3,\\\"nameCanonical\\\":\\\"\\\"}],\\\"id\\\":5},{\\\"name\\\":\\\"Term 6\\\",\\\"curriculum_items\\\":[{\\\"curriculum_requisites\\\":[{\\\"source_id\\\":19,\\\"target_id\\\":29,\\\"type\\\":\\\"CurriculumPrerequisite\\\"}],\\\"name\\\":\\\" \\\",\\\"metrics\\\":{\\\"complexity\\\":7.0,\\\"centrality\\\":0,\\\"blocking factor\\\":0,\\\"delay factor\\\":7.0},\\\"nameSub\\\":\\\"AGSC 325\\\",\\\"id\\\":29,\\\"credits\\\":3,\\\"nameCanonical\\\":\\\"\\\"},{\\\"curriculum_requisites\\\":[{\\\"source_id\\\":3,\\\"target_id\\\":30,\\\"type\\\":\\\"CurriculumPrerequisite\\\"},{\\\"source_id\\\":18,\\\"target_id\\\":30,\\\"type\\\":\\\"CurriculumPrerequisite\\\"}],\\\"name\\\":\\\" \\\",\\\"metrics\\\":{\\\"complexity\\\":8.0,\\\"centrality\\\":0,\\\"blocking factor\\\":0,\\\"delay factor\\\":8.0},\\\"nameSub\\\":\\\"AGSC 425\\\",\\\"id\\\":30,\\\"credits\\\":4,\\\"nameCanonical\\\":\\\"\\\"},{\\\"curriculum_requisites\\\":[{\\\"source_id\\\":26,\\\"target_id\\\":31,\\\"type\\\":\\\"CurriculumPrerequisite\\\"},{\\\"source_id\\\":13,\\\"target_id\\\":31,\\\"type\\\":\\\"CurriculumPrerequisite\\\"}],\\\"name\\\":\\\" \\\",\\\"metrics\\\":{\\\"complexity\\\":6.0,\\\"centrality\\\":0,\\\"blocking factor\\\":0,\\\"delay factor\\\":6.0},\\\"nameSub\\\":\\\"BCH 400\\\",\\\"id\\\":31,\\\"credits\\\":4,\\\"nameCanonical\\\":\\\"\\\"},{\\\"curriculum_requisites\\\":[{\\\"source_id\\\":13,\\\"target_id\\\":32,\\\"type\\\":\\\"CurriculumPrerequisite\\\"},{\\\"source_id\\\":19,\\\"target_id\\\":32,\\\"type\\\":\\\"CurriculumPrerequisite\\\"}],\\\"name\\\":\\\" \\\",\\\"metrics\\\":{\\\"complexity\\\":10.0,\\\"centrality\\\":152,\\\"blocking factor\\\":2,\\\"delay factor\\\":8.0},\\\"nameSub\\\":\\\"VM 328\\\",\\\"id\\\":32,\\\"credits\\\":4,\\\"nameCanonical\\\":\\\"\\\"}],\\\"id\\\":6},{\\\"name\\\":\\\"Term 7\\\",\\\"curriculum_items\\\":[{\\\"curriculum_requisites\\\":[{\\\"source_id\\\":32,\\\"target_id\\\":33,\\\"type\\\":\\\"CurriculumCorequisite\\\"}],\\\"name\\\":\\\" \\\",\\\"metrics\\\":{\\\"complexity\\\":8.0,\\\"centrality\\\":0,\\\"blocking factor\\\":0,\\\"delay factor\\\":8.0},\\\"nameSub\\\":\\\"AGSC 310\\\",\\\"id\\\":33,\\\"credits\\\":3,\\\"nameCanonical\\\":\\\"\\\"},{\\\"curriculum_requisites\\\":[{\\\"source_id\\\":26,\\\"target_id\\\":34,\\\"type\\\":\\\"CurriculumPrerequisite\\\"},{\\\"source_id\\\":18,\\\"target_id\\\":34,\\\"type\\\":\\\"CurriculumPrerequisite\\\"}],\\\"name\\\":\\\" \\\",\\\"metrics\\\":{\\\"complexity\\\":8.0,\\\"centrality\\\":0,\\\"blocking factor\\\":0,\\\"delay factor\\\":8.0},\\\"nameSub\\\":\\\"AGSC 406\\\",\\\"id\\\":34,\\\"credits\\\":4,\\\"nameCanonical\\\":\\\"\\\"},{\\\"curriculum_requisites\\\":[{\\\"source_id\\\":16,\\\"target_id\\\":35,\\\"type\\\":\\\"CurriculumPrerequisite\\\"},{\\\"source_id\\\":8,\\\"target_id\\\":35,\\\"type\\\":\\\"CurriculumPrerequisite\\\"}],\\\"name\\\":\\\" \\\",\\\"metrics\\\":{\\\"complexity\\\":3.0,\\\"centrality\\\":0,\\\"blocking factor\\\":0,\\\"delay factor\\\":3.0},\\\"nameSub\\\":\\\"AGSC 415\\\",\\\"id\\\":35,\\\"credits\\\":3,\\\"nameCanonical\\\":\\\"\\\"},{\\\"curriculum_requisites\\\":[],\\\"name\\\":\\\" \\\",\\\"metrics\\\":{\\\"complexity\\\":1.0,\\\"centrality\\\":0,\\\"blocking factor\\\":0,\\\"delay factor\\\":1.0},\\\"nameSub\\\":\\\"Elective\\\",\\\"id\\\":36,\\\"credits\\\":6,\\\"nameCanonical\\\":\\\"\\\"}],\\\"id\\\":7},{\\\"name\\\":\\\"Term 8\\\",\\\"curriculum_items\\\":[{\\\"curriculum_requisites\\\":[{\\\"source_id\\\":32,\\\"target_id\\\":37,\\\"type\\\":\\\"CurriculumPrerequisite\\\"},{\\\"source_id\\\":3,\\\"target_id\\\":37,\\\"type\\\":\\\"CurriculumPrerequisite\\\"}],\\\"name\\\":\\\" \\\",\\\"metrics\\\":{\\\"complexity\\\":8.0,\\\"centrality\\\":0,\\\"blocking factor\\\":0,\\\"delay factor\\\":8.0},\\\"nameSub\\\":\\\"AGSC 410\\\",\\\"id\\\":37,\\\"credits\\\":3,\\\"nameCanonical\\\":\\\"\\\"},{\\\"curriculum_requisites\\\":[{\\\"source_id\\\":19,\\\"target_id\\\":38,\\\"type\\\":\\\"CurriculumPrerequisite\\\"}],\\\"name\\\":\\\" \\\",\\\"metrics\\\":{\\\"complexity\\\":7.0,\\\"centrality\\\":0,\\\"blocking factor\\\":0,\\\"delay factor\\\":7.0},\\\"nameSub\\\":\\\"VM 475\\\",\\\"id\\\":38,\\\"credits\\\":3,\\\"nameCanonical\\\":\\\"\\\"},{\\\"curriculum_requisites\\\":[],\\\"name\\\":\\\" \\\",\\\"metrics\\\":{\\\"complexity\\\":1.0,\\\"centrality\\\":0,\\\"blocking factor\\\":0,\\\"delay factor\\\":1.0},\\\"nameSub\\\":\\\"Electives\\\",\\\"id\\\":39,\\\"credits\\\":6,\\\"nameCanonical\\\":\\\"\\\"}],\\\"id\\\":8}],\\\"institution\\\":\\\"University of Nevada-Reno\\\"}},\\\"*\\\"); window.removeEventListener(\\\"message\\\",window.messageReceived); window.messageReceived=(function (event){return (event.data.curriculum!==undefined) ? (WebIO.setval({\\\"name\\\":\\\"curriculum-data\\\",\\\"scope\\\":\\\"644089127279214502\\\",\\\"id\\\":\\\"4812524561297704311\\\",\\\"type\\\":\\\"observable\\\"},event.data.curriculum)) : undefined}); return window.addEventListener(\\\"message\\\",window.messageReceived)})\"},\"style\":{\"padding\":\"0\",\"height\":\"100vh\",\"margin\":\"0\",\"border\":\"none\",\"width\":\"100%\"}},\"nodeType\":\"DOM\",\"type\":\"node\",\"instanceArgs\":{\"namespace\":\"html\",\"tag\":\"iframe\"},\"children\":[\"\"]}]},\n",
       "            window,\n",
       "        );\n",
       "    } else {\n",
       "        document\n",
       "            .querySelector('[data-webio-mountpoint=\"5389168124005782549\"]')\n",
       "            .innerHTML = (\n",
       "                '<div style=\"padding: 1em; background-color: #f8d6da; border: 1px solid #f5c6cb\">' +\n",
       "                '<p><strong>WebIO not detected.</strong></p>' +\n",
       "                '<p>Please read ' +\n",
       "                '<a href=\"https://juliagizmos.github.io/WebIO.jl/latest/troubleshooting/not-detected/\" target=\"_blank\">the troubleshooting guide</a> ' +\n",
       "                'for more information on how to resolve this issue.</p>' +\n",
       "                '<p><a href=\"https://juliagizmos.github.io/WebIO.jl/latest/troubleshooting/not-detected/\" target=\"_blank\">https://juliagizmos.github.io/WebIO.jl/latest/troubleshooting/not-detected/</a></p>' +\n",
       "                '</div>'\n",
       "            );\n",
       "    }\n",
       "    </script>\n",
       "</div>\n"
      ],
      "text/plain": [
       "WebIO.Scope(WebIO.Node{WebIO.DOM}(WebIO.DOM(:html, :iframe), Any[\"\"], Dict{Symbol,Any}(:src => \"http://localhost:8156\",:id => \"curriculum\",:events => Dict{Symbol,WebIO.JSString}(:load => WebIO.JSString(\"(function (){this.contentWindow.postMessage({\\\"options\\\":{\\\"hideTerms\\\":false,\\\"edit\\\":false},\\\"curriculum\\\":{\\\"name\\\":\\\"Animal Science\\\",\\\"dp_name\\\":\\\"4-Year Plan\\\",\\\"curriculum_terms\\\":[{\\\"name\\\":\\\"Term 1\\\",\\\"curriculum_items\\\":[{\\\"curriculum_requisites\\\":[],\\\"name\\\":\\\" \\\",\\\"metrics\\\":{\\\"complexity\\\":6.0,\\\"centrality\\\":0,\\\"blocking factor\\\":3,\\\"delay factor\\\":3.0},\\\"nameSub\\\":\\\"ENG 101\\\",\\\"id\\\":1,\\\"credits\\\":3,\\\"nameCanonical\\\":\\\"\\\"},{\\\"curriculum_requisites\\\":[],\\\"name\\\":\\\" \\\",\\\"metrics\\\":{\\\"complexity\\\":30.0,\\\"centrality\\\":0,\\\"blocking factor\\\":22,\\\"delay factor\\\":8.0},\\\"nameSub\\\":\\\"MATH 126\\\",\\\"id\\\":2,\\\"credits\\\":3,\\\"nameCanonical\\\":\\\"\\\"},{\\\"curriculum_requisites\\\":[],\\\"name\\\":\\\" \\\",\\\"metrics\\\":{\\\"complexity\\\":8.0,\\\"centrality\\\":0,\\\"blocking factor\\\":5,\\\"delay factor\\\":3.0},\\\"nameSub\\\":\\\"AGSC 100\\\",\\\"id\\\":3,\\\"credits\\\":3,\\\"nameCanonical\\\":\\\"\\\"},{\\\"curriculum_requisites\\\":[{\\\"source_id\\\":2,\\\"target_id\\\":4,\\\"type\\\":\\\"CurriculumCorequisite\\\"}],\\\"name\\\":\\\" \\\",\\\"metrics\\\":{\\\"complexity\\\":2.0,\\\"centrality\\\":0,\\\"blocking factor\\\":0,\\\"delay factor\\\":2.0},\\\"nameSub\\\":\\\"ECON 102\\\",\\\"id\\\":4,\\\"credits\\\":3,\\\"nameCanonical\\\":\\\"\\\"},{\\\"curriculum_requisites\\\":[],\\\"name\\\":\\\" \\\",\\\"metrics\\\":{\\\"complexity\\\":1.0,\\\"centrality\\\":0,\\\"blocking factor\\\":0,\\\"delay factor\\\":1.0},\\\"nameSub\\\":\\\"Fine Arts\\\",\\\"id\\\":5,\\\"credits\\\":3,\\\"nameCanonical\\\":\\\"\\\"}],\\\"id\\\":1},{\\\"name\\\":\\\"Term 2\\\",\\\"curriculum_items\\\":[{\\\"curriculum_requisites\\\":[{\\\"source_id\\\":7,\\\"target_id\\\":6,\\\"type\\\":\\\"CurriculumCorequisite\\\"},{\\\"source_id\\\":9,\\\"target_id\\\":6,\\\"type\\\":\\\"CurriculumCorequisite\\\"},{\\\"source_id\\\":2,\\\"target_id\\\":6,\\\"type\\\":\\\"CurriculumPrerequisite\\\"}],\\\"name\\\":\\\" \\\",\\\"metrics\\\":{\\\"complexity\\\":25.0,\\\"centrality\\\":576,\\\"blocking factor\\\":17,\\\"delay factor\\\":8.0},\\\"nameSub\\\":\\\"CHEM 121A\\\",\\\"id\\\":6,\\\"credits\\\":3,\\\"nameCanonical\\\":\\\"\\\"},{\\\"curriculum_requisites\\\":[{\\\"source_id\\\":9,\\\"target_id\\\":7,\\\"type\\\":\\\"CurriculumCorequisite\\\"},{\\\"source_id\\\":2,\\\"target_id\\\":7,\\\"type\\\":\\\"CurriculumPrerequisite\\\"}],\\\"name\\\":\\\" \\\",\\\"metrics\\\":{\\\"complexity\\\":26.0,\\\"centrality\\\":576,\\\"blocking factor\\\":18,\\\"delay factor\\\":8.0},\\\"nameSub\\\":\\\"CHEM 121L\\\",\\\"id\\\":7,\\\"credits\\\":1,\\\"nameCanonical\\\":\\\"\\\"},{\\\"curriculum_requisites\\\":[{\\\"source_id\\\":1,\\\"target_id\\\":8,\\\"type\\\":\\\"CurriculumPrerequisite\\\"}],\\\"name\\\":\\\" \\\",\\\"metrics\\\":{\\\"complexity\\\":4.0,\\\"centrality\\\":3,\\\"blocking factor\\\":1,\\\"delay factor\\\":3.0},\\\"nameSub\\\":\\\"ENG 102\\\",\\\"id\\\":8,\\\"credits\\\":3,\\\"nameCanonical\\\":\\\"\\\"},{\\\"curriculum_requisites\\\":[{\\\"source_id\\\":2,\\\"target_id\\\":9,\\\"type\\\":\\\"CurriculumPrerequisite\\\"}],\\\"name\\\":\\\" \\\",\\\"metrics\\\":{\\\"complexity\\\":27.0,\\\"centrality\\\":502,\\\"blocking factor\\\":19,\\\"delay factor\\\":8.0},\\\"nameSub\\\":\\\"MATH 127\\\",\\\"id\\\":9,\\\"credits\\\":3,\\\"nameCanonical\\\":\\\"\\\"},{\\\"curriculum_requisites\\\":[],\\\"name\\\":\\\" \\\",\\\"metrics\\\":{\\\"complexity\\\":1.0,\\\"centrality\\\":0,\\\"blocking factor\\\":0,\\\"delay factor\\\":1.0},\\\"nameSub\\\":\\\"Elective\\\",\\\"id\\\":10,\\\"credits\\\":3,\\\"nameCanonical\\\":\\\"\\\"},{\\\"curriculum_requisites\\\":[],\\\"name\\\":\\\" \\\",\\\"metrics\\\":{\\\"complexity\\\":1.0,\\\"centrality\\\":0,\\\"blocking factor\\\":0,\\\"delay factor\\\":1.0},\\\"nameSub\\\":\\\"AGSC 211\\\",\\\"id\\\":11,\\\"credits\\\":3,\\\"nameCanonical\\\":\\\"\\\"}],\\\"id\\\":2},{\\\"name\\\":\\\"Term 3\\\",\\\"curriculum_items\\\":[{\\\"curriculum_requisites\\\":[{\\\"source_id\\\":2,\\\"target_id\\\":12,\\\"type\\\":\\\"CurriculumPrerequisite\\\"}],\\\"name\\\":\\\" \\\",\\\"metrics\\\":{\\\"complexity\\\":2.0,\\\"centrality\\\":0,\\\"blocking factor\\\":0,\\\"delay factor\\\":2.0},\\\"nameSub\\\":\\\"APST 207\\\",\\\"id\\\":12,\\\"credits\\\":3,\\\"nameCanonical\\\":\\\"\\\"},{\\\"curriculum_requisites\\\":[{\\\"source_id\\\":7,\\\"target_id\\\":13,\\\"type\\\":\\\"CurriculumPrerequisite\\\"},{\\\"source_id\\\":6,\\\"target_id\\\":13,\\\"type\\\":\\\"CurriculumPrerequisite\\\"}],\\\"name\\\":\\\" \\\",\\\"metrics\\\":{\\\"complexity\\\":17.0,\\\"centrality\\\":379,\\\"blocking factor\\\":9,\\\"delay factor\\\":8.0},\\\"nameSub\\\":\\\"BIOL 190\\\",\\\"id\\\":13,\\\"credits\\\":3,\\\"nameCanonical\\\":\\\"\\\"},{\\\"curriculum_requisites\\\":[{\\\"source_id\\\":7,\\\"target_id\\\":14,\\\"type\\\":\\\"CurriculumPrerequisite\\\"},{\\\"source_id\\\":9,\\\"target_id\\\":14,\\\"type\\\":\\\"CurriculumPrerequisite\\\"},{\\\"source_id\\\":15,\\\"target_id\\\":14,\\\"type\\\":\\\"CurriculumCorequisite\\\"},{\\\"source_id\\\":6,\\\"target_id\\\":14,\\\"type\\\":\\\"CurriculumPrerequisite\\\"}],\\\"name\\\":\\\" \\\",\\\"metrics\\\":{\\\"complexity\\\":12.0,\\\"centrality\\\":247,\\\"blocking factor\\\":4,\\\"delay factor\\\":8.0},\\\"nameSub\\\":\\\"CHEM 122A\\\",\\\"id\\\":14,\\\"credits\\\":3,\\\"nameCanonical\\\":\\\"\\\"},{\\\"curriculum_requisites\\\":[{\\\"source_id\\\":7,\\\"target_id\\\":15,\\\"type\\\":\\\"CurriculumPrerequisite\\\"},{\\\"source_id\\\":9,\\\"target_id\\\":15,\\\"type\\\":\\\"CurriculumPrerequisite\\\"},{\\\"source_id\\\":6,\\\"target_id\\\":15,\\\"type\\\":\\\"CurriculumPrerequisite\\\"}],\\\"name\\\":\\\" \\\",\\\"metrics\\\":{\\\"complexity\\\":13.0,\\\"centrality\\\":247,\\\"blocking factor\\\":5,\\\"delay factor\\\":8.0},\\\"nameSub\\\":\\\"CHEM 122L\\\",\\\"id\\\":15,\\\"credits\\\":1,\\\"nameCanonical\\\":\\\"\\\"},{\\\"curriculum_requisites\\\":[{\\\"source_id\\\":1,\\\"target_id\\\":16,\\\"type\\\":\\\"CurriculumPrerequisite\\\"}],\\\"name\\\":\\\" \\\",\\\"metrics\\\":{\\\"complexity\\\":4.0,\\\"centrality\\\":3,\\\"blocking factor\\\":1,\\\"delay factor\\\":3.0},\\\"nameSub\\\":\\\"CH 201\\\",\\\"id\\\":16,\\\"credits\\\":3,\\\"nameCanonical\\\":\\\"\\\"},{\\\"curriculum_requisites\\\":[],\\\"name\\\":\\\" \\\",\\\"metrics\\\":{\\\"complexity\\\":1.0,\\\"centrality\\\":0,\\\"blocking factor\\\":0,\\\"delay factor\\\":1.0},\\\"nameSub\\\":\\\"CH 203\\\",\\\"id\\\":17,\\\"credits\\\":3,\\\"nameCanonical\\\":\\\"\\\"}],\\\"id\\\":3},{\\\"name\\\":\\\"Term 4\\\",\\\"curriculum_items\\\":[{\\\"curriculum_requisites\\\":[{\\\"source_id\\\":7,\\\"target_id\\\":18,\\\"type\\\":\\\"CurriculumPrerequisite\\\"},{\\\"source_id\\\":14,\\\"target_id\\\":18,\\\"type\\\":\\\"CurriculumPrerequisite\\\"},{\\\"source_id\\\":3,\\\"target_id\\\":18,\\\"type\\\":\\\"CurriculumPrerequisite\\\"},{\\\"source_id\\\":15,\\\"target_id\\\":18,\\\"type\\\":\\\"CurriculumPrerequisite\\\"},{\\\"source_id\\\":6,\\\"target_id\\\":18,\\\"type\\\":\\\"CurriculumPrerequisite\\\"}],\\\"name\\\":\\\" \\\",\\\"metrics\\\":{\\\"complexity\\\":10.0,\\\"centrality\\\":318,\\\"blocking factor\\\":2,\\\"delay factor\\\":8.0},\\\"nameSub\\\":\\\"AGSC 206\\\",\\\"id\\\":18,\\\"credits\\\":3,\\\"nameCanonical\\\":\\\"\\\"},{\\\"curriculum_requisites\\\":[{\\\"source_id\\\":13,\\\"target_id\\\":19,\\\"type\\\":\\\"CurriculumPrerequisite\\\"}],\\\"name\\\":\\\" \\\",\\\"metrics\\\":{\\\"complexity\\\":15.0,\\\"centrality\\\":222,\\\"blocking factor\\\":7,\\\"delay factor\\\":8.0},\\\"nameSub\\\":\\\"BIOL 191\\\",\\\"id\\\":19,\\\"credits\\\":3,\\\"nameCanonical\\\":\\\"\\\"},{\\\"curriculum_requisites\\\":[{\\\"source_id\\\":13,\\\"target_id\\\":20,\\\"type\\\":\\\"CurriculumPrerequisite\\\"},{\\\"source_id\\\":19,\\\"target_id\\\":20,\\\"type\\\":\\\"CurriculumCorequisite\\\"}],\\\"name\\\":\\\" \\\",\\\"metrics\\\":{\\\"complexity\\\":7.0,\\\"centrality\\\":0,\\\"blocking factor\\\":0,\\\"delay factor\\\":7.0},\\\"nameSub\\\":\\\"BIOL 192\\\",\\\"id\\\":20,\\\"credits\\\":2,\\\"nameCanonical\\\":\\\"\\\"},{\\\"curriculum_requisites\\\":[{\\\"source_id\\\":3,\\\"target_id\\\":21,\\\"type\\\":\\\"CurriculumPrerequisite\\\"}],\\\"name\\\":\\\" \\\",\\\"metrics\\\":{\\\"complexity\\\":2.0,\\\"centrality\\\":0,\\\"blocking factor\\\":0,\\\"delay factor\\\":2.0},\\\"nameSub\\\":\\\"NRES 241\\\",\\\"id\\\":21,\\\"credits\\\":3,\\\"nameCanonical\\\":\\\"\\\"},{\\\"curriculum_requisites\\\":[{\\\"source_id\\\":13,\\\"target_id\\\":22,\\\"type\\\":\\\"CurriculumPrerequisite\\\"},{\\\"source_id\\\":14,\\\"target_id\\\":22,\\\"type\\\":\\\"CurriculumPrerequisite\\\"},{\\\"source_id\\\":19,\\\"target_id\\\":22,\\\"type\\\":\\\"CurriculumCorequisite\\\"},{\\\"source_id\\\":15,\\\"target_id\\\":22,\\\"type\\\":\\\"CurriculumPrerequisite\\\"}],\\\"name\\\":\\\" \\\",\\\"metrics\\\":{\\\"complexity\\\":7.0,\\\"centrality\\\":0,\\\"blocking factor\\\":0,\\\"delay factor\\\":7.0},\\\"nameSub\\\":\\\"AGSC 211\\\",\\\"id\\\":22,\\\"credits\\\":3,\\\"nameCanonical\\\":\\\"\\\"}],\\\"id\\\":4},{\\\"name\\\":\\\"Term 5\\\",\\\"curriculum_items\\\":[{\\\"curriculum_requisites\\\":[],\\\"name\\\":\\\" \\\",\\\"metrics\\\":{\\\"complexity\\\":1.0,\\\"centrality\\\":0,\\\"blocking factor\\\":0,\\\"delay factor\\\":1.0},\\\"nameSub\\\":\\\"AGSC 250\\\",\\\"id\\\":23,\\\"credits\\\":3,\\\"nameCanonical\\\":\\\"\\\"},{\\\"curriculum_requisites\\\":[],\\\"name\\\":\\\" \\\",\\\"metrics\\\":{\\\"complexity\\\":1.0,\\\"centrality\\\":0,\\\"blocking factor\\\":0,\\\"delay factor\\\":1.0},\\\"nameSub\\\":\\\"AGSC 416\\\",\\\"id\\\":24,\\\"credits\\\":3,\\\"nameCanonical\\\":\\\"\\\"},{\\\"curriculum_requisites\\\":[],\\\"name\\\":\\\" \\\",\\\"metrics\\\":{\\\"complexity\\\":1.0,\\\"centrality\\\":0,\\\"blocking factor\\\":0,\\\"delay factor\\\":1.0},\\\"nameSub\\\":\\\"NUTR 325\\\",\\\"id\\\":25,\\\"credits\\\":3,\\\"nameCanonical\\\":\\\"\\\"},{\\\"curriculum_requisites\\\":[{\\\"source_id\\\":7,\\\"target_id\\\":26,\\\"type\\\":\\\"CurriculumPrerequisite\\\"},{\\\"source_id\\\":6,\\\"target_id\\\":26,\\\"type\\\":\\\"CurriculumPrerequisite\\\"}],\\\"name\\\":\\\" \\\",\\\"metrics\\\":{\\\"complexity\\\":9.0,\\\"centrality\\\":87,\\\"blocking factor\\\":3,\\\"delay factor\\\":6.0},\\\"nameSub\\\":\\\"CHEM 220A\\\",\\\"id\\\":26,\\\"credits\\\":3,\\\"nameCanonical\\\":\\\"\\\"},{\\\"curriculum_requisites\\\":[{\\\"source_id\\\":26,\\\"target_id\\\":27,\\\"type\\\":\\\"CurriculumCorequisite\\\"}],\\\"name\\\":\\\" \\\",\\\"metrics\\\":{\\\"complexity\\\":6.0,\\\"centrality\\\":0,\\\"blocking factor\\\":0,\\\"delay factor\\\":6.0},\\\"nameSub\\\":\\\"CHEM 220L\\\",\\\"id\\\":27,\\\"credits\\\":1,\\\"nameCanonical\\\":\\\"\\\"},{\\\"curriculum_requisites\\\":[],\\\"name\\\":\\\" \\\",\\\"metrics\\\":{\\\"complexity\\\":1.0,\\\"centrality\\\":0,\\\"blocking factor\\\":0,\\\"delay factor\\\":1.0},\\\"nameSub\\\":\\\"Elective\\\",\\\"id\\\":28,\\\"credits\\\":3,\\\"nameCanonical\\\":\\\"\\\"}],\\\"id\\\":5},{\\\"name\\\":\\\"Term 6\\\",\\\"curriculum_items\\\":[{\\\"curriculum_requisites\\\":[{\\\"source_id\\\":19,\\\"target_id\\\":29,\\\"type\\\":\\\"CurriculumPrerequisite\\\"}],\\\"name\\\":\\\" \\\",\\\"metrics\\\":{\\\"complexity\\\":7.0,\\\"centrality\\\":0,\\\"blocking factor\\\":0,\\\"delay factor\\\":7.0},\\\"nameSub\\\":\\\"AGSC 325\\\",\\\"id\\\":29,\\\"credits\\\":3,\\\"nameCanonical\\\":\\\"\\\"},{\\\"curriculum_requisites\\\":[{\\\"source_id\\\":3,\\\"target_id\\\":30,\\\"type\\\":\\\"CurriculumPrerequisite\\\"},{\\\"source_id\\\":18,\\\"target_id\\\":30,\\\"type\\\":\\\"CurriculumPrerequisite\\\"}],\\\"name\\\":\\\" \\\",\\\"metrics\\\":{\\\"complexity\\\":8.0,\\\"centrality\\\":0,\\\"blocking factor\\\":0,\\\"delay factor\\\":8.0},\\\"nameSub\\\":\\\"AGSC 425\\\",\\\"id\\\":30,\\\"credits\\\":4,\\\"nameCanonical\\\":\\\"\\\"},{\\\"curriculum_requisites\\\":[{\\\"source_id\\\":26,\\\"target_id\\\":31,\\\"type\\\":\\\"CurriculumPrerequisite\\\"},{\\\"source_id\\\":13,\\\"target_id\\\":31,\\\"type\\\":\\\"CurriculumPrerequisite\\\"}],\\\"name\\\":\\\" \\\",\\\"metrics\\\":{\\\"complexity\\\":6.0,\\\"centrality\\\":0,\\\"blocking factor\\\":0,\\\"delay factor\\\":6.0},\\\"nameSub\\\":\\\"BCH 400\\\",\\\"id\\\":31,\\\"credits\\\":4,\\\"nameCanonical\\\":\\\"\\\"},{\\\"curriculum_requisites\\\":[{\\\"source_id\\\":13,\\\"target_id\\\":32,\\\"type\\\":\\\"CurriculumPrerequisite\\\"},{\\\"source_id\\\":19,\\\"target_id\\\":32,\\\"type\\\":\\\"CurriculumPrerequisite\\\"}],\\\"name\\\":\\\" \\\",\\\"metrics\\\":{\\\"complexity\\\":10.0,\\\"centrality\\\":152,\\\"blocking factor\\\":2,\\\"delay factor\\\":8.0},\\\"nameSub\\\":\\\"VM 328\\\",\\\"id\\\":32,\\\"credits\\\":4,\\\"nameCanonical\\\":\\\"\\\"}],\\\"id\\\":6},{\\\"name\\\":\\\"Term 7\\\",\\\"curriculum_items\\\":[{\\\"curriculum_requisites\\\":[{\\\"source_id\\\":32,\\\"target_id\\\":33,\\\"type\\\":\\\"CurriculumCorequisite\\\"}],\\\"name\\\":\\\" \\\",\\\"metrics\\\":{\\\"complexity\\\":8.0,\\\"centrality\\\":0,\\\"blocking factor\\\":0,\\\"delay factor\\\":8.0},\\\"nameSub\\\":\\\"AGSC 310\\\",\\\"id\\\":33,\\\"credits\\\":3,\\\"nameCanonical\\\":\\\"\\\"},{\\\"curriculum_requisites\\\":[{\\\"source_id\\\":26,\\\"target_id\\\":34,\\\"type\\\":\\\"CurriculumPrerequisite\\\"},{\\\"source_id\\\":18,\\\"target_id\\\":34,\\\"type\\\":\\\"CurriculumPrerequisite\\\"}],\\\"name\\\":\\\" \\\",\\\"metrics\\\":{\\\"complexity\\\":8.0,\\\"centrality\\\":0,\\\"blocking factor\\\":0,\\\"delay factor\\\":8.0},\\\"nameSub\\\":\\\"AGSC 406\\\",\\\"id\\\":34,\\\"credits\\\":4,\\\"nameCanonical\\\":\\\"\\\"},{\\\"curriculum_requisites\\\":[{\\\"source_id\\\":16,\\\"target_id\\\":35,\\\"type\\\":\\\"CurriculumPrerequisite\\\"},{\\\"source_id\\\":8,\\\"target_id\\\":35,\\\"type\\\":\\\"CurriculumPrerequisite\\\"}],\\\"name\\\":\\\" \\\",\\\"metrics\\\":{\\\"complexity\\\":3.0,\\\"centrality\\\":0,\\\"blocking factor\\\":0,\\\"delay factor\\\":3.0},\\\"nameSub\\\":\\\"AGSC 415\\\",\\\"id\\\":35,\\\"credits\\\":3,\\\"nameCanonical\\\":\\\"\\\"},{\\\"curriculum_requisites\\\":[],\\\"name\\\":\\\" \\\",\\\"metrics\\\":{\\\"complexity\\\":1.0,\\\"centrality\\\":0,\\\"blocking factor\\\":0,\\\"delay factor\\\":1.0},\\\"nameSub\\\":\\\"Elective\\\",\\\"id\\\":36,\\\"credits\\\":6,\\\"nameCanonical\\\":\\\"\\\"}],\\\"id\\\":7},{\\\"name\\\":\\\"Term 8\\\",\\\"curriculum_items\\\":[{\\\"curriculum_requisites\\\":[{\\\"source_id\\\":32,\\\"target_id\\\":37,\\\"type\\\":\\\"CurriculumPrerequisite\\\"},{\\\"source_id\\\":3,\\\"target_id\\\":37,\\\"type\\\":\\\"CurriculumPrerequisite\\\"}],\\\"name\\\":\\\" \\\",\\\"metrics\\\":{\\\"complexity\\\":8.0,\\\"centrality\\\":0,\\\"blocking factor\\\":0,\\\"delay factor\\\":8.0},\\\"nameSub\\\":\\\"AGSC 410\\\",\\\"id\\\":37,\\\"credits\\\":3,\\\"nameCanonical\\\":\\\"\\\"},{\\\"curriculum_requisites\\\":[{\\\"source_id\\\":19,\\\"target_id\\\":38,\\\"type\\\":\\\"CurriculumPrerequisite\\\"}],\\\"name\\\":\\\" \\\",\\\"metrics\\\":{\\\"complexity\\\":7.0,\\\"centrality\\\":0,\\\"blocking factor\\\":0,\\\"delay factor\\\":7.0},\\\"nameSub\\\":\\\"VM 475\\\",\\\"id\\\":38,\\\"credits\\\":3,\\\"nameCanonical\\\":\\\"\\\"},{\\\"curriculum_requisites\\\":[],\\\"name\\\":\\\" \\\",\\\"metrics\\\":{\\\"complexity\\\":1.0,\\\"centrality\\\":0,\\\"blocking factor\\\":0,\\\"delay factor\\\":1.0},\\\"nameSub\\\":\\\"Electives\\\",\\\"id\\\":39,\\\"credits\\\":6,\\\"nameCanonical\\\":\\\"\\\"}],\\\"id\\\":8}],\\\"institution\\\":\\\"University of Nevada-Reno\\\"}},\\\"*\\\"); window.removeEventListener(\\\"message\\\",window.messageReceived); window.messageReceived=(function (event){return (event.data.curriculum!==undefined) ? (WebIO.setval({\\\"name\\\":\\\"curriculum-data\\\",\\\"scope\\\":\\\"644089127279214502\\\",\\\"id\\\":\\\"4812524561297704311\\\",\\\"type\\\":\\\"observable\\\"},event.data.curriculum)) : undefined}); return window.addEventListener(\\\"message\\\",window.messageReceived)})\")),:style => Dict(:padding => \"0\",:height => \"100vh\",:margin => \"0\",:border => \"none\",:width => \"100%\"))), Dict{String,Tuple{Observables.AbstractObservable,Union{Nothing, Bool}}}(\"curriculum-data\" => (Observable{Dict{String,Any}} with 1 listeners. Value:\n",
       "Dict{String,Any}(\"options\" => Dict{String,Any}(\"hideTerms\" => false,\"edit\" => false),\"curriculum\" => Dict{String,Any}(\"name\" => \"Animal Science\",\"dp_name\" => \"4-Year Plan\",\"curriculum_terms\" => Dict{String,Any}[Dict(\"name\" => \"Term 1\",\"curriculum_items\" => Dict{String,Any}[Dict(\"curriculum_requisites\" => Dict{String,Any}[],\"name\" => \" \",\"metrics\" => Dict{String,Any}(\"complexity\" => 6.0,\"centrality\" => 0,\"blocking factor\" => 3,\"delay factor\" => 3.0),\"nameSub\" => \"ENG 101\",\"id\" => 1,\"credits\" => 3,\"nameCanonical\" => \"\"), Dict(\"curriculum_requisites\" => Dict{String,Any}[],\"name\" => \" \",\"metrics\" => Dict{String,Any}(\"complexity\" => 30.0,\"centrality\" => 0,\"blocking factor\" => 22,\"delay factor\" => 8.0),\"nameSub\" => \"MATH 126\",\"id\" => 2,\"credits\" => 3,\"nameCanonical\" => \"\"), Dict(\"curriculum_requisites\" => Dict{String,Any}[],\"name\" => \" \",\"metrics\" => Dict{String,Any}(\"complexity\" => 8.0,\"centrality\" => 0,\"blocking factor\" => 5,\"delay factor\" => 3.0),\"nameSub\" => \"AGSC 100\",\"id\" => 3,\"credits\" => 3,\"nameCanonical\" => \"\"), Dict(\"curriculum_requisites\" => Dict{String,Any}[Dict(\"source_id\" => 2,\"target_id\" => 4,\"type\" => \"CurriculumCorequisite\")],\"name\" => \" \",\"metrics\" => Dict{String,Any}(\"complexity\" => 2.0,\"centrality\" => 0,\"blocking factor\" => 0,\"delay factor\" => 2.0),\"nameSub\" => \"ECON 102\",\"id\" => 4,\"credits\" => 3,\"nameCanonical\" => \"\"), Dict(\"curriculum_requisites\" => Dict{String,Any}[],\"name\" => \" \",\"metrics\" => Dict{String,Any}(\"complexity\" => 1.0,\"centrality\" => 0,\"blocking factor\" => 0,\"delay factor\" => 1.0),\"nameSub\" => \"Fine Arts\",\"id\" => 5,\"credits\" => 3,\"nameCanonical\" => \"\")],\"id\" => 1), Dict(\"name\" => \"Term 2\",\"curriculum_items\" => Dict{String,Any}[Dict(\"curriculum_requisites\" => Dict{String,Any}[Dict(\"source_id\" => 7,\"target_id\" => 6,\"type\" => \"CurriculumCorequisite\"), Dict(\"source_id\" => 9,\"target_id\" => 6,\"type\" => \"CurriculumCorequisite\"), Dict(\"source_id\" => 2,\"target_id\" => 6,\"type\" => \"CurriculumPrerequisite\")],\"name\" => \" \",\"metrics\" => Dict{String,Any}(\"complexity\" => 25.0,\"centrality\" => 576,\"blocking factor\" => 17,\"delay factor\" => 8.0),\"nameSub\" => \"CHEM 121A\",\"id\" => 6,\"credits\" => 3,\"nameCanonical\" => \"\"), Dict(\"curriculum_requisites\" => Dict{String,Any}[Dict(\"source_id\" => 9,\"target_id\" => 7,\"type\" => \"CurriculumCorequisite\"), Dict(\"source_id\" => 2,\"target_id\" => 7,\"type\" => \"CurriculumPrerequisite\")],\"name\" => \" \",\"metrics\" => Dict{String,Any}(\"complexity\" => 26.0,\"centrality\" => 576,\"blocking factor\" => 18,\"delay factor\" => 8.0),\"nameSub\" => \"CHEM 121L\",\"id\" => 7,\"credits\" => 1,\"nameCanonical\" => \"\"), Dict(\"curriculum_requisites\" => Dict{String,Any}[Dict(\"source_id\" => 1,\"target_id\" => 8,\"type\" => \"CurriculumPrerequisite\")],\"name\" => \" \",\"metrics\" => Dict{String,Any}(\"complexity\" => 4.0,\"centrality\" => 3,\"blocking factor\" => 1,\"delay factor\" => 3.0),\"nameSub\" => \"ENG 102\",\"id\" => 8,\"credits\" => 3,\"nameCanonical\" => \"\"), Dict(\"curriculum_requisites\" => Dict{String,Any}[Dict(\"source_id\" => 2,\"target_id\" => 9,\"type\" => \"CurriculumPrerequisite\")],\"name\" => \" \",\"metrics\" => Dict{String,Any}(\"complexity\" => 27.0,\"centrality\" => 502,\"blocking factor\" => 19,\"delay factor\" => 8.0),\"nameSub\" => \"MATH 127\",\"id\" => 9,\"credits\" => 3,\"nameCanonical\" => \"\"), Dict(\"curriculum_requisites\" => Dict{String,Any}[],\"name\" => \" \",\"metrics\" => Dict{String,Any}(\"complexity\" => 1.0,\"centrality\" => 0,\"blocking factor\" => 0,\"delay factor\" => 1.0),\"nameSub\" => \"Elective\",\"id\" => 10,\"credits\" => 3,\"nameCanonical\" => \"\"), Dict(\"curriculum_requisites\" => Dict{String,Any}[],\"name\" => \" \",\"metrics\" => Dict{String,Any}(\"complexity\" => 1.0,\"centrality\" => 0,\"blocking factor\" => 0,\"delay factor\" => 1.0),\"nameSub\" => \"AGSC 211\",\"id\" => 11,\"credits\" => 3,\"nameCanonical\" => \"\")],\"id\" => 2), Dict(\"name\" => \"Term 3\",\"curriculum_items\" => Dict{String,Any}[Dict(\"curriculum_requisites\" => Dict{String,Any}[Dict(\"source_id\" => 2,\"target_id\" => 12,\"type\" => \"CurriculumPrerequisite\")],\"name\" => \" \",\"metrics\" => Dict{String,Any}(\"complexity\" => 2.0,\"centrality\" => 0,\"blocking factor\" => 0,\"delay factor\" => 2.0),\"nameSub\" => \"APST 207\",\"id\" => 12,\"credits\" => 3,\"nameCanonical\" => \"\"), Dict(\"curriculum_requisites\" => Dict{String,Any}[Dict(\"source_id\" => 7,\"target_id\" => 13,\"type\" => \"CurriculumPrerequisite\"), Dict(\"source_id\" => 6,\"target_id\" => 13,\"type\" => \"CurriculumPrerequisite\")],\"name\" => \" \",\"metrics\" => Dict{String,Any}(\"complexity\" => 17.0,\"centrality\" => 379,\"blocking factor\" => 9,\"delay factor\" => 8.0),\"nameSub\" => \"BIOL 190\",\"id\" => 13,\"credits\" => 3,\"nameCanonical\" => \"\"), Dict(\"curriculum_requisites\" => Dict{String,Any}[Dict(\"source_id\" => 7,\"target_id\" => 14,\"type\" => \"CurriculumPrerequisite\"), Dict(\"source_id\" => 9,\"target_id\" => 14,\"type\" => \"CurriculumPrerequisite\"), Dict(\"source_id\" => 15,\"target_id\" => 14,\"type\" => \"CurriculumCorequisite\"), Dict(\"source_id\" => 6,\"target_id\" => 14,\"type\" => \"CurriculumPrerequisite\")],\"name\" => \" \",\"metrics\" => Dict{String,Any}(\"complexity\" => 12.0,\"centrality\" => 247,\"blocking factor\" => 4,\"delay factor\" => 8.0),\"nameSub\" => \"CHEM 122A\",\"id\" => 14,\"credits\" => 3,\"nameCanonical\" => \"\"), Dict(\"curriculum_requisites\" => Dict{String,Any}[Dict(\"source_id\" => 7,\"target_id\" => 15,\"type\" => \"CurriculumPrerequisite\"), Dict(\"source_id\" => 9,\"target_id\" => 15,\"type\" => \"CurriculumPrerequisite\"), Dict(\"source_id\" => 6,\"target_id\" => 15,\"type\" => \"CurriculumPrerequisite\")],\"name\" => \" \",\"metrics\" => Dict{String,Any}(\"complexity\" => 13.0,\"centrality\" => 247,\"blocking factor\" => 5,\"delay factor\" => 8.0),\"nameSub\" => \"CHEM 122L\",\"id\" => 15,\"credits\" => 1,\"nameCanonical\" => \"\"), Dict(\"curriculum_requisites\" => Dict{String,Any}[Dict(\"source_id\" => 1,\"target_id\" => 16,\"type\" => \"CurriculumPrerequisite\")],\"name\" => \" \",\"metrics\" => Dict{String,Any}(\"complexity\" => 4.0,\"centrality\" => 3,\"blocking factor\" => 1,\"delay factor\" => 3.0),\"nameSub\" => \"CH 201\",\"id\" => 16,\"credits\" => 3,\"nameCanonical\" => \"\"), Dict(\"curriculum_requisites\" => Dict{String,Any}[],\"name\" => \" \",\"metrics\" => Dict{String,Any}(\"complexity\" => 1.0,\"centrality\" => 0,\"blocking factor\" => 0,\"delay factor\" => 1.0),\"nameSub\" => \"CH 203\",\"id\" => 17,\"credits\" => 3,\"nameCanonical\" => \"\")],\"id\" => 3), Dict(\"name\" => \"Term 4\",\"curriculum_items\" => Dict{String,Any}[Dict(\"curriculum_requisites\" => Dict{String,Any}[Dict(\"source_id\" => 7,\"target_id\" => 18,\"type\" => \"CurriculumPrerequisite\"), Dict(\"source_id\" => 14,\"target_id\" => 18,\"type\" => \"CurriculumPrerequisite\"), Dict(\"source_id\" => 3,\"target_id\" => 18,\"type\" => \"CurriculumPrerequisite\"), Dict(\"source_id\" => 15,\"target_id\" => 18,\"type\" => \"CurriculumPrerequisite\"), Dict(\"source_id\" => 6,\"target_id\" => 18,\"type\" => \"CurriculumPrerequisite\")],\"name\" => \" \",\"metrics\" => Dict{String,Any}(\"complexity\" => 10.0,\"centrality\" => 318,\"blocking factor\" => 2,\"delay factor\" => 8.0),\"nameSub\" => \"AGSC 206\",\"id\" => 18,\"credits\" => 3,\"nameCanonical\" => \"\"), Dict(\"curriculum_requisites\" => Dict{String,Any}[Dict(\"source_id\" => 13,\"target_id\" => 19,\"type\" => \"CurriculumPrerequisite\")],\"name\" => \" \",\"metrics\" => Dict{String,Any}(\"complexity\" => 15.0,\"centrality\" => 222,\"blocking factor\" => 7,\"delay factor\" => 8.0),\"nameSub\" => \"BIOL 191\",\"id\" => 19,\"credits\" => 3,\"nameCanonical\" => \"\"), Dict(\"curriculum_requisites\" => Dict{String,Any}[Dict(\"source_id\" => 13,\"target_id\" => 20,\"type\" => \"CurriculumPrerequisite\"), Dict(\"source_id\" => 19,\"target_id\" => 20,\"type\" => \"CurriculumCorequisite\")],\"name\" => \" \",\"metrics\" => Dict{String,Any}(\"complexity\" => 7.0,\"centrality\" => 0,\"blocking factor\" => 0,\"delay factor\" => 7.0),\"nameSub\" => \"BIOL 192\",\"id\" => 20,\"credits\" => 2,\"nameCanonical\" => \"\"), Dict(\"curriculum_requisites\" => Dict{String,Any}[Dict(\"source_id\" => 3,\"target_id\" => 21,\"type\" => \"CurriculumPrerequisite\")],\"name\" => \" \",\"metrics\" => Dict{String,Any}(\"complexity\" => 2.0,\"centrality\" => 0,\"blocking factor\" => 0,\"delay factor\" => 2.0),\"nameSub\" => \"NRES 241\",\"id\" => 21,\"credits\" => 3,\"nameCanonical\" => \"\"), Dict(\"curriculum_requisites\" => Dict{String,Any}[Dict(\"source_id\" => 13,\"target_id\" => 22,\"type\" => \"CurriculumPrerequisite\"), Dict(\"source_id\" => 14,\"target_id\" => 22,\"type\" => \"CurriculumPrerequisite\"), Dict(\"source_id\" => 19,\"target_id\" => 22,\"type\" => \"CurriculumCorequisite\"), Dict(\"source_id\" => 15,\"target_id\" => 22,\"type\" => \"CurriculumPrerequisite\")],\"name\" => \" \",\"metrics\" => Dict{String,Any}(\"complexity\" => 7.0,\"centrality\" => 0,\"blocking factor\" => 0,\"delay factor\" => 7.0),\"nameSub\" => \"AGSC 211\",\"id\" => 22,\"credits\" => 3,\"nameCanonical\" => \"\")],\"id\" => 4), Dict(\"name\" => \"Term 5\",\"curriculum_items\" => Dict{String,Any}[Dict(\"curriculum_requisites\" => Dict{String,Any}[],\"name\" => \" \",\"metrics\" => Dict{String,Any}(\"complexity\" => 1.0,\"centrality\" => 0,\"blocking factor\" => 0,\"delay factor\" => 1.0),\"nameSub\" => \"AGSC 250\",\"id\" => 23,\"credits\" => 3,\"nameCanonical\" => \"\"), Dict(\"curriculum_requisites\" => Dict{String,Any}[],\"name\" => \" \",\"metrics\" => Dict{String,Any}(\"complexity\" => 1.0,\"centrality\" => 0,\"blocking factor\" => 0,\"delay factor\" => 1.0),\"nameSub\" => \"AGSC 416\",\"id\" => 24,\"credits\" => 3,\"nameCanonical\" => \"\"), Dict(\"curriculum_requisites\" => Dict{String,Any}[],\"name\" => \" \",\"metrics\" => Dict{String,Any}(\"complexity\" => 1.0,\"centrality\" => 0,\"blocking factor\" => 0,\"delay factor\" => 1.0),\"nameSub\" => \"NUTR 325\",\"id\" => 25,\"credits\" => 3,\"nameCanonical\" => \"\"), Dict(\"curriculum_requisites\" => Dict{String,Any}[Dict(\"source_id\" => 7,\"target_id\" => 26,\"type\" => \"CurriculumPrerequisite\"), Dict(\"source_id\" => 6,\"target_id\" => 26,\"type\" => \"CurriculumPrerequisite\")],\"name\" => \" \",\"metrics\" => Dict{String,Any}(\"complexity\" => 9.0,\"centrality\" => 87,\"blocking factor\" => 3,\"delay factor\" => 6.0),\"nameSub\" => \"CHEM 220A\",\"id\" => 26,\"credits\" => 3,\"nameCanonical\" => \"\"), Dict(\"curriculum_requisites\" => Dict{String,Any}[Dict(\"source_id\" => 26,\"target_id\" => 27,\"type\" => \"CurriculumCorequisite\")],\"name\" => \" \",\"metrics\" => Dict{String,Any}(\"complexity\" => 6.0,\"centrality\" => 0,\"blocking factor\" => 0,\"delay factor\" => 6.0),\"nameSub\" => \"CHEM 220L\",\"id\" => 27,\"credits\" => 1,\"nameCanonical\" => \"\"), Dict(\"curriculum_requisites\" => Dict{String,Any}[],\"name\" => \" \",\"metrics\" => Dict{String,Any}(\"complexity\" => 1.0,\"centrality\" => 0,\"blocking factor\" => 0,\"delay factor\" => 1.0),\"nameSub\" => \"Elective\",\"id\" => 28,\"credits\" => 3,\"nameCanonical\" => \"\")],\"id\" => 5), Dict(\"name\" => \"Term 6\",\"curriculum_items\" => Dict{String,Any}[Dict(\"curriculum_requisites\" => Dict{String,Any}[Dict(\"source_id\" => 19,\"target_id\" => 29,\"type\" => \"CurriculumPrerequisite\")],\"name\" => \" \",\"metrics\" => Dict{String,Any}(\"complexity\" => 7.0,\"centrality\" => 0,\"blocking factor\" => 0,\"delay factor\" => 7.0),\"nameSub\" => \"AGSC 325\",\"id\" => 29,\"credits\" => 3,\"nameCanonical\" => \"\"), Dict(\"curriculum_requisites\" => Dict{String,Any}[Dict(\"source_id\" => 3,\"target_id\" => 30,\"type\" => \"CurriculumPrerequisite\"), Dict(\"source_id\" => 18,\"target_id\" => 30,\"type\" => \"CurriculumPrerequisite\")],\"name\" => \" \",\"metrics\" => Dict{String,Any}(\"complexity\" => 8.0,\"centrality\" => 0,\"blocking factor\" => 0,\"delay factor\" => 8.0),\"nameSub\" => \"AGSC 425\",\"id\" => 30,\"credits\" => 4,\"nameCanonical\" => \"\"), Dict(\"curriculum_requisites\" => Dict{String,Any}[Dict(\"source_id\" => 26,\"target_id\" => 31,\"type\" => \"CurriculumPrerequisite\"), Dict(\"source_id\" => 13,\"target_id\" => 31,\"type\" => \"CurriculumPrerequisite\")],\"name\" => \" \",\"metrics\" => Dict{String,Any}(\"complexity\" => 6.0,\"centrality\" => 0,\"blocking factor\" => 0,\"delay factor\" => 6.0),\"nameSub\" => \"BCH 400\",\"id\" => 31,\"credits\" => 4,\"nameCanonical\" => \"\"), Dict(\"curriculum_requisites\" => Dict{String,Any}[Dict(\"source_id\" => 13,\"target_id\" => 32,\"type\" => \"CurriculumPrerequisite\"), Dict(\"source_id\" => 19,\"target_id\" => 32,\"type\" => \"CurriculumPrerequisite\")],\"name\" => \" \",\"metrics\" => Dict{String,Any}(\"complexity\" => 10.0,\"centrality\" => 152,\"blocking factor\" => 2,\"delay factor\" => 8.0),\"nameSub\" => \"VM 328\",\"id\" => 32,\"credits\" => 4,\"nameCanonical\" => \"\")],\"id\" => 6), Dict(\"name\" => \"Term 7\",\"curriculum_items\" => Dict{String,Any}[Dict(\"curriculum_requisites\" => Dict{String,Any}[Dict(\"source_id\" => 32,\"target_id\" => 33,\"type\" => \"CurriculumCorequisite\")],\"name\" => \" \",\"metrics\" => Dict{String,Any}(\"complexity\" => 8.0,\"centrality\" => 0,\"blocking factor\" => 0,\"delay factor\" => 8.0),\"nameSub\" => \"AGSC 310\",\"id\" => 33,\"credits\" => 3,\"nameCanonical\" => \"\"), Dict(\"curriculum_requisites\" => Dict{String,Any}[Dict(\"source_id\" => 26,\"target_id\" => 34,\"type\" => \"CurriculumPrerequisite\"), Dict(\"source_id\" => 18,\"target_id\" => 34,\"type\" => \"CurriculumPrerequisite\")],\"name\" => \" \",\"metrics\" => Dict{String,Any}(\"complexity\" => 8.0,\"centrality\" => 0,\"blocking factor\" => 0,\"delay factor\" => 8.0),\"nameSub\" => \"AGSC 406\",\"id\" => 34,\"credits\" => 4,\"nameCanonical\" => \"\"), Dict(\"curriculum_requisites\" => Dict{String,Any}[Dict(\"source_id\" => 16,\"target_id\" => 35,\"type\" => \"CurriculumPrerequisite\"), Dict(\"source_id\" => 8,\"target_id\" => 35,\"type\" => \"CurriculumPrerequisite\")],\"name\" => \" \",\"metrics\" => Dict{String,Any}(\"complexity\" => 3.0,\"centrality\" => 0,\"blocking factor\" => 0,\"delay factor\" => 3.0),\"nameSub\" => \"AGSC 415\",\"id\" => 35,\"credits\" => 3,\"nameCanonical\" => \"\"), Dict(\"curriculum_requisites\" => Dict{String,Any}[],\"name\" => \" \",\"metrics\" => Dict{String,Any}(\"complexity\" => 1.0,\"centrality\" => 0,\"blocking factor\" => 0,\"delay factor\" => 1.0),\"nameSub\" => \"Elective\",\"id\" => 36,\"credits\" => 6,\"nameCanonical\" => \"\")],\"id\" => 7), Dict(\"name\" => \"Term 8\",\"curriculum_items\" => Dict{String,Any}[Dict(\"curriculum_requisites\" => Dict{String,Any}[Dict(\"source_id\" => 32,\"target_id\" => 37,\"type\" => \"CurriculumPrerequisite\"), Dict(\"source_id\" => 3,\"target_id\" => 37,\"type\" => \"CurriculumPrerequisite\")],\"name\" => \" \",\"metrics\" => Dict{String,Any}(\"complexity\" => 8.0,\"centrality\" => 0,\"blocking factor\" => 0,\"delay factor\" => 8.0),\"nameSub\" => \"AGSC 410\",\"id\" => 37,\"credits\" => 3,\"nameCanonical\" => \"\"), Dict(\"curriculum_requisites\" => Dict{String,Any}[Dict(\"source_id\" => 19,\"target_id\" => 38,\"type\" => \"CurriculumPrerequisite\")],\"name\" => \" \",\"metrics\" => Dict{String,Any}(\"complexity\" => 7.0,\"centrality\" => 0,\"blocking factor\" => 0,\"delay factor\" => 7.0),\"nameSub\" => \"VM 475\",\"id\" => 38,\"credits\" => 3,\"nameCanonical\" => \"\"), Dict(\"curriculum_requisites\" => Dict{String,Any}[],\"name\" => \" \",\"metrics\" => Dict{String,Any}(\"complexity\" => 1.0,\"centrality\" => 0,\"blocking factor\" => 0,\"delay factor\" => 1.0),\"nameSub\" => \"Electives\",\"id\" => 39,\"credits\" => 6,\"nameCanonical\" => \"\")],\"id\" => 8)],\"institution\" => \"University of Nevada-Reno\")), nothing)), Set{String}(), nothing, WebIO.Asset[], Dict{Any,Any}(), WebIO.ConnectionPool(Channel{Any}(sz_max:32,sz_curr:0), Set{WebIO.AbstractConnection}(), Base.GenericCondition{Base.AlwaysLockedST}(Base.InvasiveLinkedList{Task}(Task (runnable) @0x0000000141494490, Task (runnable) @0x0000000141494490), Base.AlwaysLockedST(1))), WebIO.JSString[])"
      ]
     },
     "execution_count": 8,
     "metadata": {
      "application/vnd.webio.node+json": {
       "kernelId": null
      }
     },
     "output_type": "execute_result"
    }
   ],
   "source": [
    "dp = schools_plans[\"university-of-nevada-reno\"][\"animal-science\"]\n",
    "visualize(dp, notebook=true)"
   ]
  },
  {
   "cell_type": "code",
   "execution_count": 10,
   "metadata": {
    "scrolled": false
   },
   "outputs": [
    {
     "data": {
      "application/vnd.webio.node+json": {
       "children": [
        {
         "children": [
          ""
         ],
         "instanceArgs": {
          "namespace": "html",
          "tag": "iframe"
         },
         "nodeType": "DOM",
         "props": {
          "events": {
           "load": "(function (){this.contentWindow.postMessage({\"options\":{\"hideTerms\":false,\"edit\":false},\"curriculum\":{\"name\":\"Animal Science (Equine)\",\"dp_name\":\"4-Year Plan\",\"curriculum_terms\":[{\"name\":\"Term 1\",\"curriculum_items\":[{\"curriculum_requisites\":[],\"name\":\" \",\"metrics\":{\"complexity\":1.0,\"centrality\":0,\"blocking factor\":0,\"delay factor\":1.0},\"nameSub\":\"ADVS 1110\",\"id\":1,\"credits\":4,\"nameCanonical\":\"\"},{\"curriculum_requisites\":[],\"name\":\" \",\"metrics\":{\"complexity\":9.0,\"centrality\":0,\"blocking factor\":5,\"delay factor\":4.0},\"nameSub\":\"BIOL 1610\",\"id\":2,\"credits\":3,\"nameCanonical\":\"\"},{\"curriculum_requisites\":[],\"name\":\" \",\"metrics\":{\"complexity\":1.0,\"centrality\":0,\"blocking factor\":0,\"delay factor\":1.0},\"nameSub\":\"BIOL 1615\",\"id\":3,\"credits\":1,\"nameCanonical\":\"\"},{\"curriculum_requisites\":[],\"name\":\" \",\"metrics\":{\"complexity\":3.0,\"centrality\":0,\"blocking factor\":1,\"delay factor\":2.0},\"nameSub\":\"ENGL 1010\",\"id\":4,\"credits\":3,\"nameCanonical\":\"\"},{\"curriculum_requisites\":[],\"name\":\" \",\"metrics\":{\"complexity\":1.0,\"centrality\":0,\"blocking factor\":0,\"delay factor\":1.0},\"nameSub\":\"MATH 1050\",\"id\":5,\"credits\":4,\"nameCanonical\":\"\"},{\"curriculum_requisites\":[],\"name\":\" \",\"metrics\":{\"complexity\":1.0,\"centrality\":0,\"blocking factor\":0,\"delay factor\":1.0},\"nameSub\":\"ADVS 1050\",\"id\":6,\"credits\":1,\"nameCanonical\":\"\"}],\"id\":1},{\"name\":\"Term 2\",\"curriculum_items\":[{\"curriculum_requisites\":[],\"name\":\" \",\"metrics\":{\"complexity\":1.0,\"centrality\":0,\"blocking factor\":0,\"delay factor\":1.0},\"nameSub\":\"ADVS 1600\",\"id\":7,\"credits\":3,\"nameCanonical\":\"\"},{\"curriculum_requisites\":[],\"name\":\" \",\"metrics\":{\"complexity\":3.0,\"centrality\":0,\"blocking factor\":1,\"delay factor\":2.0},\"nameSub\":\"ADVS 2190\",\"id\":8,\"credits\":3,\"nameCanonical\":\"\"},{\"curriculum_requisites\":[{\"source_id\":2,\"target_id\":9,\"type\":\"CurriculumPrerequisite\"}],\"name\":\" \",\"metrics\":{\"complexity\":8.0,\"centrality\":11,\"blocking factor\":4,\"delay factor\":4.0},\"nameSub\":\"BIOL 1620\",\"id\":9,\"credits\":3,\"nameCanonical\":\"\"},{\"curriculum_requisites\":[],\"name\":\" \",\"metrics\":{\"complexity\":1.0,\"centrality\":0,\"blocking factor\":0,\"delay factor\":1.0},\"nameSub\":\"BIOL 1625\",\"id\":10,\"credits\":1,\"nameCanonical\":\"\"},{\"curriculum_requisites\":[],\"name\":\" \",\"metrics\":{\"complexity\":1.0,\"centrality\":0,\"blocking factor\":0,\"delay factor\":1.0},\"nameSub\":\"STAT 1040\",\"id\":11,\"credits\":3,\"nameCanonical\":\"\"},{\"curriculum_requisites\":[],\"name\":\" \",\"metrics\":{\"complexity\":1.0,\"centrality\":0,\"blocking factor\":0,\"delay factor\":1.0},\"nameSub\":\"Elective 1\",\"id\":12,\"credits\":2,\"nameCanonical\":\"\"}],\"id\":2},{\"name\":\"Term 3\",\"curriculum_items\":[{\"curriculum_requisites\":[{\"source_id\":8,\"target_id\":13,\"type\":\"CurriculumPrerequisite\"}],\"name\":\" \",\"metrics\":{\"complexity\":2.0,\"centrality\":0,\"blocking factor\":0,\"delay factor\":2.0},\"nameSub\":\"ADVS 2300\",\"id\":13,\"credits\":2,\"nameCanonical\":\"\"},{\"curriculum_requisites\":[],\"name\":\" \",\"metrics\":{\"complexity\":3.0,\"centrality\":0,\"blocking factor\":1,\"delay factor\":2.0},\"nameSub\":\"CHEM 1210\",\"id\":14,\"credits\":4,\"nameCanonical\":\"\"},{\"curriculum_requisites\":[],\"name\":\" \",\"metrics\":{\"complexity\":1.0,\"centrality\":0,\"blocking factor\":0,\"delay factor\":1.0},\"nameSub\":\"CHEM 1215\",\"id\":15,\"credits\":1,\"nameCanonical\":\"\"},{\"curriculum_requisites\":[],\"name\":\" \",\"metrics\":{\"complexity\":1.0,\"centrality\":0,\"blocking factor\":0,\"delay factor\":1.0},\"nameSub\":\"APEC 1600\",\"id\":16,\"credits\":3,\"nameCanonical\":\"\"},{\"curriculum_requisites\":[],\"name\":\" \",\"metrics\":{\"complexity\":1.0,\"centrality\":0,\"blocking factor\":0,\"delay factor\":1.0},\"nameSub\":\"LAEP 1030\",\"id\":17,\"credits\":3,\"nameCanonical\":\"\"},{\"curriculum_requisites\":[],\"name\":\" \",\"metrics\":{\"complexity\":1.0,\"centrality\":0,\"blocking factor\":0,\"delay factor\":1.0},\"nameSub\":\"Elective 2\",\"id\":18,\"credits\":2,\"nameCanonical\":\"\"}],\"id\":3},{\"name\":\"Term 4\",\"curriculum_items\":[{\"curriculum_requisites\":[{\"source_id\":9,\"target_id\":19,\"type\":\"CurriculumPrerequisite\"}],\"name\":\" \",\"metrics\":{\"complexity\":6.0,\"centrality\":8,\"blocking factor\":2,\"delay factor\":4.0},\"nameSub\":\"ADVS 2200\",\"id\":19,\"credits\":4,\"nameCanonical\":\"\"},{\"curriculum_requisites\":[],\"name\":\" \",\"metrics\":{\"complexity\":1.0,\"centrality\":0,\"blocking factor\":0,\"delay factor\":1.0},\"nameSub\":\"APEC 2010\",\"id\":20,\"credits\":3,\"nameCanonical\":\"\"},{\"curriculum_requisites\":[{\"source_id\":14,\"target_id\":21,\"type\":\"CurriculumPrerequisite\"}],\"name\":\" \",\"metrics\":{\"complexity\":2.0,\"centrality\":0,\"blocking factor\":0,\"delay factor\":2.0},\"nameSub\":\"CHEM 1220\",\"id\":21,\"credits\":4,\"nameCanonical\":\"\"},{\"curriculum_requisites\":[],\"name\":\" \",\"metrics\":{\"complexity\":1.0,\"centrality\":0,\"blocking factor\":0,\"delay factor\":1.0},\"nameSub\":\"CHEM 1225\",\"id\":22,\"credits\":1,\"nameCanonical\":\"\"},{\"curriculum_requisites\":[{\"source_id\":4,\"target_id\":23,\"type\":\"CurriculumPrerequisite\"}],\"name\":\" \",\"metrics\":{\"complexity\":2.0,\"centrality\":0,\"blocking factor\":0,\"delay factor\":2.0},\"nameSub\":\"Engl 2010\",\"id\":23,\"credits\":3,\"nameCanonical\":\"\"}],\"id\":4},{\"name\":\"Term 5\",\"curriculum_items\":[{\"curriculum_requisites\":[],\"name\":\" \",\"metrics\":{\"complexity\":1.0,\"centrality\":0,\"blocking factor\":0,\"delay factor\":1.0},\"nameSub\":\"ADVS 2500\",\"id\":24,\"credits\":3,\"nameCanonical\":\"\"},{\"curriculum_requisites\":[],\"name\":\" \",\"metrics\":{\"complexity\":1.0,\"centrality\":0,\"blocking factor\":0,\"delay factor\":1.0},\"nameSub\":\"MGT 3530\",\"id\":25,\"credits\":3,\"nameCanonical\":\"\"},{\"curriculum_requisites\":[],\"name\":\" \",\"metrics\":{\"complexity\":1.0,\"centrality\":0,\"blocking factor\":0,\"delay factor\":1.0},\"nameSub\":\"ADVS 3520\",\"id\":26,\"credits\":3,\"nameCanonical\":\"\"},{\"curriculum_requisites\":[],\"name\":\" \",\"metrics\":{\"complexity\":1.0,\"centrality\":0,\"blocking factor\":0,\"delay factor\":1.0},\"nameSub\":\"ENGL 2240\",\"id\":27,\"credits\":3,\"nameCanonical\":\"\"},{\"curriculum_requisites\":[],\"name\":\" \",\"metrics\":{\"complexity\":1.0,\"centrality\":0,\"blocking factor\":0,\"delay factor\":1.0},\"nameSub\":\"APEC 3012\",\"id\":28,\"credits\":3,\"nameCanonical\":\"\"}],\"id\":5},{\"name\":\"Term 6\",\"curriculum_items\":[{\"curriculum_requisites\":[{\"source_id\":19,\"target_id\":29,\"type\":\"CurriculumPrerequisite\"}],\"name\":\" \",\"metrics\":{\"complexity\":4.0,\"centrality\":0,\"blocking factor\":0,\"delay factor\":4.0},\"nameSub\":\"ADVS 3000\",\"id\":29,\"credits\":3,\"nameCanonical\":\"\"},{\"curriculum_requisites\":[],\"name\":\" \",\"metrics\":{\"complexity\":1.0,\"centrality\":0,\"blocking factor\":0,\"delay factor\":1.0},\"nameSub\":\"ADVS 3100\",\"id\":30,\"credits\":3,\"nameCanonical\":\"\"},{\"curriculum_requisites\":[],\"name\":\" \",\"metrics\":{\"complexity\":1.0,\"centrality\":0,\"blocking factor\":0,\"delay factor\":1.0},\"nameSub\":\"ASTE 2830\",\"id\":31,\"credits\":3,\"nameCanonical\":\"\"},{\"curriculum_requisites\":[],\"name\":\" \",\"metrics\":{\"complexity\":1.0,\"centrality\":0,\"blocking factor\":0,\"delay factor\":1.0},\"nameSub\":\"Elective 3\",\"id\":32,\"credits\":3,\"nameCanonical\":\"\"},{\"curriculum_requisites\":[],\"name\":\" \",\"metrics\":{\"complexity\":1.0,\"centrality\":0,\"blocking factor\":0,\"delay factor\":1.0},\"nameSub\":\"Elective 4\",\"id\":33,\"credits\":3,\"nameCanonical\":\"\"}],\"id\":6},{\"name\":\"Term 7\",\"curriculum_items\":[{\"curriculum_requisites\":[{\"source_id\":19,\"target_id\":34,\"type\":\"CurriculumPrerequisite\"}],\"name\":\" \",\"metrics\":{\"complexity\":4.0,\"centrality\":0,\"blocking factor\":0,\"delay factor\":4.0},\"nameSub\":\"ADVS 4200\",\"id\":34,\"credits\":4,\"nameCanonical\":\"\"},{\"curriculum_requisites\":[],\"name\":\" \",\"metrics\":{\"complexity\":1.0,\"centrality\":0,\"blocking factor\":0,\"delay factor\":1.0},\"nameSub\":\"ADVS 4270\",\"id\":35,\"credits\":4,\"nameCanonical\":\"\"},{\"curriculum_requisites\":[{\"source_id\":9,\"target_id\":36,\"type\":\"CurriculumPrerequisite\"}],\"name\":\" \",\"metrics\":{\"complexity\":3.0,\"centrality\":0,\"blocking factor\":0,\"delay factor\":3.0},\"nameSub\":\"ADVS 4560\",\"id\":36,\"credits\":3,\"nameCanonical\":\"\"},{\"curriculum_requisites\":[],\"name\":\" \",\"metrics\":{\"complexity\":1.0,\"centrality\":0,\"blocking factor\":0,\"delay factor\":1.0},\"nameSub\":\"ADVS 4920\",\"id\":37,\"credits\":2,\"nameCanonical\":\"\"},{\"curriculum_requisites\":[],\"name\":\" \",\"metrics\":{\"complexity\":1.0,\"centrality\":0,\"blocking factor\":0,\"delay factor\":1.0},\"nameSub\":\"ADVS 5190\",\"id\":38,\"credits\":3,\"nameCanonical\":\"\"}],\"id\":7},{\"name\":\"Term 8\",\"curriculum_items\":[{\"curriculum_requisites\":[],\"name\":\" \",\"metrics\":{\"complexity\":1.0,\"centrality\":0,\"blocking factor\":0,\"delay factor\":1.0},\"nameSub\":\"APEC 3010\",\"id\":39,\"credits\":3,\"nameCanonical\":\"\"},{\"curriculum_requisites\":[],\"name\":\" \",\"metrics\":{\"complexity\":1.0,\"centrality\":0,\"blocking factor\":0,\"delay factor\":1.0},\"nameSub\":\"MGT 3500\",\"id\":40,\"credits\":3,\"nameCanonical\":\"\"},{\"curriculum_requisites\":[],\"name\":\" \",\"metrics\":{\"complexity\":1.0,\"centrality\":0,\"blocking factor\":0,\"delay factor\":1.0},\"nameSub\":\"MGT 3110\",\"id\":41,\"credits\":3,\"nameCanonical\":\"\"},{\"curriculum_requisites\":[],\"name\":\" \",\"metrics\":{\"complexity\":1.0,\"centrality\":0,\"blocking factor\":0,\"delay factor\":1.0},\"nameSub\":\"ENGL 3040\",\"id\":42,\"credits\":3,\"nameCanonical\":\"\"},{\"curriculum_requisites\":[],\"name\":\" \",\"metrics\":{\"complexity\":1.0,\"centrality\":0,\"blocking factor\":0,\"delay factor\":1.0},\"nameSub\":\"Elective 5\",\"id\":43,\"credits\":3,\"nameCanonical\":\"\"}],\"id\":8}],\"institution\":\"Utah State University\"}},\"*\"); window.removeEventListener(\"message\",window.messageReceived); window.messageReceived=(function (event){return (event.data.curriculum!==undefined) ? (WebIO.setval({\"name\":\"curriculum-data\",\"scope\":\"64121313442752630\",\"id\":\"14584118147419934612\",\"type\":\"observable\"},event.data.curriculum)) : undefined}); return window.addEventListener(\"message\",window.messageReceived)})"
          },
          "id": "curriculum",
          "src": "http://localhost:8156",
          "style": {
           "border": "none",
           "height": "100vh",
           "margin": "0",
           "padding": "0",
           "width": "100%"
          }
         },
         "type": "node"
        }
       ],
       "instanceArgs": {
        "handlers": {},
        "id": "64121313442752630",
        "imports": {
         "data": [],
         "type": "async_block"
        },
        "mount_callbacks": [],
        "observables": {
         "curriculum-data": {
          "id": "14584118147419934612",
          "sync": true,
          "value": {
           "curriculum": {
            "curriculum_terms": [
             {
              "curriculum_items": [
               {
                "credits": 4,
                "curriculum_requisites": [],
                "id": 1,
                "metrics": {
                 "blocking factor": 0,
                 "centrality": 0,
                 "complexity": 1,
                 "delay factor": 1
                },
                "name": " ",
                "nameCanonical": "",
                "nameSub": "ADVS 1110"
               },
               {
                "credits": 3,
                "curriculum_requisites": [],
                "id": 2,
                "metrics": {
                 "blocking factor": 5,
                 "centrality": 0,
                 "complexity": 9,
                 "delay factor": 4
                },
                "name": " ",
                "nameCanonical": "",
                "nameSub": "BIOL 1610"
               },
               {
                "credits": 1,
                "curriculum_requisites": [],
                "id": 3,
                "metrics": {
                 "blocking factor": 0,
                 "centrality": 0,
                 "complexity": 1,
                 "delay factor": 1
                },
                "name": " ",
                "nameCanonical": "",
                "nameSub": "BIOL 1615"
               },
               {
                "credits": 3,
                "curriculum_requisites": [],
                "id": 4,
                "metrics": {
                 "blocking factor": 1,
                 "centrality": 0,
                 "complexity": 3,
                 "delay factor": 2
                },
                "name": " ",
                "nameCanonical": "",
                "nameSub": "ENGL 1010"
               },
               {
                "credits": 4,
                "curriculum_requisites": [],
                "id": 5,
                "metrics": {
                 "blocking factor": 0,
                 "centrality": 0,
                 "complexity": 1,
                 "delay factor": 1
                },
                "name": " ",
                "nameCanonical": "",
                "nameSub": "MATH 1050"
               },
               {
                "credits": 1,
                "curriculum_requisites": [],
                "id": 6,
                "metrics": {
                 "blocking factor": 0,
                 "centrality": 0,
                 "complexity": 1,
                 "delay factor": 1
                },
                "name": " ",
                "nameCanonical": "",
                "nameSub": "ADVS 1050"
               }
              ],
              "id": 1,
              "name": "Term 1"
             },
             {
              "curriculum_items": [
               {
                "credits": 3,
                "curriculum_requisites": [],
                "id": 7,
                "metrics": {
                 "blocking factor": 0,
                 "centrality": 0,
                 "complexity": 1,
                 "delay factor": 1
                },
                "name": " ",
                "nameCanonical": "",
                "nameSub": "ADVS 1600"
               },
               {
                "credits": 3,
                "curriculum_requisites": [],
                "id": 8,
                "metrics": {
                 "blocking factor": 1,
                 "centrality": 0,
                 "complexity": 3,
                 "delay factor": 2
                },
                "name": " ",
                "nameCanonical": "",
                "nameSub": "ADVS 2190"
               },
               {
                "credits": 3,
                "curriculum_requisites": [
                 {
                  "source_id": 2,
                  "target_id": 9,
                  "type": "CurriculumPrerequisite"
                 }
                ],
                "id": 9,
                "metrics": {
                 "blocking factor": 4,
                 "centrality": 11,
                 "complexity": 8,
                 "delay factor": 4
                },
                "name": " ",
                "nameCanonical": "",
                "nameSub": "BIOL 1620"
               },
               {
                "credits": 1,
                "curriculum_requisites": [],
                "id": 10,
                "metrics": {
                 "blocking factor": 0,
                 "centrality": 0,
                 "complexity": 1,
                 "delay factor": 1
                },
                "name": " ",
                "nameCanonical": "",
                "nameSub": "BIOL 1625"
               },
               {
                "credits": 3,
                "curriculum_requisites": [],
                "id": 11,
                "metrics": {
                 "blocking factor": 0,
                 "centrality": 0,
                 "complexity": 1,
                 "delay factor": 1
                },
                "name": " ",
                "nameCanonical": "",
                "nameSub": "STAT 1040"
               },
               {
                "credits": 2,
                "curriculum_requisites": [],
                "id": 12,
                "metrics": {
                 "blocking factor": 0,
                 "centrality": 0,
                 "complexity": 1,
                 "delay factor": 1
                },
                "name": " ",
                "nameCanonical": "",
                "nameSub": "Elective 1"
               }
              ],
              "id": 2,
              "name": "Term 2"
             },
             {
              "curriculum_items": [
               {
                "credits": 2,
                "curriculum_requisites": [
                 {
                  "source_id": 8,
                  "target_id": 13,
                  "type": "CurriculumPrerequisite"
                 }
                ],
                "id": 13,
                "metrics": {
                 "blocking factor": 0,
                 "centrality": 0,
                 "complexity": 2,
                 "delay factor": 2
                },
                "name": " ",
                "nameCanonical": "",
                "nameSub": "ADVS 2300"
               },
               {
                "credits": 4,
                "curriculum_requisites": [],
                "id": 14,
                "metrics": {
                 "blocking factor": 1,
                 "centrality": 0,
                 "complexity": 3,
                 "delay factor": 2
                },
                "name": " ",
                "nameCanonical": "",
                "nameSub": "CHEM 1210"
               },
               {
                "credits": 1,
                "curriculum_requisites": [],
                "id": 15,
                "metrics": {
                 "blocking factor": 0,
                 "centrality": 0,
                 "complexity": 1,
                 "delay factor": 1
                },
                "name": " ",
                "nameCanonical": "",
                "nameSub": "CHEM 1215"
               },
               {
                "credits": 3,
                "curriculum_requisites": [],
                "id": 16,
                "metrics": {
                 "blocking factor": 0,
                 "centrality": 0,
                 "complexity": 1,
                 "delay factor": 1
                },
                "name": " ",
                "nameCanonical": "",
                "nameSub": "APEC 1600"
               },
               {
                "credits": 3,
                "curriculum_requisites": [],
                "id": 17,
                "metrics": {
                 "blocking factor": 0,
                 "centrality": 0,
                 "complexity": 1,
                 "delay factor": 1
                },
                "name": " ",
                "nameCanonical": "",
                "nameSub": "LAEP 1030"
               },
               {
                "credits": 2,
                "curriculum_requisites": [],
                "id": 18,
                "metrics": {
                 "blocking factor": 0,
                 "centrality": 0,
                 "complexity": 1,
                 "delay factor": 1
                },
                "name": " ",
                "nameCanonical": "",
                "nameSub": "Elective 2"
               }
              ],
              "id": 3,
              "name": "Term 3"
             },
             {
              "curriculum_items": [
               {
                "credits": 4,
                "curriculum_requisites": [
                 {
                  "source_id": 9,
                  "target_id": 19,
                  "type": "CurriculumPrerequisite"
                 }
                ],
                "id": 19,
                "metrics": {
                 "blocking factor": 2,
                 "centrality": 8,
                 "complexity": 6,
                 "delay factor": 4
                },
                "name": " ",
                "nameCanonical": "",
                "nameSub": "ADVS 2200"
               },
               {
                "credits": 3,
                "curriculum_requisites": [],
                "id": 20,
                "metrics": {
                 "blocking factor": 0,
                 "centrality": 0,
                 "complexity": 1,
                 "delay factor": 1
                },
                "name": " ",
                "nameCanonical": "",
                "nameSub": "APEC 2010"
               },
               {
                "credits": 4,
                "curriculum_requisites": [
                 {
                  "source_id": 14,
                  "target_id": 21,
                  "type": "CurriculumPrerequisite"
                 }
                ],
                "id": 21,
                "metrics": {
                 "blocking factor": 0,
                 "centrality": 0,
                 "complexity": 2,
                 "delay factor": 2
                },
                "name": " ",
                "nameCanonical": "",
                "nameSub": "CHEM 1220"
               },
               {
                "credits": 1,
                "curriculum_requisites": [],
                "id": 22,
                "metrics": {
                 "blocking factor": 0,
                 "centrality": 0,
                 "complexity": 1,
                 "delay factor": 1
                },
                "name": " ",
                "nameCanonical": "",
                "nameSub": "CHEM 1225"
               },
               {
                "credits": 3,
                "curriculum_requisites": [
                 {
                  "source_id": 4,
                  "target_id": 23,
                  "type": "CurriculumPrerequisite"
                 }
                ],
                "id": 23,
                "metrics": {
                 "blocking factor": 0,
                 "centrality": 0,
                 "complexity": 2,
                 "delay factor": 2
                },
                "name": " ",
                "nameCanonical": "",
                "nameSub": "Engl 2010"
               }
              ],
              "id": 4,
              "name": "Term 4"
             },
             {
              "curriculum_items": [
               {
                "credits": 3,
                "curriculum_requisites": [],
                "id": 24,
                "metrics": {
                 "blocking factor": 0,
                 "centrality": 0,
                 "complexity": 1,
                 "delay factor": 1
                },
                "name": " ",
                "nameCanonical": "",
                "nameSub": "ADVS 2500"
               },
               {
                "credits": 3,
                "curriculum_requisites": [],
                "id": 25,
                "metrics": {
                 "blocking factor": 0,
                 "centrality": 0,
                 "complexity": 1,
                 "delay factor": 1
                },
                "name": " ",
                "nameCanonical": "",
                "nameSub": "MGT 3530"
               },
               {
                "credits": 3,
                "curriculum_requisites": [],
                "id": 26,
                "metrics": {
                 "blocking factor": 0,
                 "centrality": 0,
                 "complexity": 1,
                 "delay factor": 1
                },
                "name": " ",
                "nameCanonical": "",
                "nameSub": "ADVS 3520"
               },
               {
                "credits": 3,
                "curriculum_requisites": [],
                "id": 27,
                "metrics": {
                 "blocking factor": 0,
                 "centrality": 0,
                 "complexity": 1,
                 "delay factor": 1
                },
                "name": " ",
                "nameCanonical": "",
                "nameSub": "ENGL 2240"
               },
               {
                "credits": 3,
                "curriculum_requisites": [],
                "id": 28,
                "metrics": {
                 "blocking factor": 0,
                 "centrality": 0,
                 "complexity": 1,
                 "delay factor": 1
                },
                "name": " ",
                "nameCanonical": "",
                "nameSub": "APEC 3012"
               }
              ],
              "id": 5,
              "name": "Term 5"
             },
             {
              "curriculum_items": [
               {
                "credits": 3,
                "curriculum_requisites": [
                 {
                  "source_id": 19,
                  "target_id": 29,
                  "type": "CurriculumPrerequisite"
                 }
                ],
                "id": 29,
                "metrics": {
                 "blocking factor": 0,
                 "centrality": 0,
                 "complexity": 4,
                 "delay factor": 4
                },
                "name": " ",
                "nameCanonical": "",
                "nameSub": "ADVS 3000"
               },
               {
                "credits": 3,
                "curriculum_requisites": [],
                "id": 30,
                "metrics": {
                 "blocking factor": 0,
                 "centrality": 0,
                 "complexity": 1,
                 "delay factor": 1
                },
                "name": " ",
                "nameCanonical": "",
                "nameSub": "ADVS 3100"
               },
               {
                "credits": 3,
                "curriculum_requisites": [],
                "id": 31,
                "metrics": {
                 "blocking factor": 0,
                 "centrality": 0,
                 "complexity": 1,
                 "delay factor": 1
                },
                "name": " ",
                "nameCanonical": "",
                "nameSub": "ASTE 2830"
               },
               {
                "credits": 3,
                "curriculum_requisites": [],
                "id": 32,
                "metrics": {
                 "blocking factor": 0,
                 "centrality": 0,
                 "complexity": 1,
                 "delay factor": 1
                },
                "name": " ",
                "nameCanonical": "",
                "nameSub": "Elective 3"
               },
               {
                "credits": 3,
                "curriculum_requisites": [],
                "id": 33,
                "metrics": {
                 "blocking factor": 0,
                 "centrality": 0,
                 "complexity": 1,
                 "delay factor": 1
                },
                "name": " ",
                "nameCanonical": "",
                "nameSub": "Elective 4"
               }
              ],
              "id": 6,
              "name": "Term 6"
             },
             {
              "curriculum_items": [
               {
                "credits": 4,
                "curriculum_requisites": [
                 {
                  "source_id": 19,
                  "target_id": 34,
                  "type": "CurriculumPrerequisite"
                 }
                ],
                "id": 34,
                "metrics": {
                 "blocking factor": 0,
                 "centrality": 0,
                 "complexity": 4,
                 "delay factor": 4
                },
                "name": " ",
                "nameCanonical": "",
                "nameSub": "ADVS 4200"
               },
               {
                "credits": 4,
                "curriculum_requisites": [],
                "id": 35,
                "metrics": {
                 "blocking factor": 0,
                 "centrality": 0,
                 "complexity": 1,
                 "delay factor": 1
                },
                "name": " ",
                "nameCanonical": "",
                "nameSub": "ADVS 4270"
               },
               {
                "credits": 3,
                "curriculum_requisites": [
                 {
                  "source_id": 9,
                  "target_id": 36,
                  "type": "CurriculumPrerequisite"
                 }
                ],
                "id": 36,
                "metrics": {
                 "blocking factor": 0,
                 "centrality": 0,
                 "complexity": 3,
                 "delay factor": 3
                },
                "name": " ",
                "nameCanonical": "",
                "nameSub": "ADVS 4560"
               },
               {
                "credits": 2,
                "curriculum_requisites": [],
                "id": 37,
                "metrics": {
                 "blocking factor": 0,
                 "centrality": 0,
                 "complexity": 1,
                 "delay factor": 1
                },
                "name": " ",
                "nameCanonical": "",
                "nameSub": "ADVS 4920"
               },
               {
                "credits": 3,
                "curriculum_requisites": [],
                "id": 38,
                "metrics": {
                 "blocking factor": 0,
                 "centrality": 0,
                 "complexity": 1,
                 "delay factor": 1
                },
                "name": " ",
                "nameCanonical": "",
                "nameSub": "ADVS 5190"
               }
              ],
              "id": 7,
              "name": "Term 7"
             },
             {
              "curriculum_items": [
               {
                "credits": 3,
                "curriculum_requisites": [],
                "id": 39,
                "metrics": {
                 "blocking factor": 0,
                 "centrality": 0,
                 "complexity": 1,
                 "delay factor": 1
                },
                "name": " ",
                "nameCanonical": "",
                "nameSub": "APEC 3010"
               },
               {
                "credits": 3,
                "curriculum_requisites": [],
                "id": 40,
                "metrics": {
                 "blocking factor": 0,
                 "centrality": 0,
                 "complexity": 1,
                 "delay factor": 1
                },
                "name": " ",
                "nameCanonical": "",
                "nameSub": "MGT 3500"
               },
               {
                "credits": 3,
                "curriculum_requisites": [],
                "id": 41,
                "metrics": {
                 "blocking factor": 0,
                 "centrality": 0,
                 "complexity": 1,
                 "delay factor": 1
                },
                "name": " ",
                "nameCanonical": "",
                "nameSub": "MGT 3110"
               },
               {
                "credits": 3,
                "curriculum_requisites": [],
                "id": 42,
                "metrics": {
                 "blocking factor": 0,
                 "centrality": 0,
                 "complexity": 1,
                 "delay factor": 1
                },
                "name": " ",
                "nameCanonical": "",
                "nameSub": "ENGL 3040"
               },
               {
                "credits": 3,
                "curriculum_requisites": [],
                "id": 43,
                "metrics": {
                 "blocking factor": 0,
                 "centrality": 0,
                 "complexity": 1,
                 "delay factor": 1
                },
                "name": " ",
                "nameCanonical": "",
                "nameSub": "Elective 5"
               }
              ],
              "id": 8,
              "name": "Term 8"
             }
            ],
            "dp_name": "4-Year Plan",
            "institution": "Utah State University",
            "name": "Animal Science (Equine)"
           },
           "options": {
            "edit": false,
            "hideTerms": false
           }
          }
         }
        },
        "systemjs_options": null
       },
       "nodeType": "Scope",
       "props": {},
       "type": "node"
      },
      "text/html": [
       "<div\n",
       "    class=\"webio-mountpoint\"\n",
       "    data-webio-mountpoint=\"5663805375283505356\"\n",
       ">\n",
       "    <script>\n",
       "    if (window.require && require.defined && require.defined(\"nbextensions/webio-jupyter-notebook\")) {\n",
       "        console.log(\"Jupyter WebIO extension detected, not mounting.\");\n",
       "    } else if (window.WebIO) {\n",
       "        WebIO.mount(\n",
       "            document.querySelector('[data-webio-mountpoint=\"5663805375283505356\"]'),\n",
       "            {\"props\":{},\"nodeType\":\"Scope\",\"type\":\"node\",\"instanceArgs\":{\"imports\":{\"data\":[],\"type\":\"async_block\"},\"id\":\"64121313442752630\",\"handlers\":{},\"systemjs_options\":null,\"mount_callbacks\":[],\"observables\":{\"curriculum-data\":{\"sync\":true,\"id\":\"14584118147419934612\",\"value\":{\"options\":{\"hideTerms\":false,\"edit\":false},\"curriculum\":{\"name\":\"Animal Science (Equine)\",\"dp_name\":\"4-Year Plan\",\"curriculum_terms\":[{\"name\":\"Term 1\",\"curriculum_items\":[{\"curriculum_requisites\":[],\"name\":\" \",\"metrics\":{\"complexity\":1.0,\"centrality\":0,\"blocking factor\":0,\"delay factor\":1.0},\"nameSub\":\"ADVS 1110\",\"id\":1,\"credits\":4,\"nameCanonical\":\"\"},{\"curriculum_requisites\":[],\"name\":\" \",\"metrics\":{\"complexity\":9.0,\"centrality\":0,\"blocking factor\":5,\"delay factor\":4.0},\"nameSub\":\"BIOL 1610\",\"id\":2,\"credits\":3,\"nameCanonical\":\"\"},{\"curriculum_requisites\":[],\"name\":\" \",\"metrics\":{\"complexity\":1.0,\"centrality\":0,\"blocking factor\":0,\"delay factor\":1.0},\"nameSub\":\"BIOL 1615\",\"id\":3,\"credits\":1,\"nameCanonical\":\"\"},{\"curriculum_requisites\":[],\"name\":\" \",\"metrics\":{\"complexity\":3.0,\"centrality\":0,\"blocking factor\":1,\"delay factor\":2.0},\"nameSub\":\"ENGL 1010\",\"id\":4,\"credits\":3,\"nameCanonical\":\"\"},{\"curriculum_requisites\":[],\"name\":\" \",\"metrics\":{\"complexity\":1.0,\"centrality\":0,\"blocking factor\":0,\"delay factor\":1.0},\"nameSub\":\"MATH 1050\",\"id\":5,\"credits\":4,\"nameCanonical\":\"\"},{\"curriculum_requisites\":[],\"name\":\" \",\"metrics\":{\"complexity\":1.0,\"centrality\":0,\"blocking factor\":0,\"delay factor\":1.0},\"nameSub\":\"ADVS 1050\",\"id\":6,\"credits\":1,\"nameCanonical\":\"\"}],\"id\":1},{\"name\":\"Term 2\",\"curriculum_items\":[{\"curriculum_requisites\":[],\"name\":\" \",\"metrics\":{\"complexity\":1.0,\"centrality\":0,\"blocking factor\":0,\"delay factor\":1.0},\"nameSub\":\"ADVS 1600\",\"id\":7,\"credits\":3,\"nameCanonical\":\"\"},{\"curriculum_requisites\":[],\"name\":\" \",\"metrics\":{\"complexity\":3.0,\"centrality\":0,\"blocking factor\":1,\"delay factor\":2.0},\"nameSub\":\"ADVS 2190\",\"id\":8,\"credits\":3,\"nameCanonical\":\"\"},{\"curriculum_requisites\":[{\"source_id\":2,\"target_id\":9,\"type\":\"CurriculumPrerequisite\"}],\"name\":\" \",\"metrics\":{\"complexity\":8.0,\"centrality\":11,\"blocking factor\":4,\"delay factor\":4.0},\"nameSub\":\"BIOL 1620\",\"id\":9,\"credits\":3,\"nameCanonical\":\"\"},{\"curriculum_requisites\":[],\"name\":\" \",\"metrics\":{\"complexity\":1.0,\"centrality\":0,\"blocking factor\":0,\"delay factor\":1.0},\"nameSub\":\"BIOL 1625\",\"id\":10,\"credits\":1,\"nameCanonical\":\"\"},{\"curriculum_requisites\":[],\"name\":\" \",\"metrics\":{\"complexity\":1.0,\"centrality\":0,\"blocking factor\":0,\"delay factor\":1.0},\"nameSub\":\"STAT 1040\",\"id\":11,\"credits\":3,\"nameCanonical\":\"\"},{\"curriculum_requisites\":[],\"name\":\" \",\"metrics\":{\"complexity\":1.0,\"centrality\":0,\"blocking factor\":0,\"delay factor\":1.0},\"nameSub\":\"Elective 1\",\"id\":12,\"credits\":2,\"nameCanonical\":\"\"}],\"id\":2},{\"name\":\"Term 3\",\"curriculum_items\":[{\"curriculum_requisites\":[{\"source_id\":8,\"target_id\":13,\"type\":\"CurriculumPrerequisite\"}],\"name\":\" \",\"metrics\":{\"complexity\":2.0,\"centrality\":0,\"blocking factor\":0,\"delay factor\":2.0},\"nameSub\":\"ADVS 2300\",\"id\":13,\"credits\":2,\"nameCanonical\":\"\"},{\"curriculum_requisites\":[],\"name\":\" \",\"metrics\":{\"complexity\":3.0,\"centrality\":0,\"blocking factor\":1,\"delay factor\":2.0},\"nameSub\":\"CHEM 1210\",\"id\":14,\"credits\":4,\"nameCanonical\":\"\"},{\"curriculum_requisites\":[],\"name\":\" \",\"metrics\":{\"complexity\":1.0,\"centrality\":0,\"blocking factor\":0,\"delay factor\":1.0},\"nameSub\":\"CHEM 1215\",\"id\":15,\"credits\":1,\"nameCanonical\":\"\"},{\"curriculum_requisites\":[],\"name\":\" \",\"metrics\":{\"complexity\":1.0,\"centrality\":0,\"blocking factor\":0,\"delay factor\":1.0},\"nameSub\":\"APEC 1600\",\"id\":16,\"credits\":3,\"nameCanonical\":\"\"},{\"curriculum_requisites\":[],\"name\":\" \",\"metrics\":{\"complexity\":1.0,\"centrality\":0,\"blocking factor\":0,\"delay factor\":1.0},\"nameSub\":\"LAEP 1030\",\"id\":17,\"credits\":3,\"nameCanonical\":\"\"},{\"curriculum_requisites\":[],\"name\":\" \",\"metrics\":{\"complexity\":1.0,\"centrality\":0,\"blocking factor\":0,\"delay factor\":1.0},\"nameSub\":\"Elective 2\",\"id\":18,\"credits\":2,\"nameCanonical\":\"\"}],\"id\":3},{\"name\":\"Term 4\",\"curriculum_items\":[{\"curriculum_requisites\":[{\"source_id\":9,\"target_id\":19,\"type\":\"CurriculumPrerequisite\"}],\"name\":\" \",\"metrics\":{\"complexity\":6.0,\"centrality\":8,\"blocking factor\":2,\"delay factor\":4.0},\"nameSub\":\"ADVS 2200\",\"id\":19,\"credits\":4,\"nameCanonical\":\"\"},{\"curriculum_requisites\":[],\"name\":\" \",\"metrics\":{\"complexity\":1.0,\"centrality\":0,\"blocking factor\":0,\"delay factor\":1.0},\"nameSub\":\"APEC 2010\",\"id\":20,\"credits\":3,\"nameCanonical\":\"\"},{\"curriculum_requisites\":[{\"source_id\":14,\"target_id\":21,\"type\":\"CurriculumPrerequisite\"}],\"name\":\" \",\"metrics\":{\"complexity\":2.0,\"centrality\":0,\"blocking factor\":0,\"delay factor\":2.0},\"nameSub\":\"CHEM 1220\",\"id\":21,\"credits\":4,\"nameCanonical\":\"\"},{\"curriculum_requisites\":[],\"name\":\" \",\"metrics\":{\"complexity\":1.0,\"centrality\":0,\"blocking factor\":0,\"delay factor\":1.0},\"nameSub\":\"CHEM 1225\",\"id\":22,\"credits\":1,\"nameCanonical\":\"\"},{\"curriculum_requisites\":[{\"source_id\":4,\"target_id\":23,\"type\":\"CurriculumPrerequisite\"}],\"name\":\" \",\"metrics\":{\"complexity\":2.0,\"centrality\":0,\"blocking factor\":0,\"delay factor\":2.0},\"nameSub\":\"Engl 2010\",\"id\":23,\"credits\":3,\"nameCanonical\":\"\"}],\"id\":4},{\"name\":\"Term 5\",\"curriculum_items\":[{\"curriculum_requisites\":[],\"name\":\" \",\"metrics\":{\"complexity\":1.0,\"centrality\":0,\"blocking factor\":0,\"delay factor\":1.0},\"nameSub\":\"ADVS 2500\",\"id\":24,\"credits\":3,\"nameCanonical\":\"\"},{\"curriculum_requisites\":[],\"name\":\" \",\"metrics\":{\"complexity\":1.0,\"centrality\":0,\"blocking factor\":0,\"delay factor\":1.0},\"nameSub\":\"MGT 3530\",\"id\":25,\"credits\":3,\"nameCanonical\":\"\"},{\"curriculum_requisites\":[],\"name\":\" \",\"metrics\":{\"complexity\":1.0,\"centrality\":0,\"blocking factor\":0,\"delay factor\":1.0},\"nameSub\":\"ADVS 3520\",\"id\":26,\"credits\":3,\"nameCanonical\":\"\"},{\"curriculum_requisites\":[],\"name\":\" \",\"metrics\":{\"complexity\":1.0,\"centrality\":0,\"blocking factor\":0,\"delay factor\":1.0},\"nameSub\":\"ENGL 2240\",\"id\":27,\"credits\":3,\"nameCanonical\":\"\"},{\"curriculum_requisites\":[],\"name\":\" \",\"metrics\":{\"complexity\":1.0,\"centrality\":0,\"blocking factor\":0,\"delay factor\":1.0},\"nameSub\":\"APEC 3012\",\"id\":28,\"credits\":3,\"nameCanonical\":\"\"}],\"id\":5},{\"name\":\"Term 6\",\"curriculum_items\":[{\"curriculum_requisites\":[{\"source_id\":19,\"target_id\":29,\"type\":\"CurriculumPrerequisite\"}],\"name\":\" \",\"metrics\":{\"complexity\":4.0,\"centrality\":0,\"blocking factor\":0,\"delay factor\":4.0},\"nameSub\":\"ADVS 3000\",\"id\":29,\"credits\":3,\"nameCanonical\":\"\"},{\"curriculum_requisites\":[],\"name\":\" \",\"metrics\":{\"complexity\":1.0,\"centrality\":0,\"blocking factor\":0,\"delay factor\":1.0},\"nameSub\":\"ADVS 3100\",\"id\":30,\"credits\":3,\"nameCanonical\":\"\"},{\"curriculum_requisites\":[],\"name\":\" \",\"metrics\":{\"complexity\":1.0,\"centrality\":0,\"blocking factor\":0,\"delay factor\":1.0},\"nameSub\":\"ASTE 2830\",\"id\":31,\"credits\":3,\"nameCanonical\":\"\"},{\"curriculum_requisites\":[],\"name\":\" \",\"metrics\":{\"complexity\":1.0,\"centrality\":0,\"blocking factor\":0,\"delay factor\":1.0},\"nameSub\":\"Elective 3\",\"id\":32,\"credits\":3,\"nameCanonical\":\"\"},{\"curriculum_requisites\":[],\"name\":\" \",\"metrics\":{\"complexity\":1.0,\"centrality\":0,\"blocking factor\":0,\"delay factor\":1.0},\"nameSub\":\"Elective 4\",\"id\":33,\"credits\":3,\"nameCanonical\":\"\"}],\"id\":6},{\"name\":\"Term 7\",\"curriculum_items\":[{\"curriculum_requisites\":[{\"source_id\":19,\"target_id\":34,\"type\":\"CurriculumPrerequisite\"}],\"name\":\" \",\"metrics\":{\"complexity\":4.0,\"centrality\":0,\"blocking factor\":0,\"delay factor\":4.0},\"nameSub\":\"ADVS 4200\",\"id\":34,\"credits\":4,\"nameCanonical\":\"\"},{\"curriculum_requisites\":[],\"name\":\" \",\"metrics\":{\"complexity\":1.0,\"centrality\":0,\"blocking factor\":0,\"delay factor\":1.0},\"nameSub\":\"ADVS 4270\",\"id\":35,\"credits\":4,\"nameCanonical\":\"\"},{\"curriculum_requisites\":[{\"source_id\":9,\"target_id\":36,\"type\":\"CurriculumPrerequisite\"}],\"name\":\" \",\"metrics\":{\"complexity\":3.0,\"centrality\":0,\"blocking factor\":0,\"delay factor\":3.0},\"nameSub\":\"ADVS 4560\",\"id\":36,\"credits\":3,\"nameCanonical\":\"\"},{\"curriculum_requisites\":[],\"name\":\" \",\"metrics\":{\"complexity\":1.0,\"centrality\":0,\"blocking factor\":0,\"delay factor\":1.0},\"nameSub\":\"ADVS 4920\",\"id\":37,\"credits\":2,\"nameCanonical\":\"\"},{\"curriculum_requisites\":[],\"name\":\" \",\"metrics\":{\"complexity\":1.0,\"centrality\":0,\"blocking factor\":0,\"delay factor\":1.0},\"nameSub\":\"ADVS 5190\",\"id\":38,\"credits\":3,\"nameCanonical\":\"\"}],\"id\":7},{\"name\":\"Term 8\",\"curriculum_items\":[{\"curriculum_requisites\":[],\"name\":\" \",\"metrics\":{\"complexity\":1.0,\"centrality\":0,\"blocking factor\":0,\"delay factor\":1.0},\"nameSub\":\"APEC 3010\",\"id\":39,\"credits\":3,\"nameCanonical\":\"\"},{\"curriculum_requisites\":[],\"name\":\" \",\"metrics\":{\"complexity\":1.0,\"centrality\":0,\"blocking factor\":0,\"delay factor\":1.0},\"nameSub\":\"MGT 3500\",\"id\":40,\"credits\":3,\"nameCanonical\":\"\"},{\"curriculum_requisites\":[],\"name\":\" \",\"metrics\":{\"complexity\":1.0,\"centrality\":0,\"blocking factor\":0,\"delay factor\":1.0},\"nameSub\":\"MGT 3110\",\"id\":41,\"credits\":3,\"nameCanonical\":\"\"},{\"curriculum_requisites\":[],\"name\":\" \",\"metrics\":{\"complexity\":1.0,\"centrality\":0,\"blocking factor\":0,\"delay factor\":1.0},\"nameSub\":\"ENGL 3040\",\"id\":42,\"credits\":3,\"nameCanonical\":\"\"},{\"curriculum_requisites\":[],\"name\":\" \",\"metrics\":{\"complexity\":1.0,\"centrality\":0,\"blocking factor\":0,\"delay factor\":1.0},\"nameSub\":\"Elective 5\",\"id\":43,\"credits\":3,\"nameCanonical\":\"\"}],\"id\":8}],\"institution\":\"Utah State University\"}}}}},\"children\":[{\"props\":{\"src\":\"http:\\/\\/localhost:8156\",\"id\":\"curriculum\",\"events\":{\"load\":\"(function (){this.contentWindow.postMessage({\\\"options\\\":{\\\"hideTerms\\\":false,\\\"edit\\\":false},\\\"curriculum\\\":{\\\"name\\\":\\\"Animal Science (Equine)\\\",\\\"dp_name\\\":\\\"4-Year Plan\\\",\\\"curriculum_terms\\\":[{\\\"name\\\":\\\"Term 1\\\",\\\"curriculum_items\\\":[{\\\"curriculum_requisites\\\":[],\\\"name\\\":\\\" \\\",\\\"metrics\\\":{\\\"complexity\\\":1.0,\\\"centrality\\\":0,\\\"blocking factor\\\":0,\\\"delay factor\\\":1.0},\\\"nameSub\\\":\\\"ADVS 1110\\\",\\\"id\\\":1,\\\"credits\\\":4,\\\"nameCanonical\\\":\\\"\\\"},{\\\"curriculum_requisites\\\":[],\\\"name\\\":\\\" \\\",\\\"metrics\\\":{\\\"complexity\\\":9.0,\\\"centrality\\\":0,\\\"blocking factor\\\":5,\\\"delay factor\\\":4.0},\\\"nameSub\\\":\\\"BIOL 1610\\\",\\\"id\\\":2,\\\"credits\\\":3,\\\"nameCanonical\\\":\\\"\\\"},{\\\"curriculum_requisites\\\":[],\\\"name\\\":\\\" \\\",\\\"metrics\\\":{\\\"complexity\\\":1.0,\\\"centrality\\\":0,\\\"blocking factor\\\":0,\\\"delay factor\\\":1.0},\\\"nameSub\\\":\\\"BIOL 1615\\\",\\\"id\\\":3,\\\"credits\\\":1,\\\"nameCanonical\\\":\\\"\\\"},{\\\"curriculum_requisites\\\":[],\\\"name\\\":\\\" \\\",\\\"metrics\\\":{\\\"complexity\\\":3.0,\\\"centrality\\\":0,\\\"blocking factor\\\":1,\\\"delay factor\\\":2.0},\\\"nameSub\\\":\\\"ENGL 1010\\\",\\\"id\\\":4,\\\"credits\\\":3,\\\"nameCanonical\\\":\\\"\\\"},{\\\"curriculum_requisites\\\":[],\\\"name\\\":\\\" \\\",\\\"metrics\\\":{\\\"complexity\\\":1.0,\\\"centrality\\\":0,\\\"blocking factor\\\":0,\\\"delay factor\\\":1.0},\\\"nameSub\\\":\\\"MATH 1050\\\",\\\"id\\\":5,\\\"credits\\\":4,\\\"nameCanonical\\\":\\\"\\\"},{\\\"curriculum_requisites\\\":[],\\\"name\\\":\\\" \\\",\\\"metrics\\\":{\\\"complexity\\\":1.0,\\\"centrality\\\":0,\\\"blocking factor\\\":0,\\\"delay factor\\\":1.0},\\\"nameSub\\\":\\\"ADVS 1050\\\",\\\"id\\\":6,\\\"credits\\\":1,\\\"nameCanonical\\\":\\\"\\\"}],\\\"id\\\":1},{\\\"name\\\":\\\"Term 2\\\",\\\"curriculum_items\\\":[{\\\"curriculum_requisites\\\":[],\\\"name\\\":\\\" \\\",\\\"metrics\\\":{\\\"complexity\\\":1.0,\\\"centrality\\\":0,\\\"blocking factor\\\":0,\\\"delay factor\\\":1.0},\\\"nameSub\\\":\\\"ADVS 1600\\\",\\\"id\\\":7,\\\"credits\\\":3,\\\"nameCanonical\\\":\\\"\\\"},{\\\"curriculum_requisites\\\":[],\\\"name\\\":\\\" \\\",\\\"metrics\\\":{\\\"complexity\\\":3.0,\\\"centrality\\\":0,\\\"blocking factor\\\":1,\\\"delay factor\\\":2.0},\\\"nameSub\\\":\\\"ADVS 2190\\\",\\\"id\\\":8,\\\"credits\\\":3,\\\"nameCanonical\\\":\\\"\\\"},{\\\"curriculum_requisites\\\":[{\\\"source_id\\\":2,\\\"target_id\\\":9,\\\"type\\\":\\\"CurriculumPrerequisite\\\"}],\\\"name\\\":\\\" \\\",\\\"metrics\\\":{\\\"complexity\\\":8.0,\\\"centrality\\\":11,\\\"blocking factor\\\":4,\\\"delay factor\\\":4.0},\\\"nameSub\\\":\\\"BIOL 1620\\\",\\\"id\\\":9,\\\"credits\\\":3,\\\"nameCanonical\\\":\\\"\\\"},{\\\"curriculum_requisites\\\":[],\\\"name\\\":\\\" \\\",\\\"metrics\\\":{\\\"complexity\\\":1.0,\\\"centrality\\\":0,\\\"blocking factor\\\":0,\\\"delay factor\\\":1.0},\\\"nameSub\\\":\\\"BIOL 1625\\\",\\\"id\\\":10,\\\"credits\\\":1,\\\"nameCanonical\\\":\\\"\\\"},{\\\"curriculum_requisites\\\":[],\\\"name\\\":\\\" \\\",\\\"metrics\\\":{\\\"complexity\\\":1.0,\\\"centrality\\\":0,\\\"blocking factor\\\":0,\\\"delay factor\\\":1.0},\\\"nameSub\\\":\\\"STAT 1040\\\",\\\"id\\\":11,\\\"credits\\\":3,\\\"nameCanonical\\\":\\\"\\\"},{\\\"curriculum_requisites\\\":[],\\\"name\\\":\\\" \\\",\\\"metrics\\\":{\\\"complexity\\\":1.0,\\\"centrality\\\":0,\\\"blocking factor\\\":0,\\\"delay factor\\\":1.0},\\\"nameSub\\\":\\\"Elective 1\\\",\\\"id\\\":12,\\\"credits\\\":2,\\\"nameCanonical\\\":\\\"\\\"}],\\\"id\\\":2},{\\\"name\\\":\\\"Term 3\\\",\\\"curriculum_items\\\":[{\\\"curriculum_requisites\\\":[{\\\"source_id\\\":8,\\\"target_id\\\":13,\\\"type\\\":\\\"CurriculumPrerequisite\\\"}],\\\"name\\\":\\\" \\\",\\\"metrics\\\":{\\\"complexity\\\":2.0,\\\"centrality\\\":0,\\\"blocking factor\\\":0,\\\"delay factor\\\":2.0},\\\"nameSub\\\":\\\"ADVS 2300\\\",\\\"id\\\":13,\\\"credits\\\":2,\\\"nameCanonical\\\":\\\"\\\"},{\\\"curriculum_requisites\\\":[],\\\"name\\\":\\\" \\\",\\\"metrics\\\":{\\\"complexity\\\":3.0,\\\"centrality\\\":0,\\\"blocking factor\\\":1,\\\"delay factor\\\":2.0},\\\"nameSub\\\":\\\"CHEM 1210\\\",\\\"id\\\":14,\\\"credits\\\":4,\\\"nameCanonical\\\":\\\"\\\"},{\\\"curriculum_requisites\\\":[],\\\"name\\\":\\\" \\\",\\\"metrics\\\":{\\\"complexity\\\":1.0,\\\"centrality\\\":0,\\\"blocking factor\\\":0,\\\"delay factor\\\":1.0},\\\"nameSub\\\":\\\"CHEM 1215\\\",\\\"id\\\":15,\\\"credits\\\":1,\\\"nameCanonical\\\":\\\"\\\"},{\\\"curriculum_requisites\\\":[],\\\"name\\\":\\\" \\\",\\\"metrics\\\":{\\\"complexity\\\":1.0,\\\"centrality\\\":0,\\\"blocking factor\\\":0,\\\"delay factor\\\":1.0},\\\"nameSub\\\":\\\"APEC 1600\\\",\\\"id\\\":16,\\\"credits\\\":3,\\\"nameCanonical\\\":\\\"\\\"},{\\\"curriculum_requisites\\\":[],\\\"name\\\":\\\" \\\",\\\"metrics\\\":{\\\"complexity\\\":1.0,\\\"centrality\\\":0,\\\"blocking factor\\\":0,\\\"delay factor\\\":1.0},\\\"nameSub\\\":\\\"LAEP 1030\\\",\\\"id\\\":17,\\\"credits\\\":3,\\\"nameCanonical\\\":\\\"\\\"},{\\\"curriculum_requisites\\\":[],\\\"name\\\":\\\" \\\",\\\"metrics\\\":{\\\"complexity\\\":1.0,\\\"centrality\\\":0,\\\"blocking factor\\\":0,\\\"delay factor\\\":1.0},\\\"nameSub\\\":\\\"Elective 2\\\",\\\"id\\\":18,\\\"credits\\\":2,\\\"nameCanonical\\\":\\\"\\\"}],\\\"id\\\":3},{\\\"name\\\":\\\"Term 4\\\",\\\"curriculum_items\\\":[{\\\"curriculum_requisites\\\":[{\\\"source_id\\\":9,\\\"target_id\\\":19,\\\"type\\\":\\\"CurriculumPrerequisite\\\"}],\\\"name\\\":\\\" \\\",\\\"metrics\\\":{\\\"complexity\\\":6.0,\\\"centrality\\\":8,\\\"blocking factor\\\":2,\\\"delay factor\\\":4.0},\\\"nameSub\\\":\\\"ADVS 2200\\\",\\\"id\\\":19,\\\"credits\\\":4,\\\"nameCanonical\\\":\\\"\\\"},{\\\"curriculum_requisites\\\":[],\\\"name\\\":\\\" \\\",\\\"metrics\\\":{\\\"complexity\\\":1.0,\\\"centrality\\\":0,\\\"blocking factor\\\":0,\\\"delay factor\\\":1.0},\\\"nameSub\\\":\\\"APEC 2010\\\",\\\"id\\\":20,\\\"credits\\\":3,\\\"nameCanonical\\\":\\\"\\\"},{\\\"curriculum_requisites\\\":[{\\\"source_id\\\":14,\\\"target_id\\\":21,\\\"type\\\":\\\"CurriculumPrerequisite\\\"}],\\\"name\\\":\\\" \\\",\\\"metrics\\\":{\\\"complexity\\\":2.0,\\\"centrality\\\":0,\\\"blocking factor\\\":0,\\\"delay factor\\\":2.0},\\\"nameSub\\\":\\\"CHEM 1220\\\",\\\"id\\\":21,\\\"credits\\\":4,\\\"nameCanonical\\\":\\\"\\\"},{\\\"curriculum_requisites\\\":[],\\\"name\\\":\\\" \\\",\\\"metrics\\\":{\\\"complexity\\\":1.0,\\\"centrality\\\":0,\\\"blocking factor\\\":0,\\\"delay factor\\\":1.0},\\\"nameSub\\\":\\\"CHEM 1225\\\",\\\"id\\\":22,\\\"credits\\\":1,\\\"nameCanonical\\\":\\\"\\\"},{\\\"curriculum_requisites\\\":[{\\\"source_id\\\":4,\\\"target_id\\\":23,\\\"type\\\":\\\"CurriculumPrerequisite\\\"}],\\\"name\\\":\\\" \\\",\\\"metrics\\\":{\\\"complexity\\\":2.0,\\\"centrality\\\":0,\\\"blocking factor\\\":0,\\\"delay factor\\\":2.0},\\\"nameSub\\\":\\\"Engl 2010\\\",\\\"id\\\":23,\\\"credits\\\":3,\\\"nameCanonical\\\":\\\"\\\"}],\\\"id\\\":4},{\\\"name\\\":\\\"Term 5\\\",\\\"curriculum_items\\\":[{\\\"curriculum_requisites\\\":[],\\\"name\\\":\\\" \\\",\\\"metrics\\\":{\\\"complexity\\\":1.0,\\\"centrality\\\":0,\\\"blocking factor\\\":0,\\\"delay factor\\\":1.0},\\\"nameSub\\\":\\\"ADVS 2500\\\",\\\"id\\\":24,\\\"credits\\\":3,\\\"nameCanonical\\\":\\\"\\\"},{\\\"curriculum_requisites\\\":[],\\\"name\\\":\\\" \\\",\\\"metrics\\\":{\\\"complexity\\\":1.0,\\\"centrality\\\":0,\\\"blocking factor\\\":0,\\\"delay factor\\\":1.0},\\\"nameSub\\\":\\\"MGT 3530\\\",\\\"id\\\":25,\\\"credits\\\":3,\\\"nameCanonical\\\":\\\"\\\"},{\\\"curriculum_requisites\\\":[],\\\"name\\\":\\\" \\\",\\\"metrics\\\":{\\\"complexity\\\":1.0,\\\"centrality\\\":0,\\\"blocking factor\\\":0,\\\"delay factor\\\":1.0},\\\"nameSub\\\":\\\"ADVS 3520\\\",\\\"id\\\":26,\\\"credits\\\":3,\\\"nameCanonical\\\":\\\"\\\"},{\\\"curriculum_requisites\\\":[],\\\"name\\\":\\\" \\\",\\\"metrics\\\":{\\\"complexity\\\":1.0,\\\"centrality\\\":0,\\\"blocking factor\\\":0,\\\"delay factor\\\":1.0},\\\"nameSub\\\":\\\"ENGL 2240\\\",\\\"id\\\":27,\\\"credits\\\":3,\\\"nameCanonical\\\":\\\"\\\"},{\\\"curriculum_requisites\\\":[],\\\"name\\\":\\\" \\\",\\\"metrics\\\":{\\\"complexity\\\":1.0,\\\"centrality\\\":0,\\\"blocking factor\\\":0,\\\"delay factor\\\":1.0},\\\"nameSub\\\":\\\"APEC 3012\\\",\\\"id\\\":28,\\\"credits\\\":3,\\\"nameCanonical\\\":\\\"\\\"}],\\\"id\\\":5},{\\\"name\\\":\\\"Term 6\\\",\\\"curriculum_items\\\":[{\\\"curriculum_requisites\\\":[{\\\"source_id\\\":19,\\\"target_id\\\":29,\\\"type\\\":\\\"CurriculumPrerequisite\\\"}],\\\"name\\\":\\\" \\\",\\\"metrics\\\":{\\\"complexity\\\":4.0,\\\"centrality\\\":0,\\\"blocking factor\\\":0,\\\"delay factor\\\":4.0},\\\"nameSub\\\":\\\"ADVS 3000\\\",\\\"id\\\":29,\\\"credits\\\":3,\\\"nameCanonical\\\":\\\"\\\"},{\\\"curriculum_requisites\\\":[],\\\"name\\\":\\\" \\\",\\\"metrics\\\":{\\\"complexity\\\":1.0,\\\"centrality\\\":0,\\\"blocking factor\\\":0,\\\"delay factor\\\":1.0},\\\"nameSub\\\":\\\"ADVS 3100\\\",\\\"id\\\":30,\\\"credits\\\":3,\\\"nameCanonical\\\":\\\"\\\"},{\\\"curriculum_requisites\\\":[],\\\"name\\\":\\\" \\\",\\\"metrics\\\":{\\\"complexity\\\":1.0,\\\"centrality\\\":0,\\\"blocking factor\\\":0,\\\"delay factor\\\":1.0},\\\"nameSub\\\":\\\"ASTE 2830\\\",\\\"id\\\":31,\\\"credits\\\":3,\\\"nameCanonical\\\":\\\"\\\"},{\\\"curriculum_requisites\\\":[],\\\"name\\\":\\\" \\\",\\\"metrics\\\":{\\\"complexity\\\":1.0,\\\"centrality\\\":0,\\\"blocking factor\\\":0,\\\"delay factor\\\":1.0},\\\"nameSub\\\":\\\"Elective 3\\\",\\\"id\\\":32,\\\"credits\\\":3,\\\"nameCanonical\\\":\\\"\\\"},{\\\"curriculum_requisites\\\":[],\\\"name\\\":\\\" \\\",\\\"metrics\\\":{\\\"complexity\\\":1.0,\\\"centrality\\\":0,\\\"blocking factor\\\":0,\\\"delay factor\\\":1.0},\\\"nameSub\\\":\\\"Elective 4\\\",\\\"id\\\":33,\\\"credits\\\":3,\\\"nameCanonical\\\":\\\"\\\"}],\\\"id\\\":6},{\\\"name\\\":\\\"Term 7\\\",\\\"curriculum_items\\\":[{\\\"curriculum_requisites\\\":[{\\\"source_id\\\":19,\\\"target_id\\\":34,\\\"type\\\":\\\"CurriculumPrerequisite\\\"}],\\\"name\\\":\\\" \\\",\\\"metrics\\\":{\\\"complexity\\\":4.0,\\\"centrality\\\":0,\\\"blocking factor\\\":0,\\\"delay factor\\\":4.0},\\\"nameSub\\\":\\\"ADVS 4200\\\",\\\"id\\\":34,\\\"credits\\\":4,\\\"nameCanonical\\\":\\\"\\\"},{\\\"curriculum_requisites\\\":[],\\\"name\\\":\\\" \\\",\\\"metrics\\\":{\\\"complexity\\\":1.0,\\\"centrality\\\":0,\\\"blocking factor\\\":0,\\\"delay factor\\\":1.0},\\\"nameSub\\\":\\\"ADVS 4270\\\",\\\"id\\\":35,\\\"credits\\\":4,\\\"nameCanonical\\\":\\\"\\\"},{\\\"curriculum_requisites\\\":[{\\\"source_id\\\":9,\\\"target_id\\\":36,\\\"type\\\":\\\"CurriculumPrerequisite\\\"}],\\\"name\\\":\\\" \\\",\\\"metrics\\\":{\\\"complexity\\\":3.0,\\\"centrality\\\":0,\\\"blocking factor\\\":0,\\\"delay factor\\\":3.0},\\\"nameSub\\\":\\\"ADVS 4560\\\",\\\"id\\\":36,\\\"credits\\\":3,\\\"nameCanonical\\\":\\\"\\\"},{\\\"curriculum_requisites\\\":[],\\\"name\\\":\\\" \\\",\\\"metrics\\\":{\\\"complexity\\\":1.0,\\\"centrality\\\":0,\\\"blocking factor\\\":0,\\\"delay factor\\\":1.0},\\\"nameSub\\\":\\\"ADVS 4920\\\",\\\"id\\\":37,\\\"credits\\\":2,\\\"nameCanonical\\\":\\\"\\\"},{\\\"curriculum_requisites\\\":[],\\\"name\\\":\\\" \\\",\\\"metrics\\\":{\\\"complexity\\\":1.0,\\\"centrality\\\":0,\\\"blocking factor\\\":0,\\\"delay factor\\\":1.0},\\\"nameSub\\\":\\\"ADVS 5190\\\",\\\"id\\\":38,\\\"credits\\\":3,\\\"nameCanonical\\\":\\\"\\\"}],\\\"id\\\":7},{\\\"name\\\":\\\"Term 8\\\",\\\"curriculum_items\\\":[{\\\"curriculum_requisites\\\":[],\\\"name\\\":\\\" \\\",\\\"metrics\\\":{\\\"complexity\\\":1.0,\\\"centrality\\\":0,\\\"blocking factor\\\":0,\\\"delay factor\\\":1.0},\\\"nameSub\\\":\\\"APEC 3010\\\",\\\"id\\\":39,\\\"credits\\\":3,\\\"nameCanonical\\\":\\\"\\\"},{\\\"curriculum_requisites\\\":[],\\\"name\\\":\\\" \\\",\\\"metrics\\\":{\\\"complexity\\\":1.0,\\\"centrality\\\":0,\\\"blocking factor\\\":0,\\\"delay factor\\\":1.0},\\\"nameSub\\\":\\\"MGT 3500\\\",\\\"id\\\":40,\\\"credits\\\":3,\\\"nameCanonical\\\":\\\"\\\"},{\\\"curriculum_requisites\\\":[],\\\"name\\\":\\\" \\\",\\\"metrics\\\":{\\\"complexity\\\":1.0,\\\"centrality\\\":0,\\\"blocking factor\\\":0,\\\"delay factor\\\":1.0},\\\"nameSub\\\":\\\"MGT 3110\\\",\\\"id\\\":41,\\\"credits\\\":3,\\\"nameCanonical\\\":\\\"\\\"},{\\\"curriculum_requisites\\\":[],\\\"name\\\":\\\" \\\",\\\"metrics\\\":{\\\"complexity\\\":1.0,\\\"centrality\\\":0,\\\"blocking factor\\\":0,\\\"delay factor\\\":1.0},\\\"nameSub\\\":\\\"ENGL 3040\\\",\\\"id\\\":42,\\\"credits\\\":3,\\\"nameCanonical\\\":\\\"\\\"},{\\\"curriculum_requisites\\\":[],\\\"name\\\":\\\" \\\",\\\"metrics\\\":{\\\"complexity\\\":1.0,\\\"centrality\\\":0,\\\"blocking factor\\\":0,\\\"delay factor\\\":1.0},\\\"nameSub\\\":\\\"Elective 5\\\",\\\"id\\\":43,\\\"credits\\\":3,\\\"nameCanonical\\\":\\\"\\\"}],\\\"id\\\":8}],\\\"institution\\\":\\\"Utah State University\\\"}},\\\"*\\\"); window.removeEventListener(\\\"message\\\",window.messageReceived); window.messageReceived=(function (event){return (event.data.curriculum!==undefined) ? (WebIO.setval({\\\"name\\\":\\\"curriculum-data\\\",\\\"scope\\\":\\\"64121313442752630\\\",\\\"id\\\":\\\"14584118147419934612\\\",\\\"type\\\":\\\"observable\\\"},event.data.curriculum)) : undefined}); return window.addEventListener(\\\"message\\\",window.messageReceived)})\"},\"style\":{\"padding\":\"0\",\"height\":\"100vh\",\"margin\":\"0\",\"border\":\"none\",\"width\":\"100%\"}},\"nodeType\":\"DOM\",\"type\":\"node\",\"instanceArgs\":{\"namespace\":\"html\",\"tag\":\"iframe\"},\"children\":[\"\"]}]},\n",
       "            window,\n",
       "        );\n",
       "    } else {\n",
       "        document\n",
       "            .querySelector('[data-webio-mountpoint=\"5663805375283505356\"]')\n",
       "            .innerHTML = (\n",
       "                '<div style=\"padding: 1em; background-color: #f8d6da; border: 1px solid #f5c6cb\">' +\n",
       "                '<p><strong>WebIO not detected.</strong></p>' +\n",
       "                '<p>Please read ' +\n",
       "                '<a href=\"https://juliagizmos.github.io/WebIO.jl/latest/troubleshooting/not-detected/\" target=\"_blank\">the troubleshooting guide</a> ' +\n",
       "                'for more information on how to resolve this issue.</p>' +\n",
       "                '<p><a href=\"https://juliagizmos.github.io/WebIO.jl/latest/troubleshooting/not-detected/\" target=\"_blank\">https://juliagizmos.github.io/WebIO.jl/latest/troubleshooting/not-detected/</a></p>' +\n",
       "                '</div>'\n",
       "            );\n",
       "    }\n",
       "    </script>\n",
       "</div>\n"
      ],
      "text/plain": [
       "WebIO.Scope(WebIO.Node{WebIO.DOM}(WebIO.DOM(:html, :iframe), Any[\"\"], Dict{Symbol,Any}(:src => \"http://localhost:8156\",:id => \"curriculum\",:events => Dict{Symbol,WebIO.JSString}(:load => WebIO.JSString(\"(function (){this.contentWindow.postMessage({\\\"options\\\":{\\\"hideTerms\\\":false,\\\"edit\\\":false},\\\"curriculum\\\":{\\\"name\\\":\\\"Animal Science (Equine)\\\",\\\"dp_name\\\":\\\"4-Year Plan\\\",\\\"curriculum_terms\\\":[{\\\"name\\\":\\\"Term 1\\\",\\\"curriculum_items\\\":[{\\\"curriculum_requisites\\\":[],\\\"name\\\":\\\" \\\",\\\"metrics\\\":{\\\"complexity\\\":1.0,\\\"centrality\\\":0,\\\"blocking factor\\\":0,\\\"delay factor\\\":1.0},\\\"nameSub\\\":\\\"ADVS 1110\\\",\\\"id\\\":1,\\\"credits\\\":4,\\\"nameCanonical\\\":\\\"\\\"},{\\\"curriculum_requisites\\\":[],\\\"name\\\":\\\" \\\",\\\"metrics\\\":{\\\"complexity\\\":9.0,\\\"centrality\\\":0,\\\"blocking factor\\\":5,\\\"delay factor\\\":4.0},\\\"nameSub\\\":\\\"BIOL 1610\\\",\\\"id\\\":2,\\\"credits\\\":3,\\\"nameCanonical\\\":\\\"\\\"},{\\\"curriculum_requisites\\\":[],\\\"name\\\":\\\" \\\",\\\"metrics\\\":{\\\"complexity\\\":1.0,\\\"centrality\\\":0,\\\"blocking factor\\\":0,\\\"delay factor\\\":1.0},\\\"nameSub\\\":\\\"BIOL 1615\\\",\\\"id\\\":3,\\\"credits\\\":1,\\\"nameCanonical\\\":\\\"\\\"},{\\\"curriculum_requisites\\\":[],\\\"name\\\":\\\" \\\",\\\"metrics\\\":{\\\"complexity\\\":3.0,\\\"centrality\\\":0,\\\"blocking factor\\\":1,\\\"delay factor\\\":2.0},\\\"nameSub\\\":\\\"ENGL 1010\\\",\\\"id\\\":4,\\\"credits\\\":3,\\\"nameCanonical\\\":\\\"\\\"},{\\\"curriculum_requisites\\\":[],\\\"name\\\":\\\" \\\",\\\"metrics\\\":{\\\"complexity\\\":1.0,\\\"centrality\\\":0,\\\"blocking factor\\\":0,\\\"delay factor\\\":1.0},\\\"nameSub\\\":\\\"MATH 1050\\\",\\\"id\\\":5,\\\"credits\\\":4,\\\"nameCanonical\\\":\\\"\\\"},{\\\"curriculum_requisites\\\":[],\\\"name\\\":\\\" \\\",\\\"metrics\\\":{\\\"complexity\\\":1.0,\\\"centrality\\\":0,\\\"blocking factor\\\":0,\\\"delay factor\\\":1.0},\\\"nameSub\\\":\\\"ADVS 1050\\\",\\\"id\\\":6,\\\"credits\\\":1,\\\"nameCanonical\\\":\\\"\\\"}],\\\"id\\\":1},{\\\"name\\\":\\\"Term 2\\\",\\\"curriculum_items\\\":[{\\\"curriculum_requisites\\\":[],\\\"name\\\":\\\" \\\",\\\"metrics\\\":{\\\"complexity\\\":1.0,\\\"centrality\\\":0,\\\"blocking factor\\\":0,\\\"delay factor\\\":1.0},\\\"nameSub\\\":\\\"ADVS 1600\\\",\\\"id\\\":7,\\\"credits\\\":3,\\\"nameCanonical\\\":\\\"\\\"},{\\\"curriculum_requisites\\\":[],\\\"name\\\":\\\" \\\",\\\"metrics\\\":{\\\"complexity\\\":3.0,\\\"centrality\\\":0,\\\"blocking factor\\\":1,\\\"delay factor\\\":2.0},\\\"nameSub\\\":\\\"ADVS 2190\\\",\\\"id\\\":8,\\\"credits\\\":3,\\\"nameCanonical\\\":\\\"\\\"},{\\\"curriculum_requisites\\\":[{\\\"source_id\\\":2,\\\"target_id\\\":9,\\\"type\\\":\\\"CurriculumPrerequisite\\\"}],\\\"name\\\":\\\" \\\",\\\"metrics\\\":{\\\"complexity\\\":8.0,\\\"centrality\\\":11,\\\"blocking factor\\\":4,\\\"delay factor\\\":4.0},\\\"nameSub\\\":\\\"BIOL 1620\\\",\\\"id\\\":9,\\\"credits\\\":3,\\\"nameCanonical\\\":\\\"\\\"},{\\\"curriculum_requisites\\\":[],\\\"name\\\":\\\" \\\",\\\"metrics\\\":{\\\"complexity\\\":1.0,\\\"centrality\\\":0,\\\"blocking factor\\\":0,\\\"delay factor\\\":1.0},\\\"nameSub\\\":\\\"BIOL 1625\\\",\\\"id\\\":10,\\\"credits\\\":1,\\\"nameCanonical\\\":\\\"\\\"},{\\\"curriculum_requisites\\\":[],\\\"name\\\":\\\" \\\",\\\"metrics\\\":{\\\"complexity\\\":1.0,\\\"centrality\\\":0,\\\"blocking factor\\\":0,\\\"delay factor\\\":1.0},\\\"nameSub\\\":\\\"STAT 1040\\\",\\\"id\\\":11,\\\"credits\\\":3,\\\"nameCanonical\\\":\\\"\\\"},{\\\"curriculum_requisites\\\":[],\\\"name\\\":\\\" \\\",\\\"metrics\\\":{\\\"complexity\\\":1.0,\\\"centrality\\\":0,\\\"blocking factor\\\":0,\\\"delay factor\\\":1.0},\\\"nameSub\\\":\\\"Elective 1\\\",\\\"id\\\":12,\\\"credits\\\":2,\\\"nameCanonical\\\":\\\"\\\"}],\\\"id\\\":2},{\\\"name\\\":\\\"Term 3\\\",\\\"curriculum_items\\\":[{\\\"curriculum_requisites\\\":[{\\\"source_id\\\":8,\\\"target_id\\\":13,\\\"type\\\":\\\"CurriculumPrerequisite\\\"}],\\\"name\\\":\\\" \\\",\\\"metrics\\\":{\\\"complexity\\\":2.0,\\\"centrality\\\":0,\\\"blocking factor\\\":0,\\\"delay factor\\\":2.0},\\\"nameSub\\\":\\\"ADVS 2300\\\",\\\"id\\\":13,\\\"credits\\\":2,\\\"nameCanonical\\\":\\\"\\\"},{\\\"curriculum_requisites\\\":[],\\\"name\\\":\\\" \\\",\\\"metrics\\\":{\\\"complexity\\\":3.0,\\\"centrality\\\":0,\\\"blocking factor\\\":1,\\\"delay factor\\\":2.0},\\\"nameSub\\\":\\\"CHEM 1210\\\",\\\"id\\\":14,\\\"credits\\\":4,\\\"nameCanonical\\\":\\\"\\\"},{\\\"curriculum_requisites\\\":[],\\\"name\\\":\\\" \\\",\\\"metrics\\\":{\\\"complexity\\\":1.0,\\\"centrality\\\":0,\\\"blocking factor\\\":0,\\\"delay factor\\\":1.0},\\\"nameSub\\\":\\\"CHEM 1215\\\",\\\"id\\\":15,\\\"credits\\\":1,\\\"nameCanonical\\\":\\\"\\\"},{\\\"curriculum_requisites\\\":[],\\\"name\\\":\\\" \\\",\\\"metrics\\\":{\\\"complexity\\\":1.0,\\\"centrality\\\":0,\\\"blocking factor\\\":0,\\\"delay factor\\\":1.0},\\\"nameSub\\\":\\\"APEC 1600\\\",\\\"id\\\":16,\\\"credits\\\":3,\\\"nameCanonical\\\":\\\"\\\"},{\\\"curriculum_requisites\\\":[],\\\"name\\\":\\\" \\\",\\\"metrics\\\":{\\\"complexity\\\":1.0,\\\"centrality\\\":0,\\\"blocking factor\\\":0,\\\"delay factor\\\":1.0},\\\"nameSub\\\":\\\"LAEP 1030\\\",\\\"id\\\":17,\\\"credits\\\":3,\\\"nameCanonical\\\":\\\"\\\"},{\\\"curriculum_requisites\\\":[],\\\"name\\\":\\\" \\\",\\\"metrics\\\":{\\\"complexity\\\":1.0,\\\"centrality\\\":0,\\\"blocking factor\\\":0,\\\"delay factor\\\":1.0},\\\"nameSub\\\":\\\"Elective 2\\\",\\\"id\\\":18,\\\"credits\\\":2,\\\"nameCanonical\\\":\\\"\\\"}],\\\"id\\\":3},{\\\"name\\\":\\\"Term 4\\\",\\\"curriculum_items\\\":[{\\\"curriculum_requisites\\\":[{\\\"source_id\\\":9,\\\"target_id\\\":19,\\\"type\\\":\\\"CurriculumPrerequisite\\\"}],\\\"name\\\":\\\" \\\",\\\"metrics\\\":{\\\"complexity\\\":6.0,\\\"centrality\\\":8,\\\"blocking factor\\\":2,\\\"delay factor\\\":4.0},\\\"nameSub\\\":\\\"ADVS 2200\\\",\\\"id\\\":19,\\\"credits\\\":4,\\\"nameCanonical\\\":\\\"\\\"},{\\\"curriculum_requisites\\\":[],\\\"name\\\":\\\" \\\",\\\"metrics\\\":{\\\"complexity\\\":1.0,\\\"centrality\\\":0,\\\"blocking factor\\\":0,\\\"delay factor\\\":1.0},\\\"nameSub\\\":\\\"APEC 2010\\\",\\\"id\\\":20,\\\"credits\\\":3,\\\"nameCanonical\\\":\\\"\\\"},{\\\"curriculum_requisites\\\":[{\\\"source_id\\\":14,\\\"target_id\\\":21,\\\"type\\\":\\\"CurriculumPrerequisite\\\"}],\\\"name\\\":\\\" \\\",\\\"metrics\\\":{\\\"complexity\\\":2.0,\\\"centrality\\\":0,\\\"blocking factor\\\":0,\\\"delay factor\\\":2.0},\\\"nameSub\\\":\\\"CHEM 1220\\\",\\\"id\\\":21,\\\"credits\\\":4,\\\"nameCanonical\\\":\\\"\\\"},{\\\"curriculum_requisites\\\":[],\\\"name\\\":\\\" \\\",\\\"metrics\\\":{\\\"complexity\\\":1.0,\\\"centrality\\\":0,\\\"blocking factor\\\":0,\\\"delay factor\\\":1.0},\\\"nameSub\\\":\\\"CHEM 1225\\\",\\\"id\\\":22,\\\"credits\\\":1,\\\"nameCanonical\\\":\\\"\\\"},{\\\"curriculum_requisites\\\":[{\\\"source_id\\\":4,\\\"target_id\\\":23,\\\"type\\\":\\\"CurriculumPrerequisite\\\"}],\\\"name\\\":\\\" \\\",\\\"metrics\\\":{\\\"complexity\\\":2.0,\\\"centrality\\\":0,\\\"blocking factor\\\":0,\\\"delay factor\\\":2.0},\\\"nameSub\\\":\\\"Engl 2010\\\",\\\"id\\\":23,\\\"credits\\\":3,\\\"nameCanonical\\\":\\\"\\\"}],\\\"id\\\":4},{\\\"name\\\":\\\"Term 5\\\",\\\"curriculum_items\\\":[{\\\"curriculum_requisites\\\":[],\\\"name\\\":\\\" \\\",\\\"metrics\\\":{\\\"complexity\\\":1.0,\\\"centrality\\\":0,\\\"blocking factor\\\":0,\\\"delay factor\\\":1.0},\\\"nameSub\\\":\\\"ADVS 2500\\\",\\\"id\\\":24,\\\"credits\\\":3,\\\"nameCanonical\\\":\\\"\\\"},{\\\"curriculum_requisites\\\":[],\\\"name\\\":\\\" \\\",\\\"metrics\\\":{\\\"complexity\\\":1.0,\\\"centrality\\\":0,\\\"blocking factor\\\":0,\\\"delay factor\\\":1.0},\\\"nameSub\\\":\\\"MGT 3530\\\",\\\"id\\\":25,\\\"credits\\\":3,\\\"nameCanonical\\\":\\\"\\\"},{\\\"curriculum_requisites\\\":[],\\\"name\\\":\\\" \\\",\\\"metrics\\\":{\\\"complexity\\\":1.0,\\\"centrality\\\":0,\\\"blocking factor\\\":0,\\\"delay factor\\\":1.0},\\\"nameSub\\\":\\\"ADVS 3520\\\",\\\"id\\\":26,\\\"credits\\\":3,\\\"nameCanonical\\\":\\\"\\\"},{\\\"curriculum_requisites\\\":[],\\\"name\\\":\\\" \\\",\\\"metrics\\\":{\\\"complexity\\\":1.0,\\\"centrality\\\":0,\\\"blocking factor\\\":0,\\\"delay factor\\\":1.0},\\\"nameSub\\\":\\\"ENGL 2240\\\",\\\"id\\\":27,\\\"credits\\\":3,\\\"nameCanonical\\\":\\\"\\\"},{\\\"curriculum_requisites\\\":[],\\\"name\\\":\\\" \\\",\\\"metrics\\\":{\\\"complexity\\\":1.0,\\\"centrality\\\":0,\\\"blocking factor\\\":0,\\\"delay factor\\\":1.0},\\\"nameSub\\\":\\\"APEC 3012\\\",\\\"id\\\":28,\\\"credits\\\":3,\\\"nameCanonical\\\":\\\"\\\"}],\\\"id\\\":5},{\\\"name\\\":\\\"Term 6\\\",\\\"curriculum_items\\\":[{\\\"curriculum_requisites\\\":[{\\\"source_id\\\":19,\\\"target_id\\\":29,\\\"type\\\":\\\"CurriculumPrerequisite\\\"}],\\\"name\\\":\\\" \\\",\\\"metrics\\\":{\\\"complexity\\\":4.0,\\\"centrality\\\":0,\\\"blocking factor\\\":0,\\\"delay factor\\\":4.0},\\\"nameSub\\\":\\\"ADVS 3000\\\",\\\"id\\\":29,\\\"credits\\\":3,\\\"nameCanonical\\\":\\\"\\\"},{\\\"curriculum_requisites\\\":[],\\\"name\\\":\\\" \\\",\\\"metrics\\\":{\\\"complexity\\\":1.0,\\\"centrality\\\":0,\\\"blocking factor\\\":0,\\\"delay factor\\\":1.0},\\\"nameSub\\\":\\\"ADVS 3100\\\",\\\"id\\\":30,\\\"credits\\\":3,\\\"nameCanonical\\\":\\\"\\\"},{\\\"curriculum_requisites\\\":[],\\\"name\\\":\\\" \\\",\\\"metrics\\\":{\\\"complexity\\\":1.0,\\\"centrality\\\":0,\\\"blocking factor\\\":0,\\\"delay factor\\\":1.0},\\\"nameSub\\\":\\\"ASTE 2830\\\",\\\"id\\\":31,\\\"credits\\\":3,\\\"nameCanonical\\\":\\\"\\\"},{\\\"curriculum_requisites\\\":[],\\\"name\\\":\\\" \\\",\\\"metrics\\\":{\\\"complexity\\\":1.0,\\\"centrality\\\":0,\\\"blocking factor\\\":0,\\\"delay factor\\\":1.0},\\\"nameSub\\\":\\\"Elective 3\\\",\\\"id\\\":32,\\\"credits\\\":3,\\\"nameCanonical\\\":\\\"\\\"},{\\\"curriculum_requisites\\\":[],\\\"name\\\":\\\" \\\",\\\"metrics\\\":{\\\"complexity\\\":1.0,\\\"centrality\\\":0,\\\"blocking factor\\\":0,\\\"delay factor\\\":1.0},\\\"nameSub\\\":\\\"Elective 4\\\",\\\"id\\\":33,\\\"credits\\\":3,\\\"nameCanonical\\\":\\\"\\\"}],\\\"id\\\":6},{\\\"name\\\":\\\"Term 7\\\",\\\"curriculum_items\\\":[{\\\"curriculum_requisites\\\":[{\\\"source_id\\\":19,\\\"target_id\\\":34,\\\"type\\\":\\\"CurriculumPrerequisite\\\"}],\\\"name\\\":\\\" \\\",\\\"metrics\\\":{\\\"complexity\\\":4.0,\\\"centrality\\\":0,\\\"blocking factor\\\":0,\\\"delay factor\\\":4.0},\\\"nameSub\\\":\\\"ADVS 4200\\\",\\\"id\\\":34,\\\"credits\\\":4,\\\"nameCanonical\\\":\\\"\\\"},{\\\"curriculum_requisites\\\":[],\\\"name\\\":\\\" \\\",\\\"metrics\\\":{\\\"complexity\\\":1.0,\\\"centrality\\\":0,\\\"blocking factor\\\":0,\\\"delay factor\\\":1.0},\\\"nameSub\\\":\\\"ADVS 4270\\\",\\\"id\\\":35,\\\"credits\\\":4,\\\"nameCanonical\\\":\\\"\\\"},{\\\"curriculum_requisites\\\":[{\\\"source_id\\\":9,\\\"target_id\\\":36,\\\"type\\\":\\\"CurriculumPrerequisite\\\"}],\\\"name\\\":\\\" \\\",\\\"metrics\\\":{\\\"complexity\\\":3.0,\\\"centrality\\\":0,\\\"blocking factor\\\":0,\\\"delay factor\\\":3.0},\\\"nameSub\\\":\\\"ADVS 4560\\\",\\\"id\\\":36,\\\"credits\\\":3,\\\"nameCanonical\\\":\\\"\\\"},{\\\"curriculum_requisites\\\":[],\\\"name\\\":\\\" \\\",\\\"metrics\\\":{\\\"complexity\\\":1.0,\\\"centrality\\\":0,\\\"blocking factor\\\":0,\\\"delay factor\\\":1.0},\\\"nameSub\\\":\\\"ADVS 4920\\\",\\\"id\\\":37,\\\"credits\\\":2,\\\"nameCanonical\\\":\\\"\\\"},{\\\"curriculum_requisites\\\":[],\\\"name\\\":\\\" \\\",\\\"metrics\\\":{\\\"complexity\\\":1.0,\\\"centrality\\\":0,\\\"blocking factor\\\":0,\\\"delay factor\\\":1.0},\\\"nameSub\\\":\\\"ADVS 5190\\\",\\\"id\\\":38,\\\"credits\\\":3,\\\"nameCanonical\\\":\\\"\\\"}],\\\"id\\\":7},{\\\"name\\\":\\\"Term 8\\\",\\\"curriculum_items\\\":[{\\\"curriculum_requisites\\\":[],\\\"name\\\":\\\" \\\",\\\"metrics\\\":{\\\"complexity\\\":1.0,\\\"centrality\\\":0,\\\"blocking factor\\\":0,\\\"delay factor\\\":1.0},\\\"nameSub\\\":\\\"APEC 3010\\\",\\\"id\\\":39,\\\"credits\\\":3,\\\"nameCanonical\\\":\\\"\\\"},{\\\"curriculum_requisites\\\":[],\\\"name\\\":\\\" \\\",\\\"metrics\\\":{\\\"complexity\\\":1.0,\\\"centrality\\\":0,\\\"blocking factor\\\":0,\\\"delay factor\\\":1.0},\\\"nameSub\\\":\\\"MGT 3500\\\",\\\"id\\\":40,\\\"credits\\\":3,\\\"nameCanonical\\\":\\\"\\\"},{\\\"curriculum_requisites\\\":[],\\\"name\\\":\\\" \\\",\\\"metrics\\\":{\\\"complexity\\\":1.0,\\\"centrality\\\":0,\\\"blocking factor\\\":0,\\\"delay factor\\\":1.0},\\\"nameSub\\\":\\\"MGT 3110\\\",\\\"id\\\":41,\\\"credits\\\":3,\\\"nameCanonical\\\":\\\"\\\"},{\\\"curriculum_requisites\\\":[],\\\"name\\\":\\\" \\\",\\\"metrics\\\":{\\\"complexity\\\":1.0,\\\"centrality\\\":0,\\\"blocking factor\\\":0,\\\"delay factor\\\":1.0},\\\"nameSub\\\":\\\"ENGL 3040\\\",\\\"id\\\":42,\\\"credits\\\":3,\\\"nameCanonical\\\":\\\"\\\"},{\\\"curriculum_requisites\\\":[],\\\"name\\\":\\\" \\\",\\\"metrics\\\":{\\\"complexity\\\":1.0,\\\"centrality\\\":0,\\\"blocking factor\\\":0,\\\"delay factor\\\":1.0},\\\"nameSub\\\":\\\"Elective 5\\\",\\\"id\\\":43,\\\"credits\\\":3,\\\"nameCanonical\\\":\\\"\\\"}],\\\"id\\\":8}],\\\"institution\\\":\\\"Utah State University\\\"}},\\\"*\\\"); window.removeEventListener(\\\"message\\\",window.messageReceived); window.messageReceived=(function (event){return (event.data.curriculum!==undefined) ? (WebIO.setval({\\\"name\\\":\\\"curriculum-data\\\",\\\"scope\\\":\\\"64121313442752630\\\",\\\"id\\\":\\\"14584118147419934612\\\",\\\"type\\\":\\\"observable\\\"},event.data.curriculum)) : undefined}); return window.addEventListener(\\\"message\\\",window.messageReceived)})\")),:style => Dict(:padding => \"0\",:height => \"100vh\",:margin => \"0\",:border => \"none\",:width => \"100%\"))), Dict{String,Tuple{Observables.AbstractObservable,Union{Nothing, Bool}}}(\"curriculum-data\" => (Observable{Dict{String,Any}} with 1 listeners. Value:\n",
       "Dict{String,Any}(\"options\" => Dict{String,Any}(\"hideTerms\" => false,\"edit\" => false),\"curriculum\" => Dict{String,Any}(\"name\" => \"Animal Science (Equine)\",\"dp_name\" => \"4-Year Plan\",\"curriculum_terms\" => Dict{String,Any}[Dict(\"name\" => \"Term 1\",\"curriculum_items\" => Dict{String,Any}[Dict(\"curriculum_requisites\" => Dict{String,Any}[],\"name\" => \" \",\"metrics\" => Dict{String,Any}(\"complexity\" => 1.0,\"centrality\" => 0,\"blocking factor\" => 0,\"delay factor\" => 1.0),\"nameSub\" => \"ADVS 1110\",\"id\" => 1,\"credits\" => 4,\"nameCanonical\" => \"\"), Dict(\"curriculum_requisites\" => Dict{String,Any}[],\"name\" => \" \",\"metrics\" => Dict{String,Any}(\"complexity\" => 9.0,\"centrality\" => 0,\"blocking factor\" => 5,\"delay factor\" => 4.0),\"nameSub\" => \"BIOL 1610\",\"id\" => 2,\"credits\" => 3,\"nameCanonical\" => \"\"), Dict(\"curriculum_requisites\" => Dict{String,Any}[],\"name\" => \" \",\"metrics\" => Dict{String,Any}(\"complexity\" => 1.0,\"centrality\" => 0,\"blocking factor\" => 0,\"delay factor\" => 1.0),\"nameSub\" => \"BIOL 1615\",\"id\" => 3,\"credits\" => 1,\"nameCanonical\" => \"\"), Dict(\"curriculum_requisites\" => Dict{String,Any}[],\"name\" => \" \",\"metrics\" => Dict{String,Any}(\"complexity\" => 3.0,\"centrality\" => 0,\"blocking factor\" => 1,\"delay factor\" => 2.0),\"nameSub\" => \"ENGL 1010\",\"id\" => 4,\"credits\" => 3,\"nameCanonical\" => \"\"), Dict(\"curriculum_requisites\" => Dict{String,Any}[],\"name\" => \" \",\"metrics\" => Dict{String,Any}(\"complexity\" => 1.0,\"centrality\" => 0,\"blocking factor\" => 0,\"delay factor\" => 1.0),\"nameSub\" => \"MATH 1050\",\"id\" => 5,\"credits\" => 4,\"nameCanonical\" => \"\"), Dict(\"curriculum_requisites\" => Dict{String,Any}[],\"name\" => \" \",\"metrics\" => Dict{String,Any}(\"complexity\" => 1.0,\"centrality\" => 0,\"blocking factor\" => 0,\"delay factor\" => 1.0),\"nameSub\" => \"ADVS 1050\",\"id\" => 6,\"credits\" => 1,\"nameCanonical\" => \"\")],\"id\" => 1), Dict(\"name\" => \"Term 2\",\"curriculum_items\" => Dict{String,Any}[Dict(\"curriculum_requisites\" => Dict{String,Any}[],\"name\" => \" \",\"metrics\" => Dict{String,Any}(\"complexity\" => 1.0,\"centrality\" => 0,\"blocking factor\" => 0,\"delay factor\" => 1.0),\"nameSub\" => \"ADVS 1600\",\"id\" => 7,\"credits\" => 3,\"nameCanonical\" => \"\"), Dict(\"curriculum_requisites\" => Dict{String,Any}[],\"name\" => \" \",\"metrics\" => Dict{String,Any}(\"complexity\" => 3.0,\"centrality\" => 0,\"blocking factor\" => 1,\"delay factor\" => 2.0),\"nameSub\" => \"ADVS 2190\",\"id\" => 8,\"credits\" => 3,\"nameCanonical\" => \"\"), Dict(\"curriculum_requisites\" => Dict{String,Any}[Dict(\"source_id\" => 2,\"target_id\" => 9,\"type\" => \"CurriculumPrerequisite\")],\"name\" => \" \",\"metrics\" => Dict{String,Any}(\"complexity\" => 8.0,\"centrality\" => 11,\"blocking factor\" => 4,\"delay factor\" => 4.0),\"nameSub\" => \"BIOL 1620\",\"id\" => 9,\"credits\" => 3,\"nameCanonical\" => \"\"), Dict(\"curriculum_requisites\" => Dict{String,Any}[],\"name\" => \" \",\"metrics\" => Dict{String,Any}(\"complexity\" => 1.0,\"centrality\" => 0,\"blocking factor\" => 0,\"delay factor\" => 1.0),\"nameSub\" => \"BIOL 1625\",\"id\" => 10,\"credits\" => 1,\"nameCanonical\" => \"\"), Dict(\"curriculum_requisites\" => Dict{String,Any}[],\"name\" => \" \",\"metrics\" => Dict{String,Any}(\"complexity\" => 1.0,\"centrality\" => 0,\"blocking factor\" => 0,\"delay factor\" => 1.0),\"nameSub\" => \"STAT 1040\",\"id\" => 11,\"credits\" => 3,\"nameCanonical\" => \"\"), Dict(\"curriculum_requisites\" => Dict{String,Any}[],\"name\" => \" \",\"metrics\" => Dict{String,Any}(\"complexity\" => 1.0,\"centrality\" => 0,\"blocking factor\" => 0,\"delay factor\" => 1.0),\"nameSub\" => \"Elective 1\",\"id\" => 12,\"credits\" => 2,\"nameCanonical\" => \"\")],\"id\" => 2), Dict(\"name\" => \"Term 3\",\"curriculum_items\" => Dict{String,Any}[Dict(\"curriculum_requisites\" => Dict{String,Any}[Dict(\"source_id\" => 8,\"target_id\" => 13,\"type\" => \"CurriculumPrerequisite\")],\"name\" => \" \",\"metrics\" => Dict{String,Any}(\"complexity\" => 2.0,\"centrality\" => 0,\"blocking factor\" => 0,\"delay factor\" => 2.0),\"nameSub\" => \"ADVS 2300\",\"id\" => 13,\"credits\" => 2,\"nameCanonical\" => \"\"), Dict(\"curriculum_requisites\" => Dict{String,Any}[],\"name\" => \" \",\"metrics\" => Dict{String,Any}(\"complexity\" => 3.0,\"centrality\" => 0,\"blocking factor\" => 1,\"delay factor\" => 2.0),\"nameSub\" => \"CHEM 1210\",\"id\" => 14,\"credits\" => 4,\"nameCanonical\" => \"\"), Dict(\"curriculum_requisites\" => Dict{String,Any}[],\"name\" => \" \",\"metrics\" => Dict{String,Any}(\"complexity\" => 1.0,\"centrality\" => 0,\"blocking factor\" => 0,\"delay factor\" => 1.0),\"nameSub\" => \"CHEM 1215\",\"id\" => 15,\"credits\" => 1,\"nameCanonical\" => \"\"), Dict(\"curriculum_requisites\" => Dict{String,Any}[],\"name\" => \" \",\"metrics\" => Dict{String,Any}(\"complexity\" => 1.0,\"centrality\" => 0,\"blocking factor\" => 0,\"delay factor\" => 1.0),\"nameSub\" => \"APEC 1600\",\"id\" => 16,\"credits\" => 3,\"nameCanonical\" => \"\"), Dict(\"curriculum_requisites\" => Dict{String,Any}[],\"name\" => \" \",\"metrics\" => Dict{String,Any}(\"complexity\" => 1.0,\"centrality\" => 0,\"blocking factor\" => 0,\"delay factor\" => 1.0),\"nameSub\" => \"LAEP 1030\",\"id\" => 17,\"credits\" => 3,\"nameCanonical\" => \"\"), Dict(\"curriculum_requisites\" => Dict{String,Any}[],\"name\" => \" \",\"metrics\" => Dict{String,Any}(\"complexity\" => 1.0,\"centrality\" => 0,\"blocking factor\" => 0,\"delay factor\" => 1.0),\"nameSub\" => \"Elective 2\",\"id\" => 18,\"credits\" => 2,\"nameCanonical\" => \"\")],\"id\" => 3), Dict(\"name\" => \"Term 4\",\"curriculum_items\" => Dict{String,Any}[Dict(\"curriculum_requisites\" => Dict{String,Any}[Dict(\"source_id\" => 9,\"target_id\" => 19,\"type\" => \"CurriculumPrerequisite\")],\"name\" => \" \",\"metrics\" => Dict{String,Any}(\"complexity\" => 6.0,\"centrality\" => 8,\"blocking factor\" => 2,\"delay factor\" => 4.0),\"nameSub\" => \"ADVS 2200\",\"id\" => 19,\"credits\" => 4,\"nameCanonical\" => \"\"), Dict(\"curriculum_requisites\" => Dict{String,Any}[],\"name\" => \" \",\"metrics\" => Dict{String,Any}(\"complexity\" => 1.0,\"centrality\" => 0,\"blocking factor\" => 0,\"delay factor\" => 1.0),\"nameSub\" => \"APEC 2010\",\"id\" => 20,\"credits\" => 3,\"nameCanonical\" => \"\"), Dict(\"curriculum_requisites\" => Dict{String,Any}[Dict(\"source_id\" => 14,\"target_id\" => 21,\"type\" => \"CurriculumPrerequisite\")],\"name\" => \" \",\"metrics\" => Dict{String,Any}(\"complexity\" => 2.0,\"centrality\" => 0,\"blocking factor\" => 0,\"delay factor\" => 2.0),\"nameSub\" => \"CHEM 1220\",\"id\" => 21,\"credits\" => 4,\"nameCanonical\" => \"\"), Dict(\"curriculum_requisites\" => Dict{String,Any}[],\"name\" => \" \",\"metrics\" => Dict{String,Any}(\"complexity\" => 1.0,\"centrality\" => 0,\"blocking factor\" => 0,\"delay factor\" => 1.0),\"nameSub\" => \"CHEM 1225\",\"id\" => 22,\"credits\" => 1,\"nameCanonical\" => \"\"), Dict(\"curriculum_requisites\" => Dict{String,Any}[Dict(\"source_id\" => 4,\"target_id\" => 23,\"type\" => \"CurriculumPrerequisite\")],\"name\" => \" \",\"metrics\" => Dict{String,Any}(\"complexity\" => 2.0,\"centrality\" => 0,\"blocking factor\" => 0,\"delay factor\" => 2.0),\"nameSub\" => \"Engl 2010\",\"id\" => 23,\"credits\" => 3,\"nameCanonical\" => \"\")],\"id\" => 4), Dict(\"name\" => \"Term 5\",\"curriculum_items\" => Dict{String,Any}[Dict(\"curriculum_requisites\" => Dict{String,Any}[],\"name\" => \" \",\"metrics\" => Dict{String,Any}(\"complexity\" => 1.0,\"centrality\" => 0,\"blocking factor\" => 0,\"delay factor\" => 1.0),\"nameSub\" => \"ADVS 2500\",\"id\" => 24,\"credits\" => 3,\"nameCanonical\" => \"\"), Dict(\"curriculum_requisites\" => Dict{String,Any}[],\"name\" => \" \",\"metrics\" => Dict{String,Any}(\"complexity\" => 1.0,\"centrality\" => 0,\"blocking factor\" => 0,\"delay factor\" => 1.0),\"nameSub\" => \"MGT 3530\",\"id\" => 25,\"credits\" => 3,\"nameCanonical\" => \"\"), Dict(\"curriculum_requisites\" => Dict{String,Any}[],\"name\" => \" \",\"metrics\" => Dict{String,Any}(\"complexity\" => 1.0,\"centrality\" => 0,\"blocking factor\" => 0,\"delay factor\" => 1.0),\"nameSub\" => \"ADVS 3520\",\"id\" => 26,\"credits\" => 3,\"nameCanonical\" => \"\"), Dict(\"curriculum_requisites\" => Dict{String,Any}[],\"name\" => \" \",\"metrics\" => Dict{String,Any}(\"complexity\" => 1.0,\"centrality\" => 0,\"blocking factor\" => 0,\"delay factor\" => 1.0),\"nameSub\" => \"ENGL 2240\",\"id\" => 27,\"credits\" => 3,\"nameCanonical\" => \"\"), Dict(\"curriculum_requisites\" => Dict{String,Any}[],\"name\" => \" \",\"metrics\" => Dict{String,Any}(\"complexity\" => 1.0,\"centrality\" => 0,\"blocking factor\" => 0,\"delay factor\" => 1.0),\"nameSub\" => \"APEC 3012\",\"id\" => 28,\"credits\" => 3,\"nameCanonical\" => \"\")],\"id\" => 5), Dict(\"name\" => \"Term 6\",\"curriculum_items\" => Dict{String,Any}[Dict(\"curriculum_requisites\" => Dict{String,Any}[Dict(\"source_id\" => 19,\"target_id\" => 29,\"type\" => \"CurriculumPrerequisite\")],\"name\" => \" \",\"metrics\" => Dict{String,Any}(\"complexity\" => 4.0,\"centrality\" => 0,\"blocking factor\" => 0,\"delay factor\" => 4.0),\"nameSub\" => \"ADVS 3000\",\"id\" => 29,\"credits\" => 3,\"nameCanonical\" => \"\"), Dict(\"curriculum_requisites\" => Dict{String,Any}[],\"name\" => \" \",\"metrics\" => Dict{String,Any}(\"complexity\" => 1.0,\"centrality\" => 0,\"blocking factor\" => 0,\"delay factor\" => 1.0),\"nameSub\" => \"ADVS 3100\",\"id\" => 30,\"credits\" => 3,\"nameCanonical\" => \"\"), Dict(\"curriculum_requisites\" => Dict{String,Any}[],\"name\" => \" \",\"metrics\" => Dict{String,Any}(\"complexity\" => 1.0,\"centrality\" => 0,\"blocking factor\" => 0,\"delay factor\" => 1.0),\"nameSub\" => \"ASTE 2830\",\"id\" => 31,\"credits\" => 3,\"nameCanonical\" => \"\"), Dict(\"curriculum_requisites\" => Dict{String,Any}[],\"name\" => \" \",\"metrics\" => Dict{String,Any}(\"complexity\" => 1.0,\"centrality\" => 0,\"blocking factor\" => 0,\"delay factor\" => 1.0),\"nameSub\" => \"Elective 3\",\"id\" => 32,\"credits\" => 3,\"nameCanonical\" => \"\"), Dict(\"curriculum_requisites\" => Dict{String,Any}[],\"name\" => \" \",\"metrics\" => Dict{String,Any}(\"complexity\" => 1.0,\"centrality\" => 0,\"blocking factor\" => 0,\"delay factor\" => 1.0),\"nameSub\" => \"Elective 4\",\"id\" => 33,\"credits\" => 3,\"nameCanonical\" => \"\")],\"id\" => 6), Dict(\"name\" => \"Term 7\",\"curriculum_items\" => Dict{String,Any}[Dict(\"curriculum_requisites\" => Dict{String,Any}[Dict(\"source_id\" => 19,\"target_id\" => 34,\"type\" => \"CurriculumPrerequisite\")],\"name\" => \" \",\"metrics\" => Dict{String,Any}(\"complexity\" => 4.0,\"centrality\" => 0,\"blocking factor\" => 0,\"delay factor\" => 4.0),\"nameSub\" => \"ADVS 4200\",\"id\" => 34,\"credits\" => 4,\"nameCanonical\" => \"\"), Dict(\"curriculum_requisites\" => Dict{String,Any}[],\"name\" => \" \",\"metrics\" => Dict{String,Any}(\"complexity\" => 1.0,\"centrality\" => 0,\"blocking factor\" => 0,\"delay factor\" => 1.0),\"nameSub\" => \"ADVS 4270\",\"id\" => 35,\"credits\" => 4,\"nameCanonical\" => \"\"), Dict(\"curriculum_requisites\" => Dict{String,Any}[Dict(\"source_id\" => 9,\"target_id\" => 36,\"type\" => \"CurriculumPrerequisite\")],\"name\" => \" \",\"metrics\" => Dict{String,Any}(\"complexity\" => 3.0,\"centrality\" => 0,\"blocking factor\" => 0,\"delay factor\" => 3.0),\"nameSub\" => \"ADVS 4560\",\"id\" => 36,\"credits\" => 3,\"nameCanonical\" => \"\"), Dict(\"curriculum_requisites\" => Dict{String,Any}[],\"name\" => \" \",\"metrics\" => Dict{String,Any}(\"complexity\" => 1.0,\"centrality\" => 0,\"blocking factor\" => 0,\"delay factor\" => 1.0),\"nameSub\" => \"ADVS 4920\",\"id\" => 37,\"credits\" => 2,\"nameCanonical\" => \"\"), Dict(\"curriculum_requisites\" => Dict{String,Any}[],\"name\" => \" \",\"metrics\" => Dict{String,Any}(\"complexity\" => 1.0,\"centrality\" => 0,\"blocking factor\" => 0,\"delay factor\" => 1.0),\"nameSub\" => \"ADVS 5190\",\"id\" => 38,\"credits\" => 3,\"nameCanonical\" => \"\")],\"id\" => 7), Dict(\"name\" => \"Term 8\",\"curriculum_items\" => Dict{String,Any}[Dict(\"curriculum_requisites\" => Dict{String,Any}[],\"name\" => \" \",\"metrics\" => Dict{String,Any}(\"complexity\" => 1.0,\"centrality\" => 0,\"blocking factor\" => 0,\"delay factor\" => 1.0),\"nameSub\" => \"APEC 3010\",\"id\" => 39,\"credits\" => 3,\"nameCanonical\" => \"\"), Dict(\"curriculum_requisites\" => Dict{String,Any}[],\"name\" => \" \",\"metrics\" => Dict{String,Any}(\"complexity\" => 1.0,\"centrality\" => 0,\"blocking factor\" => 0,\"delay factor\" => 1.0),\"nameSub\" => \"MGT 3500\",\"id\" => 40,\"credits\" => 3,\"nameCanonical\" => \"\"), Dict(\"curriculum_requisites\" => Dict{String,Any}[],\"name\" => \" \",\"metrics\" => Dict{String,Any}(\"complexity\" => 1.0,\"centrality\" => 0,\"blocking factor\" => 0,\"delay factor\" => 1.0),\"nameSub\" => \"MGT 3110\",\"id\" => 41,\"credits\" => 3,\"nameCanonical\" => \"\"), Dict(\"curriculum_requisites\" => Dict{String,Any}[],\"name\" => \" \",\"metrics\" => Dict{String,Any}(\"complexity\" => 1.0,\"centrality\" => 0,\"blocking factor\" => 0,\"delay factor\" => 1.0),\"nameSub\" => \"ENGL 3040\",\"id\" => 42,\"credits\" => 3,\"nameCanonical\" => \"\"), Dict(\"curriculum_requisites\" => Dict{String,Any}[],\"name\" => \" \",\"metrics\" => Dict{String,Any}(\"complexity\" => 1.0,\"centrality\" => 0,\"blocking factor\" => 0,\"delay factor\" => 1.0),\"nameSub\" => \"Elective 5\",\"id\" => 43,\"credits\" => 3,\"nameCanonical\" => \"\")],\"id\" => 8)],\"institution\" => \"Utah State University\")), nothing)), Set{String}(), nothing, WebIO.Asset[], Dict{Any,Any}(), WebIO.ConnectionPool(Channel{Any}(sz_max:32,sz_curr:0), Set{WebIO.AbstractConnection}(), Base.GenericCondition{Base.AlwaysLockedST}(Base.InvasiveLinkedList{Task}(Task (runnable) @0x00000001201f2410, Task (runnable) @0x00000001201f2410), Base.AlwaysLockedST(1))), WebIO.JSString[])"
      ]
     },
     "execution_count": 10,
     "metadata": {
      "application/vnd.webio.node+json": {
       "kernelId": null
      }
     },
     "output_type": "execute_result"
    }
   ],
   "source": [
    "dp = schools_plans[\"utah-state\"][\"animal-science-equine\"]\n",
    "visualize(dp, notebook=true)"
   ]
  },
  {
   "cell_type": "markdown",
   "metadata": {},
   "source": [
    "Similarly, below are the mechanical engineering programs in the cluster having maximal and minimal curricular complexity.  It would also be interesting to compare the learning outcomes and student success rates of these two programs.  Note: Given that both are ABET accredited programs, they should have the same learning outcomes."
   ]
  },
  {
   "cell_type": "code",
   "execution_count": 11,
   "metadata": {
    "scrolled": false
   },
   "outputs": [
    {
     "data": {
      "application/vnd.webio.node+json": {
       "children": [
        {
         "children": [
          ""
         ],
         "instanceArgs": {
          "namespace": "html",
          "tag": "iframe"
         },
         "nodeType": "DOM",
         "props": {
          "events": {
           "load": "(function (){this.contentWindow.postMessage({\"options\":{\"hideTerms\":false,\"edit\":false},\"curriculum\":{\"name\":\"Mechanical Engineering\",\"dp_name\":\"4-Year Plan\",\"curriculum_terms\":[{\"name\":\"Term 1\",\"curriculum_items\":[{\"curriculum_requisites\":[],\"name\":\" \",\"metrics\":{\"complexity\":5.0,\"centrality\":0,\"blocking factor\":2,\"delay factor\":3.0},\"nameSub\":\"CHEM 111\",\"id\":1,\"credits\":4,\"nameCanonical\":\"\"},{\"curriculum_requisites\":[],\"name\":\" \",\"metrics\":{\"complexity\":5.0,\"centrality\":0,\"blocking factor\":2,\"delay factor\":3.0},\"nameSub\":\"CHEM 112\",\"id\":2,\"credits\":1,\"nameCanonical\":\"\"},{\"curriculum_requisites\":[],\"name\":\" \",\"metrics\":{\"complexity\":1.0,\"centrality\":0,\"blocking factor\":0,\"delay factor\":1.0},\"nameSub\":\"CO 150\",\"id\":3,\"credits\":3,\"nameCanonical\":\"\"},{\"curriculum_requisites\":[],\"name\":\" \",\"metrics\":{\"complexity\":33.0,\"centrality\":0,\"blocking factor\":26,\"delay factor\":7.0},\"nameSub\":\"MATH 160\",\"id\":4,\"credits\":4,\"nameCanonical\":\"\"},{\"curriculum_requisites\":[],\"name\":\" \",\"metrics\":{\"complexity\":14.0,\"centrality\":0,\"blocking factor\":9,\"delay factor\":5.0},\"nameSub\":\"MECH 103\",\"id\":5,\"credits\":3,\"nameCanonical\":\"\"}],\"id\":1},{\"name\":\"Term 2\",\"curriculum_items\":[{\"curriculum_requisites\":[{\"source_id\":4,\"target_id\":6,\"type\":\"CurriculumPrerequisite\"}],\"name\":\" \",\"metrics\":{\"complexity\":22.0,\"centrality\":70,\"blocking factor\":15,\"delay factor\":7.0},\"nameSub\":\"MATH 161\",\"id\":6,\"credits\":4,\"nameCanonical\":\"\"},{\"curriculum_requisites\":[{\"source_id\":5,\"target_id\":7,\"type\":\"CurriculumPrerequisite\"},{\"source_id\":8,\"target_id\":7,\"type\":\"CurriculumPrerequisite\"}],\"name\":\" \",\"metrics\":{\"complexity\":14.0,\"centrality\":44,\"blocking factor\":8,\"delay factor\":6.0},\"nameSub\":\"MECH 105\",\"id\":7,\"credits\":3,\"nameCanonical\":\"\"},{\"curriculum_requisites\":[{\"source_id\":4,\"target_id\":8,\"type\":\"CurriculumPrerequisite\"}],\"name\":\" \",\"metrics\":{\"complexity\":28.0,\"centrality\":81,\"blocking factor\":22,\"delay factor\":6.0},\"nameSub\":\"PH 141\",\"id\":8,\"credits\":5,\"nameCanonical\":\"\"},{\"curriculum_requisites\":[],\"name\":\" \",\"metrics\":{\"complexity\":1.0,\"centrality\":0,\"blocking factor\":0,\"delay factor\":1.0},\"nameSub\":\"AUCC 3B\",\"id\":9,\"credits\":6,\"nameCanonical\":\"\"}],\"id\":2},{\"name\":\"Term 3\",\"curriculum_items\":[{\"curriculum_requisites\":[{\"source_id\":8,\"target_id\":10,\"type\":\"CurriculumPrerequisite\"}],\"name\":\" \",\"metrics\":{\"complexity\":13.0,\"centrality\":22,\"blocking factor\":7,\"delay factor\":6.0},\"nameSub\":\"CIVE 260\",\"id\":10,\"credits\":3,\"nameCanonical\":\"\"},{\"curriculum_requisites\":[{\"source_id\":6,\"target_id\":11,\"type\":\"CurriculumPrerequisite\"}],\"name\":\" \",\"metrics\":{\"complexity\":17.0,\"centrality\":52,\"blocking factor\":10,\"delay factor\":7.0},\"nameSub\":\"MATH 261\",\"id\":11,\"credits\":4,\"nameCanonical\":\"\"},{\"curriculum_requisites\":[{\"source_id\":7,\"target_id\":12,\"type\":\"CurriculumPrerequisite\"}],\"name\":\" \",\"metrics\":{\"complexity\":8.0,\"centrality\":11,\"blocking factor\":2,\"delay factor\":6.0},\"nameSub\":\"MECH 200\",\"id\":12,\"credits\":3,\"nameCanonical\":\"\"},{\"curriculum_requisites\":[{\"source_id\":7,\"target_id\":13,\"type\":\"CurriculumPrerequisite\"}],\"name\":\" \",\"metrics\":{\"complexity\":8.0,\"centrality\":11,\"blocking factor\":2,\"delay factor\":6.0},\"nameSub\":\"MECH 201\",\"id\":13,\"credits\":2,\"nameCanonical\":\"\"},{\"curriculum_requisites\":[{\"source_id\":8,\"target_id\":14,\"type\":\"CurriculumPrerequisite\"},{\"source_id\":6,\"target_id\":14,\"type\":\"CurriculumPrerequisite\"}],\"name\":\" \",\"metrics\":{\"complexity\":11.0,\"centrality\":36,\"blocking factor\":5,\"delay factor\":6.0},\"nameSub\":\"PH 142\",\"id\":14,\"credits\":5,\"nameCanonical\":\"\"}],\"id\":3},{\"name\":\"Term 4\",\"curriculum_items\":[{\"curriculum_requisites\":[{\"source_id\":10,\"target_id\":15,\"type\":\"CurriculumPrerequisite\"}],\"name\":\" \",\"metrics\":{\"complexity\":9.0,\"centrality\":12,\"blocking factor\":3,\"delay factor\":6.0},\"nameSub\":\"CIVE 261\",\"id\":15,\"credits\":3,\"nameCanonical\":\"\"},{\"curriculum_requisites\":[{\"source_id\":14,\"target_id\":16,\"type\":\"CurriculumPrerequisite\"}],\"name\":\" \",\"metrics\":{\"complexity\":8.0,\"centrality\":12,\"blocking factor\":2,\"delay factor\":6.0},\"nameSub\":\"ECE 204\",\"id\":16,\"credits\":3,\"nameCanonical\":\"\"},{\"curriculum_requisites\":[{\"source_id\":11,\"target_id\":17,\"type\":\"CurriculumPrerequisite\"}],\"name\":\" \",\"metrics\":{\"complexity\":15.0,\"centrality\":32,\"blocking factor\":8,\"delay factor\":7.0},\"nameSub\":\"MATH 340\",\"id\":17,\"credits\":4,\"nameCanonical\":\"\"},{\"curriculum_requisites\":[{\"source_id\":13,\"target_id\":18,\"type\":\"CurriculumPrerequisite\"},{\"source_id\":12,\"target_id\":18,\"type\":\"CurriculumPrerequisite\"}],\"name\":\" \",\"metrics\":{\"complexity\":7.0,\"centrality\":22,\"blocking factor\":1,\"delay factor\":6.0},\"nameSub\":\"MECH 202\",\"id\":18,\"credits\":3,\"nameCanonical\":\"\"},{\"curriculum_requisites\":[{\"source_id\":7,\"target_id\":19,\"type\":\"CurriculumPrerequisite\"},{\"source_id\":14,\"target_id\":19,\"type\":\"CurriculumPrerequisite\"}],\"name\":\" \",\"metrics\":{\"complexity\":9.0,\"centrality\":46,\"blocking factor\":3,\"delay factor\":6.0},\"nameSub\":\"MECH 231\",\"id\":19,\"credits\":3,\"nameCanonical\":\"\"},{\"curriculum_requisites\":[{\"source_id\":11,\"target_id\":20,\"type\":\"CurriculumPrerequisite\"},{\"source_id\":8,\"target_id\":20,\"type\":\"CurriculumPrerequisite\"}],\"name\":\" \",\"metrics\":{\"complexity\":12.0,\"centrality\":37,\"blocking factor\":5,\"delay factor\":7.0},\"nameSub\":\"MECH 337\",\"id\":20,\"credits\":4,\"nameCanonical\":\"\"}],\"id\":4},{\"name\":\"Term 5\",\"curriculum_items\":[{\"curriculum_requisites\":[{\"source_id\":10,\"target_id\":21,\"type\":\"CurriculumPrerequisite\"}],\"name\":\" \",\"metrics\":{\"complexity\":7.0,\"centrality\":10,\"blocking factor\":2,\"delay factor\":5.0},\"nameSub\":\"CIVE 360\",\"id\":21,\"credits\":3,\"nameCanonical\":\"\"},{\"curriculum_requisites\":[{\"source_id\":16,\"target_id\":22,\"type\":\"CurriculumPrerequisite\"},{\"source_id\":17,\"target_id\":22,\"type\":\"CurriculumPrerequisite\"},{\"source_id\":19,\"target_id\":22,\"type\":\"CurriculumPrerequisite\"},{\"source_id\":15,\"target_id\":22,\"type\":\"CurriculumPrerequisite\"}],\"name\":\" \",\"metrics\":{\"complexity\":7.0,\"centrality\":47,\"blocking factor\":1,\"delay factor\":6.0},\"nameSub\":\"MECH 307\",\"id\":22,\"credits\":4,\"nameCanonical\":\"\"},{\"curriculum_requisites\":[{\"source_id\":17,\"target_id\":23,\"type\":\"CurriculumPrerequisite\"},{\"source_id\":15,\"target_id\":23,\"type\":\"CurriculumPrerequisite\"}],\"name\":\" \",\"metrics\":{\"complexity\":7.0,\"centrality\":12,\"blocking factor\":1,\"delay factor\":6.0},\"nameSub\":\"MECH 324\",\"id\":23,\"credits\":4,\"nameCanonical\":\"\"},{\"curriculum_requisites\":[{\"source_id\":17,\"target_id\":24,\"type\":\"CurriculumPrerequisite\"},{\"source_id\":20,\"target_id\":24,\"type\":\"CurriculumPrerequisite\"}],\"name\":\" \",\"metrics\":{\"complexity\":11.0,\"centrality\":57,\"blocking factor\":4,\"delay factor\":7.0},\"nameSub\":\"MECH 342\",\"id\":24,\"credits\":3,\"nameCanonical\":\"\"}],\"id\":5},{\"name\":\"Term 6\",\"curriculum_items\":[{\"curriculum_requisites\":[{\"source_id\":21,\"target_id\":25,\"type\":\"CurriculumPrerequisite\"},{\"source_id\":18,\"target_id\":25,\"type\":\"CurriculumPrerequisite\"}],\"name\":\" \",\"metrics\":{\"complexity\":6.0,\"centrality\":0,\"blocking factor\":0,\"delay factor\":6.0},\"nameSub\":\"MECH 301\",\"id\":25,\"credits\":2,\"nameCanonical\":\"\"},{\"curriculum_requisites\":[{\"source_id\":21,\"target_id\":26,\"type\":\"CurriculumPrerequisite\"}],\"name\":\" \",\"metrics\":{\"complexity\":5.0,\"centrality\":0,\"blocking factor\":0,\"delay factor\":5.0},\"nameSub\":\"MECH 325\",\"id\":26,\"credits\":3,\"nameCanonical\":\"\"},{\"curriculum_requisites\":[{\"source_id\":2,\"target_id\":27,\"type\":\"CurriculumPrerequisite\"},{\"source_id\":19,\"target_id\":27,\"type\":\"CurriculumPrerequisite\"},{\"source_id\":1,\"target_id\":27,\"type\":\"CurriculumPrerequisite\"}],\"name\":\" \",\"metrics\":{\"complexity\":7.0,\"centrality\":29,\"blocking factor\":1,\"delay factor\":6.0},\"nameSub\":\"MECH 331\",\"id\":27,\"credits\":4,\"nameCanonical\":\"\"},{\"curriculum_requisites\":[{\"source_id\":24,\"target_id\":28,\"type\":\"CurriculumPrerequisite\"}],\"name\":\" \",\"metrics\":{\"complexity\":9.0,\"centrality\":40,\"blocking factor\":2,\"delay factor\":7.0},\"nameSub\":\"MECH 338\",\"id\":28,\"credits\":1,\"nameCanonical\":\"\"},{\"curriculum_requisites\":[{\"source_id\":24,\"target_id\":29,\"type\":\"CurriculumPrerequisite\"}],\"name\":\" \",\"metrics\":{\"complexity\":6.0,\"centrality\":0,\"blocking factor\":0,\"delay factor\":6.0},\"nameSub\":\"MECH 344\",\"id\":29,\"credits\":3,\"nameCanonical\":\"\"}],\"id\":6},{\"name\":\"Term 7\",\"curriculum_items\":[{\"curriculum_requisites\":[{\"source_id\":23,\"target_id\":30,\"type\":\"CurriculumPrerequisite\"},{\"source_id\":27,\"target_id\":30,\"type\":\"CurriculumPrerequisite\"},{\"source_id\":22,\"target_id\":30,\"type\":\"CurriculumPrerequisite\"}],\"name\":\" \",\"metrics\":{\"complexity\":6.0,\"centrality\":0,\"blocking factor\":0,\"delay factor\":6.0},\"nameSub\":\"MECH 402\",\"id\":30,\"credits\":3,\"nameCanonical\":\"\"},{\"curriculum_requisites\":[],\"name\":\" \",\"metrics\":{\"complexity\":1.0,\"centrality\":0,\"blocking factor\":0,\"delay factor\":1.0},\"nameSub\":\"ELECTIVE 1\",\"id\":31,\"credits\":4,\"nameCanonical\":\"\"},{\"curriculum_requisites\":[],\"name\":\" \",\"metrics\":{\"complexity\":1.0,\"centrality\":0,\"blocking factor\":0,\"delay factor\":1.0},\"nameSub\":\"AUCC 3E\",\"id\":32,\"credits\":3,\"nameCanonical\":\"\"},{\"curriculum_requisites\":[],\"name\":\" \",\"metrics\":{\"complexity\":1.0,\"centrality\":0,\"blocking factor\":0,\"delay factor\":1.0},\"nameSub\":\"AUCC 3C\",\"id\":33,\"credits\":3,\"nameCanonical\":\"\"},{\"curriculum_requisites\":[],\"name\":\" \",\"metrics\":{\"complexity\":1.0,\"centrality\":0,\"blocking factor\":0,\"delay factor\":1.0},\"nameSub\":\"TECH ELECTIVE\",\"id\":34,\"credits\":3,\"nameCanonical\":\"\"}],\"id\":7},{\"name\":\"Term 8\",\"curriculum_items\":[{\"curriculum_requisites\":[{\"source_id\":28,\"target_id\":35,\"type\":\"CurriculumPrerequisite\"}],\"name\":\" \",\"metrics\":{\"complexity\":7.0,\"centrality\":0,\"blocking factor\":0,\"delay factor\":7.0},\"nameSub\":\"MECH 486B\",\"id\":35,\"credits\":4,\"nameCanonical\":\"\"},{\"curriculum_requisites\":[{\"source_id\":28,\"target_id\":36,\"type\":\"CurriculumPrerequisite\"}],\"name\":\" \",\"metrics\":{\"complexity\":7.0,\"centrality\":0,\"blocking factor\":0,\"delay factor\":7.0},\"nameSub\":\"MECH 498B\",\"id\":36,\"credits\":3,\"nameCanonical\":\"\"},{\"curriculum_requisites\":[],\"name\":\" \",\"metrics\":{\"complexity\":1.0,\"centrality\":0,\"blocking factor\":0,\"delay factor\":1.0},\"nameSub\":\"AUCC 3D\",\"id\":37,\"credits\":3,\"nameCanonical\":\"\"},{\"curriculum_requisites\":[],\"name\":\" \",\"metrics\":{\"complexity\":1.0,\"centrality\":0,\"blocking factor\":0,\"delay factor\":1.0},\"nameSub\":\"TECH ELECTIVE\",\"id\":38,\"credits\":3,\"nameCanonical\":\"\"},{\"curriculum_requisites\":[],\"name\":\" \",\"metrics\":{\"complexity\":1.0,\"centrality\":0,\"blocking factor\":0,\"delay factor\":1.0},\"nameSub\":\"TECH ELECTIVE\",\"id\":39,\"credits\":3,\"nameCanonical\":\"\"}],\"id\":8}],\"institution\":\"Colorado State University\"}},\"*\"); window.removeEventListener(\"message\",window.messageReceived); window.messageReceived=(function (event){return (event.data.curriculum!==undefined) ? (WebIO.setval({\"name\":\"curriculum-data\",\"scope\":\"8773462466384873277\",\"id\":\"10594152006794071\",\"type\":\"observable\"},event.data.curriculum)) : undefined}); return window.addEventListener(\"message\",window.messageReceived)})"
          },
          "id": "curriculum",
          "src": "http://localhost:8156",
          "style": {
           "border": "none",
           "height": "100vh",
           "margin": "0",
           "padding": "0",
           "width": "100%"
          }
         },
         "type": "node"
        }
       ],
       "instanceArgs": {
        "handlers": {},
        "id": "8773462466384873277",
        "imports": {
         "data": [],
         "type": "async_block"
        },
        "mount_callbacks": [],
        "observables": {
         "curriculum-data": {
          "id": "10594152006794071",
          "sync": true,
          "value": {
           "curriculum": {
            "curriculum_terms": [
             {
              "curriculum_items": [
               {
                "credits": 4,
                "curriculum_requisites": [],
                "id": 1,
                "metrics": {
                 "blocking factor": 2,
                 "centrality": 0,
                 "complexity": 5,
                 "delay factor": 3
                },
                "name": " ",
                "nameCanonical": "",
                "nameSub": "CHEM 111"
               },
               {
                "credits": 1,
                "curriculum_requisites": [],
                "id": 2,
                "metrics": {
                 "blocking factor": 2,
                 "centrality": 0,
                 "complexity": 5,
                 "delay factor": 3
                },
                "name": " ",
                "nameCanonical": "",
                "nameSub": "CHEM 112"
               },
               {
                "credits": 3,
                "curriculum_requisites": [],
                "id": 3,
                "metrics": {
                 "blocking factor": 0,
                 "centrality": 0,
                 "complexity": 1,
                 "delay factor": 1
                },
                "name": " ",
                "nameCanonical": "",
                "nameSub": "CO 150"
               },
               {
                "credits": 4,
                "curriculum_requisites": [],
                "id": 4,
                "metrics": {
                 "blocking factor": 26,
                 "centrality": 0,
                 "complexity": 33,
                 "delay factor": 7
                },
                "name": " ",
                "nameCanonical": "",
                "nameSub": "MATH 160"
               },
               {
                "credits": 3,
                "curriculum_requisites": [],
                "id": 5,
                "metrics": {
                 "blocking factor": 9,
                 "centrality": 0,
                 "complexity": 14,
                 "delay factor": 5
                },
                "name": " ",
                "nameCanonical": "",
                "nameSub": "MECH 103"
               }
              ],
              "id": 1,
              "name": "Term 1"
             },
             {
              "curriculum_items": [
               {
                "credits": 4,
                "curriculum_requisites": [
                 {
                  "source_id": 4,
                  "target_id": 6,
                  "type": "CurriculumPrerequisite"
                 }
                ],
                "id": 6,
                "metrics": {
                 "blocking factor": 15,
                 "centrality": 70,
                 "complexity": 22,
                 "delay factor": 7
                },
                "name": " ",
                "nameCanonical": "",
                "nameSub": "MATH 161"
               },
               {
                "credits": 3,
                "curriculum_requisites": [
                 {
                  "source_id": 5,
                  "target_id": 7,
                  "type": "CurriculumPrerequisite"
                 },
                 {
                  "source_id": 8,
                  "target_id": 7,
                  "type": "CurriculumPrerequisite"
                 }
                ],
                "id": 7,
                "metrics": {
                 "blocking factor": 8,
                 "centrality": 44,
                 "complexity": 14,
                 "delay factor": 6
                },
                "name": " ",
                "nameCanonical": "",
                "nameSub": "MECH 105"
               },
               {
                "credits": 5,
                "curriculum_requisites": [
                 {
                  "source_id": 4,
                  "target_id": 8,
                  "type": "CurriculumPrerequisite"
                 }
                ],
                "id": 8,
                "metrics": {
                 "blocking factor": 22,
                 "centrality": 81,
                 "complexity": 28,
                 "delay factor": 6
                },
                "name": " ",
                "nameCanonical": "",
                "nameSub": "PH 141"
               },
               {
                "credits": 6,
                "curriculum_requisites": [],
                "id": 9,
                "metrics": {
                 "blocking factor": 0,
                 "centrality": 0,
                 "complexity": 1,
                 "delay factor": 1
                },
                "name": " ",
                "nameCanonical": "",
                "nameSub": "AUCC 3B"
               }
              ],
              "id": 2,
              "name": "Term 2"
             },
             {
              "curriculum_items": [
               {
                "credits": 3,
                "curriculum_requisites": [
                 {
                  "source_id": 8,
                  "target_id": 10,
                  "type": "CurriculumPrerequisite"
                 }
                ],
                "id": 10,
                "metrics": {
                 "blocking factor": 7,
                 "centrality": 22,
                 "complexity": 13,
                 "delay factor": 6
                },
                "name": " ",
                "nameCanonical": "",
                "nameSub": "CIVE 260"
               },
               {
                "credits": 4,
                "curriculum_requisites": [
                 {
                  "source_id": 6,
                  "target_id": 11,
                  "type": "CurriculumPrerequisite"
                 }
                ],
                "id": 11,
                "metrics": {
                 "blocking factor": 10,
                 "centrality": 52,
                 "complexity": 17,
                 "delay factor": 7
                },
                "name": " ",
                "nameCanonical": "",
                "nameSub": "MATH 261"
               },
               {
                "credits": 3,
                "curriculum_requisites": [
                 {
                  "source_id": 7,
                  "target_id": 12,
                  "type": "CurriculumPrerequisite"
                 }
                ],
                "id": 12,
                "metrics": {
                 "blocking factor": 2,
                 "centrality": 11,
                 "complexity": 8,
                 "delay factor": 6
                },
                "name": " ",
                "nameCanonical": "",
                "nameSub": "MECH 200"
               },
               {
                "credits": 2,
                "curriculum_requisites": [
                 {
                  "source_id": 7,
                  "target_id": 13,
                  "type": "CurriculumPrerequisite"
                 }
                ],
                "id": 13,
                "metrics": {
                 "blocking factor": 2,
                 "centrality": 11,
                 "complexity": 8,
                 "delay factor": 6
                },
                "name": " ",
                "nameCanonical": "",
                "nameSub": "MECH 201"
               },
               {
                "credits": 5,
                "curriculum_requisites": [
                 {
                  "source_id": 8,
                  "target_id": 14,
                  "type": "CurriculumPrerequisite"
                 },
                 {
                  "source_id": 6,
                  "target_id": 14,
                  "type": "CurriculumPrerequisite"
                 }
                ],
                "id": 14,
                "metrics": {
                 "blocking factor": 5,
                 "centrality": 36,
                 "complexity": 11,
                 "delay factor": 6
                },
                "name": " ",
                "nameCanonical": "",
                "nameSub": "PH 142"
               }
              ],
              "id": 3,
              "name": "Term 3"
             },
             {
              "curriculum_items": [
               {
                "credits": 3,
                "curriculum_requisites": [
                 {
                  "source_id": 10,
                  "target_id": 15,
                  "type": "CurriculumPrerequisite"
                 }
                ],
                "id": 15,
                "metrics": {
                 "blocking factor": 3,
                 "centrality": 12,
                 "complexity": 9,
                 "delay factor": 6
                },
                "name": " ",
                "nameCanonical": "",
                "nameSub": "CIVE 261"
               },
               {
                "credits": 3,
                "curriculum_requisites": [
                 {
                  "source_id": 14,
                  "target_id": 16,
                  "type": "CurriculumPrerequisite"
                 }
                ],
                "id": 16,
                "metrics": {
                 "blocking factor": 2,
                 "centrality": 12,
                 "complexity": 8,
                 "delay factor": 6
                },
                "name": " ",
                "nameCanonical": "",
                "nameSub": "ECE 204"
               },
               {
                "credits": 4,
                "curriculum_requisites": [
                 {
                  "source_id": 11,
                  "target_id": 17,
                  "type": "CurriculumPrerequisite"
                 }
                ],
                "id": 17,
                "metrics": {
                 "blocking factor": 8,
                 "centrality": 32,
                 "complexity": 15,
                 "delay factor": 7
                },
                "name": " ",
                "nameCanonical": "",
                "nameSub": "MATH 340"
               },
               {
                "credits": 3,
                "curriculum_requisites": [
                 {
                  "source_id": 13,
                  "target_id": 18,
                  "type": "CurriculumPrerequisite"
                 },
                 {
                  "source_id": 12,
                  "target_id": 18,
                  "type": "CurriculumPrerequisite"
                 }
                ],
                "id": 18,
                "metrics": {
                 "blocking factor": 1,
                 "centrality": 22,
                 "complexity": 7,
                 "delay factor": 6
                },
                "name": " ",
                "nameCanonical": "",
                "nameSub": "MECH 202"
               },
               {
                "credits": 3,
                "curriculum_requisites": [
                 {
                  "source_id": 7,
                  "target_id": 19,
                  "type": "CurriculumPrerequisite"
                 },
                 {
                  "source_id": 14,
                  "target_id": 19,
                  "type": "CurriculumPrerequisite"
                 }
                ],
                "id": 19,
                "metrics": {
                 "blocking factor": 3,
                 "centrality": 46,
                 "complexity": 9,
                 "delay factor": 6
                },
                "name": " ",
                "nameCanonical": "",
                "nameSub": "MECH 231"
               },
               {
                "credits": 4,
                "curriculum_requisites": [
                 {
                  "source_id": 11,
                  "target_id": 20,
                  "type": "CurriculumPrerequisite"
                 },
                 {
                  "source_id": 8,
                  "target_id": 20,
                  "type": "CurriculumPrerequisite"
                 }
                ],
                "id": 20,
                "metrics": {
                 "blocking factor": 5,
                 "centrality": 37,
                 "complexity": 12,
                 "delay factor": 7
                },
                "name": " ",
                "nameCanonical": "",
                "nameSub": "MECH 337"
               }
              ],
              "id": 4,
              "name": "Term 4"
             },
             {
              "curriculum_items": [
               {
                "credits": 3,
                "curriculum_requisites": [
                 {
                  "source_id": 10,
                  "target_id": 21,
                  "type": "CurriculumPrerequisite"
                 }
                ],
                "id": 21,
                "metrics": {
                 "blocking factor": 2,
                 "centrality": 10,
                 "complexity": 7,
                 "delay factor": 5
                },
                "name": " ",
                "nameCanonical": "",
                "nameSub": "CIVE 360"
               },
               {
                "credits": 4,
                "curriculum_requisites": [
                 {
                  "source_id": 16,
                  "target_id": 22,
                  "type": "CurriculumPrerequisite"
                 },
                 {
                  "source_id": 17,
                  "target_id": 22,
                  "type": "CurriculumPrerequisite"
                 },
                 {
                  "source_id": 19,
                  "target_id": 22,
                  "type": "CurriculumPrerequisite"
                 },
                 {
                  "source_id": 15,
                  "target_id": 22,
                  "type": "CurriculumPrerequisite"
                 }
                ],
                "id": 22,
                "metrics": {
                 "blocking factor": 1,
                 "centrality": 47,
                 "complexity": 7,
                 "delay factor": 6
                },
                "name": " ",
                "nameCanonical": "",
                "nameSub": "MECH 307"
               },
               {
                "credits": 4,
                "curriculum_requisites": [
                 {
                  "source_id": 17,
                  "target_id": 23,
                  "type": "CurriculumPrerequisite"
                 },
                 {
                  "source_id": 15,
                  "target_id": 23,
                  "type": "CurriculumPrerequisite"
                 }
                ],
                "id": 23,
                "metrics": {
                 "blocking factor": 1,
                 "centrality": 12,
                 "complexity": 7,
                 "delay factor": 6
                },
                "name": " ",
                "nameCanonical": "",
                "nameSub": "MECH 324"
               },
               {
                "credits": 3,
                "curriculum_requisites": [
                 {
                  "source_id": 17,
                  "target_id": 24,
                  "type": "CurriculumPrerequisite"
                 },
                 {
                  "source_id": 20,
                  "target_id": 24,
                  "type": "CurriculumPrerequisite"
                 }
                ],
                "id": 24,
                "metrics": {
                 "blocking factor": 4,
                 "centrality": 57,
                 "complexity": 11,
                 "delay factor": 7
                },
                "name": " ",
                "nameCanonical": "",
                "nameSub": "MECH 342"
               }
              ],
              "id": 5,
              "name": "Term 5"
             },
             {
              "curriculum_items": [
               {
                "credits": 2,
                "curriculum_requisites": [
                 {
                  "source_id": 21,
                  "target_id": 25,
                  "type": "CurriculumPrerequisite"
                 },
                 {
                  "source_id": 18,
                  "target_id": 25,
                  "type": "CurriculumPrerequisite"
                 }
                ],
                "id": 25,
                "metrics": {
                 "blocking factor": 0,
                 "centrality": 0,
                 "complexity": 6,
                 "delay factor": 6
                },
                "name": " ",
                "nameCanonical": "",
                "nameSub": "MECH 301"
               },
               {
                "credits": 3,
                "curriculum_requisites": [
                 {
                  "source_id": 21,
                  "target_id": 26,
                  "type": "CurriculumPrerequisite"
                 }
                ],
                "id": 26,
                "metrics": {
                 "blocking factor": 0,
                 "centrality": 0,
                 "complexity": 5,
                 "delay factor": 5
                },
                "name": " ",
                "nameCanonical": "",
                "nameSub": "MECH 325"
               },
               {
                "credits": 4,
                "curriculum_requisites": [
                 {
                  "source_id": 2,
                  "target_id": 27,
                  "type": "CurriculumPrerequisite"
                 },
                 {
                  "source_id": 19,
                  "target_id": 27,
                  "type": "CurriculumPrerequisite"
                 },
                 {
                  "source_id": 1,
                  "target_id": 27,
                  "type": "CurriculumPrerequisite"
                 }
                ],
                "id": 27,
                "metrics": {
                 "blocking factor": 1,
                 "centrality": 29,
                 "complexity": 7,
                 "delay factor": 6
                },
                "name": " ",
                "nameCanonical": "",
                "nameSub": "MECH 331"
               },
               {
                "credits": 1,
                "curriculum_requisites": [
                 {
                  "source_id": 24,
                  "target_id": 28,
                  "type": "CurriculumPrerequisite"
                 }
                ],
                "id": 28,
                "metrics": {
                 "blocking factor": 2,
                 "centrality": 40,
                 "complexity": 9,
                 "delay factor": 7
                },
                "name": " ",
                "nameCanonical": "",
                "nameSub": "MECH 338"
               },
               {
                "credits": 3,
                "curriculum_requisites": [
                 {
                  "source_id": 24,
                  "target_id": 29,
                  "type": "CurriculumPrerequisite"
                 }
                ],
                "id": 29,
                "metrics": {
                 "blocking factor": 0,
                 "centrality": 0,
                 "complexity": 6,
                 "delay factor": 6
                },
                "name": " ",
                "nameCanonical": "",
                "nameSub": "MECH 344"
               }
              ],
              "id": 6,
              "name": "Term 6"
             },
             {
              "curriculum_items": [
               {
                "credits": 3,
                "curriculum_requisites": [
                 {
                  "source_id": 23,
                  "target_id": 30,
                  "type": "CurriculumPrerequisite"
                 },
                 {
                  "source_id": 27,
                  "target_id": 30,
                  "type": "CurriculumPrerequisite"
                 },
                 {
                  "source_id": 22,
                  "target_id": 30,
                  "type": "CurriculumPrerequisite"
                 }
                ],
                "id": 30,
                "metrics": {
                 "blocking factor": 0,
                 "centrality": 0,
                 "complexity": 6,
                 "delay factor": 6
                },
                "name": " ",
                "nameCanonical": "",
                "nameSub": "MECH 402"
               },
               {
                "credits": 4,
                "curriculum_requisites": [],
                "id": 31,
                "metrics": {
                 "blocking factor": 0,
                 "centrality": 0,
                 "complexity": 1,
                 "delay factor": 1
                },
                "name": " ",
                "nameCanonical": "",
                "nameSub": "ELECTIVE 1"
               },
               {
                "credits": 3,
                "curriculum_requisites": [],
                "id": 32,
                "metrics": {
                 "blocking factor": 0,
                 "centrality": 0,
                 "complexity": 1,
                 "delay factor": 1
                },
                "name": " ",
                "nameCanonical": "",
                "nameSub": "AUCC 3E"
               },
               {
                "credits": 3,
                "curriculum_requisites": [],
                "id": 33,
                "metrics": {
                 "blocking factor": 0,
                 "centrality": 0,
                 "complexity": 1,
                 "delay factor": 1
                },
                "name": " ",
                "nameCanonical": "",
                "nameSub": "AUCC 3C"
               },
               {
                "credits": 3,
                "curriculum_requisites": [],
                "id": 34,
                "metrics": {
                 "blocking factor": 0,
                 "centrality": 0,
                 "complexity": 1,
                 "delay factor": 1
                },
                "name": " ",
                "nameCanonical": "",
                "nameSub": "TECH ELECTIVE"
               }
              ],
              "id": 7,
              "name": "Term 7"
             },
             {
              "curriculum_items": [
               {
                "credits": 4,
                "curriculum_requisites": [
                 {
                  "source_id": 28,
                  "target_id": 35,
                  "type": "CurriculumPrerequisite"
                 }
                ],
                "id": 35,
                "metrics": {
                 "blocking factor": 0,
                 "centrality": 0,
                 "complexity": 7,
                 "delay factor": 7
                },
                "name": " ",
                "nameCanonical": "",
                "nameSub": "MECH 486B"
               },
               {
                "credits": 3,
                "curriculum_requisites": [
                 {
                  "source_id": 28,
                  "target_id": 36,
                  "type": "CurriculumPrerequisite"
                 }
                ],
                "id": 36,
                "metrics": {
                 "blocking factor": 0,
                 "centrality": 0,
                 "complexity": 7,
                 "delay factor": 7
                },
                "name": " ",
                "nameCanonical": "",
                "nameSub": "MECH 498B"
               },
               {
                "credits": 3,
                "curriculum_requisites": [],
                "id": 37,
                "metrics": {
                 "blocking factor": 0,
                 "centrality": 0,
                 "complexity": 1,
                 "delay factor": 1
                },
                "name": " ",
                "nameCanonical": "",
                "nameSub": "AUCC 3D"
               },
               {
                "credits": 3,
                "curriculum_requisites": [],
                "id": 38,
                "metrics": {
                 "blocking factor": 0,
                 "centrality": 0,
                 "complexity": 1,
                 "delay factor": 1
                },
                "name": " ",
                "nameCanonical": "",
                "nameSub": "TECH ELECTIVE"
               },
               {
                "credits": 3,
                "curriculum_requisites": [],
                "id": 39,
                "metrics": {
                 "blocking factor": 0,
                 "centrality": 0,
                 "complexity": 1,
                 "delay factor": 1
                },
                "name": " ",
                "nameCanonical": "",
                "nameSub": "TECH ELECTIVE"
               }
              ],
              "id": 8,
              "name": "Term 8"
             }
            ],
            "dp_name": "4-Year Plan",
            "institution": "Colorado State University",
            "name": "Mechanical Engineering"
           },
           "options": {
            "edit": false,
            "hideTerms": false
           }
          }
         }
        },
        "systemjs_options": null
       },
       "nodeType": "Scope",
       "props": {},
       "type": "node"
      },
      "text/html": [
       "<div\n",
       "    class=\"webio-mountpoint\"\n",
       "    data-webio-mountpoint=\"1258077935037914994\"\n",
       ">\n",
       "    <script>\n",
       "    if (window.require && require.defined && require.defined(\"nbextensions/webio-jupyter-notebook\")) {\n",
       "        console.log(\"Jupyter WebIO extension detected, not mounting.\");\n",
       "    } else if (window.WebIO) {\n",
       "        WebIO.mount(\n",
       "            document.querySelector('[data-webio-mountpoint=\"1258077935037914994\"]'),\n",
       "            {\"props\":{},\"nodeType\":\"Scope\",\"type\":\"node\",\"instanceArgs\":{\"imports\":{\"data\":[],\"type\":\"async_block\"},\"id\":\"8773462466384873277\",\"handlers\":{},\"systemjs_options\":null,\"mount_callbacks\":[],\"observables\":{\"curriculum-data\":{\"sync\":true,\"id\":\"10594152006794071\",\"value\":{\"options\":{\"hideTerms\":false,\"edit\":false},\"curriculum\":{\"name\":\"Mechanical Engineering\",\"dp_name\":\"4-Year Plan\",\"curriculum_terms\":[{\"name\":\"Term 1\",\"curriculum_items\":[{\"curriculum_requisites\":[],\"name\":\" \",\"metrics\":{\"complexity\":5.0,\"centrality\":0,\"blocking factor\":2,\"delay factor\":3.0},\"nameSub\":\"CHEM 111\",\"id\":1,\"credits\":4,\"nameCanonical\":\"\"},{\"curriculum_requisites\":[],\"name\":\" \",\"metrics\":{\"complexity\":5.0,\"centrality\":0,\"blocking factor\":2,\"delay factor\":3.0},\"nameSub\":\"CHEM 112\",\"id\":2,\"credits\":1,\"nameCanonical\":\"\"},{\"curriculum_requisites\":[],\"name\":\" \",\"metrics\":{\"complexity\":1.0,\"centrality\":0,\"blocking factor\":0,\"delay factor\":1.0},\"nameSub\":\"CO 150\",\"id\":3,\"credits\":3,\"nameCanonical\":\"\"},{\"curriculum_requisites\":[],\"name\":\" \",\"metrics\":{\"complexity\":33.0,\"centrality\":0,\"blocking factor\":26,\"delay factor\":7.0},\"nameSub\":\"MATH 160\",\"id\":4,\"credits\":4,\"nameCanonical\":\"\"},{\"curriculum_requisites\":[],\"name\":\" \",\"metrics\":{\"complexity\":14.0,\"centrality\":0,\"blocking factor\":9,\"delay factor\":5.0},\"nameSub\":\"MECH 103\",\"id\":5,\"credits\":3,\"nameCanonical\":\"\"}],\"id\":1},{\"name\":\"Term 2\",\"curriculum_items\":[{\"curriculum_requisites\":[{\"source_id\":4,\"target_id\":6,\"type\":\"CurriculumPrerequisite\"}],\"name\":\" \",\"metrics\":{\"complexity\":22.0,\"centrality\":70,\"blocking factor\":15,\"delay factor\":7.0},\"nameSub\":\"MATH 161\",\"id\":6,\"credits\":4,\"nameCanonical\":\"\"},{\"curriculum_requisites\":[{\"source_id\":5,\"target_id\":7,\"type\":\"CurriculumPrerequisite\"},{\"source_id\":8,\"target_id\":7,\"type\":\"CurriculumPrerequisite\"}],\"name\":\" \",\"metrics\":{\"complexity\":14.0,\"centrality\":44,\"blocking factor\":8,\"delay factor\":6.0},\"nameSub\":\"MECH 105\",\"id\":7,\"credits\":3,\"nameCanonical\":\"\"},{\"curriculum_requisites\":[{\"source_id\":4,\"target_id\":8,\"type\":\"CurriculumPrerequisite\"}],\"name\":\" \",\"metrics\":{\"complexity\":28.0,\"centrality\":81,\"blocking factor\":22,\"delay factor\":6.0},\"nameSub\":\"PH 141\",\"id\":8,\"credits\":5,\"nameCanonical\":\"\"},{\"curriculum_requisites\":[],\"name\":\" \",\"metrics\":{\"complexity\":1.0,\"centrality\":0,\"blocking factor\":0,\"delay factor\":1.0},\"nameSub\":\"AUCC 3B\",\"id\":9,\"credits\":6,\"nameCanonical\":\"\"}],\"id\":2},{\"name\":\"Term 3\",\"curriculum_items\":[{\"curriculum_requisites\":[{\"source_id\":8,\"target_id\":10,\"type\":\"CurriculumPrerequisite\"}],\"name\":\" \",\"metrics\":{\"complexity\":13.0,\"centrality\":22,\"blocking factor\":7,\"delay factor\":6.0},\"nameSub\":\"CIVE 260\",\"id\":10,\"credits\":3,\"nameCanonical\":\"\"},{\"curriculum_requisites\":[{\"source_id\":6,\"target_id\":11,\"type\":\"CurriculumPrerequisite\"}],\"name\":\" \",\"metrics\":{\"complexity\":17.0,\"centrality\":52,\"blocking factor\":10,\"delay factor\":7.0},\"nameSub\":\"MATH 261\",\"id\":11,\"credits\":4,\"nameCanonical\":\"\"},{\"curriculum_requisites\":[{\"source_id\":7,\"target_id\":12,\"type\":\"CurriculumPrerequisite\"}],\"name\":\" \",\"metrics\":{\"complexity\":8.0,\"centrality\":11,\"blocking factor\":2,\"delay factor\":6.0},\"nameSub\":\"MECH 200\",\"id\":12,\"credits\":3,\"nameCanonical\":\"\"},{\"curriculum_requisites\":[{\"source_id\":7,\"target_id\":13,\"type\":\"CurriculumPrerequisite\"}],\"name\":\" \",\"metrics\":{\"complexity\":8.0,\"centrality\":11,\"blocking factor\":2,\"delay factor\":6.0},\"nameSub\":\"MECH 201\",\"id\":13,\"credits\":2,\"nameCanonical\":\"\"},{\"curriculum_requisites\":[{\"source_id\":8,\"target_id\":14,\"type\":\"CurriculumPrerequisite\"},{\"source_id\":6,\"target_id\":14,\"type\":\"CurriculumPrerequisite\"}],\"name\":\" \",\"metrics\":{\"complexity\":11.0,\"centrality\":36,\"blocking factor\":5,\"delay factor\":6.0},\"nameSub\":\"PH 142\",\"id\":14,\"credits\":5,\"nameCanonical\":\"\"}],\"id\":3},{\"name\":\"Term 4\",\"curriculum_items\":[{\"curriculum_requisites\":[{\"source_id\":10,\"target_id\":15,\"type\":\"CurriculumPrerequisite\"}],\"name\":\" \",\"metrics\":{\"complexity\":9.0,\"centrality\":12,\"blocking factor\":3,\"delay factor\":6.0},\"nameSub\":\"CIVE 261\",\"id\":15,\"credits\":3,\"nameCanonical\":\"\"},{\"curriculum_requisites\":[{\"source_id\":14,\"target_id\":16,\"type\":\"CurriculumPrerequisite\"}],\"name\":\" \",\"metrics\":{\"complexity\":8.0,\"centrality\":12,\"blocking factor\":2,\"delay factor\":6.0},\"nameSub\":\"ECE 204\",\"id\":16,\"credits\":3,\"nameCanonical\":\"\"},{\"curriculum_requisites\":[{\"source_id\":11,\"target_id\":17,\"type\":\"CurriculumPrerequisite\"}],\"name\":\" \",\"metrics\":{\"complexity\":15.0,\"centrality\":32,\"blocking factor\":8,\"delay factor\":7.0},\"nameSub\":\"MATH 340\",\"id\":17,\"credits\":4,\"nameCanonical\":\"\"},{\"curriculum_requisites\":[{\"source_id\":13,\"target_id\":18,\"type\":\"CurriculumPrerequisite\"},{\"source_id\":12,\"target_id\":18,\"type\":\"CurriculumPrerequisite\"}],\"name\":\" \",\"metrics\":{\"complexity\":7.0,\"centrality\":22,\"blocking factor\":1,\"delay factor\":6.0},\"nameSub\":\"MECH 202\",\"id\":18,\"credits\":3,\"nameCanonical\":\"\"},{\"curriculum_requisites\":[{\"source_id\":7,\"target_id\":19,\"type\":\"CurriculumPrerequisite\"},{\"source_id\":14,\"target_id\":19,\"type\":\"CurriculumPrerequisite\"}],\"name\":\" \",\"metrics\":{\"complexity\":9.0,\"centrality\":46,\"blocking factor\":3,\"delay factor\":6.0},\"nameSub\":\"MECH 231\",\"id\":19,\"credits\":3,\"nameCanonical\":\"\"},{\"curriculum_requisites\":[{\"source_id\":11,\"target_id\":20,\"type\":\"CurriculumPrerequisite\"},{\"source_id\":8,\"target_id\":20,\"type\":\"CurriculumPrerequisite\"}],\"name\":\" \",\"metrics\":{\"complexity\":12.0,\"centrality\":37,\"blocking factor\":5,\"delay factor\":7.0},\"nameSub\":\"MECH 337\",\"id\":20,\"credits\":4,\"nameCanonical\":\"\"}],\"id\":4},{\"name\":\"Term 5\",\"curriculum_items\":[{\"curriculum_requisites\":[{\"source_id\":10,\"target_id\":21,\"type\":\"CurriculumPrerequisite\"}],\"name\":\" \",\"metrics\":{\"complexity\":7.0,\"centrality\":10,\"blocking factor\":2,\"delay factor\":5.0},\"nameSub\":\"CIVE 360\",\"id\":21,\"credits\":3,\"nameCanonical\":\"\"},{\"curriculum_requisites\":[{\"source_id\":16,\"target_id\":22,\"type\":\"CurriculumPrerequisite\"},{\"source_id\":17,\"target_id\":22,\"type\":\"CurriculumPrerequisite\"},{\"source_id\":19,\"target_id\":22,\"type\":\"CurriculumPrerequisite\"},{\"source_id\":15,\"target_id\":22,\"type\":\"CurriculumPrerequisite\"}],\"name\":\" \",\"metrics\":{\"complexity\":7.0,\"centrality\":47,\"blocking factor\":1,\"delay factor\":6.0},\"nameSub\":\"MECH 307\",\"id\":22,\"credits\":4,\"nameCanonical\":\"\"},{\"curriculum_requisites\":[{\"source_id\":17,\"target_id\":23,\"type\":\"CurriculumPrerequisite\"},{\"source_id\":15,\"target_id\":23,\"type\":\"CurriculumPrerequisite\"}],\"name\":\" \",\"metrics\":{\"complexity\":7.0,\"centrality\":12,\"blocking factor\":1,\"delay factor\":6.0},\"nameSub\":\"MECH 324\",\"id\":23,\"credits\":4,\"nameCanonical\":\"\"},{\"curriculum_requisites\":[{\"source_id\":17,\"target_id\":24,\"type\":\"CurriculumPrerequisite\"},{\"source_id\":20,\"target_id\":24,\"type\":\"CurriculumPrerequisite\"}],\"name\":\" \",\"metrics\":{\"complexity\":11.0,\"centrality\":57,\"blocking factor\":4,\"delay factor\":7.0},\"nameSub\":\"MECH 342\",\"id\":24,\"credits\":3,\"nameCanonical\":\"\"}],\"id\":5},{\"name\":\"Term 6\",\"curriculum_items\":[{\"curriculum_requisites\":[{\"source_id\":21,\"target_id\":25,\"type\":\"CurriculumPrerequisite\"},{\"source_id\":18,\"target_id\":25,\"type\":\"CurriculumPrerequisite\"}],\"name\":\" \",\"metrics\":{\"complexity\":6.0,\"centrality\":0,\"blocking factor\":0,\"delay factor\":6.0},\"nameSub\":\"MECH 301\",\"id\":25,\"credits\":2,\"nameCanonical\":\"\"},{\"curriculum_requisites\":[{\"source_id\":21,\"target_id\":26,\"type\":\"CurriculumPrerequisite\"}],\"name\":\" \",\"metrics\":{\"complexity\":5.0,\"centrality\":0,\"blocking factor\":0,\"delay factor\":5.0},\"nameSub\":\"MECH 325\",\"id\":26,\"credits\":3,\"nameCanonical\":\"\"},{\"curriculum_requisites\":[{\"source_id\":2,\"target_id\":27,\"type\":\"CurriculumPrerequisite\"},{\"source_id\":19,\"target_id\":27,\"type\":\"CurriculumPrerequisite\"},{\"source_id\":1,\"target_id\":27,\"type\":\"CurriculumPrerequisite\"}],\"name\":\" \",\"metrics\":{\"complexity\":7.0,\"centrality\":29,\"blocking factor\":1,\"delay factor\":6.0},\"nameSub\":\"MECH 331\",\"id\":27,\"credits\":4,\"nameCanonical\":\"\"},{\"curriculum_requisites\":[{\"source_id\":24,\"target_id\":28,\"type\":\"CurriculumPrerequisite\"}],\"name\":\" \",\"metrics\":{\"complexity\":9.0,\"centrality\":40,\"blocking factor\":2,\"delay factor\":7.0},\"nameSub\":\"MECH 338\",\"id\":28,\"credits\":1,\"nameCanonical\":\"\"},{\"curriculum_requisites\":[{\"source_id\":24,\"target_id\":29,\"type\":\"CurriculumPrerequisite\"}],\"name\":\" \",\"metrics\":{\"complexity\":6.0,\"centrality\":0,\"blocking factor\":0,\"delay factor\":6.0},\"nameSub\":\"MECH 344\",\"id\":29,\"credits\":3,\"nameCanonical\":\"\"}],\"id\":6},{\"name\":\"Term 7\",\"curriculum_items\":[{\"curriculum_requisites\":[{\"source_id\":23,\"target_id\":30,\"type\":\"CurriculumPrerequisite\"},{\"source_id\":27,\"target_id\":30,\"type\":\"CurriculumPrerequisite\"},{\"source_id\":22,\"target_id\":30,\"type\":\"CurriculumPrerequisite\"}],\"name\":\" \",\"metrics\":{\"complexity\":6.0,\"centrality\":0,\"blocking factor\":0,\"delay factor\":6.0},\"nameSub\":\"MECH 402\",\"id\":30,\"credits\":3,\"nameCanonical\":\"\"},{\"curriculum_requisites\":[],\"name\":\" \",\"metrics\":{\"complexity\":1.0,\"centrality\":0,\"blocking factor\":0,\"delay factor\":1.0},\"nameSub\":\"ELECTIVE 1\",\"id\":31,\"credits\":4,\"nameCanonical\":\"\"},{\"curriculum_requisites\":[],\"name\":\" \",\"metrics\":{\"complexity\":1.0,\"centrality\":0,\"blocking factor\":0,\"delay factor\":1.0},\"nameSub\":\"AUCC 3E\",\"id\":32,\"credits\":3,\"nameCanonical\":\"\"},{\"curriculum_requisites\":[],\"name\":\" \",\"metrics\":{\"complexity\":1.0,\"centrality\":0,\"blocking factor\":0,\"delay factor\":1.0},\"nameSub\":\"AUCC 3C\",\"id\":33,\"credits\":3,\"nameCanonical\":\"\"},{\"curriculum_requisites\":[],\"name\":\" \",\"metrics\":{\"complexity\":1.0,\"centrality\":0,\"blocking factor\":0,\"delay factor\":1.0},\"nameSub\":\"TECH ELECTIVE\",\"id\":34,\"credits\":3,\"nameCanonical\":\"\"}],\"id\":7},{\"name\":\"Term 8\",\"curriculum_items\":[{\"curriculum_requisites\":[{\"source_id\":28,\"target_id\":35,\"type\":\"CurriculumPrerequisite\"}],\"name\":\" \",\"metrics\":{\"complexity\":7.0,\"centrality\":0,\"blocking factor\":0,\"delay factor\":7.0},\"nameSub\":\"MECH 486B\",\"id\":35,\"credits\":4,\"nameCanonical\":\"\"},{\"curriculum_requisites\":[{\"source_id\":28,\"target_id\":36,\"type\":\"CurriculumPrerequisite\"}],\"name\":\" \",\"metrics\":{\"complexity\":7.0,\"centrality\":0,\"blocking factor\":0,\"delay factor\":7.0},\"nameSub\":\"MECH 498B\",\"id\":36,\"credits\":3,\"nameCanonical\":\"\"},{\"curriculum_requisites\":[],\"name\":\" \",\"metrics\":{\"complexity\":1.0,\"centrality\":0,\"blocking factor\":0,\"delay factor\":1.0},\"nameSub\":\"AUCC 3D\",\"id\":37,\"credits\":3,\"nameCanonical\":\"\"},{\"curriculum_requisites\":[],\"name\":\" \",\"metrics\":{\"complexity\":1.0,\"centrality\":0,\"blocking factor\":0,\"delay factor\":1.0},\"nameSub\":\"TECH ELECTIVE\",\"id\":38,\"credits\":3,\"nameCanonical\":\"\"},{\"curriculum_requisites\":[],\"name\":\" \",\"metrics\":{\"complexity\":1.0,\"centrality\":0,\"blocking factor\":0,\"delay factor\":1.0},\"nameSub\":\"TECH ELECTIVE\",\"id\":39,\"credits\":3,\"nameCanonical\":\"\"}],\"id\":8}],\"institution\":\"Colorado State University\"}}}}},\"children\":[{\"props\":{\"src\":\"http:\\/\\/localhost:8156\",\"id\":\"curriculum\",\"events\":{\"load\":\"(function (){this.contentWindow.postMessage({\\\"options\\\":{\\\"hideTerms\\\":false,\\\"edit\\\":false},\\\"curriculum\\\":{\\\"name\\\":\\\"Mechanical Engineering\\\",\\\"dp_name\\\":\\\"4-Year Plan\\\",\\\"curriculum_terms\\\":[{\\\"name\\\":\\\"Term 1\\\",\\\"curriculum_items\\\":[{\\\"curriculum_requisites\\\":[],\\\"name\\\":\\\" \\\",\\\"metrics\\\":{\\\"complexity\\\":5.0,\\\"centrality\\\":0,\\\"blocking factor\\\":2,\\\"delay factor\\\":3.0},\\\"nameSub\\\":\\\"CHEM 111\\\",\\\"id\\\":1,\\\"credits\\\":4,\\\"nameCanonical\\\":\\\"\\\"},{\\\"curriculum_requisites\\\":[],\\\"name\\\":\\\" \\\",\\\"metrics\\\":{\\\"complexity\\\":5.0,\\\"centrality\\\":0,\\\"blocking factor\\\":2,\\\"delay factor\\\":3.0},\\\"nameSub\\\":\\\"CHEM 112\\\",\\\"id\\\":2,\\\"credits\\\":1,\\\"nameCanonical\\\":\\\"\\\"},{\\\"curriculum_requisites\\\":[],\\\"name\\\":\\\" \\\",\\\"metrics\\\":{\\\"complexity\\\":1.0,\\\"centrality\\\":0,\\\"blocking factor\\\":0,\\\"delay factor\\\":1.0},\\\"nameSub\\\":\\\"CO 150\\\",\\\"id\\\":3,\\\"credits\\\":3,\\\"nameCanonical\\\":\\\"\\\"},{\\\"curriculum_requisites\\\":[],\\\"name\\\":\\\" \\\",\\\"metrics\\\":{\\\"complexity\\\":33.0,\\\"centrality\\\":0,\\\"blocking factor\\\":26,\\\"delay factor\\\":7.0},\\\"nameSub\\\":\\\"MATH 160\\\",\\\"id\\\":4,\\\"credits\\\":4,\\\"nameCanonical\\\":\\\"\\\"},{\\\"curriculum_requisites\\\":[],\\\"name\\\":\\\" \\\",\\\"metrics\\\":{\\\"complexity\\\":14.0,\\\"centrality\\\":0,\\\"blocking factor\\\":9,\\\"delay factor\\\":5.0},\\\"nameSub\\\":\\\"MECH 103\\\",\\\"id\\\":5,\\\"credits\\\":3,\\\"nameCanonical\\\":\\\"\\\"}],\\\"id\\\":1},{\\\"name\\\":\\\"Term 2\\\",\\\"curriculum_items\\\":[{\\\"curriculum_requisites\\\":[{\\\"source_id\\\":4,\\\"target_id\\\":6,\\\"type\\\":\\\"CurriculumPrerequisite\\\"}],\\\"name\\\":\\\" \\\",\\\"metrics\\\":{\\\"complexity\\\":22.0,\\\"centrality\\\":70,\\\"blocking factor\\\":15,\\\"delay factor\\\":7.0},\\\"nameSub\\\":\\\"MATH 161\\\",\\\"id\\\":6,\\\"credits\\\":4,\\\"nameCanonical\\\":\\\"\\\"},{\\\"curriculum_requisites\\\":[{\\\"source_id\\\":5,\\\"target_id\\\":7,\\\"type\\\":\\\"CurriculumPrerequisite\\\"},{\\\"source_id\\\":8,\\\"target_id\\\":7,\\\"type\\\":\\\"CurriculumPrerequisite\\\"}],\\\"name\\\":\\\" \\\",\\\"metrics\\\":{\\\"complexity\\\":14.0,\\\"centrality\\\":44,\\\"blocking factor\\\":8,\\\"delay factor\\\":6.0},\\\"nameSub\\\":\\\"MECH 105\\\",\\\"id\\\":7,\\\"credits\\\":3,\\\"nameCanonical\\\":\\\"\\\"},{\\\"curriculum_requisites\\\":[{\\\"source_id\\\":4,\\\"target_id\\\":8,\\\"type\\\":\\\"CurriculumPrerequisite\\\"}],\\\"name\\\":\\\" \\\",\\\"metrics\\\":{\\\"complexity\\\":28.0,\\\"centrality\\\":81,\\\"blocking factor\\\":22,\\\"delay factor\\\":6.0},\\\"nameSub\\\":\\\"PH 141\\\",\\\"id\\\":8,\\\"credits\\\":5,\\\"nameCanonical\\\":\\\"\\\"},{\\\"curriculum_requisites\\\":[],\\\"name\\\":\\\" \\\",\\\"metrics\\\":{\\\"complexity\\\":1.0,\\\"centrality\\\":0,\\\"blocking factor\\\":0,\\\"delay factor\\\":1.0},\\\"nameSub\\\":\\\"AUCC 3B\\\",\\\"id\\\":9,\\\"credits\\\":6,\\\"nameCanonical\\\":\\\"\\\"}],\\\"id\\\":2},{\\\"name\\\":\\\"Term 3\\\",\\\"curriculum_items\\\":[{\\\"curriculum_requisites\\\":[{\\\"source_id\\\":8,\\\"target_id\\\":10,\\\"type\\\":\\\"CurriculumPrerequisite\\\"}],\\\"name\\\":\\\" \\\",\\\"metrics\\\":{\\\"complexity\\\":13.0,\\\"centrality\\\":22,\\\"blocking factor\\\":7,\\\"delay factor\\\":6.0},\\\"nameSub\\\":\\\"CIVE 260\\\",\\\"id\\\":10,\\\"credits\\\":3,\\\"nameCanonical\\\":\\\"\\\"},{\\\"curriculum_requisites\\\":[{\\\"source_id\\\":6,\\\"target_id\\\":11,\\\"type\\\":\\\"CurriculumPrerequisite\\\"}],\\\"name\\\":\\\" \\\",\\\"metrics\\\":{\\\"complexity\\\":17.0,\\\"centrality\\\":52,\\\"blocking factor\\\":10,\\\"delay factor\\\":7.0},\\\"nameSub\\\":\\\"MATH 261\\\",\\\"id\\\":11,\\\"credits\\\":4,\\\"nameCanonical\\\":\\\"\\\"},{\\\"curriculum_requisites\\\":[{\\\"source_id\\\":7,\\\"target_id\\\":12,\\\"type\\\":\\\"CurriculumPrerequisite\\\"}],\\\"name\\\":\\\" \\\",\\\"metrics\\\":{\\\"complexity\\\":8.0,\\\"centrality\\\":11,\\\"blocking factor\\\":2,\\\"delay factor\\\":6.0},\\\"nameSub\\\":\\\"MECH 200\\\",\\\"id\\\":12,\\\"credits\\\":3,\\\"nameCanonical\\\":\\\"\\\"},{\\\"curriculum_requisites\\\":[{\\\"source_id\\\":7,\\\"target_id\\\":13,\\\"type\\\":\\\"CurriculumPrerequisite\\\"}],\\\"name\\\":\\\" \\\",\\\"metrics\\\":{\\\"complexity\\\":8.0,\\\"centrality\\\":11,\\\"blocking factor\\\":2,\\\"delay factor\\\":6.0},\\\"nameSub\\\":\\\"MECH 201\\\",\\\"id\\\":13,\\\"credits\\\":2,\\\"nameCanonical\\\":\\\"\\\"},{\\\"curriculum_requisites\\\":[{\\\"source_id\\\":8,\\\"target_id\\\":14,\\\"type\\\":\\\"CurriculumPrerequisite\\\"},{\\\"source_id\\\":6,\\\"target_id\\\":14,\\\"type\\\":\\\"CurriculumPrerequisite\\\"}],\\\"name\\\":\\\" \\\",\\\"metrics\\\":{\\\"complexity\\\":11.0,\\\"centrality\\\":36,\\\"blocking factor\\\":5,\\\"delay factor\\\":6.0},\\\"nameSub\\\":\\\"PH 142\\\",\\\"id\\\":14,\\\"credits\\\":5,\\\"nameCanonical\\\":\\\"\\\"}],\\\"id\\\":3},{\\\"name\\\":\\\"Term 4\\\",\\\"curriculum_items\\\":[{\\\"curriculum_requisites\\\":[{\\\"source_id\\\":10,\\\"target_id\\\":15,\\\"type\\\":\\\"CurriculumPrerequisite\\\"}],\\\"name\\\":\\\" \\\",\\\"metrics\\\":{\\\"complexity\\\":9.0,\\\"centrality\\\":12,\\\"blocking factor\\\":3,\\\"delay factor\\\":6.0},\\\"nameSub\\\":\\\"CIVE 261\\\",\\\"id\\\":15,\\\"credits\\\":3,\\\"nameCanonical\\\":\\\"\\\"},{\\\"curriculum_requisites\\\":[{\\\"source_id\\\":14,\\\"target_id\\\":16,\\\"type\\\":\\\"CurriculumPrerequisite\\\"}],\\\"name\\\":\\\" \\\",\\\"metrics\\\":{\\\"complexity\\\":8.0,\\\"centrality\\\":12,\\\"blocking factor\\\":2,\\\"delay factor\\\":6.0},\\\"nameSub\\\":\\\"ECE 204\\\",\\\"id\\\":16,\\\"credits\\\":3,\\\"nameCanonical\\\":\\\"\\\"},{\\\"curriculum_requisites\\\":[{\\\"source_id\\\":11,\\\"target_id\\\":17,\\\"type\\\":\\\"CurriculumPrerequisite\\\"}],\\\"name\\\":\\\" \\\",\\\"metrics\\\":{\\\"complexity\\\":15.0,\\\"centrality\\\":32,\\\"blocking factor\\\":8,\\\"delay factor\\\":7.0},\\\"nameSub\\\":\\\"MATH 340\\\",\\\"id\\\":17,\\\"credits\\\":4,\\\"nameCanonical\\\":\\\"\\\"},{\\\"curriculum_requisites\\\":[{\\\"source_id\\\":13,\\\"target_id\\\":18,\\\"type\\\":\\\"CurriculumPrerequisite\\\"},{\\\"source_id\\\":12,\\\"target_id\\\":18,\\\"type\\\":\\\"CurriculumPrerequisite\\\"}],\\\"name\\\":\\\" \\\",\\\"metrics\\\":{\\\"complexity\\\":7.0,\\\"centrality\\\":22,\\\"blocking factor\\\":1,\\\"delay factor\\\":6.0},\\\"nameSub\\\":\\\"MECH 202\\\",\\\"id\\\":18,\\\"credits\\\":3,\\\"nameCanonical\\\":\\\"\\\"},{\\\"curriculum_requisites\\\":[{\\\"source_id\\\":7,\\\"target_id\\\":19,\\\"type\\\":\\\"CurriculumPrerequisite\\\"},{\\\"source_id\\\":14,\\\"target_id\\\":19,\\\"type\\\":\\\"CurriculumPrerequisite\\\"}],\\\"name\\\":\\\" \\\",\\\"metrics\\\":{\\\"complexity\\\":9.0,\\\"centrality\\\":46,\\\"blocking factor\\\":3,\\\"delay factor\\\":6.0},\\\"nameSub\\\":\\\"MECH 231\\\",\\\"id\\\":19,\\\"credits\\\":3,\\\"nameCanonical\\\":\\\"\\\"},{\\\"curriculum_requisites\\\":[{\\\"source_id\\\":11,\\\"target_id\\\":20,\\\"type\\\":\\\"CurriculumPrerequisite\\\"},{\\\"source_id\\\":8,\\\"target_id\\\":20,\\\"type\\\":\\\"CurriculumPrerequisite\\\"}],\\\"name\\\":\\\" \\\",\\\"metrics\\\":{\\\"complexity\\\":12.0,\\\"centrality\\\":37,\\\"blocking factor\\\":5,\\\"delay factor\\\":7.0},\\\"nameSub\\\":\\\"MECH 337\\\",\\\"id\\\":20,\\\"credits\\\":4,\\\"nameCanonical\\\":\\\"\\\"}],\\\"id\\\":4},{\\\"name\\\":\\\"Term 5\\\",\\\"curriculum_items\\\":[{\\\"curriculum_requisites\\\":[{\\\"source_id\\\":10,\\\"target_id\\\":21,\\\"type\\\":\\\"CurriculumPrerequisite\\\"}],\\\"name\\\":\\\" \\\",\\\"metrics\\\":{\\\"complexity\\\":7.0,\\\"centrality\\\":10,\\\"blocking factor\\\":2,\\\"delay factor\\\":5.0},\\\"nameSub\\\":\\\"CIVE 360\\\",\\\"id\\\":21,\\\"credits\\\":3,\\\"nameCanonical\\\":\\\"\\\"},{\\\"curriculum_requisites\\\":[{\\\"source_id\\\":16,\\\"target_id\\\":22,\\\"type\\\":\\\"CurriculumPrerequisite\\\"},{\\\"source_id\\\":17,\\\"target_id\\\":22,\\\"type\\\":\\\"CurriculumPrerequisite\\\"},{\\\"source_id\\\":19,\\\"target_id\\\":22,\\\"type\\\":\\\"CurriculumPrerequisite\\\"},{\\\"source_id\\\":15,\\\"target_id\\\":22,\\\"type\\\":\\\"CurriculumPrerequisite\\\"}],\\\"name\\\":\\\" \\\",\\\"metrics\\\":{\\\"complexity\\\":7.0,\\\"centrality\\\":47,\\\"blocking factor\\\":1,\\\"delay factor\\\":6.0},\\\"nameSub\\\":\\\"MECH 307\\\",\\\"id\\\":22,\\\"credits\\\":4,\\\"nameCanonical\\\":\\\"\\\"},{\\\"curriculum_requisites\\\":[{\\\"source_id\\\":17,\\\"target_id\\\":23,\\\"type\\\":\\\"CurriculumPrerequisite\\\"},{\\\"source_id\\\":15,\\\"target_id\\\":23,\\\"type\\\":\\\"CurriculumPrerequisite\\\"}],\\\"name\\\":\\\" \\\",\\\"metrics\\\":{\\\"complexity\\\":7.0,\\\"centrality\\\":12,\\\"blocking factor\\\":1,\\\"delay factor\\\":6.0},\\\"nameSub\\\":\\\"MECH 324\\\",\\\"id\\\":23,\\\"credits\\\":4,\\\"nameCanonical\\\":\\\"\\\"},{\\\"curriculum_requisites\\\":[{\\\"source_id\\\":17,\\\"target_id\\\":24,\\\"type\\\":\\\"CurriculumPrerequisite\\\"},{\\\"source_id\\\":20,\\\"target_id\\\":24,\\\"type\\\":\\\"CurriculumPrerequisite\\\"}],\\\"name\\\":\\\" \\\",\\\"metrics\\\":{\\\"complexity\\\":11.0,\\\"centrality\\\":57,\\\"blocking factor\\\":4,\\\"delay factor\\\":7.0},\\\"nameSub\\\":\\\"MECH 342\\\",\\\"id\\\":24,\\\"credits\\\":3,\\\"nameCanonical\\\":\\\"\\\"}],\\\"id\\\":5},{\\\"name\\\":\\\"Term 6\\\",\\\"curriculum_items\\\":[{\\\"curriculum_requisites\\\":[{\\\"source_id\\\":21,\\\"target_id\\\":25,\\\"type\\\":\\\"CurriculumPrerequisite\\\"},{\\\"source_id\\\":18,\\\"target_id\\\":25,\\\"type\\\":\\\"CurriculumPrerequisite\\\"}],\\\"name\\\":\\\" \\\",\\\"metrics\\\":{\\\"complexity\\\":6.0,\\\"centrality\\\":0,\\\"blocking factor\\\":0,\\\"delay factor\\\":6.0},\\\"nameSub\\\":\\\"MECH 301\\\",\\\"id\\\":25,\\\"credits\\\":2,\\\"nameCanonical\\\":\\\"\\\"},{\\\"curriculum_requisites\\\":[{\\\"source_id\\\":21,\\\"target_id\\\":26,\\\"type\\\":\\\"CurriculumPrerequisite\\\"}],\\\"name\\\":\\\" \\\",\\\"metrics\\\":{\\\"complexity\\\":5.0,\\\"centrality\\\":0,\\\"blocking factor\\\":0,\\\"delay factor\\\":5.0},\\\"nameSub\\\":\\\"MECH 325\\\",\\\"id\\\":26,\\\"credits\\\":3,\\\"nameCanonical\\\":\\\"\\\"},{\\\"curriculum_requisites\\\":[{\\\"source_id\\\":2,\\\"target_id\\\":27,\\\"type\\\":\\\"CurriculumPrerequisite\\\"},{\\\"source_id\\\":19,\\\"target_id\\\":27,\\\"type\\\":\\\"CurriculumPrerequisite\\\"},{\\\"source_id\\\":1,\\\"target_id\\\":27,\\\"type\\\":\\\"CurriculumPrerequisite\\\"}],\\\"name\\\":\\\" \\\",\\\"metrics\\\":{\\\"complexity\\\":7.0,\\\"centrality\\\":29,\\\"blocking factor\\\":1,\\\"delay factor\\\":6.0},\\\"nameSub\\\":\\\"MECH 331\\\",\\\"id\\\":27,\\\"credits\\\":4,\\\"nameCanonical\\\":\\\"\\\"},{\\\"curriculum_requisites\\\":[{\\\"source_id\\\":24,\\\"target_id\\\":28,\\\"type\\\":\\\"CurriculumPrerequisite\\\"}],\\\"name\\\":\\\" \\\",\\\"metrics\\\":{\\\"complexity\\\":9.0,\\\"centrality\\\":40,\\\"blocking factor\\\":2,\\\"delay factor\\\":7.0},\\\"nameSub\\\":\\\"MECH 338\\\",\\\"id\\\":28,\\\"credits\\\":1,\\\"nameCanonical\\\":\\\"\\\"},{\\\"curriculum_requisites\\\":[{\\\"source_id\\\":24,\\\"target_id\\\":29,\\\"type\\\":\\\"CurriculumPrerequisite\\\"}],\\\"name\\\":\\\" \\\",\\\"metrics\\\":{\\\"complexity\\\":6.0,\\\"centrality\\\":0,\\\"blocking factor\\\":0,\\\"delay factor\\\":6.0},\\\"nameSub\\\":\\\"MECH 344\\\",\\\"id\\\":29,\\\"credits\\\":3,\\\"nameCanonical\\\":\\\"\\\"}],\\\"id\\\":6},{\\\"name\\\":\\\"Term 7\\\",\\\"curriculum_items\\\":[{\\\"curriculum_requisites\\\":[{\\\"source_id\\\":23,\\\"target_id\\\":30,\\\"type\\\":\\\"CurriculumPrerequisite\\\"},{\\\"source_id\\\":27,\\\"target_id\\\":30,\\\"type\\\":\\\"CurriculumPrerequisite\\\"},{\\\"source_id\\\":22,\\\"target_id\\\":30,\\\"type\\\":\\\"CurriculumPrerequisite\\\"}],\\\"name\\\":\\\" \\\",\\\"metrics\\\":{\\\"complexity\\\":6.0,\\\"centrality\\\":0,\\\"blocking factor\\\":0,\\\"delay factor\\\":6.0},\\\"nameSub\\\":\\\"MECH 402\\\",\\\"id\\\":30,\\\"credits\\\":3,\\\"nameCanonical\\\":\\\"\\\"},{\\\"curriculum_requisites\\\":[],\\\"name\\\":\\\" \\\",\\\"metrics\\\":{\\\"complexity\\\":1.0,\\\"centrality\\\":0,\\\"blocking factor\\\":0,\\\"delay factor\\\":1.0},\\\"nameSub\\\":\\\"ELECTIVE 1\\\",\\\"id\\\":31,\\\"credits\\\":4,\\\"nameCanonical\\\":\\\"\\\"},{\\\"curriculum_requisites\\\":[],\\\"name\\\":\\\" \\\",\\\"metrics\\\":{\\\"complexity\\\":1.0,\\\"centrality\\\":0,\\\"blocking factor\\\":0,\\\"delay factor\\\":1.0},\\\"nameSub\\\":\\\"AUCC 3E\\\",\\\"id\\\":32,\\\"credits\\\":3,\\\"nameCanonical\\\":\\\"\\\"},{\\\"curriculum_requisites\\\":[],\\\"name\\\":\\\" \\\",\\\"metrics\\\":{\\\"complexity\\\":1.0,\\\"centrality\\\":0,\\\"blocking factor\\\":0,\\\"delay factor\\\":1.0},\\\"nameSub\\\":\\\"AUCC 3C\\\",\\\"id\\\":33,\\\"credits\\\":3,\\\"nameCanonical\\\":\\\"\\\"},{\\\"curriculum_requisites\\\":[],\\\"name\\\":\\\" \\\",\\\"metrics\\\":{\\\"complexity\\\":1.0,\\\"centrality\\\":0,\\\"blocking factor\\\":0,\\\"delay factor\\\":1.0},\\\"nameSub\\\":\\\"TECH ELECTIVE\\\",\\\"id\\\":34,\\\"credits\\\":3,\\\"nameCanonical\\\":\\\"\\\"}],\\\"id\\\":7},{\\\"name\\\":\\\"Term 8\\\",\\\"curriculum_items\\\":[{\\\"curriculum_requisites\\\":[{\\\"source_id\\\":28,\\\"target_id\\\":35,\\\"type\\\":\\\"CurriculumPrerequisite\\\"}],\\\"name\\\":\\\" \\\",\\\"metrics\\\":{\\\"complexity\\\":7.0,\\\"centrality\\\":0,\\\"blocking factor\\\":0,\\\"delay factor\\\":7.0},\\\"nameSub\\\":\\\"MECH 486B\\\",\\\"id\\\":35,\\\"credits\\\":4,\\\"nameCanonical\\\":\\\"\\\"},{\\\"curriculum_requisites\\\":[{\\\"source_id\\\":28,\\\"target_id\\\":36,\\\"type\\\":\\\"CurriculumPrerequisite\\\"}],\\\"name\\\":\\\" \\\",\\\"metrics\\\":{\\\"complexity\\\":7.0,\\\"centrality\\\":0,\\\"blocking factor\\\":0,\\\"delay factor\\\":7.0},\\\"nameSub\\\":\\\"MECH 498B\\\",\\\"id\\\":36,\\\"credits\\\":3,\\\"nameCanonical\\\":\\\"\\\"},{\\\"curriculum_requisites\\\":[],\\\"name\\\":\\\" \\\",\\\"metrics\\\":{\\\"complexity\\\":1.0,\\\"centrality\\\":0,\\\"blocking factor\\\":0,\\\"delay factor\\\":1.0},\\\"nameSub\\\":\\\"AUCC 3D\\\",\\\"id\\\":37,\\\"credits\\\":3,\\\"nameCanonical\\\":\\\"\\\"},{\\\"curriculum_requisites\\\":[],\\\"name\\\":\\\" \\\",\\\"metrics\\\":{\\\"complexity\\\":1.0,\\\"centrality\\\":0,\\\"blocking factor\\\":0,\\\"delay factor\\\":1.0},\\\"nameSub\\\":\\\"TECH ELECTIVE\\\",\\\"id\\\":38,\\\"credits\\\":3,\\\"nameCanonical\\\":\\\"\\\"},{\\\"curriculum_requisites\\\":[],\\\"name\\\":\\\" \\\",\\\"metrics\\\":{\\\"complexity\\\":1.0,\\\"centrality\\\":0,\\\"blocking factor\\\":0,\\\"delay factor\\\":1.0},\\\"nameSub\\\":\\\"TECH ELECTIVE\\\",\\\"id\\\":39,\\\"credits\\\":3,\\\"nameCanonical\\\":\\\"\\\"}],\\\"id\\\":8}],\\\"institution\\\":\\\"Colorado State University\\\"}},\\\"*\\\"); window.removeEventListener(\\\"message\\\",window.messageReceived); window.messageReceived=(function (event){return (event.data.curriculum!==undefined) ? (WebIO.setval({\\\"name\\\":\\\"curriculum-data\\\",\\\"scope\\\":\\\"8773462466384873277\\\",\\\"id\\\":\\\"10594152006794071\\\",\\\"type\\\":\\\"observable\\\"},event.data.curriculum)) : undefined}); return window.addEventListener(\\\"message\\\",window.messageReceived)})\"},\"style\":{\"padding\":\"0\",\"height\":\"100vh\",\"margin\":\"0\",\"border\":\"none\",\"width\":\"100%\"}},\"nodeType\":\"DOM\",\"type\":\"node\",\"instanceArgs\":{\"namespace\":\"html\",\"tag\":\"iframe\"},\"children\":[\"\"]}]},\n",
       "            window,\n",
       "        );\n",
       "    } else {\n",
       "        document\n",
       "            .querySelector('[data-webio-mountpoint=\"1258077935037914994\"]')\n",
       "            .innerHTML = (\n",
       "                '<div style=\"padding: 1em; background-color: #f8d6da; border: 1px solid #f5c6cb\">' +\n",
       "                '<p><strong>WebIO not detected.</strong></p>' +\n",
       "                '<p>Please read ' +\n",
       "                '<a href=\"https://juliagizmos.github.io/WebIO.jl/latest/troubleshooting/not-detected/\" target=\"_blank\">the troubleshooting guide</a> ' +\n",
       "                'for more information on how to resolve this issue.</p>' +\n",
       "                '<p><a href=\"https://juliagizmos.github.io/WebIO.jl/latest/troubleshooting/not-detected/\" target=\"_blank\">https://juliagizmos.github.io/WebIO.jl/latest/troubleshooting/not-detected/</a></p>' +\n",
       "                '</div>'\n",
       "            );\n",
       "    }\n",
       "    </script>\n",
       "</div>\n"
      ],
      "text/plain": [
       "WebIO.Scope(WebIO.Node{WebIO.DOM}(WebIO.DOM(:html, :iframe), Any[\"\"], Dict{Symbol,Any}(:src => \"http://localhost:8156\",:id => \"curriculum\",:events => Dict{Symbol,WebIO.JSString}(:load => WebIO.JSString(\"(function (){this.contentWindow.postMessage({\\\"options\\\":{\\\"hideTerms\\\":false,\\\"edit\\\":false},\\\"curriculum\\\":{\\\"name\\\":\\\"Mechanical Engineering\\\",\\\"dp_name\\\":\\\"4-Year Plan\\\",\\\"curriculum_terms\\\":[{\\\"name\\\":\\\"Term 1\\\",\\\"curriculum_items\\\":[{\\\"curriculum_requisites\\\":[],\\\"name\\\":\\\" \\\",\\\"metrics\\\":{\\\"complexity\\\":5.0,\\\"centrality\\\":0,\\\"blocking factor\\\":2,\\\"delay factor\\\":3.0},\\\"nameSub\\\":\\\"CHEM 111\\\",\\\"id\\\":1,\\\"credits\\\":4,\\\"nameCanonical\\\":\\\"\\\"},{\\\"curriculum_requisites\\\":[],\\\"name\\\":\\\" \\\",\\\"metrics\\\":{\\\"complexity\\\":5.0,\\\"centrality\\\":0,\\\"blocking factor\\\":2,\\\"delay factor\\\":3.0},\\\"nameSub\\\":\\\"CHEM 112\\\",\\\"id\\\":2,\\\"credits\\\":1,\\\"nameCanonical\\\":\\\"\\\"},{\\\"curriculum_requisites\\\":[],\\\"name\\\":\\\" \\\",\\\"metrics\\\":{\\\"complexity\\\":1.0,\\\"centrality\\\":0,\\\"blocking factor\\\":0,\\\"delay factor\\\":1.0},\\\"nameSub\\\":\\\"CO 150\\\",\\\"id\\\":3,\\\"credits\\\":3,\\\"nameCanonical\\\":\\\"\\\"},{\\\"curriculum_requisites\\\":[],\\\"name\\\":\\\" \\\",\\\"metrics\\\":{\\\"complexity\\\":33.0,\\\"centrality\\\":0,\\\"blocking factor\\\":26,\\\"delay factor\\\":7.0},\\\"nameSub\\\":\\\"MATH 160\\\",\\\"id\\\":4,\\\"credits\\\":4,\\\"nameCanonical\\\":\\\"\\\"},{\\\"curriculum_requisites\\\":[],\\\"name\\\":\\\" \\\",\\\"metrics\\\":{\\\"complexity\\\":14.0,\\\"centrality\\\":0,\\\"blocking factor\\\":9,\\\"delay factor\\\":5.0},\\\"nameSub\\\":\\\"MECH 103\\\",\\\"id\\\":5,\\\"credits\\\":3,\\\"nameCanonical\\\":\\\"\\\"}],\\\"id\\\":1},{\\\"name\\\":\\\"Term 2\\\",\\\"curriculum_items\\\":[{\\\"curriculum_requisites\\\":[{\\\"source_id\\\":4,\\\"target_id\\\":6,\\\"type\\\":\\\"CurriculumPrerequisite\\\"}],\\\"name\\\":\\\" \\\",\\\"metrics\\\":{\\\"complexity\\\":22.0,\\\"centrality\\\":70,\\\"blocking factor\\\":15,\\\"delay factor\\\":7.0},\\\"nameSub\\\":\\\"MATH 161\\\",\\\"id\\\":6,\\\"credits\\\":4,\\\"nameCanonical\\\":\\\"\\\"},{\\\"curriculum_requisites\\\":[{\\\"source_id\\\":5,\\\"target_id\\\":7,\\\"type\\\":\\\"CurriculumPrerequisite\\\"},{\\\"source_id\\\":8,\\\"target_id\\\":7,\\\"type\\\":\\\"CurriculumPrerequisite\\\"}],\\\"name\\\":\\\" \\\",\\\"metrics\\\":{\\\"complexity\\\":14.0,\\\"centrality\\\":44,\\\"blocking factor\\\":8,\\\"delay factor\\\":6.0},\\\"nameSub\\\":\\\"MECH 105\\\",\\\"id\\\":7,\\\"credits\\\":3,\\\"nameCanonical\\\":\\\"\\\"},{\\\"curriculum_requisites\\\":[{\\\"source_id\\\":4,\\\"target_id\\\":8,\\\"type\\\":\\\"CurriculumPrerequisite\\\"}],\\\"name\\\":\\\" \\\",\\\"metrics\\\":{\\\"complexity\\\":28.0,\\\"centrality\\\":81,\\\"blocking factor\\\":22,\\\"delay factor\\\":6.0},\\\"nameSub\\\":\\\"PH 141\\\",\\\"id\\\":8,\\\"credits\\\":5,\\\"nameCanonical\\\":\\\"\\\"},{\\\"curriculum_requisites\\\":[],\\\"name\\\":\\\" \\\",\\\"metrics\\\":{\\\"complexity\\\":1.0,\\\"centrality\\\":0,\\\"blocking factor\\\":0,\\\"delay factor\\\":1.0},\\\"nameSub\\\":\\\"AUCC 3B\\\",\\\"id\\\":9,\\\"credits\\\":6,\\\"nameCanonical\\\":\\\"\\\"}],\\\"id\\\":2},{\\\"name\\\":\\\"Term 3\\\",\\\"curriculum_items\\\":[{\\\"curriculum_requisites\\\":[{\\\"source_id\\\":8,\\\"target_id\\\":10,\\\"type\\\":\\\"CurriculumPrerequisite\\\"}],\\\"name\\\":\\\" \\\",\\\"metrics\\\":{\\\"complexity\\\":13.0,\\\"centrality\\\":22,\\\"blocking factor\\\":7,\\\"delay factor\\\":6.0},\\\"nameSub\\\":\\\"CIVE 260\\\",\\\"id\\\":10,\\\"credits\\\":3,\\\"nameCanonical\\\":\\\"\\\"},{\\\"curriculum_requisites\\\":[{\\\"source_id\\\":6,\\\"target_id\\\":11,\\\"type\\\":\\\"CurriculumPrerequisite\\\"}],\\\"name\\\":\\\" \\\",\\\"metrics\\\":{\\\"complexity\\\":17.0,\\\"centrality\\\":52,\\\"blocking factor\\\":10,\\\"delay factor\\\":7.0},\\\"nameSub\\\":\\\"MATH 261\\\",\\\"id\\\":11,\\\"credits\\\":4,\\\"nameCanonical\\\":\\\"\\\"},{\\\"curriculum_requisites\\\":[{\\\"source_id\\\":7,\\\"target_id\\\":12,\\\"type\\\":\\\"CurriculumPrerequisite\\\"}],\\\"name\\\":\\\" \\\",\\\"metrics\\\":{\\\"complexity\\\":8.0,\\\"centrality\\\":11,\\\"blocking factor\\\":2,\\\"delay factor\\\":6.0},\\\"nameSub\\\":\\\"MECH 200\\\",\\\"id\\\":12,\\\"credits\\\":3,\\\"nameCanonical\\\":\\\"\\\"},{\\\"curriculum_requisites\\\":[{\\\"source_id\\\":7,\\\"target_id\\\":13,\\\"type\\\":\\\"CurriculumPrerequisite\\\"}],\\\"name\\\":\\\" \\\",\\\"metrics\\\":{\\\"complexity\\\":8.0,\\\"centrality\\\":11,\\\"blocking factor\\\":2,\\\"delay factor\\\":6.0},\\\"nameSub\\\":\\\"MECH 201\\\",\\\"id\\\":13,\\\"credits\\\":2,\\\"nameCanonical\\\":\\\"\\\"},{\\\"curriculum_requisites\\\":[{\\\"source_id\\\":8,\\\"target_id\\\":14,\\\"type\\\":\\\"CurriculumPrerequisite\\\"},{\\\"source_id\\\":6,\\\"target_id\\\":14,\\\"type\\\":\\\"CurriculumPrerequisite\\\"}],\\\"name\\\":\\\" \\\",\\\"metrics\\\":{\\\"complexity\\\":11.0,\\\"centrality\\\":36,\\\"blocking factor\\\":5,\\\"delay factor\\\":6.0},\\\"nameSub\\\":\\\"PH 142\\\",\\\"id\\\":14,\\\"credits\\\":5,\\\"nameCanonical\\\":\\\"\\\"}],\\\"id\\\":3},{\\\"name\\\":\\\"Term 4\\\",\\\"curriculum_items\\\":[{\\\"curriculum_requisites\\\":[{\\\"source_id\\\":10,\\\"target_id\\\":15,\\\"type\\\":\\\"CurriculumPrerequisite\\\"}],\\\"name\\\":\\\" \\\",\\\"metrics\\\":{\\\"complexity\\\":9.0,\\\"centrality\\\":12,\\\"blocking factor\\\":3,\\\"delay factor\\\":6.0},\\\"nameSub\\\":\\\"CIVE 261\\\",\\\"id\\\":15,\\\"credits\\\":3,\\\"nameCanonical\\\":\\\"\\\"},{\\\"curriculum_requisites\\\":[{\\\"source_id\\\":14,\\\"target_id\\\":16,\\\"type\\\":\\\"CurriculumPrerequisite\\\"}],\\\"name\\\":\\\" \\\",\\\"metrics\\\":{\\\"complexity\\\":8.0,\\\"centrality\\\":12,\\\"blocking factor\\\":2,\\\"delay factor\\\":6.0},\\\"nameSub\\\":\\\"ECE 204\\\",\\\"id\\\":16,\\\"credits\\\":3,\\\"nameCanonical\\\":\\\"\\\"},{\\\"curriculum_requisites\\\":[{\\\"source_id\\\":11,\\\"target_id\\\":17,\\\"type\\\":\\\"CurriculumPrerequisite\\\"}],\\\"name\\\":\\\" \\\",\\\"metrics\\\":{\\\"complexity\\\":15.0,\\\"centrality\\\":32,\\\"blocking factor\\\":8,\\\"delay factor\\\":7.0},\\\"nameSub\\\":\\\"MATH 340\\\",\\\"id\\\":17,\\\"credits\\\":4,\\\"nameCanonical\\\":\\\"\\\"},{\\\"curriculum_requisites\\\":[{\\\"source_id\\\":13,\\\"target_id\\\":18,\\\"type\\\":\\\"CurriculumPrerequisite\\\"},{\\\"source_id\\\":12,\\\"target_id\\\":18,\\\"type\\\":\\\"CurriculumPrerequisite\\\"}],\\\"name\\\":\\\" \\\",\\\"metrics\\\":{\\\"complexity\\\":7.0,\\\"centrality\\\":22,\\\"blocking factor\\\":1,\\\"delay factor\\\":6.0},\\\"nameSub\\\":\\\"MECH 202\\\",\\\"id\\\":18,\\\"credits\\\":3,\\\"nameCanonical\\\":\\\"\\\"},{\\\"curriculum_requisites\\\":[{\\\"source_id\\\":7,\\\"target_id\\\":19,\\\"type\\\":\\\"CurriculumPrerequisite\\\"},{\\\"source_id\\\":14,\\\"target_id\\\":19,\\\"type\\\":\\\"CurriculumPrerequisite\\\"}],\\\"name\\\":\\\" \\\",\\\"metrics\\\":{\\\"complexity\\\":9.0,\\\"centrality\\\":46,\\\"blocking factor\\\":3,\\\"delay factor\\\":6.0},\\\"nameSub\\\":\\\"MECH 231\\\",\\\"id\\\":19,\\\"credits\\\":3,\\\"nameCanonical\\\":\\\"\\\"},{\\\"curriculum_requisites\\\":[{\\\"source_id\\\":11,\\\"target_id\\\":20,\\\"type\\\":\\\"CurriculumPrerequisite\\\"},{\\\"source_id\\\":8,\\\"target_id\\\":20,\\\"type\\\":\\\"CurriculumPrerequisite\\\"}],\\\"name\\\":\\\" \\\",\\\"metrics\\\":{\\\"complexity\\\":12.0,\\\"centrality\\\":37,\\\"blocking factor\\\":5,\\\"delay factor\\\":7.0},\\\"nameSub\\\":\\\"MECH 337\\\",\\\"id\\\":20,\\\"credits\\\":4,\\\"nameCanonical\\\":\\\"\\\"}],\\\"id\\\":4},{\\\"name\\\":\\\"Term 5\\\",\\\"curriculum_items\\\":[{\\\"curriculum_requisites\\\":[{\\\"source_id\\\":10,\\\"target_id\\\":21,\\\"type\\\":\\\"CurriculumPrerequisite\\\"}],\\\"name\\\":\\\" \\\",\\\"metrics\\\":{\\\"complexity\\\":7.0,\\\"centrality\\\":10,\\\"blocking factor\\\":2,\\\"delay factor\\\":5.0},\\\"nameSub\\\":\\\"CIVE 360\\\",\\\"id\\\":21,\\\"credits\\\":3,\\\"nameCanonical\\\":\\\"\\\"},{\\\"curriculum_requisites\\\":[{\\\"source_id\\\":16,\\\"target_id\\\":22,\\\"type\\\":\\\"CurriculumPrerequisite\\\"},{\\\"source_id\\\":17,\\\"target_id\\\":22,\\\"type\\\":\\\"CurriculumPrerequisite\\\"},{\\\"source_id\\\":19,\\\"target_id\\\":22,\\\"type\\\":\\\"CurriculumPrerequisite\\\"},{\\\"source_id\\\":15,\\\"target_id\\\":22,\\\"type\\\":\\\"CurriculumPrerequisite\\\"}],\\\"name\\\":\\\" \\\",\\\"metrics\\\":{\\\"complexity\\\":7.0,\\\"centrality\\\":47,\\\"blocking factor\\\":1,\\\"delay factor\\\":6.0},\\\"nameSub\\\":\\\"MECH 307\\\",\\\"id\\\":22,\\\"credits\\\":4,\\\"nameCanonical\\\":\\\"\\\"},{\\\"curriculum_requisites\\\":[{\\\"source_id\\\":17,\\\"target_id\\\":23,\\\"type\\\":\\\"CurriculumPrerequisite\\\"},{\\\"source_id\\\":15,\\\"target_id\\\":23,\\\"type\\\":\\\"CurriculumPrerequisite\\\"}],\\\"name\\\":\\\" \\\",\\\"metrics\\\":{\\\"complexity\\\":7.0,\\\"centrality\\\":12,\\\"blocking factor\\\":1,\\\"delay factor\\\":6.0},\\\"nameSub\\\":\\\"MECH 324\\\",\\\"id\\\":23,\\\"credits\\\":4,\\\"nameCanonical\\\":\\\"\\\"},{\\\"curriculum_requisites\\\":[{\\\"source_id\\\":17,\\\"target_id\\\":24,\\\"type\\\":\\\"CurriculumPrerequisite\\\"},{\\\"source_id\\\":20,\\\"target_id\\\":24,\\\"type\\\":\\\"CurriculumPrerequisite\\\"}],\\\"name\\\":\\\" \\\",\\\"metrics\\\":{\\\"complexity\\\":11.0,\\\"centrality\\\":57,\\\"blocking factor\\\":4,\\\"delay factor\\\":7.0},\\\"nameSub\\\":\\\"MECH 342\\\",\\\"id\\\":24,\\\"credits\\\":3,\\\"nameCanonical\\\":\\\"\\\"}],\\\"id\\\":5},{\\\"name\\\":\\\"Term 6\\\",\\\"curriculum_items\\\":[{\\\"curriculum_requisites\\\":[{\\\"source_id\\\":21,\\\"target_id\\\":25,\\\"type\\\":\\\"CurriculumPrerequisite\\\"},{\\\"source_id\\\":18,\\\"target_id\\\":25,\\\"type\\\":\\\"CurriculumPrerequisite\\\"}],\\\"name\\\":\\\" \\\",\\\"metrics\\\":{\\\"complexity\\\":6.0,\\\"centrality\\\":0,\\\"blocking factor\\\":0,\\\"delay factor\\\":6.0},\\\"nameSub\\\":\\\"MECH 301\\\",\\\"id\\\":25,\\\"credits\\\":2,\\\"nameCanonical\\\":\\\"\\\"},{\\\"curriculum_requisites\\\":[{\\\"source_id\\\":21,\\\"target_id\\\":26,\\\"type\\\":\\\"CurriculumPrerequisite\\\"}],\\\"name\\\":\\\" \\\",\\\"metrics\\\":{\\\"complexity\\\":5.0,\\\"centrality\\\":0,\\\"blocking factor\\\":0,\\\"delay factor\\\":5.0},\\\"nameSub\\\":\\\"MECH 325\\\",\\\"id\\\":26,\\\"credits\\\":3,\\\"nameCanonical\\\":\\\"\\\"},{\\\"curriculum_requisites\\\":[{\\\"source_id\\\":2,\\\"target_id\\\":27,\\\"type\\\":\\\"CurriculumPrerequisite\\\"},{\\\"source_id\\\":19,\\\"target_id\\\":27,\\\"type\\\":\\\"CurriculumPrerequisite\\\"},{\\\"source_id\\\":1,\\\"target_id\\\":27,\\\"type\\\":\\\"CurriculumPrerequisite\\\"}],\\\"name\\\":\\\" \\\",\\\"metrics\\\":{\\\"complexity\\\":7.0,\\\"centrality\\\":29,\\\"blocking factor\\\":1,\\\"delay factor\\\":6.0},\\\"nameSub\\\":\\\"MECH 331\\\",\\\"id\\\":27,\\\"credits\\\":4,\\\"nameCanonical\\\":\\\"\\\"},{\\\"curriculum_requisites\\\":[{\\\"source_id\\\":24,\\\"target_id\\\":28,\\\"type\\\":\\\"CurriculumPrerequisite\\\"}],\\\"name\\\":\\\" \\\",\\\"metrics\\\":{\\\"complexity\\\":9.0,\\\"centrality\\\":40,\\\"blocking factor\\\":2,\\\"delay factor\\\":7.0},\\\"nameSub\\\":\\\"MECH 338\\\",\\\"id\\\":28,\\\"credits\\\":1,\\\"nameCanonical\\\":\\\"\\\"},{\\\"curriculum_requisites\\\":[{\\\"source_id\\\":24,\\\"target_id\\\":29,\\\"type\\\":\\\"CurriculumPrerequisite\\\"}],\\\"name\\\":\\\" \\\",\\\"metrics\\\":{\\\"complexity\\\":6.0,\\\"centrality\\\":0,\\\"blocking factor\\\":0,\\\"delay factor\\\":6.0},\\\"nameSub\\\":\\\"MECH 344\\\",\\\"id\\\":29,\\\"credits\\\":3,\\\"nameCanonical\\\":\\\"\\\"}],\\\"id\\\":6},{\\\"name\\\":\\\"Term 7\\\",\\\"curriculum_items\\\":[{\\\"curriculum_requisites\\\":[{\\\"source_id\\\":23,\\\"target_id\\\":30,\\\"type\\\":\\\"CurriculumPrerequisite\\\"},{\\\"source_id\\\":27,\\\"target_id\\\":30,\\\"type\\\":\\\"CurriculumPrerequisite\\\"},{\\\"source_id\\\":22,\\\"target_id\\\":30,\\\"type\\\":\\\"CurriculumPrerequisite\\\"}],\\\"name\\\":\\\" \\\",\\\"metrics\\\":{\\\"complexity\\\":6.0,\\\"centrality\\\":0,\\\"blocking factor\\\":0,\\\"delay factor\\\":6.0},\\\"nameSub\\\":\\\"MECH 402\\\",\\\"id\\\":30,\\\"credits\\\":3,\\\"nameCanonical\\\":\\\"\\\"},{\\\"curriculum_requisites\\\":[],\\\"name\\\":\\\" \\\",\\\"metrics\\\":{\\\"complexity\\\":1.0,\\\"centrality\\\":0,\\\"blocking factor\\\":0,\\\"delay factor\\\":1.0},\\\"nameSub\\\":\\\"ELECTIVE 1\\\",\\\"id\\\":31,\\\"credits\\\":4,\\\"nameCanonical\\\":\\\"\\\"},{\\\"curriculum_requisites\\\":[],\\\"name\\\":\\\" \\\",\\\"metrics\\\":{\\\"complexity\\\":1.0,\\\"centrality\\\":0,\\\"blocking factor\\\":0,\\\"delay factor\\\":1.0},\\\"nameSub\\\":\\\"AUCC 3E\\\",\\\"id\\\":32,\\\"credits\\\":3,\\\"nameCanonical\\\":\\\"\\\"},{\\\"curriculum_requisites\\\":[],\\\"name\\\":\\\" \\\",\\\"metrics\\\":{\\\"complexity\\\":1.0,\\\"centrality\\\":0,\\\"blocking factor\\\":0,\\\"delay factor\\\":1.0},\\\"nameSub\\\":\\\"AUCC 3C\\\",\\\"id\\\":33,\\\"credits\\\":3,\\\"nameCanonical\\\":\\\"\\\"},{\\\"curriculum_requisites\\\":[],\\\"name\\\":\\\" \\\",\\\"metrics\\\":{\\\"complexity\\\":1.0,\\\"centrality\\\":0,\\\"blocking factor\\\":0,\\\"delay factor\\\":1.0},\\\"nameSub\\\":\\\"TECH ELECTIVE\\\",\\\"id\\\":34,\\\"credits\\\":3,\\\"nameCanonical\\\":\\\"\\\"}],\\\"id\\\":7},{\\\"name\\\":\\\"Term 8\\\",\\\"curriculum_items\\\":[{\\\"curriculum_requisites\\\":[{\\\"source_id\\\":28,\\\"target_id\\\":35,\\\"type\\\":\\\"CurriculumPrerequisite\\\"}],\\\"name\\\":\\\" \\\",\\\"metrics\\\":{\\\"complexity\\\":7.0,\\\"centrality\\\":0,\\\"blocking factor\\\":0,\\\"delay factor\\\":7.0},\\\"nameSub\\\":\\\"MECH 486B\\\",\\\"id\\\":35,\\\"credits\\\":4,\\\"nameCanonical\\\":\\\"\\\"},{\\\"curriculum_requisites\\\":[{\\\"source_id\\\":28,\\\"target_id\\\":36,\\\"type\\\":\\\"CurriculumPrerequisite\\\"}],\\\"name\\\":\\\" \\\",\\\"metrics\\\":{\\\"complexity\\\":7.0,\\\"centrality\\\":0,\\\"blocking factor\\\":0,\\\"delay factor\\\":7.0},\\\"nameSub\\\":\\\"MECH 498B\\\",\\\"id\\\":36,\\\"credits\\\":3,\\\"nameCanonical\\\":\\\"\\\"},{\\\"curriculum_requisites\\\":[],\\\"name\\\":\\\" \\\",\\\"metrics\\\":{\\\"complexity\\\":1.0,\\\"centrality\\\":0,\\\"blocking factor\\\":0,\\\"delay factor\\\":1.0},\\\"nameSub\\\":\\\"AUCC 3D\\\",\\\"id\\\":37,\\\"credits\\\":3,\\\"nameCanonical\\\":\\\"\\\"},{\\\"curriculum_requisites\\\":[],\\\"name\\\":\\\" \\\",\\\"metrics\\\":{\\\"complexity\\\":1.0,\\\"centrality\\\":0,\\\"blocking factor\\\":0,\\\"delay factor\\\":1.0},\\\"nameSub\\\":\\\"TECH ELECTIVE\\\",\\\"id\\\":38,\\\"credits\\\":3,\\\"nameCanonical\\\":\\\"\\\"},{\\\"curriculum_requisites\\\":[],\\\"name\\\":\\\" \\\",\\\"metrics\\\":{\\\"complexity\\\":1.0,\\\"centrality\\\":0,\\\"blocking factor\\\":0,\\\"delay factor\\\":1.0},\\\"nameSub\\\":\\\"TECH ELECTIVE\\\",\\\"id\\\":39,\\\"credits\\\":3,\\\"nameCanonical\\\":\\\"\\\"}],\\\"id\\\":8}],\\\"institution\\\":\\\"Colorado State University\\\"}},\\\"*\\\"); window.removeEventListener(\\\"message\\\",window.messageReceived); window.messageReceived=(function (event){return (event.data.curriculum!==undefined) ? (WebIO.setval({\\\"name\\\":\\\"curriculum-data\\\",\\\"scope\\\":\\\"8773462466384873277\\\",\\\"id\\\":\\\"10594152006794071\\\",\\\"type\\\":\\\"observable\\\"},event.data.curriculum)) : undefined}); return window.addEventListener(\\\"message\\\",window.messageReceived)})\")),:style => Dict(:padding => \"0\",:height => \"100vh\",:margin => \"0\",:border => \"none\",:width => \"100%\"))), Dict{String,Tuple{Observables.AbstractObservable,Union{Nothing, Bool}}}(\"curriculum-data\" => (Observable{Dict{String,Any}} with 1 listeners. Value:\n",
       "Dict{String,Any}(\"options\" => Dict{String,Any}(\"hideTerms\" => false,\"edit\" => false),\"curriculum\" => Dict{String,Any}(\"name\" => \"Mechanical Engineering\",\"dp_name\" => \"4-Year Plan\",\"curriculum_terms\" => Dict{String,Any}[Dict(\"name\" => \"Term 1\",\"curriculum_items\" => Dict{String,Any}[Dict(\"curriculum_requisites\" => Dict{String,Any}[],\"name\" => \" \",\"metrics\" => Dict{String,Any}(\"complexity\" => 5.0,\"centrality\" => 0,\"blocking factor\" => 2,\"delay factor\" => 3.0),\"nameSub\" => \"CHEM 111\",\"id\" => 1,\"credits\" => 4,\"nameCanonical\" => \"\"), Dict(\"curriculum_requisites\" => Dict{String,Any}[],\"name\" => \" \",\"metrics\" => Dict{String,Any}(\"complexity\" => 5.0,\"centrality\" => 0,\"blocking factor\" => 2,\"delay factor\" => 3.0),\"nameSub\" => \"CHEM 112\",\"id\" => 2,\"credits\" => 1,\"nameCanonical\" => \"\"), Dict(\"curriculum_requisites\" => Dict{String,Any}[],\"name\" => \" \",\"metrics\" => Dict{String,Any}(\"complexity\" => 1.0,\"centrality\" => 0,\"blocking factor\" => 0,\"delay factor\" => 1.0),\"nameSub\" => \"CO 150\",\"id\" => 3,\"credits\" => 3,\"nameCanonical\" => \"\"), Dict(\"curriculum_requisites\" => Dict{String,Any}[],\"name\" => \" \",\"metrics\" => Dict{String,Any}(\"complexity\" => 33.0,\"centrality\" => 0,\"blocking factor\" => 26,\"delay factor\" => 7.0),\"nameSub\" => \"MATH 160\",\"id\" => 4,\"credits\" => 4,\"nameCanonical\" => \"\"), Dict(\"curriculum_requisites\" => Dict{String,Any}[],\"name\" => \" \",\"metrics\" => Dict{String,Any}(\"complexity\" => 14.0,\"centrality\" => 0,\"blocking factor\" => 9,\"delay factor\" => 5.0),\"nameSub\" => \"MECH 103\",\"id\" => 5,\"credits\" => 3,\"nameCanonical\" => \"\")],\"id\" => 1), Dict(\"name\" => \"Term 2\",\"curriculum_items\" => Dict{String,Any}[Dict(\"curriculum_requisites\" => Dict{String,Any}[Dict(\"source_id\" => 4,\"target_id\" => 6,\"type\" => \"CurriculumPrerequisite\")],\"name\" => \" \",\"metrics\" => Dict{String,Any}(\"complexity\" => 22.0,\"centrality\" => 70,\"blocking factor\" => 15,\"delay factor\" => 7.0),\"nameSub\" => \"MATH 161\",\"id\" => 6,\"credits\" => 4,\"nameCanonical\" => \"\"), Dict(\"curriculum_requisites\" => Dict{String,Any}[Dict(\"source_id\" => 5,\"target_id\" => 7,\"type\" => \"CurriculumPrerequisite\"), Dict(\"source_id\" => 8,\"target_id\" => 7,\"type\" => \"CurriculumPrerequisite\")],\"name\" => \" \",\"metrics\" => Dict{String,Any}(\"complexity\" => 14.0,\"centrality\" => 44,\"blocking factor\" => 8,\"delay factor\" => 6.0),\"nameSub\" => \"MECH 105\",\"id\" => 7,\"credits\" => 3,\"nameCanonical\" => \"\"), Dict(\"curriculum_requisites\" => Dict{String,Any}[Dict(\"source_id\" => 4,\"target_id\" => 8,\"type\" => \"CurriculumPrerequisite\")],\"name\" => \" \",\"metrics\" => Dict{String,Any}(\"complexity\" => 28.0,\"centrality\" => 81,\"blocking factor\" => 22,\"delay factor\" => 6.0),\"nameSub\" => \"PH 141\",\"id\" => 8,\"credits\" => 5,\"nameCanonical\" => \"\"), Dict(\"curriculum_requisites\" => Dict{String,Any}[],\"name\" => \" \",\"metrics\" => Dict{String,Any}(\"complexity\" => 1.0,\"centrality\" => 0,\"blocking factor\" => 0,\"delay factor\" => 1.0),\"nameSub\" => \"AUCC 3B\",\"id\" => 9,\"credits\" => 6,\"nameCanonical\" => \"\")],\"id\" => 2), Dict(\"name\" => \"Term 3\",\"curriculum_items\" => Dict{String,Any}[Dict(\"curriculum_requisites\" => Dict{String,Any}[Dict(\"source_id\" => 8,\"target_id\" => 10,\"type\" => \"CurriculumPrerequisite\")],\"name\" => \" \",\"metrics\" => Dict{String,Any}(\"complexity\" => 13.0,\"centrality\" => 22,\"blocking factor\" => 7,\"delay factor\" => 6.0),\"nameSub\" => \"CIVE 260\",\"id\" => 10,\"credits\" => 3,\"nameCanonical\" => \"\"), Dict(\"curriculum_requisites\" => Dict{String,Any}[Dict(\"source_id\" => 6,\"target_id\" => 11,\"type\" => \"CurriculumPrerequisite\")],\"name\" => \" \",\"metrics\" => Dict{String,Any}(\"complexity\" => 17.0,\"centrality\" => 52,\"blocking factor\" => 10,\"delay factor\" => 7.0),\"nameSub\" => \"MATH 261\",\"id\" => 11,\"credits\" => 4,\"nameCanonical\" => \"\"), Dict(\"curriculum_requisites\" => Dict{String,Any}[Dict(\"source_id\" => 7,\"target_id\" => 12,\"type\" => \"CurriculumPrerequisite\")],\"name\" => \" \",\"metrics\" => Dict{String,Any}(\"complexity\" => 8.0,\"centrality\" => 11,\"blocking factor\" => 2,\"delay factor\" => 6.0),\"nameSub\" => \"MECH 200\",\"id\" => 12,\"credits\" => 3,\"nameCanonical\" => \"\"), Dict(\"curriculum_requisites\" => Dict{String,Any}[Dict(\"source_id\" => 7,\"target_id\" => 13,\"type\" => \"CurriculumPrerequisite\")],\"name\" => \" \",\"metrics\" => Dict{String,Any}(\"complexity\" => 8.0,\"centrality\" => 11,\"blocking factor\" => 2,\"delay factor\" => 6.0),\"nameSub\" => \"MECH 201\",\"id\" => 13,\"credits\" => 2,\"nameCanonical\" => \"\"), Dict(\"curriculum_requisites\" => Dict{String,Any}[Dict(\"source_id\" => 8,\"target_id\" => 14,\"type\" => \"CurriculumPrerequisite\"), Dict(\"source_id\" => 6,\"target_id\" => 14,\"type\" => \"CurriculumPrerequisite\")],\"name\" => \" \",\"metrics\" => Dict{String,Any}(\"complexity\" => 11.0,\"centrality\" => 36,\"blocking factor\" => 5,\"delay factor\" => 6.0),\"nameSub\" => \"PH 142\",\"id\" => 14,\"credits\" => 5,\"nameCanonical\" => \"\")],\"id\" => 3), Dict(\"name\" => \"Term 4\",\"curriculum_items\" => Dict{String,Any}[Dict(\"curriculum_requisites\" => Dict{String,Any}[Dict(\"source_id\" => 10,\"target_id\" => 15,\"type\" => \"CurriculumPrerequisite\")],\"name\" => \" \",\"metrics\" => Dict{String,Any}(\"complexity\" => 9.0,\"centrality\" => 12,\"blocking factor\" => 3,\"delay factor\" => 6.0),\"nameSub\" => \"CIVE 261\",\"id\" => 15,\"credits\" => 3,\"nameCanonical\" => \"\"), Dict(\"curriculum_requisites\" => Dict{String,Any}[Dict(\"source_id\" => 14,\"target_id\" => 16,\"type\" => \"CurriculumPrerequisite\")],\"name\" => \" \",\"metrics\" => Dict{String,Any}(\"complexity\" => 8.0,\"centrality\" => 12,\"blocking factor\" => 2,\"delay factor\" => 6.0),\"nameSub\" => \"ECE 204\",\"id\" => 16,\"credits\" => 3,\"nameCanonical\" => \"\"), Dict(\"curriculum_requisites\" => Dict{String,Any}[Dict(\"source_id\" => 11,\"target_id\" => 17,\"type\" => \"CurriculumPrerequisite\")],\"name\" => \" \",\"metrics\" => Dict{String,Any}(\"complexity\" => 15.0,\"centrality\" => 32,\"blocking factor\" => 8,\"delay factor\" => 7.0),\"nameSub\" => \"MATH 340\",\"id\" => 17,\"credits\" => 4,\"nameCanonical\" => \"\"), Dict(\"curriculum_requisites\" => Dict{String,Any}[Dict(\"source_id\" => 13,\"target_id\" => 18,\"type\" => \"CurriculumPrerequisite\"), Dict(\"source_id\" => 12,\"target_id\" => 18,\"type\" => \"CurriculumPrerequisite\")],\"name\" => \" \",\"metrics\" => Dict{String,Any}(\"complexity\" => 7.0,\"centrality\" => 22,\"blocking factor\" => 1,\"delay factor\" => 6.0),\"nameSub\" => \"MECH 202\",\"id\" => 18,\"credits\" => 3,\"nameCanonical\" => \"\"), Dict(\"curriculum_requisites\" => Dict{String,Any}[Dict(\"source_id\" => 7,\"target_id\" => 19,\"type\" => \"CurriculumPrerequisite\"), Dict(\"source_id\" => 14,\"target_id\" => 19,\"type\" => \"CurriculumPrerequisite\")],\"name\" => \" \",\"metrics\" => Dict{String,Any}(\"complexity\" => 9.0,\"centrality\" => 46,\"blocking factor\" => 3,\"delay factor\" => 6.0),\"nameSub\" => \"MECH 231\",\"id\" => 19,\"credits\" => 3,\"nameCanonical\" => \"\"), Dict(\"curriculum_requisites\" => Dict{String,Any}[Dict(\"source_id\" => 11,\"target_id\" => 20,\"type\" => \"CurriculumPrerequisite\"), Dict(\"source_id\" => 8,\"target_id\" => 20,\"type\" => \"CurriculumPrerequisite\")],\"name\" => \" \",\"metrics\" => Dict{String,Any}(\"complexity\" => 12.0,\"centrality\" => 37,\"blocking factor\" => 5,\"delay factor\" => 7.0),\"nameSub\" => \"MECH 337\",\"id\" => 20,\"credits\" => 4,\"nameCanonical\" => \"\")],\"id\" => 4), Dict(\"name\" => \"Term 5\",\"curriculum_items\" => Dict{String,Any}[Dict(\"curriculum_requisites\" => Dict{String,Any}[Dict(\"source_id\" => 10,\"target_id\" => 21,\"type\" => \"CurriculumPrerequisite\")],\"name\" => \" \",\"metrics\" => Dict{String,Any}(\"complexity\" => 7.0,\"centrality\" => 10,\"blocking factor\" => 2,\"delay factor\" => 5.0),\"nameSub\" => \"CIVE 360\",\"id\" => 21,\"credits\" => 3,\"nameCanonical\" => \"\"), Dict(\"curriculum_requisites\" => Dict{String,Any}[Dict(\"source_id\" => 16,\"target_id\" => 22,\"type\" => \"CurriculumPrerequisite\"), Dict(\"source_id\" => 17,\"target_id\" => 22,\"type\" => \"CurriculumPrerequisite\"), Dict(\"source_id\" => 19,\"target_id\" => 22,\"type\" => \"CurriculumPrerequisite\"), Dict(\"source_id\" => 15,\"target_id\" => 22,\"type\" => \"CurriculumPrerequisite\")],\"name\" => \" \",\"metrics\" => Dict{String,Any}(\"complexity\" => 7.0,\"centrality\" => 47,\"blocking factor\" => 1,\"delay factor\" => 6.0),\"nameSub\" => \"MECH 307\",\"id\" => 22,\"credits\" => 4,\"nameCanonical\" => \"\"), Dict(\"curriculum_requisites\" => Dict{String,Any}[Dict(\"source_id\" => 17,\"target_id\" => 23,\"type\" => \"CurriculumPrerequisite\"), Dict(\"source_id\" => 15,\"target_id\" => 23,\"type\" => \"CurriculumPrerequisite\")],\"name\" => \" \",\"metrics\" => Dict{String,Any}(\"complexity\" => 7.0,\"centrality\" => 12,\"blocking factor\" => 1,\"delay factor\" => 6.0),\"nameSub\" => \"MECH 324\",\"id\" => 23,\"credits\" => 4,\"nameCanonical\" => \"\"), Dict(\"curriculum_requisites\" => Dict{String,Any}[Dict(\"source_id\" => 17,\"target_id\" => 24,\"type\" => \"CurriculumPrerequisite\"), Dict(\"source_id\" => 20,\"target_id\" => 24,\"type\" => \"CurriculumPrerequisite\")],\"name\" => \" \",\"metrics\" => Dict{String,Any}(\"complexity\" => 11.0,\"centrality\" => 57,\"blocking factor\" => 4,\"delay factor\" => 7.0),\"nameSub\" => \"MECH 342\",\"id\" => 24,\"credits\" => 3,\"nameCanonical\" => \"\")],\"id\" => 5), Dict(\"name\" => \"Term 6\",\"curriculum_items\" => Dict{String,Any}[Dict(\"curriculum_requisites\" => Dict{String,Any}[Dict(\"source_id\" => 21,\"target_id\" => 25,\"type\" => \"CurriculumPrerequisite\"), Dict(\"source_id\" => 18,\"target_id\" => 25,\"type\" => \"CurriculumPrerequisite\")],\"name\" => \" \",\"metrics\" => Dict{String,Any}(\"complexity\" => 6.0,\"centrality\" => 0,\"blocking factor\" => 0,\"delay factor\" => 6.0),\"nameSub\" => \"MECH 301\",\"id\" => 25,\"credits\" => 2,\"nameCanonical\" => \"\"), Dict(\"curriculum_requisites\" => Dict{String,Any}[Dict(\"source_id\" => 21,\"target_id\" => 26,\"type\" => \"CurriculumPrerequisite\")],\"name\" => \" \",\"metrics\" => Dict{String,Any}(\"complexity\" => 5.0,\"centrality\" => 0,\"blocking factor\" => 0,\"delay factor\" => 5.0),\"nameSub\" => \"MECH 325\",\"id\" => 26,\"credits\" => 3,\"nameCanonical\" => \"\"), Dict(\"curriculum_requisites\" => Dict{String,Any}[Dict(\"source_id\" => 2,\"target_id\" => 27,\"type\" => \"CurriculumPrerequisite\"), Dict(\"source_id\" => 19,\"target_id\" => 27,\"type\" => \"CurriculumPrerequisite\"), Dict(\"source_id\" => 1,\"target_id\" => 27,\"type\" => \"CurriculumPrerequisite\")],\"name\" => \" \",\"metrics\" => Dict{String,Any}(\"complexity\" => 7.0,\"centrality\" => 29,\"blocking factor\" => 1,\"delay factor\" => 6.0),\"nameSub\" => \"MECH 331\",\"id\" => 27,\"credits\" => 4,\"nameCanonical\" => \"\"), Dict(\"curriculum_requisites\" => Dict{String,Any}[Dict(\"source_id\" => 24,\"target_id\" => 28,\"type\" => \"CurriculumPrerequisite\")],\"name\" => \" \",\"metrics\" => Dict{String,Any}(\"complexity\" => 9.0,\"centrality\" => 40,\"blocking factor\" => 2,\"delay factor\" => 7.0),\"nameSub\" => \"MECH 338\",\"id\" => 28,\"credits\" => 1,\"nameCanonical\" => \"\"), Dict(\"curriculum_requisites\" => Dict{String,Any}[Dict(\"source_id\" => 24,\"target_id\" => 29,\"type\" => \"CurriculumPrerequisite\")],\"name\" => \" \",\"metrics\" => Dict{String,Any}(\"complexity\" => 6.0,\"centrality\" => 0,\"blocking factor\" => 0,\"delay factor\" => 6.0),\"nameSub\" => \"MECH 344\",\"id\" => 29,\"credits\" => 3,\"nameCanonical\" => \"\")],\"id\" => 6), Dict(\"name\" => \"Term 7\",\"curriculum_items\" => Dict{String,Any}[Dict(\"curriculum_requisites\" => Dict{String,Any}[Dict(\"source_id\" => 23,\"target_id\" => 30,\"type\" => \"CurriculumPrerequisite\"), Dict(\"source_id\" => 27,\"target_id\" => 30,\"type\" => \"CurriculumPrerequisite\"), Dict(\"source_id\" => 22,\"target_id\" => 30,\"type\" => \"CurriculumPrerequisite\")],\"name\" => \" \",\"metrics\" => Dict{String,Any}(\"complexity\" => 6.0,\"centrality\" => 0,\"blocking factor\" => 0,\"delay factor\" => 6.0),\"nameSub\" => \"MECH 402\",\"id\" => 30,\"credits\" => 3,\"nameCanonical\" => \"\"), Dict(\"curriculum_requisites\" => Dict{String,Any}[],\"name\" => \" \",\"metrics\" => Dict{String,Any}(\"complexity\" => 1.0,\"centrality\" => 0,\"blocking factor\" => 0,\"delay factor\" => 1.0),\"nameSub\" => \"ELECTIVE 1\",\"id\" => 31,\"credits\" => 4,\"nameCanonical\" => \"\"), Dict(\"curriculum_requisites\" => Dict{String,Any}[],\"name\" => \" \",\"metrics\" => Dict{String,Any}(\"complexity\" => 1.0,\"centrality\" => 0,\"blocking factor\" => 0,\"delay factor\" => 1.0),\"nameSub\" => \"AUCC 3E\",\"id\" => 32,\"credits\" => 3,\"nameCanonical\" => \"\"), Dict(\"curriculum_requisites\" => Dict{String,Any}[],\"name\" => \" \",\"metrics\" => Dict{String,Any}(\"complexity\" => 1.0,\"centrality\" => 0,\"blocking factor\" => 0,\"delay factor\" => 1.0),\"nameSub\" => \"AUCC 3C\",\"id\" => 33,\"credits\" => 3,\"nameCanonical\" => \"\"), Dict(\"curriculum_requisites\" => Dict{String,Any}[],\"name\" => \" \",\"metrics\" => Dict{String,Any}(\"complexity\" => 1.0,\"centrality\" => 0,\"blocking factor\" => 0,\"delay factor\" => 1.0),\"nameSub\" => \"TECH ELECTIVE\",\"id\" => 34,\"credits\" => 3,\"nameCanonical\" => \"\")],\"id\" => 7), Dict(\"name\" => \"Term 8\",\"curriculum_items\" => Dict{String,Any}[Dict(\"curriculum_requisites\" => Dict{String,Any}[Dict(\"source_id\" => 28,\"target_id\" => 35,\"type\" => \"CurriculumPrerequisite\")],\"name\" => \" \",\"metrics\" => Dict{String,Any}(\"complexity\" => 7.0,\"centrality\" => 0,\"blocking factor\" => 0,\"delay factor\" => 7.0),\"nameSub\" => \"MECH 486B\",\"id\" => 35,\"credits\" => 4,\"nameCanonical\" => \"\"), Dict(\"curriculum_requisites\" => Dict{String,Any}[Dict(\"source_id\" => 28,\"target_id\" => 36,\"type\" => \"CurriculumPrerequisite\")],\"name\" => \" \",\"metrics\" => Dict{String,Any}(\"complexity\" => 7.0,\"centrality\" => 0,\"blocking factor\" => 0,\"delay factor\" => 7.0),\"nameSub\" => \"MECH 498B\",\"id\" => 36,\"credits\" => 3,\"nameCanonical\" => \"\"), Dict(\"curriculum_requisites\" => Dict{String,Any}[],\"name\" => \" \",\"metrics\" => Dict{String,Any}(\"complexity\" => 1.0,\"centrality\" => 0,\"blocking factor\" => 0,\"delay factor\" => 1.0),\"nameSub\" => \"AUCC 3D\",\"id\" => 37,\"credits\" => 3,\"nameCanonical\" => \"\"), Dict(\"curriculum_requisites\" => Dict{String,Any}[],\"name\" => \" \",\"metrics\" => Dict{String,Any}(\"complexity\" => 1.0,\"centrality\" => 0,\"blocking factor\" => 0,\"delay factor\" => 1.0),\"nameSub\" => \"TECH ELECTIVE\",\"id\" => 38,\"credits\" => 3,\"nameCanonical\" => \"\"), Dict(\"curriculum_requisites\" => Dict{String,Any}[],\"name\" => \" \",\"metrics\" => Dict{String,Any}(\"complexity\" => 1.0,\"centrality\" => 0,\"blocking factor\" => 0,\"delay factor\" => 1.0),\"nameSub\" => \"TECH ELECTIVE\",\"id\" => 39,\"credits\" => 3,\"nameCanonical\" => \"\")],\"id\" => 8)],\"institution\" => \"Colorado State University\")), nothing)), Set{String}(), nothing, WebIO.Asset[], Dict{Any,Any}(), WebIO.ConnectionPool(Channel{Any}(sz_max:32,sz_curr:0), Set{WebIO.AbstractConnection}(), Base.GenericCondition{Base.AlwaysLockedST}(Base.InvasiveLinkedList{Task}(Task (runnable) @0x0000000120eef850, Task (runnable) @0x0000000120eef850), Base.AlwaysLockedST(1))), WebIO.JSString[])"
      ]
     },
     "execution_count": 11,
     "metadata": {
      "application/vnd.webio.node+json": {
       "kernelId": null
      }
     },
     "output_type": "execute_result"
    }
   ],
   "source": [
    "dp = schools_plans[\"colorado-state\"][\"mechanical-engineering\"]\n",
    "visualize(dp, notebook=true)"
   ]
  },
  {
   "cell_type": "code",
   "execution_count": 12,
   "metadata": {},
   "outputs": [
    {
     "data": {
      "application/vnd.webio.node+json": {
       "children": [
        {
         "children": [
          ""
         ],
         "instanceArgs": {
          "namespace": "html",
          "tag": "iframe"
         },
         "nodeType": "DOM",
         "props": {
          "events": {
           "load": "(function (){this.contentWindow.postMessage({\"options\":{\"hideTerms\":false,\"edit\":false},\"curriculum\":{\"name\":\"Mechanical Engineering\",\"dp_name\":\"4-Year Plan\",\"curriculum_terms\":[{\"name\":\"Term 1\",\"curriculum_items\":[{\"curriculum_requisites\":[],\"name\":\" \",\"metrics\":{\"complexity\":1.0,\"centrality\":0,\"blocking factor\":0,\"delay factor\":1.0},\"nameSub\":\"ENGL 111G\",\"id\":1,\"credits\":4,\"nameCanonical\":\"\"},{\"curriculum_requisites\":[],\"name\":\" \",\"metrics\":{\"complexity\":18.0,\"centrality\":0,\"blocking factor\":12,\"delay factor\":6.0},\"nameSub\":\"MATH 191G\",\"id\":2,\"credits\":4,\"nameCanonical\":\"\"},{\"curriculum_requisites\":[],\"name\":\" \",\"metrics\":{\"complexity\":3.0,\"centrality\":0,\"blocking factor\":1,\"delay factor\":2.0},\"nameSub\":\"M E 159\",\"id\":3,\"credits\":2,\"nameCanonical\":\"\"},{\"curriculum_requisites\":[],\"name\":\" \",\"metrics\":{\"complexity\":1.0,\"centrality\":0,\"blocking factor\":0,\"delay factor\":1.0},\"nameSub\":\"ENGR 100\",\"id\":4,\"credits\":3,\"nameCanonical\":\"\"}],\"id\":1},{\"name\":\"Term 2\",\"curriculum_items\":[{\"curriculum_requisites\":[{\"source_id\":2,\"target_id\":5,\"type\":\"CurriculumPrerequisite\"}],\"name\":\" \",\"metrics\":{\"complexity\":2.0,\"centrality\":0,\"blocking factor\":0,\"delay factor\":2.0},\"nameSub\":\"MATH 192G \",\"id\":5,\"credits\":4,\"nameCanonical\":\"\"},{\"curriculum_requisites\":[{\"source_id\":2,\"target_id\":6,\"type\":\"CurriculumPrerequisite\"}],\"name\":\" \",\"metrics\":{\"complexity\":16.0,\"centrality\":22,\"blocking factor\":10,\"delay factor\":6.0},\"nameSub\":\"PHYS 215G\",\"id\":6,\"credits\":3,\"nameCanonical\":\"\"},{\"curriculum_requisites\":[{\"source_id\":6,\"target_id\":7,\"type\":\"CurriculumCorequisite\"}],\"name\":\" \",\"metrics\":{\"complexity\":3.0,\"centrality\":0,\"blocking factor\":0,\"delay factor\":3.0},\"nameSub\":\"PHYS 215GL\",\"id\":7,\"credits\":1,\"nameCanonical\":\"\"},{\"curriculum_requisites\":[{\"source_id\":3,\"target_id\":8,\"type\":\"CurriculumPrerequisite\"}],\"name\":\" \",\"metrics\":{\"complexity\":2.0,\"centrality\":0,\"blocking factor\":0,\"delay factor\":2.0},\"nameSub\":\"M E 222\",\"id\":8,\"credits\":3,\"nameCanonical\":\"\"},{\"curriculum_requisites\":[],\"name\":\" \",\"metrics\":{\"complexity\":1.0,\"centrality\":0,\"blocking factor\":0,\"delay factor\":1.0},\"nameSub\":\"English Comp\",\"id\":9,\"credits\":3,\"nameCanonical\":\"\"}],\"id\":2},{\"name\":\"Term 3\",\"curriculum_items\":[{\"curriculum_requisites\":[{\"source_id\":6,\"target_id\":10,\"type\":\"CurriculumCorequisite\"}],\"name\":\" \",\"metrics\":{\"complexity\":11.0,\"centrality\":11,\"blocking factor\":5,\"delay factor\":6.0},\"nameSub\":\"M E 236\",\"id\":10,\"credits\":4,\"nameCanonical\":\"\"},{\"curriculum_requisites\":[],\"name\":\" \",\"metrics\":{\"complexity\":1.0,\"centrality\":0,\"blocking factor\":0,\"delay factor\":1.0},\"nameSub\":\"MATH 291G\",\"id\":11,\"credits\":3,\"nameCanonical\":\"\"},{\"curriculum_requisites\":[],\"name\":\" \",\"metrics\":{\"complexity\":1.0,\"centrality\":0,\"blocking factor\":0,\"delay factor\":1.0},\"nameSub\":\"PHYS 216G\",\"id\":12,\"credits\":3,\"nameCanonical\":\"\"},{\"curriculum_requisites\":[],\"name\":\" \",\"metrics\":{\"complexity\":1.0,\"centrality\":0,\"blocking factor\":0,\"delay factor\":1.0},\"nameSub\":\"M E 210\",\"id\":13,\"credits\":3,\"nameCanonical\":\"\"},{\"curriculum_requisites\":[],\"name\":\" \",\"metrics\":{\"complexity\":1.0,\"centrality\":0,\"blocking factor\":0,\"delay factor\":1.0},\"nameSub\":\"M E 261\",\"id\":14,\"credits\":3,\"nameCanonical\":\"\"}],\"id\":3},{\"name\":\"Term 4\",\"curriculum_items\":[{\"curriculum_requisites\":[],\"name\":\" \",\"metrics\":{\"complexity\":7.0,\"centrality\":0,\"blocking factor\":4,\"delay factor\":3.0},\"nameSub\":\"M E 228\",\"id\":15,\"credits\":3,\"nameCanonical\":\"\"},{\"curriculum_requisites\":[{\"source_id\":10,\"target_id\":16,\"type\":\"CurriculumPrerequisite\"}],\"name\":\" \",\"metrics\":{\"complexity\":8.0,\"centrality\":6,\"blocking factor\":2,\"delay factor\":6.0},\"nameSub\":\"M E 237\",\"id\":16,\"credits\":3,\"nameCanonical\":\"\"},{\"curriculum_requisites\":[{\"source_id\":10,\"target_id\":17,\"type\":\"CurriculumPrerequisite\"}],\"name\":\" \",\"metrics\":{\"complexity\":6.0,\"centrality\":5,\"blocking factor\":1,\"delay factor\":5.0},\"nameSub\":\"C E 301\",\"id\":17,\"credits\":3,\"nameCanonical\":\"\"},{\"curriculum_requisites\":[{\"source_id\":6,\"target_id\":18,\"type\":\"CurriculumPrerequisite\"}],\"name\":\" \",\"metrics\":{\"complexity\":6.0,\"centrality\":8,\"blocking factor\":2,\"delay factor\":4.0},\"nameSub\":\"M E 240\",\"id\":18,\"credits\":3,\"nameCanonical\":\"\"},{\"curriculum_requisites\":[],\"name\":\" \",\"metrics\":{\"complexity\":1.0,\"centrality\":0,\"blocking factor\":0,\"delay factor\":1.0},\"nameSub\":\"Oral Comm\",\"id\":19,\"credits\":3,\"nameCanonical\":\"\"}],\"id\":4},{\"name\":\"Term 5\",\"curriculum_items\":[{\"curriculum_requisites\":[{\"source_id\":15,\"target_id\":20,\"type\":\"CurriculumPrerequisite\"}],\"name\":\" \",\"metrics\":{\"complexity\":2.0,\"centrality\":0,\"blocking factor\":0,\"delay factor\":2.0},\"nameSub\":\"M E 238\",\"id\":20,\"credits\":3,\"nameCanonical\":\"\"},{\"curriculum_requisites\":[{\"source_id\":15,\"target_id\":21,\"type\":\"CurriculumPrerequisite\"}],\"name\":\" \",\"metrics\":{\"complexity\":4.0,\"centrality\":3,\"blocking factor\":1,\"delay factor\":3.0},\"nameSub\":\"M E 338\",\"id\":21,\"credits\":3,\"nameCanonical\":\"\"},{\"curriculum_requisites\":[],\"name\":\" \",\"metrics\":{\"complexity\":1.0,\"centrality\":0,\"blocking factor\":0,\"delay factor\":1.0},\"nameSub\":\"CHME 361\",\"id\":22,\"credits\":3,\"nameCanonical\":\"\"},{\"curriculum_requisites\":[{\"source_id\":18,\"target_id\":23,\"type\":\"CurriculumPrerequisite\"}],\"name\":\" \",\"metrics\":{\"complexity\":4.0,\"centrality\":0,\"blocking factor\":0,\"delay factor\":4.0},\"nameSub\":\"M E 340\",\"id\":23,\"credits\":3,\"nameCanonical\":\"\"},{\"curriculum_requisites\":[],\"name\":\" \",\"metrics\":{\"complexity\":1.0,\"centrality\":0,\"blocking factor\":0,\"delay factor\":1.0},\"nameSub\":\"M E 349\",\"id\":24,\"credits\":1,\"nameCanonical\":\"\"},{\"curriculum_requisites\":[],\"name\":\" \",\"metrics\":{\"complexity\":1.0,\"centrality\":0,\"blocking factor\":0,\"delay factor\":1.0},\"nameSub\":\"Fine Arts\",\"id\":25,\"credits\":3,\"nameCanonical\":\"\"}],\"id\":5},{\"name\":\"Term 6\",\"curriculum_items\":[{\"curriculum_requisites\":[{\"source_id\":16,\"target_id\":26,\"type\":\"CurriculumPrerequisite\"}],\"name\":\" \",\"metrics\":{\"complexity\":7.0,\"centrality\":6,\"blocking factor\":1,\"delay factor\":6.0},\"nameSub\":\"M E 326\",\"id\":26,\"credits\":3,\"nameCanonical\":\"\"},{\"curriculum_requisites\":[],\"name\":\" \",\"metrics\":{\"complexity\":1.0,\"centrality\":0,\"blocking factor\":0,\"delay factor\":1.0},\"nameSub\":\"Mech Elective\",\"id\":27,\"credits\":3,\"nameCanonical\":\"\"},{\"curriculum_requisites\":[{\"source_id\":17,\"target_id\":28,\"type\":\"CurriculumCorequisite\"},{\"source_id\":15,\"target_id\":28,\"type\":\"CurriculumPrerequisite\"}],\"name\":\" \",\"metrics\":{\"complexity\":5.0,\"centrality\":0,\"blocking factor\":0,\"delay factor\":5.0},\"nameSub\":\"M E 345\",\"id\":28,\"credits\":3,\"nameCanonical\":\"\"},{\"curriculum_requisites\":[{\"source_id\":18,\"target_id\":29,\"type\":\"CurriculumPrerequisite\"}],\"name\":\" \",\"metrics\":{\"complexity\":4.0,\"centrality\":0,\"blocking factor\":0,\"delay factor\":4.0},\"nameSub\":\"M E 341\",\"id\":29,\"credits\":3,\"nameCanonical\":\"\"},{\"curriculum_requisites\":[],\"name\":\" \",\"metrics\":{\"complexity\":1.0,\"centrality\":0,\"blocking factor\":0,\"delay factor\":1.0},\"nameSub\":\"Humanities\",\"id\":30,\"credits\":3,\"nameCanonical\":\"\"}],\"id\":6},{\"name\":\"Term 7\",\"curriculum_items\":[{\"curriculum_requisites\":[],\"name\":\" \",\"metrics\":{\"complexity\":1.0,\"centrality\":0,\"blocking factor\":0,\"delay factor\":1.0},\"nameSub\":\"PHYS 303V\",\"id\":31,\"credits\":3,\"nameCanonical\":\"\"},{\"curriculum_requisites\":[],\"name\":\" \",\"metrics\":{\"complexity\":3.0,\"centrality\":0,\"blocking factor\":1,\"delay factor\":2.0},\"nameSub\":\"ENGR 401\",\"id\":32,\"credits\":3,\"nameCanonical\":\"\"},{\"curriculum_requisites\":[{\"source_id\":26,\"target_id\":33,\"type\":\"CurriculumPrerequisite\"}],\"name\":\" \",\"metrics\":{\"complexity\":6.0,\"centrality\":0,\"blocking factor\":0,\"delay factor\":6.0},\"nameSub\":\"M E 425\",\"id\":33,\"credits\":3,\"nameCanonical\":\"\"},{\"curriculum_requisites\":[{\"source_id\":21,\"target_id\":34,\"type\":\"CurriculumPrerequisite\"}],\"name\":\" \",\"metrics\":{\"complexity\":3.0,\"centrality\":0,\"blocking factor\":0,\"delay factor\":3.0},\"nameSub\":\"M E 445\",\"id\":34,\"credits\":3,\"nameCanonical\":\"\"},{\"curriculum_requisites\":[],\"name\":\" \",\"metrics\":{\"complexity\":1.0,\"centrality\":0,\"blocking factor\":0,\"delay factor\":1.0},\"nameSub\":\"Behav Sci\",\"id\":35,\"credits\":3,\"nameCanonical\":\"\"}],\"id\":7},{\"name\":\"Term 8\",\"curriculum_items\":[{\"curriculum_requisites\":[{\"source_id\":32,\"target_id\":36,\"type\":\"CurriculumPrerequisite\"}],\"name\":\" \",\"metrics\":{\"complexity\":2.0,\"centrality\":0,\"blocking factor\":0,\"delay factor\":2.0},\"nameSub\":\"ENGR 402\",\"id\":36,\"credits\":3,\"nameCanonical\":\"\"},{\"curriculum_requisites\":[],\"name\":\" \",\"metrics\":{\"complexity\":1.0,\"centrality\":0,\"blocking factor\":0,\"delay factor\":1.0},\"nameSub\":\"Elective\",\"id\":37,\"credits\":6,\"nameCanonical\":\"\"},{\"curriculum_requisites\":[],\"name\":\" \",\"metrics\":{\"complexity\":1.0,\"centrality\":0,\"blocking factor\":0,\"delay factor\":1.0},\"nameSub\":\"VWW\",\"id\":38,\"credits\":3,\"nameCanonical\":\"\"},{\"curriculum_requisites\":[],\"name\":\" \",\"metrics\":{\"complexity\":1.0,\"centrality\":0,\"blocking factor\":0,\"delay factor\":1.0},\"nameSub\":\"Elective\",\"id\":39,\"credits\":1,\"nameCanonical\":\"\"}],\"id\":8}],\"institution\":\"New Mexico State University\"}},\"*\"); window.removeEventListener(\"message\",window.messageReceived); window.messageReceived=(function (event){return (event.data.curriculum!==undefined) ? (WebIO.setval({\"name\":\"curriculum-data\",\"scope\":\"1791077681253331247\",\"id\":\"6277485604842161903\",\"type\":\"observable\"},event.data.curriculum)) : undefined}); return window.addEventListener(\"message\",window.messageReceived)})"
          },
          "id": "curriculum",
          "src": "http://localhost:8156",
          "style": {
           "border": "none",
           "height": "100vh",
           "margin": "0",
           "padding": "0",
           "width": "100%"
          }
         },
         "type": "node"
        }
       ],
       "instanceArgs": {
        "handlers": {},
        "id": "1791077681253331247",
        "imports": {
         "data": [],
         "type": "async_block"
        },
        "mount_callbacks": [],
        "observables": {
         "curriculum-data": {
          "id": "6277485604842161903",
          "sync": true,
          "value": {
           "curriculum": {
            "curriculum_terms": [
             {
              "curriculum_items": [
               {
                "credits": 4,
                "curriculum_requisites": [],
                "id": 1,
                "metrics": {
                 "blocking factor": 0,
                 "centrality": 0,
                 "complexity": 1,
                 "delay factor": 1
                },
                "name": " ",
                "nameCanonical": "",
                "nameSub": "ENGL 111G"
               },
               {
                "credits": 4,
                "curriculum_requisites": [],
                "id": 2,
                "metrics": {
                 "blocking factor": 12,
                 "centrality": 0,
                 "complexity": 18,
                 "delay factor": 6
                },
                "name": " ",
                "nameCanonical": "",
                "nameSub": "MATH 191G"
               },
               {
                "credits": 2,
                "curriculum_requisites": [],
                "id": 3,
                "metrics": {
                 "blocking factor": 1,
                 "centrality": 0,
                 "complexity": 3,
                 "delay factor": 2
                },
                "name": " ",
                "nameCanonical": "",
                "nameSub": "M E 159"
               },
               {
                "credits": 3,
                "curriculum_requisites": [],
                "id": 4,
                "metrics": {
                 "blocking factor": 0,
                 "centrality": 0,
                 "complexity": 1,
                 "delay factor": 1
                },
                "name": " ",
                "nameCanonical": "",
                "nameSub": "ENGR 100"
               }
              ],
              "id": 1,
              "name": "Term 1"
             },
             {
              "curriculum_items": [
               {
                "credits": 4,
                "curriculum_requisites": [
                 {
                  "source_id": 2,
                  "target_id": 5,
                  "type": "CurriculumPrerequisite"
                 }
                ],
                "id": 5,
                "metrics": {
                 "blocking factor": 0,
                 "centrality": 0,
                 "complexity": 2,
                 "delay factor": 2
                },
                "name": " ",
                "nameCanonical": "",
                "nameSub": "MATH 192G "
               },
               {
                "credits": 3,
                "curriculum_requisites": [
                 {
                  "source_id": 2,
                  "target_id": 6,
                  "type": "CurriculumPrerequisite"
                 }
                ],
                "id": 6,
                "metrics": {
                 "blocking factor": 10,
                 "centrality": 22,
                 "complexity": 16,
                 "delay factor": 6
                },
                "name": " ",
                "nameCanonical": "",
                "nameSub": "PHYS 215G"
               },
               {
                "credits": 1,
                "curriculum_requisites": [
                 {
                  "source_id": 6,
                  "target_id": 7,
                  "type": "CurriculumCorequisite"
                 }
                ],
                "id": 7,
                "metrics": {
                 "blocking factor": 0,
                 "centrality": 0,
                 "complexity": 3,
                 "delay factor": 3
                },
                "name": " ",
                "nameCanonical": "",
                "nameSub": "PHYS 215GL"
               },
               {
                "credits": 3,
                "curriculum_requisites": [
                 {
                  "source_id": 3,
                  "target_id": 8,
                  "type": "CurriculumPrerequisite"
                 }
                ],
                "id": 8,
                "metrics": {
                 "blocking factor": 0,
                 "centrality": 0,
                 "complexity": 2,
                 "delay factor": 2
                },
                "name": " ",
                "nameCanonical": "",
                "nameSub": "M E 222"
               },
               {
                "credits": 3,
                "curriculum_requisites": [],
                "id": 9,
                "metrics": {
                 "blocking factor": 0,
                 "centrality": 0,
                 "complexity": 1,
                 "delay factor": 1
                },
                "name": " ",
                "nameCanonical": "",
                "nameSub": "English Comp"
               }
              ],
              "id": 2,
              "name": "Term 2"
             },
             {
              "curriculum_items": [
               {
                "credits": 4,
                "curriculum_requisites": [
                 {
                  "source_id": 6,
                  "target_id": 10,
                  "type": "CurriculumCorequisite"
                 }
                ],
                "id": 10,
                "metrics": {
                 "blocking factor": 5,
                 "centrality": 11,
                 "complexity": 11,
                 "delay factor": 6
                },
                "name": " ",
                "nameCanonical": "",
                "nameSub": "M E 236"
               },
               {
                "credits": 3,
                "curriculum_requisites": [],
                "id": 11,
                "metrics": {
                 "blocking factor": 0,
                 "centrality": 0,
                 "complexity": 1,
                 "delay factor": 1
                },
                "name": " ",
                "nameCanonical": "",
                "nameSub": "MATH 291G"
               },
               {
                "credits": 3,
                "curriculum_requisites": [],
                "id": 12,
                "metrics": {
                 "blocking factor": 0,
                 "centrality": 0,
                 "complexity": 1,
                 "delay factor": 1
                },
                "name": " ",
                "nameCanonical": "",
                "nameSub": "PHYS 216G"
               },
               {
                "credits": 3,
                "curriculum_requisites": [],
                "id": 13,
                "metrics": {
                 "blocking factor": 0,
                 "centrality": 0,
                 "complexity": 1,
                 "delay factor": 1
                },
                "name": " ",
                "nameCanonical": "",
                "nameSub": "M E 210"
               },
               {
                "credits": 3,
                "curriculum_requisites": [],
                "id": 14,
                "metrics": {
                 "blocking factor": 0,
                 "centrality": 0,
                 "complexity": 1,
                 "delay factor": 1
                },
                "name": " ",
                "nameCanonical": "",
                "nameSub": "M E 261"
               }
              ],
              "id": 3,
              "name": "Term 3"
             },
             {
              "curriculum_items": [
               {
                "credits": 3,
                "curriculum_requisites": [],
                "id": 15,
                "metrics": {
                 "blocking factor": 4,
                 "centrality": 0,
                 "complexity": 7,
                 "delay factor": 3
                },
                "name": " ",
                "nameCanonical": "",
                "nameSub": "M E 228"
               },
               {
                "credits": 3,
                "curriculum_requisites": [
                 {
                  "source_id": 10,
                  "target_id": 16,
                  "type": "CurriculumPrerequisite"
                 }
                ],
                "id": 16,
                "metrics": {
                 "blocking factor": 2,
                 "centrality": 6,
                 "complexity": 8,
                 "delay factor": 6
                },
                "name": " ",
                "nameCanonical": "",
                "nameSub": "M E 237"
               },
               {
                "credits": 3,
                "curriculum_requisites": [
                 {
                  "source_id": 10,
                  "target_id": 17,
                  "type": "CurriculumPrerequisite"
                 }
                ],
                "id": 17,
                "metrics": {
                 "blocking factor": 1,
                 "centrality": 5,
                 "complexity": 6,
                 "delay factor": 5
                },
                "name": " ",
                "nameCanonical": "",
                "nameSub": "C E 301"
               },
               {
                "credits": 3,
                "curriculum_requisites": [
                 {
                  "source_id": 6,
                  "target_id": 18,
                  "type": "CurriculumPrerequisite"
                 }
                ],
                "id": 18,
                "metrics": {
                 "blocking factor": 2,
                 "centrality": 8,
                 "complexity": 6,
                 "delay factor": 4
                },
                "name": " ",
                "nameCanonical": "",
                "nameSub": "M E 240"
               },
               {
                "credits": 3,
                "curriculum_requisites": [],
                "id": 19,
                "metrics": {
                 "blocking factor": 0,
                 "centrality": 0,
                 "complexity": 1,
                 "delay factor": 1
                },
                "name": " ",
                "nameCanonical": "",
                "nameSub": "Oral Comm"
               }
              ],
              "id": 4,
              "name": "Term 4"
             },
             {
              "curriculum_items": [
               {
                "credits": 3,
                "curriculum_requisites": [
                 {
                  "source_id": 15,
                  "target_id": 20,
                  "type": "CurriculumPrerequisite"
                 }
                ],
                "id": 20,
                "metrics": {
                 "blocking factor": 0,
                 "centrality": 0,
                 "complexity": 2,
                 "delay factor": 2
                },
                "name": " ",
                "nameCanonical": "",
                "nameSub": "M E 238"
               },
               {
                "credits": 3,
                "curriculum_requisites": [
                 {
                  "source_id": 15,
                  "target_id": 21,
                  "type": "CurriculumPrerequisite"
                 }
                ],
                "id": 21,
                "metrics": {
                 "blocking factor": 1,
                 "centrality": 3,
                 "complexity": 4,
                 "delay factor": 3
                },
                "name": " ",
                "nameCanonical": "",
                "nameSub": "M E 338"
               },
               {
                "credits": 3,
                "curriculum_requisites": [],
                "id": 22,
                "metrics": {
                 "blocking factor": 0,
                 "centrality": 0,
                 "complexity": 1,
                 "delay factor": 1
                },
                "name": " ",
                "nameCanonical": "",
                "nameSub": "CHME 361"
               },
               {
                "credits": 3,
                "curriculum_requisites": [
                 {
                  "source_id": 18,
                  "target_id": 23,
                  "type": "CurriculumPrerequisite"
                 }
                ],
                "id": 23,
                "metrics": {
                 "blocking factor": 0,
                 "centrality": 0,
                 "complexity": 4,
                 "delay factor": 4
                },
                "name": " ",
                "nameCanonical": "",
                "nameSub": "M E 340"
               },
               {
                "credits": 1,
                "curriculum_requisites": [],
                "id": 24,
                "metrics": {
                 "blocking factor": 0,
                 "centrality": 0,
                 "complexity": 1,
                 "delay factor": 1
                },
                "name": " ",
                "nameCanonical": "",
                "nameSub": "M E 349"
               },
               {
                "credits": 3,
                "curriculum_requisites": [],
                "id": 25,
                "metrics": {
                 "blocking factor": 0,
                 "centrality": 0,
                 "complexity": 1,
                 "delay factor": 1
                },
                "name": " ",
                "nameCanonical": "",
                "nameSub": "Fine Arts"
               }
              ],
              "id": 5,
              "name": "Term 5"
             },
             {
              "curriculum_items": [
               {
                "credits": 3,
                "curriculum_requisites": [
                 {
                  "source_id": 16,
                  "target_id": 26,
                  "type": "CurriculumPrerequisite"
                 }
                ],
                "id": 26,
                "metrics": {
                 "blocking factor": 1,
                 "centrality": 6,
                 "complexity": 7,
                 "delay factor": 6
                },
                "name": " ",
                "nameCanonical": "",
                "nameSub": "M E 326"
               },
               {
                "credits": 3,
                "curriculum_requisites": [],
                "id": 27,
                "metrics": {
                 "blocking factor": 0,
                 "centrality": 0,
                 "complexity": 1,
                 "delay factor": 1
                },
                "name": " ",
                "nameCanonical": "",
                "nameSub": "Mech Elective"
               },
               {
                "credits": 3,
                "curriculum_requisites": [
                 {
                  "source_id": 17,
                  "target_id": 28,
                  "type": "CurriculumCorequisite"
                 },
                 {
                  "source_id": 15,
                  "target_id": 28,
                  "type": "CurriculumPrerequisite"
                 }
                ],
                "id": 28,
                "metrics": {
                 "blocking factor": 0,
                 "centrality": 0,
                 "complexity": 5,
                 "delay factor": 5
                },
                "name": " ",
                "nameCanonical": "",
                "nameSub": "M E 345"
               },
               {
                "credits": 3,
                "curriculum_requisites": [
                 {
                  "source_id": 18,
                  "target_id": 29,
                  "type": "CurriculumPrerequisite"
                 }
                ],
                "id": 29,
                "metrics": {
                 "blocking factor": 0,
                 "centrality": 0,
                 "complexity": 4,
                 "delay factor": 4
                },
                "name": " ",
                "nameCanonical": "",
                "nameSub": "M E 341"
               },
               {
                "credits": 3,
                "curriculum_requisites": [],
                "id": 30,
                "metrics": {
                 "blocking factor": 0,
                 "centrality": 0,
                 "complexity": 1,
                 "delay factor": 1
                },
                "name": " ",
                "nameCanonical": "",
                "nameSub": "Humanities"
               }
              ],
              "id": 6,
              "name": "Term 6"
             },
             {
              "curriculum_items": [
               {
                "credits": 3,
                "curriculum_requisites": [],
                "id": 31,
                "metrics": {
                 "blocking factor": 0,
                 "centrality": 0,
                 "complexity": 1,
                 "delay factor": 1
                },
                "name": " ",
                "nameCanonical": "",
                "nameSub": "PHYS 303V"
               },
               {
                "credits": 3,
                "curriculum_requisites": [],
                "id": 32,
                "metrics": {
                 "blocking factor": 1,
                 "centrality": 0,
                 "complexity": 3,
                 "delay factor": 2
                },
                "name": " ",
                "nameCanonical": "",
                "nameSub": "ENGR 401"
               },
               {
                "credits": 3,
                "curriculum_requisites": [
                 {
                  "source_id": 26,
                  "target_id": 33,
                  "type": "CurriculumPrerequisite"
                 }
                ],
                "id": 33,
                "metrics": {
                 "blocking factor": 0,
                 "centrality": 0,
                 "complexity": 6,
                 "delay factor": 6
                },
                "name": " ",
                "nameCanonical": "",
                "nameSub": "M E 425"
               },
               {
                "credits": 3,
                "curriculum_requisites": [
                 {
                  "source_id": 21,
                  "target_id": 34,
                  "type": "CurriculumPrerequisite"
                 }
                ],
                "id": 34,
                "metrics": {
                 "blocking factor": 0,
                 "centrality": 0,
                 "complexity": 3,
                 "delay factor": 3
                },
                "name": " ",
                "nameCanonical": "",
                "nameSub": "M E 445"
               },
               {
                "credits": 3,
                "curriculum_requisites": [],
                "id": 35,
                "metrics": {
                 "blocking factor": 0,
                 "centrality": 0,
                 "complexity": 1,
                 "delay factor": 1
                },
                "name": " ",
                "nameCanonical": "",
                "nameSub": "Behav Sci"
               }
              ],
              "id": 7,
              "name": "Term 7"
             },
             {
              "curriculum_items": [
               {
                "credits": 3,
                "curriculum_requisites": [
                 {
                  "source_id": 32,
                  "target_id": 36,
                  "type": "CurriculumPrerequisite"
                 }
                ],
                "id": 36,
                "metrics": {
                 "blocking factor": 0,
                 "centrality": 0,
                 "complexity": 2,
                 "delay factor": 2
                },
                "name": " ",
                "nameCanonical": "",
                "nameSub": "ENGR 402"
               },
               {
                "credits": 6,
                "curriculum_requisites": [],
                "id": 37,
                "metrics": {
                 "blocking factor": 0,
                 "centrality": 0,
                 "complexity": 1,
                 "delay factor": 1
                },
                "name": " ",
                "nameCanonical": "",
                "nameSub": "Elective"
               },
               {
                "credits": 3,
                "curriculum_requisites": [],
                "id": 38,
                "metrics": {
                 "blocking factor": 0,
                 "centrality": 0,
                 "complexity": 1,
                 "delay factor": 1
                },
                "name": " ",
                "nameCanonical": "",
                "nameSub": "VWW"
               },
               {
                "credits": 1,
                "curriculum_requisites": [],
                "id": 39,
                "metrics": {
                 "blocking factor": 0,
                 "centrality": 0,
                 "complexity": 1,
                 "delay factor": 1
                },
                "name": " ",
                "nameCanonical": "",
                "nameSub": "Elective"
               }
              ],
              "id": 8,
              "name": "Term 8"
             }
            ],
            "dp_name": "4-Year Plan",
            "institution": "New Mexico State University",
            "name": "Mechanical Engineering"
           },
           "options": {
            "edit": false,
            "hideTerms": false
           }
          }
         }
        },
        "systemjs_options": null
       },
       "nodeType": "Scope",
       "props": {},
       "type": "node"
      },
      "text/html": [
       "<div\n",
       "    class=\"webio-mountpoint\"\n",
       "    data-webio-mountpoint=\"15318251055820580450\"\n",
       ">\n",
       "    <script>\n",
       "    if (window.require && require.defined && require.defined(\"nbextensions/webio-jupyter-notebook\")) {\n",
       "        console.log(\"Jupyter WebIO extension detected, not mounting.\");\n",
       "    } else if (window.WebIO) {\n",
       "        WebIO.mount(\n",
       "            document.querySelector('[data-webio-mountpoint=\"15318251055820580450\"]'),\n",
       "            {\"props\":{},\"nodeType\":\"Scope\",\"type\":\"node\",\"instanceArgs\":{\"imports\":{\"data\":[],\"type\":\"async_block\"},\"id\":\"1791077681253331247\",\"handlers\":{},\"systemjs_options\":null,\"mount_callbacks\":[],\"observables\":{\"curriculum-data\":{\"sync\":true,\"id\":\"6277485604842161903\",\"value\":{\"options\":{\"hideTerms\":false,\"edit\":false},\"curriculum\":{\"name\":\"Mechanical Engineering\",\"dp_name\":\"4-Year Plan\",\"curriculum_terms\":[{\"name\":\"Term 1\",\"curriculum_items\":[{\"curriculum_requisites\":[],\"name\":\" \",\"metrics\":{\"complexity\":1.0,\"centrality\":0,\"blocking factor\":0,\"delay factor\":1.0},\"nameSub\":\"ENGL 111G\",\"id\":1,\"credits\":4,\"nameCanonical\":\"\"},{\"curriculum_requisites\":[],\"name\":\" \",\"metrics\":{\"complexity\":18.0,\"centrality\":0,\"blocking factor\":12,\"delay factor\":6.0},\"nameSub\":\"MATH 191G\",\"id\":2,\"credits\":4,\"nameCanonical\":\"\"},{\"curriculum_requisites\":[],\"name\":\" \",\"metrics\":{\"complexity\":3.0,\"centrality\":0,\"blocking factor\":1,\"delay factor\":2.0},\"nameSub\":\"M E 159\",\"id\":3,\"credits\":2,\"nameCanonical\":\"\"},{\"curriculum_requisites\":[],\"name\":\" \",\"metrics\":{\"complexity\":1.0,\"centrality\":0,\"blocking factor\":0,\"delay factor\":1.0},\"nameSub\":\"ENGR 100\",\"id\":4,\"credits\":3,\"nameCanonical\":\"\"}],\"id\":1},{\"name\":\"Term 2\",\"curriculum_items\":[{\"curriculum_requisites\":[{\"source_id\":2,\"target_id\":5,\"type\":\"CurriculumPrerequisite\"}],\"name\":\" \",\"metrics\":{\"complexity\":2.0,\"centrality\":0,\"blocking factor\":0,\"delay factor\":2.0},\"nameSub\":\"MATH 192G \",\"id\":5,\"credits\":4,\"nameCanonical\":\"\"},{\"curriculum_requisites\":[{\"source_id\":2,\"target_id\":6,\"type\":\"CurriculumPrerequisite\"}],\"name\":\" \",\"metrics\":{\"complexity\":16.0,\"centrality\":22,\"blocking factor\":10,\"delay factor\":6.0},\"nameSub\":\"PHYS 215G\",\"id\":6,\"credits\":3,\"nameCanonical\":\"\"},{\"curriculum_requisites\":[{\"source_id\":6,\"target_id\":7,\"type\":\"CurriculumCorequisite\"}],\"name\":\" \",\"metrics\":{\"complexity\":3.0,\"centrality\":0,\"blocking factor\":0,\"delay factor\":3.0},\"nameSub\":\"PHYS 215GL\",\"id\":7,\"credits\":1,\"nameCanonical\":\"\"},{\"curriculum_requisites\":[{\"source_id\":3,\"target_id\":8,\"type\":\"CurriculumPrerequisite\"}],\"name\":\" \",\"metrics\":{\"complexity\":2.0,\"centrality\":0,\"blocking factor\":0,\"delay factor\":2.0},\"nameSub\":\"M E 222\",\"id\":8,\"credits\":3,\"nameCanonical\":\"\"},{\"curriculum_requisites\":[],\"name\":\" \",\"metrics\":{\"complexity\":1.0,\"centrality\":0,\"blocking factor\":0,\"delay factor\":1.0},\"nameSub\":\"English Comp\",\"id\":9,\"credits\":3,\"nameCanonical\":\"\"}],\"id\":2},{\"name\":\"Term 3\",\"curriculum_items\":[{\"curriculum_requisites\":[{\"source_id\":6,\"target_id\":10,\"type\":\"CurriculumCorequisite\"}],\"name\":\" \",\"metrics\":{\"complexity\":11.0,\"centrality\":11,\"blocking factor\":5,\"delay factor\":6.0},\"nameSub\":\"M E 236\",\"id\":10,\"credits\":4,\"nameCanonical\":\"\"},{\"curriculum_requisites\":[],\"name\":\" \",\"metrics\":{\"complexity\":1.0,\"centrality\":0,\"blocking factor\":0,\"delay factor\":1.0},\"nameSub\":\"MATH 291G\",\"id\":11,\"credits\":3,\"nameCanonical\":\"\"},{\"curriculum_requisites\":[],\"name\":\" \",\"metrics\":{\"complexity\":1.0,\"centrality\":0,\"blocking factor\":0,\"delay factor\":1.0},\"nameSub\":\"PHYS 216G\",\"id\":12,\"credits\":3,\"nameCanonical\":\"\"},{\"curriculum_requisites\":[],\"name\":\" \",\"metrics\":{\"complexity\":1.0,\"centrality\":0,\"blocking factor\":0,\"delay factor\":1.0},\"nameSub\":\"M E 210\",\"id\":13,\"credits\":3,\"nameCanonical\":\"\"},{\"curriculum_requisites\":[],\"name\":\" \",\"metrics\":{\"complexity\":1.0,\"centrality\":0,\"blocking factor\":0,\"delay factor\":1.0},\"nameSub\":\"M E 261\",\"id\":14,\"credits\":3,\"nameCanonical\":\"\"}],\"id\":3},{\"name\":\"Term 4\",\"curriculum_items\":[{\"curriculum_requisites\":[],\"name\":\" \",\"metrics\":{\"complexity\":7.0,\"centrality\":0,\"blocking factor\":4,\"delay factor\":3.0},\"nameSub\":\"M E 228\",\"id\":15,\"credits\":3,\"nameCanonical\":\"\"},{\"curriculum_requisites\":[{\"source_id\":10,\"target_id\":16,\"type\":\"CurriculumPrerequisite\"}],\"name\":\" \",\"metrics\":{\"complexity\":8.0,\"centrality\":6,\"blocking factor\":2,\"delay factor\":6.0},\"nameSub\":\"M E 237\",\"id\":16,\"credits\":3,\"nameCanonical\":\"\"},{\"curriculum_requisites\":[{\"source_id\":10,\"target_id\":17,\"type\":\"CurriculumPrerequisite\"}],\"name\":\" \",\"metrics\":{\"complexity\":6.0,\"centrality\":5,\"blocking factor\":1,\"delay factor\":5.0},\"nameSub\":\"C E 301\",\"id\":17,\"credits\":3,\"nameCanonical\":\"\"},{\"curriculum_requisites\":[{\"source_id\":6,\"target_id\":18,\"type\":\"CurriculumPrerequisite\"}],\"name\":\" \",\"metrics\":{\"complexity\":6.0,\"centrality\":8,\"blocking factor\":2,\"delay factor\":4.0},\"nameSub\":\"M E 240\",\"id\":18,\"credits\":3,\"nameCanonical\":\"\"},{\"curriculum_requisites\":[],\"name\":\" \",\"metrics\":{\"complexity\":1.0,\"centrality\":0,\"blocking factor\":0,\"delay factor\":1.0},\"nameSub\":\"Oral Comm\",\"id\":19,\"credits\":3,\"nameCanonical\":\"\"}],\"id\":4},{\"name\":\"Term 5\",\"curriculum_items\":[{\"curriculum_requisites\":[{\"source_id\":15,\"target_id\":20,\"type\":\"CurriculumPrerequisite\"}],\"name\":\" \",\"metrics\":{\"complexity\":2.0,\"centrality\":0,\"blocking factor\":0,\"delay factor\":2.0},\"nameSub\":\"M E 238\",\"id\":20,\"credits\":3,\"nameCanonical\":\"\"},{\"curriculum_requisites\":[{\"source_id\":15,\"target_id\":21,\"type\":\"CurriculumPrerequisite\"}],\"name\":\" \",\"metrics\":{\"complexity\":4.0,\"centrality\":3,\"blocking factor\":1,\"delay factor\":3.0},\"nameSub\":\"M E 338\",\"id\":21,\"credits\":3,\"nameCanonical\":\"\"},{\"curriculum_requisites\":[],\"name\":\" \",\"metrics\":{\"complexity\":1.0,\"centrality\":0,\"blocking factor\":0,\"delay factor\":1.0},\"nameSub\":\"CHME 361\",\"id\":22,\"credits\":3,\"nameCanonical\":\"\"},{\"curriculum_requisites\":[{\"source_id\":18,\"target_id\":23,\"type\":\"CurriculumPrerequisite\"}],\"name\":\" \",\"metrics\":{\"complexity\":4.0,\"centrality\":0,\"blocking factor\":0,\"delay factor\":4.0},\"nameSub\":\"M E 340\",\"id\":23,\"credits\":3,\"nameCanonical\":\"\"},{\"curriculum_requisites\":[],\"name\":\" \",\"metrics\":{\"complexity\":1.0,\"centrality\":0,\"blocking factor\":0,\"delay factor\":1.0},\"nameSub\":\"M E 349\",\"id\":24,\"credits\":1,\"nameCanonical\":\"\"},{\"curriculum_requisites\":[],\"name\":\" \",\"metrics\":{\"complexity\":1.0,\"centrality\":0,\"blocking factor\":0,\"delay factor\":1.0},\"nameSub\":\"Fine Arts\",\"id\":25,\"credits\":3,\"nameCanonical\":\"\"}],\"id\":5},{\"name\":\"Term 6\",\"curriculum_items\":[{\"curriculum_requisites\":[{\"source_id\":16,\"target_id\":26,\"type\":\"CurriculumPrerequisite\"}],\"name\":\" \",\"metrics\":{\"complexity\":7.0,\"centrality\":6,\"blocking factor\":1,\"delay factor\":6.0},\"nameSub\":\"M E 326\",\"id\":26,\"credits\":3,\"nameCanonical\":\"\"},{\"curriculum_requisites\":[],\"name\":\" \",\"metrics\":{\"complexity\":1.0,\"centrality\":0,\"blocking factor\":0,\"delay factor\":1.0},\"nameSub\":\"Mech Elective\",\"id\":27,\"credits\":3,\"nameCanonical\":\"\"},{\"curriculum_requisites\":[{\"source_id\":17,\"target_id\":28,\"type\":\"CurriculumCorequisite\"},{\"source_id\":15,\"target_id\":28,\"type\":\"CurriculumPrerequisite\"}],\"name\":\" \",\"metrics\":{\"complexity\":5.0,\"centrality\":0,\"blocking factor\":0,\"delay factor\":5.0},\"nameSub\":\"M E 345\",\"id\":28,\"credits\":3,\"nameCanonical\":\"\"},{\"curriculum_requisites\":[{\"source_id\":18,\"target_id\":29,\"type\":\"CurriculumPrerequisite\"}],\"name\":\" \",\"metrics\":{\"complexity\":4.0,\"centrality\":0,\"blocking factor\":0,\"delay factor\":4.0},\"nameSub\":\"M E 341\",\"id\":29,\"credits\":3,\"nameCanonical\":\"\"},{\"curriculum_requisites\":[],\"name\":\" \",\"metrics\":{\"complexity\":1.0,\"centrality\":0,\"blocking factor\":0,\"delay factor\":1.0},\"nameSub\":\"Humanities\",\"id\":30,\"credits\":3,\"nameCanonical\":\"\"}],\"id\":6},{\"name\":\"Term 7\",\"curriculum_items\":[{\"curriculum_requisites\":[],\"name\":\" \",\"metrics\":{\"complexity\":1.0,\"centrality\":0,\"blocking factor\":0,\"delay factor\":1.0},\"nameSub\":\"PHYS 303V\",\"id\":31,\"credits\":3,\"nameCanonical\":\"\"},{\"curriculum_requisites\":[],\"name\":\" \",\"metrics\":{\"complexity\":3.0,\"centrality\":0,\"blocking factor\":1,\"delay factor\":2.0},\"nameSub\":\"ENGR 401\",\"id\":32,\"credits\":3,\"nameCanonical\":\"\"},{\"curriculum_requisites\":[{\"source_id\":26,\"target_id\":33,\"type\":\"CurriculumPrerequisite\"}],\"name\":\" \",\"metrics\":{\"complexity\":6.0,\"centrality\":0,\"blocking factor\":0,\"delay factor\":6.0},\"nameSub\":\"M E 425\",\"id\":33,\"credits\":3,\"nameCanonical\":\"\"},{\"curriculum_requisites\":[{\"source_id\":21,\"target_id\":34,\"type\":\"CurriculumPrerequisite\"}],\"name\":\" \",\"metrics\":{\"complexity\":3.0,\"centrality\":0,\"blocking factor\":0,\"delay factor\":3.0},\"nameSub\":\"M E 445\",\"id\":34,\"credits\":3,\"nameCanonical\":\"\"},{\"curriculum_requisites\":[],\"name\":\" \",\"metrics\":{\"complexity\":1.0,\"centrality\":0,\"blocking factor\":0,\"delay factor\":1.0},\"nameSub\":\"Behav Sci\",\"id\":35,\"credits\":3,\"nameCanonical\":\"\"}],\"id\":7},{\"name\":\"Term 8\",\"curriculum_items\":[{\"curriculum_requisites\":[{\"source_id\":32,\"target_id\":36,\"type\":\"CurriculumPrerequisite\"}],\"name\":\" \",\"metrics\":{\"complexity\":2.0,\"centrality\":0,\"blocking factor\":0,\"delay factor\":2.0},\"nameSub\":\"ENGR 402\",\"id\":36,\"credits\":3,\"nameCanonical\":\"\"},{\"curriculum_requisites\":[],\"name\":\" \",\"metrics\":{\"complexity\":1.0,\"centrality\":0,\"blocking factor\":0,\"delay factor\":1.0},\"nameSub\":\"Elective\",\"id\":37,\"credits\":6,\"nameCanonical\":\"\"},{\"curriculum_requisites\":[],\"name\":\" \",\"metrics\":{\"complexity\":1.0,\"centrality\":0,\"blocking factor\":0,\"delay factor\":1.0},\"nameSub\":\"VWW\",\"id\":38,\"credits\":3,\"nameCanonical\":\"\"},{\"curriculum_requisites\":[],\"name\":\" \",\"metrics\":{\"complexity\":1.0,\"centrality\":0,\"blocking factor\":0,\"delay factor\":1.0},\"nameSub\":\"Elective\",\"id\":39,\"credits\":1,\"nameCanonical\":\"\"}],\"id\":8}],\"institution\":\"New Mexico State University\"}}}}},\"children\":[{\"props\":{\"src\":\"http:\\/\\/localhost:8156\",\"id\":\"curriculum\",\"events\":{\"load\":\"(function (){this.contentWindow.postMessage({\\\"options\\\":{\\\"hideTerms\\\":false,\\\"edit\\\":false},\\\"curriculum\\\":{\\\"name\\\":\\\"Mechanical Engineering\\\",\\\"dp_name\\\":\\\"4-Year Plan\\\",\\\"curriculum_terms\\\":[{\\\"name\\\":\\\"Term 1\\\",\\\"curriculum_items\\\":[{\\\"curriculum_requisites\\\":[],\\\"name\\\":\\\" \\\",\\\"metrics\\\":{\\\"complexity\\\":1.0,\\\"centrality\\\":0,\\\"blocking factor\\\":0,\\\"delay factor\\\":1.0},\\\"nameSub\\\":\\\"ENGL 111G\\\",\\\"id\\\":1,\\\"credits\\\":4,\\\"nameCanonical\\\":\\\"\\\"},{\\\"curriculum_requisites\\\":[],\\\"name\\\":\\\" \\\",\\\"metrics\\\":{\\\"complexity\\\":18.0,\\\"centrality\\\":0,\\\"blocking factor\\\":12,\\\"delay factor\\\":6.0},\\\"nameSub\\\":\\\"MATH 191G\\\",\\\"id\\\":2,\\\"credits\\\":4,\\\"nameCanonical\\\":\\\"\\\"},{\\\"curriculum_requisites\\\":[],\\\"name\\\":\\\" \\\",\\\"metrics\\\":{\\\"complexity\\\":3.0,\\\"centrality\\\":0,\\\"blocking factor\\\":1,\\\"delay factor\\\":2.0},\\\"nameSub\\\":\\\"M E 159\\\",\\\"id\\\":3,\\\"credits\\\":2,\\\"nameCanonical\\\":\\\"\\\"},{\\\"curriculum_requisites\\\":[],\\\"name\\\":\\\" \\\",\\\"metrics\\\":{\\\"complexity\\\":1.0,\\\"centrality\\\":0,\\\"blocking factor\\\":0,\\\"delay factor\\\":1.0},\\\"nameSub\\\":\\\"ENGR 100\\\",\\\"id\\\":4,\\\"credits\\\":3,\\\"nameCanonical\\\":\\\"\\\"}],\\\"id\\\":1},{\\\"name\\\":\\\"Term 2\\\",\\\"curriculum_items\\\":[{\\\"curriculum_requisites\\\":[{\\\"source_id\\\":2,\\\"target_id\\\":5,\\\"type\\\":\\\"CurriculumPrerequisite\\\"}],\\\"name\\\":\\\" \\\",\\\"metrics\\\":{\\\"complexity\\\":2.0,\\\"centrality\\\":0,\\\"blocking factor\\\":0,\\\"delay factor\\\":2.0},\\\"nameSub\\\":\\\"MATH 192G \\\",\\\"id\\\":5,\\\"credits\\\":4,\\\"nameCanonical\\\":\\\"\\\"},{\\\"curriculum_requisites\\\":[{\\\"source_id\\\":2,\\\"target_id\\\":6,\\\"type\\\":\\\"CurriculumPrerequisite\\\"}],\\\"name\\\":\\\" \\\",\\\"metrics\\\":{\\\"complexity\\\":16.0,\\\"centrality\\\":22,\\\"blocking factor\\\":10,\\\"delay factor\\\":6.0},\\\"nameSub\\\":\\\"PHYS 215G\\\",\\\"id\\\":6,\\\"credits\\\":3,\\\"nameCanonical\\\":\\\"\\\"},{\\\"curriculum_requisites\\\":[{\\\"source_id\\\":6,\\\"target_id\\\":7,\\\"type\\\":\\\"CurriculumCorequisite\\\"}],\\\"name\\\":\\\" \\\",\\\"metrics\\\":{\\\"complexity\\\":3.0,\\\"centrality\\\":0,\\\"blocking factor\\\":0,\\\"delay factor\\\":3.0},\\\"nameSub\\\":\\\"PHYS 215GL\\\",\\\"id\\\":7,\\\"credits\\\":1,\\\"nameCanonical\\\":\\\"\\\"},{\\\"curriculum_requisites\\\":[{\\\"source_id\\\":3,\\\"target_id\\\":8,\\\"type\\\":\\\"CurriculumPrerequisite\\\"}],\\\"name\\\":\\\" \\\",\\\"metrics\\\":{\\\"complexity\\\":2.0,\\\"centrality\\\":0,\\\"blocking factor\\\":0,\\\"delay factor\\\":2.0},\\\"nameSub\\\":\\\"M E 222\\\",\\\"id\\\":8,\\\"credits\\\":3,\\\"nameCanonical\\\":\\\"\\\"},{\\\"curriculum_requisites\\\":[],\\\"name\\\":\\\" \\\",\\\"metrics\\\":{\\\"complexity\\\":1.0,\\\"centrality\\\":0,\\\"blocking factor\\\":0,\\\"delay factor\\\":1.0},\\\"nameSub\\\":\\\"English Comp\\\",\\\"id\\\":9,\\\"credits\\\":3,\\\"nameCanonical\\\":\\\"\\\"}],\\\"id\\\":2},{\\\"name\\\":\\\"Term 3\\\",\\\"curriculum_items\\\":[{\\\"curriculum_requisites\\\":[{\\\"source_id\\\":6,\\\"target_id\\\":10,\\\"type\\\":\\\"CurriculumCorequisite\\\"}],\\\"name\\\":\\\" \\\",\\\"metrics\\\":{\\\"complexity\\\":11.0,\\\"centrality\\\":11,\\\"blocking factor\\\":5,\\\"delay factor\\\":6.0},\\\"nameSub\\\":\\\"M E 236\\\",\\\"id\\\":10,\\\"credits\\\":4,\\\"nameCanonical\\\":\\\"\\\"},{\\\"curriculum_requisites\\\":[],\\\"name\\\":\\\" \\\",\\\"metrics\\\":{\\\"complexity\\\":1.0,\\\"centrality\\\":0,\\\"blocking factor\\\":0,\\\"delay factor\\\":1.0},\\\"nameSub\\\":\\\"MATH 291G\\\",\\\"id\\\":11,\\\"credits\\\":3,\\\"nameCanonical\\\":\\\"\\\"},{\\\"curriculum_requisites\\\":[],\\\"name\\\":\\\" \\\",\\\"metrics\\\":{\\\"complexity\\\":1.0,\\\"centrality\\\":0,\\\"blocking factor\\\":0,\\\"delay factor\\\":1.0},\\\"nameSub\\\":\\\"PHYS 216G\\\",\\\"id\\\":12,\\\"credits\\\":3,\\\"nameCanonical\\\":\\\"\\\"},{\\\"curriculum_requisites\\\":[],\\\"name\\\":\\\" \\\",\\\"metrics\\\":{\\\"complexity\\\":1.0,\\\"centrality\\\":0,\\\"blocking factor\\\":0,\\\"delay factor\\\":1.0},\\\"nameSub\\\":\\\"M E 210\\\",\\\"id\\\":13,\\\"credits\\\":3,\\\"nameCanonical\\\":\\\"\\\"},{\\\"curriculum_requisites\\\":[],\\\"name\\\":\\\" \\\",\\\"metrics\\\":{\\\"complexity\\\":1.0,\\\"centrality\\\":0,\\\"blocking factor\\\":0,\\\"delay factor\\\":1.0},\\\"nameSub\\\":\\\"M E 261\\\",\\\"id\\\":14,\\\"credits\\\":3,\\\"nameCanonical\\\":\\\"\\\"}],\\\"id\\\":3},{\\\"name\\\":\\\"Term 4\\\",\\\"curriculum_items\\\":[{\\\"curriculum_requisites\\\":[],\\\"name\\\":\\\" \\\",\\\"metrics\\\":{\\\"complexity\\\":7.0,\\\"centrality\\\":0,\\\"blocking factor\\\":4,\\\"delay factor\\\":3.0},\\\"nameSub\\\":\\\"M E 228\\\",\\\"id\\\":15,\\\"credits\\\":3,\\\"nameCanonical\\\":\\\"\\\"},{\\\"curriculum_requisites\\\":[{\\\"source_id\\\":10,\\\"target_id\\\":16,\\\"type\\\":\\\"CurriculumPrerequisite\\\"}],\\\"name\\\":\\\" \\\",\\\"metrics\\\":{\\\"complexity\\\":8.0,\\\"centrality\\\":6,\\\"blocking factor\\\":2,\\\"delay factor\\\":6.0},\\\"nameSub\\\":\\\"M E 237\\\",\\\"id\\\":16,\\\"credits\\\":3,\\\"nameCanonical\\\":\\\"\\\"},{\\\"curriculum_requisites\\\":[{\\\"source_id\\\":10,\\\"target_id\\\":17,\\\"type\\\":\\\"CurriculumPrerequisite\\\"}],\\\"name\\\":\\\" \\\",\\\"metrics\\\":{\\\"complexity\\\":6.0,\\\"centrality\\\":5,\\\"blocking factor\\\":1,\\\"delay factor\\\":5.0},\\\"nameSub\\\":\\\"C E 301\\\",\\\"id\\\":17,\\\"credits\\\":3,\\\"nameCanonical\\\":\\\"\\\"},{\\\"curriculum_requisites\\\":[{\\\"source_id\\\":6,\\\"target_id\\\":18,\\\"type\\\":\\\"CurriculumPrerequisite\\\"}],\\\"name\\\":\\\" \\\",\\\"metrics\\\":{\\\"complexity\\\":6.0,\\\"centrality\\\":8,\\\"blocking factor\\\":2,\\\"delay factor\\\":4.0},\\\"nameSub\\\":\\\"M E 240\\\",\\\"id\\\":18,\\\"credits\\\":3,\\\"nameCanonical\\\":\\\"\\\"},{\\\"curriculum_requisites\\\":[],\\\"name\\\":\\\" \\\",\\\"metrics\\\":{\\\"complexity\\\":1.0,\\\"centrality\\\":0,\\\"blocking factor\\\":0,\\\"delay factor\\\":1.0},\\\"nameSub\\\":\\\"Oral Comm\\\",\\\"id\\\":19,\\\"credits\\\":3,\\\"nameCanonical\\\":\\\"\\\"}],\\\"id\\\":4},{\\\"name\\\":\\\"Term 5\\\",\\\"curriculum_items\\\":[{\\\"curriculum_requisites\\\":[{\\\"source_id\\\":15,\\\"target_id\\\":20,\\\"type\\\":\\\"CurriculumPrerequisite\\\"}],\\\"name\\\":\\\" \\\",\\\"metrics\\\":{\\\"complexity\\\":2.0,\\\"centrality\\\":0,\\\"blocking factor\\\":0,\\\"delay factor\\\":2.0},\\\"nameSub\\\":\\\"M E 238\\\",\\\"id\\\":20,\\\"credits\\\":3,\\\"nameCanonical\\\":\\\"\\\"},{\\\"curriculum_requisites\\\":[{\\\"source_id\\\":15,\\\"target_id\\\":21,\\\"type\\\":\\\"CurriculumPrerequisite\\\"}],\\\"name\\\":\\\" \\\",\\\"metrics\\\":{\\\"complexity\\\":4.0,\\\"centrality\\\":3,\\\"blocking factor\\\":1,\\\"delay factor\\\":3.0},\\\"nameSub\\\":\\\"M E 338\\\",\\\"id\\\":21,\\\"credits\\\":3,\\\"nameCanonical\\\":\\\"\\\"},{\\\"curriculum_requisites\\\":[],\\\"name\\\":\\\" \\\",\\\"metrics\\\":{\\\"complexity\\\":1.0,\\\"centrality\\\":0,\\\"blocking factor\\\":0,\\\"delay factor\\\":1.0},\\\"nameSub\\\":\\\"CHME 361\\\",\\\"id\\\":22,\\\"credits\\\":3,\\\"nameCanonical\\\":\\\"\\\"},{\\\"curriculum_requisites\\\":[{\\\"source_id\\\":18,\\\"target_id\\\":23,\\\"type\\\":\\\"CurriculumPrerequisite\\\"}],\\\"name\\\":\\\" \\\",\\\"metrics\\\":{\\\"complexity\\\":4.0,\\\"centrality\\\":0,\\\"blocking factor\\\":0,\\\"delay factor\\\":4.0},\\\"nameSub\\\":\\\"M E 340\\\",\\\"id\\\":23,\\\"credits\\\":3,\\\"nameCanonical\\\":\\\"\\\"},{\\\"curriculum_requisites\\\":[],\\\"name\\\":\\\" \\\",\\\"metrics\\\":{\\\"complexity\\\":1.0,\\\"centrality\\\":0,\\\"blocking factor\\\":0,\\\"delay factor\\\":1.0},\\\"nameSub\\\":\\\"M E 349\\\",\\\"id\\\":24,\\\"credits\\\":1,\\\"nameCanonical\\\":\\\"\\\"},{\\\"curriculum_requisites\\\":[],\\\"name\\\":\\\" \\\",\\\"metrics\\\":{\\\"complexity\\\":1.0,\\\"centrality\\\":0,\\\"blocking factor\\\":0,\\\"delay factor\\\":1.0},\\\"nameSub\\\":\\\"Fine Arts\\\",\\\"id\\\":25,\\\"credits\\\":3,\\\"nameCanonical\\\":\\\"\\\"}],\\\"id\\\":5},{\\\"name\\\":\\\"Term 6\\\",\\\"curriculum_items\\\":[{\\\"curriculum_requisites\\\":[{\\\"source_id\\\":16,\\\"target_id\\\":26,\\\"type\\\":\\\"CurriculumPrerequisite\\\"}],\\\"name\\\":\\\" \\\",\\\"metrics\\\":{\\\"complexity\\\":7.0,\\\"centrality\\\":6,\\\"blocking factor\\\":1,\\\"delay factor\\\":6.0},\\\"nameSub\\\":\\\"M E 326\\\",\\\"id\\\":26,\\\"credits\\\":3,\\\"nameCanonical\\\":\\\"\\\"},{\\\"curriculum_requisites\\\":[],\\\"name\\\":\\\" \\\",\\\"metrics\\\":{\\\"complexity\\\":1.0,\\\"centrality\\\":0,\\\"blocking factor\\\":0,\\\"delay factor\\\":1.0},\\\"nameSub\\\":\\\"Mech Elective\\\",\\\"id\\\":27,\\\"credits\\\":3,\\\"nameCanonical\\\":\\\"\\\"},{\\\"curriculum_requisites\\\":[{\\\"source_id\\\":17,\\\"target_id\\\":28,\\\"type\\\":\\\"CurriculumCorequisite\\\"},{\\\"source_id\\\":15,\\\"target_id\\\":28,\\\"type\\\":\\\"CurriculumPrerequisite\\\"}],\\\"name\\\":\\\" \\\",\\\"metrics\\\":{\\\"complexity\\\":5.0,\\\"centrality\\\":0,\\\"blocking factor\\\":0,\\\"delay factor\\\":5.0},\\\"nameSub\\\":\\\"M E 345\\\",\\\"id\\\":28,\\\"credits\\\":3,\\\"nameCanonical\\\":\\\"\\\"},{\\\"curriculum_requisites\\\":[{\\\"source_id\\\":18,\\\"target_id\\\":29,\\\"type\\\":\\\"CurriculumPrerequisite\\\"}],\\\"name\\\":\\\" \\\",\\\"metrics\\\":{\\\"complexity\\\":4.0,\\\"centrality\\\":0,\\\"blocking factor\\\":0,\\\"delay factor\\\":4.0},\\\"nameSub\\\":\\\"M E 341\\\",\\\"id\\\":29,\\\"credits\\\":3,\\\"nameCanonical\\\":\\\"\\\"},{\\\"curriculum_requisites\\\":[],\\\"name\\\":\\\" \\\",\\\"metrics\\\":{\\\"complexity\\\":1.0,\\\"centrality\\\":0,\\\"blocking factor\\\":0,\\\"delay factor\\\":1.0},\\\"nameSub\\\":\\\"Humanities\\\",\\\"id\\\":30,\\\"credits\\\":3,\\\"nameCanonical\\\":\\\"\\\"}],\\\"id\\\":6},{\\\"name\\\":\\\"Term 7\\\",\\\"curriculum_items\\\":[{\\\"curriculum_requisites\\\":[],\\\"name\\\":\\\" \\\",\\\"metrics\\\":{\\\"complexity\\\":1.0,\\\"centrality\\\":0,\\\"blocking factor\\\":0,\\\"delay factor\\\":1.0},\\\"nameSub\\\":\\\"PHYS 303V\\\",\\\"id\\\":31,\\\"credits\\\":3,\\\"nameCanonical\\\":\\\"\\\"},{\\\"curriculum_requisites\\\":[],\\\"name\\\":\\\" \\\",\\\"metrics\\\":{\\\"complexity\\\":3.0,\\\"centrality\\\":0,\\\"blocking factor\\\":1,\\\"delay factor\\\":2.0},\\\"nameSub\\\":\\\"ENGR 401\\\",\\\"id\\\":32,\\\"credits\\\":3,\\\"nameCanonical\\\":\\\"\\\"},{\\\"curriculum_requisites\\\":[{\\\"source_id\\\":26,\\\"target_id\\\":33,\\\"type\\\":\\\"CurriculumPrerequisite\\\"}],\\\"name\\\":\\\" \\\",\\\"metrics\\\":{\\\"complexity\\\":6.0,\\\"centrality\\\":0,\\\"blocking factor\\\":0,\\\"delay factor\\\":6.0},\\\"nameSub\\\":\\\"M E 425\\\",\\\"id\\\":33,\\\"credits\\\":3,\\\"nameCanonical\\\":\\\"\\\"},{\\\"curriculum_requisites\\\":[{\\\"source_id\\\":21,\\\"target_id\\\":34,\\\"type\\\":\\\"CurriculumPrerequisite\\\"}],\\\"name\\\":\\\" \\\",\\\"metrics\\\":{\\\"complexity\\\":3.0,\\\"centrality\\\":0,\\\"blocking factor\\\":0,\\\"delay factor\\\":3.0},\\\"nameSub\\\":\\\"M E 445\\\",\\\"id\\\":34,\\\"credits\\\":3,\\\"nameCanonical\\\":\\\"\\\"},{\\\"curriculum_requisites\\\":[],\\\"name\\\":\\\" \\\",\\\"metrics\\\":{\\\"complexity\\\":1.0,\\\"centrality\\\":0,\\\"blocking factor\\\":0,\\\"delay factor\\\":1.0},\\\"nameSub\\\":\\\"Behav Sci\\\",\\\"id\\\":35,\\\"credits\\\":3,\\\"nameCanonical\\\":\\\"\\\"}],\\\"id\\\":7},{\\\"name\\\":\\\"Term 8\\\",\\\"curriculum_items\\\":[{\\\"curriculum_requisites\\\":[{\\\"source_id\\\":32,\\\"target_id\\\":36,\\\"type\\\":\\\"CurriculumPrerequisite\\\"}],\\\"name\\\":\\\" \\\",\\\"metrics\\\":{\\\"complexity\\\":2.0,\\\"centrality\\\":0,\\\"blocking factor\\\":0,\\\"delay factor\\\":2.0},\\\"nameSub\\\":\\\"ENGR 402\\\",\\\"id\\\":36,\\\"credits\\\":3,\\\"nameCanonical\\\":\\\"\\\"},{\\\"curriculum_requisites\\\":[],\\\"name\\\":\\\" \\\",\\\"metrics\\\":{\\\"complexity\\\":1.0,\\\"centrality\\\":0,\\\"blocking factor\\\":0,\\\"delay factor\\\":1.0},\\\"nameSub\\\":\\\"Elective\\\",\\\"id\\\":37,\\\"credits\\\":6,\\\"nameCanonical\\\":\\\"\\\"},{\\\"curriculum_requisites\\\":[],\\\"name\\\":\\\" \\\",\\\"metrics\\\":{\\\"complexity\\\":1.0,\\\"centrality\\\":0,\\\"blocking factor\\\":0,\\\"delay factor\\\":1.0},\\\"nameSub\\\":\\\"VWW\\\",\\\"id\\\":38,\\\"credits\\\":3,\\\"nameCanonical\\\":\\\"\\\"},{\\\"curriculum_requisites\\\":[],\\\"name\\\":\\\" \\\",\\\"metrics\\\":{\\\"complexity\\\":1.0,\\\"centrality\\\":0,\\\"blocking factor\\\":0,\\\"delay factor\\\":1.0},\\\"nameSub\\\":\\\"Elective\\\",\\\"id\\\":39,\\\"credits\\\":1,\\\"nameCanonical\\\":\\\"\\\"}],\\\"id\\\":8}],\\\"institution\\\":\\\"New Mexico State University\\\"}},\\\"*\\\"); window.removeEventListener(\\\"message\\\",window.messageReceived); window.messageReceived=(function (event){return (event.data.curriculum!==undefined) ? (WebIO.setval({\\\"name\\\":\\\"curriculum-data\\\",\\\"scope\\\":\\\"1791077681253331247\\\",\\\"id\\\":\\\"6277485604842161903\\\",\\\"type\\\":\\\"observable\\\"},event.data.curriculum)) : undefined}); return window.addEventListener(\\\"message\\\",window.messageReceived)})\"},\"style\":{\"padding\":\"0\",\"height\":\"100vh\",\"margin\":\"0\",\"border\":\"none\",\"width\":\"100%\"}},\"nodeType\":\"DOM\",\"type\":\"node\",\"instanceArgs\":{\"namespace\":\"html\",\"tag\":\"iframe\"},\"children\":[\"\"]}]},\n",
       "            window,\n",
       "        );\n",
       "    } else {\n",
       "        document\n",
       "            .querySelector('[data-webio-mountpoint=\"15318251055820580450\"]')\n",
       "            .innerHTML = (\n",
       "                '<div style=\"padding: 1em; background-color: #f8d6da; border: 1px solid #f5c6cb\">' +\n",
       "                '<p><strong>WebIO not detected.</strong></p>' +\n",
       "                '<p>Please read ' +\n",
       "                '<a href=\"https://juliagizmos.github.io/WebIO.jl/latest/troubleshooting/not-detected/\" target=\"_blank\">the troubleshooting guide</a> ' +\n",
       "                'for more information on how to resolve this issue.</p>' +\n",
       "                '<p><a href=\"https://juliagizmos.github.io/WebIO.jl/latest/troubleshooting/not-detected/\" target=\"_blank\">https://juliagizmos.github.io/WebIO.jl/latest/troubleshooting/not-detected/</a></p>' +\n",
       "                '</div>'\n",
       "            );\n",
       "    }\n",
       "    </script>\n",
       "</div>\n"
      ],
      "text/plain": [
       "WebIO.Scope(WebIO.Node{WebIO.DOM}(WebIO.DOM(:html, :iframe), Any[\"\"], Dict{Symbol,Any}(:src => \"http://localhost:8156\",:id => \"curriculum\",:events => Dict{Symbol,WebIO.JSString}(:load => WebIO.JSString(\"(function (){this.contentWindow.postMessage({\\\"options\\\":{\\\"hideTerms\\\":false,\\\"edit\\\":false},\\\"curriculum\\\":{\\\"name\\\":\\\"Mechanical Engineering\\\",\\\"dp_name\\\":\\\"4-Year Plan\\\",\\\"curriculum_terms\\\":[{\\\"name\\\":\\\"Term 1\\\",\\\"curriculum_items\\\":[{\\\"curriculum_requisites\\\":[],\\\"name\\\":\\\" \\\",\\\"metrics\\\":{\\\"complexity\\\":1.0,\\\"centrality\\\":0,\\\"blocking factor\\\":0,\\\"delay factor\\\":1.0},\\\"nameSub\\\":\\\"ENGL 111G\\\",\\\"id\\\":1,\\\"credits\\\":4,\\\"nameCanonical\\\":\\\"\\\"},{\\\"curriculum_requisites\\\":[],\\\"name\\\":\\\" \\\",\\\"metrics\\\":{\\\"complexity\\\":18.0,\\\"centrality\\\":0,\\\"blocking factor\\\":12,\\\"delay factor\\\":6.0},\\\"nameSub\\\":\\\"MATH 191G\\\",\\\"id\\\":2,\\\"credits\\\":4,\\\"nameCanonical\\\":\\\"\\\"},{\\\"curriculum_requisites\\\":[],\\\"name\\\":\\\" \\\",\\\"metrics\\\":{\\\"complexity\\\":3.0,\\\"centrality\\\":0,\\\"blocking factor\\\":1,\\\"delay factor\\\":2.0},\\\"nameSub\\\":\\\"M E 159\\\",\\\"id\\\":3,\\\"credits\\\":2,\\\"nameCanonical\\\":\\\"\\\"},{\\\"curriculum_requisites\\\":[],\\\"name\\\":\\\" \\\",\\\"metrics\\\":{\\\"complexity\\\":1.0,\\\"centrality\\\":0,\\\"blocking factor\\\":0,\\\"delay factor\\\":1.0},\\\"nameSub\\\":\\\"ENGR 100\\\",\\\"id\\\":4,\\\"credits\\\":3,\\\"nameCanonical\\\":\\\"\\\"}],\\\"id\\\":1},{\\\"name\\\":\\\"Term 2\\\",\\\"curriculum_items\\\":[{\\\"curriculum_requisites\\\":[{\\\"source_id\\\":2,\\\"target_id\\\":5,\\\"type\\\":\\\"CurriculumPrerequisite\\\"}],\\\"name\\\":\\\" \\\",\\\"metrics\\\":{\\\"complexity\\\":2.0,\\\"centrality\\\":0,\\\"blocking factor\\\":0,\\\"delay factor\\\":2.0},\\\"nameSub\\\":\\\"MATH 192G \\\",\\\"id\\\":5,\\\"credits\\\":4,\\\"nameCanonical\\\":\\\"\\\"},{\\\"curriculum_requisites\\\":[{\\\"source_id\\\":2,\\\"target_id\\\":6,\\\"type\\\":\\\"CurriculumPrerequisite\\\"}],\\\"name\\\":\\\" \\\",\\\"metrics\\\":{\\\"complexity\\\":16.0,\\\"centrality\\\":22,\\\"blocking factor\\\":10,\\\"delay factor\\\":6.0},\\\"nameSub\\\":\\\"PHYS 215G\\\",\\\"id\\\":6,\\\"credits\\\":3,\\\"nameCanonical\\\":\\\"\\\"},{\\\"curriculum_requisites\\\":[{\\\"source_id\\\":6,\\\"target_id\\\":7,\\\"type\\\":\\\"CurriculumCorequisite\\\"}],\\\"name\\\":\\\" \\\",\\\"metrics\\\":{\\\"complexity\\\":3.0,\\\"centrality\\\":0,\\\"blocking factor\\\":0,\\\"delay factor\\\":3.0},\\\"nameSub\\\":\\\"PHYS 215GL\\\",\\\"id\\\":7,\\\"credits\\\":1,\\\"nameCanonical\\\":\\\"\\\"},{\\\"curriculum_requisites\\\":[{\\\"source_id\\\":3,\\\"target_id\\\":8,\\\"type\\\":\\\"CurriculumPrerequisite\\\"}],\\\"name\\\":\\\" \\\",\\\"metrics\\\":{\\\"complexity\\\":2.0,\\\"centrality\\\":0,\\\"blocking factor\\\":0,\\\"delay factor\\\":2.0},\\\"nameSub\\\":\\\"M E 222\\\",\\\"id\\\":8,\\\"credits\\\":3,\\\"nameCanonical\\\":\\\"\\\"},{\\\"curriculum_requisites\\\":[],\\\"name\\\":\\\" \\\",\\\"metrics\\\":{\\\"complexity\\\":1.0,\\\"centrality\\\":0,\\\"blocking factor\\\":0,\\\"delay factor\\\":1.0},\\\"nameSub\\\":\\\"English Comp\\\",\\\"id\\\":9,\\\"credits\\\":3,\\\"nameCanonical\\\":\\\"\\\"}],\\\"id\\\":2},{\\\"name\\\":\\\"Term 3\\\",\\\"curriculum_items\\\":[{\\\"curriculum_requisites\\\":[{\\\"source_id\\\":6,\\\"target_id\\\":10,\\\"type\\\":\\\"CurriculumCorequisite\\\"}],\\\"name\\\":\\\" \\\",\\\"metrics\\\":{\\\"complexity\\\":11.0,\\\"centrality\\\":11,\\\"blocking factor\\\":5,\\\"delay factor\\\":6.0},\\\"nameSub\\\":\\\"M E 236\\\",\\\"id\\\":10,\\\"credits\\\":4,\\\"nameCanonical\\\":\\\"\\\"},{\\\"curriculum_requisites\\\":[],\\\"name\\\":\\\" \\\",\\\"metrics\\\":{\\\"complexity\\\":1.0,\\\"centrality\\\":0,\\\"blocking factor\\\":0,\\\"delay factor\\\":1.0},\\\"nameSub\\\":\\\"MATH 291G\\\",\\\"id\\\":11,\\\"credits\\\":3,\\\"nameCanonical\\\":\\\"\\\"},{\\\"curriculum_requisites\\\":[],\\\"name\\\":\\\" \\\",\\\"metrics\\\":{\\\"complexity\\\":1.0,\\\"centrality\\\":0,\\\"blocking factor\\\":0,\\\"delay factor\\\":1.0},\\\"nameSub\\\":\\\"PHYS 216G\\\",\\\"id\\\":12,\\\"credits\\\":3,\\\"nameCanonical\\\":\\\"\\\"},{\\\"curriculum_requisites\\\":[],\\\"name\\\":\\\" \\\",\\\"metrics\\\":{\\\"complexity\\\":1.0,\\\"centrality\\\":0,\\\"blocking factor\\\":0,\\\"delay factor\\\":1.0},\\\"nameSub\\\":\\\"M E 210\\\",\\\"id\\\":13,\\\"credits\\\":3,\\\"nameCanonical\\\":\\\"\\\"},{\\\"curriculum_requisites\\\":[],\\\"name\\\":\\\" \\\",\\\"metrics\\\":{\\\"complexity\\\":1.0,\\\"centrality\\\":0,\\\"blocking factor\\\":0,\\\"delay factor\\\":1.0},\\\"nameSub\\\":\\\"M E 261\\\",\\\"id\\\":14,\\\"credits\\\":3,\\\"nameCanonical\\\":\\\"\\\"}],\\\"id\\\":3},{\\\"name\\\":\\\"Term 4\\\",\\\"curriculum_items\\\":[{\\\"curriculum_requisites\\\":[],\\\"name\\\":\\\" \\\",\\\"metrics\\\":{\\\"complexity\\\":7.0,\\\"centrality\\\":0,\\\"blocking factor\\\":4,\\\"delay factor\\\":3.0},\\\"nameSub\\\":\\\"M E 228\\\",\\\"id\\\":15,\\\"credits\\\":3,\\\"nameCanonical\\\":\\\"\\\"},{\\\"curriculum_requisites\\\":[{\\\"source_id\\\":10,\\\"target_id\\\":16,\\\"type\\\":\\\"CurriculumPrerequisite\\\"}],\\\"name\\\":\\\" \\\",\\\"metrics\\\":{\\\"complexity\\\":8.0,\\\"centrality\\\":6,\\\"blocking factor\\\":2,\\\"delay factor\\\":6.0},\\\"nameSub\\\":\\\"M E 237\\\",\\\"id\\\":16,\\\"credits\\\":3,\\\"nameCanonical\\\":\\\"\\\"},{\\\"curriculum_requisites\\\":[{\\\"source_id\\\":10,\\\"target_id\\\":17,\\\"type\\\":\\\"CurriculumPrerequisite\\\"}],\\\"name\\\":\\\" \\\",\\\"metrics\\\":{\\\"complexity\\\":6.0,\\\"centrality\\\":5,\\\"blocking factor\\\":1,\\\"delay factor\\\":5.0},\\\"nameSub\\\":\\\"C E 301\\\",\\\"id\\\":17,\\\"credits\\\":3,\\\"nameCanonical\\\":\\\"\\\"},{\\\"curriculum_requisites\\\":[{\\\"source_id\\\":6,\\\"target_id\\\":18,\\\"type\\\":\\\"CurriculumPrerequisite\\\"}],\\\"name\\\":\\\" \\\",\\\"metrics\\\":{\\\"complexity\\\":6.0,\\\"centrality\\\":8,\\\"blocking factor\\\":2,\\\"delay factor\\\":4.0},\\\"nameSub\\\":\\\"M E 240\\\",\\\"id\\\":18,\\\"credits\\\":3,\\\"nameCanonical\\\":\\\"\\\"},{\\\"curriculum_requisites\\\":[],\\\"name\\\":\\\" \\\",\\\"metrics\\\":{\\\"complexity\\\":1.0,\\\"centrality\\\":0,\\\"blocking factor\\\":0,\\\"delay factor\\\":1.0},\\\"nameSub\\\":\\\"Oral Comm\\\",\\\"id\\\":19,\\\"credits\\\":3,\\\"nameCanonical\\\":\\\"\\\"}],\\\"id\\\":4},{\\\"name\\\":\\\"Term 5\\\",\\\"curriculum_items\\\":[{\\\"curriculum_requisites\\\":[{\\\"source_id\\\":15,\\\"target_id\\\":20,\\\"type\\\":\\\"CurriculumPrerequisite\\\"}],\\\"name\\\":\\\" \\\",\\\"metrics\\\":{\\\"complexity\\\":2.0,\\\"centrality\\\":0,\\\"blocking factor\\\":0,\\\"delay factor\\\":2.0},\\\"nameSub\\\":\\\"M E 238\\\",\\\"id\\\":20,\\\"credits\\\":3,\\\"nameCanonical\\\":\\\"\\\"},{\\\"curriculum_requisites\\\":[{\\\"source_id\\\":15,\\\"target_id\\\":21,\\\"type\\\":\\\"CurriculumPrerequisite\\\"}],\\\"name\\\":\\\" \\\",\\\"metrics\\\":{\\\"complexity\\\":4.0,\\\"centrality\\\":3,\\\"blocking factor\\\":1,\\\"delay factor\\\":3.0},\\\"nameSub\\\":\\\"M E 338\\\",\\\"id\\\":21,\\\"credits\\\":3,\\\"nameCanonical\\\":\\\"\\\"},{\\\"curriculum_requisites\\\":[],\\\"name\\\":\\\" \\\",\\\"metrics\\\":{\\\"complexity\\\":1.0,\\\"centrality\\\":0,\\\"blocking factor\\\":0,\\\"delay factor\\\":1.0},\\\"nameSub\\\":\\\"CHME 361\\\",\\\"id\\\":22,\\\"credits\\\":3,\\\"nameCanonical\\\":\\\"\\\"},{\\\"curriculum_requisites\\\":[{\\\"source_id\\\":18,\\\"target_id\\\":23,\\\"type\\\":\\\"CurriculumPrerequisite\\\"}],\\\"name\\\":\\\" \\\",\\\"metrics\\\":{\\\"complexity\\\":4.0,\\\"centrality\\\":0,\\\"blocking factor\\\":0,\\\"delay factor\\\":4.0},\\\"nameSub\\\":\\\"M E 340\\\",\\\"id\\\":23,\\\"credits\\\":3,\\\"nameCanonical\\\":\\\"\\\"},{\\\"curriculum_requisites\\\":[],\\\"name\\\":\\\" \\\",\\\"metrics\\\":{\\\"complexity\\\":1.0,\\\"centrality\\\":0,\\\"blocking factor\\\":0,\\\"delay factor\\\":1.0},\\\"nameSub\\\":\\\"M E 349\\\",\\\"id\\\":24,\\\"credits\\\":1,\\\"nameCanonical\\\":\\\"\\\"},{\\\"curriculum_requisites\\\":[],\\\"name\\\":\\\" \\\",\\\"metrics\\\":{\\\"complexity\\\":1.0,\\\"centrality\\\":0,\\\"blocking factor\\\":0,\\\"delay factor\\\":1.0},\\\"nameSub\\\":\\\"Fine Arts\\\",\\\"id\\\":25,\\\"credits\\\":3,\\\"nameCanonical\\\":\\\"\\\"}],\\\"id\\\":5},{\\\"name\\\":\\\"Term 6\\\",\\\"curriculum_items\\\":[{\\\"curriculum_requisites\\\":[{\\\"source_id\\\":16,\\\"target_id\\\":26,\\\"type\\\":\\\"CurriculumPrerequisite\\\"}],\\\"name\\\":\\\" \\\",\\\"metrics\\\":{\\\"complexity\\\":7.0,\\\"centrality\\\":6,\\\"blocking factor\\\":1,\\\"delay factor\\\":6.0},\\\"nameSub\\\":\\\"M E 326\\\",\\\"id\\\":26,\\\"credits\\\":3,\\\"nameCanonical\\\":\\\"\\\"},{\\\"curriculum_requisites\\\":[],\\\"name\\\":\\\" \\\",\\\"metrics\\\":{\\\"complexity\\\":1.0,\\\"centrality\\\":0,\\\"blocking factor\\\":0,\\\"delay factor\\\":1.0},\\\"nameSub\\\":\\\"Mech Elective\\\",\\\"id\\\":27,\\\"credits\\\":3,\\\"nameCanonical\\\":\\\"\\\"},{\\\"curriculum_requisites\\\":[{\\\"source_id\\\":17,\\\"target_id\\\":28,\\\"type\\\":\\\"CurriculumCorequisite\\\"},{\\\"source_id\\\":15,\\\"target_id\\\":28,\\\"type\\\":\\\"CurriculumPrerequisite\\\"}],\\\"name\\\":\\\" \\\",\\\"metrics\\\":{\\\"complexity\\\":5.0,\\\"centrality\\\":0,\\\"blocking factor\\\":0,\\\"delay factor\\\":5.0},\\\"nameSub\\\":\\\"M E 345\\\",\\\"id\\\":28,\\\"credits\\\":3,\\\"nameCanonical\\\":\\\"\\\"},{\\\"curriculum_requisites\\\":[{\\\"source_id\\\":18,\\\"target_id\\\":29,\\\"type\\\":\\\"CurriculumPrerequisite\\\"}],\\\"name\\\":\\\" \\\",\\\"metrics\\\":{\\\"complexity\\\":4.0,\\\"centrality\\\":0,\\\"blocking factor\\\":0,\\\"delay factor\\\":4.0},\\\"nameSub\\\":\\\"M E 341\\\",\\\"id\\\":29,\\\"credits\\\":3,\\\"nameCanonical\\\":\\\"\\\"},{\\\"curriculum_requisites\\\":[],\\\"name\\\":\\\" \\\",\\\"metrics\\\":{\\\"complexity\\\":1.0,\\\"centrality\\\":0,\\\"blocking factor\\\":0,\\\"delay factor\\\":1.0},\\\"nameSub\\\":\\\"Humanities\\\",\\\"id\\\":30,\\\"credits\\\":3,\\\"nameCanonical\\\":\\\"\\\"}],\\\"id\\\":6},{\\\"name\\\":\\\"Term 7\\\",\\\"curriculum_items\\\":[{\\\"curriculum_requisites\\\":[],\\\"name\\\":\\\" \\\",\\\"metrics\\\":{\\\"complexity\\\":1.0,\\\"centrality\\\":0,\\\"blocking factor\\\":0,\\\"delay factor\\\":1.0},\\\"nameSub\\\":\\\"PHYS 303V\\\",\\\"id\\\":31,\\\"credits\\\":3,\\\"nameCanonical\\\":\\\"\\\"},{\\\"curriculum_requisites\\\":[],\\\"name\\\":\\\" \\\",\\\"metrics\\\":{\\\"complexity\\\":3.0,\\\"centrality\\\":0,\\\"blocking factor\\\":1,\\\"delay factor\\\":2.0},\\\"nameSub\\\":\\\"ENGR 401\\\",\\\"id\\\":32,\\\"credits\\\":3,\\\"nameCanonical\\\":\\\"\\\"},{\\\"curriculum_requisites\\\":[{\\\"source_id\\\":26,\\\"target_id\\\":33,\\\"type\\\":\\\"CurriculumPrerequisite\\\"}],\\\"name\\\":\\\" \\\",\\\"metrics\\\":{\\\"complexity\\\":6.0,\\\"centrality\\\":0,\\\"blocking factor\\\":0,\\\"delay factor\\\":6.0},\\\"nameSub\\\":\\\"M E 425\\\",\\\"id\\\":33,\\\"credits\\\":3,\\\"nameCanonical\\\":\\\"\\\"},{\\\"curriculum_requisites\\\":[{\\\"source_id\\\":21,\\\"target_id\\\":34,\\\"type\\\":\\\"CurriculumPrerequisite\\\"}],\\\"name\\\":\\\" \\\",\\\"metrics\\\":{\\\"complexity\\\":3.0,\\\"centrality\\\":0,\\\"blocking factor\\\":0,\\\"delay factor\\\":3.0},\\\"nameSub\\\":\\\"M E 445\\\",\\\"id\\\":34,\\\"credits\\\":3,\\\"nameCanonical\\\":\\\"\\\"},{\\\"curriculum_requisites\\\":[],\\\"name\\\":\\\" \\\",\\\"metrics\\\":{\\\"complexity\\\":1.0,\\\"centrality\\\":0,\\\"blocking factor\\\":0,\\\"delay factor\\\":1.0},\\\"nameSub\\\":\\\"Behav Sci\\\",\\\"id\\\":35,\\\"credits\\\":3,\\\"nameCanonical\\\":\\\"\\\"}],\\\"id\\\":7},{\\\"name\\\":\\\"Term 8\\\",\\\"curriculum_items\\\":[{\\\"curriculum_requisites\\\":[{\\\"source_id\\\":32,\\\"target_id\\\":36,\\\"type\\\":\\\"CurriculumPrerequisite\\\"}],\\\"name\\\":\\\" \\\",\\\"metrics\\\":{\\\"complexity\\\":2.0,\\\"centrality\\\":0,\\\"blocking factor\\\":0,\\\"delay factor\\\":2.0},\\\"nameSub\\\":\\\"ENGR 402\\\",\\\"id\\\":36,\\\"credits\\\":3,\\\"nameCanonical\\\":\\\"\\\"},{\\\"curriculum_requisites\\\":[],\\\"name\\\":\\\" \\\",\\\"metrics\\\":{\\\"complexity\\\":1.0,\\\"centrality\\\":0,\\\"blocking factor\\\":0,\\\"delay factor\\\":1.0},\\\"nameSub\\\":\\\"Elective\\\",\\\"id\\\":37,\\\"credits\\\":6,\\\"nameCanonical\\\":\\\"\\\"},{\\\"curriculum_requisites\\\":[],\\\"name\\\":\\\" \\\",\\\"metrics\\\":{\\\"complexity\\\":1.0,\\\"centrality\\\":0,\\\"blocking factor\\\":0,\\\"delay factor\\\":1.0},\\\"nameSub\\\":\\\"VWW\\\",\\\"id\\\":38,\\\"credits\\\":3,\\\"nameCanonical\\\":\\\"\\\"},{\\\"curriculum_requisites\\\":[],\\\"name\\\":\\\" \\\",\\\"metrics\\\":{\\\"complexity\\\":1.0,\\\"centrality\\\":0,\\\"blocking factor\\\":0,\\\"delay factor\\\":1.0},\\\"nameSub\\\":\\\"Elective\\\",\\\"id\\\":39,\\\"credits\\\":1,\\\"nameCanonical\\\":\\\"\\\"}],\\\"id\\\":8}],\\\"institution\\\":\\\"New Mexico State University\\\"}},\\\"*\\\"); window.removeEventListener(\\\"message\\\",window.messageReceived); window.messageReceived=(function (event){return (event.data.curriculum!==undefined) ? (WebIO.setval({\\\"name\\\":\\\"curriculum-data\\\",\\\"scope\\\":\\\"1791077681253331247\\\",\\\"id\\\":\\\"6277485604842161903\\\",\\\"type\\\":\\\"observable\\\"},event.data.curriculum)) : undefined}); return window.addEventListener(\\\"message\\\",window.messageReceived)})\")),:style => Dict(:padding => \"0\",:height => \"100vh\",:margin => \"0\",:border => \"none\",:width => \"100%\"))), Dict{String,Tuple{Observables.AbstractObservable,Union{Nothing, Bool}}}(\"curriculum-data\" => (Observable{Dict{String,Any}} with 1 listeners. Value:\n",
       "Dict{String,Any}(\"options\" => Dict{String,Any}(\"hideTerms\" => false,\"edit\" => false),\"curriculum\" => Dict{String,Any}(\"name\" => \"Mechanical Engineering\",\"dp_name\" => \"4-Year Plan\",\"curriculum_terms\" => Dict{String,Any}[Dict(\"name\" => \"Term 1\",\"curriculum_items\" => Dict{String,Any}[Dict(\"curriculum_requisites\" => Dict{String,Any}[],\"name\" => \" \",\"metrics\" => Dict{String,Any}(\"complexity\" => 1.0,\"centrality\" => 0,\"blocking factor\" => 0,\"delay factor\" => 1.0),\"nameSub\" => \"ENGL 111G\",\"id\" => 1,\"credits\" => 4,\"nameCanonical\" => \"\"), Dict(\"curriculum_requisites\" => Dict{String,Any}[],\"name\" => \" \",\"metrics\" => Dict{String,Any}(\"complexity\" => 18.0,\"centrality\" => 0,\"blocking factor\" => 12,\"delay factor\" => 6.0),\"nameSub\" => \"MATH 191G\",\"id\" => 2,\"credits\" => 4,\"nameCanonical\" => \"\"), Dict(\"curriculum_requisites\" => Dict{String,Any}[],\"name\" => \" \",\"metrics\" => Dict{String,Any}(\"complexity\" => 3.0,\"centrality\" => 0,\"blocking factor\" => 1,\"delay factor\" => 2.0),\"nameSub\" => \"M E 159\",\"id\" => 3,\"credits\" => 2,\"nameCanonical\" => \"\"), Dict(\"curriculum_requisites\" => Dict{String,Any}[],\"name\" => \" \",\"metrics\" => Dict{String,Any}(\"complexity\" => 1.0,\"centrality\" => 0,\"blocking factor\" => 0,\"delay factor\" => 1.0),\"nameSub\" => \"ENGR 100\",\"id\" => 4,\"credits\" => 3,\"nameCanonical\" => \"\")],\"id\" => 1), Dict(\"name\" => \"Term 2\",\"curriculum_items\" => Dict{String,Any}[Dict(\"curriculum_requisites\" => Dict{String,Any}[Dict(\"source_id\" => 2,\"target_id\" => 5,\"type\" => \"CurriculumPrerequisite\")],\"name\" => \" \",\"metrics\" => Dict{String,Any}(\"complexity\" => 2.0,\"centrality\" => 0,\"blocking factor\" => 0,\"delay factor\" => 2.0),\"nameSub\" => \"MATH 192G \",\"id\" => 5,\"credits\" => 4,\"nameCanonical\" => \"\"), Dict(\"curriculum_requisites\" => Dict{String,Any}[Dict(\"source_id\" => 2,\"target_id\" => 6,\"type\" => \"CurriculumPrerequisite\")],\"name\" => \" \",\"metrics\" => Dict{String,Any}(\"complexity\" => 16.0,\"centrality\" => 22,\"blocking factor\" => 10,\"delay factor\" => 6.0),\"nameSub\" => \"PHYS 215G\",\"id\" => 6,\"credits\" => 3,\"nameCanonical\" => \"\"), Dict(\"curriculum_requisites\" => Dict{String,Any}[Dict(\"source_id\" => 6,\"target_id\" => 7,\"type\" => \"CurriculumCorequisite\")],\"name\" => \" \",\"metrics\" => Dict{String,Any}(\"complexity\" => 3.0,\"centrality\" => 0,\"blocking factor\" => 0,\"delay factor\" => 3.0),\"nameSub\" => \"PHYS 215GL\",\"id\" => 7,\"credits\" => 1,\"nameCanonical\" => \"\"), Dict(\"curriculum_requisites\" => Dict{String,Any}[Dict(\"source_id\" => 3,\"target_id\" => 8,\"type\" => \"CurriculumPrerequisite\")],\"name\" => \" \",\"metrics\" => Dict{String,Any}(\"complexity\" => 2.0,\"centrality\" => 0,\"blocking factor\" => 0,\"delay factor\" => 2.0),\"nameSub\" => \"M E 222\",\"id\" => 8,\"credits\" => 3,\"nameCanonical\" => \"\"), Dict(\"curriculum_requisites\" => Dict{String,Any}[],\"name\" => \" \",\"metrics\" => Dict{String,Any}(\"complexity\" => 1.0,\"centrality\" => 0,\"blocking factor\" => 0,\"delay factor\" => 1.0),\"nameSub\" => \"English Comp\",\"id\" => 9,\"credits\" => 3,\"nameCanonical\" => \"\")],\"id\" => 2), Dict(\"name\" => \"Term 3\",\"curriculum_items\" => Dict{String,Any}[Dict(\"curriculum_requisites\" => Dict{String,Any}[Dict(\"source_id\" => 6,\"target_id\" => 10,\"type\" => \"CurriculumCorequisite\")],\"name\" => \" \",\"metrics\" => Dict{String,Any}(\"complexity\" => 11.0,\"centrality\" => 11,\"blocking factor\" => 5,\"delay factor\" => 6.0),\"nameSub\" => \"M E 236\",\"id\" => 10,\"credits\" => 4,\"nameCanonical\" => \"\"), Dict(\"curriculum_requisites\" => Dict{String,Any}[],\"name\" => \" \",\"metrics\" => Dict{String,Any}(\"complexity\" => 1.0,\"centrality\" => 0,\"blocking factor\" => 0,\"delay factor\" => 1.0),\"nameSub\" => \"MATH 291G\",\"id\" => 11,\"credits\" => 3,\"nameCanonical\" => \"\"), Dict(\"curriculum_requisites\" => Dict{String,Any}[],\"name\" => \" \",\"metrics\" => Dict{String,Any}(\"complexity\" => 1.0,\"centrality\" => 0,\"blocking factor\" => 0,\"delay factor\" => 1.0),\"nameSub\" => \"PHYS 216G\",\"id\" => 12,\"credits\" => 3,\"nameCanonical\" => \"\"), Dict(\"curriculum_requisites\" => Dict{String,Any}[],\"name\" => \" \",\"metrics\" => Dict{String,Any}(\"complexity\" => 1.0,\"centrality\" => 0,\"blocking factor\" => 0,\"delay factor\" => 1.0),\"nameSub\" => \"M E 210\",\"id\" => 13,\"credits\" => 3,\"nameCanonical\" => \"\"), Dict(\"curriculum_requisites\" => Dict{String,Any}[],\"name\" => \" \",\"metrics\" => Dict{String,Any}(\"complexity\" => 1.0,\"centrality\" => 0,\"blocking factor\" => 0,\"delay factor\" => 1.0),\"nameSub\" => \"M E 261\",\"id\" => 14,\"credits\" => 3,\"nameCanonical\" => \"\")],\"id\" => 3), Dict(\"name\" => \"Term 4\",\"curriculum_items\" => Dict{String,Any}[Dict(\"curriculum_requisites\" => Dict{String,Any}[],\"name\" => \" \",\"metrics\" => Dict{String,Any}(\"complexity\" => 7.0,\"centrality\" => 0,\"blocking factor\" => 4,\"delay factor\" => 3.0),\"nameSub\" => \"M E 228\",\"id\" => 15,\"credits\" => 3,\"nameCanonical\" => \"\"), Dict(\"curriculum_requisites\" => Dict{String,Any}[Dict(\"source_id\" => 10,\"target_id\" => 16,\"type\" => \"CurriculumPrerequisite\")],\"name\" => \" \",\"metrics\" => Dict{String,Any}(\"complexity\" => 8.0,\"centrality\" => 6,\"blocking factor\" => 2,\"delay factor\" => 6.0),\"nameSub\" => \"M E 237\",\"id\" => 16,\"credits\" => 3,\"nameCanonical\" => \"\"), Dict(\"curriculum_requisites\" => Dict{String,Any}[Dict(\"source_id\" => 10,\"target_id\" => 17,\"type\" => \"CurriculumPrerequisite\")],\"name\" => \" \",\"metrics\" => Dict{String,Any}(\"complexity\" => 6.0,\"centrality\" => 5,\"blocking factor\" => 1,\"delay factor\" => 5.0),\"nameSub\" => \"C E 301\",\"id\" => 17,\"credits\" => 3,\"nameCanonical\" => \"\"), Dict(\"curriculum_requisites\" => Dict{String,Any}[Dict(\"source_id\" => 6,\"target_id\" => 18,\"type\" => \"CurriculumPrerequisite\")],\"name\" => \" \",\"metrics\" => Dict{String,Any}(\"complexity\" => 6.0,\"centrality\" => 8,\"blocking factor\" => 2,\"delay factor\" => 4.0),\"nameSub\" => \"M E 240\",\"id\" => 18,\"credits\" => 3,\"nameCanonical\" => \"\"), Dict(\"curriculum_requisites\" => Dict{String,Any}[],\"name\" => \" \",\"metrics\" => Dict{String,Any}(\"complexity\" => 1.0,\"centrality\" => 0,\"blocking factor\" => 0,\"delay factor\" => 1.0),\"nameSub\" => \"Oral Comm\",\"id\" => 19,\"credits\" => 3,\"nameCanonical\" => \"\")],\"id\" => 4), Dict(\"name\" => \"Term 5\",\"curriculum_items\" => Dict{String,Any}[Dict(\"curriculum_requisites\" => Dict{String,Any}[Dict(\"source_id\" => 15,\"target_id\" => 20,\"type\" => \"CurriculumPrerequisite\")],\"name\" => \" \",\"metrics\" => Dict{String,Any}(\"complexity\" => 2.0,\"centrality\" => 0,\"blocking factor\" => 0,\"delay factor\" => 2.0),\"nameSub\" => \"M E 238\",\"id\" => 20,\"credits\" => 3,\"nameCanonical\" => \"\"), Dict(\"curriculum_requisites\" => Dict{String,Any}[Dict(\"source_id\" => 15,\"target_id\" => 21,\"type\" => \"CurriculumPrerequisite\")],\"name\" => \" \",\"metrics\" => Dict{String,Any}(\"complexity\" => 4.0,\"centrality\" => 3,\"blocking factor\" => 1,\"delay factor\" => 3.0),\"nameSub\" => \"M E 338\",\"id\" => 21,\"credits\" => 3,\"nameCanonical\" => \"\"), Dict(\"curriculum_requisites\" => Dict{String,Any}[],\"name\" => \" \",\"metrics\" => Dict{String,Any}(\"complexity\" => 1.0,\"centrality\" => 0,\"blocking factor\" => 0,\"delay factor\" => 1.0),\"nameSub\" => \"CHME 361\",\"id\" => 22,\"credits\" => 3,\"nameCanonical\" => \"\"), Dict(\"curriculum_requisites\" => Dict{String,Any}[Dict(\"source_id\" => 18,\"target_id\" => 23,\"type\" => \"CurriculumPrerequisite\")],\"name\" => \" \",\"metrics\" => Dict{String,Any}(\"complexity\" => 4.0,\"centrality\" => 0,\"blocking factor\" => 0,\"delay factor\" => 4.0),\"nameSub\" => \"M E 340\",\"id\" => 23,\"credits\" => 3,\"nameCanonical\" => \"\"), Dict(\"curriculum_requisites\" => Dict{String,Any}[],\"name\" => \" \",\"metrics\" => Dict{String,Any}(\"complexity\" => 1.0,\"centrality\" => 0,\"blocking factor\" => 0,\"delay factor\" => 1.0),\"nameSub\" => \"M E 349\",\"id\" => 24,\"credits\" => 1,\"nameCanonical\" => \"\"), Dict(\"curriculum_requisites\" => Dict{String,Any}[],\"name\" => \" \",\"metrics\" => Dict{String,Any}(\"complexity\" => 1.0,\"centrality\" => 0,\"blocking factor\" => 0,\"delay factor\" => 1.0),\"nameSub\" => \"Fine Arts\",\"id\" => 25,\"credits\" => 3,\"nameCanonical\" => \"\")],\"id\" => 5), Dict(\"name\" => \"Term 6\",\"curriculum_items\" => Dict{String,Any}[Dict(\"curriculum_requisites\" => Dict{String,Any}[Dict(\"source_id\" => 16,\"target_id\" => 26,\"type\" => \"CurriculumPrerequisite\")],\"name\" => \" \",\"metrics\" => Dict{String,Any}(\"complexity\" => 7.0,\"centrality\" => 6,\"blocking factor\" => 1,\"delay factor\" => 6.0),\"nameSub\" => \"M E 326\",\"id\" => 26,\"credits\" => 3,\"nameCanonical\" => \"\"), Dict(\"curriculum_requisites\" => Dict{String,Any}[],\"name\" => \" \",\"metrics\" => Dict{String,Any}(\"complexity\" => 1.0,\"centrality\" => 0,\"blocking factor\" => 0,\"delay factor\" => 1.0),\"nameSub\" => \"Mech Elective\",\"id\" => 27,\"credits\" => 3,\"nameCanonical\" => \"\"), Dict(\"curriculum_requisites\" => Dict{String,Any}[Dict(\"source_id\" => 17,\"target_id\" => 28,\"type\" => \"CurriculumCorequisite\"), Dict(\"source_id\" => 15,\"target_id\" => 28,\"type\" => \"CurriculumPrerequisite\")],\"name\" => \" \",\"metrics\" => Dict{String,Any}(\"complexity\" => 5.0,\"centrality\" => 0,\"blocking factor\" => 0,\"delay factor\" => 5.0),\"nameSub\" => \"M E 345\",\"id\" => 28,\"credits\" => 3,\"nameCanonical\" => \"\"), Dict(\"curriculum_requisites\" => Dict{String,Any}[Dict(\"source_id\" => 18,\"target_id\" => 29,\"type\" => \"CurriculumPrerequisite\")],\"name\" => \" \",\"metrics\" => Dict{String,Any}(\"complexity\" => 4.0,\"centrality\" => 0,\"blocking factor\" => 0,\"delay factor\" => 4.0),\"nameSub\" => \"M E 341\",\"id\" => 29,\"credits\" => 3,\"nameCanonical\" => \"\"), Dict(\"curriculum_requisites\" => Dict{String,Any}[],\"name\" => \" \",\"metrics\" => Dict{String,Any}(\"complexity\" => 1.0,\"centrality\" => 0,\"blocking factor\" => 0,\"delay factor\" => 1.0),\"nameSub\" => \"Humanities\",\"id\" => 30,\"credits\" => 3,\"nameCanonical\" => \"\")],\"id\" => 6), Dict(\"name\" => \"Term 7\",\"curriculum_items\" => Dict{String,Any}[Dict(\"curriculum_requisites\" => Dict{String,Any}[],\"name\" => \" \",\"metrics\" => Dict{String,Any}(\"complexity\" => 1.0,\"centrality\" => 0,\"blocking factor\" => 0,\"delay factor\" => 1.0),\"nameSub\" => \"PHYS 303V\",\"id\" => 31,\"credits\" => 3,\"nameCanonical\" => \"\"), Dict(\"curriculum_requisites\" => Dict{String,Any}[],\"name\" => \" \",\"metrics\" => Dict{String,Any}(\"complexity\" => 3.0,\"centrality\" => 0,\"blocking factor\" => 1,\"delay factor\" => 2.0),\"nameSub\" => \"ENGR 401\",\"id\" => 32,\"credits\" => 3,\"nameCanonical\" => \"\"), Dict(\"curriculum_requisites\" => Dict{String,Any}[Dict(\"source_id\" => 26,\"target_id\" => 33,\"type\" => \"CurriculumPrerequisite\")],\"name\" => \" \",\"metrics\" => Dict{String,Any}(\"complexity\" => 6.0,\"centrality\" => 0,\"blocking factor\" => 0,\"delay factor\" => 6.0),\"nameSub\" => \"M E 425\",\"id\" => 33,\"credits\" => 3,\"nameCanonical\" => \"\"), Dict(\"curriculum_requisites\" => Dict{String,Any}[Dict(\"source_id\" => 21,\"target_id\" => 34,\"type\" => \"CurriculumPrerequisite\")],\"name\" => \" \",\"metrics\" => Dict{String,Any}(\"complexity\" => 3.0,\"centrality\" => 0,\"blocking factor\" => 0,\"delay factor\" => 3.0),\"nameSub\" => \"M E 445\",\"id\" => 34,\"credits\" => 3,\"nameCanonical\" => \"\"), Dict(\"curriculum_requisites\" => Dict{String,Any}[],\"name\" => \" \",\"metrics\" => Dict{String,Any}(\"complexity\" => 1.0,\"centrality\" => 0,\"blocking factor\" => 0,\"delay factor\" => 1.0),\"nameSub\" => \"Behav Sci\",\"id\" => 35,\"credits\" => 3,\"nameCanonical\" => \"\")],\"id\" => 7), Dict(\"name\" => \"Term 8\",\"curriculum_items\" => Dict{String,Any}[Dict(\"curriculum_requisites\" => Dict{String,Any}[Dict(\"source_id\" => 32,\"target_id\" => 36,\"type\" => \"CurriculumPrerequisite\")],\"name\" => \" \",\"metrics\" => Dict{String,Any}(\"complexity\" => 2.0,\"centrality\" => 0,\"blocking factor\" => 0,\"delay factor\" => 2.0),\"nameSub\" => \"ENGR 402\",\"id\" => 36,\"credits\" => 3,\"nameCanonical\" => \"\"), Dict(\"curriculum_requisites\" => Dict{String,Any}[],\"name\" => \" \",\"metrics\" => Dict{String,Any}(\"complexity\" => 1.0,\"centrality\" => 0,\"blocking factor\" => 0,\"delay factor\" => 1.0),\"nameSub\" => \"Elective\",\"id\" => 37,\"credits\" => 6,\"nameCanonical\" => \"\"), Dict(\"curriculum_requisites\" => Dict{String,Any}[],\"name\" => \" \",\"metrics\" => Dict{String,Any}(\"complexity\" => 1.0,\"centrality\" => 0,\"blocking factor\" => 0,\"delay factor\" => 1.0),\"nameSub\" => \"VWW\",\"id\" => 38,\"credits\" => 3,\"nameCanonical\" => \"\"), Dict(\"curriculum_requisites\" => Dict{String,Any}[],\"name\" => \" \",\"metrics\" => Dict{String,Any}(\"complexity\" => 1.0,\"centrality\" => 0,\"blocking factor\" => 0,\"delay factor\" => 1.0),\"nameSub\" => \"Elective\",\"id\" => 39,\"credits\" => 1,\"nameCanonical\" => \"\")],\"id\" => 8)],\"institution\" => \"New Mexico State University\")), nothing)), Set{String}(), nothing, WebIO.Asset[], Dict{Any,Any}(), WebIO.ConnectionPool(Channel{Any}(sz_max:32,sz_curr:0), Set{WebIO.AbstractConnection}(), Base.GenericCondition{Base.AlwaysLockedST}(Base.InvasiveLinkedList{Task}(Task (runnable) @0x0000000121618d90, Task (runnable) @0x0000000121618d90), Base.AlwaysLockedST(1))), WebIO.JSString[])"
      ]
     },
     "execution_count": 12,
     "metadata": {
      "application/vnd.webio.node+json": {
       "kernelId": null
      }
     },
     "output_type": "execute_result"
    }
   ],
   "source": [
    "dp = schools_plans[\"new-mexico-state\"][\"mechanical-engineering\"]\n",
    "visualize(dp, notebook=true)"
   ]
  },
  {
   "cell_type": "markdown",
   "metadata": {},
   "source": [
    "## Degree Plan Analytics\n",
    "Next let us take into account the term-by-term information associated with a degree plan. A degree plan adds a temporal element to a curriculum. The manner in which a curriculum is structured over time in the form of a degree plan can impact the success rates of students attempting to complete the curriculum."
   ]
  },
  {
   "cell_type": "markdown",
   "metadata": {},
   "source": [
    "### Analysis of a single degree plan \n",
    "The `basic_metrics()` function can be applied to a degree plan in order to obtain information about how the credit hours in the curriculum are spread over the terms in the degree plan.  As an example, consider the music education and mechanical engineering programs at Colorado State University."
   ]
  },
  {
   "cell_type": "code",
   "execution_count": 27,
   "metadata": {},
   "outputs": [
    {
     "name": "stdout",
     "output_type": "stream",
     "text": [
      "\n",
      "Curriculum: Music Education\n",
      "Degree Plan: 4-Year Plan\n",
      "  total credit hours = 120\n",
      "  number of terms = 8\n",
      "  max. credits in a term = 17, in term 1\n",
      "  min. credits in a term = 11, in term 6\n",
      "  avg. credits per term = 15.0, with std. dev. = 1.7320508075688772\n",
      "\n"
     ]
    }
   ],
   "source": [
    "dp = schools_plans[\"colorado-state\"][\"music-education\"]\n",
    "metrics = basic_metrics(dp)\n",
    "println(String(take!(metrics)))"
   ]
  },
  {
   "cell_type": "code",
   "execution_count": 28,
   "metadata": {},
   "outputs": [
    {
     "name": "stdout",
     "output_type": "stream",
     "text": [
      "\n",
      "Curriculum: Mechanical Engineering\n",
      "Degree Plan: 4-Year Plan\n",
      "  total credit hours = 129\n",
      "  number of terms = 8\n",
      "  max. credits in a term = 20, in term 4\n",
      "  min. credits in a term = 13, in term 6\n",
      "  avg. credits per term = 16.125, with std. dev. = 2.0879116360612584\n",
      "\n"
     ]
    }
   ],
   "source": [
    "dp = schools_plans[\"colorado-state\"][\"mechanical-engineering\"]\n",
    "metrics = basic_metrics(dp)\n",
    "println(String(take!(metrics)))"
   ]
  },
  {
   "cell_type": "markdown",
   "metadata": {},
   "source": [
    "### Degree plan optimization\n",
    "The Curricular Analytics toolbox contains a number of functions that will create different degree plans for a curriculum depending upon various optimization criteria.  In order to use these functions, you must first install the Gourbi solver, called [Gurobi Optimizer](https://www.gurobi.com/downloads/gurobi-optimizer-eula). Gurobi is a commercial product, and requires a license key; however, [academic licenses](https://www.gurobi.com/downloads/end-user-license-agreement-academic) are available at no cost."
   ]
  },
  {
   "cell_type": "code",
   "execution_count": 36,
   "metadata": {},
   "outputs": [],
   "source": [
    "# Uncomment the following two lines if the Gurobi package has not yet been included in your Julia environment.\n",
    "#using Pkg\n",
    "#Pkg.add(\"Gurobi\")\n",
    "using Gurobi"
   ]
  },
  {
   "cell_type": "markdown",
   "metadata": {},
   "source": [
    "First we will create a degree plan for the Colorado State mechanical engineering program that attempts to balance the credits evenly across eight terms.  This is accomplished by passing the `\"Balance\"` objective to the `optimize_plan()` function."
   ]
  },
  {
   "cell_type": "code",
   "execution_count": 37,
   "metadata": {
    "scrolled": false
   },
   "outputs": [
    {
     "ename": "LoadError",
     "evalue": "UndefVarError: optimize_plan not defined",
     "output_type": "error",
     "traceback": [
      "UndefVarError: optimize_plan not defined",
      "",
      "Stacktrace:",
      " [1] top-level scope at In[37]:2",
      " [2] include_string(::Function, ::Module, ::String, ::String) at ./loading.jl:1091"
     ]
    }
   ],
   "source": [
    "dp = schools_plans[\"colorado-state\"][\"mechanical-engineering\"]\n",
    "dp_new = optimize_plan(dp.curriculum, 8, 12, 18, [\"Balance\"]);\n",
    "visualize(dp_new, notebook=true)"
   ]
  },
  {
   "cell_type": "markdown",
   "metadata": {},
   "source": [
    "Notice that rearranging the terms in which courses are offered has no impact on curricular complexity.  I.e., curricular complexity is a function of the curriculum, not the plan created for the curriculum.  In order to see if the new plan is more balanced, run the `basic_metrics()` function on the new degree plan."
   ]
  },
  {
   "cell_type": "code",
   "execution_count": 38,
   "metadata": {},
   "outputs": [
    {
     "ename": "LoadError",
     "evalue": "UndefVarError: dp_new not defined",
     "output_type": "error",
     "traceback": [
      "UndefVarError: dp_new not defined",
      "",
      "Stacktrace:",
      " [1] top-level scope at In[38]:1",
      " [2] include_string(::Function, ::Module, ::String, ::String) at ./loading.jl:1091"
     ]
    }
   ],
   "source": [
    "metrics = basic_metrics(dp_new)\n",
    "println(String(take!(metrics)))"
   ]
  },
  {
   "cell_type": "code",
   "execution_count": 18,
   "metadata": {},
   "outputs": [
    {
     "ename": "LoadError",
     "evalue": "UndefVarError: dp not defined",
     "output_type": "error",
     "traceback": [
      "UndefVarError: dp not defined",
      "",
      "Stacktrace:",
      " [1] top-level scope at In[18]:1",
      " [2] include_string(::Function, ::Module, ::String, ::String) at ./loading.jl:1091"
     ]
    }
   ],
   "source": [
    "dp_new = optimize_plan(dp.curriculum, 8, 12, 18, [\"Prereq\"]);\n",
    "visualize(dp_new, notebook=true)"
   ]
  },
  {
   "cell_type": "code",
   "execution_count": 19,
   "metadata": {},
   "outputs": [
    {
     "ename": "LoadError",
     "evalue": "UndefVarError: dp_new not defined",
     "output_type": "error",
     "traceback": [
      "UndefVarError: dp_new not defined",
      "",
      "Stacktrace:",
      " [1] top-level scope at In[19]:1",
      " [2] include_string(::Function, ::Module, ::String, ::String) at ./loading.jl:1091"
     ]
    }
   ],
   "source": [
    "metrics = basic_metrics(dp_new)\n",
    "println(String(take!(metrics)))"
   ]
  },
  {
   "cell_type": "markdown",
   "metadata": {},
   "source": [
    "Thus, the new degree plan is more balanced than the original degree; however, the new degree plan has some features that are probably not desirable, e.g., technical electives in the first term.  These courses could be swapped with core courses that appear later in the curriculum.  In addition, it is possible to \"lock\" any course into a particular term as a part of the specificiations provided to `optimize_plan()`.  Finally, notice the chemistry is now taken much later in the new curriculum (in term 6 rather than term 1).\n",
    "\n",
    "Next, we demonstrate the multi-objective capabilities of the `optimize_plan()` function.  Below we provide two objectives; `\"Balance\"` attempts to balance the credit hours across the terms as evenly as possible, and `\"Prereq\"` attempts to keep the pre- and co-requisites of every course as close as possible to the course that requires them. "
   ]
  },
  {
   "cell_type": "code",
   "execution_count": 20,
   "metadata": {
    "scrolled": false
   },
   "outputs": [
    {
     "ename": "LoadError",
     "evalue": "UndefVarError: dp not defined",
     "output_type": "error",
     "traceback": [
      "UndefVarError: dp not defined",
      "",
      "Stacktrace:",
      " [1] top-level scope at In[20]:1",
      " [2] include_string(::Function, ::Module, ::String, ::String) at ./loading.jl:1091"
     ]
    }
   ],
   "source": [
    "dp_new = optimize_plan(dp.curriculum, 8, 12, 18, [\"Balance\", \"Prereq\"]);\n",
    "visualize(dp_new, notebook=true)"
   ]
  },
  {
   "cell_type": "markdown",
   "metadata": {},
   "source": [
    "Notice that as compared to the prior degree plan (the one that only used the `\"Balance\"` objective), MECH 103 is now closer to MECH 105, and MECH 105 is now closer to MECH 200, MECH 201, and MECH 231.  In addition, the degree plan maintained the same balance that the previous plan had, as demonstrated below."
   ]
  },
  {
   "cell_type": "code",
   "execution_count": 21,
   "metadata": {},
   "outputs": [
    {
     "ename": "LoadError",
     "evalue": "UndefVarError: dp_new not defined",
     "output_type": "error",
     "traceback": [
      "UndefVarError: dp_new not defined",
      "",
      "Stacktrace:",
      " [1] top-level scope at In[21]:1",
      " [2] include_string(::Function, ::Module, ::String, ::String) at ./loading.jl:1091"
     ]
    }
   ],
   "source": [
    "metrics = basic_metrics(dp_new)\n",
    "println(String(take!(metrics)))"
   ]
  },
  {
   "cell_type": "markdown",
   "metadata": {},
   "source": [
    "## References\n",
    "<a id='References'></a>\n",
    "\n",
    "APLU, Powered by Publics website (accessed August 15, 2019). https://www.aplu.org/projects-and-initiatives/center-for-public-university-transformation/powered-by-publics\n",
    "\n",
    "Heileman, G. L., Abdallah, C.T., Slim, A., and Hickman, M. (2018). Curricular analytics: A framework for quantifying the impact of curricular reforms and pedagogical innovations. www.arXiv.org, arXiv:1811.09676 [cs.CY].\n",
    "\n",
    "Heileman, G. L., Free, H. W., Abar, O. and Thompson-Arjona, W. G, (2019). CurricularAnalytics.jl Toolbox. https://github.com/heileman/CurricularAnalytics.jl."
   ]
  }
 ],
 "metadata": {
  "@webio": {
   "lastCommId": "4c849c8bf5bf4ec3ad88cdb20e9b5a7c",
   "lastKernelId": "b76ffe58-60fd-4d75-94dc-8eaaa668a3fa"
  },
  "kernelspec": {
   "display_name": "Julia 1.6.0",
   "language": "julia",
   "name": "julia-1.6"
  },
  "language_info": {
   "file_extension": ".jl",
   "mimetype": "application/julia",
   "name": "julia",
   "version": "1.6.0"
  }
 },
 "nbformat": 4,
 "nbformat_minor": 2
}
