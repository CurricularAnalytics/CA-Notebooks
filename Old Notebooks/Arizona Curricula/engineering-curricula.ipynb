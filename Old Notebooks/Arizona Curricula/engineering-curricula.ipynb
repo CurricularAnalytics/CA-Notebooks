{
 "cells": [
  {
   "cell_type": "markdown",
   "metadata": {},
   "source": [
    "# <center>University of Arizona Curricula - College of Engineering</center>\n",
    "\n",
    "This notebook contains a prelmininary analyses of the curricula and degree plans associated with the undergradatue programs in the College of Engineering at the University of Arizona.  In order to execute the analyses provided in this notebook, you need to load the following Julia packages:"
   ]
  },
  {
   "cell_type": "code",
   "execution_count": 1,
   "metadata": {},
   "outputs": [],
   "source": [
    "#using Pkg\n",
    "#if split(pwd(),Base.Filesystem.path_separator)[end] != \"CurricularAnalytics.jl\"\n",
    "#    cd(\"../../CurricularAnalytics.jl/\")\n",
    "#end\n",
    "#pkg\"activate .\"\n",
    "#using CurricularAnalytics\n",
    "#cd(\"../CA-Notebooks/Arizona Curricula\")"
   ]
  },
  {
   "cell_type": "code",
   "execution_count": 3,
   "metadata": {},
   "outputs": [],
   "source": [
    "using CurricularAnalytics\n",
    "using CurricularVisualization\n",
    "using Glob\n",
    "using CSV\n",
    "using DataFrames\n",
    "using Statistics"
   ]
  },
  {
   "cell_type": "markdown",
   "metadata": {},
   "source": [
    "## Curricular Analytics Toolbox\n",
    "\n",
    "The analyses in this notebook makes use of the Curricular Analytics toolbox built using the Julia programming language and available as open source software [1]. As a starting point, you may find it useful to read the toolbox documenation, as well as the curricular analytics paper listed in the References section below [2].\n",
    "\n",
    "### Create the Data Structures \n",
    "Degree plans associated with four different disciplines (animal science, mechanical engineering, music education, and psychology) were collected from each of the eleven schools in the cluster. The degree plans were stored as CSV files using the format for degree plans specified in the Curricular Analytics toolbox.  The files are organized in a directory structure that is assumed to be in the same directory as this notebook as follows:  `./programs/<college-name>/`\n",
    "\n",
    "Asuuming the aforementioned directory structure, we first create an dictionay called `plans` containing the degree plans for each of the programs in a given college, in this case the college of engineering."
   ]
  },
  {
   "cell_type": "code",
   "execution_count": 4,
   "metadata": {},
   "outputs": [],
   "source": [
    "college = \"college_of_engineering\"\n",
    "plans = Dict{String, DegreePlan}()\n",
    "program_files = glob(\"*\", \"./programs/$college\")\n",
    "for program in program_files\n",
    "    dp = read_csv(program)\n",
    "    complexity(dp.curriculum)  # compute the curricular complexity of the degree plan\n",
    "    plans[dp.curriculum.name] = dp    # store the degree plan the dictionary \n",
    "end"
   ]
  },
  {
   "cell_type": "code",
   "execution_count": 5,
   "metadata": {
    "scrolled": false
   },
   "outputs": [
    {
     "data": {
      "application/vnd.webio.node+json": {
       "children": [
        {
         "children": [
          ""
         ],
         "instanceArgs": {
          "namespace": "html",
          "tag": "iframe"
         },
         "nodeType": "DOM",
         "props": {
          "events": {
           "load": "(function (){this.contentWindow.postMessage({\"options\":{\"hideTerms\":false,\"edit\":false},\"curriculum\":{\"name\":\"Systems Engineering\",\"dp_name\":\"2019-20 Degree Plan\",\"curriculum_terms\":[{\"name\":\"Term 1\",\"curriculum_items\":[{\"curriculum_requisites\":[],\"name\":\"MATH 125\",\"metrics\":{\"complexity\":25.0,\"centrality\":0,\"blocking factor\":19,\"delay factor\":6.0},\"nameSub\":\"Calculus I w/ Applications\",\"id\":1,\"credits\":3,\"nameCanonical\":\"\"},{\"curriculum_requisites\":[],\"name\":\"CHEM 151\",\"metrics\":{\"complexity\":3.0,\"centrality\":0,\"blocking factor\":1,\"delay factor\":2.0},\"nameSub\":\"Gen Chemistry I\",\"id\":2,\"credits\":4,\"nameCanonical\":\"\"},{\"curriculum_requisites\":[],\"name\":\"ENGL 101\",\"metrics\":{\"complexity\":5.0,\"centrality\":0,\"blocking factor\":2,\"delay factor\":3.0},\"nameSub\":\"First-year Comp.\",\"id\":3,\"credits\":3,\"nameCanonical\":\"\"},{\"curriculum_requisites\":[{\"source_id\":1,\"target_id\":4,\"type\":\"CurriculumCorequisite\"}],\"name\":\"ENGR 102\",\"metrics\":{\"complexity\":4.0,\"centrality\":3,\"blocking factor\":1,\"delay factor\":3.0},\"nameSub\":\"Intro to Engineering\",\"id\":4,\"credits\":3,\"nameCanonical\":\"\"},{\"curriculum_requisites\":[],\"name\":\" \",\"metrics\":{\"complexity\":1.0,\"centrality\":0,\"blocking factor\":0,\"delay factor\":1.0},\"nameSub\":\"Tier I General Ed.\",\"id\":5,\"credits\":3,\"nameCanonical\":\"\"}],\"id\":1},{\"name\":\"Term 2\",\"curriculum_items\":[{\"curriculum_requisites\":[{\"source_id\":1,\"target_id\":6,\"type\":\"CurriculumPrerequisite\"}],\"name\":\"MATH 129\",\"metrics\":{\"complexity\":20.0,\"centrality\":46,\"blocking factor\":14,\"delay factor\":6.0},\"nameSub\":\"Calculus II\",\"id\":6,\"credits\":3,\"nameCanonical\":\"\"},{\"curriculum_requisites\":[{\"source_id\":1,\"target_id\":7,\"type\":\"CurriculumCorequisite\"}],\"name\":\"ECE 175\",\"metrics\":{\"complexity\":8.0,\"centrality\":10,\"blocking factor\":4,\"delay factor\":4.0},\"nameSub\":\"Programming for Eng. Apps.\",\"id\":7,\"credits\":3,\"nameCanonical\":\"\"},{\"curriculum_requisites\":[{\"source_id\":2,\"target_id\":8,\"type\":\"CurriculumPrerequisite\"}],\"name\":\"CHEM 152\",\"metrics\":{\"complexity\":2.0,\"centrality\":0,\"blocking factor\":0,\"delay factor\":2.0},\"nameSub\":\"Gen Chemistry II\",\"id\":8,\"credits\":4,\"nameCanonical\":\"\"},{\"curriculum_requisites\":[{\"source_id\":3,\"target_id\":9,\"type\":\"CurriculumPrerequisite\"}],\"name\":\"ENGL 102\",\"metrics\":{\"complexity\":4.0,\"centrality\":3,\"blocking factor\":1,\"delay factor\":3.0},\"nameSub\":\"First-year Comp.\",\"id\":9,\"credits\":3,\"nameCanonical\":\"\"},{\"curriculum_requisites\":[{\"source_id\":6,\"target_id\":10,\"type\":\"CurriculumCorequisite\"},{\"source_id\":1,\"target_id\":10,\"type\":\"CurriculumPrerequisite\"}],\"name\":\"PHYS 141\",\"metrics\":{\"complexity\":11.0,\"centrality\":20,\"blocking factor\":5,\"delay factor\":6.0},\"nameSub\":\"Intro Mechanics\",\"id\":10,\"credits\":4,\"nameCanonical\":\"\"}],\"id\":2},{\"name\":\"Term 3\",\"curriculum_items\":[{\"curriculum_requisites\":[{\"source_id\":6,\"target_id\":11,\"type\":\"CurriculumPrerequisite\"}],\"name\":\"SIE 250\",\"metrics\":{\"complexity\":5.0,\"centrality\":4,\"blocking factor\":1,\"delay factor\":4.0},\"nameSub\":\"Intro to Sys and Indust Eng\",\"id\":11,\"credits\":3,\"nameCanonical\":\"\"},{\"curriculum_requisites\":[{\"source_id\":6,\"target_id\":12,\"type\":\"CurriculumPrerequisite\"}],\"name\":\"MATH  223\",\"metrics\":{\"complexity\":3.0,\"centrality\":0,\"blocking factor\":0,\"delay factor\":3.0},\"nameSub\":\"Vector Calculus\",\"id\":12,\"credits\":4,\"nameCanonical\":\"\"},{\"curriculum_requisites\":[{\"source_id\":10,\"target_id\":13,\"type\":\"CurriculumPrerequisite\"},{\"source_id\":6,\"target_id\":13,\"type\":\"CurriculumPrerequisite\"}],\"name\":\"PHYS 241\",\"metrics\":{\"complexity\":8.0,\"centrality\":16,\"blocking factor\":2,\"delay factor\":6.0},\"nameSub\":\"Electricity & Magnetism\",\"id\":13,\"credits\":4,\"nameCanonical\":\"\"},{\"curriculum_requisites\":[{\"source_id\":7,\"target_id\":14,\"type\":\"CurriculumPrerequisite\"}],\"name\":\"SIE 277\",\"metrics\":{\"complexity\":3.0,\"centrality\":0,\"blocking factor\":0,\"delay factor\":3.0},\"nameSub\":\"Obj-oriented Modeling and Design\",\"id\":14,\"credits\":3,\"nameCanonical\":\"\"},{\"curriculum_requisites\":[],\"name\":\" \",\"metrics\":{\"complexity\":1.0,\"centrality\":0,\"blocking factor\":0,\"delay factor\":1.0},\"nameSub\":\"Tier I General Ed.\",\"id\":15,\"credits\":3,\"nameCanonical\":\"\"}],\"id\":3},{\"name\":\"Term 4\",\"curriculum_items\":[{\"curriculum_requisites\":[{\"source_id\":1,\"target_id\":16,\"type\":\"CurriculumPrerequisite\"}],\"name\":\"SIE 265\",\"metrics\":{\"complexity\":4.0,\"centrality\":3,\"blocking factor\":1,\"delay factor\":3.0},\"nameSub\":\"Eng. Management I\",\"id\":16,\"credits\":3,\"nameCanonical\":\"\"},{\"curriculum_requisites\":[{\"source_id\":7,\"target_id\":17,\"type\":\"CurriculumPrerequisite\"},{\"source_id\":10,\"target_id\":17,\"type\":\"CurriculumPrerequisite\"},{\"source_id\":6,\"target_id\":17,\"type\":\"CurriculumPrerequisite\"}],\"name\":\"SIE 270\",\"metrics\":{\"complexity\":6.0,\"centrality\":17,\"blocking factor\":1,\"delay factor\":5.0},\"nameSub\":\"Math Found of Sys & Indust Eng\",\"id\":17,\"credits\":3,\"nameCanonical\":\"\"},{\"curriculum_requisites\":[{\"source_id\":11,\"target_id\":18,\"type\":\"CurriculumPrerequisite\"}],\"name\":\"SIE 295S\",\"metrics\":{\"complexity\":4.0,\"centrality\":0,\"blocking factor\":0,\"delay factor\":4.0},\"nameSub\":\"Sys & Indust Eng Soph Colloquium\",\"id\":18,\"credits\":1,\"nameCanonical\":\"\"},{\"curriculum_requisites\":[{\"source_id\":6,\"target_id\":19,\"type\":\"CurriculumPrerequisite\"}],\"name\":\"MATH 254\",\"metrics\":{\"complexity\":3.0,\"centrality\":0,\"blocking factor\":0,\"delay factor\":3.0},\"nameSub\":\"Intro to ODEs\",\"id\":19,\"credits\":3,\"nameCanonical\":\"\"},{\"curriculum_requisites\":[],\"name\":\" \",\"metrics\":{\"complexity\":1.0,\"centrality\":0,\"blocking factor\":0,\"delay factor\":1.0},\"nameSub\":\"Eng Minor Course\",\"id\":20,\"credits\":3,\"nameCanonical\":\"\"},{\"curriculum_requisites\":[],\"name\":\" \",\"metrics\":{\"complexity\":1.0,\"centrality\":0,\"blocking factor\":0,\"delay factor\":1.0},\"nameSub\":\"Tier I General Ed.\",\"id\":21,\"credits\":3,\"nameCanonical\":\"\"}],\"id\":4},{\"name\":\"Term 5\",\"curriculum_items\":[{\"curriculum_requisites\":[{\"source_id\":6,\"target_id\":22,\"type\":\"CurriculumPrerequisite\"}],\"name\":\"SIE 305\",\"metrics\":{\"complexity\":7.0,\"centrality\":12,\"blocking factor\":3,\"delay factor\":4.0},\"nameSub\":\"Intro to Eng Prob & Stats\",\"id\":22,\"credits\":3,\"nameCanonical\":\"\"},{\"curriculum_requisites\":[{\"source_id\":16,\"target_id\":23,\"type\":\"CurriculumPrerequisite\"},{\"source_id\":17,\"target_id\":23,\"type\":\"CurriculumPrerequisite\"}],\"name\":\"SIE 340\",\"metrics\":{\"complexity\":5.0,\"centrality\":0,\"blocking factor\":0,\"delay factor\":5.0},\"nameSub\":\"Deterministic OR\",\"id\":23,\"credits\":3,\"nameCanonical\":\"\"},{\"curriculum_requisites\":[{\"source_id\":13,\"target_id\":25,\"type\":\"CurriculumPrerequisite\"},{\"source_id\":6,\"target_id\":25,\"type\":\"CurriculumPrerequisite\"}],\"name\":\"ECE 220\",\"metrics\":{\"complexity\":7.0,\"centrality\":20,\"blocking factor\":1,\"delay factor\":6.0},\"nameSub\":\"Basic Circuits\",\"id\":25,\"credits\":5,\"nameCanonical\":\"\"},{\"curriculum_requisites\":[],\"name\":\" \",\"metrics\":{\"complexity\":1.0,\"centrality\":0,\"blocking factor\":0,\"delay factor\":1.0},\"nameSub\":\"Eng Minor Course\",\"id\":26,\"credits\":3,\"nameCanonical\":\"\"},{\"curriculum_requisites\":[],\"name\":\" \",\"metrics\":{\"complexity\":1.0,\"centrality\":0,\"blocking factor\":0,\"delay factor\":1.0},\"nameSub\":\"Eng Minor Course\",\"id\":27,\"credits\":3,\"nameCanonical\":\"\"}],\"id\":5},{\"name\":\"Term 6\",\"curriculum_items\":[{\"curriculum_requisites\":[{\"source_id\":22,\"target_id\":24,\"type\":\"CurriculumPrerequisite\"}],\"name\":\"SIE 321\",\"metrics\":{\"complexity\":4.0,\"centrality\":0,\"blocking factor\":0,\"delay factor\":4.0},\"nameSub\":\"Prob. Methods in OR\",\"id\":24,\"credits\":3,\"nameCanonical\":\"\"},{\"curriculum_requisites\":[{\"source_id\":22,\"target_id\":28,\"type\":\"CurriculumPrerequisite\"}],\"name\":\"SIE 330R\",\"metrics\":{\"complexity\":4.0,\"centrality\":0,\"blocking factor\":0,\"delay factor\":4.0},\"nameSub\":\"Eng Experiment Design\",\"id\":28,\"credits\":3,\"nameCanonical\":\"\"},{\"curriculum_requisites\":[{\"source_id\":7,\"target_id\":29,\"type\":\"CurriculumPrerequisite\"},{\"source_id\":4,\"target_id\":29,\"type\":\"CurriculumPrerequisite\"},{\"source_id\":25,\"target_id\":29,\"type\":\"CurriculumPrerequisite\"}],\"name\":\"SIE 370\",\"metrics\":{\"complexity\":6.0,\"centrality\":0,\"blocking factor\":0,\"delay factor\":6.0},\"nameSub\":\"Embedded Computer Sys\",\"id\":29,\"credits\":4,\"nameCanonical\":\"\"},{\"curriculum_requisites\":[],\"name\":\" \",\"metrics\":{\"complexity\":1.0,\"centrality\":0,\"blocking factor\":0,\"delay factor\":1.0},\"nameSub\":\"Eng Minor Course\",\"id\":30,\"credits\":3,\"nameCanonical\":\"\"},{\"curriculum_requisites\":[],\"name\":\" \",\"metrics\":{\"complexity\":1.0,\"centrality\":0,\"blocking factor\":0,\"delay factor\":1.0},\"nameSub\":\"Tier I General Ed.\",\"id\":31,\"credits\":3,\"nameCanonical\":\"\"}],\"id\":6},{\"name\":\"Term 7\",\"curriculum_items\":[{\"curriculum_requisites\":[],\"name\":\"ENGR 498A\",\"metrics\":{\"complexity\":3.0,\"centrality\":0,\"blocking factor\":1,\"delay factor\":2.0},\"nameSub\":\"Cross-disciplinary Design\",\"id\":32,\"credits\":3,\"nameCanonical\":\"\"},{\"curriculum_requisites\":[],\"name\":\"SIE 410A\",\"metrics\":{\"complexity\":1.0,\"centrality\":0,\"blocking factor\":0,\"delay factor\":1.0},\"nameSub\":\"Human Factors & Ergonomics in Design\",\"id\":33,\"credits\":3,\"nameCanonical\":\"\"},{\"curriculum_requisites\":[{\"source_id\":22,\"target_id\":34,\"type\":\"CurriculumPrerequisite\"}],\"name\":\"SIE 431\",\"metrics\":{\"complexity\":4.0,\"centrality\":0,\"blocking factor\":0,\"delay factor\":4.0},\"nameSub\":\"Simulation & Modeling\",\"id\":34,\"credits\":3,\"nameCanonical\":\"\"},{\"curriculum_requisites\":[],\"name\":\"SIE 454A\",\"metrics\":{\"complexity\":1.0,\"centrality\":0,\"blocking factor\":0,\"delay factor\":1.0},\"nameSub\":\"Sys Eng Process\",\"id\":35,\"credits\":3,\"nameCanonical\":\"\"},{\"curriculum_requisites\":[{\"source_id\":9,\"target_id\":36,\"type\":\"CurriculumPrerequisite\"}],\"name\":\"ENGL 308\",\"metrics\":{\"complexity\":3.0,\"centrality\":0,\"blocking factor\":0,\"delay factor\":3.0},\"nameSub\":\"Tech Writing\",\"id\":36,\"credits\":3,\"nameCanonical\":\"\"}],\"id\":7},{\"name\":\"Term 8\",\"curriculum_items\":[{\"curriculum_requisites\":[{\"source_id\":32,\"target_id\":37,\"type\":\"CurriculumPrerequisite\"}],\"name\":\"ENGR 498B\",\"metrics\":{\"complexity\":2.0,\"centrality\":0,\"blocking factor\":0,\"delay factor\":2.0},\"nameSub\":\"Cross-disciplinary Design\",\"id\":37,\"credits\":3,\"nameCanonical\":\"\"},{\"curriculum_requisites\":[],\"name\":\" \",\"metrics\":{\"complexity\":1.0,\"centrality\":0,\"blocking factor\":0,\"delay factor\":1.0},\"nameSub\":\"Eng Minor Course\",\"id\":38,\"credits\":3,\"nameCanonical\":\"\"},{\"curriculum_requisites\":[],\"name\":\" \",\"metrics\":{\"complexity\":1.0,\"centrality\":0,\"blocking factor\":0,\"delay factor\":1.0},\"nameSub\":\"Eng Minor Course\",\"id\":39,\"credits\":3,\"nameCanonical\":\"\"},{\"curriculum_requisites\":[],\"name\":\" \",\"metrics\":{\"complexity\":1.0,\"centrality\":0,\"blocking factor\":0,\"delay factor\":1.0},\"nameSub\":\"Tier II General Ed.\",\"id\":40,\"credits\":3,\"nameCanonical\":\"\"},{\"curriculum_requisites\":[],\"name\":\" \",\"metrics\":{\"complexity\":1.0,\"centrality\":0,\"blocking factor\":0,\"delay factor\":1.0},\"nameSub\":\"Tier II General Ed.\",\"id\":41,\"credits\":3,\"nameCanonical\":\"\"},{\"curriculum_requisites\":[],\"name\":\" \",\"metrics\":{\"complexity\":1.0,\"centrality\":0,\"blocking factor\":0,\"delay factor\":1.0},\"nameSub\":\"Free Elective\",\"id\":42,\"credits\":1,\"nameCanonical\":\"\"}],\"id\":8}],\"institution\":\"University of Arizona\"}},\"*\"); window.removeEventListener(\"message\",window.messageReceived); window.messageReceived=(function (event){return (event.data.curriculum!==undefined) ? (WebIO.setval({\"name\":\"curriculum-data\",\"scope\":\"13560316752595683817\",\"id\":\"ob_01\",\"type\":\"observable\"},event.data.curriculum)) : undefined}); return window.addEventListener(\"message\",window.messageReceived)})"
          },
          "id": "curriculum",
          "src": "http://localhost:8156",
          "style": {
           "border": "none",
           "height": "100vh",
           "margin": "0",
           "padding": "0",
           "width": "100%"
          }
         },
         "type": "node"
        }
       ],
       "instanceArgs": {
        "handlers": {},
        "id": "13560316752595683817",
        "imports": {
         "data": [],
         "type": "async_block"
        },
        "mount_callbacks": [],
        "observables": {
         "curriculum-data": {
          "id": "ob_01",
          "sync": true,
          "value": {
           "curriculum": {
            "curriculum_terms": [
             {
              "curriculum_items": [
               {
                "credits": 3,
                "curriculum_requisites": [],
                "id": 1,
                "metrics": {
                 "blocking factor": 19,
                 "centrality": 0,
                 "complexity": 25,
                 "delay factor": 6
                },
                "name": "MATH 125",
                "nameCanonical": "",
                "nameSub": "Calculus I w/ Applications"
               },
               {
                "credits": 4,
                "curriculum_requisites": [],
                "id": 2,
                "metrics": {
                 "blocking factor": 1,
                 "centrality": 0,
                 "complexity": 3,
                 "delay factor": 2
                },
                "name": "CHEM 151",
                "nameCanonical": "",
                "nameSub": "Gen Chemistry I"
               },
               {
                "credits": 3,
                "curriculum_requisites": [],
                "id": 3,
                "metrics": {
                 "blocking factor": 2,
                 "centrality": 0,
                 "complexity": 5,
                 "delay factor": 3
                },
                "name": "ENGL 101",
                "nameCanonical": "",
                "nameSub": "First-year Comp."
               },
               {
                "credits": 3,
                "curriculum_requisites": [
                 {
                  "source_id": 1,
                  "target_id": 4,
                  "type": "CurriculumCorequisite"
                 }
                ],
                "id": 4,
                "metrics": {
                 "blocking factor": 1,
                 "centrality": 3,
                 "complexity": 4,
                 "delay factor": 3
                },
                "name": "ENGR 102",
                "nameCanonical": "",
                "nameSub": "Intro to Engineering"
               },
               {
                "credits": 3,
                "curriculum_requisites": [],
                "id": 5,
                "metrics": {
                 "blocking factor": 0,
                 "centrality": 0,
                 "complexity": 1,
                 "delay factor": 1
                },
                "name": " ",
                "nameCanonical": "",
                "nameSub": "Tier I General Ed."
               }
              ],
              "id": 1,
              "name": "Term 1"
             },
             {
              "curriculum_items": [
               {
                "credits": 3,
                "curriculum_requisites": [
                 {
                  "source_id": 1,
                  "target_id": 6,
                  "type": "CurriculumPrerequisite"
                 }
                ],
                "id": 6,
                "metrics": {
                 "blocking factor": 14,
                 "centrality": 46,
                 "complexity": 20,
                 "delay factor": 6
                },
                "name": "MATH 129",
                "nameCanonical": "",
                "nameSub": "Calculus II"
               },
               {
                "credits": 3,
                "curriculum_requisites": [
                 {
                  "source_id": 1,
                  "target_id": 7,
                  "type": "CurriculumCorequisite"
                 }
                ],
                "id": 7,
                "metrics": {
                 "blocking factor": 4,
                 "centrality": 10,
                 "complexity": 8,
                 "delay factor": 4
                },
                "name": "ECE 175",
                "nameCanonical": "",
                "nameSub": "Programming for Eng. Apps."
               },
               {
                "credits": 4,
                "curriculum_requisites": [
                 {
                  "source_id": 2,
                  "target_id": 8,
                  "type": "CurriculumPrerequisite"
                 }
                ],
                "id": 8,
                "metrics": {
                 "blocking factor": 0,
                 "centrality": 0,
                 "complexity": 2,
                 "delay factor": 2
                },
                "name": "CHEM 152",
                "nameCanonical": "",
                "nameSub": "Gen Chemistry II"
               },
               {
                "credits": 3,
                "curriculum_requisites": [
                 {
                  "source_id": 3,
                  "target_id": 9,
                  "type": "CurriculumPrerequisite"
                 }
                ],
                "id": 9,
                "metrics": {
                 "blocking factor": 1,
                 "centrality": 3,
                 "complexity": 4,
                 "delay factor": 3
                },
                "name": "ENGL 102",
                "nameCanonical": "",
                "nameSub": "First-year Comp."
               },
               {
                "credits": 4,
                "curriculum_requisites": [
                 {
                  "source_id": 6,
                  "target_id": 10,
                  "type": "CurriculumCorequisite"
                 },
                 {
                  "source_id": 1,
                  "target_id": 10,
                  "type": "CurriculumPrerequisite"
                 }
                ],
                "id": 10,
                "metrics": {
                 "blocking factor": 5,
                 "centrality": 20,
                 "complexity": 11,
                 "delay factor": 6
                },
                "name": "PHYS 141",
                "nameCanonical": "",
                "nameSub": "Intro Mechanics"
               }
              ],
              "id": 2,
              "name": "Term 2"
             },
             {
              "curriculum_items": [
               {
                "credits": 3,
                "curriculum_requisites": [
                 {
                  "source_id": 6,
                  "target_id": 11,
                  "type": "CurriculumPrerequisite"
                 }
                ],
                "id": 11,
                "metrics": {
                 "blocking factor": 1,
                 "centrality": 4,
                 "complexity": 5,
                 "delay factor": 4
                },
                "name": "SIE 250",
                "nameCanonical": "",
                "nameSub": "Intro to Sys and Indust Eng"
               },
               {
                "credits": 4,
                "curriculum_requisites": [
                 {
                  "source_id": 6,
                  "target_id": 12,
                  "type": "CurriculumPrerequisite"
                 }
                ],
                "id": 12,
                "metrics": {
                 "blocking factor": 0,
                 "centrality": 0,
                 "complexity": 3,
                 "delay factor": 3
                },
                "name": "MATH  223",
                "nameCanonical": "",
                "nameSub": "Vector Calculus"
               },
               {
                "credits": 4,
                "curriculum_requisites": [
                 {
                  "source_id": 10,
                  "target_id": 13,
                  "type": "CurriculumPrerequisite"
                 },
                 {
                  "source_id": 6,
                  "target_id": 13,
                  "type": "CurriculumPrerequisite"
                 }
                ],
                "id": 13,
                "metrics": {
                 "blocking factor": 2,
                 "centrality": 16,
                 "complexity": 8,
                 "delay factor": 6
                },
                "name": "PHYS 241",
                "nameCanonical": "",
                "nameSub": "Electricity & Magnetism"
               },
               {
                "credits": 3,
                "curriculum_requisites": [
                 {
                  "source_id": 7,
                  "target_id": 14,
                  "type": "CurriculumPrerequisite"
                 }
                ],
                "id": 14,
                "metrics": {
                 "blocking factor": 0,
                 "centrality": 0,
                 "complexity": 3,
                 "delay factor": 3
                },
                "name": "SIE 277",
                "nameCanonical": "",
                "nameSub": "Obj-oriented Modeling and Design"
               },
               {
                "credits": 3,
                "curriculum_requisites": [],
                "id": 15,
                "metrics": {
                 "blocking factor": 0,
                 "centrality": 0,
                 "complexity": 1,
                 "delay factor": 1
                },
                "name": " ",
                "nameCanonical": "",
                "nameSub": "Tier I General Ed."
               }
              ],
              "id": 3,
              "name": "Term 3"
             },
             {
              "curriculum_items": [
               {
                "credits": 3,
                "curriculum_requisites": [
                 {
                  "source_id": 1,
                  "target_id": 16,
                  "type": "CurriculumPrerequisite"
                 }
                ],
                "id": 16,
                "metrics": {
                 "blocking factor": 1,
                 "centrality": 3,
                 "complexity": 4,
                 "delay factor": 3
                },
                "name": "SIE 265",
                "nameCanonical": "",
                "nameSub": "Eng. Management I"
               },
               {
                "credits": 3,
                "curriculum_requisites": [
                 {
                  "source_id": 7,
                  "target_id": 17,
                  "type": "CurriculumPrerequisite"
                 },
                 {
                  "source_id": 10,
                  "target_id": 17,
                  "type": "CurriculumPrerequisite"
                 },
                 {
                  "source_id": 6,
                  "target_id": 17,
                  "type": "CurriculumPrerequisite"
                 }
                ],
                "id": 17,
                "metrics": {
                 "blocking factor": 1,
                 "centrality": 17,
                 "complexity": 6,
                 "delay factor": 5
                },
                "name": "SIE 270",
                "nameCanonical": "",
                "nameSub": "Math Found of Sys & Indust Eng"
               },
               {
                "credits": 1,
                "curriculum_requisites": [
                 {
                  "source_id": 11,
                  "target_id": 18,
                  "type": "CurriculumPrerequisite"
                 }
                ],
                "id": 18,
                "metrics": {
                 "blocking factor": 0,
                 "centrality": 0,
                 "complexity": 4,
                 "delay factor": 4
                },
                "name": "SIE 295S",
                "nameCanonical": "",
                "nameSub": "Sys & Indust Eng Soph Colloquium"
               },
               {
                "credits": 3,
                "curriculum_requisites": [
                 {
                  "source_id": 6,
                  "target_id": 19,
                  "type": "CurriculumPrerequisite"
                 }
                ],
                "id": 19,
                "metrics": {
                 "blocking factor": 0,
                 "centrality": 0,
                 "complexity": 3,
                 "delay factor": 3
                },
                "name": "MATH 254",
                "nameCanonical": "",
                "nameSub": "Intro to ODEs"
               },
               {
                "credits": 3,
                "curriculum_requisites": [],
                "id": 20,
                "metrics": {
                 "blocking factor": 0,
                 "centrality": 0,
                 "complexity": 1,
                 "delay factor": 1
                },
                "name": " ",
                "nameCanonical": "",
                "nameSub": "Eng Minor Course"
               },
               {
                "credits": 3,
                "curriculum_requisites": [],
                "id": 21,
                "metrics": {
                 "blocking factor": 0,
                 "centrality": 0,
                 "complexity": 1,
                 "delay factor": 1
                },
                "name": " ",
                "nameCanonical": "",
                "nameSub": "Tier I General Ed."
               }
              ],
              "id": 4,
              "name": "Term 4"
             },
             {
              "curriculum_items": [
               {
                "credits": 3,
                "curriculum_requisites": [
                 {
                  "source_id": 6,
                  "target_id": 22,
                  "type": "CurriculumPrerequisite"
                 }
                ],
                "id": 22,
                "metrics": {
                 "blocking factor": 3,
                 "centrality": 12,
                 "complexity": 7,
                 "delay factor": 4
                },
                "name": "SIE 305",
                "nameCanonical": "",
                "nameSub": "Intro to Eng Prob & Stats"
               },
               {
                "credits": 3,
                "curriculum_requisites": [
                 {
                  "source_id": 16,
                  "target_id": 23,
                  "type": "CurriculumPrerequisite"
                 },
                 {
                  "source_id": 17,
                  "target_id": 23,
                  "type": "CurriculumPrerequisite"
                 }
                ],
                "id": 23,
                "metrics": {
                 "blocking factor": 0,
                 "centrality": 0,
                 "complexity": 5,
                 "delay factor": 5
                },
                "name": "SIE 340",
                "nameCanonical": "",
                "nameSub": "Deterministic OR"
               },
               {
                "credits": 5,
                "curriculum_requisites": [
                 {
                  "source_id": 13,
                  "target_id": 25,
                  "type": "CurriculumPrerequisite"
                 },
                 {
                  "source_id": 6,
                  "target_id": 25,
                  "type": "CurriculumPrerequisite"
                 }
                ],
                "id": 25,
                "metrics": {
                 "blocking factor": 1,
                 "centrality": 20,
                 "complexity": 7,
                 "delay factor": 6
                },
                "name": "ECE 220",
                "nameCanonical": "",
                "nameSub": "Basic Circuits"
               },
               {
                "credits": 3,
                "curriculum_requisites": [],
                "id": 26,
                "metrics": {
                 "blocking factor": 0,
                 "centrality": 0,
                 "complexity": 1,
                 "delay factor": 1
                },
                "name": " ",
                "nameCanonical": "",
                "nameSub": "Eng Minor Course"
               },
               {
                "credits": 3,
                "curriculum_requisites": [],
                "id": 27,
                "metrics": {
                 "blocking factor": 0,
                 "centrality": 0,
                 "complexity": 1,
                 "delay factor": 1
                },
                "name": " ",
                "nameCanonical": "",
                "nameSub": "Eng Minor Course"
               }
              ],
              "id": 5,
              "name": "Term 5"
             },
             {
              "curriculum_items": [
               {
                "credits": 3,
                "curriculum_requisites": [
                 {
                  "source_id": 22,
                  "target_id": 24,
                  "type": "CurriculumPrerequisite"
                 }
                ],
                "id": 24,
                "metrics": {
                 "blocking factor": 0,
                 "centrality": 0,
                 "complexity": 4,
                 "delay factor": 4
                },
                "name": "SIE 321",
                "nameCanonical": "",
                "nameSub": "Prob. Methods in OR"
               },
               {
                "credits": 3,
                "curriculum_requisites": [
                 {
                  "source_id": 22,
                  "target_id": 28,
                  "type": "CurriculumPrerequisite"
                 }
                ],
                "id": 28,
                "metrics": {
                 "blocking factor": 0,
                 "centrality": 0,
                 "complexity": 4,
                 "delay factor": 4
                },
                "name": "SIE 330R",
                "nameCanonical": "",
                "nameSub": "Eng Experiment Design"
               },
               {
                "credits": 4,
                "curriculum_requisites": [
                 {
                  "source_id": 7,
                  "target_id": 29,
                  "type": "CurriculumPrerequisite"
                 },
                 {
                  "source_id": 4,
                  "target_id": 29,
                  "type": "CurriculumPrerequisite"
                 },
                 {
                  "source_id": 25,
                  "target_id": 29,
                  "type": "CurriculumPrerequisite"
                 }
                ],
                "id": 29,
                "metrics": {
                 "blocking factor": 0,
                 "centrality": 0,
                 "complexity": 6,
                 "delay factor": 6
                },
                "name": "SIE 370",
                "nameCanonical": "",
                "nameSub": "Embedded Computer Sys"
               },
               {
                "credits": 3,
                "curriculum_requisites": [],
                "id": 30,
                "metrics": {
                 "blocking factor": 0,
                 "centrality": 0,
                 "complexity": 1,
                 "delay factor": 1
                },
                "name": " ",
                "nameCanonical": "",
                "nameSub": "Eng Minor Course"
               },
               {
                "credits": 3,
                "curriculum_requisites": [],
                "id": 31,
                "metrics": {
                 "blocking factor": 0,
                 "centrality": 0,
                 "complexity": 1,
                 "delay factor": 1
                },
                "name": " ",
                "nameCanonical": "",
                "nameSub": "Tier I General Ed."
               }
              ],
              "id": 6,
              "name": "Term 6"
             },
             {
              "curriculum_items": [
               {
                "credits": 3,
                "curriculum_requisites": [],
                "id": 32,
                "metrics": {
                 "blocking factor": 1,
                 "centrality": 0,
                 "complexity": 3,
                 "delay factor": 2
                },
                "name": "ENGR 498A",
                "nameCanonical": "",
                "nameSub": "Cross-disciplinary Design"
               },
               {
                "credits": 3,
                "curriculum_requisites": [],
                "id": 33,
                "metrics": {
                 "blocking factor": 0,
                 "centrality": 0,
                 "complexity": 1,
                 "delay factor": 1
                },
                "name": "SIE 410A",
                "nameCanonical": "",
                "nameSub": "Human Factors & Ergonomics in Design"
               },
               {
                "credits": 3,
                "curriculum_requisites": [
                 {
                  "source_id": 22,
                  "target_id": 34,
                  "type": "CurriculumPrerequisite"
                 }
                ],
                "id": 34,
                "metrics": {
                 "blocking factor": 0,
                 "centrality": 0,
                 "complexity": 4,
                 "delay factor": 4
                },
                "name": "SIE 431",
                "nameCanonical": "",
                "nameSub": "Simulation & Modeling"
               },
               {
                "credits": 3,
                "curriculum_requisites": [],
                "id": 35,
                "metrics": {
                 "blocking factor": 0,
                 "centrality": 0,
                 "complexity": 1,
                 "delay factor": 1
                },
                "name": "SIE 454A",
                "nameCanonical": "",
                "nameSub": "Sys Eng Process"
               },
               {
                "credits": 3,
                "curriculum_requisites": [
                 {
                  "source_id": 9,
                  "target_id": 36,
                  "type": "CurriculumPrerequisite"
                 }
                ],
                "id": 36,
                "metrics": {
                 "blocking factor": 0,
                 "centrality": 0,
                 "complexity": 3,
                 "delay factor": 3
                },
                "name": "ENGL 308",
                "nameCanonical": "",
                "nameSub": "Tech Writing"
               }
              ],
              "id": 7,
              "name": "Term 7"
             },
             {
              "curriculum_items": [
               {
                "credits": 3,
                "curriculum_requisites": [
                 {
                  "source_id": 32,
                  "target_id": 37,
                  "type": "CurriculumPrerequisite"
                 }
                ],
                "id": 37,
                "metrics": {
                 "blocking factor": 0,
                 "centrality": 0,
                 "complexity": 2,
                 "delay factor": 2
                },
                "name": "ENGR 498B",
                "nameCanonical": "",
                "nameSub": "Cross-disciplinary Design"
               },
               {
                "credits": 3,
                "curriculum_requisites": [],
                "id": 38,
                "metrics": {
                 "blocking factor": 0,
                 "centrality": 0,
                 "complexity": 1,
                 "delay factor": 1
                },
                "name": " ",
                "nameCanonical": "",
                "nameSub": "Eng Minor Course"
               },
               {
                "credits": 3,
                "curriculum_requisites": [],
                "id": 39,
                "metrics": {
                 "blocking factor": 0,
                 "centrality": 0,
                 "complexity": 1,
                 "delay factor": 1
                },
                "name": " ",
                "nameCanonical": "",
                "nameSub": "Eng Minor Course"
               },
               {
                "credits": 3,
                "curriculum_requisites": [],
                "id": 40,
                "metrics": {
                 "blocking factor": 0,
                 "centrality": 0,
                 "complexity": 1,
                 "delay factor": 1
                },
                "name": " ",
                "nameCanonical": "",
                "nameSub": "Tier II General Ed."
               },
               {
                "credits": 3,
                "curriculum_requisites": [],
                "id": 41,
                "metrics": {
                 "blocking factor": 0,
                 "centrality": 0,
                 "complexity": 1,
                 "delay factor": 1
                },
                "name": " ",
                "nameCanonical": "",
                "nameSub": "Tier II General Ed."
               },
               {
                "credits": 1,
                "curriculum_requisites": [],
                "id": 42,
                "metrics": {
                 "blocking factor": 0,
                 "centrality": 0,
                 "complexity": 1,
                 "delay factor": 1
                },
                "name": " ",
                "nameCanonical": "",
                "nameSub": "Free Elective"
               }
              ],
              "id": 8,
              "name": "Term 8"
             }
            ],
            "dp_name": "2019-20 Degree Plan",
            "institution": "University of Arizona",
            "name": "Systems Engineering"
           },
           "options": {
            "edit": false,
            "hideTerms": false
           }
          }
         }
        },
        "systemjs_options": null
       },
       "nodeType": "Scope",
       "props": {},
       "type": "node"
      },
      "text/html": [
       "<div\n",
       "    class=\"webio-mountpoint\"\n",
       "    data-webio-mountpoint=\"2511612576228355373\"\n",
       ">\n",
       "    <script>\n",
       "    if (window.require && require.defined && require.defined(\"nbextensions/webio-jupyter-notebook\")) {\n",
       "        console.log(\"Jupyter WebIO extension detected, not mounting.\");\n",
       "    } else if (window.WebIO) {\n",
       "        WebIO.mount(\n",
       "            document.querySelector('[data-webio-mountpoint=\"2511612576228355373\"]'),\n",
       "            {\"props\":{},\"nodeType\":\"Scope\",\"type\":\"node\",\"instanceArgs\":{\"imports\":{\"data\":[],\"type\":\"async_block\"},\"id\":\"13560316752595683817\",\"handlers\":{},\"systemjs_options\":null,\"mount_callbacks\":[],\"observables\":{\"curriculum-data\":{\"sync\":true,\"id\":\"ob_01\",\"value\":{\"options\":{\"hideTerms\":false,\"edit\":false},\"curriculum\":{\"name\":\"Systems Engineering\",\"dp_name\":\"2019-20 Degree Plan\",\"curriculum_terms\":[{\"name\":\"Term 1\",\"curriculum_items\":[{\"curriculum_requisites\":[],\"name\":\"MATH 125\",\"metrics\":{\"complexity\":25.0,\"centrality\":0,\"blocking factor\":19,\"delay factor\":6.0},\"nameSub\":\"Calculus I w\\/ Applications\",\"id\":1,\"credits\":3,\"nameCanonical\":\"\"},{\"curriculum_requisites\":[],\"name\":\"CHEM 151\",\"metrics\":{\"complexity\":3.0,\"centrality\":0,\"blocking factor\":1,\"delay factor\":2.0},\"nameSub\":\"Gen Chemistry I\",\"id\":2,\"credits\":4,\"nameCanonical\":\"\"},{\"curriculum_requisites\":[],\"name\":\"ENGL 101\",\"metrics\":{\"complexity\":5.0,\"centrality\":0,\"blocking factor\":2,\"delay factor\":3.0},\"nameSub\":\"First-year Comp.\",\"id\":3,\"credits\":3,\"nameCanonical\":\"\"},{\"curriculum_requisites\":[{\"source_id\":1,\"target_id\":4,\"type\":\"CurriculumCorequisite\"}],\"name\":\"ENGR 102\",\"metrics\":{\"complexity\":4.0,\"centrality\":3,\"blocking factor\":1,\"delay factor\":3.0},\"nameSub\":\"Intro to Engineering\",\"id\":4,\"credits\":3,\"nameCanonical\":\"\"},{\"curriculum_requisites\":[],\"name\":\" \",\"metrics\":{\"complexity\":1.0,\"centrality\":0,\"blocking factor\":0,\"delay factor\":1.0},\"nameSub\":\"Tier I General Ed.\",\"id\":5,\"credits\":3,\"nameCanonical\":\"\"}],\"id\":1},{\"name\":\"Term 2\",\"curriculum_items\":[{\"curriculum_requisites\":[{\"source_id\":1,\"target_id\":6,\"type\":\"CurriculumPrerequisite\"}],\"name\":\"MATH 129\",\"metrics\":{\"complexity\":20.0,\"centrality\":46,\"blocking factor\":14,\"delay factor\":6.0},\"nameSub\":\"Calculus II\",\"id\":6,\"credits\":3,\"nameCanonical\":\"\"},{\"curriculum_requisites\":[{\"source_id\":1,\"target_id\":7,\"type\":\"CurriculumCorequisite\"}],\"name\":\"ECE 175\",\"metrics\":{\"complexity\":8.0,\"centrality\":10,\"blocking factor\":4,\"delay factor\":4.0},\"nameSub\":\"Programming for Eng. Apps.\",\"id\":7,\"credits\":3,\"nameCanonical\":\"\"},{\"curriculum_requisites\":[{\"source_id\":2,\"target_id\":8,\"type\":\"CurriculumPrerequisite\"}],\"name\":\"CHEM 152\",\"metrics\":{\"complexity\":2.0,\"centrality\":0,\"blocking factor\":0,\"delay factor\":2.0},\"nameSub\":\"Gen Chemistry II\",\"id\":8,\"credits\":4,\"nameCanonical\":\"\"},{\"curriculum_requisites\":[{\"source_id\":3,\"target_id\":9,\"type\":\"CurriculumPrerequisite\"}],\"name\":\"ENGL 102\",\"metrics\":{\"complexity\":4.0,\"centrality\":3,\"blocking factor\":1,\"delay factor\":3.0},\"nameSub\":\"First-year Comp.\",\"id\":9,\"credits\":3,\"nameCanonical\":\"\"},{\"curriculum_requisites\":[{\"source_id\":6,\"target_id\":10,\"type\":\"CurriculumCorequisite\"},{\"source_id\":1,\"target_id\":10,\"type\":\"CurriculumPrerequisite\"}],\"name\":\"PHYS 141\",\"metrics\":{\"complexity\":11.0,\"centrality\":20,\"blocking factor\":5,\"delay factor\":6.0},\"nameSub\":\"Intro Mechanics\",\"id\":10,\"credits\":4,\"nameCanonical\":\"\"}],\"id\":2},{\"name\":\"Term 3\",\"curriculum_items\":[{\"curriculum_requisites\":[{\"source_id\":6,\"target_id\":11,\"type\":\"CurriculumPrerequisite\"}],\"name\":\"SIE 250\",\"metrics\":{\"complexity\":5.0,\"centrality\":4,\"blocking factor\":1,\"delay factor\":4.0},\"nameSub\":\"Intro to Sys and Indust Eng\",\"id\":11,\"credits\":3,\"nameCanonical\":\"\"},{\"curriculum_requisites\":[{\"source_id\":6,\"target_id\":12,\"type\":\"CurriculumPrerequisite\"}],\"name\":\"MATH  223\",\"metrics\":{\"complexity\":3.0,\"centrality\":0,\"blocking factor\":0,\"delay factor\":3.0},\"nameSub\":\"Vector Calculus\",\"id\":12,\"credits\":4,\"nameCanonical\":\"\"},{\"curriculum_requisites\":[{\"source_id\":10,\"target_id\":13,\"type\":\"CurriculumPrerequisite\"},{\"source_id\":6,\"target_id\":13,\"type\":\"CurriculumPrerequisite\"}],\"name\":\"PHYS 241\",\"metrics\":{\"complexity\":8.0,\"centrality\":16,\"blocking factor\":2,\"delay factor\":6.0},\"nameSub\":\"Electricity & Magnetism\",\"id\":13,\"credits\":4,\"nameCanonical\":\"\"},{\"curriculum_requisites\":[{\"source_id\":7,\"target_id\":14,\"type\":\"CurriculumPrerequisite\"}],\"name\":\"SIE 277\",\"metrics\":{\"complexity\":3.0,\"centrality\":0,\"blocking factor\":0,\"delay factor\":3.0},\"nameSub\":\"Obj-oriented Modeling and Design\",\"id\":14,\"credits\":3,\"nameCanonical\":\"\"},{\"curriculum_requisites\":[],\"name\":\" \",\"metrics\":{\"complexity\":1.0,\"centrality\":0,\"blocking factor\":0,\"delay factor\":1.0},\"nameSub\":\"Tier I General Ed.\",\"id\":15,\"credits\":3,\"nameCanonical\":\"\"}],\"id\":3},{\"name\":\"Term 4\",\"curriculum_items\":[{\"curriculum_requisites\":[{\"source_id\":1,\"target_id\":16,\"type\":\"CurriculumPrerequisite\"}],\"name\":\"SIE 265\",\"metrics\":{\"complexity\":4.0,\"centrality\":3,\"blocking factor\":1,\"delay factor\":3.0},\"nameSub\":\"Eng. Management I\",\"id\":16,\"credits\":3,\"nameCanonical\":\"\"},{\"curriculum_requisites\":[{\"source_id\":7,\"target_id\":17,\"type\":\"CurriculumPrerequisite\"},{\"source_id\":10,\"target_id\":17,\"type\":\"CurriculumPrerequisite\"},{\"source_id\":6,\"target_id\":17,\"type\":\"CurriculumPrerequisite\"}],\"name\":\"SIE 270\",\"metrics\":{\"complexity\":6.0,\"centrality\":17,\"blocking factor\":1,\"delay factor\":5.0},\"nameSub\":\"Math Found of Sys & Indust Eng\",\"id\":17,\"credits\":3,\"nameCanonical\":\"\"},{\"curriculum_requisites\":[{\"source_id\":11,\"target_id\":18,\"type\":\"CurriculumPrerequisite\"}],\"name\":\"SIE 295S\",\"metrics\":{\"complexity\":4.0,\"centrality\":0,\"blocking factor\":0,\"delay factor\":4.0},\"nameSub\":\"Sys & Indust Eng Soph Colloquium\",\"id\":18,\"credits\":1,\"nameCanonical\":\"\"},{\"curriculum_requisites\":[{\"source_id\":6,\"target_id\":19,\"type\":\"CurriculumPrerequisite\"}],\"name\":\"MATH 254\",\"metrics\":{\"complexity\":3.0,\"centrality\":0,\"blocking factor\":0,\"delay factor\":3.0},\"nameSub\":\"Intro to ODEs\",\"id\":19,\"credits\":3,\"nameCanonical\":\"\"},{\"curriculum_requisites\":[],\"name\":\" \",\"metrics\":{\"complexity\":1.0,\"centrality\":0,\"blocking factor\":0,\"delay factor\":1.0},\"nameSub\":\"Eng Minor Course\",\"id\":20,\"credits\":3,\"nameCanonical\":\"\"},{\"curriculum_requisites\":[],\"name\":\" \",\"metrics\":{\"complexity\":1.0,\"centrality\":0,\"blocking factor\":0,\"delay factor\":1.0},\"nameSub\":\"Tier I General Ed.\",\"id\":21,\"credits\":3,\"nameCanonical\":\"\"}],\"id\":4},{\"name\":\"Term 5\",\"curriculum_items\":[{\"curriculum_requisites\":[{\"source_id\":6,\"target_id\":22,\"type\":\"CurriculumPrerequisite\"}],\"name\":\"SIE 305\",\"metrics\":{\"complexity\":7.0,\"centrality\":12,\"blocking factor\":3,\"delay factor\":4.0},\"nameSub\":\"Intro to Eng Prob & Stats\",\"id\":22,\"credits\":3,\"nameCanonical\":\"\"},{\"curriculum_requisites\":[{\"source_id\":16,\"target_id\":23,\"type\":\"CurriculumPrerequisite\"},{\"source_id\":17,\"target_id\":23,\"type\":\"CurriculumPrerequisite\"}],\"name\":\"SIE 340\",\"metrics\":{\"complexity\":5.0,\"centrality\":0,\"blocking factor\":0,\"delay factor\":5.0},\"nameSub\":\"Deterministic OR\",\"id\":23,\"credits\":3,\"nameCanonical\":\"\"},{\"curriculum_requisites\":[{\"source_id\":13,\"target_id\":25,\"type\":\"CurriculumPrerequisite\"},{\"source_id\":6,\"target_id\":25,\"type\":\"CurriculumPrerequisite\"}],\"name\":\"ECE 220\",\"metrics\":{\"complexity\":7.0,\"centrality\":20,\"blocking factor\":1,\"delay factor\":6.0},\"nameSub\":\"Basic Circuits\",\"id\":25,\"credits\":5,\"nameCanonical\":\"\"},{\"curriculum_requisites\":[],\"name\":\" \",\"metrics\":{\"complexity\":1.0,\"centrality\":0,\"blocking factor\":0,\"delay factor\":1.0},\"nameSub\":\"Eng Minor Course\",\"id\":26,\"credits\":3,\"nameCanonical\":\"\"},{\"curriculum_requisites\":[],\"name\":\" \",\"metrics\":{\"complexity\":1.0,\"centrality\":0,\"blocking factor\":0,\"delay factor\":1.0},\"nameSub\":\"Eng Minor Course\",\"id\":27,\"credits\":3,\"nameCanonical\":\"\"}],\"id\":5},{\"name\":\"Term 6\",\"curriculum_items\":[{\"curriculum_requisites\":[{\"source_id\":22,\"target_id\":24,\"type\":\"CurriculumPrerequisite\"}],\"name\":\"SIE 321\",\"metrics\":{\"complexity\":4.0,\"centrality\":0,\"blocking factor\":0,\"delay factor\":4.0},\"nameSub\":\"Prob. Methods in OR\",\"id\":24,\"credits\":3,\"nameCanonical\":\"\"},{\"curriculum_requisites\":[{\"source_id\":22,\"target_id\":28,\"type\":\"CurriculumPrerequisite\"}],\"name\":\"SIE 330R\",\"metrics\":{\"complexity\":4.0,\"centrality\":0,\"blocking factor\":0,\"delay factor\":4.0},\"nameSub\":\"Eng Experiment Design\",\"id\":28,\"credits\":3,\"nameCanonical\":\"\"},{\"curriculum_requisites\":[{\"source_id\":7,\"target_id\":29,\"type\":\"CurriculumPrerequisite\"},{\"source_id\":4,\"target_id\":29,\"type\":\"CurriculumPrerequisite\"},{\"source_id\":25,\"target_id\":29,\"type\":\"CurriculumPrerequisite\"}],\"name\":\"SIE 370\",\"metrics\":{\"complexity\":6.0,\"centrality\":0,\"blocking factor\":0,\"delay factor\":6.0},\"nameSub\":\"Embedded Computer Sys\",\"id\":29,\"credits\":4,\"nameCanonical\":\"\"},{\"curriculum_requisites\":[],\"name\":\" \",\"metrics\":{\"complexity\":1.0,\"centrality\":0,\"blocking factor\":0,\"delay factor\":1.0},\"nameSub\":\"Eng Minor Course\",\"id\":30,\"credits\":3,\"nameCanonical\":\"\"},{\"curriculum_requisites\":[],\"name\":\" \",\"metrics\":{\"complexity\":1.0,\"centrality\":0,\"blocking factor\":0,\"delay factor\":1.0},\"nameSub\":\"Tier I General Ed.\",\"id\":31,\"credits\":3,\"nameCanonical\":\"\"}],\"id\":6},{\"name\":\"Term 7\",\"curriculum_items\":[{\"curriculum_requisites\":[],\"name\":\"ENGR 498A\",\"metrics\":{\"complexity\":3.0,\"centrality\":0,\"blocking factor\":1,\"delay factor\":2.0},\"nameSub\":\"Cross-disciplinary Design\",\"id\":32,\"credits\":3,\"nameCanonical\":\"\"},{\"curriculum_requisites\":[],\"name\":\"SIE 410A\",\"metrics\":{\"complexity\":1.0,\"centrality\":0,\"blocking factor\":0,\"delay factor\":1.0},\"nameSub\":\"Human Factors & Ergonomics in Design\",\"id\":33,\"credits\":3,\"nameCanonical\":\"\"},{\"curriculum_requisites\":[{\"source_id\":22,\"target_id\":34,\"type\":\"CurriculumPrerequisite\"}],\"name\":\"SIE 431\",\"metrics\":{\"complexity\":4.0,\"centrality\":0,\"blocking factor\":0,\"delay factor\":4.0},\"nameSub\":\"Simulation & Modeling\",\"id\":34,\"credits\":3,\"nameCanonical\":\"\"},{\"curriculum_requisites\":[],\"name\":\"SIE 454A\",\"metrics\":{\"complexity\":1.0,\"centrality\":0,\"blocking factor\":0,\"delay factor\":1.0},\"nameSub\":\"Sys Eng Process\",\"id\":35,\"credits\":3,\"nameCanonical\":\"\"},{\"curriculum_requisites\":[{\"source_id\":9,\"target_id\":36,\"type\":\"CurriculumPrerequisite\"}],\"name\":\"ENGL 308\",\"metrics\":{\"complexity\":3.0,\"centrality\":0,\"blocking factor\":0,\"delay factor\":3.0},\"nameSub\":\"Tech Writing\",\"id\":36,\"credits\":3,\"nameCanonical\":\"\"}],\"id\":7},{\"name\":\"Term 8\",\"curriculum_items\":[{\"curriculum_requisites\":[{\"source_id\":32,\"target_id\":37,\"type\":\"CurriculumPrerequisite\"}],\"name\":\"ENGR 498B\",\"metrics\":{\"complexity\":2.0,\"centrality\":0,\"blocking factor\":0,\"delay factor\":2.0},\"nameSub\":\"Cross-disciplinary Design\",\"id\":37,\"credits\":3,\"nameCanonical\":\"\"},{\"curriculum_requisites\":[],\"name\":\" \",\"metrics\":{\"complexity\":1.0,\"centrality\":0,\"blocking factor\":0,\"delay factor\":1.0},\"nameSub\":\"Eng Minor Course\",\"id\":38,\"credits\":3,\"nameCanonical\":\"\"},{\"curriculum_requisites\":[],\"name\":\" \",\"metrics\":{\"complexity\":1.0,\"centrality\":0,\"blocking factor\":0,\"delay factor\":1.0},\"nameSub\":\"Eng Minor Course\",\"id\":39,\"credits\":3,\"nameCanonical\":\"\"},{\"curriculum_requisites\":[],\"name\":\" \",\"metrics\":{\"complexity\":1.0,\"centrality\":0,\"blocking factor\":0,\"delay factor\":1.0},\"nameSub\":\"Tier II General Ed.\",\"id\":40,\"credits\":3,\"nameCanonical\":\"\"},{\"curriculum_requisites\":[],\"name\":\" \",\"metrics\":{\"complexity\":1.0,\"centrality\":0,\"blocking factor\":0,\"delay factor\":1.0},\"nameSub\":\"Tier II General Ed.\",\"id\":41,\"credits\":3,\"nameCanonical\":\"\"},{\"curriculum_requisites\":[],\"name\":\" \",\"metrics\":{\"complexity\":1.0,\"centrality\":0,\"blocking factor\":0,\"delay factor\":1.0},\"nameSub\":\"Free Elective\",\"id\":42,\"credits\":1,\"nameCanonical\":\"\"}],\"id\":8}],\"institution\":\"University of Arizona\"}}}}},\"children\":[{\"props\":{\"src\":\"http:\\/\\/localhost:8156\",\"id\":\"curriculum\",\"events\":{\"load\":\"(function (){this.contentWindow.postMessage({\\\"options\\\":{\\\"hideTerms\\\":false,\\\"edit\\\":false},\\\"curriculum\\\":{\\\"name\\\":\\\"Systems Engineering\\\",\\\"dp_name\\\":\\\"2019-20 Degree Plan\\\",\\\"curriculum_terms\\\":[{\\\"name\\\":\\\"Term 1\\\",\\\"curriculum_items\\\":[{\\\"curriculum_requisites\\\":[],\\\"name\\\":\\\"MATH 125\\\",\\\"metrics\\\":{\\\"complexity\\\":25.0,\\\"centrality\\\":0,\\\"blocking factor\\\":19,\\\"delay factor\\\":6.0},\\\"nameSub\\\":\\\"Calculus I w\\/ Applications\\\",\\\"id\\\":1,\\\"credits\\\":3,\\\"nameCanonical\\\":\\\"\\\"},{\\\"curriculum_requisites\\\":[],\\\"name\\\":\\\"CHEM 151\\\",\\\"metrics\\\":{\\\"complexity\\\":3.0,\\\"centrality\\\":0,\\\"blocking factor\\\":1,\\\"delay factor\\\":2.0},\\\"nameSub\\\":\\\"Gen Chemistry I\\\",\\\"id\\\":2,\\\"credits\\\":4,\\\"nameCanonical\\\":\\\"\\\"},{\\\"curriculum_requisites\\\":[],\\\"name\\\":\\\"ENGL 101\\\",\\\"metrics\\\":{\\\"complexity\\\":5.0,\\\"centrality\\\":0,\\\"blocking factor\\\":2,\\\"delay factor\\\":3.0},\\\"nameSub\\\":\\\"First-year Comp.\\\",\\\"id\\\":3,\\\"credits\\\":3,\\\"nameCanonical\\\":\\\"\\\"},{\\\"curriculum_requisites\\\":[{\\\"source_id\\\":1,\\\"target_id\\\":4,\\\"type\\\":\\\"CurriculumCorequisite\\\"}],\\\"name\\\":\\\"ENGR 102\\\",\\\"metrics\\\":{\\\"complexity\\\":4.0,\\\"centrality\\\":3,\\\"blocking factor\\\":1,\\\"delay factor\\\":3.0},\\\"nameSub\\\":\\\"Intro to Engineering\\\",\\\"id\\\":4,\\\"credits\\\":3,\\\"nameCanonical\\\":\\\"\\\"},{\\\"curriculum_requisites\\\":[],\\\"name\\\":\\\" \\\",\\\"metrics\\\":{\\\"complexity\\\":1.0,\\\"centrality\\\":0,\\\"blocking factor\\\":0,\\\"delay factor\\\":1.0},\\\"nameSub\\\":\\\"Tier I General Ed.\\\",\\\"id\\\":5,\\\"credits\\\":3,\\\"nameCanonical\\\":\\\"\\\"}],\\\"id\\\":1},{\\\"name\\\":\\\"Term 2\\\",\\\"curriculum_items\\\":[{\\\"curriculum_requisites\\\":[{\\\"source_id\\\":1,\\\"target_id\\\":6,\\\"type\\\":\\\"CurriculumPrerequisite\\\"}],\\\"name\\\":\\\"MATH 129\\\",\\\"metrics\\\":{\\\"complexity\\\":20.0,\\\"centrality\\\":46,\\\"blocking factor\\\":14,\\\"delay factor\\\":6.0},\\\"nameSub\\\":\\\"Calculus II\\\",\\\"id\\\":6,\\\"credits\\\":3,\\\"nameCanonical\\\":\\\"\\\"},{\\\"curriculum_requisites\\\":[{\\\"source_id\\\":1,\\\"target_id\\\":7,\\\"type\\\":\\\"CurriculumCorequisite\\\"}],\\\"name\\\":\\\"ECE 175\\\",\\\"metrics\\\":{\\\"complexity\\\":8.0,\\\"centrality\\\":10,\\\"blocking factor\\\":4,\\\"delay factor\\\":4.0},\\\"nameSub\\\":\\\"Programming for Eng. Apps.\\\",\\\"id\\\":7,\\\"credits\\\":3,\\\"nameCanonical\\\":\\\"\\\"},{\\\"curriculum_requisites\\\":[{\\\"source_id\\\":2,\\\"target_id\\\":8,\\\"type\\\":\\\"CurriculumPrerequisite\\\"}],\\\"name\\\":\\\"CHEM 152\\\",\\\"metrics\\\":{\\\"complexity\\\":2.0,\\\"centrality\\\":0,\\\"blocking factor\\\":0,\\\"delay factor\\\":2.0},\\\"nameSub\\\":\\\"Gen Chemistry II\\\",\\\"id\\\":8,\\\"credits\\\":4,\\\"nameCanonical\\\":\\\"\\\"},{\\\"curriculum_requisites\\\":[{\\\"source_id\\\":3,\\\"target_id\\\":9,\\\"type\\\":\\\"CurriculumPrerequisite\\\"}],\\\"name\\\":\\\"ENGL 102\\\",\\\"metrics\\\":{\\\"complexity\\\":4.0,\\\"centrality\\\":3,\\\"blocking factor\\\":1,\\\"delay factor\\\":3.0},\\\"nameSub\\\":\\\"First-year Comp.\\\",\\\"id\\\":9,\\\"credits\\\":3,\\\"nameCanonical\\\":\\\"\\\"},{\\\"curriculum_requisites\\\":[{\\\"source_id\\\":6,\\\"target_id\\\":10,\\\"type\\\":\\\"CurriculumCorequisite\\\"},{\\\"source_id\\\":1,\\\"target_id\\\":10,\\\"type\\\":\\\"CurriculumPrerequisite\\\"}],\\\"name\\\":\\\"PHYS 141\\\",\\\"metrics\\\":{\\\"complexity\\\":11.0,\\\"centrality\\\":20,\\\"blocking factor\\\":5,\\\"delay factor\\\":6.0},\\\"nameSub\\\":\\\"Intro Mechanics\\\",\\\"id\\\":10,\\\"credits\\\":4,\\\"nameCanonical\\\":\\\"\\\"}],\\\"id\\\":2},{\\\"name\\\":\\\"Term 3\\\",\\\"curriculum_items\\\":[{\\\"curriculum_requisites\\\":[{\\\"source_id\\\":6,\\\"target_id\\\":11,\\\"type\\\":\\\"CurriculumPrerequisite\\\"}],\\\"name\\\":\\\"SIE 250\\\",\\\"metrics\\\":{\\\"complexity\\\":5.0,\\\"centrality\\\":4,\\\"blocking factor\\\":1,\\\"delay factor\\\":4.0},\\\"nameSub\\\":\\\"Intro to Sys and Indust Eng\\\",\\\"id\\\":11,\\\"credits\\\":3,\\\"nameCanonical\\\":\\\"\\\"},{\\\"curriculum_requisites\\\":[{\\\"source_id\\\":6,\\\"target_id\\\":12,\\\"type\\\":\\\"CurriculumPrerequisite\\\"}],\\\"name\\\":\\\"MATH  223\\\",\\\"metrics\\\":{\\\"complexity\\\":3.0,\\\"centrality\\\":0,\\\"blocking factor\\\":0,\\\"delay factor\\\":3.0},\\\"nameSub\\\":\\\"Vector Calculus\\\",\\\"id\\\":12,\\\"credits\\\":4,\\\"nameCanonical\\\":\\\"\\\"},{\\\"curriculum_requisites\\\":[{\\\"source_id\\\":10,\\\"target_id\\\":13,\\\"type\\\":\\\"CurriculumPrerequisite\\\"},{\\\"source_id\\\":6,\\\"target_id\\\":13,\\\"type\\\":\\\"CurriculumPrerequisite\\\"}],\\\"name\\\":\\\"PHYS 241\\\",\\\"metrics\\\":{\\\"complexity\\\":8.0,\\\"centrality\\\":16,\\\"blocking factor\\\":2,\\\"delay factor\\\":6.0},\\\"nameSub\\\":\\\"Electricity & Magnetism\\\",\\\"id\\\":13,\\\"credits\\\":4,\\\"nameCanonical\\\":\\\"\\\"},{\\\"curriculum_requisites\\\":[{\\\"source_id\\\":7,\\\"target_id\\\":14,\\\"type\\\":\\\"CurriculumPrerequisite\\\"}],\\\"name\\\":\\\"SIE 277\\\",\\\"metrics\\\":{\\\"complexity\\\":3.0,\\\"centrality\\\":0,\\\"blocking factor\\\":0,\\\"delay factor\\\":3.0},\\\"nameSub\\\":\\\"Obj-oriented Modeling and Design\\\",\\\"id\\\":14,\\\"credits\\\":3,\\\"nameCanonical\\\":\\\"\\\"},{\\\"curriculum_requisites\\\":[],\\\"name\\\":\\\" \\\",\\\"metrics\\\":{\\\"complexity\\\":1.0,\\\"centrality\\\":0,\\\"blocking factor\\\":0,\\\"delay factor\\\":1.0},\\\"nameSub\\\":\\\"Tier I General Ed.\\\",\\\"id\\\":15,\\\"credits\\\":3,\\\"nameCanonical\\\":\\\"\\\"}],\\\"id\\\":3},{\\\"name\\\":\\\"Term 4\\\",\\\"curriculum_items\\\":[{\\\"curriculum_requisites\\\":[{\\\"source_id\\\":1,\\\"target_id\\\":16,\\\"type\\\":\\\"CurriculumPrerequisite\\\"}],\\\"name\\\":\\\"SIE 265\\\",\\\"metrics\\\":{\\\"complexity\\\":4.0,\\\"centrality\\\":3,\\\"blocking factor\\\":1,\\\"delay factor\\\":3.0},\\\"nameSub\\\":\\\"Eng. Management I\\\",\\\"id\\\":16,\\\"credits\\\":3,\\\"nameCanonical\\\":\\\"\\\"},{\\\"curriculum_requisites\\\":[{\\\"source_id\\\":7,\\\"target_id\\\":17,\\\"type\\\":\\\"CurriculumPrerequisite\\\"},{\\\"source_id\\\":10,\\\"target_id\\\":17,\\\"type\\\":\\\"CurriculumPrerequisite\\\"},{\\\"source_id\\\":6,\\\"target_id\\\":17,\\\"type\\\":\\\"CurriculumPrerequisite\\\"}],\\\"name\\\":\\\"SIE 270\\\",\\\"metrics\\\":{\\\"complexity\\\":6.0,\\\"centrality\\\":17,\\\"blocking factor\\\":1,\\\"delay factor\\\":5.0},\\\"nameSub\\\":\\\"Math Found of Sys & Indust Eng\\\",\\\"id\\\":17,\\\"credits\\\":3,\\\"nameCanonical\\\":\\\"\\\"},{\\\"curriculum_requisites\\\":[{\\\"source_id\\\":11,\\\"target_id\\\":18,\\\"type\\\":\\\"CurriculumPrerequisite\\\"}],\\\"name\\\":\\\"SIE 295S\\\",\\\"metrics\\\":{\\\"complexity\\\":4.0,\\\"centrality\\\":0,\\\"blocking factor\\\":0,\\\"delay factor\\\":4.0},\\\"nameSub\\\":\\\"Sys & Indust Eng Soph Colloquium\\\",\\\"id\\\":18,\\\"credits\\\":1,\\\"nameCanonical\\\":\\\"\\\"},{\\\"curriculum_requisites\\\":[{\\\"source_id\\\":6,\\\"target_id\\\":19,\\\"type\\\":\\\"CurriculumPrerequisite\\\"}],\\\"name\\\":\\\"MATH 254\\\",\\\"metrics\\\":{\\\"complexity\\\":3.0,\\\"centrality\\\":0,\\\"blocking factor\\\":0,\\\"delay factor\\\":3.0},\\\"nameSub\\\":\\\"Intro to ODEs\\\",\\\"id\\\":19,\\\"credits\\\":3,\\\"nameCanonical\\\":\\\"\\\"},{\\\"curriculum_requisites\\\":[],\\\"name\\\":\\\" \\\",\\\"metrics\\\":{\\\"complexity\\\":1.0,\\\"centrality\\\":0,\\\"blocking factor\\\":0,\\\"delay factor\\\":1.0},\\\"nameSub\\\":\\\"Eng Minor Course\\\",\\\"id\\\":20,\\\"credits\\\":3,\\\"nameCanonical\\\":\\\"\\\"},{\\\"curriculum_requisites\\\":[],\\\"name\\\":\\\" \\\",\\\"metrics\\\":{\\\"complexity\\\":1.0,\\\"centrality\\\":0,\\\"blocking factor\\\":0,\\\"delay factor\\\":1.0},\\\"nameSub\\\":\\\"Tier I General Ed.\\\",\\\"id\\\":21,\\\"credits\\\":3,\\\"nameCanonical\\\":\\\"\\\"}],\\\"id\\\":4},{\\\"name\\\":\\\"Term 5\\\",\\\"curriculum_items\\\":[{\\\"curriculum_requisites\\\":[{\\\"source_id\\\":6,\\\"target_id\\\":22,\\\"type\\\":\\\"CurriculumPrerequisite\\\"}],\\\"name\\\":\\\"SIE 305\\\",\\\"metrics\\\":{\\\"complexity\\\":7.0,\\\"centrality\\\":12,\\\"blocking factor\\\":3,\\\"delay factor\\\":4.0},\\\"nameSub\\\":\\\"Intro to Eng Prob & Stats\\\",\\\"id\\\":22,\\\"credits\\\":3,\\\"nameCanonical\\\":\\\"\\\"},{\\\"curriculum_requisites\\\":[{\\\"source_id\\\":16,\\\"target_id\\\":23,\\\"type\\\":\\\"CurriculumPrerequisite\\\"},{\\\"source_id\\\":17,\\\"target_id\\\":23,\\\"type\\\":\\\"CurriculumPrerequisite\\\"}],\\\"name\\\":\\\"SIE 340\\\",\\\"metrics\\\":{\\\"complexity\\\":5.0,\\\"centrality\\\":0,\\\"blocking factor\\\":0,\\\"delay factor\\\":5.0},\\\"nameSub\\\":\\\"Deterministic OR\\\",\\\"id\\\":23,\\\"credits\\\":3,\\\"nameCanonical\\\":\\\"\\\"},{\\\"curriculum_requisites\\\":[{\\\"source_id\\\":13,\\\"target_id\\\":25,\\\"type\\\":\\\"CurriculumPrerequisite\\\"},{\\\"source_id\\\":6,\\\"target_id\\\":25,\\\"type\\\":\\\"CurriculumPrerequisite\\\"}],\\\"name\\\":\\\"ECE 220\\\",\\\"metrics\\\":{\\\"complexity\\\":7.0,\\\"centrality\\\":20,\\\"blocking factor\\\":1,\\\"delay factor\\\":6.0},\\\"nameSub\\\":\\\"Basic Circuits\\\",\\\"id\\\":25,\\\"credits\\\":5,\\\"nameCanonical\\\":\\\"\\\"},{\\\"curriculum_requisites\\\":[],\\\"name\\\":\\\" \\\",\\\"metrics\\\":{\\\"complexity\\\":1.0,\\\"centrality\\\":0,\\\"blocking factor\\\":0,\\\"delay factor\\\":1.0},\\\"nameSub\\\":\\\"Eng Minor Course\\\",\\\"id\\\":26,\\\"credits\\\":3,\\\"nameCanonical\\\":\\\"\\\"},{\\\"curriculum_requisites\\\":[],\\\"name\\\":\\\" \\\",\\\"metrics\\\":{\\\"complexity\\\":1.0,\\\"centrality\\\":0,\\\"blocking factor\\\":0,\\\"delay factor\\\":1.0},\\\"nameSub\\\":\\\"Eng Minor Course\\\",\\\"id\\\":27,\\\"credits\\\":3,\\\"nameCanonical\\\":\\\"\\\"}],\\\"id\\\":5},{\\\"name\\\":\\\"Term 6\\\",\\\"curriculum_items\\\":[{\\\"curriculum_requisites\\\":[{\\\"source_id\\\":22,\\\"target_id\\\":24,\\\"type\\\":\\\"CurriculumPrerequisite\\\"}],\\\"name\\\":\\\"SIE 321\\\",\\\"metrics\\\":{\\\"complexity\\\":4.0,\\\"centrality\\\":0,\\\"blocking factor\\\":0,\\\"delay factor\\\":4.0},\\\"nameSub\\\":\\\"Prob. Methods in OR\\\",\\\"id\\\":24,\\\"credits\\\":3,\\\"nameCanonical\\\":\\\"\\\"},{\\\"curriculum_requisites\\\":[{\\\"source_id\\\":22,\\\"target_id\\\":28,\\\"type\\\":\\\"CurriculumPrerequisite\\\"}],\\\"name\\\":\\\"SIE 330R\\\",\\\"metrics\\\":{\\\"complexity\\\":4.0,\\\"centrality\\\":0,\\\"blocking factor\\\":0,\\\"delay factor\\\":4.0},\\\"nameSub\\\":\\\"Eng Experiment Design\\\",\\\"id\\\":28,\\\"credits\\\":3,\\\"nameCanonical\\\":\\\"\\\"},{\\\"curriculum_requisites\\\":[{\\\"source_id\\\":7,\\\"target_id\\\":29,\\\"type\\\":\\\"CurriculumPrerequisite\\\"},{\\\"source_id\\\":4,\\\"target_id\\\":29,\\\"type\\\":\\\"CurriculumPrerequisite\\\"},{\\\"source_id\\\":25,\\\"target_id\\\":29,\\\"type\\\":\\\"CurriculumPrerequisite\\\"}],\\\"name\\\":\\\"SIE 370\\\",\\\"metrics\\\":{\\\"complexity\\\":6.0,\\\"centrality\\\":0,\\\"blocking factor\\\":0,\\\"delay factor\\\":6.0},\\\"nameSub\\\":\\\"Embedded Computer Sys\\\",\\\"id\\\":29,\\\"credits\\\":4,\\\"nameCanonical\\\":\\\"\\\"},{\\\"curriculum_requisites\\\":[],\\\"name\\\":\\\" \\\",\\\"metrics\\\":{\\\"complexity\\\":1.0,\\\"centrality\\\":0,\\\"blocking factor\\\":0,\\\"delay factor\\\":1.0},\\\"nameSub\\\":\\\"Eng Minor Course\\\",\\\"id\\\":30,\\\"credits\\\":3,\\\"nameCanonical\\\":\\\"\\\"},{\\\"curriculum_requisites\\\":[],\\\"name\\\":\\\" \\\",\\\"metrics\\\":{\\\"complexity\\\":1.0,\\\"centrality\\\":0,\\\"blocking factor\\\":0,\\\"delay factor\\\":1.0},\\\"nameSub\\\":\\\"Tier I General Ed.\\\",\\\"id\\\":31,\\\"credits\\\":3,\\\"nameCanonical\\\":\\\"\\\"}],\\\"id\\\":6},{\\\"name\\\":\\\"Term 7\\\",\\\"curriculum_items\\\":[{\\\"curriculum_requisites\\\":[],\\\"name\\\":\\\"ENGR 498A\\\",\\\"metrics\\\":{\\\"complexity\\\":3.0,\\\"centrality\\\":0,\\\"blocking factor\\\":1,\\\"delay factor\\\":2.0},\\\"nameSub\\\":\\\"Cross-disciplinary Design\\\",\\\"id\\\":32,\\\"credits\\\":3,\\\"nameCanonical\\\":\\\"\\\"},{\\\"curriculum_requisites\\\":[],\\\"name\\\":\\\"SIE 410A\\\",\\\"metrics\\\":{\\\"complexity\\\":1.0,\\\"centrality\\\":0,\\\"blocking factor\\\":0,\\\"delay factor\\\":1.0},\\\"nameSub\\\":\\\"Human Factors & Ergonomics in Design\\\",\\\"id\\\":33,\\\"credits\\\":3,\\\"nameCanonical\\\":\\\"\\\"},{\\\"curriculum_requisites\\\":[{\\\"source_id\\\":22,\\\"target_id\\\":34,\\\"type\\\":\\\"CurriculumPrerequisite\\\"}],\\\"name\\\":\\\"SIE 431\\\",\\\"metrics\\\":{\\\"complexity\\\":4.0,\\\"centrality\\\":0,\\\"blocking factor\\\":0,\\\"delay factor\\\":4.0},\\\"nameSub\\\":\\\"Simulation & Modeling\\\",\\\"id\\\":34,\\\"credits\\\":3,\\\"nameCanonical\\\":\\\"\\\"},{\\\"curriculum_requisites\\\":[],\\\"name\\\":\\\"SIE 454A\\\",\\\"metrics\\\":{\\\"complexity\\\":1.0,\\\"centrality\\\":0,\\\"blocking factor\\\":0,\\\"delay factor\\\":1.0},\\\"nameSub\\\":\\\"Sys Eng Process\\\",\\\"id\\\":35,\\\"credits\\\":3,\\\"nameCanonical\\\":\\\"\\\"},{\\\"curriculum_requisites\\\":[{\\\"source_id\\\":9,\\\"target_id\\\":36,\\\"type\\\":\\\"CurriculumPrerequisite\\\"}],\\\"name\\\":\\\"ENGL 308\\\",\\\"metrics\\\":{\\\"complexity\\\":3.0,\\\"centrality\\\":0,\\\"blocking factor\\\":0,\\\"delay factor\\\":3.0},\\\"nameSub\\\":\\\"Tech Writing\\\",\\\"id\\\":36,\\\"credits\\\":3,\\\"nameCanonical\\\":\\\"\\\"}],\\\"id\\\":7},{\\\"name\\\":\\\"Term 8\\\",\\\"curriculum_items\\\":[{\\\"curriculum_requisites\\\":[{\\\"source_id\\\":32,\\\"target_id\\\":37,\\\"type\\\":\\\"CurriculumPrerequisite\\\"}],\\\"name\\\":\\\"ENGR 498B\\\",\\\"metrics\\\":{\\\"complexity\\\":2.0,\\\"centrality\\\":0,\\\"blocking factor\\\":0,\\\"delay factor\\\":2.0},\\\"nameSub\\\":\\\"Cross-disciplinary Design\\\",\\\"id\\\":37,\\\"credits\\\":3,\\\"nameCanonical\\\":\\\"\\\"},{\\\"curriculum_requisites\\\":[],\\\"name\\\":\\\" \\\",\\\"metrics\\\":{\\\"complexity\\\":1.0,\\\"centrality\\\":0,\\\"blocking factor\\\":0,\\\"delay factor\\\":1.0},\\\"nameSub\\\":\\\"Eng Minor Course\\\",\\\"id\\\":38,\\\"credits\\\":3,\\\"nameCanonical\\\":\\\"\\\"},{\\\"curriculum_requisites\\\":[],\\\"name\\\":\\\" \\\",\\\"metrics\\\":{\\\"complexity\\\":1.0,\\\"centrality\\\":0,\\\"blocking factor\\\":0,\\\"delay factor\\\":1.0},\\\"nameSub\\\":\\\"Eng Minor Course\\\",\\\"id\\\":39,\\\"credits\\\":3,\\\"nameCanonical\\\":\\\"\\\"},{\\\"curriculum_requisites\\\":[],\\\"name\\\":\\\" \\\",\\\"metrics\\\":{\\\"complexity\\\":1.0,\\\"centrality\\\":0,\\\"blocking factor\\\":0,\\\"delay factor\\\":1.0},\\\"nameSub\\\":\\\"Tier II General Ed.\\\",\\\"id\\\":40,\\\"credits\\\":3,\\\"nameCanonical\\\":\\\"\\\"},{\\\"curriculum_requisites\\\":[],\\\"name\\\":\\\" \\\",\\\"metrics\\\":{\\\"complexity\\\":1.0,\\\"centrality\\\":0,\\\"blocking factor\\\":0,\\\"delay factor\\\":1.0},\\\"nameSub\\\":\\\"Tier II General Ed.\\\",\\\"id\\\":41,\\\"credits\\\":3,\\\"nameCanonical\\\":\\\"\\\"},{\\\"curriculum_requisites\\\":[],\\\"name\\\":\\\" \\\",\\\"metrics\\\":{\\\"complexity\\\":1.0,\\\"centrality\\\":0,\\\"blocking factor\\\":0,\\\"delay factor\\\":1.0},\\\"nameSub\\\":\\\"Free Elective\\\",\\\"id\\\":42,\\\"credits\\\":1,\\\"nameCanonical\\\":\\\"\\\"}],\\\"id\\\":8}],\\\"institution\\\":\\\"University of Arizona\\\"}},\\\"*\\\"); window.removeEventListener(\\\"message\\\",window.messageReceived); window.messageReceived=(function (event){return (event.data.curriculum!==undefined) ? (WebIO.setval({\\\"name\\\":\\\"curriculum-data\\\",\\\"scope\\\":\\\"13560316752595683817\\\",\\\"id\\\":\\\"ob_01\\\",\\\"type\\\":\\\"observable\\\"},event.data.curriculum)) : undefined}); return window.addEventListener(\\\"message\\\",window.messageReceived)})\"},\"style\":{\"padding\":\"0\",\"height\":\"100vh\",\"margin\":\"0\",\"border\":\"none\",\"width\":\"100%\"}},\"nodeType\":\"DOM\",\"type\":\"node\",\"instanceArgs\":{\"namespace\":\"html\",\"tag\":\"iframe\"},\"children\":[\"\"]}]},\n",
       "            window,\n",
       "        );\n",
       "    } else {\n",
       "        document\n",
       "            .querySelector('[data-webio-mountpoint=\"2511612576228355373\"]')\n",
       "            .innerHTML = (\n",
       "                '<div style=\"padding: 1em; background-color: #f8d6da; border: 1px solid #f5c6cb\">' +\n",
       "                '<p><strong>WebIO not detected.</strong></p>' +\n",
       "                '<p>Please read ' +\n",
       "                '<a href=\"https://juliagizmos.github.io/WebIO.jl/latest/troubleshooting/not-detected/\" target=\"_blank\">the troubleshooting guide</a> ' +\n",
       "                'for more information on how to resolve this issue.</p>' +\n",
       "                '<p><a href=\"https://juliagizmos.github.io/WebIO.jl/latest/troubleshooting/not-detected/\" target=\"_blank\">https://juliagizmos.github.io/WebIO.jl/latest/troubleshooting/not-detected/</a></p>' +\n",
       "                '</div>'\n",
       "            );\n",
       "    }\n",
       "    </script>\n",
       "</div>\n"
      ],
      "text/plain": [
       "WebIO.Scope(WebIO.Node{WebIO.DOM}(WebIO.DOM(:html, :iframe), Any[\"\"], Dict{Symbol,Any}(:src => \"http://localhost:8156\",:id => \"curriculum\",:events => Dict{Symbol,WebIO.JSString}(:load => WebIO.JSString(\"(function (){this.contentWindow.postMessage({\\\"options\\\":{\\\"hideTerms\\\":false,\\\"edit\\\":false},\\\"curriculum\\\":{\\\"name\\\":\\\"Systems Engineering\\\",\\\"dp_name\\\":\\\"2019-20 Degree Plan\\\",\\\"curriculum_terms\\\":[{\\\"name\\\":\\\"Term 1\\\",\\\"curriculum_items\\\":[{\\\"curriculum_requisites\\\":[],\\\"name\\\":\\\"MATH 125\\\",\\\"metrics\\\":{\\\"complexity\\\":25.0,\\\"centrality\\\":0,\\\"blocking factor\\\":19,\\\"delay factor\\\":6.0},\\\"nameSub\\\":\\\"Calculus I w/ Applications\\\",\\\"id\\\":1,\\\"credits\\\":3,\\\"nameCanonical\\\":\\\"\\\"},{\\\"curriculum_requisites\\\":[],\\\"name\\\":\\\"CHEM 151\\\",\\\"metrics\\\":{\\\"complexity\\\":3.0,\\\"centrality\\\":0,\\\"blocking factor\\\":1,\\\"delay factor\\\":2.0},\\\"nameSub\\\":\\\"Gen Chemistry I\\\",\\\"id\\\":2,\\\"credits\\\":4,\\\"nameCanonical\\\":\\\"\\\"},{\\\"curriculum_requisites\\\":[],\\\"name\\\":\\\"ENGL 101\\\",\\\"metrics\\\":{\\\"complexity\\\":5.0,\\\"centrality\\\":0,\\\"blocking factor\\\":2,\\\"delay factor\\\":3.0},\\\"nameSub\\\":\\\"First-year Comp.\\\",\\\"id\\\":3,\\\"credits\\\":3,\\\"nameCanonical\\\":\\\"\\\"},{\\\"curriculum_requisites\\\":[{\\\"source_id\\\":1,\\\"target_id\\\":4,\\\"type\\\":\\\"CurriculumCorequisite\\\"}],\\\"name\\\":\\\"ENGR 102\\\",\\\"metrics\\\":{\\\"complexity\\\":4.0,\\\"centrality\\\":3,\\\"blocking factor\\\":1,\\\"delay factor\\\":3.0},\\\"nameSub\\\":\\\"Intro to Engineering\\\",\\\"id\\\":4,\\\"credits\\\":3,\\\"nameCanonical\\\":\\\"\\\"},{\\\"curriculum_requisites\\\":[],\\\"name\\\":\\\" \\\",\\\"metrics\\\":{\\\"complexity\\\":1.0,\\\"centrality\\\":0,\\\"blocking factor\\\":0,\\\"delay factor\\\":1.0},\\\"nameSub\\\":\\\"Tier I General Ed.\\\",\\\"id\\\":5,\\\"credits\\\":3,\\\"nameCanonical\\\":\\\"\\\"}],\\\"id\\\":1},{\\\"name\\\":\\\"Term 2\\\",\\\"curriculum_items\\\":[{\\\"curriculum_requisites\\\":[{\\\"source_id\\\":1,\\\"target_id\\\":6,\\\"type\\\":\\\"CurriculumPrerequisite\\\"}],\\\"name\\\":\\\"MATH 129\\\",\\\"metrics\\\":{\\\"complexity\\\":20.0,\\\"centrality\\\":46,\\\"blocking factor\\\":14,\\\"delay factor\\\":6.0},\\\"nameSub\\\":\\\"Calculus II\\\",\\\"id\\\":6,\\\"credits\\\":3,\\\"nameCanonical\\\":\\\"\\\"},{\\\"curriculum_requisites\\\":[{\\\"source_id\\\":1,\\\"target_id\\\":7,\\\"type\\\":\\\"CurriculumCorequisite\\\"}],\\\"name\\\":\\\"ECE 175\\\",\\\"metrics\\\":{\\\"complexity\\\":8.0,\\\"centrality\\\":10,\\\"blocking factor\\\":4,\\\"delay factor\\\":4.0},\\\"nameSub\\\":\\\"Programming for Eng. Apps.\\\",\\\"id\\\":7,\\\"credits\\\":3,\\\"nameCanonical\\\":\\\"\\\"},{\\\"curriculum_requisites\\\":[{\\\"source_id\\\":2,\\\"target_id\\\":8,\\\"type\\\":\\\"CurriculumPrerequisite\\\"}],\\\"name\\\":\\\"CHEM 152\\\",\\\"metrics\\\":{\\\"complexity\\\":2.0,\\\"centrality\\\":0,\\\"blocking factor\\\":0,\\\"delay factor\\\":2.0},\\\"nameSub\\\":\\\"Gen Chemistry II\\\",\\\"id\\\":8,\\\"credits\\\":4,\\\"nameCanonical\\\":\\\"\\\"},{\\\"curriculum_requisites\\\":[{\\\"source_id\\\":3,\\\"target_id\\\":9,\\\"type\\\":\\\"CurriculumPrerequisite\\\"}],\\\"name\\\":\\\"ENGL 102\\\",\\\"metrics\\\":{\\\"complexity\\\":4.0,\\\"centrality\\\":3,\\\"blocking factor\\\":1,\\\"delay factor\\\":3.0},\\\"nameSub\\\":\\\"First-year Comp.\\\",\\\"id\\\":9,\\\"credits\\\":3,\\\"nameCanonical\\\":\\\"\\\"},{\\\"curriculum_requisites\\\":[{\\\"source_id\\\":6,\\\"target_id\\\":10,\\\"type\\\":\\\"CurriculumCorequisite\\\"},{\\\"source_id\\\":1,\\\"target_id\\\":10,\\\"type\\\":\\\"CurriculumPrerequisite\\\"}],\\\"name\\\":\\\"PHYS 141\\\",\\\"metrics\\\":{\\\"complexity\\\":11.0,\\\"centrality\\\":20,\\\"blocking factor\\\":5,\\\"delay factor\\\":6.0},\\\"nameSub\\\":\\\"Intro Mechanics\\\",\\\"id\\\":10,\\\"credits\\\":4,\\\"nameCanonical\\\":\\\"\\\"}],\\\"id\\\":2},{\\\"name\\\":\\\"Term 3\\\",\\\"curriculum_items\\\":[{\\\"curriculum_requisites\\\":[{\\\"source_id\\\":6,\\\"target_id\\\":11,\\\"type\\\":\\\"CurriculumPrerequisite\\\"}],\\\"name\\\":\\\"SIE 250\\\",\\\"metrics\\\":{\\\"complexity\\\":5.0,\\\"centrality\\\":4,\\\"blocking factor\\\":1,\\\"delay factor\\\":4.0},\\\"nameSub\\\":\\\"Intro to Sys and Indust Eng\\\",\\\"id\\\":11,\\\"credits\\\":3,\\\"nameCanonical\\\":\\\"\\\"},{\\\"curriculum_requisites\\\":[{\\\"source_id\\\":6,\\\"target_id\\\":12,\\\"type\\\":\\\"CurriculumPrerequisite\\\"}],\\\"name\\\":\\\"MATH  223\\\",\\\"metrics\\\":{\\\"complexity\\\":3.0,\\\"centrality\\\":0,\\\"blocking factor\\\":0,\\\"delay factor\\\":3.0},\\\"nameSub\\\":\\\"Vector Calculus\\\",\\\"id\\\":12,\\\"credits\\\":4,\\\"nameCanonical\\\":\\\"\\\"},{\\\"curriculum_requisites\\\":[{\\\"source_id\\\":10,\\\"target_id\\\":13,\\\"type\\\":\\\"CurriculumPrerequisite\\\"},{\\\"source_id\\\":6,\\\"target_id\\\":13,\\\"type\\\":\\\"CurriculumPrerequisite\\\"}],\\\"name\\\":\\\"PHYS 241\\\",\\\"metrics\\\":{\\\"complexity\\\":8.0,\\\"centrality\\\":16,\\\"blocking factor\\\":2,\\\"delay factor\\\":6.0},\\\"nameSub\\\":\\\"Electricity & Magnetism\\\",\\\"id\\\":13,\\\"credits\\\":4,\\\"nameCanonical\\\":\\\"\\\"},{\\\"curriculum_requisites\\\":[{\\\"source_id\\\":7,\\\"target_id\\\":14,\\\"type\\\":\\\"CurriculumPrerequisite\\\"}],\\\"name\\\":\\\"SIE 277\\\",\\\"metrics\\\":{\\\"complexity\\\":3.0,\\\"centrality\\\":0,\\\"blocking factor\\\":0,\\\"delay factor\\\":3.0},\\\"nameSub\\\":\\\"Obj-oriented Modeling and Design\\\",\\\"id\\\":14,\\\"credits\\\":3,\\\"nameCanonical\\\":\\\"\\\"},{\\\"curriculum_requisites\\\":[],\\\"name\\\":\\\" \\\",\\\"metrics\\\":{\\\"complexity\\\":1.0,\\\"centrality\\\":0,\\\"blocking factor\\\":0,\\\"delay factor\\\":1.0},\\\"nameSub\\\":\\\"Tier I General Ed.\\\",\\\"id\\\":15,\\\"credits\\\":3,\\\"nameCanonical\\\":\\\"\\\"}],\\\"id\\\":3},{\\\"name\\\":\\\"Term 4\\\",\\\"curriculum_items\\\":[{\\\"curriculum_requisites\\\":[{\\\"source_id\\\":1,\\\"target_id\\\":16,\\\"type\\\":\\\"CurriculumPrerequisite\\\"}],\\\"name\\\":\\\"SIE 265\\\",\\\"metrics\\\":{\\\"complexity\\\":4.0,\\\"centrality\\\":3,\\\"blocking factor\\\":1,\\\"delay factor\\\":3.0},\\\"nameSub\\\":\\\"Eng. Management I\\\",\\\"id\\\":16,\\\"credits\\\":3,\\\"nameCanonical\\\":\\\"\\\"},{\\\"curriculum_requisites\\\":[{\\\"source_id\\\":7,\\\"target_id\\\":17,\\\"type\\\":\\\"CurriculumPrerequisite\\\"},{\\\"source_id\\\":10,\\\"target_id\\\":17,\\\"type\\\":\\\"CurriculumPrerequisite\\\"},{\\\"source_id\\\":6,\\\"target_id\\\":17,\\\"type\\\":\\\"CurriculumPrerequisite\\\"}],\\\"name\\\":\\\"SIE 270\\\",\\\"metrics\\\":{\\\"complexity\\\":6.0,\\\"centrality\\\":17,\\\"blocking factor\\\":1,\\\"delay factor\\\":5.0},\\\"nameSub\\\":\\\"Math Found of Sys & Indust Eng\\\",\\\"id\\\":17,\\\"credits\\\":3,\\\"nameCanonical\\\":\\\"\\\"},{\\\"curriculum_requisites\\\":[{\\\"source_id\\\":11,\\\"target_id\\\":18,\\\"type\\\":\\\"CurriculumPrerequisite\\\"}],\\\"name\\\":\\\"SIE 295S\\\",\\\"metrics\\\":{\\\"complexity\\\":4.0,\\\"centrality\\\":0,\\\"blocking factor\\\":0,\\\"delay factor\\\":4.0},\\\"nameSub\\\":\\\"Sys & Indust Eng Soph Colloquium\\\",\\\"id\\\":18,\\\"credits\\\":1,\\\"nameCanonical\\\":\\\"\\\"},{\\\"curriculum_requisites\\\":[{\\\"source_id\\\":6,\\\"target_id\\\":19,\\\"type\\\":\\\"CurriculumPrerequisite\\\"}],\\\"name\\\":\\\"MATH 254\\\",\\\"metrics\\\":{\\\"complexity\\\":3.0,\\\"centrality\\\":0,\\\"blocking factor\\\":0,\\\"delay factor\\\":3.0},\\\"nameSub\\\":\\\"Intro to ODEs\\\",\\\"id\\\":19,\\\"credits\\\":3,\\\"nameCanonical\\\":\\\"\\\"},{\\\"curriculum_requisites\\\":[],\\\"name\\\":\\\" \\\",\\\"metrics\\\":{\\\"complexity\\\":1.0,\\\"centrality\\\":0,\\\"blocking factor\\\":0,\\\"delay factor\\\":1.0},\\\"nameSub\\\":\\\"Eng Minor Course\\\",\\\"id\\\":20,\\\"credits\\\":3,\\\"nameCanonical\\\":\\\"\\\"},{\\\"curriculum_requisites\\\":[],\\\"name\\\":\\\" \\\",\\\"metrics\\\":{\\\"complexity\\\":1.0,\\\"centrality\\\":0,\\\"blocking factor\\\":0,\\\"delay factor\\\":1.0},\\\"nameSub\\\":\\\"Tier I General Ed.\\\",\\\"id\\\":21,\\\"credits\\\":3,\\\"nameCanonical\\\":\\\"\\\"}],\\\"id\\\":4},{\\\"name\\\":\\\"Term 5\\\",\\\"curriculum_items\\\":[{\\\"curriculum_requisites\\\":[{\\\"source_id\\\":6,\\\"target_id\\\":22,\\\"type\\\":\\\"CurriculumPrerequisite\\\"}],\\\"name\\\":\\\"SIE 305\\\",\\\"metrics\\\":{\\\"complexity\\\":7.0,\\\"centrality\\\":12,\\\"blocking factor\\\":3,\\\"delay factor\\\":4.0},\\\"nameSub\\\":\\\"Intro to Eng Prob & Stats\\\",\\\"id\\\":22,\\\"credits\\\":3,\\\"nameCanonical\\\":\\\"\\\"},{\\\"curriculum_requisites\\\":[{\\\"source_id\\\":16,\\\"target_id\\\":23,\\\"type\\\":\\\"CurriculumPrerequisite\\\"},{\\\"source_id\\\":17,\\\"target_id\\\":23,\\\"type\\\":\\\"CurriculumPrerequisite\\\"}],\\\"name\\\":\\\"SIE 340\\\",\\\"metrics\\\":{\\\"complexity\\\":5.0,\\\"centrality\\\":0,\\\"blocking factor\\\":0,\\\"delay factor\\\":5.0},\\\"nameSub\\\":\\\"Deterministic OR\\\",\\\"id\\\":23,\\\"credits\\\":3,\\\"nameCanonical\\\":\\\"\\\"},{\\\"curriculum_requisites\\\":[{\\\"source_id\\\":13,\\\"target_id\\\":25,\\\"type\\\":\\\"CurriculumPrerequisite\\\"},{\\\"source_id\\\":6,\\\"target_id\\\":25,\\\"type\\\":\\\"CurriculumPrerequisite\\\"}],\\\"name\\\":\\\"ECE 220\\\",\\\"metrics\\\":{\\\"complexity\\\":7.0,\\\"centrality\\\":20,\\\"blocking factor\\\":1,\\\"delay factor\\\":6.0},\\\"nameSub\\\":\\\"Basic Circuits\\\",\\\"id\\\":25,\\\"credits\\\":5,\\\"nameCanonical\\\":\\\"\\\"},{\\\"curriculum_requisites\\\":[],\\\"name\\\":\\\" \\\",\\\"metrics\\\":{\\\"complexity\\\":1.0,\\\"centrality\\\":0,\\\"blocking factor\\\":0,\\\"delay factor\\\":1.0},\\\"nameSub\\\":\\\"Eng Minor Course\\\",\\\"id\\\":26,\\\"credits\\\":3,\\\"nameCanonical\\\":\\\"\\\"},{\\\"curriculum_requisites\\\":[],\\\"name\\\":\\\" \\\",\\\"metrics\\\":{\\\"complexity\\\":1.0,\\\"centrality\\\":0,\\\"blocking factor\\\":0,\\\"delay factor\\\":1.0},\\\"nameSub\\\":\\\"Eng Minor Course\\\",\\\"id\\\":27,\\\"credits\\\":3,\\\"nameCanonical\\\":\\\"\\\"}],\\\"id\\\":5},{\\\"name\\\":\\\"Term 6\\\",\\\"curriculum_items\\\":[{\\\"curriculum_requisites\\\":[{\\\"source_id\\\":22,\\\"target_id\\\":24,\\\"type\\\":\\\"CurriculumPrerequisite\\\"}],\\\"name\\\":\\\"SIE 321\\\",\\\"metrics\\\":{\\\"complexity\\\":4.0,\\\"centrality\\\":0,\\\"blocking factor\\\":0,\\\"delay factor\\\":4.0},\\\"nameSub\\\":\\\"Prob. Methods in OR\\\",\\\"id\\\":24,\\\"credits\\\":3,\\\"nameCanonical\\\":\\\"\\\"},{\\\"curriculum_requisites\\\":[{\\\"source_id\\\":22,\\\"target_id\\\":28,\\\"type\\\":\\\"CurriculumPrerequisite\\\"}],\\\"name\\\":\\\"SIE 330R\\\",\\\"metrics\\\":{\\\"complexity\\\":4.0,\\\"centrality\\\":0,\\\"blocking factor\\\":0,\\\"delay factor\\\":4.0},\\\"nameSub\\\":\\\"Eng Experiment Design\\\",\\\"id\\\":28,\\\"credits\\\":3,\\\"nameCanonical\\\":\\\"\\\"},{\\\"curriculum_requisites\\\":[{\\\"source_id\\\":7,\\\"target_id\\\":29,\\\"type\\\":\\\"CurriculumPrerequisite\\\"},{\\\"source_id\\\":4,\\\"target_id\\\":29,\\\"type\\\":\\\"CurriculumPrerequisite\\\"},{\\\"source_id\\\":25,\\\"target_id\\\":29,\\\"type\\\":\\\"CurriculumPrerequisite\\\"}],\\\"name\\\":\\\"SIE 370\\\",\\\"metrics\\\":{\\\"complexity\\\":6.0,\\\"centrality\\\":0,\\\"blocking factor\\\":0,\\\"delay factor\\\":6.0},\\\"nameSub\\\":\\\"Embedded Computer Sys\\\",\\\"id\\\":29,\\\"credits\\\":4,\\\"nameCanonical\\\":\\\"\\\"},{\\\"curriculum_requisites\\\":[],\\\"name\\\":\\\" \\\",\\\"metrics\\\":{\\\"complexity\\\":1.0,\\\"centrality\\\":0,\\\"blocking factor\\\":0,\\\"delay factor\\\":1.0},\\\"nameSub\\\":\\\"Eng Minor Course\\\",\\\"id\\\":30,\\\"credits\\\":3,\\\"nameCanonical\\\":\\\"\\\"},{\\\"curriculum_requisites\\\":[],\\\"name\\\":\\\" \\\",\\\"metrics\\\":{\\\"complexity\\\":1.0,\\\"centrality\\\":0,\\\"blocking factor\\\":0,\\\"delay factor\\\":1.0},\\\"nameSub\\\":\\\"Tier I General Ed.\\\",\\\"id\\\":31,\\\"credits\\\":3,\\\"nameCanonical\\\":\\\"\\\"}],\\\"id\\\":6},{\\\"name\\\":\\\"Term 7\\\",\\\"curriculum_items\\\":[{\\\"curriculum_requisites\\\":[],\\\"name\\\":\\\"ENGR 498A\\\",\\\"metrics\\\":{\\\"complexity\\\":3.0,\\\"centrality\\\":0,\\\"blocking factor\\\":1,\\\"delay factor\\\":2.0},\\\"nameSub\\\":\\\"Cross-disciplinary Design\\\",\\\"id\\\":32,\\\"credits\\\":3,\\\"nameCanonical\\\":\\\"\\\"},{\\\"curriculum_requisites\\\":[],\\\"name\\\":\\\"SIE 410A\\\",\\\"metrics\\\":{\\\"complexity\\\":1.0,\\\"centrality\\\":0,\\\"blocking factor\\\":0,\\\"delay factor\\\":1.0},\\\"nameSub\\\":\\\"Human Factors & Ergonomics in Design\\\",\\\"id\\\":33,\\\"credits\\\":3,\\\"nameCanonical\\\":\\\"\\\"},{\\\"curriculum_requisites\\\":[{\\\"source_id\\\":22,\\\"target_id\\\":34,\\\"type\\\":\\\"CurriculumPrerequisite\\\"}],\\\"name\\\":\\\"SIE 431\\\",\\\"metrics\\\":{\\\"complexity\\\":4.0,\\\"centrality\\\":0,\\\"blocking factor\\\":0,\\\"delay factor\\\":4.0},\\\"nameSub\\\":\\\"Simulation & Modeling\\\",\\\"id\\\":34,\\\"credits\\\":3,\\\"nameCanonical\\\":\\\"\\\"},{\\\"curriculum_requisites\\\":[],\\\"name\\\":\\\"SIE 454A\\\",\\\"metrics\\\":{\\\"complexity\\\":1.0,\\\"centrality\\\":0,\\\"blocking factor\\\":0,\\\"delay factor\\\":1.0},\\\"nameSub\\\":\\\"Sys Eng Process\\\",\\\"id\\\":35,\\\"credits\\\":3,\\\"nameCanonical\\\":\\\"\\\"},{\\\"curriculum_requisites\\\":[{\\\"source_id\\\":9,\\\"target_id\\\":36,\\\"type\\\":\\\"CurriculumPrerequisite\\\"}],\\\"name\\\":\\\"ENGL 308\\\",\\\"metrics\\\":{\\\"complexity\\\":3.0,\\\"centrality\\\":0,\\\"blocking factor\\\":0,\\\"delay factor\\\":3.0},\\\"nameSub\\\":\\\"Tech Writing\\\",\\\"id\\\":36,\\\"credits\\\":3,\\\"nameCanonical\\\":\\\"\\\"}],\\\"id\\\":7},{\\\"name\\\":\\\"Term 8\\\",\\\"curriculum_items\\\":[{\\\"curriculum_requisites\\\":[{\\\"source_id\\\":32,\\\"target_id\\\":37,\\\"type\\\":\\\"CurriculumPrerequisite\\\"}],\\\"name\\\":\\\"ENGR 498B\\\",\\\"metrics\\\":{\\\"complexity\\\":2.0,\\\"centrality\\\":0,\\\"blocking factor\\\":0,\\\"delay factor\\\":2.0},\\\"nameSub\\\":\\\"Cross-disciplinary Design\\\",\\\"id\\\":37,\\\"credits\\\":3,\\\"nameCanonical\\\":\\\"\\\"},{\\\"curriculum_requisites\\\":[],\\\"name\\\":\\\" \\\",\\\"metrics\\\":{\\\"complexity\\\":1.0,\\\"centrality\\\":0,\\\"blocking factor\\\":0,\\\"delay factor\\\":1.0},\\\"nameSub\\\":\\\"Eng Minor Course\\\",\\\"id\\\":38,\\\"credits\\\":3,\\\"nameCanonical\\\":\\\"\\\"},{\\\"curriculum_requisites\\\":[],\\\"name\\\":\\\" \\\",\\\"metrics\\\":{\\\"complexity\\\":1.0,\\\"centrality\\\":0,\\\"blocking factor\\\":0,\\\"delay factor\\\":1.0},\\\"nameSub\\\":\\\"Eng Minor Course\\\",\\\"id\\\":39,\\\"credits\\\":3,\\\"nameCanonical\\\":\\\"\\\"},{\\\"curriculum_requisites\\\":[],\\\"name\\\":\\\" \\\",\\\"metrics\\\":{\\\"complexity\\\":1.0,\\\"centrality\\\":0,\\\"blocking factor\\\":0,\\\"delay factor\\\":1.0},\\\"nameSub\\\":\\\"Tier II General Ed.\\\",\\\"id\\\":40,\\\"credits\\\":3,\\\"nameCanonical\\\":\\\"\\\"},{\\\"curriculum_requisites\\\":[],\\\"name\\\":\\\" \\\",\\\"metrics\\\":{\\\"complexity\\\":1.0,\\\"centrality\\\":0,\\\"blocking factor\\\":0,\\\"delay factor\\\":1.0},\\\"nameSub\\\":\\\"Tier II General Ed.\\\",\\\"id\\\":41,\\\"credits\\\":3,\\\"nameCanonical\\\":\\\"\\\"},{\\\"curriculum_requisites\\\":[],\\\"name\\\":\\\" \\\",\\\"metrics\\\":{\\\"complexity\\\":1.0,\\\"centrality\\\":0,\\\"blocking factor\\\":0,\\\"delay factor\\\":1.0},\\\"nameSub\\\":\\\"Free Elective\\\",\\\"id\\\":42,\\\"credits\\\":1,\\\"nameCanonical\\\":\\\"\\\"}],\\\"id\\\":8}],\\\"institution\\\":\\\"University of Arizona\\\"}},\\\"*\\\"); window.removeEventListener(\\\"message\\\",window.messageReceived); window.messageReceived=(function (event){return (event.data.curriculum!==undefined) ? (WebIO.setval({\\\"name\\\":\\\"curriculum-data\\\",\\\"scope\\\":\\\"13560316752595683817\\\",\\\"id\\\":\\\"ob_01\\\",\\\"type\\\":\\\"observable\\\"},event.data.curriculum)) : undefined}); return window.addEventListener(\\\"message\\\",window.messageReceived)})\")),:style => Dict(:padding => \"0\",:height => \"100vh\",:margin => \"0\",:border => \"none\",:width => \"100%\"))), Dict{String,Tuple{Observables.AbstractObservable,Union{Nothing, Bool}}}(\"curriculum-data\" => (Observable{Dict{String,Any}} with 1 listeners. Value:\n",
       "Dict{String,Any}(\"options\" => Dict{String,Any}(\"hideTerms\" => false,\"edit\" => false),\"curriculum\" => Dict{String,Any}(\"name\" => \"Systems Engineering\",\"dp_name\" => \"2019-20 Degree Plan\",\"curriculum_terms\" => Dict{String,Any}[Dict(\"name\" => \"Term 1\",\"curriculum_items\" => Dict{String,Any}[Dict(\"curriculum_requisites\" => Dict{String,Any}[],\"name\" => \"MATH 125\",\"metrics\" => Dict{String,Any}(\"complexity\" => 25.0,\"centrality\" => 0,\"blocking factor\" => 19,\"delay factor\" => 6.0),\"nameSub\" => \"Calculus I w/ Applications\",\"id\" => 1,\"credits\" => 3,\"nameCanonical\" => \"\"), Dict(\"curriculum_requisites\" => Dict{String,Any}[],\"name\" => \"CHEM 151\",\"metrics\" => Dict{String,Any}(\"complexity\" => 3.0,\"centrality\" => 0,\"blocking factor\" => 1,\"delay factor\" => 2.0),\"nameSub\" => \"Gen Chemistry I\",\"id\" => 2,\"credits\" => 4,\"nameCanonical\" => \"\"), Dict(\"curriculum_requisites\" => Dict{String,Any}[],\"name\" => \"ENGL 101\",\"metrics\" => Dict{String,Any}(\"complexity\" => 5.0,\"centrality\" => 0,\"blocking factor\" => 2,\"delay factor\" => 3.0),\"nameSub\" => \"First-year Comp.\",\"id\" => 3,\"credits\" => 3,\"nameCanonical\" => \"\"), Dict(\"curriculum_requisites\" => Dict{String,Any}[Dict(\"source_id\" => 1,\"target_id\" => 4,\"type\" => \"CurriculumCorequisite\")],\"name\" => \"ENGR 102\",\"metrics\" => Dict{String,Any}(\"complexity\" => 4.0,\"centrality\" => 3,\"blocking factor\" => 1,\"delay factor\" => 3.0),\"nameSub\" => \"Intro to Engineering\",\"id\" => 4,\"credits\" => 3,\"nameCanonical\" => \"\"), Dict(\"curriculum_requisites\" => Dict{String,Any}[],\"name\" => \" \",\"metrics\" => Dict{String,Any}(\"complexity\" => 1.0,\"centrality\" => 0,\"blocking factor\" => 0,\"delay factor\" => 1.0),\"nameSub\" => \"Tier I General Ed.\",\"id\" => 5,\"credits\" => 3,\"nameCanonical\" => \"\")],\"id\" => 1), Dict(\"name\" => \"Term 2\",\"curriculum_items\" => Dict{String,Any}[Dict(\"curriculum_requisites\" => Dict{String,Any}[Dict(\"source_id\" => 1,\"target_id\" => 6,\"type\" => \"CurriculumPrerequisite\")],\"name\" => \"MATH 129\",\"metrics\" => Dict{String,Any}(\"complexity\" => 20.0,\"centrality\" => 46,\"blocking factor\" => 14,\"delay factor\" => 6.0),\"nameSub\" => \"Calculus II\",\"id\" => 6,\"credits\" => 3,\"nameCanonical\" => \"\"), Dict(\"curriculum_requisites\" => Dict{String,Any}[Dict(\"source_id\" => 1,\"target_id\" => 7,\"type\" => \"CurriculumCorequisite\")],\"name\" => \"ECE 175\",\"metrics\" => Dict{String,Any}(\"complexity\" => 8.0,\"centrality\" => 10,\"blocking factor\" => 4,\"delay factor\" => 4.0),\"nameSub\" => \"Programming for Eng. Apps.\",\"id\" => 7,\"credits\" => 3,\"nameCanonical\" => \"\"), Dict(\"curriculum_requisites\" => Dict{String,Any}[Dict(\"source_id\" => 2,\"target_id\" => 8,\"type\" => \"CurriculumPrerequisite\")],\"name\" => \"CHEM 152\",\"metrics\" => Dict{String,Any}(\"complexity\" => 2.0,\"centrality\" => 0,\"blocking factor\" => 0,\"delay factor\" => 2.0),\"nameSub\" => \"Gen Chemistry II\",\"id\" => 8,\"credits\" => 4,\"nameCanonical\" => \"\"), Dict(\"curriculum_requisites\" => Dict{String,Any}[Dict(\"source_id\" => 3,\"target_id\" => 9,\"type\" => \"CurriculumPrerequisite\")],\"name\" => \"ENGL 102\",\"metrics\" => Dict{String,Any}(\"complexity\" => 4.0,\"centrality\" => 3,\"blocking factor\" => 1,\"delay factor\" => 3.0),\"nameSub\" => \"First-year Comp.\",\"id\" => 9,\"credits\" => 3,\"nameCanonical\" => \"\"), Dict(\"curriculum_requisites\" => Dict{String,Any}[Dict(\"source_id\" => 6,\"target_id\" => 10,\"type\" => \"CurriculumCorequisite\"), Dict(\"source_id\" => 1,\"target_id\" => 10,\"type\" => \"CurriculumPrerequisite\")],\"name\" => \"PHYS 141\",\"metrics\" => Dict{String,Any}(\"complexity\" => 11.0,\"centrality\" => 20,\"blocking factor\" => 5,\"delay factor\" => 6.0),\"nameSub\" => \"Intro Mechanics\",\"id\" => 10,\"credits\" => 4,\"nameCanonical\" => \"\")],\"id\" => 2), Dict(\"name\" => \"Term 3\",\"curriculum_items\" => Dict{String,Any}[Dict(\"curriculum_requisites\" => Dict{String,Any}[Dict(\"source_id\" => 6,\"target_id\" => 11,\"type\" => \"CurriculumPrerequisite\")],\"name\" => \"SIE 250\",\"metrics\" => Dict{String,Any}(\"complexity\" => 5.0,\"centrality\" => 4,\"blocking factor\" => 1,\"delay factor\" => 4.0),\"nameSub\" => \"Intro to Sys and Indust Eng\",\"id\" => 11,\"credits\" => 3,\"nameCanonical\" => \"\"), Dict(\"curriculum_requisites\" => Dict{String,Any}[Dict(\"source_id\" => 6,\"target_id\" => 12,\"type\" => \"CurriculumPrerequisite\")],\"name\" => \"MATH  223\",\"metrics\" => Dict{String,Any}(\"complexity\" => 3.0,\"centrality\" => 0,\"blocking factor\" => 0,\"delay factor\" => 3.0),\"nameSub\" => \"Vector Calculus\",\"id\" => 12,\"credits\" => 4,\"nameCanonical\" => \"\"), Dict(\"curriculum_requisites\" => Dict{String,Any}[Dict(\"source_id\" => 10,\"target_id\" => 13,\"type\" => \"CurriculumPrerequisite\"), Dict(\"source_id\" => 6,\"target_id\" => 13,\"type\" => \"CurriculumPrerequisite\")],\"name\" => \"PHYS 241\",\"metrics\" => Dict{String,Any}(\"complexity\" => 8.0,\"centrality\" => 16,\"blocking factor\" => 2,\"delay factor\" => 6.0),\"nameSub\" => \"Electricity & Magnetism\",\"id\" => 13,\"credits\" => 4,\"nameCanonical\" => \"\"), Dict(\"curriculum_requisites\" => Dict{String,Any}[Dict(\"source_id\" => 7,\"target_id\" => 14,\"type\" => \"CurriculumPrerequisite\")],\"name\" => \"SIE 277\",\"metrics\" => Dict{String,Any}(\"complexity\" => 3.0,\"centrality\" => 0,\"blocking factor\" => 0,\"delay factor\" => 3.0),\"nameSub\" => \"Obj-oriented Modeling and Design\",\"id\" => 14,\"credits\" => 3,\"nameCanonical\" => \"\"), Dict(\"curriculum_requisites\" => Dict{String,Any}[],\"name\" => \" \",\"metrics\" => Dict{String,Any}(\"complexity\" => 1.0,\"centrality\" => 0,\"blocking factor\" => 0,\"delay factor\" => 1.0),\"nameSub\" => \"Tier I General Ed.\",\"id\" => 15,\"credits\" => 3,\"nameCanonical\" => \"\")],\"id\" => 3), Dict(\"name\" => \"Term 4\",\"curriculum_items\" => Dict{String,Any}[Dict(\"curriculum_requisites\" => Dict{String,Any}[Dict(\"source_id\" => 1,\"target_id\" => 16,\"type\" => \"CurriculumPrerequisite\")],\"name\" => \"SIE 265\",\"metrics\" => Dict{String,Any}(\"complexity\" => 4.0,\"centrality\" => 3,\"blocking factor\" => 1,\"delay factor\" => 3.0),\"nameSub\" => \"Eng. Management I\",\"id\" => 16,\"credits\" => 3,\"nameCanonical\" => \"\"), Dict(\"curriculum_requisites\" => Dict{String,Any}[Dict(\"source_id\" => 7,\"target_id\" => 17,\"type\" => \"CurriculumPrerequisite\"), Dict(\"source_id\" => 10,\"target_id\" => 17,\"type\" => \"CurriculumPrerequisite\"), Dict(\"source_id\" => 6,\"target_id\" => 17,\"type\" => \"CurriculumPrerequisite\")],\"name\" => \"SIE 270\",\"metrics\" => Dict{String,Any}(\"complexity\" => 6.0,\"centrality\" => 17,\"blocking factor\" => 1,\"delay factor\" => 5.0),\"nameSub\" => \"Math Found of Sys & Indust Eng\",\"id\" => 17,\"credits\" => 3,\"nameCanonical\" => \"\"), Dict(\"curriculum_requisites\" => Dict{String,Any}[Dict(\"source_id\" => 11,\"target_id\" => 18,\"type\" => \"CurriculumPrerequisite\")],\"name\" => \"SIE 295S\",\"metrics\" => Dict{String,Any}(\"complexity\" => 4.0,\"centrality\" => 0,\"blocking factor\" => 0,\"delay factor\" => 4.0),\"nameSub\" => \"Sys & Indust Eng Soph Colloquium\",\"id\" => 18,\"credits\" => 1,\"nameCanonical\" => \"\"), Dict(\"curriculum_requisites\" => Dict{String,Any}[Dict(\"source_id\" => 6,\"target_id\" => 19,\"type\" => \"CurriculumPrerequisite\")],\"name\" => \"MATH 254\",\"metrics\" => Dict{String,Any}(\"complexity\" => 3.0,\"centrality\" => 0,\"blocking factor\" => 0,\"delay factor\" => 3.0),\"nameSub\" => \"Intro to ODEs\",\"id\" => 19,\"credits\" => 3,\"nameCanonical\" => \"\"), Dict(\"curriculum_requisites\" => Dict{String,Any}[],\"name\" => \" \",\"metrics\" => Dict{String,Any}(\"complexity\" => 1.0,\"centrality\" => 0,\"blocking factor\" => 0,\"delay factor\" => 1.0),\"nameSub\" => \"Eng Minor Course\",\"id\" => 20,\"credits\" => 3,\"nameCanonical\" => \"\"), Dict(\"curriculum_requisites\" => Dict{String,Any}[],\"name\" => \" \",\"metrics\" => Dict{String,Any}(\"complexity\" => 1.0,\"centrality\" => 0,\"blocking factor\" => 0,\"delay factor\" => 1.0),\"nameSub\" => \"Tier I General Ed.\",\"id\" => 21,\"credits\" => 3,\"nameCanonical\" => \"\")],\"id\" => 4), Dict(\"name\" => \"Term 5\",\"curriculum_items\" => Dict{String,Any}[Dict(\"curriculum_requisites\" => Dict{String,Any}[Dict(\"source_id\" => 6,\"target_id\" => 22,\"type\" => \"CurriculumPrerequisite\")],\"name\" => \"SIE 305\",\"metrics\" => Dict{String,Any}(\"complexity\" => 7.0,\"centrality\" => 12,\"blocking factor\" => 3,\"delay factor\" => 4.0),\"nameSub\" => \"Intro to Eng Prob & Stats\",\"id\" => 22,\"credits\" => 3,\"nameCanonical\" => \"\"), Dict(\"curriculum_requisites\" => Dict{String,Any}[Dict(\"source_id\" => 16,\"target_id\" => 23,\"type\" => \"CurriculumPrerequisite\"), Dict(\"source_id\" => 17,\"target_id\" => 23,\"type\" => \"CurriculumPrerequisite\")],\"name\" => \"SIE 340\",\"metrics\" => Dict{String,Any}(\"complexity\" => 5.0,\"centrality\" => 0,\"blocking factor\" => 0,\"delay factor\" => 5.0),\"nameSub\" => \"Deterministic OR\",\"id\" => 23,\"credits\" => 3,\"nameCanonical\" => \"\"), Dict(\"curriculum_requisites\" => Dict{String,Any}[Dict(\"source_id\" => 13,\"target_id\" => 25,\"type\" => \"CurriculumPrerequisite\"), Dict(\"source_id\" => 6,\"target_id\" => 25,\"type\" => \"CurriculumPrerequisite\")],\"name\" => \"ECE 220\",\"metrics\" => Dict{String,Any}(\"complexity\" => 7.0,\"centrality\" => 20,\"blocking factor\" => 1,\"delay factor\" => 6.0),\"nameSub\" => \"Basic Circuits\",\"id\" => 25,\"credits\" => 5,\"nameCanonical\" => \"\"), Dict(\"curriculum_requisites\" => Dict{String,Any}[],\"name\" => \" \",\"metrics\" => Dict{String,Any}(\"complexity\" => 1.0,\"centrality\" => 0,\"blocking factor\" => 0,\"delay factor\" => 1.0),\"nameSub\" => \"Eng Minor Course\",\"id\" => 26,\"credits\" => 3,\"nameCanonical\" => \"\"), Dict(\"curriculum_requisites\" => Dict{String,Any}[],\"name\" => \" \",\"metrics\" => Dict{String,Any}(\"complexity\" => 1.0,\"centrality\" => 0,\"blocking factor\" => 0,\"delay factor\" => 1.0),\"nameSub\" => \"Eng Minor Course\",\"id\" => 27,\"credits\" => 3,\"nameCanonical\" => \"\")],\"id\" => 5), Dict(\"name\" => \"Term 6\",\"curriculum_items\" => Dict{String,Any}[Dict(\"curriculum_requisites\" => Dict{String,Any}[Dict(\"source_id\" => 22,\"target_id\" => 24,\"type\" => \"CurriculumPrerequisite\")],\"name\" => \"SIE 321\",\"metrics\" => Dict{String,Any}(\"complexity\" => 4.0,\"centrality\" => 0,\"blocking factor\" => 0,\"delay factor\" => 4.0),\"nameSub\" => \"Prob. Methods in OR\",\"id\" => 24,\"credits\" => 3,\"nameCanonical\" => \"\"), Dict(\"curriculum_requisites\" => Dict{String,Any}[Dict(\"source_id\" => 22,\"target_id\" => 28,\"type\" => \"CurriculumPrerequisite\")],\"name\" => \"SIE 330R\",\"metrics\" => Dict{String,Any}(\"complexity\" => 4.0,\"centrality\" => 0,\"blocking factor\" => 0,\"delay factor\" => 4.0),\"nameSub\" => \"Eng Experiment Design\",\"id\" => 28,\"credits\" => 3,\"nameCanonical\" => \"\"), Dict(\"curriculum_requisites\" => Dict{String,Any}[Dict(\"source_id\" => 7,\"target_id\" => 29,\"type\" => \"CurriculumPrerequisite\"), Dict(\"source_id\" => 4,\"target_id\" => 29,\"type\" => \"CurriculumPrerequisite\"), Dict(\"source_id\" => 25,\"target_id\" => 29,\"type\" => \"CurriculumPrerequisite\")],\"name\" => \"SIE 370\",\"metrics\" => Dict{String,Any}(\"complexity\" => 6.0,\"centrality\" => 0,\"blocking factor\" => 0,\"delay factor\" => 6.0),\"nameSub\" => \"Embedded Computer Sys\",\"id\" => 29,\"credits\" => 4,\"nameCanonical\" => \"\"), Dict(\"curriculum_requisites\" => Dict{String,Any}[],\"name\" => \" \",\"metrics\" => Dict{String,Any}(\"complexity\" => 1.0,\"centrality\" => 0,\"blocking factor\" => 0,\"delay factor\" => 1.0),\"nameSub\" => \"Eng Minor Course\",\"id\" => 30,\"credits\" => 3,\"nameCanonical\" => \"\"), Dict(\"curriculum_requisites\" => Dict{String,Any}[],\"name\" => \" \",\"metrics\" => Dict{String,Any}(\"complexity\" => 1.0,\"centrality\" => 0,\"blocking factor\" => 0,\"delay factor\" => 1.0),\"nameSub\" => \"Tier I General Ed.\",\"id\" => 31,\"credits\" => 3,\"nameCanonical\" => \"\")],\"id\" => 6), Dict(\"name\" => \"Term 7\",\"curriculum_items\" => Dict{String,Any}[Dict(\"curriculum_requisites\" => Dict{String,Any}[],\"name\" => \"ENGR 498A\",\"metrics\" => Dict{String,Any}(\"complexity\" => 3.0,\"centrality\" => 0,\"blocking factor\" => 1,\"delay factor\" => 2.0),\"nameSub\" => \"Cross-disciplinary Design\",\"id\" => 32,\"credits\" => 3,\"nameCanonical\" => \"\"), Dict(\"curriculum_requisites\" => Dict{String,Any}[],\"name\" => \"SIE 410A\",\"metrics\" => Dict{String,Any}(\"complexity\" => 1.0,\"centrality\" => 0,\"blocking factor\" => 0,\"delay factor\" => 1.0),\"nameSub\" => \"Human Factors & Ergonomics in Design\",\"id\" => 33,\"credits\" => 3,\"nameCanonical\" => \"\"), Dict(\"curriculum_requisites\" => Dict{String,Any}[Dict(\"source_id\" => 22,\"target_id\" => 34,\"type\" => \"CurriculumPrerequisite\")],\"name\" => \"SIE 431\",\"metrics\" => Dict{String,Any}(\"complexity\" => 4.0,\"centrality\" => 0,\"blocking factor\" => 0,\"delay factor\" => 4.0),\"nameSub\" => \"Simulation & Modeling\",\"id\" => 34,\"credits\" => 3,\"nameCanonical\" => \"\"), Dict(\"curriculum_requisites\" => Dict{String,Any}[],\"name\" => \"SIE 454A\",\"metrics\" => Dict{String,Any}(\"complexity\" => 1.0,\"centrality\" => 0,\"blocking factor\" => 0,\"delay factor\" => 1.0),\"nameSub\" => \"Sys Eng Process\",\"id\" => 35,\"credits\" => 3,\"nameCanonical\" => \"\"), Dict(\"curriculum_requisites\" => Dict{String,Any}[Dict(\"source_id\" => 9,\"target_id\" => 36,\"type\" => \"CurriculumPrerequisite\")],\"name\" => \"ENGL 308\",\"metrics\" => Dict{String,Any}(\"complexity\" => 3.0,\"centrality\" => 0,\"blocking factor\" => 0,\"delay factor\" => 3.0),\"nameSub\" => \"Tech Writing\",\"id\" => 36,\"credits\" => 3,\"nameCanonical\" => \"\")],\"id\" => 7), Dict(\"name\" => \"Term 8\",\"curriculum_items\" => Dict{String,Any}[Dict(\"curriculum_requisites\" => Dict{String,Any}[Dict(\"source_id\" => 32,\"target_id\" => 37,\"type\" => \"CurriculumPrerequisite\")],\"name\" => \"ENGR 498B\",\"metrics\" => Dict{String,Any}(\"complexity\" => 2.0,\"centrality\" => 0,\"blocking factor\" => 0,\"delay factor\" => 2.0),\"nameSub\" => \"Cross-disciplinary Design\",\"id\" => 37,\"credits\" => 3,\"nameCanonical\" => \"\"), Dict(\"curriculum_requisites\" => Dict{String,Any}[],\"name\" => \" \",\"metrics\" => Dict{String,Any}(\"complexity\" => 1.0,\"centrality\" => 0,\"blocking factor\" => 0,\"delay factor\" => 1.0),\"nameSub\" => \"Eng Minor Course\",\"id\" => 38,\"credits\" => 3,\"nameCanonical\" => \"\"), Dict(\"curriculum_requisites\" => Dict{String,Any}[],\"name\" => \" \",\"metrics\" => Dict{String,Any}(\"complexity\" => 1.0,\"centrality\" => 0,\"blocking factor\" => 0,\"delay factor\" => 1.0),\"nameSub\" => \"Eng Minor Course\",\"id\" => 39,\"credits\" => 3,\"nameCanonical\" => \"\"), Dict(\"curriculum_requisites\" => Dict{String,Any}[],\"name\" => \" \",\"metrics\" => Dict{String,Any}(\"complexity\" => 1.0,\"centrality\" => 0,\"blocking factor\" => 0,\"delay factor\" => 1.0),\"nameSub\" => \"Tier II General Ed.\",\"id\" => 40,\"credits\" => 3,\"nameCanonical\" => \"\"), Dict(\"curriculum_requisites\" => Dict{String,Any}[],\"name\" => \" \",\"metrics\" => Dict{String,Any}(\"complexity\" => 1.0,\"centrality\" => 0,\"blocking factor\" => 0,\"delay factor\" => 1.0),\"nameSub\" => \"Tier II General Ed.\",\"id\" => 41,\"credits\" => 3,\"nameCanonical\" => \"\"), Dict(\"curriculum_requisites\" => Dict{String,Any}[],\"name\" => \" \",\"metrics\" => Dict{String,Any}(\"complexity\" => 1.0,\"centrality\" => 0,\"blocking factor\" => 0,\"delay factor\" => 1.0),\"nameSub\" => \"Free Elective\",\"id\" => 42,\"credits\" => 1,\"nameCanonical\" => \"\")],\"id\" => 8)],\"institution\" => \"University of Arizona\")), nothing)), Set(String[]), nothing, WebIO.Asset[], Dict{Any,Any}(), WebIO.ConnectionPool(Channel{Any}(sz_max:32,sz_curr:0), Set(WebIO.AbstractConnection[]), Base.GenericCondition{Base.AlwaysLockedST}(Base.InvasiveLinkedList{Task}(Task (runnable) @0x0000000126e4a890, Task (runnable) @0x0000000126e4a890), Base.AlwaysLockedST(1))), WebIO.JSString[])"
      ]
     },
     "execution_count": 5,
     "metadata": {
      "application/vnd.webio.node+json": {
       "kernelId": "cb1d93c4-93e7-42e6-bb7b-5ba5ac413b8d"
      }
     },
     "output_type": "execute_result"
    }
   ],
   "source": [
    "SE_plan = plans[\"Systems Engineering\"]\n",
    "visualize(SE_plan, notebook=true)"
   ]
  },
  {
   "cell_type": "code",
   "execution_count": 6,
   "metadata": {},
   "outputs": [
    {
     "data": {
      "application/vnd.webio.node+json": {
       "children": [
        {
         "children": [
          ""
         ],
         "instanceArgs": {
          "namespace": "html",
          "tag": "iframe"
         },
         "nodeType": "DOM",
         "props": {
          "events": {
           "load": "(function (){this.contentWindow.postMessage({\"options\":{\"hideTerms\":false,\"edit\":false},\"curriculum\":{\"name\":\"Optical Engineering\",\"dp_name\":\"2019-20 Degree Plan\",\"curriculum_terms\":[{\"name\":\"Term 1\",\"curriculum_items\":[{\"curriculum_requisites\":[],\"name\":\"MATH 125\",\"metrics\":{\"complexity\":34.0,\"centrality\":0,\"blocking factor\":26,\"delay factor\":8.0},\"nameSub\":\"Calculus I w/ Applications\",\"id\":1,\"credits\":3,\"nameCanonical\":\"\"},{\"curriculum_requisites\":[],\"name\":\"CHEM 151\",\"metrics\":{\"complexity\":21.0,\"centrality\":0,\"blocking factor\":13,\"delay factor\":8.0},\"nameSub\":\"Gen Chemistry I\",\"id\":2,\"credits\":4,\"nameCanonical\":\"\"},{\"curriculum_requisites\":[],\"name\":\"ENGL 101\",\"metrics\":{\"complexity\":3.0,\"centrality\":0,\"blocking factor\":1,\"delay factor\":2.0},\"nameSub\":\"First-year Comp\",\"id\":3,\"credits\":3,\"nameCanonical\":\"\"},{\"curriculum_requisites\":[{\"source_id\":1,\"target_id\":4,\"type\":\"CurriculumCorequisite\"}],\"name\":\"ENGR 102\",\"metrics\":{\"complexity\":2.0,\"centrality\":0,\"blocking factor\":0,\"delay factor\":2.0},\"nameSub\":\"Intro to Engineering\",\"id\":4,\"credits\":3,\"nameCanonical\":\"\"},{\"curriculum_requisites\":[],\"name\":\" \",\"metrics\":{\"complexity\":1.0,\"centrality\":0,\"blocking factor\":0,\"delay factor\":1.0},\"nameSub\":\"Tier I General Ed 1\",\"id\":5,\"credits\":3,\"nameCanonical\":\"\"}],\"id\":1},{\"name\":\"Term 2\",\"curriculum_items\":[{\"curriculum_requisites\":[{\"source_id\":1,\"target_id\":6,\"type\":\"CurriculumPrerequisite\"}],\"name\":\"MATH 129\",\"metrics\":{\"complexity\":31.0,\"centrality\":333,\"blocking factor\":23,\"delay factor\":8.0},\"nameSub\":\"Calculus II\",\"id\":6,\"credits\":3,\"nameCanonical\":\"\"},{\"curriculum_requisites\":[{\"source_id\":2,\"target_id\":7,\"type\":\"CurriculumPrerequisite\"}],\"name\":\"MSE 110\",\"metrics\":{\"complexity\":20.0,\"centrality\":103,\"blocking factor\":12,\"delay factor\":8.0},\"nameSub\":\"Solid State Chem\",\"id\":7,\"credits\":3,\"nameCanonical\":\"\"},{\"curriculum_requisites\":[{\"source_id\":1,\"target_id\":8,\"type\":\"CurriculumPrerequisite\"}],\"name\":\"PHYS 141\",\"metrics\":{\"complexity\":24.0,\"centrality\":142,\"blocking factor\":16,\"delay factor\":8.0},\"nameSub\":\"Intro Mechanics\",\"id\":8,\"credits\":4,\"nameCanonical\":\"\"},{\"curriculum_requisites\":[{\"source_id\":3,\"target_id\":9,\"type\":\"CurriculumPrerequisite\"}],\"name\":\"ENGL 102\",\"metrics\":{\"complexity\":2.0,\"centrality\":0,\"blocking factor\":0,\"delay factor\":2.0},\"nameSub\":\"First-year Comp.\",\"id\":9,\"credits\":3,\"nameCanonical\":\"\"},{\"curriculum_requisites\":[],\"name\":\" \",\"metrics\":{\"complexity\":1.0,\"centrality\":0,\"blocking factor\":0,\"delay factor\":1.0},\"nameSub\":\"Tier I General Ed 2\",\"id\":10,\"credits\":3,\"nameCanonical\":\"\"}],\"id\":2},{\"name\":\"Term 3\",\"curriculum_items\":[{\"curriculum_requisites\":[{\"source_id\":7,\"target_id\":11,\"type\":\"CurriculumPrerequisite\"},{\"source_id\":8,\"target_id\":11,\"type\":\"CurriculumPrerequisite\"},{\"source_id\":6,\"target_id\":11,\"type\":\"CurriculumPrerequisite\"},{\"source_id\":1,\"target_id\":11,\"type\":\"CurriculumPrerequisite\"}],\"name\":\"OPTI 201R\",\"metrics\":{\"complexity\":19.0,\"centrality\":396,\"blocking factor\":11,\"delay factor\":8.0},\"nameSub\":\"Geometrical & Instrumental Optics I\",\"id\":11,\"credits\":3,\"nameCanonical\":\"\"},{\"curriculum_requisites\":[{\"source_id\":11,\"target_id\":12,\"type\":\"CurriculumStrictCorequisite\"}],\"name\":\"OPTI 201L\",\"metrics\":{\"complexity\":18.0,\"centrality\":166,\"blocking factor\":10,\"delay factor\":8.0},\"nameSub\":\"Geometrical & Instrumental Optics I Lab\",\"id\":12,\"credits\":1,\"nameCanonical\":\"\"},{\"curriculum_requisites\":[{\"source_id\":6,\"target_id\":13,\"type\":\"CurriculumPrerequisite\"}],\"name\":\"MATH  223\",\"metrics\":{\"complexity\":23.0,\"centrality\":152,\"blocking factor\":15,\"delay factor\":8.0},\"nameSub\":\"Vector Calculus\",\"id\":13,\"credits\":4,\"nameCanonical\":\"\"},{\"curriculum_requisites\":[{\"source_id\":8,\"target_id\":14,\"type\":\"CurriculumPrerequisite\"},{\"source_id\":6,\"target_id\":14,\"type\":\"CurriculumPrerequisite\"}],\"name\":\"PHYS 241\",\"metrics\":{\"complexity\":16.0,\"centrality\":78,\"blocking factor\":10,\"delay factor\":6.0},\"nameSub\":\"Electricity & Magnetism\",\"id\":14,\"credits\":4,\"nameCanonical\":\"\"},{\"curriculum_requisites\":[],\"name\":\" \",\"metrics\":{\"complexity\":1.0,\"centrality\":0,\"blocking factor\":0,\"delay factor\":1.0},\"nameSub\":\"Tech Elective 1\",\"id\":15,\"credits\":3,\"nameCanonical\":\"\"},{\"curriculum_requisites\":[],\"name\":\" \",\"metrics\":{\"complexity\":1.0,\"centrality\":0,\"blocking factor\":0,\"delay factor\":1.0},\"nameSub\":\"Tier I General Ed 3\",\"id\":16,\"credits\":3,\"nameCanonical\":\"\"}],\"id\":3},{\"name\":\"Term 4\",\"curriculum_items\":[{\"curriculum_requisites\":[{\"source_id\":11,\"target_id\":17,\"type\":\"CurriculumPrerequisite\"},{\"source_id\":12,\"target_id\":17,\"type\":\"CurriculumPrerequisite\"}],\"name\":\"OPTI 202R\",\"metrics\":{\"complexity\":15.0,\"centrality\":266,\"blocking factor\":7,\"delay factor\":8.0},\"nameSub\":\"Geometrical & Instrumental Optics II\",\"id\":17,\"credits\":3,\"nameCanonical\":\"\"},{\"curriculum_requisites\":[{\"source_id\":17,\"target_id\":18,\"type\":\"CurriculumStrictCorequisite\"}],\"name\":\"OPTI 202L\",\"metrics\":{\"complexity\":6.0,\"centrality\":0,\"blocking factor\":0,\"delay factor\":6.0},\"nameSub\":\"Geometrical & Instrumental Optics II Lab\",\"id\":18,\"credits\":1,\"nameCanonical\":\"\"},{\"curriculum_requisites\":[],\"name\":\"OPTI 280\",\"metrics\":{\"complexity\":1.0,\"centrality\":0,\"blocking factor\":0,\"delay factor\":1.0},\"nameSub\":\"Computer Programming\",\"id\":19,\"credits\":1,\"nameCanonical\":\"\"},{\"curriculum_requisites\":[{\"source_id\":13,\"target_id\":20,\"type\":\"CurriculumPrerequisite\"}],\"name\":\"OPTI 210\",\"metrics\":{\"complexity\":19.0,\"centrality\":113,\"blocking factor\":11,\"delay factor\":8.0},\"nameSub\":\"Physical Optics I\",\"id\":20,\"credits\":3,\"nameCanonical\":\"\"},{\"curriculum_requisites\":[{\"source_id\":6,\"target_id\":21,\"type\":\"CurriculumPrerequisite\"}],\"name\":\"MATH 254\",\"metrics\":{\"complexity\":10.0,\"centrality\":10,\"blocking factor\":4,\"delay factor\":6.0},\"nameSub\":\"Intro to ODEs\",\"id\":21,\"credits\":3,\"nameCanonical\":\"\"},{\"curriculum_requisites\":[],\"name\":\" \",\"metrics\":{\"complexity\":1.0,\"centrality\":0,\"blocking factor\":0,\"delay factor\":1.0},\"nameSub\":\"Tier I General Ed 4\",\"id\":22,\"credits\":3,\"nameCanonical\":\"\"},{\"curriculum_requisites\":[{\"source_id\":14,\"target_id\":23,\"type\":\"CurriculumPrerequisite\"},{\"source_id\":6,\"target_id\":23,\"type\":\"CurriculumPrerequisite\"}],\"name\":\"ECE 220\",\"metrics\":{\"complexity\":14.0,\"centrality\":99,\"blocking factor\":8,\"delay factor\":6.0},\"nameSub\":\"Basic Circuits\",\"id\":23,\"credits\":5,\"nameCanonical\":\"\"}],\"id\":4},{\"name\":\"Term 5\",\"curriculum_items\":[{\"curriculum_requisites\":[{\"source_id\":14,\"target_id\":24,\"type\":\"CurriculumPrerequisite\"},{\"source_id\":13,\"target_id\":24,\"type\":\"CurriculumPrerequisite\"},{\"source_id\":21,\"target_id\":24,\"type\":\"CurriculumCorequisite\"}],\"name\":\"OPTI 341\",\"metrics\":{\"complexity\":4.0,\"centrality\":0,\"blocking factor\":0,\"delay factor\":4.0},\"nameSub\":\"Semiconduct Physics & Lasers\",\"id\":24,\"credits\":3,\"nameCanonical\":\"\"},{\"curriculum_requisites\":[{\"source_id\":20,\"target_id\":25,\"type\":\"CurriculumPrerequisite\"}],\"name\":\"OPTI 380A\",\"metrics\":{\"complexity\":16.0,\"centrality\":45,\"blocking factor\":8,\"delay factor\":8.0},\"nameSub\":\"Intermed Optics Lab I\",\"id\":25,\"credits\":1,\"nameCanonical\":\"\"},{\"curriculum_requisites\":[{\"source_id\":13,\"target_id\":26,\"type\":\"CurriculumPrerequisite\"},{\"source_id\":21,\"target_id\":26,\"type\":\"CurriculumPrerequisite\"}],\"name\":\"MATH 322\",\"metrics\":{\"complexity\":8.0,\"centrality\":12,\"blocking factor\":2,\"delay factor\":6.0},\"nameSub\":\"Math Analysis for Eng\",\"id\":26,\"credits\":3,\"nameCanonical\":\"\"},{\"curriculum_requisites\":[],\"name\":\" \",\"metrics\":{\"complexity\":1.0,\"centrality\":0,\"blocking factor\":0,\"delay factor\":1.0},\"nameSub\":\"Tech Elective 2\",\"id\":27,\"credits\":3,\"nameCanonical\":\"\"},{\"curriculum_requisites\":[{\"source_id\":26,\"target_id\":28,\"type\":\"CurriculumCorequisite\"},{\"source_id\":23,\"target_id\":28,\"type\":\"CurriculumCorequisite\"},{\"source_id\":11,\"target_id\":28,\"type\":\"CurriculumPrerequisite\"},{\"source_id\":12,\"target_id\":28,\"type\":\"CurriculumPrerequisite\"}],\"name\":\"OPTI 306\",\"metrics\":{\"complexity\":7.0,\"centrality\":71,\"blocking factor\":1,\"delay factor\":6.0},\"nameSub\":\"Radiometry Sources and Detectors\",\"id\":28,\"credits\":3,\"nameCanonical\":\"\"},{\"curriculum_requisites\":[],\"name\":\" \",\"metrics\":{\"complexity\":1.0,\"centrality\":0,\"blocking factor\":0,\"delay factor\":1.0},\"nameSub\":\"Tier II General Ed 1\",\"id\":29,\"credits\":3,\"nameCanonical\":\"\"}],\"id\":5},{\"name\":\"Term 6\",\"curriculum_items\":[{\"curriculum_requisites\":[{\"source_id\":20,\"target_id\":30,\"type\":\"CurriculumPrerequisite\"}],\"name\":\"OPTI 330\",\"metrics\":{\"complexity\":9.0,\"centrality\":7,\"blocking factor\":2,\"delay factor\":7.0},\"nameSub\":\"Physical Optics II\",\"id\":30,\"credits\":3,\"nameCanonical\":\"\"},{\"curriculum_requisites\":[{\"source_id\":17,\"target_id\":31,\"type\":\"CurriculumPrerequisite\"},{\"source_id\":11,\"target_id\":31,\"type\":\"CurriculumPrerequisite\"},{\"source_id\":20,\"target_id\":31,\"type\":\"CurriculumPrerequisite\"}],\"name\":\"OPTI 340\",\"metrics\":{\"complexity\":13.0,\"centrality\":339,\"blocking factor\":5,\"delay factor\":8.0},\"nameSub\":\"Optical Design\",\"id\":31,\"credits\":3,\"nameCanonical\":\"\"},{\"curriculum_requisites\":[{\"source_id\":13,\"target_id\":32,\"type\":\"CurriculumPrerequisite\"},{\"source_id\":25,\"target_id\":32,\"type\":\"CurriculumPrerequisite\"},{\"source_id\":20,\"target_id\":32,\"type\":\"CurriculumPrerequisite\"}],\"name\":\"OPTI 370\",\"metrics\":{\"complexity\":15.0,\"centrality\":102,\"blocking factor\":7,\"delay factor\":8.0},\"nameSub\":\"Laser and Photonics\",\"id\":32,\"credits\":3,\"nameCanonical\":\"\"},{\"curriculum_requisites\":[{\"source_id\":23,\"target_id\":33,\"type\":\"CurriculumCorequisite\"},{\"source_id\":31,\"target_id\":33,\"type\":\"CurriculumCorequisite\"},{\"source_id\":32,\"target_id\":33,\"type\":\"CurriculumCorequisite\"}],\"name\":\"OPTI 380B\",\"metrics\":{\"complexity\":11.0,\"centrality\":378,\"blocking factor\":3,\"delay factor\":8.0},\"nameSub\":\"Intermed Optics Lab II\",\"id\":33,\"credits\":1,\"nameCanonical\":\"\"},{\"curriculum_requisites\":[],\"name\":\" \",\"metrics\":{\"complexity\":1.0,\"centrality\":0,\"blocking factor\":0,\"delay factor\":1.0},\"nameSub\":\"Tech Elective 3\",\"id\":34,\"credits\":3,\"nameCanonical\":\"\"},{\"curriculum_requisites\":[],\"name\":\" \",\"metrics\":{\"complexity\":1.0,\"centrality\":0,\"blocking factor\":0,\"delay factor\":1.0},\"nameSub\":\"Tier II General Ed 2\",\"id\":35,\"credits\":3,\"nameCanonical\":\"\"}],\"id\":6},{\"name\":\"Term 7\",\"curriculum_items\":[{\"curriculum_requisites\":[],\"name\":\"ENGR 498A\",\"metrics\":{\"complexity\":1.0,\"centrality\":0,\"blocking factor\":0,\"delay factor\":1.0},\"nameSub\":\"Cross-disciplinary Design\",\"id\":36,\"credits\":3,\"nameCanonical\":\"\"},{\"curriculum_requisites\":[],\"name\":\" \",\"metrics\":{\"complexity\":1.0,\"centrality\":0,\"blocking factor\":0,\"delay factor\":1.0},\"nameSub\":\"Tech Elective 4\",\"id\":37,\"credits\":3,\"nameCanonical\":\"\"},{\"curriculum_requisites\":[{\"source_id\":23,\"target_id\":38,\"type\":\"CurriculumPrerequisite\"},{\"source_id\":25,\"target_id\":38,\"type\":\"CurriculumPrerequisite\"},{\"source_id\":33,\"target_id\":38,\"type\":\"CurriculumPrerequisite\"}],\"name\":\"OPTI 430\",\"metrics\":{\"complexity\":8.0,\"centrality\":0,\"blocking factor\":0,\"delay factor\":8.0},\"nameSub\":\"Optical Comm Sys\",\"id\":38,\"credits\":3,\"nameCanonical\":\"\"},{\"curriculum_requisites\":[{\"source_id\":33,\"target_id\":39,\"type\":\"CurriculumPrerequisite\"}],\"name\":\"OPTI 421\",\"metrics\":{\"complexity\":8.0,\"centrality\":0,\"blocking factor\":0,\"delay factor\":8.0},\"nameSub\":\"Intro Optomechanical Eng\",\"id\":39,\"credits\":3,\"nameCanonical\":\"\"},{\"curriculum_requisites\":[{\"source_id\":23,\"target_id\":40,\"type\":\"CurriculumPrerequisite\"},{\"source_id\":32,\"target_id\":40,\"type\":\"CurriculumPrerequisite\"},{\"source_id\":30,\"target_id\":40,\"type\":\"CurriculumPrerequisite\"}],\"name\":\"OPTI 471A\",\"metrics\":{\"complexity\":9.0,\"centrality\":45,\"blocking factor\":1,\"delay factor\":8.0},\"nameSub\":\"Adv Optics Lab\",\"id\":40,\"credits\":2,\"nameCanonical\":\"\"}],\"id\":7},{\"name\":\"Term 8\",\"curriculum_items\":[{\"curriculum_requisites\":[{\"source_id\":32,\"target_id\":41,\"type\":\"CurriculumPrerequisite\"},{\"source_id\":28,\"target_id\":41,\"type\":\"CurriculumCorequisite\"}],\"name\":\"ENGR 498B\",\"metrics\":{\"complexity\":7.0,\"centrality\":0,\"blocking factor\":0,\"delay factor\":7.0},\"nameSub\":\"Cross-disciplinary Design\",\"id\":41,\"credits\":3,\"nameCanonical\":\"\"},{\"curriculum_requisites\":[{\"source_id\":33,\"target_id\":42,\"type\":\"CurriculumPrerequisite\"}],\"name\":\"OPTI 415\",\"metrics\":{\"complexity\":8.0,\"centrality\":0,\"blocking factor\":0,\"delay factor\":8.0},\"nameSub\":\"Optical Specs Fab and Testing\",\"id\":42,\"credits\":3,\"nameCanonical\":\"\"},{\"curriculum_requisites\":[{\"source_id\":31,\"target_id\":43,\"type\":\"CurriculumPrerequisite\"},{\"source_id\":40,\"target_id\":43,\"type\":\"CurriculumPrerequisite\"}],\"name\":\"OPTI 471B\",\"metrics\":{\"complexity\":8.0,\"centrality\":0,\"blocking factor\":0,\"delay factor\":8.0},\"nameSub\":\"Adv Optics Lab\",\"id\":43,\"credits\":2,\"nameCanonical\":\"\"},{\"curriculum_requisites\":[],\"name\":\" \",\"metrics\":{\"complexity\":1.0,\"centrality\":0,\"blocking factor\":0,\"delay factor\":1.0},\"nameSub\":\"Tech Elective 5\",\"id\":44,\"credits\":3,\"nameCanonical\":\"\"},{\"curriculum_requisites\":[],\"name\":\" \",\"metrics\":{\"complexity\":1.0,\"centrality\":0,\"blocking factor\":0,\"delay factor\":1.0},\"nameSub\":\"Tech Elective 6\",\"id\":45,\"credits\":3,\"nameCanonical\":\"\"}],\"id\":8}],\"institution\":\"University of Arizona\"}},\"*\"); window.removeEventListener(\"message\",window.messageReceived); window.messageReceived=(function (event){return (event.data.curriculum!==undefined) ? (WebIO.setval({\"name\":\"curriculum-data\",\"scope\":\"6861981435534131544\",\"id\":\"ob_02\",\"type\":\"observable\"},event.data.curriculum)) : undefined}); return window.addEventListener(\"message\",window.messageReceived)})"
          },
          "id": "curriculum",
          "src": "http://localhost:8156",
          "style": {
           "border": "none",
           "height": "100vh",
           "margin": "0",
           "padding": "0",
           "width": "100%"
          }
         },
         "type": "node"
        }
       ],
       "instanceArgs": {
        "handlers": {},
        "id": "6861981435534131544",
        "imports": {
         "data": [],
         "type": "async_block"
        },
        "mount_callbacks": [],
        "observables": {
         "curriculum-data": {
          "id": "ob_02",
          "sync": true,
          "value": {
           "curriculum": {
            "curriculum_terms": [
             {
              "curriculum_items": [
               {
                "credits": 3,
                "curriculum_requisites": [],
                "id": 1,
                "metrics": {
                 "blocking factor": 26,
                 "centrality": 0,
                 "complexity": 34,
                 "delay factor": 8
                },
                "name": "MATH 125",
                "nameCanonical": "",
                "nameSub": "Calculus I w/ Applications"
               },
               {
                "credits": 4,
                "curriculum_requisites": [],
                "id": 2,
                "metrics": {
                 "blocking factor": 13,
                 "centrality": 0,
                 "complexity": 21,
                 "delay factor": 8
                },
                "name": "CHEM 151",
                "nameCanonical": "",
                "nameSub": "Gen Chemistry I"
               },
               {
                "credits": 3,
                "curriculum_requisites": [],
                "id": 3,
                "metrics": {
                 "blocking factor": 1,
                 "centrality": 0,
                 "complexity": 3,
                 "delay factor": 2
                },
                "name": "ENGL 101",
                "nameCanonical": "",
                "nameSub": "First-year Comp"
               },
               {
                "credits": 3,
                "curriculum_requisites": [
                 {
                  "source_id": 1,
                  "target_id": 4,
                  "type": "CurriculumCorequisite"
                 }
                ],
                "id": 4,
                "metrics": {
                 "blocking factor": 0,
                 "centrality": 0,
                 "complexity": 2,
                 "delay factor": 2
                },
                "name": "ENGR 102",
                "nameCanonical": "",
                "nameSub": "Intro to Engineering"
               },
               {
                "credits": 3,
                "curriculum_requisites": [],
                "id": 5,
                "metrics": {
                 "blocking factor": 0,
                 "centrality": 0,
                 "complexity": 1,
                 "delay factor": 1
                },
                "name": " ",
                "nameCanonical": "",
                "nameSub": "Tier I General Ed 1"
               }
              ],
              "id": 1,
              "name": "Term 1"
             },
             {
              "curriculum_items": [
               {
                "credits": 3,
                "curriculum_requisites": [
                 {
                  "source_id": 1,
                  "target_id": 6,
                  "type": "CurriculumPrerequisite"
                 }
                ],
                "id": 6,
                "metrics": {
                 "blocking factor": 23,
                 "centrality": 333,
                 "complexity": 31,
                 "delay factor": 8
                },
                "name": "MATH 129",
                "nameCanonical": "",
                "nameSub": "Calculus II"
               },
               {
                "credits": 3,
                "curriculum_requisites": [
                 {
                  "source_id": 2,
                  "target_id": 7,
                  "type": "CurriculumPrerequisite"
                 }
                ],
                "id": 7,
                "metrics": {
                 "blocking factor": 12,
                 "centrality": 103,
                 "complexity": 20,
                 "delay factor": 8
                },
                "name": "MSE 110",
                "nameCanonical": "",
                "nameSub": "Solid State Chem"
               },
               {
                "credits": 4,
                "curriculum_requisites": [
                 {
                  "source_id": 1,
                  "target_id": 8,
                  "type": "CurriculumPrerequisite"
                 }
                ],
                "id": 8,
                "metrics": {
                 "blocking factor": 16,
                 "centrality": 142,
                 "complexity": 24,
                 "delay factor": 8
                },
                "name": "PHYS 141",
                "nameCanonical": "",
                "nameSub": "Intro Mechanics"
               },
               {
                "credits": 3,
                "curriculum_requisites": [
                 {
                  "source_id": 3,
                  "target_id": 9,
                  "type": "CurriculumPrerequisite"
                 }
                ],
                "id": 9,
                "metrics": {
                 "blocking factor": 0,
                 "centrality": 0,
                 "complexity": 2,
                 "delay factor": 2
                },
                "name": "ENGL 102",
                "nameCanonical": "",
                "nameSub": "First-year Comp."
               },
               {
                "credits": 3,
                "curriculum_requisites": [],
                "id": 10,
                "metrics": {
                 "blocking factor": 0,
                 "centrality": 0,
                 "complexity": 1,
                 "delay factor": 1
                },
                "name": " ",
                "nameCanonical": "",
                "nameSub": "Tier I General Ed 2"
               }
              ],
              "id": 2,
              "name": "Term 2"
             },
             {
              "curriculum_items": [
               {
                "credits": 3,
                "curriculum_requisites": [
                 {
                  "source_id": 7,
                  "target_id": 11,
                  "type": "CurriculumPrerequisite"
                 },
                 {
                  "source_id": 8,
                  "target_id": 11,
                  "type": "CurriculumPrerequisite"
                 },
                 {
                  "source_id": 6,
                  "target_id": 11,
                  "type": "CurriculumPrerequisite"
                 },
                 {
                  "source_id": 1,
                  "target_id": 11,
                  "type": "CurriculumPrerequisite"
                 }
                ],
                "id": 11,
                "metrics": {
                 "blocking factor": 11,
                 "centrality": 396,
                 "complexity": 19,
                 "delay factor": 8
                },
                "name": "OPTI 201R",
                "nameCanonical": "",
                "nameSub": "Geometrical & Instrumental Optics I"
               },
               {
                "credits": 1,
                "curriculum_requisites": [
                 {
                  "source_id": 11,
                  "target_id": 12,
                  "type": "CurriculumStrictCorequisite"
                 }
                ],
                "id": 12,
                "metrics": {
                 "blocking factor": 10,
                 "centrality": 166,
                 "complexity": 18,
                 "delay factor": 8
                },
                "name": "OPTI 201L",
                "nameCanonical": "",
                "nameSub": "Geometrical & Instrumental Optics I Lab"
               },
               {
                "credits": 4,
                "curriculum_requisites": [
                 {
                  "source_id": 6,
                  "target_id": 13,
                  "type": "CurriculumPrerequisite"
                 }
                ],
                "id": 13,
                "metrics": {
                 "blocking factor": 15,
                 "centrality": 152,
                 "complexity": 23,
                 "delay factor": 8
                },
                "name": "MATH  223",
                "nameCanonical": "",
                "nameSub": "Vector Calculus"
               },
               {
                "credits": 4,
                "curriculum_requisites": [
                 {
                  "source_id": 8,
                  "target_id": 14,
                  "type": "CurriculumPrerequisite"
                 },
                 {
                  "source_id": 6,
                  "target_id": 14,
                  "type": "CurriculumPrerequisite"
                 }
                ],
                "id": 14,
                "metrics": {
                 "blocking factor": 10,
                 "centrality": 78,
                 "complexity": 16,
                 "delay factor": 6
                },
                "name": "PHYS 241",
                "nameCanonical": "",
                "nameSub": "Electricity & Magnetism"
               },
               {
                "credits": 3,
                "curriculum_requisites": [],
                "id": 15,
                "metrics": {
                 "blocking factor": 0,
                 "centrality": 0,
                 "complexity": 1,
                 "delay factor": 1
                },
                "name": " ",
                "nameCanonical": "",
                "nameSub": "Tech Elective 1"
               },
               {
                "credits": 3,
                "curriculum_requisites": [],
                "id": 16,
                "metrics": {
                 "blocking factor": 0,
                 "centrality": 0,
                 "complexity": 1,
                 "delay factor": 1
                },
                "name": " ",
                "nameCanonical": "",
                "nameSub": "Tier I General Ed 3"
               }
              ],
              "id": 3,
              "name": "Term 3"
             },
             {
              "curriculum_items": [
               {
                "credits": 3,
                "curriculum_requisites": [
                 {
                  "source_id": 11,
                  "target_id": 17,
                  "type": "CurriculumPrerequisite"
                 },
                 {
                  "source_id": 12,
                  "target_id": 17,
                  "type": "CurriculumPrerequisite"
                 }
                ],
                "id": 17,
                "metrics": {
                 "blocking factor": 7,
                 "centrality": 266,
                 "complexity": 15,
                 "delay factor": 8
                },
                "name": "OPTI 202R",
                "nameCanonical": "",
                "nameSub": "Geometrical & Instrumental Optics II"
               },
               {
                "credits": 1,
                "curriculum_requisites": [
                 {
                  "source_id": 17,
                  "target_id": 18,
                  "type": "CurriculumStrictCorequisite"
                 }
                ],
                "id": 18,
                "metrics": {
                 "blocking factor": 0,
                 "centrality": 0,
                 "complexity": 6,
                 "delay factor": 6
                },
                "name": "OPTI 202L",
                "nameCanonical": "",
                "nameSub": "Geometrical & Instrumental Optics II Lab"
               },
               {
                "credits": 1,
                "curriculum_requisites": [],
                "id": 19,
                "metrics": {
                 "blocking factor": 0,
                 "centrality": 0,
                 "complexity": 1,
                 "delay factor": 1
                },
                "name": "OPTI 280",
                "nameCanonical": "",
                "nameSub": "Computer Programming"
               },
               {
                "credits": 3,
                "curriculum_requisites": [
                 {
                  "source_id": 13,
                  "target_id": 20,
                  "type": "CurriculumPrerequisite"
                 }
                ],
                "id": 20,
                "metrics": {
                 "blocking factor": 11,
                 "centrality": 113,
                 "complexity": 19,
                 "delay factor": 8
                },
                "name": "OPTI 210",
                "nameCanonical": "",
                "nameSub": "Physical Optics I"
               },
               {
                "credits": 3,
                "curriculum_requisites": [
                 {
                  "source_id": 6,
                  "target_id": 21,
                  "type": "CurriculumPrerequisite"
                 }
                ],
                "id": 21,
                "metrics": {
                 "blocking factor": 4,
                 "centrality": 10,
                 "complexity": 10,
                 "delay factor": 6
                },
                "name": "MATH 254",
                "nameCanonical": "",
                "nameSub": "Intro to ODEs"
               },
               {
                "credits": 3,
                "curriculum_requisites": [],
                "id": 22,
                "metrics": {
                 "blocking factor": 0,
                 "centrality": 0,
                 "complexity": 1,
                 "delay factor": 1
                },
                "name": " ",
                "nameCanonical": "",
                "nameSub": "Tier I General Ed 4"
               },
               {
                "credits": 5,
                "curriculum_requisites": [
                 {
                  "source_id": 14,
                  "target_id": 23,
                  "type": "CurriculumPrerequisite"
                 },
                 {
                  "source_id": 6,
                  "target_id": 23,
                  "type": "CurriculumPrerequisite"
                 }
                ],
                "id": 23,
                "metrics": {
                 "blocking factor": 8,
                 "centrality": 99,
                 "complexity": 14,
                 "delay factor": 6
                },
                "name": "ECE 220",
                "nameCanonical": "",
                "nameSub": "Basic Circuits"
               }
              ],
              "id": 4,
              "name": "Term 4"
             },
             {
              "curriculum_items": [
               {
                "credits": 3,
                "curriculum_requisites": [
                 {
                  "source_id": 14,
                  "target_id": 24,
                  "type": "CurriculumPrerequisite"
                 },
                 {
                  "source_id": 13,
                  "target_id": 24,
                  "type": "CurriculumPrerequisite"
                 },
                 {
                  "source_id": 21,
                  "target_id": 24,
                  "type": "CurriculumCorequisite"
                 }
                ],
                "id": 24,
                "metrics": {
                 "blocking factor": 0,
                 "centrality": 0,
                 "complexity": 4,
                 "delay factor": 4
                },
                "name": "OPTI 341",
                "nameCanonical": "",
                "nameSub": "Semiconduct Physics & Lasers"
               },
               {
                "credits": 1,
                "curriculum_requisites": [
                 {
                  "source_id": 20,
                  "target_id": 25,
                  "type": "CurriculumPrerequisite"
                 }
                ],
                "id": 25,
                "metrics": {
                 "blocking factor": 8,
                 "centrality": 45,
                 "complexity": 16,
                 "delay factor": 8
                },
                "name": "OPTI 380A",
                "nameCanonical": "",
                "nameSub": "Intermed Optics Lab I"
               },
               {
                "credits": 3,
                "curriculum_requisites": [
                 {
                  "source_id": 13,
                  "target_id": 26,
                  "type": "CurriculumPrerequisite"
                 },
                 {
                  "source_id": 21,
                  "target_id": 26,
                  "type": "CurriculumPrerequisite"
                 }
                ],
                "id": 26,
                "metrics": {
                 "blocking factor": 2,
                 "centrality": 12,
                 "complexity": 8,
                 "delay factor": 6
                },
                "name": "MATH 322",
                "nameCanonical": "",
                "nameSub": "Math Analysis for Eng"
               },
               {
                "credits": 3,
                "curriculum_requisites": [],
                "id": 27,
                "metrics": {
                 "blocking factor": 0,
                 "centrality": 0,
                 "complexity": 1,
                 "delay factor": 1
                },
                "name": " ",
                "nameCanonical": "",
                "nameSub": "Tech Elective 2"
               },
               {
                "credits": 3,
                "curriculum_requisites": [
                 {
                  "source_id": 26,
                  "target_id": 28,
                  "type": "CurriculumCorequisite"
                 },
                 {
                  "source_id": 23,
                  "target_id": 28,
                  "type": "CurriculumCorequisite"
                 },
                 {
                  "source_id": 11,
                  "target_id": 28,
                  "type": "CurriculumPrerequisite"
                 },
                 {
                  "source_id": 12,
                  "target_id": 28,
                  "type": "CurriculumPrerequisite"
                 }
                ],
                "id": 28,
                "metrics": {
                 "blocking factor": 1,
                 "centrality": 71,
                 "complexity": 7,
                 "delay factor": 6
                },
                "name": "OPTI 306",
                "nameCanonical": "",
                "nameSub": "Radiometry Sources and Detectors"
               },
               {
                "credits": 3,
                "curriculum_requisites": [],
                "id": 29,
                "metrics": {
                 "blocking factor": 0,
                 "centrality": 0,
                 "complexity": 1,
                 "delay factor": 1
                },
                "name": " ",
                "nameCanonical": "",
                "nameSub": "Tier II General Ed 1"
               }
              ],
              "id": 5,
              "name": "Term 5"
             },
             {
              "curriculum_items": [
               {
                "credits": 3,
                "curriculum_requisites": [
                 {
                  "source_id": 20,
                  "target_id": 30,
                  "type": "CurriculumPrerequisite"
                 }
                ],
                "id": 30,
                "metrics": {
                 "blocking factor": 2,
                 "centrality": 7,
                 "complexity": 9,
                 "delay factor": 7
                },
                "name": "OPTI 330",
                "nameCanonical": "",
                "nameSub": "Physical Optics II"
               },
               {
                "credits": 3,
                "curriculum_requisites": [
                 {
                  "source_id": 17,
                  "target_id": 31,
                  "type": "CurriculumPrerequisite"
                 },
                 {
                  "source_id": 11,
                  "target_id": 31,
                  "type": "CurriculumPrerequisite"
                 },
                 {
                  "source_id": 20,
                  "target_id": 31,
                  "type": "CurriculumPrerequisite"
                 }
                ],
                "id": 31,
                "metrics": {
                 "blocking factor": 5,
                 "centrality": 339,
                 "complexity": 13,
                 "delay factor": 8
                },
                "name": "OPTI 340",
                "nameCanonical": "",
                "nameSub": "Optical Design"
               },
               {
                "credits": 3,
                "curriculum_requisites": [
                 {
                  "source_id": 13,
                  "target_id": 32,
                  "type": "CurriculumPrerequisite"
                 },
                 {
                  "source_id": 25,
                  "target_id": 32,
                  "type": "CurriculumPrerequisite"
                 },
                 {
                  "source_id": 20,
                  "target_id": 32,
                  "type": "CurriculumPrerequisite"
                 }
                ],
                "id": 32,
                "metrics": {
                 "blocking factor": 7,
                 "centrality": 102,
                 "complexity": 15,
                 "delay factor": 8
                },
                "name": "OPTI 370",
                "nameCanonical": "",
                "nameSub": "Laser and Photonics"
               },
               {
                "credits": 1,
                "curriculum_requisites": [
                 {
                  "source_id": 23,
                  "target_id": 33,
                  "type": "CurriculumCorequisite"
                 },
                 {
                  "source_id": 31,
                  "target_id": 33,
                  "type": "CurriculumCorequisite"
                 },
                 {
                  "source_id": 32,
                  "target_id": 33,
                  "type": "CurriculumCorequisite"
                 }
                ],
                "id": 33,
                "metrics": {
                 "blocking factor": 3,
                 "centrality": 378,
                 "complexity": 11,
                 "delay factor": 8
                },
                "name": "OPTI 380B",
                "nameCanonical": "",
                "nameSub": "Intermed Optics Lab II"
               },
               {
                "credits": 3,
                "curriculum_requisites": [],
                "id": 34,
                "metrics": {
                 "blocking factor": 0,
                 "centrality": 0,
                 "complexity": 1,
                 "delay factor": 1
                },
                "name": " ",
                "nameCanonical": "",
                "nameSub": "Tech Elective 3"
               },
               {
                "credits": 3,
                "curriculum_requisites": [],
                "id": 35,
                "metrics": {
                 "blocking factor": 0,
                 "centrality": 0,
                 "complexity": 1,
                 "delay factor": 1
                },
                "name": " ",
                "nameCanonical": "",
                "nameSub": "Tier II General Ed 2"
               }
              ],
              "id": 6,
              "name": "Term 6"
             },
             {
              "curriculum_items": [
               {
                "credits": 3,
                "curriculum_requisites": [],
                "id": 36,
                "metrics": {
                 "blocking factor": 0,
                 "centrality": 0,
                 "complexity": 1,
                 "delay factor": 1
                },
                "name": "ENGR 498A",
                "nameCanonical": "",
                "nameSub": "Cross-disciplinary Design"
               },
               {
                "credits": 3,
                "curriculum_requisites": [],
                "id": 37,
                "metrics": {
                 "blocking factor": 0,
                 "centrality": 0,
                 "complexity": 1,
                 "delay factor": 1
                },
                "name": " ",
                "nameCanonical": "",
                "nameSub": "Tech Elective 4"
               },
               {
                "credits": 3,
                "curriculum_requisites": [
                 {
                  "source_id": 23,
                  "target_id": 38,
                  "type": "CurriculumPrerequisite"
                 },
                 {
                  "source_id": 25,
                  "target_id": 38,
                  "type": "CurriculumPrerequisite"
                 },
                 {
                  "source_id": 33,
                  "target_id": 38,
                  "type": "CurriculumPrerequisite"
                 }
                ],
                "id": 38,
                "metrics": {
                 "blocking factor": 0,
                 "centrality": 0,
                 "complexity": 8,
                 "delay factor": 8
                },
                "name": "OPTI 430",
                "nameCanonical": "",
                "nameSub": "Optical Comm Sys"
               },
               {
                "credits": 3,
                "curriculum_requisites": [
                 {
                  "source_id": 33,
                  "target_id": 39,
                  "type": "CurriculumPrerequisite"
                 }
                ],
                "id": 39,
                "metrics": {
                 "blocking factor": 0,
                 "centrality": 0,
                 "complexity": 8,
                 "delay factor": 8
                },
                "name": "OPTI 421",
                "nameCanonical": "",
                "nameSub": "Intro Optomechanical Eng"
               },
               {
                "credits": 2,
                "curriculum_requisites": [
                 {
                  "source_id": 23,
                  "target_id": 40,
                  "type": "CurriculumPrerequisite"
                 },
                 {
                  "source_id": 32,
                  "target_id": 40,
                  "type": "CurriculumPrerequisite"
                 },
                 {
                  "source_id": 30,
                  "target_id": 40,
                  "type": "CurriculumPrerequisite"
                 }
                ],
                "id": 40,
                "metrics": {
                 "blocking factor": 1,
                 "centrality": 45,
                 "complexity": 9,
                 "delay factor": 8
                },
                "name": "OPTI 471A",
                "nameCanonical": "",
                "nameSub": "Adv Optics Lab"
               }
              ],
              "id": 7,
              "name": "Term 7"
             },
             {
              "curriculum_items": [
               {
                "credits": 3,
                "curriculum_requisites": [
                 {
                  "source_id": 32,
                  "target_id": 41,
                  "type": "CurriculumPrerequisite"
                 },
                 {
                  "source_id": 28,
                  "target_id": 41,
                  "type": "CurriculumCorequisite"
                 }
                ],
                "id": 41,
                "metrics": {
                 "blocking factor": 0,
                 "centrality": 0,
                 "complexity": 7,
                 "delay factor": 7
                },
                "name": "ENGR 498B",
                "nameCanonical": "",
                "nameSub": "Cross-disciplinary Design"
               },
               {
                "credits": 3,
                "curriculum_requisites": [
                 {
                  "source_id": 33,
                  "target_id": 42,
                  "type": "CurriculumPrerequisite"
                 }
                ],
                "id": 42,
                "metrics": {
                 "blocking factor": 0,
                 "centrality": 0,
                 "complexity": 8,
                 "delay factor": 8
                },
                "name": "OPTI 415",
                "nameCanonical": "",
                "nameSub": "Optical Specs Fab and Testing"
               },
               {
                "credits": 2,
                "curriculum_requisites": [
                 {
                  "source_id": 31,
                  "target_id": 43,
                  "type": "CurriculumPrerequisite"
                 },
                 {
                  "source_id": 40,
                  "target_id": 43,
                  "type": "CurriculumPrerequisite"
                 }
                ],
                "id": 43,
                "metrics": {
                 "blocking factor": 0,
                 "centrality": 0,
                 "complexity": 8,
                 "delay factor": 8
                },
                "name": "OPTI 471B",
                "nameCanonical": "",
                "nameSub": "Adv Optics Lab"
               },
               {
                "credits": 3,
                "curriculum_requisites": [],
                "id": 44,
                "metrics": {
                 "blocking factor": 0,
                 "centrality": 0,
                 "complexity": 1,
                 "delay factor": 1
                },
                "name": " ",
                "nameCanonical": "",
                "nameSub": "Tech Elective 5"
               },
               {
                "credits": 3,
                "curriculum_requisites": [],
                "id": 45,
                "metrics": {
                 "blocking factor": 0,
                 "centrality": 0,
                 "complexity": 1,
                 "delay factor": 1
                },
                "name": " ",
                "nameCanonical": "",
                "nameSub": "Tech Elective 6"
               }
              ],
              "id": 8,
              "name": "Term 8"
             }
            ],
            "dp_name": "2019-20 Degree Plan",
            "institution": "University of Arizona",
            "name": "Optical Engineering"
           },
           "options": {
            "edit": false,
            "hideTerms": false
           }
          }
         }
        },
        "systemjs_options": null
       },
       "nodeType": "Scope",
       "props": {},
       "type": "node"
      },
      "text/html": [
       "<div\n",
       "    class=\"webio-mountpoint\"\n",
       "    data-webio-mountpoint=\"151573447011979511\"\n",
       ">\n",
       "    <script>\n",
       "    if (window.require && require.defined && require.defined(\"nbextensions/webio-jupyter-notebook\")) {\n",
       "        console.log(\"Jupyter WebIO extension detected, not mounting.\");\n",
       "    } else if (window.WebIO) {\n",
       "        WebIO.mount(\n",
       "            document.querySelector('[data-webio-mountpoint=\"151573447011979511\"]'),\n",
       "            {\"props\":{},\"nodeType\":\"Scope\",\"type\":\"node\",\"instanceArgs\":{\"imports\":{\"data\":[],\"type\":\"async_block\"},\"id\":\"6861981435534131544\",\"handlers\":{},\"systemjs_options\":null,\"mount_callbacks\":[],\"observables\":{\"curriculum-data\":{\"sync\":true,\"id\":\"ob_02\",\"value\":{\"options\":{\"hideTerms\":false,\"edit\":false},\"curriculum\":{\"name\":\"Optical Engineering\",\"dp_name\":\"2019-20 Degree Plan\",\"curriculum_terms\":[{\"name\":\"Term 1\",\"curriculum_items\":[{\"curriculum_requisites\":[],\"name\":\"MATH 125\",\"metrics\":{\"complexity\":34.0,\"centrality\":0,\"blocking factor\":26,\"delay factor\":8.0},\"nameSub\":\"Calculus I w\\/ Applications\",\"id\":1,\"credits\":3,\"nameCanonical\":\"\"},{\"curriculum_requisites\":[],\"name\":\"CHEM 151\",\"metrics\":{\"complexity\":21.0,\"centrality\":0,\"blocking factor\":13,\"delay factor\":8.0},\"nameSub\":\"Gen Chemistry I\",\"id\":2,\"credits\":4,\"nameCanonical\":\"\"},{\"curriculum_requisites\":[],\"name\":\"ENGL 101\",\"metrics\":{\"complexity\":3.0,\"centrality\":0,\"blocking factor\":1,\"delay factor\":2.0},\"nameSub\":\"First-year Comp\",\"id\":3,\"credits\":3,\"nameCanonical\":\"\"},{\"curriculum_requisites\":[{\"source_id\":1,\"target_id\":4,\"type\":\"CurriculumCorequisite\"}],\"name\":\"ENGR 102\",\"metrics\":{\"complexity\":2.0,\"centrality\":0,\"blocking factor\":0,\"delay factor\":2.0},\"nameSub\":\"Intro to Engineering\",\"id\":4,\"credits\":3,\"nameCanonical\":\"\"},{\"curriculum_requisites\":[],\"name\":\" \",\"metrics\":{\"complexity\":1.0,\"centrality\":0,\"blocking factor\":0,\"delay factor\":1.0},\"nameSub\":\"Tier I General Ed 1\",\"id\":5,\"credits\":3,\"nameCanonical\":\"\"}],\"id\":1},{\"name\":\"Term 2\",\"curriculum_items\":[{\"curriculum_requisites\":[{\"source_id\":1,\"target_id\":6,\"type\":\"CurriculumPrerequisite\"}],\"name\":\"MATH 129\",\"metrics\":{\"complexity\":31.0,\"centrality\":333,\"blocking factor\":23,\"delay factor\":8.0},\"nameSub\":\"Calculus II\",\"id\":6,\"credits\":3,\"nameCanonical\":\"\"},{\"curriculum_requisites\":[{\"source_id\":2,\"target_id\":7,\"type\":\"CurriculumPrerequisite\"}],\"name\":\"MSE 110\",\"metrics\":{\"complexity\":20.0,\"centrality\":103,\"blocking factor\":12,\"delay factor\":8.0},\"nameSub\":\"Solid State Chem\",\"id\":7,\"credits\":3,\"nameCanonical\":\"\"},{\"curriculum_requisites\":[{\"source_id\":1,\"target_id\":8,\"type\":\"CurriculumPrerequisite\"}],\"name\":\"PHYS 141\",\"metrics\":{\"complexity\":24.0,\"centrality\":142,\"blocking factor\":16,\"delay factor\":8.0},\"nameSub\":\"Intro Mechanics\",\"id\":8,\"credits\":4,\"nameCanonical\":\"\"},{\"curriculum_requisites\":[{\"source_id\":3,\"target_id\":9,\"type\":\"CurriculumPrerequisite\"}],\"name\":\"ENGL 102\",\"metrics\":{\"complexity\":2.0,\"centrality\":0,\"blocking factor\":0,\"delay factor\":2.0},\"nameSub\":\"First-year Comp.\",\"id\":9,\"credits\":3,\"nameCanonical\":\"\"},{\"curriculum_requisites\":[],\"name\":\" \",\"metrics\":{\"complexity\":1.0,\"centrality\":0,\"blocking factor\":0,\"delay factor\":1.0},\"nameSub\":\"Tier I General Ed 2\",\"id\":10,\"credits\":3,\"nameCanonical\":\"\"}],\"id\":2},{\"name\":\"Term 3\",\"curriculum_items\":[{\"curriculum_requisites\":[{\"source_id\":7,\"target_id\":11,\"type\":\"CurriculumPrerequisite\"},{\"source_id\":8,\"target_id\":11,\"type\":\"CurriculumPrerequisite\"},{\"source_id\":6,\"target_id\":11,\"type\":\"CurriculumPrerequisite\"},{\"source_id\":1,\"target_id\":11,\"type\":\"CurriculumPrerequisite\"}],\"name\":\"OPTI 201R\",\"metrics\":{\"complexity\":19.0,\"centrality\":396,\"blocking factor\":11,\"delay factor\":8.0},\"nameSub\":\"Geometrical & Instrumental Optics I\",\"id\":11,\"credits\":3,\"nameCanonical\":\"\"},{\"curriculum_requisites\":[{\"source_id\":11,\"target_id\":12,\"type\":\"CurriculumStrictCorequisite\"}],\"name\":\"OPTI 201L\",\"metrics\":{\"complexity\":18.0,\"centrality\":166,\"blocking factor\":10,\"delay factor\":8.0},\"nameSub\":\"Geometrical & Instrumental Optics I Lab\",\"id\":12,\"credits\":1,\"nameCanonical\":\"\"},{\"curriculum_requisites\":[{\"source_id\":6,\"target_id\":13,\"type\":\"CurriculumPrerequisite\"}],\"name\":\"MATH  223\",\"metrics\":{\"complexity\":23.0,\"centrality\":152,\"blocking factor\":15,\"delay factor\":8.0},\"nameSub\":\"Vector Calculus\",\"id\":13,\"credits\":4,\"nameCanonical\":\"\"},{\"curriculum_requisites\":[{\"source_id\":8,\"target_id\":14,\"type\":\"CurriculumPrerequisite\"},{\"source_id\":6,\"target_id\":14,\"type\":\"CurriculumPrerequisite\"}],\"name\":\"PHYS 241\",\"metrics\":{\"complexity\":16.0,\"centrality\":78,\"blocking factor\":10,\"delay factor\":6.0},\"nameSub\":\"Electricity & Magnetism\",\"id\":14,\"credits\":4,\"nameCanonical\":\"\"},{\"curriculum_requisites\":[],\"name\":\" \",\"metrics\":{\"complexity\":1.0,\"centrality\":0,\"blocking factor\":0,\"delay factor\":1.0},\"nameSub\":\"Tech Elective 1\",\"id\":15,\"credits\":3,\"nameCanonical\":\"\"},{\"curriculum_requisites\":[],\"name\":\" \",\"metrics\":{\"complexity\":1.0,\"centrality\":0,\"blocking factor\":0,\"delay factor\":1.0},\"nameSub\":\"Tier I General Ed 3\",\"id\":16,\"credits\":3,\"nameCanonical\":\"\"}],\"id\":3},{\"name\":\"Term 4\",\"curriculum_items\":[{\"curriculum_requisites\":[{\"source_id\":11,\"target_id\":17,\"type\":\"CurriculumPrerequisite\"},{\"source_id\":12,\"target_id\":17,\"type\":\"CurriculumPrerequisite\"}],\"name\":\"OPTI 202R\",\"metrics\":{\"complexity\":15.0,\"centrality\":266,\"blocking factor\":7,\"delay factor\":8.0},\"nameSub\":\"Geometrical & Instrumental Optics II\",\"id\":17,\"credits\":3,\"nameCanonical\":\"\"},{\"curriculum_requisites\":[{\"source_id\":17,\"target_id\":18,\"type\":\"CurriculumStrictCorequisite\"}],\"name\":\"OPTI 202L\",\"metrics\":{\"complexity\":6.0,\"centrality\":0,\"blocking factor\":0,\"delay factor\":6.0},\"nameSub\":\"Geometrical & Instrumental Optics II Lab\",\"id\":18,\"credits\":1,\"nameCanonical\":\"\"},{\"curriculum_requisites\":[],\"name\":\"OPTI 280\",\"metrics\":{\"complexity\":1.0,\"centrality\":0,\"blocking factor\":0,\"delay factor\":1.0},\"nameSub\":\"Computer Programming\",\"id\":19,\"credits\":1,\"nameCanonical\":\"\"},{\"curriculum_requisites\":[{\"source_id\":13,\"target_id\":20,\"type\":\"CurriculumPrerequisite\"}],\"name\":\"OPTI 210\",\"metrics\":{\"complexity\":19.0,\"centrality\":113,\"blocking factor\":11,\"delay factor\":8.0},\"nameSub\":\"Physical Optics I\",\"id\":20,\"credits\":3,\"nameCanonical\":\"\"},{\"curriculum_requisites\":[{\"source_id\":6,\"target_id\":21,\"type\":\"CurriculumPrerequisite\"}],\"name\":\"MATH 254\",\"metrics\":{\"complexity\":10.0,\"centrality\":10,\"blocking factor\":4,\"delay factor\":6.0},\"nameSub\":\"Intro to ODEs\",\"id\":21,\"credits\":3,\"nameCanonical\":\"\"},{\"curriculum_requisites\":[],\"name\":\" \",\"metrics\":{\"complexity\":1.0,\"centrality\":0,\"blocking factor\":0,\"delay factor\":1.0},\"nameSub\":\"Tier I General Ed 4\",\"id\":22,\"credits\":3,\"nameCanonical\":\"\"},{\"curriculum_requisites\":[{\"source_id\":14,\"target_id\":23,\"type\":\"CurriculumPrerequisite\"},{\"source_id\":6,\"target_id\":23,\"type\":\"CurriculumPrerequisite\"}],\"name\":\"ECE 220\",\"metrics\":{\"complexity\":14.0,\"centrality\":99,\"blocking factor\":8,\"delay factor\":6.0},\"nameSub\":\"Basic Circuits\",\"id\":23,\"credits\":5,\"nameCanonical\":\"\"}],\"id\":4},{\"name\":\"Term 5\",\"curriculum_items\":[{\"curriculum_requisites\":[{\"source_id\":14,\"target_id\":24,\"type\":\"CurriculumPrerequisite\"},{\"source_id\":13,\"target_id\":24,\"type\":\"CurriculumPrerequisite\"},{\"source_id\":21,\"target_id\":24,\"type\":\"CurriculumCorequisite\"}],\"name\":\"OPTI 341\",\"metrics\":{\"complexity\":4.0,\"centrality\":0,\"blocking factor\":0,\"delay factor\":4.0},\"nameSub\":\"Semiconduct Physics & Lasers\",\"id\":24,\"credits\":3,\"nameCanonical\":\"\"},{\"curriculum_requisites\":[{\"source_id\":20,\"target_id\":25,\"type\":\"CurriculumPrerequisite\"}],\"name\":\"OPTI 380A\",\"metrics\":{\"complexity\":16.0,\"centrality\":45,\"blocking factor\":8,\"delay factor\":8.0},\"nameSub\":\"Intermed Optics Lab I\",\"id\":25,\"credits\":1,\"nameCanonical\":\"\"},{\"curriculum_requisites\":[{\"source_id\":13,\"target_id\":26,\"type\":\"CurriculumPrerequisite\"},{\"source_id\":21,\"target_id\":26,\"type\":\"CurriculumPrerequisite\"}],\"name\":\"MATH 322\",\"metrics\":{\"complexity\":8.0,\"centrality\":12,\"blocking factor\":2,\"delay factor\":6.0},\"nameSub\":\"Math Analysis for Eng\",\"id\":26,\"credits\":3,\"nameCanonical\":\"\"},{\"curriculum_requisites\":[],\"name\":\" \",\"metrics\":{\"complexity\":1.0,\"centrality\":0,\"blocking factor\":0,\"delay factor\":1.0},\"nameSub\":\"Tech Elective 2\",\"id\":27,\"credits\":3,\"nameCanonical\":\"\"},{\"curriculum_requisites\":[{\"source_id\":26,\"target_id\":28,\"type\":\"CurriculumCorequisite\"},{\"source_id\":23,\"target_id\":28,\"type\":\"CurriculumCorequisite\"},{\"source_id\":11,\"target_id\":28,\"type\":\"CurriculumPrerequisite\"},{\"source_id\":12,\"target_id\":28,\"type\":\"CurriculumPrerequisite\"}],\"name\":\"OPTI 306\",\"metrics\":{\"complexity\":7.0,\"centrality\":71,\"blocking factor\":1,\"delay factor\":6.0},\"nameSub\":\"Radiometry Sources and Detectors\",\"id\":28,\"credits\":3,\"nameCanonical\":\"\"},{\"curriculum_requisites\":[],\"name\":\" \",\"metrics\":{\"complexity\":1.0,\"centrality\":0,\"blocking factor\":0,\"delay factor\":1.0},\"nameSub\":\"Tier II General Ed 1\",\"id\":29,\"credits\":3,\"nameCanonical\":\"\"}],\"id\":5},{\"name\":\"Term 6\",\"curriculum_items\":[{\"curriculum_requisites\":[{\"source_id\":20,\"target_id\":30,\"type\":\"CurriculumPrerequisite\"}],\"name\":\"OPTI 330\",\"metrics\":{\"complexity\":9.0,\"centrality\":7,\"blocking factor\":2,\"delay factor\":7.0},\"nameSub\":\"Physical Optics II\",\"id\":30,\"credits\":3,\"nameCanonical\":\"\"},{\"curriculum_requisites\":[{\"source_id\":17,\"target_id\":31,\"type\":\"CurriculumPrerequisite\"},{\"source_id\":11,\"target_id\":31,\"type\":\"CurriculumPrerequisite\"},{\"source_id\":20,\"target_id\":31,\"type\":\"CurriculumPrerequisite\"}],\"name\":\"OPTI 340\",\"metrics\":{\"complexity\":13.0,\"centrality\":339,\"blocking factor\":5,\"delay factor\":8.0},\"nameSub\":\"Optical Design\",\"id\":31,\"credits\":3,\"nameCanonical\":\"\"},{\"curriculum_requisites\":[{\"source_id\":13,\"target_id\":32,\"type\":\"CurriculumPrerequisite\"},{\"source_id\":25,\"target_id\":32,\"type\":\"CurriculumPrerequisite\"},{\"source_id\":20,\"target_id\":32,\"type\":\"CurriculumPrerequisite\"}],\"name\":\"OPTI 370\",\"metrics\":{\"complexity\":15.0,\"centrality\":102,\"blocking factor\":7,\"delay factor\":8.0},\"nameSub\":\"Laser and Photonics\",\"id\":32,\"credits\":3,\"nameCanonical\":\"\"},{\"curriculum_requisites\":[{\"source_id\":23,\"target_id\":33,\"type\":\"CurriculumCorequisite\"},{\"source_id\":31,\"target_id\":33,\"type\":\"CurriculumCorequisite\"},{\"source_id\":32,\"target_id\":33,\"type\":\"CurriculumCorequisite\"}],\"name\":\"OPTI 380B\",\"metrics\":{\"complexity\":11.0,\"centrality\":378,\"blocking factor\":3,\"delay factor\":8.0},\"nameSub\":\"Intermed Optics Lab II\",\"id\":33,\"credits\":1,\"nameCanonical\":\"\"},{\"curriculum_requisites\":[],\"name\":\" \",\"metrics\":{\"complexity\":1.0,\"centrality\":0,\"blocking factor\":0,\"delay factor\":1.0},\"nameSub\":\"Tech Elective 3\",\"id\":34,\"credits\":3,\"nameCanonical\":\"\"},{\"curriculum_requisites\":[],\"name\":\" \",\"metrics\":{\"complexity\":1.0,\"centrality\":0,\"blocking factor\":0,\"delay factor\":1.0},\"nameSub\":\"Tier II General Ed 2\",\"id\":35,\"credits\":3,\"nameCanonical\":\"\"}],\"id\":6},{\"name\":\"Term 7\",\"curriculum_items\":[{\"curriculum_requisites\":[],\"name\":\"ENGR 498A\",\"metrics\":{\"complexity\":1.0,\"centrality\":0,\"blocking factor\":0,\"delay factor\":1.0},\"nameSub\":\"Cross-disciplinary Design\",\"id\":36,\"credits\":3,\"nameCanonical\":\"\"},{\"curriculum_requisites\":[],\"name\":\" \",\"metrics\":{\"complexity\":1.0,\"centrality\":0,\"blocking factor\":0,\"delay factor\":1.0},\"nameSub\":\"Tech Elective 4\",\"id\":37,\"credits\":3,\"nameCanonical\":\"\"},{\"curriculum_requisites\":[{\"source_id\":23,\"target_id\":38,\"type\":\"CurriculumPrerequisite\"},{\"source_id\":25,\"target_id\":38,\"type\":\"CurriculumPrerequisite\"},{\"source_id\":33,\"target_id\":38,\"type\":\"CurriculumPrerequisite\"}],\"name\":\"OPTI 430\",\"metrics\":{\"complexity\":8.0,\"centrality\":0,\"blocking factor\":0,\"delay factor\":8.0},\"nameSub\":\"Optical Comm Sys\",\"id\":38,\"credits\":3,\"nameCanonical\":\"\"},{\"curriculum_requisites\":[{\"source_id\":33,\"target_id\":39,\"type\":\"CurriculumPrerequisite\"}],\"name\":\"OPTI 421\",\"metrics\":{\"complexity\":8.0,\"centrality\":0,\"blocking factor\":0,\"delay factor\":8.0},\"nameSub\":\"Intro Optomechanical Eng\",\"id\":39,\"credits\":3,\"nameCanonical\":\"\"},{\"curriculum_requisites\":[{\"source_id\":23,\"target_id\":40,\"type\":\"CurriculumPrerequisite\"},{\"source_id\":32,\"target_id\":40,\"type\":\"CurriculumPrerequisite\"},{\"source_id\":30,\"target_id\":40,\"type\":\"CurriculumPrerequisite\"}],\"name\":\"OPTI 471A\",\"metrics\":{\"complexity\":9.0,\"centrality\":45,\"blocking factor\":1,\"delay factor\":8.0},\"nameSub\":\"Adv Optics Lab\",\"id\":40,\"credits\":2,\"nameCanonical\":\"\"}],\"id\":7},{\"name\":\"Term 8\",\"curriculum_items\":[{\"curriculum_requisites\":[{\"source_id\":32,\"target_id\":41,\"type\":\"CurriculumPrerequisite\"},{\"source_id\":28,\"target_id\":41,\"type\":\"CurriculumCorequisite\"}],\"name\":\"ENGR 498B\",\"metrics\":{\"complexity\":7.0,\"centrality\":0,\"blocking factor\":0,\"delay factor\":7.0},\"nameSub\":\"Cross-disciplinary Design\",\"id\":41,\"credits\":3,\"nameCanonical\":\"\"},{\"curriculum_requisites\":[{\"source_id\":33,\"target_id\":42,\"type\":\"CurriculumPrerequisite\"}],\"name\":\"OPTI 415\",\"metrics\":{\"complexity\":8.0,\"centrality\":0,\"blocking factor\":0,\"delay factor\":8.0},\"nameSub\":\"Optical Specs Fab and Testing\",\"id\":42,\"credits\":3,\"nameCanonical\":\"\"},{\"curriculum_requisites\":[{\"source_id\":31,\"target_id\":43,\"type\":\"CurriculumPrerequisite\"},{\"source_id\":40,\"target_id\":43,\"type\":\"CurriculumPrerequisite\"}],\"name\":\"OPTI 471B\",\"metrics\":{\"complexity\":8.0,\"centrality\":0,\"blocking factor\":0,\"delay factor\":8.0},\"nameSub\":\"Adv Optics Lab\",\"id\":43,\"credits\":2,\"nameCanonical\":\"\"},{\"curriculum_requisites\":[],\"name\":\" \",\"metrics\":{\"complexity\":1.0,\"centrality\":0,\"blocking factor\":0,\"delay factor\":1.0},\"nameSub\":\"Tech Elective 5\",\"id\":44,\"credits\":3,\"nameCanonical\":\"\"},{\"curriculum_requisites\":[],\"name\":\" \",\"metrics\":{\"complexity\":1.0,\"centrality\":0,\"blocking factor\":0,\"delay factor\":1.0},\"nameSub\":\"Tech Elective 6\",\"id\":45,\"credits\":3,\"nameCanonical\":\"\"}],\"id\":8}],\"institution\":\"University of Arizona\"}}}}},\"children\":[{\"props\":{\"src\":\"http:\\/\\/localhost:8156\",\"id\":\"curriculum\",\"events\":{\"load\":\"(function (){this.contentWindow.postMessage({\\\"options\\\":{\\\"hideTerms\\\":false,\\\"edit\\\":false},\\\"curriculum\\\":{\\\"name\\\":\\\"Optical Engineering\\\",\\\"dp_name\\\":\\\"2019-20 Degree Plan\\\",\\\"curriculum_terms\\\":[{\\\"name\\\":\\\"Term 1\\\",\\\"curriculum_items\\\":[{\\\"curriculum_requisites\\\":[],\\\"name\\\":\\\"MATH 125\\\",\\\"metrics\\\":{\\\"complexity\\\":34.0,\\\"centrality\\\":0,\\\"blocking factor\\\":26,\\\"delay factor\\\":8.0},\\\"nameSub\\\":\\\"Calculus I w\\/ Applications\\\",\\\"id\\\":1,\\\"credits\\\":3,\\\"nameCanonical\\\":\\\"\\\"},{\\\"curriculum_requisites\\\":[],\\\"name\\\":\\\"CHEM 151\\\",\\\"metrics\\\":{\\\"complexity\\\":21.0,\\\"centrality\\\":0,\\\"blocking factor\\\":13,\\\"delay factor\\\":8.0},\\\"nameSub\\\":\\\"Gen Chemistry I\\\",\\\"id\\\":2,\\\"credits\\\":4,\\\"nameCanonical\\\":\\\"\\\"},{\\\"curriculum_requisites\\\":[],\\\"name\\\":\\\"ENGL 101\\\",\\\"metrics\\\":{\\\"complexity\\\":3.0,\\\"centrality\\\":0,\\\"blocking factor\\\":1,\\\"delay factor\\\":2.0},\\\"nameSub\\\":\\\"First-year Comp\\\",\\\"id\\\":3,\\\"credits\\\":3,\\\"nameCanonical\\\":\\\"\\\"},{\\\"curriculum_requisites\\\":[{\\\"source_id\\\":1,\\\"target_id\\\":4,\\\"type\\\":\\\"CurriculumCorequisite\\\"}],\\\"name\\\":\\\"ENGR 102\\\",\\\"metrics\\\":{\\\"complexity\\\":2.0,\\\"centrality\\\":0,\\\"blocking factor\\\":0,\\\"delay factor\\\":2.0},\\\"nameSub\\\":\\\"Intro to Engineering\\\",\\\"id\\\":4,\\\"credits\\\":3,\\\"nameCanonical\\\":\\\"\\\"},{\\\"curriculum_requisites\\\":[],\\\"name\\\":\\\" \\\",\\\"metrics\\\":{\\\"complexity\\\":1.0,\\\"centrality\\\":0,\\\"blocking factor\\\":0,\\\"delay factor\\\":1.0},\\\"nameSub\\\":\\\"Tier I General Ed 1\\\",\\\"id\\\":5,\\\"credits\\\":3,\\\"nameCanonical\\\":\\\"\\\"}],\\\"id\\\":1},{\\\"name\\\":\\\"Term 2\\\",\\\"curriculum_items\\\":[{\\\"curriculum_requisites\\\":[{\\\"source_id\\\":1,\\\"target_id\\\":6,\\\"type\\\":\\\"CurriculumPrerequisite\\\"}],\\\"name\\\":\\\"MATH 129\\\",\\\"metrics\\\":{\\\"complexity\\\":31.0,\\\"centrality\\\":333,\\\"blocking factor\\\":23,\\\"delay factor\\\":8.0},\\\"nameSub\\\":\\\"Calculus II\\\",\\\"id\\\":6,\\\"credits\\\":3,\\\"nameCanonical\\\":\\\"\\\"},{\\\"curriculum_requisites\\\":[{\\\"source_id\\\":2,\\\"target_id\\\":7,\\\"type\\\":\\\"CurriculumPrerequisite\\\"}],\\\"name\\\":\\\"MSE 110\\\",\\\"metrics\\\":{\\\"complexity\\\":20.0,\\\"centrality\\\":103,\\\"blocking factor\\\":12,\\\"delay factor\\\":8.0},\\\"nameSub\\\":\\\"Solid State Chem\\\",\\\"id\\\":7,\\\"credits\\\":3,\\\"nameCanonical\\\":\\\"\\\"},{\\\"curriculum_requisites\\\":[{\\\"source_id\\\":1,\\\"target_id\\\":8,\\\"type\\\":\\\"CurriculumPrerequisite\\\"}],\\\"name\\\":\\\"PHYS 141\\\",\\\"metrics\\\":{\\\"complexity\\\":24.0,\\\"centrality\\\":142,\\\"blocking factor\\\":16,\\\"delay factor\\\":8.0},\\\"nameSub\\\":\\\"Intro Mechanics\\\",\\\"id\\\":8,\\\"credits\\\":4,\\\"nameCanonical\\\":\\\"\\\"},{\\\"curriculum_requisites\\\":[{\\\"source_id\\\":3,\\\"target_id\\\":9,\\\"type\\\":\\\"CurriculumPrerequisite\\\"}],\\\"name\\\":\\\"ENGL 102\\\",\\\"metrics\\\":{\\\"complexity\\\":2.0,\\\"centrality\\\":0,\\\"blocking factor\\\":0,\\\"delay factor\\\":2.0},\\\"nameSub\\\":\\\"First-year Comp.\\\",\\\"id\\\":9,\\\"credits\\\":3,\\\"nameCanonical\\\":\\\"\\\"},{\\\"curriculum_requisites\\\":[],\\\"name\\\":\\\" \\\",\\\"metrics\\\":{\\\"complexity\\\":1.0,\\\"centrality\\\":0,\\\"blocking factor\\\":0,\\\"delay factor\\\":1.0},\\\"nameSub\\\":\\\"Tier I General Ed 2\\\",\\\"id\\\":10,\\\"credits\\\":3,\\\"nameCanonical\\\":\\\"\\\"}],\\\"id\\\":2},{\\\"name\\\":\\\"Term 3\\\",\\\"curriculum_items\\\":[{\\\"curriculum_requisites\\\":[{\\\"source_id\\\":7,\\\"target_id\\\":11,\\\"type\\\":\\\"CurriculumPrerequisite\\\"},{\\\"source_id\\\":8,\\\"target_id\\\":11,\\\"type\\\":\\\"CurriculumPrerequisite\\\"},{\\\"source_id\\\":6,\\\"target_id\\\":11,\\\"type\\\":\\\"CurriculumPrerequisite\\\"},{\\\"source_id\\\":1,\\\"target_id\\\":11,\\\"type\\\":\\\"CurriculumPrerequisite\\\"}],\\\"name\\\":\\\"OPTI 201R\\\",\\\"metrics\\\":{\\\"complexity\\\":19.0,\\\"centrality\\\":396,\\\"blocking factor\\\":11,\\\"delay factor\\\":8.0},\\\"nameSub\\\":\\\"Geometrical & Instrumental Optics I\\\",\\\"id\\\":11,\\\"credits\\\":3,\\\"nameCanonical\\\":\\\"\\\"},{\\\"curriculum_requisites\\\":[{\\\"source_id\\\":11,\\\"target_id\\\":12,\\\"type\\\":\\\"CurriculumStrictCorequisite\\\"}],\\\"name\\\":\\\"OPTI 201L\\\",\\\"metrics\\\":{\\\"complexity\\\":18.0,\\\"centrality\\\":166,\\\"blocking factor\\\":10,\\\"delay factor\\\":8.0},\\\"nameSub\\\":\\\"Geometrical & Instrumental Optics I Lab\\\",\\\"id\\\":12,\\\"credits\\\":1,\\\"nameCanonical\\\":\\\"\\\"},{\\\"curriculum_requisites\\\":[{\\\"source_id\\\":6,\\\"target_id\\\":13,\\\"type\\\":\\\"CurriculumPrerequisite\\\"}],\\\"name\\\":\\\"MATH  223\\\",\\\"metrics\\\":{\\\"complexity\\\":23.0,\\\"centrality\\\":152,\\\"blocking factor\\\":15,\\\"delay factor\\\":8.0},\\\"nameSub\\\":\\\"Vector Calculus\\\",\\\"id\\\":13,\\\"credits\\\":4,\\\"nameCanonical\\\":\\\"\\\"},{\\\"curriculum_requisites\\\":[{\\\"source_id\\\":8,\\\"target_id\\\":14,\\\"type\\\":\\\"CurriculumPrerequisite\\\"},{\\\"source_id\\\":6,\\\"target_id\\\":14,\\\"type\\\":\\\"CurriculumPrerequisite\\\"}],\\\"name\\\":\\\"PHYS 241\\\",\\\"metrics\\\":{\\\"complexity\\\":16.0,\\\"centrality\\\":78,\\\"blocking factor\\\":10,\\\"delay factor\\\":6.0},\\\"nameSub\\\":\\\"Electricity & Magnetism\\\",\\\"id\\\":14,\\\"credits\\\":4,\\\"nameCanonical\\\":\\\"\\\"},{\\\"curriculum_requisites\\\":[],\\\"name\\\":\\\" \\\",\\\"metrics\\\":{\\\"complexity\\\":1.0,\\\"centrality\\\":0,\\\"blocking factor\\\":0,\\\"delay factor\\\":1.0},\\\"nameSub\\\":\\\"Tech Elective 1\\\",\\\"id\\\":15,\\\"credits\\\":3,\\\"nameCanonical\\\":\\\"\\\"},{\\\"curriculum_requisites\\\":[],\\\"name\\\":\\\" \\\",\\\"metrics\\\":{\\\"complexity\\\":1.0,\\\"centrality\\\":0,\\\"blocking factor\\\":0,\\\"delay factor\\\":1.0},\\\"nameSub\\\":\\\"Tier I General Ed 3\\\",\\\"id\\\":16,\\\"credits\\\":3,\\\"nameCanonical\\\":\\\"\\\"}],\\\"id\\\":3},{\\\"name\\\":\\\"Term 4\\\",\\\"curriculum_items\\\":[{\\\"curriculum_requisites\\\":[{\\\"source_id\\\":11,\\\"target_id\\\":17,\\\"type\\\":\\\"CurriculumPrerequisite\\\"},{\\\"source_id\\\":12,\\\"target_id\\\":17,\\\"type\\\":\\\"CurriculumPrerequisite\\\"}],\\\"name\\\":\\\"OPTI 202R\\\",\\\"metrics\\\":{\\\"complexity\\\":15.0,\\\"centrality\\\":266,\\\"blocking factor\\\":7,\\\"delay factor\\\":8.0},\\\"nameSub\\\":\\\"Geometrical & Instrumental Optics II\\\",\\\"id\\\":17,\\\"credits\\\":3,\\\"nameCanonical\\\":\\\"\\\"},{\\\"curriculum_requisites\\\":[{\\\"source_id\\\":17,\\\"target_id\\\":18,\\\"type\\\":\\\"CurriculumStrictCorequisite\\\"}],\\\"name\\\":\\\"OPTI 202L\\\",\\\"metrics\\\":{\\\"complexity\\\":6.0,\\\"centrality\\\":0,\\\"blocking factor\\\":0,\\\"delay factor\\\":6.0},\\\"nameSub\\\":\\\"Geometrical & Instrumental Optics II Lab\\\",\\\"id\\\":18,\\\"credits\\\":1,\\\"nameCanonical\\\":\\\"\\\"},{\\\"curriculum_requisites\\\":[],\\\"name\\\":\\\"OPTI 280\\\",\\\"metrics\\\":{\\\"complexity\\\":1.0,\\\"centrality\\\":0,\\\"blocking factor\\\":0,\\\"delay factor\\\":1.0},\\\"nameSub\\\":\\\"Computer Programming\\\",\\\"id\\\":19,\\\"credits\\\":1,\\\"nameCanonical\\\":\\\"\\\"},{\\\"curriculum_requisites\\\":[{\\\"source_id\\\":13,\\\"target_id\\\":20,\\\"type\\\":\\\"CurriculumPrerequisite\\\"}],\\\"name\\\":\\\"OPTI 210\\\",\\\"metrics\\\":{\\\"complexity\\\":19.0,\\\"centrality\\\":113,\\\"blocking factor\\\":11,\\\"delay factor\\\":8.0},\\\"nameSub\\\":\\\"Physical Optics I\\\",\\\"id\\\":20,\\\"credits\\\":3,\\\"nameCanonical\\\":\\\"\\\"},{\\\"curriculum_requisites\\\":[{\\\"source_id\\\":6,\\\"target_id\\\":21,\\\"type\\\":\\\"CurriculumPrerequisite\\\"}],\\\"name\\\":\\\"MATH 254\\\",\\\"metrics\\\":{\\\"complexity\\\":10.0,\\\"centrality\\\":10,\\\"blocking factor\\\":4,\\\"delay factor\\\":6.0},\\\"nameSub\\\":\\\"Intro to ODEs\\\",\\\"id\\\":21,\\\"credits\\\":3,\\\"nameCanonical\\\":\\\"\\\"},{\\\"curriculum_requisites\\\":[],\\\"name\\\":\\\" \\\",\\\"metrics\\\":{\\\"complexity\\\":1.0,\\\"centrality\\\":0,\\\"blocking factor\\\":0,\\\"delay factor\\\":1.0},\\\"nameSub\\\":\\\"Tier I General Ed 4\\\",\\\"id\\\":22,\\\"credits\\\":3,\\\"nameCanonical\\\":\\\"\\\"},{\\\"curriculum_requisites\\\":[{\\\"source_id\\\":14,\\\"target_id\\\":23,\\\"type\\\":\\\"CurriculumPrerequisite\\\"},{\\\"source_id\\\":6,\\\"target_id\\\":23,\\\"type\\\":\\\"CurriculumPrerequisite\\\"}],\\\"name\\\":\\\"ECE 220\\\",\\\"metrics\\\":{\\\"complexity\\\":14.0,\\\"centrality\\\":99,\\\"blocking factor\\\":8,\\\"delay factor\\\":6.0},\\\"nameSub\\\":\\\"Basic Circuits\\\",\\\"id\\\":23,\\\"credits\\\":5,\\\"nameCanonical\\\":\\\"\\\"}],\\\"id\\\":4},{\\\"name\\\":\\\"Term 5\\\",\\\"curriculum_items\\\":[{\\\"curriculum_requisites\\\":[{\\\"source_id\\\":14,\\\"target_id\\\":24,\\\"type\\\":\\\"CurriculumPrerequisite\\\"},{\\\"source_id\\\":13,\\\"target_id\\\":24,\\\"type\\\":\\\"CurriculumPrerequisite\\\"},{\\\"source_id\\\":21,\\\"target_id\\\":24,\\\"type\\\":\\\"CurriculumCorequisite\\\"}],\\\"name\\\":\\\"OPTI 341\\\",\\\"metrics\\\":{\\\"complexity\\\":4.0,\\\"centrality\\\":0,\\\"blocking factor\\\":0,\\\"delay factor\\\":4.0},\\\"nameSub\\\":\\\"Semiconduct Physics & Lasers\\\",\\\"id\\\":24,\\\"credits\\\":3,\\\"nameCanonical\\\":\\\"\\\"},{\\\"curriculum_requisites\\\":[{\\\"source_id\\\":20,\\\"target_id\\\":25,\\\"type\\\":\\\"CurriculumPrerequisite\\\"}],\\\"name\\\":\\\"OPTI 380A\\\",\\\"metrics\\\":{\\\"complexity\\\":16.0,\\\"centrality\\\":45,\\\"blocking factor\\\":8,\\\"delay factor\\\":8.0},\\\"nameSub\\\":\\\"Intermed Optics Lab I\\\",\\\"id\\\":25,\\\"credits\\\":1,\\\"nameCanonical\\\":\\\"\\\"},{\\\"curriculum_requisites\\\":[{\\\"source_id\\\":13,\\\"target_id\\\":26,\\\"type\\\":\\\"CurriculumPrerequisite\\\"},{\\\"source_id\\\":21,\\\"target_id\\\":26,\\\"type\\\":\\\"CurriculumPrerequisite\\\"}],\\\"name\\\":\\\"MATH 322\\\",\\\"metrics\\\":{\\\"complexity\\\":8.0,\\\"centrality\\\":12,\\\"blocking factor\\\":2,\\\"delay factor\\\":6.0},\\\"nameSub\\\":\\\"Math Analysis for Eng\\\",\\\"id\\\":26,\\\"credits\\\":3,\\\"nameCanonical\\\":\\\"\\\"},{\\\"curriculum_requisites\\\":[],\\\"name\\\":\\\" \\\",\\\"metrics\\\":{\\\"complexity\\\":1.0,\\\"centrality\\\":0,\\\"blocking factor\\\":0,\\\"delay factor\\\":1.0},\\\"nameSub\\\":\\\"Tech Elective 2\\\",\\\"id\\\":27,\\\"credits\\\":3,\\\"nameCanonical\\\":\\\"\\\"},{\\\"curriculum_requisites\\\":[{\\\"source_id\\\":26,\\\"target_id\\\":28,\\\"type\\\":\\\"CurriculumCorequisite\\\"},{\\\"source_id\\\":23,\\\"target_id\\\":28,\\\"type\\\":\\\"CurriculumCorequisite\\\"},{\\\"source_id\\\":11,\\\"target_id\\\":28,\\\"type\\\":\\\"CurriculumPrerequisite\\\"},{\\\"source_id\\\":12,\\\"target_id\\\":28,\\\"type\\\":\\\"CurriculumPrerequisite\\\"}],\\\"name\\\":\\\"OPTI 306\\\",\\\"metrics\\\":{\\\"complexity\\\":7.0,\\\"centrality\\\":71,\\\"blocking factor\\\":1,\\\"delay factor\\\":6.0},\\\"nameSub\\\":\\\"Radiometry Sources and Detectors\\\",\\\"id\\\":28,\\\"credits\\\":3,\\\"nameCanonical\\\":\\\"\\\"},{\\\"curriculum_requisites\\\":[],\\\"name\\\":\\\" \\\",\\\"metrics\\\":{\\\"complexity\\\":1.0,\\\"centrality\\\":0,\\\"blocking factor\\\":0,\\\"delay factor\\\":1.0},\\\"nameSub\\\":\\\"Tier II General Ed 1\\\",\\\"id\\\":29,\\\"credits\\\":3,\\\"nameCanonical\\\":\\\"\\\"}],\\\"id\\\":5},{\\\"name\\\":\\\"Term 6\\\",\\\"curriculum_items\\\":[{\\\"curriculum_requisites\\\":[{\\\"source_id\\\":20,\\\"target_id\\\":30,\\\"type\\\":\\\"CurriculumPrerequisite\\\"}],\\\"name\\\":\\\"OPTI 330\\\",\\\"metrics\\\":{\\\"complexity\\\":9.0,\\\"centrality\\\":7,\\\"blocking factor\\\":2,\\\"delay factor\\\":7.0},\\\"nameSub\\\":\\\"Physical Optics II\\\",\\\"id\\\":30,\\\"credits\\\":3,\\\"nameCanonical\\\":\\\"\\\"},{\\\"curriculum_requisites\\\":[{\\\"source_id\\\":17,\\\"target_id\\\":31,\\\"type\\\":\\\"CurriculumPrerequisite\\\"},{\\\"source_id\\\":11,\\\"target_id\\\":31,\\\"type\\\":\\\"CurriculumPrerequisite\\\"},{\\\"source_id\\\":20,\\\"target_id\\\":31,\\\"type\\\":\\\"CurriculumPrerequisite\\\"}],\\\"name\\\":\\\"OPTI 340\\\",\\\"metrics\\\":{\\\"complexity\\\":13.0,\\\"centrality\\\":339,\\\"blocking factor\\\":5,\\\"delay factor\\\":8.0},\\\"nameSub\\\":\\\"Optical Design\\\",\\\"id\\\":31,\\\"credits\\\":3,\\\"nameCanonical\\\":\\\"\\\"},{\\\"curriculum_requisites\\\":[{\\\"source_id\\\":13,\\\"target_id\\\":32,\\\"type\\\":\\\"CurriculumPrerequisite\\\"},{\\\"source_id\\\":25,\\\"target_id\\\":32,\\\"type\\\":\\\"CurriculumPrerequisite\\\"},{\\\"source_id\\\":20,\\\"target_id\\\":32,\\\"type\\\":\\\"CurriculumPrerequisite\\\"}],\\\"name\\\":\\\"OPTI 370\\\",\\\"metrics\\\":{\\\"complexity\\\":15.0,\\\"centrality\\\":102,\\\"blocking factor\\\":7,\\\"delay factor\\\":8.0},\\\"nameSub\\\":\\\"Laser and Photonics\\\",\\\"id\\\":32,\\\"credits\\\":3,\\\"nameCanonical\\\":\\\"\\\"},{\\\"curriculum_requisites\\\":[{\\\"source_id\\\":23,\\\"target_id\\\":33,\\\"type\\\":\\\"CurriculumCorequisite\\\"},{\\\"source_id\\\":31,\\\"target_id\\\":33,\\\"type\\\":\\\"CurriculumCorequisite\\\"},{\\\"source_id\\\":32,\\\"target_id\\\":33,\\\"type\\\":\\\"CurriculumCorequisite\\\"}],\\\"name\\\":\\\"OPTI 380B\\\",\\\"metrics\\\":{\\\"complexity\\\":11.0,\\\"centrality\\\":378,\\\"blocking factor\\\":3,\\\"delay factor\\\":8.0},\\\"nameSub\\\":\\\"Intermed Optics Lab II\\\",\\\"id\\\":33,\\\"credits\\\":1,\\\"nameCanonical\\\":\\\"\\\"},{\\\"curriculum_requisites\\\":[],\\\"name\\\":\\\" \\\",\\\"metrics\\\":{\\\"complexity\\\":1.0,\\\"centrality\\\":0,\\\"blocking factor\\\":0,\\\"delay factor\\\":1.0},\\\"nameSub\\\":\\\"Tech Elective 3\\\",\\\"id\\\":34,\\\"credits\\\":3,\\\"nameCanonical\\\":\\\"\\\"},{\\\"curriculum_requisites\\\":[],\\\"name\\\":\\\" \\\",\\\"metrics\\\":{\\\"complexity\\\":1.0,\\\"centrality\\\":0,\\\"blocking factor\\\":0,\\\"delay factor\\\":1.0},\\\"nameSub\\\":\\\"Tier II General Ed 2\\\",\\\"id\\\":35,\\\"credits\\\":3,\\\"nameCanonical\\\":\\\"\\\"}],\\\"id\\\":6},{\\\"name\\\":\\\"Term 7\\\",\\\"curriculum_items\\\":[{\\\"curriculum_requisites\\\":[],\\\"name\\\":\\\"ENGR 498A\\\",\\\"metrics\\\":{\\\"complexity\\\":1.0,\\\"centrality\\\":0,\\\"blocking factor\\\":0,\\\"delay factor\\\":1.0},\\\"nameSub\\\":\\\"Cross-disciplinary Design\\\",\\\"id\\\":36,\\\"credits\\\":3,\\\"nameCanonical\\\":\\\"\\\"},{\\\"curriculum_requisites\\\":[],\\\"name\\\":\\\" \\\",\\\"metrics\\\":{\\\"complexity\\\":1.0,\\\"centrality\\\":0,\\\"blocking factor\\\":0,\\\"delay factor\\\":1.0},\\\"nameSub\\\":\\\"Tech Elective 4\\\",\\\"id\\\":37,\\\"credits\\\":3,\\\"nameCanonical\\\":\\\"\\\"},{\\\"curriculum_requisites\\\":[{\\\"source_id\\\":23,\\\"target_id\\\":38,\\\"type\\\":\\\"CurriculumPrerequisite\\\"},{\\\"source_id\\\":25,\\\"target_id\\\":38,\\\"type\\\":\\\"CurriculumPrerequisite\\\"},{\\\"source_id\\\":33,\\\"target_id\\\":38,\\\"type\\\":\\\"CurriculumPrerequisite\\\"}],\\\"name\\\":\\\"OPTI 430\\\",\\\"metrics\\\":{\\\"complexity\\\":8.0,\\\"centrality\\\":0,\\\"blocking factor\\\":0,\\\"delay factor\\\":8.0},\\\"nameSub\\\":\\\"Optical Comm Sys\\\",\\\"id\\\":38,\\\"credits\\\":3,\\\"nameCanonical\\\":\\\"\\\"},{\\\"curriculum_requisites\\\":[{\\\"source_id\\\":33,\\\"target_id\\\":39,\\\"type\\\":\\\"CurriculumPrerequisite\\\"}],\\\"name\\\":\\\"OPTI 421\\\",\\\"metrics\\\":{\\\"complexity\\\":8.0,\\\"centrality\\\":0,\\\"blocking factor\\\":0,\\\"delay factor\\\":8.0},\\\"nameSub\\\":\\\"Intro Optomechanical Eng\\\",\\\"id\\\":39,\\\"credits\\\":3,\\\"nameCanonical\\\":\\\"\\\"},{\\\"curriculum_requisites\\\":[{\\\"source_id\\\":23,\\\"target_id\\\":40,\\\"type\\\":\\\"CurriculumPrerequisite\\\"},{\\\"source_id\\\":32,\\\"target_id\\\":40,\\\"type\\\":\\\"CurriculumPrerequisite\\\"},{\\\"source_id\\\":30,\\\"target_id\\\":40,\\\"type\\\":\\\"CurriculumPrerequisite\\\"}],\\\"name\\\":\\\"OPTI 471A\\\",\\\"metrics\\\":{\\\"complexity\\\":9.0,\\\"centrality\\\":45,\\\"blocking factor\\\":1,\\\"delay factor\\\":8.0},\\\"nameSub\\\":\\\"Adv Optics Lab\\\",\\\"id\\\":40,\\\"credits\\\":2,\\\"nameCanonical\\\":\\\"\\\"}],\\\"id\\\":7},{\\\"name\\\":\\\"Term 8\\\",\\\"curriculum_items\\\":[{\\\"curriculum_requisites\\\":[{\\\"source_id\\\":32,\\\"target_id\\\":41,\\\"type\\\":\\\"CurriculumPrerequisite\\\"},{\\\"source_id\\\":28,\\\"target_id\\\":41,\\\"type\\\":\\\"CurriculumCorequisite\\\"}],\\\"name\\\":\\\"ENGR 498B\\\",\\\"metrics\\\":{\\\"complexity\\\":7.0,\\\"centrality\\\":0,\\\"blocking factor\\\":0,\\\"delay factor\\\":7.0},\\\"nameSub\\\":\\\"Cross-disciplinary Design\\\",\\\"id\\\":41,\\\"credits\\\":3,\\\"nameCanonical\\\":\\\"\\\"},{\\\"curriculum_requisites\\\":[{\\\"source_id\\\":33,\\\"target_id\\\":42,\\\"type\\\":\\\"CurriculumPrerequisite\\\"}],\\\"name\\\":\\\"OPTI 415\\\",\\\"metrics\\\":{\\\"complexity\\\":8.0,\\\"centrality\\\":0,\\\"blocking factor\\\":0,\\\"delay factor\\\":8.0},\\\"nameSub\\\":\\\"Optical Specs Fab and Testing\\\",\\\"id\\\":42,\\\"credits\\\":3,\\\"nameCanonical\\\":\\\"\\\"},{\\\"curriculum_requisites\\\":[{\\\"source_id\\\":31,\\\"target_id\\\":43,\\\"type\\\":\\\"CurriculumPrerequisite\\\"},{\\\"source_id\\\":40,\\\"target_id\\\":43,\\\"type\\\":\\\"CurriculumPrerequisite\\\"}],\\\"name\\\":\\\"OPTI 471B\\\",\\\"metrics\\\":{\\\"complexity\\\":8.0,\\\"centrality\\\":0,\\\"blocking factor\\\":0,\\\"delay factor\\\":8.0},\\\"nameSub\\\":\\\"Adv Optics Lab\\\",\\\"id\\\":43,\\\"credits\\\":2,\\\"nameCanonical\\\":\\\"\\\"},{\\\"curriculum_requisites\\\":[],\\\"name\\\":\\\" \\\",\\\"metrics\\\":{\\\"complexity\\\":1.0,\\\"centrality\\\":0,\\\"blocking factor\\\":0,\\\"delay factor\\\":1.0},\\\"nameSub\\\":\\\"Tech Elective 5\\\",\\\"id\\\":44,\\\"credits\\\":3,\\\"nameCanonical\\\":\\\"\\\"},{\\\"curriculum_requisites\\\":[],\\\"name\\\":\\\" \\\",\\\"metrics\\\":{\\\"complexity\\\":1.0,\\\"centrality\\\":0,\\\"blocking factor\\\":0,\\\"delay factor\\\":1.0},\\\"nameSub\\\":\\\"Tech Elective 6\\\",\\\"id\\\":45,\\\"credits\\\":3,\\\"nameCanonical\\\":\\\"\\\"}],\\\"id\\\":8}],\\\"institution\\\":\\\"University of Arizona\\\"}},\\\"*\\\"); window.removeEventListener(\\\"message\\\",window.messageReceived); window.messageReceived=(function (event){return (event.data.curriculum!==undefined) ? (WebIO.setval({\\\"name\\\":\\\"curriculum-data\\\",\\\"scope\\\":\\\"6861981435534131544\\\",\\\"id\\\":\\\"ob_02\\\",\\\"type\\\":\\\"observable\\\"},event.data.curriculum)) : undefined}); return window.addEventListener(\\\"message\\\",window.messageReceived)})\"},\"style\":{\"padding\":\"0\",\"height\":\"100vh\",\"margin\":\"0\",\"border\":\"none\",\"width\":\"100%\"}},\"nodeType\":\"DOM\",\"type\":\"node\",\"instanceArgs\":{\"namespace\":\"html\",\"tag\":\"iframe\"},\"children\":[\"\"]}]},\n",
       "            window,\n",
       "        );\n",
       "    } else {\n",
       "        document\n",
       "            .querySelector('[data-webio-mountpoint=\"151573447011979511\"]')\n",
       "            .innerHTML = (\n",
       "                '<div style=\"padding: 1em; background-color: #f8d6da; border: 1px solid #f5c6cb\">' +\n",
       "                '<p><strong>WebIO not detected.</strong></p>' +\n",
       "                '<p>Please read ' +\n",
       "                '<a href=\"https://juliagizmos.github.io/WebIO.jl/latest/troubleshooting/not-detected/\" target=\"_blank\">the troubleshooting guide</a> ' +\n",
       "                'for more information on how to resolve this issue.</p>' +\n",
       "                '<p><a href=\"https://juliagizmos.github.io/WebIO.jl/latest/troubleshooting/not-detected/\" target=\"_blank\">https://juliagizmos.github.io/WebIO.jl/latest/troubleshooting/not-detected/</a></p>' +\n",
       "                '</div>'\n",
       "            );\n",
       "    }\n",
       "    </script>\n",
       "</div>\n"
      ],
      "text/plain": [
       "WebIO.Scope(WebIO.Node{WebIO.DOM}(WebIO.DOM(:html, :iframe), Any[\"\"], Dict{Symbol,Any}(:src => \"http://localhost:8156\",:id => \"curriculum\",:events => Dict{Symbol,WebIO.JSString}(:load => WebIO.JSString(\"(function (){this.contentWindow.postMessage({\\\"options\\\":{\\\"hideTerms\\\":false,\\\"edit\\\":false},\\\"curriculum\\\":{\\\"name\\\":\\\"Optical Engineering\\\",\\\"dp_name\\\":\\\"2019-20 Degree Plan\\\",\\\"curriculum_terms\\\":[{\\\"name\\\":\\\"Term 1\\\",\\\"curriculum_items\\\":[{\\\"curriculum_requisites\\\":[],\\\"name\\\":\\\"MATH 125\\\",\\\"metrics\\\":{\\\"complexity\\\":34.0,\\\"centrality\\\":0,\\\"blocking factor\\\":26,\\\"delay factor\\\":8.0},\\\"nameSub\\\":\\\"Calculus I w/ Applications\\\",\\\"id\\\":1,\\\"credits\\\":3,\\\"nameCanonical\\\":\\\"\\\"},{\\\"curriculum_requisites\\\":[],\\\"name\\\":\\\"CHEM 151\\\",\\\"metrics\\\":{\\\"complexity\\\":21.0,\\\"centrality\\\":0,\\\"blocking factor\\\":13,\\\"delay factor\\\":8.0},\\\"nameSub\\\":\\\"Gen Chemistry I\\\",\\\"id\\\":2,\\\"credits\\\":4,\\\"nameCanonical\\\":\\\"\\\"},{\\\"curriculum_requisites\\\":[],\\\"name\\\":\\\"ENGL 101\\\",\\\"metrics\\\":{\\\"complexity\\\":3.0,\\\"centrality\\\":0,\\\"blocking factor\\\":1,\\\"delay factor\\\":2.0},\\\"nameSub\\\":\\\"First-year Comp\\\",\\\"id\\\":3,\\\"credits\\\":3,\\\"nameCanonical\\\":\\\"\\\"},{\\\"curriculum_requisites\\\":[{\\\"source_id\\\":1,\\\"target_id\\\":4,\\\"type\\\":\\\"CurriculumCorequisite\\\"}],\\\"name\\\":\\\"ENGR 102\\\",\\\"metrics\\\":{\\\"complexity\\\":2.0,\\\"centrality\\\":0,\\\"blocking factor\\\":0,\\\"delay factor\\\":2.0},\\\"nameSub\\\":\\\"Intro to Engineering\\\",\\\"id\\\":4,\\\"credits\\\":3,\\\"nameCanonical\\\":\\\"\\\"},{\\\"curriculum_requisites\\\":[],\\\"name\\\":\\\" \\\",\\\"metrics\\\":{\\\"complexity\\\":1.0,\\\"centrality\\\":0,\\\"blocking factor\\\":0,\\\"delay factor\\\":1.0},\\\"nameSub\\\":\\\"Tier I General Ed 1\\\",\\\"id\\\":5,\\\"credits\\\":3,\\\"nameCanonical\\\":\\\"\\\"}],\\\"id\\\":1},{\\\"name\\\":\\\"Term 2\\\",\\\"curriculum_items\\\":[{\\\"curriculum_requisites\\\":[{\\\"source_id\\\":1,\\\"target_id\\\":6,\\\"type\\\":\\\"CurriculumPrerequisite\\\"}],\\\"name\\\":\\\"MATH 129\\\",\\\"metrics\\\":{\\\"complexity\\\":31.0,\\\"centrality\\\":333,\\\"blocking factor\\\":23,\\\"delay factor\\\":8.0},\\\"nameSub\\\":\\\"Calculus II\\\",\\\"id\\\":6,\\\"credits\\\":3,\\\"nameCanonical\\\":\\\"\\\"},{\\\"curriculum_requisites\\\":[{\\\"source_id\\\":2,\\\"target_id\\\":7,\\\"type\\\":\\\"CurriculumPrerequisite\\\"}],\\\"name\\\":\\\"MSE 110\\\",\\\"metrics\\\":{\\\"complexity\\\":20.0,\\\"centrality\\\":103,\\\"blocking factor\\\":12,\\\"delay factor\\\":8.0},\\\"nameSub\\\":\\\"Solid State Chem\\\",\\\"id\\\":7,\\\"credits\\\":3,\\\"nameCanonical\\\":\\\"\\\"},{\\\"curriculum_requisites\\\":[{\\\"source_id\\\":1,\\\"target_id\\\":8,\\\"type\\\":\\\"CurriculumPrerequisite\\\"}],\\\"name\\\":\\\"PHYS 141\\\",\\\"metrics\\\":{\\\"complexity\\\":24.0,\\\"centrality\\\":142,\\\"blocking factor\\\":16,\\\"delay factor\\\":8.0},\\\"nameSub\\\":\\\"Intro Mechanics\\\",\\\"id\\\":8,\\\"credits\\\":4,\\\"nameCanonical\\\":\\\"\\\"},{\\\"curriculum_requisites\\\":[{\\\"source_id\\\":3,\\\"target_id\\\":9,\\\"type\\\":\\\"CurriculumPrerequisite\\\"}],\\\"name\\\":\\\"ENGL 102\\\",\\\"metrics\\\":{\\\"complexity\\\":2.0,\\\"centrality\\\":0,\\\"blocking factor\\\":0,\\\"delay factor\\\":2.0},\\\"nameSub\\\":\\\"First-year Comp.\\\",\\\"id\\\":9,\\\"credits\\\":3,\\\"nameCanonical\\\":\\\"\\\"},{\\\"curriculum_requisites\\\":[],\\\"name\\\":\\\" \\\",\\\"metrics\\\":{\\\"complexity\\\":1.0,\\\"centrality\\\":0,\\\"blocking factor\\\":0,\\\"delay factor\\\":1.0},\\\"nameSub\\\":\\\"Tier I General Ed 2\\\",\\\"id\\\":10,\\\"credits\\\":3,\\\"nameCanonical\\\":\\\"\\\"}],\\\"id\\\":2},{\\\"name\\\":\\\"Term 3\\\",\\\"curriculum_items\\\":[{\\\"curriculum_requisites\\\":[{\\\"source_id\\\":7,\\\"target_id\\\":11,\\\"type\\\":\\\"CurriculumPrerequisite\\\"},{\\\"source_id\\\":8,\\\"target_id\\\":11,\\\"type\\\":\\\"CurriculumPrerequisite\\\"},{\\\"source_id\\\":6,\\\"target_id\\\":11,\\\"type\\\":\\\"CurriculumPrerequisite\\\"},{\\\"source_id\\\":1,\\\"target_id\\\":11,\\\"type\\\":\\\"CurriculumPrerequisite\\\"}],\\\"name\\\":\\\"OPTI 201R\\\",\\\"metrics\\\":{\\\"complexity\\\":19.0,\\\"centrality\\\":396,\\\"blocking factor\\\":11,\\\"delay factor\\\":8.0},\\\"nameSub\\\":\\\"Geometrical & Instrumental Optics I\\\",\\\"id\\\":11,\\\"credits\\\":3,\\\"nameCanonical\\\":\\\"\\\"},{\\\"curriculum_requisites\\\":[{\\\"source_id\\\":11,\\\"target_id\\\":12,\\\"type\\\":\\\"CurriculumStrictCorequisite\\\"}],\\\"name\\\":\\\"OPTI 201L\\\",\\\"metrics\\\":{\\\"complexity\\\":18.0,\\\"centrality\\\":166,\\\"blocking factor\\\":10,\\\"delay factor\\\":8.0},\\\"nameSub\\\":\\\"Geometrical & Instrumental Optics I Lab\\\",\\\"id\\\":12,\\\"credits\\\":1,\\\"nameCanonical\\\":\\\"\\\"},{\\\"curriculum_requisites\\\":[{\\\"source_id\\\":6,\\\"target_id\\\":13,\\\"type\\\":\\\"CurriculumPrerequisite\\\"}],\\\"name\\\":\\\"MATH  223\\\",\\\"metrics\\\":{\\\"complexity\\\":23.0,\\\"centrality\\\":152,\\\"blocking factor\\\":15,\\\"delay factor\\\":8.0},\\\"nameSub\\\":\\\"Vector Calculus\\\",\\\"id\\\":13,\\\"credits\\\":4,\\\"nameCanonical\\\":\\\"\\\"},{\\\"curriculum_requisites\\\":[{\\\"source_id\\\":8,\\\"target_id\\\":14,\\\"type\\\":\\\"CurriculumPrerequisite\\\"},{\\\"source_id\\\":6,\\\"target_id\\\":14,\\\"type\\\":\\\"CurriculumPrerequisite\\\"}],\\\"name\\\":\\\"PHYS 241\\\",\\\"metrics\\\":{\\\"complexity\\\":16.0,\\\"centrality\\\":78,\\\"blocking factor\\\":10,\\\"delay factor\\\":6.0},\\\"nameSub\\\":\\\"Electricity & Magnetism\\\",\\\"id\\\":14,\\\"credits\\\":4,\\\"nameCanonical\\\":\\\"\\\"},{\\\"curriculum_requisites\\\":[],\\\"name\\\":\\\" \\\",\\\"metrics\\\":{\\\"complexity\\\":1.0,\\\"centrality\\\":0,\\\"blocking factor\\\":0,\\\"delay factor\\\":1.0},\\\"nameSub\\\":\\\"Tech Elective 1\\\",\\\"id\\\":15,\\\"credits\\\":3,\\\"nameCanonical\\\":\\\"\\\"},{\\\"curriculum_requisites\\\":[],\\\"name\\\":\\\" \\\",\\\"metrics\\\":{\\\"complexity\\\":1.0,\\\"centrality\\\":0,\\\"blocking factor\\\":0,\\\"delay factor\\\":1.0},\\\"nameSub\\\":\\\"Tier I General Ed 3\\\",\\\"id\\\":16,\\\"credits\\\":3,\\\"nameCanonical\\\":\\\"\\\"}],\\\"id\\\":3},{\\\"name\\\":\\\"Term 4\\\",\\\"curriculum_items\\\":[{\\\"curriculum_requisites\\\":[{\\\"source_id\\\":11,\\\"target_id\\\":17,\\\"type\\\":\\\"CurriculumPrerequisite\\\"},{\\\"source_id\\\":12,\\\"target_id\\\":17,\\\"type\\\":\\\"CurriculumPrerequisite\\\"}],\\\"name\\\":\\\"OPTI 202R\\\",\\\"metrics\\\":{\\\"complexity\\\":15.0,\\\"centrality\\\":266,\\\"blocking factor\\\":7,\\\"delay factor\\\":8.0},\\\"nameSub\\\":\\\"Geometrical & Instrumental Optics II\\\",\\\"id\\\":17,\\\"credits\\\":3,\\\"nameCanonical\\\":\\\"\\\"},{\\\"curriculum_requisites\\\":[{\\\"source_id\\\":17,\\\"target_id\\\":18,\\\"type\\\":\\\"CurriculumStrictCorequisite\\\"}],\\\"name\\\":\\\"OPTI 202L\\\",\\\"metrics\\\":{\\\"complexity\\\":6.0,\\\"centrality\\\":0,\\\"blocking factor\\\":0,\\\"delay factor\\\":6.0},\\\"nameSub\\\":\\\"Geometrical & Instrumental Optics II Lab\\\",\\\"id\\\":18,\\\"credits\\\":1,\\\"nameCanonical\\\":\\\"\\\"},{\\\"curriculum_requisites\\\":[],\\\"name\\\":\\\"OPTI 280\\\",\\\"metrics\\\":{\\\"complexity\\\":1.0,\\\"centrality\\\":0,\\\"blocking factor\\\":0,\\\"delay factor\\\":1.0},\\\"nameSub\\\":\\\"Computer Programming\\\",\\\"id\\\":19,\\\"credits\\\":1,\\\"nameCanonical\\\":\\\"\\\"},{\\\"curriculum_requisites\\\":[{\\\"source_id\\\":13,\\\"target_id\\\":20,\\\"type\\\":\\\"CurriculumPrerequisite\\\"}],\\\"name\\\":\\\"OPTI 210\\\",\\\"metrics\\\":{\\\"complexity\\\":19.0,\\\"centrality\\\":113,\\\"blocking factor\\\":11,\\\"delay factor\\\":8.0},\\\"nameSub\\\":\\\"Physical Optics I\\\",\\\"id\\\":20,\\\"credits\\\":3,\\\"nameCanonical\\\":\\\"\\\"},{\\\"curriculum_requisites\\\":[{\\\"source_id\\\":6,\\\"target_id\\\":21,\\\"type\\\":\\\"CurriculumPrerequisite\\\"}],\\\"name\\\":\\\"MATH 254\\\",\\\"metrics\\\":{\\\"complexity\\\":10.0,\\\"centrality\\\":10,\\\"blocking factor\\\":4,\\\"delay factor\\\":6.0},\\\"nameSub\\\":\\\"Intro to ODEs\\\",\\\"id\\\":21,\\\"credits\\\":3,\\\"nameCanonical\\\":\\\"\\\"},{\\\"curriculum_requisites\\\":[],\\\"name\\\":\\\" \\\",\\\"metrics\\\":{\\\"complexity\\\":1.0,\\\"centrality\\\":0,\\\"blocking factor\\\":0,\\\"delay factor\\\":1.0},\\\"nameSub\\\":\\\"Tier I General Ed 4\\\",\\\"id\\\":22,\\\"credits\\\":3,\\\"nameCanonical\\\":\\\"\\\"},{\\\"curriculum_requisites\\\":[{\\\"source_id\\\":14,\\\"target_id\\\":23,\\\"type\\\":\\\"CurriculumPrerequisite\\\"},{\\\"source_id\\\":6,\\\"target_id\\\":23,\\\"type\\\":\\\"CurriculumPrerequisite\\\"}],\\\"name\\\":\\\"ECE 220\\\",\\\"metrics\\\":{\\\"complexity\\\":14.0,\\\"centrality\\\":99,\\\"blocking factor\\\":8,\\\"delay factor\\\":6.0},\\\"nameSub\\\":\\\"Basic Circuits\\\",\\\"id\\\":23,\\\"credits\\\":5,\\\"nameCanonical\\\":\\\"\\\"}],\\\"id\\\":4},{\\\"name\\\":\\\"Term 5\\\",\\\"curriculum_items\\\":[{\\\"curriculum_requisites\\\":[{\\\"source_id\\\":14,\\\"target_id\\\":24,\\\"type\\\":\\\"CurriculumPrerequisite\\\"},{\\\"source_id\\\":13,\\\"target_id\\\":24,\\\"type\\\":\\\"CurriculumPrerequisite\\\"},{\\\"source_id\\\":21,\\\"target_id\\\":24,\\\"type\\\":\\\"CurriculumCorequisite\\\"}],\\\"name\\\":\\\"OPTI 341\\\",\\\"metrics\\\":{\\\"complexity\\\":4.0,\\\"centrality\\\":0,\\\"blocking factor\\\":0,\\\"delay factor\\\":4.0},\\\"nameSub\\\":\\\"Semiconduct Physics & Lasers\\\",\\\"id\\\":24,\\\"credits\\\":3,\\\"nameCanonical\\\":\\\"\\\"},{\\\"curriculum_requisites\\\":[{\\\"source_id\\\":20,\\\"target_id\\\":25,\\\"type\\\":\\\"CurriculumPrerequisite\\\"}],\\\"name\\\":\\\"OPTI 380A\\\",\\\"metrics\\\":{\\\"complexity\\\":16.0,\\\"centrality\\\":45,\\\"blocking factor\\\":8,\\\"delay factor\\\":8.0},\\\"nameSub\\\":\\\"Intermed Optics Lab I\\\",\\\"id\\\":25,\\\"credits\\\":1,\\\"nameCanonical\\\":\\\"\\\"},{\\\"curriculum_requisites\\\":[{\\\"source_id\\\":13,\\\"target_id\\\":26,\\\"type\\\":\\\"CurriculumPrerequisite\\\"},{\\\"source_id\\\":21,\\\"target_id\\\":26,\\\"type\\\":\\\"CurriculumPrerequisite\\\"}],\\\"name\\\":\\\"MATH 322\\\",\\\"metrics\\\":{\\\"complexity\\\":8.0,\\\"centrality\\\":12,\\\"blocking factor\\\":2,\\\"delay factor\\\":6.0},\\\"nameSub\\\":\\\"Math Analysis for Eng\\\",\\\"id\\\":26,\\\"credits\\\":3,\\\"nameCanonical\\\":\\\"\\\"},{\\\"curriculum_requisites\\\":[],\\\"name\\\":\\\" \\\",\\\"metrics\\\":{\\\"complexity\\\":1.0,\\\"centrality\\\":0,\\\"blocking factor\\\":0,\\\"delay factor\\\":1.0},\\\"nameSub\\\":\\\"Tech Elective 2\\\",\\\"id\\\":27,\\\"credits\\\":3,\\\"nameCanonical\\\":\\\"\\\"},{\\\"curriculum_requisites\\\":[{\\\"source_id\\\":26,\\\"target_id\\\":28,\\\"type\\\":\\\"CurriculumCorequisite\\\"},{\\\"source_id\\\":23,\\\"target_id\\\":28,\\\"type\\\":\\\"CurriculumCorequisite\\\"},{\\\"source_id\\\":11,\\\"target_id\\\":28,\\\"type\\\":\\\"CurriculumPrerequisite\\\"},{\\\"source_id\\\":12,\\\"target_id\\\":28,\\\"type\\\":\\\"CurriculumPrerequisite\\\"}],\\\"name\\\":\\\"OPTI 306\\\",\\\"metrics\\\":{\\\"complexity\\\":7.0,\\\"centrality\\\":71,\\\"blocking factor\\\":1,\\\"delay factor\\\":6.0},\\\"nameSub\\\":\\\"Radiometry Sources and Detectors\\\",\\\"id\\\":28,\\\"credits\\\":3,\\\"nameCanonical\\\":\\\"\\\"},{\\\"curriculum_requisites\\\":[],\\\"name\\\":\\\" \\\",\\\"metrics\\\":{\\\"complexity\\\":1.0,\\\"centrality\\\":0,\\\"blocking factor\\\":0,\\\"delay factor\\\":1.0},\\\"nameSub\\\":\\\"Tier II General Ed 1\\\",\\\"id\\\":29,\\\"credits\\\":3,\\\"nameCanonical\\\":\\\"\\\"}],\\\"id\\\":5},{\\\"name\\\":\\\"Term 6\\\",\\\"curriculum_items\\\":[{\\\"curriculum_requisites\\\":[{\\\"source_id\\\":20,\\\"target_id\\\":30,\\\"type\\\":\\\"CurriculumPrerequisite\\\"}],\\\"name\\\":\\\"OPTI 330\\\",\\\"metrics\\\":{\\\"complexity\\\":9.0,\\\"centrality\\\":7,\\\"blocking factor\\\":2,\\\"delay factor\\\":7.0},\\\"nameSub\\\":\\\"Physical Optics II\\\",\\\"id\\\":30,\\\"credits\\\":3,\\\"nameCanonical\\\":\\\"\\\"},{\\\"curriculum_requisites\\\":[{\\\"source_id\\\":17,\\\"target_id\\\":31,\\\"type\\\":\\\"CurriculumPrerequisite\\\"},{\\\"source_id\\\":11,\\\"target_id\\\":31,\\\"type\\\":\\\"CurriculumPrerequisite\\\"},{\\\"source_id\\\":20,\\\"target_id\\\":31,\\\"type\\\":\\\"CurriculumPrerequisite\\\"}],\\\"name\\\":\\\"OPTI 340\\\",\\\"metrics\\\":{\\\"complexity\\\":13.0,\\\"centrality\\\":339,\\\"blocking factor\\\":5,\\\"delay factor\\\":8.0},\\\"nameSub\\\":\\\"Optical Design\\\",\\\"id\\\":31,\\\"credits\\\":3,\\\"nameCanonical\\\":\\\"\\\"},{\\\"curriculum_requisites\\\":[{\\\"source_id\\\":13,\\\"target_id\\\":32,\\\"type\\\":\\\"CurriculumPrerequisite\\\"},{\\\"source_id\\\":25,\\\"target_id\\\":32,\\\"type\\\":\\\"CurriculumPrerequisite\\\"},{\\\"source_id\\\":20,\\\"target_id\\\":32,\\\"type\\\":\\\"CurriculumPrerequisite\\\"}],\\\"name\\\":\\\"OPTI 370\\\",\\\"metrics\\\":{\\\"complexity\\\":15.0,\\\"centrality\\\":102,\\\"blocking factor\\\":7,\\\"delay factor\\\":8.0},\\\"nameSub\\\":\\\"Laser and Photonics\\\",\\\"id\\\":32,\\\"credits\\\":3,\\\"nameCanonical\\\":\\\"\\\"},{\\\"curriculum_requisites\\\":[{\\\"source_id\\\":23,\\\"target_id\\\":33,\\\"type\\\":\\\"CurriculumCorequisite\\\"},{\\\"source_id\\\":31,\\\"target_id\\\":33,\\\"type\\\":\\\"CurriculumCorequisite\\\"},{\\\"source_id\\\":32,\\\"target_id\\\":33,\\\"type\\\":\\\"CurriculumCorequisite\\\"}],\\\"name\\\":\\\"OPTI 380B\\\",\\\"metrics\\\":{\\\"complexity\\\":11.0,\\\"centrality\\\":378,\\\"blocking factor\\\":3,\\\"delay factor\\\":8.0},\\\"nameSub\\\":\\\"Intermed Optics Lab II\\\",\\\"id\\\":33,\\\"credits\\\":1,\\\"nameCanonical\\\":\\\"\\\"},{\\\"curriculum_requisites\\\":[],\\\"name\\\":\\\" \\\",\\\"metrics\\\":{\\\"complexity\\\":1.0,\\\"centrality\\\":0,\\\"blocking factor\\\":0,\\\"delay factor\\\":1.0},\\\"nameSub\\\":\\\"Tech Elective 3\\\",\\\"id\\\":34,\\\"credits\\\":3,\\\"nameCanonical\\\":\\\"\\\"},{\\\"curriculum_requisites\\\":[],\\\"name\\\":\\\" \\\",\\\"metrics\\\":{\\\"complexity\\\":1.0,\\\"centrality\\\":0,\\\"blocking factor\\\":0,\\\"delay factor\\\":1.0},\\\"nameSub\\\":\\\"Tier II General Ed 2\\\",\\\"id\\\":35,\\\"credits\\\":3,\\\"nameCanonical\\\":\\\"\\\"}],\\\"id\\\":6},{\\\"name\\\":\\\"Term 7\\\",\\\"curriculum_items\\\":[{\\\"curriculum_requisites\\\":[],\\\"name\\\":\\\"ENGR 498A\\\",\\\"metrics\\\":{\\\"complexity\\\":1.0,\\\"centrality\\\":0,\\\"blocking factor\\\":0,\\\"delay factor\\\":1.0},\\\"nameSub\\\":\\\"Cross-disciplinary Design\\\",\\\"id\\\":36,\\\"credits\\\":3,\\\"nameCanonical\\\":\\\"\\\"},{\\\"curriculum_requisites\\\":[],\\\"name\\\":\\\" \\\",\\\"metrics\\\":{\\\"complexity\\\":1.0,\\\"centrality\\\":0,\\\"blocking factor\\\":0,\\\"delay factor\\\":1.0},\\\"nameSub\\\":\\\"Tech Elective 4\\\",\\\"id\\\":37,\\\"credits\\\":3,\\\"nameCanonical\\\":\\\"\\\"},{\\\"curriculum_requisites\\\":[{\\\"source_id\\\":23,\\\"target_id\\\":38,\\\"type\\\":\\\"CurriculumPrerequisite\\\"},{\\\"source_id\\\":25,\\\"target_id\\\":38,\\\"type\\\":\\\"CurriculumPrerequisite\\\"},{\\\"source_id\\\":33,\\\"target_id\\\":38,\\\"type\\\":\\\"CurriculumPrerequisite\\\"}],\\\"name\\\":\\\"OPTI 430\\\",\\\"metrics\\\":{\\\"complexity\\\":8.0,\\\"centrality\\\":0,\\\"blocking factor\\\":0,\\\"delay factor\\\":8.0},\\\"nameSub\\\":\\\"Optical Comm Sys\\\",\\\"id\\\":38,\\\"credits\\\":3,\\\"nameCanonical\\\":\\\"\\\"},{\\\"curriculum_requisites\\\":[{\\\"source_id\\\":33,\\\"target_id\\\":39,\\\"type\\\":\\\"CurriculumPrerequisite\\\"}],\\\"name\\\":\\\"OPTI 421\\\",\\\"metrics\\\":{\\\"complexity\\\":8.0,\\\"centrality\\\":0,\\\"blocking factor\\\":0,\\\"delay factor\\\":8.0},\\\"nameSub\\\":\\\"Intro Optomechanical Eng\\\",\\\"id\\\":39,\\\"credits\\\":3,\\\"nameCanonical\\\":\\\"\\\"},{\\\"curriculum_requisites\\\":[{\\\"source_id\\\":23,\\\"target_id\\\":40,\\\"type\\\":\\\"CurriculumPrerequisite\\\"},{\\\"source_id\\\":32,\\\"target_id\\\":40,\\\"type\\\":\\\"CurriculumPrerequisite\\\"},{\\\"source_id\\\":30,\\\"target_id\\\":40,\\\"type\\\":\\\"CurriculumPrerequisite\\\"}],\\\"name\\\":\\\"OPTI 471A\\\",\\\"metrics\\\":{\\\"complexity\\\":9.0,\\\"centrality\\\":45,\\\"blocking factor\\\":1,\\\"delay factor\\\":8.0},\\\"nameSub\\\":\\\"Adv Optics Lab\\\",\\\"id\\\":40,\\\"credits\\\":2,\\\"nameCanonical\\\":\\\"\\\"}],\\\"id\\\":7},{\\\"name\\\":\\\"Term 8\\\",\\\"curriculum_items\\\":[{\\\"curriculum_requisites\\\":[{\\\"source_id\\\":32,\\\"target_id\\\":41,\\\"type\\\":\\\"CurriculumPrerequisite\\\"},{\\\"source_id\\\":28,\\\"target_id\\\":41,\\\"type\\\":\\\"CurriculumCorequisite\\\"}],\\\"name\\\":\\\"ENGR 498B\\\",\\\"metrics\\\":{\\\"complexity\\\":7.0,\\\"centrality\\\":0,\\\"blocking factor\\\":0,\\\"delay factor\\\":7.0},\\\"nameSub\\\":\\\"Cross-disciplinary Design\\\",\\\"id\\\":41,\\\"credits\\\":3,\\\"nameCanonical\\\":\\\"\\\"},{\\\"curriculum_requisites\\\":[{\\\"source_id\\\":33,\\\"target_id\\\":42,\\\"type\\\":\\\"CurriculumPrerequisite\\\"}],\\\"name\\\":\\\"OPTI 415\\\",\\\"metrics\\\":{\\\"complexity\\\":8.0,\\\"centrality\\\":0,\\\"blocking factor\\\":0,\\\"delay factor\\\":8.0},\\\"nameSub\\\":\\\"Optical Specs Fab and Testing\\\",\\\"id\\\":42,\\\"credits\\\":3,\\\"nameCanonical\\\":\\\"\\\"},{\\\"curriculum_requisites\\\":[{\\\"source_id\\\":31,\\\"target_id\\\":43,\\\"type\\\":\\\"CurriculumPrerequisite\\\"},{\\\"source_id\\\":40,\\\"target_id\\\":43,\\\"type\\\":\\\"CurriculumPrerequisite\\\"}],\\\"name\\\":\\\"OPTI 471B\\\",\\\"metrics\\\":{\\\"complexity\\\":8.0,\\\"centrality\\\":0,\\\"blocking factor\\\":0,\\\"delay factor\\\":8.0},\\\"nameSub\\\":\\\"Adv Optics Lab\\\",\\\"id\\\":43,\\\"credits\\\":2,\\\"nameCanonical\\\":\\\"\\\"},{\\\"curriculum_requisites\\\":[],\\\"name\\\":\\\" \\\",\\\"metrics\\\":{\\\"complexity\\\":1.0,\\\"centrality\\\":0,\\\"blocking factor\\\":0,\\\"delay factor\\\":1.0},\\\"nameSub\\\":\\\"Tech Elective 5\\\",\\\"id\\\":44,\\\"credits\\\":3,\\\"nameCanonical\\\":\\\"\\\"},{\\\"curriculum_requisites\\\":[],\\\"name\\\":\\\" \\\",\\\"metrics\\\":{\\\"complexity\\\":1.0,\\\"centrality\\\":0,\\\"blocking factor\\\":0,\\\"delay factor\\\":1.0},\\\"nameSub\\\":\\\"Tech Elective 6\\\",\\\"id\\\":45,\\\"credits\\\":3,\\\"nameCanonical\\\":\\\"\\\"}],\\\"id\\\":8}],\\\"institution\\\":\\\"University of Arizona\\\"}},\\\"*\\\"); window.removeEventListener(\\\"message\\\",window.messageReceived); window.messageReceived=(function (event){return (event.data.curriculum!==undefined) ? (WebIO.setval({\\\"name\\\":\\\"curriculum-data\\\",\\\"scope\\\":\\\"6861981435534131544\\\",\\\"id\\\":\\\"ob_02\\\",\\\"type\\\":\\\"observable\\\"},event.data.curriculum)) : undefined}); return window.addEventListener(\\\"message\\\",window.messageReceived)})\")),:style => Dict(:padding => \"0\",:height => \"100vh\",:margin => \"0\",:border => \"none\",:width => \"100%\"))), Dict{String,Tuple{Observables.AbstractObservable,Union{Nothing, Bool}}}(\"curriculum-data\" => (Observable{Dict{String,Any}} with 1 listeners. Value:\n",
       "Dict{String,Any}(\"options\" => Dict{String,Any}(\"hideTerms\" => false,\"edit\" => false),\"curriculum\" => Dict{String,Any}(\"name\" => \"Optical Engineering\",\"dp_name\" => \"2019-20 Degree Plan\",\"curriculum_terms\" => Dict{String,Any}[Dict(\"name\" => \"Term 1\",\"curriculum_items\" => Dict{String,Any}[Dict(\"curriculum_requisites\" => Dict{String,Any}[],\"name\" => \"MATH 125\",\"metrics\" => Dict{String,Any}(\"complexity\" => 34.0,\"centrality\" => 0,\"blocking factor\" => 26,\"delay factor\" => 8.0),\"nameSub\" => \"Calculus I w/ Applications\",\"id\" => 1,\"credits\" => 3,\"nameCanonical\" => \"\"), Dict(\"curriculum_requisites\" => Dict{String,Any}[],\"name\" => \"CHEM 151\",\"metrics\" => Dict{String,Any}(\"complexity\" => 21.0,\"centrality\" => 0,\"blocking factor\" => 13,\"delay factor\" => 8.0),\"nameSub\" => \"Gen Chemistry I\",\"id\" => 2,\"credits\" => 4,\"nameCanonical\" => \"\"), Dict(\"curriculum_requisites\" => Dict{String,Any}[],\"name\" => \"ENGL 101\",\"metrics\" => Dict{String,Any}(\"complexity\" => 3.0,\"centrality\" => 0,\"blocking factor\" => 1,\"delay factor\" => 2.0),\"nameSub\" => \"First-year Comp\",\"id\" => 3,\"credits\" => 3,\"nameCanonical\" => \"\"), Dict(\"curriculum_requisites\" => Dict{String,Any}[Dict(\"source_id\" => 1,\"target_id\" => 4,\"type\" => \"CurriculumCorequisite\")],\"name\" => \"ENGR 102\",\"metrics\" => Dict{String,Any}(\"complexity\" => 2.0,\"centrality\" => 0,\"blocking factor\" => 0,\"delay factor\" => 2.0),\"nameSub\" => \"Intro to Engineering\",\"id\" => 4,\"credits\" => 3,\"nameCanonical\" => \"\"), Dict(\"curriculum_requisites\" => Dict{String,Any}[],\"name\" => \" \",\"metrics\" => Dict{String,Any}(\"complexity\" => 1.0,\"centrality\" => 0,\"blocking factor\" => 0,\"delay factor\" => 1.0),\"nameSub\" => \"Tier I General Ed 1\",\"id\" => 5,\"credits\" => 3,\"nameCanonical\" => \"\")],\"id\" => 1), Dict(\"name\" => \"Term 2\",\"curriculum_items\" => Dict{String,Any}[Dict(\"curriculum_requisites\" => Dict{String,Any}[Dict(\"source_id\" => 1,\"target_id\" => 6,\"type\" => \"CurriculumPrerequisite\")],\"name\" => \"MATH 129\",\"metrics\" => Dict{String,Any}(\"complexity\" => 31.0,\"centrality\" => 333,\"blocking factor\" => 23,\"delay factor\" => 8.0),\"nameSub\" => \"Calculus II\",\"id\" => 6,\"credits\" => 3,\"nameCanonical\" => \"\"), Dict(\"curriculum_requisites\" => Dict{String,Any}[Dict(\"source_id\" => 2,\"target_id\" => 7,\"type\" => \"CurriculumPrerequisite\")],\"name\" => \"MSE 110\",\"metrics\" => Dict{String,Any}(\"complexity\" => 20.0,\"centrality\" => 103,\"blocking factor\" => 12,\"delay factor\" => 8.0),\"nameSub\" => \"Solid State Chem\",\"id\" => 7,\"credits\" => 3,\"nameCanonical\" => \"\"), Dict(\"curriculum_requisites\" => Dict{String,Any}[Dict(\"source_id\" => 1,\"target_id\" => 8,\"type\" => \"CurriculumPrerequisite\")],\"name\" => \"PHYS 141\",\"metrics\" => Dict{String,Any}(\"complexity\" => 24.0,\"centrality\" => 142,\"blocking factor\" => 16,\"delay factor\" => 8.0),\"nameSub\" => \"Intro Mechanics\",\"id\" => 8,\"credits\" => 4,\"nameCanonical\" => \"\"), Dict(\"curriculum_requisites\" => Dict{String,Any}[Dict(\"source_id\" => 3,\"target_id\" => 9,\"type\" => \"CurriculumPrerequisite\")],\"name\" => \"ENGL 102\",\"metrics\" => Dict{String,Any}(\"complexity\" => 2.0,\"centrality\" => 0,\"blocking factor\" => 0,\"delay factor\" => 2.0),\"nameSub\" => \"First-year Comp.\",\"id\" => 9,\"credits\" => 3,\"nameCanonical\" => \"\"), Dict(\"curriculum_requisites\" => Dict{String,Any}[],\"name\" => \" \",\"metrics\" => Dict{String,Any}(\"complexity\" => 1.0,\"centrality\" => 0,\"blocking factor\" => 0,\"delay factor\" => 1.0),\"nameSub\" => \"Tier I General Ed 2\",\"id\" => 10,\"credits\" => 3,\"nameCanonical\" => \"\")],\"id\" => 2), Dict(\"name\" => \"Term 3\",\"curriculum_items\" => Dict{String,Any}[Dict(\"curriculum_requisites\" => Dict{String,Any}[Dict(\"source_id\" => 7,\"target_id\" => 11,\"type\" => \"CurriculumPrerequisite\"), Dict(\"source_id\" => 8,\"target_id\" => 11,\"type\" => \"CurriculumPrerequisite\"), Dict(\"source_id\" => 6,\"target_id\" => 11,\"type\" => \"CurriculumPrerequisite\"), Dict(\"source_id\" => 1,\"target_id\" => 11,\"type\" => \"CurriculumPrerequisite\")],\"name\" => \"OPTI 201R\",\"metrics\" => Dict{String,Any}(\"complexity\" => 19.0,\"centrality\" => 396,\"blocking factor\" => 11,\"delay factor\" => 8.0),\"nameSub\" => \"Geometrical & Instrumental Optics I\",\"id\" => 11,\"credits\" => 3,\"nameCanonical\" => \"\"), Dict(\"curriculum_requisites\" => Dict{String,Any}[Dict(\"source_id\" => 11,\"target_id\" => 12,\"type\" => \"CurriculumStrictCorequisite\")],\"name\" => \"OPTI 201L\",\"metrics\" => Dict{String,Any}(\"complexity\" => 18.0,\"centrality\" => 166,\"blocking factor\" => 10,\"delay factor\" => 8.0),\"nameSub\" => \"Geometrical & Instrumental Optics I Lab\",\"id\" => 12,\"credits\" => 1,\"nameCanonical\" => \"\"), Dict(\"curriculum_requisites\" => Dict{String,Any}[Dict(\"source_id\" => 6,\"target_id\" => 13,\"type\" => \"CurriculumPrerequisite\")],\"name\" => \"MATH  223\",\"metrics\" => Dict{String,Any}(\"complexity\" => 23.0,\"centrality\" => 152,\"blocking factor\" => 15,\"delay factor\" => 8.0),\"nameSub\" => \"Vector Calculus\",\"id\" => 13,\"credits\" => 4,\"nameCanonical\" => \"\"), Dict(\"curriculum_requisites\" => Dict{String,Any}[Dict(\"source_id\" => 8,\"target_id\" => 14,\"type\" => \"CurriculumPrerequisite\"), Dict(\"source_id\" => 6,\"target_id\" => 14,\"type\" => \"CurriculumPrerequisite\")],\"name\" => \"PHYS 241\",\"metrics\" => Dict{String,Any}(\"complexity\" => 16.0,\"centrality\" => 78,\"blocking factor\" => 10,\"delay factor\" => 6.0),\"nameSub\" => \"Electricity & Magnetism\",\"id\" => 14,\"credits\" => 4,\"nameCanonical\" => \"\"), Dict(\"curriculum_requisites\" => Dict{String,Any}[],\"name\" => \" \",\"metrics\" => Dict{String,Any}(\"complexity\" => 1.0,\"centrality\" => 0,\"blocking factor\" => 0,\"delay factor\" => 1.0),\"nameSub\" => \"Tech Elective 1\",\"id\" => 15,\"credits\" => 3,\"nameCanonical\" => \"\"), Dict(\"curriculum_requisites\" => Dict{String,Any}[],\"name\" => \" \",\"metrics\" => Dict{String,Any}(\"complexity\" => 1.0,\"centrality\" => 0,\"blocking factor\" => 0,\"delay factor\" => 1.0),\"nameSub\" => \"Tier I General Ed 3\",\"id\" => 16,\"credits\" => 3,\"nameCanonical\" => \"\")],\"id\" => 3), Dict(\"name\" => \"Term 4\",\"curriculum_items\" => Dict{String,Any}[Dict(\"curriculum_requisites\" => Dict{String,Any}[Dict(\"source_id\" => 11,\"target_id\" => 17,\"type\" => \"CurriculumPrerequisite\"), Dict(\"source_id\" => 12,\"target_id\" => 17,\"type\" => \"CurriculumPrerequisite\")],\"name\" => \"OPTI 202R\",\"metrics\" => Dict{String,Any}(\"complexity\" => 15.0,\"centrality\" => 266,\"blocking factor\" => 7,\"delay factor\" => 8.0),\"nameSub\" => \"Geometrical & Instrumental Optics II\",\"id\" => 17,\"credits\" => 3,\"nameCanonical\" => \"\"), Dict(\"curriculum_requisites\" => Dict{String,Any}[Dict(\"source_id\" => 17,\"target_id\" => 18,\"type\" => \"CurriculumStrictCorequisite\")],\"name\" => \"OPTI 202L\",\"metrics\" => Dict{String,Any}(\"complexity\" => 6.0,\"centrality\" => 0,\"blocking factor\" => 0,\"delay factor\" => 6.0),\"nameSub\" => \"Geometrical & Instrumental Optics II Lab\",\"id\" => 18,\"credits\" => 1,\"nameCanonical\" => \"\"), Dict(\"curriculum_requisites\" => Dict{String,Any}[],\"name\" => \"OPTI 280\",\"metrics\" => Dict{String,Any}(\"complexity\" => 1.0,\"centrality\" => 0,\"blocking factor\" => 0,\"delay factor\" => 1.0),\"nameSub\" => \"Computer Programming\",\"id\" => 19,\"credits\" => 1,\"nameCanonical\" => \"\"), Dict(\"curriculum_requisites\" => Dict{String,Any}[Dict(\"source_id\" => 13,\"target_id\" => 20,\"type\" => \"CurriculumPrerequisite\")],\"name\" => \"OPTI 210\",\"metrics\" => Dict{String,Any}(\"complexity\" => 19.0,\"centrality\" => 113,\"blocking factor\" => 11,\"delay factor\" => 8.0),\"nameSub\" => \"Physical Optics I\",\"id\" => 20,\"credits\" => 3,\"nameCanonical\" => \"\"), Dict(\"curriculum_requisites\" => Dict{String,Any}[Dict(\"source_id\" => 6,\"target_id\" => 21,\"type\" => \"CurriculumPrerequisite\")],\"name\" => \"MATH 254\",\"metrics\" => Dict{String,Any}(\"complexity\" => 10.0,\"centrality\" => 10,\"blocking factor\" => 4,\"delay factor\" => 6.0),\"nameSub\" => \"Intro to ODEs\",\"id\" => 21,\"credits\" => 3,\"nameCanonical\" => \"\"), Dict(\"curriculum_requisites\" => Dict{String,Any}[],\"name\" => \" \",\"metrics\" => Dict{String,Any}(\"complexity\" => 1.0,\"centrality\" => 0,\"blocking factor\" => 0,\"delay factor\" => 1.0),\"nameSub\" => \"Tier I General Ed 4\",\"id\" => 22,\"credits\" => 3,\"nameCanonical\" => \"\"), Dict(\"curriculum_requisites\" => Dict{String,Any}[Dict(\"source_id\" => 14,\"target_id\" => 23,\"type\" => \"CurriculumPrerequisite\"), Dict(\"source_id\" => 6,\"target_id\" => 23,\"type\" => \"CurriculumPrerequisite\")],\"name\" => \"ECE 220\",\"metrics\" => Dict{String,Any}(\"complexity\" => 14.0,\"centrality\" => 99,\"blocking factor\" => 8,\"delay factor\" => 6.0),\"nameSub\" => \"Basic Circuits\",\"id\" => 23,\"credits\" => 5,\"nameCanonical\" => \"\")],\"id\" => 4), Dict(\"name\" => \"Term 5\",\"curriculum_items\" => Dict{String,Any}[Dict(\"curriculum_requisites\" => Dict{String,Any}[Dict(\"source_id\" => 14,\"target_id\" => 24,\"type\" => \"CurriculumPrerequisite\"), Dict(\"source_id\" => 13,\"target_id\" => 24,\"type\" => \"CurriculumPrerequisite\"), Dict(\"source_id\" => 21,\"target_id\" => 24,\"type\" => \"CurriculumCorequisite\")],\"name\" => \"OPTI 341\",\"metrics\" => Dict{String,Any}(\"complexity\" => 4.0,\"centrality\" => 0,\"blocking factor\" => 0,\"delay factor\" => 4.0),\"nameSub\" => \"Semiconduct Physics & Lasers\",\"id\" => 24,\"credits\" => 3,\"nameCanonical\" => \"\"), Dict(\"curriculum_requisites\" => Dict{String,Any}[Dict(\"source_id\" => 20,\"target_id\" => 25,\"type\" => \"CurriculumPrerequisite\")],\"name\" => \"OPTI 380A\",\"metrics\" => Dict{String,Any}(\"complexity\" => 16.0,\"centrality\" => 45,\"blocking factor\" => 8,\"delay factor\" => 8.0),\"nameSub\" => \"Intermed Optics Lab I\",\"id\" => 25,\"credits\" => 1,\"nameCanonical\" => \"\"), Dict(\"curriculum_requisites\" => Dict{String,Any}[Dict(\"source_id\" => 13,\"target_id\" => 26,\"type\" => \"CurriculumPrerequisite\"), Dict(\"source_id\" => 21,\"target_id\" => 26,\"type\" => \"CurriculumPrerequisite\")],\"name\" => \"MATH 322\",\"metrics\" => Dict{String,Any}(\"complexity\" => 8.0,\"centrality\" => 12,\"blocking factor\" => 2,\"delay factor\" => 6.0),\"nameSub\" => \"Math Analysis for Eng\",\"id\" => 26,\"credits\" => 3,\"nameCanonical\" => \"\"), Dict(\"curriculum_requisites\" => Dict{String,Any}[],\"name\" => \" \",\"metrics\" => Dict{String,Any}(\"complexity\" => 1.0,\"centrality\" => 0,\"blocking factor\" => 0,\"delay factor\" => 1.0),\"nameSub\" => \"Tech Elective 2\",\"id\" => 27,\"credits\" => 3,\"nameCanonical\" => \"\"), Dict(\"curriculum_requisites\" => Dict{String,Any}[Dict(\"source_id\" => 26,\"target_id\" => 28,\"type\" => \"CurriculumCorequisite\"), Dict(\"source_id\" => 23,\"target_id\" => 28,\"type\" => \"CurriculumCorequisite\"), Dict(\"source_id\" => 11,\"target_id\" => 28,\"type\" => \"CurriculumPrerequisite\"), Dict(\"source_id\" => 12,\"target_id\" => 28,\"type\" => \"CurriculumPrerequisite\")],\"name\" => \"OPTI 306\",\"metrics\" => Dict{String,Any}(\"complexity\" => 7.0,\"centrality\" => 71,\"blocking factor\" => 1,\"delay factor\" => 6.0),\"nameSub\" => \"Radiometry Sources and Detectors\",\"id\" => 28,\"credits\" => 3,\"nameCanonical\" => \"\"), Dict(\"curriculum_requisites\" => Dict{String,Any}[],\"name\" => \" \",\"metrics\" => Dict{String,Any}(\"complexity\" => 1.0,\"centrality\" => 0,\"blocking factor\" => 0,\"delay factor\" => 1.0),\"nameSub\" => \"Tier II General Ed 1\",\"id\" => 29,\"credits\" => 3,\"nameCanonical\" => \"\")],\"id\" => 5), Dict(\"name\" => \"Term 6\",\"curriculum_items\" => Dict{String,Any}[Dict(\"curriculum_requisites\" => Dict{String,Any}[Dict(\"source_id\" => 20,\"target_id\" => 30,\"type\" => \"CurriculumPrerequisite\")],\"name\" => \"OPTI 330\",\"metrics\" => Dict{String,Any}(\"complexity\" => 9.0,\"centrality\" => 7,\"blocking factor\" => 2,\"delay factor\" => 7.0),\"nameSub\" => \"Physical Optics II\",\"id\" => 30,\"credits\" => 3,\"nameCanonical\" => \"\"), Dict(\"curriculum_requisites\" => Dict{String,Any}[Dict(\"source_id\" => 17,\"target_id\" => 31,\"type\" => \"CurriculumPrerequisite\"), Dict(\"source_id\" => 11,\"target_id\" => 31,\"type\" => \"CurriculumPrerequisite\"), Dict(\"source_id\" => 20,\"target_id\" => 31,\"type\" => \"CurriculumPrerequisite\")],\"name\" => \"OPTI 340\",\"metrics\" => Dict{String,Any}(\"complexity\" => 13.0,\"centrality\" => 339,\"blocking factor\" => 5,\"delay factor\" => 8.0),\"nameSub\" => \"Optical Design\",\"id\" => 31,\"credits\" => 3,\"nameCanonical\" => \"\"), Dict(\"curriculum_requisites\" => Dict{String,Any}[Dict(\"source_id\" => 13,\"target_id\" => 32,\"type\" => \"CurriculumPrerequisite\"), Dict(\"source_id\" => 25,\"target_id\" => 32,\"type\" => \"CurriculumPrerequisite\"), Dict(\"source_id\" => 20,\"target_id\" => 32,\"type\" => \"CurriculumPrerequisite\")],\"name\" => \"OPTI 370\",\"metrics\" => Dict{String,Any}(\"complexity\" => 15.0,\"centrality\" => 102,\"blocking factor\" => 7,\"delay factor\" => 8.0),\"nameSub\" => \"Laser and Photonics\",\"id\" => 32,\"credits\" => 3,\"nameCanonical\" => \"\"), Dict(\"curriculum_requisites\" => Dict{String,Any}[Dict(\"source_id\" => 23,\"target_id\" => 33,\"type\" => \"CurriculumCorequisite\"), Dict(\"source_id\" => 31,\"target_id\" => 33,\"type\" => \"CurriculumCorequisite\"), Dict(\"source_id\" => 32,\"target_id\" => 33,\"type\" => \"CurriculumCorequisite\")],\"name\" => \"OPTI 380B\",\"metrics\" => Dict{String,Any}(\"complexity\" => 11.0,\"centrality\" => 378,\"blocking factor\" => 3,\"delay factor\" => 8.0),\"nameSub\" => \"Intermed Optics Lab II\",\"id\" => 33,\"credits\" => 1,\"nameCanonical\" => \"\"), Dict(\"curriculum_requisites\" => Dict{String,Any}[],\"name\" => \" \",\"metrics\" => Dict{String,Any}(\"complexity\" => 1.0,\"centrality\" => 0,\"blocking factor\" => 0,\"delay factor\" => 1.0),\"nameSub\" => \"Tech Elective 3\",\"id\" => 34,\"credits\" => 3,\"nameCanonical\" => \"\"), Dict(\"curriculum_requisites\" => Dict{String,Any}[],\"name\" => \" \",\"metrics\" => Dict{String,Any}(\"complexity\" => 1.0,\"centrality\" => 0,\"blocking factor\" => 0,\"delay factor\" => 1.0),\"nameSub\" => \"Tier II General Ed 2\",\"id\" => 35,\"credits\" => 3,\"nameCanonical\" => \"\")],\"id\" => 6), Dict(\"name\" => \"Term 7\",\"curriculum_items\" => Dict{String,Any}[Dict(\"curriculum_requisites\" => Dict{String,Any}[],\"name\" => \"ENGR 498A\",\"metrics\" => Dict{String,Any}(\"complexity\" => 1.0,\"centrality\" => 0,\"blocking factor\" => 0,\"delay factor\" => 1.0),\"nameSub\" => \"Cross-disciplinary Design\",\"id\" => 36,\"credits\" => 3,\"nameCanonical\" => \"\"), Dict(\"curriculum_requisites\" => Dict{String,Any}[],\"name\" => \" \",\"metrics\" => Dict{String,Any}(\"complexity\" => 1.0,\"centrality\" => 0,\"blocking factor\" => 0,\"delay factor\" => 1.0),\"nameSub\" => \"Tech Elective 4\",\"id\" => 37,\"credits\" => 3,\"nameCanonical\" => \"\"), Dict(\"curriculum_requisites\" => Dict{String,Any}[Dict(\"source_id\" => 23,\"target_id\" => 38,\"type\" => \"CurriculumPrerequisite\"), Dict(\"source_id\" => 25,\"target_id\" => 38,\"type\" => \"CurriculumPrerequisite\"), Dict(\"source_id\" => 33,\"target_id\" => 38,\"type\" => \"CurriculumPrerequisite\")],\"name\" => \"OPTI 430\",\"metrics\" => Dict{String,Any}(\"complexity\" => 8.0,\"centrality\" => 0,\"blocking factor\" => 0,\"delay factor\" => 8.0),\"nameSub\" => \"Optical Comm Sys\",\"id\" => 38,\"credits\" => 3,\"nameCanonical\" => \"\"), Dict(\"curriculum_requisites\" => Dict{String,Any}[Dict(\"source_id\" => 33,\"target_id\" => 39,\"type\" => \"CurriculumPrerequisite\")],\"name\" => \"OPTI 421\",\"metrics\" => Dict{String,Any}(\"complexity\" => 8.0,\"centrality\" => 0,\"blocking factor\" => 0,\"delay factor\" => 8.0),\"nameSub\" => \"Intro Optomechanical Eng\",\"id\" => 39,\"credits\" => 3,\"nameCanonical\" => \"\"), Dict(\"curriculum_requisites\" => Dict{String,Any}[Dict(\"source_id\" => 23,\"target_id\" => 40,\"type\" => \"CurriculumPrerequisite\"), Dict(\"source_id\" => 32,\"target_id\" => 40,\"type\" => \"CurriculumPrerequisite\"), Dict(\"source_id\" => 30,\"target_id\" => 40,\"type\" => \"CurriculumPrerequisite\")],\"name\" => \"OPTI 471A\",\"metrics\" => Dict{String,Any}(\"complexity\" => 9.0,\"centrality\" => 45,\"blocking factor\" => 1,\"delay factor\" => 8.0),\"nameSub\" => \"Adv Optics Lab\",\"id\" => 40,\"credits\" => 2,\"nameCanonical\" => \"\")],\"id\" => 7), Dict(\"name\" => \"Term 8\",\"curriculum_items\" => Dict{String,Any}[Dict(\"curriculum_requisites\" => Dict{String,Any}[Dict(\"source_id\" => 32,\"target_id\" => 41,\"type\" => \"CurriculumPrerequisite\"), Dict(\"source_id\" => 28,\"target_id\" => 41,\"type\" => \"CurriculumCorequisite\")],\"name\" => \"ENGR 498B\",\"metrics\" => Dict{String,Any}(\"complexity\" => 7.0,\"centrality\" => 0,\"blocking factor\" => 0,\"delay factor\" => 7.0),\"nameSub\" => \"Cross-disciplinary Design\",\"id\" => 41,\"credits\" => 3,\"nameCanonical\" => \"\"), Dict(\"curriculum_requisites\" => Dict{String,Any}[Dict(\"source_id\" => 33,\"target_id\" => 42,\"type\" => \"CurriculumPrerequisite\")],\"name\" => \"OPTI 415\",\"metrics\" => Dict{String,Any}(\"complexity\" => 8.0,\"centrality\" => 0,\"blocking factor\" => 0,\"delay factor\" => 8.0),\"nameSub\" => \"Optical Specs Fab and Testing\",\"id\" => 42,\"credits\" => 3,\"nameCanonical\" => \"\"), Dict(\"curriculum_requisites\" => Dict{String,Any}[Dict(\"source_id\" => 31,\"target_id\" => 43,\"type\" => \"CurriculumPrerequisite\"), Dict(\"source_id\" => 40,\"target_id\" => 43,\"type\" => \"CurriculumPrerequisite\")],\"name\" => \"OPTI 471B\",\"metrics\" => Dict{String,Any}(\"complexity\" => 8.0,\"centrality\" => 0,\"blocking factor\" => 0,\"delay factor\" => 8.0),\"nameSub\" => \"Adv Optics Lab\",\"id\" => 43,\"credits\" => 2,\"nameCanonical\" => \"\"), Dict(\"curriculum_requisites\" => Dict{String,Any}[],\"name\" => \" \",\"metrics\" => Dict{String,Any}(\"complexity\" => 1.0,\"centrality\" => 0,\"blocking factor\" => 0,\"delay factor\" => 1.0),\"nameSub\" => \"Tech Elective 5\",\"id\" => 44,\"credits\" => 3,\"nameCanonical\" => \"\"), Dict(\"curriculum_requisites\" => Dict{String,Any}[],\"name\" => \" \",\"metrics\" => Dict{String,Any}(\"complexity\" => 1.0,\"centrality\" => 0,\"blocking factor\" => 0,\"delay factor\" => 1.0),\"nameSub\" => \"Tech Elective 6\",\"id\" => 45,\"credits\" => 3,\"nameCanonical\" => \"\")],\"id\" => 8)],\"institution\" => \"University of Arizona\")), nothing)), Set(String[]), nothing, WebIO.Asset[], Dict{Any,Any}(), WebIO.ConnectionPool(Channel{Any}(sz_max:32,sz_curr:0), Set(WebIO.AbstractConnection[]), Base.GenericCondition{Base.AlwaysLockedST}(Base.InvasiveLinkedList{Task}(Task (runnable) @0x00000001270a4010, Task (runnable) @0x00000001270a4010), Base.AlwaysLockedST(1))), WebIO.JSString[])"
      ]
     },
     "execution_count": 6,
     "metadata": {
      "application/vnd.webio.node+json": {
       "kernelId": "cb1d93c4-93e7-42e6-bb7b-5ba5ac413b8d"
      }
     },
     "output_type": "execute_result"
    }
   ],
   "source": [
    "OE_plan = plans[\"Optical Engineering\"]\n",
    "visualize(OE_plan, notebook=true)"
   ]
  },
  {
   "cell_type": "code",
   "execution_count": 7,
   "metadata": {
    "scrolled": false
   },
   "outputs": [
    {
     "data": {
      "application/vnd.webio.node+json": {
       "children": [
        {
         "children": [
          ""
         ],
         "instanceArgs": {
          "namespace": "html",
          "tag": "iframe"
         },
         "nodeType": "DOM",
         "props": {
          "events": {
           "load": "(function (){this.contentWindow.postMessage({\"options\":{\"hideTerms\":false,\"edit\":false},\"curriculum\":{\"name\":\"Computer Engineering\",\"dp_name\":\"2019-20 Degree Plan\",\"curriculum_terms\":[{\"name\":\"Term 1\",\"curriculum_items\":[{\"curriculum_requisites\":[],\"name\":\"MATH 125\",\"metrics\":{\"complexity\":29.0,\"centrality\":0,\"blocking factor\":21,\"delay factor\":8.0},\"nameSub\":\"Calculus I w/ Applications\",\"id\":1,\"credits\":3,\"nameCanonical\":\"\"},{\"curriculum_requisites\":[],\"name\":\"CHEM 151\",\"metrics\":{\"complexity\":1.0,\"centrality\":0,\"blocking factor\":0,\"delay factor\":1.0},\"nameSub\":\"Gen Chemistry I\",\"id\":2,\"credits\":4,\"nameCanonical\":\"\"},{\"curriculum_requisites\":[],\"name\":\"ENGL 101\",\"metrics\":{\"complexity\":3.0,\"centrality\":0,\"blocking factor\":1,\"delay factor\":2.0},\"nameSub\":\"First-year Comp.\",\"id\":3,\"credits\":3,\"nameCanonical\":\"\"},{\"curriculum_requisites\":[{\"source_id\":1,\"target_id\":4,\"type\":\"CurriculumCorequisite\"}],\"name\":\"ENGR 102\",\"metrics\":{\"complexity\":2.0,\"centrality\":0,\"blocking factor\":0,\"delay factor\":2.0},\"nameSub\":\"Intro to Engineering\",\"id\":4,\"credits\":3,\"nameCanonical\":\"\"},{\"curriculum_requisites\":[],\"name\":\" \",\"metrics\":{\"complexity\":1.0,\"centrality\":0,\"blocking factor\":0,\"delay factor\":1.0},\"nameSub\":\"Tier I General Ed.\",\"id\":5,\"credits\":3,\"nameCanonical\":\"\"}],\"id\":1},{\"name\":\"Term 2\",\"curriculum_items\":[{\"curriculum_requisites\":[{\"source_id\":1,\"target_id\":6,\"type\":\"CurriculumPrerequisite\"}],\"name\":\"MATH 129\",\"metrics\":{\"complexity\":22.0,\"centrality\":103,\"blocking factor\":14,\"delay factor\":8.0},\"nameSub\":\"Calculus II\",\"id\":6,\"credits\":3,\"nameCanonical\":\"\"},{\"curriculum_requisites\":[{\"source_id\":1,\"target_id\":7,\"type\":\"CurriculumCorequisite\"}],\"name\":\"ECE 175\",\"metrics\":{\"complexity\":10.0,\"centrality\":22,\"blocking factor\":6,\"delay factor\":4.0},\"nameSub\":\"Programming for Eng. Apps.\",\"id\":7,\"credits\":3,\"nameCanonical\":\"\"},{\"curriculum_requisites\":[{\"source_id\":1,\"target_id\":8,\"type\":\"CurriculumPrerequisite\"}],\"name\":\"PHYS 141\",\"metrics\":{\"complexity\":17.0,\"centrality\":36,\"blocking factor\":9,\"delay factor\":8.0},\"nameSub\":\"Intro Mechanics\",\"id\":8,\"credits\":4,\"nameCanonical\":\"\"},{\"curriculum_requisites\":[{\"source_id\":3,\"target_id\":9,\"type\":\"CurriculumPrerequisite\"}],\"name\":\"ENGL 102\",\"metrics\":{\"complexity\":2.0,\"centrality\":0,\"blocking factor\":0,\"delay factor\":2.0},\"nameSub\":\"First-year Comp.\",\"id\":9,\"credits\":3,\"nameCanonical\":\"\"},{\"curriculum_requisites\":[],\"name\":\" \",\"metrics\":{\"complexity\":1.0,\"centrality\":0,\"blocking factor\":0,\"delay factor\":1.0},\"nameSub\":\"Tier I General Ed.\",\"id\":10,\"credits\":3,\"nameCanonical\":\"\"}],\"id\":2},{\"name\":\"Term 3\",\"curriculum_items\":[{\"curriculum_requisites\":[{\"source_id\":7,\"target_id\":11,\"type\":\"CurriculumPrerequisite\"},{\"source_id\":6,\"target_id\":11,\"type\":\"CurriculumCorequisite\"}],\"name\":\"ECE 274A\",\"metrics\":{\"complexity\":6.0,\"centrality\":16,\"blocking factor\":2,\"delay factor\":4.0},\"nameSub\":\"Digital Logic\",\"id\":11,\"credits\":4,\"nameCanonical\":\"\"},{\"curriculum_requisites\":[{\"source_id\":7,\"target_id\":12,\"type\":\"CurriculumPrerequisite\"}],\"name\":\"ECE 275\",\"metrics\":{\"complexity\":6.0,\"centrality\":8,\"blocking factor\":2,\"delay factor\":4.0},\"nameSub\":\"Programming for Eng. Apps. II\",\"id\":12,\"credits\":3,\"nameCanonical\":\"\"},{\"curriculum_requisites\":[{\"source_id\":6,\"target_id\":13,\"type\":\"CurriculumPrerequisite\"}],\"name\":\"MATH  223\",\"metrics\":{\"complexity\":3.0,\"centrality\":0,\"blocking factor\":0,\"delay factor\":3.0},\"nameSub\":\"Vector Calculus\",\"id\":13,\"credits\":4,\"nameCanonical\":\"\"},{\"curriculum_requisites\":[{\"source_id\":8,\"target_id\":14,\"type\":\"CurriculumPrerequisite\"},{\"source_id\":6,\"target_id\":14,\"type\":\"CurriculumPrerequisite\"}],\"name\":\"PHYS 241\",\"metrics\":{\"complexity\":15.0,\"centrality\":66,\"blocking factor\":7,\"delay factor\":8.0},\"nameSub\":\"Electricity & Magnetism\",\"id\":14,\"credits\":4,\"nameCanonical\":\"\"},{\"curriculum_requisites\":[],\"name\":\" \",\"metrics\":{\"complexity\":1.0,\"centrality\":0,\"blocking factor\":0,\"delay factor\":1.0},\"nameSub\":\"Tier I General Ed.\",\"id\":15,\"credits\":3,\"nameCanonical\":\"\"}],\"id\":3},{\"name\":\"Term 4\",\"curriculum_items\":[{\"curriculum_requisites\":[{\"source_id\":14,\"target_id\":16,\"type\":\"CurriculumPrerequisite\"},{\"source_id\":6,\"target_id\":16,\"type\":\"CurriculumPrerequisite\"}],\"name\":\"ECE 220\",\"metrics\":{\"complexity\":14.0,\"centrality\":94,\"blocking factor\":6,\"delay factor\":8.0},\"nameSub\":\"Basic Circuits\",\"id\":16,\"credits\":5,\"nameCanonical\":\"\"},{\"curriculum_requisites\":[{\"source_id\":8,\"target_id\":17,\"type\":\"CurriculumPrerequisite\"},{\"source_id\":6,\"target_id\":17,\"type\":\"CurriculumPrerequisite\"}],\"name\":\"PHYS 143\",\"metrics\":{\"complexity\":3.0,\"centrality\":0,\"blocking factor\":0,\"delay factor\":3.0},\"nameSub\":\"Intro Optics and Thermo \",\"id\":17,\"credits\":2,\"nameCanonical\":\"\"},{\"curriculum_requisites\":[{\"source_id\":1,\"target_id\":18,\"type\":\"CurriculumPrerequisite\"}],\"name\":\"MATH 243\",\"metrics\":{\"complexity\":2.0,\"centrality\":0,\"blocking factor\":0,\"delay factor\":2.0},\"nameSub\":\"Discrete Math\",\"id\":18,\"credits\":3,\"nameCanonical\":\"\"},{\"curriculum_requisites\":[{\"source_id\":6,\"target_id\":19,\"type\":\"CurriculumPrerequisite\"}],\"name\":\"MATH 254\",\"metrics\":{\"complexity\":13.0,\"centrality\":28,\"blocking factor\":6,\"delay factor\":7.0},\"nameSub\":\"Intro to ODEs\",\"id\":19,\"credits\":3,\"nameCanonical\":\"\"},{\"curriculum_requisites\":[],\"name\":\" \",\"metrics\":{\"complexity\":1.0,\"centrality\":0,\"blocking factor\":0,\"delay factor\":1.0},\"nameSub\":\"Tier II General Ed.\",\"id\":20,\"credits\":3,\"nameCanonical\":\"\"}],\"id\":4},{\"name\":\"Term 5\",\"curriculum_items\":[{\"curriculum_requisites\":[{\"source_id\":7,\"target_id\":21,\"type\":\"CurriculumPrerequisite\"},{\"source_id\":19,\"target_id\":21,\"type\":\"CurriculumPrerequisite\"}],\"name\":\"ECE 310\",\"metrics\":{\"complexity\":4.0,\"centrality\":0,\"blocking factor\":0,\"delay factor\":4.0},\"nameSub\":\"Eng Math\",\"id\":21,\"credits\":4,\"nameCanonical\":\"\"},{\"curriculum_requisites\":[{\"source_id\":7,\"target_id\":22,\"type\":\"CurriculumPrerequisite\"},{\"source_id\":11,\"target_id\":22,\"type\":\"CurriculumPrerequisite\"}],\"name\":\"ECE 369A\",\"metrics\":{\"complexity\":4.0,\"centrality\":0,\"blocking factor\":0,\"delay factor\":4.0},\"nameSub\":\"Fundamentals of Computer Org\",\"id\":22,\"credits\":4,\"nameCanonical\":\"\"},{\"curriculum_requisites\":[{\"source_id\":19,\"target_id\":23,\"type\":\"CurriculumPrerequisite\"},{\"source_id\":16,\"target_id\":23,\"type\":\"CurriculumPrerequisite\"}],\"name\":\"ECE 320A\",\"metrics\":{\"complexity\":12.0,\"centrality\":104,\"blocking factor\":4,\"delay factor\":8.0},\"nameSub\":\"Circuit Theory\",\"id\":23,\"credits\":3,\"nameCanonical\":\"\"},{\"curriculum_requisites\":[{\"source_id\":12,\"target_id\":25,\"type\":\"CurriculumPrerequisite\"}],\"name\":\"ECE 373\",\"metrics\":{\"complexity\":4.0,\"centrality\":0,\"blocking factor\":0,\"delay factor\":4.0},\"nameSub\":\"OO Software Design\",\"id\":25,\"credits\":3,\"nameCanonical\":\"\"},{\"curriculum_requisites\":[],\"name\":\"ECE 311\",\"metrics\":{\"complexity\":1.0,\"centrality\":0,\"blocking factor\":0,\"delay factor\":1.0},\"nameSub\":\"Eng Ethics\",\"id\":26,\"credits\":1,\"nameCanonical\":\"\"}],\"id\":5},{\"name\":\"Term 6\",\"curriculum_items\":[{\"curriculum_requisites\":[],\"name\":\" \",\"metrics\":{\"complexity\":1.0,\"centrality\":0,\"blocking factor\":0,\"delay factor\":1.0},\"nameSub\":\"Technical Elective\",\"id\":27,\"credits\":3,\"nameCanonical\":\"\"},{\"curriculum_requisites\":[{\"source_id\":23,\"target_id\":24,\"type\":\"CurriculumPrerequisite\"}],\"name\":\"ECE 340A\",\"metrics\":{\"complexity\":6.0,\"centrality\":0,\"blocking factor\":0,\"delay factor\":6.0},\"nameSub\":\"Intro to Comm\",\"id\":24,\"credits\":3,\"nameCanonical\":\"\"},{\"curriculum_requisites\":[{\"source_id\":23,\"target_id\":28,\"type\":\"CurriculumPrerequisite\"}],\"name\":\"ECE 351C\",\"metrics\":{\"complexity\":10.0,\"centrality\":56,\"blocking factor\":2,\"delay factor\":8.0},\"nameSub\":\"Electronic Circuits\",\"id\":28,\"credits\":4,\"nameCanonical\":\"\"},{\"curriculum_requisites\":[{\"source_id\":16,\"target_id\":29,\"type\":\"CurriculumPrerequisite\"},{\"source_id\":11,\"target_id\":29,\"type\":\"CurriculumPrerequisite\"},{\"source_id\":12,\"target_id\":29,\"type\":\"CurriculumCorequisite\"}],\"name\":\"ECE 372A\",\"metrics\":{\"complexity\":5.0,\"centrality\":0,\"blocking factor\":0,\"delay factor\":5.0},\"nameSub\":\"uProcessor Org\",\"id\":29,\"credits\":4,\"nameCanonical\":\"\"},{\"curriculum_requisites\":[],\"name\":\" \",\"metrics\":{\"complexity\":1.0,\"centrality\":0,\"blocking factor\":0,\"delay factor\":1.0},\"nameSub\":\"Tier I General Ed.\",\"id\":30,\"credits\":3,\"nameCanonical\":\"\"}],\"id\":6},{\"name\":\"Term 7\",\"curriculum_items\":[{\"curriculum_requisites\":[{\"source_id\":23,\"target_id\":31,\"type\":\"CurriculumPrerequisite\"},{\"source_id\":28,\"target_id\":31,\"type\":\"CurriculumCorequisite\"}],\"name\":\"ENGR 498A\",\"metrics\":{\"complexity\":9.0,\"centrality\":56,\"blocking factor\":1,\"delay factor\":8.0},\"nameSub\":\"Cross-disciplinary Design\",\"id\":31,\"credits\":3,\"nameCanonical\":\"\"},{\"curriculum_requisites\":[],\"name\":\" \",\"metrics\":{\"complexity\":1.0,\"centrality\":0,\"blocking factor\":0,\"delay factor\":1.0},\"nameSub\":\"Required Computer Course\",\"id\":32,\"credits\":3,\"nameCanonical\":\"\"},{\"curriculum_requisites\":[],\"name\":\" \",\"metrics\":{\"complexity\":1.0,\"centrality\":0,\"blocking factor\":0,\"delay factor\":1.0},\"nameSub\":\"Technical Elective\",\"id\":33,\"credits\":3,\"nameCanonical\":\"\"},{\"curriculum_requisites\":[],\"name\":\" \",\"metrics\":{\"complexity\":1.0,\"centrality\":0,\"blocking factor\":0,\"delay factor\":1.0},\"nameSub\":\"Technical Elective\",\"id\":34,\"credits\":3,\"nameCanonical\":\"\"},{\"curriculum_requisites\":[],\"name\":\" \",\"metrics\":{\"complexity\":1.0,\"centrality\":0,\"blocking factor\":0,\"delay factor\":1.0},\"nameSub\":\"Technical Elective\",\"id\":35,\"credits\":3,\"nameCanonical\":\"\"}],\"id\":7},{\"name\":\"Term 8\",\"curriculum_items\":[{\"curriculum_requisites\":[{\"source_id\":31,\"target_id\":36,\"type\":\"CurriculumPrerequisite\"},{\"source_id\":28,\"target_id\":36,\"type\":\"CurriculumPrerequisite\"}],\"name\":\"ENGR 498B\",\"metrics\":{\"complexity\":8.0,\"centrality\":0,\"blocking factor\":0,\"delay factor\":8.0},\"nameSub\":\"Cross-disciplinary Design\",\"id\":36,\"credits\":3,\"nameCanonical\":\"\"},{\"curriculum_requisites\":[],\"name\":\" \",\"metrics\":{\"complexity\":1.0,\"centrality\":0,\"blocking factor\":0,\"delay factor\":1.0},\"nameSub\":\"Technical Elective\",\"id\":37,\"credits\":3,\"nameCanonical\":\"\"},{\"curriculum_requisites\":[],\"name\":\" \",\"metrics\":{\"complexity\":1.0,\"centrality\":0,\"blocking factor\":0,\"delay factor\":1.0},\"nameSub\":\"Technical Elective\",\"id\":38,\"credits\":3,\"nameCanonical\":\"\"},{\"curriculum_requisites\":[],\"name\":\" \",\"metrics\":{\"complexity\":1.0,\"centrality\":0,\"blocking factor\":0,\"delay factor\":1.0},\"nameSub\":\"Technical Elective\",\"id\":39,\"credits\":3,\"nameCanonical\":\"\"},{\"curriculum_requisites\":[],\"name\":\" \",\"metrics\":{\"complexity\":1.0,\"centrality\":0,\"blocking factor\":0,\"delay factor\":1.0},\"nameSub\":\"Tier II General Ed.\",\"id\":40,\"credits\":3,\"nameCanonical\":\"\"}],\"id\":8}],\"institution\":\"University of Arizona\"}},\"*\"); window.removeEventListener(\"message\",window.messageReceived); window.messageReceived=(function (event){return (event.data.curriculum!==undefined) ? (WebIO.setval({\"name\":\"curriculum-data\",\"scope\":\"9604153001855854033\",\"id\":\"ob_03\",\"type\":\"observable\"},event.data.curriculum)) : undefined}); return window.addEventListener(\"message\",window.messageReceived)})"
          },
          "id": "curriculum",
          "src": "http://localhost:8156",
          "style": {
           "border": "none",
           "height": "100vh",
           "margin": "0",
           "padding": "0",
           "width": "100%"
          }
         },
         "type": "node"
        }
       ],
       "instanceArgs": {
        "handlers": {},
        "id": "9604153001855854033",
        "imports": {
         "data": [],
         "type": "async_block"
        },
        "mount_callbacks": [],
        "observables": {
         "curriculum-data": {
          "id": "ob_03",
          "sync": true,
          "value": {
           "curriculum": {
            "curriculum_terms": [
             {
              "curriculum_items": [
               {
                "credits": 3,
                "curriculum_requisites": [],
                "id": 1,
                "metrics": {
                 "blocking factor": 21,
                 "centrality": 0,
                 "complexity": 29,
                 "delay factor": 8
                },
                "name": "MATH 125",
                "nameCanonical": "",
                "nameSub": "Calculus I w/ Applications"
               },
               {
                "credits": 4,
                "curriculum_requisites": [],
                "id": 2,
                "metrics": {
                 "blocking factor": 0,
                 "centrality": 0,
                 "complexity": 1,
                 "delay factor": 1
                },
                "name": "CHEM 151",
                "nameCanonical": "",
                "nameSub": "Gen Chemistry I"
               },
               {
                "credits": 3,
                "curriculum_requisites": [],
                "id": 3,
                "metrics": {
                 "blocking factor": 1,
                 "centrality": 0,
                 "complexity": 3,
                 "delay factor": 2
                },
                "name": "ENGL 101",
                "nameCanonical": "",
                "nameSub": "First-year Comp."
               },
               {
                "credits": 3,
                "curriculum_requisites": [
                 {
                  "source_id": 1,
                  "target_id": 4,
                  "type": "CurriculumCorequisite"
                 }
                ],
                "id": 4,
                "metrics": {
                 "blocking factor": 0,
                 "centrality": 0,
                 "complexity": 2,
                 "delay factor": 2
                },
                "name": "ENGR 102",
                "nameCanonical": "",
                "nameSub": "Intro to Engineering"
               },
               {
                "credits": 3,
                "curriculum_requisites": [],
                "id": 5,
                "metrics": {
                 "blocking factor": 0,
                 "centrality": 0,
                 "complexity": 1,
                 "delay factor": 1
                },
                "name": " ",
                "nameCanonical": "",
                "nameSub": "Tier I General Ed."
               }
              ],
              "id": 1,
              "name": "Term 1"
             },
             {
              "curriculum_items": [
               {
                "credits": 3,
                "curriculum_requisites": [
                 {
                  "source_id": 1,
                  "target_id": 6,
                  "type": "CurriculumPrerequisite"
                 }
                ],
                "id": 6,
                "metrics": {
                 "blocking factor": 14,
                 "centrality": 103,
                 "complexity": 22,
                 "delay factor": 8
                },
                "name": "MATH 129",
                "nameCanonical": "",
                "nameSub": "Calculus II"
               },
               {
                "credits": 3,
                "curriculum_requisites": [
                 {
                  "source_id": 1,
                  "target_id": 7,
                  "type": "CurriculumCorequisite"
                 }
                ],
                "id": 7,
                "metrics": {
                 "blocking factor": 6,
                 "centrality": 22,
                 "complexity": 10,
                 "delay factor": 4
                },
                "name": "ECE 175",
                "nameCanonical": "",
                "nameSub": "Programming for Eng. Apps."
               },
               {
                "credits": 4,
                "curriculum_requisites": [
                 {
                  "source_id": 1,
                  "target_id": 8,
                  "type": "CurriculumPrerequisite"
                 }
                ],
                "id": 8,
                "metrics": {
                 "blocking factor": 9,
                 "centrality": 36,
                 "complexity": 17,
                 "delay factor": 8
                },
                "name": "PHYS 141",
                "nameCanonical": "",
                "nameSub": "Intro Mechanics"
               },
               {
                "credits": 3,
                "curriculum_requisites": [
                 {
                  "source_id": 3,
                  "target_id": 9,
                  "type": "CurriculumPrerequisite"
                 }
                ],
                "id": 9,
                "metrics": {
                 "blocking factor": 0,
                 "centrality": 0,
                 "complexity": 2,
                 "delay factor": 2
                },
                "name": "ENGL 102",
                "nameCanonical": "",
                "nameSub": "First-year Comp."
               },
               {
                "credits": 3,
                "curriculum_requisites": [],
                "id": 10,
                "metrics": {
                 "blocking factor": 0,
                 "centrality": 0,
                 "complexity": 1,
                 "delay factor": 1
                },
                "name": " ",
                "nameCanonical": "",
                "nameSub": "Tier I General Ed."
               }
              ],
              "id": 2,
              "name": "Term 2"
             },
             {
              "curriculum_items": [
               {
                "credits": 4,
                "curriculum_requisites": [
                 {
                  "source_id": 7,
                  "target_id": 11,
                  "type": "CurriculumPrerequisite"
                 },
                 {
                  "source_id": 6,
                  "target_id": 11,
                  "type": "CurriculumCorequisite"
                 }
                ],
                "id": 11,
                "metrics": {
                 "blocking factor": 2,
                 "centrality": 16,
                 "complexity": 6,
                 "delay factor": 4
                },
                "name": "ECE 274A",
                "nameCanonical": "",
                "nameSub": "Digital Logic"
               },
               {
                "credits": 3,
                "curriculum_requisites": [
                 {
                  "source_id": 7,
                  "target_id": 12,
                  "type": "CurriculumPrerequisite"
                 }
                ],
                "id": 12,
                "metrics": {
                 "blocking factor": 2,
                 "centrality": 8,
                 "complexity": 6,
                 "delay factor": 4
                },
                "name": "ECE 275",
                "nameCanonical": "",
                "nameSub": "Programming for Eng. Apps. II"
               },
               {
                "credits": 4,
                "curriculum_requisites": [
                 {
                  "source_id": 6,
                  "target_id": 13,
                  "type": "CurriculumPrerequisite"
                 }
                ],
                "id": 13,
                "metrics": {
                 "blocking factor": 0,
                 "centrality": 0,
                 "complexity": 3,
                 "delay factor": 3
                },
                "name": "MATH  223",
                "nameCanonical": "",
                "nameSub": "Vector Calculus"
               },
               {
                "credits": 4,
                "curriculum_requisites": [
                 {
                  "source_id": 8,
                  "target_id": 14,
                  "type": "CurriculumPrerequisite"
                 },
                 {
                  "source_id": 6,
                  "target_id": 14,
                  "type": "CurriculumPrerequisite"
                 }
                ],
                "id": 14,
                "metrics": {
                 "blocking factor": 7,
                 "centrality": 66,
                 "complexity": 15,
                 "delay factor": 8
                },
                "name": "PHYS 241",
                "nameCanonical": "",
                "nameSub": "Electricity & Magnetism"
               },
               {
                "credits": 3,
                "curriculum_requisites": [],
                "id": 15,
                "metrics": {
                 "blocking factor": 0,
                 "centrality": 0,
                 "complexity": 1,
                 "delay factor": 1
                },
                "name": " ",
                "nameCanonical": "",
                "nameSub": "Tier I General Ed."
               }
              ],
              "id": 3,
              "name": "Term 3"
             },
             {
              "curriculum_items": [
               {
                "credits": 5,
                "curriculum_requisites": [
                 {
                  "source_id": 14,
                  "target_id": 16,
                  "type": "CurriculumPrerequisite"
                 },
                 {
                  "source_id": 6,
                  "target_id": 16,
                  "type": "CurriculumPrerequisite"
                 }
                ],
                "id": 16,
                "metrics": {
                 "blocking factor": 6,
                 "centrality": 94,
                 "complexity": 14,
                 "delay factor": 8
                },
                "name": "ECE 220",
                "nameCanonical": "",
                "nameSub": "Basic Circuits"
               },
               {
                "credits": 2,
                "curriculum_requisites": [
                 {
                  "source_id": 8,
                  "target_id": 17,
                  "type": "CurriculumPrerequisite"
                 },
                 {
                  "source_id": 6,
                  "target_id": 17,
                  "type": "CurriculumPrerequisite"
                 }
                ],
                "id": 17,
                "metrics": {
                 "blocking factor": 0,
                 "centrality": 0,
                 "complexity": 3,
                 "delay factor": 3
                },
                "name": "PHYS 143",
                "nameCanonical": "",
                "nameSub": "Intro Optics and Thermo "
               },
               {
                "credits": 3,
                "curriculum_requisites": [
                 {
                  "source_id": 1,
                  "target_id": 18,
                  "type": "CurriculumPrerequisite"
                 }
                ],
                "id": 18,
                "metrics": {
                 "blocking factor": 0,
                 "centrality": 0,
                 "complexity": 2,
                 "delay factor": 2
                },
                "name": "MATH 243",
                "nameCanonical": "",
                "nameSub": "Discrete Math"
               },
               {
                "credits": 3,
                "curriculum_requisites": [
                 {
                  "source_id": 6,
                  "target_id": 19,
                  "type": "CurriculumPrerequisite"
                 }
                ],
                "id": 19,
                "metrics": {
                 "blocking factor": 6,
                 "centrality": 28,
                 "complexity": 13,
                 "delay factor": 7
                },
                "name": "MATH 254",
                "nameCanonical": "",
                "nameSub": "Intro to ODEs"
               },
               {
                "credits": 3,
                "curriculum_requisites": [],
                "id": 20,
                "metrics": {
                 "blocking factor": 0,
                 "centrality": 0,
                 "complexity": 1,
                 "delay factor": 1
                },
                "name": " ",
                "nameCanonical": "",
                "nameSub": "Tier II General Ed."
               }
              ],
              "id": 4,
              "name": "Term 4"
             },
             {
              "curriculum_items": [
               {
                "credits": 4,
                "curriculum_requisites": [
                 {
                  "source_id": 7,
                  "target_id": 21,
                  "type": "CurriculumPrerequisite"
                 },
                 {
                  "source_id": 19,
                  "target_id": 21,
                  "type": "CurriculumPrerequisite"
                 }
                ],
                "id": 21,
                "metrics": {
                 "blocking factor": 0,
                 "centrality": 0,
                 "complexity": 4,
                 "delay factor": 4
                },
                "name": "ECE 310",
                "nameCanonical": "",
                "nameSub": "Eng Math"
               },
               {
                "credits": 4,
                "curriculum_requisites": [
                 {
                  "source_id": 7,
                  "target_id": 22,
                  "type": "CurriculumPrerequisite"
                 },
                 {
                  "source_id": 11,
                  "target_id": 22,
                  "type": "CurriculumPrerequisite"
                 }
                ],
                "id": 22,
                "metrics": {
                 "blocking factor": 0,
                 "centrality": 0,
                 "complexity": 4,
                 "delay factor": 4
                },
                "name": "ECE 369A",
                "nameCanonical": "",
                "nameSub": "Fundamentals of Computer Org"
               },
               {
                "credits": 3,
                "curriculum_requisites": [
                 {
                  "source_id": 19,
                  "target_id": 23,
                  "type": "CurriculumPrerequisite"
                 },
                 {
                  "source_id": 16,
                  "target_id": 23,
                  "type": "CurriculumPrerequisite"
                 }
                ],
                "id": 23,
                "metrics": {
                 "blocking factor": 4,
                 "centrality": 104,
                 "complexity": 12,
                 "delay factor": 8
                },
                "name": "ECE 320A",
                "nameCanonical": "",
                "nameSub": "Circuit Theory"
               },
               {
                "credits": 3,
                "curriculum_requisites": [
                 {
                  "source_id": 12,
                  "target_id": 25,
                  "type": "CurriculumPrerequisite"
                 }
                ],
                "id": 25,
                "metrics": {
                 "blocking factor": 0,
                 "centrality": 0,
                 "complexity": 4,
                 "delay factor": 4
                },
                "name": "ECE 373",
                "nameCanonical": "",
                "nameSub": "OO Software Design"
               },
               {
                "credits": 1,
                "curriculum_requisites": [],
                "id": 26,
                "metrics": {
                 "blocking factor": 0,
                 "centrality": 0,
                 "complexity": 1,
                 "delay factor": 1
                },
                "name": "ECE 311",
                "nameCanonical": "",
                "nameSub": "Eng Ethics"
               }
              ],
              "id": 5,
              "name": "Term 5"
             },
             {
              "curriculum_items": [
               {
                "credits": 3,
                "curriculum_requisites": [],
                "id": 27,
                "metrics": {
                 "blocking factor": 0,
                 "centrality": 0,
                 "complexity": 1,
                 "delay factor": 1
                },
                "name": " ",
                "nameCanonical": "",
                "nameSub": "Technical Elective"
               },
               {
                "credits": 3,
                "curriculum_requisites": [
                 {
                  "source_id": 23,
                  "target_id": 24,
                  "type": "CurriculumPrerequisite"
                 }
                ],
                "id": 24,
                "metrics": {
                 "blocking factor": 0,
                 "centrality": 0,
                 "complexity": 6,
                 "delay factor": 6
                },
                "name": "ECE 340A",
                "nameCanonical": "",
                "nameSub": "Intro to Comm"
               },
               {
                "credits": 4,
                "curriculum_requisites": [
                 {
                  "source_id": 23,
                  "target_id": 28,
                  "type": "CurriculumPrerequisite"
                 }
                ],
                "id": 28,
                "metrics": {
                 "blocking factor": 2,
                 "centrality": 56,
                 "complexity": 10,
                 "delay factor": 8
                },
                "name": "ECE 351C",
                "nameCanonical": "",
                "nameSub": "Electronic Circuits"
               },
               {
                "credits": 4,
                "curriculum_requisites": [
                 {
                  "source_id": 16,
                  "target_id": 29,
                  "type": "CurriculumPrerequisite"
                 },
                 {
                  "source_id": 11,
                  "target_id": 29,
                  "type": "CurriculumPrerequisite"
                 },
                 {
                  "source_id": 12,
                  "target_id": 29,
                  "type": "CurriculumCorequisite"
                 }
                ],
                "id": 29,
                "metrics": {
                 "blocking factor": 0,
                 "centrality": 0,
                 "complexity": 5,
                 "delay factor": 5
                },
                "name": "ECE 372A",
                "nameCanonical": "",
                "nameSub": "uProcessor Org"
               },
               {
                "credits": 3,
                "curriculum_requisites": [],
                "id": 30,
                "metrics": {
                 "blocking factor": 0,
                 "centrality": 0,
                 "complexity": 1,
                 "delay factor": 1
                },
                "name": " ",
                "nameCanonical": "",
                "nameSub": "Tier I General Ed."
               }
              ],
              "id": 6,
              "name": "Term 6"
             },
             {
              "curriculum_items": [
               {
                "credits": 3,
                "curriculum_requisites": [
                 {
                  "source_id": 23,
                  "target_id": 31,
                  "type": "CurriculumPrerequisite"
                 },
                 {
                  "source_id": 28,
                  "target_id": 31,
                  "type": "CurriculumCorequisite"
                 }
                ],
                "id": 31,
                "metrics": {
                 "blocking factor": 1,
                 "centrality": 56,
                 "complexity": 9,
                 "delay factor": 8
                },
                "name": "ENGR 498A",
                "nameCanonical": "",
                "nameSub": "Cross-disciplinary Design"
               },
               {
                "credits": 3,
                "curriculum_requisites": [],
                "id": 32,
                "metrics": {
                 "blocking factor": 0,
                 "centrality": 0,
                 "complexity": 1,
                 "delay factor": 1
                },
                "name": " ",
                "nameCanonical": "",
                "nameSub": "Required Computer Course"
               },
               {
                "credits": 3,
                "curriculum_requisites": [],
                "id": 33,
                "metrics": {
                 "blocking factor": 0,
                 "centrality": 0,
                 "complexity": 1,
                 "delay factor": 1
                },
                "name": " ",
                "nameCanonical": "",
                "nameSub": "Technical Elective"
               },
               {
                "credits": 3,
                "curriculum_requisites": [],
                "id": 34,
                "metrics": {
                 "blocking factor": 0,
                 "centrality": 0,
                 "complexity": 1,
                 "delay factor": 1
                },
                "name": " ",
                "nameCanonical": "",
                "nameSub": "Technical Elective"
               },
               {
                "credits": 3,
                "curriculum_requisites": [],
                "id": 35,
                "metrics": {
                 "blocking factor": 0,
                 "centrality": 0,
                 "complexity": 1,
                 "delay factor": 1
                },
                "name": " ",
                "nameCanonical": "",
                "nameSub": "Technical Elective"
               }
              ],
              "id": 7,
              "name": "Term 7"
             },
             {
              "curriculum_items": [
               {
                "credits": 3,
                "curriculum_requisites": [
                 {
                  "source_id": 31,
                  "target_id": 36,
                  "type": "CurriculumPrerequisite"
                 },
                 {
                  "source_id": 28,
                  "target_id": 36,
                  "type": "CurriculumPrerequisite"
                 }
                ],
                "id": 36,
                "metrics": {
                 "blocking factor": 0,
                 "centrality": 0,
                 "complexity": 8,
                 "delay factor": 8
                },
                "name": "ENGR 498B",
                "nameCanonical": "",
                "nameSub": "Cross-disciplinary Design"
               },
               {
                "credits": 3,
                "curriculum_requisites": [],
                "id": 37,
                "metrics": {
                 "blocking factor": 0,
                 "centrality": 0,
                 "complexity": 1,
                 "delay factor": 1
                },
                "name": " ",
                "nameCanonical": "",
                "nameSub": "Technical Elective"
               },
               {
                "credits": 3,
                "curriculum_requisites": [],
                "id": 38,
                "metrics": {
                 "blocking factor": 0,
                 "centrality": 0,
                 "complexity": 1,
                 "delay factor": 1
                },
                "name": " ",
                "nameCanonical": "",
                "nameSub": "Technical Elective"
               },
               {
                "credits": 3,
                "curriculum_requisites": [],
                "id": 39,
                "metrics": {
                 "blocking factor": 0,
                 "centrality": 0,
                 "complexity": 1,
                 "delay factor": 1
                },
                "name": " ",
                "nameCanonical": "",
                "nameSub": "Technical Elective"
               },
               {
                "credits": 3,
                "curriculum_requisites": [],
                "id": 40,
                "metrics": {
                 "blocking factor": 0,
                 "centrality": 0,
                 "complexity": 1,
                 "delay factor": 1
                },
                "name": " ",
                "nameCanonical": "",
                "nameSub": "Tier II General Ed."
               }
              ],
              "id": 8,
              "name": "Term 8"
             }
            ],
            "dp_name": "2019-20 Degree Plan",
            "institution": "University of Arizona",
            "name": "Computer Engineering"
           },
           "options": {
            "edit": false,
            "hideTerms": false
           }
          }
         }
        },
        "systemjs_options": null
       },
       "nodeType": "Scope",
       "props": {},
       "type": "node"
      },
      "text/html": [
       "<div\n",
       "    class=\"webio-mountpoint\"\n",
       "    data-webio-mountpoint=\"6265363568134518325\"\n",
       ">\n",
       "    <script>\n",
       "    if (window.require && require.defined && require.defined(\"nbextensions/webio-jupyter-notebook\")) {\n",
       "        console.log(\"Jupyter WebIO extension detected, not mounting.\");\n",
       "    } else if (window.WebIO) {\n",
       "        WebIO.mount(\n",
       "            document.querySelector('[data-webio-mountpoint=\"6265363568134518325\"]'),\n",
       "            {\"props\":{},\"nodeType\":\"Scope\",\"type\":\"node\",\"instanceArgs\":{\"imports\":{\"data\":[],\"type\":\"async_block\"},\"id\":\"9604153001855854033\",\"handlers\":{},\"systemjs_options\":null,\"mount_callbacks\":[],\"observables\":{\"curriculum-data\":{\"sync\":true,\"id\":\"ob_03\",\"value\":{\"options\":{\"hideTerms\":false,\"edit\":false},\"curriculum\":{\"name\":\"Computer Engineering\",\"dp_name\":\"2019-20 Degree Plan\",\"curriculum_terms\":[{\"name\":\"Term 1\",\"curriculum_items\":[{\"curriculum_requisites\":[],\"name\":\"MATH 125\",\"metrics\":{\"complexity\":29.0,\"centrality\":0,\"blocking factor\":21,\"delay factor\":8.0},\"nameSub\":\"Calculus I w\\/ Applications\",\"id\":1,\"credits\":3,\"nameCanonical\":\"\"},{\"curriculum_requisites\":[],\"name\":\"CHEM 151\",\"metrics\":{\"complexity\":1.0,\"centrality\":0,\"blocking factor\":0,\"delay factor\":1.0},\"nameSub\":\"Gen Chemistry I\",\"id\":2,\"credits\":4,\"nameCanonical\":\"\"},{\"curriculum_requisites\":[],\"name\":\"ENGL 101\",\"metrics\":{\"complexity\":3.0,\"centrality\":0,\"blocking factor\":1,\"delay factor\":2.0},\"nameSub\":\"First-year Comp.\",\"id\":3,\"credits\":3,\"nameCanonical\":\"\"},{\"curriculum_requisites\":[{\"source_id\":1,\"target_id\":4,\"type\":\"CurriculumCorequisite\"}],\"name\":\"ENGR 102\",\"metrics\":{\"complexity\":2.0,\"centrality\":0,\"blocking factor\":0,\"delay factor\":2.0},\"nameSub\":\"Intro to Engineering\",\"id\":4,\"credits\":3,\"nameCanonical\":\"\"},{\"curriculum_requisites\":[],\"name\":\" \",\"metrics\":{\"complexity\":1.0,\"centrality\":0,\"blocking factor\":0,\"delay factor\":1.0},\"nameSub\":\"Tier I General Ed.\",\"id\":5,\"credits\":3,\"nameCanonical\":\"\"}],\"id\":1},{\"name\":\"Term 2\",\"curriculum_items\":[{\"curriculum_requisites\":[{\"source_id\":1,\"target_id\":6,\"type\":\"CurriculumPrerequisite\"}],\"name\":\"MATH 129\",\"metrics\":{\"complexity\":22.0,\"centrality\":103,\"blocking factor\":14,\"delay factor\":8.0},\"nameSub\":\"Calculus II\",\"id\":6,\"credits\":3,\"nameCanonical\":\"\"},{\"curriculum_requisites\":[{\"source_id\":1,\"target_id\":7,\"type\":\"CurriculumCorequisite\"}],\"name\":\"ECE 175\",\"metrics\":{\"complexity\":10.0,\"centrality\":22,\"blocking factor\":6,\"delay factor\":4.0},\"nameSub\":\"Programming for Eng. Apps.\",\"id\":7,\"credits\":3,\"nameCanonical\":\"\"},{\"curriculum_requisites\":[{\"source_id\":1,\"target_id\":8,\"type\":\"CurriculumPrerequisite\"}],\"name\":\"PHYS 141\",\"metrics\":{\"complexity\":17.0,\"centrality\":36,\"blocking factor\":9,\"delay factor\":8.0},\"nameSub\":\"Intro Mechanics\",\"id\":8,\"credits\":4,\"nameCanonical\":\"\"},{\"curriculum_requisites\":[{\"source_id\":3,\"target_id\":9,\"type\":\"CurriculumPrerequisite\"}],\"name\":\"ENGL 102\",\"metrics\":{\"complexity\":2.0,\"centrality\":0,\"blocking factor\":0,\"delay factor\":2.0},\"nameSub\":\"First-year Comp.\",\"id\":9,\"credits\":3,\"nameCanonical\":\"\"},{\"curriculum_requisites\":[],\"name\":\" \",\"metrics\":{\"complexity\":1.0,\"centrality\":0,\"blocking factor\":0,\"delay factor\":1.0},\"nameSub\":\"Tier I General Ed.\",\"id\":10,\"credits\":3,\"nameCanonical\":\"\"}],\"id\":2},{\"name\":\"Term 3\",\"curriculum_items\":[{\"curriculum_requisites\":[{\"source_id\":7,\"target_id\":11,\"type\":\"CurriculumPrerequisite\"},{\"source_id\":6,\"target_id\":11,\"type\":\"CurriculumCorequisite\"}],\"name\":\"ECE 274A\",\"metrics\":{\"complexity\":6.0,\"centrality\":16,\"blocking factor\":2,\"delay factor\":4.0},\"nameSub\":\"Digital Logic\",\"id\":11,\"credits\":4,\"nameCanonical\":\"\"},{\"curriculum_requisites\":[{\"source_id\":7,\"target_id\":12,\"type\":\"CurriculumPrerequisite\"}],\"name\":\"ECE 275\",\"metrics\":{\"complexity\":6.0,\"centrality\":8,\"blocking factor\":2,\"delay factor\":4.0},\"nameSub\":\"Programming for Eng. Apps. II\",\"id\":12,\"credits\":3,\"nameCanonical\":\"\"},{\"curriculum_requisites\":[{\"source_id\":6,\"target_id\":13,\"type\":\"CurriculumPrerequisite\"}],\"name\":\"MATH  223\",\"metrics\":{\"complexity\":3.0,\"centrality\":0,\"blocking factor\":0,\"delay factor\":3.0},\"nameSub\":\"Vector Calculus\",\"id\":13,\"credits\":4,\"nameCanonical\":\"\"},{\"curriculum_requisites\":[{\"source_id\":8,\"target_id\":14,\"type\":\"CurriculumPrerequisite\"},{\"source_id\":6,\"target_id\":14,\"type\":\"CurriculumPrerequisite\"}],\"name\":\"PHYS 241\",\"metrics\":{\"complexity\":15.0,\"centrality\":66,\"blocking factor\":7,\"delay factor\":8.0},\"nameSub\":\"Electricity & Magnetism\",\"id\":14,\"credits\":4,\"nameCanonical\":\"\"},{\"curriculum_requisites\":[],\"name\":\" \",\"metrics\":{\"complexity\":1.0,\"centrality\":0,\"blocking factor\":0,\"delay factor\":1.0},\"nameSub\":\"Tier I General Ed.\",\"id\":15,\"credits\":3,\"nameCanonical\":\"\"}],\"id\":3},{\"name\":\"Term 4\",\"curriculum_items\":[{\"curriculum_requisites\":[{\"source_id\":14,\"target_id\":16,\"type\":\"CurriculumPrerequisite\"},{\"source_id\":6,\"target_id\":16,\"type\":\"CurriculumPrerequisite\"}],\"name\":\"ECE 220\",\"metrics\":{\"complexity\":14.0,\"centrality\":94,\"blocking factor\":6,\"delay factor\":8.0},\"nameSub\":\"Basic Circuits\",\"id\":16,\"credits\":5,\"nameCanonical\":\"\"},{\"curriculum_requisites\":[{\"source_id\":8,\"target_id\":17,\"type\":\"CurriculumPrerequisite\"},{\"source_id\":6,\"target_id\":17,\"type\":\"CurriculumPrerequisite\"}],\"name\":\"PHYS 143\",\"metrics\":{\"complexity\":3.0,\"centrality\":0,\"blocking factor\":0,\"delay factor\":3.0},\"nameSub\":\"Intro Optics and Thermo \",\"id\":17,\"credits\":2,\"nameCanonical\":\"\"},{\"curriculum_requisites\":[{\"source_id\":1,\"target_id\":18,\"type\":\"CurriculumPrerequisite\"}],\"name\":\"MATH 243\",\"metrics\":{\"complexity\":2.0,\"centrality\":0,\"blocking factor\":0,\"delay factor\":2.0},\"nameSub\":\"Discrete Math\",\"id\":18,\"credits\":3,\"nameCanonical\":\"\"},{\"curriculum_requisites\":[{\"source_id\":6,\"target_id\":19,\"type\":\"CurriculumPrerequisite\"}],\"name\":\"MATH 254\",\"metrics\":{\"complexity\":13.0,\"centrality\":28,\"blocking factor\":6,\"delay factor\":7.0},\"nameSub\":\"Intro to ODEs\",\"id\":19,\"credits\":3,\"nameCanonical\":\"\"},{\"curriculum_requisites\":[],\"name\":\" \",\"metrics\":{\"complexity\":1.0,\"centrality\":0,\"blocking factor\":0,\"delay factor\":1.0},\"nameSub\":\"Tier II General Ed.\",\"id\":20,\"credits\":3,\"nameCanonical\":\"\"}],\"id\":4},{\"name\":\"Term 5\",\"curriculum_items\":[{\"curriculum_requisites\":[{\"source_id\":7,\"target_id\":21,\"type\":\"CurriculumPrerequisite\"},{\"source_id\":19,\"target_id\":21,\"type\":\"CurriculumPrerequisite\"}],\"name\":\"ECE 310\",\"metrics\":{\"complexity\":4.0,\"centrality\":0,\"blocking factor\":0,\"delay factor\":4.0},\"nameSub\":\"Eng Math\",\"id\":21,\"credits\":4,\"nameCanonical\":\"\"},{\"curriculum_requisites\":[{\"source_id\":7,\"target_id\":22,\"type\":\"CurriculumPrerequisite\"},{\"source_id\":11,\"target_id\":22,\"type\":\"CurriculumPrerequisite\"}],\"name\":\"ECE 369A\",\"metrics\":{\"complexity\":4.0,\"centrality\":0,\"blocking factor\":0,\"delay factor\":4.0},\"nameSub\":\"Fundamentals of Computer Org\",\"id\":22,\"credits\":4,\"nameCanonical\":\"\"},{\"curriculum_requisites\":[{\"source_id\":19,\"target_id\":23,\"type\":\"CurriculumPrerequisite\"},{\"source_id\":16,\"target_id\":23,\"type\":\"CurriculumPrerequisite\"}],\"name\":\"ECE 320A\",\"metrics\":{\"complexity\":12.0,\"centrality\":104,\"blocking factor\":4,\"delay factor\":8.0},\"nameSub\":\"Circuit Theory\",\"id\":23,\"credits\":3,\"nameCanonical\":\"\"},{\"curriculum_requisites\":[{\"source_id\":12,\"target_id\":25,\"type\":\"CurriculumPrerequisite\"}],\"name\":\"ECE 373\",\"metrics\":{\"complexity\":4.0,\"centrality\":0,\"blocking factor\":0,\"delay factor\":4.0},\"nameSub\":\"OO Software Design\",\"id\":25,\"credits\":3,\"nameCanonical\":\"\"},{\"curriculum_requisites\":[],\"name\":\"ECE 311\",\"metrics\":{\"complexity\":1.0,\"centrality\":0,\"blocking factor\":0,\"delay factor\":1.0},\"nameSub\":\"Eng Ethics\",\"id\":26,\"credits\":1,\"nameCanonical\":\"\"}],\"id\":5},{\"name\":\"Term 6\",\"curriculum_items\":[{\"curriculum_requisites\":[],\"name\":\" \",\"metrics\":{\"complexity\":1.0,\"centrality\":0,\"blocking factor\":0,\"delay factor\":1.0},\"nameSub\":\"Technical Elective\",\"id\":27,\"credits\":3,\"nameCanonical\":\"\"},{\"curriculum_requisites\":[{\"source_id\":23,\"target_id\":24,\"type\":\"CurriculumPrerequisite\"}],\"name\":\"ECE 340A\",\"metrics\":{\"complexity\":6.0,\"centrality\":0,\"blocking factor\":0,\"delay factor\":6.0},\"nameSub\":\"Intro to Comm\",\"id\":24,\"credits\":3,\"nameCanonical\":\"\"},{\"curriculum_requisites\":[{\"source_id\":23,\"target_id\":28,\"type\":\"CurriculumPrerequisite\"}],\"name\":\"ECE 351C\",\"metrics\":{\"complexity\":10.0,\"centrality\":56,\"blocking factor\":2,\"delay factor\":8.0},\"nameSub\":\"Electronic Circuits\",\"id\":28,\"credits\":4,\"nameCanonical\":\"\"},{\"curriculum_requisites\":[{\"source_id\":16,\"target_id\":29,\"type\":\"CurriculumPrerequisite\"},{\"source_id\":11,\"target_id\":29,\"type\":\"CurriculumPrerequisite\"},{\"source_id\":12,\"target_id\":29,\"type\":\"CurriculumCorequisite\"}],\"name\":\"ECE 372A\",\"metrics\":{\"complexity\":5.0,\"centrality\":0,\"blocking factor\":0,\"delay factor\":5.0},\"nameSub\":\"uProcessor Org\",\"id\":29,\"credits\":4,\"nameCanonical\":\"\"},{\"curriculum_requisites\":[],\"name\":\" \",\"metrics\":{\"complexity\":1.0,\"centrality\":0,\"blocking factor\":0,\"delay factor\":1.0},\"nameSub\":\"Tier I General Ed.\",\"id\":30,\"credits\":3,\"nameCanonical\":\"\"}],\"id\":6},{\"name\":\"Term 7\",\"curriculum_items\":[{\"curriculum_requisites\":[{\"source_id\":23,\"target_id\":31,\"type\":\"CurriculumPrerequisite\"},{\"source_id\":28,\"target_id\":31,\"type\":\"CurriculumCorequisite\"}],\"name\":\"ENGR 498A\",\"metrics\":{\"complexity\":9.0,\"centrality\":56,\"blocking factor\":1,\"delay factor\":8.0},\"nameSub\":\"Cross-disciplinary Design\",\"id\":31,\"credits\":3,\"nameCanonical\":\"\"},{\"curriculum_requisites\":[],\"name\":\" \",\"metrics\":{\"complexity\":1.0,\"centrality\":0,\"blocking factor\":0,\"delay factor\":1.0},\"nameSub\":\"Required Computer Course\",\"id\":32,\"credits\":3,\"nameCanonical\":\"\"},{\"curriculum_requisites\":[],\"name\":\" \",\"metrics\":{\"complexity\":1.0,\"centrality\":0,\"blocking factor\":0,\"delay factor\":1.0},\"nameSub\":\"Technical Elective\",\"id\":33,\"credits\":3,\"nameCanonical\":\"\"},{\"curriculum_requisites\":[],\"name\":\" \",\"metrics\":{\"complexity\":1.0,\"centrality\":0,\"blocking factor\":0,\"delay factor\":1.0},\"nameSub\":\"Technical Elective\",\"id\":34,\"credits\":3,\"nameCanonical\":\"\"},{\"curriculum_requisites\":[],\"name\":\" \",\"metrics\":{\"complexity\":1.0,\"centrality\":0,\"blocking factor\":0,\"delay factor\":1.0},\"nameSub\":\"Technical Elective\",\"id\":35,\"credits\":3,\"nameCanonical\":\"\"}],\"id\":7},{\"name\":\"Term 8\",\"curriculum_items\":[{\"curriculum_requisites\":[{\"source_id\":31,\"target_id\":36,\"type\":\"CurriculumPrerequisite\"},{\"source_id\":28,\"target_id\":36,\"type\":\"CurriculumPrerequisite\"}],\"name\":\"ENGR 498B\",\"metrics\":{\"complexity\":8.0,\"centrality\":0,\"blocking factor\":0,\"delay factor\":8.0},\"nameSub\":\"Cross-disciplinary Design\",\"id\":36,\"credits\":3,\"nameCanonical\":\"\"},{\"curriculum_requisites\":[],\"name\":\" \",\"metrics\":{\"complexity\":1.0,\"centrality\":0,\"blocking factor\":0,\"delay factor\":1.0},\"nameSub\":\"Technical Elective\",\"id\":37,\"credits\":3,\"nameCanonical\":\"\"},{\"curriculum_requisites\":[],\"name\":\" \",\"metrics\":{\"complexity\":1.0,\"centrality\":0,\"blocking factor\":0,\"delay factor\":1.0},\"nameSub\":\"Technical Elective\",\"id\":38,\"credits\":3,\"nameCanonical\":\"\"},{\"curriculum_requisites\":[],\"name\":\" \",\"metrics\":{\"complexity\":1.0,\"centrality\":0,\"blocking factor\":0,\"delay factor\":1.0},\"nameSub\":\"Technical Elective\",\"id\":39,\"credits\":3,\"nameCanonical\":\"\"},{\"curriculum_requisites\":[],\"name\":\" \",\"metrics\":{\"complexity\":1.0,\"centrality\":0,\"blocking factor\":0,\"delay factor\":1.0},\"nameSub\":\"Tier II General Ed.\",\"id\":40,\"credits\":3,\"nameCanonical\":\"\"}],\"id\":8}],\"institution\":\"University of Arizona\"}}}}},\"children\":[{\"props\":{\"src\":\"http:\\/\\/localhost:8156\",\"id\":\"curriculum\",\"events\":{\"load\":\"(function (){this.contentWindow.postMessage({\\\"options\\\":{\\\"hideTerms\\\":false,\\\"edit\\\":false},\\\"curriculum\\\":{\\\"name\\\":\\\"Computer Engineering\\\",\\\"dp_name\\\":\\\"2019-20 Degree Plan\\\",\\\"curriculum_terms\\\":[{\\\"name\\\":\\\"Term 1\\\",\\\"curriculum_items\\\":[{\\\"curriculum_requisites\\\":[],\\\"name\\\":\\\"MATH 125\\\",\\\"metrics\\\":{\\\"complexity\\\":29.0,\\\"centrality\\\":0,\\\"blocking factor\\\":21,\\\"delay factor\\\":8.0},\\\"nameSub\\\":\\\"Calculus I w\\/ Applications\\\",\\\"id\\\":1,\\\"credits\\\":3,\\\"nameCanonical\\\":\\\"\\\"},{\\\"curriculum_requisites\\\":[],\\\"name\\\":\\\"CHEM 151\\\",\\\"metrics\\\":{\\\"complexity\\\":1.0,\\\"centrality\\\":0,\\\"blocking factor\\\":0,\\\"delay factor\\\":1.0},\\\"nameSub\\\":\\\"Gen Chemistry I\\\",\\\"id\\\":2,\\\"credits\\\":4,\\\"nameCanonical\\\":\\\"\\\"},{\\\"curriculum_requisites\\\":[],\\\"name\\\":\\\"ENGL 101\\\",\\\"metrics\\\":{\\\"complexity\\\":3.0,\\\"centrality\\\":0,\\\"blocking factor\\\":1,\\\"delay factor\\\":2.0},\\\"nameSub\\\":\\\"First-year Comp.\\\",\\\"id\\\":3,\\\"credits\\\":3,\\\"nameCanonical\\\":\\\"\\\"},{\\\"curriculum_requisites\\\":[{\\\"source_id\\\":1,\\\"target_id\\\":4,\\\"type\\\":\\\"CurriculumCorequisite\\\"}],\\\"name\\\":\\\"ENGR 102\\\",\\\"metrics\\\":{\\\"complexity\\\":2.0,\\\"centrality\\\":0,\\\"blocking factor\\\":0,\\\"delay factor\\\":2.0},\\\"nameSub\\\":\\\"Intro to Engineering\\\",\\\"id\\\":4,\\\"credits\\\":3,\\\"nameCanonical\\\":\\\"\\\"},{\\\"curriculum_requisites\\\":[],\\\"name\\\":\\\" \\\",\\\"metrics\\\":{\\\"complexity\\\":1.0,\\\"centrality\\\":0,\\\"blocking factor\\\":0,\\\"delay factor\\\":1.0},\\\"nameSub\\\":\\\"Tier I General Ed.\\\",\\\"id\\\":5,\\\"credits\\\":3,\\\"nameCanonical\\\":\\\"\\\"}],\\\"id\\\":1},{\\\"name\\\":\\\"Term 2\\\",\\\"curriculum_items\\\":[{\\\"curriculum_requisites\\\":[{\\\"source_id\\\":1,\\\"target_id\\\":6,\\\"type\\\":\\\"CurriculumPrerequisite\\\"}],\\\"name\\\":\\\"MATH 129\\\",\\\"metrics\\\":{\\\"complexity\\\":22.0,\\\"centrality\\\":103,\\\"blocking factor\\\":14,\\\"delay factor\\\":8.0},\\\"nameSub\\\":\\\"Calculus II\\\",\\\"id\\\":6,\\\"credits\\\":3,\\\"nameCanonical\\\":\\\"\\\"},{\\\"curriculum_requisites\\\":[{\\\"source_id\\\":1,\\\"target_id\\\":7,\\\"type\\\":\\\"CurriculumCorequisite\\\"}],\\\"name\\\":\\\"ECE 175\\\",\\\"metrics\\\":{\\\"complexity\\\":10.0,\\\"centrality\\\":22,\\\"blocking factor\\\":6,\\\"delay factor\\\":4.0},\\\"nameSub\\\":\\\"Programming for Eng. Apps.\\\",\\\"id\\\":7,\\\"credits\\\":3,\\\"nameCanonical\\\":\\\"\\\"},{\\\"curriculum_requisites\\\":[{\\\"source_id\\\":1,\\\"target_id\\\":8,\\\"type\\\":\\\"CurriculumPrerequisite\\\"}],\\\"name\\\":\\\"PHYS 141\\\",\\\"metrics\\\":{\\\"complexity\\\":17.0,\\\"centrality\\\":36,\\\"blocking factor\\\":9,\\\"delay factor\\\":8.0},\\\"nameSub\\\":\\\"Intro Mechanics\\\",\\\"id\\\":8,\\\"credits\\\":4,\\\"nameCanonical\\\":\\\"\\\"},{\\\"curriculum_requisites\\\":[{\\\"source_id\\\":3,\\\"target_id\\\":9,\\\"type\\\":\\\"CurriculumPrerequisite\\\"}],\\\"name\\\":\\\"ENGL 102\\\",\\\"metrics\\\":{\\\"complexity\\\":2.0,\\\"centrality\\\":0,\\\"blocking factor\\\":0,\\\"delay factor\\\":2.0},\\\"nameSub\\\":\\\"First-year Comp.\\\",\\\"id\\\":9,\\\"credits\\\":3,\\\"nameCanonical\\\":\\\"\\\"},{\\\"curriculum_requisites\\\":[],\\\"name\\\":\\\" \\\",\\\"metrics\\\":{\\\"complexity\\\":1.0,\\\"centrality\\\":0,\\\"blocking factor\\\":0,\\\"delay factor\\\":1.0},\\\"nameSub\\\":\\\"Tier I General Ed.\\\",\\\"id\\\":10,\\\"credits\\\":3,\\\"nameCanonical\\\":\\\"\\\"}],\\\"id\\\":2},{\\\"name\\\":\\\"Term 3\\\",\\\"curriculum_items\\\":[{\\\"curriculum_requisites\\\":[{\\\"source_id\\\":7,\\\"target_id\\\":11,\\\"type\\\":\\\"CurriculumPrerequisite\\\"},{\\\"source_id\\\":6,\\\"target_id\\\":11,\\\"type\\\":\\\"CurriculumCorequisite\\\"}],\\\"name\\\":\\\"ECE 274A\\\",\\\"metrics\\\":{\\\"complexity\\\":6.0,\\\"centrality\\\":16,\\\"blocking factor\\\":2,\\\"delay factor\\\":4.0},\\\"nameSub\\\":\\\"Digital Logic\\\",\\\"id\\\":11,\\\"credits\\\":4,\\\"nameCanonical\\\":\\\"\\\"},{\\\"curriculum_requisites\\\":[{\\\"source_id\\\":7,\\\"target_id\\\":12,\\\"type\\\":\\\"CurriculumPrerequisite\\\"}],\\\"name\\\":\\\"ECE 275\\\",\\\"metrics\\\":{\\\"complexity\\\":6.0,\\\"centrality\\\":8,\\\"blocking factor\\\":2,\\\"delay factor\\\":4.0},\\\"nameSub\\\":\\\"Programming for Eng. Apps. II\\\",\\\"id\\\":12,\\\"credits\\\":3,\\\"nameCanonical\\\":\\\"\\\"},{\\\"curriculum_requisites\\\":[{\\\"source_id\\\":6,\\\"target_id\\\":13,\\\"type\\\":\\\"CurriculumPrerequisite\\\"}],\\\"name\\\":\\\"MATH  223\\\",\\\"metrics\\\":{\\\"complexity\\\":3.0,\\\"centrality\\\":0,\\\"blocking factor\\\":0,\\\"delay factor\\\":3.0},\\\"nameSub\\\":\\\"Vector Calculus\\\",\\\"id\\\":13,\\\"credits\\\":4,\\\"nameCanonical\\\":\\\"\\\"},{\\\"curriculum_requisites\\\":[{\\\"source_id\\\":8,\\\"target_id\\\":14,\\\"type\\\":\\\"CurriculumPrerequisite\\\"},{\\\"source_id\\\":6,\\\"target_id\\\":14,\\\"type\\\":\\\"CurriculumPrerequisite\\\"}],\\\"name\\\":\\\"PHYS 241\\\",\\\"metrics\\\":{\\\"complexity\\\":15.0,\\\"centrality\\\":66,\\\"blocking factor\\\":7,\\\"delay factor\\\":8.0},\\\"nameSub\\\":\\\"Electricity & Magnetism\\\",\\\"id\\\":14,\\\"credits\\\":4,\\\"nameCanonical\\\":\\\"\\\"},{\\\"curriculum_requisites\\\":[],\\\"name\\\":\\\" \\\",\\\"metrics\\\":{\\\"complexity\\\":1.0,\\\"centrality\\\":0,\\\"blocking factor\\\":0,\\\"delay factor\\\":1.0},\\\"nameSub\\\":\\\"Tier I General Ed.\\\",\\\"id\\\":15,\\\"credits\\\":3,\\\"nameCanonical\\\":\\\"\\\"}],\\\"id\\\":3},{\\\"name\\\":\\\"Term 4\\\",\\\"curriculum_items\\\":[{\\\"curriculum_requisites\\\":[{\\\"source_id\\\":14,\\\"target_id\\\":16,\\\"type\\\":\\\"CurriculumPrerequisite\\\"},{\\\"source_id\\\":6,\\\"target_id\\\":16,\\\"type\\\":\\\"CurriculumPrerequisite\\\"}],\\\"name\\\":\\\"ECE 220\\\",\\\"metrics\\\":{\\\"complexity\\\":14.0,\\\"centrality\\\":94,\\\"blocking factor\\\":6,\\\"delay factor\\\":8.0},\\\"nameSub\\\":\\\"Basic Circuits\\\",\\\"id\\\":16,\\\"credits\\\":5,\\\"nameCanonical\\\":\\\"\\\"},{\\\"curriculum_requisites\\\":[{\\\"source_id\\\":8,\\\"target_id\\\":17,\\\"type\\\":\\\"CurriculumPrerequisite\\\"},{\\\"source_id\\\":6,\\\"target_id\\\":17,\\\"type\\\":\\\"CurriculumPrerequisite\\\"}],\\\"name\\\":\\\"PHYS 143\\\",\\\"metrics\\\":{\\\"complexity\\\":3.0,\\\"centrality\\\":0,\\\"blocking factor\\\":0,\\\"delay factor\\\":3.0},\\\"nameSub\\\":\\\"Intro Optics and Thermo \\\",\\\"id\\\":17,\\\"credits\\\":2,\\\"nameCanonical\\\":\\\"\\\"},{\\\"curriculum_requisites\\\":[{\\\"source_id\\\":1,\\\"target_id\\\":18,\\\"type\\\":\\\"CurriculumPrerequisite\\\"}],\\\"name\\\":\\\"MATH 243\\\",\\\"metrics\\\":{\\\"complexity\\\":2.0,\\\"centrality\\\":0,\\\"blocking factor\\\":0,\\\"delay factor\\\":2.0},\\\"nameSub\\\":\\\"Discrete Math\\\",\\\"id\\\":18,\\\"credits\\\":3,\\\"nameCanonical\\\":\\\"\\\"},{\\\"curriculum_requisites\\\":[{\\\"source_id\\\":6,\\\"target_id\\\":19,\\\"type\\\":\\\"CurriculumPrerequisite\\\"}],\\\"name\\\":\\\"MATH 254\\\",\\\"metrics\\\":{\\\"complexity\\\":13.0,\\\"centrality\\\":28,\\\"blocking factor\\\":6,\\\"delay factor\\\":7.0},\\\"nameSub\\\":\\\"Intro to ODEs\\\",\\\"id\\\":19,\\\"credits\\\":3,\\\"nameCanonical\\\":\\\"\\\"},{\\\"curriculum_requisites\\\":[],\\\"name\\\":\\\" \\\",\\\"metrics\\\":{\\\"complexity\\\":1.0,\\\"centrality\\\":0,\\\"blocking factor\\\":0,\\\"delay factor\\\":1.0},\\\"nameSub\\\":\\\"Tier II General Ed.\\\",\\\"id\\\":20,\\\"credits\\\":3,\\\"nameCanonical\\\":\\\"\\\"}],\\\"id\\\":4},{\\\"name\\\":\\\"Term 5\\\",\\\"curriculum_items\\\":[{\\\"curriculum_requisites\\\":[{\\\"source_id\\\":7,\\\"target_id\\\":21,\\\"type\\\":\\\"CurriculumPrerequisite\\\"},{\\\"source_id\\\":19,\\\"target_id\\\":21,\\\"type\\\":\\\"CurriculumPrerequisite\\\"}],\\\"name\\\":\\\"ECE 310\\\",\\\"metrics\\\":{\\\"complexity\\\":4.0,\\\"centrality\\\":0,\\\"blocking factor\\\":0,\\\"delay factor\\\":4.0},\\\"nameSub\\\":\\\"Eng Math\\\",\\\"id\\\":21,\\\"credits\\\":4,\\\"nameCanonical\\\":\\\"\\\"},{\\\"curriculum_requisites\\\":[{\\\"source_id\\\":7,\\\"target_id\\\":22,\\\"type\\\":\\\"CurriculumPrerequisite\\\"},{\\\"source_id\\\":11,\\\"target_id\\\":22,\\\"type\\\":\\\"CurriculumPrerequisite\\\"}],\\\"name\\\":\\\"ECE 369A\\\",\\\"metrics\\\":{\\\"complexity\\\":4.0,\\\"centrality\\\":0,\\\"blocking factor\\\":0,\\\"delay factor\\\":4.0},\\\"nameSub\\\":\\\"Fundamentals of Computer Org\\\",\\\"id\\\":22,\\\"credits\\\":4,\\\"nameCanonical\\\":\\\"\\\"},{\\\"curriculum_requisites\\\":[{\\\"source_id\\\":19,\\\"target_id\\\":23,\\\"type\\\":\\\"CurriculumPrerequisite\\\"},{\\\"source_id\\\":16,\\\"target_id\\\":23,\\\"type\\\":\\\"CurriculumPrerequisite\\\"}],\\\"name\\\":\\\"ECE 320A\\\",\\\"metrics\\\":{\\\"complexity\\\":12.0,\\\"centrality\\\":104,\\\"blocking factor\\\":4,\\\"delay factor\\\":8.0},\\\"nameSub\\\":\\\"Circuit Theory\\\",\\\"id\\\":23,\\\"credits\\\":3,\\\"nameCanonical\\\":\\\"\\\"},{\\\"curriculum_requisites\\\":[{\\\"source_id\\\":12,\\\"target_id\\\":25,\\\"type\\\":\\\"CurriculumPrerequisite\\\"}],\\\"name\\\":\\\"ECE 373\\\",\\\"metrics\\\":{\\\"complexity\\\":4.0,\\\"centrality\\\":0,\\\"blocking factor\\\":0,\\\"delay factor\\\":4.0},\\\"nameSub\\\":\\\"OO Software Design\\\",\\\"id\\\":25,\\\"credits\\\":3,\\\"nameCanonical\\\":\\\"\\\"},{\\\"curriculum_requisites\\\":[],\\\"name\\\":\\\"ECE 311\\\",\\\"metrics\\\":{\\\"complexity\\\":1.0,\\\"centrality\\\":0,\\\"blocking factor\\\":0,\\\"delay factor\\\":1.0},\\\"nameSub\\\":\\\"Eng Ethics\\\",\\\"id\\\":26,\\\"credits\\\":1,\\\"nameCanonical\\\":\\\"\\\"}],\\\"id\\\":5},{\\\"name\\\":\\\"Term 6\\\",\\\"curriculum_items\\\":[{\\\"curriculum_requisites\\\":[],\\\"name\\\":\\\" \\\",\\\"metrics\\\":{\\\"complexity\\\":1.0,\\\"centrality\\\":0,\\\"blocking factor\\\":0,\\\"delay factor\\\":1.0},\\\"nameSub\\\":\\\"Technical Elective\\\",\\\"id\\\":27,\\\"credits\\\":3,\\\"nameCanonical\\\":\\\"\\\"},{\\\"curriculum_requisites\\\":[{\\\"source_id\\\":23,\\\"target_id\\\":24,\\\"type\\\":\\\"CurriculumPrerequisite\\\"}],\\\"name\\\":\\\"ECE 340A\\\",\\\"metrics\\\":{\\\"complexity\\\":6.0,\\\"centrality\\\":0,\\\"blocking factor\\\":0,\\\"delay factor\\\":6.0},\\\"nameSub\\\":\\\"Intro to Comm\\\",\\\"id\\\":24,\\\"credits\\\":3,\\\"nameCanonical\\\":\\\"\\\"},{\\\"curriculum_requisites\\\":[{\\\"source_id\\\":23,\\\"target_id\\\":28,\\\"type\\\":\\\"CurriculumPrerequisite\\\"}],\\\"name\\\":\\\"ECE 351C\\\",\\\"metrics\\\":{\\\"complexity\\\":10.0,\\\"centrality\\\":56,\\\"blocking factor\\\":2,\\\"delay factor\\\":8.0},\\\"nameSub\\\":\\\"Electronic Circuits\\\",\\\"id\\\":28,\\\"credits\\\":4,\\\"nameCanonical\\\":\\\"\\\"},{\\\"curriculum_requisites\\\":[{\\\"source_id\\\":16,\\\"target_id\\\":29,\\\"type\\\":\\\"CurriculumPrerequisite\\\"},{\\\"source_id\\\":11,\\\"target_id\\\":29,\\\"type\\\":\\\"CurriculumPrerequisite\\\"},{\\\"source_id\\\":12,\\\"target_id\\\":29,\\\"type\\\":\\\"CurriculumCorequisite\\\"}],\\\"name\\\":\\\"ECE 372A\\\",\\\"metrics\\\":{\\\"complexity\\\":5.0,\\\"centrality\\\":0,\\\"blocking factor\\\":0,\\\"delay factor\\\":5.0},\\\"nameSub\\\":\\\"uProcessor Org\\\",\\\"id\\\":29,\\\"credits\\\":4,\\\"nameCanonical\\\":\\\"\\\"},{\\\"curriculum_requisites\\\":[],\\\"name\\\":\\\" \\\",\\\"metrics\\\":{\\\"complexity\\\":1.0,\\\"centrality\\\":0,\\\"blocking factor\\\":0,\\\"delay factor\\\":1.0},\\\"nameSub\\\":\\\"Tier I General Ed.\\\",\\\"id\\\":30,\\\"credits\\\":3,\\\"nameCanonical\\\":\\\"\\\"}],\\\"id\\\":6},{\\\"name\\\":\\\"Term 7\\\",\\\"curriculum_items\\\":[{\\\"curriculum_requisites\\\":[{\\\"source_id\\\":23,\\\"target_id\\\":31,\\\"type\\\":\\\"CurriculumPrerequisite\\\"},{\\\"source_id\\\":28,\\\"target_id\\\":31,\\\"type\\\":\\\"CurriculumCorequisite\\\"}],\\\"name\\\":\\\"ENGR 498A\\\",\\\"metrics\\\":{\\\"complexity\\\":9.0,\\\"centrality\\\":56,\\\"blocking factor\\\":1,\\\"delay factor\\\":8.0},\\\"nameSub\\\":\\\"Cross-disciplinary Design\\\",\\\"id\\\":31,\\\"credits\\\":3,\\\"nameCanonical\\\":\\\"\\\"},{\\\"curriculum_requisites\\\":[],\\\"name\\\":\\\" \\\",\\\"metrics\\\":{\\\"complexity\\\":1.0,\\\"centrality\\\":0,\\\"blocking factor\\\":0,\\\"delay factor\\\":1.0},\\\"nameSub\\\":\\\"Required Computer Course\\\",\\\"id\\\":32,\\\"credits\\\":3,\\\"nameCanonical\\\":\\\"\\\"},{\\\"curriculum_requisites\\\":[],\\\"name\\\":\\\" \\\",\\\"metrics\\\":{\\\"complexity\\\":1.0,\\\"centrality\\\":0,\\\"blocking factor\\\":0,\\\"delay factor\\\":1.0},\\\"nameSub\\\":\\\"Technical Elective\\\",\\\"id\\\":33,\\\"credits\\\":3,\\\"nameCanonical\\\":\\\"\\\"},{\\\"curriculum_requisites\\\":[],\\\"name\\\":\\\" \\\",\\\"metrics\\\":{\\\"complexity\\\":1.0,\\\"centrality\\\":0,\\\"blocking factor\\\":0,\\\"delay factor\\\":1.0},\\\"nameSub\\\":\\\"Technical Elective\\\",\\\"id\\\":34,\\\"credits\\\":3,\\\"nameCanonical\\\":\\\"\\\"},{\\\"curriculum_requisites\\\":[],\\\"name\\\":\\\" \\\",\\\"metrics\\\":{\\\"complexity\\\":1.0,\\\"centrality\\\":0,\\\"blocking factor\\\":0,\\\"delay factor\\\":1.0},\\\"nameSub\\\":\\\"Technical Elective\\\",\\\"id\\\":35,\\\"credits\\\":3,\\\"nameCanonical\\\":\\\"\\\"}],\\\"id\\\":7},{\\\"name\\\":\\\"Term 8\\\",\\\"curriculum_items\\\":[{\\\"curriculum_requisites\\\":[{\\\"source_id\\\":31,\\\"target_id\\\":36,\\\"type\\\":\\\"CurriculumPrerequisite\\\"},{\\\"source_id\\\":28,\\\"target_id\\\":36,\\\"type\\\":\\\"CurriculumPrerequisite\\\"}],\\\"name\\\":\\\"ENGR 498B\\\",\\\"metrics\\\":{\\\"complexity\\\":8.0,\\\"centrality\\\":0,\\\"blocking factor\\\":0,\\\"delay factor\\\":8.0},\\\"nameSub\\\":\\\"Cross-disciplinary Design\\\",\\\"id\\\":36,\\\"credits\\\":3,\\\"nameCanonical\\\":\\\"\\\"},{\\\"curriculum_requisites\\\":[],\\\"name\\\":\\\" \\\",\\\"metrics\\\":{\\\"complexity\\\":1.0,\\\"centrality\\\":0,\\\"blocking factor\\\":0,\\\"delay factor\\\":1.0},\\\"nameSub\\\":\\\"Technical Elective\\\",\\\"id\\\":37,\\\"credits\\\":3,\\\"nameCanonical\\\":\\\"\\\"},{\\\"curriculum_requisites\\\":[],\\\"name\\\":\\\" \\\",\\\"metrics\\\":{\\\"complexity\\\":1.0,\\\"centrality\\\":0,\\\"blocking factor\\\":0,\\\"delay factor\\\":1.0},\\\"nameSub\\\":\\\"Technical Elective\\\",\\\"id\\\":38,\\\"credits\\\":3,\\\"nameCanonical\\\":\\\"\\\"},{\\\"curriculum_requisites\\\":[],\\\"name\\\":\\\" \\\",\\\"metrics\\\":{\\\"complexity\\\":1.0,\\\"centrality\\\":0,\\\"blocking factor\\\":0,\\\"delay factor\\\":1.0},\\\"nameSub\\\":\\\"Technical Elective\\\",\\\"id\\\":39,\\\"credits\\\":3,\\\"nameCanonical\\\":\\\"\\\"},{\\\"curriculum_requisites\\\":[],\\\"name\\\":\\\" \\\",\\\"metrics\\\":{\\\"complexity\\\":1.0,\\\"centrality\\\":0,\\\"blocking factor\\\":0,\\\"delay factor\\\":1.0},\\\"nameSub\\\":\\\"Tier II General Ed.\\\",\\\"id\\\":40,\\\"credits\\\":3,\\\"nameCanonical\\\":\\\"\\\"}],\\\"id\\\":8}],\\\"institution\\\":\\\"University of Arizona\\\"}},\\\"*\\\"); window.removeEventListener(\\\"message\\\",window.messageReceived); window.messageReceived=(function (event){return (event.data.curriculum!==undefined) ? (WebIO.setval({\\\"name\\\":\\\"curriculum-data\\\",\\\"scope\\\":\\\"9604153001855854033\\\",\\\"id\\\":\\\"ob_03\\\",\\\"type\\\":\\\"observable\\\"},event.data.curriculum)) : undefined}); return window.addEventListener(\\\"message\\\",window.messageReceived)})\"},\"style\":{\"padding\":\"0\",\"height\":\"100vh\",\"margin\":\"0\",\"border\":\"none\",\"width\":\"100%\"}},\"nodeType\":\"DOM\",\"type\":\"node\",\"instanceArgs\":{\"namespace\":\"html\",\"tag\":\"iframe\"},\"children\":[\"\"]}]},\n",
       "            window,\n",
       "        );\n",
       "    } else {\n",
       "        document\n",
       "            .querySelector('[data-webio-mountpoint=\"6265363568134518325\"]')\n",
       "            .innerHTML = (\n",
       "                '<div style=\"padding: 1em; background-color: #f8d6da; border: 1px solid #f5c6cb\">' +\n",
       "                '<p><strong>WebIO not detected.</strong></p>' +\n",
       "                '<p>Please read ' +\n",
       "                '<a href=\"https://juliagizmos.github.io/WebIO.jl/latest/troubleshooting/not-detected/\" target=\"_blank\">the troubleshooting guide</a> ' +\n",
       "                'for more information on how to resolve this issue.</p>' +\n",
       "                '<p><a href=\"https://juliagizmos.github.io/WebIO.jl/latest/troubleshooting/not-detected/\" target=\"_blank\">https://juliagizmos.github.io/WebIO.jl/latest/troubleshooting/not-detected/</a></p>' +\n",
       "                '</div>'\n",
       "            );\n",
       "    }\n",
       "    </script>\n",
       "</div>\n"
      ],
      "text/plain": [
       "WebIO.Scope(WebIO.Node{WebIO.DOM}(WebIO.DOM(:html, :iframe), Any[\"\"], Dict{Symbol,Any}(:src => \"http://localhost:8156\",:id => \"curriculum\",:events => Dict{Symbol,WebIO.JSString}(:load => WebIO.JSString(\"(function (){this.contentWindow.postMessage({\\\"options\\\":{\\\"hideTerms\\\":false,\\\"edit\\\":false},\\\"curriculum\\\":{\\\"name\\\":\\\"Computer Engineering\\\",\\\"dp_name\\\":\\\"2019-20 Degree Plan\\\",\\\"curriculum_terms\\\":[{\\\"name\\\":\\\"Term 1\\\",\\\"curriculum_items\\\":[{\\\"curriculum_requisites\\\":[],\\\"name\\\":\\\"MATH 125\\\",\\\"metrics\\\":{\\\"complexity\\\":29.0,\\\"centrality\\\":0,\\\"blocking factor\\\":21,\\\"delay factor\\\":8.0},\\\"nameSub\\\":\\\"Calculus I w/ Applications\\\",\\\"id\\\":1,\\\"credits\\\":3,\\\"nameCanonical\\\":\\\"\\\"},{\\\"curriculum_requisites\\\":[],\\\"name\\\":\\\"CHEM 151\\\",\\\"metrics\\\":{\\\"complexity\\\":1.0,\\\"centrality\\\":0,\\\"blocking factor\\\":0,\\\"delay factor\\\":1.0},\\\"nameSub\\\":\\\"Gen Chemistry I\\\",\\\"id\\\":2,\\\"credits\\\":4,\\\"nameCanonical\\\":\\\"\\\"},{\\\"curriculum_requisites\\\":[],\\\"name\\\":\\\"ENGL 101\\\",\\\"metrics\\\":{\\\"complexity\\\":3.0,\\\"centrality\\\":0,\\\"blocking factor\\\":1,\\\"delay factor\\\":2.0},\\\"nameSub\\\":\\\"First-year Comp.\\\",\\\"id\\\":3,\\\"credits\\\":3,\\\"nameCanonical\\\":\\\"\\\"},{\\\"curriculum_requisites\\\":[{\\\"source_id\\\":1,\\\"target_id\\\":4,\\\"type\\\":\\\"CurriculumCorequisite\\\"}],\\\"name\\\":\\\"ENGR 102\\\",\\\"metrics\\\":{\\\"complexity\\\":2.0,\\\"centrality\\\":0,\\\"blocking factor\\\":0,\\\"delay factor\\\":2.0},\\\"nameSub\\\":\\\"Intro to Engineering\\\",\\\"id\\\":4,\\\"credits\\\":3,\\\"nameCanonical\\\":\\\"\\\"},{\\\"curriculum_requisites\\\":[],\\\"name\\\":\\\" \\\",\\\"metrics\\\":{\\\"complexity\\\":1.0,\\\"centrality\\\":0,\\\"blocking factor\\\":0,\\\"delay factor\\\":1.0},\\\"nameSub\\\":\\\"Tier I General Ed.\\\",\\\"id\\\":5,\\\"credits\\\":3,\\\"nameCanonical\\\":\\\"\\\"}],\\\"id\\\":1},{\\\"name\\\":\\\"Term 2\\\",\\\"curriculum_items\\\":[{\\\"curriculum_requisites\\\":[{\\\"source_id\\\":1,\\\"target_id\\\":6,\\\"type\\\":\\\"CurriculumPrerequisite\\\"}],\\\"name\\\":\\\"MATH 129\\\",\\\"metrics\\\":{\\\"complexity\\\":22.0,\\\"centrality\\\":103,\\\"blocking factor\\\":14,\\\"delay factor\\\":8.0},\\\"nameSub\\\":\\\"Calculus II\\\",\\\"id\\\":6,\\\"credits\\\":3,\\\"nameCanonical\\\":\\\"\\\"},{\\\"curriculum_requisites\\\":[{\\\"source_id\\\":1,\\\"target_id\\\":7,\\\"type\\\":\\\"CurriculumCorequisite\\\"}],\\\"name\\\":\\\"ECE 175\\\",\\\"metrics\\\":{\\\"complexity\\\":10.0,\\\"centrality\\\":22,\\\"blocking factor\\\":6,\\\"delay factor\\\":4.0},\\\"nameSub\\\":\\\"Programming for Eng. Apps.\\\",\\\"id\\\":7,\\\"credits\\\":3,\\\"nameCanonical\\\":\\\"\\\"},{\\\"curriculum_requisites\\\":[{\\\"source_id\\\":1,\\\"target_id\\\":8,\\\"type\\\":\\\"CurriculumPrerequisite\\\"}],\\\"name\\\":\\\"PHYS 141\\\",\\\"metrics\\\":{\\\"complexity\\\":17.0,\\\"centrality\\\":36,\\\"blocking factor\\\":9,\\\"delay factor\\\":8.0},\\\"nameSub\\\":\\\"Intro Mechanics\\\",\\\"id\\\":8,\\\"credits\\\":4,\\\"nameCanonical\\\":\\\"\\\"},{\\\"curriculum_requisites\\\":[{\\\"source_id\\\":3,\\\"target_id\\\":9,\\\"type\\\":\\\"CurriculumPrerequisite\\\"}],\\\"name\\\":\\\"ENGL 102\\\",\\\"metrics\\\":{\\\"complexity\\\":2.0,\\\"centrality\\\":0,\\\"blocking factor\\\":0,\\\"delay factor\\\":2.0},\\\"nameSub\\\":\\\"First-year Comp.\\\",\\\"id\\\":9,\\\"credits\\\":3,\\\"nameCanonical\\\":\\\"\\\"},{\\\"curriculum_requisites\\\":[],\\\"name\\\":\\\" \\\",\\\"metrics\\\":{\\\"complexity\\\":1.0,\\\"centrality\\\":0,\\\"blocking factor\\\":0,\\\"delay factor\\\":1.0},\\\"nameSub\\\":\\\"Tier I General Ed.\\\",\\\"id\\\":10,\\\"credits\\\":3,\\\"nameCanonical\\\":\\\"\\\"}],\\\"id\\\":2},{\\\"name\\\":\\\"Term 3\\\",\\\"curriculum_items\\\":[{\\\"curriculum_requisites\\\":[{\\\"source_id\\\":7,\\\"target_id\\\":11,\\\"type\\\":\\\"CurriculumPrerequisite\\\"},{\\\"source_id\\\":6,\\\"target_id\\\":11,\\\"type\\\":\\\"CurriculumCorequisite\\\"}],\\\"name\\\":\\\"ECE 274A\\\",\\\"metrics\\\":{\\\"complexity\\\":6.0,\\\"centrality\\\":16,\\\"blocking factor\\\":2,\\\"delay factor\\\":4.0},\\\"nameSub\\\":\\\"Digital Logic\\\",\\\"id\\\":11,\\\"credits\\\":4,\\\"nameCanonical\\\":\\\"\\\"},{\\\"curriculum_requisites\\\":[{\\\"source_id\\\":7,\\\"target_id\\\":12,\\\"type\\\":\\\"CurriculumPrerequisite\\\"}],\\\"name\\\":\\\"ECE 275\\\",\\\"metrics\\\":{\\\"complexity\\\":6.0,\\\"centrality\\\":8,\\\"blocking factor\\\":2,\\\"delay factor\\\":4.0},\\\"nameSub\\\":\\\"Programming for Eng. Apps. II\\\",\\\"id\\\":12,\\\"credits\\\":3,\\\"nameCanonical\\\":\\\"\\\"},{\\\"curriculum_requisites\\\":[{\\\"source_id\\\":6,\\\"target_id\\\":13,\\\"type\\\":\\\"CurriculumPrerequisite\\\"}],\\\"name\\\":\\\"MATH  223\\\",\\\"metrics\\\":{\\\"complexity\\\":3.0,\\\"centrality\\\":0,\\\"blocking factor\\\":0,\\\"delay factor\\\":3.0},\\\"nameSub\\\":\\\"Vector Calculus\\\",\\\"id\\\":13,\\\"credits\\\":4,\\\"nameCanonical\\\":\\\"\\\"},{\\\"curriculum_requisites\\\":[{\\\"source_id\\\":8,\\\"target_id\\\":14,\\\"type\\\":\\\"CurriculumPrerequisite\\\"},{\\\"source_id\\\":6,\\\"target_id\\\":14,\\\"type\\\":\\\"CurriculumPrerequisite\\\"}],\\\"name\\\":\\\"PHYS 241\\\",\\\"metrics\\\":{\\\"complexity\\\":15.0,\\\"centrality\\\":66,\\\"blocking factor\\\":7,\\\"delay factor\\\":8.0},\\\"nameSub\\\":\\\"Electricity & Magnetism\\\",\\\"id\\\":14,\\\"credits\\\":4,\\\"nameCanonical\\\":\\\"\\\"},{\\\"curriculum_requisites\\\":[],\\\"name\\\":\\\" \\\",\\\"metrics\\\":{\\\"complexity\\\":1.0,\\\"centrality\\\":0,\\\"blocking factor\\\":0,\\\"delay factor\\\":1.0},\\\"nameSub\\\":\\\"Tier I General Ed.\\\",\\\"id\\\":15,\\\"credits\\\":3,\\\"nameCanonical\\\":\\\"\\\"}],\\\"id\\\":3},{\\\"name\\\":\\\"Term 4\\\",\\\"curriculum_items\\\":[{\\\"curriculum_requisites\\\":[{\\\"source_id\\\":14,\\\"target_id\\\":16,\\\"type\\\":\\\"CurriculumPrerequisite\\\"},{\\\"source_id\\\":6,\\\"target_id\\\":16,\\\"type\\\":\\\"CurriculumPrerequisite\\\"}],\\\"name\\\":\\\"ECE 220\\\",\\\"metrics\\\":{\\\"complexity\\\":14.0,\\\"centrality\\\":94,\\\"blocking factor\\\":6,\\\"delay factor\\\":8.0},\\\"nameSub\\\":\\\"Basic Circuits\\\",\\\"id\\\":16,\\\"credits\\\":5,\\\"nameCanonical\\\":\\\"\\\"},{\\\"curriculum_requisites\\\":[{\\\"source_id\\\":8,\\\"target_id\\\":17,\\\"type\\\":\\\"CurriculumPrerequisite\\\"},{\\\"source_id\\\":6,\\\"target_id\\\":17,\\\"type\\\":\\\"CurriculumPrerequisite\\\"}],\\\"name\\\":\\\"PHYS 143\\\",\\\"metrics\\\":{\\\"complexity\\\":3.0,\\\"centrality\\\":0,\\\"blocking factor\\\":0,\\\"delay factor\\\":3.0},\\\"nameSub\\\":\\\"Intro Optics and Thermo \\\",\\\"id\\\":17,\\\"credits\\\":2,\\\"nameCanonical\\\":\\\"\\\"},{\\\"curriculum_requisites\\\":[{\\\"source_id\\\":1,\\\"target_id\\\":18,\\\"type\\\":\\\"CurriculumPrerequisite\\\"}],\\\"name\\\":\\\"MATH 243\\\",\\\"metrics\\\":{\\\"complexity\\\":2.0,\\\"centrality\\\":0,\\\"blocking factor\\\":0,\\\"delay factor\\\":2.0},\\\"nameSub\\\":\\\"Discrete Math\\\",\\\"id\\\":18,\\\"credits\\\":3,\\\"nameCanonical\\\":\\\"\\\"},{\\\"curriculum_requisites\\\":[{\\\"source_id\\\":6,\\\"target_id\\\":19,\\\"type\\\":\\\"CurriculumPrerequisite\\\"}],\\\"name\\\":\\\"MATH 254\\\",\\\"metrics\\\":{\\\"complexity\\\":13.0,\\\"centrality\\\":28,\\\"blocking factor\\\":6,\\\"delay factor\\\":7.0},\\\"nameSub\\\":\\\"Intro to ODEs\\\",\\\"id\\\":19,\\\"credits\\\":3,\\\"nameCanonical\\\":\\\"\\\"},{\\\"curriculum_requisites\\\":[],\\\"name\\\":\\\" \\\",\\\"metrics\\\":{\\\"complexity\\\":1.0,\\\"centrality\\\":0,\\\"blocking factor\\\":0,\\\"delay factor\\\":1.0},\\\"nameSub\\\":\\\"Tier II General Ed.\\\",\\\"id\\\":20,\\\"credits\\\":3,\\\"nameCanonical\\\":\\\"\\\"}],\\\"id\\\":4},{\\\"name\\\":\\\"Term 5\\\",\\\"curriculum_items\\\":[{\\\"curriculum_requisites\\\":[{\\\"source_id\\\":7,\\\"target_id\\\":21,\\\"type\\\":\\\"CurriculumPrerequisite\\\"},{\\\"source_id\\\":19,\\\"target_id\\\":21,\\\"type\\\":\\\"CurriculumPrerequisite\\\"}],\\\"name\\\":\\\"ECE 310\\\",\\\"metrics\\\":{\\\"complexity\\\":4.0,\\\"centrality\\\":0,\\\"blocking factor\\\":0,\\\"delay factor\\\":4.0},\\\"nameSub\\\":\\\"Eng Math\\\",\\\"id\\\":21,\\\"credits\\\":4,\\\"nameCanonical\\\":\\\"\\\"},{\\\"curriculum_requisites\\\":[{\\\"source_id\\\":7,\\\"target_id\\\":22,\\\"type\\\":\\\"CurriculumPrerequisite\\\"},{\\\"source_id\\\":11,\\\"target_id\\\":22,\\\"type\\\":\\\"CurriculumPrerequisite\\\"}],\\\"name\\\":\\\"ECE 369A\\\",\\\"metrics\\\":{\\\"complexity\\\":4.0,\\\"centrality\\\":0,\\\"blocking factor\\\":0,\\\"delay factor\\\":4.0},\\\"nameSub\\\":\\\"Fundamentals of Computer Org\\\",\\\"id\\\":22,\\\"credits\\\":4,\\\"nameCanonical\\\":\\\"\\\"},{\\\"curriculum_requisites\\\":[{\\\"source_id\\\":19,\\\"target_id\\\":23,\\\"type\\\":\\\"CurriculumPrerequisite\\\"},{\\\"source_id\\\":16,\\\"target_id\\\":23,\\\"type\\\":\\\"CurriculumPrerequisite\\\"}],\\\"name\\\":\\\"ECE 320A\\\",\\\"metrics\\\":{\\\"complexity\\\":12.0,\\\"centrality\\\":104,\\\"blocking factor\\\":4,\\\"delay factor\\\":8.0},\\\"nameSub\\\":\\\"Circuit Theory\\\",\\\"id\\\":23,\\\"credits\\\":3,\\\"nameCanonical\\\":\\\"\\\"},{\\\"curriculum_requisites\\\":[{\\\"source_id\\\":12,\\\"target_id\\\":25,\\\"type\\\":\\\"CurriculumPrerequisite\\\"}],\\\"name\\\":\\\"ECE 373\\\",\\\"metrics\\\":{\\\"complexity\\\":4.0,\\\"centrality\\\":0,\\\"blocking factor\\\":0,\\\"delay factor\\\":4.0},\\\"nameSub\\\":\\\"OO Software Design\\\",\\\"id\\\":25,\\\"credits\\\":3,\\\"nameCanonical\\\":\\\"\\\"},{\\\"curriculum_requisites\\\":[],\\\"name\\\":\\\"ECE 311\\\",\\\"metrics\\\":{\\\"complexity\\\":1.0,\\\"centrality\\\":0,\\\"blocking factor\\\":0,\\\"delay factor\\\":1.0},\\\"nameSub\\\":\\\"Eng Ethics\\\",\\\"id\\\":26,\\\"credits\\\":1,\\\"nameCanonical\\\":\\\"\\\"}],\\\"id\\\":5},{\\\"name\\\":\\\"Term 6\\\",\\\"curriculum_items\\\":[{\\\"curriculum_requisites\\\":[],\\\"name\\\":\\\" \\\",\\\"metrics\\\":{\\\"complexity\\\":1.0,\\\"centrality\\\":0,\\\"blocking factor\\\":0,\\\"delay factor\\\":1.0},\\\"nameSub\\\":\\\"Technical Elective\\\",\\\"id\\\":27,\\\"credits\\\":3,\\\"nameCanonical\\\":\\\"\\\"},{\\\"curriculum_requisites\\\":[{\\\"source_id\\\":23,\\\"target_id\\\":24,\\\"type\\\":\\\"CurriculumPrerequisite\\\"}],\\\"name\\\":\\\"ECE 340A\\\",\\\"metrics\\\":{\\\"complexity\\\":6.0,\\\"centrality\\\":0,\\\"blocking factor\\\":0,\\\"delay factor\\\":6.0},\\\"nameSub\\\":\\\"Intro to Comm\\\",\\\"id\\\":24,\\\"credits\\\":3,\\\"nameCanonical\\\":\\\"\\\"},{\\\"curriculum_requisites\\\":[{\\\"source_id\\\":23,\\\"target_id\\\":28,\\\"type\\\":\\\"CurriculumPrerequisite\\\"}],\\\"name\\\":\\\"ECE 351C\\\",\\\"metrics\\\":{\\\"complexity\\\":10.0,\\\"centrality\\\":56,\\\"blocking factor\\\":2,\\\"delay factor\\\":8.0},\\\"nameSub\\\":\\\"Electronic Circuits\\\",\\\"id\\\":28,\\\"credits\\\":4,\\\"nameCanonical\\\":\\\"\\\"},{\\\"curriculum_requisites\\\":[{\\\"source_id\\\":16,\\\"target_id\\\":29,\\\"type\\\":\\\"CurriculumPrerequisite\\\"},{\\\"source_id\\\":11,\\\"target_id\\\":29,\\\"type\\\":\\\"CurriculumPrerequisite\\\"},{\\\"source_id\\\":12,\\\"target_id\\\":29,\\\"type\\\":\\\"CurriculumCorequisite\\\"}],\\\"name\\\":\\\"ECE 372A\\\",\\\"metrics\\\":{\\\"complexity\\\":5.0,\\\"centrality\\\":0,\\\"blocking factor\\\":0,\\\"delay factor\\\":5.0},\\\"nameSub\\\":\\\"uProcessor Org\\\",\\\"id\\\":29,\\\"credits\\\":4,\\\"nameCanonical\\\":\\\"\\\"},{\\\"curriculum_requisites\\\":[],\\\"name\\\":\\\" \\\",\\\"metrics\\\":{\\\"complexity\\\":1.0,\\\"centrality\\\":0,\\\"blocking factor\\\":0,\\\"delay factor\\\":1.0},\\\"nameSub\\\":\\\"Tier I General Ed.\\\",\\\"id\\\":30,\\\"credits\\\":3,\\\"nameCanonical\\\":\\\"\\\"}],\\\"id\\\":6},{\\\"name\\\":\\\"Term 7\\\",\\\"curriculum_items\\\":[{\\\"curriculum_requisites\\\":[{\\\"source_id\\\":23,\\\"target_id\\\":31,\\\"type\\\":\\\"CurriculumPrerequisite\\\"},{\\\"source_id\\\":28,\\\"target_id\\\":31,\\\"type\\\":\\\"CurriculumCorequisite\\\"}],\\\"name\\\":\\\"ENGR 498A\\\",\\\"metrics\\\":{\\\"complexity\\\":9.0,\\\"centrality\\\":56,\\\"blocking factor\\\":1,\\\"delay factor\\\":8.0},\\\"nameSub\\\":\\\"Cross-disciplinary Design\\\",\\\"id\\\":31,\\\"credits\\\":3,\\\"nameCanonical\\\":\\\"\\\"},{\\\"curriculum_requisites\\\":[],\\\"name\\\":\\\" \\\",\\\"metrics\\\":{\\\"complexity\\\":1.0,\\\"centrality\\\":0,\\\"blocking factor\\\":0,\\\"delay factor\\\":1.0},\\\"nameSub\\\":\\\"Required Computer Course\\\",\\\"id\\\":32,\\\"credits\\\":3,\\\"nameCanonical\\\":\\\"\\\"},{\\\"curriculum_requisites\\\":[],\\\"name\\\":\\\" \\\",\\\"metrics\\\":{\\\"complexity\\\":1.0,\\\"centrality\\\":0,\\\"blocking factor\\\":0,\\\"delay factor\\\":1.0},\\\"nameSub\\\":\\\"Technical Elective\\\",\\\"id\\\":33,\\\"credits\\\":3,\\\"nameCanonical\\\":\\\"\\\"},{\\\"curriculum_requisites\\\":[],\\\"name\\\":\\\" \\\",\\\"metrics\\\":{\\\"complexity\\\":1.0,\\\"centrality\\\":0,\\\"blocking factor\\\":0,\\\"delay factor\\\":1.0},\\\"nameSub\\\":\\\"Technical Elective\\\",\\\"id\\\":34,\\\"credits\\\":3,\\\"nameCanonical\\\":\\\"\\\"},{\\\"curriculum_requisites\\\":[],\\\"name\\\":\\\" \\\",\\\"metrics\\\":{\\\"complexity\\\":1.0,\\\"centrality\\\":0,\\\"blocking factor\\\":0,\\\"delay factor\\\":1.0},\\\"nameSub\\\":\\\"Technical Elective\\\",\\\"id\\\":35,\\\"credits\\\":3,\\\"nameCanonical\\\":\\\"\\\"}],\\\"id\\\":7},{\\\"name\\\":\\\"Term 8\\\",\\\"curriculum_items\\\":[{\\\"curriculum_requisites\\\":[{\\\"source_id\\\":31,\\\"target_id\\\":36,\\\"type\\\":\\\"CurriculumPrerequisite\\\"},{\\\"source_id\\\":28,\\\"target_id\\\":36,\\\"type\\\":\\\"CurriculumPrerequisite\\\"}],\\\"name\\\":\\\"ENGR 498B\\\",\\\"metrics\\\":{\\\"complexity\\\":8.0,\\\"centrality\\\":0,\\\"blocking factor\\\":0,\\\"delay factor\\\":8.0},\\\"nameSub\\\":\\\"Cross-disciplinary Design\\\",\\\"id\\\":36,\\\"credits\\\":3,\\\"nameCanonical\\\":\\\"\\\"},{\\\"curriculum_requisites\\\":[],\\\"name\\\":\\\" \\\",\\\"metrics\\\":{\\\"complexity\\\":1.0,\\\"centrality\\\":0,\\\"blocking factor\\\":0,\\\"delay factor\\\":1.0},\\\"nameSub\\\":\\\"Technical Elective\\\",\\\"id\\\":37,\\\"credits\\\":3,\\\"nameCanonical\\\":\\\"\\\"},{\\\"curriculum_requisites\\\":[],\\\"name\\\":\\\" \\\",\\\"metrics\\\":{\\\"complexity\\\":1.0,\\\"centrality\\\":0,\\\"blocking factor\\\":0,\\\"delay factor\\\":1.0},\\\"nameSub\\\":\\\"Technical Elective\\\",\\\"id\\\":38,\\\"credits\\\":3,\\\"nameCanonical\\\":\\\"\\\"},{\\\"curriculum_requisites\\\":[],\\\"name\\\":\\\" \\\",\\\"metrics\\\":{\\\"complexity\\\":1.0,\\\"centrality\\\":0,\\\"blocking factor\\\":0,\\\"delay factor\\\":1.0},\\\"nameSub\\\":\\\"Technical Elective\\\",\\\"id\\\":39,\\\"credits\\\":3,\\\"nameCanonical\\\":\\\"\\\"},{\\\"curriculum_requisites\\\":[],\\\"name\\\":\\\" \\\",\\\"metrics\\\":{\\\"complexity\\\":1.0,\\\"centrality\\\":0,\\\"blocking factor\\\":0,\\\"delay factor\\\":1.0},\\\"nameSub\\\":\\\"Tier II General Ed.\\\",\\\"id\\\":40,\\\"credits\\\":3,\\\"nameCanonical\\\":\\\"\\\"}],\\\"id\\\":8}],\\\"institution\\\":\\\"University of Arizona\\\"}},\\\"*\\\"); window.removeEventListener(\\\"message\\\",window.messageReceived); window.messageReceived=(function (event){return (event.data.curriculum!==undefined) ? (WebIO.setval({\\\"name\\\":\\\"curriculum-data\\\",\\\"scope\\\":\\\"9604153001855854033\\\",\\\"id\\\":\\\"ob_03\\\",\\\"type\\\":\\\"observable\\\"},event.data.curriculum)) : undefined}); return window.addEventListener(\\\"message\\\",window.messageReceived)})\")),:style => Dict(:padding => \"0\",:height => \"100vh\",:margin => \"0\",:border => \"none\",:width => \"100%\"))), Dict{String,Tuple{Observables.AbstractObservable,Union{Nothing, Bool}}}(\"curriculum-data\" => (Observable{Dict{String,Any}} with 1 listeners. Value:\n",
       "Dict{String,Any}(\"options\" => Dict{String,Any}(\"hideTerms\" => false,\"edit\" => false),\"curriculum\" => Dict{String,Any}(\"name\" => \"Computer Engineering\",\"dp_name\" => \"2019-20 Degree Plan\",\"curriculum_terms\" => Dict{String,Any}[Dict(\"name\" => \"Term 1\",\"curriculum_items\" => Dict{String,Any}[Dict(\"curriculum_requisites\" => Dict{String,Any}[],\"name\" => \"MATH 125\",\"metrics\" => Dict{String,Any}(\"complexity\" => 29.0,\"centrality\" => 0,\"blocking factor\" => 21,\"delay factor\" => 8.0),\"nameSub\" => \"Calculus I w/ Applications\",\"id\" => 1,\"credits\" => 3,\"nameCanonical\" => \"\"), Dict(\"curriculum_requisites\" => Dict{String,Any}[],\"name\" => \"CHEM 151\",\"metrics\" => Dict{String,Any}(\"complexity\" => 1.0,\"centrality\" => 0,\"blocking factor\" => 0,\"delay factor\" => 1.0),\"nameSub\" => \"Gen Chemistry I\",\"id\" => 2,\"credits\" => 4,\"nameCanonical\" => \"\"), Dict(\"curriculum_requisites\" => Dict{String,Any}[],\"name\" => \"ENGL 101\",\"metrics\" => Dict{String,Any}(\"complexity\" => 3.0,\"centrality\" => 0,\"blocking factor\" => 1,\"delay factor\" => 2.0),\"nameSub\" => \"First-year Comp.\",\"id\" => 3,\"credits\" => 3,\"nameCanonical\" => \"\"), Dict(\"curriculum_requisites\" => Dict{String,Any}[Dict(\"source_id\" => 1,\"target_id\" => 4,\"type\" => \"CurriculumCorequisite\")],\"name\" => \"ENGR 102\",\"metrics\" => Dict{String,Any}(\"complexity\" => 2.0,\"centrality\" => 0,\"blocking factor\" => 0,\"delay factor\" => 2.0),\"nameSub\" => \"Intro to Engineering\",\"id\" => 4,\"credits\" => 3,\"nameCanonical\" => \"\"), Dict(\"curriculum_requisites\" => Dict{String,Any}[],\"name\" => \" \",\"metrics\" => Dict{String,Any}(\"complexity\" => 1.0,\"centrality\" => 0,\"blocking factor\" => 0,\"delay factor\" => 1.0),\"nameSub\" => \"Tier I General Ed.\",\"id\" => 5,\"credits\" => 3,\"nameCanonical\" => \"\")],\"id\" => 1), Dict(\"name\" => \"Term 2\",\"curriculum_items\" => Dict{String,Any}[Dict(\"curriculum_requisites\" => Dict{String,Any}[Dict(\"source_id\" => 1,\"target_id\" => 6,\"type\" => \"CurriculumPrerequisite\")],\"name\" => \"MATH 129\",\"metrics\" => Dict{String,Any}(\"complexity\" => 22.0,\"centrality\" => 103,\"blocking factor\" => 14,\"delay factor\" => 8.0),\"nameSub\" => \"Calculus II\",\"id\" => 6,\"credits\" => 3,\"nameCanonical\" => \"\"), Dict(\"curriculum_requisites\" => Dict{String,Any}[Dict(\"source_id\" => 1,\"target_id\" => 7,\"type\" => \"CurriculumCorequisite\")],\"name\" => \"ECE 175\",\"metrics\" => Dict{String,Any}(\"complexity\" => 10.0,\"centrality\" => 22,\"blocking factor\" => 6,\"delay factor\" => 4.0),\"nameSub\" => \"Programming for Eng. Apps.\",\"id\" => 7,\"credits\" => 3,\"nameCanonical\" => \"\"), Dict(\"curriculum_requisites\" => Dict{String,Any}[Dict(\"source_id\" => 1,\"target_id\" => 8,\"type\" => \"CurriculumPrerequisite\")],\"name\" => \"PHYS 141\",\"metrics\" => Dict{String,Any}(\"complexity\" => 17.0,\"centrality\" => 36,\"blocking factor\" => 9,\"delay factor\" => 8.0),\"nameSub\" => \"Intro Mechanics\",\"id\" => 8,\"credits\" => 4,\"nameCanonical\" => \"\"), Dict(\"curriculum_requisites\" => Dict{String,Any}[Dict(\"source_id\" => 3,\"target_id\" => 9,\"type\" => \"CurriculumPrerequisite\")],\"name\" => \"ENGL 102\",\"metrics\" => Dict{String,Any}(\"complexity\" => 2.0,\"centrality\" => 0,\"blocking factor\" => 0,\"delay factor\" => 2.0),\"nameSub\" => \"First-year Comp.\",\"id\" => 9,\"credits\" => 3,\"nameCanonical\" => \"\"), Dict(\"curriculum_requisites\" => Dict{String,Any}[],\"name\" => \" \",\"metrics\" => Dict{String,Any}(\"complexity\" => 1.0,\"centrality\" => 0,\"blocking factor\" => 0,\"delay factor\" => 1.0),\"nameSub\" => \"Tier I General Ed.\",\"id\" => 10,\"credits\" => 3,\"nameCanonical\" => \"\")],\"id\" => 2), Dict(\"name\" => \"Term 3\",\"curriculum_items\" => Dict{String,Any}[Dict(\"curriculum_requisites\" => Dict{String,Any}[Dict(\"source_id\" => 7,\"target_id\" => 11,\"type\" => \"CurriculumPrerequisite\"), Dict(\"source_id\" => 6,\"target_id\" => 11,\"type\" => \"CurriculumCorequisite\")],\"name\" => \"ECE 274A\",\"metrics\" => Dict{String,Any}(\"complexity\" => 6.0,\"centrality\" => 16,\"blocking factor\" => 2,\"delay factor\" => 4.0),\"nameSub\" => \"Digital Logic\",\"id\" => 11,\"credits\" => 4,\"nameCanonical\" => \"\"), Dict(\"curriculum_requisites\" => Dict{String,Any}[Dict(\"source_id\" => 7,\"target_id\" => 12,\"type\" => \"CurriculumPrerequisite\")],\"name\" => \"ECE 275\",\"metrics\" => Dict{String,Any}(\"complexity\" => 6.0,\"centrality\" => 8,\"blocking factor\" => 2,\"delay factor\" => 4.0),\"nameSub\" => \"Programming for Eng. Apps. II\",\"id\" => 12,\"credits\" => 3,\"nameCanonical\" => \"\"), Dict(\"curriculum_requisites\" => Dict{String,Any}[Dict(\"source_id\" => 6,\"target_id\" => 13,\"type\" => \"CurriculumPrerequisite\")],\"name\" => \"MATH  223\",\"metrics\" => Dict{String,Any}(\"complexity\" => 3.0,\"centrality\" => 0,\"blocking factor\" => 0,\"delay factor\" => 3.0),\"nameSub\" => \"Vector Calculus\",\"id\" => 13,\"credits\" => 4,\"nameCanonical\" => \"\"), Dict(\"curriculum_requisites\" => Dict{String,Any}[Dict(\"source_id\" => 8,\"target_id\" => 14,\"type\" => \"CurriculumPrerequisite\"), Dict(\"source_id\" => 6,\"target_id\" => 14,\"type\" => \"CurriculumPrerequisite\")],\"name\" => \"PHYS 241\",\"metrics\" => Dict{String,Any}(\"complexity\" => 15.0,\"centrality\" => 66,\"blocking factor\" => 7,\"delay factor\" => 8.0),\"nameSub\" => \"Electricity & Magnetism\",\"id\" => 14,\"credits\" => 4,\"nameCanonical\" => \"\"), Dict(\"curriculum_requisites\" => Dict{String,Any}[],\"name\" => \" \",\"metrics\" => Dict{String,Any}(\"complexity\" => 1.0,\"centrality\" => 0,\"blocking factor\" => 0,\"delay factor\" => 1.0),\"nameSub\" => \"Tier I General Ed.\",\"id\" => 15,\"credits\" => 3,\"nameCanonical\" => \"\")],\"id\" => 3), Dict(\"name\" => \"Term 4\",\"curriculum_items\" => Dict{String,Any}[Dict(\"curriculum_requisites\" => Dict{String,Any}[Dict(\"source_id\" => 14,\"target_id\" => 16,\"type\" => \"CurriculumPrerequisite\"), Dict(\"source_id\" => 6,\"target_id\" => 16,\"type\" => \"CurriculumPrerequisite\")],\"name\" => \"ECE 220\",\"metrics\" => Dict{String,Any}(\"complexity\" => 14.0,\"centrality\" => 94,\"blocking factor\" => 6,\"delay factor\" => 8.0),\"nameSub\" => \"Basic Circuits\",\"id\" => 16,\"credits\" => 5,\"nameCanonical\" => \"\"), Dict(\"curriculum_requisites\" => Dict{String,Any}[Dict(\"source_id\" => 8,\"target_id\" => 17,\"type\" => \"CurriculumPrerequisite\"), Dict(\"source_id\" => 6,\"target_id\" => 17,\"type\" => \"CurriculumPrerequisite\")],\"name\" => \"PHYS 143\",\"metrics\" => Dict{String,Any}(\"complexity\" => 3.0,\"centrality\" => 0,\"blocking factor\" => 0,\"delay factor\" => 3.0),\"nameSub\" => \"Intro Optics and Thermo \",\"id\" => 17,\"credits\" => 2,\"nameCanonical\" => \"\"), Dict(\"curriculum_requisites\" => Dict{String,Any}[Dict(\"source_id\" => 1,\"target_id\" => 18,\"type\" => \"CurriculumPrerequisite\")],\"name\" => \"MATH 243\",\"metrics\" => Dict{String,Any}(\"complexity\" => 2.0,\"centrality\" => 0,\"blocking factor\" => 0,\"delay factor\" => 2.0),\"nameSub\" => \"Discrete Math\",\"id\" => 18,\"credits\" => 3,\"nameCanonical\" => \"\"), Dict(\"curriculum_requisites\" => Dict{String,Any}[Dict(\"source_id\" => 6,\"target_id\" => 19,\"type\" => \"CurriculumPrerequisite\")],\"name\" => \"MATH 254\",\"metrics\" => Dict{String,Any}(\"complexity\" => 13.0,\"centrality\" => 28,\"blocking factor\" => 6,\"delay factor\" => 7.0),\"nameSub\" => \"Intro to ODEs\",\"id\" => 19,\"credits\" => 3,\"nameCanonical\" => \"\"), Dict(\"curriculum_requisites\" => Dict{String,Any}[],\"name\" => \" \",\"metrics\" => Dict{String,Any}(\"complexity\" => 1.0,\"centrality\" => 0,\"blocking factor\" => 0,\"delay factor\" => 1.0),\"nameSub\" => \"Tier II General Ed.\",\"id\" => 20,\"credits\" => 3,\"nameCanonical\" => \"\")],\"id\" => 4), Dict(\"name\" => \"Term 5\",\"curriculum_items\" => Dict{String,Any}[Dict(\"curriculum_requisites\" => Dict{String,Any}[Dict(\"source_id\" => 7,\"target_id\" => 21,\"type\" => \"CurriculumPrerequisite\"), Dict(\"source_id\" => 19,\"target_id\" => 21,\"type\" => \"CurriculumPrerequisite\")],\"name\" => \"ECE 310\",\"metrics\" => Dict{String,Any}(\"complexity\" => 4.0,\"centrality\" => 0,\"blocking factor\" => 0,\"delay factor\" => 4.0),\"nameSub\" => \"Eng Math\",\"id\" => 21,\"credits\" => 4,\"nameCanonical\" => \"\"), Dict(\"curriculum_requisites\" => Dict{String,Any}[Dict(\"source_id\" => 7,\"target_id\" => 22,\"type\" => \"CurriculumPrerequisite\"), Dict(\"source_id\" => 11,\"target_id\" => 22,\"type\" => \"CurriculumPrerequisite\")],\"name\" => \"ECE 369A\",\"metrics\" => Dict{String,Any}(\"complexity\" => 4.0,\"centrality\" => 0,\"blocking factor\" => 0,\"delay factor\" => 4.0),\"nameSub\" => \"Fundamentals of Computer Org\",\"id\" => 22,\"credits\" => 4,\"nameCanonical\" => \"\"), Dict(\"curriculum_requisites\" => Dict{String,Any}[Dict(\"source_id\" => 19,\"target_id\" => 23,\"type\" => \"CurriculumPrerequisite\"), Dict(\"source_id\" => 16,\"target_id\" => 23,\"type\" => \"CurriculumPrerequisite\")],\"name\" => \"ECE 320A\",\"metrics\" => Dict{String,Any}(\"complexity\" => 12.0,\"centrality\" => 104,\"blocking factor\" => 4,\"delay factor\" => 8.0),\"nameSub\" => \"Circuit Theory\",\"id\" => 23,\"credits\" => 3,\"nameCanonical\" => \"\"), Dict(\"curriculum_requisites\" => Dict{String,Any}[Dict(\"source_id\" => 12,\"target_id\" => 25,\"type\" => \"CurriculumPrerequisite\")],\"name\" => \"ECE 373\",\"metrics\" => Dict{String,Any}(\"complexity\" => 4.0,\"centrality\" => 0,\"blocking factor\" => 0,\"delay factor\" => 4.0),\"nameSub\" => \"OO Software Design\",\"id\" => 25,\"credits\" => 3,\"nameCanonical\" => \"\"), Dict(\"curriculum_requisites\" => Dict{String,Any}[],\"name\" => \"ECE 311\",\"metrics\" => Dict{String,Any}(\"complexity\" => 1.0,\"centrality\" => 0,\"blocking factor\" => 0,\"delay factor\" => 1.0),\"nameSub\" => \"Eng Ethics\",\"id\" => 26,\"credits\" => 1,\"nameCanonical\" => \"\")],\"id\" => 5), Dict(\"name\" => \"Term 6\",\"curriculum_items\" => Dict{String,Any}[Dict(\"curriculum_requisites\" => Dict{String,Any}[],\"name\" => \" \",\"metrics\" => Dict{String,Any}(\"complexity\" => 1.0,\"centrality\" => 0,\"blocking factor\" => 0,\"delay factor\" => 1.0),\"nameSub\" => \"Technical Elective\",\"id\" => 27,\"credits\" => 3,\"nameCanonical\" => \"\"), Dict(\"curriculum_requisites\" => Dict{String,Any}[Dict(\"source_id\" => 23,\"target_id\" => 24,\"type\" => \"CurriculumPrerequisite\")],\"name\" => \"ECE 340A\",\"metrics\" => Dict{String,Any}(\"complexity\" => 6.0,\"centrality\" => 0,\"blocking factor\" => 0,\"delay factor\" => 6.0),\"nameSub\" => \"Intro to Comm\",\"id\" => 24,\"credits\" => 3,\"nameCanonical\" => \"\"), Dict(\"curriculum_requisites\" => Dict{String,Any}[Dict(\"source_id\" => 23,\"target_id\" => 28,\"type\" => \"CurriculumPrerequisite\")],\"name\" => \"ECE 351C\",\"metrics\" => Dict{String,Any}(\"complexity\" => 10.0,\"centrality\" => 56,\"blocking factor\" => 2,\"delay factor\" => 8.0),\"nameSub\" => \"Electronic Circuits\",\"id\" => 28,\"credits\" => 4,\"nameCanonical\" => \"\"), Dict(\"curriculum_requisites\" => Dict{String,Any}[Dict(\"source_id\" => 16,\"target_id\" => 29,\"type\" => \"CurriculumPrerequisite\"), Dict(\"source_id\" => 11,\"target_id\" => 29,\"type\" => \"CurriculumPrerequisite\"), Dict(\"source_id\" => 12,\"target_id\" => 29,\"type\" => \"CurriculumCorequisite\")],\"name\" => \"ECE 372A\",\"metrics\" => Dict{String,Any}(\"complexity\" => 5.0,\"centrality\" => 0,\"blocking factor\" => 0,\"delay factor\" => 5.0),\"nameSub\" => \"uProcessor Org\",\"id\" => 29,\"credits\" => 4,\"nameCanonical\" => \"\"), Dict(\"curriculum_requisites\" => Dict{String,Any}[],\"name\" => \" \",\"metrics\" => Dict{String,Any}(\"complexity\" => 1.0,\"centrality\" => 0,\"blocking factor\" => 0,\"delay factor\" => 1.0),\"nameSub\" => \"Tier I General Ed.\",\"id\" => 30,\"credits\" => 3,\"nameCanonical\" => \"\")],\"id\" => 6), Dict(\"name\" => \"Term 7\",\"curriculum_items\" => Dict{String,Any}[Dict(\"curriculum_requisites\" => Dict{String,Any}[Dict(\"source_id\" => 23,\"target_id\" => 31,\"type\" => \"CurriculumPrerequisite\"), Dict(\"source_id\" => 28,\"target_id\" => 31,\"type\" => \"CurriculumCorequisite\")],\"name\" => \"ENGR 498A\",\"metrics\" => Dict{String,Any}(\"complexity\" => 9.0,\"centrality\" => 56,\"blocking factor\" => 1,\"delay factor\" => 8.0),\"nameSub\" => \"Cross-disciplinary Design\",\"id\" => 31,\"credits\" => 3,\"nameCanonical\" => \"\"), Dict(\"curriculum_requisites\" => Dict{String,Any}[],\"name\" => \" \",\"metrics\" => Dict{String,Any}(\"complexity\" => 1.0,\"centrality\" => 0,\"blocking factor\" => 0,\"delay factor\" => 1.0),\"nameSub\" => \"Required Computer Course\",\"id\" => 32,\"credits\" => 3,\"nameCanonical\" => \"\"), Dict(\"curriculum_requisites\" => Dict{String,Any}[],\"name\" => \" \",\"metrics\" => Dict{String,Any}(\"complexity\" => 1.0,\"centrality\" => 0,\"blocking factor\" => 0,\"delay factor\" => 1.0),\"nameSub\" => \"Technical Elective\",\"id\" => 33,\"credits\" => 3,\"nameCanonical\" => \"\"), Dict(\"curriculum_requisites\" => Dict{String,Any}[],\"name\" => \" \",\"metrics\" => Dict{String,Any}(\"complexity\" => 1.0,\"centrality\" => 0,\"blocking factor\" => 0,\"delay factor\" => 1.0),\"nameSub\" => \"Technical Elective\",\"id\" => 34,\"credits\" => 3,\"nameCanonical\" => \"\"), Dict(\"curriculum_requisites\" => Dict{String,Any}[],\"name\" => \" \",\"metrics\" => Dict{String,Any}(\"complexity\" => 1.0,\"centrality\" => 0,\"blocking factor\" => 0,\"delay factor\" => 1.0),\"nameSub\" => \"Technical Elective\",\"id\" => 35,\"credits\" => 3,\"nameCanonical\" => \"\")],\"id\" => 7), Dict(\"name\" => \"Term 8\",\"curriculum_items\" => Dict{String,Any}[Dict(\"curriculum_requisites\" => Dict{String,Any}[Dict(\"source_id\" => 31,\"target_id\" => 36,\"type\" => \"CurriculumPrerequisite\"), Dict(\"source_id\" => 28,\"target_id\" => 36,\"type\" => \"CurriculumPrerequisite\")],\"name\" => \"ENGR 498B\",\"metrics\" => Dict{String,Any}(\"complexity\" => 8.0,\"centrality\" => 0,\"blocking factor\" => 0,\"delay factor\" => 8.0),\"nameSub\" => \"Cross-disciplinary Design\",\"id\" => 36,\"credits\" => 3,\"nameCanonical\" => \"\"), Dict(\"curriculum_requisites\" => Dict{String,Any}[],\"name\" => \" \",\"metrics\" => Dict{String,Any}(\"complexity\" => 1.0,\"centrality\" => 0,\"blocking factor\" => 0,\"delay factor\" => 1.0),\"nameSub\" => \"Technical Elective\",\"id\" => 37,\"credits\" => 3,\"nameCanonical\" => \"\"), Dict(\"curriculum_requisites\" => Dict{String,Any}[],\"name\" => \" \",\"metrics\" => Dict{String,Any}(\"complexity\" => 1.0,\"centrality\" => 0,\"blocking factor\" => 0,\"delay factor\" => 1.0),\"nameSub\" => \"Technical Elective\",\"id\" => 38,\"credits\" => 3,\"nameCanonical\" => \"\"), Dict(\"curriculum_requisites\" => Dict{String,Any}[],\"name\" => \" \",\"metrics\" => Dict{String,Any}(\"complexity\" => 1.0,\"centrality\" => 0,\"blocking factor\" => 0,\"delay factor\" => 1.0),\"nameSub\" => \"Technical Elective\",\"id\" => 39,\"credits\" => 3,\"nameCanonical\" => \"\"), Dict(\"curriculum_requisites\" => Dict{String,Any}[],\"name\" => \" \",\"metrics\" => Dict{String,Any}(\"complexity\" => 1.0,\"centrality\" => 0,\"blocking factor\" => 0,\"delay factor\" => 1.0),\"nameSub\" => \"Tier II General Ed.\",\"id\" => 40,\"credits\" => 3,\"nameCanonical\" => \"\")],\"id\" => 8)],\"institution\" => \"University of Arizona\")), nothing)), Set(String[]), nothing, WebIO.Asset[], Dict{Any,Any}(), WebIO.ConnectionPool(Channel{Any}(sz_max:32,sz_curr:0), Set(WebIO.AbstractConnection[]), Base.GenericCondition{Base.AlwaysLockedST}(Base.InvasiveLinkedList{Task}(Task (runnable) @0x000000012da8c6d0, Task (runnable) @0x000000012da8c6d0), Base.AlwaysLockedST(1))), WebIO.JSString[])"
      ]
     },
     "execution_count": 7,
     "metadata": {
      "application/vnd.webio.node+json": {
       "kernelId": "cb1d93c4-93e7-42e6-bb7b-5ba5ac413b8d"
      }
     },
     "output_type": "execute_result"
    }
   ],
   "source": [
    "CompE_plan = plans[\"Computer Engineering\"]\n",
    "visualize(CompE_plan, notebook=true)"
   ]
  },
  {
   "cell_type": "markdown",
   "metadata": {},
   "source": [
    "First we will analyze the structural properties of a curriculum in the college.  The structural properties of a curriculum are determined by the underlying structural properties of its corresponding curriculum graph (i.e., the graph showing the prerequisite relationships between the courses in a curriculum, ignoring term information).  Here's the degree plan for the Aerospace Engineering program.  By hovering your mouse over the courses in this figure, various metrics will be displayed."
   ]
  },
  {
   "cell_type": "code",
   "execution_count": 8,
   "metadata": {
    "scrolled": false
   },
   "outputs": [
    {
     "data": {
      "application/vnd.webio.node+json": {
       "children": [
        {
         "children": [
          ""
         ],
         "instanceArgs": {
          "namespace": "html",
          "tag": "iframe"
         },
         "nodeType": "DOM",
         "props": {
          "events": {
           "load": "(function (){this.contentWindow.postMessage({\"options\":{\"hideTerms\":false,\"edit\":false},\"curriculum\":{\"name\":\"Aerospace Engineering\",\"dp_name\":\"2019-20 Degree Plan\",\"curriculum_terms\":[{\"name\":\"Term 1\",\"curriculum_items\":[{\"curriculum_requisites\":[],\"name\":\"MATH 125\",\"metrics\":{\"complexity\":38.0,\"centrality\":0,\"blocking factor\":29,\"delay factor\":9.0},\"nameSub\":\"Calculus I w/ Applications\",\"id\":1,\"credits\":3,\"nameCanonical\":\"\"},{\"curriculum_requisites\":[],\"name\":\"CHEM 151\",\"metrics\":{\"complexity\":5.0,\"centrality\":0,\"blocking factor\":2,\"delay factor\":3.0},\"nameSub\":\"Gen Chemistry I\",\"id\":2,\"credits\":4,\"nameCanonical\":\"\"},{\"curriculum_requisites\":[],\"name\":\"ENGL 101\",\"metrics\":{\"complexity\":3.0,\"centrality\":0,\"blocking factor\":1,\"delay factor\":2.0},\"nameSub\":\"First-year Comp.\",\"id\":3,\"credits\":3,\"nameCanonical\":\"\"},{\"curriculum_requisites\":[{\"source_id\":1,\"target_id\":4,\"type\":\"CurriculumCorequisite\"}],\"name\":\"ENGR 102\",\"metrics\":{\"complexity\":2.0,\"centrality\":0,\"blocking factor\":0,\"delay factor\":2.0},\"nameSub\":\"Intro to Engineering\",\"id\":4,\"credits\":3,\"nameCanonical\":\"\"},{\"curriculum_requisites\":[],\"name\":\" \",\"metrics\":{\"complexity\":1.0,\"centrality\":0,\"blocking factor\":0,\"delay factor\":1.0},\"nameSub\":\"Tier I General Ed.\",\"id\":5,\"credits\":3,\"nameCanonical\":\"\"}],\"id\":1},{\"name\":\"Term 2\",\"curriculum_items\":[{\"curriculum_requisites\":[{\"source_id\":1,\"target_id\":6,\"type\":\"CurriculumPrerequisite\"}],\"name\":\"MATH 129\",\"metrics\":{\"complexity\":31.0,\"centrality\":388,\"blocking factor\":22,\"delay factor\":9.0},\"nameSub\":\"Calculus II\",\"id\":6,\"credits\":3,\"nameCanonical\":\"\"},{\"curriculum_requisites\":[{\"source_id\":1,\"target_id\":7,\"type\":\"CurriculumPrerequisite\"}],\"name\":\"AME 105\",\"metrics\":{\"complexity\":16.0,\"centrality\":28,\"blocking factor\":9,\"delay factor\":7.0},\"nameSub\":\"Intro. to MATLAB I\",\"id\":7,\"credits\":1,\"nameCanonical\":\"\"},{\"curriculum_requisites\":[{\"source_id\":1,\"target_id\":8,\"type\":\"CurriculumPrerequisite\"}],\"name\":\"PHYS 141\",\"metrics\":{\"complexity\":27.0,\"centrality\":272,\"blocking factor\":18,\"delay factor\":9.0},\"nameSub\":\"Intro Mechanics\",\"id\":8,\"credits\":4,\"nameCanonical\":\"\"},{\"curriculum_requisites\":[{\"source_id\":3,\"target_id\":9,\"type\":\"CurriculumPrerequisite\"}],\"name\":\"ENGL 102\",\"metrics\":{\"complexity\":2.0,\"centrality\":0,\"blocking factor\":0,\"delay factor\":2.0},\"nameSub\":\"First-year Comp.\",\"id\":9,\"credits\":3,\"nameCanonical\":\"\"},{\"curriculum_requisites\":[{\"source_id\":1,\"target_id\":10,\"type\":\"CurriculumCorequisite\"}],\"name\":\"ECE 175\",\"metrics\":{\"complexity\":2.0,\"centrality\":0,\"blocking factor\":0,\"delay factor\":2.0},\"nameSub\":\"Programming for Eng. Apps.\",\"id\":10,\"credits\":3,\"nameCanonical\":\"\"},{\"curriculum_requisites\":[],\"name\":\" \",\"metrics\":{\"complexity\":1.0,\"centrality\":0,\"blocking factor\":0,\"delay factor\":1.0},\"nameSub\":\"Tier I General Ed. 1\",\"id\":11,\"credits\":3,\"nameCanonical\":\"\"}],\"id\":2},{\"name\":\"Term 3\",\"curriculum_items\":[{\"curriculum_requisites\":[{\"source_id\":8,\"target_id\":12,\"type\":\"CurriculumPrerequisite\"},{\"source_id\":6,\"target_id\":12,\"type\":\"CurriculumPrerequisite\"}],\"name\":\"CE 214\",\"metrics\":{\"complexity\":23.0,\"centrality\":254,\"blocking factor\":14,\"delay factor\":9.0},\"nameSub\":\"Statics\",\"id\":12,\"credits\":3,\"nameCanonical\":\"\"},{\"curriculum_requisites\":[{\"source_id\":6,\"target_id\":13,\"type\":\"CurriculumPrerequisite\"}],\"name\":\"MATH  223\",\"metrics\":{\"complexity\":26.0,\"centrality\":258,\"blocking factor\":17,\"delay factor\":9.0},\"nameSub\":\"Vector Calculus\",\"id\":13,\"credits\":4,\"nameCanonical\":\"\"},{\"curriculum_requisites\":[{\"source_id\":8,\"target_id\":14,\"type\":\"CurriculumPrerequisite\"},{\"source_id\":6,\"target_id\":14,\"type\":\"CurriculumPrerequisite\"}],\"name\":\"PHYS 241\",\"metrics\":{\"complexity\":3.0,\"centrality\":0,\"blocking factor\":0,\"delay factor\":3.0},\"nameSub\":\"Electricity & Magnetism\",\"id\":14,\"credits\":4,\"nameCanonical\":\"\"},{\"curriculum_requisites\":[{\"source_id\":7,\"target_id\":15,\"type\":\"CurriculumPrerequisite\"}],\"name\":\"AME  205\",\"metrics\":{\"complexity\":15.0,\"centrality\":28,\"blocking factor\":8,\"delay factor\":7.0},\"nameSub\":\"Intro. To MATLAB II\",\"id\":15,\"credits\":1,\"nameCanonical\":\"\"},{\"curriculum_requisites\":[],\"name\":\"AME 211\",\"metrics\":{\"complexity\":1.0,\"centrality\":0,\"blocking factor\":0,\"delay factor\":1.0},\"nameSub\":\"Comp. Aided Drafting & Manufacturing\",\"id\":16,\"credits\":3,\"nameCanonical\":\"\"},{\"curriculum_requisites\":[],\"name\":\" \",\"metrics\":{\"complexity\":1.0,\"centrality\":0,\"blocking factor\":0,\"delay factor\":1.0},\"nameSub\":\"Tier I General Ed. 2\",\"id\":17,\"credits\":3,\"nameCanonical\":\"\"}],\"id\":3},{\"name\":\"Term 4\",\"curriculum_items\":[{\"curriculum_requisites\":[{\"source_id\":8,\"target_id\":18,\"type\":\"CurriculumPrerequisite\"}],\"name\":\"AME 230\",\"metrics\":{\"complexity\":19.0,\"centrality\":86,\"blocking factor\":11,\"delay factor\":8.0},\"nameSub\":\"Thermodynamics\",\"id\":18,\"credits\":3,\"nameCanonical\":\"\"},{\"curriculum_requisites\":[{\"source_id\":12,\"target_id\":19,\"type\":\"CurriculumPrerequisite\"},{\"source_id\":20,\"target_id\":19,\"type\":\"CurriculumCorequisite\"}],\"name\":\"AME 250\",\"metrics\":{\"complexity\":19.0,\"centrality\":145,\"blocking factor\":10,\"delay factor\":9.0},\"nameSub\":\"Dynamics\",\"id\":19,\"credits\":3,\"nameCanonical\":\"\"},{\"curriculum_requisites\":[{\"source_id\":13,\"target_id\":20,\"type\":\"CurriculumPrerequisite\"}],\"name\":\"MATH 254\",\"metrics\":{\"complexity\":25.0,\"centrality\":188,\"blocking factor\":16,\"delay factor\":9.0},\"nameSub\":\"Intro. to ODEs\",\"id\":20,\"credits\":3,\"nameCanonical\":\"\"},{\"curriculum_requisites\":[{\"source_id\":13,\"target_id\":21,\"type\":\"CurriculumPrerequisite\"},{\"source_id\":8,\"target_id\":21,\"type\":\"CurriculumPrerequisite\"},{\"source_id\":20,\"target_id\":21,\"type\":\"CurriculumCorequisite\"}],\"name\":\"AME 220\",\"metrics\":{\"complexity\":17.0,\"centrality\":198,\"blocking factor\":8,\"delay factor\":9.0},\"nameSub\":\"Intro. to Aerospace Eng.\",\"id\":21,\"credits\":3,\"nameCanonical\":\"\"},{\"curriculum_requisites\":[],\"name\":\" \",\"metrics\":{\"complexity\":1.0,\"centrality\":0,\"blocking factor\":0,\"delay factor\":1.0},\"nameSub\":\"Tier I General Ed. 3\",\"id\":22,\"credits\":3,\"nameCanonical\":\"\"}],\"id\":4},{\"name\":\"Term 5\",\"curriculum_items\":[{\"curriculum_requisites\":[{\"source_id\":26,\"target_id\":23,\"type\":\"CurriculumCorequisite\"},{\"source_id\":21,\"target_id\":23,\"type\":\"CurriculumPrerequisite\"}],\"name\":\"AME 320\",\"metrics\":{\"complexity\":14.0,\"centrality\":214,\"blocking factor\":5,\"delay factor\":9.0},\"nameSub\":\"Aerodynamics\",\"id\":23,\"credits\":3,\"nameCanonical\":\"\"},{\"curriculum_requisites\":[{\"source_id\":12,\"target_id\":24,\"type\":\"CurriculumPrerequisite\"}],\"name\":\"AME  324A\",\"metrics\":{\"complexity\":20.0,\"centrality\":162,\"blocking factor\":11,\"delay factor\":9.0},\"nameSub\":\"Mech. Behavior of Eng. Materials.\",\"id\":24,\"credits\":3,\"nameCanonical\":\"\"},{\"curriculum_requisites\":[{\"source_id\":20,\"target_id\":25,\"type\":\"CurriculumPrerequisite\"}],\"name\":\"AME 301\",\"metrics\":{\"complexity\":8.0,\"centrality\":12,\"blocking factor\":2,\"delay factor\":6.0},\"nameSub\":\"Engineering Analysis\",\"id\":25,\"credits\":3,\"nameCanonical\":\"\"},{\"curriculum_requisites\":[{\"source_id\":18,\"target_id\":26,\"type\":\"CurriculumCorequisite\"},{\"source_id\":24,\"target_id\":26,\"type\":\"CurriculumCorequisite\"}],\"name\":\"AME 300\",\"metrics\":{\"complexity\":19.0,\"centrality\":204,\"blocking factor\":10,\"delay factor\":9.0},\"nameSub\":\"Instrumentation Lab.\",\"id\":26,\"credits\":3,\"nameCanonical\":\"\"},{\"curriculum_requisites\":[{\"source_id\":2,\"target_id\":27,\"type\":\"CurriculumPrerequisite\"}],\"name\":\"MSE 331R\",\"metrics\":{\"complexity\":4.0,\"centrality\":3,\"blocking factor\":1,\"delay factor\":3.0},\"nameSub\":\"Fund. of Materials for Engineers\",\"id\":27,\"credits\":3,\"nameCanonical\":\"\"},{\"curriculum_requisites\":[{\"source_id\":25,\"target_id\":28,\"type\":\"CurriculumPrerequisite\"}],\"name\":\"AME 324L\",\"metrics\":{\"complexity\":6.0,\"centrality\":0,\"blocking factor\":0,\"delay factor\":6.0},\"nameSub\":\"Mech. of Materials Lab.\",\"id\":28,\"credits\":1,\"nameCanonical\":\"\"}],\"id\":5},{\"name\":\"Term 6\",\"curriculum_items\":[{\"curriculum_requisites\":[{\"source_id\":25,\"target_id\":29,\"type\":\"CurriculumPrerequisite\"}],\"name\":\"AME 324B\",\"metrics\":{\"complexity\":6.0,\"centrality\":0,\"blocking factor\":0,\"delay factor\":6.0},\"nameSub\":\"Eng. Component Design\",\"id\":29,\"credits\":3,\"nameCanonical\":\"\"},{\"curriculum_requisites\":[{\"source_id\":23,\"target_id\":30,\"type\":\"CurriculumCorequisite\"},{\"source_id\":19,\"target_id\":30,\"type\":\"CurriculumPrerequisite\"},{\"source_id\":21,\"target_id\":30,\"type\":\"CurriculumPrerequisite\"}],\"name\":\"AME 321\",\"metrics\":{\"complexity\":12.0,\"centrality\":174,\"blocking factor\":3,\"delay factor\":9.0},\"nameSub\":\"Aircraft Performance\",\"id\":30,\"credits\":3,\"nameCanonical\":\"\"},{\"curriculum_requisites\":[{\"source_id\":18,\"target_id\":31,\"type\":\"CurriculumPrerequisite\"},{\"source_id\":32,\"target_id\":31,\"type\":\"CurriculumCorequisite\"},{\"source_id\":21,\"target_id\":31,\"type\":\"CurriculumPrerequisite\"},{\"source_id\":20,\"target_id\":31,\"type\":\"CurriculumPrerequisite\"}],\"name\":\"AME 323\",\"metrics\":{\"complexity\":13.0,\"centrality\":274,\"blocking factor\":4,\"delay factor\":9.0},\"nameSub\":\"Gasdynamics\",\"id\":31,\"credits\":3,\"nameCanonical\":\"\"},{\"curriculum_requisites\":[{\"source_id\":26,\"target_id\":32,\"type\":\"CurriculumCorequisite\"},{\"source_id\":19,\"target_id\":32,\"type\":\"CurriculumPrerequisite\"},{\"source_id\":15,\"target_id\":32,\"type\":\"CurriculumPrerequisite\"},{\"source_id\":20,\"target_id\":32,\"type\":\"CurriculumPrerequisite\"}],\"name\":\"AME 302\",\"metrics\":{\"complexity\":15.0,\"centrality\":232,\"blocking factor\":6,\"delay factor\":9.0},\"nameSub\":\"Numerical Methods\",\"id\":32,\"credits\":3,\"nameCanonical\":\"\"},{\"curriculum_requisites\":[],\"name\":\"AME 313\",\"metrics\":{\"complexity\":5.0,\"centrality\":0,\"blocking factor\":2,\"delay factor\":3.0},\"nameSub\":\"Aero./Mech. Eng. Lab\",\"id\":33,\"credits\":1,\"nameCanonical\":\"\"},{\"curriculum_requisites\":[],\"name\":\" \",\"metrics\":{\"complexity\":1.0,\"centrality\":0,\"blocking factor\":0,\"delay factor\":1.0},\"nameSub\":\"Tier II General Ed. 1\",\"id\":34,\"credits\":3,\"nameCanonical\":\"\"}],\"id\":6},{\"name\":\"Term 7\",\"curriculum_items\":[{\"curriculum_requisites\":[{\"source_id\":23,\"target_id\":35,\"type\":\"CurriculumPrerequisite\"},{\"source_id\":31,\"target_id\":35,\"type\":\"CurriculumPrerequisite\"},{\"source_id\":27,\"target_id\":35,\"type\":\"CurriculumPrerequisite\"}],\"name\":\"AME 401\",\"metrics\":{\"complexity\":8.0,\"centrality\":0,\"blocking factor\":0,\"delay factor\":8.0},\"nameSub\":\"Senior Aerospace Lab.\",\"id\":35,\"credits\":3,\"nameCanonical\":\"\"},{\"curriculum_requisites\":[{\"source_id\":23,\"target_id\":36,\"type\":\"CurriculumPrerequisite\"},{\"source_id\":31,\"target_id\":36,\"type\":\"CurriculumPrerequisite\"},{\"source_id\":33,\"target_id\":36,\"type\":\"CurriculumPrerequisite\"},{\"source_id\":30,\"target_id\":36,\"type\":\"CurriculumPrerequisite\"}],\"name\":\"AME 420\",\"metrics\":{\"complexity\":10.0,\"centrality\":240,\"blocking factor\":1,\"delay factor\":9.0},\"nameSub\":\"Aerospace Conceptual Design\",\"id\":36,\"credits\":3,\"nameCanonical\":\"\"},{\"curriculum_requisites\":[{\"source_id\":24,\"target_id\":37,\"type\":\"CurriculumPrerequisite\"},{\"source_id\":31,\"target_id\":37,\"type\":\"CurriculumPrerequisite\"},{\"source_id\":18,\"target_id\":37,\"type\":\"CurriculumPrerequisite\"}],\"name\":\"AME 425\",\"metrics\":{\"complexity\":8.0,\"centrality\":0,\"blocking factor\":0,\"delay factor\":8.0},\"nameSub\":\"Aerospace Propulsion\",\"id\":37,\"credits\":3,\"nameCanonical\":\"\"},{\"curriculum_requisites\":[{\"source_id\":23,\"target_id\":38,\"type\":\"CurriculumPrerequisite\"},{\"source_id\":15,\"target_id\":38,\"type\":\"CurriculumPrerequisite\"},{\"source_id\":30,\"target_id\":38,\"type\":\"CurriculumPrerequisite\"}],\"name\":\"AME 427\",\"metrics\":{\"complexity\":8.0,\"centrality\":0,\"blocking factor\":0,\"delay factor\":8.0},\"nameSub\":\"Stability and Control of Aero. Vehicles\",\"id\":38,\"credits\":3,\"nameCanonical\":\"\"},{\"curriculum_requisites\":[{\"source_id\":13,\"target_id\":39,\"type\":\"CurriculumPrerequisite\"},{\"source_id\":19,\"target_id\":39,\"type\":\"CurriculumPrerequisite\"}],\"name\":\"AME 457\",\"metrics\":{\"complexity\":6.0,\"centrality\":0,\"blocking factor\":0,\"delay factor\":6.0},\"nameSub\":\"Orbital Mechanicans and Space Flt.\",\"id\":39,\"credits\":3,\"nameCanonical\":\"\"},{\"curriculum_requisites\":[],\"name\":\"AME 495S\",\"metrics\":{\"complexity\":1.0,\"centrality\":0,\"blocking factor\":0,\"delay factor\":1.0},\"nameSub\":\"Senior Colloquium\",\"id\":40,\"credits\":1,\"nameCanonical\":\"\"}],\"id\":7},{\"name\":\"Term 8\",\"curriculum_items\":[{\"curriculum_requisites\":[{\"source_id\":36,\"target_id\":41,\"type\":\"CurriculumPrerequisite\"},{\"source_id\":33,\"target_id\":41,\"type\":\"CurriculumCorequisite\"}],\"name\":\"AME 422\",\"metrics\":{\"complexity\":9.0,\"centrality\":0,\"blocking factor\":0,\"delay factor\":9.0},\"nameSub\":\"Aerospace Eng.Design\",\"id\":41,\"credits\":3,\"nameCanonical\":\"\"},{\"curriculum_requisites\":[{\"source_id\":24,\"target_id\":42,\"type\":\"CurriculumPrerequisite\"},{\"source_id\":32,\"target_id\":42,\"type\":\"CurriculumPrerequisite\"},{\"source_id\":18,\"target_id\":42,\"type\":\"CurriculumPrerequisite\"}],\"name\":\"AME 431\",\"metrics\":{\"complexity\":7.0,\"centrality\":0,\"blocking factor\":0,\"delay factor\":7.0},\"nameSub\":\"Num. Meth. in Fluid Mech. & Heat Xfer\",\"id\":42,\"credits\":3,\"nameCanonical\":\"\"},{\"curriculum_requisites\":[],\"name\":\" \",\"metrics\":{\"complexity\":1.0,\"centrality\":0,\"blocking factor\":0,\"delay factor\":1.0},\"nameSub\":\"Technical Elective 1\",\"id\":43,\"credits\":3,\"nameCanonical\":\"\"},{\"curriculum_requisites\":[],\"name\":\" \",\"metrics\":{\"complexity\":1.0,\"centrality\":0,\"blocking factor\":0,\"delay factor\":1.0},\"nameSub\":\"Technical Elective 2\",\"id\":44,\"credits\":3,\"nameCanonical\":\"\"},{\"curriculum_requisites\":[],\"name\":\" \",\"metrics\":{\"complexity\":1.0,\"centrality\":0,\"blocking factor\":0,\"delay factor\":1.0},\"nameSub\":\"Tier II General Ed. 2\",\"id\":45,\"credits\":3,\"nameCanonical\":\"\"}],\"id\":8}],\"institution\":\"University of Arizona\"}},\"*\"); window.removeEventListener(\"message\",window.messageReceived); window.messageReceived=(function (event){return (event.data.curriculum!==undefined) ? (WebIO.setval({\"name\":\"curriculum-data\",\"scope\":\"1167406872428871750\",\"id\":\"ob_04\",\"type\":\"observable\"},event.data.curriculum)) : undefined}); return window.addEventListener(\"message\",window.messageReceived)})"
          },
          "id": "curriculum",
          "src": "http://localhost:8156",
          "style": {
           "border": "none",
           "height": "100vh",
           "margin": "0",
           "padding": "0",
           "width": "100%"
          }
         },
         "type": "node"
        }
       ],
       "instanceArgs": {
        "handlers": {},
        "id": "1167406872428871750",
        "imports": {
         "data": [],
         "type": "async_block"
        },
        "mount_callbacks": [],
        "observables": {
         "curriculum-data": {
          "id": "ob_04",
          "sync": true,
          "value": {
           "curriculum": {
            "curriculum_terms": [
             {
              "curriculum_items": [
               {
                "credits": 3,
                "curriculum_requisites": [],
                "id": 1,
                "metrics": {
                 "blocking factor": 29,
                 "centrality": 0,
                 "complexity": 38,
                 "delay factor": 9
                },
                "name": "MATH 125",
                "nameCanonical": "",
                "nameSub": "Calculus I w/ Applications"
               },
               {
                "credits": 4,
                "curriculum_requisites": [],
                "id": 2,
                "metrics": {
                 "blocking factor": 2,
                 "centrality": 0,
                 "complexity": 5,
                 "delay factor": 3
                },
                "name": "CHEM 151",
                "nameCanonical": "",
                "nameSub": "Gen Chemistry I"
               },
               {
                "credits": 3,
                "curriculum_requisites": [],
                "id": 3,
                "metrics": {
                 "blocking factor": 1,
                 "centrality": 0,
                 "complexity": 3,
                 "delay factor": 2
                },
                "name": "ENGL 101",
                "nameCanonical": "",
                "nameSub": "First-year Comp."
               },
               {
                "credits": 3,
                "curriculum_requisites": [
                 {
                  "source_id": 1,
                  "target_id": 4,
                  "type": "CurriculumCorequisite"
                 }
                ],
                "id": 4,
                "metrics": {
                 "blocking factor": 0,
                 "centrality": 0,
                 "complexity": 2,
                 "delay factor": 2
                },
                "name": "ENGR 102",
                "nameCanonical": "",
                "nameSub": "Intro to Engineering"
               },
               {
                "credits": 3,
                "curriculum_requisites": [],
                "id": 5,
                "metrics": {
                 "blocking factor": 0,
                 "centrality": 0,
                 "complexity": 1,
                 "delay factor": 1
                },
                "name": " ",
                "nameCanonical": "",
                "nameSub": "Tier I General Ed."
               }
              ],
              "id": 1,
              "name": "Term 1"
             },
             {
              "curriculum_items": [
               {
                "credits": 3,
                "curriculum_requisites": [
                 {
                  "source_id": 1,
                  "target_id": 6,
                  "type": "CurriculumPrerequisite"
                 }
                ],
                "id": 6,
                "metrics": {
                 "blocking factor": 22,
                 "centrality": 388,
                 "complexity": 31,
                 "delay factor": 9
                },
                "name": "MATH 129",
                "nameCanonical": "",
                "nameSub": "Calculus II"
               },
               {
                "credits": 1,
                "curriculum_requisites": [
                 {
                  "source_id": 1,
                  "target_id": 7,
                  "type": "CurriculumPrerequisite"
                 }
                ],
                "id": 7,
                "metrics": {
                 "blocking factor": 9,
                 "centrality": 28,
                 "complexity": 16,
                 "delay factor": 7
                },
                "name": "AME 105",
                "nameCanonical": "",
                "nameSub": "Intro. to MATLAB I"
               },
               {
                "credits": 4,
                "curriculum_requisites": [
                 {
                  "source_id": 1,
                  "target_id": 8,
                  "type": "CurriculumPrerequisite"
                 }
                ],
                "id": 8,
                "metrics": {
                 "blocking factor": 18,
                 "centrality": 272,
                 "complexity": 27,
                 "delay factor": 9
                },
                "name": "PHYS 141",
                "nameCanonical": "",
                "nameSub": "Intro Mechanics"
               },
               {
                "credits": 3,
                "curriculum_requisites": [
                 {
                  "source_id": 3,
                  "target_id": 9,
                  "type": "CurriculumPrerequisite"
                 }
                ],
                "id": 9,
                "metrics": {
                 "blocking factor": 0,
                 "centrality": 0,
                 "complexity": 2,
                 "delay factor": 2
                },
                "name": "ENGL 102",
                "nameCanonical": "",
                "nameSub": "First-year Comp."
               },
               {
                "credits": 3,
                "curriculum_requisites": [
                 {
                  "source_id": 1,
                  "target_id": 10,
                  "type": "CurriculumCorequisite"
                 }
                ],
                "id": 10,
                "metrics": {
                 "blocking factor": 0,
                 "centrality": 0,
                 "complexity": 2,
                 "delay factor": 2
                },
                "name": "ECE 175",
                "nameCanonical": "",
                "nameSub": "Programming for Eng. Apps."
               },
               {
                "credits": 3,
                "curriculum_requisites": [],
                "id": 11,
                "metrics": {
                 "blocking factor": 0,
                 "centrality": 0,
                 "complexity": 1,
                 "delay factor": 1
                },
                "name": " ",
                "nameCanonical": "",
                "nameSub": "Tier I General Ed. 1"
               }
              ],
              "id": 2,
              "name": "Term 2"
             },
             {
              "curriculum_items": [
               {
                "credits": 3,
                "curriculum_requisites": [
                 {
                  "source_id": 8,
                  "target_id": 12,
                  "type": "CurriculumPrerequisite"
                 },
                 {
                  "source_id": 6,
                  "target_id": 12,
                  "type": "CurriculumPrerequisite"
                 }
                ],
                "id": 12,
                "metrics": {
                 "blocking factor": 14,
                 "centrality": 254,
                 "complexity": 23,
                 "delay factor": 9
                },
                "name": "CE 214",
                "nameCanonical": "",
                "nameSub": "Statics"
               },
               {
                "credits": 4,
                "curriculum_requisites": [
                 {
                  "source_id": 6,
                  "target_id": 13,
                  "type": "CurriculumPrerequisite"
                 }
                ],
                "id": 13,
                "metrics": {
                 "blocking factor": 17,
                 "centrality": 258,
                 "complexity": 26,
                 "delay factor": 9
                },
                "name": "MATH  223",
                "nameCanonical": "",
                "nameSub": "Vector Calculus"
               },
               {
                "credits": 4,
                "curriculum_requisites": [
                 {
                  "source_id": 8,
                  "target_id": 14,
                  "type": "CurriculumPrerequisite"
                 },
                 {
                  "source_id": 6,
                  "target_id": 14,
                  "type": "CurriculumPrerequisite"
                 }
                ],
                "id": 14,
                "metrics": {
                 "blocking factor": 0,
                 "centrality": 0,
                 "complexity": 3,
                 "delay factor": 3
                },
                "name": "PHYS 241",
                "nameCanonical": "",
                "nameSub": "Electricity & Magnetism"
               },
               {
                "credits": 1,
                "curriculum_requisites": [
                 {
                  "source_id": 7,
                  "target_id": 15,
                  "type": "CurriculumPrerequisite"
                 }
                ],
                "id": 15,
                "metrics": {
                 "blocking factor": 8,
                 "centrality": 28,
                 "complexity": 15,
                 "delay factor": 7
                },
                "name": "AME  205",
                "nameCanonical": "",
                "nameSub": "Intro. To MATLAB II"
               },
               {
                "credits": 3,
                "curriculum_requisites": [],
                "id": 16,
                "metrics": {
                 "blocking factor": 0,
                 "centrality": 0,
                 "complexity": 1,
                 "delay factor": 1
                },
                "name": "AME 211",
                "nameCanonical": "",
                "nameSub": "Comp. Aided Drafting & Manufacturing"
               },
               {
                "credits": 3,
                "curriculum_requisites": [],
                "id": 17,
                "metrics": {
                 "blocking factor": 0,
                 "centrality": 0,
                 "complexity": 1,
                 "delay factor": 1
                },
                "name": " ",
                "nameCanonical": "",
                "nameSub": "Tier I General Ed. 2"
               }
              ],
              "id": 3,
              "name": "Term 3"
             },
             {
              "curriculum_items": [
               {
                "credits": 3,
                "curriculum_requisites": [
                 {
                  "source_id": 8,
                  "target_id": 18,
                  "type": "CurriculumPrerequisite"
                 }
                ],
                "id": 18,
                "metrics": {
                 "blocking factor": 11,
                 "centrality": 86,
                 "complexity": 19,
                 "delay factor": 8
                },
                "name": "AME 230",
                "nameCanonical": "",
                "nameSub": "Thermodynamics"
               },
               {
                "credits": 3,
                "curriculum_requisites": [
                 {
                  "source_id": 12,
                  "target_id": 19,
                  "type": "CurriculumPrerequisite"
                 },
                 {
                  "source_id": 20,
                  "target_id": 19,
                  "type": "CurriculumCorequisite"
                 }
                ],
                "id": 19,
                "metrics": {
                 "blocking factor": 10,
                 "centrality": 145,
                 "complexity": 19,
                 "delay factor": 9
                },
                "name": "AME 250",
                "nameCanonical": "",
                "nameSub": "Dynamics"
               },
               {
                "credits": 3,
                "curriculum_requisites": [
                 {
                  "source_id": 13,
                  "target_id": 20,
                  "type": "CurriculumPrerequisite"
                 }
                ],
                "id": 20,
                "metrics": {
                 "blocking factor": 16,
                 "centrality": 188,
                 "complexity": 25,
                 "delay factor": 9
                },
                "name": "MATH 254",
                "nameCanonical": "",
                "nameSub": "Intro. to ODEs"
               },
               {
                "credits": 3,
                "curriculum_requisites": [
                 {
                  "source_id": 13,
                  "target_id": 21,
                  "type": "CurriculumPrerequisite"
                 },
                 {
                  "source_id": 8,
                  "target_id": 21,
                  "type": "CurriculumPrerequisite"
                 },
                 {
                  "source_id": 20,
                  "target_id": 21,
                  "type": "CurriculumCorequisite"
                 }
                ],
                "id": 21,
                "metrics": {
                 "blocking factor": 8,
                 "centrality": 198,
                 "complexity": 17,
                 "delay factor": 9
                },
                "name": "AME 220",
                "nameCanonical": "",
                "nameSub": "Intro. to Aerospace Eng."
               },
               {
                "credits": 3,
                "curriculum_requisites": [],
                "id": 22,
                "metrics": {
                 "blocking factor": 0,
                 "centrality": 0,
                 "complexity": 1,
                 "delay factor": 1
                },
                "name": " ",
                "nameCanonical": "",
                "nameSub": "Tier I General Ed. 3"
               }
              ],
              "id": 4,
              "name": "Term 4"
             },
             {
              "curriculum_items": [
               {
                "credits": 3,
                "curriculum_requisites": [
                 {
                  "source_id": 26,
                  "target_id": 23,
                  "type": "CurriculumCorequisite"
                 },
                 {
                  "source_id": 21,
                  "target_id": 23,
                  "type": "CurriculumPrerequisite"
                 }
                ],
                "id": 23,
                "metrics": {
                 "blocking factor": 5,
                 "centrality": 214,
                 "complexity": 14,
                 "delay factor": 9
                },
                "name": "AME 320",
                "nameCanonical": "",
                "nameSub": "Aerodynamics"
               },
               {
                "credits": 3,
                "curriculum_requisites": [
                 {
                  "source_id": 12,
                  "target_id": 24,
                  "type": "CurriculumPrerequisite"
                 }
                ],
                "id": 24,
                "metrics": {
                 "blocking factor": 11,
                 "centrality": 162,
                 "complexity": 20,
                 "delay factor": 9
                },
                "name": "AME  324A",
                "nameCanonical": "",
                "nameSub": "Mech. Behavior of Eng. Materials."
               },
               {
                "credits": 3,
                "curriculum_requisites": [
                 {
                  "source_id": 20,
                  "target_id": 25,
                  "type": "CurriculumPrerequisite"
                 }
                ],
                "id": 25,
                "metrics": {
                 "blocking factor": 2,
                 "centrality": 12,
                 "complexity": 8,
                 "delay factor": 6
                },
                "name": "AME 301",
                "nameCanonical": "",
                "nameSub": "Engineering Analysis"
               },
               {
                "credits": 3,
                "curriculum_requisites": [
                 {
                  "source_id": 18,
                  "target_id": 26,
                  "type": "CurriculumCorequisite"
                 },
                 {
                  "source_id": 24,
                  "target_id": 26,
                  "type": "CurriculumCorequisite"
                 }
                ],
                "id": 26,
                "metrics": {
                 "blocking factor": 10,
                 "centrality": 204,
                 "complexity": 19,
                 "delay factor": 9
                },
                "name": "AME 300",
                "nameCanonical": "",
                "nameSub": "Instrumentation Lab."
               },
               {
                "credits": 3,
                "curriculum_requisites": [
                 {
                  "source_id": 2,
                  "target_id": 27,
                  "type": "CurriculumPrerequisite"
                 }
                ],
                "id": 27,
                "metrics": {
                 "blocking factor": 1,
                 "centrality": 3,
                 "complexity": 4,
                 "delay factor": 3
                },
                "name": "MSE 331R",
                "nameCanonical": "",
                "nameSub": "Fund. of Materials for Engineers"
               },
               {
                "credits": 1,
                "curriculum_requisites": [
                 {
                  "source_id": 25,
                  "target_id": 28,
                  "type": "CurriculumPrerequisite"
                 }
                ],
                "id": 28,
                "metrics": {
                 "blocking factor": 0,
                 "centrality": 0,
                 "complexity": 6,
                 "delay factor": 6
                },
                "name": "AME 324L",
                "nameCanonical": "",
                "nameSub": "Mech. of Materials Lab."
               }
              ],
              "id": 5,
              "name": "Term 5"
             },
             {
              "curriculum_items": [
               {
                "credits": 3,
                "curriculum_requisites": [
                 {
                  "source_id": 25,
                  "target_id": 29,
                  "type": "CurriculumPrerequisite"
                 }
                ],
                "id": 29,
                "metrics": {
                 "blocking factor": 0,
                 "centrality": 0,
                 "complexity": 6,
                 "delay factor": 6
                },
                "name": "AME 324B",
                "nameCanonical": "",
                "nameSub": "Eng. Component Design"
               },
               {
                "credits": 3,
                "curriculum_requisites": [
                 {
                  "source_id": 23,
                  "target_id": 30,
                  "type": "CurriculumCorequisite"
                 },
                 {
                  "source_id": 19,
                  "target_id": 30,
                  "type": "CurriculumPrerequisite"
                 },
                 {
                  "source_id": 21,
                  "target_id": 30,
                  "type": "CurriculumPrerequisite"
                 }
                ],
                "id": 30,
                "metrics": {
                 "blocking factor": 3,
                 "centrality": 174,
                 "complexity": 12,
                 "delay factor": 9
                },
                "name": "AME 321",
                "nameCanonical": "",
                "nameSub": "Aircraft Performance"
               },
               {
                "credits": 3,
                "curriculum_requisites": [
                 {
                  "source_id": 18,
                  "target_id": 31,
                  "type": "CurriculumPrerequisite"
                 },
                 {
                  "source_id": 32,
                  "target_id": 31,
                  "type": "CurriculumCorequisite"
                 },
                 {
                  "source_id": 21,
                  "target_id": 31,
                  "type": "CurriculumPrerequisite"
                 },
                 {
                  "source_id": 20,
                  "target_id": 31,
                  "type": "CurriculumPrerequisite"
                 }
                ],
                "id": 31,
                "metrics": {
                 "blocking factor": 4,
                 "centrality": 274,
                 "complexity": 13,
                 "delay factor": 9
                },
                "name": "AME 323",
                "nameCanonical": "",
                "nameSub": "Gasdynamics"
               },
               {
                "credits": 3,
                "curriculum_requisites": [
                 {
                  "source_id": 26,
                  "target_id": 32,
                  "type": "CurriculumCorequisite"
                 },
                 {
                  "source_id": 19,
                  "target_id": 32,
                  "type": "CurriculumPrerequisite"
                 },
                 {
                  "source_id": 15,
                  "target_id": 32,
                  "type": "CurriculumPrerequisite"
                 },
                 {
                  "source_id": 20,
                  "target_id": 32,
                  "type": "CurriculumPrerequisite"
                 }
                ],
                "id": 32,
                "metrics": {
                 "blocking factor": 6,
                 "centrality": 232,
                 "complexity": 15,
                 "delay factor": 9
                },
                "name": "AME 302",
                "nameCanonical": "",
                "nameSub": "Numerical Methods"
               },
               {
                "credits": 1,
                "curriculum_requisites": [],
                "id": 33,
                "metrics": {
                 "blocking factor": 2,
                 "centrality": 0,
                 "complexity": 5,
                 "delay factor": 3
                },
                "name": "AME 313",
                "nameCanonical": "",
                "nameSub": "Aero./Mech. Eng. Lab"
               },
               {
                "credits": 3,
                "curriculum_requisites": [],
                "id": 34,
                "metrics": {
                 "blocking factor": 0,
                 "centrality": 0,
                 "complexity": 1,
                 "delay factor": 1
                },
                "name": " ",
                "nameCanonical": "",
                "nameSub": "Tier II General Ed. 1"
               }
              ],
              "id": 6,
              "name": "Term 6"
             },
             {
              "curriculum_items": [
               {
                "credits": 3,
                "curriculum_requisites": [
                 {
                  "source_id": 23,
                  "target_id": 35,
                  "type": "CurriculumPrerequisite"
                 },
                 {
                  "source_id": 31,
                  "target_id": 35,
                  "type": "CurriculumPrerequisite"
                 },
                 {
                  "source_id": 27,
                  "target_id": 35,
                  "type": "CurriculumPrerequisite"
                 }
                ],
                "id": 35,
                "metrics": {
                 "blocking factor": 0,
                 "centrality": 0,
                 "complexity": 8,
                 "delay factor": 8
                },
                "name": "AME 401",
                "nameCanonical": "",
                "nameSub": "Senior Aerospace Lab."
               },
               {
                "credits": 3,
                "curriculum_requisites": [
                 {
                  "source_id": 23,
                  "target_id": 36,
                  "type": "CurriculumPrerequisite"
                 },
                 {
                  "source_id": 31,
                  "target_id": 36,
                  "type": "CurriculumPrerequisite"
                 },
                 {
                  "source_id": 33,
                  "target_id": 36,
                  "type": "CurriculumPrerequisite"
                 },
                 {
                  "source_id": 30,
                  "target_id": 36,
                  "type": "CurriculumPrerequisite"
                 }
                ],
                "id": 36,
                "metrics": {
                 "blocking factor": 1,
                 "centrality": 240,
                 "complexity": 10,
                 "delay factor": 9
                },
                "name": "AME 420",
                "nameCanonical": "",
                "nameSub": "Aerospace Conceptual Design"
               },
               {
                "credits": 3,
                "curriculum_requisites": [
                 {
                  "source_id": 24,
                  "target_id": 37,
                  "type": "CurriculumPrerequisite"
                 },
                 {
                  "source_id": 31,
                  "target_id": 37,
                  "type": "CurriculumPrerequisite"
                 },
                 {
                  "source_id": 18,
                  "target_id": 37,
                  "type": "CurriculumPrerequisite"
                 }
                ],
                "id": 37,
                "metrics": {
                 "blocking factor": 0,
                 "centrality": 0,
                 "complexity": 8,
                 "delay factor": 8
                },
                "name": "AME 425",
                "nameCanonical": "",
                "nameSub": "Aerospace Propulsion"
               },
               {
                "credits": 3,
                "curriculum_requisites": [
                 {
                  "source_id": 23,
                  "target_id": 38,
                  "type": "CurriculumPrerequisite"
                 },
                 {
                  "source_id": 15,
                  "target_id": 38,
                  "type": "CurriculumPrerequisite"
                 },
                 {
                  "source_id": 30,
                  "target_id": 38,
                  "type": "CurriculumPrerequisite"
                 }
                ],
                "id": 38,
                "metrics": {
                 "blocking factor": 0,
                 "centrality": 0,
                 "complexity": 8,
                 "delay factor": 8
                },
                "name": "AME 427",
                "nameCanonical": "",
                "nameSub": "Stability and Control of Aero. Vehicles"
               },
               {
                "credits": 3,
                "curriculum_requisites": [
                 {
                  "source_id": 13,
                  "target_id": 39,
                  "type": "CurriculumPrerequisite"
                 },
                 {
                  "source_id": 19,
                  "target_id": 39,
                  "type": "CurriculumPrerequisite"
                 }
                ],
                "id": 39,
                "metrics": {
                 "blocking factor": 0,
                 "centrality": 0,
                 "complexity": 6,
                 "delay factor": 6
                },
                "name": "AME 457",
                "nameCanonical": "",
                "nameSub": "Orbital Mechanicans and Space Flt."
               },
               {
                "credits": 1,
                "curriculum_requisites": [],
                "id": 40,
                "metrics": {
                 "blocking factor": 0,
                 "centrality": 0,
                 "complexity": 1,
                 "delay factor": 1
                },
                "name": "AME 495S",
                "nameCanonical": "",
                "nameSub": "Senior Colloquium"
               }
              ],
              "id": 7,
              "name": "Term 7"
             },
             {
              "curriculum_items": [
               {
                "credits": 3,
                "curriculum_requisites": [
                 {
                  "source_id": 36,
                  "target_id": 41,
                  "type": "CurriculumPrerequisite"
                 },
                 {
                  "source_id": 33,
                  "target_id": 41,
                  "type": "CurriculumCorequisite"
                 }
                ],
                "id": 41,
                "metrics": {
                 "blocking factor": 0,
                 "centrality": 0,
                 "complexity": 9,
                 "delay factor": 9
                },
                "name": "AME 422",
                "nameCanonical": "",
                "nameSub": "Aerospace Eng.Design"
               },
               {
                "credits": 3,
                "curriculum_requisites": [
                 {
                  "source_id": 24,
                  "target_id": 42,
                  "type": "CurriculumPrerequisite"
                 },
                 {
                  "source_id": 32,
                  "target_id": 42,
                  "type": "CurriculumPrerequisite"
                 },
                 {
                  "source_id": 18,
                  "target_id": 42,
                  "type": "CurriculumPrerequisite"
                 }
                ],
                "id": 42,
                "metrics": {
                 "blocking factor": 0,
                 "centrality": 0,
                 "complexity": 7,
                 "delay factor": 7
                },
                "name": "AME 431",
                "nameCanonical": "",
                "nameSub": "Num. Meth. in Fluid Mech. & Heat Xfer"
               },
               {
                "credits": 3,
                "curriculum_requisites": [],
                "id": 43,
                "metrics": {
                 "blocking factor": 0,
                 "centrality": 0,
                 "complexity": 1,
                 "delay factor": 1
                },
                "name": " ",
                "nameCanonical": "",
                "nameSub": "Technical Elective 1"
               },
               {
                "credits": 3,
                "curriculum_requisites": [],
                "id": 44,
                "metrics": {
                 "blocking factor": 0,
                 "centrality": 0,
                 "complexity": 1,
                 "delay factor": 1
                },
                "name": " ",
                "nameCanonical": "",
                "nameSub": "Technical Elective 2"
               },
               {
                "credits": 3,
                "curriculum_requisites": [],
                "id": 45,
                "metrics": {
                 "blocking factor": 0,
                 "centrality": 0,
                 "complexity": 1,
                 "delay factor": 1
                },
                "name": " ",
                "nameCanonical": "",
                "nameSub": "Tier II General Ed. 2"
               }
              ],
              "id": 8,
              "name": "Term 8"
             }
            ],
            "dp_name": "2019-20 Degree Plan",
            "institution": "University of Arizona",
            "name": "Aerospace Engineering"
           },
           "options": {
            "edit": false,
            "hideTerms": false
           }
          }
         }
        },
        "systemjs_options": null
       },
       "nodeType": "Scope",
       "props": {},
       "type": "node"
      },
      "text/html": [
       "<div\n",
       "    class=\"webio-mountpoint\"\n",
       "    data-webio-mountpoint=\"1380635270871294256\"\n",
       ">\n",
       "    <script>\n",
       "    if (window.require && require.defined && require.defined(\"nbextensions/webio-jupyter-notebook\")) {\n",
       "        console.log(\"Jupyter WebIO extension detected, not mounting.\");\n",
       "    } else if (window.WebIO) {\n",
       "        WebIO.mount(\n",
       "            document.querySelector('[data-webio-mountpoint=\"1380635270871294256\"]'),\n",
       "            {\"props\":{},\"nodeType\":\"Scope\",\"type\":\"node\",\"instanceArgs\":{\"imports\":{\"data\":[],\"type\":\"async_block\"},\"id\":\"1167406872428871750\",\"handlers\":{},\"systemjs_options\":null,\"mount_callbacks\":[],\"observables\":{\"curriculum-data\":{\"sync\":true,\"id\":\"ob_04\",\"value\":{\"options\":{\"hideTerms\":false,\"edit\":false},\"curriculum\":{\"name\":\"Aerospace Engineering\",\"dp_name\":\"2019-20 Degree Plan\",\"curriculum_terms\":[{\"name\":\"Term 1\",\"curriculum_items\":[{\"curriculum_requisites\":[],\"name\":\"MATH 125\",\"metrics\":{\"complexity\":38.0,\"centrality\":0,\"blocking factor\":29,\"delay factor\":9.0},\"nameSub\":\"Calculus I w\\/ Applications\",\"id\":1,\"credits\":3,\"nameCanonical\":\"\"},{\"curriculum_requisites\":[],\"name\":\"CHEM 151\",\"metrics\":{\"complexity\":5.0,\"centrality\":0,\"blocking factor\":2,\"delay factor\":3.0},\"nameSub\":\"Gen Chemistry I\",\"id\":2,\"credits\":4,\"nameCanonical\":\"\"},{\"curriculum_requisites\":[],\"name\":\"ENGL 101\",\"metrics\":{\"complexity\":3.0,\"centrality\":0,\"blocking factor\":1,\"delay factor\":2.0},\"nameSub\":\"First-year Comp.\",\"id\":3,\"credits\":3,\"nameCanonical\":\"\"},{\"curriculum_requisites\":[{\"source_id\":1,\"target_id\":4,\"type\":\"CurriculumCorequisite\"}],\"name\":\"ENGR 102\",\"metrics\":{\"complexity\":2.0,\"centrality\":0,\"blocking factor\":0,\"delay factor\":2.0},\"nameSub\":\"Intro to Engineering\",\"id\":4,\"credits\":3,\"nameCanonical\":\"\"},{\"curriculum_requisites\":[],\"name\":\" \",\"metrics\":{\"complexity\":1.0,\"centrality\":0,\"blocking factor\":0,\"delay factor\":1.0},\"nameSub\":\"Tier I General Ed.\",\"id\":5,\"credits\":3,\"nameCanonical\":\"\"}],\"id\":1},{\"name\":\"Term 2\",\"curriculum_items\":[{\"curriculum_requisites\":[{\"source_id\":1,\"target_id\":6,\"type\":\"CurriculumPrerequisite\"}],\"name\":\"MATH 129\",\"metrics\":{\"complexity\":31.0,\"centrality\":388,\"blocking factor\":22,\"delay factor\":9.0},\"nameSub\":\"Calculus II\",\"id\":6,\"credits\":3,\"nameCanonical\":\"\"},{\"curriculum_requisites\":[{\"source_id\":1,\"target_id\":7,\"type\":\"CurriculumPrerequisite\"}],\"name\":\"AME 105\",\"metrics\":{\"complexity\":16.0,\"centrality\":28,\"blocking factor\":9,\"delay factor\":7.0},\"nameSub\":\"Intro. to MATLAB I\",\"id\":7,\"credits\":1,\"nameCanonical\":\"\"},{\"curriculum_requisites\":[{\"source_id\":1,\"target_id\":8,\"type\":\"CurriculumPrerequisite\"}],\"name\":\"PHYS 141\",\"metrics\":{\"complexity\":27.0,\"centrality\":272,\"blocking factor\":18,\"delay factor\":9.0},\"nameSub\":\"Intro Mechanics\",\"id\":8,\"credits\":4,\"nameCanonical\":\"\"},{\"curriculum_requisites\":[{\"source_id\":3,\"target_id\":9,\"type\":\"CurriculumPrerequisite\"}],\"name\":\"ENGL 102\",\"metrics\":{\"complexity\":2.0,\"centrality\":0,\"blocking factor\":0,\"delay factor\":2.0},\"nameSub\":\"First-year Comp.\",\"id\":9,\"credits\":3,\"nameCanonical\":\"\"},{\"curriculum_requisites\":[{\"source_id\":1,\"target_id\":10,\"type\":\"CurriculumCorequisite\"}],\"name\":\"ECE 175\",\"metrics\":{\"complexity\":2.0,\"centrality\":0,\"blocking factor\":0,\"delay factor\":2.0},\"nameSub\":\"Programming for Eng. Apps.\",\"id\":10,\"credits\":3,\"nameCanonical\":\"\"},{\"curriculum_requisites\":[],\"name\":\" \",\"metrics\":{\"complexity\":1.0,\"centrality\":0,\"blocking factor\":0,\"delay factor\":1.0},\"nameSub\":\"Tier I General Ed. 1\",\"id\":11,\"credits\":3,\"nameCanonical\":\"\"}],\"id\":2},{\"name\":\"Term 3\",\"curriculum_items\":[{\"curriculum_requisites\":[{\"source_id\":8,\"target_id\":12,\"type\":\"CurriculumPrerequisite\"},{\"source_id\":6,\"target_id\":12,\"type\":\"CurriculumPrerequisite\"}],\"name\":\"CE 214\",\"metrics\":{\"complexity\":23.0,\"centrality\":254,\"blocking factor\":14,\"delay factor\":9.0},\"nameSub\":\"Statics\",\"id\":12,\"credits\":3,\"nameCanonical\":\"\"},{\"curriculum_requisites\":[{\"source_id\":6,\"target_id\":13,\"type\":\"CurriculumPrerequisite\"}],\"name\":\"MATH  223\",\"metrics\":{\"complexity\":26.0,\"centrality\":258,\"blocking factor\":17,\"delay factor\":9.0},\"nameSub\":\"Vector Calculus\",\"id\":13,\"credits\":4,\"nameCanonical\":\"\"},{\"curriculum_requisites\":[{\"source_id\":8,\"target_id\":14,\"type\":\"CurriculumPrerequisite\"},{\"source_id\":6,\"target_id\":14,\"type\":\"CurriculumPrerequisite\"}],\"name\":\"PHYS 241\",\"metrics\":{\"complexity\":3.0,\"centrality\":0,\"blocking factor\":0,\"delay factor\":3.0},\"nameSub\":\"Electricity & Magnetism\",\"id\":14,\"credits\":4,\"nameCanonical\":\"\"},{\"curriculum_requisites\":[{\"source_id\":7,\"target_id\":15,\"type\":\"CurriculumPrerequisite\"}],\"name\":\"AME  205\",\"metrics\":{\"complexity\":15.0,\"centrality\":28,\"blocking factor\":8,\"delay factor\":7.0},\"nameSub\":\"Intro. To MATLAB II\",\"id\":15,\"credits\":1,\"nameCanonical\":\"\"},{\"curriculum_requisites\":[],\"name\":\"AME 211\",\"metrics\":{\"complexity\":1.0,\"centrality\":0,\"blocking factor\":0,\"delay factor\":1.0},\"nameSub\":\"Comp. Aided Drafting & Manufacturing\",\"id\":16,\"credits\":3,\"nameCanonical\":\"\"},{\"curriculum_requisites\":[],\"name\":\" \",\"metrics\":{\"complexity\":1.0,\"centrality\":0,\"blocking factor\":0,\"delay factor\":1.0},\"nameSub\":\"Tier I General Ed. 2\",\"id\":17,\"credits\":3,\"nameCanonical\":\"\"}],\"id\":3},{\"name\":\"Term 4\",\"curriculum_items\":[{\"curriculum_requisites\":[{\"source_id\":8,\"target_id\":18,\"type\":\"CurriculumPrerequisite\"}],\"name\":\"AME 230\",\"metrics\":{\"complexity\":19.0,\"centrality\":86,\"blocking factor\":11,\"delay factor\":8.0},\"nameSub\":\"Thermodynamics\",\"id\":18,\"credits\":3,\"nameCanonical\":\"\"},{\"curriculum_requisites\":[{\"source_id\":12,\"target_id\":19,\"type\":\"CurriculumPrerequisite\"},{\"source_id\":20,\"target_id\":19,\"type\":\"CurriculumCorequisite\"}],\"name\":\"AME 250\",\"metrics\":{\"complexity\":19.0,\"centrality\":145,\"blocking factor\":10,\"delay factor\":9.0},\"nameSub\":\"Dynamics\",\"id\":19,\"credits\":3,\"nameCanonical\":\"\"},{\"curriculum_requisites\":[{\"source_id\":13,\"target_id\":20,\"type\":\"CurriculumPrerequisite\"}],\"name\":\"MATH 254\",\"metrics\":{\"complexity\":25.0,\"centrality\":188,\"blocking factor\":16,\"delay factor\":9.0},\"nameSub\":\"Intro. to ODEs\",\"id\":20,\"credits\":3,\"nameCanonical\":\"\"},{\"curriculum_requisites\":[{\"source_id\":13,\"target_id\":21,\"type\":\"CurriculumPrerequisite\"},{\"source_id\":8,\"target_id\":21,\"type\":\"CurriculumPrerequisite\"},{\"source_id\":20,\"target_id\":21,\"type\":\"CurriculumCorequisite\"}],\"name\":\"AME 220\",\"metrics\":{\"complexity\":17.0,\"centrality\":198,\"blocking factor\":8,\"delay factor\":9.0},\"nameSub\":\"Intro. to Aerospace Eng.\",\"id\":21,\"credits\":3,\"nameCanonical\":\"\"},{\"curriculum_requisites\":[],\"name\":\" \",\"metrics\":{\"complexity\":1.0,\"centrality\":0,\"blocking factor\":0,\"delay factor\":1.0},\"nameSub\":\"Tier I General Ed. 3\",\"id\":22,\"credits\":3,\"nameCanonical\":\"\"}],\"id\":4},{\"name\":\"Term 5\",\"curriculum_items\":[{\"curriculum_requisites\":[{\"source_id\":26,\"target_id\":23,\"type\":\"CurriculumCorequisite\"},{\"source_id\":21,\"target_id\":23,\"type\":\"CurriculumPrerequisite\"}],\"name\":\"AME 320\",\"metrics\":{\"complexity\":14.0,\"centrality\":214,\"blocking factor\":5,\"delay factor\":9.0},\"nameSub\":\"Aerodynamics\",\"id\":23,\"credits\":3,\"nameCanonical\":\"\"},{\"curriculum_requisites\":[{\"source_id\":12,\"target_id\":24,\"type\":\"CurriculumPrerequisite\"}],\"name\":\"AME  324A\",\"metrics\":{\"complexity\":20.0,\"centrality\":162,\"blocking factor\":11,\"delay factor\":9.0},\"nameSub\":\"Mech. Behavior of Eng. Materials.\",\"id\":24,\"credits\":3,\"nameCanonical\":\"\"},{\"curriculum_requisites\":[{\"source_id\":20,\"target_id\":25,\"type\":\"CurriculumPrerequisite\"}],\"name\":\"AME 301\",\"metrics\":{\"complexity\":8.0,\"centrality\":12,\"blocking factor\":2,\"delay factor\":6.0},\"nameSub\":\"Engineering Analysis\",\"id\":25,\"credits\":3,\"nameCanonical\":\"\"},{\"curriculum_requisites\":[{\"source_id\":18,\"target_id\":26,\"type\":\"CurriculumCorequisite\"},{\"source_id\":24,\"target_id\":26,\"type\":\"CurriculumCorequisite\"}],\"name\":\"AME 300\",\"metrics\":{\"complexity\":19.0,\"centrality\":204,\"blocking factor\":10,\"delay factor\":9.0},\"nameSub\":\"Instrumentation Lab.\",\"id\":26,\"credits\":3,\"nameCanonical\":\"\"},{\"curriculum_requisites\":[{\"source_id\":2,\"target_id\":27,\"type\":\"CurriculumPrerequisite\"}],\"name\":\"MSE 331R\",\"metrics\":{\"complexity\":4.0,\"centrality\":3,\"blocking factor\":1,\"delay factor\":3.0},\"nameSub\":\"Fund. of Materials for Engineers\",\"id\":27,\"credits\":3,\"nameCanonical\":\"\"},{\"curriculum_requisites\":[{\"source_id\":25,\"target_id\":28,\"type\":\"CurriculumPrerequisite\"}],\"name\":\"AME 324L\",\"metrics\":{\"complexity\":6.0,\"centrality\":0,\"blocking factor\":0,\"delay factor\":6.0},\"nameSub\":\"Mech. of Materials Lab.\",\"id\":28,\"credits\":1,\"nameCanonical\":\"\"}],\"id\":5},{\"name\":\"Term 6\",\"curriculum_items\":[{\"curriculum_requisites\":[{\"source_id\":25,\"target_id\":29,\"type\":\"CurriculumPrerequisite\"}],\"name\":\"AME 324B\",\"metrics\":{\"complexity\":6.0,\"centrality\":0,\"blocking factor\":0,\"delay factor\":6.0},\"nameSub\":\"Eng. Component Design\",\"id\":29,\"credits\":3,\"nameCanonical\":\"\"},{\"curriculum_requisites\":[{\"source_id\":23,\"target_id\":30,\"type\":\"CurriculumCorequisite\"},{\"source_id\":19,\"target_id\":30,\"type\":\"CurriculumPrerequisite\"},{\"source_id\":21,\"target_id\":30,\"type\":\"CurriculumPrerequisite\"}],\"name\":\"AME 321\",\"metrics\":{\"complexity\":12.0,\"centrality\":174,\"blocking factor\":3,\"delay factor\":9.0},\"nameSub\":\"Aircraft Performance\",\"id\":30,\"credits\":3,\"nameCanonical\":\"\"},{\"curriculum_requisites\":[{\"source_id\":18,\"target_id\":31,\"type\":\"CurriculumPrerequisite\"},{\"source_id\":32,\"target_id\":31,\"type\":\"CurriculumCorequisite\"},{\"source_id\":21,\"target_id\":31,\"type\":\"CurriculumPrerequisite\"},{\"source_id\":20,\"target_id\":31,\"type\":\"CurriculumPrerequisite\"}],\"name\":\"AME 323\",\"metrics\":{\"complexity\":13.0,\"centrality\":274,\"blocking factor\":4,\"delay factor\":9.0},\"nameSub\":\"Gasdynamics\",\"id\":31,\"credits\":3,\"nameCanonical\":\"\"},{\"curriculum_requisites\":[{\"source_id\":26,\"target_id\":32,\"type\":\"CurriculumCorequisite\"},{\"source_id\":19,\"target_id\":32,\"type\":\"CurriculumPrerequisite\"},{\"source_id\":15,\"target_id\":32,\"type\":\"CurriculumPrerequisite\"},{\"source_id\":20,\"target_id\":32,\"type\":\"CurriculumPrerequisite\"}],\"name\":\"AME 302\",\"metrics\":{\"complexity\":15.0,\"centrality\":232,\"blocking factor\":6,\"delay factor\":9.0},\"nameSub\":\"Numerical Methods\",\"id\":32,\"credits\":3,\"nameCanonical\":\"\"},{\"curriculum_requisites\":[],\"name\":\"AME 313\",\"metrics\":{\"complexity\":5.0,\"centrality\":0,\"blocking factor\":2,\"delay factor\":3.0},\"nameSub\":\"Aero.\\/Mech. Eng. Lab\",\"id\":33,\"credits\":1,\"nameCanonical\":\"\"},{\"curriculum_requisites\":[],\"name\":\" \",\"metrics\":{\"complexity\":1.0,\"centrality\":0,\"blocking factor\":0,\"delay factor\":1.0},\"nameSub\":\"Tier II General Ed. 1\",\"id\":34,\"credits\":3,\"nameCanonical\":\"\"}],\"id\":6},{\"name\":\"Term 7\",\"curriculum_items\":[{\"curriculum_requisites\":[{\"source_id\":23,\"target_id\":35,\"type\":\"CurriculumPrerequisite\"},{\"source_id\":31,\"target_id\":35,\"type\":\"CurriculumPrerequisite\"},{\"source_id\":27,\"target_id\":35,\"type\":\"CurriculumPrerequisite\"}],\"name\":\"AME 401\",\"metrics\":{\"complexity\":8.0,\"centrality\":0,\"blocking factor\":0,\"delay factor\":8.0},\"nameSub\":\"Senior Aerospace Lab.\",\"id\":35,\"credits\":3,\"nameCanonical\":\"\"},{\"curriculum_requisites\":[{\"source_id\":23,\"target_id\":36,\"type\":\"CurriculumPrerequisite\"},{\"source_id\":31,\"target_id\":36,\"type\":\"CurriculumPrerequisite\"},{\"source_id\":33,\"target_id\":36,\"type\":\"CurriculumPrerequisite\"},{\"source_id\":30,\"target_id\":36,\"type\":\"CurriculumPrerequisite\"}],\"name\":\"AME 420\",\"metrics\":{\"complexity\":10.0,\"centrality\":240,\"blocking factor\":1,\"delay factor\":9.0},\"nameSub\":\"Aerospace Conceptual Design\",\"id\":36,\"credits\":3,\"nameCanonical\":\"\"},{\"curriculum_requisites\":[{\"source_id\":24,\"target_id\":37,\"type\":\"CurriculumPrerequisite\"},{\"source_id\":31,\"target_id\":37,\"type\":\"CurriculumPrerequisite\"},{\"source_id\":18,\"target_id\":37,\"type\":\"CurriculumPrerequisite\"}],\"name\":\"AME 425\",\"metrics\":{\"complexity\":8.0,\"centrality\":0,\"blocking factor\":0,\"delay factor\":8.0},\"nameSub\":\"Aerospace Propulsion\",\"id\":37,\"credits\":3,\"nameCanonical\":\"\"},{\"curriculum_requisites\":[{\"source_id\":23,\"target_id\":38,\"type\":\"CurriculumPrerequisite\"},{\"source_id\":15,\"target_id\":38,\"type\":\"CurriculumPrerequisite\"},{\"source_id\":30,\"target_id\":38,\"type\":\"CurriculumPrerequisite\"}],\"name\":\"AME 427\",\"metrics\":{\"complexity\":8.0,\"centrality\":0,\"blocking factor\":0,\"delay factor\":8.0},\"nameSub\":\"Stability and Control of Aero. Vehicles\",\"id\":38,\"credits\":3,\"nameCanonical\":\"\"},{\"curriculum_requisites\":[{\"source_id\":13,\"target_id\":39,\"type\":\"CurriculumPrerequisite\"},{\"source_id\":19,\"target_id\":39,\"type\":\"CurriculumPrerequisite\"}],\"name\":\"AME 457\",\"metrics\":{\"complexity\":6.0,\"centrality\":0,\"blocking factor\":0,\"delay factor\":6.0},\"nameSub\":\"Orbital Mechanicans and Space Flt.\",\"id\":39,\"credits\":3,\"nameCanonical\":\"\"},{\"curriculum_requisites\":[],\"name\":\"AME 495S\",\"metrics\":{\"complexity\":1.0,\"centrality\":0,\"blocking factor\":0,\"delay factor\":1.0},\"nameSub\":\"Senior Colloquium\",\"id\":40,\"credits\":1,\"nameCanonical\":\"\"}],\"id\":7},{\"name\":\"Term 8\",\"curriculum_items\":[{\"curriculum_requisites\":[{\"source_id\":36,\"target_id\":41,\"type\":\"CurriculumPrerequisite\"},{\"source_id\":33,\"target_id\":41,\"type\":\"CurriculumCorequisite\"}],\"name\":\"AME 422\",\"metrics\":{\"complexity\":9.0,\"centrality\":0,\"blocking factor\":0,\"delay factor\":9.0},\"nameSub\":\"Aerospace Eng.Design\",\"id\":41,\"credits\":3,\"nameCanonical\":\"\"},{\"curriculum_requisites\":[{\"source_id\":24,\"target_id\":42,\"type\":\"CurriculumPrerequisite\"},{\"source_id\":32,\"target_id\":42,\"type\":\"CurriculumPrerequisite\"},{\"source_id\":18,\"target_id\":42,\"type\":\"CurriculumPrerequisite\"}],\"name\":\"AME 431\",\"metrics\":{\"complexity\":7.0,\"centrality\":0,\"blocking factor\":0,\"delay factor\":7.0},\"nameSub\":\"Num. Meth. in Fluid Mech. & Heat Xfer\",\"id\":42,\"credits\":3,\"nameCanonical\":\"\"},{\"curriculum_requisites\":[],\"name\":\" \",\"metrics\":{\"complexity\":1.0,\"centrality\":0,\"blocking factor\":0,\"delay factor\":1.0},\"nameSub\":\"Technical Elective 1\",\"id\":43,\"credits\":3,\"nameCanonical\":\"\"},{\"curriculum_requisites\":[],\"name\":\" \",\"metrics\":{\"complexity\":1.0,\"centrality\":0,\"blocking factor\":0,\"delay factor\":1.0},\"nameSub\":\"Technical Elective 2\",\"id\":44,\"credits\":3,\"nameCanonical\":\"\"},{\"curriculum_requisites\":[],\"name\":\" \",\"metrics\":{\"complexity\":1.0,\"centrality\":0,\"blocking factor\":0,\"delay factor\":1.0},\"nameSub\":\"Tier II General Ed. 2\",\"id\":45,\"credits\":3,\"nameCanonical\":\"\"}],\"id\":8}],\"institution\":\"University of Arizona\"}}}}},\"children\":[{\"props\":{\"src\":\"http:\\/\\/localhost:8156\",\"id\":\"curriculum\",\"events\":{\"load\":\"(function (){this.contentWindow.postMessage({\\\"options\\\":{\\\"hideTerms\\\":false,\\\"edit\\\":false},\\\"curriculum\\\":{\\\"name\\\":\\\"Aerospace Engineering\\\",\\\"dp_name\\\":\\\"2019-20 Degree Plan\\\",\\\"curriculum_terms\\\":[{\\\"name\\\":\\\"Term 1\\\",\\\"curriculum_items\\\":[{\\\"curriculum_requisites\\\":[],\\\"name\\\":\\\"MATH 125\\\",\\\"metrics\\\":{\\\"complexity\\\":38.0,\\\"centrality\\\":0,\\\"blocking factor\\\":29,\\\"delay factor\\\":9.0},\\\"nameSub\\\":\\\"Calculus I w\\/ Applications\\\",\\\"id\\\":1,\\\"credits\\\":3,\\\"nameCanonical\\\":\\\"\\\"},{\\\"curriculum_requisites\\\":[],\\\"name\\\":\\\"CHEM 151\\\",\\\"metrics\\\":{\\\"complexity\\\":5.0,\\\"centrality\\\":0,\\\"blocking factor\\\":2,\\\"delay factor\\\":3.0},\\\"nameSub\\\":\\\"Gen Chemistry I\\\",\\\"id\\\":2,\\\"credits\\\":4,\\\"nameCanonical\\\":\\\"\\\"},{\\\"curriculum_requisites\\\":[],\\\"name\\\":\\\"ENGL 101\\\",\\\"metrics\\\":{\\\"complexity\\\":3.0,\\\"centrality\\\":0,\\\"blocking factor\\\":1,\\\"delay factor\\\":2.0},\\\"nameSub\\\":\\\"First-year Comp.\\\",\\\"id\\\":3,\\\"credits\\\":3,\\\"nameCanonical\\\":\\\"\\\"},{\\\"curriculum_requisites\\\":[{\\\"source_id\\\":1,\\\"target_id\\\":4,\\\"type\\\":\\\"CurriculumCorequisite\\\"}],\\\"name\\\":\\\"ENGR 102\\\",\\\"metrics\\\":{\\\"complexity\\\":2.0,\\\"centrality\\\":0,\\\"blocking factor\\\":0,\\\"delay factor\\\":2.0},\\\"nameSub\\\":\\\"Intro to Engineering\\\",\\\"id\\\":4,\\\"credits\\\":3,\\\"nameCanonical\\\":\\\"\\\"},{\\\"curriculum_requisites\\\":[],\\\"name\\\":\\\" \\\",\\\"metrics\\\":{\\\"complexity\\\":1.0,\\\"centrality\\\":0,\\\"blocking factor\\\":0,\\\"delay factor\\\":1.0},\\\"nameSub\\\":\\\"Tier I General Ed.\\\",\\\"id\\\":5,\\\"credits\\\":3,\\\"nameCanonical\\\":\\\"\\\"}],\\\"id\\\":1},{\\\"name\\\":\\\"Term 2\\\",\\\"curriculum_items\\\":[{\\\"curriculum_requisites\\\":[{\\\"source_id\\\":1,\\\"target_id\\\":6,\\\"type\\\":\\\"CurriculumPrerequisite\\\"}],\\\"name\\\":\\\"MATH 129\\\",\\\"metrics\\\":{\\\"complexity\\\":31.0,\\\"centrality\\\":388,\\\"blocking factor\\\":22,\\\"delay factor\\\":9.0},\\\"nameSub\\\":\\\"Calculus II\\\",\\\"id\\\":6,\\\"credits\\\":3,\\\"nameCanonical\\\":\\\"\\\"},{\\\"curriculum_requisites\\\":[{\\\"source_id\\\":1,\\\"target_id\\\":7,\\\"type\\\":\\\"CurriculumPrerequisite\\\"}],\\\"name\\\":\\\"AME 105\\\",\\\"metrics\\\":{\\\"complexity\\\":16.0,\\\"centrality\\\":28,\\\"blocking factor\\\":9,\\\"delay factor\\\":7.0},\\\"nameSub\\\":\\\"Intro. to MATLAB I\\\",\\\"id\\\":7,\\\"credits\\\":1,\\\"nameCanonical\\\":\\\"\\\"},{\\\"curriculum_requisites\\\":[{\\\"source_id\\\":1,\\\"target_id\\\":8,\\\"type\\\":\\\"CurriculumPrerequisite\\\"}],\\\"name\\\":\\\"PHYS 141\\\",\\\"metrics\\\":{\\\"complexity\\\":27.0,\\\"centrality\\\":272,\\\"blocking factor\\\":18,\\\"delay factor\\\":9.0},\\\"nameSub\\\":\\\"Intro Mechanics\\\",\\\"id\\\":8,\\\"credits\\\":4,\\\"nameCanonical\\\":\\\"\\\"},{\\\"curriculum_requisites\\\":[{\\\"source_id\\\":3,\\\"target_id\\\":9,\\\"type\\\":\\\"CurriculumPrerequisite\\\"}],\\\"name\\\":\\\"ENGL 102\\\",\\\"metrics\\\":{\\\"complexity\\\":2.0,\\\"centrality\\\":0,\\\"blocking factor\\\":0,\\\"delay factor\\\":2.0},\\\"nameSub\\\":\\\"First-year Comp.\\\",\\\"id\\\":9,\\\"credits\\\":3,\\\"nameCanonical\\\":\\\"\\\"},{\\\"curriculum_requisites\\\":[{\\\"source_id\\\":1,\\\"target_id\\\":10,\\\"type\\\":\\\"CurriculumCorequisite\\\"}],\\\"name\\\":\\\"ECE 175\\\",\\\"metrics\\\":{\\\"complexity\\\":2.0,\\\"centrality\\\":0,\\\"blocking factor\\\":0,\\\"delay factor\\\":2.0},\\\"nameSub\\\":\\\"Programming for Eng. Apps.\\\",\\\"id\\\":10,\\\"credits\\\":3,\\\"nameCanonical\\\":\\\"\\\"},{\\\"curriculum_requisites\\\":[],\\\"name\\\":\\\" \\\",\\\"metrics\\\":{\\\"complexity\\\":1.0,\\\"centrality\\\":0,\\\"blocking factor\\\":0,\\\"delay factor\\\":1.0},\\\"nameSub\\\":\\\"Tier I General Ed. 1\\\",\\\"id\\\":11,\\\"credits\\\":3,\\\"nameCanonical\\\":\\\"\\\"}],\\\"id\\\":2},{\\\"name\\\":\\\"Term 3\\\",\\\"curriculum_items\\\":[{\\\"curriculum_requisites\\\":[{\\\"source_id\\\":8,\\\"target_id\\\":12,\\\"type\\\":\\\"CurriculumPrerequisite\\\"},{\\\"source_id\\\":6,\\\"target_id\\\":12,\\\"type\\\":\\\"CurriculumPrerequisite\\\"}],\\\"name\\\":\\\"CE 214\\\",\\\"metrics\\\":{\\\"complexity\\\":23.0,\\\"centrality\\\":254,\\\"blocking factor\\\":14,\\\"delay factor\\\":9.0},\\\"nameSub\\\":\\\"Statics\\\",\\\"id\\\":12,\\\"credits\\\":3,\\\"nameCanonical\\\":\\\"\\\"},{\\\"curriculum_requisites\\\":[{\\\"source_id\\\":6,\\\"target_id\\\":13,\\\"type\\\":\\\"CurriculumPrerequisite\\\"}],\\\"name\\\":\\\"MATH  223\\\",\\\"metrics\\\":{\\\"complexity\\\":26.0,\\\"centrality\\\":258,\\\"blocking factor\\\":17,\\\"delay factor\\\":9.0},\\\"nameSub\\\":\\\"Vector Calculus\\\",\\\"id\\\":13,\\\"credits\\\":4,\\\"nameCanonical\\\":\\\"\\\"},{\\\"curriculum_requisites\\\":[{\\\"source_id\\\":8,\\\"target_id\\\":14,\\\"type\\\":\\\"CurriculumPrerequisite\\\"},{\\\"source_id\\\":6,\\\"target_id\\\":14,\\\"type\\\":\\\"CurriculumPrerequisite\\\"}],\\\"name\\\":\\\"PHYS 241\\\",\\\"metrics\\\":{\\\"complexity\\\":3.0,\\\"centrality\\\":0,\\\"blocking factor\\\":0,\\\"delay factor\\\":3.0},\\\"nameSub\\\":\\\"Electricity & Magnetism\\\",\\\"id\\\":14,\\\"credits\\\":4,\\\"nameCanonical\\\":\\\"\\\"},{\\\"curriculum_requisites\\\":[{\\\"source_id\\\":7,\\\"target_id\\\":15,\\\"type\\\":\\\"CurriculumPrerequisite\\\"}],\\\"name\\\":\\\"AME  205\\\",\\\"metrics\\\":{\\\"complexity\\\":15.0,\\\"centrality\\\":28,\\\"blocking factor\\\":8,\\\"delay factor\\\":7.0},\\\"nameSub\\\":\\\"Intro. To MATLAB II\\\",\\\"id\\\":15,\\\"credits\\\":1,\\\"nameCanonical\\\":\\\"\\\"},{\\\"curriculum_requisites\\\":[],\\\"name\\\":\\\"AME 211\\\",\\\"metrics\\\":{\\\"complexity\\\":1.0,\\\"centrality\\\":0,\\\"blocking factor\\\":0,\\\"delay factor\\\":1.0},\\\"nameSub\\\":\\\"Comp. Aided Drafting & Manufacturing\\\",\\\"id\\\":16,\\\"credits\\\":3,\\\"nameCanonical\\\":\\\"\\\"},{\\\"curriculum_requisites\\\":[],\\\"name\\\":\\\" \\\",\\\"metrics\\\":{\\\"complexity\\\":1.0,\\\"centrality\\\":0,\\\"blocking factor\\\":0,\\\"delay factor\\\":1.0},\\\"nameSub\\\":\\\"Tier I General Ed. 2\\\",\\\"id\\\":17,\\\"credits\\\":3,\\\"nameCanonical\\\":\\\"\\\"}],\\\"id\\\":3},{\\\"name\\\":\\\"Term 4\\\",\\\"curriculum_items\\\":[{\\\"curriculum_requisites\\\":[{\\\"source_id\\\":8,\\\"target_id\\\":18,\\\"type\\\":\\\"CurriculumPrerequisite\\\"}],\\\"name\\\":\\\"AME 230\\\",\\\"metrics\\\":{\\\"complexity\\\":19.0,\\\"centrality\\\":86,\\\"blocking factor\\\":11,\\\"delay factor\\\":8.0},\\\"nameSub\\\":\\\"Thermodynamics\\\",\\\"id\\\":18,\\\"credits\\\":3,\\\"nameCanonical\\\":\\\"\\\"},{\\\"curriculum_requisites\\\":[{\\\"source_id\\\":12,\\\"target_id\\\":19,\\\"type\\\":\\\"CurriculumPrerequisite\\\"},{\\\"source_id\\\":20,\\\"target_id\\\":19,\\\"type\\\":\\\"CurriculumCorequisite\\\"}],\\\"name\\\":\\\"AME 250\\\",\\\"metrics\\\":{\\\"complexity\\\":19.0,\\\"centrality\\\":145,\\\"blocking factor\\\":10,\\\"delay factor\\\":9.0},\\\"nameSub\\\":\\\"Dynamics\\\",\\\"id\\\":19,\\\"credits\\\":3,\\\"nameCanonical\\\":\\\"\\\"},{\\\"curriculum_requisites\\\":[{\\\"source_id\\\":13,\\\"target_id\\\":20,\\\"type\\\":\\\"CurriculumPrerequisite\\\"}],\\\"name\\\":\\\"MATH 254\\\",\\\"metrics\\\":{\\\"complexity\\\":25.0,\\\"centrality\\\":188,\\\"blocking factor\\\":16,\\\"delay factor\\\":9.0},\\\"nameSub\\\":\\\"Intro. to ODEs\\\",\\\"id\\\":20,\\\"credits\\\":3,\\\"nameCanonical\\\":\\\"\\\"},{\\\"curriculum_requisites\\\":[{\\\"source_id\\\":13,\\\"target_id\\\":21,\\\"type\\\":\\\"CurriculumPrerequisite\\\"},{\\\"source_id\\\":8,\\\"target_id\\\":21,\\\"type\\\":\\\"CurriculumPrerequisite\\\"},{\\\"source_id\\\":20,\\\"target_id\\\":21,\\\"type\\\":\\\"CurriculumCorequisite\\\"}],\\\"name\\\":\\\"AME 220\\\",\\\"metrics\\\":{\\\"complexity\\\":17.0,\\\"centrality\\\":198,\\\"blocking factor\\\":8,\\\"delay factor\\\":9.0},\\\"nameSub\\\":\\\"Intro. to Aerospace Eng.\\\",\\\"id\\\":21,\\\"credits\\\":3,\\\"nameCanonical\\\":\\\"\\\"},{\\\"curriculum_requisites\\\":[],\\\"name\\\":\\\" \\\",\\\"metrics\\\":{\\\"complexity\\\":1.0,\\\"centrality\\\":0,\\\"blocking factor\\\":0,\\\"delay factor\\\":1.0},\\\"nameSub\\\":\\\"Tier I General Ed. 3\\\",\\\"id\\\":22,\\\"credits\\\":3,\\\"nameCanonical\\\":\\\"\\\"}],\\\"id\\\":4},{\\\"name\\\":\\\"Term 5\\\",\\\"curriculum_items\\\":[{\\\"curriculum_requisites\\\":[{\\\"source_id\\\":26,\\\"target_id\\\":23,\\\"type\\\":\\\"CurriculumCorequisite\\\"},{\\\"source_id\\\":21,\\\"target_id\\\":23,\\\"type\\\":\\\"CurriculumPrerequisite\\\"}],\\\"name\\\":\\\"AME 320\\\",\\\"metrics\\\":{\\\"complexity\\\":14.0,\\\"centrality\\\":214,\\\"blocking factor\\\":5,\\\"delay factor\\\":9.0},\\\"nameSub\\\":\\\"Aerodynamics\\\",\\\"id\\\":23,\\\"credits\\\":3,\\\"nameCanonical\\\":\\\"\\\"},{\\\"curriculum_requisites\\\":[{\\\"source_id\\\":12,\\\"target_id\\\":24,\\\"type\\\":\\\"CurriculumPrerequisite\\\"}],\\\"name\\\":\\\"AME  324A\\\",\\\"metrics\\\":{\\\"complexity\\\":20.0,\\\"centrality\\\":162,\\\"blocking factor\\\":11,\\\"delay factor\\\":9.0},\\\"nameSub\\\":\\\"Mech. Behavior of Eng. Materials.\\\",\\\"id\\\":24,\\\"credits\\\":3,\\\"nameCanonical\\\":\\\"\\\"},{\\\"curriculum_requisites\\\":[{\\\"source_id\\\":20,\\\"target_id\\\":25,\\\"type\\\":\\\"CurriculumPrerequisite\\\"}],\\\"name\\\":\\\"AME 301\\\",\\\"metrics\\\":{\\\"complexity\\\":8.0,\\\"centrality\\\":12,\\\"blocking factor\\\":2,\\\"delay factor\\\":6.0},\\\"nameSub\\\":\\\"Engineering Analysis\\\",\\\"id\\\":25,\\\"credits\\\":3,\\\"nameCanonical\\\":\\\"\\\"},{\\\"curriculum_requisites\\\":[{\\\"source_id\\\":18,\\\"target_id\\\":26,\\\"type\\\":\\\"CurriculumCorequisite\\\"},{\\\"source_id\\\":24,\\\"target_id\\\":26,\\\"type\\\":\\\"CurriculumCorequisite\\\"}],\\\"name\\\":\\\"AME 300\\\",\\\"metrics\\\":{\\\"complexity\\\":19.0,\\\"centrality\\\":204,\\\"blocking factor\\\":10,\\\"delay factor\\\":9.0},\\\"nameSub\\\":\\\"Instrumentation Lab.\\\",\\\"id\\\":26,\\\"credits\\\":3,\\\"nameCanonical\\\":\\\"\\\"},{\\\"curriculum_requisites\\\":[{\\\"source_id\\\":2,\\\"target_id\\\":27,\\\"type\\\":\\\"CurriculumPrerequisite\\\"}],\\\"name\\\":\\\"MSE 331R\\\",\\\"metrics\\\":{\\\"complexity\\\":4.0,\\\"centrality\\\":3,\\\"blocking factor\\\":1,\\\"delay factor\\\":3.0},\\\"nameSub\\\":\\\"Fund. of Materials for Engineers\\\",\\\"id\\\":27,\\\"credits\\\":3,\\\"nameCanonical\\\":\\\"\\\"},{\\\"curriculum_requisites\\\":[{\\\"source_id\\\":25,\\\"target_id\\\":28,\\\"type\\\":\\\"CurriculumPrerequisite\\\"}],\\\"name\\\":\\\"AME 324L\\\",\\\"metrics\\\":{\\\"complexity\\\":6.0,\\\"centrality\\\":0,\\\"blocking factor\\\":0,\\\"delay factor\\\":6.0},\\\"nameSub\\\":\\\"Mech. of Materials Lab.\\\",\\\"id\\\":28,\\\"credits\\\":1,\\\"nameCanonical\\\":\\\"\\\"}],\\\"id\\\":5},{\\\"name\\\":\\\"Term 6\\\",\\\"curriculum_items\\\":[{\\\"curriculum_requisites\\\":[{\\\"source_id\\\":25,\\\"target_id\\\":29,\\\"type\\\":\\\"CurriculumPrerequisite\\\"}],\\\"name\\\":\\\"AME 324B\\\",\\\"metrics\\\":{\\\"complexity\\\":6.0,\\\"centrality\\\":0,\\\"blocking factor\\\":0,\\\"delay factor\\\":6.0},\\\"nameSub\\\":\\\"Eng. Component Design\\\",\\\"id\\\":29,\\\"credits\\\":3,\\\"nameCanonical\\\":\\\"\\\"},{\\\"curriculum_requisites\\\":[{\\\"source_id\\\":23,\\\"target_id\\\":30,\\\"type\\\":\\\"CurriculumCorequisite\\\"},{\\\"source_id\\\":19,\\\"target_id\\\":30,\\\"type\\\":\\\"CurriculumPrerequisite\\\"},{\\\"source_id\\\":21,\\\"target_id\\\":30,\\\"type\\\":\\\"CurriculumPrerequisite\\\"}],\\\"name\\\":\\\"AME 321\\\",\\\"metrics\\\":{\\\"complexity\\\":12.0,\\\"centrality\\\":174,\\\"blocking factor\\\":3,\\\"delay factor\\\":9.0},\\\"nameSub\\\":\\\"Aircraft Performance\\\",\\\"id\\\":30,\\\"credits\\\":3,\\\"nameCanonical\\\":\\\"\\\"},{\\\"curriculum_requisites\\\":[{\\\"source_id\\\":18,\\\"target_id\\\":31,\\\"type\\\":\\\"CurriculumPrerequisite\\\"},{\\\"source_id\\\":32,\\\"target_id\\\":31,\\\"type\\\":\\\"CurriculumCorequisite\\\"},{\\\"source_id\\\":21,\\\"target_id\\\":31,\\\"type\\\":\\\"CurriculumPrerequisite\\\"},{\\\"source_id\\\":20,\\\"target_id\\\":31,\\\"type\\\":\\\"CurriculumPrerequisite\\\"}],\\\"name\\\":\\\"AME 323\\\",\\\"metrics\\\":{\\\"complexity\\\":13.0,\\\"centrality\\\":274,\\\"blocking factor\\\":4,\\\"delay factor\\\":9.0},\\\"nameSub\\\":\\\"Gasdynamics\\\",\\\"id\\\":31,\\\"credits\\\":3,\\\"nameCanonical\\\":\\\"\\\"},{\\\"curriculum_requisites\\\":[{\\\"source_id\\\":26,\\\"target_id\\\":32,\\\"type\\\":\\\"CurriculumCorequisite\\\"},{\\\"source_id\\\":19,\\\"target_id\\\":32,\\\"type\\\":\\\"CurriculumPrerequisite\\\"},{\\\"source_id\\\":15,\\\"target_id\\\":32,\\\"type\\\":\\\"CurriculumPrerequisite\\\"},{\\\"source_id\\\":20,\\\"target_id\\\":32,\\\"type\\\":\\\"CurriculumPrerequisite\\\"}],\\\"name\\\":\\\"AME 302\\\",\\\"metrics\\\":{\\\"complexity\\\":15.0,\\\"centrality\\\":232,\\\"blocking factor\\\":6,\\\"delay factor\\\":9.0},\\\"nameSub\\\":\\\"Numerical Methods\\\",\\\"id\\\":32,\\\"credits\\\":3,\\\"nameCanonical\\\":\\\"\\\"},{\\\"curriculum_requisites\\\":[],\\\"name\\\":\\\"AME 313\\\",\\\"metrics\\\":{\\\"complexity\\\":5.0,\\\"centrality\\\":0,\\\"blocking factor\\\":2,\\\"delay factor\\\":3.0},\\\"nameSub\\\":\\\"Aero.\\/Mech. Eng. Lab\\\",\\\"id\\\":33,\\\"credits\\\":1,\\\"nameCanonical\\\":\\\"\\\"},{\\\"curriculum_requisites\\\":[],\\\"name\\\":\\\" \\\",\\\"metrics\\\":{\\\"complexity\\\":1.0,\\\"centrality\\\":0,\\\"blocking factor\\\":0,\\\"delay factor\\\":1.0},\\\"nameSub\\\":\\\"Tier II General Ed. 1\\\",\\\"id\\\":34,\\\"credits\\\":3,\\\"nameCanonical\\\":\\\"\\\"}],\\\"id\\\":6},{\\\"name\\\":\\\"Term 7\\\",\\\"curriculum_items\\\":[{\\\"curriculum_requisites\\\":[{\\\"source_id\\\":23,\\\"target_id\\\":35,\\\"type\\\":\\\"CurriculumPrerequisite\\\"},{\\\"source_id\\\":31,\\\"target_id\\\":35,\\\"type\\\":\\\"CurriculumPrerequisite\\\"},{\\\"source_id\\\":27,\\\"target_id\\\":35,\\\"type\\\":\\\"CurriculumPrerequisite\\\"}],\\\"name\\\":\\\"AME 401\\\",\\\"metrics\\\":{\\\"complexity\\\":8.0,\\\"centrality\\\":0,\\\"blocking factor\\\":0,\\\"delay factor\\\":8.0},\\\"nameSub\\\":\\\"Senior Aerospace Lab.\\\",\\\"id\\\":35,\\\"credits\\\":3,\\\"nameCanonical\\\":\\\"\\\"},{\\\"curriculum_requisites\\\":[{\\\"source_id\\\":23,\\\"target_id\\\":36,\\\"type\\\":\\\"CurriculumPrerequisite\\\"},{\\\"source_id\\\":31,\\\"target_id\\\":36,\\\"type\\\":\\\"CurriculumPrerequisite\\\"},{\\\"source_id\\\":33,\\\"target_id\\\":36,\\\"type\\\":\\\"CurriculumPrerequisite\\\"},{\\\"source_id\\\":30,\\\"target_id\\\":36,\\\"type\\\":\\\"CurriculumPrerequisite\\\"}],\\\"name\\\":\\\"AME 420\\\",\\\"metrics\\\":{\\\"complexity\\\":10.0,\\\"centrality\\\":240,\\\"blocking factor\\\":1,\\\"delay factor\\\":9.0},\\\"nameSub\\\":\\\"Aerospace Conceptual Design\\\",\\\"id\\\":36,\\\"credits\\\":3,\\\"nameCanonical\\\":\\\"\\\"},{\\\"curriculum_requisites\\\":[{\\\"source_id\\\":24,\\\"target_id\\\":37,\\\"type\\\":\\\"CurriculumPrerequisite\\\"},{\\\"source_id\\\":31,\\\"target_id\\\":37,\\\"type\\\":\\\"CurriculumPrerequisite\\\"},{\\\"source_id\\\":18,\\\"target_id\\\":37,\\\"type\\\":\\\"CurriculumPrerequisite\\\"}],\\\"name\\\":\\\"AME 425\\\",\\\"metrics\\\":{\\\"complexity\\\":8.0,\\\"centrality\\\":0,\\\"blocking factor\\\":0,\\\"delay factor\\\":8.0},\\\"nameSub\\\":\\\"Aerospace Propulsion\\\",\\\"id\\\":37,\\\"credits\\\":3,\\\"nameCanonical\\\":\\\"\\\"},{\\\"curriculum_requisites\\\":[{\\\"source_id\\\":23,\\\"target_id\\\":38,\\\"type\\\":\\\"CurriculumPrerequisite\\\"},{\\\"source_id\\\":15,\\\"target_id\\\":38,\\\"type\\\":\\\"CurriculumPrerequisite\\\"},{\\\"source_id\\\":30,\\\"target_id\\\":38,\\\"type\\\":\\\"CurriculumPrerequisite\\\"}],\\\"name\\\":\\\"AME 427\\\",\\\"metrics\\\":{\\\"complexity\\\":8.0,\\\"centrality\\\":0,\\\"blocking factor\\\":0,\\\"delay factor\\\":8.0},\\\"nameSub\\\":\\\"Stability and Control of Aero. Vehicles\\\",\\\"id\\\":38,\\\"credits\\\":3,\\\"nameCanonical\\\":\\\"\\\"},{\\\"curriculum_requisites\\\":[{\\\"source_id\\\":13,\\\"target_id\\\":39,\\\"type\\\":\\\"CurriculumPrerequisite\\\"},{\\\"source_id\\\":19,\\\"target_id\\\":39,\\\"type\\\":\\\"CurriculumPrerequisite\\\"}],\\\"name\\\":\\\"AME 457\\\",\\\"metrics\\\":{\\\"complexity\\\":6.0,\\\"centrality\\\":0,\\\"blocking factor\\\":0,\\\"delay factor\\\":6.0},\\\"nameSub\\\":\\\"Orbital Mechanicans and Space Flt.\\\",\\\"id\\\":39,\\\"credits\\\":3,\\\"nameCanonical\\\":\\\"\\\"},{\\\"curriculum_requisites\\\":[],\\\"name\\\":\\\"AME 495S\\\",\\\"metrics\\\":{\\\"complexity\\\":1.0,\\\"centrality\\\":0,\\\"blocking factor\\\":0,\\\"delay factor\\\":1.0},\\\"nameSub\\\":\\\"Senior Colloquium\\\",\\\"id\\\":40,\\\"credits\\\":1,\\\"nameCanonical\\\":\\\"\\\"}],\\\"id\\\":7},{\\\"name\\\":\\\"Term 8\\\",\\\"curriculum_items\\\":[{\\\"curriculum_requisites\\\":[{\\\"source_id\\\":36,\\\"target_id\\\":41,\\\"type\\\":\\\"CurriculumPrerequisite\\\"},{\\\"source_id\\\":33,\\\"target_id\\\":41,\\\"type\\\":\\\"CurriculumCorequisite\\\"}],\\\"name\\\":\\\"AME 422\\\",\\\"metrics\\\":{\\\"complexity\\\":9.0,\\\"centrality\\\":0,\\\"blocking factor\\\":0,\\\"delay factor\\\":9.0},\\\"nameSub\\\":\\\"Aerospace Eng.Design\\\",\\\"id\\\":41,\\\"credits\\\":3,\\\"nameCanonical\\\":\\\"\\\"},{\\\"curriculum_requisites\\\":[{\\\"source_id\\\":24,\\\"target_id\\\":42,\\\"type\\\":\\\"CurriculumPrerequisite\\\"},{\\\"source_id\\\":32,\\\"target_id\\\":42,\\\"type\\\":\\\"CurriculumPrerequisite\\\"},{\\\"source_id\\\":18,\\\"target_id\\\":42,\\\"type\\\":\\\"CurriculumPrerequisite\\\"}],\\\"name\\\":\\\"AME 431\\\",\\\"metrics\\\":{\\\"complexity\\\":7.0,\\\"centrality\\\":0,\\\"blocking factor\\\":0,\\\"delay factor\\\":7.0},\\\"nameSub\\\":\\\"Num. Meth. in Fluid Mech. & Heat Xfer\\\",\\\"id\\\":42,\\\"credits\\\":3,\\\"nameCanonical\\\":\\\"\\\"},{\\\"curriculum_requisites\\\":[],\\\"name\\\":\\\" \\\",\\\"metrics\\\":{\\\"complexity\\\":1.0,\\\"centrality\\\":0,\\\"blocking factor\\\":0,\\\"delay factor\\\":1.0},\\\"nameSub\\\":\\\"Technical Elective 1\\\",\\\"id\\\":43,\\\"credits\\\":3,\\\"nameCanonical\\\":\\\"\\\"},{\\\"curriculum_requisites\\\":[],\\\"name\\\":\\\" \\\",\\\"metrics\\\":{\\\"complexity\\\":1.0,\\\"centrality\\\":0,\\\"blocking factor\\\":0,\\\"delay factor\\\":1.0},\\\"nameSub\\\":\\\"Technical Elective 2\\\",\\\"id\\\":44,\\\"credits\\\":3,\\\"nameCanonical\\\":\\\"\\\"},{\\\"curriculum_requisites\\\":[],\\\"name\\\":\\\" \\\",\\\"metrics\\\":{\\\"complexity\\\":1.0,\\\"centrality\\\":0,\\\"blocking factor\\\":0,\\\"delay factor\\\":1.0},\\\"nameSub\\\":\\\"Tier II General Ed. 2\\\",\\\"id\\\":45,\\\"credits\\\":3,\\\"nameCanonical\\\":\\\"\\\"}],\\\"id\\\":8}],\\\"institution\\\":\\\"University of Arizona\\\"}},\\\"*\\\"); window.removeEventListener(\\\"message\\\",window.messageReceived); window.messageReceived=(function (event){return (event.data.curriculum!==undefined) ? (WebIO.setval({\\\"name\\\":\\\"curriculum-data\\\",\\\"scope\\\":\\\"1167406872428871750\\\",\\\"id\\\":\\\"ob_04\\\",\\\"type\\\":\\\"observable\\\"},event.data.curriculum)) : undefined}); return window.addEventListener(\\\"message\\\",window.messageReceived)})\"},\"style\":{\"padding\":\"0\",\"height\":\"100vh\",\"margin\":\"0\",\"border\":\"none\",\"width\":\"100%\"}},\"nodeType\":\"DOM\",\"type\":\"node\",\"instanceArgs\":{\"namespace\":\"html\",\"tag\":\"iframe\"},\"children\":[\"\"]}]},\n",
       "            window,\n",
       "        );\n",
       "    } else {\n",
       "        document\n",
       "            .querySelector('[data-webio-mountpoint=\"1380635270871294256\"]')\n",
       "            .innerHTML = (\n",
       "                '<div style=\"padding: 1em; background-color: #f8d6da; border: 1px solid #f5c6cb\">' +\n",
       "                '<p><strong>WebIO not detected.</strong></p>' +\n",
       "                '<p>Please read ' +\n",
       "                '<a href=\"https://juliagizmos.github.io/WebIO.jl/latest/troubleshooting/not-detected/\" target=\"_blank\">the troubleshooting guide</a> ' +\n",
       "                'for more information on how to resolve this issue.</p>' +\n",
       "                '<p><a href=\"https://juliagizmos.github.io/WebIO.jl/latest/troubleshooting/not-detected/\" target=\"_blank\">https://juliagizmos.github.io/WebIO.jl/latest/troubleshooting/not-detected/</a></p>' +\n",
       "                '</div>'\n",
       "            );\n",
       "    }\n",
       "    </script>\n",
       "</div>\n"
      ],
      "text/plain": [
       "WebIO.Scope(WebIO.Node{WebIO.DOM}(WebIO.DOM(:html, :iframe), Any[\"\"], Dict{Symbol,Any}(:src => \"http://localhost:8156\",:id => \"curriculum\",:events => Dict{Symbol,WebIO.JSString}(:load => WebIO.JSString(\"(function (){this.contentWindow.postMessage({\\\"options\\\":{\\\"hideTerms\\\":false,\\\"edit\\\":false},\\\"curriculum\\\":{\\\"name\\\":\\\"Aerospace Engineering\\\",\\\"dp_name\\\":\\\"2019-20 Degree Plan\\\",\\\"curriculum_terms\\\":[{\\\"name\\\":\\\"Term 1\\\",\\\"curriculum_items\\\":[{\\\"curriculum_requisites\\\":[],\\\"name\\\":\\\"MATH 125\\\",\\\"metrics\\\":{\\\"complexity\\\":38.0,\\\"centrality\\\":0,\\\"blocking factor\\\":29,\\\"delay factor\\\":9.0},\\\"nameSub\\\":\\\"Calculus I w/ Applications\\\",\\\"id\\\":1,\\\"credits\\\":3,\\\"nameCanonical\\\":\\\"\\\"},{\\\"curriculum_requisites\\\":[],\\\"name\\\":\\\"CHEM 151\\\",\\\"metrics\\\":{\\\"complexity\\\":5.0,\\\"centrality\\\":0,\\\"blocking factor\\\":2,\\\"delay factor\\\":3.0},\\\"nameSub\\\":\\\"Gen Chemistry I\\\",\\\"id\\\":2,\\\"credits\\\":4,\\\"nameCanonical\\\":\\\"\\\"},{\\\"curriculum_requisites\\\":[],\\\"name\\\":\\\"ENGL 101\\\",\\\"metrics\\\":{\\\"complexity\\\":3.0,\\\"centrality\\\":0,\\\"blocking factor\\\":1,\\\"delay factor\\\":2.0},\\\"nameSub\\\":\\\"First-year Comp.\\\",\\\"id\\\":3,\\\"credits\\\":3,\\\"nameCanonical\\\":\\\"\\\"},{\\\"curriculum_requisites\\\":[{\\\"source_id\\\":1,\\\"target_id\\\":4,\\\"type\\\":\\\"CurriculumCorequisite\\\"}],\\\"name\\\":\\\"ENGR 102\\\",\\\"metrics\\\":{\\\"complexity\\\":2.0,\\\"centrality\\\":0,\\\"blocking factor\\\":0,\\\"delay factor\\\":2.0},\\\"nameSub\\\":\\\"Intro to Engineering\\\",\\\"id\\\":4,\\\"credits\\\":3,\\\"nameCanonical\\\":\\\"\\\"},{\\\"curriculum_requisites\\\":[],\\\"name\\\":\\\" \\\",\\\"metrics\\\":{\\\"complexity\\\":1.0,\\\"centrality\\\":0,\\\"blocking factor\\\":0,\\\"delay factor\\\":1.0},\\\"nameSub\\\":\\\"Tier I General Ed.\\\",\\\"id\\\":5,\\\"credits\\\":3,\\\"nameCanonical\\\":\\\"\\\"}],\\\"id\\\":1},{\\\"name\\\":\\\"Term 2\\\",\\\"curriculum_items\\\":[{\\\"curriculum_requisites\\\":[{\\\"source_id\\\":1,\\\"target_id\\\":6,\\\"type\\\":\\\"CurriculumPrerequisite\\\"}],\\\"name\\\":\\\"MATH 129\\\",\\\"metrics\\\":{\\\"complexity\\\":31.0,\\\"centrality\\\":388,\\\"blocking factor\\\":22,\\\"delay factor\\\":9.0},\\\"nameSub\\\":\\\"Calculus II\\\",\\\"id\\\":6,\\\"credits\\\":3,\\\"nameCanonical\\\":\\\"\\\"},{\\\"curriculum_requisites\\\":[{\\\"source_id\\\":1,\\\"target_id\\\":7,\\\"type\\\":\\\"CurriculumPrerequisite\\\"}],\\\"name\\\":\\\"AME 105\\\",\\\"metrics\\\":{\\\"complexity\\\":16.0,\\\"centrality\\\":28,\\\"blocking factor\\\":9,\\\"delay factor\\\":7.0},\\\"nameSub\\\":\\\"Intro. to MATLAB I\\\",\\\"id\\\":7,\\\"credits\\\":1,\\\"nameCanonical\\\":\\\"\\\"},{\\\"curriculum_requisites\\\":[{\\\"source_id\\\":1,\\\"target_id\\\":8,\\\"type\\\":\\\"CurriculumPrerequisite\\\"}],\\\"name\\\":\\\"PHYS 141\\\",\\\"metrics\\\":{\\\"complexity\\\":27.0,\\\"centrality\\\":272,\\\"blocking factor\\\":18,\\\"delay factor\\\":9.0},\\\"nameSub\\\":\\\"Intro Mechanics\\\",\\\"id\\\":8,\\\"credits\\\":4,\\\"nameCanonical\\\":\\\"\\\"},{\\\"curriculum_requisites\\\":[{\\\"source_id\\\":3,\\\"target_id\\\":9,\\\"type\\\":\\\"CurriculumPrerequisite\\\"}],\\\"name\\\":\\\"ENGL 102\\\",\\\"metrics\\\":{\\\"complexity\\\":2.0,\\\"centrality\\\":0,\\\"blocking factor\\\":0,\\\"delay factor\\\":2.0},\\\"nameSub\\\":\\\"First-year Comp.\\\",\\\"id\\\":9,\\\"credits\\\":3,\\\"nameCanonical\\\":\\\"\\\"},{\\\"curriculum_requisites\\\":[{\\\"source_id\\\":1,\\\"target_id\\\":10,\\\"type\\\":\\\"CurriculumCorequisite\\\"}],\\\"name\\\":\\\"ECE 175\\\",\\\"metrics\\\":{\\\"complexity\\\":2.0,\\\"centrality\\\":0,\\\"blocking factor\\\":0,\\\"delay factor\\\":2.0},\\\"nameSub\\\":\\\"Programming for Eng. Apps.\\\",\\\"id\\\":10,\\\"credits\\\":3,\\\"nameCanonical\\\":\\\"\\\"},{\\\"curriculum_requisites\\\":[],\\\"name\\\":\\\" \\\",\\\"metrics\\\":{\\\"complexity\\\":1.0,\\\"centrality\\\":0,\\\"blocking factor\\\":0,\\\"delay factor\\\":1.0},\\\"nameSub\\\":\\\"Tier I General Ed. 1\\\",\\\"id\\\":11,\\\"credits\\\":3,\\\"nameCanonical\\\":\\\"\\\"}],\\\"id\\\":2},{\\\"name\\\":\\\"Term 3\\\",\\\"curriculum_items\\\":[{\\\"curriculum_requisites\\\":[{\\\"source_id\\\":8,\\\"target_id\\\":12,\\\"type\\\":\\\"CurriculumPrerequisite\\\"},{\\\"source_id\\\":6,\\\"target_id\\\":12,\\\"type\\\":\\\"CurriculumPrerequisite\\\"}],\\\"name\\\":\\\"CE 214\\\",\\\"metrics\\\":{\\\"complexity\\\":23.0,\\\"centrality\\\":254,\\\"blocking factor\\\":14,\\\"delay factor\\\":9.0},\\\"nameSub\\\":\\\"Statics\\\",\\\"id\\\":12,\\\"credits\\\":3,\\\"nameCanonical\\\":\\\"\\\"},{\\\"curriculum_requisites\\\":[{\\\"source_id\\\":6,\\\"target_id\\\":13,\\\"type\\\":\\\"CurriculumPrerequisite\\\"}],\\\"name\\\":\\\"MATH  223\\\",\\\"metrics\\\":{\\\"complexity\\\":26.0,\\\"centrality\\\":258,\\\"blocking factor\\\":17,\\\"delay factor\\\":9.0},\\\"nameSub\\\":\\\"Vector Calculus\\\",\\\"id\\\":13,\\\"credits\\\":4,\\\"nameCanonical\\\":\\\"\\\"},{\\\"curriculum_requisites\\\":[{\\\"source_id\\\":8,\\\"target_id\\\":14,\\\"type\\\":\\\"CurriculumPrerequisite\\\"},{\\\"source_id\\\":6,\\\"target_id\\\":14,\\\"type\\\":\\\"CurriculumPrerequisite\\\"}],\\\"name\\\":\\\"PHYS 241\\\",\\\"metrics\\\":{\\\"complexity\\\":3.0,\\\"centrality\\\":0,\\\"blocking factor\\\":0,\\\"delay factor\\\":3.0},\\\"nameSub\\\":\\\"Electricity & Magnetism\\\",\\\"id\\\":14,\\\"credits\\\":4,\\\"nameCanonical\\\":\\\"\\\"},{\\\"curriculum_requisites\\\":[{\\\"source_id\\\":7,\\\"target_id\\\":15,\\\"type\\\":\\\"CurriculumPrerequisite\\\"}],\\\"name\\\":\\\"AME  205\\\",\\\"metrics\\\":{\\\"complexity\\\":15.0,\\\"centrality\\\":28,\\\"blocking factor\\\":8,\\\"delay factor\\\":7.0},\\\"nameSub\\\":\\\"Intro. To MATLAB II\\\",\\\"id\\\":15,\\\"credits\\\":1,\\\"nameCanonical\\\":\\\"\\\"},{\\\"curriculum_requisites\\\":[],\\\"name\\\":\\\"AME 211\\\",\\\"metrics\\\":{\\\"complexity\\\":1.0,\\\"centrality\\\":0,\\\"blocking factor\\\":0,\\\"delay factor\\\":1.0},\\\"nameSub\\\":\\\"Comp. Aided Drafting & Manufacturing\\\",\\\"id\\\":16,\\\"credits\\\":3,\\\"nameCanonical\\\":\\\"\\\"},{\\\"curriculum_requisites\\\":[],\\\"name\\\":\\\" \\\",\\\"metrics\\\":{\\\"complexity\\\":1.0,\\\"centrality\\\":0,\\\"blocking factor\\\":0,\\\"delay factor\\\":1.0},\\\"nameSub\\\":\\\"Tier I General Ed. 2\\\",\\\"id\\\":17,\\\"credits\\\":3,\\\"nameCanonical\\\":\\\"\\\"}],\\\"id\\\":3},{\\\"name\\\":\\\"Term 4\\\",\\\"curriculum_items\\\":[{\\\"curriculum_requisites\\\":[{\\\"source_id\\\":8,\\\"target_id\\\":18,\\\"type\\\":\\\"CurriculumPrerequisite\\\"}],\\\"name\\\":\\\"AME 230\\\",\\\"metrics\\\":{\\\"complexity\\\":19.0,\\\"centrality\\\":86,\\\"blocking factor\\\":11,\\\"delay factor\\\":8.0},\\\"nameSub\\\":\\\"Thermodynamics\\\",\\\"id\\\":18,\\\"credits\\\":3,\\\"nameCanonical\\\":\\\"\\\"},{\\\"curriculum_requisites\\\":[{\\\"source_id\\\":12,\\\"target_id\\\":19,\\\"type\\\":\\\"CurriculumPrerequisite\\\"},{\\\"source_id\\\":20,\\\"target_id\\\":19,\\\"type\\\":\\\"CurriculumCorequisite\\\"}],\\\"name\\\":\\\"AME 250\\\",\\\"metrics\\\":{\\\"complexity\\\":19.0,\\\"centrality\\\":145,\\\"blocking factor\\\":10,\\\"delay factor\\\":9.0},\\\"nameSub\\\":\\\"Dynamics\\\",\\\"id\\\":19,\\\"credits\\\":3,\\\"nameCanonical\\\":\\\"\\\"},{\\\"curriculum_requisites\\\":[{\\\"source_id\\\":13,\\\"target_id\\\":20,\\\"type\\\":\\\"CurriculumPrerequisite\\\"}],\\\"name\\\":\\\"MATH 254\\\",\\\"metrics\\\":{\\\"complexity\\\":25.0,\\\"centrality\\\":188,\\\"blocking factor\\\":16,\\\"delay factor\\\":9.0},\\\"nameSub\\\":\\\"Intro. to ODEs\\\",\\\"id\\\":20,\\\"credits\\\":3,\\\"nameCanonical\\\":\\\"\\\"},{\\\"curriculum_requisites\\\":[{\\\"source_id\\\":13,\\\"target_id\\\":21,\\\"type\\\":\\\"CurriculumPrerequisite\\\"},{\\\"source_id\\\":8,\\\"target_id\\\":21,\\\"type\\\":\\\"CurriculumPrerequisite\\\"},{\\\"source_id\\\":20,\\\"target_id\\\":21,\\\"type\\\":\\\"CurriculumCorequisite\\\"}],\\\"name\\\":\\\"AME 220\\\",\\\"metrics\\\":{\\\"complexity\\\":17.0,\\\"centrality\\\":198,\\\"blocking factor\\\":8,\\\"delay factor\\\":9.0},\\\"nameSub\\\":\\\"Intro. to Aerospace Eng.\\\",\\\"id\\\":21,\\\"credits\\\":3,\\\"nameCanonical\\\":\\\"\\\"},{\\\"curriculum_requisites\\\":[],\\\"name\\\":\\\" \\\",\\\"metrics\\\":{\\\"complexity\\\":1.0,\\\"centrality\\\":0,\\\"blocking factor\\\":0,\\\"delay factor\\\":1.0},\\\"nameSub\\\":\\\"Tier I General Ed. 3\\\",\\\"id\\\":22,\\\"credits\\\":3,\\\"nameCanonical\\\":\\\"\\\"}],\\\"id\\\":4},{\\\"name\\\":\\\"Term 5\\\",\\\"curriculum_items\\\":[{\\\"curriculum_requisites\\\":[{\\\"source_id\\\":26,\\\"target_id\\\":23,\\\"type\\\":\\\"CurriculumCorequisite\\\"},{\\\"source_id\\\":21,\\\"target_id\\\":23,\\\"type\\\":\\\"CurriculumPrerequisite\\\"}],\\\"name\\\":\\\"AME 320\\\",\\\"metrics\\\":{\\\"complexity\\\":14.0,\\\"centrality\\\":214,\\\"blocking factor\\\":5,\\\"delay factor\\\":9.0},\\\"nameSub\\\":\\\"Aerodynamics\\\",\\\"id\\\":23,\\\"credits\\\":3,\\\"nameCanonical\\\":\\\"\\\"},{\\\"curriculum_requisites\\\":[{\\\"source_id\\\":12,\\\"target_id\\\":24,\\\"type\\\":\\\"CurriculumPrerequisite\\\"}],\\\"name\\\":\\\"AME  324A\\\",\\\"metrics\\\":{\\\"complexity\\\":20.0,\\\"centrality\\\":162,\\\"blocking factor\\\":11,\\\"delay factor\\\":9.0},\\\"nameSub\\\":\\\"Mech. Behavior of Eng. Materials.\\\",\\\"id\\\":24,\\\"credits\\\":3,\\\"nameCanonical\\\":\\\"\\\"},{\\\"curriculum_requisites\\\":[{\\\"source_id\\\":20,\\\"target_id\\\":25,\\\"type\\\":\\\"CurriculumPrerequisite\\\"}],\\\"name\\\":\\\"AME 301\\\",\\\"metrics\\\":{\\\"complexity\\\":8.0,\\\"centrality\\\":12,\\\"blocking factor\\\":2,\\\"delay factor\\\":6.0},\\\"nameSub\\\":\\\"Engineering Analysis\\\",\\\"id\\\":25,\\\"credits\\\":3,\\\"nameCanonical\\\":\\\"\\\"},{\\\"curriculum_requisites\\\":[{\\\"source_id\\\":18,\\\"target_id\\\":26,\\\"type\\\":\\\"CurriculumCorequisite\\\"},{\\\"source_id\\\":24,\\\"target_id\\\":26,\\\"type\\\":\\\"CurriculumCorequisite\\\"}],\\\"name\\\":\\\"AME 300\\\",\\\"metrics\\\":{\\\"complexity\\\":19.0,\\\"centrality\\\":204,\\\"blocking factor\\\":10,\\\"delay factor\\\":9.0},\\\"nameSub\\\":\\\"Instrumentation Lab.\\\",\\\"id\\\":26,\\\"credits\\\":3,\\\"nameCanonical\\\":\\\"\\\"},{\\\"curriculum_requisites\\\":[{\\\"source_id\\\":2,\\\"target_id\\\":27,\\\"type\\\":\\\"CurriculumPrerequisite\\\"}],\\\"name\\\":\\\"MSE 331R\\\",\\\"metrics\\\":{\\\"complexity\\\":4.0,\\\"centrality\\\":3,\\\"blocking factor\\\":1,\\\"delay factor\\\":3.0},\\\"nameSub\\\":\\\"Fund. of Materials for Engineers\\\",\\\"id\\\":27,\\\"credits\\\":3,\\\"nameCanonical\\\":\\\"\\\"},{\\\"curriculum_requisites\\\":[{\\\"source_id\\\":25,\\\"target_id\\\":28,\\\"type\\\":\\\"CurriculumPrerequisite\\\"}],\\\"name\\\":\\\"AME 324L\\\",\\\"metrics\\\":{\\\"complexity\\\":6.0,\\\"centrality\\\":0,\\\"blocking factor\\\":0,\\\"delay factor\\\":6.0},\\\"nameSub\\\":\\\"Mech. of Materials Lab.\\\",\\\"id\\\":28,\\\"credits\\\":1,\\\"nameCanonical\\\":\\\"\\\"}],\\\"id\\\":5},{\\\"name\\\":\\\"Term 6\\\",\\\"curriculum_items\\\":[{\\\"curriculum_requisites\\\":[{\\\"source_id\\\":25,\\\"target_id\\\":29,\\\"type\\\":\\\"CurriculumPrerequisite\\\"}],\\\"name\\\":\\\"AME 324B\\\",\\\"metrics\\\":{\\\"complexity\\\":6.0,\\\"centrality\\\":0,\\\"blocking factor\\\":0,\\\"delay factor\\\":6.0},\\\"nameSub\\\":\\\"Eng. Component Design\\\",\\\"id\\\":29,\\\"credits\\\":3,\\\"nameCanonical\\\":\\\"\\\"},{\\\"curriculum_requisites\\\":[{\\\"source_id\\\":23,\\\"target_id\\\":30,\\\"type\\\":\\\"CurriculumCorequisite\\\"},{\\\"source_id\\\":19,\\\"target_id\\\":30,\\\"type\\\":\\\"CurriculumPrerequisite\\\"},{\\\"source_id\\\":21,\\\"target_id\\\":30,\\\"type\\\":\\\"CurriculumPrerequisite\\\"}],\\\"name\\\":\\\"AME 321\\\",\\\"metrics\\\":{\\\"complexity\\\":12.0,\\\"centrality\\\":174,\\\"blocking factor\\\":3,\\\"delay factor\\\":9.0},\\\"nameSub\\\":\\\"Aircraft Performance\\\",\\\"id\\\":30,\\\"credits\\\":3,\\\"nameCanonical\\\":\\\"\\\"},{\\\"curriculum_requisites\\\":[{\\\"source_id\\\":18,\\\"target_id\\\":31,\\\"type\\\":\\\"CurriculumPrerequisite\\\"},{\\\"source_id\\\":32,\\\"target_id\\\":31,\\\"type\\\":\\\"CurriculumCorequisite\\\"},{\\\"source_id\\\":21,\\\"target_id\\\":31,\\\"type\\\":\\\"CurriculumPrerequisite\\\"},{\\\"source_id\\\":20,\\\"target_id\\\":31,\\\"type\\\":\\\"CurriculumPrerequisite\\\"}],\\\"name\\\":\\\"AME 323\\\",\\\"metrics\\\":{\\\"complexity\\\":13.0,\\\"centrality\\\":274,\\\"blocking factor\\\":4,\\\"delay factor\\\":9.0},\\\"nameSub\\\":\\\"Gasdynamics\\\",\\\"id\\\":31,\\\"credits\\\":3,\\\"nameCanonical\\\":\\\"\\\"},{\\\"curriculum_requisites\\\":[{\\\"source_id\\\":26,\\\"target_id\\\":32,\\\"type\\\":\\\"CurriculumCorequisite\\\"},{\\\"source_id\\\":19,\\\"target_id\\\":32,\\\"type\\\":\\\"CurriculumPrerequisite\\\"},{\\\"source_id\\\":15,\\\"target_id\\\":32,\\\"type\\\":\\\"CurriculumPrerequisite\\\"},{\\\"source_id\\\":20,\\\"target_id\\\":32,\\\"type\\\":\\\"CurriculumPrerequisite\\\"}],\\\"name\\\":\\\"AME 302\\\",\\\"metrics\\\":{\\\"complexity\\\":15.0,\\\"centrality\\\":232,\\\"blocking factor\\\":6,\\\"delay factor\\\":9.0},\\\"nameSub\\\":\\\"Numerical Methods\\\",\\\"id\\\":32,\\\"credits\\\":3,\\\"nameCanonical\\\":\\\"\\\"},{\\\"curriculum_requisites\\\":[],\\\"name\\\":\\\"AME 313\\\",\\\"metrics\\\":{\\\"complexity\\\":5.0,\\\"centrality\\\":0,\\\"blocking factor\\\":2,\\\"delay factor\\\":3.0},\\\"nameSub\\\":\\\"Aero./Mech. Eng. Lab\\\",\\\"id\\\":33,\\\"credits\\\":1,\\\"nameCanonical\\\":\\\"\\\"},{\\\"curriculum_requisites\\\":[],\\\"name\\\":\\\" \\\",\\\"metrics\\\":{\\\"complexity\\\":1.0,\\\"centrality\\\":0,\\\"blocking factor\\\":0,\\\"delay factor\\\":1.0},\\\"nameSub\\\":\\\"Tier II General Ed. 1\\\",\\\"id\\\":34,\\\"credits\\\":3,\\\"nameCanonical\\\":\\\"\\\"}],\\\"id\\\":6},{\\\"name\\\":\\\"Term 7\\\",\\\"curriculum_items\\\":[{\\\"curriculum_requisites\\\":[{\\\"source_id\\\":23,\\\"target_id\\\":35,\\\"type\\\":\\\"CurriculumPrerequisite\\\"},{\\\"source_id\\\":31,\\\"target_id\\\":35,\\\"type\\\":\\\"CurriculumPrerequisite\\\"},{\\\"source_id\\\":27,\\\"target_id\\\":35,\\\"type\\\":\\\"CurriculumPrerequisite\\\"}],\\\"name\\\":\\\"AME 401\\\",\\\"metrics\\\":{\\\"complexity\\\":8.0,\\\"centrality\\\":0,\\\"blocking factor\\\":0,\\\"delay factor\\\":8.0},\\\"nameSub\\\":\\\"Senior Aerospace Lab.\\\",\\\"id\\\":35,\\\"credits\\\":3,\\\"nameCanonical\\\":\\\"\\\"},{\\\"curriculum_requisites\\\":[{\\\"source_id\\\":23,\\\"target_id\\\":36,\\\"type\\\":\\\"CurriculumPrerequisite\\\"},{\\\"source_id\\\":31,\\\"target_id\\\":36,\\\"type\\\":\\\"CurriculumPrerequisite\\\"},{\\\"source_id\\\":33,\\\"target_id\\\":36,\\\"type\\\":\\\"CurriculumPrerequisite\\\"},{\\\"source_id\\\":30,\\\"target_id\\\":36,\\\"type\\\":\\\"CurriculumPrerequisite\\\"}],\\\"name\\\":\\\"AME 420\\\",\\\"metrics\\\":{\\\"complexity\\\":10.0,\\\"centrality\\\":240,\\\"blocking factor\\\":1,\\\"delay factor\\\":9.0},\\\"nameSub\\\":\\\"Aerospace Conceptual Design\\\",\\\"id\\\":36,\\\"credits\\\":3,\\\"nameCanonical\\\":\\\"\\\"},{\\\"curriculum_requisites\\\":[{\\\"source_id\\\":24,\\\"target_id\\\":37,\\\"type\\\":\\\"CurriculumPrerequisite\\\"},{\\\"source_id\\\":31,\\\"target_id\\\":37,\\\"type\\\":\\\"CurriculumPrerequisite\\\"},{\\\"source_id\\\":18,\\\"target_id\\\":37,\\\"type\\\":\\\"CurriculumPrerequisite\\\"}],\\\"name\\\":\\\"AME 425\\\",\\\"metrics\\\":{\\\"complexity\\\":8.0,\\\"centrality\\\":0,\\\"blocking factor\\\":0,\\\"delay factor\\\":8.0},\\\"nameSub\\\":\\\"Aerospace Propulsion\\\",\\\"id\\\":37,\\\"credits\\\":3,\\\"nameCanonical\\\":\\\"\\\"},{\\\"curriculum_requisites\\\":[{\\\"source_id\\\":23,\\\"target_id\\\":38,\\\"type\\\":\\\"CurriculumPrerequisite\\\"},{\\\"source_id\\\":15,\\\"target_id\\\":38,\\\"type\\\":\\\"CurriculumPrerequisite\\\"},{\\\"source_id\\\":30,\\\"target_id\\\":38,\\\"type\\\":\\\"CurriculumPrerequisite\\\"}],\\\"name\\\":\\\"AME 427\\\",\\\"metrics\\\":{\\\"complexity\\\":8.0,\\\"centrality\\\":0,\\\"blocking factor\\\":0,\\\"delay factor\\\":8.0},\\\"nameSub\\\":\\\"Stability and Control of Aero. Vehicles\\\",\\\"id\\\":38,\\\"credits\\\":3,\\\"nameCanonical\\\":\\\"\\\"},{\\\"curriculum_requisites\\\":[{\\\"source_id\\\":13,\\\"target_id\\\":39,\\\"type\\\":\\\"CurriculumPrerequisite\\\"},{\\\"source_id\\\":19,\\\"target_id\\\":39,\\\"type\\\":\\\"CurriculumPrerequisite\\\"}],\\\"name\\\":\\\"AME 457\\\",\\\"metrics\\\":{\\\"complexity\\\":6.0,\\\"centrality\\\":0,\\\"blocking factor\\\":0,\\\"delay factor\\\":6.0},\\\"nameSub\\\":\\\"Orbital Mechanicans and Space Flt.\\\",\\\"id\\\":39,\\\"credits\\\":3,\\\"nameCanonical\\\":\\\"\\\"},{\\\"curriculum_requisites\\\":[],\\\"name\\\":\\\"AME 495S\\\",\\\"metrics\\\":{\\\"complexity\\\":1.0,\\\"centrality\\\":0,\\\"blocking factor\\\":0,\\\"delay factor\\\":1.0},\\\"nameSub\\\":\\\"Senior Colloquium\\\",\\\"id\\\":40,\\\"credits\\\":1,\\\"nameCanonical\\\":\\\"\\\"}],\\\"id\\\":7},{\\\"name\\\":\\\"Term 8\\\",\\\"curriculum_items\\\":[{\\\"curriculum_requisites\\\":[{\\\"source_id\\\":36,\\\"target_id\\\":41,\\\"type\\\":\\\"CurriculumPrerequisite\\\"},{\\\"source_id\\\":33,\\\"target_id\\\":41,\\\"type\\\":\\\"CurriculumCorequisite\\\"}],\\\"name\\\":\\\"AME 422\\\",\\\"metrics\\\":{\\\"complexity\\\":9.0,\\\"centrality\\\":0,\\\"blocking factor\\\":0,\\\"delay factor\\\":9.0},\\\"nameSub\\\":\\\"Aerospace Eng.Design\\\",\\\"id\\\":41,\\\"credits\\\":3,\\\"nameCanonical\\\":\\\"\\\"},{\\\"curriculum_requisites\\\":[{\\\"source_id\\\":24,\\\"target_id\\\":42,\\\"type\\\":\\\"CurriculumPrerequisite\\\"},{\\\"source_id\\\":32,\\\"target_id\\\":42,\\\"type\\\":\\\"CurriculumPrerequisite\\\"},{\\\"source_id\\\":18,\\\"target_id\\\":42,\\\"type\\\":\\\"CurriculumPrerequisite\\\"}],\\\"name\\\":\\\"AME 431\\\",\\\"metrics\\\":{\\\"complexity\\\":7.0,\\\"centrality\\\":0,\\\"blocking factor\\\":0,\\\"delay factor\\\":7.0},\\\"nameSub\\\":\\\"Num. Meth. in Fluid Mech. & Heat Xfer\\\",\\\"id\\\":42,\\\"credits\\\":3,\\\"nameCanonical\\\":\\\"\\\"},{\\\"curriculum_requisites\\\":[],\\\"name\\\":\\\" \\\",\\\"metrics\\\":{\\\"complexity\\\":1.0,\\\"centrality\\\":0,\\\"blocking factor\\\":0,\\\"delay factor\\\":1.0},\\\"nameSub\\\":\\\"Technical Elective 1\\\",\\\"id\\\":43,\\\"credits\\\":3,\\\"nameCanonical\\\":\\\"\\\"},{\\\"curriculum_requisites\\\":[],\\\"name\\\":\\\" \\\",\\\"metrics\\\":{\\\"complexity\\\":1.0,\\\"centrality\\\":0,\\\"blocking factor\\\":0,\\\"delay factor\\\":1.0},\\\"nameSub\\\":\\\"Technical Elective 2\\\",\\\"id\\\":44,\\\"credits\\\":3,\\\"nameCanonical\\\":\\\"\\\"},{\\\"curriculum_requisites\\\":[],\\\"name\\\":\\\" \\\",\\\"metrics\\\":{\\\"complexity\\\":1.0,\\\"centrality\\\":0,\\\"blocking factor\\\":0,\\\"delay factor\\\":1.0},\\\"nameSub\\\":\\\"Tier II General Ed. 2\\\",\\\"id\\\":45,\\\"credits\\\":3,\\\"nameCanonical\\\":\\\"\\\"}],\\\"id\\\":8}],\\\"institution\\\":\\\"University of Arizona\\\"}},\\\"*\\\"); window.removeEventListener(\\\"message\\\",window.messageReceived); window.messageReceived=(function (event){return (event.data.curriculum!==undefined) ? (WebIO.setval({\\\"name\\\":\\\"curriculum-data\\\",\\\"scope\\\":\\\"1167406872428871750\\\",\\\"id\\\":\\\"ob_04\\\",\\\"type\\\":\\\"observable\\\"},event.data.curriculum)) : undefined}); return window.addEventListener(\\\"message\\\",window.messageReceived)})\")),:style => Dict(:padding => \"0\",:height => \"100vh\",:margin => \"0\",:border => \"none\",:width => \"100%\"))), Dict{String,Tuple{Observables.AbstractObservable,Union{Nothing, Bool}}}(\"curriculum-data\" => (Observable{Dict{String,Any}} with 1 listeners. Value:\n",
       "Dict{String,Any}(\"options\" => Dict{String,Any}(\"hideTerms\" => false,\"edit\" => false),\"curriculum\" => Dict{String,Any}(\"name\" => \"Aerospace Engineering\",\"dp_name\" => \"2019-20 Degree Plan\",\"curriculum_terms\" => Dict{String,Any}[Dict(\"name\" => \"Term 1\",\"curriculum_items\" => Dict{String,Any}[Dict(\"curriculum_requisites\" => Dict{String,Any}[],\"name\" => \"MATH 125\",\"metrics\" => Dict{String,Any}(\"complexity\" => 38.0,\"centrality\" => 0,\"blocking factor\" => 29,\"delay factor\" => 9.0),\"nameSub\" => \"Calculus I w/ Applications\",\"id\" => 1,\"credits\" => 3,\"nameCanonical\" => \"\"), Dict(\"curriculum_requisites\" => Dict{String,Any}[],\"name\" => \"CHEM 151\",\"metrics\" => Dict{String,Any}(\"complexity\" => 5.0,\"centrality\" => 0,\"blocking factor\" => 2,\"delay factor\" => 3.0),\"nameSub\" => \"Gen Chemistry I\",\"id\" => 2,\"credits\" => 4,\"nameCanonical\" => \"\"), Dict(\"curriculum_requisites\" => Dict{String,Any}[],\"name\" => \"ENGL 101\",\"metrics\" => Dict{String,Any}(\"complexity\" => 3.0,\"centrality\" => 0,\"blocking factor\" => 1,\"delay factor\" => 2.0),\"nameSub\" => \"First-year Comp.\",\"id\" => 3,\"credits\" => 3,\"nameCanonical\" => \"\"), Dict(\"curriculum_requisites\" => Dict{String,Any}[Dict(\"source_id\" => 1,\"target_id\" => 4,\"type\" => \"CurriculumCorequisite\")],\"name\" => \"ENGR 102\",\"metrics\" => Dict{String,Any}(\"complexity\" => 2.0,\"centrality\" => 0,\"blocking factor\" => 0,\"delay factor\" => 2.0),\"nameSub\" => \"Intro to Engineering\",\"id\" => 4,\"credits\" => 3,\"nameCanonical\" => \"\"), Dict(\"curriculum_requisites\" => Dict{String,Any}[],\"name\" => \" \",\"metrics\" => Dict{String,Any}(\"complexity\" => 1.0,\"centrality\" => 0,\"blocking factor\" => 0,\"delay factor\" => 1.0),\"nameSub\" => \"Tier I General Ed.\",\"id\" => 5,\"credits\" => 3,\"nameCanonical\" => \"\")],\"id\" => 1), Dict(\"name\" => \"Term 2\",\"curriculum_items\" => Dict{String,Any}[Dict(\"curriculum_requisites\" => Dict{String,Any}[Dict(\"source_id\" => 1,\"target_id\" => 6,\"type\" => \"CurriculumPrerequisite\")],\"name\" => \"MATH 129\",\"metrics\" => Dict{String,Any}(\"complexity\" => 31.0,\"centrality\" => 388,\"blocking factor\" => 22,\"delay factor\" => 9.0),\"nameSub\" => \"Calculus II\",\"id\" => 6,\"credits\" => 3,\"nameCanonical\" => \"\"), Dict(\"curriculum_requisites\" => Dict{String,Any}[Dict(\"source_id\" => 1,\"target_id\" => 7,\"type\" => \"CurriculumPrerequisite\")],\"name\" => \"AME 105\",\"metrics\" => Dict{String,Any}(\"complexity\" => 16.0,\"centrality\" => 28,\"blocking factor\" => 9,\"delay factor\" => 7.0),\"nameSub\" => \"Intro. to MATLAB I\",\"id\" => 7,\"credits\" => 1,\"nameCanonical\" => \"\"), Dict(\"curriculum_requisites\" => Dict{String,Any}[Dict(\"source_id\" => 1,\"target_id\" => 8,\"type\" => \"CurriculumPrerequisite\")],\"name\" => \"PHYS 141\",\"metrics\" => Dict{String,Any}(\"complexity\" => 27.0,\"centrality\" => 272,\"blocking factor\" => 18,\"delay factor\" => 9.0),\"nameSub\" => \"Intro Mechanics\",\"id\" => 8,\"credits\" => 4,\"nameCanonical\" => \"\"), Dict(\"curriculum_requisites\" => Dict{String,Any}[Dict(\"source_id\" => 3,\"target_id\" => 9,\"type\" => \"CurriculumPrerequisite\")],\"name\" => \"ENGL 102\",\"metrics\" => Dict{String,Any}(\"complexity\" => 2.0,\"centrality\" => 0,\"blocking factor\" => 0,\"delay factor\" => 2.0),\"nameSub\" => \"First-year Comp.\",\"id\" => 9,\"credits\" => 3,\"nameCanonical\" => \"\"), Dict(\"curriculum_requisites\" => Dict{String,Any}[Dict(\"source_id\" => 1,\"target_id\" => 10,\"type\" => \"CurriculumCorequisite\")],\"name\" => \"ECE 175\",\"metrics\" => Dict{String,Any}(\"complexity\" => 2.0,\"centrality\" => 0,\"blocking factor\" => 0,\"delay factor\" => 2.0),\"nameSub\" => \"Programming for Eng. Apps.\",\"id\" => 10,\"credits\" => 3,\"nameCanonical\" => \"\"), Dict(\"curriculum_requisites\" => Dict{String,Any}[],\"name\" => \" \",\"metrics\" => Dict{String,Any}(\"complexity\" => 1.0,\"centrality\" => 0,\"blocking factor\" => 0,\"delay factor\" => 1.0),\"nameSub\" => \"Tier I General Ed. 1\",\"id\" => 11,\"credits\" => 3,\"nameCanonical\" => \"\")],\"id\" => 2), Dict(\"name\" => \"Term 3\",\"curriculum_items\" => Dict{String,Any}[Dict(\"curriculum_requisites\" => Dict{String,Any}[Dict(\"source_id\" => 8,\"target_id\" => 12,\"type\" => \"CurriculumPrerequisite\"), Dict(\"source_id\" => 6,\"target_id\" => 12,\"type\" => \"CurriculumPrerequisite\")],\"name\" => \"CE 214\",\"metrics\" => Dict{String,Any}(\"complexity\" => 23.0,\"centrality\" => 254,\"blocking factor\" => 14,\"delay factor\" => 9.0),\"nameSub\" => \"Statics\",\"id\" => 12,\"credits\" => 3,\"nameCanonical\" => \"\"), Dict(\"curriculum_requisites\" => Dict{String,Any}[Dict(\"source_id\" => 6,\"target_id\" => 13,\"type\" => \"CurriculumPrerequisite\")],\"name\" => \"MATH  223\",\"metrics\" => Dict{String,Any}(\"complexity\" => 26.0,\"centrality\" => 258,\"blocking factor\" => 17,\"delay factor\" => 9.0),\"nameSub\" => \"Vector Calculus\",\"id\" => 13,\"credits\" => 4,\"nameCanonical\" => \"\"), Dict(\"curriculum_requisites\" => Dict{String,Any}[Dict(\"source_id\" => 8,\"target_id\" => 14,\"type\" => \"CurriculumPrerequisite\"), Dict(\"source_id\" => 6,\"target_id\" => 14,\"type\" => \"CurriculumPrerequisite\")],\"name\" => \"PHYS 241\",\"metrics\" => Dict{String,Any}(\"complexity\" => 3.0,\"centrality\" => 0,\"blocking factor\" => 0,\"delay factor\" => 3.0),\"nameSub\" => \"Electricity & Magnetism\",\"id\" => 14,\"credits\" => 4,\"nameCanonical\" => \"\"), Dict(\"curriculum_requisites\" => Dict{String,Any}[Dict(\"source_id\" => 7,\"target_id\" => 15,\"type\" => \"CurriculumPrerequisite\")],\"name\" => \"AME  205\",\"metrics\" => Dict{String,Any}(\"complexity\" => 15.0,\"centrality\" => 28,\"blocking factor\" => 8,\"delay factor\" => 7.0),\"nameSub\" => \"Intro. To MATLAB II\",\"id\" => 15,\"credits\" => 1,\"nameCanonical\" => \"\"), Dict(\"curriculum_requisites\" => Dict{String,Any}[],\"name\" => \"AME 211\",\"metrics\" => Dict{String,Any}(\"complexity\" => 1.0,\"centrality\" => 0,\"blocking factor\" => 0,\"delay factor\" => 1.0),\"nameSub\" => \"Comp. Aided Drafting & Manufacturing\",\"id\" => 16,\"credits\" => 3,\"nameCanonical\" => \"\"), Dict(\"curriculum_requisites\" => Dict{String,Any}[],\"name\" => \" \",\"metrics\" => Dict{String,Any}(\"complexity\" => 1.0,\"centrality\" => 0,\"blocking factor\" => 0,\"delay factor\" => 1.0),\"nameSub\" => \"Tier I General Ed. 2\",\"id\" => 17,\"credits\" => 3,\"nameCanonical\" => \"\")],\"id\" => 3), Dict(\"name\" => \"Term 4\",\"curriculum_items\" => Dict{String,Any}[Dict(\"curriculum_requisites\" => Dict{String,Any}[Dict(\"source_id\" => 8,\"target_id\" => 18,\"type\" => \"CurriculumPrerequisite\")],\"name\" => \"AME 230\",\"metrics\" => Dict{String,Any}(\"complexity\" => 19.0,\"centrality\" => 86,\"blocking factor\" => 11,\"delay factor\" => 8.0),\"nameSub\" => \"Thermodynamics\",\"id\" => 18,\"credits\" => 3,\"nameCanonical\" => \"\"), Dict(\"curriculum_requisites\" => Dict{String,Any}[Dict(\"source_id\" => 12,\"target_id\" => 19,\"type\" => \"CurriculumPrerequisite\"), Dict(\"source_id\" => 20,\"target_id\" => 19,\"type\" => \"CurriculumCorequisite\")],\"name\" => \"AME 250\",\"metrics\" => Dict{String,Any}(\"complexity\" => 19.0,\"centrality\" => 145,\"blocking factor\" => 10,\"delay factor\" => 9.0),\"nameSub\" => \"Dynamics\",\"id\" => 19,\"credits\" => 3,\"nameCanonical\" => \"\"), Dict(\"curriculum_requisites\" => Dict{String,Any}[Dict(\"source_id\" => 13,\"target_id\" => 20,\"type\" => \"CurriculumPrerequisite\")],\"name\" => \"MATH 254\",\"metrics\" => Dict{String,Any}(\"complexity\" => 25.0,\"centrality\" => 188,\"blocking factor\" => 16,\"delay factor\" => 9.0),\"nameSub\" => \"Intro. to ODEs\",\"id\" => 20,\"credits\" => 3,\"nameCanonical\" => \"\"), Dict(\"curriculum_requisites\" => Dict{String,Any}[Dict(\"source_id\" => 13,\"target_id\" => 21,\"type\" => \"CurriculumPrerequisite\"), Dict(\"source_id\" => 8,\"target_id\" => 21,\"type\" => \"CurriculumPrerequisite\"), Dict(\"source_id\" => 20,\"target_id\" => 21,\"type\" => \"CurriculumCorequisite\")],\"name\" => \"AME 220\",\"metrics\" => Dict{String,Any}(\"complexity\" => 17.0,\"centrality\" => 198,\"blocking factor\" => 8,\"delay factor\" => 9.0),\"nameSub\" => \"Intro. to Aerospace Eng.\",\"id\" => 21,\"credits\" => 3,\"nameCanonical\" => \"\"), Dict(\"curriculum_requisites\" => Dict{String,Any}[],\"name\" => \" \",\"metrics\" => Dict{String,Any}(\"complexity\" => 1.0,\"centrality\" => 0,\"blocking factor\" => 0,\"delay factor\" => 1.0),\"nameSub\" => \"Tier I General Ed. 3\",\"id\" => 22,\"credits\" => 3,\"nameCanonical\" => \"\")],\"id\" => 4), Dict(\"name\" => \"Term 5\",\"curriculum_items\" => Dict{String,Any}[Dict(\"curriculum_requisites\" => Dict{String,Any}[Dict(\"source_id\" => 26,\"target_id\" => 23,\"type\" => \"CurriculumCorequisite\"), Dict(\"source_id\" => 21,\"target_id\" => 23,\"type\" => \"CurriculumPrerequisite\")],\"name\" => \"AME 320\",\"metrics\" => Dict{String,Any}(\"complexity\" => 14.0,\"centrality\" => 214,\"blocking factor\" => 5,\"delay factor\" => 9.0),\"nameSub\" => \"Aerodynamics\",\"id\" => 23,\"credits\" => 3,\"nameCanonical\" => \"\"), Dict(\"curriculum_requisites\" => Dict{String,Any}[Dict(\"source_id\" => 12,\"target_id\" => 24,\"type\" => \"CurriculumPrerequisite\")],\"name\" => \"AME  324A\",\"metrics\" => Dict{String,Any}(\"complexity\" => 20.0,\"centrality\" => 162,\"blocking factor\" => 11,\"delay factor\" => 9.0),\"nameSub\" => \"Mech. Behavior of Eng. Materials.\",\"id\" => 24,\"credits\" => 3,\"nameCanonical\" => \"\"), Dict(\"curriculum_requisites\" => Dict{String,Any}[Dict(\"source_id\" => 20,\"target_id\" => 25,\"type\" => \"CurriculumPrerequisite\")],\"name\" => \"AME 301\",\"metrics\" => Dict{String,Any}(\"complexity\" => 8.0,\"centrality\" => 12,\"blocking factor\" => 2,\"delay factor\" => 6.0),\"nameSub\" => \"Engineering Analysis\",\"id\" => 25,\"credits\" => 3,\"nameCanonical\" => \"\"), Dict(\"curriculum_requisites\" => Dict{String,Any}[Dict(\"source_id\" => 18,\"target_id\" => 26,\"type\" => \"CurriculumCorequisite\"), Dict(\"source_id\" => 24,\"target_id\" => 26,\"type\" => \"CurriculumCorequisite\")],\"name\" => \"AME 300\",\"metrics\" => Dict{String,Any}(\"complexity\" => 19.0,\"centrality\" => 204,\"blocking factor\" => 10,\"delay factor\" => 9.0),\"nameSub\" => \"Instrumentation Lab.\",\"id\" => 26,\"credits\" => 3,\"nameCanonical\" => \"\"), Dict(\"curriculum_requisites\" => Dict{String,Any}[Dict(\"source_id\" => 2,\"target_id\" => 27,\"type\" => \"CurriculumPrerequisite\")],\"name\" => \"MSE 331R\",\"metrics\" => Dict{String,Any}(\"complexity\" => 4.0,\"centrality\" => 3,\"blocking factor\" => 1,\"delay factor\" => 3.0),\"nameSub\" => \"Fund. of Materials for Engineers\",\"id\" => 27,\"credits\" => 3,\"nameCanonical\" => \"\"), Dict(\"curriculum_requisites\" => Dict{String,Any}[Dict(\"source_id\" => 25,\"target_id\" => 28,\"type\" => \"CurriculumPrerequisite\")],\"name\" => \"AME 324L\",\"metrics\" => Dict{String,Any}(\"complexity\" => 6.0,\"centrality\" => 0,\"blocking factor\" => 0,\"delay factor\" => 6.0),\"nameSub\" => \"Mech. of Materials Lab.\",\"id\" => 28,\"credits\" => 1,\"nameCanonical\" => \"\")],\"id\" => 5), Dict(\"name\" => \"Term 6\",\"curriculum_items\" => Dict{String,Any}[Dict(\"curriculum_requisites\" => Dict{String,Any}[Dict(\"source_id\" => 25,\"target_id\" => 29,\"type\" => \"CurriculumPrerequisite\")],\"name\" => \"AME 324B\",\"metrics\" => Dict{String,Any}(\"complexity\" => 6.0,\"centrality\" => 0,\"blocking factor\" => 0,\"delay factor\" => 6.0),\"nameSub\" => \"Eng. Component Design\",\"id\" => 29,\"credits\" => 3,\"nameCanonical\" => \"\"), Dict(\"curriculum_requisites\" => Dict{String,Any}[Dict(\"source_id\" => 23,\"target_id\" => 30,\"type\" => \"CurriculumCorequisite\"), Dict(\"source_id\" => 19,\"target_id\" => 30,\"type\" => \"CurriculumPrerequisite\"), Dict(\"source_id\" => 21,\"target_id\" => 30,\"type\" => \"CurriculumPrerequisite\")],\"name\" => \"AME 321\",\"metrics\" => Dict{String,Any}(\"complexity\" => 12.0,\"centrality\" => 174,\"blocking factor\" => 3,\"delay factor\" => 9.0),\"nameSub\" => \"Aircraft Performance\",\"id\" => 30,\"credits\" => 3,\"nameCanonical\" => \"\"), Dict(\"curriculum_requisites\" => Dict{String,Any}[Dict(\"source_id\" => 18,\"target_id\" => 31,\"type\" => \"CurriculumPrerequisite\"), Dict(\"source_id\" => 32,\"target_id\" => 31,\"type\" => \"CurriculumCorequisite\"), Dict(\"source_id\" => 21,\"target_id\" => 31,\"type\" => \"CurriculumPrerequisite\"), Dict(\"source_id\" => 20,\"target_id\" => 31,\"type\" => \"CurriculumPrerequisite\")],\"name\" => \"AME 323\",\"metrics\" => Dict{String,Any}(\"complexity\" => 13.0,\"centrality\" => 274,\"blocking factor\" => 4,\"delay factor\" => 9.0),\"nameSub\" => \"Gasdynamics\",\"id\" => 31,\"credits\" => 3,\"nameCanonical\" => \"\"), Dict(\"curriculum_requisites\" => Dict{String,Any}[Dict(\"source_id\" => 26,\"target_id\" => 32,\"type\" => \"CurriculumCorequisite\"), Dict(\"source_id\" => 19,\"target_id\" => 32,\"type\" => \"CurriculumPrerequisite\"), Dict(\"source_id\" => 15,\"target_id\" => 32,\"type\" => \"CurriculumPrerequisite\"), Dict(\"source_id\" => 20,\"target_id\" => 32,\"type\" => \"CurriculumPrerequisite\")],\"name\" => \"AME 302\",\"metrics\" => Dict{String,Any}(\"complexity\" => 15.0,\"centrality\" => 232,\"blocking factor\" => 6,\"delay factor\" => 9.0),\"nameSub\" => \"Numerical Methods\",\"id\" => 32,\"credits\" => 3,\"nameCanonical\" => \"\"), Dict(\"curriculum_requisites\" => Dict{String,Any}[],\"name\" => \"AME 313\",\"metrics\" => Dict{String,Any}(\"complexity\" => 5.0,\"centrality\" => 0,\"blocking factor\" => 2,\"delay factor\" => 3.0),\"nameSub\" => \"Aero./Mech. Eng. Lab\",\"id\" => 33,\"credits\" => 1,\"nameCanonical\" => \"\"), Dict(\"curriculum_requisites\" => Dict{String,Any}[],\"name\" => \" \",\"metrics\" => Dict{String,Any}(\"complexity\" => 1.0,\"centrality\" => 0,\"blocking factor\" => 0,\"delay factor\" => 1.0),\"nameSub\" => \"Tier II General Ed. 1\",\"id\" => 34,\"credits\" => 3,\"nameCanonical\" => \"\")],\"id\" => 6), Dict(\"name\" => \"Term 7\",\"curriculum_items\" => Dict{String,Any}[Dict(\"curriculum_requisites\" => Dict{String,Any}[Dict(\"source_id\" => 23,\"target_id\" => 35,\"type\" => \"CurriculumPrerequisite\"), Dict(\"source_id\" => 31,\"target_id\" => 35,\"type\" => \"CurriculumPrerequisite\"), Dict(\"source_id\" => 27,\"target_id\" => 35,\"type\" => \"CurriculumPrerequisite\")],\"name\" => \"AME 401\",\"metrics\" => Dict{String,Any}(\"complexity\" => 8.0,\"centrality\" => 0,\"blocking factor\" => 0,\"delay factor\" => 8.0),\"nameSub\" => \"Senior Aerospace Lab.\",\"id\" => 35,\"credits\" => 3,\"nameCanonical\" => \"\"), Dict(\"curriculum_requisites\" => Dict{String,Any}[Dict(\"source_id\" => 23,\"target_id\" => 36,\"type\" => \"CurriculumPrerequisite\"), Dict(\"source_id\" => 31,\"target_id\" => 36,\"type\" => \"CurriculumPrerequisite\"), Dict(\"source_id\" => 33,\"target_id\" => 36,\"type\" => \"CurriculumPrerequisite\"), Dict(\"source_id\" => 30,\"target_id\" => 36,\"type\" => \"CurriculumPrerequisite\")],\"name\" => \"AME 420\",\"metrics\" => Dict{String,Any}(\"complexity\" => 10.0,\"centrality\" => 240,\"blocking factor\" => 1,\"delay factor\" => 9.0),\"nameSub\" => \"Aerospace Conceptual Design\",\"id\" => 36,\"credits\" => 3,\"nameCanonical\" => \"\"), Dict(\"curriculum_requisites\" => Dict{String,Any}[Dict(\"source_id\" => 24,\"target_id\" => 37,\"type\" => \"CurriculumPrerequisite\"), Dict(\"source_id\" => 31,\"target_id\" => 37,\"type\" => \"CurriculumPrerequisite\"), Dict(\"source_id\" => 18,\"target_id\" => 37,\"type\" => \"CurriculumPrerequisite\")],\"name\" => \"AME 425\",\"metrics\" => Dict{String,Any}(\"complexity\" => 8.0,\"centrality\" => 0,\"blocking factor\" => 0,\"delay factor\" => 8.0),\"nameSub\" => \"Aerospace Propulsion\",\"id\" => 37,\"credits\" => 3,\"nameCanonical\" => \"\"), Dict(\"curriculum_requisites\" => Dict{String,Any}[Dict(\"source_id\" => 23,\"target_id\" => 38,\"type\" => \"CurriculumPrerequisite\"), Dict(\"source_id\" => 15,\"target_id\" => 38,\"type\" => \"CurriculumPrerequisite\"), Dict(\"source_id\" => 30,\"target_id\" => 38,\"type\" => \"CurriculumPrerequisite\")],\"name\" => \"AME 427\",\"metrics\" => Dict{String,Any}(\"complexity\" => 8.0,\"centrality\" => 0,\"blocking factor\" => 0,\"delay factor\" => 8.0),\"nameSub\" => \"Stability and Control of Aero. Vehicles\",\"id\" => 38,\"credits\" => 3,\"nameCanonical\" => \"\"), Dict(\"curriculum_requisites\" => Dict{String,Any}[Dict(\"source_id\" => 13,\"target_id\" => 39,\"type\" => \"CurriculumPrerequisite\"), Dict(\"source_id\" => 19,\"target_id\" => 39,\"type\" => \"CurriculumPrerequisite\")],\"name\" => \"AME 457\",\"metrics\" => Dict{String,Any}(\"complexity\" => 6.0,\"centrality\" => 0,\"blocking factor\" => 0,\"delay factor\" => 6.0),\"nameSub\" => \"Orbital Mechanicans and Space Flt.\",\"id\" => 39,\"credits\" => 3,\"nameCanonical\" => \"\"), Dict(\"curriculum_requisites\" => Dict{String,Any}[],\"name\" => \"AME 495S\",\"metrics\" => Dict{String,Any}(\"complexity\" => 1.0,\"centrality\" => 0,\"blocking factor\" => 0,\"delay factor\" => 1.0),\"nameSub\" => \"Senior Colloquium\",\"id\" => 40,\"credits\" => 1,\"nameCanonical\" => \"\")],\"id\" => 7), Dict(\"name\" => \"Term 8\",\"curriculum_items\" => Dict{String,Any}[Dict(\"curriculum_requisites\" => Dict{String,Any}[Dict(\"source_id\" => 36,\"target_id\" => 41,\"type\" => \"CurriculumPrerequisite\"), Dict(\"source_id\" => 33,\"target_id\" => 41,\"type\" => \"CurriculumCorequisite\")],\"name\" => \"AME 422\",\"metrics\" => Dict{String,Any}(\"complexity\" => 9.0,\"centrality\" => 0,\"blocking factor\" => 0,\"delay factor\" => 9.0),\"nameSub\" => \"Aerospace Eng.Design\",\"id\" => 41,\"credits\" => 3,\"nameCanonical\" => \"\"), Dict(\"curriculum_requisites\" => Dict{String,Any}[Dict(\"source_id\" => 24,\"target_id\" => 42,\"type\" => \"CurriculumPrerequisite\"), Dict(\"source_id\" => 32,\"target_id\" => 42,\"type\" => \"CurriculumPrerequisite\"), Dict(\"source_id\" => 18,\"target_id\" => 42,\"type\" => \"CurriculumPrerequisite\")],\"name\" => \"AME 431\",\"metrics\" => Dict{String,Any}(\"complexity\" => 7.0,\"centrality\" => 0,\"blocking factor\" => 0,\"delay factor\" => 7.0),\"nameSub\" => \"Num. Meth. in Fluid Mech. & Heat Xfer\",\"id\" => 42,\"credits\" => 3,\"nameCanonical\" => \"\"), Dict(\"curriculum_requisites\" => Dict{String,Any}[],\"name\" => \" \",\"metrics\" => Dict{String,Any}(\"complexity\" => 1.0,\"centrality\" => 0,\"blocking factor\" => 0,\"delay factor\" => 1.0),\"nameSub\" => \"Technical Elective 1\",\"id\" => 43,\"credits\" => 3,\"nameCanonical\" => \"\"), Dict(\"curriculum_requisites\" => Dict{String,Any}[],\"name\" => \" \",\"metrics\" => Dict{String,Any}(\"complexity\" => 1.0,\"centrality\" => 0,\"blocking factor\" => 0,\"delay factor\" => 1.0),\"nameSub\" => \"Technical Elective 2\",\"id\" => 44,\"credits\" => 3,\"nameCanonical\" => \"\"), Dict(\"curriculum_requisites\" => Dict{String,Any}[],\"name\" => \" \",\"metrics\" => Dict{String,Any}(\"complexity\" => 1.0,\"centrality\" => 0,\"blocking factor\" => 0,\"delay factor\" => 1.0),\"nameSub\" => \"Tier II General Ed. 2\",\"id\" => 45,\"credits\" => 3,\"nameCanonical\" => \"\")],\"id\" => 8)],\"institution\" => \"University of Arizona\")), nothing)), Set(String[]), nothing, WebIO.Asset[], Dict{Any,Any}(), WebIO.ConnectionPool(Channel{Any}(sz_max:32,sz_curr:0), Set(WebIO.AbstractConnection[]), Base.GenericCondition{Base.AlwaysLockedST}(Base.InvasiveLinkedList{Task}(Task (runnable) @0x00000001087fe410, Task (runnable) @0x00000001087fe410), Base.AlwaysLockedST(1))), WebIO.JSString[])"
      ]
     },
     "execution_count": 8,
     "metadata": {
      "application/vnd.webio.node+json": {
       "kernelId": "cb1d93c4-93e7-42e6-bb7b-5ba5ac413b8d"
      }
     },
     "output_type": "execute_result"
    }
   ],
   "source": [
    "AE_plan = plans[\"Aerospace Engineering\"]\n",
    "visualize(AE_plan, notebook=true)"
   ]
  },
  {
   "cell_type": "code",
   "execution_count": 9,
   "metadata": {},
   "outputs": [
    {
     "data": {
      "application/vnd.webio.node+json": {
       "children": [
        {
         "children": [
          ""
         ],
         "instanceArgs": {
          "namespace": "html",
          "tag": "iframe"
         },
         "nodeType": "DOM",
         "props": {
          "events": {
           "load": "(function (){this.contentWindow.postMessage({\"options\":{\"hideTerms\":false,\"edit\":false},\"curriculum\":{\"name\":\"Aerospace Engineering\",\"dp_name\":\"2019-20 Degree Plan\",\"curriculum_terms\":[{\"name\":\"Term 1\",\"curriculum_items\":[{\"curriculum_requisites\":[],\"name\":\"MATH 125\",\"metrics\":{\"complexity\":38.0,\"centrality\":0,\"blocking factor\":29,\"delay factor\":9.0},\"nameSub\":\"Calculus I w/ Applications\",\"id\":1,\"credits\":3,\"nameCanonical\":\"\"},{\"curriculum_requisites\":[],\"name\":\"CHEM 151\",\"metrics\":{\"complexity\":5.0,\"centrality\":0,\"blocking factor\":2,\"delay factor\":3.0},\"nameSub\":\"Gen Chemistry I\",\"id\":2,\"credits\":4,\"nameCanonical\":\"\"},{\"curriculum_requisites\":[],\"name\":\"ENGL 101\",\"metrics\":{\"complexity\":3.0,\"centrality\":0,\"blocking factor\":1,\"delay factor\":2.0},\"nameSub\":\"First-year Comp.\",\"id\":3,\"credits\":3,\"nameCanonical\":\"\"},{\"curriculum_requisites\":[{\"source_id\":1,\"target_id\":4,\"type\":\"CurriculumCorequisite\"}],\"name\":\"ENGR 102\",\"metrics\":{\"complexity\":2.0,\"centrality\":0,\"blocking factor\":0,\"delay factor\":2.0},\"nameSub\":\"Intro to Engineering\",\"id\":4,\"credits\":3,\"nameCanonical\":\"\"},{\"curriculum_requisites\":[],\"name\":\" \",\"metrics\":{\"complexity\":1.0,\"centrality\":0,\"blocking factor\":0,\"delay factor\":1.0},\"nameSub\":\"Tier I General Ed.\",\"id\":5,\"credits\":3,\"nameCanonical\":\"\"}],\"id\":1},{\"name\":\"Term 2\",\"curriculum_items\":[{\"curriculum_requisites\":[{\"source_id\":1,\"target_id\":6,\"type\":\"CurriculumPrerequisite\"}],\"name\":\"MATH 129\",\"metrics\":{\"complexity\":31.0,\"centrality\":388,\"blocking factor\":22,\"delay factor\":9.0},\"nameSub\":\"Calculus II\",\"id\":6,\"credits\":3,\"nameCanonical\":\"\"},{\"curriculum_requisites\":[{\"source_id\":1,\"target_id\":7,\"type\":\"CurriculumPrerequisite\"}],\"name\":\"AME 105\",\"metrics\":{\"complexity\":16.0,\"centrality\":28,\"blocking factor\":9,\"delay factor\":7.0},\"nameSub\":\"Intro. to MATLAB I\",\"id\":7,\"credits\":1,\"nameCanonical\":\"\"},{\"curriculum_requisites\":[{\"source_id\":1,\"target_id\":8,\"type\":\"CurriculumPrerequisite\"}],\"name\":\"PHYS 141\",\"metrics\":{\"complexity\":27.0,\"centrality\":272,\"blocking factor\":18,\"delay factor\":9.0},\"nameSub\":\"Intro Mechanics\",\"id\":8,\"credits\":4,\"nameCanonical\":\"\"},{\"curriculum_requisites\":[{\"source_id\":3,\"target_id\":9,\"type\":\"CurriculumPrerequisite\"}],\"name\":\"ENGL 102\",\"metrics\":{\"complexity\":2.0,\"centrality\":0,\"blocking factor\":0,\"delay factor\":2.0},\"nameSub\":\"First-year Comp.\",\"id\":9,\"credits\":3,\"nameCanonical\":\"\"},{\"curriculum_requisites\":[{\"source_id\":1,\"target_id\":10,\"type\":\"CurriculumCorequisite\"}],\"name\":\"ECE 175\",\"metrics\":{\"complexity\":2.0,\"centrality\":0,\"blocking factor\":0,\"delay factor\":2.0},\"nameSub\":\"Programming for Eng. Apps.\",\"id\":10,\"credits\":3,\"nameCanonical\":\"\"},{\"curriculum_requisites\":[],\"name\":\" \",\"metrics\":{\"complexity\":1.0,\"centrality\":0,\"blocking factor\":0,\"delay factor\":1.0},\"nameSub\":\"Tier I General Ed. 1\",\"id\":11,\"credits\":3,\"nameCanonical\":\"\"}],\"id\":2},{\"name\":\"Term 3\",\"curriculum_items\":[{\"curriculum_requisites\":[{\"source_id\":8,\"target_id\":12,\"type\":\"CurriculumPrerequisite\"},{\"source_id\":6,\"target_id\":12,\"type\":\"CurriculumPrerequisite\"}],\"name\":\"CE 214\",\"metrics\":{\"complexity\":23.0,\"centrality\":254,\"blocking factor\":14,\"delay factor\":9.0},\"nameSub\":\"Statics\",\"id\":12,\"credits\":3,\"nameCanonical\":\"\"},{\"curriculum_requisites\":[{\"source_id\":6,\"target_id\":13,\"type\":\"CurriculumPrerequisite\"}],\"name\":\"MATH  223\",\"metrics\":{\"complexity\":26.0,\"centrality\":258,\"blocking factor\":17,\"delay factor\":9.0},\"nameSub\":\"Vector Calculus\",\"id\":13,\"credits\":4,\"nameCanonical\":\"\"},{\"curriculum_requisites\":[{\"source_id\":8,\"target_id\":14,\"type\":\"CurriculumPrerequisite\"},{\"source_id\":6,\"target_id\":14,\"type\":\"CurriculumPrerequisite\"}],\"name\":\"PHYS 241\",\"metrics\":{\"complexity\":3.0,\"centrality\":0,\"blocking factor\":0,\"delay factor\":3.0},\"nameSub\":\"Electricity & Magnetism\",\"id\":14,\"credits\":4,\"nameCanonical\":\"\"},{\"curriculum_requisites\":[{\"source_id\":7,\"target_id\":15,\"type\":\"CurriculumPrerequisite\"}],\"name\":\"AME  205\",\"metrics\":{\"complexity\":15.0,\"centrality\":28,\"blocking factor\":8,\"delay factor\":7.0},\"nameSub\":\"Intro. To MATLAB II\",\"id\":15,\"credits\":1,\"nameCanonical\":\"\"},{\"curriculum_requisites\":[],\"name\":\"AME 211\",\"metrics\":{\"complexity\":1.0,\"centrality\":0,\"blocking factor\":0,\"delay factor\":1.0},\"nameSub\":\"Comp. Aided Drafting & Manufacturing\",\"id\":16,\"credits\":3,\"nameCanonical\":\"\"},{\"curriculum_requisites\":[],\"name\":\" \",\"metrics\":{\"complexity\":1.0,\"centrality\":0,\"blocking factor\":0,\"delay factor\":1.0},\"nameSub\":\"Tier I General Ed. 2\",\"id\":17,\"credits\":3,\"nameCanonical\":\"\"}],\"id\":3},{\"name\":\"Term 4\",\"curriculum_items\":[{\"curriculum_requisites\":[{\"source_id\":8,\"target_id\":18,\"type\":\"CurriculumPrerequisite\"}],\"name\":\"AME 230\",\"metrics\":{\"complexity\":19.0,\"centrality\":86,\"blocking factor\":11,\"delay factor\":8.0},\"nameSub\":\"Thermodynamics\",\"id\":18,\"credits\":3,\"nameCanonical\":\"\"},{\"curriculum_requisites\":[{\"source_id\":12,\"target_id\":19,\"type\":\"CurriculumPrerequisite\"},{\"source_id\":20,\"target_id\":19,\"type\":\"CurriculumCorequisite\"}],\"name\":\"AME 250\",\"metrics\":{\"complexity\":19.0,\"centrality\":145,\"blocking factor\":10,\"delay factor\":9.0},\"nameSub\":\"Dynamics\",\"id\":19,\"credits\":3,\"nameCanonical\":\"\"},{\"curriculum_requisites\":[{\"source_id\":13,\"target_id\":20,\"type\":\"CurriculumPrerequisite\"}],\"name\":\"MATH 254\",\"metrics\":{\"complexity\":25.0,\"centrality\":188,\"blocking factor\":16,\"delay factor\":9.0},\"nameSub\":\"Intro. to ODEs\",\"id\":20,\"credits\":3,\"nameCanonical\":\"\"},{\"curriculum_requisites\":[{\"source_id\":13,\"target_id\":21,\"type\":\"CurriculumPrerequisite\"},{\"source_id\":8,\"target_id\":21,\"type\":\"CurriculumPrerequisite\"},{\"source_id\":20,\"target_id\":21,\"type\":\"CurriculumCorequisite\"}],\"name\":\"AME 220\",\"metrics\":{\"complexity\":17.0,\"centrality\":198,\"blocking factor\":8,\"delay factor\":9.0},\"nameSub\":\"Intro. to Aerospace Eng.\",\"id\":21,\"credits\":3,\"nameCanonical\":\"\"},{\"curriculum_requisites\":[],\"name\":\" \",\"metrics\":{\"complexity\":1.0,\"centrality\":0,\"blocking factor\":0,\"delay factor\":1.0},\"nameSub\":\"Tier I General Ed. 3\",\"id\":22,\"credits\":3,\"nameCanonical\":\"\"}],\"id\":4},{\"name\":\"Term 5\",\"curriculum_items\":[{\"curriculum_requisites\":[{\"source_id\":26,\"target_id\":23,\"type\":\"CurriculumCorequisite\"},{\"source_id\":21,\"target_id\":23,\"type\":\"CurriculumPrerequisite\"}],\"name\":\"AME 320\",\"metrics\":{\"complexity\":14.0,\"centrality\":214,\"blocking factor\":5,\"delay factor\":9.0},\"nameSub\":\"Aerodynamics\",\"id\":23,\"credits\":3,\"nameCanonical\":\"\"},{\"curriculum_requisites\":[{\"source_id\":12,\"target_id\":24,\"type\":\"CurriculumPrerequisite\"}],\"name\":\"AME  324A\",\"metrics\":{\"complexity\":20.0,\"centrality\":162,\"blocking factor\":11,\"delay factor\":9.0},\"nameSub\":\"Mech. Behavior of Eng. Materials.\",\"id\":24,\"credits\":3,\"nameCanonical\":\"\"},{\"curriculum_requisites\":[{\"source_id\":20,\"target_id\":25,\"type\":\"CurriculumPrerequisite\"}],\"name\":\"AME 301\",\"metrics\":{\"complexity\":8.0,\"centrality\":12,\"blocking factor\":2,\"delay factor\":6.0},\"nameSub\":\"Engineering Analysis\",\"id\":25,\"credits\":3,\"nameCanonical\":\"\"},{\"curriculum_requisites\":[{\"source_id\":18,\"target_id\":26,\"type\":\"CurriculumCorequisite\"},{\"source_id\":24,\"target_id\":26,\"type\":\"CurriculumCorequisite\"}],\"name\":\"AME 300\",\"metrics\":{\"complexity\":19.0,\"centrality\":204,\"blocking factor\":10,\"delay factor\":9.0},\"nameSub\":\"Instrumentation Lab.\",\"id\":26,\"credits\":3,\"nameCanonical\":\"\"},{\"curriculum_requisites\":[{\"source_id\":2,\"target_id\":27,\"type\":\"CurriculumPrerequisite\"}],\"name\":\"MSE 331R\",\"metrics\":{\"complexity\":4.0,\"centrality\":3,\"blocking factor\":1,\"delay factor\":3.0},\"nameSub\":\"Fund. of Materials for Engineers\",\"id\":27,\"credits\":3,\"nameCanonical\":\"\"},{\"curriculum_requisites\":[{\"source_id\":25,\"target_id\":28,\"type\":\"CurriculumPrerequisite\"}],\"name\":\"AME 324L\",\"metrics\":{\"complexity\":6.0,\"centrality\":0,\"blocking factor\":0,\"delay factor\":6.0},\"nameSub\":\"Mech. of Materials Lab.\",\"id\":28,\"credits\":1,\"nameCanonical\":\"\"}],\"id\":5},{\"name\":\"Term 6\",\"curriculum_items\":[{\"curriculum_requisites\":[{\"source_id\":25,\"target_id\":29,\"type\":\"CurriculumPrerequisite\"}],\"name\":\"AME 324B\",\"metrics\":{\"complexity\":6.0,\"centrality\":0,\"blocking factor\":0,\"delay factor\":6.0},\"nameSub\":\"Eng. Component Design\",\"id\":29,\"credits\":3,\"nameCanonical\":\"\"},{\"curriculum_requisites\":[{\"source_id\":23,\"target_id\":30,\"type\":\"CurriculumCorequisite\"},{\"source_id\":19,\"target_id\":30,\"type\":\"CurriculumPrerequisite\"},{\"source_id\":21,\"target_id\":30,\"type\":\"CurriculumPrerequisite\"}],\"name\":\"AME 321\",\"metrics\":{\"complexity\":12.0,\"centrality\":174,\"blocking factor\":3,\"delay factor\":9.0},\"nameSub\":\"Aircraft Performance\",\"id\":30,\"credits\":3,\"nameCanonical\":\"\"},{\"curriculum_requisites\":[{\"source_id\":18,\"target_id\":31,\"type\":\"CurriculumPrerequisite\"},{\"source_id\":32,\"target_id\":31,\"type\":\"CurriculumCorequisite\"},{\"source_id\":21,\"target_id\":31,\"type\":\"CurriculumPrerequisite\"},{\"source_id\":20,\"target_id\":31,\"type\":\"CurriculumPrerequisite\"}],\"name\":\"AME 323\",\"metrics\":{\"complexity\":13.0,\"centrality\":274,\"blocking factor\":4,\"delay factor\":9.0},\"nameSub\":\"Gasdynamics\",\"id\":31,\"credits\":3,\"nameCanonical\":\"\"},{\"curriculum_requisites\":[{\"source_id\":26,\"target_id\":32,\"type\":\"CurriculumCorequisite\"},{\"source_id\":19,\"target_id\":32,\"type\":\"CurriculumPrerequisite\"},{\"source_id\":15,\"target_id\":32,\"type\":\"CurriculumPrerequisite\"},{\"source_id\":20,\"target_id\":32,\"type\":\"CurriculumPrerequisite\"}],\"name\":\"AME 302\",\"metrics\":{\"complexity\":15.0,\"centrality\":232,\"blocking factor\":6,\"delay factor\":9.0},\"nameSub\":\"Numerical Methods\",\"id\":32,\"credits\":3,\"nameCanonical\":\"\"},{\"curriculum_requisites\":[],\"name\":\"AME 313\",\"metrics\":{\"complexity\":5.0,\"centrality\":0,\"blocking factor\":2,\"delay factor\":3.0},\"nameSub\":\"Aero./Mech. Eng. Lab\",\"id\":33,\"credits\":1,\"nameCanonical\":\"\"},{\"curriculum_requisites\":[],\"name\":\" \",\"metrics\":{\"complexity\":1.0,\"centrality\":0,\"blocking factor\":0,\"delay factor\":1.0},\"nameSub\":\"Tier II General Ed. 1\",\"id\":34,\"credits\":3,\"nameCanonical\":\"\"}],\"id\":6},{\"name\":\"Term 7\",\"curriculum_items\":[{\"curriculum_requisites\":[{\"source_id\":23,\"target_id\":35,\"type\":\"CurriculumPrerequisite\"},{\"source_id\":31,\"target_id\":35,\"type\":\"CurriculumPrerequisite\"},{\"source_id\":27,\"target_id\":35,\"type\":\"CurriculumPrerequisite\"}],\"name\":\"AME 401\",\"metrics\":{\"complexity\":8.0,\"centrality\":0,\"blocking factor\":0,\"delay factor\":8.0},\"nameSub\":\"Senior Aerospace Lab.\",\"id\":35,\"credits\":3,\"nameCanonical\":\"\"},{\"curriculum_requisites\":[{\"source_id\":23,\"target_id\":36,\"type\":\"CurriculumPrerequisite\"},{\"source_id\":31,\"target_id\":36,\"type\":\"CurriculumPrerequisite\"},{\"source_id\":33,\"target_id\":36,\"type\":\"CurriculumPrerequisite\"},{\"source_id\":30,\"target_id\":36,\"type\":\"CurriculumPrerequisite\"}],\"name\":\"AME 420\",\"metrics\":{\"complexity\":10.0,\"centrality\":240,\"blocking factor\":1,\"delay factor\":9.0},\"nameSub\":\"Aerospace Conceptual Design\",\"id\":36,\"credits\":3,\"nameCanonical\":\"\"},{\"curriculum_requisites\":[{\"source_id\":24,\"target_id\":37,\"type\":\"CurriculumPrerequisite\"},{\"source_id\":31,\"target_id\":37,\"type\":\"CurriculumPrerequisite\"},{\"source_id\":18,\"target_id\":37,\"type\":\"CurriculumPrerequisite\"}],\"name\":\"AME 425\",\"metrics\":{\"complexity\":8.0,\"centrality\":0,\"blocking factor\":0,\"delay factor\":8.0},\"nameSub\":\"Aerospace Propulsion\",\"id\":37,\"credits\":3,\"nameCanonical\":\"\"},{\"curriculum_requisites\":[{\"source_id\":23,\"target_id\":38,\"type\":\"CurriculumPrerequisite\"},{\"source_id\":15,\"target_id\":38,\"type\":\"CurriculumPrerequisite\"},{\"source_id\":30,\"target_id\":38,\"type\":\"CurriculumPrerequisite\"}],\"name\":\"AME 427\",\"metrics\":{\"complexity\":8.0,\"centrality\":0,\"blocking factor\":0,\"delay factor\":8.0},\"nameSub\":\"Stability and Control of Aero. Vehicles\",\"id\":38,\"credits\":3,\"nameCanonical\":\"\"},{\"curriculum_requisites\":[{\"source_id\":13,\"target_id\":39,\"type\":\"CurriculumPrerequisite\"},{\"source_id\":19,\"target_id\":39,\"type\":\"CurriculumPrerequisite\"}],\"name\":\"AME 457\",\"metrics\":{\"complexity\":6.0,\"centrality\":0,\"blocking factor\":0,\"delay factor\":6.0},\"nameSub\":\"Orbital Mechanicans and Space Flt.\",\"id\":39,\"credits\":3,\"nameCanonical\":\"\"},{\"curriculum_requisites\":[],\"name\":\"AME 495S\",\"metrics\":{\"complexity\":1.0,\"centrality\":0,\"blocking factor\":0,\"delay factor\":1.0},\"nameSub\":\"Senior Colloquium\",\"id\":40,\"credits\":1,\"nameCanonical\":\"\"}],\"id\":7},{\"name\":\"Term 8\",\"curriculum_items\":[{\"curriculum_requisites\":[{\"source_id\":36,\"target_id\":41,\"type\":\"CurriculumPrerequisite\"},{\"source_id\":33,\"target_id\":41,\"type\":\"CurriculumCorequisite\"}],\"name\":\"AME 422\",\"metrics\":{\"complexity\":9.0,\"centrality\":0,\"blocking factor\":0,\"delay factor\":9.0},\"nameSub\":\"Aerospace Eng.Design\",\"id\":41,\"credits\":3,\"nameCanonical\":\"\"},{\"curriculum_requisites\":[{\"source_id\":24,\"target_id\":42,\"type\":\"CurriculumPrerequisite\"},{\"source_id\":32,\"target_id\":42,\"type\":\"CurriculumPrerequisite\"},{\"source_id\":18,\"target_id\":42,\"type\":\"CurriculumPrerequisite\"}],\"name\":\"AME 431\",\"metrics\":{\"complexity\":7.0,\"centrality\":0,\"blocking factor\":0,\"delay factor\":7.0},\"nameSub\":\"Num. Meth. in Fluid Mech. & Heat Xfer\",\"id\":42,\"credits\":3,\"nameCanonical\":\"\"},{\"curriculum_requisites\":[],\"name\":\" \",\"metrics\":{\"complexity\":1.0,\"centrality\":0,\"blocking factor\":0,\"delay factor\":1.0},\"nameSub\":\"Technical Elective 1\",\"id\":43,\"credits\":3,\"nameCanonical\":\"\"},{\"curriculum_requisites\":[],\"name\":\" \",\"metrics\":{\"complexity\":1.0,\"centrality\":0,\"blocking factor\":0,\"delay factor\":1.0},\"nameSub\":\"Technical Elective 2\",\"id\":44,\"credits\":3,\"nameCanonical\":\"\"},{\"curriculum_requisites\":[],\"name\":\" \",\"metrics\":{\"complexity\":1.0,\"centrality\":0,\"blocking factor\":0,\"delay factor\":1.0},\"nameSub\":\"Tier II General Ed. 2\",\"id\":45,\"credits\":3,\"nameCanonical\":\"\"}],\"id\":8}],\"institution\":\"University of Arizona\"}},\"*\"); window.removeEventListener(\"message\",window.messageReceived); window.messageReceived=(function (event){return (event.data.curriculum!==undefined) ? (WebIO.setval({\"name\":\"curriculum-data\",\"scope\":\"7844697571021043491\",\"id\":\"ob_05\",\"type\":\"observable\"},event.data.curriculum)) : undefined}); return window.addEventListener(\"message\",window.messageReceived)})"
          },
          "id": "curriculum",
          "src": "http://localhost:8156",
          "style": {
           "border": "none",
           "height": "100vh",
           "margin": "0",
           "padding": "0",
           "width": "100%"
          }
         },
         "type": "node"
        }
       ],
       "instanceArgs": {
        "handlers": {},
        "id": "7844697571021043491",
        "imports": {
         "data": [],
         "type": "async_block"
        },
        "mount_callbacks": [],
        "observables": {
         "curriculum-data": {
          "id": "ob_05",
          "sync": true,
          "value": {
           "curriculum": {
            "curriculum_terms": [
             {
              "curriculum_items": [
               {
                "credits": 3,
                "curriculum_requisites": [],
                "id": 1,
                "metrics": {
                 "blocking factor": 29,
                 "centrality": 0,
                 "complexity": 38,
                 "delay factor": 9
                },
                "name": "MATH 125",
                "nameCanonical": "",
                "nameSub": "Calculus I w/ Applications"
               },
               {
                "credits": 4,
                "curriculum_requisites": [],
                "id": 2,
                "metrics": {
                 "blocking factor": 2,
                 "centrality": 0,
                 "complexity": 5,
                 "delay factor": 3
                },
                "name": "CHEM 151",
                "nameCanonical": "",
                "nameSub": "Gen Chemistry I"
               },
               {
                "credits": 3,
                "curriculum_requisites": [],
                "id": 3,
                "metrics": {
                 "blocking factor": 1,
                 "centrality": 0,
                 "complexity": 3,
                 "delay factor": 2
                },
                "name": "ENGL 101",
                "nameCanonical": "",
                "nameSub": "First-year Comp."
               },
               {
                "credits": 3,
                "curriculum_requisites": [
                 {
                  "source_id": 1,
                  "target_id": 4,
                  "type": "CurriculumCorequisite"
                 }
                ],
                "id": 4,
                "metrics": {
                 "blocking factor": 0,
                 "centrality": 0,
                 "complexity": 2,
                 "delay factor": 2
                },
                "name": "ENGR 102",
                "nameCanonical": "",
                "nameSub": "Intro to Engineering"
               },
               {
                "credits": 3,
                "curriculum_requisites": [],
                "id": 5,
                "metrics": {
                 "blocking factor": 0,
                 "centrality": 0,
                 "complexity": 1,
                 "delay factor": 1
                },
                "name": " ",
                "nameCanonical": "",
                "nameSub": "Tier I General Ed."
               }
              ],
              "id": 1,
              "name": "Term 1"
             },
             {
              "curriculum_items": [
               {
                "credits": 3,
                "curriculum_requisites": [
                 {
                  "source_id": 1,
                  "target_id": 6,
                  "type": "CurriculumPrerequisite"
                 }
                ],
                "id": 6,
                "metrics": {
                 "blocking factor": 22,
                 "centrality": 388,
                 "complexity": 31,
                 "delay factor": 9
                },
                "name": "MATH 129",
                "nameCanonical": "",
                "nameSub": "Calculus II"
               },
               {
                "credits": 1,
                "curriculum_requisites": [
                 {
                  "source_id": 1,
                  "target_id": 7,
                  "type": "CurriculumPrerequisite"
                 }
                ],
                "id": 7,
                "metrics": {
                 "blocking factor": 9,
                 "centrality": 28,
                 "complexity": 16,
                 "delay factor": 7
                },
                "name": "AME 105",
                "nameCanonical": "",
                "nameSub": "Intro. to MATLAB I"
               },
               {
                "credits": 4,
                "curriculum_requisites": [
                 {
                  "source_id": 1,
                  "target_id": 8,
                  "type": "CurriculumPrerequisite"
                 }
                ],
                "id": 8,
                "metrics": {
                 "blocking factor": 18,
                 "centrality": 272,
                 "complexity": 27,
                 "delay factor": 9
                },
                "name": "PHYS 141",
                "nameCanonical": "",
                "nameSub": "Intro Mechanics"
               },
               {
                "credits": 3,
                "curriculum_requisites": [
                 {
                  "source_id": 3,
                  "target_id": 9,
                  "type": "CurriculumPrerequisite"
                 }
                ],
                "id": 9,
                "metrics": {
                 "blocking factor": 0,
                 "centrality": 0,
                 "complexity": 2,
                 "delay factor": 2
                },
                "name": "ENGL 102",
                "nameCanonical": "",
                "nameSub": "First-year Comp."
               },
               {
                "credits": 3,
                "curriculum_requisites": [
                 {
                  "source_id": 1,
                  "target_id": 10,
                  "type": "CurriculumCorequisite"
                 }
                ],
                "id": 10,
                "metrics": {
                 "blocking factor": 0,
                 "centrality": 0,
                 "complexity": 2,
                 "delay factor": 2
                },
                "name": "ECE 175",
                "nameCanonical": "",
                "nameSub": "Programming for Eng. Apps."
               },
               {
                "credits": 3,
                "curriculum_requisites": [],
                "id": 11,
                "metrics": {
                 "blocking factor": 0,
                 "centrality": 0,
                 "complexity": 1,
                 "delay factor": 1
                },
                "name": " ",
                "nameCanonical": "",
                "nameSub": "Tier I General Ed. 1"
               }
              ],
              "id": 2,
              "name": "Term 2"
             },
             {
              "curriculum_items": [
               {
                "credits": 3,
                "curriculum_requisites": [
                 {
                  "source_id": 8,
                  "target_id": 12,
                  "type": "CurriculumPrerequisite"
                 },
                 {
                  "source_id": 6,
                  "target_id": 12,
                  "type": "CurriculumPrerequisite"
                 }
                ],
                "id": 12,
                "metrics": {
                 "blocking factor": 14,
                 "centrality": 254,
                 "complexity": 23,
                 "delay factor": 9
                },
                "name": "CE 214",
                "nameCanonical": "",
                "nameSub": "Statics"
               },
               {
                "credits": 4,
                "curriculum_requisites": [
                 {
                  "source_id": 6,
                  "target_id": 13,
                  "type": "CurriculumPrerequisite"
                 }
                ],
                "id": 13,
                "metrics": {
                 "blocking factor": 17,
                 "centrality": 258,
                 "complexity": 26,
                 "delay factor": 9
                },
                "name": "MATH  223",
                "nameCanonical": "",
                "nameSub": "Vector Calculus"
               },
               {
                "credits": 4,
                "curriculum_requisites": [
                 {
                  "source_id": 8,
                  "target_id": 14,
                  "type": "CurriculumPrerequisite"
                 },
                 {
                  "source_id": 6,
                  "target_id": 14,
                  "type": "CurriculumPrerequisite"
                 }
                ],
                "id": 14,
                "metrics": {
                 "blocking factor": 0,
                 "centrality": 0,
                 "complexity": 3,
                 "delay factor": 3
                },
                "name": "PHYS 241",
                "nameCanonical": "",
                "nameSub": "Electricity & Magnetism"
               },
               {
                "credits": 1,
                "curriculum_requisites": [
                 {
                  "source_id": 7,
                  "target_id": 15,
                  "type": "CurriculumPrerequisite"
                 }
                ],
                "id": 15,
                "metrics": {
                 "blocking factor": 8,
                 "centrality": 28,
                 "complexity": 15,
                 "delay factor": 7
                },
                "name": "AME  205",
                "nameCanonical": "",
                "nameSub": "Intro. To MATLAB II"
               },
               {
                "credits": 3,
                "curriculum_requisites": [],
                "id": 16,
                "metrics": {
                 "blocking factor": 0,
                 "centrality": 0,
                 "complexity": 1,
                 "delay factor": 1
                },
                "name": "AME 211",
                "nameCanonical": "",
                "nameSub": "Comp. Aided Drafting & Manufacturing"
               },
               {
                "credits": 3,
                "curriculum_requisites": [],
                "id": 17,
                "metrics": {
                 "blocking factor": 0,
                 "centrality": 0,
                 "complexity": 1,
                 "delay factor": 1
                },
                "name": " ",
                "nameCanonical": "",
                "nameSub": "Tier I General Ed. 2"
               }
              ],
              "id": 3,
              "name": "Term 3"
             },
             {
              "curriculum_items": [
               {
                "credits": 3,
                "curriculum_requisites": [
                 {
                  "source_id": 8,
                  "target_id": 18,
                  "type": "CurriculumPrerequisite"
                 }
                ],
                "id": 18,
                "metrics": {
                 "blocking factor": 11,
                 "centrality": 86,
                 "complexity": 19,
                 "delay factor": 8
                },
                "name": "AME 230",
                "nameCanonical": "",
                "nameSub": "Thermodynamics"
               },
               {
                "credits": 3,
                "curriculum_requisites": [
                 {
                  "source_id": 12,
                  "target_id": 19,
                  "type": "CurriculumPrerequisite"
                 },
                 {
                  "source_id": 20,
                  "target_id": 19,
                  "type": "CurriculumCorequisite"
                 }
                ],
                "id": 19,
                "metrics": {
                 "blocking factor": 10,
                 "centrality": 145,
                 "complexity": 19,
                 "delay factor": 9
                },
                "name": "AME 250",
                "nameCanonical": "",
                "nameSub": "Dynamics"
               },
               {
                "credits": 3,
                "curriculum_requisites": [
                 {
                  "source_id": 13,
                  "target_id": 20,
                  "type": "CurriculumPrerequisite"
                 }
                ],
                "id": 20,
                "metrics": {
                 "blocking factor": 16,
                 "centrality": 188,
                 "complexity": 25,
                 "delay factor": 9
                },
                "name": "MATH 254",
                "nameCanonical": "",
                "nameSub": "Intro. to ODEs"
               },
               {
                "credits": 3,
                "curriculum_requisites": [
                 {
                  "source_id": 13,
                  "target_id": 21,
                  "type": "CurriculumPrerequisite"
                 },
                 {
                  "source_id": 8,
                  "target_id": 21,
                  "type": "CurriculumPrerequisite"
                 },
                 {
                  "source_id": 20,
                  "target_id": 21,
                  "type": "CurriculumCorequisite"
                 }
                ],
                "id": 21,
                "metrics": {
                 "blocking factor": 8,
                 "centrality": 198,
                 "complexity": 17,
                 "delay factor": 9
                },
                "name": "AME 220",
                "nameCanonical": "",
                "nameSub": "Intro. to Aerospace Eng."
               },
               {
                "credits": 3,
                "curriculum_requisites": [],
                "id": 22,
                "metrics": {
                 "blocking factor": 0,
                 "centrality": 0,
                 "complexity": 1,
                 "delay factor": 1
                },
                "name": " ",
                "nameCanonical": "",
                "nameSub": "Tier I General Ed. 3"
               }
              ],
              "id": 4,
              "name": "Term 4"
             },
             {
              "curriculum_items": [
               {
                "credits": 3,
                "curriculum_requisites": [
                 {
                  "source_id": 26,
                  "target_id": 23,
                  "type": "CurriculumCorequisite"
                 },
                 {
                  "source_id": 21,
                  "target_id": 23,
                  "type": "CurriculumPrerequisite"
                 }
                ],
                "id": 23,
                "metrics": {
                 "blocking factor": 5,
                 "centrality": 214,
                 "complexity": 14,
                 "delay factor": 9
                },
                "name": "AME 320",
                "nameCanonical": "",
                "nameSub": "Aerodynamics"
               },
               {
                "credits": 3,
                "curriculum_requisites": [
                 {
                  "source_id": 12,
                  "target_id": 24,
                  "type": "CurriculumPrerequisite"
                 }
                ],
                "id": 24,
                "metrics": {
                 "blocking factor": 11,
                 "centrality": 162,
                 "complexity": 20,
                 "delay factor": 9
                },
                "name": "AME  324A",
                "nameCanonical": "",
                "nameSub": "Mech. Behavior of Eng. Materials."
               },
               {
                "credits": 3,
                "curriculum_requisites": [
                 {
                  "source_id": 20,
                  "target_id": 25,
                  "type": "CurriculumPrerequisite"
                 }
                ],
                "id": 25,
                "metrics": {
                 "blocking factor": 2,
                 "centrality": 12,
                 "complexity": 8,
                 "delay factor": 6
                },
                "name": "AME 301",
                "nameCanonical": "",
                "nameSub": "Engineering Analysis"
               },
               {
                "credits": 3,
                "curriculum_requisites": [
                 {
                  "source_id": 18,
                  "target_id": 26,
                  "type": "CurriculumCorequisite"
                 },
                 {
                  "source_id": 24,
                  "target_id": 26,
                  "type": "CurriculumCorequisite"
                 }
                ],
                "id": 26,
                "metrics": {
                 "blocking factor": 10,
                 "centrality": 204,
                 "complexity": 19,
                 "delay factor": 9
                },
                "name": "AME 300",
                "nameCanonical": "",
                "nameSub": "Instrumentation Lab."
               },
               {
                "credits": 3,
                "curriculum_requisites": [
                 {
                  "source_id": 2,
                  "target_id": 27,
                  "type": "CurriculumPrerequisite"
                 }
                ],
                "id": 27,
                "metrics": {
                 "blocking factor": 1,
                 "centrality": 3,
                 "complexity": 4,
                 "delay factor": 3
                },
                "name": "MSE 331R",
                "nameCanonical": "",
                "nameSub": "Fund. of Materials for Engineers"
               },
               {
                "credits": 1,
                "curriculum_requisites": [
                 {
                  "source_id": 25,
                  "target_id": 28,
                  "type": "CurriculumPrerequisite"
                 }
                ],
                "id": 28,
                "metrics": {
                 "blocking factor": 0,
                 "centrality": 0,
                 "complexity": 6,
                 "delay factor": 6
                },
                "name": "AME 324L",
                "nameCanonical": "",
                "nameSub": "Mech. of Materials Lab."
               }
              ],
              "id": 5,
              "name": "Term 5"
             },
             {
              "curriculum_items": [
               {
                "credits": 3,
                "curriculum_requisites": [
                 {
                  "source_id": 25,
                  "target_id": 29,
                  "type": "CurriculumPrerequisite"
                 }
                ],
                "id": 29,
                "metrics": {
                 "blocking factor": 0,
                 "centrality": 0,
                 "complexity": 6,
                 "delay factor": 6
                },
                "name": "AME 324B",
                "nameCanonical": "",
                "nameSub": "Eng. Component Design"
               },
               {
                "credits": 3,
                "curriculum_requisites": [
                 {
                  "source_id": 23,
                  "target_id": 30,
                  "type": "CurriculumCorequisite"
                 },
                 {
                  "source_id": 19,
                  "target_id": 30,
                  "type": "CurriculumPrerequisite"
                 },
                 {
                  "source_id": 21,
                  "target_id": 30,
                  "type": "CurriculumPrerequisite"
                 }
                ],
                "id": 30,
                "metrics": {
                 "blocking factor": 3,
                 "centrality": 174,
                 "complexity": 12,
                 "delay factor": 9
                },
                "name": "AME 321",
                "nameCanonical": "",
                "nameSub": "Aircraft Performance"
               },
               {
                "credits": 3,
                "curriculum_requisites": [
                 {
                  "source_id": 18,
                  "target_id": 31,
                  "type": "CurriculumPrerequisite"
                 },
                 {
                  "source_id": 32,
                  "target_id": 31,
                  "type": "CurriculumCorequisite"
                 },
                 {
                  "source_id": 21,
                  "target_id": 31,
                  "type": "CurriculumPrerequisite"
                 },
                 {
                  "source_id": 20,
                  "target_id": 31,
                  "type": "CurriculumPrerequisite"
                 }
                ],
                "id": 31,
                "metrics": {
                 "blocking factor": 4,
                 "centrality": 274,
                 "complexity": 13,
                 "delay factor": 9
                },
                "name": "AME 323",
                "nameCanonical": "",
                "nameSub": "Gasdynamics"
               },
               {
                "credits": 3,
                "curriculum_requisites": [
                 {
                  "source_id": 26,
                  "target_id": 32,
                  "type": "CurriculumCorequisite"
                 },
                 {
                  "source_id": 19,
                  "target_id": 32,
                  "type": "CurriculumPrerequisite"
                 },
                 {
                  "source_id": 15,
                  "target_id": 32,
                  "type": "CurriculumPrerequisite"
                 },
                 {
                  "source_id": 20,
                  "target_id": 32,
                  "type": "CurriculumPrerequisite"
                 }
                ],
                "id": 32,
                "metrics": {
                 "blocking factor": 6,
                 "centrality": 232,
                 "complexity": 15,
                 "delay factor": 9
                },
                "name": "AME 302",
                "nameCanonical": "",
                "nameSub": "Numerical Methods"
               },
               {
                "credits": 1,
                "curriculum_requisites": [],
                "id": 33,
                "metrics": {
                 "blocking factor": 2,
                 "centrality": 0,
                 "complexity": 5,
                 "delay factor": 3
                },
                "name": "AME 313",
                "nameCanonical": "",
                "nameSub": "Aero./Mech. Eng. Lab"
               },
               {
                "credits": 3,
                "curriculum_requisites": [],
                "id": 34,
                "metrics": {
                 "blocking factor": 0,
                 "centrality": 0,
                 "complexity": 1,
                 "delay factor": 1
                },
                "name": " ",
                "nameCanonical": "",
                "nameSub": "Tier II General Ed. 1"
               }
              ],
              "id": 6,
              "name": "Term 6"
             },
             {
              "curriculum_items": [
               {
                "credits": 3,
                "curriculum_requisites": [
                 {
                  "source_id": 23,
                  "target_id": 35,
                  "type": "CurriculumPrerequisite"
                 },
                 {
                  "source_id": 31,
                  "target_id": 35,
                  "type": "CurriculumPrerequisite"
                 },
                 {
                  "source_id": 27,
                  "target_id": 35,
                  "type": "CurriculumPrerequisite"
                 }
                ],
                "id": 35,
                "metrics": {
                 "blocking factor": 0,
                 "centrality": 0,
                 "complexity": 8,
                 "delay factor": 8
                },
                "name": "AME 401",
                "nameCanonical": "",
                "nameSub": "Senior Aerospace Lab."
               },
               {
                "credits": 3,
                "curriculum_requisites": [
                 {
                  "source_id": 23,
                  "target_id": 36,
                  "type": "CurriculumPrerequisite"
                 },
                 {
                  "source_id": 31,
                  "target_id": 36,
                  "type": "CurriculumPrerequisite"
                 },
                 {
                  "source_id": 33,
                  "target_id": 36,
                  "type": "CurriculumPrerequisite"
                 },
                 {
                  "source_id": 30,
                  "target_id": 36,
                  "type": "CurriculumPrerequisite"
                 }
                ],
                "id": 36,
                "metrics": {
                 "blocking factor": 1,
                 "centrality": 240,
                 "complexity": 10,
                 "delay factor": 9
                },
                "name": "AME 420",
                "nameCanonical": "",
                "nameSub": "Aerospace Conceptual Design"
               },
               {
                "credits": 3,
                "curriculum_requisites": [
                 {
                  "source_id": 24,
                  "target_id": 37,
                  "type": "CurriculumPrerequisite"
                 },
                 {
                  "source_id": 31,
                  "target_id": 37,
                  "type": "CurriculumPrerequisite"
                 },
                 {
                  "source_id": 18,
                  "target_id": 37,
                  "type": "CurriculumPrerequisite"
                 }
                ],
                "id": 37,
                "metrics": {
                 "blocking factor": 0,
                 "centrality": 0,
                 "complexity": 8,
                 "delay factor": 8
                },
                "name": "AME 425",
                "nameCanonical": "",
                "nameSub": "Aerospace Propulsion"
               },
               {
                "credits": 3,
                "curriculum_requisites": [
                 {
                  "source_id": 23,
                  "target_id": 38,
                  "type": "CurriculumPrerequisite"
                 },
                 {
                  "source_id": 15,
                  "target_id": 38,
                  "type": "CurriculumPrerequisite"
                 },
                 {
                  "source_id": 30,
                  "target_id": 38,
                  "type": "CurriculumPrerequisite"
                 }
                ],
                "id": 38,
                "metrics": {
                 "blocking factor": 0,
                 "centrality": 0,
                 "complexity": 8,
                 "delay factor": 8
                },
                "name": "AME 427",
                "nameCanonical": "",
                "nameSub": "Stability and Control of Aero. Vehicles"
               },
               {
                "credits": 3,
                "curriculum_requisites": [
                 {
                  "source_id": 13,
                  "target_id": 39,
                  "type": "CurriculumPrerequisite"
                 },
                 {
                  "source_id": 19,
                  "target_id": 39,
                  "type": "CurriculumPrerequisite"
                 }
                ],
                "id": 39,
                "metrics": {
                 "blocking factor": 0,
                 "centrality": 0,
                 "complexity": 6,
                 "delay factor": 6
                },
                "name": "AME 457",
                "nameCanonical": "",
                "nameSub": "Orbital Mechanicans and Space Flt."
               },
               {
                "credits": 1,
                "curriculum_requisites": [],
                "id": 40,
                "metrics": {
                 "blocking factor": 0,
                 "centrality": 0,
                 "complexity": 1,
                 "delay factor": 1
                },
                "name": "AME 495S",
                "nameCanonical": "",
                "nameSub": "Senior Colloquium"
               }
              ],
              "id": 7,
              "name": "Term 7"
             },
             {
              "curriculum_items": [
               {
                "credits": 3,
                "curriculum_requisites": [
                 {
                  "source_id": 36,
                  "target_id": 41,
                  "type": "CurriculumPrerequisite"
                 },
                 {
                  "source_id": 33,
                  "target_id": 41,
                  "type": "CurriculumCorequisite"
                 }
                ],
                "id": 41,
                "metrics": {
                 "blocking factor": 0,
                 "centrality": 0,
                 "complexity": 9,
                 "delay factor": 9
                },
                "name": "AME 422",
                "nameCanonical": "",
                "nameSub": "Aerospace Eng.Design"
               },
               {
                "credits": 3,
                "curriculum_requisites": [
                 {
                  "source_id": 24,
                  "target_id": 42,
                  "type": "CurriculumPrerequisite"
                 },
                 {
                  "source_id": 32,
                  "target_id": 42,
                  "type": "CurriculumPrerequisite"
                 },
                 {
                  "source_id": 18,
                  "target_id": 42,
                  "type": "CurriculumPrerequisite"
                 }
                ],
                "id": 42,
                "metrics": {
                 "blocking factor": 0,
                 "centrality": 0,
                 "complexity": 7,
                 "delay factor": 7
                },
                "name": "AME 431",
                "nameCanonical": "",
                "nameSub": "Num. Meth. in Fluid Mech. & Heat Xfer"
               },
               {
                "credits": 3,
                "curriculum_requisites": [],
                "id": 43,
                "metrics": {
                 "blocking factor": 0,
                 "centrality": 0,
                 "complexity": 1,
                 "delay factor": 1
                },
                "name": " ",
                "nameCanonical": "",
                "nameSub": "Technical Elective 1"
               },
               {
                "credits": 3,
                "curriculum_requisites": [],
                "id": 44,
                "metrics": {
                 "blocking factor": 0,
                 "centrality": 0,
                 "complexity": 1,
                 "delay factor": 1
                },
                "name": " ",
                "nameCanonical": "",
                "nameSub": "Technical Elective 2"
               },
               {
                "credits": 3,
                "curriculum_requisites": [],
                "id": 45,
                "metrics": {
                 "blocking factor": 0,
                 "centrality": 0,
                 "complexity": 1,
                 "delay factor": 1
                },
                "name": " ",
                "nameCanonical": "",
                "nameSub": "Tier II General Ed. 2"
               }
              ],
              "id": 8,
              "name": "Term 8"
             }
            ],
            "dp_name": "2019-20 Degree Plan",
            "institution": "University of Arizona",
            "name": "Aerospace Engineering"
           },
           "options": {
            "edit": false,
            "hideTerms": false
           }
          }
         }
        },
        "systemjs_options": null
       },
       "nodeType": "Scope",
       "props": {},
       "type": "node"
      },
      "text/html": [
       "<div\n",
       "    class=\"webio-mountpoint\"\n",
       "    data-webio-mountpoint=\"4107751833854847595\"\n",
       ">\n",
       "    <script>\n",
       "    if (window.require && require.defined && require.defined(\"nbextensions/webio-jupyter-notebook\")) {\n",
       "        console.log(\"Jupyter WebIO extension detected, not mounting.\");\n",
       "    } else if (window.WebIO) {\n",
       "        WebIO.mount(\n",
       "            document.querySelector('[data-webio-mountpoint=\"4107751833854847595\"]'),\n",
       "            {\"props\":{},\"nodeType\":\"Scope\",\"type\":\"node\",\"instanceArgs\":{\"imports\":{\"data\":[],\"type\":\"async_block\"},\"id\":\"7844697571021043491\",\"handlers\":{},\"systemjs_options\":null,\"mount_callbacks\":[],\"observables\":{\"curriculum-data\":{\"sync\":true,\"id\":\"ob_05\",\"value\":{\"options\":{\"hideTerms\":false,\"edit\":false},\"curriculum\":{\"name\":\"Aerospace Engineering\",\"dp_name\":\"2019-20 Degree Plan\",\"curriculum_terms\":[{\"name\":\"Term 1\",\"curriculum_items\":[{\"curriculum_requisites\":[],\"name\":\"MATH 125\",\"metrics\":{\"complexity\":38.0,\"centrality\":0,\"blocking factor\":29,\"delay factor\":9.0},\"nameSub\":\"Calculus I w\\/ Applications\",\"id\":1,\"credits\":3,\"nameCanonical\":\"\"},{\"curriculum_requisites\":[],\"name\":\"CHEM 151\",\"metrics\":{\"complexity\":5.0,\"centrality\":0,\"blocking factor\":2,\"delay factor\":3.0},\"nameSub\":\"Gen Chemistry I\",\"id\":2,\"credits\":4,\"nameCanonical\":\"\"},{\"curriculum_requisites\":[],\"name\":\"ENGL 101\",\"metrics\":{\"complexity\":3.0,\"centrality\":0,\"blocking factor\":1,\"delay factor\":2.0},\"nameSub\":\"First-year Comp.\",\"id\":3,\"credits\":3,\"nameCanonical\":\"\"},{\"curriculum_requisites\":[{\"source_id\":1,\"target_id\":4,\"type\":\"CurriculumCorequisite\"}],\"name\":\"ENGR 102\",\"metrics\":{\"complexity\":2.0,\"centrality\":0,\"blocking factor\":0,\"delay factor\":2.0},\"nameSub\":\"Intro to Engineering\",\"id\":4,\"credits\":3,\"nameCanonical\":\"\"},{\"curriculum_requisites\":[],\"name\":\" \",\"metrics\":{\"complexity\":1.0,\"centrality\":0,\"blocking factor\":0,\"delay factor\":1.0},\"nameSub\":\"Tier I General Ed.\",\"id\":5,\"credits\":3,\"nameCanonical\":\"\"}],\"id\":1},{\"name\":\"Term 2\",\"curriculum_items\":[{\"curriculum_requisites\":[{\"source_id\":1,\"target_id\":6,\"type\":\"CurriculumPrerequisite\"}],\"name\":\"MATH 129\",\"metrics\":{\"complexity\":31.0,\"centrality\":388,\"blocking factor\":22,\"delay factor\":9.0},\"nameSub\":\"Calculus II\",\"id\":6,\"credits\":3,\"nameCanonical\":\"\"},{\"curriculum_requisites\":[{\"source_id\":1,\"target_id\":7,\"type\":\"CurriculumPrerequisite\"}],\"name\":\"AME 105\",\"metrics\":{\"complexity\":16.0,\"centrality\":28,\"blocking factor\":9,\"delay factor\":7.0},\"nameSub\":\"Intro. to MATLAB I\",\"id\":7,\"credits\":1,\"nameCanonical\":\"\"},{\"curriculum_requisites\":[{\"source_id\":1,\"target_id\":8,\"type\":\"CurriculumPrerequisite\"}],\"name\":\"PHYS 141\",\"metrics\":{\"complexity\":27.0,\"centrality\":272,\"blocking factor\":18,\"delay factor\":9.0},\"nameSub\":\"Intro Mechanics\",\"id\":8,\"credits\":4,\"nameCanonical\":\"\"},{\"curriculum_requisites\":[{\"source_id\":3,\"target_id\":9,\"type\":\"CurriculumPrerequisite\"}],\"name\":\"ENGL 102\",\"metrics\":{\"complexity\":2.0,\"centrality\":0,\"blocking factor\":0,\"delay factor\":2.0},\"nameSub\":\"First-year Comp.\",\"id\":9,\"credits\":3,\"nameCanonical\":\"\"},{\"curriculum_requisites\":[{\"source_id\":1,\"target_id\":10,\"type\":\"CurriculumCorequisite\"}],\"name\":\"ECE 175\",\"metrics\":{\"complexity\":2.0,\"centrality\":0,\"blocking factor\":0,\"delay factor\":2.0},\"nameSub\":\"Programming for Eng. Apps.\",\"id\":10,\"credits\":3,\"nameCanonical\":\"\"},{\"curriculum_requisites\":[],\"name\":\" \",\"metrics\":{\"complexity\":1.0,\"centrality\":0,\"blocking factor\":0,\"delay factor\":1.0},\"nameSub\":\"Tier I General Ed. 1\",\"id\":11,\"credits\":3,\"nameCanonical\":\"\"}],\"id\":2},{\"name\":\"Term 3\",\"curriculum_items\":[{\"curriculum_requisites\":[{\"source_id\":8,\"target_id\":12,\"type\":\"CurriculumPrerequisite\"},{\"source_id\":6,\"target_id\":12,\"type\":\"CurriculumPrerequisite\"}],\"name\":\"CE 214\",\"metrics\":{\"complexity\":23.0,\"centrality\":254,\"blocking factor\":14,\"delay factor\":9.0},\"nameSub\":\"Statics\",\"id\":12,\"credits\":3,\"nameCanonical\":\"\"},{\"curriculum_requisites\":[{\"source_id\":6,\"target_id\":13,\"type\":\"CurriculumPrerequisite\"}],\"name\":\"MATH  223\",\"metrics\":{\"complexity\":26.0,\"centrality\":258,\"blocking factor\":17,\"delay factor\":9.0},\"nameSub\":\"Vector Calculus\",\"id\":13,\"credits\":4,\"nameCanonical\":\"\"},{\"curriculum_requisites\":[{\"source_id\":8,\"target_id\":14,\"type\":\"CurriculumPrerequisite\"},{\"source_id\":6,\"target_id\":14,\"type\":\"CurriculumPrerequisite\"}],\"name\":\"PHYS 241\",\"metrics\":{\"complexity\":3.0,\"centrality\":0,\"blocking factor\":0,\"delay factor\":3.0},\"nameSub\":\"Electricity & Magnetism\",\"id\":14,\"credits\":4,\"nameCanonical\":\"\"},{\"curriculum_requisites\":[{\"source_id\":7,\"target_id\":15,\"type\":\"CurriculumPrerequisite\"}],\"name\":\"AME  205\",\"metrics\":{\"complexity\":15.0,\"centrality\":28,\"blocking factor\":8,\"delay factor\":7.0},\"nameSub\":\"Intro. To MATLAB II\",\"id\":15,\"credits\":1,\"nameCanonical\":\"\"},{\"curriculum_requisites\":[],\"name\":\"AME 211\",\"metrics\":{\"complexity\":1.0,\"centrality\":0,\"blocking factor\":0,\"delay factor\":1.0},\"nameSub\":\"Comp. Aided Drafting & Manufacturing\",\"id\":16,\"credits\":3,\"nameCanonical\":\"\"},{\"curriculum_requisites\":[],\"name\":\" \",\"metrics\":{\"complexity\":1.0,\"centrality\":0,\"blocking factor\":0,\"delay factor\":1.0},\"nameSub\":\"Tier I General Ed. 2\",\"id\":17,\"credits\":3,\"nameCanonical\":\"\"}],\"id\":3},{\"name\":\"Term 4\",\"curriculum_items\":[{\"curriculum_requisites\":[{\"source_id\":8,\"target_id\":18,\"type\":\"CurriculumPrerequisite\"}],\"name\":\"AME 230\",\"metrics\":{\"complexity\":19.0,\"centrality\":86,\"blocking factor\":11,\"delay factor\":8.0},\"nameSub\":\"Thermodynamics\",\"id\":18,\"credits\":3,\"nameCanonical\":\"\"},{\"curriculum_requisites\":[{\"source_id\":12,\"target_id\":19,\"type\":\"CurriculumPrerequisite\"},{\"source_id\":20,\"target_id\":19,\"type\":\"CurriculumCorequisite\"}],\"name\":\"AME 250\",\"metrics\":{\"complexity\":19.0,\"centrality\":145,\"blocking factor\":10,\"delay factor\":9.0},\"nameSub\":\"Dynamics\",\"id\":19,\"credits\":3,\"nameCanonical\":\"\"},{\"curriculum_requisites\":[{\"source_id\":13,\"target_id\":20,\"type\":\"CurriculumPrerequisite\"}],\"name\":\"MATH 254\",\"metrics\":{\"complexity\":25.0,\"centrality\":188,\"blocking factor\":16,\"delay factor\":9.0},\"nameSub\":\"Intro. to ODEs\",\"id\":20,\"credits\":3,\"nameCanonical\":\"\"},{\"curriculum_requisites\":[{\"source_id\":13,\"target_id\":21,\"type\":\"CurriculumPrerequisite\"},{\"source_id\":8,\"target_id\":21,\"type\":\"CurriculumPrerequisite\"},{\"source_id\":20,\"target_id\":21,\"type\":\"CurriculumCorequisite\"}],\"name\":\"AME 220\",\"metrics\":{\"complexity\":17.0,\"centrality\":198,\"blocking factor\":8,\"delay factor\":9.0},\"nameSub\":\"Intro. to Aerospace Eng.\",\"id\":21,\"credits\":3,\"nameCanonical\":\"\"},{\"curriculum_requisites\":[],\"name\":\" \",\"metrics\":{\"complexity\":1.0,\"centrality\":0,\"blocking factor\":0,\"delay factor\":1.0},\"nameSub\":\"Tier I General Ed. 3\",\"id\":22,\"credits\":3,\"nameCanonical\":\"\"}],\"id\":4},{\"name\":\"Term 5\",\"curriculum_items\":[{\"curriculum_requisites\":[{\"source_id\":26,\"target_id\":23,\"type\":\"CurriculumCorequisite\"},{\"source_id\":21,\"target_id\":23,\"type\":\"CurriculumPrerequisite\"}],\"name\":\"AME 320\",\"metrics\":{\"complexity\":14.0,\"centrality\":214,\"blocking factor\":5,\"delay factor\":9.0},\"nameSub\":\"Aerodynamics\",\"id\":23,\"credits\":3,\"nameCanonical\":\"\"},{\"curriculum_requisites\":[{\"source_id\":12,\"target_id\":24,\"type\":\"CurriculumPrerequisite\"}],\"name\":\"AME  324A\",\"metrics\":{\"complexity\":20.0,\"centrality\":162,\"blocking factor\":11,\"delay factor\":9.0},\"nameSub\":\"Mech. Behavior of Eng. Materials.\",\"id\":24,\"credits\":3,\"nameCanonical\":\"\"},{\"curriculum_requisites\":[{\"source_id\":20,\"target_id\":25,\"type\":\"CurriculumPrerequisite\"}],\"name\":\"AME 301\",\"metrics\":{\"complexity\":8.0,\"centrality\":12,\"blocking factor\":2,\"delay factor\":6.0},\"nameSub\":\"Engineering Analysis\",\"id\":25,\"credits\":3,\"nameCanonical\":\"\"},{\"curriculum_requisites\":[{\"source_id\":18,\"target_id\":26,\"type\":\"CurriculumCorequisite\"},{\"source_id\":24,\"target_id\":26,\"type\":\"CurriculumCorequisite\"}],\"name\":\"AME 300\",\"metrics\":{\"complexity\":19.0,\"centrality\":204,\"blocking factor\":10,\"delay factor\":9.0},\"nameSub\":\"Instrumentation Lab.\",\"id\":26,\"credits\":3,\"nameCanonical\":\"\"},{\"curriculum_requisites\":[{\"source_id\":2,\"target_id\":27,\"type\":\"CurriculumPrerequisite\"}],\"name\":\"MSE 331R\",\"metrics\":{\"complexity\":4.0,\"centrality\":3,\"blocking factor\":1,\"delay factor\":3.0},\"nameSub\":\"Fund. of Materials for Engineers\",\"id\":27,\"credits\":3,\"nameCanonical\":\"\"},{\"curriculum_requisites\":[{\"source_id\":25,\"target_id\":28,\"type\":\"CurriculumPrerequisite\"}],\"name\":\"AME 324L\",\"metrics\":{\"complexity\":6.0,\"centrality\":0,\"blocking factor\":0,\"delay factor\":6.0},\"nameSub\":\"Mech. of Materials Lab.\",\"id\":28,\"credits\":1,\"nameCanonical\":\"\"}],\"id\":5},{\"name\":\"Term 6\",\"curriculum_items\":[{\"curriculum_requisites\":[{\"source_id\":25,\"target_id\":29,\"type\":\"CurriculumPrerequisite\"}],\"name\":\"AME 324B\",\"metrics\":{\"complexity\":6.0,\"centrality\":0,\"blocking factor\":0,\"delay factor\":6.0},\"nameSub\":\"Eng. Component Design\",\"id\":29,\"credits\":3,\"nameCanonical\":\"\"},{\"curriculum_requisites\":[{\"source_id\":23,\"target_id\":30,\"type\":\"CurriculumCorequisite\"},{\"source_id\":19,\"target_id\":30,\"type\":\"CurriculumPrerequisite\"},{\"source_id\":21,\"target_id\":30,\"type\":\"CurriculumPrerequisite\"}],\"name\":\"AME 321\",\"metrics\":{\"complexity\":12.0,\"centrality\":174,\"blocking factor\":3,\"delay factor\":9.0},\"nameSub\":\"Aircraft Performance\",\"id\":30,\"credits\":3,\"nameCanonical\":\"\"},{\"curriculum_requisites\":[{\"source_id\":18,\"target_id\":31,\"type\":\"CurriculumPrerequisite\"},{\"source_id\":32,\"target_id\":31,\"type\":\"CurriculumCorequisite\"},{\"source_id\":21,\"target_id\":31,\"type\":\"CurriculumPrerequisite\"},{\"source_id\":20,\"target_id\":31,\"type\":\"CurriculumPrerequisite\"}],\"name\":\"AME 323\",\"metrics\":{\"complexity\":13.0,\"centrality\":274,\"blocking factor\":4,\"delay factor\":9.0},\"nameSub\":\"Gasdynamics\",\"id\":31,\"credits\":3,\"nameCanonical\":\"\"},{\"curriculum_requisites\":[{\"source_id\":26,\"target_id\":32,\"type\":\"CurriculumCorequisite\"},{\"source_id\":19,\"target_id\":32,\"type\":\"CurriculumPrerequisite\"},{\"source_id\":15,\"target_id\":32,\"type\":\"CurriculumPrerequisite\"},{\"source_id\":20,\"target_id\":32,\"type\":\"CurriculumPrerequisite\"}],\"name\":\"AME 302\",\"metrics\":{\"complexity\":15.0,\"centrality\":232,\"blocking factor\":6,\"delay factor\":9.0},\"nameSub\":\"Numerical Methods\",\"id\":32,\"credits\":3,\"nameCanonical\":\"\"},{\"curriculum_requisites\":[],\"name\":\"AME 313\",\"metrics\":{\"complexity\":5.0,\"centrality\":0,\"blocking factor\":2,\"delay factor\":3.0},\"nameSub\":\"Aero.\\/Mech. Eng. Lab\",\"id\":33,\"credits\":1,\"nameCanonical\":\"\"},{\"curriculum_requisites\":[],\"name\":\" \",\"metrics\":{\"complexity\":1.0,\"centrality\":0,\"blocking factor\":0,\"delay factor\":1.0},\"nameSub\":\"Tier II General Ed. 1\",\"id\":34,\"credits\":3,\"nameCanonical\":\"\"}],\"id\":6},{\"name\":\"Term 7\",\"curriculum_items\":[{\"curriculum_requisites\":[{\"source_id\":23,\"target_id\":35,\"type\":\"CurriculumPrerequisite\"},{\"source_id\":31,\"target_id\":35,\"type\":\"CurriculumPrerequisite\"},{\"source_id\":27,\"target_id\":35,\"type\":\"CurriculumPrerequisite\"}],\"name\":\"AME 401\",\"metrics\":{\"complexity\":8.0,\"centrality\":0,\"blocking factor\":0,\"delay factor\":8.0},\"nameSub\":\"Senior Aerospace Lab.\",\"id\":35,\"credits\":3,\"nameCanonical\":\"\"},{\"curriculum_requisites\":[{\"source_id\":23,\"target_id\":36,\"type\":\"CurriculumPrerequisite\"},{\"source_id\":31,\"target_id\":36,\"type\":\"CurriculumPrerequisite\"},{\"source_id\":33,\"target_id\":36,\"type\":\"CurriculumPrerequisite\"},{\"source_id\":30,\"target_id\":36,\"type\":\"CurriculumPrerequisite\"}],\"name\":\"AME 420\",\"metrics\":{\"complexity\":10.0,\"centrality\":240,\"blocking factor\":1,\"delay factor\":9.0},\"nameSub\":\"Aerospace Conceptual Design\",\"id\":36,\"credits\":3,\"nameCanonical\":\"\"},{\"curriculum_requisites\":[{\"source_id\":24,\"target_id\":37,\"type\":\"CurriculumPrerequisite\"},{\"source_id\":31,\"target_id\":37,\"type\":\"CurriculumPrerequisite\"},{\"source_id\":18,\"target_id\":37,\"type\":\"CurriculumPrerequisite\"}],\"name\":\"AME 425\",\"metrics\":{\"complexity\":8.0,\"centrality\":0,\"blocking factor\":0,\"delay factor\":8.0},\"nameSub\":\"Aerospace Propulsion\",\"id\":37,\"credits\":3,\"nameCanonical\":\"\"},{\"curriculum_requisites\":[{\"source_id\":23,\"target_id\":38,\"type\":\"CurriculumPrerequisite\"},{\"source_id\":15,\"target_id\":38,\"type\":\"CurriculumPrerequisite\"},{\"source_id\":30,\"target_id\":38,\"type\":\"CurriculumPrerequisite\"}],\"name\":\"AME 427\",\"metrics\":{\"complexity\":8.0,\"centrality\":0,\"blocking factor\":0,\"delay factor\":8.0},\"nameSub\":\"Stability and Control of Aero. Vehicles\",\"id\":38,\"credits\":3,\"nameCanonical\":\"\"},{\"curriculum_requisites\":[{\"source_id\":13,\"target_id\":39,\"type\":\"CurriculumPrerequisite\"},{\"source_id\":19,\"target_id\":39,\"type\":\"CurriculumPrerequisite\"}],\"name\":\"AME 457\",\"metrics\":{\"complexity\":6.0,\"centrality\":0,\"blocking factor\":0,\"delay factor\":6.0},\"nameSub\":\"Orbital Mechanicans and Space Flt.\",\"id\":39,\"credits\":3,\"nameCanonical\":\"\"},{\"curriculum_requisites\":[],\"name\":\"AME 495S\",\"metrics\":{\"complexity\":1.0,\"centrality\":0,\"blocking factor\":0,\"delay factor\":1.0},\"nameSub\":\"Senior Colloquium\",\"id\":40,\"credits\":1,\"nameCanonical\":\"\"}],\"id\":7},{\"name\":\"Term 8\",\"curriculum_items\":[{\"curriculum_requisites\":[{\"source_id\":36,\"target_id\":41,\"type\":\"CurriculumPrerequisite\"},{\"source_id\":33,\"target_id\":41,\"type\":\"CurriculumCorequisite\"}],\"name\":\"AME 422\",\"metrics\":{\"complexity\":9.0,\"centrality\":0,\"blocking factor\":0,\"delay factor\":9.0},\"nameSub\":\"Aerospace Eng.Design\",\"id\":41,\"credits\":3,\"nameCanonical\":\"\"},{\"curriculum_requisites\":[{\"source_id\":24,\"target_id\":42,\"type\":\"CurriculumPrerequisite\"},{\"source_id\":32,\"target_id\":42,\"type\":\"CurriculumPrerequisite\"},{\"source_id\":18,\"target_id\":42,\"type\":\"CurriculumPrerequisite\"}],\"name\":\"AME 431\",\"metrics\":{\"complexity\":7.0,\"centrality\":0,\"blocking factor\":0,\"delay factor\":7.0},\"nameSub\":\"Num. Meth. in Fluid Mech. & Heat Xfer\",\"id\":42,\"credits\":3,\"nameCanonical\":\"\"},{\"curriculum_requisites\":[],\"name\":\" \",\"metrics\":{\"complexity\":1.0,\"centrality\":0,\"blocking factor\":0,\"delay factor\":1.0},\"nameSub\":\"Technical Elective 1\",\"id\":43,\"credits\":3,\"nameCanonical\":\"\"},{\"curriculum_requisites\":[],\"name\":\" \",\"metrics\":{\"complexity\":1.0,\"centrality\":0,\"blocking factor\":0,\"delay factor\":1.0},\"nameSub\":\"Technical Elective 2\",\"id\":44,\"credits\":3,\"nameCanonical\":\"\"},{\"curriculum_requisites\":[],\"name\":\" \",\"metrics\":{\"complexity\":1.0,\"centrality\":0,\"blocking factor\":0,\"delay factor\":1.0},\"nameSub\":\"Tier II General Ed. 2\",\"id\":45,\"credits\":3,\"nameCanonical\":\"\"}],\"id\":8}],\"institution\":\"University of Arizona\"}}}}},\"children\":[{\"props\":{\"src\":\"http:\\/\\/localhost:8156\",\"id\":\"curriculum\",\"events\":{\"load\":\"(function (){this.contentWindow.postMessage({\\\"options\\\":{\\\"hideTerms\\\":false,\\\"edit\\\":false},\\\"curriculum\\\":{\\\"name\\\":\\\"Aerospace Engineering\\\",\\\"dp_name\\\":\\\"2019-20 Degree Plan\\\",\\\"curriculum_terms\\\":[{\\\"name\\\":\\\"Term 1\\\",\\\"curriculum_items\\\":[{\\\"curriculum_requisites\\\":[],\\\"name\\\":\\\"MATH 125\\\",\\\"metrics\\\":{\\\"complexity\\\":38.0,\\\"centrality\\\":0,\\\"blocking factor\\\":29,\\\"delay factor\\\":9.0},\\\"nameSub\\\":\\\"Calculus I w\\/ Applications\\\",\\\"id\\\":1,\\\"credits\\\":3,\\\"nameCanonical\\\":\\\"\\\"},{\\\"curriculum_requisites\\\":[],\\\"name\\\":\\\"CHEM 151\\\",\\\"metrics\\\":{\\\"complexity\\\":5.0,\\\"centrality\\\":0,\\\"blocking factor\\\":2,\\\"delay factor\\\":3.0},\\\"nameSub\\\":\\\"Gen Chemistry I\\\",\\\"id\\\":2,\\\"credits\\\":4,\\\"nameCanonical\\\":\\\"\\\"},{\\\"curriculum_requisites\\\":[],\\\"name\\\":\\\"ENGL 101\\\",\\\"metrics\\\":{\\\"complexity\\\":3.0,\\\"centrality\\\":0,\\\"blocking factor\\\":1,\\\"delay factor\\\":2.0},\\\"nameSub\\\":\\\"First-year Comp.\\\",\\\"id\\\":3,\\\"credits\\\":3,\\\"nameCanonical\\\":\\\"\\\"},{\\\"curriculum_requisites\\\":[{\\\"source_id\\\":1,\\\"target_id\\\":4,\\\"type\\\":\\\"CurriculumCorequisite\\\"}],\\\"name\\\":\\\"ENGR 102\\\",\\\"metrics\\\":{\\\"complexity\\\":2.0,\\\"centrality\\\":0,\\\"blocking factor\\\":0,\\\"delay factor\\\":2.0},\\\"nameSub\\\":\\\"Intro to Engineering\\\",\\\"id\\\":4,\\\"credits\\\":3,\\\"nameCanonical\\\":\\\"\\\"},{\\\"curriculum_requisites\\\":[],\\\"name\\\":\\\" \\\",\\\"metrics\\\":{\\\"complexity\\\":1.0,\\\"centrality\\\":0,\\\"blocking factor\\\":0,\\\"delay factor\\\":1.0},\\\"nameSub\\\":\\\"Tier I General Ed.\\\",\\\"id\\\":5,\\\"credits\\\":3,\\\"nameCanonical\\\":\\\"\\\"}],\\\"id\\\":1},{\\\"name\\\":\\\"Term 2\\\",\\\"curriculum_items\\\":[{\\\"curriculum_requisites\\\":[{\\\"source_id\\\":1,\\\"target_id\\\":6,\\\"type\\\":\\\"CurriculumPrerequisite\\\"}],\\\"name\\\":\\\"MATH 129\\\",\\\"metrics\\\":{\\\"complexity\\\":31.0,\\\"centrality\\\":388,\\\"blocking factor\\\":22,\\\"delay factor\\\":9.0},\\\"nameSub\\\":\\\"Calculus II\\\",\\\"id\\\":6,\\\"credits\\\":3,\\\"nameCanonical\\\":\\\"\\\"},{\\\"curriculum_requisites\\\":[{\\\"source_id\\\":1,\\\"target_id\\\":7,\\\"type\\\":\\\"CurriculumPrerequisite\\\"}],\\\"name\\\":\\\"AME 105\\\",\\\"metrics\\\":{\\\"complexity\\\":16.0,\\\"centrality\\\":28,\\\"blocking factor\\\":9,\\\"delay factor\\\":7.0},\\\"nameSub\\\":\\\"Intro. to MATLAB I\\\",\\\"id\\\":7,\\\"credits\\\":1,\\\"nameCanonical\\\":\\\"\\\"},{\\\"curriculum_requisites\\\":[{\\\"source_id\\\":1,\\\"target_id\\\":8,\\\"type\\\":\\\"CurriculumPrerequisite\\\"}],\\\"name\\\":\\\"PHYS 141\\\",\\\"metrics\\\":{\\\"complexity\\\":27.0,\\\"centrality\\\":272,\\\"blocking factor\\\":18,\\\"delay factor\\\":9.0},\\\"nameSub\\\":\\\"Intro Mechanics\\\",\\\"id\\\":8,\\\"credits\\\":4,\\\"nameCanonical\\\":\\\"\\\"},{\\\"curriculum_requisites\\\":[{\\\"source_id\\\":3,\\\"target_id\\\":9,\\\"type\\\":\\\"CurriculumPrerequisite\\\"}],\\\"name\\\":\\\"ENGL 102\\\",\\\"metrics\\\":{\\\"complexity\\\":2.0,\\\"centrality\\\":0,\\\"blocking factor\\\":0,\\\"delay factor\\\":2.0},\\\"nameSub\\\":\\\"First-year Comp.\\\",\\\"id\\\":9,\\\"credits\\\":3,\\\"nameCanonical\\\":\\\"\\\"},{\\\"curriculum_requisites\\\":[{\\\"source_id\\\":1,\\\"target_id\\\":10,\\\"type\\\":\\\"CurriculumCorequisite\\\"}],\\\"name\\\":\\\"ECE 175\\\",\\\"metrics\\\":{\\\"complexity\\\":2.0,\\\"centrality\\\":0,\\\"blocking factor\\\":0,\\\"delay factor\\\":2.0},\\\"nameSub\\\":\\\"Programming for Eng. Apps.\\\",\\\"id\\\":10,\\\"credits\\\":3,\\\"nameCanonical\\\":\\\"\\\"},{\\\"curriculum_requisites\\\":[],\\\"name\\\":\\\" \\\",\\\"metrics\\\":{\\\"complexity\\\":1.0,\\\"centrality\\\":0,\\\"blocking factor\\\":0,\\\"delay factor\\\":1.0},\\\"nameSub\\\":\\\"Tier I General Ed. 1\\\",\\\"id\\\":11,\\\"credits\\\":3,\\\"nameCanonical\\\":\\\"\\\"}],\\\"id\\\":2},{\\\"name\\\":\\\"Term 3\\\",\\\"curriculum_items\\\":[{\\\"curriculum_requisites\\\":[{\\\"source_id\\\":8,\\\"target_id\\\":12,\\\"type\\\":\\\"CurriculumPrerequisite\\\"},{\\\"source_id\\\":6,\\\"target_id\\\":12,\\\"type\\\":\\\"CurriculumPrerequisite\\\"}],\\\"name\\\":\\\"CE 214\\\",\\\"metrics\\\":{\\\"complexity\\\":23.0,\\\"centrality\\\":254,\\\"blocking factor\\\":14,\\\"delay factor\\\":9.0},\\\"nameSub\\\":\\\"Statics\\\",\\\"id\\\":12,\\\"credits\\\":3,\\\"nameCanonical\\\":\\\"\\\"},{\\\"curriculum_requisites\\\":[{\\\"source_id\\\":6,\\\"target_id\\\":13,\\\"type\\\":\\\"CurriculumPrerequisite\\\"}],\\\"name\\\":\\\"MATH  223\\\",\\\"metrics\\\":{\\\"complexity\\\":26.0,\\\"centrality\\\":258,\\\"blocking factor\\\":17,\\\"delay factor\\\":9.0},\\\"nameSub\\\":\\\"Vector Calculus\\\",\\\"id\\\":13,\\\"credits\\\":4,\\\"nameCanonical\\\":\\\"\\\"},{\\\"curriculum_requisites\\\":[{\\\"source_id\\\":8,\\\"target_id\\\":14,\\\"type\\\":\\\"CurriculumPrerequisite\\\"},{\\\"source_id\\\":6,\\\"target_id\\\":14,\\\"type\\\":\\\"CurriculumPrerequisite\\\"}],\\\"name\\\":\\\"PHYS 241\\\",\\\"metrics\\\":{\\\"complexity\\\":3.0,\\\"centrality\\\":0,\\\"blocking factor\\\":0,\\\"delay factor\\\":3.0},\\\"nameSub\\\":\\\"Electricity & Magnetism\\\",\\\"id\\\":14,\\\"credits\\\":4,\\\"nameCanonical\\\":\\\"\\\"},{\\\"curriculum_requisites\\\":[{\\\"source_id\\\":7,\\\"target_id\\\":15,\\\"type\\\":\\\"CurriculumPrerequisite\\\"}],\\\"name\\\":\\\"AME  205\\\",\\\"metrics\\\":{\\\"complexity\\\":15.0,\\\"centrality\\\":28,\\\"blocking factor\\\":8,\\\"delay factor\\\":7.0},\\\"nameSub\\\":\\\"Intro. To MATLAB II\\\",\\\"id\\\":15,\\\"credits\\\":1,\\\"nameCanonical\\\":\\\"\\\"},{\\\"curriculum_requisites\\\":[],\\\"name\\\":\\\"AME 211\\\",\\\"metrics\\\":{\\\"complexity\\\":1.0,\\\"centrality\\\":0,\\\"blocking factor\\\":0,\\\"delay factor\\\":1.0},\\\"nameSub\\\":\\\"Comp. Aided Drafting & Manufacturing\\\",\\\"id\\\":16,\\\"credits\\\":3,\\\"nameCanonical\\\":\\\"\\\"},{\\\"curriculum_requisites\\\":[],\\\"name\\\":\\\" \\\",\\\"metrics\\\":{\\\"complexity\\\":1.0,\\\"centrality\\\":0,\\\"blocking factor\\\":0,\\\"delay factor\\\":1.0},\\\"nameSub\\\":\\\"Tier I General Ed. 2\\\",\\\"id\\\":17,\\\"credits\\\":3,\\\"nameCanonical\\\":\\\"\\\"}],\\\"id\\\":3},{\\\"name\\\":\\\"Term 4\\\",\\\"curriculum_items\\\":[{\\\"curriculum_requisites\\\":[{\\\"source_id\\\":8,\\\"target_id\\\":18,\\\"type\\\":\\\"CurriculumPrerequisite\\\"}],\\\"name\\\":\\\"AME 230\\\",\\\"metrics\\\":{\\\"complexity\\\":19.0,\\\"centrality\\\":86,\\\"blocking factor\\\":11,\\\"delay factor\\\":8.0},\\\"nameSub\\\":\\\"Thermodynamics\\\",\\\"id\\\":18,\\\"credits\\\":3,\\\"nameCanonical\\\":\\\"\\\"},{\\\"curriculum_requisites\\\":[{\\\"source_id\\\":12,\\\"target_id\\\":19,\\\"type\\\":\\\"CurriculumPrerequisite\\\"},{\\\"source_id\\\":20,\\\"target_id\\\":19,\\\"type\\\":\\\"CurriculumCorequisite\\\"}],\\\"name\\\":\\\"AME 250\\\",\\\"metrics\\\":{\\\"complexity\\\":19.0,\\\"centrality\\\":145,\\\"blocking factor\\\":10,\\\"delay factor\\\":9.0},\\\"nameSub\\\":\\\"Dynamics\\\",\\\"id\\\":19,\\\"credits\\\":3,\\\"nameCanonical\\\":\\\"\\\"},{\\\"curriculum_requisites\\\":[{\\\"source_id\\\":13,\\\"target_id\\\":20,\\\"type\\\":\\\"CurriculumPrerequisite\\\"}],\\\"name\\\":\\\"MATH 254\\\",\\\"metrics\\\":{\\\"complexity\\\":25.0,\\\"centrality\\\":188,\\\"blocking factor\\\":16,\\\"delay factor\\\":9.0},\\\"nameSub\\\":\\\"Intro. to ODEs\\\",\\\"id\\\":20,\\\"credits\\\":3,\\\"nameCanonical\\\":\\\"\\\"},{\\\"curriculum_requisites\\\":[{\\\"source_id\\\":13,\\\"target_id\\\":21,\\\"type\\\":\\\"CurriculumPrerequisite\\\"},{\\\"source_id\\\":8,\\\"target_id\\\":21,\\\"type\\\":\\\"CurriculumPrerequisite\\\"},{\\\"source_id\\\":20,\\\"target_id\\\":21,\\\"type\\\":\\\"CurriculumCorequisite\\\"}],\\\"name\\\":\\\"AME 220\\\",\\\"metrics\\\":{\\\"complexity\\\":17.0,\\\"centrality\\\":198,\\\"blocking factor\\\":8,\\\"delay factor\\\":9.0},\\\"nameSub\\\":\\\"Intro. to Aerospace Eng.\\\",\\\"id\\\":21,\\\"credits\\\":3,\\\"nameCanonical\\\":\\\"\\\"},{\\\"curriculum_requisites\\\":[],\\\"name\\\":\\\" \\\",\\\"metrics\\\":{\\\"complexity\\\":1.0,\\\"centrality\\\":0,\\\"blocking factor\\\":0,\\\"delay factor\\\":1.0},\\\"nameSub\\\":\\\"Tier I General Ed. 3\\\",\\\"id\\\":22,\\\"credits\\\":3,\\\"nameCanonical\\\":\\\"\\\"}],\\\"id\\\":4},{\\\"name\\\":\\\"Term 5\\\",\\\"curriculum_items\\\":[{\\\"curriculum_requisites\\\":[{\\\"source_id\\\":26,\\\"target_id\\\":23,\\\"type\\\":\\\"CurriculumCorequisite\\\"},{\\\"source_id\\\":21,\\\"target_id\\\":23,\\\"type\\\":\\\"CurriculumPrerequisite\\\"}],\\\"name\\\":\\\"AME 320\\\",\\\"metrics\\\":{\\\"complexity\\\":14.0,\\\"centrality\\\":214,\\\"blocking factor\\\":5,\\\"delay factor\\\":9.0},\\\"nameSub\\\":\\\"Aerodynamics\\\",\\\"id\\\":23,\\\"credits\\\":3,\\\"nameCanonical\\\":\\\"\\\"},{\\\"curriculum_requisites\\\":[{\\\"source_id\\\":12,\\\"target_id\\\":24,\\\"type\\\":\\\"CurriculumPrerequisite\\\"}],\\\"name\\\":\\\"AME  324A\\\",\\\"metrics\\\":{\\\"complexity\\\":20.0,\\\"centrality\\\":162,\\\"blocking factor\\\":11,\\\"delay factor\\\":9.0},\\\"nameSub\\\":\\\"Mech. Behavior of Eng. Materials.\\\",\\\"id\\\":24,\\\"credits\\\":3,\\\"nameCanonical\\\":\\\"\\\"},{\\\"curriculum_requisites\\\":[{\\\"source_id\\\":20,\\\"target_id\\\":25,\\\"type\\\":\\\"CurriculumPrerequisite\\\"}],\\\"name\\\":\\\"AME 301\\\",\\\"metrics\\\":{\\\"complexity\\\":8.0,\\\"centrality\\\":12,\\\"blocking factor\\\":2,\\\"delay factor\\\":6.0},\\\"nameSub\\\":\\\"Engineering Analysis\\\",\\\"id\\\":25,\\\"credits\\\":3,\\\"nameCanonical\\\":\\\"\\\"},{\\\"curriculum_requisites\\\":[{\\\"source_id\\\":18,\\\"target_id\\\":26,\\\"type\\\":\\\"CurriculumCorequisite\\\"},{\\\"source_id\\\":24,\\\"target_id\\\":26,\\\"type\\\":\\\"CurriculumCorequisite\\\"}],\\\"name\\\":\\\"AME 300\\\",\\\"metrics\\\":{\\\"complexity\\\":19.0,\\\"centrality\\\":204,\\\"blocking factor\\\":10,\\\"delay factor\\\":9.0},\\\"nameSub\\\":\\\"Instrumentation Lab.\\\",\\\"id\\\":26,\\\"credits\\\":3,\\\"nameCanonical\\\":\\\"\\\"},{\\\"curriculum_requisites\\\":[{\\\"source_id\\\":2,\\\"target_id\\\":27,\\\"type\\\":\\\"CurriculumPrerequisite\\\"}],\\\"name\\\":\\\"MSE 331R\\\",\\\"metrics\\\":{\\\"complexity\\\":4.0,\\\"centrality\\\":3,\\\"blocking factor\\\":1,\\\"delay factor\\\":3.0},\\\"nameSub\\\":\\\"Fund. of Materials for Engineers\\\",\\\"id\\\":27,\\\"credits\\\":3,\\\"nameCanonical\\\":\\\"\\\"},{\\\"curriculum_requisites\\\":[{\\\"source_id\\\":25,\\\"target_id\\\":28,\\\"type\\\":\\\"CurriculumPrerequisite\\\"}],\\\"name\\\":\\\"AME 324L\\\",\\\"metrics\\\":{\\\"complexity\\\":6.0,\\\"centrality\\\":0,\\\"blocking factor\\\":0,\\\"delay factor\\\":6.0},\\\"nameSub\\\":\\\"Mech. of Materials Lab.\\\",\\\"id\\\":28,\\\"credits\\\":1,\\\"nameCanonical\\\":\\\"\\\"}],\\\"id\\\":5},{\\\"name\\\":\\\"Term 6\\\",\\\"curriculum_items\\\":[{\\\"curriculum_requisites\\\":[{\\\"source_id\\\":25,\\\"target_id\\\":29,\\\"type\\\":\\\"CurriculumPrerequisite\\\"}],\\\"name\\\":\\\"AME 324B\\\",\\\"metrics\\\":{\\\"complexity\\\":6.0,\\\"centrality\\\":0,\\\"blocking factor\\\":0,\\\"delay factor\\\":6.0},\\\"nameSub\\\":\\\"Eng. Component Design\\\",\\\"id\\\":29,\\\"credits\\\":3,\\\"nameCanonical\\\":\\\"\\\"},{\\\"curriculum_requisites\\\":[{\\\"source_id\\\":23,\\\"target_id\\\":30,\\\"type\\\":\\\"CurriculumCorequisite\\\"},{\\\"source_id\\\":19,\\\"target_id\\\":30,\\\"type\\\":\\\"CurriculumPrerequisite\\\"},{\\\"source_id\\\":21,\\\"target_id\\\":30,\\\"type\\\":\\\"CurriculumPrerequisite\\\"}],\\\"name\\\":\\\"AME 321\\\",\\\"metrics\\\":{\\\"complexity\\\":12.0,\\\"centrality\\\":174,\\\"blocking factor\\\":3,\\\"delay factor\\\":9.0},\\\"nameSub\\\":\\\"Aircraft Performance\\\",\\\"id\\\":30,\\\"credits\\\":3,\\\"nameCanonical\\\":\\\"\\\"},{\\\"curriculum_requisites\\\":[{\\\"source_id\\\":18,\\\"target_id\\\":31,\\\"type\\\":\\\"CurriculumPrerequisite\\\"},{\\\"source_id\\\":32,\\\"target_id\\\":31,\\\"type\\\":\\\"CurriculumCorequisite\\\"},{\\\"source_id\\\":21,\\\"target_id\\\":31,\\\"type\\\":\\\"CurriculumPrerequisite\\\"},{\\\"source_id\\\":20,\\\"target_id\\\":31,\\\"type\\\":\\\"CurriculumPrerequisite\\\"}],\\\"name\\\":\\\"AME 323\\\",\\\"metrics\\\":{\\\"complexity\\\":13.0,\\\"centrality\\\":274,\\\"blocking factor\\\":4,\\\"delay factor\\\":9.0},\\\"nameSub\\\":\\\"Gasdynamics\\\",\\\"id\\\":31,\\\"credits\\\":3,\\\"nameCanonical\\\":\\\"\\\"},{\\\"curriculum_requisites\\\":[{\\\"source_id\\\":26,\\\"target_id\\\":32,\\\"type\\\":\\\"CurriculumCorequisite\\\"},{\\\"source_id\\\":19,\\\"target_id\\\":32,\\\"type\\\":\\\"CurriculumPrerequisite\\\"},{\\\"source_id\\\":15,\\\"target_id\\\":32,\\\"type\\\":\\\"CurriculumPrerequisite\\\"},{\\\"source_id\\\":20,\\\"target_id\\\":32,\\\"type\\\":\\\"CurriculumPrerequisite\\\"}],\\\"name\\\":\\\"AME 302\\\",\\\"metrics\\\":{\\\"complexity\\\":15.0,\\\"centrality\\\":232,\\\"blocking factor\\\":6,\\\"delay factor\\\":9.0},\\\"nameSub\\\":\\\"Numerical Methods\\\",\\\"id\\\":32,\\\"credits\\\":3,\\\"nameCanonical\\\":\\\"\\\"},{\\\"curriculum_requisites\\\":[],\\\"name\\\":\\\"AME 313\\\",\\\"metrics\\\":{\\\"complexity\\\":5.0,\\\"centrality\\\":0,\\\"blocking factor\\\":2,\\\"delay factor\\\":3.0},\\\"nameSub\\\":\\\"Aero.\\/Mech. Eng. Lab\\\",\\\"id\\\":33,\\\"credits\\\":1,\\\"nameCanonical\\\":\\\"\\\"},{\\\"curriculum_requisites\\\":[],\\\"name\\\":\\\" \\\",\\\"metrics\\\":{\\\"complexity\\\":1.0,\\\"centrality\\\":0,\\\"blocking factor\\\":0,\\\"delay factor\\\":1.0},\\\"nameSub\\\":\\\"Tier II General Ed. 1\\\",\\\"id\\\":34,\\\"credits\\\":3,\\\"nameCanonical\\\":\\\"\\\"}],\\\"id\\\":6},{\\\"name\\\":\\\"Term 7\\\",\\\"curriculum_items\\\":[{\\\"curriculum_requisites\\\":[{\\\"source_id\\\":23,\\\"target_id\\\":35,\\\"type\\\":\\\"CurriculumPrerequisite\\\"},{\\\"source_id\\\":31,\\\"target_id\\\":35,\\\"type\\\":\\\"CurriculumPrerequisite\\\"},{\\\"source_id\\\":27,\\\"target_id\\\":35,\\\"type\\\":\\\"CurriculumPrerequisite\\\"}],\\\"name\\\":\\\"AME 401\\\",\\\"metrics\\\":{\\\"complexity\\\":8.0,\\\"centrality\\\":0,\\\"blocking factor\\\":0,\\\"delay factor\\\":8.0},\\\"nameSub\\\":\\\"Senior Aerospace Lab.\\\",\\\"id\\\":35,\\\"credits\\\":3,\\\"nameCanonical\\\":\\\"\\\"},{\\\"curriculum_requisites\\\":[{\\\"source_id\\\":23,\\\"target_id\\\":36,\\\"type\\\":\\\"CurriculumPrerequisite\\\"},{\\\"source_id\\\":31,\\\"target_id\\\":36,\\\"type\\\":\\\"CurriculumPrerequisite\\\"},{\\\"source_id\\\":33,\\\"target_id\\\":36,\\\"type\\\":\\\"CurriculumPrerequisite\\\"},{\\\"source_id\\\":30,\\\"target_id\\\":36,\\\"type\\\":\\\"CurriculumPrerequisite\\\"}],\\\"name\\\":\\\"AME 420\\\",\\\"metrics\\\":{\\\"complexity\\\":10.0,\\\"centrality\\\":240,\\\"blocking factor\\\":1,\\\"delay factor\\\":9.0},\\\"nameSub\\\":\\\"Aerospace Conceptual Design\\\",\\\"id\\\":36,\\\"credits\\\":3,\\\"nameCanonical\\\":\\\"\\\"},{\\\"curriculum_requisites\\\":[{\\\"source_id\\\":24,\\\"target_id\\\":37,\\\"type\\\":\\\"CurriculumPrerequisite\\\"},{\\\"source_id\\\":31,\\\"target_id\\\":37,\\\"type\\\":\\\"CurriculumPrerequisite\\\"},{\\\"source_id\\\":18,\\\"target_id\\\":37,\\\"type\\\":\\\"CurriculumPrerequisite\\\"}],\\\"name\\\":\\\"AME 425\\\",\\\"metrics\\\":{\\\"complexity\\\":8.0,\\\"centrality\\\":0,\\\"blocking factor\\\":0,\\\"delay factor\\\":8.0},\\\"nameSub\\\":\\\"Aerospace Propulsion\\\",\\\"id\\\":37,\\\"credits\\\":3,\\\"nameCanonical\\\":\\\"\\\"},{\\\"curriculum_requisites\\\":[{\\\"source_id\\\":23,\\\"target_id\\\":38,\\\"type\\\":\\\"CurriculumPrerequisite\\\"},{\\\"source_id\\\":15,\\\"target_id\\\":38,\\\"type\\\":\\\"CurriculumPrerequisite\\\"},{\\\"source_id\\\":30,\\\"target_id\\\":38,\\\"type\\\":\\\"CurriculumPrerequisite\\\"}],\\\"name\\\":\\\"AME 427\\\",\\\"metrics\\\":{\\\"complexity\\\":8.0,\\\"centrality\\\":0,\\\"blocking factor\\\":0,\\\"delay factor\\\":8.0},\\\"nameSub\\\":\\\"Stability and Control of Aero. Vehicles\\\",\\\"id\\\":38,\\\"credits\\\":3,\\\"nameCanonical\\\":\\\"\\\"},{\\\"curriculum_requisites\\\":[{\\\"source_id\\\":13,\\\"target_id\\\":39,\\\"type\\\":\\\"CurriculumPrerequisite\\\"},{\\\"source_id\\\":19,\\\"target_id\\\":39,\\\"type\\\":\\\"CurriculumPrerequisite\\\"}],\\\"name\\\":\\\"AME 457\\\",\\\"metrics\\\":{\\\"complexity\\\":6.0,\\\"centrality\\\":0,\\\"blocking factor\\\":0,\\\"delay factor\\\":6.0},\\\"nameSub\\\":\\\"Orbital Mechanicans and Space Flt.\\\",\\\"id\\\":39,\\\"credits\\\":3,\\\"nameCanonical\\\":\\\"\\\"},{\\\"curriculum_requisites\\\":[],\\\"name\\\":\\\"AME 495S\\\",\\\"metrics\\\":{\\\"complexity\\\":1.0,\\\"centrality\\\":0,\\\"blocking factor\\\":0,\\\"delay factor\\\":1.0},\\\"nameSub\\\":\\\"Senior Colloquium\\\",\\\"id\\\":40,\\\"credits\\\":1,\\\"nameCanonical\\\":\\\"\\\"}],\\\"id\\\":7},{\\\"name\\\":\\\"Term 8\\\",\\\"curriculum_items\\\":[{\\\"curriculum_requisites\\\":[{\\\"source_id\\\":36,\\\"target_id\\\":41,\\\"type\\\":\\\"CurriculumPrerequisite\\\"},{\\\"source_id\\\":33,\\\"target_id\\\":41,\\\"type\\\":\\\"CurriculumCorequisite\\\"}],\\\"name\\\":\\\"AME 422\\\",\\\"metrics\\\":{\\\"complexity\\\":9.0,\\\"centrality\\\":0,\\\"blocking factor\\\":0,\\\"delay factor\\\":9.0},\\\"nameSub\\\":\\\"Aerospace Eng.Design\\\",\\\"id\\\":41,\\\"credits\\\":3,\\\"nameCanonical\\\":\\\"\\\"},{\\\"curriculum_requisites\\\":[{\\\"source_id\\\":24,\\\"target_id\\\":42,\\\"type\\\":\\\"CurriculumPrerequisite\\\"},{\\\"source_id\\\":32,\\\"target_id\\\":42,\\\"type\\\":\\\"CurriculumPrerequisite\\\"},{\\\"source_id\\\":18,\\\"target_id\\\":42,\\\"type\\\":\\\"CurriculumPrerequisite\\\"}],\\\"name\\\":\\\"AME 431\\\",\\\"metrics\\\":{\\\"complexity\\\":7.0,\\\"centrality\\\":0,\\\"blocking factor\\\":0,\\\"delay factor\\\":7.0},\\\"nameSub\\\":\\\"Num. Meth. in Fluid Mech. & Heat Xfer\\\",\\\"id\\\":42,\\\"credits\\\":3,\\\"nameCanonical\\\":\\\"\\\"},{\\\"curriculum_requisites\\\":[],\\\"name\\\":\\\" \\\",\\\"metrics\\\":{\\\"complexity\\\":1.0,\\\"centrality\\\":0,\\\"blocking factor\\\":0,\\\"delay factor\\\":1.0},\\\"nameSub\\\":\\\"Technical Elective 1\\\",\\\"id\\\":43,\\\"credits\\\":3,\\\"nameCanonical\\\":\\\"\\\"},{\\\"curriculum_requisites\\\":[],\\\"name\\\":\\\" \\\",\\\"metrics\\\":{\\\"complexity\\\":1.0,\\\"centrality\\\":0,\\\"blocking factor\\\":0,\\\"delay factor\\\":1.0},\\\"nameSub\\\":\\\"Technical Elective 2\\\",\\\"id\\\":44,\\\"credits\\\":3,\\\"nameCanonical\\\":\\\"\\\"},{\\\"curriculum_requisites\\\":[],\\\"name\\\":\\\" \\\",\\\"metrics\\\":{\\\"complexity\\\":1.0,\\\"centrality\\\":0,\\\"blocking factor\\\":0,\\\"delay factor\\\":1.0},\\\"nameSub\\\":\\\"Tier II General Ed. 2\\\",\\\"id\\\":45,\\\"credits\\\":3,\\\"nameCanonical\\\":\\\"\\\"}],\\\"id\\\":8}],\\\"institution\\\":\\\"University of Arizona\\\"}},\\\"*\\\"); window.removeEventListener(\\\"message\\\",window.messageReceived); window.messageReceived=(function (event){return (event.data.curriculum!==undefined) ? (WebIO.setval({\\\"name\\\":\\\"curriculum-data\\\",\\\"scope\\\":\\\"7844697571021043491\\\",\\\"id\\\":\\\"ob_05\\\",\\\"type\\\":\\\"observable\\\"},event.data.curriculum)) : undefined}); return window.addEventListener(\\\"message\\\",window.messageReceived)})\"},\"style\":{\"padding\":\"0\",\"height\":\"100vh\",\"margin\":\"0\",\"border\":\"none\",\"width\":\"100%\"}},\"nodeType\":\"DOM\",\"type\":\"node\",\"instanceArgs\":{\"namespace\":\"html\",\"tag\":\"iframe\"},\"children\":[\"\"]}]},\n",
       "            window,\n",
       "        );\n",
       "    } else {\n",
       "        document\n",
       "            .querySelector('[data-webio-mountpoint=\"4107751833854847595\"]')\n",
       "            .innerHTML = (\n",
       "                '<div style=\"padding: 1em; background-color: #f8d6da; border: 1px solid #f5c6cb\">' +\n",
       "                '<p><strong>WebIO not detected.</strong></p>' +\n",
       "                '<p>Please read ' +\n",
       "                '<a href=\"https://juliagizmos.github.io/WebIO.jl/latest/troubleshooting/not-detected/\" target=\"_blank\">the troubleshooting guide</a> ' +\n",
       "                'for more information on how to resolve this issue.</p>' +\n",
       "                '<p><a href=\"https://juliagizmos.github.io/WebIO.jl/latest/troubleshooting/not-detected/\" target=\"_blank\">https://juliagizmos.github.io/WebIO.jl/latest/troubleshooting/not-detected/</a></p>' +\n",
       "                '</div>'\n",
       "            );\n",
       "    }\n",
       "    </script>\n",
       "</div>\n"
      ],
      "text/plain": [
       "WebIO.Scope(WebIO.Node{WebIO.DOM}(WebIO.DOM(:html, :iframe), Any[\"\"], Dict{Symbol,Any}(:src => \"http://localhost:8156\",:id => \"curriculum\",:events => Dict{Symbol,WebIO.JSString}(:load => WebIO.JSString(\"(function (){this.contentWindow.postMessage({\\\"options\\\":{\\\"hideTerms\\\":false,\\\"edit\\\":false},\\\"curriculum\\\":{\\\"name\\\":\\\"Aerospace Engineering\\\",\\\"dp_name\\\":\\\"2019-20 Degree Plan\\\",\\\"curriculum_terms\\\":[{\\\"name\\\":\\\"Term 1\\\",\\\"curriculum_items\\\":[{\\\"curriculum_requisites\\\":[],\\\"name\\\":\\\"MATH 125\\\",\\\"metrics\\\":{\\\"complexity\\\":38.0,\\\"centrality\\\":0,\\\"blocking factor\\\":29,\\\"delay factor\\\":9.0},\\\"nameSub\\\":\\\"Calculus I w/ Applications\\\",\\\"id\\\":1,\\\"credits\\\":3,\\\"nameCanonical\\\":\\\"\\\"},{\\\"curriculum_requisites\\\":[],\\\"name\\\":\\\"CHEM 151\\\",\\\"metrics\\\":{\\\"complexity\\\":5.0,\\\"centrality\\\":0,\\\"blocking factor\\\":2,\\\"delay factor\\\":3.0},\\\"nameSub\\\":\\\"Gen Chemistry I\\\",\\\"id\\\":2,\\\"credits\\\":4,\\\"nameCanonical\\\":\\\"\\\"},{\\\"curriculum_requisites\\\":[],\\\"name\\\":\\\"ENGL 101\\\",\\\"metrics\\\":{\\\"complexity\\\":3.0,\\\"centrality\\\":0,\\\"blocking factor\\\":1,\\\"delay factor\\\":2.0},\\\"nameSub\\\":\\\"First-year Comp.\\\",\\\"id\\\":3,\\\"credits\\\":3,\\\"nameCanonical\\\":\\\"\\\"},{\\\"curriculum_requisites\\\":[{\\\"source_id\\\":1,\\\"target_id\\\":4,\\\"type\\\":\\\"CurriculumCorequisite\\\"}],\\\"name\\\":\\\"ENGR 102\\\",\\\"metrics\\\":{\\\"complexity\\\":2.0,\\\"centrality\\\":0,\\\"blocking factor\\\":0,\\\"delay factor\\\":2.0},\\\"nameSub\\\":\\\"Intro to Engineering\\\",\\\"id\\\":4,\\\"credits\\\":3,\\\"nameCanonical\\\":\\\"\\\"},{\\\"curriculum_requisites\\\":[],\\\"name\\\":\\\" \\\",\\\"metrics\\\":{\\\"complexity\\\":1.0,\\\"centrality\\\":0,\\\"blocking factor\\\":0,\\\"delay factor\\\":1.0},\\\"nameSub\\\":\\\"Tier I General Ed.\\\",\\\"id\\\":5,\\\"credits\\\":3,\\\"nameCanonical\\\":\\\"\\\"}],\\\"id\\\":1},{\\\"name\\\":\\\"Term 2\\\",\\\"curriculum_items\\\":[{\\\"curriculum_requisites\\\":[{\\\"source_id\\\":1,\\\"target_id\\\":6,\\\"type\\\":\\\"CurriculumPrerequisite\\\"}],\\\"name\\\":\\\"MATH 129\\\",\\\"metrics\\\":{\\\"complexity\\\":31.0,\\\"centrality\\\":388,\\\"blocking factor\\\":22,\\\"delay factor\\\":9.0},\\\"nameSub\\\":\\\"Calculus II\\\",\\\"id\\\":6,\\\"credits\\\":3,\\\"nameCanonical\\\":\\\"\\\"},{\\\"curriculum_requisites\\\":[{\\\"source_id\\\":1,\\\"target_id\\\":7,\\\"type\\\":\\\"CurriculumPrerequisite\\\"}],\\\"name\\\":\\\"AME 105\\\",\\\"metrics\\\":{\\\"complexity\\\":16.0,\\\"centrality\\\":28,\\\"blocking factor\\\":9,\\\"delay factor\\\":7.0},\\\"nameSub\\\":\\\"Intro. to MATLAB I\\\",\\\"id\\\":7,\\\"credits\\\":1,\\\"nameCanonical\\\":\\\"\\\"},{\\\"curriculum_requisites\\\":[{\\\"source_id\\\":1,\\\"target_id\\\":8,\\\"type\\\":\\\"CurriculumPrerequisite\\\"}],\\\"name\\\":\\\"PHYS 141\\\",\\\"metrics\\\":{\\\"complexity\\\":27.0,\\\"centrality\\\":272,\\\"blocking factor\\\":18,\\\"delay factor\\\":9.0},\\\"nameSub\\\":\\\"Intro Mechanics\\\",\\\"id\\\":8,\\\"credits\\\":4,\\\"nameCanonical\\\":\\\"\\\"},{\\\"curriculum_requisites\\\":[{\\\"source_id\\\":3,\\\"target_id\\\":9,\\\"type\\\":\\\"CurriculumPrerequisite\\\"}],\\\"name\\\":\\\"ENGL 102\\\",\\\"metrics\\\":{\\\"complexity\\\":2.0,\\\"centrality\\\":0,\\\"blocking factor\\\":0,\\\"delay factor\\\":2.0},\\\"nameSub\\\":\\\"First-year Comp.\\\",\\\"id\\\":9,\\\"credits\\\":3,\\\"nameCanonical\\\":\\\"\\\"},{\\\"curriculum_requisites\\\":[{\\\"source_id\\\":1,\\\"target_id\\\":10,\\\"type\\\":\\\"CurriculumCorequisite\\\"}],\\\"name\\\":\\\"ECE 175\\\",\\\"metrics\\\":{\\\"complexity\\\":2.0,\\\"centrality\\\":0,\\\"blocking factor\\\":0,\\\"delay factor\\\":2.0},\\\"nameSub\\\":\\\"Programming for Eng. Apps.\\\",\\\"id\\\":10,\\\"credits\\\":3,\\\"nameCanonical\\\":\\\"\\\"},{\\\"curriculum_requisites\\\":[],\\\"name\\\":\\\" \\\",\\\"metrics\\\":{\\\"complexity\\\":1.0,\\\"centrality\\\":0,\\\"blocking factor\\\":0,\\\"delay factor\\\":1.0},\\\"nameSub\\\":\\\"Tier I General Ed. 1\\\",\\\"id\\\":11,\\\"credits\\\":3,\\\"nameCanonical\\\":\\\"\\\"}],\\\"id\\\":2},{\\\"name\\\":\\\"Term 3\\\",\\\"curriculum_items\\\":[{\\\"curriculum_requisites\\\":[{\\\"source_id\\\":8,\\\"target_id\\\":12,\\\"type\\\":\\\"CurriculumPrerequisite\\\"},{\\\"source_id\\\":6,\\\"target_id\\\":12,\\\"type\\\":\\\"CurriculumPrerequisite\\\"}],\\\"name\\\":\\\"CE 214\\\",\\\"metrics\\\":{\\\"complexity\\\":23.0,\\\"centrality\\\":254,\\\"blocking factor\\\":14,\\\"delay factor\\\":9.0},\\\"nameSub\\\":\\\"Statics\\\",\\\"id\\\":12,\\\"credits\\\":3,\\\"nameCanonical\\\":\\\"\\\"},{\\\"curriculum_requisites\\\":[{\\\"source_id\\\":6,\\\"target_id\\\":13,\\\"type\\\":\\\"CurriculumPrerequisite\\\"}],\\\"name\\\":\\\"MATH  223\\\",\\\"metrics\\\":{\\\"complexity\\\":26.0,\\\"centrality\\\":258,\\\"blocking factor\\\":17,\\\"delay factor\\\":9.0},\\\"nameSub\\\":\\\"Vector Calculus\\\",\\\"id\\\":13,\\\"credits\\\":4,\\\"nameCanonical\\\":\\\"\\\"},{\\\"curriculum_requisites\\\":[{\\\"source_id\\\":8,\\\"target_id\\\":14,\\\"type\\\":\\\"CurriculumPrerequisite\\\"},{\\\"source_id\\\":6,\\\"target_id\\\":14,\\\"type\\\":\\\"CurriculumPrerequisite\\\"}],\\\"name\\\":\\\"PHYS 241\\\",\\\"metrics\\\":{\\\"complexity\\\":3.0,\\\"centrality\\\":0,\\\"blocking factor\\\":0,\\\"delay factor\\\":3.0},\\\"nameSub\\\":\\\"Electricity & Magnetism\\\",\\\"id\\\":14,\\\"credits\\\":4,\\\"nameCanonical\\\":\\\"\\\"},{\\\"curriculum_requisites\\\":[{\\\"source_id\\\":7,\\\"target_id\\\":15,\\\"type\\\":\\\"CurriculumPrerequisite\\\"}],\\\"name\\\":\\\"AME  205\\\",\\\"metrics\\\":{\\\"complexity\\\":15.0,\\\"centrality\\\":28,\\\"blocking factor\\\":8,\\\"delay factor\\\":7.0},\\\"nameSub\\\":\\\"Intro. To MATLAB II\\\",\\\"id\\\":15,\\\"credits\\\":1,\\\"nameCanonical\\\":\\\"\\\"},{\\\"curriculum_requisites\\\":[],\\\"name\\\":\\\"AME 211\\\",\\\"metrics\\\":{\\\"complexity\\\":1.0,\\\"centrality\\\":0,\\\"blocking factor\\\":0,\\\"delay factor\\\":1.0},\\\"nameSub\\\":\\\"Comp. Aided Drafting & Manufacturing\\\",\\\"id\\\":16,\\\"credits\\\":3,\\\"nameCanonical\\\":\\\"\\\"},{\\\"curriculum_requisites\\\":[],\\\"name\\\":\\\" \\\",\\\"metrics\\\":{\\\"complexity\\\":1.0,\\\"centrality\\\":0,\\\"blocking factor\\\":0,\\\"delay factor\\\":1.0},\\\"nameSub\\\":\\\"Tier I General Ed. 2\\\",\\\"id\\\":17,\\\"credits\\\":3,\\\"nameCanonical\\\":\\\"\\\"}],\\\"id\\\":3},{\\\"name\\\":\\\"Term 4\\\",\\\"curriculum_items\\\":[{\\\"curriculum_requisites\\\":[{\\\"source_id\\\":8,\\\"target_id\\\":18,\\\"type\\\":\\\"CurriculumPrerequisite\\\"}],\\\"name\\\":\\\"AME 230\\\",\\\"metrics\\\":{\\\"complexity\\\":19.0,\\\"centrality\\\":86,\\\"blocking factor\\\":11,\\\"delay factor\\\":8.0},\\\"nameSub\\\":\\\"Thermodynamics\\\",\\\"id\\\":18,\\\"credits\\\":3,\\\"nameCanonical\\\":\\\"\\\"},{\\\"curriculum_requisites\\\":[{\\\"source_id\\\":12,\\\"target_id\\\":19,\\\"type\\\":\\\"CurriculumPrerequisite\\\"},{\\\"source_id\\\":20,\\\"target_id\\\":19,\\\"type\\\":\\\"CurriculumCorequisite\\\"}],\\\"name\\\":\\\"AME 250\\\",\\\"metrics\\\":{\\\"complexity\\\":19.0,\\\"centrality\\\":145,\\\"blocking factor\\\":10,\\\"delay factor\\\":9.0},\\\"nameSub\\\":\\\"Dynamics\\\",\\\"id\\\":19,\\\"credits\\\":3,\\\"nameCanonical\\\":\\\"\\\"},{\\\"curriculum_requisites\\\":[{\\\"source_id\\\":13,\\\"target_id\\\":20,\\\"type\\\":\\\"CurriculumPrerequisite\\\"}],\\\"name\\\":\\\"MATH 254\\\",\\\"metrics\\\":{\\\"complexity\\\":25.0,\\\"centrality\\\":188,\\\"blocking factor\\\":16,\\\"delay factor\\\":9.0},\\\"nameSub\\\":\\\"Intro. to ODEs\\\",\\\"id\\\":20,\\\"credits\\\":3,\\\"nameCanonical\\\":\\\"\\\"},{\\\"curriculum_requisites\\\":[{\\\"source_id\\\":13,\\\"target_id\\\":21,\\\"type\\\":\\\"CurriculumPrerequisite\\\"},{\\\"source_id\\\":8,\\\"target_id\\\":21,\\\"type\\\":\\\"CurriculumPrerequisite\\\"},{\\\"source_id\\\":20,\\\"target_id\\\":21,\\\"type\\\":\\\"CurriculumCorequisite\\\"}],\\\"name\\\":\\\"AME 220\\\",\\\"metrics\\\":{\\\"complexity\\\":17.0,\\\"centrality\\\":198,\\\"blocking factor\\\":8,\\\"delay factor\\\":9.0},\\\"nameSub\\\":\\\"Intro. to Aerospace Eng.\\\",\\\"id\\\":21,\\\"credits\\\":3,\\\"nameCanonical\\\":\\\"\\\"},{\\\"curriculum_requisites\\\":[],\\\"name\\\":\\\" \\\",\\\"metrics\\\":{\\\"complexity\\\":1.0,\\\"centrality\\\":0,\\\"blocking factor\\\":0,\\\"delay factor\\\":1.0},\\\"nameSub\\\":\\\"Tier I General Ed. 3\\\",\\\"id\\\":22,\\\"credits\\\":3,\\\"nameCanonical\\\":\\\"\\\"}],\\\"id\\\":4},{\\\"name\\\":\\\"Term 5\\\",\\\"curriculum_items\\\":[{\\\"curriculum_requisites\\\":[{\\\"source_id\\\":26,\\\"target_id\\\":23,\\\"type\\\":\\\"CurriculumCorequisite\\\"},{\\\"source_id\\\":21,\\\"target_id\\\":23,\\\"type\\\":\\\"CurriculumPrerequisite\\\"}],\\\"name\\\":\\\"AME 320\\\",\\\"metrics\\\":{\\\"complexity\\\":14.0,\\\"centrality\\\":214,\\\"blocking factor\\\":5,\\\"delay factor\\\":9.0},\\\"nameSub\\\":\\\"Aerodynamics\\\",\\\"id\\\":23,\\\"credits\\\":3,\\\"nameCanonical\\\":\\\"\\\"},{\\\"curriculum_requisites\\\":[{\\\"source_id\\\":12,\\\"target_id\\\":24,\\\"type\\\":\\\"CurriculumPrerequisite\\\"}],\\\"name\\\":\\\"AME  324A\\\",\\\"metrics\\\":{\\\"complexity\\\":20.0,\\\"centrality\\\":162,\\\"blocking factor\\\":11,\\\"delay factor\\\":9.0},\\\"nameSub\\\":\\\"Mech. Behavior of Eng. Materials.\\\",\\\"id\\\":24,\\\"credits\\\":3,\\\"nameCanonical\\\":\\\"\\\"},{\\\"curriculum_requisites\\\":[{\\\"source_id\\\":20,\\\"target_id\\\":25,\\\"type\\\":\\\"CurriculumPrerequisite\\\"}],\\\"name\\\":\\\"AME 301\\\",\\\"metrics\\\":{\\\"complexity\\\":8.0,\\\"centrality\\\":12,\\\"blocking factor\\\":2,\\\"delay factor\\\":6.0},\\\"nameSub\\\":\\\"Engineering Analysis\\\",\\\"id\\\":25,\\\"credits\\\":3,\\\"nameCanonical\\\":\\\"\\\"},{\\\"curriculum_requisites\\\":[{\\\"source_id\\\":18,\\\"target_id\\\":26,\\\"type\\\":\\\"CurriculumCorequisite\\\"},{\\\"source_id\\\":24,\\\"target_id\\\":26,\\\"type\\\":\\\"CurriculumCorequisite\\\"}],\\\"name\\\":\\\"AME 300\\\",\\\"metrics\\\":{\\\"complexity\\\":19.0,\\\"centrality\\\":204,\\\"blocking factor\\\":10,\\\"delay factor\\\":9.0},\\\"nameSub\\\":\\\"Instrumentation Lab.\\\",\\\"id\\\":26,\\\"credits\\\":3,\\\"nameCanonical\\\":\\\"\\\"},{\\\"curriculum_requisites\\\":[{\\\"source_id\\\":2,\\\"target_id\\\":27,\\\"type\\\":\\\"CurriculumPrerequisite\\\"}],\\\"name\\\":\\\"MSE 331R\\\",\\\"metrics\\\":{\\\"complexity\\\":4.0,\\\"centrality\\\":3,\\\"blocking factor\\\":1,\\\"delay factor\\\":3.0},\\\"nameSub\\\":\\\"Fund. of Materials for Engineers\\\",\\\"id\\\":27,\\\"credits\\\":3,\\\"nameCanonical\\\":\\\"\\\"},{\\\"curriculum_requisites\\\":[{\\\"source_id\\\":25,\\\"target_id\\\":28,\\\"type\\\":\\\"CurriculumPrerequisite\\\"}],\\\"name\\\":\\\"AME 324L\\\",\\\"metrics\\\":{\\\"complexity\\\":6.0,\\\"centrality\\\":0,\\\"blocking factor\\\":0,\\\"delay factor\\\":6.0},\\\"nameSub\\\":\\\"Mech. of Materials Lab.\\\",\\\"id\\\":28,\\\"credits\\\":1,\\\"nameCanonical\\\":\\\"\\\"}],\\\"id\\\":5},{\\\"name\\\":\\\"Term 6\\\",\\\"curriculum_items\\\":[{\\\"curriculum_requisites\\\":[{\\\"source_id\\\":25,\\\"target_id\\\":29,\\\"type\\\":\\\"CurriculumPrerequisite\\\"}],\\\"name\\\":\\\"AME 324B\\\",\\\"metrics\\\":{\\\"complexity\\\":6.0,\\\"centrality\\\":0,\\\"blocking factor\\\":0,\\\"delay factor\\\":6.0},\\\"nameSub\\\":\\\"Eng. Component Design\\\",\\\"id\\\":29,\\\"credits\\\":3,\\\"nameCanonical\\\":\\\"\\\"},{\\\"curriculum_requisites\\\":[{\\\"source_id\\\":23,\\\"target_id\\\":30,\\\"type\\\":\\\"CurriculumCorequisite\\\"},{\\\"source_id\\\":19,\\\"target_id\\\":30,\\\"type\\\":\\\"CurriculumPrerequisite\\\"},{\\\"source_id\\\":21,\\\"target_id\\\":30,\\\"type\\\":\\\"CurriculumPrerequisite\\\"}],\\\"name\\\":\\\"AME 321\\\",\\\"metrics\\\":{\\\"complexity\\\":12.0,\\\"centrality\\\":174,\\\"blocking factor\\\":3,\\\"delay factor\\\":9.0},\\\"nameSub\\\":\\\"Aircraft Performance\\\",\\\"id\\\":30,\\\"credits\\\":3,\\\"nameCanonical\\\":\\\"\\\"},{\\\"curriculum_requisites\\\":[{\\\"source_id\\\":18,\\\"target_id\\\":31,\\\"type\\\":\\\"CurriculumPrerequisite\\\"},{\\\"source_id\\\":32,\\\"target_id\\\":31,\\\"type\\\":\\\"CurriculumCorequisite\\\"},{\\\"source_id\\\":21,\\\"target_id\\\":31,\\\"type\\\":\\\"CurriculumPrerequisite\\\"},{\\\"source_id\\\":20,\\\"target_id\\\":31,\\\"type\\\":\\\"CurriculumPrerequisite\\\"}],\\\"name\\\":\\\"AME 323\\\",\\\"metrics\\\":{\\\"complexity\\\":13.0,\\\"centrality\\\":274,\\\"blocking factor\\\":4,\\\"delay factor\\\":9.0},\\\"nameSub\\\":\\\"Gasdynamics\\\",\\\"id\\\":31,\\\"credits\\\":3,\\\"nameCanonical\\\":\\\"\\\"},{\\\"curriculum_requisites\\\":[{\\\"source_id\\\":26,\\\"target_id\\\":32,\\\"type\\\":\\\"CurriculumCorequisite\\\"},{\\\"source_id\\\":19,\\\"target_id\\\":32,\\\"type\\\":\\\"CurriculumPrerequisite\\\"},{\\\"source_id\\\":15,\\\"target_id\\\":32,\\\"type\\\":\\\"CurriculumPrerequisite\\\"},{\\\"source_id\\\":20,\\\"target_id\\\":32,\\\"type\\\":\\\"CurriculumPrerequisite\\\"}],\\\"name\\\":\\\"AME 302\\\",\\\"metrics\\\":{\\\"complexity\\\":15.0,\\\"centrality\\\":232,\\\"blocking factor\\\":6,\\\"delay factor\\\":9.0},\\\"nameSub\\\":\\\"Numerical Methods\\\",\\\"id\\\":32,\\\"credits\\\":3,\\\"nameCanonical\\\":\\\"\\\"},{\\\"curriculum_requisites\\\":[],\\\"name\\\":\\\"AME 313\\\",\\\"metrics\\\":{\\\"complexity\\\":5.0,\\\"centrality\\\":0,\\\"blocking factor\\\":2,\\\"delay factor\\\":3.0},\\\"nameSub\\\":\\\"Aero./Mech. Eng. Lab\\\",\\\"id\\\":33,\\\"credits\\\":1,\\\"nameCanonical\\\":\\\"\\\"},{\\\"curriculum_requisites\\\":[],\\\"name\\\":\\\" \\\",\\\"metrics\\\":{\\\"complexity\\\":1.0,\\\"centrality\\\":0,\\\"blocking factor\\\":0,\\\"delay factor\\\":1.0},\\\"nameSub\\\":\\\"Tier II General Ed. 1\\\",\\\"id\\\":34,\\\"credits\\\":3,\\\"nameCanonical\\\":\\\"\\\"}],\\\"id\\\":6},{\\\"name\\\":\\\"Term 7\\\",\\\"curriculum_items\\\":[{\\\"curriculum_requisites\\\":[{\\\"source_id\\\":23,\\\"target_id\\\":35,\\\"type\\\":\\\"CurriculumPrerequisite\\\"},{\\\"source_id\\\":31,\\\"target_id\\\":35,\\\"type\\\":\\\"CurriculumPrerequisite\\\"},{\\\"source_id\\\":27,\\\"target_id\\\":35,\\\"type\\\":\\\"CurriculumPrerequisite\\\"}],\\\"name\\\":\\\"AME 401\\\",\\\"metrics\\\":{\\\"complexity\\\":8.0,\\\"centrality\\\":0,\\\"blocking factor\\\":0,\\\"delay factor\\\":8.0},\\\"nameSub\\\":\\\"Senior Aerospace Lab.\\\",\\\"id\\\":35,\\\"credits\\\":3,\\\"nameCanonical\\\":\\\"\\\"},{\\\"curriculum_requisites\\\":[{\\\"source_id\\\":23,\\\"target_id\\\":36,\\\"type\\\":\\\"CurriculumPrerequisite\\\"},{\\\"source_id\\\":31,\\\"target_id\\\":36,\\\"type\\\":\\\"CurriculumPrerequisite\\\"},{\\\"source_id\\\":33,\\\"target_id\\\":36,\\\"type\\\":\\\"CurriculumPrerequisite\\\"},{\\\"source_id\\\":30,\\\"target_id\\\":36,\\\"type\\\":\\\"CurriculumPrerequisite\\\"}],\\\"name\\\":\\\"AME 420\\\",\\\"metrics\\\":{\\\"complexity\\\":10.0,\\\"centrality\\\":240,\\\"blocking factor\\\":1,\\\"delay factor\\\":9.0},\\\"nameSub\\\":\\\"Aerospace Conceptual Design\\\",\\\"id\\\":36,\\\"credits\\\":3,\\\"nameCanonical\\\":\\\"\\\"},{\\\"curriculum_requisites\\\":[{\\\"source_id\\\":24,\\\"target_id\\\":37,\\\"type\\\":\\\"CurriculumPrerequisite\\\"},{\\\"source_id\\\":31,\\\"target_id\\\":37,\\\"type\\\":\\\"CurriculumPrerequisite\\\"},{\\\"source_id\\\":18,\\\"target_id\\\":37,\\\"type\\\":\\\"CurriculumPrerequisite\\\"}],\\\"name\\\":\\\"AME 425\\\",\\\"metrics\\\":{\\\"complexity\\\":8.0,\\\"centrality\\\":0,\\\"blocking factor\\\":0,\\\"delay factor\\\":8.0},\\\"nameSub\\\":\\\"Aerospace Propulsion\\\",\\\"id\\\":37,\\\"credits\\\":3,\\\"nameCanonical\\\":\\\"\\\"},{\\\"curriculum_requisites\\\":[{\\\"source_id\\\":23,\\\"target_id\\\":38,\\\"type\\\":\\\"CurriculumPrerequisite\\\"},{\\\"source_id\\\":15,\\\"target_id\\\":38,\\\"type\\\":\\\"CurriculumPrerequisite\\\"},{\\\"source_id\\\":30,\\\"target_id\\\":38,\\\"type\\\":\\\"CurriculumPrerequisite\\\"}],\\\"name\\\":\\\"AME 427\\\",\\\"metrics\\\":{\\\"complexity\\\":8.0,\\\"centrality\\\":0,\\\"blocking factor\\\":0,\\\"delay factor\\\":8.0},\\\"nameSub\\\":\\\"Stability and Control of Aero. Vehicles\\\",\\\"id\\\":38,\\\"credits\\\":3,\\\"nameCanonical\\\":\\\"\\\"},{\\\"curriculum_requisites\\\":[{\\\"source_id\\\":13,\\\"target_id\\\":39,\\\"type\\\":\\\"CurriculumPrerequisite\\\"},{\\\"source_id\\\":19,\\\"target_id\\\":39,\\\"type\\\":\\\"CurriculumPrerequisite\\\"}],\\\"name\\\":\\\"AME 457\\\",\\\"metrics\\\":{\\\"complexity\\\":6.0,\\\"centrality\\\":0,\\\"blocking factor\\\":0,\\\"delay factor\\\":6.0},\\\"nameSub\\\":\\\"Orbital Mechanicans and Space Flt.\\\",\\\"id\\\":39,\\\"credits\\\":3,\\\"nameCanonical\\\":\\\"\\\"},{\\\"curriculum_requisites\\\":[],\\\"name\\\":\\\"AME 495S\\\",\\\"metrics\\\":{\\\"complexity\\\":1.0,\\\"centrality\\\":0,\\\"blocking factor\\\":0,\\\"delay factor\\\":1.0},\\\"nameSub\\\":\\\"Senior Colloquium\\\",\\\"id\\\":40,\\\"credits\\\":1,\\\"nameCanonical\\\":\\\"\\\"}],\\\"id\\\":7},{\\\"name\\\":\\\"Term 8\\\",\\\"curriculum_items\\\":[{\\\"curriculum_requisites\\\":[{\\\"source_id\\\":36,\\\"target_id\\\":41,\\\"type\\\":\\\"CurriculumPrerequisite\\\"},{\\\"source_id\\\":33,\\\"target_id\\\":41,\\\"type\\\":\\\"CurriculumCorequisite\\\"}],\\\"name\\\":\\\"AME 422\\\",\\\"metrics\\\":{\\\"complexity\\\":9.0,\\\"centrality\\\":0,\\\"blocking factor\\\":0,\\\"delay factor\\\":9.0},\\\"nameSub\\\":\\\"Aerospace Eng.Design\\\",\\\"id\\\":41,\\\"credits\\\":3,\\\"nameCanonical\\\":\\\"\\\"},{\\\"curriculum_requisites\\\":[{\\\"source_id\\\":24,\\\"target_id\\\":42,\\\"type\\\":\\\"CurriculumPrerequisite\\\"},{\\\"source_id\\\":32,\\\"target_id\\\":42,\\\"type\\\":\\\"CurriculumPrerequisite\\\"},{\\\"source_id\\\":18,\\\"target_id\\\":42,\\\"type\\\":\\\"CurriculumPrerequisite\\\"}],\\\"name\\\":\\\"AME 431\\\",\\\"metrics\\\":{\\\"complexity\\\":7.0,\\\"centrality\\\":0,\\\"blocking factor\\\":0,\\\"delay factor\\\":7.0},\\\"nameSub\\\":\\\"Num. Meth. in Fluid Mech. & Heat Xfer\\\",\\\"id\\\":42,\\\"credits\\\":3,\\\"nameCanonical\\\":\\\"\\\"},{\\\"curriculum_requisites\\\":[],\\\"name\\\":\\\" \\\",\\\"metrics\\\":{\\\"complexity\\\":1.0,\\\"centrality\\\":0,\\\"blocking factor\\\":0,\\\"delay factor\\\":1.0},\\\"nameSub\\\":\\\"Technical Elective 1\\\",\\\"id\\\":43,\\\"credits\\\":3,\\\"nameCanonical\\\":\\\"\\\"},{\\\"curriculum_requisites\\\":[],\\\"name\\\":\\\" \\\",\\\"metrics\\\":{\\\"complexity\\\":1.0,\\\"centrality\\\":0,\\\"blocking factor\\\":0,\\\"delay factor\\\":1.0},\\\"nameSub\\\":\\\"Technical Elective 2\\\",\\\"id\\\":44,\\\"credits\\\":3,\\\"nameCanonical\\\":\\\"\\\"},{\\\"curriculum_requisites\\\":[],\\\"name\\\":\\\" \\\",\\\"metrics\\\":{\\\"complexity\\\":1.0,\\\"centrality\\\":0,\\\"blocking factor\\\":0,\\\"delay factor\\\":1.0},\\\"nameSub\\\":\\\"Tier II General Ed. 2\\\",\\\"id\\\":45,\\\"credits\\\":3,\\\"nameCanonical\\\":\\\"\\\"}],\\\"id\\\":8}],\\\"institution\\\":\\\"University of Arizona\\\"}},\\\"*\\\"); window.removeEventListener(\\\"message\\\",window.messageReceived); window.messageReceived=(function (event){return (event.data.curriculum!==undefined) ? (WebIO.setval({\\\"name\\\":\\\"curriculum-data\\\",\\\"scope\\\":\\\"7844697571021043491\\\",\\\"id\\\":\\\"ob_05\\\",\\\"type\\\":\\\"observable\\\"},event.data.curriculum)) : undefined}); return window.addEventListener(\\\"message\\\",window.messageReceived)})\")),:style => Dict(:padding => \"0\",:height => \"100vh\",:margin => \"0\",:border => \"none\",:width => \"100%\"))), Dict{String,Tuple{Observables.AbstractObservable,Union{Nothing, Bool}}}(\"curriculum-data\" => (Observable{Dict{String,Any}} with 1 listeners. Value:\n",
       "Dict{String,Any}(\"options\" => Dict{String,Any}(\"hideTerms\" => false,\"edit\" => false),\"curriculum\" => Dict{String,Any}(\"name\" => \"Aerospace Engineering\",\"dp_name\" => \"2019-20 Degree Plan\",\"curriculum_terms\" => Dict{String,Any}[Dict(\"name\" => \"Term 1\",\"curriculum_items\" => Dict{String,Any}[Dict(\"curriculum_requisites\" => Dict{String,Any}[],\"name\" => \"MATH 125\",\"metrics\" => Dict{String,Any}(\"complexity\" => 38.0,\"centrality\" => 0,\"blocking factor\" => 29,\"delay factor\" => 9.0),\"nameSub\" => \"Calculus I w/ Applications\",\"id\" => 1,\"credits\" => 3,\"nameCanonical\" => \"\"), Dict(\"curriculum_requisites\" => Dict{String,Any}[],\"name\" => \"CHEM 151\",\"metrics\" => Dict{String,Any}(\"complexity\" => 5.0,\"centrality\" => 0,\"blocking factor\" => 2,\"delay factor\" => 3.0),\"nameSub\" => \"Gen Chemistry I\",\"id\" => 2,\"credits\" => 4,\"nameCanonical\" => \"\"), Dict(\"curriculum_requisites\" => Dict{String,Any}[],\"name\" => \"ENGL 101\",\"metrics\" => Dict{String,Any}(\"complexity\" => 3.0,\"centrality\" => 0,\"blocking factor\" => 1,\"delay factor\" => 2.0),\"nameSub\" => \"First-year Comp.\",\"id\" => 3,\"credits\" => 3,\"nameCanonical\" => \"\"), Dict(\"curriculum_requisites\" => Dict{String,Any}[Dict(\"source_id\" => 1,\"target_id\" => 4,\"type\" => \"CurriculumCorequisite\")],\"name\" => \"ENGR 102\",\"metrics\" => Dict{String,Any}(\"complexity\" => 2.0,\"centrality\" => 0,\"blocking factor\" => 0,\"delay factor\" => 2.0),\"nameSub\" => \"Intro to Engineering\",\"id\" => 4,\"credits\" => 3,\"nameCanonical\" => \"\"), Dict(\"curriculum_requisites\" => Dict{String,Any}[],\"name\" => \" \",\"metrics\" => Dict{String,Any}(\"complexity\" => 1.0,\"centrality\" => 0,\"blocking factor\" => 0,\"delay factor\" => 1.0),\"nameSub\" => \"Tier I General Ed.\",\"id\" => 5,\"credits\" => 3,\"nameCanonical\" => \"\")],\"id\" => 1), Dict(\"name\" => \"Term 2\",\"curriculum_items\" => Dict{String,Any}[Dict(\"curriculum_requisites\" => Dict{String,Any}[Dict(\"source_id\" => 1,\"target_id\" => 6,\"type\" => \"CurriculumPrerequisite\")],\"name\" => \"MATH 129\",\"metrics\" => Dict{String,Any}(\"complexity\" => 31.0,\"centrality\" => 388,\"blocking factor\" => 22,\"delay factor\" => 9.0),\"nameSub\" => \"Calculus II\",\"id\" => 6,\"credits\" => 3,\"nameCanonical\" => \"\"), Dict(\"curriculum_requisites\" => Dict{String,Any}[Dict(\"source_id\" => 1,\"target_id\" => 7,\"type\" => \"CurriculumPrerequisite\")],\"name\" => \"AME 105\",\"metrics\" => Dict{String,Any}(\"complexity\" => 16.0,\"centrality\" => 28,\"blocking factor\" => 9,\"delay factor\" => 7.0),\"nameSub\" => \"Intro. to MATLAB I\",\"id\" => 7,\"credits\" => 1,\"nameCanonical\" => \"\"), Dict(\"curriculum_requisites\" => Dict{String,Any}[Dict(\"source_id\" => 1,\"target_id\" => 8,\"type\" => \"CurriculumPrerequisite\")],\"name\" => \"PHYS 141\",\"metrics\" => Dict{String,Any}(\"complexity\" => 27.0,\"centrality\" => 272,\"blocking factor\" => 18,\"delay factor\" => 9.0),\"nameSub\" => \"Intro Mechanics\",\"id\" => 8,\"credits\" => 4,\"nameCanonical\" => \"\"), Dict(\"curriculum_requisites\" => Dict{String,Any}[Dict(\"source_id\" => 3,\"target_id\" => 9,\"type\" => \"CurriculumPrerequisite\")],\"name\" => \"ENGL 102\",\"metrics\" => Dict{String,Any}(\"complexity\" => 2.0,\"centrality\" => 0,\"blocking factor\" => 0,\"delay factor\" => 2.0),\"nameSub\" => \"First-year Comp.\",\"id\" => 9,\"credits\" => 3,\"nameCanonical\" => \"\"), Dict(\"curriculum_requisites\" => Dict{String,Any}[Dict(\"source_id\" => 1,\"target_id\" => 10,\"type\" => \"CurriculumCorequisite\")],\"name\" => \"ECE 175\",\"metrics\" => Dict{String,Any}(\"complexity\" => 2.0,\"centrality\" => 0,\"blocking factor\" => 0,\"delay factor\" => 2.0),\"nameSub\" => \"Programming for Eng. Apps.\",\"id\" => 10,\"credits\" => 3,\"nameCanonical\" => \"\"), Dict(\"curriculum_requisites\" => Dict{String,Any}[],\"name\" => \" \",\"metrics\" => Dict{String,Any}(\"complexity\" => 1.0,\"centrality\" => 0,\"blocking factor\" => 0,\"delay factor\" => 1.0),\"nameSub\" => \"Tier I General Ed. 1\",\"id\" => 11,\"credits\" => 3,\"nameCanonical\" => \"\")],\"id\" => 2), Dict(\"name\" => \"Term 3\",\"curriculum_items\" => Dict{String,Any}[Dict(\"curriculum_requisites\" => Dict{String,Any}[Dict(\"source_id\" => 8,\"target_id\" => 12,\"type\" => \"CurriculumPrerequisite\"), Dict(\"source_id\" => 6,\"target_id\" => 12,\"type\" => \"CurriculumPrerequisite\")],\"name\" => \"CE 214\",\"metrics\" => Dict{String,Any}(\"complexity\" => 23.0,\"centrality\" => 254,\"blocking factor\" => 14,\"delay factor\" => 9.0),\"nameSub\" => \"Statics\",\"id\" => 12,\"credits\" => 3,\"nameCanonical\" => \"\"), Dict(\"curriculum_requisites\" => Dict{String,Any}[Dict(\"source_id\" => 6,\"target_id\" => 13,\"type\" => \"CurriculumPrerequisite\")],\"name\" => \"MATH  223\",\"metrics\" => Dict{String,Any}(\"complexity\" => 26.0,\"centrality\" => 258,\"blocking factor\" => 17,\"delay factor\" => 9.0),\"nameSub\" => \"Vector Calculus\",\"id\" => 13,\"credits\" => 4,\"nameCanonical\" => \"\"), Dict(\"curriculum_requisites\" => Dict{String,Any}[Dict(\"source_id\" => 8,\"target_id\" => 14,\"type\" => \"CurriculumPrerequisite\"), Dict(\"source_id\" => 6,\"target_id\" => 14,\"type\" => \"CurriculumPrerequisite\")],\"name\" => \"PHYS 241\",\"metrics\" => Dict{String,Any}(\"complexity\" => 3.0,\"centrality\" => 0,\"blocking factor\" => 0,\"delay factor\" => 3.0),\"nameSub\" => \"Electricity & Magnetism\",\"id\" => 14,\"credits\" => 4,\"nameCanonical\" => \"\"), Dict(\"curriculum_requisites\" => Dict{String,Any}[Dict(\"source_id\" => 7,\"target_id\" => 15,\"type\" => \"CurriculumPrerequisite\")],\"name\" => \"AME  205\",\"metrics\" => Dict{String,Any}(\"complexity\" => 15.0,\"centrality\" => 28,\"blocking factor\" => 8,\"delay factor\" => 7.0),\"nameSub\" => \"Intro. To MATLAB II\",\"id\" => 15,\"credits\" => 1,\"nameCanonical\" => \"\"), Dict(\"curriculum_requisites\" => Dict{String,Any}[],\"name\" => \"AME 211\",\"metrics\" => Dict{String,Any}(\"complexity\" => 1.0,\"centrality\" => 0,\"blocking factor\" => 0,\"delay factor\" => 1.0),\"nameSub\" => \"Comp. Aided Drafting & Manufacturing\",\"id\" => 16,\"credits\" => 3,\"nameCanonical\" => \"\"), Dict(\"curriculum_requisites\" => Dict{String,Any}[],\"name\" => \" \",\"metrics\" => Dict{String,Any}(\"complexity\" => 1.0,\"centrality\" => 0,\"blocking factor\" => 0,\"delay factor\" => 1.0),\"nameSub\" => \"Tier I General Ed. 2\",\"id\" => 17,\"credits\" => 3,\"nameCanonical\" => \"\")],\"id\" => 3), Dict(\"name\" => \"Term 4\",\"curriculum_items\" => Dict{String,Any}[Dict(\"curriculum_requisites\" => Dict{String,Any}[Dict(\"source_id\" => 8,\"target_id\" => 18,\"type\" => \"CurriculumPrerequisite\")],\"name\" => \"AME 230\",\"metrics\" => Dict{String,Any}(\"complexity\" => 19.0,\"centrality\" => 86,\"blocking factor\" => 11,\"delay factor\" => 8.0),\"nameSub\" => \"Thermodynamics\",\"id\" => 18,\"credits\" => 3,\"nameCanonical\" => \"\"), Dict(\"curriculum_requisites\" => Dict{String,Any}[Dict(\"source_id\" => 12,\"target_id\" => 19,\"type\" => \"CurriculumPrerequisite\"), Dict(\"source_id\" => 20,\"target_id\" => 19,\"type\" => \"CurriculumCorequisite\")],\"name\" => \"AME 250\",\"metrics\" => Dict{String,Any}(\"complexity\" => 19.0,\"centrality\" => 145,\"blocking factor\" => 10,\"delay factor\" => 9.0),\"nameSub\" => \"Dynamics\",\"id\" => 19,\"credits\" => 3,\"nameCanonical\" => \"\"), Dict(\"curriculum_requisites\" => Dict{String,Any}[Dict(\"source_id\" => 13,\"target_id\" => 20,\"type\" => \"CurriculumPrerequisite\")],\"name\" => \"MATH 254\",\"metrics\" => Dict{String,Any}(\"complexity\" => 25.0,\"centrality\" => 188,\"blocking factor\" => 16,\"delay factor\" => 9.0),\"nameSub\" => \"Intro. to ODEs\",\"id\" => 20,\"credits\" => 3,\"nameCanonical\" => \"\"), Dict(\"curriculum_requisites\" => Dict{String,Any}[Dict(\"source_id\" => 13,\"target_id\" => 21,\"type\" => \"CurriculumPrerequisite\"), Dict(\"source_id\" => 8,\"target_id\" => 21,\"type\" => \"CurriculumPrerequisite\"), Dict(\"source_id\" => 20,\"target_id\" => 21,\"type\" => \"CurriculumCorequisite\")],\"name\" => \"AME 220\",\"metrics\" => Dict{String,Any}(\"complexity\" => 17.0,\"centrality\" => 198,\"blocking factor\" => 8,\"delay factor\" => 9.0),\"nameSub\" => \"Intro. to Aerospace Eng.\",\"id\" => 21,\"credits\" => 3,\"nameCanonical\" => \"\"), Dict(\"curriculum_requisites\" => Dict{String,Any}[],\"name\" => \" \",\"metrics\" => Dict{String,Any}(\"complexity\" => 1.0,\"centrality\" => 0,\"blocking factor\" => 0,\"delay factor\" => 1.0),\"nameSub\" => \"Tier I General Ed. 3\",\"id\" => 22,\"credits\" => 3,\"nameCanonical\" => \"\")],\"id\" => 4), Dict(\"name\" => \"Term 5\",\"curriculum_items\" => Dict{String,Any}[Dict(\"curriculum_requisites\" => Dict{String,Any}[Dict(\"source_id\" => 26,\"target_id\" => 23,\"type\" => \"CurriculumCorequisite\"), Dict(\"source_id\" => 21,\"target_id\" => 23,\"type\" => \"CurriculumPrerequisite\")],\"name\" => \"AME 320\",\"metrics\" => Dict{String,Any}(\"complexity\" => 14.0,\"centrality\" => 214,\"blocking factor\" => 5,\"delay factor\" => 9.0),\"nameSub\" => \"Aerodynamics\",\"id\" => 23,\"credits\" => 3,\"nameCanonical\" => \"\"), Dict(\"curriculum_requisites\" => Dict{String,Any}[Dict(\"source_id\" => 12,\"target_id\" => 24,\"type\" => \"CurriculumPrerequisite\")],\"name\" => \"AME  324A\",\"metrics\" => Dict{String,Any}(\"complexity\" => 20.0,\"centrality\" => 162,\"blocking factor\" => 11,\"delay factor\" => 9.0),\"nameSub\" => \"Mech. Behavior of Eng. Materials.\",\"id\" => 24,\"credits\" => 3,\"nameCanonical\" => \"\"), Dict(\"curriculum_requisites\" => Dict{String,Any}[Dict(\"source_id\" => 20,\"target_id\" => 25,\"type\" => \"CurriculumPrerequisite\")],\"name\" => \"AME 301\",\"metrics\" => Dict{String,Any}(\"complexity\" => 8.0,\"centrality\" => 12,\"blocking factor\" => 2,\"delay factor\" => 6.0),\"nameSub\" => \"Engineering Analysis\",\"id\" => 25,\"credits\" => 3,\"nameCanonical\" => \"\"), Dict(\"curriculum_requisites\" => Dict{String,Any}[Dict(\"source_id\" => 18,\"target_id\" => 26,\"type\" => \"CurriculumCorequisite\"), Dict(\"source_id\" => 24,\"target_id\" => 26,\"type\" => \"CurriculumCorequisite\")],\"name\" => \"AME 300\",\"metrics\" => Dict{String,Any}(\"complexity\" => 19.0,\"centrality\" => 204,\"blocking factor\" => 10,\"delay factor\" => 9.0),\"nameSub\" => \"Instrumentation Lab.\",\"id\" => 26,\"credits\" => 3,\"nameCanonical\" => \"\"), Dict(\"curriculum_requisites\" => Dict{String,Any}[Dict(\"source_id\" => 2,\"target_id\" => 27,\"type\" => \"CurriculumPrerequisite\")],\"name\" => \"MSE 331R\",\"metrics\" => Dict{String,Any}(\"complexity\" => 4.0,\"centrality\" => 3,\"blocking factor\" => 1,\"delay factor\" => 3.0),\"nameSub\" => \"Fund. of Materials for Engineers\",\"id\" => 27,\"credits\" => 3,\"nameCanonical\" => \"\"), Dict(\"curriculum_requisites\" => Dict{String,Any}[Dict(\"source_id\" => 25,\"target_id\" => 28,\"type\" => \"CurriculumPrerequisite\")],\"name\" => \"AME 324L\",\"metrics\" => Dict{String,Any}(\"complexity\" => 6.0,\"centrality\" => 0,\"blocking factor\" => 0,\"delay factor\" => 6.0),\"nameSub\" => \"Mech. of Materials Lab.\",\"id\" => 28,\"credits\" => 1,\"nameCanonical\" => \"\")],\"id\" => 5), Dict(\"name\" => \"Term 6\",\"curriculum_items\" => Dict{String,Any}[Dict(\"curriculum_requisites\" => Dict{String,Any}[Dict(\"source_id\" => 25,\"target_id\" => 29,\"type\" => \"CurriculumPrerequisite\")],\"name\" => \"AME 324B\",\"metrics\" => Dict{String,Any}(\"complexity\" => 6.0,\"centrality\" => 0,\"blocking factor\" => 0,\"delay factor\" => 6.0),\"nameSub\" => \"Eng. Component Design\",\"id\" => 29,\"credits\" => 3,\"nameCanonical\" => \"\"), Dict(\"curriculum_requisites\" => Dict{String,Any}[Dict(\"source_id\" => 23,\"target_id\" => 30,\"type\" => \"CurriculumCorequisite\"), Dict(\"source_id\" => 19,\"target_id\" => 30,\"type\" => \"CurriculumPrerequisite\"), Dict(\"source_id\" => 21,\"target_id\" => 30,\"type\" => \"CurriculumPrerequisite\")],\"name\" => \"AME 321\",\"metrics\" => Dict{String,Any}(\"complexity\" => 12.0,\"centrality\" => 174,\"blocking factor\" => 3,\"delay factor\" => 9.0),\"nameSub\" => \"Aircraft Performance\",\"id\" => 30,\"credits\" => 3,\"nameCanonical\" => \"\"), Dict(\"curriculum_requisites\" => Dict{String,Any}[Dict(\"source_id\" => 18,\"target_id\" => 31,\"type\" => \"CurriculumPrerequisite\"), Dict(\"source_id\" => 32,\"target_id\" => 31,\"type\" => \"CurriculumCorequisite\"), Dict(\"source_id\" => 21,\"target_id\" => 31,\"type\" => \"CurriculumPrerequisite\"), Dict(\"source_id\" => 20,\"target_id\" => 31,\"type\" => \"CurriculumPrerequisite\")],\"name\" => \"AME 323\",\"metrics\" => Dict{String,Any}(\"complexity\" => 13.0,\"centrality\" => 274,\"blocking factor\" => 4,\"delay factor\" => 9.0),\"nameSub\" => \"Gasdynamics\",\"id\" => 31,\"credits\" => 3,\"nameCanonical\" => \"\"), Dict(\"curriculum_requisites\" => Dict{String,Any}[Dict(\"source_id\" => 26,\"target_id\" => 32,\"type\" => \"CurriculumCorequisite\"), Dict(\"source_id\" => 19,\"target_id\" => 32,\"type\" => \"CurriculumPrerequisite\"), Dict(\"source_id\" => 15,\"target_id\" => 32,\"type\" => \"CurriculumPrerequisite\"), Dict(\"source_id\" => 20,\"target_id\" => 32,\"type\" => \"CurriculumPrerequisite\")],\"name\" => \"AME 302\",\"metrics\" => Dict{String,Any}(\"complexity\" => 15.0,\"centrality\" => 232,\"blocking factor\" => 6,\"delay factor\" => 9.0),\"nameSub\" => \"Numerical Methods\",\"id\" => 32,\"credits\" => 3,\"nameCanonical\" => \"\"), Dict(\"curriculum_requisites\" => Dict{String,Any}[],\"name\" => \"AME 313\",\"metrics\" => Dict{String,Any}(\"complexity\" => 5.0,\"centrality\" => 0,\"blocking factor\" => 2,\"delay factor\" => 3.0),\"nameSub\" => \"Aero./Mech. Eng. Lab\",\"id\" => 33,\"credits\" => 1,\"nameCanonical\" => \"\"), Dict(\"curriculum_requisites\" => Dict{String,Any}[],\"name\" => \" \",\"metrics\" => Dict{String,Any}(\"complexity\" => 1.0,\"centrality\" => 0,\"blocking factor\" => 0,\"delay factor\" => 1.0),\"nameSub\" => \"Tier II General Ed. 1\",\"id\" => 34,\"credits\" => 3,\"nameCanonical\" => \"\")],\"id\" => 6), Dict(\"name\" => \"Term 7\",\"curriculum_items\" => Dict{String,Any}[Dict(\"curriculum_requisites\" => Dict{String,Any}[Dict(\"source_id\" => 23,\"target_id\" => 35,\"type\" => \"CurriculumPrerequisite\"), Dict(\"source_id\" => 31,\"target_id\" => 35,\"type\" => \"CurriculumPrerequisite\"), Dict(\"source_id\" => 27,\"target_id\" => 35,\"type\" => \"CurriculumPrerequisite\")],\"name\" => \"AME 401\",\"metrics\" => Dict{String,Any}(\"complexity\" => 8.0,\"centrality\" => 0,\"blocking factor\" => 0,\"delay factor\" => 8.0),\"nameSub\" => \"Senior Aerospace Lab.\",\"id\" => 35,\"credits\" => 3,\"nameCanonical\" => \"\"), Dict(\"curriculum_requisites\" => Dict{String,Any}[Dict(\"source_id\" => 23,\"target_id\" => 36,\"type\" => \"CurriculumPrerequisite\"), Dict(\"source_id\" => 31,\"target_id\" => 36,\"type\" => \"CurriculumPrerequisite\"), Dict(\"source_id\" => 33,\"target_id\" => 36,\"type\" => \"CurriculumPrerequisite\"), Dict(\"source_id\" => 30,\"target_id\" => 36,\"type\" => \"CurriculumPrerequisite\")],\"name\" => \"AME 420\",\"metrics\" => Dict{String,Any}(\"complexity\" => 10.0,\"centrality\" => 240,\"blocking factor\" => 1,\"delay factor\" => 9.0),\"nameSub\" => \"Aerospace Conceptual Design\",\"id\" => 36,\"credits\" => 3,\"nameCanonical\" => \"\"), Dict(\"curriculum_requisites\" => Dict{String,Any}[Dict(\"source_id\" => 24,\"target_id\" => 37,\"type\" => \"CurriculumPrerequisite\"), Dict(\"source_id\" => 31,\"target_id\" => 37,\"type\" => \"CurriculumPrerequisite\"), Dict(\"source_id\" => 18,\"target_id\" => 37,\"type\" => \"CurriculumPrerequisite\")],\"name\" => \"AME 425\",\"metrics\" => Dict{String,Any}(\"complexity\" => 8.0,\"centrality\" => 0,\"blocking factor\" => 0,\"delay factor\" => 8.0),\"nameSub\" => \"Aerospace Propulsion\",\"id\" => 37,\"credits\" => 3,\"nameCanonical\" => \"\"), Dict(\"curriculum_requisites\" => Dict{String,Any}[Dict(\"source_id\" => 23,\"target_id\" => 38,\"type\" => \"CurriculumPrerequisite\"), Dict(\"source_id\" => 15,\"target_id\" => 38,\"type\" => \"CurriculumPrerequisite\"), Dict(\"source_id\" => 30,\"target_id\" => 38,\"type\" => \"CurriculumPrerequisite\")],\"name\" => \"AME 427\",\"metrics\" => Dict{String,Any}(\"complexity\" => 8.0,\"centrality\" => 0,\"blocking factor\" => 0,\"delay factor\" => 8.0),\"nameSub\" => \"Stability and Control of Aero. Vehicles\",\"id\" => 38,\"credits\" => 3,\"nameCanonical\" => \"\"), Dict(\"curriculum_requisites\" => Dict{String,Any}[Dict(\"source_id\" => 13,\"target_id\" => 39,\"type\" => \"CurriculumPrerequisite\"), Dict(\"source_id\" => 19,\"target_id\" => 39,\"type\" => \"CurriculumPrerequisite\")],\"name\" => \"AME 457\",\"metrics\" => Dict{String,Any}(\"complexity\" => 6.0,\"centrality\" => 0,\"blocking factor\" => 0,\"delay factor\" => 6.0),\"nameSub\" => \"Orbital Mechanicans and Space Flt.\",\"id\" => 39,\"credits\" => 3,\"nameCanonical\" => \"\"), Dict(\"curriculum_requisites\" => Dict{String,Any}[],\"name\" => \"AME 495S\",\"metrics\" => Dict{String,Any}(\"complexity\" => 1.0,\"centrality\" => 0,\"blocking factor\" => 0,\"delay factor\" => 1.0),\"nameSub\" => \"Senior Colloquium\",\"id\" => 40,\"credits\" => 1,\"nameCanonical\" => \"\")],\"id\" => 7), Dict(\"name\" => \"Term 8\",\"curriculum_items\" => Dict{String,Any}[Dict(\"curriculum_requisites\" => Dict{String,Any}[Dict(\"source_id\" => 36,\"target_id\" => 41,\"type\" => \"CurriculumPrerequisite\"), Dict(\"source_id\" => 33,\"target_id\" => 41,\"type\" => \"CurriculumCorequisite\")],\"name\" => \"AME 422\",\"metrics\" => Dict{String,Any}(\"complexity\" => 9.0,\"centrality\" => 0,\"blocking factor\" => 0,\"delay factor\" => 9.0),\"nameSub\" => \"Aerospace Eng.Design\",\"id\" => 41,\"credits\" => 3,\"nameCanonical\" => \"\"), Dict(\"curriculum_requisites\" => Dict{String,Any}[Dict(\"source_id\" => 24,\"target_id\" => 42,\"type\" => \"CurriculumPrerequisite\"), Dict(\"source_id\" => 32,\"target_id\" => 42,\"type\" => \"CurriculumPrerequisite\"), Dict(\"source_id\" => 18,\"target_id\" => 42,\"type\" => \"CurriculumPrerequisite\")],\"name\" => \"AME 431\",\"metrics\" => Dict{String,Any}(\"complexity\" => 7.0,\"centrality\" => 0,\"blocking factor\" => 0,\"delay factor\" => 7.0),\"nameSub\" => \"Num. Meth. in Fluid Mech. & Heat Xfer\",\"id\" => 42,\"credits\" => 3,\"nameCanonical\" => \"\"), Dict(\"curriculum_requisites\" => Dict{String,Any}[],\"name\" => \" \",\"metrics\" => Dict{String,Any}(\"complexity\" => 1.0,\"centrality\" => 0,\"blocking factor\" => 0,\"delay factor\" => 1.0),\"nameSub\" => \"Technical Elective 1\",\"id\" => 43,\"credits\" => 3,\"nameCanonical\" => \"\"), Dict(\"curriculum_requisites\" => Dict{String,Any}[],\"name\" => \" \",\"metrics\" => Dict{String,Any}(\"complexity\" => 1.0,\"centrality\" => 0,\"blocking factor\" => 0,\"delay factor\" => 1.0),\"nameSub\" => \"Technical Elective 2\",\"id\" => 44,\"credits\" => 3,\"nameCanonical\" => \"\"), Dict(\"curriculum_requisites\" => Dict{String,Any}[],\"name\" => \" \",\"metrics\" => Dict{String,Any}(\"complexity\" => 1.0,\"centrality\" => 0,\"blocking factor\" => 0,\"delay factor\" => 1.0),\"nameSub\" => \"Tier II General Ed. 2\",\"id\" => 45,\"credits\" => 3,\"nameCanonical\" => \"\")],\"id\" => 8)],\"institution\" => \"University of Arizona\")), nothing)), Set(String[]), nothing, WebIO.Asset[], Dict{Any,Any}(), WebIO.ConnectionPool(Channel{Any}(sz_max:32,sz_curr:0), Set(WebIO.AbstractConnection[]), Base.GenericCondition{Base.AlwaysLockedST}(Base.InvasiveLinkedList{Task}(Task (runnable) @0x000000010a42ef50, Task (runnable) @0x000000010a42ef50), Base.AlwaysLockedST(1))), WebIO.JSString[])"
      ]
     },
     "execution_count": 9,
     "metadata": {
      "application/vnd.webio.node+json": {
       "kernelId": "cb1d93c4-93e7-42e6-bb7b-5ba5ac413b8d"
      }
     },
     "output_type": "execute_result"
    }
   ],
   "source": [
    "BE_plan = plans[\"Biomedical Engineering\"]\n",
    "visualize(AE_plan, notebook=true)"
   ]
  },
  {
   "cell_type": "markdown",
   "metadata": {},
   "source": [
    "The `basic_metrics()` function can be used to output a set of basic metrics associatd with a curriculum. As an example, here are the basic curricular metrics associated with the Electrical Engineering and Computer Science programs:"
   ]
  },
  {
   "cell_type": "code",
   "execution_count": 10,
   "metadata": {},
   "outputs": [
    {
     "name": "stdout",
     "output_type": "stream",
     "text": [
      "\n",
      "University of Arizona \n",
      "Curriculum: Aerospace Engineering\n",
      "  credit hours = 129\n",
      "  number of courses = 45\n",
      "  Blocking Factor --\n",
      "    entire curriculum = 210\n",
      "    max. value = 29, for course(s): MATH 125 - Calculus I w/ Applications\n",
      "  Centrality --\n",
      "    entire curriculum = 3360\n",
      "    max. value = 388, for course(s): MATH 129 - Calculus II\n",
      "  Delay Factor --\n",
      "    entire curriculum = 251.0\n",
      "    max. value = 9.0, for course(s): MATH 125 - Calculus I w/ Applications, MATH 129 - Calculus II, PHYS 141 - Intro Mechanics, CE 214 - Statics, MATH  223 - Vector Calculus, AME 250 - Dynamics, MATH 254 - Intro. to ODEs, AME 220 - Intro. to Aerospace Eng., AME 320 - Aerodynamics, AME  324A - Mech. Behavior of Eng. Materials., AME 300 - Instrumentation Lab., AME 321 - Aircraft Performance, AME 323 - Gasdynamics, AME 302 - Numerical Methods, AME 420 - Aerospace Conceptual Design, AME 422 - Aerospace Eng.Design\n",
      "  Complexity --\n",
      "    entire curriculum = 461.0\n",
      "    max. value = 38.0, for course(s): MATH 125 - Calculus I w/ Applications\n",
      "  Longest Path(s) --\n",
      "    length = 9, number of paths = 6\n",
      "    path(s):\n",
      "    path 1 = MATH 125 - Calculus I w/ Applications -> MATH 129 - Calculus II -> MATH  223 - Vector Calculus -> MATH 254 - Intro. to ODEs -> AME 220 - Intro. to Aerospace Eng. -> AME 320 - Aerodynamics -> AME 321 - Aircraft Performance -> AME 420 - Aerospace Conceptual Design -> AME 422 - Aerospace Eng.Design\n",
      "    path 2 = MATH 125 - Calculus I w/ Applications -> MATH 129 - Calculus II -> CE 214 - Statics -> AME  324A - Mech. Behavior of Eng. Materials. -> AME 300 - Instrumentation Lab. -> AME 320 - Aerodynamics -> AME 321 - Aircraft Performance -> AME 420 - Aerospace Conceptual Design -> AME 422 - Aerospace Eng.Design\n",
      "    path 3 = MATH 125 - Calculus I w/ Applications -> PHYS 141 - Intro Mechanics -> CE 214 - Statics -> AME  324A - Mech. Behavior of Eng. Materials. -> AME 300 - Instrumentation Lab. -> AME 320 - Aerodynamics -> AME 321 - Aircraft Performance -> AME 420 - Aerospace Conceptual Design -> AME 422 - Aerospace Eng.Design\n",
      "    path 4 = MATH 125 - Calculus I w/ Applications -> MATH 129 - Calculus II -> MATH  223 - Vector Calculus -> MATH 254 - Intro. to ODEs -> AME 250 - Dynamics -> AME 302 - Numerical Methods -> AME 323 - Gasdynamics -> AME 420 - Aerospace Conceptual Design -> AME 422 - Aerospace Eng.Design\n",
      "    path 5 = MATH 125 - Calculus I w/ Applications -> MATH 129 - Calculus II -> CE 214 - Statics -> AME  324A - Mech. Behavior of Eng. Materials. -> AME 300 - Instrumentation Lab. -> AME 302 - Numerical Methods -> AME 323 - Gasdynamics -> AME 420 - Aerospace Conceptual Design -> AME 422 - Aerospace Eng.Design\n",
      "    path 6 = MATH 125 - Calculus I w/ Applications -> PHYS 141 - Intro Mechanics -> CE 214 - Statics -> AME  324A - Mech. Behavior of Eng. Materials. -> AME 300 - Instrumentation Lab. -> AME 302 - Numerical Methods -> AME 323 - Gasdynamics -> AME 420 - Aerospace Conceptual Design -> AME 422 - Aerospace Eng.Design\n",
      "\n"
     ]
    }
   ],
   "source": [
    "metrics = basic_metrics(AE_plan.curriculum)\n",
    "println(String(take!(metrics)))"
   ]
  },
  {
   "cell_type": "code",
   "execution_count": 10,
   "metadata": {
    "scrolled": false
   },
   "outputs": [
    {
     "data": {
      "image/svg+xml": [
       "<?xml version=\"1.0\" encoding=\"utf-8\"?>\n",
       "<svg xmlns=\"http://www.w3.org/2000/svg\" xmlns:xlink=\"http://www.w3.org/1999/xlink\" width=\"600\" height=\"400\" viewBox=\"0 0 2400 1600\">\n",
       "<defs>\n",
       "  <clipPath id=\"clip3000\">\n",
       "    <rect x=\"0\" y=\"0\" width=\"2400\" height=\"1600\"/>\n",
       "  </clipPath>\n",
       "</defs>\n",
       "<path clip-path=\"url(#clip3000)\" d=\"\n",
       "M0 1600 L2400 1600 L2400 0 L0 0  Z\n",
       "  \" fill=\"#ffffff\" fill-rule=\"evenodd\" fill-opacity=\"1\"/>\n",
       "<defs>\n",
       "  <clipPath id=\"clip3001\">\n",
       "    <rect x=\"480\" y=\"0\" width=\"1681\" height=\"1600\"/>\n",
       "  </clipPath>\n",
       "</defs>\n",
       "<path clip-path=\"url(#clip3000)\" d=\"\n",
       "M215.754 1425.62 L2352.76 1425.62 L2352.76 121.675 L215.754 121.675  Z\n",
       "  \" fill=\"#ffffff\" fill-rule=\"evenodd\" fill-opacity=\"1\"/>\n",
       "<defs>\n",
       "  <clipPath id=\"clip3002\">\n",
       "    <rect x=\"215\" y=\"121\" width=\"2138\" height=\"1305\"/>\n",
       "  </clipPath>\n",
       "</defs>\n",
       "<polyline clip-path=\"url(#clip3002)\" style=\"stroke:#000000; stroke-width:2; stroke-opacity:0.1; fill:none\" points=\"\n",
       "  215.754,1425.62 215.754,121.675 \n",
       "  \"/>\n",
       "<polyline clip-path=\"url(#clip3002)\" style=\"stroke:#000000; stroke-width:2; stroke-opacity:0.1; fill:none\" points=\"\n",
       "  643.154,1425.62 643.154,121.675 \n",
       "  \"/>\n",
       "<polyline clip-path=\"url(#clip3002)\" style=\"stroke:#000000; stroke-width:2; stroke-opacity:0.1; fill:none\" points=\"\n",
       "  1070.55,1425.62 1070.55,121.675 \n",
       "  \"/>\n",
       "<polyline clip-path=\"url(#clip3002)\" style=\"stroke:#000000; stroke-width:2; stroke-opacity:0.1; fill:none\" points=\"\n",
       "  1497.96,1425.62 1497.96,121.675 \n",
       "  \"/>\n",
       "<polyline clip-path=\"url(#clip3002)\" style=\"stroke:#000000; stroke-width:2; stroke-opacity:0.1; fill:none\" points=\"\n",
       "  1925.36,1425.62 1925.36,121.675 \n",
       "  \"/>\n",
       "<polyline clip-path=\"url(#clip3002)\" style=\"stroke:#000000; stroke-width:2; stroke-opacity:0.1; fill:none\" points=\"\n",
       "  2352.76,1425.62 2352.76,121.675 \n",
       "  \"/>\n",
       "<polyline clip-path=\"url(#clip3002)\" style=\"stroke:#000000; stroke-width:2; stroke-opacity:0.1; fill:none\" points=\"\n",
       "  215.754,1425.62 2352.76,1425.62 \n",
       "  \"/>\n",
       "<polyline clip-path=\"url(#clip3002)\" style=\"stroke:#000000; stroke-width:2; stroke-opacity:0.1; fill:none\" points=\"\n",
       "  215.754,1164.83 2352.76,1164.83 \n",
       "  \"/>\n",
       "<polyline clip-path=\"url(#clip3002)\" style=\"stroke:#000000; stroke-width:2; stroke-opacity:0.1; fill:none\" points=\"\n",
       "  215.754,904.041 2352.76,904.041 \n",
       "  \"/>\n",
       "<polyline clip-path=\"url(#clip3002)\" style=\"stroke:#000000; stroke-width:2; stroke-opacity:0.1; fill:none\" points=\"\n",
       "  215.754,643.253 2352.76,643.253 \n",
       "  \"/>\n",
       "<polyline clip-path=\"url(#clip3002)\" style=\"stroke:#000000; stroke-width:2; stroke-opacity:0.1; fill:none\" points=\"\n",
       "  215.754,382.464 2352.76,382.464 \n",
       "  \"/>\n",
       "<polyline clip-path=\"url(#clip3002)\" style=\"stroke:#000000; stroke-width:2; stroke-opacity:0.1; fill:none\" points=\"\n",
       "  215.754,121.675 2352.76,121.675 \n",
       "  \"/>\n",
       "<polyline clip-path=\"url(#clip3000)\" style=\"stroke:#000000; stroke-width:4; stroke-opacity:1; fill:none\" points=\"\n",
       "  215.754,1425.62 2352.76,1425.62 \n",
       "  \"/>\n",
       "<polyline clip-path=\"url(#clip3000)\" style=\"stroke:#000000; stroke-width:4; stroke-opacity:1; fill:none\" points=\"\n",
       "  215.754,1425.62 215.754,121.675 \n",
       "  \"/>\n",
       "<polyline clip-path=\"url(#clip3000)\" style=\"stroke:#000000; stroke-width:4; stroke-opacity:1; fill:none\" points=\"\n",
       "  215.754,1425.62 215.754,1409.97 \n",
       "  \"/>\n",
       "<polyline clip-path=\"url(#clip3000)\" style=\"stroke:#000000; stroke-width:4; stroke-opacity:1; fill:none\" points=\"\n",
       "  643.154,1425.62 643.154,1409.97 \n",
       "  \"/>\n",
       "<polyline clip-path=\"url(#clip3000)\" style=\"stroke:#000000; stroke-width:4; stroke-opacity:1; fill:none\" points=\"\n",
       "  1070.55,1425.62 1070.55,1409.97 \n",
       "  \"/>\n",
       "<polyline clip-path=\"url(#clip3000)\" style=\"stroke:#000000; stroke-width:4; stroke-opacity:1; fill:none\" points=\"\n",
       "  1497.96,1425.62 1497.96,1409.97 \n",
       "  \"/>\n",
       "<polyline clip-path=\"url(#clip3000)\" style=\"stroke:#000000; stroke-width:4; stroke-opacity:1; fill:none\" points=\"\n",
       "  1925.36,1425.62 1925.36,1409.97 \n",
       "  \"/>\n",
       "<polyline clip-path=\"url(#clip3000)\" style=\"stroke:#000000; stroke-width:4; stroke-opacity:1; fill:none\" points=\"\n",
       "  2352.76,1425.62 2352.76,1409.97 \n",
       "  \"/>\n",
       "<polyline clip-path=\"url(#clip3000)\" style=\"stroke:#000000; stroke-width:4; stroke-opacity:1; fill:none\" points=\"\n",
       "  215.754,1425.62 241.398,1425.62 \n",
       "  \"/>\n",
       "<polyline clip-path=\"url(#clip3000)\" style=\"stroke:#000000; stroke-width:4; stroke-opacity:1; fill:none\" points=\"\n",
       "  215.754,1164.83 241.398,1164.83 \n",
       "  \"/>\n",
       "<polyline clip-path=\"url(#clip3000)\" style=\"stroke:#000000; stroke-width:4; stroke-opacity:1; fill:none\" points=\"\n",
       "  215.754,904.041 241.398,904.041 \n",
       "  \"/>\n",
       "<polyline clip-path=\"url(#clip3000)\" style=\"stroke:#000000; stroke-width:4; stroke-opacity:1; fill:none\" points=\"\n",
       "  215.754,643.253 241.398,643.253 \n",
       "  \"/>\n",
       "<polyline clip-path=\"url(#clip3000)\" style=\"stroke:#000000; stroke-width:4; stroke-opacity:1; fill:none\" points=\"\n",
       "  215.754,382.464 241.398,382.464 \n",
       "  \"/>\n",
       "<polyline clip-path=\"url(#clip3000)\" style=\"stroke:#000000; stroke-width:4; stroke-opacity:1; fill:none\" points=\"\n",
       "  215.754,121.675 241.398,121.675 \n",
       "  \"/>\n",
       "<g clip-path=\"url(#clip3000)\">\n",
       "<text style=\"fill:#000000; fill-opacity:1; font-family:Arial,Helvetica Neue,Helvetica,sans-serif; font-size:48px; text-anchor:middle;\" transform=\"rotate(0, 215.754, 1479.62)\" x=\"215.754\" y=\"1479.62\">0</text>\n",
       "</g>\n",
       "<g clip-path=\"url(#clip3000)\">\n",
       "<text style=\"fill:#000000; fill-opacity:1; font-family:Arial,Helvetica Neue,Helvetica,sans-serif; font-size:48px; text-anchor:middle;\" transform=\"rotate(0, 643.154, 1479.62)\" x=\"643.154\" y=\"1479.62\">100</text>\n",
       "</g>\n",
       "<g clip-path=\"url(#clip3000)\">\n",
       "<text style=\"fill:#000000; fill-opacity:1; font-family:Arial,Helvetica Neue,Helvetica,sans-serif; font-size:48px; text-anchor:middle;\" transform=\"rotate(0, 1070.55, 1479.62)\" x=\"1070.55\" y=\"1479.62\">200</text>\n",
       "</g>\n",
       "<g clip-path=\"url(#clip3000)\">\n",
       "<text style=\"fill:#000000; fill-opacity:1; font-family:Arial,Helvetica Neue,Helvetica,sans-serif; font-size:48px; text-anchor:middle;\" transform=\"rotate(0, 1497.96, 1479.62)\" x=\"1497.96\" y=\"1479.62\">300</text>\n",
       "</g>\n",
       "<g clip-path=\"url(#clip3000)\">\n",
       "<text style=\"fill:#000000; fill-opacity:1; font-family:Arial,Helvetica Neue,Helvetica,sans-serif; font-size:48px; text-anchor:middle;\" transform=\"rotate(0, 1925.36, 1479.62)\" x=\"1925.36\" y=\"1479.62\">400</text>\n",
       "</g>\n",
       "<g clip-path=\"url(#clip3000)\">\n",
       "<text style=\"fill:#000000; fill-opacity:1; font-family:Arial,Helvetica Neue,Helvetica,sans-serif; font-size:48px; text-anchor:middle;\" transform=\"rotate(0, 2352.76, 1479.62)\" x=\"2352.76\" y=\"1479.62\">500</text>\n",
       "</g>\n",
       "<g clip-path=\"url(#clip3000)\">\n",
       "<text style=\"fill:#000000; fill-opacity:1; font-family:Arial,Helvetica Neue,Helvetica,sans-serif; font-size:48px; text-anchor:end;\" transform=\"rotate(0, 191.754, 1443.12)\" x=\"191.754\" y=\"1443.12\">0.0</text>\n",
       "</g>\n",
       "<g clip-path=\"url(#clip3000)\">\n",
       "<text style=\"fill:#000000; fill-opacity:1; font-family:Arial,Helvetica Neue,Helvetica,sans-serif; font-size:48px; text-anchor:end;\" transform=\"rotate(0, 191.754, 1182.33)\" x=\"191.754\" y=\"1182.33\">0.2</text>\n",
       "</g>\n",
       "<g clip-path=\"url(#clip3000)\">\n",
       "<text style=\"fill:#000000; fill-opacity:1; font-family:Arial,Helvetica Neue,Helvetica,sans-serif; font-size:48px; text-anchor:end;\" transform=\"rotate(0, 191.754, 921.541)\" x=\"191.754\" y=\"921.541\">0.4</text>\n",
       "</g>\n",
       "<g clip-path=\"url(#clip3000)\">\n",
       "<text style=\"fill:#000000; fill-opacity:1; font-family:Arial,Helvetica Neue,Helvetica,sans-serif; font-size:48px; text-anchor:end;\" transform=\"rotate(0, 191.754, 660.753)\" x=\"191.754\" y=\"660.753\">0.6</text>\n",
       "</g>\n",
       "<g clip-path=\"url(#clip3000)\">\n",
       "<text style=\"fill:#000000; fill-opacity:1; font-family:Arial,Helvetica Neue,Helvetica,sans-serif; font-size:48px; text-anchor:end;\" transform=\"rotate(0, 191.754, 399.964)\" x=\"191.754\" y=\"399.964\">0.8</text>\n",
       "</g>\n",
       "<g clip-path=\"url(#clip3000)\">\n",
       "<text style=\"fill:#000000; fill-opacity:1; font-family:Arial,Helvetica Neue,Helvetica,sans-serif; font-size:48px; text-anchor:end;\" transform=\"rotate(0, 191.754, 139.175)\" x=\"191.754\" y=\"139.175\">1.0</text>\n",
       "</g>\n",
       "<g clip-path=\"url(#clip3000)\">\n",
       "<text style=\"fill:#000000; fill-opacity:1; font-family:Arial,Helvetica Neue,Helvetica,sans-serif; font-size:84px; text-anchor:middle;\" transform=\"rotate(0, 1284.25, 73.2)\" x=\"1284.25\" y=\"73.2\"> Programs</text>\n",
       "</g>\n",
       "<g clip-path=\"url(#clip3000)\">\n",
       "<text style=\"fill:#000000; fill-opacity:1; font-family:Arial,Helvetica Neue,Helvetica,sans-serif; font-size:66px; text-anchor:middle;\" transform=\"rotate(0, 1284.25, 1559.48)\" x=\"1284.25\" y=\"1559.48\">complexity</text>\n",
       "</g>\n",
       "<g clip-path=\"url(#clip3000)\">\n",
       "<text style=\"fill:#000000; fill-opacity:1; font-family:Arial,Helvetica Neue,Helvetica,sans-serif; font-size:66px; text-anchor:middle;\" transform=\"rotate(-90, 89.2861, 773.647)\" x=\"89.2861\" y=\"773.647\"># of curricula</text>\n",
       "</g>\n",
       "</svg>\n"
      ]
     },
     "metadata": {},
     "output_type": "display_data"
    }
   ],
   "source": [
    "curricula = Array{Curriculum,1}()\n",
    "metric = \"complexity\"\n",
    "for (key, val) in plans\n",
    "    push!(curricula, val.curriculum)\n",
    "end\n",
    "display(metric_histogram(curricula, metric, title=\" Programs\", xlabel=\"$(metric)\", ylabel=\"# of curricula\", xlim=(0,500)))"
   ]
  },
  {
   "cell_type": "markdown",
   "metadata": {},
   "source": [
    "# Extraneous Prerequisites\n",
    "The following function will find prerequisites in a curriculum.  These are redundant prerequisites that are unnecessary in a curriculum.  For example, if a curriculum has the prerequisite \n",
    "relationships $c_1 \\rightarrow c_2 \\rightarrow c_3$ and $c_1 \\rightarrow c_3$, and $c_1$ and $c_2$ are \n",
    "*not* co-requisites, then $c_1 \\rightarrow c_3$ is redundant and therefore extraneous.  Extraneous prerequisites do not effect the curricular complexity metric, they simply are unnecessary clutter in a curriculum or degree plan."
   ]
  },
  {
   "cell_type": "code",
   "execution_count": 11,
   "metadata": {},
   "outputs": [],
   "source": [
    "for plan in plans\n",
    "    extraneous_requisites(plan[2].curriculum, print=true)\n",
    "end"
   ]
  },
  {
   "cell_type": "markdown",
   "metadata": {},
   "source": [
    "The extraneous prerequisite in this case is the MATH 129: Calculus II course associated ECE 220: Basic Circuits.  Because PHYS 241: Electricity & Magnetism is a prerequisite for Basic Circuits, and Calculus II is a prerequisite for Electricity & Magnetism, the Calculus II prerequisite associated with Basic Circuits is redundant and unnecessary."
   ]
  },
  {
   "cell_type": "markdown",
   "metadata": {},
   "source": [
    "## Dead End Courses\n",
    "The following function can be used to find \"dead end\" courses in a curricula.  Dead end courses are those that appear at the end of a path (i.e., sink vertices), and are not a part of a course associated with the major.  E.g., in the case of the ECE curriculum above, these would be courses at the end of a path that do not have the \"ECE\" or \"ENGR\" prefix.  One might consider these courses dead ends, as their course outcomes are not (formally) used by any \n",
    "major-specific course, i.e., by any course with the prefix \"ECE.\""
   ]
  },
  {
   "cell_type": "code",
   "execution_count": 12,
   "metadata": {},
   "outputs": [],
   "source": [
    "prefixes = Dict{String, Array{String,1}}()\n",
    "prefixes[\"Aerospace Engineering\"] = [\"ENGR\", \"AME\"]\n",
    "prefixes[\"Architectural Engineering\"] = [\"ENGR\", \"ARCE\"]\n",
    "prefixes[\"Biomedical Engineering\"] = [\"ENGR\", \"BME\"]\n",
    "prefixes[\"Biosystems Engineering\"] = [\"ENGR\", \"BE\"]\n",
    "prefixes[\"Civil Engineering\"] = [\"ENGR\", \"CE\"]\n",
    "prefixes[\"Chemical Engineering\"] = [\"ENGR\", \"CHEE\"]\n",
    "prefixes[\"Computer Engineering\"] = [\"ENGR\", \"ECE\"]\n",
    "prefixes[\"Electrical Engineering\"] = [\"ENGR\", \"ECE\"]\n",
    "prefixes[\"Engineering Management\"] = [\"ENGR\", \"SIE\"]\n",
    "prefixes[\"Industrial Engineering\"] = [\"ENGR\", \"SIE\"]\n",
    "prefixes[\"Mechanical Engineering\"] = [\"ENGR\", \"AME\"]\n",
    "prefixes[\"Mining Engineering-Mine Operations Track\"] = [\"ENGR\", \"MNE\"]\n",
    "prefixes[\"Optical Engineering\"] = [\"ENGR\", \"OPTI\"]\n",
    "prefixes[\"Systems Engineering\"] = [\"ENGR\", \"SIE\"];"
   ]
  },
  {
   "cell_type": "code",
   "execution_count": 13,
   "metadata": {
    "scrolled": true
   },
   "outputs": [],
   "source": [
    "for plan in plans\n",
    "    de = dead_ends(plan[2].curriculum, prefixes[plan[2].curriculum.name])\n",
    "    println(\"\\nDead end courses in the $(plan[2].curriculum.name) curriculum:\")\n",
    "    for course in de[2]\n",
    "        println(\"$(course.prefix) $(course.num): $(course.name)\")\n",
    "    end\n",
    "end"
   ]
  },
  {
   "cell_type": "markdown",
   "metadata": {},
   "source": [
    "# Degree Plan Optimization \n",
    "The Curricular Analytics toolbox contains a number of functions that will create different degree plans for a curriculum depending upon various optimization criteria.  In order to use these functions, you must first install the Gourbi solver, called [Gurobi Optimizer](https://www.gurobi.com/downloads/gurobi-optimizer-eula). Gurobi is a commercial product, and requires a license key; however, [academic licenses](https://www.gurobi.com/downloads/end-user-license-agreement-academic) are available at no cost."
   ]
  },
  {
   "cell_type": "code",
   "execution_count": 14,
   "metadata": {},
   "outputs": [],
   "source": [
    "# Uncomment the following two lines if the Gurobi package has not yet been included in your Julia environment.\n",
    "#using Pkg\n",
    "#Pkg.add(\"Gurobi\")\n",
    "using Gurobi"
   ]
  },
  {
   "cell_type": "code",
   "execution_count": 15,
   "metadata": {},
   "outputs": [
    {
     "ename": "UndefVarError",
     "evalue": "UndefVarError: AE_plan not defined",
     "output_type": "error",
     "traceback": [
      "UndefVarError: AE_plan not defined",
      "",
      "Stacktrace:",
      " [1] top-level scope at In[15]:1"
     ]
    }
   ],
   "source": [
    "metrics = basic_metrics(AE_plan)\n",
    "println(String(take!(metrics)))"
   ]
  },
  {
   "cell_type": "code",
   "execution_count": 16,
   "metadata": {
    "scrolled": false
   },
   "outputs": [
    {
     "name": "stdout",
     "output_type": "stream",
     "text": [
      "Academic license - for non-commercial use only\n",
      "An optimal solution was found with objective value = 14.0\n"
     ]
    },
    {
     "data": {
      "application/vnd.webio.node+json": {
       "children": [
        {
         "children": [
          ""
         ],
         "instanceArgs": {
          "namespace": "html",
          "tag": "iframe"
         },
         "nodeType": "DOM",
         "props": {
          "events": {
           "load": "(function (){this.contentWindow.postMessage({\"options\":{\"hideTerms\":false,\"edit\":false},\"curriculum\":{\"name\":\"Aerospace Engineering\",\"dp_name\":\"\",\"curriculum_terms\":[{\"name\":\"Term 1\",\"curriculum_items\":[{\"curriculum_requisites\":[],\"name\":\"CHEM 151\",\"metrics\":{\"complexity\":5.0,\"centrality\":0,\"blocking factor\":2,\"delay factor\":3.0},\"nameSub\":\"Gen Chemistry I\",\"id\":2,\"credits\":4,\"nameCanonical\":\"\"},{\"curriculum_requisites\":[],\"name\":\" \",\"metrics\":{\"complexity\":1.0,\"centrality\":0,\"blocking factor\":0,\"delay factor\":1.0},\"nameSub\":\"Tier I General Ed. 1\",\"id\":11,\"credits\":3,\"nameCanonical\":\"\"},{\"curriculum_requisites\":[{\"source_id\":1,\"target_id\":4,\"type\":\"CurriculumCorequisite\"}],\"name\":\"ENGR 102\",\"metrics\":{\"complexity\":2.0,\"centrality\":0,\"blocking factor\":0,\"delay factor\":2.0},\"nameSub\":\"Intro to Engineering\",\"id\":4,\"credits\":3,\"nameCanonical\":\"\"},{\"curriculum_requisites\":[],\"name\":\"MATH 125\",\"metrics\":{\"complexity\":38.0,\"centrality\":0,\"blocking factor\":29,\"delay factor\":9.0},\"nameSub\":\"Calculus I w/ Applications\",\"id\":1,\"credits\":3,\"nameCanonical\":\"\"},{\"curriculum_requisites\":[],\"name\":\"ENGL 101\",\"metrics\":{\"complexity\":3.0,\"centrality\":0,\"blocking factor\":1,\"delay factor\":2.0},\"nameSub\":\"First-year Comp.\",\"id\":3,\"credits\":3,\"nameCanonical\":\"\"}],\"id\":1},{\"name\":\"Term 2\",\"curriculum_items\":[{\"curriculum_requisites\":[{\"source_id\":1,\"target_id\":8,\"type\":\"CurriculumPrerequisite\"}],\"name\":\"PHYS 141\",\"metrics\":{\"complexity\":27.0,\"centrality\":272,\"blocking factor\":18,\"delay factor\":9.0},\"nameSub\":\"Intro Mechanics\",\"id\":8,\"credits\":4,\"nameCanonical\":\"\"},{\"curriculum_requisites\":[],\"name\":\" \",\"metrics\":{\"complexity\":1.0,\"centrality\":0,\"blocking factor\":0,\"delay factor\":1.0},\"nameSub\":\"Tier I General Ed. 2\",\"id\":17,\"credits\":3,\"nameCanonical\":\"\"},{\"curriculum_requisites\":[{\"source_id\":1,\"target_id\":10,\"type\":\"CurriculumCorequisite\"}],\"name\":\"ECE 175\",\"metrics\":{\"complexity\":2.0,\"centrality\":0,\"blocking factor\":0,\"delay factor\":2.0},\"nameSub\":\"Programming for Eng. Apps.\",\"id\":10,\"credits\":3,\"nameCanonical\":\"\"},{\"curriculum_requisites\":[{\"source_id\":1,\"target_id\":6,\"type\":\"CurriculumPrerequisite\"}],\"name\":\"MATH 129\",\"metrics\":{\"complexity\":31.0,\"centrality\":388,\"blocking factor\":22,\"delay factor\":9.0},\"nameSub\":\"Calculus II\",\"id\":6,\"credits\":3,\"nameCanonical\":\"\"},{\"curriculum_requisites\":[],\"name\":\" \",\"metrics\":{\"complexity\":1.0,\"centrality\":0,\"blocking factor\":0,\"delay factor\":1.0},\"nameSub\":\"Tier I General Ed.\",\"id\":5,\"credits\":3,\"nameCanonical\":\"\"}],\"id\":2},{\"name\":\"Term 3\",\"curriculum_items\":[{\"curriculum_requisites\":[{\"source_id\":8,\"target_id\":14,\"type\":\"CurriculumPrerequisite\"},{\"source_id\":6,\"target_id\":14,\"type\":\"CurriculumPrerequisite\"}],\"name\":\"PHYS 241\",\"metrics\":{\"complexity\":3.0,\"centrality\":0,\"blocking factor\":0,\"delay factor\":3.0},\"nameSub\":\"Electricity & Magnetism\",\"id\":14,\"credits\":4,\"nameCanonical\":\"\"},{\"curriculum_requisites\":[{\"source_id\":8,\"target_id\":18,\"type\":\"CurriculumPrerequisite\"}],\"name\":\"AME 230\",\"metrics\":{\"complexity\":19.0,\"centrality\":86,\"blocking factor\":11,\"delay factor\":8.0},\"nameSub\":\"Thermodynamics\",\"id\":18,\"credits\":3,\"nameCanonical\":\"\"},{\"curriculum_requisites\":[{\"source_id\":6,\"target_id\":13,\"type\":\"CurriculumPrerequisite\"}],\"name\":\"MATH  223\",\"metrics\":{\"complexity\":26.0,\"centrality\":258,\"blocking factor\":17,\"delay factor\":9.0},\"nameSub\":\"Vector Calculus\",\"id\":13,\"credits\":4,\"nameCanonical\":\"\"},{\"curriculum_requisites\":[{\"source_id\":3,\"target_id\":9,\"type\":\"CurriculumPrerequisite\"}],\"name\":\"ENGL 102\",\"metrics\":{\"complexity\":2.0,\"centrality\":0,\"blocking factor\":0,\"delay factor\":2.0},\"nameSub\":\"First-year Comp.\",\"id\":9,\"credits\":3,\"nameCanonical\":\"\"},{\"curriculum_requisites\":[{\"source_id\":8,\"target_id\":12,\"type\":\"CurriculumPrerequisite\"},{\"source_id\":6,\"target_id\":12,\"type\":\"CurriculumPrerequisite\"}],\"name\":\"CE 214\",\"metrics\":{\"complexity\":23.0,\"centrality\":254,\"blocking factor\":14,\"delay factor\":9.0},\"nameSub\":\"Statics\",\"id\":12,\"credits\":3,\"nameCanonical\":\"\"}],\"id\":3},{\"name\":\"Term 4\",\"curriculum_items\":[{\"curriculum_requisites\":[{\"source_id\":13,\"target_id\":20,\"type\":\"CurriculumPrerequisite\"}],\"name\":\"MATH 254\",\"metrics\":{\"complexity\":25.0,\"centrality\":188,\"blocking factor\":16,\"delay factor\":9.0},\"nameSub\":\"Intro. to ODEs\",\"id\":20,\"credits\":3,\"nameCanonical\":\"\"},{\"curriculum_requisites\":[],\"name\":\" \",\"metrics\":{\"complexity\":1.0,\"centrality\":0,\"blocking factor\":0,\"delay factor\":1.0},\"nameSub\":\"Technical Elective 2\",\"id\":44,\"credits\":3,\"nameCanonical\":\"\"},{\"curriculum_requisites\":[{\"source_id\":1,\"target_id\":7,\"type\":\"CurriculumPrerequisite\"}],\"name\":\"AME 105\",\"metrics\":{\"complexity\":16.0,\"centrality\":28,\"blocking factor\":9,\"delay factor\":7.0},\"nameSub\":\"Intro. to MATLAB I\",\"id\":7,\"credits\":1,\"nameCanonical\":\"\"},{\"curriculum_requisites\":[],\"name\":\" \",\"metrics\":{\"complexity\":1.0,\"centrality\":0,\"blocking factor\":0,\"delay factor\":1.0},\"nameSub\":\"Technical Elective 1\",\"id\":43,\"credits\":3,\"nameCanonical\":\"\"},{\"curriculum_requisites\":[],\"name\":\" \",\"metrics\":{\"complexity\":1.0,\"centrality\":0,\"blocking factor\":0,\"delay factor\":1.0},\"nameSub\":\"Tier II General Ed. 1\",\"id\":34,\"credits\":3,\"nameCanonical\":\"\"},{\"curriculum_requisites\":[{\"source_id\":13,\"target_id\":21,\"type\":\"CurriculumPrerequisite\"},{\"source_id\":8,\"target_id\":21,\"type\":\"CurriculumPrerequisite\"},{\"source_id\":20,\"target_id\":21,\"type\":\"CurriculumCorequisite\"}],\"name\":\"AME 220\",\"metrics\":{\"complexity\":17.0,\"centrality\":198,\"blocking factor\":8,\"delay factor\":9.0},\"nameSub\":\"Intro. to Aerospace Eng.\",\"id\":21,\"credits\":3,\"nameCanonical\":\"\"}],\"id\":4},{\"name\":\"Term 5\",\"curriculum_items\":[{\"curriculum_requisites\":[{\"source_id\":20,\"target_id\":25,\"type\":\"CurriculumPrerequisite\"}],\"name\":\"AME 301\",\"metrics\":{\"complexity\":8.0,\"centrality\":12,\"blocking factor\":2,\"delay factor\":6.0},\"nameSub\":\"Engineering Analysis\",\"id\":25,\"credits\":3,\"nameCanonical\":\"\"},{\"curriculum_requisites\":[{\"source_id\":18,\"target_id\":26,\"type\":\"CurriculumCorequisite\"},{\"source_id\":24,\"target_id\":26,\"type\":\"CurriculumCorequisite\"}],\"name\":\"AME 300\",\"metrics\":{\"complexity\":19.0,\"centrality\":204,\"blocking factor\":10,\"delay factor\":9.0},\"nameSub\":\"Instrumentation Lab.\",\"id\":26,\"credits\":3,\"nameCanonical\":\"\"},{\"curriculum_requisites\":[{\"source_id\":12,\"target_id\":19,\"type\":\"CurriculumPrerequisite\"},{\"source_id\":20,\"target_id\":19,\"type\":\"CurriculumCorequisite\"}],\"name\":\"AME 250\",\"metrics\":{\"complexity\":19.0,\"centrality\":145,\"blocking factor\":10,\"delay factor\":9.0},\"nameSub\":\"Dynamics\",\"id\":19,\"credits\":3,\"nameCanonical\":\"\"},{\"curriculum_requisites\":[{\"source_id\":12,\"target_id\":24,\"type\":\"CurriculumPrerequisite\"}],\"name\":\"AME  324A\",\"metrics\":{\"complexity\":20.0,\"centrality\":162,\"blocking factor\":11,\"delay factor\":9.0},\"nameSub\":\"Mech. Behavior of Eng. Materials.\",\"id\":24,\"credits\":3,\"nameCanonical\":\"\"},{\"curriculum_requisites\":[{\"source_id\":2,\"target_id\":27,\"type\":\"CurriculumPrerequisite\"}],\"name\":\"MSE 331R\",\"metrics\":{\"complexity\":4.0,\"centrality\":3,\"blocking factor\":1,\"delay factor\":3.0},\"nameSub\":\"Fund. of Materials for Engineers\",\"id\":27,\"credits\":3,\"nameCanonical\":\"\"},{\"curriculum_requisites\":[{\"source_id\":7,\"target_id\":15,\"type\":\"CurriculumPrerequisite\"}],\"name\":\"AME  205\",\"metrics\":{\"complexity\":15.0,\"centrality\":28,\"blocking factor\":8,\"delay factor\":7.0},\"nameSub\":\"Intro. To MATLAB II\",\"id\":15,\"credits\":1,\"nameCanonical\":\"\"}],\"id\":5},{\"name\":\"Term 6\",\"curriculum_items\":[{\"curriculum_requisites\":[{\"source_id\":18,\"target_id\":31,\"type\":\"CurriculumPrerequisite\"},{\"source_id\":32,\"target_id\":31,\"type\":\"CurriculumCorequisite\"},{\"source_id\":21,\"target_id\":31,\"type\":\"CurriculumPrerequisite\"},{\"source_id\":20,\"target_id\":31,\"type\":\"CurriculumPrerequisite\"}],\"name\":\"AME 323\",\"metrics\":{\"complexity\":13.0,\"centrality\":274,\"blocking factor\":4,\"delay factor\":9.0},\"nameSub\":\"Gasdynamics\",\"id\":31,\"credits\":3,\"nameCanonical\":\"\"},{\"curriculum_requisites\":[],\"name\":\"AME 313\",\"metrics\":{\"complexity\":5.0,\"centrality\":0,\"blocking factor\":2,\"delay factor\":3.0},\"nameSub\":\"Aero./Mech. Eng. Lab\",\"id\":33,\"credits\":1,\"nameCanonical\":\"\"},{\"curriculum_requisites\":[],\"name\":\" \",\"metrics\":{\"complexity\":1.0,\"centrality\":0,\"blocking factor\":0,\"delay factor\":1.0},\"nameSub\":\"Tier II General Ed. 2\",\"id\":45,\"credits\":3,\"nameCanonical\":\"\"},{\"curriculum_requisites\":[{\"source_id\":23,\"target_id\":30,\"type\":\"CurriculumCorequisite\"},{\"source_id\":19,\"target_id\":30,\"type\":\"CurriculumPrerequisite\"},{\"source_id\":21,\"target_id\":30,\"type\":\"CurriculumPrerequisite\"}],\"name\":\"AME 321\",\"metrics\":{\"complexity\":12.0,\"centrality\":174,\"blocking factor\":3,\"delay factor\":9.0},\"nameSub\":\"Aircraft Performance\",\"id\":30,\"credits\":3,\"nameCanonical\":\"\"},{\"curriculum_requisites\":[{\"source_id\":26,\"target_id\":32,\"type\":\"CurriculumCorequisite\"},{\"source_id\":19,\"target_id\":32,\"type\":\"CurriculumPrerequisite\"},{\"source_id\":15,\"target_id\":32,\"type\":\"CurriculumPrerequisite\"},{\"source_id\":20,\"target_id\":32,\"type\":\"CurriculumPrerequisite\"}],\"name\":\"AME 302\",\"metrics\":{\"complexity\":15.0,\"centrality\":232,\"blocking factor\":6,\"delay factor\":9.0},\"nameSub\":\"Numerical Methods\",\"id\":32,\"credits\":3,\"nameCanonical\":\"\"},{\"curriculum_requisites\":[{\"source_id\":26,\"target_id\":23,\"type\":\"CurriculumCorequisite\"},{\"source_id\":21,\"target_id\":23,\"type\":\"CurriculumPrerequisite\"}],\"name\":\"AME 320\",\"metrics\":{\"complexity\":14.0,\"centrality\":214,\"blocking factor\":5,\"delay factor\":9.0},\"nameSub\":\"Aerodynamics\",\"id\":23,\"credits\":3,\"nameCanonical\":\"\"}],\"id\":6},{\"name\":\"Term 7\",\"curriculum_items\":[{\"curriculum_requisites\":[{\"source_id\":23,\"target_id\":35,\"type\":\"CurriculumPrerequisite\"},{\"source_id\":31,\"target_id\":35,\"type\":\"CurriculumPrerequisite\"},{\"source_id\":27,\"target_id\":35,\"type\":\"CurriculumPrerequisite\"}],\"name\":\"AME 401\",\"metrics\":{\"complexity\":8.0,\"centrality\":0,\"blocking factor\":0,\"delay factor\":8.0},\"nameSub\":\"Senior Aerospace Lab.\",\"id\":35,\"credits\":3,\"nameCanonical\":\"\"},{\"curriculum_requisites\":[],\"name\":\"AME 495S\",\"metrics\":{\"complexity\":1.0,\"centrality\":0,\"blocking factor\":0,\"delay factor\":1.0},\"nameSub\":\"Senior Colloquium\",\"id\":40,\"credits\":1,\"nameCanonical\":\"\"},{\"curriculum_requisites\":[{\"source_id\":23,\"target_id\":38,\"type\":\"CurriculumPrerequisite\"},{\"source_id\":15,\"target_id\":38,\"type\":\"CurriculumPrerequisite\"},{\"source_id\":30,\"target_id\":38,\"type\":\"CurriculumPrerequisite\"}],\"name\":\"AME 427\",\"metrics\":{\"complexity\":8.0,\"centrality\":0,\"blocking factor\":0,\"delay factor\":8.0},\"nameSub\":\"Stability and Control of Aero. Vehicles\",\"id\":38,\"credits\":3,\"nameCanonical\":\"\"},{\"curriculum_requisites\":[{\"source_id\":23,\"target_id\":36,\"type\":\"CurriculumPrerequisite\"},{\"source_id\":31,\"target_id\":36,\"type\":\"CurriculumPrerequisite\"},{\"source_id\":33,\"target_id\":36,\"type\":\"CurriculumPrerequisite\"},{\"source_id\":30,\"target_id\":36,\"type\":\"CurriculumPrerequisite\"}],\"name\":\"AME 420\",\"metrics\":{\"complexity\":10.0,\"centrality\":240,\"blocking factor\":1,\"delay factor\":9.0},\"nameSub\":\"Aerospace Conceptual Design\",\"id\":36,\"credits\":3,\"nameCanonical\":\"\"},{\"curriculum_requisites\":[],\"name\":\"AME 211\",\"metrics\":{\"complexity\":1.0,\"centrality\":0,\"blocking factor\":0,\"delay factor\":1.0},\"nameSub\":\"Comp. Aided Drafting & Manufacturing\",\"id\":16,\"credits\":3,\"nameCanonical\":\"\"},{\"curriculum_requisites\":[],\"name\":\" \",\"metrics\":{\"complexity\":1.0,\"centrality\":0,\"blocking factor\":0,\"delay factor\":1.0},\"nameSub\":\"Tier I General Ed. 3\",\"id\":22,\"credits\":3,\"nameCanonical\":\"\"}],\"id\":7},{\"name\":\"Term 8\",\"curriculum_items\":[{\"curriculum_requisites\":[{\"source_id\":13,\"target_id\":39,\"type\":\"CurriculumPrerequisite\"},{\"source_id\":19,\"target_id\":39,\"type\":\"CurriculumPrerequisite\"}],\"name\":\"AME 457\",\"metrics\":{\"complexity\":6.0,\"centrality\":0,\"blocking factor\":0,\"delay factor\":6.0},\"nameSub\":\"Orbital Mechanicans and Space Flt.\",\"id\":39,\"credits\":3,\"nameCanonical\":\"\"},{\"curriculum_requisites\":[{\"source_id\":24,\"target_id\":42,\"type\":\"CurriculumPrerequisite\"},{\"source_id\":32,\"target_id\":42,\"type\":\"CurriculumPrerequisite\"},{\"source_id\":18,\"target_id\":42,\"type\":\"CurriculumPrerequisite\"}],\"name\":\"AME 431\",\"metrics\":{\"complexity\":7.0,\"centrality\":0,\"blocking factor\":0,\"delay factor\":7.0},\"nameSub\":\"Num. Meth. in Fluid Mech. & Heat Xfer\",\"id\":42,\"credits\":3,\"nameCanonical\":\"\"},{\"curriculum_requisites\":[{\"source_id\":25,\"target_id\":29,\"type\":\"CurriculumPrerequisite\"}],\"name\":\"AME 324B\",\"metrics\":{\"complexity\":6.0,\"centrality\":0,\"blocking factor\":0,\"delay factor\":6.0},\"nameSub\":\"Eng. Component Design\",\"id\":29,\"credits\":3,\"nameCanonical\":\"\"},{\"curriculum_requisites\":[{\"source_id\":24,\"target_id\":37,\"type\":\"CurriculumPrerequisite\"},{\"source_id\":31,\"target_id\":37,\"type\":\"CurriculumPrerequisite\"},{\"source_id\":18,\"target_id\":37,\"type\":\"CurriculumPrerequisite\"}],\"name\":\"AME 425\",\"metrics\":{\"complexity\":8.0,\"centrality\":0,\"blocking factor\":0,\"delay factor\":8.0},\"nameSub\":\"Aerospace Propulsion\",\"id\":37,\"credits\":3,\"nameCanonical\":\"\"},{\"curriculum_requisites\":[{\"source_id\":25,\"target_id\":28,\"type\":\"CurriculumPrerequisite\"}],\"name\":\"AME 324L\",\"metrics\":{\"complexity\":6.0,\"centrality\":0,\"blocking factor\":0,\"delay factor\":6.0},\"nameSub\":\"Mech. of Materials Lab.\",\"id\":28,\"credits\":1,\"nameCanonical\":\"\"},{\"curriculum_requisites\":[{\"source_id\":36,\"target_id\":41,\"type\":\"CurriculumPrerequisite\"},{\"source_id\":33,\"target_id\":41,\"type\":\"CurriculumCorequisite\"}],\"name\":\"AME 422\",\"metrics\":{\"complexity\":9.0,\"centrality\":0,\"blocking factor\":0,\"delay factor\":9.0},\"nameSub\":\"Aerospace Eng.Design\",\"id\":41,\"credits\":3,\"nameCanonical\":\"\"}],\"id\":8}],\"institution\":\"University of Arizona\"}},\"*\"); window.removeEventListener(\"message\",window.messageReceived); window.messageReceived=(function (event){return (event.data.curriculum!==undefined) ? (WebIO.setval({\"name\":\"curriculum-data\",\"scope\":\"4005404010794350453\",\"id\":\"ob_06\",\"type\":\"observable\"},event.data.curriculum)) : undefined}); return window.addEventListener(\"message\",window.messageReceived)})"
          },
          "id": "curriculum",
          "src": "http://localhost:8156",
          "style": {
           "border": "none",
           "height": "100vh",
           "margin": "0",
           "padding": "0",
           "width": "100%"
          }
         },
         "type": "node"
        }
       ],
       "instanceArgs": {
        "handlers": {},
        "id": "4005404010794350453",
        "imports": {
         "data": [],
         "type": "async_block"
        },
        "mount_callbacks": [],
        "observables": {
         "curriculum-data": {
          "id": "ob_06",
          "sync": true,
          "value": {
           "curriculum": {
            "curriculum_terms": [
             {
              "curriculum_items": [
               {
                "credits": 4,
                "curriculum_requisites": [],
                "id": 2,
                "metrics": {
                 "blocking factor": 2,
                 "centrality": 0,
                 "complexity": 5,
                 "delay factor": 3
                },
                "name": "CHEM 151",
                "nameCanonical": "",
                "nameSub": "Gen Chemistry I"
               },
               {
                "credits": 3,
                "curriculum_requisites": [],
                "id": 11,
                "metrics": {
                 "blocking factor": 0,
                 "centrality": 0,
                 "complexity": 1,
                 "delay factor": 1
                },
                "name": " ",
                "nameCanonical": "",
                "nameSub": "Tier I General Ed. 1"
               },
               {
                "credits": 3,
                "curriculum_requisites": [
                 {
                  "source_id": 1,
                  "target_id": 4,
                  "type": "CurriculumCorequisite"
                 }
                ],
                "id": 4,
                "metrics": {
                 "blocking factor": 0,
                 "centrality": 0,
                 "complexity": 2,
                 "delay factor": 2
                },
                "name": "ENGR 102",
                "nameCanonical": "",
                "nameSub": "Intro to Engineering"
               },
               {
                "credits": 3,
                "curriculum_requisites": [],
                "id": 1,
                "metrics": {
                 "blocking factor": 29,
                 "centrality": 0,
                 "complexity": 38,
                 "delay factor": 9
                },
                "name": "MATH 125",
                "nameCanonical": "",
                "nameSub": "Calculus I w/ Applications"
               },
               {
                "credits": 3,
                "curriculum_requisites": [],
                "id": 3,
                "metrics": {
                 "blocking factor": 1,
                 "centrality": 0,
                 "complexity": 3,
                 "delay factor": 2
                },
                "name": "ENGL 101",
                "nameCanonical": "",
                "nameSub": "First-year Comp."
               }
              ],
              "id": 1,
              "name": "Term 1"
             },
             {
              "curriculum_items": [
               {
                "credits": 4,
                "curriculum_requisites": [
                 {
                  "source_id": 1,
                  "target_id": 8,
                  "type": "CurriculumPrerequisite"
                 }
                ],
                "id": 8,
                "metrics": {
                 "blocking factor": 18,
                 "centrality": 272,
                 "complexity": 27,
                 "delay factor": 9
                },
                "name": "PHYS 141",
                "nameCanonical": "",
                "nameSub": "Intro Mechanics"
               },
               {
                "credits": 3,
                "curriculum_requisites": [],
                "id": 17,
                "metrics": {
                 "blocking factor": 0,
                 "centrality": 0,
                 "complexity": 1,
                 "delay factor": 1
                },
                "name": " ",
                "nameCanonical": "",
                "nameSub": "Tier I General Ed. 2"
               },
               {
                "credits": 3,
                "curriculum_requisites": [
                 {
                  "source_id": 1,
                  "target_id": 10,
                  "type": "CurriculumCorequisite"
                 }
                ],
                "id": 10,
                "metrics": {
                 "blocking factor": 0,
                 "centrality": 0,
                 "complexity": 2,
                 "delay factor": 2
                },
                "name": "ECE 175",
                "nameCanonical": "",
                "nameSub": "Programming for Eng. Apps."
               },
               {
                "credits": 3,
                "curriculum_requisites": [
                 {
                  "source_id": 1,
                  "target_id": 6,
                  "type": "CurriculumPrerequisite"
                 }
                ],
                "id": 6,
                "metrics": {
                 "blocking factor": 22,
                 "centrality": 388,
                 "complexity": 31,
                 "delay factor": 9
                },
                "name": "MATH 129",
                "nameCanonical": "",
                "nameSub": "Calculus II"
               },
               {
                "credits": 3,
                "curriculum_requisites": [],
                "id": 5,
                "metrics": {
                 "blocking factor": 0,
                 "centrality": 0,
                 "complexity": 1,
                 "delay factor": 1
                },
                "name": " ",
                "nameCanonical": "",
                "nameSub": "Tier I General Ed."
               }
              ],
              "id": 2,
              "name": "Term 2"
             },
             {
              "curriculum_items": [
               {
                "credits": 4,
                "curriculum_requisites": [
                 {
                  "source_id": 8,
                  "target_id": 14,
                  "type": "CurriculumPrerequisite"
                 },
                 {
                  "source_id": 6,
                  "target_id": 14,
                  "type": "CurriculumPrerequisite"
                 }
                ],
                "id": 14,
                "metrics": {
                 "blocking factor": 0,
                 "centrality": 0,
                 "complexity": 3,
                 "delay factor": 3
                },
                "name": "PHYS 241",
                "nameCanonical": "",
                "nameSub": "Electricity & Magnetism"
               },
               {
                "credits": 3,
                "curriculum_requisites": [
                 {
                  "source_id": 8,
                  "target_id": 18,
                  "type": "CurriculumPrerequisite"
                 }
                ],
                "id": 18,
                "metrics": {
                 "blocking factor": 11,
                 "centrality": 86,
                 "complexity": 19,
                 "delay factor": 8
                },
                "name": "AME 230",
                "nameCanonical": "",
                "nameSub": "Thermodynamics"
               },
               {
                "credits": 4,
                "curriculum_requisites": [
                 {
                  "source_id": 6,
                  "target_id": 13,
                  "type": "CurriculumPrerequisite"
                 }
                ],
                "id": 13,
                "metrics": {
                 "blocking factor": 17,
                 "centrality": 258,
                 "complexity": 26,
                 "delay factor": 9
                },
                "name": "MATH  223",
                "nameCanonical": "",
                "nameSub": "Vector Calculus"
               },
               {
                "credits": 3,
                "curriculum_requisites": [
                 {
                  "source_id": 3,
                  "target_id": 9,
                  "type": "CurriculumPrerequisite"
                 }
                ],
                "id": 9,
                "metrics": {
                 "blocking factor": 0,
                 "centrality": 0,
                 "complexity": 2,
                 "delay factor": 2
                },
                "name": "ENGL 102",
                "nameCanonical": "",
                "nameSub": "First-year Comp."
               },
               {
                "credits": 3,
                "curriculum_requisites": [
                 {
                  "source_id": 8,
                  "target_id": 12,
                  "type": "CurriculumPrerequisite"
                 },
                 {
                  "source_id": 6,
                  "target_id": 12,
                  "type": "CurriculumPrerequisite"
                 }
                ],
                "id": 12,
                "metrics": {
                 "blocking factor": 14,
                 "centrality": 254,
                 "complexity": 23,
                 "delay factor": 9
                },
                "name": "CE 214",
                "nameCanonical": "",
                "nameSub": "Statics"
               }
              ],
              "id": 3,
              "name": "Term 3"
             },
             {
              "curriculum_items": [
               {
                "credits": 3,
                "curriculum_requisites": [
                 {
                  "source_id": 13,
                  "target_id": 20,
                  "type": "CurriculumPrerequisite"
                 }
                ],
                "id": 20,
                "metrics": {
                 "blocking factor": 16,
                 "centrality": 188,
                 "complexity": 25,
                 "delay factor": 9
                },
                "name": "MATH 254",
                "nameCanonical": "",
                "nameSub": "Intro. to ODEs"
               },
               {
                "credits": 3,
                "curriculum_requisites": [],
                "id": 44,
                "metrics": {
                 "blocking factor": 0,
                 "centrality": 0,
                 "complexity": 1,
                 "delay factor": 1
                },
                "name": " ",
                "nameCanonical": "",
                "nameSub": "Technical Elective 2"
               },
               {
                "credits": 1,
                "curriculum_requisites": [
                 {
                  "source_id": 1,
                  "target_id": 7,
                  "type": "CurriculumPrerequisite"
                 }
                ],
                "id": 7,
                "metrics": {
                 "blocking factor": 9,
                 "centrality": 28,
                 "complexity": 16,
                 "delay factor": 7
                },
                "name": "AME 105",
                "nameCanonical": "",
                "nameSub": "Intro. to MATLAB I"
               },
               {
                "credits": 3,
                "curriculum_requisites": [],
                "id": 43,
                "metrics": {
                 "blocking factor": 0,
                 "centrality": 0,
                 "complexity": 1,
                 "delay factor": 1
                },
                "name": " ",
                "nameCanonical": "",
                "nameSub": "Technical Elective 1"
               },
               {
                "credits": 3,
                "curriculum_requisites": [],
                "id": 34,
                "metrics": {
                 "blocking factor": 0,
                 "centrality": 0,
                 "complexity": 1,
                 "delay factor": 1
                },
                "name": " ",
                "nameCanonical": "",
                "nameSub": "Tier II General Ed. 1"
               },
               {
                "credits": 3,
                "curriculum_requisites": [
                 {
                  "source_id": 13,
                  "target_id": 21,
                  "type": "CurriculumPrerequisite"
                 },
                 {
                  "source_id": 8,
                  "target_id": 21,
                  "type": "CurriculumPrerequisite"
                 },
                 {
                  "source_id": 20,
                  "target_id": 21,
                  "type": "CurriculumCorequisite"
                 }
                ],
                "id": 21,
                "metrics": {
                 "blocking factor": 8,
                 "centrality": 198,
                 "complexity": 17,
                 "delay factor": 9
                },
                "name": "AME 220",
                "nameCanonical": "",
                "nameSub": "Intro. to Aerospace Eng."
               }
              ],
              "id": 4,
              "name": "Term 4"
             },
             {
              "curriculum_items": [
               {
                "credits": 3,
                "curriculum_requisites": [
                 {
                  "source_id": 20,
                  "target_id": 25,
                  "type": "CurriculumPrerequisite"
                 }
                ],
                "id": 25,
                "metrics": {
                 "blocking factor": 2,
                 "centrality": 12,
                 "complexity": 8,
                 "delay factor": 6
                },
                "name": "AME 301",
                "nameCanonical": "",
                "nameSub": "Engineering Analysis"
               },
               {
                "credits": 3,
                "curriculum_requisites": [
                 {
                  "source_id": 18,
                  "target_id": 26,
                  "type": "CurriculumCorequisite"
                 },
                 {
                  "source_id": 24,
                  "target_id": 26,
                  "type": "CurriculumCorequisite"
                 }
                ],
                "id": 26,
                "metrics": {
                 "blocking factor": 10,
                 "centrality": 204,
                 "complexity": 19,
                 "delay factor": 9
                },
                "name": "AME 300",
                "nameCanonical": "",
                "nameSub": "Instrumentation Lab."
               },
               {
                "credits": 3,
                "curriculum_requisites": [
                 {
                  "source_id": 12,
                  "target_id": 19,
                  "type": "CurriculumPrerequisite"
                 },
                 {
                  "source_id": 20,
                  "target_id": 19,
                  "type": "CurriculumCorequisite"
                 }
                ],
                "id": 19,
                "metrics": {
                 "blocking factor": 10,
                 "centrality": 145,
                 "complexity": 19,
                 "delay factor": 9
                },
                "name": "AME 250",
                "nameCanonical": "",
                "nameSub": "Dynamics"
               },
               {
                "credits": 3,
                "curriculum_requisites": [
                 {
                  "source_id": 12,
                  "target_id": 24,
                  "type": "CurriculumPrerequisite"
                 }
                ],
                "id": 24,
                "metrics": {
                 "blocking factor": 11,
                 "centrality": 162,
                 "complexity": 20,
                 "delay factor": 9
                },
                "name": "AME  324A",
                "nameCanonical": "",
                "nameSub": "Mech. Behavior of Eng. Materials."
               },
               {
                "credits": 3,
                "curriculum_requisites": [
                 {
                  "source_id": 2,
                  "target_id": 27,
                  "type": "CurriculumPrerequisite"
                 }
                ],
                "id": 27,
                "metrics": {
                 "blocking factor": 1,
                 "centrality": 3,
                 "complexity": 4,
                 "delay factor": 3
                },
                "name": "MSE 331R",
                "nameCanonical": "",
                "nameSub": "Fund. of Materials for Engineers"
               },
               {
                "credits": 1,
                "curriculum_requisites": [
                 {
                  "source_id": 7,
                  "target_id": 15,
                  "type": "CurriculumPrerequisite"
                 }
                ],
                "id": 15,
                "metrics": {
                 "blocking factor": 8,
                 "centrality": 28,
                 "complexity": 15,
                 "delay factor": 7
                },
                "name": "AME  205",
                "nameCanonical": "",
                "nameSub": "Intro. To MATLAB II"
               }
              ],
              "id": 5,
              "name": "Term 5"
             },
             {
              "curriculum_items": [
               {
                "credits": 3,
                "curriculum_requisites": [
                 {
                  "source_id": 18,
                  "target_id": 31,
                  "type": "CurriculumPrerequisite"
                 },
                 {
                  "source_id": 32,
                  "target_id": 31,
                  "type": "CurriculumCorequisite"
                 },
                 {
                  "source_id": 21,
                  "target_id": 31,
                  "type": "CurriculumPrerequisite"
                 },
                 {
                  "source_id": 20,
                  "target_id": 31,
                  "type": "CurriculumPrerequisite"
                 }
                ],
                "id": 31,
                "metrics": {
                 "blocking factor": 4,
                 "centrality": 274,
                 "complexity": 13,
                 "delay factor": 9
                },
                "name": "AME 323",
                "nameCanonical": "",
                "nameSub": "Gasdynamics"
               },
               {
                "credits": 1,
                "curriculum_requisites": [],
                "id": 33,
                "metrics": {
                 "blocking factor": 2,
                 "centrality": 0,
                 "complexity": 5,
                 "delay factor": 3
                },
                "name": "AME 313",
                "nameCanonical": "",
                "nameSub": "Aero./Mech. Eng. Lab"
               },
               {
                "credits": 3,
                "curriculum_requisites": [],
                "id": 45,
                "metrics": {
                 "blocking factor": 0,
                 "centrality": 0,
                 "complexity": 1,
                 "delay factor": 1
                },
                "name": " ",
                "nameCanonical": "",
                "nameSub": "Tier II General Ed. 2"
               },
               {
                "credits": 3,
                "curriculum_requisites": [
                 {
                  "source_id": 23,
                  "target_id": 30,
                  "type": "CurriculumCorequisite"
                 },
                 {
                  "source_id": 19,
                  "target_id": 30,
                  "type": "CurriculumPrerequisite"
                 },
                 {
                  "source_id": 21,
                  "target_id": 30,
                  "type": "CurriculumPrerequisite"
                 }
                ],
                "id": 30,
                "metrics": {
                 "blocking factor": 3,
                 "centrality": 174,
                 "complexity": 12,
                 "delay factor": 9
                },
                "name": "AME 321",
                "nameCanonical": "",
                "nameSub": "Aircraft Performance"
               },
               {
                "credits": 3,
                "curriculum_requisites": [
                 {
                  "source_id": 26,
                  "target_id": 32,
                  "type": "CurriculumCorequisite"
                 },
                 {
                  "source_id": 19,
                  "target_id": 32,
                  "type": "CurriculumPrerequisite"
                 },
                 {
                  "source_id": 15,
                  "target_id": 32,
                  "type": "CurriculumPrerequisite"
                 },
                 {
                  "source_id": 20,
                  "target_id": 32,
                  "type": "CurriculumPrerequisite"
                 }
                ],
                "id": 32,
                "metrics": {
                 "blocking factor": 6,
                 "centrality": 232,
                 "complexity": 15,
                 "delay factor": 9
                },
                "name": "AME 302",
                "nameCanonical": "",
                "nameSub": "Numerical Methods"
               },
               {
                "credits": 3,
                "curriculum_requisites": [
                 {
                  "source_id": 26,
                  "target_id": 23,
                  "type": "CurriculumCorequisite"
                 },
                 {
                  "source_id": 21,
                  "target_id": 23,
                  "type": "CurriculumPrerequisite"
                 }
                ],
                "id": 23,
                "metrics": {
                 "blocking factor": 5,
                 "centrality": 214,
                 "complexity": 14,
                 "delay factor": 9
                },
                "name": "AME 320",
                "nameCanonical": "",
                "nameSub": "Aerodynamics"
               }
              ],
              "id": 6,
              "name": "Term 6"
             },
             {
              "curriculum_items": [
               {
                "credits": 3,
                "curriculum_requisites": [
                 {
                  "source_id": 23,
                  "target_id": 35,
                  "type": "CurriculumPrerequisite"
                 },
                 {
                  "source_id": 31,
                  "target_id": 35,
                  "type": "CurriculumPrerequisite"
                 },
                 {
                  "source_id": 27,
                  "target_id": 35,
                  "type": "CurriculumPrerequisite"
                 }
                ],
                "id": 35,
                "metrics": {
                 "blocking factor": 0,
                 "centrality": 0,
                 "complexity": 8,
                 "delay factor": 8
                },
                "name": "AME 401",
                "nameCanonical": "",
                "nameSub": "Senior Aerospace Lab."
               },
               {
                "credits": 1,
                "curriculum_requisites": [],
                "id": 40,
                "metrics": {
                 "blocking factor": 0,
                 "centrality": 0,
                 "complexity": 1,
                 "delay factor": 1
                },
                "name": "AME 495S",
                "nameCanonical": "",
                "nameSub": "Senior Colloquium"
               },
               {
                "credits": 3,
                "curriculum_requisites": [
                 {
                  "source_id": 23,
                  "target_id": 38,
                  "type": "CurriculumPrerequisite"
                 },
                 {
                  "source_id": 15,
                  "target_id": 38,
                  "type": "CurriculumPrerequisite"
                 },
                 {
                  "source_id": 30,
                  "target_id": 38,
                  "type": "CurriculumPrerequisite"
                 }
                ],
                "id": 38,
                "metrics": {
                 "blocking factor": 0,
                 "centrality": 0,
                 "complexity": 8,
                 "delay factor": 8
                },
                "name": "AME 427",
                "nameCanonical": "",
                "nameSub": "Stability and Control of Aero. Vehicles"
               },
               {
                "credits": 3,
                "curriculum_requisites": [
                 {
                  "source_id": 23,
                  "target_id": 36,
                  "type": "CurriculumPrerequisite"
                 },
                 {
                  "source_id": 31,
                  "target_id": 36,
                  "type": "CurriculumPrerequisite"
                 },
                 {
                  "source_id": 33,
                  "target_id": 36,
                  "type": "CurriculumPrerequisite"
                 },
                 {
                  "source_id": 30,
                  "target_id": 36,
                  "type": "CurriculumPrerequisite"
                 }
                ],
                "id": 36,
                "metrics": {
                 "blocking factor": 1,
                 "centrality": 240,
                 "complexity": 10,
                 "delay factor": 9
                },
                "name": "AME 420",
                "nameCanonical": "",
                "nameSub": "Aerospace Conceptual Design"
               },
               {
                "credits": 3,
                "curriculum_requisites": [],
                "id": 16,
                "metrics": {
                 "blocking factor": 0,
                 "centrality": 0,
                 "complexity": 1,
                 "delay factor": 1
                },
                "name": "AME 211",
                "nameCanonical": "",
                "nameSub": "Comp. Aided Drafting & Manufacturing"
               },
               {
                "credits": 3,
                "curriculum_requisites": [],
                "id": 22,
                "metrics": {
                 "blocking factor": 0,
                 "centrality": 0,
                 "complexity": 1,
                 "delay factor": 1
                },
                "name": " ",
                "nameCanonical": "",
                "nameSub": "Tier I General Ed. 3"
               }
              ],
              "id": 7,
              "name": "Term 7"
             },
             {
              "curriculum_items": [
               {
                "credits": 3,
                "curriculum_requisites": [
                 {
                  "source_id": 13,
                  "target_id": 39,
                  "type": "CurriculumPrerequisite"
                 },
                 {
                  "source_id": 19,
                  "target_id": 39,
                  "type": "CurriculumPrerequisite"
                 }
                ],
                "id": 39,
                "metrics": {
                 "blocking factor": 0,
                 "centrality": 0,
                 "complexity": 6,
                 "delay factor": 6
                },
                "name": "AME 457",
                "nameCanonical": "",
                "nameSub": "Orbital Mechanicans and Space Flt."
               },
               {
                "credits": 3,
                "curriculum_requisites": [
                 {
                  "source_id": 24,
                  "target_id": 42,
                  "type": "CurriculumPrerequisite"
                 },
                 {
                  "source_id": 32,
                  "target_id": 42,
                  "type": "CurriculumPrerequisite"
                 },
                 {
                  "source_id": 18,
                  "target_id": 42,
                  "type": "CurriculumPrerequisite"
                 }
                ],
                "id": 42,
                "metrics": {
                 "blocking factor": 0,
                 "centrality": 0,
                 "complexity": 7,
                 "delay factor": 7
                },
                "name": "AME 431",
                "nameCanonical": "",
                "nameSub": "Num. Meth. in Fluid Mech. & Heat Xfer"
               },
               {
                "credits": 3,
                "curriculum_requisites": [
                 {
                  "source_id": 25,
                  "target_id": 29,
                  "type": "CurriculumPrerequisite"
                 }
                ],
                "id": 29,
                "metrics": {
                 "blocking factor": 0,
                 "centrality": 0,
                 "complexity": 6,
                 "delay factor": 6
                },
                "name": "AME 324B",
                "nameCanonical": "",
                "nameSub": "Eng. Component Design"
               },
               {
                "credits": 3,
                "curriculum_requisites": [
                 {
                  "source_id": 24,
                  "target_id": 37,
                  "type": "CurriculumPrerequisite"
                 },
                 {
                  "source_id": 31,
                  "target_id": 37,
                  "type": "CurriculumPrerequisite"
                 },
                 {
                  "source_id": 18,
                  "target_id": 37,
                  "type": "CurriculumPrerequisite"
                 }
                ],
                "id": 37,
                "metrics": {
                 "blocking factor": 0,
                 "centrality": 0,
                 "complexity": 8,
                 "delay factor": 8
                },
                "name": "AME 425",
                "nameCanonical": "",
                "nameSub": "Aerospace Propulsion"
               },
               {
                "credits": 1,
                "curriculum_requisites": [
                 {
                  "source_id": 25,
                  "target_id": 28,
                  "type": "CurriculumPrerequisite"
                 }
                ],
                "id": 28,
                "metrics": {
                 "blocking factor": 0,
                 "centrality": 0,
                 "complexity": 6,
                 "delay factor": 6
                },
                "name": "AME 324L",
                "nameCanonical": "",
                "nameSub": "Mech. of Materials Lab."
               },
               {
                "credits": 3,
                "curriculum_requisites": [
                 {
                  "source_id": 36,
                  "target_id": 41,
                  "type": "CurriculumPrerequisite"
                 },
                 {
                  "source_id": 33,
                  "target_id": 41,
                  "type": "CurriculumCorequisite"
                 }
                ],
                "id": 41,
                "metrics": {
                 "blocking factor": 0,
                 "centrality": 0,
                 "complexity": 9,
                 "delay factor": 9
                },
                "name": "AME 422",
                "nameCanonical": "",
                "nameSub": "Aerospace Eng.Design"
               }
              ],
              "id": 8,
              "name": "Term 8"
             }
            ],
            "dp_name": "",
            "institution": "University of Arizona",
            "name": "Aerospace Engineering"
           },
           "options": {
            "edit": false,
            "hideTerms": false
           }
          }
         }
        },
        "systemjs_options": null
       },
       "nodeType": "Scope",
       "props": {},
       "type": "node"
      },
      "text/html": [
       "<div\n",
       "    class=\"webio-mountpoint\"\n",
       "    data-webio-mountpoint=\"14233596971998776023\"\n",
       ">\n",
       "    <script>\n",
       "    if (window.require && require.defined && require.defined(\"nbextensions/webio-jupyter-notebook\")) {\n",
       "        console.log(\"Jupyter WebIO extension detected, not mounting.\");\n",
       "    } else if (window.WebIO) {\n",
       "        WebIO.mount(\n",
       "            document.querySelector('[data-webio-mountpoint=\"14233596971998776023\"]'),\n",
       "            {\"props\":{},\"nodeType\":\"Scope\",\"type\":\"node\",\"instanceArgs\":{\"imports\":{\"data\":[],\"type\":\"async_block\"},\"id\":\"4005404010794350453\",\"handlers\":{},\"systemjs_options\":null,\"mount_callbacks\":[],\"observables\":{\"curriculum-data\":{\"sync\":true,\"id\":\"ob_06\",\"value\":{\"options\":{\"hideTerms\":false,\"edit\":false},\"curriculum\":{\"name\":\"Aerospace Engineering\",\"dp_name\":\"\",\"curriculum_terms\":[{\"name\":\"Term 1\",\"curriculum_items\":[{\"curriculum_requisites\":[],\"name\":\"CHEM 151\",\"metrics\":{\"complexity\":5.0,\"centrality\":0,\"blocking factor\":2,\"delay factor\":3.0},\"nameSub\":\"Gen Chemistry I\",\"id\":2,\"credits\":4,\"nameCanonical\":\"\"},{\"curriculum_requisites\":[],\"name\":\" \",\"metrics\":{\"complexity\":1.0,\"centrality\":0,\"blocking factor\":0,\"delay factor\":1.0},\"nameSub\":\"Tier I General Ed. 1\",\"id\":11,\"credits\":3,\"nameCanonical\":\"\"},{\"curriculum_requisites\":[{\"source_id\":1,\"target_id\":4,\"type\":\"CurriculumCorequisite\"}],\"name\":\"ENGR 102\",\"metrics\":{\"complexity\":2.0,\"centrality\":0,\"blocking factor\":0,\"delay factor\":2.0},\"nameSub\":\"Intro to Engineering\",\"id\":4,\"credits\":3,\"nameCanonical\":\"\"},{\"curriculum_requisites\":[],\"name\":\"MATH 125\",\"metrics\":{\"complexity\":38.0,\"centrality\":0,\"blocking factor\":29,\"delay factor\":9.0},\"nameSub\":\"Calculus I w\\/ Applications\",\"id\":1,\"credits\":3,\"nameCanonical\":\"\"},{\"curriculum_requisites\":[],\"name\":\"ENGL 101\",\"metrics\":{\"complexity\":3.0,\"centrality\":0,\"blocking factor\":1,\"delay factor\":2.0},\"nameSub\":\"First-year Comp.\",\"id\":3,\"credits\":3,\"nameCanonical\":\"\"}],\"id\":1},{\"name\":\"Term 2\",\"curriculum_items\":[{\"curriculum_requisites\":[{\"source_id\":1,\"target_id\":8,\"type\":\"CurriculumPrerequisite\"}],\"name\":\"PHYS 141\",\"metrics\":{\"complexity\":27.0,\"centrality\":272,\"blocking factor\":18,\"delay factor\":9.0},\"nameSub\":\"Intro Mechanics\",\"id\":8,\"credits\":4,\"nameCanonical\":\"\"},{\"curriculum_requisites\":[],\"name\":\" \",\"metrics\":{\"complexity\":1.0,\"centrality\":0,\"blocking factor\":0,\"delay factor\":1.0},\"nameSub\":\"Tier I General Ed. 2\",\"id\":17,\"credits\":3,\"nameCanonical\":\"\"},{\"curriculum_requisites\":[{\"source_id\":1,\"target_id\":10,\"type\":\"CurriculumCorequisite\"}],\"name\":\"ECE 175\",\"metrics\":{\"complexity\":2.0,\"centrality\":0,\"blocking factor\":0,\"delay factor\":2.0},\"nameSub\":\"Programming for Eng. Apps.\",\"id\":10,\"credits\":3,\"nameCanonical\":\"\"},{\"curriculum_requisites\":[{\"source_id\":1,\"target_id\":6,\"type\":\"CurriculumPrerequisite\"}],\"name\":\"MATH 129\",\"metrics\":{\"complexity\":31.0,\"centrality\":388,\"blocking factor\":22,\"delay factor\":9.0},\"nameSub\":\"Calculus II\",\"id\":6,\"credits\":3,\"nameCanonical\":\"\"},{\"curriculum_requisites\":[],\"name\":\" \",\"metrics\":{\"complexity\":1.0,\"centrality\":0,\"blocking factor\":0,\"delay factor\":1.0},\"nameSub\":\"Tier I General Ed.\",\"id\":5,\"credits\":3,\"nameCanonical\":\"\"}],\"id\":2},{\"name\":\"Term 3\",\"curriculum_items\":[{\"curriculum_requisites\":[{\"source_id\":8,\"target_id\":14,\"type\":\"CurriculumPrerequisite\"},{\"source_id\":6,\"target_id\":14,\"type\":\"CurriculumPrerequisite\"}],\"name\":\"PHYS 241\",\"metrics\":{\"complexity\":3.0,\"centrality\":0,\"blocking factor\":0,\"delay factor\":3.0},\"nameSub\":\"Electricity & Magnetism\",\"id\":14,\"credits\":4,\"nameCanonical\":\"\"},{\"curriculum_requisites\":[{\"source_id\":8,\"target_id\":18,\"type\":\"CurriculumPrerequisite\"}],\"name\":\"AME 230\",\"metrics\":{\"complexity\":19.0,\"centrality\":86,\"blocking factor\":11,\"delay factor\":8.0},\"nameSub\":\"Thermodynamics\",\"id\":18,\"credits\":3,\"nameCanonical\":\"\"},{\"curriculum_requisites\":[{\"source_id\":6,\"target_id\":13,\"type\":\"CurriculumPrerequisite\"}],\"name\":\"MATH  223\",\"metrics\":{\"complexity\":26.0,\"centrality\":258,\"blocking factor\":17,\"delay factor\":9.0},\"nameSub\":\"Vector Calculus\",\"id\":13,\"credits\":4,\"nameCanonical\":\"\"},{\"curriculum_requisites\":[{\"source_id\":3,\"target_id\":9,\"type\":\"CurriculumPrerequisite\"}],\"name\":\"ENGL 102\",\"metrics\":{\"complexity\":2.0,\"centrality\":0,\"blocking factor\":0,\"delay factor\":2.0},\"nameSub\":\"First-year Comp.\",\"id\":9,\"credits\":3,\"nameCanonical\":\"\"},{\"curriculum_requisites\":[{\"source_id\":8,\"target_id\":12,\"type\":\"CurriculumPrerequisite\"},{\"source_id\":6,\"target_id\":12,\"type\":\"CurriculumPrerequisite\"}],\"name\":\"CE 214\",\"metrics\":{\"complexity\":23.0,\"centrality\":254,\"blocking factor\":14,\"delay factor\":9.0},\"nameSub\":\"Statics\",\"id\":12,\"credits\":3,\"nameCanonical\":\"\"}],\"id\":3},{\"name\":\"Term 4\",\"curriculum_items\":[{\"curriculum_requisites\":[{\"source_id\":13,\"target_id\":20,\"type\":\"CurriculumPrerequisite\"}],\"name\":\"MATH 254\",\"metrics\":{\"complexity\":25.0,\"centrality\":188,\"blocking factor\":16,\"delay factor\":9.0},\"nameSub\":\"Intro. to ODEs\",\"id\":20,\"credits\":3,\"nameCanonical\":\"\"},{\"curriculum_requisites\":[],\"name\":\" \",\"metrics\":{\"complexity\":1.0,\"centrality\":0,\"blocking factor\":0,\"delay factor\":1.0},\"nameSub\":\"Technical Elective 2\",\"id\":44,\"credits\":3,\"nameCanonical\":\"\"},{\"curriculum_requisites\":[{\"source_id\":1,\"target_id\":7,\"type\":\"CurriculumPrerequisite\"}],\"name\":\"AME 105\",\"metrics\":{\"complexity\":16.0,\"centrality\":28,\"blocking factor\":9,\"delay factor\":7.0},\"nameSub\":\"Intro. to MATLAB I\",\"id\":7,\"credits\":1,\"nameCanonical\":\"\"},{\"curriculum_requisites\":[],\"name\":\" \",\"metrics\":{\"complexity\":1.0,\"centrality\":0,\"blocking factor\":0,\"delay factor\":1.0},\"nameSub\":\"Technical Elective 1\",\"id\":43,\"credits\":3,\"nameCanonical\":\"\"},{\"curriculum_requisites\":[],\"name\":\" \",\"metrics\":{\"complexity\":1.0,\"centrality\":0,\"blocking factor\":0,\"delay factor\":1.0},\"nameSub\":\"Tier II General Ed. 1\",\"id\":34,\"credits\":3,\"nameCanonical\":\"\"},{\"curriculum_requisites\":[{\"source_id\":13,\"target_id\":21,\"type\":\"CurriculumPrerequisite\"},{\"source_id\":8,\"target_id\":21,\"type\":\"CurriculumPrerequisite\"},{\"source_id\":20,\"target_id\":21,\"type\":\"CurriculumCorequisite\"}],\"name\":\"AME 220\",\"metrics\":{\"complexity\":17.0,\"centrality\":198,\"blocking factor\":8,\"delay factor\":9.0},\"nameSub\":\"Intro. to Aerospace Eng.\",\"id\":21,\"credits\":3,\"nameCanonical\":\"\"}],\"id\":4},{\"name\":\"Term 5\",\"curriculum_items\":[{\"curriculum_requisites\":[{\"source_id\":20,\"target_id\":25,\"type\":\"CurriculumPrerequisite\"}],\"name\":\"AME 301\",\"metrics\":{\"complexity\":8.0,\"centrality\":12,\"blocking factor\":2,\"delay factor\":6.0},\"nameSub\":\"Engineering Analysis\",\"id\":25,\"credits\":3,\"nameCanonical\":\"\"},{\"curriculum_requisites\":[{\"source_id\":18,\"target_id\":26,\"type\":\"CurriculumCorequisite\"},{\"source_id\":24,\"target_id\":26,\"type\":\"CurriculumCorequisite\"}],\"name\":\"AME 300\",\"metrics\":{\"complexity\":19.0,\"centrality\":204,\"blocking factor\":10,\"delay factor\":9.0},\"nameSub\":\"Instrumentation Lab.\",\"id\":26,\"credits\":3,\"nameCanonical\":\"\"},{\"curriculum_requisites\":[{\"source_id\":12,\"target_id\":19,\"type\":\"CurriculumPrerequisite\"},{\"source_id\":20,\"target_id\":19,\"type\":\"CurriculumCorequisite\"}],\"name\":\"AME 250\",\"metrics\":{\"complexity\":19.0,\"centrality\":145,\"blocking factor\":10,\"delay factor\":9.0},\"nameSub\":\"Dynamics\",\"id\":19,\"credits\":3,\"nameCanonical\":\"\"},{\"curriculum_requisites\":[{\"source_id\":12,\"target_id\":24,\"type\":\"CurriculumPrerequisite\"}],\"name\":\"AME  324A\",\"metrics\":{\"complexity\":20.0,\"centrality\":162,\"blocking factor\":11,\"delay factor\":9.0},\"nameSub\":\"Mech. Behavior of Eng. Materials.\",\"id\":24,\"credits\":3,\"nameCanonical\":\"\"},{\"curriculum_requisites\":[{\"source_id\":2,\"target_id\":27,\"type\":\"CurriculumPrerequisite\"}],\"name\":\"MSE 331R\",\"metrics\":{\"complexity\":4.0,\"centrality\":3,\"blocking factor\":1,\"delay factor\":3.0},\"nameSub\":\"Fund. of Materials for Engineers\",\"id\":27,\"credits\":3,\"nameCanonical\":\"\"},{\"curriculum_requisites\":[{\"source_id\":7,\"target_id\":15,\"type\":\"CurriculumPrerequisite\"}],\"name\":\"AME  205\",\"metrics\":{\"complexity\":15.0,\"centrality\":28,\"blocking factor\":8,\"delay factor\":7.0},\"nameSub\":\"Intro. To MATLAB II\",\"id\":15,\"credits\":1,\"nameCanonical\":\"\"}],\"id\":5},{\"name\":\"Term 6\",\"curriculum_items\":[{\"curriculum_requisites\":[{\"source_id\":18,\"target_id\":31,\"type\":\"CurriculumPrerequisite\"},{\"source_id\":32,\"target_id\":31,\"type\":\"CurriculumCorequisite\"},{\"source_id\":21,\"target_id\":31,\"type\":\"CurriculumPrerequisite\"},{\"source_id\":20,\"target_id\":31,\"type\":\"CurriculumPrerequisite\"}],\"name\":\"AME 323\",\"metrics\":{\"complexity\":13.0,\"centrality\":274,\"blocking factor\":4,\"delay factor\":9.0},\"nameSub\":\"Gasdynamics\",\"id\":31,\"credits\":3,\"nameCanonical\":\"\"},{\"curriculum_requisites\":[],\"name\":\"AME 313\",\"metrics\":{\"complexity\":5.0,\"centrality\":0,\"blocking factor\":2,\"delay factor\":3.0},\"nameSub\":\"Aero.\\/Mech. Eng. Lab\",\"id\":33,\"credits\":1,\"nameCanonical\":\"\"},{\"curriculum_requisites\":[],\"name\":\" \",\"metrics\":{\"complexity\":1.0,\"centrality\":0,\"blocking factor\":0,\"delay factor\":1.0},\"nameSub\":\"Tier II General Ed. 2\",\"id\":45,\"credits\":3,\"nameCanonical\":\"\"},{\"curriculum_requisites\":[{\"source_id\":23,\"target_id\":30,\"type\":\"CurriculumCorequisite\"},{\"source_id\":19,\"target_id\":30,\"type\":\"CurriculumPrerequisite\"},{\"source_id\":21,\"target_id\":30,\"type\":\"CurriculumPrerequisite\"}],\"name\":\"AME 321\",\"metrics\":{\"complexity\":12.0,\"centrality\":174,\"blocking factor\":3,\"delay factor\":9.0},\"nameSub\":\"Aircraft Performance\",\"id\":30,\"credits\":3,\"nameCanonical\":\"\"},{\"curriculum_requisites\":[{\"source_id\":26,\"target_id\":32,\"type\":\"CurriculumCorequisite\"},{\"source_id\":19,\"target_id\":32,\"type\":\"CurriculumPrerequisite\"},{\"source_id\":15,\"target_id\":32,\"type\":\"CurriculumPrerequisite\"},{\"source_id\":20,\"target_id\":32,\"type\":\"CurriculumPrerequisite\"}],\"name\":\"AME 302\",\"metrics\":{\"complexity\":15.0,\"centrality\":232,\"blocking factor\":6,\"delay factor\":9.0},\"nameSub\":\"Numerical Methods\",\"id\":32,\"credits\":3,\"nameCanonical\":\"\"},{\"curriculum_requisites\":[{\"source_id\":26,\"target_id\":23,\"type\":\"CurriculumCorequisite\"},{\"source_id\":21,\"target_id\":23,\"type\":\"CurriculumPrerequisite\"}],\"name\":\"AME 320\",\"metrics\":{\"complexity\":14.0,\"centrality\":214,\"blocking factor\":5,\"delay factor\":9.0},\"nameSub\":\"Aerodynamics\",\"id\":23,\"credits\":3,\"nameCanonical\":\"\"}],\"id\":6},{\"name\":\"Term 7\",\"curriculum_items\":[{\"curriculum_requisites\":[{\"source_id\":23,\"target_id\":35,\"type\":\"CurriculumPrerequisite\"},{\"source_id\":31,\"target_id\":35,\"type\":\"CurriculumPrerequisite\"},{\"source_id\":27,\"target_id\":35,\"type\":\"CurriculumPrerequisite\"}],\"name\":\"AME 401\",\"metrics\":{\"complexity\":8.0,\"centrality\":0,\"blocking factor\":0,\"delay factor\":8.0},\"nameSub\":\"Senior Aerospace Lab.\",\"id\":35,\"credits\":3,\"nameCanonical\":\"\"},{\"curriculum_requisites\":[],\"name\":\"AME 495S\",\"metrics\":{\"complexity\":1.0,\"centrality\":0,\"blocking factor\":0,\"delay factor\":1.0},\"nameSub\":\"Senior Colloquium\",\"id\":40,\"credits\":1,\"nameCanonical\":\"\"},{\"curriculum_requisites\":[{\"source_id\":23,\"target_id\":38,\"type\":\"CurriculumPrerequisite\"},{\"source_id\":15,\"target_id\":38,\"type\":\"CurriculumPrerequisite\"},{\"source_id\":30,\"target_id\":38,\"type\":\"CurriculumPrerequisite\"}],\"name\":\"AME 427\",\"metrics\":{\"complexity\":8.0,\"centrality\":0,\"blocking factor\":0,\"delay factor\":8.0},\"nameSub\":\"Stability and Control of Aero. Vehicles\",\"id\":38,\"credits\":3,\"nameCanonical\":\"\"},{\"curriculum_requisites\":[{\"source_id\":23,\"target_id\":36,\"type\":\"CurriculumPrerequisite\"},{\"source_id\":31,\"target_id\":36,\"type\":\"CurriculumPrerequisite\"},{\"source_id\":33,\"target_id\":36,\"type\":\"CurriculumPrerequisite\"},{\"source_id\":30,\"target_id\":36,\"type\":\"CurriculumPrerequisite\"}],\"name\":\"AME 420\",\"metrics\":{\"complexity\":10.0,\"centrality\":240,\"blocking factor\":1,\"delay factor\":9.0},\"nameSub\":\"Aerospace Conceptual Design\",\"id\":36,\"credits\":3,\"nameCanonical\":\"\"},{\"curriculum_requisites\":[],\"name\":\"AME 211\",\"metrics\":{\"complexity\":1.0,\"centrality\":0,\"blocking factor\":0,\"delay factor\":1.0},\"nameSub\":\"Comp. Aided Drafting & Manufacturing\",\"id\":16,\"credits\":3,\"nameCanonical\":\"\"},{\"curriculum_requisites\":[],\"name\":\" \",\"metrics\":{\"complexity\":1.0,\"centrality\":0,\"blocking factor\":0,\"delay factor\":1.0},\"nameSub\":\"Tier I General Ed. 3\",\"id\":22,\"credits\":3,\"nameCanonical\":\"\"}],\"id\":7},{\"name\":\"Term 8\",\"curriculum_items\":[{\"curriculum_requisites\":[{\"source_id\":13,\"target_id\":39,\"type\":\"CurriculumPrerequisite\"},{\"source_id\":19,\"target_id\":39,\"type\":\"CurriculumPrerequisite\"}],\"name\":\"AME 457\",\"metrics\":{\"complexity\":6.0,\"centrality\":0,\"blocking factor\":0,\"delay factor\":6.0},\"nameSub\":\"Orbital Mechanicans and Space Flt.\",\"id\":39,\"credits\":3,\"nameCanonical\":\"\"},{\"curriculum_requisites\":[{\"source_id\":24,\"target_id\":42,\"type\":\"CurriculumPrerequisite\"},{\"source_id\":32,\"target_id\":42,\"type\":\"CurriculumPrerequisite\"},{\"source_id\":18,\"target_id\":42,\"type\":\"CurriculumPrerequisite\"}],\"name\":\"AME 431\",\"metrics\":{\"complexity\":7.0,\"centrality\":0,\"blocking factor\":0,\"delay factor\":7.0},\"nameSub\":\"Num. Meth. in Fluid Mech. & Heat Xfer\",\"id\":42,\"credits\":3,\"nameCanonical\":\"\"},{\"curriculum_requisites\":[{\"source_id\":25,\"target_id\":29,\"type\":\"CurriculumPrerequisite\"}],\"name\":\"AME 324B\",\"metrics\":{\"complexity\":6.0,\"centrality\":0,\"blocking factor\":0,\"delay factor\":6.0},\"nameSub\":\"Eng. Component Design\",\"id\":29,\"credits\":3,\"nameCanonical\":\"\"},{\"curriculum_requisites\":[{\"source_id\":24,\"target_id\":37,\"type\":\"CurriculumPrerequisite\"},{\"source_id\":31,\"target_id\":37,\"type\":\"CurriculumPrerequisite\"},{\"source_id\":18,\"target_id\":37,\"type\":\"CurriculumPrerequisite\"}],\"name\":\"AME 425\",\"metrics\":{\"complexity\":8.0,\"centrality\":0,\"blocking factor\":0,\"delay factor\":8.0},\"nameSub\":\"Aerospace Propulsion\",\"id\":37,\"credits\":3,\"nameCanonical\":\"\"},{\"curriculum_requisites\":[{\"source_id\":25,\"target_id\":28,\"type\":\"CurriculumPrerequisite\"}],\"name\":\"AME 324L\",\"metrics\":{\"complexity\":6.0,\"centrality\":0,\"blocking factor\":0,\"delay factor\":6.0},\"nameSub\":\"Mech. of Materials Lab.\",\"id\":28,\"credits\":1,\"nameCanonical\":\"\"},{\"curriculum_requisites\":[{\"source_id\":36,\"target_id\":41,\"type\":\"CurriculumPrerequisite\"},{\"source_id\":33,\"target_id\":41,\"type\":\"CurriculumCorequisite\"}],\"name\":\"AME 422\",\"metrics\":{\"complexity\":9.0,\"centrality\":0,\"blocking factor\":0,\"delay factor\":9.0},\"nameSub\":\"Aerospace Eng.Design\",\"id\":41,\"credits\":3,\"nameCanonical\":\"\"}],\"id\":8}],\"institution\":\"University of Arizona\"}}}}},\"children\":[{\"props\":{\"src\":\"http:\\/\\/localhost:8156\",\"id\":\"curriculum\",\"events\":{\"load\":\"(function (){this.contentWindow.postMessage({\\\"options\\\":{\\\"hideTerms\\\":false,\\\"edit\\\":false},\\\"curriculum\\\":{\\\"name\\\":\\\"Aerospace Engineering\\\",\\\"dp_name\\\":\\\"\\\",\\\"curriculum_terms\\\":[{\\\"name\\\":\\\"Term 1\\\",\\\"curriculum_items\\\":[{\\\"curriculum_requisites\\\":[],\\\"name\\\":\\\"CHEM 151\\\",\\\"metrics\\\":{\\\"complexity\\\":5.0,\\\"centrality\\\":0,\\\"blocking factor\\\":2,\\\"delay factor\\\":3.0},\\\"nameSub\\\":\\\"Gen Chemistry I\\\",\\\"id\\\":2,\\\"credits\\\":4,\\\"nameCanonical\\\":\\\"\\\"},{\\\"curriculum_requisites\\\":[],\\\"name\\\":\\\" \\\",\\\"metrics\\\":{\\\"complexity\\\":1.0,\\\"centrality\\\":0,\\\"blocking factor\\\":0,\\\"delay factor\\\":1.0},\\\"nameSub\\\":\\\"Tier I General Ed. 1\\\",\\\"id\\\":11,\\\"credits\\\":3,\\\"nameCanonical\\\":\\\"\\\"},{\\\"curriculum_requisites\\\":[{\\\"source_id\\\":1,\\\"target_id\\\":4,\\\"type\\\":\\\"CurriculumCorequisite\\\"}],\\\"name\\\":\\\"ENGR 102\\\",\\\"metrics\\\":{\\\"complexity\\\":2.0,\\\"centrality\\\":0,\\\"blocking factor\\\":0,\\\"delay factor\\\":2.0},\\\"nameSub\\\":\\\"Intro to Engineering\\\",\\\"id\\\":4,\\\"credits\\\":3,\\\"nameCanonical\\\":\\\"\\\"},{\\\"curriculum_requisites\\\":[],\\\"name\\\":\\\"MATH 125\\\",\\\"metrics\\\":{\\\"complexity\\\":38.0,\\\"centrality\\\":0,\\\"blocking factor\\\":29,\\\"delay factor\\\":9.0},\\\"nameSub\\\":\\\"Calculus I w\\/ Applications\\\",\\\"id\\\":1,\\\"credits\\\":3,\\\"nameCanonical\\\":\\\"\\\"},{\\\"curriculum_requisites\\\":[],\\\"name\\\":\\\"ENGL 101\\\",\\\"metrics\\\":{\\\"complexity\\\":3.0,\\\"centrality\\\":0,\\\"blocking factor\\\":1,\\\"delay factor\\\":2.0},\\\"nameSub\\\":\\\"First-year Comp.\\\",\\\"id\\\":3,\\\"credits\\\":3,\\\"nameCanonical\\\":\\\"\\\"}],\\\"id\\\":1},{\\\"name\\\":\\\"Term 2\\\",\\\"curriculum_items\\\":[{\\\"curriculum_requisites\\\":[{\\\"source_id\\\":1,\\\"target_id\\\":8,\\\"type\\\":\\\"CurriculumPrerequisite\\\"}],\\\"name\\\":\\\"PHYS 141\\\",\\\"metrics\\\":{\\\"complexity\\\":27.0,\\\"centrality\\\":272,\\\"blocking factor\\\":18,\\\"delay factor\\\":9.0},\\\"nameSub\\\":\\\"Intro Mechanics\\\",\\\"id\\\":8,\\\"credits\\\":4,\\\"nameCanonical\\\":\\\"\\\"},{\\\"curriculum_requisites\\\":[],\\\"name\\\":\\\" \\\",\\\"metrics\\\":{\\\"complexity\\\":1.0,\\\"centrality\\\":0,\\\"blocking factor\\\":0,\\\"delay factor\\\":1.0},\\\"nameSub\\\":\\\"Tier I General Ed. 2\\\",\\\"id\\\":17,\\\"credits\\\":3,\\\"nameCanonical\\\":\\\"\\\"},{\\\"curriculum_requisites\\\":[{\\\"source_id\\\":1,\\\"target_id\\\":10,\\\"type\\\":\\\"CurriculumCorequisite\\\"}],\\\"name\\\":\\\"ECE 175\\\",\\\"metrics\\\":{\\\"complexity\\\":2.0,\\\"centrality\\\":0,\\\"blocking factor\\\":0,\\\"delay factor\\\":2.0},\\\"nameSub\\\":\\\"Programming for Eng. Apps.\\\",\\\"id\\\":10,\\\"credits\\\":3,\\\"nameCanonical\\\":\\\"\\\"},{\\\"curriculum_requisites\\\":[{\\\"source_id\\\":1,\\\"target_id\\\":6,\\\"type\\\":\\\"CurriculumPrerequisite\\\"}],\\\"name\\\":\\\"MATH 129\\\",\\\"metrics\\\":{\\\"complexity\\\":31.0,\\\"centrality\\\":388,\\\"blocking factor\\\":22,\\\"delay factor\\\":9.0},\\\"nameSub\\\":\\\"Calculus II\\\",\\\"id\\\":6,\\\"credits\\\":3,\\\"nameCanonical\\\":\\\"\\\"},{\\\"curriculum_requisites\\\":[],\\\"name\\\":\\\" \\\",\\\"metrics\\\":{\\\"complexity\\\":1.0,\\\"centrality\\\":0,\\\"blocking factor\\\":0,\\\"delay factor\\\":1.0},\\\"nameSub\\\":\\\"Tier I General Ed.\\\",\\\"id\\\":5,\\\"credits\\\":3,\\\"nameCanonical\\\":\\\"\\\"}],\\\"id\\\":2},{\\\"name\\\":\\\"Term 3\\\",\\\"curriculum_items\\\":[{\\\"curriculum_requisites\\\":[{\\\"source_id\\\":8,\\\"target_id\\\":14,\\\"type\\\":\\\"CurriculumPrerequisite\\\"},{\\\"source_id\\\":6,\\\"target_id\\\":14,\\\"type\\\":\\\"CurriculumPrerequisite\\\"}],\\\"name\\\":\\\"PHYS 241\\\",\\\"metrics\\\":{\\\"complexity\\\":3.0,\\\"centrality\\\":0,\\\"blocking factor\\\":0,\\\"delay factor\\\":3.0},\\\"nameSub\\\":\\\"Electricity & Magnetism\\\",\\\"id\\\":14,\\\"credits\\\":4,\\\"nameCanonical\\\":\\\"\\\"},{\\\"curriculum_requisites\\\":[{\\\"source_id\\\":8,\\\"target_id\\\":18,\\\"type\\\":\\\"CurriculumPrerequisite\\\"}],\\\"name\\\":\\\"AME 230\\\",\\\"metrics\\\":{\\\"complexity\\\":19.0,\\\"centrality\\\":86,\\\"blocking factor\\\":11,\\\"delay factor\\\":8.0},\\\"nameSub\\\":\\\"Thermodynamics\\\",\\\"id\\\":18,\\\"credits\\\":3,\\\"nameCanonical\\\":\\\"\\\"},{\\\"curriculum_requisites\\\":[{\\\"source_id\\\":6,\\\"target_id\\\":13,\\\"type\\\":\\\"CurriculumPrerequisite\\\"}],\\\"name\\\":\\\"MATH  223\\\",\\\"metrics\\\":{\\\"complexity\\\":26.0,\\\"centrality\\\":258,\\\"blocking factor\\\":17,\\\"delay factor\\\":9.0},\\\"nameSub\\\":\\\"Vector Calculus\\\",\\\"id\\\":13,\\\"credits\\\":4,\\\"nameCanonical\\\":\\\"\\\"},{\\\"curriculum_requisites\\\":[{\\\"source_id\\\":3,\\\"target_id\\\":9,\\\"type\\\":\\\"CurriculumPrerequisite\\\"}],\\\"name\\\":\\\"ENGL 102\\\",\\\"metrics\\\":{\\\"complexity\\\":2.0,\\\"centrality\\\":0,\\\"blocking factor\\\":0,\\\"delay factor\\\":2.0},\\\"nameSub\\\":\\\"First-year Comp.\\\",\\\"id\\\":9,\\\"credits\\\":3,\\\"nameCanonical\\\":\\\"\\\"},{\\\"curriculum_requisites\\\":[{\\\"source_id\\\":8,\\\"target_id\\\":12,\\\"type\\\":\\\"CurriculumPrerequisite\\\"},{\\\"source_id\\\":6,\\\"target_id\\\":12,\\\"type\\\":\\\"CurriculumPrerequisite\\\"}],\\\"name\\\":\\\"CE 214\\\",\\\"metrics\\\":{\\\"complexity\\\":23.0,\\\"centrality\\\":254,\\\"blocking factor\\\":14,\\\"delay factor\\\":9.0},\\\"nameSub\\\":\\\"Statics\\\",\\\"id\\\":12,\\\"credits\\\":3,\\\"nameCanonical\\\":\\\"\\\"}],\\\"id\\\":3},{\\\"name\\\":\\\"Term 4\\\",\\\"curriculum_items\\\":[{\\\"curriculum_requisites\\\":[{\\\"source_id\\\":13,\\\"target_id\\\":20,\\\"type\\\":\\\"CurriculumPrerequisite\\\"}],\\\"name\\\":\\\"MATH 254\\\",\\\"metrics\\\":{\\\"complexity\\\":25.0,\\\"centrality\\\":188,\\\"blocking factor\\\":16,\\\"delay factor\\\":9.0},\\\"nameSub\\\":\\\"Intro. to ODEs\\\",\\\"id\\\":20,\\\"credits\\\":3,\\\"nameCanonical\\\":\\\"\\\"},{\\\"curriculum_requisites\\\":[],\\\"name\\\":\\\" \\\",\\\"metrics\\\":{\\\"complexity\\\":1.0,\\\"centrality\\\":0,\\\"blocking factor\\\":0,\\\"delay factor\\\":1.0},\\\"nameSub\\\":\\\"Technical Elective 2\\\",\\\"id\\\":44,\\\"credits\\\":3,\\\"nameCanonical\\\":\\\"\\\"},{\\\"curriculum_requisites\\\":[{\\\"source_id\\\":1,\\\"target_id\\\":7,\\\"type\\\":\\\"CurriculumPrerequisite\\\"}],\\\"name\\\":\\\"AME 105\\\",\\\"metrics\\\":{\\\"complexity\\\":16.0,\\\"centrality\\\":28,\\\"blocking factor\\\":9,\\\"delay factor\\\":7.0},\\\"nameSub\\\":\\\"Intro. to MATLAB I\\\",\\\"id\\\":7,\\\"credits\\\":1,\\\"nameCanonical\\\":\\\"\\\"},{\\\"curriculum_requisites\\\":[],\\\"name\\\":\\\" \\\",\\\"metrics\\\":{\\\"complexity\\\":1.0,\\\"centrality\\\":0,\\\"blocking factor\\\":0,\\\"delay factor\\\":1.0},\\\"nameSub\\\":\\\"Technical Elective 1\\\",\\\"id\\\":43,\\\"credits\\\":3,\\\"nameCanonical\\\":\\\"\\\"},{\\\"curriculum_requisites\\\":[],\\\"name\\\":\\\" \\\",\\\"metrics\\\":{\\\"complexity\\\":1.0,\\\"centrality\\\":0,\\\"blocking factor\\\":0,\\\"delay factor\\\":1.0},\\\"nameSub\\\":\\\"Tier II General Ed. 1\\\",\\\"id\\\":34,\\\"credits\\\":3,\\\"nameCanonical\\\":\\\"\\\"},{\\\"curriculum_requisites\\\":[{\\\"source_id\\\":13,\\\"target_id\\\":21,\\\"type\\\":\\\"CurriculumPrerequisite\\\"},{\\\"source_id\\\":8,\\\"target_id\\\":21,\\\"type\\\":\\\"CurriculumPrerequisite\\\"},{\\\"source_id\\\":20,\\\"target_id\\\":21,\\\"type\\\":\\\"CurriculumCorequisite\\\"}],\\\"name\\\":\\\"AME 220\\\",\\\"metrics\\\":{\\\"complexity\\\":17.0,\\\"centrality\\\":198,\\\"blocking factor\\\":8,\\\"delay factor\\\":9.0},\\\"nameSub\\\":\\\"Intro. to Aerospace Eng.\\\",\\\"id\\\":21,\\\"credits\\\":3,\\\"nameCanonical\\\":\\\"\\\"}],\\\"id\\\":4},{\\\"name\\\":\\\"Term 5\\\",\\\"curriculum_items\\\":[{\\\"curriculum_requisites\\\":[{\\\"source_id\\\":20,\\\"target_id\\\":25,\\\"type\\\":\\\"CurriculumPrerequisite\\\"}],\\\"name\\\":\\\"AME 301\\\",\\\"metrics\\\":{\\\"complexity\\\":8.0,\\\"centrality\\\":12,\\\"blocking factor\\\":2,\\\"delay factor\\\":6.0},\\\"nameSub\\\":\\\"Engineering Analysis\\\",\\\"id\\\":25,\\\"credits\\\":3,\\\"nameCanonical\\\":\\\"\\\"},{\\\"curriculum_requisites\\\":[{\\\"source_id\\\":18,\\\"target_id\\\":26,\\\"type\\\":\\\"CurriculumCorequisite\\\"},{\\\"source_id\\\":24,\\\"target_id\\\":26,\\\"type\\\":\\\"CurriculumCorequisite\\\"}],\\\"name\\\":\\\"AME 300\\\",\\\"metrics\\\":{\\\"complexity\\\":19.0,\\\"centrality\\\":204,\\\"blocking factor\\\":10,\\\"delay factor\\\":9.0},\\\"nameSub\\\":\\\"Instrumentation Lab.\\\",\\\"id\\\":26,\\\"credits\\\":3,\\\"nameCanonical\\\":\\\"\\\"},{\\\"curriculum_requisites\\\":[{\\\"source_id\\\":12,\\\"target_id\\\":19,\\\"type\\\":\\\"CurriculumPrerequisite\\\"},{\\\"source_id\\\":20,\\\"target_id\\\":19,\\\"type\\\":\\\"CurriculumCorequisite\\\"}],\\\"name\\\":\\\"AME 250\\\",\\\"metrics\\\":{\\\"complexity\\\":19.0,\\\"centrality\\\":145,\\\"blocking factor\\\":10,\\\"delay factor\\\":9.0},\\\"nameSub\\\":\\\"Dynamics\\\",\\\"id\\\":19,\\\"credits\\\":3,\\\"nameCanonical\\\":\\\"\\\"},{\\\"curriculum_requisites\\\":[{\\\"source_id\\\":12,\\\"target_id\\\":24,\\\"type\\\":\\\"CurriculumPrerequisite\\\"}],\\\"name\\\":\\\"AME  324A\\\",\\\"metrics\\\":{\\\"complexity\\\":20.0,\\\"centrality\\\":162,\\\"blocking factor\\\":11,\\\"delay factor\\\":9.0},\\\"nameSub\\\":\\\"Mech. Behavior of Eng. Materials.\\\",\\\"id\\\":24,\\\"credits\\\":3,\\\"nameCanonical\\\":\\\"\\\"},{\\\"curriculum_requisites\\\":[{\\\"source_id\\\":2,\\\"target_id\\\":27,\\\"type\\\":\\\"CurriculumPrerequisite\\\"}],\\\"name\\\":\\\"MSE 331R\\\",\\\"metrics\\\":{\\\"complexity\\\":4.0,\\\"centrality\\\":3,\\\"blocking factor\\\":1,\\\"delay factor\\\":3.0},\\\"nameSub\\\":\\\"Fund. of Materials for Engineers\\\",\\\"id\\\":27,\\\"credits\\\":3,\\\"nameCanonical\\\":\\\"\\\"},{\\\"curriculum_requisites\\\":[{\\\"source_id\\\":7,\\\"target_id\\\":15,\\\"type\\\":\\\"CurriculumPrerequisite\\\"}],\\\"name\\\":\\\"AME  205\\\",\\\"metrics\\\":{\\\"complexity\\\":15.0,\\\"centrality\\\":28,\\\"blocking factor\\\":8,\\\"delay factor\\\":7.0},\\\"nameSub\\\":\\\"Intro. To MATLAB II\\\",\\\"id\\\":15,\\\"credits\\\":1,\\\"nameCanonical\\\":\\\"\\\"}],\\\"id\\\":5},{\\\"name\\\":\\\"Term 6\\\",\\\"curriculum_items\\\":[{\\\"curriculum_requisites\\\":[{\\\"source_id\\\":18,\\\"target_id\\\":31,\\\"type\\\":\\\"CurriculumPrerequisite\\\"},{\\\"source_id\\\":32,\\\"target_id\\\":31,\\\"type\\\":\\\"CurriculumCorequisite\\\"},{\\\"source_id\\\":21,\\\"target_id\\\":31,\\\"type\\\":\\\"CurriculumPrerequisite\\\"},{\\\"source_id\\\":20,\\\"target_id\\\":31,\\\"type\\\":\\\"CurriculumPrerequisite\\\"}],\\\"name\\\":\\\"AME 323\\\",\\\"metrics\\\":{\\\"complexity\\\":13.0,\\\"centrality\\\":274,\\\"blocking factor\\\":4,\\\"delay factor\\\":9.0},\\\"nameSub\\\":\\\"Gasdynamics\\\",\\\"id\\\":31,\\\"credits\\\":3,\\\"nameCanonical\\\":\\\"\\\"},{\\\"curriculum_requisites\\\":[],\\\"name\\\":\\\"AME 313\\\",\\\"metrics\\\":{\\\"complexity\\\":5.0,\\\"centrality\\\":0,\\\"blocking factor\\\":2,\\\"delay factor\\\":3.0},\\\"nameSub\\\":\\\"Aero.\\/Mech. Eng. Lab\\\",\\\"id\\\":33,\\\"credits\\\":1,\\\"nameCanonical\\\":\\\"\\\"},{\\\"curriculum_requisites\\\":[],\\\"name\\\":\\\" \\\",\\\"metrics\\\":{\\\"complexity\\\":1.0,\\\"centrality\\\":0,\\\"blocking factor\\\":0,\\\"delay factor\\\":1.0},\\\"nameSub\\\":\\\"Tier II General Ed. 2\\\",\\\"id\\\":45,\\\"credits\\\":3,\\\"nameCanonical\\\":\\\"\\\"},{\\\"curriculum_requisites\\\":[{\\\"source_id\\\":23,\\\"target_id\\\":30,\\\"type\\\":\\\"CurriculumCorequisite\\\"},{\\\"source_id\\\":19,\\\"target_id\\\":30,\\\"type\\\":\\\"CurriculumPrerequisite\\\"},{\\\"source_id\\\":21,\\\"target_id\\\":30,\\\"type\\\":\\\"CurriculumPrerequisite\\\"}],\\\"name\\\":\\\"AME 321\\\",\\\"metrics\\\":{\\\"complexity\\\":12.0,\\\"centrality\\\":174,\\\"blocking factor\\\":3,\\\"delay factor\\\":9.0},\\\"nameSub\\\":\\\"Aircraft Performance\\\",\\\"id\\\":30,\\\"credits\\\":3,\\\"nameCanonical\\\":\\\"\\\"},{\\\"curriculum_requisites\\\":[{\\\"source_id\\\":26,\\\"target_id\\\":32,\\\"type\\\":\\\"CurriculumCorequisite\\\"},{\\\"source_id\\\":19,\\\"target_id\\\":32,\\\"type\\\":\\\"CurriculumPrerequisite\\\"},{\\\"source_id\\\":15,\\\"target_id\\\":32,\\\"type\\\":\\\"CurriculumPrerequisite\\\"},{\\\"source_id\\\":20,\\\"target_id\\\":32,\\\"type\\\":\\\"CurriculumPrerequisite\\\"}],\\\"name\\\":\\\"AME 302\\\",\\\"metrics\\\":{\\\"complexity\\\":15.0,\\\"centrality\\\":232,\\\"blocking factor\\\":6,\\\"delay factor\\\":9.0},\\\"nameSub\\\":\\\"Numerical Methods\\\",\\\"id\\\":32,\\\"credits\\\":3,\\\"nameCanonical\\\":\\\"\\\"},{\\\"curriculum_requisites\\\":[{\\\"source_id\\\":26,\\\"target_id\\\":23,\\\"type\\\":\\\"CurriculumCorequisite\\\"},{\\\"source_id\\\":21,\\\"target_id\\\":23,\\\"type\\\":\\\"CurriculumPrerequisite\\\"}],\\\"name\\\":\\\"AME 320\\\",\\\"metrics\\\":{\\\"complexity\\\":14.0,\\\"centrality\\\":214,\\\"blocking factor\\\":5,\\\"delay factor\\\":9.0},\\\"nameSub\\\":\\\"Aerodynamics\\\",\\\"id\\\":23,\\\"credits\\\":3,\\\"nameCanonical\\\":\\\"\\\"}],\\\"id\\\":6},{\\\"name\\\":\\\"Term 7\\\",\\\"curriculum_items\\\":[{\\\"curriculum_requisites\\\":[{\\\"source_id\\\":23,\\\"target_id\\\":35,\\\"type\\\":\\\"CurriculumPrerequisite\\\"},{\\\"source_id\\\":31,\\\"target_id\\\":35,\\\"type\\\":\\\"CurriculumPrerequisite\\\"},{\\\"source_id\\\":27,\\\"target_id\\\":35,\\\"type\\\":\\\"CurriculumPrerequisite\\\"}],\\\"name\\\":\\\"AME 401\\\",\\\"metrics\\\":{\\\"complexity\\\":8.0,\\\"centrality\\\":0,\\\"blocking factor\\\":0,\\\"delay factor\\\":8.0},\\\"nameSub\\\":\\\"Senior Aerospace Lab.\\\",\\\"id\\\":35,\\\"credits\\\":3,\\\"nameCanonical\\\":\\\"\\\"},{\\\"curriculum_requisites\\\":[],\\\"name\\\":\\\"AME 495S\\\",\\\"metrics\\\":{\\\"complexity\\\":1.0,\\\"centrality\\\":0,\\\"blocking factor\\\":0,\\\"delay factor\\\":1.0},\\\"nameSub\\\":\\\"Senior Colloquium\\\",\\\"id\\\":40,\\\"credits\\\":1,\\\"nameCanonical\\\":\\\"\\\"},{\\\"curriculum_requisites\\\":[{\\\"source_id\\\":23,\\\"target_id\\\":38,\\\"type\\\":\\\"CurriculumPrerequisite\\\"},{\\\"source_id\\\":15,\\\"target_id\\\":38,\\\"type\\\":\\\"CurriculumPrerequisite\\\"},{\\\"source_id\\\":30,\\\"target_id\\\":38,\\\"type\\\":\\\"CurriculumPrerequisite\\\"}],\\\"name\\\":\\\"AME 427\\\",\\\"metrics\\\":{\\\"complexity\\\":8.0,\\\"centrality\\\":0,\\\"blocking factor\\\":0,\\\"delay factor\\\":8.0},\\\"nameSub\\\":\\\"Stability and Control of Aero. Vehicles\\\",\\\"id\\\":38,\\\"credits\\\":3,\\\"nameCanonical\\\":\\\"\\\"},{\\\"curriculum_requisites\\\":[{\\\"source_id\\\":23,\\\"target_id\\\":36,\\\"type\\\":\\\"CurriculumPrerequisite\\\"},{\\\"source_id\\\":31,\\\"target_id\\\":36,\\\"type\\\":\\\"CurriculumPrerequisite\\\"},{\\\"source_id\\\":33,\\\"target_id\\\":36,\\\"type\\\":\\\"CurriculumPrerequisite\\\"},{\\\"source_id\\\":30,\\\"target_id\\\":36,\\\"type\\\":\\\"CurriculumPrerequisite\\\"}],\\\"name\\\":\\\"AME 420\\\",\\\"metrics\\\":{\\\"complexity\\\":10.0,\\\"centrality\\\":240,\\\"blocking factor\\\":1,\\\"delay factor\\\":9.0},\\\"nameSub\\\":\\\"Aerospace Conceptual Design\\\",\\\"id\\\":36,\\\"credits\\\":3,\\\"nameCanonical\\\":\\\"\\\"},{\\\"curriculum_requisites\\\":[],\\\"name\\\":\\\"AME 211\\\",\\\"metrics\\\":{\\\"complexity\\\":1.0,\\\"centrality\\\":0,\\\"blocking factor\\\":0,\\\"delay factor\\\":1.0},\\\"nameSub\\\":\\\"Comp. Aided Drafting & Manufacturing\\\",\\\"id\\\":16,\\\"credits\\\":3,\\\"nameCanonical\\\":\\\"\\\"},{\\\"curriculum_requisites\\\":[],\\\"name\\\":\\\" \\\",\\\"metrics\\\":{\\\"complexity\\\":1.0,\\\"centrality\\\":0,\\\"blocking factor\\\":0,\\\"delay factor\\\":1.0},\\\"nameSub\\\":\\\"Tier I General Ed. 3\\\",\\\"id\\\":22,\\\"credits\\\":3,\\\"nameCanonical\\\":\\\"\\\"}],\\\"id\\\":7},{\\\"name\\\":\\\"Term 8\\\",\\\"curriculum_items\\\":[{\\\"curriculum_requisites\\\":[{\\\"source_id\\\":13,\\\"target_id\\\":39,\\\"type\\\":\\\"CurriculumPrerequisite\\\"},{\\\"source_id\\\":19,\\\"target_id\\\":39,\\\"type\\\":\\\"CurriculumPrerequisite\\\"}],\\\"name\\\":\\\"AME 457\\\",\\\"metrics\\\":{\\\"complexity\\\":6.0,\\\"centrality\\\":0,\\\"blocking factor\\\":0,\\\"delay factor\\\":6.0},\\\"nameSub\\\":\\\"Orbital Mechanicans and Space Flt.\\\",\\\"id\\\":39,\\\"credits\\\":3,\\\"nameCanonical\\\":\\\"\\\"},{\\\"curriculum_requisites\\\":[{\\\"source_id\\\":24,\\\"target_id\\\":42,\\\"type\\\":\\\"CurriculumPrerequisite\\\"},{\\\"source_id\\\":32,\\\"target_id\\\":42,\\\"type\\\":\\\"CurriculumPrerequisite\\\"},{\\\"source_id\\\":18,\\\"target_id\\\":42,\\\"type\\\":\\\"CurriculumPrerequisite\\\"}],\\\"name\\\":\\\"AME 431\\\",\\\"metrics\\\":{\\\"complexity\\\":7.0,\\\"centrality\\\":0,\\\"blocking factor\\\":0,\\\"delay factor\\\":7.0},\\\"nameSub\\\":\\\"Num. Meth. in Fluid Mech. & Heat Xfer\\\",\\\"id\\\":42,\\\"credits\\\":3,\\\"nameCanonical\\\":\\\"\\\"},{\\\"curriculum_requisites\\\":[{\\\"source_id\\\":25,\\\"target_id\\\":29,\\\"type\\\":\\\"CurriculumPrerequisite\\\"}],\\\"name\\\":\\\"AME 324B\\\",\\\"metrics\\\":{\\\"complexity\\\":6.0,\\\"centrality\\\":0,\\\"blocking factor\\\":0,\\\"delay factor\\\":6.0},\\\"nameSub\\\":\\\"Eng. Component Design\\\",\\\"id\\\":29,\\\"credits\\\":3,\\\"nameCanonical\\\":\\\"\\\"},{\\\"curriculum_requisites\\\":[{\\\"source_id\\\":24,\\\"target_id\\\":37,\\\"type\\\":\\\"CurriculumPrerequisite\\\"},{\\\"source_id\\\":31,\\\"target_id\\\":37,\\\"type\\\":\\\"CurriculumPrerequisite\\\"},{\\\"source_id\\\":18,\\\"target_id\\\":37,\\\"type\\\":\\\"CurriculumPrerequisite\\\"}],\\\"name\\\":\\\"AME 425\\\",\\\"metrics\\\":{\\\"complexity\\\":8.0,\\\"centrality\\\":0,\\\"blocking factor\\\":0,\\\"delay factor\\\":8.0},\\\"nameSub\\\":\\\"Aerospace Propulsion\\\",\\\"id\\\":37,\\\"credits\\\":3,\\\"nameCanonical\\\":\\\"\\\"},{\\\"curriculum_requisites\\\":[{\\\"source_id\\\":25,\\\"target_id\\\":28,\\\"type\\\":\\\"CurriculumPrerequisite\\\"}],\\\"name\\\":\\\"AME 324L\\\",\\\"metrics\\\":{\\\"complexity\\\":6.0,\\\"centrality\\\":0,\\\"blocking factor\\\":0,\\\"delay factor\\\":6.0},\\\"nameSub\\\":\\\"Mech. of Materials Lab.\\\",\\\"id\\\":28,\\\"credits\\\":1,\\\"nameCanonical\\\":\\\"\\\"},{\\\"curriculum_requisites\\\":[{\\\"source_id\\\":36,\\\"target_id\\\":41,\\\"type\\\":\\\"CurriculumPrerequisite\\\"},{\\\"source_id\\\":33,\\\"target_id\\\":41,\\\"type\\\":\\\"CurriculumCorequisite\\\"}],\\\"name\\\":\\\"AME 422\\\",\\\"metrics\\\":{\\\"complexity\\\":9.0,\\\"centrality\\\":0,\\\"blocking factor\\\":0,\\\"delay factor\\\":9.0},\\\"nameSub\\\":\\\"Aerospace Eng.Design\\\",\\\"id\\\":41,\\\"credits\\\":3,\\\"nameCanonical\\\":\\\"\\\"}],\\\"id\\\":8}],\\\"institution\\\":\\\"University of Arizona\\\"}},\\\"*\\\"); window.removeEventListener(\\\"message\\\",window.messageReceived); window.messageReceived=(function (event){return (event.data.curriculum!==undefined) ? (WebIO.setval({\\\"name\\\":\\\"curriculum-data\\\",\\\"scope\\\":\\\"4005404010794350453\\\",\\\"id\\\":\\\"ob_06\\\",\\\"type\\\":\\\"observable\\\"},event.data.curriculum)) : undefined}); return window.addEventListener(\\\"message\\\",window.messageReceived)})\"},\"style\":{\"padding\":\"0\",\"height\":\"100vh\",\"margin\":\"0\",\"border\":\"none\",\"width\":\"100%\"}},\"nodeType\":\"DOM\",\"type\":\"node\",\"instanceArgs\":{\"namespace\":\"html\",\"tag\":\"iframe\"},\"children\":[\"\"]}]},\n",
       "            window,\n",
       "        );\n",
       "    } else {\n",
       "        document\n",
       "            .querySelector('[data-webio-mountpoint=\"14233596971998776023\"]')\n",
       "            .innerHTML = (\n",
       "                '<div style=\"padding: 1em; background-color: #f8d6da; border: 1px solid #f5c6cb\">' +\n",
       "                '<p><strong>WebIO not detected.</strong></p>' +\n",
       "                '<p>Please read ' +\n",
       "                '<a href=\"https://juliagizmos.github.io/WebIO.jl/latest/troubleshooting/not-detected/\" target=\"_blank\">the troubleshooting guide</a> ' +\n",
       "                'for more information on how to resolve this issue.</p>' +\n",
       "                '<p><a href=\"https://juliagizmos.github.io/WebIO.jl/latest/troubleshooting/not-detected/\" target=\"_blank\">https://juliagizmos.github.io/WebIO.jl/latest/troubleshooting/not-detected/</a></p>' +\n",
       "                '</div>'\n",
       "            );\n",
       "    }\n",
       "    </script>\n",
       "</div>\n"
      ],
      "text/plain": [
       "WebIO.Scope(WebIO.Node{WebIO.DOM}(WebIO.DOM(:html, :iframe), Any[\"\"], Dict{Symbol,Any}(:src => \"http://localhost:8156\",:id => \"curriculum\",:events => Dict(:load => WebIO.JSString(\"(function (){this.contentWindow.postMessage({\\\"options\\\":{\\\"hideTerms\\\":false,\\\"edit\\\":false},\\\"curriculum\\\":{\\\"name\\\":\\\"Aerospace Engineering\\\",\\\"dp_name\\\":\\\"\\\",\\\"curriculum_terms\\\":[{\\\"name\\\":\\\"Term 1\\\",\\\"curriculum_items\\\":[{\\\"curriculum_requisites\\\":[],\\\"name\\\":\\\"CHEM 151\\\",\\\"metrics\\\":{\\\"complexity\\\":5.0,\\\"centrality\\\":0,\\\"blocking factor\\\":2,\\\"delay factor\\\":3.0},\\\"nameSub\\\":\\\"Gen Chemistry I\\\",\\\"id\\\":2,\\\"credits\\\":4,\\\"nameCanonical\\\":\\\"\\\"},{\\\"curriculum_requisites\\\":[],\\\"name\\\":\\\" \\\",\\\"metrics\\\":{\\\"complexity\\\":1.0,\\\"centrality\\\":0,\\\"blocking factor\\\":0,\\\"delay factor\\\":1.0},\\\"nameSub\\\":\\\"Tier I General Ed. 1\\\",\\\"id\\\":11,\\\"credits\\\":3,\\\"nameCanonical\\\":\\\"\\\"},{\\\"curriculum_requisites\\\":[{\\\"source_id\\\":1,\\\"target_id\\\":4,\\\"type\\\":\\\"CurriculumCorequisite\\\"}],\\\"name\\\":\\\"ENGR 102\\\",\\\"metrics\\\":{\\\"complexity\\\":2.0,\\\"centrality\\\":0,\\\"blocking factor\\\":0,\\\"delay factor\\\":2.0},\\\"nameSub\\\":\\\"Intro to Engineering\\\",\\\"id\\\":4,\\\"credits\\\":3,\\\"nameCanonical\\\":\\\"\\\"},{\\\"curriculum_requisites\\\":[],\\\"name\\\":\\\"MATH 125\\\",\\\"metrics\\\":{\\\"complexity\\\":38.0,\\\"centrality\\\":0,\\\"blocking factor\\\":29,\\\"delay factor\\\":9.0},\\\"nameSub\\\":\\\"Calculus I w/ Applications\\\",\\\"id\\\":1,\\\"credits\\\":3,\\\"nameCanonical\\\":\\\"\\\"},{\\\"curriculum_requisites\\\":[],\\\"name\\\":\\\"ENGL 101\\\",\\\"metrics\\\":{\\\"complexity\\\":3.0,\\\"centrality\\\":0,\\\"blocking factor\\\":1,\\\"delay factor\\\":2.0},\\\"nameSub\\\":\\\"First-year Comp.\\\",\\\"id\\\":3,\\\"credits\\\":3,\\\"nameCanonical\\\":\\\"\\\"}],\\\"id\\\":1},{\\\"name\\\":\\\"Term 2\\\",\\\"curriculum_items\\\":[{\\\"curriculum_requisites\\\":[{\\\"source_id\\\":1,\\\"target_id\\\":8,\\\"type\\\":\\\"CurriculumPrerequisite\\\"}],\\\"name\\\":\\\"PHYS 141\\\",\\\"metrics\\\":{\\\"complexity\\\":27.0,\\\"centrality\\\":272,\\\"blocking factor\\\":18,\\\"delay factor\\\":9.0},\\\"nameSub\\\":\\\"Intro Mechanics\\\",\\\"id\\\":8,\\\"credits\\\":4,\\\"nameCanonical\\\":\\\"\\\"},{\\\"curriculum_requisites\\\":[],\\\"name\\\":\\\" \\\",\\\"metrics\\\":{\\\"complexity\\\":1.0,\\\"centrality\\\":0,\\\"blocking factor\\\":0,\\\"delay factor\\\":1.0},\\\"nameSub\\\":\\\"Tier I General Ed. 2\\\",\\\"id\\\":17,\\\"credits\\\":3,\\\"nameCanonical\\\":\\\"\\\"},{\\\"curriculum_requisites\\\":[{\\\"source_id\\\":1,\\\"target_id\\\":10,\\\"type\\\":\\\"CurriculumCorequisite\\\"}],\\\"name\\\":\\\"ECE 175\\\",\\\"metrics\\\":{\\\"complexity\\\":2.0,\\\"centrality\\\":0,\\\"blocking factor\\\":0,\\\"delay factor\\\":2.0},\\\"nameSub\\\":\\\"Programming for Eng. Apps.\\\",\\\"id\\\":10,\\\"credits\\\":3,\\\"nameCanonical\\\":\\\"\\\"},{\\\"curriculum_requisites\\\":[{\\\"source_id\\\":1,\\\"target_id\\\":6,\\\"type\\\":\\\"CurriculumPrerequisite\\\"}],\\\"name\\\":\\\"MATH 129\\\",\\\"metrics\\\":{\\\"complexity\\\":31.0,\\\"centrality\\\":388,\\\"blocking factor\\\":22,\\\"delay factor\\\":9.0},\\\"nameSub\\\":\\\"Calculus II\\\",\\\"id\\\":6,\\\"credits\\\":3,\\\"nameCanonical\\\":\\\"\\\"},{\\\"curriculum_requisites\\\":[],\\\"name\\\":\\\" \\\",\\\"metrics\\\":{\\\"complexity\\\":1.0,\\\"centrality\\\":0,\\\"blocking factor\\\":0,\\\"delay factor\\\":1.0},\\\"nameSub\\\":\\\"Tier I General Ed.\\\",\\\"id\\\":5,\\\"credits\\\":3,\\\"nameCanonical\\\":\\\"\\\"}],\\\"id\\\":2},{\\\"name\\\":\\\"Term 3\\\",\\\"curriculum_items\\\":[{\\\"curriculum_requisites\\\":[{\\\"source_id\\\":8,\\\"target_id\\\":14,\\\"type\\\":\\\"CurriculumPrerequisite\\\"},{\\\"source_id\\\":6,\\\"target_id\\\":14,\\\"type\\\":\\\"CurriculumPrerequisite\\\"}],\\\"name\\\":\\\"PHYS 241\\\",\\\"metrics\\\":{\\\"complexity\\\":3.0,\\\"centrality\\\":0,\\\"blocking factor\\\":0,\\\"delay factor\\\":3.0},\\\"nameSub\\\":\\\"Electricity & Magnetism\\\",\\\"id\\\":14,\\\"credits\\\":4,\\\"nameCanonical\\\":\\\"\\\"},{\\\"curriculum_requisites\\\":[{\\\"source_id\\\":8,\\\"target_id\\\":18,\\\"type\\\":\\\"CurriculumPrerequisite\\\"}],\\\"name\\\":\\\"AME 230\\\",\\\"metrics\\\":{\\\"complexity\\\":19.0,\\\"centrality\\\":86,\\\"blocking factor\\\":11,\\\"delay factor\\\":8.0},\\\"nameSub\\\":\\\"Thermodynamics\\\",\\\"id\\\":18,\\\"credits\\\":3,\\\"nameCanonical\\\":\\\"\\\"},{\\\"curriculum_requisites\\\":[{\\\"source_id\\\":6,\\\"target_id\\\":13,\\\"type\\\":\\\"CurriculumPrerequisite\\\"}],\\\"name\\\":\\\"MATH  223\\\",\\\"metrics\\\":{\\\"complexity\\\":26.0,\\\"centrality\\\":258,\\\"blocking factor\\\":17,\\\"delay factor\\\":9.0},\\\"nameSub\\\":\\\"Vector Calculus\\\",\\\"id\\\":13,\\\"credits\\\":4,\\\"nameCanonical\\\":\\\"\\\"},{\\\"curriculum_requisites\\\":[{\\\"source_id\\\":3,\\\"target_id\\\":9,\\\"type\\\":\\\"CurriculumPrerequisite\\\"}],\\\"name\\\":\\\"ENGL 102\\\",\\\"metrics\\\":{\\\"complexity\\\":2.0,\\\"centrality\\\":0,\\\"blocking factor\\\":0,\\\"delay factor\\\":2.0},\\\"nameSub\\\":\\\"First-year Comp.\\\",\\\"id\\\":9,\\\"credits\\\":3,\\\"nameCanonical\\\":\\\"\\\"},{\\\"curriculum_requisites\\\":[{\\\"source_id\\\":8,\\\"target_id\\\":12,\\\"type\\\":\\\"CurriculumPrerequisite\\\"},{\\\"source_id\\\":6,\\\"target_id\\\":12,\\\"type\\\":\\\"CurriculumPrerequisite\\\"}],\\\"name\\\":\\\"CE 214\\\",\\\"metrics\\\":{\\\"complexity\\\":23.0,\\\"centrality\\\":254,\\\"blocking factor\\\":14,\\\"delay factor\\\":9.0},\\\"nameSub\\\":\\\"Statics\\\",\\\"id\\\":12,\\\"credits\\\":3,\\\"nameCanonical\\\":\\\"\\\"}],\\\"id\\\":3},{\\\"name\\\":\\\"Term 4\\\",\\\"curriculum_items\\\":[{\\\"curriculum_requisites\\\":[{\\\"source_id\\\":13,\\\"target_id\\\":20,\\\"type\\\":\\\"CurriculumPrerequisite\\\"}],\\\"name\\\":\\\"MATH 254\\\",\\\"metrics\\\":{\\\"complexity\\\":25.0,\\\"centrality\\\":188,\\\"blocking factor\\\":16,\\\"delay factor\\\":9.0},\\\"nameSub\\\":\\\"Intro. to ODEs\\\",\\\"id\\\":20,\\\"credits\\\":3,\\\"nameCanonical\\\":\\\"\\\"},{\\\"curriculum_requisites\\\":[],\\\"name\\\":\\\" \\\",\\\"metrics\\\":{\\\"complexity\\\":1.0,\\\"centrality\\\":0,\\\"blocking factor\\\":0,\\\"delay factor\\\":1.0},\\\"nameSub\\\":\\\"Technical Elective 2\\\",\\\"id\\\":44,\\\"credits\\\":3,\\\"nameCanonical\\\":\\\"\\\"},{\\\"curriculum_requisites\\\":[{\\\"source_id\\\":1,\\\"target_id\\\":7,\\\"type\\\":\\\"CurriculumPrerequisite\\\"}],\\\"name\\\":\\\"AME 105\\\",\\\"metrics\\\":{\\\"complexity\\\":16.0,\\\"centrality\\\":28,\\\"blocking factor\\\":9,\\\"delay factor\\\":7.0},\\\"nameSub\\\":\\\"Intro. to MATLAB I\\\",\\\"id\\\":7,\\\"credits\\\":1,\\\"nameCanonical\\\":\\\"\\\"},{\\\"curriculum_requisites\\\":[],\\\"name\\\":\\\" \\\",\\\"metrics\\\":{\\\"complexity\\\":1.0,\\\"centrality\\\":0,\\\"blocking factor\\\":0,\\\"delay factor\\\":1.0},\\\"nameSub\\\":\\\"Technical Elective 1\\\",\\\"id\\\":43,\\\"credits\\\":3,\\\"nameCanonical\\\":\\\"\\\"},{\\\"curriculum_requisites\\\":[],\\\"name\\\":\\\" \\\",\\\"metrics\\\":{\\\"complexity\\\":1.0,\\\"centrality\\\":0,\\\"blocking factor\\\":0,\\\"delay factor\\\":1.0},\\\"nameSub\\\":\\\"Tier II General Ed. 1\\\",\\\"id\\\":34,\\\"credits\\\":3,\\\"nameCanonical\\\":\\\"\\\"},{\\\"curriculum_requisites\\\":[{\\\"source_id\\\":13,\\\"target_id\\\":21,\\\"type\\\":\\\"CurriculumPrerequisite\\\"},{\\\"source_id\\\":8,\\\"target_id\\\":21,\\\"type\\\":\\\"CurriculumPrerequisite\\\"},{\\\"source_id\\\":20,\\\"target_id\\\":21,\\\"type\\\":\\\"CurriculumCorequisite\\\"}],\\\"name\\\":\\\"AME 220\\\",\\\"metrics\\\":{\\\"complexity\\\":17.0,\\\"centrality\\\":198,\\\"blocking factor\\\":8,\\\"delay factor\\\":9.0},\\\"nameSub\\\":\\\"Intro. to Aerospace Eng.\\\",\\\"id\\\":21,\\\"credits\\\":3,\\\"nameCanonical\\\":\\\"\\\"}],\\\"id\\\":4},{\\\"name\\\":\\\"Term 5\\\",\\\"curriculum_items\\\":[{\\\"curriculum_requisites\\\":[{\\\"source_id\\\":20,\\\"target_id\\\":25,\\\"type\\\":\\\"CurriculumPrerequisite\\\"}],\\\"name\\\":\\\"AME 301\\\",\\\"metrics\\\":{\\\"complexity\\\":8.0,\\\"centrality\\\":12,\\\"blocking factor\\\":2,\\\"delay factor\\\":6.0},\\\"nameSub\\\":\\\"Engineering Analysis\\\",\\\"id\\\":25,\\\"credits\\\":3,\\\"nameCanonical\\\":\\\"\\\"},{\\\"curriculum_requisites\\\":[{\\\"source_id\\\":18,\\\"target_id\\\":26,\\\"type\\\":\\\"CurriculumCorequisite\\\"},{\\\"source_id\\\":24,\\\"target_id\\\":26,\\\"type\\\":\\\"CurriculumCorequisite\\\"}],\\\"name\\\":\\\"AME 300\\\",\\\"metrics\\\":{\\\"complexity\\\":19.0,\\\"centrality\\\":204,\\\"blocking factor\\\":10,\\\"delay factor\\\":9.0},\\\"nameSub\\\":\\\"Instrumentation Lab.\\\",\\\"id\\\":26,\\\"credits\\\":3,\\\"nameCanonical\\\":\\\"\\\"},{\\\"curriculum_requisites\\\":[{\\\"source_id\\\":12,\\\"target_id\\\":19,\\\"type\\\":\\\"CurriculumPrerequisite\\\"},{\\\"source_id\\\":20,\\\"target_id\\\":19,\\\"type\\\":\\\"CurriculumCorequisite\\\"}],\\\"name\\\":\\\"AME 250\\\",\\\"metrics\\\":{\\\"complexity\\\":19.0,\\\"centrality\\\":145,\\\"blocking factor\\\":10,\\\"delay factor\\\":9.0},\\\"nameSub\\\":\\\"Dynamics\\\",\\\"id\\\":19,\\\"credits\\\":3,\\\"nameCanonical\\\":\\\"\\\"},{\\\"curriculum_requisites\\\":[{\\\"source_id\\\":12,\\\"target_id\\\":24,\\\"type\\\":\\\"CurriculumPrerequisite\\\"}],\\\"name\\\":\\\"AME  324A\\\",\\\"metrics\\\":{\\\"complexity\\\":20.0,\\\"centrality\\\":162,\\\"blocking factor\\\":11,\\\"delay factor\\\":9.0},\\\"nameSub\\\":\\\"Mech. Behavior of Eng. Materials.\\\",\\\"id\\\":24,\\\"credits\\\":3,\\\"nameCanonical\\\":\\\"\\\"},{\\\"curriculum_requisites\\\":[{\\\"source_id\\\":2,\\\"target_id\\\":27,\\\"type\\\":\\\"CurriculumPrerequisite\\\"}],\\\"name\\\":\\\"MSE 331R\\\",\\\"metrics\\\":{\\\"complexity\\\":4.0,\\\"centrality\\\":3,\\\"blocking factor\\\":1,\\\"delay factor\\\":3.0},\\\"nameSub\\\":\\\"Fund. of Materials for Engineers\\\",\\\"id\\\":27,\\\"credits\\\":3,\\\"nameCanonical\\\":\\\"\\\"},{\\\"curriculum_requisites\\\":[{\\\"source_id\\\":7,\\\"target_id\\\":15,\\\"type\\\":\\\"CurriculumPrerequisite\\\"}],\\\"name\\\":\\\"AME  205\\\",\\\"metrics\\\":{\\\"complexity\\\":15.0,\\\"centrality\\\":28,\\\"blocking factor\\\":8,\\\"delay factor\\\":7.0},\\\"nameSub\\\":\\\"Intro. To MATLAB II\\\",\\\"id\\\":15,\\\"credits\\\":1,\\\"nameCanonical\\\":\\\"\\\"}],\\\"id\\\":5},{\\\"name\\\":\\\"Term 6\\\",\\\"curriculum_items\\\":[{\\\"curriculum_requisites\\\":[{\\\"source_id\\\":18,\\\"target_id\\\":31,\\\"type\\\":\\\"CurriculumPrerequisite\\\"},{\\\"source_id\\\":32,\\\"target_id\\\":31,\\\"type\\\":\\\"CurriculumCorequisite\\\"},{\\\"source_id\\\":21,\\\"target_id\\\":31,\\\"type\\\":\\\"CurriculumPrerequisite\\\"},{\\\"source_id\\\":20,\\\"target_id\\\":31,\\\"type\\\":\\\"CurriculumPrerequisite\\\"}],\\\"name\\\":\\\"AME 323\\\",\\\"metrics\\\":{\\\"complexity\\\":13.0,\\\"centrality\\\":274,\\\"blocking factor\\\":4,\\\"delay factor\\\":9.0},\\\"nameSub\\\":\\\"Gasdynamics\\\",\\\"id\\\":31,\\\"credits\\\":3,\\\"nameCanonical\\\":\\\"\\\"},{\\\"curriculum_requisites\\\":[],\\\"name\\\":\\\"AME 313\\\",\\\"metrics\\\":{\\\"complexity\\\":5.0,\\\"centrality\\\":0,\\\"blocking factor\\\":2,\\\"delay factor\\\":3.0},\\\"nameSub\\\":\\\"Aero./Mech. Eng. Lab\\\",\\\"id\\\":33,\\\"credits\\\":1,\\\"nameCanonical\\\":\\\"\\\"},{\\\"curriculum_requisites\\\":[],\\\"name\\\":\\\" \\\",\\\"metrics\\\":{\\\"complexity\\\":1.0,\\\"centrality\\\":0,\\\"blocking factor\\\":0,\\\"delay factor\\\":1.0},\\\"nameSub\\\":\\\"Tier II General Ed. 2\\\",\\\"id\\\":45,\\\"credits\\\":3,\\\"nameCanonical\\\":\\\"\\\"},{\\\"curriculum_requisites\\\":[{\\\"source_id\\\":23,\\\"target_id\\\":30,\\\"type\\\":\\\"CurriculumCorequisite\\\"},{\\\"source_id\\\":19,\\\"target_id\\\":30,\\\"type\\\":\\\"CurriculumPrerequisite\\\"},{\\\"source_id\\\":21,\\\"target_id\\\":30,\\\"type\\\":\\\"CurriculumPrerequisite\\\"}],\\\"name\\\":\\\"AME 321\\\",\\\"metrics\\\":{\\\"complexity\\\":12.0,\\\"centrality\\\":174,\\\"blocking factor\\\":3,\\\"delay factor\\\":9.0},\\\"nameSub\\\":\\\"Aircraft Performance\\\",\\\"id\\\":30,\\\"credits\\\":3,\\\"nameCanonical\\\":\\\"\\\"},{\\\"curriculum_requisites\\\":[{\\\"source_id\\\":26,\\\"target_id\\\":32,\\\"type\\\":\\\"CurriculumCorequisite\\\"},{\\\"source_id\\\":19,\\\"target_id\\\":32,\\\"type\\\":\\\"CurriculumPrerequisite\\\"},{\\\"source_id\\\":15,\\\"target_id\\\":32,\\\"type\\\":\\\"CurriculumPrerequisite\\\"},{\\\"source_id\\\":20,\\\"target_id\\\":32,\\\"type\\\":\\\"CurriculumPrerequisite\\\"}],\\\"name\\\":\\\"AME 302\\\",\\\"metrics\\\":{\\\"complexity\\\":15.0,\\\"centrality\\\":232,\\\"blocking factor\\\":6,\\\"delay factor\\\":9.0},\\\"nameSub\\\":\\\"Numerical Methods\\\",\\\"id\\\":32,\\\"credits\\\":3,\\\"nameCanonical\\\":\\\"\\\"},{\\\"curriculum_requisites\\\":[{\\\"source_id\\\":26,\\\"target_id\\\":23,\\\"type\\\":\\\"CurriculumCorequisite\\\"},{\\\"source_id\\\":21,\\\"target_id\\\":23,\\\"type\\\":\\\"CurriculumPrerequisite\\\"}],\\\"name\\\":\\\"AME 320\\\",\\\"metrics\\\":{\\\"complexity\\\":14.0,\\\"centrality\\\":214,\\\"blocking factor\\\":5,\\\"delay factor\\\":9.0},\\\"nameSub\\\":\\\"Aerodynamics\\\",\\\"id\\\":23,\\\"credits\\\":3,\\\"nameCanonical\\\":\\\"\\\"}],\\\"id\\\":6},{\\\"name\\\":\\\"Term 7\\\",\\\"curriculum_items\\\":[{\\\"curriculum_requisites\\\":[{\\\"source_id\\\":23,\\\"target_id\\\":35,\\\"type\\\":\\\"CurriculumPrerequisite\\\"},{\\\"source_id\\\":31,\\\"target_id\\\":35,\\\"type\\\":\\\"CurriculumPrerequisite\\\"},{\\\"source_id\\\":27,\\\"target_id\\\":35,\\\"type\\\":\\\"CurriculumPrerequisite\\\"}],\\\"name\\\":\\\"AME 401\\\",\\\"metrics\\\":{\\\"complexity\\\":8.0,\\\"centrality\\\":0,\\\"blocking factor\\\":0,\\\"delay factor\\\":8.0},\\\"nameSub\\\":\\\"Senior Aerospace Lab.\\\",\\\"id\\\":35,\\\"credits\\\":3,\\\"nameCanonical\\\":\\\"\\\"},{\\\"curriculum_requisites\\\":[],\\\"name\\\":\\\"AME 495S\\\",\\\"metrics\\\":{\\\"complexity\\\":1.0,\\\"centrality\\\":0,\\\"blocking factor\\\":0,\\\"delay factor\\\":1.0},\\\"nameSub\\\":\\\"Senior Colloquium\\\",\\\"id\\\":40,\\\"credits\\\":1,\\\"nameCanonical\\\":\\\"\\\"},{\\\"curriculum_requisites\\\":[{\\\"source_id\\\":23,\\\"target_id\\\":38,\\\"type\\\":\\\"CurriculumPrerequisite\\\"},{\\\"source_id\\\":15,\\\"target_id\\\":38,\\\"type\\\":\\\"CurriculumPrerequisite\\\"},{\\\"source_id\\\":30,\\\"target_id\\\":38,\\\"type\\\":\\\"CurriculumPrerequisite\\\"}],\\\"name\\\":\\\"AME 427\\\",\\\"metrics\\\":{\\\"complexity\\\":8.0,\\\"centrality\\\":0,\\\"blocking factor\\\":0,\\\"delay factor\\\":8.0},\\\"nameSub\\\":\\\"Stability and Control of Aero. Vehicles\\\",\\\"id\\\":38,\\\"credits\\\":3,\\\"nameCanonical\\\":\\\"\\\"},{\\\"curriculum_requisites\\\":[{\\\"source_id\\\":23,\\\"target_id\\\":36,\\\"type\\\":\\\"CurriculumPrerequisite\\\"},{\\\"source_id\\\":31,\\\"target_id\\\":36,\\\"type\\\":\\\"CurriculumPrerequisite\\\"},{\\\"source_id\\\":33,\\\"target_id\\\":36,\\\"type\\\":\\\"CurriculumPrerequisite\\\"},{\\\"source_id\\\":30,\\\"target_id\\\":36,\\\"type\\\":\\\"CurriculumPrerequisite\\\"}],\\\"name\\\":\\\"AME 420\\\",\\\"metrics\\\":{\\\"complexity\\\":10.0,\\\"centrality\\\":240,\\\"blocking factor\\\":1,\\\"delay factor\\\":9.0},\\\"nameSub\\\":\\\"Aerospace Conceptual Design\\\",\\\"id\\\":36,\\\"credits\\\":3,\\\"nameCanonical\\\":\\\"\\\"},{\\\"curriculum_requisites\\\":[],\\\"name\\\":\\\"AME 211\\\",\\\"metrics\\\":{\\\"complexity\\\":1.0,\\\"centrality\\\":0,\\\"blocking factor\\\":0,\\\"delay factor\\\":1.0},\\\"nameSub\\\":\\\"Comp. Aided Drafting & Manufacturing\\\",\\\"id\\\":16,\\\"credits\\\":3,\\\"nameCanonical\\\":\\\"\\\"},{\\\"curriculum_requisites\\\":[],\\\"name\\\":\\\" \\\",\\\"metrics\\\":{\\\"complexity\\\":1.0,\\\"centrality\\\":0,\\\"blocking factor\\\":0,\\\"delay factor\\\":1.0},\\\"nameSub\\\":\\\"Tier I General Ed. 3\\\",\\\"id\\\":22,\\\"credits\\\":3,\\\"nameCanonical\\\":\\\"\\\"}],\\\"id\\\":7},{\\\"name\\\":\\\"Term 8\\\",\\\"curriculum_items\\\":[{\\\"curriculum_requisites\\\":[{\\\"source_id\\\":13,\\\"target_id\\\":39,\\\"type\\\":\\\"CurriculumPrerequisite\\\"},{\\\"source_id\\\":19,\\\"target_id\\\":39,\\\"type\\\":\\\"CurriculumPrerequisite\\\"}],\\\"name\\\":\\\"AME 457\\\",\\\"metrics\\\":{\\\"complexity\\\":6.0,\\\"centrality\\\":0,\\\"blocking factor\\\":0,\\\"delay factor\\\":6.0},\\\"nameSub\\\":\\\"Orbital Mechanicans and Space Flt.\\\",\\\"id\\\":39,\\\"credits\\\":3,\\\"nameCanonical\\\":\\\"\\\"},{\\\"curriculum_requisites\\\":[{\\\"source_id\\\":24,\\\"target_id\\\":42,\\\"type\\\":\\\"CurriculumPrerequisite\\\"},{\\\"source_id\\\":32,\\\"target_id\\\":42,\\\"type\\\":\\\"CurriculumPrerequisite\\\"},{\\\"source_id\\\":18,\\\"target_id\\\":42,\\\"type\\\":\\\"CurriculumPrerequisite\\\"}],\\\"name\\\":\\\"AME 431\\\",\\\"metrics\\\":{\\\"complexity\\\":7.0,\\\"centrality\\\":0,\\\"blocking factor\\\":0,\\\"delay factor\\\":7.0},\\\"nameSub\\\":\\\"Num. Meth. in Fluid Mech. & Heat Xfer\\\",\\\"id\\\":42,\\\"credits\\\":3,\\\"nameCanonical\\\":\\\"\\\"},{\\\"curriculum_requisites\\\":[{\\\"source_id\\\":25,\\\"target_id\\\":29,\\\"type\\\":\\\"CurriculumPrerequisite\\\"}],\\\"name\\\":\\\"AME 324B\\\",\\\"metrics\\\":{\\\"complexity\\\":6.0,\\\"centrality\\\":0,\\\"blocking factor\\\":0,\\\"delay factor\\\":6.0},\\\"nameSub\\\":\\\"Eng. Component Design\\\",\\\"id\\\":29,\\\"credits\\\":3,\\\"nameCanonical\\\":\\\"\\\"},{\\\"curriculum_requisites\\\":[{\\\"source_id\\\":24,\\\"target_id\\\":37,\\\"type\\\":\\\"CurriculumPrerequisite\\\"},{\\\"source_id\\\":31,\\\"target_id\\\":37,\\\"type\\\":\\\"CurriculumPrerequisite\\\"},{\\\"source_id\\\":18,\\\"target_id\\\":37,\\\"type\\\":\\\"CurriculumPrerequisite\\\"}],\\\"name\\\":\\\"AME 425\\\",\\\"metrics\\\":{\\\"complexity\\\":8.0,\\\"centrality\\\":0,\\\"blocking factor\\\":0,\\\"delay factor\\\":8.0},\\\"nameSub\\\":\\\"Aerospace Propulsion\\\",\\\"id\\\":37,\\\"credits\\\":3,\\\"nameCanonical\\\":\\\"\\\"},{\\\"curriculum_requisites\\\":[{\\\"source_id\\\":25,\\\"target_id\\\":28,\\\"type\\\":\\\"CurriculumPrerequisite\\\"}],\\\"name\\\":\\\"AME 324L\\\",\\\"metrics\\\":{\\\"complexity\\\":6.0,\\\"centrality\\\":0,\\\"blocking factor\\\":0,\\\"delay factor\\\":6.0},\\\"nameSub\\\":\\\"Mech. of Materials Lab.\\\",\\\"id\\\":28,\\\"credits\\\":1,\\\"nameCanonical\\\":\\\"\\\"},{\\\"curriculum_requisites\\\":[{\\\"source_id\\\":36,\\\"target_id\\\":41,\\\"type\\\":\\\"CurriculumPrerequisite\\\"},{\\\"source_id\\\":33,\\\"target_id\\\":41,\\\"type\\\":\\\"CurriculumCorequisite\\\"}],\\\"name\\\":\\\"AME 422\\\",\\\"metrics\\\":{\\\"complexity\\\":9.0,\\\"centrality\\\":0,\\\"blocking factor\\\":0,\\\"delay factor\\\":9.0},\\\"nameSub\\\":\\\"Aerospace Eng.Design\\\",\\\"id\\\":41,\\\"credits\\\":3,\\\"nameCanonical\\\":\\\"\\\"}],\\\"id\\\":8}],\\\"institution\\\":\\\"University of Arizona\\\"}},\\\"*\\\"); window.removeEventListener(\\\"message\\\",window.messageReceived); window.messageReceived=(function (event){return (event.data.curriculum!==undefined) ? (WebIO.setval({\\\"name\\\":\\\"curriculum-data\\\",\\\"scope\\\":\\\"4005404010794350453\\\",\\\"id\\\":\\\"ob_06\\\",\\\"type\\\":\\\"observable\\\"},event.data.curriculum)) : undefined}); return window.addEventListener(\\\"message\\\",window.messageReceived)})\")),:style => Dict(:padding => \"0\",:height => \"100vh\",:margin => \"0\",:border => \"none\",:width => \"100%\"))), Dict{String,Tuple{Observables.AbstractObservable,Union{Nothing, Bool}}}(\"curriculum-data\" => (Observable{Dict{String,Any}} with 1 listeners. Value:\n",
       "Dict{String,Any}(\"options\" => Dict{String,Any}(\"hideTerms\" => false,\"edit\" => false),\"curriculum\" => Dict{String,Any}(\"name\" => \"Aerospace Engineering\",\"dp_name\" => \"\",\"curriculum_terms\" => Dict{String,Any}[Dict(\"name\" => \"Term 1\",\"curriculum_items\" => Dict{String,Any}[Dict(\"curriculum_requisites\" => Dict{String,Any}[],\"name\" => \"CHEM 151\",\"metrics\" => Dict{String,Any}(\"complexity\" => 5.0,\"centrality\" => 0,\"blocking factor\" => 2,\"delay factor\" => 3.0),\"nameSub\" => \"Gen Chemistry I\",\"id\" => 2,\"credits\" => 4,\"nameCanonical\" => \"\"), Dict(\"curriculum_requisites\" => Dict{String,Any}[],\"name\" => \" \",\"metrics\" => Dict{String,Any}(\"complexity\" => 1.0,\"centrality\" => 0,\"blocking factor\" => 0,\"delay factor\" => 1.0),\"nameSub\" => \"Tier I General Ed. 1\",\"id\" => 11,\"credits\" => 3,\"nameCanonical\" => \"\"), Dict(\"curriculum_requisites\" => Dict{String,Any}[Dict(\"source_id\" => 1,\"target_id\" => 4,\"type\" => \"CurriculumCorequisite\")],\"name\" => \"ENGR 102\",\"metrics\" => Dict{String,Any}(\"complexity\" => 2.0,\"centrality\" => 0,\"blocking factor\" => 0,\"delay factor\" => 2.0),\"nameSub\" => \"Intro to Engineering\",\"id\" => 4,\"credits\" => 3,\"nameCanonical\" => \"\"), Dict(\"curriculum_requisites\" => Dict{String,Any}[],\"name\" => \"MATH 125\",\"metrics\" => Dict{String,Any}(\"complexity\" => 38.0,\"centrality\" => 0,\"blocking factor\" => 29,\"delay factor\" => 9.0),\"nameSub\" => \"Calculus I w/ Applications\",\"id\" => 1,\"credits\" => 3,\"nameCanonical\" => \"\"), Dict(\"curriculum_requisites\" => Dict{String,Any}[],\"name\" => \"ENGL 101\",\"metrics\" => Dict{String,Any}(\"complexity\" => 3.0,\"centrality\" => 0,\"blocking factor\" => 1,\"delay factor\" => 2.0),\"nameSub\" => \"First-year Comp.\",\"id\" => 3,\"credits\" => 3,\"nameCanonical\" => \"\")],\"id\" => 1), Dict(\"name\" => \"Term 2\",\"curriculum_items\" => Dict{String,Any}[Dict(\"curriculum_requisites\" => Dict{String,Any}[Dict(\"source_id\" => 1,\"target_id\" => 8,\"type\" => \"CurriculumPrerequisite\")],\"name\" => \"PHYS 141\",\"metrics\" => Dict{String,Any}(\"complexity\" => 27.0,\"centrality\" => 272,\"blocking factor\" => 18,\"delay factor\" => 9.0),\"nameSub\" => \"Intro Mechanics\",\"id\" => 8,\"credits\" => 4,\"nameCanonical\" => \"\"), Dict(\"curriculum_requisites\" => Dict{String,Any}[],\"name\" => \" \",\"metrics\" => Dict{String,Any}(\"complexity\" => 1.0,\"centrality\" => 0,\"blocking factor\" => 0,\"delay factor\" => 1.0),\"nameSub\" => \"Tier I General Ed. 2\",\"id\" => 17,\"credits\" => 3,\"nameCanonical\" => \"\"), Dict(\"curriculum_requisites\" => Dict{String,Any}[Dict(\"source_id\" => 1,\"target_id\" => 10,\"type\" => \"CurriculumCorequisite\")],\"name\" => \"ECE 175\",\"metrics\" => Dict{String,Any}(\"complexity\" => 2.0,\"centrality\" => 0,\"blocking factor\" => 0,\"delay factor\" => 2.0),\"nameSub\" => \"Programming for Eng. Apps.\",\"id\" => 10,\"credits\" => 3,\"nameCanonical\" => \"\"), Dict(\"curriculum_requisites\" => Dict{String,Any}[Dict(\"source_id\" => 1,\"target_id\" => 6,\"type\" => \"CurriculumPrerequisite\")],\"name\" => \"MATH 129\",\"metrics\" => Dict{String,Any}(\"complexity\" => 31.0,\"centrality\" => 388,\"blocking factor\" => 22,\"delay factor\" => 9.0),\"nameSub\" => \"Calculus II\",\"id\" => 6,\"credits\" => 3,\"nameCanonical\" => \"\"), Dict(\"curriculum_requisites\" => Dict{String,Any}[],\"name\" => \" \",\"metrics\" => Dict{String,Any}(\"complexity\" => 1.0,\"centrality\" => 0,\"blocking factor\" => 0,\"delay factor\" => 1.0),\"nameSub\" => \"Tier I General Ed.\",\"id\" => 5,\"credits\" => 3,\"nameCanonical\" => \"\")],\"id\" => 2), Dict(\"name\" => \"Term 3\",\"curriculum_items\" => Dict{String,Any}[Dict(\"curriculum_requisites\" => Dict{String,Any}[Dict(\"source_id\" => 8,\"target_id\" => 14,\"type\" => \"CurriculumPrerequisite\"), Dict(\"source_id\" => 6,\"target_id\" => 14,\"type\" => \"CurriculumPrerequisite\")],\"name\" => \"PHYS 241\",\"metrics\" => Dict{String,Any}(\"complexity\" => 3.0,\"centrality\" => 0,\"blocking factor\" => 0,\"delay factor\" => 3.0),\"nameSub\" => \"Electricity & Magnetism\",\"id\" => 14,\"credits\" => 4,\"nameCanonical\" => \"\"), Dict(\"curriculum_requisites\" => Dict{String,Any}[Dict(\"source_id\" => 8,\"target_id\" => 18,\"type\" => \"CurriculumPrerequisite\")],\"name\" => \"AME 230\",\"metrics\" => Dict{String,Any}(\"complexity\" => 19.0,\"centrality\" => 86,\"blocking factor\" => 11,\"delay factor\" => 8.0),\"nameSub\" => \"Thermodynamics\",\"id\" => 18,\"credits\" => 3,\"nameCanonical\" => \"\"), Dict(\"curriculum_requisites\" => Dict{String,Any}[Dict(\"source_id\" => 6,\"target_id\" => 13,\"type\" => \"CurriculumPrerequisite\")],\"name\" => \"MATH  223\",\"metrics\" => Dict{String,Any}(\"complexity\" => 26.0,\"centrality\" => 258,\"blocking factor\" => 17,\"delay factor\" => 9.0),\"nameSub\" => \"Vector Calculus\",\"id\" => 13,\"credits\" => 4,\"nameCanonical\" => \"\"), Dict(\"curriculum_requisites\" => Dict{String,Any}[Dict(\"source_id\" => 3,\"target_id\" => 9,\"type\" => \"CurriculumPrerequisite\")],\"name\" => \"ENGL 102\",\"metrics\" => Dict{String,Any}(\"complexity\" => 2.0,\"centrality\" => 0,\"blocking factor\" => 0,\"delay factor\" => 2.0),\"nameSub\" => \"First-year Comp.\",\"id\" => 9,\"credits\" => 3,\"nameCanonical\" => \"\"), Dict(\"curriculum_requisites\" => Dict{String,Any}[Dict(\"source_id\" => 8,\"target_id\" => 12,\"type\" => \"CurriculumPrerequisite\"), Dict(\"source_id\" => 6,\"target_id\" => 12,\"type\" => \"CurriculumPrerequisite\")],\"name\" => \"CE 214\",\"metrics\" => Dict{String,Any}(\"complexity\" => 23.0,\"centrality\" => 254,\"blocking factor\" => 14,\"delay factor\" => 9.0),\"nameSub\" => \"Statics\",\"id\" => 12,\"credits\" => 3,\"nameCanonical\" => \"\")],\"id\" => 3), Dict(\"name\" => \"Term 4\",\"curriculum_items\" => Dict{String,Any}[Dict(\"curriculum_requisites\" => Dict{String,Any}[Dict(\"source_id\" => 13,\"target_id\" => 20,\"type\" => \"CurriculumPrerequisite\")],\"name\" => \"MATH 254\",\"metrics\" => Dict{String,Any}(\"complexity\" => 25.0,\"centrality\" => 188,\"blocking factor\" => 16,\"delay factor\" => 9.0),\"nameSub\" => \"Intro. to ODEs\",\"id\" => 20,\"credits\" => 3,\"nameCanonical\" => \"\"), Dict(\"curriculum_requisites\" => Dict{String,Any}[],\"name\" => \" \",\"metrics\" => Dict{String,Any}(\"complexity\" => 1.0,\"centrality\" => 0,\"blocking factor\" => 0,\"delay factor\" => 1.0),\"nameSub\" => \"Technical Elective 2\",\"id\" => 44,\"credits\" => 3,\"nameCanonical\" => \"\"), Dict(\"curriculum_requisites\" => Dict{String,Any}[Dict(\"source_id\" => 1,\"target_id\" => 7,\"type\" => \"CurriculumPrerequisite\")],\"name\" => \"AME 105\",\"metrics\" => Dict{String,Any}(\"complexity\" => 16.0,\"centrality\" => 28,\"blocking factor\" => 9,\"delay factor\" => 7.0),\"nameSub\" => \"Intro. to MATLAB I\",\"id\" => 7,\"credits\" => 1,\"nameCanonical\" => \"\"), Dict(\"curriculum_requisites\" => Dict{String,Any}[],\"name\" => \" \",\"metrics\" => Dict{String,Any}(\"complexity\" => 1.0,\"centrality\" => 0,\"blocking factor\" => 0,\"delay factor\" => 1.0),\"nameSub\" => \"Technical Elective 1\",\"id\" => 43,\"credits\" => 3,\"nameCanonical\" => \"\"), Dict(\"curriculum_requisites\" => Dict{String,Any}[],\"name\" => \" \",\"metrics\" => Dict{String,Any}(\"complexity\" => 1.0,\"centrality\" => 0,\"blocking factor\" => 0,\"delay factor\" => 1.0),\"nameSub\" => \"Tier II General Ed. 1\",\"id\" => 34,\"credits\" => 3,\"nameCanonical\" => \"\"), Dict(\"curriculum_requisites\" => Dict{String,Any}[Dict(\"source_id\" => 13,\"target_id\" => 21,\"type\" => \"CurriculumPrerequisite\"), Dict(\"source_id\" => 8,\"target_id\" => 21,\"type\" => \"CurriculumPrerequisite\"), Dict(\"source_id\" => 20,\"target_id\" => 21,\"type\" => \"CurriculumCorequisite\")],\"name\" => \"AME 220\",\"metrics\" => Dict{String,Any}(\"complexity\" => 17.0,\"centrality\" => 198,\"blocking factor\" => 8,\"delay factor\" => 9.0),\"nameSub\" => \"Intro. to Aerospace Eng.\",\"id\" => 21,\"credits\" => 3,\"nameCanonical\" => \"\")],\"id\" => 4), Dict(\"name\" => \"Term 5\",\"curriculum_items\" => Dict{String,Any}[Dict(\"curriculum_requisites\" => Dict{String,Any}[Dict(\"source_id\" => 20,\"target_id\" => 25,\"type\" => \"CurriculumPrerequisite\")],\"name\" => \"AME 301\",\"metrics\" => Dict{String,Any}(\"complexity\" => 8.0,\"centrality\" => 12,\"blocking factor\" => 2,\"delay factor\" => 6.0),\"nameSub\" => \"Engineering Analysis\",\"id\" => 25,\"credits\" => 3,\"nameCanonical\" => \"\"), Dict(\"curriculum_requisites\" => Dict{String,Any}[Dict(\"source_id\" => 18,\"target_id\" => 26,\"type\" => \"CurriculumCorequisite\"), Dict(\"source_id\" => 24,\"target_id\" => 26,\"type\" => \"CurriculumCorequisite\")],\"name\" => \"AME 300\",\"metrics\" => Dict{String,Any}(\"complexity\" => 19.0,\"centrality\" => 204,\"blocking factor\" => 10,\"delay factor\" => 9.0),\"nameSub\" => \"Instrumentation Lab.\",\"id\" => 26,\"credits\" => 3,\"nameCanonical\" => \"\"), Dict(\"curriculum_requisites\" => Dict{String,Any}[Dict(\"source_id\" => 12,\"target_id\" => 19,\"type\" => \"CurriculumPrerequisite\"), Dict(\"source_id\" => 20,\"target_id\" => 19,\"type\" => \"CurriculumCorequisite\")],\"name\" => \"AME 250\",\"metrics\" => Dict{String,Any}(\"complexity\" => 19.0,\"centrality\" => 145,\"blocking factor\" => 10,\"delay factor\" => 9.0),\"nameSub\" => \"Dynamics\",\"id\" => 19,\"credits\" => 3,\"nameCanonical\" => \"\"), Dict(\"curriculum_requisites\" => Dict{String,Any}[Dict(\"source_id\" => 12,\"target_id\" => 24,\"type\" => \"CurriculumPrerequisite\")],\"name\" => \"AME  324A\",\"metrics\" => Dict{String,Any}(\"complexity\" => 20.0,\"centrality\" => 162,\"blocking factor\" => 11,\"delay factor\" => 9.0),\"nameSub\" => \"Mech. Behavior of Eng. Materials.\",\"id\" => 24,\"credits\" => 3,\"nameCanonical\" => \"\"), Dict(\"curriculum_requisites\" => Dict{String,Any}[Dict(\"source_id\" => 2,\"target_id\" => 27,\"type\" => \"CurriculumPrerequisite\")],\"name\" => \"MSE 331R\",\"metrics\" => Dict{String,Any}(\"complexity\" => 4.0,\"centrality\" => 3,\"blocking factor\" => 1,\"delay factor\" => 3.0),\"nameSub\" => \"Fund. of Materials for Engineers\",\"id\" => 27,\"credits\" => 3,\"nameCanonical\" => \"\"), Dict(\"curriculum_requisites\" => Dict{String,Any}[Dict(\"source_id\" => 7,\"target_id\" => 15,\"type\" => \"CurriculumPrerequisite\")],\"name\" => \"AME  205\",\"metrics\" => Dict{String,Any}(\"complexity\" => 15.0,\"centrality\" => 28,\"blocking factor\" => 8,\"delay factor\" => 7.0),\"nameSub\" => \"Intro. To MATLAB II\",\"id\" => 15,\"credits\" => 1,\"nameCanonical\" => \"\")],\"id\" => 5), Dict(\"name\" => \"Term 6\",\"curriculum_items\" => Dict{String,Any}[Dict(\"curriculum_requisites\" => Dict{String,Any}[Dict(\"source_id\" => 18,\"target_id\" => 31,\"type\" => \"CurriculumPrerequisite\"), Dict(\"source_id\" => 32,\"target_id\" => 31,\"type\" => \"CurriculumCorequisite\"), Dict(\"source_id\" => 21,\"target_id\" => 31,\"type\" => \"CurriculumPrerequisite\"), Dict(\"source_id\" => 20,\"target_id\" => 31,\"type\" => \"CurriculumPrerequisite\")],\"name\" => \"AME 323\",\"metrics\" => Dict{String,Any}(\"complexity\" => 13.0,\"centrality\" => 274,\"blocking factor\" => 4,\"delay factor\" => 9.0),\"nameSub\" => \"Gasdynamics\",\"id\" => 31,\"credits\" => 3,\"nameCanonical\" => \"\"), Dict(\"curriculum_requisites\" => Dict{String,Any}[],\"name\" => \"AME 313\",\"metrics\" => Dict{String,Any}(\"complexity\" => 5.0,\"centrality\" => 0,\"blocking factor\" => 2,\"delay factor\" => 3.0),\"nameSub\" => \"Aero./Mech. Eng. Lab\",\"id\" => 33,\"credits\" => 1,\"nameCanonical\" => \"\"), Dict(\"curriculum_requisites\" => Dict{String,Any}[],\"name\" => \" \",\"metrics\" => Dict{String,Any}(\"complexity\" => 1.0,\"centrality\" => 0,\"blocking factor\" => 0,\"delay factor\" => 1.0),\"nameSub\" => \"Tier II General Ed. 2\",\"id\" => 45,\"credits\" => 3,\"nameCanonical\" => \"\"), Dict(\"curriculum_requisites\" => Dict{String,Any}[Dict(\"source_id\" => 23,\"target_id\" => 30,\"type\" => \"CurriculumCorequisite\"), Dict(\"source_id\" => 19,\"target_id\" => 30,\"type\" => \"CurriculumPrerequisite\"), Dict(\"source_id\" => 21,\"target_id\" => 30,\"type\" => \"CurriculumPrerequisite\")],\"name\" => \"AME 321\",\"metrics\" => Dict{String,Any}(\"complexity\" => 12.0,\"centrality\" => 174,\"blocking factor\" => 3,\"delay factor\" => 9.0),\"nameSub\" => \"Aircraft Performance\",\"id\" => 30,\"credits\" => 3,\"nameCanonical\" => \"\"), Dict(\"curriculum_requisites\" => Dict{String,Any}[Dict(\"source_id\" => 26,\"target_id\" => 32,\"type\" => \"CurriculumCorequisite\"), Dict(\"source_id\" => 19,\"target_id\" => 32,\"type\" => \"CurriculumPrerequisite\"), Dict(\"source_id\" => 15,\"target_id\" => 32,\"type\" => \"CurriculumPrerequisite\"), Dict(\"source_id\" => 20,\"target_id\" => 32,\"type\" => \"CurriculumPrerequisite\")],\"name\" => \"AME 302\",\"metrics\" => Dict{String,Any}(\"complexity\" => 15.0,\"centrality\" => 232,\"blocking factor\" => 6,\"delay factor\" => 9.0),\"nameSub\" => \"Numerical Methods\",\"id\" => 32,\"credits\" => 3,\"nameCanonical\" => \"\"), Dict(\"curriculum_requisites\" => Dict{String,Any}[Dict(\"source_id\" => 26,\"target_id\" => 23,\"type\" => \"CurriculumCorequisite\"), Dict(\"source_id\" => 21,\"target_id\" => 23,\"type\" => \"CurriculumPrerequisite\")],\"name\" => \"AME 320\",\"metrics\" => Dict{String,Any}(\"complexity\" => 14.0,\"centrality\" => 214,\"blocking factor\" => 5,\"delay factor\" => 9.0),\"nameSub\" => \"Aerodynamics\",\"id\" => 23,\"credits\" => 3,\"nameCanonical\" => \"\")],\"id\" => 6), Dict(\"name\" => \"Term 7\",\"curriculum_items\" => Dict{String,Any}[Dict(\"curriculum_requisites\" => Dict{String,Any}[Dict(\"source_id\" => 23,\"target_id\" => 35,\"type\" => \"CurriculumPrerequisite\"), Dict(\"source_id\" => 31,\"target_id\" => 35,\"type\" => \"CurriculumPrerequisite\"), Dict(\"source_id\" => 27,\"target_id\" => 35,\"type\" => \"CurriculumPrerequisite\")],\"name\" => \"AME 401\",\"metrics\" => Dict{String,Any}(\"complexity\" => 8.0,\"centrality\" => 0,\"blocking factor\" => 0,\"delay factor\" => 8.0),\"nameSub\" => \"Senior Aerospace Lab.\",\"id\" => 35,\"credits\" => 3,\"nameCanonical\" => \"\"), Dict(\"curriculum_requisites\" => Dict{String,Any}[],\"name\" => \"AME 495S\",\"metrics\" => Dict{String,Any}(\"complexity\" => 1.0,\"centrality\" => 0,\"blocking factor\" => 0,\"delay factor\" => 1.0),\"nameSub\" => \"Senior Colloquium\",\"id\" => 40,\"credits\" => 1,\"nameCanonical\" => \"\"), Dict(\"curriculum_requisites\" => Dict{String,Any}[Dict(\"source_id\" => 23,\"target_id\" => 38,\"type\" => \"CurriculumPrerequisite\"), Dict(\"source_id\" => 15,\"target_id\" => 38,\"type\" => \"CurriculumPrerequisite\"), Dict(\"source_id\" => 30,\"target_id\" => 38,\"type\" => \"CurriculumPrerequisite\")],\"name\" => \"AME 427\",\"metrics\" => Dict{String,Any}(\"complexity\" => 8.0,\"centrality\" => 0,\"blocking factor\" => 0,\"delay factor\" => 8.0),\"nameSub\" => \"Stability and Control of Aero. Vehicles\",\"id\" => 38,\"credits\" => 3,\"nameCanonical\" => \"\"), Dict(\"curriculum_requisites\" => Dict{String,Any}[Dict(\"source_id\" => 23,\"target_id\" => 36,\"type\" => \"CurriculumPrerequisite\"), Dict(\"source_id\" => 31,\"target_id\" => 36,\"type\" => \"CurriculumPrerequisite\"), Dict(\"source_id\" => 33,\"target_id\" => 36,\"type\" => \"CurriculumPrerequisite\"), Dict(\"source_id\" => 30,\"target_id\" => 36,\"type\" => \"CurriculumPrerequisite\")],\"name\" => \"AME 420\",\"metrics\" => Dict{String,Any}(\"complexity\" => 10.0,\"centrality\" => 240,\"blocking factor\" => 1,\"delay factor\" => 9.0),\"nameSub\" => \"Aerospace Conceptual Design\",\"id\" => 36,\"credits\" => 3,\"nameCanonical\" => \"\"), Dict(\"curriculum_requisites\" => Dict{String,Any}[],\"name\" => \"AME 211\",\"metrics\" => Dict{String,Any}(\"complexity\" => 1.0,\"centrality\" => 0,\"blocking factor\" => 0,\"delay factor\" => 1.0),\"nameSub\" => \"Comp. Aided Drafting & Manufacturing\",\"id\" => 16,\"credits\" => 3,\"nameCanonical\" => \"\"), Dict(\"curriculum_requisites\" => Dict{String,Any}[],\"name\" => \" \",\"metrics\" => Dict{String,Any}(\"complexity\" => 1.0,\"centrality\" => 0,\"blocking factor\" => 0,\"delay factor\" => 1.0),\"nameSub\" => \"Tier I General Ed. 3\",\"id\" => 22,\"credits\" => 3,\"nameCanonical\" => \"\")],\"id\" => 7), Dict(\"name\" => \"Term 8\",\"curriculum_items\" => Dict{String,Any}[Dict(\"curriculum_requisites\" => Dict{String,Any}[Dict(\"source_id\" => 13,\"target_id\" => 39,\"type\" => \"CurriculumPrerequisite\"), Dict(\"source_id\" => 19,\"target_id\" => 39,\"type\" => \"CurriculumPrerequisite\")],\"name\" => \"AME 457\",\"metrics\" => Dict{String,Any}(\"complexity\" => 6.0,\"centrality\" => 0,\"blocking factor\" => 0,\"delay factor\" => 6.0),\"nameSub\" => \"Orbital Mechanicans and Space Flt.\",\"id\" => 39,\"credits\" => 3,\"nameCanonical\" => \"\"), Dict(\"curriculum_requisites\" => Dict{String,Any}[Dict(\"source_id\" => 24,\"target_id\" => 42,\"type\" => \"CurriculumPrerequisite\"), Dict(\"source_id\" => 32,\"target_id\" => 42,\"type\" => \"CurriculumPrerequisite\"), Dict(\"source_id\" => 18,\"target_id\" => 42,\"type\" => \"CurriculumPrerequisite\")],\"name\" => \"AME 431\",\"metrics\" => Dict{String,Any}(\"complexity\" => 7.0,\"centrality\" => 0,\"blocking factor\" => 0,\"delay factor\" => 7.0),\"nameSub\" => \"Num. Meth. in Fluid Mech. & Heat Xfer\",\"id\" => 42,\"credits\" => 3,\"nameCanonical\" => \"\"), Dict(\"curriculum_requisites\" => Dict{String,Any}[Dict(\"source_id\" => 25,\"target_id\" => 29,\"type\" => \"CurriculumPrerequisite\")],\"name\" => \"AME 324B\",\"metrics\" => Dict{String,Any}(\"complexity\" => 6.0,\"centrality\" => 0,\"blocking factor\" => 0,\"delay factor\" => 6.0),\"nameSub\" => \"Eng. Component Design\",\"id\" => 29,\"credits\" => 3,\"nameCanonical\" => \"\"), Dict(\"curriculum_requisites\" => Dict{String,Any}[Dict(\"source_id\" => 24,\"target_id\" => 37,\"type\" => \"CurriculumPrerequisite\"), Dict(\"source_id\" => 31,\"target_id\" => 37,\"type\" => \"CurriculumPrerequisite\"), Dict(\"source_id\" => 18,\"target_id\" => 37,\"type\" => \"CurriculumPrerequisite\")],\"name\" => \"AME 425\",\"metrics\" => Dict{String,Any}(\"complexity\" => 8.0,\"centrality\" => 0,\"blocking factor\" => 0,\"delay factor\" => 8.0),\"nameSub\" => \"Aerospace Propulsion\",\"id\" => 37,\"credits\" => 3,\"nameCanonical\" => \"\"), Dict(\"curriculum_requisites\" => Dict{String,Any}[Dict(\"source_id\" => 25,\"target_id\" => 28,\"type\" => \"CurriculumPrerequisite\")],\"name\" => \"AME 324L\",\"metrics\" => Dict{String,Any}(\"complexity\" => 6.0,\"centrality\" => 0,\"blocking factor\" => 0,\"delay factor\" => 6.0),\"nameSub\" => \"Mech. of Materials Lab.\",\"id\" => 28,\"credits\" => 1,\"nameCanonical\" => \"\"), Dict(\"curriculum_requisites\" => Dict{String,Any}[Dict(\"source_id\" => 36,\"target_id\" => 41,\"type\" => \"CurriculumPrerequisite\"), Dict(\"source_id\" => 33,\"target_id\" => 41,\"type\" => \"CurriculumCorequisite\")],\"name\" => \"AME 422\",\"metrics\" => Dict{String,Any}(\"complexity\" => 9.0,\"centrality\" => 0,\"blocking factor\" => 0,\"delay factor\" => 9.0),\"nameSub\" => \"Aerospace Eng.Design\",\"id\" => 41,\"credits\" => 3,\"nameCanonical\" => \"\")],\"id\" => 8)],\"institution\" => \"University of Arizona\")), nothing)), Set(String[]), nothing, WebIO.Asset[], Dict{Any,Any}(), WebIO.ConnectionPool(Channel{Any}(sz_max:32,sz_curr:0), Set(WebIO.AbstractConnection[]), Base.GenericCondition{Base.AlwaysLockedST}(Base.InvasiveLinkedList{Task}(Task (runnable) @0x000000013db34910, Task (runnable) @0x000000013db34910), Base.AlwaysLockedST(1))), WebIO.JSString[])"
      ]
     },
     "execution_count": 16,
     "metadata": {
      "application/vnd.webio.node+json": {
       "kernelId": null
      }
     },
     "output_type": "execute_result"
    }
   ],
   "source": [
    "plan_new = optimize_plan(AE_plan.curriculum, 8, 12, 18, balance_obj);\n",
    "visualize(plan_new, notebook=true)"
   ]
  },
  {
   "cell_type": "code",
   "execution_count": 17,
   "metadata": {},
   "outputs": [
    {
     "name": "stdout",
     "output_type": "stream",
     "text": [
      "\n",
      "Curriculum: Aerospace Engineering\n",
      "Degree Plan: \n",
      "  total credit hours = 129\n",
      "  number of terms = 8\n",
      "  max. credits in a term = 17, in term 3\n",
      "  min. credits in a term = 16, in term 1\n",
      "  avg. credits per term = 16.125, with std. dev. = 0.33071891388307384\n",
      "  total distance between all requisites = 98\n",
      "\n"
     ]
    }
   ],
   "source": [
    "metrics = basic_metrics(plan_new)\n",
    "println(String(take!(metrics)))"
   ]
  },
  {
   "cell_type": "code",
   "execution_count": 18,
   "metadata": {},
   "outputs": [
    {
     "name": "stdout",
     "output_type": "stream",
     "text": [
      "Academic license - for non-commercial use only\n",
      "An optimal solution was found with objective value = 14.0\n"
     ]
    },
    {
     "data": {
      "application/vnd.webio.node+json": {
       "children": [
        {
         "children": [
          ""
         ],
         "instanceArgs": {
          "namespace": "html",
          "tag": "iframe"
         },
         "nodeType": "DOM",
         "props": {
          "events": {
           "load": "(function (){this.contentWindow.postMessage({\"options\":{\"hideTerms\":false,\"edit\":false},\"curriculum\":{\"name\":\"Aerospace Engineering\",\"dp_name\":\"\",\"curriculum_terms\":[{\"name\":\"Term 1\",\"curriculum_items\":[{\"curriculum_requisites\":[],\"name\":\"CHEM 151\",\"metrics\":{\"complexity\":5.0,\"centrality\":0,\"blocking factor\":2,\"delay factor\":3.0},\"nameSub\":\"Gen Chemistry I\",\"id\":2,\"credits\":4,\"nameCanonical\":\"\"},{\"curriculum_requisites\":[{\"source_id\":1,\"target_id\":4,\"type\":\"CurriculumCorequisite\"}],\"name\":\"ENGR 102\",\"metrics\":{\"complexity\":2.0,\"centrality\":0,\"blocking factor\":0,\"delay factor\":2.0},\"nameSub\":\"Intro to Engineering\",\"id\":4,\"credits\":3,\"nameCanonical\":\"\"},{\"curriculum_requisites\":[],\"name\":\"MATH 125\",\"metrics\":{\"complexity\":38.0,\"centrality\":0,\"blocking factor\":29,\"delay factor\":9.0},\"nameSub\":\"Calculus I w/ Applications\",\"id\":1,\"credits\":3,\"nameCanonical\":\"\"},{\"curriculum_requisites\":[],\"name\":\"ENGL 101\",\"metrics\":{\"complexity\":3.0,\"centrality\":0,\"blocking factor\":1,\"delay factor\":2.0},\"nameSub\":\"First-year Comp.\",\"id\":3,\"credits\":3,\"nameCanonical\":\"\"},{\"curriculum_requisites\":[{\"source_id\":1,\"target_id\":10,\"type\":\"CurriculumCorequisite\"}],\"name\":\"ECE 175\",\"metrics\":{\"complexity\":2.0,\"centrality\":0,\"blocking factor\":0,\"delay factor\":2.0},\"nameSub\":\"Programming for Eng. Apps.\",\"id\":10,\"credits\":3,\"nameCanonical\":\"\"}],\"id\":1},{\"name\":\"Term 2\",\"curriculum_items\":[{\"curriculum_requisites\":[],\"name\":\" \",\"metrics\":{\"complexity\":1.0,\"centrality\":0,\"blocking factor\":0,\"delay factor\":1.0},\"nameSub\":\"Tier I General Ed. 2\",\"id\":17,\"credits\":3,\"nameCanonical\":\"\"},{\"curriculum_requisites\":[],\"name\":\" \",\"metrics\":{\"complexity\":1.0,\"centrality\":0,\"blocking factor\":0,\"delay factor\":1.0},\"nameSub\":\"Technical Elective 2\",\"id\":44,\"credits\":3,\"nameCanonical\":\"\"},{\"curriculum_requisites\":[{\"source_id\":1,\"target_id\":7,\"type\":\"CurriculumPrerequisite\"}],\"name\":\"AME 105\",\"metrics\":{\"complexity\":16.0,\"centrality\":28,\"blocking factor\":9,\"delay factor\":7.0},\"nameSub\":\"Intro. to MATLAB I\",\"id\":7,\"credits\":1,\"nameCanonical\":\"\"},{\"curriculum_requisites\":[{\"source_id\":3,\"target_id\":9,\"type\":\"CurriculumPrerequisite\"}],\"name\":\"ENGL 102\",\"metrics\":{\"complexity\":2.0,\"centrality\":0,\"blocking factor\":0,\"delay factor\":2.0},\"nameSub\":\"First-year Comp.\",\"id\":9,\"credits\":3,\"nameCanonical\":\"\"},{\"curriculum_requisites\":[],\"name\":\" \",\"metrics\":{\"complexity\":1.0,\"centrality\":0,\"blocking factor\":0,\"delay factor\":1.0},\"nameSub\":\"Technical Elective 1\",\"id\":43,\"credits\":3,\"nameCanonical\":\"\"},{\"curriculum_requisites\":[],\"name\":\" \",\"metrics\":{\"complexity\":1.0,\"centrality\":0,\"blocking factor\":0,\"delay factor\":1.0},\"nameSub\":\"Tier I General Ed.\",\"id\":5,\"credits\":3,\"nameCanonical\":\"\"}],\"id\":2},{\"name\":\"Term 3\",\"curriculum_items\":[{\"curriculum_requisites\":[],\"name\":\" \",\"metrics\":{\"complexity\":1.0,\"centrality\":0,\"blocking factor\":0,\"delay factor\":1.0},\"nameSub\":\"Tier I General Ed. 1\",\"id\":11,\"credits\":3,\"nameCanonical\":\"\"},{\"curriculum_requisites\":[{\"source_id\":1,\"target_id\":8,\"type\":\"CurriculumPrerequisite\"}],\"name\":\"PHYS 141\",\"metrics\":{\"complexity\":27.0,\"centrality\":272,\"blocking factor\":18,\"delay factor\":9.0},\"nameSub\":\"Intro Mechanics\",\"id\":8,\"credits\":4,\"nameCanonical\":\"\"},{\"curriculum_requisites\":[],\"name\":\"AME 211\",\"metrics\":{\"complexity\":1.0,\"centrality\":0,\"blocking factor\":0,\"delay factor\":1.0},\"nameSub\":\"Comp. Aided Drafting & Manufacturing\",\"id\":16,\"credits\":3,\"nameCanonical\":\"\"},{\"curriculum_requisites\":[{\"source_id\":1,\"target_id\":6,\"type\":\"CurriculumPrerequisite\"}],\"name\":\"MATH 129\",\"metrics\":{\"complexity\":31.0,\"centrality\":388,\"blocking factor\":22,\"delay factor\":9.0},\"nameSub\":\"Calculus II\",\"id\":6,\"credits\":3,\"nameCanonical\":\"\"},{\"curriculum_requisites\":[{\"source_id\":2,\"target_id\":27,\"type\":\"CurriculumPrerequisite\"}],\"name\":\"MSE 331R\",\"metrics\":{\"complexity\":4.0,\"centrality\":3,\"blocking factor\":1,\"delay factor\":3.0},\"nameSub\":\"Fund. of Materials for Engineers\",\"id\":27,\"credits\":3,\"nameCanonical\":\"\"}],\"id\":3},{\"name\":\"Term 4\",\"curriculum_items\":[{\"curriculum_requisites\":[{\"source_id\":8,\"target_id\":14,\"type\":\"CurriculumPrerequisite\"},{\"source_id\":6,\"target_id\":14,\"type\":\"CurriculumPrerequisite\"}],\"name\":\"PHYS 241\",\"metrics\":{\"complexity\":3.0,\"centrality\":0,\"blocking factor\":0,\"delay factor\":3.0},\"nameSub\":\"Electricity & Magnetism\",\"id\":14,\"credits\":4,\"nameCanonical\":\"\"},{\"curriculum_requisites\":[{\"source_id\":8,\"target_id\":18,\"type\":\"CurriculumPrerequisite\"}],\"name\":\"AME 230\",\"metrics\":{\"complexity\":19.0,\"centrality\":86,\"blocking factor\":11,\"delay factor\":8.0},\"nameSub\":\"Thermodynamics\",\"id\":18,\"credits\":3,\"nameCanonical\":\"\"},{\"curriculum_requisites\":[],\"name\":\" \",\"metrics\":{\"complexity\":1.0,\"centrality\":0,\"blocking factor\":0,\"delay factor\":1.0},\"nameSub\":\"Tier II General Ed. 2\",\"id\":45,\"credits\":3,\"nameCanonical\":\"\"},{\"curriculum_requisites\":[{\"source_id\":6,\"target_id\":13,\"type\":\"CurriculumPrerequisite\"}],\"name\":\"MATH  223\",\"metrics\":{\"complexity\":26.0,\"centrality\":258,\"blocking factor\":17,\"delay factor\":9.0},\"nameSub\":\"Vector Calculus\",\"id\":13,\"credits\":4,\"nameCanonical\":\"\"},{\"curriculum_requisites\":[{\"source_id\":8,\"target_id\":12,\"type\":\"CurriculumPrerequisite\"},{\"source_id\":6,\"target_id\":12,\"type\":\"CurriculumPrerequisite\"}],\"name\":\"CE 214\",\"metrics\":{\"complexity\":23.0,\"centrality\":254,\"blocking factor\":14,\"delay factor\":9.0},\"nameSub\":\"Statics\",\"id\":12,\"credits\":3,\"nameCanonical\":\"\"}],\"id\":4},{\"name\":\"Term 5\",\"curriculum_items\":[{\"curriculum_requisites\":[{\"source_id\":13,\"target_id\":20,\"type\":\"CurriculumPrerequisite\"}],\"name\":\"MATH 254\",\"metrics\":{\"complexity\":25.0,\"centrality\":188,\"blocking factor\":16,\"delay factor\":9.0},\"nameSub\":\"Intro. to ODEs\",\"id\":20,\"credits\":3,\"nameCanonical\":\"\"},{\"curriculum_requisites\":[{\"source_id\":18,\"target_id\":26,\"type\":\"CurriculumCorequisite\"},{\"source_id\":24,\"target_id\":26,\"type\":\"CurriculumCorequisite\"}],\"name\":\"AME 300\",\"metrics\":{\"complexity\":19.0,\"centrality\":204,\"blocking factor\":10,\"delay factor\":9.0},\"nameSub\":\"Instrumentation Lab.\",\"id\":26,\"credits\":3,\"nameCanonical\":\"\"},{\"curriculum_requisites\":[{\"source_id\":13,\"target_id\":21,\"type\":\"CurriculumPrerequisite\"},{\"source_id\":8,\"target_id\":21,\"type\":\"CurriculumPrerequisite\"},{\"source_id\":20,\"target_id\":21,\"type\":\"CurriculumCorequisite\"}],\"name\":\"AME 220\",\"metrics\":{\"complexity\":17.0,\"centrality\":198,\"blocking factor\":8,\"delay factor\":9.0},\"nameSub\":\"Intro. to Aerospace Eng.\",\"id\":21,\"credits\":3,\"nameCanonical\":\"\"},{\"curriculum_requisites\":[{\"source_id\":12,\"target_id\":19,\"type\":\"CurriculumPrerequisite\"},{\"source_id\":20,\"target_id\":19,\"type\":\"CurriculumCorequisite\"}],\"name\":\"AME 250\",\"metrics\":{\"complexity\":19.0,\"centrality\":145,\"blocking factor\":10,\"delay factor\":9.0},\"nameSub\":\"Dynamics\",\"id\":19,\"credits\":3,\"nameCanonical\":\"\"},{\"curriculum_requisites\":[{\"source_id\":12,\"target_id\":24,\"type\":\"CurriculumPrerequisite\"}],\"name\":\"AME  324A\",\"metrics\":{\"complexity\":20.0,\"centrality\":162,\"blocking factor\":11,\"delay factor\":9.0},\"nameSub\":\"Mech. Behavior of Eng. Materials.\",\"id\":24,\"credits\":3,\"nameCanonical\":\"\"},{\"curriculum_requisites\":[{\"source_id\":7,\"target_id\":15,\"type\":\"CurriculumPrerequisite\"}],\"name\":\"AME  205\",\"metrics\":{\"complexity\":15.0,\"centrality\":28,\"blocking factor\":8,\"delay factor\":7.0},\"nameSub\":\"Intro. To MATLAB II\",\"id\":15,\"credits\":1,\"nameCanonical\":\"\"}],\"id\":5},{\"name\":\"Term 6\",\"curriculum_items\":[{\"curriculum_requisites\":[{\"source_id\":13,\"target_id\":39,\"type\":\"CurriculumPrerequisite\"},{\"source_id\":19,\"target_id\":39,\"type\":\"CurriculumPrerequisite\"}],\"name\":\"AME 457\",\"metrics\":{\"complexity\":6.0,\"centrality\":0,\"blocking factor\":0,\"delay factor\":6.0},\"nameSub\":\"Orbital Mechanicans and Space Flt.\",\"id\":39,\"credits\":3,\"nameCanonical\":\"\"},{\"curriculum_requisites\":[{\"source_id\":18,\"target_id\":31,\"type\":\"CurriculumPrerequisite\"},{\"source_id\":32,\"target_id\":31,\"type\":\"CurriculumCorequisite\"},{\"source_id\":21,\"target_id\":31,\"type\":\"CurriculumPrerequisite\"},{\"source_id\":20,\"target_id\":31,\"type\":\"CurriculumPrerequisite\"}],\"name\":\"AME 323\",\"metrics\":{\"complexity\":13.0,\"centrality\":274,\"blocking factor\":4,\"delay factor\":9.0},\"nameSub\":\"Gasdynamics\",\"id\":31,\"credits\":3,\"nameCanonical\":\"\"},{\"curriculum_requisites\":[],\"name\":\"AME 313\",\"metrics\":{\"complexity\":5.0,\"centrality\":0,\"blocking factor\":2,\"delay factor\":3.0},\"nameSub\":\"Aero./Mech. Eng. Lab\",\"id\":33,\"credits\":1,\"nameCanonical\":\"\"},{\"curriculum_requisites\":[{\"source_id\":23,\"target_id\":30,\"type\":\"CurriculumCorequisite\"},{\"source_id\":19,\"target_id\":30,\"type\":\"CurriculumPrerequisite\"},{\"source_id\":21,\"target_id\":30,\"type\":\"CurriculumPrerequisite\"}],\"name\":\"AME 321\",\"metrics\":{\"complexity\":12.0,\"centrality\":174,\"blocking factor\":3,\"delay factor\":9.0},\"nameSub\":\"Aircraft Performance\",\"id\":30,\"credits\":3,\"nameCanonical\":\"\"},{\"curriculum_requisites\":[{\"source_id\":26,\"target_id\":32,\"type\":\"CurriculumCorequisite\"},{\"source_id\":19,\"target_id\":32,\"type\":\"CurriculumPrerequisite\"},{\"source_id\":15,\"target_id\":32,\"type\":\"CurriculumPrerequisite\"},{\"source_id\":20,\"target_id\":32,\"type\":\"CurriculumPrerequisite\"}],\"name\":\"AME 302\",\"metrics\":{\"complexity\":15.0,\"centrality\":232,\"blocking factor\":6,\"delay factor\":9.0},\"nameSub\":\"Numerical Methods\",\"id\":32,\"credits\":3,\"nameCanonical\":\"\"},{\"curriculum_requisites\":[{\"source_id\":26,\"target_id\":23,\"type\":\"CurriculumCorequisite\"},{\"source_id\":21,\"target_id\":23,\"type\":\"CurriculumPrerequisite\"}],\"name\":\"AME 320\",\"metrics\":{\"complexity\":14.0,\"centrality\":214,\"blocking factor\":5,\"delay factor\":9.0},\"nameSub\":\"Aerodynamics\",\"id\":23,\"credits\":3,\"nameCanonical\":\"\"}],\"id\":6},{\"name\":\"Term 7\",\"curriculum_items\":[{\"curriculum_requisites\":[{\"source_id\":20,\"target_id\":25,\"type\":\"CurriculumPrerequisite\"}],\"name\":\"AME 301\",\"metrics\":{\"complexity\":8.0,\"centrality\":12,\"blocking factor\":2,\"delay factor\":6.0},\"nameSub\":\"Engineering Analysis\",\"id\":25,\"credits\":3,\"nameCanonical\":\"\"},{\"curriculum_requisites\":[{\"source_id\":23,\"target_id\":35,\"type\":\"CurriculumPrerequisite\"},{\"source_id\":31,\"target_id\":35,\"type\":\"CurriculumPrerequisite\"},{\"source_id\":27,\"target_id\":35,\"type\":\"CurriculumPrerequisite\"}],\"name\":\"AME 401\",\"metrics\":{\"complexity\":8.0,\"centrality\":0,\"blocking factor\":0,\"delay factor\":8.0},\"nameSub\":\"Senior Aerospace Lab.\",\"id\":35,\"credits\":3,\"nameCanonical\":\"\"},{\"curriculum_requisites\":[{\"source_id\":24,\"target_id\":37,\"type\":\"CurriculumPrerequisite\"},{\"source_id\":31,\"target_id\":37,\"type\":\"CurriculumPrerequisite\"},{\"source_id\":18,\"target_id\":37,\"type\":\"CurriculumPrerequisite\"}],\"name\":\"AME 425\",\"metrics\":{\"complexity\":8.0,\"centrality\":0,\"blocking factor\":0,\"delay factor\":8.0},\"nameSub\":\"Aerospace Propulsion\",\"id\":37,\"credits\":3,\"nameCanonical\":\"\"},{\"curriculum_requisites\":[],\"name\":\"AME 495S\",\"metrics\":{\"complexity\":1.0,\"centrality\":0,\"blocking factor\":0,\"delay factor\":1.0},\"nameSub\":\"Senior Colloquium\",\"id\":40,\"credits\":1,\"nameCanonical\":\"\"},{\"curriculum_requisites\":[{\"source_id\":23,\"target_id\":38,\"type\":\"CurriculumPrerequisite\"},{\"source_id\":15,\"target_id\":38,\"type\":\"CurriculumPrerequisite\"},{\"source_id\":30,\"target_id\":38,\"type\":\"CurriculumPrerequisite\"}],\"name\":\"AME 427\",\"metrics\":{\"complexity\":8.0,\"centrality\":0,\"blocking factor\":0,\"delay factor\":8.0},\"nameSub\":\"Stability and Control of Aero. Vehicles\",\"id\":38,\"credits\":3,\"nameCanonical\":\"\"},{\"curriculum_requisites\":[{\"source_id\":23,\"target_id\":36,\"type\":\"CurriculumPrerequisite\"},{\"source_id\":31,\"target_id\":36,\"type\":\"CurriculumPrerequisite\"},{\"source_id\":33,\"target_id\":36,\"type\":\"CurriculumPrerequisite\"},{\"source_id\":30,\"target_id\":36,\"type\":\"CurriculumPrerequisite\"}],\"name\":\"AME 420\",\"metrics\":{\"complexity\":10.0,\"centrality\":240,\"blocking factor\":1,\"delay factor\":9.0},\"nameSub\":\"Aerospace Conceptual Design\",\"id\":36,\"credits\":3,\"nameCanonical\":\"\"}],\"id\":7},{\"name\":\"Term 8\",\"curriculum_items\":[{\"curriculum_requisites\":[{\"source_id\":24,\"target_id\":42,\"type\":\"CurriculumPrerequisite\"},{\"source_id\":32,\"target_id\":42,\"type\":\"CurriculumPrerequisite\"},{\"source_id\":18,\"target_id\":42,\"type\":\"CurriculumPrerequisite\"}],\"name\":\"AME 431\",\"metrics\":{\"complexity\":7.0,\"centrality\":0,\"blocking factor\":0,\"delay factor\":7.0},\"nameSub\":\"Num. Meth. in Fluid Mech. & Heat Xfer\",\"id\":42,\"credits\":3,\"nameCanonical\":\"\"},{\"curriculum_requisites\":[{\"source_id\":25,\"target_id\":29,\"type\":\"CurriculumPrerequisite\"}],\"name\":\"AME 324B\",\"metrics\":{\"complexity\":6.0,\"centrality\":0,\"blocking factor\":0,\"delay factor\":6.0},\"nameSub\":\"Eng. Component Design\",\"id\":29,\"credits\":3,\"nameCanonical\":\"\"},{\"curriculum_requisites\":[],\"name\":\" \",\"metrics\":{\"complexity\":1.0,\"centrality\":0,\"blocking factor\":0,\"delay factor\":1.0},\"nameSub\":\"Tier II General Ed. 1\",\"id\":34,\"credits\":3,\"nameCanonical\":\"\"},{\"curriculum_requisites\":[],\"name\":\" \",\"metrics\":{\"complexity\":1.0,\"centrality\":0,\"blocking factor\":0,\"delay factor\":1.0},\"nameSub\":\"Tier I General Ed. 3\",\"id\":22,\"credits\":3,\"nameCanonical\":\"\"},{\"curriculum_requisites\":[{\"source_id\":25,\"target_id\":28,\"type\":\"CurriculumPrerequisite\"}],\"name\":\"AME 324L\",\"metrics\":{\"complexity\":6.0,\"centrality\":0,\"blocking factor\":0,\"delay factor\":6.0},\"nameSub\":\"Mech. of Materials Lab.\",\"id\":28,\"credits\":1,\"nameCanonical\":\"\"},{\"curriculum_requisites\":[{\"source_id\":36,\"target_id\":41,\"type\":\"CurriculumPrerequisite\"},{\"source_id\":33,\"target_id\":41,\"type\":\"CurriculumCorequisite\"}],\"name\":\"AME 422\",\"metrics\":{\"complexity\":9.0,\"centrality\":0,\"blocking factor\":0,\"delay factor\":9.0},\"nameSub\":\"Aerospace Eng.Design\",\"id\":41,\"credits\":3,\"nameCanonical\":\"\"}],\"id\":8}],\"institution\":\"University of Arizona\"}},\"*\"); window.removeEventListener(\"message\",window.messageReceived); window.messageReceived=(function (event){return (event.data.curriculum!==undefined) ? (WebIO.setval({\"name\":\"curriculum-data\",\"scope\":\"7865244369162570990\",\"id\":\"ob_07\",\"type\":\"observable\"},event.data.curriculum)) : undefined}); return window.addEventListener(\"message\",window.messageReceived)})"
          },
          "id": "curriculum",
          "src": "http://localhost:8156",
          "style": {
           "border": "none",
           "height": "100vh",
           "margin": "0",
           "padding": "0",
           "width": "100%"
          }
         },
         "type": "node"
        }
       ],
       "instanceArgs": {
        "handlers": {},
        "id": "7865244369162570990",
        "imports": {
         "data": [],
         "type": "async_block"
        },
        "mount_callbacks": [],
        "observables": {
         "curriculum-data": {
          "id": "ob_07",
          "sync": true,
          "value": {
           "curriculum": {
            "curriculum_terms": [
             {
              "curriculum_items": [
               {
                "credits": 4,
                "curriculum_requisites": [],
                "id": 2,
                "metrics": {
                 "blocking factor": 2,
                 "centrality": 0,
                 "complexity": 5,
                 "delay factor": 3
                },
                "name": "CHEM 151",
                "nameCanonical": "",
                "nameSub": "Gen Chemistry I"
               },
               {
                "credits": 3,
                "curriculum_requisites": [
                 {
                  "source_id": 1,
                  "target_id": 4,
                  "type": "CurriculumCorequisite"
                 }
                ],
                "id": 4,
                "metrics": {
                 "blocking factor": 0,
                 "centrality": 0,
                 "complexity": 2,
                 "delay factor": 2
                },
                "name": "ENGR 102",
                "nameCanonical": "",
                "nameSub": "Intro to Engineering"
               },
               {
                "credits": 3,
                "curriculum_requisites": [],
                "id": 1,
                "metrics": {
                 "blocking factor": 29,
                 "centrality": 0,
                 "complexity": 38,
                 "delay factor": 9
                },
                "name": "MATH 125",
                "nameCanonical": "",
                "nameSub": "Calculus I w/ Applications"
               },
               {
                "credits": 3,
                "curriculum_requisites": [],
                "id": 3,
                "metrics": {
                 "blocking factor": 1,
                 "centrality": 0,
                 "complexity": 3,
                 "delay factor": 2
                },
                "name": "ENGL 101",
                "nameCanonical": "",
                "nameSub": "First-year Comp."
               },
               {
                "credits": 3,
                "curriculum_requisites": [
                 {
                  "source_id": 1,
                  "target_id": 10,
                  "type": "CurriculumCorequisite"
                 }
                ],
                "id": 10,
                "metrics": {
                 "blocking factor": 0,
                 "centrality": 0,
                 "complexity": 2,
                 "delay factor": 2
                },
                "name": "ECE 175",
                "nameCanonical": "",
                "nameSub": "Programming for Eng. Apps."
               }
              ],
              "id": 1,
              "name": "Term 1"
             },
             {
              "curriculum_items": [
               {
                "credits": 3,
                "curriculum_requisites": [],
                "id": 17,
                "metrics": {
                 "blocking factor": 0,
                 "centrality": 0,
                 "complexity": 1,
                 "delay factor": 1
                },
                "name": " ",
                "nameCanonical": "",
                "nameSub": "Tier I General Ed. 2"
               },
               {
                "credits": 3,
                "curriculum_requisites": [],
                "id": 44,
                "metrics": {
                 "blocking factor": 0,
                 "centrality": 0,
                 "complexity": 1,
                 "delay factor": 1
                },
                "name": " ",
                "nameCanonical": "",
                "nameSub": "Technical Elective 2"
               },
               {
                "credits": 1,
                "curriculum_requisites": [
                 {
                  "source_id": 1,
                  "target_id": 7,
                  "type": "CurriculumPrerequisite"
                 }
                ],
                "id": 7,
                "metrics": {
                 "blocking factor": 9,
                 "centrality": 28,
                 "complexity": 16,
                 "delay factor": 7
                },
                "name": "AME 105",
                "nameCanonical": "",
                "nameSub": "Intro. to MATLAB I"
               },
               {
                "credits": 3,
                "curriculum_requisites": [
                 {
                  "source_id": 3,
                  "target_id": 9,
                  "type": "CurriculumPrerequisite"
                 }
                ],
                "id": 9,
                "metrics": {
                 "blocking factor": 0,
                 "centrality": 0,
                 "complexity": 2,
                 "delay factor": 2
                },
                "name": "ENGL 102",
                "nameCanonical": "",
                "nameSub": "First-year Comp."
               },
               {
                "credits": 3,
                "curriculum_requisites": [],
                "id": 43,
                "metrics": {
                 "blocking factor": 0,
                 "centrality": 0,
                 "complexity": 1,
                 "delay factor": 1
                },
                "name": " ",
                "nameCanonical": "",
                "nameSub": "Technical Elective 1"
               },
               {
                "credits": 3,
                "curriculum_requisites": [],
                "id": 5,
                "metrics": {
                 "blocking factor": 0,
                 "centrality": 0,
                 "complexity": 1,
                 "delay factor": 1
                },
                "name": " ",
                "nameCanonical": "",
                "nameSub": "Tier I General Ed."
               }
              ],
              "id": 2,
              "name": "Term 2"
             },
             {
              "curriculum_items": [
               {
                "credits": 3,
                "curriculum_requisites": [],
                "id": 11,
                "metrics": {
                 "blocking factor": 0,
                 "centrality": 0,
                 "complexity": 1,
                 "delay factor": 1
                },
                "name": " ",
                "nameCanonical": "",
                "nameSub": "Tier I General Ed. 1"
               },
               {
                "credits": 4,
                "curriculum_requisites": [
                 {
                  "source_id": 1,
                  "target_id": 8,
                  "type": "CurriculumPrerequisite"
                 }
                ],
                "id": 8,
                "metrics": {
                 "blocking factor": 18,
                 "centrality": 272,
                 "complexity": 27,
                 "delay factor": 9
                },
                "name": "PHYS 141",
                "nameCanonical": "",
                "nameSub": "Intro Mechanics"
               },
               {
                "credits": 3,
                "curriculum_requisites": [],
                "id": 16,
                "metrics": {
                 "blocking factor": 0,
                 "centrality": 0,
                 "complexity": 1,
                 "delay factor": 1
                },
                "name": "AME 211",
                "nameCanonical": "",
                "nameSub": "Comp. Aided Drafting & Manufacturing"
               },
               {
                "credits": 3,
                "curriculum_requisites": [
                 {
                  "source_id": 1,
                  "target_id": 6,
                  "type": "CurriculumPrerequisite"
                 }
                ],
                "id": 6,
                "metrics": {
                 "blocking factor": 22,
                 "centrality": 388,
                 "complexity": 31,
                 "delay factor": 9
                },
                "name": "MATH 129",
                "nameCanonical": "",
                "nameSub": "Calculus II"
               },
               {
                "credits": 3,
                "curriculum_requisites": [
                 {
                  "source_id": 2,
                  "target_id": 27,
                  "type": "CurriculumPrerequisite"
                 }
                ],
                "id": 27,
                "metrics": {
                 "blocking factor": 1,
                 "centrality": 3,
                 "complexity": 4,
                 "delay factor": 3
                },
                "name": "MSE 331R",
                "nameCanonical": "",
                "nameSub": "Fund. of Materials for Engineers"
               }
              ],
              "id": 3,
              "name": "Term 3"
             },
             {
              "curriculum_items": [
               {
                "credits": 4,
                "curriculum_requisites": [
                 {
                  "source_id": 8,
                  "target_id": 14,
                  "type": "CurriculumPrerequisite"
                 },
                 {
                  "source_id": 6,
                  "target_id": 14,
                  "type": "CurriculumPrerequisite"
                 }
                ],
                "id": 14,
                "metrics": {
                 "blocking factor": 0,
                 "centrality": 0,
                 "complexity": 3,
                 "delay factor": 3
                },
                "name": "PHYS 241",
                "nameCanonical": "",
                "nameSub": "Electricity & Magnetism"
               },
               {
                "credits": 3,
                "curriculum_requisites": [
                 {
                  "source_id": 8,
                  "target_id": 18,
                  "type": "CurriculumPrerequisite"
                 }
                ],
                "id": 18,
                "metrics": {
                 "blocking factor": 11,
                 "centrality": 86,
                 "complexity": 19,
                 "delay factor": 8
                },
                "name": "AME 230",
                "nameCanonical": "",
                "nameSub": "Thermodynamics"
               },
               {
                "credits": 3,
                "curriculum_requisites": [],
                "id": 45,
                "metrics": {
                 "blocking factor": 0,
                 "centrality": 0,
                 "complexity": 1,
                 "delay factor": 1
                },
                "name": " ",
                "nameCanonical": "",
                "nameSub": "Tier II General Ed. 2"
               },
               {
                "credits": 4,
                "curriculum_requisites": [
                 {
                  "source_id": 6,
                  "target_id": 13,
                  "type": "CurriculumPrerequisite"
                 }
                ],
                "id": 13,
                "metrics": {
                 "blocking factor": 17,
                 "centrality": 258,
                 "complexity": 26,
                 "delay factor": 9
                },
                "name": "MATH  223",
                "nameCanonical": "",
                "nameSub": "Vector Calculus"
               },
               {
                "credits": 3,
                "curriculum_requisites": [
                 {
                  "source_id": 8,
                  "target_id": 12,
                  "type": "CurriculumPrerequisite"
                 },
                 {
                  "source_id": 6,
                  "target_id": 12,
                  "type": "CurriculumPrerequisite"
                 }
                ],
                "id": 12,
                "metrics": {
                 "blocking factor": 14,
                 "centrality": 254,
                 "complexity": 23,
                 "delay factor": 9
                },
                "name": "CE 214",
                "nameCanonical": "",
                "nameSub": "Statics"
               }
              ],
              "id": 4,
              "name": "Term 4"
             },
             {
              "curriculum_items": [
               {
                "credits": 3,
                "curriculum_requisites": [
                 {
                  "source_id": 13,
                  "target_id": 20,
                  "type": "CurriculumPrerequisite"
                 }
                ],
                "id": 20,
                "metrics": {
                 "blocking factor": 16,
                 "centrality": 188,
                 "complexity": 25,
                 "delay factor": 9
                },
                "name": "MATH 254",
                "nameCanonical": "",
                "nameSub": "Intro. to ODEs"
               },
               {
                "credits": 3,
                "curriculum_requisites": [
                 {
                  "source_id": 18,
                  "target_id": 26,
                  "type": "CurriculumCorequisite"
                 },
                 {
                  "source_id": 24,
                  "target_id": 26,
                  "type": "CurriculumCorequisite"
                 }
                ],
                "id": 26,
                "metrics": {
                 "blocking factor": 10,
                 "centrality": 204,
                 "complexity": 19,
                 "delay factor": 9
                },
                "name": "AME 300",
                "nameCanonical": "",
                "nameSub": "Instrumentation Lab."
               },
               {
                "credits": 3,
                "curriculum_requisites": [
                 {
                  "source_id": 13,
                  "target_id": 21,
                  "type": "CurriculumPrerequisite"
                 },
                 {
                  "source_id": 8,
                  "target_id": 21,
                  "type": "CurriculumPrerequisite"
                 },
                 {
                  "source_id": 20,
                  "target_id": 21,
                  "type": "CurriculumCorequisite"
                 }
                ],
                "id": 21,
                "metrics": {
                 "blocking factor": 8,
                 "centrality": 198,
                 "complexity": 17,
                 "delay factor": 9
                },
                "name": "AME 220",
                "nameCanonical": "",
                "nameSub": "Intro. to Aerospace Eng."
               },
               {
                "credits": 3,
                "curriculum_requisites": [
                 {
                  "source_id": 12,
                  "target_id": 19,
                  "type": "CurriculumPrerequisite"
                 },
                 {
                  "source_id": 20,
                  "target_id": 19,
                  "type": "CurriculumCorequisite"
                 }
                ],
                "id": 19,
                "metrics": {
                 "blocking factor": 10,
                 "centrality": 145,
                 "complexity": 19,
                 "delay factor": 9
                },
                "name": "AME 250",
                "nameCanonical": "",
                "nameSub": "Dynamics"
               },
               {
                "credits": 3,
                "curriculum_requisites": [
                 {
                  "source_id": 12,
                  "target_id": 24,
                  "type": "CurriculumPrerequisite"
                 }
                ],
                "id": 24,
                "metrics": {
                 "blocking factor": 11,
                 "centrality": 162,
                 "complexity": 20,
                 "delay factor": 9
                },
                "name": "AME  324A",
                "nameCanonical": "",
                "nameSub": "Mech. Behavior of Eng. Materials."
               },
               {
                "credits": 1,
                "curriculum_requisites": [
                 {
                  "source_id": 7,
                  "target_id": 15,
                  "type": "CurriculumPrerequisite"
                 }
                ],
                "id": 15,
                "metrics": {
                 "blocking factor": 8,
                 "centrality": 28,
                 "complexity": 15,
                 "delay factor": 7
                },
                "name": "AME  205",
                "nameCanonical": "",
                "nameSub": "Intro. To MATLAB II"
               }
              ],
              "id": 5,
              "name": "Term 5"
             },
             {
              "curriculum_items": [
               {
                "credits": 3,
                "curriculum_requisites": [
                 {
                  "source_id": 13,
                  "target_id": 39,
                  "type": "CurriculumPrerequisite"
                 },
                 {
                  "source_id": 19,
                  "target_id": 39,
                  "type": "CurriculumPrerequisite"
                 }
                ],
                "id": 39,
                "metrics": {
                 "blocking factor": 0,
                 "centrality": 0,
                 "complexity": 6,
                 "delay factor": 6
                },
                "name": "AME 457",
                "nameCanonical": "",
                "nameSub": "Orbital Mechanicans and Space Flt."
               },
               {
                "credits": 3,
                "curriculum_requisites": [
                 {
                  "source_id": 18,
                  "target_id": 31,
                  "type": "CurriculumPrerequisite"
                 },
                 {
                  "source_id": 32,
                  "target_id": 31,
                  "type": "CurriculumCorequisite"
                 },
                 {
                  "source_id": 21,
                  "target_id": 31,
                  "type": "CurriculumPrerequisite"
                 },
                 {
                  "source_id": 20,
                  "target_id": 31,
                  "type": "CurriculumPrerequisite"
                 }
                ],
                "id": 31,
                "metrics": {
                 "blocking factor": 4,
                 "centrality": 274,
                 "complexity": 13,
                 "delay factor": 9
                },
                "name": "AME 323",
                "nameCanonical": "",
                "nameSub": "Gasdynamics"
               },
               {
                "credits": 1,
                "curriculum_requisites": [],
                "id": 33,
                "metrics": {
                 "blocking factor": 2,
                 "centrality": 0,
                 "complexity": 5,
                 "delay factor": 3
                },
                "name": "AME 313",
                "nameCanonical": "",
                "nameSub": "Aero./Mech. Eng. Lab"
               },
               {
                "credits": 3,
                "curriculum_requisites": [
                 {
                  "source_id": 23,
                  "target_id": 30,
                  "type": "CurriculumCorequisite"
                 },
                 {
                  "source_id": 19,
                  "target_id": 30,
                  "type": "CurriculumPrerequisite"
                 },
                 {
                  "source_id": 21,
                  "target_id": 30,
                  "type": "CurriculumPrerequisite"
                 }
                ],
                "id": 30,
                "metrics": {
                 "blocking factor": 3,
                 "centrality": 174,
                 "complexity": 12,
                 "delay factor": 9
                },
                "name": "AME 321",
                "nameCanonical": "",
                "nameSub": "Aircraft Performance"
               },
               {
                "credits": 3,
                "curriculum_requisites": [
                 {
                  "source_id": 26,
                  "target_id": 32,
                  "type": "CurriculumCorequisite"
                 },
                 {
                  "source_id": 19,
                  "target_id": 32,
                  "type": "CurriculumPrerequisite"
                 },
                 {
                  "source_id": 15,
                  "target_id": 32,
                  "type": "CurriculumPrerequisite"
                 },
                 {
                  "source_id": 20,
                  "target_id": 32,
                  "type": "CurriculumPrerequisite"
                 }
                ],
                "id": 32,
                "metrics": {
                 "blocking factor": 6,
                 "centrality": 232,
                 "complexity": 15,
                 "delay factor": 9
                },
                "name": "AME 302",
                "nameCanonical": "",
                "nameSub": "Numerical Methods"
               },
               {
                "credits": 3,
                "curriculum_requisites": [
                 {
                  "source_id": 26,
                  "target_id": 23,
                  "type": "CurriculumCorequisite"
                 },
                 {
                  "source_id": 21,
                  "target_id": 23,
                  "type": "CurriculumPrerequisite"
                 }
                ],
                "id": 23,
                "metrics": {
                 "blocking factor": 5,
                 "centrality": 214,
                 "complexity": 14,
                 "delay factor": 9
                },
                "name": "AME 320",
                "nameCanonical": "",
                "nameSub": "Aerodynamics"
               }
              ],
              "id": 6,
              "name": "Term 6"
             },
             {
              "curriculum_items": [
               {
                "credits": 3,
                "curriculum_requisites": [
                 {
                  "source_id": 20,
                  "target_id": 25,
                  "type": "CurriculumPrerequisite"
                 }
                ],
                "id": 25,
                "metrics": {
                 "blocking factor": 2,
                 "centrality": 12,
                 "complexity": 8,
                 "delay factor": 6
                },
                "name": "AME 301",
                "nameCanonical": "",
                "nameSub": "Engineering Analysis"
               },
               {
                "credits": 3,
                "curriculum_requisites": [
                 {
                  "source_id": 23,
                  "target_id": 35,
                  "type": "CurriculumPrerequisite"
                 },
                 {
                  "source_id": 31,
                  "target_id": 35,
                  "type": "CurriculumPrerequisite"
                 },
                 {
                  "source_id": 27,
                  "target_id": 35,
                  "type": "CurriculumPrerequisite"
                 }
                ],
                "id": 35,
                "metrics": {
                 "blocking factor": 0,
                 "centrality": 0,
                 "complexity": 8,
                 "delay factor": 8
                },
                "name": "AME 401",
                "nameCanonical": "",
                "nameSub": "Senior Aerospace Lab."
               },
               {
                "credits": 3,
                "curriculum_requisites": [
                 {
                  "source_id": 24,
                  "target_id": 37,
                  "type": "CurriculumPrerequisite"
                 },
                 {
                  "source_id": 31,
                  "target_id": 37,
                  "type": "CurriculumPrerequisite"
                 },
                 {
                  "source_id": 18,
                  "target_id": 37,
                  "type": "CurriculumPrerequisite"
                 }
                ],
                "id": 37,
                "metrics": {
                 "blocking factor": 0,
                 "centrality": 0,
                 "complexity": 8,
                 "delay factor": 8
                },
                "name": "AME 425",
                "nameCanonical": "",
                "nameSub": "Aerospace Propulsion"
               },
               {
                "credits": 1,
                "curriculum_requisites": [],
                "id": 40,
                "metrics": {
                 "blocking factor": 0,
                 "centrality": 0,
                 "complexity": 1,
                 "delay factor": 1
                },
                "name": "AME 495S",
                "nameCanonical": "",
                "nameSub": "Senior Colloquium"
               },
               {
                "credits": 3,
                "curriculum_requisites": [
                 {
                  "source_id": 23,
                  "target_id": 38,
                  "type": "CurriculumPrerequisite"
                 },
                 {
                  "source_id": 15,
                  "target_id": 38,
                  "type": "CurriculumPrerequisite"
                 },
                 {
                  "source_id": 30,
                  "target_id": 38,
                  "type": "CurriculumPrerequisite"
                 }
                ],
                "id": 38,
                "metrics": {
                 "blocking factor": 0,
                 "centrality": 0,
                 "complexity": 8,
                 "delay factor": 8
                },
                "name": "AME 427",
                "nameCanonical": "",
                "nameSub": "Stability and Control of Aero. Vehicles"
               },
               {
                "credits": 3,
                "curriculum_requisites": [
                 {
                  "source_id": 23,
                  "target_id": 36,
                  "type": "CurriculumPrerequisite"
                 },
                 {
                  "source_id": 31,
                  "target_id": 36,
                  "type": "CurriculumPrerequisite"
                 },
                 {
                  "source_id": 33,
                  "target_id": 36,
                  "type": "CurriculumPrerequisite"
                 },
                 {
                  "source_id": 30,
                  "target_id": 36,
                  "type": "CurriculumPrerequisite"
                 }
                ],
                "id": 36,
                "metrics": {
                 "blocking factor": 1,
                 "centrality": 240,
                 "complexity": 10,
                 "delay factor": 9
                },
                "name": "AME 420",
                "nameCanonical": "",
                "nameSub": "Aerospace Conceptual Design"
               }
              ],
              "id": 7,
              "name": "Term 7"
             },
             {
              "curriculum_items": [
               {
                "credits": 3,
                "curriculum_requisites": [
                 {
                  "source_id": 24,
                  "target_id": 42,
                  "type": "CurriculumPrerequisite"
                 },
                 {
                  "source_id": 32,
                  "target_id": 42,
                  "type": "CurriculumPrerequisite"
                 },
                 {
                  "source_id": 18,
                  "target_id": 42,
                  "type": "CurriculumPrerequisite"
                 }
                ],
                "id": 42,
                "metrics": {
                 "blocking factor": 0,
                 "centrality": 0,
                 "complexity": 7,
                 "delay factor": 7
                },
                "name": "AME 431",
                "nameCanonical": "",
                "nameSub": "Num. Meth. in Fluid Mech. & Heat Xfer"
               },
               {
                "credits": 3,
                "curriculum_requisites": [
                 {
                  "source_id": 25,
                  "target_id": 29,
                  "type": "CurriculumPrerequisite"
                 }
                ],
                "id": 29,
                "metrics": {
                 "blocking factor": 0,
                 "centrality": 0,
                 "complexity": 6,
                 "delay factor": 6
                },
                "name": "AME 324B",
                "nameCanonical": "",
                "nameSub": "Eng. Component Design"
               },
               {
                "credits": 3,
                "curriculum_requisites": [],
                "id": 34,
                "metrics": {
                 "blocking factor": 0,
                 "centrality": 0,
                 "complexity": 1,
                 "delay factor": 1
                },
                "name": " ",
                "nameCanonical": "",
                "nameSub": "Tier II General Ed. 1"
               },
               {
                "credits": 3,
                "curriculum_requisites": [],
                "id": 22,
                "metrics": {
                 "blocking factor": 0,
                 "centrality": 0,
                 "complexity": 1,
                 "delay factor": 1
                },
                "name": " ",
                "nameCanonical": "",
                "nameSub": "Tier I General Ed. 3"
               },
               {
                "credits": 1,
                "curriculum_requisites": [
                 {
                  "source_id": 25,
                  "target_id": 28,
                  "type": "CurriculumPrerequisite"
                 }
                ],
                "id": 28,
                "metrics": {
                 "blocking factor": 0,
                 "centrality": 0,
                 "complexity": 6,
                 "delay factor": 6
                },
                "name": "AME 324L",
                "nameCanonical": "",
                "nameSub": "Mech. of Materials Lab."
               },
               {
                "credits": 3,
                "curriculum_requisites": [
                 {
                  "source_id": 36,
                  "target_id": 41,
                  "type": "CurriculumPrerequisite"
                 },
                 {
                  "source_id": 33,
                  "target_id": 41,
                  "type": "CurriculumCorequisite"
                 }
                ],
                "id": 41,
                "metrics": {
                 "blocking factor": 0,
                 "centrality": 0,
                 "complexity": 9,
                 "delay factor": 9
                },
                "name": "AME 422",
                "nameCanonical": "",
                "nameSub": "Aerospace Eng.Design"
               }
              ],
              "id": 8,
              "name": "Term 8"
             }
            ],
            "dp_name": "",
            "institution": "University of Arizona",
            "name": "Aerospace Engineering"
           },
           "options": {
            "edit": false,
            "hideTerms": false
           }
          }
         }
        },
        "systemjs_options": null
       },
       "nodeType": "Scope",
       "props": {},
       "type": "node"
      },
      "text/html": [
       "<div\n",
       "    class=\"webio-mountpoint\"\n",
       "    data-webio-mountpoint=\"13030427718915230677\"\n",
       ">\n",
       "    <script>\n",
       "    if (window.require && require.defined && require.defined(\"nbextensions/webio-jupyter-notebook\")) {\n",
       "        console.log(\"Jupyter WebIO extension detected, not mounting.\");\n",
       "    } else if (window.WebIO) {\n",
       "        WebIO.mount(\n",
       "            document.querySelector('[data-webio-mountpoint=\"13030427718915230677\"]'),\n",
       "            {\"props\":{},\"nodeType\":\"Scope\",\"type\":\"node\",\"instanceArgs\":{\"imports\":{\"data\":[],\"type\":\"async_block\"},\"id\":\"7865244369162570990\",\"handlers\":{},\"systemjs_options\":null,\"mount_callbacks\":[],\"observables\":{\"curriculum-data\":{\"sync\":true,\"id\":\"ob_07\",\"value\":{\"options\":{\"hideTerms\":false,\"edit\":false},\"curriculum\":{\"name\":\"Aerospace Engineering\",\"dp_name\":\"\",\"curriculum_terms\":[{\"name\":\"Term 1\",\"curriculum_items\":[{\"curriculum_requisites\":[],\"name\":\"CHEM 151\",\"metrics\":{\"complexity\":5.0,\"centrality\":0,\"blocking factor\":2,\"delay factor\":3.0},\"nameSub\":\"Gen Chemistry I\",\"id\":2,\"credits\":4,\"nameCanonical\":\"\"},{\"curriculum_requisites\":[{\"source_id\":1,\"target_id\":4,\"type\":\"CurriculumCorequisite\"}],\"name\":\"ENGR 102\",\"metrics\":{\"complexity\":2.0,\"centrality\":0,\"blocking factor\":0,\"delay factor\":2.0},\"nameSub\":\"Intro to Engineering\",\"id\":4,\"credits\":3,\"nameCanonical\":\"\"},{\"curriculum_requisites\":[],\"name\":\"MATH 125\",\"metrics\":{\"complexity\":38.0,\"centrality\":0,\"blocking factor\":29,\"delay factor\":9.0},\"nameSub\":\"Calculus I w\\/ Applications\",\"id\":1,\"credits\":3,\"nameCanonical\":\"\"},{\"curriculum_requisites\":[],\"name\":\"ENGL 101\",\"metrics\":{\"complexity\":3.0,\"centrality\":0,\"blocking factor\":1,\"delay factor\":2.0},\"nameSub\":\"First-year Comp.\",\"id\":3,\"credits\":3,\"nameCanonical\":\"\"},{\"curriculum_requisites\":[{\"source_id\":1,\"target_id\":10,\"type\":\"CurriculumCorequisite\"}],\"name\":\"ECE 175\",\"metrics\":{\"complexity\":2.0,\"centrality\":0,\"blocking factor\":0,\"delay factor\":2.0},\"nameSub\":\"Programming for Eng. Apps.\",\"id\":10,\"credits\":3,\"nameCanonical\":\"\"}],\"id\":1},{\"name\":\"Term 2\",\"curriculum_items\":[{\"curriculum_requisites\":[],\"name\":\" \",\"metrics\":{\"complexity\":1.0,\"centrality\":0,\"blocking factor\":0,\"delay factor\":1.0},\"nameSub\":\"Tier I General Ed. 2\",\"id\":17,\"credits\":3,\"nameCanonical\":\"\"},{\"curriculum_requisites\":[],\"name\":\" \",\"metrics\":{\"complexity\":1.0,\"centrality\":0,\"blocking factor\":0,\"delay factor\":1.0},\"nameSub\":\"Technical Elective 2\",\"id\":44,\"credits\":3,\"nameCanonical\":\"\"},{\"curriculum_requisites\":[{\"source_id\":1,\"target_id\":7,\"type\":\"CurriculumPrerequisite\"}],\"name\":\"AME 105\",\"metrics\":{\"complexity\":16.0,\"centrality\":28,\"blocking factor\":9,\"delay factor\":7.0},\"nameSub\":\"Intro. to MATLAB I\",\"id\":7,\"credits\":1,\"nameCanonical\":\"\"},{\"curriculum_requisites\":[{\"source_id\":3,\"target_id\":9,\"type\":\"CurriculumPrerequisite\"}],\"name\":\"ENGL 102\",\"metrics\":{\"complexity\":2.0,\"centrality\":0,\"blocking factor\":0,\"delay factor\":2.0},\"nameSub\":\"First-year Comp.\",\"id\":9,\"credits\":3,\"nameCanonical\":\"\"},{\"curriculum_requisites\":[],\"name\":\" \",\"metrics\":{\"complexity\":1.0,\"centrality\":0,\"blocking factor\":0,\"delay factor\":1.0},\"nameSub\":\"Technical Elective 1\",\"id\":43,\"credits\":3,\"nameCanonical\":\"\"},{\"curriculum_requisites\":[],\"name\":\" \",\"metrics\":{\"complexity\":1.0,\"centrality\":0,\"blocking factor\":0,\"delay factor\":1.0},\"nameSub\":\"Tier I General Ed.\",\"id\":5,\"credits\":3,\"nameCanonical\":\"\"}],\"id\":2},{\"name\":\"Term 3\",\"curriculum_items\":[{\"curriculum_requisites\":[],\"name\":\" \",\"metrics\":{\"complexity\":1.0,\"centrality\":0,\"blocking factor\":0,\"delay factor\":1.0},\"nameSub\":\"Tier I General Ed. 1\",\"id\":11,\"credits\":3,\"nameCanonical\":\"\"},{\"curriculum_requisites\":[{\"source_id\":1,\"target_id\":8,\"type\":\"CurriculumPrerequisite\"}],\"name\":\"PHYS 141\",\"metrics\":{\"complexity\":27.0,\"centrality\":272,\"blocking factor\":18,\"delay factor\":9.0},\"nameSub\":\"Intro Mechanics\",\"id\":8,\"credits\":4,\"nameCanonical\":\"\"},{\"curriculum_requisites\":[],\"name\":\"AME 211\",\"metrics\":{\"complexity\":1.0,\"centrality\":0,\"blocking factor\":0,\"delay factor\":1.0},\"nameSub\":\"Comp. Aided Drafting & Manufacturing\",\"id\":16,\"credits\":3,\"nameCanonical\":\"\"},{\"curriculum_requisites\":[{\"source_id\":1,\"target_id\":6,\"type\":\"CurriculumPrerequisite\"}],\"name\":\"MATH 129\",\"metrics\":{\"complexity\":31.0,\"centrality\":388,\"blocking factor\":22,\"delay factor\":9.0},\"nameSub\":\"Calculus II\",\"id\":6,\"credits\":3,\"nameCanonical\":\"\"},{\"curriculum_requisites\":[{\"source_id\":2,\"target_id\":27,\"type\":\"CurriculumPrerequisite\"}],\"name\":\"MSE 331R\",\"metrics\":{\"complexity\":4.0,\"centrality\":3,\"blocking factor\":1,\"delay factor\":3.0},\"nameSub\":\"Fund. of Materials for Engineers\",\"id\":27,\"credits\":3,\"nameCanonical\":\"\"}],\"id\":3},{\"name\":\"Term 4\",\"curriculum_items\":[{\"curriculum_requisites\":[{\"source_id\":8,\"target_id\":14,\"type\":\"CurriculumPrerequisite\"},{\"source_id\":6,\"target_id\":14,\"type\":\"CurriculumPrerequisite\"}],\"name\":\"PHYS 241\",\"metrics\":{\"complexity\":3.0,\"centrality\":0,\"blocking factor\":0,\"delay factor\":3.0},\"nameSub\":\"Electricity & Magnetism\",\"id\":14,\"credits\":4,\"nameCanonical\":\"\"},{\"curriculum_requisites\":[{\"source_id\":8,\"target_id\":18,\"type\":\"CurriculumPrerequisite\"}],\"name\":\"AME 230\",\"metrics\":{\"complexity\":19.0,\"centrality\":86,\"blocking factor\":11,\"delay factor\":8.0},\"nameSub\":\"Thermodynamics\",\"id\":18,\"credits\":3,\"nameCanonical\":\"\"},{\"curriculum_requisites\":[],\"name\":\" \",\"metrics\":{\"complexity\":1.0,\"centrality\":0,\"blocking factor\":0,\"delay factor\":1.0},\"nameSub\":\"Tier II General Ed. 2\",\"id\":45,\"credits\":3,\"nameCanonical\":\"\"},{\"curriculum_requisites\":[{\"source_id\":6,\"target_id\":13,\"type\":\"CurriculumPrerequisite\"}],\"name\":\"MATH  223\",\"metrics\":{\"complexity\":26.0,\"centrality\":258,\"blocking factor\":17,\"delay factor\":9.0},\"nameSub\":\"Vector Calculus\",\"id\":13,\"credits\":4,\"nameCanonical\":\"\"},{\"curriculum_requisites\":[{\"source_id\":8,\"target_id\":12,\"type\":\"CurriculumPrerequisite\"},{\"source_id\":6,\"target_id\":12,\"type\":\"CurriculumPrerequisite\"}],\"name\":\"CE 214\",\"metrics\":{\"complexity\":23.0,\"centrality\":254,\"blocking factor\":14,\"delay factor\":9.0},\"nameSub\":\"Statics\",\"id\":12,\"credits\":3,\"nameCanonical\":\"\"}],\"id\":4},{\"name\":\"Term 5\",\"curriculum_items\":[{\"curriculum_requisites\":[{\"source_id\":13,\"target_id\":20,\"type\":\"CurriculumPrerequisite\"}],\"name\":\"MATH 254\",\"metrics\":{\"complexity\":25.0,\"centrality\":188,\"blocking factor\":16,\"delay factor\":9.0},\"nameSub\":\"Intro. to ODEs\",\"id\":20,\"credits\":3,\"nameCanonical\":\"\"},{\"curriculum_requisites\":[{\"source_id\":18,\"target_id\":26,\"type\":\"CurriculumCorequisite\"},{\"source_id\":24,\"target_id\":26,\"type\":\"CurriculumCorequisite\"}],\"name\":\"AME 300\",\"metrics\":{\"complexity\":19.0,\"centrality\":204,\"blocking factor\":10,\"delay factor\":9.0},\"nameSub\":\"Instrumentation Lab.\",\"id\":26,\"credits\":3,\"nameCanonical\":\"\"},{\"curriculum_requisites\":[{\"source_id\":13,\"target_id\":21,\"type\":\"CurriculumPrerequisite\"},{\"source_id\":8,\"target_id\":21,\"type\":\"CurriculumPrerequisite\"},{\"source_id\":20,\"target_id\":21,\"type\":\"CurriculumCorequisite\"}],\"name\":\"AME 220\",\"metrics\":{\"complexity\":17.0,\"centrality\":198,\"blocking factor\":8,\"delay factor\":9.0},\"nameSub\":\"Intro. to Aerospace Eng.\",\"id\":21,\"credits\":3,\"nameCanonical\":\"\"},{\"curriculum_requisites\":[{\"source_id\":12,\"target_id\":19,\"type\":\"CurriculumPrerequisite\"},{\"source_id\":20,\"target_id\":19,\"type\":\"CurriculumCorequisite\"}],\"name\":\"AME 250\",\"metrics\":{\"complexity\":19.0,\"centrality\":145,\"blocking factor\":10,\"delay factor\":9.0},\"nameSub\":\"Dynamics\",\"id\":19,\"credits\":3,\"nameCanonical\":\"\"},{\"curriculum_requisites\":[{\"source_id\":12,\"target_id\":24,\"type\":\"CurriculumPrerequisite\"}],\"name\":\"AME  324A\",\"metrics\":{\"complexity\":20.0,\"centrality\":162,\"blocking factor\":11,\"delay factor\":9.0},\"nameSub\":\"Mech. Behavior of Eng. Materials.\",\"id\":24,\"credits\":3,\"nameCanonical\":\"\"},{\"curriculum_requisites\":[{\"source_id\":7,\"target_id\":15,\"type\":\"CurriculumPrerequisite\"}],\"name\":\"AME  205\",\"metrics\":{\"complexity\":15.0,\"centrality\":28,\"blocking factor\":8,\"delay factor\":7.0},\"nameSub\":\"Intro. To MATLAB II\",\"id\":15,\"credits\":1,\"nameCanonical\":\"\"}],\"id\":5},{\"name\":\"Term 6\",\"curriculum_items\":[{\"curriculum_requisites\":[{\"source_id\":13,\"target_id\":39,\"type\":\"CurriculumPrerequisite\"},{\"source_id\":19,\"target_id\":39,\"type\":\"CurriculumPrerequisite\"}],\"name\":\"AME 457\",\"metrics\":{\"complexity\":6.0,\"centrality\":0,\"blocking factor\":0,\"delay factor\":6.0},\"nameSub\":\"Orbital Mechanicans and Space Flt.\",\"id\":39,\"credits\":3,\"nameCanonical\":\"\"},{\"curriculum_requisites\":[{\"source_id\":18,\"target_id\":31,\"type\":\"CurriculumPrerequisite\"},{\"source_id\":32,\"target_id\":31,\"type\":\"CurriculumCorequisite\"},{\"source_id\":21,\"target_id\":31,\"type\":\"CurriculumPrerequisite\"},{\"source_id\":20,\"target_id\":31,\"type\":\"CurriculumPrerequisite\"}],\"name\":\"AME 323\",\"metrics\":{\"complexity\":13.0,\"centrality\":274,\"blocking factor\":4,\"delay factor\":9.0},\"nameSub\":\"Gasdynamics\",\"id\":31,\"credits\":3,\"nameCanonical\":\"\"},{\"curriculum_requisites\":[],\"name\":\"AME 313\",\"metrics\":{\"complexity\":5.0,\"centrality\":0,\"blocking factor\":2,\"delay factor\":3.0},\"nameSub\":\"Aero.\\/Mech. Eng. Lab\",\"id\":33,\"credits\":1,\"nameCanonical\":\"\"},{\"curriculum_requisites\":[{\"source_id\":23,\"target_id\":30,\"type\":\"CurriculumCorequisite\"},{\"source_id\":19,\"target_id\":30,\"type\":\"CurriculumPrerequisite\"},{\"source_id\":21,\"target_id\":30,\"type\":\"CurriculumPrerequisite\"}],\"name\":\"AME 321\",\"metrics\":{\"complexity\":12.0,\"centrality\":174,\"blocking factor\":3,\"delay factor\":9.0},\"nameSub\":\"Aircraft Performance\",\"id\":30,\"credits\":3,\"nameCanonical\":\"\"},{\"curriculum_requisites\":[{\"source_id\":26,\"target_id\":32,\"type\":\"CurriculumCorequisite\"},{\"source_id\":19,\"target_id\":32,\"type\":\"CurriculumPrerequisite\"},{\"source_id\":15,\"target_id\":32,\"type\":\"CurriculumPrerequisite\"},{\"source_id\":20,\"target_id\":32,\"type\":\"CurriculumPrerequisite\"}],\"name\":\"AME 302\",\"metrics\":{\"complexity\":15.0,\"centrality\":232,\"blocking factor\":6,\"delay factor\":9.0},\"nameSub\":\"Numerical Methods\",\"id\":32,\"credits\":3,\"nameCanonical\":\"\"},{\"curriculum_requisites\":[{\"source_id\":26,\"target_id\":23,\"type\":\"CurriculumCorequisite\"},{\"source_id\":21,\"target_id\":23,\"type\":\"CurriculumPrerequisite\"}],\"name\":\"AME 320\",\"metrics\":{\"complexity\":14.0,\"centrality\":214,\"blocking factor\":5,\"delay factor\":9.0},\"nameSub\":\"Aerodynamics\",\"id\":23,\"credits\":3,\"nameCanonical\":\"\"}],\"id\":6},{\"name\":\"Term 7\",\"curriculum_items\":[{\"curriculum_requisites\":[{\"source_id\":20,\"target_id\":25,\"type\":\"CurriculumPrerequisite\"}],\"name\":\"AME 301\",\"metrics\":{\"complexity\":8.0,\"centrality\":12,\"blocking factor\":2,\"delay factor\":6.0},\"nameSub\":\"Engineering Analysis\",\"id\":25,\"credits\":3,\"nameCanonical\":\"\"},{\"curriculum_requisites\":[{\"source_id\":23,\"target_id\":35,\"type\":\"CurriculumPrerequisite\"},{\"source_id\":31,\"target_id\":35,\"type\":\"CurriculumPrerequisite\"},{\"source_id\":27,\"target_id\":35,\"type\":\"CurriculumPrerequisite\"}],\"name\":\"AME 401\",\"metrics\":{\"complexity\":8.0,\"centrality\":0,\"blocking factor\":0,\"delay factor\":8.0},\"nameSub\":\"Senior Aerospace Lab.\",\"id\":35,\"credits\":3,\"nameCanonical\":\"\"},{\"curriculum_requisites\":[{\"source_id\":24,\"target_id\":37,\"type\":\"CurriculumPrerequisite\"},{\"source_id\":31,\"target_id\":37,\"type\":\"CurriculumPrerequisite\"},{\"source_id\":18,\"target_id\":37,\"type\":\"CurriculumPrerequisite\"}],\"name\":\"AME 425\",\"metrics\":{\"complexity\":8.0,\"centrality\":0,\"blocking factor\":0,\"delay factor\":8.0},\"nameSub\":\"Aerospace Propulsion\",\"id\":37,\"credits\":3,\"nameCanonical\":\"\"},{\"curriculum_requisites\":[],\"name\":\"AME 495S\",\"metrics\":{\"complexity\":1.0,\"centrality\":0,\"blocking factor\":0,\"delay factor\":1.0},\"nameSub\":\"Senior Colloquium\",\"id\":40,\"credits\":1,\"nameCanonical\":\"\"},{\"curriculum_requisites\":[{\"source_id\":23,\"target_id\":38,\"type\":\"CurriculumPrerequisite\"},{\"source_id\":15,\"target_id\":38,\"type\":\"CurriculumPrerequisite\"},{\"source_id\":30,\"target_id\":38,\"type\":\"CurriculumPrerequisite\"}],\"name\":\"AME 427\",\"metrics\":{\"complexity\":8.0,\"centrality\":0,\"blocking factor\":0,\"delay factor\":8.0},\"nameSub\":\"Stability and Control of Aero. Vehicles\",\"id\":38,\"credits\":3,\"nameCanonical\":\"\"},{\"curriculum_requisites\":[{\"source_id\":23,\"target_id\":36,\"type\":\"CurriculumPrerequisite\"},{\"source_id\":31,\"target_id\":36,\"type\":\"CurriculumPrerequisite\"},{\"source_id\":33,\"target_id\":36,\"type\":\"CurriculumPrerequisite\"},{\"source_id\":30,\"target_id\":36,\"type\":\"CurriculumPrerequisite\"}],\"name\":\"AME 420\",\"metrics\":{\"complexity\":10.0,\"centrality\":240,\"blocking factor\":1,\"delay factor\":9.0},\"nameSub\":\"Aerospace Conceptual Design\",\"id\":36,\"credits\":3,\"nameCanonical\":\"\"}],\"id\":7},{\"name\":\"Term 8\",\"curriculum_items\":[{\"curriculum_requisites\":[{\"source_id\":24,\"target_id\":42,\"type\":\"CurriculumPrerequisite\"},{\"source_id\":32,\"target_id\":42,\"type\":\"CurriculumPrerequisite\"},{\"source_id\":18,\"target_id\":42,\"type\":\"CurriculumPrerequisite\"}],\"name\":\"AME 431\",\"metrics\":{\"complexity\":7.0,\"centrality\":0,\"blocking factor\":0,\"delay factor\":7.0},\"nameSub\":\"Num. Meth. in Fluid Mech. & Heat Xfer\",\"id\":42,\"credits\":3,\"nameCanonical\":\"\"},{\"curriculum_requisites\":[{\"source_id\":25,\"target_id\":29,\"type\":\"CurriculumPrerequisite\"}],\"name\":\"AME 324B\",\"metrics\":{\"complexity\":6.0,\"centrality\":0,\"blocking factor\":0,\"delay factor\":6.0},\"nameSub\":\"Eng. Component Design\",\"id\":29,\"credits\":3,\"nameCanonical\":\"\"},{\"curriculum_requisites\":[],\"name\":\" \",\"metrics\":{\"complexity\":1.0,\"centrality\":0,\"blocking factor\":0,\"delay factor\":1.0},\"nameSub\":\"Tier II General Ed. 1\",\"id\":34,\"credits\":3,\"nameCanonical\":\"\"},{\"curriculum_requisites\":[],\"name\":\" \",\"metrics\":{\"complexity\":1.0,\"centrality\":0,\"blocking factor\":0,\"delay factor\":1.0},\"nameSub\":\"Tier I General Ed. 3\",\"id\":22,\"credits\":3,\"nameCanonical\":\"\"},{\"curriculum_requisites\":[{\"source_id\":25,\"target_id\":28,\"type\":\"CurriculumPrerequisite\"}],\"name\":\"AME 324L\",\"metrics\":{\"complexity\":6.0,\"centrality\":0,\"blocking factor\":0,\"delay factor\":6.0},\"nameSub\":\"Mech. of Materials Lab.\",\"id\":28,\"credits\":1,\"nameCanonical\":\"\"},{\"curriculum_requisites\":[{\"source_id\":36,\"target_id\":41,\"type\":\"CurriculumPrerequisite\"},{\"source_id\":33,\"target_id\":41,\"type\":\"CurriculumCorequisite\"}],\"name\":\"AME 422\",\"metrics\":{\"complexity\":9.0,\"centrality\":0,\"blocking factor\":0,\"delay factor\":9.0},\"nameSub\":\"Aerospace Eng.Design\",\"id\":41,\"credits\":3,\"nameCanonical\":\"\"}],\"id\":8}],\"institution\":\"University of Arizona\"}}}}},\"children\":[{\"props\":{\"src\":\"http:\\/\\/localhost:8156\",\"id\":\"curriculum\",\"events\":{\"load\":\"(function (){this.contentWindow.postMessage({\\\"options\\\":{\\\"hideTerms\\\":false,\\\"edit\\\":false},\\\"curriculum\\\":{\\\"name\\\":\\\"Aerospace Engineering\\\",\\\"dp_name\\\":\\\"\\\",\\\"curriculum_terms\\\":[{\\\"name\\\":\\\"Term 1\\\",\\\"curriculum_items\\\":[{\\\"curriculum_requisites\\\":[],\\\"name\\\":\\\"CHEM 151\\\",\\\"metrics\\\":{\\\"complexity\\\":5.0,\\\"centrality\\\":0,\\\"blocking factor\\\":2,\\\"delay factor\\\":3.0},\\\"nameSub\\\":\\\"Gen Chemistry I\\\",\\\"id\\\":2,\\\"credits\\\":4,\\\"nameCanonical\\\":\\\"\\\"},{\\\"curriculum_requisites\\\":[{\\\"source_id\\\":1,\\\"target_id\\\":4,\\\"type\\\":\\\"CurriculumCorequisite\\\"}],\\\"name\\\":\\\"ENGR 102\\\",\\\"metrics\\\":{\\\"complexity\\\":2.0,\\\"centrality\\\":0,\\\"blocking factor\\\":0,\\\"delay factor\\\":2.0},\\\"nameSub\\\":\\\"Intro to Engineering\\\",\\\"id\\\":4,\\\"credits\\\":3,\\\"nameCanonical\\\":\\\"\\\"},{\\\"curriculum_requisites\\\":[],\\\"name\\\":\\\"MATH 125\\\",\\\"metrics\\\":{\\\"complexity\\\":38.0,\\\"centrality\\\":0,\\\"blocking factor\\\":29,\\\"delay factor\\\":9.0},\\\"nameSub\\\":\\\"Calculus I w\\/ Applications\\\",\\\"id\\\":1,\\\"credits\\\":3,\\\"nameCanonical\\\":\\\"\\\"},{\\\"curriculum_requisites\\\":[],\\\"name\\\":\\\"ENGL 101\\\",\\\"metrics\\\":{\\\"complexity\\\":3.0,\\\"centrality\\\":0,\\\"blocking factor\\\":1,\\\"delay factor\\\":2.0},\\\"nameSub\\\":\\\"First-year Comp.\\\",\\\"id\\\":3,\\\"credits\\\":3,\\\"nameCanonical\\\":\\\"\\\"},{\\\"curriculum_requisites\\\":[{\\\"source_id\\\":1,\\\"target_id\\\":10,\\\"type\\\":\\\"CurriculumCorequisite\\\"}],\\\"name\\\":\\\"ECE 175\\\",\\\"metrics\\\":{\\\"complexity\\\":2.0,\\\"centrality\\\":0,\\\"blocking factor\\\":0,\\\"delay factor\\\":2.0},\\\"nameSub\\\":\\\"Programming for Eng. Apps.\\\",\\\"id\\\":10,\\\"credits\\\":3,\\\"nameCanonical\\\":\\\"\\\"}],\\\"id\\\":1},{\\\"name\\\":\\\"Term 2\\\",\\\"curriculum_items\\\":[{\\\"curriculum_requisites\\\":[],\\\"name\\\":\\\" \\\",\\\"metrics\\\":{\\\"complexity\\\":1.0,\\\"centrality\\\":0,\\\"blocking factor\\\":0,\\\"delay factor\\\":1.0},\\\"nameSub\\\":\\\"Tier I General Ed. 2\\\",\\\"id\\\":17,\\\"credits\\\":3,\\\"nameCanonical\\\":\\\"\\\"},{\\\"curriculum_requisites\\\":[],\\\"name\\\":\\\" \\\",\\\"metrics\\\":{\\\"complexity\\\":1.0,\\\"centrality\\\":0,\\\"blocking factor\\\":0,\\\"delay factor\\\":1.0},\\\"nameSub\\\":\\\"Technical Elective 2\\\",\\\"id\\\":44,\\\"credits\\\":3,\\\"nameCanonical\\\":\\\"\\\"},{\\\"curriculum_requisites\\\":[{\\\"source_id\\\":1,\\\"target_id\\\":7,\\\"type\\\":\\\"CurriculumPrerequisite\\\"}],\\\"name\\\":\\\"AME 105\\\",\\\"metrics\\\":{\\\"complexity\\\":16.0,\\\"centrality\\\":28,\\\"blocking factor\\\":9,\\\"delay factor\\\":7.0},\\\"nameSub\\\":\\\"Intro. to MATLAB I\\\",\\\"id\\\":7,\\\"credits\\\":1,\\\"nameCanonical\\\":\\\"\\\"},{\\\"curriculum_requisites\\\":[{\\\"source_id\\\":3,\\\"target_id\\\":9,\\\"type\\\":\\\"CurriculumPrerequisite\\\"}],\\\"name\\\":\\\"ENGL 102\\\",\\\"metrics\\\":{\\\"complexity\\\":2.0,\\\"centrality\\\":0,\\\"blocking factor\\\":0,\\\"delay factor\\\":2.0},\\\"nameSub\\\":\\\"First-year Comp.\\\",\\\"id\\\":9,\\\"credits\\\":3,\\\"nameCanonical\\\":\\\"\\\"},{\\\"curriculum_requisites\\\":[],\\\"name\\\":\\\" \\\",\\\"metrics\\\":{\\\"complexity\\\":1.0,\\\"centrality\\\":0,\\\"blocking factor\\\":0,\\\"delay factor\\\":1.0},\\\"nameSub\\\":\\\"Technical Elective 1\\\",\\\"id\\\":43,\\\"credits\\\":3,\\\"nameCanonical\\\":\\\"\\\"},{\\\"curriculum_requisites\\\":[],\\\"name\\\":\\\" \\\",\\\"metrics\\\":{\\\"complexity\\\":1.0,\\\"centrality\\\":0,\\\"blocking factor\\\":0,\\\"delay factor\\\":1.0},\\\"nameSub\\\":\\\"Tier I General Ed.\\\",\\\"id\\\":5,\\\"credits\\\":3,\\\"nameCanonical\\\":\\\"\\\"}],\\\"id\\\":2},{\\\"name\\\":\\\"Term 3\\\",\\\"curriculum_items\\\":[{\\\"curriculum_requisites\\\":[],\\\"name\\\":\\\" \\\",\\\"metrics\\\":{\\\"complexity\\\":1.0,\\\"centrality\\\":0,\\\"blocking factor\\\":0,\\\"delay factor\\\":1.0},\\\"nameSub\\\":\\\"Tier I General Ed. 1\\\",\\\"id\\\":11,\\\"credits\\\":3,\\\"nameCanonical\\\":\\\"\\\"},{\\\"curriculum_requisites\\\":[{\\\"source_id\\\":1,\\\"target_id\\\":8,\\\"type\\\":\\\"CurriculumPrerequisite\\\"}],\\\"name\\\":\\\"PHYS 141\\\",\\\"metrics\\\":{\\\"complexity\\\":27.0,\\\"centrality\\\":272,\\\"blocking factor\\\":18,\\\"delay factor\\\":9.0},\\\"nameSub\\\":\\\"Intro Mechanics\\\",\\\"id\\\":8,\\\"credits\\\":4,\\\"nameCanonical\\\":\\\"\\\"},{\\\"curriculum_requisites\\\":[],\\\"name\\\":\\\"AME 211\\\",\\\"metrics\\\":{\\\"complexity\\\":1.0,\\\"centrality\\\":0,\\\"blocking factor\\\":0,\\\"delay factor\\\":1.0},\\\"nameSub\\\":\\\"Comp. Aided Drafting & Manufacturing\\\",\\\"id\\\":16,\\\"credits\\\":3,\\\"nameCanonical\\\":\\\"\\\"},{\\\"curriculum_requisites\\\":[{\\\"source_id\\\":1,\\\"target_id\\\":6,\\\"type\\\":\\\"CurriculumPrerequisite\\\"}],\\\"name\\\":\\\"MATH 129\\\",\\\"metrics\\\":{\\\"complexity\\\":31.0,\\\"centrality\\\":388,\\\"blocking factor\\\":22,\\\"delay factor\\\":9.0},\\\"nameSub\\\":\\\"Calculus II\\\",\\\"id\\\":6,\\\"credits\\\":3,\\\"nameCanonical\\\":\\\"\\\"},{\\\"curriculum_requisites\\\":[{\\\"source_id\\\":2,\\\"target_id\\\":27,\\\"type\\\":\\\"CurriculumPrerequisite\\\"}],\\\"name\\\":\\\"MSE 331R\\\",\\\"metrics\\\":{\\\"complexity\\\":4.0,\\\"centrality\\\":3,\\\"blocking factor\\\":1,\\\"delay factor\\\":3.0},\\\"nameSub\\\":\\\"Fund. of Materials for Engineers\\\",\\\"id\\\":27,\\\"credits\\\":3,\\\"nameCanonical\\\":\\\"\\\"}],\\\"id\\\":3},{\\\"name\\\":\\\"Term 4\\\",\\\"curriculum_items\\\":[{\\\"curriculum_requisites\\\":[{\\\"source_id\\\":8,\\\"target_id\\\":14,\\\"type\\\":\\\"CurriculumPrerequisite\\\"},{\\\"source_id\\\":6,\\\"target_id\\\":14,\\\"type\\\":\\\"CurriculumPrerequisite\\\"}],\\\"name\\\":\\\"PHYS 241\\\",\\\"metrics\\\":{\\\"complexity\\\":3.0,\\\"centrality\\\":0,\\\"blocking factor\\\":0,\\\"delay factor\\\":3.0},\\\"nameSub\\\":\\\"Electricity & Magnetism\\\",\\\"id\\\":14,\\\"credits\\\":4,\\\"nameCanonical\\\":\\\"\\\"},{\\\"curriculum_requisites\\\":[{\\\"source_id\\\":8,\\\"target_id\\\":18,\\\"type\\\":\\\"CurriculumPrerequisite\\\"}],\\\"name\\\":\\\"AME 230\\\",\\\"metrics\\\":{\\\"complexity\\\":19.0,\\\"centrality\\\":86,\\\"blocking factor\\\":11,\\\"delay factor\\\":8.0},\\\"nameSub\\\":\\\"Thermodynamics\\\",\\\"id\\\":18,\\\"credits\\\":3,\\\"nameCanonical\\\":\\\"\\\"},{\\\"curriculum_requisites\\\":[],\\\"name\\\":\\\" \\\",\\\"metrics\\\":{\\\"complexity\\\":1.0,\\\"centrality\\\":0,\\\"blocking factor\\\":0,\\\"delay factor\\\":1.0},\\\"nameSub\\\":\\\"Tier II General Ed. 2\\\",\\\"id\\\":45,\\\"credits\\\":3,\\\"nameCanonical\\\":\\\"\\\"},{\\\"curriculum_requisites\\\":[{\\\"source_id\\\":6,\\\"target_id\\\":13,\\\"type\\\":\\\"CurriculumPrerequisite\\\"}],\\\"name\\\":\\\"MATH  223\\\",\\\"metrics\\\":{\\\"complexity\\\":26.0,\\\"centrality\\\":258,\\\"blocking factor\\\":17,\\\"delay factor\\\":9.0},\\\"nameSub\\\":\\\"Vector Calculus\\\",\\\"id\\\":13,\\\"credits\\\":4,\\\"nameCanonical\\\":\\\"\\\"},{\\\"curriculum_requisites\\\":[{\\\"source_id\\\":8,\\\"target_id\\\":12,\\\"type\\\":\\\"CurriculumPrerequisite\\\"},{\\\"source_id\\\":6,\\\"target_id\\\":12,\\\"type\\\":\\\"CurriculumPrerequisite\\\"}],\\\"name\\\":\\\"CE 214\\\",\\\"metrics\\\":{\\\"complexity\\\":23.0,\\\"centrality\\\":254,\\\"blocking factor\\\":14,\\\"delay factor\\\":9.0},\\\"nameSub\\\":\\\"Statics\\\",\\\"id\\\":12,\\\"credits\\\":3,\\\"nameCanonical\\\":\\\"\\\"}],\\\"id\\\":4},{\\\"name\\\":\\\"Term 5\\\",\\\"curriculum_items\\\":[{\\\"curriculum_requisites\\\":[{\\\"source_id\\\":13,\\\"target_id\\\":20,\\\"type\\\":\\\"CurriculumPrerequisite\\\"}],\\\"name\\\":\\\"MATH 254\\\",\\\"metrics\\\":{\\\"complexity\\\":25.0,\\\"centrality\\\":188,\\\"blocking factor\\\":16,\\\"delay factor\\\":9.0},\\\"nameSub\\\":\\\"Intro. to ODEs\\\",\\\"id\\\":20,\\\"credits\\\":3,\\\"nameCanonical\\\":\\\"\\\"},{\\\"curriculum_requisites\\\":[{\\\"source_id\\\":18,\\\"target_id\\\":26,\\\"type\\\":\\\"CurriculumCorequisite\\\"},{\\\"source_id\\\":24,\\\"target_id\\\":26,\\\"type\\\":\\\"CurriculumCorequisite\\\"}],\\\"name\\\":\\\"AME 300\\\",\\\"metrics\\\":{\\\"complexity\\\":19.0,\\\"centrality\\\":204,\\\"blocking factor\\\":10,\\\"delay factor\\\":9.0},\\\"nameSub\\\":\\\"Instrumentation Lab.\\\",\\\"id\\\":26,\\\"credits\\\":3,\\\"nameCanonical\\\":\\\"\\\"},{\\\"curriculum_requisites\\\":[{\\\"source_id\\\":13,\\\"target_id\\\":21,\\\"type\\\":\\\"CurriculumPrerequisite\\\"},{\\\"source_id\\\":8,\\\"target_id\\\":21,\\\"type\\\":\\\"CurriculumPrerequisite\\\"},{\\\"source_id\\\":20,\\\"target_id\\\":21,\\\"type\\\":\\\"CurriculumCorequisite\\\"}],\\\"name\\\":\\\"AME 220\\\",\\\"metrics\\\":{\\\"complexity\\\":17.0,\\\"centrality\\\":198,\\\"blocking factor\\\":8,\\\"delay factor\\\":9.0},\\\"nameSub\\\":\\\"Intro. to Aerospace Eng.\\\",\\\"id\\\":21,\\\"credits\\\":3,\\\"nameCanonical\\\":\\\"\\\"},{\\\"curriculum_requisites\\\":[{\\\"source_id\\\":12,\\\"target_id\\\":19,\\\"type\\\":\\\"CurriculumPrerequisite\\\"},{\\\"source_id\\\":20,\\\"target_id\\\":19,\\\"type\\\":\\\"CurriculumCorequisite\\\"}],\\\"name\\\":\\\"AME 250\\\",\\\"metrics\\\":{\\\"complexity\\\":19.0,\\\"centrality\\\":145,\\\"blocking factor\\\":10,\\\"delay factor\\\":9.0},\\\"nameSub\\\":\\\"Dynamics\\\",\\\"id\\\":19,\\\"credits\\\":3,\\\"nameCanonical\\\":\\\"\\\"},{\\\"curriculum_requisites\\\":[{\\\"source_id\\\":12,\\\"target_id\\\":24,\\\"type\\\":\\\"CurriculumPrerequisite\\\"}],\\\"name\\\":\\\"AME  324A\\\",\\\"metrics\\\":{\\\"complexity\\\":20.0,\\\"centrality\\\":162,\\\"blocking factor\\\":11,\\\"delay factor\\\":9.0},\\\"nameSub\\\":\\\"Mech. Behavior of Eng. Materials.\\\",\\\"id\\\":24,\\\"credits\\\":3,\\\"nameCanonical\\\":\\\"\\\"},{\\\"curriculum_requisites\\\":[{\\\"source_id\\\":7,\\\"target_id\\\":15,\\\"type\\\":\\\"CurriculumPrerequisite\\\"}],\\\"name\\\":\\\"AME  205\\\",\\\"metrics\\\":{\\\"complexity\\\":15.0,\\\"centrality\\\":28,\\\"blocking factor\\\":8,\\\"delay factor\\\":7.0},\\\"nameSub\\\":\\\"Intro. To MATLAB II\\\",\\\"id\\\":15,\\\"credits\\\":1,\\\"nameCanonical\\\":\\\"\\\"}],\\\"id\\\":5},{\\\"name\\\":\\\"Term 6\\\",\\\"curriculum_items\\\":[{\\\"curriculum_requisites\\\":[{\\\"source_id\\\":13,\\\"target_id\\\":39,\\\"type\\\":\\\"CurriculumPrerequisite\\\"},{\\\"source_id\\\":19,\\\"target_id\\\":39,\\\"type\\\":\\\"CurriculumPrerequisite\\\"}],\\\"name\\\":\\\"AME 457\\\",\\\"metrics\\\":{\\\"complexity\\\":6.0,\\\"centrality\\\":0,\\\"blocking factor\\\":0,\\\"delay factor\\\":6.0},\\\"nameSub\\\":\\\"Orbital Mechanicans and Space Flt.\\\",\\\"id\\\":39,\\\"credits\\\":3,\\\"nameCanonical\\\":\\\"\\\"},{\\\"curriculum_requisites\\\":[{\\\"source_id\\\":18,\\\"target_id\\\":31,\\\"type\\\":\\\"CurriculumPrerequisite\\\"},{\\\"source_id\\\":32,\\\"target_id\\\":31,\\\"type\\\":\\\"CurriculumCorequisite\\\"},{\\\"source_id\\\":21,\\\"target_id\\\":31,\\\"type\\\":\\\"CurriculumPrerequisite\\\"},{\\\"source_id\\\":20,\\\"target_id\\\":31,\\\"type\\\":\\\"CurriculumPrerequisite\\\"}],\\\"name\\\":\\\"AME 323\\\",\\\"metrics\\\":{\\\"complexity\\\":13.0,\\\"centrality\\\":274,\\\"blocking factor\\\":4,\\\"delay factor\\\":9.0},\\\"nameSub\\\":\\\"Gasdynamics\\\",\\\"id\\\":31,\\\"credits\\\":3,\\\"nameCanonical\\\":\\\"\\\"},{\\\"curriculum_requisites\\\":[],\\\"name\\\":\\\"AME 313\\\",\\\"metrics\\\":{\\\"complexity\\\":5.0,\\\"centrality\\\":0,\\\"blocking factor\\\":2,\\\"delay factor\\\":3.0},\\\"nameSub\\\":\\\"Aero.\\/Mech. Eng. Lab\\\",\\\"id\\\":33,\\\"credits\\\":1,\\\"nameCanonical\\\":\\\"\\\"},{\\\"curriculum_requisites\\\":[{\\\"source_id\\\":23,\\\"target_id\\\":30,\\\"type\\\":\\\"CurriculumCorequisite\\\"},{\\\"source_id\\\":19,\\\"target_id\\\":30,\\\"type\\\":\\\"CurriculumPrerequisite\\\"},{\\\"source_id\\\":21,\\\"target_id\\\":30,\\\"type\\\":\\\"CurriculumPrerequisite\\\"}],\\\"name\\\":\\\"AME 321\\\",\\\"metrics\\\":{\\\"complexity\\\":12.0,\\\"centrality\\\":174,\\\"blocking factor\\\":3,\\\"delay factor\\\":9.0},\\\"nameSub\\\":\\\"Aircraft Performance\\\",\\\"id\\\":30,\\\"credits\\\":3,\\\"nameCanonical\\\":\\\"\\\"},{\\\"curriculum_requisites\\\":[{\\\"source_id\\\":26,\\\"target_id\\\":32,\\\"type\\\":\\\"CurriculumCorequisite\\\"},{\\\"source_id\\\":19,\\\"target_id\\\":32,\\\"type\\\":\\\"CurriculumPrerequisite\\\"},{\\\"source_id\\\":15,\\\"target_id\\\":32,\\\"type\\\":\\\"CurriculumPrerequisite\\\"},{\\\"source_id\\\":20,\\\"target_id\\\":32,\\\"type\\\":\\\"CurriculumPrerequisite\\\"}],\\\"name\\\":\\\"AME 302\\\",\\\"metrics\\\":{\\\"complexity\\\":15.0,\\\"centrality\\\":232,\\\"blocking factor\\\":6,\\\"delay factor\\\":9.0},\\\"nameSub\\\":\\\"Numerical Methods\\\",\\\"id\\\":32,\\\"credits\\\":3,\\\"nameCanonical\\\":\\\"\\\"},{\\\"curriculum_requisites\\\":[{\\\"source_id\\\":26,\\\"target_id\\\":23,\\\"type\\\":\\\"CurriculumCorequisite\\\"},{\\\"source_id\\\":21,\\\"target_id\\\":23,\\\"type\\\":\\\"CurriculumPrerequisite\\\"}],\\\"name\\\":\\\"AME 320\\\",\\\"metrics\\\":{\\\"complexity\\\":14.0,\\\"centrality\\\":214,\\\"blocking factor\\\":5,\\\"delay factor\\\":9.0},\\\"nameSub\\\":\\\"Aerodynamics\\\",\\\"id\\\":23,\\\"credits\\\":3,\\\"nameCanonical\\\":\\\"\\\"}],\\\"id\\\":6},{\\\"name\\\":\\\"Term 7\\\",\\\"curriculum_items\\\":[{\\\"curriculum_requisites\\\":[{\\\"source_id\\\":20,\\\"target_id\\\":25,\\\"type\\\":\\\"CurriculumPrerequisite\\\"}],\\\"name\\\":\\\"AME 301\\\",\\\"metrics\\\":{\\\"complexity\\\":8.0,\\\"centrality\\\":12,\\\"blocking factor\\\":2,\\\"delay factor\\\":6.0},\\\"nameSub\\\":\\\"Engineering Analysis\\\",\\\"id\\\":25,\\\"credits\\\":3,\\\"nameCanonical\\\":\\\"\\\"},{\\\"curriculum_requisites\\\":[{\\\"source_id\\\":23,\\\"target_id\\\":35,\\\"type\\\":\\\"CurriculumPrerequisite\\\"},{\\\"source_id\\\":31,\\\"target_id\\\":35,\\\"type\\\":\\\"CurriculumPrerequisite\\\"},{\\\"source_id\\\":27,\\\"target_id\\\":35,\\\"type\\\":\\\"CurriculumPrerequisite\\\"}],\\\"name\\\":\\\"AME 401\\\",\\\"metrics\\\":{\\\"complexity\\\":8.0,\\\"centrality\\\":0,\\\"blocking factor\\\":0,\\\"delay factor\\\":8.0},\\\"nameSub\\\":\\\"Senior Aerospace Lab.\\\",\\\"id\\\":35,\\\"credits\\\":3,\\\"nameCanonical\\\":\\\"\\\"},{\\\"curriculum_requisites\\\":[{\\\"source_id\\\":24,\\\"target_id\\\":37,\\\"type\\\":\\\"CurriculumPrerequisite\\\"},{\\\"source_id\\\":31,\\\"target_id\\\":37,\\\"type\\\":\\\"CurriculumPrerequisite\\\"},{\\\"source_id\\\":18,\\\"target_id\\\":37,\\\"type\\\":\\\"CurriculumPrerequisite\\\"}],\\\"name\\\":\\\"AME 425\\\",\\\"metrics\\\":{\\\"complexity\\\":8.0,\\\"centrality\\\":0,\\\"blocking factor\\\":0,\\\"delay factor\\\":8.0},\\\"nameSub\\\":\\\"Aerospace Propulsion\\\",\\\"id\\\":37,\\\"credits\\\":3,\\\"nameCanonical\\\":\\\"\\\"},{\\\"curriculum_requisites\\\":[],\\\"name\\\":\\\"AME 495S\\\",\\\"metrics\\\":{\\\"complexity\\\":1.0,\\\"centrality\\\":0,\\\"blocking factor\\\":0,\\\"delay factor\\\":1.0},\\\"nameSub\\\":\\\"Senior Colloquium\\\",\\\"id\\\":40,\\\"credits\\\":1,\\\"nameCanonical\\\":\\\"\\\"},{\\\"curriculum_requisites\\\":[{\\\"source_id\\\":23,\\\"target_id\\\":38,\\\"type\\\":\\\"CurriculumPrerequisite\\\"},{\\\"source_id\\\":15,\\\"target_id\\\":38,\\\"type\\\":\\\"CurriculumPrerequisite\\\"},{\\\"source_id\\\":30,\\\"target_id\\\":38,\\\"type\\\":\\\"CurriculumPrerequisite\\\"}],\\\"name\\\":\\\"AME 427\\\",\\\"metrics\\\":{\\\"complexity\\\":8.0,\\\"centrality\\\":0,\\\"blocking factor\\\":0,\\\"delay factor\\\":8.0},\\\"nameSub\\\":\\\"Stability and Control of Aero. Vehicles\\\",\\\"id\\\":38,\\\"credits\\\":3,\\\"nameCanonical\\\":\\\"\\\"},{\\\"curriculum_requisites\\\":[{\\\"source_id\\\":23,\\\"target_id\\\":36,\\\"type\\\":\\\"CurriculumPrerequisite\\\"},{\\\"source_id\\\":31,\\\"target_id\\\":36,\\\"type\\\":\\\"CurriculumPrerequisite\\\"},{\\\"source_id\\\":33,\\\"target_id\\\":36,\\\"type\\\":\\\"CurriculumPrerequisite\\\"},{\\\"source_id\\\":30,\\\"target_id\\\":36,\\\"type\\\":\\\"CurriculumPrerequisite\\\"}],\\\"name\\\":\\\"AME 420\\\",\\\"metrics\\\":{\\\"complexity\\\":10.0,\\\"centrality\\\":240,\\\"blocking factor\\\":1,\\\"delay factor\\\":9.0},\\\"nameSub\\\":\\\"Aerospace Conceptual Design\\\",\\\"id\\\":36,\\\"credits\\\":3,\\\"nameCanonical\\\":\\\"\\\"}],\\\"id\\\":7},{\\\"name\\\":\\\"Term 8\\\",\\\"curriculum_items\\\":[{\\\"curriculum_requisites\\\":[{\\\"source_id\\\":24,\\\"target_id\\\":42,\\\"type\\\":\\\"CurriculumPrerequisite\\\"},{\\\"source_id\\\":32,\\\"target_id\\\":42,\\\"type\\\":\\\"CurriculumPrerequisite\\\"},{\\\"source_id\\\":18,\\\"target_id\\\":42,\\\"type\\\":\\\"CurriculumPrerequisite\\\"}],\\\"name\\\":\\\"AME 431\\\",\\\"metrics\\\":{\\\"complexity\\\":7.0,\\\"centrality\\\":0,\\\"blocking factor\\\":0,\\\"delay factor\\\":7.0},\\\"nameSub\\\":\\\"Num. Meth. in Fluid Mech. & Heat Xfer\\\",\\\"id\\\":42,\\\"credits\\\":3,\\\"nameCanonical\\\":\\\"\\\"},{\\\"curriculum_requisites\\\":[{\\\"source_id\\\":25,\\\"target_id\\\":29,\\\"type\\\":\\\"CurriculumPrerequisite\\\"}],\\\"name\\\":\\\"AME 324B\\\",\\\"metrics\\\":{\\\"complexity\\\":6.0,\\\"centrality\\\":0,\\\"blocking factor\\\":0,\\\"delay factor\\\":6.0},\\\"nameSub\\\":\\\"Eng. Component Design\\\",\\\"id\\\":29,\\\"credits\\\":3,\\\"nameCanonical\\\":\\\"\\\"},{\\\"curriculum_requisites\\\":[],\\\"name\\\":\\\" \\\",\\\"metrics\\\":{\\\"complexity\\\":1.0,\\\"centrality\\\":0,\\\"blocking factor\\\":0,\\\"delay factor\\\":1.0},\\\"nameSub\\\":\\\"Tier II General Ed. 1\\\",\\\"id\\\":34,\\\"credits\\\":3,\\\"nameCanonical\\\":\\\"\\\"},{\\\"curriculum_requisites\\\":[],\\\"name\\\":\\\" \\\",\\\"metrics\\\":{\\\"complexity\\\":1.0,\\\"centrality\\\":0,\\\"blocking factor\\\":0,\\\"delay factor\\\":1.0},\\\"nameSub\\\":\\\"Tier I General Ed. 3\\\",\\\"id\\\":22,\\\"credits\\\":3,\\\"nameCanonical\\\":\\\"\\\"},{\\\"curriculum_requisites\\\":[{\\\"source_id\\\":25,\\\"target_id\\\":28,\\\"type\\\":\\\"CurriculumPrerequisite\\\"}],\\\"name\\\":\\\"AME 324L\\\",\\\"metrics\\\":{\\\"complexity\\\":6.0,\\\"centrality\\\":0,\\\"blocking factor\\\":0,\\\"delay factor\\\":6.0},\\\"nameSub\\\":\\\"Mech. of Materials Lab.\\\",\\\"id\\\":28,\\\"credits\\\":1,\\\"nameCanonical\\\":\\\"\\\"},{\\\"curriculum_requisites\\\":[{\\\"source_id\\\":36,\\\"target_id\\\":41,\\\"type\\\":\\\"CurriculumPrerequisite\\\"},{\\\"source_id\\\":33,\\\"target_id\\\":41,\\\"type\\\":\\\"CurriculumCorequisite\\\"}],\\\"name\\\":\\\"AME 422\\\",\\\"metrics\\\":{\\\"complexity\\\":9.0,\\\"centrality\\\":0,\\\"blocking factor\\\":0,\\\"delay factor\\\":9.0},\\\"nameSub\\\":\\\"Aerospace Eng.Design\\\",\\\"id\\\":41,\\\"credits\\\":3,\\\"nameCanonical\\\":\\\"\\\"}],\\\"id\\\":8}],\\\"institution\\\":\\\"University of Arizona\\\"}},\\\"*\\\"); window.removeEventListener(\\\"message\\\",window.messageReceived); window.messageReceived=(function (event){return (event.data.curriculum!==undefined) ? (WebIO.setval({\\\"name\\\":\\\"curriculum-data\\\",\\\"scope\\\":\\\"7865244369162570990\\\",\\\"id\\\":\\\"ob_07\\\",\\\"type\\\":\\\"observable\\\"},event.data.curriculum)) : undefined}); return window.addEventListener(\\\"message\\\",window.messageReceived)})\"},\"style\":{\"padding\":\"0\",\"height\":\"100vh\",\"margin\":\"0\",\"border\":\"none\",\"width\":\"100%\"}},\"nodeType\":\"DOM\",\"type\":\"node\",\"instanceArgs\":{\"namespace\":\"html\",\"tag\":\"iframe\"},\"children\":[\"\"]}]},\n",
       "            window,\n",
       "        );\n",
       "    } else {\n",
       "        document\n",
       "            .querySelector('[data-webio-mountpoint=\"13030427718915230677\"]')\n",
       "            .innerHTML = (\n",
       "                '<div style=\"padding: 1em; background-color: #f8d6da; border: 1px solid #f5c6cb\">' +\n",
       "                '<p><strong>WebIO not detected.</strong></p>' +\n",
       "                '<p>Please read ' +\n",
       "                '<a href=\"https://juliagizmos.github.io/WebIO.jl/latest/troubleshooting/not-detected/\" target=\"_blank\">the troubleshooting guide</a> ' +\n",
       "                'for more information on how to resolve this issue.</p>' +\n",
       "                '<p><a href=\"https://juliagizmos.github.io/WebIO.jl/latest/troubleshooting/not-detected/\" target=\"_blank\">https://juliagizmos.github.io/WebIO.jl/latest/troubleshooting/not-detected/</a></p>' +\n",
       "                '</div>'\n",
       "            );\n",
       "    }\n",
       "    </script>\n",
       "</div>\n"
      ],
      "text/plain": [
       "WebIO.Scope(WebIO.Node{WebIO.DOM}(WebIO.DOM(:html, :iframe), Any[\"\"], Dict{Symbol,Any}(:src => \"http://localhost:8156\",:id => \"curriculum\",:events => Dict(:load => WebIO.JSString(\"(function (){this.contentWindow.postMessage({\\\"options\\\":{\\\"hideTerms\\\":false,\\\"edit\\\":false},\\\"curriculum\\\":{\\\"name\\\":\\\"Aerospace Engineering\\\",\\\"dp_name\\\":\\\"\\\",\\\"curriculum_terms\\\":[{\\\"name\\\":\\\"Term 1\\\",\\\"curriculum_items\\\":[{\\\"curriculum_requisites\\\":[],\\\"name\\\":\\\"CHEM 151\\\",\\\"metrics\\\":{\\\"complexity\\\":5.0,\\\"centrality\\\":0,\\\"blocking factor\\\":2,\\\"delay factor\\\":3.0},\\\"nameSub\\\":\\\"Gen Chemistry I\\\",\\\"id\\\":2,\\\"credits\\\":4,\\\"nameCanonical\\\":\\\"\\\"},{\\\"curriculum_requisites\\\":[{\\\"source_id\\\":1,\\\"target_id\\\":4,\\\"type\\\":\\\"CurriculumCorequisite\\\"}],\\\"name\\\":\\\"ENGR 102\\\",\\\"metrics\\\":{\\\"complexity\\\":2.0,\\\"centrality\\\":0,\\\"blocking factor\\\":0,\\\"delay factor\\\":2.0},\\\"nameSub\\\":\\\"Intro to Engineering\\\",\\\"id\\\":4,\\\"credits\\\":3,\\\"nameCanonical\\\":\\\"\\\"},{\\\"curriculum_requisites\\\":[],\\\"name\\\":\\\"MATH 125\\\",\\\"metrics\\\":{\\\"complexity\\\":38.0,\\\"centrality\\\":0,\\\"blocking factor\\\":29,\\\"delay factor\\\":9.0},\\\"nameSub\\\":\\\"Calculus I w/ Applications\\\",\\\"id\\\":1,\\\"credits\\\":3,\\\"nameCanonical\\\":\\\"\\\"},{\\\"curriculum_requisites\\\":[],\\\"name\\\":\\\"ENGL 101\\\",\\\"metrics\\\":{\\\"complexity\\\":3.0,\\\"centrality\\\":0,\\\"blocking factor\\\":1,\\\"delay factor\\\":2.0},\\\"nameSub\\\":\\\"First-year Comp.\\\",\\\"id\\\":3,\\\"credits\\\":3,\\\"nameCanonical\\\":\\\"\\\"},{\\\"curriculum_requisites\\\":[{\\\"source_id\\\":1,\\\"target_id\\\":10,\\\"type\\\":\\\"CurriculumCorequisite\\\"}],\\\"name\\\":\\\"ECE 175\\\",\\\"metrics\\\":{\\\"complexity\\\":2.0,\\\"centrality\\\":0,\\\"blocking factor\\\":0,\\\"delay factor\\\":2.0},\\\"nameSub\\\":\\\"Programming for Eng. Apps.\\\",\\\"id\\\":10,\\\"credits\\\":3,\\\"nameCanonical\\\":\\\"\\\"}],\\\"id\\\":1},{\\\"name\\\":\\\"Term 2\\\",\\\"curriculum_items\\\":[{\\\"curriculum_requisites\\\":[],\\\"name\\\":\\\" \\\",\\\"metrics\\\":{\\\"complexity\\\":1.0,\\\"centrality\\\":0,\\\"blocking factor\\\":0,\\\"delay factor\\\":1.0},\\\"nameSub\\\":\\\"Tier I General Ed. 2\\\",\\\"id\\\":17,\\\"credits\\\":3,\\\"nameCanonical\\\":\\\"\\\"},{\\\"curriculum_requisites\\\":[],\\\"name\\\":\\\" \\\",\\\"metrics\\\":{\\\"complexity\\\":1.0,\\\"centrality\\\":0,\\\"blocking factor\\\":0,\\\"delay factor\\\":1.0},\\\"nameSub\\\":\\\"Technical Elective 2\\\",\\\"id\\\":44,\\\"credits\\\":3,\\\"nameCanonical\\\":\\\"\\\"},{\\\"curriculum_requisites\\\":[{\\\"source_id\\\":1,\\\"target_id\\\":7,\\\"type\\\":\\\"CurriculumPrerequisite\\\"}],\\\"name\\\":\\\"AME 105\\\",\\\"metrics\\\":{\\\"complexity\\\":16.0,\\\"centrality\\\":28,\\\"blocking factor\\\":9,\\\"delay factor\\\":7.0},\\\"nameSub\\\":\\\"Intro. to MATLAB I\\\",\\\"id\\\":7,\\\"credits\\\":1,\\\"nameCanonical\\\":\\\"\\\"},{\\\"curriculum_requisites\\\":[{\\\"source_id\\\":3,\\\"target_id\\\":9,\\\"type\\\":\\\"CurriculumPrerequisite\\\"}],\\\"name\\\":\\\"ENGL 102\\\",\\\"metrics\\\":{\\\"complexity\\\":2.0,\\\"centrality\\\":0,\\\"blocking factor\\\":0,\\\"delay factor\\\":2.0},\\\"nameSub\\\":\\\"First-year Comp.\\\",\\\"id\\\":9,\\\"credits\\\":3,\\\"nameCanonical\\\":\\\"\\\"},{\\\"curriculum_requisites\\\":[],\\\"name\\\":\\\" \\\",\\\"metrics\\\":{\\\"complexity\\\":1.0,\\\"centrality\\\":0,\\\"blocking factor\\\":0,\\\"delay factor\\\":1.0},\\\"nameSub\\\":\\\"Technical Elective 1\\\",\\\"id\\\":43,\\\"credits\\\":3,\\\"nameCanonical\\\":\\\"\\\"},{\\\"curriculum_requisites\\\":[],\\\"name\\\":\\\" \\\",\\\"metrics\\\":{\\\"complexity\\\":1.0,\\\"centrality\\\":0,\\\"blocking factor\\\":0,\\\"delay factor\\\":1.0},\\\"nameSub\\\":\\\"Tier I General Ed.\\\",\\\"id\\\":5,\\\"credits\\\":3,\\\"nameCanonical\\\":\\\"\\\"}],\\\"id\\\":2},{\\\"name\\\":\\\"Term 3\\\",\\\"curriculum_items\\\":[{\\\"curriculum_requisites\\\":[],\\\"name\\\":\\\" \\\",\\\"metrics\\\":{\\\"complexity\\\":1.0,\\\"centrality\\\":0,\\\"blocking factor\\\":0,\\\"delay factor\\\":1.0},\\\"nameSub\\\":\\\"Tier I General Ed. 1\\\",\\\"id\\\":11,\\\"credits\\\":3,\\\"nameCanonical\\\":\\\"\\\"},{\\\"curriculum_requisites\\\":[{\\\"source_id\\\":1,\\\"target_id\\\":8,\\\"type\\\":\\\"CurriculumPrerequisite\\\"}],\\\"name\\\":\\\"PHYS 141\\\",\\\"metrics\\\":{\\\"complexity\\\":27.0,\\\"centrality\\\":272,\\\"blocking factor\\\":18,\\\"delay factor\\\":9.0},\\\"nameSub\\\":\\\"Intro Mechanics\\\",\\\"id\\\":8,\\\"credits\\\":4,\\\"nameCanonical\\\":\\\"\\\"},{\\\"curriculum_requisites\\\":[],\\\"name\\\":\\\"AME 211\\\",\\\"metrics\\\":{\\\"complexity\\\":1.0,\\\"centrality\\\":0,\\\"blocking factor\\\":0,\\\"delay factor\\\":1.0},\\\"nameSub\\\":\\\"Comp. Aided Drafting & Manufacturing\\\",\\\"id\\\":16,\\\"credits\\\":3,\\\"nameCanonical\\\":\\\"\\\"},{\\\"curriculum_requisites\\\":[{\\\"source_id\\\":1,\\\"target_id\\\":6,\\\"type\\\":\\\"CurriculumPrerequisite\\\"}],\\\"name\\\":\\\"MATH 129\\\",\\\"metrics\\\":{\\\"complexity\\\":31.0,\\\"centrality\\\":388,\\\"blocking factor\\\":22,\\\"delay factor\\\":9.0},\\\"nameSub\\\":\\\"Calculus II\\\",\\\"id\\\":6,\\\"credits\\\":3,\\\"nameCanonical\\\":\\\"\\\"},{\\\"curriculum_requisites\\\":[{\\\"source_id\\\":2,\\\"target_id\\\":27,\\\"type\\\":\\\"CurriculumPrerequisite\\\"}],\\\"name\\\":\\\"MSE 331R\\\",\\\"metrics\\\":{\\\"complexity\\\":4.0,\\\"centrality\\\":3,\\\"blocking factor\\\":1,\\\"delay factor\\\":3.0},\\\"nameSub\\\":\\\"Fund. of Materials for Engineers\\\",\\\"id\\\":27,\\\"credits\\\":3,\\\"nameCanonical\\\":\\\"\\\"}],\\\"id\\\":3},{\\\"name\\\":\\\"Term 4\\\",\\\"curriculum_items\\\":[{\\\"curriculum_requisites\\\":[{\\\"source_id\\\":8,\\\"target_id\\\":14,\\\"type\\\":\\\"CurriculumPrerequisite\\\"},{\\\"source_id\\\":6,\\\"target_id\\\":14,\\\"type\\\":\\\"CurriculumPrerequisite\\\"}],\\\"name\\\":\\\"PHYS 241\\\",\\\"metrics\\\":{\\\"complexity\\\":3.0,\\\"centrality\\\":0,\\\"blocking factor\\\":0,\\\"delay factor\\\":3.0},\\\"nameSub\\\":\\\"Electricity & Magnetism\\\",\\\"id\\\":14,\\\"credits\\\":4,\\\"nameCanonical\\\":\\\"\\\"},{\\\"curriculum_requisites\\\":[{\\\"source_id\\\":8,\\\"target_id\\\":18,\\\"type\\\":\\\"CurriculumPrerequisite\\\"}],\\\"name\\\":\\\"AME 230\\\",\\\"metrics\\\":{\\\"complexity\\\":19.0,\\\"centrality\\\":86,\\\"blocking factor\\\":11,\\\"delay factor\\\":8.0},\\\"nameSub\\\":\\\"Thermodynamics\\\",\\\"id\\\":18,\\\"credits\\\":3,\\\"nameCanonical\\\":\\\"\\\"},{\\\"curriculum_requisites\\\":[],\\\"name\\\":\\\" \\\",\\\"metrics\\\":{\\\"complexity\\\":1.0,\\\"centrality\\\":0,\\\"blocking factor\\\":0,\\\"delay factor\\\":1.0},\\\"nameSub\\\":\\\"Tier II General Ed. 2\\\",\\\"id\\\":45,\\\"credits\\\":3,\\\"nameCanonical\\\":\\\"\\\"},{\\\"curriculum_requisites\\\":[{\\\"source_id\\\":6,\\\"target_id\\\":13,\\\"type\\\":\\\"CurriculumPrerequisite\\\"}],\\\"name\\\":\\\"MATH  223\\\",\\\"metrics\\\":{\\\"complexity\\\":26.0,\\\"centrality\\\":258,\\\"blocking factor\\\":17,\\\"delay factor\\\":9.0},\\\"nameSub\\\":\\\"Vector Calculus\\\",\\\"id\\\":13,\\\"credits\\\":4,\\\"nameCanonical\\\":\\\"\\\"},{\\\"curriculum_requisites\\\":[{\\\"source_id\\\":8,\\\"target_id\\\":12,\\\"type\\\":\\\"CurriculumPrerequisite\\\"},{\\\"source_id\\\":6,\\\"target_id\\\":12,\\\"type\\\":\\\"CurriculumPrerequisite\\\"}],\\\"name\\\":\\\"CE 214\\\",\\\"metrics\\\":{\\\"complexity\\\":23.0,\\\"centrality\\\":254,\\\"blocking factor\\\":14,\\\"delay factor\\\":9.0},\\\"nameSub\\\":\\\"Statics\\\",\\\"id\\\":12,\\\"credits\\\":3,\\\"nameCanonical\\\":\\\"\\\"}],\\\"id\\\":4},{\\\"name\\\":\\\"Term 5\\\",\\\"curriculum_items\\\":[{\\\"curriculum_requisites\\\":[{\\\"source_id\\\":13,\\\"target_id\\\":20,\\\"type\\\":\\\"CurriculumPrerequisite\\\"}],\\\"name\\\":\\\"MATH 254\\\",\\\"metrics\\\":{\\\"complexity\\\":25.0,\\\"centrality\\\":188,\\\"blocking factor\\\":16,\\\"delay factor\\\":9.0},\\\"nameSub\\\":\\\"Intro. to ODEs\\\",\\\"id\\\":20,\\\"credits\\\":3,\\\"nameCanonical\\\":\\\"\\\"},{\\\"curriculum_requisites\\\":[{\\\"source_id\\\":18,\\\"target_id\\\":26,\\\"type\\\":\\\"CurriculumCorequisite\\\"},{\\\"source_id\\\":24,\\\"target_id\\\":26,\\\"type\\\":\\\"CurriculumCorequisite\\\"}],\\\"name\\\":\\\"AME 300\\\",\\\"metrics\\\":{\\\"complexity\\\":19.0,\\\"centrality\\\":204,\\\"blocking factor\\\":10,\\\"delay factor\\\":9.0},\\\"nameSub\\\":\\\"Instrumentation Lab.\\\",\\\"id\\\":26,\\\"credits\\\":3,\\\"nameCanonical\\\":\\\"\\\"},{\\\"curriculum_requisites\\\":[{\\\"source_id\\\":13,\\\"target_id\\\":21,\\\"type\\\":\\\"CurriculumPrerequisite\\\"},{\\\"source_id\\\":8,\\\"target_id\\\":21,\\\"type\\\":\\\"CurriculumPrerequisite\\\"},{\\\"source_id\\\":20,\\\"target_id\\\":21,\\\"type\\\":\\\"CurriculumCorequisite\\\"}],\\\"name\\\":\\\"AME 220\\\",\\\"metrics\\\":{\\\"complexity\\\":17.0,\\\"centrality\\\":198,\\\"blocking factor\\\":8,\\\"delay factor\\\":9.0},\\\"nameSub\\\":\\\"Intro. to Aerospace Eng.\\\",\\\"id\\\":21,\\\"credits\\\":3,\\\"nameCanonical\\\":\\\"\\\"},{\\\"curriculum_requisites\\\":[{\\\"source_id\\\":12,\\\"target_id\\\":19,\\\"type\\\":\\\"CurriculumPrerequisite\\\"},{\\\"source_id\\\":20,\\\"target_id\\\":19,\\\"type\\\":\\\"CurriculumCorequisite\\\"}],\\\"name\\\":\\\"AME 250\\\",\\\"metrics\\\":{\\\"complexity\\\":19.0,\\\"centrality\\\":145,\\\"blocking factor\\\":10,\\\"delay factor\\\":9.0},\\\"nameSub\\\":\\\"Dynamics\\\",\\\"id\\\":19,\\\"credits\\\":3,\\\"nameCanonical\\\":\\\"\\\"},{\\\"curriculum_requisites\\\":[{\\\"source_id\\\":12,\\\"target_id\\\":24,\\\"type\\\":\\\"CurriculumPrerequisite\\\"}],\\\"name\\\":\\\"AME  324A\\\",\\\"metrics\\\":{\\\"complexity\\\":20.0,\\\"centrality\\\":162,\\\"blocking factor\\\":11,\\\"delay factor\\\":9.0},\\\"nameSub\\\":\\\"Mech. Behavior of Eng. Materials.\\\",\\\"id\\\":24,\\\"credits\\\":3,\\\"nameCanonical\\\":\\\"\\\"},{\\\"curriculum_requisites\\\":[{\\\"source_id\\\":7,\\\"target_id\\\":15,\\\"type\\\":\\\"CurriculumPrerequisite\\\"}],\\\"name\\\":\\\"AME  205\\\",\\\"metrics\\\":{\\\"complexity\\\":15.0,\\\"centrality\\\":28,\\\"blocking factor\\\":8,\\\"delay factor\\\":7.0},\\\"nameSub\\\":\\\"Intro. To MATLAB II\\\",\\\"id\\\":15,\\\"credits\\\":1,\\\"nameCanonical\\\":\\\"\\\"}],\\\"id\\\":5},{\\\"name\\\":\\\"Term 6\\\",\\\"curriculum_items\\\":[{\\\"curriculum_requisites\\\":[{\\\"source_id\\\":13,\\\"target_id\\\":39,\\\"type\\\":\\\"CurriculumPrerequisite\\\"},{\\\"source_id\\\":19,\\\"target_id\\\":39,\\\"type\\\":\\\"CurriculumPrerequisite\\\"}],\\\"name\\\":\\\"AME 457\\\",\\\"metrics\\\":{\\\"complexity\\\":6.0,\\\"centrality\\\":0,\\\"blocking factor\\\":0,\\\"delay factor\\\":6.0},\\\"nameSub\\\":\\\"Orbital Mechanicans and Space Flt.\\\",\\\"id\\\":39,\\\"credits\\\":3,\\\"nameCanonical\\\":\\\"\\\"},{\\\"curriculum_requisites\\\":[{\\\"source_id\\\":18,\\\"target_id\\\":31,\\\"type\\\":\\\"CurriculumPrerequisite\\\"},{\\\"source_id\\\":32,\\\"target_id\\\":31,\\\"type\\\":\\\"CurriculumCorequisite\\\"},{\\\"source_id\\\":21,\\\"target_id\\\":31,\\\"type\\\":\\\"CurriculumPrerequisite\\\"},{\\\"source_id\\\":20,\\\"target_id\\\":31,\\\"type\\\":\\\"CurriculumPrerequisite\\\"}],\\\"name\\\":\\\"AME 323\\\",\\\"metrics\\\":{\\\"complexity\\\":13.0,\\\"centrality\\\":274,\\\"blocking factor\\\":4,\\\"delay factor\\\":9.0},\\\"nameSub\\\":\\\"Gasdynamics\\\",\\\"id\\\":31,\\\"credits\\\":3,\\\"nameCanonical\\\":\\\"\\\"},{\\\"curriculum_requisites\\\":[],\\\"name\\\":\\\"AME 313\\\",\\\"metrics\\\":{\\\"complexity\\\":5.0,\\\"centrality\\\":0,\\\"blocking factor\\\":2,\\\"delay factor\\\":3.0},\\\"nameSub\\\":\\\"Aero./Mech. Eng. Lab\\\",\\\"id\\\":33,\\\"credits\\\":1,\\\"nameCanonical\\\":\\\"\\\"},{\\\"curriculum_requisites\\\":[{\\\"source_id\\\":23,\\\"target_id\\\":30,\\\"type\\\":\\\"CurriculumCorequisite\\\"},{\\\"source_id\\\":19,\\\"target_id\\\":30,\\\"type\\\":\\\"CurriculumPrerequisite\\\"},{\\\"source_id\\\":21,\\\"target_id\\\":30,\\\"type\\\":\\\"CurriculumPrerequisite\\\"}],\\\"name\\\":\\\"AME 321\\\",\\\"metrics\\\":{\\\"complexity\\\":12.0,\\\"centrality\\\":174,\\\"blocking factor\\\":3,\\\"delay factor\\\":9.0},\\\"nameSub\\\":\\\"Aircraft Performance\\\",\\\"id\\\":30,\\\"credits\\\":3,\\\"nameCanonical\\\":\\\"\\\"},{\\\"curriculum_requisites\\\":[{\\\"source_id\\\":26,\\\"target_id\\\":32,\\\"type\\\":\\\"CurriculumCorequisite\\\"},{\\\"source_id\\\":19,\\\"target_id\\\":32,\\\"type\\\":\\\"CurriculumPrerequisite\\\"},{\\\"source_id\\\":15,\\\"target_id\\\":32,\\\"type\\\":\\\"CurriculumPrerequisite\\\"},{\\\"source_id\\\":20,\\\"target_id\\\":32,\\\"type\\\":\\\"CurriculumPrerequisite\\\"}],\\\"name\\\":\\\"AME 302\\\",\\\"metrics\\\":{\\\"complexity\\\":15.0,\\\"centrality\\\":232,\\\"blocking factor\\\":6,\\\"delay factor\\\":9.0},\\\"nameSub\\\":\\\"Numerical Methods\\\",\\\"id\\\":32,\\\"credits\\\":3,\\\"nameCanonical\\\":\\\"\\\"},{\\\"curriculum_requisites\\\":[{\\\"source_id\\\":26,\\\"target_id\\\":23,\\\"type\\\":\\\"CurriculumCorequisite\\\"},{\\\"source_id\\\":21,\\\"target_id\\\":23,\\\"type\\\":\\\"CurriculumPrerequisite\\\"}],\\\"name\\\":\\\"AME 320\\\",\\\"metrics\\\":{\\\"complexity\\\":14.0,\\\"centrality\\\":214,\\\"blocking factor\\\":5,\\\"delay factor\\\":9.0},\\\"nameSub\\\":\\\"Aerodynamics\\\",\\\"id\\\":23,\\\"credits\\\":3,\\\"nameCanonical\\\":\\\"\\\"}],\\\"id\\\":6},{\\\"name\\\":\\\"Term 7\\\",\\\"curriculum_items\\\":[{\\\"curriculum_requisites\\\":[{\\\"source_id\\\":20,\\\"target_id\\\":25,\\\"type\\\":\\\"CurriculumPrerequisite\\\"}],\\\"name\\\":\\\"AME 301\\\",\\\"metrics\\\":{\\\"complexity\\\":8.0,\\\"centrality\\\":12,\\\"blocking factor\\\":2,\\\"delay factor\\\":6.0},\\\"nameSub\\\":\\\"Engineering Analysis\\\",\\\"id\\\":25,\\\"credits\\\":3,\\\"nameCanonical\\\":\\\"\\\"},{\\\"curriculum_requisites\\\":[{\\\"source_id\\\":23,\\\"target_id\\\":35,\\\"type\\\":\\\"CurriculumPrerequisite\\\"},{\\\"source_id\\\":31,\\\"target_id\\\":35,\\\"type\\\":\\\"CurriculumPrerequisite\\\"},{\\\"source_id\\\":27,\\\"target_id\\\":35,\\\"type\\\":\\\"CurriculumPrerequisite\\\"}],\\\"name\\\":\\\"AME 401\\\",\\\"metrics\\\":{\\\"complexity\\\":8.0,\\\"centrality\\\":0,\\\"blocking factor\\\":0,\\\"delay factor\\\":8.0},\\\"nameSub\\\":\\\"Senior Aerospace Lab.\\\",\\\"id\\\":35,\\\"credits\\\":3,\\\"nameCanonical\\\":\\\"\\\"},{\\\"curriculum_requisites\\\":[{\\\"source_id\\\":24,\\\"target_id\\\":37,\\\"type\\\":\\\"CurriculumPrerequisite\\\"},{\\\"source_id\\\":31,\\\"target_id\\\":37,\\\"type\\\":\\\"CurriculumPrerequisite\\\"},{\\\"source_id\\\":18,\\\"target_id\\\":37,\\\"type\\\":\\\"CurriculumPrerequisite\\\"}],\\\"name\\\":\\\"AME 425\\\",\\\"metrics\\\":{\\\"complexity\\\":8.0,\\\"centrality\\\":0,\\\"blocking factor\\\":0,\\\"delay factor\\\":8.0},\\\"nameSub\\\":\\\"Aerospace Propulsion\\\",\\\"id\\\":37,\\\"credits\\\":3,\\\"nameCanonical\\\":\\\"\\\"},{\\\"curriculum_requisites\\\":[],\\\"name\\\":\\\"AME 495S\\\",\\\"metrics\\\":{\\\"complexity\\\":1.0,\\\"centrality\\\":0,\\\"blocking factor\\\":0,\\\"delay factor\\\":1.0},\\\"nameSub\\\":\\\"Senior Colloquium\\\",\\\"id\\\":40,\\\"credits\\\":1,\\\"nameCanonical\\\":\\\"\\\"},{\\\"curriculum_requisites\\\":[{\\\"source_id\\\":23,\\\"target_id\\\":38,\\\"type\\\":\\\"CurriculumPrerequisite\\\"},{\\\"source_id\\\":15,\\\"target_id\\\":38,\\\"type\\\":\\\"CurriculumPrerequisite\\\"},{\\\"source_id\\\":30,\\\"target_id\\\":38,\\\"type\\\":\\\"CurriculumPrerequisite\\\"}],\\\"name\\\":\\\"AME 427\\\",\\\"metrics\\\":{\\\"complexity\\\":8.0,\\\"centrality\\\":0,\\\"blocking factor\\\":0,\\\"delay factor\\\":8.0},\\\"nameSub\\\":\\\"Stability and Control of Aero. Vehicles\\\",\\\"id\\\":38,\\\"credits\\\":3,\\\"nameCanonical\\\":\\\"\\\"},{\\\"curriculum_requisites\\\":[{\\\"source_id\\\":23,\\\"target_id\\\":36,\\\"type\\\":\\\"CurriculumPrerequisite\\\"},{\\\"source_id\\\":31,\\\"target_id\\\":36,\\\"type\\\":\\\"CurriculumPrerequisite\\\"},{\\\"source_id\\\":33,\\\"target_id\\\":36,\\\"type\\\":\\\"CurriculumPrerequisite\\\"},{\\\"source_id\\\":30,\\\"target_id\\\":36,\\\"type\\\":\\\"CurriculumPrerequisite\\\"}],\\\"name\\\":\\\"AME 420\\\",\\\"metrics\\\":{\\\"complexity\\\":10.0,\\\"centrality\\\":240,\\\"blocking factor\\\":1,\\\"delay factor\\\":9.0},\\\"nameSub\\\":\\\"Aerospace Conceptual Design\\\",\\\"id\\\":36,\\\"credits\\\":3,\\\"nameCanonical\\\":\\\"\\\"}],\\\"id\\\":7},{\\\"name\\\":\\\"Term 8\\\",\\\"curriculum_items\\\":[{\\\"curriculum_requisites\\\":[{\\\"source_id\\\":24,\\\"target_id\\\":42,\\\"type\\\":\\\"CurriculumPrerequisite\\\"},{\\\"source_id\\\":32,\\\"target_id\\\":42,\\\"type\\\":\\\"CurriculumPrerequisite\\\"},{\\\"source_id\\\":18,\\\"target_id\\\":42,\\\"type\\\":\\\"CurriculumPrerequisite\\\"}],\\\"name\\\":\\\"AME 431\\\",\\\"metrics\\\":{\\\"complexity\\\":7.0,\\\"centrality\\\":0,\\\"blocking factor\\\":0,\\\"delay factor\\\":7.0},\\\"nameSub\\\":\\\"Num. Meth. in Fluid Mech. & Heat Xfer\\\",\\\"id\\\":42,\\\"credits\\\":3,\\\"nameCanonical\\\":\\\"\\\"},{\\\"curriculum_requisites\\\":[{\\\"source_id\\\":25,\\\"target_id\\\":29,\\\"type\\\":\\\"CurriculumPrerequisite\\\"}],\\\"name\\\":\\\"AME 324B\\\",\\\"metrics\\\":{\\\"complexity\\\":6.0,\\\"centrality\\\":0,\\\"blocking factor\\\":0,\\\"delay factor\\\":6.0},\\\"nameSub\\\":\\\"Eng. Component Design\\\",\\\"id\\\":29,\\\"credits\\\":3,\\\"nameCanonical\\\":\\\"\\\"},{\\\"curriculum_requisites\\\":[],\\\"name\\\":\\\" \\\",\\\"metrics\\\":{\\\"complexity\\\":1.0,\\\"centrality\\\":0,\\\"blocking factor\\\":0,\\\"delay factor\\\":1.0},\\\"nameSub\\\":\\\"Tier II General Ed. 1\\\",\\\"id\\\":34,\\\"credits\\\":3,\\\"nameCanonical\\\":\\\"\\\"},{\\\"curriculum_requisites\\\":[],\\\"name\\\":\\\" \\\",\\\"metrics\\\":{\\\"complexity\\\":1.0,\\\"centrality\\\":0,\\\"blocking factor\\\":0,\\\"delay factor\\\":1.0},\\\"nameSub\\\":\\\"Tier I General Ed. 3\\\",\\\"id\\\":22,\\\"credits\\\":3,\\\"nameCanonical\\\":\\\"\\\"},{\\\"curriculum_requisites\\\":[{\\\"source_id\\\":25,\\\"target_id\\\":28,\\\"type\\\":\\\"CurriculumPrerequisite\\\"}],\\\"name\\\":\\\"AME 324L\\\",\\\"metrics\\\":{\\\"complexity\\\":6.0,\\\"centrality\\\":0,\\\"blocking factor\\\":0,\\\"delay factor\\\":6.0},\\\"nameSub\\\":\\\"Mech. of Materials Lab.\\\",\\\"id\\\":28,\\\"credits\\\":1,\\\"nameCanonical\\\":\\\"\\\"},{\\\"curriculum_requisites\\\":[{\\\"source_id\\\":36,\\\"target_id\\\":41,\\\"type\\\":\\\"CurriculumPrerequisite\\\"},{\\\"source_id\\\":33,\\\"target_id\\\":41,\\\"type\\\":\\\"CurriculumCorequisite\\\"}],\\\"name\\\":\\\"AME 422\\\",\\\"metrics\\\":{\\\"complexity\\\":9.0,\\\"centrality\\\":0,\\\"blocking factor\\\":0,\\\"delay factor\\\":9.0},\\\"nameSub\\\":\\\"Aerospace Eng.Design\\\",\\\"id\\\":41,\\\"credits\\\":3,\\\"nameCanonical\\\":\\\"\\\"}],\\\"id\\\":8}],\\\"institution\\\":\\\"University of Arizona\\\"}},\\\"*\\\"); window.removeEventListener(\\\"message\\\",window.messageReceived); window.messageReceived=(function (event){return (event.data.curriculum!==undefined) ? (WebIO.setval({\\\"name\\\":\\\"curriculum-data\\\",\\\"scope\\\":\\\"7865244369162570990\\\",\\\"id\\\":\\\"ob_07\\\",\\\"type\\\":\\\"observable\\\"},event.data.curriculum)) : undefined}); return window.addEventListener(\\\"message\\\",window.messageReceived)})\")),:style => Dict(:padding => \"0\",:height => \"100vh\",:margin => \"0\",:border => \"none\",:width => \"100%\"))), Dict{String,Tuple{Observables.AbstractObservable,Union{Nothing, Bool}}}(\"curriculum-data\" => (Observable{Dict{String,Any}} with 1 listeners. Value:\n",
       "Dict{String,Any}(\"options\" => Dict{String,Any}(\"hideTerms\" => false,\"edit\" => false),\"curriculum\" => Dict{String,Any}(\"name\" => \"Aerospace Engineering\",\"dp_name\" => \"\",\"curriculum_terms\" => Dict{String,Any}[Dict(\"name\" => \"Term 1\",\"curriculum_items\" => Dict{String,Any}[Dict(\"curriculum_requisites\" => Dict{String,Any}[],\"name\" => \"CHEM 151\",\"metrics\" => Dict{String,Any}(\"complexity\" => 5.0,\"centrality\" => 0,\"blocking factor\" => 2,\"delay factor\" => 3.0),\"nameSub\" => \"Gen Chemistry I\",\"id\" => 2,\"credits\" => 4,\"nameCanonical\" => \"\"), Dict(\"curriculum_requisites\" => Dict{String,Any}[Dict(\"source_id\" => 1,\"target_id\" => 4,\"type\" => \"CurriculumCorequisite\")],\"name\" => \"ENGR 102\",\"metrics\" => Dict{String,Any}(\"complexity\" => 2.0,\"centrality\" => 0,\"blocking factor\" => 0,\"delay factor\" => 2.0),\"nameSub\" => \"Intro to Engineering\",\"id\" => 4,\"credits\" => 3,\"nameCanonical\" => \"\"), Dict(\"curriculum_requisites\" => Dict{String,Any}[],\"name\" => \"MATH 125\",\"metrics\" => Dict{String,Any}(\"complexity\" => 38.0,\"centrality\" => 0,\"blocking factor\" => 29,\"delay factor\" => 9.0),\"nameSub\" => \"Calculus I w/ Applications\",\"id\" => 1,\"credits\" => 3,\"nameCanonical\" => \"\"), Dict(\"curriculum_requisites\" => Dict{String,Any}[],\"name\" => \"ENGL 101\",\"metrics\" => Dict{String,Any}(\"complexity\" => 3.0,\"centrality\" => 0,\"blocking factor\" => 1,\"delay factor\" => 2.0),\"nameSub\" => \"First-year Comp.\",\"id\" => 3,\"credits\" => 3,\"nameCanonical\" => \"\"), Dict(\"curriculum_requisites\" => Dict{String,Any}[Dict(\"source_id\" => 1,\"target_id\" => 10,\"type\" => \"CurriculumCorequisite\")],\"name\" => \"ECE 175\",\"metrics\" => Dict{String,Any}(\"complexity\" => 2.0,\"centrality\" => 0,\"blocking factor\" => 0,\"delay factor\" => 2.0),\"nameSub\" => \"Programming for Eng. Apps.\",\"id\" => 10,\"credits\" => 3,\"nameCanonical\" => \"\")],\"id\" => 1), Dict(\"name\" => \"Term 2\",\"curriculum_items\" => Dict{String,Any}[Dict(\"curriculum_requisites\" => Dict{String,Any}[],\"name\" => \" \",\"metrics\" => Dict{String,Any}(\"complexity\" => 1.0,\"centrality\" => 0,\"blocking factor\" => 0,\"delay factor\" => 1.0),\"nameSub\" => \"Tier I General Ed. 2\",\"id\" => 17,\"credits\" => 3,\"nameCanonical\" => \"\"), Dict(\"curriculum_requisites\" => Dict{String,Any}[],\"name\" => \" \",\"metrics\" => Dict{String,Any}(\"complexity\" => 1.0,\"centrality\" => 0,\"blocking factor\" => 0,\"delay factor\" => 1.0),\"nameSub\" => \"Technical Elective 2\",\"id\" => 44,\"credits\" => 3,\"nameCanonical\" => \"\"), Dict(\"curriculum_requisites\" => Dict{String,Any}[Dict(\"source_id\" => 1,\"target_id\" => 7,\"type\" => \"CurriculumPrerequisite\")],\"name\" => \"AME 105\",\"metrics\" => Dict{String,Any}(\"complexity\" => 16.0,\"centrality\" => 28,\"blocking factor\" => 9,\"delay factor\" => 7.0),\"nameSub\" => \"Intro. to MATLAB I\",\"id\" => 7,\"credits\" => 1,\"nameCanonical\" => \"\"), Dict(\"curriculum_requisites\" => Dict{String,Any}[Dict(\"source_id\" => 3,\"target_id\" => 9,\"type\" => \"CurriculumPrerequisite\")],\"name\" => \"ENGL 102\",\"metrics\" => Dict{String,Any}(\"complexity\" => 2.0,\"centrality\" => 0,\"blocking factor\" => 0,\"delay factor\" => 2.0),\"nameSub\" => \"First-year Comp.\",\"id\" => 9,\"credits\" => 3,\"nameCanonical\" => \"\"), Dict(\"curriculum_requisites\" => Dict{String,Any}[],\"name\" => \" \",\"metrics\" => Dict{String,Any}(\"complexity\" => 1.0,\"centrality\" => 0,\"blocking factor\" => 0,\"delay factor\" => 1.0),\"nameSub\" => \"Technical Elective 1\",\"id\" => 43,\"credits\" => 3,\"nameCanonical\" => \"\"), Dict(\"curriculum_requisites\" => Dict{String,Any}[],\"name\" => \" \",\"metrics\" => Dict{String,Any}(\"complexity\" => 1.0,\"centrality\" => 0,\"blocking factor\" => 0,\"delay factor\" => 1.0),\"nameSub\" => \"Tier I General Ed.\",\"id\" => 5,\"credits\" => 3,\"nameCanonical\" => \"\")],\"id\" => 2), Dict(\"name\" => \"Term 3\",\"curriculum_items\" => Dict{String,Any}[Dict(\"curriculum_requisites\" => Dict{String,Any}[],\"name\" => \" \",\"metrics\" => Dict{String,Any}(\"complexity\" => 1.0,\"centrality\" => 0,\"blocking factor\" => 0,\"delay factor\" => 1.0),\"nameSub\" => \"Tier I General Ed. 1\",\"id\" => 11,\"credits\" => 3,\"nameCanonical\" => \"\"), Dict(\"curriculum_requisites\" => Dict{String,Any}[Dict(\"source_id\" => 1,\"target_id\" => 8,\"type\" => \"CurriculumPrerequisite\")],\"name\" => \"PHYS 141\",\"metrics\" => Dict{String,Any}(\"complexity\" => 27.0,\"centrality\" => 272,\"blocking factor\" => 18,\"delay factor\" => 9.0),\"nameSub\" => \"Intro Mechanics\",\"id\" => 8,\"credits\" => 4,\"nameCanonical\" => \"\"), Dict(\"curriculum_requisites\" => Dict{String,Any}[],\"name\" => \"AME 211\",\"metrics\" => Dict{String,Any}(\"complexity\" => 1.0,\"centrality\" => 0,\"blocking factor\" => 0,\"delay factor\" => 1.0),\"nameSub\" => \"Comp. Aided Drafting & Manufacturing\",\"id\" => 16,\"credits\" => 3,\"nameCanonical\" => \"\"), Dict(\"curriculum_requisites\" => Dict{String,Any}[Dict(\"source_id\" => 1,\"target_id\" => 6,\"type\" => \"CurriculumPrerequisite\")],\"name\" => \"MATH 129\",\"metrics\" => Dict{String,Any}(\"complexity\" => 31.0,\"centrality\" => 388,\"blocking factor\" => 22,\"delay factor\" => 9.0),\"nameSub\" => \"Calculus II\",\"id\" => 6,\"credits\" => 3,\"nameCanonical\" => \"\"), Dict(\"curriculum_requisites\" => Dict{String,Any}[Dict(\"source_id\" => 2,\"target_id\" => 27,\"type\" => \"CurriculumPrerequisite\")],\"name\" => \"MSE 331R\",\"metrics\" => Dict{String,Any}(\"complexity\" => 4.0,\"centrality\" => 3,\"blocking factor\" => 1,\"delay factor\" => 3.0),\"nameSub\" => \"Fund. of Materials for Engineers\",\"id\" => 27,\"credits\" => 3,\"nameCanonical\" => \"\")],\"id\" => 3), Dict(\"name\" => \"Term 4\",\"curriculum_items\" => Dict{String,Any}[Dict(\"curriculum_requisites\" => Dict{String,Any}[Dict(\"source_id\" => 8,\"target_id\" => 14,\"type\" => \"CurriculumPrerequisite\"), Dict(\"source_id\" => 6,\"target_id\" => 14,\"type\" => \"CurriculumPrerequisite\")],\"name\" => \"PHYS 241\",\"metrics\" => Dict{String,Any}(\"complexity\" => 3.0,\"centrality\" => 0,\"blocking factor\" => 0,\"delay factor\" => 3.0),\"nameSub\" => \"Electricity & Magnetism\",\"id\" => 14,\"credits\" => 4,\"nameCanonical\" => \"\"), Dict(\"curriculum_requisites\" => Dict{String,Any}[Dict(\"source_id\" => 8,\"target_id\" => 18,\"type\" => \"CurriculumPrerequisite\")],\"name\" => \"AME 230\",\"metrics\" => Dict{String,Any}(\"complexity\" => 19.0,\"centrality\" => 86,\"blocking factor\" => 11,\"delay factor\" => 8.0),\"nameSub\" => \"Thermodynamics\",\"id\" => 18,\"credits\" => 3,\"nameCanonical\" => \"\"), Dict(\"curriculum_requisites\" => Dict{String,Any}[],\"name\" => \" \",\"metrics\" => Dict{String,Any}(\"complexity\" => 1.0,\"centrality\" => 0,\"blocking factor\" => 0,\"delay factor\" => 1.0),\"nameSub\" => \"Tier II General Ed. 2\",\"id\" => 45,\"credits\" => 3,\"nameCanonical\" => \"\"), Dict(\"curriculum_requisites\" => Dict{String,Any}[Dict(\"source_id\" => 6,\"target_id\" => 13,\"type\" => \"CurriculumPrerequisite\")],\"name\" => \"MATH  223\",\"metrics\" => Dict{String,Any}(\"complexity\" => 26.0,\"centrality\" => 258,\"blocking factor\" => 17,\"delay factor\" => 9.0),\"nameSub\" => \"Vector Calculus\",\"id\" => 13,\"credits\" => 4,\"nameCanonical\" => \"\"), Dict(\"curriculum_requisites\" => Dict{String,Any}[Dict(\"source_id\" => 8,\"target_id\" => 12,\"type\" => \"CurriculumPrerequisite\"), Dict(\"source_id\" => 6,\"target_id\" => 12,\"type\" => \"CurriculumPrerequisite\")],\"name\" => \"CE 214\",\"metrics\" => Dict{String,Any}(\"complexity\" => 23.0,\"centrality\" => 254,\"blocking factor\" => 14,\"delay factor\" => 9.0),\"nameSub\" => \"Statics\",\"id\" => 12,\"credits\" => 3,\"nameCanonical\" => \"\")],\"id\" => 4), Dict(\"name\" => \"Term 5\",\"curriculum_items\" => Dict{String,Any}[Dict(\"curriculum_requisites\" => Dict{String,Any}[Dict(\"source_id\" => 13,\"target_id\" => 20,\"type\" => \"CurriculumPrerequisite\")],\"name\" => \"MATH 254\",\"metrics\" => Dict{String,Any}(\"complexity\" => 25.0,\"centrality\" => 188,\"blocking factor\" => 16,\"delay factor\" => 9.0),\"nameSub\" => \"Intro. to ODEs\",\"id\" => 20,\"credits\" => 3,\"nameCanonical\" => \"\"), Dict(\"curriculum_requisites\" => Dict{String,Any}[Dict(\"source_id\" => 18,\"target_id\" => 26,\"type\" => \"CurriculumCorequisite\"), Dict(\"source_id\" => 24,\"target_id\" => 26,\"type\" => \"CurriculumCorequisite\")],\"name\" => \"AME 300\",\"metrics\" => Dict{String,Any}(\"complexity\" => 19.0,\"centrality\" => 204,\"blocking factor\" => 10,\"delay factor\" => 9.0),\"nameSub\" => \"Instrumentation Lab.\",\"id\" => 26,\"credits\" => 3,\"nameCanonical\" => \"\"), Dict(\"curriculum_requisites\" => Dict{String,Any}[Dict(\"source_id\" => 13,\"target_id\" => 21,\"type\" => \"CurriculumPrerequisite\"), Dict(\"source_id\" => 8,\"target_id\" => 21,\"type\" => \"CurriculumPrerequisite\"), Dict(\"source_id\" => 20,\"target_id\" => 21,\"type\" => \"CurriculumCorequisite\")],\"name\" => \"AME 220\",\"metrics\" => Dict{String,Any}(\"complexity\" => 17.0,\"centrality\" => 198,\"blocking factor\" => 8,\"delay factor\" => 9.0),\"nameSub\" => \"Intro. to Aerospace Eng.\",\"id\" => 21,\"credits\" => 3,\"nameCanonical\" => \"\"), Dict(\"curriculum_requisites\" => Dict{String,Any}[Dict(\"source_id\" => 12,\"target_id\" => 19,\"type\" => \"CurriculumPrerequisite\"), Dict(\"source_id\" => 20,\"target_id\" => 19,\"type\" => \"CurriculumCorequisite\")],\"name\" => \"AME 250\",\"metrics\" => Dict{String,Any}(\"complexity\" => 19.0,\"centrality\" => 145,\"blocking factor\" => 10,\"delay factor\" => 9.0),\"nameSub\" => \"Dynamics\",\"id\" => 19,\"credits\" => 3,\"nameCanonical\" => \"\"), Dict(\"curriculum_requisites\" => Dict{String,Any}[Dict(\"source_id\" => 12,\"target_id\" => 24,\"type\" => \"CurriculumPrerequisite\")],\"name\" => \"AME  324A\",\"metrics\" => Dict{String,Any}(\"complexity\" => 20.0,\"centrality\" => 162,\"blocking factor\" => 11,\"delay factor\" => 9.0),\"nameSub\" => \"Mech. Behavior of Eng. Materials.\",\"id\" => 24,\"credits\" => 3,\"nameCanonical\" => \"\"), Dict(\"curriculum_requisites\" => Dict{String,Any}[Dict(\"source_id\" => 7,\"target_id\" => 15,\"type\" => \"CurriculumPrerequisite\")],\"name\" => \"AME  205\",\"metrics\" => Dict{String,Any}(\"complexity\" => 15.0,\"centrality\" => 28,\"blocking factor\" => 8,\"delay factor\" => 7.0),\"nameSub\" => \"Intro. To MATLAB II\",\"id\" => 15,\"credits\" => 1,\"nameCanonical\" => \"\")],\"id\" => 5), Dict(\"name\" => \"Term 6\",\"curriculum_items\" => Dict{String,Any}[Dict(\"curriculum_requisites\" => Dict{String,Any}[Dict(\"source_id\" => 13,\"target_id\" => 39,\"type\" => \"CurriculumPrerequisite\"), Dict(\"source_id\" => 19,\"target_id\" => 39,\"type\" => \"CurriculumPrerequisite\")],\"name\" => \"AME 457\",\"metrics\" => Dict{String,Any}(\"complexity\" => 6.0,\"centrality\" => 0,\"blocking factor\" => 0,\"delay factor\" => 6.0),\"nameSub\" => \"Orbital Mechanicans and Space Flt.\",\"id\" => 39,\"credits\" => 3,\"nameCanonical\" => \"\"), Dict(\"curriculum_requisites\" => Dict{String,Any}[Dict(\"source_id\" => 18,\"target_id\" => 31,\"type\" => \"CurriculumPrerequisite\"), Dict(\"source_id\" => 32,\"target_id\" => 31,\"type\" => \"CurriculumCorequisite\"), Dict(\"source_id\" => 21,\"target_id\" => 31,\"type\" => \"CurriculumPrerequisite\"), Dict(\"source_id\" => 20,\"target_id\" => 31,\"type\" => \"CurriculumPrerequisite\")],\"name\" => \"AME 323\",\"metrics\" => Dict{String,Any}(\"complexity\" => 13.0,\"centrality\" => 274,\"blocking factor\" => 4,\"delay factor\" => 9.0),\"nameSub\" => \"Gasdynamics\",\"id\" => 31,\"credits\" => 3,\"nameCanonical\" => \"\"), Dict(\"curriculum_requisites\" => Dict{String,Any}[],\"name\" => \"AME 313\",\"metrics\" => Dict{String,Any}(\"complexity\" => 5.0,\"centrality\" => 0,\"blocking factor\" => 2,\"delay factor\" => 3.0),\"nameSub\" => \"Aero./Mech. Eng. Lab\",\"id\" => 33,\"credits\" => 1,\"nameCanonical\" => \"\"), Dict(\"curriculum_requisites\" => Dict{String,Any}[Dict(\"source_id\" => 23,\"target_id\" => 30,\"type\" => \"CurriculumCorequisite\"), Dict(\"source_id\" => 19,\"target_id\" => 30,\"type\" => \"CurriculumPrerequisite\"), Dict(\"source_id\" => 21,\"target_id\" => 30,\"type\" => \"CurriculumPrerequisite\")],\"name\" => \"AME 321\",\"metrics\" => Dict{String,Any}(\"complexity\" => 12.0,\"centrality\" => 174,\"blocking factor\" => 3,\"delay factor\" => 9.0),\"nameSub\" => \"Aircraft Performance\",\"id\" => 30,\"credits\" => 3,\"nameCanonical\" => \"\"), Dict(\"curriculum_requisites\" => Dict{String,Any}[Dict(\"source_id\" => 26,\"target_id\" => 32,\"type\" => \"CurriculumCorequisite\"), Dict(\"source_id\" => 19,\"target_id\" => 32,\"type\" => \"CurriculumPrerequisite\"), Dict(\"source_id\" => 15,\"target_id\" => 32,\"type\" => \"CurriculumPrerequisite\"), Dict(\"source_id\" => 20,\"target_id\" => 32,\"type\" => \"CurriculumPrerequisite\")],\"name\" => \"AME 302\",\"metrics\" => Dict{String,Any}(\"complexity\" => 15.0,\"centrality\" => 232,\"blocking factor\" => 6,\"delay factor\" => 9.0),\"nameSub\" => \"Numerical Methods\",\"id\" => 32,\"credits\" => 3,\"nameCanonical\" => \"\"), Dict(\"curriculum_requisites\" => Dict{String,Any}[Dict(\"source_id\" => 26,\"target_id\" => 23,\"type\" => \"CurriculumCorequisite\"), Dict(\"source_id\" => 21,\"target_id\" => 23,\"type\" => \"CurriculumPrerequisite\")],\"name\" => \"AME 320\",\"metrics\" => Dict{String,Any}(\"complexity\" => 14.0,\"centrality\" => 214,\"blocking factor\" => 5,\"delay factor\" => 9.0),\"nameSub\" => \"Aerodynamics\",\"id\" => 23,\"credits\" => 3,\"nameCanonical\" => \"\")],\"id\" => 6), Dict(\"name\" => \"Term 7\",\"curriculum_items\" => Dict{String,Any}[Dict(\"curriculum_requisites\" => Dict{String,Any}[Dict(\"source_id\" => 20,\"target_id\" => 25,\"type\" => \"CurriculumPrerequisite\")],\"name\" => \"AME 301\",\"metrics\" => Dict{String,Any}(\"complexity\" => 8.0,\"centrality\" => 12,\"blocking factor\" => 2,\"delay factor\" => 6.0),\"nameSub\" => \"Engineering Analysis\",\"id\" => 25,\"credits\" => 3,\"nameCanonical\" => \"\"), Dict(\"curriculum_requisites\" => Dict{String,Any}[Dict(\"source_id\" => 23,\"target_id\" => 35,\"type\" => \"CurriculumPrerequisite\"), Dict(\"source_id\" => 31,\"target_id\" => 35,\"type\" => \"CurriculumPrerequisite\"), Dict(\"source_id\" => 27,\"target_id\" => 35,\"type\" => \"CurriculumPrerequisite\")],\"name\" => \"AME 401\",\"metrics\" => Dict{String,Any}(\"complexity\" => 8.0,\"centrality\" => 0,\"blocking factor\" => 0,\"delay factor\" => 8.0),\"nameSub\" => \"Senior Aerospace Lab.\",\"id\" => 35,\"credits\" => 3,\"nameCanonical\" => \"\"), Dict(\"curriculum_requisites\" => Dict{String,Any}[Dict(\"source_id\" => 24,\"target_id\" => 37,\"type\" => \"CurriculumPrerequisite\"), Dict(\"source_id\" => 31,\"target_id\" => 37,\"type\" => \"CurriculumPrerequisite\"), Dict(\"source_id\" => 18,\"target_id\" => 37,\"type\" => \"CurriculumPrerequisite\")],\"name\" => \"AME 425\",\"metrics\" => Dict{String,Any}(\"complexity\" => 8.0,\"centrality\" => 0,\"blocking factor\" => 0,\"delay factor\" => 8.0),\"nameSub\" => \"Aerospace Propulsion\",\"id\" => 37,\"credits\" => 3,\"nameCanonical\" => \"\"), Dict(\"curriculum_requisites\" => Dict{String,Any}[],\"name\" => \"AME 495S\",\"metrics\" => Dict{String,Any}(\"complexity\" => 1.0,\"centrality\" => 0,\"blocking factor\" => 0,\"delay factor\" => 1.0),\"nameSub\" => \"Senior Colloquium\",\"id\" => 40,\"credits\" => 1,\"nameCanonical\" => \"\"), Dict(\"curriculum_requisites\" => Dict{String,Any}[Dict(\"source_id\" => 23,\"target_id\" => 38,\"type\" => \"CurriculumPrerequisite\"), Dict(\"source_id\" => 15,\"target_id\" => 38,\"type\" => \"CurriculumPrerequisite\"), Dict(\"source_id\" => 30,\"target_id\" => 38,\"type\" => \"CurriculumPrerequisite\")],\"name\" => \"AME 427\",\"metrics\" => Dict{String,Any}(\"complexity\" => 8.0,\"centrality\" => 0,\"blocking factor\" => 0,\"delay factor\" => 8.0),\"nameSub\" => \"Stability and Control of Aero. Vehicles\",\"id\" => 38,\"credits\" => 3,\"nameCanonical\" => \"\"), Dict(\"curriculum_requisites\" => Dict{String,Any}[Dict(\"source_id\" => 23,\"target_id\" => 36,\"type\" => \"CurriculumPrerequisite\"), Dict(\"source_id\" => 31,\"target_id\" => 36,\"type\" => \"CurriculumPrerequisite\"), Dict(\"source_id\" => 33,\"target_id\" => 36,\"type\" => \"CurriculumPrerequisite\"), Dict(\"source_id\" => 30,\"target_id\" => 36,\"type\" => \"CurriculumPrerequisite\")],\"name\" => \"AME 420\",\"metrics\" => Dict{String,Any}(\"complexity\" => 10.0,\"centrality\" => 240,\"blocking factor\" => 1,\"delay factor\" => 9.0),\"nameSub\" => \"Aerospace Conceptual Design\",\"id\" => 36,\"credits\" => 3,\"nameCanonical\" => \"\")],\"id\" => 7), Dict(\"name\" => \"Term 8\",\"curriculum_items\" => Dict{String,Any}[Dict(\"curriculum_requisites\" => Dict{String,Any}[Dict(\"source_id\" => 24,\"target_id\" => 42,\"type\" => \"CurriculumPrerequisite\"), Dict(\"source_id\" => 32,\"target_id\" => 42,\"type\" => \"CurriculumPrerequisite\"), Dict(\"source_id\" => 18,\"target_id\" => 42,\"type\" => \"CurriculumPrerequisite\")],\"name\" => \"AME 431\",\"metrics\" => Dict{String,Any}(\"complexity\" => 7.0,\"centrality\" => 0,\"blocking factor\" => 0,\"delay factor\" => 7.0),\"nameSub\" => \"Num. Meth. in Fluid Mech. & Heat Xfer\",\"id\" => 42,\"credits\" => 3,\"nameCanonical\" => \"\"), Dict(\"curriculum_requisites\" => Dict{String,Any}[Dict(\"source_id\" => 25,\"target_id\" => 29,\"type\" => \"CurriculumPrerequisite\")],\"name\" => \"AME 324B\",\"metrics\" => Dict{String,Any}(\"complexity\" => 6.0,\"centrality\" => 0,\"blocking factor\" => 0,\"delay factor\" => 6.0),\"nameSub\" => \"Eng. Component Design\",\"id\" => 29,\"credits\" => 3,\"nameCanonical\" => \"\"), Dict(\"curriculum_requisites\" => Dict{String,Any}[],\"name\" => \" \",\"metrics\" => Dict{String,Any}(\"complexity\" => 1.0,\"centrality\" => 0,\"blocking factor\" => 0,\"delay factor\" => 1.0),\"nameSub\" => \"Tier II General Ed. 1\",\"id\" => 34,\"credits\" => 3,\"nameCanonical\" => \"\"), Dict(\"curriculum_requisites\" => Dict{String,Any}[],\"name\" => \" \",\"metrics\" => Dict{String,Any}(\"complexity\" => 1.0,\"centrality\" => 0,\"blocking factor\" => 0,\"delay factor\" => 1.0),\"nameSub\" => \"Tier I General Ed. 3\",\"id\" => 22,\"credits\" => 3,\"nameCanonical\" => \"\"), Dict(\"curriculum_requisites\" => Dict{String,Any}[Dict(\"source_id\" => 25,\"target_id\" => 28,\"type\" => \"CurriculumPrerequisite\")],\"name\" => \"AME 324L\",\"metrics\" => Dict{String,Any}(\"complexity\" => 6.0,\"centrality\" => 0,\"blocking factor\" => 0,\"delay factor\" => 6.0),\"nameSub\" => \"Mech. of Materials Lab.\",\"id\" => 28,\"credits\" => 1,\"nameCanonical\" => \"\"), Dict(\"curriculum_requisites\" => Dict{String,Any}[Dict(\"source_id\" => 36,\"target_id\" => 41,\"type\" => \"CurriculumPrerequisite\"), Dict(\"source_id\" => 33,\"target_id\" => 41,\"type\" => \"CurriculumCorequisite\")],\"name\" => \"AME 422\",\"metrics\" => Dict{String,Any}(\"complexity\" => 9.0,\"centrality\" => 0,\"blocking factor\" => 0,\"delay factor\" => 9.0),\"nameSub\" => \"Aerospace Eng.Design\",\"id\" => 41,\"credits\" => 3,\"nameCanonical\" => \"\")],\"id\" => 8)],\"institution\" => \"University of Arizona\")), nothing)), Set(String[]), nothing, WebIO.Asset[], Dict{Any,Any}(), WebIO.ConnectionPool(Channel{Any}(sz_max:32,sz_curr:0), Set(WebIO.AbstractConnection[]), Base.GenericCondition{Base.AlwaysLockedST}(Base.InvasiveLinkedList{Task}(Task (runnable) @0x0000000112111b10, Task (runnable) @0x0000000112111b10), Base.AlwaysLockedST(1))), WebIO.JSString[])"
      ]
     },
     "execution_count": 18,
     "metadata": {
      "application/vnd.webio.node+json": {
       "kernelId": null
      }
     },
     "output_type": "execute_result"
    }
   ],
   "source": [
    "plan_new = optimize_plan(AE_plan.curriculum, 8, 12, 18, [balance_obj, req_distance_obj]);\n",
    "visualize(plan_new, notebook=true)"
   ]
  },
  {
   "cell_type": "code",
   "execution_count": 19,
   "metadata": {},
   "outputs": [
    {
     "name": "stdout",
     "output_type": "stream",
     "text": [
      "\n",
      "Curriculum: Aerospace Engineering\n",
      "Degree Plan: \n",
      "  total credit hours = 129\n",
      "  number of terms = 8\n",
      "  max. credits in a term = 17, in term 4\n",
      "  min. credits in a term = 16, in term 1\n",
      "  avg. credits per term = 16.125, with std. dev. = 0.33071891388307384\n",
      "  total distance between all requisites = 75\n",
      "\n"
     ]
    }
   ],
   "source": [
    "metrics = basic_metrics(plan_new)\n",
    "println(String(take!(metrics)))"
   ]
  },
  {
   "cell_type": "markdown",
   "metadata": {},
   "source": [
    "## References\n",
    "<a id='References'></a>\n",
    "\n",
    "[1] Heileman, G. L., Abdallah, C.T., Slim, A., and Hickman, M. (2018). Curricular analytics: A framework for quantifying the impact of curricular reforms and pedagogical innovations. www.arXiv.org, arXiv:1811.09676 [cs.CY].\n",
    "\n",
    "[2] Heileman, G. L., Free, H. W., Abar, O. and Thompson-Arjona, W. G, (2019). CurricularAnalytics.jl Toolbox. https://github.com/heileman/CurricularAnalytics.jl."
   ]
  }
 ],
 "metadata": {
  "@webio": {
   "lastCommId": "1c1c1142b940475f874f0bfaef1177e4",
   "lastKernelId": "cb1d93c4-93e7-42e6-bb7b-5ba5ac413b8d"
  },
  "kernelspec": {
   "display_name": "Julia 1.4.2",
   "language": "julia",
   "name": "julia-1.4"
  },
  "language_info": {
   "file_extension": ".jl",
   "mimetype": "application/julia",
   "name": "julia",
   "version": "1.4.2"
  }
 },
 "nbformat": 4,
 "nbformat_minor": 2
}
