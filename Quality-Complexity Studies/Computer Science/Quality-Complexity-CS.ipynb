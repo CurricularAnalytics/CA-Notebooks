{
 "cells": [
  {
   "cell_type": "markdown",
   "metadata": {},
   "source": [
    "# <center>Quality/Complexity of Computer Science Programs</center>\n",
    "\n",
    "<center>\n",
    "    <b>Hayden W. Free,$^\\dagger$ Johnny Flynn,$^\\dagger$ Camden Mackowiak,$^\\dagger$ Gregory L. Heileman$^\\ddagger$, Jerzy Jaromczyk$^\\dagger$ and Chaouki T. Abdallah$^\\star$</b> <br>\n",
    "    $^\\dagger$Department of Computer Science <br>\n",
    "    University of Kentucky <br>\n",
    "    {hayden.free, john.flynn, camden.mackowiak,jurek}@uky.edu <br>\n",
    "    $^\\ddagger$Department of Electrical & Computer Engineering <br>\n",
    "    Univeristy of Arizona <br>\n",
    "    heileman@arizona.edu <br>\n",
    "    $^\\star$Department of Electrical & Computer Engineering <br>\n",
    "    Georgia Institute of Technology <br>\n",
    "    ctabdallah@gatech.edu  <br>\n",
    "</center>\n",
    "\n",
    "## Introduction\n",
    "In this notebook we compare the complexity of computer science undergraduate programs across the ranking provided by the CSRankings.org <cite data-cite=\"be:19\">Berger (2019)</cite> \n",
    "\n",
    "This analysis is based upon recently developed curricular complexity metrics (see <cite data-cite=\"he:18\">Heileman, et. al, (2018)</cite>).  Research in this area demonstrates that according to these complexity metrics, STEM programs tend to be among the most complex univeristy curricula. This is attributed to the large number of prerequisites that accompany many of the courses in STEM programs, as well as the long prerequisite chains that tend to exist in these curricula. This notebook makes use use of a Curricular Analytics toolbox that was built to compute these curricular complexity metrics <cite data-cite=\"he:18\">Heileman, et. al. (2019)</cite>).    \n",
    "\n",
    "The following Julia packages are needed for this analyisis:"
   ]
  },
  {
   "cell_type": "code",
   "execution_count": 37,
   "metadata": {},
   "outputs": [],
   "source": [
    "using CurricularAnalytics, CurricularVisualization\n",
    "using Glob\n",
    "using StatsPlots"
   ]
  },
  {
   "cell_type": "markdown",
   "metadata": {},
   "source": [
    "## Complexity of Computer Science Curricula\n",
    "To get a sense of the diversity in the complexities of undergraduate computer science program curricula, below we provide  visulizations of a few computer science programs."
   ]
  },
  {
   "cell_type": "code",
   "execution_count": 20,
   "metadata": {
    "scrolled": false
   },
   "outputs": [
    {
     "data": {
      "application/vnd.webio.node+json": {
       "children": [
        {
         "children": [
          ""
         ],
         "instanceArgs": {
          "namespace": "html",
          "tag": "iframe"
         },
         "nodeType": "DOM",
         "props": {
          "events": {
           "load": "(function (){this.contentWindow.postMessage({\"options\":{\"hideTerms\":false,\"edit\":false},\"curriculum\":{\"name\":\"Computer Science\",\"dp_name\":\"Computer Science\",\"curriculum_terms\":[{\"name\":\"Term 1\",\"curriculum_items\":[{\"curriculum_requisites\":[{\"source_id\":2,\"target_id\":1,\"type\":\"CurriculumCorequisite\"}],\"name\":\"CS 1411\",\"metrics\":{\"centrality\":45,\"complexity\":22.0,\"blocking factor\":14,\"delay factor\":8.0},\"nameSub\":\"Programming Principles I \",\"id\":1,\"credits\":4,\"nameCanonical\":\"\"},{\"curriculum_requisites\":[],\"name\":\"MATH 1451\",\"metrics\":{\"centrality\":0,\"complexity\":30.0,\"blocking factor\":22,\"delay factor\":8.0},\"nameSub\":\"Calculus I with Applications\",\"id\":2,\"credits\":4,\"nameCanonical\":\"\"},{\"curriculum_requisites\":[],\"name\":\"ENGL 1301\",\"metrics\":{\"centrality\":0,\"complexity\":5.0,\"blocking factor\":2,\"delay factor\":3.0},\"nameSub\":\"Essentials of College Rhetoric\",\"id\":3,\"credits\":3,\"nameCanonical\":\"\"},{\"curriculum_requisites\":[],\"name\":\" \",\"metrics\":{\"centrality\":0,\"complexity\":1.0,\"blocking factor\":0,\"delay factor\":1.0},\"nameSub\":\"Life and Physical Sciences\",\"id\":4,\"credits\":4,\"nameCanonical\":\"\"}],\"id\":1},{\"name\":\"Term 2\",\"curriculum_items\":[{\"curriculum_requisites\":[{\"source_id\":1,\"target_id\":5,\"type\":\"CurriculumPrerequisite\"}],\"name\":\"CS 1412\",\"metrics\":{\"centrality\":31,\"complexity\":19.0,\"blocking factor\":11,\"delay factor\":8.0},\"nameSub\":\"Programming Principles II \",\"id\":5,\"credits\":4,\"nameCanonical\":\"\"},{\"curriculum_requisites\":[{\"source_id\":2,\"target_id\":6,\"type\":\"CurriculumPrerequisite\"}],\"name\":\"MATH 1452\",\"metrics\":{\"centrality\":20,\"complexity\":17.0,\"blocking factor\":10,\"delay factor\":7.0},\"nameSub\":\"Calculus II with Applications\",\"id\":6,\"credits\":4,\"nameCanonical\":\"\"},{\"curriculum_requisites\":[{\"source_id\":2,\"target_id\":7,\"type\":\"CurriculumPrerequisite\"}],\"name\":\"PHYS 1408\",\"metrics\":{\"centrality\":3,\"complexity\":4.0,\"blocking factor\":1,\"delay factor\":3.0},\"nameSub\":\"Principles of Physics I\",\"id\":7,\"credits\":4,\"nameCanonical\":\"\"},{\"curriculum_requisites\":[{\"source_id\":3,\"target_id\":8,\"type\":\"CurriculumPrerequisite\"}],\"name\":\"ENGL 1302\",\"metrics\":{\"centrality\":3,\"complexity\":4.0,\"blocking factor\":1,\"delay factor\":3.0},\"nameSub\":\"Advanced College Rhetoric \",\"id\":8,\"credits\":3,\"nameCanonical\":\"\"}],\"id\":2},{\"name\":\"Term 3\",\"curriculum_items\":[{\"curriculum_requisites\":[{\"source_id\":5,\"target_id\":9,\"type\":\"CurriculumPrerequisite\"}],\"name\":\"CS 2413\",\"metrics\":{\"centrality\":25,\"complexity\":16.0,\"blocking factor\":8,\"delay factor\":8.0},\"nameSub\":\"Data Structures\",\"id\":9,\"credits\":4,\"nameCanonical\":\"\"},{\"curriculum_requisites\":[{\"source_id\":1,\"target_id\":10,\"type\":\"CurriculumPrerequisite\"}],\"name\":\"CS 1382\",\"metrics\":{\"centrality\":14,\"complexity\":9.0,\"blocking factor\":4,\"delay factor\":5.0},\"nameSub\":\"Discrete Computational Structures \",\"id\":10,\"credits\":3,\"nameCanonical\":\"\"},{\"curriculum_requisites\":[{\"source_id\":2,\"target_id\":11,\"type\":\"CurriculumPrerequisite\"}],\"name\":\"ECE 2372\",\"metrics\":{\"centrality\":5,\"complexity\":8.0,\"blocking factor\":3,\"delay factor\":5.0},\"nameSub\":\"Modern Digital System Design \",\"id\":11,\"credits\":3,\"nameCanonical\":\"\"},{\"curriculum_requisites\":[{\"source_id\":6,\"target_id\":12,\"type\":\"CurriculumPrerequisite\"}],\"name\":\"MATH 2450\",\"metrics\":{\"centrality\":7,\"complexity\":11.0,\"blocking factor\":4,\"delay factor\":7.0},\"nameSub\":\"Calculus III with Applications \",\"id\":12,\"credits\":4,\"nameCanonical\":\"\"},{\"curriculum_requisites\":[{\"source_id\":7,\"target_id\":13,\"type\":\"CurriculumPrerequisite\"},{\"source_id\":6,\"target_id\":13,\"type\":\"CurriculumPrerequisite\"}],\"name\":\"PHYS 2401\",\"metrics\":{\"centrality\":0,\"complexity\":3.0,\"blocking factor\":0,\"delay factor\":3.0},\"nameSub\":\"Principles of Physics II\",\"id\":13,\"credits\":4,\"nameCanonical\":\"\"}],\"id\":3},{\"name\":\"Term 4\",\"curriculum_items\":[{\"curriculum_requisites\":[{\"source_id\":11,\"target_id\":14,\"type\":\"CurriculumPrerequisite\"},{\"source_id\":5,\"target_id\":14,\"type\":\"CurriculumPrerequisite\"}],\"name\":\"CS 2350\",\"metrics\":{\"centrality\":11,\"complexity\":8.0,\"blocking factor\":2,\"delay factor\":6.0},\"nameSub\":\"Computer Organization and Assembly Language Programming \",\"id\":14,\"credits\":3,\"nameCanonical\":\"\"},{\"curriculum_requisites\":[{\"source_id\":9,\"target_id\":15,\"type\":\"CurriculumPrerequisite\"}],\"name\":\"CS 2365\",\"metrics\":{\"centrality\":8,\"complexity\":11.0,\"blocking factor\":3,\"delay factor\":8.0},\"nameSub\":\"Object-Oriented Programming\",\"id\":15,\"credits\":3,\"nameCanonical\":\"\"},{\"curriculum_requisites\":[],\"name\":\"ENGR 2392\",\"metrics\":{\"centrality\":0,\"complexity\":1.0,\"blocking factor\":0,\"delay factor\":1.0},\"nameSub\":\"Engineering Ethics and Its Impact on Society \",\"id\":16,\"credits\":3,\"nameCanonical\":\"\"},{\"curriculum_requisites\":[],\"name\":\"POLS 1301\",\"metrics\":{\"centrality\":0,\"complexity\":1.0,\"blocking factor\":0,\"delay factor\":1.0},\"nameSub\":\"American Government \",\"id\":17,\"credits\":3,\"nameCanonical\":\"\"},{\"curriculum_requisites\":[{\"source_id\":6,\"target_id\":18,\"type\":\"CurriculumPrerequisite\"}],\"name\":\"MATH 2360\",\"metrics\":{\"centrality\":10,\"complexity\":8.0,\"blocking factor\":3,\"delay factor\":5.0},\"nameSub\":\"Linear Algebra \",\"id\":18,\"credits\":3,\"nameCanonical\":\"\"},{\"curriculum_requisites\":[{\"source_id\":3,\"target_id\":19,\"type\":\"CurriculumPrerequisite\"},{\"source_id\":8,\"target_id\":19,\"type\":\"CurriculumPrerequisite\"}],\"name\":\"ENGL 2311\",\"metrics\":{\"centrality\":0,\"complexity\":3.0,\"blocking factor\":0,\"delay factor\":3.0},\"nameSub\":\"Introduction to Technical Writing\",\"id\":19,\"credits\":3,\"nameCanonical\":\"\"}],\"id\":4},{\"name\":\"Term 5\",\"curriculum_items\":[{\"curriculum_requisites\":[{\"source_id\":9,\"target_id\":20,\"type\":\"CurriculumPrerequisite\"}],\"name\":\"CS 3361\",\"metrics\":{\"centrality\":0,\"complexity\":5.0,\"blocking factor\":0,\"delay factor\":5.0},\"nameSub\":\"Concepts of Programming Languages\",\"id\":20,\"credits\":3,\"nameCanonical\":\"\"},{\"curriculum_requisites\":[{\"source_id\":9,\"target_id\":21,\"type\":\"CurriculumPrerequisite\"},{\"source_id\":10,\"target_id\":21,\"type\":\"CurriculumPrerequisite\"},{\"source_id\":18,\"target_id\":21,\"type\":\"CurriculumPrerequisite\"}],\"name\":\"CS 3364\",\"metrics\":{\"centrality\":32,\"complexity\":8.0,\"blocking factor\":2,\"delay factor\":6.0},\"nameSub\":\"Design and Analysis of Algorithms\",\"id\":21,\"credits\":3,\"nameCanonical\":\"\"},{\"curriculum_requisites\":[{\"source_id\":12,\"target_id\":22,\"type\":\"CurriculumPrerequisite\"}],\"name\":\"MATH 3342\",\"metrics\":{\"centrality\":7,\"complexity\":10.0,\"blocking factor\":3,\"delay factor\":7.0},\"nameSub\":\"Mathematical Statistics for Engineers and Scientists\",\"id\":22,\"credits\":3,\"nameCanonical\":\"\"},{\"curriculum_requisites\":[],\"name\":\" \",\"metrics\":{\"centrality\":0,\"complexity\":1.0,\"blocking factor\":0,\"delay factor\":1.0},\"nameSub\":\"Elective (core curriculum)\",\"id\":23,\"credits\":3,\"nameCanonical\":\"\"},{\"curriculum_requisites\":[],\"name\":\"POLS 2306\",\"metrics\":{\"centrality\":0,\"complexity\":1.0,\"blocking factor\":0,\"delay factor\":1.0},\"nameSub\":\"Texas Politics and Topics\",\"id\":24,\"credits\":3,\"nameCanonical\":\"\"}],\"id\":5},{\"name\":\"Term 6\",\"curriculum_items\":[{\"curriculum_requisites\":[{\"source_id\":15,\"target_id\":25,\"type\":\"CurriculumPrerequisite\"},{\"source_id\":22,\"target_id\":25,\"type\":\"CurriculumPrerequisite\"}],\"name\":\"CS 3365\",\"metrics\":{\"centrality\":15,\"complexity\":10.0,\"blocking factor\":2,\"delay factor\":8.0},\"nameSub\":\"Software Engineering I\",\"id\":25,\"credits\":3,\"nameCanonical\":\"\"},{\"curriculum_requisites\":[{\"source_id\":14,\"target_id\":26,\"type\":\"CurriculumPrerequisite\"}],\"name\":\"CS 3375\",\"metrics\":{\"centrality\":11,\"complexity\":7.0,\"blocking factor\":1,\"delay factor\":6.0},\"nameSub\":\"Computer Architecture \",\"id\":26,\"credits\":3,\"nameCanonical\":\"\"},{\"curriculum_requisites\":[{\"source_id\":10,\"target_id\":27,\"type\":\"CurriculumPrerequisite\"}],\"name\":\"CS 3383\",\"metrics\":{\"centrality\":0,\"complexity\":4.0,\"blocking factor\":0,\"delay factor\":4.0},\"nameSub\":\"Theory of Automata\",\"id\":27,\"credits\":3,\"nameCanonical\":\"\"},{\"curriculum_requisites\":[],\"name\":\" \",\"metrics\":{\"centrality\":0,\"complexity\":1.0,\"blocking factor\":0,\"delay factor\":1.0},\"nameSub\":\"Elective (CS)\",\"id\":28,\"credits\":3,\"nameCanonical\":\"\"},{\"curriculum_requisites\":[],\"name\":\" \",\"metrics\":{\"centrality\":0,\"complexity\":1.0,\"blocking factor\":0,\"delay factor\":1.0},\"nameSub\":\"Elective (core curriculum)\",\"id\":29,\"credits\":3,\"nameCanonical\":\"\"}],\"id\":6},{\"name\":\"Term 7\",\"curriculum_items\":[{\"curriculum_requisites\":[{\"source_id\":25,\"target_id\":30,\"type\":\"CurriculumPrerequisite\"}],\"name\":\"CS 4365\",\"metrics\":{\"centrality\":15,\"complexity\":9.0,\"blocking factor\":1,\"delay factor\":8.0},\"nameSub\":\"Software Engineering II \",\"id\":30,\"credits\":3,\"nameCanonical\":\"\"},{\"curriculum_requisites\":[{\"source_id\":26,\"target_id\":31,\"type\":\"CurriculumPrerequisite\"},{\"source_id\":21,\"target_id\":31,\"type\":\"CurriculumPrerequisite\"}],\"name\":\"CS 4352\",\"metrics\":{\"centrality\":0,\"complexity\":6.0,\"blocking factor\":0,\"delay factor\":6.0},\"nameSub\":\"Operating Systems \",\"id\":31,\"credits\":3,\"nameCanonical\":\"\"},{\"curriculum_requisites\":[{\"source_id\":21,\"target_id\":32,\"type\":\"CurriculumPrerequisite\"}],\"name\":\"CS 4354\",\"metrics\":{\"centrality\":0,\"complexity\":6.0,\"blocking factor\":0,\"delay factor\":6.0},\"nameSub\":\"Concepts of Database Systems\",\"id\":32,\"credits\":3,\"nameCanonical\":\"\"},{\"curriculum_requisites\":[],\"name\":\" \",\"metrics\":{\"centrality\":0,\"complexity\":1.0,\"blocking factor\":0,\"delay factor\":1.0},\"nameSub\":\"Elective (CS)\",\"id\":33,\"credits\":3,\"nameCanonical\":\"\"},{\"curriculum_requisites\":[],\"name\":\" \",\"metrics\":{\"centrality\":0,\"complexity\":1.0,\"blocking factor\":0,\"delay factor\":1.0},\"nameSub\":\"Elective (Core Curriculum)\",\"id\":34,\"credits\":3,\"nameCanonical\":\"\"}],\"id\":7},{\"name\":\"Term 8\",\"curriculum_items\":[{\"curriculum_requisites\":[{\"source_id\":30,\"target_id\":35,\"type\":\"CurriculumPrerequisite\"}],\"name\":\"CS 4366\",\"metrics\":{\"centrality\":0,\"complexity\":8.0,\"blocking factor\":0,\"delay factor\":8.0},\"nameSub\":\"Senior Capstone Project \",\"id\":35,\"credits\":3,\"nameCanonical\":\"\"},{\"curriculum_requisites\":[],\"name\":\" \",\"metrics\":{\"centrality\":0,\"complexity\":1.0,\"blocking factor\":0,\"delay factor\":1.0},\"nameSub\":\"Elective (CS)\",\"id\":36,\"credits\":3,\"nameCanonical\":\"\"},{\"curriculum_requisites\":[],\"name\":\" \",\"metrics\":{\"centrality\":0,\"complexity\":1.0,\"blocking factor\":0,\"delay factor\":1.0},\"nameSub\":\"Elective (CS)\",\"id\":37,\"credits\":3,\"nameCanonical\":\"\"},{\"curriculum_requisites\":[],\"name\":\" \",\"metrics\":{\"centrality\":0,\"complexity\":1.0,\"blocking factor\":0,\"delay factor\":1.0},\"nameSub\":\"Elective (Core Curriculum)\",\"id\":38,\"credits\":3,\"nameCanonical\":\"\"},{\"curriculum_requisites\":[],\"name\":\" \",\"metrics\":{\"centrality\":0,\"complexity\":1.0,\"blocking factor\":0,\"delay factor\":1.0},\"nameSub\":\"Elective (Core Curriculum)\",\"id\":39,\"credits\":3,\"nameCanonical\":\"\"}],\"id\":8}],\"institution\":\"Texas Tech University\"}},\"*\"); window.removeEventListener(\"message\",window.messageReceived); window.messageReceived=(function (event){return (event.data.curriculum!==undefined) ? (WebIO.setval({\"name\":\"curriculum-data\",\"scope\":\"11632882449496751631\",\"id\":\"1482326284138943730\",\"type\":\"observable\"},event.data.curriculum)) : undefined}); return window.addEventListener(\"message\",window.messageReceived)})"
          },
          "id": "curriculum",
          "src": "http://localhost:8156",
          "style": {
           "border": "none",
           "height": "100vh",
           "margin": "0",
           "padding": "0",
           "width": "100%"
          }
         },
         "type": "node"
        }
       ],
       "instanceArgs": {
        "handlers": {},
        "id": "11632882449496751631",
        "imports": {
         "data": [],
         "type": "async_block"
        },
        "mount_callbacks": [],
        "observables": {
         "curriculum-data": {
          "id": "1482326284138943730",
          "sync": true,
          "value": {
           "curriculum": {
            "curriculum_terms": [
             {
              "curriculum_items": [
               {
                "credits": 4,
                "curriculum_requisites": [
                 {
                  "source_id": 2,
                  "target_id": 1,
                  "type": "CurriculumCorequisite"
                 }
                ],
                "id": 1,
                "metrics": {
                 "blocking factor": 14,
                 "centrality": 45,
                 "complexity": 22,
                 "delay factor": 8
                },
                "name": "CS 1411",
                "nameCanonical": "",
                "nameSub": "Programming Principles I "
               },
               {
                "credits": 4,
                "curriculum_requisites": [],
                "id": 2,
                "metrics": {
                 "blocking factor": 22,
                 "centrality": 0,
                 "complexity": 30,
                 "delay factor": 8
                },
                "name": "MATH 1451",
                "nameCanonical": "",
                "nameSub": "Calculus I with Applications"
               },
               {
                "credits": 3,
                "curriculum_requisites": [],
                "id": 3,
                "metrics": {
                 "blocking factor": 2,
                 "centrality": 0,
                 "complexity": 5,
                 "delay factor": 3
                },
                "name": "ENGL 1301",
                "nameCanonical": "",
                "nameSub": "Essentials of College Rhetoric"
               },
               {
                "credits": 4,
                "curriculum_requisites": [],
                "id": 4,
                "metrics": {
                 "blocking factor": 0,
                 "centrality": 0,
                 "complexity": 1,
                 "delay factor": 1
                },
                "name": " ",
                "nameCanonical": "",
                "nameSub": "Life and Physical Sciences"
               }
              ],
              "id": 1,
              "name": "Term 1"
             },
             {
              "curriculum_items": [
               {
                "credits": 4,
                "curriculum_requisites": [
                 {
                  "source_id": 1,
                  "target_id": 5,
                  "type": "CurriculumPrerequisite"
                 }
                ],
                "id": 5,
                "metrics": {
                 "blocking factor": 11,
                 "centrality": 31,
                 "complexity": 19,
                 "delay factor": 8
                },
                "name": "CS 1412",
                "nameCanonical": "",
                "nameSub": "Programming Principles II "
               },
               {
                "credits": 4,
                "curriculum_requisites": [
                 {
                  "source_id": 2,
                  "target_id": 6,
                  "type": "CurriculumPrerequisite"
                 }
                ],
                "id": 6,
                "metrics": {
                 "blocking factor": 10,
                 "centrality": 20,
                 "complexity": 17,
                 "delay factor": 7
                },
                "name": "MATH 1452",
                "nameCanonical": "",
                "nameSub": "Calculus II with Applications"
               },
               {
                "credits": 4,
                "curriculum_requisites": [
                 {
                  "source_id": 2,
                  "target_id": 7,
                  "type": "CurriculumPrerequisite"
                 }
                ],
                "id": 7,
                "metrics": {
                 "blocking factor": 1,
                 "centrality": 3,
                 "complexity": 4,
                 "delay factor": 3
                },
                "name": "PHYS 1408",
                "nameCanonical": "",
                "nameSub": "Principles of Physics I"
               },
               {
                "credits": 3,
                "curriculum_requisites": [
                 {
                  "source_id": 3,
                  "target_id": 8,
                  "type": "CurriculumPrerequisite"
                 }
                ],
                "id": 8,
                "metrics": {
                 "blocking factor": 1,
                 "centrality": 3,
                 "complexity": 4,
                 "delay factor": 3
                },
                "name": "ENGL 1302",
                "nameCanonical": "",
                "nameSub": "Advanced College Rhetoric "
               }
              ],
              "id": 2,
              "name": "Term 2"
             },
             {
              "curriculum_items": [
               {
                "credits": 4,
                "curriculum_requisites": [
                 {
                  "source_id": 5,
                  "target_id": 9,
                  "type": "CurriculumPrerequisite"
                 }
                ],
                "id": 9,
                "metrics": {
                 "blocking factor": 8,
                 "centrality": 25,
                 "complexity": 16,
                 "delay factor": 8
                },
                "name": "CS 2413",
                "nameCanonical": "",
                "nameSub": "Data Structures"
               },
               {
                "credits": 3,
                "curriculum_requisites": [
                 {
                  "source_id": 1,
                  "target_id": 10,
                  "type": "CurriculumPrerequisite"
                 }
                ],
                "id": 10,
                "metrics": {
                 "blocking factor": 4,
                 "centrality": 14,
                 "complexity": 9,
                 "delay factor": 5
                },
                "name": "CS 1382",
                "nameCanonical": "",
                "nameSub": "Discrete Computational Structures "
               },
               {
                "credits": 3,
                "curriculum_requisites": [
                 {
                  "source_id": 2,
                  "target_id": 11,
                  "type": "CurriculumPrerequisite"
                 }
                ],
                "id": 11,
                "metrics": {
                 "blocking factor": 3,
                 "centrality": 5,
                 "complexity": 8,
                 "delay factor": 5
                },
                "name": "ECE 2372",
                "nameCanonical": "",
                "nameSub": "Modern Digital System Design "
               },
               {
                "credits": 4,
                "curriculum_requisites": [
                 {
                  "source_id": 6,
                  "target_id": 12,
                  "type": "CurriculumPrerequisite"
                 }
                ],
                "id": 12,
                "metrics": {
                 "blocking factor": 4,
                 "centrality": 7,
                 "complexity": 11,
                 "delay factor": 7
                },
                "name": "MATH 2450",
                "nameCanonical": "",
                "nameSub": "Calculus III with Applications "
               },
               {
                "credits": 4,
                "curriculum_requisites": [
                 {
                  "source_id": 7,
                  "target_id": 13,
                  "type": "CurriculumPrerequisite"
                 },
                 {
                  "source_id": 6,
                  "target_id": 13,
                  "type": "CurriculumPrerequisite"
                 }
                ],
                "id": 13,
                "metrics": {
                 "blocking factor": 0,
                 "centrality": 0,
                 "complexity": 3,
                 "delay factor": 3
                },
                "name": "PHYS 2401",
                "nameCanonical": "",
                "nameSub": "Principles of Physics II"
               }
              ],
              "id": 3,
              "name": "Term 3"
             },
             {
              "curriculum_items": [
               {
                "credits": 3,
                "curriculum_requisites": [
                 {
                  "source_id": 11,
                  "target_id": 14,
                  "type": "CurriculumPrerequisite"
                 },
                 {
                  "source_id": 5,
                  "target_id": 14,
                  "type": "CurriculumPrerequisite"
                 }
                ],
                "id": 14,
                "metrics": {
                 "blocking factor": 2,
                 "centrality": 11,
                 "complexity": 8,
                 "delay factor": 6
                },
                "name": "CS 2350",
                "nameCanonical": "",
                "nameSub": "Computer Organization and Assembly Language Programming "
               },
               {
                "credits": 3,
                "curriculum_requisites": [
                 {
                  "source_id": 9,
                  "target_id": 15,
                  "type": "CurriculumPrerequisite"
                 }
                ],
                "id": 15,
                "metrics": {
                 "blocking factor": 3,
                 "centrality": 8,
                 "complexity": 11,
                 "delay factor": 8
                },
                "name": "CS 2365",
                "nameCanonical": "",
                "nameSub": "Object-Oriented Programming"
               },
               {
                "credits": 3,
                "curriculum_requisites": [],
                "id": 16,
                "metrics": {
                 "blocking factor": 0,
                 "centrality": 0,
                 "complexity": 1,
                 "delay factor": 1
                },
                "name": "ENGR 2392",
                "nameCanonical": "",
                "nameSub": "Engineering Ethics and Its Impact on Society "
               },
               {
                "credits": 3,
                "curriculum_requisites": [],
                "id": 17,
                "metrics": {
                 "blocking factor": 0,
                 "centrality": 0,
                 "complexity": 1,
                 "delay factor": 1
                },
                "name": "POLS 1301",
                "nameCanonical": "",
                "nameSub": "American Government "
               },
               {
                "credits": 3,
                "curriculum_requisites": [
                 {
                  "source_id": 6,
                  "target_id": 18,
                  "type": "CurriculumPrerequisite"
                 }
                ],
                "id": 18,
                "metrics": {
                 "blocking factor": 3,
                 "centrality": 10,
                 "complexity": 8,
                 "delay factor": 5
                },
                "name": "MATH 2360",
                "nameCanonical": "",
                "nameSub": "Linear Algebra "
               },
               {
                "credits": 3,
                "curriculum_requisites": [
                 {
                  "source_id": 3,
                  "target_id": 19,
                  "type": "CurriculumPrerequisite"
                 },
                 {
                  "source_id": 8,
                  "target_id": 19,
                  "type": "CurriculumPrerequisite"
                 }
                ],
                "id": 19,
                "metrics": {
                 "blocking factor": 0,
                 "centrality": 0,
                 "complexity": 3,
                 "delay factor": 3
                },
                "name": "ENGL 2311",
                "nameCanonical": "",
                "nameSub": "Introduction to Technical Writing"
               }
              ],
              "id": 4,
              "name": "Term 4"
             },
             {
              "curriculum_items": [
               {
                "credits": 3,
                "curriculum_requisites": [
                 {
                  "source_id": 9,
                  "target_id": 20,
                  "type": "CurriculumPrerequisite"
                 }
                ],
                "id": 20,
                "metrics": {
                 "blocking factor": 0,
                 "centrality": 0,
                 "complexity": 5,
                 "delay factor": 5
                },
                "name": "CS 3361",
                "nameCanonical": "",
                "nameSub": "Concepts of Programming Languages"
               },
               {
                "credits": 3,
                "curriculum_requisites": [
                 {
                  "source_id": 9,
                  "target_id": 21,
                  "type": "CurriculumPrerequisite"
                 },
                 {
                  "source_id": 10,
                  "target_id": 21,
                  "type": "CurriculumPrerequisite"
                 },
                 {
                  "source_id": 18,
                  "target_id": 21,
                  "type": "CurriculumPrerequisite"
                 }
                ],
                "id": 21,
                "metrics": {
                 "blocking factor": 2,
                 "centrality": 32,
                 "complexity": 8,
                 "delay factor": 6
                },
                "name": "CS 3364",
                "nameCanonical": "",
                "nameSub": "Design and Analysis of Algorithms"
               },
               {
                "credits": 3,
                "curriculum_requisites": [
                 {
                  "source_id": 12,
                  "target_id": 22,
                  "type": "CurriculumPrerequisite"
                 }
                ],
                "id": 22,
                "metrics": {
                 "blocking factor": 3,
                 "centrality": 7,
                 "complexity": 10,
                 "delay factor": 7
                },
                "name": "MATH 3342",
                "nameCanonical": "",
                "nameSub": "Mathematical Statistics for Engineers and Scientists"
               },
               {
                "credits": 3,
                "curriculum_requisites": [],
                "id": 23,
                "metrics": {
                 "blocking factor": 0,
                 "centrality": 0,
                 "complexity": 1,
                 "delay factor": 1
                },
                "name": " ",
                "nameCanonical": "",
                "nameSub": "Elective (core curriculum)"
               },
               {
                "credits": 3,
                "curriculum_requisites": [],
                "id": 24,
                "metrics": {
                 "blocking factor": 0,
                 "centrality": 0,
                 "complexity": 1,
                 "delay factor": 1
                },
                "name": "POLS 2306",
                "nameCanonical": "",
                "nameSub": "Texas Politics and Topics"
               }
              ],
              "id": 5,
              "name": "Term 5"
             },
             {
              "curriculum_items": [
               {
                "credits": 3,
                "curriculum_requisites": [
                 {
                  "source_id": 15,
                  "target_id": 25,
                  "type": "CurriculumPrerequisite"
                 },
                 {
                  "source_id": 22,
                  "target_id": 25,
                  "type": "CurriculumPrerequisite"
                 }
                ],
                "id": 25,
                "metrics": {
                 "blocking factor": 2,
                 "centrality": 15,
                 "complexity": 10,
                 "delay factor": 8
                },
                "name": "CS 3365",
                "nameCanonical": "",
                "nameSub": "Software Engineering I"
               },
               {
                "credits": 3,
                "curriculum_requisites": [
                 {
                  "source_id": 14,
                  "target_id": 26,
                  "type": "CurriculumPrerequisite"
                 }
                ],
                "id": 26,
                "metrics": {
                 "blocking factor": 1,
                 "centrality": 11,
                 "complexity": 7,
                 "delay factor": 6
                },
                "name": "CS 3375",
                "nameCanonical": "",
                "nameSub": "Computer Architecture "
               },
               {
                "credits": 3,
                "curriculum_requisites": [
                 {
                  "source_id": 10,
                  "target_id": 27,
                  "type": "CurriculumPrerequisite"
                 }
                ],
                "id": 27,
                "metrics": {
                 "blocking factor": 0,
                 "centrality": 0,
                 "complexity": 4,
                 "delay factor": 4
                },
                "name": "CS 3383",
                "nameCanonical": "",
                "nameSub": "Theory of Automata"
               },
               {
                "credits": 3,
                "curriculum_requisites": [],
                "id": 28,
                "metrics": {
                 "blocking factor": 0,
                 "centrality": 0,
                 "complexity": 1,
                 "delay factor": 1
                },
                "name": " ",
                "nameCanonical": "",
                "nameSub": "Elective (CS)"
               },
               {
                "credits": 3,
                "curriculum_requisites": [],
                "id": 29,
                "metrics": {
                 "blocking factor": 0,
                 "centrality": 0,
                 "complexity": 1,
                 "delay factor": 1
                },
                "name": " ",
                "nameCanonical": "",
                "nameSub": "Elective (core curriculum)"
               }
              ],
              "id": 6,
              "name": "Term 6"
             },
             {
              "curriculum_items": [
               {
                "credits": 3,
                "curriculum_requisites": [
                 {
                  "source_id": 25,
                  "target_id": 30,
                  "type": "CurriculumPrerequisite"
                 }
                ],
                "id": 30,
                "metrics": {
                 "blocking factor": 1,
                 "centrality": 15,
                 "complexity": 9,
                 "delay factor": 8
                },
                "name": "CS 4365",
                "nameCanonical": "",
                "nameSub": "Software Engineering II "
               },
               {
                "credits": 3,
                "curriculum_requisites": [
                 {
                  "source_id": 26,
                  "target_id": 31,
                  "type": "CurriculumPrerequisite"
                 },
                 {
                  "source_id": 21,
                  "target_id": 31,
                  "type": "CurriculumPrerequisite"
                 }
                ],
                "id": 31,
                "metrics": {
                 "blocking factor": 0,
                 "centrality": 0,
                 "complexity": 6,
                 "delay factor": 6
                },
                "name": "CS 4352",
                "nameCanonical": "",
                "nameSub": "Operating Systems "
               },
               {
                "credits": 3,
                "curriculum_requisites": [
                 {
                  "source_id": 21,
                  "target_id": 32,
                  "type": "CurriculumPrerequisite"
                 }
                ],
                "id": 32,
                "metrics": {
                 "blocking factor": 0,
                 "centrality": 0,
                 "complexity": 6,
                 "delay factor": 6
                },
                "name": "CS 4354",
                "nameCanonical": "",
                "nameSub": "Concepts of Database Systems"
               },
               {
                "credits": 3,
                "curriculum_requisites": [],
                "id": 33,
                "metrics": {
                 "blocking factor": 0,
                 "centrality": 0,
                 "complexity": 1,
                 "delay factor": 1
                },
                "name": " ",
                "nameCanonical": "",
                "nameSub": "Elective (CS)"
               },
               {
                "credits": 3,
                "curriculum_requisites": [],
                "id": 34,
                "metrics": {
                 "blocking factor": 0,
                 "centrality": 0,
                 "complexity": 1,
                 "delay factor": 1
                },
                "name": " ",
                "nameCanonical": "",
                "nameSub": "Elective (Core Curriculum)"
               }
              ],
              "id": 7,
              "name": "Term 7"
             },
             {
              "curriculum_items": [
               {
                "credits": 3,
                "curriculum_requisites": [
                 {
                  "source_id": 30,
                  "target_id": 35,
                  "type": "CurriculumPrerequisite"
                 }
                ],
                "id": 35,
                "metrics": {
                 "blocking factor": 0,
                 "centrality": 0,
                 "complexity": 8,
                 "delay factor": 8
                },
                "name": "CS 4366",
                "nameCanonical": "",
                "nameSub": "Senior Capstone Project "
               },
               {
                "credits": 3,
                "curriculum_requisites": [],
                "id": 36,
                "metrics": {
                 "blocking factor": 0,
                 "centrality": 0,
                 "complexity": 1,
                 "delay factor": 1
                },
                "name": " ",
                "nameCanonical": "",
                "nameSub": "Elective (CS)"
               },
               {
                "credits": 3,
                "curriculum_requisites": [],
                "id": 37,
                "metrics": {
                 "blocking factor": 0,
                 "centrality": 0,
                 "complexity": 1,
                 "delay factor": 1
                },
                "name": " ",
                "nameCanonical": "",
                "nameSub": "Elective (CS)"
               },
               {
                "credits": 3,
                "curriculum_requisites": [],
                "id": 38,
                "metrics": {
                 "blocking factor": 0,
                 "centrality": 0,
                 "complexity": 1,
                 "delay factor": 1
                },
                "name": " ",
                "nameCanonical": "",
                "nameSub": "Elective (Core Curriculum)"
               },
               {
                "credits": 3,
                "curriculum_requisites": [],
                "id": 39,
                "metrics": {
                 "blocking factor": 0,
                 "centrality": 0,
                 "complexity": 1,
                 "delay factor": 1
                },
                "name": " ",
                "nameCanonical": "",
                "nameSub": "Elective (Core Curriculum)"
               }
              ],
              "id": 8,
              "name": "Term 8"
             }
            ],
            "dp_name": "Computer Science",
            "institution": "Texas Tech University",
            "name": "Computer Science"
           },
           "options": {
            "edit": false,
            "hideTerms": false
           }
          }
         }
        },
        "systemjs_options": null
       },
       "nodeType": "Scope",
       "props": {},
       "type": "node"
      },
      "text/html": [
       "<div\n",
       "    class=\"webio-mountpoint\"\n",
       "    data-webio-mountpoint=\"16216456183962579943\"\n",
       ">\n",
       "    <script>\n",
       "    if (window.require && require.defined && require.defined(\"nbextensions/webio-jupyter-notebook\")) {\n",
       "        console.log(\"Jupyter WebIO extension detected, not mounting.\");\n",
       "    } else if (window.WebIO) {\n",
       "        WebIO.mount(\n",
       "            document.querySelector('[data-webio-mountpoint=\"16216456183962579943\"]'),\n",
       "            {\"props\":{},\"nodeType\":\"Scope\",\"type\":\"node\",\"instanceArgs\":{\"imports\":{\"data\":[],\"type\":\"async_block\"},\"id\":\"11632882449496751631\",\"handlers\":{},\"systemjs_options\":null,\"mount_callbacks\":[],\"observables\":{\"curriculum-data\":{\"sync\":true,\"id\":\"1482326284138943730\",\"value\":{\"options\":{\"hideTerms\":false,\"edit\":false},\"curriculum\":{\"name\":\"Computer Science\",\"dp_name\":\"Computer Science\",\"curriculum_terms\":[{\"name\":\"Term 1\",\"curriculum_items\":[{\"curriculum_requisites\":[{\"source_id\":2,\"target_id\":1,\"type\":\"CurriculumCorequisite\"}],\"name\":\"CS 1411\",\"metrics\":{\"centrality\":45,\"complexity\":22.0,\"blocking factor\":14,\"delay factor\":8.0},\"nameSub\":\"Programming Principles I \",\"id\":1,\"credits\":4,\"nameCanonical\":\"\"},{\"curriculum_requisites\":[],\"name\":\"MATH 1451\",\"metrics\":{\"centrality\":0,\"complexity\":30.0,\"blocking factor\":22,\"delay factor\":8.0},\"nameSub\":\"Calculus I with Applications\",\"id\":2,\"credits\":4,\"nameCanonical\":\"\"},{\"curriculum_requisites\":[],\"name\":\"ENGL 1301\",\"metrics\":{\"centrality\":0,\"complexity\":5.0,\"blocking factor\":2,\"delay factor\":3.0},\"nameSub\":\"Essentials of College Rhetoric\",\"id\":3,\"credits\":3,\"nameCanonical\":\"\"},{\"curriculum_requisites\":[],\"name\":\" \",\"metrics\":{\"centrality\":0,\"complexity\":1.0,\"blocking factor\":0,\"delay factor\":1.0},\"nameSub\":\"Life and Physical Sciences\",\"id\":4,\"credits\":4,\"nameCanonical\":\"\"}],\"id\":1},{\"name\":\"Term 2\",\"curriculum_items\":[{\"curriculum_requisites\":[{\"source_id\":1,\"target_id\":5,\"type\":\"CurriculumPrerequisite\"}],\"name\":\"CS 1412\",\"metrics\":{\"centrality\":31,\"complexity\":19.0,\"blocking factor\":11,\"delay factor\":8.0},\"nameSub\":\"Programming Principles II \",\"id\":5,\"credits\":4,\"nameCanonical\":\"\"},{\"curriculum_requisites\":[{\"source_id\":2,\"target_id\":6,\"type\":\"CurriculumPrerequisite\"}],\"name\":\"MATH 1452\",\"metrics\":{\"centrality\":20,\"complexity\":17.0,\"blocking factor\":10,\"delay factor\":7.0},\"nameSub\":\"Calculus II with Applications\",\"id\":6,\"credits\":4,\"nameCanonical\":\"\"},{\"curriculum_requisites\":[{\"source_id\":2,\"target_id\":7,\"type\":\"CurriculumPrerequisite\"}],\"name\":\"PHYS 1408\",\"metrics\":{\"centrality\":3,\"complexity\":4.0,\"blocking factor\":1,\"delay factor\":3.0},\"nameSub\":\"Principles of Physics I\",\"id\":7,\"credits\":4,\"nameCanonical\":\"\"},{\"curriculum_requisites\":[{\"source_id\":3,\"target_id\":8,\"type\":\"CurriculumPrerequisite\"}],\"name\":\"ENGL 1302\",\"metrics\":{\"centrality\":3,\"complexity\":4.0,\"blocking factor\":1,\"delay factor\":3.0},\"nameSub\":\"Advanced College Rhetoric \",\"id\":8,\"credits\":3,\"nameCanonical\":\"\"}],\"id\":2},{\"name\":\"Term 3\",\"curriculum_items\":[{\"curriculum_requisites\":[{\"source_id\":5,\"target_id\":9,\"type\":\"CurriculumPrerequisite\"}],\"name\":\"CS 2413\",\"metrics\":{\"centrality\":25,\"complexity\":16.0,\"blocking factor\":8,\"delay factor\":8.0},\"nameSub\":\"Data Structures\",\"id\":9,\"credits\":4,\"nameCanonical\":\"\"},{\"curriculum_requisites\":[{\"source_id\":1,\"target_id\":10,\"type\":\"CurriculumPrerequisite\"}],\"name\":\"CS 1382\",\"metrics\":{\"centrality\":14,\"complexity\":9.0,\"blocking factor\":4,\"delay factor\":5.0},\"nameSub\":\"Discrete Computational Structures \",\"id\":10,\"credits\":3,\"nameCanonical\":\"\"},{\"curriculum_requisites\":[{\"source_id\":2,\"target_id\":11,\"type\":\"CurriculumPrerequisite\"}],\"name\":\"ECE 2372\",\"metrics\":{\"centrality\":5,\"complexity\":8.0,\"blocking factor\":3,\"delay factor\":5.0},\"nameSub\":\"Modern Digital System Design \",\"id\":11,\"credits\":3,\"nameCanonical\":\"\"},{\"curriculum_requisites\":[{\"source_id\":6,\"target_id\":12,\"type\":\"CurriculumPrerequisite\"}],\"name\":\"MATH 2450\",\"metrics\":{\"centrality\":7,\"complexity\":11.0,\"blocking factor\":4,\"delay factor\":7.0},\"nameSub\":\"Calculus III with Applications \",\"id\":12,\"credits\":4,\"nameCanonical\":\"\"},{\"curriculum_requisites\":[{\"source_id\":7,\"target_id\":13,\"type\":\"CurriculumPrerequisite\"},{\"source_id\":6,\"target_id\":13,\"type\":\"CurriculumPrerequisite\"}],\"name\":\"PHYS 2401\",\"metrics\":{\"centrality\":0,\"complexity\":3.0,\"blocking factor\":0,\"delay factor\":3.0},\"nameSub\":\"Principles of Physics II\",\"id\":13,\"credits\":4,\"nameCanonical\":\"\"}],\"id\":3},{\"name\":\"Term 4\",\"curriculum_items\":[{\"curriculum_requisites\":[{\"source_id\":11,\"target_id\":14,\"type\":\"CurriculumPrerequisite\"},{\"source_id\":5,\"target_id\":14,\"type\":\"CurriculumPrerequisite\"}],\"name\":\"CS 2350\",\"metrics\":{\"centrality\":11,\"complexity\":8.0,\"blocking factor\":2,\"delay factor\":6.0},\"nameSub\":\"Computer Organization and Assembly Language Programming \",\"id\":14,\"credits\":3,\"nameCanonical\":\"\"},{\"curriculum_requisites\":[{\"source_id\":9,\"target_id\":15,\"type\":\"CurriculumPrerequisite\"}],\"name\":\"CS 2365\",\"metrics\":{\"centrality\":8,\"complexity\":11.0,\"blocking factor\":3,\"delay factor\":8.0},\"nameSub\":\"Object-Oriented Programming\",\"id\":15,\"credits\":3,\"nameCanonical\":\"\"},{\"curriculum_requisites\":[],\"name\":\"ENGR 2392\",\"metrics\":{\"centrality\":0,\"complexity\":1.0,\"blocking factor\":0,\"delay factor\":1.0},\"nameSub\":\"Engineering Ethics and Its Impact on Society \",\"id\":16,\"credits\":3,\"nameCanonical\":\"\"},{\"curriculum_requisites\":[],\"name\":\"POLS 1301\",\"metrics\":{\"centrality\":0,\"complexity\":1.0,\"blocking factor\":0,\"delay factor\":1.0},\"nameSub\":\"American Government \",\"id\":17,\"credits\":3,\"nameCanonical\":\"\"},{\"curriculum_requisites\":[{\"source_id\":6,\"target_id\":18,\"type\":\"CurriculumPrerequisite\"}],\"name\":\"MATH 2360\",\"metrics\":{\"centrality\":10,\"complexity\":8.0,\"blocking factor\":3,\"delay factor\":5.0},\"nameSub\":\"Linear Algebra \",\"id\":18,\"credits\":3,\"nameCanonical\":\"\"},{\"curriculum_requisites\":[{\"source_id\":3,\"target_id\":19,\"type\":\"CurriculumPrerequisite\"},{\"source_id\":8,\"target_id\":19,\"type\":\"CurriculumPrerequisite\"}],\"name\":\"ENGL 2311\",\"metrics\":{\"centrality\":0,\"complexity\":3.0,\"blocking factor\":0,\"delay factor\":3.0},\"nameSub\":\"Introduction to Technical Writing\",\"id\":19,\"credits\":3,\"nameCanonical\":\"\"}],\"id\":4},{\"name\":\"Term 5\",\"curriculum_items\":[{\"curriculum_requisites\":[{\"source_id\":9,\"target_id\":20,\"type\":\"CurriculumPrerequisite\"}],\"name\":\"CS 3361\",\"metrics\":{\"centrality\":0,\"complexity\":5.0,\"blocking factor\":0,\"delay factor\":5.0},\"nameSub\":\"Concepts of Programming Languages\",\"id\":20,\"credits\":3,\"nameCanonical\":\"\"},{\"curriculum_requisites\":[{\"source_id\":9,\"target_id\":21,\"type\":\"CurriculumPrerequisite\"},{\"source_id\":10,\"target_id\":21,\"type\":\"CurriculumPrerequisite\"},{\"source_id\":18,\"target_id\":21,\"type\":\"CurriculumPrerequisite\"}],\"name\":\"CS 3364\",\"metrics\":{\"centrality\":32,\"complexity\":8.0,\"blocking factor\":2,\"delay factor\":6.0},\"nameSub\":\"Design and Analysis of Algorithms\",\"id\":21,\"credits\":3,\"nameCanonical\":\"\"},{\"curriculum_requisites\":[{\"source_id\":12,\"target_id\":22,\"type\":\"CurriculumPrerequisite\"}],\"name\":\"MATH 3342\",\"metrics\":{\"centrality\":7,\"complexity\":10.0,\"blocking factor\":3,\"delay factor\":7.0},\"nameSub\":\"Mathematical Statistics for Engineers and Scientists\",\"id\":22,\"credits\":3,\"nameCanonical\":\"\"},{\"curriculum_requisites\":[],\"name\":\" \",\"metrics\":{\"centrality\":0,\"complexity\":1.0,\"blocking factor\":0,\"delay factor\":1.0},\"nameSub\":\"Elective (core curriculum)\",\"id\":23,\"credits\":3,\"nameCanonical\":\"\"},{\"curriculum_requisites\":[],\"name\":\"POLS 2306\",\"metrics\":{\"centrality\":0,\"complexity\":1.0,\"blocking factor\":0,\"delay factor\":1.0},\"nameSub\":\"Texas Politics and Topics\",\"id\":24,\"credits\":3,\"nameCanonical\":\"\"}],\"id\":5},{\"name\":\"Term 6\",\"curriculum_items\":[{\"curriculum_requisites\":[{\"source_id\":15,\"target_id\":25,\"type\":\"CurriculumPrerequisite\"},{\"source_id\":22,\"target_id\":25,\"type\":\"CurriculumPrerequisite\"}],\"name\":\"CS 3365\",\"metrics\":{\"centrality\":15,\"complexity\":10.0,\"blocking factor\":2,\"delay factor\":8.0},\"nameSub\":\"Software Engineering I\",\"id\":25,\"credits\":3,\"nameCanonical\":\"\"},{\"curriculum_requisites\":[{\"source_id\":14,\"target_id\":26,\"type\":\"CurriculumPrerequisite\"}],\"name\":\"CS 3375\",\"metrics\":{\"centrality\":11,\"complexity\":7.0,\"blocking factor\":1,\"delay factor\":6.0},\"nameSub\":\"Computer Architecture \",\"id\":26,\"credits\":3,\"nameCanonical\":\"\"},{\"curriculum_requisites\":[{\"source_id\":10,\"target_id\":27,\"type\":\"CurriculumPrerequisite\"}],\"name\":\"CS 3383\",\"metrics\":{\"centrality\":0,\"complexity\":4.0,\"blocking factor\":0,\"delay factor\":4.0},\"nameSub\":\"Theory of Automata\",\"id\":27,\"credits\":3,\"nameCanonical\":\"\"},{\"curriculum_requisites\":[],\"name\":\" \",\"metrics\":{\"centrality\":0,\"complexity\":1.0,\"blocking factor\":0,\"delay factor\":1.0},\"nameSub\":\"Elective (CS)\",\"id\":28,\"credits\":3,\"nameCanonical\":\"\"},{\"curriculum_requisites\":[],\"name\":\" \",\"metrics\":{\"centrality\":0,\"complexity\":1.0,\"blocking factor\":0,\"delay factor\":1.0},\"nameSub\":\"Elective (core curriculum)\",\"id\":29,\"credits\":3,\"nameCanonical\":\"\"}],\"id\":6},{\"name\":\"Term 7\",\"curriculum_items\":[{\"curriculum_requisites\":[{\"source_id\":25,\"target_id\":30,\"type\":\"CurriculumPrerequisite\"}],\"name\":\"CS 4365\",\"metrics\":{\"centrality\":15,\"complexity\":9.0,\"blocking factor\":1,\"delay factor\":8.0},\"nameSub\":\"Software Engineering II \",\"id\":30,\"credits\":3,\"nameCanonical\":\"\"},{\"curriculum_requisites\":[{\"source_id\":26,\"target_id\":31,\"type\":\"CurriculumPrerequisite\"},{\"source_id\":21,\"target_id\":31,\"type\":\"CurriculumPrerequisite\"}],\"name\":\"CS 4352\",\"metrics\":{\"centrality\":0,\"complexity\":6.0,\"blocking factor\":0,\"delay factor\":6.0},\"nameSub\":\"Operating Systems \",\"id\":31,\"credits\":3,\"nameCanonical\":\"\"},{\"curriculum_requisites\":[{\"source_id\":21,\"target_id\":32,\"type\":\"CurriculumPrerequisite\"}],\"name\":\"CS 4354\",\"metrics\":{\"centrality\":0,\"complexity\":6.0,\"blocking factor\":0,\"delay factor\":6.0},\"nameSub\":\"Concepts of Database Systems\",\"id\":32,\"credits\":3,\"nameCanonical\":\"\"},{\"curriculum_requisites\":[],\"name\":\" \",\"metrics\":{\"centrality\":0,\"complexity\":1.0,\"blocking factor\":0,\"delay factor\":1.0},\"nameSub\":\"Elective (CS)\",\"id\":33,\"credits\":3,\"nameCanonical\":\"\"},{\"curriculum_requisites\":[],\"name\":\" \",\"metrics\":{\"centrality\":0,\"complexity\":1.0,\"blocking factor\":0,\"delay factor\":1.0},\"nameSub\":\"Elective (Core Curriculum)\",\"id\":34,\"credits\":3,\"nameCanonical\":\"\"}],\"id\":7},{\"name\":\"Term 8\",\"curriculum_items\":[{\"curriculum_requisites\":[{\"source_id\":30,\"target_id\":35,\"type\":\"CurriculumPrerequisite\"}],\"name\":\"CS 4366\",\"metrics\":{\"centrality\":0,\"complexity\":8.0,\"blocking factor\":0,\"delay factor\":8.0},\"nameSub\":\"Senior Capstone Project \",\"id\":35,\"credits\":3,\"nameCanonical\":\"\"},{\"curriculum_requisites\":[],\"name\":\" \",\"metrics\":{\"centrality\":0,\"complexity\":1.0,\"blocking factor\":0,\"delay factor\":1.0},\"nameSub\":\"Elective (CS)\",\"id\":36,\"credits\":3,\"nameCanonical\":\"\"},{\"curriculum_requisites\":[],\"name\":\" \",\"metrics\":{\"centrality\":0,\"complexity\":1.0,\"blocking factor\":0,\"delay factor\":1.0},\"nameSub\":\"Elective (CS)\",\"id\":37,\"credits\":3,\"nameCanonical\":\"\"},{\"curriculum_requisites\":[],\"name\":\" \",\"metrics\":{\"centrality\":0,\"complexity\":1.0,\"blocking factor\":0,\"delay factor\":1.0},\"nameSub\":\"Elective (Core Curriculum)\",\"id\":38,\"credits\":3,\"nameCanonical\":\"\"},{\"curriculum_requisites\":[],\"name\":\" \",\"metrics\":{\"centrality\":0,\"complexity\":1.0,\"blocking factor\":0,\"delay factor\":1.0},\"nameSub\":\"Elective (Core Curriculum)\",\"id\":39,\"credits\":3,\"nameCanonical\":\"\"}],\"id\":8}],\"institution\":\"Texas Tech University\"}}}}},\"children\":[{\"props\":{\"src\":\"http:\\/\\/localhost:8156\",\"id\":\"curriculum\",\"events\":{\"load\":\"(function (){this.contentWindow.postMessage({\\\"options\\\":{\\\"hideTerms\\\":false,\\\"edit\\\":false},\\\"curriculum\\\":{\\\"name\\\":\\\"Computer Science\\\",\\\"dp_name\\\":\\\"Computer Science\\\",\\\"curriculum_terms\\\":[{\\\"name\\\":\\\"Term 1\\\",\\\"curriculum_items\\\":[{\\\"curriculum_requisites\\\":[{\\\"source_id\\\":2,\\\"target_id\\\":1,\\\"type\\\":\\\"CurriculumCorequisite\\\"}],\\\"name\\\":\\\"CS 1411\\\",\\\"metrics\\\":{\\\"centrality\\\":45,\\\"complexity\\\":22.0,\\\"blocking factor\\\":14,\\\"delay factor\\\":8.0},\\\"nameSub\\\":\\\"Programming Principles I \\\",\\\"id\\\":1,\\\"credits\\\":4,\\\"nameCanonical\\\":\\\"\\\"},{\\\"curriculum_requisites\\\":[],\\\"name\\\":\\\"MATH 1451\\\",\\\"metrics\\\":{\\\"centrality\\\":0,\\\"complexity\\\":30.0,\\\"blocking factor\\\":22,\\\"delay factor\\\":8.0},\\\"nameSub\\\":\\\"Calculus I with Applications\\\",\\\"id\\\":2,\\\"credits\\\":4,\\\"nameCanonical\\\":\\\"\\\"},{\\\"curriculum_requisites\\\":[],\\\"name\\\":\\\"ENGL 1301\\\",\\\"metrics\\\":{\\\"centrality\\\":0,\\\"complexity\\\":5.0,\\\"blocking factor\\\":2,\\\"delay factor\\\":3.0},\\\"nameSub\\\":\\\"Essentials of College Rhetoric\\\",\\\"id\\\":3,\\\"credits\\\":3,\\\"nameCanonical\\\":\\\"\\\"},{\\\"curriculum_requisites\\\":[],\\\"name\\\":\\\" \\\",\\\"metrics\\\":{\\\"centrality\\\":0,\\\"complexity\\\":1.0,\\\"blocking factor\\\":0,\\\"delay factor\\\":1.0},\\\"nameSub\\\":\\\"Life and Physical Sciences\\\",\\\"id\\\":4,\\\"credits\\\":4,\\\"nameCanonical\\\":\\\"\\\"}],\\\"id\\\":1},{\\\"name\\\":\\\"Term 2\\\",\\\"curriculum_items\\\":[{\\\"curriculum_requisites\\\":[{\\\"source_id\\\":1,\\\"target_id\\\":5,\\\"type\\\":\\\"CurriculumPrerequisite\\\"}],\\\"name\\\":\\\"CS 1412\\\",\\\"metrics\\\":{\\\"centrality\\\":31,\\\"complexity\\\":19.0,\\\"blocking factor\\\":11,\\\"delay factor\\\":8.0},\\\"nameSub\\\":\\\"Programming Principles II \\\",\\\"id\\\":5,\\\"credits\\\":4,\\\"nameCanonical\\\":\\\"\\\"},{\\\"curriculum_requisites\\\":[{\\\"source_id\\\":2,\\\"target_id\\\":6,\\\"type\\\":\\\"CurriculumPrerequisite\\\"}],\\\"name\\\":\\\"MATH 1452\\\",\\\"metrics\\\":{\\\"centrality\\\":20,\\\"complexity\\\":17.0,\\\"blocking factor\\\":10,\\\"delay factor\\\":7.0},\\\"nameSub\\\":\\\"Calculus II with Applications\\\",\\\"id\\\":6,\\\"credits\\\":4,\\\"nameCanonical\\\":\\\"\\\"},{\\\"curriculum_requisites\\\":[{\\\"source_id\\\":2,\\\"target_id\\\":7,\\\"type\\\":\\\"CurriculumPrerequisite\\\"}],\\\"name\\\":\\\"PHYS 1408\\\",\\\"metrics\\\":{\\\"centrality\\\":3,\\\"complexity\\\":4.0,\\\"blocking factor\\\":1,\\\"delay factor\\\":3.0},\\\"nameSub\\\":\\\"Principles of Physics I\\\",\\\"id\\\":7,\\\"credits\\\":4,\\\"nameCanonical\\\":\\\"\\\"},{\\\"curriculum_requisites\\\":[{\\\"source_id\\\":3,\\\"target_id\\\":8,\\\"type\\\":\\\"CurriculumPrerequisite\\\"}],\\\"name\\\":\\\"ENGL 1302\\\",\\\"metrics\\\":{\\\"centrality\\\":3,\\\"complexity\\\":4.0,\\\"blocking factor\\\":1,\\\"delay factor\\\":3.0},\\\"nameSub\\\":\\\"Advanced College Rhetoric \\\",\\\"id\\\":8,\\\"credits\\\":3,\\\"nameCanonical\\\":\\\"\\\"}],\\\"id\\\":2},{\\\"name\\\":\\\"Term 3\\\",\\\"curriculum_items\\\":[{\\\"curriculum_requisites\\\":[{\\\"source_id\\\":5,\\\"target_id\\\":9,\\\"type\\\":\\\"CurriculumPrerequisite\\\"}],\\\"name\\\":\\\"CS 2413\\\",\\\"metrics\\\":{\\\"centrality\\\":25,\\\"complexity\\\":16.0,\\\"blocking factor\\\":8,\\\"delay factor\\\":8.0},\\\"nameSub\\\":\\\"Data Structures\\\",\\\"id\\\":9,\\\"credits\\\":4,\\\"nameCanonical\\\":\\\"\\\"},{\\\"curriculum_requisites\\\":[{\\\"source_id\\\":1,\\\"target_id\\\":10,\\\"type\\\":\\\"CurriculumPrerequisite\\\"}],\\\"name\\\":\\\"CS 1382\\\",\\\"metrics\\\":{\\\"centrality\\\":14,\\\"complexity\\\":9.0,\\\"blocking factor\\\":4,\\\"delay factor\\\":5.0},\\\"nameSub\\\":\\\"Discrete Computational Structures \\\",\\\"id\\\":10,\\\"credits\\\":3,\\\"nameCanonical\\\":\\\"\\\"},{\\\"curriculum_requisites\\\":[{\\\"source_id\\\":2,\\\"target_id\\\":11,\\\"type\\\":\\\"CurriculumPrerequisite\\\"}],\\\"name\\\":\\\"ECE 2372\\\",\\\"metrics\\\":{\\\"centrality\\\":5,\\\"complexity\\\":8.0,\\\"blocking factor\\\":3,\\\"delay factor\\\":5.0},\\\"nameSub\\\":\\\"Modern Digital System Design \\\",\\\"id\\\":11,\\\"credits\\\":3,\\\"nameCanonical\\\":\\\"\\\"},{\\\"curriculum_requisites\\\":[{\\\"source_id\\\":6,\\\"target_id\\\":12,\\\"type\\\":\\\"CurriculumPrerequisite\\\"}],\\\"name\\\":\\\"MATH 2450\\\",\\\"metrics\\\":{\\\"centrality\\\":7,\\\"complexity\\\":11.0,\\\"blocking factor\\\":4,\\\"delay factor\\\":7.0},\\\"nameSub\\\":\\\"Calculus III with Applications \\\",\\\"id\\\":12,\\\"credits\\\":4,\\\"nameCanonical\\\":\\\"\\\"},{\\\"curriculum_requisites\\\":[{\\\"source_id\\\":7,\\\"target_id\\\":13,\\\"type\\\":\\\"CurriculumPrerequisite\\\"},{\\\"source_id\\\":6,\\\"target_id\\\":13,\\\"type\\\":\\\"CurriculumPrerequisite\\\"}],\\\"name\\\":\\\"PHYS 2401\\\",\\\"metrics\\\":{\\\"centrality\\\":0,\\\"complexity\\\":3.0,\\\"blocking factor\\\":0,\\\"delay factor\\\":3.0},\\\"nameSub\\\":\\\"Principles of Physics II\\\",\\\"id\\\":13,\\\"credits\\\":4,\\\"nameCanonical\\\":\\\"\\\"}],\\\"id\\\":3},{\\\"name\\\":\\\"Term 4\\\",\\\"curriculum_items\\\":[{\\\"curriculum_requisites\\\":[{\\\"source_id\\\":11,\\\"target_id\\\":14,\\\"type\\\":\\\"CurriculumPrerequisite\\\"},{\\\"source_id\\\":5,\\\"target_id\\\":14,\\\"type\\\":\\\"CurriculumPrerequisite\\\"}],\\\"name\\\":\\\"CS 2350\\\",\\\"metrics\\\":{\\\"centrality\\\":11,\\\"complexity\\\":8.0,\\\"blocking factor\\\":2,\\\"delay factor\\\":6.0},\\\"nameSub\\\":\\\"Computer Organization and Assembly Language Programming \\\",\\\"id\\\":14,\\\"credits\\\":3,\\\"nameCanonical\\\":\\\"\\\"},{\\\"curriculum_requisites\\\":[{\\\"source_id\\\":9,\\\"target_id\\\":15,\\\"type\\\":\\\"CurriculumPrerequisite\\\"}],\\\"name\\\":\\\"CS 2365\\\",\\\"metrics\\\":{\\\"centrality\\\":8,\\\"complexity\\\":11.0,\\\"blocking factor\\\":3,\\\"delay factor\\\":8.0},\\\"nameSub\\\":\\\"Object-Oriented Programming\\\",\\\"id\\\":15,\\\"credits\\\":3,\\\"nameCanonical\\\":\\\"\\\"},{\\\"curriculum_requisites\\\":[],\\\"name\\\":\\\"ENGR 2392\\\",\\\"metrics\\\":{\\\"centrality\\\":0,\\\"complexity\\\":1.0,\\\"blocking factor\\\":0,\\\"delay factor\\\":1.0},\\\"nameSub\\\":\\\"Engineering Ethics and Its Impact on Society \\\",\\\"id\\\":16,\\\"credits\\\":3,\\\"nameCanonical\\\":\\\"\\\"},{\\\"curriculum_requisites\\\":[],\\\"name\\\":\\\"POLS 1301\\\",\\\"metrics\\\":{\\\"centrality\\\":0,\\\"complexity\\\":1.0,\\\"blocking factor\\\":0,\\\"delay factor\\\":1.0},\\\"nameSub\\\":\\\"American Government \\\",\\\"id\\\":17,\\\"credits\\\":3,\\\"nameCanonical\\\":\\\"\\\"},{\\\"curriculum_requisites\\\":[{\\\"source_id\\\":6,\\\"target_id\\\":18,\\\"type\\\":\\\"CurriculumPrerequisite\\\"}],\\\"name\\\":\\\"MATH 2360\\\",\\\"metrics\\\":{\\\"centrality\\\":10,\\\"complexity\\\":8.0,\\\"blocking factor\\\":3,\\\"delay factor\\\":5.0},\\\"nameSub\\\":\\\"Linear Algebra \\\",\\\"id\\\":18,\\\"credits\\\":3,\\\"nameCanonical\\\":\\\"\\\"},{\\\"curriculum_requisites\\\":[{\\\"source_id\\\":3,\\\"target_id\\\":19,\\\"type\\\":\\\"CurriculumPrerequisite\\\"},{\\\"source_id\\\":8,\\\"target_id\\\":19,\\\"type\\\":\\\"CurriculumPrerequisite\\\"}],\\\"name\\\":\\\"ENGL 2311\\\",\\\"metrics\\\":{\\\"centrality\\\":0,\\\"complexity\\\":3.0,\\\"blocking factor\\\":0,\\\"delay factor\\\":3.0},\\\"nameSub\\\":\\\"Introduction to Technical Writing\\\",\\\"id\\\":19,\\\"credits\\\":3,\\\"nameCanonical\\\":\\\"\\\"}],\\\"id\\\":4},{\\\"name\\\":\\\"Term 5\\\",\\\"curriculum_items\\\":[{\\\"curriculum_requisites\\\":[{\\\"source_id\\\":9,\\\"target_id\\\":20,\\\"type\\\":\\\"CurriculumPrerequisite\\\"}],\\\"name\\\":\\\"CS 3361\\\",\\\"metrics\\\":{\\\"centrality\\\":0,\\\"complexity\\\":5.0,\\\"blocking factor\\\":0,\\\"delay factor\\\":5.0},\\\"nameSub\\\":\\\"Concepts of Programming Languages\\\",\\\"id\\\":20,\\\"credits\\\":3,\\\"nameCanonical\\\":\\\"\\\"},{\\\"curriculum_requisites\\\":[{\\\"source_id\\\":9,\\\"target_id\\\":21,\\\"type\\\":\\\"CurriculumPrerequisite\\\"},{\\\"source_id\\\":10,\\\"target_id\\\":21,\\\"type\\\":\\\"CurriculumPrerequisite\\\"},{\\\"source_id\\\":18,\\\"target_id\\\":21,\\\"type\\\":\\\"CurriculumPrerequisite\\\"}],\\\"name\\\":\\\"CS 3364\\\",\\\"metrics\\\":{\\\"centrality\\\":32,\\\"complexity\\\":8.0,\\\"blocking factor\\\":2,\\\"delay factor\\\":6.0},\\\"nameSub\\\":\\\"Design and Analysis of Algorithms\\\",\\\"id\\\":21,\\\"credits\\\":3,\\\"nameCanonical\\\":\\\"\\\"},{\\\"curriculum_requisites\\\":[{\\\"source_id\\\":12,\\\"target_id\\\":22,\\\"type\\\":\\\"CurriculumPrerequisite\\\"}],\\\"name\\\":\\\"MATH 3342\\\",\\\"metrics\\\":{\\\"centrality\\\":7,\\\"complexity\\\":10.0,\\\"blocking factor\\\":3,\\\"delay factor\\\":7.0},\\\"nameSub\\\":\\\"Mathematical Statistics for Engineers and Scientists\\\",\\\"id\\\":22,\\\"credits\\\":3,\\\"nameCanonical\\\":\\\"\\\"},{\\\"curriculum_requisites\\\":[],\\\"name\\\":\\\" \\\",\\\"metrics\\\":{\\\"centrality\\\":0,\\\"complexity\\\":1.0,\\\"blocking factor\\\":0,\\\"delay factor\\\":1.0},\\\"nameSub\\\":\\\"Elective (core curriculum)\\\",\\\"id\\\":23,\\\"credits\\\":3,\\\"nameCanonical\\\":\\\"\\\"},{\\\"curriculum_requisites\\\":[],\\\"name\\\":\\\"POLS 2306\\\",\\\"metrics\\\":{\\\"centrality\\\":0,\\\"complexity\\\":1.0,\\\"blocking factor\\\":0,\\\"delay factor\\\":1.0},\\\"nameSub\\\":\\\"Texas Politics and Topics\\\",\\\"id\\\":24,\\\"credits\\\":3,\\\"nameCanonical\\\":\\\"\\\"}],\\\"id\\\":5},{\\\"name\\\":\\\"Term 6\\\",\\\"curriculum_items\\\":[{\\\"curriculum_requisites\\\":[{\\\"source_id\\\":15,\\\"target_id\\\":25,\\\"type\\\":\\\"CurriculumPrerequisite\\\"},{\\\"source_id\\\":22,\\\"target_id\\\":25,\\\"type\\\":\\\"CurriculumPrerequisite\\\"}],\\\"name\\\":\\\"CS 3365\\\",\\\"metrics\\\":{\\\"centrality\\\":15,\\\"complexity\\\":10.0,\\\"blocking factor\\\":2,\\\"delay factor\\\":8.0},\\\"nameSub\\\":\\\"Software Engineering I\\\",\\\"id\\\":25,\\\"credits\\\":3,\\\"nameCanonical\\\":\\\"\\\"},{\\\"curriculum_requisites\\\":[{\\\"source_id\\\":14,\\\"target_id\\\":26,\\\"type\\\":\\\"CurriculumPrerequisite\\\"}],\\\"name\\\":\\\"CS 3375\\\",\\\"metrics\\\":{\\\"centrality\\\":11,\\\"complexity\\\":7.0,\\\"blocking factor\\\":1,\\\"delay factor\\\":6.0},\\\"nameSub\\\":\\\"Computer Architecture \\\",\\\"id\\\":26,\\\"credits\\\":3,\\\"nameCanonical\\\":\\\"\\\"},{\\\"curriculum_requisites\\\":[{\\\"source_id\\\":10,\\\"target_id\\\":27,\\\"type\\\":\\\"CurriculumPrerequisite\\\"}],\\\"name\\\":\\\"CS 3383\\\",\\\"metrics\\\":{\\\"centrality\\\":0,\\\"complexity\\\":4.0,\\\"blocking factor\\\":0,\\\"delay factor\\\":4.0},\\\"nameSub\\\":\\\"Theory of Automata\\\",\\\"id\\\":27,\\\"credits\\\":3,\\\"nameCanonical\\\":\\\"\\\"},{\\\"curriculum_requisites\\\":[],\\\"name\\\":\\\" \\\",\\\"metrics\\\":{\\\"centrality\\\":0,\\\"complexity\\\":1.0,\\\"blocking factor\\\":0,\\\"delay factor\\\":1.0},\\\"nameSub\\\":\\\"Elective (CS)\\\",\\\"id\\\":28,\\\"credits\\\":3,\\\"nameCanonical\\\":\\\"\\\"},{\\\"curriculum_requisites\\\":[],\\\"name\\\":\\\" \\\",\\\"metrics\\\":{\\\"centrality\\\":0,\\\"complexity\\\":1.0,\\\"blocking factor\\\":0,\\\"delay factor\\\":1.0},\\\"nameSub\\\":\\\"Elective (core curriculum)\\\",\\\"id\\\":29,\\\"credits\\\":3,\\\"nameCanonical\\\":\\\"\\\"}],\\\"id\\\":6},{\\\"name\\\":\\\"Term 7\\\",\\\"curriculum_items\\\":[{\\\"curriculum_requisites\\\":[{\\\"source_id\\\":25,\\\"target_id\\\":30,\\\"type\\\":\\\"CurriculumPrerequisite\\\"}],\\\"name\\\":\\\"CS 4365\\\",\\\"metrics\\\":{\\\"centrality\\\":15,\\\"complexity\\\":9.0,\\\"blocking factor\\\":1,\\\"delay factor\\\":8.0},\\\"nameSub\\\":\\\"Software Engineering II \\\",\\\"id\\\":30,\\\"credits\\\":3,\\\"nameCanonical\\\":\\\"\\\"},{\\\"curriculum_requisites\\\":[{\\\"source_id\\\":26,\\\"target_id\\\":31,\\\"type\\\":\\\"CurriculumPrerequisite\\\"},{\\\"source_id\\\":21,\\\"target_id\\\":31,\\\"type\\\":\\\"CurriculumPrerequisite\\\"}],\\\"name\\\":\\\"CS 4352\\\",\\\"metrics\\\":{\\\"centrality\\\":0,\\\"complexity\\\":6.0,\\\"blocking factor\\\":0,\\\"delay factor\\\":6.0},\\\"nameSub\\\":\\\"Operating Systems \\\",\\\"id\\\":31,\\\"credits\\\":3,\\\"nameCanonical\\\":\\\"\\\"},{\\\"curriculum_requisites\\\":[{\\\"source_id\\\":21,\\\"target_id\\\":32,\\\"type\\\":\\\"CurriculumPrerequisite\\\"}],\\\"name\\\":\\\"CS 4354\\\",\\\"metrics\\\":{\\\"centrality\\\":0,\\\"complexity\\\":6.0,\\\"blocking factor\\\":0,\\\"delay factor\\\":6.0},\\\"nameSub\\\":\\\"Concepts of Database Systems\\\",\\\"id\\\":32,\\\"credits\\\":3,\\\"nameCanonical\\\":\\\"\\\"},{\\\"curriculum_requisites\\\":[],\\\"name\\\":\\\" \\\",\\\"metrics\\\":{\\\"centrality\\\":0,\\\"complexity\\\":1.0,\\\"blocking factor\\\":0,\\\"delay factor\\\":1.0},\\\"nameSub\\\":\\\"Elective (CS)\\\",\\\"id\\\":33,\\\"credits\\\":3,\\\"nameCanonical\\\":\\\"\\\"},{\\\"curriculum_requisites\\\":[],\\\"name\\\":\\\" \\\",\\\"metrics\\\":{\\\"centrality\\\":0,\\\"complexity\\\":1.0,\\\"blocking factor\\\":0,\\\"delay factor\\\":1.0},\\\"nameSub\\\":\\\"Elective (Core Curriculum)\\\",\\\"id\\\":34,\\\"credits\\\":3,\\\"nameCanonical\\\":\\\"\\\"}],\\\"id\\\":7},{\\\"name\\\":\\\"Term 8\\\",\\\"curriculum_items\\\":[{\\\"curriculum_requisites\\\":[{\\\"source_id\\\":30,\\\"target_id\\\":35,\\\"type\\\":\\\"CurriculumPrerequisite\\\"}],\\\"name\\\":\\\"CS 4366\\\",\\\"metrics\\\":{\\\"centrality\\\":0,\\\"complexity\\\":8.0,\\\"blocking factor\\\":0,\\\"delay factor\\\":8.0},\\\"nameSub\\\":\\\"Senior Capstone Project \\\",\\\"id\\\":35,\\\"credits\\\":3,\\\"nameCanonical\\\":\\\"\\\"},{\\\"curriculum_requisites\\\":[],\\\"name\\\":\\\" \\\",\\\"metrics\\\":{\\\"centrality\\\":0,\\\"complexity\\\":1.0,\\\"blocking factor\\\":0,\\\"delay factor\\\":1.0},\\\"nameSub\\\":\\\"Elective (CS)\\\",\\\"id\\\":36,\\\"credits\\\":3,\\\"nameCanonical\\\":\\\"\\\"},{\\\"curriculum_requisites\\\":[],\\\"name\\\":\\\" \\\",\\\"metrics\\\":{\\\"centrality\\\":0,\\\"complexity\\\":1.0,\\\"blocking factor\\\":0,\\\"delay factor\\\":1.0},\\\"nameSub\\\":\\\"Elective (CS)\\\",\\\"id\\\":37,\\\"credits\\\":3,\\\"nameCanonical\\\":\\\"\\\"},{\\\"curriculum_requisites\\\":[],\\\"name\\\":\\\" \\\",\\\"metrics\\\":{\\\"centrality\\\":0,\\\"complexity\\\":1.0,\\\"blocking factor\\\":0,\\\"delay factor\\\":1.0},\\\"nameSub\\\":\\\"Elective (Core Curriculum)\\\",\\\"id\\\":38,\\\"credits\\\":3,\\\"nameCanonical\\\":\\\"\\\"},{\\\"curriculum_requisites\\\":[],\\\"name\\\":\\\" \\\",\\\"metrics\\\":{\\\"centrality\\\":0,\\\"complexity\\\":1.0,\\\"blocking factor\\\":0,\\\"delay factor\\\":1.0},\\\"nameSub\\\":\\\"Elective (Core Curriculum)\\\",\\\"id\\\":39,\\\"credits\\\":3,\\\"nameCanonical\\\":\\\"\\\"}],\\\"id\\\":8}],\\\"institution\\\":\\\"Texas Tech University\\\"}},\\\"*\\\"); window.removeEventListener(\\\"message\\\",window.messageReceived); window.messageReceived=(function (event){return (event.data.curriculum!==undefined) ? (WebIO.setval({\\\"name\\\":\\\"curriculum-data\\\",\\\"scope\\\":\\\"11632882449496751631\\\",\\\"id\\\":\\\"1482326284138943730\\\",\\\"type\\\":\\\"observable\\\"},event.data.curriculum)) : undefined}); return window.addEventListener(\\\"message\\\",window.messageReceived)})\"},\"style\":{\"padding\":\"0\",\"height\":\"100vh\",\"margin\":\"0\",\"border\":\"none\",\"width\":\"100%\"}},\"nodeType\":\"DOM\",\"type\":\"node\",\"instanceArgs\":{\"namespace\":\"html\",\"tag\":\"iframe\"},\"children\":[\"\"]}]},\n",
       "            window,\n",
       "        );\n",
       "    } else {\n",
       "        document\n",
       "            .querySelector('[data-webio-mountpoint=\"16216456183962579943\"]')\n",
       "            .innerHTML = (\n",
       "                '<div style=\"padding: 1em; background-color: #f8d6da; border: 1px solid #f5c6cb\">' +\n",
       "                '<p><strong>WebIO not detected.</strong></p>' +\n",
       "                '<p>Please read ' +\n",
       "                '<a href=\"https://juliagizmos.github.io/WebIO.jl/latest/troubleshooting/not-detected/\" target=\"_blank\">the troubleshooting guide</a> ' +\n",
       "                'for more information on how to resolve this issue.</p>' +\n",
       "                '<p><a href=\"https://juliagizmos.github.io/WebIO.jl/latest/troubleshooting/not-detected/\" target=\"_blank\">https://juliagizmos.github.io/WebIO.jl/latest/troubleshooting/not-detected/</a></p>' +\n",
       "                '</div>'\n",
       "            );\n",
       "    }\n",
       "    </script>\n",
       "</div>\n"
      ],
      "text/plain": [
       "WebIO.Scope(WebIO.Node{WebIO.DOM}(WebIO.DOM(:html, :iframe), Any[\"\"], Dict{Symbol,Any}(:src => \"http://localhost:8156\",:id => \"curriculum\",:events => Dict{Symbol,WebIO.JSString}(:load => WebIO.JSString(\"(function (){this.contentWindow.postMessage({\\\"options\\\":{\\\"hideTerms\\\":false,\\\"edit\\\":false},\\\"curriculum\\\":{\\\"name\\\":\\\"Computer Science\\\",\\\"dp_name\\\":\\\"Computer Science\\\",\\\"curriculum_terms\\\":[{\\\"name\\\":\\\"Term 1\\\",\\\"curriculum_items\\\":[{\\\"curriculum_requisites\\\":[{\\\"source_id\\\":2,\\\"target_id\\\":1,\\\"type\\\":\\\"CurriculumCorequisite\\\"}],\\\"name\\\":\\\"CS 1411\\\",\\\"metrics\\\":{\\\"centrality\\\":45,\\\"complexity\\\":22.0,\\\"blocking factor\\\":14,\\\"delay factor\\\":8.0},\\\"nameSub\\\":\\\"Programming Principles I \\\",\\\"id\\\":1,\\\"credits\\\":4,\\\"nameCanonical\\\":\\\"\\\"},{\\\"curriculum_requisites\\\":[],\\\"name\\\":\\\"MATH 1451\\\",\\\"metrics\\\":{\\\"centrality\\\":0,\\\"complexity\\\":30.0,\\\"blocking factor\\\":22,\\\"delay factor\\\":8.0},\\\"nameSub\\\":\\\"Calculus I with Applications\\\",\\\"id\\\":2,\\\"credits\\\":4,\\\"nameCanonical\\\":\\\"\\\"},{\\\"curriculum_requisites\\\":[],\\\"name\\\":\\\"ENGL 1301\\\",\\\"metrics\\\":{\\\"centrality\\\":0,\\\"complexity\\\":5.0,\\\"blocking factor\\\":2,\\\"delay factor\\\":3.0},\\\"nameSub\\\":\\\"Essentials of College Rhetoric\\\",\\\"id\\\":3,\\\"credits\\\":3,\\\"nameCanonical\\\":\\\"\\\"},{\\\"curriculum_requisites\\\":[],\\\"name\\\":\\\" \\\",\\\"metrics\\\":{\\\"centrality\\\":0,\\\"complexity\\\":1.0,\\\"blocking factor\\\":0,\\\"delay factor\\\":1.0},\\\"nameSub\\\":\\\"Life and Physical Sciences\\\",\\\"id\\\":4,\\\"credits\\\":4,\\\"nameCanonical\\\":\\\"\\\"}],\\\"id\\\":1},{\\\"name\\\":\\\"Term 2\\\",\\\"curriculum_items\\\":[{\\\"curriculum_requisites\\\":[{\\\"source_id\\\":1,\\\"target_id\\\":5,\\\"type\\\":\\\"CurriculumPrerequisite\\\"}],\\\"name\\\":\\\"CS 1412\\\",\\\"metrics\\\":{\\\"centrality\\\":31,\\\"complexity\\\":19.0,\\\"blocking factor\\\":11,\\\"delay factor\\\":8.0},\\\"nameSub\\\":\\\"Programming Principles II \\\",\\\"id\\\":5,\\\"credits\\\":4,\\\"nameCanonical\\\":\\\"\\\"},{\\\"curriculum_requisites\\\":[{\\\"source_id\\\":2,\\\"target_id\\\":6,\\\"type\\\":\\\"CurriculumPrerequisite\\\"}],\\\"name\\\":\\\"MATH 1452\\\",\\\"metrics\\\":{\\\"centrality\\\":20,\\\"complexity\\\":17.0,\\\"blocking factor\\\":10,\\\"delay factor\\\":7.0},\\\"nameSub\\\":\\\"Calculus II with Applications\\\",\\\"id\\\":6,\\\"credits\\\":4,\\\"nameCanonical\\\":\\\"\\\"},{\\\"curriculum_requisites\\\":[{\\\"source_id\\\":2,\\\"target_id\\\":7,\\\"type\\\":\\\"CurriculumPrerequisite\\\"}],\\\"name\\\":\\\"PHYS 1408\\\",\\\"metrics\\\":{\\\"centrality\\\":3,\\\"complexity\\\":4.0,\\\"blocking factor\\\":1,\\\"delay factor\\\":3.0},\\\"nameSub\\\":\\\"Principles of Physics I\\\",\\\"id\\\":7,\\\"credits\\\":4,\\\"nameCanonical\\\":\\\"\\\"},{\\\"curriculum_requisites\\\":[{\\\"source_id\\\":3,\\\"target_id\\\":8,\\\"type\\\":\\\"CurriculumPrerequisite\\\"}],\\\"name\\\":\\\"ENGL 1302\\\",\\\"metrics\\\":{\\\"centrality\\\":3,\\\"complexity\\\":4.0,\\\"blocking factor\\\":1,\\\"delay factor\\\":3.0},\\\"nameSub\\\":\\\"Advanced College Rhetoric \\\",\\\"id\\\":8,\\\"credits\\\":3,\\\"nameCanonical\\\":\\\"\\\"}],\\\"id\\\":2},{\\\"name\\\":\\\"Term 3\\\",\\\"curriculum_items\\\":[{\\\"curriculum_requisites\\\":[{\\\"source_id\\\":5,\\\"target_id\\\":9,\\\"type\\\":\\\"CurriculumPrerequisite\\\"}],\\\"name\\\":\\\"CS 2413\\\",\\\"metrics\\\":{\\\"centrality\\\":25,\\\"complexity\\\":16.0,\\\"blocking factor\\\":8,\\\"delay factor\\\":8.0},\\\"nameSub\\\":\\\"Data Structures\\\",\\\"id\\\":9,\\\"credits\\\":4,\\\"nameCanonical\\\":\\\"\\\"},{\\\"curriculum_requisites\\\":[{\\\"source_id\\\":1,\\\"target_id\\\":10,\\\"type\\\":\\\"CurriculumPrerequisite\\\"}],\\\"name\\\":\\\"CS 1382\\\",\\\"metrics\\\":{\\\"centrality\\\":14,\\\"complexity\\\":9.0,\\\"blocking factor\\\":4,\\\"delay factor\\\":5.0},\\\"nameSub\\\":\\\"Discrete Computational Structures \\\",\\\"id\\\":10,\\\"credits\\\":3,\\\"nameCanonical\\\":\\\"\\\"},{\\\"curriculum_requisites\\\":[{\\\"source_id\\\":2,\\\"target_id\\\":11,\\\"type\\\":\\\"CurriculumPrerequisite\\\"}],\\\"name\\\":\\\"ECE 2372\\\",\\\"metrics\\\":{\\\"centrality\\\":5,\\\"complexity\\\":8.0,\\\"blocking factor\\\":3,\\\"delay factor\\\":5.0},\\\"nameSub\\\":\\\"Modern Digital System Design \\\",\\\"id\\\":11,\\\"credits\\\":3,\\\"nameCanonical\\\":\\\"\\\"},{\\\"curriculum_requisites\\\":[{\\\"source_id\\\":6,\\\"target_id\\\":12,\\\"type\\\":\\\"CurriculumPrerequisite\\\"}],\\\"name\\\":\\\"MATH 2450\\\",\\\"metrics\\\":{\\\"centrality\\\":7,\\\"complexity\\\":11.0,\\\"blocking factor\\\":4,\\\"delay factor\\\":7.0},\\\"nameSub\\\":\\\"Calculus III with Applications \\\",\\\"id\\\":12,\\\"credits\\\":4,\\\"nameCanonical\\\":\\\"\\\"},{\\\"curriculum_requisites\\\":[{\\\"source_id\\\":7,\\\"target_id\\\":13,\\\"type\\\":\\\"CurriculumPrerequisite\\\"},{\\\"source_id\\\":6,\\\"target_id\\\":13,\\\"type\\\":\\\"CurriculumPrerequisite\\\"}],\\\"name\\\":\\\"PHYS 2401\\\",\\\"metrics\\\":{\\\"centrality\\\":0,\\\"complexity\\\":3.0,\\\"blocking factor\\\":0,\\\"delay factor\\\":3.0},\\\"nameSub\\\":\\\"Principles of Physics II\\\",\\\"id\\\":13,\\\"credits\\\":4,\\\"nameCanonical\\\":\\\"\\\"}],\\\"id\\\":3},{\\\"name\\\":\\\"Term 4\\\",\\\"curriculum_items\\\":[{\\\"curriculum_requisites\\\":[{\\\"source_id\\\":11,\\\"target_id\\\":14,\\\"type\\\":\\\"CurriculumPrerequisite\\\"},{\\\"source_id\\\":5,\\\"target_id\\\":14,\\\"type\\\":\\\"CurriculumPrerequisite\\\"}],\\\"name\\\":\\\"CS 2350\\\",\\\"metrics\\\":{\\\"centrality\\\":11,\\\"complexity\\\":8.0,\\\"blocking factor\\\":2,\\\"delay factor\\\":6.0},\\\"nameSub\\\":\\\"Computer Organization and Assembly Language Programming \\\",\\\"id\\\":14,\\\"credits\\\":3,\\\"nameCanonical\\\":\\\"\\\"},{\\\"curriculum_requisites\\\":[{\\\"source_id\\\":9,\\\"target_id\\\":15,\\\"type\\\":\\\"CurriculumPrerequisite\\\"}],\\\"name\\\":\\\"CS 2365\\\",\\\"metrics\\\":{\\\"centrality\\\":8,\\\"complexity\\\":11.0,\\\"blocking factor\\\":3,\\\"delay factor\\\":8.0},\\\"nameSub\\\":\\\"Object-Oriented Programming\\\",\\\"id\\\":15,\\\"credits\\\":3,\\\"nameCanonical\\\":\\\"\\\"},{\\\"curriculum_requisites\\\":[],\\\"name\\\":\\\"ENGR 2392\\\",\\\"metrics\\\":{\\\"centrality\\\":0,\\\"complexity\\\":1.0,\\\"blocking factor\\\":0,\\\"delay factor\\\":1.0},\\\"nameSub\\\":\\\"Engineering Ethics and Its Impact on Society \\\",\\\"id\\\":16,\\\"credits\\\":3,\\\"nameCanonical\\\":\\\"\\\"},{\\\"curriculum_requisites\\\":[],\\\"name\\\":\\\"POLS 1301\\\",\\\"metrics\\\":{\\\"centrality\\\":0,\\\"complexity\\\":1.0,\\\"blocking factor\\\":0,\\\"delay factor\\\":1.0},\\\"nameSub\\\":\\\"American Government \\\",\\\"id\\\":17,\\\"credits\\\":3,\\\"nameCanonical\\\":\\\"\\\"},{\\\"curriculum_requisites\\\":[{\\\"source_id\\\":6,\\\"target_id\\\":18,\\\"type\\\":\\\"CurriculumPrerequisite\\\"}],\\\"name\\\":\\\"MATH 2360\\\",\\\"metrics\\\":{\\\"centrality\\\":10,\\\"complexity\\\":8.0,\\\"blocking factor\\\":3,\\\"delay factor\\\":5.0},\\\"nameSub\\\":\\\"Linear Algebra \\\",\\\"id\\\":18,\\\"credits\\\":3,\\\"nameCanonical\\\":\\\"\\\"},{\\\"curriculum_requisites\\\":[{\\\"source_id\\\":3,\\\"target_id\\\":19,\\\"type\\\":\\\"CurriculumPrerequisite\\\"},{\\\"source_id\\\":8,\\\"target_id\\\":19,\\\"type\\\":\\\"CurriculumPrerequisite\\\"}],\\\"name\\\":\\\"ENGL 2311\\\",\\\"metrics\\\":{\\\"centrality\\\":0,\\\"complexity\\\":3.0,\\\"blocking factor\\\":0,\\\"delay factor\\\":3.0},\\\"nameSub\\\":\\\"Introduction to Technical Writing\\\",\\\"id\\\":19,\\\"credits\\\":3,\\\"nameCanonical\\\":\\\"\\\"}],\\\"id\\\":4},{\\\"name\\\":\\\"Term 5\\\",\\\"curriculum_items\\\":[{\\\"curriculum_requisites\\\":[{\\\"source_id\\\":9,\\\"target_id\\\":20,\\\"type\\\":\\\"CurriculumPrerequisite\\\"}],\\\"name\\\":\\\"CS 3361\\\",\\\"metrics\\\":{\\\"centrality\\\":0,\\\"complexity\\\":5.0,\\\"blocking factor\\\":0,\\\"delay factor\\\":5.0},\\\"nameSub\\\":\\\"Concepts of Programming Languages\\\",\\\"id\\\":20,\\\"credits\\\":3,\\\"nameCanonical\\\":\\\"\\\"},{\\\"curriculum_requisites\\\":[{\\\"source_id\\\":9,\\\"target_id\\\":21,\\\"type\\\":\\\"CurriculumPrerequisite\\\"},{\\\"source_id\\\":10,\\\"target_id\\\":21,\\\"type\\\":\\\"CurriculumPrerequisite\\\"},{\\\"source_id\\\":18,\\\"target_id\\\":21,\\\"type\\\":\\\"CurriculumPrerequisite\\\"}],\\\"name\\\":\\\"CS 3364\\\",\\\"metrics\\\":{\\\"centrality\\\":32,\\\"complexity\\\":8.0,\\\"blocking factor\\\":2,\\\"delay factor\\\":6.0},\\\"nameSub\\\":\\\"Design and Analysis of Algorithms\\\",\\\"id\\\":21,\\\"credits\\\":3,\\\"nameCanonical\\\":\\\"\\\"},{\\\"curriculum_requisites\\\":[{\\\"source_id\\\":12,\\\"target_id\\\":22,\\\"type\\\":\\\"CurriculumPrerequisite\\\"}],\\\"name\\\":\\\"MATH 3342\\\",\\\"metrics\\\":{\\\"centrality\\\":7,\\\"complexity\\\":10.0,\\\"blocking factor\\\":3,\\\"delay factor\\\":7.0},\\\"nameSub\\\":\\\"Mathematical Statistics for Engineers and Scientists\\\",\\\"id\\\":22,\\\"credits\\\":3,\\\"nameCanonical\\\":\\\"\\\"},{\\\"curriculum_requisites\\\":[],\\\"name\\\":\\\" \\\",\\\"metrics\\\":{\\\"centrality\\\":0,\\\"complexity\\\":1.0,\\\"blocking factor\\\":0,\\\"delay factor\\\":1.0},\\\"nameSub\\\":\\\"Elective (core curriculum)\\\",\\\"id\\\":23,\\\"credits\\\":3,\\\"nameCanonical\\\":\\\"\\\"},{\\\"curriculum_requisites\\\":[],\\\"name\\\":\\\"POLS 2306\\\",\\\"metrics\\\":{\\\"centrality\\\":0,\\\"complexity\\\":1.0,\\\"blocking factor\\\":0,\\\"delay factor\\\":1.0},\\\"nameSub\\\":\\\"Texas Politics and Topics\\\",\\\"id\\\":24,\\\"credits\\\":3,\\\"nameCanonical\\\":\\\"\\\"}],\\\"id\\\":5},{\\\"name\\\":\\\"Term 6\\\",\\\"curriculum_items\\\":[{\\\"curriculum_requisites\\\":[{\\\"source_id\\\":15,\\\"target_id\\\":25,\\\"type\\\":\\\"CurriculumPrerequisite\\\"},{\\\"source_id\\\":22,\\\"target_id\\\":25,\\\"type\\\":\\\"CurriculumPrerequisite\\\"}],\\\"name\\\":\\\"CS 3365\\\",\\\"metrics\\\":{\\\"centrality\\\":15,\\\"complexity\\\":10.0,\\\"blocking factor\\\":2,\\\"delay factor\\\":8.0},\\\"nameSub\\\":\\\"Software Engineering I\\\",\\\"id\\\":25,\\\"credits\\\":3,\\\"nameCanonical\\\":\\\"\\\"},{\\\"curriculum_requisites\\\":[{\\\"source_id\\\":14,\\\"target_id\\\":26,\\\"type\\\":\\\"CurriculumPrerequisite\\\"}],\\\"name\\\":\\\"CS 3375\\\",\\\"metrics\\\":{\\\"centrality\\\":11,\\\"complexity\\\":7.0,\\\"blocking factor\\\":1,\\\"delay factor\\\":6.0},\\\"nameSub\\\":\\\"Computer Architecture \\\",\\\"id\\\":26,\\\"credits\\\":3,\\\"nameCanonical\\\":\\\"\\\"},{\\\"curriculum_requisites\\\":[{\\\"source_id\\\":10,\\\"target_id\\\":27,\\\"type\\\":\\\"CurriculumPrerequisite\\\"}],\\\"name\\\":\\\"CS 3383\\\",\\\"metrics\\\":{\\\"centrality\\\":0,\\\"complexity\\\":4.0,\\\"blocking factor\\\":0,\\\"delay factor\\\":4.0},\\\"nameSub\\\":\\\"Theory of Automata\\\",\\\"id\\\":27,\\\"credits\\\":3,\\\"nameCanonical\\\":\\\"\\\"},{\\\"curriculum_requisites\\\":[],\\\"name\\\":\\\" \\\",\\\"metrics\\\":{\\\"centrality\\\":0,\\\"complexity\\\":1.0,\\\"blocking factor\\\":0,\\\"delay factor\\\":1.0},\\\"nameSub\\\":\\\"Elective (CS)\\\",\\\"id\\\":28,\\\"credits\\\":3,\\\"nameCanonical\\\":\\\"\\\"},{\\\"curriculum_requisites\\\":[],\\\"name\\\":\\\" \\\",\\\"metrics\\\":{\\\"centrality\\\":0,\\\"complexity\\\":1.0,\\\"blocking factor\\\":0,\\\"delay factor\\\":1.0},\\\"nameSub\\\":\\\"Elective (core curriculum)\\\",\\\"id\\\":29,\\\"credits\\\":3,\\\"nameCanonical\\\":\\\"\\\"}],\\\"id\\\":6},{\\\"name\\\":\\\"Term 7\\\",\\\"curriculum_items\\\":[{\\\"curriculum_requisites\\\":[{\\\"source_id\\\":25,\\\"target_id\\\":30,\\\"type\\\":\\\"CurriculumPrerequisite\\\"}],\\\"name\\\":\\\"CS 4365\\\",\\\"metrics\\\":{\\\"centrality\\\":15,\\\"complexity\\\":9.0,\\\"blocking factor\\\":1,\\\"delay factor\\\":8.0},\\\"nameSub\\\":\\\"Software Engineering II \\\",\\\"id\\\":30,\\\"credits\\\":3,\\\"nameCanonical\\\":\\\"\\\"},{\\\"curriculum_requisites\\\":[{\\\"source_id\\\":26,\\\"target_id\\\":31,\\\"type\\\":\\\"CurriculumPrerequisite\\\"},{\\\"source_id\\\":21,\\\"target_id\\\":31,\\\"type\\\":\\\"CurriculumPrerequisite\\\"}],\\\"name\\\":\\\"CS 4352\\\",\\\"metrics\\\":{\\\"centrality\\\":0,\\\"complexity\\\":6.0,\\\"blocking factor\\\":0,\\\"delay factor\\\":6.0},\\\"nameSub\\\":\\\"Operating Systems \\\",\\\"id\\\":31,\\\"credits\\\":3,\\\"nameCanonical\\\":\\\"\\\"},{\\\"curriculum_requisites\\\":[{\\\"source_id\\\":21,\\\"target_id\\\":32,\\\"type\\\":\\\"CurriculumPrerequisite\\\"}],\\\"name\\\":\\\"CS 4354\\\",\\\"metrics\\\":{\\\"centrality\\\":0,\\\"complexity\\\":6.0,\\\"blocking factor\\\":0,\\\"delay factor\\\":6.0},\\\"nameSub\\\":\\\"Concepts of Database Systems\\\",\\\"id\\\":32,\\\"credits\\\":3,\\\"nameCanonical\\\":\\\"\\\"},{\\\"curriculum_requisites\\\":[],\\\"name\\\":\\\" \\\",\\\"metrics\\\":{\\\"centrality\\\":0,\\\"complexity\\\":1.0,\\\"blocking factor\\\":0,\\\"delay factor\\\":1.0},\\\"nameSub\\\":\\\"Elective (CS)\\\",\\\"id\\\":33,\\\"credits\\\":3,\\\"nameCanonical\\\":\\\"\\\"},{\\\"curriculum_requisites\\\":[],\\\"name\\\":\\\" \\\",\\\"metrics\\\":{\\\"centrality\\\":0,\\\"complexity\\\":1.0,\\\"blocking factor\\\":0,\\\"delay factor\\\":1.0},\\\"nameSub\\\":\\\"Elective (Core Curriculum)\\\",\\\"id\\\":34,\\\"credits\\\":3,\\\"nameCanonical\\\":\\\"\\\"}],\\\"id\\\":7},{\\\"name\\\":\\\"Term 8\\\",\\\"curriculum_items\\\":[{\\\"curriculum_requisites\\\":[{\\\"source_id\\\":30,\\\"target_id\\\":35,\\\"type\\\":\\\"CurriculumPrerequisite\\\"}],\\\"name\\\":\\\"CS 4366\\\",\\\"metrics\\\":{\\\"centrality\\\":0,\\\"complexity\\\":8.0,\\\"blocking factor\\\":0,\\\"delay factor\\\":8.0},\\\"nameSub\\\":\\\"Senior Capstone Project \\\",\\\"id\\\":35,\\\"credits\\\":3,\\\"nameCanonical\\\":\\\"\\\"},{\\\"curriculum_requisites\\\":[],\\\"name\\\":\\\" \\\",\\\"metrics\\\":{\\\"centrality\\\":0,\\\"complexity\\\":1.0,\\\"blocking factor\\\":0,\\\"delay factor\\\":1.0},\\\"nameSub\\\":\\\"Elective (CS)\\\",\\\"id\\\":36,\\\"credits\\\":3,\\\"nameCanonical\\\":\\\"\\\"},{\\\"curriculum_requisites\\\":[],\\\"name\\\":\\\" \\\",\\\"metrics\\\":{\\\"centrality\\\":0,\\\"complexity\\\":1.0,\\\"blocking factor\\\":0,\\\"delay factor\\\":1.0},\\\"nameSub\\\":\\\"Elective (CS)\\\",\\\"id\\\":37,\\\"credits\\\":3,\\\"nameCanonical\\\":\\\"\\\"},{\\\"curriculum_requisites\\\":[],\\\"name\\\":\\\" \\\",\\\"metrics\\\":{\\\"centrality\\\":0,\\\"complexity\\\":1.0,\\\"blocking factor\\\":0,\\\"delay factor\\\":1.0},\\\"nameSub\\\":\\\"Elective (Core Curriculum)\\\",\\\"id\\\":38,\\\"credits\\\":3,\\\"nameCanonical\\\":\\\"\\\"},{\\\"curriculum_requisites\\\":[],\\\"name\\\":\\\" \\\",\\\"metrics\\\":{\\\"centrality\\\":0,\\\"complexity\\\":1.0,\\\"blocking factor\\\":0,\\\"delay factor\\\":1.0},\\\"nameSub\\\":\\\"Elective (Core Curriculum)\\\",\\\"id\\\":39,\\\"credits\\\":3,\\\"nameCanonical\\\":\\\"\\\"}],\\\"id\\\":8}],\\\"institution\\\":\\\"Texas Tech University\\\"}},\\\"*\\\"); window.removeEventListener(\\\"message\\\",window.messageReceived); window.messageReceived=(function (event){return (event.data.curriculum!==undefined) ? (WebIO.setval({\\\"name\\\":\\\"curriculum-data\\\",\\\"scope\\\":\\\"11632882449496751631\\\",\\\"id\\\":\\\"1482326284138943730\\\",\\\"type\\\":\\\"observable\\\"},event.data.curriculum)) : undefined}); return window.addEventListener(\\\"message\\\",window.messageReceived)})\")),:style => Dict(:padding => \"0\",:height => \"100vh\",:margin => \"0\",:border => \"none\",:width => \"100%\"))), Dict{String,Tuple{Observables.AbstractObservable,Union{Nothing, Bool}}}(\"curriculum-data\" => (Observable{Dict{String,Any}} with 1 listeners. Value:\n",
       "Dict{String,Any}(\"options\" => Dict{String,Any}(\"hideTerms\" => false,\"edit\" => false),\"curriculum\" => Dict{String,Any}(\"name\" => \"Computer Science\",\"dp_name\" => \"Computer Science\",\"curriculum_terms\" => Dict{String,Any}[Dict(\"name\" => \"Term 1\",\"curriculum_items\" => Dict{String,Any}[Dict(\"curriculum_requisites\" => Dict{String,Any}[Dict(\"source_id\" => 2,\"target_id\" => 1,\"type\" => \"CurriculumCorequisite\")],\"name\" => \"CS 1411\",\"metrics\" => Dict{String,Any}(\"centrality\" => 45,\"complexity\" => 22.0,\"blocking factor\" => 14,\"delay factor\" => 8.0),\"nameSub\" => \"Programming Principles I \",\"id\" => 1,\"credits\" => 4,\"nameCanonical\" => \"\"), Dict(\"curriculum_requisites\" => Dict{String,Any}[],\"name\" => \"MATH 1451\",\"metrics\" => Dict{String,Any}(\"centrality\" => 0,\"complexity\" => 30.0,\"blocking factor\" => 22,\"delay factor\" => 8.0),\"nameSub\" => \"Calculus I with Applications\",\"id\" => 2,\"credits\" => 4,\"nameCanonical\" => \"\"), Dict(\"curriculum_requisites\" => Dict{String,Any}[],\"name\" => \"ENGL 1301\",\"metrics\" => Dict{String,Any}(\"centrality\" => 0,\"complexity\" => 5.0,\"blocking factor\" => 2,\"delay factor\" => 3.0),\"nameSub\" => \"Essentials of College Rhetoric\",\"id\" => 3,\"credits\" => 3,\"nameCanonical\" => \"\"), Dict(\"curriculum_requisites\" => Dict{String,Any}[],\"name\" => \" \",\"metrics\" => Dict{String,Any}(\"centrality\" => 0,\"complexity\" => 1.0,\"blocking factor\" => 0,\"delay factor\" => 1.0),\"nameSub\" => \"Life and Physical Sciences\",\"id\" => 4,\"credits\" => 4,\"nameCanonical\" => \"\")],\"id\" => 1), Dict(\"name\" => \"Term 2\",\"curriculum_items\" => Dict{String,Any}[Dict(\"curriculum_requisites\" => Dict{String,Any}[Dict(\"source_id\" => 1,\"target_id\" => 5,\"type\" => \"CurriculumPrerequisite\")],\"name\" => \"CS 1412\",\"metrics\" => Dict{String,Any}(\"centrality\" => 31,\"complexity\" => 19.0,\"blocking factor\" => 11,\"delay factor\" => 8.0),\"nameSub\" => \"Programming Principles II \",\"id\" => 5,\"credits\" => 4,\"nameCanonical\" => \"\"), Dict(\"curriculum_requisites\" => Dict{String,Any}[Dict(\"source_id\" => 2,\"target_id\" => 6,\"type\" => \"CurriculumPrerequisite\")],\"name\" => \"MATH 1452\",\"metrics\" => Dict{String,Any}(\"centrality\" => 20,\"complexity\" => 17.0,\"blocking factor\" => 10,\"delay factor\" => 7.0),\"nameSub\" => \"Calculus II with Applications\",\"id\" => 6,\"credits\" => 4,\"nameCanonical\" => \"\"), Dict(\"curriculum_requisites\" => Dict{String,Any}[Dict(\"source_id\" => 2,\"target_id\" => 7,\"type\" => \"CurriculumPrerequisite\")],\"name\" => \"PHYS 1408\",\"metrics\" => Dict{String,Any}(\"centrality\" => 3,\"complexity\" => 4.0,\"blocking factor\" => 1,\"delay factor\" => 3.0),\"nameSub\" => \"Principles of Physics I\",\"id\" => 7,\"credits\" => 4,\"nameCanonical\" => \"\"), Dict(\"curriculum_requisites\" => Dict{String,Any}[Dict(\"source_id\" => 3,\"target_id\" => 8,\"type\" => \"CurriculumPrerequisite\")],\"name\" => \"ENGL 1302\",\"metrics\" => Dict{String,Any}(\"centrality\" => 3,\"complexity\" => 4.0,\"blocking factor\" => 1,\"delay factor\" => 3.0),\"nameSub\" => \"Advanced College Rhetoric \",\"id\" => 8,\"credits\" => 3,\"nameCanonical\" => \"\")],\"id\" => 2), Dict(\"name\" => \"Term 3\",\"curriculum_items\" => Dict{String,Any}[Dict(\"curriculum_requisites\" => Dict{String,Any}[Dict(\"source_id\" => 5,\"target_id\" => 9,\"type\" => \"CurriculumPrerequisite\")],\"name\" => \"CS 2413\",\"metrics\" => Dict{String,Any}(\"centrality\" => 25,\"complexity\" => 16.0,\"blocking factor\" => 8,\"delay factor\" => 8.0),\"nameSub\" => \"Data Structures\",\"id\" => 9,\"credits\" => 4,\"nameCanonical\" => \"\"), Dict(\"curriculum_requisites\" => Dict{String,Any}[Dict(\"source_id\" => 1,\"target_id\" => 10,\"type\" => \"CurriculumPrerequisite\")],\"name\" => \"CS 1382\",\"metrics\" => Dict{String,Any}(\"centrality\" => 14,\"complexity\" => 9.0,\"blocking factor\" => 4,\"delay factor\" => 5.0),\"nameSub\" => \"Discrete Computational Structures \",\"id\" => 10,\"credits\" => 3,\"nameCanonical\" => \"\"), Dict(\"curriculum_requisites\" => Dict{String,Any}[Dict(\"source_id\" => 2,\"target_id\" => 11,\"type\" => \"CurriculumPrerequisite\")],\"name\" => \"ECE 2372\",\"metrics\" => Dict{String,Any}(\"centrality\" => 5,\"complexity\" => 8.0,\"blocking factor\" => 3,\"delay factor\" => 5.0),\"nameSub\" => \"Modern Digital System Design \",\"id\" => 11,\"credits\" => 3,\"nameCanonical\" => \"\"), Dict(\"curriculum_requisites\" => Dict{String,Any}[Dict(\"source_id\" => 6,\"target_id\" => 12,\"type\" => \"CurriculumPrerequisite\")],\"name\" => \"MATH 2450\",\"metrics\" => Dict{String,Any}(\"centrality\" => 7,\"complexity\" => 11.0,\"blocking factor\" => 4,\"delay factor\" => 7.0),\"nameSub\" => \"Calculus III with Applications \",\"id\" => 12,\"credits\" => 4,\"nameCanonical\" => \"\"), Dict(\"curriculum_requisites\" => Dict{String,Any}[Dict(\"source_id\" => 7,\"target_id\" => 13,\"type\" => \"CurriculumPrerequisite\"), Dict(\"source_id\" => 6,\"target_id\" => 13,\"type\" => \"CurriculumPrerequisite\")],\"name\" => \"PHYS 2401\",\"metrics\" => Dict{String,Any}(\"centrality\" => 0,\"complexity\" => 3.0,\"blocking factor\" => 0,\"delay factor\" => 3.0),\"nameSub\" => \"Principles of Physics II\",\"id\" => 13,\"credits\" => 4,\"nameCanonical\" => \"\")],\"id\" => 3), Dict(\"name\" => \"Term 4\",\"curriculum_items\" => Dict{String,Any}[Dict(\"curriculum_requisites\" => Dict{String,Any}[Dict(\"source_id\" => 11,\"target_id\" => 14,\"type\" => \"CurriculumPrerequisite\"), Dict(\"source_id\" => 5,\"target_id\" => 14,\"type\" => \"CurriculumPrerequisite\")],\"name\" => \"CS 2350\",\"metrics\" => Dict{String,Any}(\"centrality\" => 11,\"complexity\" => 8.0,\"blocking factor\" => 2,\"delay factor\" => 6.0),\"nameSub\" => \"Computer Organization and Assembly Language Programming \",\"id\" => 14,\"credits\" => 3,\"nameCanonical\" => \"\"), Dict(\"curriculum_requisites\" => Dict{String,Any}[Dict(\"source_id\" => 9,\"target_id\" => 15,\"type\" => \"CurriculumPrerequisite\")],\"name\" => \"CS 2365\",\"metrics\" => Dict{String,Any}(\"centrality\" => 8,\"complexity\" => 11.0,\"blocking factor\" => 3,\"delay factor\" => 8.0),\"nameSub\" => \"Object-Oriented Programming\",\"id\" => 15,\"credits\" => 3,\"nameCanonical\" => \"\"), Dict(\"curriculum_requisites\" => Dict{String,Any}[],\"name\" => \"ENGR 2392\",\"metrics\" => Dict{String,Any}(\"centrality\" => 0,\"complexity\" => 1.0,\"blocking factor\" => 0,\"delay factor\" => 1.0),\"nameSub\" => \"Engineering Ethics and Its Impact on Society \",\"id\" => 16,\"credits\" => 3,\"nameCanonical\" => \"\"), Dict(\"curriculum_requisites\" => Dict{String,Any}[],\"name\" => \"POLS 1301\",\"metrics\" => Dict{String,Any}(\"centrality\" => 0,\"complexity\" => 1.0,\"blocking factor\" => 0,\"delay factor\" => 1.0),\"nameSub\" => \"American Government \",\"id\" => 17,\"credits\" => 3,\"nameCanonical\" => \"\"), Dict(\"curriculum_requisites\" => Dict{String,Any}[Dict(\"source_id\" => 6,\"target_id\" => 18,\"type\" => \"CurriculumPrerequisite\")],\"name\" => \"MATH 2360\",\"metrics\" => Dict{String,Any}(\"centrality\" => 10,\"complexity\" => 8.0,\"blocking factor\" => 3,\"delay factor\" => 5.0),\"nameSub\" => \"Linear Algebra \",\"id\" => 18,\"credits\" => 3,\"nameCanonical\" => \"\"), Dict(\"curriculum_requisites\" => Dict{String,Any}[Dict(\"source_id\" => 3,\"target_id\" => 19,\"type\" => \"CurriculumPrerequisite\"), Dict(\"source_id\" => 8,\"target_id\" => 19,\"type\" => \"CurriculumPrerequisite\")],\"name\" => \"ENGL 2311\",\"metrics\" => Dict{String,Any}(\"centrality\" => 0,\"complexity\" => 3.0,\"blocking factor\" => 0,\"delay factor\" => 3.0),\"nameSub\" => \"Introduction to Technical Writing\",\"id\" => 19,\"credits\" => 3,\"nameCanonical\" => \"\")],\"id\" => 4), Dict(\"name\" => \"Term 5\",\"curriculum_items\" => Dict{String,Any}[Dict(\"curriculum_requisites\" => Dict{String,Any}[Dict(\"source_id\" => 9,\"target_id\" => 20,\"type\" => \"CurriculumPrerequisite\")],\"name\" => \"CS 3361\",\"metrics\" => Dict{String,Any}(\"centrality\" => 0,\"complexity\" => 5.0,\"blocking factor\" => 0,\"delay factor\" => 5.0),\"nameSub\" => \"Concepts of Programming Languages\",\"id\" => 20,\"credits\" => 3,\"nameCanonical\" => \"\"), Dict(\"curriculum_requisites\" => Dict{String,Any}[Dict(\"source_id\" => 9,\"target_id\" => 21,\"type\" => \"CurriculumPrerequisite\"), Dict(\"source_id\" => 10,\"target_id\" => 21,\"type\" => \"CurriculumPrerequisite\"), Dict(\"source_id\" => 18,\"target_id\" => 21,\"type\" => \"CurriculumPrerequisite\")],\"name\" => \"CS 3364\",\"metrics\" => Dict{String,Any}(\"centrality\" => 32,\"complexity\" => 8.0,\"blocking factor\" => 2,\"delay factor\" => 6.0),\"nameSub\" => \"Design and Analysis of Algorithms\",\"id\" => 21,\"credits\" => 3,\"nameCanonical\" => \"\"), Dict(\"curriculum_requisites\" => Dict{String,Any}[Dict(\"source_id\" => 12,\"target_id\" => 22,\"type\" => \"CurriculumPrerequisite\")],\"name\" => \"MATH 3342\",\"metrics\" => Dict{String,Any}(\"centrality\" => 7,\"complexity\" => 10.0,\"blocking factor\" => 3,\"delay factor\" => 7.0),\"nameSub\" => \"Mathematical Statistics for Engineers and Scientists\",\"id\" => 22,\"credits\" => 3,\"nameCanonical\" => \"\"), Dict(\"curriculum_requisites\" => Dict{String,Any}[],\"name\" => \" \",\"metrics\" => Dict{String,Any}(\"centrality\" => 0,\"complexity\" => 1.0,\"blocking factor\" => 0,\"delay factor\" => 1.0),\"nameSub\" => \"Elective (core curriculum)\",\"id\" => 23,\"credits\" => 3,\"nameCanonical\" => \"\"), Dict(\"curriculum_requisites\" => Dict{String,Any}[],\"name\" => \"POLS 2306\",\"metrics\" => Dict{String,Any}(\"centrality\" => 0,\"complexity\" => 1.0,\"blocking factor\" => 0,\"delay factor\" => 1.0),\"nameSub\" => \"Texas Politics and Topics\",\"id\" => 24,\"credits\" => 3,\"nameCanonical\" => \"\")],\"id\" => 5), Dict(\"name\" => \"Term 6\",\"curriculum_items\" => Dict{String,Any}[Dict(\"curriculum_requisites\" => Dict{String,Any}[Dict(\"source_id\" => 15,\"target_id\" => 25,\"type\" => \"CurriculumPrerequisite\"), Dict(\"source_id\" => 22,\"target_id\" => 25,\"type\" => \"CurriculumPrerequisite\")],\"name\" => \"CS 3365\",\"metrics\" => Dict{String,Any}(\"centrality\" => 15,\"complexity\" => 10.0,\"blocking factor\" => 2,\"delay factor\" => 8.0),\"nameSub\" => \"Software Engineering I\",\"id\" => 25,\"credits\" => 3,\"nameCanonical\" => \"\"), Dict(\"curriculum_requisites\" => Dict{String,Any}[Dict(\"source_id\" => 14,\"target_id\" => 26,\"type\" => \"CurriculumPrerequisite\")],\"name\" => \"CS 3375\",\"metrics\" => Dict{String,Any}(\"centrality\" => 11,\"complexity\" => 7.0,\"blocking factor\" => 1,\"delay factor\" => 6.0),\"nameSub\" => \"Computer Architecture \",\"id\" => 26,\"credits\" => 3,\"nameCanonical\" => \"\"), Dict(\"curriculum_requisites\" => Dict{String,Any}[Dict(\"source_id\" => 10,\"target_id\" => 27,\"type\" => \"CurriculumPrerequisite\")],\"name\" => \"CS 3383\",\"metrics\" => Dict{String,Any}(\"centrality\" => 0,\"complexity\" => 4.0,\"blocking factor\" => 0,\"delay factor\" => 4.0),\"nameSub\" => \"Theory of Automata\",\"id\" => 27,\"credits\" => 3,\"nameCanonical\" => \"\"), Dict(\"curriculum_requisites\" => Dict{String,Any}[],\"name\" => \" \",\"metrics\" => Dict{String,Any}(\"centrality\" => 0,\"complexity\" => 1.0,\"blocking factor\" => 0,\"delay factor\" => 1.0),\"nameSub\" => \"Elective (CS)\",\"id\" => 28,\"credits\" => 3,\"nameCanonical\" => \"\"), Dict(\"curriculum_requisites\" => Dict{String,Any}[],\"name\" => \" \",\"metrics\" => Dict{String,Any}(\"centrality\" => 0,\"complexity\" => 1.0,\"blocking factor\" => 0,\"delay factor\" => 1.0),\"nameSub\" => \"Elective (core curriculum)\",\"id\" => 29,\"credits\" => 3,\"nameCanonical\" => \"\")],\"id\" => 6), Dict(\"name\" => \"Term 7\",\"curriculum_items\" => Dict{String,Any}[Dict(\"curriculum_requisites\" => Dict{String,Any}[Dict(\"source_id\" => 25,\"target_id\" => 30,\"type\" => \"CurriculumPrerequisite\")],\"name\" => \"CS 4365\",\"metrics\" => Dict{String,Any}(\"centrality\" => 15,\"complexity\" => 9.0,\"blocking factor\" => 1,\"delay factor\" => 8.0),\"nameSub\" => \"Software Engineering II \",\"id\" => 30,\"credits\" => 3,\"nameCanonical\" => \"\"), Dict(\"curriculum_requisites\" => Dict{String,Any}[Dict(\"source_id\" => 26,\"target_id\" => 31,\"type\" => \"CurriculumPrerequisite\"), Dict(\"source_id\" => 21,\"target_id\" => 31,\"type\" => \"CurriculumPrerequisite\")],\"name\" => \"CS 4352\",\"metrics\" => Dict{String,Any}(\"centrality\" => 0,\"complexity\" => 6.0,\"blocking factor\" => 0,\"delay factor\" => 6.0),\"nameSub\" => \"Operating Systems \",\"id\" => 31,\"credits\" => 3,\"nameCanonical\" => \"\"), Dict(\"curriculum_requisites\" => Dict{String,Any}[Dict(\"source_id\" => 21,\"target_id\" => 32,\"type\" => \"CurriculumPrerequisite\")],\"name\" => \"CS 4354\",\"metrics\" => Dict{String,Any}(\"centrality\" => 0,\"complexity\" => 6.0,\"blocking factor\" => 0,\"delay factor\" => 6.0),\"nameSub\" => \"Concepts of Database Systems\",\"id\" => 32,\"credits\" => 3,\"nameCanonical\" => \"\"), Dict(\"curriculum_requisites\" => Dict{String,Any}[],\"name\" => \" \",\"metrics\" => Dict{String,Any}(\"centrality\" => 0,\"complexity\" => 1.0,\"blocking factor\" => 0,\"delay factor\" => 1.0),\"nameSub\" => \"Elective (CS)\",\"id\" => 33,\"credits\" => 3,\"nameCanonical\" => \"\"), Dict(\"curriculum_requisites\" => Dict{String,Any}[],\"name\" => \" \",\"metrics\" => Dict{String,Any}(\"centrality\" => 0,\"complexity\" => 1.0,\"blocking factor\" => 0,\"delay factor\" => 1.0),\"nameSub\" => \"Elective (Core Curriculum)\",\"id\" => 34,\"credits\" => 3,\"nameCanonical\" => \"\")],\"id\" => 7), Dict(\"name\" => \"Term 8\",\"curriculum_items\" => Dict{String,Any}[Dict(\"curriculum_requisites\" => Dict{String,Any}[Dict(\"source_id\" => 30,\"target_id\" => 35,\"type\" => \"CurriculumPrerequisite\")],\"name\" => \"CS 4366\",\"metrics\" => Dict{String,Any}(\"centrality\" => 0,\"complexity\" => 8.0,\"blocking factor\" => 0,\"delay factor\" => 8.0),\"nameSub\" => \"Senior Capstone Project \",\"id\" => 35,\"credits\" => 3,\"nameCanonical\" => \"\"), Dict(\"curriculum_requisites\" => Dict{String,Any}[],\"name\" => \" \",\"metrics\" => Dict{String,Any}(\"centrality\" => 0,\"complexity\" => 1.0,\"blocking factor\" => 0,\"delay factor\" => 1.0),\"nameSub\" => \"Elective (CS)\",\"id\" => 36,\"credits\" => 3,\"nameCanonical\" => \"\"), Dict(\"curriculum_requisites\" => Dict{String,Any}[],\"name\" => \" \",\"metrics\" => Dict{String,Any}(\"centrality\" => 0,\"complexity\" => 1.0,\"blocking factor\" => 0,\"delay factor\" => 1.0),\"nameSub\" => \"Elective (CS)\",\"id\" => 37,\"credits\" => 3,\"nameCanonical\" => \"\"), Dict(\"curriculum_requisites\" => Dict{String,Any}[],\"name\" => \" \",\"metrics\" => Dict{String,Any}(\"centrality\" => 0,\"complexity\" => 1.0,\"blocking factor\" => 0,\"delay factor\" => 1.0),\"nameSub\" => \"Elective (Core Curriculum)\",\"id\" => 38,\"credits\" => 3,\"nameCanonical\" => \"\"), Dict(\"curriculum_requisites\" => Dict{String,Any}[],\"name\" => \" \",\"metrics\" => Dict{String,Any}(\"centrality\" => 0,\"complexity\" => 1.0,\"blocking factor\" => 0,\"delay factor\" => 1.0),\"nameSub\" => \"Elective (Core Curriculum)\",\"id\" => 39,\"credits\" => 3,\"nameCanonical\" => \"\")],\"id\" => 8)],\"institution\" => \"Texas Tech University\")), nothing)), Set{String}(), nothing, WebIO.Asset[], Dict{Any,Any}(), WebIO.ConnectionPool(Channel{Any}(sz_max:32,sz_curr:0), Set{WebIO.AbstractConnection}(), Base.GenericCondition{Base.AlwaysLockedST}(Base.InvasiveLinkedList{Task}(Task (runnable) @0x0000000146c85d50, Task (runnable) @0x0000000146c85d50), Base.AlwaysLockedST(1))), WebIO.JSString[])"
      ]
     },
     "execution_count": 20,
     "metadata": {
      "application/vnd.webio.node+json": {
       "kernelId": "53da9967-8016-4f1e-83ea-d44219398cc5"
      }
     },
     "output_type": "execute_result"
    }
   ],
   "source": [
    "curric = read_csv(\"./degree_plans/Texas_Tech-CS.csv\")\n",
    "visualize(curric, notebook=true)"
   ]
  },
  {
   "cell_type": "code",
   "execution_count": 21,
   "metadata": {
    "scrolled": false
   },
   "outputs": [
    {
     "data": {
      "application/vnd.webio.node+json": {
       "children": [
        {
         "children": [
          ""
         ],
         "instanceArgs": {
          "namespace": "html",
          "tag": "iframe"
         },
         "nodeType": "DOM",
         "props": {
          "events": {
           "load": "(function (){this.contentWindow.postMessage({\"options\":{\"hideTerms\":false,\"edit\":false},\"curriculum\":{\"name\":\"Computer Science\",\"dp_name\":\"4-Year Plan\",\"curriculum_terms\":[{\"name\":\"Term 1\",\"curriculum_items\":[{\"curriculum_requisites\":[],\"name\":\"640 151\",\"metrics\":{\"centrality\":0,\"complexity\":12.0,\"blocking factor\":7,\"delay factor\":5.0},\"nameSub\":\"Calculus I\",\"id\":1,\"credits\":4,\"nameCanonical\":\"\"},{\"curriculum_requisites\":[],\"name\":\"198 111\",\"metrics\":{\"centrality\":0,\"complexity\":9.0,\"blocking factor\":5,\"delay factor\":4.0},\"nameSub\":\"Introduction to Computer Science\",\"id\":2,\"credits\":4,\"nameCanonical\":\"\"},{\"curriculum_requisites\":[],\"name\":\" \",\"metrics\":{\"centrality\":0,\"complexity\":1.0,\"blocking factor\":0,\"delay factor\":1.0},\"nameSub\":\"SAS signature course or other general elective\",\"id\":3,\"credits\":3,\"nameCanonical\":\"\"},{\"curriculum_requisites\":[],\"name\":\" \",\"metrics\":{\"centrality\":0,\"complexity\":1.0,\"blocking factor\":0,\"delay factor\":1.0},\"nameSub\":\"General Elective\",\"id\":4,\"credits\":3,\"nameCanonical\":\"\"},{\"curriculum_requisites\":[],\"name\":\" \",\"metrics\":{\"centrality\":0,\"complexity\":1.0,\"blocking factor\":0,\"delay factor\":1.0},\"nameSub\":\"Byrne seminar or First-year Interest Group seminar\",\"id\":5,\"credits\":1,\"nameCanonical\":\"\"}],\"id\":1},{\"name\":\"Term 2\",\"curriculum_items\":[{\"curriculum_requisites\":[{\"source_id\":1,\"target_id\":6,\"type\":\"CurriculumPrerequisite\"}],\"name\":\"640 152\",\"metrics\":{\"centrality\":12,\"complexity\":9.0,\"blocking factor\":4,\"delay factor\":5.0},\"nameSub\":\"Calculus II\",\"id\":6,\"credits\":4,\"nameCanonical\":\"\"},{\"curriculum_requisites\":[{\"source_id\":2,\"target_id\":7,\"type\":\"CurriculumPrerequisite\"},{\"source_id\":1,\"target_id\":7,\"type\":\"CurriculumPrerequisite\"}],\"name\":\"198 112\",\"metrics\":{\"centrality\":12,\"complexity\":5.0,\"blocking factor\":2,\"delay factor\":3.0},\"nameSub\":\"Data Structures\",\"id\":7,\"credits\":4,\"nameCanonical\":\"\"},{\"curriculum_requisites\":[],\"name\":\" \",\"metrics\":{\"centrality\":0,\"complexity\":1.0,\"blocking factor\":0,\"delay factor\":1.0},\"nameSub\":\"General elective\",\"id\":8,\"credits\":3,\"nameCanonical\":\"\"},{\"curriculum_requisites\":[],\"name\":\" \",\"metrics\":{\"centrality\":0,\"complexity\":1.0,\"blocking factor\":0,\"delay factor\":1.0},\"nameSub\":\"General Elective\",\"id\":9,\"credits\":3,\"nameCanonical\":\"\"},{\"curriculum_requisites\":[],\"name\":\" \",\"metrics\":{\"centrality\":0,\"complexity\":1.0,\"blocking factor\":0,\"delay factor\":1.0},\"nameSub\":\"Byrne Seminar\",\"id\":10,\"credits\":1,\"nameCanonical\":\"\"}],\"id\":2},{\"name\":\"Term 3\",\"curriculum_items\":[{\"curriculum_requisites\":[{\"source_id\":2,\"target_id\":11,\"type\":\"CurriculumPrerequisite\"},{\"source_id\":6,\"target_id\":11,\"type\":\"CurriculumPrerequisite\"}],\"name\":\"198 205\",\"metrics\":{\"centrality\":9,\"complexity\":7.0,\"blocking factor\":2,\"delay factor\":5.0},\"nameSub\":\"Discrete Structures I\",\"id\":11,\"credits\":4,\"nameCanonical\":\"\"},{\"curriculum_requisites\":[{\"source_id\":7,\"target_id\":12,\"type\":\"CurriculumPrerequisite\"}],\"name\":\"198 211\",\"metrics\":{\"centrality\":0,\"complexity\":3.0,\"blocking factor\":0,\"delay factor\":3.0},\"nameSub\":\"Computer Architecture\",\"id\":12,\"credits\":4,\"nameCanonical\":\"\"},{\"curriculum_requisites\":[{\"source_id\":6,\"target_id\":13,\"type\":\"CurriculumPrerequisite\"}],\"name\":\"640 250\",\"metrics\":{\"centrality\":0,\"complexity\":3.0,\"blocking factor\":0,\"delay factor\":3.0},\"nameSub\":\"Linear Algebra\",\"id\":13,\"credits\":3,\"nameCanonical\":\"\"},{\"curriculum_requisites\":[],\"name\":\" \",\"metrics\":{\"centrality\":0,\"complexity\":1.0,\"blocking factor\":0,\"delay factor\":1.0},\"nameSub\":\"General Elective\",\"id\":14,\"credits\":4,\"nameCanonical\":\"\"}],\"id\":3},{\"name\":\"Term 4\",\"curriculum_items\":[{\"curriculum_requisites\":[{\"source_id\":11,\"target_id\":15,\"type\":\"CurriculumPrerequisite\"},{\"source_id\":6,\"target_id\":15,\"type\":\"CurriculumPrerequisite\"}],\"name\":\"198 206\",\"metrics\":{\"centrality\":13,\"complexity\":6.0,\"blocking factor\":1,\"delay factor\":5.0},\"nameSub\":\"Discrete Structures II\",\"id\":15,\"credits\":4,\"nameCanonical\":\"\"},{\"curriculum_requisites\":[],\"name\":\" \",\"metrics\":{\"centrality\":0,\"complexity\":1.0,\"blocking factor\":0,\"delay factor\":1.0},\"nameSub\":\"CS elective I\",\"id\":16,\"credits\":4,\"nameCanonical\":\"\"},{\"curriculum_requisites\":[],\"name\":\" \",\"metrics\":{\"centrality\":0,\"complexity\":1.0,\"blocking factor\":0,\"delay factor\":1.0},\"nameSub\":\"General Elective\",\"id\":17,\"credits\":4,\"nameCanonical\":\"\"},{\"curriculum_requisites\":[],\"name\":\" \",\"metrics\":{\"centrality\":0,\"complexity\":1.0,\"blocking factor\":0,\"delay factor\":1.0},\"nameSub\":\"General Elective\",\"id\":18,\"credits\":3,\"nameCanonical\":\"\"}],\"id\":4},{\"name\":\"Term 5\",\"curriculum_items\":[{\"curriculum_requisites\":[{\"source_id\":7,\"target_id\":19,\"type\":\"CurriculumPrerequisite\"},{\"source_id\":15,\"target_id\":19,\"type\":\"CurriculumPrerequisite\"}],\"name\":\"198 344\",\"metrics\":{\"centrality\":0,\"complexity\":5.0,\"blocking factor\":0,\"delay factor\":5.0},\"nameSub\":\"Design and Analysis of Algorithms\",\"id\":19,\"credits\":4,\"nameCanonical\":\"\"},{\"curriculum_requisites\":[],\"name\":\" \",\"metrics\":{\"centrality\":0,\"complexity\":1.0,\"blocking factor\":0,\"delay factor\":1.0},\"nameSub\":\"CS elective II\",\"id\":20,\"credits\":4,\"nameCanonical\":\"\"},{\"curriculum_requisites\":[],\"name\":\" \",\"metrics\":{\"centrality\":0,\"complexity\":1.0,\"blocking factor\":0,\"delay factor\":1.0},\"nameSub\":\"General Elective\",\"id\":21,\"credits\":4,\"nameCanonical\":\"\"},{\"curriculum_requisites\":[],\"name\":\" \",\"metrics\":{\"centrality\":0,\"complexity\":1.0,\"blocking factor\":0,\"delay factor\":1.0},\"nameSub\":\"General Elective\",\"id\":22,\"credits\":3,\"nameCanonical\":\"\"}],\"id\":5},{\"name\":\"Term 6\",\"curriculum_items\":[{\"curriculum_requisites\":[],\"name\":\" \",\"metrics\":{\"centrality\":0,\"complexity\":1.0,\"blocking factor\":0,\"delay factor\":1.0},\"nameSub\":\"CS elective III\",\"id\":23,\"credits\":4,\"nameCanonical\":\"\"},{\"curriculum_requisites\":[],\"name\":\" \",\"metrics\":{\"centrality\":0,\"complexity\":1.0,\"blocking factor\":0,\"delay factor\":1.0},\"nameSub\":\"CS elevtive IV\",\"id\":24,\"credits\":4,\"nameCanonical\":\"\"},{\"curriculum_requisites\":[],\"name\":\" \",\"metrics\":{\"centrality\":0,\"complexity\":1.0,\"blocking factor\":0,\"delay factor\":1.0},\"nameSub\":\"General Elective\",\"id\":25,\"credits\":4,\"nameCanonical\":\"\"},{\"curriculum_requisites\":[],\"name\":\" \",\"metrics\":{\"centrality\":0,\"complexity\":1.0,\"blocking factor\":0,\"delay factor\":1.0},\"nameSub\":\"General Elective\",\"id\":26,\"credits\":3,\"nameCanonical\":\"\"}],\"id\":6},{\"name\":\"Term 7\",\"curriculum_items\":[{\"curriculum_requisites\":[],\"name\":\" \",\"metrics\":{\"centrality\":0,\"complexity\":1.0,\"blocking factor\":0,\"delay factor\":1.0},\"nameSub\":\"CS elective V\",\"id\":27,\"credits\":4,\"nameCanonical\":\"\"},{\"curriculum_requisites\":[],\"name\":\" \",\"metrics\":{\"centrality\":0,\"complexity\":1.0,\"blocking factor\":0,\"delay factor\":1.0},\"nameSub\":\"CS elective VI\",\"id\":28,\"credits\":4,\"nameCanonical\":\"\"},{\"curriculum_requisites\":[],\"name\":\" \",\"metrics\":{\"centrality\":0,\"complexity\":1.0,\"blocking factor\":0,\"delay factor\":1.0},\"nameSub\":\"General Elective\",\"id\":29,\"credits\":4,\"nameCanonical\":\"\"},{\"curriculum_requisites\":[],\"name\":\" \",\"metrics\":{\"centrality\":0,\"complexity\":1.0,\"blocking factor\":0,\"delay factor\":1.0},\"nameSub\":\"General Elective\",\"id\":30,\"credits\":3,\"nameCanonical\":\"\"}],\"id\":7},{\"name\":\"Term 8\",\"curriculum_items\":[{\"curriculum_requisites\":[],\"name\":\" \",\"metrics\":{\"centrality\":0,\"complexity\":1.0,\"blocking factor\":0,\"delay factor\":1.0},\"nameSub\":\"CS elective VII\",\"id\":31,\"credits\":4,\"nameCanonical\":\"\"},{\"curriculum_requisites\":[],\"name\":\" \",\"metrics\":{\"centrality\":0,\"complexity\":1.0,\"blocking factor\":0,\"delay factor\":1.0},\"nameSub\":\"General Elective\",\"id\":32,\"credits\":4,\"nameCanonical\":\"\"},{\"curriculum_requisites\":[],\"name\":\" \",\"metrics\":{\"centrality\":0,\"complexity\":1.0,\"blocking factor\":0,\"delay factor\":1.0},\"nameSub\":\"General Elective\",\"id\":33,\"credits\":4,\"nameCanonical\":\"\"},{\"curriculum_requisites\":[],\"name\":\" \",\"metrics\":{\"centrality\":0,\"complexity\":1.0,\"blocking factor\":0,\"delay factor\":1.0},\"nameSub\":\"General Elective\",\"id\":34,\"credits\":3,\"nameCanonical\":\"\"}],\"id\":8}],\"institution\":\"Rutgers University\"}},\"*\"); window.removeEventListener(\"message\",window.messageReceived); window.messageReceived=(function (event){return (event.data.curriculum!==undefined) ? (WebIO.setval({\"name\":\"curriculum-data\",\"scope\":\"10241226247036410059\",\"id\":\"13062425486608568848\",\"type\":\"observable\"},event.data.curriculum)) : undefined}); return window.addEventListener(\"message\",window.messageReceived)})"
          },
          "id": "curriculum",
          "src": "http://localhost:8156",
          "style": {
           "border": "none",
           "height": "100vh",
           "margin": "0",
           "padding": "0",
           "width": "100%"
          }
         },
         "type": "node"
        }
       ],
       "instanceArgs": {
        "handlers": {},
        "id": "10241226247036410059",
        "imports": {
         "data": [],
         "type": "async_block"
        },
        "mount_callbacks": [],
        "observables": {
         "curriculum-data": {
          "id": "13062425486608568848",
          "sync": true,
          "value": {
           "curriculum": {
            "curriculum_terms": [
             {
              "curriculum_items": [
               {
                "credits": 4,
                "curriculum_requisites": [],
                "id": 1,
                "metrics": {
                 "blocking factor": 7,
                 "centrality": 0,
                 "complexity": 12,
                 "delay factor": 5
                },
                "name": "640 151",
                "nameCanonical": "",
                "nameSub": "Calculus I"
               },
               {
                "credits": 4,
                "curriculum_requisites": [],
                "id": 2,
                "metrics": {
                 "blocking factor": 5,
                 "centrality": 0,
                 "complexity": 9,
                 "delay factor": 4
                },
                "name": "198 111",
                "nameCanonical": "",
                "nameSub": "Introduction to Computer Science"
               },
               {
                "credits": 3,
                "curriculum_requisites": [],
                "id": 3,
                "metrics": {
                 "blocking factor": 0,
                 "centrality": 0,
                 "complexity": 1,
                 "delay factor": 1
                },
                "name": " ",
                "nameCanonical": "",
                "nameSub": "SAS signature course or other general elective"
               },
               {
                "credits": 3,
                "curriculum_requisites": [],
                "id": 4,
                "metrics": {
                 "blocking factor": 0,
                 "centrality": 0,
                 "complexity": 1,
                 "delay factor": 1
                },
                "name": " ",
                "nameCanonical": "",
                "nameSub": "General Elective"
               },
               {
                "credits": 1,
                "curriculum_requisites": [],
                "id": 5,
                "metrics": {
                 "blocking factor": 0,
                 "centrality": 0,
                 "complexity": 1,
                 "delay factor": 1
                },
                "name": " ",
                "nameCanonical": "",
                "nameSub": "Byrne seminar or First-year Interest Group seminar"
               }
              ],
              "id": 1,
              "name": "Term 1"
             },
             {
              "curriculum_items": [
               {
                "credits": 4,
                "curriculum_requisites": [
                 {
                  "source_id": 1,
                  "target_id": 6,
                  "type": "CurriculumPrerequisite"
                 }
                ],
                "id": 6,
                "metrics": {
                 "blocking factor": 4,
                 "centrality": 12,
                 "complexity": 9,
                 "delay factor": 5
                },
                "name": "640 152",
                "nameCanonical": "",
                "nameSub": "Calculus II"
               },
               {
                "credits": 4,
                "curriculum_requisites": [
                 {
                  "source_id": 2,
                  "target_id": 7,
                  "type": "CurriculumPrerequisite"
                 },
                 {
                  "source_id": 1,
                  "target_id": 7,
                  "type": "CurriculumPrerequisite"
                 }
                ],
                "id": 7,
                "metrics": {
                 "blocking factor": 2,
                 "centrality": 12,
                 "complexity": 5,
                 "delay factor": 3
                },
                "name": "198 112",
                "nameCanonical": "",
                "nameSub": "Data Structures"
               },
               {
                "credits": 3,
                "curriculum_requisites": [],
                "id": 8,
                "metrics": {
                 "blocking factor": 0,
                 "centrality": 0,
                 "complexity": 1,
                 "delay factor": 1
                },
                "name": " ",
                "nameCanonical": "",
                "nameSub": "General elective"
               },
               {
                "credits": 3,
                "curriculum_requisites": [],
                "id": 9,
                "metrics": {
                 "blocking factor": 0,
                 "centrality": 0,
                 "complexity": 1,
                 "delay factor": 1
                },
                "name": " ",
                "nameCanonical": "",
                "nameSub": "General Elective"
               },
               {
                "credits": 1,
                "curriculum_requisites": [],
                "id": 10,
                "metrics": {
                 "blocking factor": 0,
                 "centrality": 0,
                 "complexity": 1,
                 "delay factor": 1
                },
                "name": " ",
                "nameCanonical": "",
                "nameSub": "Byrne Seminar"
               }
              ],
              "id": 2,
              "name": "Term 2"
             },
             {
              "curriculum_items": [
               {
                "credits": 4,
                "curriculum_requisites": [
                 {
                  "source_id": 2,
                  "target_id": 11,
                  "type": "CurriculumPrerequisite"
                 },
                 {
                  "source_id": 6,
                  "target_id": 11,
                  "type": "CurriculumPrerequisite"
                 }
                ],
                "id": 11,
                "metrics": {
                 "blocking factor": 2,
                 "centrality": 9,
                 "complexity": 7,
                 "delay factor": 5
                },
                "name": "198 205",
                "nameCanonical": "",
                "nameSub": "Discrete Structures I"
               },
               {
                "credits": 4,
                "curriculum_requisites": [
                 {
                  "source_id": 7,
                  "target_id": 12,
                  "type": "CurriculumPrerequisite"
                 }
                ],
                "id": 12,
                "metrics": {
                 "blocking factor": 0,
                 "centrality": 0,
                 "complexity": 3,
                 "delay factor": 3
                },
                "name": "198 211",
                "nameCanonical": "",
                "nameSub": "Computer Architecture"
               },
               {
                "credits": 3,
                "curriculum_requisites": [
                 {
                  "source_id": 6,
                  "target_id": 13,
                  "type": "CurriculumPrerequisite"
                 }
                ],
                "id": 13,
                "metrics": {
                 "blocking factor": 0,
                 "centrality": 0,
                 "complexity": 3,
                 "delay factor": 3
                },
                "name": "640 250",
                "nameCanonical": "",
                "nameSub": "Linear Algebra"
               },
               {
                "credits": 4,
                "curriculum_requisites": [],
                "id": 14,
                "metrics": {
                 "blocking factor": 0,
                 "centrality": 0,
                 "complexity": 1,
                 "delay factor": 1
                },
                "name": " ",
                "nameCanonical": "",
                "nameSub": "General Elective"
               }
              ],
              "id": 3,
              "name": "Term 3"
             },
             {
              "curriculum_items": [
               {
                "credits": 4,
                "curriculum_requisites": [
                 {
                  "source_id": 11,
                  "target_id": 15,
                  "type": "CurriculumPrerequisite"
                 },
                 {
                  "source_id": 6,
                  "target_id": 15,
                  "type": "CurriculumPrerequisite"
                 }
                ],
                "id": 15,
                "metrics": {
                 "blocking factor": 1,
                 "centrality": 13,
                 "complexity": 6,
                 "delay factor": 5
                },
                "name": "198 206",
                "nameCanonical": "",
                "nameSub": "Discrete Structures II"
               },
               {
                "credits": 4,
                "curriculum_requisites": [],
                "id": 16,
                "metrics": {
                 "blocking factor": 0,
                 "centrality": 0,
                 "complexity": 1,
                 "delay factor": 1
                },
                "name": " ",
                "nameCanonical": "",
                "nameSub": "CS elective I"
               },
               {
                "credits": 4,
                "curriculum_requisites": [],
                "id": 17,
                "metrics": {
                 "blocking factor": 0,
                 "centrality": 0,
                 "complexity": 1,
                 "delay factor": 1
                },
                "name": " ",
                "nameCanonical": "",
                "nameSub": "General Elective"
               },
               {
                "credits": 3,
                "curriculum_requisites": [],
                "id": 18,
                "metrics": {
                 "blocking factor": 0,
                 "centrality": 0,
                 "complexity": 1,
                 "delay factor": 1
                },
                "name": " ",
                "nameCanonical": "",
                "nameSub": "General Elective"
               }
              ],
              "id": 4,
              "name": "Term 4"
             },
             {
              "curriculum_items": [
               {
                "credits": 4,
                "curriculum_requisites": [
                 {
                  "source_id": 7,
                  "target_id": 19,
                  "type": "CurriculumPrerequisite"
                 },
                 {
                  "source_id": 15,
                  "target_id": 19,
                  "type": "CurriculumPrerequisite"
                 }
                ],
                "id": 19,
                "metrics": {
                 "blocking factor": 0,
                 "centrality": 0,
                 "complexity": 5,
                 "delay factor": 5
                },
                "name": "198 344",
                "nameCanonical": "",
                "nameSub": "Design and Analysis of Algorithms"
               },
               {
                "credits": 4,
                "curriculum_requisites": [],
                "id": 20,
                "metrics": {
                 "blocking factor": 0,
                 "centrality": 0,
                 "complexity": 1,
                 "delay factor": 1
                },
                "name": " ",
                "nameCanonical": "",
                "nameSub": "CS elective II"
               },
               {
                "credits": 4,
                "curriculum_requisites": [],
                "id": 21,
                "metrics": {
                 "blocking factor": 0,
                 "centrality": 0,
                 "complexity": 1,
                 "delay factor": 1
                },
                "name": " ",
                "nameCanonical": "",
                "nameSub": "General Elective"
               },
               {
                "credits": 3,
                "curriculum_requisites": [],
                "id": 22,
                "metrics": {
                 "blocking factor": 0,
                 "centrality": 0,
                 "complexity": 1,
                 "delay factor": 1
                },
                "name": " ",
                "nameCanonical": "",
                "nameSub": "General Elective"
               }
              ],
              "id": 5,
              "name": "Term 5"
             },
             {
              "curriculum_items": [
               {
                "credits": 4,
                "curriculum_requisites": [],
                "id": 23,
                "metrics": {
                 "blocking factor": 0,
                 "centrality": 0,
                 "complexity": 1,
                 "delay factor": 1
                },
                "name": " ",
                "nameCanonical": "",
                "nameSub": "CS elective III"
               },
               {
                "credits": 4,
                "curriculum_requisites": [],
                "id": 24,
                "metrics": {
                 "blocking factor": 0,
                 "centrality": 0,
                 "complexity": 1,
                 "delay factor": 1
                },
                "name": " ",
                "nameCanonical": "",
                "nameSub": "CS elevtive IV"
               },
               {
                "credits": 4,
                "curriculum_requisites": [],
                "id": 25,
                "metrics": {
                 "blocking factor": 0,
                 "centrality": 0,
                 "complexity": 1,
                 "delay factor": 1
                },
                "name": " ",
                "nameCanonical": "",
                "nameSub": "General Elective"
               },
               {
                "credits": 3,
                "curriculum_requisites": [],
                "id": 26,
                "metrics": {
                 "blocking factor": 0,
                 "centrality": 0,
                 "complexity": 1,
                 "delay factor": 1
                },
                "name": " ",
                "nameCanonical": "",
                "nameSub": "General Elective"
               }
              ],
              "id": 6,
              "name": "Term 6"
             },
             {
              "curriculum_items": [
               {
                "credits": 4,
                "curriculum_requisites": [],
                "id": 27,
                "metrics": {
                 "blocking factor": 0,
                 "centrality": 0,
                 "complexity": 1,
                 "delay factor": 1
                },
                "name": " ",
                "nameCanonical": "",
                "nameSub": "CS elective V"
               },
               {
                "credits": 4,
                "curriculum_requisites": [],
                "id": 28,
                "metrics": {
                 "blocking factor": 0,
                 "centrality": 0,
                 "complexity": 1,
                 "delay factor": 1
                },
                "name": " ",
                "nameCanonical": "",
                "nameSub": "CS elective VI"
               },
               {
                "credits": 4,
                "curriculum_requisites": [],
                "id": 29,
                "metrics": {
                 "blocking factor": 0,
                 "centrality": 0,
                 "complexity": 1,
                 "delay factor": 1
                },
                "name": " ",
                "nameCanonical": "",
                "nameSub": "General Elective"
               },
               {
                "credits": 3,
                "curriculum_requisites": [],
                "id": 30,
                "metrics": {
                 "blocking factor": 0,
                 "centrality": 0,
                 "complexity": 1,
                 "delay factor": 1
                },
                "name": " ",
                "nameCanonical": "",
                "nameSub": "General Elective"
               }
              ],
              "id": 7,
              "name": "Term 7"
             },
             {
              "curriculum_items": [
               {
                "credits": 4,
                "curriculum_requisites": [],
                "id": 31,
                "metrics": {
                 "blocking factor": 0,
                 "centrality": 0,
                 "complexity": 1,
                 "delay factor": 1
                },
                "name": " ",
                "nameCanonical": "",
                "nameSub": "CS elective VII"
               },
               {
                "credits": 4,
                "curriculum_requisites": [],
                "id": 32,
                "metrics": {
                 "blocking factor": 0,
                 "centrality": 0,
                 "complexity": 1,
                 "delay factor": 1
                },
                "name": " ",
                "nameCanonical": "",
                "nameSub": "General Elective"
               },
               {
                "credits": 4,
                "curriculum_requisites": [],
                "id": 33,
                "metrics": {
                 "blocking factor": 0,
                 "centrality": 0,
                 "complexity": 1,
                 "delay factor": 1
                },
                "name": " ",
                "nameCanonical": "",
                "nameSub": "General Elective"
               },
               {
                "credits": 3,
                "curriculum_requisites": [],
                "id": 34,
                "metrics": {
                 "blocking factor": 0,
                 "centrality": 0,
                 "complexity": 1,
                 "delay factor": 1
                },
                "name": " ",
                "nameCanonical": "",
                "nameSub": "General Elective"
               }
              ],
              "id": 8,
              "name": "Term 8"
             }
            ],
            "dp_name": "4-Year Plan",
            "institution": "Rutgers University",
            "name": "Computer Science"
           },
           "options": {
            "edit": false,
            "hideTerms": false
           }
          }
         }
        },
        "systemjs_options": null
       },
       "nodeType": "Scope",
       "props": {},
       "type": "node"
      },
      "text/html": [
       "<div\n",
       "    class=\"webio-mountpoint\"\n",
       "    data-webio-mountpoint=\"15517611619357487970\"\n",
       ">\n",
       "    <script>\n",
       "    if (window.require && require.defined && require.defined(\"nbextensions/webio-jupyter-notebook\")) {\n",
       "        console.log(\"Jupyter WebIO extension detected, not mounting.\");\n",
       "    } else if (window.WebIO) {\n",
       "        WebIO.mount(\n",
       "            document.querySelector('[data-webio-mountpoint=\"15517611619357487970\"]'),\n",
       "            {\"props\":{},\"nodeType\":\"Scope\",\"type\":\"node\",\"instanceArgs\":{\"imports\":{\"data\":[],\"type\":\"async_block\"},\"id\":\"10241226247036410059\",\"handlers\":{},\"systemjs_options\":null,\"mount_callbacks\":[],\"observables\":{\"curriculum-data\":{\"sync\":true,\"id\":\"13062425486608568848\",\"value\":{\"options\":{\"hideTerms\":false,\"edit\":false},\"curriculum\":{\"name\":\"Computer Science\",\"dp_name\":\"4-Year Plan\",\"curriculum_terms\":[{\"name\":\"Term 1\",\"curriculum_items\":[{\"curriculum_requisites\":[],\"name\":\"640 151\",\"metrics\":{\"centrality\":0,\"complexity\":12.0,\"blocking factor\":7,\"delay factor\":5.0},\"nameSub\":\"Calculus I\",\"id\":1,\"credits\":4,\"nameCanonical\":\"\"},{\"curriculum_requisites\":[],\"name\":\"198 111\",\"metrics\":{\"centrality\":0,\"complexity\":9.0,\"blocking factor\":5,\"delay factor\":4.0},\"nameSub\":\"Introduction to Computer Science\",\"id\":2,\"credits\":4,\"nameCanonical\":\"\"},{\"curriculum_requisites\":[],\"name\":\" \",\"metrics\":{\"centrality\":0,\"complexity\":1.0,\"blocking factor\":0,\"delay factor\":1.0},\"nameSub\":\"SAS signature course or other general elective\",\"id\":3,\"credits\":3,\"nameCanonical\":\"\"},{\"curriculum_requisites\":[],\"name\":\" \",\"metrics\":{\"centrality\":0,\"complexity\":1.0,\"blocking factor\":0,\"delay factor\":1.0},\"nameSub\":\"General Elective\",\"id\":4,\"credits\":3,\"nameCanonical\":\"\"},{\"curriculum_requisites\":[],\"name\":\" \",\"metrics\":{\"centrality\":0,\"complexity\":1.0,\"blocking factor\":0,\"delay factor\":1.0},\"nameSub\":\"Byrne seminar or First-year Interest Group seminar\",\"id\":5,\"credits\":1,\"nameCanonical\":\"\"}],\"id\":1},{\"name\":\"Term 2\",\"curriculum_items\":[{\"curriculum_requisites\":[{\"source_id\":1,\"target_id\":6,\"type\":\"CurriculumPrerequisite\"}],\"name\":\"640 152\",\"metrics\":{\"centrality\":12,\"complexity\":9.0,\"blocking factor\":4,\"delay factor\":5.0},\"nameSub\":\"Calculus II\",\"id\":6,\"credits\":4,\"nameCanonical\":\"\"},{\"curriculum_requisites\":[{\"source_id\":2,\"target_id\":7,\"type\":\"CurriculumPrerequisite\"},{\"source_id\":1,\"target_id\":7,\"type\":\"CurriculumPrerequisite\"}],\"name\":\"198 112\",\"metrics\":{\"centrality\":12,\"complexity\":5.0,\"blocking factor\":2,\"delay factor\":3.0},\"nameSub\":\"Data Structures\",\"id\":7,\"credits\":4,\"nameCanonical\":\"\"},{\"curriculum_requisites\":[],\"name\":\" \",\"metrics\":{\"centrality\":0,\"complexity\":1.0,\"blocking factor\":0,\"delay factor\":1.0},\"nameSub\":\"General elective\",\"id\":8,\"credits\":3,\"nameCanonical\":\"\"},{\"curriculum_requisites\":[],\"name\":\" \",\"metrics\":{\"centrality\":0,\"complexity\":1.0,\"blocking factor\":0,\"delay factor\":1.0},\"nameSub\":\"General Elective\",\"id\":9,\"credits\":3,\"nameCanonical\":\"\"},{\"curriculum_requisites\":[],\"name\":\" \",\"metrics\":{\"centrality\":0,\"complexity\":1.0,\"blocking factor\":0,\"delay factor\":1.0},\"nameSub\":\"Byrne Seminar\",\"id\":10,\"credits\":1,\"nameCanonical\":\"\"}],\"id\":2},{\"name\":\"Term 3\",\"curriculum_items\":[{\"curriculum_requisites\":[{\"source_id\":2,\"target_id\":11,\"type\":\"CurriculumPrerequisite\"},{\"source_id\":6,\"target_id\":11,\"type\":\"CurriculumPrerequisite\"}],\"name\":\"198 205\",\"metrics\":{\"centrality\":9,\"complexity\":7.0,\"blocking factor\":2,\"delay factor\":5.0},\"nameSub\":\"Discrete Structures I\",\"id\":11,\"credits\":4,\"nameCanonical\":\"\"},{\"curriculum_requisites\":[{\"source_id\":7,\"target_id\":12,\"type\":\"CurriculumPrerequisite\"}],\"name\":\"198 211\",\"metrics\":{\"centrality\":0,\"complexity\":3.0,\"blocking factor\":0,\"delay factor\":3.0},\"nameSub\":\"Computer Architecture\",\"id\":12,\"credits\":4,\"nameCanonical\":\"\"},{\"curriculum_requisites\":[{\"source_id\":6,\"target_id\":13,\"type\":\"CurriculumPrerequisite\"}],\"name\":\"640 250\",\"metrics\":{\"centrality\":0,\"complexity\":3.0,\"blocking factor\":0,\"delay factor\":3.0},\"nameSub\":\"Linear Algebra\",\"id\":13,\"credits\":3,\"nameCanonical\":\"\"},{\"curriculum_requisites\":[],\"name\":\" \",\"metrics\":{\"centrality\":0,\"complexity\":1.0,\"blocking factor\":0,\"delay factor\":1.0},\"nameSub\":\"General Elective\",\"id\":14,\"credits\":4,\"nameCanonical\":\"\"}],\"id\":3},{\"name\":\"Term 4\",\"curriculum_items\":[{\"curriculum_requisites\":[{\"source_id\":11,\"target_id\":15,\"type\":\"CurriculumPrerequisite\"},{\"source_id\":6,\"target_id\":15,\"type\":\"CurriculumPrerequisite\"}],\"name\":\"198 206\",\"metrics\":{\"centrality\":13,\"complexity\":6.0,\"blocking factor\":1,\"delay factor\":5.0},\"nameSub\":\"Discrete Structures II\",\"id\":15,\"credits\":4,\"nameCanonical\":\"\"},{\"curriculum_requisites\":[],\"name\":\" \",\"metrics\":{\"centrality\":0,\"complexity\":1.0,\"blocking factor\":0,\"delay factor\":1.0},\"nameSub\":\"CS elective I\",\"id\":16,\"credits\":4,\"nameCanonical\":\"\"},{\"curriculum_requisites\":[],\"name\":\" \",\"metrics\":{\"centrality\":0,\"complexity\":1.0,\"blocking factor\":0,\"delay factor\":1.0},\"nameSub\":\"General Elective\",\"id\":17,\"credits\":4,\"nameCanonical\":\"\"},{\"curriculum_requisites\":[],\"name\":\" \",\"metrics\":{\"centrality\":0,\"complexity\":1.0,\"blocking factor\":0,\"delay factor\":1.0},\"nameSub\":\"General Elective\",\"id\":18,\"credits\":3,\"nameCanonical\":\"\"}],\"id\":4},{\"name\":\"Term 5\",\"curriculum_items\":[{\"curriculum_requisites\":[{\"source_id\":7,\"target_id\":19,\"type\":\"CurriculumPrerequisite\"},{\"source_id\":15,\"target_id\":19,\"type\":\"CurriculumPrerequisite\"}],\"name\":\"198 344\",\"metrics\":{\"centrality\":0,\"complexity\":5.0,\"blocking factor\":0,\"delay factor\":5.0},\"nameSub\":\"Design and Analysis of Algorithms\",\"id\":19,\"credits\":4,\"nameCanonical\":\"\"},{\"curriculum_requisites\":[],\"name\":\" \",\"metrics\":{\"centrality\":0,\"complexity\":1.0,\"blocking factor\":0,\"delay factor\":1.0},\"nameSub\":\"CS elective II\",\"id\":20,\"credits\":4,\"nameCanonical\":\"\"},{\"curriculum_requisites\":[],\"name\":\" \",\"metrics\":{\"centrality\":0,\"complexity\":1.0,\"blocking factor\":0,\"delay factor\":1.0},\"nameSub\":\"General Elective\",\"id\":21,\"credits\":4,\"nameCanonical\":\"\"},{\"curriculum_requisites\":[],\"name\":\" \",\"metrics\":{\"centrality\":0,\"complexity\":1.0,\"blocking factor\":0,\"delay factor\":1.0},\"nameSub\":\"General Elective\",\"id\":22,\"credits\":3,\"nameCanonical\":\"\"}],\"id\":5},{\"name\":\"Term 6\",\"curriculum_items\":[{\"curriculum_requisites\":[],\"name\":\" \",\"metrics\":{\"centrality\":0,\"complexity\":1.0,\"blocking factor\":0,\"delay factor\":1.0},\"nameSub\":\"CS elective III\",\"id\":23,\"credits\":4,\"nameCanonical\":\"\"},{\"curriculum_requisites\":[],\"name\":\" \",\"metrics\":{\"centrality\":0,\"complexity\":1.0,\"blocking factor\":0,\"delay factor\":1.0},\"nameSub\":\"CS elevtive IV\",\"id\":24,\"credits\":4,\"nameCanonical\":\"\"},{\"curriculum_requisites\":[],\"name\":\" \",\"metrics\":{\"centrality\":0,\"complexity\":1.0,\"blocking factor\":0,\"delay factor\":1.0},\"nameSub\":\"General Elective\",\"id\":25,\"credits\":4,\"nameCanonical\":\"\"},{\"curriculum_requisites\":[],\"name\":\" \",\"metrics\":{\"centrality\":0,\"complexity\":1.0,\"blocking factor\":0,\"delay factor\":1.0},\"nameSub\":\"General Elective\",\"id\":26,\"credits\":3,\"nameCanonical\":\"\"}],\"id\":6},{\"name\":\"Term 7\",\"curriculum_items\":[{\"curriculum_requisites\":[],\"name\":\" \",\"metrics\":{\"centrality\":0,\"complexity\":1.0,\"blocking factor\":0,\"delay factor\":1.0},\"nameSub\":\"CS elective V\",\"id\":27,\"credits\":4,\"nameCanonical\":\"\"},{\"curriculum_requisites\":[],\"name\":\" \",\"metrics\":{\"centrality\":0,\"complexity\":1.0,\"blocking factor\":0,\"delay factor\":1.0},\"nameSub\":\"CS elective VI\",\"id\":28,\"credits\":4,\"nameCanonical\":\"\"},{\"curriculum_requisites\":[],\"name\":\" \",\"metrics\":{\"centrality\":0,\"complexity\":1.0,\"blocking factor\":0,\"delay factor\":1.0},\"nameSub\":\"General Elective\",\"id\":29,\"credits\":4,\"nameCanonical\":\"\"},{\"curriculum_requisites\":[],\"name\":\" \",\"metrics\":{\"centrality\":0,\"complexity\":1.0,\"blocking factor\":0,\"delay factor\":1.0},\"nameSub\":\"General Elective\",\"id\":30,\"credits\":3,\"nameCanonical\":\"\"}],\"id\":7},{\"name\":\"Term 8\",\"curriculum_items\":[{\"curriculum_requisites\":[],\"name\":\" \",\"metrics\":{\"centrality\":0,\"complexity\":1.0,\"blocking factor\":0,\"delay factor\":1.0},\"nameSub\":\"CS elective VII\",\"id\":31,\"credits\":4,\"nameCanonical\":\"\"},{\"curriculum_requisites\":[],\"name\":\" \",\"metrics\":{\"centrality\":0,\"complexity\":1.0,\"blocking factor\":0,\"delay factor\":1.0},\"nameSub\":\"General Elective\",\"id\":32,\"credits\":4,\"nameCanonical\":\"\"},{\"curriculum_requisites\":[],\"name\":\" \",\"metrics\":{\"centrality\":0,\"complexity\":1.0,\"blocking factor\":0,\"delay factor\":1.0},\"nameSub\":\"General Elective\",\"id\":33,\"credits\":4,\"nameCanonical\":\"\"},{\"curriculum_requisites\":[],\"name\":\" \",\"metrics\":{\"centrality\":0,\"complexity\":1.0,\"blocking factor\":0,\"delay factor\":1.0},\"nameSub\":\"General Elective\",\"id\":34,\"credits\":3,\"nameCanonical\":\"\"}],\"id\":8}],\"institution\":\"Rutgers University\"}}}}},\"children\":[{\"props\":{\"src\":\"http:\\/\\/localhost:8156\",\"id\":\"curriculum\",\"events\":{\"load\":\"(function (){this.contentWindow.postMessage({\\\"options\\\":{\\\"hideTerms\\\":false,\\\"edit\\\":false},\\\"curriculum\\\":{\\\"name\\\":\\\"Computer Science\\\",\\\"dp_name\\\":\\\"4-Year Plan\\\",\\\"curriculum_terms\\\":[{\\\"name\\\":\\\"Term 1\\\",\\\"curriculum_items\\\":[{\\\"curriculum_requisites\\\":[],\\\"name\\\":\\\"640 151\\\",\\\"metrics\\\":{\\\"centrality\\\":0,\\\"complexity\\\":12.0,\\\"blocking factor\\\":7,\\\"delay factor\\\":5.0},\\\"nameSub\\\":\\\"Calculus I\\\",\\\"id\\\":1,\\\"credits\\\":4,\\\"nameCanonical\\\":\\\"\\\"},{\\\"curriculum_requisites\\\":[],\\\"name\\\":\\\"198 111\\\",\\\"metrics\\\":{\\\"centrality\\\":0,\\\"complexity\\\":9.0,\\\"blocking factor\\\":5,\\\"delay factor\\\":4.0},\\\"nameSub\\\":\\\"Introduction to Computer Science\\\",\\\"id\\\":2,\\\"credits\\\":4,\\\"nameCanonical\\\":\\\"\\\"},{\\\"curriculum_requisites\\\":[],\\\"name\\\":\\\" \\\",\\\"metrics\\\":{\\\"centrality\\\":0,\\\"complexity\\\":1.0,\\\"blocking factor\\\":0,\\\"delay factor\\\":1.0},\\\"nameSub\\\":\\\"SAS signature course or other general elective\\\",\\\"id\\\":3,\\\"credits\\\":3,\\\"nameCanonical\\\":\\\"\\\"},{\\\"curriculum_requisites\\\":[],\\\"name\\\":\\\" \\\",\\\"metrics\\\":{\\\"centrality\\\":0,\\\"complexity\\\":1.0,\\\"blocking factor\\\":0,\\\"delay factor\\\":1.0},\\\"nameSub\\\":\\\"General Elective\\\",\\\"id\\\":4,\\\"credits\\\":3,\\\"nameCanonical\\\":\\\"\\\"},{\\\"curriculum_requisites\\\":[],\\\"name\\\":\\\" \\\",\\\"metrics\\\":{\\\"centrality\\\":0,\\\"complexity\\\":1.0,\\\"blocking factor\\\":0,\\\"delay factor\\\":1.0},\\\"nameSub\\\":\\\"Byrne seminar or First-year Interest Group seminar\\\",\\\"id\\\":5,\\\"credits\\\":1,\\\"nameCanonical\\\":\\\"\\\"}],\\\"id\\\":1},{\\\"name\\\":\\\"Term 2\\\",\\\"curriculum_items\\\":[{\\\"curriculum_requisites\\\":[{\\\"source_id\\\":1,\\\"target_id\\\":6,\\\"type\\\":\\\"CurriculumPrerequisite\\\"}],\\\"name\\\":\\\"640 152\\\",\\\"metrics\\\":{\\\"centrality\\\":12,\\\"complexity\\\":9.0,\\\"blocking factor\\\":4,\\\"delay factor\\\":5.0},\\\"nameSub\\\":\\\"Calculus II\\\",\\\"id\\\":6,\\\"credits\\\":4,\\\"nameCanonical\\\":\\\"\\\"},{\\\"curriculum_requisites\\\":[{\\\"source_id\\\":2,\\\"target_id\\\":7,\\\"type\\\":\\\"CurriculumPrerequisite\\\"},{\\\"source_id\\\":1,\\\"target_id\\\":7,\\\"type\\\":\\\"CurriculumPrerequisite\\\"}],\\\"name\\\":\\\"198 112\\\",\\\"metrics\\\":{\\\"centrality\\\":12,\\\"complexity\\\":5.0,\\\"blocking factor\\\":2,\\\"delay factor\\\":3.0},\\\"nameSub\\\":\\\"Data Structures\\\",\\\"id\\\":7,\\\"credits\\\":4,\\\"nameCanonical\\\":\\\"\\\"},{\\\"curriculum_requisites\\\":[],\\\"name\\\":\\\" \\\",\\\"metrics\\\":{\\\"centrality\\\":0,\\\"complexity\\\":1.0,\\\"blocking factor\\\":0,\\\"delay factor\\\":1.0},\\\"nameSub\\\":\\\"General elective\\\",\\\"id\\\":8,\\\"credits\\\":3,\\\"nameCanonical\\\":\\\"\\\"},{\\\"curriculum_requisites\\\":[],\\\"name\\\":\\\" \\\",\\\"metrics\\\":{\\\"centrality\\\":0,\\\"complexity\\\":1.0,\\\"blocking factor\\\":0,\\\"delay factor\\\":1.0},\\\"nameSub\\\":\\\"General Elective\\\",\\\"id\\\":9,\\\"credits\\\":3,\\\"nameCanonical\\\":\\\"\\\"},{\\\"curriculum_requisites\\\":[],\\\"name\\\":\\\" \\\",\\\"metrics\\\":{\\\"centrality\\\":0,\\\"complexity\\\":1.0,\\\"blocking factor\\\":0,\\\"delay factor\\\":1.0},\\\"nameSub\\\":\\\"Byrne Seminar\\\",\\\"id\\\":10,\\\"credits\\\":1,\\\"nameCanonical\\\":\\\"\\\"}],\\\"id\\\":2},{\\\"name\\\":\\\"Term 3\\\",\\\"curriculum_items\\\":[{\\\"curriculum_requisites\\\":[{\\\"source_id\\\":2,\\\"target_id\\\":11,\\\"type\\\":\\\"CurriculumPrerequisite\\\"},{\\\"source_id\\\":6,\\\"target_id\\\":11,\\\"type\\\":\\\"CurriculumPrerequisite\\\"}],\\\"name\\\":\\\"198 205\\\",\\\"metrics\\\":{\\\"centrality\\\":9,\\\"complexity\\\":7.0,\\\"blocking factor\\\":2,\\\"delay factor\\\":5.0},\\\"nameSub\\\":\\\"Discrete Structures I\\\",\\\"id\\\":11,\\\"credits\\\":4,\\\"nameCanonical\\\":\\\"\\\"},{\\\"curriculum_requisites\\\":[{\\\"source_id\\\":7,\\\"target_id\\\":12,\\\"type\\\":\\\"CurriculumPrerequisite\\\"}],\\\"name\\\":\\\"198 211\\\",\\\"metrics\\\":{\\\"centrality\\\":0,\\\"complexity\\\":3.0,\\\"blocking factor\\\":0,\\\"delay factor\\\":3.0},\\\"nameSub\\\":\\\"Computer Architecture\\\",\\\"id\\\":12,\\\"credits\\\":4,\\\"nameCanonical\\\":\\\"\\\"},{\\\"curriculum_requisites\\\":[{\\\"source_id\\\":6,\\\"target_id\\\":13,\\\"type\\\":\\\"CurriculumPrerequisite\\\"}],\\\"name\\\":\\\"640 250\\\",\\\"metrics\\\":{\\\"centrality\\\":0,\\\"complexity\\\":3.0,\\\"blocking factor\\\":0,\\\"delay factor\\\":3.0},\\\"nameSub\\\":\\\"Linear Algebra\\\",\\\"id\\\":13,\\\"credits\\\":3,\\\"nameCanonical\\\":\\\"\\\"},{\\\"curriculum_requisites\\\":[],\\\"name\\\":\\\" \\\",\\\"metrics\\\":{\\\"centrality\\\":0,\\\"complexity\\\":1.0,\\\"blocking factor\\\":0,\\\"delay factor\\\":1.0},\\\"nameSub\\\":\\\"General Elective\\\",\\\"id\\\":14,\\\"credits\\\":4,\\\"nameCanonical\\\":\\\"\\\"}],\\\"id\\\":3},{\\\"name\\\":\\\"Term 4\\\",\\\"curriculum_items\\\":[{\\\"curriculum_requisites\\\":[{\\\"source_id\\\":11,\\\"target_id\\\":15,\\\"type\\\":\\\"CurriculumPrerequisite\\\"},{\\\"source_id\\\":6,\\\"target_id\\\":15,\\\"type\\\":\\\"CurriculumPrerequisite\\\"}],\\\"name\\\":\\\"198 206\\\",\\\"metrics\\\":{\\\"centrality\\\":13,\\\"complexity\\\":6.0,\\\"blocking factor\\\":1,\\\"delay factor\\\":5.0},\\\"nameSub\\\":\\\"Discrete Structures II\\\",\\\"id\\\":15,\\\"credits\\\":4,\\\"nameCanonical\\\":\\\"\\\"},{\\\"curriculum_requisites\\\":[],\\\"name\\\":\\\" \\\",\\\"metrics\\\":{\\\"centrality\\\":0,\\\"complexity\\\":1.0,\\\"blocking factor\\\":0,\\\"delay factor\\\":1.0},\\\"nameSub\\\":\\\"CS elective I\\\",\\\"id\\\":16,\\\"credits\\\":4,\\\"nameCanonical\\\":\\\"\\\"},{\\\"curriculum_requisites\\\":[],\\\"name\\\":\\\" \\\",\\\"metrics\\\":{\\\"centrality\\\":0,\\\"complexity\\\":1.0,\\\"blocking factor\\\":0,\\\"delay factor\\\":1.0},\\\"nameSub\\\":\\\"General Elective\\\",\\\"id\\\":17,\\\"credits\\\":4,\\\"nameCanonical\\\":\\\"\\\"},{\\\"curriculum_requisites\\\":[],\\\"name\\\":\\\" \\\",\\\"metrics\\\":{\\\"centrality\\\":0,\\\"complexity\\\":1.0,\\\"blocking factor\\\":0,\\\"delay factor\\\":1.0},\\\"nameSub\\\":\\\"General Elective\\\",\\\"id\\\":18,\\\"credits\\\":3,\\\"nameCanonical\\\":\\\"\\\"}],\\\"id\\\":4},{\\\"name\\\":\\\"Term 5\\\",\\\"curriculum_items\\\":[{\\\"curriculum_requisites\\\":[{\\\"source_id\\\":7,\\\"target_id\\\":19,\\\"type\\\":\\\"CurriculumPrerequisite\\\"},{\\\"source_id\\\":15,\\\"target_id\\\":19,\\\"type\\\":\\\"CurriculumPrerequisite\\\"}],\\\"name\\\":\\\"198 344\\\",\\\"metrics\\\":{\\\"centrality\\\":0,\\\"complexity\\\":5.0,\\\"blocking factor\\\":0,\\\"delay factor\\\":5.0},\\\"nameSub\\\":\\\"Design and Analysis of Algorithms\\\",\\\"id\\\":19,\\\"credits\\\":4,\\\"nameCanonical\\\":\\\"\\\"},{\\\"curriculum_requisites\\\":[],\\\"name\\\":\\\" \\\",\\\"metrics\\\":{\\\"centrality\\\":0,\\\"complexity\\\":1.0,\\\"blocking factor\\\":0,\\\"delay factor\\\":1.0},\\\"nameSub\\\":\\\"CS elective II\\\",\\\"id\\\":20,\\\"credits\\\":4,\\\"nameCanonical\\\":\\\"\\\"},{\\\"curriculum_requisites\\\":[],\\\"name\\\":\\\" \\\",\\\"metrics\\\":{\\\"centrality\\\":0,\\\"complexity\\\":1.0,\\\"blocking factor\\\":0,\\\"delay factor\\\":1.0},\\\"nameSub\\\":\\\"General Elective\\\",\\\"id\\\":21,\\\"credits\\\":4,\\\"nameCanonical\\\":\\\"\\\"},{\\\"curriculum_requisites\\\":[],\\\"name\\\":\\\" \\\",\\\"metrics\\\":{\\\"centrality\\\":0,\\\"complexity\\\":1.0,\\\"blocking factor\\\":0,\\\"delay factor\\\":1.0},\\\"nameSub\\\":\\\"General Elective\\\",\\\"id\\\":22,\\\"credits\\\":3,\\\"nameCanonical\\\":\\\"\\\"}],\\\"id\\\":5},{\\\"name\\\":\\\"Term 6\\\",\\\"curriculum_items\\\":[{\\\"curriculum_requisites\\\":[],\\\"name\\\":\\\" \\\",\\\"metrics\\\":{\\\"centrality\\\":0,\\\"complexity\\\":1.0,\\\"blocking factor\\\":0,\\\"delay factor\\\":1.0},\\\"nameSub\\\":\\\"CS elective III\\\",\\\"id\\\":23,\\\"credits\\\":4,\\\"nameCanonical\\\":\\\"\\\"},{\\\"curriculum_requisites\\\":[],\\\"name\\\":\\\" \\\",\\\"metrics\\\":{\\\"centrality\\\":0,\\\"complexity\\\":1.0,\\\"blocking factor\\\":0,\\\"delay factor\\\":1.0},\\\"nameSub\\\":\\\"CS elevtive IV\\\",\\\"id\\\":24,\\\"credits\\\":4,\\\"nameCanonical\\\":\\\"\\\"},{\\\"curriculum_requisites\\\":[],\\\"name\\\":\\\" \\\",\\\"metrics\\\":{\\\"centrality\\\":0,\\\"complexity\\\":1.0,\\\"blocking factor\\\":0,\\\"delay factor\\\":1.0},\\\"nameSub\\\":\\\"General Elective\\\",\\\"id\\\":25,\\\"credits\\\":4,\\\"nameCanonical\\\":\\\"\\\"},{\\\"curriculum_requisites\\\":[],\\\"name\\\":\\\" \\\",\\\"metrics\\\":{\\\"centrality\\\":0,\\\"complexity\\\":1.0,\\\"blocking factor\\\":0,\\\"delay factor\\\":1.0},\\\"nameSub\\\":\\\"General Elective\\\",\\\"id\\\":26,\\\"credits\\\":3,\\\"nameCanonical\\\":\\\"\\\"}],\\\"id\\\":6},{\\\"name\\\":\\\"Term 7\\\",\\\"curriculum_items\\\":[{\\\"curriculum_requisites\\\":[],\\\"name\\\":\\\" \\\",\\\"metrics\\\":{\\\"centrality\\\":0,\\\"complexity\\\":1.0,\\\"blocking factor\\\":0,\\\"delay factor\\\":1.0},\\\"nameSub\\\":\\\"CS elective V\\\",\\\"id\\\":27,\\\"credits\\\":4,\\\"nameCanonical\\\":\\\"\\\"},{\\\"curriculum_requisites\\\":[],\\\"name\\\":\\\" \\\",\\\"metrics\\\":{\\\"centrality\\\":0,\\\"complexity\\\":1.0,\\\"blocking factor\\\":0,\\\"delay factor\\\":1.0},\\\"nameSub\\\":\\\"CS elective VI\\\",\\\"id\\\":28,\\\"credits\\\":4,\\\"nameCanonical\\\":\\\"\\\"},{\\\"curriculum_requisites\\\":[],\\\"name\\\":\\\" \\\",\\\"metrics\\\":{\\\"centrality\\\":0,\\\"complexity\\\":1.0,\\\"blocking factor\\\":0,\\\"delay factor\\\":1.0},\\\"nameSub\\\":\\\"General Elective\\\",\\\"id\\\":29,\\\"credits\\\":4,\\\"nameCanonical\\\":\\\"\\\"},{\\\"curriculum_requisites\\\":[],\\\"name\\\":\\\" \\\",\\\"metrics\\\":{\\\"centrality\\\":0,\\\"complexity\\\":1.0,\\\"blocking factor\\\":0,\\\"delay factor\\\":1.0},\\\"nameSub\\\":\\\"General Elective\\\",\\\"id\\\":30,\\\"credits\\\":3,\\\"nameCanonical\\\":\\\"\\\"}],\\\"id\\\":7},{\\\"name\\\":\\\"Term 8\\\",\\\"curriculum_items\\\":[{\\\"curriculum_requisites\\\":[],\\\"name\\\":\\\" \\\",\\\"metrics\\\":{\\\"centrality\\\":0,\\\"complexity\\\":1.0,\\\"blocking factor\\\":0,\\\"delay factor\\\":1.0},\\\"nameSub\\\":\\\"CS elective VII\\\",\\\"id\\\":31,\\\"credits\\\":4,\\\"nameCanonical\\\":\\\"\\\"},{\\\"curriculum_requisites\\\":[],\\\"name\\\":\\\" \\\",\\\"metrics\\\":{\\\"centrality\\\":0,\\\"complexity\\\":1.0,\\\"blocking factor\\\":0,\\\"delay factor\\\":1.0},\\\"nameSub\\\":\\\"General Elective\\\",\\\"id\\\":32,\\\"credits\\\":4,\\\"nameCanonical\\\":\\\"\\\"},{\\\"curriculum_requisites\\\":[],\\\"name\\\":\\\" \\\",\\\"metrics\\\":{\\\"centrality\\\":0,\\\"complexity\\\":1.0,\\\"blocking factor\\\":0,\\\"delay factor\\\":1.0},\\\"nameSub\\\":\\\"General Elective\\\",\\\"id\\\":33,\\\"credits\\\":4,\\\"nameCanonical\\\":\\\"\\\"},{\\\"curriculum_requisites\\\":[],\\\"name\\\":\\\" \\\",\\\"metrics\\\":{\\\"centrality\\\":0,\\\"complexity\\\":1.0,\\\"blocking factor\\\":0,\\\"delay factor\\\":1.0},\\\"nameSub\\\":\\\"General Elective\\\",\\\"id\\\":34,\\\"credits\\\":3,\\\"nameCanonical\\\":\\\"\\\"}],\\\"id\\\":8}],\\\"institution\\\":\\\"Rutgers University\\\"}},\\\"*\\\"); window.removeEventListener(\\\"message\\\",window.messageReceived); window.messageReceived=(function (event){return (event.data.curriculum!==undefined) ? (WebIO.setval({\\\"name\\\":\\\"curriculum-data\\\",\\\"scope\\\":\\\"10241226247036410059\\\",\\\"id\\\":\\\"13062425486608568848\\\",\\\"type\\\":\\\"observable\\\"},event.data.curriculum)) : undefined}); return window.addEventListener(\\\"message\\\",window.messageReceived)})\"},\"style\":{\"padding\":\"0\",\"height\":\"100vh\",\"margin\":\"0\",\"border\":\"none\",\"width\":\"100%\"}},\"nodeType\":\"DOM\",\"type\":\"node\",\"instanceArgs\":{\"namespace\":\"html\",\"tag\":\"iframe\"},\"children\":[\"\"]}]},\n",
       "            window,\n",
       "        );\n",
       "    } else {\n",
       "        document\n",
       "            .querySelector('[data-webio-mountpoint=\"15517611619357487970\"]')\n",
       "            .innerHTML = (\n",
       "                '<div style=\"padding: 1em; background-color: #f8d6da; border: 1px solid #f5c6cb\">' +\n",
       "                '<p><strong>WebIO not detected.</strong></p>' +\n",
       "                '<p>Please read ' +\n",
       "                '<a href=\"https://juliagizmos.github.io/WebIO.jl/latest/troubleshooting/not-detected/\" target=\"_blank\">the troubleshooting guide</a> ' +\n",
       "                'for more information on how to resolve this issue.</p>' +\n",
       "                '<p><a href=\"https://juliagizmos.github.io/WebIO.jl/latest/troubleshooting/not-detected/\" target=\"_blank\">https://juliagizmos.github.io/WebIO.jl/latest/troubleshooting/not-detected/</a></p>' +\n",
       "                '</div>'\n",
       "            );\n",
       "    }\n",
       "    </script>\n",
       "</div>\n"
      ],
      "text/plain": [
       "WebIO.Scope(WebIO.Node{WebIO.DOM}(WebIO.DOM(:html, :iframe), Any[\"\"], Dict{Symbol,Any}(:src => \"http://localhost:8156\",:id => \"curriculum\",:events => Dict{Symbol,WebIO.JSString}(:load => WebIO.JSString(\"(function (){this.contentWindow.postMessage({\\\"options\\\":{\\\"hideTerms\\\":false,\\\"edit\\\":false},\\\"curriculum\\\":{\\\"name\\\":\\\"Computer Science\\\",\\\"dp_name\\\":\\\"4-Year Plan\\\",\\\"curriculum_terms\\\":[{\\\"name\\\":\\\"Term 1\\\",\\\"curriculum_items\\\":[{\\\"curriculum_requisites\\\":[],\\\"name\\\":\\\"640 151\\\",\\\"metrics\\\":{\\\"centrality\\\":0,\\\"complexity\\\":12.0,\\\"blocking factor\\\":7,\\\"delay factor\\\":5.0},\\\"nameSub\\\":\\\"Calculus I\\\",\\\"id\\\":1,\\\"credits\\\":4,\\\"nameCanonical\\\":\\\"\\\"},{\\\"curriculum_requisites\\\":[],\\\"name\\\":\\\"198 111\\\",\\\"metrics\\\":{\\\"centrality\\\":0,\\\"complexity\\\":9.0,\\\"blocking factor\\\":5,\\\"delay factor\\\":4.0},\\\"nameSub\\\":\\\"Introduction to Computer Science\\\",\\\"id\\\":2,\\\"credits\\\":4,\\\"nameCanonical\\\":\\\"\\\"},{\\\"curriculum_requisites\\\":[],\\\"name\\\":\\\" \\\",\\\"metrics\\\":{\\\"centrality\\\":0,\\\"complexity\\\":1.0,\\\"blocking factor\\\":0,\\\"delay factor\\\":1.0},\\\"nameSub\\\":\\\"SAS signature course or other general elective\\\",\\\"id\\\":3,\\\"credits\\\":3,\\\"nameCanonical\\\":\\\"\\\"},{\\\"curriculum_requisites\\\":[],\\\"name\\\":\\\" \\\",\\\"metrics\\\":{\\\"centrality\\\":0,\\\"complexity\\\":1.0,\\\"blocking factor\\\":0,\\\"delay factor\\\":1.0},\\\"nameSub\\\":\\\"General Elective\\\",\\\"id\\\":4,\\\"credits\\\":3,\\\"nameCanonical\\\":\\\"\\\"},{\\\"curriculum_requisites\\\":[],\\\"name\\\":\\\" \\\",\\\"metrics\\\":{\\\"centrality\\\":0,\\\"complexity\\\":1.0,\\\"blocking factor\\\":0,\\\"delay factor\\\":1.0},\\\"nameSub\\\":\\\"Byrne seminar or First-year Interest Group seminar\\\",\\\"id\\\":5,\\\"credits\\\":1,\\\"nameCanonical\\\":\\\"\\\"}],\\\"id\\\":1},{\\\"name\\\":\\\"Term 2\\\",\\\"curriculum_items\\\":[{\\\"curriculum_requisites\\\":[{\\\"source_id\\\":1,\\\"target_id\\\":6,\\\"type\\\":\\\"CurriculumPrerequisite\\\"}],\\\"name\\\":\\\"640 152\\\",\\\"metrics\\\":{\\\"centrality\\\":12,\\\"complexity\\\":9.0,\\\"blocking factor\\\":4,\\\"delay factor\\\":5.0},\\\"nameSub\\\":\\\"Calculus II\\\",\\\"id\\\":6,\\\"credits\\\":4,\\\"nameCanonical\\\":\\\"\\\"},{\\\"curriculum_requisites\\\":[{\\\"source_id\\\":2,\\\"target_id\\\":7,\\\"type\\\":\\\"CurriculumPrerequisite\\\"},{\\\"source_id\\\":1,\\\"target_id\\\":7,\\\"type\\\":\\\"CurriculumPrerequisite\\\"}],\\\"name\\\":\\\"198 112\\\",\\\"metrics\\\":{\\\"centrality\\\":12,\\\"complexity\\\":5.0,\\\"blocking factor\\\":2,\\\"delay factor\\\":3.0},\\\"nameSub\\\":\\\"Data Structures\\\",\\\"id\\\":7,\\\"credits\\\":4,\\\"nameCanonical\\\":\\\"\\\"},{\\\"curriculum_requisites\\\":[],\\\"name\\\":\\\" \\\",\\\"metrics\\\":{\\\"centrality\\\":0,\\\"complexity\\\":1.0,\\\"blocking factor\\\":0,\\\"delay factor\\\":1.0},\\\"nameSub\\\":\\\"General elective\\\",\\\"id\\\":8,\\\"credits\\\":3,\\\"nameCanonical\\\":\\\"\\\"},{\\\"curriculum_requisites\\\":[],\\\"name\\\":\\\" \\\",\\\"metrics\\\":{\\\"centrality\\\":0,\\\"complexity\\\":1.0,\\\"blocking factor\\\":0,\\\"delay factor\\\":1.0},\\\"nameSub\\\":\\\"General Elective\\\",\\\"id\\\":9,\\\"credits\\\":3,\\\"nameCanonical\\\":\\\"\\\"},{\\\"curriculum_requisites\\\":[],\\\"name\\\":\\\" \\\",\\\"metrics\\\":{\\\"centrality\\\":0,\\\"complexity\\\":1.0,\\\"blocking factor\\\":0,\\\"delay factor\\\":1.0},\\\"nameSub\\\":\\\"Byrne Seminar\\\",\\\"id\\\":10,\\\"credits\\\":1,\\\"nameCanonical\\\":\\\"\\\"}],\\\"id\\\":2},{\\\"name\\\":\\\"Term 3\\\",\\\"curriculum_items\\\":[{\\\"curriculum_requisites\\\":[{\\\"source_id\\\":2,\\\"target_id\\\":11,\\\"type\\\":\\\"CurriculumPrerequisite\\\"},{\\\"source_id\\\":6,\\\"target_id\\\":11,\\\"type\\\":\\\"CurriculumPrerequisite\\\"}],\\\"name\\\":\\\"198 205\\\",\\\"metrics\\\":{\\\"centrality\\\":9,\\\"complexity\\\":7.0,\\\"blocking factor\\\":2,\\\"delay factor\\\":5.0},\\\"nameSub\\\":\\\"Discrete Structures I\\\",\\\"id\\\":11,\\\"credits\\\":4,\\\"nameCanonical\\\":\\\"\\\"},{\\\"curriculum_requisites\\\":[{\\\"source_id\\\":7,\\\"target_id\\\":12,\\\"type\\\":\\\"CurriculumPrerequisite\\\"}],\\\"name\\\":\\\"198 211\\\",\\\"metrics\\\":{\\\"centrality\\\":0,\\\"complexity\\\":3.0,\\\"blocking factor\\\":0,\\\"delay factor\\\":3.0},\\\"nameSub\\\":\\\"Computer Architecture\\\",\\\"id\\\":12,\\\"credits\\\":4,\\\"nameCanonical\\\":\\\"\\\"},{\\\"curriculum_requisites\\\":[{\\\"source_id\\\":6,\\\"target_id\\\":13,\\\"type\\\":\\\"CurriculumPrerequisite\\\"}],\\\"name\\\":\\\"640 250\\\",\\\"metrics\\\":{\\\"centrality\\\":0,\\\"complexity\\\":3.0,\\\"blocking factor\\\":0,\\\"delay factor\\\":3.0},\\\"nameSub\\\":\\\"Linear Algebra\\\",\\\"id\\\":13,\\\"credits\\\":3,\\\"nameCanonical\\\":\\\"\\\"},{\\\"curriculum_requisites\\\":[],\\\"name\\\":\\\" \\\",\\\"metrics\\\":{\\\"centrality\\\":0,\\\"complexity\\\":1.0,\\\"blocking factor\\\":0,\\\"delay factor\\\":1.0},\\\"nameSub\\\":\\\"General Elective\\\",\\\"id\\\":14,\\\"credits\\\":4,\\\"nameCanonical\\\":\\\"\\\"}],\\\"id\\\":3},{\\\"name\\\":\\\"Term 4\\\",\\\"curriculum_items\\\":[{\\\"curriculum_requisites\\\":[{\\\"source_id\\\":11,\\\"target_id\\\":15,\\\"type\\\":\\\"CurriculumPrerequisite\\\"},{\\\"source_id\\\":6,\\\"target_id\\\":15,\\\"type\\\":\\\"CurriculumPrerequisite\\\"}],\\\"name\\\":\\\"198 206\\\",\\\"metrics\\\":{\\\"centrality\\\":13,\\\"complexity\\\":6.0,\\\"blocking factor\\\":1,\\\"delay factor\\\":5.0},\\\"nameSub\\\":\\\"Discrete Structures II\\\",\\\"id\\\":15,\\\"credits\\\":4,\\\"nameCanonical\\\":\\\"\\\"},{\\\"curriculum_requisites\\\":[],\\\"name\\\":\\\" \\\",\\\"metrics\\\":{\\\"centrality\\\":0,\\\"complexity\\\":1.0,\\\"blocking factor\\\":0,\\\"delay factor\\\":1.0},\\\"nameSub\\\":\\\"CS elective I\\\",\\\"id\\\":16,\\\"credits\\\":4,\\\"nameCanonical\\\":\\\"\\\"},{\\\"curriculum_requisites\\\":[],\\\"name\\\":\\\" \\\",\\\"metrics\\\":{\\\"centrality\\\":0,\\\"complexity\\\":1.0,\\\"blocking factor\\\":0,\\\"delay factor\\\":1.0},\\\"nameSub\\\":\\\"General Elective\\\",\\\"id\\\":17,\\\"credits\\\":4,\\\"nameCanonical\\\":\\\"\\\"},{\\\"curriculum_requisites\\\":[],\\\"name\\\":\\\" \\\",\\\"metrics\\\":{\\\"centrality\\\":0,\\\"complexity\\\":1.0,\\\"blocking factor\\\":0,\\\"delay factor\\\":1.0},\\\"nameSub\\\":\\\"General Elective\\\",\\\"id\\\":18,\\\"credits\\\":3,\\\"nameCanonical\\\":\\\"\\\"}],\\\"id\\\":4},{\\\"name\\\":\\\"Term 5\\\",\\\"curriculum_items\\\":[{\\\"curriculum_requisites\\\":[{\\\"source_id\\\":7,\\\"target_id\\\":19,\\\"type\\\":\\\"CurriculumPrerequisite\\\"},{\\\"source_id\\\":15,\\\"target_id\\\":19,\\\"type\\\":\\\"CurriculumPrerequisite\\\"}],\\\"name\\\":\\\"198 344\\\",\\\"metrics\\\":{\\\"centrality\\\":0,\\\"complexity\\\":5.0,\\\"blocking factor\\\":0,\\\"delay factor\\\":5.0},\\\"nameSub\\\":\\\"Design and Analysis of Algorithms\\\",\\\"id\\\":19,\\\"credits\\\":4,\\\"nameCanonical\\\":\\\"\\\"},{\\\"curriculum_requisites\\\":[],\\\"name\\\":\\\" \\\",\\\"metrics\\\":{\\\"centrality\\\":0,\\\"complexity\\\":1.0,\\\"blocking factor\\\":0,\\\"delay factor\\\":1.0},\\\"nameSub\\\":\\\"CS elective II\\\",\\\"id\\\":20,\\\"credits\\\":4,\\\"nameCanonical\\\":\\\"\\\"},{\\\"curriculum_requisites\\\":[],\\\"name\\\":\\\" \\\",\\\"metrics\\\":{\\\"centrality\\\":0,\\\"complexity\\\":1.0,\\\"blocking factor\\\":0,\\\"delay factor\\\":1.0},\\\"nameSub\\\":\\\"General Elective\\\",\\\"id\\\":21,\\\"credits\\\":4,\\\"nameCanonical\\\":\\\"\\\"},{\\\"curriculum_requisites\\\":[],\\\"name\\\":\\\" \\\",\\\"metrics\\\":{\\\"centrality\\\":0,\\\"complexity\\\":1.0,\\\"blocking factor\\\":0,\\\"delay factor\\\":1.0},\\\"nameSub\\\":\\\"General Elective\\\",\\\"id\\\":22,\\\"credits\\\":3,\\\"nameCanonical\\\":\\\"\\\"}],\\\"id\\\":5},{\\\"name\\\":\\\"Term 6\\\",\\\"curriculum_items\\\":[{\\\"curriculum_requisites\\\":[],\\\"name\\\":\\\" \\\",\\\"metrics\\\":{\\\"centrality\\\":0,\\\"complexity\\\":1.0,\\\"blocking factor\\\":0,\\\"delay factor\\\":1.0},\\\"nameSub\\\":\\\"CS elective III\\\",\\\"id\\\":23,\\\"credits\\\":4,\\\"nameCanonical\\\":\\\"\\\"},{\\\"curriculum_requisites\\\":[],\\\"name\\\":\\\" \\\",\\\"metrics\\\":{\\\"centrality\\\":0,\\\"complexity\\\":1.0,\\\"blocking factor\\\":0,\\\"delay factor\\\":1.0},\\\"nameSub\\\":\\\"CS elevtive IV\\\",\\\"id\\\":24,\\\"credits\\\":4,\\\"nameCanonical\\\":\\\"\\\"},{\\\"curriculum_requisites\\\":[],\\\"name\\\":\\\" \\\",\\\"metrics\\\":{\\\"centrality\\\":0,\\\"complexity\\\":1.0,\\\"blocking factor\\\":0,\\\"delay factor\\\":1.0},\\\"nameSub\\\":\\\"General Elective\\\",\\\"id\\\":25,\\\"credits\\\":4,\\\"nameCanonical\\\":\\\"\\\"},{\\\"curriculum_requisites\\\":[],\\\"name\\\":\\\" \\\",\\\"metrics\\\":{\\\"centrality\\\":0,\\\"complexity\\\":1.0,\\\"blocking factor\\\":0,\\\"delay factor\\\":1.0},\\\"nameSub\\\":\\\"General Elective\\\",\\\"id\\\":26,\\\"credits\\\":3,\\\"nameCanonical\\\":\\\"\\\"}],\\\"id\\\":6},{\\\"name\\\":\\\"Term 7\\\",\\\"curriculum_items\\\":[{\\\"curriculum_requisites\\\":[],\\\"name\\\":\\\" \\\",\\\"metrics\\\":{\\\"centrality\\\":0,\\\"complexity\\\":1.0,\\\"blocking factor\\\":0,\\\"delay factor\\\":1.0},\\\"nameSub\\\":\\\"CS elective V\\\",\\\"id\\\":27,\\\"credits\\\":4,\\\"nameCanonical\\\":\\\"\\\"},{\\\"curriculum_requisites\\\":[],\\\"name\\\":\\\" \\\",\\\"metrics\\\":{\\\"centrality\\\":0,\\\"complexity\\\":1.0,\\\"blocking factor\\\":0,\\\"delay factor\\\":1.0},\\\"nameSub\\\":\\\"CS elective VI\\\",\\\"id\\\":28,\\\"credits\\\":4,\\\"nameCanonical\\\":\\\"\\\"},{\\\"curriculum_requisites\\\":[],\\\"name\\\":\\\" \\\",\\\"metrics\\\":{\\\"centrality\\\":0,\\\"complexity\\\":1.0,\\\"blocking factor\\\":0,\\\"delay factor\\\":1.0},\\\"nameSub\\\":\\\"General Elective\\\",\\\"id\\\":29,\\\"credits\\\":4,\\\"nameCanonical\\\":\\\"\\\"},{\\\"curriculum_requisites\\\":[],\\\"name\\\":\\\" \\\",\\\"metrics\\\":{\\\"centrality\\\":0,\\\"complexity\\\":1.0,\\\"blocking factor\\\":0,\\\"delay factor\\\":1.0},\\\"nameSub\\\":\\\"General Elective\\\",\\\"id\\\":30,\\\"credits\\\":3,\\\"nameCanonical\\\":\\\"\\\"}],\\\"id\\\":7},{\\\"name\\\":\\\"Term 8\\\",\\\"curriculum_items\\\":[{\\\"curriculum_requisites\\\":[],\\\"name\\\":\\\" \\\",\\\"metrics\\\":{\\\"centrality\\\":0,\\\"complexity\\\":1.0,\\\"blocking factor\\\":0,\\\"delay factor\\\":1.0},\\\"nameSub\\\":\\\"CS elective VII\\\",\\\"id\\\":31,\\\"credits\\\":4,\\\"nameCanonical\\\":\\\"\\\"},{\\\"curriculum_requisites\\\":[],\\\"name\\\":\\\" \\\",\\\"metrics\\\":{\\\"centrality\\\":0,\\\"complexity\\\":1.0,\\\"blocking factor\\\":0,\\\"delay factor\\\":1.0},\\\"nameSub\\\":\\\"General Elective\\\",\\\"id\\\":32,\\\"credits\\\":4,\\\"nameCanonical\\\":\\\"\\\"},{\\\"curriculum_requisites\\\":[],\\\"name\\\":\\\" \\\",\\\"metrics\\\":{\\\"centrality\\\":0,\\\"complexity\\\":1.0,\\\"blocking factor\\\":0,\\\"delay factor\\\":1.0},\\\"nameSub\\\":\\\"General Elective\\\",\\\"id\\\":33,\\\"credits\\\":4,\\\"nameCanonical\\\":\\\"\\\"},{\\\"curriculum_requisites\\\":[],\\\"name\\\":\\\" \\\",\\\"metrics\\\":{\\\"centrality\\\":0,\\\"complexity\\\":1.0,\\\"blocking factor\\\":0,\\\"delay factor\\\":1.0},\\\"nameSub\\\":\\\"General Elective\\\",\\\"id\\\":34,\\\"credits\\\":3,\\\"nameCanonical\\\":\\\"\\\"}],\\\"id\\\":8}],\\\"institution\\\":\\\"Rutgers University\\\"}},\\\"*\\\"); window.removeEventListener(\\\"message\\\",window.messageReceived); window.messageReceived=(function (event){return (event.data.curriculum!==undefined) ? (WebIO.setval({\\\"name\\\":\\\"curriculum-data\\\",\\\"scope\\\":\\\"10241226247036410059\\\",\\\"id\\\":\\\"13062425486608568848\\\",\\\"type\\\":\\\"observable\\\"},event.data.curriculum)) : undefined}); return window.addEventListener(\\\"message\\\",window.messageReceived)})\")),:style => Dict(:padding => \"0\",:height => \"100vh\",:margin => \"0\",:border => \"none\",:width => \"100%\"))), Dict{String,Tuple{Observables.AbstractObservable,Union{Nothing, Bool}}}(\"curriculum-data\" => (Observable{Dict{String,Any}} with 1 listeners. Value:\n",
       "Dict{String,Any}(\"options\" => Dict{String,Any}(\"hideTerms\" => false,\"edit\" => false),\"curriculum\" => Dict{String,Any}(\"name\" => \"Computer Science\",\"dp_name\" => \"4-Year Plan\",\"curriculum_terms\" => Dict{String,Any}[Dict(\"name\" => \"Term 1\",\"curriculum_items\" => Dict{String,Any}[Dict(\"curriculum_requisites\" => Dict{String,Any}[],\"name\" => \"640 151\",\"metrics\" => Dict{String,Any}(\"centrality\" => 0,\"complexity\" => 12.0,\"blocking factor\" => 7,\"delay factor\" => 5.0),\"nameSub\" => \"Calculus I\",\"id\" => 1,\"credits\" => 4,\"nameCanonical\" => \"\"), Dict(\"curriculum_requisites\" => Dict{String,Any}[],\"name\" => \"198 111\",\"metrics\" => Dict{String,Any}(\"centrality\" => 0,\"complexity\" => 9.0,\"blocking factor\" => 5,\"delay factor\" => 4.0),\"nameSub\" => \"Introduction to Computer Science\",\"id\" => 2,\"credits\" => 4,\"nameCanonical\" => \"\"), Dict(\"curriculum_requisites\" => Dict{String,Any}[],\"name\" => \" \",\"metrics\" => Dict{String,Any}(\"centrality\" => 0,\"complexity\" => 1.0,\"blocking factor\" => 0,\"delay factor\" => 1.0),\"nameSub\" => \"SAS signature course or other general elective\",\"id\" => 3,\"credits\" => 3,\"nameCanonical\" => \"\"), Dict(\"curriculum_requisites\" => Dict{String,Any}[],\"name\" => \" \",\"metrics\" => Dict{String,Any}(\"centrality\" => 0,\"complexity\" => 1.0,\"blocking factor\" => 0,\"delay factor\" => 1.0),\"nameSub\" => \"General Elective\",\"id\" => 4,\"credits\" => 3,\"nameCanonical\" => \"\"), Dict(\"curriculum_requisites\" => Dict{String,Any}[],\"name\" => \" \",\"metrics\" => Dict{String,Any}(\"centrality\" => 0,\"complexity\" => 1.0,\"blocking factor\" => 0,\"delay factor\" => 1.0),\"nameSub\" => \"Byrne seminar or First-year Interest Group seminar\",\"id\" => 5,\"credits\" => 1,\"nameCanonical\" => \"\")],\"id\" => 1), Dict(\"name\" => \"Term 2\",\"curriculum_items\" => Dict{String,Any}[Dict(\"curriculum_requisites\" => Dict{String,Any}[Dict(\"source_id\" => 1,\"target_id\" => 6,\"type\" => \"CurriculumPrerequisite\")],\"name\" => \"640 152\",\"metrics\" => Dict{String,Any}(\"centrality\" => 12,\"complexity\" => 9.0,\"blocking factor\" => 4,\"delay factor\" => 5.0),\"nameSub\" => \"Calculus II\",\"id\" => 6,\"credits\" => 4,\"nameCanonical\" => \"\"), Dict(\"curriculum_requisites\" => Dict{String,Any}[Dict(\"source_id\" => 2,\"target_id\" => 7,\"type\" => \"CurriculumPrerequisite\"), Dict(\"source_id\" => 1,\"target_id\" => 7,\"type\" => \"CurriculumPrerequisite\")],\"name\" => \"198 112\",\"metrics\" => Dict{String,Any}(\"centrality\" => 12,\"complexity\" => 5.0,\"blocking factor\" => 2,\"delay factor\" => 3.0),\"nameSub\" => \"Data Structures\",\"id\" => 7,\"credits\" => 4,\"nameCanonical\" => \"\"), Dict(\"curriculum_requisites\" => Dict{String,Any}[],\"name\" => \" \",\"metrics\" => Dict{String,Any}(\"centrality\" => 0,\"complexity\" => 1.0,\"blocking factor\" => 0,\"delay factor\" => 1.0),\"nameSub\" => \"General elective\",\"id\" => 8,\"credits\" => 3,\"nameCanonical\" => \"\"), Dict(\"curriculum_requisites\" => Dict{String,Any}[],\"name\" => \" \",\"metrics\" => Dict{String,Any}(\"centrality\" => 0,\"complexity\" => 1.0,\"blocking factor\" => 0,\"delay factor\" => 1.0),\"nameSub\" => \"General Elective\",\"id\" => 9,\"credits\" => 3,\"nameCanonical\" => \"\"), Dict(\"curriculum_requisites\" => Dict{String,Any}[],\"name\" => \" \",\"metrics\" => Dict{String,Any}(\"centrality\" => 0,\"complexity\" => 1.0,\"blocking factor\" => 0,\"delay factor\" => 1.0),\"nameSub\" => \"Byrne Seminar\",\"id\" => 10,\"credits\" => 1,\"nameCanonical\" => \"\")],\"id\" => 2), Dict(\"name\" => \"Term 3\",\"curriculum_items\" => Dict{String,Any}[Dict(\"curriculum_requisites\" => Dict{String,Any}[Dict(\"source_id\" => 2,\"target_id\" => 11,\"type\" => \"CurriculumPrerequisite\"), Dict(\"source_id\" => 6,\"target_id\" => 11,\"type\" => \"CurriculumPrerequisite\")],\"name\" => \"198 205\",\"metrics\" => Dict{String,Any}(\"centrality\" => 9,\"complexity\" => 7.0,\"blocking factor\" => 2,\"delay factor\" => 5.0),\"nameSub\" => \"Discrete Structures I\",\"id\" => 11,\"credits\" => 4,\"nameCanonical\" => \"\"), Dict(\"curriculum_requisites\" => Dict{String,Any}[Dict(\"source_id\" => 7,\"target_id\" => 12,\"type\" => \"CurriculumPrerequisite\")],\"name\" => \"198 211\",\"metrics\" => Dict{String,Any}(\"centrality\" => 0,\"complexity\" => 3.0,\"blocking factor\" => 0,\"delay factor\" => 3.0),\"nameSub\" => \"Computer Architecture\",\"id\" => 12,\"credits\" => 4,\"nameCanonical\" => \"\"), Dict(\"curriculum_requisites\" => Dict{String,Any}[Dict(\"source_id\" => 6,\"target_id\" => 13,\"type\" => \"CurriculumPrerequisite\")],\"name\" => \"640 250\",\"metrics\" => Dict{String,Any}(\"centrality\" => 0,\"complexity\" => 3.0,\"blocking factor\" => 0,\"delay factor\" => 3.0),\"nameSub\" => \"Linear Algebra\",\"id\" => 13,\"credits\" => 3,\"nameCanonical\" => \"\"), Dict(\"curriculum_requisites\" => Dict{String,Any}[],\"name\" => \" \",\"metrics\" => Dict{String,Any}(\"centrality\" => 0,\"complexity\" => 1.0,\"blocking factor\" => 0,\"delay factor\" => 1.0),\"nameSub\" => \"General Elective\",\"id\" => 14,\"credits\" => 4,\"nameCanonical\" => \"\")],\"id\" => 3), Dict(\"name\" => \"Term 4\",\"curriculum_items\" => Dict{String,Any}[Dict(\"curriculum_requisites\" => Dict{String,Any}[Dict(\"source_id\" => 11,\"target_id\" => 15,\"type\" => \"CurriculumPrerequisite\"), Dict(\"source_id\" => 6,\"target_id\" => 15,\"type\" => \"CurriculumPrerequisite\")],\"name\" => \"198 206\",\"metrics\" => Dict{String,Any}(\"centrality\" => 13,\"complexity\" => 6.0,\"blocking factor\" => 1,\"delay factor\" => 5.0),\"nameSub\" => \"Discrete Structures II\",\"id\" => 15,\"credits\" => 4,\"nameCanonical\" => \"\"), Dict(\"curriculum_requisites\" => Dict{String,Any}[],\"name\" => \" \",\"metrics\" => Dict{String,Any}(\"centrality\" => 0,\"complexity\" => 1.0,\"blocking factor\" => 0,\"delay factor\" => 1.0),\"nameSub\" => \"CS elective I\",\"id\" => 16,\"credits\" => 4,\"nameCanonical\" => \"\"), Dict(\"curriculum_requisites\" => Dict{String,Any}[],\"name\" => \" \",\"metrics\" => Dict{String,Any}(\"centrality\" => 0,\"complexity\" => 1.0,\"blocking factor\" => 0,\"delay factor\" => 1.0),\"nameSub\" => \"General Elective\",\"id\" => 17,\"credits\" => 4,\"nameCanonical\" => \"\"), Dict(\"curriculum_requisites\" => Dict{String,Any}[],\"name\" => \" \",\"metrics\" => Dict{String,Any}(\"centrality\" => 0,\"complexity\" => 1.0,\"blocking factor\" => 0,\"delay factor\" => 1.0),\"nameSub\" => \"General Elective\",\"id\" => 18,\"credits\" => 3,\"nameCanonical\" => \"\")],\"id\" => 4), Dict(\"name\" => \"Term 5\",\"curriculum_items\" => Dict{String,Any}[Dict(\"curriculum_requisites\" => Dict{String,Any}[Dict(\"source_id\" => 7,\"target_id\" => 19,\"type\" => \"CurriculumPrerequisite\"), Dict(\"source_id\" => 15,\"target_id\" => 19,\"type\" => \"CurriculumPrerequisite\")],\"name\" => \"198 344\",\"metrics\" => Dict{String,Any}(\"centrality\" => 0,\"complexity\" => 5.0,\"blocking factor\" => 0,\"delay factor\" => 5.0),\"nameSub\" => \"Design and Analysis of Algorithms\",\"id\" => 19,\"credits\" => 4,\"nameCanonical\" => \"\"), Dict(\"curriculum_requisites\" => Dict{String,Any}[],\"name\" => \" \",\"metrics\" => Dict{String,Any}(\"centrality\" => 0,\"complexity\" => 1.0,\"blocking factor\" => 0,\"delay factor\" => 1.0),\"nameSub\" => \"CS elective II\",\"id\" => 20,\"credits\" => 4,\"nameCanonical\" => \"\"), Dict(\"curriculum_requisites\" => Dict{String,Any}[],\"name\" => \" \",\"metrics\" => Dict{String,Any}(\"centrality\" => 0,\"complexity\" => 1.0,\"blocking factor\" => 0,\"delay factor\" => 1.0),\"nameSub\" => \"General Elective\",\"id\" => 21,\"credits\" => 4,\"nameCanonical\" => \"\"), Dict(\"curriculum_requisites\" => Dict{String,Any}[],\"name\" => \" \",\"metrics\" => Dict{String,Any}(\"centrality\" => 0,\"complexity\" => 1.0,\"blocking factor\" => 0,\"delay factor\" => 1.0),\"nameSub\" => \"General Elective\",\"id\" => 22,\"credits\" => 3,\"nameCanonical\" => \"\")],\"id\" => 5), Dict(\"name\" => \"Term 6\",\"curriculum_items\" => Dict{String,Any}[Dict(\"curriculum_requisites\" => Dict{String,Any}[],\"name\" => \" \",\"metrics\" => Dict{String,Any}(\"centrality\" => 0,\"complexity\" => 1.0,\"blocking factor\" => 0,\"delay factor\" => 1.0),\"nameSub\" => \"CS elective III\",\"id\" => 23,\"credits\" => 4,\"nameCanonical\" => \"\"), Dict(\"curriculum_requisites\" => Dict{String,Any}[],\"name\" => \" \",\"metrics\" => Dict{String,Any}(\"centrality\" => 0,\"complexity\" => 1.0,\"blocking factor\" => 0,\"delay factor\" => 1.0),\"nameSub\" => \"CS elevtive IV\",\"id\" => 24,\"credits\" => 4,\"nameCanonical\" => \"\"), Dict(\"curriculum_requisites\" => Dict{String,Any}[],\"name\" => \" \",\"metrics\" => Dict{String,Any}(\"centrality\" => 0,\"complexity\" => 1.0,\"blocking factor\" => 0,\"delay factor\" => 1.0),\"nameSub\" => \"General Elective\",\"id\" => 25,\"credits\" => 4,\"nameCanonical\" => \"\"), Dict(\"curriculum_requisites\" => Dict{String,Any}[],\"name\" => \" \",\"metrics\" => Dict{String,Any}(\"centrality\" => 0,\"complexity\" => 1.0,\"blocking factor\" => 0,\"delay factor\" => 1.0),\"nameSub\" => \"General Elective\",\"id\" => 26,\"credits\" => 3,\"nameCanonical\" => \"\")],\"id\" => 6), Dict(\"name\" => \"Term 7\",\"curriculum_items\" => Dict{String,Any}[Dict(\"curriculum_requisites\" => Dict{String,Any}[],\"name\" => \" \",\"metrics\" => Dict{String,Any}(\"centrality\" => 0,\"complexity\" => 1.0,\"blocking factor\" => 0,\"delay factor\" => 1.0),\"nameSub\" => \"CS elective V\",\"id\" => 27,\"credits\" => 4,\"nameCanonical\" => \"\"), Dict(\"curriculum_requisites\" => Dict{String,Any}[],\"name\" => \" \",\"metrics\" => Dict{String,Any}(\"centrality\" => 0,\"complexity\" => 1.0,\"blocking factor\" => 0,\"delay factor\" => 1.0),\"nameSub\" => \"CS elective VI\",\"id\" => 28,\"credits\" => 4,\"nameCanonical\" => \"\"), Dict(\"curriculum_requisites\" => Dict{String,Any}[],\"name\" => \" \",\"metrics\" => Dict{String,Any}(\"centrality\" => 0,\"complexity\" => 1.0,\"blocking factor\" => 0,\"delay factor\" => 1.0),\"nameSub\" => \"General Elective\",\"id\" => 29,\"credits\" => 4,\"nameCanonical\" => \"\"), Dict(\"curriculum_requisites\" => Dict{String,Any}[],\"name\" => \" \",\"metrics\" => Dict{String,Any}(\"centrality\" => 0,\"complexity\" => 1.0,\"blocking factor\" => 0,\"delay factor\" => 1.0),\"nameSub\" => \"General Elective\",\"id\" => 30,\"credits\" => 3,\"nameCanonical\" => \"\")],\"id\" => 7), Dict(\"name\" => \"Term 8\",\"curriculum_items\" => Dict{String,Any}[Dict(\"curriculum_requisites\" => Dict{String,Any}[],\"name\" => \" \",\"metrics\" => Dict{String,Any}(\"centrality\" => 0,\"complexity\" => 1.0,\"blocking factor\" => 0,\"delay factor\" => 1.0),\"nameSub\" => \"CS elective VII\",\"id\" => 31,\"credits\" => 4,\"nameCanonical\" => \"\"), Dict(\"curriculum_requisites\" => Dict{String,Any}[],\"name\" => \" \",\"metrics\" => Dict{String,Any}(\"centrality\" => 0,\"complexity\" => 1.0,\"blocking factor\" => 0,\"delay factor\" => 1.0),\"nameSub\" => \"General Elective\",\"id\" => 32,\"credits\" => 4,\"nameCanonical\" => \"\"), Dict(\"curriculum_requisites\" => Dict{String,Any}[],\"name\" => \" \",\"metrics\" => Dict{String,Any}(\"centrality\" => 0,\"complexity\" => 1.0,\"blocking factor\" => 0,\"delay factor\" => 1.0),\"nameSub\" => \"General Elective\",\"id\" => 33,\"credits\" => 4,\"nameCanonical\" => \"\"), Dict(\"curriculum_requisites\" => Dict{String,Any}[],\"name\" => \" \",\"metrics\" => Dict{String,Any}(\"centrality\" => 0,\"complexity\" => 1.0,\"blocking factor\" => 0,\"delay factor\" => 1.0),\"nameSub\" => \"General Elective\",\"id\" => 34,\"credits\" => 3,\"nameCanonical\" => \"\")],\"id\" => 8)],\"institution\" => \"Rutgers University\")), nothing)), Set{String}(), nothing, WebIO.Asset[], Dict{Any,Any}(), WebIO.ConnectionPool(Channel{Any}(sz_max:32,sz_curr:0), Set{WebIO.AbstractConnection}(), Base.GenericCondition{Base.AlwaysLockedST}(Base.InvasiveLinkedList{Task}(Task (runnable) @0x000000010b7e4b50, Task (runnable) @0x000000010b7e4b50), Base.AlwaysLockedST(1))), WebIO.JSString[])"
      ]
     },
     "execution_count": 21,
     "metadata": {
      "application/vnd.webio.node+json": {
       "kernelId": "53da9967-8016-4f1e-83ea-d44219398cc5"
      }
     },
     "output_type": "execute_result"
    }
   ],
   "source": [
    "curric = read_csv(\"./degree_plans/Rutgers_University-CS.csv\")\n",
    "visualize(curric, notebook=true)"
   ]
  },
  {
   "cell_type": "markdown",
   "metadata": {},
   "source": [
    "By hovering your mouse over the courses in these degree plans, you can view the contribution that various courses make to the overall compleixty of a curriculum."
   ]
  },
  {
   "cell_type": "markdown",
   "metadata": {},
   "source": [
    "## Methology\n",
    "In this study we used the rankings provided by the CSRankings of Computer Science departments as a proxy for program quality.  That is, for the purpose of this study, we assume that the highest ranked computer science departments are synonymous with the highest quality computer science undergraduate programs.  We acknowledge the concerns that are routinely expressed concerning these rankings such as these~\\cite{}.  However, it should be noted that this study uses aggregations of schools with tiers, and the statistics associated with the aggregations.  Thus, the specific rankings of the schools within the tiers are irrelevant, all that matters is the tier in which a school is placed. Upon inspection of the schools within each tier, we believe that knowledgable and impartial observes would agree that the three tiers constructed in this study are highly correlated with the program quality."
   ]
  },
  {
   "cell_type": "markdown",
   "metadata": {},
   "source": [
    "## Experimental Design\n",
    "The question of interest in this study is whether or not curricular complexity is related to program quality. In order to answer this question, we constructed an analysis of variance~(ANOVA) experiment that involved partitioning the schools in the CSRanking list according to their decile within the ranking. From these three groups were created as follows. A *top tier* of schools defined as those in the first decile of the ranking.  A *middle tier*, defined as the set of schools in the fifth and sixth deciles of the ranking that are equidistant from first to last ranked schools. A *bottom tier* of schools comprised of the schools ranked in the bottom two deciles. The null hypothesis is:\n",
    "\n",
    "    \"There is no difference between the mean values of the curricular complexities of those schools belonging \n",
    "     to the top, middle and bottom tiers.\" \n",
    "\n",
    "The alternative hypothesis is then: \n",
    "\n",
    "    \"At least one of the curricular complexity mean values of a school tier differs significantly from the \n",
    "     means of the other two tiers.\"\n",
    "     \n",
    "Histograms showing the curricular complexity distributions for the random samples drawn from each of the three tiers are shown below."
   ]
  },
  {
   "cell_type": "code",
   "execution_count": 22,
   "metadata": {
    "scrolled": false
   },
   "outputs": [],
   "source": [
    "tier_top_files = glob(\"*\", \"tier_top\")\n",
    "tier_middle_files = glob(\"*\", \"tier_middle\")\n",
    "tier_bottom_files = glob(\"*\", \"tier_bottom\")\n",
    "files = vcat(tier_top_files, tier_middle_files, tier_bottom_files)\n",
    "\n",
    "curriculum = Dict{String, Curriculum}()\n",
    "for csv_filepath in files\n",
    "    curric = read_csv(csv_filepath)\n",
    "    complexity(curric)\n",
    "    curriculum[csv_filepath] = curric\n",
    "end"
   ]
  },
  {
   "cell_type": "code",
   "execution_count": 23,
   "metadata": {},
   "outputs": [
    {
     "name": "stdout",
     "output_type": "stream",
     "text": [
      "Carnegie_Mellon-CS => 61.0\n",
      "Stanford-CS => 76.20000000000006\n",
      "Columbia_University-CS => 85.0\n",
      "Texas_A&M-CS => 139.0\n",
      "University_of_Utah-CS => 76.0\n",
      "University_of_Illinois_Champaigne-CS => 143.0\n",
      "University_of_California-Los_Angles => 124.80000000000005\n",
      "Cornell-University-CS => 96.0\n",
      "Rutgers_University-CS => 84.0\n",
      "University_of_Michigan-CS => 95.0\n",
      "Northeastern_University-CS => 88.0\n",
      "University_of_Southern_California-CS => 112.0\n",
      "University_of_Minnesota-CS => 106.0\n",
      "New_York_University-CS => 96.0\n",
      "Purdue_University-CS => 109.0\n",
      "Princeton_University-CS => 102.0\n",
      "University_of_Wisconsin-Madison-CS => 58.0\n",
      "University_of_Texas_Austin-CS => 112.0\n",
      "University_of_Washington-CS => 100.0\n",
      "University_of_Pennsylvania-CS => 93.0\n",
      "Avg. curricular complexity = 97.8, STD = 22.30845957077836\n"
     ]
    },
    {
     "data": {
      "image/svg+xml": [
       "<?xml version=\"1.0\" encoding=\"utf-8\"?>\n",
       "<svg xmlns=\"http://www.w3.org/2000/svg\" xmlns:xlink=\"http://www.w3.org/1999/xlink\" width=\"600\" height=\"400\" viewBox=\"0 0 2400 1600\">\n",
       "<defs>\n",
       "  <clipPath id=\"clip200\">\n",
       "    <rect x=\"0\" y=\"0\" width=\"2400\" height=\"1600\"/>\n",
       "  </clipPath>\n",
       "</defs>\n",
       "<path clip-path=\"url(#clip200)\" d=\"\n",
       "M0 1600 L2400 1600 L2400 0 L0 0  Z\n",
       "  \" fill=\"#ffffff\" fill-rule=\"evenodd\" fill-opacity=\"1\"/>\n",
       "<defs>\n",
       "  <clipPath id=\"clip201\">\n",
       "    <rect x=\"480\" y=\"0\" width=\"1681\" height=\"1600\"/>\n",
       "  </clipPath>\n",
       "</defs>\n",
       "<path clip-path=\"url(#clip200)\" d=\"\n",
       "M197.852 1423.18 L2352.76 1423.18 L2352.76 123.472 L197.852 123.472  Z\n",
       "  \" fill=\"#ffffff\" fill-rule=\"evenodd\" fill-opacity=\"1\"/>\n",
       "<defs>\n",
       "  <clipPath id=\"clip202\">\n",
       "    <rect x=\"197\" y=\"123\" width=\"2156\" height=\"1301\"/>\n",
       "  </clipPath>\n",
       "</defs>\n",
       "<polyline clip-path=\"url(#clip202)\" style=\"stroke:#000000; stroke-width:2; stroke-opacity:0.1; fill:none\" points=\"\n",
       "  197.852,1423.18 197.852,123.472 \n",
       "  \"/>\n",
       "<polyline clip-path=\"url(#clip202)\" style=\"stroke:#000000; stroke-width:2; stroke-opacity:0.1; fill:none\" points=\"\n",
       "  916.154,1423.18 916.154,123.472 \n",
       "  \"/>\n",
       "<polyline clip-path=\"url(#clip202)\" style=\"stroke:#000000; stroke-width:2; stroke-opacity:0.1; fill:none\" points=\"\n",
       "  1634.45,1423.18 1634.45,123.472 \n",
       "  \"/>\n",
       "<polyline clip-path=\"url(#clip202)\" style=\"stroke:#000000; stroke-width:2; stroke-opacity:0.1; fill:none\" points=\"\n",
       "  2352.76,1423.18 2352.76,123.472 \n",
       "  \"/>\n",
       "<polyline clip-path=\"url(#clip202)\" style=\"stroke:#000000; stroke-width:2; stroke-opacity:0.1; fill:none\" points=\"\n",
       "  197.852,1423.18 2352.76,1423.18 \n",
       "  \"/>\n",
       "<polyline clip-path=\"url(#clip202)\" style=\"stroke:#000000; stroke-width:2; stroke-opacity:0.1; fill:none\" points=\"\n",
       "  197.852,1163.24 2352.76,1163.24 \n",
       "  \"/>\n",
       "<polyline clip-path=\"url(#clip202)\" style=\"stroke:#000000; stroke-width:2; stroke-opacity:0.1; fill:none\" points=\"\n",
       "  197.852,903.297 2352.76,903.297 \n",
       "  \"/>\n",
       "<polyline clip-path=\"url(#clip202)\" style=\"stroke:#000000; stroke-width:2; stroke-opacity:0.1; fill:none\" points=\"\n",
       "  197.852,643.355 2352.76,643.355 \n",
       "  \"/>\n",
       "<polyline clip-path=\"url(#clip202)\" style=\"stroke:#000000; stroke-width:2; stroke-opacity:0.1; fill:none\" points=\"\n",
       "  197.852,383.414 2352.76,383.414 \n",
       "  \"/>\n",
       "<polyline clip-path=\"url(#clip202)\" style=\"stroke:#000000; stroke-width:2; stroke-opacity:0.1; fill:none\" points=\"\n",
       "  197.852,123.472 2352.76,123.472 \n",
       "  \"/>\n",
       "<polyline clip-path=\"url(#clip200)\" style=\"stroke:#000000; stroke-width:4; stroke-opacity:1; fill:none\" points=\"\n",
       "  197.852,1423.18 2352.76,1423.18 \n",
       "  \"/>\n",
       "<polyline clip-path=\"url(#clip200)\" style=\"stroke:#000000; stroke-width:4; stroke-opacity:1; fill:none\" points=\"\n",
       "  197.852,1423.18 197.852,123.472 \n",
       "  \"/>\n",
       "<polyline clip-path=\"url(#clip200)\" style=\"stroke:#000000; stroke-width:4; stroke-opacity:1; fill:none\" points=\"\n",
       "  197.852,1423.18 197.852,1407.58 \n",
       "  \"/>\n",
       "<polyline clip-path=\"url(#clip200)\" style=\"stroke:#000000; stroke-width:4; stroke-opacity:1; fill:none\" points=\"\n",
       "  916.154,1423.18 916.154,1407.58 \n",
       "  \"/>\n",
       "<polyline clip-path=\"url(#clip200)\" style=\"stroke:#000000; stroke-width:4; stroke-opacity:1; fill:none\" points=\"\n",
       "  1634.45,1423.18 1634.45,1407.58 \n",
       "  \"/>\n",
       "<polyline clip-path=\"url(#clip200)\" style=\"stroke:#000000; stroke-width:4; stroke-opacity:1; fill:none\" points=\"\n",
       "  2352.76,1423.18 2352.76,1407.58 \n",
       "  \"/>\n",
       "<polyline clip-path=\"url(#clip200)\" style=\"stroke:#000000; stroke-width:4; stroke-opacity:1; fill:none\" points=\"\n",
       "  197.852,1423.18 223.711,1423.18 \n",
       "  \"/>\n",
       "<polyline clip-path=\"url(#clip200)\" style=\"stroke:#000000; stroke-width:4; stroke-opacity:1; fill:none\" points=\"\n",
       "  197.852,1163.24 223.711,1163.24 \n",
       "  \"/>\n",
       "<polyline clip-path=\"url(#clip200)\" style=\"stroke:#000000; stroke-width:4; stroke-opacity:1; fill:none\" points=\"\n",
       "  197.852,903.297 223.711,903.297 \n",
       "  \"/>\n",
       "<polyline clip-path=\"url(#clip200)\" style=\"stroke:#000000; stroke-width:4; stroke-opacity:1; fill:none\" points=\"\n",
       "  197.852,643.355 223.711,643.355 \n",
       "  \"/>\n",
       "<polyline clip-path=\"url(#clip200)\" style=\"stroke:#000000; stroke-width:4; stroke-opacity:1; fill:none\" points=\"\n",
       "  197.852,383.414 223.711,383.414 \n",
       "  \"/>\n",
       "<polyline clip-path=\"url(#clip200)\" style=\"stroke:#000000; stroke-width:4; stroke-opacity:1; fill:none\" points=\"\n",
       "  197.852,123.472 223.711,123.472 \n",
       "  \"/>\n",
       "<path clip-path=\"url(#clip200)\" d=\"M 0 0 M197.852 1445.17 Q194.241 1445.17 192.413 1448.74 Q190.607 1452.28 190.607 1459.41 Q190.607 1466.51 192.413 1470.08 Q194.241 1473.62 197.852 1473.62 Q201.487 1473.62 203.292 1470.08 Q205.121 1466.51 205.121 1459.41 Q205.121 1452.28 203.292 1448.74 Q201.487 1445.17 197.852 1445.17 M197.852 1441.47 Q203.663 1441.47 206.718 1446.07 Q209.797 1450.66 209.797 1459.41 Q209.797 1468.13 206.718 1472.74 Q203.663 1477.32 197.852 1477.32 Q192.042 1477.32 188.964 1472.74 Q185.908 1468.13 185.908 1459.41 Q185.908 1450.66 188.964 1446.07 Q192.042 1441.47 197.852 1441.47 Z\" fill=\"#000000\" fill-rule=\"evenodd\" fill-opacity=\"1\" /><path clip-path=\"url(#clip200)\" d=\"M 0 0 M879.522 1472.72 L887.161 1472.72 L887.161 1446.35 L878.851 1448.02 L878.851 1443.76 L887.114 1442.09 L891.79 1442.09 L891.79 1472.72 L899.429 1472.72 L899.429 1476.65 L879.522 1476.65 L879.522 1472.72 Z\" fill=\"#000000\" fill-rule=\"evenodd\" fill-opacity=\"1\" /><path clip-path=\"url(#clip200)\" d=\"M 0 0 M914.499 1445.17 Q910.887 1445.17 909.059 1448.74 Q907.253 1452.28 907.253 1459.41 Q907.253 1466.51 909.059 1470.08 Q910.887 1473.62 914.499 1473.62 Q918.133 1473.62 919.938 1470.08 Q921.767 1466.51 921.767 1459.41 Q921.767 1452.28 919.938 1448.74 Q918.133 1445.17 914.499 1445.17 M914.499 1441.47 Q920.309 1441.47 923.364 1446.07 Q926.443 1450.66 926.443 1459.41 Q926.443 1468.13 923.364 1472.74 Q920.309 1477.32 914.499 1477.32 Q908.688 1477.32 905.61 1472.74 Q902.554 1468.13 902.554 1459.41 Q902.554 1450.66 905.61 1446.07 Q908.688 1441.47 914.499 1441.47 Z\" fill=\"#000000\" fill-rule=\"evenodd\" fill-opacity=\"1\" /><path clip-path=\"url(#clip200)\" d=\"M 0 0 M941.512 1445.17 Q937.901 1445.17 936.073 1448.74 Q934.267 1452.28 934.267 1459.41 Q934.267 1466.51 936.073 1470.08 Q937.901 1473.62 941.512 1473.62 Q945.147 1473.62 946.952 1470.08 Q948.781 1466.51 948.781 1459.41 Q948.781 1452.28 946.952 1448.74 Q945.147 1445.17 941.512 1445.17 M941.512 1441.47 Q947.322 1441.47 950.378 1446.07 Q953.457 1450.66 953.457 1459.41 Q953.457 1468.13 950.378 1472.74 Q947.322 1477.32 941.512 1477.32 Q935.702 1477.32 932.623 1472.74 Q929.568 1468.13 929.568 1459.41 Q929.568 1450.66 932.623 1446.07 Q935.702 1441.47 941.512 1441.47 Z\" fill=\"#000000\" fill-rule=\"evenodd\" fill-opacity=\"1\" /><path clip-path=\"url(#clip200)\" d=\"M 0 0 M1602.09 1472.72 L1618.41 1472.72 L1618.41 1476.65 L1596.47 1476.65 L1596.47 1472.72 Q1599.13 1469.96 1603.71 1465.33 Q1608.32 1460.68 1609.5 1459.34 Q1611.75 1456.81 1612.63 1455.08 Q1613.53 1453.32 1613.53 1451.63 Q1613.53 1448.87 1611.58 1447.14 Q1609.66 1445.4 1606.56 1445.4 Q1604.36 1445.4 1601.91 1446.17 Q1599.48 1446.93 1596.7 1448.48 L1596.7 1443.76 Q1599.52 1442.62 1601.98 1442.05 Q1604.43 1441.47 1606.47 1441.47 Q1611.84 1441.47 1615.03 1444.15 Q1618.23 1446.84 1618.23 1451.33 Q1618.23 1453.46 1617.42 1455.38 Q1616.63 1457.28 1614.52 1459.87 Q1613.95 1460.54 1610.84 1463.76 Q1607.74 1466.95 1602.09 1472.72 Z\" fill=\"#000000\" fill-rule=\"evenodd\" fill-opacity=\"1\" /><path clip-path=\"url(#clip200)\" d=\"M 0 0 M1633.48 1445.17 Q1629.87 1445.17 1628.04 1448.74 Q1626.24 1452.28 1626.24 1459.41 Q1626.24 1466.51 1628.04 1470.08 Q1629.87 1473.62 1633.48 1473.62 Q1637.12 1473.62 1638.92 1470.08 Q1640.75 1466.51 1640.75 1459.41 Q1640.75 1452.28 1638.92 1448.74 Q1637.12 1445.17 1633.48 1445.17 M1633.48 1441.47 Q1639.29 1441.47 1642.35 1446.07 Q1645.43 1450.66 1645.43 1459.41 Q1645.43 1468.13 1642.35 1472.74 Q1639.29 1477.32 1633.48 1477.32 Q1627.67 1477.32 1624.59 1472.74 Q1621.54 1468.13 1621.54 1459.41 Q1621.54 1450.66 1624.59 1446.07 Q1627.67 1441.47 1633.48 1441.47 Z\" fill=\"#000000\" fill-rule=\"evenodd\" fill-opacity=\"1\" /><path clip-path=\"url(#clip200)\" d=\"M 0 0 M1660.5 1445.17 Q1656.89 1445.17 1655.06 1448.74 Q1653.25 1452.28 1653.25 1459.41 Q1653.25 1466.51 1655.06 1470.08 Q1656.89 1473.62 1660.5 1473.62 Q1664.13 1473.62 1665.94 1470.08 Q1667.76 1466.51 1667.76 1459.41 Q1667.76 1452.28 1665.94 1448.74 Q1664.13 1445.17 1660.5 1445.17 M1660.5 1441.47 Q1666.31 1441.47 1669.36 1446.07 Q1672.44 1450.66 1672.44 1459.41 Q1672.44 1468.13 1669.36 1472.74 Q1666.31 1477.32 1660.5 1477.32 Q1654.69 1477.32 1651.61 1472.74 Q1648.55 1468.13 1648.55 1459.41 Q1648.55 1450.66 1651.61 1446.07 Q1654.69 1441.47 1660.5 1441.47 Z\" fill=\"#000000\" fill-rule=\"evenodd\" fill-opacity=\"1\" /><path clip-path=\"url(#clip200)\" d=\"M 0 0 M2329.99 1458.02 Q2333.35 1458.74 2335.22 1461 Q2337.12 1463.27 2337.12 1466.61 Q2337.12 1471.72 2333.6 1474.52 Q2330.08 1477.32 2323.6 1477.32 Q2321.43 1477.32 2319.11 1476.88 Q2316.82 1476.47 2314.36 1475.61 L2314.36 1471.1 Q2316.31 1472.23 2318.62 1472.81 Q2320.94 1473.39 2323.46 1473.39 Q2327.86 1473.39 2330.15 1471.65 Q2332.47 1469.92 2332.47 1466.61 Q2332.47 1463.55 2330.31 1461.84 Q2328.18 1460.1 2324.36 1460.1 L2320.34 1460.1 L2320.34 1456.26 L2324.55 1456.26 Q2328 1456.26 2329.83 1454.89 Q2331.66 1453.5 2331.66 1450.91 Q2331.66 1448.25 2329.76 1446.84 Q2327.88 1445.4 2324.36 1445.4 Q2322.44 1445.4 2320.24 1445.82 Q2318.05 1446.24 2315.41 1447.11 L2315.41 1442.95 Q2318.07 1442.21 2320.38 1441.84 Q2322.72 1441.47 2324.78 1441.47 Q2330.11 1441.47 2333.21 1443.9 Q2336.31 1446.3 2336.31 1450.43 Q2336.31 1453.3 2334.67 1455.29 Q2333.02 1457.25 2329.99 1458.02 Z\" fill=\"#000000\" fill-rule=\"evenodd\" fill-opacity=\"1\" /><path clip-path=\"url(#clip200)\" d=\"M 0 0 M2352.19 1445.17 Q2348.58 1445.17 2346.75 1448.74 Q2344.94 1452.28 2344.94 1459.41 Q2344.94 1466.51 2346.75 1470.08 Q2348.58 1473.62 2352.19 1473.62 Q2355.82 1473.62 2357.63 1470.08 Q2359.46 1466.51 2359.46 1459.41 Q2359.46 1452.28 2357.63 1448.74 Q2355.82 1445.17 2352.19 1445.17 M2352.19 1441.47 Q2358 1441.47 2361.05 1446.07 Q2364.13 1450.66 2364.13 1459.41 Q2364.13 1468.13 2361.05 1472.74 Q2358 1477.32 2352.19 1477.32 Q2346.38 1477.32 2343.3 1472.74 Q2340.24 1468.13 2340.24 1459.41 Q2340.24 1450.66 2343.3 1446.07 Q2346.38 1441.47 2352.19 1441.47 Z\" fill=\"#000000\" fill-rule=\"evenodd\" fill-opacity=\"1\" /><path clip-path=\"url(#clip200)\" d=\"M 0 0 M2379.2 1445.17 Q2375.59 1445.17 2373.76 1448.74 Q2371.96 1452.28 2371.96 1459.41 Q2371.96 1466.51 2373.76 1470.08 Q2375.59 1473.62 2379.2 1473.62 Q2382.84 1473.62 2384.64 1470.08 Q2386.47 1466.51 2386.47 1459.41 Q2386.47 1452.28 2384.64 1448.74 Q2382.84 1445.17 2379.2 1445.17 M2379.2 1441.47 Q2385.01 1441.47 2388.07 1446.07 Q2391.15 1450.66 2391.15 1459.41 Q2391.15 1468.13 2388.07 1472.74 Q2385.01 1477.32 2379.2 1477.32 Q2373.39 1477.32 2370.31 1472.74 Q2367.26 1468.13 2367.26 1459.41 Q2367.26 1450.66 2370.31 1446.07 Q2373.39 1441.47 2379.2 1441.47 Z\" fill=\"#000000\" fill-rule=\"evenodd\" fill-opacity=\"1\" /><path clip-path=\"url(#clip200)\" d=\"M 0 0 M161.908 1408.98 Q158.297 1408.98 156.468 1412.54 Q154.663 1416.08 154.663 1423.21 Q154.663 1430.32 156.468 1433.89 Q158.297 1437.43 161.908 1437.43 Q165.542 1437.43 167.348 1433.89 Q169.177 1430.32 169.177 1423.21 Q169.177 1416.08 167.348 1412.54 Q165.542 1408.98 161.908 1408.98 M161.908 1405.27 Q167.718 1405.27 170.774 1409.88 Q173.852 1414.46 173.852 1423.21 Q173.852 1431.94 170.774 1436.55 Q167.718 1441.13 161.908 1441.13 Q156.098 1441.13 153.019 1436.55 Q149.964 1431.94 149.964 1423.21 Q149.964 1414.46 153.019 1409.88 Q156.098 1405.27 161.908 1405.27 Z\" fill=\"#000000\" fill-rule=\"evenodd\" fill-opacity=\"1\" /><path clip-path=\"url(#clip200)\" d=\"M 0 0 M157.533 1176.58 L173.852 1176.58 L173.852 1180.52 L151.908 1180.52 L151.908 1176.58 Q154.57 1173.83 159.153 1169.2 Q163.76 1164.55 164.941 1163.2 Q167.186 1160.68 168.065 1158.94 Q168.968 1157.19 168.968 1155.5 Q168.968 1152.74 167.024 1151 Q165.103 1149.27 162.001 1149.27 Q159.802 1149.27 157.348 1150.03 Q154.917 1150.8 152.14 1152.35 L152.14 1147.62 Q154.964 1146.49 157.417 1145.91 Q159.871 1145.33 161.908 1145.33 Q167.278 1145.33 170.473 1148.02 Q173.667 1150.7 173.667 1155.19 Q173.667 1157.32 172.857 1159.25 Q172.07 1161.14 169.964 1163.74 Q169.385 1164.41 166.283 1167.62 Q163.181 1170.82 157.533 1176.58 Z\" fill=\"#000000\" fill-rule=\"evenodd\" fill-opacity=\"1\" /><path clip-path=\"url(#clip200)\" d=\"M 0 0 M164.269 890.091 L152.464 908.54 L164.269 908.54 L164.269 890.091 M163.042 886.017 L168.922 886.017 L168.922 908.54 L173.852 908.54 L173.852 912.429 L168.922 912.429 L168.922 920.577 L164.269 920.577 L164.269 912.429 L148.667 912.429 L148.667 907.915 L163.042 886.017 Z\" fill=\"#000000\" fill-rule=\"evenodd\" fill-opacity=\"1\" /><path clip-path=\"url(#clip200)\" d=\"M 0 0 M162.325 641.492 Q159.177 641.492 157.325 643.645 Q155.496 645.797 155.496 649.547 Q155.496 653.274 157.325 655.45 Q159.177 657.603 162.325 657.603 Q165.473 657.603 167.302 655.45 Q169.153 653.274 169.153 649.547 Q169.153 645.797 167.302 643.645 Q165.473 641.492 162.325 641.492 M171.607 626.839 L171.607 631.098 Q169.848 630.265 168.042 629.825 Q166.26 629.385 164.501 629.385 Q159.871 629.385 157.417 632.51 Q154.987 635.635 154.64 641.955 Q156.005 639.941 158.066 638.876 Q160.126 637.788 162.603 637.788 Q167.811 637.788 170.82 640.959 Q173.852 644.108 173.852 649.547 Q173.852 654.871 170.704 658.089 Q167.556 661.307 162.325 661.307 Q156.329 661.307 153.158 656.723 Q149.987 652.117 149.987 643.39 Q149.987 635.196 153.876 630.334 Q157.765 625.45 164.316 625.45 Q166.075 625.45 167.857 625.797 Q169.663 626.145 171.607 626.839 Z\" fill=\"#000000\" fill-rule=\"evenodd\" fill-opacity=\"1\" /><path clip-path=\"url(#clip200)\" d=\"M 0 0 M162.001 384.282 Q158.667 384.282 156.746 386.064 Q154.848 387.847 154.848 390.971 Q154.848 394.096 156.746 395.879 Q158.667 397.661 162.001 397.661 Q165.334 397.661 167.255 395.879 Q169.177 394.073 169.177 390.971 Q169.177 387.847 167.255 386.064 Q165.357 384.282 162.001 384.282 M157.325 382.291 Q154.316 381.55 152.626 379.49 Q150.959 377.43 150.959 374.467 Q150.959 370.323 153.899 367.916 Q156.862 365.509 162.001 365.509 Q167.163 365.509 170.103 367.916 Q173.042 370.323 173.042 374.467 Q173.042 377.43 171.353 379.49 Q169.686 381.55 166.7 382.291 Q170.079 383.078 171.954 385.37 Q173.852 387.661 173.852 390.971 Q173.852 395.995 170.774 398.68 Q167.718 401.365 162.001 401.365 Q156.283 401.365 153.204 398.68 Q150.149 395.995 150.149 390.971 Q150.149 387.661 152.047 385.37 Q153.945 383.078 157.325 382.291 M155.612 374.907 Q155.612 377.592 157.279 379.097 Q158.968 380.601 162.001 380.601 Q165.01 380.601 166.7 379.097 Q168.413 377.592 168.413 374.907 Q168.413 372.222 166.7 370.717 Q165.01 369.212 162.001 369.212 Q158.968 369.212 157.279 370.717 Q155.612 372.222 155.612 374.907 Z\" fill=\"#000000\" fill-rule=\"evenodd\" fill-opacity=\"1\" /><path clip-path=\"url(#clip200)\" d=\"M 0 0 M126.931 136.817 L134.57 136.817 L134.57 110.451 L126.26 112.118 L126.26 107.859 L134.524 106.192 L139.2 106.192 L139.2 136.817 L146.839 136.817 L146.839 140.752 L126.931 140.752 L126.931 136.817 Z\" fill=\"#000000\" fill-rule=\"evenodd\" fill-opacity=\"1\" /><path clip-path=\"url(#clip200)\" d=\"M 0 0 M161.908 109.271 Q158.297 109.271 156.468 112.836 Q154.663 116.377 154.663 123.507 Q154.663 130.613 156.468 134.178 Q158.297 137.72 161.908 137.72 Q165.542 137.72 167.348 134.178 Q169.177 130.613 169.177 123.507 Q169.177 116.377 167.348 112.836 Q165.542 109.271 161.908 109.271 M161.908 105.567 Q167.718 105.567 170.774 110.174 Q173.852 114.757 173.852 123.507 Q173.852 132.234 170.774 136.84 Q167.718 141.423 161.908 141.423 Q156.098 141.423 153.019 136.84 Q149.964 132.234 149.964 123.507 Q149.964 114.757 153.019 110.174 Q156.098 105.567 161.908 105.567 Z\" fill=\"#000000\" fill-rule=\"evenodd\" fill-opacity=\"1\" /><path clip-path=\"url(#clip200)\" d=\"M 0 0 M1124.23 12.096 L1175.39 12.096 L1175.39 18.9825 L1153.92 18.9825 L1153.92 72.576 L1145.7 72.576 L1145.7 18.9825 L1124.23 18.9825 L1124.23 12.096 Z\" fill=\"#000000\" fill-rule=\"evenodd\" fill-opacity=\"1\" /><path clip-path=\"url(#clip200)\" d=\"M 0 0 M1186.69 32.4315 Q1180.7 32.4315 1177.21 37.1306 Q1173.73 41.7891 1173.73 49.9314 Q1173.73 58.0738 1177.17 62.7728 Q1180.65 67.4314 1186.69 67.4314 Q1192.65 67.4314 1196.13 62.7323 Q1199.61 58.0333 1199.61 49.9314 Q1199.61 41.8701 1196.13 37.1711 Q1192.65 32.4315 1186.69 32.4315 M1186.69 26.1121 Q1196.41 26.1121 1201.96 32.4315 Q1207.51 38.7509 1207.51 49.9314 Q1207.51 61.0714 1201.96 67.4314 Q1196.41 73.7508 1186.69 73.7508 Q1176.93 73.7508 1171.38 67.4314 Q1165.87 61.0714 1165.87 49.9314 Q1165.87 38.7509 1171.38 32.4315 Q1176.93 26.1121 1186.69 26.1121 Z\" fill=\"#000000\" fill-rule=\"evenodd\" fill-opacity=\"1\" /><path clip-path=\"url(#clip200)\" d=\"M 0 0 M1222.54 65.7705 L1222.54 89.8329 L1215.05 89.8329 L1215.05 27.2059 L1222.54 27.2059 L1222.54 34.0924 Q1224.89 30.0415 1228.46 28.0971 Q1232.06 26.1121 1237.04 26.1121 Q1245.31 26.1121 1250.45 32.6746 Q1255.64 39.2371 1255.64 49.9314 Q1255.64 60.6258 1250.45 67.1883 Q1245.31 73.7508 1237.04 73.7508 Q1232.06 73.7508 1228.46 71.8063 Q1224.89 69.8214 1222.54 65.7705 M1247.9 49.9314 Q1247.9 41.7081 1244.5 37.0496 Q1241.13 32.3505 1235.22 32.3505 Q1229.31 32.3505 1225.9 37.0496 Q1222.54 41.7081 1222.54 49.9314 Q1222.54 58.1548 1225.9 62.8538 Q1229.31 67.5124 1235.22 67.5124 Q1241.13 67.5124 1244.5 62.8538 Q1247.9 58.1548 1247.9 49.9314 Z\" fill=\"#000000\" fill-rule=\"evenodd\" fill-opacity=\"1\" /><path clip-path=\"url(#clip200)\" d=\"M 0 0 M1281.77 12.096 L1332.93 12.096 L1332.93 18.9825 L1311.46 18.9825 L1311.46 72.576 L1303.24 72.576 L1303.24 18.9825 L1281.77 18.9825 L1281.77 12.096 Z\" fill=\"#000000\" fill-rule=\"evenodd\" fill-opacity=\"1\" /><path clip-path=\"url(#clip200)\" d=\"M 0 0 M1338.19 27.2059 L1345.65 27.2059 L1345.65 72.576 L1338.19 72.576 L1338.19 27.2059 M1338.19 9.54393 L1345.65 9.54393 L1345.65 18.9825 L1338.19 18.9825 L1338.19 9.54393 Z\" fill=\"#000000\" fill-rule=\"evenodd\" fill-opacity=\"1\" /><path clip-path=\"url(#clip200)\" d=\"M 0 0 M1392.27 48.0275 L1392.27 51.6733 L1358 51.6733 Q1358.49 59.3701 1362.62 63.421 Q1366.79 67.4314 1374.21 67.4314 Q1378.5 67.4314 1382.51 66.3781 Q1386.56 65.3249 1390.53 63.2184 L1390.53 70.267 Q1386.52 71.9684 1382.31 72.8596 Q1378.1 73.7508 1373.76 73.7508 Q1362.91 73.7508 1356.55 67.4314 Q1350.23 61.1119 1350.23 50.3365 Q1350.23 39.1965 1356.22 32.6746 Q1362.26 26.1121 1372.47 26.1121 Q1381.62 26.1121 1386.93 32.0264 Q1392.27 37.9003 1392.27 48.0275 M1384.82 45.84 Q1384.74 39.7232 1381.38 36.0774 Q1378.06 32.4315 1372.55 32.4315 Q1366.31 32.4315 1362.54 35.9558 Q1358.81 39.4801 1358.25 45.8805 L1384.82 45.84 Z\" fill=\"#000000\" fill-rule=\"evenodd\" fill-opacity=\"1\" /><path clip-path=\"url(#clip200)\" d=\"M 0 0 M1426.38 34.1734 Q1425.13 33.4443 1423.63 33.1202 Q1422.17 32.7556 1420.39 32.7556 Q1414.07 32.7556 1410.67 36.8875 Q1407.3 40.9789 1407.3 48.6757 L1407.3 72.576 L1399.81 72.576 L1399.81 27.2059 L1407.3 27.2059 L1407.3 34.2544 Q1409.65 30.1225 1413.42 28.1376 Q1417.19 26.1121 1422.57 26.1121 Q1423.34 26.1121 1424.28 26.2337 Q1425.21 26.3147 1426.34 26.5172 L1426.38 34.1734 Z\" fill=\"#000000\" fill-rule=\"evenodd\" fill-opacity=\"1\" /><path clip-path=\"url(#clip200)\" d=\"M 0 0 M998.889 1521.76 L998.889 1527.24 Q996.407 1525.87 993.892 1525.2 Q991.41 1524.5 988.863 1524.5 Q983.166 1524.5 980.015 1528.13 Q976.864 1531.73 976.864 1538.25 Q976.864 1544.78 980.015 1548.4 Q983.166 1552 988.863 1552 Q991.41 1552 993.892 1551.33 Q996.407 1550.63 998.889 1549.26 L998.889 1554.68 Q996.439 1555.82 993.797 1556.39 Q991.187 1556.97 988.227 1556.97 Q980.174 1556.97 975.432 1551.91 Q970.689 1546.85 970.689 1538.25 Q970.689 1529.53 975.464 1524.53 Q980.27 1519.54 988.609 1519.54 Q991.314 1519.54 993.892 1520.11 Q996.47 1520.65 998.889 1521.76 Z\" fill=\"#000000\" fill-rule=\"evenodd\" fill-opacity=\"1\" /><path clip-path=\"url(#clip200)\" d=\"M 0 0 M1004.43 1541.98 L1004.43 1520.4 L1010.28 1520.4 L1010.28 1541.75 Q1010.28 1546.81 1012.26 1549.36 Q1014.23 1551.87 1018.18 1551.87 Q1022.92 1551.87 1025.66 1548.85 Q1028.43 1545.83 1028.43 1540.61 L1028.43 1520.4 L1034.28 1520.4 L1034.28 1556.04 L1028.43 1556.04 L1028.43 1550.57 Q1026.29 1553.82 1023.46 1555.41 Q1020.66 1556.97 1016.94 1556.97 Q1010.79 1556.97 1007.61 1553.15 Q1004.43 1549.33 1004.43 1541.98 M1019.16 1519.54 L1019.16 1519.54 Z\" fill=\"#000000\" fill-rule=\"evenodd\" fill-opacity=\"1\" /><path clip-path=\"url(#clip200)\" d=\"M 0 0 M1061.08 1525.87 Q1060.1 1525.3 1058.92 1525.04 Q1057.77 1524.76 1056.37 1524.76 Q1051.41 1524.76 1048.73 1528 Q1046.09 1531.22 1046.09 1537.27 L1046.09 1556.04 L1040.2 1556.04 L1040.2 1520.4 L1046.09 1520.4 L1046.09 1525.93 Q1047.94 1522.69 1050.9 1521.13 Q1053.86 1519.54 1058.09 1519.54 Q1058.7 1519.54 1059.43 1519.63 Q1060.16 1519.7 1061.05 1519.85 L1061.08 1525.87 Z\" fill=\"#000000\" fill-rule=\"evenodd\" fill-opacity=\"1\" /><path clip-path=\"url(#clip200)\" d=\"M 0 0 M1086.74 1525.87 Q1085.75 1525.3 1084.57 1525.04 Q1083.43 1524.76 1082.03 1524.76 Q1077.06 1524.76 1074.39 1528 Q1071.74 1531.22 1071.74 1537.27 L1071.74 1556.04 L1065.86 1556.04 L1065.86 1520.4 L1071.74 1520.4 L1071.74 1525.93 Q1073.59 1522.69 1076.55 1521.13 Q1079.51 1519.54 1083.74 1519.54 Q1084.35 1519.54 1085.08 1519.63 Q1085.81 1519.7 1086.7 1519.85 L1086.74 1525.87 Z\" fill=\"#000000\" fill-rule=\"evenodd\" fill-opacity=\"1\" /><path clip-path=\"url(#clip200)\" d=\"M 0 0 M1092.88 1520.4 L1098.74 1520.4 L1098.74 1556.04 L1092.88 1556.04 L1092.88 1520.4 M1092.88 1506.52 L1098.74 1506.52 L1098.74 1513.93 L1092.88 1513.93 L1092.88 1506.52 Z\" fill=\"#000000\" fill-rule=\"evenodd\" fill-opacity=\"1\" /><path clip-path=\"url(#clip200)\" d=\"M 0 0 M1130.53 1521.76 L1130.53 1527.24 Q1128.05 1525.87 1125.54 1525.2 Q1123.05 1524.5 1120.51 1524.5 Q1114.81 1524.5 1111.66 1528.13 Q1108.51 1531.73 1108.51 1538.25 Q1108.51 1544.78 1111.66 1548.4 Q1114.81 1552 1120.51 1552 Q1123.05 1552 1125.54 1551.33 Q1128.05 1550.63 1130.53 1549.26 L1130.53 1554.68 Q1128.08 1555.82 1125.44 1556.39 Q1122.83 1556.97 1119.87 1556.97 Q1111.82 1556.97 1107.07 1551.91 Q1102.33 1546.85 1102.33 1538.25 Q1102.33 1529.53 1107.11 1524.53 Q1111.91 1519.54 1120.25 1519.54 Q1122.96 1519.54 1125.54 1520.11 Q1128.11 1520.65 1130.53 1521.76 Z\" fill=\"#000000\" fill-rule=\"evenodd\" fill-opacity=\"1\" /><path clip-path=\"url(#clip200)\" d=\"M 0 0 M1136.07 1541.98 L1136.07 1520.4 L1141.93 1520.4 L1141.93 1541.75 Q1141.93 1546.81 1143.9 1549.36 Q1145.87 1551.87 1149.82 1551.87 Q1154.56 1551.87 1157.3 1548.85 Q1160.07 1545.83 1160.07 1540.61 L1160.07 1520.4 L1165.93 1520.4 L1165.93 1556.04 L1160.07 1556.04 L1160.07 1550.57 Q1157.94 1553.82 1155.1 1555.41 Q1152.3 1556.97 1148.58 1556.97 Q1142.44 1556.97 1139.25 1553.15 Q1136.07 1549.33 1136.07 1541.98 M1150.81 1519.54 L1150.81 1519.54 Z\" fill=\"#000000\" fill-rule=\"evenodd\" fill-opacity=\"1\" /><path clip-path=\"url(#clip200)\" d=\"M 0 0 M1172.07 1506.52 L1177.92 1506.52 L1177.92 1556.04 L1172.07 1556.04 L1172.07 1506.52 Z\" fill=\"#000000\" fill-rule=\"evenodd\" fill-opacity=\"1\" /><path clip-path=\"url(#clip200)\" d=\"M 0 0 M1200.27 1538.12 Q1193.17 1538.12 1190.43 1539.75 Q1187.7 1541.37 1187.7 1545.29 Q1187.7 1548.4 1189.73 1550.25 Q1191.8 1552.07 1195.34 1552.07 Q1200.2 1552.07 1203.13 1548.63 Q1206.09 1545.16 1206.09 1539.43 L1206.09 1538.12 L1200.27 1538.12 M1211.95 1535.71 L1211.95 1556.04 L1206.09 1556.04 L1206.09 1550.63 Q1204.09 1553.88 1201.1 1555.44 Q1198.1 1556.97 1193.78 1556.97 Q1188.3 1556.97 1185.05 1553.91 Q1181.84 1550.82 1181.84 1545.67 Q1181.84 1539.65 1185.85 1536.6 Q1189.89 1533.54 1197.88 1533.54 L1206.09 1533.54 L1206.09 1532.97 Q1206.09 1528.93 1203.42 1526.73 Q1200.78 1524.5 1195.97 1524.5 Q1192.92 1524.5 1190.02 1525.23 Q1187.12 1525.97 1184.45 1527.43 L1184.45 1522.02 Q1187.66 1520.78 1190.69 1520.17 Q1193.71 1519.54 1196.58 1519.54 Q1204.31 1519.54 1208.13 1523.55 Q1211.95 1527.56 1211.95 1535.71 Z\" fill=\"#000000\" fill-rule=\"evenodd\" fill-opacity=\"1\" /><path clip-path=\"url(#clip200)\" d=\"M 0 0 M1238.75 1525.87 Q1237.76 1525.3 1236.58 1525.04 Q1235.44 1524.76 1234.04 1524.76 Q1229.07 1524.76 1226.4 1528 Q1223.76 1531.22 1223.76 1537.27 L1223.76 1556.04 L1217.87 1556.04 L1217.87 1520.4 L1223.76 1520.4 L1223.76 1525.93 Q1225.6 1522.69 1228.56 1521.13 Q1231.52 1519.54 1235.76 1519.54 Q1236.36 1519.54 1237.09 1519.63 Q1237.83 1519.7 1238.72 1519.85 L1238.75 1525.87 Z\" fill=\"#000000\" fill-rule=\"evenodd\" fill-opacity=\"1\" /><path clip-path=\"url(#clip200)\" d=\"M 0 0 M1291.27 1521.76 L1291.27 1527.24 Q1288.78 1525.87 1286.27 1525.2 Q1283.79 1524.5 1281.24 1524.5 Q1275.54 1524.5 1272.39 1528.13 Q1269.24 1531.73 1269.24 1538.25 Q1269.24 1544.78 1272.39 1548.4 Q1275.54 1552 1281.24 1552 Q1283.79 1552 1286.27 1551.33 Q1288.78 1550.63 1291.27 1549.26 L1291.27 1554.68 Q1288.82 1555.82 1286.17 1556.39 Q1283.56 1556.97 1280.6 1556.97 Q1272.55 1556.97 1267.81 1551.91 Q1263.07 1546.85 1263.07 1538.25 Q1263.07 1529.53 1267.84 1524.53 Q1272.65 1519.54 1280.99 1519.54 Q1283.69 1519.54 1286.27 1520.11 Q1288.85 1520.65 1291.27 1521.76 Z\" fill=\"#000000\" fill-rule=\"evenodd\" fill-opacity=\"1\" /><path clip-path=\"url(#clip200)\" d=\"M 0 0 M1311.22 1524.5 Q1306.51 1524.5 1303.77 1528.19 Q1301.04 1531.85 1301.04 1538.25 Q1301.04 1544.65 1303.74 1548.34 Q1306.48 1552 1311.22 1552 Q1315.9 1552 1318.64 1548.31 Q1321.38 1544.62 1321.38 1538.25 Q1321.38 1531.92 1318.64 1528.23 Q1315.9 1524.5 1311.22 1524.5 M1311.22 1519.54 Q1318.86 1519.54 1323.22 1524.5 Q1327.58 1529.47 1327.58 1538.25 Q1327.58 1547 1323.22 1552 Q1318.86 1556.97 1311.22 1556.97 Q1303.55 1556.97 1299.19 1552 Q1294.86 1547 1294.86 1538.25 Q1294.86 1529.47 1299.19 1524.5 Q1303.55 1519.54 1311.22 1519.54 Z\" fill=\"#000000\" fill-rule=\"evenodd\" fill-opacity=\"1\" /><path clip-path=\"url(#clip200)\" d=\"M 0 0 M1361.48 1527.24 Q1363.68 1523.29 1366.73 1521.41 Q1369.79 1519.54 1373.92 1519.54 Q1379.49 1519.54 1382.52 1523.45 Q1385.54 1527.33 1385.54 1534.53 L1385.54 1556.04 L1379.65 1556.04 L1379.65 1534.72 Q1379.65 1529.59 1377.84 1527.11 Q1376.03 1524.63 1372.3 1524.63 Q1367.75 1524.63 1365.11 1527.65 Q1362.47 1530.68 1362.47 1535.9 L1362.47 1556.04 L1356.58 1556.04 L1356.58 1534.72 Q1356.58 1529.56 1354.76 1527.11 Q1352.95 1524.63 1349.16 1524.63 Q1344.67 1524.63 1342.03 1527.68 Q1339.39 1530.71 1339.39 1535.9 L1339.39 1556.04 L1333.5 1556.04 L1333.5 1520.4 L1339.39 1520.4 L1339.39 1525.93 Q1341.4 1522.66 1344.2 1521.1 Q1347 1519.54 1350.85 1519.54 Q1354.73 1519.54 1357.44 1521.51 Q1360.17 1523.48 1361.48 1527.24 Z\" fill=\"#000000\" fill-rule=\"evenodd\" fill-opacity=\"1\" /><path clip-path=\"url(#clip200)\" d=\"M 0 0 M1397.35 1550.7 L1397.35 1569.6 L1391.46 1569.6 L1391.46 1520.4 L1397.35 1520.4 L1397.35 1525.81 Q1399.2 1522.62 1402 1521.1 Q1404.83 1519.54 1408.75 1519.54 Q1415.24 1519.54 1419.28 1524.69 Q1423.35 1529.85 1423.35 1538.25 Q1423.35 1546.65 1419.28 1551.81 Q1415.24 1556.97 1408.75 1556.97 Q1404.83 1556.97 1402 1555.44 Q1399.2 1553.88 1397.35 1550.7 M1417.28 1538.25 Q1417.28 1531.79 1414.6 1528.13 Q1411.96 1524.44 1407.31 1524.44 Q1402.67 1524.44 1399.99 1528.13 Q1397.35 1531.79 1397.35 1538.25 Q1397.35 1544.71 1399.99 1548.4 Q1402.67 1552.07 1407.31 1552.07 Q1411.96 1552.07 1414.6 1548.4 Q1417.28 1544.71 1417.28 1538.25 Z\" fill=\"#000000\" fill-rule=\"evenodd\" fill-opacity=\"1\" /><path clip-path=\"url(#clip200)\" d=\"M 0 0 M1429.5 1506.52 L1435.35 1506.52 L1435.35 1556.04 L1429.5 1556.04 L1429.5 1506.52 Z\" fill=\"#000000\" fill-rule=\"evenodd\" fill-opacity=\"1\" /><path clip-path=\"url(#clip200)\" d=\"M 0 0 M1471.99 1536.76 L1471.99 1539.62 L1445.06 1539.62 Q1445.44 1545.67 1448.69 1548.85 Q1451.97 1552 1457.79 1552 Q1461.17 1552 1464.32 1551.17 Q1467.5 1550.35 1470.62 1548.69 L1470.62 1554.23 Q1467.47 1555.57 1464.16 1556.27 Q1460.85 1556.97 1457.44 1556.97 Q1448.91 1556.97 1443.92 1552 Q1438.95 1547.04 1438.95 1538.57 Q1438.95 1529.82 1443.66 1524.69 Q1448.4 1519.54 1456.42 1519.54 Q1463.62 1519.54 1467.79 1524.18 Q1471.99 1528.8 1471.99 1536.76 M1466.13 1535.04 Q1466.07 1530.23 1463.43 1527.37 Q1460.82 1524.5 1456.49 1524.5 Q1451.59 1524.5 1448.63 1527.27 Q1445.7 1530.04 1445.25 1535.07 L1466.13 1535.04 Z\" fill=\"#000000\" fill-rule=\"evenodd\" fill-opacity=\"1\" /><path clip-path=\"url(#clip200)\" d=\"M 0 0 M1506.62 1520.4 L1493.73 1537.74 L1507.29 1556.04 L1500.38 1556.04 L1490 1542.04 L1479.63 1556.04 L1472.72 1556.04 L1486.57 1537.39 L1473.9 1520.4 L1480.81 1520.4 L1490.26 1533.1 L1499.71 1520.4 L1506.62 1520.4 Z\" fill=\"#000000\" fill-rule=\"evenodd\" fill-opacity=\"1\" /><path clip-path=\"url(#clip200)\" d=\"M 0 0 M1513.43 1520.4 L1519.29 1520.4 L1519.29 1556.04 L1513.43 1556.04 L1513.43 1520.4 M1513.43 1506.52 L1519.29 1506.52 L1519.29 1513.93 L1513.43 1513.93 L1513.43 1506.52 Z\" fill=\"#000000\" fill-rule=\"evenodd\" fill-opacity=\"1\" /><path clip-path=\"url(#clip200)\" d=\"M 0 0 M1531.22 1510.27 L1531.22 1520.4 L1543.28 1520.4 L1543.28 1524.95 L1531.22 1524.95 L1531.22 1544.3 Q1531.22 1548.66 1532.4 1549.9 Q1533.61 1551.14 1537.27 1551.14 L1543.28 1551.14 L1543.28 1556.04 L1537.27 1556.04 Q1530.49 1556.04 1527.91 1553.53 Q1525.33 1550.98 1525.33 1544.3 L1525.33 1524.95 L1521.04 1524.95 L1521.04 1520.4 L1525.33 1520.4 L1525.33 1510.27 L1531.22 1510.27 Z\" fill=\"#000000\" fill-rule=\"evenodd\" fill-opacity=\"1\" /><path clip-path=\"url(#clip200)\" d=\"M 0 0 M1564.26 1559.35 Q1561.78 1565.72 1559.42 1567.66 Q1557.07 1569.6 1553.12 1569.6 L1548.44 1569.6 L1548.44 1564.7 L1551.88 1564.7 Q1554.3 1564.7 1555.63 1563.56 Q1556.97 1562.41 1558.59 1558.14 L1559.64 1555.47 L1545.23 1520.4 L1551.43 1520.4 L1562.57 1548.28 L1573.71 1520.4 L1579.92 1520.4 L1564.26 1559.35 Z\" fill=\"#000000\" fill-rule=\"evenodd\" fill-opacity=\"1\" /><path clip-path=\"url(#clip200)\" d=\"M 0 0 M59.3266 884.567 L59.3266 893.829 L69.9574 896.502 L69.9574 887.177 L59.3266 884.567 M41.2162 889.341 L54.4251 892.651 L54.4251 883.357 L41.2162 880.015 L41.2162 874.923 L54.4251 878.201 L54.4251 868.27 L59.3266 868.27 L59.3266 879.442 L69.9574 882.052 L69.9574 871.931 L74.8271 871.931 L74.8271 883.294 L88.0042 886.604 L88.0042 891.696 L74.8271 888.418 L74.8271 897.744 L88.0042 901.022 L88.0042 906.146 L74.8271 902.836 L74.8271 912.862 L69.9574 912.862 L69.9574 901.659 L59.3266 898.985 L59.3266 909.234 L54.4251 909.234 L54.4251 897.744 L41.2162 894.497 L41.2162 889.341 Z\" fill=\"#000000\" fill-rule=\"evenodd\" fill-opacity=\"1\" /><path clip-path=\"url(#clip200)\" d=\"M 0 0 M53.4065 818.682 L58.9447 818.682 Q57.6716 821.164 57.035 823.838 Q56.3984 826.511 56.3984 829.376 Q56.3984 833.737 57.7352 835.933 Q59.072 838.097 61.7456 838.097 Q63.7826 838.097 64.9603 836.537 Q66.1061 834.978 67.1565 830.267 L67.6021 828.262 Q68.9389 822.024 71.3897 819.414 Q73.8086 816.772 78.1691 816.772 Q83.1344 816.772 86.0308 820.719 Q88.9272 824.634 88.9272 831.509 Q88.9272 834.373 88.3543 837.492 Q87.8132 840.58 86.6992 844.017 L80.6518 844.017 Q82.3387 840.771 83.198 837.62 Q84.0256 834.469 84.0256 831.381 Q84.0256 827.244 82.6251 825.016 Q81.1929 822.788 78.6147 822.788 Q76.2276 822.788 74.9545 824.411 Q73.6813 826.002 72.5037 831.445 L72.0262 833.482 Q70.8804 838.925 68.5251 841.344 Q66.138 843.763 62.0002 843.763 Q56.9713 843.763 54.2341 840.198 Q51.4968 836.633 51.4968 830.076 Q51.4968 826.83 51.9743 823.965 Q52.4517 821.101 53.4065 818.682 Z\" fill=\"#000000\" fill-rule=\"evenodd\" fill-opacity=\"1\" /><path clip-path=\"url(#clip200)\" d=\"M 0 0 M53.7248 784.975 L59.1993 784.975 Q57.8307 787.458 57.1623 789.972 Q56.4621 792.455 56.4621 795.001 Q56.4621 800.699 60.0905 803.85 Q63.6872 807.001 70.212 807.001 Q76.7369 807.001 80.3653 803.85 Q83.9619 800.699 83.9619 795.001 Q83.9619 792.455 83.2935 789.972 Q82.5933 787.458 81.2247 784.975 L86.6355 784.975 Q87.7814 787.426 88.3543 790.068 Q88.9272 792.678 88.9272 795.638 Q88.9272 803.69 83.8664 808.433 Q78.8057 813.175 70.212 813.175 Q61.491 813.175 56.4939 808.401 Q51.4968 803.595 51.4968 795.256 Q51.4968 792.55 52.0697 789.972 Q52.6108 787.394 53.7248 784.975 Z\" fill=\"#000000\" fill-rule=\"evenodd\" fill-opacity=\"1\" /><path clip-path=\"url(#clip200)\" d=\"M 0 0 M66.4881 749.2 L88.0042 749.2 L88.0042 755.056 L66.679 755.056 Q61.6183 755.056 59.1038 757.03 Q56.5894 759.003 56.5894 762.95 Q56.5894 767.692 59.6131 770.43 Q62.6368 773.167 67.8567 773.167 L88.0042 773.167 L88.0042 779.055 L38.479 779.055 L38.479 773.167 L57.8944 773.167 Q54.6797 771.066 53.0883 768.233 Q51.4968 765.369 51.4968 761.645 Q51.4968 755.502 55.3163 752.351 Q59.1038 749.2 66.4881 749.2 Z\" fill=\"#000000\" fill-rule=\"evenodd\" fill-opacity=\"1\" /><path clip-path=\"url(#clip200)\" d=\"M 0 0 M56.4621 729.243 Q56.4621 733.954 60.1542 736.691 Q63.8145 739.429 70.212 739.429 Q76.6095 739.429 80.3017 736.723 Q83.9619 733.986 83.9619 729.243 Q83.9619 724.565 80.2698 721.827 Q76.5777 719.09 70.212 719.09 Q63.8781 719.09 60.186 721.827 Q56.4621 724.565 56.4621 729.243 M51.4968 729.243 Q51.4968 721.605 56.4621 717.244 Q61.4273 712.884 70.212 712.884 Q78.9649 712.884 83.9619 717.244 Q88.9272 721.605 88.9272 729.243 Q88.9272 736.914 83.9619 741.275 Q78.9649 745.603 70.212 745.603 Q61.4273 745.603 56.4621 741.275 Q51.4968 736.914 51.4968 729.243 Z\" fill=\"#000000\" fill-rule=\"evenodd\" fill-opacity=\"1\" /><path clip-path=\"url(#clip200)\" d=\"M 0 0 M56.4621 692.927 Q56.4621 697.638 60.1542 700.375 Q63.8145 703.112 70.212 703.112 Q76.6095 703.112 80.3017 700.407 Q83.9619 697.67 83.9619 692.927 Q83.9619 688.248 80.2698 685.511 Q76.5777 682.774 70.212 682.774 Q63.8781 682.774 60.186 685.511 Q56.4621 688.248 56.4621 692.927 M51.4968 692.927 Q51.4968 685.288 56.4621 680.928 Q61.4273 676.567 70.212 676.567 Q78.9649 676.567 83.9619 680.928 Q88.9272 685.288 88.9272 692.927 Q88.9272 700.598 83.9619 704.958 Q78.9649 709.287 70.212 709.287 Q61.4273 709.287 56.4621 704.958 Q51.4968 700.598 51.4968 692.927 Z\" fill=\"#000000\" fill-rule=\"evenodd\" fill-opacity=\"1\" /><path clip-path=\"url(#clip200)\" d=\"M 0 0 M38.479 670.424 L38.479 664.568 L88.0042 664.568 L88.0042 670.424 L38.479 670.424 Z\" fill=\"#000000\" fill-rule=\"evenodd\" fill-opacity=\"1\" /><path clip-path=\"url(#clip200)\" d=\"M 0 0 M53.4065 635.699 L58.9447 635.699 Q57.6716 638.182 57.035 640.856 Q56.3984 643.529 56.3984 646.394 Q56.3984 650.754 57.7352 652.95 Q59.072 655.115 61.7456 655.115 Q63.7826 655.115 64.9603 653.555 Q66.1061 651.996 67.1565 647.285 L67.6021 645.28 Q68.9389 639.041 71.3897 636.431 Q73.8086 633.79 78.1691 633.79 Q83.1344 633.79 86.0308 637.736 Q88.9272 641.651 88.9272 648.526 Q88.9272 651.391 88.3543 654.51 Q87.8132 657.597 86.6992 661.035 L80.6518 661.035 Q82.3387 657.788 83.198 654.637 Q84.0256 651.486 84.0256 648.399 Q84.0256 644.261 82.6251 642.033 Q81.1929 639.805 78.6147 639.805 Q76.2276 639.805 74.9545 641.429 Q73.6813 643.02 72.5037 648.463 L72.0262 650.5 Q70.8804 655.942 68.5251 658.361 Q66.138 660.78 62.0002 660.78 Q56.9713 660.78 54.2341 657.215 Q51.4968 653.651 51.4968 647.094 Q51.4968 643.848 51.9743 640.983 Q52.4517 638.118 53.4065 635.699 Z\" fill=\"#000000\" fill-rule=\"evenodd\" fill-opacity=\"1\" /><path clip-path=\"url(#clip202)\" d=\"\n",
       "M485.173 1293.21 L485.173 1423.18 L628.833 1423.18 L628.833 1293.21 L485.173 1293.21 L485.173 1293.21  Z\n",
       "  \" fill=\"#1874cd\" fill-rule=\"evenodd\" fill-opacity=\"0.7\"/>\n",
       "<polyline clip-path=\"url(#clip202)\" style=\"stroke:#000000; stroke-width:4; stroke-opacity:0.7; fill:none\" points=\"\n",
       "  485.173,1293.21 485.173,1423.18 628.833,1423.18 628.833,1293.21 485.173,1293.21 \n",
       "  \"/>\n",
       "<path clip-path=\"url(#clip202)\" d=\"\n",
       "M628.833 1033.27 L628.833 1423.18 L772.493 1423.18 L772.493 1033.27 L628.833 1033.27 L628.833 1033.27  Z\n",
       "  \" fill=\"#1874cd\" fill-rule=\"evenodd\" fill-opacity=\"0.7\"/>\n",
       "<polyline clip-path=\"url(#clip202)\" style=\"stroke:#000000; stroke-width:4; stroke-opacity:0.7; fill:none\" points=\"\n",
       "  628.833,1033.27 628.833,1423.18 772.493,1423.18 772.493,1033.27 628.833,1033.27 \n",
       "  \"/>\n",
       "<path clip-path=\"url(#clip202)\" d=\"\n",
       "M772.493 513.384 L772.493 1423.18 L916.154 1423.18 L916.154 513.384 L772.493 513.384 L772.493 513.384  Z\n",
       "  \" fill=\"#1874cd\" fill-rule=\"evenodd\" fill-opacity=\"0.7\"/>\n",
       "<polyline clip-path=\"url(#clip202)\" style=\"stroke:#000000; stroke-width:4; stroke-opacity:0.7; fill:none\" points=\"\n",
       "  772.493,513.384 772.493,1423.18 916.154,1423.18 916.154,513.384 772.493,513.384 \n",
       "  \"/>\n",
       "<path clip-path=\"url(#clip202)\" d=\"\n",
       "M916.154 643.355 L916.154 1423.18 L1059.81 1423.18 L1059.81 643.355 L916.154 643.355 L916.154 643.355  Z\n",
       "  \" fill=\"#1874cd\" fill-rule=\"evenodd\" fill-opacity=\"0.7\"/>\n",
       "<polyline clip-path=\"url(#clip202)\" style=\"stroke:#000000; stroke-width:4; stroke-opacity:0.7; fill:none\" points=\"\n",
       "  916.154,643.355 916.154,1423.18 1059.81,1423.18 1059.81,643.355 916.154,643.355 \n",
       "  \"/>\n",
       "<path clip-path=\"url(#clip202)\" d=\"\n",
       "M1059.81 1163.24 L1059.81 1423.18 L1203.47 1423.18 L1203.47 1163.24 L1059.81 1163.24 L1059.81 1163.24  Z\n",
       "  \" fill=\"#1874cd\" fill-rule=\"evenodd\" fill-opacity=\"0.7\"/>\n",
       "<polyline clip-path=\"url(#clip202)\" style=\"stroke:#000000; stroke-width:4; stroke-opacity:0.7; fill:none\" points=\"\n",
       "  1059.81,1163.24 1059.81,1423.18 1203.47,1423.18 1203.47,1163.24 1059.81,1163.24 \n",
       "  \"/>\n",
       "<path clip-path=\"url(#clip202)\" d=\"\n",
       "M1203.47 1293.21 L1203.47 1423.18 L1347.13 1423.18 L1347.13 1293.21 L1203.47 1293.21 L1203.47 1293.21  Z\n",
       "  \" fill=\"#1874cd\" fill-rule=\"evenodd\" fill-opacity=\"0.7\"/>\n",
       "<polyline clip-path=\"url(#clip202)\" style=\"stroke:#000000; stroke-width:4; stroke-opacity:0.7; fill:none\" points=\"\n",
       "  1203.47,1293.21 1203.47,1423.18 1347.13,1423.18 1347.13,1293.21 1203.47,1293.21 \n",
       "  \"/>\n",
       "</svg>\n"
      ]
     },
     "execution_count": 23,
     "metadata": {},
     "output_type": "execute_result"
    }
   ],
   "source": [
    "top_tier = Array{Curriculum,1}()\n",
    "top_tier_cc = Array{Float64,1}()\n",
    "top_tier_total_cc = 0\n",
    "top_tier_avg_cc = 0\n",
    "for (key, val) in curriculum\n",
    "    if (split(key, \"/\")[1]) == \"tier_top\"\n",
    "        name = split(split(key, \"/\")[2], \".\")[1]\n",
    "        println(\"$name => $(val.metrics[\"complexity\"][1])\")\n",
    "        push!(top_tier, val)\n",
    "        push!(top_tier_cc, val.metrics[\"complexity\"][1])\n",
    "        top_tier_total_cc += val.metrics[\"complexity\"][1]\n",
    "    end\n",
    "end\n",
    "top_tier_avg_cc = round(top_tier_total_cc / length(top_tier), digits=2)\n",
    "println(\"Avg. curricular complexity = $(top_tier_avg_cc), STD = $(stdm(top_tier_cc, top_tier_avg_cc))\")\n",
    "metric_histogram(top_tier, \"complexity\", nbins=5, title=\"Top Tier\", xlabel=\"curricular complexity\", ylabel=\"# schools\", xlim=(0,300))"
   ]
  },
  {
   "cell_type": "markdown",
   "metadata": {},
   "source": [
    "Process the schools in top tier, extracting the curricular complexity scores:"
   ]
  },
  {
   "cell_type": "markdown",
   "metadata": {},
   "source": [
    "Process the schools in the middle tier, extracting the curricular complexity metrics:"
   ]
  },
  {
   "cell_type": "code",
   "execution_count": 24,
   "metadata": {},
   "outputs": [
    {
     "name": "stdout",
     "output_type": "stream",
     "text": [
      "University_of_Connecticut-CS => 129.0\n",
      "University_of_Iowa-CS => 60.0\n",
      "Clemson_University-CS => 126.0\n",
      "University_of_North_Carolina-Charlotte-CS => 94.0\n",
      "University_of_Arizona-CS => 109.0\n",
      "Iowa-State-University-CS => 154.0\n",
      "University_of_Massachusetts_Lowell-CS => 221.0\n",
      "Rochester_Institute_Technology-CS => 151.0\n",
      "Illinois_Tech-CS => 87.80000000000003\n",
      "Drexel-CS => 180.19999999999987\n",
      "South_Florida-CS => 253.0\n",
      "University_of_Colorado-Colorado_Springs-CS => 203.0\n",
      "Tennessee_CS => 169.0\n",
      "University_of_Georgia-CS => 77.0\n",
      "University_of_Kentucky-CS => 145.0\n",
      "New_Hampshire-CS => 123.0\n",
      "University_of_Maryland_Baltimore_County-CS => 136.0\n",
      "University_of_Houston-CS => 186.0\n",
      "Virginia_Commonwealth_University-CS => 163.0\n",
      "William_and_Mary-CS => 73.0\n",
      "Avg. curricular complexity = 142.0, STD = 68.44809020441386\n"
     ]
    },
    {
     "data": {
      "image/svg+xml": [
       "<?xml version=\"1.0\" encoding=\"utf-8\"?>\n",
       "<svg xmlns=\"http://www.w3.org/2000/svg\" xmlns:xlink=\"http://www.w3.org/1999/xlink\" width=\"600\" height=\"400\" viewBox=\"0 0 2400 1600\">\n",
       "<defs>\n",
       "  <clipPath id=\"clip240\">\n",
       "    <rect x=\"0\" y=\"0\" width=\"2400\" height=\"1600\"/>\n",
       "  </clipPath>\n",
       "</defs>\n",
       "<path clip-path=\"url(#clip240)\" d=\"\n",
       "M0 1600 L2400 1600 L2400 0 L0 0  Z\n",
       "  \" fill=\"#ffffff\" fill-rule=\"evenodd\" fill-opacity=\"1\"/>\n",
       "<defs>\n",
       "  <clipPath id=\"clip241\">\n",
       "    <rect x=\"480\" y=\"0\" width=\"1681\" height=\"1600\"/>\n",
       "  </clipPath>\n",
       "</defs>\n",
       "<path clip-path=\"url(#clip240)\" d=\"\n",
       "M197.852 1423.18 L2352.76 1423.18 L2352.76 123.472 L197.852 123.472  Z\n",
       "  \" fill=\"#ffffff\" fill-rule=\"evenodd\" fill-opacity=\"1\"/>\n",
       "<defs>\n",
       "  <clipPath id=\"clip242\">\n",
       "    <rect x=\"197\" y=\"123\" width=\"2156\" height=\"1301\"/>\n",
       "  </clipPath>\n",
       "</defs>\n",
       "<polyline clip-path=\"url(#clip242)\" style=\"stroke:#000000; stroke-width:2; stroke-opacity:0.1; fill:none\" points=\"\n",
       "  197.852,1423.18 197.852,123.472 \n",
       "  \"/>\n",
       "<polyline clip-path=\"url(#clip242)\" style=\"stroke:#000000; stroke-width:2; stroke-opacity:0.1; fill:none\" points=\"\n",
       "  916.154,1423.18 916.154,123.472 \n",
       "  \"/>\n",
       "<polyline clip-path=\"url(#clip242)\" style=\"stroke:#000000; stroke-width:2; stroke-opacity:0.1; fill:none\" points=\"\n",
       "  1634.45,1423.18 1634.45,123.472 \n",
       "  \"/>\n",
       "<polyline clip-path=\"url(#clip242)\" style=\"stroke:#000000; stroke-width:2; stroke-opacity:0.1; fill:none\" points=\"\n",
       "  2352.76,1423.18 2352.76,123.472 \n",
       "  \"/>\n",
       "<polyline clip-path=\"url(#clip242)\" style=\"stroke:#000000; stroke-width:2; stroke-opacity:0.1; fill:none\" points=\"\n",
       "  197.852,1423.18 2352.76,1423.18 \n",
       "  \"/>\n",
       "<polyline clip-path=\"url(#clip242)\" style=\"stroke:#000000; stroke-width:2; stroke-opacity:0.1; fill:none\" points=\"\n",
       "  197.852,1163.24 2352.76,1163.24 \n",
       "  \"/>\n",
       "<polyline clip-path=\"url(#clip242)\" style=\"stroke:#000000; stroke-width:2; stroke-opacity:0.1; fill:none\" points=\"\n",
       "  197.852,903.297 2352.76,903.297 \n",
       "  \"/>\n",
       "<polyline clip-path=\"url(#clip242)\" style=\"stroke:#000000; stroke-width:2; stroke-opacity:0.1; fill:none\" points=\"\n",
       "  197.852,643.355 2352.76,643.355 \n",
       "  \"/>\n",
       "<polyline clip-path=\"url(#clip242)\" style=\"stroke:#000000; stroke-width:2; stroke-opacity:0.1; fill:none\" points=\"\n",
       "  197.852,383.414 2352.76,383.414 \n",
       "  \"/>\n",
       "<polyline clip-path=\"url(#clip242)\" style=\"stroke:#000000; stroke-width:2; stroke-opacity:0.1; fill:none\" points=\"\n",
       "  197.852,123.472 2352.76,123.472 \n",
       "  \"/>\n",
       "<polyline clip-path=\"url(#clip240)\" style=\"stroke:#000000; stroke-width:4; stroke-opacity:1; fill:none\" points=\"\n",
       "  197.852,1423.18 2352.76,1423.18 \n",
       "  \"/>\n",
       "<polyline clip-path=\"url(#clip240)\" style=\"stroke:#000000; stroke-width:4; stroke-opacity:1; fill:none\" points=\"\n",
       "  197.852,1423.18 197.852,123.472 \n",
       "  \"/>\n",
       "<polyline clip-path=\"url(#clip240)\" style=\"stroke:#000000; stroke-width:4; stroke-opacity:1; fill:none\" points=\"\n",
       "  197.852,1423.18 197.852,1407.58 \n",
       "  \"/>\n",
       "<polyline clip-path=\"url(#clip240)\" style=\"stroke:#000000; stroke-width:4; stroke-opacity:1; fill:none\" points=\"\n",
       "  916.154,1423.18 916.154,1407.58 \n",
       "  \"/>\n",
       "<polyline clip-path=\"url(#clip240)\" style=\"stroke:#000000; stroke-width:4; stroke-opacity:1; fill:none\" points=\"\n",
       "  1634.45,1423.18 1634.45,1407.58 \n",
       "  \"/>\n",
       "<polyline clip-path=\"url(#clip240)\" style=\"stroke:#000000; stroke-width:4; stroke-opacity:1; fill:none\" points=\"\n",
       "  2352.76,1423.18 2352.76,1407.58 \n",
       "  \"/>\n",
       "<polyline clip-path=\"url(#clip240)\" style=\"stroke:#000000; stroke-width:4; stroke-opacity:1; fill:none\" points=\"\n",
       "  197.852,1423.18 223.711,1423.18 \n",
       "  \"/>\n",
       "<polyline clip-path=\"url(#clip240)\" style=\"stroke:#000000; stroke-width:4; stroke-opacity:1; fill:none\" points=\"\n",
       "  197.852,1163.24 223.711,1163.24 \n",
       "  \"/>\n",
       "<polyline clip-path=\"url(#clip240)\" style=\"stroke:#000000; stroke-width:4; stroke-opacity:1; fill:none\" points=\"\n",
       "  197.852,903.297 223.711,903.297 \n",
       "  \"/>\n",
       "<polyline clip-path=\"url(#clip240)\" style=\"stroke:#000000; stroke-width:4; stroke-opacity:1; fill:none\" points=\"\n",
       "  197.852,643.355 223.711,643.355 \n",
       "  \"/>\n",
       "<polyline clip-path=\"url(#clip240)\" style=\"stroke:#000000; stroke-width:4; stroke-opacity:1; fill:none\" points=\"\n",
       "  197.852,383.414 223.711,383.414 \n",
       "  \"/>\n",
       "<polyline clip-path=\"url(#clip240)\" style=\"stroke:#000000; stroke-width:4; stroke-opacity:1; fill:none\" points=\"\n",
       "  197.852,123.472 223.711,123.472 \n",
       "  \"/>\n",
       "<path clip-path=\"url(#clip240)\" d=\"M 0 0 M197.852 1445.17 Q194.241 1445.17 192.413 1448.74 Q190.607 1452.28 190.607 1459.41 Q190.607 1466.51 192.413 1470.08 Q194.241 1473.62 197.852 1473.62 Q201.487 1473.62 203.292 1470.08 Q205.121 1466.51 205.121 1459.41 Q205.121 1452.28 203.292 1448.74 Q201.487 1445.17 197.852 1445.17 M197.852 1441.47 Q203.663 1441.47 206.718 1446.07 Q209.797 1450.66 209.797 1459.41 Q209.797 1468.13 206.718 1472.74 Q203.663 1477.32 197.852 1477.32 Q192.042 1477.32 188.964 1472.74 Q185.908 1468.13 185.908 1459.41 Q185.908 1450.66 188.964 1446.07 Q192.042 1441.47 197.852 1441.47 Z\" fill=\"#000000\" fill-rule=\"evenodd\" fill-opacity=\"1\" /><path clip-path=\"url(#clip240)\" d=\"M 0 0 M879.522 1472.72 L887.161 1472.72 L887.161 1446.35 L878.851 1448.02 L878.851 1443.76 L887.114 1442.09 L891.79 1442.09 L891.79 1472.72 L899.429 1472.72 L899.429 1476.65 L879.522 1476.65 L879.522 1472.72 Z\" fill=\"#000000\" fill-rule=\"evenodd\" fill-opacity=\"1\" /><path clip-path=\"url(#clip240)\" d=\"M 0 0 M914.499 1445.17 Q910.887 1445.17 909.059 1448.74 Q907.253 1452.28 907.253 1459.41 Q907.253 1466.51 909.059 1470.08 Q910.887 1473.62 914.499 1473.62 Q918.133 1473.62 919.938 1470.08 Q921.767 1466.51 921.767 1459.41 Q921.767 1452.28 919.938 1448.74 Q918.133 1445.17 914.499 1445.17 M914.499 1441.47 Q920.309 1441.47 923.364 1446.07 Q926.443 1450.66 926.443 1459.41 Q926.443 1468.13 923.364 1472.74 Q920.309 1477.32 914.499 1477.32 Q908.688 1477.32 905.61 1472.74 Q902.554 1468.13 902.554 1459.41 Q902.554 1450.66 905.61 1446.07 Q908.688 1441.47 914.499 1441.47 Z\" fill=\"#000000\" fill-rule=\"evenodd\" fill-opacity=\"1\" /><path clip-path=\"url(#clip240)\" d=\"M 0 0 M941.512 1445.17 Q937.901 1445.17 936.073 1448.74 Q934.267 1452.28 934.267 1459.41 Q934.267 1466.51 936.073 1470.08 Q937.901 1473.62 941.512 1473.62 Q945.147 1473.62 946.952 1470.08 Q948.781 1466.51 948.781 1459.41 Q948.781 1452.28 946.952 1448.74 Q945.147 1445.17 941.512 1445.17 M941.512 1441.47 Q947.322 1441.47 950.378 1446.07 Q953.457 1450.66 953.457 1459.41 Q953.457 1468.13 950.378 1472.74 Q947.322 1477.32 941.512 1477.32 Q935.702 1477.32 932.623 1472.74 Q929.568 1468.13 929.568 1459.41 Q929.568 1450.66 932.623 1446.07 Q935.702 1441.47 941.512 1441.47 Z\" fill=\"#000000\" fill-rule=\"evenodd\" fill-opacity=\"1\" /><path clip-path=\"url(#clip240)\" d=\"M 0 0 M1602.09 1472.72 L1618.41 1472.72 L1618.41 1476.65 L1596.47 1476.65 L1596.47 1472.72 Q1599.13 1469.96 1603.71 1465.33 Q1608.32 1460.68 1609.5 1459.34 Q1611.75 1456.81 1612.63 1455.08 Q1613.53 1453.32 1613.53 1451.63 Q1613.53 1448.87 1611.58 1447.14 Q1609.66 1445.4 1606.56 1445.4 Q1604.36 1445.4 1601.91 1446.17 Q1599.48 1446.93 1596.7 1448.48 L1596.7 1443.76 Q1599.52 1442.62 1601.98 1442.05 Q1604.43 1441.47 1606.47 1441.47 Q1611.84 1441.47 1615.03 1444.15 Q1618.23 1446.84 1618.23 1451.33 Q1618.23 1453.46 1617.42 1455.38 Q1616.63 1457.28 1614.52 1459.87 Q1613.95 1460.54 1610.84 1463.76 Q1607.74 1466.95 1602.09 1472.72 Z\" fill=\"#000000\" fill-rule=\"evenodd\" fill-opacity=\"1\" /><path clip-path=\"url(#clip240)\" d=\"M 0 0 M1633.48 1445.17 Q1629.87 1445.17 1628.04 1448.74 Q1626.24 1452.28 1626.24 1459.41 Q1626.24 1466.51 1628.04 1470.08 Q1629.87 1473.62 1633.48 1473.62 Q1637.12 1473.62 1638.92 1470.08 Q1640.75 1466.51 1640.75 1459.41 Q1640.75 1452.28 1638.92 1448.74 Q1637.12 1445.17 1633.48 1445.17 M1633.48 1441.47 Q1639.29 1441.47 1642.35 1446.07 Q1645.43 1450.66 1645.43 1459.41 Q1645.43 1468.13 1642.35 1472.74 Q1639.29 1477.32 1633.48 1477.32 Q1627.67 1477.32 1624.59 1472.74 Q1621.54 1468.13 1621.54 1459.41 Q1621.54 1450.66 1624.59 1446.07 Q1627.67 1441.47 1633.48 1441.47 Z\" fill=\"#000000\" fill-rule=\"evenodd\" fill-opacity=\"1\" /><path clip-path=\"url(#clip240)\" d=\"M 0 0 M1660.5 1445.17 Q1656.89 1445.17 1655.06 1448.74 Q1653.25 1452.28 1653.25 1459.41 Q1653.25 1466.51 1655.06 1470.08 Q1656.89 1473.62 1660.5 1473.62 Q1664.13 1473.62 1665.94 1470.08 Q1667.76 1466.51 1667.76 1459.41 Q1667.76 1452.28 1665.94 1448.74 Q1664.13 1445.17 1660.5 1445.17 M1660.5 1441.47 Q1666.31 1441.47 1669.36 1446.07 Q1672.44 1450.66 1672.44 1459.41 Q1672.44 1468.13 1669.36 1472.74 Q1666.31 1477.32 1660.5 1477.32 Q1654.69 1477.32 1651.61 1472.74 Q1648.55 1468.13 1648.55 1459.41 Q1648.55 1450.66 1651.61 1446.07 Q1654.69 1441.47 1660.5 1441.47 Z\" fill=\"#000000\" fill-rule=\"evenodd\" fill-opacity=\"1\" /><path clip-path=\"url(#clip240)\" d=\"M 0 0 M2329.99 1458.02 Q2333.35 1458.74 2335.22 1461 Q2337.12 1463.27 2337.12 1466.61 Q2337.12 1471.72 2333.6 1474.52 Q2330.08 1477.32 2323.6 1477.32 Q2321.43 1477.32 2319.11 1476.88 Q2316.82 1476.47 2314.36 1475.61 L2314.36 1471.1 Q2316.31 1472.23 2318.62 1472.81 Q2320.94 1473.39 2323.46 1473.39 Q2327.86 1473.39 2330.15 1471.65 Q2332.47 1469.92 2332.47 1466.61 Q2332.47 1463.55 2330.31 1461.84 Q2328.18 1460.1 2324.36 1460.1 L2320.34 1460.1 L2320.34 1456.26 L2324.55 1456.26 Q2328 1456.26 2329.83 1454.89 Q2331.66 1453.5 2331.66 1450.91 Q2331.66 1448.25 2329.76 1446.84 Q2327.88 1445.4 2324.36 1445.4 Q2322.44 1445.4 2320.24 1445.82 Q2318.05 1446.24 2315.41 1447.11 L2315.41 1442.95 Q2318.07 1442.21 2320.38 1441.84 Q2322.72 1441.47 2324.78 1441.47 Q2330.11 1441.47 2333.21 1443.9 Q2336.31 1446.3 2336.31 1450.43 Q2336.31 1453.3 2334.67 1455.29 Q2333.02 1457.25 2329.99 1458.02 Z\" fill=\"#000000\" fill-rule=\"evenodd\" fill-opacity=\"1\" /><path clip-path=\"url(#clip240)\" d=\"M 0 0 M2352.19 1445.17 Q2348.58 1445.17 2346.75 1448.74 Q2344.94 1452.28 2344.94 1459.41 Q2344.94 1466.51 2346.75 1470.08 Q2348.58 1473.62 2352.19 1473.62 Q2355.82 1473.62 2357.63 1470.08 Q2359.46 1466.51 2359.46 1459.41 Q2359.46 1452.28 2357.63 1448.74 Q2355.82 1445.17 2352.19 1445.17 M2352.19 1441.47 Q2358 1441.47 2361.05 1446.07 Q2364.13 1450.66 2364.13 1459.41 Q2364.13 1468.13 2361.05 1472.74 Q2358 1477.32 2352.19 1477.32 Q2346.38 1477.32 2343.3 1472.74 Q2340.24 1468.13 2340.24 1459.41 Q2340.24 1450.66 2343.3 1446.07 Q2346.38 1441.47 2352.19 1441.47 Z\" fill=\"#000000\" fill-rule=\"evenodd\" fill-opacity=\"1\" /><path clip-path=\"url(#clip240)\" d=\"M 0 0 M2379.2 1445.17 Q2375.59 1445.17 2373.76 1448.74 Q2371.96 1452.28 2371.96 1459.41 Q2371.96 1466.51 2373.76 1470.08 Q2375.59 1473.62 2379.2 1473.62 Q2382.84 1473.62 2384.64 1470.08 Q2386.47 1466.51 2386.47 1459.41 Q2386.47 1452.28 2384.64 1448.74 Q2382.84 1445.17 2379.2 1445.17 M2379.2 1441.47 Q2385.01 1441.47 2388.07 1446.07 Q2391.15 1450.66 2391.15 1459.41 Q2391.15 1468.13 2388.07 1472.74 Q2385.01 1477.32 2379.2 1477.32 Q2373.39 1477.32 2370.31 1472.74 Q2367.26 1468.13 2367.26 1459.41 Q2367.26 1450.66 2370.31 1446.07 Q2373.39 1441.47 2379.2 1441.47 Z\" fill=\"#000000\" fill-rule=\"evenodd\" fill-opacity=\"1\" /><path clip-path=\"url(#clip240)\" d=\"M 0 0 M161.908 1408.98 Q158.297 1408.98 156.468 1412.54 Q154.663 1416.08 154.663 1423.21 Q154.663 1430.32 156.468 1433.89 Q158.297 1437.43 161.908 1437.43 Q165.542 1437.43 167.348 1433.89 Q169.177 1430.32 169.177 1423.21 Q169.177 1416.08 167.348 1412.54 Q165.542 1408.98 161.908 1408.98 M161.908 1405.27 Q167.718 1405.27 170.774 1409.88 Q173.852 1414.46 173.852 1423.21 Q173.852 1431.94 170.774 1436.55 Q167.718 1441.13 161.908 1441.13 Q156.098 1441.13 153.019 1436.55 Q149.964 1431.94 149.964 1423.21 Q149.964 1414.46 153.019 1409.88 Q156.098 1405.27 161.908 1405.27 Z\" fill=\"#000000\" fill-rule=\"evenodd\" fill-opacity=\"1\" /><path clip-path=\"url(#clip240)\" d=\"M 0 0 M157.533 1176.58 L173.852 1176.58 L173.852 1180.52 L151.908 1180.52 L151.908 1176.58 Q154.57 1173.83 159.153 1169.2 Q163.76 1164.55 164.941 1163.2 Q167.186 1160.68 168.065 1158.94 Q168.968 1157.19 168.968 1155.5 Q168.968 1152.74 167.024 1151 Q165.103 1149.27 162.001 1149.27 Q159.802 1149.27 157.348 1150.03 Q154.917 1150.8 152.14 1152.35 L152.14 1147.62 Q154.964 1146.49 157.417 1145.91 Q159.871 1145.33 161.908 1145.33 Q167.278 1145.33 170.473 1148.02 Q173.667 1150.7 173.667 1155.19 Q173.667 1157.32 172.857 1159.25 Q172.07 1161.14 169.964 1163.74 Q169.385 1164.41 166.283 1167.62 Q163.181 1170.82 157.533 1176.58 Z\" fill=\"#000000\" fill-rule=\"evenodd\" fill-opacity=\"1\" /><path clip-path=\"url(#clip240)\" d=\"M 0 0 M164.269 890.091 L152.464 908.54 L164.269 908.54 L164.269 890.091 M163.042 886.017 L168.922 886.017 L168.922 908.54 L173.852 908.54 L173.852 912.429 L168.922 912.429 L168.922 920.577 L164.269 920.577 L164.269 912.429 L148.667 912.429 L148.667 907.915 L163.042 886.017 Z\" fill=\"#000000\" fill-rule=\"evenodd\" fill-opacity=\"1\" /><path clip-path=\"url(#clip240)\" d=\"M 0 0 M162.325 641.492 Q159.177 641.492 157.325 643.645 Q155.496 645.797 155.496 649.547 Q155.496 653.274 157.325 655.45 Q159.177 657.603 162.325 657.603 Q165.473 657.603 167.302 655.45 Q169.153 653.274 169.153 649.547 Q169.153 645.797 167.302 643.645 Q165.473 641.492 162.325 641.492 M171.607 626.839 L171.607 631.098 Q169.848 630.265 168.042 629.825 Q166.26 629.385 164.501 629.385 Q159.871 629.385 157.417 632.51 Q154.987 635.635 154.64 641.955 Q156.005 639.941 158.066 638.876 Q160.126 637.788 162.603 637.788 Q167.811 637.788 170.82 640.959 Q173.852 644.108 173.852 649.547 Q173.852 654.871 170.704 658.089 Q167.556 661.307 162.325 661.307 Q156.329 661.307 153.158 656.723 Q149.987 652.117 149.987 643.39 Q149.987 635.196 153.876 630.334 Q157.765 625.45 164.316 625.45 Q166.075 625.45 167.857 625.797 Q169.663 626.145 171.607 626.839 Z\" fill=\"#000000\" fill-rule=\"evenodd\" fill-opacity=\"1\" /><path clip-path=\"url(#clip240)\" d=\"M 0 0 M162.001 384.282 Q158.667 384.282 156.746 386.064 Q154.848 387.847 154.848 390.971 Q154.848 394.096 156.746 395.879 Q158.667 397.661 162.001 397.661 Q165.334 397.661 167.255 395.879 Q169.177 394.073 169.177 390.971 Q169.177 387.847 167.255 386.064 Q165.357 384.282 162.001 384.282 M157.325 382.291 Q154.316 381.55 152.626 379.49 Q150.959 377.43 150.959 374.467 Q150.959 370.323 153.899 367.916 Q156.862 365.509 162.001 365.509 Q167.163 365.509 170.103 367.916 Q173.042 370.323 173.042 374.467 Q173.042 377.43 171.353 379.49 Q169.686 381.55 166.7 382.291 Q170.079 383.078 171.954 385.37 Q173.852 387.661 173.852 390.971 Q173.852 395.995 170.774 398.68 Q167.718 401.365 162.001 401.365 Q156.283 401.365 153.204 398.68 Q150.149 395.995 150.149 390.971 Q150.149 387.661 152.047 385.37 Q153.945 383.078 157.325 382.291 M155.612 374.907 Q155.612 377.592 157.279 379.097 Q158.968 380.601 162.001 380.601 Q165.01 380.601 166.7 379.097 Q168.413 377.592 168.413 374.907 Q168.413 372.222 166.7 370.717 Q165.01 369.212 162.001 369.212 Q158.968 369.212 157.279 370.717 Q155.612 372.222 155.612 374.907 Z\" fill=\"#000000\" fill-rule=\"evenodd\" fill-opacity=\"1\" /><path clip-path=\"url(#clip240)\" d=\"M 0 0 M126.931 136.817 L134.57 136.817 L134.57 110.451 L126.26 112.118 L126.26 107.859 L134.524 106.192 L139.2 106.192 L139.2 136.817 L146.839 136.817 L146.839 140.752 L126.931 140.752 L126.931 136.817 Z\" fill=\"#000000\" fill-rule=\"evenodd\" fill-opacity=\"1\" /><path clip-path=\"url(#clip240)\" d=\"M 0 0 M161.908 109.271 Q158.297 109.271 156.468 112.836 Q154.663 116.377 154.663 123.507 Q154.663 130.613 156.468 134.178 Q158.297 137.72 161.908 137.72 Q165.542 137.72 167.348 134.178 Q169.177 130.613 169.177 123.507 Q169.177 116.377 167.348 112.836 Q165.542 109.271 161.908 109.271 M161.908 105.567 Q167.718 105.567 170.774 110.174 Q173.852 114.757 173.852 123.507 Q173.852 132.234 170.774 136.84 Q167.718 141.423 161.908 141.423 Q156.098 141.423 153.019 136.84 Q149.964 132.234 149.964 123.507 Q149.964 114.757 153.019 110.174 Q156.098 105.567 161.908 105.567 Z\" fill=\"#000000\" fill-rule=\"evenodd\" fill-opacity=\"1\" /><path clip-path=\"url(#clip240)\" d=\"M 0 0 M1078.55 12.096 L1090.75 12.096 L1106.18 53.2532 L1121.69 12.096 L1133.89 12.096 L1133.89 72.576 L1125.91 72.576 L1125.91 19.4686 L1110.31 60.9499 L1102.09 60.9499 L1086.49 19.4686 L1086.49 72.576 L1078.55 72.576 L1078.55 12.096 Z\" fill=\"#000000\" fill-rule=\"evenodd\" fill-opacity=\"1\" /><path clip-path=\"url(#clip240)\" d=\"M 0 0 M1141.71 27.2059 L1149.16 27.2059 L1149.16 72.576 L1141.71 72.576 L1141.71 27.2059 M1141.71 9.54393 L1149.16 9.54393 L1149.16 18.9825 L1141.71 18.9825 L1141.71 9.54393 Z\" fill=\"#000000\" fill-rule=\"evenodd\" fill-opacity=\"1\" /><path clip-path=\"url(#clip240)\" d=\"M 0 0 M1186.83 34.0924 L1186.83 9.54393 L1194.29 9.54393 L1194.29 72.576 L1186.83 72.576 L1186.83 65.7705 Q1184.48 69.8214 1180.88 71.8063 Q1177.31 73.7508 1172.29 73.7508 Q1164.07 73.7508 1158.88 67.1883 Q1153.74 60.6258 1153.74 49.9314 Q1153.74 39.2371 1158.88 32.6746 Q1164.07 26.1121 1172.29 26.1121 Q1177.31 26.1121 1180.88 28.0971 Q1184.48 30.0415 1186.83 34.0924 M1161.43 49.9314 Q1161.43 58.1548 1164.8 62.8538 Q1168.2 67.5124 1174.11 67.5124 Q1180.03 67.5124 1183.43 62.8538 Q1186.83 58.1548 1186.83 49.9314 Q1186.83 41.7081 1183.43 37.0496 Q1180.03 32.3505 1174.11 32.3505 Q1168.2 32.3505 1164.8 37.0496 Q1161.43 41.7081 1161.43 49.9314 Z\" fill=\"#000000\" fill-rule=\"evenodd\" fill-opacity=\"1\" /><path clip-path=\"url(#clip240)\" d=\"M 0 0 M1231.96 34.0924 L1231.96 9.54393 L1239.41 9.54393 L1239.41 72.576 L1231.96 72.576 L1231.96 65.7705 Q1229.61 69.8214 1226 71.8063 Q1222.44 73.7508 1217.42 73.7508 Q1209.19 73.7508 1204.01 67.1883 Q1198.86 60.6258 1198.86 49.9314 Q1198.86 39.2371 1204.01 32.6746 Q1209.19 26.1121 1217.42 26.1121 Q1222.44 26.1121 1226 28.0971 Q1229.61 30.0415 1231.96 34.0924 M1206.56 49.9314 Q1206.56 58.1548 1209.92 62.8538 Q1213.33 67.5124 1219.24 67.5124 Q1225.15 67.5124 1228.56 62.8538 Q1231.96 58.1548 1231.96 49.9314 Q1231.96 41.7081 1228.56 37.0496 Q1225.15 32.3505 1219.24 32.3505 Q1213.33 32.3505 1209.92 37.0496 Q1206.56 41.7081 1206.56 49.9314 Z\" fill=\"#000000\" fill-rule=\"evenodd\" fill-opacity=\"1\" /><path clip-path=\"url(#clip240)\" d=\"M 0 0 M1247.23 9.54393 L1254.69 9.54393 L1254.69 72.576 L1247.23 72.576 L1247.23 9.54393 Z\" fill=\"#000000\" fill-rule=\"evenodd\" fill-opacity=\"1\" /><path clip-path=\"url(#clip240)\" d=\"M 0 0 M1301.31 48.0275 L1301.31 51.6733 L1267.04 51.6733 Q1267.53 59.3701 1271.66 63.421 Q1275.83 67.4314 1283.24 67.4314 Q1287.54 67.4314 1291.55 66.3781 Q1295.6 65.3249 1299.57 63.2184 L1299.57 70.267 Q1295.56 71.9684 1291.35 72.8596 Q1287.13 73.7508 1282.8 73.7508 Q1271.94 73.7508 1265.58 67.4314 Q1259.26 61.1119 1259.26 50.3365 Q1259.26 39.1965 1265.26 32.6746 Q1271.29 26.1121 1281.5 26.1121 Q1290.66 26.1121 1295.96 32.0264 Q1301.31 37.9003 1301.31 48.0275 M1293.86 45.84 Q1293.78 39.7232 1290.41 36.0774 Q1287.09 32.4315 1281.58 32.4315 Q1275.34 32.4315 1271.58 35.9558 Q1267.85 39.4801 1267.28 45.8805 L1293.86 45.84 Z\" fill=\"#000000\" fill-rule=\"evenodd\" fill-opacity=\"1\" /><path clip-path=\"url(#clip240)\" d=\"M 0 0 M1327.44 12.096 L1378.6 12.096 L1378.6 18.9825 L1357.13 18.9825 L1357.13 72.576 L1348.91 72.576 L1348.91 18.9825 L1327.44 18.9825 L1327.44 12.096 Z\" fill=\"#000000\" fill-rule=\"evenodd\" fill-opacity=\"1\" /><path clip-path=\"url(#clip240)\" d=\"M 0 0 M1383.87 27.2059 L1391.32 27.2059 L1391.32 72.576 L1383.87 72.576 L1383.87 27.2059 M1383.87 9.54393 L1391.32 9.54393 L1391.32 18.9825 L1383.87 18.9825 L1383.87 9.54393 Z\" fill=\"#000000\" fill-rule=\"evenodd\" fill-opacity=\"1\" /><path clip-path=\"url(#clip240)\" d=\"M 0 0 M1437.95 48.0275 L1437.95 51.6733 L1403.68 51.6733 Q1404.16 59.3701 1408.3 63.421 Q1412.47 67.4314 1419.88 67.4314 Q1424.17 67.4314 1428.19 66.3781 Q1432.24 65.3249 1436.21 63.2184 L1436.21 70.267 Q1432.2 71.9684 1427.98 72.8596 Q1423.77 73.7508 1419.44 73.7508 Q1408.58 73.7508 1402.22 67.4314 Q1395.9 61.1119 1395.9 50.3365 Q1395.9 39.1965 1401.89 32.6746 Q1407.93 26.1121 1418.14 26.1121 Q1427.29 26.1121 1432.6 32.0264 Q1437.95 37.9003 1437.95 48.0275 M1430.49 45.84 Q1430.41 39.7232 1427.05 36.0774 Q1423.73 32.4315 1418.22 32.4315 Q1411.98 32.4315 1408.21 35.9558 Q1404.49 39.4801 1403.92 45.8805 L1430.49 45.84 Z\" fill=\"#000000\" fill-rule=\"evenodd\" fill-opacity=\"1\" /><path clip-path=\"url(#clip240)\" d=\"M 0 0 M1472.06 34.1734 Q1470.8 33.4443 1469.3 33.1202 Q1467.84 32.7556 1466.06 32.7556 Q1459.74 32.7556 1456.34 36.8875 Q1452.98 40.9789 1452.98 48.6757 L1452.98 72.576 L1445.48 72.576 L1445.48 27.2059 L1452.98 27.2059 L1452.98 34.2544 Q1455.33 30.1225 1459.09 28.1376 Q1462.86 26.1121 1468.25 26.1121 Q1469.02 26.1121 1469.95 26.2337 Q1470.88 26.3147 1472.02 26.5172 L1472.06 34.1734 Z\" fill=\"#000000\" fill-rule=\"evenodd\" fill-opacity=\"1\" /><path clip-path=\"url(#clip240)\" d=\"M 0 0 M998.889 1521.76 L998.889 1527.24 Q996.407 1525.87 993.892 1525.2 Q991.41 1524.5 988.863 1524.5 Q983.166 1524.5 980.015 1528.13 Q976.864 1531.73 976.864 1538.25 Q976.864 1544.78 980.015 1548.4 Q983.166 1552 988.863 1552 Q991.41 1552 993.892 1551.33 Q996.407 1550.63 998.889 1549.26 L998.889 1554.68 Q996.439 1555.82 993.797 1556.39 Q991.187 1556.97 988.227 1556.97 Q980.174 1556.97 975.432 1551.91 Q970.689 1546.85 970.689 1538.25 Q970.689 1529.53 975.464 1524.53 Q980.27 1519.54 988.609 1519.54 Q991.314 1519.54 993.892 1520.11 Q996.47 1520.65 998.889 1521.76 Z\" fill=\"#000000\" fill-rule=\"evenodd\" fill-opacity=\"1\" /><path clip-path=\"url(#clip240)\" d=\"M 0 0 M1004.43 1541.98 L1004.43 1520.4 L1010.28 1520.4 L1010.28 1541.75 Q1010.28 1546.81 1012.26 1549.36 Q1014.23 1551.87 1018.18 1551.87 Q1022.92 1551.87 1025.66 1548.85 Q1028.43 1545.83 1028.43 1540.61 L1028.43 1520.4 L1034.28 1520.4 L1034.28 1556.04 L1028.43 1556.04 L1028.43 1550.57 Q1026.29 1553.82 1023.46 1555.41 Q1020.66 1556.97 1016.94 1556.97 Q1010.79 1556.97 1007.61 1553.15 Q1004.43 1549.33 1004.43 1541.98 M1019.16 1519.54 L1019.16 1519.54 Z\" fill=\"#000000\" fill-rule=\"evenodd\" fill-opacity=\"1\" /><path clip-path=\"url(#clip240)\" d=\"M 0 0 M1061.08 1525.87 Q1060.1 1525.3 1058.92 1525.04 Q1057.77 1524.76 1056.37 1524.76 Q1051.41 1524.76 1048.73 1528 Q1046.09 1531.22 1046.09 1537.27 L1046.09 1556.04 L1040.2 1556.04 L1040.2 1520.4 L1046.09 1520.4 L1046.09 1525.93 Q1047.94 1522.69 1050.9 1521.13 Q1053.86 1519.54 1058.09 1519.54 Q1058.7 1519.54 1059.43 1519.63 Q1060.16 1519.7 1061.05 1519.85 L1061.08 1525.87 Z\" fill=\"#000000\" fill-rule=\"evenodd\" fill-opacity=\"1\" /><path clip-path=\"url(#clip240)\" d=\"M 0 0 M1086.74 1525.87 Q1085.75 1525.3 1084.57 1525.04 Q1083.43 1524.76 1082.03 1524.76 Q1077.06 1524.76 1074.39 1528 Q1071.74 1531.22 1071.74 1537.27 L1071.74 1556.04 L1065.86 1556.04 L1065.86 1520.4 L1071.74 1520.4 L1071.74 1525.93 Q1073.59 1522.69 1076.55 1521.13 Q1079.51 1519.54 1083.74 1519.54 Q1084.35 1519.54 1085.08 1519.63 Q1085.81 1519.7 1086.7 1519.85 L1086.74 1525.87 Z\" fill=\"#000000\" fill-rule=\"evenodd\" fill-opacity=\"1\" /><path clip-path=\"url(#clip240)\" d=\"M 0 0 M1092.88 1520.4 L1098.74 1520.4 L1098.74 1556.04 L1092.88 1556.04 L1092.88 1520.4 M1092.88 1506.52 L1098.74 1506.52 L1098.74 1513.93 L1092.88 1513.93 L1092.88 1506.52 Z\" fill=\"#000000\" fill-rule=\"evenodd\" fill-opacity=\"1\" /><path clip-path=\"url(#clip240)\" d=\"M 0 0 M1130.53 1521.76 L1130.53 1527.24 Q1128.05 1525.87 1125.54 1525.2 Q1123.05 1524.5 1120.51 1524.5 Q1114.81 1524.5 1111.66 1528.13 Q1108.51 1531.73 1108.51 1538.25 Q1108.51 1544.78 1111.66 1548.4 Q1114.81 1552 1120.51 1552 Q1123.05 1552 1125.54 1551.33 Q1128.05 1550.63 1130.53 1549.26 L1130.53 1554.68 Q1128.08 1555.82 1125.44 1556.39 Q1122.83 1556.97 1119.87 1556.97 Q1111.82 1556.97 1107.07 1551.91 Q1102.33 1546.85 1102.33 1538.25 Q1102.33 1529.53 1107.11 1524.53 Q1111.91 1519.54 1120.25 1519.54 Q1122.96 1519.54 1125.54 1520.11 Q1128.11 1520.65 1130.53 1521.76 Z\" fill=\"#000000\" fill-rule=\"evenodd\" fill-opacity=\"1\" /><path clip-path=\"url(#clip240)\" d=\"M 0 0 M1136.07 1541.98 L1136.07 1520.4 L1141.93 1520.4 L1141.93 1541.75 Q1141.93 1546.81 1143.9 1549.36 Q1145.87 1551.87 1149.82 1551.87 Q1154.56 1551.87 1157.3 1548.85 Q1160.07 1545.83 1160.07 1540.61 L1160.07 1520.4 L1165.93 1520.4 L1165.93 1556.04 L1160.07 1556.04 L1160.07 1550.57 Q1157.94 1553.82 1155.1 1555.41 Q1152.3 1556.97 1148.58 1556.97 Q1142.44 1556.97 1139.25 1553.15 Q1136.07 1549.33 1136.07 1541.98 M1150.81 1519.54 L1150.81 1519.54 Z\" fill=\"#000000\" fill-rule=\"evenodd\" fill-opacity=\"1\" /><path clip-path=\"url(#clip240)\" d=\"M 0 0 M1172.07 1506.52 L1177.92 1506.52 L1177.92 1556.04 L1172.07 1556.04 L1172.07 1506.52 Z\" fill=\"#000000\" fill-rule=\"evenodd\" fill-opacity=\"1\" /><path clip-path=\"url(#clip240)\" d=\"M 0 0 M1200.27 1538.12 Q1193.17 1538.12 1190.43 1539.75 Q1187.7 1541.37 1187.7 1545.29 Q1187.7 1548.4 1189.73 1550.25 Q1191.8 1552.07 1195.34 1552.07 Q1200.2 1552.07 1203.13 1548.63 Q1206.09 1545.16 1206.09 1539.43 L1206.09 1538.12 L1200.27 1538.12 M1211.95 1535.71 L1211.95 1556.04 L1206.09 1556.04 L1206.09 1550.63 Q1204.09 1553.88 1201.1 1555.44 Q1198.1 1556.97 1193.78 1556.97 Q1188.3 1556.97 1185.05 1553.91 Q1181.84 1550.82 1181.84 1545.67 Q1181.84 1539.65 1185.85 1536.6 Q1189.89 1533.54 1197.88 1533.54 L1206.09 1533.54 L1206.09 1532.97 Q1206.09 1528.93 1203.42 1526.73 Q1200.78 1524.5 1195.97 1524.5 Q1192.92 1524.5 1190.02 1525.23 Q1187.12 1525.97 1184.45 1527.43 L1184.45 1522.02 Q1187.66 1520.78 1190.69 1520.17 Q1193.71 1519.54 1196.58 1519.54 Q1204.31 1519.54 1208.13 1523.55 Q1211.95 1527.56 1211.95 1535.71 Z\" fill=\"#000000\" fill-rule=\"evenodd\" fill-opacity=\"1\" /><path clip-path=\"url(#clip240)\" d=\"M 0 0 M1238.75 1525.87 Q1237.76 1525.3 1236.58 1525.04 Q1235.44 1524.76 1234.04 1524.76 Q1229.07 1524.76 1226.4 1528 Q1223.76 1531.22 1223.76 1537.27 L1223.76 1556.04 L1217.87 1556.04 L1217.87 1520.4 L1223.76 1520.4 L1223.76 1525.93 Q1225.6 1522.69 1228.56 1521.13 Q1231.52 1519.54 1235.76 1519.54 Q1236.36 1519.54 1237.09 1519.63 Q1237.83 1519.7 1238.72 1519.85 L1238.75 1525.87 Z\" fill=\"#000000\" fill-rule=\"evenodd\" fill-opacity=\"1\" /><path clip-path=\"url(#clip240)\" d=\"M 0 0 M1291.27 1521.76 L1291.27 1527.24 Q1288.78 1525.87 1286.27 1525.2 Q1283.79 1524.5 1281.24 1524.5 Q1275.54 1524.5 1272.39 1528.13 Q1269.24 1531.73 1269.24 1538.25 Q1269.24 1544.78 1272.39 1548.4 Q1275.54 1552 1281.24 1552 Q1283.79 1552 1286.27 1551.33 Q1288.78 1550.63 1291.27 1549.26 L1291.27 1554.68 Q1288.82 1555.82 1286.17 1556.39 Q1283.56 1556.97 1280.6 1556.97 Q1272.55 1556.97 1267.81 1551.91 Q1263.07 1546.85 1263.07 1538.25 Q1263.07 1529.53 1267.84 1524.53 Q1272.65 1519.54 1280.99 1519.54 Q1283.69 1519.54 1286.27 1520.11 Q1288.85 1520.65 1291.27 1521.76 Z\" fill=\"#000000\" fill-rule=\"evenodd\" fill-opacity=\"1\" /><path clip-path=\"url(#clip240)\" d=\"M 0 0 M1311.22 1524.5 Q1306.51 1524.5 1303.77 1528.19 Q1301.04 1531.85 1301.04 1538.25 Q1301.04 1544.65 1303.74 1548.34 Q1306.48 1552 1311.22 1552 Q1315.9 1552 1318.64 1548.31 Q1321.38 1544.62 1321.38 1538.25 Q1321.38 1531.92 1318.64 1528.23 Q1315.9 1524.5 1311.22 1524.5 M1311.22 1519.54 Q1318.86 1519.54 1323.22 1524.5 Q1327.58 1529.47 1327.58 1538.25 Q1327.58 1547 1323.22 1552 Q1318.86 1556.97 1311.22 1556.97 Q1303.55 1556.97 1299.19 1552 Q1294.86 1547 1294.86 1538.25 Q1294.86 1529.47 1299.19 1524.5 Q1303.55 1519.54 1311.22 1519.54 Z\" fill=\"#000000\" fill-rule=\"evenodd\" fill-opacity=\"1\" /><path clip-path=\"url(#clip240)\" d=\"M 0 0 M1361.48 1527.24 Q1363.68 1523.29 1366.73 1521.41 Q1369.79 1519.54 1373.92 1519.54 Q1379.49 1519.54 1382.52 1523.45 Q1385.54 1527.33 1385.54 1534.53 L1385.54 1556.04 L1379.65 1556.04 L1379.65 1534.72 Q1379.65 1529.59 1377.84 1527.11 Q1376.03 1524.63 1372.3 1524.63 Q1367.75 1524.63 1365.11 1527.65 Q1362.47 1530.68 1362.47 1535.9 L1362.47 1556.04 L1356.58 1556.04 L1356.58 1534.72 Q1356.58 1529.56 1354.76 1527.11 Q1352.95 1524.63 1349.16 1524.63 Q1344.67 1524.63 1342.03 1527.68 Q1339.39 1530.71 1339.39 1535.9 L1339.39 1556.04 L1333.5 1556.04 L1333.5 1520.4 L1339.39 1520.4 L1339.39 1525.93 Q1341.4 1522.66 1344.2 1521.1 Q1347 1519.54 1350.85 1519.54 Q1354.73 1519.54 1357.44 1521.51 Q1360.17 1523.48 1361.48 1527.24 Z\" fill=\"#000000\" fill-rule=\"evenodd\" fill-opacity=\"1\" /><path clip-path=\"url(#clip240)\" d=\"M 0 0 M1397.35 1550.7 L1397.35 1569.6 L1391.46 1569.6 L1391.46 1520.4 L1397.35 1520.4 L1397.35 1525.81 Q1399.2 1522.62 1402 1521.1 Q1404.83 1519.54 1408.75 1519.54 Q1415.24 1519.54 1419.28 1524.69 Q1423.35 1529.85 1423.35 1538.25 Q1423.35 1546.65 1419.28 1551.81 Q1415.24 1556.97 1408.75 1556.97 Q1404.83 1556.97 1402 1555.44 Q1399.2 1553.88 1397.35 1550.7 M1417.28 1538.25 Q1417.28 1531.79 1414.6 1528.13 Q1411.96 1524.44 1407.31 1524.44 Q1402.67 1524.44 1399.99 1528.13 Q1397.35 1531.79 1397.35 1538.25 Q1397.35 1544.71 1399.99 1548.4 Q1402.67 1552.07 1407.31 1552.07 Q1411.96 1552.07 1414.6 1548.4 Q1417.28 1544.71 1417.28 1538.25 Z\" fill=\"#000000\" fill-rule=\"evenodd\" fill-opacity=\"1\" /><path clip-path=\"url(#clip240)\" d=\"M 0 0 M1429.5 1506.52 L1435.35 1506.52 L1435.35 1556.04 L1429.5 1556.04 L1429.5 1506.52 Z\" fill=\"#000000\" fill-rule=\"evenodd\" fill-opacity=\"1\" /><path clip-path=\"url(#clip240)\" d=\"M 0 0 M1471.99 1536.76 L1471.99 1539.62 L1445.06 1539.62 Q1445.44 1545.67 1448.69 1548.85 Q1451.97 1552 1457.79 1552 Q1461.17 1552 1464.32 1551.17 Q1467.5 1550.35 1470.62 1548.69 L1470.62 1554.23 Q1467.47 1555.57 1464.16 1556.27 Q1460.85 1556.97 1457.44 1556.97 Q1448.91 1556.97 1443.92 1552 Q1438.95 1547.04 1438.95 1538.57 Q1438.95 1529.82 1443.66 1524.69 Q1448.4 1519.54 1456.42 1519.54 Q1463.62 1519.54 1467.79 1524.18 Q1471.99 1528.8 1471.99 1536.76 M1466.13 1535.04 Q1466.07 1530.23 1463.43 1527.37 Q1460.82 1524.5 1456.49 1524.5 Q1451.59 1524.5 1448.63 1527.27 Q1445.7 1530.04 1445.25 1535.07 L1466.13 1535.04 Z\" fill=\"#000000\" fill-rule=\"evenodd\" fill-opacity=\"1\" /><path clip-path=\"url(#clip240)\" d=\"M 0 0 M1506.62 1520.4 L1493.73 1537.74 L1507.29 1556.04 L1500.38 1556.04 L1490 1542.04 L1479.63 1556.04 L1472.72 1556.04 L1486.57 1537.39 L1473.9 1520.4 L1480.81 1520.4 L1490.26 1533.1 L1499.71 1520.4 L1506.62 1520.4 Z\" fill=\"#000000\" fill-rule=\"evenodd\" fill-opacity=\"1\" /><path clip-path=\"url(#clip240)\" d=\"M 0 0 M1513.43 1520.4 L1519.29 1520.4 L1519.29 1556.04 L1513.43 1556.04 L1513.43 1520.4 M1513.43 1506.52 L1519.29 1506.52 L1519.29 1513.93 L1513.43 1513.93 L1513.43 1506.52 Z\" fill=\"#000000\" fill-rule=\"evenodd\" fill-opacity=\"1\" /><path clip-path=\"url(#clip240)\" d=\"M 0 0 M1531.22 1510.27 L1531.22 1520.4 L1543.28 1520.4 L1543.28 1524.95 L1531.22 1524.95 L1531.22 1544.3 Q1531.22 1548.66 1532.4 1549.9 Q1533.61 1551.14 1537.27 1551.14 L1543.28 1551.14 L1543.28 1556.04 L1537.27 1556.04 Q1530.49 1556.04 1527.91 1553.53 Q1525.33 1550.98 1525.33 1544.3 L1525.33 1524.95 L1521.04 1524.95 L1521.04 1520.4 L1525.33 1520.4 L1525.33 1510.27 L1531.22 1510.27 Z\" fill=\"#000000\" fill-rule=\"evenodd\" fill-opacity=\"1\" /><path clip-path=\"url(#clip240)\" d=\"M 0 0 M1564.26 1559.35 Q1561.78 1565.72 1559.42 1567.66 Q1557.07 1569.6 1553.12 1569.6 L1548.44 1569.6 L1548.44 1564.7 L1551.88 1564.7 Q1554.3 1564.7 1555.63 1563.56 Q1556.97 1562.41 1558.59 1558.14 L1559.64 1555.47 L1545.23 1520.4 L1551.43 1520.4 L1562.57 1548.28 L1573.71 1520.4 L1579.92 1520.4 L1564.26 1559.35 Z\" fill=\"#000000\" fill-rule=\"evenodd\" fill-opacity=\"1\" /><path clip-path=\"url(#clip240)\" d=\"M 0 0 M59.3266 884.567 L59.3266 893.829 L69.9574 896.502 L69.9574 887.177 L59.3266 884.567 M41.2162 889.341 L54.4251 892.651 L54.4251 883.357 L41.2162 880.015 L41.2162 874.923 L54.4251 878.201 L54.4251 868.27 L59.3266 868.27 L59.3266 879.442 L69.9574 882.052 L69.9574 871.931 L74.8271 871.931 L74.8271 883.294 L88.0042 886.604 L88.0042 891.696 L74.8271 888.418 L74.8271 897.744 L88.0042 901.022 L88.0042 906.146 L74.8271 902.836 L74.8271 912.862 L69.9574 912.862 L69.9574 901.659 L59.3266 898.985 L59.3266 909.234 L54.4251 909.234 L54.4251 897.744 L41.2162 894.497 L41.2162 889.341 Z\" fill=\"#000000\" fill-rule=\"evenodd\" fill-opacity=\"1\" /><path clip-path=\"url(#clip240)\" d=\"M 0 0 M53.4065 818.682 L58.9447 818.682 Q57.6716 821.164 57.035 823.838 Q56.3984 826.511 56.3984 829.376 Q56.3984 833.737 57.7352 835.933 Q59.072 838.097 61.7456 838.097 Q63.7826 838.097 64.9603 836.537 Q66.1061 834.978 67.1565 830.267 L67.6021 828.262 Q68.9389 822.024 71.3897 819.414 Q73.8086 816.772 78.1691 816.772 Q83.1344 816.772 86.0308 820.719 Q88.9272 824.634 88.9272 831.509 Q88.9272 834.373 88.3543 837.492 Q87.8132 840.58 86.6992 844.017 L80.6518 844.017 Q82.3387 840.771 83.198 837.62 Q84.0256 834.469 84.0256 831.381 Q84.0256 827.244 82.6251 825.016 Q81.1929 822.788 78.6147 822.788 Q76.2276 822.788 74.9545 824.411 Q73.6813 826.002 72.5037 831.445 L72.0262 833.482 Q70.8804 838.925 68.5251 841.344 Q66.138 843.763 62.0002 843.763 Q56.9713 843.763 54.2341 840.198 Q51.4968 836.633 51.4968 830.076 Q51.4968 826.83 51.9743 823.965 Q52.4517 821.101 53.4065 818.682 Z\" fill=\"#000000\" fill-rule=\"evenodd\" fill-opacity=\"1\" /><path clip-path=\"url(#clip240)\" d=\"M 0 0 M53.7248 784.975 L59.1993 784.975 Q57.8307 787.458 57.1623 789.972 Q56.4621 792.455 56.4621 795.001 Q56.4621 800.699 60.0905 803.85 Q63.6872 807.001 70.212 807.001 Q76.7369 807.001 80.3653 803.85 Q83.9619 800.699 83.9619 795.001 Q83.9619 792.455 83.2935 789.972 Q82.5933 787.458 81.2247 784.975 L86.6355 784.975 Q87.7814 787.426 88.3543 790.068 Q88.9272 792.678 88.9272 795.638 Q88.9272 803.69 83.8664 808.433 Q78.8057 813.175 70.212 813.175 Q61.491 813.175 56.4939 808.401 Q51.4968 803.595 51.4968 795.256 Q51.4968 792.55 52.0697 789.972 Q52.6108 787.394 53.7248 784.975 Z\" fill=\"#000000\" fill-rule=\"evenodd\" fill-opacity=\"1\" /><path clip-path=\"url(#clip240)\" d=\"M 0 0 M66.4881 749.2 L88.0042 749.2 L88.0042 755.056 L66.679 755.056 Q61.6183 755.056 59.1038 757.03 Q56.5894 759.003 56.5894 762.95 Q56.5894 767.692 59.6131 770.43 Q62.6368 773.167 67.8567 773.167 L88.0042 773.167 L88.0042 779.055 L38.479 779.055 L38.479 773.167 L57.8944 773.167 Q54.6797 771.066 53.0883 768.233 Q51.4968 765.369 51.4968 761.645 Q51.4968 755.502 55.3163 752.351 Q59.1038 749.2 66.4881 749.2 Z\" fill=\"#000000\" fill-rule=\"evenodd\" fill-opacity=\"1\" /><path clip-path=\"url(#clip240)\" d=\"M 0 0 M56.4621 729.243 Q56.4621 733.954 60.1542 736.691 Q63.8145 739.429 70.212 739.429 Q76.6095 739.429 80.3017 736.723 Q83.9619 733.986 83.9619 729.243 Q83.9619 724.565 80.2698 721.827 Q76.5777 719.09 70.212 719.09 Q63.8781 719.09 60.186 721.827 Q56.4621 724.565 56.4621 729.243 M51.4968 729.243 Q51.4968 721.605 56.4621 717.244 Q61.4273 712.884 70.212 712.884 Q78.9649 712.884 83.9619 717.244 Q88.9272 721.605 88.9272 729.243 Q88.9272 736.914 83.9619 741.275 Q78.9649 745.603 70.212 745.603 Q61.4273 745.603 56.4621 741.275 Q51.4968 736.914 51.4968 729.243 Z\" fill=\"#000000\" fill-rule=\"evenodd\" fill-opacity=\"1\" /><path clip-path=\"url(#clip240)\" d=\"M 0 0 M56.4621 692.927 Q56.4621 697.638 60.1542 700.375 Q63.8145 703.112 70.212 703.112 Q76.6095 703.112 80.3017 700.407 Q83.9619 697.67 83.9619 692.927 Q83.9619 688.248 80.2698 685.511 Q76.5777 682.774 70.212 682.774 Q63.8781 682.774 60.186 685.511 Q56.4621 688.248 56.4621 692.927 M51.4968 692.927 Q51.4968 685.288 56.4621 680.928 Q61.4273 676.567 70.212 676.567 Q78.9649 676.567 83.9619 680.928 Q88.9272 685.288 88.9272 692.927 Q88.9272 700.598 83.9619 704.958 Q78.9649 709.287 70.212 709.287 Q61.4273 709.287 56.4621 704.958 Q51.4968 700.598 51.4968 692.927 Z\" fill=\"#000000\" fill-rule=\"evenodd\" fill-opacity=\"1\" /><path clip-path=\"url(#clip240)\" d=\"M 0 0 M38.479 670.424 L38.479 664.568 L88.0042 664.568 L88.0042 670.424 L38.479 670.424 Z\" fill=\"#000000\" fill-rule=\"evenodd\" fill-opacity=\"1\" /><path clip-path=\"url(#clip240)\" d=\"M 0 0 M53.4065 635.699 L58.9447 635.699 Q57.6716 638.182 57.035 640.856 Q56.3984 643.529 56.3984 646.394 Q56.3984 650.754 57.7352 652.95 Q59.072 655.115 61.7456 655.115 Q63.7826 655.115 64.9603 653.555 Q66.1061 651.996 67.1565 647.285 L67.6021 645.28 Q68.9389 639.041 71.3897 636.431 Q73.8086 633.79 78.1691 633.79 Q83.1344 633.79 86.0308 637.736 Q88.9272 641.651 88.9272 648.526 Q88.9272 651.391 88.3543 654.51 Q87.8132 657.597 86.6992 661.035 L80.6518 661.035 Q82.3387 657.788 83.198 654.637 Q84.0256 651.486 84.0256 648.399 Q84.0256 644.261 82.6251 642.033 Q81.1929 639.805 78.6147 639.805 Q76.2276 639.805 74.9545 641.429 Q73.6813 643.02 72.5037 648.463 L72.0262 650.5 Q70.8804 655.942 68.5251 658.361 Q66.138 660.78 62.0002 660.78 Q56.9713 660.78 54.2341 657.215 Q51.4968 653.651 51.4968 647.094 Q51.4968 643.848 51.9743 640.983 Q52.4517 638.118 53.4065 635.699 Z\" fill=\"#000000\" fill-rule=\"evenodd\" fill-opacity=\"1\" /><path clip-path=\"url(#clip242)\" d=\"\n",
       "M557.003 773.326 L557.003 1423.18 L916.154 1423.18 L916.154 773.326 L557.003 773.326 L557.003 773.326  Z\n",
       "  \" fill=\"#1874cd\" fill-rule=\"evenodd\" fill-opacity=\"0.7\"/>\n",
       "<polyline clip-path=\"url(#clip242)\" style=\"stroke:#000000; stroke-width:4; stroke-opacity:0.7; fill:none\" points=\"\n",
       "  557.003,773.326 557.003,1423.18 916.154,1423.18 916.154,773.326 557.003,773.326 \n",
       "  \"/>\n",
       "<path clip-path=\"url(#clip242)\" d=\"\n",
       "M916.154 643.355 L916.154 1423.18 L1275.3 1423.18 L1275.3 643.355 L916.154 643.355 L916.154 643.355  Z\n",
       "  \" fill=\"#1874cd\" fill-rule=\"evenodd\" fill-opacity=\"0.7\"/>\n",
       "<polyline clip-path=\"url(#clip242)\" style=\"stroke:#000000; stroke-width:4; stroke-opacity:0.7; fill:none\" points=\"\n",
       "  916.154,643.355 916.154,1423.18 1275.3,1423.18 1275.3,643.355 916.154,643.355 \n",
       "  \"/>\n",
       "<path clip-path=\"url(#clip242)\" d=\"\n",
       "M1275.3 643.355 L1275.3 1423.18 L1634.45 1423.18 L1634.45 643.355 L1275.3 643.355 L1275.3 643.355  Z\n",
       "  \" fill=\"#1874cd\" fill-rule=\"evenodd\" fill-opacity=\"0.7\"/>\n",
       "<polyline clip-path=\"url(#clip242)\" style=\"stroke:#000000; stroke-width:4; stroke-opacity:0.7; fill:none\" points=\"\n",
       "  1275.3,643.355 1275.3,1423.18 1634.45,1423.18 1634.45,643.355 1275.3,643.355 \n",
       "  \"/>\n",
       "<path clip-path=\"url(#clip242)\" d=\"\n",
       "M1634.45 1163.24 L1634.45 1423.18 L1993.61 1423.18 L1993.61 1163.24 L1634.45 1163.24 L1634.45 1163.24  Z\n",
       "  \" fill=\"#1874cd\" fill-rule=\"evenodd\" fill-opacity=\"0.7\"/>\n",
       "<polyline clip-path=\"url(#clip242)\" style=\"stroke:#000000; stroke-width:4; stroke-opacity:0.7; fill:none\" points=\"\n",
       "  1634.45,1163.24 1634.45,1423.18 1993.61,1423.18 1993.61,1163.24 1634.45,1163.24 \n",
       "  \"/>\n",
       "<path clip-path=\"url(#clip242)\" d=\"\n",
       "M1993.61 1293.21 L1993.61 1423.18 L2352.76 1423.18 L2352.76 1293.21 L1993.61 1293.21 L1993.61 1293.21  Z\n",
       "  \" fill=\"#1874cd\" fill-rule=\"evenodd\" fill-opacity=\"0.7\"/>\n",
       "<polyline clip-path=\"url(#clip242)\" style=\"stroke:#000000; stroke-width:4; stroke-opacity:0.7; fill:none\" points=\"\n",
       "  1993.61,1293.21 1993.61,1423.18 2352.76,1423.18 2352.76,1293.21 1993.61,1293.21 \n",
       "  \"/>\n",
       "</svg>\n"
      ]
     },
     "execution_count": 24,
     "metadata": {},
     "output_type": "execute_result"
    }
   ],
   "source": [
    "middle_tier = Array{Curriculum,1}()\n",
    "middle_tier_cc = Array{Float64,1}()\n",
    "middle_tier_total_cc = 0\n",
    "middle_tier_avg_cc = 0\n",
    "for (key, val) in curriculum\n",
    "    if (split(key, \"/\")[1]) == \"tier_middle\"\n",
    "        name = split(split(key, \"/\")[2], \".\")[1]\n",
    "        println(\"$name => $(val.metrics[\"complexity\"][1])\")\n",
    "        push!(middle_tier, val)\n",
    "        push!(middle_tier_cc, val.metrics[\"complexity\"][1])\n",
    "        middle_tier_total_cc += val.metrics[\"complexity\"][1]\n",
    "    end\n",
    "end\n",
    "middle_tier_avg_cc = middle_tier_total_cc / length(middle_tier)\n",
    "println(\"Avg. curricular complexity = $(middle_tier_avg_cc), STD = $(stdm(middle_tier_cc, top_tier_avg_cc))\")\n",
    "metric_histogram(middle_tier, \"complexity\", nbins=5, title=\"Middle Tier\", xlabel=\"curricular complexity\", ylabel=\"# schools\", xlim=(0,300))"
   ]
  },
  {
   "cell_type": "markdown",
   "metadata": {},
   "source": [
    "Process the schools in the bottom tier, extracting their curricular complexity scores:"
   ]
  },
  {
   "cell_type": "code",
   "execution_count": 25,
   "metadata": {
    "scrolled": false
   },
   "outputs": [
    {
     "name": "stdout",
     "output_type": "stream",
     "text": [
      "University_of_Michigan-Dearborn-CS => 168.0\n",
      "University_of_Oklahoma-CS => 165.0\n",
      "Missouri_University_of_Science_and_Technology-CS => 137.0\n",
      "University_of_Missouri-CS => 176.0\n",
      "Montana_State-CS => 107.0\n",
      "North_Dakota_State-CS => 154.0\n",
      "University_of_Arkansas-Little_Rock-CS => 149.0\n",
      "University_of_Miami-CS => 143.0\n",
      "Nova_Southeastern_University-CS => 122.0\n",
      "Mississippi_State-CS => 168.0\n",
      "University_of_Nebraska-Omaha-CS => 190.0\n",
      "Boston_College-CS => 75.0\n",
      "Boise_State_University-CS => 276.0\n",
      "Texas_Tech_University-CS => 264.0\n",
      "Georgia_State-CS => 171.0\n",
      "University_of_Tulsa-CS => 147.0\n",
      "New_Mexico_Institute_of_Mining_and_Technology-CS => 272.0\n",
      "Wyoming-CS => 175.0\n",
      "University_of_Wisconsin-Milwaukee-CS => 143.0\n",
      "UNLV-CS => 214.0\n",
      "Avg. curricular complexity = 170.8, STD = 91.34814836944598\n"
     ]
    },
    {
     "data": {
      "image/svg+xml": [
       "<?xml version=\"1.0\" encoding=\"utf-8\"?>\n",
       "<svg xmlns=\"http://www.w3.org/2000/svg\" xmlns:xlink=\"http://www.w3.org/1999/xlink\" width=\"600\" height=\"400\" viewBox=\"0 0 2400 1600\">\n",
       "<defs>\n",
       "  <clipPath id=\"clip280\">\n",
       "    <rect x=\"0\" y=\"0\" width=\"2400\" height=\"1600\"/>\n",
       "  </clipPath>\n",
       "</defs>\n",
       "<path clip-path=\"url(#clip280)\" d=\"\n",
       "M0 1600 L2400 1600 L2400 0 L0 0  Z\n",
       "  \" fill=\"#ffffff\" fill-rule=\"evenodd\" fill-opacity=\"1\"/>\n",
       "<defs>\n",
       "  <clipPath id=\"clip281\">\n",
       "    <rect x=\"480\" y=\"0\" width=\"1681\" height=\"1600\"/>\n",
       "  </clipPath>\n",
       "</defs>\n",
       "<path clip-path=\"url(#clip280)\" d=\"\n",
       "M197.852 1423.18 L2352.76 1423.18 L2352.76 123.472 L197.852 123.472  Z\n",
       "  \" fill=\"#ffffff\" fill-rule=\"evenodd\" fill-opacity=\"1\"/>\n",
       "<defs>\n",
       "  <clipPath id=\"clip282\">\n",
       "    <rect x=\"197\" y=\"123\" width=\"2156\" height=\"1301\"/>\n",
       "  </clipPath>\n",
       "</defs>\n",
       "<polyline clip-path=\"url(#clip282)\" style=\"stroke:#000000; stroke-width:2; stroke-opacity:0.1; fill:none\" points=\"\n",
       "  197.852,1423.18 197.852,123.472 \n",
       "  \"/>\n",
       "<polyline clip-path=\"url(#clip282)\" style=\"stroke:#000000; stroke-width:2; stroke-opacity:0.1; fill:none\" points=\"\n",
       "  916.154,1423.18 916.154,123.472 \n",
       "  \"/>\n",
       "<polyline clip-path=\"url(#clip282)\" style=\"stroke:#000000; stroke-width:2; stroke-opacity:0.1; fill:none\" points=\"\n",
       "  1634.45,1423.18 1634.45,123.472 \n",
       "  \"/>\n",
       "<polyline clip-path=\"url(#clip282)\" style=\"stroke:#000000; stroke-width:2; stroke-opacity:0.1; fill:none\" points=\"\n",
       "  2352.76,1423.18 2352.76,123.472 \n",
       "  \"/>\n",
       "<polyline clip-path=\"url(#clip282)\" style=\"stroke:#000000; stroke-width:2; stroke-opacity:0.1; fill:none\" points=\"\n",
       "  197.852,1423.18 2352.76,1423.18 \n",
       "  \"/>\n",
       "<polyline clip-path=\"url(#clip282)\" style=\"stroke:#000000; stroke-width:2; stroke-opacity:0.1; fill:none\" points=\"\n",
       "  197.852,1163.24 2352.76,1163.24 \n",
       "  \"/>\n",
       "<polyline clip-path=\"url(#clip282)\" style=\"stroke:#000000; stroke-width:2; stroke-opacity:0.1; fill:none\" points=\"\n",
       "  197.852,903.297 2352.76,903.297 \n",
       "  \"/>\n",
       "<polyline clip-path=\"url(#clip282)\" style=\"stroke:#000000; stroke-width:2; stroke-opacity:0.1; fill:none\" points=\"\n",
       "  197.852,643.355 2352.76,643.355 \n",
       "  \"/>\n",
       "<polyline clip-path=\"url(#clip282)\" style=\"stroke:#000000; stroke-width:2; stroke-opacity:0.1; fill:none\" points=\"\n",
       "  197.852,383.414 2352.76,383.414 \n",
       "  \"/>\n",
       "<polyline clip-path=\"url(#clip282)\" style=\"stroke:#000000; stroke-width:2; stroke-opacity:0.1; fill:none\" points=\"\n",
       "  197.852,123.472 2352.76,123.472 \n",
       "  \"/>\n",
       "<polyline clip-path=\"url(#clip280)\" style=\"stroke:#000000; stroke-width:4; stroke-opacity:1; fill:none\" points=\"\n",
       "  197.852,1423.18 2352.76,1423.18 \n",
       "  \"/>\n",
       "<polyline clip-path=\"url(#clip280)\" style=\"stroke:#000000; stroke-width:4; stroke-opacity:1; fill:none\" points=\"\n",
       "  197.852,1423.18 197.852,123.472 \n",
       "  \"/>\n",
       "<polyline clip-path=\"url(#clip280)\" style=\"stroke:#000000; stroke-width:4; stroke-opacity:1; fill:none\" points=\"\n",
       "  197.852,1423.18 197.852,1407.58 \n",
       "  \"/>\n",
       "<polyline clip-path=\"url(#clip280)\" style=\"stroke:#000000; stroke-width:4; stroke-opacity:1; fill:none\" points=\"\n",
       "  916.154,1423.18 916.154,1407.58 \n",
       "  \"/>\n",
       "<polyline clip-path=\"url(#clip280)\" style=\"stroke:#000000; stroke-width:4; stroke-opacity:1; fill:none\" points=\"\n",
       "  1634.45,1423.18 1634.45,1407.58 \n",
       "  \"/>\n",
       "<polyline clip-path=\"url(#clip280)\" style=\"stroke:#000000; stroke-width:4; stroke-opacity:1; fill:none\" points=\"\n",
       "  2352.76,1423.18 2352.76,1407.58 \n",
       "  \"/>\n",
       "<polyline clip-path=\"url(#clip280)\" style=\"stroke:#000000; stroke-width:4; stroke-opacity:1; fill:none\" points=\"\n",
       "  197.852,1423.18 223.711,1423.18 \n",
       "  \"/>\n",
       "<polyline clip-path=\"url(#clip280)\" style=\"stroke:#000000; stroke-width:4; stroke-opacity:1; fill:none\" points=\"\n",
       "  197.852,1163.24 223.711,1163.24 \n",
       "  \"/>\n",
       "<polyline clip-path=\"url(#clip280)\" style=\"stroke:#000000; stroke-width:4; stroke-opacity:1; fill:none\" points=\"\n",
       "  197.852,903.297 223.711,903.297 \n",
       "  \"/>\n",
       "<polyline clip-path=\"url(#clip280)\" style=\"stroke:#000000; stroke-width:4; stroke-opacity:1; fill:none\" points=\"\n",
       "  197.852,643.355 223.711,643.355 \n",
       "  \"/>\n",
       "<polyline clip-path=\"url(#clip280)\" style=\"stroke:#000000; stroke-width:4; stroke-opacity:1; fill:none\" points=\"\n",
       "  197.852,383.414 223.711,383.414 \n",
       "  \"/>\n",
       "<polyline clip-path=\"url(#clip280)\" style=\"stroke:#000000; stroke-width:4; stroke-opacity:1; fill:none\" points=\"\n",
       "  197.852,123.472 223.711,123.472 \n",
       "  \"/>\n",
       "<path clip-path=\"url(#clip280)\" d=\"M 0 0 M197.852 1445.17 Q194.241 1445.17 192.413 1448.74 Q190.607 1452.28 190.607 1459.41 Q190.607 1466.51 192.413 1470.08 Q194.241 1473.62 197.852 1473.62 Q201.487 1473.62 203.292 1470.08 Q205.121 1466.51 205.121 1459.41 Q205.121 1452.28 203.292 1448.74 Q201.487 1445.17 197.852 1445.17 M197.852 1441.47 Q203.663 1441.47 206.718 1446.07 Q209.797 1450.66 209.797 1459.41 Q209.797 1468.13 206.718 1472.74 Q203.663 1477.32 197.852 1477.32 Q192.042 1477.32 188.964 1472.74 Q185.908 1468.13 185.908 1459.41 Q185.908 1450.66 188.964 1446.07 Q192.042 1441.47 197.852 1441.47 Z\" fill=\"#000000\" fill-rule=\"evenodd\" fill-opacity=\"1\" /><path clip-path=\"url(#clip280)\" d=\"M 0 0 M879.522 1472.72 L887.161 1472.72 L887.161 1446.35 L878.851 1448.02 L878.851 1443.76 L887.114 1442.09 L891.79 1442.09 L891.79 1472.72 L899.429 1472.72 L899.429 1476.65 L879.522 1476.65 L879.522 1472.72 Z\" fill=\"#000000\" fill-rule=\"evenodd\" fill-opacity=\"1\" /><path clip-path=\"url(#clip280)\" d=\"M 0 0 M914.499 1445.17 Q910.887 1445.17 909.059 1448.74 Q907.253 1452.28 907.253 1459.41 Q907.253 1466.51 909.059 1470.08 Q910.887 1473.62 914.499 1473.62 Q918.133 1473.62 919.938 1470.08 Q921.767 1466.51 921.767 1459.41 Q921.767 1452.28 919.938 1448.74 Q918.133 1445.17 914.499 1445.17 M914.499 1441.47 Q920.309 1441.47 923.364 1446.07 Q926.443 1450.66 926.443 1459.41 Q926.443 1468.13 923.364 1472.74 Q920.309 1477.32 914.499 1477.32 Q908.688 1477.32 905.61 1472.74 Q902.554 1468.13 902.554 1459.41 Q902.554 1450.66 905.61 1446.07 Q908.688 1441.47 914.499 1441.47 Z\" fill=\"#000000\" fill-rule=\"evenodd\" fill-opacity=\"1\" /><path clip-path=\"url(#clip280)\" d=\"M 0 0 M941.512 1445.17 Q937.901 1445.17 936.073 1448.74 Q934.267 1452.28 934.267 1459.41 Q934.267 1466.51 936.073 1470.08 Q937.901 1473.62 941.512 1473.62 Q945.147 1473.62 946.952 1470.08 Q948.781 1466.51 948.781 1459.41 Q948.781 1452.28 946.952 1448.74 Q945.147 1445.17 941.512 1445.17 M941.512 1441.47 Q947.322 1441.47 950.378 1446.07 Q953.457 1450.66 953.457 1459.41 Q953.457 1468.13 950.378 1472.74 Q947.322 1477.32 941.512 1477.32 Q935.702 1477.32 932.623 1472.74 Q929.568 1468.13 929.568 1459.41 Q929.568 1450.66 932.623 1446.07 Q935.702 1441.47 941.512 1441.47 Z\" fill=\"#000000\" fill-rule=\"evenodd\" fill-opacity=\"1\" /><path clip-path=\"url(#clip280)\" d=\"M 0 0 M1602.09 1472.72 L1618.41 1472.72 L1618.41 1476.65 L1596.47 1476.65 L1596.47 1472.72 Q1599.13 1469.96 1603.71 1465.33 Q1608.32 1460.68 1609.5 1459.34 Q1611.75 1456.81 1612.63 1455.08 Q1613.53 1453.32 1613.53 1451.63 Q1613.53 1448.87 1611.58 1447.14 Q1609.66 1445.4 1606.56 1445.4 Q1604.36 1445.4 1601.91 1446.17 Q1599.48 1446.93 1596.7 1448.48 L1596.7 1443.76 Q1599.52 1442.62 1601.98 1442.05 Q1604.43 1441.47 1606.47 1441.47 Q1611.84 1441.47 1615.03 1444.15 Q1618.23 1446.84 1618.23 1451.33 Q1618.23 1453.46 1617.42 1455.38 Q1616.63 1457.28 1614.52 1459.87 Q1613.95 1460.54 1610.84 1463.76 Q1607.74 1466.95 1602.09 1472.72 Z\" fill=\"#000000\" fill-rule=\"evenodd\" fill-opacity=\"1\" /><path clip-path=\"url(#clip280)\" d=\"M 0 0 M1633.48 1445.17 Q1629.87 1445.17 1628.04 1448.74 Q1626.24 1452.28 1626.24 1459.41 Q1626.24 1466.51 1628.04 1470.08 Q1629.87 1473.62 1633.48 1473.62 Q1637.12 1473.62 1638.92 1470.08 Q1640.75 1466.51 1640.75 1459.41 Q1640.75 1452.28 1638.92 1448.74 Q1637.12 1445.17 1633.48 1445.17 M1633.48 1441.47 Q1639.29 1441.47 1642.35 1446.07 Q1645.43 1450.66 1645.43 1459.41 Q1645.43 1468.13 1642.35 1472.74 Q1639.29 1477.32 1633.48 1477.32 Q1627.67 1477.32 1624.59 1472.74 Q1621.54 1468.13 1621.54 1459.41 Q1621.54 1450.66 1624.59 1446.07 Q1627.67 1441.47 1633.48 1441.47 Z\" fill=\"#000000\" fill-rule=\"evenodd\" fill-opacity=\"1\" /><path clip-path=\"url(#clip280)\" d=\"M 0 0 M1660.5 1445.17 Q1656.89 1445.17 1655.06 1448.74 Q1653.25 1452.28 1653.25 1459.41 Q1653.25 1466.51 1655.06 1470.08 Q1656.89 1473.62 1660.5 1473.62 Q1664.13 1473.62 1665.94 1470.08 Q1667.76 1466.51 1667.76 1459.41 Q1667.76 1452.28 1665.94 1448.74 Q1664.13 1445.17 1660.5 1445.17 M1660.5 1441.47 Q1666.31 1441.47 1669.36 1446.07 Q1672.44 1450.66 1672.44 1459.41 Q1672.44 1468.13 1669.36 1472.74 Q1666.31 1477.32 1660.5 1477.32 Q1654.69 1477.32 1651.61 1472.74 Q1648.55 1468.13 1648.55 1459.41 Q1648.55 1450.66 1651.61 1446.07 Q1654.69 1441.47 1660.5 1441.47 Z\" fill=\"#000000\" fill-rule=\"evenodd\" fill-opacity=\"1\" /><path clip-path=\"url(#clip280)\" d=\"M 0 0 M2329.99 1458.02 Q2333.35 1458.74 2335.22 1461 Q2337.12 1463.27 2337.12 1466.61 Q2337.12 1471.72 2333.6 1474.52 Q2330.08 1477.32 2323.6 1477.32 Q2321.43 1477.32 2319.11 1476.88 Q2316.82 1476.47 2314.36 1475.61 L2314.36 1471.1 Q2316.31 1472.23 2318.62 1472.81 Q2320.94 1473.39 2323.46 1473.39 Q2327.86 1473.39 2330.15 1471.65 Q2332.47 1469.92 2332.47 1466.61 Q2332.47 1463.55 2330.31 1461.84 Q2328.18 1460.1 2324.36 1460.1 L2320.34 1460.1 L2320.34 1456.26 L2324.55 1456.26 Q2328 1456.26 2329.83 1454.89 Q2331.66 1453.5 2331.66 1450.91 Q2331.66 1448.25 2329.76 1446.84 Q2327.88 1445.4 2324.36 1445.4 Q2322.44 1445.4 2320.24 1445.82 Q2318.05 1446.24 2315.41 1447.11 L2315.41 1442.95 Q2318.07 1442.21 2320.38 1441.84 Q2322.72 1441.47 2324.78 1441.47 Q2330.11 1441.47 2333.21 1443.9 Q2336.31 1446.3 2336.31 1450.43 Q2336.31 1453.3 2334.67 1455.29 Q2333.02 1457.25 2329.99 1458.02 Z\" fill=\"#000000\" fill-rule=\"evenodd\" fill-opacity=\"1\" /><path clip-path=\"url(#clip280)\" d=\"M 0 0 M2352.19 1445.17 Q2348.58 1445.17 2346.75 1448.74 Q2344.94 1452.28 2344.94 1459.41 Q2344.94 1466.51 2346.75 1470.08 Q2348.58 1473.62 2352.19 1473.62 Q2355.82 1473.62 2357.63 1470.08 Q2359.46 1466.51 2359.46 1459.41 Q2359.46 1452.28 2357.63 1448.74 Q2355.82 1445.17 2352.19 1445.17 M2352.19 1441.47 Q2358 1441.47 2361.05 1446.07 Q2364.13 1450.66 2364.13 1459.41 Q2364.13 1468.13 2361.05 1472.74 Q2358 1477.32 2352.19 1477.32 Q2346.38 1477.32 2343.3 1472.74 Q2340.24 1468.13 2340.24 1459.41 Q2340.24 1450.66 2343.3 1446.07 Q2346.38 1441.47 2352.19 1441.47 Z\" fill=\"#000000\" fill-rule=\"evenodd\" fill-opacity=\"1\" /><path clip-path=\"url(#clip280)\" d=\"M 0 0 M2379.2 1445.17 Q2375.59 1445.17 2373.76 1448.74 Q2371.96 1452.28 2371.96 1459.41 Q2371.96 1466.51 2373.76 1470.08 Q2375.59 1473.62 2379.2 1473.62 Q2382.84 1473.62 2384.64 1470.08 Q2386.47 1466.51 2386.47 1459.41 Q2386.47 1452.28 2384.64 1448.74 Q2382.84 1445.17 2379.2 1445.17 M2379.2 1441.47 Q2385.01 1441.47 2388.07 1446.07 Q2391.15 1450.66 2391.15 1459.41 Q2391.15 1468.13 2388.07 1472.74 Q2385.01 1477.32 2379.2 1477.32 Q2373.39 1477.32 2370.31 1472.74 Q2367.26 1468.13 2367.26 1459.41 Q2367.26 1450.66 2370.31 1446.07 Q2373.39 1441.47 2379.2 1441.47 Z\" fill=\"#000000\" fill-rule=\"evenodd\" fill-opacity=\"1\" /><path clip-path=\"url(#clip280)\" d=\"M 0 0 M161.908 1408.98 Q158.297 1408.98 156.468 1412.54 Q154.663 1416.08 154.663 1423.21 Q154.663 1430.32 156.468 1433.89 Q158.297 1437.43 161.908 1437.43 Q165.542 1437.43 167.348 1433.89 Q169.177 1430.32 169.177 1423.21 Q169.177 1416.08 167.348 1412.54 Q165.542 1408.98 161.908 1408.98 M161.908 1405.27 Q167.718 1405.27 170.774 1409.88 Q173.852 1414.46 173.852 1423.21 Q173.852 1431.94 170.774 1436.55 Q167.718 1441.13 161.908 1441.13 Q156.098 1441.13 153.019 1436.55 Q149.964 1431.94 149.964 1423.21 Q149.964 1414.46 153.019 1409.88 Q156.098 1405.27 161.908 1405.27 Z\" fill=\"#000000\" fill-rule=\"evenodd\" fill-opacity=\"1\" /><path clip-path=\"url(#clip280)\" d=\"M 0 0 M157.533 1176.58 L173.852 1176.58 L173.852 1180.52 L151.908 1180.52 L151.908 1176.58 Q154.57 1173.83 159.153 1169.2 Q163.76 1164.55 164.941 1163.2 Q167.186 1160.68 168.065 1158.94 Q168.968 1157.19 168.968 1155.5 Q168.968 1152.74 167.024 1151 Q165.103 1149.27 162.001 1149.27 Q159.802 1149.27 157.348 1150.03 Q154.917 1150.8 152.14 1152.35 L152.14 1147.62 Q154.964 1146.49 157.417 1145.91 Q159.871 1145.33 161.908 1145.33 Q167.278 1145.33 170.473 1148.02 Q173.667 1150.7 173.667 1155.19 Q173.667 1157.32 172.857 1159.25 Q172.07 1161.14 169.964 1163.74 Q169.385 1164.41 166.283 1167.62 Q163.181 1170.82 157.533 1176.58 Z\" fill=\"#000000\" fill-rule=\"evenodd\" fill-opacity=\"1\" /><path clip-path=\"url(#clip280)\" d=\"M 0 0 M164.269 890.091 L152.464 908.54 L164.269 908.54 L164.269 890.091 M163.042 886.017 L168.922 886.017 L168.922 908.54 L173.852 908.54 L173.852 912.429 L168.922 912.429 L168.922 920.577 L164.269 920.577 L164.269 912.429 L148.667 912.429 L148.667 907.915 L163.042 886.017 Z\" fill=\"#000000\" fill-rule=\"evenodd\" fill-opacity=\"1\" /><path clip-path=\"url(#clip280)\" d=\"M 0 0 M162.325 641.492 Q159.177 641.492 157.325 643.645 Q155.496 645.797 155.496 649.547 Q155.496 653.274 157.325 655.45 Q159.177 657.603 162.325 657.603 Q165.473 657.603 167.302 655.45 Q169.153 653.274 169.153 649.547 Q169.153 645.797 167.302 643.645 Q165.473 641.492 162.325 641.492 M171.607 626.839 L171.607 631.098 Q169.848 630.265 168.042 629.825 Q166.26 629.385 164.501 629.385 Q159.871 629.385 157.417 632.51 Q154.987 635.635 154.64 641.955 Q156.005 639.941 158.066 638.876 Q160.126 637.788 162.603 637.788 Q167.811 637.788 170.82 640.959 Q173.852 644.108 173.852 649.547 Q173.852 654.871 170.704 658.089 Q167.556 661.307 162.325 661.307 Q156.329 661.307 153.158 656.723 Q149.987 652.117 149.987 643.39 Q149.987 635.196 153.876 630.334 Q157.765 625.45 164.316 625.45 Q166.075 625.45 167.857 625.797 Q169.663 626.145 171.607 626.839 Z\" fill=\"#000000\" fill-rule=\"evenodd\" fill-opacity=\"1\" /><path clip-path=\"url(#clip280)\" d=\"M 0 0 M162.001 384.282 Q158.667 384.282 156.746 386.064 Q154.848 387.847 154.848 390.971 Q154.848 394.096 156.746 395.879 Q158.667 397.661 162.001 397.661 Q165.334 397.661 167.255 395.879 Q169.177 394.073 169.177 390.971 Q169.177 387.847 167.255 386.064 Q165.357 384.282 162.001 384.282 M157.325 382.291 Q154.316 381.55 152.626 379.49 Q150.959 377.43 150.959 374.467 Q150.959 370.323 153.899 367.916 Q156.862 365.509 162.001 365.509 Q167.163 365.509 170.103 367.916 Q173.042 370.323 173.042 374.467 Q173.042 377.43 171.353 379.49 Q169.686 381.55 166.7 382.291 Q170.079 383.078 171.954 385.37 Q173.852 387.661 173.852 390.971 Q173.852 395.995 170.774 398.68 Q167.718 401.365 162.001 401.365 Q156.283 401.365 153.204 398.68 Q150.149 395.995 150.149 390.971 Q150.149 387.661 152.047 385.37 Q153.945 383.078 157.325 382.291 M155.612 374.907 Q155.612 377.592 157.279 379.097 Q158.968 380.601 162.001 380.601 Q165.01 380.601 166.7 379.097 Q168.413 377.592 168.413 374.907 Q168.413 372.222 166.7 370.717 Q165.01 369.212 162.001 369.212 Q158.968 369.212 157.279 370.717 Q155.612 372.222 155.612 374.907 Z\" fill=\"#000000\" fill-rule=\"evenodd\" fill-opacity=\"1\" /><path clip-path=\"url(#clip280)\" d=\"M 0 0 M126.931 136.817 L134.57 136.817 L134.57 110.451 L126.26 112.118 L126.26 107.859 L134.524 106.192 L139.2 106.192 L139.2 136.817 L146.839 136.817 L146.839 140.752 L126.931 140.752 L126.931 136.817 Z\" fill=\"#000000\" fill-rule=\"evenodd\" fill-opacity=\"1\" /><path clip-path=\"url(#clip280)\" d=\"M 0 0 M161.908 109.271 Q158.297 109.271 156.468 112.836 Q154.663 116.377 154.663 123.507 Q154.663 130.613 156.468 134.178 Q158.297 137.72 161.908 137.72 Q165.542 137.72 167.348 134.178 Q169.177 130.613 169.177 123.507 Q169.177 116.377 167.348 112.836 Q165.542 109.271 161.908 109.271 M161.908 105.567 Q167.718 105.567 170.774 110.174 Q173.852 114.757 173.852 123.507 Q173.852 132.234 170.774 136.84 Q167.718 141.423 161.908 141.423 Q156.098 141.423 153.019 136.84 Q149.964 132.234 149.964 123.507 Q149.964 114.757 153.019 110.174 Q156.098 105.567 161.908 105.567 Z\" fill=\"#000000\" fill-rule=\"evenodd\" fill-opacity=\"1\" /><path clip-path=\"url(#clip280)\" d=\"M 0 0 M1063.02 43.6931 L1063.02 65.8515 L1076.14 65.8515 Q1082.74 65.8515 1085.9 63.1374 Q1089.1 60.3828 1089.1 54.752 Q1089.1 49.0808 1085.9 46.4072 Q1082.74 43.6931 1076.14 43.6931 L1063.02 43.6931 M1063.02 18.8205 L1063.02 37.0496 L1075.13 37.0496 Q1081.12 37.0496 1084.04 34.8216 Q1087 32.5531 1087 27.935 Q1087 23.3575 1084.04 21.089 Q1081.12 18.8205 1075.13 18.8205 L1063.02 18.8205 M1054.83 12.096 L1075.74 12.096 Q1085.09 12.096 1090.16 15.9849 Q1095.22 19.8737 1095.22 27.0438 Q1095.22 32.5936 1092.63 35.8748 Q1090.04 39.156 1085.01 39.9662 Q1091.05 41.2625 1094.37 45.3944 Q1097.73 49.4858 1097.73 55.6432 Q1097.73 63.745 1092.22 68.1605 Q1086.71 72.576 1076.55 72.576 L1054.83 72.576 L1054.83 12.096 Z\" fill=\"#000000\" fill-rule=\"evenodd\" fill-opacity=\"1\" /><path clip-path=\"url(#clip280)\" d=\"M 0 0 M1123.13 32.4315 Q1117.14 32.4315 1113.65 37.1306 Q1110.17 41.7891 1110.17 49.9314 Q1110.17 58.0738 1113.61 62.7728 Q1117.1 67.4314 1123.13 67.4314 Q1129.09 67.4314 1132.57 62.7323 Q1136.05 58.0333 1136.05 49.9314 Q1136.05 41.8701 1132.57 37.1711 Q1129.09 32.4315 1123.13 32.4315 M1123.13 26.1121 Q1132.85 26.1121 1138.4 32.4315 Q1143.95 38.7509 1143.95 49.9314 Q1143.95 61.0714 1138.4 67.4314 Q1132.85 73.7508 1123.13 73.7508 Q1113.37 73.7508 1107.82 67.4314 Q1102.31 61.0714 1102.31 49.9314 Q1102.31 38.7509 1107.82 32.4315 Q1113.37 26.1121 1123.13 26.1121 Z\" fill=\"#000000\" fill-rule=\"evenodd\" fill-opacity=\"1\" /><path clip-path=\"url(#clip280)\" d=\"M 0 0 M1159.14 14.324 L1159.14 27.2059 L1174.5 27.2059 L1174.5 32.9987 L1159.14 32.9987 L1159.14 57.6282 Q1159.14 63.1779 1160.64 64.7578 Q1162.18 66.3376 1166.84 66.3376 L1174.5 66.3376 L1174.5 72.576 L1166.84 72.576 Q1158.21 72.576 1154.93 69.3758 Q1151.65 66.1351 1151.65 57.6282 L1151.65 32.9987 L1146.18 32.9987 L1146.18 27.2059 L1151.65 27.2059 L1151.65 14.324 L1159.14 14.324 Z\" fill=\"#000000\" fill-rule=\"evenodd\" fill-opacity=\"1\" /><path clip-path=\"url(#clip280)\" d=\"M 0 0 M1189.69 14.324 L1189.69 27.2059 L1205.04 27.2059 L1205.04 32.9987 L1189.69 32.9987 L1189.69 57.6282 Q1189.69 63.1779 1191.19 64.7578 Q1192.73 66.3376 1197.39 66.3376 L1205.04 66.3376 L1205.04 72.576 L1197.39 72.576 Q1188.76 72.576 1185.48 69.3758 Q1182.19 66.1351 1182.19 57.6282 L1182.19 32.9987 L1176.73 32.9987 L1176.73 27.2059 L1182.19 27.2059 L1182.19 14.324 L1189.69 14.324 Z\" fill=\"#000000\" fill-rule=\"evenodd\" fill-opacity=\"1\" /><path clip-path=\"url(#clip280)\" d=\"M 0 0 M1230.44 32.4315 Q1224.45 32.4315 1220.96 37.1306 Q1217.48 41.7891 1217.48 49.9314 Q1217.48 58.0738 1220.92 62.7728 Q1224.4 67.4314 1230.44 67.4314 Q1236.4 67.4314 1239.88 62.7323 Q1243.36 58.0333 1243.36 49.9314 Q1243.36 41.8701 1239.88 37.1711 Q1236.4 32.4315 1230.44 32.4315 M1230.44 26.1121 Q1240.16 26.1121 1245.71 32.4315 Q1251.26 38.7509 1251.26 49.9314 Q1251.26 61.0714 1245.71 67.4314 Q1240.16 73.7508 1230.44 73.7508 Q1220.68 73.7508 1215.13 67.4314 Q1209.62 61.0714 1209.62 49.9314 Q1209.62 38.7509 1215.13 32.4315 Q1220.68 26.1121 1230.44 26.1121 Z\" fill=\"#000000\" fill-rule=\"evenodd\" fill-opacity=\"1\" /><path clip-path=\"url(#clip280)\" d=\"M 0 0 M1294.4 35.9153 Q1297.2 30.8922 1301.09 28.5022 Q1304.98 26.1121 1310.24 26.1121 Q1317.33 26.1121 1321.18 31.0947 Q1325.03 36.0368 1325.03 45.1919 L1325.03 72.576 L1317.53 72.576 L1317.53 45.4349 Q1317.53 38.913 1315.23 35.7533 Q1312.92 32.5936 1308.18 32.5936 Q1302.38 32.5936 1299.02 36.4419 Q1295.66 40.2903 1295.66 46.9338 L1295.66 72.576 L1288.17 72.576 L1288.17 45.4349 Q1288.17 38.8725 1285.86 35.7533 Q1283.55 32.5936 1278.73 32.5936 Q1273.02 32.5936 1269.65 36.4824 Q1266.29 40.3308 1266.29 46.9338 L1266.29 72.576 L1258.8 72.576 L1258.8 27.2059 L1266.29 27.2059 L1266.29 34.2544 Q1268.84 30.082 1272.41 28.0971 Q1275.97 26.1121 1280.87 26.1121 Q1285.82 26.1121 1289.26 28.6237 Q1292.74 31.1352 1294.4 35.9153 Z\" fill=\"#000000\" fill-rule=\"evenodd\" fill-opacity=\"1\" /><path clip-path=\"url(#clip280)\" d=\"M 0 0 M1351.16 12.096 L1402.32 12.096 L1402.32 18.9825 L1380.85 18.9825 L1380.85 72.576 L1372.63 72.576 L1372.63 18.9825 L1351.16 18.9825 L1351.16 12.096 Z\" fill=\"#000000\" fill-rule=\"evenodd\" fill-opacity=\"1\" /><path clip-path=\"url(#clip280)\" d=\"M 0 0 M1407.59 27.2059 L1415.04 27.2059 L1415.04 72.576 L1407.59 72.576 L1407.59 27.2059 M1407.59 9.54393 L1415.04 9.54393 L1415.04 18.9825 L1407.59 18.9825 L1407.59 9.54393 Z\" fill=\"#000000\" fill-rule=\"evenodd\" fill-opacity=\"1\" /><path clip-path=\"url(#clip280)\" d=\"M 0 0 M1461.67 48.0275 L1461.67 51.6733 L1427.4 51.6733 Q1427.88 59.3701 1432.01 63.421 Q1436.19 67.4314 1443.6 67.4314 Q1447.89 67.4314 1451.9 66.3781 Q1455.95 65.3249 1459.92 63.2184 L1459.92 70.267 Q1455.91 71.9684 1451.7 72.8596 Q1447.49 73.7508 1443.15 73.7508 Q1432.3 73.7508 1425.94 67.4314 Q1419.62 61.1119 1419.62 50.3365 Q1419.62 39.1965 1425.61 32.6746 Q1431.65 26.1121 1441.86 26.1121 Q1451.01 26.1121 1456.32 32.0264 Q1461.67 37.9003 1461.67 48.0275 M1454.21 45.84 Q1454.13 39.7232 1450.77 36.0774 Q1447.45 32.4315 1441.94 32.4315 Q1435.7 32.4315 1431.93 35.9558 Q1428.21 39.4801 1427.64 45.8805 L1454.21 45.84 Z\" fill=\"#000000\" fill-rule=\"evenodd\" fill-opacity=\"1\" /><path clip-path=\"url(#clip280)\" d=\"M 0 0 M1495.77 34.1734 Q1494.52 33.4443 1493.02 33.1202 Q1491.56 32.7556 1489.78 32.7556 Q1483.46 32.7556 1480.06 36.8875 Q1476.69 40.9789 1476.69 48.6757 L1476.69 72.576 L1469.2 72.576 L1469.2 27.2059 L1476.69 27.2059 L1476.69 34.2544 Q1479.04 30.1225 1482.81 28.1376 Q1486.58 26.1121 1491.97 26.1121 Q1492.74 26.1121 1493.67 26.2337 Q1494.6 26.3147 1495.73 26.5172 L1495.77 34.1734 Z\" fill=\"#000000\" fill-rule=\"evenodd\" fill-opacity=\"1\" /><path clip-path=\"url(#clip280)\" d=\"M 0 0 M998.889 1521.76 L998.889 1527.24 Q996.407 1525.87 993.892 1525.2 Q991.41 1524.5 988.863 1524.5 Q983.166 1524.5 980.015 1528.13 Q976.864 1531.73 976.864 1538.25 Q976.864 1544.78 980.015 1548.4 Q983.166 1552 988.863 1552 Q991.41 1552 993.892 1551.33 Q996.407 1550.63 998.889 1549.26 L998.889 1554.68 Q996.439 1555.82 993.797 1556.39 Q991.187 1556.97 988.227 1556.97 Q980.174 1556.97 975.432 1551.91 Q970.689 1546.85 970.689 1538.25 Q970.689 1529.53 975.464 1524.53 Q980.27 1519.54 988.609 1519.54 Q991.314 1519.54 993.892 1520.11 Q996.47 1520.65 998.889 1521.76 Z\" fill=\"#000000\" fill-rule=\"evenodd\" fill-opacity=\"1\" /><path clip-path=\"url(#clip280)\" d=\"M 0 0 M1004.43 1541.98 L1004.43 1520.4 L1010.28 1520.4 L1010.28 1541.75 Q1010.28 1546.81 1012.26 1549.36 Q1014.23 1551.87 1018.18 1551.87 Q1022.92 1551.87 1025.66 1548.85 Q1028.43 1545.83 1028.43 1540.61 L1028.43 1520.4 L1034.28 1520.4 L1034.28 1556.04 L1028.43 1556.04 L1028.43 1550.57 Q1026.29 1553.82 1023.46 1555.41 Q1020.66 1556.97 1016.94 1556.97 Q1010.79 1556.97 1007.61 1553.15 Q1004.43 1549.33 1004.43 1541.98 M1019.16 1519.54 L1019.16 1519.54 Z\" fill=\"#000000\" fill-rule=\"evenodd\" fill-opacity=\"1\" /><path clip-path=\"url(#clip280)\" d=\"M 0 0 M1061.08 1525.87 Q1060.1 1525.3 1058.92 1525.04 Q1057.77 1524.76 1056.37 1524.76 Q1051.41 1524.76 1048.73 1528 Q1046.09 1531.22 1046.09 1537.27 L1046.09 1556.04 L1040.2 1556.04 L1040.2 1520.4 L1046.09 1520.4 L1046.09 1525.93 Q1047.94 1522.69 1050.9 1521.13 Q1053.86 1519.54 1058.09 1519.54 Q1058.7 1519.54 1059.43 1519.63 Q1060.16 1519.7 1061.05 1519.85 L1061.08 1525.87 Z\" fill=\"#000000\" fill-rule=\"evenodd\" fill-opacity=\"1\" /><path clip-path=\"url(#clip280)\" d=\"M 0 0 M1086.74 1525.87 Q1085.75 1525.3 1084.57 1525.04 Q1083.43 1524.76 1082.03 1524.76 Q1077.06 1524.76 1074.39 1528 Q1071.74 1531.22 1071.74 1537.27 L1071.74 1556.04 L1065.86 1556.04 L1065.86 1520.4 L1071.74 1520.4 L1071.74 1525.93 Q1073.59 1522.69 1076.55 1521.13 Q1079.51 1519.54 1083.74 1519.54 Q1084.35 1519.54 1085.08 1519.63 Q1085.81 1519.7 1086.7 1519.85 L1086.74 1525.87 Z\" fill=\"#000000\" fill-rule=\"evenodd\" fill-opacity=\"1\" /><path clip-path=\"url(#clip280)\" d=\"M 0 0 M1092.88 1520.4 L1098.74 1520.4 L1098.74 1556.04 L1092.88 1556.04 L1092.88 1520.4 M1092.88 1506.52 L1098.74 1506.52 L1098.74 1513.93 L1092.88 1513.93 L1092.88 1506.52 Z\" fill=\"#000000\" fill-rule=\"evenodd\" fill-opacity=\"1\" /><path clip-path=\"url(#clip280)\" d=\"M 0 0 M1130.53 1521.76 L1130.53 1527.24 Q1128.05 1525.87 1125.54 1525.2 Q1123.05 1524.5 1120.51 1524.5 Q1114.81 1524.5 1111.66 1528.13 Q1108.51 1531.73 1108.51 1538.25 Q1108.51 1544.78 1111.66 1548.4 Q1114.81 1552 1120.51 1552 Q1123.05 1552 1125.54 1551.33 Q1128.05 1550.63 1130.53 1549.26 L1130.53 1554.68 Q1128.08 1555.82 1125.44 1556.39 Q1122.83 1556.97 1119.87 1556.97 Q1111.82 1556.97 1107.07 1551.91 Q1102.33 1546.85 1102.33 1538.25 Q1102.33 1529.53 1107.11 1524.53 Q1111.91 1519.54 1120.25 1519.54 Q1122.96 1519.54 1125.54 1520.11 Q1128.11 1520.65 1130.53 1521.76 Z\" fill=\"#000000\" fill-rule=\"evenodd\" fill-opacity=\"1\" /><path clip-path=\"url(#clip280)\" d=\"M 0 0 M1136.07 1541.98 L1136.07 1520.4 L1141.93 1520.4 L1141.93 1541.75 Q1141.93 1546.81 1143.9 1549.36 Q1145.87 1551.87 1149.82 1551.87 Q1154.56 1551.87 1157.3 1548.85 Q1160.07 1545.83 1160.07 1540.61 L1160.07 1520.4 L1165.93 1520.4 L1165.93 1556.04 L1160.07 1556.04 L1160.07 1550.57 Q1157.94 1553.82 1155.1 1555.41 Q1152.3 1556.97 1148.58 1556.97 Q1142.44 1556.97 1139.25 1553.15 Q1136.07 1549.33 1136.07 1541.98 M1150.81 1519.54 L1150.81 1519.54 Z\" fill=\"#000000\" fill-rule=\"evenodd\" fill-opacity=\"1\" /><path clip-path=\"url(#clip280)\" d=\"M 0 0 M1172.07 1506.52 L1177.92 1506.52 L1177.92 1556.04 L1172.07 1556.04 L1172.07 1506.52 Z\" fill=\"#000000\" fill-rule=\"evenodd\" fill-opacity=\"1\" /><path clip-path=\"url(#clip280)\" d=\"M 0 0 M1200.27 1538.12 Q1193.17 1538.12 1190.43 1539.75 Q1187.7 1541.37 1187.7 1545.29 Q1187.7 1548.4 1189.73 1550.25 Q1191.8 1552.07 1195.34 1552.07 Q1200.2 1552.07 1203.13 1548.63 Q1206.09 1545.16 1206.09 1539.43 L1206.09 1538.12 L1200.27 1538.12 M1211.95 1535.71 L1211.95 1556.04 L1206.09 1556.04 L1206.09 1550.63 Q1204.09 1553.88 1201.1 1555.44 Q1198.1 1556.97 1193.78 1556.97 Q1188.3 1556.97 1185.05 1553.91 Q1181.84 1550.82 1181.84 1545.67 Q1181.84 1539.65 1185.85 1536.6 Q1189.89 1533.54 1197.88 1533.54 L1206.09 1533.54 L1206.09 1532.97 Q1206.09 1528.93 1203.42 1526.73 Q1200.78 1524.5 1195.97 1524.5 Q1192.92 1524.5 1190.02 1525.23 Q1187.12 1525.97 1184.45 1527.43 L1184.45 1522.02 Q1187.66 1520.78 1190.69 1520.17 Q1193.71 1519.54 1196.58 1519.54 Q1204.31 1519.54 1208.13 1523.55 Q1211.95 1527.56 1211.95 1535.71 Z\" fill=\"#000000\" fill-rule=\"evenodd\" fill-opacity=\"1\" /><path clip-path=\"url(#clip280)\" d=\"M 0 0 M1238.75 1525.87 Q1237.76 1525.3 1236.58 1525.04 Q1235.44 1524.76 1234.04 1524.76 Q1229.07 1524.76 1226.4 1528 Q1223.76 1531.22 1223.76 1537.27 L1223.76 1556.04 L1217.87 1556.04 L1217.87 1520.4 L1223.76 1520.4 L1223.76 1525.93 Q1225.6 1522.69 1228.56 1521.13 Q1231.52 1519.54 1235.76 1519.54 Q1236.36 1519.54 1237.09 1519.63 Q1237.83 1519.7 1238.72 1519.85 L1238.75 1525.87 Z\" fill=\"#000000\" fill-rule=\"evenodd\" fill-opacity=\"1\" /><path clip-path=\"url(#clip280)\" d=\"M 0 0 M1291.27 1521.76 L1291.27 1527.24 Q1288.78 1525.87 1286.27 1525.2 Q1283.79 1524.5 1281.24 1524.5 Q1275.54 1524.5 1272.39 1528.13 Q1269.24 1531.73 1269.24 1538.25 Q1269.24 1544.78 1272.39 1548.4 Q1275.54 1552 1281.24 1552 Q1283.79 1552 1286.27 1551.33 Q1288.78 1550.63 1291.27 1549.26 L1291.27 1554.68 Q1288.82 1555.82 1286.17 1556.39 Q1283.56 1556.97 1280.6 1556.97 Q1272.55 1556.97 1267.81 1551.91 Q1263.07 1546.85 1263.07 1538.25 Q1263.07 1529.53 1267.84 1524.53 Q1272.65 1519.54 1280.99 1519.54 Q1283.69 1519.54 1286.27 1520.11 Q1288.85 1520.65 1291.27 1521.76 Z\" fill=\"#000000\" fill-rule=\"evenodd\" fill-opacity=\"1\" /><path clip-path=\"url(#clip280)\" d=\"M 0 0 M1311.22 1524.5 Q1306.51 1524.5 1303.77 1528.19 Q1301.04 1531.85 1301.04 1538.25 Q1301.04 1544.65 1303.74 1548.34 Q1306.48 1552 1311.22 1552 Q1315.9 1552 1318.64 1548.31 Q1321.38 1544.62 1321.38 1538.25 Q1321.38 1531.92 1318.64 1528.23 Q1315.9 1524.5 1311.22 1524.5 M1311.22 1519.54 Q1318.86 1519.54 1323.22 1524.5 Q1327.58 1529.47 1327.58 1538.25 Q1327.58 1547 1323.22 1552 Q1318.86 1556.97 1311.22 1556.97 Q1303.55 1556.97 1299.19 1552 Q1294.86 1547 1294.86 1538.25 Q1294.86 1529.47 1299.19 1524.5 Q1303.55 1519.54 1311.22 1519.54 Z\" fill=\"#000000\" fill-rule=\"evenodd\" fill-opacity=\"1\" /><path clip-path=\"url(#clip280)\" d=\"M 0 0 M1361.48 1527.24 Q1363.68 1523.29 1366.73 1521.41 Q1369.79 1519.54 1373.92 1519.54 Q1379.49 1519.54 1382.52 1523.45 Q1385.54 1527.33 1385.54 1534.53 L1385.54 1556.04 L1379.65 1556.04 L1379.65 1534.72 Q1379.65 1529.59 1377.84 1527.11 Q1376.03 1524.63 1372.3 1524.63 Q1367.75 1524.63 1365.11 1527.65 Q1362.47 1530.68 1362.47 1535.9 L1362.47 1556.04 L1356.58 1556.04 L1356.58 1534.72 Q1356.58 1529.56 1354.76 1527.11 Q1352.95 1524.63 1349.16 1524.63 Q1344.67 1524.63 1342.03 1527.68 Q1339.39 1530.71 1339.39 1535.9 L1339.39 1556.04 L1333.5 1556.04 L1333.5 1520.4 L1339.39 1520.4 L1339.39 1525.93 Q1341.4 1522.66 1344.2 1521.1 Q1347 1519.54 1350.85 1519.54 Q1354.73 1519.54 1357.44 1521.51 Q1360.17 1523.48 1361.48 1527.24 Z\" fill=\"#000000\" fill-rule=\"evenodd\" fill-opacity=\"1\" /><path clip-path=\"url(#clip280)\" d=\"M 0 0 M1397.35 1550.7 L1397.35 1569.6 L1391.46 1569.6 L1391.46 1520.4 L1397.35 1520.4 L1397.35 1525.81 Q1399.2 1522.62 1402 1521.1 Q1404.83 1519.54 1408.75 1519.54 Q1415.24 1519.54 1419.28 1524.69 Q1423.35 1529.85 1423.35 1538.25 Q1423.35 1546.65 1419.28 1551.81 Q1415.24 1556.97 1408.75 1556.97 Q1404.83 1556.97 1402 1555.44 Q1399.2 1553.88 1397.35 1550.7 M1417.28 1538.25 Q1417.28 1531.79 1414.6 1528.13 Q1411.96 1524.44 1407.31 1524.44 Q1402.67 1524.44 1399.99 1528.13 Q1397.35 1531.79 1397.35 1538.25 Q1397.35 1544.71 1399.99 1548.4 Q1402.67 1552.07 1407.31 1552.07 Q1411.96 1552.07 1414.6 1548.4 Q1417.28 1544.71 1417.28 1538.25 Z\" fill=\"#000000\" fill-rule=\"evenodd\" fill-opacity=\"1\" /><path clip-path=\"url(#clip280)\" d=\"M 0 0 M1429.5 1506.52 L1435.35 1506.52 L1435.35 1556.04 L1429.5 1556.04 L1429.5 1506.52 Z\" fill=\"#000000\" fill-rule=\"evenodd\" fill-opacity=\"1\" /><path clip-path=\"url(#clip280)\" d=\"M 0 0 M1471.99 1536.76 L1471.99 1539.62 L1445.06 1539.62 Q1445.44 1545.67 1448.69 1548.85 Q1451.97 1552 1457.79 1552 Q1461.17 1552 1464.32 1551.17 Q1467.5 1550.35 1470.62 1548.69 L1470.62 1554.23 Q1467.47 1555.57 1464.16 1556.27 Q1460.85 1556.97 1457.44 1556.97 Q1448.91 1556.97 1443.92 1552 Q1438.95 1547.04 1438.95 1538.57 Q1438.95 1529.82 1443.66 1524.69 Q1448.4 1519.54 1456.42 1519.54 Q1463.62 1519.54 1467.79 1524.18 Q1471.99 1528.8 1471.99 1536.76 M1466.13 1535.04 Q1466.07 1530.23 1463.43 1527.37 Q1460.82 1524.5 1456.49 1524.5 Q1451.59 1524.5 1448.63 1527.27 Q1445.7 1530.04 1445.25 1535.07 L1466.13 1535.04 Z\" fill=\"#000000\" fill-rule=\"evenodd\" fill-opacity=\"1\" /><path clip-path=\"url(#clip280)\" d=\"M 0 0 M1506.62 1520.4 L1493.73 1537.74 L1507.29 1556.04 L1500.38 1556.04 L1490 1542.04 L1479.63 1556.04 L1472.72 1556.04 L1486.57 1537.39 L1473.9 1520.4 L1480.81 1520.4 L1490.26 1533.1 L1499.71 1520.4 L1506.62 1520.4 Z\" fill=\"#000000\" fill-rule=\"evenodd\" fill-opacity=\"1\" /><path clip-path=\"url(#clip280)\" d=\"M 0 0 M1513.43 1520.4 L1519.29 1520.4 L1519.29 1556.04 L1513.43 1556.04 L1513.43 1520.4 M1513.43 1506.52 L1519.29 1506.52 L1519.29 1513.93 L1513.43 1513.93 L1513.43 1506.52 Z\" fill=\"#000000\" fill-rule=\"evenodd\" fill-opacity=\"1\" /><path clip-path=\"url(#clip280)\" d=\"M 0 0 M1531.22 1510.27 L1531.22 1520.4 L1543.28 1520.4 L1543.28 1524.95 L1531.22 1524.95 L1531.22 1544.3 Q1531.22 1548.66 1532.4 1549.9 Q1533.61 1551.14 1537.27 1551.14 L1543.28 1551.14 L1543.28 1556.04 L1537.27 1556.04 Q1530.49 1556.04 1527.91 1553.53 Q1525.33 1550.98 1525.33 1544.3 L1525.33 1524.95 L1521.04 1524.95 L1521.04 1520.4 L1525.33 1520.4 L1525.33 1510.27 L1531.22 1510.27 Z\" fill=\"#000000\" fill-rule=\"evenodd\" fill-opacity=\"1\" /><path clip-path=\"url(#clip280)\" d=\"M 0 0 M1564.26 1559.35 Q1561.78 1565.72 1559.42 1567.66 Q1557.07 1569.6 1553.12 1569.6 L1548.44 1569.6 L1548.44 1564.7 L1551.88 1564.7 Q1554.3 1564.7 1555.63 1563.56 Q1556.97 1562.41 1558.59 1558.14 L1559.64 1555.47 L1545.23 1520.4 L1551.43 1520.4 L1562.57 1548.28 L1573.71 1520.4 L1579.92 1520.4 L1564.26 1559.35 Z\" fill=\"#000000\" fill-rule=\"evenodd\" fill-opacity=\"1\" /><path clip-path=\"url(#clip280)\" d=\"M 0 0 M59.3266 884.567 L59.3266 893.829 L69.9574 896.502 L69.9574 887.177 L59.3266 884.567 M41.2162 889.341 L54.4251 892.651 L54.4251 883.357 L41.2162 880.015 L41.2162 874.923 L54.4251 878.201 L54.4251 868.27 L59.3266 868.27 L59.3266 879.442 L69.9574 882.052 L69.9574 871.931 L74.8271 871.931 L74.8271 883.294 L88.0042 886.604 L88.0042 891.696 L74.8271 888.418 L74.8271 897.744 L88.0042 901.022 L88.0042 906.146 L74.8271 902.836 L74.8271 912.862 L69.9574 912.862 L69.9574 901.659 L59.3266 898.985 L59.3266 909.234 L54.4251 909.234 L54.4251 897.744 L41.2162 894.497 L41.2162 889.341 Z\" fill=\"#000000\" fill-rule=\"evenodd\" fill-opacity=\"1\" /><path clip-path=\"url(#clip280)\" d=\"M 0 0 M53.4065 818.682 L58.9447 818.682 Q57.6716 821.164 57.035 823.838 Q56.3984 826.511 56.3984 829.376 Q56.3984 833.737 57.7352 835.933 Q59.072 838.097 61.7456 838.097 Q63.7826 838.097 64.9603 836.537 Q66.1061 834.978 67.1565 830.267 L67.6021 828.262 Q68.9389 822.024 71.3897 819.414 Q73.8086 816.772 78.1691 816.772 Q83.1344 816.772 86.0308 820.719 Q88.9272 824.634 88.9272 831.509 Q88.9272 834.373 88.3543 837.492 Q87.8132 840.58 86.6992 844.017 L80.6518 844.017 Q82.3387 840.771 83.198 837.62 Q84.0256 834.469 84.0256 831.381 Q84.0256 827.244 82.6251 825.016 Q81.1929 822.788 78.6147 822.788 Q76.2276 822.788 74.9545 824.411 Q73.6813 826.002 72.5037 831.445 L72.0262 833.482 Q70.8804 838.925 68.5251 841.344 Q66.138 843.763 62.0002 843.763 Q56.9713 843.763 54.2341 840.198 Q51.4968 836.633 51.4968 830.076 Q51.4968 826.83 51.9743 823.965 Q52.4517 821.101 53.4065 818.682 Z\" fill=\"#000000\" fill-rule=\"evenodd\" fill-opacity=\"1\" /><path clip-path=\"url(#clip280)\" d=\"M 0 0 M53.7248 784.975 L59.1993 784.975 Q57.8307 787.458 57.1623 789.972 Q56.4621 792.455 56.4621 795.001 Q56.4621 800.699 60.0905 803.85 Q63.6872 807.001 70.212 807.001 Q76.7369 807.001 80.3653 803.85 Q83.9619 800.699 83.9619 795.001 Q83.9619 792.455 83.2935 789.972 Q82.5933 787.458 81.2247 784.975 L86.6355 784.975 Q87.7814 787.426 88.3543 790.068 Q88.9272 792.678 88.9272 795.638 Q88.9272 803.69 83.8664 808.433 Q78.8057 813.175 70.212 813.175 Q61.491 813.175 56.4939 808.401 Q51.4968 803.595 51.4968 795.256 Q51.4968 792.55 52.0697 789.972 Q52.6108 787.394 53.7248 784.975 Z\" fill=\"#000000\" fill-rule=\"evenodd\" fill-opacity=\"1\" /><path clip-path=\"url(#clip280)\" d=\"M 0 0 M66.4881 749.2 L88.0042 749.2 L88.0042 755.056 L66.679 755.056 Q61.6183 755.056 59.1038 757.03 Q56.5894 759.003 56.5894 762.95 Q56.5894 767.692 59.6131 770.43 Q62.6368 773.167 67.8567 773.167 L88.0042 773.167 L88.0042 779.055 L38.479 779.055 L38.479 773.167 L57.8944 773.167 Q54.6797 771.066 53.0883 768.233 Q51.4968 765.369 51.4968 761.645 Q51.4968 755.502 55.3163 752.351 Q59.1038 749.2 66.4881 749.2 Z\" fill=\"#000000\" fill-rule=\"evenodd\" fill-opacity=\"1\" /><path clip-path=\"url(#clip280)\" d=\"M 0 0 M56.4621 729.243 Q56.4621 733.954 60.1542 736.691 Q63.8145 739.429 70.212 739.429 Q76.6095 739.429 80.3017 736.723 Q83.9619 733.986 83.9619 729.243 Q83.9619 724.565 80.2698 721.827 Q76.5777 719.09 70.212 719.09 Q63.8781 719.09 60.186 721.827 Q56.4621 724.565 56.4621 729.243 M51.4968 729.243 Q51.4968 721.605 56.4621 717.244 Q61.4273 712.884 70.212 712.884 Q78.9649 712.884 83.9619 717.244 Q88.9272 721.605 88.9272 729.243 Q88.9272 736.914 83.9619 741.275 Q78.9649 745.603 70.212 745.603 Q61.4273 745.603 56.4621 741.275 Q51.4968 736.914 51.4968 729.243 Z\" fill=\"#000000\" fill-rule=\"evenodd\" fill-opacity=\"1\" /><path clip-path=\"url(#clip280)\" d=\"M 0 0 M56.4621 692.927 Q56.4621 697.638 60.1542 700.375 Q63.8145 703.112 70.212 703.112 Q76.6095 703.112 80.3017 700.407 Q83.9619 697.67 83.9619 692.927 Q83.9619 688.248 80.2698 685.511 Q76.5777 682.774 70.212 682.774 Q63.8781 682.774 60.186 685.511 Q56.4621 688.248 56.4621 692.927 M51.4968 692.927 Q51.4968 685.288 56.4621 680.928 Q61.4273 676.567 70.212 676.567 Q78.9649 676.567 83.9619 680.928 Q88.9272 685.288 88.9272 692.927 Q88.9272 700.598 83.9619 704.958 Q78.9649 709.287 70.212 709.287 Q61.4273 709.287 56.4621 704.958 Q51.4968 700.598 51.4968 692.927 Z\" fill=\"#000000\" fill-rule=\"evenodd\" fill-opacity=\"1\" /><path clip-path=\"url(#clip280)\" d=\"M 0 0 M38.479 670.424 L38.479 664.568 L88.0042 664.568 L88.0042 670.424 L38.479 670.424 Z\" fill=\"#000000\" fill-rule=\"evenodd\" fill-opacity=\"1\" /><path clip-path=\"url(#clip280)\" d=\"M 0 0 M53.4065 635.699 L58.9447 635.699 Q57.6716 638.182 57.035 640.856 Q56.3984 643.529 56.3984 646.394 Q56.3984 650.754 57.7352 652.95 Q59.072 655.115 61.7456 655.115 Q63.7826 655.115 64.9603 653.555 Q66.1061 651.996 67.1565 647.285 L67.6021 645.28 Q68.9389 639.041 71.3897 636.431 Q73.8086 633.79 78.1691 633.79 Q83.1344 633.79 86.0308 637.736 Q88.9272 641.651 88.9272 648.526 Q88.9272 651.391 88.3543 654.51 Q87.8132 657.597 86.6992 661.035 L80.6518 661.035 Q82.3387 657.788 83.198 654.637 Q84.0256 651.486 84.0256 648.399 Q84.0256 644.261 82.6251 642.033 Q81.1929 639.805 78.6147 639.805 Q76.2276 639.805 74.9545 641.429 Q73.6813 643.02 72.5037 648.463 L72.0262 650.5 Q70.8804 655.942 68.5251 658.361 Q66.138 660.78 62.0002 660.78 Q56.9713 660.78 54.2341 657.215 Q51.4968 653.651 51.4968 647.094 Q51.4968 643.848 51.9743 640.983 Q52.4517 638.118 53.4065 635.699 Z\" fill=\"#000000\" fill-rule=\"evenodd\" fill-opacity=\"1\" /><path clip-path=\"url(#clip282)\" d=\"\n",
       "M557.003 1293.21 L557.003 1423.18 L916.154 1423.18 L916.154 1293.21 L557.003 1293.21 L557.003 1293.21  Z\n",
       "  \" fill=\"#1874cd\" fill-rule=\"evenodd\" fill-opacity=\"0.7\"/>\n",
       "<polyline clip-path=\"url(#clip282)\" style=\"stroke:#000000; stroke-width:4; stroke-opacity:0.7; fill:none\" points=\"\n",
       "  557.003,1293.21 557.003,1423.18 916.154,1423.18 916.154,1293.21 557.003,1293.21 \n",
       "  \"/>\n",
       "<path clip-path=\"url(#clip282)\" d=\"\n",
       "M916.154 513.384 L916.154 1423.18 L1275.3 1423.18 L1275.3 513.384 L916.154 513.384 L916.154 513.384  Z\n",
       "  \" fill=\"#1874cd\" fill-rule=\"evenodd\" fill-opacity=\"0.7\"/>\n",
       "<polyline clip-path=\"url(#clip282)\" style=\"stroke:#000000; stroke-width:4; stroke-opacity:0.7; fill:none\" points=\"\n",
       "  916.154,513.384 916.154,1423.18 1275.3,1423.18 1275.3,513.384 916.154,513.384 \n",
       "  \"/>\n",
       "<path clip-path=\"url(#clip282)\" d=\"\n",
       "M1275.3 383.414 L1275.3 1423.18 L1634.45 1423.18 L1634.45 383.414 L1275.3 383.414 L1275.3 383.414  Z\n",
       "  \" fill=\"#1874cd\" fill-rule=\"evenodd\" fill-opacity=\"0.7\"/>\n",
       "<polyline clip-path=\"url(#clip282)\" style=\"stroke:#000000; stroke-width:4; stroke-opacity:0.7; fill:none\" points=\"\n",
       "  1275.3,383.414 1275.3,1423.18 1634.45,1423.18 1634.45,383.414 1275.3,383.414 \n",
       "  \"/>\n",
       "<path clip-path=\"url(#clip282)\" d=\"\n",
       "M1634.45 1293.21 L1634.45 1423.18 L1993.61 1423.18 L1993.61 1293.21 L1634.45 1293.21 L1634.45 1293.21  Z\n",
       "  \" fill=\"#1874cd\" fill-rule=\"evenodd\" fill-opacity=\"0.7\"/>\n",
       "<polyline clip-path=\"url(#clip282)\" style=\"stroke:#000000; stroke-width:4; stroke-opacity:0.7; fill:none\" points=\"\n",
       "  1634.45,1293.21 1634.45,1423.18 1993.61,1423.18 1993.61,1293.21 1634.45,1293.21 \n",
       "  \"/>\n",
       "<path clip-path=\"url(#clip282)\" d=\"\n",
       "M1993.61 1033.27 L1993.61 1423.18 L2352.76 1423.18 L2352.76 1033.27 L1993.61 1033.27 L1993.61 1033.27  Z\n",
       "  \" fill=\"#1874cd\" fill-rule=\"evenodd\" fill-opacity=\"0.7\"/>\n",
       "<polyline clip-path=\"url(#clip282)\" style=\"stroke:#000000; stroke-width:4; stroke-opacity:0.7; fill:none\" points=\"\n",
       "  1993.61,1033.27 1993.61,1423.18 2352.76,1423.18 2352.76,1033.27 1993.61,1033.27 \n",
       "  \"/>\n",
       "</svg>\n"
      ]
     },
     "execution_count": 25,
     "metadata": {},
     "output_type": "execute_result"
    }
   ],
   "source": [
    "bottom_tier = Array{Curriculum,1}()\n",
    "bottom_tier_cc = Array{Float64,1}()\n",
    "bottom_tier_total_cc = 0\n",
    "bottom_tier_avg_cc = 0\n",
    "for (key, val) in curriculum\n",
    "    if (split(key, \"/\")[1]) == \"tier_bottom\"\n",
    "        name = split(split(key, \"/\")[2], \".\")[1]\n",
    "        println(\"$name => $(val.metrics[\"complexity\"][1])\")\n",
    "        push!(bottom_tier, val)\n",
    "        push!(bottom_tier_cc, val.metrics[\"complexity\"][1])\n",
    "        bottom_tier_total_cc += val.metrics[\"complexity\"][1]\n",
    "    end\n",
    "end\n",
    "bottom_tier_avg_cc = bottom_tier_total_cc / length(bottom_tier)\n",
    "println(\"Avg. curricular complexity = $(bottom_tier_avg_cc), STD = $(stdm(bottom_tier_cc, top_tier_avg_cc))\")\n",
    "metric_histogram(bottom_tier, \"complexity\", nbins=5, title=\"Bottom Tier\", xlabel=\"curricular complexity\", ylabel=\"# schools\", xlim=(0,300))"
   ]
  },
  {
   "cell_type": "markdown",
   "metadata": {},
   "source": [
    "The curricular compleixty historgram for all schools in the study:"
   ]
  },
  {
   "cell_type": "code",
   "execution_count": 26,
   "metadata": {},
   "outputs": [
    {
     "name": "stdout",
     "output_type": "stream",
     "text": [
      "Avg. curricular complexity = 136.86666666666667, STD = 52.95445650062736\n"
     ]
    },
    {
     "data": {
      "image/svg+xml": [
       "<?xml version=\"1.0\" encoding=\"utf-8\"?>\n",
       "<svg xmlns=\"http://www.w3.org/2000/svg\" xmlns:xlink=\"http://www.w3.org/1999/xlink\" width=\"600\" height=\"400\" viewBox=\"0 0 2400 1600\">\n",
       "<defs>\n",
       "  <clipPath id=\"clip320\">\n",
       "    <rect x=\"0\" y=\"0\" width=\"2400\" height=\"1600\"/>\n",
       "  </clipPath>\n",
       "</defs>\n",
       "<path clip-path=\"url(#clip320)\" d=\"\n",
       "M0 1600 L2400 1600 L2400 0 L0 0  Z\n",
       "  \" fill=\"#ffffff\" fill-rule=\"evenodd\" fill-opacity=\"1\"/>\n",
       "<defs>\n",
       "  <clipPath id=\"clip321\">\n",
       "    <rect x=\"480\" y=\"0\" width=\"1681\" height=\"1600\"/>\n",
       "  </clipPath>\n",
       "</defs>\n",
       "<path clip-path=\"url(#clip320)\" d=\"\n",
       "M200.028 1423.18 L2352.76 1423.18 L2352.76 123.472 L200.028 123.472  Z\n",
       "  \" fill=\"#ffffff\" fill-rule=\"evenodd\" fill-opacity=\"1\"/>\n",
       "<defs>\n",
       "  <clipPath id=\"clip322\">\n",
       "    <rect x=\"200\" y=\"123\" width=\"2154\" height=\"1301\"/>\n",
       "  </clipPath>\n",
       "</defs>\n",
       "<polyline clip-path=\"url(#clip322)\" style=\"stroke:#000000; stroke-width:2; stroke-opacity:0.1; fill:none\" points=\"\n",
       "  200.028,1423.18 200.028,123.472 \n",
       "  \"/>\n",
       "<polyline clip-path=\"url(#clip322)\" style=\"stroke:#000000; stroke-width:2; stroke-opacity:0.1; fill:none\" points=\"\n",
       "  917.604,1423.18 917.604,123.472 \n",
       "  \"/>\n",
       "<polyline clip-path=\"url(#clip322)\" style=\"stroke:#000000; stroke-width:2; stroke-opacity:0.1; fill:none\" points=\"\n",
       "  1635.18,1423.18 1635.18,123.472 \n",
       "  \"/>\n",
       "<polyline clip-path=\"url(#clip322)\" style=\"stroke:#000000; stroke-width:2; stroke-opacity:0.1; fill:none\" points=\"\n",
       "  2352.76,1423.18 2352.76,123.472 \n",
       "  \"/>\n",
       "<polyline clip-path=\"url(#clip322)\" style=\"stroke:#000000; stroke-width:2; stroke-opacity:0.1; fill:none\" points=\"\n",
       "  200.028,1423.18 2352.76,1423.18 \n",
       "  \"/>\n",
       "<polyline clip-path=\"url(#clip322)\" style=\"stroke:#000000; stroke-width:2; stroke-opacity:0.1; fill:none\" points=\"\n",
       "  200.028,989.944 2352.76,989.944 \n",
       "  \"/>\n",
       "<polyline clip-path=\"url(#clip322)\" style=\"stroke:#000000; stroke-width:2; stroke-opacity:0.1; fill:none\" points=\"\n",
       "  200.028,556.708 2352.76,556.708 \n",
       "  \"/>\n",
       "<polyline clip-path=\"url(#clip322)\" style=\"stroke:#000000; stroke-width:2; stroke-opacity:0.1; fill:none\" points=\"\n",
       "  200.028,123.472 2352.76,123.472 \n",
       "  \"/>\n",
       "<polyline clip-path=\"url(#clip320)\" style=\"stroke:#000000; stroke-width:4; stroke-opacity:1; fill:none\" points=\"\n",
       "  200.028,1423.18 2352.76,1423.18 \n",
       "  \"/>\n",
       "<polyline clip-path=\"url(#clip320)\" style=\"stroke:#000000; stroke-width:4; stroke-opacity:1; fill:none\" points=\"\n",
       "  200.028,1423.18 200.028,123.472 \n",
       "  \"/>\n",
       "<polyline clip-path=\"url(#clip320)\" style=\"stroke:#000000; stroke-width:4; stroke-opacity:1; fill:none\" points=\"\n",
       "  200.028,1423.18 200.028,1407.58 \n",
       "  \"/>\n",
       "<polyline clip-path=\"url(#clip320)\" style=\"stroke:#000000; stroke-width:4; stroke-opacity:1; fill:none\" points=\"\n",
       "  917.604,1423.18 917.604,1407.58 \n",
       "  \"/>\n",
       "<polyline clip-path=\"url(#clip320)\" style=\"stroke:#000000; stroke-width:4; stroke-opacity:1; fill:none\" points=\"\n",
       "  1635.18,1423.18 1635.18,1407.58 \n",
       "  \"/>\n",
       "<polyline clip-path=\"url(#clip320)\" style=\"stroke:#000000; stroke-width:4; stroke-opacity:1; fill:none\" points=\"\n",
       "  2352.76,1423.18 2352.76,1407.58 \n",
       "  \"/>\n",
       "<polyline clip-path=\"url(#clip320)\" style=\"stroke:#000000; stroke-width:4; stroke-opacity:1; fill:none\" points=\"\n",
       "  200.028,1423.18 225.861,1423.18 \n",
       "  \"/>\n",
       "<polyline clip-path=\"url(#clip320)\" style=\"stroke:#000000; stroke-width:4; stroke-opacity:1; fill:none\" points=\"\n",
       "  200.028,989.944 225.861,989.944 \n",
       "  \"/>\n",
       "<polyline clip-path=\"url(#clip320)\" style=\"stroke:#000000; stroke-width:4; stroke-opacity:1; fill:none\" points=\"\n",
       "  200.028,556.708 225.861,556.708 \n",
       "  \"/>\n",
       "<polyline clip-path=\"url(#clip320)\" style=\"stroke:#000000; stroke-width:4; stroke-opacity:1; fill:none\" points=\"\n",
       "  200.028,123.472 225.861,123.472 \n",
       "  \"/>\n",
       "<path clip-path=\"url(#clip320)\" d=\"M 0 0 M200.028 1445.17 Q196.417 1445.17 194.589 1448.74 Q192.783 1452.28 192.783 1459.41 Q192.783 1466.51 194.589 1470.08 Q196.417 1473.62 200.028 1473.62 Q203.663 1473.62 205.468 1470.08 Q207.297 1466.51 207.297 1459.41 Q207.297 1452.28 205.468 1448.74 Q203.663 1445.17 200.028 1445.17 M200.028 1441.47 Q205.839 1441.47 208.894 1446.07 Q211.973 1450.66 211.973 1459.41 Q211.973 1468.13 208.894 1472.74 Q205.839 1477.32 200.028 1477.32 Q194.218 1477.32 191.14 1472.74 Q188.084 1468.13 188.084 1459.41 Q188.084 1450.66 191.14 1446.07 Q194.218 1441.47 200.028 1441.47 Z\" fill=\"#000000\" fill-rule=\"evenodd\" fill-opacity=\"1\" /><path clip-path=\"url(#clip320)\" d=\"M 0 0 M880.972 1472.72 L888.611 1472.72 L888.611 1446.35 L880.301 1448.02 L880.301 1443.76 L888.565 1442.09 L893.241 1442.09 L893.241 1472.72 L900.88 1472.72 L900.88 1476.65 L880.972 1476.65 L880.972 1472.72 Z\" fill=\"#000000\" fill-rule=\"evenodd\" fill-opacity=\"1\" /><path clip-path=\"url(#clip320)\" d=\"M 0 0 M915.949 1445.17 Q912.338 1445.17 910.509 1448.74 Q908.704 1452.28 908.704 1459.41 Q908.704 1466.51 910.509 1470.08 Q912.338 1473.62 915.949 1473.62 Q919.583 1473.62 921.389 1470.08 Q923.218 1466.51 923.218 1459.41 Q923.218 1452.28 921.389 1448.74 Q919.583 1445.17 915.949 1445.17 M915.949 1441.47 Q921.759 1441.47 924.815 1446.07 Q927.894 1450.66 927.894 1459.41 Q927.894 1468.13 924.815 1472.74 Q921.759 1477.32 915.949 1477.32 Q910.139 1477.32 907.06 1472.74 Q904.005 1468.13 904.005 1459.41 Q904.005 1450.66 907.06 1446.07 Q910.139 1441.47 915.949 1441.47 Z\" fill=\"#000000\" fill-rule=\"evenodd\" fill-opacity=\"1\" /><path clip-path=\"url(#clip320)\" d=\"M 0 0 M942.963 1445.17 Q939.352 1445.17 937.523 1448.74 Q935.718 1452.28 935.718 1459.41 Q935.718 1466.51 937.523 1470.08 Q939.352 1473.62 942.963 1473.62 Q946.597 1473.62 948.403 1470.08 Q950.231 1466.51 950.231 1459.41 Q950.231 1452.28 948.403 1448.74 Q946.597 1445.17 942.963 1445.17 M942.963 1441.47 Q948.773 1441.47 951.829 1446.07 Q954.907 1450.66 954.907 1459.41 Q954.907 1468.13 951.829 1472.74 Q948.773 1477.32 942.963 1477.32 Q937.153 1477.32 934.074 1472.74 Q931.019 1468.13 931.019 1459.41 Q931.019 1450.66 934.074 1446.07 Q937.153 1441.47 942.963 1441.47 Z\" fill=\"#000000\" fill-rule=\"evenodd\" fill-opacity=\"1\" /><path clip-path=\"url(#clip320)\" d=\"M 0 0 M1602.82 1472.72 L1619.14 1472.72 L1619.14 1476.65 L1597.19 1476.65 L1597.19 1472.72 Q1599.86 1469.96 1604.44 1465.33 Q1609.05 1460.68 1610.23 1459.34 Q1612.47 1456.81 1613.35 1455.08 Q1614.25 1453.32 1614.25 1451.63 Q1614.25 1448.87 1612.31 1447.14 Q1610.39 1445.4 1607.29 1445.4 Q1605.09 1445.4 1602.63 1446.17 Q1600.2 1446.93 1597.43 1448.48 L1597.43 1443.76 Q1600.25 1442.62 1602.7 1442.05 Q1605.16 1441.47 1607.19 1441.47 Q1612.56 1441.47 1615.76 1444.15 Q1618.95 1446.84 1618.95 1451.33 Q1618.95 1453.46 1618.14 1455.38 Q1617.36 1457.28 1615.25 1459.87 Q1614.67 1460.54 1611.57 1463.76 Q1608.47 1466.95 1602.82 1472.72 Z\" fill=\"#000000\" fill-rule=\"evenodd\" fill-opacity=\"1\" /><path clip-path=\"url(#clip320)\" d=\"M 0 0 M1634.21 1445.17 Q1630.6 1445.17 1628.77 1448.74 Q1626.96 1452.28 1626.96 1459.41 Q1626.96 1466.51 1628.77 1470.08 Q1630.6 1473.62 1634.21 1473.62 Q1637.84 1473.62 1639.65 1470.08 Q1641.48 1466.51 1641.48 1459.41 Q1641.48 1452.28 1639.65 1448.74 Q1637.84 1445.17 1634.21 1445.17 M1634.21 1441.47 Q1640.02 1441.47 1643.07 1446.07 Q1646.15 1450.66 1646.15 1459.41 Q1646.15 1468.13 1643.07 1472.74 Q1640.02 1477.32 1634.21 1477.32 Q1628.4 1477.32 1625.32 1472.74 Q1622.26 1468.13 1622.26 1459.41 Q1622.26 1450.66 1625.32 1446.07 Q1628.4 1441.47 1634.21 1441.47 Z\" fill=\"#000000\" fill-rule=\"evenodd\" fill-opacity=\"1\" /><path clip-path=\"url(#clip320)\" d=\"M 0 0 M1661.22 1445.17 Q1657.61 1445.17 1655.78 1448.74 Q1653.98 1452.28 1653.98 1459.41 Q1653.98 1466.51 1655.78 1470.08 Q1657.61 1473.62 1661.22 1473.62 Q1664.86 1473.62 1666.66 1470.08 Q1668.49 1466.51 1668.49 1459.41 Q1668.49 1452.28 1666.66 1448.74 Q1664.86 1445.17 1661.22 1445.17 M1661.22 1441.47 Q1667.03 1441.47 1670.09 1446.07 Q1673.17 1450.66 1673.17 1459.41 Q1673.17 1468.13 1670.09 1472.74 Q1667.03 1477.32 1661.22 1477.32 Q1655.41 1477.32 1652.33 1472.74 Q1649.28 1468.13 1649.28 1459.41 Q1649.28 1450.66 1652.33 1446.07 Q1655.41 1441.47 1661.22 1441.47 Z\" fill=\"#000000\" fill-rule=\"evenodd\" fill-opacity=\"1\" /><path clip-path=\"url(#clip320)\" d=\"M 0 0 M2329.99 1458.02 Q2333.35 1458.74 2335.22 1461 Q2337.12 1463.27 2337.12 1466.61 Q2337.12 1471.72 2333.6 1474.52 Q2330.08 1477.32 2323.6 1477.32 Q2321.43 1477.32 2319.11 1476.88 Q2316.82 1476.47 2314.36 1475.61 L2314.36 1471.1 Q2316.31 1472.23 2318.62 1472.81 Q2320.94 1473.39 2323.46 1473.39 Q2327.86 1473.39 2330.15 1471.65 Q2332.47 1469.92 2332.47 1466.61 Q2332.47 1463.55 2330.31 1461.84 Q2328.18 1460.1 2324.36 1460.1 L2320.34 1460.1 L2320.34 1456.26 L2324.55 1456.26 Q2328 1456.26 2329.83 1454.89 Q2331.66 1453.5 2331.66 1450.91 Q2331.66 1448.25 2329.76 1446.84 Q2327.88 1445.4 2324.36 1445.4 Q2322.44 1445.4 2320.24 1445.82 Q2318.05 1446.24 2315.41 1447.11 L2315.41 1442.95 Q2318.07 1442.21 2320.38 1441.84 Q2322.72 1441.47 2324.78 1441.47 Q2330.11 1441.47 2333.21 1443.9 Q2336.31 1446.3 2336.31 1450.43 Q2336.31 1453.3 2334.67 1455.29 Q2333.02 1457.25 2329.99 1458.02 Z\" fill=\"#000000\" fill-rule=\"evenodd\" fill-opacity=\"1\" /><path clip-path=\"url(#clip320)\" d=\"M 0 0 M2352.19 1445.17 Q2348.58 1445.17 2346.75 1448.74 Q2344.94 1452.28 2344.94 1459.41 Q2344.94 1466.51 2346.75 1470.08 Q2348.58 1473.62 2352.19 1473.62 Q2355.82 1473.62 2357.63 1470.08 Q2359.46 1466.51 2359.46 1459.41 Q2359.46 1452.28 2357.63 1448.74 Q2355.82 1445.17 2352.19 1445.17 M2352.19 1441.47 Q2358 1441.47 2361.05 1446.07 Q2364.13 1450.66 2364.13 1459.41 Q2364.13 1468.13 2361.05 1472.74 Q2358 1477.32 2352.19 1477.32 Q2346.38 1477.32 2343.3 1472.74 Q2340.24 1468.13 2340.24 1459.41 Q2340.24 1450.66 2343.3 1446.07 Q2346.38 1441.47 2352.19 1441.47 Z\" fill=\"#000000\" fill-rule=\"evenodd\" fill-opacity=\"1\" /><path clip-path=\"url(#clip320)\" d=\"M 0 0 M2379.2 1445.17 Q2375.59 1445.17 2373.76 1448.74 Q2371.96 1452.28 2371.96 1459.41 Q2371.96 1466.51 2373.76 1470.08 Q2375.59 1473.62 2379.2 1473.62 Q2382.84 1473.62 2384.64 1470.08 Q2386.47 1466.51 2386.47 1459.41 Q2386.47 1452.28 2384.64 1448.74 Q2382.84 1445.17 2379.2 1445.17 M2379.2 1441.47 Q2385.01 1441.47 2388.07 1446.07 Q2391.15 1450.66 2391.15 1459.41 Q2391.15 1468.13 2388.07 1472.74 Q2385.01 1477.32 2379.2 1477.32 Q2373.39 1477.32 2370.31 1472.74 Q2367.26 1468.13 2367.26 1459.41 Q2367.26 1450.66 2370.31 1446.07 Q2373.39 1441.47 2379.2 1441.47 Z\" fill=\"#000000\" fill-rule=\"evenodd\" fill-opacity=\"1\" /><path clip-path=\"url(#clip320)\" d=\"M 0 0 M164.084 1408.98 Q160.473 1408.98 158.644 1412.54 Q156.839 1416.08 156.839 1423.21 Q156.839 1430.32 158.644 1433.89 Q160.473 1437.43 164.084 1437.43 Q167.718 1437.43 169.524 1433.89 Q171.353 1430.32 171.353 1423.21 Q171.353 1416.08 169.524 1412.54 Q167.718 1408.98 164.084 1408.98 M164.084 1405.27 Q169.894 1405.27 172.95 1409.88 Q176.028 1414.46 176.028 1423.21 Q176.028 1431.94 172.95 1436.55 Q169.894 1441.13 164.084 1441.13 Q158.274 1441.13 155.195 1436.55 Q152.14 1431.94 152.14 1423.21 Q152.14 1414.46 155.195 1409.88 Q158.274 1405.27 164.084 1405.27 Z\" fill=\"#000000\" fill-rule=\"evenodd\" fill-opacity=\"1\" /><path clip-path=\"url(#clip320)\" d=\"M 0 0 M129.107 1003.29 L136.746 1003.29 L136.746 976.923 L128.436 978.59 L128.436 974.331 L136.7 972.664 L141.376 972.664 L141.376 1003.29 L149.015 1003.29 L149.015 1007.22 L129.107 1007.22 L129.107 1003.29 Z\" fill=\"#000000\" fill-rule=\"evenodd\" fill-opacity=\"1\" /><path clip-path=\"url(#clip320)\" d=\"M 0 0 M164.084 975.743 Q160.473 975.743 158.644 979.307 Q156.839 982.849 156.839 989.979 Q156.839 997.085 158.644 1000.65 Q160.473 1004.19 164.084 1004.19 Q167.718 1004.19 169.524 1000.65 Q171.353 997.085 171.353 989.979 Q171.353 982.849 169.524 979.307 Q167.718 975.743 164.084 975.743 M164.084 972.039 Q169.894 972.039 172.95 976.645 Q176.028 981.229 176.028 989.979 Q176.028 998.705 172.95 1003.31 Q169.894 1007.9 164.084 1007.9 Q158.274 1007.9 155.195 1003.31 Q152.14 998.705 152.14 989.979 Q152.14 981.229 155.195 976.645 Q158.274 972.039 164.084 972.039 Z\" fill=\"#000000\" fill-rule=\"evenodd\" fill-opacity=\"1\" /><path clip-path=\"url(#clip320)\" d=\"M 0 0 M132.695 570.053 L149.015 570.053 L149.015 573.988 L127.07 573.988 L127.07 570.053 Q129.732 567.298 134.316 562.669 Q138.922 558.016 140.103 556.673 Q142.348 554.15 143.228 552.414 Q144.13 550.655 144.13 548.965 Q144.13 546.21 142.186 544.474 Q140.265 542.738 137.163 542.738 Q134.964 542.738 132.51 543.502 Q130.08 544.266 127.302 545.817 L127.302 541.095 Q130.126 539.96 132.58 539.382 Q135.033 538.803 137.07 538.803 Q142.441 538.803 145.635 541.488 Q148.829 544.173 148.829 548.664 Q148.829 550.794 148.019 552.715 Q147.232 554.613 145.126 557.206 Q144.547 557.877 141.445 561.095 Q138.343 564.289 132.695 570.053 Z\" fill=\"#000000\" fill-rule=\"evenodd\" fill-opacity=\"1\" /><path clip-path=\"url(#clip320)\" d=\"M 0 0 M164.084 542.507 Q160.473 542.507 158.644 546.072 Q156.839 549.613 156.839 556.743 Q156.839 563.849 158.644 567.414 Q160.473 570.956 164.084 570.956 Q167.718 570.956 169.524 567.414 Q171.353 563.849 171.353 556.743 Q171.353 549.613 169.524 546.072 Q167.718 542.507 164.084 542.507 M164.084 538.803 Q169.894 538.803 172.95 543.409 Q176.028 547.993 176.028 556.743 Q176.028 565.47 172.95 570.076 Q169.894 574.659 164.084 574.659 Q158.274 574.659 155.195 570.076 Q152.14 565.47 152.14 556.743 Q152.14 547.993 155.195 543.409 Q158.274 538.803 164.084 538.803 Z\" fill=\"#000000\" fill-rule=\"evenodd\" fill-opacity=\"1\" /><path clip-path=\"url(#clip320)\" d=\"M 0 0 M141.885 122.118 Q145.242 122.836 147.117 125.104 Q149.015 127.373 149.015 130.706 Q149.015 135.822 145.496 138.623 Q141.978 141.423 135.496 141.423 Q133.32 141.423 131.006 140.984 Q128.714 140.567 126.26 139.71 L126.26 135.197 Q128.205 136.331 130.519 136.91 Q132.834 137.488 135.357 137.488 Q139.755 137.488 142.047 135.752 Q144.362 134.016 144.362 130.706 Q144.362 127.65 142.209 125.937 Q140.08 124.201 136.26 124.201 L132.232 124.201 L132.232 120.359 L136.445 120.359 Q139.894 120.359 141.723 118.993 Q143.552 117.604 143.552 115.012 Q143.552 112.35 141.654 110.937 Q139.779 109.502 136.26 109.502 Q134.339 109.502 132.14 109.919 Q129.941 110.336 127.302 111.215 L127.302 107.049 Q129.964 106.308 132.279 105.937 Q134.617 105.567 136.677 105.567 Q142.001 105.567 145.103 107.998 Q148.204 110.405 148.204 114.525 Q148.204 117.396 146.561 119.386 Q144.917 121.354 141.885 122.118 Z\" fill=\"#000000\" fill-rule=\"evenodd\" fill-opacity=\"1\" /><path clip-path=\"url(#clip320)\" d=\"M 0 0 M164.084 109.271 Q160.473 109.271 158.644 112.836 Q156.839 116.377 156.839 123.507 Q156.839 130.613 158.644 134.178 Q160.473 137.72 164.084 137.72 Q167.718 137.72 169.524 134.178 Q171.353 130.613 171.353 123.507 Q171.353 116.377 169.524 112.836 Q167.718 109.271 164.084 109.271 M164.084 105.567 Q169.894 105.567 172.95 110.174 Q176.028 114.757 176.028 123.507 Q176.028 132.234 172.95 136.84 Q169.894 141.423 164.084 141.423 Q158.274 141.423 155.195 136.84 Q152.14 132.234 152.14 123.507 Q152.14 114.757 155.195 110.174 Q158.274 105.567 164.084 105.567 Z\" fill=\"#000000\" fill-rule=\"evenodd\" fill-opacity=\"1\" /><path clip-path=\"url(#clip320)\" d=\"M 0 0 M1107.47 20.1573 L1096.37 50.2555 L1118.61 50.2555 L1107.47 20.1573 M1102.85 12.096 L1112.13 12.096 L1135.18 72.576 L1126.67 72.576 L1121.16 57.061 L1093.9 57.061 L1088.39 72.576 L1079.76 72.576 L1102.85 12.096 Z\" fill=\"#000000\" fill-rule=\"evenodd\" fill-opacity=\"1\" /><path clip-path=\"url(#clip320)\" d=\"M 0 0 M1143 9.54393 L1150.45 9.54393 L1150.45 72.576 L1143 72.576 L1143 9.54393 Z\" fill=\"#000000\" fill-rule=\"evenodd\" fill-opacity=\"1\" /><path clip-path=\"url(#clip320)\" d=\"M 0 0 M1158.27 9.54393 L1165.72 9.54393 L1165.72 72.576 L1158.27 72.576 L1158.27 9.54393 Z\" fill=\"#000000\" fill-rule=\"evenodd\" fill-opacity=\"1\" /><path clip-path=\"url(#clip320)\" d=\"M 0 0 M1236.49 14.0809 L1236.49 22.0612 Q1231.83 19.8332 1227.7 18.7395 Q1223.57 17.6457 1219.72 17.6457 Q1213.04 17.6457 1209.39 20.2383 Q1205.78 22.8309 1205.78 27.611 Q1205.78 31.6214 1208.17 33.6873 Q1210.61 35.7128 1217.33 36.9686 L1222.27 37.9813 Q1231.43 39.7232 1235.76 44.1387 Q1240.14 48.5136 1240.14 55.8863 Q1240.14 64.6767 1234.22 69.2137 Q1228.35 73.7508 1216.97 73.7508 Q1212.67 73.7508 1207.81 72.7785 Q1202.99 71.8063 1197.8 69.9024 L1197.8 61.4765 Q1202.79 64.2716 1207.57 65.6895 Q1212.35 67.1073 1216.97 67.1073 Q1223.97 67.1073 1227.78 64.3527 Q1231.59 61.598 1231.59 56.4939 Q1231.59 52.0379 1228.83 49.5264 Q1226.12 47.0148 1219.88 45.759 L1214.9 44.7868 Q1205.74 42.9639 1201.65 39.075 Q1197.56 35.1862 1197.56 28.2591 Q1197.56 20.2383 1203.19 15.6203 Q1208.86 11.0023 1218.79 11.0023 Q1223.04 11.0023 1227.46 11.7719 Q1231.87 12.5416 1236.49 14.0809 Z\" fill=\"#000000\" fill-rule=\"evenodd\" fill-opacity=\"1\" /><path clip-path=\"url(#clip320)\" d=\"M 0 0 M1280.61 28.9478 L1280.61 35.9153 Q1277.45 34.1734 1274.25 33.3227 Q1271.09 32.4315 1267.84 32.4315 Q1260.59 32.4315 1256.58 37.0496 Q1252.57 41.6271 1252.57 49.9314 Q1252.57 58.2358 1256.58 62.8538 Q1260.59 67.4314 1267.84 67.4314 Q1271.09 67.4314 1274.25 66.5807 Q1277.45 65.6895 1280.61 63.9476 L1280.61 70.8341 Q1277.49 72.2924 1274.12 73.0216 Q1270.8 73.7508 1267.03 73.7508 Q1256.79 73.7508 1250.75 67.3098 Q1244.71 60.8689 1244.71 49.9314 Q1244.71 38.832 1250.79 32.472 Q1256.91 26.1121 1267.52 26.1121 Q1270.96 26.1121 1274.25 26.8413 Q1277.53 27.5299 1280.61 28.9478 Z\" fill=\"#000000\" fill-rule=\"evenodd\" fill-opacity=\"1\" /><path clip-path=\"url(#clip320)\" d=\"M 0 0 M1326.14 45.1919 L1326.14 72.576 L1318.68 72.576 L1318.68 45.4349 Q1318.68 38.994 1316.17 35.7938 Q1313.66 32.5936 1308.64 32.5936 Q1302.6 32.5936 1299.12 36.4419 Q1295.63 40.2903 1295.63 46.9338 L1295.63 72.576 L1288.14 72.576 L1288.14 9.54393 L1295.63 9.54393 L1295.63 34.2544 Q1298.31 30.163 1301.91 28.1376 Q1305.56 26.1121 1310.3 26.1121 Q1318.12 26.1121 1322.13 30.9732 Q1326.14 35.7938 1326.14 45.1919 Z\" fill=\"#000000\" fill-rule=\"evenodd\" fill-opacity=\"1\" /><path clip-path=\"url(#clip320)\" d=\"M 0 0 M1351.54 32.4315 Q1345.54 32.4315 1342.06 37.1306 Q1338.57 41.7891 1338.57 49.9314 Q1338.57 58.0738 1342.02 62.7728 Q1345.5 67.4314 1351.54 67.4314 Q1357.49 67.4314 1360.98 62.7323 Q1364.46 58.0333 1364.46 49.9314 Q1364.46 41.8701 1360.98 37.1711 Q1357.49 32.4315 1351.54 32.4315 M1351.54 26.1121 Q1361.26 26.1121 1366.81 32.4315 Q1372.36 38.7509 1372.36 49.9314 Q1372.36 61.0714 1366.81 67.4314 Q1361.26 73.7508 1351.54 73.7508 Q1341.77 73.7508 1336.22 67.4314 Q1330.71 61.0714 1330.71 49.9314 Q1330.71 38.7509 1336.22 32.4315 Q1341.77 26.1121 1351.54 26.1121 Z\" fill=\"#000000\" fill-rule=\"evenodd\" fill-opacity=\"1\" /><path clip-path=\"url(#clip320)\" d=\"M 0 0 M1397.76 32.4315 Q1391.76 32.4315 1388.28 37.1306 Q1384.79 41.7891 1384.79 49.9314 Q1384.79 58.0738 1388.24 62.7728 Q1391.72 67.4314 1397.76 67.4314 Q1403.71 67.4314 1407.2 62.7323 Q1410.68 58.0333 1410.68 49.9314 Q1410.68 41.8701 1407.2 37.1711 Q1403.71 32.4315 1397.76 32.4315 M1397.76 26.1121 Q1407.48 26.1121 1413.03 32.4315 Q1418.58 38.7509 1418.58 49.9314 Q1418.58 61.0714 1413.03 67.4314 Q1407.48 73.7508 1397.76 73.7508 Q1387.99 73.7508 1382.44 67.4314 Q1376.94 61.0714 1376.94 49.9314 Q1376.94 38.7509 1382.44 32.4315 Q1387.99 26.1121 1397.76 26.1121 Z\" fill=\"#000000\" fill-rule=\"evenodd\" fill-opacity=\"1\" /><path clip-path=\"url(#clip320)\" d=\"M 0 0 M1426.4 9.54393 L1433.85 9.54393 L1433.85 72.576 L1426.4 72.576 L1426.4 9.54393 Z\" fill=\"#000000\" fill-rule=\"evenodd\" fill-opacity=\"1\" /><path clip-path=\"url(#clip320)\" d=\"M 0 0 M1470.59 28.5427 L1470.59 35.5912 Q1467.43 33.9709 1464.03 33.1607 Q1460.63 32.3505 1456.98 32.3505 Q1451.43 32.3505 1448.64 34.0519 Q1445.88 35.7533 1445.88 39.156 Q1445.88 41.7486 1447.87 43.2475 Q1449.85 44.7058 1455.85 46.0426 L1458.4 46.6097 Q1466.34 48.3111 1469.66 51.4303 Q1473.02 54.509 1473.02 60.0587 Q1473.02 66.3781 1468 70.0644 Q1463.02 73.7508 1454.27 73.7508 Q1450.62 73.7508 1446.65 73.0216 Q1442.72 72.3329 1438.35 70.9151 L1438.35 63.2184 Q1442.48 65.3654 1446.49 66.4591 Q1450.5 67.5124 1454.43 67.5124 Q1459.7 67.5124 1462.53 65.73 Q1465.37 63.9071 1465.37 60.6258 Q1465.37 57.5877 1463.3 55.9673 Q1461.28 54.3469 1454.35 52.8481 L1451.76 52.2405 Q1444.83 50.7821 1441.75 47.7845 Q1438.67 44.7463 1438.67 39.4801 Q1438.67 33.0797 1443.21 29.5959 Q1447.75 26.1121 1456.09 26.1121 Q1460.22 26.1121 1463.87 26.7198 Q1467.51 27.3274 1470.59 28.5427 Z\" fill=\"#000000\" fill-rule=\"evenodd\" fill-opacity=\"1\" /><path clip-path=\"url(#clip320)\" d=\"M 0 0 M999.977 1521.76 L999.977 1527.24 Q997.495 1525.87 994.98 1525.2 Q992.498 1524.5 989.951 1524.5 Q984.254 1524.5 981.103 1528.13 Q977.952 1531.73 977.952 1538.25 Q977.952 1544.78 981.103 1548.4 Q984.254 1552 989.951 1552 Q992.498 1552 994.98 1551.33 Q997.495 1550.63 999.977 1549.26 L999.977 1554.68 Q997.526 1555.82 994.885 1556.39 Q992.275 1556.97 989.315 1556.97 Q981.262 1556.97 976.52 1551.91 Q971.777 1546.85 971.777 1538.25 Q971.777 1529.53 976.551 1524.53 Q981.358 1519.54 989.697 1519.54 Q992.402 1519.54 994.98 1520.11 Q997.558 1520.65 999.977 1521.76 Z\" fill=\"#000000\" fill-rule=\"evenodd\" fill-opacity=\"1\" /><path clip-path=\"url(#clip320)\" d=\"M 0 0 M1005.52 1541.98 L1005.52 1520.4 L1011.37 1520.4 L1011.37 1541.75 Q1011.37 1546.81 1013.35 1549.36 Q1015.32 1551.87 1019.27 1551.87 Q1024.01 1551.87 1026.75 1548.85 Q1029.51 1545.83 1029.51 1540.61 L1029.51 1520.4 L1035.37 1520.4 L1035.37 1556.04 L1029.51 1556.04 L1029.51 1550.57 Q1027.38 1553.82 1024.55 1555.41 Q1021.75 1556.97 1018.02 1556.97 Q1011.88 1556.97 1008.7 1553.15 Q1005.52 1549.33 1005.52 1541.98 M1020.25 1519.54 L1020.25 1519.54 Z\" fill=\"#000000\" fill-rule=\"evenodd\" fill-opacity=\"1\" /><path clip-path=\"url(#clip320)\" d=\"M 0 0 M1062.17 1525.87 Q1061.18 1525.3 1060.01 1525.04 Q1058.86 1524.76 1057.46 1524.76 Q1052.49 1524.76 1049.82 1528 Q1047.18 1531.22 1047.18 1537.27 L1047.18 1556.04 L1041.29 1556.04 L1041.29 1520.4 L1047.18 1520.4 L1047.18 1525.93 Q1049.03 1522.69 1051.99 1521.13 Q1054.95 1519.54 1059.18 1519.54 Q1059.78 1519.54 1060.52 1519.63 Q1061.25 1519.7 1062.14 1519.85 L1062.17 1525.87 Z\" fill=\"#000000\" fill-rule=\"evenodd\" fill-opacity=\"1\" /><path clip-path=\"url(#clip320)\" d=\"M 0 0 M1087.82 1525.87 Q1086.84 1525.3 1085.66 1525.04 Q1084.51 1524.76 1083.11 1524.76 Q1078.15 1524.76 1075.47 1528 Q1072.83 1531.22 1072.83 1537.27 L1072.83 1556.04 L1066.94 1556.04 L1066.94 1520.4 L1072.83 1520.4 L1072.83 1525.93 Q1074.68 1522.69 1077.64 1521.13 Q1080.6 1519.54 1084.83 1519.54 Q1085.44 1519.54 1086.17 1519.63 Q1086.9 1519.7 1087.79 1519.85 L1087.82 1525.87 Z\" fill=\"#000000\" fill-rule=\"evenodd\" fill-opacity=\"1\" /><path clip-path=\"url(#clip320)\" d=\"M 0 0 M1093.97 1520.4 L1099.82 1520.4 L1099.82 1556.04 L1093.97 1556.04 L1093.97 1520.4 M1093.97 1506.52 L1099.82 1506.52 L1099.82 1513.93 L1093.97 1513.93 L1093.97 1506.52 Z\" fill=\"#000000\" fill-rule=\"evenodd\" fill-opacity=\"1\" /><path clip-path=\"url(#clip320)\" d=\"M 0 0 M1131.62 1521.76 L1131.62 1527.24 Q1129.14 1525.87 1126.62 1525.2 Q1124.14 1524.5 1121.59 1524.5 Q1115.9 1524.5 1112.75 1528.13 Q1109.59 1531.73 1109.59 1538.25 Q1109.59 1544.78 1112.75 1548.4 Q1115.9 1552 1121.59 1552 Q1124.14 1552 1126.62 1551.33 Q1129.14 1550.63 1131.62 1549.26 L1131.62 1554.68 Q1129.17 1555.82 1126.53 1556.39 Q1123.92 1556.97 1120.96 1556.97 Q1112.9 1556.97 1108.16 1551.91 Q1103.42 1546.85 1103.42 1538.25 Q1103.42 1529.53 1108.19 1524.53 Q1113 1519.54 1121.34 1519.54 Q1124.04 1519.54 1126.62 1520.11 Q1129.2 1520.65 1131.62 1521.76 Z\" fill=\"#000000\" fill-rule=\"evenodd\" fill-opacity=\"1\" /><path clip-path=\"url(#clip320)\" d=\"M 0 0 M1137.16 1541.98 L1137.16 1520.4 L1143.01 1520.4 L1143.01 1541.75 Q1143.01 1546.81 1144.99 1549.36 Q1146.96 1551.87 1150.91 1551.87 Q1155.65 1551.87 1158.39 1548.85 Q1161.16 1545.83 1161.16 1540.61 L1161.16 1520.4 L1167.01 1520.4 L1167.01 1556.04 L1161.16 1556.04 L1161.16 1550.57 Q1159.02 1553.82 1156.19 1555.41 Q1153.39 1556.97 1149.67 1556.97 Q1143.52 1556.97 1140.34 1553.15 Q1137.16 1549.33 1137.16 1541.98 M1151.89 1519.54 L1151.89 1519.54 Z\" fill=\"#000000\" fill-rule=\"evenodd\" fill-opacity=\"1\" /><path clip-path=\"url(#clip320)\" d=\"M 0 0 M1173.16 1506.52 L1179.01 1506.52 L1179.01 1556.04 L1173.16 1556.04 L1173.16 1506.52 Z\" fill=\"#000000\" fill-rule=\"evenodd\" fill-opacity=\"1\" /><path clip-path=\"url(#clip320)\" d=\"M 0 0 M1201.36 1538.12 Q1194.26 1538.12 1191.52 1539.75 Q1188.78 1541.37 1188.78 1545.29 Q1188.78 1548.4 1190.82 1550.25 Q1192.89 1552.07 1196.42 1552.07 Q1201.29 1552.07 1204.22 1548.63 Q1207.18 1545.16 1207.18 1539.43 L1207.18 1538.12 L1201.36 1538.12 M1213.04 1535.71 L1213.04 1556.04 L1207.18 1556.04 L1207.18 1550.63 Q1205.18 1553.88 1202.18 1555.44 Q1199.19 1556.97 1194.86 1556.97 Q1189.39 1556.97 1186.14 1553.91 Q1182.93 1550.82 1182.93 1545.67 Q1182.93 1539.65 1186.94 1536.6 Q1190.98 1533.54 1198.97 1533.54 L1207.18 1533.54 L1207.18 1532.97 Q1207.18 1528.93 1204.51 1526.73 Q1201.87 1524.5 1197.06 1524.5 Q1194 1524.5 1191.11 1525.23 Q1188.21 1525.97 1185.54 1527.43 L1185.54 1522.02 Q1188.75 1520.78 1191.78 1520.17 Q1194.8 1519.54 1197.66 1519.54 Q1205.4 1519.54 1209.22 1523.55 Q1213.04 1527.56 1213.04 1535.71 Z\" fill=\"#000000\" fill-rule=\"evenodd\" fill-opacity=\"1\" /><path clip-path=\"url(#clip320)\" d=\"M 0 0 M1239.84 1525.87 Q1238.85 1525.3 1237.67 1525.04 Q1236.53 1524.76 1235.13 1524.76 Q1230.16 1524.76 1227.49 1528 Q1224.85 1531.22 1224.85 1537.27 L1224.85 1556.04 L1218.96 1556.04 L1218.96 1520.4 L1224.85 1520.4 L1224.85 1525.93 Q1226.69 1522.69 1229.65 1521.13 Q1232.61 1519.54 1236.85 1519.54 Q1237.45 1519.54 1238.18 1519.63 Q1238.91 1519.7 1239.81 1519.85 L1239.84 1525.87 Z\" fill=\"#000000\" fill-rule=\"evenodd\" fill-opacity=\"1\" /><path clip-path=\"url(#clip320)\" d=\"M 0 0 M1292.35 1521.76 L1292.35 1527.24 Q1289.87 1525.87 1287.36 1525.2 Q1284.87 1524.5 1282.33 1524.5 Q1276.63 1524.5 1273.48 1528.13 Q1270.33 1531.73 1270.33 1538.25 Q1270.33 1544.78 1273.48 1548.4 Q1276.63 1552 1282.33 1552 Q1284.87 1552 1287.36 1551.33 Q1289.87 1550.63 1292.35 1549.26 L1292.35 1554.68 Q1289.9 1555.82 1287.26 1556.39 Q1284.65 1556.97 1281.69 1556.97 Q1273.64 1556.97 1268.9 1551.91 Q1264.15 1546.85 1264.15 1538.25 Q1264.15 1529.53 1268.93 1524.53 Q1273.73 1519.54 1282.07 1519.54 Q1284.78 1519.54 1287.36 1520.11 Q1289.94 1520.65 1292.35 1521.76 Z\" fill=\"#000000\" fill-rule=\"evenodd\" fill-opacity=\"1\" /><path clip-path=\"url(#clip320)\" d=\"M 0 0 M1312.31 1524.5 Q1307.6 1524.5 1304.86 1528.19 Q1302.13 1531.85 1302.13 1538.25 Q1302.13 1544.65 1304.83 1548.34 Q1307.57 1552 1312.31 1552 Q1316.99 1552 1319.73 1548.31 Q1322.46 1544.62 1322.46 1538.25 Q1322.46 1531.92 1319.73 1528.23 Q1316.99 1524.5 1312.31 1524.5 M1312.31 1519.54 Q1319.95 1519.54 1324.31 1524.5 Q1328.67 1529.47 1328.67 1538.25 Q1328.67 1547 1324.31 1552 Q1319.95 1556.97 1312.31 1556.97 Q1304.64 1556.97 1300.28 1552 Q1295.95 1547 1295.95 1538.25 Q1295.95 1529.47 1300.28 1524.5 Q1304.64 1519.54 1312.31 1519.54 Z\" fill=\"#000000\" fill-rule=\"evenodd\" fill-opacity=\"1\" /><path clip-path=\"url(#clip320)\" d=\"M 0 0 M1362.57 1527.24 Q1364.76 1523.29 1367.82 1521.41 Q1370.88 1519.54 1375.01 1519.54 Q1380.58 1519.54 1383.61 1523.45 Q1386.63 1527.33 1386.63 1534.53 L1386.63 1556.04 L1380.74 1556.04 L1380.74 1534.72 Q1380.74 1529.59 1378.93 1527.11 Q1377.11 1524.63 1373.39 1524.63 Q1368.84 1524.63 1366.2 1527.65 Q1363.55 1530.68 1363.55 1535.9 L1363.55 1556.04 L1357.67 1556.04 L1357.67 1534.72 Q1357.67 1529.56 1355.85 1527.11 Q1354.04 1524.63 1350.25 1524.63 Q1345.76 1524.63 1343.12 1527.68 Q1340.48 1530.71 1340.48 1535.9 L1340.48 1556.04 L1334.59 1556.04 L1334.59 1520.4 L1340.48 1520.4 L1340.48 1525.93 Q1342.48 1522.66 1345.29 1521.1 Q1348.09 1519.54 1351.94 1519.54 Q1355.82 1519.54 1358.53 1521.51 Q1361.26 1523.48 1362.57 1527.24 Z\" fill=\"#000000\" fill-rule=\"evenodd\" fill-opacity=\"1\" /><path clip-path=\"url(#clip320)\" d=\"M 0 0 M1398.44 1550.7 L1398.44 1569.6 L1392.55 1569.6 L1392.55 1520.4 L1398.44 1520.4 L1398.44 1525.81 Q1400.28 1522.62 1403.09 1521.1 Q1405.92 1519.54 1409.83 1519.54 Q1416.33 1519.54 1420.37 1524.69 Q1424.44 1529.85 1424.44 1538.25 Q1424.44 1546.65 1420.37 1551.81 Q1416.33 1556.97 1409.83 1556.97 Q1405.92 1556.97 1403.09 1555.44 Q1400.28 1553.88 1398.44 1550.7 M1418.36 1538.25 Q1418.36 1531.79 1415.69 1528.13 Q1413.05 1524.44 1408.4 1524.44 Q1403.75 1524.44 1401.08 1528.13 Q1398.44 1531.79 1398.44 1538.25 Q1398.44 1544.71 1401.08 1548.4 Q1403.75 1552.07 1408.4 1552.07 Q1413.05 1552.07 1415.69 1548.4 Q1418.36 1544.71 1418.36 1538.25 Z\" fill=\"#000000\" fill-rule=\"evenodd\" fill-opacity=\"1\" /><path clip-path=\"url(#clip320)\" d=\"M 0 0 M1430.59 1506.52 L1436.44 1506.52 L1436.44 1556.04 L1430.59 1556.04 L1430.59 1506.52 Z\" fill=\"#000000\" fill-rule=\"evenodd\" fill-opacity=\"1\" /><path clip-path=\"url(#clip320)\" d=\"M 0 0 M1473.08 1536.76 L1473.08 1539.62 L1446.15 1539.62 Q1446.53 1545.67 1449.78 1548.85 Q1453.06 1552 1458.88 1552 Q1462.25 1552 1465.41 1551.17 Q1468.59 1550.35 1471.71 1548.69 L1471.71 1554.23 Q1468.56 1555.57 1465.25 1556.27 Q1461.94 1556.97 1458.53 1556.97 Q1450 1556.97 1445 1552 Q1440.04 1547.04 1440.04 1538.57 Q1440.04 1529.82 1444.75 1524.69 Q1449.49 1519.54 1457.51 1519.54 Q1464.71 1519.54 1468.88 1524.18 Q1473.08 1528.8 1473.08 1536.76 M1467.22 1535.04 Q1467.16 1530.23 1464.51 1527.37 Q1461.9 1524.5 1457.58 1524.5 Q1452.67 1524.5 1449.71 1527.27 Q1446.79 1530.04 1446.34 1535.07 L1467.22 1535.04 Z\" fill=\"#000000\" fill-rule=\"evenodd\" fill-opacity=\"1\" /><path clip-path=\"url(#clip320)\" d=\"M 0 0 M1507.71 1520.4 L1494.82 1537.74 L1508.37 1556.04 L1501.47 1556.04 L1491.09 1542.04 L1480.72 1556.04 L1473.81 1556.04 L1487.65 1537.39 L1474.99 1520.4 L1481.89 1520.4 L1491.35 1533.1 L1500.8 1520.4 L1507.71 1520.4 Z\" fill=\"#000000\" fill-rule=\"evenodd\" fill-opacity=\"1\" /><path clip-path=\"url(#clip320)\" d=\"M 0 0 M1514.52 1520.4 L1520.37 1520.4 L1520.37 1556.04 L1514.52 1556.04 L1514.52 1520.4 M1514.52 1506.52 L1520.37 1506.52 L1520.37 1513.93 L1514.52 1513.93 L1514.52 1506.52 Z\" fill=\"#000000\" fill-rule=\"evenodd\" fill-opacity=\"1\" /><path clip-path=\"url(#clip320)\" d=\"M 0 0 M1532.31 1510.27 L1532.31 1520.4 L1544.37 1520.4 L1544.37 1524.95 L1532.31 1524.95 L1532.31 1544.3 Q1532.31 1548.66 1533.49 1549.9 Q1534.7 1551.14 1538.36 1551.14 L1544.37 1551.14 L1544.37 1556.04 L1538.36 1556.04 Q1531.58 1556.04 1529 1553.53 Q1526.42 1550.98 1526.42 1544.3 L1526.42 1524.95 L1522.12 1524.95 L1522.12 1520.4 L1526.42 1520.4 L1526.42 1510.27 L1532.31 1510.27 Z\" fill=\"#000000\" fill-rule=\"evenodd\" fill-opacity=\"1\" /><path clip-path=\"url(#clip320)\" d=\"M 0 0 M1565.35 1559.35 Q1562.86 1565.72 1560.51 1567.66 Q1558.15 1569.6 1554.21 1569.6 L1549.53 1569.6 L1549.53 1564.7 L1552.97 1564.7 Q1555.39 1564.7 1556.72 1563.56 Q1558.06 1562.41 1559.68 1558.14 L1560.73 1555.47 L1546.31 1520.4 L1552.52 1520.4 L1563.66 1548.28 L1574.8 1520.4 L1581.01 1520.4 L1565.35 1559.35 Z\" fill=\"#000000\" fill-rule=\"evenodd\" fill-opacity=\"1\" /><path clip-path=\"url(#clip320)\" d=\"M 0 0 M59.3266 884.567 L59.3266 893.829 L69.9574 896.502 L69.9574 887.177 L59.3266 884.567 M41.2162 889.341 L54.4251 892.651 L54.4251 883.357 L41.2162 880.015 L41.2162 874.923 L54.4251 878.201 L54.4251 868.27 L59.3266 868.27 L59.3266 879.442 L69.9574 882.052 L69.9574 871.931 L74.8271 871.931 L74.8271 883.294 L88.0042 886.604 L88.0042 891.696 L74.8271 888.418 L74.8271 897.744 L88.0042 901.022 L88.0042 906.146 L74.8271 902.836 L74.8271 912.862 L69.9574 912.862 L69.9574 901.659 L59.3266 898.985 L59.3266 909.234 L54.4251 909.234 L54.4251 897.744 L41.2162 894.497 L41.2162 889.341 Z\" fill=\"#000000\" fill-rule=\"evenodd\" fill-opacity=\"1\" /><path clip-path=\"url(#clip320)\" d=\"M 0 0 M53.4065 818.682 L58.9447 818.682 Q57.6716 821.164 57.035 823.838 Q56.3984 826.511 56.3984 829.376 Q56.3984 833.737 57.7352 835.933 Q59.072 838.097 61.7456 838.097 Q63.7826 838.097 64.9603 836.537 Q66.1061 834.978 67.1565 830.267 L67.6021 828.262 Q68.9389 822.024 71.3897 819.414 Q73.8086 816.772 78.1691 816.772 Q83.1344 816.772 86.0308 820.719 Q88.9272 824.634 88.9272 831.509 Q88.9272 834.373 88.3543 837.492 Q87.8132 840.58 86.6992 844.017 L80.6518 844.017 Q82.3387 840.771 83.198 837.62 Q84.0256 834.469 84.0256 831.381 Q84.0256 827.244 82.6251 825.016 Q81.1929 822.788 78.6147 822.788 Q76.2276 822.788 74.9545 824.411 Q73.6813 826.002 72.5037 831.445 L72.0262 833.482 Q70.8804 838.925 68.5251 841.344 Q66.138 843.763 62.0002 843.763 Q56.9713 843.763 54.2341 840.198 Q51.4968 836.633 51.4968 830.076 Q51.4968 826.83 51.9743 823.965 Q52.4517 821.101 53.4065 818.682 Z\" fill=\"#000000\" fill-rule=\"evenodd\" fill-opacity=\"1\" /><path clip-path=\"url(#clip320)\" d=\"M 0 0 M53.7248 784.975 L59.1993 784.975 Q57.8307 787.458 57.1623 789.972 Q56.4621 792.455 56.4621 795.001 Q56.4621 800.699 60.0905 803.85 Q63.6872 807.001 70.212 807.001 Q76.7369 807.001 80.3653 803.85 Q83.9619 800.699 83.9619 795.001 Q83.9619 792.455 83.2935 789.972 Q82.5933 787.458 81.2247 784.975 L86.6355 784.975 Q87.7814 787.426 88.3543 790.068 Q88.9272 792.678 88.9272 795.638 Q88.9272 803.69 83.8664 808.433 Q78.8057 813.175 70.212 813.175 Q61.491 813.175 56.4939 808.401 Q51.4968 803.595 51.4968 795.256 Q51.4968 792.55 52.0697 789.972 Q52.6108 787.394 53.7248 784.975 Z\" fill=\"#000000\" fill-rule=\"evenodd\" fill-opacity=\"1\" /><path clip-path=\"url(#clip320)\" d=\"M 0 0 M66.4881 749.2 L88.0042 749.2 L88.0042 755.056 L66.679 755.056 Q61.6183 755.056 59.1038 757.03 Q56.5894 759.003 56.5894 762.95 Q56.5894 767.692 59.6131 770.43 Q62.6368 773.167 67.8567 773.167 L88.0042 773.167 L88.0042 779.055 L38.479 779.055 L38.479 773.167 L57.8944 773.167 Q54.6797 771.066 53.0883 768.233 Q51.4968 765.369 51.4968 761.645 Q51.4968 755.502 55.3163 752.351 Q59.1038 749.2 66.4881 749.2 Z\" fill=\"#000000\" fill-rule=\"evenodd\" fill-opacity=\"1\" /><path clip-path=\"url(#clip320)\" d=\"M 0 0 M56.4621 729.243 Q56.4621 733.954 60.1542 736.691 Q63.8145 739.429 70.212 739.429 Q76.6095 739.429 80.3017 736.723 Q83.9619 733.986 83.9619 729.243 Q83.9619 724.565 80.2698 721.827 Q76.5777 719.09 70.212 719.09 Q63.8781 719.09 60.186 721.827 Q56.4621 724.565 56.4621 729.243 M51.4968 729.243 Q51.4968 721.605 56.4621 717.244 Q61.4273 712.884 70.212 712.884 Q78.9649 712.884 83.9619 717.244 Q88.9272 721.605 88.9272 729.243 Q88.9272 736.914 83.9619 741.275 Q78.9649 745.603 70.212 745.603 Q61.4273 745.603 56.4621 741.275 Q51.4968 736.914 51.4968 729.243 Z\" fill=\"#000000\" fill-rule=\"evenodd\" fill-opacity=\"1\" /><path clip-path=\"url(#clip320)\" d=\"M 0 0 M56.4621 692.927 Q56.4621 697.638 60.1542 700.375 Q63.8145 703.112 70.212 703.112 Q76.6095 703.112 80.3017 700.407 Q83.9619 697.67 83.9619 692.927 Q83.9619 688.248 80.2698 685.511 Q76.5777 682.774 70.212 682.774 Q63.8781 682.774 60.186 685.511 Q56.4621 688.248 56.4621 692.927 M51.4968 692.927 Q51.4968 685.288 56.4621 680.928 Q61.4273 676.567 70.212 676.567 Q78.9649 676.567 83.9619 680.928 Q88.9272 685.288 88.9272 692.927 Q88.9272 700.598 83.9619 704.958 Q78.9649 709.287 70.212 709.287 Q61.4273 709.287 56.4621 704.958 Q51.4968 700.598 51.4968 692.927 Z\" fill=\"#000000\" fill-rule=\"evenodd\" fill-opacity=\"1\" /><path clip-path=\"url(#clip320)\" d=\"M 0 0 M38.479 670.424 L38.479 664.568 L88.0042 664.568 L88.0042 670.424 L38.479 670.424 Z\" fill=\"#000000\" fill-rule=\"evenodd\" fill-opacity=\"1\" /><path clip-path=\"url(#clip320)\" d=\"M 0 0 M53.4065 635.699 L58.9447 635.699 Q57.6716 638.182 57.035 640.856 Q56.3984 643.529 56.3984 646.394 Q56.3984 650.754 57.7352 652.95 Q59.072 655.115 61.7456 655.115 Q63.7826 655.115 64.9603 653.555 Q66.1061 651.996 67.1565 647.285 L67.6021 645.28 Q68.9389 639.041 71.3897 636.431 Q73.8086 633.79 78.1691 633.79 Q83.1344 633.79 86.0308 637.736 Q88.9272 641.651 88.9272 648.526 Q88.9272 651.391 88.3543 654.51 Q87.8132 657.597 86.6992 661.035 L80.6518 661.035 Q82.3387 657.788 83.198 654.637 Q84.0256 651.486 84.0256 648.399 Q84.0256 644.261 82.6251 642.033 Q81.1929 639.805 78.6147 639.805 Q76.2276 639.805 74.9545 641.429 Q73.6813 643.02 72.5037 648.463 L72.0262 650.5 Q70.8804 655.942 68.5251 658.361 Q66.138 660.78 62.0002 660.78 Q56.9713 660.78 54.2341 657.215 Q51.4968 653.651 51.4968 647.094 Q51.4968 643.848 51.9743 640.983 Q52.4517 638.118 53.4065 635.699 Z\" fill=\"#000000\" fill-rule=\"evenodd\" fill-opacity=\"1\" /><path clip-path=\"url(#clip322)\" d=\"\n",
       "M558.816 686.679 L558.816 1423.18 L917.604 1423.18 L917.604 686.679 L558.816 686.679 L558.816 686.679  Z\n",
       "  \" fill=\"#1874cd\" fill-rule=\"evenodd\" fill-opacity=\"0.7\"/>\n",
       "<polyline clip-path=\"url(#clip322)\" style=\"stroke:#000000; stroke-width:4; stroke-opacity:0.7; fill:none\" points=\"\n",
       "  558.816,686.679 558.816,1423.18 917.604,1423.18 917.604,686.679 558.816,686.679 \n",
       "  \"/>\n",
       "<path clip-path=\"url(#clip322)\" d=\"\n",
       "M917.604 470.061 L917.604 1423.18 L1276.39 1423.18 L1276.39 470.061 L917.604 470.061 L917.604 470.061  Z\n",
       "  \" fill=\"#1874cd\" fill-rule=\"evenodd\" fill-opacity=\"0.7\"/>\n",
       "<polyline clip-path=\"url(#clip322)\" style=\"stroke:#000000; stroke-width:4; stroke-opacity:0.7; fill:none\" points=\"\n",
       "  917.604,470.061 917.604,1423.18 1276.39,1423.18 1276.39,470.061 917.604,470.061 \n",
       "  \"/>\n",
       "<path clip-path=\"url(#clip322)\" d=\"\n",
       "M1276.39 816.65 L1276.39 1423.18 L1635.18 1423.18 L1635.18 816.65 L1276.39 816.65 L1276.39 816.65  Z\n",
       "  \" fill=\"#1874cd\" fill-rule=\"evenodd\" fill-opacity=\"0.7\"/>\n",
       "<polyline clip-path=\"url(#clip322)\" style=\"stroke:#000000; stroke-width:4; stroke-opacity:0.7; fill:none\" points=\"\n",
       "  1276.39,816.65 1276.39,1423.18 1635.18,1423.18 1635.18,816.65 1276.39,816.65 \n",
       "  \"/>\n",
       "<path clip-path=\"url(#clip322)\" d=\"\n",
       "M1635.18 1293.21 L1635.18 1423.18 L1993.97 1423.18 L1993.97 1293.21 L1635.18 1293.21 L1635.18 1293.21  Z\n",
       "  \" fill=\"#1874cd\" fill-rule=\"evenodd\" fill-opacity=\"0.7\"/>\n",
       "<polyline clip-path=\"url(#clip322)\" style=\"stroke:#000000; stroke-width:4; stroke-opacity:0.7; fill:none\" points=\"\n",
       "  1635.18,1293.21 1635.18,1423.18 1993.97,1423.18 1993.97,1293.21 1635.18,1293.21 \n",
       "  \"/>\n",
       "<path clip-path=\"url(#clip322)\" d=\"\n",
       "M1993.97 1249.89 L1993.97 1423.18 L2352.76 1423.18 L2352.76 1249.89 L1993.97 1249.89 L1993.97 1249.89  Z\n",
       "  \" fill=\"#1874cd\" fill-rule=\"evenodd\" fill-opacity=\"0.7\"/>\n",
       "<polyline clip-path=\"url(#clip322)\" style=\"stroke:#000000; stroke-width:4; stroke-opacity:0.7; fill:none\" points=\"\n",
       "  1993.97,1249.89 1993.97,1423.18 2352.76,1423.18 2352.76,1249.89 1993.97,1249.89 \n",
       "  \"/>\n",
       "</svg>\n"
      ]
     },
     "execution_count": 26,
     "metadata": {},
     "output_type": "execute_result"
    }
   ],
   "source": [
    "total_cc = bottom_tier_total_cc + middle_tier_total_cc + top_tier_total_cc\n",
    "avg_cc = total_cc / length([top_tier; middle_tier; bottom_tier])\n",
    "sigma = stdm([top_tier_cc; middle_tier_cc; bottom_tier_cc], avg_cc)\n",
    "println(\"Avg. curricular complexity = $(avg_cc), STD = $(sigma)\")\n",
    "metric_histogram([top_tier; middle_tier; bottom_tier], \"complexity\", nbins=5, title=\"All Schools\", xlabel=\"curricular complexity\", ylabel=\"# schools\", xlim=(0,300))"
   ]
  },
  {
   "cell_type": "markdown",
   "metadata": {},
   "source": [
    "A box-and-whisker diagram for each of the three samples, provided below, shows the differences between the various statistics associated with these samples.  The quesion we will answer using ANOVA anlaysis is whether or not these variances are statistically significant across these three tiers."
   ]
  },
  {
   "cell_type": "code",
   "execution_count": 27,
   "metadata": {},
   "outputs": [
    {
     "data": {
      "image/svg+xml": [
       "<?xml version=\"1.0\" encoding=\"utf-8\"?>\n",
       "<svg xmlns=\"http://www.w3.org/2000/svg\" xmlns:xlink=\"http://www.w3.org/1999/xlink\" width=\"600\" height=\"400\" viewBox=\"0 0 2400 1600\">\n",
       "<defs>\n",
       "  <clipPath id=\"clip360\">\n",
       "    <rect x=\"0\" y=\"0\" width=\"2400\" height=\"1600\"/>\n",
       "  </clipPath>\n",
       "</defs>\n",
       "<path clip-path=\"url(#clip360)\" d=\"\n",
       "M0 1600 L2400 1600 L2400 0 L0 0  Z\n",
       "  \" fill=\"#ffffff\" fill-rule=\"evenodd\" fill-opacity=\"1\"/>\n",
       "<defs>\n",
       "  <clipPath id=\"clip361\">\n",
       "    <rect x=\"480\" y=\"0\" width=\"1681\" height=\"1600\"/>\n",
       "  </clipPath>\n",
       "</defs>\n",
       "<path clip-path=\"url(#clip360)\" d=\"\n",
       "M226.232 1423.18 L2352.76 1423.18 L2352.76 123.472 L226.232 123.472  Z\n",
       "  \" fill=\"#ffffff\" fill-rule=\"evenodd\" fill-opacity=\"1\"/>\n",
       "<defs>\n",
       "  <clipPath id=\"clip362\">\n",
       "    <rect x=\"226\" y=\"123\" width=\"2128\" height=\"1301\"/>\n",
       "  </clipPath>\n",
       "</defs>\n",
       "<polyline clip-path=\"url(#clip362)\" style=\"stroke:#000000; stroke-width:2; stroke-opacity:0.1; fill:none\" points=\"\n",
       "  509.323,1423.18 509.323,123.472 \n",
       "  \"/>\n",
       "<polyline clip-path=\"url(#clip362)\" style=\"stroke:#000000; stroke-width:2; stroke-opacity:0.1; fill:none\" points=\"\n",
       "  1289.49,1423.18 1289.49,123.472 \n",
       "  \"/>\n",
       "<polyline clip-path=\"url(#clip362)\" style=\"stroke:#000000; stroke-width:2; stroke-opacity:0.1; fill:none\" points=\"\n",
       "  2069.67,1423.18 2069.67,123.472 \n",
       "  \"/>\n",
       "<polyline clip-path=\"url(#clip362)\" style=\"stroke:#000000; stroke-width:2; stroke-opacity:0.1; fill:none\" points=\"\n",
       "  226.232,1150.17 2352.76,1150.17 \n",
       "  \"/>\n",
       "<polyline clip-path=\"url(#clip362)\" style=\"stroke:#000000; stroke-width:2; stroke-opacity:0.1; fill:none\" points=\"\n",
       "  226.232,868.942 2352.76,868.942 \n",
       "  \"/>\n",
       "<polyline clip-path=\"url(#clip362)\" style=\"stroke:#000000; stroke-width:2; stroke-opacity:0.1; fill:none\" points=\"\n",
       "  226.232,587.718 2352.76,587.718 \n",
       "  \"/>\n",
       "<polyline clip-path=\"url(#clip362)\" style=\"stroke:#000000; stroke-width:2; stroke-opacity:0.1; fill:none\" points=\"\n",
       "  226.232,306.493 2352.76,306.493 \n",
       "  \"/>\n",
       "<polyline clip-path=\"url(#clip360)\" style=\"stroke:#000000; stroke-width:4; stroke-opacity:1; fill:none\" points=\"\n",
       "  226.232,1423.18 2352.76,1423.18 \n",
       "  \"/>\n",
       "<polyline clip-path=\"url(#clip360)\" style=\"stroke:#000000; stroke-width:4; stroke-opacity:1; fill:none\" points=\"\n",
       "  226.232,1423.18 226.232,123.472 \n",
       "  \"/>\n",
       "<polyline clip-path=\"url(#clip360)\" style=\"stroke:#000000; stroke-width:4; stroke-opacity:1; fill:none\" points=\"\n",
       "  509.323,1423.18 509.323,1407.58 \n",
       "  \"/>\n",
       "<polyline clip-path=\"url(#clip360)\" style=\"stroke:#000000; stroke-width:4; stroke-opacity:1; fill:none\" points=\"\n",
       "  1289.49,1423.18 1289.49,1407.58 \n",
       "  \"/>\n",
       "<polyline clip-path=\"url(#clip360)\" style=\"stroke:#000000; stroke-width:4; stroke-opacity:1; fill:none\" points=\"\n",
       "  2069.67,1423.18 2069.67,1407.58 \n",
       "  \"/>\n",
       "<polyline clip-path=\"url(#clip360)\" style=\"stroke:#000000; stroke-width:4; stroke-opacity:1; fill:none\" points=\"\n",
       "  226.232,1150.17 251.75,1150.17 \n",
       "  \"/>\n",
       "<polyline clip-path=\"url(#clip360)\" style=\"stroke:#000000; stroke-width:4; stroke-opacity:1; fill:none\" points=\"\n",
       "  226.232,868.942 251.75,868.942 \n",
       "  \"/>\n",
       "<polyline clip-path=\"url(#clip360)\" style=\"stroke:#000000; stroke-width:4; stroke-opacity:1; fill:none\" points=\"\n",
       "  226.232,587.718 251.75,587.718 \n",
       "  \"/>\n",
       "<polyline clip-path=\"url(#clip360)\" style=\"stroke:#000000; stroke-width:4; stroke-opacity:1; fill:none\" points=\"\n",
       "  226.232,306.493 251.75,306.493 \n",
       "  \"/>\n",
       "<path clip-path=\"url(#clip360)\" d=\"M 0 0 M481.684 1443.36 L481.684 1450.73 L490.457 1450.73 L490.457 1454.04 L481.684 1454.04 L481.684 1468.11 Q481.684 1471.28 482.54 1472.18 Q483.42 1473.09 486.082 1473.09 L490.457 1473.09 L490.457 1476.65 L486.082 1476.65 Q481.152 1476.65 479.277 1474.82 Q477.402 1472.97 477.402 1468.11 L477.402 1454.04 L474.277 1454.04 L474.277 1450.73 L477.402 1450.73 L477.402 1443.36 L481.684 1443.36 Z\" fill=\"#000000\" fill-rule=\"evenodd\" fill-opacity=\"1\" /><path clip-path=\"url(#clip360)\" d=\"M 0 0 M504.971 1453.71 Q501.545 1453.71 499.554 1456.4 Q497.563 1459.06 497.563 1463.71 Q497.563 1468.36 499.531 1471.05 Q501.522 1473.71 504.971 1473.71 Q508.374 1473.71 510.364 1471.03 Q512.355 1468.34 512.355 1463.71 Q512.355 1459.11 510.364 1456.42 Q508.374 1453.71 504.971 1453.71 M504.971 1450.1 Q510.526 1450.1 513.698 1453.71 Q516.869 1457.32 516.869 1463.71 Q516.869 1470.08 513.698 1473.71 Q510.526 1477.32 504.971 1477.32 Q499.392 1477.32 496.221 1473.71 Q493.073 1470.08 493.073 1463.71 Q493.073 1457.32 496.221 1453.71 Q499.392 1450.1 504.971 1450.1 Z\" fill=\"#000000\" fill-rule=\"evenodd\" fill-opacity=\"1\" /><path clip-path=\"url(#clip360)\" d=\"M 0 0 M525.457 1472.76 L525.457 1486.51 L521.174 1486.51 L521.174 1450.73 L525.457 1450.73 L525.457 1454.66 Q526.799 1452.35 528.836 1451.24 Q530.897 1450.1 533.744 1450.1 Q538.466 1450.1 541.406 1453.85 Q544.369 1457.6 544.369 1463.71 Q544.369 1469.82 541.406 1473.57 Q538.466 1477.32 533.744 1477.32 Q530.897 1477.32 528.836 1476.21 Q526.799 1475.08 525.457 1472.76 M539.948 1463.71 Q539.948 1459.01 538.003 1456.35 Q536.082 1453.67 532.702 1453.67 Q529.323 1453.67 527.378 1456.35 Q525.457 1459.01 525.457 1463.71 Q525.457 1468.41 527.378 1471.1 Q529.323 1473.76 532.702 1473.76 Q536.082 1473.76 538.003 1471.1 Q539.948 1468.41 539.948 1463.71 Z\" fill=\"#000000\" fill-rule=\"evenodd\" fill-opacity=\"1\" /><path clip-path=\"url(#clip360)\" d=\"M 0 0 M1243.08 1455.7 Q1244.68 1452.83 1246.9 1451.47 Q1249.12 1450.1 1252.13 1450.1 Q1256.18 1450.1 1258.38 1452.95 Q1260.58 1455.77 1260.58 1461 L1260.58 1476.65 L1256.3 1476.65 L1256.3 1461.14 Q1256.3 1457.42 1254.98 1455.61 Q1253.66 1453.8 1250.95 1453.8 Q1247.64 1453.8 1245.72 1456 Q1243.8 1458.2 1243.8 1462 L1243.8 1476.65 L1239.52 1476.65 L1239.52 1461.14 Q1239.52 1457.39 1238.2 1455.61 Q1236.88 1453.8 1234.12 1453.8 Q1230.86 1453.8 1228.94 1456.03 Q1227.02 1458.23 1227.02 1462 L1227.02 1476.65 L1222.74 1476.65 L1222.74 1450.73 L1227.02 1450.73 L1227.02 1454.75 Q1228.48 1452.37 1230.51 1451.24 Q1232.55 1450.1 1235.35 1450.1 Q1238.17 1450.1 1240.14 1451.54 Q1242.13 1452.97 1243.08 1455.7 Z\" fill=\"#000000\" fill-rule=\"evenodd\" fill-opacity=\"1\" /><path clip-path=\"url(#clip360)\" d=\"M 0 0 M1265.05 1450.73 L1269.31 1450.73 L1269.31 1476.65 L1265.05 1476.65 L1265.05 1450.73 M1265.05 1440.63 L1269.31 1440.63 L1269.31 1446.03 L1265.05 1446.03 L1265.05 1440.63 Z\" fill=\"#000000\" fill-rule=\"evenodd\" fill-opacity=\"1\" /><path clip-path=\"url(#clip360)\" d=\"M 0 0 M1290.84 1454.66 L1290.84 1440.63 L1295.1 1440.63 L1295.1 1476.65 L1290.84 1476.65 L1290.84 1472.76 Q1289.49 1475.08 1287.43 1476.21 Q1285.4 1477.32 1282.53 1477.32 Q1277.83 1477.32 1274.86 1473.57 Q1271.92 1469.82 1271.92 1463.71 Q1271.92 1457.6 1274.86 1453.85 Q1277.83 1450.1 1282.53 1450.1 Q1285.4 1450.1 1287.43 1451.24 Q1289.49 1452.35 1290.84 1454.66 M1276.32 1463.71 Q1276.32 1468.41 1278.24 1471.1 Q1280.19 1473.76 1283.57 1473.76 Q1286.95 1473.76 1288.89 1471.1 Q1290.84 1468.41 1290.84 1463.71 Q1290.84 1459.01 1288.89 1456.35 Q1286.95 1453.67 1283.57 1453.67 Q1280.19 1453.67 1278.24 1456.35 Q1276.32 1459.01 1276.32 1463.71 Z\" fill=\"#000000\" fill-rule=\"evenodd\" fill-opacity=\"1\" /><path clip-path=\"url(#clip360)\" d=\"M 0 0 M1316.62 1454.66 L1316.62 1440.63 L1320.88 1440.63 L1320.88 1476.65 L1316.62 1476.65 L1316.62 1472.76 Q1315.28 1475.08 1313.22 1476.21 Q1311.18 1477.32 1308.31 1477.32 Q1303.61 1477.32 1300.65 1473.57 Q1297.71 1469.82 1297.71 1463.71 Q1297.71 1457.6 1300.65 1453.85 Q1303.61 1450.1 1308.31 1450.1 Q1311.18 1450.1 1313.22 1451.24 Q1315.28 1452.35 1316.62 1454.66 M1302.11 1463.71 Q1302.11 1468.41 1304.03 1471.1 Q1305.98 1473.76 1309.35 1473.76 Q1312.73 1473.76 1314.68 1471.1 Q1316.62 1468.41 1316.62 1463.71 Q1316.62 1459.01 1314.68 1456.35 Q1312.73 1453.67 1309.35 1453.67 Q1305.98 1453.67 1304.03 1456.35 Q1302.11 1459.01 1302.11 1463.71 Z\" fill=\"#000000\" fill-rule=\"evenodd\" fill-opacity=\"1\" /><path clip-path=\"url(#clip360)\" d=\"M 0 0 M1325.35 1440.63 L1329.61 1440.63 L1329.61 1476.65 L1325.35 1476.65 L1325.35 1440.63 Z\" fill=\"#000000\" fill-rule=\"evenodd\" fill-opacity=\"1\" /><path clip-path=\"url(#clip360)\" d=\"M 0 0 M1356.25 1462.62 L1356.25 1464.71 L1336.67 1464.71 Q1336.95 1469.11 1339.31 1471.42 Q1341.69 1473.71 1345.93 1473.71 Q1348.38 1473.71 1350.67 1473.11 Q1352.99 1472.51 1355.26 1471.3 L1355.26 1475.33 Q1352.97 1476.3 1350.56 1476.81 Q1348.15 1477.32 1345.67 1477.32 Q1339.47 1477.32 1335.84 1473.71 Q1332.23 1470.1 1332.23 1463.94 Q1332.23 1457.58 1335.65 1453.85 Q1339.1 1450.1 1344.93 1450.1 Q1350.16 1450.1 1353.2 1453.48 Q1356.25 1456.84 1356.25 1462.62 M1351.99 1461.37 Q1351.95 1457.88 1350.03 1455.8 Q1348.13 1453.71 1344.98 1453.71 Q1341.41 1453.71 1339.26 1455.73 Q1337.13 1457.74 1336.81 1461.4 L1351.99 1461.37 Z\" fill=\"#000000\" fill-rule=\"evenodd\" fill-opacity=\"1\" /><path clip-path=\"url(#clip360)\" d=\"M 0 0 M2011.9 1463.71 Q2011.9 1459.01 2009.95 1456.35 Q2008.03 1453.67 2004.65 1453.67 Q2001.27 1453.67 1999.33 1456.35 Q1997.41 1459.01 1997.41 1463.71 Q1997.41 1468.41 1999.33 1471.1 Q2001.27 1473.76 2004.65 1473.76 Q2008.03 1473.76 2009.95 1471.1 Q2011.9 1468.41 2011.9 1463.71 M1997.41 1454.66 Q1998.75 1452.35 2000.79 1451.24 Q2002.85 1450.1 2005.7 1450.1 Q2010.42 1450.1 2013.36 1453.85 Q2016.32 1457.6 2016.32 1463.71 Q2016.32 1469.82 2013.36 1473.57 Q2010.42 1477.32 2005.7 1477.32 Q2002.85 1477.32 2000.79 1476.21 Q1998.75 1475.08 1997.41 1472.76 L1997.41 1476.65 L1993.13 1476.65 L1993.13 1440.63 L1997.41 1440.63 L1997.41 1454.66 Z\" fill=\"#000000\" fill-rule=\"evenodd\" fill-opacity=\"1\" /><path clip-path=\"url(#clip360)\" d=\"M 0 0 M2030.83 1453.71 Q2027.41 1453.71 2025.42 1456.4 Q2023.43 1459.06 2023.43 1463.71 Q2023.43 1468.36 2025.39 1471.05 Q2027.39 1473.71 2030.83 1473.71 Q2034.24 1473.71 2036.23 1471.03 Q2038.22 1468.34 2038.22 1463.71 Q2038.22 1459.11 2036.23 1456.42 Q2034.24 1453.71 2030.83 1453.71 M2030.83 1450.1 Q2036.39 1450.1 2039.56 1453.71 Q2042.73 1457.32 2042.73 1463.71 Q2042.73 1470.08 2039.56 1473.71 Q2036.39 1477.32 2030.83 1477.32 Q2025.26 1477.32 2022.08 1473.71 Q2018.94 1470.08 2018.94 1463.71 Q2018.94 1457.32 2022.08 1453.71 Q2025.26 1450.1 2030.83 1450.1 Z\" fill=\"#000000\" fill-rule=\"evenodd\" fill-opacity=\"1\" /><path clip-path=\"url(#clip360)\" d=\"M 0 0 M2051.41 1443.36 L2051.41 1450.73 L2060.19 1450.73 L2060.19 1454.04 L2051.41 1454.04 L2051.41 1468.11 Q2051.41 1471.28 2052.27 1472.18 Q2053.15 1473.09 2055.81 1473.09 L2060.19 1473.09 L2060.19 1476.65 L2055.81 1476.65 Q2050.88 1476.65 2049.01 1474.82 Q2047.13 1472.97 2047.13 1468.11 L2047.13 1454.04 L2044.01 1454.04 L2044.01 1450.73 L2047.13 1450.73 L2047.13 1443.36 L2051.41 1443.36 Z\" fill=\"#000000\" fill-rule=\"evenodd\" fill-opacity=\"1\" /><path clip-path=\"url(#clip360)\" d=\"M 0 0 M2068.87 1443.36 L2068.87 1450.73 L2077.64 1450.73 L2077.64 1454.04 L2068.87 1454.04 L2068.87 1468.11 Q2068.87 1471.28 2069.72 1472.18 Q2070.6 1473.09 2073.26 1473.09 L2077.64 1473.09 L2077.64 1476.65 L2073.26 1476.65 Q2068.33 1476.65 2066.46 1474.82 Q2064.58 1472.97 2064.58 1468.11 L2064.58 1454.04 L2061.46 1454.04 L2061.46 1450.73 L2064.58 1450.73 L2064.58 1443.36 L2068.87 1443.36 Z\" fill=\"#000000\" fill-rule=\"evenodd\" fill-opacity=\"1\" /><path clip-path=\"url(#clip360)\" d=\"M 0 0 M2092.15 1453.71 Q2088.73 1453.71 2086.74 1456.4 Q2084.75 1459.06 2084.75 1463.71 Q2084.75 1468.36 2086.71 1471.05 Q2088.7 1473.71 2092.15 1473.71 Q2095.56 1473.71 2097.55 1471.03 Q2099.54 1468.34 2099.54 1463.71 Q2099.54 1459.11 2097.55 1456.42 Q2095.56 1453.71 2092.15 1453.71 M2092.15 1450.1 Q2097.71 1450.1 2100.88 1453.71 Q2104.05 1457.32 2104.05 1463.71 Q2104.05 1470.08 2100.88 1473.71 Q2097.71 1477.32 2092.15 1477.32 Q2086.57 1477.32 2083.4 1473.71 Q2080.26 1470.08 2080.26 1463.71 Q2080.26 1457.32 2083.4 1453.71 Q2086.57 1450.1 2092.15 1450.1 Z\" fill=\"#000000\" fill-rule=\"evenodd\" fill-opacity=\"1\" /><path clip-path=\"url(#clip360)\" d=\"M 0 0 M2128.7 1455.7 Q2130.3 1452.83 2132.52 1451.47 Q2134.75 1450.1 2137.76 1450.1 Q2141.81 1450.1 2144.01 1452.95 Q2146.2 1455.77 2146.2 1461 L2146.2 1476.65 L2141.92 1476.65 L2141.92 1461.14 Q2141.92 1457.42 2140.6 1455.61 Q2139.28 1453.8 2136.57 1453.8 Q2133.26 1453.8 2131.34 1456 Q2129.42 1458.2 2129.42 1462 L2129.42 1476.65 L2125.14 1476.65 L2125.14 1461.14 Q2125.14 1457.39 2123.82 1455.61 Q2122.5 1453.8 2119.75 1453.8 Q2116.48 1453.8 2114.56 1456.03 Q2112.64 1458.23 2112.64 1462 L2112.64 1476.65 L2108.36 1476.65 L2108.36 1450.73 L2112.64 1450.73 L2112.64 1454.75 Q2114.1 1452.37 2116.13 1451.24 Q2118.17 1450.1 2120.97 1450.1 Q2123.8 1450.1 2125.76 1451.54 Q2127.76 1452.97 2128.7 1455.7 Z\" fill=\"#000000\" fill-rule=\"evenodd\" fill-opacity=\"1\" /><path clip-path=\"url(#clip360)\" d=\"M 0 0 M128.297 1163.51 L135.936 1163.51 L135.936 1137.15 L127.626 1138.81 L127.626 1134.55 L135.89 1132.89 L140.566 1132.89 L140.566 1163.51 L148.204 1163.51 L148.204 1167.45 L128.297 1167.45 L128.297 1163.51 Z\" fill=\"#000000\" fill-rule=\"evenodd\" fill-opacity=\"1\" /><path clip-path=\"url(#clip360)\" d=\"M 0 0 M163.274 1135.97 Q159.663 1135.97 157.834 1139.53 Q156.029 1143.07 156.029 1150.2 Q156.029 1157.31 157.834 1160.87 Q159.663 1164.41 163.274 1164.41 Q166.908 1164.41 168.714 1160.87 Q170.542 1157.31 170.542 1150.2 Q170.542 1143.07 168.714 1139.53 Q166.908 1135.97 163.274 1135.97 M163.274 1132.26 Q169.084 1132.26 172.14 1136.87 Q175.218 1141.45 175.218 1150.2 Q175.218 1158.93 172.14 1163.53 Q169.084 1168.12 163.274 1168.12 Q157.464 1168.12 154.385 1163.53 Q151.329 1158.93 151.329 1150.2 Q151.329 1141.45 154.385 1136.87 Q157.464 1132.26 163.274 1132.26 Z\" fill=\"#000000\" fill-rule=\"evenodd\" fill-opacity=\"1\" /><path clip-path=\"url(#clip360)\" d=\"M 0 0 M190.288 1135.97 Q186.677 1135.97 184.848 1139.53 Q183.042 1143.07 183.042 1150.2 Q183.042 1157.31 184.848 1160.87 Q186.677 1164.41 190.288 1164.41 Q193.922 1164.41 195.727 1160.87 Q197.556 1157.31 197.556 1150.2 Q197.556 1143.07 195.727 1139.53 Q193.922 1135.97 190.288 1135.97 M190.288 1132.26 Q196.098 1132.26 199.153 1136.87 Q202.232 1141.45 202.232 1150.2 Q202.232 1158.93 199.153 1163.53 Q196.098 1168.12 190.288 1168.12 Q184.477 1168.12 181.399 1163.53 Q178.343 1158.93 178.343 1150.2 Q178.343 1141.45 181.399 1136.87 Q184.477 1132.26 190.288 1132.26 Z\" fill=\"#000000\" fill-rule=\"evenodd\" fill-opacity=\"1\" /><path clip-path=\"url(#clip360)\" d=\"M 0 0 M129.293 882.287 L136.931 882.287 L136.931 855.922 L128.621 857.588 L128.621 853.329 L136.885 851.662 L141.561 851.662 L141.561 882.287 L149.2 882.287 L149.2 886.222 L129.293 886.222 L129.293 882.287 Z\" fill=\"#000000\" fill-rule=\"evenodd\" fill-opacity=\"1\" /><path clip-path=\"url(#clip360)\" d=\"M 0 0 M154.316 851.662 L172.672 851.662 L172.672 855.598 L158.598 855.598 L158.598 864.07 Q159.616 863.722 160.635 863.56 Q161.653 863.375 162.672 863.375 Q168.459 863.375 171.839 866.547 Q175.218 869.718 175.218 875.134 Q175.218 880.713 171.746 883.815 Q168.274 886.894 161.954 886.894 Q159.778 886.894 157.51 886.523 Q155.265 886.153 152.857 885.412 L152.857 880.713 Q154.941 881.847 157.163 882.403 Q159.385 882.958 161.862 882.958 Q165.866 882.958 168.204 880.852 Q170.542 878.746 170.542 875.134 Q170.542 871.523 168.204 869.417 Q165.866 867.31 161.862 867.31 Q159.987 867.31 158.112 867.727 Q156.26 868.144 154.316 869.023 L154.316 851.662 Z\" fill=\"#000000\" fill-rule=\"evenodd\" fill-opacity=\"1\" /><path clip-path=\"url(#clip360)\" d=\"M 0 0 M190.288 854.741 Q186.677 854.741 184.848 858.306 Q183.042 861.847 183.042 868.977 Q183.042 876.084 184.848 879.648 Q186.677 883.19 190.288 883.19 Q193.922 883.19 195.727 879.648 Q197.556 876.084 197.556 868.977 Q197.556 861.847 195.727 858.306 Q193.922 854.741 190.288 854.741 M190.288 851.037 Q196.098 851.037 199.153 855.644 Q202.232 860.227 202.232 868.977 Q202.232 877.704 199.153 882.31 Q196.098 886.894 190.288 886.894 Q184.477 886.894 181.399 882.31 Q178.343 877.704 178.343 868.977 Q178.343 860.227 181.399 855.644 Q184.477 851.037 190.288 851.037 Z\" fill=\"#000000\" fill-rule=\"evenodd\" fill-opacity=\"1\" /><path clip-path=\"url(#clip360)\" d=\"M 0 0 M131.885 601.063 L148.204 601.063 L148.204 604.998 L126.26 604.998 L126.26 601.063 Q128.922 598.308 133.505 593.678 Q138.112 589.026 139.292 587.683 Q141.538 585.16 142.417 583.424 Q143.32 581.665 143.32 579.975 Q143.32 577.22 141.376 575.484 Q139.455 573.748 136.353 573.748 Q134.154 573.748 131.7 574.512 Q129.269 575.276 126.492 576.827 L126.492 572.104 Q129.316 570.97 131.769 570.391 Q134.223 569.813 136.26 569.813 Q141.63 569.813 144.825 572.498 Q148.019 575.183 148.019 579.674 Q148.019 581.803 147.209 583.725 Q146.422 585.623 144.316 588.215 Q143.737 588.887 140.635 592.104 Q137.533 595.299 131.885 601.063 Z\" fill=\"#000000\" fill-rule=\"evenodd\" fill-opacity=\"1\" /><path clip-path=\"url(#clip360)\" d=\"M 0 0 M163.274 573.516 Q159.663 573.516 157.834 577.081 Q156.029 580.623 156.029 587.752 Q156.029 594.859 157.834 598.424 Q159.663 601.965 163.274 601.965 Q166.908 601.965 168.714 598.424 Q170.542 594.859 170.542 587.752 Q170.542 580.623 168.714 577.081 Q166.908 573.516 163.274 573.516 M163.274 569.813 Q169.084 569.813 172.14 574.419 Q175.218 579.003 175.218 587.752 Q175.218 596.479 172.14 601.086 Q169.084 605.669 163.274 605.669 Q157.464 605.669 154.385 601.086 Q151.329 596.479 151.329 587.752 Q151.329 579.003 154.385 574.419 Q157.464 569.813 163.274 569.813 Z\" fill=\"#000000\" fill-rule=\"evenodd\" fill-opacity=\"1\" /><path clip-path=\"url(#clip360)\" d=\"M 0 0 M190.288 573.516 Q186.677 573.516 184.848 577.081 Q183.042 580.623 183.042 587.752 Q183.042 594.859 184.848 598.424 Q186.677 601.965 190.288 601.965 Q193.922 601.965 195.727 598.424 Q197.556 594.859 197.556 587.752 Q197.556 580.623 195.727 577.081 Q193.922 573.516 190.288 573.516 M190.288 569.813 Q196.098 569.813 199.153 574.419 Q202.232 579.003 202.232 587.752 Q202.232 596.479 199.153 601.086 Q196.098 605.669 190.288 605.669 Q184.477 605.669 181.399 601.086 Q178.343 596.479 178.343 587.752 Q178.343 579.003 181.399 574.419 Q184.477 569.813 190.288 569.813 Z\" fill=\"#000000\" fill-rule=\"evenodd\" fill-opacity=\"1\" /><path clip-path=\"url(#clip360)\" d=\"M 0 0 M132.88 319.838 L149.2 319.838 L149.2 323.773 L127.256 323.773 L127.256 319.838 Q129.918 317.083 134.501 312.454 Q139.107 307.801 140.288 306.458 Q142.533 303.935 143.413 302.199 Q144.316 300.44 144.316 298.75 Q144.316 295.995 142.371 294.259 Q140.45 292.523 137.348 292.523 Q135.149 292.523 132.695 293.287 Q130.265 294.051 127.487 295.602 L127.487 290.88 Q130.311 289.746 132.765 289.167 Q135.218 288.588 137.255 288.588 Q142.626 288.588 145.82 291.273 Q149.015 293.958 149.015 298.449 Q149.015 300.579 148.204 302.5 Q147.417 304.398 145.311 306.991 Q144.732 307.662 141.63 310.88 Q138.529 314.074 132.88 319.838 Z\" fill=\"#000000\" fill-rule=\"evenodd\" fill-opacity=\"1\" /><path clip-path=\"url(#clip360)\" d=\"M 0 0 M154.316 289.213 L172.672 289.213 L172.672 293.148 L158.598 293.148 L158.598 301.62 Q159.616 301.273 160.635 301.111 Q161.653 300.926 162.672 300.926 Q168.459 300.926 171.839 304.097 Q175.218 307.269 175.218 312.685 Q175.218 318.264 171.746 321.366 Q168.274 324.444 161.954 324.444 Q159.778 324.444 157.51 324.074 Q155.265 323.704 152.857 322.963 L152.857 318.264 Q154.941 319.398 157.163 319.954 Q159.385 320.509 161.862 320.509 Q165.866 320.509 168.204 318.403 Q170.542 316.296 170.542 312.685 Q170.542 309.074 168.204 306.968 Q165.866 304.861 161.862 304.861 Q159.987 304.861 158.112 305.278 Q156.26 305.695 154.316 306.574 L154.316 289.213 Z\" fill=\"#000000\" fill-rule=\"evenodd\" fill-opacity=\"1\" /><path clip-path=\"url(#clip360)\" d=\"M 0 0 M190.288 292.292 Q186.677 292.292 184.848 295.857 Q183.042 299.398 183.042 306.528 Q183.042 313.634 184.848 317.199 Q186.677 320.741 190.288 320.741 Q193.922 320.741 195.727 317.199 Q197.556 313.634 197.556 306.528 Q197.556 299.398 195.727 295.857 Q193.922 292.292 190.288 292.292 M190.288 288.588 Q196.098 288.588 199.153 293.195 Q202.232 297.778 202.232 306.528 Q202.232 315.255 199.153 319.861 Q196.098 324.444 190.288 324.444 Q184.477 324.444 181.399 319.861 Q178.343 315.255 178.343 306.528 Q178.343 297.778 181.399 293.195 Q184.477 288.588 190.288 288.588 Z\" fill=\"#000000\" fill-rule=\"evenodd\" fill-opacity=\"1\" /><path clip-path=\"url(#clip360)\" d=\"M 0 0 M803.912 16.7545 L803.912 25.383 Q799.78 21.5346 795.081 19.6307 Q790.423 17.7268 785.156 17.7268 Q774.786 17.7268 769.277 24.0867 Q763.768 30.4061 763.768 42.3968 Q763.768 54.3469 769.277 60.7069 Q774.786 67.0263 785.156 67.0263 Q790.423 67.0263 795.081 65.1223 Q799.78 63.2184 803.912 59.3701 L803.912 67.9175 Q799.618 70.8341 794.798 72.2924 Q790.017 73.7508 784.67 73.7508 Q770.938 73.7508 763.038 65.3654 Q755.139 56.9395 755.139 42.3968 Q755.139 27.8135 763.038 19.4281 Q770.938 11.0023 784.67 11.0023 Q790.098 11.0023 794.879 12.4606 Q799.699 13.8784 803.912 16.7545 Z\" fill=\"#000000\" fill-rule=\"evenodd\" fill-opacity=\"1\" /><path clip-path=\"url(#clip360)\" d=\"M 0 0 M829.311 32.4315 Q823.316 32.4315 819.832 37.1306 Q816.348 41.7891 816.348 49.9314 Q816.348 58.0738 819.792 62.7728 Q823.275 67.4314 829.311 67.4314 Q835.266 67.4314 838.75 62.7323 Q842.234 58.0333 842.234 49.9314 Q842.234 41.8701 838.75 37.1711 Q835.266 32.4315 829.311 32.4315 M829.311 26.1121 Q839.033 26.1121 844.583 32.4315 Q850.133 38.7509 850.133 49.9314 Q850.133 61.0714 844.583 67.4314 Q839.033 73.7508 829.311 73.7508 Q819.549 73.7508 813.999 67.4314 Q808.49 61.0714 808.49 49.9314 Q808.49 38.7509 813.999 32.4315 Q819.549 26.1121 829.311 26.1121 Z\" fill=\"#000000\" fill-rule=\"evenodd\" fill-opacity=\"1\" /><path clip-path=\"url(#clip360)\" d=\"M 0 0 M893.275 35.9153 Q896.07 30.8922 899.959 28.5022 Q903.848 26.1121 909.114 26.1121 Q916.203 26.1121 920.051 31.0947 Q923.9 36.0368 923.9 45.1919 L923.9 72.576 L916.406 72.576 L916.406 45.4349 Q916.406 38.913 914.097 35.7533 Q911.788 32.5936 907.048 32.5936 Q901.255 32.5936 897.893 36.4419 Q894.531 40.2903 894.531 46.9338 L894.531 72.576 L887.037 72.576 L887.037 45.4349 Q887.037 38.8725 884.728 35.7533 Q882.419 32.5936 877.598 32.5936 Q871.886 32.5936 868.524 36.4824 Q865.162 40.3308 865.162 46.9338 L865.162 72.576 L857.668 72.576 L857.668 27.2059 L865.162 27.2059 L865.162 34.2544 Q867.714 30.082 871.279 28.0971 Q874.843 26.1121 879.745 26.1121 Q884.687 26.1121 888.13 28.6237 Q891.614 31.1352 893.275 35.9153 Z\" fill=\"#000000\" fill-rule=\"evenodd\" fill-opacity=\"1\" /><path clip-path=\"url(#clip360)\" d=\"M 0 0 M938.929 65.7705 L938.929 89.8329 L931.435 89.8329 L931.435 27.2059 L938.929 27.2059 L938.929 34.0924 Q941.278 30.0415 944.843 28.0971 Q948.448 26.1121 953.431 26.1121 Q961.695 26.1121 966.839 32.6746 Q972.025 39.2371 972.025 49.9314 Q972.025 60.6258 966.839 67.1883 Q961.695 73.7508 953.431 73.7508 Q948.448 73.7508 944.843 71.8063 Q941.278 69.8214 938.929 65.7705 M964.287 49.9314 Q964.287 41.7081 960.885 37.0496 Q957.522 32.3505 951.608 32.3505 Q945.694 32.3505 942.291 37.0496 Q938.929 41.7081 938.929 49.9314 Q938.929 58.1548 942.291 62.8538 Q945.694 67.5124 951.608 67.5124 Q957.522 67.5124 960.885 62.8538 Q964.287 58.1548 964.287 49.9314 Z\" fill=\"#000000\" fill-rule=\"evenodd\" fill-opacity=\"1\" /><path clip-path=\"url(#clip360)\" d=\"M 0 0 M979.073 54.671 L979.073 27.2059 L986.527 27.2059 L986.527 54.3874 Q986.527 60.8284 989.038 64.0691 Q991.55 67.2693 996.573 67.2693 Q1002.61 67.2693 1006.09 63.421 Q1009.62 59.5726 1009.62 52.9291 L1009.62 27.2059 L1017.07 27.2059 L1017.07 72.576 L1009.62 72.576 L1009.62 65.6084 Q1006.9 69.7404 1003.3 71.7658 Q999.733 73.7508 994.993 73.7508 Q987.175 73.7508 983.124 68.8897 Q979.073 64.0286 979.073 54.671 M997.829 26.1121 L997.829 26.1121 Z\" fill=\"#000000\" fill-rule=\"evenodd\" fill-opacity=\"1\" /><path clip-path=\"url(#clip360)\" d=\"M 0 0 M1032.26 14.324 L1032.26 27.2059 L1047.61 27.2059 L1047.61 32.9987 L1032.26 32.9987 L1032.26 57.6282 Q1032.26 63.1779 1033.76 64.7578 Q1035.3 66.3376 1039.96 66.3376 L1047.61 66.3376 L1047.61 72.576 L1039.96 72.576 Q1031.33 72.576 1028.05 69.3758 Q1024.77 66.1351 1024.77 57.6282 L1024.77 32.9987 L1019.3 32.9987 L1019.3 27.2059 L1024.77 27.2059 L1024.77 14.324 L1032.26 14.324 Z\" fill=\"#000000\" fill-rule=\"evenodd\" fill-opacity=\"1\" /><path clip-path=\"url(#clip360)\" d=\"M 0 0 M1094.24 48.0275 L1094.24 51.6733 L1059.97 51.6733 Q1060.46 59.3701 1064.59 63.421 Q1068.76 67.4314 1076.17 67.4314 Q1080.47 67.4314 1084.48 66.3781 Q1088.53 65.3249 1092.5 63.2184 L1092.5 70.267 Q1088.49 71.9684 1084.28 72.8596 Q1080.06 73.7508 1075.73 73.7508 Q1064.87 73.7508 1058.51 67.4314 Q1052.19 61.1119 1052.19 50.3365 Q1052.19 39.1965 1058.19 32.6746 Q1064.22 26.1121 1074.43 26.1121 Q1083.59 26.1121 1088.89 32.0264 Q1094.24 37.9003 1094.24 48.0275 M1086.79 45.84 Q1086.71 39.7232 1083.34 36.0774 Q1080.02 32.4315 1074.51 32.4315 Q1068.27 32.4315 1064.51 35.9558 Q1060.78 39.4801 1060.21 45.8805 L1086.79 45.84 Z\" fill=\"#000000\" fill-rule=\"evenodd\" fill-opacity=\"1\" /><path clip-path=\"url(#clip360)\" d=\"M 0 0 M1128.35 34.1734 Q1127.09 33.4443 1125.59 33.1202 Q1124.14 32.7556 1122.35 32.7556 Q1116.03 32.7556 1112.63 36.8875 Q1109.27 40.9789 1109.27 48.6757 L1109.27 72.576 L1101.78 72.576 L1101.78 27.2059 L1109.27 27.2059 L1109.27 34.2544 Q1111.62 30.1225 1115.39 28.1376 Q1119.15 26.1121 1124.54 26.1121 Q1125.31 26.1121 1126.24 26.2337 Q1127.17 26.3147 1128.31 26.5172 L1128.35 34.1734 Z\" fill=\"#000000\" fill-rule=\"evenodd\" fill-opacity=\"1\" /><path clip-path=\"url(#clip360)\" d=\"M 0 0 M1199.12 14.0809 L1199.12 22.0612 Q1194.46 19.8332 1190.33 18.7395 Q1186.2 17.6457 1182.35 17.6457 Q1175.66 17.6457 1172.02 20.2383 Q1168.41 22.8309 1168.41 27.611 Q1168.41 31.6214 1170.8 33.6873 Q1173.23 35.7128 1179.96 36.9686 L1184.9 37.9813 Q1194.05 39.7232 1198.39 44.1387 Q1202.76 48.5136 1202.76 55.8863 Q1202.76 64.6767 1196.85 69.2137 Q1190.98 73.7508 1179.59 73.7508 Q1175.3 73.7508 1170.44 72.7785 Q1165.62 71.8063 1160.43 69.9024 L1160.43 61.4765 Q1165.41 64.2716 1170.19 65.6895 Q1174.97 67.1073 1179.59 67.1073 Q1186.6 67.1073 1190.41 64.3527 Q1194.22 61.598 1194.22 56.4939 Q1194.22 52.0379 1191.46 49.5264 Q1188.75 47.0148 1182.51 45.759 L1177.53 44.7868 Q1168.37 42.9639 1164.28 39.075 Q1160.19 35.1862 1160.19 28.2591 Q1160.19 20.2383 1165.82 15.6203 Q1171.49 11.0023 1181.42 11.0023 Q1185.67 11.0023 1190.08 11.7719 Q1194.5 12.5416 1199.12 14.0809 Z\" fill=\"#000000\" fill-rule=\"evenodd\" fill-opacity=\"1\" /><path clip-path=\"url(#clip360)\" d=\"M 0 0 M1243.23 28.9478 L1243.23 35.9153 Q1240.07 34.1734 1236.87 33.3227 Q1233.71 32.4315 1230.47 32.4315 Q1223.22 32.4315 1219.21 37.0496 Q1215.2 41.6271 1215.2 49.9314 Q1215.2 58.2358 1219.21 62.8538 Q1223.22 67.4314 1230.47 67.4314 Q1233.71 67.4314 1236.87 66.5807 Q1240.07 65.6895 1243.23 63.9476 L1243.23 70.8341 Q1240.11 72.2924 1236.75 73.0216 Q1233.43 73.7508 1229.66 73.7508 Q1219.41 73.7508 1213.38 67.3098 Q1207.34 60.8689 1207.34 49.9314 Q1207.34 38.832 1213.42 32.472 Q1219.53 26.1121 1230.15 26.1121 Q1233.59 26.1121 1236.87 26.8413 Q1240.15 27.5299 1243.23 28.9478 Z\" fill=\"#000000\" fill-rule=\"evenodd\" fill-opacity=\"1\" /><path clip-path=\"url(#clip360)\" d=\"M 0 0 M1251.05 27.2059 L1258.5 27.2059 L1258.5 72.576 L1251.05 72.576 L1251.05 27.2059 M1251.05 9.54393 L1258.5 9.54393 L1258.5 18.9825 L1251.05 18.9825 L1251.05 9.54393 Z\" fill=\"#000000\" fill-rule=\"evenodd\" fill-opacity=\"1\" /><path clip-path=\"url(#clip360)\" d=\"M 0 0 M1305.13 48.0275 L1305.13 51.6733 L1270.86 51.6733 Q1271.35 59.3701 1275.48 63.421 Q1279.65 67.4314 1287.06 67.4314 Q1291.36 67.4314 1295.37 66.3781 Q1299.42 65.3249 1303.39 63.2184 L1303.39 70.267 Q1299.38 71.9684 1295.17 72.8596 Q1290.95 73.7508 1286.62 73.7508 Q1275.76 73.7508 1269.4 67.4314 Q1263.08 61.1119 1263.08 50.3365 Q1263.08 39.1965 1269.08 32.6746 Q1275.11 26.1121 1285.32 26.1121 Q1294.48 26.1121 1299.78 32.0264 Q1305.13 37.9003 1305.13 48.0275 M1297.68 45.84 Q1297.6 39.7232 1294.23 36.0774 Q1290.91 32.4315 1285.4 32.4315 Q1279.16 32.4315 1275.4 35.9558 Q1271.67 39.4801 1271.1 45.8805 L1297.68 45.84 Z\" fill=\"#000000\" fill-rule=\"evenodd\" fill-opacity=\"1\" /><path clip-path=\"url(#clip360)\" d=\"M 0 0 M1350.66 45.1919 L1350.66 72.576 L1343.21 72.576 L1343.21 45.4349 Q1343.21 38.994 1340.7 35.7938 Q1338.19 32.5936 1333.16 32.5936 Q1327.13 32.5936 1323.64 36.4419 Q1320.16 40.2903 1320.16 46.9338 L1320.16 72.576 L1312.67 72.576 L1312.67 27.2059 L1320.16 27.2059 L1320.16 34.2544 Q1322.83 30.163 1326.44 28.1376 Q1330.08 26.1121 1334.82 26.1121 Q1342.64 26.1121 1346.65 30.9732 Q1350.66 35.7938 1350.66 45.1919 Z\" fill=\"#000000\" fill-rule=\"evenodd\" fill-opacity=\"1\" /><path clip-path=\"url(#clip360)\" d=\"M 0 0 M1391.13 28.9478 L1391.13 35.9153 Q1387.97 34.1734 1384.77 33.3227 Q1381.61 32.4315 1378.37 32.4315 Q1371.12 32.4315 1367.11 37.0496 Q1363.1 41.6271 1363.1 49.9314 Q1363.1 58.2358 1367.11 62.8538 Q1371.12 67.4314 1378.37 67.4314 Q1381.61 67.4314 1384.77 66.5807 Q1387.97 65.6895 1391.13 63.9476 L1391.13 70.8341 Q1388.01 72.2924 1384.65 73.0216 Q1381.33 73.7508 1377.56 73.7508 Q1367.31 73.7508 1361.28 67.3098 Q1355.24 60.8689 1355.24 49.9314 Q1355.24 38.832 1361.32 32.472 Q1367.43 26.1121 1378.05 26.1121 Q1381.49 26.1121 1384.77 26.8413 Q1388.05 27.5299 1391.13 28.9478 Z\" fill=\"#000000\" fill-rule=\"evenodd\" fill-opacity=\"1\" /><path clip-path=\"url(#clip360)\" d=\"M 0 0 M1437.76 48.0275 L1437.76 51.6733 L1403.49 51.6733 Q1403.97 59.3701 1408.1 63.421 Q1412.28 67.4314 1419.69 67.4314 Q1423.98 67.4314 1427.99 66.3781 Q1432.05 65.3249 1436.02 63.2184 L1436.02 70.267 Q1432 71.9684 1427.79 72.8596 Q1423.58 73.7508 1419.24 73.7508 Q1408.39 73.7508 1402.03 67.4314 Q1395.71 61.1119 1395.71 50.3365 Q1395.71 39.1965 1401.7 32.6746 Q1407.74 26.1121 1417.95 26.1121 Q1427.1 26.1121 1432.41 32.0264 Q1437.76 37.9003 1437.76 48.0275 M1430.3 45.84 Q1430.22 39.7232 1426.86 36.0774 Q1423.54 32.4315 1418.03 32.4315 Q1411.79 32.4315 1408.02 35.9558 Q1404.3 39.4801 1403.73 45.8805 L1430.3 45.84 Z\" fill=\"#000000\" fill-rule=\"evenodd\" fill-opacity=\"1\" /><path clip-path=\"url(#clip360)\" d=\"M 0 0 M1480.45 18.8205 L1480.45 41.5461 L1490.74 41.5461 Q1496.45 41.5461 1499.57 38.5889 Q1502.69 35.6318 1502.69 30.163 Q1502.69 24.7348 1499.57 21.7777 Q1496.45 18.8205 1490.74 18.8205 L1480.45 18.8205 M1472.27 12.096 L1490.74 12.096 Q1500.91 12.096 1506.1 16.714 Q1511.32 21.2916 1511.32 30.163 Q1511.32 39.1155 1506.1 43.6931 Q1500.91 48.2706 1490.74 48.2706 L1480.45 48.2706 L1480.45 72.576 L1472.27 72.576 L1472.27 12.096 Z\" fill=\"#000000\" fill-rule=\"evenodd\" fill-opacity=\"1\" /><path clip-path=\"url(#clip360)\" d=\"M 0 0 M1543.97 34.1734 Q1542.72 33.4443 1541.22 33.1202 Q1539.76 32.7556 1537.98 32.7556 Q1531.66 32.7556 1528.25 36.8875 Q1524.89 40.9789 1524.89 48.6757 L1524.89 72.576 L1517.4 72.576 L1517.4 27.2059 L1524.89 27.2059 L1524.89 34.2544 Q1527.24 30.1225 1531.01 28.1376 Q1534.78 26.1121 1540.16 26.1121 Q1540.93 26.1121 1541.87 26.2337 Q1542.8 26.3147 1543.93 26.5172 L1543.97 34.1734 Z\" fill=\"#000000\" fill-rule=\"evenodd\" fill-opacity=\"1\" /><path clip-path=\"url(#clip360)\" d=\"M 0 0 M1567.55 32.4315 Q1561.55 32.4315 1558.07 37.1306 Q1554.59 41.7891 1554.59 49.9314 Q1554.59 58.0738 1558.03 62.7728 Q1561.51 67.4314 1567.55 67.4314 Q1573.5 67.4314 1576.99 62.7323 Q1580.47 58.0333 1580.47 49.9314 Q1580.47 41.8701 1576.99 37.1711 Q1573.5 32.4315 1567.55 32.4315 M1567.55 26.1121 Q1577.27 26.1121 1582.82 32.4315 Q1588.37 38.7509 1588.37 49.9314 Q1588.37 61.0714 1582.82 67.4314 Q1577.27 73.7508 1567.55 73.7508 Q1557.79 73.7508 1552.24 67.4314 Q1546.73 61.0714 1546.73 49.9314 Q1546.73 38.7509 1552.24 32.4315 Q1557.79 26.1121 1567.55 26.1121 Z\" fill=\"#000000\" fill-rule=\"evenodd\" fill-opacity=\"1\" /><path clip-path=\"url(#clip360)\" d=\"M 0 0 M1626.04 49.3643 Q1626.04 41.2625 1622.68 36.8065 Q1619.36 32.3505 1613.32 32.3505 Q1607.33 32.3505 1603.97 36.8065 Q1600.64 41.2625 1600.64 49.3643 Q1600.64 57.4256 1603.97 61.8816 Q1607.33 66.3376 1613.32 66.3376 Q1619.36 66.3376 1622.68 61.8816 Q1626.04 57.4256 1626.04 49.3643 M1633.5 66.9452 Q1633.5 78.5308 1628.35 84.1616 Q1623.21 89.8329 1612.59 89.8329 Q1608.66 89.8329 1605.18 89.2252 Q1601.7 88.6581 1598.42 87.4428 L1598.42 80.1917 Q1601.7 81.9741 1604.9 82.8248 Q1608.1 83.6755 1611.42 83.6755 Q1618.75 83.6755 1622.4 79.8271 Q1626.04 76.0193 1626.04 68.282 L1626.04 64.5957 Q1623.73 68.6061 1620.13 70.5911 Q1616.52 72.576 1611.5 72.576 Q1603.16 72.576 1598.05 66.2161 Q1592.95 59.8562 1592.95 49.3643 Q1592.95 38.832 1598.05 32.472 Q1603.16 26.1121 1611.5 26.1121 Q1616.52 26.1121 1620.13 28.0971 Q1623.73 30.082 1626.04 34.0924 L1626.04 27.2059 L1633.5 27.2059 L1633.5 66.9452 Z\" fill=\"#000000\" fill-rule=\"evenodd\" fill-opacity=\"1\" /><path clip-path=\"url(#clip360)\" d=\"M 0 0 M1667.61 34.1734 Q1666.35 33.4443 1664.85 33.1202 Q1663.39 32.7556 1661.61 32.7556 Q1655.29 32.7556 1651.89 36.8875 Q1648.53 40.9789 1648.53 48.6757 L1648.53 72.576 L1641.03 72.576 L1641.03 27.2059 L1648.53 27.2059 L1648.53 34.2544 Q1650.88 30.1225 1654.64 28.1376 Q1658.41 26.1121 1663.8 26.1121 Q1664.57 26.1121 1665.5 26.2337 Q1666.43 26.3147 1667.56 26.5172 L1667.61 34.1734 Z\" fill=\"#000000\" fill-rule=\"evenodd\" fill-opacity=\"1\" /><path clip-path=\"url(#clip360)\" d=\"M 0 0 M1696.04 49.7694 Q1687.01 49.7694 1683.53 51.8354 Q1680.04 53.9013 1680.04 58.8839 Q1680.04 62.8538 1682.63 65.2034 Q1685.27 67.5124 1689.76 67.5124 Q1695.96 67.5124 1699.69 63.1374 Q1703.46 58.7219 1703.46 51.4303 L1703.46 49.7694 L1696.04 49.7694 M1710.91 46.6907 L1710.91 72.576 L1703.46 72.576 L1703.46 65.6895 Q1700.9 69.8214 1697.1 71.8063 Q1693.29 73.7508 1687.78 73.7508 Q1680.81 73.7508 1676.68 69.8619 Q1672.59 65.9325 1672.59 59.3701 Q1672.59 51.7138 1677.69 47.825 Q1682.84 43.9361 1693 43.9361 L1703.46 43.9361 L1703.46 43.2069 Q1703.46 38.0623 1700.05 35.2672 Q1696.69 32.4315 1690.57 32.4315 Q1686.69 32.4315 1683 33.3632 Q1679.31 34.295 1675.91 36.1584 L1675.91 29.2718 Q1680 27.692 1683.85 26.9223 Q1687.7 26.1121 1691.34 26.1121 Q1701.19 26.1121 1706.05 31.2163 Q1710.91 36.3204 1710.91 46.6907 Z\" fill=\"#000000\" fill-rule=\"evenodd\" fill-opacity=\"1\" /><path clip-path=\"url(#clip360)\" d=\"M 0 0 M1754.05 35.9153 Q1756.85 30.8922 1760.74 28.5022 Q1764.62 26.1121 1769.89 26.1121 Q1776.98 26.1121 1780.83 31.0947 Q1784.68 36.0368 1784.68 45.1919 L1784.68 72.576 L1777.18 72.576 L1777.18 45.4349 Q1777.18 38.913 1774.87 35.7533 Q1772.56 32.5936 1767.82 32.5936 Q1762.03 32.5936 1758.67 36.4419 Q1755.31 40.2903 1755.31 46.9338 L1755.31 72.576 L1747.81 72.576 L1747.81 45.4349 Q1747.81 38.8725 1745.5 35.7533 Q1743.2 32.5936 1738.37 32.5936 Q1732.66 32.5936 1729.3 36.4824 Q1725.94 40.3308 1725.94 46.9338 L1725.94 72.576 L1718.44 72.576 L1718.44 27.2059 L1725.94 27.2059 L1725.94 34.2544 Q1728.49 30.082 1732.06 28.0971 Q1735.62 26.1121 1740.52 26.1121 Q1745.46 26.1121 1748.91 28.6237 Q1752.39 31.1352 1754.05 35.9153 Z\" fill=\"#000000\" fill-rule=\"evenodd\" fill-opacity=\"1\" /><path clip-path=\"url(#clip360)\" d=\"M 0 0 M1821.42 28.5427 L1821.42 35.5912 Q1818.26 33.9709 1814.86 33.1607 Q1811.45 32.3505 1807.81 32.3505 Q1802.26 32.3505 1799.46 34.0519 Q1796.71 35.7533 1796.71 39.156 Q1796.71 41.7486 1798.69 43.2475 Q1800.68 44.7058 1806.67 46.0426 L1809.22 46.6097 Q1817.16 48.3111 1820.49 51.4303 Q1823.85 54.509 1823.85 60.0587 Q1823.85 66.3781 1818.83 70.0644 Q1813.84 73.7508 1805.09 73.7508 Q1801.45 73.7508 1797.48 73.0216 Q1793.55 72.3329 1789.17 70.9151 L1789.17 63.2184 Q1793.3 65.3654 1797.32 66.4591 Q1801.33 67.5124 1805.26 67.5124 Q1810.52 67.5124 1813.36 65.73 Q1816.19 63.9071 1816.19 60.6258 Q1816.19 57.5877 1814.13 55.9673 Q1812.1 54.3469 1805.17 52.8481 L1802.58 52.2405 Q1795.65 50.7821 1792.58 47.7845 Q1789.5 44.7463 1789.5 39.4801 Q1789.5 33.0797 1794.03 29.5959 Q1798.57 26.1121 1806.92 26.1121 Q1811.05 26.1121 1814.69 26.7198 Q1818.34 27.3274 1821.42 28.5427 Z\" fill=\"#000000\" fill-rule=\"evenodd\" fill-opacity=\"1\" /><path clip-path=\"url(#clip360)\" d=\"M 0 0 M1235.45 1510.27 L1235.45 1520.4 L1247.51 1520.4 L1247.51 1524.95 L1235.45 1524.95 L1235.45 1544.3 Q1235.45 1548.66 1236.63 1549.9 Q1237.84 1551.14 1241.5 1551.14 L1247.51 1551.14 L1247.51 1556.04 L1241.5 1556.04 Q1234.72 1556.04 1232.14 1553.53 Q1229.56 1550.98 1229.56 1544.3 L1229.56 1524.95 L1225.26 1524.95 L1225.26 1520.4 L1229.56 1520.4 L1229.56 1510.27 L1235.45 1510.27 Z\" fill=\"#000000\" fill-rule=\"evenodd\" fill-opacity=\"1\" /><path clip-path=\"url(#clip360)\" d=\"M 0 0 M1253.66 1520.4 L1259.51 1520.4 L1259.51 1556.04 L1253.66 1556.04 L1253.66 1520.4 M1253.66 1506.52 L1259.51 1506.52 L1259.51 1513.93 L1253.66 1513.93 L1253.66 1506.52 Z\" fill=\"#000000\" fill-rule=\"evenodd\" fill-opacity=\"1\" /><path clip-path=\"url(#clip360)\" d=\"M 0 0 M1296.15 1536.76 L1296.15 1539.62 L1269.22 1539.62 Q1269.6 1545.67 1272.85 1548.85 Q1276.13 1552 1281.95 1552 Q1285.32 1552 1288.48 1551.17 Q1291.66 1550.35 1294.78 1548.69 L1294.78 1554.23 Q1291.63 1555.57 1288.32 1556.27 Q1285.01 1556.97 1281.6 1556.97 Q1273.07 1556.97 1268.07 1552 Q1263.11 1547.04 1263.11 1538.57 Q1263.11 1529.82 1267.82 1524.69 Q1272.56 1519.54 1280.58 1519.54 Q1287.78 1519.54 1291.94 1524.18 Q1296.15 1528.8 1296.15 1536.76 M1290.29 1535.04 Q1290.23 1530.23 1287.58 1527.37 Q1284.97 1524.5 1280.65 1524.5 Q1275.74 1524.5 1272.78 1527.27 Q1269.86 1530.04 1269.41 1535.07 L1290.29 1535.04 Z\" fill=\"#000000\" fill-rule=\"evenodd\" fill-opacity=\"1\" /><path clip-path=\"url(#clip360)\" d=\"M 0 0 M1322.95 1525.87 Q1321.96 1525.3 1320.78 1525.04 Q1319.64 1524.76 1318.24 1524.76 Q1313.27 1524.76 1310.6 1528 Q1307.95 1531.22 1307.95 1537.27 L1307.95 1556.04 L1302.07 1556.04 L1302.07 1520.4 L1307.95 1520.4 L1307.95 1525.93 Q1309.8 1522.69 1312.76 1521.13 Q1315.72 1519.54 1319.95 1519.54 Q1320.56 1519.54 1321.29 1519.63 Q1322.02 1519.7 1322.91 1519.85 L1322.95 1525.87 Z\" fill=\"#000000\" fill-rule=\"evenodd\" fill-opacity=\"1\" /><path clip-path=\"url(#clip360)\" d=\"M 0 0 M1351.81 1521.45 L1351.81 1526.98 Q1349.33 1525.71 1346.66 1525.07 Q1343.98 1524.44 1341.12 1524.44 Q1336.76 1524.44 1334.56 1525.77 Q1332.4 1527.11 1332.4 1529.79 Q1332.4 1531.82 1333.96 1533 Q1335.52 1534.15 1340.23 1535.2 L1342.23 1535.64 Q1348.47 1536.98 1351.08 1539.43 Q1353.72 1541.85 1353.72 1546.21 Q1353.72 1551.17 1349.78 1554.07 Q1345.86 1556.97 1338.99 1556.97 Q1336.12 1556.97 1333 1556.39 Q1329.92 1555.85 1326.48 1554.74 L1326.48 1548.69 Q1329.73 1550.38 1332.88 1551.24 Q1336.03 1552.07 1339.11 1552.07 Q1343.25 1552.07 1345.48 1550.66 Q1347.71 1549.23 1347.71 1546.65 Q1347.71 1544.27 1346.09 1542.99 Q1344.49 1541.72 1339.05 1540.54 L1337.01 1540.07 Q1331.57 1538.92 1329.15 1536.56 Q1326.73 1534.18 1326.73 1530.04 Q1326.73 1525.01 1330.3 1522.27 Q1333.86 1519.54 1340.42 1519.54 Q1343.67 1519.54 1346.53 1520.01 Q1349.4 1520.49 1351.81 1521.45 Z\" fill=\"#000000\" fill-rule=\"evenodd\" fill-opacity=\"1\" /><path clip-path=\"url(#clip360)\" d=\"M 0 0 M53.7248 1049.74 L59.1993 1049.74 Q57.8307 1052.22 57.1623 1054.74 Q56.4621 1057.22 56.4621 1059.77 Q56.4621 1065.46 60.0905 1068.62 Q63.6872 1071.77 70.212 1071.77 Q76.7369 1071.77 80.3653 1068.62 Q83.9619 1065.46 83.9619 1059.77 Q83.9619 1057.22 83.2935 1054.74 Q82.5933 1052.22 81.2247 1049.74 L86.6355 1049.74 Q87.7814 1052.19 88.3543 1054.83 Q88.9272 1057.44 88.9272 1060.4 Q88.9272 1068.46 83.8664 1073.2 Q78.8057 1077.94 70.212 1077.94 Q61.491 1077.94 56.4939 1073.17 Q51.4968 1068.36 51.4968 1060.02 Q51.4968 1057.32 52.0697 1054.74 Q52.6108 1052.16 53.7248 1049.74 Z\" fill=\"#000000\" fill-rule=\"evenodd\" fill-opacity=\"1\" /><path clip-path=\"url(#clip360)\" d=\"M 0 0 M73.9359 1044.2 L52.3562 1044.2 L52.3562 1038.35 L73.7131 1038.35 Q78.7739 1038.35 81.3202 1036.37 Q83.8346 1034.4 83.8346 1030.45 Q83.8346 1025.71 80.8109 1022.97 Q77.7872 1020.2 72.5673 1020.2 L52.3562 1020.2 L52.3562 1014.35 L88.0042 1014.35 L88.0042 1020.2 L82.5296 1020.2 Q85.7762 1022.34 87.3676 1025.17 Q88.9272 1027.97 88.9272 1031.69 Q88.9272 1037.84 85.1078 1041.02 Q81.2883 1044.2 73.9359 1044.2 M51.4968 1029.47 L51.4968 1029.47 Z\" fill=\"#000000\" fill-rule=\"evenodd\" fill-opacity=\"1\" /><path clip-path=\"url(#clip360)\" d=\"M 0 0 M57.8307 987.548 Q57.2578 988.535 57.0032 989.712 Q56.7167 990.858 56.7167 992.259 Q56.7167 997.224 59.9632 999.897 Q63.1779 1002.54 69.2253 1002.54 L88.0042 1002.54 L88.0042 1008.43 L52.3562 1008.43 L52.3562 1002.54 L57.8944 1002.54 Q54.6479 1000.69 53.0883 997.733 Q51.4968 994.773 51.4968 990.54 Q51.4968 989.935 51.5923 989.203 Q51.656 988.471 51.8151 987.58 L57.8307 987.548 Z\" fill=\"#000000\" fill-rule=\"evenodd\" fill-opacity=\"1\" /><path clip-path=\"url(#clip360)\" d=\"M 0 0 M57.8307 961.894 Q57.2578 962.881 57.0032 964.058 Q56.7167 965.204 56.7167 966.605 Q56.7167 971.57 59.9632 974.244 Q63.1779 976.885 69.2253 976.885 L88.0042 976.885 L88.0042 982.774 L52.3562 982.774 L52.3562 976.885 L57.8944 976.885 Q54.6479 975.039 53.0883 972.079 Q51.4968 969.119 51.4968 964.886 Q51.4968 964.281 51.5923 963.549 Q51.656 962.817 51.8151 961.926 L57.8307 961.894 Z\" fill=\"#000000\" fill-rule=\"evenodd\" fill-opacity=\"1\" /><path clip-path=\"url(#clip360)\" d=\"M 0 0 M52.3562 955.751 L52.3562 949.895 L88.0042 949.895 L88.0042 955.751 L52.3562 955.751 M38.479 955.751 L38.479 949.895 L45.895 949.895 L45.895 955.751 L38.479 955.751 Z\" fill=\"#000000\" fill-rule=\"evenodd\" fill-opacity=\"1\" /><path clip-path=\"url(#clip360)\" d=\"M 0 0 M53.7248 918.098 L59.1993 918.098 Q57.8307 920.581 57.1623 923.095 Q56.4621 925.578 56.4621 928.124 Q56.4621 933.821 60.0905 936.972 Q63.6872 940.123 70.212 940.123 Q76.7369 940.123 80.3653 936.972 Q83.9619 933.821 83.9619 928.124 Q83.9619 925.578 83.2935 923.095 Q82.5933 920.581 81.2247 918.098 L86.6355 918.098 Q87.7814 920.549 88.3543 923.191 Q88.9272 925.801 88.9272 928.761 Q88.9272 936.813 83.8664 941.556 Q78.8057 946.298 70.212 946.298 Q61.491 946.298 56.4939 941.524 Q51.4968 936.718 51.4968 928.379 Q51.4968 925.673 52.0697 923.095 Q52.6108 920.517 53.7248 918.098 Z\" fill=\"#000000\" fill-rule=\"evenodd\" fill-opacity=\"1\" /><path clip-path=\"url(#clip360)\" d=\"M 0 0 M73.9359 912.56 L52.3562 912.56 L52.3562 906.703 L73.7131 906.703 Q78.7739 906.703 81.3202 904.73 Q83.8346 902.757 83.8346 898.81 Q83.8346 894.068 80.8109 891.33 Q77.7872 888.561 72.5673 888.561 L52.3562 888.561 L52.3562 882.705 L88.0042 882.705 L88.0042 888.561 L82.5296 888.561 Q85.7762 890.694 87.3676 893.526 Q88.9272 896.327 88.9272 900.051 Q88.9272 906.194 85.1078 909.377 Q81.2883 912.56 73.9359 912.56 M51.4968 897.823 L51.4968 897.823 Z\" fill=\"#000000\" fill-rule=\"evenodd\" fill-opacity=\"1\" /><path clip-path=\"url(#clip360)\" d=\"M 0 0 M38.479 876.562 L38.479 870.705 L88.0042 870.705 L88.0042 876.562 L38.479 876.562 Z\" fill=\"#000000\" fill-rule=\"evenodd\" fill-opacity=\"1\" /><path clip-path=\"url(#clip360)\" d=\"M 0 0 M70.0847 848.362 Q70.0847 855.46 71.7079 858.197 Q73.3312 860.934 77.2461 860.934 Q80.3653 860.934 82.2114 858.897 Q84.0256 856.828 84.0256 853.295 Q84.0256 848.425 80.5881 845.497 Q77.1188 842.537 71.3897 842.537 L70.0847 842.537 L70.0847 848.362 M67.6657 836.681 L88.0042 836.681 L88.0042 842.537 L82.5933 842.537 Q85.8398 844.542 87.3994 847.534 Q88.9272 850.526 88.9272 854.855 Q88.9272 860.329 85.8716 863.576 Q82.7843 866.79 77.6281 866.79 Q71.6125 866.79 68.5569 862.78 Q65.5014 858.738 65.5014 850.749 L65.5014 842.537 L64.9285 842.537 Q60.8862 842.537 58.6901 845.211 Q56.4621 847.852 56.4621 852.659 Q56.4621 855.714 57.1941 858.611 Q57.9262 861.507 59.3903 864.181 L53.9795 864.181 Q52.7381 860.966 52.1334 857.942 Q51.4968 854.918 51.4968 852.054 Q51.4968 844.32 55.5072 840.5 Q59.5176 836.681 67.6657 836.681 Z\" fill=\"#000000\" fill-rule=\"evenodd\" fill-opacity=\"1\" /><path clip-path=\"url(#clip360)\" d=\"M 0 0 M57.8307 809.881 Q57.2578 810.868 57.0032 812.045 Q56.7167 813.191 56.7167 814.592 Q56.7167 819.557 59.9632 822.231 Q63.1779 824.872 69.2253 824.872 L88.0042 824.872 L88.0042 830.761 L52.3562 830.761 L52.3562 824.872 L57.8944 824.872 Q54.6479 823.026 53.0883 820.066 Q51.4968 817.106 51.4968 812.873 Q51.4968 812.268 51.5923 811.536 Q51.656 810.804 51.8151 809.913 L57.8307 809.881 Z\" fill=\"#000000\" fill-rule=\"evenodd\" fill-opacity=\"1\" /><path clip-path=\"url(#clip360)\" d=\"M 0 0 M53.7248 757.364 L59.1993 757.364 Q57.8307 759.847 57.1623 762.361 Q56.4621 764.844 56.4621 767.39 Q56.4621 773.087 60.0905 776.238 Q63.6872 779.389 70.212 779.389 Q76.7369 779.389 80.3653 776.238 Q83.9619 773.087 83.9619 767.39 Q83.9619 764.844 83.2935 762.361 Q82.5933 759.847 81.2247 757.364 L86.6355 757.364 Q87.7814 759.815 88.3543 762.457 Q88.9272 765.066 88.9272 768.027 Q88.9272 776.079 83.8664 780.822 Q78.8057 785.564 70.212 785.564 Q61.491 785.564 56.4939 780.79 Q51.4968 775.984 51.4968 767.645 Q51.4968 764.939 52.0697 762.361 Q52.6108 759.783 53.7248 757.364 Z\" fill=\"#000000\" fill-rule=\"evenodd\" fill-opacity=\"1\" /><path clip-path=\"url(#clip360)\" d=\"M 0 0 M56.4621 737.407 Q56.4621 742.118 60.1542 744.855 Q63.8145 747.593 70.212 747.593 Q76.6095 747.593 80.3017 744.887 Q83.9619 742.15 83.9619 737.407 Q83.9619 732.729 80.2698 729.991 Q76.5777 727.254 70.212 727.254 Q63.8781 727.254 60.186 729.991 Q56.4621 732.729 56.4621 737.407 M51.4968 737.407 Q51.4968 729.769 56.4621 725.408 Q61.4273 721.048 70.212 721.048 Q78.9649 721.048 83.9619 725.408 Q88.9272 729.769 88.9272 737.407 Q88.9272 745.078 83.9619 749.439 Q78.9649 753.767 70.212 753.767 Q61.4273 753.767 56.4621 749.439 Q51.4968 745.078 51.4968 737.407 Z\" fill=\"#000000\" fill-rule=\"evenodd\" fill-opacity=\"1\" /><path clip-path=\"url(#clip360)\" d=\"M 0 0 M59.1993 687.15 Q55.2526 684.954 53.3747 681.899 Q51.4968 678.843 51.4968 674.705 Q51.4968 669.135 55.4117 666.112 Q59.2948 663.088 66.4881 663.088 L88.0042 663.088 L88.0042 668.976 L66.679 668.976 Q61.5546 668.976 59.072 670.79 Q56.5894 672.605 56.5894 676.329 Q56.5894 680.88 59.6131 683.522 Q62.6368 686.164 67.8567 686.164 L88.0042 686.164 L88.0042 692.052 L66.679 692.052 Q61.5228 692.052 59.072 693.866 Q56.5894 695.68 56.5894 699.468 Q56.5894 703.956 59.6449 706.597 Q62.6686 709.239 67.8567 709.239 L88.0042 709.239 L88.0042 715.128 L52.3562 715.128 L52.3562 709.239 L57.8944 709.239 Q54.616 707.234 53.0564 704.433 Q51.4968 701.632 51.4968 697.781 Q51.4968 693.898 53.4702 691.192 Q55.4436 688.455 59.1993 687.15 Z\" fill=\"#000000\" fill-rule=\"evenodd\" fill-opacity=\"1\" /><path clip-path=\"url(#clip360)\" d=\"M 0 0 M82.657 651.279 L101.563 651.279 L101.563 657.168 L52.3562 657.168 L52.3562 651.279 L57.7671 651.279 Q54.5842 649.433 53.0564 646.633 Q51.4968 643.8 51.4968 639.885 Q51.4968 633.392 56.6531 629.35 Q61.8093 625.276 70.212 625.276 Q78.6147 625.276 83.771 629.35 Q88.9272 633.392 88.9272 639.885 Q88.9272 643.8 87.3994 646.633 Q85.8398 649.433 82.657 651.279 M70.212 631.355 Q63.7508 631.355 60.0905 634.028 Q56.3984 636.67 56.3984 641.317 Q56.3984 645.964 60.0905 648.638 Q63.7508 651.279 70.212 651.279 Q76.6732 651.279 80.3653 648.638 Q84.0256 645.964 84.0256 641.317 Q84.0256 636.67 80.3653 634.028 Q76.6732 631.355 70.212 631.355 Z\" fill=\"#000000\" fill-rule=\"evenodd\" fill-opacity=\"1\" /><path clip-path=\"url(#clip360)\" d=\"M 0 0 M38.479 619.133 L38.479 613.276 L88.0042 613.276 L88.0042 619.133 L38.479 619.133 Z\" fill=\"#000000\" fill-rule=\"evenodd\" fill-opacity=\"1\" /><path clip-path=\"url(#clip360)\" d=\"M 0 0 M68.7161 576.642 L71.5806 576.642 L71.5806 603.569 Q77.6281 603.187 80.8109 599.94 Q83.9619 596.662 83.9619 590.837 Q83.9619 587.463 83.1344 584.312 Q82.3069 581.129 80.6518 578.01 L86.1899 578.01 Q87.5267 581.161 88.227 584.471 Q88.9272 587.782 88.9272 591.187 Q88.9272 599.717 83.9619 604.714 Q78.9967 609.68 70.5303 609.68 Q61.7774 609.68 56.6531 604.969 Q51.4968 600.227 51.4968 592.206 Q51.4968 585.012 56.1438 580.843 Q60.7589 576.642 68.7161 576.642 M66.9973 582.498 Q62.1912 582.562 59.3266 585.203 Q56.4621 587.813 56.4621 592.142 Q56.4621 597.044 59.2312 600.004 Q62.0002 602.932 67.0292 603.378 L66.9973 582.498 Z\" fill=\"#000000\" fill-rule=\"evenodd\" fill-opacity=\"1\" /><path clip-path=\"url(#clip360)\" d=\"M 0 0 M52.3562 542.012 L69.7028 554.903 L88.0042 541.344 L88.0042 548.251 L73.9996 558.627 L88.0042 569.003 L88.0042 575.91 L69.3526 562.064 L52.3562 574.732 L52.3562 567.825 L65.0558 558.372 L52.3562 548.919 L52.3562 542.012 Z\" fill=\"#000000\" fill-rule=\"evenodd\" fill-opacity=\"1\" /><path clip-path=\"url(#clip360)\" d=\"M 0 0 M52.3562 535.201 L52.3562 529.344 L88.0042 529.344 L88.0042 535.201 L52.3562 535.201 M38.479 535.201 L38.479 529.344 L45.895 529.344 L45.895 535.201 L38.479 535.201 Z\" fill=\"#000000\" fill-rule=\"evenodd\" fill-opacity=\"1\" /><path clip-path=\"url(#clip360)\" d=\"M 0 0 M42.2347 517.409 L52.3562 517.409 L52.3562 505.346 L56.9077 505.346 L56.9077 517.409 L76.2594 517.409 Q80.6199 517.409 81.8613 516.231 Q83.1026 515.022 83.1026 511.361 L83.1026 505.346 L88.0042 505.346 L88.0042 511.361 Q88.0042 518.141 85.4897 520.719 Q82.9434 523.297 76.2594 523.297 L56.9077 523.297 L56.9077 527.594 L52.3562 527.594 L52.3562 523.297 L42.2347 523.297 L42.2347 517.409 Z\" fill=\"#000000\" fill-rule=\"evenodd\" fill-opacity=\"1\" /><path clip-path=\"url(#clip360)\" d=\"M 0 0 M91.3143 484.371 Q97.68 486.853 99.6216 489.209 Q101.563 491.564 101.563 495.511 L101.563 500.189 L96.6615 500.189 L96.6615 496.752 Q96.6615 494.333 95.5157 492.996 Q94.3699 491.659 90.1048 490.036 L87.4312 488.986 L52.3562 503.404 L52.3562 497.198 L80.238 486.058 L52.3562 474.918 L52.3562 468.711 L91.3143 484.371 Z\" fill=\"#000000\" fill-rule=\"evenodd\" fill-opacity=\"1\" /><path clip-path=\"url(#clip362)\" d=\"\n",
       "M509.323 1386.4 L286.417 1386.4 L732.229 1386.4 L509.323 1386.4 L509.323 1235.94 L509.323 1386.4  Z\n",
       "  \" fill=\"#1874cd\" fill-rule=\"evenodd\" fill-opacity=\"0.7\"/>\n",
       "<polyline clip-path=\"url(#clip362)\" style=\"stroke:#000000; stroke-width:4; stroke-opacity:0.7; fill:none\" points=\"\n",
       "  509.323,1386.4 286.417,1386.4 732.229,1386.4 509.323,1386.4 509.323,1235.94 509.323,1386.4 \n",
       "  \"/>\n",
       "<path clip-path=\"url(#clip362)\" d=\"\n",
       "M286.417 1235.94 L286.417 1172.66 L732.229 1172.66 L732.229 1235.94 L286.417 1235.94 L286.417 1235.94  Z\n",
       "  \" fill=\"#1874cd\" fill-rule=\"evenodd\" fill-opacity=\"0.7\"/>\n",
       "<polyline clip-path=\"url(#clip362)\" style=\"stroke:#000000; stroke-width:4; stroke-opacity:0.7; fill:none\" points=\"\n",
       "  286.417,1235.94 286.417,1172.66 732.229,1172.66 732.229,1235.94 286.417,1235.94 \n",
       "  \"/>\n",
       "<path clip-path=\"url(#clip362)\" d=\"\n",
       "M286.417 1095.33 L286.417 1172.66 L732.229 1172.66 L732.229 1095.33 L286.417 1095.33 L286.417 1095.33  Z\n",
       "  \" fill=\"#1874cd\" fill-rule=\"evenodd\" fill-opacity=\"0.7\"/>\n",
       "<polyline clip-path=\"url(#clip362)\" style=\"stroke:#000000; stroke-width:4; stroke-opacity:0.7; fill:none\" points=\"\n",
       "  286.417,1095.33 286.417,1172.66 732.229,1172.66 732.229,1095.33 286.417,1095.33 \n",
       "  \"/>\n",
       "<path clip-path=\"url(#clip362)\" d=\"\n",
       "M509.323 908.314 L286.417 908.314 L732.229 908.314 L509.323 908.314 L509.323 1095.33 L509.323 908.314  Z\n",
       "  \" fill=\"#1874cd\" fill-rule=\"evenodd\" fill-opacity=\"0.7\"/>\n",
       "<polyline clip-path=\"url(#clip362)\" style=\"stroke:#000000; stroke-width:4; stroke-opacity:0.7; fill:none\" points=\"\n",
       "  509.323,908.314 286.417,908.314 732.229,908.314 509.323,908.314 509.323,1095.33 509.323,908.314 \n",
       "  \"/>\n",
       "<path clip-path=\"url(#clip362)\" d=\"\n",
       "M1289.49 1375.15 L1066.59 1375.15 L1512.4 1375.15 L1289.49 1375.15 L1289.49 1120.64 L1289.49 1375.15  Z\n",
       "  \" fill=\"#1874cd\" fill-rule=\"evenodd\" fill-opacity=\"0.7\"/>\n",
       "<polyline clip-path=\"url(#clip362)\" style=\"stroke:#000000; stroke-width:4; stroke-opacity:0.7; fill:none\" points=\"\n",
       "  1289.49,1375.15 1066.59,1375.15 1512.4,1375.15 1289.49,1375.15 1289.49,1120.64 1289.49,1375.15 \n",
       "  \"/>\n",
       "<path clip-path=\"url(#clip362)\" d=\"\n",
       "M1066.59 1120.64 L1066.59 922.375 L1512.4 922.375 L1512.4 1120.64 L1066.59 1120.64 L1066.59 1120.64  Z\n",
       "  \" fill=\"#1874cd\" fill-rule=\"evenodd\" fill-opacity=\"0.7\"/>\n",
       "<polyline clip-path=\"url(#clip362)\" style=\"stroke:#000000; stroke-width:4; stroke-opacity:0.7; fill:none\" points=\"\n",
       "  1066.59,1120.64 1066.59,922.375 1512.4,922.375 1512.4,1120.64 1066.59,1120.64 \n",
       "  \"/>\n",
       "<path clip-path=\"url(#clip362)\" d=\"\n",
       "M1066.59 746.328 L1066.59 922.375 L1512.4 922.375 L1512.4 746.328 L1066.59 746.328 L1066.59 746.328  Z\n",
       "  \" fill=\"#1874cd\" fill-rule=\"evenodd\" fill-opacity=\"0.7\"/>\n",
       "<polyline clip-path=\"url(#clip362)\" style=\"stroke:#000000; stroke-width:4; stroke-opacity:0.7; fill:none\" points=\"\n",
       "  1066.59,746.328 1066.59,922.375 1512.4,922.375 1512.4,746.328 1066.59,746.328 \n",
       "  \"/>\n",
       "<path clip-path=\"url(#clip362)\" d=\"\n",
       "M1289.49 289.62 L1066.59 289.62 L1512.4 289.62 L1289.49 289.62 L1289.49 746.328 L1289.49 289.62  Z\n",
       "  \" fill=\"#1874cd\" fill-rule=\"evenodd\" fill-opacity=\"0.7\"/>\n",
       "<polyline clip-path=\"url(#clip362)\" style=\"stroke:#000000; stroke-width:4; stroke-opacity:0.7; fill:none\" points=\"\n",
       "  1289.49,289.62 1066.59,289.62 1512.4,289.62 1289.49,289.62 1289.49,746.328 1289.49,289.62 \n",
       "  \"/>\n",
       "<circle clip-path=\"url(#clip362)\" cx=\"2069.67\" cy=\"1290.78\" r=\"14\" fill=\"#1874cd\" fill-rule=\"evenodd\" fill-opacity=\"0.7\" stroke=\"#000000\" stroke-opacity=\"0.7\" stroke-width=\"3.2\"/>\n",
       "<circle clip-path=\"url(#clip362)\" cx=\"2069.67\" cy=\"160.256\" r=\"14\" fill=\"#1874cd\" fill-rule=\"evenodd\" fill-opacity=\"0.7\" stroke=\"#000000\" stroke-opacity=\"0.7\" stroke-width=\"3.2\"/>\n",
       "<circle clip-path=\"url(#clip362)\" cx=\"2069.67\" cy=\"227.75\" r=\"14\" fill=\"#1874cd\" fill-rule=\"evenodd\" fill-opacity=\"0.7\" stroke=\"#000000\" stroke-opacity=\"0.7\" stroke-width=\"3.2\"/>\n",
       "<circle clip-path=\"url(#clip362)\" cx=\"2069.67\" cy=\"182.754\" r=\"14\" fill=\"#1874cd\" fill-rule=\"evenodd\" fill-opacity=\"0.7\" stroke=\"#000000\" stroke-opacity=\"0.7\" stroke-width=\"3.2\"/>\n",
       "<path clip-path=\"url(#clip362)\" d=\"\n",
       "M2069.67 1110.8 L1846.76 1110.8 L2292.57 1110.8 L2069.67 1110.8 L2069.67 908.314 L2069.67 1110.8  Z\n",
       "  \" fill=\"#1874cd\" fill-rule=\"evenodd\" fill-opacity=\"0.7\"/>\n",
       "<polyline clip-path=\"url(#clip362)\" style=\"stroke:#000000; stroke-width:4; stroke-opacity:0.7; fill:none\" points=\"\n",
       "  2069.67,1110.8 1846.76,1110.8 2292.57,1110.8 2069.67,1110.8 2069.67,908.314 2069.67,1110.8 \n",
       "  \"/>\n",
       "<path clip-path=\"url(#clip362)\" d=\"\n",
       "M1846.76 908.314 L1846.76 776.138 L2292.57 776.138 L2292.57 908.314 L1846.76 908.314 L1846.76 908.314  Z\n",
       "  \" fill=\"#1874cd\" fill-rule=\"evenodd\" fill-opacity=\"0.7\"/>\n",
       "<polyline clip-path=\"url(#clip362)\" style=\"stroke:#000000; stroke-width:4; stroke-opacity:0.7; fill:none\" points=\"\n",
       "  1846.76,908.314 1846.76,776.138 2292.57,776.138 2292.57,908.314 1846.76,908.314 \n",
       "  \"/>\n",
       "<path clip-path=\"url(#clip362)\" d=\"\n",
       "M1846.76 703.02 L1846.76 776.138 L2292.57 776.138 L2292.57 703.02 L1846.76 703.02 L1846.76 703.02  Z\n",
       "  \" fill=\"#1874cd\" fill-rule=\"evenodd\" fill-opacity=\"0.7\"/>\n",
       "<polyline clip-path=\"url(#clip362)\" style=\"stroke:#000000; stroke-width:4; stroke-opacity:0.7; fill:none\" points=\"\n",
       "  1846.76,703.02 1846.76,776.138 2292.57,776.138 2292.57,703.02 1846.76,703.02 \n",
       "  \"/>\n",
       "<path clip-path=\"url(#clip362)\" d=\"\n",
       "M2069.67 508.975 L1846.76 508.975 L2292.57 508.975 L2069.67 508.975 L2069.67 703.02 L2069.67 508.975  Z\n",
       "  \" fill=\"#1874cd\" fill-rule=\"evenodd\" fill-opacity=\"0.7\"/>\n",
       "<polyline clip-path=\"url(#clip362)\" style=\"stroke:#000000; stroke-width:4; stroke-opacity:0.7; fill:none\" points=\"\n",
       "  2069.67,508.975 1846.76,508.975 2292.57,508.975 2069.67,508.975 2069.67,703.02 2069.67,508.975 \n",
       "  \"/>\n",
       "</svg>\n"
      ]
     },
     "execution_count": 27,
     "metadata": {},
     "output_type": "execute_result"
    }
   ],
   "source": [
    "metric_boxplot([\"top\" \"middle\" \"bottom\"], [top_tier, middle_tier, bottom_tier], \"complexity\", title=\"Computer Science Programs\", xlabel=\"tiers\", ylabel=\"curricular complexity\")"
   ]
  },
  {
   "cell_type": "markdown",
   "metadata": {},
   "source": [
    "## ANOVA Analysis\n",
    "\n",
    "The ANOVA analysis involves random sampling of schools within each of the three tiers. In order to ensure the analysis is able to distinguish between actual curricular complexity differences among the tiers, and random variation, sufficient sample sizes must be determined. Under the assumption that the curricular complexity distributions within the tiers are approximately normal, with variance $\\sigma^2$, the number of samples that should be selected from each tier is given by\n",
    "\\begin{equation}\n",
    " n = \\left({\\sigma Z \\over E}\\right)^2,\n",
    "\\end{equation}\n",
    "where $Z$ is the confidence interval expressed using deviation within the standard normal distribution, and $E$ is the margin of error. To obtain an estimate of $\\sigma$, pilot samples from each of the three tiers were taken, yielding the estimate $\\hat{\\sigma} = 90$. For a 95\\% confidence interval, which corresponds to $Z = 1.96$, the margin of error will be 40 curricular complexity points, i.e., 20 points on either side of the mean for a tier. Using these values in the equation provided above leads to sample sizes of $n_1 = n_2 = n_3 = 20$, where $n_1, n_2$ and $n_3$ are the sample sizes for the top, medium and bottom tiers, respectively. Thus, by sampling at least 20 schools from each tier, we can have 95\\% confidence that the error in this analysis will be by no more than 40 curricular complexity points.\n",
    "\n",
    "In order to test the null hypothesis using ANOVA, we must assume the curricular complexity values of the schools within each tier are normally distributed, and that all three tiers have the same variance $\\sigma^2$. It should be noted that these conditions can be moderately relaxed (particularly the normality assumption) and the analysis will remain valid \\cite{MeScWa:81}. \n",
    "\n",
    "The ANOVA method partitions the total sum of squares of the deviations in curricular complexity across all schools into two independent parts, one that is attributed to the independent variable (program quality in this case), and a remainder that is attributed to random errors arising from other factors not accounted for in this experiment. That is,\n",
    "\\begin{equation}\n",
    " TSS = SST + SSE,\n",
    "\\end{equation}\n",
    "where $TSS$ denotes the total sum of squares of deviations, $SST$ represents the sum of squares of the deviations between the tiers, and SSE is the sum of squares attributed to errors or noise. More specifically, if we let $cc_{ij}$ denote the curricular complexity of the $j$\\nth school sampled from the $i$-th tier, then\n",
    "\\begin{equation}\n",
    " TSS = \\sum_{i=1}^3 \\sum_{j=1}^{n_i} \\left(cc_{ij} - \\overline{cc}\\right)^2,\n",
    "\\end{equation}\n",
    "where $\\overline{cc}$ is the sample mean for all samples drawn over all tiers.  The sum of squares deviation between the tiers is given by \n",
    "\\begin{equation}\n",
    " SST = \\sum_{i=1}^3 n_i\\left(\\overline{T}_i - \\overline{cc}\\right)^2,\n",
    "\\end{equation}\n",
    "where $T_i$ is the total curricular complexity of the schools sampled from the $i$-th tier, and $\\overline{T}_i = T_i/n_i, i = 1,2,3$, are the tier sample averages.\n",
    "Note that when the sample means for the three tiers are the same, $SST=0$.\n",
    "\n",
    "Substituting the TSS and SST equations provided above into $TSS = SST + SSE$, and solving for $SSE$ yields:\n",
    "\\begin{equation}\n",
    " SSE = {\\sum_{i=1}^3 \\sum_{j=1}^{n_i} \\left(cc_{ij} - \\bar{T}_i\\right)^2}.\n",
    "\\end{equation}\n",
    "\n",
    "The unbiased estimator of $\\sigma^2$ based on $n - 3$ degrees of freedom is given by the mean square error,\n",
    "\\begin{equation}\n",
    " MSE = {SSE \\over n - 3},\n",
    "\\end{equation}\n",
    "where $n = n_1 + n_2 + n_3$.\n",
    "\n",
    "The mean square for the tiers has 2 degrees of freedom, i.e., one less than the number of tiers, and is therefore\n",
    "\\begin{equation}\n",
    " MST = {SST \\over 2}. \n",
    "\\end{equation}\n",
    "\n",
    "In order to assess the statistical significance of a decision to reject the null hypothesis, an $F$-test is conducted to compare the deviation among the tier variances.  The $F$-test statistic is given by\n",
    "\\[\n",
    " F = {MST \\over MSE}.\n",
    "\\] \n",
    "Note that the $F$-test is a ratio that compares the mean square variability between the tiers to the mean square variability within the tiers. Thus, as $F$-test values increase above $1$, the data are increasingly inconsistent with the null hypothesis, and the null hypothesis should be rejected when $F > F_{\\alpha}$,\n",
    "where $F_{\\alpha}$ is the critical value of $F$ where the probability of a type I error is $\\alpha$.\n",
    "\n",
    "For the $F$ distribution with $(2, 59)$ degrees of freedom, $F_{0.05} = 3.15$.  That is, if the $F$-test for the experiment yields a value greater than $3.15$, we can reject the null hypothesis with only a 5\\% chance of doing so in error."
   ]
  },
  {
   "cell_type": "markdown",
   "metadata": {},
   "source": [
    "Let $n_1, n_2$ and $n_3$ be the sample sizes drawn from top, middle and bottom tier schools, respectively, with $n = n_1 + n_2 + n_3$."
   ]
  },
  {
   "cell_type": "code",
   "execution_count": 28,
   "metadata": {},
   "outputs": [
    {
     "data": {
      "text/plain": [
       "60"
      ]
     },
     "execution_count": 28,
     "metadata": {},
     "output_type": "execute_result"
    }
   ],
   "source": [
    "n_1 = length(top_tier)\n",
    "n_2 = length(middle_tier)\n",
    "n_3 = length(bottom_tier)\n",
    "\n",
    "n = n_1 + n_2 + n_3"
   ]
  },
  {
   "cell_type": "markdown",
   "metadata": {},
   "source": [
    "Compute the TSS:\n",
    "\n",
    "\\begin{equation}\n",
    " TSS = \\sum_{i=1}^3 \\sum_{j=1}^{n_i} \\left(cc_{ij} - \\overline{cc}\\right)^2\n",
    "\\end{equation}\n"
   ]
  },
  {
   "cell_type": "code",
   "execution_count": 29,
   "metadata": {},
   "outputs": [
    {
     "data": {
      "text/plain": [
       "165446.29"
      ]
     },
     "execution_count": 29,
     "metadata": {},
     "output_type": "execute_result"
    }
   ],
   "source": [
    "cc_bar = (top_tier_total_cc + middle_tier_total_cc + bottom_tier_total_cc) / n \n",
    "TSS = 0.0\n",
    "for curric in values(top_tier)\n",
    "    cc_ij = curric.metrics[\"complexity\"][1]\n",
    "    TSS += (cc_ij - cc_bar)^2\n",
    "end\n",
    "for curric in values(middle_tier)\n",
    "    cc_ij = curric.metrics[\"complexity\"][1]\n",
    "    TSS += (cc_ij - cc_bar)^2\n",
    "end\n",
    "for curric in values(bottom_tier)\n",
    "    cc_ij = curric.metrics[\"complexity\"][1]\n",
    "    TSS += (cc_ij - cc_bar)^2\n",
    "end\n",
    "TSS = round(TSS, digits=2)"
   ]
  },
  {
   "cell_type": "markdown",
   "metadata": {},
   "source": [
    "Compute the SST:\n",
    "\n",
    "\\begin{equation}\n",
    " SST = \\sum_{i=1}^3 n_i\\left(\\overline{T}_i - \\overline{cc}\\right)^2\n",
    "\\end{equation}"
   ]
  },
  {
   "cell_type": "code",
   "execution_count": 30,
   "metadata": {},
   "outputs": [
    {
     "data": {
      "text/plain": [
       "54080.53"
      ]
     },
     "execution_count": 30,
     "metadata": {},
     "output_type": "execute_result"
    }
   ],
   "source": [
    "SST = round(n_1 * (top_tier_avg_cc - cc_bar)^2 + \n",
    "            n_2 * (middle_tier_avg_cc - cc_bar)^2 + \n",
    "            n_3 * (bottom_tier_avg_cc - cc_bar)^2, digits=2)"
   ]
  },
  {
   "cell_type": "markdown",
   "metadata": {},
   "source": [
    "Compute the SSE: \n",
    "\\begin{equation}\n",
    " SSE = {\\sum_{i=1}^3 \\sum_{j=1}^{n_i} \\left(cc_{ij} - \\bar{T}_i\\right)^2}\n",
    "\\end{equation}"
   ]
  },
  {
   "cell_type": "code",
   "execution_count": 31,
   "metadata": {},
   "outputs": [
    {
     "name": "stdout",
     "output_type": "stream",
     "text": [
      "54080.53\n",
      "111365.76\n",
      "165446.28999999998\n"
     ]
    }
   ],
   "source": [
    "SSE = 0.0\n",
    "for curric in values(top_tier)\n",
    "    cc_ij = curric.metrics[\"complexity\"][1]\n",
    "    SSE += (cc_ij - top_tier_avg_cc)^2\n",
    "end\n",
    "for curric in values(middle_tier)\n",
    "    cc_ij = curric.metrics[\"complexity\"][1]\n",
    "    SSE += (cc_ij - middle_tier_avg_cc)^2\n",
    "end\n",
    "for curric in values(bottom_tier)\n",
    "    cc_ij = curric.metrics[\"complexity\"][1]\n",
    "    SSE += (cc_ij - bottom_tier_avg_cc)^2\n",
    "end\n",
    "SSE = round(SSE, digits=2)\n",
    "println(SST)\n",
    "println(SSE)\n",
    "println(SST+SSE)"
   ]
  },
  {
   "cell_type": "markdown",
   "metadata": {},
   "source": [
    "\\begin{equation}\n",
    " MSE = {SSE \\over n - 3}\n",
    "\\end{equation}"
   ]
  },
  {
   "cell_type": "code",
   "execution_count": 32,
   "metadata": {},
   "outputs": [
    {
     "data": {
      "text/plain": [
       "1953.79"
      ]
     },
     "execution_count": 32,
     "metadata": {},
     "output_type": "execute_result"
    }
   ],
   "source": [
    "MSE = round(SSE/(n-3), digits=2)"
   ]
  },
  {
   "cell_type": "markdown",
   "metadata": {},
   "source": [
    "\\begin{equation}\n",
    " MST = {SST \\over 2}\n",
    "\\end{equation}"
   ]
  },
  {
   "cell_type": "code",
   "execution_count": 33,
   "metadata": {},
   "outputs": [
    {
     "data": {
      "text/plain": [
       "27040.26"
      ]
     },
     "execution_count": 33,
     "metadata": {},
     "output_type": "execute_result"
    }
   ],
   "source": [
    "MST = round(SST/2, digits=2)"
   ]
  },
  {
   "cell_type": "markdown",
   "metadata": {},
   "source": [
    "The $F$-test statistic is given by\n",
    "\\begin{equation}\n",
    "F = {MST \\over MSE}\n",
    "\\end{equation}"
   ]
  },
  {
   "cell_type": "code",
   "execution_count": 34,
   "metadata": {},
   "outputs": [
    {
     "data": {
      "text/plain": [
       "13.84"
      ]
     },
     "execution_count": 34,
     "metadata": {},
     "output_type": "execute_result"
    }
   ],
   "source": [
    "F = round(MST/MSE, digits=2)"
   ]
  },
  {
   "cell_type": "markdown",
   "metadata": {},
   "source": [
    "The results of the ANOVA analysis associated with the samples selected from the three tiers of schools are shown below. "
   ]
  },
  {
   "cell_type": "code",
   "execution_count": 35,
   "metadata": {},
   "outputs": [
    {
     "name": "stdout",
     "output_type": "stream",
     "text": [
      "\t   SS\t\tdf\t\t  MS\t\t F\n",
      "\t-----------------------------------------------------\n",
      "Tiers  | 54080.53\t2\t\t27040.26\t13.84\n",
      "Error  | 111365.76\t57\t\t1953.79\n",
      "Totals | 165446.28999999998\t59\n"
     ]
    }
   ],
   "source": [
    "println(\"\\t   SS\\t\\tdf\\t\\t  MS\\t\\t F\")\n",
    "println(\"\\t-----------------------------------------------------\")\n",
    "println(\"Tiers  | $SST\\t2\\t\\t$MST\\t$F\")\n",
    "println(\"Error  | $SSE\\t$(n-3)\\t\\t$MSE\")\n",
    "println(\"Totals | $(SST+SSE)\\t$(n-1)\")"
   ]
  },
  {
   "cell_type": "markdown",
   "metadata": {},
   "source": [
    "Notice that the $F$-test statistic obtained from this analysis is $13.83$.  Because\n",
    "\\begin{equation}\n",
    "  13.83 > F_{0.05} = 3.15,\n",
    "\\end{equation}\n",
    "the null hypothesis should be rejected.  That is, with a low probability of error, the samples collected from each tier indicate that the mean curricular complexity values of the tiers are different.  This result, along with the evidence given in histograms and box-and-whisker diagram, provide strong evidence that higher quality undergraduate computer science programs have lower curricular complexity, and that lower quality undergraduate computer science programs have higher curricular complexity.  "
   ]
  },
  {
   "cell_type": "markdown",
   "metadata": {},
   "source": [
    "### Notched Box Plot\n",
    "In a notched box plot the notches represent confidence intervals. Specifically, the notch provides an interval about  the median $m$ computed using:\n",
    "$$\n",
    " m_i \\pm 1.57 \\times IQR/\\sqrt{n_i}\n",
    "$$\n",
    "where $IQR$ is the interquartile range (the distance between the 25th and 75 percentile), and $n_i$ is number of observations in the $i$th sample.  Informally, if the notches of two boxes do not overlap on the $y$ axis, there is strong evidence (i.e., 95% confidence) their medians differ."
   ]
  },
  {
   "cell_type": "code",
   "execution_count": 36,
   "metadata": {},
   "outputs": [
    {
     "data": {
      "image/svg+xml": [
       "<?xml version=\"1.0\" encoding=\"utf-8\"?>\n",
       "<svg xmlns=\"http://www.w3.org/2000/svg\" xmlns:xlink=\"http://www.w3.org/1999/xlink\" width=\"600\" height=\"400\" viewBox=\"0 0 2400 1600\">\n",
       "<defs>\n",
       "  <clipPath id=\"clip400\">\n",
       "    <rect x=\"0\" y=\"0\" width=\"2400\" height=\"1600\"/>\n",
       "  </clipPath>\n",
       "</defs>\n",
       "<path clip-path=\"url(#clip400)\" d=\"\n",
       "M0 1600 L2400 1600 L2400 0 L0 0  Z\n",
       "  \" fill=\"#ffffff\" fill-rule=\"evenodd\" fill-opacity=\"1\"/>\n",
       "<defs>\n",
       "  <clipPath id=\"clip401\">\n",
       "    <rect x=\"480\" y=\"0\" width=\"1681\" height=\"1600\"/>\n",
       "  </clipPath>\n",
       "</defs>\n",
       "<path clip-path=\"url(#clip400)\" d=\"\n",
       "M226.232 1423.18 L2352.76 1423.18 L2352.76 123.472 L226.232 123.472  Z\n",
       "  \" fill=\"#ffffff\" fill-rule=\"evenodd\" fill-opacity=\"1\"/>\n",
       "<defs>\n",
       "  <clipPath id=\"clip402\">\n",
       "    <rect x=\"226\" y=\"123\" width=\"2128\" height=\"1301\"/>\n",
       "  </clipPath>\n",
       "</defs>\n",
       "<polyline clip-path=\"url(#clip402)\" style=\"stroke:#000000; stroke-width:2; stroke-opacity:0.1; fill:none\" points=\"\n",
       "  509.323,1423.18 509.323,123.472 \n",
       "  \"/>\n",
       "<polyline clip-path=\"url(#clip402)\" style=\"stroke:#000000; stroke-width:2; stroke-opacity:0.1; fill:none\" points=\"\n",
       "  1289.49,1423.18 1289.49,123.472 \n",
       "  \"/>\n",
       "<polyline clip-path=\"url(#clip402)\" style=\"stroke:#000000; stroke-width:2; stroke-opacity:0.1; fill:none\" points=\"\n",
       "  2069.67,1423.18 2069.67,123.472 \n",
       "  \"/>\n",
       "<polyline clip-path=\"url(#clip402)\" style=\"stroke:#000000; stroke-width:2; stroke-opacity:0.1; fill:none\" points=\"\n",
       "  226.232,1150.17 2352.76,1150.17 \n",
       "  \"/>\n",
       "<polyline clip-path=\"url(#clip402)\" style=\"stroke:#000000; stroke-width:2; stroke-opacity:0.1; fill:none\" points=\"\n",
       "  226.232,868.942 2352.76,868.942 \n",
       "  \"/>\n",
       "<polyline clip-path=\"url(#clip402)\" style=\"stroke:#000000; stroke-width:2; stroke-opacity:0.1; fill:none\" points=\"\n",
       "  226.232,587.718 2352.76,587.718 \n",
       "  \"/>\n",
       "<polyline clip-path=\"url(#clip402)\" style=\"stroke:#000000; stroke-width:2; stroke-opacity:0.1; fill:none\" points=\"\n",
       "  226.232,306.493 2352.76,306.493 \n",
       "  \"/>\n",
       "<polyline clip-path=\"url(#clip400)\" style=\"stroke:#000000; stroke-width:4; stroke-opacity:1; fill:none\" points=\"\n",
       "  226.232,1423.18 2352.76,1423.18 \n",
       "  \"/>\n",
       "<polyline clip-path=\"url(#clip400)\" style=\"stroke:#000000; stroke-width:4; stroke-opacity:1; fill:none\" points=\"\n",
       "  226.232,1423.18 226.232,123.472 \n",
       "  \"/>\n",
       "<polyline clip-path=\"url(#clip400)\" style=\"stroke:#000000; stroke-width:4; stroke-opacity:1; fill:none\" points=\"\n",
       "  509.323,1423.18 509.323,1407.58 \n",
       "  \"/>\n",
       "<polyline clip-path=\"url(#clip400)\" style=\"stroke:#000000; stroke-width:4; stroke-opacity:1; fill:none\" points=\"\n",
       "  1289.49,1423.18 1289.49,1407.58 \n",
       "  \"/>\n",
       "<polyline clip-path=\"url(#clip400)\" style=\"stroke:#000000; stroke-width:4; stroke-opacity:1; fill:none\" points=\"\n",
       "  2069.67,1423.18 2069.67,1407.58 \n",
       "  \"/>\n",
       "<polyline clip-path=\"url(#clip400)\" style=\"stroke:#000000; stroke-width:4; stroke-opacity:1; fill:none\" points=\"\n",
       "  226.232,1150.17 251.75,1150.17 \n",
       "  \"/>\n",
       "<polyline clip-path=\"url(#clip400)\" style=\"stroke:#000000; stroke-width:4; stroke-opacity:1; fill:none\" points=\"\n",
       "  226.232,868.942 251.75,868.942 \n",
       "  \"/>\n",
       "<polyline clip-path=\"url(#clip400)\" style=\"stroke:#000000; stroke-width:4; stroke-opacity:1; fill:none\" points=\"\n",
       "  226.232,587.718 251.75,587.718 \n",
       "  \"/>\n",
       "<polyline clip-path=\"url(#clip400)\" style=\"stroke:#000000; stroke-width:4; stroke-opacity:1; fill:none\" points=\"\n",
       "  226.232,306.493 251.75,306.493 \n",
       "  \"/>\n",
       "<path clip-path=\"url(#clip400)\" d=\"M 0 0 M481.684 1443.36 L481.684 1450.73 L490.457 1450.73 L490.457 1454.04 L481.684 1454.04 L481.684 1468.11 Q481.684 1471.28 482.54 1472.18 Q483.42 1473.09 486.082 1473.09 L490.457 1473.09 L490.457 1476.65 L486.082 1476.65 Q481.152 1476.65 479.277 1474.82 Q477.402 1472.97 477.402 1468.11 L477.402 1454.04 L474.277 1454.04 L474.277 1450.73 L477.402 1450.73 L477.402 1443.36 L481.684 1443.36 Z\" fill=\"#000000\" fill-rule=\"evenodd\" fill-opacity=\"1\" /><path clip-path=\"url(#clip400)\" d=\"M 0 0 M504.971 1453.71 Q501.545 1453.71 499.554 1456.4 Q497.563 1459.06 497.563 1463.71 Q497.563 1468.36 499.531 1471.05 Q501.522 1473.71 504.971 1473.71 Q508.374 1473.71 510.364 1471.03 Q512.355 1468.34 512.355 1463.71 Q512.355 1459.11 510.364 1456.42 Q508.374 1453.71 504.971 1453.71 M504.971 1450.1 Q510.526 1450.1 513.698 1453.71 Q516.869 1457.32 516.869 1463.71 Q516.869 1470.08 513.698 1473.71 Q510.526 1477.32 504.971 1477.32 Q499.392 1477.32 496.221 1473.71 Q493.073 1470.08 493.073 1463.71 Q493.073 1457.32 496.221 1453.71 Q499.392 1450.1 504.971 1450.1 Z\" fill=\"#000000\" fill-rule=\"evenodd\" fill-opacity=\"1\" /><path clip-path=\"url(#clip400)\" d=\"M 0 0 M525.457 1472.76 L525.457 1486.51 L521.174 1486.51 L521.174 1450.73 L525.457 1450.73 L525.457 1454.66 Q526.799 1452.35 528.836 1451.24 Q530.897 1450.1 533.744 1450.1 Q538.466 1450.1 541.406 1453.85 Q544.369 1457.6 544.369 1463.71 Q544.369 1469.82 541.406 1473.57 Q538.466 1477.32 533.744 1477.32 Q530.897 1477.32 528.836 1476.21 Q526.799 1475.08 525.457 1472.76 M539.948 1463.71 Q539.948 1459.01 538.003 1456.35 Q536.082 1453.67 532.702 1453.67 Q529.323 1453.67 527.378 1456.35 Q525.457 1459.01 525.457 1463.71 Q525.457 1468.41 527.378 1471.1 Q529.323 1473.76 532.702 1473.76 Q536.082 1473.76 538.003 1471.1 Q539.948 1468.41 539.948 1463.71 Z\" fill=\"#000000\" fill-rule=\"evenodd\" fill-opacity=\"1\" /><path clip-path=\"url(#clip400)\" d=\"M 0 0 M1243.08 1455.7 Q1244.68 1452.83 1246.9 1451.47 Q1249.12 1450.1 1252.13 1450.1 Q1256.18 1450.1 1258.38 1452.95 Q1260.58 1455.77 1260.58 1461 L1260.58 1476.65 L1256.3 1476.65 L1256.3 1461.14 Q1256.3 1457.42 1254.98 1455.61 Q1253.66 1453.8 1250.95 1453.8 Q1247.64 1453.8 1245.72 1456 Q1243.8 1458.2 1243.8 1462 L1243.8 1476.65 L1239.52 1476.65 L1239.52 1461.14 Q1239.52 1457.39 1238.2 1455.61 Q1236.88 1453.8 1234.12 1453.8 Q1230.86 1453.8 1228.94 1456.03 Q1227.02 1458.23 1227.02 1462 L1227.02 1476.65 L1222.74 1476.65 L1222.74 1450.73 L1227.02 1450.73 L1227.02 1454.75 Q1228.48 1452.37 1230.51 1451.24 Q1232.55 1450.1 1235.35 1450.1 Q1238.17 1450.1 1240.14 1451.54 Q1242.13 1452.97 1243.08 1455.7 Z\" fill=\"#000000\" fill-rule=\"evenodd\" fill-opacity=\"1\" /><path clip-path=\"url(#clip400)\" d=\"M 0 0 M1265.05 1450.73 L1269.31 1450.73 L1269.31 1476.65 L1265.05 1476.65 L1265.05 1450.73 M1265.05 1440.63 L1269.31 1440.63 L1269.31 1446.03 L1265.05 1446.03 L1265.05 1440.63 Z\" fill=\"#000000\" fill-rule=\"evenodd\" fill-opacity=\"1\" /><path clip-path=\"url(#clip400)\" d=\"M 0 0 M1290.84 1454.66 L1290.84 1440.63 L1295.1 1440.63 L1295.1 1476.65 L1290.84 1476.65 L1290.84 1472.76 Q1289.49 1475.08 1287.43 1476.21 Q1285.4 1477.32 1282.53 1477.32 Q1277.83 1477.32 1274.86 1473.57 Q1271.92 1469.82 1271.92 1463.71 Q1271.92 1457.6 1274.86 1453.85 Q1277.83 1450.1 1282.53 1450.1 Q1285.4 1450.1 1287.43 1451.24 Q1289.49 1452.35 1290.84 1454.66 M1276.32 1463.71 Q1276.32 1468.41 1278.24 1471.1 Q1280.19 1473.76 1283.57 1473.76 Q1286.95 1473.76 1288.89 1471.1 Q1290.84 1468.41 1290.84 1463.71 Q1290.84 1459.01 1288.89 1456.35 Q1286.95 1453.67 1283.57 1453.67 Q1280.19 1453.67 1278.24 1456.35 Q1276.32 1459.01 1276.32 1463.71 Z\" fill=\"#000000\" fill-rule=\"evenodd\" fill-opacity=\"1\" /><path clip-path=\"url(#clip400)\" d=\"M 0 0 M1316.62 1454.66 L1316.62 1440.63 L1320.88 1440.63 L1320.88 1476.65 L1316.62 1476.65 L1316.62 1472.76 Q1315.28 1475.08 1313.22 1476.21 Q1311.18 1477.32 1308.31 1477.32 Q1303.61 1477.32 1300.65 1473.57 Q1297.71 1469.82 1297.71 1463.71 Q1297.71 1457.6 1300.65 1453.85 Q1303.61 1450.1 1308.31 1450.1 Q1311.18 1450.1 1313.22 1451.24 Q1315.28 1452.35 1316.62 1454.66 M1302.11 1463.71 Q1302.11 1468.41 1304.03 1471.1 Q1305.98 1473.76 1309.35 1473.76 Q1312.73 1473.76 1314.68 1471.1 Q1316.62 1468.41 1316.62 1463.71 Q1316.62 1459.01 1314.68 1456.35 Q1312.73 1453.67 1309.35 1453.67 Q1305.98 1453.67 1304.03 1456.35 Q1302.11 1459.01 1302.11 1463.71 Z\" fill=\"#000000\" fill-rule=\"evenodd\" fill-opacity=\"1\" /><path clip-path=\"url(#clip400)\" d=\"M 0 0 M1325.35 1440.63 L1329.61 1440.63 L1329.61 1476.65 L1325.35 1476.65 L1325.35 1440.63 Z\" fill=\"#000000\" fill-rule=\"evenodd\" fill-opacity=\"1\" /><path clip-path=\"url(#clip400)\" d=\"M 0 0 M1356.25 1462.62 L1356.25 1464.71 L1336.67 1464.71 Q1336.95 1469.11 1339.31 1471.42 Q1341.69 1473.71 1345.93 1473.71 Q1348.38 1473.71 1350.67 1473.11 Q1352.99 1472.51 1355.26 1471.3 L1355.26 1475.33 Q1352.97 1476.3 1350.56 1476.81 Q1348.15 1477.32 1345.67 1477.32 Q1339.47 1477.32 1335.84 1473.71 Q1332.23 1470.1 1332.23 1463.94 Q1332.23 1457.58 1335.65 1453.85 Q1339.1 1450.1 1344.93 1450.1 Q1350.16 1450.1 1353.2 1453.48 Q1356.25 1456.84 1356.25 1462.62 M1351.99 1461.37 Q1351.95 1457.88 1350.03 1455.8 Q1348.13 1453.71 1344.98 1453.71 Q1341.41 1453.71 1339.26 1455.73 Q1337.13 1457.74 1336.81 1461.4 L1351.99 1461.37 Z\" fill=\"#000000\" fill-rule=\"evenodd\" fill-opacity=\"1\" /><path clip-path=\"url(#clip400)\" d=\"M 0 0 M2011.9 1463.71 Q2011.9 1459.01 2009.95 1456.35 Q2008.03 1453.67 2004.65 1453.67 Q2001.27 1453.67 1999.33 1456.35 Q1997.41 1459.01 1997.41 1463.71 Q1997.41 1468.41 1999.33 1471.1 Q2001.27 1473.76 2004.65 1473.76 Q2008.03 1473.76 2009.95 1471.1 Q2011.9 1468.41 2011.9 1463.71 M1997.41 1454.66 Q1998.75 1452.35 2000.79 1451.24 Q2002.85 1450.1 2005.7 1450.1 Q2010.42 1450.1 2013.36 1453.85 Q2016.32 1457.6 2016.32 1463.71 Q2016.32 1469.82 2013.36 1473.57 Q2010.42 1477.32 2005.7 1477.32 Q2002.85 1477.32 2000.79 1476.21 Q1998.75 1475.08 1997.41 1472.76 L1997.41 1476.65 L1993.13 1476.65 L1993.13 1440.63 L1997.41 1440.63 L1997.41 1454.66 Z\" fill=\"#000000\" fill-rule=\"evenodd\" fill-opacity=\"1\" /><path clip-path=\"url(#clip400)\" d=\"M 0 0 M2030.83 1453.71 Q2027.41 1453.71 2025.42 1456.4 Q2023.43 1459.06 2023.43 1463.71 Q2023.43 1468.36 2025.39 1471.05 Q2027.39 1473.71 2030.83 1473.71 Q2034.24 1473.71 2036.23 1471.03 Q2038.22 1468.34 2038.22 1463.71 Q2038.22 1459.11 2036.23 1456.42 Q2034.24 1453.71 2030.83 1453.71 M2030.83 1450.1 Q2036.39 1450.1 2039.56 1453.71 Q2042.73 1457.32 2042.73 1463.71 Q2042.73 1470.08 2039.56 1473.71 Q2036.39 1477.32 2030.83 1477.32 Q2025.26 1477.32 2022.08 1473.71 Q2018.94 1470.08 2018.94 1463.71 Q2018.94 1457.32 2022.08 1453.71 Q2025.26 1450.1 2030.83 1450.1 Z\" fill=\"#000000\" fill-rule=\"evenodd\" fill-opacity=\"1\" /><path clip-path=\"url(#clip400)\" d=\"M 0 0 M2051.41 1443.36 L2051.41 1450.73 L2060.19 1450.73 L2060.19 1454.04 L2051.41 1454.04 L2051.41 1468.11 Q2051.41 1471.28 2052.27 1472.18 Q2053.15 1473.09 2055.81 1473.09 L2060.19 1473.09 L2060.19 1476.65 L2055.81 1476.65 Q2050.88 1476.65 2049.01 1474.82 Q2047.13 1472.97 2047.13 1468.11 L2047.13 1454.04 L2044.01 1454.04 L2044.01 1450.73 L2047.13 1450.73 L2047.13 1443.36 L2051.41 1443.36 Z\" fill=\"#000000\" fill-rule=\"evenodd\" fill-opacity=\"1\" /><path clip-path=\"url(#clip400)\" d=\"M 0 0 M2068.87 1443.36 L2068.87 1450.73 L2077.64 1450.73 L2077.64 1454.04 L2068.87 1454.04 L2068.87 1468.11 Q2068.87 1471.28 2069.72 1472.18 Q2070.6 1473.09 2073.26 1473.09 L2077.64 1473.09 L2077.64 1476.65 L2073.26 1476.65 Q2068.33 1476.65 2066.46 1474.82 Q2064.58 1472.97 2064.58 1468.11 L2064.58 1454.04 L2061.46 1454.04 L2061.46 1450.73 L2064.58 1450.73 L2064.58 1443.36 L2068.87 1443.36 Z\" fill=\"#000000\" fill-rule=\"evenodd\" fill-opacity=\"1\" /><path clip-path=\"url(#clip400)\" d=\"M 0 0 M2092.15 1453.71 Q2088.73 1453.71 2086.74 1456.4 Q2084.75 1459.06 2084.75 1463.71 Q2084.75 1468.36 2086.71 1471.05 Q2088.7 1473.71 2092.15 1473.71 Q2095.56 1473.71 2097.55 1471.03 Q2099.54 1468.34 2099.54 1463.71 Q2099.54 1459.11 2097.55 1456.42 Q2095.56 1453.71 2092.15 1453.71 M2092.15 1450.1 Q2097.71 1450.1 2100.88 1453.71 Q2104.05 1457.32 2104.05 1463.71 Q2104.05 1470.08 2100.88 1473.71 Q2097.71 1477.32 2092.15 1477.32 Q2086.57 1477.32 2083.4 1473.71 Q2080.26 1470.08 2080.26 1463.71 Q2080.26 1457.32 2083.4 1453.71 Q2086.57 1450.1 2092.15 1450.1 Z\" fill=\"#000000\" fill-rule=\"evenodd\" fill-opacity=\"1\" /><path clip-path=\"url(#clip400)\" d=\"M 0 0 M2128.7 1455.7 Q2130.3 1452.83 2132.52 1451.47 Q2134.75 1450.1 2137.76 1450.1 Q2141.81 1450.1 2144.01 1452.95 Q2146.2 1455.77 2146.2 1461 L2146.2 1476.65 L2141.92 1476.65 L2141.92 1461.14 Q2141.92 1457.42 2140.6 1455.61 Q2139.28 1453.8 2136.57 1453.8 Q2133.26 1453.8 2131.34 1456 Q2129.42 1458.2 2129.42 1462 L2129.42 1476.65 L2125.14 1476.65 L2125.14 1461.14 Q2125.14 1457.39 2123.82 1455.61 Q2122.5 1453.8 2119.75 1453.8 Q2116.48 1453.8 2114.56 1456.03 Q2112.64 1458.23 2112.64 1462 L2112.64 1476.65 L2108.36 1476.65 L2108.36 1450.73 L2112.64 1450.73 L2112.64 1454.75 Q2114.1 1452.37 2116.13 1451.24 Q2118.17 1450.1 2120.97 1450.1 Q2123.8 1450.1 2125.76 1451.54 Q2127.76 1452.97 2128.7 1455.7 Z\" fill=\"#000000\" fill-rule=\"evenodd\" fill-opacity=\"1\" /><path clip-path=\"url(#clip400)\" d=\"M 0 0 M128.297 1163.51 L135.936 1163.51 L135.936 1137.15 L127.626 1138.81 L127.626 1134.55 L135.89 1132.89 L140.566 1132.89 L140.566 1163.51 L148.204 1163.51 L148.204 1167.45 L128.297 1167.45 L128.297 1163.51 Z\" fill=\"#000000\" fill-rule=\"evenodd\" fill-opacity=\"1\" /><path clip-path=\"url(#clip400)\" d=\"M 0 0 M163.274 1135.97 Q159.663 1135.97 157.834 1139.53 Q156.029 1143.07 156.029 1150.2 Q156.029 1157.31 157.834 1160.87 Q159.663 1164.41 163.274 1164.41 Q166.908 1164.41 168.714 1160.87 Q170.542 1157.31 170.542 1150.2 Q170.542 1143.07 168.714 1139.53 Q166.908 1135.97 163.274 1135.97 M163.274 1132.26 Q169.084 1132.26 172.14 1136.87 Q175.218 1141.45 175.218 1150.2 Q175.218 1158.93 172.14 1163.53 Q169.084 1168.12 163.274 1168.12 Q157.464 1168.12 154.385 1163.53 Q151.329 1158.93 151.329 1150.2 Q151.329 1141.45 154.385 1136.87 Q157.464 1132.26 163.274 1132.26 Z\" fill=\"#000000\" fill-rule=\"evenodd\" fill-opacity=\"1\" /><path clip-path=\"url(#clip400)\" d=\"M 0 0 M190.288 1135.97 Q186.677 1135.97 184.848 1139.53 Q183.042 1143.07 183.042 1150.2 Q183.042 1157.31 184.848 1160.87 Q186.677 1164.41 190.288 1164.41 Q193.922 1164.41 195.727 1160.87 Q197.556 1157.31 197.556 1150.2 Q197.556 1143.07 195.727 1139.53 Q193.922 1135.97 190.288 1135.97 M190.288 1132.26 Q196.098 1132.26 199.153 1136.87 Q202.232 1141.45 202.232 1150.2 Q202.232 1158.93 199.153 1163.53 Q196.098 1168.12 190.288 1168.12 Q184.477 1168.12 181.399 1163.53 Q178.343 1158.93 178.343 1150.2 Q178.343 1141.45 181.399 1136.87 Q184.477 1132.26 190.288 1132.26 Z\" fill=\"#000000\" fill-rule=\"evenodd\" fill-opacity=\"1\" /><path clip-path=\"url(#clip400)\" d=\"M 0 0 M129.293 882.287 L136.931 882.287 L136.931 855.922 L128.621 857.588 L128.621 853.329 L136.885 851.662 L141.561 851.662 L141.561 882.287 L149.2 882.287 L149.2 886.222 L129.293 886.222 L129.293 882.287 Z\" fill=\"#000000\" fill-rule=\"evenodd\" fill-opacity=\"1\" /><path clip-path=\"url(#clip400)\" d=\"M 0 0 M154.316 851.662 L172.672 851.662 L172.672 855.598 L158.598 855.598 L158.598 864.07 Q159.616 863.722 160.635 863.56 Q161.653 863.375 162.672 863.375 Q168.459 863.375 171.839 866.547 Q175.218 869.718 175.218 875.134 Q175.218 880.713 171.746 883.815 Q168.274 886.894 161.954 886.894 Q159.778 886.894 157.51 886.523 Q155.265 886.153 152.857 885.412 L152.857 880.713 Q154.941 881.847 157.163 882.403 Q159.385 882.958 161.862 882.958 Q165.866 882.958 168.204 880.852 Q170.542 878.746 170.542 875.134 Q170.542 871.523 168.204 869.417 Q165.866 867.31 161.862 867.31 Q159.987 867.31 158.112 867.727 Q156.26 868.144 154.316 869.023 L154.316 851.662 Z\" fill=\"#000000\" fill-rule=\"evenodd\" fill-opacity=\"1\" /><path clip-path=\"url(#clip400)\" d=\"M 0 0 M190.288 854.741 Q186.677 854.741 184.848 858.306 Q183.042 861.847 183.042 868.977 Q183.042 876.084 184.848 879.648 Q186.677 883.19 190.288 883.19 Q193.922 883.19 195.727 879.648 Q197.556 876.084 197.556 868.977 Q197.556 861.847 195.727 858.306 Q193.922 854.741 190.288 854.741 M190.288 851.037 Q196.098 851.037 199.153 855.644 Q202.232 860.227 202.232 868.977 Q202.232 877.704 199.153 882.31 Q196.098 886.894 190.288 886.894 Q184.477 886.894 181.399 882.31 Q178.343 877.704 178.343 868.977 Q178.343 860.227 181.399 855.644 Q184.477 851.037 190.288 851.037 Z\" fill=\"#000000\" fill-rule=\"evenodd\" fill-opacity=\"1\" /><path clip-path=\"url(#clip400)\" d=\"M 0 0 M131.885 601.063 L148.204 601.063 L148.204 604.998 L126.26 604.998 L126.26 601.063 Q128.922 598.308 133.505 593.678 Q138.112 589.026 139.292 587.683 Q141.538 585.16 142.417 583.424 Q143.32 581.665 143.32 579.975 Q143.32 577.22 141.376 575.484 Q139.455 573.748 136.353 573.748 Q134.154 573.748 131.7 574.512 Q129.269 575.276 126.492 576.827 L126.492 572.104 Q129.316 570.97 131.769 570.391 Q134.223 569.813 136.26 569.813 Q141.63 569.813 144.825 572.498 Q148.019 575.183 148.019 579.674 Q148.019 581.803 147.209 583.725 Q146.422 585.623 144.316 588.215 Q143.737 588.887 140.635 592.104 Q137.533 595.299 131.885 601.063 Z\" fill=\"#000000\" fill-rule=\"evenodd\" fill-opacity=\"1\" /><path clip-path=\"url(#clip400)\" d=\"M 0 0 M163.274 573.516 Q159.663 573.516 157.834 577.081 Q156.029 580.623 156.029 587.752 Q156.029 594.859 157.834 598.424 Q159.663 601.965 163.274 601.965 Q166.908 601.965 168.714 598.424 Q170.542 594.859 170.542 587.752 Q170.542 580.623 168.714 577.081 Q166.908 573.516 163.274 573.516 M163.274 569.813 Q169.084 569.813 172.14 574.419 Q175.218 579.003 175.218 587.752 Q175.218 596.479 172.14 601.086 Q169.084 605.669 163.274 605.669 Q157.464 605.669 154.385 601.086 Q151.329 596.479 151.329 587.752 Q151.329 579.003 154.385 574.419 Q157.464 569.813 163.274 569.813 Z\" fill=\"#000000\" fill-rule=\"evenodd\" fill-opacity=\"1\" /><path clip-path=\"url(#clip400)\" d=\"M 0 0 M190.288 573.516 Q186.677 573.516 184.848 577.081 Q183.042 580.623 183.042 587.752 Q183.042 594.859 184.848 598.424 Q186.677 601.965 190.288 601.965 Q193.922 601.965 195.727 598.424 Q197.556 594.859 197.556 587.752 Q197.556 580.623 195.727 577.081 Q193.922 573.516 190.288 573.516 M190.288 569.813 Q196.098 569.813 199.153 574.419 Q202.232 579.003 202.232 587.752 Q202.232 596.479 199.153 601.086 Q196.098 605.669 190.288 605.669 Q184.477 605.669 181.399 601.086 Q178.343 596.479 178.343 587.752 Q178.343 579.003 181.399 574.419 Q184.477 569.813 190.288 569.813 Z\" fill=\"#000000\" fill-rule=\"evenodd\" fill-opacity=\"1\" /><path clip-path=\"url(#clip400)\" d=\"M 0 0 M132.88 319.838 L149.2 319.838 L149.2 323.773 L127.256 323.773 L127.256 319.838 Q129.918 317.083 134.501 312.454 Q139.107 307.801 140.288 306.458 Q142.533 303.935 143.413 302.199 Q144.316 300.44 144.316 298.75 Q144.316 295.995 142.371 294.259 Q140.45 292.523 137.348 292.523 Q135.149 292.523 132.695 293.287 Q130.265 294.051 127.487 295.602 L127.487 290.88 Q130.311 289.746 132.765 289.167 Q135.218 288.588 137.255 288.588 Q142.626 288.588 145.82 291.273 Q149.015 293.958 149.015 298.449 Q149.015 300.579 148.204 302.5 Q147.417 304.398 145.311 306.991 Q144.732 307.662 141.63 310.88 Q138.529 314.074 132.88 319.838 Z\" fill=\"#000000\" fill-rule=\"evenodd\" fill-opacity=\"1\" /><path clip-path=\"url(#clip400)\" d=\"M 0 0 M154.316 289.213 L172.672 289.213 L172.672 293.148 L158.598 293.148 L158.598 301.62 Q159.616 301.273 160.635 301.111 Q161.653 300.926 162.672 300.926 Q168.459 300.926 171.839 304.097 Q175.218 307.269 175.218 312.685 Q175.218 318.264 171.746 321.366 Q168.274 324.444 161.954 324.444 Q159.778 324.444 157.51 324.074 Q155.265 323.704 152.857 322.963 L152.857 318.264 Q154.941 319.398 157.163 319.954 Q159.385 320.509 161.862 320.509 Q165.866 320.509 168.204 318.403 Q170.542 316.296 170.542 312.685 Q170.542 309.074 168.204 306.968 Q165.866 304.861 161.862 304.861 Q159.987 304.861 158.112 305.278 Q156.26 305.695 154.316 306.574 L154.316 289.213 Z\" fill=\"#000000\" fill-rule=\"evenodd\" fill-opacity=\"1\" /><path clip-path=\"url(#clip400)\" d=\"M 0 0 M190.288 292.292 Q186.677 292.292 184.848 295.857 Q183.042 299.398 183.042 306.528 Q183.042 313.634 184.848 317.199 Q186.677 320.741 190.288 320.741 Q193.922 320.741 195.727 317.199 Q197.556 313.634 197.556 306.528 Q197.556 299.398 195.727 295.857 Q193.922 292.292 190.288 292.292 M190.288 288.588 Q196.098 288.588 199.153 293.195 Q202.232 297.778 202.232 306.528 Q202.232 315.255 199.153 319.861 Q196.098 324.444 190.288 324.444 Q184.477 324.444 181.399 319.861 Q178.343 315.255 178.343 306.528 Q178.343 297.778 181.399 293.195 Q184.477 288.588 190.288 288.588 Z\" fill=\"#000000\" fill-rule=\"evenodd\" fill-opacity=\"1\" /><path clip-path=\"url(#clip400)\" d=\"M 0 0 M803.912 16.7545 L803.912 25.383 Q799.78 21.5346 795.081 19.6307 Q790.423 17.7268 785.156 17.7268 Q774.786 17.7268 769.277 24.0867 Q763.768 30.4061 763.768 42.3968 Q763.768 54.3469 769.277 60.7069 Q774.786 67.0263 785.156 67.0263 Q790.423 67.0263 795.081 65.1223 Q799.78 63.2184 803.912 59.3701 L803.912 67.9175 Q799.618 70.8341 794.798 72.2924 Q790.017 73.7508 784.67 73.7508 Q770.938 73.7508 763.038 65.3654 Q755.139 56.9395 755.139 42.3968 Q755.139 27.8135 763.038 19.4281 Q770.938 11.0023 784.67 11.0023 Q790.098 11.0023 794.879 12.4606 Q799.699 13.8784 803.912 16.7545 Z\" fill=\"#000000\" fill-rule=\"evenodd\" fill-opacity=\"1\" /><path clip-path=\"url(#clip400)\" d=\"M 0 0 M829.311 32.4315 Q823.316 32.4315 819.832 37.1306 Q816.348 41.7891 816.348 49.9314 Q816.348 58.0738 819.792 62.7728 Q823.275 67.4314 829.311 67.4314 Q835.266 67.4314 838.75 62.7323 Q842.234 58.0333 842.234 49.9314 Q842.234 41.8701 838.75 37.1711 Q835.266 32.4315 829.311 32.4315 M829.311 26.1121 Q839.033 26.1121 844.583 32.4315 Q850.133 38.7509 850.133 49.9314 Q850.133 61.0714 844.583 67.4314 Q839.033 73.7508 829.311 73.7508 Q819.549 73.7508 813.999 67.4314 Q808.49 61.0714 808.49 49.9314 Q808.49 38.7509 813.999 32.4315 Q819.549 26.1121 829.311 26.1121 Z\" fill=\"#000000\" fill-rule=\"evenodd\" fill-opacity=\"1\" /><path clip-path=\"url(#clip400)\" d=\"M 0 0 M893.275 35.9153 Q896.07 30.8922 899.959 28.5022 Q903.848 26.1121 909.114 26.1121 Q916.203 26.1121 920.051 31.0947 Q923.9 36.0368 923.9 45.1919 L923.9 72.576 L916.406 72.576 L916.406 45.4349 Q916.406 38.913 914.097 35.7533 Q911.788 32.5936 907.048 32.5936 Q901.255 32.5936 897.893 36.4419 Q894.531 40.2903 894.531 46.9338 L894.531 72.576 L887.037 72.576 L887.037 45.4349 Q887.037 38.8725 884.728 35.7533 Q882.419 32.5936 877.598 32.5936 Q871.886 32.5936 868.524 36.4824 Q865.162 40.3308 865.162 46.9338 L865.162 72.576 L857.668 72.576 L857.668 27.2059 L865.162 27.2059 L865.162 34.2544 Q867.714 30.082 871.279 28.0971 Q874.843 26.1121 879.745 26.1121 Q884.687 26.1121 888.13 28.6237 Q891.614 31.1352 893.275 35.9153 Z\" fill=\"#000000\" fill-rule=\"evenodd\" fill-opacity=\"1\" /><path clip-path=\"url(#clip400)\" d=\"M 0 0 M938.929 65.7705 L938.929 89.8329 L931.435 89.8329 L931.435 27.2059 L938.929 27.2059 L938.929 34.0924 Q941.278 30.0415 944.843 28.0971 Q948.448 26.1121 953.431 26.1121 Q961.695 26.1121 966.839 32.6746 Q972.025 39.2371 972.025 49.9314 Q972.025 60.6258 966.839 67.1883 Q961.695 73.7508 953.431 73.7508 Q948.448 73.7508 944.843 71.8063 Q941.278 69.8214 938.929 65.7705 M964.287 49.9314 Q964.287 41.7081 960.885 37.0496 Q957.522 32.3505 951.608 32.3505 Q945.694 32.3505 942.291 37.0496 Q938.929 41.7081 938.929 49.9314 Q938.929 58.1548 942.291 62.8538 Q945.694 67.5124 951.608 67.5124 Q957.522 67.5124 960.885 62.8538 Q964.287 58.1548 964.287 49.9314 Z\" fill=\"#000000\" fill-rule=\"evenodd\" fill-opacity=\"1\" /><path clip-path=\"url(#clip400)\" d=\"M 0 0 M979.073 54.671 L979.073 27.2059 L986.527 27.2059 L986.527 54.3874 Q986.527 60.8284 989.038 64.0691 Q991.55 67.2693 996.573 67.2693 Q1002.61 67.2693 1006.09 63.421 Q1009.62 59.5726 1009.62 52.9291 L1009.62 27.2059 L1017.07 27.2059 L1017.07 72.576 L1009.62 72.576 L1009.62 65.6084 Q1006.9 69.7404 1003.3 71.7658 Q999.733 73.7508 994.993 73.7508 Q987.175 73.7508 983.124 68.8897 Q979.073 64.0286 979.073 54.671 M997.829 26.1121 L997.829 26.1121 Z\" fill=\"#000000\" fill-rule=\"evenodd\" fill-opacity=\"1\" /><path clip-path=\"url(#clip400)\" d=\"M 0 0 M1032.26 14.324 L1032.26 27.2059 L1047.61 27.2059 L1047.61 32.9987 L1032.26 32.9987 L1032.26 57.6282 Q1032.26 63.1779 1033.76 64.7578 Q1035.3 66.3376 1039.96 66.3376 L1047.61 66.3376 L1047.61 72.576 L1039.96 72.576 Q1031.33 72.576 1028.05 69.3758 Q1024.77 66.1351 1024.77 57.6282 L1024.77 32.9987 L1019.3 32.9987 L1019.3 27.2059 L1024.77 27.2059 L1024.77 14.324 L1032.26 14.324 Z\" fill=\"#000000\" fill-rule=\"evenodd\" fill-opacity=\"1\" /><path clip-path=\"url(#clip400)\" d=\"M 0 0 M1094.24 48.0275 L1094.24 51.6733 L1059.97 51.6733 Q1060.46 59.3701 1064.59 63.421 Q1068.76 67.4314 1076.17 67.4314 Q1080.47 67.4314 1084.48 66.3781 Q1088.53 65.3249 1092.5 63.2184 L1092.5 70.267 Q1088.49 71.9684 1084.28 72.8596 Q1080.06 73.7508 1075.73 73.7508 Q1064.87 73.7508 1058.51 67.4314 Q1052.19 61.1119 1052.19 50.3365 Q1052.19 39.1965 1058.19 32.6746 Q1064.22 26.1121 1074.43 26.1121 Q1083.59 26.1121 1088.89 32.0264 Q1094.24 37.9003 1094.24 48.0275 M1086.79 45.84 Q1086.71 39.7232 1083.34 36.0774 Q1080.02 32.4315 1074.51 32.4315 Q1068.27 32.4315 1064.51 35.9558 Q1060.78 39.4801 1060.21 45.8805 L1086.79 45.84 Z\" fill=\"#000000\" fill-rule=\"evenodd\" fill-opacity=\"1\" /><path clip-path=\"url(#clip400)\" d=\"M 0 0 M1128.35 34.1734 Q1127.09 33.4443 1125.59 33.1202 Q1124.14 32.7556 1122.35 32.7556 Q1116.03 32.7556 1112.63 36.8875 Q1109.27 40.9789 1109.27 48.6757 L1109.27 72.576 L1101.78 72.576 L1101.78 27.2059 L1109.27 27.2059 L1109.27 34.2544 Q1111.62 30.1225 1115.39 28.1376 Q1119.15 26.1121 1124.54 26.1121 Q1125.31 26.1121 1126.24 26.2337 Q1127.17 26.3147 1128.31 26.5172 L1128.35 34.1734 Z\" fill=\"#000000\" fill-rule=\"evenodd\" fill-opacity=\"1\" /><path clip-path=\"url(#clip400)\" d=\"M 0 0 M1199.12 14.0809 L1199.12 22.0612 Q1194.46 19.8332 1190.33 18.7395 Q1186.2 17.6457 1182.35 17.6457 Q1175.66 17.6457 1172.02 20.2383 Q1168.41 22.8309 1168.41 27.611 Q1168.41 31.6214 1170.8 33.6873 Q1173.23 35.7128 1179.96 36.9686 L1184.9 37.9813 Q1194.05 39.7232 1198.39 44.1387 Q1202.76 48.5136 1202.76 55.8863 Q1202.76 64.6767 1196.85 69.2137 Q1190.98 73.7508 1179.59 73.7508 Q1175.3 73.7508 1170.44 72.7785 Q1165.62 71.8063 1160.43 69.9024 L1160.43 61.4765 Q1165.41 64.2716 1170.19 65.6895 Q1174.97 67.1073 1179.59 67.1073 Q1186.6 67.1073 1190.41 64.3527 Q1194.22 61.598 1194.22 56.4939 Q1194.22 52.0379 1191.46 49.5264 Q1188.75 47.0148 1182.51 45.759 L1177.53 44.7868 Q1168.37 42.9639 1164.28 39.075 Q1160.19 35.1862 1160.19 28.2591 Q1160.19 20.2383 1165.82 15.6203 Q1171.49 11.0023 1181.42 11.0023 Q1185.67 11.0023 1190.08 11.7719 Q1194.5 12.5416 1199.12 14.0809 Z\" fill=\"#000000\" fill-rule=\"evenodd\" fill-opacity=\"1\" /><path clip-path=\"url(#clip400)\" d=\"M 0 0 M1243.23 28.9478 L1243.23 35.9153 Q1240.07 34.1734 1236.87 33.3227 Q1233.71 32.4315 1230.47 32.4315 Q1223.22 32.4315 1219.21 37.0496 Q1215.2 41.6271 1215.2 49.9314 Q1215.2 58.2358 1219.21 62.8538 Q1223.22 67.4314 1230.47 67.4314 Q1233.71 67.4314 1236.87 66.5807 Q1240.07 65.6895 1243.23 63.9476 L1243.23 70.8341 Q1240.11 72.2924 1236.75 73.0216 Q1233.43 73.7508 1229.66 73.7508 Q1219.41 73.7508 1213.38 67.3098 Q1207.34 60.8689 1207.34 49.9314 Q1207.34 38.832 1213.42 32.472 Q1219.53 26.1121 1230.15 26.1121 Q1233.59 26.1121 1236.87 26.8413 Q1240.15 27.5299 1243.23 28.9478 Z\" fill=\"#000000\" fill-rule=\"evenodd\" fill-opacity=\"1\" /><path clip-path=\"url(#clip400)\" d=\"M 0 0 M1251.05 27.2059 L1258.5 27.2059 L1258.5 72.576 L1251.05 72.576 L1251.05 27.2059 M1251.05 9.54393 L1258.5 9.54393 L1258.5 18.9825 L1251.05 18.9825 L1251.05 9.54393 Z\" fill=\"#000000\" fill-rule=\"evenodd\" fill-opacity=\"1\" /><path clip-path=\"url(#clip400)\" d=\"M 0 0 M1305.13 48.0275 L1305.13 51.6733 L1270.86 51.6733 Q1271.35 59.3701 1275.48 63.421 Q1279.65 67.4314 1287.06 67.4314 Q1291.36 67.4314 1295.37 66.3781 Q1299.42 65.3249 1303.39 63.2184 L1303.39 70.267 Q1299.38 71.9684 1295.17 72.8596 Q1290.95 73.7508 1286.62 73.7508 Q1275.76 73.7508 1269.4 67.4314 Q1263.08 61.1119 1263.08 50.3365 Q1263.08 39.1965 1269.08 32.6746 Q1275.11 26.1121 1285.32 26.1121 Q1294.48 26.1121 1299.78 32.0264 Q1305.13 37.9003 1305.13 48.0275 M1297.68 45.84 Q1297.6 39.7232 1294.23 36.0774 Q1290.91 32.4315 1285.4 32.4315 Q1279.16 32.4315 1275.4 35.9558 Q1271.67 39.4801 1271.1 45.8805 L1297.68 45.84 Z\" fill=\"#000000\" fill-rule=\"evenodd\" fill-opacity=\"1\" /><path clip-path=\"url(#clip400)\" d=\"M 0 0 M1350.66 45.1919 L1350.66 72.576 L1343.21 72.576 L1343.21 45.4349 Q1343.21 38.994 1340.7 35.7938 Q1338.19 32.5936 1333.16 32.5936 Q1327.13 32.5936 1323.64 36.4419 Q1320.16 40.2903 1320.16 46.9338 L1320.16 72.576 L1312.67 72.576 L1312.67 27.2059 L1320.16 27.2059 L1320.16 34.2544 Q1322.83 30.163 1326.44 28.1376 Q1330.08 26.1121 1334.82 26.1121 Q1342.64 26.1121 1346.65 30.9732 Q1350.66 35.7938 1350.66 45.1919 Z\" fill=\"#000000\" fill-rule=\"evenodd\" fill-opacity=\"1\" /><path clip-path=\"url(#clip400)\" d=\"M 0 0 M1391.13 28.9478 L1391.13 35.9153 Q1387.97 34.1734 1384.77 33.3227 Q1381.61 32.4315 1378.37 32.4315 Q1371.12 32.4315 1367.11 37.0496 Q1363.1 41.6271 1363.1 49.9314 Q1363.1 58.2358 1367.11 62.8538 Q1371.12 67.4314 1378.37 67.4314 Q1381.61 67.4314 1384.77 66.5807 Q1387.97 65.6895 1391.13 63.9476 L1391.13 70.8341 Q1388.01 72.2924 1384.65 73.0216 Q1381.33 73.7508 1377.56 73.7508 Q1367.31 73.7508 1361.28 67.3098 Q1355.24 60.8689 1355.24 49.9314 Q1355.24 38.832 1361.32 32.472 Q1367.43 26.1121 1378.05 26.1121 Q1381.49 26.1121 1384.77 26.8413 Q1388.05 27.5299 1391.13 28.9478 Z\" fill=\"#000000\" fill-rule=\"evenodd\" fill-opacity=\"1\" /><path clip-path=\"url(#clip400)\" d=\"M 0 0 M1437.76 48.0275 L1437.76 51.6733 L1403.49 51.6733 Q1403.97 59.3701 1408.1 63.421 Q1412.28 67.4314 1419.69 67.4314 Q1423.98 67.4314 1427.99 66.3781 Q1432.05 65.3249 1436.02 63.2184 L1436.02 70.267 Q1432 71.9684 1427.79 72.8596 Q1423.58 73.7508 1419.24 73.7508 Q1408.39 73.7508 1402.03 67.4314 Q1395.71 61.1119 1395.71 50.3365 Q1395.71 39.1965 1401.7 32.6746 Q1407.74 26.1121 1417.95 26.1121 Q1427.1 26.1121 1432.41 32.0264 Q1437.76 37.9003 1437.76 48.0275 M1430.3 45.84 Q1430.22 39.7232 1426.86 36.0774 Q1423.54 32.4315 1418.03 32.4315 Q1411.79 32.4315 1408.02 35.9558 Q1404.3 39.4801 1403.73 45.8805 L1430.3 45.84 Z\" fill=\"#000000\" fill-rule=\"evenodd\" fill-opacity=\"1\" /><path clip-path=\"url(#clip400)\" d=\"M 0 0 M1480.45 18.8205 L1480.45 41.5461 L1490.74 41.5461 Q1496.45 41.5461 1499.57 38.5889 Q1502.69 35.6318 1502.69 30.163 Q1502.69 24.7348 1499.57 21.7777 Q1496.45 18.8205 1490.74 18.8205 L1480.45 18.8205 M1472.27 12.096 L1490.74 12.096 Q1500.91 12.096 1506.1 16.714 Q1511.32 21.2916 1511.32 30.163 Q1511.32 39.1155 1506.1 43.6931 Q1500.91 48.2706 1490.74 48.2706 L1480.45 48.2706 L1480.45 72.576 L1472.27 72.576 L1472.27 12.096 Z\" fill=\"#000000\" fill-rule=\"evenodd\" fill-opacity=\"1\" /><path clip-path=\"url(#clip400)\" d=\"M 0 0 M1543.97 34.1734 Q1542.72 33.4443 1541.22 33.1202 Q1539.76 32.7556 1537.98 32.7556 Q1531.66 32.7556 1528.25 36.8875 Q1524.89 40.9789 1524.89 48.6757 L1524.89 72.576 L1517.4 72.576 L1517.4 27.2059 L1524.89 27.2059 L1524.89 34.2544 Q1527.24 30.1225 1531.01 28.1376 Q1534.78 26.1121 1540.16 26.1121 Q1540.93 26.1121 1541.87 26.2337 Q1542.8 26.3147 1543.93 26.5172 L1543.97 34.1734 Z\" fill=\"#000000\" fill-rule=\"evenodd\" fill-opacity=\"1\" /><path clip-path=\"url(#clip400)\" d=\"M 0 0 M1567.55 32.4315 Q1561.55 32.4315 1558.07 37.1306 Q1554.59 41.7891 1554.59 49.9314 Q1554.59 58.0738 1558.03 62.7728 Q1561.51 67.4314 1567.55 67.4314 Q1573.5 67.4314 1576.99 62.7323 Q1580.47 58.0333 1580.47 49.9314 Q1580.47 41.8701 1576.99 37.1711 Q1573.5 32.4315 1567.55 32.4315 M1567.55 26.1121 Q1577.27 26.1121 1582.82 32.4315 Q1588.37 38.7509 1588.37 49.9314 Q1588.37 61.0714 1582.82 67.4314 Q1577.27 73.7508 1567.55 73.7508 Q1557.79 73.7508 1552.24 67.4314 Q1546.73 61.0714 1546.73 49.9314 Q1546.73 38.7509 1552.24 32.4315 Q1557.79 26.1121 1567.55 26.1121 Z\" fill=\"#000000\" fill-rule=\"evenodd\" fill-opacity=\"1\" /><path clip-path=\"url(#clip400)\" d=\"M 0 0 M1626.04 49.3643 Q1626.04 41.2625 1622.68 36.8065 Q1619.36 32.3505 1613.32 32.3505 Q1607.33 32.3505 1603.97 36.8065 Q1600.64 41.2625 1600.64 49.3643 Q1600.64 57.4256 1603.97 61.8816 Q1607.33 66.3376 1613.32 66.3376 Q1619.36 66.3376 1622.68 61.8816 Q1626.04 57.4256 1626.04 49.3643 M1633.5 66.9452 Q1633.5 78.5308 1628.35 84.1616 Q1623.21 89.8329 1612.59 89.8329 Q1608.66 89.8329 1605.18 89.2252 Q1601.7 88.6581 1598.42 87.4428 L1598.42 80.1917 Q1601.7 81.9741 1604.9 82.8248 Q1608.1 83.6755 1611.42 83.6755 Q1618.75 83.6755 1622.4 79.8271 Q1626.04 76.0193 1626.04 68.282 L1626.04 64.5957 Q1623.73 68.6061 1620.13 70.5911 Q1616.52 72.576 1611.5 72.576 Q1603.16 72.576 1598.05 66.2161 Q1592.95 59.8562 1592.95 49.3643 Q1592.95 38.832 1598.05 32.472 Q1603.16 26.1121 1611.5 26.1121 Q1616.52 26.1121 1620.13 28.0971 Q1623.73 30.082 1626.04 34.0924 L1626.04 27.2059 L1633.5 27.2059 L1633.5 66.9452 Z\" fill=\"#000000\" fill-rule=\"evenodd\" fill-opacity=\"1\" /><path clip-path=\"url(#clip400)\" d=\"M 0 0 M1667.61 34.1734 Q1666.35 33.4443 1664.85 33.1202 Q1663.39 32.7556 1661.61 32.7556 Q1655.29 32.7556 1651.89 36.8875 Q1648.53 40.9789 1648.53 48.6757 L1648.53 72.576 L1641.03 72.576 L1641.03 27.2059 L1648.53 27.2059 L1648.53 34.2544 Q1650.88 30.1225 1654.64 28.1376 Q1658.41 26.1121 1663.8 26.1121 Q1664.57 26.1121 1665.5 26.2337 Q1666.43 26.3147 1667.56 26.5172 L1667.61 34.1734 Z\" fill=\"#000000\" fill-rule=\"evenodd\" fill-opacity=\"1\" /><path clip-path=\"url(#clip400)\" d=\"M 0 0 M1696.04 49.7694 Q1687.01 49.7694 1683.53 51.8354 Q1680.04 53.9013 1680.04 58.8839 Q1680.04 62.8538 1682.63 65.2034 Q1685.27 67.5124 1689.76 67.5124 Q1695.96 67.5124 1699.69 63.1374 Q1703.46 58.7219 1703.46 51.4303 L1703.46 49.7694 L1696.04 49.7694 M1710.91 46.6907 L1710.91 72.576 L1703.46 72.576 L1703.46 65.6895 Q1700.9 69.8214 1697.1 71.8063 Q1693.29 73.7508 1687.78 73.7508 Q1680.81 73.7508 1676.68 69.8619 Q1672.59 65.9325 1672.59 59.3701 Q1672.59 51.7138 1677.69 47.825 Q1682.84 43.9361 1693 43.9361 L1703.46 43.9361 L1703.46 43.2069 Q1703.46 38.0623 1700.05 35.2672 Q1696.69 32.4315 1690.57 32.4315 Q1686.69 32.4315 1683 33.3632 Q1679.31 34.295 1675.91 36.1584 L1675.91 29.2718 Q1680 27.692 1683.85 26.9223 Q1687.7 26.1121 1691.34 26.1121 Q1701.19 26.1121 1706.05 31.2163 Q1710.91 36.3204 1710.91 46.6907 Z\" fill=\"#000000\" fill-rule=\"evenodd\" fill-opacity=\"1\" /><path clip-path=\"url(#clip400)\" d=\"M 0 0 M1754.05 35.9153 Q1756.85 30.8922 1760.74 28.5022 Q1764.62 26.1121 1769.89 26.1121 Q1776.98 26.1121 1780.83 31.0947 Q1784.68 36.0368 1784.68 45.1919 L1784.68 72.576 L1777.18 72.576 L1777.18 45.4349 Q1777.18 38.913 1774.87 35.7533 Q1772.56 32.5936 1767.82 32.5936 Q1762.03 32.5936 1758.67 36.4419 Q1755.31 40.2903 1755.31 46.9338 L1755.31 72.576 L1747.81 72.576 L1747.81 45.4349 Q1747.81 38.8725 1745.5 35.7533 Q1743.2 32.5936 1738.37 32.5936 Q1732.66 32.5936 1729.3 36.4824 Q1725.94 40.3308 1725.94 46.9338 L1725.94 72.576 L1718.44 72.576 L1718.44 27.2059 L1725.94 27.2059 L1725.94 34.2544 Q1728.49 30.082 1732.06 28.0971 Q1735.62 26.1121 1740.52 26.1121 Q1745.46 26.1121 1748.91 28.6237 Q1752.39 31.1352 1754.05 35.9153 Z\" fill=\"#000000\" fill-rule=\"evenodd\" fill-opacity=\"1\" /><path clip-path=\"url(#clip400)\" d=\"M 0 0 M1821.42 28.5427 L1821.42 35.5912 Q1818.26 33.9709 1814.86 33.1607 Q1811.45 32.3505 1807.81 32.3505 Q1802.26 32.3505 1799.46 34.0519 Q1796.71 35.7533 1796.71 39.156 Q1796.71 41.7486 1798.69 43.2475 Q1800.68 44.7058 1806.67 46.0426 L1809.22 46.6097 Q1817.16 48.3111 1820.49 51.4303 Q1823.85 54.509 1823.85 60.0587 Q1823.85 66.3781 1818.83 70.0644 Q1813.84 73.7508 1805.09 73.7508 Q1801.45 73.7508 1797.48 73.0216 Q1793.55 72.3329 1789.17 70.9151 L1789.17 63.2184 Q1793.3 65.3654 1797.32 66.4591 Q1801.33 67.5124 1805.26 67.5124 Q1810.52 67.5124 1813.36 65.73 Q1816.19 63.9071 1816.19 60.6258 Q1816.19 57.5877 1814.13 55.9673 Q1812.1 54.3469 1805.17 52.8481 L1802.58 52.2405 Q1795.65 50.7821 1792.58 47.7845 Q1789.5 44.7463 1789.5 39.4801 Q1789.5 33.0797 1794.03 29.5959 Q1798.57 26.1121 1806.92 26.1121 Q1811.05 26.1121 1814.69 26.7198 Q1818.34 27.3274 1821.42 28.5427 Z\" fill=\"#000000\" fill-rule=\"evenodd\" fill-opacity=\"1\" /><path clip-path=\"url(#clip400)\" d=\"M 0 0 M1235.45 1510.27 L1235.45 1520.4 L1247.51 1520.4 L1247.51 1524.95 L1235.45 1524.95 L1235.45 1544.3 Q1235.45 1548.66 1236.63 1549.9 Q1237.84 1551.14 1241.5 1551.14 L1247.51 1551.14 L1247.51 1556.04 L1241.5 1556.04 Q1234.72 1556.04 1232.14 1553.53 Q1229.56 1550.98 1229.56 1544.3 L1229.56 1524.95 L1225.26 1524.95 L1225.26 1520.4 L1229.56 1520.4 L1229.56 1510.27 L1235.45 1510.27 Z\" fill=\"#000000\" fill-rule=\"evenodd\" fill-opacity=\"1\" /><path clip-path=\"url(#clip400)\" d=\"M 0 0 M1253.66 1520.4 L1259.51 1520.4 L1259.51 1556.04 L1253.66 1556.04 L1253.66 1520.4 M1253.66 1506.52 L1259.51 1506.52 L1259.51 1513.93 L1253.66 1513.93 L1253.66 1506.52 Z\" fill=\"#000000\" fill-rule=\"evenodd\" fill-opacity=\"1\" /><path clip-path=\"url(#clip400)\" d=\"M 0 0 M1296.15 1536.76 L1296.15 1539.62 L1269.22 1539.62 Q1269.6 1545.67 1272.85 1548.85 Q1276.13 1552 1281.95 1552 Q1285.32 1552 1288.48 1551.17 Q1291.66 1550.35 1294.78 1548.69 L1294.78 1554.23 Q1291.63 1555.57 1288.32 1556.27 Q1285.01 1556.97 1281.6 1556.97 Q1273.07 1556.97 1268.07 1552 Q1263.11 1547.04 1263.11 1538.57 Q1263.11 1529.82 1267.82 1524.69 Q1272.56 1519.54 1280.58 1519.54 Q1287.78 1519.54 1291.94 1524.18 Q1296.15 1528.8 1296.15 1536.76 M1290.29 1535.04 Q1290.23 1530.23 1287.58 1527.37 Q1284.97 1524.5 1280.65 1524.5 Q1275.74 1524.5 1272.78 1527.27 Q1269.86 1530.04 1269.41 1535.07 L1290.29 1535.04 Z\" fill=\"#000000\" fill-rule=\"evenodd\" fill-opacity=\"1\" /><path clip-path=\"url(#clip400)\" d=\"M 0 0 M1322.95 1525.87 Q1321.96 1525.3 1320.78 1525.04 Q1319.64 1524.76 1318.24 1524.76 Q1313.27 1524.76 1310.6 1528 Q1307.95 1531.22 1307.95 1537.27 L1307.95 1556.04 L1302.07 1556.04 L1302.07 1520.4 L1307.95 1520.4 L1307.95 1525.93 Q1309.8 1522.69 1312.76 1521.13 Q1315.72 1519.54 1319.95 1519.54 Q1320.56 1519.54 1321.29 1519.63 Q1322.02 1519.7 1322.91 1519.85 L1322.95 1525.87 Z\" fill=\"#000000\" fill-rule=\"evenodd\" fill-opacity=\"1\" /><path clip-path=\"url(#clip400)\" d=\"M 0 0 M1351.81 1521.45 L1351.81 1526.98 Q1349.33 1525.71 1346.66 1525.07 Q1343.98 1524.44 1341.12 1524.44 Q1336.76 1524.44 1334.56 1525.77 Q1332.4 1527.11 1332.4 1529.79 Q1332.4 1531.82 1333.96 1533 Q1335.52 1534.15 1340.23 1535.2 L1342.23 1535.64 Q1348.47 1536.98 1351.08 1539.43 Q1353.72 1541.85 1353.72 1546.21 Q1353.72 1551.17 1349.78 1554.07 Q1345.86 1556.97 1338.99 1556.97 Q1336.12 1556.97 1333 1556.39 Q1329.92 1555.85 1326.48 1554.74 L1326.48 1548.69 Q1329.73 1550.38 1332.88 1551.24 Q1336.03 1552.07 1339.11 1552.07 Q1343.25 1552.07 1345.48 1550.66 Q1347.71 1549.23 1347.71 1546.65 Q1347.71 1544.27 1346.09 1542.99 Q1344.49 1541.72 1339.05 1540.54 L1337.01 1540.07 Q1331.57 1538.92 1329.15 1536.56 Q1326.73 1534.18 1326.73 1530.04 Q1326.73 1525.01 1330.3 1522.27 Q1333.86 1519.54 1340.42 1519.54 Q1343.67 1519.54 1346.53 1520.01 Q1349.4 1520.49 1351.81 1521.45 Z\" fill=\"#000000\" fill-rule=\"evenodd\" fill-opacity=\"1\" /><path clip-path=\"url(#clip400)\" d=\"M 0 0 M53.7248 1049.74 L59.1993 1049.74 Q57.8307 1052.22 57.1623 1054.74 Q56.4621 1057.22 56.4621 1059.77 Q56.4621 1065.46 60.0905 1068.62 Q63.6872 1071.77 70.212 1071.77 Q76.7369 1071.77 80.3653 1068.62 Q83.9619 1065.46 83.9619 1059.77 Q83.9619 1057.22 83.2935 1054.74 Q82.5933 1052.22 81.2247 1049.74 L86.6355 1049.74 Q87.7814 1052.19 88.3543 1054.83 Q88.9272 1057.44 88.9272 1060.4 Q88.9272 1068.46 83.8664 1073.2 Q78.8057 1077.94 70.212 1077.94 Q61.491 1077.94 56.4939 1073.17 Q51.4968 1068.36 51.4968 1060.02 Q51.4968 1057.32 52.0697 1054.74 Q52.6108 1052.16 53.7248 1049.74 Z\" fill=\"#000000\" fill-rule=\"evenodd\" fill-opacity=\"1\" /><path clip-path=\"url(#clip400)\" d=\"M 0 0 M73.9359 1044.2 L52.3562 1044.2 L52.3562 1038.35 L73.7131 1038.35 Q78.7739 1038.35 81.3202 1036.37 Q83.8346 1034.4 83.8346 1030.45 Q83.8346 1025.71 80.8109 1022.97 Q77.7872 1020.2 72.5673 1020.2 L52.3562 1020.2 L52.3562 1014.35 L88.0042 1014.35 L88.0042 1020.2 L82.5296 1020.2 Q85.7762 1022.34 87.3676 1025.17 Q88.9272 1027.97 88.9272 1031.69 Q88.9272 1037.84 85.1078 1041.02 Q81.2883 1044.2 73.9359 1044.2 M51.4968 1029.47 L51.4968 1029.47 Z\" fill=\"#000000\" fill-rule=\"evenodd\" fill-opacity=\"1\" /><path clip-path=\"url(#clip400)\" d=\"M 0 0 M57.8307 987.548 Q57.2578 988.535 57.0032 989.712 Q56.7167 990.858 56.7167 992.259 Q56.7167 997.224 59.9632 999.897 Q63.1779 1002.54 69.2253 1002.54 L88.0042 1002.54 L88.0042 1008.43 L52.3562 1008.43 L52.3562 1002.54 L57.8944 1002.54 Q54.6479 1000.69 53.0883 997.733 Q51.4968 994.773 51.4968 990.54 Q51.4968 989.935 51.5923 989.203 Q51.656 988.471 51.8151 987.58 L57.8307 987.548 Z\" fill=\"#000000\" fill-rule=\"evenodd\" fill-opacity=\"1\" /><path clip-path=\"url(#clip400)\" d=\"M 0 0 M57.8307 961.894 Q57.2578 962.881 57.0032 964.058 Q56.7167 965.204 56.7167 966.605 Q56.7167 971.57 59.9632 974.244 Q63.1779 976.885 69.2253 976.885 L88.0042 976.885 L88.0042 982.774 L52.3562 982.774 L52.3562 976.885 L57.8944 976.885 Q54.6479 975.039 53.0883 972.079 Q51.4968 969.119 51.4968 964.886 Q51.4968 964.281 51.5923 963.549 Q51.656 962.817 51.8151 961.926 L57.8307 961.894 Z\" fill=\"#000000\" fill-rule=\"evenodd\" fill-opacity=\"1\" /><path clip-path=\"url(#clip400)\" d=\"M 0 0 M52.3562 955.751 L52.3562 949.895 L88.0042 949.895 L88.0042 955.751 L52.3562 955.751 M38.479 955.751 L38.479 949.895 L45.895 949.895 L45.895 955.751 L38.479 955.751 Z\" fill=\"#000000\" fill-rule=\"evenodd\" fill-opacity=\"1\" /><path clip-path=\"url(#clip400)\" d=\"M 0 0 M53.7248 918.098 L59.1993 918.098 Q57.8307 920.581 57.1623 923.095 Q56.4621 925.578 56.4621 928.124 Q56.4621 933.821 60.0905 936.972 Q63.6872 940.123 70.212 940.123 Q76.7369 940.123 80.3653 936.972 Q83.9619 933.821 83.9619 928.124 Q83.9619 925.578 83.2935 923.095 Q82.5933 920.581 81.2247 918.098 L86.6355 918.098 Q87.7814 920.549 88.3543 923.191 Q88.9272 925.801 88.9272 928.761 Q88.9272 936.813 83.8664 941.556 Q78.8057 946.298 70.212 946.298 Q61.491 946.298 56.4939 941.524 Q51.4968 936.718 51.4968 928.379 Q51.4968 925.673 52.0697 923.095 Q52.6108 920.517 53.7248 918.098 Z\" fill=\"#000000\" fill-rule=\"evenodd\" fill-opacity=\"1\" /><path clip-path=\"url(#clip400)\" d=\"M 0 0 M73.9359 912.56 L52.3562 912.56 L52.3562 906.703 L73.7131 906.703 Q78.7739 906.703 81.3202 904.73 Q83.8346 902.757 83.8346 898.81 Q83.8346 894.068 80.8109 891.33 Q77.7872 888.561 72.5673 888.561 L52.3562 888.561 L52.3562 882.705 L88.0042 882.705 L88.0042 888.561 L82.5296 888.561 Q85.7762 890.694 87.3676 893.526 Q88.9272 896.327 88.9272 900.051 Q88.9272 906.194 85.1078 909.377 Q81.2883 912.56 73.9359 912.56 M51.4968 897.823 L51.4968 897.823 Z\" fill=\"#000000\" fill-rule=\"evenodd\" fill-opacity=\"1\" /><path clip-path=\"url(#clip400)\" d=\"M 0 0 M38.479 876.562 L38.479 870.705 L88.0042 870.705 L88.0042 876.562 L38.479 876.562 Z\" fill=\"#000000\" fill-rule=\"evenodd\" fill-opacity=\"1\" /><path clip-path=\"url(#clip400)\" d=\"M 0 0 M70.0847 848.362 Q70.0847 855.46 71.7079 858.197 Q73.3312 860.934 77.2461 860.934 Q80.3653 860.934 82.2114 858.897 Q84.0256 856.828 84.0256 853.295 Q84.0256 848.425 80.5881 845.497 Q77.1188 842.537 71.3897 842.537 L70.0847 842.537 L70.0847 848.362 M67.6657 836.681 L88.0042 836.681 L88.0042 842.537 L82.5933 842.537 Q85.8398 844.542 87.3994 847.534 Q88.9272 850.526 88.9272 854.855 Q88.9272 860.329 85.8716 863.576 Q82.7843 866.79 77.6281 866.79 Q71.6125 866.79 68.5569 862.78 Q65.5014 858.738 65.5014 850.749 L65.5014 842.537 L64.9285 842.537 Q60.8862 842.537 58.6901 845.211 Q56.4621 847.852 56.4621 852.659 Q56.4621 855.714 57.1941 858.611 Q57.9262 861.507 59.3903 864.181 L53.9795 864.181 Q52.7381 860.966 52.1334 857.942 Q51.4968 854.918 51.4968 852.054 Q51.4968 844.32 55.5072 840.5 Q59.5176 836.681 67.6657 836.681 Z\" fill=\"#000000\" fill-rule=\"evenodd\" fill-opacity=\"1\" /><path clip-path=\"url(#clip400)\" d=\"M 0 0 M57.8307 809.881 Q57.2578 810.868 57.0032 812.045 Q56.7167 813.191 56.7167 814.592 Q56.7167 819.557 59.9632 822.231 Q63.1779 824.872 69.2253 824.872 L88.0042 824.872 L88.0042 830.761 L52.3562 830.761 L52.3562 824.872 L57.8944 824.872 Q54.6479 823.026 53.0883 820.066 Q51.4968 817.106 51.4968 812.873 Q51.4968 812.268 51.5923 811.536 Q51.656 810.804 51.8151 809.913 L57.8307 809.881 Z\" fill=\"#000000\" fill-rule=\"evenodd\" fill-opacity=\"1\" /><path clip-path=\"url(#clip400)\" d=\"M 0 0 M53.7248 757.364 L59.1993 757.364 Q57.8307 759.847 57.1623 762.361 Q56.4621 764.844 56.4621 767.39 Q56.4621 773.087 60.0905 776.238 Q63.6872 779.389 70.212 779.389 Q76.7369 779.389 80.3653 776.238 Q83.9619 773.087 83.9619 767.39 Q83.9619 764.844 83.2935 762.361 Q82.5933 759.847 81.2247 757.364 L86.6355 757.364 Q87.7814 759.815 88.3543 762.457 Q88.9272 765.066 88.9272 768.027 Q88.9272 776.079 83.8664 780.822 Q78.8057 785.564 70.212 785.564 Q61.491 785.564 56.4939 780.79 Q51.4968 775.984 51.4968 767.645 Q51.4968 764.939 52.0697 762.361 Q52.6108 759.783 53.7248 757.364 Z\" fill=\"#000000\" fill-rule=\"evenodd\" fill-opacity=\"1\" /><path clip-path=\"url(#clip400)\" d=\"M 0 0 M56.4621 737.407 Q56.4621 742.118 60.1542 744.855 Q63.8145 747.593 70.212 747.593 Q76.6095 747.593 80.3017 744.887 Q83.9619 742.15 83.9619 737.407 Q83.9619 732.729 80.2698 729.991 Q76.5777 727.254 70.212 727.254 Q63.8781 727.254 60.186 729.991 Q56.4621 732.729 56.4621 737.407 M51.4968 737.407 Q51.4968 729.769 56.4621 725.408 Q61.4273 721.048 70.212 721.048 Q78.9649 721.048 83.9619 725.408 Q88.9272 729.769 88.9272 737.407 Q88.9272 745.078 83.9619 749.439 Q78.9649 753.767 70.212 753.767 Q61.4273 753.767 56.4621 749.439 Q51.4968 745.078 51.4968 737.407 Z\" fill=\"#000000\" fill-rule=\"evenodd\" fill-opacity=\"1\" /><path clip-path=\"url(#clip400)\" d=\"M 0 0 M59.1993 687.15 Q55.2526 684.954 53.3747 681.899 Q51.4968 678.843 51.4968 674.705 Q51.4968 669.135 55.4117 666.112 Q59.2948 663.088 66.4881 663.088 L88.0042 663.088 L88.0042 668.976 L66.679 668.976 Q61.5546 668.976 59.072 670.79 Q56.5894 672.605 56.5894 676.329 Q56.5894 680.88 59.6131 683.522 Q62.6368 686.164 67.8567 686.164 L88.0042 686.164 L88.0042 692.052 L66.679 692.052 Q61.5228 692.052 59.072 693.866 Q56.5894 695.68 56.5894 699.468 Q56.5894 703.956 59.6449 706.597 Q62.6686 709.239 67.8567 709.239 L88.0042 709.239 L88.0042 715.128 L52.3562 715.128 L52.3562 709.239 L57.8944 709.239 Q54.616 707.234 53.0564 704.433 Q51.4968 701.632 51.4968 697.781 Q51.4968 693.898 53.4702 691.192 Q55.4436 688.455 59.1993 687.15 Z\" fill=\"#000000\" fill-rule=\"evenodd\" fill-opacity=\"1\" /><path clip-path=\"url(#clip400)\" d=\"M 0 0 M82.657 651.279 L101.563 651.279 L101.563 657.168 L52.3562 657.168 L52.3562 651.279 L57.7671 651.279 Q54.5842 649.433 53.0564 646.633 Q51.4968 643.8 51.4968 639.885 Q51.4968 633.392 56.6531 629.35 Q61.8093 625.276 70.212 625.276 Q78.6147 625.276 83.771 629.35 Q88.9272 633.392 88.9272 639.885 Q88.9272 643.8 87.3994 646.633 Q85.8398 649.433 82.657 651.279 M70.212 631.355 Q63.7508 631.355 60.0905 634.028 Q56.3984 636.67 56.3984 641.317 Q56.3984 645.964 60.0905 648.638 Q63.7508 651.279 70.212 651.279 Q76.6732 651.279 80.3653 648.638 Q84.0256 645.964 84.0256 641.317 Q84.0256 636.67 80.3653 634.028 Q76.6732 631.355 70.212 631.355 Z\" fill=\"#000000\" fill-rule=\"evenodd\" fill-opacity=\"1\" /><path clip-path=\"url(#clip400)\" d=\"M 0 0 M38.479 619.133 L38.479 613.276 L88.0042 613.276 L88.0042 619.133 L38.479 619.133 Z\" fill=\"#000000\" fill-rule=\"evenodd\" fill-opacity=\"1\" /><path clip-path=\"url(#clip400)\" d=\"M 0 0 M68.7161 576.642 L71.5806 576.642 L71.5806 603.569 Q77.6281 603.187 80.8109 599.94 Q83.9619 596.662 83.9619 590.837 Q83.9619 587.463 83.1344 584.312 Q82.3069 581.129 80.6518 578.01 L86.1899 578.01 Q87.5267 581.161 88.227 584.471 Q88.9272 587.782 88.9272 591.187 Q88.9272 599.717 83.9619 604.714 Q78.9967 609.68 70.5303 609.68 Q61.7774 609.68 56.6531 604.969 Q51.4968 600.227 51.4968 592.206 Q51.4968 585.012 56.1438 580.843 Q60.7589 576.642 68.7161 576.642 M66.9973 582.498 Q62.1912 582.562 59.3266 585.203 Q56.4621 587.813 56.4621 592.142 Q56.4621 597.044 59.2312 600.004 Q62.0002 602.932 67.0292 603.378 L66.9973 582.498 Z\" fill=\"#000000\" fill-rule=\"evenodd\" fill-opacity=\"1\" /><path clip-path=\"url(#clip400)\" d=\"M 0 0 M52.3562 542.012 L69.7028 554.903 L88.0042 541.344 L88.0042 548.251 L73.9996 558.627 L88.0042 569.003 L88.0042 575.91 L69.3526 562.064 L52.3562 574.732 L52.3562 567.825 L65.0558 558.372 L52.3562 548.919 L52.3562 542.012 Z\" fill=\"#000000\" fill-rule=\"evenodd\" fill-opacity=\"1\" /><path clip-path=\"url(#clip400)\" d=\"M 0 0 M52.3562 535.201 L52.3562 529.344 L88.0042 529.344 L88.0042 535.201 L52.3562 535.201 M38.479 535.201 L38.479 529.344 L45.895 529.344 L45.895 535.201 L38.479 535.201 Z\" fill=\"#000000\" fill-rule=\"evenodd\" fill-opacity=\"1\" /><path clip-path=\"url(#clip400)\" d=\"M 0 0 M42.2347 517.409 L52.3562 517.409 L52.3562 505.346 L56.9077 505.346 L56.9077 517.409 L76.2594 517.409 Q80.6199 517.409 81.8613 516.231 Q83.1026 515.022 83.1026 511.361 L83.1026 505.346 L88.0042 505.346 L88.0042 511.361 Q88.0042 518.141 85.4897 520.719 Q82.9434 523.297 76.2594 523.297 L56.9077 523.297 L56.9077 527.594 L52.3562 527.594 L52.3562 523.297 L42.2347 523.297 L42.2347 517.409 Z\" fill=\"#000000\" fill-rule=\"evenodd\" fill-opacity=\"1\" /><path clip-path=\"url(#clip400)\" d=\"M 0 0 M91.3143 484.371 Q97.68 486.853 99.6216 489.209 Q101.563 491.564 101.563 495.511 L101.563 500.189 L96.6615 500.189 L96.6615 496.752 Q96.6615 494.333 95.5157 492.996 Q94.3699 491.659 90.1048 490.036 L87.4312 488.986 L52.3562 503.404 L52.3562 497.198 L80.238 486.058 L52.3562 474.918 L52.3562 468.711 L91.3143 484.371 Z\" fill=\"#000000\" fill-rule=\"evenodd\" fill-opacity=\"1\" /><path clip-path=\"url(#clip402)\" d=\"\n",
       "M509.323 1386.4 L286.417 1386.4 L732.229 1386.4 L509.323 1386.4 L509.323 1235.94 L509.323 1386.4  Z\n",
       "  \" fill=\"#1874cd\" fill-rule=\"evenodd\" fill-opacity=\"0.7\"/>\n",
       "<polyline clip-path=\"url(#clip402)\" style=\"stroke:#000000; stroke-width:4; stroke-opacity:0.7; fill:none\" points=\"\n",
       "  509.323,1386.4 286.417,1386.4 732.229,1386.4 509.323,1386.4 509.323,1235.94 509.323,1386.4 \n",
       "  \"/>\n",
       "<path clip-path=\"url(#clip402)\" d=\"\n",
       "M286.417 1235.94 L286.417 1222.34 L397.87 1172.66 L620.776 1172.66 L732.229 1222.34 L732.229 1235.94 L286.417 1235.94 L286.417 1235.94  Z\n",
       "  \" fill=\"#1874cd\" fill-rule=\"evenodd\" fill-opacity=\"0.7\"/>\n",
       "<polyline clip-path=\"url(#clip402)\" style=\"stroke:#000000; stroke-width:4; stroke-opacity:0.7; fill:none\" points=\"\n",
       "  286.417,1235.94 286.417,1222.34 397.87,1172.66 620.776,1172.66 732.229,1222.34 732.229,1235.94 286.417,1235.94 \n",
       "  \"/>\n",
       "<path clip-path=\"url(#clip402)\" d=\"\n",
       "M286.417 1095.33 L286.417 1122.99 L397.87 1172.66 L620.776 1172.66 L732.229 1122.99 L732.229 1095.33 L286.417 1095.33 L286.417 1095.33  Z\n",
       "  \" fill=\"#1874cd\" fill-rule=\"evenodd\" fill-opacity=\"0.7\"/>\n",
       "<polyline clip-path=\"url(#clip402)\" style=\"stroke:#000000; stroke-width:4; stroke-opacity:0.7; fill:none\" points=\"\n",
       "  286.417,1095.33 286.417,1122.99 397.87,1172.66 620.776,1172.66 732.229,1122.99 732.229,1095.33 286.417,1095.33 \n",
       "  \"/>\n",
       "<path clip-path=\"url(#clip402)\" d=\"\n",
       "M509.323 908.314 L286.417 908.314 L732.229 908.314 L509.323 908.314 L509.323 1095.33 L509.323 908.314  Z\n",
       "  \" fill=\"#1874cd\" fill-rule=\"evenodd\" fill-opacity=\"0.7\"/>\n",
       "<polyline clip-path=\"url(#clip402)\" style=\"stroke:#000000; stroke-width:4; stroke-opacity:0.7; fill:none\" points=\"\n",
       "  509.323,908.314 286.417,908.314 732.229,908.314 509.323,908.314 509.323,1095.33 509.323,908.314 \n",
       "  \"/>\n",
       "<path clip-path=\"url(#clip402)\" d=\"\n",
       "M1289.49 1375.15 L1066.59 1375.15 L1512.4 1375.15 L1289.49 1375.15 L1289.49 1120.64 L1289.49 1375.15  Z\n",
       "  \" fill=\"#1874cd\" fill-rule=\"evenodd\" fill-opacity=\"0.7\"/>\n",
       "<polyline clip-path=\"url(#clip402)\" style=\"stroke:#000000; stroke-width:4; stroke-opacity:0.7; fill:none\" points=\"\n",
       "  1289.49,1375.15 1066.59,1375.15 1512.4,1375.15 1289.49,1375.15 1289.49,1120.64 1289.49,1375.15 \n",
       "  \"/>\n",
       "<path clip-path=\"url(#clip402)\" d=\"\n",
       "M1066.59 1120.64 L1066.59 1054.62 L1178.04 922.375 L1400.95 922.375 L1512.4 1054.62 L1512.4 1120.64 L1066.59 1120.64 L1066.59 1120.64  Z\n",
       "  \" fill=\"#1874cd\" fill-rule=\"evenodd\" fill-opacity=\"0.7\"/>\n",
       "<polyline clip-path=\"url(#clip402)\" style=\"stroke:#000000; stroke-width:4; stroke-opacity:0.7; fill:none\" points=\"\n",
       "  1066.59,1120.64 1066.59,1054.62 1178.04,922.375 1400.95,922.375 1512.4,1054.62 1512.4,1120.64 1066.59,1120.64 \n",
       "  \"/>\n",
       "<path clip-path=\"url(#clip402)\" d=\"\n",
       "M1066.59 746.328 L1066.59 790.132 L1178.04 922.375 L1400.95 922.375 L1512.4 790.132 L1512.4 746.328 L1066.59 746.328 L1066.59 746.328  Z\n",
       "  \" fill=\"#1874cd\" fill-rule=\"evenodd\" fill-opacity=\"0.7\"/>\n",
       "<polyline clip-path=\"url(#clip402)\" style=\"stroke:#000000; stroke-width:4; stroke-opacity:0.7; fill:none\" points=\"\n",
       "  1066.59,746.328 1066.59,790.132 1178.04,922.375 1400.95,922.375 1512.4,790.132 1512.4,746.328 1066.59,746.328 \n",
       "  \"/>\n",
       "<path clip-path=\"url(#clip402)\" d=\"\n",
       "M1289.49 289.62 L1066.59 289.62 L1512.4 289.62 L1289.49 289.62 L1289.49 746.328 L1289.49 289.62  Z\n",
       "  \" fill=\"#1874cd\" fill-rule=\"evenodd\" fill-opacity=\"0.7\"/>\n",
       "<polyline clip-path=\"url(#clip402)\" style=\"stroke:#000000; stroke-width:4; stroke-opacity:0.7; fill:none\" points=\"\n",
       "  1289.49,289.62 1066.59,289.62 1512.4,289.62 1289.49,289.62 1289.49,746.328 1289.49,289.62 \n",
       "  \"/>\n",
       "<circle clip-path=\"url(#clip402)\" cx=\"2069.67\" cy=\"1290.78\" r=\"14\" fill=\"#1874cd\" fill-rule=\"evenodd\" fill-opacity=\"0.7\" stroke=\"#000000\" stroke-opacity=\"0.7\" stroke-width=\"3.2\"/>\n",
       "<circle clip-path=\"url(#clip402)\" cx=\"2069.67\" cy=\"160.256\" r=\"14\" fill=\"#1874cd\" fill-rule=\"evenodd\" fill-opacity=\"0.7\" stroke=\"#000000\" stroke-opacity=\"0.7\" stroke-width=\"3.2\"/>\n",
       "<circle clip-path=\"url(#clip402)\" cx=\"2069.67\" cy=\"227.75\" r=\"14\" fill=\"#1874cd\" fill-rule=\"evenodd\" fill-opacity=\"0.7\" stroke=\"#000000\" stroke-opacity=\"0.7\" stroke-width=\"3.2\"/>\n",
       "<circle clip-path=\"url(#clip402)\" cx=\"2069.67\" cy=\"182.754\" r=\"14\" fill=\"#1874cd\" fill-rule=\"evenodd\" fill-opacity=\"0.7\" stroke=\"#000000\" stroke-opacity=\"0.7\" stroke-width=\"3.2\"/>\n",
       "<path clip-path=\"url(#clip402)\" d=\"\n",
       "M2069.67 1110.8 L1846.76 1110.8 L2292.57 1110.8 L2069.67 1110.8 L2069.67 908.314 L2069.67 1110.8  Z\n",
       "  \" fill=\"#1874cd\" fill-rule=\"evenodd\" fill-opacity=\"0.7\"/>\n",
       "<polyline clip-path=\"url(#clip402)\" style=\"stroke:#000000; stroke-width:4; stroke-opacity:0.7; fill:none\" points=\"\n",
       "  2069.67,1110.8 1846.76,1110.8 2292.57,1110.8 2069.67,1110.8 2069.67,908.314 2069.67,1110.8 \n",
       "  \"/>\n",
       "<path clip-path=\"url(#clip402)\" d=\"\n",
       "M1846.76 908.314 L1846.76 848.668 L1958.21 776.138 L2181.12 776.138 L2292.57 848.668 L2292.57 908.314 L1846.76 908.314 L1846.76 908.314  Z\n",
       "  \" fill=\"#1874cd\" fill-rule=\"evenodd\" fill-opacity=\"0.7\"/>\n",
       "<polyline clip-path=\"url(#clip402)\" style=\"stroke:#000000; stroke-width:4; stroke-opacity:0.7; fill:none\" points=\"\n",
       "  1846.76,908.314 1846.76,848.668 1958.21,776.138 2181.12,776.138 2292.57,848.668 2292.57,908.314 1846.76,908.314 \n",
       "  \"/>\n",
       "<path clip-path=\"url(#clip402)\" d=\"\n",
       "M1846.76 703.02 L1846.76 703.608 L1958.21 776.138 L2181.12 776.138 L2292.57 703.608 L2292.57 703.02 L1846.76 703.02 L1846.76 703.02  Z\n",
       "  \" fill=\"#1874cd\" fill-rule=\"evenodd\" fill-opacity=\"0.7\"/>\n",
       "<polyline clip-path=\"url(#clip402)\" style=\"stroke:#000000; stroke-width:4; stroke-opacity:0.7; fill:none\" points=\"\n",
       "  1846.76,703.02 1846.76,703.608 1958.21,776.138 2181.12,776.138 2292.57,703.608 2292.57,703.02 1846.76,703.02 \n",
       "  \"/>\n",
       "<path clip-path=\"url(#clip402)\" d=\"\n",
       "M2069.67 508.975 L1846.76 508.975 L2292.57 508.975 L2069.67 508.975 L2069.67 703.02 L2069.67 508.975  Z\n",
       "  \" fill=\"#1874cd\" fill-rule=\"evenodd\" fill-opacity=\"0.7\"/>\n",
       "<polyline clip-path=\"url(#clip402)\" style=\"stroke:#000000; stroke-width:4; stroke-opacity:0.7; fill:none\" points=\"\n",
       "  2069.67,508.975 1846.76,508.975 2292.57,508.975 2069.67,508.975 2069.67,703.02 2069.67,508.975 \n",
       "  \"/>\n",
       "</svg>\n"
      ]
     },
     "execution_count": 36,
     "metadata": {},
     "output_type": "execute_result"
    }
   ],
   "source": [
    "series_top = Array{Real,1}();  series_middle = Array{Real,1}();  series_bottom = Array{Real,1}()\n",
    "for curric in top_tier\n",
    "    push!(series_top, curric.metrics[\"complexity\"][1])\n",
    "end\n",
    "for curric in middle_tier\n",
    "    push!(series_middle, curric.metrics[\"complexity\"][1])\n",
    "end\n",
    "for curric in bottom_tier\n",
    "    push!(series_bottom, curric.metrics[\"complexity\"][1])\n",
    "end\n",
    "boxplot([\"top\" \"middle\" \"bottom\"], [series_top, series_middle, series_bottom], notch=true, title=\"Computer Science Programs\", \n",
    "    xlabel=\"tiers\", ylabel=\"curricular complexity\", legend=false, alpha=0.7, color=:dodgerblue3)\n"
   ]
  },
  {
   "cell_type": "markdown",
   "metadata": {},
   "source": [
    "## Conclusions\n",
    "We have demonstrated that an inverse relationship exists between the complexity of the curricula in undergraduate computer science programs and the quality of these programs. Specifically, the complexity of the computer science undergraduate curricula at the highest quality schools (where quality is inferred from the rankings of computer science departments) is drastically less than the complexity of the curricula at those schools judged to be at the lower end of this quality ranking. The average complexity of those schools at the bottom of the ranking is almost twice the average of those schools in the top decile of the ranking. In addition, we demonstrated that this difference is statistically significant; that is, this difference is due to something other than chance. Because the complexity of a curriculum is a measure of the difficulty that students are expected to have completing that curriculum, this difference has important student success implications. In particular, if we were to equalize instructional factors (e.g., the difficulty of the courses in the curriculum, the support services provided to students, etc.) and student background preparation, we would expect students to graduate at a higher rate from the lower complexity curricula. This is indeed what we observe, and the fact that this benefit is most pronounced in the highest quality programs deserves further investigation. It is possible to produce arguments for both sides of a possible cause-and-effect relationship between curricular complexity and program quality.  Below we consider a few.\n",
    "\n",
    "One might argue that because the top tier schools admit better prepared students they can offer less complex curricula, as their students can more easily overcome any knowledge gaps that may exist due to having fewer prerequisites prior to attempting a given course, as well as fewer total courses in their curricula. It should be noted, however, that there are a number of schools outside the tier that have created pathways in the first year of their curricula that substantially reduce curricular complexity \\cite{HeHiSlAb:17}. These curricular innovations have been demonstrated to significantly improve graduation rates, as well as the attainment of program learning outcomes \\cite{KlBo:15}. That is, we believe is possible to reduce the complexity of computer science programs that serve less-prepared students, while actually improving program quality (as judged by outcomes). More generally, we note that the principle of Occam's razor is often applied to guide engineering designs towards the simplest and therefore best solutions.  One of the most popular versions of this principle states, \"Entities are not to be multiplied without necessity.\"  We posit that this study indicates this principle applies to curricula.  Namely, the simplest curriculum (in terms of complexity) that allows students to attain a program's learning outcomes yields the best student success outcomes and therefore the highest quality program."
   ]
  },
  {
   "cell_type": "markdown",
   "metadata": {},
   "source": [
    "## References\n",
    "\n",
    "Emery Berger (2019).  https://CSRankings.org, accessed August 28, 2019.\n",
    "\n",
    "Heileman, G. L., Abdallah, C.T., Slim, A., and Hickman, M. (2018). Curricular analytics: A framework for quantifying the impact of curricular reforms and pedagogical innovations. www.arXiv.org, arXiv:1811.09676 [cs.CY].\n",
    "\n",
    "Heileman, G. L., Free, H. W., Abar, O. and Thompson-Arjona, W. G, (2019). CurricularAnalytics.jl Toolbox. https://github.com/heileman/CurricularAnalytics.jl."
   ]
  }
 ],
 "metadata": {
  "@webio": {
   "lastCommId": "de934936dd4b497c848688b5b03d3e5c",
   "lastKernelId": "f1bd414e-b2b5-4218-8241-8280793f874c"
  },
  "kernelspec": {
   "display_name": "Julia 1.5.0",
   "language": "julia",
   "name": "julia-1.5"
  },
  "language_info": {
   "file_extension": ".jl",
   "mimetype": "application/julia",
   "name": "julia",
   "version": "1.5.0"
  }
 },
 "nbformat": 4,
 "nbformat_minor": 2
}
