{
 "cells": [
  {
   "cell_type": "markdown",
   "metadata": {},
   "source": [
    "# <center>Does Curricular Complexity Imply Program Quality?</center>\n",
    "\n",
    "<center>\n",
    "    <b>Gregory L. Heileman$^\\dagger$, William G. Thompson-Arjona$^\\dagger$, Orhan Abar$^\\ddagger$ and Hayden W. Free$^\\ddagger$</b> <br>\n",
    "    $^\\dagger$Department of Electrical & Computer Engineering <br>\n",
    "    $^\\ddagger$Department of Computer Science <br>\n",
    "    University of Kentucky <br>\n",
    "    {greg.heileman, wgthompson, orhan.abar,  hayden.free}@uky.edu\n",
    "</center>\n",
    "\n",
    "## Introduction\n",
    "In this notebook we compare the complexity of electrical engineering programs across the U.S. News & World report rankings, revealing a surprising finding, namely that higher ranked programs tend to have less complex curricula.  Because the curricular complexity metrics used here directly relate to a student's ability to complete that curriculum, this means that from a structural perspective (i.e., the manner in which curricula are structured), it is generally easier for students to complete the electrical engineering curricula at higher ranked schools.  \n",
    "\n",
    "This analysis is based upon recently developed curricular complexity metrics (see <cite data-cite=\"he:18\">Heileman, et. al, (2018)</cite>).  Research in this area demonstrates that according to these complexity metrics, engineering programs tend to be among the most complex univeristy curricula. This is attributed to the large number of prerequisites that accompany many of the courses in engineering programs, as well as the long prerequisite chains that tend to exist in these curricula. This notebook makes use use of a Curricular Analytics toolbox that was built to compute these curricular complexity metrics <cite data-cite=\"he:18\">Heileman, et. al. (2019)</cite>).    \n",
    "\n",
    "The following commands will install the Curricular Analytics toolbox, as well as a number of other Julia programming language packages that are used within the notebook: "
   ]
  },
  {
   "cell_type": "code",
   "execution_count": 37,
   "metadata": {},
   "outputs": [],
   "source": [
    "using CurricularAnalytics, CurricularVisualization\n",
    "using Glob\n",
    "using StatsPlots"
   ]
  },
  {
   "cell_type": "markdown",
   "metadata": {},
   "source": [
    "## Complexity of Electrical Engineering Curricula\n",
    "To get a sense of the diversity in the complexities of electrical enginering program curricula, below we provide  visulizations of two programs, one with low curricular complexity and another with high curricular complexity. Consider first a degree plan associated with an electrical engineering program having relatively low curricular complexity."
   ]
  },
  {
   "cell_type": "code",
   "execution_count": 38,
   "metadata": {
    "scrolled": false
   },
   "outputs": [
    {
     "data": {
      "application/vnd.webio.node+json": {
       "children": [
        {
         "children": [
          ""
         ],
         "instanceArgs": {
          "namespace": "html",
          "tag": "iframe"
         },
         "nodeType": "DOM",
         "props": {
          "events": {
           "load": "(function (){this.contentWindow.postMessage({\"options\":{\"hideTerms\":false,\"edit\":false},\"curriculum\":{\"name\":\"Curriculum\",\"dp_name\":\"Carnegie Mellon University.csv\",\"curriculum_terms\":[{\"name\":\"Term 1\",\"curriculum_items\":[{\"curriculum_requisites\":[],\"name\":\" \",\"metrics\":{\"centrality\":0,\"complexity\":8.0,\"blocking factor\":5,\"delay factor\":3.0},\"nameSub\":\"18-100\",\"id\":1,\"credits\":3,\"nameCanonical\":\"\"},{\"curriculum_requisites\":[],\"name\":\" \",\"metrics\":{\"centrality\":0,\"complexity\":7.0,\"blocking factor\":3,\"delay factor\":4.0},\"nameSub\":\"15-112\",\"id\":2,\"credits\":3,\"nameCanonical\":\"\"},{\"curriculum_requisites\":[],\"name\":\" \",\"metrics\":{\"centrality\":0,\"complexity\":13.0,\"blocking factor\":8,\"delay factor\":5.0},\"nameSub\":\"21-120\",\"id\":3,\"credits\":3,\"nameCanonical\":\"\"},{\"curriculum_requisites\":[],\"name\":\" \",\"metrics\":{\"centrality\":0,\"complexity\":1.0,\"blocking factor\":0,\"delay factor\":1.0},\"nameSub\":\"76-101\",\"id\":4,\"credits\":3,\"nameCanonical\":\"\"},{\"curriculum_requisites\":[],\"name\":\" \",\"metrics\":{\"centrality\":0,\"complexity\":1.0,\"blocking factor\":0,\"delay factor\":1.0},\"nameSub\":\"99-101\",\"id\":5,\"credits\":3,\"nameCanonical\":\"\"}],\"id\":1},{\"name\":\"Term 2\",\"curriculum_items\":[{\"curriculum_requisites\":[{\"source_id\":3,\"target_id\":6,\"type\":\"CurriculumPrerequisite\"}],\"name\":\" \",\"metrics\":{\"centrality\":5,\"complexity\":8.0,\"blocking factor\":3,\"delay factor\":5.0},\"nameSub\":\"33-141\",\"id\":6,\"credits\":3,\"nameCanonical\":\"\"},{\"curriculum_requisites\":[{\"source_id\":3,\"target_id\":7,\"type\":\"CurriculumPrerequisite\"}],\"name\":\" \",\"metrics\":{\"centrality\":13,\"complexity\":10.0,\"blocking factor\":5,\"delay factor\":5.0},\"nameSub\":\"21-122\",\"id\":7,\"credits\":3,\"nameCanonical\":\"\"},{\"curriculum_requisites\":[],\"name\":\" \",\"metrics\":{\"centrality\":0,\"complexity\":1.0,\"blocking factor\":0,\"delay factor\":1.0},\"nameSub\":\"Introductory Engineering course\",\"id\":8,\"credits\":3,\"nameCanonical\":\"\"},{\"curriculum_requisites\":[],\"name\":\" \",\"metrics\":{\"centrality\":0,\"complexity\":1.0,\"blocking factor\":0,\"delay factor\":1.0},\"nameSub\":\"General Education course\",\"id\":9,\"credits\":3,\"nameCanonical\":\"\"}],\"id\":2},{\"name\":\"Term 3\",\"curriculum_items\":[{\"curriculum_requisites\":[{\"source_id\":1,\"target_id\":10,\"type\":\"CurriculumPrerequisite\"}],\"name\":\" \",\"metrics\":{\"centrality\":0,\"complexity\":2.0,\"blocking factor\":0,\"delay factor\":2.0},\"nameSub\":\"18-200\",\"id\":10,\"credits\":3,\"nameCanonical\":\"\"},{\"curriculum_requisites\":[{\"source_id\":7,\"target_id\":11,\"type\":\"CurriculumPrerequisite\"}],\"name\":\" \",\"metrics\":{\"centrality\":10,\"complexity\":8.0,\"blocking factor\":3,\"delay factor\":5.0},\"nameSub\":\"18-202\",\"id\":11,\"credits\":3,\"nameCanonical\":\"\"},{\"curriculum_requisites\":[{\"source_id\":6,\"target_id\":12,\"type\":\"CurriculumPrerequisite\"}],\"name\":\" \",\"metrics\":{\"centrality\":5,\"complexity\":7.0,\"blocking factor\":2,\"delay factor\":5.0},\"nameSub\":\"33-142\",\"id\":12,\"credits\":3,\"nameCanonical\":\"\"},{\"curriculum_requisites\":[],\"name\":\" \",\"metrics\":{\"centrality\":0,\"complexity\":5.0,\"blocking factor\":2,\"delay factor\":3.0},\"nameSub\":\"39-210\",\"id\":13,\"credits\":3,\"nameCanonical\":\"\"},{\"curriculum_requisites\":[{\"source_id\":11,\"target_id\":14,\"type\":\"CurriculumCorequisite\"},{\"source_id\":12,\"target_id\":14,\"type\":\"CurriculumCorequisite\"},{\"source_id\":1,\"target_id\":14,\"type\":\"CurriculumPrerequisite\"}],\"name\":\" \",\"metrics\":{\"centrality\":13,\"complexity\":6.0,\"blocking factor\":1,\"delay factor\":5.0},\"nameSub\":\"18-220\",\"id\":14,\"credits\":3,\"nameCanonical\":\"\"},{\"curriculum_requisites\":[],\"name\":\" \",\"metrics\":{\"centrality\":0,\"complexity\":1.0,\"blocking factor\":0,\"delay factor\":1.0},\"nameSub\":\"General Education course\",\"id\":15,\"credits\":3,\"nameCanonical\":\"\"}],\"id\":3},{\"name\":\"Term 4\",\"curriculum_items\":[{\"curriculum_requisites\":[],\"name\":\" \",\"metrics\":{\"centrality\":0,\"complexity\":5.0,\"blocking factor\":2,\"delay factor\":3.0},\"nameSub\":\"21-127\",\"id\":16,\"credits\":3,\"nameCanonical\":\"\"},{\"curriculum_requisites\":[{\"source_id\":2,\"target_id\":17,\"type\":\"CurriculumPrerequisite\"}],\"name\":\" \",\"metrics\":{\"centrality\":4,\"complexity\":6.0,\"blocking factor\":2,\"delay factor\":4.0},\"nameSub\":\"15-122\",\"id\":17,\"credits\":3,\"nameCanonical\":\"\"},{\"curriculum_requisites\":[{\"source_id\":7,\"target_id\":18,\"type\":\"CurriculumPrerequisite\"}],\"name\":\" \",\"metrics\":{\"centrality\":0,\"complexity\":3.0,\"blocking factor\":0,\"delay factor\":3.0},\"nameSub\":\"36-217\",\"id\":18,\"credits\":3,\"nameCanonical\":\"\"},{\"curriculum_requisites\":[{\"source_id\":13,\"target_id\":19,\"type\":\"CurriculumPrerequisite\"}],\"name\":\" \",\"metrics\":{\"centrality\":3,\"complexity\":4.0,\"blocking factor\":1,\"delay factor\":3.0},\"nameSub\":\"39-220\",\"id\":19,\"credits\":3,\"nameCanonical\":\"\"},{\"curriculum_requisites\":[],\"name\":\" \",\"metrics\":{\"centrality\":0,\"complexity\":1.0,\"blocking factor\":0,\"delay factor\":1.0},\"nameSub\":\"General Education course\",\"id\":20,\"credits\":3,\"nameCanonical\":\"\"},{\"curriculum_requisites\":[{\"source_id\":11,\"target_id\":21,\"type\":\"CurriculumCorequisite\"},{\"source_id\":1,\"target_id\":21,\"type\":\"CurriculumPrerequisite\"}],\"name\":\" \",\"metrics\":{\"centrality\":8,\"complexity\":6.0,\"blocking factor\":1,\"delay factor\":5.0},\"nameSub\":\"18-290\",\"id\":21,\"credits\":3,\"nameCanonical\":\"\"}],\"id\":4},{\"name\":\"Term 5\",\"curriculum_items\":[{\"curriculum_requisites\":[{\"source_id\":19,\"target_id\":22,\"type\":\"CurriculumPrerequisite\"}],\"name\":\" \",\"metrics\":{\"centrality\":0,\"complexity\":3.0,\"blocking factor\":0,\"delay factor\":3.0},\"nameSub\":\"39-310\",\"id\":22,\"credits\":3,\"nameCanonical\":\"\"},{\"curriculum_requisites\":[],\"name\":\" \",\"metrics\":{\"centrality\":0,\"complexity\":1.0,\"blocking factor\":0,\"delay factor\":1.0},\"nameSub\":\"18-3xx/4xx ECE Area 1 course\",\"id\":23,\"credits\":3,\"nameCanonical\":\"\"},{\"curriculum_requisites\":[{\"source_id\":16,\"target_id\":24,\"type\":\"CurriculumCorequisite\"},{\"source_id\":1,\"target_id\":24,\"type\":\"CurriculumPrerequisite\"}],\"name\":\" \",\"metrics\":{\"centrality\":6,\"complexity\":4.0,\"blocking factor\":1,\"delay factor\":3.0},\"nameSub\":\"18-240\",\"id\":24,\"credits\":3,\"nameCanonical\":\"\"},{\"curriculum_requisites\":[],\"name\":\" \",\"metrics\":{\"centrality\":0,\"complexity\":1.0,\"blocking factor\":0,\"delay factor\":1.0},\"nameSub\":\"Free Elective\",\"id\":25,\"credits\":3,\"nameCanonical\":\"\"},{\"curriculum_requisites\":[],\"name\":\" \",\"metrics\":{\"centrality\":0,\"complexity\":1.0,\"blocking factor\":0,\"delay factor\":1.0},\"nameSub\":\"General Education course\",\"id\":26,\"credits\":3,\"nameCanonical\":\"\"},{\"curriculum_requisites\":[],\"name\":\" \",\"metrics\":{\"centrality\":0,\"complexity\":1.0,\"blocking factor\":0,\"delay factor\":1.0},\"nameSub\":\"Math/Science elective 1\",\"id\":27,\"credits\":3,\"nameCanonical\":\"\"}],\"id\":5},{\"name\":\"Term 6\",\"curriculum_items\":[{\"curriculum_requisites\":[{\"source_id\":17,\"target_id\":28,\"type\":\"CurriculumPrerequisite\"}],\"name\":\" \",\"metrics\":{\"centrality\":4,\"complexity\":5.0,\"blocking factor\":1,\"delay factor\":4.0},\"nameSub\":\"18-213\",\"id\":28,\"credits\":3,\"nameCanonical\":\"\"},{\"curriculum_requisites\":[],\"name\":\" \",\"metrics\":{\"centrality\":0,\"complexity\":3.0,\"blocking factor\":1,\"delay factor\":2.0},\"nameSub\":\"18-xxx Area course 1\",\"id\":29,\"credits\":3,\"nameCanonical\":\"\"},{\"curriculum_requisites\":[],\"name\":\" \",\"metrics\":{\"centrality\":0,\"complexity\":1.0,\"blocking factor\":0,\"delay factor\":1.0},\"nameSub\":\"Free Elective\",\"id\":30,\"credits\":3,\"nameCanonical\":\"\"},{\"curriculum_requisites\":[],\"name\":\" \",\"metrics\":{\"centrality\":0,\"complexity\":1.0,\"blocking factor\":0,\"delay factor\":1.0},\"nameSub\":\"General Education course\",\"id\":31,\"credits\":3,\"nameCanonical\":\"\"},{\"curriculum_requisites\":[],\"name\":\" \",\"metrics\":{\"centrality\":0,\"complexity\":1.0,\"blocking factor\":0,\"delay factor\":1.0},\"nameSub\":\"Math/Science Elective 2\",\"id\":32,\"credits\":3,\"nameCanonical\":\"\"}],\"id\":6},{\"name\":\"Term 7\",\"curriculum_items\":[{\"curriculum_requisites\":[],\"name\":\" \",\"metrics\":{\"centrality\":0,\"complexity\":1.0,\"blocking factor\":0,\"delay factor\":1.0},\"nameSub\":\"18-xxx ECE Coverage course\",\"id\":33,\"credits\":3,\"nameCanonical\":\"\"},{\"curriculum_requisites\":[],\"name\":\" \",\"metrics\":{\"centrality\":0,\"complexity\":3.0,\"blocking factor\":1,\"delay factor\":2.0},\"nameSub\":\"18-xxx Area course 2\",\"id\":34,\"credits\":3,\"nameCanonical\":\"\"},{\"curriculum_requisites\":[],\"name\":\" \",\"metrics\":{\"centrality\":0,\"complexity\":1.0,\"blocking factor\":0,\"delay factor\":1.0},\"nameSub\":\"Free Elective\",\"id\":35,\"credits\":3,\"nameCanonical\":\"\"},{\"curriculum_requisites\":[],\"name\":\" \",\"metrics\":{\"centrality\":0,\"complexity\":1.0,\"blocking factor\":0,\"delay factor\":1.0},\"nameSub\":\"Free Elective\",\"id\":36,\"credits\":3,\"nameCanonical\":\"\"},{\"curriculum_requisites\":[],\"name\":\" \",\"metrics\":{\"centrality\":0,\"complexity\":1.0,\"blocking factor\":0,\"delay factor\":1.0},\"nameSub\":\"General Education course\",\"id\":37,\"credits\":3,\"nameCanonical\":\"\"}],\"id\":7},{\"name\":\"Term 8\",\"curriculum_items\":[{\"curriculum_requisites\":[{\"source_id\":14,\"target_id\":38,\"type\":\"CurriculumPrerequisite\"},{\"source_id\":34,\"target_id\":38,\"type\":\"CurriculumPrerequisite\"},{\"source_id\":29,\"target_id\":38,\"type\":\"CurriculumPrerequisite\"},{\"source_id\":28,\"target_id\":38,\"type\":\"CurriculumPrerequisite\"},{\"source_id\":21,\"target_id\":38,\"type\":\"CurriculumPrerequisite\"},{\"source_id\":24,\"target_id\":38,\"type\":\"CurriculumPrerequisite\"}],\"name\":\" \",\"metrics\":{\"centrality\":0,\"complexity\":5.0,\"blocking factor\":0,\"delay factor\":5.0},\"nameSub\":\"18-500\",\"id\":38,\"credits\":3,\"nameCanonical\":\"\"},{\"curriculum_requisites\":[],\"name\":\" \",\"metrics\":{\"centrality\":0,\"complexity\":1.0,\"blocking factor\":0,\"delay factor\":1.0},\"nameSub\":\"Free Elective\",\"id\":39,\"credits\":3,\"nameCanonical\":\"\"},{\"curriculum_requisites\":[],\"name\":\" \",\"metrics\":{\"centrality\":0,\"complexity\":1.0,\"blocking factor\":0,\"delay factor\":1.0},\"nameSub\":\"Free Elective\",\"id\":40,\"credits\":3,\"nameCanonical\":\"\"},{\"curriculum_requisites\":[],\"name\":\" \",\"metrics\":{\"centrality\":0,\"complexity\":1.0,\"blocking factor\":0,\"delay factor\":1.0},\"nameSub\":\"Free Elective\",\"id\":41,\"credits\":3,\"nameCanonical\":\"\"},{\"curriculum_requisites\":[],\"name\":\" \",\"metrics\":{\"centrality\":0,\"complexity\":1.0,\"blocking factor\":0,\"delay factor\":1.0},\"nameSub\":\"General Education course\",\"id\":42,\"credits\":3,\"nameCanonical\":\"\"}],\"id\":8}],\"institution\":\"\"}},\"*\"); window.removeEventListener(\"message\",window.messageReceived); window.messageReceived=(function (event){return (event.data.curriculum!==undefined) ? (WebIO.setval({\"name\":\"curriculum-data\",\"scope\":\"9299454571573952437\",\"id\":\"11175979129894111126\",\"type\":\"observable\"},event.data.curriculum)) : undefined}); return window.addEventListener(\"message\",window.messageReceived)})"
          },
          "id": "curriculum",
          "src": "http://localhost:8156",
          "style": {
           "border": "none",
           "height": "100vh",
           "margin": "0",
           "padding": "0",
           "width": "100%"
          }
         },
         "type": "node"
        }
       ],
       "instanceArgs": {
        "handlers": {},
        "id": "9299454571573952437",
        "imports": {
         "data": [],
         "type": "async_block"
        },
        "mount_callbacks": [],
        "observables": {
         "curriculum-data": {
          "id": "11175979129894111126",
          "sync": true,
          "value": {
           "curriculum": {
            "curriculum_terms": [
             {
              "curriculum_items": [
               {
                "credits": 3,
                "curriculum_requisites": [],
                "id": 1,
                "metrics": {
                 "blocking factor": 5,
                 "centrality": 0,
                 "complexity": 8,
                 "delay factor": 3
                },
                "name": " ",
                "nameCanonical": "",
                "nameSub": "18-100"
               },
               {
                "credits": 3,
                "curriculum_requisites": [],
                "id": 2,
                "metrics": {
                 "blocking factor": 3,
                 "centrality": 0,
                 "complexity": 7,
                 "delay factor": 4
                },
                "name": " ",
                "nameCanonical": "",
                "nameSub": "15-112"
               },
               {
                "credits": 3,
                "curriculum_requisites": [],
                "id": 3,
                "metrics": {
                 "blocking factor": 8,
                 "centrality": 0,
                 "complexity": 13,
                 "delay factor": 5
                },
                "name": " ",
                "nameCanonical": "",
                "nameSub": "21-120"
               },
               {
                "credits": 3,
                "curriculum_requisites": [],
                "id": 4,
                "metrics": {
                 "blocking factor": 0,
                 "centrality": 0,
                 "complexity": 1,
                 "delay factor": 1
                },
                "name": " ",
                "nameCanonical": "",
                "nameSub": "76-101"
               },
               {
                "credits": 3,
                "curriculum_requisites": [],
                "id": 5,
                "metrics": {
                 "blocking factor": 0,
                 "centrality": 0,
                 "complexity": 1,
                 "delay factor": 1
                },
                "name": " ",
                "nameCanonical": "",
                "nameSub": "99-101"
               }
              ],
              "id": 1,
              "name": "Term 1"
             },
             {
              "curriculum_items": [
               {
                "credits": 3,
                "curriculum_requisites": [
                 {
                  "source_id": 3,
                  "target_id": 6,
                  "type": "CurriculumPrerequisite"
                 }
                ],
                "id": 6,
                "metrics": {
                 "blocking factor": 3,
                 "centrality": 5,
                 "complexity": 8,
                 "delay factor": 5
                },
                "name": " ",
                "nameCanonical": "",
                "nameSub": "33-141"
               },
               {
                "credits": 3,
                "curriculum_requisites": [
                 {
                  "source_id": 3,
                  "target_id": 7,
                  "type": "CurriculumPrerequisite"
                 }
                ],
                "id": 7,
                "metrics": {
                 "blocking factor": 5,
                 "centrality": 13,
                 "complexity": 10,
                 "delay factor": 5
                },
                "name": " ",
                "nameCanonical": "",
                "nameSub": "21-122"
               },
               {
                "credits": 3,
                "curriculum_requisites": [],
                "id": 8,
                "metrics": {
                 "blocking factor": 0,
                 "centrality": 0,
                 "complexity": 1,
                 "delay factor": 1
                },
                "name": " ",
                "nameCanonical": "",
                "nameSub": "Introductory Engineering course"
               },
               {
                "credits": 3,
                "curriculum_requisites": [],
                "id": 9,
                "metrics": {
                 "blocking factor": 0,
                 "centrality": 0,
                 "complexity": 1,
                 "delay factor": 1
                },
                "name": " ",
                "nameCanonical": "",
                "nameSub": "General Education course"
               }
              ],
              "id": 2,
              "name": "Term 2"
             },
             {
              "curriculum_items": [
               {
                "credits": 3,
                "curriculum_requisites": [
                 {
                  "source_id": 1,
                  "target_id": 10,
                  "type": "CurriculumPrerequisite"
                 }
                ],
                "id": 10,
                "metrics": {
                 "blocking factor": 0,
                 "centrality": 0,
                 "complexity": 2,
                 "delay factor": 2
                },
                "name": " ",
                "nameCanonical": "",
                "nameSub": "18-200"
               },
               {
                "credits": 3,
                "curriculum_requisites": [
                 {
                  "source_id": 7,
                  "target_id": 11,
                  "type": "CurriculumPrerequisite"
                 }
                ],
                "id": 11,
                "metrics": {
                 "blocking factor": 3,
                 "centrality": 10,
                 "complexity": 8,
                 "delay factor": 5
                },
                "name": " ",
                "nameCanonical": "",
                "nameSub": "18-202"
               },
               {
                "credits": 3,
                "curriculum_requisites": [
                 {
                  "source_id": 6,
                  "target_id": 12,
                  "type": "CurriculumPrerequisite"
                 }
                ],
                "id": 12,
                "metrics": {
                 "blocking factor": 2,
                 "centrality": 5,
                 "complexity": 7,
                 "delay factor": 5
                },
                "name": " ",
                "nameCanonical": "",
                "nameSub": "33-142"
               },
               {
                "credits": 3,
                "curriculum_requisites": [],
                "id": 13,
                "metrics": {
                 "blocking factor": 2,
                 "centrality": 0,
                 "complexity": 5,
                 "delay factor": 3
                },
                "name": " ",
                "nameCanonical": "",
                "nameSub": "39-210"
               },
               {
                "credits": 3,
                "curriculum_requisites": [
                 {
                  "source_id": 11,
                  "target_id": 14,
                  "type": "CurriculumCorequisite"
                 },
                 {
                  "source_id": 12,
                  "target_id": 14,
                  "type": "CurriculumCorequisite"
                 },
                 {
                  "source_id": 1,
                  "target_id": 14,
                  "type": "CurriculumPrerequisite"
                 }
                ],
                "id": 14,
                "metrics": {
                 "blocking factor": 1,
                 "centrality": 13,
                 "complexity": 6,
                 "delay factor": 5
                },
                "name": " ",
                "nameCanonical": "",
                "nameSub": "18-220"
               },
               {
                "credits": 3,
                "curriculum_requisites": [],
                "id": 15,
                "metrics": {
                 "blocking factor": 0,
                 "centrality": 0,
                 "complexity": 1,
                 "delay factor": 1
                },
                "name": " ",
                "nameCanonical": "",
                "nameSub": "General Education course"
               }
              ],
              "id": 3,
              "name": "Term 3"
             },
             {
              "curriculum_items": [
               {
                "credits": 3,
                "curriculum_requisites": [],
                "id": 16,
                "metrics": {
                 "blocking factor": 2,
                 "centrality": 0,
                 "complexity": 5,
                 "delay factor": 3
                },
                "name": " ",
                "nameCanonical": "",
                "nameSub": "21-127"
               },
               {
                "credits": 3,
                "curriculum_requisites": [
                 {
                  "source_id": 2,
                  "target_id": 17,
                  "type": "CurriculumPrerequisite"
                 }
                ],
                "id": 17,
                "metrics": {
                 "blocking factor": 2,
                 "centrality": 4,
                 "complexity": 6,
                 "delay factor": 4
                },
                "name": " ",
                "nameCanonical": "",
                "nameSub": "15-122"
               },
               {
                "credits": 3,
                "curriculum_requisites": [
                 {
                  "source_id": 7,
                  "target_id": 18,
                  "type": "CurriculumPrerequisite"
                 }
                ],
                "id": 18,
                "metrics": {
                 "blocking factor": 0,
                 "centrality": 0,
                 "complexity": 3,
                 "delay factor": 3
                },
                "name": " ",
                "nameCanonical": "",
                "nameSub": "36-217"
               },
               {
                "credits": 3,
                "curriculum_requisites": [
                 {
                  "source_id": 13,
                  "target_id": 19,
                  "type": "CurriculumPrerequisite"
                 }
                ],
                "id": 19,
                "metrics": {
                 "blocking factor": 1,
                 "centrality": 3,
                 "complexity": 4,
                 "delay factor": 3
                },
                "name": " ",
                "nameCanonical": "",
                "nameSub": "39-220"
               },
               {
                "credits": 3,
                "curriculum_requisites": [],
                "id": 20,
                "metrics": {
                 "blocking factor": 0,
                 "centrality": 0,
                 "complexity": 1,
                 "delay factor": 1
                },
                "name": " ",
                "nameCanonical": "",
                "nameSub": "General Education course"
               },
               {
                "credits": 3,
                "curriculum_requisites": [
                 {
                  "source_id": 11,
                  "target_id": 21,
                  "type": "CurriculumCorequisite"
                 },
                 {
                  "source_id": 1,
                  "target_id": 21,
                  "type": "CurriculumPrerequisite"
                 }
                ],
                "id": 21,
                "metrics": {
                 "blocking factor": 1,
                 "centrality": 8,
                 "complexity": 6,
                 "delay factor": 5
                },
                "name": " ",
                "nameCanonical": "",
                "nameSub": "18-290"
               }
              ],
              "id": 4,
              "name": "Term 4"
             },
             {
              "curriculum_items": [
               {
                "credits": 3,
                "curriculum_requisites": [
                 {
                  "source_id": 19,
                  "target_id": 22,
                  "type": "CurriculumPrerequisite"
                 }
                ],
                "id": 22,
                "metrics": {
                 "blocking factor": 0,
                 "centrality": 0,
                 "complexity": 3,
                 "delay factor": 3
                },
                "name": " ",
                "nameCanonical": "",
                "nameSub": "39-310"
               },
               {
                "credits": 3,
                "curriculum_requisites": [],
                "id": 23,
                "metrics": {
                 "blocking factor": 0,
                 "centrality": 0,
                 "complexity": 1,
                 "delay factor": 1
                },
                "name": " ",
                "nameCanonical": "",
                "nameSub": "18-3xx/4xx ECE Area 1 course"
               },
               {
                "credits": 3,
                "curriculum_requisites": [
                 {
                  "source_id": 16,
                  "target_id": 24,
                  "type": "CurriculumCorequisite"
                 },
                 {
                  "source_id": 1,
                  "target_id": 24,
                  "type": "CurriculumPrerequisite"
                 }
                ],
                "id": 24,
                "metrics": {
                 "blocking factor": 1,
                 "centrality": 6,
                 "complexity": 4,
                 "delay factor": 3
                },
                "name": " ",
                "nameCanonical": "",
                "nameSub": "18-240"
               },
               {
                "credits": 3,
                "curriculum_requisites": [],
                "id": 25,
                "metrics": {
                 "blocking factor": 0,
                 "centrality": 0,
                 "complexity": 1,
                 "delay factor": 1
                },
                "name": " ",
                "nameCanonical": "",
                "nameSub": "Free Elective"
               },
               {
                "credits": 3,
                "curriculum_requisites": [],
                "id": 26,
                "metrics": {
                 "blocking factor": 0,
                 "centrality": 0,
                 "complexity": 1,
                 "delay factor": 1
                },
                "name": " ",
                "nameCanonical": "",
                "nameSub": "General Education course"
               },
               {
                "credits": 3,
                "curriculum_requisites": [],
                "id": 27,
                "metrics": {
                 "blocking factor": 0,
                 "centrality": 0,
                 "complexity": 1,
                 "delay factor": 1
                },
                "name": " ",
                "nameCanonical": "",
                "nameSub": "Math/Science elective 1"
               }
              ],
              "id": 5,
              "name": "Term 5"
             },
             {
              "curriculum_items": [
               {
                "credits": 3,
                "curriculum_requisites": [
                 {
                  "source_id": 17,
                  "target_id": 28,
                  "type": "CurriculumPrerequisite"
                 }
                ],
                "id": 28,
                "metrics": {
                 "blocking factor": 1,
                 "centrality": 4,
                 "complexity": 5,
                 "delay factor": 4
                },
                "name": " ",
                "nameCanonical": "",
                "nameSub": "18-213"
               },
               {
                "credits": 3,
                "curriculum_requisites": [],
                "id": 29,
                "metrics": {
                 "blocking factor": 1,
                 "centrality": 0,
                 "complexity": 3,
                 "delay factor": 2
                },
                "name": " ",
                "nameCanonical": "",
                "nameSub": "18-xxx Area course 1"
               },
               {
                "credits": 3,
                "curriculum_requisites": [],
                "id": 30,
                "metrics": {
                 "blocking factor": 0,
                 "centrality": 0,
                 "complexity": 1,
                 "delay factor": 1
                },
                "name": " ",
                "nameCanonical": "",
                "nameSub": "Free Elective"
               },
               {
                "credits": 3,
                "curriculum_requisites": [],
                "id": 31,
                "metrics": {
                 "blocking factor": 0,
                 "centrality": 0,
                 "complexity": 1,
                 "delay factor": 1
                },
                "name": " ",
                "nameCanonical": "",
                "nameSub": "General Education course"
               },
               {
                "credits": 3,
                "curriculum_requisites": [],
                "id": 32,
                "metrics": {
                 "blocking factor": 0,
                 "centrality": 0,
                 "complexity": 1,
                 "delay factor": 1
                },
                "name": " ",
                "nameCanonical": "",
                "nameSub": "Math/Science Elective 2"
               }
              ],
              "id": 6,
              "name": "Term 6"
             },
             {
              "curriculum_items": [
               {
                "credits": 3,
                "curriculum_requisites": [],
                "id": 33,
                "metrics": {
                 "blocking factor": 0,
                 "centrality": 0,
                 "complexity": 1,
                 "delay factor": 1
                },
                "name": " ",
                "nameCanonical": "",
                "nameSub": "18-xxx ECE Coverage course"
               },
               {
                "credits": 3,
                "curriculum_requisites": [],
                "id": 34,
                "metrics": {
                 "blocking factor": 1,
                 "centrality": 0,
                 "complexity": 3,
                 "delay factor": 2
                },
                "name": " ",
                "nameCanonical": "",
                "nameSub": "18-xxx Area course 2"
               },
               {
                "credits": 3,
                "curriculum_requisites": [],
                "id": 35,
                "metrics": {
                 "blocking factor": 0,
                 "centrality": 0,
                 "complexity": 1,
                 "delay factor": 1
                },
                "name": " ",
                "nameCanonical": "",
                "nameSub": "Free Elective"
               },
               {
                "credits": 3,
                "curriculum_requisites": [],
                "id": 36,
                "metrics": {
                 "blocking factor": 0,
                 "centrality": 0,
                 "complexity": 1,
                 "delay factor": 1
                },
                "name": " ",
                "nameCanonical": "",
                "nameSub": "Free Elective"
               },
               {
                "credits": 3,
                "curriculum_requisites": [],
                "id": 37,
                "metrics": {
                 "blocking factor": 0,
                 "centrality": 0,
                 "complexity": 1,
                 "delay factor": 1
                },
                "name": " ",
                "nameCanonical": "",
                "nameSub": "General Education course"
               }
              ],
              "id": 7,
              "name": "Term 7"
             },
             {
              "curriculum_items": [
               {
                "credits": 3,
                "curriculum_requisites": [
                 {
                  "source_id": 14,
                  "target_id": 38,
                  "type": "CurriculumPrerequisite"
                 },
                 {
                  "source_id": 34,
                  "target_id": 38,
                  "type": "CurriculumPrerequisite"
                 },
                 {
                  "source_id": 29,
                  "target_id": 38,
                  "type": "CurriculumPrerequisite"
                 },
                 {
                  "source_id": 28,
                  "target_id": 38,
                  "type": "CurriculumPrerequisite"
                 },
                 {
                  "source_id": 21,
                  "target_id": 38,
                  "type": "CurriculumPrerequisite"
                 },
                 {
                  "source_id": 24,
                  "target_id": 38,
                  "type": "CurriculumPrerequisite"
                 }
                ],
                "id": 38,
                "metrics": {
                 "blocking factor": 0,
                 "centrality": 0,
                 "complexity": 5,
                 "delay factor": 5
                },
                "name": " ",
                "nameCanonical": "",
                "nameSub": "18-500"
               },
               {
                "credits": 3,
                "curriculum_requisites": [],
                "id": 39,
                "metrics": {
                 "blocking factor": 0,
                 "centrality": 0,
                 "complexity": 1,
                 "delay factor": 1
                },
                "name": " ",
                "nameCanonical": "",
                "nameSub": "Free Elective"
               },
               {
                "credits": 3,
                "curriculum_requisites": [],
                "id": 40,
                "metrics": {
                 "blocking factor": 0,
                 "centrality": 0,
                 "complexity": 1,
                 "delay factor": 1
                },
                "name": " ",
                "nameCanonical": "",
                "nameSub": "Free Elective"
               },
               {
                "credits": 3,
                "curriculum_requisites": [],
                "id": 41,
                "metrics": {
                 "blocking factor": 0,
                 "centrality": 0,
                 "complexity": 1,
                 "delay factor": 1
                },
                "name": " ",
                "nameCanonical": "",
                "nameSub": "Free Elective"
               },
               {
                "credits": 3,
                "curriculum_requisites": [],
                "id": 42,
                "metrics": {
                 "blocking factor": 0,
                 "centrality": 0,
                 "complexity": 1,
                 "delay factor": 1
                },
                "name": " ",
                "nameCanonical": "",
                "nameSub": "General Education course"
               }
              ],
              "id": 8,
              "name": "Term 8"
             }
            ],
            "dp_name": "Carnegie Mellon University.csv",
            "institution": "",
            "name": "Curriculum"
           },
           "options": {
            "edit": false,
            "hideTerms": false
           }
          }
         }
        },
        "systemjs_options": null
       },
       "nodeType": "Scope",
       "props": {},
       "type": "node"
      },
      "text/html": [
       "<div\n",
       "    class=\"webio-mountpoint\"\n",
       "    data-webio-mountpoint=\"2891273667105151332\"\n",
       ">\n",
       "    <script>\n",
       "    if (window.require && require.defined && require.defined(\"nbextensions/webio-jupyter-notebook\")) {\n",
       "        console.log(\"Jupyter WebIO extension detected, not mounting.\");\n",
       "    } else if (window.WebIO) {\n",
       "        WebIO.mount(\n",
       "            document.querySelector('[data-webio-mountpoint=\"2891273667105151332\"]'),\n",
       "            {\"props\":{},\"nodeType\":\"Scope\",\"type\":\"node\",\"instanceArgs\":{\"imports\":{\"data\":[],\"type\":\"async_block\"},\"id\":\"9299454571573952437\",\"handlers\":{},\"systemjs_options\":null,\"mount_callbacks\":[],\"observables\":{\"curriculum-data\":{\"sync\":true,\"id\":\"11175979129894111126\",\"value\":{\"options\":{\"hideTerms\":false,\"edit\":false},\"curriculum\":{\"name\":\"Curriculum\",\"dp_name\":\"Carnegie Mellon University.csv\",\"curriculum_terms\":[{\"name\":\"Term 1\",\"curriculum_items\":[{\"curriculum_requisites\":[],\"name\":\" \",\"metrics\":{\"centrality\":0,\"complexity\":8.0,\"blocking factor\":5,\"delay factor\":3.0},\"nameSub\":\"18-100\",\"id\":1,\"credits\":3,\"nameCanonical\":\"\"},{\"curriculum_requisites\":[],\"name\":\" \",\"metrics\":{\"centrality\":0,\"complexity\":7.0,\"blocking factor\":3,\"delay factor\":4.0},\"nameSub\":\"15-112\",\"id\":2,\"credits\":3,\"nameCanonical\":\"\"},{\"curriculum_requisites\":[],\"name\":\" \",\"metrics\":{\"centrality\":0,\"complexity\":13.0,\"blocking factor\":8,\"delay factor\":5.0},\"nameSub\":\"21-120\",\"id\":3,\"credits\":3,\"nameCanonical\":\"\"},{\"curriculum_requisites\":[],\"name\":\" \",\"metrics\":{\"centrality\":0,\"complexity\":1.0,\"blocking factor\":0,\"delay factor\":1.0},\"nameSub\":\"76-101\",\"id\":4,\"credits\":3,\"nameCanonical\":\"\"},{\"curriculum_requisites\":[],\"name\":\" \",\"metrics\":{\"centrality\":0,\"complexity\":1.0,\"blocking factor\":0,\"delay factor\":1.0},\"nameSub\":\"99-101\",\"id\":5,\"credits\":3,\"nameCanonical\":\"\"}],\"id\":1},{\"name\":\"Term 2\",\"curriculum_items\":[{\"curriculum_requisites\":[{\"source_id\":3,\"target_id\":6,\"type\":\"CurriculumPrerequisite\"}],\"name\":\" \",\"metrics\":{\"centrality\":5,\"complexity\":8.0,\"blocking factor\":3,\"delay factor\":5.0},\"nameSub\":\"33-141\",\"id\":6,\"credits\":3,\"nameCanonical\":\"\"},{\"curriculum_requisites\":[{\"source_id\":3,\"target_id\":7,\"type\":\"CurriculumPrerequisite\"}],\"name\":\" \",\"metrics\":{\"centrality\":13,\"complexity\":10.0,\"blocking factor\":5,\"delay factor\":5.0},\"nameSub\":\"21-122\",\"id\":7,\"credits\":3,\"nameCanonical\":\"\"},{\"curriculum_requisites\":[],\"name\":\" \",\"metrics\":{\"centrality\":0,\"complexity\":1.0,\"blocking factor\":0,\"delay factor\":1.0},\"nameSub\":\"Introductory Engineering course\",\"id\":8,\"credits\":3,\"nameCanonical\":\"\"},{\"curriculum_requisites\":[],\"name\":\" \",\"metrics\":{\"centrality\":0,\"complexity\":1.0,\"blocking factor\":0,\"delay factor\":1.0},\"nameSub\":\"General Education course\",\"id\":9,\"credits\":3,\"nameCanonical\":\"\"}],\"id\":2},{\"name\":\"Term 3\",\"curriculum_items\":[{\"curriculum_requisites\":[{\"source_id\":1,\"target_id\":10,\"type\":\"CurriculumPrerequisite\"}],\"name\":\" \",\"metrics\":{\"centrality\":0,\"complexity\":2.0,\"blocking factor\":0,\"delay factor\":2.0},\"nameSub\":\"18-200\",\"id\":10,\"credits\":3,\"nameCanonical\":\"\"},{\"curriculum_requisites\":[{\"source_id\":7,\"target_id\":11,\"type\":\"CurriculumPrerequisite\"}],\"name\":\" \",\"metrics\":{\"centrality\":10,\"complexity\":8.0,\"blocking factor\":3,\"delay factor\":5.0},\"nameSub\":\"18-202\",\"id\":11,\"credits\":3,\"nameCanonical\":\"\"},{\"curriculum_requisites\":[{\"source_id\":6,\"target_id\":12,\"type\":\"CurriculumPrerequisite\"}],\"name\":\" \",\"metrics\":{\"centrality\":5,\"complexity\":7.0,\"blocking factor\":2,\"delay factor\":5.0},\"nameSub\":\"33-142\",\"id\":12,\"credits\":3,\"nameCanonical\":\"\"},{\"curriculum_requisites\":[],\"name\":\" \",\"metrics\":{\"centrality\":0,\"complexity\":5.0,\"blocking factor\":2,\"delay factor\":3.0},\"nameSub\":\"39-210\",\"id\":13,\"credits\":3,\"nameCanonical\":\"\"},{\"curriculum_requisites\":[{\"source_id\":11,\"target_id\":14,\"type\":\"CurriculumCorequisite\"},{\"source_id\":12,\"target_id\":14,\"type\":\"CurriculumCorequisite\"},{\"source_id\":1,\"target_id\":14,\"type\":\"CurriculumPrerequisite\"}],\"name\":\" \",\"metrics\":{\"centrality\":13,\"complexity\":6.0,\"blocking factor\":1,\"delay factor\":5.0},\"nameSub\":\"18-220\",\"id\":14,\"credits\":3,\"nameCanonical\":\"\"},{\"curriculum_requisites\":[],\"name\":\" \",\"metrics\":{\"centrality\":0,\"complexity\":1.0,\"blocking factor\":0,\"delay factor\":1.0},\"nameSub\":\"General Education course\",\"id\":15,\"credits\":3,\"nameCanonical\":\"\"}],\"id\":3},{\"name\":\"Term 4\",\"curriculum_items\":[{\"curriculum_requisites\":[],\"name\":\" \",\"metrics\":{\"centrality\":0,\"complexity\":5.0,\"blocking factor\":2,\"delay factor\":3.0},\"nameSub\":\"21-127\",\"id\":16,\"credits\":3,\"nameCanonical\":\"\"},{\"curriculum_requisites\":[{\"source_id\":2,\"target_id\":17,\"type\":\"CurriculumPrerequisite\"}],\"name\":\" \",\"metrics\":{\"centrality\":4,\"complexity\":6.0,\"blocking factor\":2,\"delay factor\":4.0},\"nameSub\":\"15-122\",\"id\":17,\"credits\":3,\"nameCanonical\":\"\"},{\"curriculum_requisites\":[{\"source_id\":7,\"target_id\":18,\"type\":\"CurriculumPrerequisite\"}],\"name\":\" \",\"metrics\":{\"centrality\":0,\"complexity\":3.0,\"blocking factor\":0,\"delay factor\":3.0},\"nameSub\":\"36-217\",\"id\":18,\"credits\":3,\"nameCanonical\":\"\"},{\"curriculum_requisites\":[{\"source_id\":13,\"target_id\":19,\"type\":\"CurriculumPrerequisite\"}],\"name\":\" \",\"metrics\":{\"centrality\":3,\"complexity\":4.0,\"blocking factor\":1,\"delay factor\":3.0},\"nameSub\":\"39-220\",\"id\":19,\"credits\":3,\"nameCanonical\":\"\"},{\"curriculum_requisites\":[],\"name\":\" \",\"metrics\":{\"centrality\":0,\"complexity\":1.0,\"blocking factor\":0,\"delay factor\":1.0},\"nameSub\":\"General Education course\",\"id\":20,\"credits\":3,\"nameCanonical\":\"\"},{\"curriculum_requisites\":[{\"source_id\":11,\"target_id\":21,\"type\":\"CurriculumCorequisite\"},{\"source_id\":1,\"target_id\":21,\"type\":\"CurriculumPrerequisite\"}],\"name\":\" \",\"metrics\":{\"centrality\":8,\"complexity\":6.0,\"blocking factor\":1,\"delay factor\":5.0},\"nameSub\":\"18-290\",\"id\":21,\"credits\":3,\"nameCanonical\":\"\"}],\"id\":4},{\"name\":\"Term 5\",\"curriculum_items\":[{\"curriculum_requisites\":[{\"source_id\":19,\"target_id\":22,\"type\":\"CurriculumPrerequisite\"}],\"name\":\" \",\"metrics\":{\"centrality\":0,\"complexity\":3.0,\"blocking factor\":0,\"delay factor\":3.0},\"nameSub\":\"39-310\",\"id\":22,\"credits\":3,\"nameCanonical\":\"\"},{\"curriculum_requisites\":[],\"name\":\" \",\"metrics\":{\"centrality\":0,\"complexity\":1.0,\"blocking factor\":0,\"delay factor\":1.0},\"nameSub\":\"18-3xx\\/4xx ECE Area 1 course\",\"id\":23,\"credits\":3,\"nameCanonical\":\"\"},{\"curriculum_requisites\":[{\"source_id\":16,\"target_id\":24,\"type\":\"CurriculumCorequisite\"},{\"source_id\":1,\"target_id\":24,\"type\":\"CurriculumPrerequisite\"}],\"name\":\" \",\"metrics\":{\"centrality\":6,\"complexity\":4.0,\"blocking factor\":1,\"delay factor\":3.0},\"nameSub\":\"18-240\",\"id\":24,\"credits\":3,\"nameCanonical\":\"\"},{\"curriculum_requisites\":[],\"name\":\" \",\"metrics\":{\"centrality\":0,\"complexity\":1.0,\"blocking factor\":0,\"delay factor\":1.0},\"nameSub\":\"Free Elective\",\"id\":25,\"credits\":3,\"nameCanonical\":\"\"},{\"curriculum_requisites\":[],\"name\":\" \",\"metrics\":{\"centrality\":0,\"complexity\":1.0,\"blocking factor\":0,\"delay factor\":1.0},\"nameSub\":\"General Education course\",\"id\":26,\"credits\":3,\"nameCanonical\":\"\"},{\"curriculum_requisites\":[],\"name\":\" \",\"metrics\":{\"centrality\":0,\"complexity\":1.0,\"blocking factor\":0,\"delay factor\":1.0},\"nameSub\":\"Math\\/Science elective 1\",\"id\":27,\"credits\":3,\"nameCanonical\":\"\"}],\"id\":5},{\"name\":\"Term 6\",\"curriculum_items\":[{\"curriculum_requisites\":[{\"source_id\":17,\"target_id\":28,\"type\":\"CurriculumPrerequisite\"}],\"name\":\" \",\"metrics\":{\"centrality\":4,\"complexity\":5.0,\"blocking factor\":1,\"delay factor\":4.0},\"nameSub\":\"18-213\",\"id\":28,\"credits\":3,\"nameCanonical\":\"\"},{\"curriculum_requisites\":[],\"name\":\" \",\"metrics\":{\"centrality\":0,\"complexity\":3.0,\"blocking factor\":1,\"delay factor\":2.0},\"nameSub\":\"18-xxx Area course 1\",\"id\":29,\"credits\":3,\"nameCanonical\":\"\"},{\"curriculum_requisites\":[],\"name\":\" \",\"metrics\":{\"centrality\":0,\"complexity\":1.0,\"blocking factor\":0,\"delay factor\":1.0},\"nameSub\":\"Free Elective\",\"id\":30,\"credits\":3,\"nameCanonical\":\"\"},{\"curriculum_requisites\":[],\"name\":\" \",\"metrics\":{\"centrality\":0,\"complexity\":1.0,\"blocking factor\":0,\"delay factor\":1.0},\"nameSub\":\"General Education course\",\"id\":31,\"credits\":3,\"nameCanonical\":\"\"},{\"curriculum_requisites\":[],\"name\":\" \",\"metrics\":{\"centrality\":0,\"complexity\":1.0,\"blocking factor\":0,\"delay factor\":1.0},\"nameSub\":\"Math\\/Science Elective 2\",\"id\":32,\"credits\":3,\"nameCanonical\":\"\"}],\"id\":6},{\"name\":\"Term 7\",\"curriculum_items\":[{\"curriculum_requisites\":[],\"name\":\" \",\"metrics\":{\"centrality\":0,\"complexity\":1.0,\"blocking factor\":0,\"delay factor\":1.0},\"nameSub\":\"18-xxx ECE Coverage course\",\"id\":33,\"credits\":3,\"nameCanonical\":\"\"},{\"curriculum_requisites\":[],\"name\":\" \",\"metrics\":{\"centrality\":0,\"complexity\":3.0,\"blocking factor\":1,\"delay factor\":2.0},\"nameSub\":\"18-xxx Area course 2\",\"id\":34,\"credits\":3,\"nameCanonical\":\"\"},{\"curriculum_requisites\":[],\"name\":\" \",\"metrics\":{\"centrality\":0,\"complexity\":1.0,\"blocking factor\":0,\"delay factor\":1.0},\"nameSub\":\"Free Elective\",\"id\":35,\"credits\":3,\"nameCanonical\":\"\"},{\"curriculum_requisites\":[],\"name\":\" \",\"metrics\":{\"centrality\":0,\"complexity\":1.0,\"blocking factor\":0,\"delay factor\":1.0},\"nameSub\":\"Free Elective\",\"id\":36,\"credits\":3,\"nameCanonical\":\"\"},{\"curriculum_requisites\":[],\"name\":\" \",\"metrics\":{\"centrality\":0,\"complexity\":1.0,\"blocking factor\":0,\"delay factor\":1.0},\"nameSub\":\"General Education course\",\"id\":37,\"credits\":3,\"nameCanonical\":\"\"}],\"id\":7},{\"name\":\"Term 8\",\"curriculum_items\":[{\"curriculum_requisites\":[{\"source_id\":14,\"target_id\":38,\"type\":\"CurriculumPrerequisite\"},{\"source_id\":34,\"target_id\":38,\"type\":\"CurriculumPrerequisite\"},{\"source_id\":29,\"target_id\":38,\"type\":\"CurriculumPrerequisite\"},{\"source_id\":28,\"target_id\":38,\"type\":\"CurriculumPrerequisite\"},{\"source_id\":21,\"target_id\":38,\"type\":\"CurriculumPrerequisite\"},{\"source_id\":24,\"target_id\":38,\"type\":\"CurriculumPrerequisite\"}],\"name\":\" \",\"metrics\":{\"centrality\":0,\"complexity\":5.0,\"blocking factor\":0,\"delay factor\":5.0},\"nameSub\":\"18-500\",\"id\":38,\"credits\":3,\"nameCanonical\":\"\"},{\"curriculum_requisites\":[],\"name\":\" \",\"metrics\":{\"centrality\":0,\"complexity\":1.0,\"blocking factor\":0,\"delay factor\":1.0},\"nameSub\":\"Free Elective\",\"id\":39,\"credits\":3,\"nameCanonical\":\"\"},{\"curriculum_requisites\":[],\"name\":\" \",\"metrics\":{\"centrality\":0,\"complexity\":1.0,\"blocking factor\":0,\"delay factor\":1.0},\"nameSub\":\"Free Elective\",\"id\":40,\"credits\":3,\"nameCanonical\":\"\"},{\"curriculum_requisites\":[],\"name\":\" \",\"metrics\":{\"centrality\":0,\"complexity\":1.0,\"blocking factor\":0,\"delay factor\":1.0},\"nameSub\":\"Free Elective\",\"id\":41,\"credits\":3,\"nameCanonical\":\"\"},{\"curriculum_requisites\":[],\"name\":\" \",\"metrics\":{\"centrality\":0,\"complexity\":1.0,\"blocking factor\":0,\"delay factor\":1.0},\"nameSub\":\"General Education course\",\"id\":42,\"credits\":3,\"nameCanonical\":\"\"}],\"id\":8}],\"institution\":\"\"}}}}},\"children\":[{\"props\":{\"src\":\"http:\\/\\/localhost:8156\",\"id\":\"curriculum\",\"events\":{\"load\":\"(function (){this.contentWindow.postMessage({\\\"options\\\":{\\\"hideTerms\\\":false,\\\"edit\\\":false},\\\"curriculum\\\":{\\\"name\\\":\\\"Curriculum\\\",\\\"dp_name\\\":\\\"Carnegie Mellon University.csv\\\",\\\"curriculum_terms\\\":[{\\\"name\\\":\\\"Term 1\\\",\\\"curriculum_items\\\":[{\\\"curriculum_requisites\\\":[],\\\"name\\\":\\\" \\\",\\\"metrics\\\":{\\\"centrality\\\":0,\\\"complexity\\\":8.0,\\\"blocking factor\\\":5,\\\"delay factor\\\":3.0},\\\"nameSub\\\":\\\"18-100\\\",\\\"id\\\":1,\\\"credits\\\":3,\\\"nameCanonical\\\":\\\"\\\"},{\\\"curriculum_requisites\\\":[],\\\"name\\\":\\\" \\\",\\\"metrics\\\":{\\\"centrality\\\":0,\\\"complexity\\\":7.0,\\\"blocking factor\\\":3,\\\"delay factor\\\":4.0},\\\"nameSub\\\":\\\"15-112\\\",\\\"id\\\":2,\\\"credits\\\":3,\\\"nameCanonical\\\":\\\"\\\"},{\\\"curriculum_requisites\\\":[],\\\"name\\\":\\\" \\\",\\\"metrics\\\":{\\\"centrality\\\":0,\\\"complexity\\\":13.0,\\\"blocking factor\\\":8,\\\"delay factor\\\":5.0},\\\"nameSub\\\":\\\"21-120\\\",\\\"id\\\":3,\\\"credits\\\":3,\\\"nameCanonical\\\":\\\"\\\"},{\\\"curriculum_requisites\\\":[],\\\"name\\\":\\\" \\\",\\\"metrics\\\":{\\\"centrality\\\":0,\\\"complexity\\\":1.0,\\\"blocking factor\\\":0,\\\"delay factor\\\":1.0},\\\"nameSub\\\":\\\"76-101\\\",\\\"id\\\":4,\\\"credits\\\":3,\\\"nameCanonical\\\":\\\"\\\"},{\\\"curriculum_requisites\\\":[],\\\"name\\\":\\\" \\\",\\\"metrics\\\":{\\\"centrality\\\":0,\\\"complexity\\\":1.0,\\\"blocking factor\\\":0,\\\"delay factor\\\":1.0},\\\"nameSub\\\":\\\"99-101\\\",\\\"id\\\":5,\\\"credits\\\":3,\\\"nameCanonical\\\":\\\"\\\"}],\\\"id\\\":1},{\\\"name\\\":\\\"Term 2\\\",\\\"curriculum_items\\\":[{\\\"curriculum_requisites\\\":[{\\\"source_id\\\":3,\\\"target_id\\\":6,\\\"type\\\":\\\"CurriculumPrerequisite\\\"}],\\\"name\\\":\\\" \\\",\\\"metrics\\\":{\\\"centrality\\\":5,\\\"complexity\\\":8.0,\\\"blocking factor\\\":3,\\\"delay factor\\\":5.0},\\\"nameSub\\\":\\\"33-141\\\",\\\"id\\\":6,\\\"credits\\\":3,\\\"nameCanonical\\\":\\\"\\\"},{\\\"curriculum_requisites\\\":[{\\\"source_id\\\":3,\\\"target_id\\\":7,\\\"type\\\":\\\"CurriculumPrerequisite\\\"}],\\\"name\\\":\\\" \\\",\\\"metrics\\\":{\\\"centrality\\\":13,\\\"complexity\\\":10.0,\\\"blocking factor\\\":5,\\\"delay factor\\\":5.0},\\\"nameSub\\\":\\\"21-122\\\",\\\"id\\\":7,\\\"credits\\\":3,\\\"nameCanonical\\\":\\\"\\\"},{\\\"curriculum_requisites\\\":[],\\\"name\\\":\\\" \\\",\\\"metrics\\\":{\\\"centrality\\\":0,\\\"complexity\\\":1.0,\\\"blocking factor\\\":0,\\\"delay factor\\\":1.0},\\\"nameSub\\\":\\\"Introductory Engineering course\\\",\\\"id\\\":8,\\\"credits\\\":3,\\\"nameCanonical\\\":\\\"\\\"},{\\\"curriculum_requisites\\\":[],\\\"name\\\":\\\" \\\",\\\"metrics\\\":{\\\"centrality\\\":0,\\\"complexity\\\":1.0,\\\"blocking factor\\\":0,\\\"delay factor\\\":1.0},\\\"nameSub\\\":\\\"General Education course\\\",\\\"id\\\":9,\\\"credits\\\":3,\\\"nameCanonical\\\":\\\"\\\"}],\\\"id\\\":2},{\\\"name\\\":\\\"Term 3\\\",\\\"curriculum_items\\\":[{\\\"curriculum_requisites\\\":[{\\\"source_id\\\":1,\\\"target_id\\\":10,\\\"type\\\":\\\"CurriculumPrerequisite\\\"}],\\\"name\\\":\\\" \\\",\\\"metrics\\\":{\\\"centrality\\\":0,\\\"complexity\\\":2.0,\\\"blocking factor\\\":0,\\\"delay factor\\\":2.0},\\\"nameSub\\\":\\\"18-200\\\",\\\"id\\\":10,\\\"credits\\\":3,\\\"nameCanonical\\\":\\\"\\\"},{\\\"curriculum_requisites\\\":[{\\\"source_id\\\":7,\\\"target_id\\\":11,\\\"type\\\":\\\"CurriculumPrerequisite\\\"}],\\\"name\\\":\\\" \\\",\\\"metrics\\\":{\\\"centrality\\\":10,\\\"complexity\\\":8.0,\\\"blocking factor\\\":3,\\\"delay factor\\\":5.0},\\\"nameSub\\\":\\\"18-202\\\",\\\"id\\\":11,\\\"credits\\\":3,\\\"nameCanonical\\\":\\\"\\\"},{\\\"curriculum_requisites\\\":[{\\\"source_id\\\":6,\\\"target_id\\\":12,\\\"type\\\":\\\"CurriculumPrerequisite\\\"}],\\\"name\\\":\\\" \\\",\\\"metrics\\\":{\\\"centrality\\\":5,\\\"complexity\\\":7.0,\\\"blocking factor\\\":2,\\\"delay factor\\\":5.0},\\\"nameSub\\\":\\\"33-142\\\",\\\"id\\\":12,\\\"credits\\\":3,\\\"nameCanonical\\\":\\\"\\\"},{\\\"curriculum_requisites\\\":[],\\\"name\\\":\\\" \\\",\\\"metrics\\\":{\\\"centrality\\\":0,\\\"complexity\\\":5.0,\\\"blocking factor\\\":2,\\\"delay factor\\\":3.0},\\\"nameSub\\\":\\\"39-210\\\",\\\"id\\\":13,\\\"credits\\\":3,\\\"nameCanonical\\\":\\\"\\\"},{\\\"curriculum_requisites\\\":[{\\\"source_id\\\":11,\\\"target_id\\\":14,\\\"type\\\":\\\"CurriculumCorequisite\\\"},{\\\"source_id\\\":12,\\\"target_id\\\":14,\\\"type\\\":\\\"CurriculumCorequisite\\\"},{\\\"source_id\\\":1,\\\"target_id\\\":14,\\\"type\\\":\\\"CurriculumPrerequisite\\\"}],\\\"name\\\":\\\" \\\",\\\"metrics\\\":{\\\"centrality\\\":13,\\\"complexity\\\":6.0,\\\"blocking factor\\\":1,\\\"delay factor\\\":5.0},\\\"nameSub\\\":\\\"18-220\\\",\\\"id\\\":14,\\\"credits\\\":3,\\\"nameCanonical\\\":\\\"\\\"},{\\\"curriculum_requisites\\\":[],\\\"name\\\":\\\" \\\",\\\"metrics\\\":{\\\"centrality\\\":0,\\\"complexity\\\":1.0,\\\"blocking factor\\\":0,\\\"delay factor\\\":1.0},\\\"nameSub\\\":\\\"General Education course\\\",\\\"id\\\":15,\\\"credits\\\":3,\\\"nameCanonical\\\":\\\"\\\"}],\\\"id\\\":3},{\\\"name\\\":\\\"Term 4\\\",\\\"curriculum_items\\\":[{\\\"curriculum_requisites\\\":[],\\\"name\\\":\\\" \\\",\\\"metrics\\\":{\\\"centrality\\\":0,\\\"complexity\\\":5.0,\\\"blocking factor\\\":2,\\\"delay factor\\\":3.0},\\\"nameSub\\\":\\\"21-127\\\",\\\"id\\\":16,\\\"credits\\\":3,\\\"nameCanonical\\\":\\\"\\\"},{\\\"curriculum_requisites\\\":[{\\\"source_id\\\":2,\\\"target_id\\\":17,\\\"type\\\":\\\"CurriculumPrerequisite\\\"}],\\\"name\\\":\\\" \\\",\\\"metrics\\\":{\\\"centrality\\\":4,\\\"complexity\\\":6.0,\\\"blocking factor\\\":2,\\\"delay factor\\\":4.0},\\\"nameSub\\\":\\\"15-122\\\",\\\"id\\\":17,\\\"credits\\\":3,\\\"nameCanonical\\\":\\\"\\\"},{\\\"curriculum_requisites\\\":[{\\\"source_id\\\":7,\\\"target_id\\\":18,\\\"type\\\":\\\"CurriculumPrerequisite\\\"}],\\\"name\\\":\\\" \\\",\\\"metrics\\\":{\\\"centrality\\\":0,\\\"complexity\\\":3.0,\\\"blocking factor\\\":0,\\\"delay factor\\\":3.0},\\\"nameSub\\\":\\\"36-217\\\",\\\"id\\\":18,\\\"credits\\\":3,\\\"nameCanonical\\\":\\\"\\\"},{\\\"curriculum_requisites\\\":[{\\\"source_id\\\":13,\\\"target_id\\\":19,\\\"type\\\":\\\"CurriculumPrerequisite\\\"}],\\\"name\\\":\\\" \\\",\\\"metrics\\\":{\\\"centrality\\\":3,\\\"complexity\\\":4.0,\\\"blocking factor\\\":1,\\\"delay factor\\\":3.0},\\\"nameSub\\\":\\\"39-220\\\",\\\"id\\\":19,\\\"credits\\\":3,\\\"nameCanonical\\\":\\\"\\\"},{\\\"curriculum_requisites\\\":[],\\\"name\\\":\\\" \\\",\\\"metrics\\\":{\\\"centrality\\\":0,\\\"complexity\\\":1.0,\\\"blocking factor\\\":0,\\\"delay factor\\\":1.0},\\\"nameSub\\\":\\\"General Education course\\\",\\\"id\\\":20,\\\"credits\\\":3,\\\"nameCanonical\\\":\\\"\\\"},{\\\"curriculum_requisites\\\":[{\\\"source_id\\\":11,\\\"target_id\\\":21,\\\"type\\\":\\\"CurriculumCorequisite\\\"},{\\\"source_id\\\":1,\\\"target_id\\\":21,\\\"type\\\":\\\"CurriculumPrerequisite\\\"}],\\\"name\\\":\\\" \\\",\\\"metrics\\\":{\\\"centrality\\\":8,\\\"complexity\\\":6.0,\\\"blocking factor\\\":1,\\\"delay factor\\\":5.0},\\\"nameSub\\\":\\\"18-290\\\",\\\"id\\\":21,\\\"credits\\\":3,\\\"nameCanonical\\\":\\\"\\\"}],\\\"id\\\":4},{\\\"name\\\":\\\"Term 5\\\",\\\"curriculum_items\\\":[{\\\"curriculum_requisites\\\":[{\\\"source_id\\\":19,\\\"target_id\\\":22,\\\"type\\\":\\\"CurriculumPrerequisite\\\"}],\\\"name\\\":\\\" \\\",\\\"metrics\\\":{\\\"centrality\\\":0,\\\"complexity\\\":3.0,\\\"blocking factor\\\":0,\\\"delay factor\\\":3.0},\\\"nameSub\\\":\\\"39-310\\\",\\\"id\\\":22,\\\"credits\\\":3,\\\"nameCanonical\\\":\\\"\\\"},{\\\"curriculum_requisites\\\":[],\\\"name\\\":\\\" \\\",\\\"metrics\\\":{\\\"centrality\\\":0,\\\"complexity\\\":1.0,\\\"blocking factor\\\":0,\\\"delay factor\\\":1.0},\\\"nameSub\\\":\\\"18-3xx\\/4xx ECE Area 1 course\\\",\\\"id\\\":23,\\\"credits\\\":3,\\\"nameCanonical\\\":\\\"\\\"},{\\\"curriculum_requisites\\\":[{\\\"source_id\\\":16,\\\"target_id\\\":24,\\\"type\\\":\\\"CurriculumCorequisite\\\"},{\\\"source_id\\\":1,\\\"target_id\\\":24,\\\"type\\\":\\\"CurriculumPrerequisite\\\"}],\\\"name\\\":\\\" \\\",\\\"metrics\\\":{\\\"centrality\\\":6,\\\"complexity\\\":4.0,\\\"blocking factor\\\":1,\\\"delay factor\\\":3.0},\\\"nameSub\\\":\\\"18-240\\\",\\\"id\\\":24,\\\"credits\\\":3,\\\"nameCanonical\\\":\\\"\\\"},{\\\"curriculum_requisites\\\":[],\\\"name\\\":\\\" \\\",\\\"metrics\\\":{\\\"centrality\\\":0,\\\"complexity\\\":1.0,\\\"blocking factor\\\":0,\\\"delay factor\\\":1.0},\\\"nameSub\\\":\\\"Free Elective\\\",\\\"id\\\":25,\\\"credits\\\":3,\\\"nameCanonical\\\":\\\"\\\"},{\\\"curriculum_requisites\\\":[],\\\"name\\\":\\\" \\\",\\\"metrics\\\":{\\\"centrality\\\":0,\\\"complexity\\\":1.0,\\\"blocking factor\\\":0,\\\"delay factor\\\":1.0},\\\"nameSub\\\":\\\"General Education course\\\",\\\"id\\\":26,\\\"credits\\\":3,\\\"nameCanonical\\\":\\\"\\\"},{\\\"curriculum_requisites\\\":[],\\\"name\\\":\\\" \\\",\\\"metrics\\\":{\\\"centrality\\\":0,\\\"complexity\\\":1.0,\\\"blocking factor\\\":0,\\\"delay factor\\\":1.0},\\\"nameSub\\\":\\\"Math\\/Science elective 1\\\",\\\"id\\\":27,\\\"credits\\\":3,\\\"nameCanonical\\\":\\\"\\\"}],\\\"id\\\":5},{\\\"name\\\":\\\"Term 6\\\",\\\"curriculum_items\\\":[{\\\"curriculum_requisites\\\":[{\\\"source_id\\\":17,\\\"target_id\\\":28,\\\"type\\\":\\\"CurriculumPrerequisite\\\"}],\\\"name\\\":\\\" \\\",\\\"metrics\\\":{\\\"centrality\\\":4,\\\"complexity\\\":5.0,\\\"blocking factor\\\":1,\\\"delay factor\\\":4.0},\\\"nameSub\\\":\\\"18-213\\\",\\\"id\\\":28,\\\"credits\\\":3,\\\"nameCanonical\\\":\\\"\\\"},{\\\"curriculum_requisites\\\":[],\\\"name\\\":\\\" \\\",\\\"metrics\\\":{\\\"centrality\\\":0,\\\"complexity\\\":3.0,\\\"blocking factor\\\":1,\\\"delay factor\\\":2.0},\\\"nameSub\\\":\\\"18-xxx Area course 1\\\",\\\"id\\\":29,\\\"credits\\\":3,\\\"nameCanonical\\\":\\\"\\\"},{\\\"curriculum_requisites\\\":[],\\\"name\\\":\\\" \\\",\\\"metrics\\\":{\\\"centrality\\\":0,\\\"complexity\\\":1.0,\\\"blocking factor\\\":0,\\\"delay factor\\\":1.0},\\\"nameSub\\\":\\\"Free Elective\\\",\\\"id\\\":30,\\\"credits\\\":3,\\\"nameCanonical\\\":\\\"\\\"},{\\\"curriculum_requisites\\\":[],\\\"name\\\":\\\" \\\",\\\"metrics\\\":{\\\"centrality\\\":0,\\\"complexity\\\":1.0,\\\"blocking factor\\\":0,\\\"delay factor\\\":1.0},\\\"nameSub\\\":\\\"General Education course\\\",\\\"id\\\":31,\\\"credits\\\":3,\\\"nameCanonical\\\":\\\"\\\"},{\\\"curriculum_requisites\\\":[],\\\"name\\\":\\\" \\\",\\\"metrics\\\":{\\\"centrality\\\":0,\\\"complexity\\\":1.0,\\\"blocking factor\\\":0,\\\"delay factor\\\":1.0},\\\"nameSub\\\":\\\"Math\\/Science Elective 2\\\",\\\"id\\\":32,\\\"credits\\\":3,\\\"nameCanonical\\\":\\\"\\\"}],\\\"id\\\":6},{\\\"name\\\":\\\"Term 7\\\",\\\"curriculum_items\\\":[{\\\"curriculum_requisites\\\":[],\\\"name\\\":\\\" \\\",\\\"metrics\\\":{\\\"centrality\\\":0,\\\"complexity\\\":1.0,\\\"blocking factor\\\":0,\\\"delay factor\\\":1.0},\\\"nameSub\\\":\\\"18-xxx ECE Coverage course\\\",\\\"id\\\":33,\\\"credits\\\":3,\\\"nameCanonical\\\":\\\"\\\"},{\\\"curriculum_requisites\\\":[],\\\"name\\\":\\\" \\\",\\\"metrics\\\":{\\\"centrality\\\":0,\\\"complexity\\\":3.0,\\\"blocking factor\\\":1,\\\"delay factor\\\":2.0},\\\"nameSub\\\":\\\"18-xxx Area course 2\\\",\\\"id\\\":34,\\\"credits\\\":3,\\\"nameCanonical\\\":\\\"\\\"},{\\\"curriculum_requisites\\\":[],\\\"name\\\":\\\" \\\",\\\"metrics\\\":{\\\"centrality\\\":0,\\\"complexity\\\":1.0,\\\"blocking factor\\\":0,\\\"delay factor\\\":1.0},\\\"nameSub\\\":\\\"Free Elective\\\",\\\"id\\\":35,\\\"credits\\\":3,\\\"nameCanonical\\\":\\\"\\\"},{\\\"curriculum_requisites\\\":[],\\\"name\\\":\\\" \\\",\\\"metrics\\\":{\\\"centrality\\\":0,\\\"complexity\\\":1.0,\\\"blocking factor\\\":0,\\\"delay factor\\\":1.0},\\\"nameSub\\\":\\\"Free Elective\\\",\\\"id\\\":36,\\\"credits\\\":3,\\\"nameCanonical\\\":\\\"\\\"},{\\\"curriculum_requisites\\\":[],\\\"name\\\":\\\" \\\",\\\"metrics\\\":{\\\"centrality\\\":0,\\\"complexity\\\":1.0,\\\"blocking factor\\\":0,\\\"delay factor\\\":1.0},\\\"nameSub\\\":\\\"General Education course\\\",\\\"id\\\":37,\\\"credits\\\":3,\\\"nameCanonical\\\":\\\"\\\"}],\\\"id\\\":7},{\\\"name\\\":\\\"Term 8\\\",\\\"curriculum_items\\\":[{\\\"curriculum_requisites\\\":[{\\\"source_id\\\":14,\\\"target_id\\\":38,\\\"type\\\":\\\"CurriculumPrerequisite\\\"},{\\\"source_id\\\":34,\\\"target_id\\\":38,\\\"type\\\":\\\"CurriculumPrerequisite\\\"},{\\\"source_id\\\":29,\\\"target_id\\\":38,\\\"type\\\":\\\"CurriculumPrerequisite\\\"},{\\\"source_id\\\":28,\\\"target_id\\\":38,\\\"type\\\":\\\"CurriculumPrerequisite\\\"},{\\\"source_id\\\":21,\\\"target_id\\\":38,\\\"type\\\":\\\"CurriculumPrerequisite\\\"},{\\\"source_id\\\":24,\\\"target_id\\\":38,\\\"type\\\":\\\"CurriculumPrerequisite\\\"}],\\\"name\\\":\\\" \\\",\\\"metrics\\\":{\\\"centrality\\\":0,\\\"complexity\\\":5.0,\\\"blocking factor\\\":0,\\\"delay factor\\\":5.0},\\\"nameSub\\\":\\\"18-500\\\",\\\"id\\\":38,\\\"credits\\\":3,\\\"nameCanonical\\\":\\\"\\\"},{\\\"curriculum_requisites\\\":[],\\\"name\\\":\\\" \\\",\\\"metrics\\\":{\\\"centrality\\\":0,\\\"complexity\\\":1.0,\\\"blocking factor\\\":0,\\\"delay factor\\\":1.0},\\\"nameSub\\\":\\\"Free Elective\\\",\\\"id\\\":39,\\\"credits\\\":3,\\\"nameCanonical\\\":\\\"\\\"},{\\\"curriculum_requisites\\\":[],\\\"name\\\":\\\" \\\",\\\"metrics\\\":{\\\"centrality\\\":0,\\\"complexity\\\":1.0,\\\"blocking factor\\\":0,\\\"delay factor\\\":1.0},\\\"nameSub\\\":\\\"Free Elective\\\",\\\"id\\\":40,\\\"credits\\\":3,\\\"nameCanonical\\\":\\\"\\\"},{\\\"curriculum_requisites\\\":[],\\\"name\\\":\\\" \\\",\\\"metrics\\\":{\\\"centrality\\\":0,\\\"complexity\\\":1.0,\\\"blocking factor\\\":0,\\\"delay factor\\\":1.0},\\\"nameSub\\\":\\\"Free Elective\\\",\\\"id\\\":41,\\\"credits\\\":3,\\\"nameCanonical\\\":\\\"\\\"},{\\\"curriculum_requisites\\\":[],\\\"name\\\":\\\" \\\",\\\"metrics\\\":{\\\"centrality\\\":0,\\\"complexity\\\":1.0,\\\"blocking factor\\\":0,\\\"delay factor\\\":1.0},\\\"nameSub\\\":\\\"General Education course\\\",\\\"id\\\":42,\\\"credits\\\":3,\\\"nameCanonical\\\":\\\"\\\"}],\\\"id\\\":8}],\\\"institution\\\":\\\"\\\"}},\\\"*\\\"); window.removeEventListener(\\\"message\\\",window.messageReceived); window.messageReceived=(function (event){return (event.data.curriculum!==undefined) ? (WebIO.setval({\\\"name\\\":\\\"curriculum-data\\\",\\\"scope\\\":\\\"9299454571573952437\\\",\\\"id\\\":\\\"11175979129894111126\\\",\\\"type\\\":\\\"observable\\\"},event.data.curriculum)) : undefined}); return window.addEventListener(\\\"message\\\",window.messageReceived)})\"},\"style\":{\"padding\":\"0\",\"height\":\"100vh\",\"margin\":\"0\",\"border\":\"none\",\"width\":\"100%\"}},\"nodeType\":\"DOM\",\"type\":\"node\",\"instanceArgs\":{\"namespace\":\"html\",\"tag\":\"iframe\"},\"children\":[\"\"]}]},\n",
       "            window,\n",
       "        );\n",
       "    } else {\n",
       "        document\n",
       "            .querySelector('[data-webio-mountpoint=\"2891273667105151332\"]')\n",
       "            .innerHTML = (\n",
       "                '<div style=\"padding: 1em; background-color: #f8d6da; border: 1px solid #f5c6cb\">' +\n",
       "                '<p><strong>WebIO not detected.</strong></p>' +\n",
       "                '<p>Please read ' +\n",
       "                '<a href=\"https://juliagizmos.github.io/WebIO.jl/latest/troubleshooting/not-detected/\" target=\"_blank\">the troubleshooting guide</a> ' +\n",
       "                'for more information on how to resolve this issue.</p>' +\n",
       "                '<p><a href=\"https://juliagizmos.github.io/WebIO.jl/latest/troubleshooting/not-detected/\" target=\"_blank\">https://juliagizmos.github.io/WebIO.jl/latest/troubleshooting/not-detected/</a></p>' +\n",
       "                '</div>'\n",
       "            );\n",
       "    }\n",
       "    </script>\n",
       "</div>\n"
      ],
      "text/plain": [
       "WebIO.Scope(WebIO.Node{WebIO.DOM}(WebIO.DOM(:html, :iframe), Any[\"\"], Dict{Symbol,Any}(:src => \"http://localhost:8156\",:id => \"curriculum\",:events => Dict{Symbol,WebIO.JSString}(:load => WebIO.JSString(\"(function (){this.contentWindow.postMessage({\\\"options\\\":{\\\"hideTerms\\\":false,\\\"edit\\\":false},\\\"curriculum\\\":{\\\"name\\\":\\\"Curriculum\\\",\\\"dp_name\\\":\\\"Carnegie Mellon University.csv\\\",\\\"curriculum_terms\\\":[{\\\"name\\\":\\\"Term 1\\\",\\\"curriculum_items\\\":[{\\\"curriculum_requisites\\\":[],\\\"name\\\":\\\" \\\",\\\"metrics\\\":{\\\"centrality\\\":0,\\\"complexity\\\":8.0,\\\"blocking factor\\\":5,\\\"delay factor\\\":3.0},\\\"nameSub\\\":\\\"18-100\\\",\\\"id\\\":1,\\\"credits\\\":3,\\\"nameCanonical\\\":\\\"\\\"},{\\\"curriculum_requisites\\\":[],\\\"name\\\":\\\" \\\",\\\"metrics\\\":{\\\"centrality\\\":0,\\\"complexity\\\":7.0,\\\"blocking factor\\\":3,\\\"delay factor\\\":4.0},\\\"nameSub\\\":\\\"15-112\\\",\\\"id\\\":2,\\\"credits\\\":3,\\\"nameCanonical\\\":\\\"\\\"},{\\\"curriculum_requisites\\\":[],\\\"name\\\":\\\" \\\",\\\"metrics\\\":{\\\"centrality\\\":0,\\\"complexity\\\":13.0,\\\"blocking factor\\\":8,\\\"delay factor\\\":5.0},\\\"nameSub\\\":\\\"21-120\\\",\\\"id\\\":3,\\\"credits\\\":3,\\\"nameCanonical\\\":\\\"\\\"},{\\\"curriculum_requisites\\\":[],\\\"name\\\":\\\" \\\",\\\"metrics\\\":{\\\"centrality\\\":0,\\\"complexity\\\":1.0,\\\"blocking factor\\\":0,\\\"delay factor\\\":1.0},\\\"nameSub\\\":\\\"76-101\\\",\\\"id\\\":4,\\\"credits\\\":3,\\\"nameCanonical\\\":\\\"\\\"},{\\\"curriculum_requisites\\\":[],\\\"name\\\":\\\" \\\",\\\"metrics\\\":{\\\"centrality\\\":0,\\\"complexity\\\":1.0,\\\"blocking factor\\\":0,\\\"delay factor\\\":1.0},\\\"nameSub\\\":\\\"99-101\\\",\\\"id\\\":5,\\\"credits\\\":3,\\\"nameCanonical\\\":\\\"\\\"}],\\\"id\\\":1},{\\\"name\\\":\\\"Term 2\\\",\\\"curriculum_items\\\":[{\\\"curriculum_requisites\\\":[{\\\"source_id\\\":3,\\\"target_id\\\":6,\\\"type\\\":\\\"CurriculumPrerequisite\\\"}],\\\"name\\\":\\\" \\\",\\\"metrics\\\":{\\\"centrality\\\":5,\\\"complexity\\\":8.0,\\\"blocking factor\\\":3,\\\"delay factor\\\":5.0},\\\"nameSub\\\":\\\"33-141\\\",\\\"id\\\":6,\\\"credits\\\":3,\\\"nameCanonical\\\":\\\"\\\"},{\\\"curriculum_requisites\\\":[{\\\"source_id\\\":3,\\\"target_id\\\":7,\\\"type\\\":\\\"CurriculumPrerequisite\\\"}],\\\"name\\\":\\\" \\\",\\\"metrics\\\":{\\\"centrality\\\":13,\\\"complexity\\\":10.0,\\\"blocking factor\\\":5,\\\"delay factor\\\":5.0},\\\"nameSub\\\":\\\"21-122\\\",\\\"id\\\":7,\\\"credits\\\":3,\\\"nameCanonical\\\":\\\"\\\"},{\\\"curriculum_requisites\\\":[],\\\"name\\\":\\\" \\\",\\\"metrics\\\":{\\\"centrality\\\":0,\\\"complexity\\\":1.0,\\\"blocking factor\\\":0,\\\"delay factor\\\":1.0},\\\"nameSub\\\":\\\"Introductory Engineering course\\\",\\\"id\\\":8,\\\"credits\\\":3,\\\"nameCanonical\\\":\\\"\\\"},{\\\"curriculum_requisites\\\":[],\\\"name\\\":\\\" \\\",\\\"metrics\\\":{\\\"centrality\\\":0,\\\"complexity\\\":1.0,\\\"blocking factor\\\":0,\\\"delay factor\\\":1.0},\\\"nameSub\\\":\\\"General Education course\\\",\\\"id\\\":9,\\\"credits\\\":3,\\\"nameCanonical\\\":\\\"\\\"}],\\\"id\\\":2},{\\\"name\\\":\\\"Term 3\\\",\\\"curriculum_items\\\":[{\\\"curriculum_requisites\\\":[{\\\"source_id\\\":1,\\\"target_id\\\":10,\\\"type\\\":\\\"CurriculumPrerequisite\\\"}],\\\"name\\\":\\\" \\\",\\\"metrics\\\":{\\\"centrality\\\":0,\\\"complexity\\\":2.0,\\\"blocking factor\\\":0,\\\"delay factor\\\":2.0},\\\"nameSub\\\":\\\"18-200\\\",\\\"id\\\":10,\\\"credits\\\":3,\\\"nameCanonical\\\":\\\"\\\"},{\\\"curriculum_requisites\\\":[{\\\"source_id\\\":7,\\\"target_id\\\":11,\\\"type\\\":\\\"CurriculumPrerequisite\\\"}],\\\"name\\\":\\\" \\\",\\\"metrics\\\":{\\\"centrality\\\":10,\\\"complexity\\\":8.0,\\\"blocking factor\\\":3,\\\"delay factor\\\":5.0},\\\"nameSub\\\":\\\"18-202\\\",\\\"id\\\":11,\\\"credits\\\":3,\\\"nameCanonical\\\":\\\"\\\"},{\\\"curriculum_requisites\\\":[{\\\"source_id\\\":6,\\\"target_id\\\":12,\\\"type\\\":\\\"CurriculumPrerequisite\\\"}],\\\"name\\\":\\\" \\\",\\\"metrics\\\":{\\\"centrality\\\":5,\\\"complexity\\\":7.0,\\\"blocking factor\\\":2,\\\"delay factor\\\":5.0},\\\"nameSub\\\":\\\"33-142\\\",\\\"id\\\":12,\\\"credits\\\":3,\\\"nameCanonical\\\":\\\"\\\"},{\\\"curriculum_requisites\\\":[],\\\"name\\\":\\\" \\\",\\\"metrics\\\":{\\\"centrality\\\":0,\\\"complexity\\\":5.0,\\\"blocking factor\\\":2,\\\"delay factor\\\":3.0},\\\"nameSub\\\":\\\"39-210\\\",\\\"id\\\":13,\\\"credits\\\":3,\\\"nameCanonical\\\":\\\"\\\"},{\\\"curriculum_requisites\\\":[{\\\"source_id\\\":11,\\\"target_id\\\":14,\\\"type\\\":\\\"CurriculumCorequisite\\\"},{\\\"source_id\\\":12,\\\"target_id\\\":14,\\\"type\\\":\\\"CurriculumCorequisite\\\"},{\\\"source_id\\\":1,\\\"target_id\\\":14,\\\"type\\\":\\\"CurriculumPrerequisite\\\"}],\\\"name\\\":\\\" \\\",\\\"metrics\\\":{\\\"centrality\\\":13,\\\"complexity\\\":6.0,\\\"blocking factor\\\":1,\\\"delay factor\\\":5.0},\\\"nameSub\\\":\\\"18-220\\\",\\\"id\\\":14,\\\"credits\\\":3,\\\"nameCanonical\\\":\\\"\\\"},{\\\"curriculum_requisites\\\":[],\\\"name\\\":\\\" \\\",\\\"metrics\\\":{\\\"centrality\\\":0,\\\"complexity\\\":1.0,\\\"blocking factor\\\":0,\\\"delay factor\\\":1.0},\\\"nameSub\\\":\\\"General Education course\\\",\\\"id\\\":15,\\\"credits\\\":3,\\\"nameCanonical\\\":\\\"\\\"}],\\\"id\\\":3},{\\\"name\\\":\\\"Term 4\\\",\\\"curriculum_items\\\":[{\\\"curriculum_requisites\\\":[],\\\"name\\\":\\\" \\\",\\\"metrics\\\":{\\\"centrality\\\":0,\\\"complexity\\\":5.0,\\\"blocking factor\\\":2,\\\"delay factor\\\":3.0},\\\"nameSub\\\":\\\"21-127\\\",\\\"id\\\":16,\\\"credits\\\":3,\\\"nameCanonical\\\":\\\"\\\"},{\\\"curriculum_requisites\\\":[{\\\"source_id\\\":2,\\\"target_id\\\":17,\\\"type\\\":\\\"CurriculumPrerequisite\\\"}],\\\"name\\\":\\\" \\\",\\\"metrics\\\":{\\\"centrality\\\":4,\\\"complexity\\\":6.0,\\\"blocking factor\\\":2,\\\"delay factor\\\":4.0},\\\"nameSub\\\":\\\"15-122\\\",\\\"id\\\":17,\\\"credits\\\":3,\\\"nameCanonical\\\":\\\"\\\"},{\\\"curriculum_requisites\\\":[{\\\"source_id\\\":7,\\\"target_id\\\":18,\\\"type\\\":\\\"CurriculumPrerequisite\\\"}],\\\"name\\\":\\\" \\\",\\\"metrics\\\":{\\\"centrality\\\":0,\\\"complexity\\\":3.0,\\\"blocking factor\\\":0,\\\"delay factor\\\":3.0},\\\"nameSub\\\":\\\"36-217\\\",\\\"id\\\":18,\\\"credits\\\":3,\\\"nameCanonical\\\":\\\"\\\"},{\\\"curriculum_requisites\\\":[{\\\"source_id\\\":13,\\\"target_id\\\":19,\\\"type\\\":\\\"CurriculumPrerequisite\\\"}],\\\"name\\\":\\\" \\\",\\\"metrics\\\":{\\\"centrality\\\":3,\\\"complexity\\\":4.0,\\\"blocking factor\\\":1,\\\"delay factor\\\":3.0},\\\"nameSub\\\":\\\"39-220\\\",\\\"id\\\":19,\\\"credits\\\":3,\\\"nameCanonical\\\":\\\"\\\"},{\\\"curriculum_requisites\\\":[],\\\"name\\\":\\\" \\\",\\\"metrics\\\":{\\\"centrality\\\":0,\\\"complexity\\\":1.0,\\\"blocking factor\\\":0,\\\"delay factor\\\":1.0},\\\"nameSub\\\":\\\"General Education course\\\",\\\"id\\\":20,\\\"credits\\\":3,\\\"nameCanonical\\\":\\\"\\\"},{\\\"curriculum_requisites\\\":[{\\\"source_id\\\":11,\\\"target_id\\\":21,\\\"type\\\":\\\"CurriculumCorequisite\\\"},{\\\"source_id\\\":1,\\\"target_id\\\":21,\\\"type\\\":\\\"CurriculumPrerequisite\\\"}],\\\"name\\\":\\\" \\\",\\\"metrics\\\":{\\\"centrality\\\":8,\\\"complexity\\\":6.0,\\\"blocking factor\\\":1,\\\"delay factor\\\":5.0},\\\"nameSub\\\":\\\"18-290\\\",\\\"id\\\":21,\\\"credits\\\":3,\\\"nameCanonical\\\":\\\"\\\"}],\\\"id\\\":4},{\\\"name\\\":\\\"Term 5\\\",\\\"curriculum_items\\\":[{\\\"curriculum_requisites\\\":[{\\\"source_id\\\":19,\\\"target_id\\\":22,\\\"type\\\":\\\"CurriculumPrerequisite\\\"}],\\\"name\\\":\\\" \\\",\\\"metrics\\\":{\\\"centrality\\\":0,\\\"complexity\\\":3.0,\\\"blocking factor\\\":0,\\\"delay factor\\\":3.0},\\\"nameSub\\\":\\\"39-310\\\",\\\"id\\\":22,\\\"credits\\\":3,\\\"nameCanonical\\\":\\\"\\\"},{\\\"curriculum_requisites\\\":[],\\\"name\\\":\\\" \\\",\\\"metrics\\\":{\\\"centrality\\\":0,\\\"complexity\\\":1.0,\\\"blocking factor\\\":0,\\\"delay factor\\\":1.0},\\\"nameSub\\\":\\\"18-3xx/4xx ECE Area 1 course\\\",\\\"id\\\":23,\\\"credits\\\":3,\\\"nameCanonical\\\":\\\"\\\"},{\\\"curriculum_requisites\\\":[{\\\"source_id\\\":16,\\\"target_id\\\":24,\\\"type\\\":\\\"CurriculumCorequisite\\\"},{\\\"source_id\\\":1,\\\"target_id\\\":24,\\\"type\\\":\\\"CurriculumPrerequisite\\\"}],\\\"name\\\":\\\" \\\",\\\"metrics\\\":{\\\"centrality\\\":6,\\\"complexity\\\":4.0,\\\"blocking factor\\\":1,\\\"delay factor\\\":3.0},\\\"nameSub\\\":\\\"18-240\\\",\\\"id\\\":24,\\\"credits\\\":3,\\\"nameCanonical\\\":\\\"\\\"},{\\\"curriculum_requisites\\\":[],\\\"name\\\":\\\" \\\",\\\"metrics\\\":{\\\"centrality\\\":0,\\\"complexity\\\":1.0,\\\"blocking factor\\\":0,\\\"delay factor\\\":1.0},\\\"nameSub\\\":\\\"Free Elective\\\",\\\"id\\\":25,\\\"credits\\\":3,\\\"nameCanonical\\\":\\\"\\\"},{\\\"curriculum_requisites\\\":[],\\\"name\\\":\\\" \\\",\\\"metrics\\\":{\\\"centrality\\\":0,\\\"complexity\\\":1.0,\\\"blocking factor\\\":0,\\\"delay factor\\\":1.0},\\\"nameSub\\\":\\\"General Education course\\\",\\\"id\\\":26,\\\"credits\\\":3,\\\"nameCanonical\\\":\\\"\\\"},{\\\"curriculum_requisites\\\":[],\\\"name\\\":\\\" \\\",\\\"metrics\\\":{\\\"centrality\\\":0,\\\"complexity\\\":1.0,\\\"blocking factor\\\":0,\\\"delay factor\\\":1.0},\\\"nameSub\\\":\\\"Math/Science elective 1\\\",\\\"id\\\":27,\\\"credits\\\":3,\\\"nameCanonical\\\":\\\"\\\"}],\\\"id\\\":5},{\\\"name\\\":\\\"Term 6\\\",\\\"curriculum_items\\\":[{\\\"curriculum_requisites\\\":[{\\\"source_id\\\":17,\\\"target_id\\\":28,\\\"type\\\":\\\"CurriculumPrerequisite\\\"}],\\\"name\\\":\\\" \\\",\\\"metrics\\\":{\\\"centrality\\\":4,\\\"complexity\\\":5.0,\\\"blocking factor\\\":1,\\\"delay factor\\\":4.0},\\\"nameSub\\\":\\\"18-213\\\",\\\"id\\\":28,\\\"credits\\\":3,\\\"nameCanonical\\\":\\\"\\\"},{\\\"curriculum_requisites\\\":[],\\\"name\\\":\\\" \\\",\\\"metrics\\\":{\\\"centrality\\\":0,\\\"complexity\\\":3.0,\\\"blocking factor\\\":1,\\\"delay factor\\\":2.0},\\\"nameSub\\\":\\\"18-xxx Area course 1\\\",\\\"id\\\":29,\\\"credits\\\":3,\\\"nameCanonical\\\":\\\"\\\"},{\\\"curriculum_requisites\\\":[],\\\"name\\\":\\\" \\\",\\\"metrics\\\":{\\\"centrality\\\":0,\\\"complexity\\\":1.0,\\\"blocking factor\\\":0,\\\"delay factor\\\":1.0},\\\"nameSub\\\":\\\"Free Elective\\\",\\\"id\\\":30,\\\"credits\\\":3,\\\"nameCanonical\\\":\\\"\\\"},{\\\"curriculum_requisites\\\":[],\\\"name\\\":\\\" \\\",\\\"metrics\\\":{\\\"centrality\\\":0,\\\"complexity\\\":1.0,\\\"blocking factor\\\":0,\\\"delay factor\\\":1.0},\\\"nameSub\\\":\\\"General Education course\\\",\\\"id\\\":31,\\\"credits\\\":3,\\\"nameCanonical\\\":\\\"\\\"},{\\\"curriculum_requisites\\\":[],\\\"name\\\":\\\" \\\",\\\"metrics\\\":{\\\"centrality\\\":0,\\\"complexity\\\":1.0,\\\"blocking factor\\\":0,\\\"delay factor\\\":1.0},\\\"nameSub\\\":\\\"Math/Science Elective 2\\\",\\\"id\\\":32,\\\"credits\\\":3,\\\"nameCanonical\\\":\\\"\\\"}],\\\"id\\\":6},{\\\"name\\\":\\\"Term 7\\\",\\\"curriculum_items\\\":[{\\\"curriculum_requisites\\\":[],\\\"name\\\":\\\" \\\",\\\"metrics\\\":{\\\"centrality\\\":0,\\\"complexity\\\":1.0,\\\"blocking factor\\\":0,\\\"delay factor\\\":1.0},\\\"nameSub\\\":\\\"18-xxx ECE Coverage course\\\",\\\"id\\\":33,\\\"credits\\\":3,\\\"nameCanonical\\\":\\\"\\\"},{\\\"curriculum_requisites\\\":[],\\\"name\\\":\\\" \\\",\\\"metrics\\\":{\\\"centrality\\\":0,\\\"complexity\\\":3.0,\\\"blocking factor\\\":1,\\\"delay factor\\\":2.0},\\\"nameSub\\\":\\\"18-xxx Area course 2\\\",\\\"id\\\":34,\\\"credits\\\":3,\\\"nameCanonical\\\":\\\"\\\"},{\\\"curriculum_requisites\\\":[],\\\"name\\\":\\\" \\\",\\\"metrics\\\":{\\\"centrality\\\":0,\\\"complexity\\\":1.0,\\\"blocking factor\\\":0,\\\"delay factor\\\":1.0},\\\"nameSub\\\":\\\"Free Elective\\\",\\\"id\\\":35,\\\"credits\\\":3,\\\"nameCanonical\\\":\\\"\\\"},{\\\"curriculum_requisites\\\":[],\\\"name\\\":\\\" \\\",\\\"metrics\\\":{\\\"centrality\\\":0,\\\"complexity\\\":1.0,\\\"blocking factor\\\":0,\\\"delay factor\\\":1.0},\\\"nameSub\\\":\\\"Free Elective\\\",\\\"id\\\":36,\\\"credits\\\":3,\\\"nameCanonical\\\":\\\"\\\"},{\\\"curriculum_requisites\\\":[],\\\"name\\\":\\\" \\\",\\\"metrics\\\":{\\\"centrality\\\":0,\\\"complexity\\\":1.0,\\\"blocking factor\\\":0,\\\"delay factor\\\":1.0},\\\"nameSub\\\":\\\"General Education course\\\",\\\"id\\\":37,\\\"credits\\\":3,\\\"nameCanonical\\\":\\\"\\\"}],\\\"id\\\":7},{\\\"name\\\":\\\"Term 8\\\",\\\"curriculum_items\\\":[{\\\"curriculum_requisites\\\":[{\\\"source_id\\\":14,\\\"target_id\\\":38,\\\"type\\\":\\\"CurriculumPrerequisite\\\"},{\\\"source_id\\\":34,\\\"target_id\\\":38,\\\"type\\\":\\\"CurriculumPrerequisite\\\"},{\\\"source_id\\\":29,\\\"target_id\\\":38,\\\"type\\\":\\\"CurriculumPrerequisite\\\"},{\\\"source_id\\\":28,\\\"target_id\\\":38,\\\"type\\\":\\\"CurriculumPrerequisite\\\"},{\\\"source_id\\\":21,\\\"target_id\\\":38,\\\"type\\\":\\\"CurriculumPrerequisite\\\"},{\\\"source_id\\\":24,\\\"target_id\\\":38,\\\"type\\\":\\\"CurriculumPrerequisite\\\"}],\\\"name\\\":\\\" \\\",\\\"metrics\\\":{\\\"centrality\\\":0,\\\"complexity\\\":5.0,\\\"blocking factor\\\":0,\\\"delay factor\\\":5.0},\\\"nameSub\\\":\\\"18-500\\\",\\\"id\\\":38,\\\"credits\\\":3,\\\"nameCanonical\\\":\\\"\\\"},{\\\"curriculum_requisites\\\":[],\\\"name\\\":\\\" \\\",\\\"metrics\\\":{\\\"centrality\\\":0,\\\"complexity\\\":1.0,\\\"blocking factor\\\":0,\\\"delay factor\\\":1.0},\\\"nameSub\\\":\\\"Free Elective\\\",\\\"id\\\":39,\\\"credits\\\":3,\\\"nameCanonical\\\":\\\"\\\"},{\\\"curriculum_requisites\\\":[],\\\"name\\\":\\\" \\\",\\\"metrics\\\":{\\\"centrality\\\":0,\\\"complexity\\\":1.0,\\\"blocking factor\\\":0,\\\"delay factor\\\":1.0},\\\"nameSub\\\":\\\"Free Elective\\\",\\\"id\\\":40,\\\"credits\\\":3,\\\"nameCanonical\\\":\\\"\\\"},{\\\"curriculum_requisites\\\":[],\\\"name\\\":\\\" \\\",\\\"metrics\\\":{\\\"centrality\\\":0,\\\"complexity\\\":1.0,\\\"blocking factor\\\":0,\\\"delay factor\\\":1.0},\\\"nameSub\\\":\\\"Free Elective\\\",\\\"id\\\":41,\\\"credits\\\":3,\\\"nameCanonical\\\":\\\"\\\"},{\\\"curriculum_requisites\\\":[],\\\"name\\\":\\\" \\\",\\\"metrics\\\":{\\\"centrality\\\":0,\\\"complexity\\\":1.0,\\\"blocking factor\\\":0,\\\"delay factor\\\":1.0},\\\"nameSub\\\":\\\"General Education course\\\",\\\"id\\\":42,\\\"credits\\\":3,\\\"nameCanonical\\\":\\\"\\\"}],\\\"id\\\":8}],\\\"institution\\\":\\\"\\\"}},\\\"*\\\"); window.removeEventListener(\\\"message\\\",window.messageReceived); window.messageReceived=(function (event){return (event.data.curriculum!==undefined) ? (WebIO.setval({\\\"name\\\":\\\"curriculum-data\\\",\\\"scope\\\":\\\"9299454571573952437\\\",\\\"id\\\":\\\"11175979129894111126\\\",\\\"type\\\":\\\"observable\\\"},event.data.curriculum)) : undefined}); return window.addEventListener(\\\"message\\\",window.messageReceived)})\")),:style => Dict(:padding => \"0\",:height => \"100vh\",:margin => \"0\",:border => \"none\",:width => \"100%\"))), Dict{String,Tuple{Observables.AbstractObservable,Union{Nothing, Bool}}}(\"curriculum-data\" => (Observable{Dict{String,Any}} with 1 listeners. Value:\n",
       "Dict{String,Any}(\"options\" => Dict{String,Any}(\"hideTerms\" => false,\"edit\" => false),\"curriculum\" => Dict{String,Any}(\"name\" => \"Curriculum\",\"dp_name\" => \"Carnegie Mellon University.csv\",\"curriculum_terms\" => Dict{String,Any}[Dict(\"name\" => \"Term 1\",\"curriculum_items\" => Dict{String,Any}[Dict(\"curriculum_requisites\" => Dict{String,Any}[],\"name\" => \" \",\"metrics\" => Dict{String,Any}(\"centrality\" => 0,\"complexity\" => 8.0,\"blocking factor\" => 5,\"delay factor\" => 3.0),\"nameSub\" => \"18-100\",\"id\" => 1,\"credits\" => 3,\"nameCanonical\" => \"\"), Dict(\"curriculum_requisites\" => Dict{String,Any}[],\"name\" => \" \",\"metrics\" => Dict{String,Any}(\"centrality\" => 0,\"complexity\" => 7.0,\"blocking factor\" => 3,\"delay factor\" => 4.0),\"nameSub\" => \"15-112\",\"id\" => 2,\"credits\" => 3,\"nameCanonical\" => \"\"), Dict(\"curriculum_requisites\" => Dict{String,Any}[],\"name\" => \" \",\"metrics\" => Dict{String,Any}(\"centrality\" => 0,\"complexity\" => 13.0,\"blocking factor\" => 8,\"delay factor\" => 5.0),\"nameSub\" => \"21-120\",\"id\" => 3,\"credits\" => 3,\"nameCanonical\" => \"\"), Dict(\"curriculum_requisites\" => Dict{String,Any}[],\"name\" => \" \",\"metrics\" => Dict{String,Any}(\"centrality\" => 0,\"complexity\" => 1.0,\"blocking factor\" => 0,\"delay factor\" => 1.0),\"nameSub\" => \"76-101\",\"id\" => 4,\"credits\" => 3,\"nameCanonical\" => \"\"), Dict(\"curriculum_requisites\" => Dict{String,Any}[],\"name\" => \" \",\"metrics\" => Dict{String,Any}(\"centrality\" => 0,\"complexity\" => 1.0,\"blocking factor\" => 0,\"delay factor\" => 1.0),\"nameSub\" => \"99-101\",\"id\" => 5,\"credits\" => 3,\"nameCanonical\" => \"\")],\"id\" => 1), Dict(\"name\" => \"Term 2\",\"curriculum_items\" => Dict{String,Any}[Dict(\"curriculum_requisites\" => Dict{String,Any}[Dict(\"source_id\" => 3,\"target_id\" => 6,\"type\" => \"CurriculumPrerequisite\")],\"name\" => \" \",\"metrics\" => Dict{String,Any}(\"centrality\" => 5,\"complexity\" => 8.0,\"blocking factor\" => 3,\"delay factor\" => 5.0),\"nameSub\" => \"33-141\",\"id\" => 6,\"credits\" => 3,\"nameCanonical\" => \"\"), Dict(\"curriculum_requisites\" => Dict{String,Any}[Dict(\"source_id\" => 3,\"target_id\" => 7,\"type\" => \"CurriculumPrerequisite\")],\"name\" => \" \",\"metrics\" => Dict{String,Any}(\"centrality\" => 13,\"complexity\" => 10.0,\"blocking factor\" => 5,\"delay factor\" => 5.0),\"nameSub\" => \"21-122\",\"id\" => 7,\"credits\" => 3,\"nameCanonical\" => \"\"), Dict(\"curriculum_requisites\" => Dict{String,Any}[],\"name\" => \" \",\"metrics\" => Dict{String,Any}(\"centrality\" => 0,\"complexity\" => 1.0,\"blocking factor\" => 0,\"delay factor\" => 1.0),\"nameSub\" => \"Introductory Engineering course\",\"id\" => 8,\"credits\" => 3,\"nameCanonical\" => \"\"), Dict(\"curriculum_requisites\" => Dict{String,Any}[],\"name\" => \" \",\"metrics\" => Dict{String,Any}(\"centrality\" => 0,\"complexity\" => 1.0,\"blocking factor\" => 0,\"delay factor\" => 1.0),\"nameSub\" => \"General Education course\",\"id\" => 9,\"credits\" => 3,\"nameCanonical\" => \"\")],\"id\" => 2), Dict(\"name\" => \"Term 3\",\"curriculum_items\" => Dict{String,Any}[Dict(\"curriculum_requisites\" => Dict{String,Any}[Dict(\"source_id\" => 1,\"target_id\" => 10,\"type\" => \"CurriculumPrerequisite\")],\"name\" => \" \",\"metrics\" => Dict{String,Any}(\"centrality\" => 0,\"complexity\" => 2.0,\"blocking factor\" => 0,\"delay factor\" => 2.0),\"nameSub\" => \"18-200\",\"id\" => 10,\"credits\" => 3,\"nameCanonical\" => \"\"), Dict(\"curriculum_requisites\" => Dict{String,Any}[Dict(\"source_id\" => 7,\"target_id\" => 11,\"type\" => \"CurriculumPrerequisite\")],\"name\" => \" \",\"metrics\" => Dict{String,Any}(\"centrality\" => 10,\"complexity\" => 8.0,\"blocking factor\" => 3,\"delay factor\" => 5.0),\"nameSub\" => \"18-202\",\"id\" => 11,\"credits\" => 3,\"nameCanonical\" => \"\"), Dict(\"curriculum_requisites\" => Dict{String,Any}[Dict(\"source_id\" => 6,\"target_id\" => 12,\"type\" => \"CurriculumPrerequisite\")],\"name\" => \" \",\"metrics\" => Dict{String,Any}(\"centrality\" => 5,\"complexity\" => 7.0,\"blocking factor\" => 2,\"delay factor\" => 5.0),\"nameSub\" => \"33-142\",\"id\" => 12,\"credits\" => 3,\"nameCanonical\" => \"\"), Dict(\"curriculum_requisites\" => Dict{String,Any}[],\"name\" => \" \",\"metrics\" => Dict{String,Any}(\"centrality\" => 0,\"complexity\" => 5.0,\"blocking factor\" => 2,\"delay factor\" => 3.0),\"nameSub\" => \"39-210\",\"id\" => 13,\"credits\" => 3,\"nameCanonical\" => \"\"), Dict(\"curriculum_requisites\" => Dict{String,Any}[Dict(\"source_id\" => 11,\"target_id\" => 14,\"type\" => \"CurriculumCorequisite\"), Dict(\"source_id\" => 12,\"target_id\" => 14,\"type\" => \"CurriculumCorequisite\"), Dict(\"source_id\" => 1,\"target_id\" => 14,\"type\" => \"CurriculumPrerequisite\")],\"name\" => \" \",\"metrics\" => Dict{String,Any}(\"centrality\" => 13,\"complexity\" => 6.0,\"blocking factor\" => 1,\"delay factor\" => 5.0),\"nameSub\" => \"18-220\",\"id\" => 14,\"credits\" => 3,\"nameCanonical\" => \"\"), Dict(\"curriculum_requisites\" => Dict{String,Any}[],\"name\" => \" \",\"metrics\" => Dict{String,Any}(\"centrality\" => 0,\"complexity\" => 1.0,\"blocking factor\" => 0,\"delay factor\" => 1.0),\"nameSub\" => \"General Education course\",\"id\" => 15,\"credits\" => 3,\"nameCanonical\" => \"\")],\"id\" => 3), Dict(\"name\" => \"Term 4\",\"curriculum_items\" => Dict{String,Any}[Dict(\"curriculum_requisites\" => Dict{String,Any}[],\"name\" => \" \",\"metrics\" => Dict{String,Any}(\"centrality\" => 0,\"complexity\" => 5.0,\"blocking factor\" => 2,\"delay factor\" => 3.0),\"nameSub\" => \"21-127\",\"id\" => 16,\"credits\" => 3,\"nameCanonical\" => \"\"), Dict(\"curriculum_requisites\" => Dict{String,Any}[Dict(\"source_id\" => 2,\"target_id\" => 17,\"type\" => \"CurriculumPrerequisite\")],\"name\" => \" \",\"metrics\" => Dict{String,Any}(\"centrality\" => 4,\"complexity\" => 6.0,\"blocking factor\" => 2,\"delay factor\" => 4.0),\"nameSub\" => \"15-122\",\"id\" => 17,\"credits\" => 3,\"nameCanonical\" => \"\"), Dict(\"curriculum_requisites\" => Dict{String,Any}[Dict(\"source_id\" => 7,\"target_id\" => 18,\"type\" => \"CurriculumPrerequisite\")],\"name\" => \" \",\"metrics\" => Dict{String,Any}(\"centrality\" => 0,\"complexity\" => 3.0,\"blocking factor\" => 0,\"delay factor\" => 3.0),\"nameSub\" => \"36-217\",\"id\" => 18,\"credits\" => 3,\"nameCanonical\" => \"\"), Dict(\"curriculum_requisites\" => Dict{String,Any}[Dict(\"source_id\" => 13,\"target_id\" => 19,\"type\" => \"CurriculumPrerequisite\")],\"name\" => \" \",\"metrics\" => Dict{String,Any}(\"centrality\" => 3,\"complexity\" => 4.0,\"blocking factor\" => 1,\"delay factor\" => 3.0),\"nameSub\" => \"39-220\",\"id\" => 19,\"credits\" => 3,\"nameCanonical\" => \"\"), Dict(\"curriculum_requisites\" => Dict{String,Any}[],\"name\" => \" \",\"metrics\" => Dict{String,Any}(\"centrality\" => 0,\"complexity\" => 1.0,\"blocking factor\" => 0,\"delay factor\" => 1.0),\"nameSub\" => \"General Education course\",\"id\" => 20,\"credits\" => 3,\"nameCanonical\" => \"\"), Dict(\"curriculum_requisites\" => Dict{String,Any}[Dict(\"source_id\" => 11,\"target_id\" => 21,\"type\" => \"CurriculumCorequisite\"), Dict(\"source_id\" => 1,\"target_id\" => 21,\"type\" => \"CurriculumPrerequisite\")],\"name\" => \" \",\"metrics\" => Dict{String,Any}(\"centrality\" => 8,\"complexity\" => 6.0,\"blocking factor\" => 1,\"delay factor\" => 5.0),\"nameSub\" => \"18-290\",\"id\" => 21,\"credits\" => 3,\"nameCanonical\" => \"\")],\"id\" => 4), Dict(\"name\" => \"Term 5\",\"curriculum_items\" => Dict{String,Any}[Dict(\"curriculum_requisites\" => Dict{String,Any}[Dict(\"source_id\" => 19,\"target_id\" => 22,\"type\" => \"CurriculumPrerequisite\")],\"name\" => \" \",\"metrics\" => Dict{String,Any}(\"centrality\" => 0,\"complexity\" => 3.0,\"blocking factor\" => 0,\"delay factor\" => 3.0),\"nameSub\" => \"39-310\",\"id\" => 22,\"credits\" => 3,\"nameCanonical\" => \"\"), Dict(\"curriculum_requisites\" => Dict{String,Any}[],\"name\" => \" \",\"metrics\" => Dict{String,Any}(\"centrality\" => 0,\"complexity\" => 1.0,\"blocking factor\" => 0,\"delay factor\" => 1.0),\"nameSub\" => \"18-3xx/4xx ECE Area 1 course\",\"id\" => 23,\"credits\" => 3,\"nameCanonical\" => \"\"), Dict(\"curriculum_requisites\" => Dict{String,Any}[Dict(\"source_id\" => 16,\"target_id\" => 24,\"type\" => \"CurriculumCorequisite\"), Dict(\"source_id\" => 1,\"target_id\" => 24,\"type\" => \"CurriculumPrerequisite\")],\"name\" => \" \",\"metrics\" => Dict{String,Any}(\"centrality\" => 6,\"complexity\" => 4.0,\"blocking factor\" => 1,\"delay factor\" => 3.0),\"nameSub\" => \"18-240\",\"id\" => 24,\"credits\" => 3,\"nameCanonical\" => \"\"), Dict(\"curriculum_requisites\" => Dict{String,Any}[],\"name\" => \" \",\"metrics\" => Dict{String,Any}(\"centrality\" => 0,\"complexity\" => 1.0,\"blocking factor\" => 0,\"delay factor\" => 1.0),\"nameSub\" => \"Free Elective\",\"id\" => 25,\"credits\" => 3,\"nameCanonical\" => \"\"), Dict(\"curriculum_requisites\" => Dict{String,Any}[],\"name\" => \" \",\"metrics\" => Dict{String,Any}(\"centrality\" => 0,\"complexity\" => 1.0,\"blocking factor\" => 0,\"delay factor\" => 1.0),\"nameSub\" => \"General Education course\",\"id\" => 26,\"credits\" => 3,\"nameCanonical\" => \"\"), Dict(\"curriculum_requisites\" => Dict{String,Any}[],\"name\" => \" \",\"metrics\" => Dict{String,Any}(\"centrality\" => 0,\"complexity\" => 1.0,\"blocking factor\" => 0,\"delay factor\" => 1.0),\"nameSub\" => \"Math/Science elective 1\",\"id\" => 27,\"credits\" => 3,\"nameCanonical\" => \"\")],\"id\" => 5), Dict(\"name\" => \"Term 6\",\"curriculum_items\" => Dict{String,Any}[Dict(\"curriculum_requisites\" => Dict{String,Any}[Dict(\"source_id\" => 17,\"target_id\" => 28,\"type\" => \"CurriculumPrerequisite\")],\"name\" => \" \",\"metrics\" => Dict{String,Any}(\"centrality\" => 4,\"complexity\" => 5.0,\"blocking factor\" => 1,\"delay factor\" => 4.0),\"nameSub\" => \"18-213\",\"id\" => 28,\"credits\" => 3,\"nameCanonical\" => \"\"), Dict(\"curriculum_requisites\" => Dict{String,Any}[],\"name\" => \" \",\"metrics\" => Dict{String,Any}(\"centrality\" => 0,\"complexity\" => 3.0,\"blocking factor\" => 1,\"delay factor\" => 2.0),\"nameSub\" => \"18-xxx Area course 1\",\"id\" => 29,\"credits\" => 3,\"nameCanonical\" => \"\"), Dict(\"curriculum_requisites\" => Dict{String,Any}[],\"name\" => \" \",\"metrics\" => Dict{String,Any}(\"centrality\" => 0,\"complexity\" => 1.0,\"blocking factor\" => 0,\"delay factor\" => 1.0),\"nameSub\" => \"Free Elective\",\"id\" => 30,\"credits\" => 3,\"nameCanonical\" => \"\"), Dict(\"curriculum_requisites\" => Dict{String,Any}[],\"name\" => \" \",\"metrics\" => Dict{String,Any}(\"centrality\" => 0,\"complexity\" => 1.0,\"blocking factor\" => 0,\"delay factor\" => 1.0),\"nameSub\" => \"General Education course\",\"id\" => 31,\"credits\" => 3,\"nameCanonical\" => \"\"), Dict(\"curriculum_requisites\" => Dict{String,Any}[],\"name\" => \" \",\"metrics\" => Dict{String,Any}(\"centrality\" => 0,\"complexity\" => 1.0,\"blocking factor\" => 0,\"delay factor\" => 1.0),\"nameSub\" => \"Math/Science Elective 2\",\"id\" => 32,\"credits\" => 3,\"nameCanonical\" => \"\")],\"id\" => 6), Dict(\"name\" => \"Term 7\",\"curriculum_items\" => Dict{String,Any}[Dict(\"curriculum_requisites\" => Dict{String,Any}[],\"name\" => \" \",\"metrics\" => Dict{String,Any}(\"centrality\" => 0,\"complexity\" => 1.0,\"blocking factor\" => 0,\"delay factor\" => 1.0),\"nameSub\" => \"18-xxx ECE Coverage course\",\"id\" => 33,\"credits\" => 3,\"nameCanonical\" => \"\"), Dict(\"curriculum_requisites\" => Dict{String,Any}[],\"name\" => \" \",\"metrics\" => Dict{String,Any}(\"centrality\" => 0,\"complexity\" => 3.0,\"blocking factor\" => 1,\"delay factor\" => 2.0),\"nameSub\" => \"18-xxx Area course 2\",\"id\" => 34,\"credits\" => 3,\"nameCanonical\" => \"\"), Dict(\"curriculum_requisites\" => Dict{String,Any}[],\"name\" => \" \",\"metrics\" => Dict{String,Any}(\"centrality\" => 0,\"complexity\" => 1.0,\"blocking factor\" => 0,\"delay factor\" => 1.0),\"nameSub\" => \"Free Elective\",\"id\" => 35,\"credits\" => 3,\"nameCanonical\" => \"\"), Dict(\"curriculum_requisites\" => Dict{String,Any}[],\"name\" => \" \",\"metrics\" => Dict{String,Any}(\"centrality\" => 0,\"complexity\" => 1.0,\"blocking factor\" => 0,\"delay factor\" => 1.0),\"nameSub\" => \"Free Elective\",\"id\" => 36,\"credits\" => 3,\"nameCanonical\" => \"\"), Dict(\"curriculum_requisites\" => Dict{String,Any}[],\"name\" => \" \",\"metrics\" => Dict{String,Any}(\"centrality\" => 0,\"complexity\" => 1.0,\"blocking factor\" => 0,\"delay factor\" => 1.0),\"nameSub\" => \"General Education course\",\"id\" => 37,\"credits\" => 3,\"nameCanonical\" => \"\")],\"id\" => 7), Dict(\"name\" => \"Term 8\",\"curriculum_items\" => Dict{String,Any}[Dict(\"curriculum_requisites\" => Dict{String,Any}[Dict(\"source_id\" => 14,\"target_id\" => 38,\"type\" => \"CurriculumPrerequisite\"), Dict(\"source_id\" => 34,\"target_id\" => 38,\"type\" => \"CurriculumPrerequisite\"), Dict(\"source_id\" => 29,\"target_id\" => 38,\"type\" => \"CurriculumPrerequisite\"), Dict(\"source_id\" => 28,\"target_id\" => 38,\"type\" => \"CurriculumPrerequisite\"), Dict(\"source_id\" => 21,\"target_id\" => 38,\"type\" => \"CurriculumPrerequisite\"), Dict(\"source_id\" => 24,\"target_id\" => 38,\"type\" => \"CurriculumPrerequisite\")],\"name\" => \" \",\"metrics\" => Dict{String,Any}(\"centrality\" => 0,\"complexity\" => 5.0,\"blocking factor\" => 0,\"delay factor\" => 5.0),\"nameSub\" => \"18-500\",\"id\" => 38,\"credits\" => 3,\"nameCanonical\" => \"\"), Dict(\"curriculum_requisites\" => Dict{String,Any}[],\"name\" => \" \",\"metrics\" => Dict{String,Any}(\"centrality\" => 0,\"complexity\" => 1.0,\"blocking factor\" => 0,\"delay factor\" => 1.0),\"nameSub\" => \"Free Elective\",\"id\" => 39,\"credits\" => 3,\"nameCanonical\" => \"\"), Dict(\"curriculum_requisites\" => Dict{String,Any}[],\"name\" => \" \",\"metrics\" => Dict{String,Any}(\"centrality\" => 0,\"complexity\" => 1.0,\"blocking factor\" => 0,\"delay factor\" => 1.0),\"nameSub\" => \"Free Elective\",\"id\" => 40,\"credits\" => 3,\"nameCanonical\" => \"\"), Dict(\"curriculum_requisites\" => Dict{String,Any}[],\"name\" => \" \",\"metrics\" => Dict{String,Any}(\"centrality\" => 0,\"complexity\" => 1.0,\"blocking factor\" => 0,\"delay factor\" => 1.0),\"nameSub\" => \"Free Elective\",\"id\" => 41,\"credits\" => 3,\"nameCanonical\" => \"\"), Dict(\"curriculum_requisites\" => Dict{String,Any}[],\"name\" => \" \",\"metrics\" => Dict{String,Any}(\"centrality\" => 0,\"complexity\" => 1.0,\"blocking factor\" => 0,\"delay factor\" => 1.0),\"nameSub\" => \"General Education course\",\"id\" => 42,\"credits\" => 3,\"nameCanonical\" => \"\")],\"id\" => 8)],\"institution\" => \"\")), nothing)), Set{String}(), nothing, WebIO.Asset[], Dict{Any,Any}(), WebIO.ConnectionPool(Channel{Any}(sz_max:32,sz_curr:0), Set{WebIO.AbstractConnection}(), Base.GenericCondition{Base.AlwaysLockedST}(Base.InvasiveLinkedList{Task}(Task (runnable) @0x000000011717cfd0, Task (runnable) @0x000000011717cfd0), Base.AlwaysLockedST(1))), WebIO.JSString[])"
      ]
     },
     "execution_count": 38,
     "metadata": {
      "application/vnd.webio.node+json": {
       "kernelId": "b1669f0b-1be9-4309-a3b2-ec8cf4e6623c"
      }
     },
     "output_type": "execute_result"
    }
   ],
   "source": [
    "visualize(read_csv(\"./tier_top/Carnegie Mellon University.csv\"), notebook=true)"
   ]
  },
  {
   "cell_type": "markdown",
   "metadata": {},
   "source": [
    "By hovering your mouse over the courses in this degree plan, you can view the contribution that various course make to the overall compleixty of this curriculum.\n",
    "\n",
    "Next consider the degree plan for an electrical engineering program that has a much larger curricular complexity.\n"
   ]
  },
  {
   "cell_type": "code",
   "execution_count": 39,
   "metadata": {},
   "outputs": [
    {
     "data": {
      "application/vnd.webio.node+json": {
       "children": [
        {
         "children": [
          ""
         ],
         "instanceArgs": {
          "namespace": "html",
          "tag": "iframe"
         },
         "nodeType": "DOM",
         "props": {
          "events": {
           "load": "(function (){this.contentWindow.postMessage({\"options\":{\"hideTerms\":false,\"edit\":false},\"curriculum\":{\"name\":\"Curriculum\",\"dp_name\":\"University of Missouri--Kansas City.csv\",\"curriculum_terms\":[{\"name\":\"Term 1\",\"curriculum_items\":[{\"curriculum_requisites\":[],\"name\":\" \",\"metrics\":{\"centrality\":0,\"complexity\":1.0,\"blocking factor\":0,\"delay factor\":1.0},\"nameSub\":\"ANCH 150\",\"id\":1,\"credits\":3,\"nameCanonical\":\"\"},{\"curriculum_requisites\":[],\"name\":\" \",\"metrics\":{\"centrality\":0,\"complexity\":1.0,\"blocking factor\":0,\"delay factor\":1.0},\"nameSub\":\"CHEM 211\",\"id\":2,\"credits\":5,\"nameCanonical\":\"\"},{\"curriculum_requisites\":[],\"name\":\" \",\"metrics\":{\"centrality\":0,\"complexity\":1.0,\"blocking factor\":0,\"delay factor\":1.0},\"nameSub\":\"DISC 100\",\"id\":3,\"credits\":3,\"nameCanonical\":\"\"},{\"curriculum_requisites\":[],\"name\":\" \",\"metrics\":{\"centrality\":0,\"complexity\":1.0,\"blocking factor\":0,\"delay factor\":1.0},\"nameSub\":\"ECE 130\",\"id\":4,\"credits\":3,\"nameCanonical\":\"\"},{\"curriculum_requisites\":[],\"name\":\" \",\"metrics\":{\"centrality\":0,\"complexity\":37.0,\"blocking factor\":27,\"delay factor\":10.0},\"nameSub\":\"MATH 210\",\"id\":5,\"credits\":4,\"nameCanonical\":\"\"}],\"id\":1},{\"name\":\"Term 2\",\"curriculum_items\":[{\"curriculum_requisites\":[{\"source_id\":5,\"target_id\":6,\"type\":\"CurriculumPrerequisite\"}],\"name\":\" \",\"metrics\":{\"centrality\":236,\"complexity\":34.0,\"blocking factor\":24,\"delay factor\":10.0},\"nameSub\":\"MATH 220\",\"id\":6,\"credits\":4,\"nameCanonical\":\"\"},{\"curriculum_requisites\":[{\"source_id\":5,\"target_id\":7,\"type\":\"CurriculumPrerequisite\"}],\"name\":\" \",\"metrics\":{\"centrality\":99,\"complexity\":27.0,\"blocking factor\":18,\"delay factor\":9.0},\"nameSub\":\"PHYS 240\",\"id\":7,\"credits\":5,\"nameCanonical\":\"\"},{\"curriculum_requisites\":[],\"name\":\" \",\"metrics\":{\"centrality\":0,\"complexity\":1.0,\"blocking factor\":0,\"delay factor\":1.0},\"nameSub\":\"ANCH 200\",\"id\":8,\"credits\":3,\"nameCanonical\":\"\"},{\"curriculum_requisites\":[],\"name\":\" \",\"metrics\":{\"centrality\":0,\"complexity\":1.0,\"blocking factor\":0,\"delay factor\":1.0},\"nameSub\":\"DISC 200\",\"id\":9,\"credits\":3,\"nameCanonical\":\"\"}],\"id\":2},{\"name\":\"Term 3\",\"curriculum_items\":[{\"curriculum_requisites\":[{\"source_id\":5,\"target_id\":10,\"type\":\"CurriculumPrerequisite\"}],\"name\":\" \",\"metrics\":{\"centrality\":3,\"complexity\":4.0,\"blocking factor\":1,\"delay factor\":3.0},\"nameSub\":\"ECE 216\",\"id\":10,\"credits\":4,\"nameCanonical\":\"\"},{\"curriculum_requisites\":[],\"name\":\" \",\"metrics\":{\"centrality\":0,\"complexity\":16.0,\"blocking factor\":10,\"delay factor\":6.0},\"nameSub\":\"ECE 226\",\"id\":11,\"credits\":3,\"nameCanonical\":\"\"},{\"curriculum_requisites\":[{\"source_id\":11,\"target_id\":12,\"type\":\"CurriculumCorequisite\"}],\"name\":\" \",\"metrics\":{\"centrality\":29,\"complexity\":14.0,\"blocking factor\":8,\"delay factor\":6.0},\"nameSub\":\"ECE 227\",\"id\":12,\"credits\":1,\"nameCanonical\":\"\"},{\"curriculum_requisites\":[{\"source_id\":6,\"target_id\":13,\"type\":\"CurriculumPrerequisite\"}],\"name\":\" \",\"metrics\":{\"centrality\":134,\"complexity\":31.0,\"blocking factor\":21,\"delay factor\":10.0},\"nameSub\":\"ECE 241\",\"id\":13,\"credits\":3,\"nameCanonical\":\"\"},{\"curriculum_requisites\":[{\"source_id\":7,\"target_id\":14,\"type\":\"CurriculumPrerequisite\"},{\"source_id\":6,\"target_id\":14,\"type\":\"CurriculumPrerequisite\"}],\"name\":\" \",\"metrics\":{\"centrality\":192,\"complexity\":25.0,\"blocking factor\":16,\"delay factor\":9.0},\"nameSub\":\"PHYS 250\",\"id\":14,\"credits\":5,\"nameCanonical\":\"\"}],\"id\":3},{\"name\":\"Term 4\",\"curriculum_items\":[{\"curriculum_requisites\":[{\"source_id\":11,\"target_id\":15,\"type\":\"CurriculumPrerequisite\"},{\"source_id\":12,\"target_id\":15,\"type\":\"CurriculumPrerequisite\"}],\"name\":\" \",\"metrics\":{\"centrality\":7,\"complexity\":5.0,\"blocking factor\":1,\"delay factor\":4.0},\"nameSub\":\"ECE 228\",\"id\":15,\"credits\":3,\"nameCanonical\":\"\"},{\"curriculum_requisites\":[{\"source_id\":11,\"target_id\":16,\"type\":\"CurriculumPrerequisite\"},{\"source_id\":15,\"target_id\":16,\"type\":\"CurriculumCorequisite\"},{\"source_id\":12,\"target_id\":16,\"type\":\"CurriculumPrerequisite\"}],\"name\":\" \",\"metrics\":{\"centrality\":0,\"complexity\":4.0,\"blocking factor\":0,\"delay factor\":4.0},\"nameSub\":\"ECE 229\",\"id\":16,\"credits\":1,\"nameCanonical\":\"\"},{\"curriculum_requisites\":[{\"source_id\":7,\"target_id\":17,\"type\":\"CurriculumPrerequisite\"},{\"source_id\":6,\"target_id\":17,\"type\":\"CurriculumPrerequisite\"}],\"name\":\" \",\"metrics\":{\"centrality\":0,\"complexity\":3.0,\"blocking factor\":0,\"delay factor\":3.0},\"nameSub\":\"ECE 250\",\"id\":17,\"credits\":3,\"nameCanonical\":\"\"},{\"curriculum_requisites\":[{\"source_id\":14,\"target_id\":18,\"type\":\"CurriculumPrerequisite\"},{\"source_id\":20,\"target_id\":18,\"type\":\"CurriculumCorequisite\"}],\"name\":\" \",\"metrics\":{\"centrality\":254,\"complexity\":24.0,\"blocking factor\":14,\"delay factor\":10.0},\"nameSub\":\"ECE 276\",\"id\":18,\"credits\":3,\"nameCanonical\":\"\"},{\"curriculum_requisites\":[{\"source_id\":18,\"target_id\":19,\"type\":\"CurriculumCorequisite\"}],\"name\":\" \",\"metrics\":{\"centrality\":47,\"complexity\":15.0,\"blocking factor\":5,\"delay factor\":10.0},\"nameSub\":\"ECE 277\",\"id\":19,\"credits\":1,\"nameCanonical\":\"\"},{\"curriculum_requisites\":[{\"source_id\":13,\"target_id\":20,\"type\":\"CurriculumPrerequisite\"}],\"name\":\" \",\"metrics\":{\"centrality\":130,\"complexity\":29.0,\"blocking factor\":19,\"delay factor\":10.0},\"nameSub\":\"ECE 341R\",\"id\":20,\"credits\":3,\"nameCanonical\":\"\"},{\"curriculum_requisites\":[{\"source_id\":13,\"target_id\":21,\"type\":\"CurriculumPrerequisite\"},{\"source_id\":10,\"target_id\":21,\"type\":\"CurriculumPrerequisite\"},{\"source_id\":6,\"target_id\":21,\"type\":\"CurriculumPrerequisite\"}],\"name\":\" \",\"metrics\":{\"centrality\":0,\"complexity\":4.0,\"blocking factor\":0,\"delay factor\":4.0},\"nameSub\":\"CS 394R\",\"id\":21,\"credits\":3,\"nameCanonical\":\"\"}],\"id\":4},{\"name\":\"Term 5\",\"curriculum_items\":[{\"curriculum_requisites\":[{\"source_id\":14,\"target_id\":22,\"type\":\"CurriculumPrerequisite\"},{\"source_id\":20,\"target_id\":22,\"type\":\"CurriculumPrerequisite\"}],\"name\":\" \",\"metrics\":{\"centrality\":0,\"complexity\":5.0,\"blocking factor\":0,\"delay factor\":5.0},\"nameSub\":\"ECE 334\",\"id\":22,\"credits\":3,\"nameCanonical\":\"\"},{\"curriculum_requisites\":[{\"source_id\":18,\"target_id\":23,\"type\":\"CurriculumPrerequisite\"}],\"name\":\" \",\"metrics\":{\"centrality\":129,\"complexity\":18.0,\"blocking factor\":9,\"delay factor\":9.0},\"nameSub\":\"ECE 376\",\"id\":23,\"credits\":3,\"nameCanonical\":\"\"},{\"curriculum_requisites\":[{\"source_id\":23,\"target_id\":24,\"type\":\"CurriculumCorequisite\"},{\"source_id\":19,\"target_id\":24,\"type\":\"CurriculumPrerequisite\"}],\"name\":\" \",\"metrics\":{\"centrality\":0,\"complexity\":7.0,\"blocking factor\":0,\"delay factor\":7.0},\"nameSub\":\"ECE 377\",\"id\":24,\"credits\":1,\"nameCanonical\":\"\"},{\"curriculum_requisites\":[{\"source_id\":20,\"target_id\":25,\"type\":\"CurriculumPrerequisite\"}],\"name\":\" \",\"metrics\":{\"centrality\":20,\"complexity\":12.0,\"blocking factor\":5,\"delay factor\":7.0},\"nameSub\":\"ECE 380\",\"id\":25,\"credits\":3,\"nameCanonical\":\"\"},{\"curriculum_requisites\":[{\"source_id\":25,\"target_id\":26,\"type\":\"CurriculumCorequisite\"}],\"name\":\" \",\"metrics\":{\"centrality\":0,\"complexity\":6.0,\"blocking factor\":0,\"delay factor\":6.0},\"nameSub\":\"ECE 381\",\"id\":26,\"credits\":1,\"nameCanonical\":\"\"},{\"curriculum_requisites\":[{\"source_id\":11,\"target_id\":27,\"type\":\"CurriculumPrerequisite\"}],\"name\":\" \",\"metrics\":{\"centrality\":40,\"complexity\":12.0,\"blocking factor\":6,\"delay factor\":6.0},\"nameSub\":\"ECE 426\",\"id\":27,\"credits\":3,\"nameCanonical\":\"\"},{\"curriculum_requisites\":[{\"source_id\":27,\"target_id\":28,\"type\":\"CurriculumCorequisite\"},{\"source_id\":12,\"target_id\":28,\"type\":\"CurriculumPrerequisite\"}],\"name\":\" \",\"metrics\":{\"centrality\":44,\"complexity\":11.0,\"blocking factor\":5,\"delay factor\":6.0},\"nameSub\":\"ECE 427\",\"id\":28,\"credits\":1,\"nameCanonical\":\"\"}],\"id\":5},{\"name\":\"Term 6\",\"curriculum_items\":[{\"curriculum_requisites\":[{\"source_id\":23,\"target_id\":29,\"type\":\"CurriculumPrerequisite\"},{\"source_id\":14,\"target_id\":29,\"type\":\"CurriculumPrerequisite\"},{\"source_id\":20,\"target_id\":29,\"type\":\"CurriculumPrerequisite\"}],\"name\":\" \",\"metrics\":{\"centrality\":82,\"complexity\":12.0,\"blocking factor\":3,\"delay factor\":9.0},\"nameSub\":\"ECE 302\",\"id\":29,\"credits\":3,\"nameCanonical\":\"\"},{\"curriculum_requisites\":[{\"source_id\":29,\"target_id\":30,\"type\":\"CurriculumCorequisite\"}],\"name\":\" \",\"metrics\":{\"centrality\":0,\"complexity\":8.0,\"blocking factor\":0,\"delay factor\":8.0},\"nameSub\":\"ECE 303\",\"id\":30,\"credits\":1,\"nameCanonical\":\"\"},{\"curriculum_requisites\":[{\"source_id\":18,\"target_id\":31,\"type\":\"CurriculumPrerequisite\"}],\"name\":\" \",\"metrics\":{\"centrality\":53,\"complexity\":14.0,\"blocking factor\":4,\"delay factor\":10.0},\"nameSub\":\"ECE 330\",\"id\":31,\"credits\":3,\"nameCanonical\":\"\"},{\"curriculum_requisites\":[{\"source_id\":31,\"target_id\":32,\"type\":\"CurriculumCorequisite\"},{\"source_id\":19,\"target_id\":32,\"type\":\"CurriculumPrerequisite\"},{\"source_id\":18,\"target_id\":32,\"type\":\"CurriculumPrerequisite\"}],\"name\":\" \",\"metrics\":{\"centrality\":81,\"complexity\":13.0,\"blocking factor\":3,\"delay factor\":10.0},\"nameSub\":\"ECE 331\",\"id\":32,\"credits\":1,\"nameCanonical\":\"\"},{\"curriculum_requisites\":[{\"source_id\":35,\"target_id\":33,\"type\":\"CurriculumCorequisite\"},{\"source_id\":34,\"target_id\":33,\"type\":\"CurriculumCorequisite\"}],\"name\":\" \",\"metrics\":{\"centrality\":0,\"complexity\":6.0,\"blocking factor\":0,\"delay factor\":6.0},\"nameSub\":\"ECE 420\",\"id\":33,\"credits\":2,\"nameCanonical\":\"\"},{\"curriculum_requisites\":[{\"source_id\":27,\"target_id\":34,\"type\":\"CurriculumPrerequisite\"},{\"source_id\":28,\"target_id\":34,\"type\":\"CurriculumPrerequisite\"}],\"name\":\" \",\"metrics\":{\"centrality\":48,\"complexity\":10.0,\"blocking factor\":4,\"delay factor\":6.0},\"nameSub\":\"ECE 428R\",\"id\":34,\"credits\":3,\"nameCanonical\":\"\"},{\"curriculum_requisites\":[{\"source_id\":34,\"target_id\":35,\"type\":\"CurriculumCorequisite\"},{\"source_id\":27,\"target_id\":35,\"type\":\"CurriculumPrerequisite\"},{\"source_id\":28,\"target_id\":35,\"type\":\"CurriculumPrerequisite\"}],\"name\":\" \",\"metrics\":{\"centrality\":31,\"complexity\":7.0,\"blocking factor\":1,\"delay factor\":6.0},\"nameSub\":\"ECE 429\",\"id\":35,\"credits\":1,\"nameCanonical\":\"\"},{\"curriculum_requisites\":[{\"source_id\":23,\"target_id\":36,\"type\":\"CurriculumPrerequisite\"}],\"name\":\" \",\"metrics\":{\"centrality\":44,\"complexity\":10.0,\"blocking factor\":2,\"delay factor\":8.0},\"nameSub\":\"ECE 466\",\"id\":36,\"credits\":3,\"nameCanonical\":\"\"}],\"id\":6},{\"name\":\"Term 7\",\"curriculum_items\":[{\"curriculum_requisites\":[{\"source_id\":25,\"target_id\":37,\"type\":\"CurriculumPrerequisite\"}],\"name\":\" \",\"metrics\":{\"centrality\":7,\"complexity\":8.0,\"blocking factor\":1,\"delay factor\":7.0},\"nameSub\":\"ECE 358\",\"id\":37,\"credits\":3,\"nameCanonical\":\"\"},{\"curriculum_requisites\":[{\"source_id\":25,\"target_id\":38,\"type\":\"CurriculumPrerequisite\"},{\"source_id\":34,\"target_id\":38,\"type\":\"CurriculumPrerequisite\"},{\"source_id\":29,\"target_id\":38,\"type\":\"CurriculumPrerequisite\"},{\"source_id\":39,\"target_id\":38,\"type\":\"CurriculumCorequisite\"}],\"name\":\" \",\"metrics\":{\"centrality\":174,\"complexity\":11.0,\"blocking factor\":1,\"delay factor\":10.0},\"nameSub\":\"ECE 402\",\"id\":38,\"credits\":2,\"nameCanonical\":\"\"},{\"curriculum_requisites\":[{\"source_id\":31,\"target_id\":39,\"type\":\"CurriculumPrerequisite\"},{\"source_id\":32,\"target_id\":39,\"type\":\"CurriculumPrerequisite\"}],\"name\":\" \",\"metrics\":{\"centrality\":106,\"complexity\":12.0,\"blocking factor\":2,\"delay factor\":10.0},\"nameSub\":\"ECE 430\",\"id\":39,\"credits\":3,\"nameCanonical\":\"\"},{\"curriculum_requisites\":[{\"source_id\":23,\"target_id\":40,\"type\":\"CurriculumPrerequisite\"}],\"name\":\" \",\"metrics\":{\"centrality\":0,\"complexity\":7.0,\"blocking factor\":0,\"delay factor\":7.0},\"nameSub\":\"ECE 466\",\"id\":40,\"credits\":3,\"nameCanonical\":\"\"},{\"curriculum_requisites\":[],\"name\":\" \",\"metrics\":{\"centrality\":0,\"complexity\":1.0,\"blocking factor\":0,\"delay factor\":1.0},\"nameSub\":\"ANCH 308\",\"id\":41,\"credits\":3,\"nameCanonical\":\"\"},{\"curriculum_requisites\":[],\"name\":\" \",\"metrics\":{\"centrality\":0,\"complexity\":1.0,\"blocking factor\":0,\"delay factor\":1.0},\"nameSub\":\"DISC 300\",\"id\":42,\"credits\":3,\"nameCanonical\":\"\"}],\"id\":7},{\"name\":\"Term 8\",\"curriculum_items\":[{\"curriculum_requisites\":[],\"name\":\" \",\"metrics\":{\"centrality\":0,\"complexity\":1.0,\"blocking factor\":0,\"delay factor\":1.0},\"nameSub\":\"FOCUS A\",\"id\":43,\"credits\":3,\"nameCanonical\":\"\"},{\"curriculum_requisites\":[],\"name\":\" \",\"metrics\":{\"centrality\":0,\"complexity\":1.0,\"blocking factor\":0,\"delay factor\":1.0},\"nameSub\":\"FOCUS B\",\"id\":44,\"credits\":3,\"nameCanonical\":\"\"},{\"curriculum_requisites\":[{\"source_id\":38,\"target_id\":45,\"type\":\"CurriculumPrerequisite\"}],\"name\":\" \",\"metrics\":{\"centrality\":0,\"complexity\":10.0,\"blocking factor\":0,\"delay factor\":10.0},\"nameSub\":\"ECE 403\",\"id\":45,\"credits\":1,\"nameCanonical\":\"\"},{\"curriculum_requisites\":[{\"source_id\":37,\"target_id\":46,\"type\":\"CurriculumPrerequisite\"},{\"source_id\":36,\"target_id\":46,\"type\":\"CurriculumPrerequisite\"}],\"name\":\" \",\"metrics\":{\"centrality\":0,\"complexity\":8.0,\"blocking factor\":0,\"delay factor\":8.0},\"nameSub\":\"ECE 467\",\"id\":46,\"credits\":3,\"nameCanonical\":\"\"},{\"curriculum_requisites\":[{\"source_id\":36,\"target_id\":47,\"type\":\"CurriculumPrerequisite\"}],\"name\":\" \",\"metrics\":{\"centrality\":0,\"complexity\":8.0,\"blocking factor\":0,\"delay factor\":8.0},\"nameSub\":\"ECE 472\",\"id\":47,\"credits\":3,\"nameCanonical\":\"\"}],\"id\":8}],\"institution\":\"\"}},\"*\"); window.removeEventListener(\"message\",window.messageReceived); window.messageReceived=(function (event){return (event.data.curriculum!==undefined) ? (WebIO.setval({\"name\":\"curriculum-data\",\"scope\":\"4218797326517225769\",\"id\":\"16040691984013065295\",\"type\":\"observable\"},event.data.curriculum)) : undefined}); return window.addEventListener(\"message\",window.messageReceived)})"
          },
          "id": "curriculum",
          "src": "http://localhost:8156",
          "style": {
           "border": "none",
           "height": "100vh",
           "margin": "0",
           "padding": "0",
           "width": "100%"
          }
         },
         "type": "node"
        }
       ],
       "instanceArgs": {
        "handlers": {},
        "id": "4218797326517225769",
        "imports": {
         "data": [],
         "type": "async_block"
        },
        "mount_callbacks": [],
        "observables": {
         "curriculum-data": {
          "id": "16040691984013065295",
          "sync": true,
          "value": {
           "curriculum": {
            "curriculum_terms": [
             {
              "curriculum_items": [
               {
                "credits": 3,
                "curriculum_requisites": [],
                "id": 1,
                "metrics": {
                 "blocking factor": 0,
                 "centrality": 0,
                 "complexity": 1,
                 "delay factor": 1
                },
                "name": " ",
                "nameCanonical": "",
                "nameSub": "ANCH 150"
               },
               {
                "credits": 5,
                "curriculum_requisites": [],
                "id": 2,
                "metrics": {
                 "blocking factor": 0,
                 "centrality": 0,
                 "complexity": 1,
                 "delay factor": 1
                },
                "name": " ",
                "nameCanonical": "",
                "nameSub": "CHEM 211"
               },
               {
                "credits": 3,
                "curriculum_requisites": [],
                "id": 3,
                "metrics": {
                 "blocking factor": 0,
                 "centrality": 0,
                 "complexity": 1,
                 "delay factor": 1
                },
                "name": " ",
                "nameCanonical": "",
                "nameSub": "DISC 100"
               },
               {
                "credits": 3,
                "curriculum_requisites": [],
                "id": 4,
                "metrics": {
                 "blocking factor": 0,
                 "centrality": 0,
                 "complexity": 1,
                 "delay factor": 1
                },
                "name": " ",
                "nameCanonical": "",
                "nameSub": "ECE 130"
               },
               {
                "credits": 4,
                "curriculum_requisites": [],
                "id": 5,
                "metrics": {
                 "blocking factor": 27,
                 "centrality": 0,
                 "complexity": 37,
                 "delay factor": 10
                },
                "name": " ",
                "nameCanonical": "",
                "nameSub": "MATH 210"
               }
              ],
              "id": 1,
              "name": "Term 1"
             },
             {
              "curriculum_items": [
               {
                "credits": 4,
                "curriculum_requisites": [
                 {
                  "source_id": 5,
                  "target_id": 6,
                  "type": "CurriculumPrerequisite"
                 }
                ],
                "id": 6,
                "metrics": {
                 "blocking factor": 24,
                 "centrality": 236,
                 "complexity": 34,
                 "delay factor": 10
                },
                "name": " ",
                "nameCanonical": "",
                "nameSub": "MATH 220"
               },
               {
                "credits": 5,
                "curriculum_requisites": [
                 {
                  "source_id": 5,
                  "target_id": 7,
                  "type": "CurriculumPrerequisite"
                 }
                ],
                "id": 7,
                "metrics": {
                 "blocking factor": 18,
                 "centrality": 99,
                 "complexity": 27,
                 "delay factor": 9
                },
                "name": " ",
                "nameCanonical": "",
                "nameSub": "PHYS 240"
               },
               {
                "credits": 3,
                "curriculum_requisites": [],
                "id": 8,
                "metrics": {
                 "blocking factor": 0,
                 "centrality": 0,
                 "complexity": 1,
                 "delay factor": 1
                },
                "name": " ",
                "nameCanonical": "",
                "nameSub": "ANCH 200"
               },
               {
                "credits": 3,
                "curriculum_requisites": [],
                "id": 9,
                "metrics": {
                 "blocking factor": 0,
                 "centrality": 0,
                 "complexity": 1,
                 "delay factor": 1
                },
                "name": " ",
                "nameCanonical": "",
                "nameSub": "DISC 200"
               }
              ],
              "id": 2,
              "name": "Term 2"
             },
             {
              "curriculum_items": [
               {
                "credits": 4,
                "curriculum_requisites": [
                 {
                  "source_id": 5,
                  "target_id": 10,
                  "type": "CurriculumPrerequisite"
                 }
                ],
                "id": 10,
                "metrics": {
                 "blocking factor": 1,
                 "centrality": 3,
                 "complexity": 4,
                 "delay factor": 3
                },
                "name": " ",
                "nameCanonical": "",
                "nameSub": "ECE 216"
               },
               {
                "credits": 3,
                "curriculum_requisites": [],
                "id": 11,
                "metrics": {
                 "blocking factor": 10,
                 "centrality": 0,
                 "complexity": 16,
                 "delay factor": 6
                },
                "name": " ",
                "nameCanonical": "",
                "nameSub": "ECE 226"
               },
               {
                "credits": 1,
                "curriculum_requisites": [
                 {
                  "source_id": 11,
                  "target_id": 12,
                  "type": "CurriculumCorequisite"
                 }
                ],
                "id": 12,
                "metrics": {
                 "blocking factor": 8,
                 "centrality": 29,
                 "complexity": 14,
                 "delay factor": 6
                },
                "name": " ",
                "nameCanonical": "",
                "nameSub": "ECE 227"
               },
               {
                "credits": 3,
                "curriculum_requisites": [
                 {
                  "source_id": 6,
                  "target_id": 13,
                  "type": "CurriculumPrerequisite"
                 }
                ],
                "id": 13,
                "metrics": {
                 "blocking factor": 21,
                 "centrality": 134,
                 "complexity": 31,
                 "delay factor": 10
                },
                "name": " ",
                "nameCanonical": "",
                "nameSub": "ECE 241"
               },
               {
                "credits": 5,
                "curriculum_requisites": [
                 {
                  "source_id": 7,
                  "target_id": 14,
                  "type": "CurriculumPrerequisite"
                 },
                 {
                  "source_id": 6,
                  "target_id": 14,
                  "type": "CurriculumPrerequisite"
                 }
                ],
                "id": 14,
                "metrics": {
                 "blocking factor": 16,
                 "centrality": 192,
                 "complexity": 25,
                 "delay factor": 9
                },
                "name": " ",
                "nameCanonical": "",
                "nameSub": "PHYS 250"
               }
              ],
              "id": 3,
              "name": "Term 3"
             },
             {
              "curriculum_items": [
               {
                "credits": 3,
                "curriculum_requisites": [
                 {
                  "source_id": 11,
                  "target_id": 15,
                  "type": "CurriculumPrerequisite"
                 },
                 {
                  "source_id": 12,
                  "target_id": 15,
                  "type": "CurriculumPrerequisite"
                 }
                ],
                "id": 15,
                "metrics": {
                 "blocking factor": 1,
                 "centrality": 7,
                 "complexity": 5,
                 "delay factor": 4
                },
                "name": " ",
                "nameCanonical": "",
                "nameSub": "ECE 228"
               },
               {
                "credits": 1,
                "curriculum_requisites": [
                 {
                  "source_id": 11,
                  "target_id": 16,
                  "type": "CurriculumPrerequisite"
                 },
                 {
                  "source_id": 15,
                  "target_id": 16,
                  "type": "CurriculumCorequisite"
                 },
                 {
                  "source_id": 12,
                  "target_id": 16,
                  "type": "CurriculumPrerequisite"
                 }
                ],
                "id": 16,
                "metrics": {
                 "blocking factor": 0,
                 "centrality": 0,
                 "complexity": 4,
                 "delay factor": 4
                },
                "name": " ",
                "nameCanonical": "",
                "nameSub": "ECE 229"
               },
               {
                "credits": 3,
                "curriculum_requisites": [
                 {
                  "source_id": 7,
                  "target_id": 17,
                  "type": "CurriculumPrerequisite"
                 },
                 {
                  "source_id": 6,
                  "target_id": 17,
                  "type": "CurriculumPrerequisite"
                 }
                ],
                "id": 17,
                "metrics": {
                 "blocking factor": 0,
                 "centrality": 0,
                 "complexity": 3,
                 "delay factor": 3
                },
                "name": " ",
                "nameCanonical": "",
                "nameSub": "ECE 250"
               },
               {
                "credits": 3,
                "curriculum_requisites": [
                 {
                  "source_id": 14,
                  "target_id": 18,
                  "type": "CurriculumPrerequisite"
                 },
                 {
                  "source_id": 20,
                  "target_id": 18,
                  "type": "CurriculumCorequisite"
                 }
                ],
                "id": 18,
                "metrics": {
                 "blocking factor": 14,
                 "centrality": 254,
                 "complexity": 24,
                 "delay factor": 10
                },
                "name": " ",
                "nameCanonical": "",
                "nameSub": "ECE 276"
               },
               {
                "credits": 1,
                "curriculum_requisites": [
                 {
                  "source_id": 18,
                  "target_id": 19,
                  "type": "CurriculumCorequisite"
                 }
                ],
                "id": 19,
                "metrics": {
                 "blocking factor": 5,
                 "centrality": 47,
                 "complexity": 15,
                 "delay factor": 10
                },
                "name": " ",
                "nameCanonical": "",
                "nameSub": "ECE 277"
               },
               {
                "credits": 3,
                "curriculum_requisites": [
                 {
                  "source_id": 13,
                  "target_id": 20,
                  "type": "CurriculumPrerequisite"
                 }
                ],
                "id": 20,
                "metrics": {
                 "blocking factor": 19,
                 "centrality": 130,
                 "complexity": 29,
                 "delay factor": 10
                },
                "name": " ",
                "nameCanonical": "",
                "nameSub": "ECE 341R"
               },
               {
                "credits": 3,
                "curriculum_requisites": [
                 {
                  "source_id": 13,
                  "target_id": 21,
                  "type": "CurriculumPrerequisite"
                 },
                 {
                  "source_id": 10,
                  "target_id": 21,
                  "type": "CurriculumPrerequisite"
                 },
                 {
                  "source_id": 6,
                  "target_id": 21,
                  "type": "CurriculumPrerequisite"
                 }
                ],
                "id": 21,
                "metrics": {
                 "blocking factor": 0,
                 "centrality": 0,
                 "complexity": 4,
                 "delay factor": 4
                },
                "name": " ",
                "nameCanonical": "",
                "nameSub": "CS 394R"
               }
              ],
              "id": 4,
              "name": "Term 4"
             },
             {
              "curriculum_items": [
               {
                "credits": 3,
                "curriculum_requisites": [
                 {
                  "source_id": 14,
                  "target_id": 22,
                  "type": "CurriculumPrerequisite"
                 },
                 {
                  "source_id": 20,
                  "target_id": 22,
                  "type": "CurriculumPrerequisite"
                 }
                ],
                "id": 22,
                "metrics": {
                 "blocking factor": 0,
                 "centrality": 0,
                 "complexity": 5,
                 "delay factor": 5
                },
                "name": " ",
                "nameCanonical": "",
                "nameSub": "ECE 334"
               },
               {
                "credits": 3,
                "curriculum_requisites": [
                 {
                  "source_id": 18,
                  "target_id": 23,
                  "type": "CurriculumPrerequisite"
                 }
                ],
                "id": 23,
                "metrics": {
                 "blocking factor": 9,
                 "centrality": 129,
                 "complexity": 18,
                 "delay factor": 9
                },
                "name": " ",
                "nameCanonical": "",
                "nameSub": "ECE 376"
               },
               {
                "credits": 1,
                "curriculum_requisites": [
                 {
                  "source_id": 23,
                  "target_id": 24,
                  "type": "CurriculumCorequisite"
                 },
                 {
                  "source_id": 19,
                  "target_id": 24,
                  "type": "CurriculumPrerequisite"
                 }
                ],
                "id": 24,
                "metrics": {
                 "blocking factor": 0,
                 "centrality": 0,
                 "complexity": 7,
                 "delay factor": 7
                },
                "name": " ",
                "nameCanonical": "",
                "nameSub": "ECE 377"
               },
               {
                "credits": 3,
                "curriculum_requisites": [
                 {
                  "source_id": 20,
                  "target_id": 25,
                  "type": "CurriculumPrerequisite"
                 }
                ],
                "id": 25,
                "metrics": {
                 "blocking factor": 5,
                 "centrality": 20,
                 "complexity": 12,
                 "delay factor": 7
                },
                "name": " ",
                "nameCanonical": "",
                "nameSub": "ECE 380"
               },
               {
                "credits": 1,
                "curriculum_requisites": [
                 {
                  "source_id": 25,
                  "target_id": 26,
                  "type": "CurriculumCorequisite"
                 }
                ],
                "id": 26,
                "metrics": {
                 "blocking factor": 0,
                 "centrality": 0,
                 "complexity": 6,
                 "delay factor": 6
                },
                "name": " ",
                "nameCanonical": "",
                "nameSub": "ECE 381"
               },
               {
                "credits": 3,
                "curriculum_requisites": [
                 {
                  "source_id": 11,
                  "target_id": 27,
                  "type": "CurriculumPrerequisite"
                 }
                ],
                "id": 27,
                "metrics": {
                 "blocking factor": 6,
                 "centrality": 40,
                 "complexity": 12,
                 "delay factor": 6
                },
                "name": " ",
                "nameCanonical": "",
                "nameSub": "ECE 426"
               },
               {
                "credits": 1,
                "curriculum_requisites": [
                 {
                  "source_id": 27,
                  "target_id": 28,
                  "type": "CurriculumCorequisite"
                 },
                 {
                  "source_id": 12,
                  "target_id": 28,
                  "type": "CurriculumPrerequisite"
                 }
                ],
                "id": 28,
                "metrics": {
                 "blocking factor": 5,
                 "centrality": 44,
                 "complexity": 11,
                 "delay factor": 6
                },
                "name": " ",
                "nameCanonical": "",
                "nameSub": "ECE 427"
               }
              ],
              "id": 5,
              "name": "Term 5"
             },
             {
              "curriculum_items": [
               {
                "credits": 3,
                "curriculum_requisites": [
                 {
                  "source_id": 23,
                  "target_id": 29,
                  "type": "CurriculumPrerequisite"
                 },
                 {
                  "source_id": 14,
                  "target_id": 29,
                  "type": "CurriculumPrerequisite"
                 },
                 {
                  "source_id": 20,
                  "target_id": 29,
                  "type": "CurriculumPrerequisite"
                 }
                ],
                "id": 29,
                "metrics": {
                 "blocking factor": 3,
                 "centrality": 82,
                 "complexity": 12,
                 "delay factor": 9
                },
                "name": " ",
                "nameCanonical": "",
                "nameSub": "ECE 302"
               },
               {
                "credits": 1,
                "curriculum_requisites": [
                 {
                  "source_id": 29,
                  "target_id": 30,
                  "type": "CurriculumCorequisite"
                 }
                ],
                "id": 30,
                "metrics": {
                 "blocking factor": 0,
                 "centrality": 0,
                 "complexity": 8,
                 "delay factor": 8
                },
                "name": " ",
                "nameCanonical": "",
                "nameSub": "ECE 303"
               },
               {
                "credits": 3,
                "curriculum_requisites": [
                 {
                  "source_id": 18,
                  "target_id": 31,
                  "type": "CurriculumPrerequisite"
                 }
                ],
                "id": 31,
                "metrics": {
                 "blocking factor": 4,
                 "centrality": 53,
                 "complexity": 14,
                 "delay factor": 10
                },
                "name": " ",
                "nameCanonical": "",
                "nameSub": "ECE 330"
               },
               {
                "credits": 1,
                "curriculum_requisites": [
                 {
                  "source_id": 31,
                  "target_id": 32,
                  "type": "CurriculumCorequisite"
                 },
                 {
                  "source_id": 19,
                  "target_id": 32,
                  "type": "CurriculumPrerequisite"
                 },
                 {
                  "source_id": 18,
                  "target_id": 32,
                  "type": "CurriculumPrerequisite"
                 }
                ],
                "id": 32,
                "metrics": {
                 "blocking factor": 3,
                 "centrality": 81,
                 "complexity": 13,
                 "delay factor": 10
                },
                "name": " ",
                "nameCanonical": "",
                "nameSub": "ECE 331"
               },
               {
                "credits": 2,
                "curriculum_requisites": [
                 {
                  "source_id": 35,
                  "target_id": 33,
                  "type": "CurriculumCorequisite"
                 },
                 {
                  "source_id": 34,
                  "target_id": 33,
                  "type": "CurriculumCorequisite"
                 }
                ],
                "id": 33,
                "metrics": {
                 "blocking factor": 0,
                 "centrality": 0,
                 "complexity": 6,
                 "delay factor": 6
                },
                "name": " ",
                "nameCanonical": "",
                "nameSub": "ECE 420"
               },
               {
                "credits": 3,
                "curriculum_requisites": [
                 {
                  "source_id": 27,
                  "target_id": 34,
                  "type": "CurriculumPrerequisite"
                 },
                 {
                  "source_id": 28,
                  "target_id": 34,
                  "type": "CurriculumPrerequisite"
                 }
                ],
                "id": 34,
                "metrics": {
                 "blocking factor": 4,
                 "centrality": 48,
                 "complexity": 10,
                 "delay factor": 6
                },
                "name": " ",
                "nameCanonical": "",
                "nameSub": "ECE 428R"
               },
               {
                "credits": 1,
                "curriculum_requisites": [
                 {
                  "source_id": 34,
                  "target_id": 35,
                  "type": "CurriculumCorequisite"
                 },
                 {
                  "source_id": 27,
                  "target_id": 35,
                  "type": "CurriculumPrerequisite"
                 },
                 {
                  "source_id": 28,
                  "target_id": 35,
                  "type": "CurriculumPrerequisite"
                 }
                ],
                "id": 35,
                "metrics": {
                 "blocking factor": 1,
                 "centrality": 31,
                 "complexity": 7,
                 "delay factor": 6
                },
                "name": " ",
                "nameCanonical": "",
                "nameSub": "ECE 429"
               },
               {
                "credits": 3,
                "curriculum_requisites": [
                 {
                  "source_id": 23,
                  "target_id": 36,
                  "type": "CurriculumPrerequisite"
                 }
                ],
                "id": 36,
                "metrics": {
                 "blocking factor": 2,
                 "centrality": 44,
                 "complexity": 10,
                 "delay factor": 8
                },
                "name": " ",
                "nameCanonical": "",
                "nameSub": "ECE 466"
               }
              ],
              "id": 6,
              "name": "Term 6"
             },
             {
              "curriculum_items": [
               {
                "credits": 3,
                "curriculum_requisites": [
                 {
                  "source_id": 25,
                  "target_id": 37,
                  "type": "CurriculumPrerequisite"
                 }
                ],
                "id": 37,
                "metrics": {
                 "blocking factor": 1,
                 "centrality": 7,
                 "complexity": 8,
                 "delay factor": 7
                },
                "name": " ",
                "nameCanonical": "",
                "nameSub": "ECE 358"
               },
               {
                "credits": 2,
                "curriculum_requisites": [
                 {
                  "source_id": 25,
                  "target_id": 38,
                  "type": "CurriculumPrerequisite"
                 },
                 {
                  "source_id": 34,
                  "target_id": 38,
                  "type": "CurriculumPrerequisite"
                 },
                 {
                  "source_id": 29,
                  "target_id": 38,
                  "type": "CurriculumPrerequisite"
                 },
                 {
                  "source_id": 39,
                  "target_id": 38,
                  "type": "CurriculumCorequisite"
                 }
                ],
                "id": 38,
                "metrics": {
                 "blocking factor": 1,
                 "centrality": 174,
                 "complexity": 11,
                 "delay factor": 10
                },
                "name": " ",
                "nameCanonical": "",
                "nameSub": "ECE 402"
               },
               {
                "credits": 3,
                "curriculum_requisites": [
                 {
                  "source_id": 31,
                  "target_id": 39,
                  "type": "CurriculumPrerequisite"
                 },
                 {
                  "source_id": 32,
                  "target_id": 39,
                  "type": "CurriculumPrerequisite"
                 }
                ],
                "id": 39,
                "metrics": {
                 "blocking factor": 2,
                 "centrality": 106,
                 "complexity": 12,
                 "delay factor": 10
                },
                "name": " ",
                "nameCanonical": "",
                "nameSub": "ECE 430"
               },
               {
                "credits": 3,
                "curriculum_requisites": [
                 {
                  "source_id": 23,
                  "target_id": 40,
                  "type": "CurriculumPrerequisite"
                 }
                ],
                "id": 40,
                "metrics": {
                 "blocking factor": 0,
                 "centrality": 0,
                 "complexity": 7,
                 "delay factor": 7
                },
                "name": " ",
                "nameCanonical": "",
                "nameSub": "ECE 466"
               },
               {
                "credits": 3,
                "curriculum_requisites": [],
                "id": 41,
                "metrics": {
                 "blocking factor": 0,
                 "centrality": 0,
                 "complexity": 1,
                 "delay factor": 1
                },
                "name": " ",
                "nameCanonical": "",
                "nameSub": "ANCH 308"
               },
               {
                "credits": 3,
                "curriculum_requisites": [],
                "id": 42,
                "metrics": {
                 "blocking factor": 0,
                 "centrality": 0,
                 "complexity": 1,
                 "delay factor": 1
                },
                "name": " ",
                "nameCanonical": "",
                "nameSub": "DISC 300"
               }
              ],
              "id": 7,
              "name": "Term 7"
             },
             {
              "curriculum_items": [
               {
                "credits": 3,
                "curriculum_requisites": [],
                "id": 43,
                "metrics": {
                 "blocking factor": 0,
                 "centrality": 0,
                 "complexity": 1,
                 "delay factor": 1
                },
                "name": " ",
                "nameCanonical": "",
                "nameSub": "FOCUS A"
               },
               {
                "credits": 3,
                "curriculum_requisites": [],
                "id": 44,
                "metrics": {
                 "blocking factor": 0,
                 "centrality": 0,
                 "complexity": 1,
                 "delay factor": 1
                },
                "name": " ",
                "nameCanonical": "",
                "nameSub": "FOCUS B"
               },
               {
                "credits": 1,
                "curriculum_requisites": [
                 {
                  "source_id": 38,
                  "target_id": 45,
                  "type": "CurriculumPrerequisite"
                 }
                ],
                "id": 45,
                "metrics": {
                 "blocking factor": 0,
                 "centrality": 0,
                 "complexity": 10,
                 "delay factor": 10
                },
                "name": " ",
                "nameCanonical": "",
                "nameSub": "ECE 403"
               },
               {
                "credits": 3,
                "curriculum_requisites": [
                 {
                  "source_id": 37,
                  "target_id": 46,
                  "type": "CurriculumPrerequisite"
                 },
                 {
                  "source_id": 36,
                  "target_id": 46,
                  "type": "CurriculumPrerequisite"
                 }
                ],
                "id": 46,
                "metrics": {
                 "blocking factor": 0,
                 "centrality": 0,
                 "complexity": 8,
                 "delay factor": 8
                },
                "name": " ",
                "nameCanonical": "",
                "nameSub": "ECE 467"
               },
               {
                "credits": 3,
                "curriculum_requisites": [
                 {
                  "source_id": 36,
                  "target_id": 47,
                  "type": "CurriculumPrerequisite"
                 }
                ],
                "id": 47,
                "metrics": {
                 "blocking factor": 0,
                 "centrality": 0,
                 "complexity": 8,
                 "delay factor": 8
                },
                "name": " ",
                "nameCanonical": "",
                "nameSub": "ECE 472"
               }
              ],
              "id": 8,
              "name": "Term 8"
             }
            ],
            "dp_name": "University of Missouri--Kansas City.csv",
            "institution": "",
            "name": "Curriculum"
           },
           "options": {
            "edit": false,
            "hideTerms": false
           }
          }
         }
        },
        "systemjs_options": null
       },
       "nodeType": "Scope",
       "props": {},
       "type": "node"
      },
      "text/html": [
       "<div\n",
       "    class=\"webio-mountpoint\"\n",
       "    data-webio-mountpoint=\"13189745949508014308\"\n",
       ">\n",
       "    <script>\n",
       "    if (window.require && require.defined && require.defined(\"nbextensions/webio-jupyter-notebook\")) {\n",
       "        console.log(\"Jupyter WebIO extension detected, not mounting.\");\n",
       "    } else if (window.WebIO) {\n",
       "        WebIO.mount(\n",
       "            document.querySelector('[data-webio-mountpoint=\"13189745949508014308\"]'),\n",
       "            {\"props\":{},\"nodeType\":\"Scope\",\"type\":\"node\",\"instanceArgs\":{\"imports\":{\"data\":[],\"type\":\"async_block\"},\"id\":\"4218797326517225769\",\"handlers\":{},\"systemjs_options\":null,\"mount_callbacks\":[],\"observables\":{\"curriculum-data\":{\"sync\":true,\"id\":\"16040691984013065295\",\"value\":{\"options\":{\"hideTerms\":false,\"edit\":false},\"curriculum\":{\"name\":\"Curriculum\",\"dp_name\":\"University of Missouri--Kansas City.csv\",\"curriculum_terms\":[{\"name\":\"Term 1\",\"curriculum_items\":[{\"curriculum_requisites\":[],\"name\":\" \",\"metrics\":{\"centrality\":0,\"complexity\":1.0,\"blocking factor\":0,\"delay factor\":1.0},\"nameSub\":\"ANCH 150\",\"id\":1,\"credits\":3,\"nameCanonical\":\"\"},{\"curriculum_requisites\":[],\"name\":\" \",\"metrics\":{\"centrality\":0,\"complexity\":1.0,\"blocking factor\":0,\"delay factor\":1.0},\"nameSub\":\"CHEM 211\",\"id\":2,\"credits\":5,\"nameCanonical\":\"\"},{\"curriculum_requisites\":[],\"name\":\" \",\"metrics\":{\"centrality\":0,\"complexity\":1.0,\"blocking factor\":0,\"delay factor\":1.0},\"nameSub\":\"DISC 100\",\"id\":3,\"credits\":3,\"nameCanonical\":\"\"},{\"curriculum_requisites\":[],\"name\":\" \",\"metrics\":{\"centrality\":0,\"complexity\":1.0,\"blocking factor\":0,\"delay factor\":1.0},\"nameSub\":\"ECE 130\",\"id\":4,\"credits\":3,\"nameCanonical\":\"\"},{\"curriculum_requisites\":[],\"name\":\" \",\"metrics\":{\"centrality\":0,\"complexity\":37.0,\"blocking factor\":27,\"delay factor\":10.0},\"nameSub\":\"MATH 210\",\"id\":5,\"credits\":4,\"nameCanonical\":\"\"}],\"id\":1},{\"name\":\"Term 2\",\"curriculum_items\":[{\"curriculum_requisites\":[{\"source_id\":5,\"target_id\":6,\"type\":\"CurriculumPrerequisite\"}],\"name\":\" \",\"metrics\":{\"centrality\":236,\"complexity\":34.0,\"blocking factor\":24,\"delay factor\":10.0},\"nameSub\":\"MATH 220\",\"id\":6,\"credits\":4,\"nameCanonical\":\"\"},{\"curriculum_requisites\":[{\"source_id\":5,\"target_id\":7,\"type\":\"CurriculumPrerequisite\"}],\"name\":\" \",\"metrics\":{\"centrality\":99,\"complexity\":27.0,\"blocking factor\":18,\"delay factor\":9.0},\"nameSub\":\"PHYS 240\",\"id\":7,\"credits\":5,\"nameCanonical\":\"\"},{\"curriculum_requisites\":[],\"name\":\" \",\"metrics\":{\"centrality\":0,\"complexity\":1.0,\"blocking factor\":0,\"delay factor\":1.0},\"nameSub\":\"ANCH 200\",\"id\":8,\"credits\":3,\"nameCanonical\":\"\"},{\"curriculum_requisites\":[],\"name\":\" \",\"metrics\":{\"centrality\":0,\"complexity\":1.0,\"blocking factor\":0,\"delay factor\":1.0},\"nameSub\":\"DISC 200\",\"id\":9,\"credits\":3,\"nameCanonical\":\"\"}],\"id\":2},{\"name\":\"Term 3\",\"curriculum_items\":[{\"curriculum_requisites\":[{\"source_id\":5,\"target_id\":10,\"type\":\"CurriculumPrerequisite\"}],\"name\":\" \",\"metrics\":{\"centrality\":3,\"complexity\":4.0,\"blocking factor\":1,\"delay factor\":3.0},\"nameSub\":\"ECE 216\",\"id\":10,\"credits\":4,\"nameCanonical\":\"\"},{\"curriculum_requisites\":[],\"name\":\" \",\"metrics\":{\"centrality\":0,\"complexity\":16.0,\"blocking factor\":10,\"delay factor\":6.0},\"nameSub\":\"ECE 226\",\"id\":11,\"credits\":3,\"nameCanonical\":\"\"},{\"curriculum_requisites\":[{\"source_id\":11,\"target_id\":12,\"type\":\"CurriculumCorequisite\"}],\"name\":\" \",\"metrics\":{\"centrality\":29,\"complexity\":14.0,\"blocking factor\":8,\"delay factor\":6.0},\"nameSub\":\"ECE 227\",\"id\":12,\"credits\":1,\"nameCanonical\":\"\"},{\"curriculum_requisites\":[{\"source_id\":6,\"target_id\":13,\"type\":\"CurriculumPrerequisite\"}],\"name\":\" \",\"metrics\":{\"centrality\":134,\"complexity\":31.0,\"blocking factor\":21,\"delay factor\":10.0},\"nameSub\":\"ECE 241\",\"id\":13,\"credits\":3,\"nameCanonical\":\"\"},{\"curriculum_requisites\":[{\"source_id\":7,\"target_id\":14,\"type\":\"CurriculumPrerequisite\"},{\"source_id\":6,\"target_id\":14,\"type\":\"CurriculumPrerequisite\"}],\"name\":\" \",\"metrics\":{\"centrality\":192,\"complexity\":25.0,\"blocking factor\":16,\"delay factor\":9.0},\"nameSub\":\"PHYS 250\",\"id\":14,\"credits\":5,\"nameCanonical\":\"\"}],\"id\":3},{\"name\":\"Term 4\",\"curriculum_items\":[{\"curriculum_requisites\":[{\"source_id\":11,\"target_id\":15,\"type\":\"CurriculumPrerequisite\"},{\"source_id\":12,\"target_id\":15,\"type\":\"CurriculumPrerequisite\"}],\"name\":\" \",\"metrics\":{\"centrality\":7,\"complexity\":5.0,\"blocking factor\":1,\"delay factor\":4.0},\"nameSub\":\"ECE 228\",\"id\":15,\"credits\":3,\"nameCanonical\":\"\"},{\"curriculum_requisites\":[{\"source_id\":11,\"target_id\":16,\"type\":\"CurriculumPrerequisite\"},{\"source_id\":15,\"target_id\":16,\"type\":\"CurriculumCorequisite\"},{\"source_id\":12,\"target_id\":16,\"type\":\"CurriculumPrerequisite\"}],\"name\":\" \",\"metrics\":{\"centrality\":0,\"complexity\":4.0,\"blocking factor\":0,\"delay factor\":4.0},\"nameSub\":\"ECE 229\",\"id\":16,\"credits\":1,\"nameCanonical\":\"\"},{\"curriculum_requisites\":[{\"source_id\":7,\"target_id\":17,\"type\":\"CurriculumPrerequisite\"},{\"source_id\":6,\"target_id\":17,\"type\":\"CurriculumPrerequisite\"}],\"name\":\" \",\"metrics\":{\"centrality\":0,\"complexity\":3.0,\"blocking factor\":0,\"delay factor\":3.0},\"nameSub\":\"ECE 250\",\"id\":17,\"credits\":3,\"nameCanonical\":\"\"},{\"curriculum_requisites\":[{\"source_id\":14,\"target_id\":18,\"type\":\"CurriculumPrerequisite\"},{\"source_id\":20,\"target_id\":18,\"type\":\"CurriculumCorequisite\"}],\"name\":\" \",\"metrics\":{\"centrality\":254,\"complexity\":24.0,\"blocking factor\":14,\"delay factor\":10.0},\"nameSub\":\"ECE 276\",\"id\":18,\"credits\":3,\"nameCanonical\":\"\"},{\"curriculum_requisites\":[{\"source_id\":18,\"target_id\":19,\"type\":\"CurriculumCorequisite\"}],\"name\":\" \",\"metrics\":{\"centrality\":47,\"complexity\":15.0,\"blocking factor\":5,\"delay factor\":10.0},\"nameSub\":\"ECE 277\",\"id\":19,\"credits\":1,\"nameCanonical\":\"\"},{\"curriculum_requisites\":[{\"source_id\":13,\"target_id\":20,\"type\":\"CurriculumPrerequisite\"}],\"name\":\" \",\"metrics\":{\"centrality\":130,\"complexity\":29.0,\"blocking factor\":19,\"delay factor\":10.0},\"nameSub\":\"ECE 341R\",\"id\":20,\"credits\":3,\"nameCanonical\":\"\"},{\"curriculum_requisites\":[{\"source_id\":13,\"target_id\":21,\"type\":\"CurriculumPrerequisite\"},{\"source_id\":10,\"target_id\":21,\"type\":\"CurriculumPrerequisite\"},{\"source_id\":6,\"target_id\":21,\"type\":\"CurriculumPrerequisite\"}],\"name\":\" \",\"metrics\":{\"centrality\":0,\"complexity\":4.0,\"blocking factor\":0,\"delay factor\":4.0},\"nameSub\":\"CS 394R\",\"id\":21,\"credits\":3,\"nameCanonical\":\"\"}],\"id\":4},{\"name\":\"Term 5\",\"curriculum_items\":[{\"curriculum_requisites\":[{\"source_id\":14,\"target_id\":22,\"type\":\"CurriculumPrerequisite\"},{\"source_id\":20,\"target_id\":22,\"type\":\"CurriculumPrerequisite\"}],\"name\":\" \",\"metrics\":{\"centrality\":0,\"complexity\":5.0,\"blocking factor\":0,\"delay factor\":5.0},\"nameSub\":\"ECE 334\",\"id\":22,\"credits\":3,\"nameCanonical\":\"\"},{\"curriculum_requisites\":[{\"source_id\":18,\"target_id\":23,\"type\":\"CurriculumPrerequisite\"}],\"name\":\" \",\"metrics\":{\"centrality\":129,\"complexity\":18.0,\"blocking factor\":9,\"delay factor\":9.0},\"nameSub\":\"ECE 376\",\"id\":23,\"credits\":3,\"nameCanonical\":\"\"},{\"curriculum_requisites\":[{\"source_id\":23,\"target_id\":24,\"type\":\"CurriculumCorequisite\"},{\"source_id\":19,\"target_id\":24,\"type\":\"CurriculumPrerequisite\"}],\"name\":\" \",\"metrics\":{\"centrality\":0,\"complexity\":7.0,\"blocking factor\":0,\"delay factor\":7.0},\"nameSub\":\"ECE 377\",\"id\":24,\"credits\":1,\"nameCanonical\":\"\"},{\"curriculum_requisites\":[{\"source_id\":20,\"target_id\":25,\"type\":\"CurriculumPrerequisite\"}],\"name\":\" \",\"metrics\":{\"centrality\":20,\"complexity\":12.0,\"blocking factor\":5,\"delay factor\":7.0},\"nameSub\":\"ECE 380\",\"id\":25,\"credits\":3,\"nameCanonical\":\"\"},{\"curriculum_requisites\":[{\"source_id\":25,\"target_id\":26,\"type\":\"CurriculumCorequisite\"}],\"name\":\" \",\"metrics\":{\"centrality\":0,\"complexity\":6.0,\"blocking factor\":0,\"delay factor\":6.0},\"nameSub\":\"ECE 381\",\"id\":26,\"credits\":1,\"nameCanonical\":\"\"},{\"curriculum_requisites\":[{\"source_id\":11,\"target_id\":27,\"type\":\"CurriculumPrerequisite\"}],\"name\":\" \",\"metrics\":{\"centrality\":40,\"complexity\":12.0,\"blocking factor\":6,\"delay factor\":6.0},\"nameSub\":\"ECE 426\",\"id\":27,\"credits\":3,\"nameCanonical\":\"\"},{\"curriculum_requisites\":[{\"source_id\":27,\"target_id\":28,\"type\":\"CurriculumCorequisite\"},{\"source_id\":12,\"target_id\":28,\"type\":\"CurriculumPrerequisite\"}],\"name\":\" \",\"metrics\":{\"centrality\":44,\"complexity\":11.0,\"blocking factor\":5,\"delay factor\":6.0},\"nameSub\":\"ECE 427\",\"id\":28,\"credits\":1,\"nameCanonical\":\"\"}],\"id\":5},{\"name\":\"Term 6\",\"curriculum_items\":[{\"curriculum_requisites\":[{\"source_id\":23,\"target_id\":29,\"type\":\"CurriculumPrerequisite\"},{\"source_id\":14,\"target_id\":29,\"type\":\"CurriculumPrerequisite\"},{\"source_id\":20,\"target_id\":29,\"type\":\"CurriculumPrerequisite\"}],\"name\":\" \",\"metrics\":{\"centrality\":82,\"complexity\":12.0,\"blocking factor\":3,\"delay factor\":9.0},\"nameSub\":\"ECE 302\",\"id\":29,\"credits\":3,\"nameCanonical\":\"\"},{\"curriculum_requisites\":[{\"source_id\":29,\"target_id\":30,\"type\":\"CurriculumCorequisite\"}],\"name\":\" \",\"metrics\":{\"centrality\":0,\"complexity\":8.0,\"blocking factor\":0,\"delay factor\":8.0},\"nameSub\":\"ECE 303\",\"id\":30,\"credits\":1,\"nameCanonical\":\"\"},{\"curriculum_requisites\":[{\"source_id\":18,\"target_id\":31,\"type\":\"CurriculumPrerequisite\"}],\"name\":\" \",\"metrics\":{\"centrality\":53,\"complexity\":14.0,\"blocking factor\":4,\"delay factor\":10.0},\"nameSub\":\"ECE 330\",\"id\":31,\"credits\":3,\"nameCanonical\":\"\"},{\"curriculum_requisites\":[{\"source_id\":31,\"target_id\":32,\"type\":\"CurriculumCorequisite\"},{\"source_id\":19,\"target_id\":32,\"type\":\"CurriculumPrerequisite\"},{\"source_id\":18,\"target_id\":32,\"type\":\"CurriculumPrerequisite\"}],\"name\":\" \",\"metrics\":{\"centrality\":81,\"complexity\":13.0,\"blocking factor\":3,\"delay factor\":10.0},\"nameSub\":\"ECE 331\",\"id\":32,\"credits\":1,\"nameCanonical\":\"\"},{\"curriculum_requisites\":[{\"source_id\":35,\"target_id\":33,\"type\":\"CurriculumCorequisite\"},{\"source_id\":34,\"target_id\":33,\"type\":\"CurriculumCorequisite\"}],\"name\":\" \",\"metrics\":{\"centrality\":0,\"complexity\":6.0,\"blocking factor\":0,\"delay factor\":6.0},\"nameSub\":\"ECE 420\",\"id\":33,\"credits\":2,\"nameCanonical\":\"\"},{\"curriculum_requisites\":[{\"source_id\":27,\"target_id\":34,\"type\":\"CurriculumPrerequisite\"},{\"source_id\":28,\"target_id\":34,\"type\":\"CurriculumPrerequisite\"}],\"name\":\" \",\"metrics\":{\"centrality\":48,\"complexity\":10.0,\"blocking factor\":4,\"delay factor\":6.0},\"nameSub\":\"ECE 428R\",\"id\":34,\"credits\":3,\"nameCanonical\":\"\"},{\"curriculum_requisites\":[{\"source_id\":34,\"target_id\":35,\"type\":\"CurriculumCorequisite\"},{\"source_id\":27,\"target_id\":35,\"type\":\"CurriculumPrerequisite\"},{\"source_id\":28,\"target_id\":35,\"type\":\"CurriculumPrerequisite\"}],\"name\":\" \",\"metrics\":{\"centrality\":31,\"complexity\":7.0,\"blocking factor\":1,\"delay factor\":6.0},\"nameSub\":\"ECE 429\",\"id\":35,\"credits\":1,\"nameCanonical\":\"\"},{\"curriculum_requisites\":[{\"source_id\":23,\"target_id\":36,\"type\":\"CurriculumPrerequisite\"}],\"name\":\" \",\"metrics\":{\"centrality\":44,\"complexity\":10.0,\"blocking factor\":2,\"delay factor\":8.0},\"nameSub\":\"ECE 466\",\"id\":36,\"credits\":3,\"nameCanonical\":\"\"}],\"id\":6},{\"name\":\"Term 7\",\"curriculum_items\":[{\"curriculum_requisites\":[{\"source_id\":25,\"target_id\":37,\"type\":\"CurriculumPrerequisite\"}],\"name\":\" \",\"metrics\":{\"centrality\":7,\"complexity\":8.0,\"blocking factor\":1,\"delay factor\":7.0},\"nameSub\":\"ECE 358\",\"id\":37,\"credits\":3,\"nameCanonical\":\"\"},{\"curriculum_requisites\":[{\"source_id\":25,\"target_id\":38,\"type\":\"CurriculumPrerequisite\"},{\"source_id\":34,\"target_id\":38,\"type\":\"CurriculumPrerequisite\"},{\"source_id\":29,\"target_id\":38,\"type\":\"CurriculumPrerequisite\"},{\"source_id\":39,\"target_id\":38,\"type\":\"CurriculumCorequisite\"}],\"name\":\" \",\"metrics\":{\"centrality\":174,\"complexity\":11.0,\"blocking factor\":1,\"delay factor\":10.0},\"nameSub\":\"ECE 402\",\"id\":38,\"credits\":2,\"nameCanonical\":\"\"},{\"curriculum_requisites\":[{\"source_id\":31,\"target_id\":39,\"type\":\"CurriculumPrerequisite\"},{\"source_id\":32,\"target_id\":39,\"type\":\"CurriculumPrerequisite\"}],\"name\":\" \",\"metrics\":{\"centrality\":106,\"complexity\":12.0,\"blocking factor\":2,\"delay factor\":10.0},\"nameSub\":\"ECE 430\",\"id\":39,\"credits\":3,\"nameCanonical\":\"\"},{\"curriculum_requisites\":[{\"source_id\":23,\"target_id\":40,\"type\":\"CurriculumPrerequisite\"}],\"name\":\" \",\"metrics\":{\"centrality\":0,\"complexity\":7.0,\"blocking factor\":0,\"delay factor\":7.0},\"nameSub\":\"ECE 466\",\"id\":40,\"credits\":3,\"nameCanonical\":\"\"},{\"curriculum_requisites\":[],\"name\":\" \",\"metrics\":{\"centrality\":0,\"complexity\":1.0,\"blocking factor\":0,\"delay factor\":1.0},\"nameSub\":\"ANCH 308\",\"id\":41,\"credits\":3,\"nameCanonical\":\"\"},{\"curriculum_requisites\":[],\"name\":\" \",\"metrics\":{\"centrality\":0,\"complexity\":1.0,\"blocking factor\":0,\"delay factor\":1.0},\"nameSub\":\"DISC 300\",\"id\":42,\"credits\":3,\"nameCanonical\":\"\"}],\"id\":7},{\"name\":\"Term 8\",\"curriculum_items\":[{\"curriculum_requisites\":[],\"name\":\" \",\"metrics\":{\"centrality\":0,\"complexity\":1.0,\"blocking factor\":0,\"delay factor\":1.0},\"nameSub\":\"FOCUS A\",\"id\":43,\"credits\":3,\"nameCanonical\":\"\"},{\"curriculum_requisites\":[],\"name\":\" \",\"metrics\":{\"centrality\":0,\"complexity\":1.0,\"blocking factor\":0,\"delay factor\":1.0},\"nameSub\":\"FOCUS B\",\"id\":44,\"credits\":3,\"nameCanonical\":\"\"},{\"curriculum_requisites\":[{\"source_id\":38,\"target_id\":45,\"type\":\"CurriculumPrerequisite\"}],\"name\":\" \",\"metrics\":{\"centrality\":0,\"complexity\":10.0,\"blocking factor\":0,\"delay factor\":10.0},\"nameSub\":\"ECE 403\",\"id\":45,\"credits\":1,\"nameCanonical\":\"\"},{\"curriculum_requisites\":[{\"source_id\":37,\"target_id\":46,\"type\":\"CurriculumPrerequisite\"},{\"source_id\":36,\"target_id\":46,\"type\":\"CurriculumPrerequisite\"}],\"name\":\" \",\"metrics\":{\"centrality\":0,\"complexity\":8.0,\"blocking factor\":0,\"delay factor\":8.0},\"nameSub\":\"ECE 467\",\"id\":46,\"credits\":3,\"nameCanonical\":\"\"},{\"curriculum_requisites\":[{\"source_id\":36,\"target_id\":47,\"type\":\"CurriculumPrerequisite\"}],\"name\":\" \",\"metrics\":{\"centrality\":0,\"complexity\":8.0,\"blocking factor\":0,\"delay factor\":8.0},\"nameSub\":\"ECE 472\",\"id\":47,\"credits\":3,\"nameCanonical\":\"\"}],\"id\":8}],\"institution\":\"\"}}}}},\"children\":[{\"props\":{\"src\":\"http:\\/\\/localhost:8156\",\"id\":\"curriculum\",\"events\":{\"load\":\"(function (){this.contentWindow.postMessage({\\\"options\\\":{\\\"hideTerms\\\":false,\\\"edit\\\":false},\\\"curriculum\\\":{\\\"name\\\":\\\"Curriculum\\\",\\\"dp_name\\\":\\\"University of Missouri--Kansas City.csv\\\",\\\"curriculum_terms\\\":[{\\\"name\\\":\\\"Term 1\\\",\\\"curriculum_items\\\":[{\\\"curriculum_requisites\\\":[],\\\"name\\\":\\\" \\\",\\\"metrics\\\":{\\\"centrality\\\":0,\\\"complexity\\\":1.0,\\\"blocking factor\\\":0,\\\"delay factor\\\":1.0},\\\"nameSub\\\":\\\"ANCH 150\\\",\\\"id\\\":1,\\\"credits\\\":3,\\\"nameCanonical\\\":\\\"\\\"},{\\\"curriculum_requisites\\\":[],\\\"name\\\":\\\" \\\",\\\"metrics\\\":{\\\"centrality\\\":0,\\\"complexity\\\":1.0,\\\"blocking factor\\\":0,\\\"delay factor\\\":1.0},\\\"nameSub\\\":\\\"CHEM 211\\\",\\\"id\\\":2,\\\"credits\\\":5,\\\"nameCanonical\\\":\\\"\\\"},{\\\"curriculum_requisites\\\":[],\\\"name\\\":\\\" \\\",\\\"metrics\\\":{\\\"centrality\\\":0,\\\"complexity\\\":1.0,\\\"blocking factor\\\":0,\\\"delay factor\\\":1.0},\\\"nameSub\\\":\\\"DISC 100\\\",\\\"id\\\":3,\\\"credits\\\":3,\\\"nameCanonical\\\":\\\"\\\"},{\\\"curriculum_requisites\\\":[],\\\"name\\\":\\\" \\\",\\\"metrics\\\":{\\\"centrality\\\":0,\\\"complexity\\\":1.0,\\\"blocking factor\\\":0,\\\"delay factor\\\":1.0},\\\"nameSub\\\":\\\"ECE 130\\\",\\\"id\\\":4,\\\"credits\\\":3,\\\"nameCanonical\\\":\\\"\\\"},{\\\"curriculum_requisites\\\":[],\\\"name\\\":\\\" \\\",\\\"metrics\\\":{\\\"centrality\\\":0,\\\"complexity\\\":37.0,\\\"blocking factor\\\":27,\\\"delay factor\\\":10.0},\\\"nameSub\\\":\\\"MATH 210\\\",\\\"id\\\":5,\\\"credits\\\":4,\\\"nameCanonical\\\":\\\"\\\"}],\\\"id\\\":1},{\\\"name\\\":\\\"Term 2\\\",\\\"curriculum_items\\\":[{\\\"curriculum_requisites\\\":[{\\\"source_id\\\":5,\\\"target_id\\\":6,\\\"type\\\":\\\"CurriculumPrerequisite\\\"}],\\\"name\\\":\\\" \\\",\\\"metrics\\\":{\\\"centrality\\\":236,\\\"complexity\\\":34.0,\\\"blocking factor\\\":24,\\\"delay factor\\\":10.0},\\\"nameSub\\\":\\\"MATH 220\\\",\\\"id\\\":6,\\\"credits\\\":4,\\\"nameCanonical\\\":\\\"\\\"},{\\\"curriculum_requisites\\\":[{\\\"source_id\\\":5,\\\"target_id\\\":7,\\\"type\\\":\\\"CurriculumPrerequisite\\\"}],\\\"name\\\":\\\" \\\",\\\"metrics\\\":{\\\"centrality\\\":99,\\\"complexity\\\":27.0,\\\"blocking factor\\\":18,\\\"delay factor\\\":9.0},\\\"nameSub\\\":\\\"PHYS 240\\\",\\\"id\\\":7,\\\"credits\\\":5,\\\"nameCanonical\\\":\\\"\\\"},{\\\"curriculum_requisites\\\":[],\\\"name\\\":\\\" \\\",\\\"metrics\\\":{\\\"centrality\\\":0,\\\"complexity\\\":1.0,\\\"blocking factor\\\":0,\\\"delay factor\\\":1.0},\\\"nameSub\\\":\\\"ANCH 200\\\",\\\"id\\\":8,\\\"credits\\\":3,\\\"nameCanonical\\\":\\\"\\\"},{\\\"curriculum_requisites\\\":[],\\\"name\\\":\\\" \\\",\\\"metrics\\\":{\\\"centrality\\\":0,\\\"complexity\\\":1.0,\\\"blocking factor\\\":0,\\\"delay factor\\\":1.0},\\\"nameSub\\\":\\\"DISC 200\\\",\\\"id\\\":9,\\\"credits\\\":3,\\\"nameCanonical\\\":\\\"\\\"}],\\\"id\\\":2},{\\\"name\\\":\\\"Term 3\\\",\\\"curriculum_items\\\":[{\\\"curriculum_requisites\\\":[{\\\"source_id\\\":5,\\\"target_id\\\":10,\\\"type\\\":\\\"CurriculumPrerequisite\\\"}],\\\"name\\\":\\\" \\\",\\\"metrics\\\":{\\\"centrality\\\":3,\\\"complexity\\\":4.0,\\\"blocking factor\\\":1,\\\"delay factor\\\":3.0},\\\"nameSub\\\":\\\"ECE 216\\\",\\\"id\\\":10,\\\"credits\\\":4,\\\"nameCanonical\\\":\\\"\\\"},{\\\"curriculum_requisites\\\":[],\\\"name\\\":\\\" \\\",\\\"metrics\\\":{\\\"centrality\\\":0,\\\"complexity\\\":16.0,\\\"blocking factor\\\":10,\\\"delay factor\\\":6.0},\\\"nameSub\\\":\\\"ECE 226\\\",\\\"id\\\":11,\\\"credits\\\":3,\\\"nameCanonical\\\":\\\"\\\"},{\\\"curriculum_requisites\\\":[{\\\"source_id\\\":11,\\\"target_id\\\":12,\\\"type\\\":\\\"CurriculumCorequisite\\\"}],\\\"name\\\":\\\" \\\",\\\"metrics\\\":{\\\"centrality\\\":29,\\\"complexity\\\":14.0,\\\"blocking factor\\\":8,\\\"delay factor\\\":6.0},\\\"nameSub\\\":\\\"ECE 227\\\",\\\"id\\\":12,\\\"credits\\\":1,\\\"nameCanonical\\\":\\\"\\\"},{\\\"curriculum_requisites\\\":[{\\\"source_id\\\":6,\\\"target_id\\\":13,\\\"type\\\":\\\"CurriculumPrerequisite\\\"}],\\\"name\\\":\\\" \\\",\\\"metrics\\\":{\\\"centrality\\\":134,\\\"complexity\\\":31.0,\\\"blocking factor\\\":21,\\\"delay factor\\\":10.0},\\\"nameSub\\\":\\\"ECE 241\\\",\\\"id\\\":13,\\\"credits\\\":3,\\\"nameCanonical\\\":\\\"\\\"},{\\\"curriculum_requisites\\\":[{\\\"source_id\\\":7,\\\"target_id\\\":14,\\\"type\\\":\\\"CurriculumPrerequisite\\\"},{\\\"source_id\\\":6,\\\"target_id\\\":14,\\\"type\\\":\\\"CurriculumPrerequisite\\\"}],\\\"name\\\":\\\" \\\",\\\"metrics\\\":{\\\"centrality\\\":192,\\\"complexity\\\":25.0,\\\"blocking factor\\\":16,\\\"delay factor\\\":9.0},\\\"nameSub\\\":\\\"PHYS 250\\\",\\\"id\\\":14,\\\"credits\\\":5,\\\"nameCanonical\\\":\\\"\\\"}],\\\"id\\\":3},{\\\"name\\\":\\\"Term 4\\\",\\\"curriculum_items\\\":[{\\\"curriculum_requisites\\\":[{\\\"source_id\\\":11,\\\"target_id\\\":15,\\\"type\\\":\\\"CurriculumPrerequisite\\\"},{\\\"source_id\\\":12,\\\"target_id\\\":15,\\\"type\\\":\\\"CurriculumPrerequisite\\\"}],\\\"name\\\":\\\" \\\",\\\"metrics\\\":{\\\"centrality\\\":7,\\\"complexity\\\":5.0,\\\"blocking factor\\\":1,\\\"delay factor\\\":4.0},\\\"nameSub\\\":\\\"ECE 228\\\",\\\"id\\\":15,\\\"credits\\\":3,\\\"nameCanonical\\\":\\\"\\\"},{\\\"curriculum_requisites\\\":[{\\\"source_id\\\":11,\\\"target_id\\\":16,\\\"type\\\":\\\"CurriculumPrerequisite\\\"},{\\\"source_id\\\":15,\\\"target_id\\\":16,\\\"type\\\":\\\"CurriculumCorequisite\\\"},{\\\"source_id\\\":12,\\\"target_id\\\":16,\\\"type\\\":\\\"CurriculumPrerequisite\\\"}],\\\"name\\\":\\\" \\\",\\\"metrics\\\":{\\\"centrality\\\":0,\\\"complexity\\\":4.0,\\\"blocking factor\\\":0,\\\"delay factor\\\":4.0},\\\"nameSub\\\":\\\"ECE 229\\\",\\\"id\\\":16,\\\"credits\\\":1,\\\"nameCanonical\\\":\\\"\\\"},{\\\"curriculum_requisites\\\":[{\\\"source_id\\\":7,\\\"target_id\\\":17,\\\"type\\\":\\\"CurriculumPrerequisite\\\"},{\\\"source_id\\\":6,\\\"target_id\\\":17,\\\"type\\\":\\\"CurriculumPrerequisite\\\"}],\\\"name\\\":\\\" \\\",\\\"metrics\\\":{\\\"centrality\\\":0,\\\"complexity\\\":3.0,\\\"blocking factor\\\":0,\\\"delay factor\\\":3.0},\\\"nameSub\\\":\\\"ECE 250\\\",\\\"id\\\":17,\\\"credits\\\":3,\\\"nameCanonical\\\":\\\"\\\"},{\\\"curriculum_requisites\\\":[{\\\"source_id\\\":14,\\\"target_id\\\":18,\\\"type\\\":\\\"CurriculumPrerequisite\\\"},{\\\"source_id\\\":20,\\\"target_id\\\":18,\\\"type\\\":\\\"CurriculumCorequisite\\\"}],\\\"name\\\":\\\" \\\",\\\"metrics\\\":{\\\"centrality\\\":254,\\\"complexity\\\":24.0,\\\"blocking factor\\\":14,\\\"delay factor\\\":10.0},\\\"nameSub\\\":\\\"ECE 276\\\",\\\"id\\\":18,\\\"credits\\\":3,\\\"nameCanonical\\\":\\\"\\\"},{\\\"curriculum_requisites\\\":[{\\\"source_id\\\":18,\\\"target_id\\\":19,\\\"type\\\":\\\"CurriculumCorequisite\\\"}],\\\"name\\\":\\\" \\\",\\\"metrics\\\":{\\\"centrality\\\":47,\\\"complexity\\\":15.0,\\\"blocking factor\\\":5,\\\"delay factor\\\":10.0},\\\"nameSub\\\":\\\"ECE 277\\\",\\\"id\\\":19,\\\"credits\\\":1,\\\"nameCanonical\\\":\\\"\\\"},{\\\"curriculum_requisites\\\":[{\\\"source_id\\\":13,\\\"target_id\\\":20,\\\"type\\\":\\\"CurriculumPrerequisite\\\"}],\\\"name\\\":\\\" \\\",\\\"metrics\\\":{\\\"centrality\\\":130,\\\"complexity\\\":29.0,\\\"blocking factor\\\":19,\\\"delay factor\\\":10.0},\\\"nameSub\\\":\\\"ECE 341R\\\",\\\"id\\\":20,\\\"credits\\\":3,\\\"nameCanonical\\\":\\\"\\\"},{\\\"curriculum_requisites\\\":[{\\\"source_id\\\":13,\\\"target_id\\\":21,\\\"type\\\":\\\"CurriculumPrerequisite\\\"},{\\\"source_id\\\":10,\\\"target_id\\\":21,\\\"type\\\":\\\"CurriculumPrerequisite\\\"},{\\\"source_id\\\":6,\\\"target_id\\\":21,\\\"type\\\":\\\"CurriculumPrerequisite\\\"}],\\\"name\\\":\\\" \\\",\\\"metrics\\\":{\\\"centrality\\\":0,\\\"complexity\\\":4.0,\\\"blocking factor\\\":0,\\\"delay factor\\\":4.0},\\\"nameSub\\\":\\\"CS 394R\\\",\\\"id\\\":21,\\\"credits\\\":3,\\\"nameCanonical\\\":\\\"\\\"}],\\\"id\\\":4},{\\\"name\\\":\\\"Term 5\\\",\\\"curriculum_items\\\":[{\\\"curriculum_requisites\\\":[{\\\"source_id\\\":14,\\\"target_id\\\":22,\\\"type\\\":\\\"CurriculumPrerequisite\\\"},{\\\"source_id\\\":20,\\\"target_id\\\":22,\\\"type\\\":\\\"CurriculumPrerequisite\\\"}],\\\"name\\\":\\\" \\\",\\\"metrics\\\":{\\\"centrality\\\":0,\\\"complexity\\\":5.0,\\\"blocking factor\\\":0,\\\"delay factor\\\":5.0},\\\"nameSub\\\":\\\"ECE 334\\\",\\\"id\\\":22,\\\"credits\\\":3,\\\"nameCanonical\\\":\\\"\\\"},{\\\"curriculum_requisites\\\":[{\\\"source_id\\\":18,\\\"target_id\\\":23,\\\"type\\\":\\\"CurriculumPrerequisite\\\"}],\\\"name\\\":\\\" \\\",\\\"metrics\\\":{\\\"centrality\\\":129,\\\"complexity\\\":18.0,\\\"blocking factor\\\":9,\\\"delay factor\\\":9.0},\\\"nameSub\\\":\\\"ECE 376\\\",\\\"id\\\":23,\\\"credits\\\":3,\\\"nameCanonical\\\":\\\"\\\"},{\\\"curriculum_requisites\\\":[{\\\"source_id\\\":23,\\\"target_id\\\":24,\\\"type\\\":\\\"CurriculumCorequisite\\\"},{\\\"source_id\\\":19,\\\"target_id\\\":24,\\\"type\\\":\\\"CurriculumPrerequisite\\\"}],\\\"name\\\":\\\" \\\",\\\"metrics\\\":{\\\"centrality\\\":0,\\\"complexity\\\":7.0,\\\"blocking factor\\\":0,\\\"delay factor\\\":7.0},\\\"nameSub\\\":\\\"ECE 377\\\",\\\"id\\\":24,\\\"credits\\\":1,\\\"nameCanonical\\\":\\\"\\\"},{\\\"curriculum_requisites\\\":[{\\\"source_id\\\":20,\\\"target_id\\\":25,\\\"type\\\":\\\"CurriculumPrerequisite\\\"}],\\\"name\\\":\\\" \\\",\\\"metrics\\\":{\\\"centrality\\\":20,\\\"complexity\\\":12.0,\\\"blocking factor\\\":5,\\\"delay factor\\\":7.0},\\\"nameSub\\\":\\\"ECE 380\\\",\\\"id\\\":25,\\\"credits\\\":3,\\\"nameCanonical\\\":\\\"\\\"},{\\\"curriculum_requisites\\\":[{\\\"source_id\\\":25,\\\"target_id\\\":26,\\\"type\\\":\\\"CurriculumCorequisite\\\"}],\\\"name\\\":\\\" \\\",\\\"metrics\\\":{\\\"centrality\\\":0,\\\"complexity\\\":6.0,\\\"blocking factor\\\":0,\\\"delay factor\\\":6.0},\\\"nameSub\\\":\\\"ECE 381\\\",\\\"id\\\":26,\\\"credits\\\":1,\\\"nameCanonical\\\":\\\"\\\"},{\\\"curriculum_requisites\\\":[{\\\"source_id\\\":11,\\\"target_id\\\":27,\\\"type\\\":\\\"CurriculumPrerequisite\\\"}],\\\"name\\\":\\\" \\\",\\\"metrics\\\":{\\\"centrality\\\":40,\\\"complexity\\\":12.0,\\\"blocking factor\\\":6,\\\"delay factor\\\":6.0},\\\"nameSub\\\":\\\"ECE 426\\\",\\\"id\\\":27,\\\"credits\\\":3,\\\"nameCanonical\\\":\\\"\\\"},{\\\"curriculum_requisites\\\":[{\\\"source_id\\\":27,\\\"target_id\\\":28,\\\"type\\\":\\\"CurriculumCorequisite\\\"},{\\\"source_id\\\":12,\\\"target_id\\\":28,\\\"type\\\":\\\"CurriculumPrerequisite\\\"}],\\\"name\\\":\\\" \\\",\\\"metrics\\\":{\\\"centrality\\\":44,\\\"complexity\\\":11.0,\\\"blocking factor\\\":5,\\\"delay factor\\\":6.0},\\\"nameSub\\\":\\\"ECE 427\\\",\\\"id\\\":28,\\\"credits\\\":1,\\\"nameCanonical\\\":\\\"\\\"}],\\\"id\\\":5},{\\\"name\\\":\\\"Term 6\\\",\\\"curriculum_items\\\":[{\\\"curriculum_requisites\\\":[{\\\"source_id\\\":23,\\\"target_id\\\":29,\\\"type\\\":\\\"CurriculumPrerequisite\\\"},{\\\"source_id\\\":14,\\\"target_id\\\":29,\\\"type\\\":\\\"CurriculumPrerequisite\\\"},{\\\"source_id\\\":20,\\\"target_id\\\":29,\\\"type\\\":\\\"CurriculumPrerequisite\\\"}],\\\"name\\\":\\\" \\\",\\\"metrics\\\":{\\\"centrality\\\":82,\\\"complexity\\\":12.0,\\\"blocking factor\\\":3,\\\"delay factor\\\":9.0},\\\"nameSub\\\":\\\"ECE 302\\\",\\\"id\\\":29,\\\"credits\\\":3,\\\"nameCanonical\\\":\\\"\\\"},{\\\"curriculum_requisites\\\":[{\\\"source_id\\\":29,\\\"target_id\\\":30,\\\"type\\\":\\\"CurriculumCorequisite\\\"}],\\\"name\\\":\\\" \\\",\\\"metrics\\\":{\\\"centrality\\\":0,\\\"complexity\\\":8.0,\\\"blocking factor\\\":0,\\\"delay factor\\\":8.0},\\\"nameSub\\\":\\\"ECE 303\\\",\\\"id\\\":30,\\\"credits\\\":1,\\\"nameCanonical\\\":\\\"\\\"},{\\\"curriculum_requisites\\\":[{\\\"source_id\\\":18,\\\"target_id\\\":31,\\\"type\\\":\\\"CurriculumPrerequisite\\\"}],\\\"name\\\":\\\" \\\",\\\"metrics\\\":{\\\"centrality\\\":53,\\\"complexity\\\":14.0,\\\"blocking factor\\\":4,\\\"delay factor\\\":10.0},\\\"nameSub\\\":\\\"ECE 330\\\",\\\"id\\\":31,\\\"credits\\\":3,\\\"nameCanonical\\\":\\\"\\\"},{\\\"curriculum_requisites\\\":[{\\\"source_id\\\":31,\\\"target_id\\\":32,\\\"type\\\":\\\"CurriculumCorequisite\\\"},{\\\"source_id\\\":19,\\\"target_id\\\":32,\\\"type\\\":\\\"CurriculumPrerequisite\\\"},{\\\"source_id\\\":18,\\\"target_id\\\":32,\\\"type\\\":\\\"CurriculumPrerequisite\\\"}],\\\"name\\\":\\\" \\\",\\\"metrics\\\":{\\\"centrality\\\":81,\\\"complexity\\\":13.0,\\\"blocking factor\\\":3,\\\"delay factor\\\":10.0},\\\"nameSub\\\":\\\"ECE 331\\\",\\\"id\\\":32,\\\"credits\\\":1,\\\"nameCanonical\\\":\\\"\\\"},{\\\"curriculum_requisites\\\":[{\\\"source_id\\\":35,\\\"target_id\\\":33,\\\"type\\\":\\\"CurriculumCorequisite\\\"},{\\\"source_id\\\":34,\\\"target_id\\\":33,\\\"type\\\":\\\"CurriculumCorequisite\\\"}],\\\"name\\\":\\\" \\\",\\\"metrics\\\":{\\\"centrality\\\":0,\\\"complexity\\\":6.0,\\\"blocking factor\\\":0,\\\"delay factor\\\":6.0},\\\"nameSub\\\":\\\"ECE 420\\\",\\\"id\\\":33,\\\"credits\\\":2,\\\"nameCanonical\\\":\\\"\\\"},{\\\"curriculum_requisites\\\":[{\\\"source_id\\\":27,\\\"target_id\\\":34,\\\"type\\\":\\\"CurriculumPrerequisite\\\"},{\\\"source_id\\\":28,\\\"target_id\\\":34,\\\"type\\\":\\\"CurriculumPrerequisite\\\"}],\\\"name\\\":\\\" \\\",\\\"metrics\\\":{\\\"centrality\\\":48,\\\"complexity\\\":10.0,\\\"blocking factor\\\":4,\\\"delay factor\\\":6.0},\\\"nameSub\\\":\\\"ECE 428R\\\",\\\"id\\\":34,\\\"credits\\\":3,\\\"nameCanonical\\\":\\\"\\\"},{\\\"curriculum_requisites\\\":[{\\\"source_id\\\":34,\\\"target_id\\\":35,\\\"type\\\":\\\"CurriculumCorequisite\\\"},{\\\"source_id\\\":27,\\\"target_id\\\":35,\\\"type\\\":\\\"CurriculumPrerequisite\\\"},{\\\"source_id\\\":28,\\\"target_id\\\":35,\\\"type\\\":\\\"CurriculumPrerequisite\\\"}],\\\"name\\\":\\\" \\\",\\\"metrics\\\":{\\\"centrality\\\":31,\\\"complexity\\\":7.0,\\\"blocking factor\\\":1,\\\"delay factor\\\":6.0},\\\"nameSub\\\":\\\"ECE 429\\\",\\\"id\\\":35,\\\"credits\\\":1,\\\"nameCanonical\\\":\\\"\\\"},{\\\"curriculum_requisites\\\":[{\\\"source_id\\\":23,\\\"target_id\\\":36,\\\"type\\\":\\\"CurriculumPrerequisite\\\"}],\\\"name\\\":\\\" \\\",\\\"metrics\\\":{\\\"centrality\\\":44,\\\"complexity\\\":10.0,\\\"blocking factor\\\":2,\\\"delay factor\\\":8.0},\\\"nameSub\\\":\\\"ECE 466\\\",\\\"id\\\":36,\\\"credits\\\":3,\\\"nameCanonical\\\":\\\"\\\"}],\\\"id\\\":6},{\\\"name\\\":\\\"Term 7\\\",\\\"curriculum_items\\\":[{\\\"curriculum_requisites\\\":[{\\\"source_id\\\":25,\\\"target_id\\\":37,\\\"type\\\":\\\"CurriculumPrerequisite\\\"}],\\\"name\\\":\\\" \\\",\\\"metrics\\\":{\\\"centrality\\\":7,\\\"complexity\\\":8.0,\\\"blocking factor\\\":1,\\\"delay factor\\\":7.0},\\\"nameSub\\\":\\\"ECE 358\\\",\\\"id\\\":37,\\\"credits\\\":3,\\\"nameCanonical\\\":\\\"\\\"},{\\\"curriculum_requisites\\\":[{\\\"source_id\\\":25,\\\"target_id\\\":38,\\\"type\\\":\\\"CurriculumPrerequisite\\\"},{\\\"source_id\\\":34,\\\"target_id\\\":38,\\\"type\\\":\\\"CurriculumPrerequisite\\\"},{\\\"source_id\\\":29,\\\"target_id\\\":38,\\\"type\\\":\\\"CurriculumPrerequisite\\\"},{\\\"source_id\\\":39,\\\"target_id\\\":38,\\\"type\\\":\\\"CurriculumCorequisite\\\"}],\\\"name\\\":\\\" \\\",\\\"metrics\\\":{\\\"centrality\\\":174,\\\"complexity\\\":11.0,\\\"blocking factor\\\":1,\\\"delay factor\\\":10.0},\\\"nameSub\\\":\\\"ECE 402\\\",\\\"id\\\":38,\\\"credits\\\":2,\\\"nameCanonical\\\":\\\"\\\"},{\\\"curriculum_requisites\\\":[{\\\"source_id\\\":31,\\\"target_id\\\":39,\\\"type\\\":\\\"CurriculumPrerequisite\\\"},{\\\"source_id\\\":32,\\\"target_id\\\":39,\\\"type\\\":\\\"CurriculumPrerequisite\\\"}],\\\"name\\\":\\\" \\\",\\\"metrics\\\":{\\\"centrality\\\":106,\\\"complexity\\\":12.0,\\\"blocking factor\\\":2,\\\"delay factor\\\":10.0},\\\"nameSub\\\":\\\"ECE 430\\\",\\\"id\\\":39,\\\"credits\\\":3,\\\"nameCanonical\\\":\\\"\\\"},{\\\"curriculum_requisites\\\":[{\\\"source_id\\\":23,\\\"target_id\\\":40,\\\"type\\\":\\\"CurriculumPrerequisite\\\"}],\\\"name\\\":\\\" \\\",\\\"metrics\\\":{\\\"centrality\\\":0,\\\"complexity\\\":7.0,\\\"blocking factor\\\":0,\\\"delay factor\\\":7.0},\\\"nameSub\\\":\\\"ECE 466\\\",\\\"id\\\":40,\\\"credits\\\":3,\\\"nameCanonical\\\":\\\"\\\"},{\\\"curriculum_requisites\\\":[],\\\"name\\\":\\\" \\\",\\\"metrics\\\":{\\\"centrality\\\":0,\\\"complexity\\\":1.0,\\\"blocking factor\\\":0,\\\"delay factor\\\":1.0},\\\"nameSub\\\":\\\"ANCH 308\\\",\\\"id\\\":41,\\\"credits\\\":3,\\\"nameCanonical\\\":\\\"\\\"},{\\\"curriculum_requisites\\\":[],\\\"name\\\":\\\" \\\",\\\"metrics\\\":{\\\"centrality\\\":0,\\\"complexity\\\":1.0,\\\"blocking factor\\\":0,\\\"delay factor\\\":1.0},\\\"nameSub\\\":\\\"DISC 300\\\",\\\"id\\\":42,\\\"credits\\\":3,\\\"nameCanonical\\\":\\\"\\\"}],\\\"id\\\":7},{\\\"name\\\":\\\"Term 8\\\",\\\"curriculum_items\\\":[{\\\"curriculum_requisites\\\":[],\\\"name\\\":\\\" \\\",\\\"metrics\\\":{\\\"centrality\\\":0,\\\"complexity\\\":1.0,\\\"blocking factor\\\":0,\\\"delay factor\\\":1.0},\\\"nameSub\\\":\\\"FOCUS A\\\",\\\"id\\\":43,\\\"credits\\\":3,\\\"nameCanonical\\\":\\\"\\\"},{\\\"curriculum_requisites\\\":[],\\\"name\\\":\\\" \\\",\\\"metrics\\\":{\\\"centrality\\\":0,\\\"complexity\\\":1.0,\\\"blocking factor\\\":0,\\\"delay factor\\\":1.0},\\\"nameSub\\\":\\\"FOCUS B\\\",\\\"id\\\":44,\\\"credits\\\":3,\\\"nameCanonical\\\":\\\"\\\"},{\\\"curriculum_requisites\\\":[{\\\"source_id\\\":38,\\\"target_id\\\":45,\\\"type\\\":\\\"CurriculumPrerequisite\\\"}],\\\"name\\\":\\\" \\\",\\\"metrics\\\":{\\\"centrality\\\":0,\\\"complexity\\\":10.0,\\\"blocking factor\\\":0,\\\"delay factor\\\":10.0},\\\"nameSub\\\":\\\"ECE 403\\\",\\\"id\\\":45,\\\"credits\\\":1,\\\"nameCanonical\\\":\\\"\\\"},{\\\"curriculum_requisites\\\":[{\\\"source_id\\\":37,\\\"target_id\\\":46,\\\"type\\\":\\\"CurriculumPrerequisite\\\"},{\\\"source_id\\\":36,\\\"target_id\\\":46,\\\"type\\\":\\\"CurriculumPrerequisite\\\"}],\\\"name\\\":\\\" \\\",\\\"metrics\\\":{\\\"centrality\\\":0,\\\"complexity\\\":8.0,\\\"blocking factor\\\":0,\\\"delay factor\\\":8.0},\\\"nameSub\\\":\\\"ECE 467\\\",\\\"id\\\":46,\\\"credits\\\":3,\\\"nameCanonical\\\":\\\"\\\"},{\\\"curriculum_requisites\\\":[{\\\"source_id\\\":36,\\\"target_id\\\":47,\\\"type\\\":\\\"CurriculumPrerequisite\\\"}],\\\"name\\\":\\\" \\\",\\\"metrics\\\":{\\\"centrality\\\":0,\\\"complexity\\\":8.0,\\\"blocking factor\\\":0,\\\"delay factor\\\":8.0},\\\"nameSub\\\":\\\"ECE 472\\\",\\\"id\\\":47,\\\"credits\\\":3,\\\"nameCanonical\\\":\\\"\\\"}],\\\"id\\\":8}],\\\"institution\\\":\\\"\\\"}},\\\"*\\\"); window.removeEventListener(\\\"message\\\",window.messageReceived); window.messageReceived=(function (event){return (event.data.curriculum!==undefined) ? (WebIO.setval({\\\"name\\\":\\\"curriculum-data\\\",\\\"scope\\\":\\\"4218797326517225769\\\",\\\"id\\\":\\\"16040691984013065295\\\",\\\"type\\\":\\\"observable\\\"},event.data.curriculum)) : undefined}); return window.addEventListener(\\\"message\\\",window.messageReceived)})\"},\"style\":{\"padding\":\"0\",\"height\":\"100vh\",\"margin\":\"0\",\"border\":\"none\",\"width\":\"100%\"}},\"nodeType\":\"DOM\",\"type\":\"node\",\"instanceArgs\":{\"namespace\":\"html\",\"tag\":\"iframe\"},\"children\":[\"\"]}]},\n",
       "            window,\n",
       "        );\n",
       "    } else {\n",
       "        document\n",
       "            .querySelector('[data-webio-mountpoint=\"13189745949508014308\"]')\n",
       "            .innerHTML = (\n",
       "                '<div style=\"padding: 1em; background-color: #f8d6da; border: 1px solid #f5c6cb\">' +\n",
       "                '<p><strong>WebIO not detected.</strong></p>' +\n",
       "                '<p>Please read ' +\n",
       "                '<a href=\"https://juliagizmos.github.io/WebIO.jl/latest/troubleshooting/not-detected/\" target=\"_blank\">the troubleshooting guide</a> ' +\n",
       "                'for more information on how to resolve this issue.</p>' +\n",
       "                '<p><a href=\"https://juliagizmos.github.io/WebIO.jl/latest/troubleshooting/not-detected/\" target=\"_blank\">https://juliagizmos.github.io/WebIO.jl/latest/troubleshooting/not-detected/</a></p>' +\n",
       "                '</div>'\n",
       "            );\n",
       "    }\n",
       "    </script>\n",
       "</div>\n"
      ],
      "text/plain": [
       "WebIO.Scope(WebIO.Node{WebIO.DOM}(WebIO.DOM(:html, :iframe), Any[\"\"], Dict{Symbol,Any}(:src => \"http://localhost:8156\",:id => \"curriculum\",:events => Dict{Symbol,WebIO.JSString}(:load => WebIO.JSString(\"(function (){this.contentWindow.postMessage({\\\"options\\\":{\\\"hideTerms\\\":false,\\\"edit\\\":false},\\\"curriculum\\\":{\\\"name\\\":\\\"Curriculum\\\",\\\"dp_name\\\":\\\"University of Missouri--Kansas City.csv\\\",\\\"curriculum_terms\\\":[{\\\"name\\\":\\\"Term 1\\\",\\\"curriculum_items\\\":[{\\\"curriculum_requisites\\\":[],\\\"name\\\":\\\" \\\",\\\"metrics\\\":{\\\"centrality\\\":0,\\\"complexity\\\":1.0,\\\"blocking factor\\\":0,\\\"delay factor\\\":1.0},\\\"nameSub\\\":\\\"ANCH 150\\\",\\\"id\\\":1,\\\"credits\\\":3,\\\"nameCanonical\\\":\\\"\\\"},{\\\"curriculum_requisites\\\":[],\\\"name\\\":\\\" \\\",\\\"metrics\\\":{\\\"centrality\\\":0,\\\"complexity\\\":1.0,\\\"blocking factor\\\":0,\\\"delay factor\\\":1.0},\\\"nameSub\\\":\\\"CHEM 211\\\",\\\"id\\\":2,\\\"credits\\\":5,\\\"nameCanonical\\\":\\\"\\\"},{\\\"curriculum_requisites\\\":[],\\\"name\\\":\\\" \\\",\\\"metrics\\\":{\\\"centrality\\\":0,\\\"complexity\\\":1.0,\\\"blocking factor\\\":0,\\\"delay factor\\\":1.0},\\\"nameSub\\\":\\\"DISC 100\\\",\\\"id\\\":3,\\\"credits\\\":3,\\\"nameCanonical\\\":\\\"\\\"},{\\\"curriculum_requisites\\\":[],\\\"name\\\":\\\" \\\",\\\"metrics\\\":{\\\"centrality\\\":0,\\\"complexity\\\":1.0,\\\"blocking factor\\\":0,\\\"delay factor\\\":1.0},\\\"nameSub\\\":\\\"ECE 130\\\",\\\"id\\\":4,\\\"credits\\\":3,\\\"nameCanonical\\\":\\\"\\\"},{\\\"curriculum_requisites\\\":[],\\\"name\\\":\\\" \\\",\\\"metrics\\\":{\\\"centrality\\\":0,\\\"complexity\\\":37.0,\\\"blocking factor\\\":27,\\\"delay factor\\\":10.0},\\\"nameSub\\\":\\\"MATH 210\\\",\\\"id\\\":5,\\\"credits\\\":4,\\\"nameCanonical\\\":\\\"\\\"}],\\\"id\\\":1},{\\\"name\\\":\\\"Term 2\\\",\\\"curriculum_items\\\":[{\\\"curriculum_requisites\\\":[{\\\"source_id\\\":5,\\\"target_id\\\":6,\\\"type\\\":\\\"CurriculumPrerequisite\\\"}],\\\"name\\\":\\\" \\\",\\\"metrics\\\":{\\\"centrality\\\":236,\\\"complexity\\\":34.0,\\\"blocking factor\\\":24,\\\"delay factor\\\":10.0},\\\"nameSub\\\":\\\"MATH 220\\\",\\\"id\\\":6,\\\"credits\\\":4,\\\"nameCanonical\\\":\\\"\\\"},{\\\"curriculum_requisites\\\":[{\\\"source_id\\\":5,\\\"target_id\\\":7,\\\"type\\\":\\\"CurriculumPrerequisite\\\"}],\\\"name\\\":\\\" \\\",\\\"metrics\\\":{\\\"centrality\\\":99,\\\"complexity\\\":27.0,\\\"blocking factor\\\":18,\\\"delay factor\\\":9.0},\\\"nameSub\\\":\\\"PHYS 240\\\",\\\"id\\\":7,\\\"credits\\\":5,\\\"nameCanonical\\\":\\\"\\\"},{\\\"curriculum_requisites\\\":[],\\\"name\\\":\\\" \\\",\\\"metrics\\\":{\\\"centrality\\\":0,\\\"complexity\\\":1.0,\\\"blocking factor\\\":0,\\\"delay factor\\\":1.0},\\\"nameSub\\\":\\\"ANCH 200\\\",\\\"id\\\":8,\\\"credits\\\":3,\\\"nameCanonical\\\":\\\"\\\"},{\\\"curriculum_requisites\\\":[],\\\"name\\\":\\\" \\\",\\\"metrics\\\":{\\\"centrality\\\":0,\\\"complexity\\\":1.0,\\\"blocking factor\\\":0,\\\"delay factor\\\":1.0},\\\"nameSub\\\":\\\"DISC 200\\\",\\\"id\\\":9,\\\"credits\\\":3,\\\"nameCanonical\\\":\\\"\\\"}],\\\"id\\\":2},{\\\"name\\\":\\\"Term 3\\\",\\\"curriculum_items\\\":[{\\\"curriculum_requisites\\\":[{\\\"source_id\\\":5,\\\"target_id\\\":10,\\\"type\\\":\\\"CurriculumPrerequisite\\\"}],\\\"name\\\":\\\" \\\",\\\"metrics\\\":{\\\"centrality\\\":3,\\\"complexity\\\":4.0,\\\"blocking factor\\\":1,\\\"delay factor\\\":3.0},\\\"nameSub\\\":\\\"ECE 216\\\",\\\"id\\\":10,\\\"credits\\\":4,\\\"nameCanonical\\\":\\\"\\\"},{\\\"curriculum_requisites\\\":[],\\\"name\\\":\\\" \\\",\\\"metrics\\\":{\\\"centrality\\\":0,\\\"complexity\\\":16.0,\\\"blocking factor\\\":10,\\\"delay factor\\\":6.0},\\\"nameSub\\\":\\\"ECE 226\\\",\\\"id\\\":11,\\\"credits\\\":3,\\\"nameCanonical\\\":\\\"\\\"},{\\\"curriculum_requisites\\\":[{\\\"source_id\\\":11,\\\"target_id\\\":12,\\\"type\\\":\\\"CurriculumCorequisite\\\"}],\\\"name\\\":\\\" \\\",\\\"metrics\\\":{\\\"centrality\\\":29,\\\"complexity\\\":14.0,\\\"blocking factor\\\":8,\\\"delay factor\\\":6.0},\\\"nameSub\\\":\\\"ECE 227\\\",\\\"id\\\":12,\\\"credits\\\":1,\\\"nameCanonical\\\":\\\"\\\"},{\\\"curriculum_requisites\\\":[{\\\"source_id\\\":6,\\\"target_id\\\":13,\\\"type\\\":\\\"CurriculumPrerequisite\\\"}],\\\"name\\\":\\\" \\\",\\\"metrics\\\":{\\\"centrality\\\":134,\\\"complexity\\\":31.0,\\\"blocking factor\\\":21,\\\"delay factor\\\":10.0},\\\"nameSub\\\":\\\"ECE 241\\\",\\\"id\\\":13,\\\"credits\\\":3,\\\"nameCanonical\\\":\\\"\\\"},{\\\"curriculum_requisites\\\":[{\\\"source_id\\\":7,\\\"target_id\\\":14,\\\"type\\\":\\\"CurriculumPrerequisite\\\"},{\\\"source_id\\\":6,\\\"target_id\\\":14,\\\"type\\\":\\\"CurriculumPrerequisite\\\"}],\\\"name\\\":\\\" \\\",\\\"metrics\\\":{\\\"centrality\\\":192,\\\"complexity\\\":25.0,\\\"blocking factor\\\":16,\\\"delay factor\\\":9.0},\\\"nameSub\\\":\\\"PHYS 250\\\",\\\"id\\\":14,\\\"credits\\\":5,\\\"nameCanonical\\\":\\\"\\\"}],\\\"id\\\":3},{\\\"name\\\":\\\"Term 4\\\",\\\"curriculum_items\\\":[{\\\"curriculum_requisites\\\":[{\\\"source_id\\\":11,\\\"target_id\\\":15,\\\"type\\\":\\\"CurriculumPrerequisite\\\"},{\\\"source_id\\\":12,\\\"target_id\\\":15,\\\"type\\\":\\\"CurriculumPrerequisite\\\"}],\\\"name\\\":\\\" \\\",\\\"metrics\\\":{\\\"centrality\\\":7,\\\"complexity\\\":5.0,\\\"blocking factor\\\":1,\\\"delay factor\\\":4.0},\\\"nameSub\\\":\\\"ECE 228\\\",\\\"id\\\":15,\\\"credits\\\":3,\\\"nameCanonical\\\":\\\"\\\"},{\\\"curriculum_requisites\\\":[{\\\"source_id\\\":11,\\\"target_id\\\":16,\\\"type\\\":\\\"CurriculumPrerequisite\\\"},{\\\"source_id\\\":15,\\\"target_id\\\":16,\\\"type\\\":\\\"CurriculumCorequisite\\\"},{\\\"source_id\\\":12,\\\"target_id\\\":16,\\\"type\\\":\\\"CurriculumPrerequisite\\\"}],\\\"name\\\":\\\" \\\",\\\"metrics\\\":{\\\"centrality\\\":0,\\\"complexity\\\":4.0,\\\"blocking factor\\\":0,\\\"delay factor\\\":4.0},\\\"nameSub\\\":\\\"ECE 229\\\",\\\"id\\\":16,\\\"credits\\\":1,\\\"nameCanonical\\\":\\\"\\\"},{\\\"curriculum_requisites\\\":[{\\\"source_id\\\":7,\\\"target_id\\\":17,\\\"type\\\":\\\"CurriculumPrerequisite\\\"},{\\\"source_id\\\":6,\\\"target_id\\\":17,\\\"type\\\":\\\"CurriculumPrerequisite\\\"}],\\\"name\\\":\\\" \\\",\\\"metrics\\\":{\\\"centrality\\\":0,\\\"complexity\\\":3.0,\\\"blocking factor\\\":0,\\\"delay factor\\\":3.0},\\\"nameSub\\\":\\\"ECE 250\\\",\\\"id\\\":17,\\\"credits\\\":3,\\\"nameCanonical\\\":\\\"\\\"},{\\\"curriculum_requisites\\\":[{\\\"source_id\\\":14,\\\"target_id\\\":18,\\\"type\\\":\\\"CurriculumPrerequisite\\\"},{\\\"source_id\\\":20,\\\"target_id\\\":18,\\\"type\\\":\\\"CurriculumCorequisite\\\"}],\\\"name\\\":\\\" \\\",\\\"metrics\\\":{\\\"centrality\\\":254,\\\"complexity\\\":24.0,\\\"blocking factor\\\":14,\\\"delay factor\\\":10.0},\\\"nameSub\\\":\\\"ECE 276\\\",\\\"id\\\":18,\\\"credits\\\":3,\\\"nameCanonical\\\":\\\"\\\"},{\\\"curriculum_requisites\\\":[{\\\"source_id\\\":18,\\\"target_id\\\":19,\\\"type\\\":\\\"CurriculumCorequisite\\\"}],\\\"name\\\":\\\" \\\",\\\"metrics\\\":{\\\"centrality\\\":47,\\\"complexity\\\":15.0,\\\"blocking factor\\\":5,\\\"delay factor\\\":10.0},\\\"nameSub\\\":\\\"ECE 277\\\",\\\"id\\\":19,\\\"credits\\\":1,\\\"nameCanonical\\\":\\\"\\\"},{\\\"curriculum_requisites\\\":[{\\\"source_id\\\":13,\\\"target_id\\\":20,\\\"type\\\":\\\"CurriculumPrerequisite\\\"}],\\\"name\\\":\\\" \\\",\\\"metrics\\\":{\\\"centrality\\\":130,\\\"complexity\\\":29.0,\\\"blocking factor\\\":19,\\\"delay factor\\\":10.0},\\\"nameSub\\\":\\\"ECE 341R\\\",\\\"id\\\":20,\\\"credits\\\":3,\\\"nameCanonical\\\":\\\"\\\"},{\\\"curriculum_requisites\\\":[{\\\"source_id\\\":13,\\\"target_id\\\":21,\\\"type\\\":\\\"CurriculumPrerequisite\\\"},{\\\"source_id\\\":10,\\\"target_id\\\":21,\\\"type\\\":\\\"CurriculumPrerequisite\\\"},{\\\"source_id\\\":6,\\\"target_id\\\":21,\\\"type\\\":\\\"CurriculumPrerequisite\\\"}],\\\"name\\\":\\\" \\\",\\\"metrics\\\":{\\\"centrality\\\":0,\\\"complexity\\\":4.0,\\\"blocking factor\\\":0,\\\"delay factor\\\":4.0},\\\"nameSub\\\":\\\"CS 394R\\\",\\\"id\\\":21,\\\"credits\\\":3,\\\"nameCanonical\\\":\\\"\\\"}],\\\"id\\\":4},{\\\"name\\\":\\\"Term 5\\\",\\\"curriculum_items\\\":[{\\\"curriculum_requisites\\\":[{\\\"source_id\\\":14,\\\"target_id\\\":22,\\\"type\\\":\\\"CurriculumPrerequisite\\\"},{\\\"source_id\\\":20,\\\"target_id\\\":22,\\\"type\\\":\\\"CurriculumPrerequisite\\\"}],\\\"name\\\":\\\" \\\",\\\"metrics\\\":{\\\"centrality\\\":0,\\\"complexity\\\":5.0,\\\"blocking factor\\\":0,\\\"delay factor\\\":5.0},\\\"nameSub\\\":\\\"ECE 334\\\",\\\"id\\\":22,\\\"credits\\\":3,\\\"nameCanonical\\\":\\\"\\\"},{\\\"curriculum_requisites\\\":[{\\\"source_id\\\":18,\\\"target_id\\\":23,\\\"type\\\":\\\"CurriculumPrerequisite\\\"}],\\\"name\\\":\\\" \\\",\\\"metrics\\\":{\\\"centrality\\\":129,\\\"complexity\\\":18.0,\\\"blocking factor\\\":9,\\\"delay factor\\\":9.0},\\\"nameSub\\\":\\\"ECE 376\\\",\\\"id\\\":23,\\\"credits\\\":3,\\\"nameCanonical\\\":\\\"\\\"},{\\\"curriculum_requisites\\\":[{\\\"source_id\\\":23,\\\"target_id\\\":24,\\\"type\\\":\\\"CurriculumCorequisite\\\"},{\\\"source_id\\\":19,\\\"target_id\\\":24,\\\"type\\\":\\\"CurriculumPrerequisite\\\"}],\\\"name\\\":\\\" \\\",\\\"metrics\\\":{\\\"centrality\\\":0,\\\"complexity\\\":7.0,\\\"blocking factor\\\":0,\\\"delay factor\\\":7.0},\\\"nameSub\\\":\\\"ECE 377\\\",\\\"id\\\":24,\\\"credits\\\":1,\\\"nameCanonical\\\":\\\"\\\"},{\\\"curriculum_requisites\\\":[{\\\"source_id\\\":20,\\\"target_id\\\":25,\\\"type\\\":\\\"CurriculumPrerequisite\\\"}],\\\"name\\\":\\\" \\\",\\\"metrics\\\":{\\\"centrality\\\":20,\\\"complexity\\\":12.0,\\\"blocking factor\\\":5,\\\"delay factor\\\":7.0},\\\"nameSub\\\":\\\"ECE 380\\\",\\\"id\\\":25,\\\"credits\\\":3,\\\"nameCanonical\\\":\\\"\\\"},{\\\"curriculum_requisites\\\":[{\\\"source_id\\\":25,\\\"target_id\\\":26,\\\"type\\\":\\\"CurriculumCorequisite\\\"}],\\\"name\\\":\\\" \\\",\\\"metrics\\\":{\\\"centrality\\\":0,\\\"complexity\\\":6.0,\\\"blocking factor\\\":0,\\\"delay factor\\\":6.0},\\\"nameSub\\\":\\\"ECE 381\\\",\\\"id\\\":26,\\\"credits\\\":1,\\\"nameCanonical\\\":\\\"\\\"},{\\\"curriculum_requisites\\\":[{\\\"source_id\\\":11,\\\"target_id\\\":27,\\\"type\\\":\\\"CurriculumPrerequisite\\\"}],\\\"name\\\":\\\" \\\",\\\"metrics\\\":{\\\"centrality\\\":40,\\\"complexity\\\":12.0,\\\"blocking factor\\\":6,\\\"delay factor\\\":6.0},\\\"nameSub\\\":\\\"ECE 426\\\",\\\"id\\\":27,\\\"credits\\\":3,\\\"nameCanonical\\\":\\\"\\\"},{\\\"curriculum_requisites\\\":[{\\\"source_id\\\":27,\\\"target_id\\\":28,\\\"type\\\":\\\"CurriculumCorequisite\\\"},{\\\"source_id\\\":12,\\\"target_id\\\":28,\\\"type\\\":\\\"CurriculumPrerequisite\\\"}],\\\"name\\\":\\\" \\\",\\\"metrics\\\":{\\\"centrality\\\":44,\\\"complexity\\\":11.0,\\\"blocking factor\\\":5,\\\"delay factor\\\":6.0},\\\"nameSub\\\":\\\"ECE 427\\\",\\\"id\\\":28,\\\"credits\\\":1,\\\"nameCanonical\\\":\\\"\\\"}],\\\"id\\\":5},{\\\"name\\\":\\\"Term 6\\\",\\\"curriculum_items\\\":[{\\\"curriculum_requisites\\\":[{\\\"source_id\\\":23,\\\"target_id\\\":29,\\\"type\\\":\\\"CurriculumPrerequisite\\\"},{\\\"source_id\\\":14,\\\"target_id\\\":29,\\\"type\\\":\\\"CurriculumPrerequisite\\\"},{\\\"source_id\\\":20,\\\"target_id\\\":29,\\\"type\\\":\\\"CurriculumPrerequisite\\\"}],\\\"name\\\":\\\" \\\",\\\"metrics\\\":{\\\"centrality\\\":82,\\\"complexity\\\":12.0,\\\"blocking factor\\\":3,\\\"delay factor\\\":9.0},\\\"nameSub\\\":\\\"ECE 302\\\",\\\"id\\\":29,\\\"credits\\\":3,\\\"nameCanonical\\\":\\\"\\\"},{\\\"curriculum_requisites\\\":[{\\\"source_id\\\":29,\\\"target_id\\\":30,\\\"type\\\":\\\"CurriculumCorequisite\\\"}],\\\"name\\\":\\\" \\\",\\\"metrics\\\":{\\\"centrality\\\":0,\\\"complexity\\\":8.0,\\\"blocking factor\\\":0,\\\"delay factor\\\":8.0},\\\"nameSub\\\":\\\"ECE 303\\\",\\\"id\\\":30,\\\"credits\\\":1,\\\"nameCanonical\\\":\\\"\\\"},{\\\"curriculum_requisites\\\":[{\\\"source_id\\\":18,\\\"target_id\\\":31,\\\"type\\\":\\\"CurriculumPrerequisite\\\"}],\\\"name\\\":\\\" \\\",\\\"metrics\\\":{\\\"centrality\\\":53,\\\"complexity\\\":14.0,\\\"blocking factor\\\":4,\\\"delay factor\\\":10.0},\\\"nameSub\\\":\\\"ECE 330\\\",\\\"id\\\":31,\\\"credits\\\":3,\\\"nameCanonical\\\":\\\"\\\"},{\\\"curriculum_requisites\\\":[{\\\"source_id\\\":31,\\\"target_id\\\":32,\\\"type\\\":\\\"CurriculumCorequisite\\\"},{\\\"source_id\\\":19,\\\"target_id\\\":32,\\\"type\\\":\\\"CurriculumPrerequisite\\\"},{\\\"source_id\\\":18,\\\"target_id\\\":32,\\\"type\\\":\\\"CurriculumPrerequisite\\\"}],\\\"name\\\":\\\" \\\",\\\"metrics\\\":{\\\"centrality\\\":81,\\\"complexity\\\":13.0,\\\"blocking factor\\\":3,\\\"delay factor\\\":10.0},\\\"nameSub\\\":\\\"ECE 331\\\",\\\"id\\\":32,\\\"credits\\\":1,\\\"nameCanonical\\\":\\\"\\\"},{\\\"curriculum_requisites\\\":[{\\\"source_id\\\":35,\\\"target_id\\\":33,\\\"type\\\":\\\"CurriculumCorequisite\\\"},{\\\"source_id\\\":34,\\\"target_id\\\":33,\\\"type\\\":\\\"CurriculumCorequisite\\\"}],\\\"name\\\":\\\" \\\",\\\"metrics\\\":{\\\"centrality\\\":0,\\\"complexity\\\":6.0,\\\"blocking factor\\\":0,\\\"delay factor\\\":6.0},\\\"nameSub\\\":\\\"ECE 420\\\",\\\"id\\\":33,\\\"credits\\\":2,\\\"nameCanonical\\\":\\\"\\\"},{\\\"curriculum_requisites\\\":[{\\\"source_id\\\":27,\\\"target_id\\\":34,\\\"type\\\":\\\"CurriculumPrerequisite\\\"},{\\\"source_id\\\":28,\\\"target_id\\\":34,\\\"type\\\":\\\"CurriculumPrerequisite\\\"}],\\\"name\\\":\\\" \\\",\\\"metrics\\\":{\\\"centrality\\\":48,\\\"complexity\\\":10.0,\\\"blocking factor\\\":4,\\\"delay factor\\\":6.0},\\\"nameSub\\\":\\\"ECE 428R\\\",\\\"id\\\":34,\\\"credits\\\":3,\\\"nameCanonical\\\":\\\"\\\"},{\\\"curriculum_requisites\\\":[{\\\"source_id\\\":34,\\\"target_id\\\":35,\\\"type\\\":\\\"CurriculumCorequisite\\\"},{\\\"source_id\\\":27,\\\"target_id\\\":35,\\\"type\\\":\\\"CurriculumPrerequisite\\\"},{\\\"source_id\\\":28,\\\"target_id\\\":35,\\\"type\\\":\\\"CurriculumPrerequisite\\\"}],\\\"name\\\":\\\" \\\",\\\"metrics\\\":{\\\"centrality\\\":31,\\\"complexity\\\":7.0,\\\"blocking factor\\\":1,\\\"delay factor\\\":6.0},\\\"nameSub\\\":\\\"ECE 429\\\",\\\"id\\\":35,\\\"credits\\\":1,\\\"nameCanonical\\\":\\\"\\\"},{\\\"curriculum_requisites\\\":[{\\\"source_id\\\":23,\\\"target_id\\\":36,\\\"type\\\":\\\"CurriculumPrerequisite\\\"}],\\\"name\\\":\\\" \\\",\\\"metrics\\\":{\\\"centrality\\\":44,\\\"complexity\\\":10.0,\\\"blocking factor\\\":2,\\\"delay factor\\\":8.0},\\\"nameSub\\\":\\\"ECE 466\\\",\\\"id\\\":36,\\\"credits\\\":3,\\\"nameCanonical\\\":\\\"\\\"}],\\\"id\\\":6},{\\\"name\\\":\\\"Term 7\\\",\\\"curriculum_items\\\":[{\\\"curriculum_requisites\\\":[{\\\"source_id\\\":25,\\\"target_id\\\":37,\\\"type\\\":\\\"CurriculumPrerequisite\\\"}],\\\"name\\\":\\\" \\\",\\\"metrics\\\":{\\\"centrality\\\":7,\\\"complexity\\\":8.0,\\\"blocking factor\\\":1,\\\"delay factor\\\":7.0},\\\"nameSub\\\":\\\"ECE 358\\\",\\\"id\\\":37,\\\"credits\\\":3,\\\"nameCanonical\\\":\\\"\\\"},{\\\"curriculum_requisites\\\":[{\\\"source_id\\\":25,\\\"target_id\\\":38,\\\"type\\\":\\\"CurriculumPrerequisite\\\"},{\\\"source_id\\\":34,\\\"target_id\\\":38,\\\"type\\\":\\\"CurriculumPrerequisite\\\"},{\\\"source_id\\\":29,\\\"target_id\\\":38,\\\"type\\\":\\\"CurriculumPrerequisite\\\"},{\\\"source_id\\\":39,\\\"target_id\\\":38,\\\"type\\\":\\\"CurriculumCorequisite\\\"}],\\\"name\\\":\\\" \\\",\\\"metrics\\\":{\\\"centrality\\\":174,\\\"complexity\\\":11.0,\\\"blocking factor\\\":1,\\\"delay factor\\\":10.0},\\\"nameSub\\\":\\\"ECE 402\\\",\\\"id\\\":38,\\\"credits\\\":2,\\\"nameCanonical\\\":\\\"\\\"},{\\\"curriculum_requisites\\\":[{\\\"source_id\\\":31,\\\"target_id\\\":39,\\\"type\\\":\\\"CurriculumPrerequisite\\\"},{\\\"source_id\\\":32,\\\"target_id\\\":39,\\\"type\\\":\\\"CurriculumPrerequisite\\\"}],\\\"name\\\":\\\" \\\",\\\"metrics\\\":{\\\"centrality\\\":106,\\\"complexity\\\":12.0,\\\"blocking factor\\\":2,\\\"delay factor\\\":10.0},\\\"nameSub\\\":\\\"ECE 430\\\",\\\"id\\\":39,\\\"credits\\\":3,\\\"nameCanonical\\\":\\\"\\\"},{\\\"curriculum_requisites\\\":[{\\\"source_id\\\":23,\\\"target_id\\\":40,\\\"type\\\":\\\"CurriculumPrerequisite\\\"}],\\\"name\\\":\\\" \\\",\\\"metrics\\\":{\\\"centrality\\\":0,\\\"complexity\\\":7.0,\\\"blocking factor\\\":0,\\\"delay factor\\\":7.0},\\\"nameSub\\\":\\\"ECE 466\\\",\\\"id\\\":40,\\\"credits\\\":3,\\\"nameCanonical\\\":\\\"\\\"},{\\\"curriculum_requisites\\\":[],\\\"name\\\":\\\" \\\",\\\"metrics\\\":{\\\"centrality\\\":0,\\\"complexity\\\":1.0,\\\"blocking factor\\\":0,\\\"delay factor\\\":1.0},\\\"nameSub\\\":\\\"ANCH 308\\\",\\\"id\\\":41,\\\"credits\\\":3,\\\"nameCanonical\\\":\\\"\\\"},{\\\"curriculum_requisites\\\":[],\\\"name\\\":\\\" \\\",\\\"metrics\\\":{\\\"centrality\\\":0,\\\"complexity\\\":1.0,\\\"blocking factor\\\":0,\\\"delay factor\\\":1.0},\\\"nameSub\\\":\\\"DISC 300\\\",\\\"id\\\":42,\\\"credits\\\":3,\\\"nameCanonical\\\":\\\"\\\"}],\\\"id\\\":7},{\\\"name\\\":\\\"Term 8\\\",\\\"curriculum_items\\\":[{\\\"curriculum_requisites\\\":[],\\\"name\\\":\\\" \\\",\\\"metrics\\\":{\\\"centrality\\\":0,\\\"complexity\\\":1.0,\\\"blocking factor\\\":0,\\\"delay factor\\\":1.0},\\\"nameSub\\\":\\\"FOCUS A\\\",\\\"id\\\":43,\\\"credits\\\":3,\\\"nameCanonical\\\":\\\"\\\"},{\\\"curriculum_requisites\\\":[],\\\"name\\\":\\\" \\\",\\\"metrics\\\":{\\\"centrality\\\":0,\\\"complexity\\\":1.0,\\\"blocking factor\\\":0,\\\"delay factor\\\":1.0},\\\"nameSub\\\":\\\"FOCUS B\\\",\\\"id\\\":44,\\\"credits\\\":3,\\\"nameCanonical\\\":\\\"\\\"},{\\\"curriculum_requisites\\\":[{\\\"source_id\\\":38,\\\"target_id\\\":45,\\\"type\\\":\\\"CurriculumPrerequisite\\\"}],\\\"name\\\":\\\" \\\",\\\"metrics\\\":{\\\"centrality\\\":0,\\\"complexity\\\":10.0,\\\"blocking factor\\\":0,\\\"delay factor\\\":10.0},\\\"nameSub\\\":\\\"ECE 403\\\",\\\"id\\\":45,\\\"credits\\\":1,\\\"nameCanonical\\\":\\\"\\\"},{\\\"curriculum_requisites\\\":[{\\\"source_id\\\":37,\\\"target_id\\\":46,\\\"type\\\":\\\"CurriculumPrerequisite\\\"},{\\\"source_id\\\":36,\\\"target_id\\\":46,\\\"type\\\":\\\"CurriculumPrerequisite\\\"}],\\\"name\\\":\\\" \\\",\\\"metrics\\\":{\\\"centrality\\\":0,\\\"complexity\\\":8.0,\\\"blocking factor\\\":0,\\\"delay factor\\\":8.0},\\\"nameSub\\\":\\\"ECE 467\\\",\\\"id\\\":46,\\\"credits\\\":3,\\\"nameCanonical\\\":\\\"\\\"},{\\\"curriculum_requisites\\\":[{\\\"source_id\\\":36,\\\"target_id\\\":47,\\\"type\\\":\\\"CurriculumPrerequisite\\\"}],\\\"name\\\":\\\" \\\",\\\"metrics\\\":{\\\"centrality\\\":0,\\\"complexity\\\":8.0,\\\"blocking factor\\\":0,\\\"delay factor\\\":8.0},\\\"nameSub\\\":\\\"ECE 472\\\",\\\"id\\\":47,\\\"credits\\\":3,\\\"nameCanonical\\\":\\\"\\\"}],\\\"id\\\":8}],\\\"institution\\\":\\\"\\\"}},\\\"*\\\"); window.removeEventListener(\\\"message\\\",window.messageReceived); window.messageReceived=(function (event){return (event.data.curriculum!==undefined) ? (WebIO.setval({\\\"name\\\":\\\"curriculum-data\\\",\\\"scope\\\":\\\"4218797326517225769\\\",\\\"id\\\":\\\"16040691984013065295\\\",\\\"type\\\":\\\"observable\\\"},event.data.curriculum)) : undefined}); return window.addEventListener(\\\"message\\\",window.messageReceived)})\")),:style => Dict(:padding => \"0\",:height => \"100vh\",:margin => \"0\",:border => \"none\",:width => \"100%\"))), Dict{String,Tuple{Observables.AbstractObservable,Union{Nothing, Bool}}}(\"curriculum-data\" => (Observable{Dict{String,Any}} with 1 listeners. Value:\n",
       "Dict{String,Any}(\"options\" => Dict{String,Any}(\"hideTerms\" => false,\"edit\" => false),\"curriculum\" => Dict{String,Any}(\"name\" => \"Curriculum\",\"dp_name\" => \"University of Missouri--Kansas City.csv\",\"curriculum_terms\" => Dict{String,Any}[Dict(\"name\" => \"Term 1\",\"curriculum_items\" => Dict{String,Any}[Dict(\"curriculum_requisites\" => Dict{String,Any}[],\"name\" => \" \",\"metrics\" => Dict{String,Any}(\"centrality\" => 0,\"complexity\" => 1.0,\"blocking factor\" => 0,\"delay factor\" => 1.0),\"nameSub\" => \"ANCH 150\",\"id\" => 1,\"credits\" => 3,\"nameCanonical\" => \"\"), Dict(\"curriculum_requisites\" => Dict{String,Any}[],\"name\" => \" \",\"metrics\" => Dict{String,Any}(\"centrality\" => 0,\"complexity\" => 1.0,\"blocking factor\" => 0,\"delay factor\" => 1.0),\"nameSub\" => \"CHEM 211\",\"id\" => 2,\"credits\" => 5,\"nameCanonical\" => \"\"), Dict(\"curriculum_requisites\" => Dict{String,Any}[],\"name\" => \" \",\"metrics\" => Dict{String,Any}(\"centrality\" => 0,\"complexity\" => 1.0,\"blocking factor\" => 0,\"delay factor\" => 1.0),\"nameSub\" => \"DISC 100\",\"id\" => 3,\"credits\" => 3,\"nameCanonical\" => \"\"), Dict(\"curriculum_requisites\" => Dict{String,Any}[],\"name\" => \" \",\"metrics\" => Dict{String,Any}(\"centrality\" => 0,\"complexity\" => 1.0,\"blocking factor\" => 0,\"delay factor\" => 1.0),\"nameSub\" => \"ECE 130\",\"id\" => 4,\"credits\" => 3,\"nameCanonical\" => \"\"), Dict(\"curriculum_requisites\" => Dict{String,Any}[],\"name\" => \" \",\"metrics\" => Dict{String,Any}(\"centrality\" => 0,\"complexity\" => 37.0,\"blocking factor\" => 27,\"delay factor\" => 10.0),\"nameSub\" => \"MATH 210\",\"id\" => 5,\"credits\" => 4,\"nameCanonical\" => \"\")],\"id\" => 1), Dict(\"name\" => \"Term 2\",\"curriculum_items\" => Dict{String,Any}[Dict(\"curriculum_requisites\" => Dict{String,Any}[Dict(\"source_id\" => 5,\"target_id\" => 6,\"type\" => \"CurriculumPrerequisite\")],\"name\" => \" \",\"metrics\" => Dict{String,Any}(\"centrality\" => 236,\"complexity\" => 34.0,\"blocking factor\" => 24,\"delay factor\" => 10.0),\"nameSub\" => \"MATH 220\",\"id\" => 6,\"credits\" => 4,\"nameCanonical\" => \"\"), Dict(\"curriculum_requisites\" => Dict{String,Any}[Dict(\"source_id\" => 5,\"target_id\" => 7,\"type\" => \"CurriculumPrerequisite\")],\"name\" => \" \",\"metrics\" => Dict{String,Any}(\"centrality\" => 99,\"complexity\" => 27.0,\"blocking factor\" => 18,\"delay factor\" => 9.0),\"nameSub\" => \"PHYS 240\",\"id\" => 7,\"credits\" => 5,\"nameCanonical\" => \"\"), Dict(\"curriculum_requisites\" => Dict{String,Any}[],\"name\" => \" \",\"metrics\" => Dict{String,Any}(\"centrality\" => 0,\"complexity\" => 1.0,\"blocking factor\" => 0,\"delay factor\" => 1.0),\"nameSub\" => \"ANCH 200\",\"id\" => 8,\"credits\" => 3,\"nameCanonical\" => \"\"), Dict(\"curriculum_requisites\" => Dict{String,Any}[],\"name\" => \" \",\"metrics\" => Dict{String,Any}(\"centrality\" => 0,\"complexity\" => 1.0,\"blocking factor\" => 0,\"delay factor\" => 1.0),\"nameSub\" => \"DISC 200\",\"id\" => 9,\"credits\" => 3,\"nameCanonical\" => \"\")],\"id\" => 2), Dict(\"name\" => \"Term 3\",\"curriculum_items\" => Dict{String,Any}[Dict(\"curriculum_requisites\" => Dict{String,Any}[Dict(\"source_id\" => 5,\"target_id\" => 10,\"type\" => \"CurriculumPrerequisite\")],\"name\" => \" \",\"metrics\" => Dict{String,Any}(\"centrality\" => 3,\"complexity\" => 4.0,\"blocking factor\" => 1,\"delay factor\" => 3.0),\"nameSub\" => \"ECE 216\",\"id\" => 10,\"credits\" => 4,\"nameCanonical\" => \"\"), Dict(\"curriculum_requisites\" => Dict{String,Any}[],\"name\" => \" \",\"metrics\" => Dict{String,Any}(\"centrality\" => 0,\"complexity\" => 16.0,\"blocking factor\" => 10,\"delay factor\" => 6.0),\"nameSub\" => \"ECE 226\",\"id\" => 11,\"credits\" => 3,\"nameCanonical\" => \"\"), Dict(\"curriculum_requisites\" => Dict{String,Any}[Dict(\"source_id\" => 11,\"target_id\" => 12,\"type\" => \"CurriculumCorequisite\")],\"name\" => \" \",\"metrics\" => Dict{String,Any}(\"centrality\" => 29,\"complexity\" => 14.0,\"blocking factor\" => 8,\"delay factor\" => 6.0),\"nameSub\" => \"ECE 227\",\"id\" => 12,\"credits\" => 1,\"nameCanonical\" => \"\"), Dict(\"curriculum_requisites\" => Dict{String,Any}[Dict(\"source_id\" => 6,\"target_id\" => 13,\"type\" => \"CurriculumPrerequisite\")],\"name\" => \" \",\"metrics\" => Dict{String,Any}(\"centrality\" => 134,\"complexity\" => 31.0,\"blocking factor\" => 21,\"delay factor\" => 10.0),\"nameSub\" => \"ECE 241\",\"id\" => 13,\"credits\" => 3,\"nameCanonical\" => \"\"), Dict(\"curriculum_requisites\" => Dict{String,Any}[Dict(\"source_id\" => 7,\"target_id\" => 14,\"type\" => \"CurriculumPrerequisite\"), Dict(\"source_id\" => 6,\"target_id\" => 14,\"type\" => \"CurriculumPrerequisite\")],\"name\" => \" \",\"metrics\" => Dict{String,Any}(\"centrality\" => 192,\"complexity\" => 25.0,\"blocking factor\" => 16,\"delay factor\" => 9.0),\"nameSub\" => \"PHYS 250\",\"id\" => 14,\"credits\" => 5,\"nameCanonical\" => \"\")],\"id\" => 3), Dict(\"name\" => \"Term 4\",\"curriculum_items\" => Dict{String,Any}[Dict(\"curriculum_requisites\" => Dict{String,Any}[Dict(\"source_id\" => 11,\"target_id\" => 15,\"type\" => \"CurriculumPrerequisite\"), Dict(\"source_id\" => 12,\"target_id\" => 15,\"type\" => \"CurriculumPrerequisite\")],\"name\" => \" \",\"metrics\" => Dict{String,Any}(\"centrality\" => 7,\"complexity\" => 5.0,\"blocking factor\" => 1,\"delay factor\" => 4.0),\"nameSub\" => \"ECE 228\",\"id\" => 15,\"credits\" => 3,\"nameCanonical\" => \"\"), Dict(\"curriculum_requisites\" => Dict{String,Any}[Dict(\"source_id\" => 11,\"target_id\" => 16,\"type\" => \"CurriculumPrerequisite\"), Dict(\"source_id\" => 15,\"target_id\" => 16,\"type\" => \"CurriculumCorequisite\"), Dict(\"source_id\" => 12,\"target_id\" => 16,\"type\" => \"CurriculumPrerequisite\")],\"name\" => \" \",\"metrics\" => Dict{String,Any}(\"centrality\" => 0,\"complexity\" => 4.0,\"blocking factor\" => 0,\"delay factor\" => 4.0),\"nameSub\" => \"ECE 229\",\"id\" => 16,\"credits\" => 1,\"nameCanonical\" => \"\"), Dict(\"curriculum_requisites\" => Dict{String,Any}[Dict(\"source_id\" => 7,\"target_id\" => 17,\"type\" => \"CurriculumPrerequisite\"), Dict(\"source_id\" => 6,\"target_id\" => 17,\"type\" => \"CurriculumPrerequisite\")],\"name\" => \" \",\"metrics\" => Dict{String,Any}(\"centrality\" => 0,\"complexity\" => 3.0,\"blocking factor\" => 0,\"delay factor\" => 3.0),\"nameSub\" => \"ECE 250\",\"id\" => 17,\"credits\" => 3,\"nameCanonical\" => \"\"), Dict(\"curriculum_requisites\" => Dict{String,Any}[Dict(\"source_id\" => 14,\"target_id\" => 18,\"type\" => \"CurriculumPrerequisite\"), Dict(\"source_id\" => 20,\"target_id\" => 18,\"type\" => \"CurriculumCorequisite\")],\"name\" => \" \",\"metrics\" => Dict{String,Any}(\"centrality\" => 254,\"complexity\" => 24.0,\"blocking factor\" => 14,\"delay factor\" => 10.0),\"nameSub\" => \"ECE 276\",\"id\" => 18,\"credits\" => 3,\"nameCanonical\" => \"\"), Dict(\"curriculum_requisites\" => Dict{String,Any}[Dict(\"source_id\" => 18,\"target_id\" => 19,\"type\" => \"CurriculumCorequisite\")],\"name\" => \" \",\"metrics\" => Dict{String,Any}(\"centrality\" => 47,\"complexity\" => 15.0,\"blocking factor\" => 5,\"delay factor\" => 10.0),\"nameSub\" => \"ECE 277\",\"id\" => 19,\"credits\" => 1,\"nameCanonical\" => \"\"), Dict(\"curriculum_requisites\" => Dict{String,Any}[Dict(\"source_id\" => 13,\"target_id\" => 20,\"type\" => \"CurriculumPrerequisite\")],\"name\" => \" \",\"metrics\" => Dict{String,Any}(\"centrality\" => 130,\"complexity\" => 29.0,\"blocking factor\" => 19,\"delay factor\" => 10.0),\"nameSub\" => \"ECE 341R\",\"id\" => 20,\"credits\" => 3,\"nameCanonical\" => \"\"), Dict(\"curriculum_requisites\" => Dict{String,Any}[Dict(\"source_id\" => 13,\"target_id\" => 21,\"type\" => \"CurriculumPrerequisite\"), Dict(\"source_id\" => 10,\"target_id\" => 21,\"type\" => \"CurriculumPrerequisite\"), Dict(\"source_id\" => 6,\"target_id\" => 21,\"type\" => \"CurriculumPrerequisite\")],\"name\" => \" \",\"metrics\" => Dict{String,Any}(\"centrality\" => 0,\"complexity\" => 4.0,\"blocking factor\" => 0,\"delay factor\" => 4.0),\"nameSub\" => \"CS 394R\",\"id\" => 21,\"credits\" => 3,\"nameCanonical\" => \"\")],\"id\" => 4), Dict(\"name\" => \"Term 5\",\"curriculum_items\" => Dict{String,Any}[Dict(\"curriculum_requisites\" => Dict{String,Any}[Dict(\"source_id\" => 14,\"target_id\" => 22,\"type\" => \"CurriculumPrerequisite\"), Dict(\"source_id\" => 20,\"target_id\" => 22,\"type\" => \"CurriculumPrerequisite\")],\"name\" => \" \",\"metrics\" => Dict{String,Any}(\"centrality\" => 0,\"complexity\" => 5.0,\"blocking factor\" => 0,\"delay factor\" => 5.0),\"nameSub\" => \"ECE 334\",\"id\" => 22,\"credits\" => 3,\"nameCanonical\" => \"\"), Dict(\"curriculum_requisites\" => Dict{String,Any}[Dict(\"source_id\" => 18,\"target_id\" => 23,\"type\" => \"CurriculumPrerequisite\")],\"name\" => \" \",\"metrics\" => Dict{String,Any}(\"centrality\" => 129,\"complexity\" => 18.0,\"blocking factor\" => 9,\"delay factor\" => 9.0),\"nameSub\" => \"ECE 376\",\"id\" => 23,\"credits\" => 3,\"nameCanonical\" => \"\"), Dict(\"curriculum_requisites\" => Dict{String,Any}[Dict(\"source_id\" => 23,\"target_id\" => 24,\"type\" => \"CurriculumCorequisite\"), Dict(\"source_id\" => 19,\"target_id\" => 24,\"type\" => \"CurriculumPrerequisite\")],\"name\" => \" \",\"metrics\" => Dict{String,Any}(\"centrality\" => 0,\"complexity\" => 7.0,\"blocking factor\" => 0,\"delay factor\" => 7.0),\"nameSub\" => \"ECE 377\",\"id\" => 24,\"credits\" => 1,\"nameCanonical\" => \"\"), Dict(\"curriculum_requisites\" => Dict{String,Any}[Dict(\"source_id\" => 20,\"target_id\" => 25,\"type\" => \"CurriculumPrerequisite\")],\"name\" => \" \",\"metrics\" => Dict{String,Any}(\"centrality\" => 20,\"complexity\" => 12.0,\"blocking factor\" => 5,\"delay factor\" => 7.0),\"nameSub\" => \"ECE 380\",\"id\" => 25,\"credits\" => 3,\"nameCanonical\" => \"\"), Dict(\"curriculum_requisites\" => Dict{String,Any}[Dict(\"source_id\" => 25,\"target_id\" => 26,\"type\" => \"CurriculumCorequisite\")],\"name\" => \" \",\"metrics\" => Dict{String,Any}(\"centrality\" => 0,\"complexity\" => 6.0,\"blocking factor\" => 0,\"delay factor\" => 6.0),\"nameSub\" => \"ECE 381\",\"id\" => 26,\"credits\" => 1,\"nameCanonical\" => \"\"), Dict(\"curriculum_requisites\" => Dict{String,Any}[Dict(\"source_id\" => 11,\"target_id\" => 27,\"type\" => \"CurriculumPrerequisite\")],\"name\" => \" \",\"metrics\" => Dict{String,Any}(\"centrality\" => 40,\"complexity\" => 12.0,\"blocking factor\" => 6,\"delay factor\" => 6.0),\"nameSub\" => \"ECE 426\",\"id\" => 27,\"credits\" => 3,\"nameCanonical\" => \"\"), Dict(\"curriculum_requisites\" => Dict{String,Any}[Dict(\"source_id\" => 27,\"target_id\" => 28,\"type\" => \"CurriculumCorequisite\"), Dict(\"source_id\" => 12,\"target_id\" => 28,\"type\" => \"CurriculumPrerequisite\")],\"name\" => \" \",\"metrics\" => Dict{String,Any}(\"centrality\" => 44,\"complexity\" => 11.0,\"blocking factor\" => 5,\"delay factor\" => 6.0),\"nameSub\" => \"ECE 427\",\"id\" => 28,\"credits\" => 1,\"nameCanonical\" => \"\")],\"id\" => 5), Dict(\"name\" => \"Term 6\",\"curriculum_items\" => Dict{String,Any}[Dict(\"curriculum_requisites\" => Dict{String,Any}[Dict(\"source_id\" => 23,\"target_id\" => 29,\"type\" => \"CurriculumPrerequisite\"), Dict(\"source_id\" => 14,\"target_id\" => 29,\"type\" => \"CurriculumPrerequisite\"), Dict(\"source_id\" => 20,\"target_id\" => 29,\"type\" => \"CurriculumPrerequisite\")],\"name\" => \" \",\"metrics\" => Dict{String,Any}(\"centrality\" => 82,\"complexity\" => 12.0,\"blocking factor\" => 3,\"delay factor\" => 9.0),\"nameSub\" => \"ECE 302\",\"id\" => 29,\"credits\" => 3,\"nameCanonical\" => \"\"), Dict(\"curriculum_requisites\" => Dict{String,Any}[Dict(\"source_id\" => 29,\"target_id\" => 30,\"type\" => \"CurriculumCorequisite\")],\"name\" => \" \",\"metrics\" => Dict{String,Any}(\"centrality\" => 0,\"complexity\" => 8.0,\"blocking factor\" => 0,\"delay factor\" => 8.0),\"nameSub\" => \"ECE 303\",\"id\" => 30,\"credits\" => 1,\"nameCanonical\" => \"\"), Dict(\"curriculum_requisites\" => Dict{String,Any}[Dict(\"source_id\" => 18,\"target_id\" => 31,\"type\" => \"CurriculumPrerequisite\")],\"name\" => \" \",\"metrics\" => Dict{String,Any}(\"centrality\" => 53,\"complexity\" => 14.0,\"blocking factor\" => 4,\"delay factor\" => 10.0),\"nameSub\" => \"ECE 330\",\"id\" => 31,\"credits\" => 3,\"nameCanonical\" => \"\"), Dict(\"curriculum_requisites\" => Dict{String,Any}[Dict(\"source_id\" => 31,\"target_id\" => 32,\"type\" => \"CurriculumCorequisite\"), Dict(\"source_id\" => 19,\"target_id\" => 32,\"type\" => \"CurriculumPrerequisite\"), Dict(\"source_id\" => 18,\"target_id\" => 32,\"type\" => \"CurriculumPrerequisite\")],\"name\" => \" \",\"metrics\" => Dict{String,Any}(\"centrality\" => 81,\"complexity\" => 13.0,\"blocking factor\" => 3,\"delay factor\" => 10.0),\"nameSub\" => \"ECE 331\",\"id\" => 32,\"credits\" => 1,\"nameCanonical\" => \"\"), Dict(\"curriculum_requisites\" => Dict{String,Any}[Dict(\"source_id\" => 35,\"target_id\" => 33,\"type\" => \"CurriculumCorequisite\"), Dict(\"source_id\" => 34,\"target_id\" => 33,\"type\" => \"CurriculumCorequisite\")],\"name\" => \" \",\"metrics\" => Dict{String,Any}(\"centrality\" => 0,\"complexity\" => 6.0,\"blocking factor\" => 0,\"delay factor\" => 6.0),\"nameSub\" => \"ECE 420\",\"id\" => 33,\"credits\" => 2,\"nameCanonical\" => \"\"), Dict(\"curriculum_requisites\" => Dict{String,Any}[Dict(\"source_id\" => 27,\"target_id\" => 34,\"type\" => \"CurriculumPrerequisite\"), Dict(\"source_id\" => 28,\"target_id\" => 34,\"type\" => \"CurriculumPrerequisite\")],\"name\" => \" \",\"metrics\" => Dict{String,Any}(\"centrality\" => 48,\"complexity\" => 10.0,\"blocking factor\" => 4,\"delay factor\" => 6.0),\"nameSub\" => \"ECE 428R\",\"id\" => 34,\"credits\" => 3,\"nameCanonical\" => \"\"), Dict(\"curriculum_requisites\" => Dict{String,Any}[Dict(\"source_id\" => 34,\"target_id\" => 35,\"type\" => \"CurriculumCorequisite\"), Dict(\"source_id\" => 27,\"target_id\" => 35,\"type\" => \"CurriculumPrerequisite\"), Dict(\"source_id\" => 28,\"target_id\" => 35,\"type\" => \"CurriculumPrerequisite\")],\"name\" => \" \",\"metrics\" => Dict{String,Any}(\"centrality\" => 31,\"complexity\" => 7.0,\"blocking factor\" => 1,\"delay factor\" => 6.0),\"nameSub\" => \"ECE 429\",\"id\" => 35,\"credits\" => 1,\"nameCanonical\" => \"\"), Dict(\"curriculum_requisites\" => Dict{String,Any}[Dict(\"source_id\" => 23,\"target_id\" => 36,\"type\" => \"CurriculumPrerequisite\")],\"name\" => \" \",\"metrics\" => Dict{String,Any}(\"centrality\" => 44,\"complexity\" => 10.0,\"blocking factor\" => 2,\"delay factor\" => 8.0),\"nameSub\" => \"ECE 466\",\"id\" => 36,\"credits\" => 3,\"nameCanonical\" => \"\")],\"id\" => 6), Dict(\"name\" => \"Term 7\",\"curriculum_items\" => Dict{String,Any}[Dict(\"curriculum_requisites\" => Dict{String,Any}[Dict(\"source_id\" => 25,\"target_id\" => 37,\"type\" => \"CurriculumPrerequisite\")],\"name\" => \" \",\"metrics\" => Dict{String,Any}(\"centrality\" => 7,\"complexity\" => 8.0,\"blocking factor\" => 1,\"delay factor\" => 7.0),\"nameSub\" => \"ECE 358\",\"id\" => 37,\"credits\" => 3,\"nameCanonical\" => \"\"), Dict(\"curriculum_requisites\" => Dict{String,Any}[Dict(\"source_id\" => 25,\"target_id\" => 38,\"type\" => \"CurriculumPrerequisite\"), Dict(\"source_id\" => 34,\"target_id\" => 38,\"type\" => \"CurriculumPrerequisite\"), Dict(\"source_id\" => 29,\"target_id\" => 38,\"type\" => \"CurriculumPrerequisite\"), Dict(\"source_id\" => 39,\"target_id\" => 38,\"type\" => \"CurriculumCorequisite\")],\"name\" => \" \",\"metrics\" => Dict{String,Any}(\"centrality\" => 174,\"complexity\" => 11.0,\"blocking factor\" => 1,\"delay factor\" => 10.0),\"nameSub\" => \"ECE 402\",\"id\" => 38,\"credits\" => 2,\"nameCanonical\" => \"\"), Dict(\"curriculum_requisites\" => Dict{String,Any}[Dict(\"source_id\" => 31,\"target_id\" => 39,\"type\" => \"CurriculumPrerequisite\"), Dict(\"source_id\" => 32,\"target_id\" => 39,\"type\" => \"CurriculumPrerequisite\")],\"name\" => \" \",\"metrics\" => Dict{String,Any}(\"centrality\" => 106,\"complexity\" => 12.0,\"blocking factor\" => 2,\"delay factor\" => 10.0),\"nameSub\" => \"ECE 430\",\"id\" => 39,\"credits\" => 3,\"nameCanonical\" => \"\"), Dict(\"curriculum_requisites\" => Dict{String,Any}[Dict(\"source_id\" => 23,\"target_id\" => 40,\"type\" => \"CurriculumPrerequisite\")],\"name\" => \" \",\"metrics\" => Dict{String,Any}(\"centrality\" => 0,\"complexity\" => 7.0,\"blocking factor\" => 0,\"delay factor\" => 7.0),\"nameSub\" => \"ECE 466\",\"id\" => 40,\"credits\" => 3,\"nameCanonical\" => \"\"), Dict(\"curriculum_requisites\" => Dict{String,Any}[],\"name\" => \" \",\"metrics\" => Dict{String,Any}(\"centrality\" => 0,\"complexity\" => 1.0,\"blocking factor\" => 0,\"delay factor\" => 1.0),\"nameSub\" => \"ANCH 308\",\"id\" => 41,\"credits\" => 3,\"nameCanonical\" => \"\"), Dict(\"curriculum_requisites\" => Dict{String,Any}[],\"name\" => \" \",\"metrics\" => Dict{String,Any}(\"centrality\" => 0,\"complexity\" => 1.0,\"blocking factor\" => 0,\"delay factor\" => 1.0),\"nameSub\" => \"DISC 300\",\"id\" => 42,\"credits\" => 3,\"nameCanonical\" => \"\")],\"id\" => 7), Dict(\"name\" => \"Term 8\",\"curriculum_items\" => Dict{String,Any}[Dict(\"curriculum_requisites\" => Dict{String,Any}[],\"name\" => \" \",\"metrics\" => Dict{String,Any}(\"centrality\" => 0,\"complexity\" => 1.0,\"blocking factor\" => 0,\"delay factor\" => 1.0),\"nameSub\" => \"FOCUS A\",\"id\" => 43,\"credits\" => 3,\"nameCanonical\" => \"\"), Dict(\"curriculum_requisites\" => Dict{String,Any}[],\"name\" => \" \",\"metrics\" => Dict{String,Any}(\"centrality\" => 0,\"complexity\" => 1.0,\"blocking factor\" => 0,\"delay factor\" => 1.0),\"nameSub\" => \"FOCUS B\",\"id\" => 44,\"credits\" => 3,\"nameCanonical\" => \"\"), Dict(\"curriculum_requisites\" => Dict{String,Any}[Dict(\"source_id\" => 38,\"target_id\" => 45,\"type\" => \"CurriculumPrerequisite\")],\"name\" => \" \",\"metrics\" => Dict{String,Any}(\"centrality\" => 0,\"complexity\" => 10.0,\"blocking factor\" => 0,\"delay factor\" => 10.0),\"nameSub\" => \"ECE 403\",\"id\" => 45,\"credits\" => 1,\"nameCanonical\" => \"\"), Dict(\"curriculum_requisites\" => Dict{String,Any}[Dict(\"source_id\" => 37,\"target_id\" => 46,\"type\" => \"CurriculumPrerequisite\"), Dict(\"source_id\" => 36,\"target_id\" => 46,\"type\" => \"CurriculumPrerequisite\")],\"name\" => \" \",\"metrics\" => Dict{String,Any}(\"centrality\" => 0,\"complexity\" => 8.0,\"blocking factor\" => 0,\"delay factor\" => 8.0),\"nameSub\" => \"ECE 467\",\"id\" => 46,\"credits\" => 3,\"nameCanonical\" => \"\"), Dict(\"curriculum_requisites\" => Dict{String,Any}[Dict(\"source_id\" => 36,\"target_id\" => 47,\"type\" => \"CurriculumPrerequisite\")],\"name\" => \" \",\"metrics\" => Dict{String,Any}(\"centrality\" => 0,\"complexity\" => 8.0,\"blocking factor\" => 0,\"delay factor\" => 8.0),\"nameSub\" => \"ECE 472\",\"id\" => 47,\"credits\" => 3,\"nameCanonical\" => \"\")],\"id\" => 8)],\"institution\" => \"\")), nothing)), Set{String}(), nothing, WebIO.Asset[], Dict{Any,Any}(), WebIO.ConnectionPool(Channel{Any}(sz_max:32,sz_curr:0), Set{WebIO.AbstractConnection}(), Base.GenericCondition{Base.AlwaysLockedST}(Base.InvasiveLinkedList{Task}(Task (runnable) @0x000000011717f3d0, Task (runnable) @0x000000011717f3d0), Base.AlwaysLockedST(1))), WebIO.JSString[])"
      ]
     },
     "execution_count": 39,
     "metadata": {
      "application/vnd.webio.node+json": {
       "kernelId": "b1669f0b-1be9-4309-a3b2-ec8cf4e6623c"
      }
     },
     "output_type": "execute_result"
    }
   ],
   "source": [
    "visualize(read_csv(\"./tier_bottom/University of Missouri--Kansas City.csv\"), notebook=true)"
   ]
  },
  {
   "cell_type": "markdown",
   "metadata": {},
   "source": [
    "Notice that the overall curricular complexity of the second degree plan is more than three times that of the first; however, the U.S. News & World Report ranking of the first school is much higher than that of the second.  The question we answer here is whether or not that relationship holds in general."
   ]
  },
  {
   "cell_type": "markdown",
   "metadata": {},
   "source": [
    "## Methology\n",
    "The most well-known rankings in higher education are conducted by the U.S. News & World Report. In this study we used the rankings provided by the U.S. News & World Report 2018 Best Undergraduate Engineering Programs survey as a proxy for program quality \\cite{BaBo:10,By:18}.  That is, for the purpose of this study, we assume that the \"best\" engineering programs are synonymous with the highest quality engineering programs.  We acknowledge the concerns that are routinely expressed concerning these rankings \\cite{}.  However, it should be noted that this study uses aggregations of schools with tiers, and the statistics associated with the aggregations.  Thus, the specific rankings of the schools within the tiers are irrelevant, all that matters is the tier in which a school is placed. Upon inspection of the schools within each tier, we believe that knowledgable and impartial observes would agree that the three tiers constructed in this study are highly correlated with the program quality.\n",
    "\n",
    "To appear on a U.S. News & World Report undergraduate engineering survey, a school must have at least one undergraduate engineering program that is accredited by ABET. Two surveys are conducted, one for schools whose highest engineering degree offered is a doctorate and another for schools whose highest engineering degree offered is a bachelor's or master's. For this study we consider the ranking provided by the former; that is, the ranking of doctoral institutions. This ranking is based solely on the peer assessment provided by deans and senior faculty members at doctoral institutions, and involves asking these survey participants to rate each program they are familiar with on a scale from 1 (marginal) to 5 (distinguished). Two peer assessment surveys are sent to each ABET-accredited engineering program at these schools, with a response rate of approximately 58%.  U.S. News & World Report uses the two most recent years' responses to calculate weighted average scores of programs, which determines the ranking. The U.S. News & World Report 2018 Best Undergraduate Engineering Programs rankings for doctoral institutions lists 205 schools, with a formal ranking designation given to the programs in the 1-177 range. Programs ranked lower than 177 are listed alphabetically and lumped into a ranking category. "
   ]
  },
  {
   "cell_type": "markdown",
   "metadata": {},
   "source": [
    "## Experimental Design\n",
    "The question of interest in this study is whether or not curricular complexity is related to program quality. In order to answer this question, we constructed an analysis of variance (ANOVA) experiment that involved partitioning the schools in the U.S. News & World Report 2018 Best Undergraduate Engineering Programs rankings according to their decile within the ranking. From these three groups were created as follows. A *top tier* of schools defined as those in the first decile of the ranking.  A *mid tier*, defined as the set of schools in the fifth and sixth deciles of the ranking that are equidistant from first to last ranked schools. Due to the large number of ties that occur in the middle of the ranking, this resulted in selecting only those schools tied for 82-nd and 99-nth in the ranking, for a total of 26 schools. A *bottom tier* of schools comprised of the schools ranked below 177, which spans approximately three deciles. The null hypothesis is:\n",
    "\n",
    "    \"There is no difference between the mean values of the curricular complexities of those schools belonging \n",
    "     to the top, mid and bottom tiers.\" \n",
    "\n",
    "The alternative hypothesis is then: \n",
    "\n",
    "    \"At least one of the curricular complexity mean values of a school tier differs significantly from the \n",
    "     means of the other two tiers.\"\n",
    "     \n",
    "Histograms showing the curricular complexity distributions for the random samples drawn from each of the three tiers are shown below."
   ]
  },
  {
   "cell_type": "code",
   "execution_count": 40,
   "metadata": {},
   "outputs": [],
   "source": [
    "tier_top_files = glob(\"*\", \"tier_top\")\n",
    "tier_middle_files = glob(\"*\", \"tier_middle\")\n",
    "tier_bottom_files = glob(\"*\", \"tier_bottom\")\n",
    "files = vcat(tier_top_files, tier_middle_files, tier_bottom_files)\n",
    "\n",
    "curriculum = Dict{String, Curriculum}()\n",
    "for csv_filepath in files\n",
    "    dp = read_csv(csv_filepath)\n",
    "    complexity(dp.curriculum)\n",
    "    curriculum[csv_filepath] = dp.curriculum\n",
    "end"
   ]
  },
  {
   "cell_type": "code",
   "execution_count": 41,
   "metadata": {},
   "outputs": [
    {
     "name": "stdout",
     "output_type": "stream",
     "text": [
      "Virginia Polytechnic Institute and State University => 410.0\n",
      "University of California--Los Angeles => 234.89999999999984\n",
      "Columbia University => 251.0\n",
      "California Institute of Technology => 85.50000000000006\n",
      "Northwestern University => 208.0\n",
      "Princeton University => 77.0\n",
      "Duke University => 133.0\n",
      "Johns Hopkins University => 181.0\n",
      "Purdue University => 249.0\n",
      "University of California--San Diego => 177.69999999999987\n",
      "University of California--Berkeley => 57.300000000000054\n",
      "University of Michigan--Ann Arbor => 174.0\n",
      "University of Illinois--Urbana-Champaign => 180.0\n",
      "Stanford University => 88.80000000000004\n",
      "Cornell University => 123.0\n",
      "Rice University => 153.0\n",
      "Carnegie Mellon University => 142.0\n",
      "University of Texas--Austin => 175.0\n",
      "Texas AM University--College Station => 373.0\n",
      "University of Wisconsin => 284.0\n",
      "Georgia Institute of Technology => 287.0\n",
      "Avg. curricular complexity = 192.58\n"
     ]
    },
    {
     "data": {
      "image/svg+xml": [
       "<?xml version=\"1.0\" encoding=\"utf-8\"?>\n",
       "<svg xmlns=\"http://www.w3.org/2000/svg\" xmlns:xlink=\"http://www.w3.org/1999/xlink\" width=\"600\" height=\"400\" viewBox=\"0 0 2400 1600\">\n",
       "<defs>\n",
       "  <clipPath id=\"clip340\">\n",
       "    <rect x=\"0\" y=\"0\" width=\"2400\" height=\"1600\"/>\n",
       "  </clipPath>\n",
       "</defs>\n",
       "<path clip-path=\"url(#clip340)\" d=\"\n",
       "M0 1600 L2400 1600 L2400 0 L0 0  Z\n",
       "  \" fill=\"#ffffff\" fill-rule=\"evenodd\" fill-opacity=\"1\"/>\n",
       "<defs>\n",
       "  <clipPath id=\"clip341\">\n",
       "    <rect x=\"480\" y=\"0\" width=\"1681\" height=\"1600\"/>\n",
       "  </clipPath>\n",
       "</defs>\n",
       "<path clip-path=\"url(#clip340)\" d=\"\n",
       "M234.82 1423.18 L2352.76 1423.18 L2352.76 123.472 L234.82 123.472  Z\n",
       "  \" fill=\"#ffffff\" fill-rule=\"evenodd\" fill-opacity=\"1\"/>\n",
       "<defs>\n",
       "  <clipPath id=\"clip342\">\n",
       "    <rect x=\"234\" y=\"123\" width=\"2119\" height=\"1301\"/>\n",
       "  </clipPath>\n",
       "</defs>\n",
       "<polyline clip-path=\"url(#clip342)\" style=\"stroke:#000000; stroke-width:2; stroke-opacity:0.1; fill:none\" points=\"\n",
       "  234.82,1423.18 234.82,123.472 \n",
       "  \"/>\n",
       "<polyline clip-path=\"url(#clip342)\" style=\"stroke:#000000; stroke-width:2; stroke-opacity:0.1; fill:none\" points=\"\n",
       "  658.407,1423.18 658.407,123.472 \n",
       "  \"/>\n",
       "<polyline clip-path=\"url(#clip342)\" style=\"stroke:#000000; stroke-width:2; stroke-opacity:0.1; fill:none\" points=\"\n",
       "  1081.99,1423.18 1081.99,123.472 \n",
       "  \"/>\n",
       "<polyline clip-path=\"url(#clip342)\" style=\"stroke:#000000; stroke-width:2; stroke-opacity:0.1; fill:none\" points=\"\n",
       "  1505.58,1423.18 1505.58,123.472 \n",
       "  \"/>\n",
       "<polyline clip-path=\"url(#clip342)\" style=\"stroke:#000000; stroke-width:2; stroke-opacity:0.1; fill:none\" points=\"\n",
       "  1929.17,1423.18 1929.17,123.472 \n",
       "  \"/>\n",
       "<polyline clip-path=\"url(#clip342)\" style=\"stroke:#000000; stroke-width:2; stroke-opacity:0.1; fill:none\" points=\"\n",
       "  2352.76,1423.18 2352.76,123.472 \n",
       "  \"/>\n",
       "<polyline clip-path=\"url(#clip342)\" style=\"stroke:#000000; stroke-width:2; stroke-opacity:0.1; fill:none\" points=\"\n",
       "  234.82,1423.18 2352.76,1423.18 \n",
       "  \"/>\n",
       "<polyline clip-path=\"url(#clip342)\" style=\"stroke:#000000; stroke-width:2; stroke-opacity:0.1; fill:none\" points=\"\n",
       "  234.82,1113.73 2352.76,1113.73 \n",
       "  \"/>\n",
       "<polyline clip-path=\"url(#clip342)\" style=\"stroke:#000000; stroke-width:2; stroke-opacity:0.1; fill:none\" points=\"\n",
       "  234.82,804.271 2352.76,804.271 \n",
       "  \"/>\n",
       "<polyline clip-path=\"url(#clip342)\" style=\"stroke:#000000; stroke-width:2; stroke-opacity:0.1; fill:none\" points=\"\n",
       "  234.82,494.817 2352.76,494.817 \n",
       "  \"/>\n",
       "<polyline clip-path=\"url(#clip342)\" style=\"stroke:#000000; stroke-width:2; stroke-opacity:0.1; fill:none\" points=\"\n",
       "  234.82,185.363 2352.76,185.363 \n",
       "  \"/>\n",
       "<polyline clip-path=\"url(#clip340)\" style=\"stroke:#000000; stroke-width:4; stroke-opacity:1; fill:none\" points=\"\n",
       "  234.82,1423.18 2352.76,1423.18 \n",
       "  \"/>\n",
       "<polyline clip-path=\"url(#clip340)\" style=\"stroke:#000000; stroke-width:4; stroke-opacity:1; fill:none\" points=\"\n",
       "  234.82,1423.18 234.82,123.472 \n",
       "  \"/>\n",
       "<polyline clip-path=\"url(#clip340)\" style=\"stroke:#000000; stroke-width:4; stroke-opacity:1; fill:none\" points=\"\n",
       "  234.82,1423.18 234.82,1407.58 \n",
       "  \"/>\n",
       "<polyline clip-path=\"url(#clip340)\" style=\"stroke:#000000; stroke-width:4; stroke-opacity:1; fill:none\" points=\"\n",
       "  658.407,1423.18 658.407,1407.58 \n",
       "  \"/>\n",
       "<polyline clip-path=\"url(#clip340)\" style=\"stroke:#000000; stroke-width:4; stroke-opacity:1; fill:none\" points=\"\n",
       "  1081.99,1423.18 1081.99,1407.58 \n",
       "  \"/>\n",
       "<polyline clip-path=\"url(#clip340)\" style=\"stroke:#000000; stroke-width:4; stroke-opacity:1; fill:none\" points=\"\n",
       "  1505.58,1423.18 1505.58,1407.58 \n",
       "  \"/>\n",
       "<polyline clip-path=\"url(#clip340)\" style=\"stroke:#000000; stroke-width:4; stroke-opacity:1; fill:none\" points=\"\n",
       "  1929.17,1423.18 1929.17,1407.58 \n",
       "  \"/>\n",
       "<polyline clip-path=\"url(#clip340)\" style=\"stroke:#000000; stroke-width:4; stroke-opacity:1; fill:none\" points=\"\n",
       "  2352.76,1423.18 2352.76,1407.58 \n",
       "  \"/>\n",
       "<polyline clip-path=\"url(#clip340)\" style=\"stroke:#000000; stroke-width:4; stroke-opacity:1; fill:none\" points=\"\n",
       "  234.82,1423.18 260.235,1423.18 \n",
       "  \"/>\n",
       "<polyline clip-path=\"url(#clip340)\" style=\"stroke:#000000; stroke-width:4; stroke-opacity:1; fill:none\" points=\"\n",
       "  234.82,1113.73 260.235,1113.73 \n",
       "  \"/>\n",
       "<polyline clip-path=\"url(#clip340)\" style=\"stroke:#000000; stroke-width:4; stroke-opacity:1; fill:none\" points=\"\n",
       "  234.82,804.271 260.235,804.271 \n",
       "  \"/>\n",
       "<polyline clip-path=\"url(#clip340)\" style=\"stroke:#000000; stroke-width:4; stroke-opacity:1; fill:none\" points=\"\n",
       "  234.82,494.817 260.235,494.817 \n",
       "  \"/>\n",
       "<polyline clip-path=\"url(#clip340)\" style=\"stroke:#000000; stroke-width:4; stroke-opacity:1; fill:none\" points=\"\n",
       "  234.82,185.363 260.235,185.363 \n",
       "  \"/>\n",
       "<path clip-path=\"url(#clip340)\" d=\"M 0 0 M234.82 1445.17 Q231.209 1445.17 229.38 1448.74 Q227.575 1452.28 227.575 1459.41 Q227.575 1466.51 229.38 1470.08 Q231.209 1473.62 234.82 1473.62 Q238.454 1473.62 240.26 1470.08 Q242.088 1466.51 242.088 1459.41 Q242.088 1452.28 240.26 1448.74 Q238.454 1445.17 234.82 1445.17 M234.82 1441.47 Q240.63 1441.47 243.686 1446.07 Q246.764 1450.66 246.764 1459.41 Q246.764 1468.13 243.686 1472.74 Q240.63 1477.32 234.82 1477.32 Q229.01 1477.32 225.931 1472.74 Q222.876 1468.13 222.876 1459.41 Q222.876 1450.66 225.931 1446.07 Q229.01 1441.47 234.82 1441.47 Z\" fill=\"#000000\" fill-rule=\"evenodd\" fill-opacity=\"1\" /><path clip-path=\"url(#clip340)\" d=\"M 0 0 M621.775 1472.72 L629.414 1472.72 L629.414 1446.35 L621.104 1448.02 L621.104 1443.76 L629.368 1442.09 L634.044 1442.09 L634.044 1472.72 L641.683 1472.72 L641.683 1476.65 L621.775 1476.65 L621.775 1472.72 Z\" fill=\"#000000\" fill-rule=\"evenodd\" fill-opacity=\"1\" /><path clip-path=\"url(#clip340)\" d=\"M 0 0 M656.752 1445.17 Q653.141 1445.17 651.312 1448.74 Q649.507 1452.28 649.507 1459.41 Q649.507 1466.51 651.312 1470.08 Q653.141 1473.62 656.752 1473.62 Q660.386 1473.62 662.192 1470.08 Q664.02 1466.51 664.02 1459.41 Q664.02 1452.28 662.192 1448.74 Q660.386 1445.17 656.752 1445.17 M656.752 1441.47 Q662.562 1441.47 665.618 1446.07 Q668.696 1450.66 668.696 1459.41 Q668.696 1468.13 665.618 1472.74 Q662.562 1477.32 656.752 1477.32 Q650.942 1477.32 647.863 1472.74 Q644.808 1468.13 644.808 1459.41 Q644.808 1450.66 647.863 1446.07 Q650.942 1441.47 656.752 1441.47 Z\" fill=\"#000000\" fill-rule=\"evenodd\" fill-opacity=\"1\" /><path clip-path=\"url(#clip340)\" d=\"M 0 0 M683.766 1445.17 Q680.155 1445.17 678.326 1448.74 Q676.52 1452.28 676.52 1459.41 Q676.52 1466.51 678.326 1470.08 Q680.155 1473.62 683.766 1473.62 Q687.4 1473.62 689.206 1470.08 Q691.034 1466.51 691.034 1459.41 Q691.034 1452.28 689.206 1448.74 Q687.4 1445.17 683.766 1445.17 M683.766 1441.47 Q689.576 1441.47 692.631 1446.07 Q695.71 1450.66 695.71 1459.41 Q695.71 1468.13 692.631 1472.74 Q689.576 1477.32 683.766 1477.32 Q677.956 1477.32 674.877 1472.74 Q671.821 1468.13 671.821 1459.41 Q671.821 1450.66 674.877 1446.07 Q677.956 1441.47 683.766 1441.47 Z\" fill=\"#000000\" fill-rule=\"evenodd\" fill-opacity=\"1\" /><path clip-path=\"url(#clip340)\" d=\"M 0 0 M1049.63 1472.72 L1065.95 1472.72 L1065.95 1476.65 L1044.01 1476.65 L1044.01 1472.72 Q1046.67 1469.96 1051.25 1465.33 Q1055.86 1460.68 1057.04 1459.34 Q1059.29 1456.81 1060.17 1455.08 Q1061.07 1453.32 1061.07 1451.63 Q1061.07 1448.87 1059.12 1447.14 Q1057.2 1445.4 1054.1 1445.4 Q1051.9 1445.4 1049.45 1446.17 Q1047.02 1446.93 1044.24 1448.48 L1044.24 1443.76 Q1047.06 1442.62 1049.52 1442.05 Q1051.97 1441.47 1054.01 1441.47 Q1059.38 1441.47 1062.57 1444.15 Q1065.77 1446.84 1065.77 1451.33 Q1065.77 1453.46 1064.96 1455.38 Q1064.17 1457.28 1062.06 1459.87 Q1061.49 1460.54 1058.38 1463.76 Q1055.28 1466.95 1049.63 1472.72 Z\" fill=\"#000000\" fill-rule=\"evenodd\" fill-opacity=\"1\" /><path clip-path=\"url(#clip340)\" d=\"M 0 0 M1081.02 1445.17 Q1077.41 1445.17 1075.58 1448.74 Q1073.78 1452.28 1073.78 1459.41 Q1073.78 1466.51 1075.58 1470.08 Q1077.41 1473.62 1081.02 1473.62 Q1084.66 1473.62 1086.46 1470.08 Q1088.29 1466.51 1088.29 1459.41 Q1088.29 1452.28 1086.46 1448.74 Q1084.66 1445.17 1081.02 1445.17 M1081.02 1441.47 Q1086.83 1441.47 1089.89 1446.07 Q1092.97 1450.66 1092.97 1459.41 Q1092.97 1468.13 1089.89 1472.74 Q1086.83 1477.32 1081.02 1477.32 Q1075.21 1477.32 1072.13 1472.74 Q1069.08 1468.13 1069.08 1459.41 Q1069.08 1450.66 1072.13 1446.07 Q1075.21 1441.47 1081.02 1441.47 Z\" fill=\"#000000\" fill-rule=\"evenodd\" fill-opacity=\"1\" /><path clip-path=\"url(#clip340)\" d=\"M 0 0 M1108.04 1445.17 Q1104.42 1445.17 1102.6 1448.74 Q1100.79 1452.28 1100.79 1459.41 Q1100.79 1466.51 1102.6 1470.08 Q1104.42 1473.62 1108.04 1473.62 Q1111.67 1473.62 1113.48 1470.08 Q1115.3 1466.51 1115.3 1459.41 Q1115.3 1452.28 1113.48 1448.74 Q1111.67 1445.17 1108.04 1445.17 M1108.04 1441.47 Q1113.85 1441.47 1116.9 1446.07 Q1119.98 1450.66 1119.98 1459.41 Q1119.98 1468.13 1116.9 1472.74 Q1113.85 1477.32 1108.04 1477.32 Q1102.23 1477.32 1099.15 1472.74 Q1096.09 1468.13 1096.09 1459.41 Q1096.09 1450.66 1099.15 1446.07 Q1102.23 1441.47 1108.04 1441.47 Z\" fill=\"#000000\" fill-rule=\"evenodd\" fill-opacity=\"1\" /><path clip-path=\"url(#clip340)\" d=\"M 0 0 M1482.82 1458.02 Q1486.17 1458.74 1488.05 1461 Q1489.95 1463.27 1489.95 1466.61 Q1489.95 1471.72 1486.43 1474.52 Q1482.91 1477.32 1476.43 1477.32 Q1474.25 1477.32 1471.94 1476.88 Q1469.64 1476.47 1467.19 1475.61 L1467.19 1471.1 Q1469.13 1472.23 1471.45 1472.81 Q1473.76 1473.39 1476.29 1473.39 Q1480.69 1473.39 1482.98 1471.65 Q1485.29 1469.92 1485.29 1466.61 Q1485.29 1463.55 1483.14 1461.84 Q1481.01 1460.1 1477.19 1460.1 L1473.16 1460.1 L1473.16 1456.26 L1477.38 1456.26 Q1480.82 1456.26 1482.65 1454.89 Q1484.48 1453.5 1484.48 1450.91 Q1484.48 1448.25 1482.58 1446.84 Q1480.71 1445.4 1477.19 1445.4 Q1475.27 1445.4 1473.07 1445.82 Q1470.87 1446.24 1468.23 1447.11 L1468.23 1442.95 Q1470.89 1442.21 1473.21 1441.84 Q1475.55 1441.47 1477.61 1441.47 Q1482.93 1441.47 1486.03 1443.9 Q1489.13 1446.3 1489.13 1450.43 Q1489.13 1453.3 1487.49 1455.29 Q1485.85 1457.25 1482.82 1458.02 Z\" fill=\"#000000\" fill-rule=\"evenodd\" fill-opacity=\"1\" /><path clip-path=\"url(#clip340)\" d=\"M 0 0 M1505.01 1445.17 Q1501.4 1445.17 1499.57 1448.74 Q1497.77 1452.28 1497.77 1459.41 Q1497.77 1466.51 1499.57 1470.08 Q1501.4 1473.62 1505.01 1473.62 Q1508.65 1473.62 1510.45 1470.08 Q1512.28 1466.51 1512.28 1459.41 Q1512.28 1452.28 1510.45 1448.74 Q1508.65 1445.17 1505.01 1445.17 M1505.01 1441.47 Q1510.82 1441.47 1513.88 1446.07 Q1516.96 1450.66 1516.96 1459.41 Q1516.96 1468.13 1513.88 1472.74 Q1510.82 1477.32 1505.01 1477.32 Q1499.2 1477.32 1496.13 1472.74 Q1493.07 1468.13 1493.07 1459.41 Q1493.07 1450.66 1496.13 1446.07 Q1499.2 1441.47 1505.01 1441.47 Z\" fill=\"#000000\" fill-rule=\"evenodd\" fill-opacity=\"1\" /><path clip-path=\"url(#clip340)\" d=\"M 0 0 M1532.03 1445.17 Q1528.42 1445.17 1526.59 1448.74 Q1524.78 1452.28 1524.78 1459.41 Q1524.78 1466.51 1526.59 1470.08 Q1528.42 1473.62 1532.03 1473.62 Q1535.66 1473.62 1537.47 1470.08 Q1539.3 1466.51 1539.3 1459.41 Q1539.3 1452.28 1537.47 1448.74 Q1535.66 1445.17 1532.03 1445.17 M1532.03 1441.47 Q1537.84 1441.47 1540.89 1446.07 Q1543.97 1450.66 1543.97 1459.41 Q1543.97 1468.13 1540.89 1472.74 Q1537.84 1477.32 1532.03 1477.32 Q1526.22 1477.32 1523.14 1472.74 Q1520.08 1468.13 1520.08 1459.41 Q1520.08 1450.66 1523.14 1446.07 Q1526.22 1441.47 1532.03 1441.47 Z\" fill=\"#000000\" fill-rule=\"evenodd\" fill-opacity=\"1\" /><path clip-path=\"url(#clip340)\" d=\"M 0 0 M1905.16 1446.17 L1893.36 1464.61 L1905.16 1464.61 L1905.16 1446.17 M1903.94 1442.09 L1909.82 1442.09 L1909.82 1464.61 L1914.75 1464.61 L1914.75 1468.5 L1909.82 1468.5 L1909.82 1476.65 L1905.16 1476.65 L1905.16 1468.5 L1889.56 1468.5 L1889.56 1463.99 L1903.94 1442.09 Z\" fill=\"#000000\" fill-rule=\"evenodd\" fill-opacity=\"1\" /><path clip-path=\"url(#clip340)\" d=\"M 0 0 M1929.82 1445.17 Q1926.21 1445.17 1924.38 1448.74 Q1922.57 1452.28 1922.57 1459.41 Q1922.57 1466.51 1924.38 1470.08 Q1926.21 1473.62 1929.82 1473.62 Q1933.45 1473.62 1935.26 1470.08 Q1937.09 1466.51 1937.09 1459.41 Q1937.09 1452.28 1935.26 1448.74 Q1933.45 1445.17 1929.82 1445.17 M1929.82 1441.47 Q1935.63 1441.47 1938.68 1446.07 Q1941.76 1450.66 1941.76 1459.41 Q1941.76 1468.13 1938.68 1472.74 Q1935.63 1477.32 1929.82 1477.32 Q1924.01 1477.32 1920.93 1472.74 Q1917.87 1468.13 1917.87 1459.41 Q1917.87 1450.66 1920.93 1446.07 Q1924.01 1441.47 1929.82 1441.47 Z\" fill=\"#000000\" fill-rule=\"evenodd\" fill-opacity=\"1\" /><path clip-path=\"url(#clip340)\" d=\"M 0 0 M1956.83 1445.17 Q1953.22 1445.17 1951.39 1448.74 Q1949.59 1452.28 1949.59 1459.41 Q1949.59 1466.51 1951.39 1470.08 Q1953.22 1473.62 1956.83 1473.62 Q1960.46 1473.62 1962.27 1470.08 Q1964.1 1466.51 1964.1 1459.41 Q1964.1 1452.28 1962.27 1448.74 Q1960.46 1445.17 1956.83 1445.17 M1956.83 1441.47 Q1962.64 1441.47 1965.7 1446.07 Q1968.77 1450.66 1968.77 1459.41 Q1968.77 1468.13 1965.7 1472.74 Q1962.64 1477.32 1956.83 1477.32 Q1951.02 1477.32 1947.94 1472.74 Q1944.89 1468.13 1944.89 1459.41 Q1944.89 1450.66 1947.94 1446.07 Q1951.02 1441.47 1956.83 1441.47 Z\" fill=\"#000000\" fill-rule=\"evenodd\" fill-opacity=\"1\" /><path clip-path=\"url(#clip340)\" d=\"M 0 0 M2316.02 1442.09 L2334.38 1442.09 L2334.38 1446.03 L2320.3 1446.03 L2320.3 1454.5 Q2321.32 1454.15 2322.34 1453.99 Q2323.36 1453.8 2324.38 1453.8 Q2330.16 1453.8 2333.54 1456.98 Q2336.92 1460.15 2336.92 1465.56 Q2336.92 1471.14 2333.45 1474.24 Q2329.98 1477.32 2323.66 1477.32 Q2321.48 1477.32 2319.21 1476.95 Q2316.97 1476.58 2314.56 1475.84 L2314.56 1471.14 Q2316.64 1472.28 2318.87 1472.83 Q2321.09 1473.39 2323.57 1473.39 Q2327.57 1473.39 2329.91 1471.28 Q2332.25 1469.18 2332.25 1465.56 Q2332.25 1461.95 2329.91 1459.85 Q2327.57 1457.74 2323.57 1457.74 Q2321.69 1457.74 2319.82 1458.16 Q2317.96 1458.57 2316.02 1459.45 L2316.02 1442.09 Z\" fill=\"#000000\" fill-rule=\"evenodd\" fill-opacity=\"1\" /><path clip-path=\"url(#clip340)\" d=\"M 0 0 M2351.99 1445.17 Q2348.38 1445.17 2346.55 1448.74 Q2344.75 1452.28 2344.75 1459.41 Q2344.75 1466.51 2346.55 1470.08 Q2348.38 1473.62 2351.99 1473.62 Q2355.63 1473.62 2357.43 1470.08 Q2359.26 1466.51 2359.26 1459.41 Q2359.26 1452.28 2357.43 1448.74 Q2355.63 1445.17 2351.99 1445.17 M2351.99 1441.47 Q2357.8 1441.47 2360.86 1446.07 Q2363.94 1450.66 2363.94 1459.41 Q2363.94 1468.13 2360.86 1472.74 Q2357.8 1477.32 2351.99 1477.32 Q2346.18 1477.32 2343.1 1472.74 Q2340.05 1468.13 2340.05 1459.41 Q2340.05 1450.66 2343.1 1446.07 Q2346.18 1441.47 2351.99 1441.47 Z\" fill=\"#000000\" fill-rule=\"evenodd\" fill-opacity=\"1\" /><path clip-path=\"url(#clip340)\" d=\"M 0 0 M2379.01 1445.17 Q2375.39 1445.17 2373.57 1448.74 Q2371.76 1452.28 2371.76 1459.41 Q2371.76 1466.51 2373.57 1470.08 Q2375.39 1473.62 2379.01 1473.62 Q2382.64 1473.62 2384.45 1470.08 Q2386.27 1466.51 2386.27 1459.41 Q2386.27 1452.28 2384.45 1448.74 Q2382.64 1445.17 2379.01 1445.17 M2379.01 1441.47 Q2384.82 1441.47 2387.87 1446.07 Q2390.95 1450.66 2390.95 1459.41 Q2390.95 1468.13 2387.87 1472.74 Q2384.82 1477.32 2379.01 1477.32 Q2373.2 1477.32 2370.12 1472.74 Q2367.06 1468.13 2367.06 1459.41 Q2367.06 1450.66 2370.12 1446.07 Q2373.2 1441.47 2379.01 1441.47 Z\" fill=\"#000000\" fill-rule=\"evenodd\" fill-opacity=\"1\" /><path clip-path=\"url(#clip340)\" d=\"M 0 0 M161.908 1408.98 Q158.297 1408.98 156.468 1412.54 Q154.663 1416.08 154.663 1423.21 Q154.663 1430.32 156.468 1433.89 Q158.297 1437.43 161.908 1437.43 Q165.542 1437.43 167.348 1433.89 Q169.177 1430.32 169.177 1423.21 Q169.177 1416.08 167.348 1412.54 Q165.542 1408.98 161.908 1408.98 M161.908 1405.27 Q167.718 1405.27 170.774 1409.88 Q173.852 1414.46 173.852 1423.21 Q173.852 1431.94 170.774 1436.55 Q167.718 1441.13 161.908 1441.13 Q156.098 1441.13 153.019 1436.55 Q149.964 1431.94 149.964 1423.21 Q149.964 1414.46 153.019 1409.88 Q156.098 1405.27 161.908 1405.27 Z\" fill=\"#000000\" fill-rule=\"evenodd\" fill-opacity=\"1\" /><path clip-path=\"url(#clip340)\" d=\"M 0 0 M178.922 1434.58 L183.806 1434.58 L183.806 1440.46 L178.922 1440.46 L178.922 1434.58 Z\" fill=\"#000000\" fill-rule=\"evenodd\" fill-opacity=\"1\" /><path clip-path=\"url(#clip340)\" d=\"M 0 0 M198.876 1408.98 Q195.264 1408.98 193.436 1412.54 Q191.63 1416.08 191.63 1423.21 Q191.63 1430.32 193.436 1433.89 Q195.264 1437.43 198.876 1437.43 Q202.51 1437.43 204.315 1433.89 Q206.144 1430.32 206.144 1423.21 Q206.144 1416.08 204.315 1412.54 Q202.51 1408.98 198.876 1408.98 M198.876 1405.27 Q204.686 1405.27 207.741 1409.88 Q210.82 1414.46 210.82 1423.21 Q210.82 1431.94 207.741 1436.55 Q204.686 1441.13 198.876 1441.13 Q193.065 1441.13 189.987 1436.55 Q186.931 1431.94 186.931 1423.21 Q186.931 1414.46 189.987 1409.88 Q193.065 1405.27 198.876 1405.27 Z\" fill=\"#000000\" fill-rule=\"evenodd\" fill-opacity=\"1\" /><path clip-path=\"url(#clip340)\" d=\"M 0 0 M158.529 1127.07 L174.848 1127.07 L174.848 1131.01 L152.904 1131.01 L152.904 1127.07 Q155.566 1124.32 160.149 1119.69 Q164.755 1115.03 165.936 1113.69 Q168.181 1111.17 169.061 1109.43 Q169.964 1107.67 169.964 1105.98 Q169.964 1103.23 168.019 1101.49 Q166.098 1099.76 162.996 1099.76 Q160.797 1099.76 158.343 1100.52 Q155.913 1101.28 153.135 1102.83 L153.135 1098.11 Q155.959 1096.98 158.413 1096.4 Q160.866 1095.82 162.903 1095.82 Q168.274 1095.82 171.468 1098.51 Q174.663 1101.19 174.663 1105.68 Q174.663 1107.81 173.852 1109.73 Q173.065 1111.63 170.959 1114.22 Q170.38 1114.89 167.278 1118.11 Q164.177 1121.31 158.529 1127.07 Z\" fill=\"#000000\" fill-rule=\"evenodd\" fill-opacity=\"1\" /><path clip-path=\"url(#clip340)\" d=\"M 0 0 M179.917 1125.13 L184.802 1125.13 L184.802 1131.01 L179.917 1131.01 L179.917 1125.13 Z\" fill=\"#000000\" fill-rule=\"evenodd\" fill-opacity=\"1\" /><path clip-path=\"url(#clip340)\" d=\"M 0 0 M189.917 1096.45 L208.274 1096.45 L208.274 1100.38 L194.2 1100.38 L194.2 1108.85 Q195.218 1108.51 196.237 1108.34 Q197.255 1108.16 198.274 1108.16 Q204.061 1108.16 207.44 1111.33 Q210.82 1114.5 210.82 1119.92 Q210.82 1125.5 207.348 1128.6 Q203.875 1131.68 197.556 1131.68 Q195.38 1131.68 193.112 1131.31 Q190.866 1130.94 188.459 1130.2 L188.459 1125.5 Q190.542 1126.63 192.764 1127.19 Q194.987 1127.74 197.463 1127.74 Q201.468 1127.74 203.806 1125.64 Q206.144 1123.53 206.144 1119.92 Q206.144 1116.31 203.806 1114.2 Q201.468 1112.09 197.463 1112.09 Q195.588 1112.09 193.713 1112.51 Q191.862 1112.93 189.917 1113.81 L189.917 1096.45 Z\" fill=\"#000000\" fill-rule=\"evenodd\" fill-opacity=\"1\" /><path clip-path=\"url(#clip340)\" d=\"M 0 0 M152.95 786.991 L171.306 786.991 L171.306 790.927 L157.232 790.927 L157.232 799.399 Q158.251 799.052 159.269 798.889 Q160.288 798.704 161.306 798.704 Q167.093 798.704 170.473 801.876 Q173.852 805.047 173.852 810.464 Q173.852 816.042 170.38 819.144 Q166.908 822.223 160.589 822.223 Q158.413 822.223 156.144 821.852 Q153.899 821.482 151.492 820.741 L151.492 816.042 Q153.575 817.176 155.797 817.732 Q158.019 818.288 160.496 818.288 Q164.501 818.288 166.839 816.181 Q169.177 814.075 169.177 810.464 Q169.177 806.852 166.839 804.746 Q164.501 802.639 160.496 802.639 Q158.621 802.639 156.746 803.056 Q154.894 803.473 152.95 804.352 L152.95 786.991 Z\" fill=\"#000000\" fill-rule=\"evenodd\" fill-opacity=\"1\" /><path clip-path=\"url(#clip340)\" d=\"M 0 0 M178.922 815.672 L183.806 815.672 L183.806 821.551 L178.922 821.551 L178.922 815.672 Z\" fill=\"#000000\" fill-rule=\"evenodd\" fill-opacity=\"1\" /><path clip-path=\"url(#clip340)\" d=\"M 0 0 M198.876 790.07 Q195.264 790.07 193.436 793.635 Q191.63 797.177 191.63 804.306 Q191.63 811.413 193.436 814.977 Q195.264 818.519 198.876 818.519 Q202.51 818.519 204.315 814.977 Q206.144 811.413 206.144 804.306 Q206.144 797.177 204.315 793.635 Q202.51 790.07 198.876 790.07 M198.876 786.366 Q204.686 786.366 207.741 790.973 Q210.82 795.556 210.82 804.306 Q210.82 813.033 207.741 817.639 Q204.686 822.223 198.876 822.223 Q193.065 822.223 189.987 817.639 Q186.931 813.033 186.931 804.306 Q186.931 795.556 189.987 790.973 Q193.065 786.366 198.876 786.366 Z\" fill=\"#000000\" fill-rule=\"evenodd\" fill-opacity=\"1\" /><path clip-path=\"url(#clip340)\" d=\"M 0 0 M152.626 477.537 L174.848 477.537 L174.848 479.528 L162.302 512.097 L157.417 512.097 L169.223 481.472 L152.626 481.472 L152.626 477.537 Z\" fill=\"#000000\" fill-rule=\"evenodd\" fill-opacity=\"1\" /><path clip-path=\"url(#clip340)\" d=\"M 0 0 M179.917 506.218 L184.802 506.218 L184.802 512.097 L179.917 512.097 L179.917 506.218 Z\" fill=\"#000000\" fill-rule=\"evenodd\" fill-opacity=\"1\" /><path clip-path=\"url(#clip340)\" d=\"M 0 0 M189.917 477.537 L208.274 477.537 L208.274 481.472 L194.2 481.472 L194.2 489.945 Q195.218 489.597 196.237 489.435 Q197.255 489.25 198.274 489.25 Q204.061 489.25 207.44 492.421 Q210.82 495.593 210.82 501.009 Q210.82 506.588 207.348 509.69 Q203.875 512.768 197.556 512.768 Q195.38 512.768 193.112 512.398 Q190.866 512.028 188.459 511.287 L188.459 506.588 Q190.542 507.722 192.764 508.278 Q194.987 508.833 197.463 508.833 Q201.468 508.833 203.806 506.727 Q206.144 504.62 206.144 501.009 Q206.144 497.398 203.806 495.292 Q201.468 493.185 197.463 493.185 Q195.588 493.185 193.713 493.602 Q191.862 494.019 189.917 494.898 L189.917 477.537 Z\" fill=\"#000000\" fill-rule=\"evenodd\" fill-opacity=\"1\" /><path clip-path=\"url(#clip340)\" d=\"M 0 0 M126.931 198.708 L134.57 198.708 L134.57 172.342 L126.26 174.009 L126.26 169.75 L134.524 168.083 L139.2 168.083 L139.2 198.708 L146.839 198.708 L146.839 202.643 L126.931 202.643 L126.931 198.708 Z\" fill=\"#000000\" fill-rule=\"evenodd\" fill-opacity=\"1\" /><path clip-path=\"url(#clip340)\" d=\"M 0 0 M161.908 171.162 Q158.297 171.162 156.468 174.726 Q154.663 178.268 154.663 185.398 Q154.663 192.504 156.468 196.069 Q158.297 199.611 161.908 199.611 Q165.542 199.611 167.348 196.069 Q169.177 192.504 169.177 185.398 Q169.177 178.268 167.348 174.726 Q165.542 171.162 161.908 171.162 M161.908 167.458 Q167.718 167.458 170.774 172.064 Q173.852 176.648 173.852 185.398 Q173.852 194.124 170.774 198.731 Q167.718 203.314 161.908 203.314 Q156.098 203.314 153.019 198.731 Q149.964 194.124 149.964 185.398 Q149.964 176.648 153.019 172.064 Q156.098 167.458 161.908 167.458 Z\" fill=\"#000000\" fill-rule=\"evenodd\" fill-opacity=\"1\" /><path clip-path=\"url(#clip340)\" d=\"M 0 0 M178.922 196.763 L183.806 196.763 L183.806 202.643 L178.922 202.643 L178.922 196.763 Z\" fill=\"#000000\" fill-rule=\"evenodd\" fill-opacity=\"1\" /><path clip-path=\"url(#clip340)\" d=\"M 0 0 M198.876 171.162 Q195.264 171.162 193.436 174.726 Q191.63 178.268 191.63 185.398 Q191.63 192.504 193.436 196.069 Q195.264 199.611 198.876 199.611 Q202.51 199.611 204.315 196.069 Q206.144 192.504 206.144 185.398 Q206.144 178.268 204.315 174.726 Q202.51 171.162 198.876 171.162 M198.876 167.458 Q204.686 167.458 207.741 172.064 Q210.82 176.648 210.82 185.398 Q210.82 194.124 207.741 198.731 Q204.686 203.314 198.876 203.314 Q193.065 203.314 189.987 198.731 Q186.931 194.124 186.931 185.398 Q186.931 176.648 189.987 172.064 Q193.065 167.458 198.876 167.458 Z\" fill=\"#000000\" fill-rule=\"evenodd\" fill-opacity=\"1\" /><path clip-path=\"url(#clip340)\" d=\"M 0 0 M1142.71 12.096 L1193.87 12.096 L1193.87 18.9825 L1172.4 18.9825 L1172.4 72.576 L1164.18 72.576 L1164.18 18.9825 L1142.71 18.9825 L1142.71 12.096 Z\" fill=\"#000000\" fill-rule=\"evenodd\" fill-opacity=\"1\" /><path clip-path=\"url(#clip340)\" d=\"M 0 0 M1205.17 32.4315 Q1199.18 32.4315 1195.7 37.1306 Q1192.21 41.7891 1192.21 49.9314 Q1192.21 58.0738 1195.65 62.7728 Q1199.14 67.4314 1205.17 67.4314 Q1211.13 67.4314 1214.61 62.7323 Q1218.1 58.0333 1218.1 49.9314 Q1218.1 41.8701 1214.61 37.1711 Q1211.13 32.4315 1205.17 32.4315 M1205.17 26.1121 Q1214.9 26.1121 1220.45 32.4315 Q1226 38.7509 1226 49.9314 Q1226 61.0714 1220.45 67.4314 Q1214.9 73.7508 1205.17 73.7508 Q1195.41 73.7508 1189.86 67.4314 Q1184.35 61.0714 1184.35 49.9314 Q1184.35 38.7509 1189.86 32.4315 Q1195.41 26.1121 1205.17 26.1121 Z\" fill=\"#000000\" fill-rule=\"evenodd\" fill-opacity=\"1\" /><path clip-path=\"url(#clip340)\" d=\"M 0 0 M1241.02 65.7705 L1241.02 89.8329 L1233.53 89.8329 L1233.53 27.2059 L1241.02 27.2059 L1241.02 34.0924 Q1243.37 30.0415 1246.94 28.0971 Q1250.54 26.1121 1255.53 26.1121 Q1263.79 26.1121 1268.94 32.6746 Q1274.12 39.2371 1274.12 49.9314 Q1274.12 60.6258 1268.94 67.1883 Q1263.79 73.7508 1255.53 73.7508 Q1250.54 73.7508 1246.94 71.8063 Q1243.37 69.8214 1241.02 65.7705 M1266.38 49.9314 Q1266.38 41.7081 1262.98 37.0496 Q1259.62 32.3505 1253.7 32.3505 Q1247.79 32.3505 1244.39 37.0496 Q1241.02 41.7081 1241.02 49.9314 Q1241.02 58.1548 1244.39 62.8538 Q1247.79 67.5124 1253.7 67.5124 Q1259.62 67.5124 1262.98 62.8538 Q1266.38 58.1548 1266.38 49.9314 Z\" fill=\"#000000\" fill-rule=\"evenodd\" fill-opacity=\"1\" /><path clip-path=\"url(#clip340)\" d=\"M 0 0 M1300.25 12.096 L1351.41 12.096 L1351.41 18.9825 L1329.94 18.9825 L1329.94 72.576 L1321.72 72.576 L1321.72 18.9825 L1300.25 18.9825 L1300.25 12.096 Z\" fill=\"#000000\" fill-rule=\"evenodd\" fill-opacity=\"1\" /><path clip-path=\"url(#clip340)\" d=\"M 0 0 M1356.68 27.2059 L1364.13 27.2059 L1364.13 72.576 L1356.68 72.576 L1356.68 27.2059 M1356.68 9.54393 L1364.13 9.54393 L1364.13 18.9825 L1356.68 18.9825 L1356.68 9.54393 Z\" fill=\"#000000\" fill-rule=\"evenodd\" fill-opacity=\"1\" /><path clip-path=\"url(#clip340)\" d=\"M 0 0 M1410.76 48.0275 L1410.76 51.6733 L1376.49 51.6733 Q1376.97 59.3701 1381.11 63.421 Q1385.28 67.4314 1392.69 67.4314 Q1396.98 67.4314 1401 66.3781 Q1405.05 65.3249 1409.02 63.2184 L1409.02 70.267 Q1405.01 71.9684 1400.79 72.8596 Q1396.58 73.7508 1392.25 73.7508 Q1381.39 73.7508 1375.03 67.4314 Q1368.71 61.1119 1368.71 50.3365 Q1368.71 39.1965 1374.7 32.6746 Q1380.74 26.1121 1390.95 26.1121 Q1400.1 26.1121 1405.41 32.0264 Q1410.76 37.9003 1410.76 48.0275 M1403.3 45.84 Q1403.22 39.7232 1399.86 36.0774 Q1396.54 32.4315 1391.03 32.4315 Q1384.79 32.4315 1381.02 35.9558 Q1377.3 39.4801 1376.73 45.8805 L1403.3 45.84 Z\" fill=\"#000000\" fill-rule=\"evenodd\" fill-opacity=\"1\" /><path clip-path=\"url(#clip340)\" d=\"M 0 0 M1444.87 34.1734 Q1443.61 33.4443 1442.11 33.1202 Q1440.65 32.7556 1438.87 32.7556 Q1432.55 32.7556 1429.15 36.8875 Q1425.79 40.9789 1425.79 48.6757 L1425.79 72.576 L1418.29 72.576 L1418.29 27.2059 L1425.79 27.2059 L1425.79 34.2544 Q1428.14 30.1225 1431.9 28.1376 Q1435.67 26.1121 1441.06 26.1121 Q1441.83 26.1121 1442.76 26.2337 Q1443.69 26.3147 1444.83 26.5172 L1444.87 34.1734 Z\" fill=\"#000000\" fill-rule=\"evenodd\" fill-opacity=\"1\" /><path clip-path=\"url(#clip340)\" d=\"M 0 0 M1017.37 1521.76 L1017.37 1527.24 Q1014.89 1525.87 1012.38 1525.2 Q1009.89 1524.5 1007.35 1524.5 Q1001.65 1524.5 998.499 1528.13 Q995.348 1531.73 995.348 1538.25 Q995.348 1544.78 998.499 1548.4 Q1001.65 1552 1007.35 1552 Q1009.89 1552 1012.38 1551.33 Q1014.89 1550.63 1017.37 1549.26 L1017.37 1554.68 Q1014.92 1555.82 1012.28 1556.39 Q1009.67 1556.97 1006.71 1556.97 Q998.658 1556.97 993.915 1551.91 Q989.173 1546.85 989.173 1538.25 Q989.173 1529.53 993.947 1524.53 Q998.753 1519.54 1007.09 1519.54 Q1009.8 1519.54 1012.38 1520.11 Q1014.95 1520.65 1017.37 1521.76 Z\" fill=\"#000000\" fill-rule=\"evenodd\" fill-opacity=\"1\" /><path clip-path=\"url(#clip340)\" d=\"M 0 0 M1022.91 1541.98 L1022.91 1520.4 L1028.77 1520.4 L1028.77 1541.75 Q1028.77 1546.81 1030.74 1549.36 Q1032.71 1551.87 1036.66 1551.87 Q1041.4 1551.87 1044.14 1548.85 Q1046.91 1545.83 1046.91 1540.61 L1046.91 1520.4 L1052.77 1520.4 L1052.77 1556.04 L1046.91 1556.04 L1046.91 1550.57 Q1044.78 1553.82 1041.94 1555.41 Q1039.14 1556.97 1035.42 1556.97 Q1029.28 1556.97 1026.09 1553.15 Q1022.91 1549.33 1022.91 1541.98 M1037.65 1519.54 L1037.65 1519.54 Z\" fill=\"#000000\" fill-rule=\"evenodd\" fill-opacity=\"1\" /><path clip-path=\"url(#clip340)\" d=\"M 0 0 M1079.57 1525.87 Q1078.58 1525.3 1077.4 1525.04 Q1076.26 1524.76 1074.86 1524.76 Q1069.89 1524.76 1067.22 1528 Q1064.57 1531.22 1064.57 1537.27 L1064.57 1556.04 L1058.69 1556.04 L1058.69 1520.4 L1064.57 1520.4 L1064.57 1525.93 Q1066.42 1522.69 1069.38 1521.13 Q1072.34 1519.54 1076.57 1519.54 Q1077.18 1519.54 1077.91 1519.63 Q1078.64 1519.7 1079.53 1519.85 L1079.57 1525.87 Z\" fill=\"#000000\" fill-rule=\"evenodd\" fill-opacity=\"1\" /><path clip-path=\"url(#clip340)\" d=\"M 0 0 M1105.22 1525.87 Q1104.23 1525.3 1103.06 1525.04 Q1101.91 1524.76 1100.51 1524.76 Q1095.54 1524.76 1092.87 1528 Q1090.23 1531.22 1090.23 1537.27 L1090.23 1556.04 L1084.34 1556.04 L1084.34 1520.4 L1090.23 1520.4 L1090.23 1525.93 Q1092.07 1522.69 1095.03 1521.13 Q1097.99 1519.54 1102.23 1519.54 Q1102.83 1519.54 1103.56 1519.63 Q1104.3 1519.7 1105.19 1519.85 L1105.22 1525.87 Z\" fill=\"#000000\" fill-rule=\"evenodd\" fill-opacity=\"1\" /><path clip-path=\"url(#clip340)\" d=\"M 0 0 M1111.36 1520.4 L1117.22 1520.4 L1117.22 1556.04 L1111.36 1556.04 L1111.36 1520.4 M1111.36 1506.52 L1117.22 1506.52 L1117.22 1513.93 L1111.36 1513.93 L1111.36 1506.52 Z\" fill=\"#000000\" fill-rule=\"evenodd\" fill-opacity=\"1\" /><path clip-path=\"url(#clip340)\" d=\"M 0 0 M1149.02 1521.76 L1149.02 1527.24 Q1146.53 1525.87 1144.02 1525.2 Q1141.54 1524.5 1138.99 1524.5 Q1133.29 1524.5 1130.14 1528.13 Q1126.99 1531.73 1126.99 1538.25 Q1126.99 1544.78 1130.14 1548.4 Q1133.29 1552 1138.99 1552 Q1141.54 1552 1144.02 1551.33 Q1146.53 1550.63 1149.02 1549.26 L1149.02 1554.68 Q1146.57 1555.82 1143.92 1556.39 Q1141.31 1556.97 1138.35 1556.97 Q1130.3 1556.97 1125.56 1551.91 Q1120.82 1546.85 1120.82 1538.25 Q1120.82 1529.53 1125.59 1524.53 Q1130.4 1519.54 1138.74 1519.54 Q1141.44 1519.54 1144.02 1520.11 Q1146.6 1520.65 1149.02 1521.76 Z\" fill=\"#000000\" fill-rule=\"evenodd\" fill-opacity=\"1\" /><path clip-path=\"url(#clip340)\" d=\"M 0 0 M1154.55 1541.98 L1154.55 1520.4 L1160.41 1520.4 L1160.41 1541.75 Q1160.41 1546.81 1162.38 1549.36 Q1164.36 1551.87 1168.3 1551.87 Q1173.05 1551.87 1175.78 1548.85 Q1178.55 1545.83 1178.55 1540.61 L1178.55 1520.4 L1184.41 1520.4 L1184.41 1556.04 L1178.55 1556.04 L1178.55 1550.57 Q1176.42 1553.82 1173.59 1555.41 Q1170.79 1556.97 1167.06 1556.97 Q1160.92 1556.97 1157.74 1553.15 Q1154.55 1549.33 1154.55 1541.98 M1169.29 1519.54 L1169.29 1519.54 Z\" fill=\"#000000\" fill-rule=\"evenodd\" fill-opacity=\"1\" /><path clip-path=\"url(#clip340)\" d=\"M 0 0 M1190.55 1506.52 L1196.41 1506.52 L1196.41 1556.04 L1190.55 1556.04 L1190.55 1506.52 Z\" fill=\"#000000\" fill-rule=\"evenodd\" fill-opacity=\"1\" /><path clip-path=\"url(#clip340)\" d=\"M 0 0 M1218.75 1538.12 Q1211.65 1538.12 1208.92 1539.75 Q1206.18 1541.37 1206.18 1545.29 Q1206.18 1548.4 1208.22 1550.25 Q1210.29 1552.07 1213.82 1552.07 Q1218.69 1552.07 1221.62 1548.63 Q1224.58 1545.16 1224.58 1539.43 L1224.58 1538.12 L1218.75 1538.12 M1230.43 1535.71 L1230.43 1556.04 L1224.58 1556.04 L1224.58 1550.63 Q1222.57 1553.88 1219.58 1555.44 Q1216.59 1556.97 1212.26 1556.97 Q1206.78 1556.97 1203.54 1553.91 Q1200.32 1550.82 1200.32 1545.67 Q1200.32 1539.65 1204.33 1536.6 Q1208.38 1533.54 1216.36 1533.54 L1224.58 1533.54 L1224.58 1532.97 Q1224.58 1528.93 1221.9 1526.73 Q1219.26 1524.5 1214.46 1524.5 Q1211.4 1524.5 1208.5 1525.23 Q1205.61 1525.97 1202.93 1527.43 L1202.93 1522.02 Q1206.15 1520.78 1209.17 1520.17 Q1212.2 1519.54 1215.06 1519.54 Q1222.79 1519.54 1226.61 1523.55 Q1230.43 1527.56 1230.43 1535.71 Z\" fill=\"#000000\" fill-rule=\"evenodd\" fill-opacity=\"1\" /><path clip-path=\"url(#clip340)\" d=\"M 0 0 M1257.23 1525.87 Q1256.25 1525.3 1255.07 1525.04 Q1253.92 1524.76 1252.52 1524.76 Q1247.56 1524.76 1244.88 1528 Q1242.24 1531.22 1242.24 1537.27 L1242.24 1556.04 L1236.35 1556.04 L1236.35 1520.4 L1242.24 1520.4 L1242.24 1525.93 Q1244.09 1522.69 1247.05 1521.13 Q1250.01 1519.54 1254.24 1519.54 Q1254.85 1519.54 1255.58 1519.63 Q1256.31 1519.7 1257.2 1519.85 L1257.23 1525.87 Z\" fill=\"#000000\" fill-rule=\"evenodd\" fill-opacity=\"1\" /><path clip-path=\"url(#clip340)\" d=\"M 0 0 M1309.75 1521.76 L1309.75 1527.24 Q1307.27 1525.87 1304.75 1525.2 Q1302.27 1524.5 1299.72 1524.5 Q1294.03 1524.5 1290.88 1528.13 Q1287.72 1531.73 1287.72 1538.25 Q1287.72 1544.78 1290.88 1548.4 Q1294.03 1552 1299.72 1552 Q1302.27 1552 1304.75 1551.33 Q1307.27 1550.63 1309.75 1549.26 L1309.75 1554.68 Q1307.3 1555.82 1304.66 1556.39 Q1302.05 1556.97 1299.09 1556.97 Q1291.03 1556.97 1286.29 1551.91 Q1281.55 1546.85 1281.55 1538.25 Q1281.55 1529.53 1286.32 1524.53 Q1291.13 1519.54 1299.47 1519.54 Q1302.17 1519.54 1304.75 1520.11 Q1307.33 1520.65 1309.75 1521.76 Z\" fill=\"#000000\" fill-rule=\"evenodd\" fill-opacity=\"1\" /><path clip-path=\"url(#clip340)\" d=\"M 0 0 M1329.71 1524.5 Q1325 1524.5 1322.26 1528.19 Q1319.52 1531.85 1319.52 1538.25 Q1319.52 1544.65 1322.23 1548.34 Q1324.96 1552 1329.71 1552 Q1334.39 1552 1337.12 1548.31 Q1339.86 1544.62 1339.86 1538.25 Q1339.86 1531.92 1337.12 1528.23 Q1334.39 1524.5 1329.71 1524.5 M1329.71 1519.54 Q1337.35 1519.54 1341.71 1524.5 Q1346.07 1529.47 1346.07 1538.25 Q1346.07 1547 1341.71 1552 Q1337.35 1556.97 1329.71 1556.97 Q1322.04 1556.97 1317.68 1552 Q1313.35 1547 1313.35 1538.25 Q1313.35 1529.47 1317.68 1524.5 Q1322.04 1519.54 1329.71 1519.54 Z\" fill=\"#000000\" fill-rule=\"evenodd\" fill-opacity=\"1\" /><path clip-path=\"url(#clip340)\" d=\"M 0 0 M1379.96 1527.24 Q1382.16 1523.29 1385.22 1521.41 Q1388.27 1519.54 1392.41 1519.54 Q1397.98 1519.54 1401 1523.45 Q1404.03 1527.33 1404.03 1534.53 L1404.03 1556.04 L1398.14 1556.04 L1398.14 1534.72 Q1398.14 1529.59 1396.32 1527.11 Q1394.51 1524.63 1390.79 1524.63 Q1386.23 1524.63 1383.59 1527.65 Q1380.95 1530.68 1380.95 1535.9 L1380.95 1556.04 L1375.06 1556.04 L1375.06 1534.72 Q1375.06 1529.56 1373.25 1527.11 Q1371.43 1524.63 1367.65 1524.63 Q1363.16 1524.63 1360.52 1527.68 Q1357.87 1530.71 1357.87 1535.9 L1357.87 1556.04 L1351.99 1556.04 L1351.99 1520.4 L1357.87 1520.4 L1357.87 1525.93 Q1359.88 1522.66 1362.68 1521.1 Q1365.48 1519.54 1369.33 1519.54 Q1373.22 1519.54 1375.92 1521.51 Q1378.66 1523.48 1379.96 1527.24 Z\" fill=\"#000000\" fill-rule=\"evenodd\" fill-opacity=\"1\" /><path clip-path=\"url(#clip340)\" d=\"M 0 0 M1415.83 1550.7 L1415.83 1569.6 L1409.95 1569.6 L1409.95 1520.4 L1415.83 1520.4 L1415.83 1525.81 Q1417.68 1522.62 1420.48 1521.1 Q1423.31 1519.54 1427.23 1519.54 Q1433.72 1519.54 1437.76 1524.69 Q1441.84 1529.85 1441.84 1538.25 Q1441.84 1546.65 1437.76 1551.81 Q1433.72 1556.97 1427.23 1556.97 Q1423.31 1556.97 1420.48 1555.44 Q1417.68 1553.88 1415.83 1550.7 M1435.76 1538.25 Q1435.76 1531.79 1433.09 1528.13 Q1430.44 1524.44 1425.8 1524.44 Q1421.15 1524.44 1418.48 1528.13 Q1415.83 1531.79 1415.83 1538.25 Q1415.83 1544.71 1418.48 1548.4 Q1421.15 1552.07 1425.8 1552.07 Q1430.44 1552.07 1433.09 1548.4 Q1435.76 1544.71 1435.76 1538.25 Z\" fill=\"#000000\" fill-rule=\"evenodd\" fill-opacity=\"1\" /><path clip-path=\"url(#clip340)\" d=\"M 0 0 M1447.98 1506.52 L1453.84 1506.52 L1453.84 1556.04 L1447.98 1556.04 L1447.98 1506.52 Z\" fill=\"#000000\" fill-rule=\"evenodd\" fill-opacity=\"1\" /><path clip-path=\"url(#clip340)\" d=\"M 0 0 M1490.47 1536.76 L1490.47 1539.62 L1463.55 1539.62 Q1463.93 1545.67 1467.17 1548.85 Q1470.45 1552 1476.28 1552 Q1479.65 1552 1482.8 1551.17 Q1485.98 1550.35 1489.1 1548.69 L1489.1 1554.23 Q1485.95 1555.57 1482.64 1556.27 Q1479.33 1556.97 1475.93 1556.97 Q1467.4 1556.97 1462.4 1552 Q1457.43 1547.04 1457.43 1538.57 Q1457.43 1529.82 1462.14 1524.69 Q1466.89 1519.54 1474.91 1519.54 Q1482.1 1519.54 1486.27 1524.18 Q1490.47 1528.8 1490.47 1536.76 M1484.62 1535.04 Q1484.55 1530.23 1481.91 1527.37 Q1479.3 1524.5 1474.97 1524.5 Q1470.07 1524.5 1467.11 1527.27 Q1464.18 1530.04 1463.74 1535.07 L1484.62 1535.04 Z\" fill=\"#000000\" fill-rule=\"evenodd\" fill-opacity=\"1\" /><path clip-path=\"url(#clip340)\" d=\"M 0 0 M1525.1 1520.4 L1512.21 1537.74 L1525.77 1556.04 L1518.86 1556.04 L1508.49 1542.04 L1498.11 1556.04 L1491.2 1556.04 L1505.05 1537.39 L1492.38 1520.4 L1499.29 1520.4 L1508.74 1533.1 L1518.19 1520.4 L1525.1 1520.4 Z\" fill=\"#000000\" fill-rule=\"evenodd\" fill-opacity=\"1\" /><path clip-path=\"url(#clip340)\" d=\"M 0 0 M1531.91 1520.4 L1537.77 1520.4 L1537.77 1556.04 L1531.91 1556.04 L1531.91 1520.4 M1531.91 1506.52 L1537.77 1506.52 L1537.77 1513.93 L1531.91 1513.93 L1531.91 1506.52 Z\" fill=\"#000000\" fill-rule=\"evenodd\" fill-opacity=\"1\" /><path clip-path=\"url(#clip340)\" d=\"M 0 0 M1549.71 1510.27 L1549.71 1520.4 L1561.77 1520.4 L1561.77 1524.95 L1549.71 1524.95 L1549.71 1544.3 Q1549.71 1548.66 1550.88 1549.9 Q1552.09 1551.14 1555.75 1551.14 L1561.77 1551.14 L1561.77 1556.04 L1555.75 1556.04 Q1548.97 1556.04 1546.4 1553.53 Q1543.82 1550.98 1543.82 1544.3 L1543.82 1524.95 L1539.52 1524.95 L1539.52 1520.4 L1543.82 1520.4 L1543.82 1510.27 L1549.71 1510.27 Z\" fill=\"#000000\" fill-rule=\"evenodd\" fill-opacity=\"1\" /><path clip-path=\"url(#clip340)\" d=\"M 0 0 M1582.74 1559.35 Q1580.26 1565.72 1577.91 1567.66 Q1575.55 1569.6 1571.6 1569.6 L1566.92 1569.6 L1566.92 1564.7 L1570.36 1564.7 Q1572.78 1564.7 1574.12 1563.56 Q1575.45 1562.41 1577.08 1558.14 L1578.13 1555.47 L1563.71 1520.4 L1569.92 1520.4 L1581.06 1548.28 L1592.2 1520.4 L1598.4 1520.4 L1582.74 1559.35 Z\" fill=\"#000000\" fill-rule=\"evenodd\" fill-opacity=\"1\" /><path clip-path=\"url(#clip340)\" d=\"M 0 0 M59.3266 884.567 L59.3266 893.829 L69.9574 896.502 L69.9574 887.177 L59.3266 884.567 M41.2162 889.341 L54.4251 892.651 L54.4251 883.357 L41.2162 880.015 L41.2162 874.923 L54.4251 878.201 L54.4251 868.27 L59.3266 868.27 L59.3266 879.442 L69.9574 882.052 L69.9574 871.931 L74.8271 871.931 L74.8271 883.294 L88.0042 886.604 L88.0042 891.696 L74.8271 888.418 L74.8271 897.744 L88.0042 901.022 L88.0042 906.146 L74.8271 902.836 L74.8271 912.862 L69.9574 912.862 L69.9574 901.659 L59.3266 898.985 L59.3266 909.234 L54.4251 909.234 L54.4251 897.744 L41.2162 894.497 L41.2162 889.341 Z\" fill=\"#000000\" fill-rule=\"evenodd\" fill-opacity=\"1\" /><path clip-path=\"url(#clip340)\" d=\"M 0 0 M53.4065 818.682 L58.9447 818.682 Q57.6716 821.164 57.035 823.838 Q56.3984 826.511 56.3984 829.376 Q56.3984 833.737 57.7352 835.933 Q59.072 838.097 61.7456 838.097 Q63.7826 838.097 64.9603 836.537 Q66.1061 834.978 67.1565 830.267 L67.6021 828.262 Q68.9389 822.024 71.3897 819.414 Q73.8086 816.772 78.1691 816.772 Q83.1344 816.772 86.0308 820.719 Q88.9272 824.634 88.9272 831.509 Q88.9272 834.373 88.3543 837.492 Q87.8132 840.58 86.6992 844.017 L80.6518 844.017 Q82.3387 840.771 83.198 837.62 Q84.0256 834.469 84.0256 831.381 Q84.0256 827.244 82.6251 825.016 Q81.1929 822.788 78.6147 822.788 Q76.2276 822.788 74.9545 824.411 Q73.6813 826.002 72.5037 831.445 L72.0262 833.482 Q70.8804 838.925 68.5251 841.344 Q66.138 843.763 62.0002 843.763 Q56.9713 843.763 54.2341 840.198 Q51.4968 836.633 51.4968 830.076 Q51.4968 826.83 51.9743 823.965 Q52.4517 821.101 53.4065 818.682 Z\" fill=\"#000000\" fill-rule=\"evenodd\" fill-opacity=\"1\" /><path clip-path=\"url(#clip340)\" d=\"M 0 0 M53.7248 784.975 L59.1993 784.975 Q57.8307 787.458 57.1623 789.972 Q56.4621 792.455 56.4621 795.001 Q56.4621 800.699 60.0905 803.85 Q63.6872 807.001 70.212 807.001 Q76.7369 807.001 80.3653 803.85 Q83.9619 800.699 83.9619 795.001 Q83.9619 792.455 83.2935 789.972 Q82.5933 787.458 81.2247 784.975 L86.6355 784.975 Q87.7814 787.426 88.3543 790.068 Q88.9272 792.678 88.9272 795.638 Q88.9272 803.69 83.8664 808.433 Q78.8057 813.175 70.212 813.175 Q61.491 813.175 56.4939 808.401 Q51.4968 803.595 51.4968 795.256 Q51.4968 792.55 52.0697 789.972 Q52.6108 787.394 53.7248 784.975 Z\" fill=\"#000000\" fill-rule=\"evenodd\" fill-opacity=\"1\" /><path clip-path=\"url(#clip340)\" d=\"M 0 0 M66.4881 749.2 L88.0042 749.2 L88.0042 755.056 L66.679 755.056 Q61.6183 755.056 59.1038 757.03 Q56.5894 759.003 56.5894 762.95 Q56.5894 767.692 59.6131 770.43 Q62.6368 773.167 67.8567 773.167 L88.0042 773.167 L88.0042 779.055 L38.479 779.055 L38.479 773.167 L57.8944 773.167 Q54.6797 771.066 53.0883 768.233 Q51.4968 765.369 51.4968 761.645 Q51.4968 755.502 55.3163 752.351 Q59.1038 749.2 66.4881 749.2 Z\" fill=\"#000000\" fill-rule=\"evenodd\" fill-opacity=\"1\" /><path clip-path=\"url(#clip340)\" d=\"M 0 0 M56.4621 729.243 Q56.4621 733.954 60.1542 736.691 Q63.8145 739.429 70.212 739.429 Q76.6095 739.429 80.3017 736.723 Q83.9619 733.986 83.9619 729.243 Q83.9619 724.565 80.2698 721.827 Q76.5777 719.09 70.212 719.09 Q63.8781 719.09 60.186 721.827 Q56.4621 724.565 56.4621 729.243 M51.4968 729.243 Q51.4968 721.605 56.4621 717.244 Q61.4273 712.884 70.212 712.884 Q78.9649 712.884 83.9619 717.244 Q88.9272 721.605 88.9272 729.243 Q88.9272 736.914 83.9619 741.275 Q78.9649 745.603 70.212 745.603 Q61.4273 745.603 56.4621 741.275 Q51.4968 736.914 51.4968 729.243 Z\" fill=\"#000000\" fill-rule=\"evenodd\" fill-opacity=\"1\" /><path clip-path=\"url(#clip340)\" d=\"M 0 0 M56.4621 692.927 Q56.4621 697.638 60.1542 700.375 Q63.8145 703.112 70.212 703.112 Q76.6095 703.112 80.3017 700.407 Q83.9619 697.67 83.9619 692.927 Q83.9619 688.248 80.2698 685.511 Q76.5777 682.774 70.212 682.774 Q63.8781 682.774 60.186 685.511 Q56.4621 688.248 56.4621 692.927 M51.4968 692.927 Q51.4968 685.288 56.4621 680.928 Q61.4273 676.567 70.212 676.567 Q78.9649 676.567 83.9619 680.928 Q88.9272 685.288 88.9272 692.927 Q88.9272 700.598 83.9619 704.958 Q78.9649 709.287 70.212 709.287 Q61.4273 709.287 56.4621 704.958 Q51.4968 700.598 51.4968 692.927 Z\" fill=\"#000000\" fill-rule=\"evenodd\" fill-opacity=\"1\" /><path clip-path=\"url(#clip340)\" d=\"M 0 0 M38.479 670.424 L38.479 664.568 L88.0042 664.568 L88.0042 670.424 L38.479 670.424 Z\" fill=\"#000000\" fill-rule=\"evenodd\" fill-opacity=\"1\" /><path clip-path=\"url(#clip340)\" d=\"M 0 0 M53.4065 635.699 L58.9447 635.699 Q57.6716 638.182 57.035 640.856 Q56.3984 643.529 56.3984 646.394 Q56.3984 650.754 57.7352 652.95 Q59.072 655.115 61.7456 655.115 Q63.7826 655.115 64.9603 653.555 Q66.1061 651.996 67.1565 647.285 L67.6021 645.28 Q68.9389 639.041 71.3897 636.431 Q73.8086 633.79 78.1691 633.79 Q83.1344 633.79 86.0308 637.736 Q88.9272 641.651 88.9272 648.526 Q88.9272 651.391 88.3543 654.51 Q87.8132 657.597 86.6992 661.035 L80.6518 661.035 Q82.3387 657.788 83.198 654.637 Q84.0256 651.486 84.0256 648.399 Q84.0256 644.261 82.6251 642.033 Q81.1929 639.805 78.6147 639.805 Q76.2276 639.805 74.9545 641.429 Q73.6813 643.02 72.5037 648.463 L72.0262 650.5 Q70.8804 655.942 68.5251 658.361 Q66.138 660.78 62.0002 660.78 Q56.9713 660.78 54.2341 657.215 Q51.4968 653.651 51.4968 647.094 Q51.4968 643.848 51.9743 640.983 Q52.4517 638.118 53.4065 635.699 Z\" fill=\"#000000\" fill-rule=\"evenodd\" fill-opacity=\"1\" /><path clip-path=\"url(#clip342)\" d=\"\n",
       "M234.82 928.053 L234.82 1423.18 L658.407 1423.18 L658.407 928.053 L234.82 928.053 L234.82 928.053  Z\n",
       "  \" fill=\"#1874cd\" fill-rule=\"evenodd\" fill-opacity=\"0.7\"/>\n",
       "<polyline clip-path=\"url(#clip342)\" style=\"stroke:#000000; stroke-width:4; stroke-opacity:0.7; fill:none\" points=\"\n",
       "  234.82,928.053 234.82,1423.18 658.407,1423.18 658.407,928.053 234.82,928.053 \n",
       "  \"/>\n",
       "<path clip-path=\"url(#clip342)\" d=\"\n",
       "M658.407 309.145 L658.407 1423.18 L1081.99 1423.18 L1081.99 309.145 L658.407 309.145 L658.407 309.145  Z\n",
       "  \" fill=\"#1874cd\" fill-rule=\"evenodd\" fill-opacity=\"0.7\"/>\n",
       "<polyline clip-path=\"url(#clip342)\" style=\"stroke:#000000; stroke-width:4; stroke-opacity:0.7; fill:none\" points=\"\n",
       "  658.407,309.145 658.407,1423.18 1081.99,1423.18 1081.99,309.145 658.407,309.145 \n",
       "  \"/>\n",
       "<path clip-path=\"url(#clip342)\" d=\"\n",
       "M1081.99 680.49 L1081.99 1423.18 L1505.58 1423.18 L1505.58 680.49 L1081.99 680.49 L1081.99 680.49  Z\n",
       "  \" fill=\"#1874cd\" fill-rule=\"evenodd\" fill-opacity=\"0.7\"/>\n",
       "<polyline clip-path=\"url(#clip342)\" style=\"stroke:#000000; stroke-width:4; stroke-opacity:0.7; fill:none\" points=\"\n",
       "  1081.99,680.49 1081.99,1423.18 1505.58,1423.18 1505.58,680.49 1081.99,680.49 \n",
       "  \"/>\n",
       "<path clip-path=\"url(#clip342)\" d=\"\n",
       "M1505.58 1299.4 L1505.58 1423.18 L1929.17 1423.18 L1929.17 1299.4 L1505.58 1299.4 L1505.58 1299.4  Z\n",
       "  \" fill=\"#1874cd\" fill-rule=\"evenodd\" fill-opacity=\"0.7\"/>\n",
       "<polyline clip-path=\"url(#clip342)\" style=\"stroke:#000000; stroke-width:4; stroke-opacity:0.7; fill:none\" points=\"\n",
       "  1505.58,1299.4 1505.58,1423.18 1929.17,1423.18 1929.17,1299.4 1505.58,1299.4 \n",
       "  \"/>\n",
       "<path clip-path=\"url(#clip342)\" d=\"\n",
       "M1929.17 1299.4 L1929.17 1423.18 L2352.76 1423.18 L2352.76 1299.4 L1929.17 1299.4 L1929.17 1299.4  Z\n",
       "  \" fill=\"#1874cd\" fill-rule=\"evenodd\" fill-opacity=\"0.7\"/>\n",
       "<polyline clip-path=\"url(#clip342)\" style=\"stroke:#000000; stroke-width:4; stroke-opacity:0.7; fill:none\" points=\"\n",
       "  1929.17,1299.4 1929.17,1423.18 2352.76,1423.18 2352.76,1299.4 1929.17,1299.4 \n",
       "  \"/>\n",
       "</svg>\n"
      ]
     },
     "execution_count": 41,
     "metadata": {},
     "output_type": "execute_result"
    }
   ],
   "source": [
    "top_tier = Array{Curriculum,1}()\n",
    "top_tier_total_cc = 0\n",
    "top_tier_avg_cc = 0\n",
    "for (key, val) in curriculum\n",
    "    if (split(key, \"/\")[1]) == \"tier_top\"\n",
    "        name = split(split(key, \"/\")[2], \".\")[1]\n",
    "        println(\"$name => $(val.metrics[\"complexity\"][1])\")\n",
    "        push!(top_tier, val)\n",
    "        top_tier_total_cc += val.metrics[\"complexity\"][1]\n",
    "    end\n",
    "end\n",
    "top_tier_avg_cc = round(top_tier_total_cc / length(top_tier), digits=2)\n",
    "println(\"Avg. curricular complexity = $(top_tier_avg_cc)\")\n",
    "metric_histogram(top_tier, \"complexity\", nbins=5, title=\"Top Tier\", xlabel=\"curricular complexity\", ylabel=\"# schools\", xlim=(0,500))"
   ]
  },
  {
   "cell_type": "code",
   "execution_count": 42,
   "metadata": {},
   "outputs": [
    {
     "name": "stdout",
     "output_type": "stream",
     "text": [
      "University of Miami => 203.0\n",
      "Embry-Riddle Aeronautical University => 341.0\n",
      "University of Oklahoma => 248.0\n",
      "New Jersey Institute of Technology => 427.0\n",
      "University of North Carolina--Charlotte => 448.0\n",
      "Southern Methodist University => 294.0\n",
      "San Diego State University => 298.0\n",
      "University of Kentucky => 241.0\n",
      "Indiana University-Purdue University--Indianapolis => 269.0\n",
      "University of Houston => 520.0\n",
      "University of California--Riverside => 283.59999999999985\n",
      "Louisiana State University--Baton Rouge => 275.0\n",
      "Brigham Young University => 290.0\n",
      "George Washington University => 311.0\n",
      "Texas Tech University => 318.0\n",
      "University of Cincinnati => 173.0\n",
      "Oklahoma State University => 313.0\n",
      "University of California--Santa Cruz => 185.59999999999997\n",
      "Clarkson University => 217.0\n",
      "University of Missouri => 215.0\n",
      "University of Alabama => 294.0\n",
      "Avg. curricular complexity = 293.53333333333336\n"
     ]
    },
    {
     "data": {
      "image/svg+xml": [
       "<?xml version=\"1.0\" encoding=\"utf-8\"?>\n",
       "<svg xmlns=\"http://www.w3.org/2000/svg\" xmlns:xlink=\"http://www.w3.org/1999/xlink\" width=\"600\" height=\"400\" viewBox=\"0 0 2400 1600\">\n",
       "<defs>\n",
       "  <clipPath id=\"clip380\">\n",
       "    <rect x=\"0\" y=\"0\" width=\"2400\" height=\"1600\"/>\n",
       "  </clipPath>\n",
       "</defs>\n",
       "<path clip-path=\"url(#clip380)\" d=\"\n",
       "M0 1600 L2400 1600 L2400 0 L0 0  Z\n",
       "  \" fill=\"#ffffff\" fill-rule=\"evenodd\" fill-opacity=\"1\"/>\n",
       "<defs>\n",
       "  <clipPath id=\"clip381\">\n",
       "    <rect x=\"480\" y=\"0\" width=\"1681\" height=\"1600\"/>\n",
       "  </clipPath>\n",
       "</defs>\n",
       "<path clip-path=\"url(#clip380)\" d=\"\n",
       "M234.82 1423.18 L2352.76 1423.18 L2352.76 123.472 L234.82 123.472  Z\n",
       "  \" fill=\"#ffffff\" fill-rule=\"evenodd\" fill-opacity=\"1\"/>\n",
       "<defs>\n",
       "  <clipPath id=\"clip382\">\n",
       "    <rect x=\"234\" y=\"123\" width=\"2119\" height=\"1301\"/>\n",
       "  </clipPath>\n",
       "</defs>\n",
       "<polyline clip-path=\"url(#clip382)\" style=\"stroke:#000000; stroke-width:2; stroke-opacity:0.1; fill:none\" points=\"\n",
       "  234.82,1423.18 234.82,123.472 \n",
       "  \"/>\n",
       "<polyline clip-path=\"url(#clip382)\" style=\"stroke:#000000; stroke-width:2; stroke-opacity:0.1; fill:none\" points=\"\n",
       "  658.407,1423.18 658.407,123.472 \n",
       "  \"/>\n",
       "<polyline clip-path=\"url(#clip382)\" style=\"stroke:#000000; stroke-width:2; stroke-opacity:0.1; fill:none\" points=\"\n",
       "  1081.99,1423.18 1081.99,123.472 \n",
       "  \"/>\n",
       "<polyline clip-path=\"url(#clip382)\" style=\"stroke:#000000; stroke-width:2; stroke-opacity:0.1; fill:none\" points=\"\n",
       "  1505.58,1423.18 1505.58,123.472 \n",
       "  \"/>\n",
       "<polyline clip-path=\"url(#clip382)\" style=\"stroke:#000000; stroke-width:2; stroke-opacity:0.1; fill:none\" points=\"\n",
       "  1929.17,1423.18 1929.17,123.472 \n",
       "  \"/>\n",
       "<polyline clip-path=\"url(#clip382)\" style=\"stroke:#000000; stroke-width:2; stroke-opacity:0.1; fill:none\" points=\"\n",
       "  2352.76,1423.18 2352.76,123.472 \n",
       "  \"/>\n",
       "<polyline clip-path=\"url(#clip382)\" style=\"stroke:#000000; stroke-width:2; stroke-opacity:0.1; fill:none\" points=\"\n",
       "  234.82,1423.18 2352.76,1423.18 \n",
       "  \"/>\n",
       "<polyline clip-path=\"url(#clip382)\" style=\"stroke:#000000; stroke-width:2; stroke-opacity:0.1; fill:none\" points=\"\n",
       "  234.82,1113.73 2352.76,1113.73 \n",
       "  \"/>\n",
       "<polyline clip-path=\"url(#clip382)\" style=\"stroke:#000000; stroke-width:2; stroke-opacity:0.1; fill:none\" points=\"\n",
       "  234.82,804.271 2352.76,804.271 \n",
       "  \"/>\n",
       "<polyline clip-path=\"url(#clip382)\" style=\"stroke:#000000; stroke-width:2; stroke-opacity:0.1; fill:none\" points=\"\n",
       "  234.82,494.817 2352.76,494.817 \n",
       "  \"/>\n",
       "<polyline clip-path=\"url(#clip382)\" style=\"stroke:#000000; stroke-width:2; stroke-opacity:0.1; fill:none\" points=\"\n",
       "  234.82,185.363 2352.76,185.363 \n",
       "  \"/>\n",
       "<polyline clip-path=\"url(#clip380)\" style=\"stroke:#000000; stroke-width:4; stroke-opacity:1; fill:none\" points=\"\n",
       "  234.82,1423.18 2352.76,1423.18 \n",
       "  \"/>\n",
       "<polyline clip-path=\"url(#clip380)\" style=\"stroke:#000000; stroke-width:4; stroke-opacity:1; fill:none\" points=\"\n",
       "  234.82,1423.18 234.82,123.472 \n",
       "  \"/>\n",
       "<polyline clip-path=\"url(#clip380)\" style=\"stroke:#000000; stroke-width:4; stroke-opacity:1; fill:none\" points=\"\n",
       "  234.82,1423.18 234.82,1407.58 \n",
       "  \"/>\n",
       "<polyline clip-path=\"url(#clip380)\" style=\"stroke:#000000; stroke-width:4; stroke-opacity:1; fill:none\" points=\"\n",
       "  658.407,1423.18 658.407,1407.58 \n",
       "  \"/>\n",
       "<polyline clip-path=\"url(#clip380)\" style=\"stroke:#000000; stroke-width:4; stroke-opacity:1; fill:none\" points=\"\n",
       "  1081.99,1423.18 1081.99,1407.58 \n",
       "  \"/>\n",
       "<polyline clip-path=\"url(#clip380)\" style=\"stroke:#000000; stroke-width:4; stroke-opacity:1; fill:none\" points=\"\n",
       "  1505.58,1423.18 1505.58,1407.58 \n",
       "  \"/>\n",
       "<polyline clip-path=\"url(#clip380)\" style=\"stroke:#000000; stroke-width:4; stroke-opacity:1; fill:none\" points=\"\n",
       "  1929.17,1423.18 1929.17,1407.58 \n",
       "  \"/>\n",
       "<polyline clip-path=\"url(#clip380)\" style=\"stroke:#000000; stroke-width:4; stroke-opacity:1; fill:none\" points=\"\n",
       "  2352.76,1423.18 2352.76,1407.58 \n",
       "  \"/>\n",
       "<polyline clip-path=\"url(#clip380)\" style=\"stroke:#000000; stroke-width:4; stroke-opacity:1; fill:none\" points=\"\n",
       "  234.82,1423.18 260.235,1423.18 \n",
       "  \"/>\n",
       "<polyline clip-path=\"url(#clip380)\" style=\"stroke:#000000; stroke-width:4; stroke-opacity:1; fill:none\" points=\"\n",
       "  234.82,1113.73 260.235,1113.73 \n",
       "  \"/>\n",
       "<polyline clip-path=\"url(#clip380)\" style=\"stroke:#000000; stroke-width:4; stroke-opacity:1; fill:none\" points=\"\n",
       "  234.82,804.271 260.235,804.271 \n",
       "  \"/>\n",
       "<polyline clip-path=\"url(#clip380)\" style=\"stroke:#000000; stroke-width:4; stroke-opacity:1; fill:none\" points=\"\n",
       "  234.82,494.817 260.235,494.817 \n",
       "  \"/>\n",
       "<polyline clip-path=\"url(#clip380)\" style=\"stroke:#000000; stroke-width:4; stroke-opacity:1; fill:none\" points=\"\n",
       "  234.82,185.363 260.235,185.363 \n",
       "  \"/>\n",
       "<path clip-path=\"url(#clip380)\" d=\"M 0 0 M234.82 1445.17 Q231.209 1445.17 229.38 1448.74 Q227.575 1452.28 227.575 1459.41 Q227.575 1466.51 229.38 1470.08 Q231.209 1473.62 234.82 1473.62 Q238.454 1473.62 240.26 1470.08 Q242.088 1466.51 242.088 1459.41 Q242.088 1452.28 240.26 1448.74 Q238.454 1445.17 234.82 1445.17 M234.82 1441.47 Q240.63 1441.47 243.686 1446.07 Q246.764 1450.66 246.764 1459.41 Q246.764 1468.13 243.686 1472.74 Q240.63 1477.32 234.82 1477.32 Q229.01 1477.32 225.931 1472.74 Q222.876 1468.13 222.876 1459.41 Q222.876 1450.66 225.931 1446.07 Q229.01 1441.47 234.82 1441.47 Z\" fill=\"#000000\" fill-rule=\"evenodd\" fill-opacity=\"1\" /><path clip-path=\"url(#clip380)\" d=\"M 0 0 M621.775 1472.72 L629.414 1472.72 L629.414 1446.35 L621.104 1448.02 L621.104 1443.76 L629.368 1442.09 L634.044 1442.09 L634.044 1472.72 L641.683 1472.72 L641.683 1476.65 L621.775 1476.65 L621.775 1472.72 Z\" fill=\"#000000\" fill-rule=\"evenodd\" fill-opacity=\"1\" /><path clip-path=\"url(#clip380)\" d=\"M 0 0 M656.752 1445.17 Q653.141 1445.17 651.312 1448.74 Q649.507 1452.28 649.507 1459.41 Q649.507 1466.51 651.312 1470.08 Q653.141 1473.62 656.752 1473.62 Q660.386 1473.62 662.192 1470.08 Q664.02 1466.51 664.02 1459.41 Q664.02 1452.28 662.192 1448.74 Q660.386 1445.17 656.752 1445.17 M656.752 1441.47 Q662.562 1441.47 665.618 1446.07 Q668.696 1450.66 668.696 1459.41 Q668.696 1468.13 665.618 1472.74 Q662.562 1477.32 656.752 1477.32 Q650.942 1477.32 647.863 1472.74 Q644.808 1468.13 644.808 1459.41 Q644.808 1450.66 647.863 1446.07 Q650.942 1441.47 656.752 1441.47 Z\" fill=\"#000000\" fill-rule=\"evenodd\" fill-opacity=\"1\" /><path clip-path=\"url(#clip380)\" d=\"M 0 0 M683.766 1445.17 Q680.155 1445.17 678.326 1448.74 Q676.52 1452.28 676.52 1459.41 Q676.52 1466.51 678.326 1470.08 Q680.155 1473.62 683.766 1473.62 Q687.4 1473.62 689.206 1470.08 Q691.034 1466.51 691.034 1459.41 Q691.034 1452.28 689.206 1448.74 Q687.4 1445.17 683.766 1445.17 M683.766 1441.47 Q689.576 1441.47 692.631 1446.07 Q695.71 1450.66 695.71 1459.41 Q695.71 1468.13 692.631 1472.74 Q689.576 1477.32 683.766 1477.32 Q677.956 1477.32 674.877 1472.74 Q671.821 1468.13 671.821 1459.41 Q671.821 1450.66 674.877 1446.07 Q677.956 1441.47 683.766 1441.47 Z\" fill=\"#000000\" fill-rule=\"evenodd\" fill-opacity=\"1\" /><path clip-path=\"url(#clip380)\" d=\"M 0 0 M1049.63 1472.72 L1065.95 1472.72 L1065.95 1476.65 L1044.01 1476.65 L1044.01 1472.72 Q1046.67 1469.96 1051.25 1465.33 Q1055.86 1460.68 1057.04 1459.34 Q1059.29 1456.81 1060.17 1455.08 Q1061.07 1453.32 1061.07 1451.63 Q1061.07 1448.87 1059.12 1447.14 Q1057.2 1445.4 1054.1 1445.4 Q1051.9 1445.4 1049.45 1446.17 Q1047.02 1446.93 1044.24 1448.48 L1044.24 1443.76 Q1047.06 1442.62 1049.52 1442.05 Q1051.97 1441.47 1054.01 1441.47 Q1059.38 1441.47 1062.57 1444.15 Q1065.77 1446.84 1065.77 1451.33 Q1065.77 1453.46 1064.96 1455.38 Q1064.17 1457.28 1062.06 1459.87 Q1061.49 1460.54 1058.38 1463.76 Q1055.28 1466.95 1049.63 1472.72 Z\" fill=\"#000000\" fill-rule=\"evenodd\" fill-opacity=\"1\" /><path clip-path=\"url(#clip380)\" d=\"M 0 0 M1081.02 1445.17 Q1077.41 1445.17 1075.58 1448.74 Q1073.78 1452.28 1073.78 1459.41 Q1073.78 1466.51 1075.58 1470.08 Q1077.41 1473.62 1081.02 1473.62 Q1084.66 1473.62 1086.46 1470.08 Q1088.29 1466.51 1088.29 1459.41 Q1088.29 1452.28 1086.46 1448.74 Q1084.66 1445.17 1081.02 1445.17 M1081.02 1441.47 Q1086.83 1441.47 1089.89 1446.07 Q1092.97 1450.66 1092.97 1459.41 Q1092.97 1468.13 1089.89 1472.74 Q1086.83 1477.32 1081.02 1477.32 Q1075.21 1477.32 1072.13 1472.74 Q1069.08 1468.13 1069.08 1459.41 Q1069.08 1450.66 1072.13 1446.07 Q1075.21 1441.47 1081.02 1441.47 Z\" fill=\"#000000\" fill-rule=\"evenodd\" fill-opacity=\"1\" /><path clip-path=\"url(#clip380)\" d=\"M 0 0 M1108.04 1445.17 Q1104.42 1445.17 1102.6 1448.74 Q1100.79 1452.28 1100.79 1459.41 Q1100.79 1466.51 1102.6 1470.08 Q1104.42 1473.62 1108.04 1473.62 Q1111.67 1473.62 1113.48 1470.08 Q1115.3 1466.51 1115.3 1459.41 Q1115.3 1452.28 1113.48 1448.74 Q1111.67 1445.17 1108.04 1445.17 M1108.04 1441.47 Q1113.85 1441.47 1116.9 1446.07 Q1119.98 1450.66 1119.98 1459.41 Q1119.98 1468.13 1116.9 1472.74 Q1113.85 1477.32 1108.04 1477.32 Q1102.23 1477.32 1099.15 1472.74 Q1096.09 1468.13 1096.09 1459.41 Q1096.09 1450.66 1099.15 1446.07 Q1102.23 1441.47 1108.04 1441.47 Z\" fill=\"#000000\" fill-rule=\"evenodd\" fill-opacity=\"1\" /><path clip-path=\"url(#clip380)\" d=\"M 0 0 M1482.82 1458.02 Q1486.17 1458.74 1488.05 1461 Q1489.95 1463.27 1489.95 1466.61 Q1489.95 1471.72 1486.43 1474.52 Q1482.91 1477.32 1476.43 1477.32 Q1474.25 1477.32 1471.94 1476.88 Q1469.64 1476.47 1467.19 1475.61 L1467.19 1471.1 Q1469.13 1472.23 1471.45 1472.81 Q1473.76 1473.39 1476.29 1473.39 Q1480.69 1473.39 1482.98 1471.65 Q1485.29 1469.92 1485.29 1466.61 Q1485.29 1463.55 1483.14 1461.84 Q1481.01 1460.1 1477.19 1460.1 L1473.16 1460.1 L1473.16 1456.26 L1477.38 1456.26 Q1480.82 1456.26 1482.65 1454.89 Q1484.48 1453.5 1484.48 1450.91 Q1484.48 1448.25 1482.58 1446.84 Q1480.71 1445.4 1477.19 1445.4 Q1475.27 1445.4 1473.07 1445.82 Q1470.87 1446.24 1468.23 1447.11 L1468.23 1442.95 Q1470.89 1442.21 1473.21 1441.84 Q1475.55 1441.47 1477.61 1441.47 Q1482.93 1441.47 1486.03 1443.9 Q1489.13 1446.3 1489.13 1450.43 Q1489.13 1453.3 1487.49 1455.29 Q1485.85 1457.25 1482.82 1458.02 Z\" fill=\"#000000\" fill-rule=\"evenodd\" fill-opacity=\"1\" /><path clip-path=\"url(#clip380)\" d=\"M 0 0 M1505.01 1445.17 Q1501.4 1445.17 1499.57 1448.74 Q1497.77 1452.28 1497.77 1459.41 Q1497.77 1466.51 1499.57 1470.08 Q1501.4 1473.62 1505.01 1473.62 Q1508.65 1473.62 1510.45 1470.08 Q1512.28 1466.51 1512.28 1459.41 Q1512.28 1452.28 1510.45 1448.74 Q1508.65 1445.17 1505.01 1445.17 M1505.01 1441.47 Q1510.82 1441.47 1513.88 1446.07 Q1516.96 1450.66 1516.96 1459.41 Q1516.96 1468.13 1513.88 1472.74 Q1510.82 1477.32 1505.01 1477.32 Q1499.2 1477.32 1496.13 1472.74 Q1493.07 1468.13 1493.07 1459.41 Q1493.07 1450.66 1496.13 1446.07 Q1499.2 1441.47 1505.01 1441.47 Z\" fill=\"#000000\" fill-rule=\"evenodd\" fill-opacity=\"1\" /><path clip-path=\"url(#clip380)\" d=\"M 0 0 M1532.03 1445.17 Q1528.42 1445.17 1526.59 1448.74 Q1524.78 1452.28 1524.78 1459.41 Q1524.78 1466.51 1526.59 1470.08 Q1528.42 1473.62 1532.03 1473.62 Q1535.66 1473.62 1537.47 1470.08 Q1539.3 1466.51 1539.3 1459.41 Q1539.3 1452.28 1537.47 1448.74 Q1535.66 1445.17 1532.03 1445.17 M1532.03 1441.47 Q1537.84 1441.47 1540.89 1446.07 Q1543.97 1450.66 1543.97 1459.41 Q1543.97 1468.13 1540.89 1472.74 Q1537.84 1477.32 1532.03 1477.32 Q1526.22 1477.32 1523.14 1472.74 Q1520.08 1468.13 1520.08 1459.41 Q1520.08 1450.66 1523.14 1446.07 Q1526.22 1441.47 1532.03 1441.47 Z\" fill=\"#000000\" fill-rule=\"evenodd\" fill-opacity=\"1\" /><path clip-path=\"url(#clip380)\" d=\"M 0 0 M1905.16 1446.17 L1893.36 1464.61 L1905.16 1464.61 L1905.16 1446.17 M1903.94 1442.09 L1909.82 1442.09 L1909.82 1464.61 L1914.75 1464.61 L1914.75 1468.5 L1909.82 1468.5 L1909.82 1476.65 L1905.16 1476.65 L1905.16 1468.5 L1889.56 1468.5 L1889.56 1463.99 L1903.94 1442.09 Z\" fill=\"#000000\" fill-rule=\"evenodd\" fill-opacity=\"1\" /><path clip-path=\"url(#clip380)\" d=\"M 0 0 M1929.82 1445.17 Q1926.21 1445.17 1924.38 1448.74 Q1922.57 1452.28 1922.57 1459.41 Q1922.57 1466.51 1924.38 1470.08 Q1926.21 1473.62 1929.82 1473.62 Q1933.45 1473.62 1935.26 1470.08 Q1937.09 1466.51 1937.09 1459.41 Q1937.09 1452.28 1935.26 1448.74 Q1933.45 1445.17 1929.82 1445.17 M1929.82 1441.47 Q1935.63 1441.47 1938.68 1446.07 Q1941.76 1450.66 1941.76 1459.41 Q1941.76 1468.13 1938.68 1472.74 Q1935.63 1477.32 1929.82 1477.32 Q1924.01 1477.32 1920.93 1472.74 Q1917.87 1468.13 1917.87 1459.41 Q1917.87 1450.66 1920.93 1446.07 Q1924.01 1441.47 1929.82 1441.47 Z\" fill=\"#000000\" fill-rule=\"evenodd\" fill-opacity=\"1\" /><path clip-path=\"url(#clip380)\" d=\"M 0 0 M1956.83 1445.17 Q1953.22 1445.17 1951.39 1448.74 Q1949.59 1452.28 1949.59 1459.41 Q1949.59 1466.51 1951.39 1470.08 Q1953.22 1473.62 1956.83 1473.62 Q1960.46 1473.62 1962.27 1470.08 Q1964.1 1466.51 1964.1 1459.41 Q1964.1 1452.28 1962.27 1448.74 Q1960.46 1445.17 1956.83 1445.17 M1956.83 1441.47 Q1962.64 1441.47 1965.7 1446.07 Q1968.77 1450.66 1968.77 1459.41 Q1968.77 1468.13 1965.7 1472.74 Q1962.64 1477.32 1956.83 1477.32 Q1951.02 1477.32 1947.94 1472.74 Q1944.89 1468.13 1944.89 1459.41 Q1944.89 1450.66 1947.94 1446.07 Q1951.02 1441.47 1956.83 1441.47 Z\" fill=\"#000000\" fill-rule=\"evenodd\" fill-opacity=\"1\" /><path clip-path=\"url(#clip380)\" d=\"M 0 0 M2316.02 1442.09 L2334.38 1442.09 L2334.38 1446.03 L2320.3 1446.03 L2320.3 1454.5 Q2321.32 1454.15 2322.34 1453.99 Q2323.36 1453.8 2324.38 1453.8 Q2330.16 1453.8 2333.54 1456.98 Q2336.92 1460.15 2336.92 1465.56 Q2336.92 1471.14 2333.45 1474.24 Q2329.98 1477.32 2323.66 1477.32 Q2321.48 1477.32 2319.21 1476.95 Q2316.97 1476.58 2314.56 1475.84 L2314.56 1471.14 Q2316.64 1472.28 2318.87 1472.83 Q2321.09 1473.39 2323.57 1473.39 Q2327.57 1473.39 2329.91 1471.28 Q2332.25 1469.18 2332.25 1465.56 Q2332.25 1461.95 2329.91 1459.85 Q2327.57 1457.74 2323.57 1457.74 Q2321.69 1457.74 2319.82 1458.16 Q2317.96 1458.57 2316.02 1459.45 L2316.02 1442.09 Z\" fill=\"#000000\" fill-rule=\"evenodd\" fill-opacity=\"1\" /><path clip-path=\"url(#clip380)\" d=\"M 0 0 M2351.99 1445.17 Q2348.38 1445.17 2346.55 1448.74 Q2344.75 1452.28 2344.75 1459.41 Q2344.75 1466.51 2346.55 1470.08 Q2348.38 1473.62 2351.99 1473.62 Q2355.63 1473.62 2357.43 1470.08 Q2359.26 1466.51 2359.26 1459.41 Q2359.26 1452.28 2357.43 1448.74 Q2355.63 1445.17 2351.99 1445.17 M2351.99 1441.47 Q2357.8 1441.47 2360.86 1446.07 Q2363.94 1450.66 2363.94 1459.41 Q2363.94 1468.13 2360.86 1472.74 Q2357.8 1477.32 2351.99 1477.32 Q2346.18 1477.32 2343.1 1472.74 Q2340.05 1468.13 2340.05 1459.41 Q2340.05 1450.66 2343.1 1446.07 Q2346.18 1441.47 2351.99 1441.47 Z\" fill=\"#000000\" fill-rule=\"evenodd\" fill-opacity=\"1\" /><path clip-path=\"url(#clip380)\" d=\"M 0 0 M2379.01 1445.17 Q2375.39 1445.17 2373.57 1448.74 Q2371.76 1452.28 2371.76 1459.41 Q2371.76 1466.51 2373.57 1470.08 Q2375.39 1473.62 2379.01 1473.62 Q2382.64 1473.62 2384.45 1470.08 Q2386.27 1466.51 2386.27 1459.41 Q2386.27 1452.28 2384.45 1448.74 Q2382.64 1445.17 2379.01 1445.17 M2379.01 1441.47 Q2384.82 1441.47 2387.87 1446.07 Q2390.95 1450.66 2390.95 1459.41 Q2390.95 1468.13 2387.87 1472.74 Q2384.82 1477.32 2379.01 1477.32 Q2373.2 1477.32 2370.12 1472.74 Q2367.06 1468.13 2367.06 1459.41 Q2367.06 1450.66 2370.12 1446.07 Q2373.2 1441.47 2379.01 1441.47 Z\" fill=\"#000000\" fill-rule=\"evenodd\" fill-opacity=\"1\" /><path clip-path=\"url(#clip380)\" d=\"M 0 0 M161.908 1408.98 Q158.297 1408.98 156.468 1412.54 Q154.663 1416.08 154.663 1423.21 Q154.663 1430.32 156.468 1433.89 Q158.297 1437.43 161.908 1437.43 Q165.542 1437.43 167.348 1433.89 Q169.177 1430.32 169.177 1423.21 Q169.177 1416.08 167.348 1412.54 Q165.542 1408.98 161.908 1408.98 M161.908 1405.27 Q167.718 1405.27 170.774 1409.88 Q173.852 1414.46 173.852 1423.21 Q173.852 1431.94 170.774 1436.55 Q167.718 1441.13 161.908 1441.13 Q156.098 1441.13 153.019 1436.55 Q149.964 1431.94 149.964 1423.21 Q149.964 1414.46 153.019 1409.88 Q156.098 1405.27 161.908 1405.27 Z\" fill=\"#000000\" fill-rule=\"evenodd\" fill-opacity=\"1\" /><path clip-path=\"url(#clip380)\" d=\"M 0 0 M178.922 1434.58 L183.806 1434.58 L183.806 1440.46 L178.922 1440.46 L178.922 1434.58 Z\" fill=\"#000000\" fill-rule=\"evenodd\" fill-opacity=\"1\" /><path clip-path=\"url(#clip380)\" d=\"M 0 0 M198.876 1408.98 Q195.264 1408.98 193.436 1412.54 Q191.63 1416.08 191.63 1423.21 Q191.63 1430.32 193.436 1433.89 Q195.264 1437.43 198.876 1437.43 Q202.51 1437.43 204.315 1433.89 Q206.144 1430.32 206.144 1423.21 Q206.144 1416.08 204.315 1412.54 Q202.51 1408.98 198.876 1408.98 M198.876 1405.27 Q204.686 1405.27 207.741 1409.88 Q210.82 1414.46 210.82 1423.21 Q210.82 1431.94 207.741 1436.55 Q204.686 1441.13 198.876 1441.13 Q193.065 1441.13 189.987 1436.55 Q186.931 1431.94 186.931 1423.21 Q186.931 1414.46 189.987 1409.88 Q193.065 1405.27 198.876 1405.27 Z\" fill=\"#000000\" fill-rule=\"evenodd\" fill-opacity=\"1\" /><path clip-path=\"url(#clip380)\" d=\"M 0 0 M158.529 1127.07 L174.848 1127.07 L174.848 1131.01 L152.904 1131.01 L152.904 1127.07 Q155.566 1124.32 160.149 1119.69 Q164.755 1115.03 165.936 1113.69 Q168.181 1111.17 169.061 1109.43 Q169.964 1107.67 169.964 1105.98 Q169.964 1103.23 168.019 1101.49 Q166.098 1099.76 162.996 1099.76 Q160.797 1099.76 158.343 1100.52 Q155.913 1101.28 153.135 1102.83 L153.135 1098.11 Q155.959 1096.98 158.413 1096.4 Q160.866 1095.82 162.903 1095.82 Q168.274 1095.82 171.468 1098.51 Q174.663 1101.19 174.663 1105.68 Q174.663 1107.81 173.852 1109.73 Q173.065 1111.63 170.959 1114.22 Q170.38 1114.89 167.278 1118.11 Q164.177 1121.31 158.529 1127.07 Z\" fill=\"#000000\" fill-rule=\"evenodd\" fill-opacity=\"1\" /><path clip-path=\"url(#clip380)\" d=\"M 0 0 M179.917 1125.13 L184.802 1125.13 L184.802 1131.01 L179.917 1131.01 L179.917 1125.13 Z\" fill=\"#000000\" fill-rule=\"evenodd\" fill-opacity=\"1\" /><path clip-path=\"url(#clip380)\" d=\"M 0 0 M189.917 1096.45 L208.274 1096.45 L208.274 1100.38 L194.2 1100.38 L194.2 1108.85 Q195.218 1108.51 196.237 1108.34 Q197.255 1108.16 198.274 1108.16 Q204.061 1108.16 207.44 1111.33 Q210.82 1114.5 210.82 1119.92 Q210.82 1125.5 207.348 1128.6 Q203.875 1131.68 197.556 1131.68 Q195.38 1131.68 193.112 1131.31 Q190.866 1130.94 188.459 1130.2 L188.459 1125.5 Q190.542 1126.63 192.764 1127.19 Q194.987 1127.74 197.463 1127.74 Q201.468 1127.74 203.806 1125.64 Q206.144 1123.53 206.144 1119.92 Q206.144 1116.31 203.806 1114.2 Q201.468 1112.09 197.463 1112.09 Q195.588 1112.09 193.713 1112.51 Q191.862 1112.93 189.917 1113.81 L189.917 1096.45 Z\" fill=\"#000000\" fill-rule=\"evenodd\" fill-opacity=\"1\" /><path clip-path=\"url(#clip380)\" d=\"M 0 0 M152.95 786.991 L171.306 786.991 L171.306 790.927 L157.232 790.927 L157.232 799.399 Q158.251 799.052 159.269 798.889 Q160.288 798.704 161.306 798.704 Q167.093 798.704 170.473 801.876 Q173.852 805.047 173.852 810.464 Q173.852 816.042 170.38 819.144 Q166.908 822.223 160.589 822.223 Q158.413 822.223 156.144 821.852 Q153.899 821.482 151.492 820.741 L151.492 816.042 Q153.575 817.176 155.797 817.732 Q158.019 818.288 160.496 818.288 Q164.501 818.288 166.839 816.181 Q169.177 814.075 169.177 810.464 Q169.177 806.852 166.839 804.746 Q164.501 802.639 160.496 802.639 Q158.621 802.639 156.746 803.056 Q154.894 803.473 152.95 804.352 L152.95 786.991 Z\" fill=\"#000000\" fill-rule=\"evenodd\" fill-opacity=\"1\" /><path clip-path=\"url(#clip380)\" d=\"M 0 0 M178.922 815.672 L183.806 815.672 L183.806 821.551 L178.922 821.551 L178.922 815.672 Z\" fill=\"#000000\" fill-rule=\"evenodd\" fill-opacity=\"1\" /><path clip-path=\"url(#clip380)\" d=\"M 0 0 M198.876 790.07 Q195.264 790.07 193.436 793.635 Q191.63 797.177 191.63 804.306 Q191.63 811.413 193.436 814.977 Q195.264 818.519 198.876 818.519 Q202.51 818.519 204.315 814.977 Q206.144 811.413 206.144 804.306 Q206.144 797.177 204.315 793.635 Q202.51 790.07 198.876 790.07 M198.876 786.366 Q204.686 786.366 207.741 790.973 Q210.82 795.556 210.82 804.306 Q210.82 813.033 207.741 817.639 Q204.686 822.223 198.876 822.223 Q193.065 822.223 189.987 817.639 Q186.931 813.033 186.931 804.306 Q186.931 795.556 189.987 790.973 Q193.065 786.366 198.876 786.366 Z\" fill=\"#000000\" fill-rule=\"evenodd\" fill-opacity=\"1\" /><path clip-path=\"url(#clip380)\" d=\"M 0 0 M152.626 477.537 L174.848 477.537 L174.848 479.528 L162.302 512.097 L157.417 512.097 L169.223 481.472 L152.626 481.472 L152.626 477.537 Z\" fill=\"#000000\" fill-rule=\"evenodd\" fill-opacity=\"1\" /><path clip-path=\"url(#clip380)\" d=\"M 0 0 M179.917 506.218 L184.802 506.218 L184.802 512.097 L179.917 512.097 L179.917 506.218 Z\" fill=\"#000000\" fill-rule=\"evenodd\" fill-opacity=\"1\" /><path clip-path=\"url(#clip380)\" d=\"M 0 0 M189.917 477.537 L208.274 477.537 L208.274 481.472 L194.2 481.472 L194.2 489.945 Q195.218 489.597 196.237 489.435 Q197.255 489.25 198.274 489.25 Q204.061 489.25 207.44 492.421 Q210.82 495.593 210.82 501.009 Q210.82 506.588 207.348 509.69 Q203.875 512.768 197.556 512.768 Q195.38 512.768 193.112 512.398 Q190.866 512.028 188.459 511.287 L188.459 506.588 Q190.542 507.722 192.764 508.278 Q194.987 508.833 197.463 508.833 Q201.468 508.833 203.806 506.727 Q206.144 504.62 206.144 501.009 Q206.144 497.398 203.806 495.292 Q201.468 493.185 197.463 493.185 Q195.588 493.185 193.713 493.602 Q191.862 494.019 189.917 494.898 L189.917 477.537 Z\" fill=\"#000000\" fill-rule=\"evenodd\" fill-opacity=\"1\" /><path clip-path=\"url(#clip380)\" d=\"M 0 0 M126.931 198.708 L134.57 198.708 L134.57 172.342 L126.26 174.009 L126.26 169.75 L134.524 168.083 L139.2 168.083 L139.2 198.708 L146.839 198.708 L146.839 202.643 L126.931 202.643 L126.931 198.708 Z\" fill=\"#000000\" fill-rule=\"evenodd\" fill-opacity=\"1\" /><path clip-path=\"url(#clip380)\" d=\"M 0 0 M161.908 171.162 Q158.297 171.162 156.468 174.726 Q154.663 178.268 154.663 185.398 Q154.663 192.504 156.468 196.069 Q158.297 199.611 161.908 199.611 Q165.542 199.611 167.348 196.069 Q169.177 192.504 169.177 185.398 Q169.177 178.268 167.348 174.726 Q165.542 171.162 161.908 171.162 M161.908 167.458 Q167.718 167.458 170.774 172.064 Q173.852 176.648 173.852 185.398 Q173.852 194.124 170.774 198.731 Q167.718 203.314 161.908 203.314 Q156.098 203.314 153.019 198.731 Q149.964 194.124 149.964 185.398 Q149.964 176.648 153.019 172.064 Q156.098 167.458 161.908 167.458 Z\" fill=\"#000000\" fill-rule=\"evenodd\" fill-opacity=\"1\" /><path clip-path=\"url(#clip380)\" d=\"M 0 0 M178.922 196.763 L183.806 196.763 L183.806 202.643 L178.922 202.643 L178.922 196.763 Z\" fill=\"#000000\" fill-rule=\"evenodd\" fill-opacity=\"1\" /><path clip-path=\"url(#clip380)\" d=\"M 0 0 M198.876 171.162 Q195.264 171.162 193.436 174.726 Q191.63 178.268 191.63 185.398 Q191.63 192.504 193.436 196.069 Q195.264 199.611 198.876 199.611 Q202.51 199.611 204.315 196.069 Q206.144 192.504 206.144 185.398 Q206.144 178.268 204.315 174.726 Q202.51 171.162 198.876 171.162 M198.876 167.458 Q204.686 167.458 207.741 172.064 Q210.82 176.648 210.82 185.398 Q210.82 194.124 207.741 198.731 Q204.686 203.314 198.876 203.314 Q193.065 203.314 189.987 198.731 Q186.931 194.124 186.931 185.398 Q186.931 176.648 189.987 172.064 Q193.065 167.458 198.876 167.458 Z\" fill=\"#000000\" fill-rule=\"evenodd\" fill-opacity=\"1\" /><path clip-path=\"url(#clip380)\" d=\"M 0 0 M1097.04 12.096 L1109.23 12.096 L1124.66 53.2532 L1140.18 12.096 L1152.37 12.096 L1152.37 72.576 L1144.39 72.576 L1144.39 19.4686 L1128.79 60.9499 L1120.57 60.9499 L1104.98 19.4686 L1104.98 72.576 L1097.04 72.576 L1097.04 12.096 Z\" fill=\"#000000\" fill-rule=\"evenodd\" fill-opacity=\"1\" /><path clip-path=\"url(#clip380)\" d=\"M 0 0 M1160.19 27.2059 L1167.64 27.2059 L1167.64 72.576 L1160.19 72.576 L1160.19 27.2059 M1160.19 9.54393 L1167.64 9.54393 L1167.64 18.9825 L1160.19 18.9825 L1160.19 9.54393 Z\" fill=\"#000000\" fill-rule=\"evenodd\" fill-opacity=\"1\" /><path clip-path=\"url(#clip380)\" d=\"M 0 0 M1205.32 34.0924 L1205.32 9.54393 L1212.77 9.54393 L1212.77 72.576 L1205.32 72.576 L1205.32 65.7705 Q1202.97 69.8214 1199.36 71.8063 Q1195.8 73.7508 1190.77 73.7508 Q1182.55 73.7508 1177.36 67.1883 Q1172.22 60.6258 1172.22 49.9314 Q1172.22 39.2371 1177.36 32.6746 Q1182.55 26.1121 1190.77 26.1121 Q1195.8 26.1121 1199.36 28.0971 Q1202.97 30.0415 1205.32 34.0924 M1179.92 49.9314 Q1179.92 58.1548 1183.28 62.8538 Q1186.68 67.5124 1192.6 67.5124 Q1198.51 67.5124 1201.91 62.8538 Q1205.32 58.1548 1205.32 49.9314 Q1205.32 41.7081 1201.91 37.0496 Q1198.51 32.3505 1192.6 32.3505 Q1186.68 32.3505 1183.28 37.0496 Q1179.92 41.7081 1179.92 49.9314 Z\" fill=\"#000000\" fill-rule=\"evenodd\" fill-opacity=\"1\" /><path clip-path=\"url(#clip380)\" d=\"M 0 0 M1250.44 34.0924 L1250.44 9.54393 L1257.9 9.54393 L1257.9 72.576 L1250.44 72.576 L1250.44 65.7705 Q1248.09 69.8214 1244.49 71.8063 Q1240.92 73.7508 1235.9 73.7508 Q1227.68 73.7508 1222.49 67.1883 Q1217.35 60.6258 1217.35 49.9314 Q1217.35 39.2371 1222.49 32.6746 Q1227.68 26.1121 1235.9 26.1121 Q1240.92 26.1121 1244.49 28.0971 Q1248.09 30.0415 1250.44 34.0924 M1225.04 49.9314 Q1225.04 58.1548 1228.41 62.8538 Q1231.81 67.5124 1237.72 67.5124 Q1243.64 67.5124 1247.04 62.8538 Q1250.44 58.1548 1250.44 49.9314 Q1250.44 41.7081 1247.04 37.0496 Q1243.64 32.3505 1237.72 32.3505 Q1231.81 32.3505 1228.41 37.0496 Q1225.04 41.7081 1225.04 49.9314 Z\" fill=\"#000000\" fill-rule=\"evenodd\" fill-opacity=\"1\" /><path clip-path=\"url(#clip380)\" d=\"M 0 0 M1265.72 9.54393 L1273.17 9.54393 L1273.17 72.576 L1265.72 72.576 L1265.72 9.54393 Z\" fill=\"#000000\" fill-rule=\"evenodd\" fill-opacity=\"1\" /><path clip-path=\"url(#clip380)\" d=\"M 0 0 M1319.79 48.0275 L1319.79 51.6733 L1285.52 51.6733 Q1286.01 59.3701 1290.14 63.421 Q1294.31 67.4314 1301.73 67.4314 Q1306.02 67.4314 1310.03 66.3781 Q1314.08 65.3249 1318.05 63.2184 L1318.05 70.267 Q1314.04 71.9684 1309.83 72.8596 Q1305.62 73.7508 1301.28 73.7508 Q1290.43 73.7508 1284.07 67.4314 Q1277.75 61.1119 1277.75 50.3365 Q1277.75 39.1965 1283.74 32.6746 Q1289.78 26.1121 1299.99 26.1121 Q1309.14 26.1121 1314.45 32.0264 Q1319.79 37.9003 1319.79 48.0275 M1312.34 45.84 Q1312.26 39.7232 1308.9 36.0774 Q1305.58 32.4315 1300.07 32.4315 Q1293.83 32.4315 1290.06 35.9558 Q1286.33 39.4801 1285.77 45.8805 L1312.34 45.84 Z\" fill=\"#000000\" fill-rule=\"evenodd\" fill-opacity=\"1\" /><path clip-path=\"url(#clip380)\" d=\"M 0 0 M1345.92 12.096 L1397.09 12.096 L1397.09 18.9825 L1375.62 18.9825 L1375.62 72.576 L1367.39 72.576 L1367.39 18.9825 L1345.92 18.9825 L1345.92 12.096 Z\" fill=\"#000000\" fill-rule=\"evenodd\" fill-opacity=\"1\" /><path clip-path=\"url(#clip380)\" d=\"M 0 0 M1402.35 27.2059 L1409.81 27.2059 L1409.81 72.576 L1402.35 72.576 L1402.35 27.2059 M1402.35 9.54393 L1409.81 9.54393 L1409.81 18.9825 L1402.35 18.9825 L1402.35 9.54393 Z\" fill=\"#000000\" fill-rule=\"evenodd\" fill-opacity=\"1\" /><path clip-path=\"url(#clip380)\" d=\"M 0 0 M1456.43 48.0275 L1456.43 51.6733 L1422.16 51.6733 Q1422.65 59.3701 1426.78 63.421 Q1430.95 67.4314 1438.36 67.4314 Q1442.66 67.4314 1446.67 66.3781 Q1450.72 65.3249 1454.69 63.2184 L1454.69 70.267 Q1450.68 71.9684 1446.47 72.8596 Q1442.25 73.7508 1437.92 73.7508 Q1427.06 73.7508 1420.7 67.4314 Q1414.38 61.1119 1414.38 50.3365 Q1414.38 39.1965 1420.38 32.6746 Q1426.41 26.1121 1436.62 26.1121 Q1445.78 26.1121 1451.08 32.0264 Q1456.43 37.9003 1456.43 48.0275 M1448.98 45.84 Q1448.9 39.7232 1445.53 36.0774 Q1442.21 32.4315 1436.7 32.4315 Q1430.47 32.4315 1426.7 35.9558 Q1422.97 39.4801 1422.4 45.8805 L1448.98 45.84 Z\" fill=\"#000000\" fill-rule=\"evenodd\" fill-opacity=\"1\" /><path clip-path=\"url(#clip380)\" d=\"M 0 0 M1490.54 34.1734 Q1489.28 33.4443 1487.79 33.1202 Q1486.33 32.7556 1484.54 32.7556 Q1478.23 32.7556 1474.82 36.8875 Q1471.46 40.9789 1471.46 48.6757 L1471.46 72.576 L1463.97 72.576 L1463.97 27.2059 L1471.46 27.2059 L1471.46 34.2544 Q1473.81 30.1225 1477.58 28.1376 Q1481.34 26.1121 1486.73 26.1121 Q1487.5 26.1121 1488.43 26.2337 Q1489.37 26.3147 1490.5 26.5172 L1490.54 34.1734 Z\" fill=\"#000000\" fill-rule=\"evenodd\" fill-opacity=\"1\" /><path clip-path=\"url(#clip380)\" d=\"M 0 0 M1017.37 1521.76 L1017.37 1527.24 Q1014.89 1525.87 1012.38 1525.2 Q1009.89 1524.5 1007.35 1524.5 Q1001.65 1524.5 998.499 1528.13 Q995.348 1531.73 995.348 1538.25 Q995.348 1544.78 998.499 1548.4 Q1001.65 1552 1007.35 1552 Q1009.89 1552 1012.38 1551.33 Q1014.89 1550.63 1017.37 1549.26 L1017.37 1554.68 Q1014.92 1555.82 1012.28 1556.39 Q1009.67 1556.97 1006.71 1556.97 Q998.658 1556.97 993.915 1551.91 Q989.173 1546.85 989.173 1538.25 Q989.173 1529.53 993.947 1524.53 Q998.753 1519.54 1007.09 1519.54 Q1009.8 1519.54 1012.38 1520.11 Q1014.95 1520.65 1017.37 1521.76 Z\" fill=\"#000000\" fill-rule=\"evenodd\" fill-opacity=\"1\" /><path clip-path=\"url(#clip380)\" d=\"M 0 0 M1022.91 1541.98 L1022.91 1520.4 L1028.77 1520.4 L1028.77 1541.75 Q1028.77 1546.81 1030.74 1549.36 Q1032.71 1551.87 1036.66 1551.87 Q1041.4 1551.87 1044.14 1548.85 Q1046.91 1545.83 1046.91 1540.61 L1046.91 1520.4 L1052.77 1520.4 L1052.77 1556.04 L1046.91 1556.04 L1046.91 1550.57 Q1044.78 1553.82 1041.94 1555.41 Q1039.14 1556.97 1035.42 1556.97 Q1029.28 1556.97 1026.09 1553.15 Q1022.91 1549.33 1022.91 1541.98 M1037.65 1519.54 L1037.65 1519.54 Z\" fill=\"#000000\" fill-rule=\"evenodd\" fill-opacity=\"1\" /><path clip-path=\"url(#clip380)\" d=\"M 0 0 M1079.57 1525.87 Q1078.58 1525.3 1077.4 1525.04 Q1076.26 1524.76 1074.86 1524.76 Q1069.89 1524.76 1067.22 1528 Q1064.57 1531.22 1064.57 1537.27 L1064.57 1556.04 L1058.69 1556.04 L1058.69 1520.4 L1064.57 1520.4 L1064.57 1525.93 Q1066.42 1522.69 1069.38 1521.13 Q1072.34 1519.54 1076.57 1519.54 Q1077.18 1519.54 1077.91 1519.63 Q1078.64 1519.7 1079.53 1519.85 L1079.57 1525.87 Z\" fill=\"#000000\" fill-rule=\"evenodd\" fill-opacity=\"1\" /><path clip-path=\"url(#clip380)\" d=\"M 0 0 M1105.22 1525.87 Q1104.23 1525.3 1103.06 1525.04 Q1101.91 1524.76 1100.51 1524.76 Q1095.54 1524.76 1092.87 1528 Q1090.23 1531.22 1090.23 1537.27 L1090.23 1556.04 L1084.34 1556.04 L1084.34 1520.4 L1090.23 1520.4 L1090.23 1525.93 Q1092.07 1522.69 1095.03 1521.13 Q1097.99 1519.54 1102.23 1519.54 Q1102.83 1519.54 1103.56 1519.63 Q1104.3 1519.7 1105.19 1519.85 L1105.22 1525.87 Z\" fill=\"#000000\" fill-rule=\"evenodd\" fill-opacity=\"1\" /><path clip-path=\"url(#clip380)\" d=\"M 0 0 M1111.36 1520.4 L1117.22 1520.4 L1117.22 1556.04 L1111.36 1556.04 L1111.36 1520.4 M1111.36 1506.52 L1117.22 1506.52 L1117.22 1513.93 L1111.36 1513.93 L1111.36 1506.52 Z\" fill=\"#000000\" fill-rule=\"evenodd\" fill-opacity=\"1\" /><path clip-path=\"url(#clip380)\" d=\"M 0 0 M1149.02 1521.76 L1149.02 1527.24 Q1146.53 1525.87 1144.02 1525.2 Q1141.54 1524.5 1138.99 1524.5 Q1133.29 1524.5 1130.14 1528.13 Q1126.99 1531.73 1126.99 1538.25 Q1126.99 1544.78 1130.14 1548.4 Q1133.29 1552 1138.99 1552 Q1141.54 1552 1144.02 1551.33 Q1146.53 1550.63 1149.02 1549.26 L1149.02 1554.68 Q1146.57 1555.82 1143.92 1556.39 Q1141.31 1556.97 1138.35 1556.97 Q1130.3 1556.97 1125.56 1551.91 Q1120.82 1546.85 1120.82 1538.25 Q1120.82 1529.53 1125.59 1524.53 Q1130.4 1519.54 1138.74 1519.54 Q1141.44 1519.54 1144.02 1520.11 Q1146.6 1520.65 1149.02 1521.76 Z\" fill=\"#000000\" fill-rule=\"evenodd\" fill-opacity=\"1\" /><path clip-path=\"url(#clip380)\" d=\"M 0 0 M1154.55 1541.98 L1154.55 1520.4 L1160.41 1520.4 L1160.41 1541.75 Q1160.41 1546.81 1162.38 1549.36 Q1164.36 1551.87 1168.3 1551.87 Q1173.05 1551.87 1175.78 1548.85 Q1178.55 1545.83 1178.55 1540.61 L1178.55 1520.4 L1184.41 1520.4 L1184.41 1556.04 L1178.55 1556.04 L1178.55 1550.57 Q1176.42 1553.82 1173.59 1555.41 Q1170.79 1556.97 1167.06 1556.97 Q1160.92 1556.97 1157.74 1553.15 Q1154.55 1549.33 1154.55 1541.98 M1169.29 1519.54 L1169.29 1519.54 Z\" fill=\"#000000\" fill-rule=\"evenodd\" fill-opacity=\"1\" /><path clip-path=\"url(#clip380)\" d=\"M 0 0 M1190.55 1506.52 L1196.41 1506.52 L1196.41 1556.04 L1190.55 1556.04 L1190.55 1506.52 Z\" fill=\"#000000\" fill-rule=\"evenodd\" fill-opacity=\"1\" /><path clip-path=\"url(#clip380)\" d=\"M 0 0 M1218.75 1538.12 Q1211.65 1538.12 1208.92 1539.75 Q1206.18 1541.37 1206.18 1545.29 Q1206.18 1548.4 1208.22 1550.25 Q1210.29 1552.07 1213.82 1552.07 Q1218.69 1552.07 1221.62 1548.63 Q1224.58 1545.16 1224.58 1539.43 L1224.58 1538.12 L1218.75 1538.12 M1230.43 1535.71 L1230.43 1556.04 L1224.58 1556.04 L1224.58 1550.63 Q1222.57 1553.88 1219.58 1555.44 Q1216.59 1556.97 1212.26 1556.97 Q1206.78 1556.97 1203.54 1553.91 Q1200.32 1550.82 1200.32 1545.67 Q1200.32 1539.65 1204.33 1536.6 Q1208.38 1533.54 1216.36 1533.54 L1224.58 1533.54 L1224.58 1532.97 Q1224.58 1528.93 1221.9 1526.73 Q1219.26 1524.5 1214.46 1524.5 Q1211.4 1524.5 1208.5 1525.23 Q1205.61 1525.97 1202.93 1527.43 L1202.93 1522.02 Q1206.15 1520.78 1209.17 1520.17 Q1212.2 1519.54 1215.06 1519.54 Q1222.79 1519.54 1226.61 1523.55 Q1230.43 1527.56 1230.43 1535.71 Z\" fill=\"#000000\" fill-rule=\"evenodd\" fill-opacity=\"1\" /><path clip-path=\"url(#clip380)\" d=\"M 0 0 M1257.23 1525.87 Q1256.25 1525.3 1255.07 1525.04 Q1253.92 1524.76 1252.52 1524.76 Q1247.56 1524.76 1244.88 1528 Q1242.24 1531.22 1242.24 1537.27 L1242.24 1556.04 L1236.35 1556.04 L1236.35 1520.4 L1242.24 1520.4 L1242.24 1525.93 Q1244.09 1522.69 1247.05 1521.13 Q1250.01 1519.54 1254.24 1519.54 Q1254.85 1519.54 1255.58 1519.63 Q1256.31 1519.7 1257.2 1519.85 L1257.23 1525.87 Z\" fill=\"#000000\" fill-rule=\"evenodd\" fill-opacity=\"1\" /><path clip-path=\"url(#clip380)\" d=\"M 0 0 M1309.75 1521.76 L1309.75 1527.24 Q1307.27 1525.87 1304.75 1525.2 Q1302.27 1524.5 1299.72 1524.5 Q1294.03 1524.5 1290.88 1528.13 Q1287.72 1531.73 1287.72 1538.25 Q1287.72 1544.78 1290.88 1548.4 Q1294.03 1552 1299.72 1552 Q1302.27 1552 1304.75 1551.33 Q1307.27 1550.63 1309.75 1549.26 L1309.75 1554.68 Q1307.3 1555.82 1304.66 1556.39 Q1302.05 1556.97 1299.09 1556.97 Q1291.03 1556.97 1286.29 1551.91 Q1281.55 1546.85 1281.55 1538.25 Q1281.55 1529.53 1286.32 1524.53 Q1291.13 1519.54 1299.47 1519.54 Q1302.17 1519.54 1304.75 1520.11 Q1307.33 1520.65 1309.75 1521.76 Z\" fill=\"#000000\" fill-rule=\"evenodd\" fill-opacity=\"1\" /><path clip-path=\"url(#clip380)\" d=\"M 0 0 M1329.71 1524.5 Q1325 1524.5 1322.26 1528.19 Q1319.52 1531.85 1319.52 1538.25 Q1319.52 1544.65 1322.23 1548.34 Q1324.96 1552 1329.71 1552 Q1334.39 1552 1337.12 1548.31 Q1339.86 1544.62 1339.86 1538.25 Q1339.86 1531.92 1337.12 1528.23 Q1334.39 1524.5 1329.71 1524.5 M1329.71 1519.54 Q1337.35 1519.54 1341.71 1524.5 Q1346.07 1529.47 1346.07 1538.25 Q1346.07 1547 1341.71 1552 Q1337.35 1556.97 1329.71 1556.97 Q1322.04 1556.97 1317.68 1552 Q1313.35 1547 1313.35 1538.25 Q1313.35 1529.47 1317.68 1524.5 Q1322.04 1519.54 1329.71 1519.54 Z\" fill=\"#000000\" fill-rule=\"evenodd\" fill-opacity=\"1\" /><path clip-path=\"url(#clip380)\" d=\"M 0 0 M1379.96 1527.24 Q1382.16 1523.29 1385.22 1521.41 Q1388.27 1519.54 1392.41 1519.54 Q1397.98 1519.54 1401 1523.45 Q1404.03 1527.33 1404.03 1534.53 L1404.03 1556.04 L1398.14 1556.04 L1398.14 1534.72 Q1398.14 1529.59 1396.32 1527.11 Q1394.51 1524.63 1390.79 1524.63 Q1386.23 1524.63 1383.59 1527.65 Q1380.95 1530.68 1380.95 1535.9 L1380.95 1556.04 L1375.06 1556.04 L1375.06 1534.72 Q1375.06 1529.56 1373.25 1527.11 Q1371.43 1524.63 1367.65 1524.63 Q1363.16 1524.63 1360.52 1527.68 Q1357.87 1530.71 1357.87 1535.9 L1357.87 1556.04 L1351.99 1556.04 L1351.99 1520.4 L1357.87 1520.4 L1357.87 1525.93 Q1359.88 1522.66 1362.68 1521.1 Q1365.48 1519.54 1369.33 1519.54 Q1373.22 1519.54 1375.92 1521.51 Q1378.66 1523.48 1379.96 1527.24 Z\" fill=\"#000000\" fill-rule=\"evenodd\" fill-opacity=\"1\" /><path clip-path=\"url(#clip380)\" d=\"M 0 0 M1415.83 1550.7 L1415.83 1569.6 L1409.95 1569.6 L1409.95 1520.4 L1415.83 1520.4 L1415.83 1525.81 Q1417.68 1522.62 1420.48 1521.1 Q1423.31 1519.54 1427.23 1519.54 Q1433.72 1519.54 1437.76 1524.69 Q1441.84 1529.85 1441.84 1538.25 Q1441.84 1546.65 1437.76 1551.81 Q1433.72 1556.97 1427.23 1556.97 Q1423.31 1556.97 1420.48 1555.44 Q1417.68 1553.88 1415.83 1550.7 M1435.76 1538.25 Q1435.76 1531.79 1433.09 1528.13 Q1430.44 1524.44 1425.8 1524.44 Q1421.15 1524.44 1418.48 1528.13 Q1415.83 1531.79 1415.83 1538.25 Q1415.83 1544.71 1418.48 1548.4 Q1421.15 1552.07 1425.8 1552.07 Q1430.44 1552.07 1433.09 1548.4 Q1435.76 1544.71 1435.76 1538.25 Z\" fill=\"#000000\" fill-rule=\"evenodd\" fill-opacity=\"1\" /><path clip-path=\"url(#clip380)\" d=\"M 0 0 M1447.98 1506.52 L1453.84 1506.52 L1453.84 1556.04 L1447.98 1556.04 L1447.98 1506.52 Z\" fill=\"#000000\" fill-rule=\"evenodd\" fill-opacity=\"1\" /><path clip-path=\"url(#clip380)\" d=\"M 0 0 M1490.47 1536.76 L1490.47 1539.62 L1463.55 1539.62 Q1463.93 1545.67 1467.17 1548.85 Q1470.45 1552 1476.28 1552 Q1479.65 1552 1482.8 1551.17 Q1485.98 1550.35 1489.1 1548.69 L1489.1 1554.23 Q1485.95 1555.57 1482.64 1556.27 Q1479.33 1556.97 1475.93 1556.97 Q1467.4 1556.97 1462.4 1552 Q1457.43 1547.04 1457.43 1538.57 Q1457.43 1529.82 1462.14 1524.69 Q1466.89 1519.54 1474.91 1519.54 Q1482.1 1519.54 1486.27 1524.18 Q1490.47 1528.8 1490.47 1536.76 M1484.62 1535.04 Q1484.55 1530.23 1481.91 1527.37 Q1479.3 1524.5 1474.97 1524.5 Q1470.07 1524.5 1467.11 1527.27 Q1464.18 1530.04 1463.74 1535.07 L1484.62 1535.04 Z\" fill=\"#000000\" fill-rule=\"evenodd\" fill-opacity=\"1\" /><path clip-path=\"url(#clip380)\" d=\"M 0 0 M1525.1 1520.4 L1512.21 1537.74 L1525.77 1556.04 L1518.86 1556.04 L1508.49 1542.04 L1498.11 1556.04 L1491.2 1556.04 L1505.05 1537.39 L1492.38 1520.4 L1499.29 1520.4 L1508.74 1533.1 L1518.19 1520.4 L1525.1 1520.4 Z\" fill=\"#000000\" fill-rule=\"evenodd\" fill-opacity=\"1\" /><path clip-path=\"url(#clip380)\" d=\"M 0 0 M1531.91 1520.4 L1537.77 1520.4 L1537.77 1556.04 L1531.91 1556.04 L1531.91 1520.4 M1531.91 1506.52 L1537.77 1506.52 L1537.77 1513.93 L1531.91 1513.93 L1531.91 1506.52 Z\" fill=\"#000000\" fill-rule=\"evenodd\" fill-opacity=\"1\" /><path clip-path=\"url(#clip380)\" d=\"M 0 0 M1549.71 1510.27 L1549.71 1520.4 L1561.77 1520.4 L1561.77 1524.95 L1549.71 1524.95 L1549.71 1544.3 Q1549.71 1548.66 1550.88 1549.9 Q1552.09 1551.14 1555.75 1551.14 L1561.77 1551.14 L1561.77 1556.04 L1555.75 1556.04 Q1548.97 1556.04 1546.4 1553.53 Q1543.82 1550.98 1543.82 1544.3 L1543.82 1524.95 L1539.52 1524.95 L1539.52 1520.4 L1543.82 1520.4 L1543.82 1510.27 L1549.71 1510.27 Z\" fill=\"#000000\" fill-rule=\"evenodd\" fill-opacity=\"1\" /><path clip-path=\"url(#clip380)\" d=\"M 0 0 M1582.74 1559.35 Q1580.26 1565.72 1577.91 1567.66 Q1575.55 1569.6 1571.6 1569.6 L1566.92 1569.6 L1566.92 1564.7 L1570.36 1564.7 Q1572.78 1564.7 1574.12 1563.56 Q1575.45 1562.41 1577.08 1558.14 L1578.13 1555.47 L1563.71 1520.4 L1569.92 1520.4 L1581.06 1548.28 L1592.2 1520.4 L1598.4 1520.4 L1582.74 1559.35 Z\" fill=\"#000000\" fill-rule=\"evenodd\" fill-opacity=\"1\" /><path clip-path=\"url(#clip380)\" d=\"M 0 0 M59.3266 884.567 L59.3266 893.829 L69.9574 896.502 L69.9574 887.177 L59.3266 884.567 M41.2162 889.341 L54.4251 892.651 L54.4251 883.357 L41.2162 880.015 L41.2162 874.923 L54.4251 878.201 L54.4251 868.27 L59.3266 868.27 L59.3266 879.442 L69.9574 882.052 L69.9574 871.931 L74.8271 871.931 L74.8271 883.294 L88.0042 886.604 L88.0042 891.696 L74.8271 888.418 L74.8271 897.744 L88.0042 901.022 L88.0042 906.146 L74.8271 902.836 L74.8271 912.862 L69.9574 912.862 L69.9574 901.659 L59.3266 898.985 L59.3266 909.234 L54.4251 909.234 L54.4251 897.744 L41.2162 894.497 L41.2162 889.341 Z\" fill=\"#000000\" fill-rule=\"evenodd\" fill-opacity=\"1\" /><path clip-path=\"url(#clip380)\" d=\"M 0 0 M53.4065 818.682 L58.9447 818.682 Q57.6716 821.164 57.035 823.838 Q56.3984 826.511 56.3984 829.376 Q56.3984 833.737 57.7352 835.933 Q59.072 838.097 61.7456 838.097 Q63.7826 838.097 64.9603 836.537 Q66.1061 834.978 67.1565 830.267 L67.6021 828.262 Q68.9389 822.024 71.3897 819.414 Q73.8086 816.772 78.1691 816.772 Q83.1344 816.772 86.0308 820.719 Q88.9272 824.634 88.9272 831.509 Q88.9272 834.373 88.3543 837.492 Q87.8132 840.58 86.6992 844.017 L80.6518 844.017 Q82.3387 840.771 83.198 837.62 Q84.0256 834.469 84.0256 831.381 Q84.0256 827.244 82.6251 825.016 Q81.1929 822.788 78.6147 822.788 Q76.2276 822.788 74.9545 824.411 Q73.6813 826.002 72.5037 831.445 L72.0262 833.482 Q70.8804 838.925 68.5251 841.344 Q66.138 843.763 62.0002 843.763 Q56.9713 843.763 54.2341 840.198 Q51.4968 836.633 51.4968 830.076 Q51.4968 826.83 51.9743 823.965 Q52.4517 821.101 53.4065 818.682 Z\" fill=\"#000000\" fill-rule=\"evenodd\" fill-opacity=\"1\" /><path clip-path=\"url(#clip380)\" d=\"M 0 0 M53.7248 784.975 L59.1993 784.975 Q57.8307 787.458 57.1623 789.972 Q56.4621 792.455 56.4621 795.001 Q56.4621 800.699 60.0905 803.85 Q63.6872 807.001 70.212 807.001 Q76.7369 807.001 80.3653 803.85 Q83.9619 800.699 83.9619 795.001 Q83.9619 792.455 83.2935 789.972 Q82.5933 787.458 81.2247 784.975 L86.6355 784.975 Q87.7814 787.426 88.3543 790.068 Q88.9272 792.678 88.9272 795.638 Q88.9272 803.69 83.8664 808.433 Q78.8057 813.175 70.212 813.175 Q61.491 813.175 56.4939 808.401 Q51.4968 803.595 51.4968 795.256 Q51.4968 792.55 52.0697 789.972 Q52.6108 787.394 53.7248 784.975 Z\" fill=\"#000000\" fill-rule=\"evenodd\" fill-opacity=\"1\" /><path clip-path=\"url(#clip380)\" d=\"M 0 0 M66.4881 749.2 L88.0042 749.2 L88.0042 755.056 L66.679 755.056 Q61.6183 755.056 59.1038 757.03 Q56.5894 759.003 56.5894 762.95 Q56.5894 767.692 59.6131 770.43 Q62.6368 773.167 67.8567 773.167 L88.0042 773.167 L88.0042 779.055 L38.479 779.055 L38.479 773.167 L57.8944 773.167 Q54.6797 771.066 53.0883 768.233 Q51.4968 765.369 51.4968 761.645 Q51.4968 755.502 55.3163 752.351 Q59.1038 749.2 66.4881 749.2 Z\" fill=\"#000000\" fill-rule=\"evenodd\" fill-opacity=\"1\" /><path clip-path=\"url(#clip380)\" d=\"M 0 0 M56.4621 729.243 Q56.4621 733.954 60.1542 736.691 Q63.8145 739.429 70.212 739.429 Q76.6095 739.429 80.3017 736.723 Q83.9619 733.986 83.9619 729.243 Q83.9619 724.565 80.2698 721.827 Q76.5777 719.09 70.212 719.09 Q63.8781 719.09 60.186 721.827 Q56.4621 724.565 56.4621 729.243 M51.4968 729.243 Q51.4968 721.605 56.4621 717.244 Q61.4273 712.884 70.212 712.884 Q78.9649 712.884 83.9619 717.244 Q88.9272 721.605 88.9272 729.243 Q88.9272 736.914 83.9619 741.275 Q78.9649 745.603 70.212 745.603 Q61.4273 745.603 56.4621 741.275 Q51.4968 736.914 51.4968 729.243 Z\" fill=\"#000000\" fill-rule=\"evenodd\" fill-opacity=\"1\" /><path clip-path=\"url(#clip380)\" d=\"M 0 0 M56.4621 692.927 Q56.4621 697.638 60.1542 700.375 Q63.8145 703.112 70.212 703.112 Q76.6095 703.112 80.3017 700.407 Q83.9619 697.67 83.9619 692.927 Q83.9619 688.248 80.2698 685.511 Q76.5777 682.774 70.212 682.774 Q63.8781 682.774 60.186 685.511 Q56.4621 688.248 56.4621 692.927 M51.4968 692.927 Q51.4968 685.288 56.4621 680.928 Q61.4273 676.567 70.212 676.567 Q78.9649 676.567 83.9619 680.928 Q88.9272 685.288 88.9272 692.927 Q88.9272 700.598 83.9619 704.958 Q78.9649 709.287 70.212 709.287 Q61.4273 709.287 56.4621 704.958 Q51.4968 700.598 51.4968 692.927 Z\" fill=\"#000000\" fill-rule=\"evenodd\" fill-opacity=\"1\" /><path clip-path=\"url(#clip380)\" d=\"M 0 0 M38.479 670.424 L38.479 664.568 L88.0042 664.568 L88.0042 670.424 L38.479 670.424 Z\" fill=\"#000000\" fill-rule=\"evenodd\" fill-opacity=\"1\" /><path clip-path=\"url(#clip380)\" d=\"M 0 0 M53.4065 635.699 L58.9447 635.699 Q57.6716 638.182 57.035 640.856 Q56.3984 643.529 56.3984 646.394 Q56.3984 650.754 57.7352 652.95 Q59.072 655.115 61.7456 655.115 Q63.7826 655.115 64.9603 653.555 Q66.1061 651.996 67.1565 647.285 L67.6021 645.28 Q68.9389 639.041 71.3897 636.431 Q73.8086 633.79 78.1691 633.79 Q83.1344 633.79 86.0308 637.736 Q88.9272 641.651 88.9272 648.526 Q88.9272 651.391 88.3543 654.51 Q87.8132 657.597 86.6992 661.035 L80.6518 661.035 Q82.3387 657.788 83.198 654.637 Q84.0256 651.486 84.0256 648.399 Q84.0256 644.261 82.6251 642.033 Q81.1929 639.805 78.6147 639.805 Q76.2276 639.805 74.9545 641.429 Q73.6813 643.02 72.5037 648.463 L72.0262 650.5 Q70.8804 655.942 68.5251 658.361 Q66.138 660.78 62.0002 660.78 Q56.9713 660.78 54.2341 657.215 Q51.4968 653.651 51.4968 647.094 Q51.4968 643.848 51.9743 640.983 Q52.4517 638.118 53.4065 635.699 Z\" fill=\"#000000\" fill-rule=\"evenodd\" fill-opacity=\"1\" /><path clip-path=\"url(#clip382)\" d=\"\n",
       "M658.407 1175.62 L658.407 1423.18 L1081.99 1423.18 L1081.99 1175.62 L658.407 1175.62 L658.407 1175.62  Z\n",
       "  \" fill=\"#1874cd\" fill-rule=\"evenodd\" fill-opacity=\"0.7\"/>\n",
       "<polyline clip-path=\"url(#clip382)\" style=\"stroke:#000000; stroke-width:4; stroke-opacity:0.7; fill:none\" points=\"\n",
       "  658.407,1175.62 658.407,1423.18 1081.99,1423.18 1081.99,1175.62 658.407,1175.62 \n",
       "  \"/>\n",
       "<path clip-path=\"url(#clip382)\" d=\"\n",
       "M1081.99 -62.2004 L1081.99 1423.18 L1505.58 1423.18 L1505.58 -62.2004 L1081.99 -62.2004 L1081.99 -62.2004  Z\n",
       "  \" fill=\"#1874cd\" fill-rule=\"evenodd\" fill-opacity=\"0.7\"/>\n",
       "<polyline clip-path=\"url(#clip382)\" style=\"stroke:#000000; stroke-width:4; stroke-opacity:0.7; fill:none\" points=\"\n",
       "  1081.99,-62.2004 1081.99,1423.18 1505.58,1423.18 1505.58,-62.2004 1081.99,-62.2004 \n",
       "  \"/>\n",
       "<path clip-path=\"url(#clip382)\" d=\"\n",
       "M1505.58 928.053 L1505.58 1423.18 L1929.17 1423.18 L1929.17 928.053 L1505.58 928.053 L1505.58 928.053  Z\n",
       "  \" fill=\"#1874cd\" fill-rule=\"evenodd\" fill-opacity=\"0.7\"/>\n",
       "<polyline clip-path=\"url(#clip382)\" style=\"stroke:#000000; stroke-width:4; stroke-opacity:0.7; fill:none\" points=\"\n",
       "  1505.58,928.053 1505.58,1423.18 1929.17,1423.18 1929.17,928.053 1505.58,928.053 \n",
       "  \"/>\n",
       "<path clip-path=\"url(#clip382)\" d=\"\n",
       "M1929.17 1175.62 L1929.17 1423.18 L2352.76 1423.18 L2352.76 1175.62 L1929.17 1175.62 L1929.17 1175.62  Z\n",
       "  \" fill=\"#1874cd\" fill-rule=\"evenodd\" fill-opacity=\"0.7\"/>\n",
       "<polyline clip-path=\"url(#clip382)\" style=\"stroke:#000000; stroke-width:4; stroke-opacity:0.7; fill:none\" points=\"\n",
       "  1929.17,1175.62 1929.17,1423.18 2352.76,1423.18 2352.76,1175.62 1929.17,1175.62 \n",
       "  \"/>\n",
       "<path clip-path=\"url(#clip382)\" d=\"\n",
       "M2352.76 1299.4 L2352.76 1423.18 L2776.34 1423.18 L2776.34 1299.4 L2352.76 1299.4 L2352.76 1299.4  Z\n",
       "  \" fill=\"#1874cd\" fill-rule=\"evenodd\" fill-opacity=\"0.7\"/>\n",
       "<polyline clip-path=\"url(#clip382)\" style=\"stroke:#000000; stroke-width:4; stroke-opacity:0.7; fill:none\" points=\"\n",
       "  2352.76,1299.4 2352.76,1423.18 2776.34,1423.18 2776.34,1299.4 2352.76,1299.4 \n",
       "  \"/>\n",
       "</svg>\n"
      ]
     },
     "execution_count": 42,
     "metadata": {},
     "output_type": "execute_result"
    }
   ],
   "source": [
    "middle_tier = Array{Curriculum,1}()\n",
    "middle_tier_total_cc = 0\n",
    "middle_tier_avg_cc = 0\n",
    "for (key, val) in curriculum\n",
    "    if (split(key, \"/\")[1]) == \"tier_middle\"\n",
    "        name = split(split(key, \"/\")[2], \".\")[1]\n",
    "        println(\"$name => $(val.metrics[\"complexity\"][1])\")\n",
    "        push!(middle_tier, val)\n",
    "        middle_tier_total_cc += val.metrics[\"complexity\"][1]\n",
    "    end\n",
    "end\n",
    "middle_tier_avg_cc = middle_tier_total_cc / length(middle_tier)\n",
    "println(\"Avg. curricular complexity = $(middle_tier_avg_cc)\")\n",
    "metric_histogram(middle_tier, \"complexity\", nbins=5, title=\"Middle Tier\", xlabel=\"curricular complexity\", ylabel=\"# schools\", xlim=(0,500))"
   ]
  },
  {
   "cell_type": "code",
   "execution_count": 43,
   "metadata": {
    "scrolled": false
   },
   "outputs": [
    {
     "name": "stdout",
     "output_type": "stream",
     "text": [
      "Florida Atlantic University => 296.0\n",
      "Oakland University => 244.0\n",
      "University of Louisiana--Lafayette => 331.0\n",
      "South Dakota State University => 398.0\n",
      "Texas State University => 273.0\n",
      "University of Bridgeport => 167.0\n",
      "Jackson State University => 304.0\n",
      "University of Denver => 360.0\n",
      "University of North Texas => 376.0\n",
      "Texas AM University--Kingsville => 353.0\n",
      "Morgan State University => 311.0\n",
      "University of New Orleans => 260.0\n",
      "Prairie View AM University => 375.0\n",
      "University of Detroit Mercy => 394.0\n",
      "University of North Dakota => 361.0\n",
      "Lamar University => 343.0\n",
      "University of Missouri--Kansas City => 497.0\n",
      "Western Michigan University => 308.0\n",
      "Tuskegee University => 397.0\n",
      "University of Tennessee--Chattanooga => 404.0\n",
      "Tennessee State University => 500.0\n",
      "Avg. curricular complexity = 345.3333333333333\n"
     ]
    },
    {
     "data": {
      "image/svg+xml": [
       "<?xml version=\"1.0\" encoding=\"utf-8\"?>\n",
       "<svg xmlns=\"http://www.w3.org/2000/svg\" xmlns:xlink=\"http://www.w3.org/1999/xlink\" width=\"600\" height=\"400\" viewBox=\"0 0 2400 1600\">\n",
       "<defs>\n",
       "  <clipPath id=\"clip420\">\n",
       "    <rect x=\"0\" y=\"0\" width=\"2400\" height=\"1600\"/>\n",
       "  </clipPath>\n",
       "</defs>\n",
       "<path clip-path=\"url(#clip420)\" d=\"\n",
       "M0 1600 L2400 1600 L2400 0 L0 0  Z\n",
       "  \" fill=\"#ffffff\" fill-rule=\"evenodd\" fill-opacity=\"1\"/>\n",
       "<defs>\n",
       "  <clipPath id=\"clip421\">\n",
       "    <rect x=\"480\" y=\"0\" width=\"1681\" height=\"1600\"/>\n",
       "  </clipPath>\n",
       "</defs>\n",
       "<path clip-path=\"url(#clip420)\" d=\"\n",
       "M234.82 1423.18 L2352.76 1423.18 L2352.76 123.472 L234.82 123.472  Z\n",
       "  \" fill=\"#ffffff\" fill-rule=\"evenodd\" fill-opacity=\"1\"/>\n",
       "<defs>\n",
       "  <clipPath id=\"clip422\">\n",
       "    <rect x=\"234\" y=\"123\" width=\"2119\" height=\"1301\"/>\n",
       "  </clipPath>\n",
       "</defs>\n",
       "<polyline clip-path=\"url(#clip422)\" style=\"stroke:#000000; stroke-width:2; stroke-opacity:0.1; fill:none\" points=\"\n",
       "  234.82,1423.18 234.82,123.472 \n",
       "  \"/>\n",
       "<polyline clip-path=\"url(#clip422)\" style=\"stroke:#000000; stroke-width:2; stroke-opacity:0.1; fill:none\" points=\"\n",
       "  658.407,1423.18 658.407,123.472 \n",
       "  \"/>\n",
       "<polyline clip-path=\"url(#clip422)\" style=\"stroke:#000000; stroke-width:2; stroke-opacity:0.1; fill:none\" points=\"\n",
       "  1081.99,1423.18 1081.99,123.472 \n",
       "  \"/>\n",
       "<polyline clip-path=\"url(#clip422)\" style=\"stroke:#000000; stroke-width:2; stroke-opacity:0.1; fill:none\" points=\"\n",
       "  1505.58,1423.18 1505.58,123.472 \n",
       "  \"/>\n",
       "<polyline clip-path=\"url(#clip422)\" style=\"stroke:#000000; stroke-width:2; stroke-opacity:0.1; fill:none\" points=\"\n",
       "  1929.17,1423.18 1929.17,123.472 \n",
       "  \"/>\n",
       "<polyline clip-path=\"url(#clip422)\" style=\"stroke:#000000; stroke-width:2; stroke-opacity:0.1; fill:none\" points=\"\n",
       "  2352.76,1423.18 2352.76,123.472 \n",
       "  \"/>\n",
       "<polyline clip-path=\"url(#clip422)\" style=\"stroke:#000000; stroke-width:2; stroke-opacity:0.1; fill:none\" points=\"\n",
       "  234.82,1423.18 2352.76,1423.18 \n",
       "  \"/>\n",
       "<polyline clip-path=\"url(#clip422)\" style=\"stroke:#000000; stroke-width:2; stroke-opacity:0.1; fill:none\" points=\"\n",
       "  234.82,1113.73 2352.76,1113.73 \n",
       "  \"/>\n",
       "<polyline clip-path=\"url(#clip422)\" style=\"stroke:#000000; stroke-width:2; stroke-opacity:0.1; fill:none\" points=\"\n",
       "  234.82,804.271 2352.76,804.271 \n",
       "  \"/>\n",
       "<polyline clip-path=\"url(#clip422)\" style=\"stroke:#000000; stroke-width:2; stroke-opacity:0.1; fill:none\" points=\"\n",
       "  234.82,494.817 2352.76,494.817 \n",
       "  \"/>\n",
       "<polyline clip-path=\"url(#clip422)\" style=\"stroke:#000000; stroke-width:2; stroke-opacity:0.1; fill:none\" points=\"\n",
       "  234.82,185.363 2352.76,185.363 \n",
       "  \"/>\n",
       "<polyline clip-path=\"url(#clip420)\" style=\"stroke:#000000; stroke-width:4; stroke-opacity:1; fill:none\" points=\"\n",
       "  234.82,1423.18 2352.76,1423.18 \n",
       "  \"/>\n",
       "<polyline clip-path=\"url(#clip420)\" style=\"stroke:#000000; stroke-width:4; stroke-opacity:1; fill:none\" points=\"\n",
       "  234.82,1423.18 234.82,123.472 \n",
       "  \"/>\n",
       "<polyline clip-path=\"url(#clip420)\" style=\"stroke:#000000; stroke-width:4; stroke-opacity:1; fill:none\" points=\"\n",
       "  234.82,1423.18 234.82,1407.58 \n",
       "  \"/>\n",
       "<polyline clip-path=\"url(#clip420)\" style=\"stroke:#000000; stroke-width:4; stroke-opacity:1; fill:none\" points=\"\n",
       "  658.407,1423.18 658.407,1407.58 \n",
       "  \"/>\n",
       "<polyline clip-path=\"url(#clip420)\" style=\"stroke:#000000; stroke-width:4; stroke-opacity:1; fill:none\" points=\"\n",
       "  1081.99,1423.18 1081.99,1407.58 \n",
       "  \"/>\n",
       "<polyline clip-path=\"url(#clip420)\" style=\"stroke:#000000; stroke-width:4; stroke-opacity:1; fill:none\" points=\"\n",
       "  1505.58,1423.18 1505.58,1407.58 \n",
       "  \"/>\n",
       "<polyline clip-path=\"url(#clip420)\" style=\"stroke:#000000; stroke-width:4; stroke-opacity:1; fill:none\" points=\"\n",
       "  1929.17,1423.18 1929.17,1407.58 \n",
       "  \"/>\n",
       "<polyline clip-path=\"url(#clip420)\" style=\"stroke:#000000; stroke-width:4; stroke-opacity:1; fill:none\" points=\"\n",
       "  2352.76,1423.18 2352.76,1407.58 \n",
       "  \"/>\n",
       "<polyline clip-path=\"url(#clip420)\" style=\"stroke:#000000; stroke-width:4; stroke-opacity:1; fill:none\" points=\"\n",
       "  234.82,1423.18 260.235,1423.18 \n",
       "  \"/>\n",
       "<polyline clip-path=\"url(#clip420)\" style=\"stroke:#000000; stroke-width:4; stroke-opacity:1; fill:none\" points=\"\n",
       "  234.82,1113.73 260.235,1113.73 \n",
       "  \"/>\n",
       "<polyline clip-path=\"url(#clip420)\" style=\"stroke:#000000; stroke-width:4; stroke-opacity:1; fill:none\" points=\"\n",
       "  234.82,804.271 260.235,804.271 \n",
       "  \"/>\n",
       "<polyline clip-path=\"url(#clip420)\" style=\"stroke:#000000; stroke-width:4; stroke-opacity:1; fill:none\" points=\"\n",
       "  234.82,494.817 260.235,494.817 \n",
       "  \"/>\n",
       "<polyline clip-path=\"url(#clip420)\" style=\"stroke:#000000; stroke-width:4; stroke-opacity:1; fill:none\" points=\"\n",
       "  234.82,185.363 260.235,185.363 \n",
       "  \"/>\n",
       "<path clip-path=\"url(#clip420)\" d=\"M 0 0 M234.82 1445.17 Q231.209 1445.17 229.38 1448.74 Q227.575 1452.28 227.575 1459.41 Q227.575 1466.51 229.38 1470.08 Q231.209 1473.62 234.82 1473.62 Q238.454 1473.62 240.26 1470.08 Q242.088 1466.51 242.088 1459.41 Q242.088 1452.28 240.26 1448.74 Q238.454 1445.17 234.82 1445.17 M234.82 1441.47 Q240.63 1441.47 243.686 1446.07 Q246.764 1450.66 246.764 1459.41 Q246.764 1468.13 243.686 1472.74 Q240.63 1477.32 234.82 1477.32 Q229.01 1477.32 225.931 1472.74 Q222.876 1468.13 222.876 1459.41 Q222.876 1450.66 225.931 1446.07 Q229.01 1441.47 234.82 1441.47 Z\" fill=\"#000000\" fill-rule=\"evenodd\" fill-opacity=\"1\" /><path clip-path=\"url(#clip420)\" d=\"M 0 0 M621.775 1472.72 L629.414 1472.72 L629.414 1446.35 L621.104 1448.02 L621.104 1443.76 L629.368 1442.09 L634.044 1442.09 L634.044 1472.72 L641.683 1472.72 L641.683 1476.65 L621.775 1476.65 L621.775 1472.72 Z\" fill=\"#000000\" fill-rule=\"evenodd\" fill-opacity=\"1\" /><path clip-path=\"url(#clip420)\" d=\"M 0 0 M656.752 1445.17 Q653.141 1445.17 651.312 1448.74 Q649.507 1452.28 649.507 1459.41 Q649.507 1466.51 651.312 1470.08 Q653.141 1473.62 656.752 1473.62 Q660.386 1473.62 662.192 1470.08 Q664.02 1466.51 664.02 1459.41 Q664.02 1452.28 662.192 1448.74 Q660.386 1445.17 656.752 1445.17 M656.752 1441.47 Q662.562 1441.47 665.618 1446.07 Q668.696 1450.66 668.696 1459.41 Q668.696 1468.13 665.618 1472.74 Q662.562 1477.32 656.752 1477.32 Q650.942 1477.32 647.863 1472.74 Q644.808 1468.13 644.808 1459.41 Q644.808 1450.66 647.863 1446.07 Q650.942 1441.47 656.752 1441.47 Z\" fill=\"#000000\" fill-rule=\"evenodd\" fill-opacity=\"1\" /><path clip-path=\"url(#clip420)\" d=\"M 0 0 M683.766 1445.17 Q680.155 1445.17 678.326 1448.74 Q676.52 1452.28 676.52 1459.41 Q676.52 1466.51 678.326 1470.08 Q680.155 1473.62 683.766 1473.62 Q687.4 1473.62 689.206 1470.08 Q691.034 1466.51 691.034 1459.41 Q691.034 1452.28 689.206 1448.74 Q687.4 1445.17 683.766 1445.17 M683.766 1441.47 Q689.576 1441.47 692.631 1446.07 Q695.71 1450.66 695.71 1459.41 Q695.71 1468.13 692.631 1472.74 Q689.576 1477.32 683.766 1477.32 Q677.956 1477.32 674.877 1472.74 Q671.821 1468.13 671.821 1459.41 Q671.821 1450.66 674.877 1446.07 Q677.956 1441.47 683.766 1441.47 Z\" fill=\"#000000\" fill-rule=\"evenodd\" fill-opacity=\"1\" /><path clip-path=\"url(#clip420)\" d=\"M 0 0 M1049.63 1472.72 L1065.95 1472.72 L1065.95 1476.65 L1044.01 1476.65 L1044.01 1472.72 Q1046.67 1469.96 1051.25 1465.33 Q1055.86 1460.68 1057.04 1459.34 Q1059.29 1456.81 1060.17 1455.08 Q1061.07 1453.32 1061.07 1451.63 Q1061.07 1448.87 1059.12 1447.14 Q1057.2 1445.4 1054.1 1445.4 Q1051.9 1445.4 1049.45 1446.17 Q1047.02 1446.93 1044.24 1448.48 L1044.24 1443.76 Q1047.06 1442.62 1049.52 1442.05 Q1051.97 1441.47 1054.01 1441.47 Q1059.38 1441.47 1062.57 1444.15 Q1065.77 1446.84 1065.77 1451.33 Q1065.77 1453.46 1064.96 1455.38 Q1064.17 1457.28 1062.06 1459.87 Q1061.49 1460.54 1058.38 1463.76 Q1055.28 1466.95 1049.63 1472.72 Z\" fill=\"#000000\" fill-rule=\"evenodd\" fill-opacity=\"1\" /><path clip-path=\"url(#clip420)\" d=\"M 0 0 M1081.02 1445.17 Q1077.41 1445.17 1075.58 1448.74 Q1073.78 1452.28 1073.78 1459.41 Q1073.78 1466.51 1075.58 1470.08 Q1077.41 1473.62 1081.02 1473.62 Q1084.66 1473.62 1086.46 1470.08 Q1088.29 1466.51 1088.29 1459.41 Q1088.29 1452.28 1086.46 1448.74 Q1084.66 1445.17 1081.02 1445.17 M1081.02 1441.47 Q1086.83 1441.47 1089.89 1446.07 Q1092.97 1450.66 1092.97 1459.41 Q1092.97 1468.13 1089.89 1472.74 Q1086.83 1477.32 1081.02 1477.32 Q1075.21 1477.32 1072.13 1472.74 Q1069.08 1468.13 1069.08 1459.41 Q1069.08 1450.66 1072.13 1446.07 Q1075.21 1441.47 1081.02 1441.47 Z\" fill=\"#000000\" fill-rule=\"evenodd\" fill-opacity=\"1\" /><path clip-path=\"url(#clip420)\" d=\"M 0 0 M1108.04 1445.17 Q1104.42 1445.17 1102.6 1448.74 Q1100.79 1452.28 1100.79 1459.41 Q1100.79 1466.51 1102.6 1470.08 Q1104.42 1473.62 1108.04 1473.62 Q1111.67 1473.62 1113.48 1470.08 Q1115.3 1466.51 1115.3 1459.41 Q1115.3 1452.28 1113.48 1448.74 Q1111.67 1445.17 1108.04 1445.17 M1108.04 1441.47 Q1113.85 1441.47 1116.9 1446.07 Q1119.98 1450.66 1119.98 1459.41 Q1119.98 1468.13 1116.9 1472.74 Q1113.85 1477.32 1108.04 1477.32 Q1102.23 1477.32 1099.15 1472.74 Q1096.09 1468.13 1096.09 1459.41 Q1096.09 1450.66 1099.15 1446.07 Q1102.23 1441.47 1108.04 1441.47 Z\" fill=\"#000000\" fill-rule=\"evenodd\" fill-opacity=\"1\" /><path clip-path=\"url(#clip420)\" d=\"M 0 0 M1482.82 1458.02 Q1486.17 1458.74 1488.05 1461 Q1489.95 1463.27 1489.95 1466.61 Q1489.95 1471.72 1486.43 1474.52 Q1482.91 1477.32 1476.43 1477.32 Q1474.25 1477.32 1471.94 1476.88 Q1469.64 1476.47 1467.19 1475.61 L1467.19 1471.1 Q1469.13 1472.23 1471.45 1472.81 Q1473.76 1473.39 1476.29 1473.39 Q1480.69 1473.39 1482.98 1471.65 Q1485.29 1469.92 1485.29 1466.61 Q1485.29 1463.55 1483.14 1461.84 Q1481.01 1460.1 1477.19 1460.1 L1473.16 1460.1 L1473.16 1456.26 L1477.38 1456.26 Q1480.82 1456.26 1482.65 1454.89 Q1484.48 1453.5 1484.48 1450.91 Q1484.48 1448.25 1482.58 1446.84 Q1480.71 1445.4 1477.19 1445.4 Q1475.27 1445.4 1473.07 1445.82 Q1470.87 1446.24 1468.23 1447.11 L1468.23 1442.95 Q1470.89 1442.21 1473.21 1441.84 Q1475.55 1441.47 1477.61 1441.47 Q1482.93 1441.47 1486.03 1443.9 Q1489.13 1446.3 1489.13 1450.43 Q1489.13 1453.3 1487.49 1455.29 Q1485.85 1457.25 1482.82 1458.02 Z\" fill=\"#000000\" fill-rule=\"evenodd\" fill-opacity=\"1\" /><path clip-path=\"url(#clip420)\" d=\"M 0 0 M1505.01 1445.17 Q1501.4 1445.17 1499.57 1448.74 Q1497.77 1452.28 1497.77 1459.41 Q1497.77 1466.51 1499.57 1470.08 Q1501.4 1473.62 1505.01 1473.62 Q1508.65 1473.62 1510.45 1470.08 Q1512.28 1466.51 1512.28 1459.41 Q1512.28 1452.28 1510.45 1448.74 Q1508.65 1445.17 1505.01 1445.17 M1505.01 1441.47 Q1510.82 1441.47 1513.88 1446.07 Q1516.96 1450.66 1516.96 1459.41 Q1516.96 1468.13 1513.88 1472.74 Q1510.82 1477.32 1505.01 1477.32 Q1499.2 1477.32 1496.13 1472.74 Q1493.07 1468.13 1493.07 1459.41 Q1493.07 1450.66 1496.13 1446.07 Q1499.2 1441.47 1505.01 1441.47 Z\" fill=\"#000000\" fill-rule=\"evenodd\" fill-opacity=\"1\" /><path clip-path=\"url(#clip420)\" d=\"M 0 0 M1532.03 1445.17 Q1528.42 1445.17 1526.59 1448.74 Q1524.78 1452.28 1524.78 1459.41 Q1524.78 1466.51 1526.59 1470.08 Q1528.42 1473.62 1532.03 1473.62 Q1535.66 1473.62 1537.47 1470.08 Q1539.3 1466.51 1539.3 1459.41 Q1539.3 1452.28 1537.47 1448.74 Q1535.66 1445.17 1532.03 1445.17 M1532.03 1441.47 Q1537.84 1441.47 1540.89 1446.07 Q1543.97 1450.66 1543.97 1459.41 Q1543.97 1468.13 1540.89 1472.74 Q1537.84 1477.32 1532.03 1477.32 Q1526.22 1477.32 1523.14 1472.74 Q1520.08 1468.13 1520.08 1459.41 Q1520.08 1450.66 1523.14 1446.07 Q1526.22 1441.47 1532.03 1441.47 Z\" fill=\"#000000\" fill-rule=\"evenodd\" fill-opacity=\"1\" /><path clip-path=\"url(#clip420)\" d=\"M 0 0 M1905.16 1446.17 L1893.36 1464.61 L1905.16 1464.61 L1905.16 1446.17 M1903.94 1442.09 L1909.82 1442.09 L1909.82 1464.61 L1914.75 1464.61 L1914.75 1468.5 L1909.82 1468.5 L1909.82 1476.65 L1905.16 1476.65 L1905.16 1468.5 L1889.56 1468.5 L1889.56 1463.99 L1903.94 1442.09 Z\" fill=\"#000000\" fill-rule=\"evenodd\" fill-opacity=\"1\" /><path clip-path=\"url(#clip420)\" d=\"M 0 0 M1929.82 1445.17 Q1926.21 1445.17 1924.38 1448.74 Q1922.57 1452.28 1922.57 1459.41 Q1922.57 1466.51 1924.38 1470.08 Q1926.21 1473.62 1929.82 1473.62 Q1933.45 1473.62 1935.26 1470.08 Q1937.09 1466.51 1937.09 1459.41 Q1937.09 1452.28 1935.26 1448.74 Q1933.45 1445.17 1929.82 1445.17 M1929.82 1441.47 Q1935.63 1441.47 1938.68 1446.07 Q1941.76 1450.66 1941.76 1459.41 Q1941.76 1468.13 1938.68 1472.74 Q1935.63 1477.32 1929.82 1477.32 Q1924.01 1477.32 1920.93 1472.74 Q1917.87 1468.13 1917.87 1459.41 Q1917.87 1450.66 1920.93 1446.07 Q1924.01 1441.47 1929.82 1441.47 Z\" fill=\"#000000\" fill-rule=\"evenodd\" fill-opacity=\"1\" /><path clip-path=\"url(#clip420)\" d=\"M 0 0 M1956.83 1445.17 Q1953.22 1445.17 1951.39 1448.74 Q1949.59 1452.28 1949.59 1459.41 Q1949.59 1466.51 1951.39 1470.08 Q1953.22 1473.62 1956.83 1473.62 Q1960.46 1473.62 1962.27 1470.08 Q1964.1 1466.51 1964.1 1459.41 Q1964.1 1452.28 1962.27 1448.74 Q1960.46 1445.17 1956.83 1445.17 M1956.83 1441.47 Q1962.64 1441.47 1965.7 1446.07 Q1968.77 1450.66 1968.77 1459.41 Q1968.77 1468.13 1965.7 1472.74 Q1962.64 1477.32 1956.83 1477.32 Q1951.02 1477.32 1947.94 1472.74 Q1944.89 1468.13 1944.89 1459.41 Q1944.89 1450.66 1947.94 1446.07 Q1951.02 1441.47 1956.83 1441.47 Z\" fill=\"#000000\" fill-rule=\"evenodd\" fill-opacity=\"1\" /><path clip-path=\"url(#clip420)\" d=\"M 0 0 M2316.02 1442.09 L2334.38 1442.09 L2334.38 1446.03 L2320.3 1446.03 L2320.3 1454.5 Q2321.32 1454.15 2322.34 1453.99 Q2323.36 1453.8 2324.38 1453.8 Q2330.16 1453.8 2333.54 1456.98 Q2336.92 1460.15 2336.92 1465.56 Q2336.92 1471.14 2333.45 1474.24 Q2329.98 1477.32 2323.66 1477.32 Q2321.48 1477.32 2319.21 1476.95 Q2316.97 1476.58 2314.56 1475.84 L2314.56 1471.14 Q2316.64 1472.28 2318.87 1472.83 Q2321.09 1473.39 2323.57 1473.39 Q2327.57 1473.39 2329.91 1471.28 Q2332.25 1469.18 2332.25 1465.56 Q2332.25 1461.95 2329.91 1459.85 Q2327.57 1457.74 2323.57 1457.74 Q2321.69 1457.74 2319.82 1458.16 Q2317.96 1458.57 2316.02 1459.45 L2316.02 1442.09 Z\" fill=\"#000000\" fill-rule=\"evenodd\" fill-opacity=\"1\" /><path clip-path=\"url(#clip420)\" d=\"M 0 0 M2351.99 1445.17 Q2348.38 1445.17 2346.55 1448.74 Q2344.75 1452.28 2344.75 1459.41 Q2344.75 1466.51 2346.55 1470.08 Q2348.38 1473.62 2351.99 1473.62 Q2355.63 1473.62 2357.43 1470.08 Q2359.26 1466.51 2359.26 1459.41 Q2359.26 1452.28 2357.43 1448.74 Q2355.63 1445.17 2351.99 1445.17 M2351.99 1441.47 Q2357.8 1441.47 2360.86 1446.07 Q2363.94 1450.66 2363.94 1459.41 Q2363.94 1468.13 2360.86 1472.74 Q2357.8 1477.32 2351.99 1477.32 Q2346.18 1477.32 2343.1 1472.74 Q2340.05 1468.13 2340.05 1459.41 Q2340.05 1450.66 2343.1 1446.07 Q2346.18 1441.47 2351.99 1441.47 Z\" fill=\"#000000\" fill-rule=\"evenodd\" fill-opacity=\"1\" /><path clip-path=\"url(#clip420)\" d=\"M 0 0 M2379.01 1445.17 Q2375.39 1445.17 2373.57 1448.74 Q2371.76 1452.28 2371.76 1459.41 Q2371.76 1466.51 2373.57 1470.08 Q2375.39 1473.62 2379.01 1473.62 Q2382.64 1473.62 2384.45 1470.08 Q2386.27 1466.51 2386.27 1459.41 Q2386.27 1452.28 2384.45 1448.74 Q2382.64 1445.17 2379.01 1445.17 M2379.01 1441.47 Q2384.82 1441.47 2387.87 1446.07 Q2390.95 1450.66 2390.95 1459.41 Q2390.95 1468.13 2387.87 1472.74 Q2384.82 1477.32 2379.01 1477.32 Q2373.2 1477.32 2370.12 1472.74 Q2367.06 1468.13 2367.06 1459.41 Q2367.06 1450.66 2370.12 1446.07 Q2373.2 1441.47 2379.01 1441.47 Z\" fill=\"#000000\" fill-rule=\"evenodd\" fill-opacity=\"1\" /><path clip-path=\"url(#clip420)\" d=\"M 0 0 M161.908 1408.98 Q158.297 1408.98 156.468 1412.54 Q154.663 1416.08 154.663 1423.21 Q154.663 1430.32 156.468 1433.89 Q158.297 1437.43 161.908 1437.43 Q165.542 1437.43 167.348 1433.89 Q169.177 1430.32 169.177 1423.21 Q169.177 1416.08 167.348 1412.54 Q165.542 1408.98 161.908 1408.98 M161.908 1405.27 Q167.718 1405.27 170.774 1409.88 Q173.852 1414.46 173.852 1423.21 Q173.852 1431.94 170.774 1436.55 Q167.718 1441.13 161.908 1441.13 Q156.098 1441.13 153.019 1436.55 Q149.964 1431.94 149.964 1423.21 Q149.964 1414.46 153.019 1409.88 Q156.098 1405.27 161.908 1405.27 Z\" fill=\"#000000\" fill-rule=\"evenodd\" fill-opacity=\"1\" /><path clip-path=\"url(#clip420)\" d=\"M 0 0 M178.922 1434.58 L183.806 1434.58 L183.806 1440.46 L178.922 1440.46 L178.922 1434.58 Z\" fill=\"#000000\" fill-rule=\"evenodd\" fill-opacity=\"1\" /><path clip-path=\"url(#clip420)\" d=\"M 0 0 M198.876 1408.98 Q195.264 1408.98 193.436 1412.54 Q191.63 1416.08 191.63 1423.21 Q191.63 1430.32 193.436 1433.89 Q195.264 1437.43 198.876 1437.43 Q202.51 1437.43 204.315 1433.89 Q206.144 1430.32 206.144 1423.21 Q206.144 1416.08 204.315 1412.54 Q202.51 1408.98 198.876 1408.98 M198.876 1405.27 Q204.686 1405.27 207.741 1409.88 Q210.82 1414.46 210.82 1423.21 Q210.82 1431.94 207.741 1436.55 Q204.686 1441.13 198.876 1441.13 Q193.065 1441.13 189.987 1436.55 Q186.931 1431.94 186.931 1423.21 Q186.931 1414.46 189.987 1409.88 Q193.065 1405.27 198.876 1405.27 Z\" fill=\"#000000\" fill-rule=\"evenodd\" fill-opacity=\"1\" /><path clip-path=\"url(#clip420)\" d=\"M 0 0 M158.529 1127.07 L174.848 1127.07 L174.848 1131.01 L152.904 1131.01 L152.904 1127.07 Q155.566 1124.32 160.149 1119.69 Q164.755 1115.03 165.936 1113.69 Q168.181 1111.17 169.061 1109.43 Q169.964 1107.67 169.964 1105.98 Q169.964 1103.23 168.019 1101.49 Q166.098 1099.76 162.996 1099.76 Q160.797 1099.76 158.343 1100.52 Q155.913 1101.28 153.135 1102.83 L153.135 1098.11 Q155.959 1096.98 158.413 1096.4 Q160.866 1095.82 162.903 1095.82 Q168.274 1095.82 171.468 1098.51 Q174.663 1101.19 174.663 1105.68 Q174.663 1107.81 173.852 1109.73 Q173.065 1111.63 170.959 1114.22 Q170.38 1114.89 167.278 1118.11 Q164.177 1121.31 158.529 1127.07 Z\" fill=\"#000000\" fill-rule=\"evenodd\" fill-opacity=\"1\" /><path clip-path=\"url(#clip420)\" d=\"M 0 0 M179.917 1125.13 L184.802 1125.13 L184.802 1131.01 L179.917 1131.01 L179.917 1125.13 Z\" fill=\"#000000\" fill-rule=\"evenodd\" fill-opacity=\"1\" /><path clip-path=\"url(#clip420)\" d=\"M 0 0 M189.917 1096.45 L208.274 1096.45 L208.274 1100.38 L194.2 1100.38 L194.2 1108.85 Q195.218 1108.51 196.237 1108.34 Q197.255 1108.16 198.274 1108.16 Q204.061 1108.16 207.44 1111.33 Q210.82 1114.5 210.82 1119.92 Q210.82 1125.5 207.348 1128.6 Q203.875 1131.68 197.556 1131.68 Q195.38 1131.68 193.112 1131.31 Q190.866 1130.94 188.459 1130.2 L188.459 1125.5 Q190.542 1126.63 192.764 1127.19 Q194.987 1127.74 197.463 1127.74 Q201.468 1127.74 203.806 1125.64 Q206.144 1123.53 206.144 1119.92 Q206.144 1116.31 203.806 1114.2 Q201.468 1112.09 197.463 1112.09 Q195.588 1112.09 193.713 1112.51 Q191.862 1112.93 189.917 1113.81 L189.917 1096.45 Z\" fill=\"#000000\" fill-rule=\"evenodd\" fill-opacity=\"1\" /><path clip-path=\"url(#clip420)\" d=\"M 0 0 M152.95 786.991 L171.306 786.991 L171.306 790.927 L157.232 790.927 L157.232 799.399 Q158.251 799.052 159.269 798.889 Q160.288 798.704 161.306 798.704 Q167.093 798.704 170.473 801.876 Q173.852 805.047 173.852 810.464 Q173.852 816.042 170.38 819.144 Q166.908 822.223 160.589 822.223 Q158.413 822.223 156.144 821.852 Q153.899 821.482 151.492 820.741 L151.492 816.042 Q153.575 817.176 155.797 817.732 Q158.019 818.288 160.496 818.288 Q164.501 818.288 166.839 816.181 Q169.177 814.075 169.177 810.464 Q169.177 806.852 166.839 804.746 Q164.501 802.639 160.496 802.639 Q158.621 802.639 156.746 803.056 Q154.894 803.473 152.95 804.352 L152.95 786.991 Z\" fill=\"#000000\" fill-rule=\"evenodd\" fill-opacity=\"1\" /><path clip-path=\"url(#clip420)\" d=\"M 0 0 M178.922 815.672 L183.806 815.672 L183.806 821.551 L178.922 821.551 L178.922 815.672 Z\" fill=\"#000000\" fill-rule=\"evenodd\" fill-opacity=\"1\" /><path clip-path=\"url(#clip420)\" d=\"M 0 0 M198.876 790.07 Q195.264 790.07 193.436 793.635 Q191.63 797.177 191.63 804.306 Q191.63 811.413 193.436 814.977 Q195.264 818.519 198.876 818.519 Q202.51 818.519 204.315 814.977 Q206.144 811.413 206.144 804.306 Q206.144 797.177 204.315 793.635 Q202.51 790.07 198.876 790.07 M198.876 786.366 Q204.686 786.366 207.741 790.973 Q210.82 795.556 210.82 804.306 Q210.82 813.033 207.741 817.639 Q204.686 822.223 198.876 822.223 Q193.065 822.223 189.987 817.639 Q186.931 813.033 186.931 804.306 Q186.931 795.556 189.987 790.973 Q193.065 786.366 198.876 786.366 Z\" fill=\"#000000\" fill-rule=\"evenodd\" fill-opacity=\"1\" /><path clip-path=\"url(#clip420)\" d=\"M 0 0 M152.626 477.537 L174.848 477.537 L174.848 479.528 L162.302 512.097 L157.417 512.097 L169.223 481.472 L152.626 481.472 L152.626 477.537 Z\" fill=\"#000000\" fill-rule=\"evenodd\" fill-opacity=\"1\" /><path clip-path=\"url(#clip420)\" d=\"M 0 0 M179.917 506.218 L184.802 506.218 L184.802 512.097 L179.917 512.097 L179.917 506.218 Z\" fill=\"#000000\" fill-rule=\"evenodd\" fill-opacity=\"1\" /><path clip-path=\"url(#clip420)\" d=\"M 0 0 M189.917 477.537 L208.274 477.537 L208.274 481.472 L194.2 481.472 L194.2 489.945 Q195.218 489.597 196.237 489.435 Q197.255 489.25 198.274 489.25 Q204.061 489.25 207.44 492.421 Q210.82 495.593 210.82 501.009 Q210.82 506.588 207.348 509.69 Q203.875 512.768 197.556 512.768 Q195.38 512.768 193.112 512.398 Q190.866 512.028 188.459 511.287 L188.459 506.588 Q190.542 507.722 192.764 508.278 Q194.987 508.833 197.463 508.833 Q201.468 508.833 203.806 506.727 Q206.144 504.62 206.144 501.009 Q206.144 497.398 203.806 495.292 Q201.468 493.185 197.463 493.185 Q195.588 493.185 193.713 493.602 Q191.862 494.019 189.917 494.898 L189.917 477.537 Z\" fill=\"#000000\" fill-rule=\"evenodd\" fill-opacity=\"1\" /><path clip-path=\"url(#clip420)\" d=\"M 0 0 M126.931 198.708 L134.57 198.708 L134.57 172.342 L126.26 174.009 L126.26 169.75 L134.524 168.083 L139.2 168.083 L139.2 198.708 L146.839 198.708 L146.839 202.643 L126.931 202.643 L126.931 198.708 Z\" fill=\"#000000\" fill-rule=\"evenodd\" fill-opacity=\"1\" /><path clip-path=\"url(#clip420)\" d=\"M 0 0 M161.908 171.162 Q158.297 171.162 156.468 174.726 Q154.663 178.268 154.663 185.398 Q154.663 192.504 156.468 196.069 Q158.297 199.611 161.908 199.611 Q165.542 199.611 167.348 196.069 Q169.177 192.504 169.177 185.398 Q169.177 178.268 167.348 174.726 Q165.542 171.162 161.908 171.162 M161.908 167.458 Q167.718 167.458 170.774 172.064 Q173.852 176.648 173.852 185.398 Q173.852 194.124 170.774 198.731 Q167.718 203.314 161.908 203.314 Q156.098 203.314 153.019 198.731 Q149.964 194.124 149.964 185.398 Q149.964 176.648 153.019 172.064 Q156.098 167.458 161.908 167.458 Z\" fill=\"#000000\" fill-rule=\"evenodd\" fill-opacity=\"1\" /><path clip-path=\"url(#clip420)\" d=\"M 0 0 M178.922 196.763 L183.806 196.763 L183.806 202.643 L178.922 202.643 L178.922 196.763 Z\" fill=\"#000000\" fill-rule=\"evenodd\" fill-opacity=\"1\" /><path clip-path=\"url(#clip420)\" d=\"M 0 0 M198.876 171.162 Q195.264 171.162 193.436 174.726 Q191.63 178.268 191.63 185.398 Q191.63 192.504 193.436 196.069 Q195.264 199.611 198.876 199.611 Q202.51 199.611 204.315 196.069 Q206.144 192.504 206.144 185.398 Q206.144 178.268 204.315 174.726 Q202.51 171.162 198.876 171.162 M198.876 167.458 Q204.686 167.458 207.741 172.064 Q210.82 176.648 210.82 185.398 Q210.82 194.124 207.741 198.731 Q204.686 203.314 198.876 203.314 Q193.065 203.314 189.987 198.731 Q186.931 194.124 186.931 185.398 Q186.931 176.648 189.987 172.064 Q193.065 167.458 198.876 167.458 Z\" fill=\"#000000\" fill-rule=\"evenodd\" fill-opacity=\"1\" /><path clip-path=\"url(#clip420)\" d=\"M 0 0 M1081.5 43.6931 L1081.5 65.8515 L1094.63 65.8515 Q1101.23 65.8515 1104.39 63.1374 Q1107.59 60.3828 1107.59 54.752 Q1107.59 49.0808 1104.39 46.4072 Q1101.23 43.6931 1094.63 43.6931 L1081.5 43.6931 M1081.5 18.8205 L1081.5 37.0496 L1093.61 37.0496 Q1099.61 37.0496 1102.52 34.8216 Q1105.48 32.5531 1105.48 27.935 Q1105.48 23.3575 1102.52 21.089 Q1099.61 18.8205 1093.61 18.8205 L1081.5 18.8205 M1073.32 12.096 L1094.22 12.096 Q1103.58 12.096 1108.64 15.9849 Q1113.7 19.8737 1113.7 27.0438 Q1113.7 32.5936 1111.11 35.8748 Q1108.52 39.156 1103.5 39.9662 Q1109.53 41.2625 1112.85 45.3944 Q1116.22 49.4858 1116.22 55.6432 Q1116.22 63.745 1110.71 68.1605 Q1105.2 72.576 1095.03 72.576 L1073.32 72.576 L1073.32 12.096 Z\" fill=\"#000000\" fill-rule=\"evenodd\" fill-opacity=\"1\" /><path clip-path=\"url(#clip420)\" d=\"M 0 0 M1141.62 32.4315 Q1135.62 32.4315 1132.14 37.1306 Q1128.65 41.7891 1128.65 49.9314 Q1128.65 58.0738 1132.1 62.7728 Q1135.58 67.4314 1141.62 67.4314 Q1147.57 67.4314 1151.05 62.7323 Q1154.54 58.0333 1154.54 49.9314 Q1154.54 41.8701 1151.05 37.1711 Q1147.57 32.4315 1141.62 32.4315 M1141.62 26.1121 Q1151.34 26.1121 1156.89 32.4315 Q1162.44 38.7509 1162.44 49.9314 Q1162.44 61.0714 1156.89 67.4314 Q1151.34 73.7508 1141.62 73.7508 Q1131.85 73.7508 1126.3 67.4314 Q1120.79 61.0714 1120.79 49.9314 Q1120.79 38.7509 1126.3 32.4315 Q1131.85 26.1121 1141.62 26.1121 Z\" fill=\"#000000\" fill-rule=\"evenodd\" fill-opacity=\"1\" /><path clip-path=\"url(#clip420)\" d=\"M 0 0 M1177.63 14.324 L1177.63 27.2059 L1192.98 27.2059 L1192.98 32.9987 L1177.63 32.9987 L1177.63 57.6282 Q1177.63 63.1779 1179.13 64.7578 Q1180.67 66.3376 1185.32 66.3376 L1192.98 66.3376 L1192.98 72.576 L1185.32 72.576 Q1176.7 72.576 1173.42 69.3758 Q1170.13 66.1351 1170.13 57.6282 L1170.13 32.9987 L1164.67 32.9987 L1164.67 27.2059 L1170.13 27.2059 L1170.13 14.324 L1177.63 14.324 Z\" fill=\"#000000\" fill-rule=\"evenodd\" fill-opacity=\"1\" /><path clip-path=\"url(#clip420)\" d=\"M 0 0 M1208.17 14.324 L1208.17 27.2059 L1223.52 27.2059 L1223.52 32.9987 L1208.17 32.9987 L1208.17 57.6282 Q1208.17 63.1779 1209.67 64.7578 Q1211.21 66.3376 1215.87 66.3376 L1223.52 66.3376 L1223.52 72.576 L1215.87 72.576 Q1207.24 72.576 1203.96 69.3758 Q1200.68 66.1351 1200.68 57.6282 L1200.68 32.9987 L1195.21 32.9987 L1195.21 27.2059 L1200.68 27.2059 L1200.68 14.324 L1208.17 14.324 Z\" fill=\"#000000\" fill-rule=\"evenodd\" fill-opacity=\"1\" /><path clip-path=\"url(#clip420)\" d=\"M 0 0 M1248.92 32.4315 Q1242.93 32.4315 1239.45 37.1306 Q1235.96 41.7891 1235.96 49.9314 Q1235.96 58.0738 1239.4 62.7728 Q1242.89 67.4314 1248.92 67.4314 Q1254.88 67.4314 1258.36 62.7323 Q1261.85 58.0333 1261.85 49.9314 Q1261.85 41.8701 1258.36 37.1711 Q1254.88 32.4315 1248.92 32.4315 M1248.92 26.1121 Q1258.65 26.1121 1264.2 32.4315 Q1269.75 38.7509 1269.75 49.9314 Q1269.75 61.0714 1264.2 67.4314 Q1258.65 73.7508 1248.92 73.7508 Q1239.16 73.7508 1233.61 67.4314 Q1228.1 61.0714 1228.1 49.9314 Q1228.1 38.7509 1233.61 32.4315 Q1239.16 26.1121 1248.92 26.1121 Z\" fill=\"#000000\" fill-rule=\"evenodd\" fill-opacity=\"1\" /><path clip-path=\"url(#clip420)\" d=\"M 0 0 M1312.89 35.9153 Q1315.68 30.8922 1319.57 28.5022 Q1323.46 26.1121 1328.73 26.1121 Q1335.82 26.1121 1339.66 31.0947 Q1343.51 36.0368 1343.51 45.1919 L1343.51 72.576 L1336.02 72.576 L1336.02 45.4349 Q1336.02 38.913 1333.71 35.7533 Q1331.4 32.5936 1326.66 32.5936 Q1320.87 32.5936 1317.51 36.4419 Q1314.14 40.2903 1314.14 46.9338 L1314.14 72.576 L1306.65 72.576 L1306.65 45.4349 Q1306.65 38.8725 1304.34 35.7533 Q1302.03 32.5936 1297.21 32.5936 Q1291.5 32.5936 1288.14 36.4824 Q1284.77 40.3308 1284.77 46.9338 L1284.77 72.576 L1277.28 72.576 L1277.28 27.2059 L1284.77 27.2059 L1284.77 34.2544 Q1287.33 30.082 1290.89 28.0971 Q1294.46 26.1121 1299.36 26.1121 Q1304.3 26.1121 1307.74 28.6237 Q1311.23 31.1352 1312.89 35.9153 Z\" fill=\"#000000\" fill-rule=\"evenodd\" fill-opacity=\"1\" /><path clip-path=\"url(#clip420)\" d=\"M 0 0 M1369.64 12.096 L1420.8 12.096 L1420.8 18.9825 L1399.33 18.9825 L1399.33 72.576 L1391.11 72.576 L1391.11 18.9825 L1369.64 18.9825 L1369.64 12.096 Z\" fill=\"#000000\" fill-rule=\"evenodd\" fill-opacity=\"1\" /><path clip-path=\"url(#clip420)\" d=\"M 0 0 M1426.07 27.2059 L1433.52 27.2059 L1433.52 72.576 L1426.07 72.576 L1426.07 27.2059 M1426.07 9.54393 L1433.52 9.54393 L1433.52 18.9825 L1426.07 18.9825 L1426.07 9.54393 Z\" fill=\"#000000\" fill-rule=\"evenodd\" fill-opacity=\"1\" /><path clip-path=\"url(#clip420)\" d=\"M 0 0 M1480.15 48.0275 L1480.15 51.6733 L1445.88 51.6733 Q1446.37 59.3701 1450.5 63.421 Q1454.67 67.4314 1462.08 67.4314 Q1466.38 67.4314 1470.39 66.3781 Q1474.44 65.3249 1478.41 63.2184 L1478.41 70.267 Q1474.4 71.9684 1470.18 72.8596 Q1465.97 73.7508 1461.64 73.7508 Q1450.78 73.7508 1444.42 67.4314 Q1438.1 61.1119 1438.1 50.3365 Q1438.1 39.1965 1444.1 32.6746 Q1450.13 26.1121 1460.34 26.1121 Q1469.5 26.1121 1474.8 32.0264 Q1480.15 37.9003 1480.15 48.0275 M1472.7 45.84 Q1472.62 39.7232 1469.25 36.0774 Q1465.93 32.4315 1460.42 32.4315 Q1454.18 32.4315 1450.42 35.9558 Q1446.69 39.4801 1446.12 45.8805 L1472.7 45.84 Z\" fill=\"#000000\" fill-rule=\"evenodd\" fill-opacity=\"1\" /><path clip-path=\"url(#clip420)\" d=\"M 0 0 M1514.26 34.1734 Q1513 33.4443 1511.5 33.1202 Q1510.05 32.7556 1508.26 32.7556 Q1501.94 32.7556 1498.54 36.8875 Q1495.18 40.9789 1495.18 48.6757 L1495.18 72.576 L1487.68 72.576 L1487.68 27.2059 L1495.18 27.2059 L1495.18 34.2544 Q1497.53 30.1225 1501.3 28.1376 Q1505.06 26.1121 1510.45 26.1121 Q1511.22 26.1121 1512.15 26.2337 Q1513.08 26.3147 1514.22 26.5172 L1514.26 34.1734 Z\" fill=\"#000000\" fill-rule=\"evenodd\" fill-opacity=\"1\" /><path clip-path=\"url(#clip420)\" d=\"M 0 0 M1017.37 1521.76 L1017.37 1527.24 Q1014.89 1525.87 1012.38 1525.2 Q1009.89 1524.5 1007.35 1524.5 Q1001.65 1524.5 998.499 1528.13 Q995.348 1531.73 995.348 1538.25 Q995.348 1544.78 998.499 1548.4 Q1001.65 1552 1007.35 1552 Q1009.89 1552 1012.38 1551.33 Q1014.89 1550.63 1017.37 1549.26 L1017.37 1554.68 Q1014.92 1555.82 1012.28 1556.39 Q1009.67 1556.97 1006.71 1556.97 Q998.658 1556.97 993.915 1551.91 Q989.173 1546.85 989.173 1538.25 Q989.173 1529.53 993.947 1524.53 Q998.753 1519.54 1007.09 1519.54 Q1009.8 1519.54 1012.38 1520.11 Q1014.95 1520.65 1017.37 1521.76 Z\" fill=\"#000000\" fill-rule=\"evenodd\" fill-opacity=\"1\" /><path clip-path=\"url(#clip420)\" d=\"M 0 0 M1022.91 1541.98 L1022.91 1520.4 L1028.77 1520.4 L1028.77 1541.75 Q1028.77 1546.81 1030.74 1549.36 Q1032.71 1551.87 1036.66 1551.87 Q1041.4 1551.87 1044.14 1548.85 Q1046.91 1545.83 1046.91 1540.61 L1046.91 1520.4 L1052.77 1520.4 L1052.77 1556.04 L1046.91 1556.04 L1046.91 1550.57 Q1044.78 1553.82 1041.94 1555.41 Q1039.14 1556.97 1035.42 1556.97 Q1029.28 1556.97 1026.09 1553.15 Q1022.91 1549.33 1022.91 1541.98 M1037.65 1519.54 L1037.65 1519.54 Z\" fill=\"#000000\" fill-rule=\"evenodd\" fill-opacity=\"1\" /><path clip-path=\"url(#clip420)\" d=\"M 0 0 M1079.57 1525.87 Q1078.58 1525.3 1077.4 1525.04 Q1076.26 1524.76 1074.86 1524.76 Q1069.89 1524.76 1067.22 1528 Q1064.57 1531.22 1064.57 1537.27 L1064.57 1556.04 L1058.69 1556.04 L1058.69 1520.4 L1064.57 1520.4 L1064.57 1525.93 Q1066.42 1522.69 1069.38 1521.13 Q1072.34 1519.54 1076.57 1519.54 Q1077.18 1519.54 1077.91 1519.63 Q1078.64 1519.7 1079.53 1519.85 L1079.57 1525.87 Z\" fill=\"#000000\" fill-rule=\"evenodd\" fill-opacity=\"1\" /><path clip-path=\"url(#clip420)\" d=\"M 0 0 M1105.22 1525.87 Q1104.23 1525.3 1103.06 1525.04 Q1101.91 1524.76 1100.51 1524.76 Q1095.54 1524.76 1092.87 1528 Q1090.23 1531.22 1090.23 1537.27 L1090.23 1556.04 L1084.34 1556.04 L1084.34 1520.4 L1090.23 1520.4 L1090.23 1525.93 Q1092.07 1522.69 1095.03 1521.13 Q1097.99 1519.54 1102.23 1519.54 Q1102.83 1519.54 1103.56 1519.63 Q1104.3 1519.7 1105.19 1519.85 L1105.22 1525.87 Z\" fill=\"#000000\" fill-rule=\"evenodd\" fill-opacity=\"1\" /><path clip-path=\"url(#clip420)\" d=\"M 0 0 M1111.36 1520.4 L1117.22 1520.4 L1117.22 1556.04 L1111.36 1556.04 L1111.36 1520.4 M1111.36 1506.52 L1117.22 1506.52 L1117.22 1513.93 L1111.36 1513.93 L1111.36 1506.52 Z\" fill=\"#000000\" fill-rule=\"evenodd\" fill-opacity=\"1\" /><path clip-path=\"url(#clip420)\" d=\"M 0 0 M1149.02 1521.76 L1149.02 1527.24 Q1146.53 1525.87 1144.02 1525.2 Q1141.54 1524.5 1138.99 1524.5 Q1133.29 1524.5 1130.14 1528.13 Q1126.99 1531.73 1126.99 1538.25 Q1126.99 1544.78 1130.14 1548.4 Q1133.29 1552 1138.99 1552 Q1141.54 1552 1144.02 1551.33 Q1146.53 1550.63 1149.02 1549.26 L1149.02 1554.68 Q1146.57 1555.82 1143.92 1556.39 Q1141.31 1556.97 1138.35 1556.97 Q1130.3 1556.97 1125.56 1551.91 Q1120.82 1546.85 1120.82 1538.25 Q1120.82 1529.53 1125.59 1524.53 Q1130.4 1519.54 1138.74 1519.54 Q1141.44 1519.54 1144.02 1520.11 Q1146.6 1520.65 1149.02 1521.76 Z\" fill=\"#000000\" fill-rule=\"evenodd\" fill-opacity=\"1\" /><path clip-path=\"url(#clip420)\" d=\"M 0 0 M1154.55 1541.98 L1154.55 1520.4 L1160.41 1520.4 L1160.41 1541.75 Q1160.41 1546.81 1162.38 1549.36 Q1164.36 1551.87 1168.3 1551.87 Q1173.05 1551.87 1175.78 1548.85 Q1178.55 1545.83 1178.55 1540.61 L1178.55 1520.4 L1184.41 1520.4 L1184.41 1556.04 L1178.55 1556.04 L1178.55 1550.57 Q1176.42 1553.82 1173.59 1555.41 Q1170.79 1556.97 1167.06 1556.97 Q1160.92 1556.97 1157.74 1553.15 Q1154.55 1549.33 1154.55 1541.98 M1169.29 1519.54 L1169.29 1519.54 Z\" fill=\"#000000\" fill-rule=\"evenodd\" fill-opacity=\"1\" /><path clip-path=\"url(#clip420)\" d=\"M 0 0 M1190.55 1506.52 L1196.41 1506.52 L1196.41 1556.04 L1190.55 1556.04 L1190.55 1506.52 Z\" fill=\"#000000\" fill-rule=\"evenodd\" fill-opacity=\"1\" /><path clip-path=\"url(#clip420)\" d=\"M 0 0 M1218.75 1538.12 Q1211.65 1538.12 1208.92 1539.75 Q1206.18 1541.37 1206.18 1545.29 Q1206.18 1548.4 1208.22 1550.25 Q1210.29 1552.07 1213.82 1552.07 Q1218.69 1552.07 1221.62 1548.63 Q1224.58 1545.16 1224.58 1539.43 L1224.58 1538.12 L1218.75 1538.12 M1230.43 1535.71 L1230.43 1556.04 L1224.58 1556.04 L1224.58 1550.63 Q1222.57 1553.88 1219.58 1555.44 Q1216.59 1556.97 1212.26 1556.97 Q1206.78 1556.97 1203.54 1553.91 Q1200.32 1550.82 1200.32 1545.67 Q1200.32 1539.65 1204.33 1536.6 Q1208.38 1533.54 1216.36 1533.54 L1224.58 1533.54 L1224.58 1532.97 Q1224.58 1528.93 1221.9 1526.73 Q1219.26 1524.5 1214.46 1524.5 Q1211.4 1524.5 1208.5 1525.23 Q1205.61 1525.97 1202.93 1527.43 L1202.93 1522.02 Q1206.15 1520.78 1209.17 1520.17 Q1212.2 1519.54 1215.06 1519.54 Q1222.79 1519.54 1226.61 1523.55 Q1230.43 1527.56 1230.43 1535.71 Z\" fill=\"#000000\" fill-rule=\"evenodd\" fill-opacity=\"1\" /><path clip-path=\"url(#clip420)\" d=\"M 0 0 M1257.23 1525.87 Q1256.25 1525.3 1255.07 1525.04 Q1253.92 1524.76 1252.52 1524.76 Q1247.56 1524.76 1244.88 1528 Q1242.24 1531.22 1242.24 1537.27 L1242.24 1556.04 L1236.35 1556.04 L1236.35 1520.4 L1242.24 1520.4 L1242.24 1525.93 Q1244.09 1522.69 1247.05 1521.13 Q1250.01 1519.54 1254.24 1519.54 Q1254.85 1519.54 1255.58 1519.63 Q1256.31 1519.7 1257.2 1519.85 L1257.23 1525.87 Z\" fill=\"#000000\" fill-rule=\"evenodd\" fill-opacity=\"1\" /><path clip-path=\"url(#clip420)\" d=\"M 0 0 M1309.75 1521.76 L1309.75 1527.24 Q1307.27 1525.87 1304.75 1525.2 Q1302.27 1524.5 1299.72 1524.5 Q1294.03 1524.5 1290.88 1528.13 Q1287.72 1531.73 1287.72 1538.25 Q1287.72 1544.78 1290.88 1548.4 Q1294.03 1552 1299.72 1552 Q1302.27 1552 1304.75 1551.33 Q1307.27 1550.63 1309.75 1549.26 L1309.75 1554.68 Q1307.3 1555.82 1304.66 1556.39 Q1302.05 1556.97 1299.09 1556.97 Q1291.03 1556.97 1286.29 1551.91 Q1281.55 1546.85 1281.55 1538.25 Q1281.55 1529.53 1286.32 1524.53 Q1291.13 1519.54 1299.47 1519.54 Q1302.17 1519.54 1304.75 1520.11 Q1307.33 1520.65 1309.75 1521.76 Z\" fill=\"#000000\" fill-rule=\"evenodd\" fill-opacity=\"1\" /><path clip-path=\"url(#clip420)\" d=\"M 0 0 M1329.71 1524.5 Q1325 1524.5 1322.26 1528.19 Q1319.52 1531.85 1319.52 1538.25 Q1319.52 1544.65 1322.23 1548.34 Q1324.96 1552 1329.71 1552 Q1334.39 1552 1337.12 1548.31 Q1339.86 1544.62 1339.86 1538.25 Q1339.86 1531.92 1337.12 1528.23 Q1334.39 1524.5 1329.71 1524.5 M1329.71 1519.54 Q1337.35 1519.54 1341.71 1524.5 Q1346.07 1529.47 1346.07 1538.25 Q1346.07 1547 1341.71 1552 Q1337.35 1556.97 1329.71 1556.97 Q1322.04 1556.97 1317.68 1552 Q1313.35 1547 1313.35 1538.25 Q1313.35 1529.47 1317.68 1524.5 Q1322.04 1519.54 1329.71 1519.54 Z\" fill=\"#000000\" fill-rule=\"evenodd\" fill-opacity=\"1\" /><path clip-path=\"url(#clip420)\" d=\"M 0 0 M1379.96 1527.24 Q1382.16 1523.29 1385.22 1521.41 Q1388.27 1519.54 1392.41 1519.54 Q1397.98 1519.54 1401 1523.45 Q1404.03 1527.33 1404.03 1534.53 L1404.03 1556.04 L1398.14 1556.04 L1398.14 1534.72 Q1398.14 1529.59 1396.32 1527.11 Q1394.51 1524.63 1390.79 1524.63 Q1386.23 1524.63 1383.59 1527.65 Q1380.95 1530.68 1380.95 1535.9 L1380.95 1556.04 L1375.06 1556.04 L1375.06 1534.72 Q1375.06 1529.56 1373.25 1527.11 Q1371.43 1524.63 1367.65 1524.63 Q1363.16 1524.63 1360.52 1527.68 Q1357.87 1530.71 1357.87 1535.9 L1357.87 1556.04 L1351.99 1556.04 L1351.99 1520.4 L1357.87 1520.4 L1357.87 1525.93 Q1359.88 1522.66 1362.68 1521.1 Q1365.48 1519.54 1369.33 1519.54 Q1373.22 1519.54 1375.92 1521.51 Q1378.66 1523.48 1379.96 1527.24 Z\" fill=\"#000000\" fill-rule=\"evenodd\" fill-opacity=\"1\" /><path clip-path=\"url(#clip420)\" d=\"M 0 0 M1415.83 1550.7 L1415.83 1569.6 L1409.95 1569.6 L1409.95 1520.4 L1415.83 1520.4 L1415.83 1525.81 Q1417.68 1522.62 1420.48 1521.1 Q1423.31 1519.54 1427.23 1519.54 Q1433.72 1519.54 1437.76 1524.69 Q1441.84 1529.85 1441.84 1538.25 Q1441.84 1546.65 1437.76 1551.81 Q1433.72 1556.97 1427.23 1556.97 Q1423.31 1556.97 1420.48 1555.44 Q1417.68 1553.88 1415.83 1550.7 M1435.76 1538.25 Q1435.76 1531.79 1433.09 1528.13 Q1430.44 1524.44 1425.8 1524.44 Q1421.15 1524.44 1418.48 1528.13 Q1415.83 1531.79 1415.83 1538.25 Q1415.83 1544.71 1418.48 1548.4 Q1421.15 1552.07 1425.8 1552.07 Q1430.44 1552.07 1433.09 1548.4 Q1435.76 1544.71 1435.76 1538.25 Z\" fill=\"#000000\" fill-rule=\"evenodd\" fill-opacity=\"1\" /><path clip-path=\"url(#clip420)\" d=\"M 0 0 M1447.98 1506.52 L1453.84 1506.52 L1453.84 1556.04 L1447.98 1556.04 L1447.98 1506.52 Z\" fill=\"#000000\" fill-rule=\"evenodd\" fill-opacity=\"1\" /><path clip-path=\"url(#clip420)\" d=\"M 0 0 M1490.47 1536.76 L1490.47 1539.62 L1463.55 1539.62 Q1463.93 1545.67 1467.17 1548.85 Q1470.45 1552 1476.28 1552 Q1479.65 1552 1482.8 1551.17 Q1485.98 1550.35 1489.1 1548.69 L1489.1 1554.23 Q1485.95 1555.57 1482.64 1556.27 Q1479.33 1556.97 1475.93 1556.97 Q1467.4 1556.97 1462.4 1552 Q1457.43 1547.04 1457.43 1538.57 Q1457.43 1529.82 1462.14 1524.69 Q1466.89 1519.54 1474.91 1519.54 Q1482.1 1519.54 1486.27 1524.18 Q1490.47 1528.8 1490.47 1536.76 M1484.62 1535.04 Q1484.55 1530.23 1481.91 1527.37 Q1479.3 1524.5 1474.97 1524.5 Q1470.07 1524.5 1467.11 1527.27 Q1464.18 1530.04 1463.74 1535.07 L1484.62 1535.04 Z\" fill=\"#000000\" fill-rule=\"evenodd\" fill-opacity=\"1\" /><path clip-path=\"url(#clip420)\" d=\"M 0 0 M1525.1 1520.4 L1512.21 1537.74 L1525.77 1556.04 L1518.86 1556.04 L1508.49 1542.04 L1498.11 1556.04 L1491.2 1556.04 L1505.05 1537.39 L1492.38 1520.4 L1499.29 1520.4 L1508.74 1533.1 L1518.19 1520.4 L1525.1 1520.4 Z\" fill=\"#000000\" fill-rule=\"evenodd\" fill-opacity=\"1\" /><path clip-path=\"url(#clip420)\" d=\"M 0 0 M1531.91 1520.4 L1537.77 1520.4 L1537.77 1556.04 L1531.91 1556.04 L1531.91 1520.4 M1531.91 1506.52 L1537.77 1506.52 L1537.77 1513.93 L1531.91 1513.93 L1531.91 1506.52 Z\" fill=\"#000000\" fill-rule=\"evenodd\" fill-opacity=\"1\" /><path clip-path=\"url(#clip420)\" d=\"M 0 0 M1549.71 1510.27 L1549.71 1520.4 L1561.77 1520.4 L1561.77 1524.95 L1549.71 1524.95 L1549.71 1544.3 Q1549.71 1548.66 1550.88 1549.9 Q1552.09 1551.14 1555.75 1551.14 L1561.77 1551.14 L1561.77 1556.04 L1555.75 1556.04 Q1548.97 1556.04 1546.4 1553.53 Q1543.82 1550.98 1543.82 1544.3 L1543.82 1524.95 L1539.52 1524.95 L1539.52 1520.4 L1543.82 1520.4 L1543.82 1510.27 L1549.71 1510.27 Z\" fill=\"#000000\" fill-rule=\"evenodd\" fill-opacity=\"1\" /><path clip-path=\"url(#clip420)\" d=\"M 0 0 M1582.74 1559.35 Q1580.26 1565.72 1577.91 1567.66 Q1575.55 1569.6 1571.6 1569.6 L1566.92 1569.6 L1566.92 1564.7 L1570.36 1564.7 Q1572.78 1564.7 1574.12 1563.56 Q1575.45 1562.41 1577.08 1558.14 L1578.13 1555.47 L1563.71 1520.4 L1569.92 1520.4 L1581.06 1548.28 L1592.2 1520.4 L1598.4 1520.4 L1582.74 1559.35 Z\" fill=\"#000000\" fill-rule=\"evenodd\" fill-opacity=\"1\" /><path clip-path=\"url(#clip420)\" d=\"M 0 0 M59.3266 884.567 L59.3266 893.829 L69.9574 896.502 L69.9574 887.177 L59.3266 884.567 M41.2162 889.341 L54.4251 892.651 L54.4251 883.357 L41.2162 880.015 L41.2162 874.923 L54.4251 878.201 L54.4251 868.27 L59.3266 868.27 L59.3266 879.442 L69.9574 882.052 L69.9574 871.931 L74.8271 871.931 L74.8271 883.294 L88.0042 886.604 L88.0042 891.696 L74.8271 888.418 L74.8271 897.744 L88.0042 901.022 L88.0042 906.146 L74.8271 902.836 L74.8271 912.862 L69.9574 912.862 L69.9574 901.659 L59.3266 898.985 L59.3266 909.234 L54.4251 909.234 L54.4251 897.744 L41.2162 894.497 L41.2162 889.341 Z\" fill=\"#000000\" fill-rule=\"evenodd\" fill-opacity=\"1\" /><path clip-path=\"url(#clip420)\" d=\"M 0 0 M53.4065 818.682 L58.9447 818.682 Q57.6716 821.164 57.035 823.838 Q56.3984 826.511 56.3984 829.376 Q56.3984 833.737 57.7352 835.933 Q59.072 838.097 61.7456 838.097 Q63.7826 838.097 64.9603 836.537 Q66.1061 834.978 67.1565 830.267 L67.6021 828.262 Q68.9389 822.024 71.3897 819.414 Q73.8086 816.772 78.1691 816.772 Q83.1344 816.772 86.0308 820.719 Q88.9272 824.634 88.9272 831.509 Q88.9272 834.373 88.3543 837.492 Q87.8132 840.58 86.6992 844.017 L80.6518 844.017 Q82.3387 840.771 83.198 837.62 Q84.0256 834.469 84.0256 831.381 Q84.0256 827.244 82.6251 825.016 Q81.1929 822.788 78.6147 822.788 Q76.2276 822.788 74.9545 824.411 Q73.6813 826.002 72.5037 831.445 L72.0262 833.482 Q70.8804 838.925 68.5251 841.344 Q66.138 843.763 62.0002 843.763 Q56.9713 843.763 54.2341 840.198 Q51.4968 836.633 51.4968 830.076 Q51.4968 826.83 51.9743 823.965 Q52.4517 821.101 53.4065 818.682 Z\" fill=\"#000000\" fill-rule=\"evenodd\" fill-opacity=\"1\" /><path clip-path=\"url(#clip420)\" d=\"M 0 0 M53.7248 784.975 L59.1993 784.975 Q57.8307 787.458 57.1623 789.972 Q56.4621 792.455 56.4621 795.001 Q56.4621 800.699 60.0905 803.85 Q63.6872 807.001 70.212 807.001 Q76.7369 807.001 80.3653 803.85 Q83.9619 800.699 83.9619 795.001 Q83.9619 792.455 83.2935 789.972 Q82.5933 787.458 81.2247 784.975 L86.6355 784.975 Q87.7814 787.426 88.3543 790.068 Q88.9272 792.678 88.9272 795.638 Q88.9272 803.69 83.8664 808.433 Q78.8057 813.175 70.212 813.175 Q61.491 813.175 56.4939 808.401 Q51.4968 803.595 51.4968 795.256 Q51.4968 792.55 52.0697 789.972 Q52.6108 787.394 53.7248 784.975 Z\" fill=\"#000000\" fill-rule=\"evenodd\" fill-opacity=\"1\" /><path clip-path=\"url(#clip420)\" d=\"M 0 0 M66.4881 749.2 L88.0042 749.2 L88.0042 755.056 L66.679 755.056 Q61.6183 755.056 59.1038 757.03 Q56.5894 759.003 56.5894 762.95 Q56.5894 767.692 59.6131 770.43 Q62.6368 773.167 67.8567 773.167 L88.0042 773.167 L88.0042 779.055 L38.479 779.055 L38.479 773.167 L57.8944 773.167 Q54.6797 771.066 53.0883 768.233 Q51.4968 765.369 51.4968 761.645 Q51.4968 755.502 55.3163 752.351 Q59.1038 749.2 66.4881 749.2 Z\" fill=\"#000000\" fill-rule=\"evenodd\" fill-opacity=\"1\" /><path clip-path=\"url(#clip420)\" d=\"M 0 0 M56.4621 729.243 Q56.4621 733.954 60.1542 736.691 Q63.8145 739.429 70.212 739.429 Q76.6095 739.429 80.3017 736.723 Q83.9619 733.986 83.9619 729.243 Q83.9619 724.565 80.2698 721.827 Q76.5777 719.09 70.212 719.09 Q63.8781 719.09 60.186 721.827 Q56.4621 724.565 56.4621 729.243 M51.4968 729.243 Q51.4968 721.605 56.4621 717.244 Q61.4273 712.884 70.212 712.884 Q78.9649 712.884 83.9619 717.244 Q88.9272 721.605 88.9272 729.243 Q88.9272 736.914 83.9619 741.275 Q78.9649 745.603 70.212 745.603 Q61.4273 745.603 56.4621 741.275 Q51.4968 736.914 51.4968 729.243 Z\" fill=\"#000000\" fill-rule=\"evenodd\" fill-opacity=\"1\" /><path clip-path=\"url(#clip420)\" d=\"M 0 0 M56.4621 692.927 Q56.4621 697.638 60.1542 700.375 Q63.8145 703.112 70.212 703.112 Q76.6095 703.112 80.3017 700.407 Q83.9619 697.67 83.9619 692.927 Q83.9619 688.248 80.2698 685.511 Q76.5777 682.774 70.212 682.774 Q63.8781 682.774 60.186 685.511 Q56.4621 688.248 56.4621 692.927 M51.4968 692.927 Q51.4968 685.288 56.4621 680.928 Q61.4273 676.567 70.212 676.567 Q78.9649 676.567 83.9619 680.928 Q88.9272 685.288 88.9272 692.927 Q88.9272 700.598 83.9619 704.958 Q78.9649 709.287 70.212 709.287 Q61.4273 709.287 56.4621 704.958 Q51.4968 700.598 51.4968 692.927 Z\" fill=\"#000000\" fill-rule=\"evenodd\" fill-opacity=\"1\" /><path clip-path=\"url(#clip420)\" d=\"M 0 0 M38.479 670.424 L38.479 664.568 L88.0042 664.568 L88.0042 670.424 L38.479 670.424 Z\" fill=\"#000000\" fill-rule=\"evenodd\" fill-opacity=\"1\" /><path clip-path=\"url(#clip420)\" d=\"M 0 0 M53.4065 635.699 L58.9447 635.699 Q57.6716 638.182 57.035 640.856 Q56.3984 643.529 56.3984 646.394 Q56.3984 650.754 57.7352 652.95 Q59.072 655.115 61.7456 655.115 Q63.7826 655.115 64.9603 653.555 Q66.1061 651.996 67.1565 647.285 L67.6021 645.28 Q68.9389 639.041 71.3897 636.431 Q73.8086 633.79 78.1691 633.79 Q83.1344 633.79 86.0308 637.736 Q88.9272 641.651 88.9272 648.526 Q88.9272 651.391 88.3543 654.51 Q87.8132 657.597 86.6992 661.035 L80.6518 661.035 Q82.3387 657.788 83.198 654.637 Q84.0256 651.486 84.0256 648.399 Q84.0256 644.261 82.6251 642.033 Q81.1929 639.805 78.6147 639.805 Q76.2276 639.805 74.9545 641.429 Q73.6813 643.02 72.5037 648.463 L72.0262 650.5 Q70.8804 655.942 68.5251 658.361 Q66.138 660.78 62.0002 660.78 Q56.9713 660.78 54.2341 657.215 Q51.4968 653.651 51.4968 647.094 Q51.4968 643.848 51.9743 640.983 Q52.4517 638.118 53.4065 635.699 Z\" fill=\"#000000\" fill-rule=\"evenodd\" fill-opacity=\"1\" /><path clip-path=\"url(#clip422)\" d=\"\n",
       "M658.407 1299.4 L658.407 1423.18 L1081.99 1423.18 L1081.99 1299.4 L658.407 1299.4 L658.407 1299.4  Z\n",
       "  \" fill=\"#1874cd\" fill-rule=\"evenodd\" fill-opacity=\"0.7\"/>\n",
       "<polyline clip-path=\"url(#clip422)\" style=\"stroke:#000000; stroke-width:4; stroke-opacity:0.7; fill:none\" points=\"\n",
       "  658.407,1299.4 658.407,1423.18 1081.99,1423.18 1081.99,1299.4 658.407,1299.4 \n",
       "  \"/>\n",
       "<path clip-path=\"url(#clip422)\" d=\"\n",
       "M1081.99 928.053 L1081.99 1423.18 L1505.58 1423.18 L1505.58 928.053 L1081.99 928.053 L1081.99 928.053  Z\n",
       "  \" fill=\"#1874cd\" fill-rule=\"evenodd\" fill-opacity=\"0.7\"/>\n",
       "<polyline clip-path=\"url(#clip422)\" style=\"stroke:#000000; stroke-width:4; stroke-opacity:0.7; fill:none\" points=\"\n",
       "  1081.99,928.053 1081.99,1423.18 1505.58,1423.18 1505.58,928.053 1081.99,928.053 \n",
       "  \"/>\n",
       "<path clip-path=\"url(#clip422)\" d=\"\n",
       "M1505.58 -185.982 L1505.58 1423.18 L1929.17 1423.18 L1929.17 -185.982 L1505.58 -185.982 L1505.58 -185.982  Z\n",
       "  \" fill=\"#1874cd\" fill-rule=\"evenodd\" fill-opacity=\"0.7\"/>\n",
       "<polyline clip-path=\"url(#clip422)\" style=\"stroke:#000000; stroke-width:4; stroke-opacity:0.7; fill:none\" points=\"\n",
       "  1505.58,-185.982 1505.58,1423.18 1929.17,1423.18 1929.17,-185.982 1505.58,-185.982 \n",
       "  \"/>\n",
       "<path clip-path=\"url(#clip422)\" d=\"\n",
       "M1929.17 1175.62 L1929.17 1423.18 L2352.76 1423.18 L2352.76 1175.62 L1929.17 1175.62 L1929.17 1175.62  Z\n",
       "  \" fill=\"#1874cd\" fill-rule=\"evenodd\" fill-opacity=\"0.7\"/>\n",
       "<polyline clip-path=\"url(#clip422)\" style=\"stroke:#000000; stroke-width:4; stroke-opacity:0.7; fill:none\" points=\"\n",
       "  1929.17,1175.62 1929.17,1423.18 2352.76,1423.18 2352.76,1175.62 1929.17,1175.62 \n",
       "  \"/>\n",
       "<path clip-path=\"url(#clip422)\" d=\"\n",
       "M2352.76 1299.4 L2352.76 1423.18 L2776.34 1423.18 L2776.34 1299.4 L2352.76 1299.4 L2352.76 1299.4  Z\n",
       "  \" fill=\"#1874cd\" fill-rule=\"evenodd\" fill-opacity=\"0.7\"/>\n",
       "<polyline clip-path=\"url(#clip422)\" style=\"stroke:#000000; stroke-width:4; stroke-opacity:0.7; fill:none\" points=\"\n",
       "  2352.76,1299.4 2352.76,1423.18 2776.34,1423.18 2776.34,1299.4 2352.76,1299.4 \n",
       "  \"/>\n",
       "</svg>\n"
      ]
     },
     "execution_count": 43,
     "metadata": {},
     "output_type": "execute_result"
    }
   ],
   "source": [
    "bottom_tier = Array{Curriculum,1}()\n",
    "bottom_tier_total_cc = 0\n",
    "bottom_tier_avg_cc = 0\n",
    "for (key, val) in curriculum\n",
    "    if (split(key, \"/\")[1]) == \"tier_bottom\"\n",
    "        name = split(split(key, \"/\")[2], \".\")[1]\n",
    "        println(\"$name => $(val.metrics[\"complexity\"][1])\")\n",
    "        push!(bottom_tier, val)\n",
    "        bottom_tier_total_cc += val.metrics[\"complexity\"][1]\n",
    "    end\n",
    "end\n",
    "bottom_tier_avg_cc = bottom_tier_total_cc / length(bottom_tier)\n",
    "println(\"Avg. curricular complexity = $(bottom_tier_avg_cc)\")\n",
    "metric_histogram(bottom_tier, \"complexity\", nbins=5, title=\"Bottom Tier\", xlabel=\"curricular complexity\", ylabel=\"# schools\", xlim=(0,500))"
   ]
  },
  {
   "cell_type": "code",
   "execution_count": 44,
   "metadata": {
    "scrolled": false
   },
   "outputs": [
    {
     "data": {
      "image/svg+xml": [
       "<?xml version=\"1.0\" encoding=\"utf-8\"?>\n",
       "<svg xmlns=\"http://www.w3.org/2000/svg\" xmlns:xlink=\"http://www.w3.org/1999/xlink\" width=\"600\" height=\"400\" viewBox=\"0 0 2400 1600\">\n",
       "<defs>\n",
       "  <clipPath id=\"clip460\">\n",
       "    <rect x=\"0\" y=\"0\" width=\"2400\" height=\"1600\"/>\n",
       "  </clipPath>\n",
       "</defs>\n",
       "<path clip-path=\"url(#clip460)\" d=\"\n",
       "M0 1600 L2400 1600 L2400 0 L0 0  Z\n",
       "  \" fill=\"#ffffff\" fill-rule=\"evenodd\" fill-opacity=\"1\"/>\n",
       "<defs>\n",
       "  <clipPath id=\"clip461\">\n",
       "    <rect x=\"480\" y=\"0\" width=\"1681\" height=\"1600\"/>\n",
       "  </clipPath>\n",
       "</defs>\n",
       "<path clip-path=\"url(#clip460)\" d=\"\n",
       "M200.028 1423.18 L2352.76 1423.18 L2352.76 123.472 L200.028 123.472  Z\n",
       "  \" fill=\"#ffffff\" fill-rule=\"evenodd\" fill-opacity=\"1\"/>\n",
       "<defs>\n",
       "  <clipPath id=\"clip462\">\n",
       "    <rect x=\"200\" y=\"123\" width=\"2154\" height=\"1301\"/>\n",
       "  </clipPath>\n",
       "</defs>\n",
       "<polyline clip-path=\"url(#clip462)\" style=\"stroke:#000000; stroke-width:2; stroke-opacity:0.1; fill:none\" points=\"\n",
       "  200.028,1423.18 200.028,123.472 \n",
       "  \"/>\n",
       "<polyline clip-path=\"url(#clip462)\" style=\"stroke:#000000; stroke-width:2; stroke-opacity:0.1; fill:none\" points=\"\n",
       "  630.574,1423.18 630.574,123.472 \n",
       "  \"/>\n",
       "<polyline clip-path=\"url(#clip462)\" style=\"stroke:#000000; stroke-width:2; stroke-opacity:0.1; fill:none\" points=\"\n",
       "  1061.12,1423.18 1061.12,123.472 \n",
       "  \"/>\n",
       "<polyline clip-path=\"url(#clip462)\" style=\"stroke:#000000; stroke-width:2; stroke-opacity:0.1; fill:none\" points=\"\n",
       "  1491.66,1423.18 1491.66,123.472 \n",
       "  \"/>\n",
       "<polyline clip-path=\"url(#clip462)\" style=\"stroke:#000000; stroke-width:2; stroke-opacity:0.1; fill:none\" points=\"\n",
       "  1922.21,1423.18 1922.21,123.472 \n",
       "  \"/>\n",
       "<polyline clip-path=\"url(#clip462)\" style=\"stroke:#000000; stroke-width:2; stroke-opacity:0.1; fill:none\" points=\"\n",
       "  2352.76,1423.18 2352.76,123.472 \n",
       "  \"/>\n",
       "<polyline clip-path=\"url(#clip462)\" style=\"stroke:#000000; stroke-width:2; stroke-opacity:0.1; fill:none\" points=\"\n",
       "  200.028,1423.18 2352.76,1423.18 \n",
       "  \"/>\n",
       "<polyline clip-path=\"url(#clip462)\" style=\"stroke:#000000; stroke-width:2; stroke-opacity:0.1; fill:none\" points=\"\n",
       "  200.028,1010.57 2352.76,1010.57 \n",
       "  \"/>\n",
       "<polyline clip-path=\"url(#clip462)\" style=\"stroke:#000000; stroke-width:2; stroke-opacity:0.1; fill:none\" points=\"\n",
       "  200.028,597.969 2352.76,597.969 \n",
       "  \"/>\n",
       "<polyline clip-path=\"url(#clip462)\" style=\"stroke:#000000; stroke-width:2; stroke-opacity:0.1; fill:none\" points=\"\n",
       "  200.028,185.363 2352.76,185.363 \n",
       "  \"/>\n",
       "<polyline clip-path=\"url(#clip460)\" style=\"stroke:#000000; stroke-width:4; stroke-opacity:1; fill:none\" points=\"\n",
       "  200.028,1423.18 2352.76,1423.18 \n",
       "  \"/>\n",
       "<polyline clip-path=\"url(#clip460)\" style=\"stroke:#000000; stroke-width:4; stroke-opacity:1; fill:none\" points=\"\n",
       "  200.028,1423.18 200.028,123.472 \n",
       "  \"/>\n",
       "<polyline clip-path=\"url(#clip460)\" style=\"stroke:#000000; stroke-width:4; stroke-opacity:1; fill:none\" points=\"\n",
       "  200.028,1423.18 200.028,1407.58 \n",
       "  \"/>\n",
       "<polyline clip-path=\"url(#clip460)\" style=\"stroke:#000000; stroke-width:4; stroke-opacity:1; fill:none\" points=\"\n",
       "  630.574,1423.18 630.574,1407.58 \n",
       "  \"/>\n",
       "<polyline clip-path=\"url(#clip460)\" style=\"stroke:#000000; stroke-width:4; stroke-opacity:1; fill:none\" points=\"\n",
       "  1061.12,1423.18 1061.12,1407.58 \n",
       "  \"/>\n",
       "<polyline clip-path=\"url(#clip460)\" style=\"stroke:#000000; stroke-width:4; stroke-opacity:1; fill:none\" points=\"\n",
       "  1491.66,1423.18 1491.66,1407.58 \n",
       "  \"/>\n",
       "<polyline clip-path=\"url(#clip460)\" style=\"stroke:#000000; stroke-width:4; stroke-opacity:1; fill:none\" points=\"\n",
       "  1922.21,1423.18 1922.21,1407.58 \n",
       "  \"/>\n",
       "<polyline clip-path=\"url(#clip460)\" style=\"stroke:#000000; stroke-width:4; stroke-opacity:1; fill:none\" points=\"\n",
       "  2352.76,1423.18 2352.76,1407.58 \n",
       "  \"/>\n",
       "<polyline clip-path=\"url(#clip460)\" style=\"stroke:#000000; stroke-width:4; stroke-opacity:1; fill:none\" points=\"\n",
       "  200.028,1423.18 225.861,1423.18 \n",
       "  \"/>\n",
       "<polyline clip-path=\"url(#clip460)\" style=\"stroke:#000000; stroke-width:4; stroke-opacity:1; fill:none\" points=\"\n",
       "  200.028,1010.57 225.861,1010.57 \n",
       "  \"/>\n",
       "<polyline clip-path=\"url(#clip460)\" style=\"stroke:#000000; stroke-width:4; stroke-opacity:1; fill:none\" points=\"\n",
       "  200.028,597.969 225.861,597.969 \n",
       "  \"/>\n",
       "<polyline clip-path=\"url(#clip460)\" style=\"stroke:#000000; stroke-width:4; stroke-opacity:1; fill:none\" points=\"\n",
       "  200.028,185.363 225.861,185.363 \n",
       "  \"/>\n",
       "<path clip-path=\"url(#clip460)\" d=\"M 0 0 M200.028 1445.17 Q196.417 1445.17 194.589 1448.74 Q192.783 1452.28 192.783 1459.41 Q192.783 1466.51 194.589 1470.08 Q196.417 1473.62 200.028 1473.62 Q203.663 1473.62 205.468 1470.08 Q207.297 1466.51 207.297 1459.41 Q207.297 1452.28 205.468 1448.74 Q203.663 1445.17 200.028 1445.17 M200.028 1441.47 Q205.839 1441.47 208.894 1446.07 Q211.973 1450.66 211.973 1459.41 Q211.973 1468.13 208.894 1472.74 Q205.839 1477.32 200.028 1477.32 Q194.218 1477.32 191.14 1472.74 Q188.084 1468.13 188.084 1459.41 Q188.084 1450.66 191.14 1446.07 Q194.218 1441.47 200.028 1441.47 Z\" fill=\"#000000\" fill-rule=\"evenodd\" fill-opacity=\"1\" /><path clip-path=\"url(#clip460)\" d=\"M 0 0 M593.942 1472.72 L601.581 1472.72 L601.581 1446.35 L593.271 1448.02 L593.271 1443.76 L601.535 1442.09 L606.211 1442.09 L606.211 1472.72 L613.849 1472.72 L613.849 1476.65 L593.942 1476.65 L593.942 1472.72 Z\" fill=\"#000000\" fill-rule=\"evenodd\" fill-opacity=\"1\" /><path clip-path=\"url(#clip460)\" d=\"M 0 0 M628.919 1445.17 Q625.308 1445.17 623.479 1448.74 Q621.673 1452.28 621.673 1459.41 Q621.673 1466.51 623.479 1470.08 Q625.308 1473.62 628.919 1473.62 Q632.553 1473.62 634.359 1470.08 Q636.187 1466.51 636.187 1459.41 Q636.187 1452.28 634.359 1448.74 Q632.553 1445.17 628.919 1445.17 M628.919 1441.47 Q634.729 1441.47 637.785 1446.07 Q640.863 1450.66 640.863 1459.41 Q640.863 1468.13 637.785 1472.74 Q634.729 1477.32 628.919 1477.32 Q623.109 1477.32 620.03 1472.74 Q616.974 1468.13 616.974 1459.41 Q616.974 1450.66 620.03 1446.07 Q623.109 1441.47 628.919 1441.47 Z\" fill=\"#000000\" fill-rule=\"evenodd\" fill-opacity=\"1\" /><path clip-path=\"url(#clip460)\" d=\"M 0 0 M655.933 1445.17 Q652.321 1445.17 650.493 1448.74 Q648.687 1452.28 648.687 1459.41 Q648.687 1466.51 650.493 1470.08 Q652.321 1473.62 655.933 1473.62 Q659.567 1473.62 661.372 1470.08 Q663.201 1466.51 663.201 1459.41 Q663.201 1452.28 661.372 1448.74 Q659.567 1445.17 655.933 1445.17 M655.933 1441.47 Q661.743 1441.47 664.798 1446.07 Q667.877 1450.66 667.877 1459.41 Q667.877 1468.13 664.798 1472.74 Q661.743 1477.32 655.933 1477.32 Q650.122 1477.32 647.044 1472.74 Q643.988 1468.13 643.988 1459.41 Q643.988 1450.66 647.044 1446.07 Q650.122 1441.47 655.933 1441.47 Z\" fill=\"#000000\" fill-rule=\"evenodd\" fill-opacity=\"1\" /><path clip-path=\"url(#clip460)\" d=\"M 0 0 M1028.76 1472.72 L1045.08 1472.72 L1045.08 1476.65 L1023.13 1476.65 L1023.13 1472.72 Q1025.8 1469.96 1030.38 1465.33 Q1034.99 1460.68 1036.17 1459.34 Q1038.41 1456.81 1039.29 1455.08 Q1040.19 1453.32 1040.19 1451.63 Q1040.19 1448.87 1038.25 1447.14 Q1036.33 1445.4 1033.23 1445.4 Q1031.03 1445.4 1028.57 1446.17 Q1026.14 1446.93 1023.36 1448.48 L1023.36 1443.76 Q1026.19 1442.62 1028.64 1442.05 Q1031.1 1441.47 1033.13 1441.47 Q1038.5 1441.47 1041.7 1444.15 Q1044.89 1446.84 1044.89 1451.33 Q1044.89 1453.46 1044.08 1455.38 Q1043.3 1457.28 1041.19 1459.87 Q1040.61 1460.54 1037.51 1463.76 Q1034.41 1466.95 1028.76 1472.72 Z\" fill=\"#000000\" fill-rule=\"evenodd\" fill-opacity=\"1\" /><path clip-path=\"url(#clip460)\" d=\"M 0 0 M1060.15 1445.17 Q1056.54 1445.17 1054.71 1448.74 Q1052.9 1452.28 1052.9 1459.41 Q1052.9 1466.51 1054.71 1470.08 Q1056.54 1473.62 1060.15 1473.62 Q1063.78 1473.62 1065.59 1470.08 Q1067.42 1466.51 1067.42 1459.41 Q1067.42 1452.28 1065.59 1448.74 Q1063.78 1445.17 1060.15 1445.17 M1060.15 1441.47 Q1065.96 1441.47 1069.01 1446.07 Q1072.09 1450.66 1072.09 1459.41 Q1072.09 1468.13 1069.01 1472.74 Q1065.96 1477.32 1060.15 1477.32 Q1054.34 1477.32 1051.26 1472.74 Q1048.2 1468.13 1048.2 1459.41 Q1048.2 1450.66 1051.26 1446.07 Q1054.34 1441.47 1060.15 1441.47 Z\" fill=\"#000000\" fill-rule=\"evenodd\" fill-opacity=\"1\" /><path clip-path=\"url(#clip460)\" d=\"M 0 0 M1087.16 1445.17 Q1083.55 1445.17 1081.72 1448.74 Q1079.92 1452.28 1079.92 1459.41 Q1079.92 1466.51 1081.72 1470.08 Q1083.55 1473.62 1087.16 1473.62 Q1090.8 1473.62 1092.6 1470.08 Q1094.43 1466.51 1094.43 1459.41 Q1094.43 1452.28 1092.6 1448.74 Q1090.8 1445.17 1087.16 1445.17 M1087.16 1441.47 Q1092.97 1441.47 1096.03 1446.07 Q1099.11 1450.66 1099.11 1459.41 Q1099.11 1468.13 1096.03 1472.74 Q1092.97 1477.32 1087.16 1477.32 Q1081.35 1477.32 1078.27 1472.74 Q1075.22 1468.13 1075.22 1459.41 Q1075.22 1450.66 1078.27 1446.07 Q1081.35 1441.47 1087.16 1441.47 Z\" fill=\"#000000\" fill-rule=\"evenodd\" fill-opacity=\"1\" /><path clip-path=\"url(#clip460)\" d=\"M 0 0 M1468.9 1458.02 Q1472.26 1458.74 1474.13 1461 Q1476.03 1463.27 1476.03 1466.61 Q1476.03 1471.72 1472.51 1474.52 Q1468.99 1477.32 1462.51 1477.32 Q1460.33 1477.32 1458.02 1476.88 Q1455.73 1476.47 1453.27 1475.61 L1453.27 1471.1 Q1455.22 1472.23 1457.53 1472.81 Q1459.85 1473.39 1462.37 1473.39 Q1466.77 1473.39 1469.06 1471.65 Q1471.38 1469.92 1471.38 1466.61 Q1471.38 1463.55 1469.22 1461.84 Q1467.09 1460.1 1463.27 1460.1 L1459.25 1460.1 L1459.25 1456.26 L1463.46 1456.26 Q1466.91 1456.26 1468.74 1454.89 Q1470.57 1453.5 1470.57 1450.91 Q1470.57 1448.25 1468.67 1446.84 Q1466.79 1445.4 1463.27 1445.4 Q1461.35 1445.4 1459.15 1445.82 Q1456.95 1446.24 1454.32 1447.11 L1454.32 1442.95 Q1456.98 1442.21 1459.29 1441.84 Q1461.63 1441.47 1463.69 1441.47 Q1469.01 1441.47 1472.12 1443.9 Q1475.22 1446.3 1475.22 1450.43 Q1475.22 1453.3 1473.57 1455.29 Q1471.93 1457.25 1468.9 1458.02 Z\" fill=\"#000000\" fill-rule=\"evenodd\" fill-opacity=\"1\" /><path clip-path=\"url(#clip460)\" d=\"M 0 0 M1491.1 1445.17 Q1487.49 1445.17 1485.66 1448.74 Q1483.85 1452.28 1483.85 1459.41 Q1483.85 1466.51 1485.66 1470.08 Q1487.49 1473.62 1491.1 1473.62 Q1494.73 1473.62 1496.54 1470.08 Q1498.37 1466.51 1498.37 1459.41 Q1498.37 1452.28 1496.54 1448.74 Q1494.73 1445.17 1491.1 1445.17 M1491.1 1441.47 Q1496.91 1441.47 1499.96 1446.07 Q1503.04 1450.66 1503.04 1459.41 Q1503.04 1468.13 1499.96 1472.74 Q1496.91 1477.32 1491.1 1477.32 Q1485.29 1477.32 1482.21 1472.74 Q1479.15 1468.13 1479.15 1459.41 Q1479.15 1450.66 1482.21 1446.07 Q1485.29 1441.47 1491.1 1441.47 Z\" fill=\"#000000\" fill-rule=\"evenodd\" fill-opacity=\"1\" /><path clip-path=\"url(#clip460)\" d=\"M 0 0 M1518.11 1445.17 Q1514.5 1445.17 1512.67 1448.74 Q1510.87 1452.28 1510.87 1459.41 Q1510.87 1466.51 1512.67 1470.08 Q1514.5 1473.62 1518.11 1473.62 Q1521.75 1473.62 1523.55 1470.08 Q1525.38 1466.51 1525.38 1459.41 Q1525.38 1452.28 1523.55 1448.74 Q1521.75 1445.17 1518.11 1445.17 M1518.11 1441.47 Q1523.92 1441.47 1526.98 1446.07 Q1530.06 1450.66 1530.06 1459.41 Q1530.06 1468.13 1526.98 1472.74 Q1523.92 1477.32 1518.11 1477.32 Q1512.3 1477.32 1509.22 1472.74 Q1506.17 1468.13 1506.17 1459.41 Q1506.17 1450.66 1509.22 1446.07 Q1512.3 1441.47 1518.11 1441.47 Z\" fill=\"#000000\" fill-rule=\"evenodd\" fill-opacity=\"1\" /><path clip-path=\"url(#clip460)\" d=\"M 0 0 M1898.21 1446.17 L1886.4 1464.61 L1898.21 1464.61 L1898.21 1446.17 M1896.98 1442.09 L1902.86 1442.09 L1902.86 1464.61 L1907.79 1464.61 L1907.79 1468.5 L1902.86 1468.5 L1902.86 1476.65 L1898.21 1476.65 L1898.21 1468.5 L1882.6 1468.5 L1882.6 1463.99 L1896.98 1442.09 Z\" fill=\"#000000\" fill-rule=\"evenodd\" fill-opacity=\"1\" /><path clip-path=\"url(#clip460)\" d=\"M 0 0 M1922.86 1445.17 Q1919.25 1445.17 1917.42 1448.74 Q1915.61 1452.28 1915.61 1459.41 Q1915.61 1466.51 1917.42 1470.08 Q1919.25 1473.62 1922.86 1473.62 Q1926.49 1473.62 1928.3 1470.08 Q1930.13 1466.51 1930.13 1459.41 Q1930.13 1452.28 1928.3 1448.74 Q1926.49 1445.17 1922.86 1445.17 M1922.86 1441.47 Q1928.67 1441.47 1931.72 1446.07 Q1934.8 1450.66 1934.8 1459.41 Q1934.8 1468.13 1931.72 1472.74 Q1928.67 1477.32 1922.86 1477.32 Q1917.05 1477.32 1913.97 1472.74 Q1910.91 1468.13 1910.91 1459.41 Q1910.91 1450.66 1913.97 1446.07 Q1917.05 1441.47 1922.86 1441.47 Z\" fill=\"#000000\" fill-rule=\"evenodd\" fill-opacity=\"1\" /><path clip-path=\"url(#clip460)\" d=\"M 0 0 M1949.87 1445.17 Q1946.26 1445.17 1944.43 1448.74 Q1942.63 1452.28 1942.63 1459.41 Q1942.63 1466.51 1944.43 1470.08 Q1946.26 1473.62 1949.87 1473.62 Q1953.51 1473.62 1955.31 1470.08 Q1957.14 1466.51 1957.14 1459.41 Q1957.14 1452.28 1955.31 1448.74 Q1953.51 1445.17 1949.87 1445.17 M1949.87 1441.47 Q1955.68 1441.47 1958.74 1446.07 Q1961.82 1450.66 1961.82 1459.41 Q1961.82 1468.13 1958.74 1472.74 Q1955.68 1477.32 1949.87 1477.32 Q1944.06 1477.32 1940.98 1472.74 Q1937.93 1468.13 1937.93 1459.41 Q1937.93 1450.66 1940.98 1446.07 Q1944.06 1441.47 1949.87 1441.47 Z\" fill=\"#000000\" fill-rule=\"evenodd\" fill-opacity=\"1\" /><path clip-path=\"url(#clip460)\" d=\"M 0 0 M2316.02 1442.09 L2334.38 1442.09 L2334.38 1446.03 L2320.3 1446.03 L2320.3 1454.5 Q2321.32 1454.15 2322.34 1453.99 Q2323.36 1453.8 2324.38 1453.8 Q2330.16 1453.8 2333.54 1456.98 Q2336.92 1460.15 2336.92 1465.56 Q2336.92 1471.14 2333.45 1474.24 Q2329.98 1477.32 2323.66 1477.32 Q2321.48 1477.32 2319.21 1476.95 Q2316.97 1476.58 2314.56 1475.84 L2314.56 1471.14 Q2316.64 1472.28 2318.87 1472.83 Q2321.09 1473.39 2323.57 1473.39 Q2327.57 1473.39 2329.91 1471.28 Q2332.25 1469.18 2332.25 1465.56 Q2332.25 1461.95 2329.91 1459.85 Q2327.57 1457.74 2323.57 1457.74 Q2321.69 1457.74 2319.82 1458.16 Q2317.96 1458.57 2316.02 1459.45 L2316.02 1442.09 Z\" fill=\"#000000\" fill-rule=\"evenodd\" fill-opacity=\"1\" /><path clip-path=\"url(#clip460)\" d=\"M 0 0 M2351.99 1445.17 Q2348.38 1445.17 2346.55 1448.74 Q2344.75 1452.28 2344.75 1459.41 Q2344.75 1466.51 2346.55 1470.08 Q2348.38 1473.62 2351.99 1473.62 Q2355.63 1473.62 2357.43 1470.08 Q2359.26 1466.51 2359.26 1459.41 Q2359.26 1452.28 2357.43 1448.74 Q2355.63 1445.17 2351.99 1445.17 M2351.99 1441.47 Q2357.8 1441.47 2360.86 1446.07 Q2363.94 1450.66 2363.94 1459.41 Q2363.94 1468.13 2360.86 1472.74 Q2357.8 1477.32 2351.99 1477.32 Q2346.18 1477.32 2343.1 1472.74 Q2340.05 1468.13 2340.05 1459.41 Q2340.05 1450.66 2343.1 1446.07 Q2346.18 1441.47 2351.99 1441.47 Z\" fill=\"#000000\" fill-rule=\"evenodd\" fill-opacity=\"1\" /><path clip-path=\"url(#clip460)\" d=\"M 0 0 M2379.01 1445.17 Q2375.39 1445.17 2373.57 1448.74 Q2371.76 1452.28 2371.76 1459.41 Q2371.76 1466.51 2373.57 1470.08 Q2375.39 1473.62 2379.01 1473.62 Q2382.64 1473.62 2384.45 1470.08 Q2386.27 1466.51 2386.27 1459.41 Q2386.27 1452.28 2384.45 1448.74 Q2382.64 1445.17 2379.01 1445.17 M2379.01 1441.47 Q2384.82 1441.47 2387.87 1446.07 Q2390.95 1450.66 2390.95 1459.41 Q2390.95 1468.13 2387.87 1472.74 Q2384.82 1477.32 2379.01 1477.32 Q2373.2 1477.32 2370.12 1472.74 Q2367.06 1468.13 2367.06 1459.41 Q2367.06 1450.66 2370.12 1446.07 Q2373.2 1441.47 2379.01 1441.47 Z\" fill=\"#000000\" fill-rule=\"evenodd\" fill-opacity=\"1\" /><path clip-path=\"url(#clip460)\" d=\"M 0 0 M164.084 1408.98 Q160.473 1408.98 158.644 1412.54 Q156.839 1416.08 156.839 1423.21 Q156.839 1430.32 158.644 1433.89 Q160.473 1437.43 164.084 1437.43 Q167.718 1437.43 169.524 1433.89 Q171.353 1430.32 171.353 1423.21 Q171.353 1416.08 169.524 1412.54 Q167.718 1408.98 164.084 1408.98 M164.084 1405.27 Q169.894 1405.27 172.95 1409.88 Q176.028 1414.46 176.028 1423.21 Q176.028 1431.94 172.95 1436.55 Q169.894 1441.13 164.084 1441.13 Q158.274 1441.13 155.195 1436.55 Q152.14 1431.94 152.14 1423.21 Q152.14 1414.46 155.195 1409.88 Q158.274 1405.27 164.084 1405.27 Z\" fill=\"#000000\" fill-rule=\"evenodd\" fill-opacity=\"1\" /><path clip-path=\"url(#clip460)\" d=\"M 0 0 M129.107 1023.92 L136.746 1023.92 L136.746 997.553 L128.436 999.22 L128.436 994.961 L136.7 993.294 L141.376 993.294 L141.376 1023.92 L149.015 1023.92 L149.015 1027.85 L129.107 1027.85 L129.107 1023.92 Z\" fill=\"#000000\" fill-rule=\"evenodd\" fill-opacity=\"1\" /><path clip-path=\"url(#clip460)\" d=\"M 0 0 M164.084 996.373 Q160.473 996.373 158.644 999.938 Q156.839 1003.48 156.839 1010.61 Q156.839 1017.72 158.644 1021.28 Q160.473 1024.82 164.084 1024.82 Q167.718 1024.82 169.524 1021.28 Q171.353 1017.72 171.353 1010.61 Q171.353 1003.48 169.524 999.938 Q167.718 996.373 164.084 996.373 M164.084 992.669 Q169.894 992.669 172.95 997.276 Q176.028 1001.86 176.028 1010.61 Q176.028 1019.34 172.95 1023.94 Q169.894 1028.53 164.084 1028.53 Q158.274 1028.53 155.195 1023.94 Q152.14 1019.34 152.14 1010.61 Q152.14 1001.86 155.195 997.276 Q158.274 992.669 164.084 992.669 Z\" fill=\"#000000\" fill-rule=\"evenodd\" fill-opacity=\"1\" /><path clip-path=\"url(#clip460)\" d=\"M 0 0 M132.695 611.313 L149.015 611.313 L149.015 615.249 L127.07 615.249 L127.07 611.313 Q129.732 608.559 134.316 603.929 Q138.922 599.276 140.103 597.934 Q142.348 595.411 143.228 593.675 Q144.13 591.915 144.13 590.226 Q144.13 587.471 142.186 585.735 Q140.265 583.999 137.163 583.999 Q134.964 583.999 132.51 584.763 Q130.08 585.527 127.302 587.077 L127.302 582.355 Q130.126 581.221 132.58 580.642 Q135.033 580.064 137.07 580.064 Q142.441 580.064 145.635 582.749 Q148.829 585.434 148.829 589.925 Q148.829 592.054 148.019 593.976 Q147.232 595.874 145.126 598.466 Q144.547 599.138 141.445 602.355 Q138.343 605.55 132.695 611.313 Z\" fill=\"#000000\" fill-rule=\"evenodd\" fill-opacity=\"1\" /><path clip-path=\"url(#clip460)\" d=\"M 0 0 M164.084 583.767 Q160.473 583.767 158.644 587.332 Q156.839 590.874 156.839 598.003 Q156.839 605.11 158.644 608.675 Q160.473 612.216 164.084 612.216 Q167.718 612.216 169.524 608.675 Q171.353 605.11 171.353 598.003 Q171.353 590.874 169.524 587.332 Q167.718 583.767 164.084 583.767 M164.084 580.064 Q169.894 580.064 172.95 584.67 Q176.028 589.253 176.028 598.003 Q176.028 606.73 172.95 611.337 Q169.894 615.92 164.084 615.92 Q158.274 615.92 155.195 611.337 Q152.14 606.73 152.14 598.003 Q152.14 589.253 155.195 584.67 Q158.274 580.064 164.084 580.064 Z\" fill=\"#000000\" fill-rule=\"evenodd\" fill-opacity=\"1\" /><path clip-path=\"url(#clip460)\" d=\"M 0 0 M141.885 184.009 Q145.242 184.726 147.117 186.995 Q149.015 189.263 149.015 192.597 Q149.015 197.712 145.496 200.513 Q141.978 203.314 135.496 203.314 Q133.32 203.314 131.006 202.874 Q128.714 202.458 126.26 201.601 L126.26 197.087 Q128.205 198.222 130.519 198.8 Q132.834 199.379 135.357 199.379 Q139.755 199.379 142.047 197.643 Q144.362 195.907 144.362 192.597 Q144.362 189.541 142.209 187.828 Q140.08 186.092 136.26 186.092 L132.232 186.092 L132.232 182.25 L136.445 182.25 Q139.894 182.25 141.723 180.884 Q143.552 179.495 143.552 176.902 Q143.552 174.24 141.654 172.828 Q139.779 171.393 136.26 171.393 Q134.339 171.393 132.14 171.81 Q129.941 172.226 127.302 173.106 L127.302 168.939 Q129.964 168.199 132.279 167.828 Q134.617 167.458 136.677 167.458 Q142.001 167.458 145.103 169.889 Q148.204 172.296 148.204 176.416 Q148.204 179.287 146.561 181.277 Q144.917 183.245 141.885 184.009 Z\" fill=\"#000000\" fill-rule=\"evenodd\" fill-opacity=\"1\" /><path clip-path=\"url(#clip460)\" d=\"M 0 0 M164.084 171.162 Q160.473 171.162 158.644 174.726 Q156.839 178.268 156.839 185.398 Q156.839 192.504 158.644 196.069 Q160.473 199.611 164.084 199.611 Q167.718 199.611 169.524 196.069 Q171.353 192.504 171.353 185.398 Q171.353 178.268 169.524 174.726 Q167.718 171.162 164.084 171.162 M164.084 167.458 Q169.894 167.458 172.95 172.064 Q176.028 176.648 176.028 185.398 Q176.028 194.124 172.95 198.731 Q169.894 203.314 164.084 203.314 Q158.274 203.314 155.195 198.731 Q152.14 194.124 152.14 185.398 Q152.14 176.648 155.195 172.064 Q158.274 167.458 164.084 167.458 Z\" fill=\"#000000\" fill-rule=\"evenodd\" fill-opacity=\"1\" /><path clip-path=\"url(#clip460)\" d=\"M 0 0 M1107.47 20.1573 L1096.37 50.2555 L1118.61 50.2555 L1107.47 20.1573 M1102.85 12.096 L1112.13 12.096 L1135.18 72.576 L1126.67 72.576 L1121.16 57.061 L1093.9 57.061 L1088.39 72.576 L1079.76 72.576 L1102.85 12.096 Z\" fill=\"#000000\" fill-rule=\"evenodd\" fill-opacity=\"1\" /><path clip-path=\"url(#clip460)\" d=\"M 0 0 M1143 9.54393 L1150.45 9.54393 L1150.45 72.576 L1143 72.576 L1143 9.54393 Z\" fill=\"#000000\" fill-rule=\"evenodd\" fill-opacity=\"1\" /><path clip-path=\"url(#clip460)\" d=\"M 0 0 M1158.27 9.54393 L1165.72 9.54393 L1165.72 72.576 L1158.27 72.576 L1158.27 9.54393 Z\" fill=\"#000000\" fill-rule=\"evenodd\" fill-opacity=\"1\" /><path clip-path=\"url(#clip460)\" d=\"M 0 0 M1236.49 14.0809 L1236.49 22.0612 Q1231.83 19.8332 1227.7 18.7395 Q1223.57 17.6457 1219.72 17.6457 Q1213.04 17.6457 1209.39 20.2383 Q1205.78 22.8309 1205.78 27.611 Q1205.78 31.6214 1208.17 33.6873 Q1210.61 35.7128 1217.33 36.9686 L1222.27 37.9813 Q1231.43 39.7232 1235.76 44.1387 Q1240.14 48.5136 1240.14 55.8863 Q1240.14 64.6767 1234.22 69.2137 Q1228.35 73.7508 1216.97 73.7508 Q1212.67 73.7508 1207.81 72.7785 Q1202.99 71.8063 1197.8 69.9024 L1197.8 61.4765 Q1202.79 64.2716 1207.57 65.6895 Q1212.35 67.1073 1216.97 67.1073 Q1223.97 67.1073 1227.78 64.3527 Q1231.59 61.598 1231.59 56.4939 Q1231.59 52.0379 1228.83 49.5264 Q1226.12 47.0148 1219.88 45.759 L1214.9 44.7868 Q1205.74 42.9639 1201.65 39.075 Q1197.56 35.1862 1197.56 28.2591 Q1197.56 20.2383 1203.19 15.6203 Q1208.86 11.0023 1218.79 11.0023 Q1223.04 11.0023 1227.46 11.7719 Q1231.87 12.5416 1236.49 14.0809 Z\" fill=\"#000000\" fill-rule=\"evenodd\" fill-opacity=\"1\" /><path clip-path=\"url(#clip460)\" d=\"M 0 0 M1280.61 28.9478 L1280.61 35.9153 Q1277.45 34.1734 1274.25 33.3227 Q1271.09 32.4315 1267.84 32.4315 Q1260.59 32.4315 1256.58 37.0496 Q1252.57 41.6271 1252.57 49.9314 Q1252.57 58.2358 1256.58 62.8538 Q1260.59 67.4314 1267.84 67.4314 Q1271.09 67.4314 1274.25 66.5807 Q1277.45 65.6895 1280.61 63.9476 L1280.61 70.8341 Q1277.49 72.2924 1274.12 73.0216 Q1270.8 73.7508 1267.03 73.7508 Q1256.79 73.7508 1250.75 67.3098 Q1244.71 60.8689 1244.71 49.9314 Q1244.71 38.832 1250.79 32.472 Q1256.91 26.1121 1267.52 26.1121 Q1270.96 26.1121 1274.25 26.8413 Q1277.53 27.5299 1280.61 28.9478 Z\" fill=\"#000000\" fill-rule=\"evenodd\" fill-opacity=\"1\" /><path clip-path=\"url(#clip460)\" d=\"M 0 0 M1326.14 45.1919 L1326.14 72.576 L1318.68 72.576 L1318.68 45.4349 Q1318.68 38.994 1316.17 35.7938 Q1313.66 32.5936 1308.64 32.5936 Q1302.6 32.5936 1299.12 36.4419 Q1295.63 40.2903 1295.63 46.9338 L1295.63 72.576 L1288.14 72.576 L1288.14 9.54393 L1295.63 9.54393 L1295.63 34.2544 Q1298.31 30.163 1301.91 28.1376 Q1305.56 26.1121 1310.3 26.1121 Q1318.12 26.1121 1322.13 30.9732 Q1326.14 35.7938 1326.14 45.1919 Z\" fill=\"#000000\" fill-rule=\"evenodd\" fill-opacity=\"1\" /><path clip-path=\"url(#clip460)\" d=\"M 0 0 M1351.54 32.4315 Q1345.54 32.4315 1342.06 37.1306 Q1338.57 41.7891 1338.57 49.9314 Q1338.57 58.0738 1342.02 62.7728 Q1345.5 67.4314 1351.54 67.4314 Q1357.49 67.4314 1360.98 62.7323 Q1364.46 58.0333 1364.46 49.9314 Q1364.46 41.8701 1360.98 37.1711 Q1357.49 32.4315 1351.54 32.4315 M1351.54 26.1121 Q1361.26 26.1121 1366.81 32.4315 Q1372.36 38.7509 1372.36 49.9314 Q1372.36 61.0714 1366.81 67.4314 Q1361.26 73.7508 1351.54 73.7508 Q1341.77 73.7508 1336.22 67.4314 Q1330.71 61.0714 1330.71 49.9314 Q1330.71 38.7509 1336.22 32.4315 Q1341.77 26.1121 1351.54 26.1121 Z\" fill=\"#000000\" fill-rule=\"evenodd\" fill-opacity=\"1\" /><path clip-path=\"url(#clip460)\" d=\"M 0 0 M1397.76 32.4315 Q1391.76 32.4315 1388.28 37.1306 Q1384.79 41.7891 1384.79 49.9314 Q1384.79 58.0738 1388.24 62.7728 Q1391.72 67.4314 1397.76 67.4314 Q1403.71 67.4314 1407.2 62.7323 Q1410.68 58.0333 1410.68 49.9314 Q1410.68 41.8701 1407.2 37.1711 Q1403.71 32.4315 1397.76 32.4315 M1397.76 26.1121 Q1407.48 26.1121 1413.03 32.4315 Q1418.58 38.7509 1418.58 49.9314 Q1418.58 61.0714 1413.03 67.4314 Q1407.48 73.7508 1397.76 73.7508 Q1387.99 73.7508 1382.44 67.4314 Q1376.94 61.0714 1376.94 49.9314 Q1376.94 38.7509 1382.44 32.4315 Q1387.99 26.1121 1397.76 26.1121 Z\" fill=\"#000000\" fill-rule=\"evenodd\" fill-opacity=\"1\" /><path clip-path=\"url(#clip460)\" d=\"M 0 0 M1426.4 9.54393 L1433.85 9.54393 L1433.85 72.576 L1426.4 72.576 L1426.4 9.54393 Z\" fill=\"#000000\" fill-rule=\"evenodd\" fill-opacity=\"1\" /><path clip-path=\"url(#clip460)\" d=\"M 0 0 M1470.59 28.5427 L1470.59 35.5912 Q1467.43 33.9709 1464.03 33.1607 Q1460.63 32.3505 1456.98 32.3505 Q1451.43 32.3505 1448.64 34.0519 Q1445.88 35.7533 1445.88 39.156 Q1445.88 41.7486 1447.87 43.2475 Q1449.85 44.7058 1455.85 46.0426 L1458.4 46.6097 Q1466.34 48.3111 1469.66 51.4303 Q1473.02 54.509 1473.02 60.0587 Q1473.02 66.3781 1468 70.0644 Q1463.02 73.7508 1454.27 73.7508 Q1450.62 73.7508 1446.65 73.0216 Q1442.72 72.3329 1438.35 70.9151 L1438.35 63.2184 Q1442.48 65.3654 1446.49 66.4591 Q1450.5 67.5124 1454.43 67.5124 Q1459.7 67.5124 1462.53 65.73 Q1465.37 63.9071 1465.37 60.6258 Q1465.37 57.5877 1463.3 55.9673 Q1461.28 54.3469 1454.35 52.8481 L1451.76 52.2405 Q1444.83 50.7821 1441.75 47.7845 Q1438.67 44.7463 1438.67 39.4801 Q1438.67 33.0797 1443.21 29.5959 Q1447.75 26.1121 1456.09 26.1121 Q1460.22 26.1121 1463.87 26.7198 Q1467.51 27.3274 1470.59 28.5427 Z\" fill=\"#000000\" fill-rule=\"evenodd\" fill-opacity=\"1\" /><path clip-path=\"url(#clip460)\" d=\"M 0 0 M999.977 1521.76 L999.977 1527.24 Q997.495 1525.87 994.98 1525.2 Q992.498 1524.5 989.951 1524.5 Q984.254 1524.5 981.103 1528.13 Q977.952 1531.73 977.952 1538.25 Q977.952 1544.78 981.103 1548.4 Q984.254 1552 989.951 1552 Q992.498 1552 994.98 1551.33 Q997.495 1550.63 999.977 1549.26 L999.977 1554.68 Q997.526 1555.82 994.885 1556.39 Q992.275 1556.97 989.315 1556.97 Q981.262 1556.97 976.52 1551.91 Q971.777 1546.85 971.777 1538.25 Q971.777 1529.53 976.551 1524.53 Q981.358 1519.54 989.697 1519.54 Q992.402 1519.54 994.98 1520.11 Q997.558 1520.65 999.977 1521.76 Z\" fill=\"#000000\" fill-rule=\"evenodd\" fill-opacity=\"1\" /><path clip-path=\"url(#clip460)\" d=\"M 0 0 M1005.52 1541.98 L1005.52 1520.4 L1011.37 1520.4 L1011.37 1541.75 Q1011.37 1546.81 1013.35 1549.36 Q1015.32 1551.87 1019.27 1551.87 Q1024.01 1551.87 1026.75 1548.85 Q1029.51 1545.83 1029.51 1540.61 L1029.51 1520.4 L1035.37 1520.4 L1035.37 1556.04 L1029.51 1556.04 L1029.51 1550.57 Q1027.38 1553.82 1024.55 1555.41 Q1021.75 1556.97 1018.02 1556.97 Q1011.88 1556.97 1008.7 1553.15 Q1005.52 1549.33 1005.52 1541.98 M1020.25 1519.54 L1020.25 1519.54 Z\" fill=\"#000000\" fill-rule=\"evenodd\" fill-opacity=\"1\" /><path clip-path=\"url(#clip460)\" d=\"M 0 0 M1062.17 1525.87 Q1061.18 1525.3 1060.01 1525.04 Q1058.86 1524.76 1057.46 1524.76 Q1052.49 1524.76 1049.82 1528 Q1047.18 1531.22 1047.18 1537.27 L1047.18 1556.04 L1041.29 1556.04 L1041.29 1520.4 L1047.18 1520.4 L1047.18 1525.93 Q1049.03 1522.69 1051.99 1521.13 Q1054.95 1519.54 1059.18 1519.54 Q1059.78 1519.54 1060.52 1519.63 Q1061.25 1519.7 1062.14 1519.85 L1062.17 1525.87 Z\" fill=\"#000000\" fill-rule=\"evenodd\" fill-opacity=\"1\" /><path clip-path=\"url(#clip460)\" d=\"M 0 0 M1087.82 1525.87 Q1086.84 1525.3 1085.66 1525.04 Q1084.51 1524.76 1083.11 1524.76 Q1078.15 1524.76 1075.47 1528 Q1072.83 1531.22 1072.83 1537.27 L1072.83 1556.04 L1066.94 1556.04 L1066.94 1520.4 L1072.83 1520.4 L1072.83 1525.93 Q1074.68 1522.69 1077.64 1521.13 Q1080.6 1519.54 1084.83 1519.54 Q1085.44 1519.54 1086.17 1519.63 Q1086.9 1519.7 1087.79 1519.85 L1087.82 1525.87 Z\" fill=\"#000000\" fill-rule=\"evenodd\" fill-opacity=\"1\" /><path clip-path=\"url(#clip460)\" d=\"M 0 0 M1093.97 1520.4 L1099.82 1520.4 L1099.82 1556.04 L1093.97 1556.04 L1093.97 1520.4 M1093.97 1506.52 L1099.82 1506.52 L1099.82 1513.93 L1093.97 1513.93 L1093.97 1506.52 Z\" fill=\"#000000\" fill-rule=\"evenodd\" fill-opacity=\"1\" /><path clip-path=\"url(#clip460)\" d=\"M 0 0 M1131.62 1521.76 L1131.62 1527.24 Q1129.14 1525.87 1126.62 1525.2 Q1124.14 1524.5 1121.59 1524.5 Q1115.9 1524.5 1112.75 1528.13 Q1109.59 1531.73 1109.59 1538.25 Q1109.59 1544.78 1112.75 1548.4 Q1115.9 1552 1121.59 1552 Q1124.14 1552 1126.62 1551.33 Q1129.14 1550.63 1131.62 1549.26 L1131.62 1554.68 Q1129.17 1555.82 1126.53 1556.39 Q1123.92 1556.97 1120.96 1556.97 Q1112.9 1556.97 1108.16 1551.91 Q1103.42 1546.85 1103.42 1538.25 Q1103.42 1529.53 1108.19 1524.53 Q1113 1519.54 1121.34 1519.54 Q1124.04 1519.54 1126.62 1520.11 Q1129.2 1520.65 1131.62 1521.76 Z\" fill=\"#000000\" fill-rule=\"evenodd\" fill-opacity=\"1\" /><path clip-path=\"url(#clip460)\" d=\"M 0 0 M1137.16 1541.98 L1137.16 1520.4 L1143.01 1520.4 L1143.01 1541.75 Q1143.01 1546.81 1144.99 1549.36 Q1146.96 1551.87 1150.91 1551.87 Q1155.65 1551.87 1158.39 1548.85 Q1161.16 1545.83 1161.16 1540.61 L1161.16 1520.4 L1167.01 1520.4 L1167.01 1556.04 L1161.16 1556.04 L1161.16 1550.57 Q1159.02 1553.82 1156.19 1555.41 Q1153.39 1556.97 1149.67 1556.97 Q1143.52 1556.97 1140.34 1553.15 Q1137.16 1549.33 1137.16 1541.98 M1151.89 1519.54 L1151.89 1519.54 Z\" fill=\"#000000\" fill-rule=\"evenodd\" fill-opacity=\"1\" /><path clip-path=\"url(#clip460)\" d=\"M 0 0 M1173.16 1506.52 L1179.01 1506.52 L1179.01 1556.04 L1173.16 1556.04 L1173.16 1506.52 Z\" fill=\"#000000\" fill-rule=\"evenodd\" fill-opacity=\"1\" /><path clip-path=\"url(#clip460)\" d=\"M 0 0 M1201.36 1538.12 Q1194.26 1538.12 1191.52 1539.75 Q1188.78 1541.37 1188.78 1545.29 Q1188.78 1548.4 1190.82 1550.25 Q1192.89 1552.07 1196.42 1552.07 Q1201.29 1552.07 1204.22 1548.63 Q1207.18 1545.16 1207.18 1539.43 L1207.18 1538.12 L1201.36 1538.12 M1213.04 1535.71 L1213.04 1556.04 L1207.18 1556.04 L1207.18 1550.63 Q1205.18 1553.88 1202.18 1555.44 Q1199.19 1556.97 1194.86 1556.97 Q1189.39 1556.97 1186.14 1553.91 Q1182.93 1550.82 1182.93 1545.67 Q1182.93 1539.65 1186.94 1536.6 Q1190.98 1533.54 1198.97 1533.54 L1207.18 1533.54 L1207.18 1532.97 Q1207.18 1528.93 1204.51 1526.73 Q1201.87 1524.5 1197.06 1524.5 Q1194 1524.5 1191.11 1525.23 Q1188.21 1525.97 1185.54 1527.43 L1185.54 1522.02 Q1188.75 1520.78 1191.78 1520.17 Q1194.8 1519.54 1197.66 1519.54 Q1205.4 1519.54 1209.22 1523.55 Q1213.04 1527.56 1213.04 1535.71 Z\" fill=\"#000000\" fill-rule=\"evenodd\" fill-opacity=\"1\" /><path clip-path=\"url(#clip460)\" d=\"M 0 0 M1239.84 1525.87 Q1238.85 1525.3 1237.67 1525.04 Q1236.53 1524.76 1235.13 1524.76 Q1230.16 1524.76 1227.49 1528 Q1224.85 1531.22 1224.85 1537.27 L1224.85 1556.04 L1218.96 1556.04 L1218.96 1520.4 L1224.85 1520.4 L1224.85 1525.93 Q1226.69 1522.69 1229.65 1521.13 Q1232.61 1519.54 1236.85 1519.54 Q1237.45 1519.54 1238.18 1519.63 Q1238.91 1519.7 1239.81 1519.85 L1239.84 1525.87 Z\" fill=\"#000000\" fill-rule=\"evenodd\" fill-opacity=\"1\" /><path clip-path=\"url(#clip460)\" d=\"M 0 0 M1292.35 1521.76 L1292.35 1527.24 Q1289.87 1525.87 1287.36 1525.2 Q1284.87 1524.5 1282.33 1524.5 Q1276.63 1524.5 1273.48 1528.13 Q1270.33 1531.73 1270.33 1538.25 Q1270.33 1544.78 1273.48 1548.4 Q1276.63 1552 1282.33 1552 Q1284.87 1552 1287.36 1551.33 Q1289.87 1550.63 1292.35 1549.26 L1292.35 1554.68 Q1289.9 1555.82 1287.26 1556.39 Q1284.65 1556.97 1281.69 1556.97 Q1273.64 1556.97 1268.9 1551.91 Q1264.15 1546.85 1264.15 1538.25 Q1264.15 1529.53 1268.93 1524.53 Q1273.73 1519.54 1282.07 1519.54 Q1284.78 1519.54 1287.36 1520.11 Q1289.94 1520.65 1292.35 1521.76 Z\" fill=\"#000000\" fill-rule=\"evenodd\" fill-opacity=\"1\" /><path clip-path=\"url(#clip460)\" d=\"M 0 0 M1312.31 1524.5 Q1307.6 1524.5 1304.86 1528.19 Q1302.13 1531.85 1302.13 1538.25 Q1302.13 1544.65 1304.83 1548.34 Q1307.57 1552 1312.31 1552 Q1316.99 1552 1319.73 1548.31 Q1322.46 1544.62 1322.46 1538.25 Q1322.46 1531.92 1319.73 1528.23 Q1316.99 1524.5 1312.31 1524.5 M1312.31 1519.54 Q1319.95 1519.54 1324.31 1524.5 Q1328.67 1529.47 1328.67 1538.25 Q1328.67 1547 1324.31 1552 Q1319.95 1556.97 1312.31 1556.97 Q1304.64 1556.97 1300.28 1552 Q1295.95 1547 1295.95 1538.25 Q1295.95 1529.47 1300.28 1524.5 Q1304.64 1519.54 1312.31 1519.54 Z\" fill=\"#000000\" fill-rule=\"evenodd\" fill-opacity=\"1\" /><path clip-path=\"url(#clip460)\" d=\"M 0 0 M1362.57 1527.24 Q1364.76 1523.29 1367.82 1521.41 Q1370.88 1519.54 1375.01 1519.54 Q1380.58 1519.54 1383.61 1523.45 Q1386.63 1527.33 1386.63 1534.53 L1386.63 1556.04 L1380.74 1556.04 L1380.74 1534.72 Q1380.74 1529.59 1378.93 1527.11 Q1377.11 1524.63 1373.39 1524.63 Q1368.84 1524.63 1366.2 1527.65 Q1363.55 1530.68 1363.55 1535.9 L1363.55 1556.04 L1357.67 1556.04 L1357.67 1534.72 Q1357.67 1529.56 1355.85 1527.11 Q1354.04 1524.63 1350.25 1524.63 Q1345.76 1524.63 1343.12 1527.68 Q1340.48 1530.71 1340.48 1535.9 L1340.48 1556.04 L1334.59 1556.04 L1334.59 1520.4 L1340.48 1520.4 L1340.48 1525.93 Q1342.48 1522.66 1345.29 1521.1 Q1348.09 1519.54 1351.94 1519.54 Q1355.82 1519.54 1358.53 1521.51 Q1361.26 1523.48 1362.57 1527.24 Z\" fill=\"#000000\" fill-rule=\"evenodd\" fill-opacity=\"1\" /><path clip-path=\"url(#clip460)\" d=\"M 0 0 M1398.44 1550.7 L1398.44 1569.6 L1392.55 1569.6 L1392.55 1520.4 L1398.44 1520.4 L1398.44 1525.81 Q1400.28 1522.62 1403.09 1521.1 Q1405.92 1519.54 1409.83 1519.54 Q1416.33 1519.54 1420.37 1524.69 Q1424.44 1529.85 1424.44 1538.25 Q1424.44 1546.65 1420.37 1551.81 Q1416.33 1556.97 1409.83 1556.97 Q1405.92 1556.97 1403.09 1555.44 Q1400.28 1553.88 1398.44 1550.7 M1418.36 1538.25 Q1418.36 1531.79 1415.69 1528.13 Q1413.05 1524.44 1408.4 1524.44 Q1403.75 1524.44 1401.08 1528.13 Q1398.44 1531.79 1398.44 1538.25 Q1398.44 1544.71 1401.08 1548.4 Q1403.75 1552.07 1408.4 1552.07 Q1413.05 1552.07 1415.69 1548.4 Q1418.36 1544.71 1418.36 1538.25 Z\" fill=\"#000000\" fill-rule=\"evenodd\" fill-opacity=\"1\" /><path clip-path=\"url(#clip460)\" d=\"M 0 0 M1430.59 1506.52 L1436.44 1506.52 L1436.44 1556.04 L1430.59 1556.04 L1430.59 1506.52 Z\" fill=\"#000000\" fill-rule=\"evenodd\" fill-opacity=\"1\" /><path clip-path=\"url(#clip460)\" d=\"M 0 0 M1473.08 1536.76 L1473.08 1539.62 L1446.15 1539.62 Q1446.53 1545.67 1449.78 1548.85 Q1453.06 1552 1458.88 1552 Q1462.25 1552 1465.41 1551.17 Q1468.59 1550.35 1471.71 1548.69 L1471.71 1554.23 Q1468.56 1555.57 1465.25 1556.27 Q1461.94 1556.97 1458.53 1556.97 Q1450 1556.97 1445 1552 Q1440.04 1547.04 1440.04 1538.57 Q1440.04 1529.82 1444.75 1524.69 Q1449.49 1519.54 1457.51 1519.54 Q1464.71 1519.54 1468.88 1524.18 Q1473.08 1528.8 1473.08 1536.76 M1467.22 1535.04 Q1467.16 1530.23 1464.51 1527.37 Q1461.9 1524.5 1457.58 1524.5 Q1452.67 1524.5 1449.71 1527.27 Q1446.79 1530.04 1446.34 1535.07 L1467.22 1535.04 Z\" fill=\"#000000\" fill-rule=\"evenodd\" fill-opacity=\"1\" /><path clip-path=\"url(#clip460)\" d=\"M 0 0 M1507.71 1520.4 L1494.82 1537.74 L1508.37 1556.04 L1501.47 1556.04 L1491.09 1542.04 L1480.72 1556.04 L1473.81 1556.04 L1487.65 1537.39 L1474.99 1520.4 L1481.89 1520.4 L1491.35 1533.1 L1500.8 1520.4 L1507.71 1520.4 Z\" fill=\"#000000\" fill-rule=\"evenodd\" fill-opacity=\"1\" /><path clip-path=\"url(#clip460)\" d=\"M 0 0 M1514.52 1520.4 L1520.37 1520.4 L1520.37 1556.04 L1514.52 1556.04 L1514.52 1520.4 M1514.52 1506.52 L1520.37 1506.52 L1520.37 1513.93 L1514.52 1513.93 L1514.52 1506.52 Z\" fill=\"#000000\" fill-rule=\"evenodd\" fill-opacity=\"1\" /><path clip-path=\"url(#clip460)\" d=\"M 0 0 M1532.31 1510.27 L1532.31 1520.4 L1544.37 1520.4 L1544.37 1524.95 L1532.31 1524.95 L1532.31 1544.3 Q1532.31 1548.66 1533.49 1549.9 Q1534.7 1551.14 1538.36 1551.14 L1544.37 1551.14 L1544.37 1556.04 L1538.36 1556.04 Q1531.58 1556.04 1529 1553.53 Q1526.42 1550.98 1526.42 1544.3 L1526.42 1524.95 L1522.12 1524.95 L1522.12 1520.4 L1526.42 1520.4 L1526.42 1510.27 L1532.31 1510.27 Z\" fill=\"#000000\" fill-rule=\"evenodd\" fill-opacity=\"1\" /><path clip-path=\"url(#clip460)\" d=\"M 0 0 M1565.35 1559.35 Q1562.86 1565.72 1560.51 1567.66 Q1558.15 1569.6 1554.21 1569.6 L1549.53 1569.6 L1549.53 1564.7 L1552.97 1564.7 Q1555.39 1564.7 1556.72 1563.56 Q1558.06 1562.41 1559.68 1558.14 L1560.73 1555.47 L1546.31 1520.4 L1552.52 1520.4 L1563.66 1548.28 L1574.8 1520.4 L1581.01 1520.4 L1565.35 1559.35 Z\" fill=\"#000000\" fill-rule=\"evenodd\" fill-opacity=\"1\" /><path clip-path=\"url(#clip460)\" d=\"M 0 0 M59.3266 884.567 L59.3266 893.829 L69.9574 896.502 L69.9574 887.177 L59.3266 884.567 M41.2162 889.341 L54.4251 892.651 L54.4251 883.357 L41.2162 880.015 L41.2162 874.923 L54.4251 878.201 L54.4251 868.27 L59.3266 868.27 L59.3266 879.442 L69.9574 882.052 L69.9574 871.931 L74.8271 871.931 L74.8271 883.294 L88.0042 886.604 L88.0042 891.696 L74.8271 888.418 L74.8271 897.744 L88.0042 901.022 L88.0042 906.146 L74.8271 902.836 L74.8271 912.862 L69.9574 912.862 L69.9574 901.659 L59.3266 898.985 L59.3266 909.234 L54.4251 909.234 L54.4251 897.744 L41.2162 894.497 L41.2162 889.341 Z\" fill=\"#000000\" fill-rule=\"evenodd\" fill-opacity=\"1\" /><path clip-path=\"url(#clip460)\" d=\"M 0 0 M53.4065 818.682 L58.9447 818.682 Q57.6716 821.164 57.035 823.838 Q56.3984 826.511 56.3984 829.376 Q56.3984 833.737 57.7352 835.933 Q59.072 838.097 61.7456 838.097 Q63.7826 838.097 64.9603 836.537 Q66.1061 834.978 67.1565 830.267 L67.6021 828.262 Q68.9389 822.024 71.3897 819.414 Q73.8086 816.772 78.1691 816.772 Q83.1344 816.772 86.0308 820.719 Q88.9272 824.634 88.9272 831.509 Q88.9272 834.373 88.3543 837.492 Q87.8132 840.58 86.6992 844.017 L80.6518 844.017 Q82.3387 840.771 83.198 837.62 Q84.0256 834.469 84.0256 831.381 Q84.0256 827.244 82.6251 825.016 Q81.1929 822.788 78.6147 822.788 Q76.2276 822.788 74.9545 824.411 Q73.6813 826.002 72.5037 831.445 L72.0262 833.482 Q70.8804 838.925 68.5251 841.344 Q66.138 843.763 62.0002 843.763 Q56.9713 843.763 54.2341 840.198 Q51.4968 836.633 51.4968 830.076 Q51.4968 826.83 51.9743 823.965 Q52.4517 821.101 53.4065 818.682 Z\" fill=\"#000000\" fill-rule=\"evenodd\" fill-opacity=\"1\" /><path clip-path=\"url(#clip460)\" d=\"M 0 0 M53.7248 784.975 L59.1993 784.975 Q57.8307 787.458 57.1623 789.972 Q56.4621 792.455 56.4621 795.001 Q56.4621 800.699 60.0905 803.85 Q63.6872 807.001 70.212 807.001 Q76.7369 807.001 80.3653 803.85 Q83.9619 800.699 83.9619 795.001 Q83.9619 792.455 83.2935 789.972 Q82.5933 787.458 81.2247 784.975 L86.6355 784.975 Q87.7814 787.426 88.3543 790.068 Q88.9272 792.678 88.9272 795.638 Q88.9272 803.69 83.8664 808.433 Q78.8057 813.175 70.212 813.175 Q61.491 813.175 56.4939 808.401 Q51.4968 803.595 51.4968 795.256 Q51.4968 792.55 52.0697 789.972 Q52.6108 787.394 53.7248 784.975 Z\" fill=\"#000000\" fill-rule=\"evenodd\" fill-opacity=\"1\" /><path clip-path=\"url(#clip460)\" d=\"M 0 0 M66.4881 749.2 L88.0042 749.2 L88.0042 755.056 L66.679 755.056 Q61.6183 755.056 59.1038 757.03 Q56.5894 759.003 56.5894 762.95 Q56.5894 767.692 59.6131 770.43 Q62.6368 773.167 67.8567 773.167 L88.0042 773.167 L88.0042 779.055 L38.479 779.055 L38.479 773.167 L57.8944 773.167 Q54.6797 771.066 53.0883 768.233 Q51.4968 765.369 51.4968 761.645 Q51.4968 755.502 55.3163 752.351 Q59.1038 749.2 66.4881 749.2 Z\" fill=\"#000000\" fill-rule=\"evenodd\" fill-opacity=\"1\" /><path clip-path=\"url(#clip460)\" d=\"M 0 0 M56.4621 729.243 Q56.4621 733.954 60.1542 736.691 Q63.8145 739.429 70.212 739.429 Q76.6095 739.429 80.3017 736.723 Q83.9619 733.986 83.9619 729.243 Q83.9619 724.565 80.2698 721.827 Q76.5777 719.09 70.212 719.09 Q63.8781 719.09 60.186 721.827 Q56.4621 724.565 56.4621 729.243 M51.4968 729.243 Q51.4968 721.605 56.4621 717.244 Q61.4273 712.884 70.212 712.884 Q78.9649 712.884 83.9619 717.244 Q88.9272 721.605 88.9272 729.243 Q88.9272 736.914 83.9619 741.275 Q78.9649 745.603 70.212 745.603 Q61.4273 745.603 56.4621 741.275 Q51.4968 736.914 51.4968 729.243 Z\" fill=\"#000000\" fill-rule=\"evenodd\" fill-opacity=\"1\" /><path clip-path=\"url(#clip460)\" d=\"M 0 0 M56.4621 692.927 Q56.4621 697.638 60.1542 700.375 Q63.8145 703.112 70.212 703.112 Q76.6095 703.112 80.3017 700.407 Q83.9619 697.67 83.9619 692.927 Q83.9619 688.248 80.2698 685.511 Q76.5777 682.774 70.212 682.774 Q63.8781 682.774 60.186 685.511 Q56.4621 688.248 56.4621 692.927 M51.4968 692.927 Q51.4968 685.288 56.4621 680.928 Q61.4273 676.567 70.212 676.567 Q78.9649 676.567 83.9619 680.928 Q88.9272 685.288 88.9272 692.927 Q88.9272 700.598 83.9619 704.958 Q78.9649 709.287 70.212 709.287 Q61.4273 709.287 56.4621 704.958 Q51.4968 700.598 51.4968 692.927 Z\" fill=\"#000000\" fill-rule=\"evenodd\" fill-opacity=\"1\" /><path clip-path=\"url(#clip460)\" d=\"M 0 0 M38.479 670.424 L38.479 664.568 L88.0042 664.568 L88.0042 670.424 L38.479 670.424 Z\" fill=\"#000000\" fill-rule=\"evenodd\" fill-opacity=\"1\" /><path clip-path=\"url(#clip460)\" d=\"M 0 0 M53.4065 635.699 L58.9447 635.699 Q57.6716 638.182 57.035 640.856 Q56.3984 643.529 56.3984 646.394 Q56.3984 650.754 57.7352 652.95 Q59.072 655.115 61.7456 655.115 Q63.7826 655.115 64.9603 653.555 Q66.1061 651.996 67.1565 647.285 L67.6021 645.28 Q68.9389 639.041 71.3897 636.431 Q73.8086 633.79 78.1691 633.79 Q83.1344 633.79 86.0308 637.736 Q88.9272 641.651 88.9272 648.526 Q88.9272 651.391 88.3543 654.51 Q87.8132 657.597 86.6992 661.035 L80.6518 661.035 Q82.3387 657.788 83.198 654.637 Q84.0256 651.486 84.0256 648.399 Q84.0256 644.261 82.6251 642.033 Q81.1929 639.805 78.6147 639.805 Q76.2276 639.805 74.9545 641.429 Q73.6813 643.02 72.5037 648.463 L72.0262 650.5 Q70.8804 655.942 68.5251 658.361 Q66.138 660.78 62.0002 660.78 Q56.9713 660.78 54.2341 657.215 Q51.4968 653.651 51.4968 647.094 Q51.4968 643.848 51.9743 640.983 Q52.4517 638.118 53.4065 635.699 Z\" fill=\"#000000\" fill-rule=\"evenodd\" fill-opacity=\"1\" /><path clip-path=\"url(#clip462)\" d=\"\n",
       "M200.028 1258.14 L200.028 1423.18 L630.574 1423.18 L630.574 1258.14 L200.028 1258.14 L200.028 1258.14  Z\n",
       "  \" fill=\"#1874cd\" fill-rule=\"evenodd\" fill-opacity=\"0.7\"/>\n",
       "<polyline clip-path=\"url(#clip462)\" style=\"stroke:#000000; stroke-width:4; stroke-opacity:0.7; fill:none\" points=\"\n",
       "  200.028,1258.14 200.028,1423.18 630.574,1423.18 630.574,1258.14 200.028,1258.14 \n",
       "  \"/>\n",
       "<path clip-path=\"url(#clip462)\" d=\"\n",
       "M630.574 928.053 L630.574 1423.18 L1061.12 1423.18 L1061.12 928.053 L630.574 928.053 L630.574 928.053  Z\n",
       "  \" fill=\"#1874cd\" fill-rule=\"evenodd\" fill-opacity=\"0.7\"/>\n",
       "<polyline clip-path=\"url(#clip462)\" style=\"stroke:#000000; stroke-width:4; stroke-opacity:0.7; fill:none\" points=\"\n",
       "  630.574,928.053 630.574,1423.18 1061.12,1423.18 1061.12,928.053 630.574,928.053 \n",
       "  \"/>\n",
       "<path clip-path=\"url(#clip462)\" d=\"\n",
       "M1061.12 515.447 L1061.12 1423.18 L1491.66 1423.18 L1491.66 515.447 L1061.12 515.447 L1061.12 515.447  Z\n",
       "  \" fill=\"#1874cd\" fill-rule=\"evenodd\" fill-opacity=\"0.7\"/>\n",
       "<polyline clip-path=\"url(#clip462)\" style=\"stroke:#000000; stroke-width:4; stroke-opacity:0.7; fill:none\" points=\"\n",
       "  1061.12,515.447 1061.12,1423.18 1491.66,1423.18 1491.66,515.447 1061.12,515.447 \n",
       "  \"/>\n",
       "<path clip-path=\"url(#clip462)\" d=\"\n",
       "M1491.66 680.49 L1491.66 1423.18 L1922.21 1423.18 L1922.21 680.49 L1491.66 680.49 L1491.66 680.49  Z\n",
       "  \" fill=\"#1874cd\" fill-rule=\"evenodd\" fill-opacity=\"0.7\"/>\n",
       "<polyline clip-path=\"url(#clip462)\" style=\"stroke:#000000; stroke-width:4; stroke-opacity:0.7; fill:none\" points=\"\n",
       "  1491.66,680.49 1491.66,1423.18 1922.21,1423.18 1922.21,680.49 1491.66,680.49 \n",
       "  \"/>\n",
       "<path clip-path=\"url(#clip462)\" d=\"\n",
       "M1922.21 1216.88 L1922.21 1423.18 L2352.76 1423.18 L2352.76 1216.88 L1922.21 1216.88 L1922.21 1216.88  Z\n",
       "  \" fill=\"#1874cd\" fill-rule=\"evenodd\" fill-opacity=\"0.7\"/>\n",
       "<polyline clip-path=\"url(#clip462)\" style=\"stroke:#000000; stroke-width:4; stroke-opacity:0.7; fill:none\" points=\"\n",
       "  1922.21,1216.88 1922.21,1423.18 2352.76,1423.18 2352.76,1216.88 1922.21,1216.88 \n",
       "  \"/>\n",
       "<path clip-path=\"url(#clip462)\" d=\"\n",
       "M2352.76 1340.66 L2352.76 1423.18 L2783.3 1423.18 L2783.3 1340.66 L2352.76 1340.66 L2352.76 1340.66  Z\n",
       "  \" fill=\"#1874cd\" fill-rule=\"evenodd\" fill-opacity=\"0.7\"/>\n",
       "<polyline clip-path=\"url(#clip462)\" style=\"stroke:#000000; stroke-width:4; stroke-opacity:0.7; fill:none\" points=\"\n",
       "  2352.76,1340.66 2352.76,1423.18 2783.3,1423.18 2783.3,1340.66 2352.76,1340.66 \n",
       "  \"/>\n",
       "</svg>\n"
      ]
     },
     "execution_count": 44,
     "metadata": {},
     "output_type": "execute_result"
    }
   ],
   "source": [
    "metric_histogram([top_tier; middle_tier; bottom_tier], \"complexity\", nbins=5, title=\"All Schools\", xlabel=\"curricular complexity\", ylabel=\"# schools\", xlim=(0,500))"
   ]
  },
  {
   "cell_type": "markdown",
   "metadata": {},
   "source": [
    "A box-and-whisker diagram for each of the three samples, provided below, shows the differences between the various statistics associated with these samples.  The quesion we will answer using ANOVA anlaysis is whether or not these variances are statistically significant across these three tiers."
   ]
  },
  {
   "cell_type": "code",
   "execution_count": 45,
   "metadata": {
    "scrolled": false
   },
   "outputs": [
    {
     "data": {
      "image/svg+xml": [
       "<?xml version=\"1.0\" encoding=\"utf-8\"?>\n",
       "<svg xmlns=\"http://www.w3.org/2000/svg\" xmlns:xlink=\"http://www.w3.org/1999/xlink\" width=\"600\" height=\"400\" viewBox=\"0 0 2400 1600\">\n",
       "<defs>\n",
       "  <clipPath id=\"clip500\">\n",
       "    <rect x=\"0\" y=\"0\" width=\"2400\" height=\"1600\"/>\n",
       "  </clipPath>\n",
       "</defs>\n",
       "<path clip-path=\"url(#clip500)\" d=\"\n",
       "M0 1600 L2400 1600 L2400 0 L0 0  Z\n",
       "  \" fill=\"#ffffff\" fill-rule=\"evenodd\" fill-opacity=\"1\"/>\n",
       "<defs>\n",
       "  <clipPath id=\"clip501\">\n",
       "    <rect x=\"480\" y=\"0\" width=\"1681\" height=\"1600\"/>\n",
       "  </clipPath>\n",
       "</defs>\n",
       "<path clip-path=\"url(#clip500)\" d=\"\n",
       "M229.473 1423.18 L2352.76 1423.18 L2352.76 123.472 L229.473 123.472  Z\n",
       "  \" fill=\"#ffffff\" fill-rule=\"evenodd\" fill-opacity=\"1\"/>\n",
       "<defs>\n",
       "  <clipPath id=\"clip502\">\n",
       "    <rect x=\"229\" y=\"123\" width=\"2124\" height=\"1301\"/>\n",
       "  </clipPath>\n",
       "</defs>\n",
       "<polyline clip-path=\"url(#clip502)\" style=\"stroke:#000000; stroke-width:2; stroke-opacity:0.1; fill:none\" points=\"\n",
       "  512.132,1423.18 512.132,123.472 \n",
       "  \"/>\n",
       "<polyline clip-path=\"url(#clip502)\" style=\"stroke:#000000; stroke-width:2; stroke-opacity:0.1; fill:none\" points=\"\n",
       "  1291.11,1423.18 1291.11,123.472 \n",
       "  \"/>\n",
       "<polyline clip-path=\"url(#clip502)\" style=\"stroke:#000000; stroke-width:2; stroke-opacity:0.1; fill:none\" points=\"\n",
       "  2070.1,1423.18 2070.1,123.472 \n",
       "  \"/>\n",
       "<polyline clip-path=\"url(#clip502)\" style=\"stroke:#000000; stroke-width:2; stroke-opacity:0.1; fill:none\" points=\"\n",
       "  229.473,1273.24 2352.76,1273.24 \n",
       "  \"/>\n",
       "<polyline clip-path=\"url(#clip502)\" style=\"stroke:#000000; stroke-width:2; stroke-opacity:0.1; fill:none\" points=\"\n",
       "  229.473,1008.25 2352.76,1008.25 \n",
       "  \"/>\n",
       "<polyline clip-path=\"url(#clip502)\" style=\"stroke:#000000; stroke-width:2; stroke-opacity:0.1; fill:none\" points=\"\n",
       "  229.473,743.249 2352.76,743.249 \n",
       "  \"/>\n",
       "<polyline clip-path=\"url(#clip502)\" style=\"stroke:#000000; stroke-width:2; stroke-opacity:0.1; fill:none\" points=\"\n",
       "  229.473,478.252 2352.76,478.252 \n",
       "  \"/>\n",
       "<polyline clip-path=\"url(#clip502)\" style=\"stroke:#000000; stroke-width:2; stroke-opacity:0.1; fill:none\" points=\"\n",
       "  229.473,213.256 2352.76,213.256 \n",
       "  \"/>\n",
       "<polyline clip-path=\"url(#clip500)\" style=\"stroke:#000000; stroke-width:4; stroke-opacity:1; fill:none\" points=\"\n",
       "  229.473,1423.18 2352.76,1423.18 \n",
       "  \"/>\n",
       "<polyline clip-path=\"url(#clip500)\" style=\"stroke:#000000; stroke-width:4; stroke-opacity:1; fill:none\" points=\"\n",
       "  229.473,1423.18 229.473,123.472 \n",
       "  \"/>\n",
       "<polyline clip-path=\"url(#clip500)\" style=\"stroke:#000000; stroke-width:4; stroke-opacity:1; fill:none\" points=\"\n",
       "  512.132,1423.18 512.132,1407.58 \n",
       "  \"/>\n",
       "<polyline clip-path=\"url(#clip500)\" style=\"stroke:#000000; stroke-width:4; stroke-opacity:1; fill:none\" points=\"\n",
       "  1291.11,1423.18 1291.11,1407.58 \n",
       "  \"/>\n",
       "<polyline clip-path=\"url(#clip500)\" style=\"stroke:#000000; stroke-width:4; stroke-opacity:1; fill:none\" points=\"\n",
       "  2070.1,1423.18 2070.1,1407.58 \n",
       "  \"/>\n",
       "<polyline clip-path=\"url(#clip500)\" style=\"stroke:#000000; stroke-width:4; stroke-opacity:1; fill:none\" points=\"\n",
       "  229.473,1273.24 254.952,1273.24 \n",
       "  \"/>\n",
       "<polyline clip-path=\"url(#clip500)\" style=\"stroke:#000000; stroke-width:4; stroke-opacity:1; fill:none\" points=\"\n",
       "  229.473,1008.25 254.952,1008.25 \n",
       "  \"/>\n",
       "<polyline clip-path=\"url(#clip500)\" style=\"stroke:#000000; stroke-width:4; stroke-opacity:1; fill:none\" points=\"\n",
       "  229.473,743.249 254.952,743.249 \n",
       "  \"/>\n",
       "<polyline clip-path=\"url(#clip500)\" style=\"stroke:#000000; stroke-width:4; stroke-opacity:1; fill:none\" points=\"\n",
       "  229.473,478.252 254.952,478.252 \n",
       "  \"/>\n",
       "<polyline clip-path=\"url(#clip500)\" style=\"stroke:#000000; stroke-width:4; stroke-opacity:1; fill:none\" points=\"\n",
       "  229.473,213.256 254.952,213.256 \n",
       "  \"/>\n",
       "<path clip-path=\"url(#clip500)\" d=\"M 0 0 M484.493 1443.36 L484.493 1450.73 L493.266 1450.73 L493.266 1454.04 L484.493 1454.04 L484.493 1468.11 Q484.493 1471.28 485.35 1472.18 Q486.229 1473.09 488.891 1473.09 L493.266 1473.09 L493.266 1476.65 L488.891 1476.65 Q483.961 1476.65 482.086 1474.82 Q480.211 1472.97 480.211 1468.11 L480.211 1454.04 L477.086 1454.04 L477.086 1450.73 L480.211 1450.73 L480.211 1443.36 L484.493 1443.36 Z\" fill=\"#000000\" fill-rule=\"evenodd\" fill-opacity=\"1\" /><path clip-path=\"url(#clip500)\" d=\"M 0 0 M507.78 1453.71 Q504.354 1453.71 502.364 1456.4 Q500.373 1459.06 500.373 1463.71 Q500.373 1468.36 502.34 1471.05 Q504.331 1473.71 507.78 1473.71 Q511.183 1473.71 513.174 1471.03 Q515.164 1468.34 515.164 1463.71 Q515.164 1459.11 513.174 1456.42 Q511.183 1453.71 507.78 1453.71 M507.78 1450.1 Q513.336 1450.1 516.507 1453.71 Q519.678 1457.32 519.678 1463.71 Q519.678 1470.08 516.507 1473.71 Q513.336 1477.32 507.78 1477.32 Q502.201 1477.32 499.03 1473.71 Q495.882 1470.08 495.882 1463.71 Q495.882 1457.32 499.03 1453.71 Q502.201 1450.1 507.78 1450.1 Z\" fill=\"#000000\" fill-rule=\"evenodd\" fill-opacity=\"1\" /><path clip-path=\"url(#clip500)\" d=\"M 0 0 M528.266 1472.76 L528.266 1486.51 L523.984 1486.51 L523.984 1450.73 L528.266 1450.73 L528.266 1454.66 Q529.609 1452.35 531.646 1451.24 Q533.706 1450.1 536.553 1450.1 Q541.275 1450.1 544.215 1453.85 Q547.178 1457.6 547.178 1463.71 Q547.178 1469.82 544.215 1473.57 Q541.275 1477.32 536.553 1477.32 Q533.706 1477.32 531.646 1476.21 Q529.609 1475.08 528.266 1472.76 M542.757 1463.71 Q542.757 1459.01 540.812 1456.35 Q538.891 1453.67 535.511 1453.67 Q532.132 1453.67 530.187 1456.35 Q528.266 1459.01 528.266 1463.71 Q528.266 1468.41 530.187 1471.1 Q532.132 1473.76 535.511 1473.76 Q538.891 1473.76 540.812 1471.1 Q542.757 1468.41 542.757 1463.71 Z\" fill=\"#000000\" fill-rule=\"evenodd\" fill-opacity=\"1\" /><path clip-path=\"url(#clip500)\" d=\"M 0 0 M1244.7 1455.7 Q1246.3 1452.83 1248.52 1451.47 Q1250.74 1450.1 1253.75 1450.1 Q1257.8 1450.1 1260 1452.95 Q1262.2 1455.77 1262.2 1461 L1262.2 1476.65 L1257.92 1476.65 L1257.92 1461.14 Q1257.92 1457.42 1256.6 1455.61 Q1255.28 1453.8 1252.57 1453.8 Q1249.26 1453.8 1247.34 1456 Q1245.42 1458.2 1245.42 1462 L1245.42 1476.65 L1241.14 1476.65 L1241.14 1461.14 Q1241.14 1457.39 1239.82 1455.61 Q1238.5 1453.8 1235.74 1453.8 Q1232.48 1453.8 1230.56 1456.03 Q1228.64 1458.23 1228.64 1462 L1228.64 1476.65 L1224.36 1476.65 L1224.36 1450.73 L1228.64 1450.73 L1228.64 1454.75 Q1230.1 1452.37 1232.13 1451.24 Q1234.17 1450.1 1236.97 1450.1 Q1239.8 1450.1 1241.76 1451.54 Q1243.75 1452.97 1244.7 1455.7 Z\" fill=\"#000000\" fill-rule=\"evenodd\" fill-opacity=\"1\" /><path clip-path=\"url(#clip500)\" d=\"M 0 0 M1266.67 1450.73 L1270.93 1450.73 L1270.93 1476.65 L1266.67 1476.65 L1266.67 1450.73 M1266.67 1440.63 L1270.93 1440.63 L1270.93 1446.03 L1266.67 1446.03 L1266.67 1440.63 Z\" fill=\"#000000\" fill-rule=\"evenodd\" fill-opacity=\"1\" /><path clip-path=\"url(#clip500)\" d=\"M 0 0 M1292.46 1454.66 L1292.46 1440.63 L1296.72 1440.63 L1296.72 1476.65 L1292.46 1476.65 L1292.46 1472.76 Q1291.11 1475.08 1289.05 1476.21 Q1287.02 1477.32 1284.15 1477.32 Q1279.45 1477.32 1276.48 1473.57 Q1273.54 1469.82 1273.54 1463.71 Q1273.54 1457.6 1276.48 1453.85 Q1279.45 1450.1 1284.15 1450.1 Q1287.02 1450.1 1289.05 1451.24 Q1291.11 1452.35 1292.46 1454.66 M1277.94 1463.71 Q1277.94 1468.41 1279.86 1471.1 Q1281.81 1473.76 1285.19 1473.76 Q1288.57 1473.76 1290.51 1471.1 Q1292.46 1468.41 1292.46 1463.71 Q1292.46 1459.01 1290.51 1456.35 Q1288.57 1453.67 1285.19 1453.67 Q1281.81 1453.67 1279.86 1456.35 Q1277.94 1459.01 1277.94 1463.71 Z\" fill=\"#000000\" fill-rule=\"evenodd\" fill-opacity=\"1\" /><path clip-path=\"url(#clip500)\" d=\"M 0 0 M1318.24 1454.66 L1318.24 1440.63 L1322.5 1440.63 L1322.5 1476.65 L1318.24 1476.65 L1318.24 1472.76 Q1316.9 1475.08 1314.84 1476.21 Q1312.8 1477.32 1309.93 1477.32 Q1305.23 1477.32 1302.27 1473.57 Q1299.33 1469.82 1299.33 1463.71 Q1299.33 1457.6 1302.27 1453.85 Q1305.23 1450.1 1309.93 1450.1 Q1312.8 1450.1 1314.84 1451.24 Q1316.9 1452.35 1318.24 1454.66 M1303.73 1463.71 Q1303.73 1468.41 1305.65 1471.1 Q1307.6 1473.76 1310.98 1473.76 Q1314.35 1473.76 1316.3 1471.1 Q1318.24 1468.41 1318.24 1463.71 Q1318.24 1459.01 1316.3 1456.35 Q1314.35 1453.67 1310.98 1453.67 Q1307.6 1453.67 1305.65 1456.35 Q1303.73 1459.01 1303.73 1463.71 Z\" fill=\"#000000\" fill-rule=\"evenodd\" fill-opacity=\"1\" /><path clip-path=\"url(#clip500)\" d=\"M 0 0 M1326.97 1440.63 L1331.23 1440.63 L1331.23 1476.65 L1326.97 1476.65 L1326.97 1440.63 Z\" fill=\"#000000\" fill-rule=\"evenodd\" fill-opacity=\"1\" /><path clip-path=\"url(#clip500)\" d=\"M 0 0 M1357.87 1462.62 L1357.87 1464.71 L1338.29 1464.71 Q1338.57 1469.11 1340.93 1471.42 Q1343.31 1473.71 1347.55 1473.71 Q1350 1473.71 1352.29 1473.11 Q1354.61 1472.51 1356.88 1471.3 L1356.88 1475.33 Q1354.59 1476.3 1352.18 1476.81 Q1349.77 1477.32 1347.29 1477.32 Q1341.09 1477.32 1337.46 1473.71 Q1333.85 1470.1 1333.85 1463.94 Q1333.85 1457.58 1337.27 1453.85 Q1340.72 1450.1 1346.55 1450.1 Q1351.79 1450.1 1354.82 1453.48 Q1357.87 1456.84 1357.87 1462.62 M1353.61 1461.37 Q1353.57 1457.88 1351.65 1455.8 Q1349.75 1453.71 1346.6 1453.71 Q1343.04 1453.71 1340.88 1455.73 Q1338.75 1457.74 1338.43 1461.4 L1353.61 1461.37 Z\" fill=\"#000000\" fill-rule=\"evenodd\" fill-opacity=\"1\" /><path clip-path=\"url(#clip500)\" d=\"M 0 0 M2012.33 1463.71 Q2012.33 1459.01 2010.39 1456.35 Q2008.46 1453.67 2005.09 1453.67 Q2001.71 1453.67 1999.76 1456.35 Q1997.84 1459.01 1997.84 1463.71 Q1997.84 1468.41 1999.76 1471.1 Q2001.71 1473.76 2005.09 1473.76 Q2008.46 1473.76 2010.39 1471.1 Q2012.33 1468.41 2012.33 1463.71 M1997.84 1454.66 Q1999.18 1452.35 2001.22 1451.24 Q2003.28 1450.1 2006.13 1450.1 Q2010.85 1450.1 2013.79 1453.85 Q2016.75 1457.6 2016.75 1463.71 Q2016.75 1469.82 2013.79 1473.57 Q2010.85 1477.32 2006.13 1477.32 Q2003.28 1477.32 2001.22 1476.21 Q1999.18 1475.08 1997.84 1472.76 L1997.84 1476.65 L1993.56 1476.65 L1993.56 1440.63 L1997.84 1440.63 L1997.84 1454.66 Z\" fill=\"#000000\" fill-rule=\"evenodd\" fill-opacity=\"1\" /><path clip-path=\"url(#clip500)\" d=\"M 0 0 M2031.27 1453.71 Q2027.84 1453.71 2025.85 1456.4 Q2023.86 1459.06 2023.86 1463.71 Q2023.86 1468.36 2025.83 1471.05 Q2027.82 1473.71 2031.27 1473.71 Q2034.67 1473.71 2036.66 1471.03 Q2038.65 1468.34 2038.65 1463.71 Q2038.65 1459.11 2036.66 1456.42 Q2034.67 1453.71 2031.27 1453.71 M2031.27 1450.1 Q2036.82 1450.1 2039.99 1453.71 Q2043.16 1457.32 2043.16 1463.71 Q2043.16 1470.08 2039.99 1473.71 Q2036.82 1477.32 2031.27 1477.32 Q2025.69 1477.32 2022.52 1473.71 Q2019.37 1470.08 2019.37 1463.71 Q2019.37 1457.32 2022.52 1453.71 Q2025.69 1450.1 2031.27 1450.1 Z\" fill=\"#000000\" fill-rule=\"evenodd\" fill-opacity=\"1\" /><path clip-path=\"url(#clip500)\" d=\"M 0 0 M2051.84 1443.36 L2051.84 1450.73 L2060.62 1450.73 L2060.62 1454.04 L2051.84 1454.04 L2051.84 1468.11 Q2051.84 1471.28 2052.7 1472.18 Q2053.58 1473.09 2056.24 1473.09 L2060.62 1473.09 L2060.62 1476.65 L2056.24 1476.65 Q2051.31 1476.65 2049.44 1474.82 Q2047.56 1472.97 2047.56 1468.11 L2047.56 1454.04 L2044.44 1454.04 L2044.44 1450.73 L2047.56 1450.73 L2047.56 1443.36 L2051.84 1443.36 Z\" fill=\"#000000\" fill-rule=\"evenodd\" fill-opacity=\"1\" /><path clip-path=\"url(#clip500)\" d=\"M 0 0 M2069.3 1443.36 L2069.3 1450.73 L2078.07 1450.73 L2078.07 1454.04 L2069.3 1454.04 L2069.3 1468.11 Q2069.3 1471.28 2070.15 1472.18 Q2071.03 1473.09 2073.7 1473.09 L2078.07 1473.09 L2078.07 1476.65 L2073.7 1476.65 Q2068.77 1476.65 2066.89 1474.82 Q2065.02 1472.97 2065.02 1468.11 L2065.02 1454.04 L2061.89 1454.04 L2061.89 1450.73 L2065.02 1450.73 L2065.02 1443.36 L2069.3 1443.36 Z\" fill=\"#000000\" fill-rule=\"evenodd\" fill-opacity=\"1\" /><path clip-path=\"url(#clip500)\" d=\"M 0 0 M2092.58 1453.71 Q2089.16 1453.71 2087.17 1456.4 Q2085.18 1459.06 2085.18 1463.71 Q2085.18 1468.36 2087.15 1471.05 Q2089.14 1473.71 2092.58 1473.71 Q2095.99 1473.71 2097.98 1471.03 Q2099.97 1468.34 2099.97 1463.71 Q2099.97 1459.11 2097.98 1456.42 Q2095.99 1453.71 2092.58 1453.71 M2092.58 1450.1 Q2098.14 1450.1 2101.31 1453.71 Q2104.48 1457.32 2104.48 1463.71 Q2104.48 1470.08 2101.31 1473.71 Q2098.14 1477.32 2092.58 1477.32 Q2087.01 1477.32 2083.83 1473.71 Q2080.69 1470.08 2080.69 1463.71 Q2080.69 1457.32 2083.83 1453.71 Q2087.01 1450.1 2092.58 1450.1 Z\" fill=\"#000000\" fill-rule=\"evenodd\" fill-opacity=\"1\" /><path clip-path=\"url(#clip500)\" d=\"M 0 0 M2129.14 1455.7 Q2130.73 1452.83 2132.96 1451.47 Q2135.18 1450.1 2138.19 1450.1 Q2142.24 1450.1 2144.44 1452.95 Q2146.64 1455.77 2146.64 1461 L2146.64 1476.65 L2142.35 1476.65 L2142.35 1461.14 Q2142.35 1457.42 2141.03 1455.61 Q2139.71 1453.8 2137.01 1453.8 Q2133.7 1453.8 2131.77 1456 Q2129.85 1458.2 2129.85 1462 L2129.85 1476.65 L2125.57 1476.65 L2125.57 1461.14 Q2125.57 1457.39 2124.25 1455.61 Q2122.93 1453.8 2120.18 1453.8 Q2116.91 1453.8 2114.99 1456.03 Q2113.07 1458.23 2113.07 1462 L2113.07 1476.65 L2108.79 1476.65 L2108.79 1450.73 L2113.07 1450.73 L2113.07 1454.75 Q2114.53 1452.37 2116.57 1451.24 Q2118.6 1450.1 2121.4 1450.1 Q2124.23 1450.1 2126.2 1451.54 Q2128.19 1452.97 2129.14 1455.7 Z\" fill=\"#000000\" fill-rule=\"evenodd\" fill-opacity=\"1\" /><path clip-path=\"url(#clip500)\" d=\"M 0 0 M131.538 1286.59 L139.177 1286.59 L139.177 1260.22 L130.867 1261.89 L130.867 1257.63 L139.13 1255.96 L143.806 1255.96 L143.806 1286.59 L151.445 1286.59 L151.445 1290.52 L131.538 1290.52 L131.538 1286.59 Z\" fill=\"#000000\" fill-rule=\"evenodd\" fill-opacity=\"1\" /><path clip-path=\"url(#clip500)\" d=\"M 0 0 M166.515 1259.04 Q162.903 1259.04 161.075 1262.61 Q159.269 1266.15 159.269 1273.28 Q159.269 1280.38 161.075 1283.95 Q162.903 1287.49 166.515 1287.49 Q170.149 1287.49 171.954 1283.95 Q173.783 1280.38 173.783 1273.28 Q173.783 1266.15 171.954 1262.61 Q170.149 1259.04 166.515 1259.04 M166.515 1255.34 Q172.325 1255.34 175.38 1259.94 Q178.459 1264.53 178.459 1273.28 Q178.459 1282 175.38 1286.61 Q172.325 1291.19 166.515 1291.19 Q160.704 1291.19 157.626 1286.61 Q154.57 1282 154.57 1273.28 Q154.57 1264.53 157.626 1259.94 Q160.704 1255.34 166.515 1255.34 Z\" fill=\"#000000\" fill-rule=\"evenodd\" fill-opacity=\"1\" /><path clip-path=\"url(#clip500)\" d=\"M 0 0 M193.528 1259.04 Q189.917 1259.04 188.089 1262.61 Q186.283 1266.15 186.283 1273.28 Q186.283 1280.38 188.089 1283.95 Q189.917 1287.49 193.528 1287.49 Q197.163 1287.49 198.968 1283.95 Q200.797 1280.38 200.797 1273.28 Q200.797 1266.15 198.968 1262.61 Q197.163 1259.04 193.528 1259.04 M193.528 1255.34 Q199.338 1255.34 202.394 1259.94 Q205.473 1264.53 205.473 1273.28 Q205.473 1282 202.394 1286.61 Q199.338 1291.19 193.528 1291.19 Q187.718 1291.19 184.639 1286.61 Q181.584 1282 181.584 1273.28 Q181.584 1264.53 184.639 1259.94 Q187.718 1255.34 193.528 1255.34 Z\" fill=\"#000000\" fill-rule=\"evenodd\" fill-opacity=\"1\" /><path clip-path=\"url(#clip500)\" d=\"M 0 0 M135.126 1021.59 L151.445 1021.59 L151.445 1025.53 L129.501 1025.53 L129.501 1021.59 Q132.163 1018.84 136.746 1014.21 Q141.353 1009.55 142.533 1008.21 Q144.779 1005.69 145.658 1003.95 Q146.561 1002.19 146.561 1000.5 Q146.561 997.748 144.617 996.012 Q142.695 994.276 139.593 994.276 Q137.394 994.276 134.941 995.04 Q132.51 995.803 129.732 997.354 L129.732 992.632 Q132.556 991.498 135.01 990.919 Q137.464 990.34 139.501 990.34 Q144.871 990.34 148.066 993.026 Q151.26 995.711 151.26 1000.2 Q151.26 1002.33 150.45 1004.25 Q149.663 1006.15 147.556 1008.74 Q146.978 1009.41 143.876 1012.63 Q140.774 1015.83 135.126 1021.59 Z\" fill=\"#000000\" fill-rule=\"evenodd\" fill-opacity=\"1\" /><path clip-path=\"url(#clip500)\" d=\"M 0 0 M166.515 994.044 Q162.903 994.044 161.075 997.609 Q159.269 1001.15 159.269 1008.28 Q159.269 1015.39 161.075 1018.95 Q162.903 1022.49 166.515 1022.49 Q170.149 1022.49 171.954 1018.95 Q173.783 1015.39 173.783 1008.28 Q173.783 1001.15 171.954 997.609 Q170.149 994.044 166.515 994.044 M166.515 990.34 Q172.325 990.34 175.38 994.947 Q178.459 999.53 178.459 1008.28 Q178.459 1017.01 175.38 1021.61 Q172.325 1026.2 166.515 1026.2 Q160.704 1026.2 157.626 1021.61 Q154.57 1017.01 154.57 1008.28 Q154.57 999.53 157.626 994.947 Q160.704 990.34 166.515 990.34 Z\" fill=\"#000000\" fill-rule=\"evenodd\" fill-opacity=\"1\" /><path clip-path=\"url(#clip500)\" d=\"M 0 0 M193.528 994.044 Q189.917 994.044 188.089 997.609 Q186.283 1001.15 186.283 1008.28 Q186.283 1015.39 188.089 1018.95 Q189.917 1022.49 193.528 1022.49 Q197.163 1022.49 198.968 1018.95 Q200.797 1015.39 200.797 1008.28 Q200.797 1001.15 198.968 997.609 Q197.163 994.044 193.528 994.044 M193.528 990.34 Q199.338 990.34 202.394 994.947 Q205.473 999.53 205.473 1008.28 Q205.473 1017.01 202.394 1021.61 Q199.338 1026.2 193.528 1026.2 Q187.718 1026.2 184.639 1021.61 Q181.584 1017.01 181.584 1008.28 Q181.584 999.53 184.639 994.947 Q187.718 990.34 193.528 990.34 Z\" fill=\"#000000\" fill-rule=\"evenodd\" fill-opacity=\"1\" /><path clip-path=\"url(#clip500)\" d=\"M 0 0 M144.316 741.895 Q147.672 742.612 149.547 744.881 Q151.445 747.149 151.445 750.483 Q151.445 755.598 147.927 758.399 Q144.408 761.2 137.927 761.2 Q135.751 761.2 133.436 760.76 Q131.144 760.344 128.691 759.487 L128.691 754.973 Q130.635 756.108 132.95 756.686 Q135.265 757.265 137.788 757.265 Q142.186 757.265 144.478 755.529 Q146.792 753.793 146.792 750.483 Q146.792 747.427 144.64 745.714 Q142.51 743.978 138.691 743.978 L134.663 743.978 L134.663 740.135 L138.876 740.135 Q142.325 740.135 144.154 738.77 Q145.982 737.381 145.982 734.788 Q145.982 732.126 144.084 730.714 Q142.209 729.279 138.691 729.279 Q136.769 729.279 134.57 729.696 Q132.371 730.112 129.732 730.992 L129.732 726.825 Q132.394 726.085 134.709 725.714 Q137.047 725.344 139.107 725.344 Q144.431 725.344 147.533 727.774 Q150.635 730.182 150.635 734.302 Q150.635 737.173 148.992 739.163 Q147.348 741.131 144.316 741.895 Z\" fill=\"#000000\" fill-rule=\"evenodd\" fill-opacity=\"1\" /><path clip-path=\"url(#clip500)\" d=\"M 0 0 M166.515 729.048 Q162.903 729.048 161.075 732.612 Q159.269 736.154 159.269 743.284 Q159.269 750.39 161.075 753.955 Q162.903 757.496 166.515 757.496 Q170.149 757.496 171.954 753.955 Q173.783 750.39 173.783 743.284 Q173.783 736.154 171.954 732.612 Q170.149 729.048 166.515 729.048 M166.515 725.344 Q172.325 725.344 175.38 729.95 Q178.459 734.534 178.459 743.284 Q178.459 752.01 175.38 756.617 Q172.325 761.2 166.515 761.2 Q160.704 761.2 157.626 756.617 Q154.57 752.01 154.57 743.284 Q154.57 734.534 157.626 729.95 Q160.704 725.344 166.515 725.344 Z\" fill=\"#000000\" fill-rule=\"evenodd\" fill-opacity=\"1\" /><path clip-path=\"url(#clip500)\" d=\"M 0 0 M193.528 729.048 Q189.917 729.048 188.089 732.612 Q186.283 736.154 186.283 743.284 Q186.283 750.39 188.089 753.955 Q189.917 757.496 193.528 757.496 Q197.163 757.496 198.968 753.955 Q200.797 750.39 200.797 743.284 Q200.797 736.154 198.968 732.612 Q197.163 729.048 193.528 729.048 M193.528 725.344 Q199.338 725.344 202.394 729.95 Q205.473 734.534 205.473 743.284 Q205.473 752.01 202.394 756.617 Q199.338 761.2 193.528 761.2 Q187.718 761.2 184.639 756.617 Q181.584 752.01 181.584 743.284 Q181.584 734.534 184.639 729.95 Q187.718 725.344 193.528 725.344 Z\" fill=\"#000000\" fill-rule=\"evenodd\" fill-opacity=\"1\" /><path clip-path=\"url(#clip500)\" d=\"M 0 0 M141.862 465.046 L130.056 483.495 L141.862 483.495 L141.862 465.046 M140.635 460.972 L146.515 460.972 L146.515 483.495 L151.445 483.495 L151.445 487.384 L146.515 487.384 L146.515 495.532 L141.862 495.532 L141.862 487.384 L126.26 487.384 L126.26 482.87 L140.635 460.972 Z\" fill=\"#000000\" fill-rule=\"evenodd\" fill-opacity=\"1\" /><path clip-path=\"url(#clip500)\" d=\"M 0 0 M166.515 464.051 Q162.903 464.051 161.075 467.616 Q159.269 471.157 159.269 478.287 Q159.269 485.393 161.075 488.958 Q162.903 492.5 166.515 492.5 Q170.149 492.5 171.954 488.958 Q173.783 485.393 173.783 478.287 Q173.783 471.157 171.954 467.616 Q170.149 464.051 166.515 464.051 M166.515 460.347 Q172.325 460.347 175.38 464.954 Q178.459 469.537 178.459 478.287 Q178.459 487.014 175.38 491.62 Q172.325 496.204 166.515 496.204 Q160.704 496.204 157.626 491.62 Q154.57 487.014 154.57 478.287 Q154.57 469.537 157.626 464.954 Q160.704 460.347 166.515 460.347 Z\" fill=\"#000000\" fill-rule=\"evenodd\" fill-opacity=\"1\" /><path clip-path=\"url(#clip500)\" d=\"M 0 0 M193.528 464.051 Q189.917 464.051 188.089 467.616 Q186.283 471.157 186.283 478.287 Q186.283 485.393 188.089 488.958 Q189.917 492.5 193.528 492.5 Q197.163 492.5 198.968 488.958 Q200.797 485.393 200.797 478.287 Q200.797 471.157 198.968 467.616 Q197.163 464.051 193.528 464.051 M193.528 460.347 Q199.338 460.347 202.394 464.954 Q205.473 469.537 205.473 478.287 Q205.473 487.014 202.394 491.62 Q199.338 496.204 193.528 496.204 Q187.718 496.204 184.639 491.62 Q181.584 487.014 181.584 478.287 Q181.584 469.537 184.639 464.954 Q187.718 460.347 193.528 460.347 Z\" fill=\"#000000\" fill-rule=\"evenodd\" fill-opacity=\"1\" /><path clip-path=\"url(#clip500)\" d=\"M 0 0 M130.543 195.976 L148.899 195.976 L148.899 199.911 L134.825 199.911 L134.825 208.383 Q135.843 208.036 136.862 207.874 Q137.88 207.689 138.899 207.689 Q144.686 207.689 148.066 210.86 Q151.445 214.031 151.445 219.448 Q151.445 225.026 147.973 228.128 Q144.501 231.207 138.181 231.207 Q136.005 231.207 133.737 230.837 Q131.492 230.466 129.084 229.725 L129.084 225.026 Q131.168 226.161 133.39 226.716 Q135.612 227.272 138.089 227.272 Q142.093 227.272 144.431 225.165 Q146.769 223.059 146.769 219.448 Q146.769 215.837 144.431 213.73 Q142.093 211.624 138.089 211.624 Q136.214 211.624 134.339 212.04 Q132.487 212.457 130.543 213.337 L130.543 195.976 Z\" fill=\"#000000\" fill-rule=\"evenodd\" fill-opacity=\"1\" /><path clip-path=\"url(#clip500)\" d=\"M 0 0 M166.515 199.054 Q162.903 199.054 161.075 202.619 Q159.269 206.161 159.269 213.29 Q159.269 220.397 161.075 223.962 Q162.903 227.503 166.515 227.503 Q170.149 227.503 171.954 223.962 Q173.783 220.397 173.783 213.29 Q173.783 206.161 171.954 202.619 Q170.149 199.054 166.515 199.054 M166.515 195.351 Q172.325 195.351 175.38 199.957 Q178.459 204.54 178.459 213.29 Q178.459 222.017 175.38 226.624 Q172.325 231.207 166.515 231.207 Q160.704 231.207 157.626 226.624 Q154.57 222.017 154.57 213.29 Q154.57 204.54 157.626 199.957 Q160.704 195.351 166.515 195.351 Z\" fill=\"#000000\" fill-rule=\"evenodd\" fill-opacity=\"1\" /><path clip-path=\"url(#clip500)\" d=\"M 0 0 M193.528 199.054 Q189.917 199.054 188.089 202.619 Q186.283 206.161 186.283 213.29 Q186.283 220.397 188.089 223.962 Q189.917 227.503 193.528 227.503 Q197.163 227.503 198.968 223.962 Q200.797 220.397 200.797 213.29 Q200.797 206.161 198.968 202.619 Q197.163 199.054 193.528 199.054 M193.528 195.351 Q199.338 195.351 202.394 199.957 Q205.473 204.54 205.473 213.29 Q205.473 222.017 202.394 226.624 Q199.338 231.207 193.528 231.207 Q187.718 231.207 184.639 226.624 Q181.584 222.017 181.584 213.29 Q181.584 204.54 184.639 199.957 Q187.718 195.351 193.528 195.351 Z\" fill=\"#000000\" fill-rule=\"evenodd\" fill-opacity=\"1\" /><path clip-path=\"url(#clip500)\" d=\"M 0 0 M708.797 12.096 L747.037 12.096 L747.037 18.9825 L716.98 18.9825 L716.98 36.8875 L745.782 36.8875 L745.782 43.7741 L716.98 43.7741 L716.98 65.6895 L747.767 65.6895 L747.767 72.576 L708.797 72.576 L708.797 12.096 Z\" fill=\"#000000\" fill-rule=\"evenodd\" fill-opacity=\"1\" /><path clip-path=\"url(#clip500)\" d=\"M 0 0 M755.585 9.54393 L763.038 9.54393 L763.038 72.576 L755.585 72.576 L755.585 9.54393 Z\" fill=\"#000000\" fill-rule=\"evenodd\" fill-opacity=\"1\" /><path clip-path=\"url(#clip500)\" d=\"M 0 0 M809.664 48.0275 L809.664 51.6733 L775.394 51.6733 Q775.88 59.3701 780.012 63.421 Q784.184 67.4314 791.597 67.4314 Q795.891 67.4314 799.902 66.3781 Q803.953 65.3249 807.922 63.2184 L807.922 70.267 Q803.912 71.9684 799.699 72.8596 Q795.486 73.7508 791.152 73.7508 Q780.295 73.7508 773.935 67.4314 Q767.616 61.1119 767.616 50.3365 Q767.616 39.1965 773.611 32.6746 Q779.647 26.1121 789.855 26.1121 Q799.01 26.1121 804.317 32.0264 Q809.664 37.9003 809.664 48.0275 M802.211 45.84 Q802.13 39.7232 798.767 36.0774 Q795.446 32.4315 789.936 32.4315 Q783.698 32.4315 779.931 35.9558 Q776.204 39.4801 775.637 45.8805 L802.211 45.84 Z\" fill=\"#000000\" fill-rule=\"evenodd\" fill-opacity=\"1\" /><path clip-path=\"url(#clip500)\" d=\"M 0 0 M850.133 28.9478 L850.133 35.9153 Q846.973 34.1734 843.773 33.3227 Q840.613 32.4315 837.373 32.4315 Q830.121 32.4315 826.111 37.0496 Q822.101 41.6271 822.101 49.9314 Q822.101 58.2358 826.111 62.8538 Q830.121 67.4314 837.373 67.4314 Q840.613 67.4314 843.773 66.5807 Q846.973 65.6895 850.133 63.9476 L850.133 70.8341 Q847.014 72.2924 843.651 73.0216 Q840.33 73.7508 836.562 73.7508 Q826.314 73.7508 820.278 67.3098 Q814.242 60.8689 814.242 49.9314 Q814.242 38.832 820.318 32.472 Q826.435 26.1121 837.048 26.1121 Q840.492 26.1121 843.773 26.8413 Q847.054 27.5299 850.133 28.9478 Z\" fill=\"#000000\" fill-rule=\"evenodd\" fill-opacity=\"1\" /><path clip-path=\"url(#clip500)\" d=\"M 0 0 M865.324 14.324 L865.324 27.2059 L880.677 27.2059 L880.677 32.9987 L865.324 32.9987 L865.324 57.6282 Q865.324 63.1779 866.823 64.7578 Q868.362 66.3376 873.02 66.3376 L880.677 66.3376 L880.677 72.576 L873.02 72.576 Q864.392 72.576 861.111 69.3758 Q857.83 66.1351 857.83 57.6282 L857.83 32.9987 L852.361 32.9987 L852.361 27.2059 L857.83 27.2059 L857.83 14.324 L865.324 14.324 Z\" fill=\"#000000\" fill-rule=\"evenodd\" fill-opacity=\"1\" /><path clip-path=\"url(#clip500)\" d=\"M 0 0 M914.785 34.1734 Q913.53 33.4443 912.031 33.1202 Q910.572 32.7556 908.79 32.7556 Q902.471 32.7556 899.068 36.8875 Q895.706 40.9789 895.706 48.6757 L895.706 72.576 L888.211 72.576 L888.211 27.2059 L895.706 27.2059 L895.706 34.2544 Q898.055 30.1225 901.822 28.1376 Q905.59 26.1121 910.977 26.1121 Q911.747 26.1121 912.679 26.2337 Q913.611 26.3147 914.745 26.5172 L914.785 34.1734 Z\" fill=\"#000000\" fill-rule=\"evenodd\" fill-opacity=\"1\" /><path clip-path=\"url(#clip500)\" d=\"M 0 0 M922.604 27.2059 L930.057 27.2059 L930.057 72.576 L922.604 72.576 L922.604 27.2059 M922.604 9.54393 L930.057 9.54393 L930.057 18.9825 L922.604 18.9825 L922.604 9.54393 Z\" fill=\"#000000\" fill-rule=\"evenodd\" fill-opacity=\"1\" /><path clip-path=\"url(#clip500)\" d=\"M 0 0 M970.526 28.9478 L970.526 35.9153 Q967.366 34.1734 964.166 33.3227 Q961.006 32.4315 957.765 32.4315 Q950.514 32.4315 946.504 37.0496 Q942.493 41.6271 942.493 49.9314 Q942.493 58.2358 946.504 62.8538 Q950.514 67.4314 957.765 67.4314 Q961.006 67.4314 964.166 66.5807 Q967.366 65.6895 970.526 63.9476 L970.526 70.8341 Q967.407 72.2924 964.044 73.0216 Q960.723 73.7508 956.955 73.7508 Q946.706 73.7508 940.671 67.3098 Q934.635 60.8689 934.635 49.9314 Q934.635 38.832 940.711 32.472 Q946.828 26.1121 957.441 26.1121 Q960.885 26.1121 964.166 26.8413 Q967.447 27.5299 970.526 28.9478 Z\" fill=\"#000000\" fill-rule=\"evenodd\" fill-opacity=\"1\" /><path clip-path=\"url(#clip500)\" d=\"M 0 0 M998.963 49.7694 Q989.93 49.7694 986.446 51.8354 Q982.962 53.9013 982.962 58.8839 Q982.962 62.8538 985.555 65.2034 Q988.188 67.5124 992.684 67.5124 Q998.882 67.5124 1002.61 63.1374 Q1006.38 58.7219 1006.38 51.4303 L1006.38 49.7694 L998.963 49.7694 M1013.83 46.6907 L1013.83 72.576 L1006.38 72.576 L1006.38 65.6895 Q1003.82 69.8214 1000.02 71.8063 Q996.208 73.7508 990.699 73.7508 Q983.732 73.7508 979.6 69.8619 Q975.508 65.9325 975.508 59.3701 Q975.508 51.7138 980.612 47.825 Q985.757 43.9361 995.925 43.9361 L1006.38 43.9361 L1006.38 43.2069 Q1006.38 38.0623 1002.97 35.2672 Q999.611 32.4315 993.494 32.4315 Q989.605 32.4315 985.919 33.3632 Q982.233 34.295 978.83 36.1584 L978.83 29.2718 Q982.922 27.692 986.77 26.9223 Q990.618 26.1121 994.264 26.1121 Q1004.11 26.1121 1008.97 31.2163 Q1013.83 36.3204 1013.83 46.6907 Z\" fill=\"#000000\" fill-rule=\"evenodd\" fill-opacity=\"1\" /><path clip-path=\"url(#clip500)\" d=\"M 0 0 M1021.65 9.54393 L1029.1 9.54393 L1029.1 72.576 L1021.65 72.576 L1021.65 9.54393 Z\" fill=\"#000000\" fill-rule=\"evenodd\" fill-opacity=\"1\" /><path clip-path=\"url(#clip500)\" d=\"M 0 0 M1063.62 12.096 L1101.86 12.096 L1101.86 18.9825 L1071.8 18.9825 L1071.8 36.8875 L1100.6 36.8875 L1100.6 43.7741 L1071.8 43.7741 L1071.8 65.6895 L1102.59 65.6895 L1102.59 72.576 L1063.62 72.576 L1063.62 12.096 Z\" fill=\"#000000\" fill-rule=\"evenodd\" fill-opacity=\"1\" /><path clip-path=\"url(#clip500)\" d=\"M 0 0 M1148.12 45.1919 L1148.12 72.576 L1140.66 72.576 L1140.66 45.4349 Q1140.66 38.994 1138.15 35.7938 Q1135.64 32.5936 1130.62 32.5936 Q1124.58 32.5936 1121.1 36.4419 Q1117.61 40.2903 1117.61 46.9338 L1117.61 72.576 L1110.12 72.576 L1110.12 27.2059 L1117.61 27.2059 L1117.61 34.2544 Q1120.29 30.163 1123.89 28.1376 Q1127.54 26.1121 1132.28 26.1121 Q1140.1 26.1121 1144.11 30.9732 Q1148.12 35.7938 1148.12 45.1919 Z\" fill=\"#000000\" fill-rule=\"evenodd\" fill-opacity=\"1\" /><path clip-path=\"url(#clip500)\" d=\"M 0 0 M1185.79 49.3643 Q1185.79 41.2625 1182.43 36.8065 Q1179.11 32.3505 1173.07 32.3505 Q1167.08 32.3505 1163.71 36.8065 Q1160.39 41.2625 1160.39 49.3643 Q1160.39 57.4256 1163.71 61.8816 Q1167.08 66.3376 1173.07 66.3376 Q1179.11 66.3376 1182.43 61.8816 Q1185.79 57.4256 1185.79 49.3643 M1193.24 66.9452 Q1193.24 78.5308 1188.1 84.1616 Q1182.96 89.8329 1172.34 89.8329 Q1168.41 89.8329 1164.93 89.2252 Q1161.44 88.6581 1158.16 87.4428 L1158.16 80.1917 Q1161.44 81.9741 1164.65 82.8248 Q1167.85 83.6755 1171.17 83.6755 Q1178.5 83.6755 1182.14 79.8271 Q1185.79 76.0193 1185.79 68.282 L1185.79 64.5957 Q1183.48 68.6061 1179.88 70.5911 Q1176.27 72.576 1171.25 72.576 Q1162.9 72.576 1157.8 66.2161 Q1152.69 59.8562 1152.69 49.3643 Q1152.69 38.832 1157.8 32.472 Q1162.9 26.1121 1171.25 26.1121 Q1176.27 26.1121 1179.88 28.0971 Q1183.48 30.082 1185.79 34.0924 L1185.79 27.2059 L1193.24 27.2059 L1193.24 66.9452 Z\" fill=\"#000000\" fill-rule=\"evenodd\" fill-opacity=\"1\" /><path clip-path=\"url(#clip500)\" d=\"M 0 0 M1201.06 27.2059 L1208.52 27.2059 L1208.52 72.576 L1201.06 72.576 L1201.06 27.2059 M1201.06 9.54393 L1208.52 9.54393 L1208.52 18.9825 L1201.06 18.9825 L1201.06 9.54393 Z\" fill=\"#000000\" fill-rule=\"evenodd\" fill-opacity=\"1\" /><path clip-path=\"url(#clip500)\" d=\"M 0 0 M1254.05 45.1919 L1254.05 72.576 L1246.59 72.576 L1246.59 45.4349 Q1246.59 38.994 1244.08 35.7938 Q1241.57 32.5936 1236.55 32.5936 Q1230.51 32.5936 1227.03 36.4419 Q1223.55 40.2903 1223.55 46.9338 L1223.55 72.576 L1216.05 72.576 L1216.05 27.2059 L1223.55 27.2059 L1223.55 34.2544 Q1226.22 30.163 1229.82 28.1376 Q1233.47 26.1121 1238.21 26.1121 Q1246.03 26.1121 1250.04 30.9732 Q1254.05 35.7938 1254.05 45.1919 Z\" fill=\"#000000\" fill-rule=\"evenodd\" fill-opacity=\"1\" /><path clip-path=\"url(#clip500)\" d=\"M 0 0 M1300.67 48.0275 L1300.67 51.6733 L1266.4 51.6733 Q1266.89 59.3701 1271.02 63.421 Q1275.19 67.4314 1282.61 67.4314 Q1286.9 67.4314 1290.91 66.3781 Q1294.96 65.3249 1298.93 63.2184 L1298.93 70.267 Q1294.92 71.9684 1290.71 72.8596 Q1286.5 73.7508 1282.16 73.7508 Q1271.31 73.7508 1264.95 67.4314 Q1258.63 61.1119 1258.63 50.3365 Q1258.63 39.1965 1264.62 32.6746 Q1270.66 26.1121 1280.87 26.1121 Q1290.02 26.1121 1295.33 32.0264 Q1300.67 37.9003 1300.67 48.0275 M1293.22 45.84 Q1293.14 39.7232 1289.78 36.0774 Q1286.46 32.4315 1280.95 32.4315 Q1274.71 32.4315 1270.94 35.9558 Q1267.21 39.4801 1266.65 45.8805 L1293.22 45.84 Z\" fill=\"#000000\" fill-rule=\"evenodd\" fill-opacity=\"1\" /><path clip-path=\"url(#clip500)\" d=\"M 0 0 M1347.3 48.0275 L1347.3 51.6733 L1313.03 51.6733 Q1313.52 59.3701 1317.65 63.421 Q1321.82 67.4314 1329.23 67.4314 Q1333.53 67.4314 1337.54 66.3781 Q1341.59 65.3249 1345.56 63.2184 L1345.56 70.267 Q1341.55 71.9684 1337.34 72.8596 Q1333.12 73.7508 1328.79 73.7508 Q1317.93 73.7508 1311.57 67.4314 Q1305.25 61.1119 1305.25 50.3365 Q1305.25 39.1965 1311.25 32.6746 Q1317.28 26.1121 1327.49 26.1121 Q1336.65 26.1121 1341.95 32.0264 Q1347.3 37.9003 1347.3 48.0275 M1339.85 45.84 Q1339.77 39.7232 1336.4 36.0774 Q1333.08 32.4315 1327.57 32.4315 Q1321.33 32.4315 1317.57 35.9558 Q1313.84 39.4801 1313.27 45.8805 L1339.85 45.84 Z\" fill=\"#000000\" fill-rule=\"evenodd\" fill-opacity=\"1\" /><path clip-path=\"url(#clip500)\" d=\"M 0 0 M1381.41 34.1734 Q1380.15 33.4443 1378.65 33.1202 Q1377.2 32.7556 1375.41 32.7556 Q1369.09 32.7556 1365.69 36.8875 Q1362.33 40.9789 1362.33 48.6757 L1362.33 72.576 L1354.84 72.576 L1354.84 27.2059 L1362.33 27.2059 L1362.33 34.2544 Q1364.68 30.1225 1368.45 28.1376 Q1372.21 26.1121 1377.6 26.1121 Q1378.37 26.1121 1379.3 26.2337 Q1380.23 26.3147 1381.37 26.5172 L1381.41 34.1734 Z\" fill=\"#000000\" fill-rule=\"evenodd\" fill-opacity=\"1\" /><path clip-path=\"url(#clip500)\" d=\"M 0 0 M1389.23 27.2059 L1396.68 27.2059 L1396.68 72.576 L1389.23 72.576 L1389.23 27.2059 M1389.23 9.54393 L1396.68 9.54393 L1396.68 18.9825 L1389.23 18.9825 L1389.23 9.54393 Z\" fill=\"#000000\" fill-rule=\"evenodd\" fill-opacity=\"1\" /><path clip-path=\"url(#clip500)\" d=\"M 0 0 M1442.21 45.1919 L1442.21 72.576 L1434.76 72.576 L1434.76 45.4349 Q1434.76 38.994 1432.25 35.7938 Q1429.74 32.5936 1424.71 32.5936 Q1418.68 32.5936 1415.19 36.4419 Q1411.71 40.2903 1411.71 46.9338 L1411.71 72.576 L1404.22 72.576 L1404.22 27.2059 L1411.71 27.2059 L1411.71 34.2544 Q1414.38 30.163 1417.99 28.1376 Q1421.63 26.1121 1426.37 26.1121 Q1434.19 26.1121 1438.2 30.9732 Q1442.21 35.7938 1442.21 45.1919 Z\" fill=\"#000000\" fill-rule=\"evenodd\" fill-opacity=\"1\" /><path clip-path=\"url(#clip500)\" d=\"M 0 0 M1479.89 49.3643 Q1479.89 41.2625 1476.52 36.8065 Q1473.2 32.3505 1467.17 32.3505 Q1461.17 32.3505 1457.81 36.8065 Q1454.49 41.2625 1454.49 49.3643 Q1454.49 57.4256 1457.81 61.8816 Q1461.17 66.3376 1467.17 66.3376 Q1473.2 66.3376 1476.52 61.8816 Q1479.89 57.4256 1479.89 49.3643 M1487.34 66.9452 Q1487.34 78.5308 1482.2 84.1616 Q1477.05 89.8329 1466.44 89.8329 Q1462.51 89.8329 1459.02 89.2252 Q1455.54 88.6581 1452.26 87.4428 L1452.26 80.1917 Q1455.54 81.9741 1458.74 82.8248 Q1461.94 83.6755 1465.26 83.6755 Q1472.59 83.6755 1476.24 79.8271 Q1479.89 76.0193 1479.89 68.282 L1479.89 64.5957 Q1477.58 68.6061 1473.97 70.5911 Q1470.37 72.576 1465.34 72.576 Q1457 72.576 1451.89 66.2161 Q1446.79 59.8562 1446.79 49.3643 Q1446.79 38.832 1451.89 32.472 Q1457 26.1121 1465.34 26.1121 Q1470.37 26.1121 1473.97 28.0971 Q1477.58 30.082 1479.89 34.0924 L1479.89 27.2059 L1487.34 27.2059 L1487.34 66.9452 Z\" fill=\"#000000\" fill-rule=\"evenodd\" fill-opacity=\"1\" /><path clip-path=\"url(#clip500)\" d=\"M 0 0 M1530.04 18.8205 L1530.04 41.5461 L1540.33 41.5461 Q1546.04 41.5461 1549.16 38.5889 Q1552.28 35.6318 1552.28 30.163 Q1552.28 24.7348 1549.16 21.7777 Q1546.04 18.8205 1540.33 18.8205 L1530.04 18.8205 M1521.85 12.096 L1540.33 12.096 Q1550.49 12.096 1555.68 16.714 Q1560.9 21.2916 1560.9 30.163 Q1560.9 39.1155 1555.68 43.6931 Q1550.49 48.2706 1540.33 48.2706 L1530.04 48.2706 L1530.04 72.576 L1521.85 72.576 L1521.85 12.096 Z\" fill=\"#000000\" fill-rule=\"evenodd\" fill-opacity=\"1\" /><path clip-path=\"url(#clip500)\" d=\"M 0 0 M1593.55 34.1734 Q1592.3 33.4443 1590.8 33.1202 Q1589.34 32.7556 1587.56 32.7556 Q1581.24 32.7556 1577.84 36.8875 Q1574.48 40.9789 1574.48 48.6757 L1574.48 72.576 L1566.98 72.576 L1566.98 27.2059 L1574.48 27.2059 L1574.48 34.2544 Q1576.82 30.1225 1580.59 28.1376 Q1584.36 26.1121 1589.75 26.1121 Q1590.52 26.1121 1591.45 26.2337 Q1592.38 26.3147 1593.51 26.5172 L1593.55 34.1734 Z\" fill=\"#000000\" fill-rule=\"evenodd\" fill-opacity=\"1\" /><path clip-path=\"url(#clip500)\" d=\"M 0 0 M1617.13 32.4315 Q1611.14 32.4315 1607.65 37.1306 Q1604.17 41.7891 1604.17 49.9314 Q1604.17 58.0738 1607.61 62.7728 Q1611.1 67.4314 1617.13 67.4314 Q1623.09 67.4314 1626.57 62.7323 Q1630.05 58.0333 1630.05 49.9314 Q1630.05 41.8701 1626.57 37.1711 Q1623.09 32.4315 1617.13 32.4315 M1617.13 26.1121 Q1626.85 26.1121 1632.4 32.4315 Q1637.95 38.7509 1637.95 49.9314 Q1637.95 61.0714 1632.4 67.4314 Q1626.85 73.7508 1617.13 73.7508 Q1607.37 73.7508 1601.82 67.4314 Q1596.31 61.0714 1596.31 49.9314 Q1596.31 38.7509 1601.82 32.4315 Q1607.37 26.1121 1617.13 26.1121 Z\" fill=\"#000000\" fill-rule=\"evenodd\" fill-opacity=\"1\" /><path clip-path=\"url(#clip500)\" d=\"M 0 0 M1675.63 49.3643 Q1675.63 41.2625 1672.26 36.8065 Q1668.94 32.3505 1662.91 32.3505 Q1656.91 32.3505 1653.55 36.8065 Q1650.23 41.2625 1650.23 49.3643 Q1650.23 57.4256 1653.55 61.8816 Q1656.91 66.3376 1662.91 66.3376 Q1668.94 66.3376 1672.26 61.8816 Q1675.63 57.4256 1675.63 49.3643 M1683.08 66.9452 Q1683.08 78.5308 1677.94 84.1616 Q1672.79 89.8329 1662.18 89.8329 Q1658.25 89.8329 1654.76 89.2252 Q1651.28 88.6581 1648 87.4428 L1648 80.1917 Q1651.28 81.9741 1654.48 82.8248 Q1657.68 83.6755 1661 83.6755 Q1668.33 83.6755 1671.98 79.8271 Q1675.63 76.0193 1675.63 68.282 L1675.63 64.5957 Q1673.32 68.6061 1669.71 70.5911 Q1666.11 72.576 1661.08 72.576 Q1652.74 72.576 1647.63 66.2161 Q1642.53 59.8562 1642.53 49.3643 Q1642.53 38.832 1647.63 32.472 Q1652.74 26.1121 1661.08 26.1121 Q1666.11 26.1121 1669.71 28.0971 Q1673.32 30.082 1675.63 34.0924 L1675.63 27.2059 L1683.08 27.2059 L1683.08 66.9452 Z\" fill=\"#000000\" fill-rule=\"evenodd\" fill-opacity=\"1\" /><path clip-path=\"url(#clip500)\" d=\"M 0 0 M1717.19 34.1734 Q1715.93 33.4443 1714.43 33.1202 Q1712.98 32.7556 1711.19 32.7556 Q1704.87 32.7556 1701.47 36.8875 Q1698.11 40.9789 1698.11 48.6757 L1698.11 72.576 L1690.61 72.576 L1690.61 27.2059 L1698.11 27.2059 L1698.11 34.2544 Q1700.46 30.1225 1704.23 28.1376 Q1707.99 26.1121 1713.38 26.1121 Q1714.15 26.1121 1715.08 26.2337 Q1716.01 26.3147 1717.15 26.5172 L1717.19 34.1734 Z\" fill=\"#000000\" fill-rule=\"evenodd\" fill-opacity=\"1\" /><path clip-path=\"url(#clip500)\" d=\"M 0 0 M1745.63 49.7694 Q1736.59 49.7694 1733.11 51.8354 Q1729.62 53.9013 1729.62 58.8839 Q1729.62 62.8538 1732.22 65.2034 Q1734.85 67.5124 1739.35 67.5124 Q1745.54 67.5124 1749.27 63.1374 Q1753.04 58.7219 1753.04 51.4303 L1753.04 49.7694 L1745.63 49.7694 M1760.49 46.6907 L1760.49 72.576 L1753.04 72.576 L1753.04 65.6895 Q1750.49 69.8214 1746.68 71.8063 Q1742.87 73.7508 1737.36 73.7508 Q1730.39 73.7508 1726.26 69.8619 Q1722.17 65.9325 1722.17 59.3701 Q1722.17 51.7138 1727.28 47.825 Q1732.42 43.9361 1742.59 43.9361 L1753.04 43.9361 L1753.04 43.2069 Q1753.04 38.0623 1749.64 35.2672 Q1746.27 32.4315 1740.16 32.4315 Q1736.27 32.4315 1732.58 33.3632 Q1728.9 34.295 1725.49 36.1584 L1725.49 29.2718 Q1729.58 27.692 1733.43 26.9223 Q1737.28 26.1121 1740.93 26.1121 Q1750.77 26.1121 1755.63 31.2163 Q1760.49 36.3204 1760.49 46.6907 Z\" fill=\"#000000\" fill-rule=\"evenodd\" fill-opacity=\"1\" /><path clip-path=\"url(#clip500)\" d=\"M 0 0 M1803.63 35.9153 Q1806.43 30.8922 1810.32 28.5022 Q1814.21 26.1121 1819.47 26.1121 Q1826.56 26.1121 1830.41 31.0947 Q1834.26 36.0368 1834.26 45.1919 L1834.26 72.576 L1826.77 72.576 L1826.77 45.4349 Q1826.77 38.913 1824.46 35.7533 Q1822.15 32.5936 1817.41 32.5936 Q1811.61 32.5936 1808.25 36.4419 Q1804.89 40.2903 1804.89 46.9338 L1804.89 72.576 L1797.4 72.576 L1797.4 45.4349 Q1797.4 38.8725 1795.09 35.7533 Q1792.78 32.5936 1787.96 32.5936 Q1782.25 32.5936 1778.88 36.4824 Q1775.52 40.3308 1775.52 46.9338 L1775.52 72.576 L1768.03 72.576 L1768.03 27.2059 L1775.52 27.2059 L1775.52 34.2544 Q1778.07 30.082 1781.64 28.0971 Q1785.2 26.1121 1790.1 26.1121 Q1795.05 26.1121 1798.49 28.6237 Q1801.97 31.1352 1803.63 35.9153 Z\" fill=\"#000000\" fill-rule=\"evenodd\" fill-opacity=\"1\" /><path clip-path=\"url(#clip500)\" d=\"M 0 0 M1871 28.5427 L1871 35.5912 Q1867.84 33.9709 1864.44 33.1607 Q1861.04 32.3505 1857.39 32.3505 Q1851.84 32.3505 1849.05 34.0519 Q1846.29 35.7533 1846.29 39.156 Q1846.29 41.7486 1848.28 43.2475 Q1850.26 44.7058 1856.26 46.0426 L1858.81 46.6097 Q1866.75 48.3111 1870.07 51.4303 Q1873.43 54.509 1873.43 60.0587 Q1873.43 66.3781 1868.41 70.0644 Q1863.43 73.7508 1854.68 73.7508 Q1851.03 73.7508 1847.06 73.0216 Q1843.13 72.3329 1838.76 70.9151 L1838.76 63.2184 Q1842.89 65.3654 1846.9 66.4591 Q1850.91 67.5124 1854.84 67.5124 Q1860.1 67.5124 1862.94 65.73 Q1865.78 63.9071 1865.78 60.6258 Q1865.78 57.5877 1863.71 55.9673 Q1861.68 54.3469 1854.76 52.8481 L1852.16 52.2405 Q1845.24 50.7821 1842.16 47.7845 Q1839.08 44.7463 1839.08 39.4801 Q1839.08 33.0797 1843.62 29.5959 Q1848.15 26.1121 1856.5 26.1121 Q1860.63 26.1121 1864.28 26.7198 Q1867.92 27.3274 1871 28.5427 Z\" fill=\"#000000\" fill-rule=\"evenodd\" fill-opacity=\"1\" /><path clip-path=\"url(#clip500)\" d=\"M 0 0 M1237.07 1510.27 L1237.07 1520.4 L1249.13 1520.4 L1249.13 1524.95 L1237.07 1524.95 L1237.07 1544.3 Q1237.07 1548.66 1238.25 1549.9 Q1239.46 1551.14 1243.12 1551.14 L1249.13 1551.14 L1249.13 1556.04 L1243.12 1556.04 Q1236.34 1556.04 1233.76 1553.53 Q1231.18 1550.98 1231.18 1544.3 L1231.18 1524.95 L1226.88 1524.95 L1226.88 1520.4 L1231.18 1520.4 L1231.18 1510.27 L1237.07 1510.27 Z\" fill=\"#000000\" fill-rule=\"evenodd\" fill-opacity=\"1\" /><path clip-path=\"url(#clip500)\" d=\"M 0 0 M1255.28 1520.4 L1261.13 1520.4 L1261.13 1556.04 L1255.28 1556.04 L1255.28 1520.4 M1255.28 1506.52 L1261.13 1506.52 L1261.13 1513.93 L1255.28 1513.93 L1255.28 1506.52 Z\" fill=\"#000000\" fill-rule=\"evenodd\" fill-opacity=\"1\" /><path clip-path=\"url(#clip500)\" d=\"M 0 0 M1297.77 1536.76 L1297.77 1539.62 L1270.84 1539.62 Q1271.22 1545.67 1274.47 1548.85 Q1277.75 1552 1283.57 1552 Q1286.94 1552 1290.1 1551.17 Q1293.28 1550.35 1296.4 1548.69 L1296.4 1554.23 Q1293.25 1555.57 1289.94 1556.27 Q1286.63 1556.97 1283.22 1556.97 Q1274.69 1556.97 1269.69 1552 Q1264.73 1547.04 1264.73 1538.57 Q1264.73 1529.82 1269.44 1524.69 Q1274.18 1519.54 1282.2 1519.54 Q1289.4 1519.54 1293.57 1524.18 Q1297.77 1528.8 1297.77 1536.76 M1291.91 1535.04 Q1291.85 1530.23 1289.2 1527.37 Q1286.59 1524.5 1282.27 1524.5 Q1277.36 1524.5 1274.4 1527.27 Q1271.48 1530.04 1271.03 1535.07 L1291.91 1535.04 Z\" fill=\"#000000\" fill-rule=\"evenodd\" fill-opacity=\"1\" /><path clip-path=\"url(#clip500)\" d=\"M 0 0 M1324.57 1525.87 Q1323.58 1525.3 1322.4 1525.04 Q1321.26 1524.76 1319.86 1524.76 Q1314.89 1524.76 1312.22 1528 Q1309.57 1531.22 1309.57 1537.27 L1309.57 1556.04 L1303.69 1556.04 L1303.69 1520.4 L1309.57 1520.4 L1309.57 1525.93 Q1311.42 1522.69 1314.38 1521.13 Q1317.34 1519.54 1321.57 1519.54 Q1322.18 1519.54 1322.91 1519.63 Q1323.64 1519.7 1324.53 1519.85 L1324.57 1525.87 Z\" fill=\"#000000\" fill-rule=\"evenodd\" fill-opacity=\"1\" /><path clip-path=\"url(#clip500)\" d=\"M 0 0 M1353.43 1521.45 L1353.43 1526.98 Q1350.95 1525.71 1348.28 1525.07 Q1345.6 1524.44 1342.74 1524.44 Q1338.38 1524.44 1336.18 1525.77 Q1334.02 1527.11 1334.02 1529.79 Q1334.02 1531.82 1335.58 1533 Q1337.14 1534.15 1341.85 1535.2 L1343.85 1535.64 Q1350.09 1536.98 1352.7 1539.43 Q1355.34 1541.85 1355.34 1546.21 Q1355.34 1551.17 1351.4 1554.07 Q1347.48 1556.97 1340.61 1556.97 Q1337.74 1556.97 1334.62 1556.39 Q1331.54 1555.85 1328.1 1554.74 L1328.1 1548.69 Q1331.35 1550.38 1334.5 1551.24 Q1337.65 1552.07 1340.73 1552.07 Q1344.87 1552.07 1347.1 1550.66 Q1349.33 1549.23 1349.33 1546.65 Q1349.33 1544.27 1347.71 1542.99 Q1346.11 1541.72 1340.67 1540.54 L1338.63 1540.07 Q1333.19 1538.92 1330.77 1536.56 Q1328.35 1534.18 1328.35 1530.04 Q1328.35 1525.01 1331.92 1522.27 Q1335.48 1519.54 1342.04 1519.54 Q1345.29 1519.54 1348.15 1520.01 Q1351.02 1520.49 1353.43 1521.45 Z\" fill=\"#000000\" fill-rule=\"evenodd\" fill-opacity=\"1\" /><path clip-path=\"url(#clip500)\" d=\"M 0 0 M53.7248 1049.74 L59.1993 1049.74 Q57.8307 1052.22 57.1623 1054.74 Q56.4621 1057.22 56.4621 1059.77 Q56.4621 1065.46 60.0905 1068.62 Q63.6872 1071.77 70.212 1071.77 Q76.7369 1071.77 80.3653 1068.62 Q83.9619 1065.46 83.9619 1059.77 Q83.9619 1057.22 83.2935 1054.74 Q82.5933 1052.22 81.2247 1049.74 L86.6355 1049.74 Q87.7814 1052.19 88.3543 1054.83 Q88.9272 1057.44 88.9272 1060.4 Q88.9272 1068.46 83.8664 1073.2 Q78.8057 1077.94 70.212 1077.94 Q61.491 1077.94 56.4939 1073.17 Q51.4968 1068.36 51.4968 1060.02 Q51.4968 1057.32 52.0697 1054.74 Q52.6108 1052.16 53.7248 1049.74 Z\" fill=\"#000000\" fill-rule=\"evenodd\" fill-opacity=\"1\" /><path clip-path=\"url(#clip500)\" d=\"M 0 0 M73.9359 1044.2 L52.3562 1044.2 L52.3562 1038.35 L73.7131 1038.35 Q78.7739 1038.35 81.3202 1036.37 Q83.8346 1034.4 83.8346 1030.45 Q83.8346 1025.71 80.8109 1022.97 Q77.7872 1020.2 72.5673 1020.2 L52.3562 1020.2 L52.3562 1014.35 L88.0042 1014.35 L88.0042 1020.2 L82.5296 1020.2 Q85.7762 1022.34 87.3676 1025.17 Q88.9272 1027.97 88.9272 1031.69 Q88.9272 1037.84 85.1078 1041.02 Q81.2883 1044.2 73.9359 1044.2 M51.4968 1029.47 L51.4968 1029.47 Z\" fill=\"#000000\" fill-rule=\"evenodd\" fill-opacity=\"1\" /><path clip-path=\"url(#clip500)\" d=\"M 0 0 M57.8307 987.548 Q57.2578 988.535 57.0032 989.712 Q56.7167 990.858 56.7167 992.259 Q56.7167 997.224 59.9632 999.897 Q63.1779 1002.54 69.2253 1002.54 L88.0042 1002.54 L88.0042 1008.43 L52.3562 1008.43 L52.3562 1002.54 L57.8944 1002.54 Q54.6479 1000.69 53.0883 997.733 Q51.4968 994.773 51.4968 990.54 Q51.4968 989.935 51.5923 989.203 Q51.656 988.471 51.8151 987.58 L57.8307 987.548 Z\" fill=\"#000000\" fill-rule=\"evenodd\" fill-opacity=\"1\" /><path clip-path=\"url(#clip500)\" d=\"M 0 0 M57.8307 961.894 Q57.2578 962.881 57.0032 964.058 Q56.7167 965.204 56.7167 966.605 Q56.7167 971.57 59.9632 974.244 Q63.1779 976.885 69.2253 976.885 L88.0042 976.885 L88.0042 982.774 L52.3562 982.774 L52.3562 976.885 L57.8944 976.885 Q54.6479 975.039 53.0883 972.079 Q51.4968 969.119 51.4968 964.886 Q51.4968 964.281 51.5923 963.549 Q51.656 962.817 51.8151 961.926 L57.8307 961.894 Z\" fill=\"#000000\" fill-rule=\"evenodd\" fill-opacity=\"1\" /><path clip-path=\"url(#clip500)\" d=\"M 0 0 M52.3562 955.751 L52.3562 949.895 L88.0042 949.895 L88.0042 955.751 L52.3562 955.751 M38.479 955.751 L38.479 949.895 L45.895 949.895 L45.895 955.751 L38.479 955.751 Z\" fill=\"#000000\" fill-rule=\"evenodd\" fill-opacity=\"1\" /><path clip-path=\"url(#clip500)\" d=\"M 0 0 M53.7248 918.098 L59.1993 918.098 Q57.8307 920.581 57.1623 923.095 Q56.4621 925.578 56.4621 928.124 Q56.4621 933.821 60.0905 936.972 Q63.6872 940.123 70.212 940.123 Q76.7369 940.123 80.3653 936.972 Q83.9619 933.821 83.9619 928.124 Q83.9619 925.578 83.2935 923.095 Q82.5933 920.581 81.2247 918.098 L86.6355 918.098 Q87.7814 920.549 88.3543 923.191 Q88.9272 925.801 88.9272 928.761 Q88.9272 936.813 83.8664 941.556 Q78.8057 946.298 70.212 946.298 Q61.491 946.298 56.4939 941.524 Q51.4968 936.718 51.4968 928.379 Q51.4968 925.673 52.0697 923.095 Q52.6108 920.517 53.7248 918.098 Z\" fill=\"#000000\" fill-rule=\"evenodd\" fill-opacity=\"1\" /><path clip-path=\"url(#clip500)\" d=\"M 0 0 M73.9359 912.56 L52.3562 912.56 L52.3562 906.703 L73.7131 906.703 Q78.7739 906.703 81.3202 904.73 Q83.8346 902.757 83.8346 898.81 Q83.8346 894.068 80.8109 891.33 Q77.7872 888.561 72.5673 888.561 L52.3562 888.561 L52.3562 882.705 L88.0042 882.705 L88.0042 888.561 L82.5296 888.561 Q85.7762 890.694 87.3676 893.526 Q88.9272 896.327 88.9272 900.051 Q88.9272 906.194 85.1078 909.377 Q81.2883 912.56 73.9359 912.56 M51.4968 897.823 L51.4968 897.823 Z\" fill=\"#000000\" fill-rule=\"evenodd\" fill-opacity=\"1\" /><path clip-path=\"url(#clip500)\" d=\"M 0 0 M38.479 876.562 L38.479 870.705 L88.0042 870.705 L88.0042 876.562 L38.479 876.562 Z\" fill=\"#000000\" fill-rule=\"evenodd\" fill-opacity=\"1\" /><path clip-path=\"url(#clip500)\" d=\"M 0 0 M70.0847 848.362 Q70.0847 855.46 71.7079 858.197 Q73.3312 860.934 77.2461 860.934 Q80.3653 860.934 82.2114 858.897 Q84.0256 856.828 84.0256 853.295 Q84.0256 848.425 80.5881 845.497 Q77.1188 842.537 71.3897 842.537 L70.0847 842.537 L70.0847 848.362 M67.6657 836.681 L88.0042 836.681 L88.0042 842.537 L82.5933 842.537 Q85.8398 844.542 87.3994 847.534 Q88.9272 850.526 88.9272 854.855 Q88.9272 860.329 85.8716 863.576 Q82.7843 866.79 77.6281 866.79 Q71.6125 866.79 68.5569 862.78 Q65.5014 858.738 65.5014 850.749 L65.5014 842.537 L64.9285 842.537 Q60.8862 842.537 58.6901 845.211 Q56.4621 847.852 56.4621 852.659 Q56.4621 855.714 57.1941 858.611 Q57.9262 861.507 59.3903 864.181 L53.9795 864.181 Q52.7381 860.966 52.1334 857.942 Q51.4968 854.918 51.4968 852.054 Q51.4968 844.32 55.5072 840.5 Q59.5176 836.681 67.6657 836.681 Z\" fill=\"#000000\" fill-rule=\"evenodd\" fill-opacity=\"1\" /><path clip-path=\"url(#clip500)\" d=\"M 0 0 M57.8307 809.881 Q57.2578 810.868 57.0032 812.045 Q56.7167 813.191 56.7167 814.592 Q56.7167 819.557 59.9632 822.231 Q63.1779 824.872 69.2253 824.872 L88.0042 824.872 L88.0042 830.761 L52.3562 830.761 L52.3562 824.872 L57.8944 824.872 Q54.6479 823.026 53.0883 820.066 Q51.4968 817.106 51.4968 812.873 Q51.4968 812.268 51.5923 811.536 Q51.656 810.804 51.8151 809.913 L57.8307 809.881 Z\" fill=\"#000000\" fill-rule=\"evenodd\" fill-opacity=\"1\" /><path clip-path=\"url(#clip500)\" d=\"M 0 0 M53.7248 757.364 L59.1993 757.364 Q57.8307 759.847 57.1623 762.361 Q56.4621 764.844 56.4621 767.39 Q56.4621 773.087 60.0905 776.238 Q63.6872 779.389 70.212 779.389 Q76.7369 779.389 80.3653 776.238 Q83.9619 773.087 83.9619 767.39 Q83.9619 764.844 83.2935 762.361 Q82.5933 759.847 81.2247 757.364 L86.6355 757.364 Q87.7814 759.815 88.3543 762.457 Q88.9272 765.066 88.9272 768.027 Q88.9272 776.079 83.8664 780.822 Q78.8057 785.564 70.212 785.564 Q61.491 785.564 56.4939 780.79 Q51.4968 775.984 51.4968 767.645 Q51.4968 764.939 52.0697 762.361 Q52.6108 759.783 53.7248 757.364 Z\" fill=\"#000000\" fill-rule=\"evenodd\" fill-opacity=\"1\" /><path clip-path=\"url(#clip500)\" d=\"M 0 0 M56.4621 737.407 Q56.4621 742.118 60.1542 744.855 Q63.8145 747.593 70.212 747.593 Q76.6095 747.593 80.3017 744.887 Q83.9619 742.15 83.9619 737.407 Q83.9619 732.729 80.2698 729.991 Q76.5777 727.254 70.212 727.254 Q63.8781 727.254 60.186 729.991 Q56.4621 732.729 56.4621 737.407 M51.4968 737.407 Q51.4968 729.769 56.4621 725.408 Q61.4273 721.048 70.212 721.048 Q78.9649 721.048 83.9619 725.408 Q88.9272 729.769 88.9272 737.407 Q88.9272 745.078 83.9619 749.439 Q78.9649 753.767 70.212 753.767 Q61.4273 753.767 56.4621 749.439 Q51.4968 745.078 51.4968 737.407 Z\" fill=\"#000000\" fill-rule=\"evenodd\" fill-opacity=\"1\" /><path clip-path=\"url(#clip500)\" d=\"M 0 0 M59.1993 687.15 Q55.2526 684.954 53.3747 681.899 Q51.4968 678.843 51.4968 674.705 Q51.4968 669.135 55.4117 666.112 Q59.2948 663.088 66.4881 663.088 L88.0042 663.088 L88.0042 668.976 L66.679 668.976 Q61.5546 668.976 59.072 670.79 Q56.5894 672.605 56.5894 676.329 Q56.5894 680.88 59.6131 683.522 Q62.6368 686.164 67.8567 686.164 L88.0042 686.164 L88.0042 692.052 L66.679 692.052 Q61.5228 692.052 59.072 693.866 Q56.5894 695.68 56.5894 699.468 Q56.5894 703.956 59.6449 706.597 Q62.6686 709.239 67.8567 709.239 L88.0042 709.239 L88.0042 715.128 L52.3562 715.128 L52.3562 709.239 L57.8944 709.239 Q54.616 707.234 53.0564 704.433 Q51.4968 701.632 51.4968 697.781 Q51.4968 693.898 53.4702 691.192 Q55.4436 688.455 59.1993 687.15 Z\" fill=\"#000000\" fill-rule=\"evenodd\" fill-opacity=\"1\" /><path clip-path=\"url(#clip500)\" d=\"M 0 0 M82.657 651.279 L101.563 651.279 L101.563 657.168 L52.3562 657.168 L52.3562 651.279 L57.7671 651.279 Q54.5842 649.433 53.0564 646.633 Q51.4968 643.8 51.4968 639.885 Q51.4968 633.392 56.6531 629.35 Q61.8093 625.276 70.212 625.276 Q78.6147 625.276 83.771 629.35 Q88.9272 633.392 88.9272 639.885 Q88.9272 643.8 87.3994 646.633 Q85.8398 649.433 82.657 651.279 M70.212 631.355 Q63.7508 631.355 60.0905 634.028 Q56.3984 636.67 56.3984 641.317 Q56.3984 645.964 60.0905 648.638 Q63.7508 651.279 70.212 651.279 Q76.6732 651.279 80.3653 648.638 Q84.0256 645.964 84.0256 641.317 Q84.0256 636.67 80.3653 634.028 Q76.6732 631.355 70.212 631.355 Z\" fill=\"#000000\" fill-rule=\"evenodd\" fill-opacity=\"1\" /><path clip-path=\"url(#clip500)\" d=\"M 0 0 M38.479 619.133 L38.479 613.276 L88.0042 613.276 L88.0042 619.133 L38.479 619.133 Z\" fill=\"#000000\" fill-rule=\"evenodd\" fill-opacity=\"1\" /><path clip-path=\"url(#clip500)\" d=\"M 0 0 M68.7161 576.642 L71.5806 576.642 L71.5806 603.569 Q77.6281 603.187 80.8109 599.94 Q83.9619 596.662 83.9619 590.837 Q83.9619 587.463 83.1344 584.312 Q82.3069 581.129 80.6518 578.01 L86.1899 578.01 Q87.5267 581.161 88.227 584.471 Q88.9272 587.782 88.9272 591.187 Q88.9272 599.717 83.9619 604.714 Q78.9967 609.68 70.5303 609.68 Q61.7774 609.68 56.6531 604.969 Q51.4968 600.227 51.4968 592.206 Q51.4968 585.012 56.1438 580.843 Q60.7589 576.642 68.7161 576.642 M66.9973 582.498 Q62.1912 582.562 59.3266 585.203 Q56.4621 587.813 56.4621 592.142 Q56.4621 597.044 59.2312 600.004 Q62.0002 602.932 67.0292 603.378 L66.9973 582.498 Z\" fill=\"#000000\" fill-rule=\"evenodd\" fill-opacity=\"1\" /><path clip-path=\"url(#clip500)\" d=\"M 0 0 M52.3562 542.012 L69.7028 554.903 L88.0042 541.344 L88.0042 548.251 L73.9996 558.627 L88.0042 569.003 L88.0042 575.91 L69.3526 562.064 L52.3562 574.732 L52.3562 567.825 L65.0558 558.372 L52.3562 548.919 L52.3562 542.012 Z\" fill=\"#000000\" fill-rule=\"evenodd\" fill-opacity=\"1\" /><path clip-path=\"url(#clip500)\" d=\"M 0 0 M52.3562 535.201 L52.3562 529.344 L88.0042 529.344 L88.0042 535.201 L52.3562 535.201 M38.479 535.201 L38.479 529.344 L45.895 529.344 L45.895 535.201 L38.479 535.201 Z\" fill=\"#000000\" fill-rule=\"evenodd\" fill-opacity=\"1\" /><path clip-path=\"url(#clip500)\" d=\"M 0 0 M42.2347 517.409 L52.3562 517.409 L52.3562 505.346 L56.9077 505.346 L56.9077 517.409 L76.2594 517.409 Q80.6199 517.409 81.8613 516.231 Q83.1026 515.022 83.1026 511.361 L83.1026 505.346 L88.0042 505.346 L88.0042 511.361 Q88.0042 518.141 85.4897 520.719 Q82.9434 523.297 76.2594 523.297 L56.9077 523.297 L56.9077 527.594 L52.3562 527.594 L52.3562 523.297 L42.2347 523.297 L42.2347 517.409 Z\" fill=\"#000000\" fill-rule=\"evenodd\" fill-opacity=\"1\" /><path clip-path=\"url(#clip500)\" d=\"M 0 0 M91.3143 484.371 Q97.68 486.853 99.6216 489.209 Q101.563 491.564 101.563 495.511 L101.563 500.189 L96.6615 500.189 L96.6615 496.752 Q96.6615 494.333 95.5157 492.996 Q94.3699 491.659 90.1048 490.036 L87.4312 488.986 L52.3562 503.404 L52.3562 497.198 L80.238 486.058 L52.3562 474.918 L52.3562 468.711 L91.3143 484.371 Z\" fill=\"#000000\" fill-rule=\"evenodd\" fill-opacity=\"1\" /><path clip-path=\"url(#clip502)\" d=\"\n",
       "M512.132 1386.4 L289.566 1386.4 L734.698 1386.4 L512.132 1386.4 L512.132 1185.79 L512.132 1386.4  Z\n",
       "  \" fill=\"#1874cd\" fill-rule=\"evenodd\" fill-opacity=\"0.7\"/>\n",
       "<polyline clip-path=\"url(#clip502)\" style=\"stroke:#000000; stroke-width:4; stroke-opacity:0.7; fill:none\" points=\"\n",
       "  512.132,1386.4 289.566,1386.4 734.698,1386.4 512.132,1386.4 512.132,1185.79 512.132,1386.4 \n",
       "  \"/>\n",
       "<path clip-path=\"url(#clip502)\" d=\"\n",
       "M289.566 1185.79 L289.566 1067.34 L734.698 1067.34 L734.698 1185.79 L289.566 1185.79 L289.566 1185.79  Z\n",
       "  \" fill=\"#1874cd\" fill-rule=\"evenodd\" fill-opacity=\"0.7\"/>\n",
       "<polyline clip-path=\"url(#clip502)\" style=\"stroke:#000000; stroke-width:4; stroke-opacity:0.7; fill:none\" points=\"\n",
       "  289.566,1185.79 289.566,1067.34 734.698,1067.34 734.698,1185.79 289.566,1185.79 \n",
       "  \"/>\n",
       "<path clip-path=\"url(#clip502)\" d=\"\n",
       "M289.566 878.397 L289.566 1067.34 L734.698 1067.34 L734.698 878.397 L289.566 878.397 L289.566 878.397  Z\n",
       "  \" fill=\"#1874cd\" fill-rule=\"evenodd\" fill-opacity=\"0.7\"/>\n",
       "<polyline clip-path=\"url(#clip502)\" style=\"stroke:#000000; stroke-width:4; stroke-opacity:0.7; fill:none\" points=\"\n",
       "  289.566,878.397 289.566,1067.34 734.698,1067.34 734.698,878.397 289.566,878.397 \n",
       "  \"/>\n",
       "<path clip-path=\"url(#clip502)\" d=\"\n",
       "M512.132 451.753 L289.566 451.753 L734.698 451.753 L512.132 451.753 L512.132 878.397 L512.132 451.753  Z\n",
       "  \" fill=\"#1874cd\" fill-rule=\"evenodd\" fill-opacity=\"0.7\"/>\n",
       "<polyline clip-path=\"url(#clip502)\" style=\"stroke:#000000; stroke-width:4; stroke-opacity:0.7; fill:none\" points=\"\n",
       "  512.132,451.753 289.566,451.753 734.698,451.753 512.132,451.753 512.132,878.397 512.132,451.753 \n",
       "  \"/>\n",
       "<circle clip-path=\"url(#clip502)\" cx=\"1291.11\" cy=\"406.703\" r=\"14\" fill=\"#1874cd\" fill-rule=\"evenodd\" fill-opacity=\"0.7\" stroke=\"#000000\" stroke-opacity=\"0.7\" stroke-width=\"3.2\"/>\n",
       "<circle clip-path=\"url(#clip502)\" cx=\"1291.11\" cy=\"351.054\" r=\"14\" fill=\"#1874cd\" fill-rule=\"evenodd\" fill-opacity=\"0.7\" stroke=\"#000000\" stroke-opacity=\"0.7\" stroke-width=\"3.2\"/>\n",
       "<circle clip-path=\"url(#clip502)\" cx=\"1291.11\" cy=\"160.256\" r=\"14\" fill=\"#1874cd\" fill-rule=\"evenodd\" fill-opacity=\"0.7\" stroke=\"#000000\" stroke-opacity=\"0.7\" stroke-width=\"3.2\"/>\n",
       "<path clip-path=\"url(#clip502)\" d=\"\n",
       "M1291.11 1079.79 L1068.55 1079.79 L1513.68 1079.79 L1291.11 1079.79 L1291.11 899.597 L1291.11 1079.79  Z\n",
       "  \" fill=\"#1874cd\" fill-rule=\"evenodd\" fill-opacity=\"0.7\"/>\n",
       "<polyline clip-path=\"url(#clip502)\" style=\"stroke:#000000; stroke-width:4; stroke-opacity:0.7; fill:none\" points=\"\n",
       "  1291.11,1079.79 1068.55,1079.79 1513.68,1079.79 1291.11,1079.79 1291.11,899.597 1291.11,1079.79 \n",
       "  \"/>\n",
       "<path clip-path=\"url(#clip502)\" d=\"\n",
       "M1068.55 899.597 L1068.55 769.749 L1513.68 769.749 L1513.68 899.597 L1068.55 899.597 L1068.55 899.597  Z\n",
       "  \" fill=\"#1874cd\" fill-rule=\"evenodd\" fill-opacity=\"0.7\"/>\n",
       "<polyline clip-path=\"url(#clip502)\" style=\"stroke:#000000; stroke-width:4; stroke-opacity:0.7; fill:none\" points=\"\n",
       "  1068.55,899.597 1068.55,769.749 1513.68,769.749 1513.68,899.597 1068.55,899.597 \n",
       "  \"/>\n",
       "<path clip-path=\"url(#clip502)\" d=\"\n",
       "M1068.55 708.799 L1068.55 769.749 L1513.68 769.749 L1513.68 708.799 L1068.55 708.799 L1068.55 708.799  Z\n",
       "  \" fill=\"#1874cd\" fill-rule=\"evenodd\" fill-opacity=\"0.7\"/>\n",
       "<polyline clip-path=\"url(#clip502)\" style=\"stroke:#000000; stroke-width:4; stroke-opacity:0.7; fill:none\" points=\"\n",
       "  1068.55,708.799 1068.55,769.749 1513.68,769.749 1513.68,708.799 1068.55,708.799 \n",
       "  \"/>\n",
       "<path clip-path=\"url(#clip502)\" d=\"\n",
       "M1291.11 634.6 L1068.55 634.6 L1513.68 634.6 L1291.11 634.6 L1291.11 708.799 L1291.11 634.6  Z\n",
       "  \" fill=\"#1874cd\" fill-rule=\"evenodd\" fill-opacity=\"0.7\"/>\n",
       "<polyline clip-path=\"url(#clip502)\" style=\"stroke:#000000; stroke-width:4; stroke-opacity:0.7; fill:none\" points=\"\n",
       "  1291.11,634.6 1068.55,634.6 1513.68,634.6 1291.11,634.6 1291.11,708.799 1291.11,634.6 \n",
       "  \"/>\n",
       "<circle clip-path=\"url(#clip502)\" cx=\"2070.1\" cy=\"1095.69\" r=\"14\" fill=\"#1874cd\" fill-rule=\"evenodd\" fill-opacity=\"0.7\" stroke=\"#000000\" stroke-opacity=\"0.7\" stroke-width=\"3.2\"/>\n",
       "<path clip-path=\"url(#clip502)\" d=\"\n",
       "M2070.1 891.647 L1847.53 891.647 L2292.66 891.647 L2070.1 891.647 L2070.1 732.649 L2070.1 891.647  Z\n",
       "  \" fill=\"#1874cd\" fill-rule=\"evenodd\" fill-opacity=\"0.7\"/>\n",
       "<polyline clip-path=\"url(#clip502)\" style=\"stroke:#000000; stroke-width:4; stroke-opacity:0.7; fill:none\" points=\"\n",
       "  2070.1,891.647 1847.53,891.647 2292.66,891.647 2070.1,891.647 2070.1,732.649 2070.1,891.647 \n",
       "  \"/>\n",
       "<path clip-path=\"url(#clip502)\" d=\"\n",
       "M1847.53 732.649 L1847.53 602.801 L2292.66 602.801 L2292.66 732.649 L1847.53 732.649 L1847.53 732.649  Z\n",
       "  \" fill=\"#1874cd\" fill-rule=\"evenodd\" fill-opacity=\"0.7\"/>\n",
       "<polyline clip-path=\"url(#clip502)\" style=\"stroke:#000000; stroke-width:4; stroke-opacity:0.7; fill:none\" points=\"\n",
       "  1847.53,732.649 1847.53,602.801 2292.66,602.801 2292.66,732.649 1847.53,732.649 \n",
       "  \"/>\n",
       "<path clip-path=\"url(#clip502)\" d=\"\n",
       "M1847.53 494.152 L1847.53 602.801 L2292.66 602.801 L2292.66 494.152 L1847.53 494.152 L1847.53 494.152  Z\n",
       "  \" fill=\"#1874cd\" fill-rule=\"evenodd\" fill-opacity=\"0.7\"/>\n",
       "<polyline clip-path=\"url(#clip502)\" style=\"stroke:#000000; stroke-width:4; stroke-opacity:0.7; fill:none\" points=\"\n",
       "  1847.53,494.152 1847.53,602.801 2292.66,602.801 2292.66,494.152 1847.53,494.152 \n",
       "  \"/>\n",
       "<path clip-path=\"url(#clip502)\" d=\"\n",
       "M2070.1 213.256 L1847.53 213.256 L2292.66 213.256 L2070.1 213.256 L2070.1 494.152 L2070.1 213.256  Z\n",
       "  \" fill=\"#1874cd\" fill-rule=\"evenodd\" fill-opacity=\"0.7\"/>\n",
       "<polyline clip-path=\"url(#clip502)\" style=\"stroke:#000000; stroke-width:4; stroke-opacity:0.7; fill:none\" points=\"\n",
       "  2070.1,213.256 1847.53,213.256 2292.66,213.256 2070.1,213.256 2070.1,494.152 2070.1,213.256 \n",
       "  \"/>\n",
       "</svg>\n"
      ]
     },
     "execution_count": 45,
     "metadata": {},
     "output_type": "execute_result"
    }
   ],
   "source": [
    "metric_boxplot([\"top\" \"middle\" \"bottom\"], [top_tier, middle_tier, bottom_tier], \"complexity\", \n",
    "    title=\"Electrical Engineering Programs\", xlabel=\"tiers\", ylabel=\"curricular complexity\")"
   ]
  },
  {
   "cell_type": "markdown",
   "metadata": {},
   "source": [
    "## ANOVA Analysis\n",
    "\n",
    "The ANOVA analysis involves random sampling of schools within each of the three tiers. In order to ensure the analysis is able to distinguish between actual curricular complexity differences among the tiers, and random variation, sufficient sample sizes must be determined. Under the assumption that the curricular complexity distributions within the tiers are approximately normal, with variance $\\sigma^2$, the number of samples that should be selected from each tier is given by\n",
    "\\begin{equation}\n",
    " n = \\left({\\sigma Z \\over E}\\right)^2,\n",
    "\\end{equation}\n",
    "where $Z$ is the confidence interval expressed using deviation within the standard normal distribution, and $E$ is the margin of error. To obtain an estimate of $\\sigma$, pilot samples from each of the three tiers were taken, yielding the estimate $\\hat{\\sigma} = 90$. For a 95\\% confidence interval, which corresponds to $Z = 1.96$, the margin of error will be 40 curricular complexity points, i.e., 20 points on either side of the mean for a tier. Using these values in the equation provided above leads to sample sizes of $n_1 = n_2 = n_3 = 20$, where $n_1, n_2$ and $n_3$ are the sample sizes for the top, medium and bottom tiers, respectively. Thus, by sampling at least 20 schools from each tier, we can have 95\\% confidence that the error in this analysis will be by no more than 40 curricular complexity points.\n",
    "\n",
    "In order to test the null hypothesis using ANOVA, we must assume the curricular complexity values of the schools within each tier are normally distributed, and that all three tiers have the same variance $\\sigma^2$. It should be noted that these conditions can be moderately relaxed (particularly the normality assumption) and the analysis will remain valid \\cite{MeScWa:81}. \n",
    "\n",
    "The ANOVA method partitions the total sum of squares of the deviations in curricular complexity across all schools into two independent parts, one that is attributed to the independent variable (program quality in this case), and a remainder that is attributed to random errors arising from other factors not accounted for in this experiment. That is,\n",
    "\\begin{equation}\n",
    " TSS = SST + SSE,\n",
    "\\end{equation}\n",
    "where $TSS$ denotes the total sum of squares of deviations, $SST$ represents the sum of squares of the deviations between the tiers, and SSE is the sum of squares attributed to errors or noise. More specifically, if we let $cc_{ij}$ denote the curricular complexity of the $j$\\nth school sampled from the $i$-th tier, then\n",
    "\\begin{equation}\n",
    " TSS = \\sum_{i=1}^3 \\sum_{j=1}^{n_i} \\left(cc_{ij} - \\overline{cc}\\right)^2,\n",
    "\\end{equation}\n",
    "where $\\overline{cc}$ is the sample mean for all samples drawn over all tiers.  The sum of squares deviation between the tiers is given by \n",
    "\\begin{equation}\n",
    " SST = \\sum_{i=1}^3 n_i\\left(\\overline{T}_i - \\overline{cc}\\right)^2,\n",
    "\\end{equation}\n",
    "where $T_i$ is the total curricular complexity of the schools sampled from the $i$-th tier, and $\\overline{T}_i = T_i/n_i, i = 1,2,3$, are the tier sample averages.\n",
    "Note that when the sample means for the three tiers are the same, $SST=0$.\n",
    "\n",
    "Substituting the TSS and SST equations provided above into $TSS = SST + SSE$, and solving for $SSE$ yields:\n",
    "\\begin{equation}\n",
    " SSE = {\\sum_{i=1}^3 \\sum_{j=1}^{n_i} \\left(cc_{ij} - \\bar{T}_i\\right)^2}.\n",
    "\\end{equation}\n",
    "\n",
    "The unbiased estimator of $\\sigma^2$ based on $n - 3$ degrees of freedom is given by the mean square error,\n",
    "\\begin{equation}\n",
    " MSE = {SSE \\over n - 3},\n",
    "\\end{equation}\n",
    "where $n = n_1 + n_2 + n_3$.\n",
    "\n",
    "The mean square for the tiers has 2 degrees of freedom, i.e., one less than the number of tiers, and is therefore\n",
    "\\begin{equation}\n",
    " MST = {SST \\over 2}. \n",
    "\\end{equation}\n",
    "\n",
    "In order to assess the statistical significance of a decision to reject the null hypothesis, an $F$-test is conducted to compare the deviation among the tier variances.  The $F$-test statistic is given by\n",
    "\\[\n",
    " F = {MST \\over MSE}.\n",
    "\\] \n",
    "Note that the $F$-test is a ratio that compares the mean square variability between the tiers to the mean square variability within the tiers. Thus, as $F$-test values increase above $1$, the data are increasingly inconsistent with the null hypothesis, and the null hypothesis should be rejected when $F > F_{\\alpha}$,\n",
    "where $F_{\\alpha}$ is the critical value of $F$ where the probability of a type I error is $\\alpha$.\n",
    "\n",
    "For the $F$ distribution with $(2, 65)$ degrees of freedom, $F_{0.05} = 3.15$.  That is, if the $F$-test for the experiment yields a value greater than $3.15$, we can reject the null hypothesis with only a 5\\% chance of doing so in error."
   ]
  },
  {
   "cell_type": "markdown",
   "metadata": {},
   "source": [
    "Let $n_1, n_2$ and $n_3$ be the sample sizes drawn from top, medium and low tier schools, respectively, with $n = n_1 + n_2 + n_3$."
   ]
  },
  {
   "cell_type": "code",
   "execution_count": 46,
   "metadata": {},
   "outputs": [],
   "source": [
    "n_1 = length(top_tier)\n",
    "n_2 = length(middle_tier)\n",
    "n_3 = length(bottom_tier)\n",
    "\n",
    "n = n_1 + n_2 +n_3;"
   ]
  },
  {
   "cell_type": "markdown",
   "metadata": {},
   "source": [
    "Compute the TSS:\n",
    "\n",
    "\\begin{equation}\n",
    " TSS = \\sum_{i=1}^3 \\sum_{j=1}^{n_i} \\left(cc_{ij} - \\overline{cc}\\right)^2\n",
    "\\end{equation}\n",
    "\n"
   ]
  },
  {
   "cell_type": "code",
   "execution_count": 47,
   "metadata": {},
   "outputs": [
    {
     "data": {
      "text/plain": [
       "697589.6"
      ]
     },
     "execution_count": 47,
     "metadata": {},
     "output_type": "execute_result"
    }
   ],
   "source": [
    "cc_bar = (top_tier_total_cc + middle_tier_total_cc + bottom_tier_total_cc) / n \n",
    "TSS = 0.0\n",
    "for curric in values(top_tier)\n",
    "    cc_ij = curric.metrics[\"complexity\"][1]\n",
    "    TSS += (cc_ij - cc_bar)^2\n",
    "end\n",
    "for curric in values(middle_tier)\n",
    "    cc_ij = curric.metrics[\"complexity\"][1]\n",
    "    TSS += (cc_ij - cc_bar)^2\n",
    "end\n",
    "for curric in values(bottom_tier)\n",
    "    cc_ij = curric.metrics[\"complexity\"][1]\n",
    "    TSS += (cc_ij - cc_bar)^2\n",
    "end\n",
    "TSS = round(TSS, digits=2)"
   ]
  },
  {
   "cell_type": "markdown",
   "metadata": {},
   "source": [
    "Compute the SST:\n",
    "\n",
    "\\begin{equation}\n",
    " SST = \\sum_{i=1}^3 n_i\\left(\\overline{T}_i - \\overline{cc}\\right)^2\n",
    "\\end{equation}"
   ]
  },
  {
   "cell_type": "code",
   "execution_count": 48,
   "metadata": {},
   "outputs": [
    {
     "data": {
      "text/plain": [
       "253458.77"
      ]
     },
     "execution_count": 48,
     "metadata": {},
     "output_type": "execute_result"
    }
   ],
   "source": [
    "SST = round(n_1 * (top_tier_avg_cc - cc_bar)^2 + \n",
    "            n_2 * (middle_tier_avg_cc - cc_bar)^2 + \n",
    "            n_3 * (bottom_tier_avg_cc - cc_bar)^2, digits=2)"
   ]
  },
  {
   "cell_type": "markdown",
   "metadata": {},
   "source": [
    "Compute the SSE: \n",
    "\\begin{equation}\n",
    " SSE = {\\sum_{i=1}^3 \\sum_{j=1}^{n_i} \\left(cc_{ij} - \\bar{T}_i\\right)^2}\n",
    "\\end{equation}"
   ]
  },
  {
   "cell_type": "code",
   "execution_count": 49,
   "metadata": {},
   "outputs": [
    {
     "name": "stdout",
     "output_type": "stream",
     "text": [
      "253458.77\n",
      "444134.21\n",
      "697592.98\n"
     ]
    }
   ],
   "source": [
    "SSE = 0.0\n",
    "for curric in values(top_tier)\n",
    "    cc_ij = curric.metrics[\"complexity\"][1]\n",
    "    SSE += (cc_ij - top_tier_avg_cc)^2\n",
    "end\n",
    "for curric in values(middle_tier)\n",
    "    cc_ij = curric.metrics[\"complexity\"][1]\n",
    "    SSE += (cc_ij - middle_tier_avg_cc)^2\n",
    "end\n",
    "for curric in values(bottom_tier)\n",
    "    cc_ij = curric.metrics[\"complexity\"][1]\n",
    "    SSE += (cc_ij - bottom_tier_avg_cc)^2\n",
    "end\n",
    "SSE = round(SSE, digits=2)\n",
    "println(SST)\n",
    "println(SSE)\n",
    "println(SST+SSE)"
   ]
  },
  {
   "cell_type": "markdown",
   "metadata": {},
   "source": [
    "\\begin{equation}\n",
    " MSE = {SSE \\over n - 3}\n",
    "\\end{equation}"
   ]
  },
  {
   "cell_type": "code",
   "execution_count": 50,
   "metadata": {},
   "outputs": [
    {
     "data": {
      "text/plain": [
       "7402.24"
      ]
     },
     "execution_count": 50,
     "metadata": {},
     "output_type": "execute_result"
    }
   ],
   "source": [
    "MSE = round(SSE/(n-3), digits=2)"
   ]
  },
  {
   "cell_type": "markdown",
   "metadata": {},
   "source": [
    "\\begin{equation}\n",
    " MST = {SST \\over 2}\n",
    "\\end{equation}"
   ]
  },
  {
   "cell_type": "code",
   "execution_count": 51,
   "metadata": {},
   "outputs": [
    {
     "data": {
      "text/plain": [
       "126729.38"
      ]
     },
     "execution_count": 51,
     "metadata": {},
     "output_type": "execute_result"
    }
   ],
   "source": [
    "MST = round(SST/2, digits=2)"
   ]
  },
  {
   "cell_type": "markdown",
   "metadata": {},
   "source": [
    "The $F$-test statistic is given by\n",
    "\\begin{equation}\n",
    "F = {MST \\over MSE}\n",
    "\\end{equation}"
   ]
  },
  {
   "cell_type": "code",
   "execution_count": 52,
   "metadata": {},
   "outputs": [
    {
     "data": {
      "text/plain": [
       "17.12"
      ]
     },
     "execution_count": 52,
     "metadata": {},
     "output_type": "execute_result"
    }
   ],
   "source": [
    "F = round(MST/MSE, digits=2)"
   ]
  },
  {
   "cell_type": "markdown",
   "metadata": {},
   "source": [
    "The results of the ANOVA analysis associated with the samples selected from the three tiers of schools are shown below. "
   ]
  },
  {
   "cell_type": "code",
   "execution_count": 53,
   "metadata": {},
   "outputs": [
    {
     "name": "stdout",
     "output_type": "stream",
     "text": [
      "\t   SS\t\tdf\t\t  MS\t\t F\n",
      "\t-----------------------------------------------------\n",
      "Tiers  | 253458.77\t2\t\t126729.38\t17.12\n",
      "Error  | 444134.21\t60\t\t7402.24\n",
      "Totals | 697592.98\t62\n"
     ]
    }
   ],
   "source": [
    "println(\"\\t   SS\\t\\tdf\\t\\t  MS\\t\\t F\")\n",
    "println(\"\\t-----------------------------------------------------\")\n",
    "println(\"Tiers  | $SST\\t2\\t\\t$MST\\t$F\")\n",
    "println(\"Error  | $SSE\\t$(n-3)\\t\\t$MSE\")\n",
    "println(\"Totals | $(SST+SSE)\\t$(n-1)\")"
   ]
  },
  {
   "cell_type": "markdown",
   "metadata": {},
   "source": [
    "Notice that the $F$-test statistic obtained from this analysis is $17.45$.  Because\n",
    "\\begin{equation}\n",
    "  17.45 > F_{0.05} = 3.15,\n",
    "\\end{equation}\n",
    "the null hypothesis should be rejected.  That is, with a low probability of error, the samples collected from each tier indicate that the mean curricular complexity values of the tiers are different.  This result, along with the evidence given in histograms and box-and-whisker diagram, provide strong evidence that higher quality undergraduate computer science programs have lower curricular complexity, and that lower quality undergraduate computer science programs have higher curricular complexity. "
   ]
  },
  {
   "cell_type": "markdown",
   "metadata": {},
   "source": [
    "### Notched Box Plot\n",
    "In a notched box plot the notches represent confidence intervals. Specifically, the notch provides an interval about  the median $m$ computed using:\n",
    "$$\n",
    " m \\pm 1.57 \\times IQR/\\sqrt{n_i}\n",
    "$$\n",
    "where $IQR$ is the interquartile range (the distance between the 25th and 75 percentile), and $n_i$ is number of observations in the $i$th sample.  Informally, if the notches of two boxes do not overlap on the $y$ axis, there is strong evidence (i.e., 95% confidence) their medians differ."
   ]
  },
  {
   "cell_type": "code",
   "execution_count": 54,
   "metadata": {},
   "outputs": [
    {
     "name": "stderr",
     "output_type": "stream",
     "text": [
      "┌ Warning: Boxplot's notch went outside hinges. Set notch to false.\n",
      "└ @ StatsPlots /Users/heileman/.julia/packages/StatsPlots/HJWh4/src/boxplot.jl:36\n"
     ]
    },
    {
     "data": {
      "image/svg+xml": [
       "<?xml version=\"1.0\" encoding=\"utf-8\"?>\n",
       "<svg xmlns=\"http://www.w3.org/2000/svg\" xmlns:xlink=\"http://www.w3.org/1999/xlink\" width=\"600\" height=\"400\" viewBox=\"0 0 2400 1600\">\n",
       "<defs>\n",
       "  <clipPath id=\"clip540\">\n",
       "    <rect x=\"0\" y=\"0\" width=\"2400\" height=\"1600\"/>\n",
       "  </clipPath>\n",
       "</defs>\n",
       "<path clip-path=\"url(#clip540)\" d=\"\n",
       "M0 1600 L2400 1600 L2400 0 L0 0  Z\n",
       "  \" fill=\"#ffffff\" fill-rule=\"evenodd\" fill-opacity=\"1\"/>\n",
       "<defs>\n",
       "  <clipPath id=\"clip541\">\n",
       "    <rect x=\"480\" y=\"0\" width=\"1681\" height=\"1600\"/>\n",
       "  </clipPath>\n",
       "</defs>\n",
       "<path clip-path=\"url(#clip540)\" d=\"\n",
       "M229.473 1423.18 L2352.76 1423.18 L2352.76 123.472 L229.473 123.472  Z\n",
       "  \" fill=\"#ffffff\" fill-rule=\"evenodd\" fill-opacity=\"1\"/>\n",
       "<defs>\n",
       "  <clipPath id=\"clip542\">\n",
       "    <rect x=\"229\" y=\"123\" width=\"2124\" height=\"1301\"/>\n",
       "  </clipPath>\n",
       "</defs>\n",
       "<polyline clip-path=\"url(#clip542)\" style=\"stroke:#000000; stroke-width:2; stroke-opacity:0.1; fill:none\" points=\"\n",
       "  512.132,1423.18 512.132,123.472 \n",
       "  \"/>\n",
       "<polyline clip-path=\"url(#clip542)\" style=\"stroke:#000000; stroke-width:2; stroke-opacity:0.1; fill:none\" points=\"\n",
       "  1291.11,1423.18 1291.11,123.472 \n",
       "  \"/>\n",
       "<polyline clip-path=\"url(#clip542)\" style=\"stroke:#000000; stroke-width:2; stroke-opacity:0.1; fill:none\" points=\"\n",
       "  2070.1,1423.18 2070.1,123.472 \n",
       "  \"/>\n",
       "<polyline clip-path=\"url(#clip542)\" style=\"stroke:#000000; stroke-width:2; stroke-opacity:0.1; fill:none\" points=\"\n",
       "  229.473,1273.24 2352.76,1273.24 \n",
       "  \"/>\n",
       "<polyline clip-path=\"url(#clip542)\" style=\"stroke:#000000; stroke-width:2; stroke-opacity:0.1; fill:none\" points=\"\n",
       "  229.473,1008.25 2352.76,1008.25 \n",
       "  \"/>\n",
       "<polyline clip-path=\"url(#clip542)\" style=\"stroke:#000000; stroke-width:2; stroke-opacity:0.1; fill:none\" points=\"\n",
       "  229.473,743.249 2352.76,743.249 \n",
       "  \"/>\n",
       "<polyline clip-path=\"url(#clip542)\" style=\"stroke:#000000; stroke-width:2; stroke-opacity:0.1; fill:none\" points=\"\n",
       "  229.473,478.252 2352.76,478.252 \n",
       "  \"/>\n",
       "<polyline clip-path=\"url(#clip542)\" style=\"stroke:#000000; stroke-width:2; stroke-opacity:0.1; fill:none\" points=\"\n",
       "  229.473,213.256 2352.76,213.256 \n",
       "  \"/>\n",
       "<polyline clip-path=\"url(#clip540)\" style=\"stroke:#000000; stroke-width:4; stroke-opacity:1; fill:none\" points=\"\n",
       "  229.473,1423.18 2352.76,1423.18 \n",
       "  \"/>\n",
       "<polyline clip-path=\"url(#clip540)\" style=\"stroke:#000000; stroke-width:4; stroke-opacity:1; fill:none\" points=\"\n",
       "  229.473,1423.18 229.473,123.472 \n",
       "  \"/>\n",
       "<polyline clip-path=\"url(#clip540)\" style=\"stroke:#000000; stroke-width:4; stroke-opacity:1; fill:none\" points=\"\n",
       "  512.132,1423.18 512.132,1407.58 \n",
       "  \"/>\n",
       "<polyline clip-path=\"url(#clip540)\" style=\"stroke:#000000; stroke-width:4; stroke-opacity:1; fill:none\" points=\"\n",
       "  1291.11,1423.18 1291.11,1407.58 \n",
       "  \"/>\n",
       "<polyline clip-path=\"url(#clip540)\" style=\"stroke:#000000; stroke-width:4; stroke-opacity:1; fill:none\" points=\"\n",
       "  2070.1,1423.18 2070.1,1407.58 \n",
       "  \"/>\n",
       "<polyline clip-path=\"url(#clip540)\" style=\"stroke:#000000; stroke-width:4; stroke-opacity:1; fill:none\" points=\"\n",
       "  229.473,1273.24 254.952,1273.24 \n",
       "  \"/>\n",
       "<polyline clip-path=\"url(#clip540)\" style=\"stroke:#000000; stroke-width:4; stroke-opacity:1; fill:none\" points=\"\n",
       "  229.473,1008.25 254.952,1008.25 \n",
       "  \"/>\n",
       "<polyline clip-path=\"url(#clip540)\" style=\"stroke:#000000; stroke-width:4; stroke-opacity:1; fill:none\" points=\"\n",
       "  229.473,743.249 254.952,743.249 \n",
       "  \"/>\n",
       "<polyline clip-path=\"url(#clip540)\" style=\"stroke:#000000; stroke-width:4; stroke-opacity:1; fill:none\" points=\"\n",
       "  229.473,478.252 254.952,478.252 \n",
       "  \"/>\n",
       "<polyline clip-path=\"url(#clip540)\" style=\"stroke:#000000; stroke-width:4; stroke-opacity:1; fill:none\" points=\"\n",
       "  229.473,213.256 254.952,213.256 \n",
       "  \"/>\n",
       "<path clip-path=\"url(#clip540)\" d=\"M 0 0 M484.493 1443.36 L484.493 1450.73 L493.266 1450.73 L493.266 1454.04 L484.493 1454.04 L484.493 1468.11 Q484.493 1471.28 485.35 1472.18 Q486.229 1473.09 488.891 1473.09 L493.266 1473.09 L493.266 1476.65 L488.891 1476.65 Q483.961 1476.65 482.086 1474.82 Q480.211 1472.97 480.211 1468.11 L480.211 1454.04 L477.086 1454.04 L477.086 1450.73 L480.211 1450.73 L480.211 1443.36 L484.493 1443.36 Z\" fill=\"#000000\" fill-rule=\"evenodd\" fill-opacity=\"1\" /><path clip-path=\"url(#clip540)\" d=\"M 0 0 M507.78 1453.71 Q504.354 1453.71 502.364 1456.4 Q500.373 1459.06 500.373 1463.71 Q500.373 1468.36 502.34 1471.05 Q504.331 1473.71 507.78 1473.71 Q511.183 1473.71 513.174 1471.03 Q515.164 1468.34 515.164 1463.71 Q515.164 1459.11 513.174 1456.42 Q511.183 1453.71 507.78 1453.71 M507.78 1450.1 Q513.336 1450.1 516.507 1453.71 Q519.678 1457.32 519.678 1463.71 Q519.678 1470.08 516.507 1473.71 Q513.336 1477.32 507.78 1477.32 Q502.201 1477.32 499.03 1473.71 Q495.882 1470.08 495.882 1463.71 Q495.882 1457.32 499.03 1453.71 Q502.201 1450.1 507.78 1450.1 Z\" fill=\"#000000\" fill-rule=\"evenodd\" fill-opacity=\"1\" /><path clip-path=\"url(#clip540)\" d=\"M 0 0 M528.266 1472.76 L528.266 1486.51 L523.984 1486.51 L523.984 1450.73 L528.266 1450.73 L528.266 1454.66 Q529.609 1452.35 531.646 1451.24 Q533.706 1450.1 536.553 1450.1 Q541.275 1450.1 544.215 1453.85 Q547.178 1457.6 547.178 1463.71 Q547.178 1469.82 544.215 1473.57 Q541.275 1477.32 536.553 1477.32 Q533.706 1477.32 531.646 1476.21 Q529.609 1475.08 528.266 1472.76 M542.757 1463.71 Q542.757 1459.01 540.812 1456.35 Q538.891 1453.67 535.511 1453.67 Q532.132 1453.67 530.187 1456.35 Q528.266 1459.01 528.266 1463.71 Q528.266 1468.41 530.187 1471.1 Q532.132 1473.76 535.511 1473.76 Q538.891 1473.76 540.812 1471.1 Q542.757 1468.41 542.757 1463.71 Z\" fill=\"#000000\" fill-rule=\"evenodd\" fill-opacity=\"1\" /><path clip-path=\"url(#clip540)\" d=\"M 0 0 M1244.7 1455.7 Q1246.3 1452.83 1248.52 1451.47 Q1250.74 1450.1 1253.75 1450.1 Q1257.8 1450.1 1260 1452.95 Q1262.2 1455.77 1262.2 1461 L1262.2 1476.65 L1257.92 1476.65 L1257.92 1461.14 Q1257.92 1457.42 1256.6 1455.61 Q1255.28 1453.8 1252.57 1453.8 Q1249.26 1453.8 1247.34 1456 Q1245.42 1458.2 1245.42 1462 L1245.42 1476.65 L1241.14 1476.65 L1241.14 1461.14 Q1241.14 1457.39 1239.82 1455.61 Q1238.5 1453.8 1235.74 1453.8 Q1232.48 1453.8 1230.56 1456.03 Q1228.64 1458.23 1228.64 1462 L1228.64 1476.65 L1224.36 1476.65 L1224.36 1450.73 L1228.64 1450.73 L1228.64 1454.75 Q1230.1 1452.37 1232.13 1451.24 Q1234.17 1450.1 1236.97 1450.1 Q1239.8 1450.1 1241.76 1451.54 Q1243.75 1452.97 1244.7 1455.7 Z\" fill=\"#000000\" fill-rule=\"evenodd\" fill-opacity=\"1\" /><path clip-path=\"url(#clip540)\" d=\"M 0 0 M1266.67 1450.73 L1270.93 1450.73 L1270.93 1476.65 L1266.67 1476.65 L1266.67 1450.73 M1266.67 1440.63 L1270.93 1440.63 L1270.93 1446.03 L1266.67 1446.03 L1266.67 1440.63 Z\" fill=\"#000000\" fill-rule=\"evenodd\" fill-opacity=\"1\" /><path clip-path=\"url(#clip540)\" d=\"M 0 0 M1292.46 1454.66 L1292.46 1440.63 L1296.72 1440.63 L1296.72 1476.65 L1292.46 1476.65 L1292.46 1472.76 Q1291.11 1475.08 1289.05 1476.21 Q1287.02 1477.32 1284.15 1477.32 Q1279.45 1477.32 1276.48 1473.57 Q1273.54 1469.82 1273.54 1463.71 Q1273.54 1457.6 1276.48 1453.85 Q1279.45 1450.1 1284.15 1450.1 Q1287.02 1450.1 1289.05 1451.24 Q1291.11 1452.35 1292.46 1454.66 M1277.94 1463.71 Q1277.94 1468.41 1279.86 1471.1 Q1281.81 1473.76 1285.19 1473.76 Q1288.57 1473.76 1290.51 1471.1 Q1292.46 1468.41 1292.46 1463.71 Q1292.46 1459.01 1290.51 1456.35 Q1288.57 1453.67 1285.19 1453.67 Q1281.81 1453.67 1279.86 1456.35 Q1277.94 1459.01 1277.94 1463.71 Z\" fill=\"#000000\" fill-rule=\"evenodd\" fill-opacity=\"1\" /><path clip-path=\"url(#clip540)\" d=\"M 0 0 M1318.24 1454.66 L1318.24 1440.63 L1322.5 1440.63 L1322.5 1476.65 L1318.24 1476.65 L1318.24 1472.76 Q1316.9 1475.08 1314.84 1476.21 Q1312.8 1477.32 1309.93 1477.32 Q1305.23 1477.32 1302.27 1473.57 Q1299.33 1469.82 1299.33 1463.71 Q1299.33 1457.6 1302.27 1453.85 Q1305.23 1450.1 1309.93 1450.1 Q1312.8 1450.1 1314.84 1451.24 Q1316.9 1452.35 1318.24 1454.66 M1303.73 1463.71 Q1303.73 1468.41 1305.65 1471.1 Q1307.6 1473.76 1310.98 1473.76 Q1314.35 1473.76 1316.3 1471.1 Q1318.24 1468.41 1318.24 1463.71 Q1318.24 1459.01 1316.3 1456.35 Q1314.35 1453.67 1310.98 1453.67 Q1307.6 1453.67 1305.65 1456.35 Q1303.73 1459.01 1303.73 1463.71 Z\" fill=\"#000000\" fill-rule=\"evenodd\" fill-opacity=\"1\" /><path clip-path=\"url(#clip540)\" d=\"M 0 0 M1326.97 1440.63 L1331.23 1440.63 L1331.23 1476.65 L1326.97 1476.65 L1326.97 1440.63 Z\" fill=\"#000000\" fill-rule=\"evenodd\" fill-opacity=\"1\" /><path clip-path=\"url(#clip540)\" d=\"M 0 0 M1357.87 1462.62 L1357.87 1464.71 L1338.29 1464.71 Q1338.57 1469.11 1340.93 1471.42 Q1343.31 1473.71 1347.55 1473.71 Q1350 1473.71 1352.29 1473.11 Q1354.61 1472.51 1356.88 1471.3 L1356.88 1475.33 Q1354.59 1476.3 1352.18 1476.81 Q1349.77 1477.32 1347.29 1477.32 Q1341.09 1477.32 1337.46 1473.71 Q1333.85 1470.1 1333.85 1463.94 Q1333.85 1457.58 1337.27 1453.85 Q1340.72 1450.1 1346.55 1450.1 Q1351.79 1450.1 1354.82 1453.48 Q1357.87 1456.84 1357.87 1462.62 M1353.61 1461.37 Q1353.57 1457.88 1351.65 1455.8 Q1349.75 1453.71 1346.6 1453.71 Q1343.04 1453.71 1340.88 1455.73 Q1338.75 1457.74 1338.43 1461.4 L1353.61 1461.37 Z\" fill=\"#000000\" fill-rule=\"evenodd\" fill-opacity=\"1\" /><path clip-path=\"url(#clip540)\" d=\"M 0 0 M2012.33 1463.71 Q2012.33 1459.01 2010.39 1456.35 Q2008.46 1453.67 2005.09 1453.67 Q2001.71 1453.67 1999.76 1456.35 Q1997.84 1459.01 1997.84 1463.71 Q1997.84 1468.41 1999.76 1471.1 Q2001.71 1473.76 2005.09 1473.76 Q2008.46 1473.76 2010.39 1471.1 Q2012.33 1468.41 2012.33 1463.71 M1997.84 1454.66 Q1999.18 1452.35 2001.22 1451.24 Q2003.28 1450.1 2006.13 1450.1 Q2010.85 1450.1 2013.79 1453.85 Q2016.75 1457.6 2016.75 1463.71 Q2016.75 1469.82 2013.79 1473.57 Q2010.85 1477.32 2006.13 1477.32 Q2003.28 1477.32 2001.22 1476.21 Q1999.18 1475.08 1997.84 1472.76 L1997.84 1476.65 L1993.56 1476.65 L1993.56 1440.63 L1997.84 1440.63 L1997.84 1454.66 Z\" fill=\"#000000\" fill-rule=\"evenodd\" fill-opacity=\"1\" /><path clip-path=\"url(#clip540)\" d=\"M 0 0 M2031.27 1453.71 Q2027.84 1453.71 2025.85 1456.4 Q2023.86 1459.06 2023.86 1463.71 Q2023.86 1468.36 2025.83 1471.05 Q2027.82 1473.71 2031.27 1473.71 Q2034.67 1473.71 2036.66 1471.03 Q2038.65 1468.34 2038.65 1463.71 Q2038.65 1459.11 2036.66 1456.42 Q2034.67 1453.71 2031.27 1453.71 M2031.27 1450.1 Q2036.82 1450.1 2039.99 1453.71 Q2043.16 1457.32 2043.16 1463.71 Q2043.16 1470.08 2039.99 1473.71 Q2036.82 1477.32 2031.27 1477.32 Q2025.69 1477.32 2022.52 1473.71 Q2019.37 1470.08 2019.37 1463.71 Q2019.37 1457.32 2022.52 1453.71 Q2025.69 1450.1 2031.27 1450.1 Z\" fill=\"#000000\" fill-rule=\"evenodd\" fill-opacity=\"1\" /><path clip-path=\"url(#clip540)\" d=\"M 0 0 M2051.84 1443.36 L2051.84 1450.73 L2060.62 1450.73 L2060.62 1454.04 L2051.84 1454.04 L2051.84 1468.11 Q2051.84 1471.28 2052.7 1472.18 Q2053.58 1473.09 2056.24 1473.09 L2060.62 1473.09 L2060.62 1476.65 L2056.24 1476.65 Q2051.31 1476.65 2049.44 1474.82 Q2047.56 1472.97 2047.56 1468.11 L2047.56 1454.04 L2044.44 1454.04 L2044.44 1450.73 L2047.56 1450.73 L2047.56 1443.36 L2051.84 1443.36 Z\" fill=\"#000000\" fill-rule=\"evenodd\" fill-opacity=\"1\" /><path clip-path=\"url(#clip540)\" d=\"M 0 0 M2069.3 1443.36 L2069.3 1450.73 L2078.07 1450.73 L2078.07 1454.04 L2069.3 1454.04 L2069.3 1468.11 Q2069.3 1471.28 2070.15 1472.18 Q2071.03 1473.09 2073.7 1473.09 L2078.07 1473.09 L2078.07 1476.65 L2073.7 1476.65 Q2068.77 1476.65 2066.89 1474.82 Q2065.02 1472.97 2065.02 1468.11 L2065.02 1454.04 L2061.89 1454.04 L2061.89 1450.73 L2065.02 1450.73 L2065.02 1443.36 L2069.3 1443.36 Z\" fill=\"#000000\" fill-rule=\"evenodd\" fill-opacity=\"1\" /><path clip-path=\"url(#clip540)\" d=\"M 0 0 M2092.58 1453.71 Q2089.16 1453.71 2087.17 1456.4 Q2085.18 1459.06 2085.18 1463.71 Q2085.18 1468.36 2087.15 1471.05 Q2089.14 1473.71 2092.58 1473.71 Q2095.99 1473.71 2097.98 1471.03 Q2099.97 1468.34 2099.97 1463.71 Q2099.97 1459.11 2097.98 1456.42 Q2095.99 1453.71 2092.58 1453.71 M2092.58 1450.1 Q2098.14 1450.1 2101.31 1453.71 Q2104.48 1457.32 2104.48 1463.71 Q2104.48 1470.08 2101.31 1473.71 Q2098.14 1477.32 2092.58 1477.32 Q2087.01 1477.32 2083.83 1473.71 Q2080.69 1470.08 2080.69 1463.71 Q2080.69 1457.32 2083.83 1453.71 Q2087.01 1450.1 2092.58 1450.1 Z\" fill=\"#000000\" fill-rule=\"evenodd\" fill-opacity=\"1\" /><path clip-path=\"url(#clip540)\" d=\"M 0 0 M2129.14 1455.7 Q2130.73 1452.83 2132.96 1451.47 Q2135.18 1450.1 2138.19 1450.1 Q2142.24 1450.1 2144.44 1452.95 Q2146.64 1455.77 2146.64 1461 L2146.64 1476.65 L2142.35 1476.65 L2142.35 1461.14 Q2142.35 1457.42 2141.03 1455.61 Q2139.71 1453.8 2137.01 1453.8 Q2133.7 1453.8 2131.77 1456 Q2129.85 1458.2 2129.85 1462 L2129.85 1476.65 L2125.57 1476.65 L2125.57 1461.14 Q2125.57 1457.39 2124.25 1455.61 Q2122.93 1453.8 2120.18 1453.8 Q2116.91 1453.8 2114.99 1456.03 Q2113.07 1458.23 2113.07 1462 L2113.07 1476.65 L2108.79 1476.65 L2108.79 1450.73 L2113.07 1450.73 L2113.07 1454.75 Q2114.53 1452.37 2116.57 1451.24 Q2118.6 1450.1 2121.4 1450.1 Q2124.23 1450.1 2126.2 1451.54 Q2128.19 1452.97 2129.14 1455.7 Z\" fill=\"#000000\" fill-rule=\"evenodd\" fill-opacity=\"1\" /><path clip-path=\"url(#clip540)\" d=\"M 0 0 M131.538 1286.59 L139.177 1286.59 L139.177 1260.22 L130.867 1261.89 L130.867 1257.63 L139.13 1255.96 L143.806 1255.96 L143.806 1286.59 L151.445 1286.59 L151.445 1290.52 L131.538 1290.52 L131.538 1286.59 Z\" fill=\"#000000\" fill-rule=\"evenodd\" fill-opacity=\"1\" /><path clip-path=\"url(#clip540)\" d=\"M 0 0 M166.515 1259.04 Q162.903 1259.04 161.075 1262.61 Q159.269 1266.15 159.269 1273.28 Q159.269 1280.38 161.075 1283.95 Q162.903 1287.49 166.515 1287.49 Q170.149 1287.49 171.954 1283.95 Q173.783 1280.38 173.783 1273.28 Q173.783 1266.15 171.954 1262.61 Q170.149 1259.04 166.515 1259.04 M166.515 1255.34 Q172.325 1255.34 175.38 1259.94 Q178.459 1264.53 178.459 1273.28 Q178.459 1282 175.38 1286.61 Q172.325 1291.19 166.515 1291.19 Q160.704 1291.19 157.626 1286.61 Q154.57 1282 154.57 1273.28 Q154.57 1264.53 157.626 1259.94 Q160.704 1255.34 166.515 1255.34 Z\" fill=\"#000000\" fill-rule=\"evenodd\" fill-opacity=\"1\" /><path clip-path=\"url(#clip540)\" d=\"M 0 0 M193.528 1259.04 Q189.917 1259.04 188.089 1262.61 Q186.283 1266.15 186.283 1273.28 Q186.283 1280.38 188.089 1283.95 Q189.917 1287.49 193.528 1287.49 Q197.163 1287.49 198.968 1283.95 Q200.797 1280.38 200.797 1273.28 Q200.797 1266.15 198.968 1262.61 Q197.163 1259.04 193.528 1259.04 M193.528 1255.34 Q199.338 1255.34 202.394 1259.94 Q205.473 1264.53 205.473 1273.28 Q205.473 1282 202.394 1286.61 Q199.338 1291.19 193.528 1291.19 Q187.718 1291.19 184.639 1286.61 Q181.584 1282 181.584 1273.28 Q181.584 1264.53 184.639 1259.94 Q187.718 1255.34 193.528 1255.34 Z\" fill=\"#000000\" fill-rule=\"evenodd\" fill-opacity=\"1\" /><path clip-path=\"url(#clip540)\" d=\"M 0 0 M135.126 1021.59 L151.445 1021.59 L151.445 1025.53 L129.501 1025.53 L129.501 1021.59 Q132.163 1018.84 136.746 1014.21 Q141.353 1009.55 142.533 1008.21 Q144.779 1005.69 145.658 1003.95 Q146.561 1002.19 146.561 1000.5 Q146.561 997.748 144.617 996.012 Q142.695 994.276 139.593 994.276 Q137.394 994.276 134.941 995.04 Q132.51 995.803 129.732 997.354 L129.732 992.632 Q132.556 991.498 135.01 990.919 Q137.464 990.34 139.501 990.34 Q144.871 990.34 148.066 993.026 Q151.26 995.711 151.26 1000.2 Q151.26 1002.33 150.45 1004.25 Q149.663 1006.15 147.556 1008.74 Q146.978 1009.41 143.876 1012.63 Q140.774 1015.83 135.126 1021.59 Z\" fill=\"#000000\" fill-rule=\"evenodd\" fill-opacity=\"1\" /><path clip-path=\"url(#clip540)\" d=\"M 0 0 M166.515 994.044 Q162.903 994.044 161.075 997.609 Q159.269 1001.15 159.269 1008.28 Q159.269 1015.39 161.075 1018.95 Q162.903 1022.49 166.515 1022.49 Q170.149 1022.49 171.954 1018.95 Q173.783 1015.39 173.783 1008.28 Q173.783 1001.15 171.954 997.609 Q170.149 994.044 166.515 994.044 M166.515 990.34 Q172.325 990.34 175.38 994.947 Q178.459 999.53 178.459 1008.28 Q178.459 1017.01 175.38 1021.61 Q172.325 1026.2 166.515 1026.2 Q160.704 1026.2 157.626 1021.61 Q154.57 1017.01 154.57 1008.28 Q154.57 999.53 157.626 994.947 Q160.704 990.34 166.515 990.34 Z\" fill=\"#000000\" fill-rule=\"evenodd\" fill-opacity=\"1\" /><path clip-path=\"url(#clip540)\" d=\"M 0 0 M193.528 994.044 Q189.917 994.044 188.089 997.609 Q186.283 1001.15 186.283 1008.28 Q186.283 1015.39 188.089 1018.95 Q189.917 1022.49 193.528 1022.49 Q197.163 1022.49 198.968 1018.95 Q200.797 1015.39 200.797 1008.28 Q200.797 1001.15 198.968 997.609 Q197.163 994.044 193.528 994.044 M193.528 990.34 Q199.338 990.34 202.394 994.947 Q205.473 999.53 205.473 1008.28 Q205.473 1017.01 202.394 1021.61 Q199.338 1026.2 193.528 1026.2 Q187.718 1026.2 184.639 1021.61 Q181.584 1017.01 181.584 1008.28 Q181.584 999.53 184.639 994.947 Q187.718 990.34 193.528 990.34 Z\" fill=\"#000000\" fill-rule=\"evenodd\" fill-opacity=\"1\" /><path clip-path=\"url(#clip540)\" d=\"M 0 0 M144.316 741.895 Q147.672 742.612 149.547 744.881 Q151.445 747.149 151.445 750.483 Q151.445 755.598 147.927 758.399 Q144.408 761.2 137.927 761.2 Q135.751 761.2 133.436 760.76 Q131.144 760.344 128.691 759.487 L128.691 754.973 Q130.635 756.108 132.95 756.686 Q135.265 757.265 137.788 757.265 Q142.186 757.265 144.478 755.529 Q146.792 753.793 146.792 750.483 Q146.792 747.427 144.64 745.714 Q142.51 743.978 138.691 743.978 L134.663 743.978 L134.663 740.135 L138.876 740.135 Q142.325 740.135 144.154 738.77 Q145.982 737.381 145.982 734.788 Q145.982 732.126 144.084 730.714 Q142.209 729.279 138.691 729.279 Q136.769 729.279 134.57 729.696 Q132.371 730.112 129.732 730.992 L129.732 726.825 Q132.394 726.085 134.709 725.714 Q137.047 725.344 139.107 725.344 Q144.431 725.344 147.533 727.774 Q150.635 730.182 150.635 734.302 Q150.635 737.173 148.992 739.163 Q147.348 741.131 144.316 741.895 Z\" fill=\"#000000\" fill-rule=\"evenodd\" fill-opacity=\"1\" /><path clip-path=\"url(#clip540)\" d=\"M 0 0 M166.515 729.048 Q162.903 729.048 161.075 732.612 Q159.269 736.154 159.269 743.284 Q159.269 750.39 161.075 753.955 Q162.903 757.496 166.515 757.496 Q170.149 757.496 171.954 753.955 Q173.783 750.39 173.783 743.284 Q173.783 736.154 171.954 732.612 Q170.149 729.048 166.515 729.048 M166.515 725.344 Q172.325 725.344 175.38 729.95 Q178.459 734.534 178.459 743.284 Q178.459 752.01 175.38 756.617 Q172.325 761.2 166.515 761.2 Q160.704 761.2 157.626 756.617 Q154.57 752.01 154.57 743.284 Q154.57 734.534 157.626 729.95 Q160.704 725.344 166.515 725.344 Z\" fill=\"#000000\" fill-rule=\"evenodd\" fill-opacity=\"1\" /><path clip-path=\"url(#clip540)\" d=\"M 0 0 M193.528 729.048 Q189.917 729.048 188.089 732.612 Q186.283 736.154 186.283 743.284 Q186.283 750.39 188.089 753.955 Q189.917 757.496 193.528 757.496 Q197.163 757.496 198.968 753.955 Q200.797 750.39 200.797 743.284 Q200.797 736.154 198.968 732.612 Q197.163 729.048 193.528 729.048 M193.528 725.344 Q199.338 725.344 202.394 729.95 Q205.473 734.534 205.473 743.284 Q205.473 752.01 202.394 756.617 Q199.338 761.2 193.528 761.2 Q187.718 761.2 184.639 756.617 Q181.584 752.01 181.584 743.284 Q181.584 734.534 184.639 729.95 Q187.718 725.344 193.528 725.344 Z\" fill=\"#000000\" fill-rule=\"evenodd\" fill-opacity=\"1\" /><path clip-path=\"url(#clip540)\" d=\"M 0 0 M141.862 465.046 L130.056 483.495 L141.862 483.495 L141.862 465.046 M140.635 460.972 L146.515 460.972 L146.515 483.495 L151.445 483.495 L151.445 487.384 L146.515 487.384 L146.515 495.532 L141.862 495.532 L141.862 487.384 L126.26 487.384 L126.26 482.87 L140.635 460.972 Z\" fill=\"#000000\" fill-rule=\"evenodd\" fill-opacity=\"1\" /><path clip-path=\"url(#clip540)\" d=\"M 0 0 M166.515 464.051 Q162.903 464.051 161.075 467.616 Q159.269 471.157 159.269 478.287 Q159.269 485.393 161.075 488.958 Q162.903 492.5 166.515 492.5 Q170.149 492.5 171.954 488.958 Q173.783 485.393 173.783 478.287 Q173.783 471.157 171.954 467.616 Q170.149 464.051 166.515 464.051 M166.515 460.347 Q172.325 460.347 175.38 464.954 Q178.459 469.537 178.459 478.287 Q178.459 487.014 175.38 491.62 Q172.325 496.204 166.515 496.204 Q160.704 496.204 157.626 491.62 Q154.57 487.014 154.57 478.287 Q154.57 469.537 157.626 464.954 Q160.704 460.347 166.515 460.347 Z\" fill=\"#000000\" fill-rule=\"evenodd\" fill-opacity=\"1\" /><path clip-path=\"url(#clip540)\" d=\"M 0 0 M193.528 464.051 Q189.917 464.051 188.089 467.616 Q186.283 471.157 186.283 478.287 Q186.283 485.393 188.089 488.958 Q189.917 492.5 193.528 492.5 Q197.163 492.5 198.968 488.958 Q200.797 485.393 200.797 478.287 Q200.797 471.157 198.968 467.616 Q197.163 464.051 193.528 464.051 M193.528 460.347 Q199.338 460.347 202.394 464.954 Q205.473 469.537 205.473 478.287 Q205.473 487.014 202.394 491.62 Q199.338 496.204 193.528 496.204 Q187.718 496.204 184.639 491.62 Q181.584 487.014 181.584 478.287 Q181.584 469.537 184.639 464.954 Q187.718 460.347 193.528 460.347 Z\" fill=\"#000000\" fill-rule=\"evenodd\" fill-opacity=\"1\" /><path clip-path=\"url(#clip540)\" d=\"M 0 0 M130.543 195.976 L148.899 195.976 L148.899 199.911 L134.825 199.911 L134.825 208.383 Q135.843 208.036 136.862 207.874 Q137.88 207.689 138.899 207.689 Q144.686 207.689 148.066 210.86 Q151.445 214.031 151.445 219.448 Q151.445 225.026 147.973 228.128 Q144.501 231.207 138.181 231.207 Q136.005 231.207 133.737 230.837 Q131.492 230.466 129.084 229.725 L129.084 225.026 Q131.168 226.161 133.39 226.716 Q135.612 227.272 138.089 227.272 Q142.093 227.272 144.431 225.165 Q146.769 223.059 146.769 219.448 Q146.769 215.837 144.431 213.73 Q142.093 211.624 138.089 211.624 Q136.214 211.624 134.339 212.04 Q132.487 212.457 130.543 213.337 L130.543 195.976 Z\" fill=\"#000000\" fill-rule=\"evenodd\" fill-opacity=\"1\" /><path clip-path=\"url(#clip540)\" d=\"M 0 0 M166.515 199.054 Q162.903 199.054 161.075 202.619 Q159.269 206.161 159.269 213.29 Q159.269 220.397 161.075 223.962 Q162.903 227.503 166.515 227.503 Q170.149 227.503 171.954 223.962 Q173.783 220.397 173.783 213.29 Q173.783 206.161 171.954 202.619 Q170.149 199.054 166.515 199.054 M166.515 195.351 Q172.325 195.351 175.38 199.957 Q178.459 204.54 178.459 213.29 Q178.459 222.017 175.38 226.624 Q172.325 231.207 166.515 231.207 Q160.704 231.207 157.626 226.624 Q154.57 222.017 154.57 213.29 Q154.57 204.54 157.626 199.957 Q160.704 195.351 166.515 195.351 Z\" fill=\"#000000\" fill-rule=\"evenodd\" fill-opacity=\"1\" /><path clip-path=\"url(#clip540)\" d=\"M 0 0 M193.528 199.054 Q189.917 199.054 188.089 202.619 Q186.283 206.161 186.283 213.29 Q186.283 220.397 188.089 223.962 Q189.917 227.503 193.528 227.503 Q197.163 227.503 198.968 223.962 Q200.797 220.397 200.797 213.29 Q200.797 206.161 198.968 202.619 Q197.163 199.054 193.528 199.054 M193.528 195.351 Q199.338 195.351 202.394 199.957 Q205.473 204.54 205.473 213.29 Q205.473 222.017 202.394 226.624 Q199.338 231.207 193.528 231.207 Q187.718 231.207 184.639 226.624 Q181.584 222.017 181.584 213.29 Q181.584 204.54 184.639 199.957 Q187.718 195.351 193.528 195.351 Z\" fill=\"#000000\" fill-rule=\"evenodd\" fill-opacity=\"1\" /><path clip-path=\"url(#clip540)\" d=\"M 0 0 M708.797 12.096 L747.037 12.096 L747.037 18.9825 L716.98 18.9825 L716.98 36.8875 L745.782 36.8875 L745.782 43.7741 L716.98 43.7741 L716.98 65.6895 L747.767 65.6895 L747.767 72.576 L708.797 72.576 L708.797 12.096 Z\" fill=\"#000000\" fill-rule=\"evenodd\" fill-opacity=\"1\" /><path clip-path=\"url(#clip540)\" d=\"M 0 0 M755.585 9.54393 L763.038 9.54393 L763.038 72.576 L755.585 72.576 L755.585 9.54393 Z\" fill=\"#000000\" fill-rule=\"evenodd\" fill-opacity=\"1\" /><path clip-path=\"url(#clip540)\" d=\"M 0 0 M809.664 48.0275 L809.664 51.6733 L775.394 51.6733 Q775.88 59.3701 780.012 63.421 Q784.184 67.4314 791.597 67.4314 Q795.891 67.4314 799.902 66.3781 Q803.953 65.3249 807.922 63.2184 L807.922 70.267 Q803.912 71.9684 799.699 72.8596 Q795.486 73.7508 791.152 73.7508 Q780.295 73.7508 773.935 67.4314 Q767.616 61.1119 767.616 50.3365 Q767.616 39.1965 773.611 32.6746 Q779.647 26.1121 789.855 26.1121 Q799.01 26.1121 804.317 32.0264 Q809.664 37.9003 809.664 48.0275 M802.211 45.84 Q802.13 39.7232 798.767 36.0774 Q795.446 32.4315 789.936 32.4315 Q783.698 32.4315 779.931 35.9558 Q776.204 39.4801 775.637 45.8805 L802.211 45.84 Z\" fill=\"#000000\" fill-rule=\"evenodd\" fill-opacity=\"1\" /><path clip-path=\"url(#clip540)\" d=\"M 0 0 M850.133 28.9478 L850.133 35.9153 Q846.973 34.1734 843.773 33.3227 Q840.613 32.4315 837.373 32.4315 Q830.121 32.4315 826.111 37.0496 Q822.101 41.6271 822.101 49.9314 Q822.101 58.2358 826.111 62.8538 Q830.121 67.4314 837.373 67.4314 Q840.613 67.4314 843.773 66.5807 Q846.973 65.6895 850.133 63.9476 L850.133 70.8341 Q847.014 72.2924 843.651 73.0216 Q840.33 73.7508 836.562 73.7508 Q826.314 73.7508 820.278 67.3098 Q814.242 60.8689 814.242 49.9314 Q814.242 38.832 820.318 32.472 Q826.435 26.1121 837.048 26.1121 Q840.492 26.1121 843.773 26.8413 Q847.054 27.5299 850.133 28.9478 Z\" fill=\"#000000\" fill-rule=\"evenodd\" fill-opacity=\"1\" /><path clip-path=\"url(#clip540)\" d=\"M 0 0 M865.324 14.324 L865.324 27.2059 L880.677 27.2059 L880.677 32.9987 L865.324 32.9987 L865.324 57.6282 Q865.324 63.1779 866.823 64.7578 Q868.362 66.3376 873.02 66.3376 L880.677 66.3376 L880.677 72.576 L873.02 72.576 Q864.392 72.576 861.111 69.3758 Q857.83 66.1351 857.83 57.6282 L857.83 32.9987 L852.361 32.9987 L852.361 27.2059 L857.83 27.2059 L857.83 14.324 L865.324 14.324 Z\" fill=\"#000000\" fill-rule=\"evenodd\" fill-opacity=\"1\" /><path clip-path=\"url(#clip540)\" d=\"M 0 0 M914.785 34.1734 Q913.53 33.4443 912.031 33.1202 Q910.572 32.7556 908.79 32.7556 Q902.471 32.7556 899.068 36.8875 Q895.706 40.9789 895.706 48.6757 L895.706 72.576 L888.211 72.576 L888.211 27.2059 L895.706 27.2059 L895.706 34.2544 Q898.055 30.1225 901.822 28.1376 Q905.59 26.1121 910.977 26.1121 Q911.747 26.1121 912.679 26.2337 Q913.611 26.3147 914.745 26.5172 L914.785 34.1734 Z\" fill=\"#000000\" fill-rule=\"evenodd\" fill-opacity=\"1\" /><path clip-path=\"url(#clip540)\" d=\"M 0 0 M922.604 27.2059 L930.057 27.2059 L930.057 72.576 L922.604 72.576 L922.604 27.2059 M922.604 9.54393 L930.057 9.54393 L930.057 18.9825 L922.604 18.9825 L922.604 9.54393 Z\" fill=\"#000000\" fill-rule=\"evenodd\" fill-opacity=\"1\" /><path clip-path=\"url(#clip540)\" d=\"M 0 0 M970.526 28.9478 L970.526 35.9153 Q967.366 34.1734 964.166 33.3227 Q961.006 32.4315 957.765 32.4315 Q950.514 32.4315 946.504 37.0496 Q942.493 41.6271 942.493 49.9314 Q942.493 58.2358 946.504 62.8538 Q950.514 67.4314 957.765 67.4314 Q961.006 67.4314 964.166 66.5807 Q967.366 65.6895 970.526 63.9476 L970.526 70.8341 Q967.407 72.2924 964.044 73.0216 Q960.723 73.7508 956.955 73.7508 Q946.706 73.7508 940.671 67.3098 Q934.635 60.8689 934.635 49.9314 Q934.635 38.832 940.711 32.472 Q946.828 26.1121 957.441 26.1121 Q960.885 26.1121 964.166 26.8413 Q967.447 27.5299 970.526 28.9478 Z\" fill=\"#000000\" fill-rule=\"evenodd\" fill-opacity=\"1\" /><path clip-path=\"url(#clip540)\" d=\"M 0 0 M998.963 49.7694 Q989.93 49.7694 986.446 51.8354 Q982.962 53.9013 982.962 58.8839 Q982.962 62.8538 985.555 65.2034 Q988.188 67.5124 992.684 67.5124 Q998.882 67.5124 1002.61 63.1374 Q1006.38 58.7219 1006.38 51.4303 L1006.38 49.7694 L998.963 49.7694 M1013.83 46.6907 L1013.83 72.576 L1006.38 72.576 L1006.38 65.6895 Q1003.82 69.8214 1000.02 71.8063 Q996.208 73.7508 990.699 73.7508 Q983.732 73.7508 979.6 69.8619 Q975.508 65.9325 975.508 59.3701 Q975.508 51.7138 980.612 47.825 Q985.757 43.9361 995.925 43.9361 L1006.38 43.9361 L1006.38 43.2069 Q1006.38 38.0623 1002.97 35.2672 Q999.611 32.4315 993.494 32.4315 Q989.605 32.4315 985.919 33.3632 Q982.233 34.295 978.83 36.1584 L978.83 29.2718 Q982.922 27.692 986.77 26.9223 Q990.618 26.1121 994.264 26.1121 Q1004.11 26.1121 1008.97 31.2163 Q1013.83 36.3204 1013.83 46.6907 Z\" fill=\"#000000\" fill-rule=\"evenodd\" fill-opacity=\"1\" /><path clip-path=\"url(#clip540)\" d=\"M 0 0 M1021.65 9.54393 L1029.1 9.54393 L1029.1 72.576 L1021.65 72.576 L1021.65 9.54393 Z\" fill=\"#000000\" fill-rule=\"evenodd\" fill-opacity=\"1\" /><path clip-path=\"url(#clip540)\" d=\"M 0 0 M1063.62 12.096 L1101.86 12.096 L1101.86 18.9825 L1071.8 18.9825 L1071.8 36.8875 L1100.6 36.8875 L1100.6 43.7741 L1071.8 43.7741 L1071.8 65.6895 L1102.59 65.6895 L1102.59 72.576 L1063.62 72.576 L1063.62 12.096 Z\" fill=\"#000000\" fill-rule=\"evenodd\" fill-opacity=\"1\" /><path clip-path=\"url(#clip540)\" d=\"M 0 0 M1148.12 45.1919 L1148.12 72.576 L1140.66 72.576 L1140.66 45.4349 Q1140.66 38.994 1138.15 35.7938 Q1135.64 32.5936 1130.62 32.5936 Q1124.58 32.5936 1121.1 36.4419 Q1117.61 40.2903 1117.61 46.9338 L1117.61 72.576 L1110.12 72.576 L1110.12 27.2059 L1117.61 27.2059 L1117.61 34.2544 Q1120.29 30.163 1123.89 28.1376 Q1127.54 26.1121 1132.28 26.1121 Q1140.1 26.1121 1144.11 30.9732 Q1148.12 35.7938 1148.12 45.1919 Z\" fill=\"#000000\" fill-rule=\"evenodd\" fill-opacity=\"1\" /><path clip-path=\"url(#clip540)\" d=\"M 0 0 M1185.79 49.3643 Q1185.79 41.2625 1182.43 36.8065 Q1179.11 32.3505 1173.07 32.3505 Q1167.08 32.3505 1163.71 36.8065 Q1160.39 41.2625 1160.39 49.3643 Q1160.39 57.4256 1163.71 61.8816 Q1167.08 66.3376 1173.07 66.3376 Q1179.11 66.3376 1182.43 61.8816 Q1185.79 57.4256 1185.79 49.3643 M1193.24 66.9452 Q1193.24 78.5308 1188.1 84.1616 Q1182.96 89.8329 1172.34 89.8329 Q1168.41 89.8329 1164.93 89.2252 Q1161.44 88.6581 1158.16 87.4428 L1158.16 80.1917 Q1161.44 81.9741 1164.65 82.8248 Q1167.85 83.6755 1171.17 83.6755 Q1178.5 83.6755 1182.14 79.8271 Q1185.79 76.0193 1185.79 68.282 L1185.79 64.5957 Q1183.48 68.6061 1179.88 70.5911 Q1176.27 72.576 1171.25 72.576 Q1162.9 72.576 1157.8 66.2161 Q1152.69 59.8562 1152.69 49.3643 Q1152.69 38.832 1157.8 32.472 Q1162.9 26.1121 1171.25 26.1121 Q1176.27 26.1121 1179.88 28.0971 Q1183.48 30.082 1185.79 34.0924 L1185.79 27.2059 L1193.24 27.2059 L1193.24 66.9452 Z\" fill=\"#000000\" fill-rule=\"evenodd\" fill-opacity=\"1\" /><path clip-path=\"url(#clip540)\" d=\"M 0 0 M1201.06 27.2059 L1208.52 27.2059 L1208.52 72.576 L1201.06 72.576 L1201.06 27.2059 M1201.06 9.54393 L1208.52 9.54393 L1208.52 18.9825 L1201.06 18.9825 L1201.06 9.54393 Z\" fill=\"#000000\" fill-rule=\"evenodd\" fill-opacity=\"1\" /><path clip-path=\"url(#clip540)\" d=\"M 0 0 M1254.05 45.1919 L1254.05 72.576 L1246.59 72.576 L1246.59 45.4349 Q1246.59 38.994 1244.08 35.7938 Q1241.57 32.5936 1236.55 32.5936 Q1230.51 32.5936 1227.03 36.4419 Q1223.55 40.2903 1223.55 46.9338 L1223.55 72.576 L1216.05 72.576 L1216.05 27.2059 L1223.55 27.2059 L1223.55 34.2544 Q1226.22 30.163 1229.82 28.1376 Q1233.47 26.1121 1238.21 26.1121 Q1246.03 26.1121 1250.04 30.9732 Q1254.05 35.7938 1254.05 45.1919 Z\" fill=\"#000000\" fill-rule=\"evenodd\" fill-opacity=\"1\" /><path clip-path=\"url(#clip540)\" d=\"M 0 0 M1300.67 48.0275 L1300.67 51.6733 L1266.4 51.6733 Q1266.89 59.3701 1271.02 63.421 Q1275.19 67.4314 1282.61 67.4314 Q1286.9 67.4314 1290.91 66.3781 Q1294.96 65.3249 1298.93 63.2184 L1298.93 70.267 Q1294.92 71.9684 1290.71 72.8596 Q1286.5 73.7508 1282.16 73.7508 Q1271.31 73.7508 1264.95 67.4314 Q1258.63 61.1119 1258.63 50.3365 Q1258.63 39.1965 1264.62 32.6746 Q1270.66 26.1121 1280.87 26.1121 Q1290.02 26.1121 1295.33 32.0264 Q1300.67 37.9003 1300.67 48.0275 M1293.22 45.84 Q1293.14 39.7232 1289.78 36.0774 Q1286.46 32.4315 1280.95 32.4315 Q1274.71 32.4315 1270.94 35.9558 Q1267.21 39.4801 1266.65 45.8805 L1293.22 45.84 Z\" fill=\"#000000\" fill-rule=\"evenodd\" fill-opacity=\"1\" /><path clip-path=\"url(#clip540)\" d=\"M 0 0 M1347.3 48.0275 L1347.3 51.6733 L1313.03 51.6733 Q1313.52 59.3701 1317.65 63.421 Q1321.82 67.4314 1329.23 67.4314 Q1333.53 67.4314 1337.54 66.3781 Q1341.59 65.3249 1345.56 63.2184 L1345.56 70.267 Q1341.55 71.9684 1337.34 72.8596 Q1333.12 73.7508 1328.79 73.7508 Q1317.93 73.7508 1311.57 67.4314 Q1305.25 61.1119 1305.25 50.3365 Q1305.25 39.1965 1311.25 32.6746 Q1317.28 26.1121 1327.49 26.1121 Q1336.65 26.1121 1341.95 32.0264 Q1347.3 37.9003 1347.3 48.0275 M1339.85 45.84 Q1339.77 39.7232 1336.4 36.0774 Q1333.08 32.4315 1327.57 32.4315 Q1321.33 32.4315 1317.57 35.9558 Q1313.84 39.4801 1313.27 45.8805 L1339.85 45.84 Z\" fill=\"#000000\" fill-rule=\"evenodd\" fill-opacity=\"1\" /><path clip-path=\"url(#clip540)\" d=\"M 0 0 M1381.41 34.1734 Q1380.15 33.4443 1378.65 33.1202 Q1377.2 32.7556 1375.41 32.7556 Q1369.09 32.7556 1365.69 36.8875 Q1362.33 40.9789 1362.33 48.6757 L1362.33 72.576 L1354.84 72.576 L1354.84 27.2059 L1362.33 27.2059 L1362.33 34.2544 Q1364.68 30.1225 1368.45 28.1376 Q1372.21 26.1121 1377.6 26.1121 Q1378.37 26.1121 1379.3 26.2337 Q1380.23 26.3147 1381.37 26.5172 L1381.41 34.1734 Z\" fill=\"#000000\" fill-rule=\"evenodd\" fill-opacity=\"1\" /><path clip-path=\"url(#clip540)\" d=\"M 0 0 M1389.23 27.2059 L1396.68 27.2059 L1396.68 72.576 L1389.23 72.576 L1389.23 27.2059 M1389.23 9.54393 L1396.68 9.54393 L1396.68 18.9825 L1389.23 18.9825 L1389.23 9.54393 Z\" fill=\"#000000\" fill-rule=\"evenodd\" fill-opacity=\"1\" /><path clip-path=\"url(#clip540)\" d=\"M 0 0 M1442.21 45.1919 L1442.21 72.576 L1434.76 72.576 L1434.76 45.4349 Q1434.76 38.994 1432.25 35.7938 Q1429.74 32.5936 1424.71 32.5936 Q1418.68 32.5936 1415.19 36.4419 Q1411.71 40.2903 1411.71 46.9338 L1411.71 72.576 L1404.22 72.576 L1404.22 27.2059 L1411.71 27.2059 L1411.71 34.2544 Q1414.38 30.163 1417.99 28.1376 Q1421.63 26.1121 1426.37 26.1121 Q1434.19 26.1121 1438.2 30.9732 Q1442.21 35.7938 1442.21 45.1919 Z\" fill=\"#000000\" fill-rule=\"evenodd\" fill-opacity=\"1\" /><path clip-path=\"url(#clip540)\" d=\"M 0 0 M1479.89 49.3643 Q1479.89 41.2625 1476.52 36.8065 Q1473.2 32.3505 1467.17 32.3505 Q1461.17 32.3505 1457.81 36.8065 Q1454.49 41.2625 1454.49 49.3643 Q1454.49 57.4256 1457.81 61.8816 Q1461.17 66.3376 1467.17 66.3376 Q1473.2 66.3376 1476.52 61.8816 Q1479.89 57.4256 1479.89 49.3643 M1487.34 66.9452 Q1487.34 78.5308 1482.2 84.1616 Q1477.05 89.8329 1466.44 89.8329 Q1462.51 89.8329 1459.02 89.2252 Q1455.54 88.6581 1452.26 87.4428 L1452.26 80.1917 Q1455.54 81.9741 1458.74 82.8248 Q1461.94 83.6755 1465.26 83.6755 Q1472.59 83.6755 1476.24 79.8271 Q1479.89 76.0193 1479.89 68.282 L1479.89 64.5957 Q1477.58 68.6061 1473.97 70.5911 Q1470.37 72.576 1465.34 72.576 Q1457 72.576 1451.89 66.2161 Q1446.79 59.8562 1446.79 49.3643 Q1446.79 38.832 1451.89 32.472 Q1457 26.1121 1465.34 26.1121 Q1470.37 26.1121 1473.97 28.0971 Q1477.58 30.082 1479.89 34.0924 L1479.89 27.2059 L1487.34 27.2059 L1487.34 66.9452 Z\" fill=\"#000000\" fill-rule=\"evenodd\" fill-opacity=\"1\" /><path clip-path=\"url(#clip540)\" d=\"M 0 0 M1530.04 18.8205 L1530.04 41.5461 L1540.33 41.5461 Q1546.04 41.5461 1549.16 38.5889 Q1552.28 35.6318 1552.28 30.163 Q1552.28 24.7348 1549.16 21.7777 Q1546.04 18.8205 1540.33 18.8205 L1530.04 18.8205 M1521.85 12.096 L1540.33 12.096 Q1550.49 12.096 1555.68 16.714 Q1560.9 21.2916 1560.9 30.163 Q1560.9 39.1155 1555.68 43.6931 Q1550.49 48.2706 1540.33 48.2706 L1530.04 48.2706 L1530.04 72.576 L1521.85 72.576 L1521.85 12.096 Z\" fill=\"#000000\" fill-rule=\"evenodd\" fill-opacity=\"1\" /><path clip-path=\"url(#clip540)\" d=\"M 0 0 M1593.55 34.1734 Q1592.3 33.4443 1590.8 33.1202 Q1589.34 32.7556 1587.56 32.7556 Q1581.24 32.7556 1577.84 36.8875 Q1574.48 40.9789 1574.48 48.6757 L1574.48 72.576 L1566.98 72.576 L1566.98 27.2059 L1574.48 27.2059 L1574.48 34.2544 Q1576.82 30.1225 1580.59 28.1376 Q1584.36 26.1121 1589.75 26.1121 Q1590.52 26.1121 1591.45 26.2337 Q1592.38 26.3147 1593.51 26.5172 L1593.55 34.1734 Z\" fill=\"#000000\" fill-rule=\"evenodd\" fill-opacity=\"1\" /><path clip-path=\"url(#clip540)\" d=\"M 0 0 M1617.13 32.4315 Q1611.14 32.4315 1607.65 37.1306 Q1604.17 41.7891 1604.17 49.9314 Q1604.17 58.0738 1607.61 62.7728 Q1611.1 67.4314 1617.13 67.4314 Q1623.09 67.4314 1626.57 62.7323 Q1630.05 58.0333 1630.05 49.9314 Q1630.05 41.8701 1626.57 37.1711 Q1623.09 32.4315 1617.13 32.4315 M1617.13 26.1121 Q1626.85 26.1121 1632.4 32.4315 Q1637.95 38.7509 1637.95 49.9314 Q1637.95 61.0714 1632.4 67.4314 Q1626.85 73.7508 1617.13 73.7508 Q1607.37 73.7508 1601.82 67.4314 Q1596.31 61.0714 1596.31 49.9314 Q1596.31 38.7509 1601.82 32.4315 Q1607.37 26.1121 1617.13 26.1121 Z\" fill=\"#000000\" fill-rule=\"evenodd\" fill-opacity=\"1\" /><path clip-path=\"url(#clip540)\" d=\"M 0 0 M1675.63 49.3643 Q1675.63 41.2625 1672.26 36.8065 Q1668.94 32.3505 1662.91 32.3505 Q1656.91 32.3505 1653.55 36.8065 Q1650.23 41.2625 1650.23 49.3643 Q1650.23 57.4256 1653.55 61.8816 Q1656.91 66.3376 1662.91 66.3376 Q1668.94 66.3376 1672.26 61.8816 Q1675.63 57.4256 1675.63 49.3643 M1683.08 66.9452 Q1683.08 78.5308 1677.94 84.1616 Q1672.79 89.8329 1662.18 89.8329 Q1658.25 89.8329 1654.76 89.2252 Q1651.28 88.6581 1648 87.4428 L1648 80.1917 Q1651.28 81.9741 1654.48 82.8248 Q1657.68 83.6755 1661 83.6755 Q1668.33 83.6755 1671.98 79.8271 Q1675.63 76.0193 1675.63 68.282 L1675.63 64.5957 Q1673.32 68.6061 1669.71 70.5911 Q1666.11 72.576 1661.08 72.576 Q1652.74 72.576 1647.63 66.2161 Q1642.53 59.8562 1642.53 49.3643 Q1642.53 38.832 1647.63 32.472 Q1652.74 26.1121 1661.08 26.1121 Q1666.11 26.1121 1669.71 28.0971 Q1673.32 30.082 1675.63 34.0924 L1675.63 27.2059 L1683.08 27.2059 L1683.08 66.9452 Z\" fill=\"#000000\" fill-rule=\"evenodd\" fill-opacity=\"1\" /><path clip-path=\"url(#clip540)\" d=\"M 0 0 M1717.19 34.1734 Q1715.93 33.4443 1714.43 33.1202 Q1712.98 32.7556 1711.19 32.7556 Q1704.87 32.7556 1701.47 36.8875 Q1698.11 40.9789 1698.11 48.6757 L1698.11 72.576 L1690.61 72.576 L1690.61 27.2059 L1698.11 27.2059 L1698.11 34.2544 Q1700.46 30.1225 1704.23 28.1376 Q1707.99 26.1121 1713.38 26.1121 Q1714.15 26.1121 1715.08 26.2337 Q1716.01 26.3147 1717.15 26.5172 L1717.19 34.1734 Z\" fill=\"#000000\" fill-rule=\"evenodd\" fill-opacity=\"1\" /><path clip-path=\"url(#clip540)\" d=\"M 0 0 M1745.63 49.7694 Q1736.59 49.7694 1733.11 51.8354 Q1729.62 53.9013 1729.62 58.8839 Q1729.62 62.8538 1732.22 65.2034 Q1734.85 67.5124 1739.35 67.5124 Q1745.54 67.5124 1749.27 63.1374 Q1753.04 58.7219 1753.04 51.4303 L1753.04 49.7694 L1745.63 49.7694 M1760.49 46.6907 L1760.49 72.576 L1753.04 72.576 L1753.04 65.6895 Q1750.49 69.8214 1746.68 71.8063 Q1742.87 73.7508 1737.36 73.7508 Q1730.39 73.7508 1726.26 69.8619 Q1722.17 65.9325 1722.17 59.3701 Q1722.17 51.7138 1727.28 47.825 Q1732.42 43.9361 1742.59 43.9361 L1753.04 43.9361 L1753.04 43.2069 Q1753.04 38.0623 1749.64 35.2672 Q1746.27 32.4315 1740.16 32.4315 Q1736.27 32.4315 1732.58 33.3632 Q1728.9 34.295 1725.49 36.1584 L1725.49 29.2718 Q1729.58 27.692 1733.43 26.9223 Q1737.28 26.1121 1740.93 26.1121 Q1750.77 26.1121 1755.63 31.2163 Q1760.49 36.3204 1760.49 46.6907 Z\" fill=\"#000000\" fill-rule=\"evenodd\" fill-opacity=\"1\" /><path clip-path=\"url(#clip540)\" d=\"M 0 0 M1803.63 35.9153 Q1806.43 30.8922 1810.32 28.5022 Q1814.21 26.1121 1819.47 26.1121 Q1826.56 26.1121 1830.41 31.0947 Q1834.26 36.0368 1834.26 45.1919 L1834.26 72.576 L1826.77 72.576 L1826.77 45.4349 Q1826.77 38.913 1824.46 35.7533 Q1822.15 32.5936 1817.41 32.5936 Q1811.61 32.5936 1808.25 36.4419 Q1804.89 40.2903 1804.89 46.9338 L1804.89 72.576 L1797.4 72.576 L1797.4 45.4349 Q1797.4 38.8725 1795.09 35.7533 Q1792.78 32.5936 1787.96 32.5936 Q1782.25 32.5936 1778.88 36.4824 Q1775.52 40.3308 1775.52 46.9338 L1775.52 72.576 L1768.03 72.576 L1768.03 27.2059 L1775.52 27.2059 L1775.52 34.2544 Q1778.07 30.082 1781.64 28.0971 Q1785.2 26.1121 1790.1 26.1121 Q1795.05 26.1121 1798.49 28.6237 Q1801.97 31.1352 1803.63 35.9153 Z\" fill=\"#000000\" fill-rule=\"evenodd\" fill-opacity=\"1\" /><path clip-path=\"url(#clip540)\" d=\"M 0 0 M1871 28.5427 L1871 35.5912 Q1867.84 33.9709 1864.44 33.1607 Q1861.04 32.3505 1857.39 32.3505 Q1851.84 32.3505 1849.05 34.0519 Q1846.29 35.7533 1846.29 39.156 Q1846.29 41.7486 1848.28 43.2475 Q1850.26 44.7058 1856.26 46.0426 L1858.81 46.6097 Q1866.75 48.3111 1870.07 51.4303 Q1873.43 54.509 1873.43 60.0587 Q1873.43 66.3781 1868.41 70.0644 Q1863.43 73.7508 1854.68 73.7508 Q1851.03 73.7508 1847.06 73.0216 Q1843.13 72.3329 1838.76 70.9151 L1838.76 63.2184 Q1842.89 65.3654 1846.9 66.4591 Q1850.91 67.5124 1854.84 67.5124 Q1860.1 67.5124 1862.94 65.73 Q1865.78 63.9071 1865.78 60.6258 Q1865.78 57.5877 1863.71 55.9673 Q1861.68 54.3469 1854.76 52.8481 L1852.16 52.2405 Q1845.24 50.7821 1842.16 47.7845 Q1839.08 44.7463 1839.08 39.4801 Q1839.08 33.0797 1843.62 29.5959 Q1848.15 26.1121 1856.5 26.1121 Q1860.63 26.1121 1864.28 26.7198 Q1867.92 27.3274 1871 28.5427 Z\" fill=\"#000000\" fill-rule=\"evenodd\" fill-opacity=\"1\" /><path clip-path=\"url(#clip540)\" d=\"M 0 0 M1237.07 1510.27 L1237.07 1520.4 L1249.13 1520.4 L1249.13 1524.95 L1237.07 1524.95 L1237.07 1544.3 Q1237.07 1548.66 1238.25 1549.9 Q1239.46 1551.14 1243.12 1551.14 L1249.13 1551.14 L1249.13 1556.04 L1243.12 1556.04 Q1236.34 1556.04 1233.76 1553.53 Q1231.18 1550.98 1231.18 1544.3 L1231.18 1524.95 L1226.88 1524.95 L1226.88 1520.4 L1231.18 1520.4 L1231.18 1510.27 L1237.07 1510.27 Z\" fill=\"#000000\" fill-rule=\"evenodd\" fill-opacity=\"1\" /><path clip-path=\"url(#clip540)\" d=\"M 0 0 M1255.28 1520.4 L1261.13 1520.4 L1261.13 1556.04 L1255.28 1556.04 L1255.28 1520.4 M1255.28 1506.52 L1261.13 1506.52 L1261.13 1513.93 L1255.28 1513.93 L1255.28 1506.52 Z\" fill=\"#000000\" fill-rule=\"evenodd\" fill-opacity=\"1\" /><path clip-path=\"url(#clip540)\" d=\"M 0 0 M1297.77 1536.76 L1297.77 1539.62 L1270.84 1539.62 Q1271.22 1545.67 1274.47 1548.85 Q1277.75 1552 1283.57 1552 Q1286.94 1552 1290.1 1551.17 Q1293.28 1550.35 1296.4 1548.69 L1296.4 1554.23 Q1293.25 1555.57 1289.94 1556.27 Q1286.63 1556.97 1283.22 1556.97 Q1274.69 1556.97 1269.69 1552 Q1264.73 1547.04 1264.73 1538.57 Q1264.73 1529.82 1269.44 1524.69 Q1274.18 1519.54 1282.2 1519.54 Q1289.4 1519.54 1293.57 1524.18 Q1297.77 1528.8 1297.77 1536.76 M1291.91 1535.04 Q1291.85 1530.23 1289.2 1527.37 Q1286.59 1524.5 1282.27 1524.5 Q1277.36 1524.5 1274.4 1527.27 Q1271.48 1530.04 1271.03 1535.07 L1291.91 1535.04 Z\" fill=\"#000000\" fill-rule=\"evenodd\" fill-opacity=\"1\" /><path clip-path=\"url(#clip540)\" d=\"M 0 0 M1324.57 1525.87 Q1323.58 1525.3 1322.4 1525.04 Q1321.26 1524.76 1319.86 1524.76 Q1314.89 1524.76 1312.22 1528 Q1309.57 1531.22 1309.57 1537.27 L1309.57 1556.04 L1303.69 1556.04 L1303.69 1520.4 L1309.57 1520.4 L1309.57 1525.93 Q1311.42 1522.69 1314.38 1521.13 Q1317.34 1519.54 1321.57 1519.54 Q1322.18 1519.54 1322.91 1519.63 Q1323.64 1519.7 1324.53 1519.85 L1324.57 1525.87 Z\" fill=\"#000000\" fill-rule=\"evenodd\" fill-opacity=\"1\" /><path clip-path=\"url(#clip540)\" d=\"M 0 0 M1353.43 1521.45 L1353.43 1526.98 Q1350.95 1525.71 1348.28 1525.07 Q1345.6 1524.44 1342.74 1524.44 Q1338.38 1524.44 1336.18 1525.77 Q1334.02 1527.11 1334.02 1529.79 Q1334.02 1531.82 1335.58 1533 Q1337.14 1534.15 1341.85 1535.2 L1343.85 1535.64 Q1350.09 1536.98 1352.7 1539.43 Q1355.34 1541.85 1355.34 1546.21 Q1355.34 1551.17 1351.4 1554.07 Q1347.48 1556.97 1340.61 1556.97 Q1337.74 1556.97 1334.62 1556.39 Q1331.54 1555.85 1328.1 1554.74 L1328.1 1548.69 Q1331.35 1550.38 1334.5 1551.24 Q1337.65 1552.07 1340.73 1552.07 Q1344.87 1552.07 1347.1 1550.66 Q1349.33 1549.23 1349.33 1546.65 Q1349.33 1544.27 1347.71 1542.99 Q1346.11 1541.72 1340.67 1540.54 L1338.63 1540.07 Q1333.19 1538.92 1330.77 1536.56 Q1328.35 1534.18 1328.35 1530.04 Q1328.35 1525.01 1331.92 1522.27 Q1335.48 1519.54 1342.04 1519.54 Q1345.29 1519.54 1348.15 1520.01 Q1351.02 1520.49 1353.43 1521.45 Z\" fill=\"#000000\" fill-rule=\"evenodd\" fill-opacity=\"1\" /><path clip-path=\"url(#clip540)\" d=\"M 0 0 M53.7248 1049.74 L59.1993 1049.74 Q57.8307 1052.22 57.1623 1054.74 Q56.4621 1057.22 56.4621 1059.77 Q56.4621 1065.46 60.0905 1068.62 Q63.6872 1071.77 70.212 1071.77 Q76.7369 1071.77 80.3653 1068.62 Q83.9619 1065.46 83.9619 1059.77 Q83.9619 1057.22 83.2935 1054.74 Q82.5933 1052.22 81.2247 1049.74 L86.6355 1049.74 Q87.7814 1052.19 88.3543 1054.83 Q88.9272 1057.44 88.9272 1060.4 Q88.9272 1068.46 83.8664 1073.2 Q78.8057 1077.94 70.212 1077.94 Q61.491 1077.94 56.4939 1073.17 Q51.4968 1068.36 51.4968 1060.02 Q51.4968 1057.32 52.0697 1054.74 Q52.6108 1052.16 53.7248 1049.74 Z\" fill=\"#000000\" fill-rule=\"evenodd\" fill-opacity=\"1\" /><path clip-path=\"url(#clip540)\" d=\"M 0 0 M73.9359 1044.2 L52.3562 1044.2 L52.3562 1038.35 L73.7131 1038.35 Q78.7739 1038.35 81.3202 1036.37 Q83.8346 1034.4 83.8346 1030.45 Q83.8346 1025.71 80.8109 1022.97 Q77.7872 1020.2 72.5673 1020.2 L52.3562 1020.2 L52.3562 1014.35 L88.0042 1014.35 L88.0042 1020.2 L82.5296 1020.2 Q85.7762 1022.34 87.3676 1025.17 Q88.9272 1027.97 88.9272 1031.69 Q88.9272 1037.84 85.1078 1041.02 Q81.2883 1044.2 73.9359 1044.2 M51.4968 1029.47 L51.4968 1029.47 Z\" fill=\"#000000\" fill-rule=\"evenodd\" fill-opacity=\"1\" /><path clip-path=\"url(#clip540)\" d=\"M 0 0 M57.8307 987.548 Q57.2578 988.535 57.0032 989.712 Q56.7167 990.858 56.7167 992.259 Q56.7167 997.224 59.9632 999.897 Q63.1779 1002.54 69.2253 1002.54 L88.0042 1002.54 L88.0042 1008.43 L52.3562 1008.43 L52.3562 1002.54 L57.8944 1002.54 Q54.6479 1000.69 53.0883 997.733 Q51.4968 994.773 51.4968 990.54 Q51.4968 989.935 51.5923 989.203 Q51.656 988.471 51.8151 987.58 L57.8307 987.548 Z\" fill=\"#000000\" fill-rule=\"evenodd\" fill-opacity=\"1\" /><path clip-path=\"url(#clip540)\" d=\"M 0 0 M57.8307 961.894 Q57.2578 962.881 57.0032 964.058 Q56.7167 965.204 56.7167 966.605 Q56.7167 971.57 59.9632 974.244 Q63.1779 976.885 69.2253 976.885 L88.0042 976.885 L88.0042 982.774 L52.3562 982.774 L52.3562 976.885 L57.8944 976.885 Q54.6479 975.039 53.0883 972.079 Q51.4968 969.119 51.4968 964.886 Q51.4968 964.281 51.5923 963.549 Q51.656 962.817 51.8151 961.926 L57.8307 961.894 Z\" fill=\"#000000\" fill-rule=\"evenodd\" fill-opacity=\"1\" /><path clip-path=\"url(#clip540)\" d=\"M 0 0 M52.3562 955.751 L52.3562 949.895 L88.0042 949.895 L88.0042 955.751 L52.3562 955.751 M38.479 955.751 L38.479 949.895 L45.895 949.895 L45.895 955.751 L38.479 955.751 Z\" fill=\"#000000\" fill-rule=\"evenodd\" fill-opacity=\"1\" /><path clip-path=\"url(#clip540)\" d=\"M 0 0 M53.7248 918.098 L59.1993 918.098 Q57.8307 920.581 57.1623 923.095 Q56.4621 925.578 56.4621 928.124 Q56.4621 933.821 60.0905 936.972 Q63.6872 940.123 70.212 940.123 Q76.7369 940.123 80.3653 936.972 Q83.9619 933.821 83.9619 928.124 Q83.9619 925.578 83.2935 923.095 Q82.5933 920.581 81.2247 918.098 L86.6355 918.098 Q87.7814 920.549 88.3543 923.191 Q88.9272 925.801 88.9272 928.761 Q88.9272 936.813 83.8664 941.556 Q78.8057 946.298 70.212 946.298 Q61.491 946.298 56.4939 941.524 Q51.4968 936.718 51.4968 928.379 Q51.4968 925.673 52.0697 923.095 Q52.6108 920.517 53.7248 918.098 Z\" fill=\"#000000\" fill-rule=\"evenodd\" fill-opacity=\"1\" /><path clip-path=\"url(#clip540)\" d=\"M 0 0 M73.9359 912.56 L52.3562 912.56 L52.3562 906.703 L73.7131 906.703 Q78.7739 906.703 81.3202 904.73 Q83.8346 902.757 83.8346 898.81 Q83.8346 894.068 80.8109 891.33 Q77.7872 888.561 72.5673 888.561 L52.3562 888.561 L52.3562 882.705 L88.0042 882.705 L88.0042 888.561 L82.5296 888.561 Q85.7762 890.694 87.3676 893.526 Q88.9272 896.327 88.9272 900.051 Q88.9272 906.194 85.1078 909.377 Q81.2883 912.56 73.9359 912.56 M51.4968 897.823 L51.4968 897.823 Z\" fill=\"#000000\" fill-rule=\"evenodd\" fill-opacity=\"1\" /><path clip-path=\"url(#clip540)\" d=\"M 0 0 M38.479 876.562 L38.479 870.705 L88.0042 870.705 L88.0042 876.562 L38.479 876.562 Z\" fill=\"#000000\" fill-rule=\"evenodd\" fill-opacity=\"1\" /><path clip-path=\"url(#clip540)\" d=\"M 0 0 M70.0847 848.362 Q70.0847 855.46 71.7079 858.197 Q73.3312 860.934 77.2461 860.934 Q80.3653 860.934 82.2114 858.897 Q84.0256 856.828 84.0256 853.295 Q84.0256 848.425 80.5881 845.497 Q77.1188 842.537 71.3897 842.537 L70.0847 842.537 L70.0847 848.362 M67.6657 836.681 L88.0042 836.681 L88.0042 842.537 L82.5933 842.537 Q85.8398 844.542 87.3994 847.534 Q88.9272 850.526 88.9272 854.855 Q88.9272 860.329 85.8716 863.576 Q82.7843 866.79 77.6281 866.79 Q71.6125 866.79 68.5569 862.78 Q65.5014 858.738 65.5014 850.749 L65.5014 842.537 L64.9285 842.537 Q60.8862 842.537 58.6901 845.211 Q56.4621 847.852 56.4621 852.659 Q56.4621 855.714 57.1941 858.611 Q57.9262 861.507 59.3903 864.181 L53.9795 864.181 Q52.7381 860.966 52.1334 857.942 Q51.4968 854.918 51.4968 852.054 Q51.4968 844.32 55.5072 840.5 Q59.5176 836.681 67.6657 836.681 Z\" fill=\"#000000\" fill-rule=\"evenodd\" fill-opacity=\"1\" /><path clip-path=\"url(#clip540)\" d=\"M 0 0 M57.8307 809.881 Q57.2578 810.868 57.0032 812.045 Q56.7167 813.191 56.7167 814.592 Q56.7167 819.557 59.9632 822.231 Q63.1779 824.872 69.2253 824.872 L88.0042 824.872 L88.0042 830.761 L52.3562 830.761 L52.3562 824.872 L57.8944 824.872 Q54.6479 823.026 53.0883 820.066 Q51.4968 817.106 51.4968 812.873 Q51.4968 812.268 51.5923 811.536 Q51.656 810.804 51.8151 809.913 L57.8307 809.881 Z\" fill=\"#000000\" fill-rule=\"evenodd\" fill-opacity=\"1\" /><path clip-path=\"url(#clip540)\" d=\"M 0 0 M53.7248 757.364 L59.1993 757.364 Q57.8307 759.847 57.1623 762.361 Q56.4621 764.844 56.4621 767.39 Q56.4621 773.087 60.0905 776.238 Q63.6872 779.389 70.212 779.389 Q76.7369 779.389 80.3653 776.238 Q83.9619 773.087 83.9619 767.39 Q83.9619 764.844 83.2935 762.361 Q82.5933 759.847 81.2247 757.364 L86.6355 757.364 Q87.7814 759.815 88.3543 762.457 Q88.9272 765.066 88.9272 768.027 Q88.9272 776.079 83.8664 780.822 Q78.8057 785.564 70.212 785.564 Q61.491 785.564 56.4939 780.79 Q51.4968 775.984 51.4968 767.645 Q51.4968 764.939 52.0697 762.361 Q52.6108 759.783 53.7248 757.364 Z\" fill=\"#000000\" fill-rule=\"evenodd\" fill-opacity=\"1\" /><path clip-path=\"url(#clip540)\" d=\"M 0 0 M56.4621 737.407 Q56.4621 742.118 60.1542 744.855 Q63.8145 747.593 70.212 747.593 Q76.6095 747.593 80.3017 744.887 Q83.9619 742.15 83.9619 737.407 Q83.9619 732.729 80.2698 729.991 Q76.5777 727.254 70.212 727.254 Q63.8781 727.254 60.186 729.991 Q56.4621 732.729 56.4621 737.407 M51.4968 737.407 Q51.4968 729.769 56.4621 725.408 Q61.4273 721.048 70.212 721.048 Q78.9649 721.048 83.9619 725.408 Q88.9272 729.769 88.9272 737.407 Q88.9272 745.078 83.9619 749.439 Q78.9649 753.767 70.212 753.767 Q61.4273 753.767 56.4621 749.439 Q51.4968 745.078 51.4968 737.407 Z\" fill=\"#000000\" fill-rule=\"evenodd\" fill-opacity=\"1\" /><path clip-path=\"url(#clip540)\" d=\"M 0 0 M59.1993 687.15 Q55.2526 684.954 53.3747 681.899 Q51.4968 678.843 51.4968 674.705 Q51.4968 669.135 55.4117 666.112 Q59.2948 663.088 66.4881 663.088 L88.0042 663.088 L88.0042 668.976 L66.679 668.976 Q61.5546 668.976 59.072 670.79 Q56.5894 672.605 56.5894 676.329 Q56.5894 680.88 59.6131 683.522 Q62.6368 686.164 67.8567 686.164 L88.0042 686.164 L88.0042 692.052 L66.679 692.052 Q61.5228 692.052 59.072 693.866 Q56.5894 695.68 56.5894 699.468 Q56.5894 703.956 59.6449 706.597 Q62.6686 709.239 67.8567 709.239 L88.0042 709.239 L88.0042 715.128 L52.3562 715.128 L52.3562 709.239 L57.8944 709.239 Q54.616 707.234 53.0564 704.433 Q51.4968 701.632 51.4968 697.781 Q51.4968 693.898 53.4702 691.192 Q55.4436 688.455 59.1993 687.15 Z\" fill=\"#000000\" fill-rule=\"evenodd\" fill-opacity=\"1\" /><path clip-path=\"url(#clip540)\" d=\"M 0 0 M82.657 651.279 L101.563 651.279 L101.563 657.168 L52.3562 657.168 L52.3562 651.279 L57.7671 651.279 Q54.5842 649.433 53.0564 646.633 Q51.4968 643.8 51.4968 639.885 Q51.4968 633.392 56.6531 629.35 Q61.8093 625.276 70.212 625.276 Q78.6147 625.276 83.771 629.35 Q88.9272 633.392 88.9272 639.885 Q88.9272 643.8 87.3994 646.633 Q85.8398 649.433 82.657 651.279 M70.212 631.355 Q63.7508 631.355 60.0905 634.028 Q56.3984 636.67 56.3984 641.317 Q56.3984 645.964 60.0905 648.638 Q63.7508 651.279 70.212 651.279 Q76.6732 651.279 80.3653 648.638 Q84.0256 645.964 84.0256 641.317 Q84.0256 636.67 80.3653 634.028 Q76.6732 631.355 70.212 631.355 Z\" fill=\"#000000\" fill-rule=\"evenodd\" fill-opacity=\"1\" /><path clip-path=\"url(#clip540)\" d=\"M 0 0 M38.479 619.133 L38.479 613.276 L88.0042 613.276 L88.0042 619.133 L38.479 619.133 Z\" fill=\"#000000\" fill-rule=\"evenodd\" fill-opacity=\"1\" /><path clip-path=\"url(#clip540)\" d=\"M 0 0 M68.7161 576.642 L71.5806 576.642 L71.5806 603.569 Q77.6281 603.187 80.8109 599.94 Q83.9619 596.662 83.9619 590.837 Q83.9619 587.463 83.1344 584.312 Q82.3069 581.129 80.6518 578.01 L86.1899 578.01 Q87.5267 581.161 88.227 584.471 Q88.9272 587.782 88.9272 591.187 Q88.9272 599.717 83.9619 604.714 Q78.9967 609.68 70.5303 609.68 Q61.7774 609.68 56.6531 604.969 Q51.4968 600.227 51.4968 592.206 Q51.4968 585.012 56.1438 580.843 Q60.7589 576.642 68.7161 576.642 M66.9973 582.498 Q62.1912 582.562 59.3266 585.203 Q56.4621 587.813 56.4621 592.142 Q56.4621 597.044 59.2312 600.004 Q62.0002 602.932 67.0292 603.378 L66.9973 582.498 Z\" fill=\"#000000\" fill-rule=\"evenodd\" fill-opacity=\"1\" /><path clip-path=\"url(#clip540)\" d=\"M 0 0 M52.3562 542.012 L69.7028 554.903 L88.0042 541.344 L88.0042 548.251 L73.9996 558.627 L88.0042 569.003 L88.0042 575.91 L69.3526 562.064 L52.3562 574.732 L52.3562 567.825 L65.0558 558.372 L52.3562 548.919 L52.3562 542.012 Z\" fill=\"#000000\" fill-rule=\"evenodd\" fill-opacity=\"1\" /><path clip-path=\"url(#clip540)\" d=\"M 0 0 M52.3562 535.201 L52.3562 529.344 L88.0042 529.344 L88.0042 535.201 L52.3562 535.201 M38.479 535.201 L38.479 529.344 L45.895 529.344 L45.895 535.201 L38.479 535.201 Z\" fill=\"#000000\" fill-rule=\"evenodd\" fill-opacity=\"1\" /><path clip-path=\"url(#clip540)\" d=\"M 0 0 M42.2347 517.409 L52.3562 517.409 L52.3562 505.346 L56.9077 505.346 L56.9077 517.409 L76.2594 517.409 Q80.6199 517.409 81.8613 516.231 Q83.1026 515.022 83.1026 511.361 L83.1026 505.346 L88.0042 505.346 L88.0042 511.361 Q88.0042 518.141 85.4897 520.719 Q82.9434 523.297 76.2594 523.297 L56.9077 523.297 L56.9077 527.594 L52.3562 527.594 L52.3562 523.297 L42.2347 523.297 L42.2347 517.409 Z\" fill=\"#000000\" fill-rule=\"evenodd\" fill-opacity=\"1\" /><path clip-path=\"url(#clip540)\" d=\"M 0 0 M91.3143 484.371 Q97.68 486.853 99.6216 489.209 Q101.563 491.564 101.563 495.511 L101.563 500.189 L96.6615 500.189 L96.6615 496.752 Q96.6615 494.333 95.5157 492.996 Q94.3699 491.659 90.1048 490.036 L87.4312 488.986 L52.3562 503.404 L52.3562 497.198 L80.238 486.058 L52.3562 474.918 L52.3562 468.711 L91.3143 484.371 Z\" fill=\"#000000\" fill-rule=\"evenodd\" fill-opacity=\"1\" /><path clip-path=\"url(#clip542)\" d=\"\n",
       "M512.132 1386.4 L289.566 1386.4 L734.698 1386.4 L512.132 1386.4 L512.132 1185.79 L512.132 1386.4  Z\n",
       "  \" fill=\"#1874cd\" fill-rule=\"evenodd\" fill-opacity=\"0.7\"/>\n",
       "<polyline clip-path=\"url(#clip542)\" style=\"stroke:#000000; stroke-width:4; stroke-opacity:0.7; fill:none\" points=\"\n",
       "  512.132,1386.4 289.566,1386.4 734.698,1386.4 512.132,1386.4 512.132,1185.79 512.132,1386.4 \n",
       "  \"/>\n",
       "<path clip-path=\"url(#clip542)\" d=\"\n",
       "M289.566 1185.79 L289.566 1173.33 L400.849 1067.34 L623.415 1067.34 L734.698 1173.33 L734.698 1185.79 L289.566 1185.79 L289.566 1185.79  Z\n",
       "  \" fill=\"#1874cd\" fill-rule=\"evenodd\" fill-opacity=\"0.7\"/>\n",
       "<polyline clip-path=\"url(#clip542)\" style=\"stroke:#000000; stroke-width:4; stroke-opacity:0.7; fill:none\" points=\"\n",
       "  289.566,1185.79 289.566,1173.33 400.849,1067.34 623.415,1067.34 734.698,1173.33 734.698,1185.79 289.566,1185.79 \n",
       "  \"/>\n",
       "<path clip-path=\"url(#clip542)\" d=\"\n",
       "M289.566 878.397 L289.566 961.354 L400.849 1067.34 L623.415 1067.34 L734.698 961.354 L734.698 878.397 L289.566 878.397 L289.566 878.397  Z\n",
       "  \" fill=\"#1874cd\" fill-rule=\"evenodd\" fill-opacity=\"0.7\"/>\n",
       "<polyline clip-path=\"url(#clip542)\" style=\"stroke:#000000; stroke-width:4; stroke-opacity:0.7; fill:none\" points=\"\n",
       "  289.566,878.397 289.566,961.354 400.849,1067.34 623.415,1067.34 734.698,961.354 734.698,878.397 289.566,878.397 \n",
       "  \"/>\n",
       "<path clip-path=\"url(#clip542)\" d=\"\n",
       "M512.132 451.753 L289.566 451.753 L734.698 451.753 L512.132 451.753 L512.132 878.397 L512.132 451.753  Z\n",
       "  \" fill=\"#1874cd\" fill-rule=\"evenodd\" fill-opacity=\"0.7\"/>\n",
       "<polyline clip-path=\"url(#clip542)\" style=\"stroke:#000000; stroke-width:4; stroke-opacity:0.7; fill:none\" points=\"\n",
       "  512.132,451.753 289.566,451.753 734.698,451.753 512.132,451.753 512.132,878.397 512.132,451.753 \n",
       "  \"/>\n",
       "<circle clip-path=\"url(#clip542)\" cx=\"1291.11\" cy=\"406.703\" r=\"14\" fill=\"#1874cd\" fill-rule=\"evenodd\" fill-opacity=\"0.7\" stroke=\"#000000\" stroke-opacity=\"0.7\" stroke-width=\"3.2\"/>\n",
       "<circle clip-path=\"url(#clip542)\" cx=\"1291.11\" cy=\"351.054\" r=\"14\" fill=\"#1874cd\" fill-rule=\"evenodd\" fill-opacity=\"0.7\" stroke=\"#000000\" stroke-opacity=\"0.7\" stroke-width=\"3.2\"/>\n",
       "<circle clip-path=\"url(#clip542)\" cx=\"1291.11\" cy=\"160.256\" r=\"14\" fill=\"#1874cd\" fill-rule=\"evenodd\" fill-opacity=\"0.7\" stroke=\"#000000\" stroke-opacity=\"0.7\" stroke-width=\"3.2\"/>\n",
       "<path clip-path=\"url(#clip542)\" d=\"\n",
       "M1291.11 1079.79 L1068.55 1079.79 L1513.68 1079.79 L1291.11 1079.79 L1291.11 899.597 L1291.11 1079.79  Z\n",
       "  \" fill=\"#1874cd\" fill-rule=\"evenodd\" fill-opacity=\"0.7\"/>\n",
       "<polyline clip-path=\"url(#clip542)\" style=\"stroke:#000000; stroke-width:4; stroke-opacity:0.7; fill:none\" points=\"\n",
       "  1291.11,1079.79 1068.55,1079.79 1513.68,1079.79 1291.11,1079.79 1291.11,899.597 1291.11,1079.79 \n",
       "  \"/>\n",
       "<path clip-path=\"url(#clip542)\" d=\"\n",
       "M1068.55 899.597 L1068.55 835.533 L1179.83 769.749 L1402.4 769.749 L1513.68 835.533 L1513.68 899.597 L1068.55 899.597 L1068.55 899.597  Z\n",
       "  \" fill=\"#1874cd\" fill-rule=\"evenodd\" fill-opacity=\"0.7\"/>\n",
       "<polyline clip-path=\"url(#clip542)\" style=\"stroke:#000000; stroke-width:4; stroke-opacity:0.7; fill:none\" points=\"\n",
       "  1068.55,899.597 1068.55,835.533 1179.83,769.749 1402.4,769.749 1513.68,835.533 1513.68,899.597 1068.55,899.597 \n",
       "  \"/>\n",
       "<path clip-path=\"url(#clip542)\" d=\"\n",
       "M1068.55 708.799 L1068.55 703.965 L1179.83 769.749 L1402.4 769.749 L1513.68 703.965 L1513.68 708.799 L1068.55 708.799 L1068.55 708.799  Z\n",
       "  \" fill=\"#1874cd\" fill-rule=\"evenodd\" fill-opacity=\"0.7\"/>\n",
       "<polyline clip-path=\"url(#clip542)\" style=\"stroke:#000000; stroke-width:4; stroke-opacity:0.7; fill:none\" points=\"\n",
       "  1068.55,708.799 1068.55,703.965 1179.83,769.749 1402.4,769.749 1513.68,703.965 1513.68,708.799 1068.55,708.799 \n",
       "  \"/>\n",
       "<path clip-path=\"url(#clip542)\" d=\"\n",
       "M1291.11 634.6 L1068.55 634.6 L1513.68 634.6 L1291.11 634.6 L1291.11 708.799 L1291.11 634.6  Z\n",
       "  \" fill=\"#1874cd\" fill-rule=\"evenodd\" fill-opacity=\"0.7\"/>\n",
       "<polyline clip-path=\"url(#clip542)\" style=\"stroke:#000000; stroke-width:4; stroke-opacity:0.7; fill:none\" points=\"\n",
       "  1291.11,634.6 1068.55,634.6 1513.68,634.6 1291.11,634.6 1291.11,708.799 1291.11,634.6 \n",
       "  \"/>\n",
       "<circle clip-path=\"url(#clip542)\" cx=\"2070.1\" cy=\"1095.69\" r=\"14\" fill=\"#1874cd\" fill-rule=\"evenodd\" fill-opacity=\"0.7\" stroke=\"#000000\" stroke-opacity=\"0.7\" stroke-width=\"3.2\"/>\n",
       "<path clip-path=\"url(#clip542)\" d=\"\n",
       "M2070.1 891.647 L1847.53 891.647 L2292.66 891.647 L2070.1 891.647 L2070.1 732.649 L2070.1 891.647  Z\n",
       "  \" fill=\"#1874cd\" fill-rule=\"evenodd\" fill-opacity=\"0.7\"/>\n",
       "<polyline clip-path=\"url(#clip542)\" style=\"stroke:#000000; stroke-width:4; stroke-opacity:0.7; fill:none\" points=\"\n",
       "  2070.1,891.647 1847.53,891.647 2292.66,891.647 2070.1,891.647 2070.1,732.649 2070.1,891.647 \n",
       "  \"/>\n",
       "<path clip-path=\"url(#clip542)\" d=\"\n",
       "M1847.53 732.649 L1847.53 685.031 L1958.81 602.801 L2181.38 602.801 L2292.66 685.031 L2292.66 732.649 L1847.53 732.649 L1847.53 732.649  Z\n",
       "  \" fill=\"#1874cd\" fill-rule=\"evenodd\" fill-opacity=\"0.7\"/>\n",
       "<polyline clip-path=\"url(#clip542)\" style=\"stroke:#000000; stroke-width:4; stroke-opacity:0.7; fill:none\" points=\"\n",
       "  1847.53,732.649 1847.53,685.031 1958.81,602.801 2181.38,602.801 2292.66,685.031 2292.66,732.649 1847.53,732.649 \n",
       "  \"/>\n",
       "<path clip-path=\"url(#clip542)\" d=\"\n",
       "M1847.53 494.152 L1847.53 520.571 L1958.81 602.801 L2181.38 602.801 L2292.66 520.571 L2292.66 494.152 L1847.53 494.152 L1847.53 494.152  Z\n",
       "  \" fill=\"#1874cd\" fill-rule=\"evenodd\" fill-opacity=\"0.7\"/>\n",
       "<polyline clip-path=\"url(#clip542)\" style=\"stroke:#000000; stroke-width:4; stroke-opacity:0.7; fill:none\" points=\"\n",
       "  1847.53,494.152 1847.53,520.571 1958.81,602.801 2181.38,602.801 2292.66,520.571 2292.66,494.152 1847.53,494.152 \n",
       "  \"/>\n",
       "<path clip-path=\"url(#clip542)\" d=\"\n",
       "M2070.1 213.256 L1847.53 213.256 L2292.66 213.256 L2070.1 213.256 L2070.1 494.152 L2070.1 213.256  Z\n",
       "  \" fill=\"#1874cd\" fill-rule=\"evenodd\" fill-opacity=\"0.7\"/>\n",
       "<polyline clip-path=\"url(#clip542)\" style=\"stroke:#000000; stroke-width:4; stroke-opacity:0.7; fill:none\" points=\"\n",
       "  2070.1,213.256 1847.53,213.256 2292.66,213.256 2070.1,213.256 2070.1,494.152 2070.1,213.256 \n",
       "  \"/>\n",
       "</svg>\n"
      ]
     },
     "execution_count": 54,
     "metadata": {},
     "output_type": "execute_result"
    }
   ],
   "source": [
    "series_top = Array{Real,1}();  series_middle = Array{Real,1}();  series_bottom = Array{Real,1}()\n",
    "for curric in top_tier\n",
    "    push!(series_top, curric.metrics[\"complexity\"][1])\n",
    "end\n",
    "for curric in middle_tier\n",
    "    push!(series_middle, curric.metrics[\"complexity\"][1])\n",
    "end\n",
    "for curric in bottom_tier\n",
    "    push!(series_bottom, curric.metrics[\"complexity\"][1])\n",
    "end\n",
    "boxplot([\"top\" \"middle\" \"bottom\"], [series_top, series_middle, series_bottom], notch=true, title=\"Electrical Engineering Programs\", \n",
    "    xlabel=\"tiers\", ylabel=\"curricular complexity\", legend=false, alpha=0.7, color=:dodgerblue3)"
   ]
  },
  {
   "cell_type": "markdown",
   "metadata": {},
   "source": [
    "## Conclusions"
   ]
  },
  {
   "cell_type": "markdown",
   "metadata": {},
   "source": [
    "We have demonstrated that an inverse relationship exists between the complexity of the curricula in undergraduate electrical engineering programs and the perceived quality of these programs. Specifically, at doctoral-granting engineering schools the complexity of the electrical engineering undergraduate curricula at the highest quality schools (where quality is subjectively determined by a survey proved to all schools in this category) is drastically less than the complexity of the curricula at those schools judged to be at the lower end of this quality ranking. The average complexity of those schools at the bottom of the raking is almost twice the average of those schools in the top decile of the ranking. In addition, we demonstrated that this difference is statistically significant; that is, this difference is due to something other than chance. Because the complexity of a curriculum is a measure of the difficulty that students are expected to have completing that curriculum, this difference has important student success implications. In particular, if we were to equalize instructional factors (e.g., the difficulty of the courses in the curriculum, the support services provided to students, etc.) and student background preparation, we would expect students to graduate at a higher rate from the lower complexity curricula. This is indeed what we observe, and the fact that this benefit is most pronounced in the highest quality programs deserves further investigation. It is possible to produce arguments for both sides of a possible cause-and-effect relationship between curricular complexity and program quality.  Below we consider a few.\n",
    "\n",
    "One might argue that because the top tier schools admit better prepared students they can offer less complex curricula, as their students can more easily overcome any knowledge gaps that may exist due to having fewer prerequisites prior to attempting a given course, as well as fewer total courses in their curricula. It should be noted, however, that there are a number of schools outside the tier that have created pathways in the first year of their curricula that substantially reduce curricular complexity. These curricular innovations have been demonstrated to significantly improve graduation rates, as well as the attainment of program learning outcomes. That is, it is possible to reduce the complexity of engineering programs that serve less-prepared students, while actually improving program quality (as judged by outcomes). More generally, we note that the principle of Occam's razor is often applied to guide engineering designs towards the simplest and therefore best solutions.  One of the most popular versions of this principle states, ``Entities are not to be multiplied without necessity.''  We posit that this study indicates this principle applies to curricula.  Namely, the simplest curriculum (in terms of complexity) that allows students to attain a program's learning outcomes yields the best student success outcomes and therefore the highest quality program."
   ]
  },
  {
   "cell_type": "markdown",
   "metadata": {},
   "source": [
    "## References\n",
    "Accreditation Board for Engineering and Technology (ABET) (2017). Criteria for Accrediting Engineering Programs: Effective for Reviews During the 2017–2018 Accreditation Cycle. www.abet.org.\n",
    "\n",
    "Cornell University, Electrical and Computer Engineering, Program Requirements, (accessed August 10, 2018). www.ece.cornell.edu/ece/programs/undergraduate-programs/majors/program-requirements.\n",
    "\n",
    "Heileman, G. L., Abdallah, C.T., Slim, A., and Hickman, M. (2018). Curricular analytics: A framework for quantifying the impact of curricular reforms and pedagogical innovations. www.arXiv.org, arXiv:1811.09676 [cs.CY].\n",
    "\n",
    "Heileman, G. L., Free, H. W., Abar, O. and Thompson-Arjona, W. G, (2019). CurricularAnalytics.jl Toolbox. https://github.com/heileman/CurricularAnalytics.jl."
   ]
  },
  {
   "cell_type": "code",
   "execution_count": null,
   "metadata": {},
   "outputs": [],
   "source": []
  }
 ],
 "metadata": {
  "@webio": {
   "lastCommId": "0f97e3c148f5407abb10aad49ae5af7e",
   "lastKernelId": "b01b4bf7-3b32-448f-9cb2-7823e19c9418"
  },
  "kernelspec": {
   "display_name": "Julia 1.5.0",
   "language": "julia",
   "name": "julia-1.5"
  },
  "language_info": {
   "file_extension": ".jl",
   "mimetype": "application/julia",
   "name": "julia",
   "version": "1.5.0"
  }
 },
 "nbformat": 4,
 "nbformat_minor": 2
}
