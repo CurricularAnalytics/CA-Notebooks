{
 "cells": [
  {
   "cell_type": "markdown",
   "metadata": {},
   "source": [
    "# <center>Does Curricular Complexity Imply Program Quality?</center>\n",
    "\n",
    "<center>\n",
    "    <b>Gregory L. Heileman$^\\dagger$, William G. Thompson-Arjona$^\\dagger$, Orhan Abar$^\\ddagger$ and Hayden W. Free$^\\ddagger$</b> <br>\n",
    "    $^\\dagger$Department of Electrical & Computer Engineering <br>\n",
    "    $^\\ddagger$Department of Computer Science <br>\n",
    "    University of Kentucky <br>\n",
    "    {greg.heileman, wgthompson, orhan.abar,  hayden.free}@uky.edu\n",
    "</center>\n",
    "\n",
    "## Introduction\n",
    "In this notebook we compare the complexity of electrical engineering programs across the U.S. News & World report rankings, revealing a surprising finding, namely that higher ranked programs tend to have less complex curricula.  Because the curricular complexity metrics used here directly relate to a student's ability to complete that curriculum, this means that from a structural perspective (i.e., the manner in which curricula are structured), it is generally easier for students to complete the electrical engineering curricula at higher ranked schools.  \n",
    "\n",
    "This analysis is based upon recently developed curricular complexity metrics (see <cite data-cite=\"he:18\">Heileman, et. al, (2018)</cite>).  Research in this area demonstrates that according to these complexity metrics, engineering programs tend to be among the most complex univeristy curricula. This is attributed to the large number of prerequisites that accompany many of the courses in engineering programs, as well as the long prerequisite chains that tend to exist in these curricula. This notebook makes use use of a Curricular Analytics toolbox that was built to compute these curricular complexity metrics <cite data-cite=\"he:18\">Heileman, et. al. (2019)</cite>).    \n",
    "\n",
    "The following commands will install the Curricular Analytics toolbox, as well as a number of other Julia programming language packages that are used within the notebook: "
   ]
  },
  {
   "cell_type": "code",
   "execution_count": 1,
   "metadata": {},
   "outputs": [
    {
     "data": {
      "text/html": [
       "<script>\n",
       "// Immediately-invoked-function-expression to avoid global variables.\n",
       "(function() {\n",
       "    var warning_div = document.getElementById(\"webio-warning-10031733278018967186\");\n",
       "    var hide = function () {\n",
       "        var script = document.getElementById(\"webio-setup-3650039432966757740\");\n",
       "        var parent = script && script.parentElement;\n",
       "        var grandparent = parent && parent.parentElement;\n",
       "        if (grandparent) {\n",
       "            grandparent.style.display = \"none\";\n",
       "        }\n",
       "        warning_div.style.display = \"none\";\n",
       "    };\n",
       "    if (typeof Jupyter !== \"undefined\") {\n",
       "        console.log(\"WebIO detected Jupyter notebook environment.\");\n",
       "        // Jupyter notebook.\n",
       "        var extensions = (\n",
       "            Jupyter\n",
       "            && Jupyter.notebook.config.data\n",
       "            && Jupyter.notebook.config.data.load_extensions\n",
       "        );\n",
       "        if (extensions && extensions[\"webio-jupyter-notebook\"]) {\n",
       "            // Extension already loaded.\n",
       "            console.log(\"Jupyter WebIO nbextension detected; not loading ad-hoc.\");\n",
       "            hide();\n",
       "            return;\n",
       "        }\n",
       "    } else if (window.location.pathname.includes(\"/lab\")) {\n",
       "        // Guessing JupyterLa\n",
       "        console.log(\"Jupyter Lab detected; make sure the @webio/jupyter-lab-provider labextension is installed.\");\n",
       "        hide();\n",
       "        return;\n",
       "    }\n",
       "})();\n",
       "\n",
       "</script>\n",
       "<p\n",
       "    id=\"webio-warning-10031733278018967186\"\n",
       "    class=\"output_text output_stderr\"\n",
       "    style=\"padding: 1em; font-weight: bold;\"\n",
       ">\n",
       "    Unable to load WebIO. Please make sure WebIO works for your Jupyter client.\n",
       "    For troubleshooting, please see <a href=\"https://juliagizmos.github.io/WebIO.jl/latest/providers/ijulia/\">\n",
       "    the WebIO/IJulia documentation</a>.\n",
       "    <!-- TODO: link to installation docs. -->\n",
       "</p>\n"
      ],
      "text/plain": [
       "HTML{String}(\"<script>\\n// Immediately-invoked-function-expression to avoid global variables.\\n(function() {\\n    var warning_div = document.getElementById(\\\"webio-warning-10031733278018967186\\\");\\n    var hide = function () {\\n        var script = document.getElementById(\\\"webio-setup-3650039432966757740\\\");\\n        var parent = script && script.parentElement;\\n        var grandparent = parent && parent.parentElement;\\n        if (grandparent) {\\n            grandparent.style.display = \\\"none\\\";\\n        }\\n        warning_div.style.display = \\\"none\\\";\\n    };\\n    if (typeof Jupyter !== \\\"undefined\\\") {\\n        console.log(\\\"WebIO detected Jupyter notebook environment.\\\");\\n        // Jupyter notebook.\\n        var extensions = (\\n            Jupyter\\n            && Jupyter.notebook.config.data\\n            && Jupyter.notebook.config.data.load_extensions\\n        );\\n        if (extensions && extensions[\\\"webio-jupyter-notebook\\\"]) {\\n            // Extension already loaded.\\n            console.log(\\\"Jupyter WebIO nbextension detected; not loading ad-hoc.\\\");\\n            hide();\\n            return;\\n        }\\n    } else if (window.location.pathname.includes(\\\"/lab\\\")) {\\n        // Guessing JupyterLa\\n        console.log(\\\"Jupyter Lab detected; make sure the @webio/jupyter-lab-provider labextension is installed.\\\");\\n        hide();\\n        return;\\n    }\\n})();\\n\\n</script>\\n<p\\n    id=\\\"webio-warning-10031733278018967186\\\"\\n    class=\\\"output_text output_stderr\\\"\\n    style=\\\"padding: 1em; font-weight: bold;\\\"\\n>\\n    Unable to load WebIO. Please make sure WebIO works for your Jupyter client.\\n    For troubleshooting, please see <a href=\\\"https://juliagizmos.github.io/WebIO.jl/latest/providers/ijulia/\\\">\\n    the WebIO/IJulia documentation</a>.\\n    <!-- TODO: link to installation docs. -->\\n</p>\\n\")"
      ]
     },
     "metadata": {},
     "output_type": "display_data"
    }
   ],
   "source": [
    "using CurricularAnalytics, CurricularVisualization\n",
    "using Glob\n",
    "using StatsPlots"
   ]
  },
  {
   "cell_type": "markdown",
   "metadata": {},
   "source": [
    "## Complexity of Electrical Engineering Curricula\n",
    "To get a sense of the diversity in the complexities of electrical enginering program curricula, below we provide  visulizations of two programs, one with low curricular complexity and another with high curricular complexity. Consider first a degree plan associated with an electrical engineering program having relatively low curricular complexity."
   ]
  },
  {
   "cell_type": "code",
   "execution_count": 2,
   "metadata": {
    "scrolled": false
   },
   "outputs": [
    {
     "data": {
      "application/vnd.webio.node+json": {
       "children": [
        {
         "children": [
          ""
         ],
         "instanceArgs": {
          "namespace": "html",
          "tag": "iframe"
         },
         "nodeType": "DOM",
         "props": {
          "events": {
           "load": "(function (){this.contentWindow.postMessage({\"options\":{\"hideTerms\":false,\"edit\":false},\"curriculum\":{\"name\":\"Curriculum\",\"dp_name\":\"Carnegie Mellon University.csv\",\"curriculum_terms\":[{\"name\":\"Term 1\",\"curriculum_items\":[{\"curriculum_requisites\":[],\"name\":\" \",\"metrics\":{\"centrality\":0,\"complexity\":8.0,\"blocking factor\":5,\"delay factor\":3.0},\"nameSub\":\"18-100\",\"id\":1,\"credits\":3,\"nameCanonical\":\"\"},{\"curriculum_requisites\":[],\"name\":\" \",\"metrics\":{\"centrality\":0,\"complexity\":7.0,\"blocking factor\":3,\"delay factor\":4.0},\"nameSub\":\"15-112\",\"id\":2,\"credits\":3,\"nameCanonical\":\"\"},{\"curriculum_requisites\":[],\"name\":\" \",\"metrics\":{\"centrality\":0,\"complexity\":13.0,\"blocking factor\":8,\"delay factor\":5.0},\"nameSub\":\"21-120\",\"id\":3,\"credits\":3,\"nameCanonical\":\"\"},{\"curriculum_requisites\":[],\"name\":\" \",\"metrics\":{\"centrality\":0,\"complexity\":1.0,\"blocking factor\":0,\"delay factor\":1.0},\"nameSub\":\"76-101\",\"id\":4,\"credits\":3,\"nameCanonical\":\"\"},{\"curriculum_requisites\":[],\"name\":\" \",\"metrics\":{\"centrality\":0,\"complexity\":1.0,\"blocking factor\":0,\"delay factor\":1.0},\"nameSub\":\"99-101\",\"id\":5,\"credits\":3,\"nameCanonical\":\"\"}],\"id\":1},{\"name\":\"Term 2\",\"curriculum_items\":[{\"curriculum_requisites\":[{\"source_id\":3,\"target_id\":6,\"type\":\"CurriculumPrerequisite\"}],\"name\":\" \",\"metrics\":{\"centrality\":5,\"complexity\":8.0,\"blocking factor\":3,\"delay factor\":5.0},\"nameSub\":\"33-141\",\"id\":6,\"credits\":3,\"nameCanonical\":\"\"},{\"curriculum_requisites\":[{\"source_id\":3,\"target_id\":7,\"type\":\"CurriculumPrerequisite\"}],\"name\":\" \",\"metrics\":{\"centrality\":13,\"complexity\":10.0,\"blocking factor\":5,\"delay factor\":5.0},\"nameSub\":\"21-122\",\"id\":7,\"credits\":3,\"nameCanonical\":\"\"},{\"curriculum_requisites\":[],\"name\":\" \",\"metrics\":{\"centrality\":0,\"complexity\":1.0,\"blocking factor\":0,\"delay factor\":1.0},\"nameSub\":\"Introductory Engineering course\",\"id\":8,\"credits\":3,\"nameCanonical\":\"\"},{\"curriculum_requisites\":[],\"name\":\" \",\"metrics\":{\"centrality\":0,\"complexity\":1.0,\"blocking factor\":0,\"delay factor\":1.0},\"nameSub\":\"General Education course\",\"id\":9,\"credits\":3,\"nameCanonical\":\"\"}],\"id\":2},{\"name\":\"Term 3\",\"curriculum_items\":[{\"curriculum_requisites\":[{\"source_id\":1,\"target_id\":10,\"type\":\"CurriculumPrerequisite\"}],\"name\":\" \",\"metrics\":{\"centrality\":0,\"complexity\":2.0,\"blocking factor\":0,\"delay factor\":2.0},\"nameSub\":\"18-200\",\"id\":10,\"credits\":3,\"nameCanonical\":\"\"},{\"curriculum_requisites\":[{\"source_id\":7,\"target_id\":11,\"type\":\"CurriculumPrerequisite\"}],\"name\":\" \",\"metrics\":{\"centrality\":10,\"complexity\":8.0,\"blocking factor\":3,\"delay factor\":5.0},\"nameSub\":\"18-202\",\"id\":11,\"credits\":3,\"nameCanonical\":\"\"},{\"curriculum_requisites\":[{\"source_id\":6,\"target_id\":12,\"type\":\"CurriculumPrerequisite\"}],\"name\":\" \",\"metrics\":{\"centrality\":5,\"complexity\":7.0,\"blocking factor\":2,\"delay factor\":5.0},\"nameSub\":\"33-142\",\"id\":12,\"credits\":3,\"nameCanonical\":\"\"},{\"curriculum_requisites\":[],\"name\":\" \",\"metrics\":{\"centrality\":0,\"complexity\":5.0,\"blocking factor\":2,\"delay factor\":3.0},\"nameSub\":\"39-210\",\"id\":13,\"credits\":3,\"nameCanonical\":\"\"},{\"curriculum_requisites\":[{\"source_id\":11,\"target_id\":14,\"type\":\"CurriculumCorequisite\"},{\"source_id\":12,\"target_id\":14,\"type\":\"CurriculumCorequisite\"},{\"source_id\":1,\"target_id\":14,\"type\":\"CurriculumPrerequisite\"}],\"name\":\" \",\"metrics\":{\"centrality\":13,\"complexity\":6.0,\"blocking factor\":1,\"delay factor\":5.0},\"nameSub\":\"18-220\",\"id\":14,\"credits\":3,\"nameCanonical\":\"\"},{\"curriculum_requisites\":[],\"name\":\" \",\"metrics\":{\"centrality\":0,\"complexity\":1.0,\"blocking factor\":0,\"delay factor\":1.0},\"nameSub\":\"General Education course\",\"id\":15,\"credits\":3,\"nameCanonical\":\"\"}],\"id\":3},{\"name\":\"Term 4\",\"curriculum_items\":[{\"curriculum_requisites\":[],\"name\":\" \",\"metrics\":{\"centrality\":0,\"complexity\":5.0,\"blocking factor\":2,\"delay factor\":3.0},\"nameSub\":\"21-127\",\"id\":16,\"credits\":3,\"nameCanonical\":\"\"},{\"curriculum_requisites\":[{\"source_id\":2,\"target_id\":17,\"type\":\"CurriculumPrerequisite\"}],\"name\":\" \",\"metrics\":{\"centrality\":4,\"complexity\":6.0,\"blocking factor\":2,\"delay factor\":4.0},\"nameSub\":\"15-122\",\"id\":17,\"credits\":3,\"nameCanonical\":\"\"},{\"curriculum_requisites\":[{\"source_id\":7,\"target_id\":18,\"type\":\"CurriculumPrerequisite\"}],\"name\":\" \",\"metrics\":{\"centrality\":0,\"complexity\":3.0,\"blocking factor\":0,\"delay factor\":3.0},\"nameSub\":\"36-217\",\"id\":18,\"credits\":3,\"nameCanonical\":\"\"},{\"curriculum_requisites\":[{\"source_id\":13,\"target_id\":19,\"type\":\"CurriculumPrerequisite\"}],\"name\":\" \",\"metrics\":{\"centrality\":3,\"complexity\":4.0,\"blocking factor\":1,\"delay factor\":3.0},\"nameSub\":\"39-220\",\"id\":19,\"credits\":3,\"nameCanonical\":\"\"},{\"curriculum_requisites\":[],\"name\":\" \",\"metrics\":{\"centrality\":0,\"complexity\":1.0,\"blocking factor\":0,\"delay factor\":1.0},\"nameSub\":\"General Education course\",\"id\":20,\"credits\":3,\"nameCanonical\":\"\"},{\"curriculum_requisites\":[{\"source_id\":11,\"target_id\":21,\"type\":\"CurriculumCorequisite\"},{\"source_id\":1,\"target_id\":21,\"type\":\"CurriculumPrerequisite\"}],\"name\":\" \",\"metrics\":{\"centrality\":8,\"complexity\":6.0,\"blocking factor\":1,\"delay factor\":5.0},\"nameSub\":\"18-290\",\"id\":21,\"credits\":3,\"nameCanonical\":\"\"}],\"id\":4},{\"name\":\"Term 5\",\"curriculum_items\":[{\"curriculum_requisites\":[{\"source_id\":19,\"target_id\":22,\"type\":\"CurriculumPrerequisite\"}],\"name\":\" \",\"metrics\":{\"centrality\":0,\"complexity\":3.0,\"blocking factor\":0,\"delay factor\":3.0},\"nameSub\":\"39-310\",\"id\":22,\"credits\":3,\"nameCanonical\":\"\"},{\"curriculum_requisites\":[],\"name\":\" \",\"metrics\":{\"centrality\":0,\"complexity\":1.0,\"blocking factor\":0,\"delay factor\":1.0},\"nameSub\":\"18-3xx/4xx ECE Area 1 course\",\"id\":23,\"credits\":3,\"nameCanonical\":\"\"},{\"curriculum_requisites\":[{\"source_id\":16,\"target_id\":24,\"type\":\"CurriculumCorequisite\"},{\"source_id\":1,\"target_id\":24,\"type\":\"CurriculumPrerequisite\"}],\"name\":\" \",\"metrics\":{\"centrality\":6,\"complexity\":4.0,\"blocking factor\":1,\"delay factor\":3.0},\"nameSub\":\"18-240\",\"id\":24,\"credits\":3,\"nameCanonical\":\"\"},{\"curriculum_requisites\":[],\"name\":\" \",\"metrics\":{\"centrality\":0,\"complexity\":1.0,\"blocking factor\":0,\"delay factor\":1.0},\"nameSub\":\"Free Elective\",\"id\":25,\"credits\":3,\"nameCanonical\":\"\"},{\"curriculum_requisites\":[],\"name\":\" \",\"metrics\":{\"centrality\":0,\"complexity\":1.0,\"blocking factor\":0,\"delay factor\":1.0},\"nameSub\":\"General Education course\",\"id\":26,\"credits\":3,\"nameCanonical\":\"\"},{\"curriculum_requisites\":[],\"name\":\" \",\"metrics\":{\"centrality\":0,\"complexity\":1.0,\"blocking factor\":0,\"delay factor\":1.0},\"nameSub\":\"Math/Science elective 1\",\"id\":27,\"credits\":3,\"nameCanonical\":\"\"}],\"id\":5},{\"name\":\"Term 6\",\"curriculum_items\":[{\"curriculum_requisites\":[{\"source_id\":17,\"target_id\":28,\"type\":\"CurriculumPrerequisite\"}],\"name\":\" \",\"metrics\":{\"centrality\":4,\"complexity\":5.0,\"blocking factor\":1,\"delay factor\":4.0},\"nameSub\":\"18-213\",\"id\":28,\"credits\":3,\"nameCanonical\":\"\"},{\"curriculum_requisites\":[],\"name\":\" \",\"metrics\":{\"centrality\":0,\"complexity\":3.0,\"blocking factor\":1,\"delay factor\":2.0},\"nameSub\":\"18-xxx Area course 1\",\"id\":29,\"credits\":3,\"nameCanonical\":\"\"},{\"curriculum_requisites\":[],\"name\":\" \",\"metrics\":{\"centrality\":0,\"complexity\":1.0,\"blocking factor\":0,\"delay factor\":1.0},\"nameSub\":\"Free Elective\",\"id\":30,\"credits\":3,\"nameCanonical\":\"\"},{\"curriculum_requisites\":[],\"name\":\" \",\"metrics\":{\"centrality\":0,\"complexity\":1.0,\"blocking factor\":0,\"delay factor\":1.0},\"nameSub\":\"General Education course\",\"id\":31,\"credits\":3,\"nameCanonical\":\"\"},{\"curriculum_requisites\":[],\"name\":\" \",\"metrics\":{\"centrality\":0,\"complexity\":1.0,\"blocking factor\":0,\"delay factor\":1.0},\"nameSub\":\"Math/Science Elective 2\",\"id\":32,\"credits\":3,\"nameCanonical\":\"\"}],\"id\":6},{\"name\":\"Term 7\",\"curriculum_items\":[{\"curriculum_requisites\":[],\"name\":\" \",\"metrics\":{\"centrality\":0,\"complexity\":1.0,\"blocking factor\":0,\"delay factor\":1.0},\"nameSub\":\"18-xxx ECE Coverage course\",\"id\":33,\"credits\":3,\"nameCanonical\":\"\"},{\"curriculum_requisites\":[],\"name\":\" \",\"metrics\":{\"centrality\":0,\"complexity\":3.0,\"blocking factor\":1,\"delay factor\":2.0},\"nameSub\":\"18-xxx Area course 2\",\"id\":34,\"credits\":3,\"nameCanonical\":\"\"},{\"curriculum_requisites\":[],\"name\":\" \",\"metrics\":{\"centrality\":0,\"complexity\":1.0,\"blocking factor\":0,\"delay factor\":1.0},\"nameSub\":\"Free Elective\",\"id\":35,\"credits\":3,\"nameCanonical\":\"\"},{\"curriculum_requisites\":[],\"name\":\" \",\"metrics\":{\"centrality\":0,\"complexity\":1.0,\"blocking factor\":0,\"delay factor\":1.0},\"nameSub\":\"Free Elective\",\"id\":36,\"credits\":3,\"nameCanonical\":\"\"},{\"curriculum_requisites\":[],\"name\":\" \",\"metrics\":{\"centrality\":0,\"complexity\":1.0,\"blocking factor\":0,\"delay factor\":1.0},\"nameSub\":\"General Education course\",\"id\":37,\"credits\":3,\"nameCanonical\":\"\"}],\"id\":7},{\"name\":\"Term 8\",\"curriculum_items\":[{\"curriculum_requisites\":[{\"source_id\":34,\"target_id\":38,\"type\":\"CurriculumPrerequisite\"},{\"source_id\":29,\"target_id\":38,\"type\":\"CurriculumPrerequisite\"},{\"source_id\":21,\"target_id\":38,\"type\":\"CurriculumPrerequisite\"},{\"source_id\":24,\"target_id\":38,\"type\":\"CurriculumPrerequisite\"},{\"source_id\":28,\"target_id\":38,\"type\":\"CurriculumPrerequisite\"},{\"source_id\":14,\"target_id\":38,\"type\":\"CurriculumPrerequisite\"}],\"name\":\" \",\"metrics\":{\"centrality\":0,\"complexity\":5.0,\"blocking factor\":0,\"delay factor\":5.0},\"nameSub\":\"18-500\",\"id\":38,\"credits\":3,\"nameCanonical\":\"\"},{\"curriculum_requisites\":[],\"name\":\" \",\"metrics\":{\"centrality\":0,\"complexity\":1.0,\"blocking factor\":0,\"delay factor\":1.0},\"nameSub\":\"Free Elective\",\"id\":39,\"credits\":3,\"nameCanonical\":\"\"},{\"curriculum_requisites\":[],\"name\":\" \",\"metrics\":{\"centrality\":0,\"complexity\":1.0,\"blocking factor\":0,\"delay factor\":1.0},\"nameSub\":\"Free Elective\",\"id\":40,\"credits\":3,\"nameCanonical\":\"\"},{\"curriculum_requisites\":[],\"name\":\" \",\"metrics\":{\"centrality\":0,\"complexity\":1.0,\"blocking factor\":0,\"delay factor\":1.0},\"nameSub\":\"Free Elective\",\"id\":41,\"credits\":3,\"nameCanonical\":\"\"},{\"curriculum_requisites\":[],\"name\":\" \",\"metrics\":{\"centrality\":0,\"complexity\":1.0,\"blocking factor\":0,\"delay factor\":1.0},\"nameSub\":\"General Education course\",\"id\":42,\"credits\":3,\"nameCanonical\":\"\"}],\"id\":8}],\"institution\":\"\"}},\"*\"); window.removeEventListener(\"message\",window.messageReceived); window.messageReceived=(function (event){return (event.data.curriculum!==undefined) ? (WebIO.setval({\"name\":\"curriculum-data\",\"scope\":\"17608144130007997795\",\"id\":\"14808896017169156348\",\"type\":\"observable\"},event.data.curriculum)) : undefined}); return window.addEventListener(\"message\",window.messageReceived)})"
          },
          "id": "curriculum",
          "src": "https://curricula-api-embed.damoursystems.com/",
          "style": {
           "border": "none",
           "height": "100vh",
           "margin": "0",
           "padding": "0",
           "width": "100%"
          }
         },
         "type": "node"
        }
       ],
       "instanceArgs": {
        "handlers": {},
        "id": "17608144130007997795",
        "imports": {
         "data": [],
         "type": "async_block"
        },
        "mount_callbacks": [],
        "observables": {
         "curriculum-data": {
          "id": "14808896017169156348",
          "sync": true,
          "value": {
           "curriculum": {
            "curriculum_terms": [
             {
              "curriculum_items": [
               {
                "credits": 3,
                "curriculum_requisites": [],
                "id": 1,
                "metrics": {
                 "blocking factor": 5,
                 "centrality": 0,
                 "complexity": 8,
                 "delay factor": 3
                },
                "name": " ",
                "nameCanonical": "",
                "nameSub": "18-100"
               },
               {
                "credits": 3,
                "curriculum_requisites": [],
                "id": 2,
                "metrics": {
                 "blocking factor": 3,
                 "centrality": 0,
                 "complexity": 7,
                 "delay factor": 4
                },
                "name": " ",
                "nameCanonical": "",
                "nameSub": "15-112"
               },
               {
                "credits": 3,
                "curriculum_requisites": [],
                "id": 3,
                "metrics": {
                 "blocking factor": 8,
                 "centrality": 0,
                 "complexity": 13,
                 "delay factor": 5
                },
                "name": " ",
                "nameCanonical": "",
                "nameSub": "21-120"
               },
               {
                "credits": 3,
                "curriculum_requisites": [],
                "id": 4,
                "metrics": {
                 "blocking factor": 0,
                 "centrality": 0,
                 "complexity": 1,
                 "delay factor": 1
                },
                "name": " ",
                "nameCanonical": "",
                "nameSub": "76-101"
               },
               {
                "credits": 3,
                "curriculum_requisites": [],
                "id": 5,
                "metrics": {
                 "blocking factor": 0,
                 "centrality": 0,
                 "complexity": 1,
                 "delay factor": 1
                },
                "name": " ",
                "nameCanonical": "",
                "nameSub": "99-101"
               }
              ],
              "id": 1,
              "name": "Term 1"
             },
             {
              "curriculum_items": [
               {
                "credits": 3,
                "curriculum_requisites": [
                 {
                  "source_id": 3,
                  "target_id": 6,
                  "type": "CurriculumPrerequisite"
                 }
                ],
                "id": 6,
                "metrics": {
                 "blocking factor": 3,
                 "centrality": 5,
                 "complexity": 8,
                 "delay factor": 5
                },
                "name": " ",
                "nameCanonical": "",
                "nameSub": "33-141"
               },
               {
                "credits": 3,
                "curriculum_requisites": [
                 {
                  "source_id": 3,
                  "target_id": 7,
                  "type": "CurriculumPrerequisite"
                 }
                ],
                "id": 7,
                "metrics": {
                 "blocking factor": 5,
                 "centrality": 13,
                 "complexity": 10,
                 "delay factor": 5
                },
                "name": " ",
                "nameCanonical": "",
                "nameSub": "21-122"
               },
               {
                "credits": 3,
                "curriculum_requisites": [],
                "id": 8,
                "metrics": {
                 "blocking factor": 0,
                 "centrality": 0,
                 "complexity": 1,
                 "delay factor": 1
                },
                "name": " ",
                "nameCanonical": "",
                "nameSub": "Introductory Engineering course"
               },
               {
                "credits": 3,
                "curriculum_requisites": [],
                "id": 9,
                "metrics": {
                 "blocking factor": 0,
                 "centrality": 0,
                 "complexity": 1,
                 "delay factor": 1
                },
                "name": " ",
                "nameCanonical": "",
                "nameSub": "General Education course"
               }
              ],
              "id": 2,
              "name": "Term 2"
             },
             {
              "curriculum_items": [
               {
                "credits": 3,
                "curriculum_requisites": [
                 {
                  "source_id": 1,
                  "target_id": 10,
                  "type": "CurriculumPrerequisite"
                 }
                ],
                "id": 10,
                "metrics": {
                 "blocking factor": 0,
                 "centrality": 0,
                 "complexity": 2,
                 "delay factor": 2
                },
                "name": " ",
                "nameCanonical": "",
                "nameSub": "18-200"
               },
               {
                "credits": 3,
                "curriculum_requisites": [
                 {
                  "source_id": 7,
                  "target_id": 11,
                  "type": "CurriculumPrerequisite"
                 }
                ],
                "id": 11,
                "metrics": {
                 "blocking factor": 3,
                 "centrality": 10,
                 "complexity": 8,
                 "delay factor": 5
                },
                "name": " ",
                "nameCanonical": "",
                "nameSub": "18-202"
               },
               {
                "credits": 3,
                "curriculum_requisites": [
                 {
                  "source_id": 6,
                  "target_id": 12,
                  "type": "CurriculumPrerequisite"
                 }
                ],
                "id": 12,
                "metrics": {
                 "blocking factor": 2,
                 "centrality": 5,
                 "complexity": 7,
                 "delay factor": 5
                },
                "name": " ",
                "nameCanonical": "",
                "nameSub": "33-142"
               },
               {
                "credits": 3,
                "curriculum_requisites": [],
                "id": 13,
                "metrics": {
                 "blocking factor": 2,
                 "centrality": 0,
                 "complexity": 5,
                 "delay factor": 3
                },
                "name": " ",
                "nameCanonical": "",
                "nameSub": "39-210"
               },
               {
                "credits": 3,
                "curriculum_requisites": [
                 {
                  "source_id": 11,
                  "target_id": 14,
                  "type": "CurriculumCorequisite"
                 },
                 {
                  "source_id": 12,
                  "target_id": 14,
                  "type": "CurriculumCorequisite"
                 },
                 {
                  "source_id": 1,
                  "target_id": 14,
                  "type": "CurriculumPrerequisite"
                 }
                ],
                "id": 14,
                "metrics": {
                 "blocking factor": 1,
                 "centrality": 13,
                 "complexity": 6,
                 "delay factor": 5
                },
                "name": " ",
                "nameCanonical": "",
                "nameSub": "18-220"
               },
               {
                "credits": 3,
                "curriculum_requisites": [],
                "id": 15,
                "metrics": {
                 "blocking factor": 0,
                 "centrality": 0,
                 "complexity": 1,
                 "delay factor": 1
                },
                "name": " ",
                "nameCanonical": "",
                "nameSub": "General Education course"
               }
              ],
              "id": 3,
              "name": "Term 3"
             },
             {
              "curriculum_items": [
               {
                "credits": 3,
                "curriculum_requisites": [],
                "id": 16,
                "metrics": {
                 "blocking factor": 2,
                 "centrality": 0,
                 "complexity": 5,
                 "delay factor": 3
                },
                "name": " ",
                "nameCanonical": "",
                "nameSub": "21-127"
               },
               {
                "credits": 3,
                "curriculum_requisites": [
                 {
                  "source_id": 2,
                  "target_id": 17,
                  "type": "CurriculumPrerequisite"
                 }
                ],
                "id": 17,
                "metrics": {
                 "blocking factor": 2,
                 "centrality": 4,
                 "complexity": 6,
                 "delay factor": 4
                },
                "name": " ",
                "nameCanonical": "",
                "nameSub": "15-122"
               },
               {
                "credits": 3,
                "curriculum_requisites": [
                 {
                  "source_id": 7,
                  "target_id": 18,
                  "type": "CurriculumPrerequisite"
                 }
                ],
                "id": 18,
                "metrics": {
                 "blocking factor": 0,
                 "centrality": 0,
                 "complexity": 3,
                 "delay factor": 3
                },
                "name": " ",
                "nameCanonical": "",
                "nameSub": "36-217"
               },
               {
                "credits": 3,
                "curriculum_requisites": [
                 {
                  "source_id": 13,
                  "target_id": 19,
                  "type": "CurriculumPrerequisite"
                 }
                ],
                "id": 19,
                "metrics": {
                 "blocking factor": 1,
                 "centrality": 3,
                 "complexity": 4,
                 "delay factor": 3
                },
                "name": " ",
                "nameCanonical": "",
                "nameSub": "39-220"
               },
               {
                "credits": 3,
                "curriculum_requisites": [],
                "id": 20,
                "metrics": {
                 "blocking factor": 0,
                 "centrality": 0,
                 "complexity": 1,
                 "delay factor": 1
                },
                "name": " ",
                "nameCanonical": "",
                "nameSub": "General Education course"
               },
               {
                "credits": 3,
                "curriculum_requisites": [
                 {
                  "source_id": 11,
                  "target_id": 21,
                  "type": "CurriculumCorequisite"
                 },
                 {
                  "source_id": 1,
                  "target_id": 21,
                  "type": "CurriculumPrerequisite"
                 }
                ],
                "id": 21,
                "metrics": {
                 "blocking factor": 1,
                 "centrality": 8,
                 "complexity": 6,
                 "delay factor": 5
                },
                "name": " ",
                "nameCanonical": "",
                "nameSub": "18-290"
               }
              ],
              "id": 4,
              "name": "Term 4"
             },
             {
              "curriculum_items": [
               {
                "credits": 3,
                "curriculum_requisites": [
                 {
                  "source_id": 19,
                  "target_id": 22,
                  "type": "CurriculumPrerequisite"
                 }
                ],
                "id": 22,
                "metrics": {
                 "blocking factor": 0,
                 "centrality": 0,
                 "complexity": 3,
                 "delay factor": 3
                },
                "name": " ",
                "nameCanonical": "",
                "nameSub": "39-310"
               },
               {
                "credits": 3,
                "curriculum_requisites": [],
                "id": 23,
                "metrics": {
                 "blocking factor": 0,
                 "centrality": 0,
                 "complexity": 1,
                 "delay factor": 1
                },
                "name": " ",
                "nameCanonical": "",
                "nameSub": "18-3xx/4xx ECE Area 1 course"
               },
               {
                "credits": 3,
                "curriculum_requisites": [
                 {
                  "source_id": 16,
                  "target_id": 24,
                  "type": "CurriculumCorequisite"
                 },
                 {
                  "source_id": 1,
                  "target_id": 24,
                  "type": "CurriculumPrerequisite"
                 }
                ],
                "id": 24,
                "metrics": {
                 "blocking factor": 1,
                 "centrality": 6,
                 "complexity": 4,
                 "delay factor": 3
                },
                "name": " ",
                "nameCanonical": "",
                "nameSub": "18-240"
               },
               {
                "credits": 3,
                "curriculum_requisites": [],
                "id": 25,
                "metrics": {
                 "blocking factor": 0,
                 "centrality": 0,
                 "complexity": 1,
                 "delay factor": 1
                },
                "name": " ",
                "nameCanonical": "",
                "nameSub": "Free Elective"
               },
               {
                "credits": 3,
                "curriculum_requisites": [],
                "id": 26,
                "metrics": {
                 "blocking factor": 0,
                 "centrality": 0,
                 "complexity": 1,
                 "delay factor": 1
                },
                "name": " ",
                "nameCanonical": "",
                "nameSub": "General Education course"
               },
               {
                "credits": 3,
                "curriculum_requisites": [],
                "id": 27,
                "metrics": {
                 "blocking factor": 0,
                 "centrality": 0,
                 "complexity": 1,
                 "delay factor": 1
                },
                "name": " ",
                "nameCanonical": "",
                "nameSub": "Math/Science elective 1"
               }
              ],
              "id": 5,
              "name": "Term 5"
             },
             {
              "curriculum_items": [
               {
                "credits": 3,
                "curriculum_requisites": [
                 {
                  "source_id": 17,
                  "target_id": 28,
                  "type": "CurriculumPrerequisite"
                 }
                ],
                "id": 28,
                "metrics": {
                 "blocking factor": 1,
                 "centrality": 4,
                 "complexity": 5,
                 "delay factor": 4
                },
                "name": " ",
                "nameCanonical": "",
                "nameSub": "18-213"
               },
               {
                "credits": 3,
                "curriculum_requisites": [],
                "id": 29,
                "metrics": {
                 "blocking factor": 1,
                 "centrality": 0,
                 "complexity": 3,
                 "delay factor": 2
                },
                "name": " ",
                "nameCanonical": "",
                "nameSub": "18-xxx Area course 1"
               },
               {
                "credits": 3,
                "curriculum_requisites": [],
                "id": 30,
                "metrics": {
                 "blocking factor": 0,
                 "centrality": 0,
                 "complexity": 1,
                 "delay factor": 1
                },
                "name": " ",
                "nameCanonical": "",
                "nameSub": "Free Elective"
               },
               {
                "credits": 3,
                "curriculum_requisites": [],
                "id": 31,
                "metrics": {
                 "blocking factor": 0,
                 "centrality": 0,
                 "complexity": 1,
                 "delay factor": 1
                },
                "name": " ",
                "nameCanonical": "",
                "nameSub": "General Education course"
               },
               {
                "credits": 3,
                "curriculum_requisites": [],
                "id": 32,
                "metrics": {
                 "blocking factor": 0,
                 "centrality": 0,
                 "complexity": 1,
                 "delay factor": 1
                },
                "name": " ",
                "nameCanonical": "",
                "nameSub": "Math/Science Elective 2"
               }
              ],
              "id": 6,
              "name": "Term 6"
             },
             {
              "curriculum_items": [
               {
                "credits": 3,
                "curriculum_requisites": [],
                "id": 33,
                "metrics": {
                 "blocking factor": 0,
                 "centrality": 0,
                 "complexity": 1,
                 "delay factor": 1
                },
                "name": " ",
                "nameCanonical": "",
                "nameSub": "18-xxx ECE Coverage course"
               },
               {
                "credits": 3,
                "curriculum_requisites": [],
                "id": 34,
                "metrics": {
                 "blocking factor": 1,
                 "centrality": 0,
                 "complexity": 3,
                 "delay factor": 2
                },
                "name": " ",
                "nameCanonical": "",
                "nameSub": "18-xxx Area course 2"
               },
               {
                "credits": 3,
                "curriculum_requisites": [],
                "id": 35,
                "metrics": {
                 "blocking factor": 0,
                 "centrality": 0,
                 "complexity": 1,
                 "delay factor": 1
                },
                "name": " ",
                "nameCanonical": "",
                "nameSub": "Free Elective"
               },
               {
                "credits": 3,
                "curriculum_requisites": [],
                "id": 36,
                "metrics": {
                 "blocking factor": 0,
                 "centrality": 0,
                 "complexity": 1,
                 "delay factor": 1
                },
                "name": " ",
                "nameCanonical": "",
                "nameSub": "Free Elective"
               },
               {
                "credits": 3,
                "curriculum_requisites": [],
                "id": 37,
                "metrics": {
                 "blocking factor": 0,
                 "centrality": 0,
                 "complexity": 1,
                 "delay factor": 1
                },
                "name": " ",
                "nameCanonical": "",
                "nameSub": "General Education course"
               }
              ],
              "id": 7,
              "name": "Term 7"
             },
             {
              "curriculum_items": [
               {
                "credits": 3,
                "curriculum_requisites": [
                 {
                  "source_id": 34,
                  "target_id": 38,
                  "type": "CurriculumPrerequisite"
                 },
                 {
                  "source_id": 29,
                  "target_id": 38,
                  "type": "CurriculumPrerequisite"
                 },
                 {
                  "source_id": 21,
                  "target_id": 38,
                  "type": "CurriculumPrerequisite"
                 },
                 {
                  "source_id": 24,
                  "target_id": 38,
                  "type": "CurriculumPrerequisite"
                 },
                 {
                  "source_id": 28,
                  "target_id": 38,
                  "type": "CurriculumPrerequisite"
                 },
                 {
                  "source_id": 14,
                  "target_id": 38,
                  "type": "CurriculumPrerequisite"
                 }
                ],
                "id": 38,
                "metrics": {
                 "blocking factor": 0,
                 "centrality": 0,
                 "complexity": 5,
                 "delay factor": 5
                },
                "name": " ",
                "nameCanonical": "",
                "nameSub": "18-500"
               },
               {
                "credits": 3,
                "curriculum_requisites": [],
                "id": 39,
                "metrics": {
                 "blocking factor": 0,
                 "centrality": 0,
                 "complexity": 1,
                 "delay factor": 1
                },
                "name": " ",
                "nameCanonical": "",
                "nameSub": "Free Elective"
               },
               {
                "credits": 3,
                "curriculum_requisites": [],
                "id": 40,
                "metrics": {
                 "blocking factor": 0,
                 "centrality": 0,
                 "complexity": 1,
                 "delay factor": 1
                },
                "name": " ",
                "nameCanonical": "",
                "nameSub": "Free Elective"
               },
               {
                "credits": 3,
                "curriculum_requisites": [],
                "id": 41,
                "metrics": {
                 "blocking factor": 0,
                 "centrality": 0,
                 "complexity": 1,
                 "delay factor": 1
                },
                "name": " ",
                "nameCanonical": "",
                "nameSub": "Free Elective"
               },
               {
                "credits": 3,
                "curriculum_requisites": [],
                "id": 42,
                "metrics": {
                 "blocking factor": 0,
                 "centrality": 0,
                 "complexity": 1,
                 "delay factor": 1
                },
                "name": " ",
                "nameCanonical": "",
                "nameSub": "General Education course"
               }
              ],
              "id": 8,
              "name": "Term 8"
             }
            ],
            "dp_name": "Carnegie Mellon University.csv",
            "institution": "",
            "name": "Curriculum"
           },
           "options": {
            "edit": false,
            "hideTerms": false
           }
          }
         }
        },
        "systemjs_options": null
       },
       "nodeType": "Scope",
       "props": {},
       "type": "node"
      },
      "text/html": [
       "<div\n",
       "    class=\"webio-mountpoint\"\n",
       "    data-webio-mountpoint=\"6799749714186879082\"\n",
       ">\n",
       "    <script>\n",
       "    if (window.require && require.defined && require.defined(\"nbextensions/webio-jupyter-notebook\")) {\n",
       "        console.log(\"Jupyter WebIO extension detected, not mounting.\");\n",
       "    } else if (window.WebIO) {\n",
       "        WebIO.mount(\n",
       "            document.querySelector('[data-webio-mountpoint=\"6799749714186879082\"]'),\n",
       "            {\"props\":{},\"nodeType\":\"Scope\",\"type\":\"node\",\"instanceArgs\":{\"imports\":{\"data\":[],\"type\":\"async_block\"},\"id\":\"17608144130007997795\",\"handlers\":{},\"systemjs_options\":null,\"mount_callbacks\":[],\"observables\":{\"curriculum-data\":{\"sync\":true,\"id\":\"14808896017169156348\",\"value\":{\"options\":{\"hideTerms\":false,\"edit\":false},\"curriculum\":{\"name\":\"Curriculum\",\"dp_name\":\"Carnegie Mellon University.csv\",\"curriculum_terms\":[{\"name\":\"Term 1\",\"curriculum_items\":[{\"curriculum_requisites\":[],\"name\":\" \",\"metrics\":{\"centrality\":0,\"complexity\":8.0,\"blocking factor\":5,\"delay factor\":3.0},\"nameSub\":\"18-100\",\"id\":1,\"credits\":3,\"nameCanonical\":\"\"},{\"curriculum_requisites\":[],\"name\":\" \",\"metrics\":{\"centrality\":0,\"complexity\":7.0,\"blocking factor\":3,\"delay factor\":4.0},\"nameSub\":\"15-112\",\"id\":2,\"credits\":3,\"nameCanonical\":\"\"},{\"curriculum_requisites\":[],\"name\":\" \",\"metrics\":{\"centrality\":0,\"complexity\":13.0,\"blocking factor\":8,\"delay factor\":5.0},\"nameSub\":\"21-120\",\"id\":3,\"credits\":3,\"nameCanonical\":\"\"},{\"curriculum_requisites\":[],\"name\":\" \",\"metrics\":{\"centrality\":0,\"complexity\":1.0,\"blocking factor\":0,\"delay factor\":1.0},\"nameSub\":\"76-101\",\"id\":4,\"credits\":3,\"nameCanonical\":\"\"},{\"curriculum_requisites\":[],\"name\":\" \",\"metrics\":{\"centrality\":0,\"complexity\":1.0,\"blocking factor\":0,\"delay factor\":1.0},\"nameSub\":\"99-101\",\"id\":5,\"credits\":3,\"nameCanonical\":\"\"}],\"id\":1},{\"name\":\"Term 2\",\"curriculum_items\":[{\"curriculum_requisites\":[{\"source_id\":3,\"target_id\":6,\"type\":\"CurriculumPrerequisite\"}],\"name\":\" \",\"metrics\":{\"centrality\":5,\"complexity\":8.0,\"blocking factor\":3,\"delay factor\":5.0},\"nameSub\":\"33-141\",\"id\":6,\"credits\":3,\"nameCanonical\":\"\"},{\"curriculum_requisites\":[{\"source_id\":3,\"target_id\":7,\"type\":\"CurriculumPrerequisite\"}],\"name\":\" \",\"metrics\":{\"centrality\":13,\"complexity\":10.0,\"blocking factor\":5,\"delay factor\":5.0},\"nameSub\":\"21-122\",\"id\":7,\"credits\":3,\"nameCanonical\":\"\"},{\"curriculum_requisites\":[],\"name\":\" \",\"metrics\":{\"centrality\":0,\"complexity\":1.0,\"blocking factor\":0,\"delay factor\":1.0},\"nameSub\":\"Introductory Engineering course\",\"id\":8,\"credits\":3,\"nameCanonical\":\"\"},{\"curriculum_requisites\":[],\"name\":\" \",\"metrics\":{\"centrality\":0,\"complexity\":1.0,\"blocking factor\":0,\"delay factor\":1.0},\"nameSub\":\"General Education course\",\"id\":9,\"credits\":3,\"nameCanonical\":\"\"}],\"id\":2},{\"name\":\"Term 3\",\"curriculum_items\":[{\"curriculum_requisites\":[{\"source_id\":1,\"target_id\":10,\"type\":\"CurriculumPrerequisite\"}],\"name\":\" \",\"metrics\":{\"centrality\":0,\"complexity\":2.0,\"blocking factor\":0,\"delay factor\":2.0},\"nameSub\":\"18-200\",\"id\":10,\"credits\":3,\"nameCanonical\":\"\"},{\"curriculum_requisites\":[{\"source_id\":7,\"target_id\":11,\"type\":\"CurriculumPrerequisite\"}],\"name\":\" \",\"metrics\":{\"centrality\":10,\"complexity\":8.0,\"blocking factor\":3,\"delay factor\":5.0},\"nameSub\":\"18-202\",\"id\":11,\"credits\":3,\"nameCanonical\":\"\"},{\"curriculum_requisites\":[{\"source_id\":6,\"target_id\":12,\"type\":\"CurriculumPrerequisite\"}],\"name\":\" \",\"metrics\":{\"centrality\":5,\"complexity\":7.0,\"blocking factor\":2,\"delay factor\":5.0},\"nameSub\":\"33-142\",\"id\":12,\"credits\":3,\"nameCanonical\":\"\"},{\"curriculum_requisites\":[],\"name\":\" \",\"metrics\":{\"centrality\":0,\"complexity\":5.0,\"blocking factor\":2,\"delay factor\":3.0},\"nameSub\":\"39-210\",\"id\":13,\"credits\":3,\"nameCanonical\":\"\"},{\"curriculum_requisites\":[{\"source_id\":11,\"target_id\":14,\"type\":\"CurriculumCorequisite\"},{\"source_id\":12,\"target_id\":14,\"type\":\"CurriculumCorequisite\"},{\"source_id\":1,\"target_id\":14,\"type\":\"CurriculumPrerequisite\"}],\"name\":\" \",\"metrics\":{\"centrality\":13,\"complexity\":6.0,\"blocking factor\":1,\"delay factor\":5.0},\"nameSub\":\"18-220\",\"id\":14,\"credits\":3,\"nameCanonical\":\"\"},{\"curriculum_requisites\":[],\"name\":\" \",\"metrics\":{\"centrality\":0,\"complexity\":1.0,\"blocking factor\":0,\"delay factor\":1.0},\"nameSub\":\"General Education course\",\"id\":15,\"credits\":3,\"nameCanonical\":\"\"}],\"id\":3},{\"name\":\"Term 4\",\"curriculum_items\":[{\"curriculum_requisites\":[],\"name\":\" \",\"metrics\":{\"centrality\":0,\"complexity\":5.0,\"blocking factor\":2,\"delay factor\":3.0},\"nameSub\":\"21-127\",\"id\":16,\"credits\":3,\"nameCanonical\":\"\"},{\"curriculum_requisites\":[{\"source_id\":2,\"target_id\":17,\"type\":\"CurriculumPrerequisite\"}],\"name\":\" \",\"metrics\":{\"centrality\":4,\"complexity\":6.0,\"blocking factor\":2,\"delay factor\":4.0},\"nameSub\":\"15-122\",\"id\":17,\"credits\":3,\"nameCanonical\":\"\"},{\"curriculum_requisites\":[{\"source_id\":7,\"target_id\":18,\"type\":\"CurriculumPrerequisite\"}],\"name\":\" \",\"metrics\":{\"centrality\":0,\"complexity\":3.0,\"blocking factor\":0,\"delay factor\":3.0},\"nameSub\":\"36-217\",\"id\":18,\"credits\":3,\"nameCanonical\":\"\"},{\"curriculum_requisites\":[{\"source_id\":13,\"target_id\":19,\"type\":\"CurriculumPrerequisite\"}],\"name\":\" \",\"metrics\":{\"centrality\":3,\"complexity\":4.0,\"blocking factor\":1,\"delay factor\":3.0},\"nameSub\":\"39-220\",\"id\":19,\"credits\":3,\"nameCanonical\":\"\"},{\"curriculum_requisites\":[],\"name\":\" \",\"metrics\":{\"centrality\":0,\"complexity\":1.0,\"blocking factor\":0,\"delay factor\":1.0},\"nameSub\":\"General Education course\",\"id\":20,\"credits\":3,\"nameCanonical\":\"\"},{\"curriculum_requisites\":[{\"source_id\":11,\"target_id\":21,\"type\":\"CurriculumCorequisite\"},{\"source_id\":1,\"target_id\":21,\"type\":\"CurriculumPrerequisite\"}],\"name\":\" \",\"metrics\":{\"centrality\":8,\"complexity\":6.0,\"blocking factor\":1,\"delay factor\":5.0},\"nameSub\":\"18-290\",\"id\":21,\"credits\":3,\"nameCanonical\":\"\"}],\"id\":4},{\"name\":\"Term 5\",\"curriculum_items\":[{\"curriculum_requisites\":[{\"source_id\":19,\"target_id\":22,\"type\":\"CurriculumPrerequisite\"}],\"name\":\" \",\"metrics\":{\"centrality\":0,\"complexity\":3.0,\"blocking factor\":0,\"delay factor\":3.0},\"nameSub\":\"39-310\",\"id\":22,\"credits\":3,\"nameCanonical\":\"\"},{\"curriculum_requisites\":[],\"name\":\" \",\"metrics\":{\"centrality\":0,\"complexity\":1.0,\"blocking factor\":0,\"delay factor\":1.0},\"nameSub\":\"18-3xx\\/4xx ECE Area 1 course\",\"id\":23,\"credits\":3,\"nameCanonical\":\"\"},{\"curriculum_requisites\":[{\"source_id\":16,\"target_id\":24,\"type\":\"CurriculumCorequisite\"},{\"source_id\":1,\"target_id\":24,\"type\":\"CurriculumPrerequisite\"}],\"name\":\" \",\"metrics\":{\"centrality\":6,\"complexity\":4.0,\"blocking factor\":1,\"delay factor\":3.0},\"nameSub\":\"18-240\",\"id\":24,\"credits\":3,\"nameCanonical\":\"\"},{\"curriculum_requisites\":[],\"name\":\" \",\"metrics\":{\"centrality\":0,\"complexity\":1.0,\"blocking factor\":0,\"delay factor\":1.0},\"nameSub\":\"Free Elective\",\"id\":25,\"credits\":3,\"nameCanonical\":\"\"},{\"curriculum_requisites\":[],\"name\":\" \",\"metrics\":{\"centrality\":0,\"complexity\":1.0,\"blocking factor\":0,\"delay factor\":1.0},\"nameSub\":\"General Education course\",\"id\":26,\"credits\":3,\"nameCanonical\":\"\"},{\"curriculum_requisites\":[],\"name\":\" \",\"metrics\":{\"centrality\":0,\"complexity\":1.0,\"blocking factor\":0,\"delay factor\":1.0},\"nameSub\":\"Math\\/Science elective 1\",\"id\":27,\"credits\":3,\"nameCanonical\":\"\"}],\"id\":5},{\"name\":\"Term 6\",\"curriculum_items\":[{\"curriculum_requisites\":[{\"source_id\":17,\"target_id\":28,\"type\":\"CurriculumPrerequisite\"}],\"name\":\" \",\"metrics\":{\"centrality\":4,\"complexity\":5.0,\"blocking factor\":1,\"delay factor\":4.0},\"nameSub\":\"18-213\",\"id\":28,\"credits\":3,\"nameCanonical\":\"\"},{\"curriculum_requisites\":[],\"name\":\" \",\"metrics\":{\"centrality\":0,\"complexity\":3.0,\"blocking factor\":1,\"delay factor\":2.0},\"nameSub\":\"18-xxx Area course 1\",\"id\":29,\"credits\":3,\"nameCanonical\":\"\"},{\"curriculum_requisites\":[],\"name\":\" \",\"metrics\":{\"centrality\":0,\"complexity\":1.0,\"blocking factor\":0,\"delay factor\":1.0},\"nameSub\":\"Free Elective\",\"id\":30,\"credits\":3,\"nameCanonical\":\"\"},{\"curriculum_requisites\":[],\"name\":\" \",\"metrics\":{\"centrality\":0,\"complexity\":1.0,\"blocking factor\":0,\"delay factor\":1.0},\"nameSub\":\"General Education course\",\"id\":31,\"credits\":3,\"nameCanonical\":\"\"},{\"curriculum_requisites\":[],\"name\":\" \",\"metrics\":{\"centrality\":0,\"complexity\":1.0,\"blocking factor\":0,\"delay factor\":1.0},\"nameSub\":\"Math\\/Science Elective 2\",\"id\":32,\"credits\":3,\"nameCanonical\":\"\"}],\"id\":6},{\"name\":\"Term 7\",\"curriculum_items\":[{\"curriculum_requisites\":[],\"name\":\" \",\"metrics\":{\"centrality\":0,\"complexity\":1.0,\"blocking factor\":0,\"delay factor\":1.0},\"nameSub\":\"18-xxx ECE Coverage course\",\"id\":33,\"credits\":3,\"nameCanonical\":\"\"},{\"curriculum_requisites\":[],\"name\":\" \",\"metrics\":{\"centrality\":0,\"complexity\":3.0,\"blocking factor\":1,\"delay factor\":2.0},\"nameSub\":\"18-xxx Area course 2\",\"id\":34,\"credits\":3,\"nameCanonical\":\"\"},{\"curriculum_requisites\":[],\"name\":\" \",\"metrics\":{\"centrality\":0,\"complexity\":1.0,\"blocking factor\":0,\"delay factor\":1.0},\"nameSub\":\"Free Elective\",\"id\":35,\"credits\":3,\"nameCanonical\":\"\"},{\"curriculum_requisites\":[],\"name\":\" \",\"metrics\":{\"centrality\":0,\"complexity\":1.0,\"blocking factor\":0,\"delay factor\":1.0},\"nameSub\":\"Free Elective\",\"id\":36,\"credits\":3,\"nameCanonical\":\"\"},{\"curriculum_requisites\":[],\"name\":\" \",\"metrics\":{\"centrality\":0,\"complexity\":1.0,\"blocking factor\":0,\"delay factor\":1.0},\"nameSub\":\"General Education course\",\"id\":37,\"credits\":3,\"nameCanonical\":\"\"}],\"id\":7},{\"name\":\"Term 8\",\"curriculum_items\":[{\"curriculum_requisites\":[{\"source_id\":34,\"target_id\":38,\"type\":\"CurriculumPrerequisite\"},{\"source_id\":29,\"target_id\":38,\"type\":\"CurriculumPrerequisite\"},{\"source_id\":21,\"target_id\":38,\"type\":\"CurriculumPrerequisite\"},{\"source_id\":24,\"target_id\":38,\"type\":\"CurriculumPrerequisite\"},{\"source_id\":28,\"target_id\":38,\"type\":\"CurriculumPrerequisite\"},{\"source_id\":14,\"target_id\":38,\"type\":\"CurriculumPrerequisite\"}],\"name\":\" \",\"metrics\":{\"centrality\":0,\"complexity\":5.0,\"blocking factor\":0,\"delay factor\":5.0},\"nameSub\":\"18-500\",\"id\":38,\"credits\":3,\"nameCanonical\":\"\"},{\"curriculum_requisites\":[],\"name\":\" \",\"metrics\":{\"centrality\":0,\"complexity\":1.0,\"blocking factor\":0,\"delay factor\":1.0},\"nameSub\":\"Free Elective\",\"id\":39,\"credits\":3,\"nameCanonical\":\"\"},{\"curriculum_requisites\":[],\"name\":\" \",\"metrics\":{\"centrality\":0,\"complexity\":1.0,\"blocking factor\":0,\"delay factor\":1.0},\"nameSub\":\"Free Elective\",\"id\":40,\"credits\":3,\"nameCanonical\":\"\"},{\"curriculum_requisites\":[],\"name\":\" \",\"metrics\":{\"centrality\":0,\"complexity\":1.0,\"blocking factor\":0,\"delay factor\":1.0},\"nameSub\":\"Free Elective\",\"id\":41,\"credits\":3,\"nameCanonical\":\"\"},{\"curriculum_requisites\":[],\"name\":\" \",\"metrics\":{\"centrality\":0,\"complexity\":1.0,\"blocking factor\":0,\"delay factor\":1.0},\"nameSub\":\"General Education course\",\"id\":42,\"credits\":3,\"nameCanonical\":\"\"}],\"id\":8}],\"institution\":\"\"}}}}},\"children\":[{\"props\":{\"src\":\"https:\\/\\/curricula-api-embed.damoursystems.com\\/\",\"id\":\"curriculum\",\"events\":{\"load\":\"(function (){this.contentWindow.postMessage({\\\"options\\\":{\\\"hideTerms\\\":false,\\\"edit\\\":false},\\\"curriculum\\\":{\\\"name\\\":\\\"Curriculum\\\",\\\"dp_name\\\":\\\"Carnegie Mellon University.csv\\\",\\\"curriculum_terms\\\":[{\\\"name\\\":\\\"Term 1\\\",\\\"curriculum_items\\\":[{\\\"curriculum_requisites\\\":[],\\\"name\\\":\\\" \\\",\\\"metrics\\\":{\\\"centrality\\\":0,\\\"complexity\\\":8.0,\\\"blocking factor\\\":5,\\\"delay factor\\\":3.0},\\\"nameSub\\\":\\\"18-100\\\",\\\"id\\\":1,\\\"credits\\\":3,\\\"nameCanonical\\\":\\\"\\\"},{\\\"curriculum_requisites\\\":[],\\\"name\\\":\\\" \\\",\\\"metrics\\\":{\\\"centrality\\\":0,\\\"complexity\\\":7.0,\\\"blocking factor\\\":3,\\\"delay factor\\\":4.0},\\\"nameSub\\\":\\\"15-112\\\",\\\"id\\\":2,\\\"credits\\\":3,\\\"nameCanonical\\\":\\\"\\\"},{\\\"curriculum_requisites\\\":[],\\\"name\\\":\\\" \\\",\\\"metrics\\\":{\\\"centrality\\\":0,\\\"complexity\\\":13.0,\\\"blocking factor\\\":8,\\\"delay factor\\\":5.0},\\\"nameSub\\\":\\\"21-120\\\",\\\"id\\\":3,\\\"credits\\\":3,\\\"nameCanonical\\\":\\\"\\\"},{\\\"curriculum_requisites\\\":[],\\\"name\\\":\\\" \\\",\\\"metrics\\\":{\\\"centrality\\\":0,\\\"complexity\\\":1.0,\\\"blocking factor\\\":0,\\\"delay factor\\\":1.0},\\\"nameSub\\\":\\\"76-101\\\",\\\"id\\\":4,\\\"credits\\\":3,\\\"nameCanonical\\\":\\\"\\\"},{\\\"curriculum_requisites\\\":[],\\\"name\\\":\\\" \\\",\\\"metrics\\\":{\\\"centrality\\\":0,\\\"complexity\\\":1.0,\\\"blocking factor\\\":0,\\\"delay factor\\\":1.0},\\\"nameSub\\\":\\\"99-101\\\",\\\"id\\\":5,\\\"credits\\\":3,\\\"nameCanonical\\\":\\\"\\\"}],\\\"id\\\":1},{\\\"name\\\":\\\"Term 2\\\",\\\"curriculum_items\\\":[{\\\"curriculum_requisites\\\":[{\\\"source_id\\\":3,\\\"target_id\\\":6,\\\"type\\\":\\\"CurriculumPrerequisite\\\"}],\\\"name\\\":\\\" \\\",\\\"metrics\\\":{\\\"centrality\\\":5,\\\"complexity\\\":8.0,\\\"blocking factor\\\":3,\\\"delay factor\\\":5.0},\\\"nameSub\\\":\\\"33-141\\\",\\\"id\\\":6,\\\"credits\\\":3,\\\"nameCanonical\\\":\\\"\\\"},{\\\"curriculum_requisites\\\":[{\\\"source_id\\\":3,\\\"target_id\\\":7,\\\"type\\\":\\\"CurriculumPrerequisite\\\"}],\\\"name\\\":\\\" \\\",\\\"metrics\\\":{\\\"centrality\\\":13,\\\"complexity\\\":10.0,\\\"blocking factor\\\":5,\\\"delay factor\\\":5.0},\\\"nameSub\\\":\\\"21-122\\\",\\\"id\\\":7,\\\"credits\\\":3,\\\"nameCanonical\\\":\\\"\\\"},{\\\"curriculum_requisites\\\":[],\\\"name\\\":\\\" \\\",\\\"metrics\\\":{\\\"centrality\\\":0,\\\"complexity\\\":1.0,\\\"blocking factor\\\":0,\\\"delay factor\\\":1.0},\\\"nameSub\\\":\\\"Introductory Engineering course\\\",\\\"id\\\":8,\\\"credits\\\":3,\\\"nameCanonical\\\":\\\"\\\"},{\\\"curriculum_requisites\\\":[],\\\"name\\\":\\\" \\\",\\\"metrics\\\":{\\\"centrality\\\":0,\\\"complexity\\\":1.0,\\\"blocking factor\\\":0,\\\"delay factor\\\":1.0},\\\"nameSub\\\":\\\"General Education course\\\",\\\"id\\\":9,\\\"credits\\\":3,\\\"nameCanonical\\\":\\\"\\\"}],\\\"id\\\":2},{\\\"name\\\":\\\"Term 3\\\",\\\"curriculum_items\\\":[{\\\"curriculum_requisites\\\":[{\\\"source_id\\\":1,\\\"target_id\\\":10,\\\"type\\\":\\\"CurriculumPrerequisite\\\"}],\\\"name\\\":\\\" \\\",\\\"metrics\\\":{\\\"centrality\\\":0,\\\"complexity\\\":2.0,\\\"blocking factor\\\":0,\\\"delay factor\\\":2.0},\\\"nameSub\\\":\\\"18-200\\\",\\\"id\\\":10,\\\"credits\\\":3,\\\"nameCanonical\\\":\\\"\\\"},{\\\"curriculum_requisites\\\":[{\\\"source_id\\\":7,\\\"target_id\\\":11,\\\"type\\\":\\\"CurriculumPrerequisite\\\"}],\\\"name\\\":\\\" \\\",\\\"metrics\\\":{\\\"centrality\\\":10,\\\"complexity\\\":8.0,\\\"blocking factor\\\":3,\\\"delay factor\\\":5.0},\\\"nameSub\\\":\\\"18-202\\\",\\\"id\\\":11,\\\"credits\\\":3,\\\"nameCanonical\\\":\\\"\\\"},{\\\"curriculum_requisites\\\":[{\\\"source_id\\\":6,\\\"target_id\\\":12,\\\"type\\\":\\\"CurriculumPrerequisite\\\"}],\\\"name\\\":\\\" \\\",\\\"metrics\\\":{\\\"centrality\\\":5,\\\"complexity\\\":7.0,\\\"blocking factor\\\":2,\\\"delay factor\\\":5.0},\\\"nameSub\\\":\\\"33-142\\\",\\\"id\\\":12,\\\"credits\\\":3,\\\"nameCanonical\\\":\\\"\\\"},{\\\"curriculum_requisites\\\":[],\\\"name\\\":\\\" \\\",\\\"metrics\\\":{\\\"centrality\\\":0,\\\"complexity\\\":5.0,\\\"blocking factor\\\":2,\\\"delay factor\\\":3.0},\\\"nameSub\\\":\\\"39-210\\\",\\\"id\\\":13,\\\"credits\\\":3,\\\"nameCanonical\\\":\\\"\\\"},{\\\"curriculum_requisites\\\":[{\\\"source_id\\\":11,\\\"target_id\\\":14,\\\"type\\\":\\\"CurriculumCorequisite\\\"},{\\\"source_id\\\":12,\\\"target_id\\\":14,\\\"type\\\":\\\"CurriculumCorequisite\\\"},{\\\"source_id\\\":1,\\\"target_id\\\":14,\\\"type\\\":\\\"CurriculumPrerequisite\\\"}],\\\"name\\\":\\\" \\\",\\\"metrics\\\":{\\\"centrality\\\":13,\\\"complexity\\\":6.0,\\\"blocking factor\\\":1,\\\"delay factor\\\":5.0},\\\"nameSub\\\":\\\"18-220\\\",\\\"id\\\":14,\\\"credits\\\":3,\\\"nameCanonical\\\":\\\"\\\"},{\\\"curriculum_requisites\\\":[],\\\"name\\\":\\\" \\\",\\\"metrics\\\":{\\\"centrality\\\":0,\\\"complexity\\\":1.0,\\\"blocking factor\\\":0,\\\"delay factor\\\":1.0},\\\"nameSub\\\":\\\"General Education course\\\",\\\"id\\\":15,\\\"credits\\\":3,\\\"nameCanonical\\\":\\\"\\\"}],\\\"id\\\":3},{\\\"name\\\":\\\"Term 4\\\",\\\"curriculum_items\\\":[{\\\"curriculum_requisites\\\":[],\\\"name\\\":\\\" \\\",\\\"metrics\\\":{\\\"centrality\\\":0,\\\"complexity\\\":5.0,\\\"blocking factor\\\":2,\\\"delay factor\\\":3.0},\\\"nameSub\\\":\\\"21-127\\\",\\\"id\\\":16,\\\"credits\\\":3,\\\"nameCanonical\\\":\\\"\\\"},{\\\"curriculum_requisites\\\":[{\\\"source_id\\\":2,\\\"target_id\\\":17,\\\"type\\\":\\\"CurriculumPrerequisite\\\"}],\\\"name\\\":\\\" \\\",\\\"metrics\\\":{\\\"centrality\\\":4,\\\"complexity\\\":6.0,\\\"blocking factor\\\":2,\\\"delay factor\\\":4.0},\\\"nameSub\\\":\\\"15-122\\\",\\\"id\\\":17,\\\"credits\\\":3,\\\"nameCanonical\\\":\\\"\\\"},{\\\"curriculum_requisites\\\":[{\\\"source_id\\\":7,\\\"target_id\\\":18,\\\"type\\\":\\\"CurriculumPrerequisite\\\"}],\\\"name\\\":\\\" \\\",\\\"metrics\\\":{\\\"centrality\\\":0,\\\"complexity\\\":3.0,\\\"blocking factor\\\":0,\\\"delay factor\\\":3.0},\\\"nameSub\\\":\\\"36-217\\\",\\\"id\\\":18,\\\"credits\\\":3,\\\"nameCanonical\\\":\\\"\\\"},{\\\"curriculum_requisites\\\":[{\\\"source_id\\\":13,\\\"target_id\\\":19,\\\"type\\\":\\\"CurriculumPrerequisite\\\"}],\\\"name\\\":\\\" \\\",\\\"metrics\\\":{\\\"centrality\\\":3,\\\"complexity\\\":4.0,\\\"blocking factor\\\":1,\\\"delay factor\\\":3.0},\\\"nameSub\\\":\\\"39-220\\\",\\\"id\\\":19,\\\"credits\\\":3,\\\"nameCanonical\\\":\\\"\\\"},{\\\"curriculum_requisites\\\":[],\\\"name\\\":\\\" \\\",\\\"metrics\\\":{\\\"centrality\\\":0,\\\"complexity\\\":1.0,\\\"blocking factor\\\":0,\\\"delay factor\\\":1.0},\\\"nameSub\\\":\\\"General Education course\\\",\\\"id\\\":20,\\\"credits\\\":3,\\\"nameCanonical\\\":\\\"\\\"},{\\\"curriculum_requisites\\\":[{\\\"source_id\\\":11,\\\"target_id\\\":21,\\\"type\\\":\\\"CurriculumCorequisite\\\"},{\\\"source_id\\\":1,\\\"target_id\\\":21,\\\"type\\\":\\\"CurriculumPrerequisite\\\"}],\\\"name\\\":\\\" \\\",\\\"metrics\\\":{\\\"centrality\\\":8,\\\"complexity\\\":6.0,\\\"blocking factor\\\":1,\\\"delay factor\\\":5.0},\\\"nameSub\\\":\\\"18-290\\\",\\\"id\\\":21,\\\"credits\\\":3,\\\"nameCanonical\\\":\\\"\\\"}],\\\"id\\\":4},{\\\"name\\\":\\\"Term 5\\\",\\\"curriculum_items\\\":[{\\\"curriculum_requisites\\\":[{\\\"source_id\\\":19,\\\"target_id\\\":22,\\\"type\\\":\\\"CurriculumPrerequisite\\\"}],\\\"name\\\":\\\" \\\",\\\"metrics\\\":{\\\"centrality\\\":0,\\\"complexity\\\":3.0,\\\"blocking factor\\\":0,\\\"delay factor\\\":3.0},\\\"nameSub\\\":\\\"39-310\\\",\\\"id\\\":22,\\\"credits\\\":3,\\\"nameCanonical\\\":\\\"\\\"},{\\\"curriculum_requisites\\\":[],\\\"name\\\":\\\" \\\",\\\"metrics\\\":{\\\"centrality\\\":0,\\\"complexity\\\":1.0,\\\"blocking factor\\\":0,\\\"delay factor\\\":1.0},\\\"nameSub\\\":\\\"18-3xx\\/4xx ECE Area 1 course\\\",\\\"id\\\":23,\\\"credits\\\":3,\\\"nameCanonical\\\":\\\"\\\"},{\\\"curriculum_requisites\\\":[{\\\"source_id\\\":16,\\\"target_id\\\":24,\\\"type\\\":\\\"CurriculumCorequisite\\\"},{\\\"source_id\\\":1,\\\"target_id\\\":24,\\\"type\\\":\\\"CurriculumPrerequisite\\\"}],\\\"name\\\":\\\" \\\",\\\"metrics\\\":{\\\"centrality\\\":6,\\\"complexity\\\":4.0,\\\"blocking factor\\\":1,\\\"delay factor\\\":3.0},\\\"nameSub\\\":\\\"18-240\\\",\\\"id\\\":24,\\\"credits\\\":3,\\\"nameCanonical\\\":\\\"\\\"},{\\\"curriculum_requisites\\\":[],\\\"name\\\":\\\" \\\",\\\"metrics\\\":{\\\"centrality\\\":0,\\\"complexity\\\":1.0,\\\"blocking factor\\\":0,\\\"delay factor\\\":1.0},\\\"nameSub\\\":\\\"Free Elective\\\",\\\"id\\\":25,\\\"credits\\\":3,\\\"nameCanonical\\\":\\\"\\\"},{\\\"curriculum_requisites\\\":[],\\\"name\\\":\\\" \\\",\\\"metrics\\\":{\\\"centrality\\\":0,\\\"complexity\\\":1.0,\\\"blocking factor\\\":0,\\\"delay factor\\\":1.0},\\\"nameSub\\\":\\\"General Education course\\\",\\\"id\\\":26,\\\"credits\\\":3,\\\"nameCanonical\\\":\\\"\\\"},{\\\"curriculum_requisites\\\":[],\\\"name\\\":\\\" \\\",\\\"metrics\\\":{\\\"centrality\\\":0,\\\"complexity\\\":1.0,\\\"blocking factor\\\":0,\\\"delay factor\\\":1.0},\\\"nameSub\\\":\\\"Math\\/Science elective 1\\\",\\\"id\\\":27,\\\"credits\\\":3,\\\"nameCanonical\\\":\\\"\\\"}],\\\"id\\\":5},{\\\"name\\\":\\\"Term 6\\\",\\\"curriculum_items\\\":[{\\\"curriculum_requisites\\\":[{\\\"source_id\\\":17,\\\"target_id\\\":28,\\\"type\\\":\\\"CurriculumPrerequisite\\\"}],\\\"name\\\":\\\" \\\",\\\"metrics\\\":{\\\"centrality\\\":4,\\\"complexity\\\":5.0,\\\"blocking factor\\\":1,\\\"delay factor\\\":4.0},\\\"nameSub\\\":\\\"18-213\\\",\\\"id\\\":28,\\\"credits\\\":3,\\\"nameCanonical\\\":\\\"\\\"},{\\\"curriculum_requisites\\\":[],\\\"name\\\":\\\" \\\",\\\"metrics\\\":{\\\"centrality\\\":0,\\\"complexity\\\":3.0,\\\"blocking factor\\\":1,\\\"delay factor\\\":2.0},\\\"nameSub\\\":\\\"18-xxx Area course 1\\\",\\\"id\\\":29,\\\"credits\\\":3,\\\"nameCanonical\\\":\\\"\\\"},{\\\"curriculum_requisites\\\":[],\\\"name\\\":\\\" \\\",\\\"metrics\\\":{\\\"centrality\\\":0,\\\"complexity\\\":1.0,\\\"blocking factor\\\":0,\\\"delay factor\\\":1.0},\\\"nameSub\\\":\\\"Free Elective\\\",\\\"id\\\":30,\\\"credits\\\":3,\\\"nameCanonical\\\":\\\"\\\"},{\\\"curriculum_requisites\\\":[],\\\"name\\\":\\\" \\\",\\\"metrics\\\":{\\\"centrality\\\":0,\\\"complexity\\\":1.0,\\\"blocking factor\\\":0,\\\"delay factor\\\":1.0},\\\"nameSub\\\":\\\"General Education course\\\",\\\"id\\\":31,\\\"credits\\\":3,\\\"nameCanonical\\\":\\\"\\\"},{\\\"curriculum_requisites\\\":[],\\\"name\\\":\\\" \\\",\\\"metrics\\\":{\\\"centrality\\\":0,\\\"complexity\\\":1.0,\\\"blocking factor\\\":0,\\\"delay factor\\\":1.0},\\\"nameSub\\\":\\\"Math\\/Science Elective 2\\\",\\\"id\\\":32,\\\"credits\\\":3,\\\"nameCanonical\\\":\\\"\\\"}],\\\"id\\\":6},{\\\"name\\\":\\\"Term 7\\\",\\\"curriculum_items\\\":[{\\\"curriculum_requisites\\\":[],\\\"name\\\":\\\" \\\",\\\"metrics\\\":{\\\"centrality\\\":0,\\\"complexity\\\":1.0,\\\"blocking factor\\\":0,\\\"delay factor\\\":1.0},\\\"nameSub\\\":\\\"18-xxx ECE Coverage course\\\",\\\"id\\\":33,\\\"credits\\\":3,\\\"nameCanonical\\\":\\\"\\\"},{\\\"curriculum_requisites\\\":[],\\\"name\\\":\\\" \\\",\\\"metrics\\\":{\\\"centrality\\\":0,\\\"complexity\\\":3.0,\\\"blocking factor\\\":1,\\\"delay factor\\\":2.0},\\\"nameSub\\\":\\\"18-xxx Area course 2\\\",\\\"id\\\":34,\\\"credits\\\":3,\\\"nameCanonical\\\":\\\"\\\"},{\\\"curriculum_requisites\\\":[],\\\"name\\\":\\\" \\\",\\\"metrics\\\":{\\\"centrality\\\":0,\\\"complexity\\\":1.0,\\\"blocking factor\\\":0,\\\"delay factor\\\":1.0},\\\"nameSub\\\":\\\"Free Elective\\\",\\\"id\\\":35,\\\"credits\\\":3,\\\"nameCanonical\\\":\\\"\\\"},{\\\"curriculum_requisites\\\":[],\\\"name\\\":\\\" \\\",\\\"metrics\\\":{\\\"centrality\\\":0,\\\"complexity\\\":1.0,\\\"blocking factor\\\":0,\\\"delay factor\\\":1.0},\\\"nameSub\\\":\\\"Free Elective\\\",\\\"id\\\":36,\\\"credits\\\":3,\\\"nameCanonical\\\":\\\"\\\"},{\\\"curriculum_requisites\\\":[],\\\"name\\\":\\\" \\\",\\\"metrics\\\":{\\\"centrality\\\":0,\\\"complexity\\\":1.0,\\\"blocking factor\\\":0,\\\"delay factor\\\":1.0},\\\"nameSub\\\":\\\"General Education course\\\",\\\"id\\\":37,\\\"credits\\\":3,\\\"nameCanonical\\\":\\\"\\\"}],\\\"id\\\":7},{\\\"name\\\":\\\"Term 8\\\",\\\"curriculum_items\\\":[{\\\"curriculum_requisites\\\":[{\\\"source_id\\\":34,\\\"target_id\\\":38,\\\"type\\\":\\\"CurriculumPrerequisite\\\"},{\\\"source_id\\\":29,\\\"target_id\\\":38,\\\"type\\\":\\\"CurriculumPrerequisite\\\"},{\\\"source_id\\\":21,\\\"target_id\\\":38,\\\"type\\\":\\\"CurriculumPrerequisite\\\"},{\\\"source_id\\\":24,\\\"target_id\\\":38,\\\"type\\\":\\\"CurriculumPrerequisite\\\"},{\\\"source_id\\\":28,\\\"target_id\\\":38,\\\"type\\\":\\\"CurriculumPrerequisite\\\"},{\\\"source_id\\\":14,\\\"target_id\\\":38,\\\"type\\\":\\\"CurriculumPrerequisite\\\"}],\\\"name\\\":\\\" \\\",\\\"metrics\\\":{\\\"centrality\\\":0,\\\"complexity\\\":5.0,\\\"blocking factor\\\":0,\\\"delay factor\\\":5.0},\\\"nameSub\\\":\\\"18-500\\\",\\\"id\\\":38,\\\"credits\\\":3,\\\"nameCanonical\\\":\\\"\\\"},{\\\"curriculum_requisites\\\":[],\\\"name\\\":\\\" \\\",\\\"metrics\\\":{\\\"centrality\\\":0,\\\"complexity\\\":1.0,\\\"blocking factor\\\":0,\\\"delay factor\\\":1.0},\\\"nameSub\\\":\\\"Free Elective\\\",\\\"id\\\":39,\\\"credits\\\":3,\\\"nameCanonical\\\":\\\"\\\"},{\\\"curriculum_requisites\\\":[],\\\"name\\\":\\\" \\\",\\\"metrics\\\":{\\\"centrality\\\":0,\\\"complexity\\\":1.0,\\\"blocking factor\\\":0,\\\"delay factor\\\":1.0},\\\"nameSub\\\":\\\"Free Elective\\\",\\\"id\\\":40,\\\"credits\\\":3,\\\"nameCanonical\\\":\\\"\\\"},{\\\"curriculum_requisites\\\":[],\\\"name\\\":\\\" \\\",\\\"metrics\\\":{\\\"centrality\\\":0,\\\"complexity\\\":1.0,\\\"blocking factor\\\":0,\\\"delay factor\\\":1.0},\\\"nameSub\\\":\\\"Free Elective\\\",\\\"id\\\":41,\\\"credits\\\":3,\\\"nameCanonical\\\":\\\"\\\"},{\\\"curriculum_requisites\\\":[],\\\"name\\\":\\\" \\\",\\\"metrics\\\":{\\\"centrality\\\":0,\\\"complexity\\\":1.0,\\\"blocking factor\\\":0,\\\"delay factor\\\":1.0},\\\"nameSub\\\":\\\"General Education course\\\",\\\"id\\\":42,\\\"credits\\\":3,\\\"nameCanonical\\\":\\\"\\\"}],\\\"id\\\":8}],\\\"institution\\\":\\\"\\\"}},\\\"*\\\"); window.removeEventListener(\\\"message\\\",window.messageReceived); window.messageReceived=(function (event){return (event.data.curriculum!==undefined) ? (WebIO.setval({\\\"name\\\":\\\"curriculum-data\\\",\\\"scope\\\":\\\"17608144130007997795\\\",\\\"id\\\":\\\"14808896017169156348\\\",\\\"type\\\":\\\"observable\\\"},event.data.curriculum)) : undefined}); return window.addEventListener(\\\"message\\\",window.messageReceived)})\"},\"style\":{\"padding\":\"0\",\"height\":\"100vh\",\"margin\":\"0\",\"border\":\"none\",\"width\":\"100%\"}},\"nodeType\":\"DOM\",\"type\":\"node\",\"instanceArgs\":{\"namespace\":\"html\",\"tag\":\"iframe\"},\"children\":[\"\"]}]},\n",
       "            window,\n",
       "        );\n",
       "    } else {\n",
       "        document\n",
       "            .querySelector('[data-webio-mountpoint=\"6799749714186879082\"]')\n",
       "            .innerHTML = (\n",
       "                '<div style=\"padding: 1em; background-color: #f8d6da; border: 1px solid #f5c6cb\">' +\n",
       "                '<p><strong>WebIO not detected.</strong></p>' +\n",
       "                '<p>Please read ' +\n",
       "                '<a href=\"https://juliagizmos.github.io/WebIO.jl/latest/troubleshooting/not-detected/\" target=\"_blank\">the troubleshooting guide</a> ' +\n",
       "                'for more information on how to resolve this issue.</p>' +\n",
       "                '<p><a href=\"https://juliagizmos.github.io/WebIO.jl/latest/troubleshooting/not-detected/\" target=\"_blank\">https://juliagizmos.github.io/WebIO.jl/latest/troubleshooting/not-detected/</a></p>' +\n",
       "                '</div>'\n",
       "            );\n",
       "    }\n",
       "    </script>\n",
       "</div>\n"
      ],
      "text/plain": [
       "WebIO.Scope(WebIO.Node{WebIO.DOM}(WebIO.DOM(:html, :iframe), Any[\"\"], Dict{Symbol, Any}(:src => \"https://curricula-api-embed.damoursystems.com/\", :id => \"curriculum\", :events => Dict{Symbol, WebIO.JSString}(:load => WebIO.JSString(\"(function (){this.contentWindow.postMessage({\\\"options\\\":{\\\"hideTerms\\\":false,\\\"edit\\\":false},\\\"curriculum\\\":{\\\"name\\\":\\\"Curriculum\\\",\\\"dp_name\\\":\\\"Carnegie Mellon University.csv\\\",\\\"curriculum_terms\\\":[{\\\"name\\\":\\\"Term 1\\\",\\\"curriculum_items\\\":[{\\\"curriculum_requisites\\\":[],\\\"name\\\":\\\" \\\",\\\"metrics\\\":{\\\"centrality\\\":0,\\\"complexity\\\":8.0,\\\"blocking factor\\\":5,\\\"delay factor\\\":3.0},\\\"nameSub\\\":\\\"18-100\\\",\\\"id\\\":1,\\\"credits\\\":3,\\\"nameCanonical\\\":\\\"\\\"},{\\\"curriculum_requisites\\\":[],\\\"name\\\":\\\" \\\",\\\"metrics\\\":{\\\"centrality\\\":0,\\\"complexity\\\":7.0,\\\"blocking factor\\\":3,\\\"delay factor\\\":4.0},\\\"nameSub\\\":\\\"15-112\\\",\\\"id\\\":2,\\\"credits\\\":3,\\\"nameCanonical\\\":\\\"\\\"},{\\\"curriculum_requisites\\\":[],\\\"name\\\":\\\" \\\",\\\"metrics\\\":{\\\"centrality\\\":0,\\\"complexity\\\":13.0,\\\"blocking factor\\\":8,\\\"delay factor\\\":5.0},\\\"nameSub\\\":\\\"21-120\\\",\\\"id\\\":3,\\\"credits\\\":3,\\\"nameCanonical\\\":\\\"\\\"},{\\\"curriculum_requisites\\\":[],\\\"name\\\":\\\" \\\",\\\"metrics\\\":{\\\"centrality\\\":0,\\\"complexity\\\":1.0,\\\"blocking factor\\\":0,\\\"delay factor\\\":1.0},\\\"nameSub\\\":\\\"76-101\\\",\\\"id\\\":4,\\\"credits\\\":3,\\\"nameCanonical\\\":\\\"\\\"},{\\\"curriculum_requisites\\\":[],\\\"name\\\":\\\" \\\",\\\"metrics\\\":{\\\"centrality\\\":0,\\\"complexity\\\":1.0,\\\"blocking factor\\\":0,\\\"delay factor\\\":1.0},\\\"nameSub\\\":\\\"99-101\\\",\\\"id\\\":5,\\\"credits\\\":3,\\\"nameCanonical\\\":\\\"\\\"}],\\\"id\\\":1},{\\\"name\\\":\\\"Term 2\\\",\\\"curriculum_items\\\":[{\\\"curriculum_requisites\\\":[{\\\"source_id\\\":3,\\\"target_id\\\":6,\\\"type\\\":\\\"CurriculumPrerequisite\\\"}],\\\"name\\\":\\\" \\\",\\\"metrics\\\":{\\\"centrality\\\":5,\\\"complexity\\\":8.0,\\\"blocking factor\\\":3,\\\"delay factor\\\":5.0},\\\"nameSub\\\":\\\"33-141\\\",\\\"id\\\":6,\\\"credits\\\":3,\\\"nameCanonical\\\":\\\"\\\"},{\\\"curriculum_requisites\\\":[{\\\"source_id\\\":3,\\\"target_id\\\":7,\\\"type\\\":\\\"CurriculumPrerequisite\\\"}],\\\"name\\\":\\\" \\\",\\\"metrics\\\":{\\\"centrality\\\":13,\\\"complexity\\\":10.0,\\\"blocking factor\\\":5,\\\"delay factor\\\":5.0},\\\"nameSub\\\":\\\"21-122\\\",\\\"id\\\":7,\\\"credits\\\":3,\\\"nameCanonical\\\":\\\"\\\"},{\\\"curriculum_requisites\\\":[],\\\"name\\\":\\\" \\\",\\\"metrics\\\":{\\\"centrality\\\":0,\\\"complexity\\\":1.0,\\\"blocking factor\\\":0,\\\"delay factor\\\":1.0},\\\"nameSub\\\":\\\"Introductory Engineering course\\\",\\\"id\\\":8,\\\"credits\\\":3,\\\"nameCanonical\\\":\\\"\\\"},{\\\"curriculum_requisites\\\":[],\\\"name\\\":\\\" \\\",\\\"metrics\\\":{\\\"centrality\\\":0,\\\"complexity\\\":1.0,\\\"blocking factor\\\":0,\\\"delay factor\\\":1.0},\\\"nameSub\\\":\\\"General Education course\\\",\\\"id\\\":9,\\\"credits\\\":3,\\\"nameCanonical\\\":\\\"\\\"}],\\\"id\\\":2},{\\\"name\\\":\\\"Term 3\\\",\\\"curriculum_items\\\":[{\\\"curriculum_requisites\\\":[{\\\"source_id\\\":1,\\\"target_id\\\":10,\\\"type\\\":\\\"CurriculumPrerequisite\\\"}],\\\"name\\\":\\\" \\\",\\\"metrics\\\":{\\\"centrality\\\":0,\\\"complexity\\\":2.0,\\\"blocking factor\\\":0,\\\"delay factor\\\":2.0},\\\"nameSub\\\":\\\"18-200\\\",\\\"id\\\":10,\\\"credits\\\":3,\\\"nameCanonical\\\":\\\"\\\"},{\\\"curriculum_requisites\\\":[{\\\"source_id\\\":7,\\\"target_id\\\":11,\\\"type\\\":\\\"CurriculumPrerequisite\\\"}],\\\"name\\\":\\\" \\\",\\\"metrics\\\":{\\\"centrality\\\":10,\\\"complexity\\\":8.0,\\\"blocking factor\\\":3,\\\"delay factor\\\":5.0},\\\"nameSub\\\":\\\"18-202\\\",\\\"id\\\":11,\\\"credits\\\":3,\\\"nameCanonical\\\":\\\"\\\"},{\\\"curriculum_requisites\\\":[{\\\"source_id\\\":6,\\\"target_id\\\":12,\\\"type\\\":\\\"CurriculumPrerequisite\\\"}],\\\"name\\\":\\\" \\\",\\\"metrics\\\":{\\\"centrality\\\":5,\\\"complexity\\\":7.0,\\\"blocking factor\\\":2,\\\"delay factor\\\":5.0},\\\"nameSub\\\":\\\"33-142\\\",\\\"id\\\":12,\\\"credits\\\":3,\\\"nameCanonical\\\":\\\"\\\"},{\\\"curriculum_requisites\\\":[],\\\"name\\\":\\\" \\\",\\\"metrics\\\":{\\\"centrality\\\":0,\\\"complexity\\\":5.0,\\\"blocking factor\\\":2,\\\"delay factor\\\":3.0},\\\"nameSub\\\":\\\"39-210\\\",\\\"id\\\":13,\\\"credits\\\":3,\\\"nameCanonical\\\":\\\"\\\"},{\\\"curriculum_requisites\\\":[{\\\"source_id\\\":11,\\\"target_id\\\":14,\\\"type\\\":\\\"CurriculumCorequisite\\\"},{\\\"source_id\\\":12,\\\"target_id\\\":14,\\\"type\\\":\\\"CurriculumCorequisite\\\"},{\\\"source_id\\\":1,\\\"target_id\\\":14,\\\"type\\\":\\\"CurriculumPrerequisite\\\"}],\\\"name\\\":\\\" \\\",\\\"metrics\\\":{\\\"centrality\\\":13,\\\"complexity\\\":6.0,\\\"blocking factor\\\":1,\\\"delay factor\\\":5.0},\\\"nameSub\\\":\\\"18-220\\\",\\\"id\\\":14,\\\"credits\\\":3,\\\"nameCanonical\\\":\\\"\\\"},{\\\"curriculum_requisites\\\":[],\\\"name\\\":\\\" \\\",\\\"metrics\\\":{\\\"centrality\\\":0,\\\"complexity\\\":1.0,\\\"blocking factor\\\":0,\\\"delay factor\\\":1.0},\\\"nameSub\\\":\\\"General Education course\\\",\\\"id\\\":15,\\\"credits\\\":3,\\\"nameCanonical\\\":\\\"\\\"}],\\\"id\\\":3},{\\\"name\\\":\\\"Term 4\\\",\\\"curriculum_items\\\":[{\\\"curriculum_requisites\\\":[],\\\"name\\\":\\\" \\\",\\\"metrics\\\":{\\\"centrality\\\":0,\\\"complexity\\\":5.0,\\\"blocking factor\\\":2,\\\"delay factor\\\":3.0},\\\"nameSub\\\":\\\"21-127\\\",\\\"id\\\":16,\\\"credits\\\":3,\\\"nameCanonical\\\":\\\"\\\"},{\\\"curriculum_requisites\\\":[{\\\"source_id\\\":2,\\\"target_id\\\":17,\\\"type\\\":\\\"CurriculumPrerequisite\\\"}],\\\"name\\\":\\\" \\\",\\\"metrics\\\":{\\\"centrality\\\":4,\\\"complexity\\\":6.0,\\\"blocking factor\\\":2,\\\"delay factor\\\":4.0},\\\"nameSub\\\":\\\"15-122\\\",\\\"id\\\":17,\\\"credits\\\":3,\\\"nameCanonical\\\":\\\"\\\"},{\\\"curriculum_requisites\\\":[{\\\"source_id\\\":7,\\\"target_id\\\":18,\\\"type\\\":\\\"CurriculumPrerequisite\\\"}],\\\"name\\\":\\\" \\\",\\\"metrics\\\":{\\\"centrality\\\":0,\\\"complexity\\\":3.0,\\\"blocking factor\\\":0,\\\"delay factor\\\":3.0},\\\"nameSub\\\":\\\"36-217\\\",\\\"id\\\":18,\\\"credits\\\":3,\\\"nameCanonical\\\":\\\"\\\"},{\\\"curriculum_requisites\\\":[{\\\"source_id\\\":13,\\\"target_id\\\":19,\\\"type\\\":\\\"CurriculumPrerequisite\\\"}],\\\"name\\\":\\\" \\\",\\\"metrics\\\":{\\\"centrality\\\":3,\\\"complexity\\\":4.0,\\\"blocking factor\\\":1,\\\"delay factor\\\":3.0},\\\"nameSub\\\":\\\"39-220\\\",\\\"id\\\":19,\\\"credits\\\":3,\\\"nameCanonical\\\":\\\"\\\"},{\\\"curriculum_requisites\\\":[],\\\"name\\\":\\\" \\\",\\\"metrics\\\":{\\\"centrality\\\":0,\\\"complexity\\\":1.0,\\\"blocking factor\\\":0,\\\"delay factor\\\":1.0},\\\"nameSub\\\":\\\"General Education course\\\",\\\"id\\\":20,\\\"credits\\\":3,\\\"nameCanonical\\\":\\\"\\\"},{\\\"curriculum_requisites\\\":[{\\\"source_id\\\":11,\\\"target_id\\\":21,\\\"type\\\":\\\"CurriculumCorequisite\\\"},{\\\"source_id\\\":1,\\\"target_id\\\":21,\\\"type\\\":\\\"CurriculumPrerequisite\\\"}],\\\"name\\\":\\\" \\\",\\\"metrics\\\":{\\\"centrality\\\":8,\\\"complexity\\\":6.0,\\\"blocking factor\\\":1,\\\"delay factor\\\":5.0},\\\"nameSub\\\":\\\"18-290\\\",\\\"id\\\":21,\\\"credits\\\":3,\\\"nameCanonical\\\":\\\"\\\"}],\\\"id\\\":4},{\\\"name\\\":\\\"Term 5\\\",\\\"curriculum_items\\\":[{\\\"curriculum_requisites\\\":[{\\\"source_id\\\":19,\\\"target_id\\\":22,\\\"type\\\":\\\"CurriculumPrerequisite\\\"}],\\\"name\\\":\\\" \\\",\\\"metrics\\\":{\\\"centrality\\\":0,\\\"complexity\\\":3.0,\\\"blocking factor\\\":0,\\\"delay factor\\\":3.0},\\\"nameSub\\\":\\\"39-310\\\",\\\"id\\\":22,\\\"credits\\\":3,\\\"nameCanonical\\\":\\\"\\\"},{\\\"curriculum_requisites\\\":[],\\\"name\\\":\\\" \\\",\\\"metrics\\\":{\\\"centrality\\\":0,\\\"complexity\\\":1.0,\\\"blocking factor\\\":0,\\\"delay factor\\\":1.0},\\\"nameSub\\\":\\\"18-3xx/4xx ECE Area 1 course\\\",\\\"id\\\":23,\\\"credits\\\":3,\\\"nameCanonical\\\":\\\"\\\"},{\\\"curriculum_requisites\\\":[{\\\"source_id\\\":16,\\\"target_id\\\":24,\\\"type\\\":\\\"CurriculumCorequisite\\\"},{\\\"source_id\\\":1,\\\"target_id\\\":24,\\\"type\\\":\\\"CurriculumPrerequisite\\\"}],\\\"name\\\":\\\" \\\",\\\"metrics\\\":{\\\"centrality\\\":6,\\\"complexity\\\":4.0,\\\"blocking factor\\\":1,\\\"delay factor\\\":3.0},\\\"nameSub\\\":\\\"18-240\\\",\\\"id\\\":24,\\\"credits\\\":3,\\\"nameCanonical\\\":\\\"\\\"},{\\\"curriculum_requisites\\\":[],\\\"name\\\":\\\" \\\",\\\"metrics\\\":{\\\"centrality\\\":0,\\\"complexity\\\":1.0,\\\"blocking factor\\\":0,\\\"delay factor\\\":1.0},\\\"nameSub\\\":\\\"Free Elective\\\",\\\"id\\\":25,\\\"credits\\\":3,\\\"nameCanonical\\\":\\\"\\\"},{\\\"curriculum_requisites\\\":[],\\\"name\\\":\\\" \\\",\\\"metrics\\\":{\\\"centrality\\\":0,\\\"complexity\\\":1.0,\\\"blocking factor\\\":0,\\\"delay factor\\\":1.0},\\\"nameSub\\\":\\\"General Education course\\\",\\\"id\\\":26,\\\"credits\\\":3,\\\"nameCanonical\\\":\\\"\\\"},{\\\"curriculum_requisites\\\":[],\\\"name\\\":\\\" \\\",\\\"metrics\\\":{\\\"centrality\\\":0,\\\"complexity\\\":1.0,\\\"blocking factor\\\":0,\\\"delay factor\\\":1.0},\\\"nameSub\\\":\\\"Math/Science elective 1\\\",\\\"id\\\":27,\\\"credits\\\":3,\\\"nameCanonical\\\":\\\"\\\"}],\\\"id\\\":5},{\\\"name\\\":\\\"Term 6\\\",\\\"curriculum_items\\\":[{\\\"curriculum_requisites\\\":[{\\\"source_id\\\":17,\\\"target_id\\\":28,\\\"type\\\":\\\"CurriculumPrerequisite\\\"}],\\\"name\\\":\\\" \\\",\\\"metrics\\\":{\\\"centrality\\\":4,\\\"complexity\\\":5.0,\\\"blocking factor\\\":1,\\\"delay factor\\\":4.0},\\\"nameSub\\\":\\\"18-213\\\",\\\"id\\\":28,\\\"credits\\\":3,\\\"nameCanonical\\\":\\\"\\\"},{\\\"curriculum_requisites\\\":[],\\\"name\\\":\\\" \\\",\\\"metrics\\\":{\\\"centrality\\\":0,\\\"complexity\\\":3.0,\\\"blocking factor\\\":1,\\\"delay factor\\\":2.0},\\\"nameSub\\\":\\\"18-xxx Area course 1\\\",\\\"id\\\":29,\\\"credits\\\":3,\\\"nameCanonical\\\":\\\"\\\"},{\\\"curriculum_requisites\\\":[],\\\"name\\\":\\\" \\\",\\\"metrics\\\":{\\\"centrality\\\":0,\\\"complexity\\\":1.0,\\\"blocking factor\\\":0,\\\"delay factor\\\":1.0},\\\"nameSub\\\":\\\"Free Elective\\\",\\\"id\\\":30,\\\"credits\\\":3,\\\"nameCanonical\\\":\\\"\\\"},{\\\"curriculum_requisites\\\":[],\\\"name\\\":\\\" \\\",\\\"metrics\\\":{\\\"centrality\\\":0,\\\"complexity\\\":1.0,\\\"blocking factor\\\":0,\\\"delay factor\\\":1.0},\\\"nameSub\\\":\\\"General Education course\\\",\\\"id\\\":31,\\\"credits\\\":3,\\\"nameCanonical\\\":\\\"\\\"},{\\\"curriculum_requisites\\\":[],\\\"name\\\":\\\" \\\",\\\"metrics\\\":{\\\"centrality\\\":0,\\\"complexity\\\":1.0,\\\"blocking factor\\\":0,\\\"delay factor\\\":1.0},\\\"nameSub\\\":\\\"Math/Science Elective 2\\\",\\\"id\\\":32,\\\"credits\\\":3,\\\"nameCanonical\\\":\\\"\\\"}],\\\"id\\\":6},{\\\"name\\\":\\\"Term 7\\\",\\\"curriculum_items\\\":[{\\\"curriculum_requisites\\\":[],\\\"name\\\":\\\" \\\",\\\"metrics\\\":{\\\"centrality\\\":0,\\\"complexity\\\":1.0,\\\"blocking factor\\\":0,\\\"delay factor\\\":1.0},\\\"nameSub\\\":\\\"18-xxx ECE Coverage course\\\",\\\"id\\\":33,\\\"credits\\\":3,\\\"nameCanonical\\\":\\\"\\\"},{\\\"curriculum_requisites\\\":[],\\\"name\\\":\\\" \\\",\\\"metrics\\\":{\\\"centrality\\\":0,\\\"complexity\\\":3.0,\\\"blocking factor\\\":1,\\\"delay factor\\\":2.0},\\\"nameSub\\\":\\\"18-xxx Area course 2\\\",\\\"id\\\":34,\\\"credits\\\":3,\\\"nameCanonical\\\":\\\"\\\"},{\\\"curriculum_requisites\\\":[],\\\"name\\\":\\\" \\\",\\\"metrics\\\":{\\\"centrality\\\":0,\\\"complexity\\\":1.0,\\\"blocking factor\\\":0,\\\"delay factor\\\":1.0},\\\"nameSub\\\":\\\"Free Elective\\\",\\\"id\\\":35,\\\"credits\\\":3,\\\"nameCanonical\\\":\\\"\\\"},{\\\"curriculum_requisites\\\":[],\\\"name\\\":\\\" \\\",\\\"metrics\\\":{\\\"centrality\\\":0,\\\"complexity\\\":1.0,\\\"blocking factor\\\":0,\\\"delay factor\\\":1.0},\\\"nameSub\\\":\\\"Free Elective\\\",\\\"id\\\":36,\\\"credits\\\":3,\\\"nameCanonical\\\":\\\"\\\"},{\\\"curriculum_requisites\\\":[],\\\"name\\\":\\\" \\\",\\\"metrics\\\":{\\\"centrality\\\":0,\\\"complexity\\\":1.0,\\\"blocking factor\\\":0,\\\"delay factor\\\":1.0},\\\"nameSub\\\":\\\"General Education course\\\",\\\"id\\\":37,\\\"credits\\\":3,\\\"nameCanonical\\\":\\\"\\\"}],\\\"id\\\":7},{\\\"name\\\":\\\"Term 8\\\",\\\"curriculum_items\\\":[{\\\"curriculum_requisites\\\":[{\\\"source_id\\\":34,\\\"target_id\\\":38,\\\"type\\\":\\\"CurriculumPrerequisite\\\"},{\\\"source_id\\\":29,\\\"target_id\\\":38,\\\"type\\\":\\\"CurriculumPrerequisite\\\"},{\\\"source_id\\\":21,\\\"target_id\\\":38,\\\"type\\\":\\\"CurriculumPrerequisite\\\"},{\\\"source_id\\\":24,\\\"target_id\\\":38,\\\"type\\\":\\\"CurriculumPrerequisite\\\"},{\\\"source_id\\\":28,\\\"target_id\\\":38,\\\"type\\\":\\\"CurriculumPrerequisite\\\"},{\\\"source_id\\\":14,\\\"target_id\\\":38,\\\"type\\\":\\\"CurriculumPrerequisite\\\"}],\\\"name\\\":\\\" \\\",\\\"metrics\\\":{\\\"centrality\\\":0,\\\"complexity\\\":5.0,\\\"blocking factor\\\":0,\\\"delay factor\\\":5.0},\\\"nameSub\\\":\\\"18-500\\\",\\\"id\\\":38,\\\"credits\\\":3,\\\"nameCanonical\\\":\\\"\\\"},{\\\"curriculum_requisites\\\":[],\\\"name\\\":\\\" \\\",\\\"metrics\\\":{\\\"centrality\\\":0,\\\"complexity\\\":1.0,\\\"blocking factor\\\":0,\\\"delay factor\\\":1.0},\\\"nameSub\\\":\\\"Free Elective\\\",\\\"id\\\":39,\\\"credits\\\":3,\\\"nameCanonical\\\":\\\"\\\"},{\\\"curriculum_requisites\\\":[],\\\"name\\\":\\\" \\\",\\\"metrics\\\":{\\\"centrality\\\":0,\\\"complexity\\\":1.0,\\\"blocking factor\\\":0,\\\"delay factor\\\":1.0},\\\"nameSub\\\":\\\"Free Elective\\\",\\\"id\\\":40,\\\"credits\\\":3,\\\"nameCanonical\\\":\\\"\\\"},{\\\"curriculum_requisites\\\":[],\\\"name\\\":\\\" \\\",\\\"metrics\\\":{\\\"centrality\\\":0,\\\"complexity\\\":1.0,\\\"blocking factor\\\":0,\\\"delay factor\\\":1.0},\\\"nameSub\\\":\\\"Free Elective\\\",\\\"id\\\":41,\\\"credits\\\":3,\\\"nameCanonical\\\":\\\"\\\"},{\\\"curriculum_requisites\\\":[],\\\"name\\\":\\\" \\\",\\\"metrics\\\":{\\\"centrality\\\":0,\\\"complexity\\\":1.0,\\\"blocking factor\\\":0,\\\"delay factor\\\":1.0},\\\"nameSub\\\":\\\"General Education course\\\",\\\"id\\\":42,\\\"credits\\\":3,\\\"nameCanonical\\\":\\\"\\\"}],\\\"id\\\":8}],\\\"institution\\\":\\\"\\\"}},\\\"*\\\"); window.removeEventListener(\\\"message\\\",window.messageReceived); window.messageReceived=(function (event){return (event.data.curriculum!==undefined) ? (WebIO.setval({\\\"name\\\":\\\"curriculum-data\\\",\\\"scope\\\":\\\"17608144130007997795\\\",\\\"id\\\":\\\"14808896017169156348\\\",\\\"type\\\":\\\"observable\\\"},event.data.curriculum)) : undefined}); return window.addEventListener(\\\"message\\\",window.messageReceived)})\")), :style => Dict(:padding => \"0\", :height => \"100vh\", :margin => \"0\", :border => \"none\", :width => \"100%\"))), Dict{String, Tuple{Observables.AbstractObservable, Union{Nothing, Bool}}}(\"curriculum-data\" => (Observable{Dict{String, Any}} with 1 listeners. Value:\n",
       "Dict{String, Any}(\"options\" => Dict{String, Any}(\"hideTerms\" => false, \"edit\" => false), \"curriculum\" => Dict{String, Any}(\"name\" => \"Curriculum\", \"dp_name\" => \"Carnegie Mellon University.csv\", \"curriculum_terms\" => Dict{String, Any}[Dict(\"name\" => \"Term 1\", \"curriculum_items\" => Dict{String, Any}[Dict(\"curriculum_requisites\" => Dict{String, Any}[], \"name\" => \" \", \"metrics\" => Dict{String, Any}(\"centrality\" => 0, \"complexity\" => 8.0, \"blocking factor\" => 5, \"delay factor\" => 3.0), \"nameSub\" => \"18-100\", \"id\" => 1, \"credits\" => 3, \"nameCanonical\" => \"\"), Dict(\"curriculum_requisites\" => Dict{String, Any}[], \"name\" => \" \", \"metrics\" => Dict{String, Any}(\"centrality\" => 0, \"complexity\" => 7.0, \"blocking factor\" => 3, \"delay factor\" => 4.0), \"nameSub\" => \"15-112\", \"id\" => 2, \"credits\" => 3, \"nameCanonical\" => \"\"), Dict(\"curriculum_requisites\" => Dict{String, Any}[], \"name\" => \" \", \"metrics\" => Dict{String, Any}(\"centrality\" => 0, \"complexity\" => 13.0, \"blocking factor\" => 8, \"delay factor\" => 5.0), \"nameSub\" => \"21-120\", \"id\" => 3, \"credits\" => 3, \"nameCanonical\" => \"\"), Dict(\"curriculum_requisites\" => Dict{String, Any}[], \"name\" => \" \", \"metrics\" => Dict{String, Any}(\"centrality\" => 0, \"complexity\" => 1.0, \"blocking factor\" => 0, \"delay factor\" => 1.0), \"nameSub\" => \"76-101\", \"id\" => 4, \"credits\" => 3, \"nameCanonical\" => \"\"), Dict(\"curriculum_requisites\" => Dict{String, Any}[], \"name\" => \" \", \"metrics\" => Dict{String, Any}(\"centrality\" => 0, \"complexity\" => 1.0, \"blocking factor\" => 0, \"delay factor\" => 1.0), \"nameSub\" => \"99-101\", \"id\" => 5, \"credits\" => 3, \"nameCanonical\" => \"\")], \"id\" => 1), Dict(\"name\" => \"Term 2\", \"curriculum_items\" => Dict{String, Any}[Dict(\"curriculum_requisites\" => Dict{String, Any}[Dict(\"source_id\" => 3, \"target_id\" => 6, \"type\" => \"CurriculumPrerequisite\")], \"name\" => \" \", \"metrics\" => Dict{String, Any}(\"centrality\" => 5, \"complexity\" => 8.0, \"blocking factor\" => 3, \"delay factor\" => 5.0), \"nameSub\" => \"33-141\", \"id\" => 6, \"credits\" => 3, \"nameCanonical\" => \"\"), Dict(\"curriculum_requisites\" => Dict{String, Any}[Dict(\"source_id\" => 3, \"target_id\" => 7, \"type\" => \"CurriculumPrerequisite\")], \"name\" => \" \", \"metrics\" => Dict{String, Any}(\"centrality\" => 13, \"complexity\" => 10.0, \"blocking factor\" => 5, \"delay factor\" => 5.0), \"nameSub\" => \"21-122\", \"id\" => 7, \"credits\" => 3, \"nameCanonical\" => \"\"), Dict(\"curriculum_requisites\" => Dict{String, Any}[], \"name\" => \" \", \"metrics\" => Dict{String, Any}(\"centrality\" => 0, \"complexity\" => 1.0, \"blocking factor\" => 0, \"delay factor\" => 1.0), \"nameSub\" => \"Introductory Engineering course\", \"id\" => 8, \"credits\" => 3, \"nameCanonical\" => \"\"), Dict(\"curriculum_requisites\" => Dict{String, Any}[], \"name\" => \" \", \"metrics\" => Dict{String, Any}(\"centrality\" => 0, \"complexity\" => 1.0, \"blocking factor\" => 0, \"delay factor\" => 1.0), \"nameSub\" => \"General Education course\", \"id\" => 9, \"credits\" => 3, \"nameCanonical\" => \"\")], \"id\" => 2), Dict(\"name\" => \"Term 3\", \"curriculum_items\" => Dict{String, Any}[Dict(\"curriculum_requisites\" => Dict{String, Any}[Dict(\"source_id\" => 1, \"target_id\" => 10, \"type\" => \"CurriculumPrerequisite\")], \"name\" => \" \", \"metrics\" => Dict{String, Any}(\"centrality\" => 0, \"complexity\" => 2.0, \"blocking factor\" => 0, \"delay factor\" => 2.0), \"nameSub\" => \"18-200\", \"id\" => 10, \"credits\" => 3, \"nameCanonical\" => \"\"), Dict(\"curriculum_requisites\" => Dict{String, Any}[Dict(\"source_id\" => 7, \"target_id\" => 11, \"type\" => \"CurriculumPrerequisite\")], \"name\" => \" \", \"metrics\" => Dict{String, Any}(\"centrality\" => 10, \"complexity\" => 8.0, \"blocking factor\" => 3, \"delay factor\" => 5.0), \"nameSub\" => \"18-202\", \"id\" => 11, \"credits\" => 3, \"nameCanonical\" => \"\"), Dict(\"curriculum_requisites\" => Dict{String, Any}[Dict(\"source_id\" => 6, \"target_id\" => 12, \"type\" => \"CurriculumPrerequisite\")], \"name\" => \" \", \"metrics\" => Dict{String, Any}(\"centrality\" => 5, \"complexity\" => 7.0, \"blocking factor\" => 2, \"delay factor\" => 5.0), \"nameSub\" => \"33-142\", \"id\" => 12, \"credits\" => 3, \"nameCanonical\" => \"\"), Dict(\"curriculum_requisites\" => Dict{String, Any}[], \"name\" => \" \", \"metrics\" => Dict{String, Any}(\"centrality\" => 0, \"complexity\" => 5.0, \"blocking factor\" => 2, \"delay factor\" => 3.0), \"nameSub\" => \"39-210\", \"id\" => 13, \"credits\" => 3, \"nameCanonical\" => \"\"), Dict(\"curriculum_requisites\" => Dict{String, Any}[Dict(\"source_id\" => 11, \"target_id\" => 14, \"type\" => \"CurriculumCorequisite\"), Dict(\"source_id\" => 12, \"target_id\" => 14, \"type\" => \"CurriculumCorequisite\"), Dict(\"source_id\" => 1, \"target_id\" => 14, \"type\" => \"CurriculumPrerequisite\")], \"name\" => \" \", \"metrics\" => Dict{String, Any}(\"centrality\" => 13, \"complexity\" => 6.0, \"blocking factor\" => 1, \"delay factor\" => 5.0), \"nameSub\" => \"18-220\", \"id\" => 14, \"credits\" => 3, \"nameCanonical\" => \"\"), Dict(\"curriculum_requisites\" => Dict{String, Any}[], \"name\" => \" \", \"metrics\" => Dict{String, Any}(\"centrality\" => 0, \"complexity\" => 1.0, \"blocking factor\" => 0, \"delay factor\" => 1.0), \"nameSub\" => \"General Education course\", \"id\" => 15, \"credits\" => 3, \"nameCanonical\" => \"\")], \"id\" => 3), Dict(\"name\" => \"Term 4\", \"curriculum_items\" => Dict{String, Any}[Dict(\"curriculum_requisites\" => Dict{String, Any}[], \"name\" => \" \", \"metrics\" => Dict{String, Any}(\"centrality\" => 0, \"complexity\" => 5.0, \"blocking factor\" => 2, \"delay factor\" => 3.0), \"nameSub\" => \"21-127\", \"id\" => 16, \"credits\" => 3, \"nameCanonical\" => \"\"), Dict(\"curriculum_requisites\" => Dict{String, Any}[Dict(\"source_id\" => 2, \"target_id\" => 17, \"type\" => \"CurriculumPrerequisite\")], \"name\" => \" \", \"metrics\" => Dict{String, Any}(\"centrality\" => 4, \"complexity\" => 6.0, \"blocking factor\" => 2, \"delay factor\" => 4.0), \"nameSub\" => \"15-122\", \"id\" => 17, \"credits\" => 3, \"nameCanonical\" => \"\"), Dict(\"curriculum_requisites\" => Dict{String, Any}[Dict(\"source_id\" => 7, \"target_id\" => 18, \"type\" => \"CurriculumPrerequisite\")], \"name\" => \" \", \"metrics\" => Dict{String, Any}(\"centrality\" => 0, \"complexity\" => 3.0, \"blocking factor\" => 0, \"delay factor\" => 3.0), \"nameSub\" => \"36-217\", \"id\" => 18, \"credits\" => 3, \"nameCanonical\" => \"\"), Dict(\"curriculum_requisites\" => Dict{String, Any}[Dict(\"source_id\" => 13, \"target_id\" => 19, \"type\" => \"CurriculumPrerequisite\")], \"name\" => \" \", \"metrics\" => Dict{String, Any}(\"centrality\" => 3, \"complexity\" => 4.0, \"blocking factor\" => 1, \"delay factor\" => 3.0), \"nameSub\" => \"39-220\", \"id\" => 19, \"credits\" => 3, \"nameCanonical\" => \"\"), Dict(\"curriculum_requisites\" => Dict{String, Any}[], \"name\" => \" \", \"metrics\" => Dict{String, Any}(\"centrality\" => 0, \"complexity\" => 1.0, \"blocking factor\" => 0, \"delay factor\" => 1.0), \"nameSub\" => \"General Education course\", \"id\" => 20, \"credits\" => 3, \"nameCanonical\" => \"\"), Dict(\"curriculum_requisites\" => Dict{String, Any}[Dict(\"source_id\" => 11, \"target_id\" => 21, \"type\" => \"CurriculumCorequisite\"), Dict(\"source_id\" => 1, \"target_id\" => 21, \"type\" => \"CurriculumPrerequisite\")], \"name\" => \" \", \"metrics\" => Dict{String, Any}(\"centrality\" => 8, \"complexity\" => 6.0, \"blocking factor\" => 1, \"delay factor\" => 5.0), \"nameSub\" => \"18-290\", \"id\" => 21, \"credits\" => 3, \"nameCanonical\" => \"\")], \"id\" => 4), Dict(\"name\" => \"Term 5\", \"curriculum_items\" => Dict{String, Any}[Dict(\"curriculum_requisites\" => Dict{String, Any}[Dict(\"source_id\" => 19, \"target_id\" => 22, \"type\" => \"CurriculumPrerequisite\")], \"name\" => \" \", \"metrics\" => Dict{String, Any}(\"centrality\" => 0, \"complexity\" => 3.0, \"blocking factor\" => 0, \"delay factor\" => 3.0), \"nameSub\" => \"39-310\", \"id\" => 22, \"credits\" => 3, \"nameCanonical\" => \"\"), Dict(\"curriculum_requisites\" => Dict{String, Any}[], \"name\" => \" \", \"metrics\" => Dict{String, Any}(\"centrality\" => 0, \"complexity\" => 1.0, \"blocking factor\" => 0, \"delay factor\" => 1.0), \"nameSub\" => \"18-3xx/4xx ECE Area 1 course\", \"id\" => 23, \"credits\" => 3, \"nameCanonical\" => \"\"), Dict(\"curriculum_requisites\" => Dict{String, Any}[Dict(\"source_id\" => 16, \"target_id\" => 24, \"type\" => \"CurriculumCorequisite\"), Dict(\"source_id\" => 1, \"target_id\" => 24, \"type\" => \"CurriculumPrerequisite\")], \"name\" => \" \", \"metrics\" => Dict{String, Any}(\"centrality\" => 6, \"complexity\" => 4.0, \"blocking factor\" => 1, \"delay factor\" => 3.0), \"nameSub\" => \"18-240\", \"id\" => 24, \"credits\" => 3, \"nameCanonical\" => \"\"), Dict(\"curriculum_requisites\" => Dict{String, Any}[], \"name\" => \" \", \"metrics\" => Dict{String, Any}(\"centrality\" => 0, \"complexity\" => 1.0, \"blocking factor\" => 0, \"delay factor\" => 1.0), \"nameSub\" => \"Free Elective\", \"id\" => 25, \"credits\" => 3, \"nameCanonical\" => \"\"), Dict(\"curriculum_requisites\" => Dict{String, Any}[], \"name\" => \" \", \"metrics\" => Dict{String, Any}(\"centrality\" => 0, \"complexity\" => 1.0, \"blocking factor\" => 0, \"delay factor\" => 1.0), \"nameSub\" => \"General Education course\", \"id\" => 26, \"credits\" => 3, \"nameCanonical\" => \"\"), Dict(\"curriculum_requisites\" => Dict{String, Any}[], \"name\" => \" \", \"metrics\" => Dict{String, Any}(\"centrality\" => 0, \"complexity\" => 1.0, \"blocking factor\" => 0, \"delay factor\" => 1.0), \"nameSub\" => \"Math/Science elective 1\", \"id\" => 27, \"credits\" => 3, \"nameCanonical\" => \"\")], \"id\" => 5), Dict(\"name\" => \"Term 6\", \"curriculum_items\" => Dict{String, Any}[Dict(\"curriculum_requisites\" => Dict{String, Any}[Dict(\"source_id\" => 17, \"target_id\" => 28, \"type\" => \"CurriculumPrerequisite\")], \"name\" => \" \", \"metrics\" => Dict{String, Any}(\"centrality\" => 4, \"complexity\" => 5.0, \"blocking factor\" => 1, \"delay factor\" => 4.0), \"nameSub\" => \"18-213\", \"id\" => 28, \"credits\" => 3, \"nameCanonical\" => \"\"), Dict(\"curriculum_requisites\" => Dict{String, Any}[], \"name\" => \" \", \"metrics\" => Dict{String, Any}(\"centrality\" => 0, \"complexity\" => 3.0, \"blocking factor\" => 1, \"delay factor\" => 2.0), \"nameSub\" => \"18-xxx Area course 1\", \"id\" => 29, \"credits\" => 3, \"nameCanonical\" => \"\"), Dict(\"curriculum_requisites\" => Dict{String, Any}[], \"name\" => \" \", \"metrics\" => Dict{String, Any}(\"centrality\" => 0, \"complexity\" => 1.0, \"blocking factor\" => 0, \"delay factor\" => 1.0), \"nameSub\" => \"Free Elective\", \"id\" => 30, \"credits\" => 3, \"nameCanonical\" => \"\"), Dict(\"curriculum_requisites\" => Dict{String, Any}[], \"name\" => \" \", \"metrics\" => Dict{String, Any}(\"centrality\" => 0, \"complexity\" => 1.0, \"blocking factor\" => 0, \"delay factor\" => 1.0), \"nameSub\" => \"General Education course\", \"id\" => 31, \"credits\" => 3, \"nameCanonical\" => \"\"), Dict(\"curriculum_requisites\" => Dict{String, Any}[], \"name\" => \" \", \"metrics\" => Dict{String, Any}(\"centrality\" => 0, \"complexity\" => 1.0, \"blocking factor\" => 0, \"delay factor\" => 1.0), \"nameSub\" => \"Math/Science Elective 2\", \"id\" => 32, \"credits\" => 3, \"nameCanonical\" => \"\")], \"id\" => 6), Dict(\"name\" => \"Term 7\", \"curriculum_items\" => Dict{String, Any}[Dict(\"curriculum_requisites\" => Dict{String, Any}[], \"name\" => \" \", \"metrics\" => Dict{String, Any}(\"centrality\" => 0, \"complexity\" => 1.0, \"blocking factor\" => 0, \"delay factor\" => 1.0), \"nameSub\" => \"18-xxx ECE Coverage course\", \"id\" => 33, \"credits\" => 3, \"nameCanonical\" => \"\"), Dict(\"curriculum_requisites\" => Dict{String, Any}[], \"name\" => \" \", \"metrics\" => Dict{String, Any}(\"centrality\" => 0, \"complexity\" => 3.0, \"blocking factor\" => 1, \"delay factor\" => 2.0), \"nameSub\" => \"18-xxx Area course 2\", \"id\" => 34, \"credits\" => 3, \"nameCanonical\" => \"\"), Dict(\"curriculum_requisites\" => Dict{String, Any}[], \"name\" => \" \", \"metrics\" => Dict{String, Any}(\"centrality\" => 0, \"complexity\" => 1.0, \"blocking factor\" => 0, \"delay factor\" => 1.0), \"nameSub\" => \"Free Elective\", \"id\" => 35, \"credits\" => 3, \"nameCanonical\" => \"\"), Dict(\"curriculum_requisites\" => Dict{String, Any}[], \"name\" => \" \", \"metrics\" => Dict{String, Any}(\"centrality\" => 0, \"complexity\" => 1.0, \"blocking factor\" => 0, \"delay factor\" => 1.0), \"nameSub\" => \"Free Elective\", \"id\" => 36, \"credits\" => 3, \"nameCanonical\" => \"\"), Dict(\"curriculum_requisites\" => Dict{String, Any}[], \"name\" => \" \", \"metrics\" => Dict{String, Any}(\"centrality\" => 0, \"complexity\" => 1.0, \"blocking factor\" => 0, \"delay factor\" => 1.0), \"nameSub\" => \"General Education course\", \"id\" => 37, \"credits\" => 3, \"nameCanonical\" => \"\")], \"id\" => 7), Dict(\"name\" => \"Term 8\", \"curriculum_items\" => Dict{String, Any}[Dict(\"curriculum_requisites\" => Dict{String, Any}[Dict(\"source_id\" => 34, \"target_id\" => 38, \"type\" => \"CurriculumPrerequisite\"), Dict(\"source_id\" => 29, \"target_id\" => 38, \"type\" => \"CurriculumPrerequisite\"), Dict(\"source_id\" => 21, \"target_id\" => 38, \"type\" => \"CurriculumPrerequisite\"), Dict(\"source_id\" => 24, \"target_id\" => 38, \"type\" => \"CurriculumPrerequisite\"), Dict(\"source_id\" => 28, \"target_id\" => 38, \"type\" => \"CurriculumPrerequisite\"), Dict(\"source_id\" => 14, \"target_id\" => 38, \"type\" => \"CurriculumPrerequisite\")], \"name\" => \" \", \"metrics\" => Dict{String, Any}(\"centrality\" => 0, \"complexity\" => 5.0, \"blocking factor\" => 0, \"delay factor\" => 5.0), \"nameSub\" => \"18-500\", \"id\" => 38, \"credits\" => 3, \"nameCanonical\" => \"\"), Dict(\"curriculum_requisites\" => Dict{String, Any}[], \"name\" => \" \", \"metrics\" => Dict{String, Any}(\"centrality\" => 0, \"complexity\" => 1.0, \"blocking factor\" => 0, \"delay factor\" => 1.0), \"nameSub\" => \"Free Elective\", \"id\" => 39, \"credits\" => 3, \"nameCanonical\" => \"\"), Dict(\"curriculum_requisites\" => Dict{String, Any}[], \"name\" => \" \", \"metrics\" => Dict{String, Any}(\"centrality\" => 0, \"complexity\" => 1.0, \"blocking factor\" => 0, \"delay factor\" => 1.0), \"nameSub\" => \"Free Elective\", \"id\" => 40, \"credits\" => 3, \"nameCanonical\" => \"\"), Dict(\"curriculum_requisites\" => Dict{String, Any}[], \"name\" => \" \", \"metrics\" => Dict{String, Any}(\"centrality\" => 0, \"complexity\" => 1.0, \"blocking factor\" => 0, \"delay factor\" => 1.0), \"nameSub\" => \"Free Elective\", \"id\" => 41, \"credits\" => 3, \"nameCanonical\" => \"\"), Dict(\"curriculum_requisites\" => Dict{String, Any}[], \"name\" => \" \", \"metrics\" => Dict{String, Any}(\"centrality\" => 0, \"complexity\" => 1.0, \"blocking factor\" => 0, \"delay factor\" => 1.0), \"nameSub\" => \"General Education course\", \"id\" => 42, \"credits\" => 3, \"nameCanonical\" => \"\")], \"id\" => 8)], \"institution\" => \"\")), nothing)), Set{String}(), nothing, WebIO.Asset[], Dict{Any, Any}(), WebIO.ConnectionPool(Channel{Any}(32), Set{WebIO.AbstractConnection}(), Condition(Base.InvasiveLinkedList{Task}(Task (runnable) @0x000000017c672540, Task (runnable) @0x000000017c672540), Base.AlwaysLockedST(1))), WebIO.JSString[])"
      ]
     },
     "execution_count": 2,
     "metadata": {
      "application/vnd.webio.node+json": {
       "kernelId": "c8ecfede-c2ba-4c95-b320-9f22d2cc659e"
      }
     },
     "output_type": "execute_result"
    }
   ],
   "source": [
    "visualize(read_csv(\"./tier_top/Carnegie Mellon University.csv\"), notebook=true)"
   ]
  },
  {
   "cell_type": "markdown",
   "metadata": {},
   "source": [
    "By hovering your mouse over the courses in this degree plan, you can view the contribution that various course make to the overall compleixty of this curriculum.\n",
    "\n",
    "Next consider the degree plan for an electrical engineering program that has a much larger curricular complexity.\n"
   ]
  },
  {
   "cell_type": "code",
   "execution_count": 3,
   "metadata": {},
   "outputs": [
    {
     "data": {
      "application/vnd.webio.node+json": {
       "children": [
        {
         "children": [
          ""
         ],
         "instanceArgs": {
          "namespace": "html",
          "tag": "iframe"
         },
         "nodeType": "DOM",
         "props": {
          "events": {
           "load": "(function (){this.contentWindow.postMessage({\"options\":{\"hideTerms\":false,\"edit\":false},\"curriculum\":{\"name\":\"Curriculum\",\"dp_name\":\"University of Missouri--Kansas City.csv\",\"curriculum_terms\":[{\"name\":\"Term 1\",\"curriculum_items\":[{\"curriculum_requisites\":[],\"name\":\" \",\"metrics\":{\"centrality\":0,\"complexity\":1.0,\"blocking factor\":0,\"delay factor\":1.0},\"nameSub\":\"ANCH 150\",\"id\":1,\"credits\":3,\"nameCanonical\":\"\"},{\"curriculum_requisites\":[],\"name\":\" \",\"metrics\":{\"centrality\":0,\"complexity\":1.0,\"blocking factor\":0,\"delay factor\":1.0},\"nameSub\":\"CHEM 211\",\"id\":2,\"credits\":5,\"nameCanonical\":\"\"},{\"curriculum_requisites\":[],\"name\":\" \",\"metrics\":{\"centrality\":0,\"complexity\":1.0,\"blocking factor\":0,\"delay factor\":1.0},\"nameSub\":\"DISC 100\",\"id\":3,\"credits\":3,\"nameCanonical\":\"\"},{\"curriculum_requisites\":[],\"name\":\" \",\"metrics\":{\"centrality\":0,\"complexity\":1.0,\"blocking factor\":0,\"delay factor\":1.0},\"nameSub\":\"ECE 130\",\"id\":4,\"credits\":3,\"nameCanonical\":\"\"},{\"curriculum_requisites\":[],\"name\":\" \",\"metrics\":{\"centrality\":0,\"complexity\":37.0,\"blocking factor\":27,\"delay factor\":10.0},\"nameSub\":\"MATH 210\",\"id\":5,\"credits\":4,\"nameCanonical\":\"\"}],\"id\":1},{\"name\":\"Term 2\",\"curriculum_items\":[{\"curriculum_requisites\":[{\"source_id\":5,\"target_id\":6,\"type\":\"CurriculumPrerequisite\"}],\"name\":\" \",\"metrics\":{\"centrality\":236,\"complexity\":34.0,\"blocking factor\":24,\"delay factor\":10.0},\"nameSub\":\"MATH 220\",\"id\":6,\"credits\":4,\"nameCanonical\":\"\"},{\"curriculum_requisites\":[{\"source_id\":5,\"target_id\":7,\"type\":\"CurriculumPrerequisite\"}],\"name\":\" \",\"metrics\":{\"centrality\":99,\"complexity\":27.0,\"blocking factor\":18,\"delay factor\":9.0},\"nameSub\":\"PHYS 240\",\"id\":7,\"credits\":5,\"nameCanonical\":\"\"},{\"curriculum_requisites\":[],\"name\":\" \",\"metrics\":{\"centrality\":0,\"complexity\":1.0,\"blocking factor\":0,\"delay factor\":1.0},\"nameSub\":\"ANCH 200\",\"id\":8,\"credits\":3,\"nameCanonical\":\"\"},{\"curriculum_requisites\":[],\"name\":\" \",\"metrics\":{\"centrality\":0,\"complexity\":1.0,\"blocking factor\":0,\"delay factor\":1.0},\"nameSub\":\"DISC 200\",\"id\":9,\"credits\":3,\"nameCanonical\":\"\"}],\"id\":2},{\"name\":\"Term 3\",\"curriculum_items\":[{\"curriculum_requisites\":[{\"source_id\":5,\"target_id\":10,\"type\":\"CurriculumPrerequisite\"}],\"name\":\" \",\"metrics\":{\"centrality\":3,\"complexity\":4.0,\"blocking factor\":1,\"delay factor\":3.0},\"nameSub\":\"ECE 216\",\"id\":10,\"credits\":4,\"nameCanonical\":\"\"},{\"curriculum_requisites\":[],\"name\":\" \",\"metrics\":{\"centrality\":0,\"complexity\":16.0,\"blocking factor\":10,\"delay factor\":6.0},\"nameSub\":\"ECE 226\",\"id\":11,\"credits\":3,\"nameCanonical\":\"\"},{\"curriculum_requisites\":[{\"source_id\":11,\"target_id\":12,\"type\":\"CurriculumCorequisite\"}],\"name\":\" \",\"metrics\":{\"centrality\":29,\"complexity\":14.0,\"blocking factor\":8,\"delay factor\":6.0},\"nameSub\":\"ECE 227\",\"id\":12,\"credits\":1,\"nameCanonical\":\"\"},{\"curriculum_requisites\":[{\"source_id\":6,\"target_id\":13,\"type\":\"CurriculumPrerequisite\"}],\"name\":\" \",\"metrics\":{\"centrality\":134,\"complexity\":31.0,\"blocking factor\":21,\"delay factor\":10.0},\"nameSub\":\"ECE 241\",\"id\":13,\"credits\":3,\"nameCanonical\":\"\"},{\"curriculum_requisites\":[{\"source_id\":6,\"target_id\":14,\"type\":\"CurriculumPrerequisite\"},{\"source_id\":7,\"target_id\":14,\"type\":\"CurriculumPrerequisite\"}],\"name\":\" \",\"metrics\":{\"centrality\":192,\"complexity\":25.0,\"blocking factor\":16,\"delay factor\":9.0},\"nameSub\":\"PHYS 250\",\"id\":14,\"credits\":5,\"nameCanonical\":\"\"}],\"id\":3},{\"name\":\"Term 4\",\"curriculum_items\":[{\"curriculum_requisites\":[{\"source_id\":11,\"target_id\":15,\"type\":\"CurriculumPrerequisite\"},{\"source_id\":12,\"target_id\":15,\"type\":\"CurriculumPrerequisite\"}],\"name\":\" \",\"metrics\":{\"centrality\":7,\"complexity\":5.0,\"blocking factor\":1,\"delay factor\":4.0},\"nameSub\":\"ECE 228\",\"id\":15,\"credits\":3,\"nameCanonical\":\"\"},{\"curriculum_requisites\":[{\"source_id\":15,\"target_id\":16,\"type\":\"CurriculumCorequisite\"},{\"source_id\":11,\"target_id\":16,\"type\":\"CurriculumPrerequisite\"},{\"source_id\":12,\"target_id\":16,\"type\":\"CurriculumPrerequisite\"}],\"name\":\" \",\"metrics\":{\"centrality\":0,\"complexity\":4.0,\"blocking factor\":0,\"delay factor\":4.0},\"nameSub\":\"ECE 229\",\"id\":16,\"credits\":1,\"nameCanonical\":\"\"},{\"curriculum_requisites\":[{\"source_id\":6,\"target_id\":17,\"type\":\"CurriculumPrerequisite\"},{\"source_id\":7,\"target_id\":17,\"type\":\"CurriculumPrerequisite\"}],\"name\":\" \",\"metrics\":{\"centrality\":0,\"complexity\":3.0,\"blocking factor\":0,\"delay factor\":3.0},\"nameSub\":\"ECE 250\",\"id\":17,\"credits\":3,\"nameCanonical\":\"\"},{\"curriculum_requisites\":[{\"source_id\":20,\"target_id\":18,\"type\":\"CurriculumCorequisite\"},{\"source_id\":14,\"target_id\":18,\"type\":\"CurriculumPrerequisite\"}],\"name\":\" \",\"metrics\":{\"centrality\":254,\"complexity\":24.0,\"blocking factor\":14,\"delay factor\":10.0},\"nameSub\":\"ECE 276\",\"id\":18,\"credits\":3,\"nameCanonical\":\"\"},{\"curriculum_requisites\":[{\"source_id\":18,\"target_id\":19,\"type\":\"CurriculumCorequisite\"}],\"name\":\" \",\"metrics\":{\"centrality\":47,\"complexity\":15.0,\"blocking factor\":5,\"delay factor\":10.0},\"nameSub\":\"ECE 277\",\"id\":19,\"credits\":1,\"nameCanonical\":\"\"},{\"curriculum_requisites\":[{\"source_id\":13,\"target_id\":20,\"type\":\"CurriculumPrerequisite\"}],\"name\":\" \",\"metrics\":{\"centrality\":130,\"complexity\":29.0,\"blocking factor\":19,\"delay factor\":10.0},\"nameSub\":\"ECE 341R\",\"id\":20,\"credits\":3,\"nameCanonical\":\"\"},{\"curriculum_requisites\":[{\"source_id\":13,\"target_id\":21,\"type\":\"CurriculumPrerequisite\"},{\"source_id\":6,\"target_id\":21,\"type\":\"CurriculumPrerequisite\"},{\"source_id\":10,\"target_id\":21,\"type\":\"CurriculumPrerequisite\"}],\"name\":\" \",\"metrics\":{\"centrality\":0,\"complexity\":4.0,\"blocking factor\":0,\"delay factor\":4.0},\"nameSub\":\"CS 394R\",\"id\":21,\"credits\":3,\"nameCanonical\":\"\"}],\"id\":4},{\"name\":\"Term 5\",\"curriculum_items\":[{\"curriculum_requisites\":[{\"source_id\":20,\"target_id\":22,\"type\":\"CurriculumPrerequisite\"},{\"source_id\":14,\"target_id\":22,\"type\":\"CurriculumPrerequisite\"}],\"name\":\" \",\"metrics\":{\"centrality\":0,\"complexity\":5.0,\"blocking factor\":0,\"delay factor\":5.0},\"nameSub\":\"ECE 334\",\"id\":22,\"credits\":3,\"nameCanonical\":\"\"},{\"curriculum_requisites\":[{\"source_id\":18,\"target_id\":23,\"type\":\"CurriculumPrerequisite\"}],\"name\":\" \",\"metrics\":{\"centrality\":129,\"complexity\":18.0,\"blocking factor\":9,\"delay factor\":9.0},\"nameSub\":\"ECE 376\",\"id\":23,\"credits\":3,\"nameCanonical\":\"\"},{\"curriculum_requisites\":[{\"source_id\":23,\"target_id\":24,\"type\":\"CurriculumCorequisite\"},{\"source_id\":19,\"target_id\":24,\"type\":\"CurriculumPrerequisite\"}],\"name\":\" \",\"metrics\":{\"centrality\":0,\"complexity\":7.0,\"blocking factor\":0,\"delay factor\":7.0},\"nameSub\":\"ECE 377\",\"id\":24,\"credits\":1,\"nameCanonical\":\"\"},{\"curriculum_requisites\":[{\"source_id\":20,\"target_id\":25,\"type\":\"CurriculumPrerequisite\"}],\"name\":\" \",\"metrics\":{\"centrality\":20,\"complexity\":12.0,\"blocking factor\":5,\"delay factor\":7.0},\"nameSub\":\"ECE 380\",\"id\":25,\"credits\":3,\"nameCanonical\":\"\"},{\"curriculum_requisites\":[{\"source_id\":25,\"target_id\":26,\"type\":\"CurriculumCorequisite\"}],\"name\":\" \",\"metrics\":{\"centrality\":0,\"complexity\":6.0,\"blocking factor\":0,\"delay factor\":6.0},\"nameSub\":\"ECE 381\",\"id\":26,\"credits\":1,\"nameCanonical\":\"\"},{\"curriculum_requisites\":[{\"source_id\":11,\"target_id\":27,\"type\":\"CurriculumPrerequisite\"}],\"name\":\" \",\"metrics\":{\"centrality\":40,\"complexity\":12.0,\"blocking factor\":6,\"delay factor\":6.0},\"nameSub\":\"ECE 426\",\"id\":27,\"credits\":3,\"nameCanonical\":\"\"},{\"curriculum_requisites\":[{\"source_id\":27,\"target_id\":28,\"type\":\"CurriculumCorequisite\"},{\"source_id\":12,\"target_id\":28,\"type\":\"CurriculumPrerequisite\"}],\"name\":\" \",\"metrics\":{\"centrality\":44,\"complexity\":11.0,\"blocking factor\":5,\"delay factor\":6.0},\"nameSub\":\"ECE 427\",\"id\":28,\"credits\":1,\"nameCanonical\":\"\"}],\"id\":5},{\"name\":\"Term 6\",\"curriculum_items\":[{\"curriculum_requisites\":[{\"source_id\":20,\"target_id\":29,\"type\":\"CurriculumPrerequisite\"},{\"source_id\":14,\"target_id\":29,\"type\":\"CurriculumPrerequisite\"},{\"source_id\":23,\"target_id\":29,\"type\":\"CurriculumPrerequisite\"}],\"name\":\" \",\"metrics\":{\"centrality\":82,\"complexity\":12.0,\"blocking factor\":3,\"delay factor\":9.0},\"nameSub\":\"ECE 302\",\"id\":29,\"credits\":3,\"nameCanonical\":\"\"},{\"curriculum_requisites\":[{\"source_id\":29,\"target_id\":30,\"type\":\"CurriculumCorequisite\"}],\"name\":\" \",\"metrics\":{\"centrality\":0,\"complexity\":8.0,\"blocking factor\":0,\"delay factor\":8.0},\"nameSub\":\"ECE 303\",\"id\":30,\"credits\":1,\"nameCanonical\":\"\"},{\"curriculum_requisites\":[{\"source_id\":18,\"target_id\":31,\"type\":\"CurriculumPrerequisite\"}],\"name\":\" \",\"metrics\":{\"centrality\":53,\"complexity\":14.0,\"blocking factor\":4,\"delay factor\":10.0},\"nameSub\":\"ECE 330\",\"id\":31,\"credits\":3,\"nameCanonical\":\"\"},{\"curriculum_requisites\":[{\"source_id\":18,\"target_id\":32,\"type\":\"CurriculumPrerequisite\"},{\"source_id\":31,\"target_id\":32,\"type\":\"CurriculumCorequisite\"},{\"source_id\":19,\"target_id\":32,\"type\":\"CurriculumPrerequisite\"}],\"name\":\" \",\"metrics\":{\"centrality\":81,\"complexity\":13.0,\"blocking factor\":3,\"delay factor\":10.0},\"nameSub\":\"ECE 331\",\"id\":32,\"credits\":1,\"nameCanonical\":\"\"},{\"curriculum_requisites\":[{\"source_id\":34,\"target_id\":33,\"type\":\"CurriculumCorequisite\"},{\"source_id\":35,\"target_id\":33,\"type\":\"CurriculumCorequisite\"}],\"name\":\" \",\"metrics\":{\"centrality\":0,\"complexity\":6.0,\"blocking factor\":0,\"delay factor\":6.0},\"nameSub\":\"ECE 420\",\"id\":33,\"credits\":2,\"nameCanonical\":\"\"},{\"curriculum_requisites\":[{\"source_id\":27,\"target_id\":34,\"type\":\"CurriculumPrerequisite\"},{\"source_id\":28,\"target_id\":34,\"type\":\"CurriculumPrerequisite\"}],\"name\":\" \",\"metrics\":{\"centrality\":48,\"complexity\":10.0,\"blocking factor\":4,\"delay factor\":6.0},\"nameSub\":\"ECE 428R\",\"id\":34,\"credits\":3,\"nameCanonical\":\"\"},{\"curriculum_requisites\":[{\"source_id\":34,\"target_id\":35,\"type\":\"CurriculumCorequisite\"},{\"source_id\":27,\"target_id\":35,\"type\":\"CurriculumPrerequisite\"},{\"source_id\":28,\"target_id\":35,\"type\":\"CurriculumPrerequisite\"}],\"name\":\" \",\"metrics\":{\"centrality\":31,\"complexity\":7.0,\"blocking factor\":1,\"delay factor\":6.0},\"nameSub\":\"ECE 429\",\"id\":35,\"credits\":1,\"nameCanonical\":\"\"},{\"curriculum_requisites\":[{\"source_id\":23,\"target_id\":36,\"type\":\"CurriculumPrerequisite\"}],\"name\":\" \",\"metrics\":{\"centrality\":44,\"complexity\":10.0,\"blocking factor\":2,\"delay factor\":8.0},\"nameSub\":\"ECE 466\",\"id\":36,\"credits\":3,\"nameCanonical\":\"\"}],\"id\":6},{\"name\":\"Term 7\",\"curriculum_items\":[{\"curriculum_requisites\":[{\"source_id\":25,\"target_id\":37,\"type\":\"CurriculumPrerequisite\"}],\"name\":\" \",\"metrics\":{\"centrality\":7,\"complexity\":8.0,\"blocking factor\":1,\"delay factor\":7.0},\"nameSub\":\"ECE 358\",\"id\":37,\"credits\":3,\"nameCanonical\":\"\"},{\"curriculum_requisites\":[{\"source_id\":34,\"target_id\":38,\"type\":\"CurriculumPrerequisite\"},{\"source_id\":39,\"target_id\":38,\"type\":\"CurriculumCorequisite\"},{\"source_id\":29,\"target_id\":38,\"type\":\"CurriculumPrerequisite\"},{\"source_id\":25,\"target_id\":38,\"type\":\"CurriculumPrerequisite\"}],\"name\":\" \",\"metrics\":{\"centrality\":174,\"complexity\":11.0,\"blocking factor\":1,\"delay factor\":10.0},\"nameSub\":\"ECE 402\",\"id\":38,\"credits\":2,\"nameCanonical\":\"\"},{\"curriculum_requisites\":[{\"source_id\":32,\"target_id\":39,\"type\":\"CurriculumPrerequisite\"},{\"source_id\":31,\"target_id\":39,\"type\":\"CurriculumPrerequisite\"}],\"name\":\" \",\"metrics\":{\"centrality\":106,\"complexity\":12.0,\"blocking factor\":2,\"delay factor\":10.0},\"nameSub\":\"ECE 430\",\"id\":39,\"credits\":3,\"nameCanonical\":\"\"},{\"curriculum_requisites\":[{\"source_id\":23,\"target_id\":40,\"type\":\"CurriculumPrerequisite\"}],\"name\":\" \",\"metrics\":{\"centrality\":0,\"complexity\":7.0,\"blocking factor\":0,\"delay factor\":7.0},\"nameSub\":\"ECE 466\",\"id\":40,\"credits\":3,\"nameCanonical\":\"\"},{\"curriculum_requisites\":[],\"name\":\" \",\"metrics\":{\"centrality\":0,\"complexity\":1.0,\"blocking factor\":0,\"delay factor\":1.0},\"nameSub\":\"ANCH 308\",\"id\":41,\"credits\":3,\"nameCanonical\":\"\"},{\"curriculum_requisites\":[],\"name\":\" \",\"metrics\":{\"centrality\":0,\"complexity\":1.0,\"blocking factor\":0,\"delay factor\":1.0},\"nameSub\":\"DISC 300\",\"id\":42,\"credits\":3,\"nameCanonical\":\"\"}],\"id\":7},{\"name\":\"Term 8\",\"curriculum_items\":[{\"curriculum_requisites\":[],\"name\":\" \",\"metrics\":{\"centrality\":0,\"complexity\":1.0,\"blocking factor\":0,\"delay factor\":1.0},\"nameSub\":\"FOCUS A\",\"id\":43,\"credits\":3,\"nameCanonical\":\"\"},{\"curriculum_requisites\":[],\"name\":\" \",\"metrics\":{\"centrality\":0,\"complexity\":1.0,\"blocking factor\":0,\"delay factor\":1.0},\"nameSub\":\"FOCUS B\",\"id\":44,\"credits\":3,\"nameCanonical\":\"\"},{\"curriculum_requisites\":[{\"source_id\":38,\"target_id\":45,\"type\":\"CurriculumPrerequisite\"}],\"name\":\" \",\"metrics\":{\"centrality\":0,\"complexity\":10.0,\"blocking factor\":0,\"delay factor\":10.0},\"nameSub\":\"ECE 403\",\"id\":45,\"credits\":1,\"nameCanonical\":\"\"},{\"curriculum_requisites\":[{\"source_id\":36,\"target_id\":46,\"type\":\"CurriculumPrerequisite\"},{\"source_id\":37,\"target_id\":46,\"type\":\"CurriculumPrerequisite\"}],\"name\":\" \",\"metrics\":{\"centrality\":0,\"complexity\":8.0,\"blocking factor\":0,\"delay factor\":8.0},\"nameSub\":\"ECE 467\",\"id\":46,\"credits\":3,\"nameCanonical\":\"\"},{\"curriculum_requisites\":[{\"source_id\":36,\"target_id\":47,\"type\":\"CurriculumPrerequisite\"}],\"name\":\" \",\"metrics\":{\"centrality\":0,\"complexity\":8.0,\"blocking factor\":0,\"delay factor\":8.0},\"nameSub\":\"ECE 472\",\"id\":47,\"credits\":3,\"nameCanonical\":\"\"}],\"id\":8}],\"institution\":\"\"}},\"*\"); window.removeEventListener(\"message\",window.messageReceived); window.messageReceived=(function (event){return (event.data.curriculum!==undefined) ? (WebIO.setval({\"name\":\"curriculum-data\",\"scope\":\"6147914626071104594\",\"id\":\"16419708132536982699\",\"type\":\"observable\"},event.data.curriculum)) : undefined}); return window.addEventListener(\"message\",window.messageReceived)})"
          },
          "id": "curriculum",
          "src": "https://curricula-api-embed.damoursystems.com/",
          "style": {
           "border": "none",
           "height": "100vh",
           "margin": "0",
           "padding": "0",
           "width": "100%"
          }
         },
         "type": "node"
        }
       ],
       "instanceArgs": {
        "handlers": {},
        "id": "6147914626071104594",
        "imports": {
         "data": [],
         "type": "async_block"
        },
        "mount_callbacks": [],
        "observables": {
         "curriculum-data": {
          "id": "16419708132536982699",
          "sync": true,
          "value": {
           "curriculum": {
            "curriculum_terms": [
             {
              "curriculum_items": [
               {
                "credits": 3,
                "curriculum_requisites": [],
                "id": 1,
                "metrics": {
                 "blocking factor": 0,
                 "centrality": 0,
                 "complexity": 1,
                 "delay factor": 1
                },
                "name": " ",
                "nameCanonical": "",
                "nameSub": "ANCH 150"
               },
               {
                "credits": 5,
                "curriculum_requisites": [],
                "id": 2,
                "metrics": {
                 "blocking factor": 0,
                 "centrality": 0,
                 "complexity": 1,
                 "delay factor": 1
                },
                "name": " ",
                "nameCanonical": "",
                "nameSub": "CHEM 211"
               },
               {
                "credits": 3,
                "curriculum_requisites": [],
                "id": 3,
                "metrics": {
                 "blocking factor": 0,
                 "centrality": 0,
                 "complexity": 1,
                 "delay factor": 1
                },
                "name": " ",
                "nameCanonical": "",
                "nameSub": "DISC 100"
               },
               {
                "credits": 3,
                "curriculum_requisites": [],
                "id": 4,
                "metrics": {
                 "blocking factor": 0,
                 "centrality": 0,
                 "complexity": 1,
                 "delay factor": 1
                },
                "name": " ",
                "nameCanonical": "",
                "nameSub": "ECE 130"
               },
               {
                "credits": 4,
                "curriculum_requisites": [],
                "id": 5,
                "metrics": {
                 "blocking factor": 27,
                 "centrality": 0,
                 "complexity": 37,
                 "delay factor": 10
                },
                "name": " ",
                "nameCanonical": "",
                "nameSub": "MATH 210"
               }
              ],
              "id": 1,
              "name": "Term 1"
             },
             {
              "curriculum_items": [
               {
                "credits": 4,
                "curriculum_requisites": [
                 {
                  "source_id": 5,
                  "target_id": 6,
                  "type": "CurriculumPrerequisite"
                 }
                ],
                "id": 6,
                "metrics": {
                 "blocking factor": 24,
                 "centrality": 236,
                 "complexity": 34,
                 "delay factor": 10
                },
                "name": " ",
                "nameCanonical": "",
                "nameSub": "MATH 220"
               },
               {
                "credits": 5,
                "curriculum_requisites": [
                 {
                  "source_id": 5,
                  "target_id": 7,
                  "type": "CurriculumPrerequisite"
                 }
                ],
                "id": 7,
                "metrics": {
                 "blocking factor": 18,
                 "centrality": 99,
                 "complexity": 27,
                 "delay factor": 9
                },
                "name": " ",
                "nameCanonical": "",
                "nameSub": "PHYS 240"
               },
               {
                "credits": 3,
                "curriculum_requisites": [],
                "id": 8,
                "metrics": {
                 "blocking factor": 0,
                 "centrality": 0,
                 "complexity": 1,
                 "delay factor": 1
                },
                "name": " ",
                "nameCanonical": "",
                "nameSub": "ANCH 200"
               },
               {
                "credits": 3,
                "curriculum_requisites": [],
                "id": 9,
                "metrics": {
                 "blocking factor": 0,
                 "centrality": 0,
                 "complexity": 1,
                 "delay factor": 1
                },
                "name": " ",
                "nameCanonical": "",
                "nameSub": "DISC 200"
               }
              ],
              "id": 2,
              "name": "Term 2"
             },
             {
              "curriculum_items": [
               {
                "credits": 4,
                "curriculum_requisites": [
                 {
                  "source_id": 5,
                  "target_id": 10,
                  "type": "CurriculumPrerequisite"
                 }
                ],
                "id": 10,
                "metrics": {
                 "blocking factor": 1,
                 "centrality": 3,
                 "complexity": 4,
                 "delay factor": 3
                },
                "name": " ",
                "nameCanonical": "",
                "nameSub": "ECE 216"
               },
               {
                "credits": 3,
                "curriculum_requisites": [],
                "id": 11,
                "metrics": {
                 "blocking factor": 10,
                 "centrality": 0,
                 "complexity": 16,
                 "delay factor": 6
                },
                "name": " ",
                "nameCanonical": "",
                "nameSub": "ECE 226"
               },
               {
                "credits": 1,
                "curriculum_requisites": [
                 {
                  "source_id": 11,
                  "target_id": 12,
                  "type": "CurriculumCorequisite"
                 }
                ],
                "id": 12,
                "metrics": {
                 "blocking factor": 8,
                 "centrality": 29,
                 "complexity": 14,
                 "delay factor": 6
                },
                "name": " ",
                "nameCanonical": "",
                "nameSub": "ECE 227"
               },
               {
                "credits": 3,
                "curriculum_requisites": [
                 {
                  "source_id": 6,
                  "target_id": 13,
                  "type": "CurriculumPrerequisite"
                 }
                ],
                "id": 13,
                "metrics": {
                 "blocking factor": 21,
                 "centrality": 134,
                 "complexity": 31,
                 "delay factor": 10
                },
                "name": " ",
                "nameCanonical": "",
                "nameSub": "ECE 241"
               },
               {
                "credits": 5,
                "curriculum_requisites": [
                 {
                  "source_id": 6,
                  "target_id": 14,
                  "type": "CurriculumPrerequisite"
                 },
                 {
                  "source_id": 7,
                  "target_id": 14,
                  "type": "CurriculumPrerequisite"
                 }
                ],
                "id": 14,
                "metrics": {
                 "blocking factor": 16,
                 "centrality": 192,
                 "complexity": 25,
                 "delay factor": 9
                },
                "name": " ",
                "nameCanonical": "",
                "nameSub": "PHYS 250"
               }
              ],
              "id": 3,
              "name": "Term 3"
             },
             {
              "curriculum_items": [
               {
                "credits": 3,
                "curriculum_requisites": [
                 {
                  "source_id": 11,
                  "target_id": 15,
                  "type": "CurriculumPrerequisite"
                 },
                 {
                  "source_id": 12,
                  "target_id": 15,
                  "type": "CurriculumPrerequisite"
                 }
                ],
                "id": 15,
                "metrics": {
                 "blocking factor": 1,
                 "centrality": 7,
                 "complexity": 5,
                 "delay factor": 4
                },
                "name": " ",
                "nameCanonical": "",
                "nameSub": "ECE 228"
               },
               {
                "credits": 1,
                "curriculum_requisites": [
                 {
                  "source_id": 15,
                  "target_id": 16,
                  "type": "CurriculumCorequisite"
                 },
                 {
                  "source_id": 11,
                  "target_id": 16,
                  "type": "CurriculumPrerequisite"
                 },
                 {
                  "source_id": 12,
                  "target_id": 16,
                  "type": "CurriculumPrerequisite"
                 }
                ],
                "id": 16,
                "metrics": {
                 "blocking factor": 0,
                 "centrality": 0,
                 "complexity": 4,
                 "delay factor": 4
                },
                "name": " ",
                "nameCanonical": "",
                "nameSub": "ECE 229"
               },
               {
                "credits": 3,
                "curriculum_requisites": [
                 {
                  "source_id": 6,
                  "target_id": 17,
                  "type": "CurriculumPrerequisite"
                 },
                 {
                  "source_id": 7,
                  "target_id": 17,
                  "type": "CurriculumPrerequisite"
                 }
                ],
                "id": 17,
                "metrics": {
                 "blocking factor": 0,
                 "centrality": 0,
                 "complexity": 3,
                 "delay factor": 3
                },
                "name": " ",
                "nameCanonical": "",
                "nameSub": "ECE 250"
               },
               {
                "credits": 3,
                "curriculum_requisites": [
                 {
                  "source_id": 20,
                  "target_id": 18,
                  "type": "CurriculumCorequisite"
                 },
                 {
                  "source_id": 14,
                  "target_id": 18,
                  "type": "CurriculumPrerequisite"
                 }
                ],
                "id": 18,
                "metrics": {
                 "blocking factor": 14,
                 "centrality": 254,
                 "complexity": 24,
                 "delay factor": 10
                },
                "name": " ",
                "nameCanonical": "",
                "nameSub": "ECE 276"
               },
               {
                "credits": 1,
                "curriculum_requisites": [
                 {
                  "source_id": 18,
                  "target_id": 19,
                  "type": "CurriculumCorequisite"
                 }
                ],
                "id": 19,
                "metrics": {
                 "blocking factor": 5,
                 "centrality": 47,
                 "complexity": 15,
                 "delay factor": 10
                },
                "name": " ",
                "nameCanonical": "",
                "nameSub": "ECE 277"
               },
               {
                "credits": 3,
                "curriculum_requisites": [
                 {
                  "source_id": 13,
                  "target_id": 20,
                  "type": "CurriculumPrerequisite"
                 }
                ],
                "id": 20,
                "metrics": {
                 "blocking factor": 19,
                 "centrality": 130,
                 "complexity": 29,
                 "delay factor": 10
                },
                "name": " ",
                "nameCanonical": "",
                "nameSub": "ECE 341R"
               },
               {
                "credits": 3,
                "curriculum_requisites": [
                 {
                  "source_id": 13,
                  "target_id": 21,
                  "type": "CurriculumPrerequisite"
                 },
                 {
                  "source_id": 6,
                  "target_id": 21,
                  "type": "CurriculumPrerequisite"
                 },
                 {
                  "source_id": 10,
                  "target_id": 21,
                  "type": "CurriculumPrerequisite"
                 }
                ],
                "id": 21,
                "metrics": {
                 "blocking factor": 0,
                 "centrality": 0,
                 "complexity": 4,
                 "delay factor": 4
                },
                "name": " ",
                "nameCanonical": "",
                "nameSub": "CS 394R"
               }
              ],
              "id": 4,
              "name": "Term 4"
             },
             {
              "curriculum_items": [
               {
                "credits": 3,
                "curriculum_requisites": [
                 {
                  "source_id": 20,
                  "target_id": 22,
                  "type": "CurriculumPrerequisite"
                 },
                 {
                  "source_id": 14,
                  "target_id": 22,
                  "type": "CurriculumPrerequisite"
                 }
                ],
                "id": 22,
                "metrics": {
                 "blocking factor": 0,
                 "centrality": 0,
                 "complexity": 5,
                 "delay factor": 5
                },
                "name": " ",
                "nameCanonical": "",
                "nameSub": "ECE 334"
               },
               {
                "credits": 3,
                "curriculum_requisites": [
                 {
                  "source_id": 18,
                  "target_id": 23,
                  "type": "CurriculumPrerequisite"
                 }
                ],
                "id": 23,
                "metrics": {
                 "blocking factor": 9,
                 "centrality": 129,
                 "complexity": 18,
                 "delay factor": 9
                },
                "name": " ",
                "nameCanonical": "",
                "nameSub": "ECE 376"
               },
               {
                "credits": 1,
                "curriculum_requisites": [
                 {
                  "source_id": 23,
                  "target_id": 24,
                  "type": "CurriculumCorequisite"
                 },
                 {
                  "source_id": 19,
                  "target_id": 24,
                  "type": "CurriculumPrerequisite"
                 }
                ],
                "id": 24,
                "metrics": {
                 "blocking factor": 0,
                 "centrality": 0,
                 "complexity": 7,
                 "delay factor": 7
                },
                "name": " ",
                "nameCanonical": "",
                "nameSub": "ECE 377"
               },
               {
                "credits": 3,
                "curriculum_requisites": [
                 {
                  "source_id": 20,
                  "target_id": 25,
                  "type": "CurriculumPrerequisite"
                 }
                ],
                "id": 25,
                "metrics": {
                 "blocking factor": 5,
                 "centrality": 20,
                 "complexity": 12,
                 "delay factor": 7
                },
                "name": " ",
                "nameCanonical": "",
                "nameSub": "ECE 380"
               },
               {
                "credits": 1,
                "curriculum_requisites": [
                 {
                  "source_id": 25,
                  "target_id": 26,
                  "type": "CurriculumCorequisite"
                 }
                ],
                "id": 26,
                "metrics": {
                 "blocking factor": 0,
                 "centrality": 0,
                 "complexity": 6,
                 "delay factor": 6
                },
                "name": " ",
                "nameCanonical": "",
                "nameSub": "ECE 381"
               },
               {
                "credits": 3,
                "curriculum_requisites": [
                 {
                  "source_id": 11,
                  "target_id": 27,
                  "type": "CurriculumPrerequisite"
                 }
                ],
                "id": 27,
                "metrics": {
                 "blocking factor": 6,
                 "centrality": 40,
                 "complexity": 12,
                 "delay factor": 6
                },
                "name": " ",
                "nameCanonical": "",
                "nameSub": "ECE 426"
               },
               {
                "credits": 1,
                "curriculum_requisites": [
                 {
                  "source_id": 27,
                  "target_id": 28,
                  "type": "CurriculumCorequisite"
                 },
                 {
                  "source_id": 12,
                  "target_id": 28,
                  "type": "CurriculumPrerequisite"
                 }
                ],
                "id": 28,
                "metrics": {
                 "blocking factor": 5,
                 "centrality": 44,
                 "complexity": 11,
                 "delay factor": 6
                },
                "name": " ",
                "nameCanonical": "",
                "nameSub": "ECE 427"
               }
              ],
              "id": 5,
              "name": "Term 5"
             },
             {
              "curriculum_items": [
               {
                "credits": 3,
                "curriculum_requisites": [
                 {
                  "source_id": 20,
                  "target_id": 29,
                  "type": "CurriculumPrerequisite"
                 },
                 {
                  "source_id": 14,
                  "target_id": 29,
                  "type": "CurriculumPrerequisite"
                 },
                 {
                  "source_id": 23,
                  "target_id": 29,
                  "type": "CurriculumPrerequisite"
                 }
                ],
                "id": 29,
                "metrics": {
                 "blocking factor": 3,
                 "centrality": 82,
                 "complexity": 12,
                 "delay factor": 9
                },
                "name": " ",
                "nameCanonical": "",
                "nameSub": "ECE 302"
               },
               {
                "credits": 1,
                "curriculum_requisites": [
                 {
                  "source_id": 29,
                  "target_id": 30,
                  "type": "CurriculumCorequisite"
                 }
                ],
                "id": 30,
                "metrics": {
                 "blocking factor": 0,
                 "centrality": 0,
                 "complexity": 8,
                 "delay factor": 8
                },
                "name": " ",
                "nameCanonical": "",
                "nameSub": "ECE 303"
               },
               {
                "credits": 3,
                "curriculum_requisites": [
                 {
                  "source_id": 18,
                  "target_id": 31,
                  "type": "CurriculumPrerequisite"
                 }
                ],
                "id": 31,
                "metrics": {
                 "blocking factor": 4,
                 "centrality": 53,
                 "complexity": 14,
                 "delay factor": 10
                },
                "name": " ",
                "nameCanonical": "",
                "nameSub": "ECE 330"
               },
               {
                "credits": 1,
                "curriculum_requisites": [
                 {
                  "source_id": 18,
                  "target_id": 32,
                  "type": "CurriculumPrerequisite"
                 },
                 {
                  "source_id": 31,
                  "target_id": 32,
                  "type": "CurriculumCorequisite"
                 },
                 {
                  "source_id": 19,
                  "target_id": 32,
                  "type": "CurriculumPrerequisite"
                 }
                ],
                "id": 32,
                "metrics": {
                 "blocking factor": 3,
                 "centrality": 81,
                 "complexity": 13,
                 "delay factor": 10
                },
                "name": " ",
                "nameCanonical": "",
                "nameSub": "ECE 331"
               },
               {
                "credits": 2,
                "curriculum_requisites": [
                 {
                  "source_id": 34,
                  "target_id": 33,
                  "type": "CurriculumCorequisite"
                 },
                 {
                  "source_id": 35,
                  "target_id": 33,
                  "type": "CurriculumCorequisite"
                 }
                ],
                "id": 33,
                "metrics": {
                 "blocking factor": 0,
                 "centrality": 0,
                 "complexity": 6,
                 "delay factor": 6
                },
                "name": " ",
                "nameCanonical": "",
                "nameSub": "ECE 420"
               },
               {
                "credits": 3,
                "curriculum_requisites": [
                 {
                  "source_id": 27,
                  "target_id": 34,
                  "type": "CurriculumPrerequisite"
                 },
                 {
                  "source_id": 28,
                  "target_id": 34,
                  "type": "CurriculumPrerequisite"
                 }
                ],
                "id": 34,
                "metrics": {
                 "blocking factor": 4,
                 "centrality": 48,
                 "complexity": 10,
                 "delay factor": 6
                },
                "name": " ",
                "nameCanonical": "",
                "nameSub": "ECE 428R"
               },
               {
                "credits": 1,
                "curriculum_requisites": [
                 {
                  "source_id": 34,
                  "target_id": 35,
                  "type": "CurriculumCorequisite"
                 },
                 {
                  "source_id": 27,
                  "target_id": 35,
                  "type": "CurriculumPrerequisite"
                 },
                 {
                  "source_id": 28,
                  "target_id": 35,
                  "type": "CurriculumPrerequisite"
                 }
                ],
                "id": 35,
                "metrics": {
                 "blocking factor": 1,
                 "centrality": 31,
                 "complexity": 7,
                 "delay factor": 6
                },
                "name": " ",
                "nameCanonical": "",
                "nameSub": "ECE 429"
               },
               {
                "credits": 3,
                "curriculum_requisites": [
                 {
                  "source_id": 23,
                  "target_id": 36,
                  "type": "CurriculumPrerequisite"
                 }
                ],
                "id": 36,
                "metrics": {
                 "blocking factor": 2,
                 "centrality": 44,
                 "complexity": 10,
                 "delay factor": 8
                },
                "name": " ",
                "nameCanonical": "",
                "nameSub": "ECE 466"
               }
              ],
              "id": 6,
              "name": "Term 6"
             },
             {
              "curriculum_items": [
               {
                "credits": 3,
                "curriculum_requisites": [
                 {
                  "source_id": 25,
                  "target_id": 37,
                  "type": "CurriculumPrerequisite"
                 }
                ],
                "id": 37,
                "metrics": {
                 "blocking factor": 1,
                 "centrality": 7,
                 "complexity": 8,
                 "delay factor": 7
                },
                "name": " ",
                "nameCanonical": "",
                "nameSub": "ECE 358"
               },
               {
                "credits": 2,
                "curriculum_requisites": [
                 {
                  "source_id": 34,
                  "target_id": 38,
                  "type": "CurriculumPrerequisite"
                 },
                 {
                  "source_id": 39,
                  "target_id": 38,
                  "type": "CurriculumCorequisite"
                 },
                 {
                  "source_id": 29,
                  "target_id": 38,
                  "type": "CurriculumPrerequisite"
                 },
                 {
                  "source_id": 25,
                  "target_id": 38,
                  "type": "CurriculumPrerequisite"
                 }
                ],
                "id": 38,
                "metrics": {
                 "blocking factor": 1,
                 "centrality": 174,
                 "complexity": 11,
                 "delay factor": 10
                },
                "name": " ",
                "nameCanonical": "",
                "nameSub": "ECE 402"
               },
               {
                "credits": 3,
                "curriculum_requisites": [
                 {
                  "source_id": 32,
                  "target_id": 39,
                  "type": "CurriculumPrerequisite"
                 },
                 {
                  "source_id": 31,
                  "target_id": 39,
                  "type": "CurriculumPrerequisite"
                 }
                ],
                "id": 39,
                "metrics": {
                 "blocking factor": 2,
                 "centrality": 106,
                 "complexity": 12,
                 "delay factor": 10
                },
                "name": " ",
                "nameCanonical": "",
                "nameSub": "ECE 430"
               },
               {
                "credits": 3,
                "curriculum_requisites": [
                 {
                  "source_id": 23,
                  "target_id": 40,
                  "type": "CurriculumPrerequisite"
                 }
                ],
                "id": 40,
                "metrics": {
                 "blocking factor": 0,
                 "centrality": 0,
                 "complexity": 7,
                 "delay factor": 7
                },
                "name": " ",
                "nameCanonical": "",
                "nameSub": "ECE 466"
               },
               {
                "credits": 3,
                "curriculum_requisites": [],
                "id": 41,
                "metrics": {
                 "blocking factor": 0,
                 "centrality": 0,
                 "complexity": 1,
                 "delay factor": 1
                },
                "name": " ",
                "nameCanonical": "",
                "nameSub": "ANCH 308"
               },
               {
                "credits": 3,
                "curriculum_requisites": [],
                "id": 42,
                "metrics": {
                 "blocking factor": 0,
                 "centrality": 0,
                 "complexity": 1,
                 "delay factor": 1
                },
                "name": " ",
                "nameCanonical": "",
                "nameSub": "DISC 300"
               }
              ],
              "id": 7,
              "name": "Term 7"
             },
             {
              "curriculum_items": [
               {
                "credits": 3,
                "curriculum_requisites": [],
                "id": 43,
                "metrics": {
                 "blocking factor": 0,
                 "centrality": 0,
                 "complexity": 1,
                 "delay factor": 1
                },
                "name": " ",
                "nameCanonical": "",
                "nameSub": "FOCUS A"
               },
               {
                "credits": 3,
                "curriculum_requisites": [],
                "id": 44,
                "metrics": {
                 "blocking factor": 0,
                 "centrality": 0,
                 "complexity": 1,
                 "delay factor": 1
                },
                "name": " ",
                "nameCanonical": "",
                "nameSub": "FOCUS B"
               },
               {
                "credits": 1,
                "curriculum_requisites": [
                 {
                  "source_id": 38,
                  "target_id": 45,
                  "type": "CurriculumPrerequisite"
                 }
                ],
                "id": 45,
                "metrics": {
                 "blocking factor": 0,
                 "centrality": 0,
                 "complexity": 10,
                 "delay factor": 10
                },
                "name": " ",
                "nameCanonical": "",
                "nameSub": "ECE 403"
               },
               {
                "credits": 3,
                "curriculum_requisites": [
                 {
                  "source_id": 36,
                  "target_id": 46,
                  "type": "CurriculumPrerequisite"
                 },
                 {
                  "source_id": 37,
                  "target_id": 46,
                  "type": "CurriculumPrerequisite"
                 }
                ],
                "id": 46,
                "metrics": {
                 "blocking factor": 0,
                 "centrality": 0,
                 "complexity": 8,
                 "delay factor": 8
                },
                "name": " ",
                "nameCanonical": "",
                "nameSub": "ECE 467"
               },
               {
                "credits": 3,
                "curriculum_requisites": [
                 {
                  "source_id": 36,
                  "target_id": 47,
                  "type": "CurriculumPrerequisite"
                 }
                ],
                "id": 47,
                "metrics": {
                 "blocking factor": 0,
                 "centrality": 0,
                 "complexity": 8,
                 "delay factor": 8
                },
                "name": " ",
                "nameCanonical": "",
                "nameSub": "ECE 472"
               }
              ],
              "id": 8,
              "name": "Term 8"
             }
            ],
            "dp_name": "University of Missouri--Kansas City.csv",
            "institution": "",
            "name": "Curriculum"
           },
           "options": {
            "edit": false,
            "hideTerms": false
           }
          }
         }
        },
        "systemjs_options": null
       },
       "nodeType": "Scope",
       "props": {},
       "type": "node"
      },
      "text/html": [
       "<div\n",
       "    class=\"webio-mountpoint\"\n",
       "    data-webio-mountpoint=\"13977120114142529405\"\n",
       ">\n",
       "    <script>\n",
       "    if (window.require && require.defined && require.defined(\"nbextensions/webio-jupyter-notebook\")) {\n",
       "        console.log(\"Jupyter WebIO extension detected, not mounting.\");\n",
       "    } else if (window.WebIO) {\n",
       "        WebIO.mount(\n",
       "            document.querySelector('[data-webio-mountpoint=\"13977120114142529405\"]'),\n",
       "            {\"props\":{},\"nodeType\":\"Scope\",\"type\":\"node\",\"instanceArgs\":{\"imports\":{\"data\":[],\"type\":\"async_block\"},\"id\":\"6147914626071104594\",\"handlers\":{},\"systemjs_options\":null,\"mount_callbacks\":[],\"observables\":{\"curriculum-data\":{\"sync\":true,\"id\":\"16419708132536982699\",\"value\":{\"options\":{\"hideTerms\":false,\"edit\":false},\"curriculum\":{\"name\":\"Curriculum\",\"dp_name\":\"University of Missouri--Kansas City.csv\",\"curriculum_terms\":[{\"name\":\"Term 1\",\"curriculum_items\":[{\"curriculum_requisites\":[],\"name\":\" \",\"metrics\":{\"centrality\":0,\"complexity\":1.0,\"blocking factor\":0,\"delay factor\":1.0},\"nameSub\":\"ANCH 150\",\"id\":1,\"credits\":3,\"nameCanonical\":\"\"},{\"curriculum_requisites\":[],\"name\":\" \",\"metrics\":{\"centrality\":0,\"complexity\":1.0,\"blocking factor\":0,\"delay factor\":1.0},\"nameSub\":\"CHEM 211\",\"id\":2,\"credits\":5,\"nameCanonical\":\"\"},{\"curriculum_requisites\":[],\"name\":\" \",\"metrics\":{\"centrality\":0,\"complexity\":1.0,\"blocking factor\":0,\"delay factor\":1.0},\"nameSub\":\"DISC 100\",\"id\":3,\"credits\":3,\"nameCanonical\":\"\"},{\"curriculum_requisites\":[],\"name\":\" \",\"metrics\":{\"centrality\":0,\"complexity\":1.0,\"blocking factor\":0,\"delay factor\":1.0},\"nameSub\":\"ECE 130\",\"id\":4,\"credits\":3,\"nameCanonical\":\"\"},{\"curriculum_requisites\":[],\"name\":\" \",\"metrics\":{\"centrality\":0,\"complexity\":37.0,\"blocking factor\":27,\"delay factor\":10.0},\"nameSub\":\"MATH 210\",\"id\":5,\"credits\":4,\"nameCanonical\":\"\"}],\"id\":1},{\"name\":\"Term 2\",\"curriculum_items\":[{\"curriculum_requisites\":[{\"source_id\":5,\"target_id\":6,\"type\":\"CurriculumPrerequisite\"}],\"name\":\" \",\"metrics\":{\"centrality\":236,\"complexity\":34.0,\"blocking factor\":24,\"delay factor\":10.0},\"nameSub\":\"MATH 220\",\"id\":6,\"credits\":4,\"nameCanonical\":\"\"},{\"curriculum_requisites\":[{\"source_id\":5,\"target_id\":7,\"type\":\"CurriculumPrerequisite\"}],\"name\":\" \",\"metrics\":{\"centrality\":99,\"complexity\":27.0,\"blocking factor\":18,\"delay factor\":9.0},\"nameSub\":\"PHYS 240\",\"id\":7,\"credits\":5,\"nameCanonical\":\"\"},{\"curriculum_requisites\":[],\"name\":\" \",\"metrics\":{\"centrality\":0,\"complexity\":1.0,\"blocking factor\":0,\"delay factor\":1.0},\"nameSub\":\"ANCH 200\",\"id\":8,\"credits\":3,\"nameCanonical\":\"\"},{\"curriculum_requisites\":[],\"name\":\" \",\"metrics\":{\"centrality\":0,\"complexity\":1.0,\"blocking factor\":0,\"delay factor\":1.0},\"nameSub\":\"DISC 200\",\"id\":9,\"credits\":3,\"nameCanonical\":\"\"}],\"id\":2},{\"name\":\"Term 3\",\"curriculum_items\":[{\"curriculum_requisites\":[{\"source_id\":5,\"target_id\":10,\"type\":\"CurriculumPrerequisite\"}],\"name\":\" \",\"metrics\":{\"centrality\":3,\"complexity\":4.0,\"blocking factor\":1,\"delay factor\":3.0},\"nameSub\":\"ECE 216\",\"id\":10,\"credits\":4,\"nameCanonical\":\"\"},{\"curriculum_requisites\":[],\"name\":\" \",\"metrics\":{\"centrality\":0,\"complexity\":16.0,\"blocking factor\":10,\"delay factor\":6.0},\"nameSub\":\"ECE 226\",\"id\":11,\"credits\":3,\"nameCanonical\":\"\"},{\"curriculum_requisites\":[{\"source_id\":11,\"target_id\":12,\"type\":\"CurriculumCorequisite\"}],\"name\":\" \",\"metrics\":{\"centrality\":29,\"complexity\":14.0,\"blocking factor\":8,\"delay factor\":6.0},\"nameSub\":\"ECE 227\",\"id\":12,\"credits\":1,\"nameCanonical\":\"\"},{\"curriculum_requisites\":[{\"source_id\":6,\"target_id\":13,\"type\":\"CurriculumPrerequisite\"}],\"name\":\" \",\"metrics\":{\"centrality\":134,\"complexity\":31.0,\"blocking factor\":21,\"delay factor\":10.0},\"nameSub\":\"ECE 241\",\"id\":13,\"credits\":3,\"nameCanonical\":\"\"},{\"curriculum_requisites\":[{\"source_id\":6,\"target_id\":14,\"type\":\"CurriculumPrerequisite\"},{\"source_id\":7,\"target_id\":14,\"type\":\"CurriculumPrerequisite\"}],\"name\":\" \",\"metrics\":{\"centrality\":192,\"complexity\":25.0,\"blocking factor\":16,\"delay factor\":9.0},\"nameSub\":\"PHYS 250\",\"id\":14,\"credits\":5,\"nameCanonical\":\"\"}],\"id\":3},{\"name\":\"Term 4\",\"curriculum_items\":[{\"curriculum_requisites\":[{\"source_id\":11,\"target_id\":15,\"type\":\"CurriculumPrerequisite\"},{\"source_id\":12,\"target_id\":15,\"type\":\"CurriculumPrerequisite\"}],\"name\":\" \",\"metrics\":{\"centrality\":7,\"complexity\":5.0,\"blocking factor\":1,\"delay factor\":4.0},\"nameSub\":\"ECE 228\",\"id\":15,\"credits\":3,\"nameCanonical\":\"\"},{\"curriculum_requisites\":[{\"source_id\":15,\"target_id\":16,\"type\":\"CurriculumCorequisite\"},{\"source_id\":11,\"target_id\":16,\"type\":\"CurriculumPrerequisite\"},{\"source_id\":12,\"target_id\":16,\"type\":\"CurriculumPrerequisite\"}],\"name\":\" \",\"metrics\":{\"centrality\":0,\"complexity\":4.0,\"blocking factor\":0,\"delay factor\":4.0},\"nameSub\":\"ECE 229\",\"id\":16,\"credits\":1,\"nameCanonical\":\"\"},{\"curriculum_requisites\":[{\"source_id\":6,\"target_id\":17,\"type\":\"CurriculumPrerequisite\"},{\"source_id\":7,\"target_id\":17,\"type\":\"CurriculumPrerequisite\"}],\"name\":\" \",\"metrics\":{\"centrality\":0,\"complexity\":3.0,\"blocking factor\":0,\"delay factor\":3.0},\"nameSub\":\"ECE 250\",\"id\":17,\"credits\":3,\"nameCanonical\":\"\"},{\"curriculum_requisites\":[{\"source_id\":20,\"target_id\":18,\"type\":\"CurriculumCorequisite\"},{\"source_id\":14,\"target_id\":18,\"type\":\"CurriculumPrerequisite\"}],\"name\":\" \",\"metrics\":{\"centrality\":254,\"complexity\":24.0,\"blocking factor\":14,\"delay factor\":10.0},\"nameSub\":\"ECE 276\",\"id\":18,\"credits\":3,\"nameCanonical\":\"\"},{\"curriculum_requisites\":[{\"source_id\":18,\"target_id\":19,\"type\":\"CurriculumCorequisite\"}],\"name\":\" \",\"metrics\":{\"centrality\":47,\"complexity\":15.0,\"blocking factor\":5,\"delay factor\":10.0},\"nameSub\":\"ECE 277\",\"id\":19,\"credits\":1,\"nameCanonical\":\"\"},{\"curriculum_requisites\":[{\"source_id\":13,\"target_id\":20,\"type\":\"CurriculumPrerequisite\"}],\"name\":\" \",\"metrics\":{\"centrality\":130,\"complexity\":29.0,\"blocking factor\":19,\"delay factor\":10.0},\"nameSub\":\"ECE 341R\",\"id\":20,\"credits\":3,\"nameCanonical\":\"\"},{\"curriculum_requisites\":[{\"source_id\":13,\"target_id\":21,\"type\":\"CurriculumPrerequisite\"},{\"source_id\":6,\"target_id\":21,\"type\":\"CurriculumPrerequisite\"},{\"source_id\":10,\"target_id\":21,\"type\":\"CurriculumPrerequisite\"}],\"name\":\" \",\"metrics\":{\"centrality\":0,\"complexity\":4.0,\"blocking factor\":0,\"delay factor\":4.0},\"nameSub\":\"CS 394R\",\"id\":21,\"credits\":3,\"nameCanonical\":\"\"}],\"id\":4},{\"name\":\"Term 5\",\"curriculum_items\":[{\"curriculum_requisites\":[{\"source_id\":20,\"target_id\":22,\"type\":\"CurriculumPrerequisite\"},{\"source_id\":14,\"target_id\":22,\"type\":\"CurriculumPrerequisite\"}],\"name\":\" \",\"metrics\":{\"centrality\":0,\"complexity\":5.0,\"blocking factor\":0,\"delay factor\":5.0},\"nameSub\":\"ECE 334\",\"id\":22,\"credits\":3,\"nameCanonical\":\"\"},{\"curriculum_requisites\":[{\"source_id\":18,\"target_id\":23,\"type\":\"CurriculumPrerequisite\"}],\"name\":\" \",\"metrics\":{\"centrality\":129,\"complexity\":18.0,\"blocking factor\":9,\"delay factor\":9.0},\"nameSub\":\"ECE 376\",\"id\":23,\"credits\":3,\"nameCanonical\":\"\"},{\"curriculum_requisites\":[{\"source_id\":23,\"target_id\":24,\"type\":\"CurriculumCorequisite\"},{\"source_id\":19,\"target_id\":24,\"type\":\"CurriculumPrerequisite\"}],\"name\":\" \",\"metrics\":{\"centrality\":0,\"complexity\":7.0,\"blocking factor\":0,\"delay factor\":7.0},\"nameSub\":\"ECE 377\",\"id\":24,\"credits\":1,\"nameCanonical\":\"\"},{\"curriculum_requisites\":[{\"source_id\":20,\"target_id\":25,\"type\":\"CurriculumPrerequisite\"}],\"name\":\" \",\"metrics\":{\"centrality\":20,\"complexity\":12.0,\"blocking factor\":5,\"delay factor\":7.0},\"nameSub\":\"ECE 380\",\"id\":25,\"credits\":3,\"nameCanonical\":\"\"},{\"curriculum_requisites\":[{\"source_id\":25,\"target_id\":26,\"type\":\"CurriculumCorequisite\"}],\"name\":\" \",\"metrics\":{\"centrality\":0,\"complexity\":6.0,\"blocking factor\":0,\"delay factor\":6.0},\"nameSub\":\"ECE 381\",\"id\":26,\"credits\":1,\"nameCanonical\":\"\"},{\"curriculum_requisites\":[{\"source_id\":11,\"target_id\":27,\"type\":\"CurriculumPrerequisite\"}],\"name\":\" \",\"metrics\":{\"centrality\":40,\"complexity\":12.0,\"blocking factor\":6,\"delay factor\":6.0},\"nameSub\":\"ECE 426\",\"id\":27,\"credits\":3,\"nameCanonical\":\"\"},{\"curriculum_requisites\":[{\"source_id\":27,\"target_id\":28,\"type\":\"CurriculumCorequisite\"},{\"source_id\":12,\"target_id\":28,\"type\":\"CurriculumPrerequisite\"}],\"name\":\" \",\"metrics\":{\"centrality\":44,\"complexity\":11.0,\"blocking factor\":5,\"delay factor\":6.0},\"nameSub\":\"ECE 427\",\"id\":28,\"credits\":1,\"nameCanonical\":\"\"}],\"id\":5},{\"name\":\"Term 6\",\"curriculum_items\":[{\"curriculum_requisites\":[{\"source_id\":20,\"target_id\":29,\"type\":\"CurriculumPrerequisite\"},{\"source_id\":14,\"target_id\":29,\"type\":\"CurriculumPrerequisite\"},{\"source_id\":23,\"target_id\":29,\"type\":\"CurriculumPrerequisite\"}],\"name\":\" \",\"metrics\":{\"centrality\":82,\"complexity\":12.0,\"blocking factor\":3,\"delay factor\":9.0},\"nameSub\":\"ECE 302\",\"id\":29,\"credits\":3,\"nameCanonical\":\"\"},{\"curriculum_requisites\":[{\"source_id\":29,\"target_id\":30,\"type\":\"CurriculumCorequisite\"}],\"name\":\" \",\"metrics\":{\"centrality\":0,\"complexity\":8.0,\"blocking factor\":0,\"delay factor\":8.0},\"nameSub\":\"ECE 303\",\"id\":30,\"credits\":1,\"nameCanonical\":\"\"},{\"curriculum_requisites\":[{\"source_id\":18,\"target_id\":31,\"type\":\"CurriculumPrerequisite\"}],\"name\":\" \",\"metrics\":{\"centrality\":53,\"complexity\":14.0,\"blocking factor\":4,\"delay factor\":10.0},\"nameSub\":\"ECE 330\",\"id\":31,\"credits\":3,\"nameCanonical\":\"\"},{\"curriculum_requisites\":[{\"source_id\":18,\"target_id\":32,\"type\":\"CurriculumPrerequisite\"},{\"source_id\":31,\"target_id\":32,\"type\":\"CurriculumCorequisite\"},{\"source_id\":19,\"target_id\":32,\"type\":\"CurriculumPrerequisite\"}],\"name\":\" \",\"metrics\":{\"centrality\":81,\"complexity\":13.0,\"blocking factor\":3,\"delay factor\":10.0},\"nameSub\":\"ECE 331\",\"id\":32,\"credits\":1,\"nameCanonical\":\"\"},{\"curriculum_requisites\":[{\"source_id\":34,\"target_id\":33,\"type\":\"CurriculumCorequisite\"},{\"source_id\":35,\"target_id\":33,\"type\":\"CurriculumCorequisite\"}],\"name\":\" \",\"metrics\":{\"centrality\":0,\"complexity\":6.0,\"blocking factor\":0,\"delay factor\":6.0},\"nameSub\":\"ECE 420\",\"id\":33,\"credits\":2,\"nameCanonical\":\"\"},{\"curriculum_requisites\":[{\"source_id\":27,\"target_id\":34,\"type\":\"CurriculumPrerequisite\"},{\"source_id\":28,\"target_id\":34,\"type\":\"CurriculumPrerequisite\"}],\"name\":\" \",\"metrics\":{\"centrality\":48,\"complexity\":10.0,\"blocking factor\":4,\"delay factor\":6.0},\"nameSub\":\"ECE 428R\",\"id\":34,\"credits\":3,\"nameCanonical\":\"\"},{\"curriculum_requisites\":[{\"source_id\":34,\"target_id\":35,\"type\":\"CurriculumCorequisite\"},{\"source_id\":27,\"target_id\":35,\"type\":\"CurriculumPrerequisite\"},{\"source_id\":28,\"target_id\":35,\"type\":\"CurriculumPrerequisite\"}],\"name\":\" \",\"metrics\":{\"centrality\":31,\"complexity\":7.0,\"blocking factor\":1,\"delay factor\":6.0},\"nameSub\":\"ECE 429\",\"id\":35,\"credits\":1,\"nameCanonical\":\"\"},{\"curriculum_requisites\":[{\"source_id\":23,\"target_id\":36,\"type\":\"CurriculumPrerequisite\"}],\"name\":\" \",\"metrics\":{\"centrality\":44,\"complexity\":10.0,\"blocking factor\":2,\"delay factor\":8.0},\"nameSub\":\"ECE 466\",\"id\":36,\"credits\":3,\"nameCanonical\":\"\"}],\"id\":6},{\"name\":\"Term 7\",\"curriculum_items\":[{\"curriculum_requisites\":[{\"source_id\":25,\"target_id\":37,\"type\":\"CurriculumPrerequisite\"}],\"name\":\" \",\"metrics\":{\"centrality\":7,\"complexity\":8.0,\"blocking factor\":1,\"delay factor\":7.0},\"nameSub\":\"ECE 358\",\"id\":37,\"credits\":3,\"nameCanonical\":\"\"},{\"curriculum_requisites\":[{\"source_id\":34,\"target_id\":38,\"type\":\"CurriculumPrerequisite\"},{\"source_id\":39,\"target_id\":38,\"type\":\"CurriculumCorequisite\"},{\"source_id\":29,\"target_id\":38,\"type\":\"CurriculumPrerequisite\"},{\"source_id\":25,\"target_id\":38,\"type\":\"CurriculumPrerequisite\"}],\"name\":\" \",\"metrics\":{\"centrality\":174,\"complexity\":11.0,\"blocking factor\":1,\"delay factor\":10.0},\"nameSub\":\"ECE 402\",\"id\":38,\"credits\":2,\"nameCanonical\":\"\"},{\"curriculum_requisites\":[{\"source_id\":32,\"target_id\":39,\"type\":\"CurriculumPrerequisite\"},{\"source_id\":31,\"target_id\":39,\"type\":\"CurriculumPrerequisite\"}],\"name\":\" \",\"metrics\":{\"centrality\":106,\"complexity\":12.0,\"blocking factor\":2,\"delay factor\":10.0},\"nameSub\":\"ECE 430\",\"id\":39,\"credits\":3,\"nameCanonical\":\"\"},{\"curriculum_requisites\":[{\"source_id\":23,\"target_id\":40,\"type\":\"CurriculumPrerequisite\"}],\"name\":\" \",\"metrics\":{\"centrality\":0,\"complexity\":7.0,\"blocking factor\":0,\"delay factor\":7.0},\"nameSub\":\"ECE 466\",\"id\":40,\"credits\":3,\"nameCanonical\":\"\"},{\"curriculum_requisites\":[],\"name\":\" \",\"metrics\":{\"centrality\":0,\"complexity\":1.0,\"blocking factor\":0,\"delay factor\":1.0},\"nameSub\":\"ANCH 308\",\"id\":41,\"credits\":3,\"nameCanonical\":\"\"},{\"curriculum_requisites\":[],\"name\":\" \",\"metrics\":{\"centrality\":0,\"complexity\":1.0,\"blocking factor\":0,\"delay factor\":1.0},\"nameSub\":\"DISC 300\",\"id\":42,\"credits\":3,\"nameCanonical\":\"\"}],\"id\":7},{\"name\":\"Term 8\",\"curriculum_items\":[{\"curriculum_requisites\":[],\"name\":\" \",\"metrics\":{\"centrality\":0,\"complexity\":1.0,\"blocking factor\":0,\"delay factor\":1.0},\"nameSub\":\"FOCUS A\",\"id\":43,\"credits\":3,\"nameCanonical\":\"\"},{\"curriculum_requisites\":[],\"name\":\" \",\"metrics\":{\"centrality\":0,\"complexity\":1.0,\"blocking factor\":0,\"delay factor\":1.0},\"nameSub\":\"FOCUS B\",\"id\":44,\"credits\":3,\"nameCanonical\":\"\"},{\"curriculum_requisites\":[{\"source_id\":38,\"target_id\":45,\"type\":\"CurriculumPrerequisite\"}],\"name\":\" \",\"metrics\":{\"centrality\":0,\"complexity\":10.0,\"blocking factor\":0,\"delay factor\":10.0},\"nameSub\":\"ECE 403\",\"id\":45,\"credits\":1,\"nameCanonical\":\"\"},{\"curriculum_requisites\":[{\"source_id\":36,\"target_id\":46,\"type\":\"CurriculumPrerequisite\"},{\"source_id\":37,\"target_id\":46,\"type\":\"CurriculumPrerequisite\"}],\"name\":\" \",\"metrics\":{\"centrality\":0,\"complexity\":8.0,\"blocking factor\":0,\"delay factor\":8.0},\"nameSub\":\"ECE 467\",\"id\":46,\"credits\":3,\"nameCanonical\":\"\"},{\"curriculum_requisites\":[{\"source_id\":36,\"target_id\":47,\"type\":\"CurriculumPrerequisite\"}],\"name\":\" \",\"metrics\":{\"centrality\":0,\"complexity\":8.0,\"blocking factor\":0,\"delay factor\":8.0},\"nameSub\":\"ECE 472\",\"id\":47,\"credits\":3,\"nameCanonical\":\"\"}],\"id\":8}],\"institution\":\"\"}}}}},\"children\":[{\"props\":{\"src\":\"https:\\/\\/curricula-api-embed.damoursystems.com\\/\",\"id\":\"curriculum\",\"events\":{\"load\":\"(function (){this.contentWindow.postMessage({\\\"options\\\":{\\\"hideTerms\\\":false,\\\"edit\\\":false},\\\"curriculum\\\":{\\\"name\\\":\\\"Curriculum\\\",\\\"dp_name\\\":\\\"University of Missouri--Kansas City.csv\\\",\\\"curriculum_terms\\\":[{\\\"name\\\":\\\"Term 1\\\",\\\"curriculum_items\\\":[{\\\"curriculum_requisites\\\":[],\\\"name\\\":\\\" \\\",\\\"metrics\\\":{\\\"centrality\\\":0,\\\"complexity\\\":1.0,\\\"blocking factor\\\":0,\\\"delay factor\\\":1.0},\\\"nameSub\\\":\\\"ANCH 150\\\",\\\"id\\\":1,\\\"credits\\\":3,\\\"nameCanonical\\\":\\\"\\\"},{\\\"curriculum_requisites\\\":[],\\\"name\\\":\\\" \\\",\\\"metrics\\\":{\\\"centrality\\\":0,\\\"complexity\\\":1.0,\\\"blocking factor\\\":0,\\\"delay factor\\\":1.0},\\\"nameSub\\\":\\\"CHEM 211\\\",\\\"id\\\":2,\\\"credits\\\":5,\\\"nameCanonical\\\":\\\"\\\"},{\\\"curriculum_requisites\\\":[],\\\"name\\\":\\\" \\\",\\\"metrics\\\":{\\\"centrality\\\":0,\\\"complexity\\\":1.0,\\\"blocking factor\\\":0,\\\"delay factor\\\":1.0},\\\"nameSub\\\":\\\"DISC 100\\\",\\\"id\\\":3,\\\"credits\\\":3,\\\"nameCanonical\\\":\\\"\\\"},{\\\"curriculum_requisites\\\":[],\\\"name\\\":\\\" \\\",\\\"metrics\\\":{\\\"centrality\\\":0,\\\"complexity\\\":1.0,\\\"blocking factor\\\":0,\\\"delay factor\\\":1.0},\\\"nameSub\\\":\\\"ECE 130\\\",\\\"id\\\":4,\\\"credits\\\":3,\\\"nameCanonical\\\":\\\"\\\"},{\\\"curriculum_requisites\\\":[],\\\"name\\\":\\\" \\\",\\\"metrics\\\":{\\\"centrality\\\":0,\\\"complexity\\\":37.0,\\\"blocking factor\\\":27,\\\"delay factor\\\":10.0},\\\"nameSub\\\":\\\"MATH 210\\\",\\\"id\\\":5,\\\"credits\\\":4,\\\"nameCanonical\\\":\\\"\\\"}],\\\"id\\\":1},{\\\"name\\\":\\\"Term 2\\\",\\\"curriculum_items\\\":[{\\\"curriculum_requisites\\\":[{\\\"source_id\\\":5,\\\"target_id\\\":6,\\\"type\\\":\\\"CurriculumPrerequisite\\\"}],\\\"name\\\":\\\" \\\",\\\"metrics\\\":{\\\"centrality\\\":236,\\\"complexity\\\":34.0,\\\"blocking factor\\\":24,\\\"delay factor\\\":10.0},\\\"nameSub\\\":\\\"MATH 220\\\",\\\"id\\\":6,\\\"credits\\\":4,\\\"nameCanonical\\\":\\\"\\\"},{\\\"curriculum_requisites\\\":[{\\\"source_id\\\":5,\\\"target_id\\\":7,\\\"type\\\":\\\"CurriculumPrerequisite\\\"}],\\\"name\\\":\\\" \\\",\\\"metrics\\\":{\\\"centrality\\\":99,\\\"complexity\\\":27.0,\\\"blocking factor\\\":18,\\\"delay factor\\\":9.0},\\\"nameSub\\\":\\\"PHYS 240\\\",\\\"id\\\":7,\\\"credits\\\":5,\\\"nameCanonical\\\":\\\"\\\"},{\\\"curriculum_requisites\\\":[],\\\"name\\\":\\\" \\\",\\\"metrics\\\":{\\\"centrality\\\":0,\\\"complexity\\\":1.0,\\\"blocking factor\\\":0,\\\"delay factor\\\":1.0},\\\"nameSub\\\":\\\"ANCH 200\\\",\\\"id\\\":8,\\\"credits\\\":3,\\\"nameCanonical\\\":\\\"\\\"},{\\\"curriculum_requisites\\\":[],\\\"name\\\":\\\" \\\",\\\"metrics\\\":{\\\"centrality\\\":0,\\\"complexity\\\":1.0,\\\"blocking factor\\\":0,\\\"delay factor\\\":1.0},\\\"nameSub\\\":\\\"DISC 200\\\",\\\"id\\\":9,\\\"credits\\\":3,\\\"nameCanonical\\\":\\\"\\\"}],\\\"id\\\":2},{\\\"name\\\":\\\"Term 3\\\",\\\"curriculum_items\\\":[{\\\"curriculum_requisites\\\":[{\\\"source_id\\\":5,\\\"target_id\\\":10,\\\"type\\\":\\\"CurriculumPrerequisite\\\"}],\\\"name\\\":\\\" \\\",\\\"metrics\\\":{\\\"centrality\\\":3,\\\"complexity\\\":4.0,\\\"blocking factor\\\":1,\\\"delay factor\\\":3.0},\\\"nameSub\\\":\\\"ECE 216\\\",\\\"id\\\":10,\\\"credits\\\":4,\\\"nameCanonical\\\":\\\"\\\"},{\\\"curriculum_requisites\\\":[],\\\"name\\\":\\\" \\\",\\\"metrics\\\":{\\\"centrality\\\":0,\\\"complexity\\\":16.0,\\\"blocking factor\\\":10,\\\"delay factor\\\":6.0},\\\"nameSub\\\":\\\"ECE 226\\\",\\\"id\\\":11,\\\"credits\\\":3,\\\"nameCanonical\\\":\\\"\\\"},{\\\"curriculum_requisites\\\":[{\\\"source_id\\\":11,\\\"target_id\\\":12,\\\"type\\\":\\\"CurriculumCorequisite\\\"}],\\\"name\\\":\\\" \\\",\\\"metrics\\\":{\\\"centrality\\\":29,\\\"complexity\\\":14.0,\\\"blocking factor\\\":8,\\\"delay factor\\\":6.0},\\\"nameSub\\\":\\\"ECE 227\\\",\\\"id\\\":12,\\\"credits\\\":1,\\\"nameCanonical\\\":\\\"\\\"},{\\\"curriculum_requisites\\\":[{\\\"source_id\\\":6,\\\"target_id\\\":13,\\\"type\\\":\\\"CurriculumPrerequisite\\\"}],\\\"name\\\":\\\" \\\",\\\"metrics\\\":{\\\"centrality\\\":134,\\\"complexity\\\":31.0,\\\"blocking factor\\\":21,\\\"delay factor\\\":10.0},\\\"nameSub\\\":\\\"ECE 241\\\",\\\"id\\\":13,\\\"credits\\\":3,\\\"nameCanonical\\\":\\\"\\\"},{\\\"curriculum_requisites\\\":[{\\\"source_id\\\":6,\\\"target_id\\\":14,\\\"type\\\":\\\"CurriculumPrerequisite\\\"},{\\\"source_id\\\":7,\\\"target_id\\\":14,\\\"type\\\":\\\"CurriculumPrerequisite\\\"}],\\\"name\\\":\\\" \\\",\\\"metrics\\\":{\\\"centrality\\\":192,\\\"complexity\\\":25.0,\\\"blocking factor\\\":16,\\\"delay factor\\\":9.0},\\\"nameSub\\\":\\\"PHYS 250\\\",\\\"id\\\":14,\\\"credits\\\":5,\\\"nameCanonical\\\":\\\"\\\"}],\\\"id\\\":3},{\\\"name\\\":\\\"Term 4\\\",\\\"curriculum_items\\\":[{\\\"curriculum_requisites\\\":[{\\\"source_id\\\":11,\\\"target_id\\\":15,\\\"type\\\":\\\"CurriculumPrerequisite\\\"},{\\\"source_id\\\":12,\\\"target_id\\\":15,\\\"type\\\":\\\"CurriculumPrerequisite\\\"}],\\\"name\\\":\\\" \\\",\\\"metrics\\\":{\\\"centrality\\\":7,\\\"complexity\\\":5.0,\\\"blocking factor\\\":1,\\\"delay factor\\\":4.0},\\\"nameSub\\\":\\\"ECE 228\\\",\\\"id\\\":15,\\\"credits\\\":3,\\\"nameCanonical\\\":\\\"\\\"},{\\\"curriculum_requisites\\\":[{\\\"source_id\\\":15,\\\"target_id\\\":16,\\\"type\\\":\\\"CurriculumCorequisite\\\"},{\\\"source_id\\\":11,\\\"target_id\\\":16,\\\"type\\\":\\\"CurriculumPrerequisite\\\"},{\\\"source_id\\\":12,\\\"target_id\\\":16,\\\"type\\\":\\\"CurriculumPrerequisite\\\"}],\\\"name\\\":\\\" \\\",\\\"metrics\\\":{\\\"centrality\\\":0,\\\"complexity\\\":4.0,\\\"blocking factor\\\":0,\\\"delay factor\\\":4.0},\\\"nameSub\\\":\\\"ECE 229\\\",\\\"id\\\":16,\\\"credits\\\":1,\\\"nameCanonical\\\":\\\"\\\"},{\\\"curriculum_requisites\\\":[{\\\"source_id\\\":6,\\\"target_id\\\":17,\\\"type\\\":\\\"CurriculumPrerequisite\\\"},{\\\"source_id\\\":7,\\\"target_id\\\":17,\\\"type\\\":\\\"CurriculumPrerequisite\\\"}],\\\"name\\\":\\\" \\\",\\\"metrics\\\":{\\\"centrality\\\":0,\\\"complexity\\\":3.0,\\\"blocking factor\\\":0,\\\"delay factor\\\":3.0},\\\"nameSub\\\":\\\"ECE 250\\\",\\\"id\\\":17,\\\"credits\\\":3,\\\"nameCanonical\\\":\\\"\\\"},{\\\"curriculum_requisites\\\":[{\\\"source_id\\\":20,\\\"target_id\\\":18,\\\"type\\\":\\\"CurriculumCorequisite\\\"},{\\\"source_id\\\":14,\\\"target_id\\\":18,\\\"type\\\":\\\"CurriculumPrerequisite\\\"}],\\\"name\\\":\\\" \\\",\\\"metrics\\\":{\\\"centrality\\\":254,\\\"complexity\\\":24.0,\\\"blocking factor\\\":14,\\\"delay factor\\\":10.0},\\\"nameSub\\\":\\\"ECE 276\\\",\\\"id\\\":18,\\\"credits\\\":3,\\\"nameCanonical\\\":\\\"\\\"},{\\\"curriculum_requisites\\\":[{\\\"source_id\\\":18,\\\"target_id\\\":19,\\\"type\\\":\\\"CurriculumCorequisite\\\"}],\\\"name\\\":\\\" \\\",\\\"metrics\\\":{\\\"centrality\\\":47,\\\"complexity\\\":15.0,\\\"blocking factor\\\":5,\\\"delay factor\\\":10.0},\\\"nameSub\\\":\\\"ECE 277\\\",\\\"id\\\":19,\\\"credits\\\":1,\\\"nameCanonical\\\":\\\"\\\"},{\\\"curriculum_requisites\\\":[{\\\"source_id\\\":13,\\\"target_id\\\":20,\\\"type\\\":\\\"CurriculumPrerequisite\\\"}],\\\"name\\\":\\\" \\\",\\\"metrics\\\":{\\\"centrality\\\":130,\\\"complexity\\\":29.0,\\\"blocking factor\\\":19,\\\"delay factor\\\":10.0},\\\"nameSub\\\":\\\"ECE 341R\\\",\\\"id\\\":20,\\\"credits\\\":3,\\\"nameCanonical\\\":\\\"\\\"},{\\\"curriculum_requisites\\\":[{\\\"source_id\\\":13,\\\"target_id\\\":21,\\\"type\\\":\\\"CurriculumPrerequisite\\\"},{\\\"source_id\\\":6,\\\"target_id\\\":21,\\\"type\\\":\\\"CurriculumPrerequisite\\\"},{\\\"source_id\\\":10,\\\"target_id\\\":21,\\\"type\\\":\\\"CurriculumPrerequisite\\\"}],\\\"name\\\":\\\" \\\",\\\"metrics\\\":{\\\"centrality\\\":0,\\\"complexity\\\":4.0,\\\"blocking factor\\\":0,\\\"delay factor\\\":4.0},\\\"nameSub\\\":\\\"CS 394R\\\",\\\"id\\\":21,\\\"credits\\\":3,\\\"nameCanonical\\\":\\\"\\\"}],\\\"id\\\":4},{\\\"name\\\":\\\"Term 5\\\",\\\"curriculum_items\\\":[{\\\"curriculum_requisites\\\":[{\\\"source_id\\\":20,\\\"target_id\\\":22,\\\"type\\\":\\\"CurriculumPrerequisite\\\"},{\\\"source_id\\\":14,\\\"target_id\\\":22,\\\"type\\\":\\\"CurriculumPrerequisite\\\"}],\\\"name\\\":\\\" \\\",\\\"metrics\\\":{\\\"centrality\\\":0,\\\"complexity\\\":5.0,\\\"blocking factor\\\":0,\\\"delay factor\\\":5.0},\\\"nameSub\\\":\\\"ECE 334\\\",\\\"id\\\":22,\\\"credits\\\":3,\\\"nameCanonical\\\":\\\"\\\"},{\\\"curriculum_requisites\\\":[{\\\"source_id\\\":18,\\\"target_id\\\":23,\\\"type\\\":\\\"CurriculumPrerequisite\\\"}],\\\"name\\\":\\\" \\\",\\\"metrics\\\":{\\\"centrality\\\":129,\\\"complexity\\\":18.0,\\\"blocking factor\\\":9,\\\"delay factor\\\":9.0},\\\"nameSub\\\":\\\"ECE 376\\\",\\\"id\\\":23,\\\"credits\\\":3,\\\"nameCanonical\\\":\\\"\\\"},{\\\"curriculum_requisites\\\":[{\\\"source_id\\\":23,\\\"target_id\\\":24,\\\"type\\\":\\\"CurriculumCorequisite\\\"},{\\\"source_id\\\":19,\\\"target_id\\\":24,\\\"type\\\":\\\"CurriculumPrerequisite\\\"}],\\\"name\\\":\\\" \\\",\\\"metrics\\\":{\\\"centrality\\\":0,\\\"complexity\\\":7.0,\\\"blocking factor\\\":0,\\\"delay factor\\\":7.0},\\\"nameSub\\\":\\\"ECE 377\\\",\\\"id\\\":24,\\\"credits\\\":1,\\\"nameCanonical\\\":\\\"\\\"},{\\\"curriculum_requisites\\\":[{\\\"source_id\\\":20,\\\"target_id\\\":25,\\\"type\\\":\\\"CurriculumPrerequisite\\\"}],\\\"name\\\":\\\" \\\",\\\"metrics\\\":{\\\"centrality\\\":20,\\\"complexity\\\":12.0,\\\"blocking factor\\\":5,\\\"delay factor\\\":7.0},\\\"nameSub\\\":\\\"ECE 380\\\",\\\"id\\\":25,\\\"credits\\\":3,\\\"nameCanonical\\\":\\\"\\\"},{\\\"curriculum_requisites\\\":[{\\\"source_id\\\":25,\\\"target_id\\\":26,\\\"type\\\":\\\"CurriculumCorequisite\\\"}],\\\"name\\\":\\\" \\\",\\\"metrics\\\":{\\\"centrality\\\":0,\\\"complexity\\\":6.0,\\\"blocking factor\\\":0,\\\"delay factor\\\":6.0},\\\"nameSub\\\":\\\"ECE 381\\\",\\\"id\\\":26,\\\"credits\\\":1,\\\"nameCanonical\\\":\\\"\\\"},{\\\"curriculum_requisites\\\":[{\\\"source_id\\\":11,\\\"target_id\\\":27,\\\"type\\\":\\\"CurriculumPrerequisite\\\"}],\\\"name\\\":\\\" \\\",\\\"metrics\\\":{\\\"centrality\\\":40,\\\"complexity\\\":12.0,\\\"blocking factor\\\":6,\\\"delay factor\\\":6.0},\\\"nameSub\\\":\\\"ECE 426\\\",\\\"id\\\":27,\\\"credits\\\":3,\\\"nameCanonical\\\":\\\"\\\"},{\\\"curriculum_requisites\\\":[{\\\"source_id\\\":27,\\\"target_id\\\":28,\\\"type\\\":\\\"CurriculumCorequisite\\\"},{\\\"source_id\\\":12,\\\"target_id\\\":28,\\\"type\\\":\\\"CurriculumPrerequisite\\\"}],\\\"name\\\":\\\" \\\",\\\"metrics\\\":{\\\"centrality\\\":44,\\\"complexity\\\":11.0,\\\"blocking factor\\\":5,\\\"delay factor\\\":6.0},\\\"nameSub\\\":\\\"ECE 427\\\",\\\"id\\\":28,\\\"credits\\\":1,\\\"nameCanonical\\\":\\\"\\\"}],\\\"id\\\":5},{\\\"name\\\":\\\"Term 6\\\",\\\"curriculum_items\\\":[{\\\"curriculum_requisites\\\":[{\\\"source_id\\\":20,\\\"target_id\\\":29,\\\"type\\\":\\\"CurriculumPrerequisite\\\"},{\\\"source_id\\\":14,\\\"target_id\\\":29,\\\"type\\\":\\\"CurriculumPrerequisite\\\"},{\\\"source_id\\\":23,\\\"target_id\\\":29,\\\"type\\\":\\\"CurriculumPrerequisite\\\"}],\\\"name\\\":\\\" \\\",\\\"metrics\\\":{\\\"centrality\\\":82,\\\"complexity\\\":12.0,\\\"blocking factor\\\":3,\\\"delay factor\\\":9.0},\\\"nameSub\\\":\\\"ECE 302\\\",\\\"id\\\":29,\\\"credits\\\":3,\\\"nameCanonical\\\":\\\"\\\"},{\\\"curriculum_requisites\\\":[{\\\"source_id\\\":29,\\\"target_id\\\":30,\\\"type\\\":\\\"CurriculumCorequisite\\\"}],\\\"name\\\":\\\" \\\",\\\"metrics\\\":{\\\"centrality\\\":0,\\\"complexity\\\":8.0,\\\"blocking factor\\\":0,\\\"delay factor\\\":8.0},\\\"nameSub\\\":\\\"ECE 303\\\",\\\"id\\\":30,\\\"credits\\\":1,\\\"nameCanonical\\\":\\\"\\\"},{\\\"curriculum_requisites\\\":[{\\\"source_id\\\":18,\\\"target_id\\\":31,\\\"type\\\":\\\"CurriculumPrerequisite\\\"}],\\\"name\\\":\\\" \\\",\\\"metrics\\\":{\\\"centrality\\\":53,\\\"complexity\\\":14.0,\\\"blocking factor\\\":4,\\\"delay factor\\\":10.0},\\\"nameSub\\\":\\\"ECE 330\\\",\\\"id\\\":31,\\\"credits\\\":3,\\\"nameCanonical\\\":\\\"\\\"},{\\\"curriculum_requisites\\\":[{\\\"source_id\\\":18,\\\"target_id\\\":32,\\\"type\\\":\\\"CurriculumPrerequisite\\\"},{\\\"source_id\\\":31,\\\"target_id\\\":32,\\\"type\\\":\\\"CurriculumCorequisite\\\"},{\\\"source_id\\\":19,\\\"target_id\\\":32,\\\"type\\\":\\\"CurriculumPrerequisite\\\"}],\\\"name\\\":\\\" \\\",\\\"metrics\\\":{\\\"centrality\\\":81,\\\"complexity\\\":13.0,\\\"blocking factor\\\":3,\\\"delay factor\\\":10.0},\\\"nameSub\\\":\\\"ECE 331\\\",\\\"id\\\":32,\\\"credits\\\":1,\\\"nameCanonical\\\":\\\"\\\"},{\\\"curriculum_requisites\\\":[{\\\"source_id\\\":34,\\\"target_id\\\":33,\\\"type\\\":\\\"CurriculumCorequisite\\\"},{\\\"source_id\\\":35,\\\"target_id\\\":33,\\\"type\\\":\\\"CurriculumCorequisite\\\"}],\\\"name\\\":\\\" \\\",\\\"metrics\\\":{\\\"centrality\\\":0,\\\"complexity\\\":6.0,\\\"blocking factor\\\":0,\\\"delay factor\\\":6.0},\\\"nameSub\\\":\\\"ECE 420\\\",\\\"id\\\":33,\\\"credits\\\":2,\\\"nameCanonical\\\":\\\"\\\"},{\\\"curriculum_requisites\\\":[{\\\"source_id\\\":27,\\\"target_id\\\":34,\\\"type\\\":\\\"CurriculumPrerequisite\\\"},{\\\"source_id\\\":28,\\\"target_id\\\":34,\\\"type\\\":\\\"CurriculumPrerequisite\\\"}],\\\"name\\\":\\\" \\\",\\\"metrics\\\":{\\\"centrality\\\":48,\\\"complexity\\\":10.0,\\\"blocking factor\\\":4,\\\"delay factor\\\":6.0},\\\"nameSub\\\":\\\"ECE 428R\\\",\\\"id\\\":34,\\\"credits\\\":3,\\\"nameCanonical\\\":\\\"\\\"},{\\\"curriculum_requisites\\\":[{\\\"source_id\\\":34,\\\"target_id\\\":35,\\\"type\\\":\\\"CurriculumCorequisite\\\"},{\\\"source_id\\\":27,\\\"target_id\\\":35,\\\"type\\\":\\\"CurriculumPrerequisite\\\"},{\\\"source_id\\\":28,\\\"target_id\\\":35,\\\"type\\\":\\\"CurriculumPrerequisite\\\"}],\\\"name\\\":\\\" \\\",\\\"metrics\\\":{\\\"centrality\\\":31,\\\"complexity\\\":7.0,\\\"blocking factor\\\":1,\\\"delay factor\\\":6.0},\\\"nameSub\\\":\\\"ECE 429\\\",\\\"id\\\":35,\\\"credits\\\":1,\\\"nameCanonical\\\":\\\"\\\"},{\\\"curriculum_requisites\\\":[{\\\"source_id\\\":23,\\\"target_id\\\":36,\\\"type\\\":\\\"CurriculumPrerequisite\\\"}],\\\"name\\\":\\\" \\\",\\\"metrics\\\":{\\\"centrality\\\":44,\\\"complexity\\\":10.0,\\\"blocking factor\\\":2,\\\"delay factor\\\":8.0},\\\"nameSub\\\":\\\"ECE 466\\\",\\\"id\\\":36,\\\"credits\\\":3,\\\"nameCanonical\\\":\\\"\\\"}],\\\"id\\\":6},{\\\"name\\\":\\\"Term 7\\\",\\\"curriculum_items\\\":[{\\\"curriculum_requisites\\\":[{\\\"source_id\\\":25,\\\"target_id\\\":37,\\\"type\\\":\\\"CurriculumPrerequisite\\\"}],\\\"name\\\":\\\" \\\",\\\"metrics\\\":{\\\"centrality\\\":7,\\\"complexity\\\":8.0,\\\"blocking factor\\\":1,\\\"delay factor\\\":7.0},\\\"nameSub\\\":\\\"ECE 358\\\",\\\"id\\\":37,\\\"credits\\\":3,\\\"nameCanonical\\\":\\\"\\\"},{\\\"curriculum_requisites\\\":[{\\\"source_id\\\":34,\\\"target_id\\\":38,\\\"type\\\":\\\"CurriculumPrerequisite\\\"},{\\\"source_id\\\":39,\\\"target_id\\\":38,\\\"type\\\":\\\"CurriculumCorequisite\\\"},{\\\"source_id\\\":29,\\\"target_id\\\":38,\\\"type\\\":\\\"CurriculumPrerequisite\\\"},{\\\"source_id\\\":25,\\\"target_id\\\":38,\\\"type\\\":\\\"CurriculumPrerequisite\\\"}],\\\"name\\\":\\\" \\\",\\\"metrics\\\":{\\\"centrality\\\":174,\\\"complexity\\\":11.0,\\\"blocking factor\\\":1,\\\"delay factor\\\":10.0},\\\"nameSub\\\":\\\"ECE 402\\\",\\\"id\\\":38,\\\"credits\\\":2,\\\"nameCanonical\\\":\\\"\\\"},{\\\"curriculum_requisites\\\":[{\\\"source_id\\\":32,\\\"target_id\\\":39,\\\"type\\\":\\\"CurriculumPrerequisite\\\"},{\\\"source_id\\\":31,\\\"target_id\\\":39,\\\"type\\\":\\\"CurriculumPrerequisite\\\"}],\\\"name\\\":\\\" \\\",\\\"metrics\\\":{\\\"centrality\\\":106,\\\"complexity\\\":12.0,\\\"blocking factor\\\":2,\\\"delay factor\\\":10.0},\\\"nameSub\\\":\\\"ECE 430\\\",\\\"id\\\":39,\\\"credits\\\":3,\\\"nameCanonical\\\":\\\"\\\"},{\\\"curriculum_requisites\\\":[{\\\"source_id\\\":23,\\\"target_id\\\":40,\\\"type\\\":\\\"CurriculumPrerequisite\\\"}],\\\"name\\\":\\\" \\\",\\\"metrics\\\":{\\\"centrality\\\":0,\\\"complexity\\\":7.0,\\\"blocking factor\\\":0,\\\"delay factor\\\":7.0},\\\"nameSub\\\":\\\"ECE 466\\\",\\\"id\\\":40,\\\"credits\\\":3,\\\"nameCanonical\\\":\\\"\\\"},{\\\"curriculum_requisites\\\":[],\\\"name\\\":\\\" \\\",\\\"metrics\\\":{\\\"centrality\\\":0,\\\"complexity\\\":1.0,\\\"blocking factor\\\":0,\\\"delay factor\\\":1.0},\\\"nameSub\\\":\\\"ANCH 308\\\",\\\"id\\\":41,\\\"credits\\\":3,\\\"nameCanonical\\\":\\\"\\\"},{\\\"curriculum_requisites\\\":[],\\\"name\\\":\\\" \\\",\\\"metrics\\\":{\\\"centrality\\\":0,\\\"complexity\\\":1.0,\\\"blocking factor\\\":0,\\\"delay factor\\\":1.0},\\\"nameSub\\\":\\\"DISC 300\\\",\\\"id\\\":42,\\\"credits\\\":3,\\\"nameCanonical\\\":\\\"\\\"}],\\\"id\\\":7},{\\\"name\\\":\\\"Term 8\\\",\\\"curriculum_items\\\":[{\\\"curriculum_requisites\\\":[],\\\"name\\\":\\\" \\\",\\\"metrics\\\":{\\\"centrality\\\":0,\\\"complexity\\\":1.0,\\\"blocking factor\\\":0,\\\"delay factor\\\":1.0},\\\"nameSub\\\":\\\"FOCUS A\\\",\\\"id\\\":43,\\\"credits\\\":3,\\\"nameCanonical\\\":\\\"\\\"},{\\\"curriculum_requisites\\\":[],\\\"name\\\":\\\" \\\",\\\"metrics\\\":{\\\"centrality\\\":0,\\\"complexity\\\":1.0,\\\"blocking factor\\\":0,\\\"delay factor\\\":1.0},\\\"nameSub\\\":\\\"FOCUS B\\\",\\\"id\\\":44,\\\"credits\\\":3,\\\"nameCanonical\\\":\\\"\\\"},{\\\"curriculum_requisites\\\":[{\\\"source_id\\\":38,\\\"target_id\\\":45,\\\"type\\\":\\\"CurriculumPrerequisite\\\"}],\\\"name\\\":\\\" \\\",\\\"metrics\\\":{\\\"centrality\\\":0,\\\"complexity\\\":10.0,\\\"blocking factor\\\":0,\\\"delay factor\\\":10.0},\\\"nameSub\\\":\\\"ECE 403\\\",\\\"id\\\":45,\\\"credits\\\":1,\\\"nameCanonical\\\":\\\"\\\"},{\\\"curriculum_requisites\\\":[{\\\"source_id\\\":36,\\\"target_id\\\":46,\\\"type\\\":\\\"CurriculumPrerequisite\\\"},{\\\"source_id\\\":37,\\\"target_id\\\":46,\\\"type\\\":\\\"CurriculumPrerequisite\\\"}],\\\"name\\\":\\\" \\\",\\\"metrics\\\":{\\\"centrality\\\":0,\\\"complexity\\\":8.0,\\\"blocking factor\\\":0,\\\"delay factor\\\":8.0},\\\"nameSub\\\":\\\"ECE 467\\\",\\\"id\\\":46,\\\"credits\\\":3,\\\"nameCanonical\\\":\\\"\\\"},{\\\"curriculum_requisites\\\":[{\\\"source_id\\\":36,\\\"target_id\\\":47,\\\"type\\\":\\\"CurriculumPrerequisite\\\"}],\\\"name\\\":\\\" \\\",\\\"metrics\\\":{\\\"centrality\\\":0,\\\"complexity\\\":8.0,\\\"blocking factor\\\":0,\\\"delay factor\\\":8.0},\\\"nameSub\\\":\\\"ECE 472\\\",\\\"id\\\":47,\\\"credits\\\":3,\\\"nameCanonical\\\":\\\"\\\"}],\\\"id\\\":8}],\\\"institution\\\":\\\"\\\"}},\\\"*\\\"); window.removeEventListener(\\\"message\\\",window.messageReceived); window.messageReceived=(function (event){return (event.data.curriculum!==undefined) ? (WebIO.setval({\\\"name\\\":\\\"curriculum-data\\\",\\\"scope\\\":\\\"6147914626071104594\\\",\\\"id\\\":\\\"16419708132536982699\\\",\\\"type\\\":\\\"observable\\\"},event.data.curriculum)) : undefined}); return window.addEventListener(\\\"message\\\",window.messageReceived)})\"},\"style\":{\"padding\":\"0\",\"height\":\"100vh\",\"margin\":\"0\",\"border\":\"none\",\"width\":\"100%\"}},\"nodeType\":\"DOM\",\"type\":\"node\",\"instanceArgs\":{\"namespace\":\"html\",\"tag\":\"iframe\"},\"children\":[\"\"]}]},\n",
       "            window,\n",
       "        );\n",
       "    } else {\n",
       "        document\n",
       "            .querySelector('[data-webio-mountpoint=\"13977120114142529405\"]')\n",
       "            .innerHTML = (\n",
       "                '<div style=\"padding: 1em; background-color: #f8d6da; border: 1px solid #f5c6cb\">' +\n",
       "                '<p><strong>WebIO not detected.</strong></p>' +\n",
       "                '<p>Please read ' +\n",
       "                '<a href=\"https://juliagizmos.github.io/WebIO.jl/latest/troubleshooting/not-detected/\" target=\"_blank\">the troubleshooting guide</a> ' +\n",
       "                'for more information on how to resolve this issue.</p>' +\n",
       "                '<p><a href=\"https://juliagizmos.github.io/WebIO.jl/latest/troubleshooting/not-detected/\" target=\"_blank\">https://juliagizmos.github.io/WebIO.jl/latest/troubleshooting/not-detected/</a></p>' +\n",
       "                '</div>'\n",
       "            );\n",
       "    }\n",
       "    </script>\n",
       "</div>\n"
      ],
      "text/plain": [
       "WebIO.Scope(WebIO.Node{WebIO.DOM}(WebIO.DOM(:html, :iframe), Any[\"\"], Dict{Symbol, Any}(:src => \"https://curricula-api-embed.damoursystems.com/\", :id => \"curriculum\", :events => Dict{Symbol, WebIO.JSString}(:load => WebIO.JSString(\"(function (){this.contentWindow.postMessage({\\\"options\\\":{\\\"hideTerms\\\":false,\\\"edit\\\":false},\\\"curriculum\\\":{\\\"name\\\":\\\"Curriculum\\\",\\\"dp_name\\\":\\\"University of Missouri--Kansas City.csv\\\",\\\"curriculum_terms\\\":[{\\\"name\\\":\\\"Term 1\\\",\\\"curriculum_items\\\":[{\\\"curriculum_requisites\\\":[],\\\"name\\\":\\\" \\\",\\\"metrics\\\":{\\\"centrality\\\":0,\\\"complexity\\\":1.0,\\\"blocking factor\\\":0,\\\"delay factor\\\":1.0},\\\"nameSub\\\":\\\"ANCH 150\\\",\\\"id\\\":1,\\\"credits\\\":3,\\\"nameCanonical\\\":\\\"\\\"},{\\\"curriculum_requisites\\\":[],\\\"name\\\":\\\" \\\",\\\"metrics\\\":{\\\"centrality\\\":0,\\\"complexity\\\":1.0,\\\"blocking factor\\\":0,\\\"delay factor\\\":1.0},\\\"nameSub\\\":\\\"CHEM 211\\\",\\\"id\\\":2,\\\"credits\\\":5,\\\"nameCanonical\\\":\\\"\\\"},{\\\"curriculum_requisites\\\":[],\\\"name\\\":\\\" \\\",\\\"metrics\\\":{\\\"centrality\\\":0,\\\"complexity\\\":1.0,\\\"blocking factor\\\":0,\\\"delay factor\\\":1.0},\\\"nameSub\\\":\\\"DISC 100\\\",\\\"id\\\":3,\\\"credits\\\":3,\\\"nameCanonical\\\":\\\"\\\"},{\\\"curriculum_requisites\\\":[],\\\"name\\\":\\\" \\\",\\\"metrics\\\":{\\\"centrality\\\":0,\\\"complexity\\\":1.0,\\\"blocking factor\\\":0,\\\"delay factor\\\":1.0},\\\"nameSub\\\":\\\"ECE 130\\\",\\\"id\\\":4,\\\"credits\\\":3,\\\"nameCanonical\\\":\\\"\\\"},{\\\"curriculum_requisites\\\":[],\\\"name\\\":\\\" \\\",\\\"metrics\\\":{\\\"centrality\\\":0,\\\"complexity\\\":37.0,\\\"blocking factor\\\":27,\\\"delay factor\\\":10.0},\\\"nameSub\\\":\\\"MATH 210\\\",\\\"id\\\":5,\\\"credits\\\":4,\\\"nameCanonical\\\":\\\"\\\"}],\\\"id\\\":1},{\\\"name\\\":\\\"Term 2\\\",\\\"curriculum_items\\\":[{\\\"curriculum_requisites\\\":[{\\\"source_id\\\":5,\\\"target_id\\\":6,\\\"type\\\":\\\"CurriculumPrerequisite\\\"}],\\\"name\\\":\\\" \\\",\\\"metrics\\\":{\\\"centrality\\\":236,\\\"complexity\\\":34.0,\\\"blocking factor\\\":24,\\\"delay factor\\\":10.0},\\\"nameSub\\\":\\\"MATH 220\\\",\\\"id\\\":6,\\\"credits\\\":4,\\\"nameCanonical\\\":\\\"\\\"},{\\\"curriculum_requisites\\\":[{\\\"source_id\\\":5,\\\"target_id\\\":7,\\\"type\\\":\\\"CurriculumPrerequisite\\\"}],\\\"name\\\":\\\" \\\",\\\"metrics\\\":{\\\"centrality\\\":99,\\\"complexity\\\":27.0,\\\"blocking factor\\\":18,\\\"delay factor\\\":9.0},\\\"nameSub\\\":\\\"PHYS 240\\\",\\\"id\\\":7,\\\"credits\\\":5,\\\"nameCanonical\\\":\\\"\\\"},{\\\"curriculum_requisites\\\":[],\\\"name\\\":\\\" \\\",\\\"metrics\\\":{\\\"centrality\\\":0,\\\"complexity\\\":1.0,\\\"blocking factor\\\":0,\\\"delay factor\\\":1.0},\\\"nameSub\\\":\\\"ANCH 200\\\",\\\"id\\\":8,\\\"credits\\\":3,\\\"nameCanonical\\\":\\\"\\\"},{\\\"curriculum_requisites\\\":[],\\\"name\\\":\\\" \\\",\\\"metrics\\\":{\\\"centrality\\\":0,\\\"complexity\\\":1.0,\\\"blocking factor\\\":0,\\\"delay factor\\\":1.0},\\\"nameSub\\\":\\\"DISC 200\\\",\\\"id\\\":9,\\\"credits\\\":3,\\\"nameCanonical\\\":\\\"\\\"}],\\\"id\\\":2},{\\\"name\\\":\\\"Term 3\\\",\\\"curriculum_items\\\":[{\\\"curriculum_requisites\\\":[{\\\"source_id\\\":5,\\\"target_id\\\":10,\\\"type\\\":\\\"CurriculumPrerequisite\\\"}],\\\"name\\\":\\\" \\\",\\\"metrics\\\":{\\\"centrality\\\":3,\\\"complexity\\\":4.0,\\\"blocking factor\\\":1,\\\"delay factor\\\":3.0},\\\"nameSub\\\":\\\"ECE 216\\\",\\\"id\\\":10,\\\"credits\\\":4,\\\"nameCanonical\\\":\\\"\\\"},{\\\"curriculum_requisites\\\":[],\\\"name\\\":\\\" \\\",\\\"metrics\\\":{\\\"centrality\\\":0,\\\"complexity\\\":16.0,\\\"blocking factor\\\":10,\\\"delay factor\\\":6.0},\\\"nameSub\\\":\\\"ECE 226\\\",\\\"id\\\":11,\\\"credits\\\":3,\\\"nameCanonical\\\":\\\"\\\"},{\\\"curriculum_requisites\\\":[{\\\"source_id\\\":11,\\\"target_id\\\":12,\\\"type\\\":\\\"CurriculumCorequisite\\\"}],\\\"name\\\":\\\" \\\",\\\"metrics\\\":{\\\"centrality\\\":29,\\\"complexity\\\":14.0,\\\"blocking factor\\\":8,\\\"delay factor\\\":6.0},\\\"nameSub\\\":\\\"ECE 227\\\",\\\"id\\\":12,\\\"credits\\\":1,\\\"nameCanonical\\\":\\\"\\\"},{\\\"curriculum_requisites\\\":[{\\\"source_id\\\":6,\\\"target_id\\\":13,\\\"type\\\":\\\"CurriculumPrerequisite\\\"}],\\\"name\\\":\\\" \\\",\\\"metrics\\\":{\\\"centrality\\\":134,\\\"complexity\\\":31.0,\\\"blocking factor\\\":21,\\\"delay factor\\\":10.0},\\\"nameSub\\\":\\\"ECE 241\\\",\\\"id\\\":13,\\\"credits\\\":3,\\\"nameCanonical\\\":\\\"\\\"},{\\\"curriculum_requisites\\\":[{\\\"source_id\\\":6,\\\"target_id\\\":14,\\\"type\\\":\\\"CurriculumPrerequisite\\\"},{\\\"source_id\\\":7,\\\"target_id\\\":14,\\\"type\\\":\\\"CurriculumPrerequisite\\\"}],\\\"name\\\":\\\" \\\",\\\"metrics\\\":{\\\"centrality\\\":192,\\\"complexity\\\":25.0,\\\"blocking factor\\\":16,\\\"delay factor\\\":9.0},\\\"nameSub\\\":\\\"PHYS 250\\\",\\\"id\\\":14,\\\"credits\\\":5,\\\"nameCanonical\\\":\\\"\\\"}],\\\"id\\\":3},{\\\"name\\\":\\\"Term 4\\\",\\\"curriculum_items\\\":[{\\\"curriculum_requisites\\\":[{\\\"source_id\\\":11,\\\"target_id\\\":15,\\\"type\\\":\\\"CurriculumPrerequisite\\\"},{\\\"source_id\\\":12,\\\"target_id\\\":15,\\\"type\\\":\\\"CurriculumPrerequisite\\\"}],\\\"name\\\":\\\" \\\",\\\"metrics\\\":{\\\"centrality\\\":7,\\\"complexity\\\":5.0,\\\"blocking factor\\\":1,\\\"delay factor\\\":4.0},\\\"nameSub\\\":\\\"ECE 228\\\",\\\"id\\\":15,\\\"credits\\\":3,\\\"nameCanonical\\\":\\\"\\\"},{\\\"curriculum_requisites\\\":[{\\\"source_id\\\":15,\\\"target_id\\\":16,\\\"type\\\":\\\"CurriculumCorequisite\\\"},{\\\"source_id\\\":11,\\\"target_id\\\":16,\\\"type\\\":\\\"CurriculumPrerequisite\\\"},{\\\"source_id\\\":12,\\\"target_id\\\":16,\\\"type\\\":\\\"CurriculumPrerequisite\\\"}],\\\"name\\\":\\\" \\\",\\\"metrics\\\":{\\\"centrality\\\":0,\\\"complexity\\\":4.0,\\\"blocking factor\\\":0,\\\"delay factor\\\":4.0},\\\"nameSub\\\":\\\"ECE 229\\\",\\\"id\\\":16,\\\"credits\\\":1,\\\"nameCanonical\\\":\\\"\\\"},{\\\"curriculum_requisites\\\":[{\\\"source_id\\\":6,\\\"target_id\\\":17,\\\"type\\\":\\\"CurriculumPrerequisite\\\"},{\\\"source_id\\\":7,\\\"target_id\\\":17,\\\"type\\\":\\\"CurriculumPrerequisite\\\"}],\\\"name\\\":\\\" \\\",\\\"metrics\\\":{\\\"centrality\\\":0,\\\"complexity\\\":3.0,\\\"blocking factor\\\":0,\\\"delay factor\\\":3.0},\\\"nameSub\\\":\\\"ECE 250\\\",\\\"id\\\":17,\\\"credits\\\":3,\\\"nameCanonical\\\":\\\"\\\"},{\\\"curriculum_requisites\\\":[{\\\"source_id\\\":20,\\\"target_id\\\":18,\\\"type\\\":\\\"CurriculumCorequisite\\\"},{\\\"source_id\\\":14,\\\"target_id\\\":18,\\\"type\\\":\\\"CurriculumPrerequisite\\\"}],\\\"name\\\":\\\" \\\",\\\"metrics\\\":{\\\"centrality\\\":254,\\\"complexity\\\":24.0,\\\"blocking factor\\\":14,\\\"delay factor\\\":10.0},\\\"nameSub\\\":\\\"ECE 276\\\",\\\"id\\\":18,\\\"credits\\\":3,\\\"nameCanonical\\\":\\\"\\\"},{\\\"curriculum_requisites\\\":[{\\\"source_id\\\":18,\\\"target_id\\\":19,\\\"type\\\":\\\"CurriculumCorequisite\\\"}],\\\"name\\\":\\\" \\\",\\\"metrics\\\":{\\\"centrality\\\":47,\\\"complexity\\\":15.0,\\\"blocking factor\\\":5,\\\"delay factor\\\":10.0},\\\"nameSub\\\":\\\"ECE 277\\\",\\\"id\\\":19,\\\"credits\\\":1,\\\"nameCanonical\\\":\\\"\\\"},{\\\"curriculum_requisites\\\":[{\\\"source_id\\\":13,\\\"target_id\\\":20,\\\"type\\\":\\\"CurriculumPrerequisite\\\"}],\\\"name\\\":\\\" \\\",\\\"metrics\\\":{\\\"centrality\\\":130,\\\"complexity\\\":29.0,\\\"blocking factor\\\":19,\\\"delay factor\\\":10.0},\\\"nameSub\\\":\\\"ECE 341R\\\",\\\"id\\\":20,\\\"credits\\\":3,\\\"nameCanonical\\\":\\\"\\\"},{\\\"curriculum_requisites\\\":[{\\\"source_id\\\":13,\\\"target_id\\\":21,\\\"type\\\":\\\"CurriculumPrerequisite\\\"},{\\\"source_id\\\":6,\\\"target_id\\\":21,\\\"type\\\":\\\"CurriculumPrerequisite\\\"},{\\\"source_id\\\":10,\\\"target_id\\\":21,\\\"type\\\":\\\"CurriculumPrerequisite\\\"}],\\\"name\\\":\\\" \\\",\\\"metrics\\\":{\\\"centrality\\\":0,\\\"complexity\\\":4.0,\\\"blocking factor\\\":0,\\\"delay factor\\\":4.0},\\\"nameSub\\\":\\\"CS 394R\\\",\\\"id\\\":21,\\\"credits\\\":3,\\\"nameCanonical\\\":\\\"\\\"}],\\\"id\\\":4},{\\\"name\\\":\\\"Term 5\\\",\\\"curriculum_items\\\":[{\\\"curriculum_requisites\\\":[{\\\"source_id\\\":20,\\\"target_id\\\":22,\\\"type\\\":\\\"CurriculumPrerequisite\\\"},{\\\"source_id\\\":14,\\\"target_id\\\":22,\\\"type\\\":\\\"CurriculumPrerequisite\\\"}],\\\"name\\\":\\\" \\\",\\\"metrics\\\":{\\\"centrality\\\":0,\\\"complexity\\\":5.0,\\\"blocking factor\\\":0,\\\"delay factor\\\":5.0},\\\"nameSub\\\":\\\"ECE 334\\\",\\\"id\\\":22,\\\"credits\\\":3,\\\"nameCanonical\\\":\\\"\\\"},{\\\"curriculum_requisites\\\":[{\\\"source_id\\\":18,\\\"target_id\\\":23,\\\"type\\\":\\\"CurriculumPrerequisite\\\"}],\\\"name\\\":\\\" \\\",\\\"metrics\\\":{\\\"centrality\\\":129,\\\"complexity\\\":18.0,\\\"blocking factor\\\":9,\\\"delay factor\\\":9.0},\\\"nameSub\\\":\\\"ECE 376\\\",\\\"id\\\":23,\\\"credits\\\":3,\\\"nameCanonical\\\":\\\"\\\"},{\\\"curriculum_requisites\\\":[{\\\"source_id\\\":23,\\\"target_id\\\":24,\\\"type\\\":\\\"CurriculumCorequisite\\\"},{\\\"source_id\\\":19,\\\"target_id\\\":24,\\\"type\\\":\\\"CurriculumPrerequisite\\\"}],\\\"name\\\":\\\" \\\",\\\"metrics\\\":{\\\"centrality\\\":0,\\\"complexity\\\":7.0,\\\"blocking factor\\\":0,\\\"delay factor\\\":7.0},\\\"nameSub\\\":\\\"ECE 377\\\",\\\"id\\\":24,\\\"credits\\\":1,\\\"nameCanonical\\\":\\\"\\\"},{\\\"curriculum_requisites\\\":[{\\\"source_id\\\":20,\\\"target_id\\\":25,\\\"type\\\":\\\"CurriculumPrerequisite\\\"}],\\\"name\\\":\\\" \\\",\\\"metrics\\\":{\\\"centrality\\\":20,\\\"complexity\\\":12.0,\\\"blocking factor\\\":5,\\\"delay factor\\\":7.0},\\\"nameSub\\\":\\\"ECE 380\\\",\\\"id\\\":25,\\\"credits\\\":3,\\\"nameCanonical\\\":\\\"\\\"},{\\\"curriculum_requisites\\\":[{\\\"source_id\\\":25,\\\"target_id\\\":26,\\\"type\\\":\\\"CurriculumCorequisite\\\"}],\\\"name\\\":\\\" \\\",\\\"metrics\\\":{\\\"centrality\\\":0,\\\"complexity\\\":6.0,\\\"blocking factor\\\":0,\\\"delay factor\\\":6.0},\\\"nameSub\\\":\\\"ECE 381\\\",\\\"id\\\":26,\\\"credits\\\":1,\\\"nameCanonical\\\":\\\"\\\"},{\\\"curriculum_requisites\\\":[{\\\"source_id\\\":11,\\\"target_id\\\":27,\\\"type\\\":\\\"CurriculumPrerequisite\\\"}],\\\"name\\\":\\\" \\\",\\\"metrics\\\":{\\\"centrality\\\":40,\\\"complexity\\\":12.0,\\\"blocking factor\\\":6,\\\"delay factor\\\":6.0},\\\"nameSub\\\":\\\"ECE 426\\\",\\\"id\\\":27,\\\"credits\\\":3,\\\"nameCanonical\\\":\\\"\\\"},{\\\"curriculum_requisites\\\":[{\\\"source_id\\\":27,\\\"target_id\\\":28,\\\"type\\\":\\\"CurriculumCorequisite\\\"},{\\\"source_id\\\":12,\\\"target_id\\\":28,\\\"type\\\":\\\"CurriculumPrerequisite\\\"}],\\\"name\\\":\\\" \\\",\\\"metrics\\\":{\\\"centrality\\\":44,\\\"complexity\\\":11.0,\\\"blocking factor\\\":5,\\\"delay factor\\\":6.0},\\\"nameSub\\\":\\\"ECE 427\\\",\\\"id\\\":28,\\\"credits\\\":1,\\\"nameCanonical\\\":\\\"\\\"}],\\\"id\\\":5},{\\\"name\\\":\\\"Term 6\\\",\\\"curriculum_items\\\":[{\\\"curriculum_requisites\\\":[{\\\"source_id\\\":20,\\\"target_id\\\":29,\\\"type\\\":\\\"CurriculumPrerequisite\\\"},{\\\"source_id\\\":14,\\\"target_id\\\":29,\\\"type\\\":\\\"CurriculumPrerequisite\\\"},{\\\"source_id\\\":23,\\\"target_id\\\":29,\\\"type\\\":\\\"CurriculumPrerequisite\\\"}],\\\"name\\\":\\\" \\\",\\\"metrics\\\":{\\\"centrality\\\":82,\\\"complexity\\\":12.0,\\\"blocking factor\\\":3,\\\"delay factor\\\":9.0},\\\"nameSub\\\":\\\"ECE 302\\\",\\\"id\\\":29,\\\"credits\\\":3,\\\"nameCanonical\\\":\\\"\\\"},{\\\"curriculum_requisites\\\":[{\\\"source_id\\\":29,\\\"target_id\\\":30,\\\"type\\\":\\\"CurriculumCorequisite\\\"}],\\\"name\\\":\\\" \\\",\\\"metrics\\\":{\\\"centrality\\\":0,\\\"complexity\\\":8.0,\\\"blocking factor\\\":0,\\\"delay factor\\\":8.0},\\\"nameSub\\\":\\\"ECE 303\\\",\\\"id\\\":30,\\\"credits\\\":1,\\\"nameCanonical\\\":\\\"\\\"},{\\\"curriculum_requisites\\\":[{\\\"source_id\\\":18,\\\"target_id\\\":31,\\\"type\\\":\\\"CurriculumPrerequisite\\\"}],\\\"name\\\":\\\" \\\",\\\"metrics\\\":{\\\"centrality\\\":53,\\\"complexity\\\":14.0,\\\"blocking factor\\\":4,\\\"delay factor\\\":10.0},\\\"nameSub\\\":\\\"ECE 330\\\",\\\"id\\\":31,\\\"credits\\\":3,\\\"nameCanonical\\\":\\\"\\\"},{\\\"curriculum_requisites\\\":[{\\\"source_id\\\":18,\\\"target_id\\\":32,\\\"type\\\":\\\"CurriculumPrerequisite\\\"},{\\\"source_id\\\":31,\\\"target_id\\\":32,\\\"type\\\":\\\"CurriculumCorequisite\\\"},{\\\"source_id\\\":19,\\\"target_id\\\":32,\\\"type\\\":\\\"CurriculumPrerequisite\\\"}],\\\"name\\\":\\\" \\\",\\\"metrics\\\":{\\\"centrality\\\":81,\\\"complexity\\\":13.0,\\\"blocking factor\\\":3,\\\"delay factor\\\":10.0},\\\"nameSub\\\":\\\"ECE 331\\\",\\\"id\\\":32,\\\"credits\\\":1,\\\"nameCanonical\\\":\\\"\\\"},{\\\"curriculum_requisites\\\":[{\\\"source_id\\\":34,\\\"target_id\\\":33,\\\"type\\\":\\\"CurriculumCorequisite\\\"},{\\\"source_id\\\":35,\\\"target_id\\\":33,\\\"type\\\":\\\"CurriculumCorequisite\\\"}],\\\"name\\\":\\\" \\\",\\\"metrics\\\":{\\\"centrality\\\":0,\\\"complexity\\\":6.0,\\\"blocking factor\\\":0,\\\"delay factor\\\":6.0},\\\"nameSub\\\":\\\"ECE 420\\\",\\\"id\\\":33,\\\"credits\\\":2,\\\"nameCanonical\\\":\\\"\\\"},{\\\"curriculum_requisites\\\":[{\\\"source_id\\\":27,\\\"target_id\\\":34,\\\"type\\\":\\\"CurriculumPrerequisite\\\"},{\\\"source_id\\\":28,\\\"target_id\\\":34,\\\"type\\\":\\\"CurriculumPrerequisite\\\"}],\\\"name\\\":\\\" \\\",\\\"metrics\\\":{\\\"centrality\\\":48,\\\"complexity\\\":10.0,\\\"blocking factor\\\":4,\\\"delay factor\\\":6.0},\\\"nameSub\\\":\\\"ECE 428R\\\",\\\"id\\\":34,\\\"credits\\\":3,\\\"nameCanonical\\\":\\\"\\\"},{\\\"curriculum_requisites\\\":[{\\\"source_id\\\":34,\\\"target_id\\\":35,\\\"type\\\":\\\"CurriculumCorequisite\\\"},{\\\"source_id\\\":27,\\\"target_id\\\":35,\\\"type\\\":\\\"CurriculumPrerequisite\\\"},{\\\"source_id\\\":28,\\\"target_id\\\":35,\\\"type\\\":\\\"CurriculumPrerequisite\\\"}],\\\"name\\\":\\\" \\\",\\\"metrics\\\":{\\\"centrality\\\":31,\\\"complexity\\\":7.0,\\\"blocking factor\\\":1,\\\"delay factor\\\":6.0},\\\"nameSub\\\":\\\"ECE 429\\\",\\\"id\\\":35,\\\"credits\\\":1,\\\"nameCanonical\\\":\\\"\\\"},{\\\"curriculum_requisites\\\":[{\\\"source_id\\\":23,\\\"target_id\\\":36,\\\"type\\\":\\\"CurriculumPrerequisite\\\"}],\\\"name\\\":\\\" \\\",\\\"metrics\\\":{\\\"centrality\\\":44,\\\"complexity\\\":10.0,\\\"blocking factor\\\":2,\\\"delay factor\\\":8.0},\\\"nameSub\\\":\\\"ECE 466\\\",\\\"id\\\":36,\\\"credits\\\":3,\\\"nameCanonical\\\":\\\"\\\"}],\\\"id\\\":6},{\\\"name\\\":\\\"Term 7\\\",\\\"curriculum_items\\\":[{\\\"curriculum_requisites\\\":[{\\\"source_id\\\":25,\\\"target_id\\\":37,\\\"type\\\":\\\"CurriculumPrerequisite\\\"}],\\\"name\\\":\\\" \\\",\\\"metrics\\\":{\\\"centrality\\\":7,\\\"complexity\\\":8.0,\\\"blocking factor\\\":1,\\\"delay factor\\\":7.0},\\\"nameSub\\\":\\\"ECE 358\\\",\\\"id\\\":37,\\\"credits\\\":3,\\\"nameCanonical\\\":\\\"\\\"},{\\\"curriculum_requisites\\\":[{\\\"source_id\\\":34,\\\"target_id\\\":38,\\\"type\\\":\\\"CurriculumPrerequisite\\\"},{\\\"source_id\\\":39,\\\"target_id\\\":38,\\\"type\\\":\\\"CurriculumCorequisite\\\"},{\\\"source_id\\\":29,\\\"target_id\\\":38,\\\"type\\\":\\\"CurriculumPrerequisite\\\"},{\\\"source_id\\\":25,\\\"target_id\\\":38,\\\"type\\\":\\\"CurriculumPrerequisite\\\"}],\\\"name\\\":\\\" \\\",\\\"metrics\\\":{\\\"centrality\\\":174,\\\"complexity\\\":11.0,\\\"blocking factor\\\":1,\\\"delay factor\\\":10.0},\\\"nameSub\\\":\\\"ECE 402\\\",\\\"id\\\":38,\\\"credits\\\":2,\\\"nameCanonical\\\":\\\"\\\"},{\\\"curriculum_requisites\\\":[{\\\"source_id\\\":32,\\\"target_id\\\":39,\\\"type\\\":\\\"CurriculumPrerequisite\\\"},{\\\"source_id\\\":31,\\\"target_id\\\":39,\\\"type\\\":\\\"CurriculumPrerequisite\\\"}],\\\"name\\\":\\\" \\\",\\\"metrics\\\":{\\\"centrality\\\":106,\\\"complexity\\\":12.0,\\\"blocking factor\\\":2,\\\"delay factor\\\":10.0},\\\"nameSub\\\":\\\"ECE 430\\\",\\\"id\\\":39,\\\"credits\\\":3,\\\"nameCanonical\\\":\\\"\\\"},{\\\"curriculum_requisites\\\":[{\\\"source_id\\\":23,\\\"target_id\\\":40,\\\"type\\\":\\\"CurriculumPrerequisite\\\"}],\\\"name\\\":\\\" \\\",\\\"metrics\\\":{\\\"centrality\\\":0,\\\"complexity\\\":7.0,\\\"blocking factor\\\":0,\\\"delay factor\\\":7.0},\\\"nameSub\\\":\\\"ECE 466\\\",\\\"id\\\":40,\\\"credits\\\":3,\\\"nameCanonical\\\":\\\"\\\"},{\\\"curriculum_requisites\\\":[],\\\"name\\\":\\\" \\\",\\\"metrics\\\":{\\\"centrality\\\":0,\\\"complexity\\\":1.0,\\\"blocking factor\\\":0,\\\"delay factor\\\":1.0},\\\"nameSub\\\":\\\"ANCH 308\\\",\\\"id\\\":41,\\\"credits\\\":3,\\\"nameCanonical\\\":\\\"\\\"},{\\\"curriculum_requisites\\\":[],\\\"name\\\":\\\" \\\",\\\"metrics\\\":{\\\"centrality\\\":0,\\\"complexity\\\":1.0,\\\"blocking factor\\\":0,\\\"delay factor\\\":1.0},\\\"nameSub\\\":\\\"DISC 300\\\",\\\"id\\\":42,\\\"credits\\\":3,\\\"nameCanonical\\\":\\\"\\\"}],\\\"id\\\":7},{\\\"name\\\":\\\"Term 8\\\",\\\"curriculum_items\\\":[{\\\"curriculum_requisites\\\":[],\\\"name\\\":\\\" \\\",\\\"metrics\\\":{\\\"centrality\\\":0,\\\"complexity\\\":1.0,\\\"blocking factor\\\":0,\\\"delay factor\\\":1.0},\\\"nameSub\\\":\\\"FOCUS A\\\",\\\"id\\\":43,\\\"credits\\\":3,\\\"nameCanonical\\\":\\\"\\\"},{\\\"curriculum_requisites\\\":[],\\\"name\\\":\\\" \\\",\\\"metrics\\\":{\\\"centrality\\\":0,\\\"complexity\\\":1.0,\\\"blocking factor\\\":0,\\\"delay factor\\\":1.0},\\\"nameSub\\\":\\\"FOCUS B\\\",\\\"id\\\":44,\\\"credits\\\":3,\\\"nameCanonical\\\":\\\"\\\"},{\\\"curriculum_requisites\\\":[{\\\"source_id\\\":38,\\\"target_id\\\":45,\\\"type\\\":\\\"CurriculumPrerequisite\\\"}],\\\"name\\\":\\\" \\\",\\\"metrics\\\":{\\\"centrality\\\":0,\\\"complexity\\\":10.0,\\\"blocking factor\\\":0,\\\"delay factor\\\":10.0},\\\"nameSub\\\":\\\"ECE 403\\\",\\\"id\\\":45,\\\"credits\\\":1,\\\"nameCanonical\\\":\\\"\\\"},{\\\"curriculum_requisites\\\":[{\\\"source_id\\\":36,\\\"target_id\\\":46,\\\"type\\\":\\\"CurriculumPrerequisite\\\"},{\\\"source_id\\\":37,\\\"target_id\\\":46,\\\"type\\\":\\\"CurriculumPrerequisite\\\"}],\\\"name\\\":\\\" \\\",\\\"metrics\\\":{\\\"centrality\\\":0,\\\"complexity\\\":8.0,\\\"blocking factor\\\":0,\\\"delay factor\\\":8.0},\\\"nameSub\\\":\\\"ECE 467\\\",\\\"id\\\":46,\\\"credits\\\":3,\\\"nameCanonical\\\":\\\"\\\"},{\\\"curriculum_requisites\\\":[{\\\"source_id\\\":36,\\\"target_id\\\":47,\\\"type\\\":\\\"CurriculumPrerequisite\\\"}],\\\"name\\\":\\\" \\\",\\\"metrics\\\":{\\\"centrality\\\":0,\\\"complexity\\\":8.0,\\\"blocking factor\\\":0,\\\"delay factor\\\":8.0},\\\"nameSub\\\":\\\"ECE 472\\\",\\\"id\\\":47,\\\"credits\\\":3,\\\"nameCanonical\\\":\\\"\\\"}],\\\"id\\\":8}],\\\"institution\\\":\\\"\\\"}},\\\"*\\\"); window.removeEventListener(\\\"message\\\",window.messageReceived); window.messageReceived=(function (event){return (event.data.curriculum!==undefined) ? (WebIO.setval({\\\"name\\\":\\\"curriculum-data\\\",\\\"scope\\\":\\\"6147914626071104594\\\",\\\"id\\\":\\\"16419708132536982699\\\",\\\"type\\\":\\\"observable\\\"},event.data.curriculum)) : undefined}); return window.addEventListener(\\\"message\\\",window.messageReceived)})\")), :style => Dict(:padding => \"0\", :height => \"100vh\", :margin => \"0\", :border => \"none\", :width => \"100%\"))), Dict{String, Tuple{Observables.AbstractObservable, Union{Nothing, Bool}}}(\"curriculum-data\" => (Observable{Dict{String, Any}} with 1 listeners. Value:\n",
       "Dict{String, Any}(\"options\" => Dict{String, Any}(\"hideTerms\" => false, \"edit\" => false), \"curriculum\" => Dict{String, Any}(\"name\" => \"Curriculum\", \"dp_name\" => \"University of Missouri--Kansas City.csv\", \"curriculum_terms\" => Dict{String, Any}[Dict(\"name\" => \"Term 1\", \"curriculum_items\" => Dict{String, Any}[Dict(\"curriculum_requisites\" => Dict{String, Any}[], \"name\" => \" \", \"metrics\" => Dict{String, Any}(\"centrality\" => 0, \"complexity\" => 1.0, \"blocking factor\" => 0, \"delay factor\" => 1.0), \"nameSub\" => \"ANCH 150\", \"id\" => 1, \"credits\" => 3, \"nameCanonical\" => \"\"), Dict(\"curriculum_requisites\" => Dict{String, Any}[], \"name\" => \" \", \"metrics\" => Dict{String, Any}(\"centrality\" => 0, \"complexity\" => 1.0, \"blocking factor\" => 0, \"delay factor\" => 1.0), \"nameSub\" => \"CHEM 211\", \"id\" => 2, \"credits\" => 5, \"nameCanonical\" => \"\"), Dict(\"curriculum_requisites\" => Dict{String, Any}[], \"name\" => \" \", \"metrics\" => Dict{String, Any}(\"centrality\" => 0, \"complexity\" => 1.0, \"blocking factor\" => 0, \"delay factor\" => 1.0), \"nameSub\" => \"DISC 100\", \"id\" => 3, \"credits\" => 3, \"nameCanonical\" => \"\"), Dict(\"curriculum_requisites\" => Dict{String, Any}[], \"name\" => \" \", \"metrics\" => Dict{String, Any}(\"centrality\" => 0, \"complexity\" => 1.0, \"blocking factor\" => 0, \"delay factor\" => 1.0), \"nameSub\" => \"ECE 130\", \"id\" => 4, \"credits\" => 3, \"nameCanonical\" => \"\"), Dict(\"curriculum_requisites\" => Dict{String, Any}[], \"name\" => \" \", \"metrics\" => Dict{String, Any}(\"centrality\" => 0, \"complexity\" => 37.0, \"blocking factor\" => 27, \"delay factor\" => 10.0), \"nameSub\" => \"MATH 210\", \"id\" => 5, \"credits\" => 4, \"nameCanonical\" => \"\")], \"id\" => 1), Dict(\"name\" => \"Term 2\", \"curriculum_items\" => Dict{String, Any}[Dict(\"curriculum_requisites\" => Dict{String, Any}[Dict(\"source_id\" => 5, \"target_id\" => 6, \"type\" => \"CurriculumPrerequisite\")], \"name\" => \" \", \"metrics\" => Dict{String, Any}(\"centrality\" => 236, \"complexity\" => 34.0, \"blocking factor\" => 24, \"delay factor\" => 10.0), \"nameSub\" => \"MATH 220\", \"id\" => 6, \"credits\" => 4, \"nameCanonical\" => \"\"), Dict(\"curriculum_requisites\" => Dict{String, Any}[Dict(\"source_id\" => 5, \"target_id\" => 7, \"type\" => \"CurriculumPrerequisite\")], \"name\" => \" \", \"metrics\" => Dict{String, Any}(\"centrality\" => 99, \"complexity\" => 27.0, \"blocking factor\" => 18, \"delay factor\" => 9.0), \"nameSub\" => \"PHYS 240\", \"id\" => 7, \"credits\" => 5, \"nameCanonical\" => \"\"), Dict(\"curriculum_requisites\" => Dict{String, Any}[], \"name\" => \" \", \"metrics\" => Dict{String, Any}(\"centrality\" => 0, \"complexity\" => 1.0, \"blocking factor\" => 0, \"delay factor\" => 1.0), \"nameSub\" => \"ANCH 200\", \"id\" => 8, \"credits\" => 3, \"nameCanonical\" => \"\"), Dict(\"curriculum_requisites\" => Dict{String, Any}[], \"name\" => \" \", \"metrics\" => Dict{String, Any}(\"centrality\" => 0, \"complexity\" => 1.0, \"blocking factor\" => 0, \"delay factor\" => 1.0), \"nameSub\" => \"DISC 200\", \"id\" => 9, \"credits\" => 3, \"nameCanonical\" => \"\")], \"id\" => 2), Dict(\"name\" => \"Term 3\", \"curriculum_items\" => Dict{String, Any}[Dict(\"curriculum_requisites\" => Dict{String, Any}[Dict(\"source_id\" => 5, \"target_id\" => 10, \"type\" => \"CurriculumPrerequisite\")], \"name\" => \" \", \"metrics\" => Dict{String, Any}(\"centrality\" => 3, \"complexity\" => 4.0, \"blocking factor\" => 1, \"delay factor\" => 3.0), \"nameSub\" => \"ECE 216\", \"id\" => 10, \"credits\" => 4, \"nameCanonical\" => \"\"), Dict(\"curriculum_requisites\" => Dict{String, Any}[], \"name\" => \" \", \"metrics\" => Dict{String, Any}(\"centrality\" => 0, \"complexity\" => 16.0, \"blocking factor\" => 10, \"delay factor\" => 6.0), \"nameSub\" => \"ECE 226\", \"id\" => 11, \"credits\" => 3, \"nameCanonical\" => \"\"), Dict(\"curriculum_requisites\" => Dict{String, Any}[Dict(\"source_id\" => 11, \"target_id\" => 12, \"type\" => \"CurriculumCorequisite\")], \"name\" => \" \", \"metrics\" => Dict{String, Any}(\"centrality\" => 29, \"complexity\" => 14.0, \"blocking factor\" => 8, \"delay factor\" => 6.0), \"nameSub\" => \"ECE 227\", \"id\" => 12, \"credits\" => 1, \"nameCanonical\" => \"\"), Dict(\"curriculum_requisites\" => Dict{String, Any}[Dict(\"source_id\" => 6, \"target_id\" => 13, \"type\" => \"CurriculumPrerequisite\")], \"name\" => \" \", \"metrics\" => Dict{String, Any}(\"centrality\" => 134, \"complexity\" => 31.0, \"blocking factor\" => 21, \"delay factor\" => 10.0), \"nameSub\" => \"ECE 241\", \"id\" => 13, \"credits\" => 3, \"nameCanonical\" => \"\"), Dict(\"curriculum_requisites\" => Dict{String, Any}[Dict(\"source_id\" => 6, \"target_id\" => 14, \"type\" => \"CurriculumPrerequisite\"), Dict(\"source_id\" => 7, \"target_id\" => 14, \"type\" => \"CurriculumPrerequisite\")], \"name\" => \" \", \"metrics\" => Dict{String, Any}(\"centrality\" => 192, \"complexity\" => 25.0, \"blocking factor\" => 16, \"delay factor\" => 9.0), \"nameSub\" => \"PHYS 250\", \"id\" => 14, \"credits\" => 5, \"nameCanonical\" => \"\")], \"id\" => 3), Dict(\"name\" => \"Term 4\", \"curriculum_items\" => Dict{String, Any}[Dict(\"curriculum_requisites\" => Dict{String, Any}[Dict(\"source_id\" => 11, \"target_id\" => 15, \"type\" => \"CurriculumPrerequisite\"), Dict(\"source_id\" => 12, \"target_id\" => 15, \"type\" => \"CurriculumPrerequisite\")], \"name\" => \" \", \"metrics\" => Dict{String, Any}(\"centrality\" => 7, \"complexity\" => 5.0, \"blocking factor\" => 1, \"delay factor\" => 4.0), \"nameSub\" => \"ECE 228\", \"id\" => 15, \"credits\" => 3, \"nameCanonical\" => \"\"), Dict(\"curriculum_requisites\" => Dict{String, Any}[Dict(\"source_id\" => 15, \"target_id\" => 16, \"type\" => \"CurriculumCorequisite\"), Dict(\"source_id\" => 11, \"target_id\" => 16, \"type\" => \"CurriculumPrerequisite\"), Dict(\"source_id\" => 12, \"target_id\" => 16, \"type\" => \"CurriculumPrerequisite\")], \"name\" => \" \", \"metrics\" => Dict{String, Any}(\"centrality\" => 0, \"complexity\" => 4.0, \"blocking factor\" => 0, \"delay factor\" => 4.0), \"nameSub\" => \"ECE 229\", \"id\" => 16, \"credits\" => 1, \"nameCanonical\" => \"\"), Dict(\"curriculum_requisites\" => Dict{String, Any}[Dict(\"source_id\" => 6, \"target_id\" => 17, \"type\" => \"CurriculumPrerequisite\"), Dict(\"source_id\" => 7, \"target_id\" => 17, \"type\" => \"CurriculumPrerequisite\")], \"name\" => \" \", \"metrics\" => Dict{String, Any}(\"centrality\" => 0, \"complexity\" => 3.0, \"blocking factor\" => 0, \"delay factor\" => 3.0), \"nameSub\" => \"ECE 250\", \"id\" => 17, \"credits\" => 3, \"nameCanonical\" => \"\"), Dict(\"curriculum_requisites\" => Dict{String, Any}[Dict(\"source_id\" => 20, \"target_id\" => 18, \"type\" => \"CurriculumCorequisite\"), Dict(\"source_id\" => 14, \"target_id\" => 18, \"type\" => \"CurriculumPrerequisite\")], \"name\" => \" \", \"metrics\" => Dict{String, Any}(\"centrality\" => 254, \"complexity\" => 24.0, \"blocking factor\" => 14, \"delay factor\" => 10.0), \"nameSub\" => \"ECE 276\", \"id\" => 18, \"credits\" => 3, \"nameCanonical\" => \"\"), Dict(\"curriculum_requisites\" => Dict{String, Any}[Dict(\"source_id\" => 18, \"target_id\" => 19, \"type\" => \"CurriculumCorequisite\")], \"name\" => \" \", \"metrics\" => Dict{String, Any}(\"centrality\" => 47, \"complexity\" => 15.0, \"blocking factor\" => 5, \"delay factor\" => 10.0), \"nameSub\" => \"ECE 277\", \"id\" => 19, \"credits\" => 1, \"nameCanonical\" => \"\"), Dict(\"curriculum_requisites\" => Dict{String, Any}[Dict(\"source_id\" => 13, \"target_id\" => 20, \"type\" => \"CurriculumPrerequisite\")], \"name\" => \" \", \"metrics\" => Dict{String, Any}(\"centrality\" => 130, \"complexity\" => 29.0, \"blocking factor\" => 19, \"delay factor\" => 10.0), \"nameSub\" => \"ECE 341R\", \"id\" => 20, \"credits\" => 3, \"nameCanonical\" => \"\"), Dict(\"curriculum_requisites\" => Dict{String, Any}[Dict(\"source_id\" => 13, \"target_id\" => 21, \"type\" => \"CurriculumPrerequisite\"), Dict(\"source_id\" => 6, \"target_id\" => 21, \"type\" => \"CurriculumPrerequisite\"), Dict(\"source_id\" => 10, \"target_id\" => 21, \"type\" => \"CurriculumPrerequisite\")], \"name\" => \" \", \"metrics\" => Dict{String, Any}(\"centrality\" => 0, \"complexity\" => 4.0, \"blocking factor\" => 0, \"delay factor\" => 4.0), \"nameSub\" => \"CS 394R\", \"id\" => 21, \"credits\" => 3, \"nameCanonical\" => \"\")], \"id\" => 4), Dict(\"name\" => \"Term 5\", \"curriculum_items\" => Dict{String, Any}[Dict(\"curriculum_requisites\" => Dict{String, Any}[Dict(\"source_id\" => 20, \"target_id\" => 22, \"type\" => \"CurriculumPrerequisite\"), Dict(\"source_id\" => 14, \"target_id\" => 22, \"type\" => \"CurriculumPrerequisite\")], \"name\" => \" \", \"metrics\" => Dict{String, Any}(\"centrality\" => 0, \"complexity\" => 5.0, \"blocking factor\" => 0, \"delay factor\" => 5.0), \"nameSub\" => \"ECE 334\", \"id\" => 22, \"credits\" => 3, \"nameCanonical\" => \"\"), Dict(\"curriculum_requisites\" => Dict{String, Any}[Dict(\"source_id\" => 18, \"target_id\" => 23, \"type\" => \"CurriculumPrerequisite\")], \"name\" => \" \", \"metrics\" => Dict{String, Any}(\"centrality\" => 129, \"complexity\" => 18.0, \"blocking factor\" => 9, \"delay factor\" => 9.0), \"nameSub\" => \"ECE 376\", \"id\" => 23, \"credits\" => 3, \"nameCanonical\" => \"\"), Dict(\"curriculum_requisites\" => Dict{String, Any}[Dict(\"source_id\" => 23, \"target_id\" => 24, \"type\" => \"CurriculumCorequisite\"), Dict(\"source_id\" => 19, \"target_id\" => 24, \"type\" => \"CurriculumPrerequisite\")], \"name\" => \" \", \"metrics\" => Dict{String, Any}(\"centrality\" => 0, \"complexity\" => 7.0, \"blocking factor\" => 0, \"delay factor\" => 7.0), \"nameSub\" => \"ECE 377\", \"id\" => 24, \"credits\" => 1, \"nameCanonical\" => \"\"), Dict(\"curriculum_requisites\" => Dict{String, Any}[Dict(\"source_id\" => 20, \"target_id\" => 25, \"type\" => \"CurriculumPrerequisite\")], \"name\" => \" \", \"metrics\" => Dict{String, Any}(\"centrality\" => 20, \"complexity\" => 12.0, \"blocking factor\" => 5, \"delay factor\" => 7.0), \"nameSub\" => \"ECE 380\", \"id\" => 25, \"credits\" => 3, \"nameCanonical\" => \"\"), Dict(\"curriculum_requisites\" => Dict{String, Any}[Dict(\"source_id\" => 25, \"target_id\" => 26, \"type\" => \"CurriculumCorequisite\")], \"name\" => \" \", \"metrics\" => Dict{String, Any}(\"centrality\" => 0, \"complexity\" => 6.0, \"blocking factor\" => 0, \"delay factor\" => 6.0), \"nameSub\" => \"ECE 381\", \"id\" => 26, \"credits\" => 1, \"nameCanonical\" => \"\"), Dict(\"curriculum_requisites\" => Dict{String, Any}[Dict(\"source_id\" => 11, \"target_id\" => 27, \"type\" => \"CurriculumPrerequisite\")], \"name\" => \" \", \"metrics\" => Dict{String, Any}(\"centrality\" => 40, \"complexity\" => 12.0, \"blocking factor\" => 6, \"delay factor\" => 6.0), \"nameSub\" => \"ECE 426\", \"id\" => 27, \"credits\" => 3, \"nameCanonical\" => \"\"), Dict(\"curriculum_requisites\" => Dict{String, Any}[Dict(\"source_id\" => 27, \"target_id\" => 28, \"type\" => \"CurriculumCorequisite\"), Dict(\"source_id\" => 12, \"target_id\" => 28, \"type\" => \"CurriculumPrerequisite\")], \"name\" => \" \", \"metrics\" => Dict{String, Any}(\"centrality\" => 44, \"complexity\" => 11.0, \"blocking factor\" => 5, \"delay factor\" => 6.0), \"nameSub\" => \"ECE 427\", \"id\" => 28, \"credits\" => 1, \"nameCanonical\" => \"\")], \"id\" => 5), Dict(\"name\" => \"Term 6\", \"curriculum_items\" => Dict{String, Any}[Dict(\"curriculum_requisites\" => Dict{String, Any}[Dict(\"source_id\" => 20, \"target_id\" => 29, \"type\" => \"CurriculumPrerequisite\"), Dict(\"source_id\" => 14, \"target_id\" => 29, \"type\" => \"CurriculumPrerequisite\"), Dict(\"source_id\" => 23, \"target_id\" => 29, \"type\" => \"CurriculumPrerequisite\")], \"name\" => \" \", \"metrics\" => Dict{String, Any}(\"centrality\" => 82, \"complexity\" => 12.0, \"blocking factor\" => 3, \"delay factor\" => 9.0), \"nameSub\" => \"ECE 302\", \"id\" => 29, \"credits\" => 3, \"nameCanonical\" => \"\"), Dict(\"curriculum_requisites\" => Dict{String, Any}[Dict(\"source_id\" => 29, \"target_id\" => 30, \"type\" => \"CurriculumCorequisite\")], \"name\" => \" \", \"metrics\" => Dict{String, Any}(\"centrality\" => 0, \"complexity\" => 8.0, \"blocking factor\" => 0, \"delay factor\" => 8.0), \"nameSub\" => \"ECE 303\", \"id\" => 30, \"credits\" => 1, \"nameCanonical\" => \"\"), Dict(\"curriculum_requisites\" => Dict{String, Any}[Dict(\"source_id\" => 18, \"target_id\" => 31, \"type\" => \"CurriculumPrerequisite\")], \"name\" => \" \", \"metrics\" => Dict{String, Any}(\"centrality\" => 53, \"complexity\" => 14.0, \"blocking factor\" => 4, \"delay factor\" => 10.0), \"nameSub\" => \"ECE 330\", \"id\" => 31, \"credits\" => 3, \"nameCanonical\" => \"\"), Dict(\"curriculum_requisites\" => Dict{String, Any}[Dict(\"source_id\" => 18, \"target_id\" => 32, \"type\" => \"CurriculumPrerequisite\"), Dict(\"source_id\" => 31, \"target_id\" => 32, \"type\" => \"CurriculumCorequisite\"), Dict(\"source_id\" => 19, \"target_id\" => 32, \"type\" => \"CurriculumPrerequisite\")], \"name\" => \" \", \"metrics\" => Dict{String, Any}(\"centrality\" => 81, \"complexity\" => 13.0, \"blocking factor\" => 3, \"delay factor\" => 10.0), \"nameSub\" => \"ECE 331\", \"id\" => 32, \"credits\" => 1, \"nameCanonical\" => \"\"), Dict(\"curriculum_requisites\" => Dict{String, Any}[Dict(\"source_id\" => 34, \"target_id\" => 33, \"type\" => \"CurriculumCorequisite\"), Dict(\"source_id\" => 35, \"target_id\" => 33, \"type\" => \"CurriculumCorequisite\")], \"name\" => \" \", \"metrics\" => Dict{String, Any}(\"centrality\" => 0, \"complexity\" => 6.0, \"blocking factor\" => 0, \"delay factor\" => 6.0), \"nameSub\" => \"ECE 420\", \"id\" => 33, \"credits\" => 2, \"nameCanonical\" => \"\"), Dict(\"curriculum_requisites\" => Dict{String, Any}[Dict(\"source_id\" => 27, \"target_id\" => 34, \"type\" => \"CurriculumPrerequisite\"), Dict(\"source_id\" => 28, \"target_id\" => 34, \"type\" => \"CurriculumPrerequisite\")], \"name\" => \" \", \"metrics\" => Dict{String, Any}(\"centrality\" => 48, \"complexity\" => 10.0, \"blocking factor\" => 4, \"delay factor\" => 6.0), \"nameSub\" => \"ECE 428R\", \"id\" => 34, \"credits\" => 3, \"nameCanonical\" => \"\"), Dict(\"curriculum_requisites\" => Dict{String, Any}[Dict(\"source_id\" => 34, \"target_id\" => 35, \"type\" => \"CurriculumCorequisite\"), Dict(\"source_id\" => 27, \"target_id\" => 35, \"type\" => \"CurriculumPrerequisite\"), Dict(\"source_id\" => 28, \"target_id\" => 35, \"type\" => \"CurriculumPrerequisite\")], \"name\" => \" \", \"metrics\" => Dict{String, Any}(\"centrality\" => 31, \"complexity\" => 7.0, \"blocking factor\" => 1, \"delay factor\" => 6.0), \"nameSub\" => \"ECE 429\", \"id\" => 35, \"credits\" => 1, \"nameCanonical\" => \"\"), Dict(\"curriculum_requisites\" => Dict{String, Any}[Dict(\"source_id\" => 23, \"target_id\" => 36, \"type\" => \"CurriculumPrerequisite\")], \"name\" => \" \", \"metrics\" => Dict{String, Any}(\"centrality\" => 44, \"complexity\" => 10.0, \"blocking factor\" => 2, \"delay factor\" => 8.0), \"nameSub\" => \"ECE 466\", \"id\" => 36, \"credits\" => 3, \"nameCanonical\" => \"\")], \"id\" => 6), Dict(\"name\" => \"Term 7\", \"curriculum_items\" => Dict{String, Any}[Dict(\"curriculum_requisites\" => Dict{String, Any}[Dict(\"source_id\" => 25, \"target_id\" => 37, \"type\" => \"CurriculumPrerequisite\")], \"name\" => \" \", \"metrics\" => Dict{String, Any}(\"centrality\" => 7, \"complexity\" => 8.0, \"blocking factor\" => 1, \"delay factor\" => 7.0), \"nameSub\" => \"ECE 358\", \"id\" => 37, \"credits\" => 3, \"nameCanonical\" => \"\"), Dict(\"curriculum_requisites\" => Dict{String, Any}[Dict(\"source_id\" => 34, \"target_id\" => 38, \"type\" => \"CurriculumPrerequisite\"), Dict(\"source_id\" => 39, \"target_id\" => 38, \"type\" => \"CurriculumCorequisite\"), Dict(\"source_id\" => 29, \"target_id\" => 38, \"type\" => \"CurriculumPrerequisite\"), Dict(\"source_id\" => 25, \"target_id\" => 38, \"type\" => \"CurriculumPrerequisite\")], \"name\" => \" \", \"metrics\" => Dict{String, Any}(\"centrality\" => 174, \"complexity\" => 11.0, \"blocking factor\" => 1, \"delay factor\" => 10.0), \"nameSub\" => \"ECE 402\", \"id\" => 38, \"credits\" => 2, \"nameCanonical\" => \"\"), Dict(\"curriculum_requisites\" => Dict{String, Any}[Dict(\"source_id\" => 32, \"target_id\" => 39, \"type\" => \"CurriculumPrerequisite\"), Dict(\"source_id\" => 31, \"target_id\" => 39, \"type\" => \"CurriculumPrerequisite\")], \"name\" => \" \", \"metrics\" => Dict{String, Any}(\"centrality\" => 106, \"complexity\" => 12.0, \"blocking factor\" => 2, \"delay factor\" => 10.0), \"nameSub\" => \"ECE 430\", \"id\" => 39, \"credits\" => 3, \"nameCanonical\" => \"\"), Dict(\"curriculum_requisites\" => Dict{String, Any}[Dict(\"source_id\" => 23, \"target_id\" => 40, \"type\" => \"CurriculumPrerequisite\")], \"name\" => \" \", \"metrics\" => Dict{String, Any}(\"centrality\" => 0, \"complexity\" => 7.0, \"blocking factor\" => 0, \"delay factor\" => 7.0), \"nameSub\" => \"ECE 466\", \"id\" => 40, \"credits\" => 3, \"nameCanonical\" => \"\"), Dict(\"curriculum_requisites\" => Dict{String, Any}[], \"name\" => \" \", \"metrics\" => Dict{String, Any}(\"centrality\" => 0, \"complexity\" => 1.0, \"blocking factor\" => 0, \"delay factor\" => 1.0), \"nameSub\" => \"ANCH 308\", \"id\" => 41, \"credits\" => 3, \"nameCanonical\" => \"\"), Dict(\"curriculum_requisites\" => Dict{String, Any}[], \"name\" => \" \", \"metrics\" => Dict{String, Any}(\"centrality\" => 0, \"complexity\" => 1.0, \"blocking factor\" => 0, \"delay factor\" => 1.0), \"nameSub\" => \"DISC 300\", \"id\" => 42, \"credits\" => 3, \"nameCanonical\" => \"\")], \"id\" => 7), Dict(\"name\" => \"Term 8\", \"curriculum_items\" => Dict{String, Any}[Dict(\"curriculum_requisites\" => Dict{String, Any}[], \"name\" => \" \", \"metrics\" => Dict{String, Any}(\"centrality\" => 0, \"complexity\" => 1.0, \"blocking factor\" => 0, \"delay factor\" => 1.0), \"nameSub\" => \"FOCUS A\", \"id\" => 43, \"credits\" => 3, \"nameCanonical\" => \"\"), Dict(\"curriculum_requisites\" => Dict{String, Any}[], \"name\" => \" \", \"metrics\" => Dict{String, Any}(\"centrality\" => 0, \"complexity\" => 1.0, \"blocking factor\" => 0, \"delay factor\" => 1.0), \"nameSub\" => \"FOCUS B\", \"id\" => 44, \"credits\" => 3, \"nameCanonical\" => \"\"), Dict(\"curriculum_requisites\" => Dict{String, Any}[Dict(\"source_id\" => 38, \"target_id\" => 45, \"type\" => \"CurriculumPrerequisite\")], \"name\" => \" \", \"metrics\" => Dict{String, Any}(\"centrality\" => 0, \"complexity\" => 10.0, \"blocking factor\" => 0, \"delay factor\" => 10.0), \"nameSub\" => \"ECE 403\", \"id\" => 45, \"credits\" => 1, \"nameCanonical\" => \"\"), Dict(\"curriculum_requisites\" => Dict{String, Any}[Dict(\"source_id\" => 36, \"target_id\" => 46, \"type\" => \"CurriculumPrerequisite\"), Dict(\"source_id\" => 37, \"target_id\" => 46, \"type\" => \"CurriculumPrerequisite\")], \"name\" => \" \", \"metrics\" => Dict{String, Any}(\"centrality\" => 0, \"complexity\" => 8.0, \"blocking factor\" => 0, \"delay factor\" => 8.0), \"nameSub\" => \"ECE 467\", \"id\" => 46, \"credits\" => 3, \"nameCanonical\" => \"\"), Dict(\"curriculum_requisites\" => Dict{String, Any}[Dict(\"source_id\" => 36, \"target_id\" => 47, \"type\" => \"CurriculumPrerequisite\")], \"name\" => \" \", \"metrics\" => Dict{String, Any}(\"centrality\" => 0, \"complexity\" => 8.0, \"blocking factor\" => 0, \"delay factor\" => 8.0), \"nameSub\" => \"ECE 472\", \"id\" => 47, \"credits\" => 3, \"nameCanonical\" => \"\")], \"id\" => 8)], \"institution\" => \"\")), nothing)), Set{String}(), nothing, WebIO.Asset[], Dict{Any, Any}(), WebIO.ConnectionPool(Channel{Any}(32), Set{WebIO.AbstractConnection}(), Condition(Base.InvasiveLinkedList{Task}(Task (runnable) @0x0000000123702ba0, Task (runnable) @0x0000000123702ba0), Base.AlwaysLockedST(1))), WebIO.JSString[])"
      ]
     },
     "execution_count": 3,
     "metadata": {
      "application/vnd.webio.node+json": {
       "kernelId": "c8ecfede-c2ba-4c95-b320-9f22d2cc659e"
      }
     },
     "output_type": "execute_result"
    }
   ],
   "source": [
    "visualize(read_csv(\"./tier_bottom/University of Missouri--Kansas City.csv\"), notebook=true)"
   ]
  },
  {
   "cell_type": "markdown",
   "metadata": {},
   "source": [
    "Notice that the overall curricular complexity of the second degree plan is more than three times that of the first; however, the U.S. News & World Report ranking of the first school is much higher than that of the second.  The question we answer here is whether or not that relationship holds in general."
   ]
  },
  {
   "cell_type": "markdown",
   "metadata": {},
   "source": [
    "## Methology\n",
    "The most well-known rankings in higher education are conducted by the U.S. News & World Report. In this study we used the rankings provided by the U.S. News & World Report 2018 Best Undergraduate Engineering Programs survey as a proxy for program quality \\cite{BaBo:10,By:18}.  That is, for the purpose of this study, we assume that the \"best\" engineering programs are synonymous with the highest quality engineering programs.  We acknowledge the concerns that are routinely expressed concerning these rankings \\cite{}.  However, it should be noted that this study uses aggregations of schools with tiers, and the statistics associated with the aggregations.  Thus, the specific rankings of the schools within the tiers are irrelevant, all that matters is the tier in which a school is placed. Upon inspection of the schools within each tier, we believe that knowledgable and impartial observes would agree that the three tiers constructed in this study are highly correlated with the program quality.\n",
    "\n",
    "To appear on a U.S. News & World Report undergraduate engineering survey, a school must have at least one undergraduate engineering program that is accredited by ABET. Two surveys are conducted, one for schools whose highest engineering degree offered is a doctorate and another for schools whose highest engineering degree offered is a bachelor's or master's. For this study we consider the ranking provided by the former; that is, the ranking of doctoral institutions. This ranking is based solely on the peer assessment provided by deans and senior faculty members at doctoral institutions, and involves asking these survey participants to rate each program they are familiar with on a scale from 1 (marginal) to 5 (distinguished). Two peer assessment surveys are sent to each ABET-accredited engineering program at these schools, with a response rate of approximately 58%.  U.S. News & World Report uses the two most recent years' responses to calculate weighted average scores of programs, which determines the ranking. The U.S. News & World Report 2018 Best Undergraduate Engineering Programs rankings for doctoral institutions lists 205 schools, with a formal ranking designation given to the programs in the 1-177 range. Programs ranked lower than 177 are listed alphabetically and lumped into a ranking category. "
   ]
  },
  {
   "cell_type": "markdown",
   "metadata": {},
   "source": [
    "## Experimental Design\n",
    "The question of interest in this study is whether or not curricular complexity is related to program quality. In order to answer this question, we constructed an analysis of variance (ANOVA) experiment that involved partitioning the schools in the U.S. News & World Report 2018 Best Undergraduate Engineering Programs rankings according to their decile within the ranking. From these three groups were created as follows. A *top tier* of schools defined as those in the first decile of the ranking.  A *mid tier*, defined as the set of schools in the fifth and sixth deciles of the ranking that are equidistant from first to last ranked schools. Due to the large number of ties that occur in the middle of the ranking, this resulted in selecting only those schools tied for 82-nd and 99-nth in the ranking, for a total of 26 schools. A *bottom tier* of schools comprised of the schools ranked below 177, which spans approximately three deciles. The null hypothesis is:\n",
    "\n",
    "    \"There is no difference between the mean values of the curricular complexities of those schools belonging \n",
    "     to the top, mid and bottom tiers.\" \n",
    "\n",
    "The alternative hypothesis is then: \n",
    "\n",
    "    \"At least one of the curricular complexity mean values of a school tier differs significantly from the \n",
    "     means of the other two tiers.\"\n",
    "     \n",
    "Histograms showing the curricular complexity distributions for the random samples drawn from each of the three tiers are shown below."
   ]
  },
  {
   "cell_type": "code",
   "execution_count": 4,
   "metadata": {},
   "outputs": [],
   "source": [
    "tier_top_files = glob(\"*\", \"tier_top\")\n",
    "tier_middle_files = glob(\"*\", \"tier_middle\")\n",
    "tier_bottom_files = glob(\"*\", \"tier_bottom\")\n",
    "files = vcat(tier_top_files, tier_middle_files, tier_bottom_files)\n",
    "\n",
    "curriculum = Dict{String, Curriculum}()\n",
    "for csv_filepath in files\n",
    "    dp = read_csv(csv_filepath)\n",
    "    complexity(dp.curriculum)\n",
    "    curriculum[csv_filepath] = dp.curriculum\n",
    "end"
   ]
  },
  {
   "cell_type": "code",
   "execution_count": 5,
   "metadata": {},
   "outputs": [
    {
     "name": "stdout",
     "output_type": "stream",
     "text": [
      "Virginia Polytechnic Institute and State University => 410.0\n",
      "University of California--Los Angeles => 234.89999999999984\n",
      "Cornel University => 122.0\n",
      "Columbia University => 251.0\n",
      "California Institute of Technology => 85.50000000000006\n",
      "Northwestern University => 208.0\n",
      "Princeton University => 77.0\n",
      "Duke University => 133.0\n",
      "Johns Hopkins University => 181.0\n",
      "Purdue University => 249.0\n",
      "University of California--San Diego => 177.69999999999987\n",
      "University of California--Berkeley => 57.300000000000054\n",
      "University of Michigan--Ann Arbor => 174.0\n",
      "University of Illinois--Urbana-Champaign => 180.0\n",
      "Stanford University => 88.80000000000004\n",
      "Rice University => 153.0\n",
      "Carnegie Mellon University => 142.0\n",
      "University of Texas--Austin => 175.0\n",
      "Texas AM University--College Station => 373.0\n",
      "University of Wisconsin => 284.0\n",
      "Georgia Institute of Technology => 287.0\n",
      "Avg. curricular complexity = 192.53\n"
     ]
    },
    {
     "data": {
      "image/svg+xml": [
       "<?xml version=\"1.0\" encoding=\"utf-8\"?>\n",
       "<svg xmlns=\"http://www.w3.org/2000/svg\" xmlns:xlink=\"http://www.w3.org/1999/xlink\" width=\"600\" height=\"400\" viewBox=\"0 0 2400 1600\">\n",
       "<defs>\n",
       "  <clipPath id=\"clip010\">\n",
       "    <rect x=\"0\" y=\"0\" width=\"2400\" height=\"1600\"/>\n",
       "  </clipPath>\n",
       "</defs>\n",
       "<path clip-path=\"url(#clip010)\" d=\"\n",
       "M0 1600 L2400 1600 L2400 0 L0 0  Z\n",
       "  \" fill=\"#ffffff\" fill-rule=\"evenodd\" fill-opacity=\"1\"/>\n",
       "<defs>\n",
       "  <clipPath id=\"clip011\">\n",
       "    <rect x=\"480\" y=\"0\" width=\"1681\" height=\"1600\"/>\n",
       "  </clipPath>\n",
       "</defs>\n",
       "<path clip-path=\"url(#clip010)\" d=\"\n",
       "M247.459 1423.18 L2352.76 1423.18 L2352.76 123.472 L247.459 123.472  Z\n",
       "  \" fill=\"#ffffff\" fill-rule=\"evenodd\" fill-opacity=\"1\"/>\n",
       "<defs>\n",
       "  <clipPath id=\"clip012\">\n",
       "    <rect x=\"247\" y=\"123\" width=\"2106\" height=\"1301\"/>\n",
       "  </clipPath>\n",
       "</defs>\n",
       "<polyline clip-path=\"url(#clip012)\" style=\"stroke:#000000; stroke-width:2; stroke-opacity:0.1; fill:none\" points=\"\n",
       "  247.459,1423.18 247.459,123.472 \n",
       "  \"/>\n",
       "<polyline clip-path=\"url(#clip012)\" style=\"stroke:#000000; stroke-width:2; stroke-opacity:0.1; fill:none\" points=\"\n",
       "  668.518,1423.18 668.518,123.472 \n",
       "  \"/>\n",
       "<polyline clip-path=\"url(#clip012)\" style=\"stroke:#000000; stroke-width:2; stroke-opacity:0.1; fill:none\" points=\"\n",
       "  1089.58,1423.18 1089.58,123.472 \n",
       "  \"/>\n",
       "<polyline clip-path=\"url(#clip012)\" style=\"stroke:#000000; stroke-width:2; stroke-opacity:0.1; fill:none\" points=\"\n",
       "  1510.64,1423.18 1510.64,123.472 \n",
       "  \"/>\n",
       "<polyline clip-path=\"url(#clip012)\" style=\"stroke:#000000; stroke-width:2; stroke-opacity:0.1; fill:none\" points=\"\n",
       "  1931.7,1423.18 1931.7,123.472 \n",
       "  \"/>\n",
       "<polyline clip-path=\"url(#clip012)\" style=\"stroke:#000000; stroke-width:2; stroke-opacity:0.1; fill:none\" points=\"\n",
       "  2352.76,1423.18 2352.76,123.472 \n",
       "  \"/>\n",
       "<polyline clip-path=\"url(#clip010)\" style=\"stroke:#000000; stroke-width:4; stroke-opacity:1; fill:none\" points=\"\n",
       "  247.459,1423.18 2352.76,1423.18 \n",
       "  \"/>\n",
       "<polyline clip-path=\"url(#clip010)\" style=\"stroke:#000000; stroke-width:4; stroke-opacity:1; fill:none\" points=\"\n",
       "  247.459,1423.18 247.459,1407.58 \n",
       "  \"/>\n",
       "<polyline clip-path=\"url(#clip010)\" style=\"stroke:#000000; stroke-width:4; stroke-opacity:1; fill:none\" points=\"\n",
       "  668.518,1423.18 668.518,1407.58 \n",
       "  \"/>\n",
       "<polyline clip-path=\"url(#clip010)\" style=\"stroke:#000000; stroke-width:4; stroke-opacity:1; fill:none\" points=\"\n",
       "  1089.58,1423.18 1089.58,1407.58 \n",
       "  \"/>\n",
       "<polyline clip-path=\"url(#clip010)\" style=\"stroke:#000000; stroke-width:4; stroke-opacity:1; fill:none\" points=\"\n",
       "  1510.64,1423.18 1510.64,1407.58 \n",
       "  \"/>\n",
       "<polyline clip-path=\"url(#clip010)\" style=\"stroke:#000000; stroke-width:4; stroke-opacity:1; fill:none\" points=\"\n",
       "  1931.7,1423.18 1931.7,1407.58 \n",
       "  \"/>\n",
       "<polyline clip-path=\"url(#clip010)\" style=\"stroke:#000000; stroke-width:4; stroke-opacity:1; fill:none\" points=\"\n",
       "  2352.76,1423.18 2352.76,1407.58 \n",
       "  \"/>\n",
       "<path clip-path=\"url(#clip010)\" d=\"M 0 0 M247.459 1452.37 Q243.848 1452.37 242.019 1455.94 Q240.213 1459.48 240.213 1466.61 Q240.213 1473.71 242.019 1477.28 Q243.848 1480.82 247.459 1480.82 Q251.093 1480.82 252.898 1477.28 Q254.727 1473.71 254.727 1466.61 Q254.727 1459.48 252.898 1455.94 Q251.093 1452.37 247.459 1452.37 M247.459 1448.67 Q253.269 1448.67 256.324 1453.27 Q259.403 1457.86 259.403 1466.61 Q259.403 1475.33 256.324 1479.94 Q253.269 1484.52 247.459 1484.52 Q241.649 1484.52 238.57 1479.94 Q235.514 1475.33 235.514 1466.61 Q235.514 1457.86 238.57 1453.27 Q241.649 1448.67 247.459 1448.67 Z\" fill=\"#000000\" fill-rule=\"evenodd\" fill-opacity=\"1\" /><path clip-path=\"url(#clip010)\" d=\"M 0 0 M628.125 1479.92 L635.764 1479.92 L635.764 1453.55 L627.454 1455.22 L627.454 1450.96 L635.717 1449.29 L640.393 1449.29 L640.393 1479.92 L648.032 1479.92 L648.032 1483.85 L628.125 1483.85 L628.125 1479.92 Z\" fill=\"#000000\" fill-rule=\"evenodd\" fill-opacity=\"1\" /><path clip-path=\"url(#clip010)\" d=\"M 0 0 M667.476 1452.37 Q663.865 1452.37 662.037 1455.94 Q660.231 1459.48 660.231 1466.61 Q660.231 1473.71 662.037 1477.28 Q663.865 1480.82 667.476 1480.82 Q671.111 1480.82 672.916 1477.28 Q674.745 1473.71 674.745 1466.61 Q674.745 1459.48 672.916 1455.94 Q671.111 1452.37 667.476 1452.37 M667.476 1448.67 Q673.287 1448.67 676.342 1453.27 Q679.421 1457.86 679.421 1466.61 Q679.421 1475.33 676.342 1479.94 Q673.287 1484.52 667.476 1484.52 Q661.666 1484.52 658.588 1479.94 Q655.532 1475.33 655.532 1466.61 Q655.532 1457.86 658.588 1453.27 Q661.666 1448.67 667.476 1448.67 Z\" fill=\"#000000\" fill-rule=\"evenodd\" fill-opacity=\"1\" /><path clip-path=\"url(#clip010)\" d=\"M 0 0 M697.638 1452.37 Q694.027 1452.37 692.199 1455.94 Q690.393 1459.48 690.393 1466.61 Q690.393 1473.71 692.199 1477.28 Q694.027 1480.82 697.638 1480.82 Q701.273 1480.82 703.078 1477.28 Q704.907 1473.71 704.907 1466.61 Q704.907 1459.48 703.078 1455.94 Q701.273 1452.37 697.638 1452.37 M697.638 1448.67 Q703.449 1448.67 706.504 1453.27 Q709.583 1457.86 709.583 1466.61 Q709.583 1475.33 706.504 1479.94 Q703.449 1484.52 697.638 1484.52 Q691.828 1484.52 688.75 1479.94 Q685.694 1475.33 685.694 1466.61 Q685.694 1457.86 688.75 1453.27 Q691.828 1448.67 697.638 1448.67 Z\" fill=\"#000000\" fill-rule=\"evenodd\" fill-opacity=\"1\" /><path clip-path=\"url(#clip010)\" d=\"M 0 0 M1053.27 1479.92 L1069.59 1479.92 L1069.59 1483.85 L1047.64 1483.85 L1047.64 1479.92 Q1050.31 1477.16 1054.89 1472.53 Q1059.5 1467.88 1060.68 1466.54 Q1062.92 1464.01 1063.8 1462.28 Q1064.71 1460.52 1064.71 1458.83 Q1064.71 1456.07 1062.76 1454.34 Q1060.84 1452.6 1057.74 1452.6 Q1055.54 1452.6 1053.08 1453.37 Q1050.65 1454.13 1047.88 1455.68 L1047.88 1450.96 Q1050.7 1449.82 1053.15 1449.25 Q1055.61 1448.67 1057.64 1448.67 Q1063.02 1448.67 1066.21 1451.35 Q1069.4 1454.04 1069.4 1458.53 Q1069.4 1460.66 1068.59 1462.58 Q1067.81 1464.48 1065.7 1467.07 Q1065.12 1467.74 1062.02 1470.96 Q1058.92 1474.15 1053.27 1479.92 Z\" fill=\"#000000\" fill-rule=\"evenodd\" fill-opacity=\"1\" /><path clip-path=\"url(#clip010)\" d=\"M 0 0 M1089.4 1452.37 Q1085.79 1452.37 1083.96 1455.94 Q1082.16 1459.48 1082.16 1466.61 Q1082.16 1473.71 1083.96 1477.28 Q1085.79 1480.82 1089.4 1480.82 Q1093.04 1480.82 1094.84 1477.28 Q1096.67 1473.71 1096.67 1466.61 Q1096.67 1459.48 1094.84 1455.94 Q1093.04 1452.37 1089.4 1452.37 M1089.4 1448.67 Q1095.21 1448.67 1098.27 1453.27 Q1101.35 1457.86 1101.35 1466.61 Q1101.35 1475.33 1098.27 1479.94 Q1095.21 1484.52 1089.4 1484.52 Q1083.59 1484.52 1080.52 1479.94 Q1077.46 1475.33 1077.46 1466.61 Q1077.46 1457.86 1080.52 1453.27 Q1083.59 1448.67 1089.4 1448.67 Z\" fill=\"#000000\" fill-rule=\"evenodd\" fill-opacity=\"1\" /><path clip-path=\"url(#clip010)\" d=\"M 0 0 M1119.57 1452.37 Q1115.95 1452.37 1114.13 1455.94 Q1112.32 1459.48 1112.32 1466.61 Q1112.32 1473.71 1114.13 1477.28 Q1115.95 1480.82 1119.57 1480.82 Q1123.2 1480.82 1125.01 1477.28 Q1126.83 1473.71 1126.83 1466.61 Q1126.83 1459.48 1125.01 1455.94 Q1123.2 1452.37 1119.57 1452.37 M1119.57 1448.67 Q1125.38 1448.67 1128.43 1453.27 Q1131.51 1457.86 1131.51 1466.61 Q1131.51 1475.33 1128.43 1479.94 Q1125.38 1484.52 1119.57 1484.52 Q1113.76 1484.52 1110.68 1479.94 Q1107.62 1475.33 1107.62 1466.61 Q1107.62 1457.86 1110.68 1453.27 Q1113.76 1448.67 1119.57 1448.67 Z\" fill=\"#000000\" fill-rule=\"evenodd\" fill-opacity=\"1\" /><path clip-path=\"url(#clip010)\" d=\"M 0 0 M1484.4 1465.22 Q1487.76 1465.94 1489.63 1468.2 Q1491.53 1470.47 1491.53 1473.81 Q1491.53 1478.92 1488.01 1481.72 Q1484.49 1484.52 1478.01 1484.52 Q1475.83 1484.52 1473.52 1484.08 Q1471.23 1483.67 1468.77 1482.81 L1468.77 1478.3 Q1470.72 1479.43 1473.03 1480.01 Q1475.35 1480.59 1477.87 1480.59 Q1482.27 1480.59 1484.56 1478.85 Q1486.88 1477.12 1486.88 1473.81 Q1486.88 1470.75 1484.72 1469.04 Q1482.59 1467.3 1478.77 1467.3 L1474.75 1467.3 L1474.75 1463.46 L1478.96 1463.46 Q1482.41 1463.46 1484.24 1462.09 Q1486.07 1460.7 1486.07 1458.11 Q1486.07 1455.45 1484.17 1454.04 Q1482.29 1452.6 1478.77 1452.6 Q1476.85 1452.6 1474.65 1453.02 Q1472.45 1453.44 1469.82 1454.31 L1469.82 1450.15 Q1472.48 1449.41 1474.79 1449.04 Q1477.13 1448.67 1479.19 1448.67 Q1484.51 1448.67 1487.62 1451.1 Q1490.72 1453.5 1490.72 1457.63 Q1490.72 1460.5 1489.07 1462.49 Q1487.43 1464.45 1484.4 1465.22 Z\" fill=\"#000000\" fill-rule=\"evenodd\" fill-opacity=\"1\" /><path clip-path=\"url(#clip010)\" d=\"M 0 0 M1510.39 1452.37 Q1506.78 1452.37 1504.95 1455.94 Q1503.15 1459.48 1503.15 1466.61 Q1503.15 1473.71 1504.95 1477.28 Q1506.78 1480.82 1510.39 1480.82 Q1514.03 1480.82 1515.83 1477.28 Q1517.66 1473.71 1517.66 1466.61 Q1517.66 1459.48 1515.83 1455.94 Q1514.03 1452.37 1510.39 1452.37 M1510.39 1448.67 Q1516.2 1448.67 1519.26 1453.27 Q1522.34 1457.86 1522.34 1466.61 Q1522.34 1475.33 1519.26 1479.94 Q1516.2 1484.52 1510.39 1484.52 Q1504.58 1484.52 1501.51 1479.94 Q1498.45 1475.33 1498.45 1466.61 Q1498.45 1457.86 1501.51 1453.27 Q1504.58 1448.67 1510.39 1448.67 Z\" fill=\"#000000\" fill-rule=\"evenodd\" fill-opacity=\"1\" /><path clip-path=\"url(#clip010)\" d=\"M 0 0 M1540.56 1452.37 Q1536.94 1452.37 1535.12 1455.94 Q1533.31 1459.48 1533.31 1466.61 Q1533.31 1473.71 1535.12 1477.28 Q1536.94 1480.82 1540.56 1480.82 Q1544.19 1480.82 1546 1477.28 Q1547.82 1473.71 1547.82 1466.61 Q1547.82 1459.48 1546 1455.94 Q1544.19 1452.37 1540.56 1452.37 M1540.56 1448.67 Q1546.37 1448.67 1549.42 1453.27 Q1552.5 1457.86 1552.5 1466.61 Q1552.5 1475.33 1549.42 1479.94 Q1546.37 1484.52 1540.56 1484.52 Q1534.75 1484.52 1531.67 1479.94 Q1528.61 1475.33 1528.61 1466.61 Q1528.61 1457.86 1531.67 1453.27 Q1534.75 1448.67 1540.56 1448.67 Z\" fill=\"#000000\" fill-rule=\"evenodd\" fill-opacity=\"1\" /><path clip-path=\"url(#clip010)\" d=\"M 0 0 M1904.79 1453.37 L1892.98 1471.81 L1904.79 1471.81 L1904.79 1453.37 M1903.56 1449.29 L1909.44 1449.29 L1909.44 1471.81 L1914.37 1471.81 L1914.37 1475.7 L1909.44 1475.7 L1909.44 1483.85 L1904.79 1483.85 L1904.79 1475.7 L1889.19 1475.7 L1889.19 1471.19 L1903.56 1449.29 Z\" fill=\"#000000\" fill-rule=\"evenodd\" fill-opacity=\"1\" /><path clip-path=\"url(#clip010)\" d=\"M 0 0 M1932.1 1452.37 Q1928.49 1452.37 1926.66 1455.94 Q1924.86 1459.48 1924.86 1466.61 Q1924.86 1473.71 1926.66 1477.28 Q1928.49 1480.82 1932.1 1480.82 Q1935.74 1480.82 1937.54 1477.28 Q1939.37 1473.71 1939.37 1466.61 Q1939.37 1459.48 1937.54 1455.94 Q1935.74 1452.37 1932.1 1452.37 M1932.1 1448.67 Q1937.91 1448.67 1940.97 1453.27 Q1944.05 1457.86 1944.05 1466.61 Q1944.05 1475.33 1940.97 1479.94 Q1937.91 1484.52 1932.1 1484.52 Q1926.29 1484.52 1923.21 1479.94 Q1920.16 1475.33 1920.16 1466.61 Q1920.16 1457.86 1923.21 1453.27 Q1926.29 1448.67 1932.1 1448.67 Z\" fill=\"#000000\" fill-rule=\"evenodd\" fill-opacity=\"1\" /><path clip-path=\"url(#clip010)\" d=\"M 0 0 M1962.26 1452.37 Q1958.65 1452.37 1956.82 1455.94 Q1955.02 1459.48 1955.02 1466.61 Q1955.02 1473.71 1956.82 1477.28 Q1958.65 1480.82 1962.26 1480.82 Q1965.9 1480.82 1967.7 1477.28 Q1969.53 1473.71 1969.53 1466.61 Q1969.53 1459.48 1967.7 1455.94 Q1965.9 1452.37 1962.26 1452.37 M1962.26 1448.67 Q1968.07 1448.67 1971.13 1453.27 Q1974.21 1457.86 1974.21 1466.61 Q1974.21 1475.33 1971.13 1479.94 Q1968.07 1484.52 1962.26 1484.52 Q1956.45 1484.52 1953.37 1479.94 Q1950.32 1475.33 1950.32 1466.61 Q1950.32 1457.86 1953.37 1453.27 Q1956.45 1448.67 1962.26 1448.67 Z\" fill=\"#000000\" fill-rule=\"evenodd\" fill-opacity=\"1\" /><path clip-path=\"url(#clip010)\" d=\"M 0 0 M2312.37 1449.29 L2330.73 1449.29 L2330.73 1453.23 L2316.66 1453.23 L2316.66 1461.7 Q2317.68 1461.35 2318.69 1461.19 Q2319.71 1461 2320.73 1461 Q2326.52 1461 2329.9 1464.18 Q2333.28 1467.35 2333.28 1472.76 Q2333.28 1478.34 2329.8 1481.44 Q2326.33 1484.52 2320.01 1484.52 Q2317.84 1484.52 2315.57 1484.15 Q2313.32 1483.78 2310.92 1483.04 L2310.92 1478.34 Q2313 1479.48 2315.22 1480.03 Q2317.44 1480.59 2319.92 1480.59 Q2323.93 1480.59 2326.26 1478.48 Q2328.6 1476.38 2328.6 1472.76 Q2328.6 1469.15 2326.26 1467.05 Q2323.93 1464.94 2319.92 1464.94 Q2318.05 1464.94 2316.17 1465.36 Q2314.32 1465.77 2312.37 1466.65 L2312.37 1449.29 Z\" fill=\"#000000\" fill-rule=\"evenodd\" fill-opacity=\"1\" /><path clip-path=\"url(#clip010)\" d=\"M 0 0 M2352.49 1452.37 Q2348.88 1452.37 2347.05 1455.94 Q2345.24 1459.48 2345.24 1466.61 Q2345.24 1473.71 2347.05 1477.28 Q2348.88 1480.82 2352.49 1480.82 Q2356.12 1480.82 2357.93 1477.28 Q2359.76 1473.71 2359.76 1466.61 Q2359.76 1459.48 2357.93 1455.94 Q2356.12 1452.37 2352.49 1452.37 M2352.49 1448.67 Q2358.3 1448.67 2361.36 1453.27 Q2364.43 1457.86 2364.43 1466.61 Q2364.43 1475.33 2361.36 1479.94 Q2358.3 1484.52 2352.49 1484.52 Q2346.68 1484.52 2343.6 1479.94 Q2340.55 1475.33 2340.55 1466.61 Q2340.55 1457.86 2343.6 1453.27 Q2346.68 1448.67 2352.49 1448.67 Z\" fill=\"#000000\" fill-rule=\"evenodd\" fill-opacity=\"1\" /><path clip-path=\"url(#clip010)\" d=\"M 0 0 M2382.65 1452.37 Q2379.04 1452.37 2377.21 1455.94 Q2375.41 1459.48 2375.41 1466.61 Q2375.41 1473.71 2377.21 1477.28 Q2379.04 1480.82 2382.65 1480.82 Q2386.29 1480.82 2388.09 1477.28 Q2389.92 1473.71 2389.92 1466.61 Q2389.92 1459.48 2388.09 1455.94 Q2386.29 1452.37 2382.65 1452.37 M2382.65 1448.67 Q2388.46 1448.67 2391.52 1453.27 Q2394.6 1457.86 2394.6 1466.61 Q2394.6 1475.33 2391.52 1479.94 Q2388.46 1484.52 2382.65 1484.52 Q2376.84 1484.52 2373.76 1479.94 Q2370.71 1475.33 2370.71 1466.61 Q2370.71 1457.86 2373.76 1453.27 Q2376.84 1448.67 2382.65 1448.67 Z\" fill=\"#000000\" fill-rule=\"evenodd\" fill-opacity=\"1\" /><path clip-path=\"url(#clip010)\" d=\"M 0 0 M986.612 1533.76 L986.612 1539.24 Q984.13 1537.87 981.615 1537.2 Q979.132 1536.5 976.586 1536.5 Q970.889 1536.5 967.738 1540.13 Q964.587 1543.73 964.587 1550.25 Q964.587 1556.78 967.738 1560.4 Q970.889 1564 976.586 1564 Q979.132 1564 981.615 1563.33 Q984.13 1562.63 986.612 1561.26 L986.612 1566.68 Q984.161 1567.82 981.52 1568.39 Q978.91 1568.97 975.95 1568.97 Q967.897 1568.97 963.155 1563.91 Q958.412 1558.85 958.412 1550.25 Q958.412 1541.53 963.186 1536.53 Q967.992 1531.54 976.332 1531.54 Q979.037 1531.54 981.615 1532.11 Q984.193 1532.65 986.612 1533.76 Z\" fill=\"#000000\" fill-rule=\"evenodd\" fill-opacity=\"1\" /><path clip-path=\"url(#clip010)\" d=\"M 0 0 M996.193 1553.98 L996.193 1532.4 L1002.05 1532.4 L1002.05 1553.75 Q1002.05 1558.81 1004.02 1561.36 Q1006 1563.87 1009.94 1563.87 Q1014.68 1563.87 1017.42 1560.85 Q1020.19 1557.83 1020.19 1552.61 L1020.19 1532.4 L1026.05 1532.4 L1026.05 1568.04 L1020.19 1568.04 L1020.19 1562.57 Q1018.06 1565.82 1015.23 1567.41 Q1012.43 1568.97 1008.7 1568.97 Q1002.56 1568.97 999.375 1565.15 Q996.193 1561.33 996.193 1553.98 M1010.93 1531.54 L1010.93 1531.54 Z\" fill=\"#000000\" fill-rule=\"evenodd\" fill-opacity=\"1\" /><path clip-path=\"url(#clip010)\" d=\"M 0 0 M1058.77 1537.87 Q1057.78 1537.3 1056.6 1537.04 Q1055.46 1536.76 1054.06 1536.76 Q1049.09 1536.76 1046.42 1540 Q1043.78 1543.22 1043.78 1549.27 L1043.78 1568.04 L1037.89 1568.04 L1037.89 1532.4 L1043.78 1532.4 L1043.78 1537.93 Q1045.62 1534.69 1048.58 1533.13 Q1051.54 1531.54 1055.78 1531.54 Q1056.38 1531.54 1057.11 1531.63 Q1057.84 1531.7 1058.74 1531.85 L1058.77 1537.87 Z\" fill=\"#000000\" fill-rule=\"evenodd\" fill-opacity=\"1\" /><path clip-path=\"url(#clip010)\" d=\"M 0 0 M1084.42 1537.87 Q1083.43 1537.3 1082.26 1537.04 Q1081.11 1536.76 1079.71 1536.76 Q1074.75 1536.76 1072.07 1540 Q1069.43 1543.22 1069.43 1549.27 L1069.43 1568.04 L1063.54 1568.04 L1063.54 1532.4 L1069.43 1532.4 L1069.43 1537.93 Q1071.28 1534.69 1074.24 1533.13 Q1077.2 1531.54 1081.43 1531.54 Q1082.03 1531.54 1082.77 1531.63 Q1083.5 1531.7 1084.39 1531.85 L1084.42 1537.87 Z\" fill=\"#000000\" fill-rule=\"evenodd\" fill-opacity=\"1\" /><path clip-path=\"url(#clip010)\" d=\"M 0 0 M1090.56 1532.4 L1096.42 1532.4 L1096.42 1568.04 L1090.56 1568.04 L1090.56 1532.4 M1090.56 1518.52 L1096.42 1518.52 L1096.42 1525.93 L1090.56 1525.93 L1090.56 1518.52 Z\" fill=\"#000000\" fill-rule=\"evenodd\" fill-opacity=\"1\" /><path clip-path=\"url(#clip010)\" d=\"M 0 0 M1134.33 1533.76 L1134.33 1539.24 Q1131.85 1537.87 1129.33 1537.2 Q1126.85 1536.5 1124.3 1536.5 Q1118.61 1536.5 1115.45 1540.13 Q1112.3 1543.73 1112.3 1550.25 Q1112.3 1556.78 1115.45 1560.4 Q1118.61 1564 1124.3 1564 Q1126.85 1564 1129.33 1563.33 Q1131.85 1562.63 1134.33 1561.26 L1134.33 1566.68 Q1131.88 1567.82 1129.24 1568.39 Q1126.63 1568.97 1123.67 1568.97 Q1115.61 1568.97 1110.87 1563.91 Q1106.13 1558.85 1106.13 1550.25 Q1106.13 1541.53 1110.9 1536.53 Q1115.71 1531.54 1124.05 1531.54 Q1126.75 1531.54 1129.33 1532.11 Q1131.91 1532.65 1134.33 1533.76 Z\" fill=\"#000000\" fill-rule=\"evenodd\" fill-opacity=\"1\" /><path clip-path=\"url(#clip010)\" d=\"M 0 0 M1143.91 1553.98 L1143.91 1532.4 L1149.77 1532.4 L1149.77 1553.75 Q1149.77 1558.81 1151.74 1561.36 Q1153.71 1563.87 1157.66 1563.87 Q1162.4 1563.87 1165.14 1560.85 Q1167.91 1557.83 1167.91 1552.61 L1167.91 1532.4 L1173.76 1532.4 L1173.76 1568.04 L1167.91 1568.04 L1167.91 1562.57 Q1165.77 1565.82 1162.94 1567.41 Q1160.14 1568.97 1156.42 1568.97 Q1150.27 1568.97 1147.09 1565.15 Q1143.91 1561.33 1143.91 1553.98 M1158.65 1531.54 L1158.65 1531.54 Z\" fill=\"#000000\" fill-rule=\"evenodd\" fill-opacity=\"1\" /><path clip-path=\"url(#clip010)\" d=\"M 0 0 M1185.83 1518.52 L1191.68 1518.52 L1191.68 1568.04 L1185.83 1568.04 L1185.83 1518.52 Z\" fill=\"#000000\" fill-rule=\"evenodd\" fill-opacity=\"1\" /><path clip-path=\"url(#clip010)\" d=\"M 0 0 M1220.14 1550.12 Q1213.04 1550.12 1210.3 1551.75 Q1207.57 1553.37 1207.57 1557.29 Q1207.57 1560.4 1209.6 1562.25 Q1211.67 1564.07 1215.2 1564.07 Q1220.07 1564.07 1223 1560.63 Q1225.96 1557.16 1225.96 1551.43 L1225.96 1550.12 L1220.14 1550.12 M1231.82 1547.71 L1231.82 1568.04 L1225.96 1568.04 L1225.96 1562.63 Q1223.96 1565.88 1220.97 1567.44 Q1217.97 1568.97 1213.65 1568.97 Q1208.17 1568.97 1204.92 1565.91 Q1201.71 1562.82 1201.71 1557.67 Q1201.71 1551.65 1205.72 1548.6 Q1209.76 1545.54 1217.75 1545.54 L1225.96 1545.54 L1225.96 1544.97 Q1225.96 1540.93 1223.29 1538.73 Q1220.65 1536.5 1215.84 1536.5 Q1212.79 1536.5 1209.89 1537.23 Q1206.99 1537.97 1204.32 1539.43 L1204.32 1534.02 Q1207.53 1532.78 1210.56 1532.17 Q1213.58 1531.54 1216.45 1531.54 Q1224.18 1531.54 1228 1535.55 Q1231.82 1539.56 1231.82 1547.71 Z\" fill=\"#000000\" fill-rule=\"evenodd\" fill-opacity=\"1\" /><path clip-path=\"url(#clip010)\" d=\"M 0 0 M1264.54 1537.87 Q1263.55 1537.3 1262.37 1537.04 Q1261.23 1536.76 1259.83 1536.76 Q1254.86 1536.76 1252.19 1540 Q1249.55 1543.22 1249.55 1549.27 L1249.55 1568.04 L1243.66 1568.04 L1243.66 1532.4 L1249.55 1532.4 L1249.55 1537.93 Q1251.39 1534.69 1254.35 1533.13 Q1257.31 1531.54 1261.55 1531.54 Q1262.15 1531.54 1262.88 1531.63 Q1263.62 1531.7 1264.51 1531.85 L1264.54 1537.87 Z\" fill=\"#000000\" fill-rule=\"evenodd\" fill-opacity=\"1\" /><path clip-path=\"url(#clip010)\" d=\"M 0 0 M1317.06 1533.76 L1317.06 1539.24 Q1314.57 1537.87 1312.06 1537.2 Q1309.58 1536.5 1307.03 1536.5 Q1301.33 1536.5 1298.18 1540.13 Q1295.03 1543.73 1295.03 1550.25 Q1295.03 1556.78 1298.18 1560.4 Q1301.33 1564 1307.03 1564 Q1309.58 1564 1312.06 1563.33 Q1314.57 1562.63 1317.06 1561.26 L1317.06 1566.68 Q1314.61 1567.82 1311.96 1568.39 Q1309.35 1568.97 1306.39 1568.97 Q1298.34 1568.97 1293.6 1563.91 Q1288.86 1558.85 1288.86 1550.25 Q1288.86 1541.53 1293.63 1536.53 Q1298.44 1531.54 1306.78 1531.54 Q1309.48 1531.54 1312.06 1532.11 Q1314.64 1532.65 1317.06 1533.76 Z\" fill=\"#000000\" fill-rule=\"evenodd\" fill-opacity=\"1\" /><path clip-path=\"url(#clip010)\" d=\"M 0 0 M1341.05 1536.5 Q1336.34 1536.5 1333.61 1540.19 Q1330.87 1543.85 1330.87 1550.25 Q1330.87 1556.65 1333.58 1560.34 Q1336.31 1564 1341.05 1564 Q1345.73 1564 1348.47 1560.31 Q1351.21 1556.62 1351.21 1550.25 Q1351.21 1543.92 1348.47 1540.23 Q1345.73 1536.5 1341.05 1536.5 M1341.05 1531.54 Q1348.69 1531.54 1353.05 1536.5 Q1357.41 1541.47 1357.41 1550.25 Q1357.41 1559 1353.05 1564 Q1348.69 1568.97 1341.05 1568.97 Q1333.38 1568.97 1329.02 1564 Q1324.69 1559 1324.69 1550.25 Q1324.69 1541.47 1329.02 1536.5 Q1333.38 1531.54 1341.05 1531.54 Z\" fill=\"#000000\" fill-rule=\"evenodd\" fill-opacity=\"1\" /><path clip-path=\"url(#clip010)\" d=\"M 0 0 M1394.88 1539.24 Q1397.07 1535.29 1400.13 1533.41 Q1403.18 1531.54 1407.32 1531.54 Q1412.89 1531.54 1415.92 1535.45 Q1418.94 1539.33 1418.94 1546.53 L1418.94 1568.04 L1413.05 1568.04 L1413.05 1546.72 Q1413.05 1541.59 1411.24 1539.11 Q1409.42 1536.63 1405.7 1536.63 Q1401.15 1536.63 1398.51 1539.65 Q1395.86 1542.68 1395.86 1547.9 L1395.86 1568.04 L1389.98 1568.04 L1389.98 1546.72 Q1389.98 1541.56 1388.16 1539.11 Q1386.35 1536.63 1382.56 1536.63 Q1378.07 1536.63 1375.43 1539.68 Q1372.79 1542.71 1372.79 1547.9 L1372.79 1568.04 L1366.9 1568.04 L1366.9 1532.4 L1372.79 1532.4 L1372.79 1537.93 Q1374.79 1534.66 1377.59 1533.1 Q1380.39 1531.54 1384.25 1531.54 Q1388.13 1531.54 1390.83 1533.51 Q1393.57 1535.48 1394.88 1539.24 Z\" fill=\"#000000\" fill-rule=\"evenodd\" fill-opacity=\"1\" /><path clip-path=\"url(#clip010)\" d=\"M 0 0 M1436.29 1562.7 L1436.29 1581.6 L1430.4 1581.6 L1430.4 1532.4 L1436.29 1532.4 L1436.29 1537.81 Q1438.13 1534.62 1440.93 1533.1 Q1443.77 1531.54 1447.68 1531.54 Q1454.17 1531.54 1458.22 1536.69 Q1462.29 1541.85 1462.29 1550.25 Q1462.29 1558.65 1458.22 1563.81 Q1454.17 1568.97 1447.68 1568.97 Q1443.77 1568.97 1440.93 1567.44 Q1438.13 1565.88 1436.29 1562.7 M1456.21 1550.25 Q1456.21 1543.79 1453.54 1540.13 Q1450.89 1536.44 1446.25 1536.44 Q1441.6 1536.44 1438.93 1540.13 Q1436.29 1543.79 1436.29 1550.25 Q1436.29 1556.71 1438.93 1560.4 Q1441.6 1564.07 1446.25 1564.07 Q1450.89 1564.07 1453.54 1560.4 Q1456.21 1556.71 1456.21 1550.25 Z\" fill=\"#000000\" fill-rule=\"evenodd\" fill-opacity=\"1\" /><path clip-path=\"url(#clip010)\" d=\"M 0 0 M1472 1518.52 L1477.85 1518.52 L1477.85 1568.04 L1472 1568.04 L1472 1518.52 Z\" fill=\"#000000\" fill-rule=\"evenodd\" fill-opacity=\"1\" /><path clip-path=\"url(#clip010)\" d=\"M 0 0 M1520.6 1548.76 L1520.6 1551.62 L1493.67 1551.62 Q1494.05 1557.67 1497.3 1560.85 Q1500.58 1564 1506.4 1564 Q1509.78 1564 1512.93 1563.17 Q1516.11 1562.35 1519.23 1560.69 L1519.23 1566.23 Q1516.08 1567.57 1512.77 1568.27 Q1509.46 1568.97 1506.05 1568.97 Q1497.52 1568.97 1492.53 1564 Q1487.56 1559.04 1487.56 1550.57 Q1487.56 1541.82 1492.27 1536.69 Q1497.01 1531.54 1505.04 1531.54 Q1512.23 1531.54 1516.4 1536.18 Q1520.6 1540.8 1520.6 1548.76 M1514.74 1547.04 Q1514.68 1542.23 1512.04 1539.37 Q1509.43 1536.5 1505.1 1536.5 Q1500.2 1536.5 1497.24 1539.27 Q1494.31 1542.04 1493.86 1547.07 L1514.74 1547.04 Z\" fill=\"#000000\" fill-rule=\"evenodd\" fill-opacity=\"1\" /><path clip-path=\"url(#clip010)\" d=\"M 0 0 M1558.7 1532.4 L1545.81 1549.74 L1559.37 1568.04 L1552.46 1568.04 L1542.08 1554.04 L1531.71 1568.04 L1524.8 1568.04 L1538.65 1549.39 L1525.98 1532.4 L1532.89 1532.4 L1542.34 1545.1 L1551.79 1532.4 L1558.7 1532.4 Z\" fill=\"#000000\" fill-rule=\"evenodd\" fill-opacity=\"1\" /><path clip-path=\"url(#clip010)\" d=\"M 0 0 M1567.64 1532.4 L1573.5 1532.4 L1573.5 1568.04 L1567.64 1568.04 L1567.64 1532.4 M1567.64 1518.52 L1573.5 1518.52 L1573.5 1525.93 L1567.64 1525.93 L1567.64 1518.52 Z\" fill=\"#000000\" fill-rule=\"evenodd\" fill-opacity=\"1\" /><path clip-path=\"url(#clip010)\" d=\"M 0 0 M1591.55 1522.27 L1591.55 1532.4 L1603.61 1532.4 L1603.61 1536.95 L1591.55 1536.95 L1591.55 1556.3 Q1591.55 1560.66 1592.72 1561.9 Q1593.93 1563.14 1597.59 1563.14 L1603.61 1563.14 L1603.61 1568.04 L1597.59 1568.04 Q1590.81 1568.04 1588.24 1565.53 Q1585.66 1562.98 1585.66 1556.3 L1585.66 1536.95 L1581.36 1536.95 L1581.36 1532.4 L1585.66 1532.4 L1585.66 1522.27 L1591.55 1522.27 Z\" fill=\"#000000\" fill-rule=\"evenodd\" fill-opacity=\"1\" /><path clip-path=\"url(#clip010)\" d=\"M 0 0 M1626.14 1571.35 Q1623.66 1577.72 1621.3 1579.66 Q1618.95 1581.6 1615 1581.6 L1610.32 1581.6 L1610.32 1576.7 L1613.76 1576.7 Q1616.18 1576.7 1617.52 1575.56 Q1618.85 1574.41 1620.48 1570.14 L1621.53 1567.47 L1607.11 1532.4 L1613.32 1532.4 L1624.46 1560.28 L1635.6 1532.4 L1641.8 1532.4 L1626.14 1571.35 Z\" fill=\"#000000\" fill-rule=\"evenodd\" fill-opacity=\"1\" /><polyline clip-path=\"url(#clip012)\" style=\"stroke:#000000; stroke-width:2; stroke-opacity:0.1; fill:none\" points=\"\n",
       "  247.459,1423.18 2352.76,1423.18 \n",
       "  \"/>\n",
       "<polyline clip-path=\"url(#clip012)\" style=\"stroke:#000000; stroke-width:2; stroke-opacity:0.1; fill:none\" points=\"\n",
       "  247.459,1113.73 2352.76,1113.73 \n",
       "  \"/>\n",
       "<polyline clip-path=\"url(#clip012)\" style=\"stroke:#000000; stroke-width:2; stroke-opacity:0.1; fill:none\" points=\"\n",
       "  247.459,804.271 2352.76,804.271 \n",
       "  \"/>\n",
       "<polyline clip-path=\"url(#clip012)\" style=\"stroke:#000000; stroke-width:2; stroke-opacity:0.1; fill:none\" points=\"\n",
       "  247.459,494.817 2352.76,494.817 \n",
       "  \"/>\n",
       "<polyline clip-path=\"url(#clip012)\" style=\"stroke:#000000; stroke-width:2; stroke-opacity:0.1; fill:none\" points=\"\n",
       "  247.459,185.363 2352.76,185.363 \n",
       "  \"/>\n",
       "<polyline clip-path=\"url(#clip010)\" style=\"stroke:#000000; stroke-width:4; stroke-opacity:1; fill:none\" points=\"\n",
       "  247.459,1423.18 247.459,123.472 \n",
       "  \"/>\n",
       "<polyline clip-path=\"url(#clip010)\" style=\"stroke:#000000; stroke-width:4; stroke-opacity:1; fill:none\" points=\"\n",
       "  247.459,1423.18 272.722,1423.18 \n",
       "  \"/>\n",
       "<polyline clip-path=\"url(#clip010)\" style=\"stroke:#000000; stroke-width:4; stroke-opacity:1; fill:none\" points=\"\n",
       "  247.459,1113.73 272.722,1113.73 \n",
       "  \"/>\n",
       "<polyline clip-path=\"url(#clip010)\" style=\"stroke:#000000; stroke-width:4; stroke-opacity:1; fill:none\" points=\"\n",
       "  247.459,804.271 272.722,804.271 \n",
       "  \"/>\n",
       "<polyline clip-path=\"url(#clip010)\" style=\"stroke:#000000; stroke-width:4; stroke-opacity:1; fill:none\" points=\"\n",
       "  247.459,494.817 272.722,494.817 \n",
       "  \"/>\n",
       "<polyline clip-path=\"url(#clip010)\" style=\"stroke:#000000; stroke-width:4; stroke-opacity:1; fill:none\" points=\"\n",
       "  247.459,185.363 272.722,185.363 \n",
       "  \"/>\n",
       "<path clip-path=\"url(#clip010)\" d=\"M 0 0 M154.283 1408.98 Q150.672 1408.98 148.843 1412.54 Q147.038 1416.08 147.038 1423.21 Q147.038 1430.32 148.843 1433.89 Q150.672 1437.43 154.283 1437.43 Q157.917 1437.43 159.723 1433.89 Q161.552 1430.32 161.552 1423.21 Q161.552 1416.08 159.723 1412.54 Q157.917 1408.98 154.283 1408.98 M154.283 1405.27 Q160.093 1405.27 163.149 1409.88 Q166.227 1414.46 166.227 1423.21 Q166.227 1431.94 163.149 1436.55 Q160.093 1441.13 154.283 1441.13 Q148.473 1441.13 145.394 1436.55 Q142.339 1431.94 142.339 1423.21 Q142.339 1414.46 145.394 1409.88 Q148.473 1405.27 154.283 1405.27 Z\" fill=\"#000000\" fill-rule=\"evenodd\" fill-opacity=\"1\" /><path clip-path=\"url(#clip010)\" d=\"M 0 0 M174.445 1434.58 L179.329 1434.58 L179.329 1440.46 L174.445 1440.46 L174.445 1434.58 Z\" fill=\"#000000\" fill-rule=\"evenodd\" fill-opacity=\"1\" /><path clip-path=\"url(#clip010)\" d=\"M 0 0 M199.514 1408.98 Q195.903 1408.98 194.075 1412.54 Q192.269 1416.08 192.269 1423.21 Q192.269 1430.32 194.075 1433.89 Q195.903 1437.43 199.514 1437.43 Q203.149 1437.43 204.954 1433.89 Q206.783 1430.32 206.783 1423.21 Q206.783 1416.08 204.954 1412.54 Q203.149 1408.98 199.514 1408.98 M199.514 1405.27 Q205.324 1405.27 208.38 1409.88 Q211.459 1414.46 211.459 1423.21 Q211.459 1431.94 208.38 1436.55 Q205.324 1441.13 199.514 1441.13 Q193.704 1441.13 190.625 1436.55 Q187.57 1431.94 187.57 1423.21 Q187.57 1414.46 190.625 1409.88 Q193.704 1405.27 199.514 1405.27 Z\" fill=\"#000000\" fill-rule=\"evenodd\" fill-opacity=\"1\" /><path clip-path=\"url(#clip010)\" d=\"M 0 0 M149.306 1127.07 L165.626 1127.07 L165.626 1131.01 L143.681 1131.01 L143.681 1127.07 Q146.343 1124.32 150.927 1119.69 Q155.533 1115.03 156.714 1113.69 Q158.959 1111.17 159.839 1109.43 Q160.741 1107.67 160.741 1105.98 Q160.741 1103.23 158.797 1101.49 Q156.876 1099.76 153.774 1099.76 Q151.575 1099.76 149.121 1100.52 Q146.691 1101.28 143.913 1102.83 L143.913 1098.11 Q146.737 1096.98 149.191 1096.4 Q151.644 1095.82 153.681 1095.82 Q159.052 1095.82 162.246 1098.51 Q165.44 1101.19 165.44 1105.68 Q165.44 1107.81 164.63 1109.73 Q163.843 1111.63 161.737 1114.22 Q161.158 1114.89 158.056 1118.11 Q154.954 1121.31 149.306 1127.07 Z\" fill=\"#000000\" fill-rule=\"evenodd\" fill-opacity=\"1\" /><path clip-path=\"url(#clip010)\" d=\"M 0 0 M175.44 1125.13 L180.325 1125.13 L180.325 1131.01 L175.44 1131.01 L175.44 1125.13 Z\" fill=\"#000000\" fill-rule=\"evenodd\" fill-opacity=\"1\" /><path clip-path=\"url(#clip010)\" d=\"M 0 0 M190.556 1096.45 L208.912 1096.45 L208.912 1100.38 L194.838 1100.38 L194.838 1108.85 Q195.857 1108.51 196.875 1108.34 Q197.894 1108.16 198.912 1108.16 Q204.699 1108.16 208.079 1111.33 Q211.459 1114.5 211.459 1119.92 Q211.459 1125.5 207.987 1128.6 Q204.514 1131.68 198.195 1131.68 Q196.019 1131.68 193.75 1131.31 Q191.505 1130.94 189.098 1130.2 L189.098 1125.5 Q191.181 1126.63 193.403 1127.19 Q195.625 1127.74 198.102 1127.74 Q202.107 1127.74 204.445 1125.64 Q206.783 1123.53 206.783 1119.92 Q206.783 1116.31 204.445 1114.2 Q202.107 1112.09 198.102 1112.09 Q196.227 1112.09 194.352 1112.51 Q192.5 1112.93 190.556 1113.81 L190.556 1096.45 Z\" fill=\"#000000\" fill-rule=\"evenodd\" fill-opacity=\"1\" /><path clip-path=\"url(#clip010)\" d=\"M 0 0 M144.329 786.991 L162.686 786.991 L162.686 790.927 L148.612 790.927 L148.612 799.399 Q149.63 799.052 150.649 798.889 Q151.667 798.704 152.686 798.704 Q158.473 798.704 161.852 801.876 Q165.232 805.047 165.232 810.464 Q165.232 816.042 161.76 819.144 Q158.288 822.223 151.968 822.223 Q149.792 822.223 147.524 821.852 Q145.279 821.482 142.871 820.741 L142.871 816.042 Q144.954 817.176 147.177 817.732 Q149.399 818.288 151.876 818.288 Q155.88 818.288 158.218 816.181 Q160.556 814.075 160.556 810.464 Q160.556 806.852 158.218 804.746 Q155.88 802.639 151.876 802.639 Q150.001 802.639 148.126 803.056 Q146.274 803.473 144.329 804.352 L144.329 786.991 Z\" fill=\"#000000\" fill-rule=\"evenodd\" fill-opacity=\"1\" /><path clip-path=\"url(#clip010)\" d=\"M 0 0 M174.445 815.672 L179.329 815.672 L179.329 821.551 L174.445 821.551 L174.445 815.672 Z\" fill=\"#000000\" fill-rule=\"evenodd\" fill-opacity=\"1\" /><path clip-path=\"url(#clip010)\" d=\"M 0 0 M199.514 790.07 Q195.903 790.07 194.075 793.635 Q192.269 797.177 192.269 804.306 Q192.269 811.413 194.075 814.977 Q195.903 818.519 199.514 818.519 Q203.149 818.519 204.954 814.977 Q206.783 811.413 206.783 804.306 Q206.783 797.177 204.954 793.635 Q203.149 790.07 199.514 790.07 M199.514 786.366 Q205.324 786.366 208.38 790.973 Q211.459 795.556 211.459 804.306 Q211.459 813.033 208.38 817.639 Q205.324 822.223 199.514 822.223 Q193.704 822.223 190.625 817.639 Q187.57 813.033 187.57 804.306 Q187.57 795.556 190.625 790.973 Q193.704 786.366 199.514 786.366 Z\" fill=\"#000000\" fill-rule=\"evenodd\" fill-opacity=\"1\" /><path clip-path=\"url(#clip010)\" d=\"M 0 0 M144.098 477.537 L166.32 477.537 L166.32 479.528 L153.774 512.097 L148.89 512.097 L160.695 481.472 L144.098 481.472 L144.098 477.537 Z\" fill=\"#000000\" fill-rule=\"evenodd\" fill-opacity=\"1\" /><path clip-path=\"url(#clip010)\" d=\"M 0 0 M175.44 506.218 L180.325 506.218 L180.325 512.097 L175.44 512.097 L175.44 506.218 Z\" fill=\"#000000\" fill-rule=\"evenodd\" fill-opacity=\"1\" /><path clip-path=\"url(#clip010)\" d=\"M 0 0 M190.556 477.537 L208.912 477.537 L208.912 481.472 L194.838 481.472 L194.838 489.945 Q195.857 489.597 196.875 489.435 Q197.894 489.25 198.912 489.25 Q204.699 489.25 208.079 492.421 Q211.459 495.593 211.459 501.009 Q211.459 506.588 207.987 509.69 Q204.514 512.768 198.195 512.768 Q196.019 512.768 193.75 512.398 Q191.505 512.028 189.098 511.287 L189.098 506.588 Q191.181 507.722 193.403 508.278 Q195.625 508.833 198.102 508.833 Q202.107 508.833 204.445 506.727 Q206.783 504.62 206.783 501.009 Q206.783 497.398 204.445 495.292 Q202.107 493.185 198.102 493.185 Q196.227 493.185 194.352 493.602 Q192.5 494.019 190.556 494.898 L190.556 477.537 Z\" fill=\"#000000\" fill-rule=\"evenodd\" fill-opacity=\"1\" /><path clip-path=\"url(#clip010)\" d=\"M 0 0 M114.931 198.708 L122.57 198.708 L122.57 172.342 L114.26 174.009 L114.26 169.75 L122.524 168.083 L127.2 168.083 L127.2 198.708 L134.839 198.708 L134.839 202.643 L114.931 202.643 L114.931 198.708 Z\" fill=\"#000000\" fill-rule=\"evenodd\" fill-opacity=\"1\" /><path clip-path=\"url(#clip010)\" d=\"M 0 0 M154.283 171.162 Q150.672 171.162 148.843 174.726 Q147.038 178.268 147.038 185.398 Q147.038 192.504 148.843 196.069 Q150.672 199.611 154.283 199.611 Q157.917 199.611 159.723 196.069 Q161.552 192.504 161.552 185.398 Q161.552 178.268 159.723 174.726 Q157.917 171.162 154.283 171.162 M154.283 167.458 Q160.093 167.458 163.149 172.064 Q166.227 176.648 166.227 185.398 Q166.227 194.124 163.149 198.731 Q160.093 203.314 154.283 203.314 Q148.473 203.314 145.394 198.731 Q142.339 194.124 142.339 185.398 Q142.339 176.648 145.394 172.064 Q148.473 167.458 154.283 167.458 Z\" fill=\"#000000\" fill-rule=\"evenodd\" fill-opacity=\"1\" /><path clip-path=\"url(#clip010)\" d=\"M 0 0 M174.445 196.763 L179.329 196.763 L179.329 202.643 L174.445 202.643 L174.445 196.763 Z\" fill=\"#000000\" fill-rule=\"evenodd\" fill-opacity=\"1\" /><path clip-path=\"url(#clip010)\" d=\"M 0 0 M199.514 171.162 Q195.903 171.162 194.075 174.726 Q192.269 178.268 192.269 185.398 Q192.269 192.504 194.075 196.069 Q195.903 199.611 199.514 199.611 Q203.149 199.611 204.954 196.069 Q206.783 192.504 206.783 185.398 Q206.783 178.268 204.954 174.726 Q203.149 171.162 199.514 171.162 M199.514 167.458 Q205.324 167.458 208.38 172.064 Q211.459 176.648 211.459 185.398 Q211.459 194.124 208.38 198.731 Q205.324 203.314 199.514 203.314 Q193.704 203.314 190.625 198.731 Q187.57 194.124 187.57 185.398 Q187.57 176.648 190.625 172.064 Q193.704 167.458 199.514 167.458 Z\" fill=\"#000000\" fill-rule=\"evenodd\" fill-opacity=\"1\" /><path clip-path=\"url(#clip010)\" d=\"M 0 0 M35.3266 900.067 L35.3266 909.329 L45.9574 912.003 L45.9574 902.677 L35.3266 900.067 M17.2162 904.841 L30.4251 908.152 L30.4251 898.858 L17.2162 895.516 L17.2162 890.423 L30.4251 893.701 L30.4251 883.771 L35.3266 883.771 L35.3266 894.943 L45.9574 897.553 L45.9574 887.431 L50.8271 887.431 L50.8271 898.794 L64.0042 902.104 L64.0042 907.197 L50.8271 903.918 L50.8271 913.244 L64.0042 916.523 L64.0042 921.647 L50.8271 918.337 L50.8271 928.363 L45.9574 928.363 L45.9574 917.159 L35.3266 914.486 L35.3266 924.734 L30.4251 924.734 L30.4251 913.244 L17.2162 909.998 L17.2162 904.841 Z\" fill=\"#000000\" fill-rule=\"evenodd\" fill-opacity=\"1\" /><path clip-path=\"url(#clip010)\" d=\"M 0 0 M29.4065 829.185 L34.9447 829.185 Q33.6716 831.668 33.035 834.341 Q32.3984 837.015 32.3984 839.879 Q32.3984 844.24 33.7352 846.436 Q35.072 848.6 37.7456 848.6 Q39.7826 848.6 40.9603 847.041 Q42.1061 845.481 43.1565 840.771 L43.6021 838.765 Q44.9389 832.527 47.3897 829.917 Q49.8086 827.275 54.1691 827.275 Q59.1344 827.275 62.0308 831.222 Q64.9272 835.137 64.9272 842.012 Q64.9272 844.877 64.3543 847.996 Q63.8132 851.083 62.6992 854.521 L56.6518 854.521 Q58.3387 851.274 59.198 848.123 Q60.0256 844.972 60.0256 841.885 Q60.0256 837.747 58.6251 835.519 Q57.1929 833.291 54.6147 833.291 Q52.2276 833.291 50.9545 834.914 Q49.6813 836.506 48.5037 841.948 L48.0262 843.985 Q46.8804 849.428 44.5251 851.847 Q42.138 854.266 38.0002 854.266 Q32.9713 854.266 30.2341 850.701 Q27.4968 847.136 27.4968 840.58 Q27.4968 837.333 27.9743 834.469 Q28.4517 831.604 29.4065 829.185 Z\" fill=\"#000000\" fill-rule=\"evenodd\" fill-opacity=\"1\" /><path clip-path=\"url(#clip010)\" d=\"M 0 0 M29.7248 792.296 L35.1993 792.296 Q33.8307 794.778 33.1623 797.293 Q32.4621 799.775 32.4621 802.322 Q32.4621 808.019 36.0905 811.17 Q39.6872 814.321 46.212 814.321 Q52.7369 814.321 56.3653 811.17 Q59.9619 808.019 59.9619 802.322 Q59.9619 799.775 59.2935 797.293 Q58.5933 794.778 57.2247 792.296 L62.6355 792.296 Q63.7814 794.747 64.3543 797.388 Q64.9272 799.998 64.9272 802.958 Q64.9272 811.011 59.8664 815.753 Q54.8057 820.496 46.212 820.496 Q37.491 820.496 32.4939 815.722 Q27.4968 810.915 27.4968 802.576 Q27.4968 799.871 28.0697 797.293 Q28.6108 794.715 29.7248 792.296 Z\" fill=\"#000000\" fill-rule=\"evenodd\" fill-opacity=\"1\" /><path clip-path=\"url(#clip010)\" d=\"M 0 0 M42.4881 752.478 L64.0042 752.478 L64.0042 758.335 L42.679 758.335 Q37.6183 758.335 35.1038 760.308 Q32.5894 762.281 32.5894 766.228 Q32.5894 770.971 35.6131 773.708 Q38.6368 776.445 43.8567 776.445 L64.0042 776.445 L64.0042 782.333 L14.479 782.333 L14.479 776.445 L33.8944 776.445 Q30.6797 774.344 29.0883 771.512 Q27.4968 768.647 27.4968 764.923 Q27.4968 758.78 31.3163 755.629 Q35.1038 752.478 42.4881 752.478 Z\" fill=\"#000000\" fill-rule=\"evenodd\" fill-opacity=\"1\" /><path clip-path=\"url(#clip010)\" d=\"M 0 0 M32.4621 726.984 Q32.4621 731.694 36.1542 734.432 Q39.8145 737.169 46.212 737.169 Q52.6095 737.169 56.3017 734.463 Q59.9619 731.726 59.9619 726.984 Q59.9619 722.305 56.2698 719.568 Q52.5777 716.83 46.212 716.83 Q39.8781 716.83 36.186 719.568 Q32.4621 722.305 32.4621 726.984 M27.4968 726.984 Q27.4968 719.345 32.4621 714.984 Q37.4273 710.624 46.212 710.624 Q54.9649 710.624 59.9619 714.984 Q64.9272 719.345 64.9272 726.984 Q64.9272 734.654 59.9619 739.015 Q54.9649 743.344 46.212 743.344 Q37.4273 743.344 32.4621 739.015 Q27.4968 734.654 27.4968 726.984 Z\" fill=\"#000000\" fill-rule=\"evenodd\" fill-opacity=\"1\" /><path clip-path=\"url(#clip010)\" d=\"M 0 0 M32.4621 687.102 Q32.4621 691.813 36.1542 694.55 Q39.8145 697.288 46.212 697.288 Q52.6095 697.288 56.3017 694.582 Q59.9619 691.845 59.9619 687.102 Q59.9619 682.424 56.2698 679.686 Q52.5777 676.949 46.212 676.949 Q39.8781 676.949 36.186 679.686 Q32.4621 682.424 32.4621 687.102 M27.4968 687.102 Q27.4968 679.464 32.4621 675.103 Q37.4273 670.743 46.212 670.743 Q54.9649 670.743 59.9619 675.103 Q64.9272 679.464 64.9272 687.102 Q64.9272 694.773 59.9619 699.134 Q54.9649 703.462 46.212 703.462 Q37.4273 703.462 32.4621 699.134 Q27.4968 694.773 27.4968 687.102 Z\" fill=\"#000000\" fill-rule=\"evenodd\" fill-opacity=\"1\" /><path clip-path=\"url(#clip010)\" d=\"M 0 0 M14.479 661.035 L14.479 655.178 L64.0042 655.178 L64.0042 661.035 L14.479 661.035 Z\" fill=\"#000000\" fill-rule=\"evenodd\" fill-opacity=\"1\" /><path clip-path=\"url(#clip010)\" d=\"M 0 0 M29.4065 620.199 L34.9447 620.199 Q33.6716 622.682 33.035 625.355 Q32.3984 628.029 32.3984 630.893 Q32.3984 635.254 33.7352 637.45 Q35.072 639.614 37.7456 639.614 Q39.7826 639.614 40.9603 638.055 Q42.1061 636.495 43.1565 631.784 L43.6021 629.779 Q44.9389 623.541 47.3897 620.931 Q49.8086 618.289 54.1691 618.289 Q59.1344 618.289 62.0308 622.236 Q64.9272 626.151 64.9272 633.026 Q64.9272 635.89 64.3543 639.01 Q63.8132 642.097 62.6992 645.534 L56.6518 645.534 Q58.3387 642.288 59.198 639.137 Q60.0256 635.986 60.0256 632.898 Q60.0256 628.761 58.6251 626.533 Q57.1929 624.305 54.6147 624.305 Q52.2276 624.305 50.9545 625.928 Q49.6813 627.519 48.5037 632.962 L48.0262 634.999 Q46.8804 640.442 44.5251 642.861 Q42.138 645.28 38.0002 645.28 Q32.9713 645.28 30.2341 641.715 Q27.4968 638.15 27.4968 631.594 Q27.4968 628.347 27.9743 625.482 Q28.4517 622.618 29.4065 620.199 Z\" fill=\"#000000\" fill-rule=\"evenodd\" fill-opacity=\"1\" /><path clip-path=\"url(#clip010)\" d=\"M 0 0 M1138.64 12.096 L1189.8 12.096 L1189.8 18.9825 L1168.33 18.9825 L1168.33 72.576 L1160.11 72.576 L1160.11 18.9825 L1138.64 18.9825 L1138.64 12.096 Z\" fill=\"#000000\" fill-rule=\"evenodd\" fill-opacity=\"1\" /><path clip-path=\"url(#clip010)\" d=\"M 0 0 M1200.86 32.4315 Q1194.86 32.4315 1191.38 37.1306 Q1187.9 41.7891 1187.9 49.9314 Q1187.9 58.0738 1191.34 62.7728 Q1194.82 67.4314 1200.86 67.4314 Q1206.81 67.4314 1210.3 62.7323 Q1213.78 58.0333 1213.78 49.9314 Q1213.78 41.8701 1210.3 37.1711 Q1206.81 32.4315 1200.86 32.4315 M1200.86 26.1121 Q1210.58 26.1121 1216.13 32.4315 Q1221.68 38.7509 1221.68 49.9314 Q1221.68 61.0714 1216.13 67.4314 Q1210.58 73.7508 1200.86 73.7508 Q1191.1 73.7508 1185.55 67.4314 Q1180.04 61.0714 1180.04 49.9314 Q1180.04 38.7509 1185.55 32.4315 Q1191.1 26.1121 1200.86 26.1121 Z\" fill=\"#000000\" fill-rule=\"evenodd\" fill-opacity=\"1\" /><path clip-path=\"url(#clip010)\" d=\"M 0 0 M1241.25 65.7705 L1241.25 89.8329 L1233.75 89.8329 L1233.75 27.2059 L1241.25 27.2059 L1241.25 34.0924 Q1243.6 30.0415 1247.16 28.0971 Q1250.77 26.1121 1255.75 26.1121 Q1264.01 26.1121 1269.16 32.6746 Q1274.34 39.2371 1274.34 49.9314 Q1274.34 60.6258 1269.16 67.1883 Q1264.01 73.7508 1255.75 73.7508 Q1250.77 73.7508 1247.16 71.8063 Q1243.6 69.8214 1241.25 65.7705 M1266.61 49.9314 Q1266.61 41.7081 1263.2 37.0496 Q1259.84 32.3505 1253.93 32.3505 Q1248.01 32.3505 1244.61 37.0496 Q1241.25 41.7081 1241.25 49.9314 Q1241.25 58.1548 1244.61 62.8538 Q1248.01 67.5124 1253.93 67.5124 Q1259.84 67.5124 1263.2 62.8538 Q1266.61 58.1548 1266.61 49.9314 Z\" fill=\"#000000\" fill-rule=\"evenodd\" fill-opacity=\"1\" /><path clip-path=\"url(#clip010)\" d=\"M 0 0 M1305.01 12.096 L1356.17 12.096 L1356.17 18.9825 L1334.7 18.9825 L1334.7 72.576 L1326.48 72.576 L1326.48 18.9825 L1305.01 18.9825 L1305.01 12.096 Z\" fill=\"#000000\" fill-rule=\"evenodd\" fill-opacity=\"1\" /><path clip-path=\"url(#clip010)\" d=\"M 0 0 M1361.19 27.2059 L1368.65 27.2059 L1368.65 72.576 L1361.19 72.576 L1361.19 27.2059 M1361.19 9.54393 L1368.65 9.54393 L1368.65 18.9825 L1361.19 18.9825 L1361.19 9.54393 Z\" fill=\"#000000\" fill-rule=\"evenodd\" fill-opacity=\"1\" /><path clip-path=\"url(#clip010)\" d=\"M 0 0 M1423.05 48.0275 L1423.05 51.6733 L1388.78 51.6733 Q1389.27 59.3701 1393.4 63.421 Q1397.57 67.4314 1404.99 67.4314 Q1409.28 67.4314 1413.29 66.3781 Q1417.34 65.3249 1421.31 63.2184 L1421.31 70.267 Q1417.3 71.9684 1413.09 72.8596 Q1408.87 73.7508 1404.54 73.7508 Q1393.68 73.7508 1387.32 67.4314 Q1381 61.1119 1381 50.3365 Q1381 39.1965 1387 32.6746 Q1393.04 26.1121 1403.24 26.1121 Q1412.4 26.1121 1417.71 32.0264 Q1423.05 37.9003 1423.05 48.0275 M1415.6 45.84 Q1415.52 39.7232 1412.16 36.0774 Q1408.83 32.4315 1403.32 32.4315 Q1397.09 32.4315 1393.32 35.9558 Q1389.59 39.4801 1389.02 45.8805 L1415.6 45.84 Z\" fill=\"#000000\" fill-rule=\"evenodd\" fill-opacity=\"1\" /><path clip-path=\"url(#clip010)\" d=\"M 0 0 M1461.58 34.1734 Q1460.32 33.4443 1458.82 33.1202 Q1457.36 32.7556 1455.58 32.7556 Q1449.26 32.7556 1445.86 36.8875 Q1442.5 40.9789 1442.5 48.6757 L1442.5 72.576 L1435 72.576 L1435 27.2059 L1442.5 27.2059 L1442.5 34.2544 Q1444.85 30.1225 1448.61 28.1376 Q1452.38 26.1121 1457.77 26.1121 Q1458.54 26.1121 1459.47 26.2337 Q1460.4 26.3147 1461.54 26.5172 L1461.58 34.1734 Z\" fill=\"#000000\" fill-rule=\"evenodd\" fill-opacity=\"1\" /><path clip-path=\"url(#clip012)\" d=\"\n",
       "M247.459 928.053 L247.459 1423.18 L668.518 1423.18 L668.518 928.053 L247.459 928.053 L247.459 928.053  Z\n",
       "  \" fill=\"#1874cd\" fill-rule=\"evenodd\" fill-opacity=\"0.7\"/>\n",
       "<polyline clip-path=\"url(#clip012)\" style=\"stroke:#000000; stroke-width:4; stroke-opacity:0.7; fill:none\" points=\"\n",
       "  247.459,928.053 247.459,1423.18 668.518,1423.18 668.518,928.053 247.459,928.053 \n",
       "  \"/>\n",
       "<path clip-path=\"url(#clip012)\" d=\"\n",
       "M668.518 309.145 L668.518 1423.18 L1089.58 1423.18 L1089.58 309.145 L668.518 309.145 L668.518 309.145  Z\n",
       "  \" fill=\"#1874cd\" fill-rule=\"evenodd\" fill-opacity=\"0.7\"/>\n",
       "<polyline clip-path=\"url(#clip012)\" style=\"stroke:#000000; stroke-width:4; stroke-opacity:0.7; fill:none\" points=\"\n",
       "  668.518,309.145 668.518,1423.18 1089.58,1423.18 1089.58,309.145 668.518,309.145 \n",
       "  \"/>\n",
       "<path clip-path=\"url(#clip012)\" d=\"\n",
       "M1089.58 680.49 L1089.58 1423.18 L1510.64 1423.18 L1510.64 680.49 L1089.58 680.49 L1089.58 680.49  Z\n",
       "  \" fill=\"#1874cd\" fill-rule=\"evenodd\" fill-opacity=\"0.7\"/>\n",
       "<polyline clip-path=\"url(#clip012)\" style=\"stroke:#000000; stroke-width:4; stroke-opacity:0.7; fill:none\" points=\"\n",
       "  1089.58,680.49 1089.58,1423.18 1510.64,1423.18 1510.64,680.49 1089.58,680.49 \n",
       "  \"/>\n",
       "<path clip-path=\"url(#clip012)\" d=\"\n",
       "M1510.64 1299.4 L1510.64 1423.18 L1931.7 1423.18 L1931.7 1299.4 L1510.64 1299.4 L1510.64 1299.4  Z\n",
       "  \" fill=\"#1874cd\" fill-rule=\"evenodd\" fill-opacity=\"0.7\"/>\n",
       "<polyline clip-path=\"url(#clip012)\" style=\"stroke:#000000; stroke-width:4; stroke-opacity:0.7; fill:none\" points=\"\n",
       "  1510.64,1299.4 1510.64,1423.18 1931.7,1423.18 1931.7,1299.4 1510.64,1299.4 \n",
       "  \"/>\n",
       "<path clip-path=\"url(#clip012)\" d=\"\n",
       "M1931.7 1299.4 L1931.7 1423.18 L2352.76 1423.18 L2352.76 1299.4 L1931.7 1299.4 L1931.7 1299.4  Z\n",
       "  \" fill=\"#1874cd\" fill-rule=\"evenodd\" fill-opacity=\"0.7\"/>\n",
       "<polyline clip-path=\"url(#clip012)\" style=\"stroke:#000000; stroke-width:4; stroke-opacity:0.7; fill:none\" points=\"\n",
       "  1931.7,1299.4 1931.7,1423.18 2352.76,1423.18 2352.76,1299.4 1931.7,1299.4 \n",
       "  \"/>\n",
       "</svg>\n"
      ]
     },
     "execution_count": 5,
     "metadata": {},
     "output_type": "execute_result"
    }
   ],
   "source": [
    "top_tier = Array{Curriculum,1}()\n",
    "top_tier_total_cc = 0\n",
    "top_tier_avg_cc = 0\n",
    "for (key, val) in curriculum\n",
    "    if (split(key, \"/\")[1]) == \"tier_top\"\n",
    "        name = split(split(key, \"/\")[2], \".\")[1]\n",
    "        println(\"$name => $(val.metrics[\"complexity\"][1])\")\n",
    "        push!(top_tier, val)\n",
    "        top_tier_total_cc += val.metrics[\"complexity\"][1]\n",
    "    end\n",
    "end\n",
    "top_tier_avg_cc = round(top_tier_total_cc / length(top_tier), digits=2)\n",
    "println(\"Avg. curricular complexity = $(top_tier_avg_cc)\")\n",
    "metric_histogram(top_tier, \"complexity\", nbins=5, title=\"Top Tier\", xlabel=\"curricular complexity\", ylabel=\"# schools\", xlim=(0,500))"
   ]
  },
  {
   "cell_type": "code",
   "execution_count": 6,
   "metadata": {},
   "outputs": [
    {
     "name": "stdout",
     "output_type": "stream",
     "text": [
      "University of Miami => 203.0\n",
      "Embry-Riddle Aeronautical University => 341.0\n",
      "University of Oklahoma => 248.0\n",
      "New Jersey Institute of Technology => 427.0\n",
      "University of North Carolina--Charlotte => 448.0\n",
      "Southern Methodist University => 294.0\n",
      "San Diego State University => 298.0\n",
      "University of Kentucky => 241.0\n",
      "Indiana University-Purdue University--Indianapolis => 269.0\n",
      "University of Houston => 520.0\n",
      "University of California--Riverside => 283.59999999999985\n",
      "Louisiana State University--Baton Rouge => 275.0\n",
      "Brigham Young University => 290.0\n",
      "George Washington University => 311.0\n",
      "Texas Tech University => 318.0\n",
      "University of Cincinnati => 173.0\n",
      "Oklahoma State University => 313.0\n",
      "University of California--Santa Cruz => 185.59999999999997\n",
      "Clarkson University => 217.0\n",
      "University of Missouri => 215.0\n",
      "University of Alabama => 294.0\n",
      "Avg. curricular complexity = 293.53333333333336\n"
     ]
    },
    {
     "data": {
      "image/svg+xml": [
       "<?xml version=\"1.0\" encoding=\"utf-8\"?>\n",
       "<svg xmlns=\"http://www.w3.org/2000/svg\" xmlns:xlink=\"http://www.w3.org/1999/xlink\" width=\"600\" height=\"400\" viewBox=\"0 0 2400 1600\">\n",
       "<defs>\n",
       "  <clipPath id=\"clip050\">\n",
       "    <rect x=\"0\" y=\"0\" width=\"2400\" height=\"1600\"/>\n",
       "  </clipPath>\n",
       "</defs>\n",
       "<path clip-path=\"url(#clip050)\" d=\"\n",
       "M0 1600 L2400 1600 L2400 0 L0 0  Z\n",
       "  \" fill=\"#ffffff\" fill-rule=\"evenodd\" fill-opacity=\"1\"/>\n",
       "<defs>\n",
       "  <clipPath id=\"clip051\">\n",
       "    <rect x=\"480\" y=\"0\" width=\"1681\" height=\"1600\"/>\n",
       "  </clipPath>\n",
       "</defs>\n",
       "<path clip-path=\"url(#clip050)\" d=\"\n",
       "M247.459 1423.18 L2352.76 1423.18 L2352.76 123.472 L247.459 123.472  Z\n",
       "  \" fill=\"#ffffff\" fill-rule=\"evenodd\" fill-opacity=\"1\"/>\n",
       "<defs>\n",
       "  <clipPath id=\"clip052\">\n",
       "    <rect x=\"247\" y=\"123\" width=\"2106\" height=\"1301\"/>\n",
       "  </clipPath>\n",
       "</defs>\n",
       "<polyline clip-path=\"url(#clip052)\" style=\"stroke:#000000; stroke-width:2; stroke-opacity:0.1; fill:none\" points=\"\n",
       "  247.459,1423.18 247.459,123.472 \n",
       "  \"/>\n",
       "<polyline clip-path=\"url(#clip052)\" style=\"stroke:#000000; stroke-width:2; stroke-opacity:0.1; fill:none\" points=\"\n",
       "  668.518,1423.18 668.518,123.472 \n",
       "  \"/>\n",
       "<polyline clip-path=\"url(#clip052)\" style=\"stroke:#000000; stroke-width:2; stroke-opacity:0.1; fill:none\" points=\"\n",
       "  1089.58,1423.18 1089.58,123.472 \n",
       "  \"/>\n",
       "<polyline clip-path=\"url(#clip052)\" style=\"stroke:#000000; stroke-width:2; stroke-opacity:0.1; fill:none\" points=\"\n",
       "  1510.64,1423.18 1510.64,123.472 \n",
       "  \"/>\n",
       "<polyline clip-path=\"url(#clip052)\" style=\"stroke:#000000; stroke-width:2; stroke-opacity:0.1; fill:none\" points=\"\n",
       "  1931.7,1423.18 1931.7,123.472 \n",
       "  \"/>\n",
       "<polyline clip-path=\"url(#clip052)\" style=\"stroke:#000000; stroke-width:2; stroke-opacity:0.1; fill:none\" points=\"\n",
       "  2352.76,1423.18 2352.76,123.472 \n",
       "  \"/>\n",
       "<polyline clip-path=\"url(#clip050)\" style=\"stroke:#000000; stroke-width:4; stroke-opacity:1; fill:none\" points=\"\n",
       "  247.459,1423.18 2352.76,1423.18 \n",
       "  \"/>\n",
       "<polyline clip-path=\"url(#clip050)\" style=\"stroke:#000000; stroke-width:4; stroke-opacity:1; fill:none\" points=\"\n",
       "  247.459,1423.18 247.459,1407.58 \n",
       "  \"/>\n",
       "<polyline clip-path=\"url(#clip050)\" style=\"stroke:#000000; stroke-width:4; stroke-opacity:1; fill:none\" points=\"\n",
       "  668.518,1423.18 668.518,1407.58 \n",
       "  \"/>\n",
       "<polyline clip-path=\"url(#clip050)\" style=\"stroke:#000000; stroke-width:4; stroke-opacity:1; fill:none\" points=\"\n",
       "  1089.58,1423.18 1089.58,1407.58 \n",
       "  \"/>\n",
       "<polyline clip-path=\"url(#clip050)\" style=\"stroke:#000000; stroke-width:4; stroke-opacity:1; fill:none\" points=\"\n",
       "  1510.64,1423.18 1510.64,1407.58 \n",
       "  \"/>\n",
       "<polyline clip-path=\"url(#clip050)\" style=\"stroke:#000000; stroke-width:4; stroke-opacity:1; fill:none\" points=\"\n",
       "  1931.7,1423.18 1931.7,1407.58 \n",
       "  \"/>\n",
       "<polyline clip-path=\"url(#clip050)\" style=\"stroke:#000000; stroke-width:4; stroke-opacity:1; fill:none\" points=\"\n",
       "  2352.76,1423.18 2352.76,1407.58 \n",
       "  \"/>\n",
       "<path clip-path=\"url(#clip050)\" d=\"M 0 0 M247.459 1452.37 Q243.848 1452.37 242.019 1455.94 Q240.213 1459.48 240.213 1466.61 Q240.213 1473.71 242.019 1477.28 Q243.848 1480.82 247.459 1480.82 Q251.093 1480.82 252.898 1477.28 Q254.727 1473.71 254.727 1466.61 Q254.727 1459.48 252.898 1455.94 Q251.093 1452.37 247.459 1452.37 M247.459 1448.67 Q253.269 1448.67 256.324 1453.27 Q259.403 1457.86 259.403 1466.61 Q259.403 1475.33 256.324 1479.94 Q253.269 1484.52 247.459 1484.52 Q241.649 1484.52 238.57 1479.94 Q235.514 1475.33 235.514 1466.61 Q235.514 1457.86 238.57 1453.27 Q241.649 1448.67 247.459 1448.67 Z\" fill=\"#000000\" fill-rule=\"evenodd\" fill-opacity=\"1\" /><path clip-path=\"url(#clip050)\" d=\"M 0 0 M628.125 1479.92 L635.764 1479.92 L635.764 1453.55 L627.454 1455.22 L627.454 1450.96 L635.717 1449.29 L640.393 1449.29 L640.393 1479.92 L648.032 1479.92 L648.032 1483.85 L628.125 1483.85 L628.125 1479.92 Z\" fill=\"#000000\" fill-rule=\"evenodd\" fill-opacity=\"1\" /><path clip-path=\"url(#clip050)\" d=\"M 0 0 M667.476 1452.37 Q663.865 1452.37 662.037 1455.94 Q660.231 1459.48 660.231 1466.61 Q660.231 1473.71 662.037 1477.28 Q663.865 1480.82 667.476 1480.82 Q671.111 1480.82 672.916 1477.28 Q674.745 1473.71 674.745 1466.61 Q674.745 1459.48 672.916 1455.94 Q671.111 1452.37 667.476 1452.37 M667.476 1448.67 Q673.287 1448.67 676.342 1453.27 Q679.421 1457.86 679.421 1466.61 Q679.421 1475.33 676.342 1479.94 Q673.287 1484.52 667.476 1484.52 Q661.666 1484.52 658.588 1479.94 Q655.532 1475.33 655.532 1466.61 Q655.532 1457.86 658.588 1453.27 Q661.666 1448.67 667.476 1448.67 Z\" fill=\"#000000\" fill-rule=\"evenodd\" fill-opacity=\"1\" /><path clip-path=\"url(#clip050)\" d=\"M 0 0 M697.638 1452.37 Q694.027 1452.37 692.199 1455.94 Q690.393 1459.48 690.393 1466.61 Q690.393 1473.71 692.199 1477.28 Q694.027 1480.82 697.638 1480.82 Q701.273 1480.82 703.078 1477.28 Q704.907 1473.71 704.907 1466.61 Q704.907 1459.48 703.078 1455.94 Q701.273 1452.37 697.638 1452.37 M697.638 1448.67 Q703.449 1448.67 706.504 1453.27 Q709.583 1457.86 709.583 1466.61 Q709.583 1475.33 706.504 1479.94 Q703.449 1484.52 697.638 1484.52 Q691.828 1484.52 688.75 1479.94 Q685.694 1475.33 685.694 1466.61 Q685.694 1457.86 688.75 1453.27 Q691.828 1448.67 697.638 1448.67 Z\" fill=\"#000000\" fill-rule=\"evenodd\" fill-opacity=\"1\" /><path clip-path=\"url(#clip050)\" d=\"M 0 0 M1053.27 1479.92 L1069.59 1479.92 L1069.59 1483.85 L1047.64 1483.85 L1047.64 1479.92 Q1050.31 1477.16 1054.89 1472.53 Q1059.5 1467.88 1060.68 1466.54 Q1062.92 1464.01 1063.8 1462.28 Q1064.71 1460.52 1064.71 1458.83 Q1064.71 1456.07 1062.76 1454.34 Q1060.84 1452.6 1057.74 1452.6 Q1055.54 1452.6 1053.08 1453.37 Q1050.65 1454.13 1047.88 1455.68 L1047.88 1450.96 Q1050.7 1449.82 1053.15 1449.25 Q1055.61 1448.67 1057.64 1448.67 Q1063.02 1448.67 1066.21 1451.35 Q1069.4 1454.04 1069.4 1458.53 Q1069.4 1460.66 1068.59 1462.58 Q1067.81 1464.48 1065.7 1467.07 Q1065.12 1467.74 1062.02 1470.96 Q1058.92 1474.15 1053.27 1479.92 Z\" fill=\"#000000\" fill-rule=\"evenodd\" fill-opacity=\"1\" /><path clip-path=\"url(#clip050)\" d=\"M 0 0 M1089.4 1452.37 Q1085.79 1452.37 1083.96 1455.94 Q1082.16 1459.48 1082.16 1466.61 Q1082.16 1473.71 1083.96 1477.28 Q1085.79 1480.82 1089.4 1480.82 Q1093.04 1480.82 1094.84 1477.28 Q1096.67 1473.71 1096.67 1466.61 Q1096.67 1459.48 1094.84 1455.94 Q1093.04 1452.37 1089.4 1452.37 M1089.4 1448.67 Q1095.21 1448.67 1098.27 1453.27 Q1101.35 1457.86 1101.35 1466.61 Q1101.35 1475.33 1098.27 1479.94 Q1095.21 1484.52 1089.4 1484.52 Q1083.59 1484.52 1080.52 1479.94 Q1077.46 1475.33 1077.46 1466.61 Q1077.46 1457.86 1080.52 1453.27 Q1083.59 1448.67 1089.4 1448.67 Z\" fill=\"#000000\" fill-rule=\"evenodd\" fill-opacity=\"1\" /><path clip-path=\"url(#clip050)\" d=\"M 0 0 M1119.57 1452.37 Q1115.95 1452.37 1114.13 1455.94 Q1112.32 1459.48 1112.32 1466.61 Q1112.32 1473.71 1114.13 1477.28 Q1115.95 1480.82 1119.57 1480.82 Q1123.2 1480.82 1125.01 1477.28 Q1126.83 1473.71 1126.83 1466.61 Q1126.83 1459.48 1125.01 1455.94 Q1123.2 1452.37 1119.57 1452.37 M1119.57 1448.67 Q1125.38 1448.67 1128.43 1453.27 Q1131.51 1457.86 1131.51 1466.61 Q1131.51 1475.33 1128.43 1479.94 Q1125.38 1484.52 1119.57 1484.52 Q1113.76 1484.52 1110.68 1479.94 Q1107.62 1475.33 1107.62 1466.61 Q1107.62 1457.86 1110.68 1453.27 Q1113.76 1448.67 1119.57 1448.67 Z\" fill=\"#000000\" fill-rule=\"evenodd\" fill-opacity=\"1\" /><path clip-path=\"url(#clip050)\" d=\"M 0 0 M1484.4 1465.22 Q1487.76 1465.94 1489.63 1468.2 Q1491.53 1470.47 1491.53 1473.81 Q1491.53 1478.92 1488.01 1481.72 Q1484.49 1484.52 1478.01 1484.52 Q1475.83 1484.52 1473.52 1484.08 Q1471.23 1483.67 1468.77 1482.81 L1468.77 1478.3 Q1470.72 1479.43 1473.03 1480.01 Q1475.35 1480.59 1477.87 1480.59 Q1482.27 1480.59 1484.56 1478.85 Q1486.88 1477.12 1486.88 1473.81 Q1486.88 1470.75 1484.72 1469.04 Q1482.59 1467.3 1478.77 1467.3 L1474.75 1467.3 L1474.75 1463.46 L1478.96 1463.46 Q1482.41 1463.46 1484.24 1462.09 Q1486.07 1460.7 1486.07 1458.11 Q1486.07 1455.45 1484.17 1454.04 Q1482.29 1452.6 1478.77 1452.6 Q1476.85 1452.6 1474.65 1453.02 Q1472.45 1453.44 1469.82 1454.31 L1469.82 1450.15 Q1472.48 1449.41 1474.79 1449.04 Q1477.13 1448.67 1479.19 1448.67 Q1484.51 1448.67 1487.62 1451.1 Q1490.72 1453.5 1490.72 1457.63 Q1490.72 1460.5 1489.07 1462.49 Q1487.43 1464.45 1484.4 1465.22 Z\" fill=\"#000000\" fill-rule=\"evenodd\" fill-opacity=\"1\" /><path clip-path=\"url(#clip050)\" d=\"M 0 0 M1510.39 1452.37 Q1506.78 1452.37 1504.95 1455.94 Q1503.15 1459.48 1503.15 1466.61 Q1503.15 1473.71 1504.95 1477.28 Q1506.78 1480.82 1510.39 1480.82 Q1514.03 1480.82 1515.83 1477.28 Q1517.66 1473.71 1517.66 1466.61 Q1517.66 1459.48 1515.83 1455.94 Q1514.03 1452.37 1510.39 1452.37 M1510.39 1448.67 Q1516.2 1448.67 1519.26 1453.27 Q1522.34 1457.86 1522.34 1466.61 Q1522.34 1475.33 1519.26 1479.94 Q1516.2 1484.52 1510.39 1484.52 Q1504.58 1484.52 1501.51 1479.94 Q1498.45 1475.33 1498.45 1466.61 Q1498.45 1457.86 1501.51 1453.27 Q1504.58 1448.67 1510.39 1448.67 Z\" fill=\"#000000\" fill-rule=\"evenodd\" fill-opacity=\"1\" /><path clip-path=\"url(#clip050)\" d=\"M 0 0 M1540.56 1452.37 Q1536.94 1452.37 1535.12 1455.94 Q1533.31 1459.48 1533.31 1466.61 Q1533.31 1473.71 1535.12 1477.28 Q1536.94 1480.82 1540.56 1480.82 Q1544.19 1480.82 1546 1477.28 Q1547.82 1473.71 1547.82 1466.61 Q1547.82 1459.48 1546 1455.94 Q1544.19 1452.37 1540.56 1452.37 M1540.56 1448.67 Q1546.37 1448.67 1549.42 1453.27 Q1552.5 1457.86 1552.5 1466.61 Q1552.5 1475.33 1549.42 1479.94 Q1546.37 1484.52 1540.56 1484.52 Q1534.75 1484.52 1531.67 1479.94 Q1528.61 1475.33 1528.61 1466.61 Q1528.61 1457.86 1531.67 1453.27 Q1534.75 1448.67 1540.56 1448.67 Z\" fill=\"#000000\" fill-rule=\"evenodd\" fill-opacity=\"1\" /><path clip-path=\"url(#clip050)\" d=\"M 0 0 M1904.79 1453.37 L1892.98 1471.81 L1904.79 1471.81 L1904.79 1453.37 M1903.56 1449.29 L1909.44 1449.29 L1909.44 1471.81 L1914.37 1471.81 L1914.37 1475.7 L1909.44 1475.7 L1909.44 1483.85 L1904.79 1483.85 L1904.79 1475.7 L1889.19 1475.7 L1889.19 1471.19 L1903.56 1449.29 Z\" fill=\"#000000\" fill-rule=\"evenodd\" fill-opacity=\"1\" /><path clip-path=\"url(#clip050)\" d=\"M 0 0 M1932.1 1452.37 Q1928.49 1452.37 1926.66 1455.94 Q1924.86 1459.48 1924.86 1466.61 Q1924.86 1473.71 1926.66 1477.28 Q1928.49 1480.82 1932.1 1480.82 Q1935.74 1480.82 1937.54 1477.28 Q1939.37 1473.71 1939.37 1466.61 Q1939.37 1459.48 1937.54 1455.94 Q1935.74 1452.37 1932.1 1452.37 M1932.1 1448.67 Q1937.91 1448.67 1940.97 1453.27 Q1944.05 1457.86 1944.05 1466.61 Q1944.05 1475.33 1940.97 1479.94 Q1937.91 1484.52 1932.1 1484.52 Q1926.29 1484.52 1923.21 1479.94 Q1920.16 1475.33 1920.16 1466.61 Q1920.16 1457.86 1923.21 1453.27 Q1926.29 1448.67 1932.1 1448.67 Z\" fill=\"#000000\" fill-rule=\"evenodd\" fill-opacity=\"1\" /><path clip-path=\"url(#clip050)\" d=\"M 0 0 M1962.26 1452.37 Q1958.65 1452.37 1956.82 1455.94 Q1955.02 1459.48 1955.02 1466.61 Q1955.02 1473.71 1956.82 1477.28 Q1958.65 1480.82 1962.26 1480.82 Q1965.9 1480.82 1967.7 1477.28 Q1969.53 1473.71 1969.53 1466.61 Q1969.53 1459.48 1967.7 1455.94 Q1965.9 1452.37 1962.26 1452.37 M1962.26 1448.67 Q1968.07 1448.67 1971.13 1453.27 Q1974.21 1457.86 1974.21 1466.61 Q1974.21 1475.33 1971.13 1479.94 Q1968.07 1484.52 1962.26 1484.52 Q1956.45 1484.52 1953.37 1479.94 Q1950.32 1475.33 1950.32 1466.61 Q1950.32 1457.86 1953.37 1453.27 Q1956.45 1448.67 1962.26 1448.67 Z\" fill=\"#000000\" fill-rule=\"evenodd\" fill-opacity=\"1\" /><path clip-path=\"url(#clip050)\" d=\"M 0 0 M2312.37 1449.29 L2330.73 1449.29 L2330.73 1453.23 L2316.66 1453.23 L2316.66 1461.7 Q2317.68 1461.35 2318.69 1461.19 Q2319.71 1461 2320.73 1461 Q2326.52 1461 2329.9 1464.18 Q2333.28 1467.35 2333.28 1472.76 Q2333.28 1478.34 2329.8 1481.44 Q2326.33 1484.52 2320.01 1484.52 Q2317.84 1484.52 2315.57 1484.15 Q2313.32 1483.78 2310.92 1483.04 L2310.92 1478.34 Q2313 1479.48 2315.22 1480.03 Q2317.44 1480.59 2319.92 1480.59 Q2323.93 1480.59 2326.26 1478.48 Q2328.6 1476.38 2328.6 1472.76 Q2328.6 1469.15 2326.26 1467.05 Q2323.93 1464.94 2319.92 1464.94 Q2318.05 1464.94 2316.17 1465.36 Q2314.32 1465.77 2312.37 1466.65 L2312.37 1449.29 Z\" fill=\"#000000\" fill-rule=\"evenodd\" fill-opacity=\"1\" /><path clip-path=\"url(#clip050)\" d=\"M 0 0 M2352.49 1452.37 Q2348.88 1452.37 2347.05 1455.94 Q2345.24 1459.48 2345.24 1466.61 Q2345.24 1473.71 2347.05 1477.28 Q2348.88 1480.82 2352.49 1480.82 Q2356.12 1480.82 2357.93 1477.28 Q2359.76 1473.71 2359.76 1466.61 Q2359.76 1459.48 2357.93 1455.94 Q2356.12 1452.37 2352.49 1452.37 M2352.49 1448.67 Q2358.3 1448.67 2361.36 1453.27 Q2364.43 1457.86 2364.43 1466.61 Q2364.43 1475.33 2361.36 1479.94 Q2358.3 1484.52 2352.49 1484.52 Q2346.68 1484.52 2343.6 1479.94 Q2340.55 1475.33 2340.55 1466.61 Q2340.55 1457.86 2343.6 1453.27 Q2346.68 1448.67 2352.49 1448.67 Z\" fill=\"#000000\" fill-rule=\"evenodd\" fill-opacity=\"1\" /><path clip-path=\"url(#clip050)\" d=\"M 0 0 M2382.65 1452.37 Q2379.04 1452.37 2377.21 1455.94 Q2375.41 1459.48 2375.41 1466.61 Q2375.41 1473.71 2377.21 1477.28 Q2379.04 1480.82 2382.65 1480.82 Q2386.29 1480.82 2388.09 1477.28 Q2389.92 1473.71 2389.92 1466.61 Q2389.92 1459.48 2388.09 1455.94 Q2386.29 1452.37 2382.65 1452.37 M2382.65 1448.67 Q2388.46 1448.67 2391.52 1453.27 Q2394.6 1457.86 2394.6 1466.61 Q2394.6 1475.33 2391.52 1479.94 Q2388.46 1484.52 2382.65 1484.52 Q2376.84 1484.52 2373.76 1479.94 Q2370.71 1475.33 2370.71 1466.61 Q2370.71 1457.86 2373.76 1453.27 Q2376.84 1448.67 2382.65 1448.67 Z\" fill=\"#000000\" fill-rule=\"evenodd\" fill-opacity=\"1\" /><path clip-path=\"url(#clip050)\" d=\"M 0 0 M986.612 1533.76 L986.612 1539.24 Q984.13 1537.87 981.615 1537.2 Q979.132 1536.5 976.586 1536.5 Q970.889 1536.5 967.738 1540.13 Q964.587 1543.73 964.587 1550.25 Q964.587 1556.78 967.738 1560.4 Q970.889 1564 976.586 1564 Q979.132 1564 981.615 1563.33 Q984.13 1562.63 986.612 1561.26 L986.612 1566.68 Q984.161 1567.82 981.52 1568.39 Q978.91 1568.97 975.95 1568.97 Q967.897 1568.97 963.155 1563.91 Q958.412 1558.85 958.412 1550.25 Q958.412 1541.53 963.186 1536.53 Q967.992 1531.54 976.332 1531.54 Q979.037 1531.54 981.615 1532.11 Q984.193 1532.65 986.612 1533.76 Z\" fill=\"#000000\" fill-rule=\"evenodd\" fill-opacity=\"1\" /><path clip-path=\"url(#clip050)\" d=\"M 0 0 M996.193 1553.98 L996.193 1532.4 L1002.05 1532.4 L1002.05 1553.75 Q1002.05 1558.81 1004.02 1561.36 Q1006 1563.87 1009.94 1563.87 Q1014.68 1563.87 1017.42 1560.85 Q1020.19 1557.83 1020.19 1552.61 L1020.19 1532.4 L1026.05 1532.4 L1026.05 1568.04 L1020.19 1568.04 L1020.19 1562.57 Q1018.06 1565.82 1015.23 1567.41 Q1012.43 1568.97 1008.7 1568.97 Q1002.56 1568.97 999.375 1565.15 Q996.193 1561.33 996.193 1553.98 M1010.93 1531.54 L1010.93 1531.54 Z\" fill=\"#000000\" fill-rule=\"evenodd\" fill-opacity=\"1\" /><path clip-path=\"url(#clip050)\" d=\"M 0 0 M1058.77 1537.87 Q1057.78 1537.3 1056.6 1537.04 Q1055.46 1536.76 1054.06 1536.76 Q1049.09 1536.76 1046.42 1540 Q1043.78 1543.22 1043.78 1549.27 L1043.78 1568.04 L1037.89 1568.04 L1037.89 1532.4 L1043.78 1532.4 L1043.78 1537.93 Q1045.62 1534.69 1048.58 1533.13 Q1051.54 1531.54 1055.78 1531.54 Q1056.38 1531.54 1057.11 1531.63 Q1057.84 1531.7 1058.74 1531.85 L1058.77 1537.87 Z\" fill=\"#000000\" fill-rule=\"evenodd\" fill-opacity=\"1\" /><path clip-path=\"url(#clip050)\" d=\"M 0 0 M1084.42 1537.87 Q1083.43 1537.3 1082.26 1537.04 Q1081.11 1536.76 1079.71 1536.76 Q1074.75 1536.76 1072.07 1540 Q1069.43 1543.22 1069.43 1549.27 L1069.43 1568.04 L1063.54 1568.04 L1063.54 1532.4 L1069.43 1532.4 L1069.43 1537.93 Q1071.28 1534.69 1074.24 1533.13 Q1077.2 1531.54 1081.43 1531.54 Q1082.03 1531.54 1082.77 1531.63 Q1083.5 1531.7 1084.39 1531.85 L1084.42 1537.87 Z\" fill=\"#000000\" fill-rule=\"evenodd\" fill-opacity=\"1\" /><path clip-path=\"url(#clip050)\" d=\"M 0 0 M1090.56 1532.4 L1096.42 1532.4 L1096.42 1568.04 L1090.56 1568.04 L1090.56 1532.4 M1090.56 1518.52 L1096.42 1518.52 L1096.42 1525.93 L1090.56 1525.93 L1090.56 1518.52 Z\" fill=\"#000000\" fill-rule=\"evenodd\" fill-opacity=\"1\" /><path clip-path=\"url(#clip050)\" d=\"M 0 0 M1134.33 1533.76 L1134.33 1539.24 Q1131.85 1537.87 1129.33 1537.2 Q1126.85 1536.5 1124.3 1536.5 Q1118.61 1536.5 1115.45 1540.13 Q1112.3 1543.73 1112.3 1550.25 Q1112.3 1556.78 1115.45 1560.4 Q1118.61 1564 1124.3 1564 Q1126.85 1564 1129.33 1563.33 Q1131.85 1562.63 1134.33 1561.26 L1134.33 1566.68 Q1131.88 1567.82 1129.24 1568.39 Q1126.63 1568.97 1123.67 1568.97 Q1115.61 1568.97 1110.87 1563.91 Q1106.13 1558.85 1106.13 1550.25 Q1106.13 1541.53 1110.9 1536.53 Q1115.71 1531.54 1124.05 1531.54 Q1126.75 1531.54 1129.33 1532.11 Q1131.91 1532.65 1134.33 1533.76 Z\" fill=\"#000000\" fill-rule=\"evenodd\" fill-opacity=\"1\" /><path clip-path=\"url(#clip050)\" d=\"M 0 0 M1143.91 1553.98 L1143.91 1532.4 L1149.77 1532.4 L1149.77 1553.75 Q1149.77 1558.81 1151.74 1561.36 Q1153.71 1563.87 1157.66 1563.87 Q1162.4 1563.87 1165.14 1560.85 Q1167.91 1557.83 1167.91 1552.61 L1167.91 1532.4 L1173.76 1532.4 L1173.76 1568.04 L1167.91 1568.04 L1167.91 1562.57 Q1165.77 1565.82 1162.94 1567.41 Q1160.14 1568.97 1156.42 1568.97 Q1150.27 1568.97 1147.09 1565.15 Q1143.91 1561.33 1143.91 1553.98 M1158.65 1531.54 L1158.65 1531.54 Z\" fill=\"#000000\" fill-rule=\"evenodd\" fill-opacity=\"1\" /><path clip-path=\"url(#clip050)\" d=\"M 0 0 M1185.83 1518.52 L1191.68 1518.52 L1191.68 1568.04 L1185.83 1568.04 L1185.83 1518.52 Z\" fill=\"#000000\" fill-rule=\"evenodd\" fill-opacity=\"1\" /><path clip-path=\"url(#clip050)\" d=\"M 0 0 M1220.14 1550.12 Q1213.04 1550.12 1210.3 1551.75 Q1207.57 1553.37 1207.57 1557.29 Q1207.57 1560.4 1209.6 1562.25 Q1211.67 1564.07 1215.2 1564.07 Q1220.07 1564.07 1223 1560.63 Q1225.96 1557.16 1225.96 1551.43 L1225.96 1550.12 L1220.14 1550.12 M1231.82 1547.71 L1231.82 1568.04 L1225.96 1568.04 L1225.96 1562.63 Q1223.96 1565.88 1220.97 1567.44 Q1217.97 1568.97 1213.65 1568.97 Q1208.17 1568.97 1204.92 1565.91 Q1201.71 1562.82 1201.71 1557.67 Q1201.71 1551.65 1205.72 1548.6 Q1209.76 1545.54 1217.75 1545.54 L1225.96 1545.54 L1225.96 1544.97 Q1225.96 1540.93 1223.29 1538.73 Q1220.65 1536.5 1215.84 1536.5 Q1212.79 1536.5 1209.89 1537.23 Q1206.99 1537.97 1204.32 1539.43 L1204.32 1534.02 Q1207.53 1532.78 1210.56 1532.17 Q1213.58 1531.54 1216.45 1531.54 Q1224.18 1531.54 1228 1535.55 Q1231.82 1539.56 1231.82 1547.71 Z\" fill=\"#000000\" fill-rule=\"evenodd\" fill-opacity=\"1\" /><path clip-path=\"url(#clip050)\" d=\"M 0 0 M1264.54 1537.87 Q1263.55 1537.3 1262.37 1537.04 Q1261.23 1536.76 1259.83 1536.76 Q1254.86 1536.76 1252.19 1540 Q1249.55 1543.22 1249.55 1549.27 L1249.55 1568.04 L1243.66 1568.04 L1243.66 1532.4 L1249.55 1532.4 L1249.55 1537.93 Q1251.39 1534.69 1254.35 1533.13 Q1257.31 1531.54 1261.55 1531.54 Q1262.15 1531.54 1262.88 1531.63 Q1263.62 1531.7 1264.51 1531.85 L1264.54 1537.87 Z\" fill=\"#000000\" fill-rule=\"evenodd\" fill-opacity=\"1\" /><path clip-path=\"url(#clip050)\" d=\"M 0 0 M1317.06 1533.76 L1317.06 1539.24 Q1314.57 1537.87 1312.06 1537.2 Q1309.58 1536.5 1307.03 1536.5 Q1301.33 1536.5 1298.18 1540.13 Q1295.03 1543.73 1295.03 1550.25 Q1295.03 1556.78 1298.18 1560.4 Q1301.33 1564 1307.03 1564 Q1309.58 1564 1312.06 1563.33 Q1314.57 1562.63 1317.06 1561.26 L1317.06 1566.68 Q1314.61 1567.82 1311.96 1568.39 Q1309.35 1568.97 1306.39 1568.97 Q1298.34 1568.97 1293.6 1563.91 Q1288.86 1558.85 1288.86 1550.25 Q1288.86 1541.53 1293.63 1536.53 Q1298.44 1531.54 1306.78 1531.54 Q1309.48 1531.54 1312.06 1532.11 Q1314.64 1532.65 1317.06 1533.76 Z\" fill=\"#000000\" fill-rule=\"evenodd\" fill-opacity=\"1\" /><path clip-path=\"url(#clip050)\" d=\"M 0 0 M1341.05 1536.5 Q1336.34 1536.5 1333.61 1540.19 Q1330.87 1543.85 1330.87 1550.25 Q1330.87 1556.65 1333.58 1560.34 Q1336.31 1564 1341.05 1564 Q1345.73 1564 1348.47 1560.31 Q1351.21 1556.62 1351.21 1550.25 Q1351.21 1543.92 1348.47 1540.23 Q1345.73 1536.5 1341.05 1536.5 M1341.05 1531.54 Q1348.69 1531.54 1353.05 1536.5 Q1357.41 1541.47 1357.41 1550.25 Q1357.41 1559 1353.05 1564 Q1348.69 1568.97 1341.05 1568.97 Q1333.38 1568.97 1329.02 1564 Q1324.69 1559 1324.69 1550.25 Q1324.69 1541.47 1329.02 1536.5 Q1333.38 1531.54 1341.05 1531.54 Z\" fill=\"#000000\" fill-rule=\"evenodd\" fill-opacity=\"1\" /><path clip-path=\"url(#clip050)\" d=\"M 0 0 M1394.88 1539.24 Q1397.07 1535.29 1400.13 1533.41 Q1403.18 1531.54 1407.32 1531.54 Q1412.89 1531.54 1415.92 1535.45 Q1418.94 1539.33 1418.94 1546.53 L1418.94 1568.04 L1413.05 1568.04 L1413.05 1546.72 Q1413.05 1541.59 1411.24 1539.11 Q1409.42 1536.63 1405.7 1536.63 Q1401.15 1536.63 1398.51 1539.65 Q1395.86 1542.68 1395.86 1547.9 L1395.86 1568.04 L1389.98 1568.04 L1389.98 1546.72 Q1389.98 1541.56 1388.16 1539.11 Q1386.35 1536.63 1382.56 1536.63 Q1378.07 1536.63 1375.43 1539.68 Q1372.79 1542.71 1372.79 1547.9 L1372.79 1568.04 L1366.9 1568.04 L1366.9 1532.4 L1372.79 1532.4 L1372.79 1537.93 Q1374.79 1534.66 1377.59 1533.1 Q1380.39 1531.54 1384.25 1531.54 Q1388.13 1531.54 1390.83 1533.51 Q1393.57 1535.48 1394.88 1539.24 Z\" fill=\"#000000\" fill-rule=\"evenodd\" fill-opacity=\"1\" /><path clip-path=\"url(#clip050)\" d=\"M 0 0 M1436.29 1562.7 L1436.29 1581.6 L1430.4 1581.6 L1430.4 1532.4 L1436.29 1532.4 L1436.29 1537.81 Q1438.13 1534.62 1440.93 1533.1 Q1443.77 1531.54 1447.68 1531.54 Q1454.17 1531.54 1458.22 1536.69 Q1462.29 1541.85 1462.29 1550.25 Q1462.29 1558.65 1458.22 1563.81 Q1454.17 1568.97 1447.68 1568.97 Q1443.77 1568.97 1440.93 1567.44 Q1438.13 1565.88 1436.29 1562.7 M1456.21 1550.25 Q1456.21 1543.79 1453.54 1540.13 Q1450.89 1536.44 1446.25 1536.44 Q1441.6 1536.44 1438.93 1540.13 Q1436.29 1543.79 1436.29 1550.25 Q1436.29 1556.71 1438.93 1560.4 Q1441.6 1564.07 1446.25 1564.07 Q1450.89 1564.07 1453.54 1560.4 Q1456.21 1556.71 1456.21 1550.25 Z\" fill=\"#000000\" fill-rule=\"evenodd\" fill-opacity=\"1\" /><path clip-path=\"url(#clip050)\" d=\"M 0 0 M1472 1518.52 L1477.85 1518.52 L1477.85 1568.04 L1472 1568.04 L1472 1518.52 Z\" fill=\"#000000\" fill-rule=\"evenodd\" fill-opacity=\"1\" /><path clip-path=\"url(#clip050)\" d=\"M 0 0 M1520.6 1548.76 L1520.6 1551.62 L1493.67 1551.62 Q1494.05 1557.67 1497.3 1560.85 Q1500.58 1564 1506.4 1564 Q1509.78 1564 1512.93 1563.17 Q1516.11 1562.35 1519.23 1560.69 L1519.23 1566.23 Q1516.08 1567.57 1512.77 1568.27 Q1509.46 1568.97 1506.05 1568.97 Q1497.52 1568.97 1492.53 1564 Q1487.56 1559.04 1487.56 1550.57 Q1487.56 1541.82 1492.27 1536.69 Q1497.01 1531.54 1505.04 1531.54 Q1512.23 1531.54 1516.4 1536.18 Q1520.6 1540.8 1520.6 1548.76 M1514.74 1547.04 Q1514.68 1542.23 1512.04 1539.37 Q1509.43 1536.5 1505.1 1536.5 Q1500.2 1536.5 1497.24 1539.27 Q1494.31 1542.04 1493.86 1547.07 L1514.74 1547.04 Z\" fill=\"#000000\" fill-rule=\"evenodd\" fill-opacity=\"1\" /><path clip-path=\"url(#clip050)\" d=\"M 0 0 M1558.7 1532.4 L1545.81 1549.74 L1559.37 1568.04 L1552.46 1568.04 L1542.08 1554.04 L1531.71 1568.04 L1524.8 1568.04 L1538.65 1549.39 L1525.98 1532.4 L1532.89 1532.4 L1542.34 1545.1 L1551.79 1532.4 L1558.7 1532.4 Z\" fill=\"#000000\" fill-rule=\"evenodd\" fill-opacity=\"1\" /><path clip-path=\"url(#clip050)\" d=\"M 0 0 M1567.64 1532.4 L1573.5 1532.4 L1573.5 1568.04 L1567.64 1568.04 L1567.64 1532.4 M1567.64 1518.52 L1573.5 1518.52 L1573.5 1525.93 L1567.64 1525.93 L1567.64 1518.52 Z\" fill=\"#000000\" fill-rule=\"evenodd\" fill-opacity=\"1\" /><path clip-path=\"url(#clip050)\" d=\"M 0 0 M1591.55 1522.27 L1591.55 1532.4 L1603.61 1532.4 L1603.61 1536.95 L1591.55 1536.95 L1591.55 1556.3 Q1591.55 1560.66 1592.72 1561.9 Q1593.93 1563.14 1597.59 1563.14 L1603.61 1563.14 L1603.61 1568.04 L1597.59 1568.04 Q1590.81 1568.04 1588.24 1565.53 Q1585.66 1562.98 1585.66 1556.3 L1585.66 1536.95 L1581.36 1536.95 L1581.36 1532.4 L1585.66 1532.4 L1585.66 1522.27 L1591.55 1522.27 Z\" fill=\"#000000\" fill-rule=\"evenodd\" fill-opacity=\"1\" /><path clip-path=\"url(#clip050)\" d=\"M 0 0 M1626.14 1571.35 Q1623.66 1577.72 1621.3 1579.66 Q1618.95 1581.6 1615 1581.6 L1610.32 1581.6 L1610.32 1576.7 L1613.76 1576.7 Q1616.18 1576.7 1617.52 1575.56 Q1618.85 1574.41 1620.48 1570.14 L1621.53 1567.47 L1607.11 1532.4 L1613.32 1532.4 L1624.46 1560.28 L1635.6 1532.4 L1641.8 1532.4 L1626.14 1571.35 Z\" fill=\"#000000\" fill-rule=\"evenodd\" fill-opacity=\"1\" /><polyline clip-path=\"url(#clip052)\" style=\"stroke:#000000; stroke-width:2; stroke-opacity:0.1; fill:none\" points=\"\n",
       "  247.459,1423.18 2352.76,1423.18 \n",
       "  \"/>\n",
       "<polyline clip-path=\"url(#clip052)\" style=\"stroke:#000000; stroke-width:2; stroke-opacity:0.1; fill:none\" points=\"\n",
       "  247.459,1113.73 2352.76,1113.73 \n",
       "  \"/>\n",
       "<polyline clip-path=\"url(#clip052)\" style=\"stroke:#000000; stroke-width:2; stroke-opacity:0.1; fill:none\" points=\"\n",
       "  247.459,804.271 2352.76,804.271 \n",
       "  \"/>\n",
       "<polyline clip-path=\"url(#clip052)\" style=\"stroke:#000000; stroke-width:2; stroke-opacity:0.1; fill:none\" points=\"\n",
       "  247.459,494.817 2352.76,494.817 \n",
       "  \"/>\n",
       "<polyline clip-path=\"url(#clip052)\" style=\"stroke:#000000; stroke-width:2; stroke-opacity:0.1; fill:none\" points=\"\n",
       "  247.459,185.363 2352.76,185.363 \n",
       "  \"/>\n",
       "<polyline clip-path=\"url(#clip050)\" style=\"stroke:#000000; stroke-width:4; stroke-opacity:1; fill:none\" points=\"\n",
       "  247.459,1423.18 247.459,123.472 \n",
       "  \"/>\n",
       "<polyline clip-path=\"url(#clip050)\" style=\"stroke:#000000; stroke-width:4; stroke-opacity:1; fill:none\" points=\"\n",
       "  247.459,1423.18 272.722,1423.18 \n",
       "  \"/>\n",
       "<polyline clip-path=\"url(#clip050)\" style=\"stroke:#000000; stroke-width:4; stroke-opacity:1; fill:none\" points=\"\n",
       "  247.459,1113.73 272.722,1113.73 \n",
       "  \"/>\n",
       "<polyline clip-path=\"url(#clip050)\" style=\"stroke:#000000; stroke-width:4; stroke-opacity:1; fill:none\" points=\"\n",
       "  247.459,804.271 272.722,804.271 \n",
       "  \"/>\n",
       "<polyline clip-path=\"url(#clip050)\" style=\"stroke:#000000; stroke-width:4; stroke-opacity:1; fill:none\" points=\"\n",
       "  247.459,494.817 272.722,494.817 \n",
       "  \"/>\n",
       "<polyline clip-path=\"url(#clip050)\" style=\"stroke:#000000; stroke-width:4; stroke-opacity:1; fill:none\" points=\"\n",
       "  247.459,185.363 272.722,185.363 \n",
       "  \"/>\n",
       "<path clip-path=\"url(#clip050)\" d=\"M 0 0 M154.283 1408.98 Q150.672 1408.98 148.843 1412.54 Q147.038 1416.08 147.038 1423.21 Q147.038 1430.32 148.843 1433.89 Q150.672 1437.43 154.283 1437.43 Q157.917 1437.43 159.723 1433.89 Q161.552 1430.32 161.552 1423.21 Q161.552 1416.08 159.723 1412.54 Q157.917 1408.98 154.283 1408.98 M154.283 1405.27 Q160.093 1405.27 163.149 1409.88 Q166.227 1414.46 166.227 1423.21 Q166.227 1431.94 163.149 1436.55 Q160.093 1441.13 154.283 1441.13 Q148.473 1441.13 145.394 1436.55 Q142.339 1431.94 142.339 1423.21 Q142.339 1414.46 145.394 1409.88 Q148.473 1405.27 154.283 1405.27 Z\" fill=\"#000000\" fill-rule=\"evenodd\" fill-opacity=\"1\" /><path clip-path=\"url(#clip050)\" d=\"M 0 0 M174.445 1434.58 L179.329 1434.58 L179.329 1440.46 L174.445 1440.46 L174.445 1434.58 Z\" fill=\"#000000\" fill-rule=\"evenodd\" fill-opacity=\"1\" /><path clip-path=\"url(#clip050)\" d=\"M 0 0 M199.514 1408.98 Q195.903 1408.98 194.075 1412.54 Q192.269 1416.08 192.269 1423.21 Q192.269 1430.32 194.075 1433.89 Q195.903 1437.43 199.514 1437.43 Q203.149 1437.43 204.954 1433.89 Q206.783 1430.32 206.783 1423.21 Q206.783 1416.08 204.954 1412.54 Q203.149 1408.98 199.514 1408.98 M199.514 1405.27 Q205.324 1405.27 208.38 1409.88 Q211.459 1414.46 211.459 1423.21 Q211.459 1431.94 208.38 1436.55 Q205.324 1441.13 199.514 1441.13 Q193.704 1441.13 190.625 1436.55 Q187.57 1431.94 187.57 1423.21 Q187.57 1414.46 190.625 1409.88 Q193.704 1405.27 199.514 1405.27 Z\" fill=\"#000000\" fill-rule=\"evenodd\" fill-opacity=\"1\" /><path clip-path=\"url(#clip050)\" d=\"M 0 0 M149.306 1127.07 L165.626 1127.07 L165.626 1131.01 L143.681 1131.01 L143.681 1127.07 Q146.343 1124.32 150.927 1119.69 Q155.533 1115.03 156.714 1113.69 Q158.959 1111.17 159.839 1109.43 Q160.741 1107.67 160.741 1105.98 Q160.741 1103.23 158.797 1101.49 Q156.876 1099.76 153.774 1099.76 Q151.575 1099.76 149.121 1100.52 Q146.691 1101.28 143.913 1102.83 L143.913 1098.11 Q146.737 1096.98 149.191 1096.4 Q151.644 1095.82 153.681 1095.82 Q159.052 1095.82 162.246 1098.51 Q165.44 1101.19 165.44 1105.68 Q165.44 1107.81 164.63 1109.73 Q163.843 1111.63 161.737 1114.22 Q161.158 1114.89 158.056 1118.11 Q154.954 1121.31 149.306 1127.07 Z\" fill=\"#000000\" fill-rule=\"evenodd\" fill-opacity=\"1\" /><path clip-path=\"url(#clip050)\" d=\"M 0 0 M175.44 1125.13 L180.325 1125.13 L180.325 1131.01 L175.44 1131.01 L175.44 1125.13 Z\" fill=\"#000000\" fill-rule=\"evenodd\" fill-opacity=\"1\" /><path clip-path=\"url(#clip050)\" d=\"M 0 0 M190.556 1096.45 L208.912 1096.45 L208.912 1100.38 L194.838 1100.38 L194.838 1108.85 Q195.857 1108.51 196.875 1108.34 Q197.894 1108.16 198.912 1108.16 Q204.699 1108.16 208.079 1111.33 Q211.459 1114.5 211.459 1119.92 Q211.459 1125.5 207.987 1128.6 Q204.514 1131.68 198.195 1131.68 Q196.019 1131.68 193.75 1131.31 Q191.505 1130.94 189.098 1130.2 L189.098 1125.5 Q191.181 1126.63 193.403 1127.19 Q195.625 1127.74 198.102 1127.74 Q202.107 1127.74 204.445 1125.64 Q206.783 1123.53 206.783 1119.92 Q206.783 1116.31 204.445 1114.2 Q202.107 1112.09 198.102 1112.09 Q196.227 1112.09 194.352 1112.51 Q192.5 1112.93 190.556 1113.81 L190.556 1096.45 Z\" fill=\"#000000\" fill-rule=\"evenodd\" fill-opacity=\"1\" /><path clip-path=\"url(#clip050)\" d=\"M 0 0 M144.329 786.991 L162.686 786.991 L162.686 790.927 L148.612 790.927 L148.612 799.399 Q149.63 799.052 150.649 798.889 Q151.667 798.704 152.686 798.704 Q158.473 798.704 161.852 801.876 Q165.232 805.047 165.232 810.464 Q165.232 816.042 161.76 819.144 Q158.288 822.223 151.968 822.223 Q149.792 822.223 147.524 821.852 Q145.279 821.482 142.871 820.741 L142.871 816.042 Q144.954 817.176 147.177 817.732 Q149.399 818.288 151.876 818.288 Q155.88 818.288 158.218 816.181 Q160.556 814.075 160.556 810.464 Q160.556 806.852 158.218 804.746 Q155.88 802.639 151.876 802.639 Q150.001 802.639 148.126 803.056 Q146.274 803.473 144.329 804.352 L144.329 786.991 Z\" fill=\"#000000\" fill-rule=\"evenodd\" fill-opacity=\"1\" /><path clip-path=\"url(#clip050)\" d=\"M 0 0 M174.445 815.672 L179.329 815.672 L179.329 821.551 L174.445 821.551 L174.445 815.672 Z\" fill=\"#000000\" fill-rule=\"evenodd\" fill-opacity=\"1\" /><path clip-path=\"url(#clip050)\" d=\"M 0 0 M199.514 790.07 Q195.903 790.07 194.075 793.635 Q192.269 797.177 192.269 804.306 Q192.269 811.413 194.075 814.977 Q195.903 818.519 199.514 818.519 Q203.149 818.519 204.954 814.977 Q206.783 811.413 206.783 804.306 Q206.783 797.177 204.954 793.635 Q203.149 790.07 199.514 790.07 M199.514 786.366 Q205.324 786.366 208.38 790.973 Q211.459 795.556 211.459 804.306 Q211.459 813.033 208.38 817.639 Q205.324 822.223 199.514 822.223 Q193.704 822.223 190.625 817.639 Q187.57 813.033 187.57 804.306 Q187.57 795.556 190.625 790.973 Q193.704 786.366 199.514 786.366 Z\" fill=\"#000000\" fill-rule=\"evenodd\" fill-opacity=\"1\" /><path clip-path=\"url(#clip050)\" d=\"M 0 0 M144.098 477.537 L166.32 477.537 L166.32 479.528 L153.774 512.097 L148.89 512.097 L160.695 481.472 L144.098 481.472 L144.098 477.537 Z\" fill=\"#000000\" fill-rule=\"evenodd\" fill-opacity=\"1\" /><path clip-path=\"url(#clip050)\" d=\"M 0 0 M175.44 506.218 L180.325 506.218 L180.325 512.097 L175.44 512.097 L175.44 506.218 Z\" fill=\"#000000\" fill-rule=\"evenodd\" fill-opacity=\"1\" /><path clip-path=\"url(#clip050)\" d=\"M 0 0 M190.556 477.537 L208.912 477.537 L208.912 481.472 L194.838 481.472 L194.838 489.945 Q195.857 489.597 196.875 489.435 Q197.894 489.25 198.912 489.25 Q204.699 489.25 208.079 492.421 Q211.459 495.593 211.459 501.009 Q211.459 506.588 207.987 509.69 Q204.514 512.768 198.195 512.768 Q196.019 512.768 193.75 512.398 Q191.505 512.028 189.098 511.287 L189.098 506.588 Q191.181 507.722 193.403 508.278 Q195.625 508.833 198.102 508.833 Q202.107 508.833 204.445 506.727 Q206.783 504.62 206.783 501.009 Q206.783 497.398 204.445 495.292 Q202.107 493.185 198.102 493.185 Q196.227 493.185 194.352 493.602 Q192.5 494.019 190.556 494.898 L190.556 477.537 Z\" fill=\"#000000\" fill-rule=\"evenodd\" fill-opacity=\"1\" /><path clip-path=\"url(#clip050)\" d=\"M 0 0 M114.931 198.708 L122.57 198.708 L122.57 172.342 L114.26 174.009 L114.26 169.75 L122.524 168.083 L127.2 168.083 L127.2 198.708 L134.839 198.708 L134.839 202.643 L114.931 202.643 L114.931 198.708 Z\" fill=\"#000000\" fill-rule=\"evenodd\" fill-opacity=\"1\" /><path clip-path=\"url(#clip050)\" d=\"M 0 0 M154.283 171.162 Q150.672 171.162 148.843 174.726 Q147.038 178.268 147.038 185.398 Q147.038 192.504 148.843 196.069 Q150.672 199.611 154.283 199.611 Q157.917 199.611 159.723 196.069 Q161.552 192.504 161.552 185.398 Q161.552 178.268 159.723 174.726 Q157.917 171.162 154.283 171.162 M154.283 167.458 Q160.093 167.458 163.149 172.064 Q166.227 176.648 166.227 185.398 Q166.227 194.124 163.149 198.731 Q160.093 203.314 154.283 203.314 Q148.473 203.314 145.394 198.731 Q142.339 194.124 142.339 185.398 Q142.339 176.648 145.394 172.064 Q148.473 167.458 154.283 167.458 Z\" fill=\"#000000\" fill-rule=\"evenodd\" fill-opacity=\"1\" /><path clip-path=\"url(#clip050)\" d=\"M 0 0 M174.445 196.763 L179.329 196.763 L179.329 202.643 L174.445 202.643 L174.445 196.763 Z\" fill=\"#000000\" fill-rule=\"evenodd\" fill-opacity=\"1\" /><path clip-path=\"url(#clip050)\" d=\"M 0 0 M199.514 171.162 Q195.903 171.162 194.075 174.726 Q192.269 178.268 192.269 185.398 Q192.269 192.504 194.075 196.069 Q195.903 199.611 199.514 199.611 Q203.149 199.611 204.954 196.069 Q206.783 192.504 206.783 185.398 Q206.783 178.268 204.954 174.726 Q203.149 171.162 199.514 171.162 M199.514 167.458 Q205.324 167.458 208.38 172.064 Q211.459 176.648 211.459 185.398 Q211.459 194.124 208.38 198.731 Q205.324 203.314 199.514 203.314 Q193.704 203.314 190.625 198.731 Q187.57 194.124 187.57 185.398 Q187.57 176.648 190.625 172.064 Q193.704 167.458 199.514 167.458 Z\" fill=\"#000000\" fill-rule=\"evenodd\" fill-opacity=\"1\" /><path clip-path=\"url(#clip050)\" d=\"M 0 0 M35.3266 900.067 L35.3266 909.329 L45.9574 912.003 L45.9574 902.677 L35.3266 900.067 M17.2162 904.841 L30.4251 908.152 L30.4251 898.858 L17.2162 895.516 L17.2162 890.423 L30.4251 893.701 L30.4251 883.771 L35.3266 883.771 L35.3266 894.943 L45.9574 897.553 L45.9574 887.431 L50.8271 887.431 L50.8271 898.794 L64.0042 902.104 L64.0042 907.197 L50.8271 903.918 L50.8271 913.244 L64.0042 916.523 L64.0042 921.647 L50.8271 918.337 L50.8271 928.363 L45.9574 928.363 L45.9574 917.159 L35.3266 914.486 L35.3266 924.734 L30.4251 924.734 L30.4251 913.244 L17.2162 909.998 L17.2162 904.841 Z\" fill=\"#000000\" fill-rule=\"evenodd\" fill-opacity=\"1\" /><path clip-path=\"url(#clip050)\" d=\"M 0 0 M29.4065 829.185 L34.9447 829.185 Q33.6716 831.668 33.035 834.341 Q32.3984 837.015 32.3984 839.879 Q32.3984 844.24 33.7352 846.436 Q35.072 848.6 37.7456 848.6 Q39.7826 848.6 40.9603 847.041 Q42.1061 845.481 43.1565 840.771 L43.6021 838.765 Q44.9389 832.527 47.3897 829.917 Q49.8086 827.275 54.1691 827.275 Q59.1344 827.275 62.0308 831.222 Q64.9272 835.137 64.9272 842.012 Q64.9272 844.877 64.3543 847.996 Q63.8132 851.083 62.6992 854.521 L56.6518 854.521 Q58.3387 851.274 59.198 848.123 Q60.0256 844.972 60.0256 841.885 Q60.0256 837.747 58.6251 835.519 Q57.1929 833.291 54.6147 833.291 Q52.2276 833.291 50.9545 834.914 Q49.6813 836.506 48.5037 841.948 L48.0262 843.985 Q46.8804 849.428 44.5251 851.847 Q42.138 854.266 38.0002 854.266 Q32.9713 854.266 30.2341 850.701 Q27.4968 847.136 27.4968 840.58 Q27.4968 837.333 27.9743 834.469 Q28.4517 831.604 29.4065 829.185 Z\" fill=\"#000000\" fill-rule=\"evenodd\" fill-opacity=\"1\" /><path clip-path=\"url(#clip050)\" d=\"M 0 0 M29.7248 792.296 L35.1993 792.296 Q33.8307 794.778 33.1623 797.293 Q32.4621 799.775 32.4621 802.322 Q32.4621 808.019 36.0905 811.17 Q39.6872 814.321 46.212 814.321 Q52.7369 814.321 56.3653 811.17 Q59.9619 808.019 59.9619 802.322 Q59.9619 799.775 59.2935 797.293 Q58.5933 794.778 57.2247 792.296 L62.6355 792.296 Q63.7814 794.747 64.3543 797.388 Q64.9272 799.998 64.9272 802.958 Q64.9272 811.011 59.8664 815.753 Q54.8057 820.496 46.212 820.496 Q37.491 820.496 32.4939 815.722 Q27.4968 810.915 27.4968 802.576 Q27.4968 799.871 28.0697 797.293 Q28.6108 794.715 29.7248 792.296 Z\" fill=\"#000000\" fill-rule=\"evenodd\" fill-opacity=\"1\" /><path clip-path=\"url(#clip050)\" d=\"M 0 0 M42.4881 752.478 L64.0042 752.478 L64.0042 758.335 L42.679 758.335 Q37.6183 758.335 35.1038 760.308 Q32.5894 762.281 32.5894 766.228 Q32.5894 770.971 35.6131 773.708 Q38.6368 776.445 43.8567 776.445 L64.0042 776.445 L64.0042 782.333 L14.479 782.333 L14.479 776.445 L33.8944 776.445 Q30.6797 774.344 29.0883 771.512 Q27.4968 768.647 27.4968 764.923 Q27.4968 758.78 31.3163 755.629 Q35.1038 752.478 42.4881 752.478 Z\" fill=\"#000000\" fill-rule=\"evenodd\" fill-opacity=\"1\" /><path clip-path=\"url(#clip050)\" d=\"M 0 0 M32.4621 726.984 Q32.4621 731.694 36.1542 734.432 Q39.8145 737.169 46.212 737.169 Q52.6095 737.169 56.3017 734.463 Q59.9619 731.726 59.9619 726.984 Q59.9619 722.305 56.2698 719.568 Q52.5777 716.83 46.212 716.83 Q39.8781 716.83 36.186 719.568 Q32.4621 722.305 32.4621 726.984 M27.4968 726.984 Q27.4968 719.345 32.4621 714.984 Q37.4273 710.624 46.212 710.624 Q54.9649 710.624 59.9619 714.984 Q64.9272 719.345 64.9272 726.984 Q64.9272 734.654 59.9619 739.015 Q54.9649 743.344 46.212 743.344 Q37.4273 743.344 32.4621 739.015 Q27.4968 734.654 27.4968 726.984 Z\" fill=\"#000000\" fill-rule=\"evenodd\" fill-opacity=\"1\" /><path clip-path=\"url(#clip050)\" d=\"M 0 0 M32.4621 687.102 Q32.4621 691.813 36.1542 694.55 Q39.8145 697.288 46.212 697.288 Q52.6095 697.288 56.3017 694.582 Q59.9619 691.845 59.9619 687.102 Q59.9619 682.424 56.2698 679.686 Q52.5777 676.949 46.212 676.949 Q39.8781 676.949 36.186 679.686 Q32.4621 682.424 32.4621 687.102 M27.4968 687.102 Q27.4968 679.464 32.4621 675.103 Q37.4273 670.743 46.212 670.743 Q54.9649 670.743 59.9619 675.103 Q64.9272 679.464 64.9272 687.102 Q64.9272 694.773 59.9619 699.134 Q54.9649 703.462 46.212 703.462 Q37.4273 703.462 32.4621 699.134 Q27.4968 694.773 27.4968 687.102 Z\" fill=\"#000000\" fill-rule=\"evenodd\" fill-opacity=\"1\" /><path clip-path=\"url(#clip050)\" d=\"M 0 0 M14.479 661.035 L14.479 655.178 L64.0042 655.178 L64.0042 661.035 L14.479 661.035 Z\" fill=\"#000000\" fill-rule=\"evenodd\" fill-opacity=\"1\" /><path clip-path=\"url(#clip050)\" d=\"M 0 0 M29.4065 620.199 L34.9447 620.199 Q33.6716 622.682 33.035 625.355 Q32.3984 628.029 32.3984 630.893 Q32.3984 635.254 33.7352 637.45 Q35.072 639.614 37.7456 639.614 Q39.7826 639.614 40.9603 638.055 Q42.1061 636.495 43.1565 631.784 L43.6021 629.779 Q44.9389 623.541 47.3897 620.931 Q49.8086 618.289 54.1691 618.289 Q59.1344 618.289 62.0308 622.236 Q64.9272 626.151 64.9272 633.026 Q64.9272 635.89 64.3543 639.01 Q63.8132 642.097 62.6992 645.534 L56.6518 645.534 Q58.3387 642.288 59.198 639.137 Q60.0256 635.986 60.0256 632.898 Q60.0256 628.761 58.6251 626.533 Q57.1929 624.305 54.6147 624.305 Q52.2276 624.305 50.9545 625.928 Q49.6813 627.519 48.5037 632.962 L48.0262 634.999 Q46.8804 640.442 44.5251 642.861 Q42.138 645.28 38.0002 645.28 Q32.9713 645.28 30.2341 641.715 Q27.4968 638.15 27.4968 631.594 Q27.4968 628.347 27.9743 625.482 Q28.4517 622.618 29.4065 620.199 Z\" fill=\"#000000\" fill-rule=\"evenodd\" fill-opacity=\"1\" /><path clip-path=\"url(#clip050)\" d=\"M 0 0 M1075.81 12.096 L1088 12.096 L1103.44 53.2532 L1118.95 12.096 L1131.14 12.096 L1131.14 72.576 L1123.16 72.576 L1123.16 19.4686 L1107.57 60.9499 L1099.34 60.9499 L1083.75 19.4686 L1083.75 72.576 L1075.81 72.576 L1075.81 12.096 Z\" fill=\"#000000\" fill-rule=\"evenodd\" fill-opacity=\"1\" /><path clip-path=\"url(#clip050)\" d=\"M 0 0 M1147.06 27.2059 L1154.52 27.2059 L1154.52 72.576 L1147.06 72.576 L1147.06 27.2059 M1147.06 9.54393 L1154.52 9.54393 L1154.52 18.9825 L1147.06 18.9825 L1147.06 9.54393 Z\" fill=\"#000000\" fill-rule=\"evenodd\" fill-opacity=\"1\" /><path clip-path=\"url(#clip050)\" d=\"M 0 0 M1199.97 34.0924 L1199.97 9.54393 L1207.42 9.54393 L1207.42 72.576 L1199.97 72.576 L1199.97 65.7705 Q1197.62 69.8214 1194.01 71.8063 Q1190.45 73.7508 1185.43 73.7508 Q1177.2 73.7508 1172.02 67.1883 Q1166.87 60.6258 1166.87 49.9314 Q1166.87 39.2371 1172.02 32.6746 Q1177.2 26.1121 1185.43 26.1121 Q1190.45 26.1121 1194.01 28.0971 Q1197.62 30.0415 1199.97 34.0924 M1174.57 49.9314 Q1174.57 58.1548 1177.93 62.8538 Q1181.33 67.5124 1187.25 67.5124 Q1193.16 67.5124 1196.57 62.8538 Q1199.97 58.1548 1199.97 49.9314 Q1199.97 41.7081 1196.57 37.0496 Q1193.16 32.3505 1187.25 32.3505 Q1181.33 32.3505 1177.93 37.0496 Q1174.57 41.7081 1174.57 49.9314 Z\" fill=\"#000000\" fill-rule=\"evenodd\" fill-opacity=\"1\" /><path clip-path=\"url(#clip050)\" d=\"M 0 0 M1252.63 34.0924 L1252.63 9.54393 L1260.08 9.54393 L1260.08 72.576 L1252.63 72.576 L1252.63 65.7705 Q1250.28 69.8214 1246.68 71.8063 Q1243.11 73.7508 1238.09 73.7508 Q1229.86 73.7508 1224.68 67.1883 Q1219.53 60.6258 1219.53 49.9314 Q1219.53 39.2371 1224.68 32.6746 Q1229.86 26.1121 1238.09 26.1121 Q1243.11 26.1121 1246.68 28.0971 Q1250.28 30.0415 1252.63 34.0924 M1227.23 49.9314 Q1227.23 58.1548 1230.59 62.8538 Q1234 67.5124 1239.91 67.5124 Q1245.83 67.5124 1249.23 62.8538 Q1252.63 58.1548 1252.63 49.9314 Q1252.63 41.7081 1249.23 37.0496 Q1245.83 32.3505 1239.91 32.3505 Q1234 32.3505 1230.59 37.0496 Q1227.23 41.7081 1227.23 49.9314 Z\" fill=\"#000000\" fill-rule=\"evenodd\" fill-opacity=\"1\" /><path clip-path=\"url(#clip050)\" d=\"M 0 0 M1275.44 9.54393 L1282.89 9.54393 L1282.89 72.576 L1275.44 72.576 L1275.44 9.54393 Z\" fill=\"#000000\" fill-rule=\"evenodd\" fill-opacity=\"1\" /><path clip-path=\"url(#clip050)\" d=\"M 0 0 M1337.29 48.0275 L1337.29 51.6733 L1303.02 51.6733 Q1303.51 59.3701 1307.64 63.421 Q1311.81 67.4314 1319.23 67.4314 Q1323.52 67.4314 1327.53 66.3781 Q1331.58 65.3249 1335.55 63.2184 L1335.55 70.267 Q1331.54 71.9684 1327.33 72.8596 Q1323.12 73.7508 1318.78 73.7508 Q1307.93 73.7508 1301.57 67.4314 Q1295.25 61.1119 1295.25 50.3365 Q1295.25 39.1965 1301.24 32.6746 Q1307.28 26.1121 1317.49 26.1121 Q1326.64 26.1121 1331.95 32.0264 Q1337.29 37.9003 1337.29 48.0275 M1329.84 45.84 Q1329.76 39.7232 1326.4 36.0774 Q1323.08 32.4315 1317.57 32.4315 Q1311.33 32.4315 1307.56 35.9558 Q1303.83 39.4801 1303.27 45.8805 L1329.84 45.84 Z\" fill=\"#000000\" fill-rule=\"evenodd\" fill-opacity=\"1\" /><path clip-path=\"url(#clip050)\" d=\"M 0 0 M1367.84 12.096 L1419 12.096 L1419 18.9825 L1397.53 18.9825 L1397.53 72.576 L1389.31 72.576 L1389.31 18.9825 L1367.84 18.9825 L1367.84 12.096 Z\" fill=\"#000000\" fill-rule=\"evenodd\" fill-opacity=\"1\" /><path clip-path=\"url(#clip050)\" d=\"M 0 0 M1424.02 27.2059 L1431.48 27.2059 L1431.48 72.576 L1424.02 72.576 L1424.02 27.2059 M1424.02 9.54393 L1431.48 9.54393 L1431.48 18.9825 L1424.02 18.9825 L1424.02 9.54393 Z\" fill=\"#000000\" fill-rule=\"evenodd\" fill-opacity=\"1\" /><path clip-path=\"url(#clip050)\" d=\"M 0 0 M1485.88 48.0275 L1485.88 51.6733 L1451.61 51.6733 Q1452.1 59.3701 1456.23 63.421 Q1460.4 67.4314 1467.81 67.4314 Q1472.11 67.4314 1476.12 66.3781 Q1480.17 65.3249 1484.14 63.2184 L1484.14 70.267 Q1480.13 71.9684 1475.92 72.8596 Q1471.7 73.7508 1467.37 73.7508 Q1456.51 73.7508 1450.15 67.4314 Q1443.83 61.1119 1443.83 50.3365 Q1443.83 39.1965 1449.83 32.6746 Q1455.86 26.1121 1466.07 26.1121 Q1475.23 26.1121 1480.53 32.0264 Q1485.88 37.9003 1485.88 48.0275 M1478.43 45.84 Q1478.35 39.7232 1474.98 36.0774 Q1471.66 32.4315 1466.15 32.4315 Q1459.92 32.4315 1456.15 35.9558 Q1452.42 39.4801 1451.85 45.8805 L1478.43 45.84 Z\" fill=\"#000000\" fill-rule=\"evenodd\" fill-opacity=\"1\" /><path clip-path=\"url(#clip050)\" d=\"M 0 0 M1524.41 34.1734 Q1523.15 33.4443 1521.65 33.1202 Q1520.19 32.7556 1518.41 32.7556 Q1512.09 32.7556 1508.69 36.8875 Q1505.33 40.9789 1505.33 48.6757 L1505.33 72.576 L1497.83 72.576 L1497.83 27.2059 L1505.33 27.2059 L1505.33 34.2544 Q1507.68 30.1225 1511.44 28.1376 Q1515.21 26.1121 1520.6 26.1121 Q1521.37 26.1121 1522.3 26.2337 Q1523.23 26.3147 1524.37 26.5172 L1524.41 34.1734 Z\" fill=\"#000000\" fill-rule=\"evenodd\" fill-opacity=\"1\" /><path clip-path=\"url(#clip052)\" d=\"\n",
       "M668.518 1175.62 L668.518 1423.18 L1089.58 1423.18 L1089.58 1175.62 L668.518 1175.62 L668.518 1175.62  Z\n",
       "  \" fill=\"#1874cd\" fill-rule=\"evenodd\" fill-opacity=\"0.7\"/>\n",
       "<polyline clip-path=\"url(#clip052)\" style=\"stroke:#000000; stroke-width:4; stroke-opacity:0.7; fill:none\" points=\"\n",
       "  668.518,1175.62 668.518,1423.18 1089.58,1423.18 1089.58,1175.62 668.518,1175.62 \n",
       "  \"/>\n",
       "<path clip-path=\"url(#clip052)\" d=\"\n",
       "M1089.58 -62.2004 L1089.58 1423.18 L1510.64 1423.18 L1510.64 -62.2004 L1089.58 -62.2004 L1089.58 -62.2004  Z\n",
       "  \" fill=\"#1874cd\" fill-rule=\"evenodd\" fill-opacity=\"0.7\"/>\n",
       "<polyline clip-path=\"url(#clip052)\" style=\"stroke:#000000; stroke-width:4; stroke-opacity:0.7; fill:none\" points=\"\n",
       "  1089.58,-62.2004 1089.58,1423.18 1510.64,1423.18 1510.64,-62.2004 1089.58,-62.2004 \n",
       "  \"/>\n",
       "<path clip-path=\"url(#clip052)\" d=\"\n",
       "M1510.64 928.053 L1510.64 1423.18 L1931.7 1423.18 L1931.7 928.053 L1510.64 928.053 L1510.64 928.053  Z\n",
       "  \" fill=\"#1874cd\" fill-rule=\"evenodd\" fill-opacity=\"0.7\"/>\n",
       "<polyline clip-path=\"url(#clip052)\" style=\"stroke:#000000; stroke-width:4; stroke-opacity:0.7; fill:none\" points=\"\n",
       "  1510.64,928.053 1510.64,1423.18 1931.7,1423.18 1931.7,928.053 1510.64,928.053 \n",
       "  \"/>\n",
       "<path clip-path=\"url(#clip052)\" d=\"\n",
       "M1931.7 1175.62 L1931.7 1423.18 L2352.76 1423.18 L2352.76 1175.62 L1931.7 1175.62 L1931.7 1175.62  Z\n",
       "  \" fill=\"#1874cd\" fill-rule=\"evenodd\" fill-opacity=\"0.7\"/>\n",
       "<polyline clip-path=\"url(#clip052)\" style=\"stroke:#000000; stroke-width:4; stroke-opacity:0.7; fill:none\" points=\"\n",
       "  1931.7,1175.62 1931.7,1423.18 2352.76,1423.18 2352.76,1175.62 1931.7,1175.62 \n",
       "  \"/>\n",
       "<path clip-path=\"url(#clip052)\" d=\"\n",
       "M2352.76 1299.4 L2352.76 1423.18 L2773.82 1423.18 L2773.82 1299.4 L2352.76 1299.4 L2352.76 1299.4  Z\n",
       "  \" fill=\"#1874cd\" fill-rule=\"evenodd\" fill-opacity=\"0.7\"/>\n",
       "<polyline clip-path=\"url(#clip052)\" style=\"stroke:#000000; stroke-width:4; stroke-opacity:0.7; fill:none\" points=\"\n",
       "  2352.76,1299.4 2352.76,1423.18 2773.82,1423.18 2773.82,1299.4 2352.76,1299.4 \n",
       "  \"/>\n",
       "</svg>\n"
      ]
     },
     "execution_count": 6,
     "metadata": {},
     "output_type": "execute_result"
    }
   ],
   "source": [
    "middle_tier = Array{Curriculum,1}()\n",
    "middle_tier_total_cc = 0\n",
    "middle_tier_avg_cc = 0\n",
    "for (key, val) in curriculum\n",
    "    if (split(key, \"/\")[1]) == \"tier_middle\"\n",
    "        name = split(split(key, \"/\")[2], \".\")[1]\n",
    "        println(\"$name => $(val.metrics[\"complexity\"][1])\")\n",
    "        push!(middle_tier, val)\n",
    "        middle_tier_total_cc += val.metrics[\"complexity\"][1]\n",
    "    end\n",
    "end\n",
    "middle_tier_avg_cc = middle_tier_total_cc / length(middle_tier)\n",
    "println(\"Avg. curricular complexity = $(middle_tier_avg_cc)\")\n",
    "metric_histogram(middle_tier, \"complexity\", nbins=5, title=\"Middle Tier\", xlabel=\"curricular complexity\", ylabel=\"# schools\", xlim=(0,500))"
   ]
  },
  {
   "cell_type": "code",
   "execution_count": 7,
   "metadata": {
    "scrolled": false
   },
   "outputs": [
    {
     "name": "stdout",
     "output_type": "stream",
     "text": [
      "Florida Atlantic University => 296.0\n",
      "Oakland University => 244.0\n",
      "University of Louisiana--Lafayette => 331.0\n",
      "South Dakota State University => 398.0\n",
      "Texas State University => 273.0\n",
      "University of Bridgeport => 167.0\n",
      "Jackson State University => 304.0\n",
      "University of Denver => 360.0\n",
      "University of North Texas => 376.0\n",
      "Texas AM University--Kingsville => 353.0\n",
      "Morgan State University => 311.0\n",
      "University of New Orleans => 260.0\n",
      "Prairie View AM University => 375.0\n",
      "University of Detroit Mercy => 394.0\n",
      "University of North Dakota => 361.0\n",
      "Lamar University => 343.0\n",
      "University of Missouri--Kansas City => 497.0\n",
      "Western Michigan University => 308.0\n",
      "Tuskegee University => 397.0\n",
      "University of Tennessee--Chattanooga => 404.0\n",
      "Tennessee State University => 500.0\n",
      "Avg. curricular complexity = 345.3333333333333\n"
     ]
    },
    {
     "data": {
      "image/svg+xml": [
       "<?xml version=\"1.0\" encoding=\"utf-8\"?>\n",
       "<svg xmlns=\"http://www.w3.org/2000/svg\" xmlns:xlink=\"http://www.w3.org/1999/xlink\" width=\"600\" height=\"400\" viewBox=\"0 0 2400 1600\">\n",
       "<defs>\n",
       "  <clipPath id=\"clip090\">\n",
       "    <rect x=\"0\" y=\"0\" width=\"2400\" height=\"1600\"/>\n",
       "  </clipPath>\n",
       "</defs>\n",
       "<path clip-path=\"url(#clip090)\" d=\"\n",
       "M0 1600 L2400 1600 L2400 0 L0 0  Z\n",
       "  \" fill=\"#ffffff\" fill-rule=\"evenodd\" fill-opacity=\"1\"/>\n",
       "<defs>\n",
       "  <clipPath id=\"clip091\">\n",
       "    <rect x=\"480\" y=\"0\" width=\"1681\" height=\"1600\"/>\n",
       "  </clipPath>\n",
       "</defs>\n",
       "<path clip-path=\"url(#clip090)\" d=\"\n",
       "M247.459 1423.18 L2352.76 1423.18 L2352.76 123.472 L247.459 123.472  Z\n",
       "  \" fill=\"#ffffff\" fill-rule=\"evenodd\" fill-opacity=\"1\"/>\n",
       "<defs>\n",
       "  <clipPath id=\"clip092\">\n",
       "    <rect x=\"247\" y=\"123\" width=\"2106\" height=\"1301\"/>\n",
       "  </clipPath>\n",
       "</defs>\n",
       "<polyline clip-path=\"url(#clip092)\" style=\"stroke:#000000; stroke-width:2; stroke-opacity:0.1; fill:none\" points=\"\n",
       "  247.459,1423.18 247.459,123.472 \n",
       "  \"/>\n",
       "<polyline clip-path=\"url(#clip092)\" style=\"stroke:#000000; stroke-width:2; stroke-opacity:0.1; fill:none\" points=\"\n",
       "  668.518,1423.18 668.518,123.472 \n",
       "  \"/>\n",
       "<polyline clip-path=\"url(#clip092)\" style=\"stroke:#000000; stroke-width:2; stroke-opacity:0.1; fill:none\" points=\"\n",
       "  1089.58,1423.18 1089.58,123.472 \n",
       "  \"/>\n",
       "<polyline clip-path=\"url(#clip092)\" style=\"stroke:#000000; stroke-width:2; stroke-opacity:0.1; fill:none\" points=\"\n",
       "  1510.64,1423.18 1510.64,123.472 \n",
       "  \"/>\n",
       "<polyline clip-path=\"url(#clip092)\" style=\"stroke:#000000; stroke-width:2; stroke-opacity:0.1; fill:none\" points=\"\n",
       "  1931.7,1423.18 1931.7,123.472 \n",
       "  \"/>\n",
       "<polyline clip-path=\"url(#clip092)\" style=\"stroke:#000000; stroke-width:2; stroke-opacity:0.1; fill:none\" points=\"\n",
       "  2352.76,1423.18 2352.76,123.472 \n",
       "  \"/>\n",
       "<polyline clip-path=\"url(#clip090)\" style=\"stroke:#000000; stroke-width:4; stroke-opacity:1; fill:none\" points=\"\n",
       "  247.459,1423.18 2352.76,1423.18 \n",
       "  \"/>\n",
       "<polyline clip-path=\"url(#clip090)\" style=\"stroke:#000000; stroke-width:4; stroke-opacity:1; fill:none\" points=\"\n",
       "  247.459,1423.18 247.459,1407.58 \n",
       "  \"/>\n",
       "<polyline clip-path=\"url(#clip090)\" style=\"stroke:#000000; stroke-width:4; stroke-opacity:1; fill:none\" points=\"\n",
       "  668.518,1423.18 668.518,1407.58 \n",
       "  \"/>\n",
       "<polyline clip-path=\"url(#clip090)\" style=\"stroke:#000000; stroke-width:4; stroke-opacity:1; fill:none\" points=\"\n",
       "  1089.58,1423.18 1089.58,1407.58 \n",
       "  \"/>\n",
       "<polyline clip-path=\"url(#clip090)\" style=\"stroke:#000000; stroke-width:4; stroke-opacity:1; fill:none\" points=\"\n",
       "  1510.64,1423.18 1510.64,1407.58 \n",
       "  \"/>\n",
       "<polyline clip-path=\"url(#clip090)\" style=\"stroke:#000000; stroke-width:4; stroke-opacity:1; fill:none\" points=\"\n",
       "  1931.7,1423.18 1931.7,1407.58 \n",
       "  \"/>\n",
       "<polyline clip-path=\"url(#clip090)\" style=\"stroke:#000000; stroke-width:4; stroke-opacity:1; fill:none\" points=\"\n",
       "  2352.76,1423.18 2352.76,1407.58 \n",
       "  \"/>\n",
       "<path clip-path=\"url(#clip090)\" d=\"M 0 0 M247.459 1452.37 Q243.848 1452.37 242.019 1455.94 Q240.213 1459.48 240.213 1466.61 Q240.213 1473.71 242.019 1477.28 Q243.848 1480.82 247.459 1480.82 Q251.093 1480.82 252.898 1477.28 Q254.727 1473.71 254.727 1466.61 Q254.727 1459.48 252.898 1455.94 Q251.093 1452.37 247.459 1452.37 M247.459 1448.67 Q253.269 1448.67 256.324 1453.27 Q259.403 1457.86 259.403 1466.61 Q259.403 1475.33 256.324 1479.94 Q253.269 1484.52 247.459 1484.52 Q241.649 1484.52 238.57 1479.94 Q235.514 1475.33 235.514 1466.61 Q235.514 1457.86 238.57 1453.27 Q241.649 1448.67 247.459 1448.67 Z\" fill=\"#000000\" fill-rule=\"evenodd\" fill-opacity=\"1\" /><path clip-path=\"url(#clip090)\" d=\"M 0 0 M628.125 1479.92 L635.764 1479.92 L635.764 1453.55 L627.454 1455.22 L627.454 1450.96 L635.717 1449.29 L640.393 1449.29 L640.393 1479.92 L648.032 1479.92 L648.032 1483.85 L628.125 1483.85 L628.125 1479.92 Z\" fill=\"#000000\" fill-rule=\"evenodd\" fill-opacity=\"1\" /><path clip-path=\"url(#clip090)\" d=\"M 0 0 M667.476 1452.37 Q663.865 1452.37 662.037 1455.94 Q660.231 1459.48 660.231 1466.61 Q660.231 1473.71 662.037 1477.28 Q663.865 1480.82 667.476 1480.82 Q671.111 1480.82 672.916 1477.28 Q674.745 1473.71 674.745 1466.61 Q674.745 1459.48 672.916 1455.94 Q671.111 1452.37 667.476 1452.37 M667.476 1448.67 Q673.287 1448.67 676.342 1453.27 Q679.421 1457.86 679.421 1466.61 Q679.421 1475.33 676.342 1479.94 Q673.287 1484.52 667.476 1484.52 Q661.666 1484.52 658.588 1479.94 Q655.532 1475.33 655.532 1466.61 Q655.532 1457.86 658.588 1453.27 Q661.666 1448.67 667.476 1448.67 Z\" fill=\"#000000\" fill-rule=\"evenodd\" fill-opacity=\"1\" /><path clip-path=\"url(#clip090)\" d=\"M 0 0 M697.638 1452.37 Q694.027 1452.37 692.199 1455.94 Q690.393 1459.48 690.393 1466.61 Q690.393 1473.71 692.199 1477.28 Q694.027 1480.82 697.638 1480.82 Q701.273 1480.82 703.078 1477.28 Q704.907 1473.71 704.907 1466.61 Q704.907 1459.48 703.078 1455.94 Q701.273 1452.37 697.638 1452.37 M697.638 1448.67 Q703.449 1448.67 706.504 1453.27 Q709.583 1457.86 709.583 1466.61 Q709.583 1475.33 706.504 1479.94 Q703.449 1484.52 697.638 1484.52 Q691.828 1484.52 688.75 1479.94 Q685.694 1475.33 685.694 1466.61 Q685.694 1457.86 688.75 1453.27 Q691.828 1448.67 697.638 1448.67 Z\" fill=\"#000000\" fill-rule=\"evenodd\" fill-opacity=\"1\" /><path clip-path=\"url(#clip090)\" d=\"M 0 0 M1053.27 1479.92 L1069.59 1479.92 L1069.59 1483.85 L1047.64 1483.85 L1047.64 1479.92 Q1050.31 1477.16 1054.89 1472.53 Q1059.5 1467.88 1060.68 1466.54 Q1062.92 1464.01 1063.8 1462.28 Q1064.71 1460.52 1064.71 1458.83 Q1064.71 1456.07 1062.76 1454.34 Q1060.84 1452.6 1057.74 1452.6 Q1055.54 1452.6 1053.08 1453.37 Q1050.65 1454.13 1047.88 1455.68 L1047.88 1450.96 Q1050.7 1449.82 1053.15 1449.25 Q1055.61 1448.67 1057.64 1448.67 Q1063.02 1448.67 1066.21 1451.35 Q1069.4 1454.04 1069.4 1458.53 Q1069.4 1460.66 1068.59 1462.58 Q1067.81 1464.48 1065.7 1467.07 Q1065.12 1467.74 1062.02 1470.96 Q1058.92 1474.15 1053.27 1479.92 Z\" fill=\"#000000\" fill-rule=\"evenodd\" fill-opacity=\"1\" /><path clip-path=\"url(#clip090)\" d=\"M 0 0 M1089.4 1452.37 Q1085.79 1452.37 1083.96 1455.94 Q1082.16 1459.48 1082.16 1466.61 Q1082.16 1473.71 1083.96 1477.28 Q1085.79 1480.82 1089.4 1480.82 Q1093.04 1480.82 1094.84 1477.28 Q1096.67 1473.71 1096.67 1466.61 Q1096.67 1459.48 1094.84 1455.94 Q1093.04 1452.37 1089.4 1452.37 M1089.4 1448.67 Q1095.21 1448.67 1098.27 1453.27 Q1101.35 1457.86 1101.35 1466.61 Q1101.35 1475.33 1098.27 1479.94 Q1095.21 1484.52 1089.4 1484.52 Q1083.59 1484.52 1080.52 1479.94 Q1077.46 1475.33 1077.46 1466.61 Q1077.46 1457.86 1080.52 1453.27 Q1083.59 1448.67 1089.4 1448.67 Z\" fill=\"#000000\" fill-rule=\"evenodd\" fill-opacity=\"1\" /><path clip-path=\"url(#clip090)\" d=\"M 0 0 M1119.57 1452.37 Q1115.95 1452.37 1114.13 1455.94 Q1112.32 1459.48 1112.32 1466.61 Q1112.32 1473.71 1114.13 1477.28 Q1115.95 1480.82 1119.57 1480.82 Q1123.2 1480.82 1125.01 1477.28 Q1126.83 1473.71 1126.83 1466.61 Q1126.83 1459.48 1125.01 1455.94 Q1123.2 1452.37 1119.57 1452.37 M1119.57 1448.67 Q1125.38 1448.67 1128.43 1453.27 Q1131.51 1457.86 1131.51 1466.61 Q1131.51 1475.33 1128.43 1479.94 Q1125.38 1484.52 1119.57 1484.52 Q1113.76 1484.52 1110.68 1479.94 Q1107.62 1475.33 1107.62 1466.61 Q1107.62 1457.86 1110.68 1453.27 Q1113.76 1448.67 1119.57 1448.67 Z\" fill=\"#000000\" fill-rule=\"evenodd\" fill-opacity=\"1\" /><path clip-path=\"url(#clip090)\" d=\"M 0 0 M1484.4 1465.22 Q1487.76 1465.94 1489.63 1468.2 Q1491.53 1470.47 1491.53 1473.81 Q1491.53 1478.92 1488.01 1481.72 Q1484.49 1484.52 1478.01 1484.52 Q1475.83 1484.52 1473.52 1484.08 Q1471.23 1483.67 1468.77 1482.81 L1468.77 1478.3 Q1470.72 1479.43 1473.03 1480.01 Q1475.35 1480.59 1477.87 1480.59 Q1482.27 1480.59 1484.56 1478.85 Q1486.88 1477.12 1486.88 1473.81 Q1486.88 1470.75 1484.72 1469.04 Q1482.59 1467.3 1478.77 1467.3 L1474.75 1467.3 L1474.75 1463.46 L1478.96 1463.46 Q1482.41 1463.46 1484.24 1462.09 Q1486.07 1460.7 1486.07 1458.11 Q1486.07 1455.45 1484.17 1454.04 Q1482.29 1452.6 1478.77 1452.6 Q1476.85 1452.6 1474.65 1453.02 Q1472.45 1453.44 1469.82 1454.31 L1469.82 1450.15 Q1472.48 1449.41 1474.79 1449.04 Q1477.13 1448.67 1479.19 1448.67 Q1484.51 1448.67 1487.62 1451.1 Q1490.72 1453.5 1490.72 1457.63 Q1490.72 1460.5 1489.07 1462.49 Q1487.43 1464.45 1484.4 1465.22 Z\" fill=\"#000000\" fill-rule=\"evenodd\" fill-opacity=\"1\" /><path clip-path=\"url(#clip090)\" d=\"M 0 0 M1510.39 1452.37 Q1506.78 1452.37 1504.95 1455.94 Q1503.15 1459.48 1503.15 1466.61 Q1503.15 1473.71 1504.95 1477.28 Q1506.78 1480.82 1510.39 1480.82 Q1514.03 1480.82 1515.83 1477.28 Q1517.66 1473.71 1517.66 1466.61 Q1517.66 1459.48 1515.83 1455.94 Q1514.03 1452.37 1510.39 1452.37 M1510.39 1448.67 Q1516.2 1448.67 1519.26 1453.27 Q1522.34 1457.86 1522.34 1466.61 Q1522.34 1475.33 1519.26 1479.94 Q1516.2 1484.52 1510.39 1484.52 Q1504.58 1484.52 1501.51 1479.94 Q1498.45 1475.33 1498.45 1466.61 Q1498.45 1457.86 1501.51 1453.27 Q1504.58 1448.67 1510.39 1448.67 Z\" fill=\"#000000\" fill-rule=\"evenodd\" fill-opacity=\"1\" /><path clip-path=\"url(#clip090)\" d=\"M 0 0 M1540.56 1452.37 Q1536.94 1452.37 1535.12 1455.94 Q1533.31 1459.48 1533.31 1466.61 Q1533.31 1473.71 1535.12 1477.28 Q1536.94 1480.82 1540.56 1480.82 Q1544.19 1480.82 1546 1477.28 Q1547.82 1473.71 1547.82 1466.61 Q1547.82 1459.48 1546 1455.94 Q1544.19 1452.37 1540.56 1452.37 M1540.56 1448.67 Q1546.37 1448.67 1549.42 1453.27 Q1552.5 1457.86 1552.5 1466.61 Q1552.5 1475.33 1549.42 1479.94 Q1546.37 1484.52 1540.56 1484.52 Q1534.75 1484.52 1531.67 1479.94 Q1528.61 1475.33 1528.61 1466.61 Q1528.61 1457.86 1531.67 1453.27 Q1534.75 1448.67 1540.56 1448.67 Z\" fill=\"#000000\" fill-rule=\"evenodd\" fill-opacity=\"1\" /><path clip-path=\"url(#clip090)\" d=\"M 0 0 M1904.79 1453.37 L1892.98 1471.81 L1904.79 1471.81 L1904.79 1453.37 M1903.56 1449.29 L1909.44 1449.29 L1909.44 1471.81 L1914.37 1471.81 L1914.37 1475.7 L1909.44 1475.7 L1909.44 1483.85 L1904.79 1483.85 L1904.79 1475.7 L1889.19 1475.7 L1889.19 1471.19 L1903.56 1449.29 Z\" fill=\"#000000\" fill-rule=\"evenodd\" fill-opacity=\"1\" /><path clip-path=\"url(#clip090)\" d=\"M 0 0 M1932.1 1452.37 Q1928.49 1452.37 1926.66 1455.94 Q1924.86 1459.48 1924.86 1466.61 Q1924.86 1473.71 1926.66 1477.28 Q1928.49 1480.82 1932.1 1480.82 Q1935.74 1480.82 1937.54 1477.28 Q1939.37 1473.71 1939.37 1466.61 Q1939.37 1459.48 1937.54 1455.94 Q1935.74 1452.37 1932.1 1452.37 M1932.1 1448.67 Q1937.91 1448.67 1940.97 1453.27 Q1944.05 1457.86 1944.05 1466.61 Q1944.05 1475.33 1940.97 1479.94 Q1937.91 1484.52 1932.1 1484.52 Q1926.29 1484.52 1923.21 1479.94 Q1920.16 1475.33 1920.16 1466.61 Q1920.16 1457.86 1923.21 1453.27 Q1926.29 1448.67 1932.1 1448.67 Z\" fill=\"#000000\" fill-rule=\"evenodd\" fill-opacity=\"1\" /><path clip-path=\"url(#clip090)\" d=\"M 0 0 M1962.26 1452.37 Q1958.65 1452.37 1956.82 1455.94 Q1955.02 1459.48 1955.02 1466.61 Q1955.02 1473.71 1956.82 1477.28 Q1958.65 1480.82 1962.26 1480.82 Q1965.9 1480.82 1967.7 1477.28 Q1969.53 1473.71 1969.53 1466.61 Q1969.53 1459.48 1967.7 1455.94 Q1965.9 1452.37 1962.26 1452.37 M1962.26 1448.67 Q1968.07 1448.67 1971.13 1453.27 Q1974.21 1457.86 1974.21 1466.61 Q1974.21 1475.33 1971.13 1479.94 Q1968.07 1484.52 1962.26 1484.52 Q1956.45 1484.52 1953.37 1479.94 Q1950.32 1475.33 1950.32 1466.61 Q1950.32 1457.86 1953.37 1453.27 Q1956.45 1448.67 1962.26 1448.67 Z\" fill=\"#000000\" fill-rule=\"evenodd\" fill-opacity=\"1\" /><path clip-path=\"url(#clip090)\" d=\"M 0 0 M2312.37 1449.29 L2330.73 1449.29 L2330.73 1453.23 L2316.66 1453.23 L2316.66 1461.7 Q2317.68 1461.35 2318.69 1461.19 Q2319.71 1461 2320.73 1461 Q2326.52 1461 2329.9 1464.18 Q2333.28 1467.35 2333.28 1472.76 Q2333.28 1478.34 2329.8 1481.44 Q2326.33 1484.52 2320.01 1484.52 Q2317.84 1484.52 2315.57 1484.15 Q2313.32 1483.78 2310.92 1483.04 L2310.92 1478.34 Q2313 1479.48 2315.22 1480.03 Q2317.44 1480.59 2319.92 1480.59 Q2323.93 1480.59 2326.26 1478.48 Q2328.6 1476.38 2328.6 1472.76 Q2328.6 1469.15 2326.26 1467.05 Q2323.93 1464.94 2319.92 1464.94 Q2318.05 1464.94 2316.17 1465.36 Q2314.32 1465.77 2312.37 1466.65 L2312.37 1449.29 Z\" fill=\"#000000\" fill-rule=\"evenodd\" fill-opacity=\"1\" /><path clip-path=\"url(#clip090)\" d=\"M 0 0 M2352.49 1452.37 Q2348.88 1452.37 2347.05 1455.94 Q2345.24 1459.48 2345.24 1466.61 Q2345.24 1473.71 2347.05 1477.28 Q2348.88 1480.82 2352.49 1480.82 Q2356.12 1480.82 2357.93 1477.28 Q2359.76 1473.71 2359.76 1466.61 Q2359.76 1459.48 2357.93 1455.94 Q2356.12 1452.37 2352.49 1452.37 M2352.49 1448.67 Q2358.3 1448.67 2361.36 1453.27 Q2364.43 1457.86 2364.43 1466.61 Q2364.43 1475.33 2361.36 1479.94 Q2358.3 1484.52 2352.49 1484.52 Q2346.68 1484.52 2343.6 1479.94 Q2340.55 1475.33 2340.55 1466.61 Q2340.55 1457.86 2343.6 1453.27 Q2346.68 1448.67 2352.49 1448.67 Z\" fill=\"#000000\" fill-rule=\"evenodd\" fill-opacity=\"1\" /><path clip-path=\"url(#clip090)\" d=\"M 0 0 M2382.65 1452.37 Q2379.04 1452.37 2377.21 1455.94 Q2375.41 1459.48 2375.41 1466.61 Q2375.41 1473.71 2377.21 1477.28 Q2379.04 1480.82 2382.65 1480.82 Q2386.29 1480.82 2388.09 1477.28 Q2389.92 1473.71 2389.92 1466.61 Q2389.92 1459.48 2388.09 1455.94 Q2386.29 1452.37 2382.65 1452.37 M2382.65 1448.67 Q2388.46 1448.67 2391.52 1453.27 Q2394.6 1457.86 2394.6 1466.61 Q2394.6 1475.33 2391.52 1479.94 Q2388.46 1484.52 2382.65 1484.52 Q2376.84 1484.52 2373.76 1479.94 Q2370.71 1475.33 2370.71 1466.61 Q2370.71 1457.86 2373.76 1453.27 Q2376.84 1448.67 2382.65 1448.67 Z\" fill=\"#000000\" fill-rule=\"evenodd\" fill-opacity=\"1\" /><path clip-path=\"url(#clip090)\" d=\"M 0 0 M986.612 1533.76 L986.612 1539.24 Q984.13 1537.87 981.615 1537.2 Q979.132 1536.5 976.586 1536.5 Q970.889 1536.5 967.738 1540.13 Q964.587 1543.73 964.587 1550.25 Q964.587 1556.78 967.738 1560.4 Q970.889 1564 976.586 1564 Q979.132 1564 981.615 1563.33 Q984.13 1562.63 986.612 1561.26 L986.612 1566.68 Q984.161 1567.82 981.52 1568.39 Q978.91 1568.97 975.95 1568.97 Q967.897 1568.97 963.155 1563.91 Q958.412 1558.85 958.412 1550.25 Q958.412 1541.53 963.186 1536.53 Q967.992 1531.54 976.332 1531.54 Q979.037 1531.54 981.615 1532.11 Q984.193 1532.65 986.612 1533.76 Z\" fill=\"#000000\" fill-rule=\"evenodd\" fill-opacity=\"1\" /><path clip-path=\"url(#clip090)\" d=\"M 0 0 M996.193 1553.98 L996.193 1532.4 L1002.05 1532.4 L1002.05 1553.75 Q1002.05 1558.81 1004.02 1561.36 Q1006 1563.87 1009.94 1563.87 Q1014.68 1563.87 1017.42 1560.85 Q1020.19 1557.83 1020.19 1552.61 L1020.19 1532.4 L1026.05 1532.4 L1026.05 1568.04 L1020.19 1568.04 L1020.19 1562.57 Q1018.06 1565.82 1015.23 1567.41 Q1012.43 1568.97 1008.7 1568.97 Q1002.56 1568.97 999.375 1565.15 Q996.193 1561.33 996.193 1553.98 M1010.93 1531.54 L1010.93 1531.54 Z\" fill=\"#000000\" fill-rule=\"evenodd\" fill-opacity=\"1\" /><path clip-path=\"url(#clip090)\" d=\"M 0 0 M1058.77 1537.87 Q1057.78 1537.3 1056.6 1537.04 Q1055.46 1536.76 1054.06 1536.76 Q1049.09 1536.76 1046.42 1540 Q1043.78 1543.22 1043.78 1549.27 L1043.78 1568.04 L1037.89 1568.04 L1037.89 1532.4 L1043.78 1532.4 L1043.78 1537.93 Q1045.62 1534.69 1048.58 1533.13 Q1051.54 1531.54 1055.78 1531.54 Q1056.38 1531.54 1057.11 1531.63 Q1057.84 1531.7 1058.74 1531.85 L1058.77 1537.87 Z\" fill=\"#000000\" fill-rule=\"evenodd\" fill-opacity=\"1\" /><path clip-path=\"url(#clip090)\" d=\"M 0 0 M1084.42 1537.87 Q1083.43 1537.3 1082.26 1537.04 Q1081.11 1536.76 1079.71 1536.76 Q1074.75 1536.76 1072.07 1540 Q1069.43 1543.22 1069.43 1549.27 L1069.43 1568.04 L1063.54 1568.04 L1063.54 1532.4 L1069.43 1532.4 L1069.43 1537.93 Q1071.28 1534.69 1074.24 1533.13 Q1077.2 1531.54 1081.43 1531.54 Q1082.03 1531.54 1082.77 1531.63 Q1083.5 1531.7 1084.39 1531.85 L1084.42 1537.87 Z\" fill=\"#000000\" fill-rule=\"evenodd\" fill-opacity=\"1\" /><path clip-path=\"url(#clip090)\" d=\"M 0 0 M1090.56 1532.4 L1096.42 1532.4 L1096.42 1568.04 L1090.56 1568.04 L1090.56 1532.4 M1090.56 1518.52 L1096.42 1518.52 L1096.42 1525.93 L1090.56 1525.93 L1090.56 1518.52 Z\" fill=\"#000000\" fill-rule=\"evenodd\" fill-opacity=\"1\" /><path clip-path=\"url(#clip090)\" d=\"M 0 0 M1134.33 1533.76 L1134.33 1539.24 Q1131.85 1537.87 1129.33 1537.2 Q1126.85 1536.5 1124.3 1536.5 Q1118.61 1536.5 1115.45 1540.13 Q1112.3 1543.73 1112.3 1550.25 Q1112.3 1556.78 1115.45 1560.4 Q1118.61 1564 1124.3 1564 Q1126.85 1564 1129.33 1563.33 Q1131.85 1562.63 1134.33 1561.26 L1134.33 1566.68 Q1131.88 1567.82 1129.24 1568.39 Q1126.63 1568.97 1123.67 1568.97 Q1115.61 1568.97 1110.87 1563.91 Q1106.13 1558.85 1106.13 1550.25 Q1106.13 1541.53 1110.9 1536.53 Q1115.71 1531.54 1124.05 1531.54 Q1126.75 1531.54 1129.33 1532.11 Q1131.91 1532.65 1134.33 1533.76 Z\" fill=\"#000000\" fill-rule=\"evenodd\" fill-opacity=\"1\" /><path clip-path=\"url(#clip090)\" d=\"M 0 0 M1143.91 1553.98 L1143.91 1532.4 L1149.77 1532.4 L1149.77 1553.75 Q1149.77 1558.81 1151.74 1561.36 Q1153.71 1563.87 1157.66 1563.87 Q1162.4 1563.87 1165.14 1560.85 Q1167.91 1557.83 1167.91 1552.61 L1167.91 1532.4 L1173.76 1532.4 L1173.76 1568.04 L1167.91 1568.04 L1167.91 1562.57 Q1165.77 1565.82 1162.94 1567.41 Q1160.14 1568.97 1156.42 1568.97 Q1150.27 1568.97 1147.09 1565.15 Q1143.91 1561.33 1143.91 1553.98 M1158.65 1531.54 L1158.65 1531.54 Z\" fill=\"#000000\" fill-rule=\"evenodd\" fill-opacity=\"1\" /><path clip-path=\"url(#clip090)\" d=\"M 0 0 M1185.83 1518.52 L1191.68 1518.52 L1191.68 1568.04 L1185.83 1568.04 L1185.83 1518.52 Z\" fill=\"#000000\" fill-rule=\"evenodd\" fill-opacity=\"1\" /><path clip-path=\"url(#clip090)\" d=\"M 0 0 M1220.14 1550.12 Q1213.04 1550.12 1210.3 1551.75 Q1207.57 1553.37 1207.57 1557.29 Q1207.57 1560.4 1209.6 1562.25 Q1211.67 1564.07 1215.2 1564.07 Q1220.07 1564.07 1223 1560.63 Q1225.96 1557.16 1225.96 1551.43 L1225.96 1550.12 L1220.14 1550.12 M1231.82 1547.71 L1231.82 1568.04 L1225.96 1568.04 L1225.96 1562.63 Q1223.96 1565.88 1220.97 1567.44 Q1217.97 1568.97 1213.65 1568.97 Q1208.17 1568.97 1204.92 1565.91 Q1201.71 1562.82 1201.71 1557.67 Q1201.71 1551.65 1205.72 1548.6 Q1209.76 1545.54 1217.75 1545.54 L1225.96 1545.54 L1225.96 1544.97 Q1225.96 1540.93 1223.29 1538.73 Q1220.65 1536.5 1215.84 1536.5 Q1212.79 1536.5 1209.89 1537.23 Q1206.99 1537.97 1204.32 1539.43 L1204.32 1534.02 Q1207.53 1532.78 1210.56 1532.17 Q1213.58 1531.54 1216.45 1531.54 Q1224.18 1531.54 1228 1535.55 Q1231.82 1539.56 1231.82 1547.71 Z\" fill=\"#000000\" fill-rule=\"evenodd\" fill-opacity=\"1\" /><path clip-path=\"url(#clip090)\" d=\"M 0 0 M1264.54 1537.87 Q1263.55 1537.3 1262.37 1537.04 Q1261.23 1536.76 1259.83 1536.76 Q1254.86 1536.76 1252.19 1540 Q1249.55 1543.22 1249.55 1549.27 L1249.55 1568.04 L1243.66 1568.04 L1243.66 1532.4 L1249.55 1532.4 L1249.55 1537.93 Q1251.39 1534.69 1254.35 1533.13 Q1257.31 1531.54 1261.55 1531.54 Q1262.15 1531.54 1262.88 1531.63 Q1263.62 1531.7 1264.51 1531.85 L1264.54 1537.87 Z\" fill=\"#000000\" fill-rule=\"evenodd\" fill-opacity=\"1\" /><path clip-path=\"url(#clip090)\" d=\"M 0 0 M1317.06 1533.76 L1317.06 1539.24 Q1314.57 1537.87 1312.06 1537.2 Q1309.58 1536.5 1307.03 1536.5 Q1301.33 1536.5 1298.18 1540.13 Q1295.03 1543.73 1295.03 1550.25 Q1295.03 1556.78 1298.18 1560.4 Q1301.33 1564 1307.03 1564 Q1309.58 1564 1312.06 1563.33 Q1314.57 1562.63 1317.06 1561.26 L1317.06 1566.68 Q1314.61 1567.82 1311.96 1568.39 Q1309.35 1568.97 1306.39 1568.97 Q1298.34 1568.97 1293.6 1563.91 Q1288.86 1558.85 1288.86 1550.25 Q1288.86 1541.53 1293.63 1536.53 Q1298.44 1531.54 1306.78 1531.54 Q1309.48 1531.54 1312.06 1532.11 Q1314.64 1532.65 1317.06 1533.76 Z\" fill=\"#000000\" fill-rule=\"evenodd\" fill-opacity=\"1\" /><path clip-path=\"url(#clip090)\" d=\"M 0 0 M1341.05 1536.5 Q1336.34 1536.5 1333.61 1540.19 Q1330.87 1543.85 1330.87 1550.25 Q1330.87 1556.65 1333.58 1560.34 Q1336.31 1564 1341.05 1564 Q1345.73 1564 1348.47 1560.31 Q1351.21 1556.62 1351.21 1550.25 Q1351.21 1543.92 1348.47 1540.23 Q1345.73 1536.5 1341.05 1536.5 M1341.05 1531.54 Q1348.69 1531.54 1353.05 1536.5 Q1357.41 1541.47 1357.41 1550.25 Q1357.41 1559 1353.05 1564 Q1348.69 1568.97 1341.05 1568.97 Q1333.38 1568.97 1329.02 1564 Q1324.69 1559 1324.69 1550.25 Q1324.69 1541.47 1329.02 1536.5 Q1333.38 1531.54 1341.05 1531.54 Z\" fill=\"#000000\" fill-rule=\"evenodd\" fill-opacity=\"1\" /><path clip-path=\"url(#clip090)\" d=\"M 0 0 M1394.88 1539.24 Q1397.07 1535.29 1400.13 1533.41 Q1403.18 1531.54 1407.32 1531.54 Q1412.89 1531.54 1415.92 1535.45 Q1418.94 1539.33 1418.94 1546.53 L1418.94 1568.04 L1413.05 1568.04 L1413.05 1546.72 Q1413.05 1541.59 1411.24 1539.11 Q1409.42 1536.63 1405.7 1536.63 Q1401.15 1536.63 1398.51 1539.65 Q1395.86 1542.68 1395.86 1547.9 L1395.86 1568.04 L1389.98 1568.04 L1389.98 1546.72 Q1389.98 1541.56 1388.16 1539.11 Q1386.35 1536.63 1382.56 1536.63 Q1378.07 1536.63 1375.43 1539.68 Q1372.79 1542.71 1372.79 1547.9 L1372.79 1568.04 L1366.9 1568.04 L1366.9 1532.4 L1372.79 1532.4 L1372.79 1537.93 Q1374.79 1534.66 1377.59 1533.1 Q1380.39 1531.54 1384.25 1531.54 Q1388.13 1531.54 1390.83 1533.51 Q1393.57 1535.48 1394.88 1539.24 Z\" fill=\"#000000\" fill-rule=\"evenodd\" fill-opacity=\"1\" /><path clip-path=\"url(#clip090)\" d=\"M 0 0 M1436.29 1562.7 L1436.29 1581.6 L1430.4 1581.6 L1430.4 1532.4 L1436.29 1532.4 L1436.29 1537.81 Q1438.13 1534.62 1440.93 1533.1 Q1443.77 1531.54 1447.68 1531.54 Q1454.17 1531.54 1458.22 1536.69 Q1462.29 1541.85 1462.29 1550.25 Q1462.29 1558.65 1458.22 1563.81 Q1454.17 1568.97 1447.68 1568.97 Q1443.77 1568.97 1440.93 1567.44 Q1438.13 1565.88 1436.29 1562.7 M1456.21 1550.25 Q1456.21 1543.79 1453.54 1540.13 Q1450.89 1536.44 1446.25 1536.44 Q1441.6 1536.44 1438.93 1540.13 Q1436.29 1543.79 1436.29 1550.25 Q1436.29 1556.71 1438.93 1560.4 Q1441.6 1564.07 1446.25 1564.07 Q1450.89 1564.07 1453.54 1560.4 Q1456.21 1556.71 1456.21 1550.25 Z\" fill=\"#000000\" fill-rule=\"evenodd\" fill-opacity=\"1\" /><path clip-path=\"url(#clip090)\" d=\"M 0 0 M1472 1518.52 L1477.85 1518.52 L1477.85 1568.04 L1472 1568.04 L1472 1518.52 Z\" fill=\"#000000\" fill-rule=\"evenodd\" fill-opacity=\"1\" /><path clip-path=\"url(#clip090)\" d=\"M 0 0 M1520.6 1548.76 L1520.6 1551.62 L1493.67 1551.62 Q1494.05 1557.67 1497.3 1560.85 Q1500.58 1564 1506.4 1564 Q1509.78 1564 1512.93 1563.17 Q1516.11 1562.35 1519.23 1560.69 L1519.23 1566.23 Q1516.08 1567.57 1512.77 1568.27 Q1509.46 1568.97 1506.05 1568.97 Q1497.52 1568.97 1492.53 1564 Q1487.56 1559.04 1487.56 1550.57 Q1487.56 1541.82 1492.27 1536.69 Q1497.01 1531.54 1505.04 1531.54 Q1512.23 1531.54 1516.4 1536.18 Q1520.6 1540.8 1520.6 1548.76 M1514.74 1547.04 Q1514.68 1542.23 1512.04 1539.37 Q1509.43 1536.5 1505.1 1536.5 Q1500.2 1536.5 1497.24 1539.27 Q1494.31 1542.04 1493.86 1547.07 L1514.74 1547.04 Z\" fill=\"#000000\" fill-rule=\"evenodd\" fill-opacity=\"1\" /><path clip-path=\"url(#clip090)\" d=\"M 0 0 M1558.7 1532.4 L1545.81 1549.74 L1559.37 1568.04 L1552.46 1568.04 L1542.08 1554.04 L1531.71 1568.04 L1524.8 1568.04 L1538.65 1549.39 L1525.98 1532.4 L1532.89 1532.4 L1542.34 1545.1 L1551.79 1532.4 L1558.7 1532.4 Z\" fill=\"#000000\" fill-rule=\"evenodd\" fill-opacity=\"1\" /><path clip-path=\"url(#clip090)\" d=\"M 0 0 M1567.64 1532.4 L1573.5 1532.4 L1573.5 1568.04 L1567.64 1568.04 L1567.64 1532.4 M1567.64 1518.52 L1573.5 1518.52 L1573.5 1525.93 L1567.64 1525.93 L1567.64 1518.52 Z\" fill=\"#000000\" fill-rule=\"evenodd\" fill-opacity=\"1\" /><path clip-path=\"url(#clip090)\" d=\"M 0 0 M1591.55 1522.27 L1591.55 1532.4 L1603.61 1532.4 L1603.61 1536.95 L1591.55 1536.95 L1591.55 1556.3 Q1591.55 1560.66 1592.72 1561.9 Q1593.93 1563.14 1597.59 1563.14 L1603.61 1563.14 L1603.61 1568.04 L1597.59 1568.04 Q1590.81 1568.04 1588.24 1565.53 Q1585.66 1562.98 1585.66 1556.3 L1585.66 1536.95 L1581.36 1536.95 L1581.36 1532.4 L1585.66 1532.4 L1585.66 1522.27 L1591.55 1522.27 Z\" fill=\"#000000\" fill-rule=\"evenodd\" fill-opacity=\"1\" /><path clip-path=\"url(#clip090)\" d=\"M 0 0 M1626.14 1571.35 Q1623.66 1577.72 1621.3 1579.66 Q1618.95 1581.6 1615 1581.6 L1610.32 1581.6 L1610.32 1576.7 L1613.76 1576.7 Q1616.18 1576.7 1617.52 1575.56 Q1618.85 1574.41 1620.48 1570.14 L1621.53 1567.47 L1607.11 1532.4 L1613.32 1532.4 L1624.46 1560.28 L1635.6 1532.4 L1641.8 1532.4 L1626.14 1571.35 Z\" fill=\"#000000\" fill-rule=\"evenodd\" fill-opacity=\"1\" /><polyline clip-path=\"url(#clip092)\" style=\"stroke:#000000; stroke-width:2; stroke-opacity:0.1; fill:none\" points=\"\n",
       "  247.459,1423.18 2352.76,1423.18 \n",
       "  \"/>\n",
       "<polyline clip-path=\"url(#clip092)\" style=\"stroke:#000000; stroke-width:2; stroke-opacity:0.1; fill:none\" points=\"\n",
       "  247.459,1113.73 2352.76,1113.73 \n",
       "  \"/>\n",
       "<polyline clip-path=\"url(#clip092)\" style=\"stroke:#000000; stroke-width:2; stroke-opacity:0.1; fill:none\" points=\"\n",
       "  247.459,804.271 2352.76,804.271 \n",
       "  \"/>\n",
       "<polyline clip-path=\"url(#clip092)\" style=\"stroke:#000000; stroke-width:2; stroke-opacity:0.1; fill:none\" points=\"\n",
       "  247.459,494.817 2352.76,494.817 \n",
       "  \"/>\n",
       "<polyline clip-path=\"url(#clip092)\" style=\"stroke:#000000; stroke-width:2; stroke-opacity:0.1; fill:none\" points=\"\n",
       "  247.459,185.363 2352.76,185.363 \n",
       "  \"/>\n",
       "<polyline clip-path=\"url(#clip090)\" style=\"stroke:#000000; stroke-width:4; stroke-opacity:1; fill:none\" points=\"\n",
       "  247.459,1423.18 247.459,123.472 \n",
       "  \"/>\n",
       "<polyline clip-path=\"url(#clip090)\" style=\"stroke:#000000; stroke-width:4; stroke-opacity:1; fill:none\" points=\"\n",
       "  247.459,1423.18 272.722,1423.18 \n",
       "  \"/>\n",
       "<polyline clip-path=\"url(#clip090)\" style=\"stroke:#000000; stroke-width:4; stroke-opacity:1; fill:none\" points=\"\n",
       "  247.459,1113.73 272.722,1113.73 \n",
       "  \"/>\n",
       "<polyline clip-path=\"url(#clip090)\" style=\"stroke:#000000; stroke-width:4; stroke-opacity:1; fill:none\" points=\"\n",
       "  247.459,804.271 272.722,804.271 \n",
       "  \"/>\n",
       "<polyline clip-path=\"url(#clip090)\" style=\"stroke:#000000; stroke-width:4; stroke-opacity:1; fill:none\" points=\"\n",
       "  247.459,494.817 272.722,494.817 \n",
       "  \"/>\n",
       "<polyline clip-path=\"url(#clip090)\" style=\"stroke:#000000; stroke-width:4; stroke-opacity:1; fill:none\" points=\"\n",
       "  247.459,185.363 272.722,185.363 \n",
       "  \"/>\n",
       "<path clip-path=\"url(#clip090)\" d=\"M 0 0 M154.283 1408.98 Q150.672 1408.98 148.843 1412.54 Q147.038 1416.08 147.038 1423.21 Q147.038 1430.32 148.843 1433.89 Q150.672 1437.43 154.283 1437.43 Q157.917 1437.43 159.723 1433.89 Q161.552 1430.32 161.552 1423.21 Q161.552 1416.08 159.723 1412.54 Q157.917 1408.98 154.283 1408.98 M154.283 1405.27 Q160.093 1405.27 163.149 1409.88 Q166.227 1414.46 166.227 1423.21 Q166.227 1431.94 163.149 1436.55 Q160.093 1441.13 154.283 1441.13 Q148.473 1441.13 145.394 1436.55 Q142.339 1431.94 142.339 1423.21 Q142.339 1414.46 145.394 1409.88 Q148.473 1405.27 154.283 1405.27 Z\" fill=\"#000000\" fill-rule=\"evenodd\" fill-opacity=\"1\" /><path clip-path=\"url(#clip090)\" d=\"M 0 0 M174.445 1434.58 L179.329 1434.58 L179.329 1440.46 L174.445 1440.46 L174.445 1434.58 Z\" fill=\"#000000\" fill-rule=\"evenodd\" fill-opacity=\"1\" /><path clip-path=\"url(#clip090)\" d=\"M 0 0 M199.514 1408.98 Q195.903 1408.98 194.075 1412.54 Q192.269 1416.08 192.269 1423.21 Q192.269 1430.32 194.075 1433.89 Q195.903 1437.43 199.514 1437.43 Q203.149 1437.43 204.954 1433.89 Q206.783 1430.32 206.783 1423.21 Q206.783 1416.08 204.954 1412.54 Q203.149 1408.98 199.514 1408.98 M199.514 1405.27 Q205.324 1405.27 208.38 1409.88 Q211.459 1414.46 211.459 1423.21 Q211.459 1431.94 208.38 1436.55 Q205.324 1441.13 199.514 1441.13 Q193.704 1441.13 190.625 1436.55 Q187.57 1431.94 187.57 1423.21 Q187.57 1414.46 190.625 1409.88 Q193.704 1405.27 199.514 1405.27 Z\" fill=\"#000000\" fill-rule=\"evenodd\" fill-opacity=\"1\" /><path clip-path=\"url(#clip090)\" d=\"M 0 0 M149.306 1127.07 L165.626 1127.07 L165.626 1131.01 L143.681 1131.01 L143.681 1127.07 Q146.343 1124.32 150.927 1119.69 Q155.533 1115.03 156.714 1113.69 Q158.959 1111.17 159.839 1109.43 Q160.741 1107.67 160.741 1105.98 Q160.741 1103.23 158.797 1101.49 Q156.876 1099.76 153.774 1099.76 Q151.575 1099.76 149.121 1100.52 Q146.691 1101.28 143.913 1102.83 L143.913 1098.11 Q146.737 1096.98 149.191 1096.4 Q151.644 1095.82 153.681 1095.82 Q159.052 1095.82 162.246 1098.51 Q165.44 1101.19 165.44 1105.68 Q165.44 1107.81 164.63 1109.73 Q163.843 1111.63 161.737 1114.22 Q161.158 1114.89 158.056 1118.11 Q154.954 1121.31 149.306 1127.07 Z\" fill=\"#000000\" fill-rule=\"evenodd\" fill-opacity=\"1\" /><path clip-path=\"url(#clip090)\" d=\"M 0 0 M175.44 1125.13 L180.325 1125.13 L180.325 1131.01 L175.44 1131.01 L175.44 1125.13 Z\" fill=\"#000000\" fill-rule=\"evenodd\" fill-opacity=\"1\" /><path clip-path=\"url(#clip090)\" d=\"M 0 0 M190.556 1096.45 L208.912 1096.45 L208.912 1100.38 L194.838 1100.38 L194.838 1108.85 Q195.857 1108.51 196.875 1108.34 Q197.894 1108.16 198.912 1108.16 Q204.699 1108.16 208.079 1111.33 Q211.459 1114.5 211.459 1119.92 Q211.459 1125.5 207.987 1128.6 Q204.514 1131.68 198.195 1131.68 Q196.019 1131.68 193.75 1131.31 Q191.505 1130.94 189.098 1130.2 L189.098 1125.5 Q191.181 1126.63 193.403 1127.19 Q195.625 1127.74 198.102 1127.74 Q202.107 1127.74 204.445 1125.64 Q206.783 1123.53 206.783 1119.92 Q206.783 1116.31 204.445 1114.2 Q202.107 1112.09 198.102 1112.09 Q196.227 1112.09 194.352 1112.51 Q192.5 1112.93 190.556 1113.81 L190.556 1096.45 Z\" fill=\"#000000\" fill-rule=\"evenodd\" fill-opacity=\"1\" /><path clip-path=\"url(#clip090)\" d=\"M 0 0 M144.329 786.991 L162.686 786.991 L162.686 790.927 L148.612 790.927 L148.612 799.399 Q149.63 799.052 150.649 798.889 Q151.667 798.704 152.686 798.704 Q158.473 798.704 161.852 801.876 Q165.232 805.047 165.232 810.464 Q165.232 816.042 161.76 819.144 Q158.288 822.223 151.968 822.223 Q149.792 822.223 147.524 821.852 Q145.279 821.482 142.871 820.741 L142.871 816.042 Q144.954 817.176 147.177 817.732 Q149.399 818.288 151.876 818.288 Q155.88 818.288 158.218 816.181 Q160.556 814.075 160.556 810.464 Q160.556 806.852 158.218 804.746 Q155.88 802.639 151.876 802.639 Q150.001 802.639 148.126 803.056 Q146.274 803.473 144.329 804.352 L144.329 786.991 Z\" fill=\"#000000\" fill-rule=\"evenodd\" fill-opacity=\"1\" /><path clip-path=\"url(#clip090)\" d=\"M 0 0 M174.445 815.672 L179.329 815.672 L179.329 821.551 L174.445 821.551 L174.445 815.672 Z\" fill=\"#000000\" fill-rule=\"evenodd\" fill-opacity=\"1\" /><path clip-path=\"url(#clip090)\" d=\"M 0 0 M199.514 790.07 Q195.903 790.07 194.075 793.635 Q192.269 797.177 192.269 804.306 Q192.269 811.413 194.075 814.977 Q195.903 818.519 199.514 818.519 Q203.149 818.519 204.954 814.977 Q206.783 811.413 206.783 804.306 Q206.783 797.177 204.954 793.635 Q203.149 790.07 199.514 790.07 M199.514 786.366 Q205.324 786.366 208.38 790.973 Q211.459 795.556 211.459 804.306 Q211.459 813.033 208.38 817.639 Q205.324 822.223 199.514 822.223 Q193.704 822.223 190.625 817.639 Q187.57 813.033 187.57 804.306 Q187.57 795.556 190.625 790.973 Q193.704 786.366 199.514 786.366 Z\" fill=\"#000000\" fill-rule=\"evenodd\" fill-opacity=\"1\" /><path clip-path=\"url(#clip090)\" d=\"M 0 0 M144.098 477.537 L166.32 477.537 L166.32 479.528 L153.774 512.097 L148.89 512.097 L160.695 481.472 L144.098 481.472 L144.098 477.537 Z\" fill=\"#000000\" fill-rule=\"evenodd\" fill-opacity=\"1\" /><path clip-path=\"url(#clip090)\" d=\"M 0 0 M175.44 506.218 L180.325 506.218 L180.325 512.097 L175.44 512.097 L175.44 506.218 Z\" fill=\"#000000\" fill-rule=\"evenodd\" fill-opacity=\"1\" /><path clip-path=\"url(#clip090)\" d=\"M 0 0 M190.556 477.537 L208.912 477.537 L208.912 481.472 L194.838 481.472 L194.838 489.945 Q195.857 489.597 196.875 489.435 Q197.894 489.25 198.912 489.25 Q204.699 489.25 208.079 492.421 Q211.459 495.593 211.459 501.009 Q211.459 506.588 207.987 509.69 Q204.514 512.768 198.195 512.768 Q196.019 512.768 193.75 512.398 Q191.505 512.028 189.098 511.287 L189.098 506.588 Q191.181 507.722 193.403 508.278 Q195.625 508.833 198.102 508.833 Q202.107 508.833 204.445 506.727 Q206.783 504.62 206.783 501.009 Q206.783 497.398 204.445 495.292 Q202.107 493.185 198.102 493.185 Q196.227 493.185 194.352 493.602 Q192.5 494.019 190.556 494.898 L190.556 477.537 Z\" fill=\"#000000\" fill-rule=\"evenodd\" fill-opacity=\"1\" /><path clip-path=\"url(#clip090)\" d=\"M 0 0 M114.931 198.708 L122.57 198.708 L122.57 172.342 L114.26 174.009 L114.26 169.75 L122.524 168.083 L127.2 168.083 L127.2 198.708 L134.839 198.708 L134.839 202.643 L114.931 202.643 L114.931 198.708 Z\" fill=\"#000000\" fill-rule=\"evenodd\" fill-opacity=\"1\" /><path clip-path=\"url(#clip090)\" d=\"M 0 0 M154.283 171.162 Q150.672 171.162 148.843 174.726 Q147.038 178.268 147.038 185.398 Q147.038 192.504 148.843 196.069 Q150.672 199.611 154.283 199.611 Q157.917 199.611 159.723 196.069 Q161.552 192.504 161.552 185.398 Q161.552 178.268 159.723 174.726 Q157.917 171.162 154.283 171.162 M154.283 167.458 Q160.093 167.458 163.149 172.064 Q166.227 176.648 166.227 185.398 Q166.227 194.124 163.149 198.731 Q160.093 203.314 154.283 203.314 Q148.473 203.314 145.394 198.731 Q142.339 194.124 142.339 185.398 Q142.339 176.648 145.394 172.064 Q148.473 167.458 154.283 167.458 Z\" fill=\"#000000\" fill-rule=\"evenodd\" fill-opacity=\"1\" /><path clip-path=\"url(#clip090)\" d=\"M 0 0 M174.445 196.763 L179.329 196.763 L179.329 202.643 L174.445 202.643 L174.445 196.763 Z\" fill=\"#000000\" fill-rule=\"evenodd\" fill-opacity=\"1\" /><path clip-path=\"url(#clip090)\" d=\"M 0 0 M199.514 171.162 Q195.903 171.162 194.075 174.726 Q192.269 178.268 192.269 185.398 Q192.269 192.504 194.075 196.069 Q195.903 199.611 199.514 199.611 Q203.149 199.611 204.954 196.069 Q206.783 192.504 206.783 185.398 Q206.783 178.268 204.954 174.726 Q203.149 171.162 199.514 171.162 M199.514 167.458 Q205.324 167.458 208.38 172.064 Q211.459 176.648 211.459 185.398 Q211.459 194.124 208.38 198.731 Q205.324 203.314 199.514 203.314 Q193.704 203.314 190.625 198.731 Q187.57 194.124 187.57 185.398 Q187.57 176.648 190.625 172.064 Q193.704 167.458 199.514 167.458 Z\" fill=\"#000000\" fill-rule=\"evenodd\" fill-opacity=\"1\" /><path clip-path=\"url(#clip090)\" d=\"M 0 0 M35.3266 900.067 L35.3266 909.329 L45.9574 912.003 L45.9574 902.677 L35.3266 900.067 M17.2162 904.841 L30.4251 908.152 L30.4251 898.858 L17.2162 895.516 L17.2162 890.423 L30.4251 893.701 L30.4251 883.771 L35.3266 883.771 L35.3266 894.943 L45.9574 897.553 L45.9574 887.431 L50.8271 887.431 L50.8271 898.794 L64.0042 902.104 L64.0042 907.197 L50.8271 903.918 L50.8271 913.244 L64.0042 916.523 L64.0042 921.647 L50.8271 918.337 L50.8271 928.363 L45.9574 928.363 L45.9574 917.159 L35.3266 914.486 L35.3266 924.734 L30.4251 924.734 L30.4251 913.244 L17.2162 909.998 L17.2162 904.841 Z\" fill=\"#000000\" fill-rule=\"evenodd\" fill-opacity=\"1\" /><path clip-path=\"url(#clip090)\" d=\"M 0 0 M29.4065 829.185 L34.9447 829.185 Q33.6716 831.668 33.035 834.341 Q32.3984 837.015 32.3984 839.879 Q32.3984 844.24 33.7352 846.436 Q35.072 848.6 37.7456 848.6 Q39.7826 848.6 40.9603 847.041 Q42.1061 845.481 43.1565 840.771 L43.6021 838.765 Q44.9389 832.527 47.3897 829.917 Q49.8086 827.275 54.1691 827.275 Q59.1344 827.275 62.0308 831.222 Q64.9272 835.137 64.9272 842.012 Q64.9272 844.877 64.3543 847.996 Q63.8132 851.083 62.6992 854.521 L56.6518 854.521 Q58.3387 851.274 59.198 848.123 Q60.0256 844.972 60.0256 841.885 Q60.0256 837.747 58.6251 835.519 Q57.1929 833.291 54.6147 833.291 Q52.2276 833.291 50.9545 834.914 Q49.6813 836.506 48.5037 841.948 L48.0262 843.985 Q46.8804 849.428 44.5251 851.847 Q42.138 854.266 38.0002 854.266 Q32.9713 854.266 30.2341 850.701 Q27.4968 847.136 27.4968 840.58 Q27.4968 837.333 27.9743 834.469 Q28.4517 831.604 29.4065 829.185 Z\" fill=\"#000000\" fill-rule=\"evenodd\" fill-opacity=\"1\" /><path clip-path=\"url(#clip090)\" d=\"M 0 0 M29.7248 792.296 L35.1993 792.296 Q33.8307 794.778 33.1623 797.293 Q32.4621 799.775 32.4621 802.322 Q32.4621 808.019 36.0905 811.17 Q39.6872 814.321 46.212 814.321 Q52.7369 814.321 56.3653 811.17 Q59.9619 808.019 59.9619 802.322 Q59.9619 799.775 59.2935 797.293 Q58.5933 794.778 57.2247 792.296 L62.6355 792.296 Q63.7814 794.747 64.3543 797.388 Q64.9272 799.998 64.9272 802.958 Q64.9272 811.011 59.8664 815.753 Q54.8057 820.496 46.212 820.496 Q37.491 820.496 32.4939 815.722 Q27.4968 810.915 27.4968 802.576 Q27.4968 799.871 28.0697 797.293 Q28.6108 794.715 29.7248 792.296 Z\" fill=\"#000000\" fill-rule=\"evenodd\" fill-opacity=\"1\" /><path clip-path=\"url(#clip090)\" d=\"M 0 0 M42.4881 752.478 L64.0042 752.478 L64.0042 758.335 L42.679 758.335 Q37.6183 758.335 35.1038 760.308 Q32.5894 762.281 32.5894 766.228 Q32.5894 770.971 35.6131 773.708 Q38.6368 776.445 43.8567 776.445 L64.0042 776.445 L64.0042 782.333 L14.479 782.333 L14.479 776.445 L33.8944 776.445 Q30.6797 774.344 29.0883 771.512 Q27.4968 768.647 27.4968 764.923 Q27.4968 758.78 31.3163 755.629 Q35.1038 752.478 42.4881 752.478 Z\" fill=\"#000000\" fill-rule=\"evenodd\" fill-opacity=\"1\" /><path clip-path=\"url(#clip090)\" d=\"M 0 0 M32.4621 726.984 Q32.4621 731.694 36.1542 734.432 Q39.8145 737.169 46.212 737.169 Q52.6095 737.169 56.3017 734.463 Q59.9619 731.726 59.9619 726.984 Q59.9619 722.305 56.2698 719.568 Q52.5777 716.83 46.212 716.83 Q39.8781 716.83 36.186 719.568 Q32.4621 722.305 32.4621 726.984 M27.4968 726.984 Q27.4968 719.345 32.4621 714.984 Q37.4273 710.624 46.212 710.624 Q54.9649 710.624 59.9619 714.984 Q64.9272 719.345 64.9272 726.984 Q64.9272 734.654 59.9619 739.015 Q54.9649 743.344 46.212 743.344 Q37.4273 743.344 32.4621 739.015 Q27.4968 734.654 27.4968 726.984 Z\" fill=\"#000000\" fill-rule=\"evenodd\" fill-opacity=\"1\" /><path clip-path=\"url(#clip090)\" d=\"M 0 0 M32.4621 687.102 Q32.4621 691.813 36.1542 694.55 Q39.8145 697.288 46.212 697.288 Q52.6095 697.288 56.3017 694.582 Q59.9619 691.845 59.9619 687.102 Q59.9619 682.424 56.2698 679.686 Q52.5777 676.949 46.212 676.949 Q39.8781 676.949 36.186 679.686 Q32.4621 682.424 32.4621 687.102 M27.4968 687.102 Q27.4968 679.464 32.4621 675.103 Q37.4273 670.743 46.212 670.743 Q54.9649 670.743 59.9619 675.103 Q64.9272 679.464 64.9272 687.102 Q64.9272 694.773 59.9619 699.134 Q54.9649 703.462 46.212 703.462 Q37.4273 703.462 32.4621 699.134 Q27.4968 694.773 27.4968 687.102 Z\" fill=\"#000000\" fill-rule=\"evenodd\" fill-opacity=\"1\" /><path clip-path=\"url(#clip090)\" d=\"M 0 0 M14.479 661.035 L14.479 655.178 L64.0042 655.178 L64.0042 661.035 L14.479 661.035 Z\" fill=\"#000000\" fill-rule=\"evenodd\" fill-opacity=\"1\" /><path clip-path=\"url(#clip090)\" d=\"M 0 0 M29.4065 620.199 L34.9447 620.199 Q33.6716 622.682 33.035 625.355 Q32.3984 628.029 32.3984 630.893 Q32.3984 635.254 33.7352 637.45 Q35.072 639.614 37.7456 639.614 Q39.7826 639.614 40.9603 638.055 Q42.1061 636.495 43.1565 631.784 L43.6021 629.779 Q44.9389 623.541 47.3897 620.931 Q49.8086 618.289 54.1691 618.289 Q59.1344 618.289 62.0308 622.236 Q64.9272 626.151 64.9272 633.026 Q64.9272 635.89 64.3543 639.01 Q63.8132 642.097 62.6992 645.534 L56.6518 645.534 Q58.3387 642.288 59.198 639.137 Q60.0256 635.986 60.0256 632.898 Q60.0256 628.761 58.6251 626.533 Q57.1929 624.305 54.6147 624.305 Q52.2276 624.305 50.9545 625.928 Q49.6813 627.519 48.5037 632.962 L48.0262 634.999 Q46.8804 640.442 44.5251 642.861 Q42.138 645.28 38.0002 645.28 Q32.9713 645.28 30.2341 641.715 Q27.4968 638.15 27.4968 631.594 Q27.4968 628.347 27.9743 625.482 Q28.4517 622.618 29.4065 620.199 Z\" fill=\"#000000\" fill-rule=\"evenodd\" fill-opacity=\"1\" /><path clip-path=\"url(#clip090)\" d=\"M 0 0 M1068.86 43.6931 L1068.86 65.8515 L1081.99 65.8515 Q1088.59 65.8515 1091.75 63.1374 Q1094.95 60.3828 1094.95 54.752 Q1094.95 49.0808 1091.75 46.4072 Q1088.59 43.6931 1081.99 43.6931 L1068.86 43.6931 M1068.86 18.8205 L1068.86 37.0496 L1080.97 37.0496 Q1086.97 37.0496 1089.89 34.8216 Q1092.84 32.5531 1092.84 27.935 Q1092.84 23.3575 1089.89 21.089 Q1086.97 18.8205 1080.97 18.8205 L1068.86 18.8205 M1060.68 12.096 L1081.58 12.096 Q1090.94 12.096 1096 15.9849 Q1101.07 19.8737 1101.07 27.0438 Q1101.07 32.5936 1098.47 35.8748 Q1095.88 39.156 1090.86 39.9662 Q1096.89 41.2625 1100.22 45.3944 Q1103.58 49.4858 1103.58 55.6432 Q1103.58 63.745 1098.07 68.1605 Q1092.56 72.576 1082.39 72.576 L1060.68 72.576 L1060.68 12.096 Z\" fill=\"#000000\" fill-rule=\"evenodd\" fill-opacity=\"1\" /><path clip-path=\"url(#clip090)\" d=\"M 0 0 M1134.85 32.4315 Q1128.86 32.4315 1125.37 37.1306 Q1121.89 41.7891 1121.89 49.9314 Q1121.89 58.0738 1125.33 62.7728 Q1128.81 67.4314 1134.85 67.4314 Q1140.81 67.4314 1144.29 62.7323 Q1147.77 58.0333 1147.77 49.9314 Q1147.77 41.8701 1144.29 37.1711 Q1140.81 32.4315 1134.85 32.4315 M1134.85 26.1121 Q1144.57 26.1121 1150.12 32.4315 Q1155.67 38.7509 1155.67 49.9314 Q1155.67 61.0714 1150.12 67.4314 Q1144.57 73.7508 1134.85 73.7508 Q1125.09 73.7508 1119.54 67.4314 Q1114.03 61.0714 1114.03 49.9314 Q1114.03 38.7509 1119.54 32.4315 Q1125.09 26.1121 1134.85 26.1121 Z\" fill=\"#000000\" fill-rule=\"evenodd\" fill-opacity=\"1\" /><path clip-path=\"url(#clip090)\" d=\"M 0 0 M1175.4 14.324 L1175.4 27.2059 L1190.75 27.2059 L1190.75 32.9987 L1175.4 32.9987 L1175.4 57.6282 Q1175.4 63.1779 1176.9 64.7578 Q1178.44 66.3376 1183.1 66.3376 L1190.75 66.3376 L1190.75 72.576 L1183.1 72.576 Q1174.47 72.576 1171.19 69.3758 Q1167.91 66.1351 1167.91 57.6282 L1167.91 32.9987 L1162.44 32.9987 L1162.44 27.2059 L1167.91 27.2059 L1167.91 14.324 L1175.4 14.324 Z\" fill=\"#000000\" fill-rule=\"evenodd\" fill-opacity=\"1\" /><path clip-path=\"url(#clip090)\" d=\"M 0 0 M1207.93 14.324 L1207.93 27.2059 L1223.28 27.2059 L1223.28 32.9987 L1207.93 32.9987 L1207.93 57.6282 Q1207.93 63.1779 1209.43 64.7578 Q1210.97 66.3376 1215.63 66.3376 L1223.28 66.3376 L1223.28 72.576 L1215.63 72.576 Q1207 72.576 1203.72 69.3758 Q1200.43 66.1351 1200.43 57.6282 L1200.43 32.9987 L1194.97 32.9987 L1194.97 27.2059 L1200.43 27.2059 L1200.43 14.324 L1207.93 14.324 Z\" fill=\"#000000\" fill-rule=\"evenodd\" fill-opacity=\"1\" /><path clip-path=\"url(#clip090)\" d=\"M 0 0 M1250.67 32.4315 Q1244.67 32.4315 1241.19 37.1306 Q1237.7 41.7891 1237.7 49.9314 Q1237.7 58.0738 1241.15 62.7728 Q1244.63 67.4314 1250.67 67.4314 Q1256.62 67.4314 1260.1 62.7323 Q1263.59 58.0333 1263.59 49.9314 Q1263.59 41.8701 1260.1 37.1711 Q1256.62 32.4315 1250.67 32.4315 M1250.67 26.1121 Q1260.39 26.1121 1265.94 32.4315 Q1271.49 38.7509 1271.49 49.9314 Q1271.49 61.0714 1265.94 67.4314 Q1260.39 73.7508 1250.67 73.7508 Q1240.9 73.7508 1235.35 67.4314 Q1229.84 61.0714 1229.84 49.9314 Q1229.84 38.7509 1235.35 32.4315 Q1240.9 26.1121 1250.67 26.1121 Z\" fill=\"#000000\" fill-rule=\"evenodd\" fill-opacity=\"1\" /><path clip-path=\"url(#clip090)\" d=\"M 0 0 M1319.17 35.9153 Q1321.96 30.8922 1325.85 28.5022 Q1329.74 26.1121 1335.01 26.1121 Q1342.09 26.1121 1345.94 31.0947 Q1349.79 36.0368 1349.79 45.1919 L1349.79 72.576 L1342.3 72.576 L1342.3 45.4349 Q1342.3 38.913 1339.99 35.7533 Q1337.68 32.5936 1332.94 32.5936 Q1327.15 32.5936 1323.78 36.4419 Q1320.42 40.2903 1320.42 46.9338 L1320.42 72.576 L1312.93 72.576 L1312.93 45.4349 Q1312.93 38.8725 1310.62 35.7533 Q1308.31 32.5936 1303.49 32.5936 Q1297.78 32.5936 1294.42 36.4824 Q1291.05 40.3308 1291.05 46.9338 L1291.05 72.576 L1283.56 72.576 L1283.56 27.2059 L1291.05 27.2059 L1291.05 34.2544 Q1293.61 30.082 1297.17 28.0971 Q1300.74 26.1121 1305.64 26.1121 Q1310.58 26.1121 1314.02 28.6237 Q1317.51 31.1352 1319.17 35.9153 Z\" fill=\"#000000\" fill-rule=\"evenodd\" fill-opacity=\"1\" /><path clip-path=\"url(#clip090)\" d=\"M 0 0 M1382.97 12.096 L1434.13 12.096 L1434.13 18.9825 L1412.66 18.9825 L1412.66 72.576 L1404.44 72.576 L1404.44 18.9825 L1382.97 18.9825 L1382.97 12.096 Z\" fill=\"#000000\" fill-rule=\"evenodd\" fill-opacity=\"1\" /><path clip-path=\"url(#clip090)\" d=\"M 0 0 M1439.15 27.2059 L1446.61 27.2059 L1446.61 72.576 L1439.15 72.576 L1439.15 27.2059 M1439.15 9.54393 L1446.61 9.54393 L1446.61 18.9825 L1439.15 18.9825 L1439.15 9.54393 Z\" fill=\"#000000\" fill-rule=\"evenodd\" fill-opacity=\"1\" /><path clip-path=\"url(#clip090)\" d=\"M 0 0 M1501.01 48.0275 L1501.01 51.6733 L1466.74 51.6733 Q1467.23 59.3701 1471.36 63.421 Q1475.53 67.4314 1482.94 67.4314 Q1487.24 67.4314 1491.25 66.3781 Q1495.3 65.3249 1499.27 63.2184 L1499.27 70.267 Q1495.26 71.9684 1491.05 72.8596 Q1486.83 73.7508 1482.5 73.7508 Q1471.64 73.7508 1465.28 67.4314 Q1458.96 61.1119 1458.96 50.3365 Q1458.96 39.1965 1464.96 32.6746 Q1470.99 26.1121 1481.2 26.1121 Q1490.36 26.1121 1495.66 32.0264 Q1501.01 37.9003 1501.01 48.0275 M1493.56 45.84 Q1493.48 39.7232 1490.11 36.0774 Q1486.79 32.4315 1481.28 32.4315 Q1475.05 32.4315 1471.28 35.9558 Q1467.55 39.4801 1466.98 45.8805 L1493.56 45.84 Z\" fill=\"#000000\" fill-rule=\"evenodd\" fill-opacity=\"1\" /><path clip-path=\"url(#clip090)\" d=\"M 0 0 M1539.54 34.1734 Q1538.28 33.4443 1536.78 33.1202 Q1535.32 32.7556 1533.54 32.7556 Q1527.22 32.7556 1523.82 36.8875 Q1520.46 40.9789 1520.46 48.6757 L1520.46 72.576 L1512.96 72.576 L1512.96 27.2059 L1520.46 27.2059 L1520.46 34.2544 Q1522.81 30.1225 1526.57 28.1376 Q1530.34 26.1121 1535.73 26.1121 Q1536.5 26.1121 1537.43 26.2337 Q1538.36 26.3147 1539.5 26.5172 L1539.54 34.1734 Z\" fill=\"#000000\" fill-rule=\"evenodd\" fill-opacity=\"1\" /><path clip-path=\"url(#clip092)\" d=\"\n",
       "M668.518 1299.4 L668.518 1423.18 L1089.58 1423.18 L1089.58 1299.4 L668.518 1299.4 L668.518 1299.4  Z\n",
       "  \" fill=\"#1874cd\" fill-rule=\"evenodd\" fill-opacity=\"0.7\"/>\n",
       "<polyline clip-path=\"url(#clip092)\" style=\"stroke:#000000; stroke-width:4; stroke-opacity:0.7; fill:none\" points=\"\n",
       "  668.518,1299.4 668.518,1423.18 1089.58,1423.18 1089.58,1299.4 668.518,1299.4 \n",
       "  \"/>\n",
       "<path clip-path=\"url(#clip092)\" d=\"\n",
       "M1089.58 928.053 L1089.58 1423.18 L1510.64 1423.18 L1510.64 928.053 L1089.58 928.053 L1089.58 928.053  Z\n",
       "  \" fill=\"#1874cd\" fill-rule=\"evenodd\" fill-opacity=\"0.7\"/>\n",
       "<polyline clip-path=\"url(#clip092)\" style=\"stroke:#000000; stroke-width:4; stroke-opacity:0.7; fill:none\" points=\"\n",
       "  1089.58,928.053 1089.58,1423.18 1510.64,1423.18 1510.64,928.053 1089.58,928.053 \n",
       "  \"/>\n",
       "<path clip-path=\"url(#clip092)\" d=\"\n",
       "M1510.64 -185.982 L1510.64 1423.18 L1931.7 1423.18 L1931.7 -185.982 L1510.64 -185.982 L1510.64 -185.982  Z\n",
       "  \" fill=\"#1874cd\" fill-rule=\"evenodd\" fill-opacity=\"0.7\"/>\n",
       "<polyline clip-path=\"url(#clip092)\" style=\"stroke:#000000; stroke-width:4; stroke-opacity:0.7; fill:none\" points=\"\n",
       "  1510.64,-185.982 1510.64,1423.18 1931.7,1423.18 1931.7,-185.982 1510.64,-185.982 \n",
       "  \"/>\n",
       "<path clip-path=\"url(#clip092)\" d=\"\n",
       "M1931.7 1175.62 L1931.7 1423.18 L2352.76 1423.18 L2352.76 1175.62 L1931.7 1175.62 L1931.7 1175.62  Z\n",
       "  \" fill=\"#1874cd\" fill-rule=\"evenodd\" fill-opacity=\"0.7\"/>\n",
       "<polyline clip-path=\"url(#clip092)\" style=\"stroke:#000000; stroke-width:4; stroke-opacity:0.7; fill:none\" points=\"\n",
       "  1931.7,1175.62 1931.7,1423.18 2352.76,1423.18 2352.76,1175.62 1931.7,1175.62 \n",
       "  \"/>\n",
       "<path clip-path=\"url(#clip092)\" d=\"\n",
       "M2352.76 1299.4 L2352.76 1423.18 L2773.82 1423.18 L2773.82 1299.4 L2352.76 1299.4 L2352.76 1299.4  Z\n",
       "  \" fill=\"#1874cd\" fill-rule=\"evenodd\" fill-opacity=\"0.7\"/>\n",
       "<polyline clip-path=\"url(#clip092)\" style=\"stroke:#000000; stroke-width:4; stroke-opacity:0.7; fill:none\" points=\"\n",
       "  2352.76,1299.4 2352.76,1423.18 2773.82,1423.18 2773.82,1299.4 2352.76,1299.4 \n",
       "  \"/>\n",
       "</svg>\n"
      ]
     },
     "execution_count": 7,
     "metadata": {},
     "output_type": "execute_result"
    }
   ],
   "source": [
    "bottom_tier = Array{Curriculum,1}()\n",
    "bottom_tier_total_cc = 0\n",
    "bottom_tier_avg_cc = 0\n",
    "for (key, val) in curriculum\n",
    "    if (split(key, \"/\")[1]) == \"tier_bottom\"\n",
    "        name = split(split(key, \"/\")[2], \".\")[1]\n",
    "        println(\"$name => $(val.metrics[\"complexity\"][1])\")\n",
    "        push!(bottom_tier, val)\n",
    "        bottom_tier_total_cc += val.metrics[\"complexity\"][1]\n",
    "    end\n",
    "end\n",
    "bottom_tier_avg_cc = bottom_tier_total_cc / length(bottom_tier)\n",
    "println(\"Avg. curricular complexity = $(bottom_tier_avg_cc)\")\n",
    "metric_histogram(bottom_tier, \"complexity\", nbins=5, title=\"Bottom Tier\", xlabel=\"curricular complexity\", ylabel=\"# schools\", xlim=(0,500))"
   ]
  },
  {
   "cell_type": "code",
   "execution_count": 8,
   "metadata": {
    "scrolled": false
   },
   "outputs": [
    {
     "data": {
      "image/svg+xml": [
       "<?xml version=\"1.0\" encoding=\"utf-8\"?>\n",
       "<svg xmlns=\"http://www.w3.org/2000/svg\" xmlns:xlink=\"http://www.w3.org/1999/xlink\" width=\"600\" height=\"400\" viewBox=\"0 0 2400 1600\">\n",
       "<defs>\n",
       "  <clipPath id=\"clip130\">\n",
       "    <rect x=\"0\" y=\"0\" width=\"2400\" height=\"1600\"/>\n",
       "  </clipPath>\n",
       "</defs>\n",
       "<path clip-path=\"url(#clip130)\" d=\"\n",
       "M0 1600 L2400 1600 L2400 0 L0 0  Z\n",
       "  \" fill=\"#ffffff\" fill-rule=\"evenodd\" fill-opacity=\"1\"/>\n",
       "<defs>\n",
       "  <clipPath id=\"clip131\">\n",
       "    <rect x=\"480\" y=\"0\" width=\"1681\" height=\"1600\"/>\n",
       "  </clipPath>\n",
       "</defs>\n",
       "<path clip-path=\"url(#clip130)\" d=\"\n",
       "M202.227 1423.18 L2352.76 1423.18 L2352.76 123.472 L202.227 123.472  Z\n",
       "  \" fill=\"#ffffff\" fill-rule=\"evenodd\" fill-opacity=\"1\"/>\n",
       "<defs>\n",
       "  <clipPath id=\"clip132\">\n",
       "    <rect x=\"202\" y=\"123\" width=\"2152\" height=\"1301\"/>\n",
       "  </clipPath>\n",
       "</defs>\n",
       "<polyline clip-path=\"url(#clip132)\" style=\"stroke:#000000; stroke-width:2; stroke-opacity:0.1; fill:none\" points=\"\n",
       "  202.227,1423.18 202.227,123.472 \n",
       "  \"/>\n",
       "<polyline clip-path=\"url(#clip132)\" style=\"stroke:#000000; stroke-width:2; stroke-opacity:0.1; fill:none\" points=\"\n",
       "  560.649,1423.18 560.649,123.472 \n",
       "  \"/>\n",
       "<polyline clip-path=\"url(#clip132)\" style=\"stroke:#000000; stroke-width:2; stroke-opacity:0.1; fill:none\" points=\"\n",
       "  919.07,1423.18 919.07,123.472 \n",
       "  \"/>\n",
       "<polyline clip-path=\"url(#clip132)\" style=\"stroke:#000000; stroke-width:2; stroke-opacity:0.1; fill:none\" points=\"\n",
       "  1277.49,1423.18 1277.49,123.472 \n",
       "  \"/>\n",
       "<polyline clip-path=\"url(#clip132)\" style=\"stroke:#000000; stroke-width:2; stroke-opacity:0.1; fill:none\" points=\"\n",
       "  1635.91,1423.18 1635.91,123.472 \n",
       "  \"/>\n",
       "<polyline clip-path=\"url(#clip132)\" style=\"stroke:#000000; stroke-width:2; stroke-opacity:0.1; fill:none\" points=\"\n",
       "  1994.33,1423.18 1994.33,123.472 \n",
       "  \"/>\n",
       "<polyline clip-path=\"url(#clip132)\" style=\"stroke:#000000; stroke-width:2; stroke-opacity:0.1; fill:none\" points=\"\n",
       "  2352.76,1423.18 2352.76,123.472 \n",
       "  \"/>\n",
       "<polyline clip-path=\"url(#clip130)\" style=\"stroke:#000000; stroke-width:4; stroke-opacity:1; fill:none\" points=\"\n",
       "  202.227,1423.18 2352.76,1423.18 \n",
       "  \"/>\n",
       "<polyline clip-path=\"url(#clip130)\" style=\"stroke:#000000; stroke-width:4; stroke-opacity:1; fill:none\" points=\"\n",
       "  202.227,1423.18 202.227,1407.58 \n",
       "  \"/>\n",
       "<polyline clip-path=\"url(#clip130)\" style=\"stroke:#000000; stroke-width:4; stroke-opacity:1; fill:none\" points=\"\n",
       "  560.649,1423.18 560.649,1407.58 \n",
       "  \"/>\n",
       "<polyline clip-path=\"url(#clip130)\" style=\"stroke:#000000; stroke-width:4; stroke-opacity:1; fill:none\" points=\"\n",
       "  919.07,1423.18 919.07,1407.58 \n",
       "  \"/>\n",
       "<polyline clip-path=\"url(#clip130)\" style=\"stroke:#000000; stroke-width:4; stroke-opacity:1; fill:none\" points=\"\n",
       "  1277.49,1423.18 1277.49,1407.58 \n",
       "  \"/>\n",
       "<polyline clip-path=\"url(#clip130)\" style=\"stroke:#000000; stroke-width:4; stroke-opacity:1; fill:none\" points=\"\n",
       "  1635.91,1423.18 1635.91,1407.58 \n",
       "  \"/>\n",
       "<polyline clip-path=\"url(#clip130)\" style=\"stroke:#000000; stroke-width:4; stroke-opacity:1; fill:none\" points=\"\n",
       "  1994.33,1423.18 1994.33,1407.58 \n",
       "  \"/>\n",
       "<polyline clip-path=\"url(#clip130)\" style=\"stroke:#000000; stroke-width:4; stroke-opacity:1; fill:none\" points=\"\n",
       "  2352.76,1423.18 2352.76,1407.58 \n",
       "  \"/>\n",
       "<path clip-path=\"url(#clip130)\" d=\"M 0 0 M202.227 1452.37 Q198.616 1452.37 196.788 1455.94 Q194.982 1459.48 194.982 1466.61 Q194.982 1473.71 196.788 1477.28 Q198.616 1480.82 202.227 1480.82 Q205.862 1480.82 207.667 1477.28 Q209.496 1473.71 209.496 1466.61 Q209.496 1459.48 207.667 1455.94 Q205.862 1452.37 202.227 1452.37 M202.227 1448.67 Q208.038 1448.67 211.093 1453.27 Q214.172 1457.86 214.172 1466.61 Q214.172 1475.33 211.093 1479.94 Q208.038 1484.52 202.227 1484.52 Q196.417 1484.52 193.339 1479.94 Q190.283 1475.33 190.283 1466.61 Q190.283 1457.86 193.339 1453.27 Q196.417 1448.67 202.227 1448.67 Z\" fill=\"#000000\" fill-rule=\"evenodd\" fill-opacity=\"1\" /><path clip-path=\"url(#clip130)\" d=\"M 0 0 M520.256 1479.92 L527.894 1479.92 L527.894 1453.55 L519.584 1455.22 L519.584 1450.96 L527.848 1449.29 L532.524 1449.29 L532.524 1479.92 L540.163 1479.92 L540.163 1483.85 L520.256 1483.85 L520.256 1479.92 Z\" fill=\"#000000\" fill-rule=\"evenodd\" fill-opacity=\"1\" /><path clip-path=\"url(#clip130)\" d=\"M 0 0 M559.607 1452.37 Q555.996 1452.37 554.167 1455.94 Q552.362 1459.48 552.362 1466.61 Q552.362 1473.71 554.167 1477.28 Q555.996 1480.82 559.607 1480.82 Q563.241 1480.82 565.047 1477.28 Q566.876 1473.71 566.876 1466.61 Q566.876 1459.48 565.047 1455.94 Q563.241 1452.37 559.607 1452.37 M559.607 1448.67 Q565.417 1448.67 568.473 1453.27 Q571.552 1457.86 571.552 1466.61 Q571.552 1475.33 568.473 1479.94 Q565.417 1484.52 559.607 1484.52 Q553.797 1484.52 550.718 1479.94 Q547.663 1475.33 547.663 1466.61 Q547.663 1457.86 550.718 1453.27 Q553.797 1448.67 559.607 1448.67 Z\" fill=\"#000000\" fill-rule=\"evenodd\" fill-opacity=\"1\" /><path clip-path=\"url(#clip130)\" d=\"M 0 0 M589.769 1452.37 Q586.158 1452.37 584.329 1455.94 Q582.524 1459.48 582.524 1466.61 Q582.524 1473.71 584.329 1477.28 Q586.158 1480.82 589.769 1480.82 Q593.403 1480.82 595.209 1477.28 Q597.038 1473.71 597.038 1466.61 Q597.038 1459.48 595.209 1455.94 Q593.403 1452.37 589.769 1452.37 M589.769 1448.67 Q595.579 1448.67 598.635 1453.27 Q601.713 1457.86 601.713 1466.61 Q601.713 1475.33 598.635 1479.94 Q595.579 1484.52 589.769 1484.52 Q583.959 1484.52 580.88 1479.94 Q577.825 1475.33 577.825 1466.61 Q577.825 1457.86 580.88 1453.27 Q583.959 1448.67 589.769 1448.67 Z\" fill=\"#000000\" fill-rule=\"evenodd\" fill-opacity=\"1\" /><path clip-path=\"url(#clip130)\" d=\"M 0 0 M882.763 1479.92 L899.082 1479.92 L899.082 1483.85 L877.138 1483.85 L877.138 1479.92 Q879.8 1477.16 884.383 1472.53 Q888.989 1467.88 890.17 1466.54 Q892.415 1464.01 893.295 1462.28 Q894.198 1460.52 894.198 1458.83 Q894.198 1456.07 892.253 1454.34 Q890.332 1452.6 887.23 1452.6 Q885.031 1452.6 882.577 1453.37 Q880.147 1454.13 877.369 1455.68 L877.369 1450.96 Q880.193 1449.82 882.647 1449.25 Q885.101 1448.67 887.138 1448.67 Q892.508 1448.67 895.702 1451.35 Q898.897 1454.04 898.897 1458.53 Q898.897 1460.66 898.087 1462.58 Q897.3 1464.48 895.193 1467.07 Q894.614 1467.74 891.513 1470.96 Q888.411 1474.15 882.763 1479.92 Z\" fill=\"#000000\" fill-rule=\"evenodd\" fill-opacity=\"1\" /><path clip-path=\"url(#clip130)\" d=\"M 0 0 M918.897 1452.37 Q915.286 1452.37 913.457 1455.94 Q911.651 1459.48 911.651 1466.61 Q911.651 1473.71 913.457 1477.28 Q915.286 1480.82 918.897 1480.82 Q922.531 1480.82 924.336 1477.28 Q926.165 1473.71 926.165 1466.61 Q926.165 1459.48 924.336 1455.94 Q922.531 1452.37 918.897 1452.37 M918.897 1448.67 Q924.707 1448.67 927.762 1453.27 Q930.841 1457.86 930.841 1466.61 Q930.841 1475.33 927.762 1479.94 Q924.707 1484.52 918.897 1484.52 Q913.087 1484.52 910.008 1479.94 Q906.952 1475.33 906.952 1466.61 Q906.952 1457.86 910.008 1453.27 Q913.087 1448.67 918.897 1448.67 Z\" fill=\"#000000\" fill-rule=\"evenodd\" fill-opacity=\"1\" /><path clip-path=\"url(#clip130)\" d=\"M 0 0 M949.059 1452.37 Q945.447 1452.37 943.619 1455.94 Q941.813 1459.48 941.813 1466.61 Q941.813 1473.71 943.619 1477.28 Q945.447 1480.82 949.059 1480.82 Q952.693 1480.82 954.498 1477.28 Q956.327 1473.71 956.327 1466.61 Q956.327 1459.48 954.498 1455.94 Q952.693 1452.37 949.059 1452.37 M949.059 1448.67 Q954.869 1448.67 957.924 1453.27 Q961.003 1457.86 961.003 1466.61 Q961.003 1475.33 957.924 1479.94 Q954.869 1484.52 949.059 1484.52 Q943.248 1484.52 940.17 1479.94 Q937.114 1475.33 937.114 1466.61 Q937.114 1457.86 940.17 1453.27 Q943.248 1448.67 949.059 1448.67 Z\" fill=\"#000000\" fill-rule=\"evenodd\" fill-opacity=\"1\" /><path clip-path=\"url(#clip130)\" d=\"M 0 0 M1251.25 1465.22 Q1254.61 1465.94 1256.48 1468.2 Q1258.38 1470.47 1258.38 1473.81 Q1258.38 1478.92 1254.86 1481.72 Q1251.35 1484.52 1244.86 1484.52 Q1242.69 1484.52 1240.37 1484.08 Q1238.08 1483.67 1235.63 1482.81 L1235.63 1478.3 Q1237.57 1479.43 1239.89 1480.01 Q1242.2 1480.59 1244.73 1480.59 Q1249.12 1480.59 1251.42 1478.85 Q1253.73 1477.12 1253.73 1473.81 Q1253.73 1470.75 1251.58 1469.04 Q1249.45 1467.3 1245.63 1467.3 L1241.6 1467.3 L1241.6 1463.46 L1245.81 1463.46 Q1249.26 1463.46 1251.09 1462.09 Q1252.92 1460.7 1252.92 1458.11 Q1252.92 1455.45 1251.02 1454.04 Q1249.15 1452.6 1245.63 1452.6 Q1243.71 1452.6 1241.51 1453.02 Q1239.31 1453.44 1236.67 1454.31 L1236.67 1450.15 Q1239.33 1449.41 1241.65 1449.04 Q1243.98 1448.67 1246.05 1448.67 Q1251.37 1448.67 1254.47 1451.1 Q1257.57 1453.5 1257.57 1457.63 Q1257.57 1460.5 1255.93 1462.49 Q1254.29 1464.45 1251.25 1465.22 Z\" fill=\"#000000\" fill-rule=\"evenodd\" fill-opacity=\"1\" /><path clip-path=\"url(#clip130)\" d=\"M 0 0 M1277.25 1452.37 Q1273.64 1452.37 1271.81 1455.94 Q1270 1459.48 1270 1466.61 Q1270 1473.71 1271.81 1477.28 Q1273.64 1480.82 1277.25 1480.82 Q1280.88 1480.82 1282.69 1477.28 Q1284.52 1473.71 1284.52 1466.61 Q1284.52 1459.48 1282.69 1455.94 Q1280.88 1452.37 1277.25 1452.37 M1277.25 1448.67 Q1283.06 1448.67 1286.11 1453.27 Q1289.19 1457.86 1289.19 1466.61 Q1289.19 1475.33 1286.11 1479.94 Q1283.06 1484.52 1277.25 1484.52 Q1271.44 1484.52 1268.36 1479.94 Q1265.3 1475.33 1265.3 1466.61 Q1265.3 1457.86 1268.36 1453.27 Q1271.44 1448.67 1277.25 1448.67 Z\" fill=\"#000000\" fill-rule=\"evenodd\" fill-opacity=\"1\" /><path clip-path=\"url(#clip130)\" d=\"M 0 0 M1307.41 1452.37 Q1303.8 1452.37 1301.97 1455.94 Q1300.17 1459.48 1300.17 1466.61 Q1300.17 1473.71 1301.97 1477.28 Q1303.8 1480.82 1307.41 1480.82 Q1311.04 1480.82 1312.85 1477.28 Q1314.68 1473.71 1314.68 1466.61 Q1314.68 1459.48 1312.85 1455.94 Q1311.04 1452.37 1307.41 1452.37 M1307.41 1448.67 Q1313.22 1448.67 1316.28 1453.27 Q1319.35 1457.86 1319.35 1466.61 Q1319.35 1475.33 1316.28 1479.94 Q1313.22 1484.52 1307.41 1484.52 Q1301.6 1484.52 1298.52 1479.94 Q1295.47 1475.33 1295.47 1466.61 Q1295.47 1457.86 1298.52 1453.27 Q1301.6 1448.67 1307.41 1448.67 Z\" fill=\"#000000\" fill-rule=\"evenodd\" fill-opacity=\"1\" /><path clip-path=\"url(#clip130)\" d=\"M 0 0 M1609 1453.37 L1597.2 1471.81 L1609 1471.81 L1609 1453.37 M1607.78 1449.29 L1613.66 1449.29 L1613.66 1471.81 L1618.59 1471.81 L1618.59 1475.7 L1613.66 1475.7 L1613.66 1483.85 L1609 1483.85 L1609 1475.7 L1593.4 1475.7 L1593.4 1471.19 L1607.78 1449.29 Z\" fill=\"#000000\" fill-rule=\"evenodd\" fill-opacity=\"1\" /><path clip-path=\"url(#clip130)\" d=\"M 0 0 M1636.32 1452.37 Q1632.71 1452.37 1630.88 1455.94 Q1629.07 1459.48 1629.07 1466.61 Q1629.07 1473.71 1630.88 1477.28 Q1632.71 1480.82 1636.32 1480.82 Q1639.95 1480.82 1641.76 1477.28 Q1643.59 1473.71 1643.59 1466.61 Q1643.59 1459.48 1641.76 1455.94 Q1639.95 1452.37 1636.32 1452.37 M1636.32 1448.67 Q1642.13 1448.67 1645.18 1453.27 Q1648.26 1457.86 1648.26 1466.61 Q1648.26 1475.33 1645.18 1479.94 Q1642.13 1484.52 1636.32 1484.52 Q1630.51 1484.52 1627.43 1479.94 Q1624.37 1475.33 1624.37 1466.61 Q1624.37 1457.86 1627.43 1453.27 Q1630.51 1448.67 1636.32 1448.67 Z\" fill=\"#000000\" fill-rule=\"evenodd\" fill-opacity=\"1\" /><path clip-path=\"url(#clip130)\" d=\"M 0 0 M1666.48 1452.37 Q1662.87 1452.37 1661.04 1455.94 Q1659.23 1459.48 1659.23 1466.61 Q1659.23 1473.71 1661.04 1477.28 Q1662.87 1480.82 1666.48 1480.82 Q1670.11 1480.82 1671.92 1477.28 Q1673.75 1473.71 1673.75 1466.61 Q1673.75 1459.48 1671.92 1455.94 Q1670.11 1452.37 1666.48 1452.37 M1666.48 1448.67 Q1672.29 1448.67 1675.35 1453.27 Q1678.42 1457.86 1678.42 1466.61 Q1678.42 1475.33 1675.35 1479.94 Q1672.29 1484.52 1666.48 1484.52 Q1660.67 1484.52 1657.59 1479.94 Q1654.54 1475.33 1654.54 1466.61 Q1654.54 1457.86 1657.59 1453.27 Q1660.67 1448.67 1666.48 1448.67 Z\" fill=\"#000000\" fill-rule=\"evenodd\" fill-opacity=\"1\" /><path clip-path=\"url(#clip130)\" d=\"M 0 0 M1953.95 1449.29 L1972.31 1449.29 L1972.31 1453.23 L1958.24 1453.23 L1958.24 1461.7 Q1959.25 1461.35 1960.27 1461.19 Q1961.29 1461 1962.31 1461 Q1968.1 1461 1971.48 1464.18 Q1974.86 1467.35 1974.86 1472.76 Q1974.86 1478.34 1971.38 1481.44 Q1967.91 1484.52 1961.59 1484.52 Q1959.42 1484.52 1957.15 1484.15 Q1954.9 1483.78 1952.49 1483.04 L1952.49 1478.34 Q1954.58 1479.48 1956.8 1480.03 Q1959.02 1480.59 1961.5 1480.59 Q1965.5 1480.59 1967.84 1478.48 Q1970.18 1476.38 1970.18 1472.76 Q1970.18 1469.15 1967.84 1467.05 Q1965.5 1464.94 1961.5 1464.94 Q1959.62 1464.94 1957.75 1465.36 Q1955.9 1465.77 1953.95 1466.65 L1953.95 1449.29 Z\" fill=\"#000000\" fill-rule=\"evenodd\" fill-opacity=\"1\" /><path clip-path=\"url(#clip130)\" d=\"M 0 0 M1994.07 1452.37 Q1990.46 1452.37 1988.63 1455.94 Q1986.82 1459.48 1986.82 1466.61 Q1986.82 1473.71 1988.63 1477.28 Q1990.46 1480.82 1994.07 1480.82 Q1997.7 1480.82 1999.51 1477.28 Q2001.34 1473.71 2001.34 1466.61 Q2001.34 1459.48 1999.51 1455.94 Q1997.7 1452.37 1994.07 1452.37 M1994.07 1448.67 Q1999.88 1448.67 2002.93 1453.27 Q2006.01 1457.86 2006.01 1466.61 Q2006.01 1475.33 2002.93 1479.94 Q1999.88 1484.52 1994.07 1484.52 Q1988.26 1484.52 1985.18 1479.94 Q1982.12 1475.33 1982.12 1466.61 Q1982.12 1457.86 1985.18 1453.27 Q1988.26 1448.67 1994.07 1448.67 Z\" fill=\"#000000\" fill-rule=\"evenodd\" fill-opacity=\"1\" /><path clip-path=\"url(#clip130)\" d=\"M 0 0 M2024.23 1452.37 Q2020.62 1452.37 2018.79 1455.94 Q2016.98 1459.48 2016.98 1466.61 Q2016.98 1473.71 2018.79 1477.28 Q2020.62 1480.82 2024.23 1480.82 Q2027.86 1480.82 2029.67 1477.28 Q2031.5 1473.71 2031.5 1466.61 Q2031.5 1459.48 2029.67 1455.94 Q2027.86 1452.37 2024.23 1452.37 M2024.23 1448.67 Q2030.04 1448.67 2033.1 1453.27 Q2036.17 1457.86 2036.17 1466.61 Q2036.17 1475.33 2033.1 1479.94 Q2030.04 1484.52 2024.23 1484.52 Q2018.42 1484.52 2015.34 1479.94 Q2012.29 1475.33 2012.29 1466.61 Q2012.29 1457.86 2015.34 1453.27 Q2018.42 1448.67 2024.23 1448.67 Z\" fill=\"#000000\" fill-rule=\"evenodd\" fill-opacity=\"1\" /><path clip-path=\"url(#clip130)\" d=\"M 0 0 M2323.08 1464.71 Q2319.93 1464.71 2318.08 1466.86 Q2316.25 1469.01 2316.25 1472.76 Q2316.25 1476.49 2318.08 1478.67 Q2319.93 1480.82 2323.08 1480.82 Q2326.23 1480.82 2328.06 1478.67 Q2329.91 1476.49 2329.91 1472.76 Q2329.91 1469.01 2328.06 1466.86 Q2326.23 1464.71 2323.08 1464.71 M2332.36 1450.06 L2332.36 1454.31 Q2330.6 1453.48 2328.8 1453.04 Q2327.02 1452.6 2325.26 1452.6 Q2320.63 1452.6 2318.17 1455.73 Q2315.74 1458.85 2315.39 1465.17 Q2316.76 1463.16 2318.82 1462.09 Q2320.88 1461 2323.36 1461 Q2328.57 1461 2331.58 1464.18 Q2334.61 1467.32 2334.61 1472.76 Q2334.61 1478.09 2331.46 1481.31 Q2328.31 1484.52 2323.08 1484.52 Q2317.08 1484.52 2313.91 1479.94 Q2310.74 1475.33 2310.74 1466.61 Q2310.74 1458.41 2314.63 1453.55 Q2318.52 1448.67 2325.07 1448.67 Q2326.83 1448.67 2328.61 1449.01 Q2330.42 1449.36 2332.36 1450.06 Z\" fill=\"#000000\" fill-rule=\"evenodd\" fill-opacity=\"1\" /><path clip-path=\"url(#clip130)\" d=\"M 0 0 M2352.66 1452.37 Q2349.05 1452.37 2347.22 1455.94 Q2345.42 1459.48 2345.42 1466.61 Q2345.42 1473.71 2347.22 1477.28 Q2349.05 1480.82 2352.66 1480.82 Q2356.3 1480.82 2358.1 1477.28 Q2359.93 1473.71 2359.93 1466.61 Q2359.93 1459.48 2358.1 1455.94 Q2356.3 1452.37 2352.66 1452.37 M2352.66 1448.67 Q2358.47 1448.67 2361.53 1453.27 Q2364.61 1457.86 2364.61 1466.61 Q2364.61 1475.33 2361.53 1479.94 Q2358.47 1484.52 2352.66 1484.52 Q2346.85 1484.52 2343.77 1479.94 Q2340.72 1475.33 2340.72 1466.61 Q2340.72 1457.86 2343.77 1453.27 Q2346.85 1448.67 2352.66 1448.67 Z\" fill=\"#000000\" fill-rule=\"evenodd\" fill-opacity=\"1\" /><path clip-path=\"url(#clip130)\" d=\"M 0 0 M2382.83 1452.37 Q2379.21 1452.37 2377.39 1455.94 Q2375.58 1459.48 2375.58 1466.61 Q2375.58 1473.71 2377.39 1477.28 Q2379.21 1480.82 2382.83 1480.82 Q2386.46 1480.82 2388.26 1477.28 Q2390.09 1473.71 2390.09 1466.61 Q2390.09 1459.48 2388.26 1455.94 Q2386.46 1452.37 2382.83 1452.37 M2382.83 1448.67 Q2388.64 1448.67 2391.69 1453.27 Q2394.77 1457.86 2394.77 1466.61 Q2394.77 1475.33 2391.69 1479.94 Q2388.64 1484.52 2382.83 1484.52 Q2377.02 1484.52 2373.94 1479.94 Q2370.88 1475.33 2370.88 1466.61 Q2370.88 1457.86 2373.94 1453.27 Q2377.02 1448.67 2382.83 1448.67 Z\" fill=\"#000000\" fill-rule=\"evenodd\" fill-opacity=\"1\" /><path clip-path=\"url(#clip130)\" d=\"M 0 0 M958.363 1533.45 L958.363 1538.98 Q955.88 1537.71 953.207 1537.07 Q950.533 1536.44 947.669 1536.44 Q943.308 1536.44 941.112 1537.77 Q938.947 1539.11 938.947 1541.79 Q938.947 1543.82 940.507 1545 Q942.067 1546.15 946.777 1547.2 L948.783 1547.64 Q955.021 1548.98 957.631 1551.43 Q960.273 1553.85 960.273 1558.21 Q960.273 1563.17 956.326 1566.07 Q952.411 1568.97 945.536 1568.97 Q942.671 1568.97 939.552 1568.39 Q936.465 1567.85 933.027 1566.74 L933.027 1560.69 Q936.274 1562.38 939.425 1563.24 Q942.576 1564.07 945.663 1564.07 Q949.801 1564.07 952.029 1562.66 Q954.257 1561.23 954.257 1558.65 Q954.257 1556.27 952.634 1554.99 Q951.042 1553.72 945.6 1552.54 L943.563 1552.07 Q938.12 1550.92 935.701 1548.56 Q933.282 1546.18 933.282 1542.04 Q933.282 1537.01 936.847 1534.27 Q940.412 1531.54 946.968 1531.54 Q950.215 1531.54 953.079 1532.01 Q955.944 1532.49 958.363 1533.45 Z\" fill=\"#000000\" fill-rule=\"evenodd\" fill-opacity=\"1\" /><path clip-path=\"url(#clip130)\" d=\"M 0 0 M975.391 1522.27 L975.391 1532.4 L987.454 1532.4 L987.454 1536.95 L975.391 1536.95 L975.391 1556.3 Q975.391 1560.66 976.569 1561.9 Q977.778 1563.14 981.439 1563.14 L987.454 1563.14 L987.454 1568.04 L981.439 1568.04 Q974.659 1568.04 972.081 1565.53 Q969.503 1562.98 969.503 1556.3 L969.503 1536.95 L965.206 1536.95 L965.206 1532.4 L969.503 1532.4 L969.503 1522.27 L975.391 1522.27 Z\" fill=\"#000000\" fill-rule=\"evenodd\" fill-opacity=\"1\" /><path clip-path=\"url(#clip130)\" d=\"M 0 0 M1015.81 1537.87 Q1014.83 1537.3 1013.65 1537.04 Q1012.5 1536.76 1011.1 1536.76 Q1006.14 1536.76 1003.46 1540 Q1000.82 1543.22 1000.82 1549.27 L1000.82 1568.04 L994.934 1568.04 L994.934 1532.4 L1000.82 1532.4 L1000.82 1537.93 Q1002.67 1534.69 1005.63 1533.13 Q1008.59 1531.54 1012.82 1531.54 Q1013.43 1531.54 1014.16 1531.63 Q1014.89 1531.7 1015.78 1531.85 L1015.81 1537.87 Z\" fill=\"#000000\" fill-rule=\"evenodd\" fill-opacity=\"1\" /><path clip-path=\"url(#clip130)\" d=\"M 0 0 M1021.35 1553.98 L1021.35 1532.4 L1027.21 1532.4 L1027.21 1553.75 Q1027.21 1558.81 1029.18 1561.36 Q1031.15 1563.87 1035.1 1563.87 Q1039.84 1563.87 1042.58 1560.85 Q1045.35 1557.83 1045.35 1552.61 L1045.35 1532.4 L1051.21 1532.4 L1051.21 1568.04 L1045.35 1568.04 L1045.35 1562.57 Q1043.22 1565.82 1040.39 1567.41 Q1037.58 1568.97 1033.86 1568.97 Q1027.72 1568.97 1024.53 1565.15 Q1021.35 1561.33 1021.35 1553.98 M1036.09 1531.54 L1036.09 1531.54 Z\" fill=\"#000000\" fill-rule=\"evenodd\" fill-opacity=\"1\" /><path clip-path=\"url(#clip130)\" d=\"M 0 0 M1088.92 1533.76 L1088.92 1539.24 Q1086.44 1537.87 1083.93 1537.2 Q1081.44 1536.5 1078.9 1536.5 Q1073.2 1536.5 1070.05 1540.13 Q1066.9 1543.73 1066.9 1550.25 Q1066.9 1556.78 1070.05 1560.4 Q1073.2 1564 1078.9 1564 Q1081.44 1564 1083.93 1563.33 Q1086.44 1562.63 1088.92 1561.26 L1088.92 1566.68 Q1086.47 1567.82 1083.83 1568.39 Q1081.22 1568.97 1078.26 1568.97 Q1070.21 1568.97 1065.47 1563.91 Q1060.72 1558.85 1060.72 1550.25 Q1060.72 1541.53 1065.5 1536.53 Q1070.3 1531.54 1078.64 1531.54 Q1081.35 1531.54 1083.93 1532.11 Q1086.5 1532.65 1088.92 1533.76 Z\" fill=\"#000000\" fill-rule=\"evenodd\" fill-opacity=\"1\" /><path clip-path=\"url(#clip130)\" d=\"M 0 0 M1104.9 1522.27 L1104.9 1532.4 L1116.96 1532.4 L1116.96 1536.95 L1104.9 1536.95 L1104.9 1556.3 Q1104.9 1560.66 1106.08 1561.9 Q1107.29 1563.14 1110.95 1563.14 L1116.96 1563.14 L1116.96 1568.04 L1110.95 1568.04 Q1104.17 1568.04 1101.59 1565.53 Q1099.01 1562.98 1099.01 1556.3 L1099.01 1536.95 L1094.72 1536.95 L1094.72 1532.4 L1099.01 1532.4 L1099.01 1522.27 L1104.9 1522.27 Z\" fill=\"#000000\" fill-rule=\"evenodd\" fill-opacity=\"1\" /><path clip-path=\"url(#clip130)\" d=\"M 0 0 M1124.06 1553.98 L1124.06 1532.4 L1129.92 1532.4 L1129.92 1553.75 Q1129.92 1558.81 1131.89 1561.36 Q1133.87 1563.87 1137.81 1563.87 Q1142.55 1563.87 1145.29 1560.85 Q1148.06 1557.83 1148.06 1552.61 L1148.06 1532.4 L1153.92 1532.4 L1153.92 1568.04 L1148.06 1568.04 L1148.06 1562.57 Q1145.93 1565.82 1143.1 1567.41 Q1140.29 1568.97 1136.57 1568.97 Q1130.43 1568.97 1127.25 1565.15 Q1124.06 1561.33 1124.06 1553.98 M1138.8 1531.54 L1138.8 1531.54 Z\" fill=\"#000000\" fill-rule=\"evenodd\" fill-opacity=\"1\" /><path clip-path=\"url(#clip130)\" d=\"M 0 0 M1186.64 1537.87 Q1185.65 1537.3 1184.47 1537.04 Q1183.33 1536.76 1181.93 1536.76 Q1176.96 1536.76 1174.29 1540 Q1171.65 1543.22 1171.65 1549.27 L1171.65 1568.04 L1165.76 1568.04 L1165.76 1532.4 L1171.65 1532.4 L1171.65 1537.93 Q1173.49 1534.69 1176.45 1533.13 Q1179.41 1531.54 1183.65 1531.54 Q1184.25 1531.54 1184.98 1531.63 Q1185.71 1531.7 1186.61 1531.85 L1186.64 1537.87 Z\" fill=\"#000000\" fill-rule=\"evenodd\" fill-opacity=\"1\" /><path clip-path=\"url(#clip130)\" d=\"M 0 0 M1208.98 1550.12 Q1201.88 1550.12 1199.15 1551.75 Q1196.41 1553.37 1196.41 1557.29 Q1196.41 1560.4 1198.45 1562.25 Q1200.51 1564.07 1204.05 1564.07 Q1208.92 1564.07 1211.85 1560.63 Q1214.81 1557.16 1214.81 1551.43 L1214.81 1550.12 L1208.98 1550.12 M1220.66 1547.71 L1220.66 1568.04 L1214.81 1568.04 L1214.81 1562.63 Q1212.8 1565.88 1209.81 1567.44 Q1206.82 1568.97 1202.49 1568.97 Q1197.01 1568.97 1193.77 1565.91 Q1190.55 1562.82 1190.55 1557.67 Q1190.55 1551.65 1194.56 1548.6 Q1198.6 1545.54 1206.59 1545.54 L1214.81 1545.54 L1214.81 1544.97 Q1214.81 1540.93 1212.13 1538.73 Q1209.49 1536.5 1204.68 1536.5 Q1201.63 1536.5 1198.73 1537.23 Q1195.84 1537.97 1193.16 1539.43 L1193.16 1534.02 Q1196.38 1532.78 1199.4 1532.17 Q1202.42 1531.54 1205.29 1531.54 Q1213.02 1531.54 1216.84 1535.55 Q1220.66 1539.56 1220.66 1547.71 Z\" fill=\"#000000\" fill-rule=\"evenodd\" fill-opacity=\"1\" /><path clip-path=\"url(#clip130)\" d=\"M 0 0 M1232.72 1518.52 L1238.58 1518.52 L1238.58 1568.04 L1232.72 1568.04 L1232.72 1518.52 Z\" fill=\"#000000\" fill-rule=\"evenodd\" fill-opacity=\"1\" /><path clip-path=\"url(#clip130)\" d=\"M 0 0 M1297.21 1533.76 L1297.21 1539.24 Q1294.73 1537.87 1292.21 1537.2 Q1289.73 1536.5 1287.18 1536.5 Q1281.49 1536.5 1278.34 1540.13 Q1275.18 1543.73 1275.18 1550.25 Q1275.18 1556.78 1278.34 1560.4 Q1281.49 1564 1287.18 1564 Q1289.73 1564 1292.21 1563.33 Q1294.73 1562.63 1297.21 1561.26 L1297.21 1566.68 Q1294.76 1567.82 1292.12 1568.39 Q1289.51 1568.97 1286.55 1568.97 Q1278.49 1568.97 1273.75 1563.91 Q1269.01 1558.85 1269.01 1550.25 Q1269.01 1541.53 1273.78 1536.53 Q1278.59 1531.54 1286.93 1531.54 Q1289.63 1531.54 1292.21 1532.11 Q1294.79 1532.65 1297.21 1533.76 Z\" fill=\"#000000\" fill-rule=\"evenodd\" fill-opacity=\"1\" /><path clip-path=\"url(#clip130)\" d=\"M 0 0 M1321.21 1536.5 Q1316.5 1536.5 1313.76 1540.19 Q1311.02 1543.85 1311.02 1550.25 Q1311.02 1556.65 1313.73 1560.34 Q1316.47 1564 1321.21 1564 Q1325.89 1564 1328.62 1560.31 Q1331.36 1556.62 1331.36 1550.25 Q1331.36 1543.92 1328.62 1540.23 Q1325.89 1536.5 1321.21 1536.5 M1321.21 1531.54 Q1328.85 1531.54 1333.21 1536.5 Q1337.57 1541.47 1337.57 1550.25 Q1337.57 1559 1333.21 1564 Q1328.85 1568.97 1321.21 1568.97 Q1313.54 1568.97 1309.18 1564 Q1304.85 1559 1304.85 1550.25 Q1304.85 1541.47 1309.18 1536.5 Q1313.54 1531.54 1321.21 1531.54 Z\" fill=\"#000000\" fill-rule=\"evenodd\" fill-opacity=\"1\" /><path clip-path=\"url(#clip130)\" d=\"M 0 0 M1375.03 1539.24 Q1377.23 1535.29 1380.28 1533.41 Q1383.34 1531.54 1387.48 1531.54 Q1393.05 1531.54 1396.07 1535.45 Q1399.09 1539.33 1399.09 1546.53 L1399.09 1568.04 L1393.2 1568.04 L1393.2 1546.72 Q1393.2 1541.59 1391.39 1539.11 Q1389.58 1536.63 1385.85 1536.63 Q1381.3 1536.63 1378.66 1539.65 Q1376.02 1542.68 1376.02 1547.9 L1376.02 1568.04 L1370.13 1568.04 L1370.13 1546.72 Q1370.13 1541.56 1368.31 1539.11 Q1366.5 1536.63 1362.71 1536.63 Q1358.22 1536.63 1355.58 1539.68 Q1352.94 1542.71 1352.94 1547.9 L1352.94 1568.04 L1347.05 1568.04 L1347.05 1532.4 L1352.94 1532.4 L1352.94 1537.93 Q1354.95 1534.66 1357.75 1533.1 Q1360.55 1531.54 1364.4 1531.54 Q1368.28 1531.54 1370.99 1533.51 Q1373.73 1535.48 1375.03 1539.24 Z\" fill=\"#000000\" fill-rule=\"evenodd\" fill-opacity=\"1\" /><path clip-path=\"url(#clip130)\" d=\"M 0 0 M1416.44 1562.7 L1416.44 1581.6 L1410.55 1581.6 L1410.55 1532.4 L1416.44 1532.4 L1416.44 1537.81 Q1418.29 1534.62 1421.09 1533.1 Q1423.92 1531.54 1427.83 1531.54 Q1434.33 1531.54 1438.37 1536.69 Q1442.44 1541.85 1442.44 1550.25 Q1442.44 1558.65 1438.37 1563.81 Q1434.33 1568.97 1427.83 1568.97 Q1423.92 1568.97 1421.09 1567.44 Q1418.29 1565.88 1416.44 1562.7 M1436.36 1550.25 Q1436.36 1543.79 1433.69 1540.13 Q1431.05 1536.44 1426.4 1536.44 Q1421.75 1536.44 1419.08 1540.13 Q1416.44 1543.79 1416.44 1550.25 Q1416.44 1556.71 1419.08 1560.4 Q1421.75 1564.07 1426.4 1564.07 Q1431.05 1564.07 1433.69 1560.4 Q1436.36 1556.71 1436.36 1550.25 Z\" fill=\"#000000\" fill-rule=\"evenodd\" fill-opacity=\"1\" /><path clip-path=\"url(#clip130)\" d=\"M 0 0 M1452.15 1518.52 L1458.01 1518.52 L1458.01 1568.04 L1452.15 1568.04 L1452.15 1518.52 Z\" fill=\"#000000\" fill-rule=\"evenodd\" fill-opacity=\"1\" /><path clip-path=\"url(#clip130)\" d=\"M 0 0 M1500.75 1548.76 L1500.75 1551.62 L1473.83 1551.62 Q1474.21 1557.67 1477.45 1560.85 Q1480.73 1564 1486.56 1564 Q1489.93 1564 1493.08 1563.17 Q1496.27 1562.35 1499.38 1560.69 L1499.38 1566.23 Q1496.23 1567.57 1492.92 1568.27 Q1489.61 1568.97 1486.21 1568.97 Q1477.68 1568.97 1472.68 1564 Q1467.71 1559.04 1467.71 1550.57 Q1467.71 1541.82 1472.43 1536.69 Q1477.17 1531.54 1485.19 1531.54 Q1492.38 1531.54 1496.55 1536.18 Q1500.75 1540.8 1500.75 1548.76 M1494.9 1547.04 Q1494.83 1542.23 1492.19 1539.37 Q1489.58 1536.5 1485.25 1536.5 Q1480.35 1536.5 1477.39 1539.27 Q1474.46 1542.04 1474.02 1547.07 L1494.9 1547.04 Z\" fill=\"#000000\" fill-rule=\"evenodd\" fill-opacity=\"1\" /><path clip-path=\"url(#clip130)\" d=\"M 0 0 M1538.85 1532.4 L1525.96 1549.74 L1539.52 1568.04 L1532.61 1568.04 L1522.24 1554.04 L1511.86 1568.04 L1504.95 1568.04 L1518.8 1549.39 L1506.13 1532.4 L1513.04 1532.4 L1522.49 1545.1 L1531.94 1532.4 L1538.85 1532.4 Z\" fill=\"#000000\" fill-rule=\"evenodd\" fill-opacity=\"1\" /><path clip-path=\"url(#clip130)\" d=\"M 0 0 M1547.8 1532.4 L1553.65 1532.4 L1553.65 1568.04 L1547.8 1568.04 L1547.8 1532.4 M1547.8 1518.52 L1553.65 1518.52 L1553.65 1525.93 L1547.8 1525.93 L1547.8 1518.52 Z\" fill=\"#000000\" fill-rule=\"evenodd\" fill-opacity=\"1\" /><path clip-path=\"url(#clip130)\" d=\"M 0 0 M1571.7 1522.27 L1571.7 1532.4 L1583.76 1532.4 L1583.76 1536.95 L1571.7 1536.95 L1571.7 1556.3 Q1571.7 1560.66 1572.88 1561.9 Q1574.09 1563.14 1577.75 1563.14 L1583.76 1563.14 L1583.76 1568.04 L1577.75 1568.04 Q1570.97 1568.04 1568.39 1565.53 Q1565.81 1562.98 1565.81 1556.3 L1565.81 1536.95 L1561.51 1536.95 L1561.51 1532.4 L1565.81 1532.4 L1565.81 1522.27 L1571.7 1522.27 Z\" fill=\"#000000\" fill-rule=\"evenodd\" fill-opacity=\"1\" /><path clip-path=\"url(#clip130)\" d=\"M 0 0 M1606.3 1571.35 Q1603.81 1577.72 1601.46 1579.66 Q1599.1 1581.6 1595.16 1581.6 L1590.48 1581.6 L1590.48 1576.7 L1593.92 1576.7 Q1596.33 1576.7 1597.67 1575.56 Q1599.01 1574.41 1600.63 1570.14 L1601.68 1567.47 L1587.26 1532.4 L1593.47 1532.4 L1604.61 1560.28 L1615.75 1532.4 L1621.96 1532.4 L1606.3 1571.35 Z\" fill=\"#000000\" fill-rule=\"evenodd\" fill-opacity=\"1\" /><polyline clip-path=\"url(#clip132)\" style=\"stroke:#000000; stroke-width:2; stroke-opacity:0.1; fill:none\" points=\"\n",
       "  202.227,1423.18 2352.76,1423.18 \n",
       "  \"/>\n",
       "<polyline clip-path=\"url(#clip132)\" style=\"stroke:#000000; stroke-width:2; stroke-opacity:0.1; fill:none\" points=\"\n",
       "  202.227,989.944 2352.76,989.944 \n",
       "  \"/>\n",
       "<polyline clip-path=\"url(#clip132)\" style=\"stroke:#000000; stroke-width:2; stroke-opacity:0.1; fill:none\" points=\"\n",
       "  202.227,556.708 2352.76,556.708 \n",
       "  \"/>\n",
       "<polyline clip-path=\"url(#clip132)\" style=\"stroke:#000000; stroke-width:2; stroke-opacity:0.1; fill:none\" points=\"\n",
       "  202.227,123.472 2352.76,123.472 \n",
       "  \"/>\n",
       "<polyline clip-path=\"url(#clip130)\" style=\"stroke:#000000; stroke-width:4; stroke-opacity:1; fill:none\" points=\"\n",
       "  202.227,1423.18 202.227,123.472 \n",
       "  \"/>\n",
       "<polyline clip-path=\"url(#clip130)\" style=\"stroke:#000000; stroke-width:4; stroke-opacity:1; fill:none\" points=\"\n",
       "  202.227,1423.18 228.034,1423.18 \n",
       "  \"/>\n",
       "<polyline clip-path=\"url(#clip130)\" style=\"stroke:#000000; stroke-width:4; stroke-opacity:1; fill:none\" points=\"\n",
       "  202.227,989.944 228.034,989.944 \n",
       "  \"/>\n",
       "<polyline clip-path=\"url(#clip130)\" style=\"stroke:#000000; stroke-width:4; stroke-opacity:1; fill:none\" points=\"\n",
       "  202.227,556.708 228.034,556.708 \n",
       "  \"/>\n",
       "<polyline clip-path=\"url(#clip130)\" style=\"stroke:#000000; stroke-width:4; stroke-opacity:1; fill:none\" points=\"\n",
       "  202.227,123.472 228.034,123.472 \n",
       "  \"/>\n",
       "<path clip-path=\"url(#clip130)\" d=\"M 0 0 M154.283 1408.98 Q150.672 1408.98 148.843 1412.54 Q147.038 1416.08 147.038 1423.21 Q147.038 1430.32 148.843 1433.89 Q150.672 1437.43 154.283 1437.43 Q157.917 1437.43 159.723 1433.89 Q161.552 1430.32 161.552 1423.21 Q161.552 1416.08 159.723 1412.54 Q157.917 1408.98 154.283 1408.98 M154.283 1405.27 Q160.093 1405.27 163.149 1409.88 Q166.227 1414.46 166.227 1423.21 Q166.227 1431.94 163.149 1436.55 Q160.093 1441.13 154.283 1441.13 Q148.473 1441.13 145.394 1436.55 Q142.339 1431.94 142.339 1423.21 Q142.339 1414.46 145.394 1409.88 Q148.473 1405.27 154.283 1405.27 Z\" fill=\"#000000\" fill-rule=\"evenodd\" fill-opacity=\"1\" /><path clip-path=\"url(#clip130)\" d=\"M 0 0 M145.325 972.664 L163.681 972.664 L163.681 976.599 L149.607 976.599 L149.607 985.071 Q150.626 984.724 151.644 984.562 Q152.663 984.377 153.681 984.377 Q159.468 984.377 162.848 987.548 Q166.227 990.719 166.227 996.136 Q166.227 1001.71 162.755 1004.82 Q159.283 1007.9 152.964 1007.9 Q150.788 1007.9 148.519 1007.52 Q146.274 1007.15 143.866 1006.41 L143.866 1001.71 Q145.95 1002.85 148.172 1003.4 Q150.394 1003.96 152.871 1003.96 Q156.876 1003.96 159.214 1001.85 Q161.552 999.747 161.552 996.136 Q161.552 992.525 159.214 990.418 Q156.876 988.312 152.871 988.312 Q150.996 988.312 149.121 988.729 Q147.269 989.145 145.325 990.025 L145.325 972.664 Z\" fill=\"#000000\" fill-rule=\"evenodd\" fill-opacity=\"1\" /><path clip-path=\"url(#clip130)\" d=\"M 0 0 M114.931 570.053 L122.57 570.053 L122.57 543.687 L114.26 545.354 L114.26 541.095 L122.524 539.428 L127.2 539.428 L127.2 570.053 L134.839 570.053 L134.839 573.988 L114.931 573.988 L114.931 570.053 Z\" fill=\"#000000\" fill-rule=\"evenodd\" fill-opacity=\"1\" /><path clip-path=\"url(#clip130)\" d=\"M 0 0 M154.283 542.507 Q150.672 542.507 148.843 546.072 Q147.038 549.613 147.038 556.743 Q147.038 563.849 148.843 567.414 Q150.672 570.956 154.283 570.956 Q157.917 570.956 159.723 567.414 Q161.552 563.849 161.552 556.743 Q161.552 549.613 159.723 546.072 Q157.917 542.507 154.283 542.507 M154.283 538.803 Q160.093 538.803 163.149 543.409 Q166.227 547.993 166.227 556.743 Q166.227 565.47 163.149 570.076 Q160.093 574.659 154.283 574.659 Q148.473 574.659 145.394 570.076 Q142.339 565.47 142.339 556.743 Q142.339 547.993 145.394 543.409 Q148.473 538.803 154.283 538.803 Z\" fill=\"#000000\" fill-rule=\"evenodd\" fill-opacity=\"1\" /><path clip-path=\"url(#clip130)\" d=\"M 0 0 M115.927 136.817 L123.566 136.817 L123.566 110.451 L115.256 112.118 L115.256 107.859 L123.519 106.192 L128.195 106.192 L128.195 136.817 L135.834 136.817 L135.834 140.752 L115.927 140.752 L115.927 136.817 Z\" fill=\"#000000\" fill-rule=\"evenodd\" fill-opacity=\"1\" /><path clip-path=\"url(#clip130)\" d=\"M 0 0 M145.325 106.192 L163.681 106.192 L163.681 110.127 L149.607 110.127 L149.607 118.599 Q150.626 118.252 151.644 118.09 Q152.663 117.905 153.681 117.905 Q159.468 117.905 162.848 121.076 Q166.227 124.248 166.227 129.664 Q166.227 135.243 162.755 138.345 Q159.283 141.423 152.964 141.423 Q150.788 141.423 148.519 141.053 Q146.274 140.683 143.866 139.942 L143.866 135.243 Q145.95 136.377 148.172 136.933 Q150.394 137.488 152.871 137.488 Q156.876 137.488 159.214 135.382 Q161.552 133.275 161.552 129.664 Q161.552 126.053 159.214 123.947 Q156.876 121.84 152.871 121.84 Q150.996 121.84 149.121 122.257 Q147.269 122.674 145.325 123.553 L145.325 106.192 Z\" fill=\"#000000\" fill-rule=\"evenodd\" fill-opacity=\"1\" /><path clip-path=\"url(#clip130)\" d=\"M 0 0 M35.3266 918.687 L35.3266 927.949 L45.9574 930.623 L45.9574 921.297 L35.3266 918.687 M17.2162 923.461 L30.4251 926.771 L30.4251 917.477 L17.2162 914.135 L17.2162 909.043 L30.4251 912.321 L30.4251 902.391 L35.3266 902.391 L35.3266 913.563 L45.9574 916.172 L45.9574 906.051 L50.8271 906.051 L50.8271 917.414 L64.0042 920.724 L64.0042 925.816 L50.8271 922.538 L50.8271 931.864 L64.0042 935.142 L64.0042 940.267 L50.8271 936.956 L50.8271 946.982 L45.9574 946.982 L45.9574 935.779 L35.3266 933.105 L35.3266 943.354 L30.4251 943.354 L30.4251 931.864 L17.2162 928.617 L17.2162 923.461 Z\" fill=\"#000000\" fill-rule=\"evenodd\" fill-opacity=\"1\" /><path clip-path=\"url(#clip130)\" d=\"M 0 0 M29.7248 844.877 L35.1993 844.877 Q33.8307 847.359 33.1623 849.874 Q32.4621 852.356 32.4621 854.903 Q32.4621 860.6 36.0905 863.751 Q39.6872 866.902 46.212 866.902 Q52.7369 866.902 56.3653 863.751 Q59.9619 860.6 59.9619 854.903 Q59.9619 852.356 59.2935 849.874 Q58.5933 847.359 57.2247 844.877 L62.6355 844.877 Q63.7814 847.327 64.3543 849.969 Q64.9272 852.579 64.9272 855.539 Q64.9272 863.592 59.8664 868.334 Q54.8057 873.077 46.212 873.077 Q37.491 873.077 32.4939 868.302 Q27.4968 863.496 27.4968 855.157 Q27.4968 852.452 28.0697 849.874 Q28.6108 847.295 29.7248 844.877 Z\" fill=\"#000000\" fill-rule=\"evenodd\" fill-opacity=\"1\" /><path clip-path=\"url(#clip130)\" d=\"M 0 0 M49.9359 835.296 L28.3562 835.296 L28.3562 829.44 L49.7131 829.44 Q54.7739 829.44 57.3202 827.466 Q59.8346 825.493 59.8346 821.546 Q59.8346 816.804 56.8109 814.067 Q53.7872 811.297 48.5673 811.297 L28.3562 811.297 L28.3562 805.441 L64.0042 805.441 L64.0042 811.297 L58.5296 811.297 Q61.7762 813.43 63.3676 816.263 Q64.9272 819.064 64.9272 822.788 Q64.9272 828.93 61.1078 832.113 Q57.2883 835.296 49.9359 835.296 M27.4968 820.56 L27.4968 820.56 Z\" fill=\"#000000\" fill-rule=\"evenodd\" fill-opacity=\"1\" /><path clip-path=\"url(#clip130)\" d=\"M 0 0 M33.8307 772.721 Q33.2578 773.708 33.0032 774.886 Q32.7167 776.031 32.7167 777.432 Q32.7167 782.397 35.9632 785.071 Q39.1779 787.712 45.2253 787.712 L64.0042 787.712 L64.0042 793.601 L28.3562 793.601 L28.3562 787.712 L33.8944 787.712 Q30.6479 785.866 29.0883 782.906 Q27.4968 779.946 27.4968 775.713 Q27.4968 775.108 27.5923 774.376 Q27.656 773.644 27.8151 772.753 L33.8307 772.721 Z\" fill=\"#000000\" fill-rule=\"evenodd\" fill-opacity=\"1\" /><path clip-path=\"url(#clip130)\" d=\"M 0 0 M33.8307 747.067 Q33.2578 748.054 33.0032 749.232 Q32.7167 750.378 32.7167 751.778 Q32.7167 756.743 35.9632 759.417 Q39.1779 762.059 45.2253 762.059 L64.0042 762.059 L64.0042 767.947 L28.3562 767.947 L28.3562 762.059 L33.8944 762.059 Q30.6479 760.213 29.0883 757.253 Q27.4968 754.293 27.4968 750.059 Q27.4968 749.455 27.5923 748.723 Q27.656 747.99 27.8151 747.099 L33.8307 747.067 Z\" fill=\"#000000\" fill-rule=\"evenodd\" fill-opacity=\"1\" /><path clip-path=\"url(#clip130)\" d=\"M 0 0 M28.3562 740.925 L28.3562 735.068 L64.0042 735.068 L64.0042 740.925 L28.3562 740.925 M14.479 740.925 L14.479 735.068 L21.895 735.068 L21.895 740.925 L14.479 740.925 Z\" fill=\"#000000\" fill-rule=\"evenodd\" fill-opacity=\"1\" /><path clip-path=\"url(#clip130)\" d=\"M 0 0 M29.7248 697.16 L35.1993 697.16 Q33.8307 699.643 33.1623 702.157 Q32.4621 704.64 32.4621 707.186 Q32.4621 712.884 36.0905 716.035 Q39.6872 719.186 46.212 719.186 Q52.7369 719.186 56.3653 716.035 Q59.9619 712.884 59.9619 707.186 Q59.9619 704.64 59.2935 702.157 Q58.5933 699.643 57.2247 697.16 L62.6355 697.16 Q63.7814 699.611 64.3543 702.253 Q64.9272 704.863 64.9272 707.823 Q64.9272 715.875 59.8664 720.618 Q54.8057 725.36 46.212 725.36 Q37.491 725.36 32.4939 720.586 Q27.4968 715.78 27.4968 707.441 Q27.4968 704.735 28.0697 702.157 Q28.6108 699.579 29.7248 697.16 Z\" fill=\"#000000\" fill-rule=\"evenodd\" fill-opacity=\"1\" /><path clip-path=\"url(#clip130)\" d=\"M 0 0 M49.9359 687.58 L28.3562 687.58 L28.3562 681.723 L49.7131 681.723 Q54.7739 681.723 57.3202 679.75 Q59.8346 677.777 59.8346 673.83 Q59.8346 669.088 56.8109 666.35 Q53.7872 663.581 48.5673 663.581 L28.3562 663.581 L28.3562 657.725 L64.0042 657.725 L64.0042 663.581 L58.5296 663.581 Q61.7762 665.714 63.3676 668.546 Q64.9272 671.347 64.9272 675.071 Q64.9272 681.214 61.1078 684.397 Q57.2883 687.58 49.9359 687.58 M27.4968 672.843 L27.4968 672.843 Z\" fill=\"#000000\" fill-rule=\"evenodd\" fill-opacity=\"1\" /><path clip-path=\"url(#clip130)\" d=\"M 0 0 M14.479 645.662 L14.479 639.805 L64.0042 639.805 L64.0042 645.662 L14.479 645.662 Z\" fill=\"#000000\" fill-rule=\"evenodd\" fill-opacity=\"1\" /><path clip-path=\"url(#clip130)\" d=\"M 0 0 M46.0847 611.351 Q46.0847 618.448 47.7079 621.186 Q49.3312 623.923 53.2461 623.923 Q56.3653 623.923 58.2114 621.886 Q60.0256 619.817 60.0256 616.284 Q60.0256 611.414 56.5881 608.486 Q53.1188 605.526 47.3897 605.526 L46.0847 605.526 L46.0847 611.351 M43.6657 599.67 L64.0042 599.67 L64.0042 605.526 L58.5933 605.526 Q61.8398 607.531 63.3994 610.523 Q64.9272 613.515 64.9272 617.844 Q64.9272 623.318 61.8716 626.565 Q58.7843 629.779 53.6281 629.779 Q47.6125 629.779 44.5569 625.769 Q41.5014 621.727 41.5014 613.738 L41.5014 605.526 L40.9285 605.526 Q36.8862 605.526 34.6901 608.2 Q32.4621 610.841 32.4621 615.647 Q32.4621 618.703 33.1941 621.599 Q33.9262 624.496 35.3903 627.169 L29.9795 627.169 Q28.7381 623.955 28.1334 620.931 Q27.4968 617.907 27.4968 615.043 Q27.4968 607.308 31.5072 603.489 Q35.5176 599.67 43.6657 599.67 Z\" fill=\"#000000\" fill-rule=\"evenodd\" fill-opacity=\"1\" /><path clip-path=\"url(#clip130)\" d=\"M 0 0 M1083.62 20.1573 L1072.52 50.2555 L1094.76 50.2555 L1083.62 20.1573 M1079 12.096 L1088.27 12.096 L1111.32 72.576 L1102.82 72.576 L1097.31 57.061 L1070.04 57.061 L1064.54 72.576 L1055.91 72.576 L1079 12.096 Z\" fill=\"#000000\" fill-rule=\"evenodd\" fill-opacity=\"1\" /><path clip-path=\"url(#clip130)\" d=\"M 0 0 M1119.83 9.54393 L1127.28 9.54393 L1127.28 72.576 L1119.83 72.576 L1119.83 9.54393 Z\" fill=\"#000000\" fill-rule=\"evenodd\" fill-opacity=\"1\" /><path clip-path=\"url(#clip130)\" d=\"M 0 0 M1142.88 9.54393 L1150.33 9.54393 L1150.33 72.576 L1142.88 72.576 L1142.88 9.54393 Z\" fill=\"#000000\" fill-rule=\"evenodd\" fill-opacity=\"1\" /><path clip-path=\"url(#clip130)\" d=\"M 0 0 M1228.88 14.0809 L1228.88 22.0612 Q1224.22 19.8332 1220.09 18.7395 Q1215.96 17.6457 1212.11 17.6457 Q1205.43 17.6457 1201.78 20.2383 Q1198.17 22.8309 1198.17 27.611 Q1198.17 31.6214 1200.57 33.6873 Q1203 35.7128 1209.72 36.9686 L1214.66 37.9813 Q1223.82 39.7232 1228.15 44.1387 Q1232.53 48.5136 1232.53 55.8863 Q1232.53 64.6767 1226.61 69.2137 Q1220.74 73.7508 1209.36 73.7508 Q1205.06 73.7508 1200.2 72.7785 Q1195.38 71.8063 1190.19 69.9024 L1190.19 61.4765 Q1195.18 64.2716 1199.96 65.6895 Q1204.74 67.1073 1209.36 67.1073 Q1216.36 67.1073 1220.17 64.3527 Q1223.98 61.598 1223.98 56.4939 Q1223.98 52.0379 1221.22 49.5264 Q1218.51 47.0148 1212.27 45.759 L1207.29 44.7868 Q1198.13 42.9639 1194.04 39.075 Q1189.95 35.1862 1189.95 28.2591 Q1189.95 20.2383 1195.58 15.6203 Q1201.25 11.0023 1211.18 11.0023 Q1215.43 11.0023 1219.85 11.7719 Q1224.26 12.5416 1228.88 14.0809 Z\" fill=\"#000000\" fill-rule=\"evenodd\" fill-opacity=\"1\" /><path clip-path=\"url(#clip130)\" d=\"M 0 0 M1277.61 28.9478 L1277.61 35.9153 Q1274.45 34.1734 1271.25 33.3227 Q1268.09 32.4315 1264.85 32.4315 Q1257.6 32.4315 1253.59 37.0496 Q1249.58 41.6271 1249.58 49.9314 Q1249.58 58.2358 1253.59 62.8538 Q1257.6 67.4314 1264.85 67.4314 Q1268.09 67.4314 1271.25 66.5807 Q1274.45 65.6895 1277.61 63.9476 L1277.61 70.8341 Q1274.49 72.2924 1271.13 73.0216 Q1267.81 73.7508 1264.04 73.7508 Q1253.79 73.7508 1247.76 67.3098 Q1241.72 60.8689 1241.72 49.9314 Q1241.72 38.832 1247.8 32.472 Q1253.92 26.1121 1264.53 26.1121 Q1267.97 26.1121 1271.25 26.8413 Q1274.53 27.5299 1277.61 28.9478 Z\" fill=\"#000000\" fill-rule=\"evenodd\" fill-opacity=\"1\" /><path clip-path=\"url(#clip130)\" d=\"M 0 0 M1328.29 45.1919 L1328.29 72.576 L1320.84 72.576 L1320.84 45.4349 Q1320.84 38.994 1318.32 35.7938 Q1315.81 32.5936 1310.79 32.5936 Q1304.75 32.5936 1301.27 36.4419 Q1297.79 40.2903 1297.79 46.9338 L1297.79 72.576 L1290.29 72.576 L1290.29 9.54393 L1297.79 9.54393 L1297.79 34.2544 Q1300.46 30.163 1304.07 28.1376 Q1307.71 26.1121 1312.45 26.1121 Q1320.27 26.1121 1324.28 30.9732 Q1328.29 35.7938 1328.29 45.1919 Z\" fill=\"#000000\" fill-rule=\"evenodd\" fill-opacity=\"1\" /><path clip-path=\"url(#clip130)\" d=\"M 0 0 M1360.74 32.4315 Q1354.74 32.4315 1351.26 37.1306 Q1347.77 41.7891 1347.77 49.9314 Q1347.77 58.0738 1351.22 62.7728 Q1354.7 67.4314 1360.74 67.4314 Q1366.69 67.4314 1370.18 62.7323 Q1373.66 58.0333 1373.66 49.9314 Q1373.66 41.8701 1370.18 37.1711 Q1366.69 32.4315 1360.74 32.4315 M1360.74 26.1121 Q1370.46 26.1121 1376.01 32.4315 Q1381.56 38.7509 1381.56 49.9314 Q1381.56 61.0714 1376.01 67.4314 Q1370.46 73.7508 1360.74 73.7508 Q1350.98 73.7508 1345.43 67.4314 Q1339.92 61.0714 1339.92 49.9314 Q1339.92 38.7509 1345.43 32.4315 Q1350.98 26.1121 1360.74 26.1121 Z\" fill=\"#000000\" fill-rule=\"evenodd\" fill-opacity=\"1\" /><path clip-path=\"url(#clip130)\" d=\"M 0 0 M1411.5 32.4315 Q1405.5 32.4315 1402.02 37.1306 Q1398.53 41.7891 1398.53 49.9314 Q1398.53 58.0738 1401.98 62.7728 Q1405.46 67.4314 1411.5 67.4314 Q1417.45 67.4314 1420.93 62.7323 Q1424.42 58.0333 1424.42 49.9314 Q1424.42 41.8701 1420.93 37.1711 Q1417.45 32.4315 1411.5 32.4315 M1411.5 26.1121 Q1421.22 26.1121 1426.77 32.4315 Q1432.32 38.7509 1432.32 49.9314 Q1432.32 61.0714 1426.77 67.4314 Q1421.22 73.7508 1411.5 73.7508 Q1401.73 73.7508 1396.18 67.4314 Q1390.67 61.0714 1390.67 49.9314 Q1390.67 38.7509 1396.18 32.4315 Q1401.73 26.1121 1411.5 26.1121 Z\" fill=\"#000000\" fill-rule=\"evenodd\" fill-opacity=\"1\" /><path clip-path=\"url(#clip130)\" d=\"M 0 0 M1444.67 9.54393 L1452.13 9.54393 L1452.13 72.576 L1444.67 72.576 L1444.67 9.54393 Z\" fill=\"#000000\" fill-rule=\"evenodd\" fill-opacity=\"1\" /><path clip-path=\"url(#clip130)\" d=\"M 0 0 M1496.65 28.5427 L1496.65 35.5912 Q1493.49 33.9709 1490.08 33.1607 Q1486.68 32.3505 1483.03 32.3505 Q1477.48 32.3505 1474.69 34.0519 Q1471.94 35.7533 1471.94 39.156 Q1471.94 41.7486 1473.92 43.2475 Q1475.9 44.7058 1481.9 46.0426 L1484.45 46.6097 Q1492.39 48.3111 1495.71 51.4303 Q1499.08 54.509 1499.08 60.0587 Q1499.08 66.3781 1494.05 70.0644 Q1489.07 73.7508 1480.32 73.7508 Q1476.67 73.7508 1472.7 73.0216 Q1468.78 72.3329 1464.4 70.9151 L1464.4 63.2184 Q1468.53 65.3654 1472.54 66.4591 Q1476.55 67.5124 1480.48 67.5124 Q1485.75 67.5124 1488.58 65.73 Q1491.42 63.9071 1491.42 60.6258 Q1491.42 57.5877 1489.35 55.9673 Q1487.33 54.3469 1480.4 52.8481 L1477.81 52.2405 Q1470.88 50.7821 1467.8 47.7845 Q1464.72 44.7463 1464.72 39.4801 Q1464.72 33.0797 1469.26 29.5959 Q1473.8 26.1121 1482.14 26.1121 Q1486.28 26.1121 1489.92 26.7198 Q1493.57 27.3274 1496.65 28.5427 Z\" fill=\"#000000\" fill-rule=\"evenodd\" fill-opacity=\"1\" /><path clip-path=\"url(#clip132)\" d=\"\n",
       "M381.438 1076.59 L381.438 1423.18 L560.649 1423.18 L560.649 1076.59 L381.438 1076.59 L381.438 1076.59  Z\n",
       "  \" fill=\"#1874cd\" fill-rule=\"evenodd\" fill-opacity=\"0.7\"/>\n",
       "<polyline clip-path=\"url(#clip132)\" style=\"stroke:#000000; stroke-width:4; stroke-opacity:0.7; fill:none\" points=\"\n",
       "  381.438,1076.59 381.438,1423.18 560.649,1423.18 560.649,1076.59 381.438,1076.59 \n",
       "  \"/>\n",
       "<path clip-path=\"url(#clip132)\" d=\"\n",
       "M560.649 1163.24 L560.649 1423.18 L739.86 1423.18 L739.86 1163.24 L560.649 1163.24 L560.649 1163.24  Z\n",
       "  \" fill=\"#1874cd\" fill-rule=\"evenodd\" fill-opacity=\"0.7\"/>\n",
       "<polyline clip-path=\"url(#clip132)\" style=\"stroke:#000000; stroke-width:4; stroke-opacity:0.7; fill:none\" points=\"\n",
       "  560.649,1163.24 560.649,1423.18 739.86,1423.18 739.86,1163.24 560.649,1163.24 \n",
       "  \"/>\n",
       "<path clip-path=\"url(#clip132)\" d=\"\n",
       "M739.86 643.355 L739.86 1423.18 L919.07 1423.18 L919.07 643.355 L739.86 643.355 L739.86 643.355  Z\n",
       "  \" fill=\"#1874cd\" fill-rule=\"evenodd\" fill-opacity=\"0.7\"/>\n",
       "<polyline clip-path=\"url(#clip132)\" style=\"stroke:#000000; stroke-width:4; stroke-opacity:0.7; fill:none\" points=\"\n",
       "  739.86,643.355 739.86,1423.18 919.07,1423.18 919.07,643.355 739.86,643.355 \n",
       "  \"/>\n",
       "<path clip-path=\"url(#clip132)\" d=\"\n",
       "M919.07 643.355 L919.07 1423.18 L1098.28 1423.18 L1098.28 643.355 L919.07 643.355 L919.07 643.355  Z\n",
       "  \" fill=\"#1874cd\" fill-rule=\"evenodd\" fill-opacity=\"0.7\"/>\n",
       "<polyline clip-path=\"url(#clip132)\" style=\"stroke:#000000; stroke-width:4; stroke-opacity:0.7; fill:none\" points=\"\n",
       "  919.07,643.355 919.07,1423.18 1098.28,1423.18 1098.28,643.355 919.07,643.355 \n",
       "  \"/>\n",
       "<path clip-path=\"url(#clip132)\" d=\"\n",
       "M1098.28 296.766 L1098.28 1423.18 L1277.49 1423.18 L1277.49 296.766 L1098.28 296.766 L1098.28 296.766  Z\n",
       "  \" fill=\"#1874cd\" fill-rule=\"evenodd\" fill-opacity=\"0.7\"/>\n",
       "<polyline clip-path=\"url(#clip132)\" style=\"stroke:#000000; stroke-width:4; stroke-opacity:0.7; fill:none\" points=\"\n",
       "  1098.28,296.766 1098.28,1423.18 1277.49,1423.18 1277.49,296.766 1098.28,296.766 \n",
       "  \"/>\n",
       "<path clip-path=\"url(#clip132)\" d=\"\n",
       "M1277.49 643.355 L1277.49 1423.18 L1456.7 1423.18 L1456.7 643.355 L1277.49 643.355 L1277.49 643.355  Z\n",
       "  \" fill=\"#1874cd\" fill-rule=\"evenodd\" fill-opacity=\"0.7\"/>\n",
       "<polyline clip-path=\"url(#clip132)\" style=\"stroke:#000000; stroke-width:4; stroke-opacity:0.7; fill:none\" points=\"\n",
       "  1277.49,643.355 1277.49,1423.18 1456.7,1423.18 1456.7,643.355 1277.49,643.355 \n",
       "  \"/>\n",
       "<path clip-path=\"url(#clip132)\" d=\"\n",
       "M1456.7 643.355 L1456.7 1423.18 L1635.91 1423.18 L1635.91 643.355 L1456.7 643.355 L1456.7 643.355  Z\n",
       "  \" fill=\"#1874cd\" fill-rule=\"evenodd\" fill-opacity=\"0.7\"/>\n",
       "<polyline clip-path=\"url(#clip132)\" style=\"stroke:#000000; stroke-width:4; stroke-opacity:0.7; fill:none\" points=\"\n",
       "  1456.7,643.355 1456.7,1423.18 1635.91,1423.18 1635.91,643.355 1456.7,643.355 \n",
       "  \"/>\n",
       "<path clip-path=\"url(#clip132)\" d=\"\n",
       "M1635.91 1076.59 L1635.91 1423.18 L1815.12 1423.18 L1815.12 1076.59 L1635.91 1076.59 L1635.91 1076.59  Z\n",
       "  \" fill=\"#1874cd\" fill-rule=\"evenodd\" fill-opacity=\"0.7\"/>\n",
       "<polyline clip-path=\"url(#clip132)\" style=\"stroke:#000000; stroke-width:4; stroke-opacity:0.7; fill:none\" points=\"\n",
       "  1635.91,1076.59 1635.91,1423.18 1815.12,1423.18 1815.12,1076.59 1635.91,1076.59 \n",
       "  \"/>\n",
       "<path clip-path=\"url(#clip132)\" d=\"\n",
       "M1815.12 1336.53 L1815.12 1423.18 L1994.33 1423.18 L1994.33 1336.53 L1815.12 1336.53 L1815.12 1336.53  Z\n",
       "  \" fill=\"#1874cd\" fill-rule=\"evenodd\" fill-opacity=\"0.7\"/>\n",
       "<polyline clip-path=\"url(#clip132)\" style=\"stroke:#000000; stroke-width:4; stroke-opacity:0.7; fill:none\" points=\"\n",
       "  1815.12,1336.53 1815.12,1423.18 1994.33,1423.18 1994.33,1336.53 1815.12,1336.53 \n",
       "  \"/>\n",
       "<path clip-path=\"url(#clip132)\" d=\"\n",
       "M1994.33 1249.89 L1994.33 1423.18 L2173.55 1423.18 L2173.55 1249.89 L1994.33 1249.89 L1994.33 1249.89  Z\n",
       "  \" fill=\"#1874cd\" fill-rule=\"evenodd\" fill-opacity=\"0.7\"/>\n",
       "<polyline clip-path=\"url(#clip132)\" style=\"stroke:#000000; stroke-width:4; stroke-opacity:0.7; fill:none\" points=\"\n",
       "  1994.33,1249.89 1994.33,1423.18 2173.55,1423.18 2173.55,1249.89 1994.33,1249.89 \n",
       "  \"/>\n",
       "</svg>\n"
      ]
     },
     "execution_count": 8,
     "metadata": {},
     "output_type": "execute_result"
    }
   ],
   "source": [
    "metric_histogram([top_tier; middle_tier; bottom_tier], \"complexity\", nbins=10, title=\"All Schools\", xlabel=\"structural complexity\", ylabel=\"# curricula\", xlim=(0,600), ylim=(0,15))"
   ]
  },
  {
   "cell_type": "markdown",
   "metadata": {},
   "source": [
    "A box-and-whisker diagram for each of the three samples, provided below, shows the differences between the various statistics associated with these samples.  The quesion we will answer using ANOVA anlaysis is whether or not these variances are statistically significant across these three tiers."
   ]
  },
  {
   "cell_type": "code",
   "execution_count": 9,
   "metadata": {
    "scrolled": false
   },
   "outputs": [
    {
     "data": {
      "image/svg+xml": [
       "<?xml version=\"1.0\" encoding=\"utf-8\"?>\n",
       "<svg xmlns=\"http://www.w3.org/2000/svg\" xmlns:xlink=\"http://www.w3.org/1999/xlink\" width=\"600\" height=\"400\" viewBox=\"0 0 2400 1600\">\n",
       "<defs>\n",
       "  <clipPath id=\"clip170\">\n",
       "    <rect x=\"0\" y=\"0\" width=\"2400\" height=\"1600\"/>\n",
       "  </clipPath>\n",
       "</defs>\n",
       "<path clip-path=\"url(#clip170)\" d=\"\n",
       "M0 1600 L2400 1600 L2400 0 L0 0  Z\n",
       "  \" fill=\"#ffffff\" fill-rule=\"evenodd\" fill-opacity=\"1\"/>\n",
       "<defs>\n",
       "  <clipPath id=\"clip171\">\n",
       "    <rect x=\"480\" y=\"0\" width=\"1681\" height=\"1600\"/>\n",
       "  </clipPath>\n",
       "</defs>\n",
       "<path clip-path=\"url(#clip170)\" d=\"\n",
       "M235.283 1423.18 L2352.76 1423.18 L2352.76 123.472 L235.283 123.472  Z\n",
       "  \" fill=\"#ffffff\" fill-rule=\"evenodd\" fill-opacity=\"1\"/>\n",
       "<defs>\n",
       "  <clipPath id=\"clip172\">\n",
       "    <rect x=\"235\" y=\"123\" width=\"2118\" height=\"1301\"/>\n",
       "  </clipPath>\n",
       "</defs>\n",
       "<polyline clip-path=\"url(#clip172)\" style=\"stroke:#000000; stroke-width:2; stroke-opacity:0.1; fill:none\" points=\"\n",
       "  517.169,1423.18 517.169,123.472 \n",
       "  \"/>\n",
       "<polyline clip-path=\"url(#clip172)\" style=\"stroke:#000000; stroke-width:2; stroke-opacity:0.1; fill:none\" points=\"\n",
       "  1294.02,1423.18 1294.02,123.472 \n",
       "  \"/>\n",
       "<polyline clip-path=\"url(#clip172)\" style=\"stroke:#000000; stroke-width:2; stroke-opacity:0.1; fill:none\" points=\"\n",
       "  2070.87,1423.18 2070.87,123.472 \n",
       "  \"/>\n",
       "<polyline clip-path=\"url(#clip170)\" style=\"stroke:#000000; stroke-width:4; stroke-opacity:1; fill:none\" points=\"\n",
       "  235.283,1423.18 2352.76,1423.18 \n",
       "  \"/>\n",
       "<polyline clip-path=\"url(#clip170)\" style=\"stroke:#000000; stroke-width:4; stroke-opacity:1; fill:none\" points=\"\n",
       "  517.169,1423.18 517.169,1407.58 \n",
       "  \"/>\n",
       "<polyline clip-path=\"url(#clip170)\" style=\"stroke:#000000; stroke-width:4; stroke-opacity:1; fill:none\" points=\"\n",
       "  1294.02,1423.18 1294.02,1407.58 \n",
       "  \"/>\n",
       "<polyline clip-path=\"url(#clip170)\" style=\"stroke:#000000; stroke-width:4; stroke-opacity:1; fill:none\" points=\"\n",
       "  2070.87,1423.18 2070.87,1407.58 \n",
       "  \"/>\n",
       "<path clip-path=\"url(#clip170)\" d=\"M 0 0 M487.667 1450.56 L487.667 1457.93 L496.44 1457.93 L496.44 1461.24 L487.667 1461.24 L487.667 1475.31 Q487.667 1478.48 488.523 1479.38 Q489.403 1480.29 492.065 1480.29 L496.44 1480.29 L496.44 1483.85 L492.065 1483.85 Q487.134 1483.85 485.259 1482.02 Q483.384 1480.17 483.384 1475.31 L483.384 1461.24 L480.259 1461.24 L480.259 1457.93 L483.384 1457.93 L483.384 1450.56 L487.667 1450.56 Z\" fill=\"#000000\" fill-rule=\"evenodd\" fill-opacity=\"1\" /><path clip-path=\"url(#clip170)\" d=\"M 0 0 M512.088 1460.91 Q508.662 1460.91 506.671 1463.6 Q504.68 1466.26 504.68 1470.91 Q504.68 1475.56 506.648 1478.25 Q508.639 1480.91 512.088 1480.91 Q515.49 1480.91 517.481 1478.23 Q519.472 1475.54 519.472 1470.91 Q519.472 1466.31 517.481 1463.62 Q515.49 1460.91 512.088 1460.91 M512.088 1457.3 Q517.643 1457.3 520.814 1460.91 Q523.986 1464.52 523.986 1470.91 Q523.986 1477.28 520.814 1480.91 Q517.643 1484.52 512.088 1484.52 Q506.509 1484.52 503.338 1480.91 Q500.19 1477.28 500.19 1470.91 Q500.19 1464.52 503.338 1460.91 Q506.509 1457.3 512.088 1457.3 Z\" fill=\"#000000\" fill-rule=\"evenodd\" fill-opacity=\"1\" /><path clip-path=\"url(#clip170)\" d=\"M 0 0 M535.166 1479.96 L535.166 1493.71 L530.884 1493.71 L530.884 1457.93 L535.166 1457.93 L535.166 1461.86 Q536.509 1459.55 538.546 1458.44 Q540.606 1457.3 543.453 1457.3 Q548.175 1457.3 551.115 1461.05 Q554.078 1464.8 554.078 1470.91 Q554.078 1477.02 551.115 1480.77 Q548.175 1484.52 543.453 1484.52 Q540.606 1484.52 538.546 1483.41 Q536.509 1482.28 535.166 1479.96 M549.657 1470.91 Q549.657 1466.21 547.712 1463.55 Q545.791 1460.87 542.412 1460.87 Q539.032 1460.87 537.088 1463.55 Q535.166 1466.21 535.166 1470.91 Q535.166 1475.61 537.088 1478.3 Q539.032 1480.96 542.412 1480.96 Q545.791 1480.96 547.712 1478.3 Q549.657 1475.61 549.657 1470.91 Z\" fill=\"#000000\" fill-rule=\"evenodd\" fill-opacity=\"1\" /><path clip-path=\"url(#clip170)\" d=\"M 0 0 M1236.84 1462.9 Q1238.44 1460.03 1240.66 1458.67 Q1242.89 1457.3 1245.89 1457.3 Q1249.95 1457.3 1252.14 1460.15 Q1254.34 1462.97 1254.34 1468.2 L1254.34 1483.85 L1250.06 1483.85 L1250.06 1468.34 Q1250.06 1464.62 1248.74 1462.81 Q1247.42 1461 1244.71 1461 Q1241.4 1461 1239.48 1463.2 Q1237.56 1465.4 1237.56 1469.2 L1237.56 1483.85 L1233.28 1483.85 L1233.28 1468.34 Q1233.28 1464.59 1231.96 1462.81 Q1230.64 1461 1227.89 1461 Q1224.62 1461 1222.7 1463.23 Q1220.78 1465.43 1220.78 1469.2 L1220.78 1483.85 L1216.5 1483.85 L1216.5 1457.93 L1220.78 1457.93 L1220.78 1461.95 Q1222.24 1459.57 1224.27 1458.44 Q1226.31 1457.3 1229.11 1457.3 Q1231.94 1457.3 1233.9 1458.74 Q1235.89 1460.17 1236.84 1462.9 Z\" fill=\"#000000\" fill-rule=\"evenodd\" fill-opacity=\"1\" /><path clip-path=\"url(#clip170)\" d=\"M 0 0 M1262.84 1457.93 L1267.1 1457.93 L1267.1 1483.85 L1262.84 1483.85 L1262.84 1457.93 M1262.84 1447.83 L1267.1 1447.83 L1267.1 1453.23 L1262.84 1453.23 L1262.84 1447.83 Z\" fill=\"#000000\" fill-rule=\"evenodd\" fill-opacity=\"1\" /><path clip-path=\"url(#clip170)\" d=\"M 0 0 M1293.07 1461.86 L1293.07 1447.83 L1297.33 1447.83 L1297.33 1483.85 L1293.07 1483.85 L1293.07 1479.96 Q1291.73 1482.28 1289.67 1483.41 Q1287.63 1484.52 1284.76 1484.52 Q1280.06 1484.52 1277.1 1480.77 Q1274.16 1477.02 1274.16 1470.91 Q1274.16 1464.8 1277.1 1461.05 Q1280.06 1457.3 1284.76 1457.3 Q1287.63 1457.3 1289.67 1458.44 Q1291.73 1459.55 1293.07 1461.86 M1278.56 1470.91 Q1278.56 1475.61 1280.48 1478.3 Q1282.42 1480.96 1285.8 1480.96 Q1289.18 1480.96 1291.13 1478.3 Q1293.07 1475.61 1293.07 1470.91 Q1293.07 1466.21 1291.13 1463.55 Q1289.18 1460.87 1285.8 1460.87 Q1282.42 1460.87 1280.48 1463.55 Q1278.56 1466.21 1278.56 1470.91 Z\" fill=\"#000000\" fill-rule=\"evenodd\" fill-opacity=\"1\" /><path clip-path=\"url(#clip170)\" d=\"M 0 0 M1323.16 1461.86 L1323.16 1447.83 L1327.42 1447.83 L1327.42 1483.85 L1323.16 1483.85 L1323.16 1479.96 Q1321.82 1482.28 1319.76 1483.41 Q1317.72 1484.52 1314.85 1484.52 Q1310.15 1484.52 1307.19 1480.77 Q1304.25 1477.02 1304.25 1470.91 Q1304.25 1464.8 1307.19 1461.05 Q1310.15 1457.3 1314.85 1457.3 Q1317.72 1457.3 1319.76 1458.44 Q1321.82 1459.55 1323.16 1461.86 M1308.65 1470.91 Q1308.65 1475.61 1310.57 1478.3 Q1312.51 1480.96 1315.89 1480.96 Q1319.27 1480.96 1321.22 1478.3 Q1323.16 1475.61 1323.16 1470.91 Q1323.16 1466.21 1321.22 1463.55 Q1319.27 1460.87 1315.89 1460.87 Q1312.51 1460.87 1310.57 1463.55 Q1308.65 1466.21 1308.65 1470.91 Z\" fill=\"#000000\" fill-rule=\"evenodd\" fill-opacity=\"1\" /><path clip-path=\"url(#clip170)\" d=\"M 0 0 M1336.2 1447.83 L1340.45 1447.83 L1340.45 1483.85 L1336.2 1483.85 L1336.2 1447.83 Z\" fill=\"#000000\" fill-rule=\"evenodd\" fill-opacity=\"1\" /><path clip-path=\"url(#clip170)\" d=\"M 0 0 M1371.54 1469.82 L1371.54 1471.91 L1351.96 1471.91 Q1352.24 1476.31 1354.6 1478.62 Q1356.98 1480.91 1361.22 1480.91 Q1363.67 1480.91 1365.96 1480.31 Q1368.28 1479.71 1370.55 1478.5 L1370.55 1482.53 Q1368.26 1483.5 1365.85 1484.01 Q1363.44 1484.52 1360.96 1484.52 Q1354.76 1484.52 1351.13 1480.91 Q1347.51 1477.3 1347.51 1471.14 Q1347.51 1464.78 1350.94 1461.05 Q1354.39 1457.3 1360.22 1457.3 Q1365.45 1457.3 1368.49 1460.68 Q1371.54 1464.04 1371.54 1469.82 M1367.28 1468.57 Q1367.24 1465.08 1365.32 1463 Q1363.42 1460.91 1360.27 1460.91 Q1356.7 1460.91 1354.55 1462.93 Q1352.42 1464.94 1352.1 1468.6 L1367.28 1468.57 Z\" fill=\"#000000\" fill-rule=\"evenodd\" fill-opacity=\"1\" /><path clip-path=\"url(#clip170)\" d=\"M 0 0 M2008.08 1470.91 Q2008.08 1466.21 2006.14 1463.55 Q2004.22 1460.87 2000.84 1460.87 Q1997.46 1460.87 1995.51 1463.55 Q1993.59 1466.21 1993.59 1470.91 Q1993.59 1475.61 1995.51 1478.3 Q1997.46 1480.96 2000.84 1480.96 Q2004.22 1480.96 2006.14 1478.3 Q2008.08 1475.61 2008.08 1470.91 M1993.59 1461.86 Q1994.93 1459.55 1996.97 1458.44 Q1999.03 1457.3 2001.88 1457.3 Q2006.6 1457.3 2009.54 1461.05 Q2012.5 1464.8 2012.5 1470.91 Q2012.5 1477.02 2009.54 1480.77 Q2006.6 1484.52 2001.88 1484.52 Q1999.03 1484.52 1996.97 1483.41 Q1994.93 1482.28 1993.59 1479.96 L1993.59 1483.85 L1989.31 1483.85 L1989.31 1447.83 L1993.59 1447.83 L1993.59 1461.86 Z\" fill=\"#000000\" fill-rule=\"evenodd\" fill-opacity=\"1\" /><path clip-path=\"url(#clip170)\" d=\"M 0 0 M2029.61 1460.91 Q2026.18 1460.91 2024.19 1463.6 Q2022.2 1466.26 2022.2 1470.91 Q2022.2 1475.56 2024.17 1478.25 Q2026.16 1480.91 2029.61 1480.91 Q2033.01 1480.91 2035 1478.23 Q2036.99 1475.54 2036.99 1470.91 Q2036.99 1466.31 2035 1463.62 Q2033.01 1460.91 2029.61 1460.91 M2029.61 1457.3 Q2035.16 1457.3 2038.34 1460.91 Q2041.51 1464.52 2041.51 1470.91 Q2041.51 1477.28 2038.34 1480.91 Q2035.16 1484.52 2029.61 1484.52 Q2024.03 1484.52 2020.86 1480.91 Q2017.71 1477.28 2017.71 1470.91 Q2017.71 1464.52 2020.86 1460.91 Q2024.03 1457.3 2029.61 1457.3 Z\" fill=\"#000000\" fill-rule=\"evenodd\" fill-opacity=\"1\" /><path clip-path=\"url(#clip170)\" d=\"M 0 0 M2052.78 1450.56 L2052.78 1457.93 L2061.55 1457.93 L2061.55 1461.24 L2052.78 1461.24 L2052.78 1475.31 Q2052.78 1478.48 2053.64 1479.38 Q2054.52 1480.29 2057.18 1480.29 L2061.55 1480.29 L2061.55 1483.85 L2057.18 1483.85 Q2052.25 1483.85 2050.37 1482.02 Q2048.5 1480.17 2048.5 1475.31 L2048.5 1461.24 L2045.37 1461.24 L2045.37 1457.93 L2048.5 1457.93 L2048.5 1450.56 L2052.78 1450.56 Z\" fill=\"#000000\" fill-rule=\"evenodd\" fill-opacity=\"1\" /><path clip-path=\"url(#clip170)\" d=\"M 0 0 M2071.37 1450.56 L2071.37 1457.93 L2080.14 1457.93 L2080.14 1461.24 L2071.37 1461.24 L2071.37 1475.31 Q2071.37 1478.48 2072.22 1479.38 Q2073.1 1480.29 2075.77 1480.29 L2080.14 1480.29 L2080.14 1483.85 L2075.77 1483.85 Q2070.84 1483.85 2068.96 1482.02 Q2067.09 1480.17 2067.09 1475.31 L2067.09 1461.24 L2063.96 1461.24 L2063.96 1457.93 L2067.09 1457.93 L2067.09 1450.56 L2071.37 1450.56 Z\" fill=\"#000000\" fill-rule=\"evenodd\" fill-opacity=\"1\" /><path clip-path=\"url(#clip170)\" d=\"M 0 0 M2095.79 1460.91 Q2092.36 1460.91 2090.37 1463.6 Q2088.38 1466.26 2088.38 1470.91 Q2088.38 1475.56 2090.35 1478.25 Q2092.34 1480.91 2095.79 1480.91 Q2099.19 1480.91 2101.18 1478.23 Q2103.17 1475.54 2103.17 1470.91 Q2103.17 1466.31 2101.18 1463.62 Q2099.19 1460.91 2095.79 1460.91 M2095.79 1457.3 Q2101.34 1457.3 2104.52 1460.91 Q2107.69 1464.52 2107.69 1470.91 Q2107.69 1477.28 2104.52 1480.91 Q2101.34 1484.52 2095.79 1484.52 Q2090.21 1484.52 2087.04 1480.91 Q2083.89 1477.28 2083.89 1470.91 Q2083.89 1464.52 2087.04 1460.91 Q2090.21 1457.3 2095.79 1457.3 Z\" fill=\"#000000\" fill-rule=\"evenodd\" fill-opacity=\"1\" /><path clip-path=\"url(#clip170)\" d=\"M 0 0 M2134.93 1462.9 Q2136.53 1460.03 2138.75 1458.67 Q2140.97 1457.3 2143.98 1457.3 Q2148.03 1457.3 2150.23 1460.15 Q2152.43 1462.97 2152.43 1468.2 L2152.43 1483.85 L2148.15 1483.85 L2148.15 1468.34 Q2148.15 1464.62 2146.83 1462.81 Q2145.51 1461 2142.8 1461 Q2139.49 1461 2137.57 1463.2 Q2135.65 1465.4 2135.65 1469.2 L2135.65 1483.85 L2131.37 1483.85 L2131.37 1468.34 Q2131.37 1464.59 2130.05 1462.81 Q2128.73 1461 2125.97 1461 Q2122.71 1461 2120.79 1463.23 Q2118.87 1465.43 2118.87 1469.2 L2118.87 1483.85 L2114.59 1483.85 L2114.59 1457.93 L2118.87 1457.93 L2118.87 1461.95 Q2120.33 1459.57 2122.36 1458.44 Q2124.4 1457.3 2127.2 1457.3 Q2130.02 1457.3 2131.99 1458.74 Q2133.98 1460.17 2134.93 1462.9 Z\" fill=\"#000000\" fill-rule=\"evenodd\" fill-opacity=\"1\" /><path clip-path=\"url(#clip170)\" d=\"M 0 0 M1234.4 1522.27 L1234.4 1532.4 L1246.47 1532.4 L1246.47 1536.95 L1234.4 1536.95 L1234.4 1556.3 Q1234.4 1560.66 1235.58 1561.9 Q1236.79 1563.14 1240.45 1563.14 L1246.47 1563.14 L1246.47 1568.04 L1240.45 1568.04 Q1233.67 1568.04 1231.09 1565.53 Q1228.52 1562.98 1228.52 1556.3 L1228.52 1536.95 L1224.22 1536.95 L1224.22 1532.4 L1228.52 1532.4 L1228.52 1522.27 L1234.4 1522.27 Z\" fill=\"#000000\" fill-rule=\"evenodd\" fill-opacity=\"1\" /><path clip-path=\"url(#clip170)\" d=\"M 0 0 M1254.17 1532.4 L1260.03 1532.4 L1260.03 1568.04 L1254.17 1568.04 L1254.17 1532.4 M1254.17 1518.52 L1260.03 1518.52 L1260.03 1525.93 L1254.17 1525.93 L1254.17 1518.52 Z\" fill=\"#000000\" fill-rule=\"evenodd\" fill-opacity=\"1\" /><path clip-path=\"url(#clip170)\" d=\"M 0 0 M1302.77 1548.76 L1302.77 1551.62 L1275.85 1551.62 Q1276.23 1557.67 1279.47 1560.85 Q1282.75 1564 1288.58 1564 Q1291.95 1564 1295.1 1563.17 Q1298.28 1562.35 1301.4 1560.69 L1301.4 1566.23 Q1298.25 1567.57 1294.94 1568.27 Q1291.63 1568.97 1288.23 1568.97 Q1279.7 1568.97 1274.7 1564 Q1269.73 1559.04 1269.73 1550.57 Q1269.73 1541.82 1274.44 1536.69 Q1279.19 1531.54 1287.21 1531.54 Q1294.4 1531.54 1298.57 1536.18 Q1302.77 1540.8 1302.77 1548.76 M1296.92 1547.04 Q1296.85 1542.23 1294.21 1539.37 Q1291.6 1536.5 1287.27 1536.5 Q1282.37 1536.5 1279.41 1539.27 Q1276.48 1542.04 1276.04 1547.07 L1296.92 1547.04 Z\" fill=\"#000000\" fill-rule=\"evenodd\" fill-opacity=\"1\" /><path clip-path=\"url(#clip170)\" d=\"M 0 0 M1333.04 1537.87 Q1332.05 1537.3 1330.88 1537.04 Q1329.73 1536.76 1328.33 1536.76 Q1323.37 1536.76 1320.69 1540 Q1318.05 1543.22 1318.05 1549.27 L1318.05 1568.04 L1312.16 1568.04 L1312.16 1532.4 L1318.05 1532.4 L1318.05 1537.93 Q1319.9 1534.69 1322.86 1533.13 Q1325.82 1531.54 1330.05 1531.54 Q1330.65 1531.54 1331.39 1531.63 Q1332.12 1531.7 1333.01 1531.85 L1333.04 1537.87 Z\" fill=\"#000000\" fill-rule=\"evenodd\" fill-opacity=\"1\" /><path clip-path=\"url(#clip170)\" d=\"M 0 0 M1361.91 1533.45 L1361.91 1538.98 Q1359.43 1537.71 1356.75 1537.07 Q1354.08 1536.44 1351.22 1536.44 Q1346.85 1536.44 1344.66 1537.77 Q1342.49 1539.11 1342.49 1541.79 Q1342.49 1543.82 1344.05 1545 Q1345.61 1546.15 1350.32 1547.2 L1352.33 1547.64 Q1358.57 1548.98 1361.18 1551.43 Q1363.82 1553.85 1363.82 1558.21 Q1363.82 1563.17 1359.87 1566.07 Q1355.96 1568.97 1349.08 1568.97 Q1346.22 1568.97 1343.1 1568.39 Q1340.01 1567.85 1336.57 1566.74 L1336.57 1560.69 Q1339.82 1562.38 1342.97 1563.24 Q1346.12 1564.07 1349.21 1564.07 Q1353.35 1564.07 1355.58 1562.66 Q1357.8 1561.23 1357.8 1558.65 Q1357.8 1556.27 1356.18 1554.99 Q1354.59 1553.72 1349.15 1552.54 L1347.11 1552.07 Q1341.67 1550.92 1339.25 1548.56 Q1336.83 1546.18 1336.83 1542.04 Q1336.83 1537.01 1340.39 1534.27 Q1343.96 1531.54 1350.52 1531.54 Q1353.76 1531.54 1356.63 1532.01 Q1359.49 1532.49 1361.91 1533.45 Z\" fill=\"#000000\" fill-rule=\"evenodd\" fill-opacity=\"1\" /><polyline clip-path=\"url(#clip172)\" style=\"stroke:#000000; stroke-width:2; stroke-opacity:0.1; fill:none\" points=\"\n",
       "  235.283,1273.24 2352.76,1273.24 \n",
       "  \"/>\n",
       "<polyline clip-path=\"url(#clip172)\" style=\"stroke:#000000; stroke-width:2; stroke-opacity:0.1; fill:none\" points=\"\n",
       "  235.283,1008.25 2352.76,1008.25 \n",
       "  \"/>\n",
       "<polyline clip-path=\"url(#clip172)\" style=\"stroke:#000000; stroke-width:2; stroke-opacity:0.1; fill:none\" points=\"\n",
       "  235.283,743.249 2352.76,743.249 \n",
       "  \"/>\n",
       "<polyline clip-path=\"url(#clip172)\" style=\"stroke:#000000; stroke-width:2; stroke-opacity:0.1; fill:none\" points=\"\n",
       "  235.283,478.252 2352.76,478.252 \n",
       "  \"/>\n",
       "<polyline clip-path=\"url(#clip172)\" style=\"stroke:#000000; stroke-width:2; stroke-opacity:0.1; fill:none\" points=\"\n",
       "  235.283,213.256 2352.76,213.256 \n",
       "  \"/>\n",
       "<polyline clip-path=\"url(#clip170)\" style=\"stroke:#000000; stroke-width:4; stroke-opacity:1; fill:none\" points=\"\n",
       "  235.283,1423.18 235.283,123.472 \n",
       "  \"/>\n",
       "<polyline clip-path=\"url(#clip170)\" style=\"stroke:#000000; stroke-width:4; stroke-opacity:1; fill:none\" points=\"\n",
       "  235.283,1273.24 260.693,1273.24 \n",
       "  \"/>\n",
       "<polyline clip-path=\"url(#clip170)\" style=\"stroke:#000000; stroke-width:4; stroke-opacity:1; fill:none\" points=\"\n",
       "  235.283,1008.25 260.693,1008.25 \n",
       "  \"/>\n",
       "<polyline clip-path=\"url(#clip170)\" style=\"stroke:#000000; stroke-width:4; stroke-opacity:1; fill:none\" points=\"\n",
       "  235.283,743.249 260.693,743.249 \n",
       "  \"/>\n",
       "<polyline clip-path=\"url(#clip170)\" style=\"stroke:#000000; stroke-width:4; stroke-opacity:1; fill:none\" points=\"\n",
       "  235.283,478.252 260.693,478.252 \n",
       "  \"/>\n",
       "<polyline clip-path=\"url(#clip170)\" style=\"stroke:#000000; stroke-width:4; stroke-opacity:1; fill:none\" points=\"\n",
       "  235.283,213.256 260.693,213.256 \n",
       "  \"/>\n",
       "<path clip-path=\"url(#clip170)\" d=\"M 0 0 M117.825 1286.59 L125.464 1286.59 L125.464 1260.22 L117.154 1261.89 L117.154 1257.63 L125.418 1255.96 L130.093 1255.96 L130.093 1286.59 L137.732 1286.59 L137.732 1290.52 L117.825 1290.52 L117.825 1286.59 Z\" fill=\"#000000\" fill-rule=\"evenodd\" fill-opacity=\"1\" /><path clip-path=\"url(#clip170)\" d=\"M 0 0 M157.177 1259.04 Q153.566 1259.04 151.737 1262.61 Q149.931 1266.15 149.931 1273.28 Q149.931 1280.38 151.737 1283.95 Q153.566 1287.49 157.177 1287.49 Q160.811 1287.49 162.616 1283.95 Q164.445 1280.38 164.445 1273.28 Q164.445 1266.15 162.616 1262.61 Q160.811 1259.04 157.177 1259.04 M157.177 1255.34 Q162.987 1255.34 166.042 1259.94 Q169.121 1264.53 169.121 1273.28 Q169.121 1282 166.042 1286.61 Q162.987 1291.19 157.177 1291.19 Q151.366 1291.19 148.288 1286.61 Q145.232 1282 145.232 1273.28 Q145.232 1264.53 148.288 1259.94 Q151.366 1255.34 157.177 1255.34 Z\" fill=\"#000000\" fill-rule=\"evenodd\" fill-opacity=\"1\" /><path clip-path=\"url(#clip170)\" d=\"M 0 0 M187.338 1259.04 Q183.727 1259.04 181.899 1262.61 Q180.093 1266.15 180.093 1273.28 Q180.093 1280.38 181.899 1283.95 Q183.727 1287.49 187.338 1287.49 Q190.973 1287.49 192.778 1283.95 Q194.607 1280.38 194.607 1273.28 Q194.607 1266.15 192.778 1262.61 Q190.973 1259.04 187.338 1259.04 M187.338 1255.34 Q193.149 1255.34 196.204 1259.94 Q199.283 1264.53 199.283 1273.28 Q199.283 1282 196.204 1286.61 Q193.149 1291.19 187.338 1291.19 Q181.528 1291.19 178.45 1286.61 Q175.394 1282 175.394 1273.28 Q175.394 1264.53 178.45 1259.94 Q181.528 1255.34 187.338 1255.34 Z\" fill=\"#000000\" fill-rule=\"evenodd\" fill-opacity=\"1\" /><path clip-path=\"url(#clip170)\" d=\"M 0 0 M121.043 1021.59 L137.362 1021.59 L137.362 1025.53 L115.418 1025.53 L115.418 1021.59 Q118.08 1018.84 122.663 1014.21 Q127.269 1009.55 128.45 1008.21 Q130.695 1005.69 131.575 1003.95 Q132.478 1002.19 132.478 1000.5 Q132.478 997.748 130.533 996.012 Q128.612 994.276 125.51 994.276 Q123.311 994.276 120.857 995.04 Q118.427 995.803 115.649 997.354 L115.649 992.632 Q118.473 991.498 120.927 990.919 Q123.38 990.34 125.418 990.34 Q130.788 990.34 133.982 993.026 Q137.177 995.711 137.177 1000.2 Q137.177 1002.33 136.367 1004.25 Q135.579 1006.15 133.473 1008.74 Q132.894 1009.41 129.792 1012.63 Q126.691 1015.83 121.043 1021.59 Z\" fill=\"#000000\" fill-rule=\"evenodd\" fill-opacity=\"1\" /><path clip-path=\"url(#clip170)\" d=\"M 0 0 M157.177 994.044 Q153.566 994.044 151.737 997.609 Q149.931 1001.15 149.931 1008.28 Q149.931 1015.39 151.737 1018.95 Q153.566 1022.49 157.177 1022.49 Q160.811 1022.49 162.616 1018.95 Q164.445 1015.39 164.445 1008.28 Q164.445 1001.15 162.616 997.609 Q160.811 994.044 157.177 994.044 M157.177 990.34 Q162.987 990.34 166.042 994.947 Q169.121 999.53 169.121 1008.28 Q169.121 1017.01 166.042 1021.61 Q162.987 1026.2 157.177 1026.2 Q151.366 1026.2 148.288 1021.61 Q145.232 1017.01 145.232 1008.28 Q145.232 999.53 148.288 994.947 Q151.366 990.34 157.177 990.34 Z\" fill=\"#000000\" fill-rule=\"evenodd\" fill-opacity=\"1\" /><path clip-path=\"url(#clip170)\" d=\"M 0 0 M187.338 994.044 Q183.727 994.044 181.899 997.609 Q180.093 1001.15 180.093 1008.28 Q180.093 1015.39 181.899 1018.95 Q183.727 1022.49 187.338 1022.49 Q190.973 1022.49 192.778 1018.95 Q194.607 1015.39 194.607 1008.28 Q194.607 1001.15 192.778 997.609 Q190.973 994.044 187.338 994.044 M187.338 990.34 Q193.149 990.34 196.204 994.947 Q199.283 999.53 199.283 1008.28 Q199.283 1017.01 196.204 1021.61 Q193.149 1026.2 187.338 1026.2 Q181.528 1026.2 178.45 1021.61 Q175.394 1017.01 175.394 1008.28 Q175.394 999.53 178.45 994.947 Q181.528 990.34 187.338 990.34 Z\" fill=\"#000000\" fill-rule=\"evenodd\" fill-opacity=\"1\" /><path clip-path=\"url(#clip170)\" d=\"M 0 0 M131.181 741.895 Q134.538 742.612 136.413 744.881 Q138.311 747.149 138.311 750.483 Q138.311 755.598 134.792 758.399 Q131.274 761.2 124.793 761.2 Q122.617 761.2 120.302 760.76 Q118.01 760.344 115.556 759.487 L115.556 754.973 Q117.501 756.108 119.816 756.686 Q122.13 757.265 124.654 757.265 Q129.052 757.265 131.343 755.529 Q133.658 753.793 133.658 750.483 Q133.658 747.427 131.505 745.714 Q129.376 743.978 125.556 743.978 L121.529 743.978 L121.529 740.135 L125.742 740.135 Q129.191 740.135 131.019 738.77 Q132.848 737.381 132.848 734.788 Q132.848 732.126 130.95 730.714 Q129.075 729.279 125.556 729.279 Q123.635 729.279 121.436 729.696 Q119.237 730.112 116.598 730.992 L116.598 726.825 Q119.26 726.085 121.575 725.714 Q123.913 725.344 125.973 725.344 Q131.297 725.344 134.399 727.774 Q137.501 730.182 137.501 734.302 Q137.501 737.173 135.857 739.163 Q134.214 741.131 131.181 741.895 Z\" fill=\"#000000\" fill-rule=\"evenodd\" fill-opacity=\"1\" /><path clip-path=\"url(#clip170)\" d=\"M 0 0 M157.177 729.048 Q153.566 729.048 151.737 732.612 Q149.931 736.154 149.931 743.284 Q149.931 750.39 151.737 753.955 Q153.566 757.496 157.177 757.496 Q160.811 757.496 162.616 753.955 Q164.445 750.39 164.445 743.284 Q164.445 736.154 162.616 732.612 Q160.811 729.048 157.177 729.048 M157.177 725.344 Q162.987 725.344 166.042 729.95 Q169.121 734.534 169.121 743.284 Q169.121 752.01 166.042 756.617 Q162.987 761.2 157.177 761.2 Q151.366 761.2 148.288 756.617 Q145.232 752.01 145.232 743.284 Q145.232 734.534 148.288 729.95 Q151.366 725.344 157.177 725.344 Z\" fill=\"#000000\" fill-rule=\"evenodd\" fill-opacity=\"1\" /><path clip-path=\"url(#clip170)\" d=\"M 0 0 M187.338 729.048 Q183.727 729.048 181.899 732.612 Q180.093 736.154 180.093 743.284 Q180.093 750.39 181.899 753.955 Q183.727 757.496 187.338 757.496 Q190.973 757.496 192.778 753.955 Q194.607 750.39 194.607 743.284 Q194.607 736.154 192.778 732.612 Q190.973 729.048 187.338 729.048 M187.338 725.344 Q193.149 725.344 196.204 729.95 Q199.283 734.534 199.283 743.284 Q199.283 752.01 196.204 756.617 Q193.149 761.2 187.338 761.2 Q181.528 761.2 178.45 756.617 Q175.394 752.01 175.394 743.284 Q175.394 734.534 178.45 729.95 Q181.528 725.344 187.338 725.344 Z\" fill=\"#000000\" fill-rule=\"evenodd\" fill-opacity=\"1\" /><path clip-path=\"url(#clip170)\" d=\"M 0 0 M129.862 465.046 L118.056 483.495 L129.862 483.495 L129.862 465.046 M128.635 460.972 L134.515 460.972 L134.515 483.495 L139.445 483.495 L139.445 487.384 L134.515 487.384 L134.515 495.532 L129.862 495.532 L129.862 487.384 L114.26 487.384 L114.26 482.87 L128.635 460.972 Z\" fill=\"#000000\" fill-rule=\"evenodd\" fill-opacity=\"1\" /><path clip-path=\"url(#clip170)\" d=\"M 0 0 M157.177 464.051 Q153.566 464.051 151.737 467.616 Q149.931 471.157 149.931 478.287 Q149.931 485.393 151.737 488.958 Q153.566 492.5 157.177 492.5 Q160.811 492.5 162.616 488.958 Q164.445 485.393 164.445 478.287 Q164.445 471.157 162.616 467.616 Q160.811 464.051 157.177 464.051 M157.177 460.347 Q162.987 460.347 166.042 464.954 Q169.121 469.537 169.121 478.287 Q169.121 487.014 166.042 491.62 Q162.987 496.204 157.177 496.204 Q151.366 496.204 148.288 491.62 Q145.232 487.014 145.232 478.287 Q145.232 469.537 148.288 464.954 Q151.366 460.347 157.177 460.347 Z\" fill=\"#000000\" fill-rule=\"evenodd\" fill-opacity=\"1\" /><path clip-path=\"url(#clip170)\" d=\"M 0 0 M187.338 464.051 Q183.727 464.051 181.899 467.616 Q180.093 471.157 180.093 478.287 Q180.093 485.393 181.899 488.958 Q183.727 492.5 187.338 492.5 Q190.973 492.5 192.778 488.958 Q194.607 485.393 194.607 478.287 Q194.607 471.157 192.778 467.616 Q190.973 464.051 187.338 464.051 M187.338 460.347 Q193.149 460.347 196.204 464.954 Q199.283 469.537 199.283 478.287 Q199.283 487.014 196.204 491.62 Q193.149 496.204 187.338 496.204 Q181.528 496.204 178.45 491.62 Q175.394 487.014 175.394 478.287 Q175.394 469.537 178.45 464.954 Q181.528 460.347 187.338 460.347 Z\" fill=\"#000000\" fill-rule=\"evenodd\" fill-opacity=\"1\" /><path clip-path=\"url(#clip170)\" d=\"M 0 0 M117.061 195.976 L135.417 195.976 L135.417 199.911 L121.343 199.911 L121.343 208.383 Q122.362 208.036 123.38 207.874 Q124.399 207.689 125.418 207.689 Q131.205 207.689 134.584 210.86 Q137.964 214.031 137.964 219.448 Q137.964 225.026 134.492 228.128 Q131.019 231.207 124.7 231.207 Q122.524 231.207 120.255 230.837 Q118.01 230.466 115.603 229.725 L115.603 225.026 Q117.686 226.161 119.908 226.716 Q122.13 227.272 124.607 227.272 Q128.612 227.272 130.95 225.165 Q133.288 223.059 133.288 219.448 Q133.288 215.837 130.95 213.73 Q128.612 211.624 124.607 211.624 Q122.732 211.624 120.857 212.04 Q119.006 212.457 117.061 213.337 L117.061 195.976 Z\" fill=\"#000000\" fill-rule=\"evenodd\" fill-opacity=\"1\" /><path clip-path=\"url(#clip170)\" d=\"M 0 0 M157.177 199.054 Q153.566 199.054 151.737 202.619 Q149.931 206.161 149.931 213.29 Q149.931 220.397 151.737 223.962 Q153.566 227.503 157.177 227.503 Q160.811 227.503 162.616 223.962 Q164.445 220.397 164.445 213.29 Q164.445 206.161 162.616 202.619 Q160.811 199.054 157.177 199.054 M157.177 195.351 Q162.987 195.351 166.042 199.957 Q169.121 204.54 169.121 213.29 Q169.121 222.017 166.042 226.624 Q162.987 231.207 157.177 231.207 Q151.366 231.207 148.288 226.624 Q145.232 222.017 145.232 213.29 Q145.232 204.54 148.288 199.957 Q151.366 195.351 157.177 195.351 Z\" fill=\"#000000\" fill-rule=\"evenodd\" fill-opacity=\"1\" /><path clip-path=\"url(#clip170)\" d=\"M 0 0 M187.338 199.054 Q183.727 199.054 181.899 202.619 Q180.093 206.161 180.093 213.29 Q180.093 220.397 181.899 223.962 Q183.727 227.503 187.338 227.503 Q190.973 227.503 192.778 223.962 Q194.607 220.397 194.607 213.29 Q194.607 206.161 192.778 202.619 Q190.973 199.054 187.338 199.054 M187.338 195.351 Q193.149 195.351 196.204 199.957 Q199.283 204.54 199.283 213.29 Q199.283 222.017 196.204 226.624 Q193.149 231.207 187.338 231.207 Q181.528 231.207 178.45 226.624 Q175.394 222.017 175.394 213.29 Q175.394 204.54 178.45 199.957 Q181.528 195.351 187.338 195.351 Z\" fill=\"#000000\" fill-rule=\"evenodd\" fill-opacity=\"1\" /><path clip-path=\"url(#clip170)\" d=\"M 0 0 M29.7248 1086.82 L35.1993 1086.82 Q33.8307 1089.3 33.1623 1091.82 Q32.4621 1094.3 32.4621 1096.85 Q32.4621 1102.54 36.0905 1105.7 Q39.6872 1108.85 46.212 1108.85 Q52.7369 1108.85 56.3653 1105.7 Q59.9619 1102.54 59.9619 1096.85 Q59.9619 1094.3 59.2935 1091.82 Q58.5933 1089.3 57.2247 1086.82 L62.6355 1086.82 Q63.7814 1089.27 64.3543 1091.91 Q64.9272 1094.52 64.9272 1097.48 Q64.9272 1105.54 59.8664 1110.28 Q54.8057 1115.02 46.212 1115.02 Q37.491 1115.02 32.4939 1110.25 Q27.4968 1105.44 27.4968 1097.1 Q27.4968 1094.4 28.0697 1091.82 Q28.6108 1089.24 29.7248 1086.82 Z\" fill=\"#000000\" fill-rule=\"evenodd\" fill-opacity=\"1\" /><path clip-path=\"url(#clip170)\" d=\"M 0 0 M49.9359 1077.24 L28.3562 1077.24 L28.3562 1071.38 L49.7131 1071.38 Q54.7739 1071.38 57.3202 1069.41 Q59.8346 1067.44 59.8346 1063.49 Q59.8346 1058.75 56.8109 1056.01 Q53.7872 1053.24 48.5673 1053.24 L28.3562 1053.24 L28.3562 1047.39 L64.0042 1047.39 L64.0042 1053.24 L58.5296 1053.24 Q61.7762 1055.37 63.3676 1058.21 Q64.9272 1061.01 64.9272 1064.73 Q64.9272 1070.88 61.1078 1074.06 Q57.2883 1077.24 49.9359 1077.24 M27.4968 1062.5 L27.4968 1062.5 Z\" fill=\"#000000\" fill-rule=\"evenodd\" fill-opacity=\"1\" /><path clip-path=\"url(#clip170)\" d=\"M 0 0 M33.8307 1014.67 Q33.2578 1015.65 33.0032 1016.83 Q32.7167 1017.98 32.7167 1019.38 Q32.7167 1024.34 35.9632 1027.02 Q39.1779 1029.66 45.2253 1029.66 L64.0042 1029.66 L64.0042 1035.55 L28.3562 1035.55 L28.3562 1029.66 L33.8944 1029.66 Q30.6479 1027.81 29.0883 1024.85 Q27.4968 1021.89 27.4968 1017.66 Q27.4968 1017.05 27.5923 1016.32 Q27.656 1015.59 27.8151 1014.7 L33.8307 1014.67 Z\" fill=\"#000000\" fill-rule=\"evenodd\" fill-opacity=\"1\" /><path clip-path=\"url(#clip170)\" d=\"M 0 0 M33.8307 989.012 Q33.2578 989.999 33.0032 991.176 Q32.7167 992.322 32.7167 993.723 Q32.7167 998.688 35.9632 1001.36 Q39.1779 1004 45.2253 1004 L64.0042 1004 L64.0042 1009.89 L28.3562 1009.89 L28.3562 1004 L33.8944 1004 Q30.6479 1002.16 29.0883 999.197 Q27.4968 996.237 27.4968 992.004 Q27.4968 991.399 27.5923 990.667 Q27.656 989.935 27.8151 989.044 L33.8307 989.012 Z\" fill=\"#000000\" fill-rule=\"evenodd\" fill-opacity=\"1\" /><path clip-path=\"url(#clip170)\" d=\"M 0 0 M28.3562 982.869 L28.3562 977.013 L64.0042 977.013 L64.0042 982.869 L28.3562 982.869 M14.479 982.869 L14.479 977.013 L21.895 977.013 L21.895 982.869 L14.479 982.869 Z\" fill=\"#000000\" fill-rule=\"evenodd\" fill-opacity=\"1\" /><path clip-path=\"url(#clip170)\" d=\"M 0 0 M29.7248 939.105 L35.1993 939.105 Q33.8307 941.588 33.1623 944.102 Q32.4621 946.585 32.4621 949.131 Q32.4621 954.828 36.0905 957.979 Q39.6872 961.13 46.212 961.13 Q52.7369 961.13 56.3653 957.979 Q59.9619 954.828 59.9619 949.131 Q59.9619 946.585 59.2935 944.102 Q58.5933 941.588 57.2247 939.105 L62.6355 939.105 Q63.7814 941.556 64.3543 944.197 Q64.9272 946.807 64.9272 949.767 Q64.9272 957.82 59.8664 962.563 Q54.8057 967.305 46.212 967.305 Q37.491 967.305 32.4939 962.531 Q27.4968 957.725 27.4968 949.386 Q27.4968 946.68 28.0697 944.102 Q28.6108 941.524 29.7248 939.105 Z\" fill=\"#000000\" fill-rule=\"evenodd\" fill-opacity=\"1\" /><path clip-path=\"url(#clip170)\" d=\"M 0 0 M49.9359 929.525 L28.3562 929.525 L28.3562 923.668 L49.7131 923.668 Q54.7739 923.668 57.3202 921.695 Q59.8346 919.721 59.8346 915.775 Q59.8346 911.032 56.8109 908.295 Q53.7872 905.526 48.5673 905.526 L28.3562 905.526 L28.3562 899.669 L64.0042 899.669 L64.0042 905.526 L58.5296 905.526 Q61.7762 907.658 63.3676 910.491 Q64.9272 913.292 64.9272 917.016 Q64.9272 923.159 61.1078 926.342 Q57.2883 929.525 49.9359 929.525 M27.4968 914.788 L27.4968 914.788 Z\" fill=\"#000000\" fill-rule=\"evenodd\" fill-opacity=\"1\" /><path clip-path=\"url(#clip170)\" d=\"M 0 0 M14.479 887.606 L14.479 881.75 L64.0042 881.75 L64.0042 887.606 L14.479 887.606 Z\" fill=\"#000000\" fill-rule=\"evenodd\" fill-opacity=\"1\" /><path clip-path=\"url(#clip170)\" d=\"M 0 0 M46.0847 853.295 Q46.0847 860.393 47.7079 863.13 Q49.3312 865.867 53.2461 865.867 Q56.3653 865.867 58.2114 863.83 Q60.0256 861.762 60.0256 858.229 Q60.0256 853.359 56.5881 850.431 Q53.1188 847.471 47.3897 847.471 L46.0847 847.471 L46.0847 853.295 M43.6657 841.614 L64.0042 841.614 L64.0042 847.471 L58.5933 847.471 Q61.8398 849.476 63.3994 852.468 Q64.9272 855.46 64.9272 859.788 Q64.9272 865.263 61.8716 868.509 Q58.7843 871.724 53.6281 871.724 Q47.6125 871.724 44.5569 867.713 Q41.5014 863.671 41.5014 855.682 L41.5014 847.471 L40.9285 847.471 Q36.8862 847.471 34.6901 850.144 Q32.4621 852.786 32.4621 857.592 Q32.4621 860.648 33.1941 863.544 Q33.9262 866.44 35.3903 869.114 L29.9795 869.114 Q28.7381 865.899 28.1334 862.876 Q27.4968 859.852 27.4968 856.987 Q27.4968 849.253 31.5072 845.434 Q35.5176 841.614 43.6657 841.614 Z\" fill=\"#000000\" fill-rule=\"evenodd\" fill-opacity=\"1\" /><path clip-path=\"url(#clip170)\" d=\"M 0 0 M33.8307 808.894 Q33.2578 809.881 33.0032 811.059 Q32.7167 812.205 32.7167 813.605 Q32.7167 818.57 35.9632 821.244 Q39.1779 823.886 45.2253 823.886 L64.0042 823.886 L64.0042 829.774 L28.3562 829.774 L28.3562 823.886 L33.8944 823.886 Q30.6479 822.04 29.0883 819.08 Q27.4968 816.119 27.4968 811.886 Q27.4968 811.282 27.5923 810.549 Q27.656 809.817 27.8151 808.926 L33.8307 808.894 Z\" fill=\"#000000\" fill-rule=\"evenodd\" fill-opacity=\"1\" /><path clip-path=\"url(#clip170)\" d=\"M 0 0 M29.7248 756.377 L35.1993 756.377 Q33.8307 758.86 33.1623 761.374 Q32.4621 763.857 32.4621 766.403 Q32.4621 772.101 36.0905 775.252 Q39.6872 778.403 46.212 778.403 Q52.7369 778.403 56.3653 775.252 Q59.9619 772.101 59.9619 766.403 Q59.9619 763.857 59.2935 761.374 Q58.5933 758.86 57.2247 756.377 L62.6355 756.377 Q63.7814 758.828 64.3543 761.47 Q64.9272 764.08 64.9272 767.04 Q64.9272 775.092 59.8664 779.835 Q54.8057 784.577 46.212 784.577 Q37.491 784.577 32.4939 779.803 Q27.4968 774.997 27.4968 766.658 Q27.4968 763.952 28.0697 761.374 Q28.6108 758.796 29.7248 756.377 Z\" fill=\"#000000\" fill-rule=\"evenodd\" fill-opacity=\"1\" /><path clip-path=\"url(#clip170)\" d=\"M 0 0 M32.4621 732.379 Q32.4621 737.089 36.1542 739.826 Q39.8145 742.564 46.212 742.564 Q52.6095 742.564 56.3017 739.858 Q59.9619 737.121 59.9619 732.379 Q59.9619 727.7 56.2698 724.963 Q52.5777 722.225 46.212 722.225 Q39.8781 722.225 36.186 724.963 Q32.4621 727.7 32.4621 732.379 M27.4968 732.379 Q27.4968 724.74 32.4621 720.379 Q37.4273 716.019 46.212 716.019 Q54.9649 716.019 59.9619 720.379 Q64.9272 724.74 64.9272 732.379 Q64.9272 740.049 59.9619 744.41 Q54.9649 748.738 46.212 748.738 Q37.4273 748.738 32.4621 744.41 Q27.4968 740.049 27.4968 732.379 Z\" fill=\"#000000\" fill-rule=\"evenodd\" fill-opacity=\"1\" /><path clip-path=\"url(#clip170)\" d=\"M 0 0 M35.1993 678.557 Q31.2526 676.36 29.3747 673.305 Q27.4968 670.249 27.4968 666.112 Q27.4968 660.542 31.4117 657.518 Q35.2948 654.494 42.4881 654.494 L64.0042 654.494 L64.0042 660.382 L42.679 660.382 Q37.5546 660.382 35.072 662.197 Q32.5894 664.011 32.5894 667.735 Q32.5894 672.286 35.6131 674.928 Q38.6368 677.57 43.8567 677.57 L64.0042 677.57 L64.0042 683.458 L42.679 683.458 Q37.5228 683.458 35.072 685.272 Q32.5894 687.087 32.5894 690.874 Q32.5894 695.362 35.6449 698.004 Q38.6686 700.646 43.8567 700.646 L64.0042 700.646 L64.0042 706.534 L28.3562 706.534 L28.3562 700.646 L33.8944 700.646 Q30.616 698.64 29.0564 695.839 Q27.4968 693.039 27.4968 689.187 Q27.4968 685.304 29.4702 682.599 Q31.4436 679.861 35.1993 678.557 Z\" fill=\"#000000\" fill-rule=\"evenodd\" fill-opacity=\"1\" /><path clip-path=\"url(#clip170)\" d=\"M 0 0 M58.657 637.148 L77.5631 637.148 L77.5631 643.036 L28.3562 643.036 L28.3562 637.148 L33.7671 637.148 Q30.5842 635.302 29.0564 632.501 Q27.4968 629.668 27.4968 625.753 Q27.4968 619.26 32.6531 615.218 Q37.8093 611.144 46.212 611.144 Q54.6147 611.144 59.771 615.218 Q64.9272 619.26 64.9272 625.753 Q64.9272 629.668 63.3994 632.501 Q61.8398 635.302 58.657 637.148 M46.212 617.223 Q39.7508 617.223 36.0905 619.897 Q32.3984 622.538 32.3984 627.185 Q32.3984 631.832 36.0905 634.506 Q39.7508 637.148 46.212 637.148 Q52.6732 637.148 56.3653 634.506 Q60.0256 631.832 60.0256 627.185 Q60.0256 622.538 56.3653 619.897 Q52.6732 617.223 46.212 617.223 Z\" fill=\"#000000\" fill-rule=\"evenodd\" fill-opacity=\"1\" /><path clip-path=\"url(#clip170)\" d=\"M 0 0 M14.479 601.436 L14.479 595.58 L64.0042 595.58 L64.0042 601.436 L14.479 601.436 Z\" fill=\"#000000\" fill-rule=\"evenodd\" fill-opacity=\"1\" /><path clip-path=\"url(#clip170)\" d=\"M 0 0 M44.7161 552.834 L47.5806 552.834 L47.5806 579.761 Q53.6281 579.379 56.8109 576.132 Q59.9619 572.854 59.9619 567.029 Q59.9619 563.656 59.1344 560.504 Q58.3069 557.322 56.6518 554.202 L62.1899 554.202 Q63.5267 557.353 64.227 560.664 Q64.9272 563.974 64.9272 567.379 Q64.9272 575.91 59.9619 580.907 Q54.9967 585.872 46.5303 585.872 Q37.7774 585.872 32.6531 581.161 Q27.4968 576.419 27.4968 568.398 Q27.4968 561.205 32.1438 557.035 Q36.7589 552.834 44.7161 552.834 M42.9973 558.69 Q38.1912 558.754 35.3266 561.396 Q32.4621 564.006 32.4621 568.334 Q32.4621 573.236 35.2312 576.196 Q38.0002 579.124 43.0292 579.57 L42.9973 558.69 Z\" fill=\"#000000\" fill-rule=\"evenodd\" fill-opacity=\"1\" /><path clip-path=\"url(#clip170)\" d=\"M 0 0 M28.3562 514.735 L45.7028 527.626 L64.0042 514.067 L64.0042 520.973 L49.9996 531.35 L64.0042 541.726 L64.0042 548.632 L45.3526 534.787 L28.3562 547.455 L28.3562 540.548 L41.0558 531.095 L28.3562 521.642 L28.3562 514.735 Z\" fill=\"#000000\" fill-rule=\"evenodd\" fill-opacity=\"1\" /><path clip-path=\"url(#clip170)\" d=\"M 0 0 M28.3562 505.791 L28.3562 499.935 L64.0042 499.935 L64.0042 505.791 L28.3562 505.791 M14.479 505.791 L14.479 499.935 L21.895 499.935 L21.895 505.791 L14.479 505.791 Z\" fill=\"#000000\" fill-rule=\"evenodd\" fill-opacity=\"1\" /><path clip-path=\"url(#clip170)\" d=\"M 0 0 M18.2347 481.888 L28.3562 481.888 L28.3562 469.825 L32.9077 469.825 L32.9077 481.888 L52.2594 481.888 Q56.6199 481.888 57.8613 480.71 Q59.1026 479.501 59.1026 475.841 L59.1026 469.825 L64.0042 469.825 L64.0042 475.841 Q64.0042 482.62 61.4897 485.198 Q58.9434 487.776 52.2594 487.776 L32.9077 487.776 L32.9077 492.073 L28.3562 492.073 L28.3562 487.776 L18.2347 487.776 L18.2347 481.888 Z\" fill=\"#000000\" fill-rule=\"evenodd\" fill-opacity=\"1\" /><path clip-path=\"url(#clip170)\" d=\"M 0 0 M67.3143 447.29 Q73.68 449.773 75.6216 452.128 Q77.5631 454.484 77.5631 458.43 L77.5631 463.109 L72.6615 463.109 L72.6615 459.672 Q72.6615 457.253 71.5157 455.916 Q70.3699 454.579 66.1048 452.956 L63.4312 451.906 L28.3562 466.324 L28.3562 460.117 L56.238 448.977 L28.3562 437.837 L28.3562 431.631 L67.3143 447.29 Z\" fill=\"#000000\" fill-rule=\"evenodd\" fill-opacity=\"1\" /><path clip-path=\"url(#clip170)\" d=\"M 0 0 M637.57 12.096 L675.811 12.096 L675.811 18.9825 L645.753 18.9825 L645.753 36.8875 L674.555 36.8875 L674.555 43.7741 L645.753 43.7741 L645.753 65.6895 L676.54 65.6895 L676.54 72.576 L637.57 72.576 L637.57 12.096 Z\" fill=\"#000000\" fill-rule=\"evenodd\" fill-opacity=\"1\" /><path clip-path=\"url(#clip170)\" d=\"M 0 0 M689.665 9.54393 L697.119 9.54393 L697.119 72.576 L689.665 72.576 L689.665 9.54393 Z\" fill=\"#000000\" fill-rule=\"evenodd\" fill-opacity=\"1\" /><path clip-path=\"url(#clip170)\" d=\"M 0 0 M751.522 48.0275 L751.522 51.6733 L717.252 51.6733 Q717.738 59.3701 721.87 63.421 Q726.042 67.4314 733.455 67.4314 Q737.749 67.4314 741.76 66.3781 Q745.811 65.3249 749.78 63.2184 L749.78 70.267 Q745.77 71.9684 741.557 72.8596 Q737.344 73.7508 733.01 73.7508 Q722.153 73.7508 715.793 67.4314 Q709.474 61.1119 709.474 50.3365 Q709.474 39.1965 715.469 32.6746 Q721.505 26.1121 731.713 26.1121 Q740.868 26.1121 746.175 32.0264 Q751.522 37.9003 751.522 48.0275 M744.069 45.84 Q743.988 39.7232 740.625 36.0774 Q737.304 32.4315 731.794 32.4315 Q725.556 32.4315 721.789 35.9558 Q718.062 39.4801 717.495 45.8805 L744.069 45.84 Z\" fill=\"#000000\" fill-rule=\"evenodd\" fill-opacity=\"1\" /><path clip-path=\"url(#clip170)\" d=\"M 0 0 M796.406 28.9478 L796.406 35.9153 Q793.247 34.1734 790.046 33.3227 Q786.887 32.4315 783.646 32.4315 Q776.395 32.4315 772.384 37.0496 Q768.374 41.6271 768.374 49.9314 Q768.374 58.2358 772.384 62.8538 Q776.395 67.4314 783.646 67.4314 Q786.887 67.4314 790.046 66.5807 Q793.247 65.6895 796.406 63.9476 L796.406 70.8341 Q793.287 72.2924 789.925 73.0216 Q786.603 73.7508 782.836 73.7508 Q772.587 73.7508 766.551 67.3098 Q760.515 60.8689 760.515 49.9314 Q760.515 38.832 766.592 32.472 Q772.709 26.1121 783.322 26.1121 Q786.765 26.1121 790.046 26.8413 Q793.328 27.5299 796.406 28.9478 Z\" fill=\"#000000\" fill-rule=\"evenodd\" fill-opacity=\"1\" /><path clip-path=\"url(#clip170)\" d=\"M 0 0 M816.742 14.324 L816.742 27.2059 L832.095 27.2059 L832.095 32.9987 L816.742 32.9987 L816.742 57.6282 Q816.742 63.1779 818.241 64.7578 Q819.78 66.3376 824.439 66.3376 L832.095 66.3376 L832.095 72.576 L824.439 72.576 Q815.81 72.576 812.529 69.3758 Q809.248 66.1351 809.248 57.6282 L809.248 32.9987 L803.779 32.9987 L803.779 27.2059 L809.248 27.2059 L809.248 14.324 L816.742 14.324 Z\" fill=\"#000000\" fill-rule=\"evenodd\" fill-opacity=\"1\" /><path clip-path=\"url(#clip170)\" d=\"M 0 0 M868.188 34.1734 Q866.933 33.4443 865.434 33.1202 Q863.975 32.7556 862.193 32.7556 Q855.874 32.7556 852.471 36.8875 Q849.109 40.9789 849.109 48.6757 L849.109 72.576 L841.614 72.576 L841.614 27.2059 L849.109 27.2059 L849.109 34.2544 Q851.458 30.1225 855.225 28.1376 Q858.993 26.1121 864.38 26.1121 Q865.15 26.1121 866.082 26.2337 Q867.014 26.3147 868.148 26.5172 L868.188 34.1734 Z\" fill=\"#000000\" fill-rule=\"evenodd\" fill-opacity=\"1\" /><path clip-path=\"url(#clip170)\" d=\"M 0 0 M876.007 27.2059 L883.46 27.2059 L883.46 72.576 L876.007 72.576 L876.007 27.2059 M876.007 9.54393 L883.46 9.54393 L883.46 18.9825 L876.007 18.9825 L876.007 9.54393 Z\" fill=\"#000000\" fill-rule=\"evenodd\" fill-opacity=\"1\" /><path clip-path=\"url(#clip170)\" d=\"M 0 0 M931.707 28.9478 L931.707 35.9153 Q928.547 34.1734 925.347 33.3227 Q922.187 32.4315 918.946 32.4315 Q911.695 32.4315 907.685 37.0496 Q903.674 41.6271 903.674 49.9314 Q903.674 58.2358 907.685 62.8538 Q911.695 67.4314 918.946 67.4314 Q922.187 67.4314 925.347 66.5807 Q928.547 65.6895 931.707 63.9476 L931.707 70.8341 Q928.587 72.2924 925.225 73.0216 Q921.903 73.7508 918.136 73.7508 Q907.887 73.7508 901.851 67.3098 Q895.815 60.8689 895.815 49.9314 Q895.815 38.832 901.892 32.472 Q908.009 26.1121 918.622 26.1121 Q922.065 26.1121 925.347 26.8413 Q928.628 27.5299 931.707 28.9478 Z\" fill=\"#000000\" fill-rule=\"evenodd\" fill-opacity=\"1\" /><path clip-path=\"url(#clip170)\" d=\"M 0 0 M965.289 49.7694 Q956.255 49.7694 952.771 51.8354 Q949.287 53.9013 949.287 58.8839 Q949.287 62.8538 951.88 65.2034 Q954.513 67.5124 959.01 67.5124 Q965.207 67.5124 968.934 63.1374 Q972.702 58.7219 972.702 51.4303 L972.702 49.7694 L965.289 49.7694 M980.155 46.6907 L980.155 72.576 L972.702 72.576 L972.702 65.6895 Q970.15 69.8214 966.342 71.8063 Q962.534 73.7508 957.025 73.7508 Q950.057 73.7508 945.925 69.8619 Q941.834 65.9325 941.834 59.3701 Q941.834 51.7138 946.938 47.825 Q952.083 43.9361 962.25 43.9361 L972.702 43.9361 L972.702 43.2069 Q972.702 38.0623 969.299 35.2672 Q965.937 32.4315 959.82 32.4315 Q955.931 32.4315 952.245 33.3632 Q948.558 34.295 945.156 36.1584 L945.156 29.2718 Q949.247 27.692 953.095 26.9223 Q956.944 26.1121 960.589 26.1121 Q970.433 26.1121 975.294 31.2163 Q980.155 36.3204 980.155 46.6907 Z\" fill=\"#000000\" fill-rule=\"evenodd\" fill-opacity=\"1\" /><path clip-path=\"url(#clip170)\" d=\"M 0 0 M995.508 9.54393 L1002.96 9.54393 L1002.96 72.576 L995.508 72.576 L995.508 9.54393 Z\" fill=\"#000000\" fill-rule=\"evenodd\" fill-opacity=\"1\" /><path clip-path=\"url(#clip170)\" d=\"M 0 0 M1045.25 12.096 L1083.49 12.096 L1083.49 18.9825 L1053.44 18.9825 L1053.44 36.8875 L1082.24 36.8875 L1082.24 43.7741 L1053.44 43.7741 L1053.44 65.6895 L1084.22 65.6895 L1084.22 72.576 L1045.25 72.576 L1045.25 12.096 Z\" fill=\"#000000\" fill-rule=\"evenodd\" fill-opacity=\"1\" /><path clip-path=\"url(#clip170)\" d=\"M 0 0 M1135.06 45.1919 L1135.06 72.576 L1127.61 72.576 L1127.61 45.4349 Q1127.61 38.994 1125.1 35.7938 Q1122.59 32.5936 1117.56 32.5936 Q1111.53 32.5936 1108.04 36.4419 Q1104.56 40.2903 1104.56 46.9338 L1104.56 72.576 L1097.06 72.576 L1097.06 27.2059 L1104.56 27.2059 L1104.56 34.2544 Q1107.23 30.163 1110.84 28.1376 Q1114.48 26.1121 1119.22 26.1121 Q1127.04 26.1121 1131.05 30.9732 Q1135.06 35.7938 1135.06 45.1919 Z\" fill=\"#000000\" fill-rule=\"evenodd\" fill-opacity=\"1\" /><path clip-path=\"url(#clip170)\" d=\"M 0 0 M1179.78 49.3643 Q1179.78 41.2625 1176.42 36.8065 Q1173.1 32.3505 1167.06 32.3505 Q1161.07 32.3505 1157.71 36.8065 Q1154.38 41.2625 1154.38 49.3643 Q1154.38 57.4256 1157.71 61.8816 Q1161.07 66.3376 1167.06 66.3376 Q1173.1 66.3376 1176.42 61.8816 Q1179.78 57.4256 1179.78 49.3643 M1187.24 66.9452 Q1187.24 78.5308 1182.09 84.1616 Q1176.95 89.8329 1166.33 89.8329 Q1162.41 89.8329 1158.92 89.2252 Q1155.44 88.6581 1152.16 87.4428 L1152.16 80.1917 Q1155.44 81.9741 1158.64 82.8248 Q1161.84 83.6755 1165.16 83.6755 Q1172.49 83.6755 1176.14 79.8271 Q1179.78 76.0193 1179.78 68.282 L1179.78 64.5957 Q1177.47 68.6061 1173.87 70.5911 Q1170.26 72.576 1165.24 72.576 Q1156.9 72.576 1151.79 66.2161 Q1146.69 59.8562 1146.69 49.3643 Q1146.69 38.832 1151.79 32.472 Q1156.9 26.1121 1165.24 26.1121 Q1170.26 26.1121 1173.87 28.0971 Q1177.47 30.082 1179.78 34.0924 L1179.78 27.2059 L1187.24 27.2059 L1187.24 66.9452 Z\" fill=\"#000000\" fill-rule=\"evenodd\" fill-opacity=\"1\" /><path clip-path=\"url(#clip170)\" d=\"M 0 0 M1202.59 27.2059 L1210.04 27.2059 L1210.04 72.576 L1202.59 72.576 L1202.59 27.2059 M1202.59 9.54393 L1210.04 9.54393 L1210.04 18.9825 L1202.59 18.9825 L1202.59 9.54393 Z\" fill=\"#000000\" fill-rule=\"evenodd\" fill-opacity=\"1\" /><path clip-path=\"url(#clip170)\" d=\"M 0 0 M1263.35 45.1919 L1263.35 72.576 L1255.9 72.576 L1255.9 45.4349 Q1255.9 38.994 1253.39 35.7938 Q1250.88 32.5936 1245.85 32.5936 Q1239.82 32.5936 1236.33 36.4419 Q1232.85 40.2903 1232.85 46.9338 L1232.85 72.576 L1225.36 72.576 L1225.36 27.2059 L1232.85 27.2059 L1232.85 34.2544 Q1235.52 30.163 1239.13 28.1376 Q1242.78 26.1121 1247.51 26.1121 Q1255.33 26.1121 1259.34 30.9732 Q1263.35 35.7938 1263.35 45.1919 Z\" fill=\"#000000\" fill-rule=\"evenodd\" fill-opacity=\"1\" /><path clip-path=\"url(#clip170)\" d=\"M 0 0 M1317.03 48.0275 L1317.03 51.6733 L1282.76 51.6733 Q1283.24 59.3701 1287.38 63.421 Q1291.55 67.4314 1298.96 67.4314 Q1303.26 67.4314 1307.27 66.3781 Q1311.32 65.3249 1315.29 63.2184 L1315.29 70.267 Q1311.28 71.9684 1307.06 72.8596 Q1302.85 73.7508 1298.52 73.7508 Q1287.66 73.7508 1281.3 67.4314 Q1274.98 61.1119 1274.98 50.3365 Q1274.98 39.1965 1280.98 32.6746 Q1287.01 26.1121 1297.22 26.1121 Q1306.37 26.1121 1311.68 32.0264 Q1317.03 37.9003 1317.03 48.0275 M1309.57 45.84 Q1309.49 39.7232 1306.13 36.0774 Q1302.81 32.4315 1297.3 32.4315 Q1291.06 32.4315 1287.29 35.9558 Q1283.57 39.4801 1283 45.8805 L1309.57 45.84 Z\" fill=\"#000000\" fill-rule=\"evenodd\" fill-opacity=\"1\" /><path clip-path=\"url(#clip170)\" d=\"M 0 0 M1368.07 48.0275 L1368.07 51.6733 L1333.8 51.6733 Q1334.29 59.3701 1338.42 63.421 Q1342.59 67.4314 1350 67.4314 Q1354.3 67.4314 1358.31 66.3781 Q1362.36 65.3249 1366.33 63.2184 L1366.33 70.267 Q1362.32 71.9684 1358.1 72.8596 Q1353.89 73.7508 1349.56 73.7508 Q1338.7 73.7508 1332.34 67.4314 Q1326.02 61.1119 1326.02 50.3365 Q1326.02 39.1965 1332.02 32.6746 Q1338.05 26.1121 1348.26 26.1121 Q1357.42 26.1121 1362.72 32.0264 Q1368.07 37.9003 1368.07 48.0275 M1360.62 45.84 Q1360.54 39.7232 1357.17 36.0774 Q1353.85 32.4315 1348.34 32.4315 Q1342.1 32.4315 1338.34 35.9558 Q1334.61 39.4801 1334.04 45.8805 L1360.62 45.84 Z\" fill=\"#000000\" fill-rule=\"evenodd\" fill-opacity=\"1\" /><path clip-path=\"url(#clip170)\" d=\"M 0 0 M1406.59 34.1734 Q1405.34 33.4443 1403.84 33.1202 Q1402.38 32.7556 1400.6 32.7556 Q1394.28 32.7556 1390.88 36.8875 Q1387.51 40.9789 1387.51 48.6757 L1387.51 72.576 L1380.02 72.576 L1380.02 27.2059 L1387.51 27.2059 L1387.51 34.2544 Q1389.86 30.1225 1393.63 28.1376 Q1397.4 26.1121 1402.79 26.1121 Q1403.56 26.1121 1404.49 26.2337 Q1405.42 26.3147 1406.55 26.5172 L1406.59 34.1734 Z\" fill=\"#000000\" fill-rule=\"evenodd\" fill-opacity=\"1\" /><path clip-path=\"url(#clip170)\" d=\"M 0 0 M1414.41 27.2059 L1421.87 27.2059 L1421.87 72.576 L1414.41 72.576 L1414.41 27.2059 M1414.41 9.54393 L1421.87 9.54393 L1421.87 18.9825 L1414.41 18.9825 L1414.41 9.54393 Z\" fill=\"#000000\" fill-rule=\"evenodd\" fill-opacity=\"1\" /><path clip-path=\"url(#clip170)\" d=\"M 0 0 M1475.18 45.1919 L1475.18 72.576 L1467.72 72.576 L1467.72 45.4349 Q1467.72 38.994 1465.21 35.7938 Q1462.7 32.5936 1457.68 32.5936 Q1451.64 32.5936 1448.16 36.4419 Q1444.67 40.2903 1444.67 46.9338 L1444.67 72.576 L1437.18 72.576 L1437.18 27.2059 L1444.67 27.2059 L1444.67 34.2544 Q1447.35 30.163 1450.95 28.1376 Q1454.6 26.1121 1459.34 26.1121 Q1467.16 26.1121 1471.17 30.9732 Q1475.18 35.7938 1475.18 45.1919 Z\" fill=\"#000000\" fill-rule=\"evenodd\" fill-opacity=\"1\" /><path clip-path=\"url(#clip170)\" d=\"M 0 0 M1519.9 49.3643 Q1519.9 41.2625 1516.54 36.8065 Q1513.21 32.3505 1507.18 32.3505 Q1501.18 32.3505 1497.82 36.8065 Q1494.5 41.2625 1494.5 49.3643 Q1494.5 57.4256 1497.82 61.8816 Q1501.18 66.3376 1507.18 66.3376 Q1513.21 66.3376 1516.54 61.8816 Q1519.9 57.4256 1519.9 49.3643 M1527.35 66.9452 Q1527.35 78.5308 1522.21 84.1616 Q1517.06 89.8329 1506.45 89.8329 Q1502.52 89.8329 1499.04 89.2252 Q1495.55 88.6581 1492.27 87.4428 L1492.27 80.1917 Q1495.55 81.9741 1498.75 82.8248 Q1501.95 83.6755 1505.27 83.6755 Q1512.61 83.6755 1516.25 79.8271 Q1519.9 76.0193 1519.9 68.282 L1519.9 64.5957 Q1517.59 68.6061 1513.98 70.5911 Q1510.38 72.576 1505.36 72.576 Q1497.01 72.576 1491.91 66.2161 Q1486.8 59.8562 1486.8 49.3643 Q1486.8 38.832 1491.91 32.472 Q1497.01 26.1121 1505.36 26.1121 Q1510.38 26.1121 1513.98 28.0971 Q1517.59 30.082 1519.9 34.0924 L1519.9 27.2059 L1527.35 27.2059 L1527.35 66.9452 Z\" fill=\"#000000\" fill-rule=\"evenodd\" fill-opacity=\"1\" /><path clip-path=\"url(#clip170)\" d=\"M 0 0 M1577.58 18.8205 L1577.58 41.5461 L1587.87 41.5461 Q1593.58 41.5461 1596.7 38.5889 Q1599.82 35.6318 1599.82 30.163 Q1599.82 24.7348 1596.7 21.7777 Q1593.58 18.8205 1587.87 18.8205 L1577.58 18.8205 M1569.4 12.096 L1587.87 12.096 Q1598.04 12.096 1603.22 16.714 Q1608.45 21.2916 1608.45 30.163 Q1608.45 39.1155 1603.22 43.6931 Q1598.04 48.2706 1587.87 48.2706 L1577.58 48.2706 L1577.58 72.576 L1569.4 72.576 L1569.4 12.096 Z\" fill=\"#000000\" fill-rule=\"evenodd\" fill-opacity=\"1\" /><path clip-path=\"url(#clip170)\" d=\"M 0 0 M1643.94 34.1734 Q1642.68 33.4443 1641.18 33.1202 Q1639.72 32.7556 1637.94 32.7556 Q1631.62 32.7556 1628.22 36.8875 Q1624.86 40.9789 1624.86 48.6757 L1624.86 72.576 L1617.36 72.576 L1617.36 27.2059 L1624.86 27.2059 L1624.86 34.2544 Q1627.21 30.1225 1630.97 28.1376 Q1634.74 26.1121 1640.13 26.1121 Q1640.9 26.1121 1641.83 26.2337 Q1642.76 26.3147 1643.9 26.5172 L1643.94 34.1734 Z\" fill=\"#000000\" fill-rule=\"evenodd\" fill-opacity=\"1\" /><path clip-path=\"url(#clip170)\" d=\"M 0 0 M1667.51 32.4315 Q1661.52 32.4315 1658.03 37.1306 Q1654.55 41.7891 1654.55 49.9314 Q1654.55 58.0738 1657.99 62.7728 Q1661.48 67.4314 1667.51 67.4314 Q1673.47 67.4314 1676.95 62.7323 Q1680.44 58.0333 1680.44 49.9314 Q1680.44 41.8701 1676.95 37.1711 Q1673.47 32.4315 1667.51 32.4315 M1667.51 26.1121 Q1677.23 26.1121 1682.78 32.4315 Q1688.33 38.7509 1688.33 49.9314 Q1688.33 61.0714 1682.78 67.4314 Q1677.23 73.7508 1667.51 73.7508 Q1657.75 73.7508 1652.2 67.4314 Q1646.69 61.0714 1646.69 49.9314 Q1646.69 38.7509 1652.2 32.4315 Q1657.75 26.1121 1667.51 26.1121 Z\" fill=\"#000000\" fill-rule=\"evenodd\" fill-opacity=\"1\" /><path clip-path=\"url(#clip170)\" d=\"M 0 0 M1730.54 49.3643 Q1730.54 41.2625 1727.18 36.8065 Q1723.86 32.3505 1717.82 32.3505 Q1711.83 32.3505 1708.47 36.8065 Q1705.15 41.2625 1705.15 49.3643 Q1705.15 57.4256 1708.47 61.8816 Q1711.83 66.3376 1717.82 66.3376 Q1723.86 66.3376 1727.18 61.8816 Q1730.54 57.4256 1730.54 49.3643 M1738 66.9452 Q1738 78.5308 1732.85 84.1616 Q1727.71 89.8329 1717.1 89.8329 Q1713.17 89.8329 1709.68 89.2252 Q1706.2 88.6581 1702.92 87.4428 L1702.92 80.1917 Q1706.2 81.9741 1709.4 82.8248 Q1712.6 83.6755 1715.92 83.6755 Q1723.25 83.6755 1726.9 79.8271 Q1730.54 76.0193 1730.54 68.282 L1730.54 64.5957 Q1728.24 68.6061 1724.63 70.5911 Q1721.03 72.576 1716 72.576 Q1707.66 72.576 1702.55 66.2161 Q1697.45 59.8562 1697.45 49.3643 Q1697.45 38.832 1702.55 32.472 Q1707.66 26.1121 1716 26.1121 Q1721.03 26.1121 1724.63 28.0971 Q1728.24 30.082 1730.54 34.0924 L1730.54 27.2059 L1738 27.2059 L1738 66.9452 Z\" fill=\"#000000\" fill-rule=\"evenodd\" fill-opacity=\"1\" /><path clip-path=\"url(#clip170)\" d=\"M 0 0 M1779.64 34.1734 Q1778.39 33.4443 1776.89 33.1202 Q1775.43 32.7556 1773.65 32.7556 Q1767.33 32.7556 1763.92 36.8875 Q1760.56 40.9789 1760.56 48.6757 L1760.56 72.576 L1753.07 72.576 L1753.07 27.2059 L1760.56 27.2059 L1760.56 34.2544 Q1762.91 30.1225 1766.68 28.1376 Q1770.45 26.1121 1775.83 26.1121 Q1776.6 26.1121 1777.54 26.2337 Q1778.47 26.3147 1779.6 26.5172 L1779.64 34.1734 Z\" fill=\"#000000\" fill-rule=\"evenodd\" fill-opacity=\"1\" /><path clip-path=\"url(#clip170)\" d=\"M 0 0 M1808.08 49.7694 Q1799.05 49.7694 1795.56 51.8354 Q1792.08 53.9013 1792.08 58.8839 Q1792.08 62.8538 1794.67 65.2034 Q1797.3 67.5124 1801.8 67.5124 Q1808 67.5124 1811.72 63.1374 Q1815.49 58.7219 1815.49 51.4303 L1815.49 49.7694 L1808.08 49.7694 M1822.95 46.6907 L1822.95 72.576 L1815.49 72.576 L1815.49 65.6895 Q1812.94 69.8214 1809.13 71.8063 Q1805.32 73.7508 1799.82 73.7508 Q1792.85 73.7508 1788.72 69.8619 Q1784.62 65.9325 1784.62 59.3701 Q1784.62 51.7138 1789.73 47.825 Q1794.87 43.9361 1805.04 43.9361 L1815.49 43.9361 L1815.49 43.2069 Q1815.49 38.0623 1812.09 35.2672 Q1808.73 32.4315 1802.61 32.4315 Q1798.72 32.4315 1795.04 33.3632 Q1791.35 34.295 1787.95 36.1584 L1787.95 29.2718 Q1792.04 27.692 1795.89 26.9223 Q1799.73 26.1121 1803.38 26.1121 Q1813.22 26.1121 1818.08 31.2163 Q1822.95 36.3204 1822.95 46.6907 Z\" fill=\"#000000\" fill-rule=\"evenodd\" fill-opacity=\"1\" /><path clip-path=\"url(#clip170)\" d=\"M 0 0 M1873.62 35.9153 Q1876.42 30.8922 1880.31 28.5022 Q1884.2 26.1121 1889.46 26.1121 Q1896.55 26.1121 1900.4 31.0947 Q1904.25 36.0368 1904.25 45.1919 L1904.25 72.576 L1896.75 72.576 L1896.75 45.4349 Q1896.75 38.913 1894.44 35.7533 Q1892.14 32.5936 1887.4 32.5936 Q1881.6 32.5936 1878.24 36.4419 Q1874.88 40.2903 1874.88 46.9338 L1874.88 72.576 L1867.38 72.576 L1867.38 45.4349 Q1867.38 38.8725 1865.08 35.7533 Q1862.77 32.5936 1857.95 32.5936 Q1852.23 32.5936 1848.87 36.4824 Q1845.51 40.3308 1845.51 46.9338 L1845.51 72.576 L1838.02 72.576 L1838.02 27.2059 L1845.51 27.2059 L1845.51 34.2544 Q1848.06 30.082 1851.63 28.0971 Q1855.19 26.1121 1860.09 26.1121 Q1865.03 26.1121 1868.48 28.6237 Q1871.96 31.1352 1873.62 35.9153 Z\" fill=\"#000000\" fill-rule=\"evenodd\" fill-opacity=\"1\" /><path clip-path=\"url(#clip170)\" d=\"M 0 0 M1948.04 28.5427 L1948.04 35.5912 Q1944.88 33.9709 1941.48 33.1607 Q1938.07 32.3505 1934.43 32.3505 Q1928.88 32.3505 1926.08 34.0519 Q1923.33 35.7533 1923.33 39.156 Q1923.33 41.7486 1925.31 43.2475 Q1927.3 44.7058 1933.29 46.0426 L1935.84 46.6097 Q1943.78 48.3111 1947.11 51.4303 Q1950.47 54.509 1950.47 60.0587 Q1950.47 66.3781 1945.45 70.0644 Q1940.46 73.7508 1931.71 73.7508 Q1928.07 73.7508 1924.1 73.0216 Q1920.17 72.3329 1915.79 70.9151 L1915.79 63.2184 Q1919.92 65.3654 1923.93 66.4591 Q1927.95 67.5124 1931.87 67.5124 Q1937.14 67.5124 1939.98 65.73 Q1942.81 63.9071 1942.81 60.6258 Q1942.81 57.5877 1940.75 55.9673 Q1938.72 54.3469 1931.79 52.8481 L1929.2 52.2405 Q1922.27 50.7821 1919.2 47.7845 Q1916.12 44.7463 1916.12 39.4801 Q1916.12 33.0797 1920.65 29.5959 Q1925.19 26.1121 1933.54 26.1121 Q1937.67 26.1121 1941.31 26.7198 Q1944.96 27.3274 1948.04 28.5427 Z\" fill=\"#000000\" fill-rule=\"evenodd\" fill-opacity=\"1\" /><path clip-path=\"url(#clip172)\" d=\"\n",
       "M517.169 1386.4 L406.19 1386.4 L628.147 1386.4 L517.169 1386.4 L517.169 1185.79 L517.169 1386.4  Z\n",
       "  \" fill=\"#1874cd\" fill-rule=\"evenodd\" fill-opacity=\"0.7\"/>\n",
       "<polyline clip-path=\"url(#clip172)\" style=\"stroke:#000000; stroke-width:4; stroke-opacity:0.7; fill:none\" points=\"\n",
       "  517.169,1386.4 406.19,1386.4 628.147,1386.4 517.169,1386.4 517.169,1185.79 517.169,1386.4 \n",
       "  \"/>\n",
       "<path clip-path=\"url(#clip172)\" d=\"\n",
       "M739.126 1185.79 L739.126 1067.34 L295.211 1067.34 L295.211 1185.79 L739.126 1185.79 L739.126 1067.34 L739.126 1185.79  Z\n",
       "  \" fill=\"#1874cd\" fill-rule=\"evenodd\" fill-opacity=\"0.7\"/>\n",
       "<polyline clip-path=\"url(#clip172)\" style=\"stroke:#000000; stroke-width:4; stroke-opacity:0.7; fill:none\" points=\"\n",
       "  739.126,1185.79 739.126,1067.34 295.211,1067.34 295.211,1185.79 739.126,1185.79 739.126,1067.34 739.126,1185.79 \n",
       "  \"/>\n",
       "<path clip-path=\"url(#clip172)\" d=\"\n",
       "M739.126 878.397 L295.211 878.397 L295.211 1067.34 L739.126 1067.34 L739.126 878.397 L517.169 878.397 L739.126 878.397  Z\n",
       "  \" fill=\"#1874cd\" fill-rule=\"evenodd\" fill-opacity=\"0.7\"/>\n",
       "<polyline clip-path=\"url(#clip172)\" style=\"stroke:#000000; stroke-width:4; stroke-opacity:0.7; fill:none\" points=\"\n",
       "  739.126,878.397 295.211,878.397 295.211,1067.34 739.126,1067.34 739.126,878.397 517.169,878.397 739.126,878.397 \n",
       "  \"/>\n",
       "<path clip-path=\"url(#clip172)\" d=\"\n",
       "M517.169 451.753 L406.19 451.753 L628.147 451.753 L517.169 451.753 L517.169 878.397 L517.169 451.753  Z\n",
       "  \" fill=\"#1874cd\" fill-rule=\"evenodd\" fill-opacity=\"0.7\"/>\n",
       "<polyline clip-path=\"url(#clip172)\" style=\"stroke:#000000; stroke-width:4; stroke-opacity:0.7; fill:none\" points=\"\n",
       "  517.169,451.753 406.19,451.753 628.147,451.753 517.169,451.753 517.169,878.397 517.169,451.753 \n",
       "  \"/>\n",
       "<polyline clip-path=\"url(#clip172)\" style=\"stroke:#1874cd; stroke-width:0; stroke-opacity:0.7; fill:none\" points=\"\n",
       "  517.169,1386.4 406.19,1386.4 628.147,1386.4 517.169,1386.4 517.169,1185.79 \n",
       "  \"/>\n",
       "<polyline clip-path=\"url(#clip172)\" style=\"stroke:#1874cd; stroke-width:0; stroke-opacity:0.7; fill:none\" points=\"\n",
       "  739.126,1185.79 739.126,1067.34 295.211,1067.34 295.211,1185.79 739.126,1185.79 739.126,1067.34 \n",
       "  \"/>\n",
       "<polyline clip-path=\"url(#clip172)\" style=\"stroke:#1874cd; stroke-width:0; stroke-opacity:0.7; fill:none\" points=\"\n",
       "  739.126,878.397 295.211,878.397 295.211,1067.34 739.126,1067.34 739.126,878.397 517.169,878.397 \n",
       "  \"/>\n",
       "<polyline clip-path=\"url(#clip172)\" style=\"stroke:#1874cd; stroke-width:0; stroke-opacity:0.7; fill:none\" points=\"\n",
       "  517.169,451.753 406.19,451.753 628.147,451.753 517.169,451.753 517.169,878.397 \n",
       "  \"/>\n",
       "<path clip-path=\"url(#clip172)\" d=\"\n",
       "M1294.02 1079.79 L1183.04 1079.79 L1405 1079.79 L1294.02 1079.79 L1294.02 899.597 L1294.02 1079.79  Z\n",
       "  \" fill=\"#1874cd\" fill-rule=\"evenodd\" fill-opacity=\"0.7\"/>\n",
       "<polyline clip-path=\"url(#clip172)\" style=\"stroke:#000000; stroke-width:4; stroke-opacity:0.7; fill:none\" points=\"\n",
       "  1294.02,1079.79 1183.04,1079.79 1405,1079.79 1294.02,1079.79 1294.02,899.597 1294.02,1079.79 \n",
       "  \"/>\n",
       "<path clip-path=\"url(#clip172)\" d=\"\n",
       "M1515.98 899.597 L1515.98 769.749 L1072.06 769.749 L1072.06 899.597 L1515.98 899.597 L1515.98 769.749 L1515.98 899.597  Z\n",
       "  \" fill=\"#1874cd\" fill-rule=\"evenodd\" fill-opacity=\"0.7\"/>\n",
       "<polyline clip-path=\"url(#clip172)\" style=\"stroke:#000000; stroke-width:4; stroke-opacity:0.7; fill:none\" points=\"\n",
       "  1515.98,899.597 1515.98,769.749 1072.06,769.749 1072.06,899.597 1515.98,899.597 1515.98,769.749 1515.98,899.597 \n",
       "  \"/>\n",
       "<path clip-path=\"url(#clip172)\" d=\"\n",
       "M1515.98 708.799 L1072.06 708.799 L1072.06 769.749 L1515.98 769.749 L1515.98 708.799 L1294.02 708.799 L1515.98 708.799  Z\n",
       "  \" fill=\"#1874cd\" fill-rule=\"evenodd\" fill-opacity=\"0.7\"/>\n",
       "<polyline clip-path=\"url(#clip172)\" style=\"stroke:#000000; stroke-width:4; stroke-opacity:0.7; fill:none\" points=\"\n",
       "  1515.98,708.799 1072.06,708.799 1072.06,769.749 1515.98,769.749 1515.98,708.799 1294.02,708.799 1515.98,708.799 \n",
       "  \"/>\n",
       "<path clip-path=\"url(#clip172)\" d=\"\n",
       "M1294.02 634.6 L1183.04 634.6 L1405 634.6 L1294.02 634.6 L1294.02 708.799 L1294.02 634.6  Z\n",
       "  \" fill=\"#1874cd\" fill-rule=\"evenodd\" fill-opacity=\"0.7\"/>\n",
       "<polyline clip-path=\"url(#clip172)\" style=\"stroke:#000000; stroke-width:4; stroke-opacity:0.7; fill:none\" points=\"\n",
       "  1294.02,634.6 1183.04,634.6 1405,634.6 1294.02,634.6 1294.02,708.799 1294.02,634.6 \n",
       "  \"/>\n",
       "<circle clip-path=\"url(#clip172)\" cx=\"1294.02\" cy=\"406.703\" r=\"14\" fill=\"#1874cd\" fill-rule=\"evenodd\" fill-opacity=\"0.7\" stroke=\"#000000\" stroke-opacity=\"0.7\" stroke-width=\"3.2\"/>\n",
       "<circle clip-path=\"url(#clip172)\" cx=\"1294.02\" cy=\"351.054\" r=\"14\" fill=\"#1874cd\" fill-rule=\"evenodd\" fill-opacity=\"0.7\" stroke=\"#000000\" stroke-opacity=\"0.7\" stroke-width=\"3.2\"/>\n",
       "<circle clip-path=\"url(#clip172)\" cx=\"1294.02\" cy=\"160.256\" r=\"14\" fill=\"#1874cd\" fill-rule=\"evenodd\" fill-opacity=\"0.7\" stroke=\"#000000\" stroke-opacity=\"0.7\" stroke-width=\"3.2\"/>\n",
       "<polyline clip-path=\"url(#clip172)\" style=\"stroke:#1874cd; stroke-width:0; stroke-opacity:0.7; fill:none\" points=\"\n",
       "  1294.02,1079.79 1183.04,1079.79 1405,1079.79 1294.02,1079.79 1294.02,899.597 \n",
       "  \"/>\n",
       "<polyline clip-path=\"url(#clip172)\" style=\"stroke:#1874cd; stroke-width:0; stroke-opacity:0.7; fill:none\" points=\"\n",
       "  1515.98,899.597 1515.98,769.749 1072.06,769.749 1072.06,899.597 1515.98,899.597 1515.98,769.749 \n",
       "  \"/>\n",
       "<polyline clip-path=\"url(#clip172)\" style=\"stroke:#1874cd; stroke-width:0; stroke-opacity:0.7; fill:none\" points=\"\n",
       "  1515.98,708.799 1072.06,708.799 1072.06,769.749 1515.98,769.749 1515.98,708.799 1294.02,708.799 \n",
       "  \"/>\n",
       "<polyline clip-path=\"url(#clip172)\" style=\"stroke:#1874cd; stroke-width:0; stroke-opacity:0.7; fill:none\" points=\"\n",
       "  1294.02,634.6 1183.04,634.6 1405,634.6 1294.02,634.6 1294.02,708.799 \n",
       "  \"/>\n",
       "<path clip-path=\"url(#clip172)\" d=\"\n",
       "M2070.87 891.647 L1959.89 891.647 L2181.85 891.647 L2070.87 891.647 L2070.87 732.649 L2070.87 891.647  Z\n",
       "  \" fill=\"#1874cd\" fill-rule=\"evenodd\" fill-opacity=\"0.7\"/>\n",
       "<polyline clip-path=\"url(#clip172)\" style=\"stroke:#000000; stroke-width:4; stroke-opacity:0.7; fill:none\" points=\"\n",
       "  2070.87,891.647 1959.89,891.647 2181.85,891.647 2070.87,891.647 2070.87,732.649 2070.87,891.647 \n",
       "  \"/>\n",
       "<path clip-path=\"url(#clip172)\" d=\"\n",
       "M2292.83 732.649 L2292.83 602.801 L1848.91 602.801 L1848.91 732.649 L2292.83 732.649 L2292.83 602.801 L2292.83 732.649  Z\n",
       "  \" fill=\"#1874cd\" fill-rule=\"evenodd\" fill-opacity=\"0.7\"/>\n",
       "<polyline clip-path=\"url(#clip172)\" style=\"stroke:#000000; stroke-width:4; stroke-opacity:0.7; fill:none\" points=\"\n",
       "  2292.83,732.649 2292.83,602.801 1848.91,602.801 1848.91,732.649 2292.83,732.649 2292.83,602.801 2292.83,732.649 \n",
       "  \"/>\n",
       "<path clip-path=\"url(#clip172)\" d=\"\n",
       "M2292.83 494.152 L1848.91 494.152 L1848.91 602.801 L2292.83 602.801 L2292.83 494.152 L2070.87 494.152 L2292.83 494.152  Z\n",
       "  \" fill=\"#1874cd\" fill-rule=\"evenodd\" fill-opacity=\"0.7\"/>\n",
       "<polyline clip-path=\"url(#clip172)\" style=\"stroke:#000000; stroke-width:4; stroke-opacity:0.7; fill:none\" points=\"\n",
       "  2292.83,494.152 1848.91,494.152 1848.91,602.801 2292.83,602.801 2292.83,494.152 2070.87,494.152 2292.83,494.152 \n",
       "  \"/>\n",
       "<path clip-path=\"url(#clip172)\" d=\"\n",
       "M2070.87 213.256 L1959.89 213.256 L2181.85 213.256 L2070.87 213.256 L2070.87 494.152 L2070.87 213.256  Z\n",
       "  \" fill=\"#1874cd\" fill-rule=\"evenodd\" fill-opacity=\"0.7\"/>\n",
       "<polyline clip-path=\"url(#clip172)\" style=\"stroke:#000000; stroke-width:4; stroke-opacity:0.7; fill:none\" points=\"\n",
       "  2070.87,213.256 1959.89,213.256 2181.85,213.256 2070.87,213.256 2070.87,494.152 2070.87,213.256 \n",
       "  \"/>\n",
       "<circle clip-path=\"url(#clip172)\" cx=\"2070.87\" cy=\"1095.69\" r=\"14\" fill=\"#1874cd\" fill-rule=\"evenodd\" fill-opacity=\"0.7\" stroke=\"#000000\" stroke-opacity=\"0.7\" stroke-width=\"3.2\"/>\n",
       "<polyline clip-path=\"url(#clip172)\" style=\"stroke:#1874cd; stroke-width:0; stroke-opacity:0.7; fill:none\" points=\"\n",
       "  2070.87,891.647 1959.89,891.647 2181.85,891.647 2070.87,891.647 2070.87,732.649 \n",
       "  \"/>\n",
       "<polyline clip-path=\"url(#clip172)\" style=\"stroke:#1874cd; stroke-width:0; stroke-opacity:0.7; fill:none\" points=\"\n",
       "  2292.83,732.649 2292.83,602.801 1848.91,602.801 1848.91,732.649 2292.83,732.649 2292.83,602.801 \n",
       "  \"/>\n",
       "<polyline clip-path=\"url(#clip172)\" style=\"stroke:#1874cd; stroke-width:0; stroke-opacity:0.7; fill:none\" points=\"\n",
       "  2292.83,494.152 1848.91,494.152 1848.91,602.801 2292.83,602.801 2292.83,494.152 2070.87,494.152 \n",
       "  \"/>\n",
       "<polyline clip-path=\"url(#clip172)\" style=\"stroke:#1874cd; stroke-width:0; stroke-opacity:0.7; fill:none\" points=\"\n",
       "  2070.87,213.256 1959.89,213.256 2181.85,213.256 2070.87,213.256 2070.87,494.152 \n",
       "  \"/>\n",
       "</svg>\n"
      ]
     },
     "execution_count": 9,
     "metadata": {},
     "output_type": "execute_result"
    }
   ],
   "source": [
    "metric_boxplot([\"top\" \"middle\" \"bottom\"], [top_tier, middle_tier, bottom_tier], \"complexity\", \n",
    "    title=\"Electrical Engineering Programs\", xlabel=\"tiers\", ylabel=\"curricular complexity\")"
   ]
  },
  {
   "cell_type": "markdown",
   "metadata": {},
   "source": [
    "## ANOVA Analysis\n",
    "\n",
    "The ANOVA analysis involves random sampling of schools within each of the three tiers. In order to ensure the analysis is able to distinguish between actual curricular complexity differences among the tiers, and random variation, sufficient sample sizes must be determined. Under the assumption that the curricular complexity distributions within the tiers are approximately normal, with variance $\\sigma^2$, the number of samples that should be selected from each tier is given by\n",
    "\\begin{equation}\n",
    " n = \\left({\\sigma Z \\over E}\\right)^2,\n",
    "\\end{equation}\n",
    "where $Z$ is the confidence interval expressed using deviation within the standard normal distribution, and $E$ is the margin of error. To obtain an estimate of $\\sigma$, pilot samples from each of the three tiers were taken, yielding the estimate $\\hat{\\sigma} = 90$. For a 95\\% confidence interval, which corresponds to $Z = 1.96$, the margin of error will be 40 curricular complexity points, i.e., 20 points on either side of the mean for a tier. Using these values in the equation provided above leads to sample sizes of $n_1 = n_2 = n_3 = 20$, where $n_1, n_2$ and $n_3$ are the sample sizes for the top, medium and bottom tiers, respectively. Thus, by sampling at least 20 schools from each tier, we can have 95\\% confidence that the error in this analysis will be by no more than 40 curricular complexity points.\n",
    "\n",
    "In order to test the null hypothesis using ANOVA, we must assume the curricular complexity values of the schools within each tier are normally distributed, and that all three tiers have the same variance $\\sigma^2$. It should be noted that these conditions can be moderately relaxed (particularly the normality assumption) and the analysis will remain valid \\cite{MeScWa:81}. \n",
    "\n",
    "The ANOVA method partitions the total sum of squares of the deviations in curricular complexity across all schools into two independent parts, one that is attributed to the independent variable (program quality in this case), and a remainder that is attributed to random errors arising from other factors not accounted for in this experiment. That is,\n",
    "\\begin{equation}\n",
    " TSS = SST + SSE,\n",
    "\\end{equation}\n",
    "where $TSS$ denotes the total sum of squares of deviations, $SST$ represents the sum of squares of the deviations between the tiers, and SSE is the sum of squares attributed to errors or noise. More specifically, if we let $cc_{ij}$ denote the curricular complexity of the $j$\\nth school sampled from the $i$-th tier, then\n",
    "\\begin{equation}\n",
    " TSS = \\sum_{i=1}^3 \\sum_{j=1}^{n_i} \\left(cc_{ij} - \\overline{cc}\\right)^2,\n",
    "\\end{equation}\n",
    "where $\\overline{cc}$ is the sample mean for all samples drawn over all tiers.  The sum of squares deviation between the tiers is given by \n",
    "\\begin{equation}\n",
    " SST = \\sum_{i=1}^3 n_i\\left(\\overline{T}_i - \\overline{cc}\\right)^2,\n",
    "\\end{equation}\n",
    "where $T_i$ is the total curricular complexity of the schools sampled from the $i$-th tier, and $\\overline{T}_i = T_i/n_i, i = 1,2,3$, are the tier sample averages.\n",
    "Note that when the sample means for the three tiers are the same, $SST=0$.\n",
    "\n",
    "Substituting the TSS and SST equations provided above into $TSS = SST + SSE$, and solving for $SSE$ yields:\n",
    "\\begin{equation}\n",
    " SSE = {\\sum_{i=1}^3 \\sum_{j=1}^{n_i} \\left(cc_{ij} - \\bar{T}_i\\right)^2}.\n",
    "\\end{equation}\n",
    "\n",
    "The unbiased estimator of $\\sigma^2$ based on $n - 3$ degrees of freedom is given by the mean square error,\n",
    "\\begin{equation}\n",
    " MSE = {SSE \\over n - 3},\n",
    "\\end{equation}\n",
    "where $n = n_1 + n_2 + n_3$.\n",
    "\n",
    "The mean square for the tiers has 2 degrees of freedom, i.e., one less than the number of tiers, and is therefore\n",
    "\\begin{equation}\n",
    " MST = {SST \\over 2}. \n",
    "\\end{equation}\n",
    "\n",
    "In order to assess the statistical significance of a decision to reject the null hypothesis, an $F$-test is conducted to compare the deviation among the tier variances.  The $F$-test statistic is given by\n",
    "\\[\n",
    " F = {MST \\over MSE}.\n",
    "\\] \n",
    "Note that the $F$-test is a ratio that compares the mean square variability between the tiers to the mean square variability within the tiers. Thus, as $F$-test values increase above $1$, the data are increasingly inconsistent with the null hypothesis, and the null hypothesis should be rejected when $F > F_{\\alpha}$,\n",
    "where $F_{\\alpha}$ is the critical value of $F$ where the probability of a type I error is $\\alpha$.\n",
    "\n",
    "For the $F$ distribution with $(2, 65)$ degrees of freedom, $F_{0.05} = 3.15$.  That is, if the $F$-test for the experiment yields a value greater than $3.15$, we can reject the null hypothesis with only a 5\\% chance of doing so in error."
   ]
  },
  {
   "cell_type": "markdown",
   "metadata": {},
   "source": [
    "Let $n_1, n_2$ and $n_3$ be the sample sizes drawn from top, medium and low tier schools, respectively, with $n = n_1 + n_2 + n_3$."
   ]
  },
  {
   "cell_type": "code",
   "execution_count": 10,
   "metadata": {},
   "outputs": [],
   "source": [
    "n_1 = length(top_tier)\n",
    "n_2 = length(middle_tier)\n",
    "n_3 = length(bottom_tier)\n",
    "\n",
    "n = n_1 + n_2 +n_3;"
   ]
  },
  {
   "cell_type": "markdown",
   "metadata": {},
   "source": [
    "Compute the TSS:\n",
    "\n",
    "\\begin{equation}\n",
    " TSS = \\sum_{i=1}^3 \\sum_{j=1}^{n_i} \\left(cc_{ij} - \\overline{cc}\\right)^2\n",
    "\\end{equation}\n",
    "\n"
   ]
  },
  {
   "cell_type": "code",
   "execution_count": 11,
   "metadata": {},
   "outputs": [
    {
     "data": {
      "text/plain": [
       "697898.88"
      ]
     },
     "execution_count": 11,
     "metadata": {},
     "output_type": "execute_result"
    }
   ],
   "source": [
    "cc_bar = (top_tier_total_cc + middle_tier_total_cc + bottom_tier_total_cc) / n \n",
    "TSS = 0.0\n",
    "for curric in values(top_tier)\n",
    "    cc_ij = curric.metrics[\"complexity\"][1]\n",
    "    TSS += (cc_ij - cc_bar)^2\n",
    "end\n",
    "for curric in values(middle_tier)\n",
    "    cc_ij = curric.metrics[\"complexity\"][1]\n",
    "    TSS += (cc_ij - cc_bar)^2\n",
    "end\n",
    "for curric in values(bottom_tier)\n",
    "    cc_ij = curric.metrics[\"complexity\"][1]\n",
    "    TSS += (cc_ij - cc_bar)^2\n",
    "end\n",
    "TSS = round(TSS, digits=2)"
   ]
  },
  {
   "cell_type": "markdown",
   "metadata": {},
   "source": [
    "Compute the SST:\n",
    "\n",
    "\\begin{equation}\n",
    " SST = \\sum_{i=1}^3 n_i\\left(\\overline{T}_i - \\overline{cc}\\right)^2\n",
    "\\end{equation}"
   ]
  },
  {
   "cell_type": "code",
   "execution_count": 12,
   "metadata": {},
   "outputs": [
    {
     "data": {
      "text/plain": [
       "253636.4"
      ]
     },
     "execution_count": 12,
     "metadata": {},
     "output_type": "execute_result"
    }
   ],
   "source": [
    "SST = round(n_1 * (top_tier_avg_cc - cc_bar)^2 + \n",
    "            n_2 * (middle_tier_avg_cc - cc_bar)^2 + \n",
    "            n_3 * (bottom_tier_avg_cc - cc_bar)^2, digits=2)"
   ]
  },
  {
   "cell_type": "markdown",
   "metadata": {},
   "source": [
    "Compute the SSE: \n",
    "\\begin{equation}\n",
    " SSE = {\\sum_{i=1}^3 \\sum_{j=1}^{n_i} \\left(cc_{ij} - \\bar{T}_i\\right)^2}\n",
    "\\end{equation}"
   ]
  },
  {
   "cell_type": "code",
   "execution_count": 49,
   "metadata": {},
   "outputs": [
    {
     "name": "stdout",
     "output_type": "stream",
     "text": [
      "253458.77\n",
      "444134.21\n",
      "697592.98\n"
     ]
    }
   ],
   "source": [
    "SSE = 0.0\n",
    "for curric in values(top_tier)\n",
    "    cc_ij = curric.metrics[\"complexity\"][1]\n",
    "    SSE += (cc_ij - top_tier_avg_cc)^2\n",
    "end\n",
    "for curric in values(middle_tier)\n",
    "    cc_ij = curric.metrics[\"complexity\"][1]\n",
    "    SSE += (cc_ij - middle_tier_avg_cc)^2\n",
    "end\n",
    "for curric in values(bottom_tier)\n",
    "    cc_ij = curric.metrics[\"complexity\"][1]\n",
    "    SSE += (cc_ij - bottom_tier_avg_cc)^2\n",
    "end\n",
    "SSE = round(SSE, digits=2)\n",
    "println(SST)\n",
    "println(SSE)\n",
    "println(SST+SSE)"
   ]
  },
  {
   "cell_type": "markdown",
   "metadata": {},
   "source": [
    "\\begin{equation}\n",
    " MSE = {SSE \\over n - 3}\n",
    "\\end{equation}"
   ]
  },
  {
   "cell_type": "code",
   "execution_count": 50,
   "metadata": {},
   "outputs": [
    {
     "data": {
      "text/plain": [
       "7402.24"
      ]
     },
     "execution_count": 50,
     "metadata": {},
     "output_type": "execute_result"
    }
   ],
   "source": [
    "MSE = round(SSE/(n-3), digits=2)"
   ]
  },
  {
   "cell_type": "markdown",
   "metadata": {},
   "source": [
    "\\begin{equation}\n",
    " MST = {SST \\over 2}\n",
    "\\end{equation}"
   ]
  },
  {
   "cell_type": "code",
   "execution_count": 51,
   "metadata": {},
   "outputs": [
    {
     "data": {
      "text/plain": [
       "126729.38"
      ]
     },
     "execution_count": 51,
     "metadata": {},
     "output_type": "execute_result"
    }
   ],
   "source": [
    "MST = round(SST/2, digits=2)"
   ]
  },
  {
   "cell_type": "markdown",
   "metadata": {},
   "source": [
    "The $F$-test statistic is given by\n",
    "\\begin{equation}\n",
    "F = {MST \\over MSE}\n",
    "\\end{equation}"
   ]
  },
  {
   "cell_type": "code",
   "execution_count": 52,
   "metadata": {},
   "outputs": [
    {
     "data": {
      "text/plain": [
       "17.12"
      ]
     },
     "execution_count": 52,
     "metadata": {},
     "output_type": "execute_result"
    }
   ],
   "source": [
    "F = round(MST/MSE, digits=2)"
   ]
  },
  {
   "cell_type": "markdown",
   "metadata": {},
   "source": [
    "The results of the ANOVA analysis associated with the samples selected from the three tiers of schools are shown below. "
   ]
  },
  {
   "cell_type": "code",
   "execution_count": 53,
   "metadata": {},
   "outputs": [
    {
     "name": "stdout",
     "output_type": "stream",
     "text": [
      "\t   SS\t\tdf\t\t  MS\t\t F\n",
      "\t-----------------------------------------------------\n",
      "Tiers  | 253458.77\t2\t\t126729.38\t17.12\n",
      "Error  | 444134.21\t60\t\t7402.24\n",
      "Totals | 697592.98\t62\n"
     ]
    }
   ],
   "source": [
    "println(\"\\t   SS\\t\\tdf\\t\\t  MS\\t\\t F\")\n",
    "println(\"\\t-----------------------------------------------------\")\n",
    "println(\"Tiers  | $SST\\t2\\t\\t$MST\\t$F\")\n",
    "println(\"Error  | $SSE\\t$(n-3)\\t\\t$MSE\")\n",
    "println(\"Totals | $(SST+SSE)\\t$(n-1)\")"
   ]
  },
  {
   "cell_type": "markdown",
   "metadata": {},
   "source": [
    "Notice that the $F$-test statistic obtained from this analysis is $17.45$.  Because\n",
    "\\begin{equation}\n",
    "  17.45 > F_{0.05} = 3.15,\n",
    "\\end{equation}\n",
    "the null hypothesis should be rejected.  That is, with a low probability of error, the samples collected from each tier indicate that the mean curricular complexity values of the tiers are different.  This result, along with the evidence given in histograms and box-and-whisker diagram, provide strong evidence that higher quality undergraduate computer science programs have lower curricular complexity, and that lower quality undergraduate computer science programs have higher curricular complexity. "
   ]
  },
  {
   "cell_type": "markdown",
   "metadata": {},
   "source": [
    "### Notched Box Plot\n",
    "In a notched box plot the notches represent confidence intervals. Specifically, the notch provides an interval about  the median $m$ computed using:\n",
    "$$\n",
    " m \\pm 1.57 \\times IQR/\\sqrt{n_i}\n",
    "$$\n",
    "where $IQR$ is the interquartile range (the distance between the 25th and 75 percentile), and $n_i$ is number of observations in the $i$th sample.  Informally, if the notches of two boxes do not overlap on the $y$ axis, there is strong evidence (i.e., 95% confidence) their medians differ."
   ]
  },
  {
   "cell_type": "code",
   "execution_count": 17,
   "metadata": {},
   "outputs": [
    {
     "name": "stderr",
     "output_type": "stream",
     "text": [
      "┌ Warning: Boxplot's notch went outside hinges. Set notch to false.\n",
      "└ @ StatsPlots /Users/heileman/.julia/packages/StatsPlots/HJWh4/src/boxplot.jl:36\n"
     ]
    },
    {
     "data": {
      "image/svg+xml": [
       "<?xml version=\"1.0\" encoding=\"utf-8\"?>\n",
       "<svg xmlns=\"http://www.w3.org/2000/svg\" xmlns:xlink=\"http://www.w3.org/1999/xlink\" width=\"600\" height=\"400\" viewBox=\"0 0 2400 1600\">\n",
       "<defs>\n",
       "  <clipPath id=\"clip310\">\n",
       "    <rect x=\"0\" y=\"0\" width=\"2400\" height=\"1600\"/>\n",
       "  </clipPath>\n",
       "</defs>\n",
       "<path clip-path=\"url(#clip310)\" d=\"\n",
       "M0 1600 L2400 1600 L2400 0 L0 0  Z\n",
       "  \" fill=\"#ffffff\" fill-rule=\"evenodd\" fill-opacity=\"1\"/>\n",
       "<defs>\n",
       "  <clipPath id=\"clip311\">\n",
       "    <rect x=\"480\" y=\"0\" width=\"1681\" height=\"1600\"/>\n",
       "  </clipPath>\n",
       "</defs>\n",
       "<path clip-path=\"url(#clip310)\" d=\"\n",
       "M229.473 1423.18 L2352.76 1423.18 L2352.76 123.472 L229.473 123.472  Z\n",
       "  \" fill=\"#ffffff\" fill-rule=\"evenodd\" fill-opacity=\"1\"/>\n",
       "<defs>\n",
       "  <clipPath id=\"clip312\">\n",
       "    <rect x=\"229\" y=\"123\" width=\"2124\" height=\"1301\"/>\n",
       "  </clipPath>\n",
       "</defs>\n",
       "<polyline clip-path=\"url(#clip312)\" style=\"stroke:#000000; stroke-width:2; stroke-opacity:0.1; fill:none\" points=\"\n",
       "  512.132,1423.18 512.132,123.472 \n",
       "  \"/>\n",
       "<polyline clip-path=\"url(#clip312)\" style=\"stroke:#000000; stroke-width:2; stroke-opacity:0.1; fill:none\" points=\"\n",
       "  1291.11,1423.18 1291.11,123.472 \n",
       "  \"/>\n",
       "<polyline clip-path=\"url(#clip312)\" style=\"stroke:#000000; stroke-width:2; stroke-opacity:0.1; fill:none\" points=\"\n",
       "  2070.1,1423.18 2070.1,123.472 \n",
       "  \"/>\n",
       "<polyline clip-path=\"url(#clip312)\" style=\"stroke:#000000; stroke-width:2; stroke-opacity:0.1; fill:none\" points=\"\n",
       "  229.473,1273.24 2352.76,1273.24 \n",
       "  \"/>\n",
       "<polyline clip-path=\"url(#clip312)\" style=\"stroke:#000000; stroke-width:2; stroke-opacity:0.1; fill:none\" points=\"\n",
       "  229.473,1008.25 2352.76,1008.25 \n",
       "  \"/>\n",
       "<polyline clip-path=\"url(#clip312)\" style=\"stroke:#000000; stroke-width:2; stroke-opacity:0.1; fill:none\" points=\"\n",
       "  229.473,743.249 2352.76,743.249 \n",
       "  \"/>\n",
       "<polyline clip-path=\"url(#clip312)\" style=\"stroke:#000000; stroke-width:2; stroke-opacity:0.1; fill:none\" points=\"\n",
       "  229.473,478.252 2352.76,478.252 \n",
       "  \"/>\n",
       "<polyline clip-path=\"url(#clip312)\" style=\"stroke:#000000; stroke-width:2; stroke-opacity:0.1; fill:none\" points=\"\n",
       "  229.473,213.256 2352.76,213.256 \n",
       "  \"/>\n",
       "<polyline clip-path=\"url(#clip310)\" style=\"stroke:#000000; stroke-width:4; stroke-opacity:1; fill:none\" points=\"\n",
       "  229.473,1423.18 2352.76,1423.18 \n",
       "  \"/>\n",
       "<polyline clip-path=\"url(#clip310)\" style=\"stroke:#000000; stroke-width:4; stroke-opacity:1; fill:none\" points=\"\n",
       "  229.473,1423.18 229.473,123.472 \n",
       "  \"/>\n",
       "<polyline clip-path=\"url(#clip310)\" style=\"stroke:#000000; stroke-width:4; stroke-opacity:1; fill:none\" points=\"\n",
       "  512.132,1423.18 512.132,1407.58 \n",
       "  \"/>\n",
       "<polyline clip-path=\"url(#clip310)\" style=\"stroke:#000000; stroke-width:4; stroke-opacity:1; fill:none\" points=\"\n",
       "  1291.11,1423.18 1291.11,1407.58 \n",
       "  \"/>\n",
       "<polyline clip-path=\"url(#clip310)\" style=\"stroke:#000000; stroke-width:4; stroke-opacity:1; fill:none\" points=\"\n",
       "  2070.1,1423.18 2070.1,1407.58 \n",
       "  \"/>\n",
       "<polyline clip-path=\"url(#clip310)\" style=\"stroke:#000000; stroke-width:4; stroke-opacity:1; fill:none\" points=\"\n",
       "  229.473,1273.24 254.952,1273.24 \n",
       "  \"/>\n",
       "<polyline clip-path=\"url(#clip310)\" style=\"stroke:#000000; stroke-width:4; stroke-opacity:1; fill:none\" points=\"\n",
       "  229.473,1008.25 254.952,1008.25 \n",
       "  \"/>\n",
       "<polyline clip-path=\"url(#clip310)\" style=\"stroke:#000000; stroke-width:4; stroke-opacity:1; fill:none\" points=\"\n",
       "  229.473,743.249 254.952,743.249 \n",
       "  \"/>\n",
       "<polyline clip-path=\"url(#clip310)\" style=\"stroke:#000000; stroke-width:4; stroke-opacity:1; fill:none\" points=\"\n",
       "  229.473,478.252 254.952,478.252 \n",
       "  \"/>\n",
       "<polyline clip-path=\"url(#clip310)\" style=\"stroke:#000000; stroke-width:4; stroke-opacity:1; fill:none\" points=\"\n",
       "  229.473,213.256 254.952,213.256 \n",
       "  \"/>\n",
       "<path clip-path=\"url(#clip310)\" d=\"M 0 0 M484.493 1443.36 L484.493 1450.73 L493.266 1450.73 L493.266 1454.04 L484.493 1454.04 L484.493 1468.11 Q484.493 1471.28 485.35 1472.18 Q486.229 1473.09 488.891 1473.09 L493.266 1473.09 L493.266 1476.65 L488.891 1476.65 Q483.961 1476.65 482.086 1474.82 Q480.211 1472.97 480.211 1468.11 L480.211 1454.04 L477.086 1454.04 L477.086 1450.73 L480.211 1450.73 L480.211 1443.36 L484.493 1443.36 Z\" fill=\"#000000\" fill-rule=\"evenodd\" fill-opacity=\"1\" /><path clip-path=\"url(#clip310)\" d=\"M 0 0 M507.78 1453.71 Q504.354 1453.71 502.364 1456.4 Q500.373 1459.06 500.373 1463.71 Q500.373 1468.36 502.34 1471.05 Q504.331 1473.71 507.78 1473.71 Q511.183 1473.71 513.174 1471.03 Q515.164 1468.34 515.164 1463.71 Q515.164 1459.11 513.174 1456.42 Q511.183 1453.71 507.78 1453.71 M507.78 1450.1 Q513.336 1450.1 516.507 1453.71 Q519.678 1457.32 519.678 1463.71 Q519.678 1470.08 516.507 1473.71 Q513.336 1477.32 507.78 1477.32 Q502.201 1477.32 499.03 1473.71 Q495.882 1470.08 495.882 1463.71 Q495.882 1457.32 499.03 1453.71 Q502.201 1450.1 507.78 1450.1 Z\" fill=\"#000000\" fill-rule=\"evenodd\" fill-opacity=\"1\" /><path clip-path=\"url(#clip310)\" d=\"M 0 0 M528.266 1472.76 L528.266 1486.51 L523.984 1486.51 L523.984 1450.73 L528.266 1450.73 L528.266 1454.66 Q529.609 1452.35 531.646 1451.24 Q533.706 1450.1 536.553 1450.1 Q541.275 1450.1 544.215 1453.85 Q547.178 1457.6 547.178 1463.71 Q547.178 1469.82 544.215 1473.57 Q541.275 1477.32 536.553 1477.32 Q533.706 1477.32 531.646 1476.21 Q529.609 1475.08 528.266 1472.76 M542.757 1463.71 Q542.757 1459.01 540.812 1456.35 Q538.891 1453.67 535.511 1453.67 Q532.132 1453.67 530.187 1456.35 Q528.266 1459.01 528.266 1463.71 Q528.266 1468.41 530.187 1471.1 Q532.132 1473.76 535.511 1473.76 Q538.891 1473.76 540.812 1471.1 Q542.757 1468.41 542.757 1463.71 Z\" fill=\"#000000\" fill-rule=\"evenodd\" fill-opacity=\"1\" /><path clip-path=\"url(#clip310)\" d=\"M 0 0 M1244.7 1455.7 Q1246.3 1452.83 1248.52 1451.47 Q1250.74 1450.1 1253.75 1450.1 Q1257.8 1450.1 1260 1452.95 Q1262.2 1455.77 1262.2 1461 L1262.2 1476.65 L1257.92 1476.65 L1257.92 1461.14 Q1257.92 1457.42 1256.6 1455.61 Q1255.28 1453.8 1252.57 1453.8 Q1249.26 1453.8 1247.34 1456 Q1245.42 1458.2 1245.42 1462 L1245.42 1476.65 L1241.14 1476.65 L1241.14 1461.14 Q1241.14 1457.39 1239.82 1455.61 Q1238.5 1453.8 1235.74 1453.8 Q1232.48 1453.8 1230.56 1456.03 Q1228.64 1458.23 1228.64 1462 L1228.64 1476.65 L1224.36 1476.65 L1224.36 1450.73 L1228.64 1450.73 L1228.64 1454.75 Q1230.1 1452.37 1232.13 1451.24 Q1234.17 1450.1 1236.97 1450.1 Q1239.8 1450.1 1241.76 1451.54 Q1243.75 1452.97 1244.7 1455.7 Z\" fill=\"#000000\" fill-rule=\"evenodd\" fill-opacity=\"1\" /><path clip-path=\"url(#clip310)\" d=\"M 0 0 M1266.67 1450.73 L1270.93 1450.73 L1270.93 1476.65 L1266.67 1476.65 L1266.67 1450.73 M1266.67 1440.63 L1270.93 1440.63 L1270.93 1446.03 L1266.67 1446.03 L1266.67 1440.63 Z\" fill=\"#000000\" fill-rule=\"evenodd\" fill-opacity=\"1\" /><path clip-path=\"url(#clip310)\" d=\"M 0 0 M1292.46 1454.66 L1292.46 1440.63 L1296.72 1440.63 L1296.72 1476.65 L1292.46 1476.65 L1292.46 1472.76 Q1291.11 1475.08 1289.05 1476.21 Q1287.02 1477.32 1284.15 1477.32 Q1279.45 1477.32 1276.48 1473.57 Q1273.54 1469.82 1273.54 1463.71 Q1273.54 1457.6 1276.48 1453.85 Q1279.45 1450.1 1284.15 1450.1 Q1287.02 1450.1 1289.05 1451.24 Q1291.11 1452.35 1292.46 1454.66 M1277.94 1463.71 Q1277.94 1468.41 1279.86 1471.1 Q1281.81 1473.76 1285.19 1473.76 Q1288.57 1473.76 1290.51 1471.1 Q1292.46 1468.41 1292.46 1463.71 Q1292.46 1459.01 1290.51 1456.35 Q1288.57 1453.67 1285.19 1453.67 Q1281.81 1453.67 1279.86 1456.35 Q1277.94 1459.01 1277.94 1463.71 Z\" fill=\"#000000\" fill-rule=\"evenodd\" fill-opacity=\"1\" /><path clip-path=\"url(#clip310)\" d=\"M 0 0 M1318.24 1454.66 L1318.24 1440.63 L1322.5 1440.63 L1322.5 1476.65 L1318.24 1476.65 L1318.24 1472.76 Q1316.9 1475.08 1314.84 1476.21 Q1312.8 1477.32 1309.93 1477.32 Q1305.23 1477.32 1302.27 1473.57 Q1299.33 1469.82 1299.33 1463.71 Q1299.33 1457.6 1302.27 1453.85 Q1305.23 1450.1 1309.93 1450.1 Q1312.8 1450.1 1314.84 1451.24 Q1316.9 1452.35 1318.24 1454.66 M1303.73 1463.71 Q1303.73 1468.41 1305.65 1471.1 Q1307.6 1473.76 1310.98 1473.76 Q1314.35 1473.76 1316.3 1471.1 Q1318.24 1468.41 1318.24 1463.71 Q1318.24 1459.01 1316.3 1456.35 Q1314.35 1453.67 1310.98 1453.67 Q1307.6 1453.67 1305.65 1456.35 Q1303.73 1459.01 1303.73 1463.71 Z\" fill=\"#000000\" fill-rule=\"evenodd\" fill-opacity=\"1\" /><path clip-path=\"url(#clip310)\" d=\"M 0 0 M1326.97 1440.63 L1331.23 1440.63 L1331.23 1476.65 L1326.97 1476.65 L1326.97 1440.63 Z\" fill=\"#000000\" fill-rule=\"evenodd\" fill-opacity=\"1\" /><path clip-path=\"url(#clip310)\" d=\"M 0 0 M1357.87 1462.62 L1357.87 1464.71 L1338.29 1464.71 Q1338.57 1469.11 1340.93 1471.42 Q1343.31 1473.71 1347.55 1473.71 Q1350 1473.71 1352.29 1473.11 Q1354.61 1472.51 1356.88 1471.3 L1356.88 1475.33 Q1354.59 1476.3 1352.18 1476.81 Q1349.77 1477.32 1347.29 1477.32 Q1341.09 1477.32 1337.46 1473.71 Q1333.85 1470.1 1333.85 1463.94 Q1333.85 1457.58 1337.27 1453.85 Q1340.72 1450.1 1346.55 1450.1 Q1351.79 1450.1 1354.82 1453.48 Q1357.87 1456.84 1357.87 1462.62 M1353.61 1461.37 Q1353.57 1457.88 1351.65 1455.8 Q1349.75 1453.71 1346.6 1453.71 Q1343.04 1453.71 1340.88 1455.73 Q1338.75 1457.74 1338.43 1461.4 L1353.61 1461.37 Z\" fill=\"#000000\" fill-rule=\"evenodd\" fill-opacity=\"1\" /><path clip-path=\"url(#clip310)\" d=\"M 0 0 M2012.33 1463.71 Q2012.33 1459.01 2010.39 1456.35 Q2008.46 1453.67 2005.09 1453.67 Q2001.71 1453.67 1999.76 1456.35 Q1997.84 1459.01 1997.84 1463.71 Q1997.84 1468.41 1999.76 1471.1 Q2001.71 1473.76 2005.09 1473.76 Q2008.46 1473.76 2010.39 1471.1 Q2012.33 1468.41 2012.33 1463.71 M1997.84 1454.66 Q1999.18 1452.35 2001.22 1451.24 Q2003.28 1450.1 2006.13 1450.1 Q2010.85 1450.1 2013.79 1453.85 Q2016.75 1457.6 2016.75 1463.71 Q2016.75 1469.82 2013.79 1473.57 Q2010.85 1477.32 2006.13 1477.32 Q2003.28 1477.32 2001.22 1476.21 Q1999.18 1475.08 1997.84 1472.76 L1997.84 1476.65 L1993.56 1476.65 L1993.56 1440.63 L1997.84 1440.63 L1997.84 1454.66 Z\" fill=\"#000000\" fill-rule=\"evenodd\" fill-opacity=\"1\" /><path clip-path=\"url(#clip310)\" d=\"M 0 0 M2031.27 1453.71 Q2027.84 1453.71 2025.85 1456.4 Q2023.86 1459.06 2023.86 1463.71 Q2023.86 1468.36 2025.83 1471.05 Q2027.82 1473.71 2031.27 1473.71 Q2034.67 1473.71 2036.66 1471.03 Q2038.65 1468.34 2038.65 1463.71 Q2038.65 1459.11 2036.66 1456.42 Q2034.67 1453.71 2031.27 1453.71 M2031.27 1450.1 Q2036.82 1450.1 2039.99 1453.71 Q2043.16 1457.32 2043.16 1463.71 Q2043.16 1470.08 2039.99 1473.71 Q2036.82 1477.32 2031.27 1477.32 Q2025.69 1477.32 2022.52 1473.71 Q2019.37 1470.08 2019.37 1463.71 Q2019.37 1457.32 2022.52 1453.71 Q2025.69 1450.1 2031.27 1450.1 Z\" fill=\"#000000\" fill-rule=\"evenodd\" fill-opacity=\"1\" /><path clip-path=\"url(#clip310)\" d=\"M 0 0 M2051.84 1443.36 L2051.84 1450.73 L2060.62 1450.73 L2060.62 1454.04 L2051.84 1454.04 L2051.84 1468.11 Q2051.84 1471.28 2052.7 1472.18 Q2053.58 1473.09 2056.24 1473.09 L2060.62 1473.09 L2060.62 1476.65 L2056.24 1476.65 Q2051.31 1476.65 2049.44 1474.82 Q2047.56 1472.97 2047.56 1468.11 L2047.56 1454.04 L2044.44 1454.04 L2044.44 1450.73 L2047.56 1450.73 L2047.56 1443.36 L2051.84 1443.36 Z\" fill=\"#000000\" fill-rule=\"evenodd\" fill-opacity=\"1\" /><path clip-path=\"url(#clip310)\" d=\"M 0 0 M2069.3 1443.36 L2069.3 1450.73 L2078.07 1450.73 L2078.07 1454.04 L2069.3 1454.04 L2069.3 1468.11 Q2069.3 1471.28 2070.15 1472.18 Q2071.03 1473.09 2073.7 1473.09 L2078.07 1473.09 L2078.07 1476.65 L2073.7 1476.65 Q2068.77 1476.65 2066.89 1474.82 Q2065.02 1472.97 2065.02 1468.11 L2065.02 1454.04 L2061.89 1454.04 L2061.89 1450.73 L2065.02 1450.73 L2065.02 1443.36 L2069.3 1443.36 Z\" fill=\"#000000\" fill-rule=\"evenodd\" fill-opacity=\"1\" /><path clip-path=\"url(#clip310)\" d=\"M 0 0 M2092.58 1453.71 Q2089.16 1453.71 2087.17 1456.4 Q2085.18 1459.06 2085.18 1463.71 Q2085.18 1468.36 2087.15 1471.05 Q2089.14 1473.71 2092.58 1473.71 Q2095.99 1473.71 2097.98 1471.03 Q2099.97 1468.34 2099.97 1463.71 Q2099.97 1459.11 2097.98 1456.42 Q2095.99 1453.71 2092.58 1453.71 M2092.58 1450.1 Q2098.14 1450.1 2101.31 1453.71 Q2104.48 1457.32 2104.48 1463.71 Q2104.48 1470.08 2101.31 1473.71 Q2098.14 1477.32 2092.58 1477.32 Q2087.01 1477.32 2083.83 1473.71 Q2080.69 1470.08 2080.69 1463.71 Q2080.69 1457.32 2083.83 1453.71 Q2087.01 1450.1 2092.58 1450.1 Z\" fill=\"#000000\" fill-rule=\"evenodd\" fill-opacity=\"1\" /><path clip-path=\"url(#clip310)\" d=\"M 0 0 M2129.14 1455.7 Q2130.73 1452.83 2132.96 1451.47 Q2135.18 1450.1 2138.19 1450.1 Q2142.24 1450.1 2144.44 1452.95 Q2146.64 1455.77 2146.64 1461 L2146.64 1476.65 L2142.35 1476.65 L2142.35 1461.14 Q2142.35 1457.42 2141.03 1455.61 Q2139.71 1453.8 2137.01 1453.8 Q2133.7 1453.8 2131.77 1456 Q2129.85 1458.2 2129.85 1462 L2129.85 1476.65 L2125.57 1476.65 L2125.57 1461.14 Q2125.57 1457.39 2124.25 1455.61 Q2122.93 1453.8 2120.18 1453.8 Q2116.91 1453.8 2114.99 1456.03 Q2113.07 1458.23 2113.07 1462 L2113.07 1476.65 L2108.79 1476.65 L2108.79 1450.73 L2113.07 1450.73 L2113.07 1454.75 Q2114.53 1452.37 2116.57 1451.24 Q2118.6 1450.1 2121.4 1450.1 Q2124.23 1450.1 2126.2 1451.54 Q2128.19 1452.97 2129.14 1455.7 Z\" fill=\"#000000\" fill-rule=\"evenodd\" fill-opacity=\"1\" /><path clip-path=\"url(#clip310)\" d=\"M 0 0 M131.538 1286.59 L139.177 1286.59 L139.177 1260.22 L130.867 1261.89 L130.867 1257.63 L139.13 1255.96 L143.806 1255.96 L143.806 1286.59 L151.445 1286.59 L151.445 1290.52 L131.538 1290.52 L131.538 1286.59 Z\" fill=\"#000000\" fill-rule=\"evenodd\" fill-opacity=\"1\" /><path clip-path=\"url(#clip310)\" d=\"M 0 0 M166.515 1259.04 Q162.903 1259.04 161.075 1262.61 Q159.269 1266.15 159.269 1273.28 Q159.269 1280.38 161.075 1283.95 Q162.903 1287.49 166.515 1287.49 Q170.149 1287.49 171.954 1283.95 Q173.783 1280.38 173.783 1273.28 Q173.783 1266.15 171.954 1262.61 Q170.149 1259.04 166.515 1259.04 M166.515 1255.34 Q172.325 1255.34 175.38 1259.94 Q178.459 1264.53 178.459 1273.28 Q178.459 1282 175.38 1286.61 Q172.325 1291.19 166.515 1291.19 Q160.704 1291.19 157.626 1286.61 Q154.57 1282 154.57 1273.28 Q154.57 1264.53 157.626 1259.94 Q160.704 1255.34 166.515 1255.34 Z\" fill=\"#000000\" fill-rule=\"evenodd\" fill-opacity=\"1\" /><path clip-path=\"url(#clip310)\" d=\"M 0 0 M193.528 1259.04 Q189.917 1259.04 188.089 1262.61 Q186.283 1266.15 186.283 1273.28 Q186.283 1280.38 188.089 1283.95 Q189.917 1287.49 193.528 1287.49 Q197.163 1287.49 198.968 1283.95 Q200.797 1280.38 200.797 1273.28 Q200.797 1266.15 198.968 1262.61 Q197.163 1259.04 193.528 1259.04 M193.528 1255.34 Q199.338 1255.34 202.394 1259.94 Q205.473 1264.53 205.473 1273.28 Q205.473 1282 202.394 1286.61 Q199.338 1291.19 193.528 1291.19 Q187.718 1291.19 184.639 1286.61 Q181.584 1282 181.584 1273.28 Q181.584 1264.53 184.639 1259.94 Q187.718 1255.34 193.528 1255.34 Z\" fill=\"#000000\" fill-rule=\"evenodd\" fill-opacity=\"1\" /><path clip-path=\"url(#clip310)\" d=\"M 0 0 M135.126 1021.59 L151.445 1021.59 L151.445 1025.53 L129.501 1025.53 L129.501 1021.59 Q132.163 1018.84 136.746 1014.21 Q141.353 1009.55 142.533 1008.21 Q144.779 1005.69 145.658 1003.95 Q146.561 1002.19 146.561 1000.5 Q146.561 997.748 144.617 996.012 Q142.695 994.276 139.593 994.276 Q137.394 994.276 134.941 995.04 Q132.51 995.803 129.732 997.354 L129.732 992.632 Q132.556 991.498 135.01 990.919 Q137.464 990.34 139.501 990.34 Q144.871 990.34 148.066 993.026 Q151.26 995.711 151.26 1000.2 Q151.26 1002.33 150.45 1004.25 Q149.663 1006.15 147.556 1008.74 Q146.978 1009.41 143.876 1012.63 Q140.774 1015.83 135.126 1021.59 Z\" fill=\"#000000\" fill-rule=\"evenodd\" fill-opacity=\"1\" /><path clip-path=\"url(#clip310)\" d=\"M 0 0 M166.515 994.044 Q162.903 994.044 161.075 997.609 Q159.269 1001.15 159.269 1008.28 Q159.269 1015.39 161.075 1018.95 Q162.903 1022.49 166.515 1022.49 Q170.149 1022.49 171.954 1018.95 Q173.783 1015.39 173.783 1008.28 Q173.783 1001.15 171.954 997.609 Q170.149 994.044 166.515 994.044 M166.515 990.34 Q172.325 990.34 175.38 994.947 Q178.459 999.53 178.459 1008.28 Q178.459 1017.01 175.38 1021.61 Q172.325 1026.2 166.515 1026.2 Q160.704 1026.2 157.626 1021.61 Q154.57 1017.01 154.57 1008.28 Q154.57 999.53 157.626 994.947 Q160.704 990.34 166.515 990.34 Z\" fill=\"#000000\" fill-rule=\"evenodd\" fill-opacity=\"1\" /><path clip-path=\"url(#clip310)\" d=\"M 0 0 M193.528 994.044 Q189.917 994.044 188.089 997.609 Q186.283 1001.15 186.283 1008.28 Q186.283 1015.39 188.089 1018.95 Q189.917 1022.49 193.528 1022.49 Q197.163 1022.49 198.968 1018.95 Q200.797 1015.39 200.797 1008.28 Q200.797 1001.15 198.968 997.609 Q197.163 994.044 193.528 994.044 M193.528 990.34 Q199.338 990.34 202.394 994.947 Q205.473 999.53 205.473 1008.28 Q205.473 1017.01 202.394 1021.61 Q199.338 1026.2 193.528 1026.2 Q187.718 1026.2 184.639 1021.61 Q181.584 1017.01 181.584 1008.28 Q181.584 999.53 184.639 994.947 Q187.718 990.34 193.528 990.34 Z\" fill=\"#000000\" fill-rule=\"evenodd\" fill-opacity=\"1\" /><path clip-path=\"url(#clip310)\" d=\"M 0 0 M144.316 741.895 Q147.672 742.612 149.547 744.881 Q151.445 747.149 151.445 750.483 Q151.445 755.598 147.927 758.399 Q144.408 761.2 137.927 761.2 Q135.751 761.2 133.436 760.76 Q131.144 760.344 128.691 759.487 L128.691 754.973 Q130.635 756.108 132.95 756.686 Q135.265 757.265 137.788 757.265 Q142.186 757.265 144.478 755.529 Q146.792 753.793 146.792 750.483 Q146.792 747.427 144.64 745.714 Q142.51 743.978 138.691 743.978 L134.663 743.978 L134.663 740.135 L138.876 740.135 Q142.325 740.135 144.154 738.77 Q145.982 737.381 145.982 734.788 Q145.982 732.126 144.084 730.714 Q142.209 729.279 138.691 729.279 Q136.769 729.279 134.57 729.696 Q132.371 730.112 129.732 730.992 L129.732 726.825 Q132.394 726.085 134.709 725.714 Q137.047 725.344 139.107 725.344 Q144.431 725.344 147.533 727.774 Q150.635 730.182 150.635 734.302 Q150.635 737.173 148.992 739.163 Q147.348 741.131 144.316 741.895 Z\" fill=\"#000000\" fill-rule=\"evenodd\" fill-opacity=\"1\" /><path clip-path=\"url(#clip310)\" d=\"M 0 0 M166.515 729.048 Q162.903 729.048 161.075 732.612 Q159.269 736.154 159.269 743.284 Q159.269 750.39 161.075 753.955 Q162.903 757.496 166.515 757.496 Q170.149 757.496 171.954 753.955 Q173.783 750.39 173.783 743.284 Q173.783 736.154 171.954 732.612 Q170.149 729.048 166.515 729.048 M166.515 725.344 Q172.325 725.344 175.38 729.95 Q178.459 734.534 178.459 743.284 Q178.459 752.01 175.38 756.617 Q172.325 761.2 166.515 761.2 Q160.704 761.2 157.626 756.617 Q154.57 752.01 154.57 743.284 Q154.57 734.534 157.626 729.95 Q160.704 725.344 166.515 725.344 Z\" fill=\"#000000\" fill-rule=\"evenodd\" fill-opacity=\"1\" /><path clip-path=\"url(#clip310)\" d=\"M 0 0 M193.528 729.048 Q189.917 729.048 188.089 732.612 Q186.283 736.154 186.283 743.284 Q186.283 750.39 188.089 753.955 Q189.917 757.496 193.528 757.496 Q197.163 757.496 198.968 753.955 Q200.797 750.39 200.797 743.284 Q200.797 736.154 198.968 732.612 Q197.163 729.048 193.528 729.048 M193.528 725.344 Q199.338 725.344 202.394 729.95 Q205.473 734.534 205.473 743.284 Q205.473 752.01 202.394 756.617 Q199.338 761.2 193.528 761.2 Q187.718 761.2 184.639 756.617 Q181.584 752.01 181.584 743.284 Q181.584 734.534 184.639 729.95 Q187.718 725.344 193.528 725.344 Z\" fill=\"#000000\" fill-rule=\"evenodd\" fill-opacity=\"1\" /><path clip-path=\"url(#clip310)\" d=\"M 0 0 M141.862 465.046 L130.056 483.495 L141.862 483.495 L141.862 465.046 M140.635 460.972 L146.515 460.972 L146.515 483.495 L151.445 483.495 L151.445 487.384 L146.515 487.384 L146.515 495.532 L141.862 495.532 L141.862 487.384 L126.26 487.384 L126.26 482.87 L140.635 460.972 Z\" fill=\"#000000\" fill-rule=\"evenodd\" fill-opacity=\"1\" /><path clip-path=\"url(#clip310)\" d=\"M 0 0 M166.515 464.051 Q162.903 464.051 161.075 467.616 Q159.269 471.157 159.269 478.287 Q159.269 485.393 161.075 488.958 Q162.903 492.5 166.515 492.5 Q170.149 492.5 171.954 488.958 Q173.783 485.393 173.783 478.287 Q173.783 471.157 171.954 467.616 Q170.149 464.051 166.515 464.051 M166.515 460.347 Q172.325 460.347 175.38 464.954 Q178.459 469.537 178.459 478.287 Q178.459 487.014 175.38 491.62 Q172.325 496.204 166.515 496.204 Q160.704 496.204 157.626 491.62 Q154.57 487.014 154.57 478.287 Q154.57 469.537 157.626 464.954 Q160.704 460.347 166.515 460.347 Z\" fill=\"#000000\" fill-rule=\"evenodd\" fill-opacity=\"1\" /><path clip-path=\"url(#clip310)\" d=\"M 0 0 M193.528 464.051 Q189.917 464.051 188.089 467.616 Q186.283 471.157 186.283 478.287 Q186.283 485.393 188.089 488.958 Q189.917 492.5 193.528 492.5 Q197.163 492.5 198.968 488.958 Q200.797 485.393 200.797 478.287 Q200.797 471.157 198.968 467.616 Q197.163 464.051 193.528 464.051 M193.528 460.347 Q199.338 460.347 202.394 464.954 Q205.473 469.537 205.473 478.287 Q205.473 487.014 202.394 491.62 Q199.338 496.204 193.528 496.204 Q187.718 496.204 184.639 491.62 Q181.584 487.014 181.584 478.287 Q181.584 469.537 184.639 464.954 Q187.718 460.347 193.528 460.347 Z\" fill=\"#000000\" fill-rule=\"evenodd\" fill-opacity=\"1\" /><path clip-path=\"url(#clip310)\" d=\"M 0 0 M130.543 195.976 L148.899 195.976 L148.899 199.911 L134.825 199.911 L134.825 208.383 Q135.843 208.036 136.862 207.874 Q137.88 207.689 138.899 207.689 Q144.686 207.689 148.066 210.86 Q151.445 214.031 151.445 219.448 Q151.445 225.026 147.973 228.128 Q144.501 231.207 138.181 231.207 Q136.005 231.207 133.737 230.837 Q131.492 230.466 129.084 229.725 L129.084 225.026 Q131.168 226.161 133.39 226.716 Q135.612 227.272 138.089 227.272 Q142.093 227.272 144.431 225.165 Q146.769 223.059 146.769 219.448 Q146.769 215.837 144.431 213.73 Q142.093 211.624 138.089 211.624 Q136.214 211.624 134.339 212.04 Q132.487 212.457 130.543 213.337 L130.543 195.976 Z\" fill=\"#000000\" fill-rule=\"evenodd\" fill-opacity=\"1\" /><path clip-path=\"url(#clip310)\" d=\"M 0 0 M166.515 199.054 Q162.903 199.054 161.075 202.619 Q159.269 206.161 159.269 213.29 Q159.269 220.397 161.075 223.962 Q162.903 227.503 166.515 227.503 Q170.149 227.503 171.954 223.962 Q173.783 220.397 173.783 213.29 Q173.783 206.161 171.954 202.619 Q170.149 199.054 166.515 199.054 M166.515 195.351 Q172.325 195.351 175.38 199.957 Q178.459 204.54 178.459 213.29 Q178.459 222.017 175.38 226.624 Q172.325 231.207 166.515 231.207 Q160.704 231.207 157.626 226.624 Q154.57 222.017 154.57 213.29 Q154.57 204.54 157.626 199.957 Q160.704 195.351 166.515 195.351 Z\" fill=\"#000000\" fill-rule=\"evenodd\" fill-opacity=\"1\" /><path clip-path=\"url(#clip310)\" d=\"M 0 0 M193.528 199.054 Q189.917 199.054 188.089 202.619 Q186.283 206.161 186.283 213.29 Q186.283 220.397 188.089 223.962 Q189.917 227.503 193.528 227.503 Q197.163 227.503 198.968 223.962 Q200.797 220.397 200.797 213.29 Q200.797 206.161 198.968 202.619 Q197.163 199.054 193.528 199.054 M193.528 195.351 Q199.338 195.351 202.394 199.957 Q205.473 204.54 205.473 213.29 Q205.473 222.017 202.394 226.624 Q199.338 231.207 193.528 231.207 Q187.718 231.207 184.639 226.624 Q181.584 222.017 181.584 213.29 Q181.584 204.54 184.639 199.957 Q187.718 195.351 193.528 195.351 Z\" fill=\"#000000\" fill-rule=\"evenodd\" fill-opacity=\"1\" /><path clip-path=\"url(#clip310)\" d=\"M 0 0 M708.797 12.096 L747.037 12.096 L747.037 18.9825 L716.98 18.9825 L716.98 36.8875 L745.782 36.8875 L745.782 43.7741 L716.98 43.7741 L716.98 65.6895 L747.767 65.6895 L747.767 72.576 L708.797 72.576 L708.797 12.096 Z\" fill=\"#000000\" fill-rule=\"evenodd\" fill-opacity=\"1\" /><path clip-path=\"url(#clip310)\" d=\"M 0 0 M755.585 9.54393 L763.038 9.54393 L763.038 72.576 L755.585 72.576 L755.585 9.54393 Z\" fill=\"#000000\" fill-rule=\"evenodd\" fill-opacity=\"1\" /><path clip-path=\"url(#clip310)\" d=\"M 0 0 M809.664 48.0275 L809.664 51.6733 L775.394 51.6733 Q775.88 59.3701 780.012 63.421 Q784.184 67.4314 791.597 67.4314 Q795.891 67.4314 799.902 66.3781 Q803.953 65.3249 807.922 63.2184 L807.922 70.267 Q803.912 71.9684 799.699 72.8596 Q795.486 73.7508 791.152 73.7508 Q780.295 73.7508 773.935 67.4314 Q767.616 61.1119 767.616 50.3365 Q767.616 39.1965 773.611 32.6746 Q779.647 26.1121 789.855 26.1121 Q799.01 26.1121 804.317 32.0264 Q809.664 37.9003 809.664 48.0275 M802.211 45.84 Q802.13 39.7232 798.767 36.0774 Q795.446 32.4315 789.936 32.4315 Q783.698 32.4315 779.931 35.9558 Q776.204 39.4801 775.637 45.8805 L802.211 45.84 Z\" fill=\"#000000\" fill-rule=\"evenodd\" fill-opacity=\"1\" /><path clip-path=\"url(#clip310)\" d=\"M 0 0 M850.133 28.9478 L850.133 35.9153 Q846.973 34.1734 843.773 33.3227 Q840.613 32.4315 837.373 32.4315 Q830.121 32.4315 826.111 37.0496 Q822.101 41.6271 822.101 49.9314 Q822.101 58.2358 826.111 62.8538 Q830.121 67.4314 837.373 67.4314 Q840.613 67.4314 843.773 66.5807 Q846.973 65.6895 850.133 63.9476 L850.133 70.8341 Q847.014 72.2924 843.651 73.0216 Q840.33 73.7508 836.562 73.7508 Q826.314 73.7508 820.278 67.3098 Q814.242 60.8689 814.242 49.9314 Q814.242 38.832 820.318 32.472 Q826.435 26.1121 837.048 26.1121 Q840.492 26.1121 843.773 26.8413 Q847.054 27.5299 850.133 28.9478 Z\" fill=\"#000000\" fill-rule=\"evenodd\" fill-opacity=\"1\" /><path clip-path=\"url(#clip310)\" d=\"M 0 0 M865.324 14.324 L865.324 27.2059 L880.677 27.2059 L880.677 32.9987 L865.324 32.9987 L865.324 57.6282 Q865.324 63.1779 866.823 64.7578 Q868.362 66.3376 873.02 66.3376 L880.677 66.3376 L880.677 72.576 L873.02 72.576 Q864.392 72.576 861.111 69.3758 Q857.83 66.1351 857.83 57.6282 L857.83 32.9987 L852.361 32.9987 L852.361 27.2059 L857.83 27.2059 L857.83 14.324 L865.324 14.324 Z\" fill=\"#000000\" fill-rule=\"evenodd\" fill-opacity=\"1\" /><path clip-path=\"url(#clip310)\" d=\"M 0 0 M914.785 34.1734 Q913.53 33.4443 912.031 33.1202 Q910.572 32.7556 908.79 32.7556 Q902.471 32.7556 899.068 36.8875 Q895.706 40.9789 895.706 48.6757 L895.706 72.576 L888.211 72.576 L888.211 27.2059 L895.706 27.2059 L895.706 34.2544 Q898.055 30.1225 901.822 28.1376 Q905.59 26.1121 910.977 26.1121 Q911.747 26.1121 912.679 26.2337 Q913.611 26.3147 914.745 26.5172 L914.785 34.1734 Z\" fill=\"#000000\" fill-rule=\"evenodd\" fill-opacity=\"1\" /><path clip-path=\"url(#clip310)\" d=\"M 0 0 M922.604 27.2059 L930.057 27.2059 L930.057 72.576 L922.604 72.576 L922.604 27.2059 M922.604 9.54393 L930.057 9.54393 L930.057 18.9825 L922.604 18.9825 L922.604 9.54393 Z\" fill=\"#000000\" fill-rule=\"evenodd\" fill-opacity=\"1\" /><path clip-path=\"url(#clip310)\" d=\"M 0 0 M970.526 28.9478 L970.526 35.9153 Q967.366 34.1734 964.166 33.3227 Q961.006 32.4315 957.765 32.4315 Q950.514 32.4315 946.504 37.0496 Q942.493 41.6271 942.493 49.9314 Q942.493 58.2358 946.504 62.8538 Q950.514 67.4314 957.765 67.4314 Q961.006 67.4314 964.166 66.5807 Q967.366 65.6895 970.526 63.9476 L970.526 70.8341 Q967.407 72.2924 964.044 73.0216 Q960.723 73.7508 956.955 73.7508 Q946.706 73.7508 940.671 67.3098 Q934.635 60.8689 934.635 49.9314 Q934.635 38.832 940.711 32.472 Q946.828 26.1121 957.441 26.1121 Q960.885 26.1121 964.166 26.8413 Q967.447 27.5299 970.526 28.9478 Z\" fill=\"#000000\" fill-rule=\"evenodd\" fill-opacity=\"1\" /><path clip-path=\"url(#clip310)\" d=\"M 0 0 M998.963 49.7694 Q989.93 49.7694 986.446 51.8354 Q982.962 53.9013 982.962 58.8839 Q982.962 62.8538 985.555 65.2034 Q988.188 67.5124 992.684 67.5124 Q998.882 67.5124 1002.61 63.1374 Q1006.38 58.7219 1006.38 51.4303 L1006.38 49.7694 L998.963 49.7694 M1013.83 46.6907 L1013.83 72.576 L1006.38 72.576 L1006.38 65.6895 Q1003.82 69.8214 1000.02 71.8063 Q996.208 73.7508 990.699 73.7508 Q983.732 73.7508 979.6 69.8619 Q975.508 65.9325 975.508 59.3701 Q975.508 51.7138 980.612 47.825 Q985.757 43.9361 995.925 43.9361 L1006.38 43.9361 L1006.38 43.2069 Q1006.38 38.0623 1002.97 35.2672 Q999.611 32.4315 993.494 32.4315 Q989.605 32.4315 985.919 33.3632 Q982.233 34.295 978.83 36.1584 L978.83 29.2718 Q982.922 27.692 986.77 26.9223 Q990.618 26.1121 994.264 26.1121 Q1004.11 26.1121 1008.97 31.2163 Q1013.83 36.3204 1013.83 46.6907 Z\" fill=\"#000000\" fill-rule=\"evenodd\" fill-opacity=\"1\" /><path clip-path=\"url(#clip310)\" d=\"M 0 0 M1021.65 9.54393 L1029.1 9.54393 L1029.1 72.576 L1021.65 72.576 L1021.65 9.54393 Z\" fill=\"#000000\" fill-rule=\"evenodd\" fill-opacity=\"1\" /><path clip-path=\"url(#clip310)\" d=\"M 0 0 M1063.62 12.096 L1101.86 12.096 L1101.86 18.9825 L1071.8 18.9825 L1071.8 36.8875 L1100.6 36.8875 L1100.6 43.7741 L1071.8 43.7741 L1071.8 65.6895 L1102.59 65.6895 L1102.59 72.576 L1063.62 72.576 L1063.62 12.096 Z\" fill=\"#000000\" fill-rule=\"evenodd\" fill-opacity=\"1\" /><path clip-path=\"url(#clip310)\" d=\"M 0 0 M1148.12 45.1919 L1148.12 72.576 L1140.66 72.576 L1140.66 45.4349 Q1140.66 38.994 1138.15 35.7938 Q1135.64 32.5936 1130.62 32.5936 Q1124.58 32.5936 1121.1 36.4419 Q1117.61 40.2903 1117.61 46.9338 L1117.61 72.576 L1110.12 72.576 L1110.12 27.2059 L1117.61 27.2059 L1117.61 34.2544 Q1120.29 30.163 1123.89 28.1376 Q1127.54 26.1121 1132.28 26.1121 Q1140.1 26.1121 1144.11 30.9732 Q1148.12 35.7938 1148.12 45.1919 Z\" fill=\"#000000\" fill-rule=\"evenodd\" fill-opacity=\"1\" /><path clip-path=\"url(#clip310)\" d=\"M 0 0 M1185.79 49.3643 Q1185.79 41.2625 1182.43 36.8065 Q1179.11 32.3505 1173.07 32.3505 Q1167.08 32.3505 1163.71 36.8065 Q1160.39 41.2625 1160.39 49.3643 Q1160.39 57.4256 1163.71 61.8816 Q1167.08 66.3376 1173.07 66.3376 Q1179.11 66.3376 1182.43 61.8816 Q1185.79 57.4256 1185.79 49.3643 M1193.24 66.9452 Q1193.24 78.5308 1188.1 84.1616 Q1182.96 89.8329 1172.34 89.8329 Q1168.41 89.8329 1164.93 89.2252 Q1161.44 88.6581 1158.16 87.4428 L1158.16 80.1917 Q1161.44 81.9741 1164.65 82.8248 Q1167.85 83.6755 1171.17 83.6755 Q1178.5 83.6755 1182.14 79.8271 Q1185.79 76.0193 1185.79 68.282 L1185.79 64.5957 Q1183.48 68.6061 1179.88 70.5911 Q1176.27 72.576 1171.25 72.576 Q1162.9 72.576 1157.8 66.2161 Q1152.69 59.8562 1152.69 49.3643 Q1152.69 38.832 1157.8 32.472 Q1162.9 26.1121 1171.25 26.1121 Q1176.27 26.1121 1179.88 28.0971 Q1183.48 30.082 1185.79 34.0924 L1185.79 27.2059 L1193.24 27.2059 L1193.24 66.9452 Z\" fill=\"#000000\" fill-rule=\"evenodd\" fill-opacity=\"1\" /><path clip-path=\"url(#clip310)\" d=\"M 0 0 M1201.06 27.2059 L1208.52 27.2059 L1208.52 72.576 L1201.06 72.576 L1201.06 27.2059 M1201.06 9.54393 L1208.52 9.54393 L1208.52 18.9825 L1201.06 18.9825 L1201.06 9.54393 Z\" fill=\"#000000\" fill-rule=\"evenodd\" fill-opacity=\"1\" /><path clip-path=\"url(#clip310)\" d=\"M 0 0 M1254.05 45.1919 L1254.05 72.576 L1246.59 72.576 L1246.59 45.4349 Q1246.59 38.994 1244.08 35.7938 Q1241.57 32.5936 1236.55 32.5936 Q1230.51 32.5936 1227.03 36.4419 Q1223.55 40.2903 1223.55 46.9338 L1223.55 72.576 L1216.05 72.576 L1216.05 27.2059 L1223.55 27.2059 L1223.55 34.2544 Q1226.22 30.163 1229.82 28.1376 Q1233.47 26.1121 1238.21 26.1121 Q1246.03 26.1121 1250.04 30.9732 Q1254.05 35.7938 1254.05 45.1919 Z\" fill=\"#000000\" fill-rule=\"evenodd\" fill-opacity=\"1\" /><path clip-path=\"url(#clip310)\" d=\"M 0 0 M1300.67 48.0275 L1300.67 51.6733 L1266.4 51.6733 Q1266.89 59.3701 1271.02 63.421 Q1275.19 67.4314 1282.61 67.4314 Q1286.9 67.4314 1290.91 66.3781 Q1294.96 65.3249 1298.93 63.2184 L1298.93 70.267 Q1294.92 71.9684 1290.71 72.8596 Q1286.5 73.7508 1282.16 73.7508 Q1271.31 73.7508 1264.95 67.4314 Q1258.63 61.1119 1258.63 50.3365 Q1258.63 39.1965 1264.62 32.6746 Q1270.66 26.1121 1280.87 26.1121 Q1290.02 26.1121 1295.33 32.0264 Q1300.67 37.9003 1300.67 48.0275 M1293.22 45.84 Q1293.14 39.7232 1289.78 36.0774 Q1286.46 32.4315 1280.95 32.4315 Q1274.71 32.4315 1270.94 35.9558 Q1267.21 39.4801 1266.65 45.8805 L1293.22 45.84 Z\" fill=\"#000000\" fill-rule=\"evenodd\" fill-opacity=\"1\" /><path clip-path=\"url(#clip310)\" d=\"M 0 0 M1347.3 48.0275 L1347.3 51.6733 L1313.03 51.6733 Q1313.52 59.3701 1317.65 63.421 Q1321.82 67.4314 1329.23 67.4314 Q1333.53 67.4314 1337.54 66.3781 Q1341.59 65.3249 1345.56 63.2184 L1345.56 70.267 Q1341.55 71.9684 1337.34 72.8596 Q1333.12 73.7508 1328.79 73.7508 Q1317.93 73.7508 1311.57 67.4314 Q1305.25 61.1119 1305.25 50.3365 Q1305.25 39.1965 1311.25 32.6746 Q1317.28 26.1121 1327.49 26.1121 Q1336.65 26.1121 1341.95 32.0264 Q1347.3 37.9003 1347.3 48.0275 M1339.85 45.84 Q1339.77 39.7232 1336.4 36.0774 Q1333.08 32.4315 1327.57 32.4315 Q1321.33 32.4315 1317.57 35.9558 Q1313.84 39.4801 1313.27 45.8805 L1339.85 45.84 Z\" fill=\"#000000\" fill-rule=\"evenodd\" fill-opacity=\"1\" /><path clip-path=\"url(#clip310)\" d=\"M 0 0 M1381.41 34.1734 Q1380.15 33.4443 1378.65 33.1202 Q1377.2 32.7556 1375.41 32.7556 Q1369.09 32.7556 1365.69 36.8875 Q1362.33 40.9789 1362.33 48.6757 L1362.33 72.576 L1354.84 72.576 L1354.84 27.2059 L1362.33 27.2059 L1362.33 34.2544 Q1364.68 30.1225 1368.45 28.1376 Q1372.21 26.1121 1377.6 26.1121 Q1378.37 26.1121 1379.3 26.2337 Q1380.23 26.3147 1381.37 26.5172 L1381.41 34.1734 Z\" fill=\"#000000\" fill-rule=\"evenodd\" fill-opacity=\"1\" /><path clip-path=\"url(#clip310)\" d=\"M 0 0 M1389.23 27.2059 L1396.68 27.2059 L1396.68 72.576 L1389.23 72.576 L1389.23 27.2059 M1389.23 9.54393 L1396.68 9.54393 L1396.68 18.9825 L1389.23 18.9825 L1389.23 9.54393 Z\" fill=\"#000000\" fill-rule=\"evenodd\" fill-opacity=\"1\" /><path clip-path=\"url(#clip310)\" d=\"M 0 0 M1442.21 45.1919 L1442.21 72.576 L1434.76 72.576 L1434.76 45.4349 Q1434.76 38.994 1432.25 35.7938 Q1429.74 32.5936 1424.71 32.5936 Q1418.68 32.5936 1415.19 36.4419 Q1411.71 40.2903 1411.71 46.9338 L1411.71 72.576 L1404.22 72.576 L1404.22 27.2059 L1411.71 27.2059 L1411.71 34.2544 Q1414.38 30.163 1417.99 28.1376 Q1421.63 26.1121 1426.37 26.1121 Q1434.19 26.1121 1438.2 30.9732 Q1442.21 35.7938 1442.21 45.1919 Z\" fill=\"#000000\" fill-rule=\"evenodd\" fill-opacity=\"1\" /><path clip-path=\"url(#clip310)\" d=\"M 0 0 M1479.89 49.3643 Q1479.89 41.2625 1476.52 36.8065 Q1473.2 32.3505 1467.17 32.3505 Q1461.17 32.3505 1457.81 36.8065 Q1454.49 41.2625 1454.49 49.3643 Q1454.49 57.4256 1457.81 61.8816 Q1461.17 66.3376 1467.17 66.3376 Q1473.2 66.3376 1476.52 61.8816 Q1479.89 57.4256 1479.89 49.3643 M1487.34 66.9452 Q1487.34 78.5308 1482.2 84.1616 Q1477.05 89.8329 1466.44 89.8329 Q1462.51 89.8329 1459.02 89.2252 Q1455.54 88.6581 1452.26 87.4428 L1452.26 80.1917 Q1455.54 81.9741 1458.74 82.8248 Q1461.94 83.6755 1465.26 83.6755 Q1472.59 83.6755 1476.24 79.8271 Q1479.89 76.0193 1479.89 68.282 L1479.89 64.5957 Q1477.58 68.6061 1473.97 70.5911 Q1470.37 72.576 1465.34 72.576 Q1457 72.576 1451.89 66.2161 Q1446.79 59.8562 1446.79 49.3643 Q1446.79 38.832 1451.89 32.472 Q1457 26.1121 1465.34 26.1121 Q1470.37 26.1121 1473.97 28.0971 Q1477.58 30.082 1479.89 34.0924 L1479.89 27.2059 L1487.34 27.2059 L1487.34 66.9452 Z\" fill=\"#000000\" fill-rule=\"evenodd\" fill-opacity=\"1\" /><path clip-path=\"url(#clip310)\" d=\"M 0 0 M1530.04 18.8205 L1530.04 41.5461 L1540.33 41.5461 Q1546.04 41.5461 1549.16 38.5889 Q1552.28 35.6318 1552.28 30.163 Q1552.28 24.7348 1549.16 21.7777 Q1546.04 18.8205 1540.33 18.8205 L1530.04 18.8205 M1521.85 12.096 L1540.33 12.096 Q1550.49 12.096 1555.68 16.714 Q1560.9 21.2916 1560.9 30.163 Q1560.9 39.1155 1555.68 43.6931 Q1550.49 48.2706 1540.33 48.2706 L1530.04 48.2706 L1530.04 72.576 L1521.85 72.576 L1521.85 12.096 Z\" fill=\"#000000\" fill-rule=\"evenodd\" fill-opacity=\"1\" /><path clip-path=\"url(#clip310)\" d=\"M 0 0 M1593.55 34.1734 Q1592.3 33.4443 1590.8 33.1202 Q1589.34 32.7556 1587.56 32.7556 Q1581.24 32.7556 1577.84 36.8875 Q1574.48 40.9789 1574.48 48.6757 L1574.48 72.576 L1566.98 72.576 L1566.98 27.2059 L1574.48 27.2059 L1574.48 34.2544 Q1576.82 30.1225 1580.59 28.1376 Q1584.36 26.1121 1589.75 26.1121 Q1590.52 26.1121 1591.45 26.2337 Q1592.38 26.3147 1593.51 26.5172 L1593.55 34.1734 Z\" fill=\"#000000\" fill-rule=\"evenodd\" fill-opacity=\"1\" /><path clip-path=\"url(#clip310)\" d=\"M 0 0 M1617.13 32.4315 Q1611.14 32.4315 1607.65 37.1306 Q1604.17 41.7891 1604.17 49.9314 Q1604.17 58.0738 1607.61 62.7728 Q1611.1 67.4314 1617.13 67.4314 Q1623.09 67.4314 1626.57 62.7323 Q1630.05 58.0333 1630.05 49.9314 Q1630.05 41.8701 1626.57 37.1711 Q1623.09 32.4315 1617.13 32.4315 M1617.13 26.1121 Q1626.85 26.1121 1632.4 32.4315 Q1637.95 38.7509 1637.95 49.9314 Q1637.95 61.0714 1632.4 67.4314 Q1626.85 73.7508 1617.13 73.7508 Q1607.37 73.7508 1601.82 67.4314 Q1596.31 61.0714 1596.31 49.9314 Q1596.31 38.7509 1601.82 32.4315 Q1607.37 26.1121 1617.13 26.1121 Z\" fill=\"#000000\" fill-rule=\"evenodd\" fill-opacity=\"1\" /><path clip-path=\"url(#clip310)\" d=\"M 0 0 M1675.63 49.3643 Q1675.63 41.2625 1672.26 36.8065 Q1668.94 32.3505 1662.91 32.3505 Q1656.91 32.3505 1653.55 36.8065 Q1650.23 41.2625 1650.23 49.3643 Q1650.23 57.4256 1653.55 61.8816 Q1656.91 66.3376 1662.91 66.3376 Q1668.94 66.3376 1672.26 61.8816 Q1675.63 57.4256 1675.63 49.3643 M1683.08 66.9452 Q1683.08 78.5308 1677.94 84.1616 Q1672.79 89.8329 1662.18 89.8329 Q1658.25 89.8329 1654.76 89.2252 Q1651.28 88.6581 1648 87.4428 L1648 80.1917 Q1651.28 81.9741 1654.48 82.8248 Q1657.68 83.6755 1661 83.6755 Q1668.33 83.6755 1671.98 79.8271 Q1675.63 76.0193 1675.63 68.282 L1675.63 64.5957 Q1673.32 68.6061 1669.71 70.5911 Q1666.11 72.576 1661.08 72.576 Q1652.74 72.576 1647.63 66.2161 Q1642.53 59.8562 1642.53 49.3643 Q1642.53 38.832 1647.63 32.472 Q1652.74 26.1121 1661.08 26.1121 Q1666.11 26.1121 1669.71 28.0971 Q1673.32 30.082 1675.63 34.0924 L1675.63 27.2059 L1683.08 27.2059 L1683.08 66.9452 Z\" fill=\"#000000\" fill-rule=\"evenodd\" fill-opacity=\"1\" /><path clip-path=\"url(#clip310)\" d=\"M 0 0 M1717.19 34.1734 Q1715.93 33.4443 1714.43 33.1202 Q1712.98 32.7556 1711.19 32.7556 Q1704.87 32.7556 1701.47 36.8875 Q1698.11 40.9789 1698.11 48.6757 L1698.11 72.576 L1690.61 72.576 L1690.61 27.2059 L1698.11 27.2059 L1698.11 34.2544 Q1700.46 30.1225 1704.23 28.1376 Q1707.99 26.1121 1713.38 26.1121 Q1714.15 26.1121 1715.08 26.2337 Q1716.01 26.3147 1717.15 26.5172 L1717.19 34.1734 Z\" fill=\"#000000\" fill-rule=\"evenodd\" fill-opacity=\"1\" /><path clip-path=\"url(#clip310)\" d=\"M 0 0 M1745.63 49.7694 Q1736.59 49.7694 1733.11 51.8354 Q1729.62 53.9013 1729.62 58.8839 Q1729.62 62.8538 1732.22 65.2034 Q1734.85 67.5124 1739.35 67.5124 Q1745.54 67.5124 1749.27 63.1374 Q1753.04 58.7219 1753.04 51.4303 L1753.04 49.7694 L1745.63 49.7694 M1760.49 46.6907 L1760.49 72.576 L1753.04 72.576 L1753.04 65.6895 Q1750.49 69.8214 1746.68 71.8063 Q1742.87 73.7508 1737.36 73.7508 Q1730.39 73.7508 1726.26 69.8619 Q1722.17 65.9325 1722.17 59.3701 Q1722.17 51.7138 1727.28 47.825 Q1732.42 43.9361 1742.59 43.9361 L1753.04 43.9361 L1753.04 43.2069 Q1753.04 38.0623 1749.64 35.2672 Q1746.27 32.4315 1740.16 32.4315 Q1736.27 32.4315 1732.58 33.3632 Q1728.9 34.295 1725.49 36.1584 L1725.49 29.2718 Q1729.58 27.692 1733.43 26.9223 Q1737.28 26.1121 1740.93 26.1121 Q1750.77 26.1121 1755.63 31.2163 Q1760.49 36.3204 1760.49 46.6907 Z\" fill=\"#000000\" fill-rule=\"evenodd\" fill-opacity=\"1\" /><path clip-path=\"url(#clip310)\" d=\"M 0 0 M1803.63 35.9153 Q1806.43 30.8922 1810.32 28.5022 Q1814.21 26.1121 1819.47 26.1121 Q1826.56 26.1121 1830.41 31.0947 Q1834.26 36.0368 1834.26 45.1919 L1834.26 72.576 L1826.77 72.576 L1826.77 45.4349 Q1826.77 38.913 1824.46 35.7533 Q1822.15 32.5936 1817.41 32.5936 Q1811.61 32.5936 1808.25 36.4419 Q1804.89 40.2903 1804.89 46.9338 L1804.89 72.576 L1797.4 72.576 L1797.4 45.4349 Q1797.4 38.8725 1795.09 35.7533 Q1792.78 32.5936 1787.96 32.5936 Q1782.25 32.5936 1778.88 36.4824 Q1775.52 40.3308 1775.52 46.9338 L1775.52 72.576 L1768.03 72.576 L1768.03 27.2059 L1775.52 27.2059 L1775.52 34.2544 Q1778.07 30.082 1781.64 28.0971 Q1785.2 26.1121 1790.1 26.1121 Q1795.05 26.1121 1798.49 28.6237 Q1801.97 31.1352 1803.63 35.9153 Z\" fill=\"#000000\" fill-rule=\"evenodd\" fill-opacity=\"1\" /><path clip-path=\"url(#clip310)\" d=\"M 0 0 M1871 28.5427 L1871 35.5912 Q1867.84 33.9709 1864.44 33.1607 Q1861.04 32.3505 1857.39 32.3505 Q1851.84 32.3505 1849.05 34.0519 Q1846.29 35.7533 1846.29 39.156 Q1846.29 41.7486 1848.28 43.2475 Q1850.26 44.7058 1856.26 46.0426 L1858.81 46.6097 Q1866.75 48.3111 1870.07 51.4303 Q1873.43 54.509 1873.43 60.0587 Q1873.43 66.3781 1868.41 70.0644 Q1863.43 73.7508 1854.68 73.7508 Q1851.03 73.7508 1847.06 73.0216 Q1843.13 72.3329 1838.76 70.9151 L1838.76 63.2184 Q1842.89 65.3654 1846.9 66.4591 Q1850.91 67.5124 1854.84 67.5124 Q1860.1 67.5124 1862.94 65.73 Q1865.78 63.9071 1865.78 60.6258 Q1865.78 57.5877 1863.71 55.9673 Q1861.68 54.3469 1854.76 52.8481 L1852.16 52.2405 Q1845.24 50.7821 1842.16 47.7845 Q1839.08 44.7463 1839.08 39.4801 Q1839.08 33.0797 1843.62 29.5959 Q1848.15 26.1121 1856.5 26.1121 Q1860.63 26.1121 1864.28 26.7198 Q1867.92 27.3274 1871 28.5427 Z\" fill=\"#000000\" fill-rule=\"evenodd\" fill-opacity=\"1\" /><path clip-path=\"url(#clip310)\" d=\"M 0 0 M1237.07 1510.27 L1237.07 1520.4 L1249.13 1520.4 L1249.13 1524.95 L1237.07 1524.95 L1237.07 1544.3 Q1237.07 1548.66 1238.25 1549.9 Q1239.46 1551.14 1243.12 1551.14 L1249.13 1551.14 L1249.13 1556.04 L1243.12 1556.04 Q1236.34 1556.04 1233.76 1553.53 Q1231.18 1550.98 1231.18 1544.3 L1231.18 1524.95 L1226.88 1524.95 L1226.88 1520.4 L1231.18 1520.4 L1231.18 1510.27 L1237.07 1510.27 Z\" fill=\"#000000\" fill-rule=\"evenodd\" fill-opacity=\"1\" /><path clip-path=\"url(#clip310)\" d=\"M 0 0 M1255.28 1520.4 L1261.13 1520.4 L1261.13 1556.04 L1255.28 1556.04 L1255.28 1520.4 M1255.28 1506.52 L1261.13 1506.52 L1261.13 1513.93 L1255.28 1513.93 L1255.28 1506.52 Z\" fill=\"#000000\" fill-rule=\"evenodd\" fill-opacity=\"1\" /><path clip-path=\"url(#clip310)\" d=\"M 0 0 M1297.77 1536.76 L1297.77 1539.62 L1270.84 1539.62 Q1271.22 1545.67 1274.47 1548.85 Q1277.75 1552 1283.57 1552 Q1286.94 1552 1290.1 1551.17 Q1293.28 1550.35 1296.4 1548.69 L1296.4 1554.23 Q1293.25 1555.57 1289.94 1556.27 Q1286.63 1556.97 1283.22 1556.97 Q1274.69 1556.97 1269.69 1552 Q1264.73 1547.04 1264.73 1538.57 Q1264.73 1529.82 1269.44 1524.69 Q1274.18 1519.54 1282.2 1519.54 Q1289.4 1519.54 1293.57 1524.18 Q1297.77 1528.8 1297.77 1536.76 M1291.91 1535.04 Q1291.85 1530.23 1289.2 1527.37 Q1286.59 1524.5 1282.27 1524.5 Q1277.36 1524.5 1274.4 1527.27 Q1271.48 1530.04 1271.03 1535.07 L1291.91 1535.04 Z\" fill=\"#000000\" fill-rule=\"evenodd\" fill-opacity=\"1\" /><path clip-path=\"url(#clip310)\" d=\"M 0 0 M1324.57 1525.87 Q1323.58 1525.3 1322.4 1525.04 Q1321.26 1524.76 1319.86 1524.76 Q1314.89 1524.76 1312.22 1528 Q1309.57 1531.22 1309.57 1537.27 L1309.57 1556.04 L1303.69 1556.04 L1303.69 1520.4 L1309.57 1520.4 L1309.57 1525.93 Q1311.42 1522.69 1314.38 1521.13 Q1317.34 1519.54 1321.57 1519.54 Q1322.18 1519.54 1322.91 1519.63 Q1323.64 1519.7 1324.53 1519.85 L1324.57 1525.87 Z\" fill=\"#000000\" fill-rule=\"evenodd\" fill-opacity=\"1\" /><path clip-path=\"url(#clip310)\" d=\"M 0 0 M1353.43 1521.45 L1353.43 1526.98 Q1350.95 1525.71 1348.28 1525.07 Q1345.6 1524.44 1342.74 1524.44 Q1338.38 1524.44 1336.18 1525.77 Q1334.02 1527.11 1334.02 1529.79 Q1334.02 1531.82 1335.58 1533 Q1337.14 1534.15 1341.85 1535.2 L1343.85 1535.64 Q1350.09 1536.98 1352.7 1539.43 Q1355.34 1541.85 1355.34 1546.21 Q1355.34 1551.17 1351.4 1554.07 Q1347.48 1556.97 1340.61 1556.97 Q1337.74 1556.97 1334.62 1556.39 Q1331.54 1555.85 1328.1 1554.74 L1328.1 1548.69 Q1331.35 1550.38 1334.5 1551.24 Q1337.65 1552.07 1340.73 1552.07 Q1344.87 1552.07 1347.1 1550.66 Q1349.33 1549.23 1349.33 1546.65 Q1349.33 1544.27 1347.71 1542.99 Q1346.11 1541.72 1340.67 1540.54 L1338.63 1540.07 Q1333.19 1538.92 1330.77 1536.56 Q1328.35 1534.18 1328.35 1530.04 Q1328.35 1525.01 1331.92 1522.27 Q1335.48 1519.54 1342.04 1519.54 Q1345.29 1519.54 1348.15 1520.01 Q1351.02 1520.49 1353.43 1521.45 Z\" fill=\"#000000\" fill-rule=\"evenodd\" fill-opacity=\"1\" /><path clip-path=\"url(#clip310)\" d=\"M 0 0 M53.4065 1057.3 L58.9447 1057.3 Q57.6716 1059.78 57.035 1062.46 Q56.3984 1065.13 56.3984 1067.99 Q56.3984 1072.36 57.7352 1074.55 Q59.072 1076.72 61.7456 1076.72 Q63.7826 1076.72 64.9603 1075.16 Q66.1061 1073.6 67.1565 1068.89 L67.6021 1066.88 Q68.9389 1060.64 71.3897 1058.03 Q73.8086 1055.39 78.1691 1055.39 Q83.1344 1055.39 86.0308 1059.34 Q88.9272 1063.25 88.9272 1070.13 Q88.9272 1072.99 88.3543 1076.11 Q87.8132 1079.2 86.6992 1082.64 L80.6518 1082.64 Q82.3387 1079.39 83.198 1076.24 Q84.0256 1073.09 84.0256 1070 Q84.0256 1065.86 82.6251 1063.63 Q81.1929 1061.41 78.6147 1061.41 Q76.2276 1061.41 74.9545 1063.03 Q73.6813 1064.62 72.5037 1070.06 L72.0262 1072.1 Q70.8804 1077.54 68.5251 1079.96 Q66.138 1082.38 62.0002 1082.38 Q56.9713 1082.38 54.2341 1078.82 Q51.4968 1075.25 51.4968 1068.69 Q51.4968 1065.45 51.9743 1062.58 Q52.4517 1059.72 53.4065 1057.3 Z\" fill=\"#000000\" fill-rule=\"evenodd\" fill-opacity=\"1\" /><path clip-path=\"url(#clip310)\" d=\"M 0 0 M42.2347 1043.45 L52.3562 1043.45 L52.3562 1031.39 L56.9077 1031.39 L56.9077 1043.45 L76.2594 1043.45 Q80.6199 1043.45 81.8613 1042.28 Q83.1026 1041.07 83.1026 1037.41 L83.1026 1031.39 L88.0042 1031.39 L88.0042 1037.41 Q88.0042 1044.19 85.4897 1046.76 Q82.9434 1049.34 76.2594 1049.34 L56.9077 1049.34 L56.9077 1053.64 L52.3562 1053.64 L52.3562 1049.34 L42.2347 1049.34 L42.2347 1043.45 Z\" fill=\"#000000\" fill-rule=\"evenodd\" fill-opacity=\"1\" /><path clip-path=\"url(#clip310)\" d=\"M 0 0 M57.8307 1004.59 Q57.2578 1005.58 57.0032 1006.76 Q56.7167 1007.9 56.7167 1009.3 Q56.7167 1014.27 59.9632 1016.94 Q63.1779 1019.58 69.2253 1019.58 L88.0042 1019.58 L88.0042 1025.47 L52.3562 1025.47 L52.3562 1019.58 L57.8944 1019.58 Q54.6479 1017.74 53.0883 1014.78 Q51.4968 1011.82 51.4968 1007.58 Q51.4968 1006.98 51.5923 1006.25 Q51.656 1005.52 51.8151 1004.62 L57.8307 1004.59 Z\" fill=\"#000000\" fill-rule=\"evenodd\" fill-opacity=\"1\" /><path clip-path=\"url(#clip310)\" d=\"M 0 0 M73.9359 999.054 L52.3562 999.054 L52.3562 993.197 L73.7131 993.197 Q78.7739 993.197 81.3202 991.224 Q83.8346 989.251 83.8346 985.304 Q83.8346 980.562 80.8109 977.824 Q77.7872 975.055 72.5673 975.055 L52.3562 975.055 L52.3562 969.199 L88.0042 969.199 L88.0042 975.055 L82.5296 975.055 Q85.7762 977.188 87.3676 980.02 Q88.9272 982.821 88.9272 986.545 Q88.9272 992.688 85.1078 995.871 Q81.2883 999.054 73.9359 999.054 M51.4968 984.317 L51.4968 984.317 Z\" fill=\"#000000\" fill-rule=\"evenodd\" fill-opacity=\"1\" /><path clip-path=\"url(#clip310)\" d=\"M 0 0 M53.7248 937.402 L59.1993 937.402 Q57.8307 939.885 57.1623 942.399 Q56.4621 944.882 56.4621 947.428 Q56.4621 953.125 60.0905 956.276 Q63.6872 959.427 70.212 959.427 Q76.7369 959.427 80.3653 956.276 Q83.9619 953.125 83.9619 947.428 Q83.9619 944.882 83.2935 942.399 Q82.5933 939.885 81.2247 937.402 L86.6355 937.402 Q87.7814 939.853 88.3543 942.495 Q88.9272 945.105 88.9272 948.065 Q88.9272 956.117 83.8664 960.86 Q78.8057 965.602 70.212 965.602 Q61.491 965.602 56.4939 960.828 Q51.4968 956.022 51.4968 947.683 Q51.4968 944.977 52.0697 942.399 Q52.6108 939.821 53.7248 937.402 Z\" fill=\"#000000\" fill-rule=\"evenodd\" fill-opacity=\"1\" /><path clip-path=\"url(#clip310)\" d=\"M 0 0 M42.2347 925.466 L52.3562 925.466 L52.3562 913.403 L56.9077 913.403 L56.9077 925.466 L76.2594 925.466 Q80.6199 925.466 81.8613 924.289 Q83.1026 923.079 83.1026 919.419 L83.1026 913.403 L88.0042 913.403 L88.0042 919.419 Q88.0042 926.198 85.4897 928.777 Q82.9434 931.355 76.2594 931.355 L56.9077 931.355 L56.9077 935.652 L52.3562 935.652 L52.3562 931.355 L42.2347 931.355 L42.2347 925.466 Z\" fill=\"#000000\" fill-rule=\"evenodd\" fill-opacity=\"1\" /><path clip-path=\"url(#clip310)\" d=\"M 0 0 M73.9359 907.865 L52.3562 907.865 L52.3562 902.009 L73.7131 902.009 Q78.7739 902.009 81.3202 900.035 Q83.8346 898.062 83.8346 894.115 Q83.8346 889.373 80.8109 886.636 Q77.7872 883.866 72.5673 883.866 L52.3562 883.866 L52.3562 878.01 L88.0042 878.01 L88.0042 883.866 L82.5296 883.866 Q85.7762 885.999 87.3676 888.832 Q88.9272 891.633 88.9272 895.357 Q88.9272 901.499 85.1078 904.682 Q81.2883 907.865 73.9359 907.865 M51.4968 893.129 L51.4968 893.129 Z\" fill=\"#000000\" fill-rule=\"evenodd\" fill-opacity=\"1\" /><path clip-path=\"url(#clip310)\" d=\"M 0 0 M57.8307 851.21 Q57.2578 852.197 57.0032 853.375 Q56.7167 854.521 56.7167 855.921 Q56.7167 860.886 59.9632 863.56 Q63.1779 866.202 69.2253 866.202 L88.0042 866.202 L88.0042 872.09 L52.3562 872.09 L52.3562 866.202 L57.8944 866.202 Q54.6479 864.356 53.0883 861.396 Q51.4968 858.435 51.4968 854.202 Q51.4968 853.598 51.5923 852.865 Q51.656 852.133 51.8151 851.242 L57.8307 851.21 Z\" fill=\"#000000\" fill-rule=\"evenodd\" fill-opacity=\"1\" /><path clip-path=\"url(#clip310)\" d=\"M 0 0 M70.0847 828.867 Q70.0847 835.965 71.7079 838.702 Q73.3312 841.439 77.2461 841.439 Q80.3653 841.439 82.2114 839.402 Q84.0256 837.333 84.0256 833.8 Q84.0256 828.93 80.5881 826.002 Q77.1188 823.042 71.3897 823.042 L70.0847 823.042 L70.0847 828.867 M67.6657 817.186 L88.0042 817.186 L88.0042 823.042 L82.5933 823.042 Q85.8398 825.047 87.3994 828.039 Q88.9272 831.031 88.9272 835.36 Q88.9272 840.834 85.8716 844.081 Q82.7843 847.295 77.6281 847.295 Q71.6125 847.295 68.5569 843.285 Q65.5014 839.243 65.5014 831.254 L65.5014 823.042 L64.9285 823.042 Q60.8862 823.042 58.6901 825.716 Q56.4621 828.358 56.4621 833.164 Q56.4621 836.219 57.1941 839.116 Q57.9262 842.012 59.3903 844.686 L53.9795 844.686 Q52.7381 841.471 52.1334 838.447 Q51.4968 835.423 51.4968 832.559 Q51.4968 824.825 55.5072 821.005 Q59.5176 817.186 67.6657 817.186 Z\" fill=\"#000000\" fill-rule=\"evenodd\" fill-opacity=\"1\" /><path clip-path=\"url(#clip310)\" d=\"M 0 0 M38.479 811.043 L38.479 805.186 L88.0042 805.186 L88.0042 811.043 L38.479 811.043 Z\" fill=\"#000000\" fill-rule=\"evenodd\" fill-opacity=\"1\" /><path clip-path=\"url(#clip310)\" d=\"M 0 0 M53.7248 752.669 L59.1993 752.669 Q57.8307 755.152 57.1623 757.666 Q56.4621 760.149 56.4621 762.695 Q56.4621 768.393 60.0905 771.544 Q63.6872 774.695 70.212 774.695 Q76.7369 774.695 80.3653 771.544 Q83.9619 768.393 83.9619 762.695 Q83.9619 760.149 83.2935 757.666 Q82.5933 755.152 81.2247 752.669 L86.6355 752.669 Q87.7814 755.12 88.3543 757.762 Q88.9272 760.372 88.9272 763.332 Q88.9272 771.384 83.8664 776.127 Q78.8057 780.869 70.212 780.869 Q61.491 780.869 56.4939 776.095 Q51.4968 771.289 51.4968 762.95 Q51.4968 760.244 52.0697 757.666 Q52.6108 755.088 53.7248 752.669 Z\" fill=\"#000000\" fill-rule=\"evenodd\" fill-opacity=\"1\" /><path clip-path=\"url(#clip310)\" d=\"M 0 0 M56.4621 732.713 Q56.4621 737.423 60.1542 740.161 Q63.8145 742.898 70.212 742.898 Q76.6095 742.898 80.3017 740.192 Q83.9619 737.455 83.9619 732.713 Q83.9619 728.034 80.2698 725.297 Q76.5777 722.559 70.212 722.559 Q63.8781 722.559 60.186 725.297 Q56.4621 728.034 56.4621 732.713 M51.4968 732.713 Q51.4968 725.074 56.4621 720.713 Q61.4273 716.353 70.212 716.353 Q78.9649 716.353 83.9619 720.713 Q88.9272 725.074 88.9272 732.713 Q88.9272 740.383 83.9619 744.744 Q78.9649 749.073 70.212 749.073 Q61.4273 749.073 56.4621 744.744 Q51.4968 740.383 51.4968 732.713 Z\" fill=\"#000000\" fill-rule=\"evenodd\" fill-opacity=\"1\" /><path clip-path=\"url(#clip310)\" d=\"M 0 0 M59.1993 682.456 Q55.2526 680.259 53.3747 677.204 Q51.4968 674.148 51.4968 670.011 Q51.4968 664.441 55.4117 661.417 Q59.2948 658.393 66.4881 658.393 L88.0042 658.393 L88.0042 664.281 L66.679 664.281 Q61.5546 664.281 59.072 666.096 Q56.5894 667.91 56.5894 671.634 Q56.5894 676.185 59.6131 678.827 Q62.6368 681.469 67.8567 681.469 L88.0042 681.469 L88.0042 687.357 L66.679 687.357 Q61.5228 687.357 59.072 689.171 Q56.5894 690.986 56.5894 694.773 Q56.5894 699.261 59.6449 701.903 Q62.6686 704.545 67.8567 704.545 L88.0042 704.545 L88.0042 710.433 L52.3562 710.433 L52.3562 704.545 L57.8944 704.545 Q54.616 702.539 53.0564 699.738 Q51.4968 696.938 51.4968 693.086 Q51.4968 689.203 53.4702 686.498 Q55.4436 683.76 59.1993 682.456 Z\" fill=\"#000000\" fill-rule=\"evenodd\" fill-opacity=\"1\" /><path clip-path=\"url(#clip310)\" d=\"M 0 0 M82.657 646.585 L101.563 646.585 L101.563 652.473 L52.3562 652.473 L52.3562 646.585 L57.7671 646.585 Q54.5842 644.739 53.0564 641.938 Q51.4968 639.105 51.4968 635.19 Q51.4968 628.697 56.6531 624.655 Q61.8093 620.581 70.212 620.581 Q78.6147 620.581 83.771 624.655 Q88.9272 628.697 88.9272 635.19 Q88.9272 639.105 87.3994 641.938 Q85.8398 644.739 82.657 646.585 M70.212 626.66 Q63.7508 626.66 60.0905 629.334 Q56.3984 631.975 56.3984 636.622 Q56.3984 641.269 60.0905 643.943 Q63.7508 646.585 70.212 646.585 Q76.6732 646.585 80.3653 643.943 Q84.0256 641.269 84.0256 636.622 Q84.0256 631.975 80.3653 629.334 Q76.6732 626.66 70.212 626.66 Z\" fill=\"#000000\" fill-rule=\"evenodd\" fill-opacity=\"1\" /><path clip-path=\"url(#clip310)\" d=\"M 0 0 M38.479 614.438 L38.479 608.581 L88.0042 608.581 L88.0042 614.438 L38.479 614.438 Z\" fill=\"#000000\" fill-rule=\"evenodd\" fill-opacity=\"1\" /><path clip-path=\"url(#clip310)\" d=\"M 0 0 M68.7161 571.947 L71.5806 571.947 L71.5806 598.874 Q77.6281 598.492 80.8109 595.245 Q83.9619 591.967 83.9619 586.142 Q83.9619 582.769 83.1344 579.618 Q82.3069 576.435 80.6518 573.315 L86.1899 573.315 Q87.5267 576.467 88.227 579.777 Q88.9272 583.087 88.9272 586.492 Q88.9272 595.023 83.9619 600.02 Q78.9967 604.985 70.5303 604.985 Q61.7774 604.985 56.6531 600.274 Q51.4968 595.532 51.4968 587.511 Q51.4968 580.318 56.1438 576.148 Q60.7589 571.947 68.7161 571.947 M66.9973 577.803 Q62.1912 577.867 59.3266 580.509 Q56.4621 583.119 56.4621 587.447 Q56.4621 592.349 59.2312 595.309 Q62.0002 598.237 67.0292 598.683 L66.9973 577.803 Z\" fill=\"#000000\" fill-rule=\"evenodd\" fill-opacity=\"1\" /><path clip-path=\"url(#clip310)\" d=\"M 0 0 M52.3562 537.317 L69.7028 550.208 L88.0042 536.649 L88.0042 543.556 L73.9996 553.932 L88.0042 564.308 L88.0042 571.215 L69.3526 557.369 L52.3562 570.037 L52.3562 563.13 L65.0558 553.677 L52.3562 544.224 L52.3562 537.317 Z\" fill=\"#000000\" fill-rule=\"evenodd\" fill-opacity=\"1\" /><path clip-path=\"url(#clip310)\" d=\"M 0 0 M52.3562 530.506 L52.3562 524.65 L88.0042 524.65 L88.0042 530.506 L52.3562 530.506 M38.479 530.506 L38.479 524.65 L45.895 524.65 L45.895 530.506 L38.479 530.506 Z\" fill=\"#000000\" fill-rule=\"evenodd\" fill-opacity=\"1\" /><path clip-path=\"url(#clip310)\" d=\"M 0 0 M42.2347 512.714 L52.3562 512.714 L52.3562 500.651 L56.9077 500.651 L56.9077 512.714 L76.2594 512.714 Q80.6199 512.714 81.8613 511.536 Q83.1026 510.327 83.1026 506.667 L83.1026 500.651 L88.0042 500.651 L88.0042 506.667 Q88.0042 513.446 85.4897 516.024 Q82.9434 518.602 76.2594 518.602 L56.9077 518.602 L56.9077 522.899 L52.3562 522.899 L52.3562 518.602 L42.2347 518.602 L42.2347 512.714 Z\" fill=\"#000000\" fill-rule=\"evenodd\" fill-opacity=\"1\" /><path clip-path=\"url(#clip310)\" d=\"M 0 0 M91.3143 479.676 Q97.68 482.159 99.6216 484.514 Q101.563 486.869 101.563 490.816 L101.563 495.495 L96.6615 495.495 L96.6615 492.057 Q96.6615 489.638 95.5157 488.301 Q94.3699 486.965 90.1048 485.341 L87.4312 484.291 L52.3562 498.709 L52.3562 492.503 L80.238 481.363 L52.3562 470.223 L52.3562 464.016 L91.3143 479.676 Z\" fill=\"#000000\" fill-rule=\"evenodd\" fill-opacity=\"1\" /><path clip-path=\"url(#clip312)\" d=\"\n",
       "M512.132 1386.4 L289.566 1386.4 L734.698 1386.4 L512.132 1386.4 L512.132 1185.79 L512.132 1386.4  Z\n",
       "  \" fill=\"#1874cd\" fill-rule=\"evenodd\" fill-opacity=\"0.7\"/>\n",
       "<polyline clip-path=\"url(#clip312)\" style=\"stroke:#000000; stroke-width:4; stroke-opacity:0.7; fill:none\" points=\"\n",
       "  512.132,1386.4 289.566,1386.4 734.698,1386.4 512.132,1386.4 512.132,1185.79 512.132,1386.4 \n",
       "  \"/>\n",
       "<path clip-path=\"url(#clip312)\" d=\"\n",
       "M289.566 1185.79 L289.566 1173.33 L400.849 1067.34 L623.415 1067.34 L734.698 1173.33 L734.698 1185.79 L289.566 1185.79 L289.566 1185.79  Z\n",
       "  \" fill=\"#1874cd\" fill-rule=\"evenodd\" fill-opacity=\"0.7\"/>\n",
       "<polyline clip-path=\"url(#clip312)\" style=\"stroke:#000000; stroke-width:4; stroke-opacity:0.7; fill:none\" points=\"\n",
       "  289.566,1185.79 289.566,1173.33 400.849,1067.34 623.415,1067.34 734.698,1173.33 734.698,1185.79 289.566,1185.79 \n",
       "  \"/>\n",
       "<path clip-path=\"url(#clip312)\" d=\"\n",
       "M289.566 878.397 L289.566 961.354 L400.849 1067.34 L623.415 1067.34 L734.698 961.354 L734.698 878.397 L289.566 878.397 L289.566 878.397  Z\n",
       "  \" fill=\"#1874cd\" fill-rule=\"evenodd\" fill-opacity=\"0.7\"/>\n",
       "<polyline clip-path=\"url(#clip312)\" style=\"stroke:#000000; stroke-width:4; stroke-opacity:0.7; fill:none\" points=\"\n",
       "  289.566,878.397 289.566,961.354 400.849,1067.34 623.415,1067.34 734.698,961.354 734.698,878.397 289.566,878.397 \n",
       "  \"/>\n",
       "<path clip-path=\"url(#clip312)\" d=\"\n",
       "M512.132 451.753 L289.566 451.753 L734.698 451.753 L512.132 451.753 L512.132 878.397 L512.132 451.753  Z\n",
       "  \" fill=\"#1874cd\" fill-rule=\"evenodd\" fill-opacity=\"0.7\"/>\n",
       "<polyline clip-path=\"url(#clip312)\" style=\"stroke:#000000; stroke-width:4; stroke-opacity:0.7; fill:none\" points=\"\n",
       "  512.132,451.753 289.566,451.753 734.698,451.753 512.132,451.753 512.132,878.397 512.132,451.753 \n",
       "  \"/>\n",
       "<circle clip-path=\"url(#clip312)\" cx=\"1291.11\" cy=\"406.703\" r=\"14\" fill=\"#1874cd\" fill-rule=\"evenodd\" fill-opacity=\"0.7\" stroke=\"#000000\" stroke-opacity=\"0.7\" stroke-width=\"3.2\"/>\n",
       "<circle clip-path=\"url(#clip312)\" cx=\"1291.11\" cy=\"351.054\" r=\"14\" fill=\"#1874cd\" fill-rule=\"evenodd\" fill-opacity=\"0.7\" stroke=\"#000000\" stroke-opacity=\"0.7\" stroke-width=\"3.2\"/>\n",
       "<circle clip-path=\"url(#clip312)\" cx=\"1291.11\" cy=\"160.256\" r=\"14\" fill=\"#1874cd\" fill-rule=\"evenodd\" fill-opacity=\"0.7\" stroke=\"#000000\" stroke-opacity=\"0.7\" stroke-width=\"3.2\"/>\n",
       "<path clip-path=\"url(#clip312)\" d=\"\n",
       "M1291.11 1079.79 L1068.55 1079.79 L1513.68 1079.79 L1291.11 1079.79 L1291.11 899.597 L1291.11 1079.79  Z\n",
       "  \" fill=\"#1874cd\" fill-rule=\"evenodd\" fill-opacity=\"0.7\"/>\n",
       "<polyline clip-path=\"url(#clip312)\" style=\"stroke:#000000; stroke-width:4; stroke-opacity:0.7; fill:none\" points=\"\n",
       "  1291.11,1079.79 1068.55,1079.79 1513.68,1079.79 1291.11,1079.79 1291.11,899.597 1291.11,1079.79 \n",
       "  \"/>\n",
       "<path clip-path=\"url(#clip312)\" d=\"\n",
       "M1068.55 899.597 L1068.55 835.533 L1179.83 769.749 L1402.4 769.749 L1513.68 835.533 L1513.68 899.597 L1068.55 899.597 L1068.55 899.597  Z\n",
       "  \" fill=\"#1874cd\" fill-rule=\"evenodd\" fill-opacity=\"0.7\"/>\n",
       "<polyline clip-path=\"url(#clip312)\" style=\"stroke:#000000; stroke-width:4; stroke-opacity:0.7; fill:none\" points=\"\n",
       "  1068.55,899.597 1068.55,835.533 1179.83,769.749 1402.4,769.749 1513.68,835.533 1513.68,899.597 1068.55,899.597 \n",
       "  \"/>\n",
       "<path clip-path=\"url(#clip312)\" d=\"\n",
       "M1068.55 708.799 L1068.55 703.965 L1179.83 769.749 L1402.4 769.749 L1513.68 703.965 L1513.68 708.799 L1068.55 708.799 L1068.55 708.799  Z\n",
       "  \" fill=\"#1874cd\" fill-rule=\"evenodd\" fill-opacity=\"0.7\"/>\n",
       "<polyline clip-path=\"url(#clip312)\" style=\"stroke:#000000; stroke-width:4; stroke-opacity:0.7; fill:none\" points=\"\n",
       "  1068.55,708.799 1068.55,703.965 1179.83,769.749 1402.4,769.749 1513.68,703.965 1513.68,708.799 1068.55,708.799 \n",
       "  \"/>\n",
       "<path clip-path=\"url(#clip312)\" d=\"\n",
       "M1291.11 634.6 L1068.55 634.6 L1513.68 634.6 L1291.11 634.6 L1291.11 708.799 L1291.11 634.6  Z\n",
       "  \" fill=\"#1874cd\" fill-rule=\"evenodd\" fill-opacity=\"0.7\"/>\n",
       "<polyline clip-path=\"url(#clip312)\" style=\"stroke:#000000; stroke-width:4; stroke-opacity:0.7; fill:none\" points=\"\n",
       "  1291.11,634.6 1068.55,634.6 1513.68,634.6 1291.11,634.6 1291.11,708.799 1291.11,634.6 \n",
       "  \"/>\n",
       "<circle clip-path=\"url(#clip312)\" cx=\"2070.1\" cy=\"1095.69\" r=\"14\" fill=\"#1874cd\" fill-rule=\"evenodd\" fill-opacity=\"0.7\" stroke=\"#000000\" stroke-opacity=\"0.7\" stroke-width=\"3.2\"/>\n",
       "<path clip-path=\"url(#clip312)\" d=\"\n",
       "M2070.1 891.647 L1847.53 891.647 L2292.66 891.647 L2070.1 891.647 L2070.1 732.649 L2070.1 891.647  Z\n",
       "  \" fill=\"#1874cd\" fill-rule=\"evenodd\" fill-opacity=\"0.7\"/>\n",
       "<polyline clip-path=\"url(#clip312)\" style=\"stroke:#000000; stroke-width:4; stroke-opacity:0.7; fill:none\" points=\"\n",
       "  2070.1,891.647 1847.53,891.647 2292.66,891.647 2070.1,891.647 2070.1,732.649 2070.1,891.647 \n",
       "  \"/>\n",
       "<path clip-path=\"url(#clip312)\" d=\"\n",
       "M1847.53 732.649 L1847.53 685.031 L1958.81 602.801 L2181.38 602.801 L2292.66 685.031 L2292.66 732.649 L1847.53 732.649 L1847.53 732.649  Z\n",
       "  \" fill=\"#1874cd\" fill-rule=\"evenodd\" fill-opacity=\"0.7\"/>\n",
       "<polyline clip-path=\"url(#clip312)\" style=\"stroke:#000000; stroke-width:4; stroke-opacity:0.7; fill:none\" points=\"\n",
       "  1847.53,732.649 1847.53,685.031 1958.81,602.801 2181.38,602.801 2292.66,685.031 2292.66,732.649 1847.53,732.649 \n",
       "  \"/>\n",
       "<path clip-path=\"url(#clip312)\" d=\"\n",
       "M1847.53 494.152 L1847.53 520.571 L1958.81 602.801 L2181.38 602.801 L2292.66 520.571 L2292.66 494.152 L1847.53 494.152 L1847.53 494.152  Z\n",
       "  \" fill=\"#1874cd\" fill-rule=\"evenodd\" fill-opacity=\"0.7\"/>\n",
       "<polyline clip-path=\"url(#clip312)\" style=\"stroke:#000000; stroke-width:4; stroke-opacity:0.7; fill:none\" points=\"\n",
       "  1847.53,494.152 1847.53,520.571 1958.81,602.801 2181.38,602.801 2292.66,520.571 2292.66,494.152 1847.53,494.152 \n",
       "  \"/>\n",
       "<path clip-path=\"url(#clip312)\" d=\"\n",
       "M2070.1 213.256 L1847.53 213.256 L2292.66 213.256 L2070.1 213.256 L2070.1 494.152 L2070.1 213.256  Z\n",
       "  \" fill=\"#1874cd\" fill-rule=\"evenodd\" fill-opacity=\"0.7\"/>\n",
       "<polyline clip-path=\"url(#clip312)\" style=\"stroke:#000000; stroke-width:4; stroke-opacity:0.7; fill:none\" points=\"\n",
       "  2070.1,213.256 1847.53,213.256 2292.66,213.256 2070.1,213.256 2070.1,494.152 2070.1,213.256 \n",
       "  \"/>\n",
       "</svg>\n"
      ]
     },
     "execution_count": 17,
     "metadata": {},
     "output_type": "execute_result"
    }
   ],
   "source": [
    "series_top = Array{Real,1}();  series_middle = Array{Real,1}();  series_bottom = Array{Real,1}()\n",
    "for curric in top_tier\n",
    "    push!(series_top, curric.metrics[\"complexity\"][1])\n",
    "end\n",
    "for curric in middle_tier\n",
    "    push!(series_middle, curric.metrics[\"complexity\"][1])\n",
    "end\n",
    "for curric in bottom_tier\n",
    "    push!(series_bottom, curric.metrics[\"complexity\"][1])\n",
    "end\n",
    "boxplot([\"top\" \"middle\" \"bottom\"], [series_top, series_middle, series_bottom], notch=true, title=\"Electrical Engineering Programs\", \n",
    "    xlabel=\"tiers\", ylabel=\"structural complexity\", legend=false, alpha=0.7, color=:dodgerblue3)"
   ]
  },
  {
   "cell_type": "markdown",
   "metadata": {},
   "source": [
    "## Conclusions"
   ]
  },
  {
   "cell_type": "markdown",
   "metadata": {},
   "source": [
    "We have demonstrated that an inverse relationship exists between the complexity of the curricula in undergraduate electrical engineering programs and the perceived quality of these programs. Specifically, at doctoral-granting engineering schools the complexity of the electrical engineering undergraduate curricula at the highest quality schools (where quality is subjectively determined by a survey proved to all schools in this category) is drastically less than the complexity of the curricula at those schools judged to be at the lower end of this quality ranking. The average complexity of those schools at the bottom of the raking is almost twice the average of those schools in the top decile of the ranking. In addition, we demonstrated that this difference is statistically significant; that is, this difference is due to something other than chance. Because the complexity of a curriculum is a measure of the difficulty that students are expected to have completing that curriculum, this difference has important student success implications. In particular, if we were to equalize instructional factors (e.g., the difficulty of the courses in the curriculum, the support services provided to students, etc.) and student background preparation, we would expect students to graduate at a higher rate from the lower complexity curricula. This is indeed what we observe, and the fact that this benefit is most pronounced in the highest quality programs deserves further investigation. It is possible to produce arguments for both sides of a possible cause-and-effect relationship between curricular complexity and program quality.  Below we consider a few.\n",
    "\n",
    "One might argue that because the top tier schools admit better prepared students they can offer less complex curricula, as their students can more easily overcome any knowledge gaps that may exist due to having fewer prerequisites prior to attempting a given course, as well as fewer total courses in their curricula. It should be noted, however, that there are a number of schools outside the tier that have created pathways in the first year of their curricula that substantially reduce curricular complexity. These curricular innovations have been demonstrated to significantly improve graduation rates, as well as the attainment of program learning outcomes. That is, it is possible to reduce the complexity of engineering programs that serve less-prepared students, while actually improving program quality (as judged by outcomes). More generally, we note that the principle of Occam's razor is often applied to guide engineering designs towards the simplest and therefore best solutions.  One of the most popular versions of this principle states, ``Entities are not to be multiplied without necessity.''  We posit that this study indicates this principle applies to curricula.  Namely, the simplest curriculum (in terms of complexity) that allows students to attain a program's learning outcomes yields the best student success outcomes and therefore the highest quality program."
   ]
  },
  {
   "cell_type": "markdown",
   "metadata": {},
   "source": [
    "## References\n",
    "Accreditation Board for Engineering and Technology (ABET) (2017). Criteria for Accrediting Engineering Programs: Effective for Reviews During the 2017–2018 Accreditation Cycle. www.abet.org.\n",
    "\n",
    "Cornell University, Electrical and Computer Engineering, Program Requirements, (accessed August 10, 2018). www.ece.cornell.edu/ece/programs/undergraduate-programs/majors/program-requirements.\n",
    "\n",
    "Heileman, G. L., Abdallah, C.T., Slim, A., and Hickman, M. (2018). Curricular analytics: A framework for quantifying the impact of curricular reforms and pedagogical innovations. www.arXiv.org, arXiv:1811.09676 [cs.CY].\n",
    "\n",
    "Heileman, G. L., Free, H. W., Abar, O. and Thompson-Arjona, W. G, (2019). CurricularAnalytics.jl Toolbox. https://github.com/heileman/CurricularAnalytics.jl."
   ]
  },
  {
   "cell_type": "code",
   "execution_count": null,
   "metadata": {},
   "outputs": [],
   "source": []
  }
 ],
 "metadata": {
  "@webio": {
   "lastCommId": "d3ddbf8b667d4d6eb01863e7ecb87d27",
   "lastKernelId": "e726ac48-0847-45b8-af0b-005085342452"
  },
  "kernelspec": {
   "display_name": "Julia 1.6.0",
   "language": "julia",
   "name": "julia-1.6"
  },
  "language_info": {
   "file_extension": ".jl",
   "mimetype": "application/julia",
   "name": "julia",
   "version": "1.6.0"
  }
 },
 "nbformat": 4,
 "nbformat_minor": 2
}
