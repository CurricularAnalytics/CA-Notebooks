{
 "cells": [
  {
   "cell_type": "markdown",
   "metadata": {},
   "source": [
    "# <center>Does Curricular Complexity Imply Program Quality?</center>\n",
    "\n",
    "<center>\n",
    "    <b>Gregory L. Heileman$^\\dagger$, William G. Thompson-Arjona$^\\dagger$, Orhan Abar$^\\ddagger$ and Hayden W. Free$^\\ddagger$</b> <br>\n",
    "    $^\\dagger$Department of Electrical & Computer Engineering <br>\n",
    "    $^\\ddagger$Department of Computer Science <br>\n",
    "    University of Kentucky <br>\n",
    "    {greg.heileman, wgthompson, orhan.abar,  hayden.free}@uky.edu\n",
    "</center>\n",
    "\n",
    "## Introduction\n",
    "In this notebook we compare the complexity of electrical engineering programs across the U.S. News & World report rankings, revealing a surprising finding, namely that higher ranked programs tend to have less complex curricula.  Because the curricular complexity metrics used here directly relate to a student's ability to complete that curriculum, this means that from a structural perspective (i.e., the manner in which curricula are structured), it is generally easier for students to complete the electrical engineering curricula at higher ranked schools.  \n",
    "\n",
    "This analysis is based upon recently developed curricular complexity metrics (see <cite data-cite=\"he:18\">Heileman, et. al, (2018)</cite>).  Research in this area demonstrates that according to these complexity metrics, engineering programs tend to be among the most complex univeristy curricula. This is attributed to the large number of prerequisites that accompany many of the courses in engineering programs, as well as the long prerequisite chains that tend to exist in these curricula. This notebook makes use use of a Curricular Analytics toolbox that was built to compute these curricular complexity metrics <cite data-cite=\"he:18\">Heileman, et. al. (2019)</cite>).    \n",
    "\n",
    "The following commands will install the Curricular Analytics toolbox, as well as a number of other Julia programming language packages that are used within the notebook: "
   ]
  },
  {
   "cell_type": "code",
   "execution_count": 1,
   "metadata": {},
   "outputs": [
    {
     "data": {
      "text/html": [
       "<script>\n",
       "// Immediately-invoked-function-expression to avoid global variables.\n",
       "(function() {\n",
       "    var warning_div = document.getElementById(\"webio-warning-15988902414568886545\");\n",
       "    var hide = function () {\n",
       "        var script = document.getElementById(\"webio-setup-11861603537123690607\");\n",
       "        var parent = script && script.parentElement;\n",
       "        var grandparent = parent && parent.parentElement;\n",
       "        if (grandparent) {\n",
       "            grandparent.style.display = \"none\";\n",
       "        }\n",
       "        warning_div.style.display = \"none\";\n",
       "    };\n",
       "    if (typeof Jupyter !== \"undefined\") {\n",
       "        console.log(\"WebIO detected Jupyter notebook environment.\");\n",
       "        // Jupyter notebook.\n",
       "        var extensions = (\n",
       "            Jupyter\n",
       "            && Jupyter.notebook.config.data\n",
       "            && Jupyter.notebook.config.data.load_extensions\n",
       "        );\n",
       "        if (extensions && extensions[\"webio-jupyter-notebook\"]) {\n",
       "            // Extension already loaded.\n",
       "            console.log(\"Jupyter WebIO nbextension detected; not loading ad-hoc.\");\n",
       "            hide();\n",
       "            return;\n",
       "        }\n",
       "    } else if (window.location.pathname.includes(\"/lab\")) {\n",
       "        // Guessing JupyterLa\n",
       "        console.log(\"Jupyter Lab detected; make sure the @webio/jupyter-lab-provider labextension is installed.\");\n",
       "        hide();\n",
       "        return;\n",
       "    }\n",
       "})();\n",
       "\n",
       "</script>\n",
       "<p\n",
       "    id=\"webio-warning-15988902414568886545\"\n",
       "    class=\"output_text output_stderr\"\n",
       "    style=\"padding: 1em; font-weight: bold;\"\n",
       ">\n",
       "    Unable to load WebIO. Please make sure WebIO works for your Jupyter client.\n",
       "    For troubleshooting, please see <a href=\"https://juliagizmos.github.io/WebIO.jl/latest/providers/ijulia/\">\n",
       "    the WebIO/IJulia documentation</a>.\n",
       "    <!-- TODO: link to installation docs. -->\n",
       "</p>\n"
      ],
      "text/plain": [
       "HTML{String}(\"<script>\\n// Immediately-invoked-function-expression to avoid global variables.\\n(function() {\\n    var warning_div = document.getElementById(\\\"webio-warning-15988902414568886545\\\");\\n    var hide = function () {\\n        var script = document.getElementById(\\\"webio-setup-11861603537123690607\\\");\\n        var parent = script && script.parentElement;\\n        var grandparent = parent && parent.parentElement;\\n        if (grandparent) {\\n            grandparent.style.display = \\\"none\\\";\\n        }\\n        warning_div.style.display = \\\"none\\\";\\n    };\\n    if (typeof Jupyter !== \\\"undefined\\\") {\\n        console.log(\\\"WebIO detected Jupyter notebook environment.\\\");\\n        // Jupyter notebook.\\n        var extensions = (\\n            Jupyter\\n            && Jupyter.notebook.config.data\\n            && Jupyter.notebook.config.data.load_extensions\\n        );\\n        if (extensions && extensions[\\\"webio-jupyter-notebook\\\"]) {\\n            // Extension already loaded.\\n            console.log(\\\"Jupyter WebIO nbextension detected; not loading ad-hoc.\\\");\\n            hide();\\n            return;\\n        }\\n    } else if (window.location.pathname.includes(\\\"/lab\\\")) {\\n        // Guessing JupyterLa\\n        console.log(\\\"Jupyter Lab detected; make sure the @webio/jupyter-lab-provider labextension is installed.\\\");\\n        hide();\\n        return;\\n    }\\n})();\\n\\n</script>\\n<p\\n    id=\\\"webio-warning-15988902414568886545\\\"\\n    class=\\\"output_text output_stderr\\\"\\n    style=\\\"padding: 1em; font-weight: bold;\\\"\\n>\\n    Unable to load WebIO. Please make sure WebIO works for your Jupyter client.\\n    For troubleshooting, please see <a href=\\\"https://juliagizmos.github.io/WebIO.jl/latest/providers/ijulia/\\\">\\n    the WebIO/IJulia documentation</a>.\\n    <!-- TODO: link to installation docs. -->\\n</p>\\n\")"
      ]
     },
     "metadata": {},
     "output_type": "display_data"
    },
    {
     "data": {
      "text/html": [
       "<script>\n",
       "// Immediately-invoked-function-expression to avoid global variables.\n",
       "(function() {\n",
       "    var warning_div = document.getElementById(\"webio-warning-4340311959687033459\");\n",
       "    var hide = function () {\n",
       "        var script = document.getElementById(\"webio-setup-16839264090314464655\");\n",
       "        var parent = script && script.parentElement;\n",
       "        var grandparent = parent && parent.parentElement;\n",
       "        if (grandparent) {\n",
       "            grandparent.style.display = \"none\";\n",
       "        }\n",
       "        warning_div.style.display = \"none\";\n",
       "    };\n",
       "    if (typeof Jupyter !== \"undefined\") {\n",
       "        console.log(\"WebIO detected Jupyter notebook environment.\");\n",
       "        // Jupyter notebook.\n",
       "        var extensions = (\n",
       "            Jupyter\n",
       "            && Jupyter.notebook.config.data\n",
       "            && Jupyter.notebook.config.data.load_extensions\n",
       "        );\n",
       "        if (extensions && extensions[\"webio-jupyter-notebook\"]) {\n",
       "            // Extension already loaded.\n",
       "            console.log(\"Jupyter WebIO nbextension detected; not loading ad-hoc.\");\n",
       "            hide();\n",
       "            return;\n",
       "        }\n",
       "    } else if (window.location.pathname.includes(\"/lab\")) {\n",
       "        // Guessing JupyterLa\n",
       "        console.log(\"Jupyter Lab detected; make sure the @webio/jupyter-lab-provider labextension is installed.\");\n",
       "        hide();\n",
       "        return;\n",
       "    }\n",
       "})();\n",
       "\n",
       "</script>\n",
       "<p\n",
       "    id=\"webio-warning-4340311959687033459\"\n",
       "    class=\"output_text output_stderr\"\n",
       "    style=\"padding: 1em; font-weight: bold;\"\n",
       ">\n",
       "    Unable to load WebIO. Please make sure WebIO works for your Jupyter client.\n",
       "    For troubleshooting, please see <a href=\"https://juliagizmos.github.io/WebIO.jl/latest/providers/ijulia/\">\n",
       "    the WebIO/IJulia documentation</a>.\n",
       "    <!-- TODO: link to installation docs. -->\n",
       "</p>\n"
      ],
      "text/plain": [
       "HTML{String}(\"<script>\\n// Immediately-invoked-function-expression to avoid global variables.\\n(function() {\\n    var warning_div = document.getElementById(\\\"webio-warning-4340311959687033459\\\");\\n    var hide = function () {\\n        var script = document.getElementById(\\\"webio-setup-16839264090314464655\\\");\\n        var parent = script && script.parentElement;\\n        var grandparent = parent && parent.parentElement;\\n        if (grandparent) {\\n            grandparent.style.display = \\\"none\\\";\\n        }\\n        warning_div.style.display = \\\"none\\\";\\n    };\\n    if (typeof Jupyter !== \\\"undefined\\\") {\\n        console.log(\\\"WebIO detected Jupyter notebook environment.\\\");\\n        // Jupyter notebook.\\n        var extensions = (\\n            Jupyter\\n            && Jupyter.notebook.config.data\\n            && Jupyter.notebook.config.data.load_extensions\\n        );\\n        if (extensions && extensions[\\\"webio-jupyter-notebook\\\"]) {\\n            // Extension already loaded.\\n            console.log(\\\"Jupyter WebIO nbextension detected; not loading ad-hoc.\\\");\\n            hide();\\n            return;\\n        }\\n    } else if (window.location.pathname.includes(\\\"/lab\\\")) {\\n        // Guessing JupyterLa\\n        console.log(\\\"Jupyter Lab detected; make sure the @webio/jupyter-lab-provider labextension is installed.\\\");\\n        hide();\\n        return;\\n    }\\n})();\\n\\n</script>\\n<p\\n    id=\\\"webio-warning-4340311959687033459\\\"\\n    class=\\\"output_text output_stderr\\\"\\n    style=\\\"padding: 1em; font-weight: bold;\\\"\\n>\\n    Unable to load WebIO. Please make sure WebIO works for your Jupyter client.\\n    For troubleshooting, please see <a href=\\\"https://juliagizmos.github.io/WebIO.jl/latest/providers/ijulia/\\\">\\n    the WebIO/IJulia documentation</a>.\\n    <!-- TODO: link to installation docs. -->\\n</p>\\n\")"
      ]
     },
     "metadata": {},
     "output_type": "display_data"
    },
    {
     "name": "stderr",
     "output_type": "stream",
     "text": [
      "WARNING: redefinition of constant known_mimetypes. This may fail, cause incorrect answers, or produce other errors.\n",
      "WARNING: redefinition of constant singleton_instance. This may fail, cause incorrect answers, or produce other errors.\n",
      "WARNING: redefinition of constant routing_callback. This may fail, cause incorrect answers, or produce other errors.\n",
      "WARNING: redefinition of constant webio_server_config. This may fail, cause incorrect answers, or produce other errors.\n"
     ]
    }
   ],
   "source": [
    "using CurricularAnalytics, CurricularVisualization\n",
    "using Glob\n",
    "using StatsPlots"
   ]
  },
  {
   "cell_type": "markdown",
   "metadata": {},
   "source": [
    "## Complexity of Electrical Engineering Curricula\n",
    "To get a sense of the diversity in the complexities of electrical enginering program curricula, below we provide  visulizations of two programs, one with low curricular complexity and another with high curricular complexity. Consider first a degree plan associated with an electrical engineering program having relatively low curricular complexity."
   ]
  },
  {
   "cell_type": "code",
   "execution_count": 2,
   "metadata": {
    "scrolled": false
   },
   "outputs": [
    {
     "data": {
      "application/vnd.webio.node+json": {
       "children": [
        {
         "children": [
          ""
         ],
         "instanceArgs": {
          "namespace": "html",
          "tag": "iframe"
         },
         "nodeType": "DOM",
         "props": {
          "events": {
           "load": "(function (){this.contentWindow.postMessage({\"options\":{\"hideTerms\":false,\"edit\":false},\"curriculum\":{\"name\":\"Curriculum\",\"dp_name\":\"Carnegie Mellon University.csv\",\"curriculum_terms\":[{\"name\":\"Term 1\",\"curriculum_items\":[{\"curriculum_requisites\":[],\"name\":\" \",\"metrics\":{\"centrality\":0,\"complexity\":8.0,\"blocking factor\":5,\"delay factor\":3.0},\"nameSub\":\"18-100\",\"id\":1,\"credits\":3,\"nameCanonical\":\"\"},{\"curriculum_requisites\":[],\"name\":\" \",\"metrics\":{\"centrality\":0,\"complexity\":7.0,\"blocking factor\":3,\"delay factor\":4.0},\"nameSub\":\"15-112\",\"id\":2,\"credits\":3,\"nameCanonical\":\"\"},{\"curriculum_requisites\":[],\"name\":\" \",\"metrics\":{\"centrality\":0,\"complexity\":13.0,\"blocking factor\":8,\"delay factor\":5.0},\"nameSub\":\"21-120\",\"id\":3,\"credits\":3,\"nameCanonical\":\"\"},{\"curriculum_requisites\":[],\"name\":\" \",\"metrics\":{\"centrality\":0,\"complexity\":1.0,\"blocking factor\":0,\"delay factor\":1.0},\"nameSub\":\"76-101\",\"id\":4,\"credits\":3,\"nameCanonical\":\"\"},{\"curriculum_requisites\":[],\"name\":\" \",\"metrics\":{\"centrality\":0,\"complexity\":1.0,\"blocking factor\":0,\"delay factor\":1.0},\"nameSub\":\"99-101\",\"id\":5,\"credits\":3,\"nameCanonical\":\"\"}],\"id\":1},{\"name\":\"Term 2\",\"curriculum_items\":[{\"curriculum_requisites\":[{\"source_id\":3,\"target_id\":6,\"type\":\"CurriculumPrerequisite\"}],\"name\":\" \",\"metrics\":{\"centrality\":5,\"complexity\":8.0,\"blocking factor\":3,\"delay factor\":5.0},\"nameSub\":\"33-141\",\"id\":6,\"credits\":3,\"nameCanonical\":\"\"},{\"curriculum_requisites\":[{\"source_id\":3,\"target_id\":7,\"type\":\"CurriculumPrerequisite\"}],\"name\":\" \",\"metrics\":{\"centrality\":13,\"complexity\":10.0,\"blocking factor\":5,\"delay factor\":5.0},\"nameSub\":\"21-122\",\"id\":7,\"credits\":3,\"nameCanonical\":\"\"},{\"curriculum_requisites\":[],\"name\":\" \",\"metrics\":{\"centrality\":0,\"complexity\":1.0,\"blocking factor\":0,\"delay factor\":1.0},\"nameSub\":\"Introductory Engineering course\",\"id\":8,\"credits\":3,\"nameCanonical\":\"\"},{\"curriculum_requisites\":[],\"name\":\" \",\"metrics\":{\"centrality\":0,\"complexity\":1.0,\"blocking factor\":0,\"delay factor\":1.0},\"nameSub\":\"General Education course\",\"id\":9,\"credits\":3,\"nameCanonical\":\"\"}],\"id\":2},{\"name\":\"Term 3\",\"curriculum_items\":[{\"curriculum_requisites\":[{\"source_id\":1,\"target_id\":10,\"type\":\"CurriculumPrerequisite\"}],\"name\":\" \",\"metrics\":{\"centrality\":0,\"complexity\":2.0,\"blocking factor\":0,\"delay factor\":2.0},\"nameSub\":\"18-200\",\"id\":10,\"credits\":3,\"nameCanonical\":\"\"},{\"curriculum_requisites\":[{\"source_id\":7,\"target_id\":11,\"type\":\"CurriculumPrerequisite\"}],\"name\":\" \",\"metrics\":{\"centrality\":10,\"complexity\":8.0,\"blocking factor\":3,\"delay factor\":5.0},\"nameSub\":\"18-202\",\"id\":11,\"credits\":3,\"nameCanonical\":\"\"},{\"curriculum_requisites\":[{\"source_id\":6,\"target_id\":12,\"type\":\"CurriculumPrerequisite\"}],\"name\":\" \",\"metrics\":{\"centrality\":5,\"complexity\":7.0,\"blocking factor\":2,\"delay factor\":5.0},\"nameSub\":\"33-142\",\"id\":12,\"credits\":3,\"nameCanonical\":\"\"},{\"curriculum_requisites\":[],\"name\":\" \",\"metrics\":{\"centrality\":0,\"complexity\":5.0,\"blocking factor\":2,\"delay factor\":3.0},\"nameSub\":\"39-210\",\"id\":13,\"credits\":3,\"nameCanonical\":\"\"},{\"curriculum_requisites\":[{\"source_id\":11,\"target_id\":14,\"type\":\"CurriculumCorequisite\"},{\"source_id\":12,\"target_id\":14,\"type\":\"CurriculumCorequisite\"},{\"source_id\":1,\"target_id\":14,\"type\":\"CurriculumPrerequisite\"}],\"name\":\" \",\"metrics\":{\"centrality\":13,\"complexity\":6.0,\"blocking factor\":1,\"delay factor\":5.0},\"nameSub\":\"18-220\",\"id\":14,\"credits\":3,\"nameCanonical\":\"\"},{\"curriculum_requisites\":[],\"name\":\" \",\"metrics\":{\"centrality\":0,\"complexity\":1.0,\"blocking factor\":0,\"delay factor\":1.0},\"nameSub\":\"General Education course\",\"id\":15,\"credits\":3,\"nameCanonical\":\"\"}],\"id\":3},{\"name\":\"Term 4\",\"curriculum_items\":[{\"curriculum_requisites\":[],\"name\":\" \",\"metrics\":{\"centrality\":0,\"complexity\":5.0,\"blocking factor\":2,\"delay factor\":3.0},\"nameSub\":\"21-127\",\"id\":16,\"credits\":3,\"nameCanonical\":\"\"},{\"curriculum_requisites\":[{\"source_id\":2,\"target_id\":17,\"type\":\"CurriculumPrerequisite\"}],\"name\":\" \",\"metrics\":{\"centrality\":4,\"complexity\":6.0,\"blocking factor\":2,\"delay factor\":4.0},\"nameSub\":\"15-122\",\"id\":17,\"credits\":3,\"nameCanonical\":\"\"},{\"curriculum_requisites\":[{\"source_id\":7,\"target_id\":18,\"type\":\"CurriculumPrerequisite\"}],\"name\":\" \",\"metrics\":{\"centrality\":0,\"complexity\":3.0,\"blocking factor\":0,\"delay factor\":3.0},\"nameSub\":\"36-217\",\"id\":18,\"credits\":3,\"nameCanonical\":\"\"},{\"curriculum_requisites\":[{\"source_id\":13,\"target_id\":19,\"type\":\"CurriculumPrerequisite\"}],\"name\":\" \",\"metrics\":{\"centrality\":3,\"complexity\":4.0,\"blocking factor\":1,\"delay factor\":3.0},\"nameSub\":\"39-220\",\"id\":19,\"credits\":3,\"nameCanonical\":\"\"},{\"curriculum_requisites\":[],\"name\":\" \",\"metrics\":{\"centrality\":0,\"complexity\":1.0,\"blocking factor\":0,\"delay factor\":1.0},\"nameSub\":\"General Education course\",\"id\":20,\"credits\":3,\"nameCanonical\":\"\"},{\"curriculum_requisites\":[{\"source_id\":11,\"target_id\":21,\"type\":\"CurriculumCorequisite\"},{\"source_id\":1,\"target_id\":21,\"type\":\"CurriculumPrerequisite\"}],\"name\":\" \",\"metrics\":{\"centrality\":8,\"complexity\":6.0,\"blocking factor\":1,\"delay factor\":5.0},\"nameSub\":\"18-290\",\"id\":21,\"credits\":3,\"nameCanonical\":\"\"}],\"id\":4},{\"name\":\"Term 5\",\"curriculum_items\":[{\"curriculum_requisites\":[{\"source_id\":19,\"target_id\":22,\"type\":\"CurriculumPrerequisite\"}],\"name\":\" \",\"metrics\":{\"centrality\":0,\"complexity\":3.0,\"blocking factor\":0,\"delay factor\":3.0},\"nameSub\":\"39-310\",\"id\":22,\"credits\":3,\"nameCanonical\":\"\"},{\"curriculum_requisites\":[],\"name\":\" \",\"metrics\":{\"centrality\":0,\"complexity\":1.0,\"blocking factor\":0,\"delay factor\":1.0},\"nameSub\":\"18-3xx/4xx ECE Area 1 course\",\"id\":23,\"credits\":3,\"nameCanonical\":\"\"},{\"curriculum_requisites\":[{\"source_id\":16,\"target_id\":24,\"type\":\"CurriculumCorequisite\"},{\"source_id\":1,\"target_id\":24,\"type\":\"CurriculumPrerequisite\"}],\"name\":\" \",\"metrics\":{\"centrality\":6,\"complexity\":4.0,\"blocking factor\":1,\"delay factor\":3.0},\"nameSub\":\"18-240\",\"id\":24,\"credits\":3,\"nameCanonical\":\"\"},{\"curriculum_requisites\":[],\"name\":\" \",\"metrics\":{\"centrality\":0,\"complexity\":1.0,\"blocking factor\":0,\"delay factor\":1.0},\"nameSub\":\"Free Elective\",\"id\":25,\"credits\":3,\"nameCanonical\":\"\"},{\"curriculum_requisites\":[],\"name\":\" \",\"metrics\":{\"centrality\":0,\"complexity\":1.0,\"blocking factor\":0,\"delay factor\":1.0},\"nameSub\":\"General Education course\",\"id\":26,\"credits\":3,\"nameCanonical\":\"\"},{\"curriculum_requisites\":[],\"name\":\" \",\"metrics\":{\"centrality\":0,\"complexity\":1.0,\"blocking factor\":0,\"delay factor\":1.0},\"nameSub\":\"Math/Science elective 1\",\"id\":27,\"credits\":3,\"nameCanonical\":\"\"}],\"id\":5},{\"name\":\"Term 6\",\"curriculum_items\":[{\"curriculum_requisites\":[{\"source_id\":17,\"target_id\":28,\"type\":\"CurriculumPrerequisite\"}],\"name\":\" \",\"metrics\":{\"centrality\":4,\"complexity\":5.0,\"blocking factor\":1,\"delay factor\":4.0},\"nameSub\":\"18-213\",\"id\":28,\"credits\":3,\"nameCanonical\":\"\"},{\"curriculum_requisites\":[],\"name\":\" \",\"metrics\":{\"centrality\":0,\"complexity\":3.0,\"blocking factor\":1,\"delay factor\":2.0},\"nameSub\":\"18-xxx Area course 1\",\"id\":29,\"credits\":3,\"nameCanonical\":\"\"},{\"curriculum_requisites\":[],\"name\":\" \",\"metrics\":{\"centrality\":0,\"complexity\":1.0,\"blocking factor\":0,\"delay factor\":1.0},\"nameSub\":\"Free Elective\",\"id\":30,\"credits\":3,\"nameCanonical\":\"\"},{\"curriculum_requisites\":[],\"name\":\" \",\"metrics\":{\"centrality\":0,\"complexity\":1.0,\"blocking factor\":0,\"delay factor\":1.0},\"nameSub\":\"General Education course\",\"id\":31,\"credits\":3,\"nameCanonical\":\"\"},{\"curriculum_requisites\":[],\"name\":\" \",\"metrics\":{\"centrality\":0,\"complexity\":1.0,\"blocking factor\":0,\"delay factor\":1.0},\"nameSub\":\"Math/Science Elective 2\",\"id\":32,\"credits\":3,\"nameCanonical\":\"\"}],\"id\":6},{\"name\":\"Term 7\",\"curriculum_items\":[{\"curriculum_requisites\":[],\"name\":\" \",\"metrics\":{\"centrality\":0,\"complexity\":1.0,\"blocking factor\":0,\"delay factor\":1.0},\"nameSub\":\"18-xxx ECE Coverage course\",\"id\":33,\"credits\":3,\"nameCanonical\":\"\"},{\"curriculum_requisites\":[],\"name\":\" \",\"metrics\":{\"centrality\":0,\"complexity\":3.0,\"blocking factor\":1,\"delay factor\":2.0},\"nameSub\":\"18-xxx Area course 2\",\"id\":34,\"credits\":3,\"nameCanonical\":\"\"},{\"curriculum_requisites\":[],\"name\":\" \",\"metrics\":{\"centrality\":0,\"complexity\":1.0,\"blocking factor\":0,\"delay factor\":1.0},\"nameSub\":\"Free Elective\",\"id\":35,\"credits\":3,\"nameCanonical\":\"\"},{\"curriculum_requisites\":[],\"name\":\" \",\"metrics\":{\"centrality\":0,\"complexity\":1.0,\"blocking factor\":0,\"delay factor\":1.0},\"nameSub\":\"Free Elective\",\"id\":36,\"credits\":3,\"nameCanonical\":\"\"},{\"curriculum_requisites\":[],\"name\":\" \",\"metrics\":{\"centrality\":0,\"complexity\":1.0,\"blocking factor\":0,\"delay factor\":1.0},\"nameSub\":\"General Education course\",\"id\":37,\"credits\":3,\"nameCanonical\":\"\"}],\"id\":7},{\"name\":\"Term 8\",\"curriculum_items\":[{\"curriculum_requisites\":[{\"source_id\":14,\"target_id\":38,\"type\":\"CurriculumPrerequisite\"},{\"source_id\":34,\"target_id\":38,\"type\":\"CurriculumPrerequisite\"},{\"source_id\":29,\"target_id\":38,\"type\":\"CurriculumPrerequisite\"},{\"source_id\":28,\"target_id\":38,\"type\":\"CurriculumPrerequisite\"},{\"source_id\":21,\"target_id\":38,\"type\":\"CurriculumPrerequisite\"},{\"source_id\":24,\"target_id\":38,\"type\":\"CurriculumPrerequisite\"}],\"name\":\" \",\"metrics\":{\"centrality\":0,\"complexity\":5.0,\"blocking factor\":0,\"delay factor\":5.0},\"nameSub\":\"18-500\",\"id\":38,\"credits\":3,\"nameCanonical\":\"\"},{\"curriculum_requisites\":[],\"name\":\" \",\"metrics\":{\"centrality\":0,\"complexity\":1.0,\"blocking factor\":0,\"delay factor\":1.0},\"nameSub\":\"Free Elective\",\"id\":39,\"credits\":3,\"nameCanonical\":\"\"},{\"curriculum_requisites\":[],\"name\":\" \",\"metrics\":{\"centrality\":0,\"complexity\":1.0,\"blocking factor\":0,\"delay factor\":1.0},\"nameSub\":\"Free Elective\",\"id\":40,\"credits\":3,\"nameCanonical\":\"\"},{\"curriculum_requisites\":[],\"name\":\" \",\"metrics\":{\"centrality\":0,\"complexity\":1.0,\"blocking factor\":0,\"delay factor\":1.0},\"nameSub\":\"Free Elective\",\"id\":41,\"credits\":3,\"nameCanonical\":\"\"},{\"curriculum_requisites\":[],\"name\":\" \",\"metrics\":{\"centrality\":0,\"complexity\":1.0,\"blocking factor\":0,\"delay factor\":1.0},\"nameSub\":\"General Education course\",\"id\":42,\"credits\":3,\"nameCanonical\":\"\"}],\"id\":8}],\"institution\":\"\"}},\"*\"); window.removeEventListener(\"message\",window.messageReceived); window.messageReceived=(function (event){return (event.data.curriculum!==undefined) ? (WebIO.setval({\"name\":\"curriculum-data\",\"scope\":\"12082338982970584131\",\"id\":\"14636254958156112931\",\"type\":\"observable\"},event.data.curriculum)) : undefined}); return window.addEventListener(\"message\",window.messageReceived)})"
          },
          "id": "curriculum",
          "src": "http://localhost:8156",
          "style": {
           "border": "none",
           "height": "100vh",
           "margin": "0",
           "padding": "0",
           "width": "100%"
          }
         },
         "type": "node"
        }
       ],
       "instanceArgs": {
        "handlers": {},
        "id": "12082338982970584131",
        "imports": {
         "data": [],
         "type": "async_block"
        },
        "mount_callbacks": [],
        "observables": {
         "curriculum-data": {
          "id": "14636254958156112931",
          "sync": true,
          "value": {
           "curriculum": {
            "curriculum_terms": [
             {
              "curriculum_items": [
               {
                "credits": 3,
                "curriculum_requisites": [],
                "id": 1,
                "metrics": {
                 "blocking factor": 5,
                 "centrality": 0,
                 "complexity": 8,
                 "delay factor": 3
                },
                "name": " ",
                "nameCanonical": "",
                "nameSub": "18-100"
               },
               {
                "credits": 3,
                "curriculum_requisites": [],
                "id": 2,
                "metrics": {
                 "blocking factor": 3,
                 "centrality": 0,
                 "complexity": 7,
                 "delay factor": 4
                },
                "name": " ",
                "nameCanonical": "",
                "nameSub": "15-112"
               },
               {
                "credits": 3,
                "curriculum_requisites": [],
                "id": 3,
                "metrics": {
                 "blocking factor": 8,
                 "centrality": 0,
                 "complexity": 13,
                 "delay factor": 5
                },
                "name": " ",
                "nameCanonical": "",
                "nameSub": "21-120"
               },
               {
                "credits": 3,
                "curriculum_requisites": [],
                "id": 4,
                "metrics": {
                 "blocking factor": 0,
                 "centrality": 0,
                 "complexity": 1,
                 "delay factor": 1
                },
                "name": " ",
                "nameCanonical": "",
                "nameSub": "76-101"
               },
               {
                "credits": 3,
                "curriculum_requisites": [],
                "id": 5,
                "metrics": {
                 "blocking factor": 0,
                 "centrality": 0,
                 "complexity": 1,
                 "delay factor": 1
                },
                "name": " ",
                "nameCanonical": "",
                "nameSub": "99-101"
               }
              ],
              "id": 1,
              "name": "Term 1"
             },
             {
              "curriculum_items": [
               {
                "credits": 3,
                "curriculum_requisites": [
                 {
                  "source_id": 3,
                  "target_id": 6,
                  "type": "CurriculumPrerequisite"
                 }
                ],
                "id": 6,
                "metrics": {
                 "blocking factor": 3,
                 "centrality": 5,
                 "complexity": 8,
                 "delay factor": 5
                },
                "name": " ",
                "nameCanonical": "",
                "nameSub": "33-141"
               },
               {
                "credits": 3,
                "curriculum_requisites": [
                 {
                  "source_id": 3,
                  "target_id": 7,
                  "type": "CurriculumPrerequisite"
                 }
                ],
                "id": 7,
                "metrics": {
                 "blocking factor": 5,
                 "centrality": 13,
                 "complexity": 10,
                 "delay factor": 5
                },
                "name": " ",
                "nameCanonical": "",
                "nameSub": "21-122"
               },
               {
                "credits": 3,
                "curriculum_requisites": [],
                "id": 8,
                "metrics": {
                 "blocking factor": 0,
                 "centrality": 0,
                 "complexity": 1,
                 "delay factor": 1
                },
                "name": " ",
                "nameCanonical": "",
                "nameSub": "Introductory Engineering course"
               },
               {
                "credits": 3,
                "curriculum_requisites": [],
                "id": 9,
                "metrics": {
                 "blocking factor": 0,
                 "centrality": 0,
                 "complexity": 1,
                 "delay factor": 1
                },
                "name": " ",
                "nameCanonical": "",
                "nameSub": "General Education course"
               }
              ],
              "id": 2,
              "name": "Term 2"
             },
             {
              "curriculum_items": [
               {
                "credits": 3,
                "curriculum_requisites": [
                 {
                  "source_id": 1,
                  "target_id": 10,
                  "type": "CurriculumPrerequisite"
                 }
                ],
                "id": 10,
                "metrics": {
                 "blocking factor": 0,
                 "centrality": 0,
                 "complexity": 2,
                 "delay factor": 2
                },
                "name": " ",
                "nameCanonical": "",
                "nameSub": "18-200"
               },
               {
                "credits": 3,
                "curriculum_requisites": [
                 {
                  "source_id": 7,
                  "target_id": 11,
                  "type": "CurriculumPrerequisite"
                 }
                ],
                "id": 11,
                "metrics": {
                 "blocking factor": 3,
                 "centrality": 10,
                 "complexity": 8,
                 "delay factor": 5
                },
                "name": " ",
                "nameCanonical": "",
                "nameSub": "18-202"
               },
               {
                "credits": 3,
                "curriculum_requisites": [
                 {
                  "source_id": 6,
                  "target_id": 12,
                  "type": "CurriculumPrerequisite"
                 }
                ],
                "id": 12,
                "metrics": {
                 "blocking factor": 2,
                 "centrality": 5,
                 "complexity": 7,
                 "delay factor": 5
                },
                "name": " ",
                "nameCanonical": "",
                "nameSub": "33-142"
               },
               {
                "credits": 3,
                "curriculum_requisites": [],
                "id": 13,
                "metrics": {
                 "blocking factor": 2,
                 "centrality": 0,
                 "complexity": 5,
                 "delay factor": 3
                },
                "name": " ",
                "nameCanonical": "",
                "nameSub": "39-210"
               },
               {
                "credits": 3,
                "curriculum_requisites": [
                 {
                  "source_id": 11,
                  "target_id": 14,
                  "type": "CurriculumCorequisite"
                 },
                 {
                  "source_id": 12,
                  "target_id": 14,
                  "type": "CurriculumCorequisite"
                 },
                 {
                  "source_id": 1,
                  "target_id": 14,
                  "type": "CurriculumPrerequisite"
                 }
                ],
                "id": 14,
                "metrics": {
                 "blocking factor": 1,
                 "centrality": 13,
                 "complexity": 6,
                 "delay factor": 5
                },
                "name": " ",
                "nameCanonical": "",
                "nameSub": "18-220"
               },
               {
                "credits": 3,
                "curriculum_requisites": [],
                "id": 15,
                "metrics": {
                 "blocking factor": 0,
                 "centrality": 0,
                 "complexity": 1,
                 "delay factor": 1
                },
                "name": " ",
                "nameCanonical": "",
                "nameSub": "General Education course"
               }
              ],
              "id": 3,
              "name": "Term 3"
             },
             {
              "curriculum_items": [
               {
                "credits": 3,
                "curriculum_requisites": [],
                "id": 16,
                "metrics": {
                 "blocking factor": 2,
                 "centrality": 0,
                 "complexity": 5,
                 "delay factor": 3
                },
                "name": " ",
                "nameCanonical": "",
                "nameSub": "21-127"
               },
               {
                "credits": 3,
                "curriculum_requisites": [
                 {
                  "source_id": 2,
                  "target_id": 17,
                  "type": "CurriculumPrerequisite"
                 }
                ],
                "id": 17,
                "metrics": {
                 "blocking factor": 2,
                 "centrality": 4,
                 "complexity": 6,
                 "delay factor": 4
                },
                "name": " ",
                "nameCanonical": "",
                "nameSub": "15-122"
               },
               {
                "credits": 3,
                "curriculum_requisites": [
                 {
                  "source_id": 7,
                  "target_id": 18,
                  "type": "CurriculumPrerequisite"
                 }
                ],
                "id": 18,
                "metrics": {
                 "blocking factor": 0,
                 "centrality": 0,
                 "complexity": 3,
                 "delay factor": 3
                },
                "name": " ",
                "nameCanonical": "",
                "nameSub": "36-217"
               },
               {
                "credits": 3,
                "curriculum_requisites": [
                 {
                  "source_id": 13,
                  "target_id": 19,
                  "type": "CurriculumPrerequisite"
                 }
                ],
                "id": 19,
                "metrics": {
                 "blocking factor": 1,
                 "centrality": 3,
                 "complexity": 4,
                 "delay factor": 3
                },
                "name": " ",
                "nameCanonical": "",
                "nameSub": "39-220"
               },
               {
                "credits": 3,
                "curriculum_requisites": [],
                "id": 20,
                "metrics": {
                 "blocking factor": 0,
                 "centrality": 0,
                 "complexity": 1,
                 "delay factor": 1
                },
                "name": " ",
                "nameCanonical": "",
                "nameSub": "General Education course"
               },
               {
                "credits": 3,
                "curriculum_requisites": [
                 {
                  "source_id": 11,
                  "target_id": 21,
                  "type": "CurriculumCorequisite"
                 },
                 {
                  "source_id": 1,
                  "target_id": 21,
                  "type": "CurriculumPrerequisite"
                 }
                ],
                "id": 21,
                "metrics": {
                 "blocking factor": 1,
                 "centrality": 8,
                 "complexity": 6,
                 "delay factor": 5
                },
                "name": " ",
                "nameCanonical": "",
                "nameSub": "18-290"
               }
              ],
              "id": 4,
              "name": "Term 4"
             },
             {
              "curriculum_items": [
               {
                "credits": 3,
                "curriculum_requisites": [
                 {
                  "source_id": 19,
                  "target_id": 22,
                  "type": "CurriculumPrerequisite"
                 }
                ],
                "id": 22,
                "metrics": {
                 "blocking factor": 0,
                 "centrality": 0,
                 "complexity": 3,
                 "delay factor": 3
                },
                "name": " ",
                "nameCanonical": "",
                "nameSub": "39-310"
               },
               {
                "credits": 3,
                "curriculum_requisites": [],
                "id": 23,
                "metrics": {
                 "blocking factor": 0,
                 "centrality": 0,
                 "complexity": 1,
                 "delay factor": 1
                },
                "name": " ",
                "nameCanonical": "",
                "nameSub": "18-3xx/4xx ECE Area 1 course"
               },
               {
                "credits": 3,
                "curriculum_requisites": [
                 {
                  "source_id": 16,
                  "target_id": 24,
                  "type": "CurriculumCorequisite"
                 },
                 {
                  "source_id": 1,
                  "target_id": 24,
                  "type": "CurriculumPrerequisite"
                 }
                ],
                "id": 24,
                "metrics": {
                 "blocking factor": 1,
                 "centrality": 6,
                 "complexity": 4,
                 "delay factor": 3
                },
                "name": " ",
                "nameCanonical": "",
                "nameSub": "18-240"
               },
               {
                "credits": 3,
                "curriculum_requisites": [],
                "id": 25,
                "metrics": {
                 "blocking factor": 0,
                 "centrality": 0,
                 "complexity": 1,
                 "delay factor": 1
                },
                "name": " ",
                "nameCanonical": "",
                "nameSub": "Free Elective"
               },
               {
                "credits": 3,
                "curriculum_requisites": [],
                "id": 26,
                "metrics": {
                 "blocking factor": 0,
                 "centrality": 0,
                 "complexity": 1,
                 "delay factor": 1
                },
                "name": " ",
                "nameCanonical": "",
                "nameSub": "General Education course"
               },
               {
                "credits": 3,
                "curriculum_requisites": [],
                "id": 27,
                "metrics": {
                 "blocking factor": 0,
                 "centrality": 0,
                 "complexity": 1,
                 "delay factor": 1
                },
                "name": " ",
                "nameCanonical": "",
                "nameSub": "Math/Science elective 1"
               }
              ],
              "id": 5,
              "name": "Term 5"
             },
             {
              "curriculum_items": [
               {
                "credits": 3,
                "curriculum_requisites": [
                 {
                  "source_id": 17,
                  "target_id": 28,
                  "type": "CurriculumPrerequisite"
                 }
                ],
                "id": 28,
                "metrics": {
                 "blocking factor": 1,
                 "centrality": 4,
                 "complexity": 5,
                 "delay factor": 4
                },
                "name": " ",
                "nameCanonical": "",
                "nameSub": "18-213"
               },
               {
                "credits": 3,
                "curriculum_requisites": [],
                "id": 29,
                "metrics": {
                 "blocking factor": 1,
                 "centrality": 0,
                 "complexity": 3,
                 "delay factor": 2
                },
                "name": " ",
                "nameCanonical": "",
                "nameSub": "18-xxx Area course 1"
               },
               {
                "credits": 3,
                "curriculum_requisites": [],
                "id": 30,
                "metrics": {
                 "blocking factor": 0,
                 "centrality": 0,
                 "complexity": 1,
                 "delay factor": 1
                },
                "name": " ",
                "nameCanonical": "",
                "nameSub": "Free Elective"
               },
               {
                "credits": 3,
                "curriculum_requisites": [],
                "id": 31,
                "metrics": {
                 "blocking factor": 0,
                 "centrality": 0,
                 "complexity": 1,
                 "delay factor": 1
                },
                "name": " ",
                "nameCanonical": "",
                "nameSub": "General Education course"
               },
               {
                "credits": 3,
                "curriculum_requisites": [],
                "id": 32,
                "metrics": {
                 "blocking factor": 0,
                 "centrality": 0,
                 "complexity": 1,
                 "delay factor": 1
                },
                "name": " ",
                "nameCanonical": "",
                "nameSub": "Math/Science Elective 2"
               }
              ],
              "id": 6,
              "name": "Term 6"
             },
             {
              "curriculum_items": [
               {
                "credits": 3,
                "curriculum_requisites": [],
                "id": 33,
                "metrics": {
                 "blocking factor": 0,
                 "centrality": 0,
                 "complexity": 1,
                 "delay factor": 1
                },
                "name": " ",
                "nameCanonical": "",
                "nameSub": "18-xxx ECE Coverage course"
               },
               {
                "credits": 3,
                "curriculum_requisites": [],
                "id": 34,
                "metrics": {
                 "blocking factor": 1,
                 "centrality": 0,
                 "complexity": 3,
                 "delay factor": 2
                },
                "name": " ",
                "nameCanonical": "",
                "nameSub": "18-xxx Area course 2"
               },
               {
                "credits": 3,
                "curriculum_requisites": [],
                "id": 35,
                "metrics": {
                 "blocking factor": 0,
                 "centrality": 0,
                 "complexity": 1,
                 "delay factor": 1
                },
                "name": " ",
                "nameCanonical": "",
                "nameSub": "Free Elective"
               },
               {
                "credits": 3,
                "curriculum_requisites": [],
                "id": 36,
                "metrics": {
                 "blocking factor": 0,
                 "centrality": 0,
                 "complexity": 1,
                 "delay factor": 1
                },
                "name": " ",
                "nameCanonical": "",
                "nameSub": "Free Elective"
               },
               {
                "credits": 3,
                "curriculum_requisites": [],
                "id": 37,
                "metrics": {
                 "blocking factor": 0,
                 "centrality": 0,
                 "complexity": 1,
                 "delay factor": 1
                },
                "name": " ",
                "nameCanonical": "",
                "nameSub": "General Education course"
               }
              ],
              "id": 7,
              "name": "Term 7"
             },
             {
              "curriculum_items": [
               {
                "credits": 3,
                "curriculum_requisites": [
                 {
                  "source_id": 14,
                  "target_id": 38,
                  "type": "CurriculumPrerequisite"
                 },
                 {
                  "source_id": 34,
                  "target_id": 38,
                  "type": "CurriculumPrerequisite"
                 },
                 {
                  "source_id": 29,
                  "target_id": 38,
                  "type": "CurriculumPrerequisite"
                 },
                 {
                  "source_id": 28,
                  "target_id": 38,
                  "type": "CurriculumPrerequisite"
                 },
                 {
                  "source_id": 21,
                  "target_id": 38,
                  "type": "CurriculumPrerequisite"
                 },
                 {
                  "source_id": 24,
                  "target_id": 38,
                  "type": "CurriculumPrerequisite"
                 }
                ],
                "id": 38,
                "metrics": {
                 "blocking factor": 0,
                 "centrality": 0,
                 "complexity": 5,
                 "delay factor": 5
                },
                "name": " ",
                "nameCanonical": "",
                "nameSub": "18-500"
               },
               {
                "credits": 3,
                "curriculum_requisites": [],
                "id": 39,
                "metrics": {
                 "blocking factor": 0,
                 "centrality": 0,
                 "complexity": 1,
                 "delay factor": 1
                },
                "name": " ",
                "nameCanonical": "",
                "nameSub": "Free Elective"
               },
               {
                "credits": 3,
                "curriculum_requisites": [],
                "id": 40,
                "metrics": {
                 "blocking factor": 0,
                 "centrality": 0,
                 "complexity": 1,
                 "delay factor": 1
                },
                "name": " ",
                "nameCanonical": "",
                "nameSub": "Free Elective"
               },
               {
                "credits": 3,
                "curriculum_requisites": [],
                "id": 41,
                "metrics": {
                 "blocking factor": 0,
                 "centrality": 0,
                 "complexity": 1,
                 "delay factor": 1
                },
                "name": " ",
                "nameCanonical": "",
                "nameSub": "Free Elective"
               },
               {
                "credits": 3,
                "curriculum_requisites": [],
                "id": 42,
                "metrics": {
                 "blocking factor": 0,
                 "centrality": 0,
                 "complexity": 1,
                 "delay factor": 1
                },
                "name": " ",
                "nameCanonical": "",
                "nameSub": "General Education course"
               }
              ],
              "id": 8,
              "name": "Term 8"
             }
            ],
            "dp_name": "Carnegie Mellon University.csv",
            "institution": "",
            "name": "Curriculum"
           },
           "options": {
            "edit": false,
            "hideTerms": false
           }
          }
         }
        },
        "systemjs_options": null
       },
       "nodeType": "Scope",
       "props": {},
       "type": "node"
      },
      "text/html": [
       "<div\n",
       "    class=\"webio-mountpoint\"\n",
       "    data-webio-mountpoint=\"5174602131322011045\"\n",
       ">\n",
       "    <script>\n",
       "    if (window.require && require.defined && require.defined(\"nbextensions/webio-jupyter-notebook\")) {\n",
       "        console.log(\"Jupyter WebIO extension detected, not mounting.\");\n",
       "    } else if (window.WebIO) {\n",
       "        WebIO.mount(\n",
       "            document.querySelector('[data-webio-mountpoint=\"5174602131322011045\"]'),\n",
       "            {\"props\":{},\"nodeType\":\"Scope\",\"type\":\"node\",\"instanceArgs\":{\"imports\":{\"data\":[],\"type\":\"async_block\"},\"id\":\"12082338982970584131\",\"handlers\":{},\"systemjs_options\":null,\"mount_callbacks\":[],\"observables\":{\"curriculum-data\":{\"sync\":true,\"id\":\"14636254958156112931\",\"value\":{\"options\":{\"hideTerms\":false,\"edit\":false},\"curriculum\":{\"name\":\"Curriculum\",\"dp_name\":\"Carnegie Mellon University.csv\",\"curriculum_terms\":[{\"name\":\"Term 1\",\"curriculum_items\":[{\"curriculum_requisites\":[],\"name\":\" \",\"metrics\":{\"centrality\":0,\"complexity\":8.0,\"blocking factor\":5,\"delay factor\":3.0},\"nameSub\":\"18-100\",\"id\":1,\"credits\":3,\"nameCanonical\":\"\"},{\"curriculum_requisites\":[],\"name\":\" \",\"metrics\":{\"centrality\":0,\"complexity\":7.0,\"blocking factor\":3,\"delay factor\":4.0},\"nameSub\":\"15-112\",\"id\":2,\"credits\":3,\"nameCanonical\":\"\"},{\"curriculum_requisites\":[],\"name\":\" \",\"metrics\":{\"centrality\":0,\"complexity\":13.0,\"blocking factor\":8,\"delay factor\":5.0},\"nameSub\":\"21-120\",\"id\":3,\"credits\":3,\"nameCanonical\":\"\"},{\"curriculum_requisites\":[],\"name\":\" \",\"metrics\":{\"centrality\":0,\"complexity\":1.0,\"blocking factor\":0,\"delay factor\":1.0},\"nameSub\":\"76-101\",\"id\":4,\"credits\":3,\"nameCanonical\":\"\"},{\"curriculum_requisites\":[],\"name\":\" \",\"metrics\":{\"centrality\":0,\"complexity\":1.0,\"blocking factor\":0,\"delay factor\":1.0},\"nameSub\":\"99-101\",\"id\":5,\"credits\":3,\"nameCanonical\":\"\"}],\"id\":1},{\"name\":\"Term 2\",\"curriculum_items\":[{\"curriculum_requisites\":[{\"source_id\":3,\"target_id\":6,\"type\":\"CurriculumPrerequisite\"}],\"name\":\" \",\"metrics\":{\"centrality\":5,\"complexity\":8.0,\"blocking factor\":3,\"delay factor\":5.0},\"nameSub\":\"33-141\",\"id\":6,\"credits\":3,\"nameCanonical\":\"\"},{\"curriculum_requisites\":[{\"source_id\":3,\"target_id\":7,\"type\":\"CurriculumPrerequisite\"}],\"name\":\" \",\"metrics\":{\"centrality\":13,\"complexity\":10.0,\"blocking factor\":5,\"delay factor\":5.0},\"nameSub\":\"21-122\",\"id\":7,\"credits\":3,\"nameCanonical\":\"\"},{\"curriculum_requisites\":[],\"name\":\" \",\"metrics\":{\"centrality\":0,\"complexity\":1.0,\"blocking factor\":0,\"delay factor\":1.0},\"nameSub\":\"Introductory Engineering course\",\"id\":8,\"credits\":3,\"nameCanonical\":\"\"},{\"curriculum_requisites\":[],\"name\":\" \",\"metrics\":{\"centrality\":0,\"complexity\":1.0,\"blocking factor\":0,\"delay factor\":1.0},\"nameSub\":\"General Education course\",\"id\":9,\"credits\":3,\"nameCanonical\":\"\"}],\"id\":2},{\"name\":\"Term 3\",\"curriculum_items\":[{\"curriculum_requisites\":[{\"source_id\":1,\"target_id\":10,\"type\":\"CurriculumPrerequisite\"}],\"name\":\" \",\"metrics\":{\"centrality\":0,\"complexity\":2.0,\"blocking factor\":0,\"delay factor\":2.0},\"nameSub\":\"18-200\",\"id\":10,\"credits\":3,\"nameCanonical\":\"\"},{\"curriculum_requisites\":[{\"source_id\":7,\"target_id\":11,\"type\":\"CurriculumPrerequisite\"}],\"name\":\" \",\"metrics\":{\"centrality\":10,\"complexity\":8.0,\"blocking factor\":3,\"delay factor\":5.0},\"nameSub\":\"18-202\",\"id\":11,\"credits\":3,\"nameCanonical\":\"\"},{\"curriculum_requisites\":[{\"source_id\":6,\"target_id\":12,\"type\":\"CurriculumPrerequisite\"}],\"name\":\" \",\"metrics\":{\"centrality\":5,\"complexity\":7.0,\"blocking factor\":2,\"delay factor\":5.0},\"nameSub\":\"33-142\",\"id\":12,\"credits\":3,\"nameCanonical\":\"\"},{\"curriculum_requisites\":[],\"name\":\" \",\"metrics\":{\"centrality\":0,\"complexity\":5.0,\"blocking factor\":2,\"delay factor\":3.0},\"nameSub\":\"39-210\",\"id\":13,\"credits\":3,\"nameCanonical\":\"\"},{\"curriculum_requisites\":[{\"source_id\":11,\"target_id\":14,\"type\":\"CurriculumCorequisite\"},{\"source_id\":12,\"target_id\":14,\"type\":\"CurriculumCorequisite\"},{\"source_id\":1,\"target_id\":14,\"type\":\"CurriculumPrerequisite\"}],\"name\":\" \",\"metrics\":{\"centrality\":13,\"complexity\":6.0,\"blocking factor\":1,\"delay factor\":5.0},\"nameSub\":\"18-220\",\"id\":14,\"credits\":3,\"nameCanonical\":\"\"},{\"curriculum_requisites\":[],\"name\":\" \",\"metrics\":{\"centrality\":0,\"complexity\":1.0,\"blocking factor\":0,\"delay factor\":1.0},\"nameSub\":\"General Education course\",\"id\":15,\"credits\":3,\"nameCanonical\":\"\"}],\"id\":3},{\"name\":\"Term 4\",\"curriculum_items\":[{\"curriculum_requisites\":[],\"name\":\" \",\"metrics\":{\"centrality\":0,\"complexity\":5.0,\"blocking factor\":2,\"delay factor\":3.0},\"nameSub\":\"21-127\",\"id\":16,\"credits\":3,\"nameCanonical\":\"\"},{\"curriculum_requisites\":[{\"source_id\":2,\"target_id\":17,\"type\":\"CurriculumPrerequisite\"}],\"name\":\" \",\"metrics\":{\"centrality\":4,\"complexity\":6.0,\"blocking factor\":2,\"delay factor\":4.0},\"nameSub\":\"15-122\",\"id\":17,\"credits\":3,\"nameCanonical\":\"\"},{\"curriculum_requisites\":[{\"source_id\":7,\"target_id\":18,\"type\":\"CurriculumPrerequisite\"}],\"name\":\" \",\"metrics\":{\"centrality\":0,\"complexity\":3.0,\"blocking factor\":0,\"delay factor\":3.0},\"nameSub\":\"36-217\",\"id\":18,\"credits\":3,\"nameCanonical\":\"\"},{\"curriculum_requisites\":[{\"source_id\":13,\"target_id\":19,\"type\":\"CurriculumPrerequisite\"}],\"name\":\" \",\"metrics\":{\"centrality\":3,\"complexity\":4.0,\"blocking factor\":1,\"delay factor\":3.0},\"nameSub\":\"39-220\",\"id\":19,\"credits\":3,\"nameCanonical\":\"\"},{\"curriculum_requisites\":[],\"name\":\" \",\"metrics\":{\"centrality\":0,\"complexity\":1.0,\"blocking factor\":0,\"delay factor\":1.0},\"nameSub\":\"General Education course\",\"id\":20,\"credits\":3,\"nameCanonical\":\"\"},{\"curriculum_requisites\":[{\"source_id\":11,\"target_id\":21,\"type\":\"CurriculumCorequisite\"},{\"source_id\":1,\"target_id\":21,\"type\":\"CurriculumPrerequisite\"}],\"name\":\" \",\"metrics\":{\"centrality\":8,\"complexity\":6.0,\"blocking factor\":1,\"delay factor\":5.0},\"nameSub\":\"18-290\",\"id\":21,\"credits\":3,\"nameCanonical\":\"\"}],\"id\":4},{\"name\":\"Term 5\",\"curriculum_items\":[{\"curriculum_requisites\":[{\"source_id\":19,\"target_id\":22,\"type\":\"CurriculumPrerequisite\"}],\"name\":\" \",\"metrics\":{\"centrality\":0,\"complexity\":3.0,\"blocking factor\":0,\"delay factor\":3.0},\"nameSub\":\"39-310\",\"id\":22,\"credits\":3,\"nameCanonical\":\"\"},{\"curriculum_requisites\":[],\"name\":\" \",\"metrics\":{\"centrality\":0,\"complexity\":1.0,\"blocking factor\":0,\"delay factor\":1.0},\"nameSub\":\"18-3xx\\/4xx ECE Area 1 course\",\"id\":23,\"credits\":3,\"nameCanonical\":\"\"},{\"curriculum_requisites\":[{\"source_id\":16,\"target_id\":24,\"type\":\"CurriculumCorequisite\"},{\"source_id\":1,\"target_id\":24,\"type\":\"CurriculumPrerequisite\"}],\"name\":\" \",\"metrics\":{\"centrality\":6,\"complexity\":4.0,\"blocking factor\":1,\"delay factor\":3.0},\"nameSub\":\"18-240\",\"id\":24,\"credits\":3,\"nameCanonical\":\"\"},{\"curriculum_requisites\":[],\"name\":\" \",\"metrics\":{\"centrality\":0,\"complexity\":1.0,\"blocking factor\":0,\"delay factor\":1.0},\"nameSub\":\"Free Elective\",\"id\":25,\"credits\":3,\"nameCanonical\":\"\"},{\"curriculum_requisites\":[],\"name\":\" \",\"metrics\":{\"centrality\":0,\"complexity\":1.0,\"blocking factor\":0,\"delay factor\":1.0},\"nameSub\":\"General Education course\",\"id\":26,\"credits\":3,\"nameCanonical\":\"\"},{\"curriculum_requisites\":[],\"name\":\" \",\"metrics\":{\"centrality\":0,\"complexity\":1.0,\"blocking factor\":0,\"delay factor\":1.0},\"nameSub\":\"Math\\/Science elective 1\",\"id\":27,\"credits\":3,\"nameCanonical\":\"\"}],\"id\":5},{\"name\":\"Term 6\",\"curriculum_items\":[{\"curriculum_requisites\":[{\"source_id\":17,\"target_id\":28,\"type\":\"CurriculumPrerequisite\"}],\"name\":\" \",\"metrics\":{\"centrality\":4,\"complexity\":5.0,\"blocking factor\":1,\"delay factor\":4.0},\"nameSub\":\"18-213\",\"id\":28,\"credits\":3,\"nameCanonical\":\"\"},{\"curriculum_requisites\":[],\"name\":\" \",\"metrics\":{\"centrality\":0,\"complexity\":3.0,\"blocking factor\":1,\"delay factor\":2.0},\"nameSub\":\"18-xxx Area course 1\",\"id\":29,\"credits\":3,\"nameCanonical\":\"\"},{\"curriculum_requisites\":[],\"name\":\" \",\"metrics\":{\"centrality\":0,\"complexity\":1.0,\"blocking factor\":0,\"delay factor\":1.0},\"nameSub\":\"Free Elective\",\"id\":30,\"credits\":3,\"nameCanonical\":\"\"},{\"curriculum_requisites\":[],\"name\":\" \",\"metrics\":{\"centrality\":0,\"complexity\":1.0,\"blocking factor\":0,\"delay factor\":1.0},\"nameSub\":\"General Education course\",\"id\":31,\"credits\":3,\"nameCanonical\":\"\"},{\"curriculum_requisites\":[],\"name\":\" \",\"metrics\":{\"centrality\":0,\"complexity\":1.0,\"blocking factor\":0,\"delay factor\":1.0},\"nameSub\":\"Math\\/Science Elective 2\",\"id\":32,\"credits\":3,\"nameCanonical\":\"\"}],\"id\":6},{\"name\":\"Term 7\",\"curriculum_items\":[{\"curriculum_requisites\":[],\"name\":\" \",\"metrics\":{\"centrality\":0,\"complexity\":1.0,\"blocking factor\":0,\"delay factor\":1.0},\"nameSub\":\"18-xxx ECE Coverage course\",\"id\":33,\"credits\":3,\"nameCanonical\":\"\"},{\"curriculum_requisites\":[],\"name\":\" \",\"metrics\":{\"centrality\":0,\"complexity\":3.0,\"blocking factor\":1,\"delay factor\":2.0},\"nameSub\":\"18-xxx Area course 2\",\"id\":34,\"credits\":3,\"nameCanonical\":\"\"},{\"curriculum_requisites\":[],\"name\":\" \",\"metrics\":{\"centrality\":0,\"complexity\":1.0,\"blocking factor\":0,\"delay factor\":1.0},\"nameSub\":\"Free Elective\",\"id\":35,\"credits\":3,\"nameCanonical\":\"\"},{\"curriculum_requisites\":[],\"name\":\" \",\"metrics\":{\"centrality\":0,\"complexity\":1.0,\"blocking factor\":0,\"delay factor\":1.0},\"nameSub\":\"Free Elective\",\"id\":36,\"credits\":3,\"nameCanonical\":\"\"},{\"curriculum_requisites\":[],\"name\":\" \",\"metrics\":{\"centrality\":0,\"complexity\":1.0,\"blocking factor\":0,\"delay factor\":1.0},\"nameSub\":\"General Education course\",\"id\":37,\"credits\":3,\"nameCanonical\":\"\"}],\"id\":7},{\"name\":\"Term 8\",\"curriculum_items\":[{\"curriculum_requisites\":[{\"source_id\":14,\"target_id\":38,\"type\":\"CurriculumPrerequisite\"},{\"source_id\":34,\"target_id\":38,\"type\":\"CurriculumPrerequisite\"},{\"source_id\":29,\"target_id\":38,\"type\":\"CurriculumPrerequisite\"},{\"source_id\":28,\"target_id\":38,\"type\":\"CurriculumPrerequisite\"},{\"source_id\":21,\"target_id\":38,\"type\":\"CurriculumPrerequisite\"},{\"source_id\":24,\"target_id\":38,\"type\":\"CurriculumPrerequisite\"}],\"name\":\" \",\"metrics\":{\"centrality\":0,\"complexity\":5.0,\"blocking factor\":0,\"delay factor\":5.0},\"nameSub\":\"18-500\",\"id\":38,\"credits\":3,\"nameCanonical\":\"\"},{\"curriculum_requisites\":[],\"name\":\" \",\"metrics\":{\"centrality\":0,\"complexity\":1.0,\"blocking factor\":0,\"delay factor\":1.0},\"nameSub\":\"Free Elective\",\"id\":39,\"credits\":3,\"nameCanonical\":\"\"},{\"curriculum_requisites\":[],\"name\":\" \",\"metrics\":{\"centrality\":0,\"complexity\":1.0,\"blocking factor\":0,\"delay factor\":1.0},\"nameSub\":\"Free Elective\",\"id\":40,\"credits\":3,\"nameCanonical\":\"\"},{\"curriculum_requisites\":[],\"name\":\" \",\"metrics\":{\"centrality\":0,\"complexity\":1.0,\"blocking factor\":0,\"delay factor\":1.0},\"nameSub\":\"Free Elective\",\"id\":41,\"credits\":3,\"nameCanonical\":\"\"},{\"curriculum_requisites\":[],\"name\":\" \",\"metrics\":{\"centrality\":0,\"complexity\":1.0,\"blocking factor\":0,\"delay factor\":1.0},\"nameSub\":\"General Education course\",\"id\":42,\"credits\":3,\"nameCanonical\":\"\"}],\"id\":8}],\"institution\":\"\"}}}}},\"children\":[{\"props\":{\"src\":\"http:\\/\\/localhost:8156\",\"id\":\"curriculum\",\"events\":{\"load\":\"(function (){this.contentWindow.postMessage({\\\"options\\\":{\\\"hideTerms\\\":false,\\\"edit\\\":false},\\\"curriculum\\\":{\\\"name\\\":\\\"Curriculum\\\",\\\"dp_name\\\":\\\"Carnegie Mellon University.csv\\\",\\\"curriculum_terms\\\":[{\\\"name\\\":\\\"Term 1\\\",\\\"curriculum_items\\\":[{\\\"curriculum_requisites\\\":[],\\\"name\\\":\\\" \\\",\\\"metrics\\\":{\\\"centrality\\\":0,\\\"complexity\\\":8.0,\\\"blocking factor\\\":5,\\\"delay factor\\\":3.0},\\\"nameSub\\\":\\\"18-100\\\",\\\"id\\\":1,\\\"credits\\\":3,\\\"nameCanonical\\\":\\\"\\\"},{\\\"curriculum_requisites\\\":[],\\\"name\\\":\\\" \\\",\\\"metrics\\\":{\\\"centrality\\\":0,\\\"complexity\\\":7.0,\\\"blocking factor\\\":3,\\\"delay factor\\\":4.0},\\\"nameSub\\\":\\\"15-112\\\",\\\"id\\\":2,\\\"credits\\\":3,\\\"nameCanonical\\\":\\\"\\\"},{\\\"curriculum_requisites\\\":[],\\\"name\\\":\\\" \\\",\\\"metrics\\\":{\\\"centrality\\\":0,\\\"complexity\\\":13.0,\\\"blocking factor\\\":8,\\\"delay factor\\\":5.0},\\\"nameSub\\\":\\\"21-120\\\",\\\"id\\\":3,\\\"credits\\\":3,\\\"nameCanonical\\\":\\\"\\\"},{\\\"curriculum_requisites\\\":[],\\\"name\\\":\\\" \\\",\\\"metrics\\\":{\\\"centrality\\\":0,\\\"complexity\\\":1.0,\\\"blocking factor\\\":0,\\\"delay factor\\\":1.0},\\\"nameSub\\\":\\\"76-101\\\",\\\"id\\\":4,\\\"credits\\\":3,\\\"nameCanonical\\\":\\\"\\\"},{\\\"curriculum_requisites\\\":[],\\\"name\\\":\\\" \\\",\\\"metrics\\\":{\\\"centrality\\\":0,\\\"complexity\\\":1.0,\\\"blocking factor\\\":0,\\\"delay factor\\\":1.0},\\\"nameSub\\\":\\\"99-101\\\",\\\"id\\\":5,\\\"credits\\\":3,\\\"nameCanonical\\\":\\\"\\\"}],\\\"id\\\":1},{\\\"name\\\":\\\"Term 2\\\",\\\"curriculum_items\\\":[{\\\"curriculum_requisites\\\":[{\\\"source_id\\\":3,\\\"target_id\\\":6,\\\"type\\\":\\\"CurriculumPrerequisite\\\"}],\\\"name\\\":\\\" \\\",\\\"metrics\\\":{\\\"centrality\\\":5,\\\"complexity\\\":8.0,\\\"blocking factor\\\":3,\\\"delay factor\\\":5.0},\\\"nameSub\\\":\\\"33-141\\\",\\\"id\\\":6,\\\"credits\\\":3,\\\"nameCanonical\\\":\\\"\\\"},{\\\"curriculum_requisites\\\":[{\\\"source_id\\\":3,\\\"target_id\\\":7,\\\"type\\\":\\\"CurriculumPrerequisite\\\"}],\\\"name\\\":\\\" \\\",\\\"metrics\\\":{\\\"centrality\\\":13,\\\"complexity\\\":10.0,\\\"blocking factor\\\":5,\\\"delay factor\\\":5.0},\\\"nameSub\\\":\\\"21-122\\\",\\\"id\\\":7,\\\"credits\\\":3,\\\"nameCanonical\\\":\\\"\\\"},{\\\"curriculum_requisites\\\":[],\\\"name\\\":\\\" \\\",\\\"metrics\\\":{\\\"centrality\\\":0,\\\"complexity\\\":1.0,\\\"blocking factor\\\":0,\\\"delay factor\\\":1.0},\\\"nameSub\\\":\\\"Introductory Engineering course\\\",\\\"id\\\":8,\\\"credits\\\":3,\\\"nameCanonical\\\":\\\"\\\"},{\\\"curriculum_requisites\\\":[],\\\"name\\\":\\\" \\\",\\\"metrics\\\":{\\\"centrality\\\":0,\\\"complexity\\\":1.0,\\\"blocking factor\\\":0,\\\"delay factor\\\":1.0},\\\"nameSub\\\":\\\"General Education course\\\",\\\"id\\\":9,\\\"credits\\\":3,\\\"nameCanonical\\\":\\\"\\\"}],\\\"id\\\":2},{\\\"name\\\":\\\"Term 3\\\",\\\"curriculum_items\\\":[{\\\"curriculum_requisites\\\":[{\\\"source_id\\\":1,\\\"target_id\\\":10,\\\"type\\\":\\\"CurriculumPrerequisite\\\"}],\\\"name\\\":\\\" \\\",\\\"metrics\\\":{\\\"centrality\\\":0,\\\"complexity\\\":2.0,\\\"blocking factor\\\":0,\\\"delay factor\\\":2.0},\\\"nameSub\\\":\\\"18-200\\\",\\\"id\\\":10,\\\"credits\\\":3,\\\"nameCanonical\\\":\\\"\\\"},{\\\"curriculum_requisites\\\":[{\\\"source_id\\\":7,\\\"target_id\\\":11,\\\"type\\\":\\\"CurriculumPrerequisite\\\"}],\\\"name\\\":\\\" \\\",\\\"metrics\\\":{\\\"centrality\\\":10,\\\"complexity\\\":8.0,\\\"blocking factor\\\":3,\\\"delay factor\\\":5.0},\\\"nameSub\\\":\\\"18-202\\\",\\\"id\\\":11,\\\"credits\\\":3,\\\"nameCanonical\\\":\\\"\\\"},{\\\"curriculum_requisites\\\":[{\\\"source_id\\\":6,\\\"target_id\\\":12,\\\"type\\\":\\\"CurriculumPrerequisite\\\"}],\\\"name\\\":\\\" \\\",\\\"metrics\\\":{\\\"centrality\\\":5,\\\"complexity\\\":7.0,\\\"blocking factor\\\":2,\\\"delay factor\\\":5.0},\\\"nameSub\\\":\\\"33-142\\\",\\\"id\\\":12,\\\"credits\\\":3,\\\"nameCanonical\\\":\\\"\\\"},{\\\"curriculum_requisites\\\":[],\\\"name\\\":\\\" \\\",\\\"metrics\\\":{\\\"centrality\\\":0,\\\"complexity\\\":5.0,\\\"blocking factor\\\":2,\\\"delay factor\\\":3.0},\\\"nameSub\\\":\\\"39-210\\\",\\\"id\\\":13,\\\"credits\\\":3,\\\"nameCanonical\\\":\\\"\\\"},{\\\"curriculum_requisites\\\":[{\\\"source_id\\\":11,\\\"target_id\\\":14,\\\"type\\\":\\\"CurriculumCorequisite\\\"},{\\\"source_id\\\":12,\\\"target_id\\\":14,\\\"type\\\":\\\"CurriculumCorequisite\\\"},{\\\"source_id\\\":1,\\\"target_id\\\":14,\\\"type\\\":\\\"CurriculumPrerequisite\\\"}],\\\"name\\\":\\\" \\\",\\\"metrics\\\":{\\\"centrality\\\":13,\\\"complexity\\\":6.0,\\\"blocking factor\\\":1,\\\"delay factor\\\":5.0},\\\"nameSub\\\":\\\"18-220\\\",\\\"id\\\":14,\\\"credits\\\":3,\\\"nameCanonical\\\":\\\"\\\"},{\\\"curriculum_requisites\\\":[],\\\"name\\\":\\\" \\\",\\\"metrics\\\":{\\\"centrality\\\":0,\\\"complexity\\\":1.0,\\\"blocking factor\\\":0,\\\"delay factor\\\":1.0},\\\"nameSub\\\":\\\"General Education course\\\",\\\"id\\\":15,\\\"credits\\\":3,\\\"nameCanonical\\\":\\\"\\\"}],\\\"id\\\":3},{\\\"name\\\":\\\"Term 4\\\",\\\"curriculum_items\\\":[{\\\"curriculum_requisites\\\":[],\\\"name\\\":\\\" \\\",\\\"metrics\\\":{\\\"centrality\\\":0,\\\"complexity\\\":5.0,\\\"blocking factor\\\":2,\\\"delay factor\\\":3.0},\\\"nameSub\\\":\\\"21-127\\\",\\\"id\\\":16,\\\"credits\\\":3,\\\"nameCanonical\\\":\\\"\\\"},{\\\"curriculum_requisites\\\":[{\\\"source_id\\\":2,\\\"target_id\\\":17,\\\"type\\\":\\\"CurriculumPrerequisite\\\"}],\\\"name\\\":\\\" \\\",\\\"metrics\\\":{\\\"centrality\\\":4,\\\"complexity\\\":6.0,\\\"blocking factor\\\":2,\\\"delay factor\\\":4.0},\\\"nameSub\\\":\\\"15-122\\\",\\\"id\\\":17,\\\"credits\\\":3,\\\"nameCanonical\\\":\\\"\\\"},{\\\"curriculum_requisites\\\":[{\\\"source_id\\\":7,\\\"target_id\\\":18,\\\"type\\\":\\\"CurriculumPrerequisite\\\"}],\\\"name\\\":\\\" \\\",\\\"metrics\\\":{\\\"centrality\\\":0,\\\"complexity\\\":3.0,\\\"blocking factor\\\":0,\\\"delay factor\\\":3.0},\\\"nameSub\\\":\\\"36-217\\\",\\\"id\\\":18,\\\"credits\\\":3,\\\"nameCanonical\\\":\\\"\\\"},{\\\"curriculum_requisites\\\":[{\\\"source_id\\\":13,\\\"target_id\\\":19,\\\"type\\\":\\\"CurriculumPrerequisite\\\"}],\\\"name\\\":\\\" \\\",\\\"metrics\\\":{\\\"centrality\\\":3,\\\"complexity\\\":4.0,\\\"blocking factor\\\":1,\\\"delay factor\\\":3.0},\\\"nameSub\\\":\\\"39-220\\\",\\\"id\\\":19,\\\"credits\\\":3,\\\"nameCanonical\\\":\\\"\\\"},{\\\"curriculum_requisites\\\":[],\\\"name\\\":\\\" \\\",\\\"metrics\\\":{\\\"centrality\\\":0,\\\"complexity\\\":1.0,\\\"blocking factor\\\":0,\\\"delay factor\\\":1.0},\\\"nameSub\\\":\\\"General Education course\\\",\\\"id\\\":20,\\\"credits\\\":3,\\\"nameCanonical\\\":\\\"\\\"},{\\\"curriculum_requisites\\\":[{\\\"source_id\\\":11,\\\"target_id\\\":21,\\\"type\\\":\\\"CurriculumCorequisite\\\"},{\\\"source_id\\\":1,\\\"target_id\\\":21,\\\"type\\\":\\\"CurriculumPrerequisite\\\"}],\\\"name\\\":\\\" \\\",\\\"metrics\\\":{\\\"centrality\\\":8,\\\"complexity\\\":6.0,\\\"blocking factor\\\":1,\\\"delay factor\\\":5.0},\\\"nameSub\\\":\\\"18-290\\\",\\\"id\\\":21,\\\"credits\\\":3,\\\"nameCanonical\\\":\\\"\\\"}],\\\"id\\\":4},{\\\"name\\\":\\\"Term 5\\\",\\\"curriculum_items\\\":[{\\\"curriculum_requisites\\\":[{\\\"source_id\\\":19,\\\"target_id\\\":22,\\\"type\\\":\\\"CurriculumPrerequisite\\\"}],\\\"name\\\":\\\" \\\",\\\"metrics\\\":{\\\"centrality\\\":0,\\\"complexity\\\":3.0,\\\"blocking factor\\\":0,\\\"delay factor\\\":3.0},\\\"nameSub\\\":\\\"39-310\\\",\\\"id\\\":22,\\\"credits\\\":3,\\\"nameCanonical\\\":\\\"\\\"},{\\\"curriculum_requisites\\\":[],\\\"name\\\":\\\" \\\",\\\"metrics\\\":{\\\"centrality\\\":0,\\\"complexity\\\":1.0,\\\"blocking factor\\\":0,\\\"delay factor\\\":1.0},\\\"nameSub\\\":\\\"18-3xx\\/4xx ECE Area 1 course\\\",\\\"id\\\":23,\\\"credits\\\":3,\\\"nameCanonical\\\":\\\"\\\"},{\\\"curriculum_requisites\\\":[{\\\"source_id\\\":16,\\\"target_id\\\":24,\\\"type\\\":\\\"CurriculumCorequisite\\\"},{\\\"source_id\\\":1,\\\"target_id\\\":24,\\\"type\\\":\\\"CurriculumPrerequisite\\\"}],\\\"name\\\":\\\" \\\",\\\"metrics\\\":{\\\"centrality\\\":6,\\\"complexity\\\":4.0,\\\"blocking factor\\\":1,\\\"delay factor\\\":3.0},\\\"nameSub\\\":\\\"18-240\\\",\\\"id\\\":24,\\\"credits\\\":3,\\\"nameCanonical\\\":\\\"\\\"},{\\\"curriculum_requisites\\\":[],\\\"name\\\":\\\" \\\",\\\"metrics\\\":{\\\"centrality\\\":0,\\\"complexity\\\":1.0,\\\"blocking factor\\\":0,\\\"delay factor\\\":1.0},\\\"nameSub\\\":\\\"Free Elective\\\",\\\"id\\\":25,\\\"credits\\\":3,\\\"nameCanonical\\\":\\\"\\\"},{\\\"curriculum_requisites\\\":[],\\\"name\\\":\\\" \\\",\\\"metrics\\\":{\\\"centrality\\\":0,\\\"complexity\\\":1.0,\\\"blocking factor\\\":0,\\\"delay factor\\\":1.0},\\\"nameSub\\\":\\\"General Education course\\\",\\\"id\\\":26,\\\"credits\\\":3,\\\"nameCanonical\\\":\\\"\\\"},{\\\"curriculum_requisites\\\":[],\\\"name\\\":\\\" \\\",\\\"metrics\\\":{\\\"centrality\\\":0,\\\"complexity\\\":1.0,\\\"blocking factor\\\":0,\\\"delay factor\\\":1.0},\\\"nameSub\\\":\\\"Math\\/Science elective 1\\\",\\\"id\\\":27,\\\"credits\\\":3,\\\"nameCanonical\\\":\\\"\\\"}],\\\"id\\\":5},{\\\"name\\\":\\\"Term 6\\\",\\\"curriculum_items\\\":[{\\\"curriculum_requisites\\\":[{\\\"source_id\\\":17,\\\"target_id\\\":28,\\\"type\\\":\\\"CurriculumPrerequisite\\\"}],\\\"name\\\":\\\" \\\",\\\"metrics\\\":{\\\"centrality\\\":4,\\\"complexity\\\":5.0,\\\"blocking factor\\\":1,\\\"delay factor\\\":4.0},\\\"nameSub\\\":\\\"18-213\\\",\\\"id\\\":28,\\\"credits\\\":3,\\\"nameCanonical\\\":\\\"\\\"},{\\\"curriculum_requisites\\\":[],\\\"name\\\":\\\" \\\",\\\"metrics\\\":{\\\"centrality\\\":0,\\\"complexity\\\":3.0,\\\"blocking factor\\\":1,\\\"delay factor\\\":2.0},\\\"nameSub\\\":\\\"18-xxx Area course 1\\\",\\\"id\\\":29,\\\"credits\\\":3,\\\"nameCanonical\\\":\\\"\\\"},{\\\"curriculum_requisites\\\":[],\\\"name\\\":\\\" \\\",\\\"metrics\\\":{\\\"centrality\\\":0,\\\"complexity\\\":1.0,\\\"blocking factor\\\":0,\\\"delay factor\\\":1.0},\\\"nameSub\\\":\\\"Free Elective\\\",\\\"id\\\":30,\\\"credits\\\":3,\\\"nameCanonical\\\":\\\"\\\"},{\\\"curriculum_requisites\\\":[],\\\"name\\\":\\\" \\\",\\\"metrics\\\":{\\\"centrality\\\":0,\\\"complexity\\\":1.0,\\\"blocking factor\\\":0,\\\"delay factor\\\":1.0},\\\"nameSub\\\":\\\"General Education course\\\",\\\"id\\\":31,\\\"credits\\\":3,\\\"nameCanonical\\\":\\\"\\\"},{\\\"curriculum_requisites\\\":[],\\\"name\\\":\\\" \\\",\\\"metrics\\\":{\\\"centrality\\\":0,\\\"complexity\\\":1.0,\\\"blocking factor\\\":0,\\\"delay factor\\\":1.0},\\\"nameSub\\\":\\\"Math\\/Science Elective 2\\\",\\\"id\\\":32,\\\"credits\\\":3,\\\"nameCanonical\\\":\\\"\\\"}],\\\"id\\\":6},{\\\"name\\\":\\\"Term 7\\\",\\\"curriculum_items\\\":[{\\\"curriculum_requisites\\\":[],\\\"name\\\":\\\" \\\",\\\"metrics\\\":{\\\"centrality\\\":0,\\\"complexity\\\":1.0,\\\"blocking factor\\\":0,\\\"delay factor\\\":1.0},\\\"nameSub\\\":\\\"18-xxx ECE Coverage course\\\",\\\"id\\\":33,\\\"credits\\\":3,\\\"nameCanonical\\\":\\\"\\\"},{\\\"curriculum_requisites\\\":[],\\\"name\\\":\\\" \\\",\\\"metrics\\\":{\\\"centrality\\\":0,\\\"complexity\\\":3.0,\\\"blocking factor\\\":1,\\\"delay factor\\\":2.0},\\\"nameSub\\\":\\\"18-xxx Area course 2\\\",\\\"id\\\":34,\\\"credits\\\":3,\\\"nameCanonical\\\":\\\"\\\"},{\\\"curriculum_requisites\\\":[],\\\"name\\\":\\\" \\\",\\\"metrics\\\":{\\\"centrality\\\":0,\\\"complexity\\\":1.0,\\\"blocking factor\\\":0,\\\"delay factor\\\":1.0},\\\"nameSub\\\":\\\"Free Elective\\\",\\\"id\\\":35,\\\"credits\\\":3,\\\"nameCanonical\\\":\\\"\\\"},{\\\"curriculum_requisites\\\":[],\\\"name\\\":\\\" \\\",\\\"metrics\\\":{\\\"centrality\\\":0,\\\"complexity\\\":1.0,\\\"blocking factor\\\":0,\\\"delay factor\\\":1.0},\\\"nameSub\\\":\\\"Free Elective\\\",\\\"id\\\":36,\\\"credits\\\":3,\\\"nameCanonical\\\":\\\"\\\"},{\\\"curriculum_requisites\\\":[],\\\"name\\\":\\\" \\\",\\\"metrics\\\":{\\\"centrality\\\":0,\\\"complexity\\\":1.0,\\\"blocking factor\\\":0,\\\"delay factor\\\":1.0},\\\"nameSub\\\":\\\"General Education course\\\",\\\"id\\\":37,\\\"credits\\\":3,\\\"nameCanonical\\\":\\\"\\\"}],\\\"id\\\":7},{\\\"name\\\":\\\"Term 8\\\",\\\"curriculum_items\\\":[{\\\"curriculum_requisites\\\":[{\\\"source_id\\\":14,\\\"target_id\\\":38,\\\"type\\\":\\\"CurriculumPrerequisite\\\"},{\\\"source_id\\\":34,\\\"target_id\\\":38,\\\"type\\\":\\\"CurriculumPrerequisite\\\"},{\\\"source_id\\\":29,\\\"target_id\\\":38,\\\"type\\\":\\\"CurriculumPrerequisite\\\"},{\\\"source_id\\\":28,\\\"target_id\\\":38,\\\"type\\\":\\\"CurriculumPrerequisite\\\"},{\\\"source_id\\\":21,\\\"target_id\\\":38,\\\"type\\\":\\\"CurriculumPrerequisite\\\"},{\\\"source_id\\\":24,\\\"target_id\\\":38,\\\"type\\\":\\\"CurriculumPrerequisite\\\"}],\\\"name\\\":\\\" \\\",\\\"metrics\\\":{\\\"centrality\\\":0,\\\"complexity\\\":5.0,\\\"blocking factor\\\":0,\\\"delay factor\\\":5.0},\\\"nameSub\\\":\\\"18-500\\\",\\\"id\\\":38,\\\"credits\\\":3,\\\"nameCanonical\\\":\\\"\\\"},{\\\"curriculum_requisites\\\":[],\\\"name\\\":\\\" \\\",\\\"metrics\\\":{\\\"centrality\\\":0,\\\"complexity\\\":1.0,\\\"blocking factor\\\":0,\\\"delay factor\\\":1.0},\\\"nameSub\\\":\\\"Free Elective\\\",\\\"id\\\":39,\\\"credits\\\":3,\\\"nameCanonical\\\":\\\"\\\"},{\\\"curriculum_requisites\\\":[],\\\"name\\\":\\\" \\\",\\\"metrics\\\":{\\\"centrality\\\":0,\\\"complexity\\\":1.0,\\\"blocking factor\\\":0,\\\"delay factor\\\":1.0},\\\"nameSub\\\":\\\"Free Elective\\\",\\\"id\\\":40,\\\"credits\\\":3,\\\"nameCanonical\\\":\\\"\\\"},{\\\"curriculum_requisites\\\":[],\\\"name\\\":\\\" \\\",\\\"metrics\\\":{\\\"centrality\\\":0,\\\"complexity\\\":1.0,\\\"blocking factor\\\":0,\\\"delay factor\\\":1.0},\\\"nameSub\\\":\\\"Free Elective\\\",\\\"id\\\":41,\\\"credits\\\":3,\\\"nameCanonical\\\":\\\"\\\"},{\\\"curriculum_requisites\\\":[],\\\"name\\\":\\\" \\\",\\\"metrics\\\":{\\\"centrality\\\":0,\\\"complexity\\\":1.0,\\\"blocking factor\\\":0,\\\"delay factor\\\":1.0},\\\"nameSub\\\":\\\"General Education course\\\",\\\"id\\\":42,\\\"credits\\\":3,\\\"nameCanonical\\\":\\\"\\\"}],\\\"id\\\":8}],\\\"institution\\\":\\\"\\\"}},\\\"*\\\"); window.removeEventListener(\\\"message\\\",window.messageReceived); window.messageReceived=(function (event){return (event.data.curriculum!==undefined) ? (WebIO.setval({\\\"name\\\":\\\"curriculum-data\\\",\\\"scope\\\":\\\"12082338982970584131\\\",\\\"id\\\":\\\"14636254958156112931\\\",\\\"type\\\":\\\"observable\\\"},event.data.curriculum)) : undefined}); return window.addEventListener(\\\"message\\\",window.messageReceived)})\"},\"style\":{\"padding\":\"0\",\"height\":\"100vh\",\"margin\":\"0\",\"border\":\"none\",\"width\":\"100%\"}},\"nodeType\":\"DOM\",\"type\":\"node\",\"instanceArgs\":{\"namespace\":\"html\",\"tag\":\"iframe\"},\"children\":[\"\"]}]},\n",
       "            window,\n",
       "        );\n",
       "    } else {\n",
       "        document\n",
       "            .querySelector('[data-webio-mountpoint=\"5174602131322011045\"]')\n",
       "            .innerHTML = (\n",
       "                '<div style=\"padding: 1em; background-color: #f8d6da; border: 1px solid #f5c6cb\">' +\n",
       "                '<p><strong>WebIO not detected.</strong></p>' +\n",
       "                '<p>Please read ' +\n",
       "                '<a href=\"https://juliagizmos.github.io/WebIO.jl/latest/troubleshooting/not-detected/\" target=\"_blank\">the troubleshooting guide</a> ' +\n",
       "                'for more information on how to resolve this issue.</p>' +\n",
       "                '<p><a href=\"https://juliagizmos.github.io/WebIO.jl/latest/troubleshooting/not-detected/\" target=\"_blank\">https://juliagizmos.github.io/WebIO.jl/latest/troubleshooting/not-detected/</a></p>' +\n",
       "                '</div>'\n",
       "            );\n",
       "    }\n",
       "    </script>\n",
       "</div>\n"
      ],
      "text/plain": [
       "WebIO.Scope(WebIO.Node{WebIO.DOM}(WebIO.DOM(:html, :iframe), Any[\"\"], Dict{Symbol,Any}(:src => \"http://localhost:8156\",:id => \"curriculum\",:events => Dict{Symbol,WebIO.JSString}(:load => WebIO.JSString(\"(function (){this.contentWindow.postMessage({\\\"options\\\":{\\\"hideTerms\\\":false,\\\"edit\\\":false},\\\"curriculum\\\":{\\\"name\\\":\\\"Curriculum\\\",\\\"dp_name\\\":\\\"Carnegie Mellon University.csv\\\",\\\"curriculum_terms\\\":[{\\\"name\\\":\\\"Term 1\\\",\\\"curriculum_items\\\":[{\\\"curriculum_requisites\\\":[],\\\"name\\\":\\\" \\\",\\\"metrics\\\":{\\\"centrality\\\":0,\\\"complexity\\\":8.0,\\\"blocking factor\\\":5,\\\"delay factor\\\":3.0},\\\"nameSub\\\":\\\"18-100\\\",\\\"id\\\":1,\\\"credits\\\":3,\\\"nameCanonical\\\":\\\"\\\"},{\\\"curriculum_requisites\\\":[],\\\"name\\\":\\\" \\\",\\\"metrics\\\":{\\\"centrality\\\":0,\\\"complexity\\\":7.0,\\\"blocking factor\\\":3,\\\"delay factor\\\":4.0},\\\"nameSub\\\":\\\"15-112\\\",\\\"id\\\":2,\\\"credits\\\":3,\\\"nameCanonical\\\":\\\"\\\"},{\\\"curriculum_requisites\\\":[],\\\"name\\\":\\\" \\\",\\\"metrics\\\":{\\\"centrality\\\":0,\\\"complexity\\\":13.0,\\\"blocking factor\\\":8,\\\"delay factor\\\":5.0},\\\"nameSub\\\":\\\"21-120\\\",\\\"id\\\":3,\\\"credits\\\":3,\\\"nameCanonical\\\":\\\"\\\"},{\\\"curriculum_requisites\\\":[],\\\"name\\\":\\\" \\\",\\\"metrics\\\":{\\\"centrality\\\":0,\\\"complexity\\\":1.0,\\\"blocking factor\\\":0,\\\"delay factor\\\":1.0},\\\"nameSub\\\":\\\"76-101\\\",\\\"id\\\":4,\\\"credits\\\":3,\\\"nameCanonical\\\":\\\"\\\"},{\\\"curriculum_requisites\\\":[],\\\"name\\\":\\\" \\\",\\\"metrics\\\":{\\\"centrality\\\":0,\\\"complexity\\\":1.0,\\\"blocking factor\\\":0,\\\"delay factor\\\":1.0},\\\"nameSub\\\":\\\"99-101\\\",\\\"id\\\":5,\\\"credits\\\":3,\\\"nameCanonical\\\":\\\"\\\"}],\\\"id\\\":1},{\\\"name\\\":\\\"Term 2\\\",\\\"curriculum_items\\\":[{\\\"curriculum_requisites\\\":[{\\\"source_id\\\":3,\\\"target_id\\\":6,\\\"type\\\":\\\"CurriculumPrerequisite\\\"}],\\\"name\\\":\\\" \\\",\\\"metrics\\\":{\\\"centrality\\\":5,\\\"complexity\\\":8.0,\\\"blocking factor\\\":3,\\\"delay factor\\\":5.0},\\\"nameSub\\\":\\\"33-141\\\",\\\"id\\\":6,\\\"credits\\\":3,\\\"nameCanonical\\\":\\\"\\\"},{\\\"curriculum_requisites\\\":[{\\\"source_id\\\":3,\\\"target_id\\\":7,\\\"type\\\":\\\"CurriculumPrerequisite\\\"}],\\\"name\\\":\\\" \\\",\\\"metrics\\\":{\\\"centrality\\\":13,\\\"complexity\\\":10.0,\\\"blocking factor\\\":5,\\\"delay factor\\\":5.0},\\\"nameSub\\\":\\\"21-122\\\",\\\"id\\\":7,\\\"credits\\\":3,\\\"nameCanonical\\\":\\\"\\\"},{\\\"curriculum_requisites\\\":[],\\\"name\\\":\\\" \\\",\\\"metrics\\\":{\\\"centrality\\\":0,\\\"complexity\\\":1.0,\\\"blocking factor\\\":0,\\\"delay factor\\\":1.0},\\\"nameSub\\\":\\\"Introductory Engineering course\\\",\\\"id\\\":8,\\\"credits\\\":3,\\\"nameCanonical\\\":\\\"\\\"},{\\\"curriculum_requisites\\\":[],\\\"name\\\":\\\" \\\",\\\"metrics\\\":{\\\"centrality\\\":0,\\\"complexity\\\":1.0,\\\"blocking factor\\\":0,\\\"delay factor\\\":1.0},\\\"nameSub\\\":\\\"General Education course\\\",\\\"id\\\":9,\\\"credits\\\":3,\\\"nameCanonical\\\":\\\"\\\"}],\\\"id\\\":2},{\\\"name\\\":\\\"Term 3\\\",\\\"curriculum_items\\\":[{\\\"curriculum_requisites\\\":[{\\\"source_id\\\":1,\\\"target_id\\\":10,\\\"type\\\":\\\"CurriculumPrerequisite\\\"}],\\\"name\\\":\\\" \\\",\\\"metrics\\\":{\\\"centrality\\\":0,\\\"complexity\\\":2.0,\\\"blocking factor\\\":0,\\\"delay factor\\\":2.0},\\\"nameSub\\\":\\\"18-200\\\",\\\"id\\\":10,\\\"credits\\\":3,\\\"nameCanonical\\\":\\\"\\\"},{\\\"curriculum_requisites\\\":[{\\\"source_id\\\":7,\\\"target_id\\\":11,\\\"type\\\":\\\"CurriculumPrerequisite\\\"}],\\\"name\\\":\\\" \\\",\\\"metrics\\\":{\\\"centrality\\\":10,\\\"complexity\\\":8.0,\\\"blocking factor\\\":3,\\\"delay factor\\\":5.0},\\\"nameSub\\\":\\\"18-202\\\",\\\"id\\\":11,\\\"credits\\\":3,\\\"nameCanonical\\\":\\\"\\\"},{\\\"curriculum_requisites\\\":[{\\\"source_id\\\":6,\\\"target_id\\\":12,\\\"type\\\":\\\"CurriculumPrerequisite\\\"}],\\\"name\\\":\\\" \\\",\\\"metrics\\\":{\\\"centrality\\\":5,\\\"complexity\\\":7.0,\\\"blocking factor\\\":2,\\\"delay factor\\\":5.0},\\\"nameSub\\\":\\\"33-142\\\",\\\"id\\\":12,\\\"credits\\\":3,\\\"nameCanonical\\\":\\\"\\\"},{\\\"curriculum_requisites\\\":[],\\\"name\\\":\\\" \\\",\\\"metrics\\\":{\\\"centrality\\\":0,\\\"complexity\\\":5.0,\\\"blocking factor\\\":2,\\\"delay factor\\\":3.0},\\\"nameSub\\\":\\\"39-210\\\",\\\"id\\\":13,\\\"credits\\\":3,\\\"nameCanonical\\\":\\\"\\\"},{\\\"curriculum_requisites\\\":[{\\\"source_id\\\":11,\\\"target_id\\\":14,\\\"type\\\":\\\"CurriculumCorequisite\\\"},{\\\"source_id\\\":12,\\\"target_id\\\":14,\\\"type\\\":\\\"CurriculumCorequisite\\\"},{\\\"source_id\\\":1,\\\"target_id\\\":14,\\\"type\\\":\\\"CurriculumPrerequisite\\\"}],\\\"name\\\":\\\" \\\",\\\"metrics\\\":{\\\"centrality\\\":13,\\\"complexity\\\":6.0,\\\"blocking factor\\\":1,\\\"delay factor\\\":5.0},\\\"nameSub\\\":\\\"18-220\\\",\\\"id\\\":14,\\\"credits\\\":3,\\\"nameCanonical\\\":\\\"\\\"},{\\\"curriculum_requisites\\\":[],\\\"name\\\":\\\" \\\",\\\"metrics\\\":{\\\"centrality\\\":0,\\\"complexity\\\":1.0,\\\"blocking factor\\\":0,\\\"delay factor\\\":1.0},\\\"nameSub\\\":\\\"General Education course\\\",\\\"id\\\":15,\\\"credits\\\":3,\\\"nameCanonical\\\":\\\"\\\"}],\\\"id\\\":3},{\\\"name\\\":\\\"Term 4\\\",\\\"curriculum_items\\\":[{\\\"curriculum_requisites\\\":[],\\\"name\\\":\\\" \\\",\\\"metrics\\\":{\\\"centrality\\\":0,\\\"complexity\\\":5.0,\\\"blocking factor\\\":2,\\\"delay factor\\\":3.0},\\\"nameSub\\\":\\\"21-127\\\",\\\"id\\\":16,\\\"credits\\\":3,\\\"nameCanonical\\\":\\\"\\\"},{\\\"curriculum_requisites\\\":[{\\\"source_id\\\":2,\\\"target_id\\\":17,\\\"type\\\":\\\"CurriculumPrerequisite\\\"}],\\\"name\\\":\\\" \\\",\\\"metrics\\\":{\\\"centrality\\\":4,\\\"complexity\\\":6.0,\\\"blocking factor\\\":2,\\\"delay factor\\\":4.0},\\\"nameSub\\\":\\\"15-122\\\",\\\"id\\\":17,\\\"credits\\\":3,\\\"nameCanonical\\\":\\\"\\\"},{\\\"curriculum_requisites\\\":[{\\\"source_id\\\":7,\\\"target_id\\\":18,\\\"type\\\":\\\"CurriculumPrerequisite\\\"}],\\\"name\\\":\\\" \\\",\\\"metrics\\\":{\\\"centrality\\\":0,\\\"complexity\\\":3.0,\\\"blocking factor\\\":0,\\\"delay factor\\\":3.0},\\\"nameSub\\\":\\\"36-217\\\",\\\"id\\\":18,\\\"credits\\\":3,\\\"nameCanonical\\\":\\\"\\\"},{\\\"curriculum_requisites\\\":[{\\\"source_id\\\":13,\\\"target_id\\\":19,\\\"type\\\":\\\"CurriculumPrerequisite\\\"}],\\\"name\\\":\\\" \\\",\\\"metrics\\\":{\\\"centrality\\\":3,\\\"complexity\\\":4.0,\\\"blocking factor\\\":1,\\\"delay factor\\\":3.0},\\\"nameSub\\\":\\\"39-220\\\",\\\"id\\\":19,\\\"credits\\\":3,\\\"nameCanonical\\\":\\\"\\\"},{\\\"curriculum_requisites\\\":[],\\\"name\\\":\\\" \\\",\\\"metrics\\\":{\\\"centrality\\\":0,\\\"complexity\\\":1.0,\\\"blocking factor\\\":0,\\\"delay factor\\\":1.0},\\\"nameSub\\\":\\\"General Education course\\\",\\\"id\\\":20,\\\"credits\\\":3,\\\"nameCanonical\\\":\\\"\\\"},{\\\"curriculum_requisites\\\":[{\\\"source_id\\\":11,\\\"target_id\\\":21,\\\"type\\\":\\\"CurriculumCorequisite\\\"},{\\\"source_id\\\":1,\\\"target_id\\\":21,\\\"type\\\":\\\"CurriculumPrerequisite\\\"}],\\\"name\\\":\\\" \\\",\\\"metrics\\\":{\\\"centrality\\\":8,\\\"complexity\\\":6.0,\\\"blocking factor\\\":1,\\\"delay factor\\\":5.0},\\\"nameSub\\\":\\\"18-290\\\",\\\"id\\\":21,\\\"credits\\\":3,\\\"nameCanonical\\\":\\\"\\\"}],\\\"id\\\":4},{\\\"name\\\":\\\"Term 5\\\",\\\"curriculum_items\\\":[{\\\"curriculum_requisites\\\":[{\\\"source_id\\\":19,\\\"target_id\\\":22,\\\"type\\\":\\\"CurriculumPrerequisite\\\"}],\\\"name\\\":\\\" \\\",\\\"metrics\\\":{\\\"centrality\\\":0,\\\"complexity\\\":3.0,\\\"blocking factor\\\":0,\\\"delay factor\\\":3.0},\\\"nameSub\\\":\\\"39-310\\\",\\\"id\\\":22,\\\"credits\\\":3,\\\"nameCanonical\\\":\\\"\\\"},{\\\"curriculum_requisites\\\":[],\\\"name\\\":\\\" \\\",\\\"metrics\\\":{\\\"centrality\\\":0,\\\"complexity\\\":1.0,\\\"blocking factor\\\":0,\\\"delay factor\\\":1.0},\\\"nameSub\\\":\\\"18-3xx/4xx ECE Area 1 course\\\",\\\"id\\\":23,\\\"credits\\\":3,\\\"nameCanonical\\\":\\\"\\\"},{\\\"curriculum_requisites\\\":[{\\\"source_id\\\":16,\\\"target_id\\\":24,\\\"type\\\":\\\"CurriculumCorequisite\\\"},{\\\"source_id\\\":1,\\\"target_id\\\":24,\\\"type\\\":\\\"CurriculumPrerequisite\\\"}],\\\"name\\\":\\\" \\\",\\\"metrics\\\":{\\\"centrality\\\":6,\\\"complexity\\\":4.0,\\\"blocking factor\\\":1,\\\"delay factor\\\":3.0},\\\"nameSub\\\":\\\"18-240\\\",\\\"id\\\":24,\\\"credits\\\":3,\\\"nameCanonical\\\":\\\"\\\"},{\\\"curriculum_requisites\\\":[],\\\"name\\\":\\\" \\\",\\\"metrics\\\":{\\\"centrality\\\":0,\\\"complexity\\\":1.0,\\\"blocking factor\\\":0,\\\"delay factor\\\":1.0},\\\"nameSub\\\":\\\"Free Elective\\\",\\\"id\\\":25,\\\"credits\\\":3,\\\"nameCanonical\\\":\\\"\\\"},{\\\"curriculum_requisites\\\":[],\\\"name\\\":\\\" \\\",\\\"metrics\\\":{\\\"centrality\\\":0,\\\"complexity\\\":1.0,\\\"blocking factor\\\":0,\\\"delay factor\\\":1.0},\\\"nameSub\\\":\\\"General Education course\\\",\\\"id\\\":26,\\\"credits\\\":3,\\\"nameCanonical\\\":\\\"\\\"},{\\\"curriculum_requisites\\\":[],\\\"name\\\":\\\" \\\",\\\"metrics\\\":{\\\"centrality\\\":0,\\\"complexity\\\":1.0,\\\"blocking factor\\\":0,\\\"delay factor\\\":1.0},\\\"nameSub\\\":\\\"Math/Science elective 1\\\",\\\"id\\\":27,\\\"credits\\\":3,\\\"nameCanonical\\\":\\\"\\\"}],\\\"id\\\":5},{\\\"name\\\":\\\"Term 6\\\",\\\"curriculum_items\\\":[{\\\"curriculum_requisites\\\":[{\\\"source_id\\\":17,\\\"target_id\\\":28,\\\"type\\\":\\\"CurriculumPrerequisite\\\"}],\\\"name\\\":\\\" \\\",\\\"metrics\\\":{\\\"centrality\\\":4,\\\"complexity\\\":5.0,\\\"blocking factor\\\":1,\\\"delay factor\\\":4.0},\\\"nameSub\\\":\\\"18-213\\\",\\\"id\\\":28,\\\"credits\\\":3,\\\"nameCanonical\\\":\\\"\\\"},{\\\"curriculum_requisites\\\":[],\\\"name\\\":\\\" \\\",\\\"metrics\\\":{\\\"centrality\\\":0,\\\"complexity\\\":3.0,\\\"blocking factor\\\":1,\\\"delay factor\\\":2.0},\\\"nameSub\\\":\\\"18-xxx Area course 1\\\",\\\"id\\\":29,\\\"credits\\\":3,\\\"nameCanonical\\\":\\\"\\\"},{\\\"curriculum_requisites\\\":[],\\\"name\\\":\\\" \\\",\\\"metrics\\\":{\\\"centrality\\\":0,\\\"complexity\\\":1.0,\\\"blocking factor\\\":0,\\\"delay factor\\\":1.0},\\\"nameSub\\\":\\\"Free Elective\\\",\\\"id\\\":30,\\\"credits\\\":3,\\\"nameCanonical\\\":\\\"\\\"},{\\\"curriculum_requisites\\\":[],\\\"name\\\":\\\" \\\",\\\"metrics\\\":{\\\"centrality\\\":0,\\\"complexity\\\":1.0,\\\"blocking factor\\\":0,\\\"delay factor\\\":1.0},\\\"nameSub\\\":\\\"General Education course\\\",\\\"id\\\":31,\\\"credits\\\":3,\\\"nameCanonical\\\":\\\"\\\"},{\\\"curriculum_requisites\\\":[],\\\"name\\\":\\\" \\\",\\\"metrics\\\":{\\\"centrality\\\":0,\\\"complexity\\\":1.0,\\\"blocking factor\\\":0,\\\"delay factor\\\":1.0},\\\"nameSub\\\":\\\"Math/Science Elective 2\\\",\\\"id\\\":32,\\\"credits\\\":3,\\\"nameCanonical\\\":\\\"\\\"}],\\\"id\\\":6},{\\\"name\\\":\\\"Term 7\\\",\\\"curriculum_items\\\":[{\\\"curriculum_requisites\\\":[],\\\"name\\\":\\\" \\\",\\\"metrics\\\":{\\\"centrality\\\":0,\\\"complexity\\\":1.0,\\\"blocking factor\\\":0,\\\"delay factor\\\":1.0},\\\"nameSub\\\":\\\"18-xxx ECE Coverage course\\\",\\\"id\\\":33,\\\"credits\\\":3,\\\"nameCanonical\\\":\\\"\\\"},{\\\"curriculum_requisites\\\":[],\\\"name\\\":\\\" \\\",\\\"metrics\\\":{\\\"centrality\\\":0,\\\"complexity\\\":3.0,\\\"blocking factor\\\":1,\\\"delay factor\\\":2.0},\\\"nameSub\\\":\\\"18-xxx Area course 2\\\",\\\"id\\\":34,\\\"credits\\\":3,\\\"nameCanonical\\\":\\\"\\\"},{\\\"curriculum_requisites\\\":[],\\\"name\\\":\\\" \\\",\\\"metrics\\\":{\\\"centrality\\\":0,\\\"complexity\\\":1.0,\\\"blocking factor\\\":0,\\\"delay factor\\\":1.0},\\\"nameSub\\\":\\\"Free Elective\\\",\\\"id\\\":35,\\\"credits\\\":3,\\\"nameCanonical\\\":\\\"\\\"},{\\\"curriculum_requisites\\\":[],\\\"name\\\":\\\" \\\",\\\"metrics\\\":{\\\"centrality\\\":0,\\\"complexity\\\":1.0,\\\"blocking factor\\\":0,\\\"delay factor\\\":1.0},\\\"nameSub\\\":\\\"Free Elective\\\",\\\"id\\\":36,\\\"credits\\\":3,\\\"nameCanonical\\\":\\\"\\\"},{\\\"curriculum_requisites\\\":[],\\\"name\\\":\\\" \\\",\\\"metrics\\\":{\\\"centrality\\\":0,\\\"complexity\\\":1.0,\\\"blocking factor\\\":0,\\\"delay factor\\\":1.0},\\\"nameSub\\\":\\\"General Education course\\\",\\\"id\\\":37,\\\"credits\\\":3,\\\"nameCanonical\\\":\\\"\\\"}],\\\"id\\\":7},{\\\"name\\\":\\\"Term 8\\\",\\\"curriculum_items\\\":[{\\\"curriculum_requisites\\\":[{\\\"source_id\\\":14,\\\"target_id\\\":38,\\\"type\\\":\\\"CurriculumPrerequisite\\\"},{\\\"source_id\\\":34,\\\"target_id\\\":38,\\\"type\\\":\\\"CurriculumPrerequisite\\\"},{\\\"source_id\\\":29,\\\"target_id\\\":38,\\\"type\\\":\\\"CurriculumPrerequisite\\\"},{\\\"source_id\\\":28,\\\"target_id\\\":38,\\\"type\\\":\\\"CurriculumPrerequisite\\\"},{\\\"source_id\\\":21,\\\"target_id\\\":38,\\\"type\\\":\\\"CurriculumPrerequisite\\\"},{\\\"source_id\\\":24,\\\"target_id\\\":38,\\\"type\\\":\\\"CurriculumPrerequisite\\\"}],\\\"name\\\":\\\" \\\",\\\"metrics\\\":{\\\"centrality\\\":0,\\\"complexity\\\":5.0,\\\"blocking factor\\\":0,\\\"delay factor\\\":5.0},\\\"nameSub\\\":\\\"18-500\\\",\\\"id\\\":38,\\\"credits\\\":3,\\\"nameCanonical\\\":\\\"\\\"},{\\\"curriculum_requisites\\\":[],\\\"name\\\":\\\" \\\",\\\"metrics\\\":{\\\"centrality\\\":0,\\\"complexity\\\":1.0,\\\"blocking factor\\\":0,\\\"delay factor\\\":1.0},\\\"nameSub\\\":\\\"Free Elective\\\",\\\"id\\\":39,\\\"credits\\\":3,\\\"nameCanonical\\\":\\\"\\\"},{\\\"curriculum_requisites\\\":[],\\\"name\\\":\\\" \\\",\\\"metrics\\\":{\\\"centrality\\\":0,\\\"complexity\\\":1.0,\\\"blocking factor\\\":0,\\\"delay factor\\\":1.0},\\\"nameSub\\\":\\\"Free Elective\\\",\\\"id\\\":40,\\\"credits\\\":3,\\\"nameCanonical\\\":\\\"\\\"},{\\\"curriculum_requisites\\\":[],\\\"name\\\":\\\" \\\",\\\"metrics\\\":{\\\"centrality\\\":0,\\\"complexity\\\":1.0,\\\"blocking factor\\\":0,\\\"delay factor\\\":1.0},\\\"nameSub\\\":\\\"Free Elective\\\",\\\"id\\\":41,\\\"credits\\\":3,\\\"nameCanonical\\\":\\\"\\\"},{\\\"curriculum_requisites\\\":[],\\\"name\\\":\\\" \\\",\\\"metrics\\\":{\\\"centrality\\\":0,\\\"complexity\\\":1.0,\\\"blocking factor\\\":0,\\\"delay factor\\\":1.0},\\\"nameSub\\\":\\\"General Education course\\\",\\\"id\\\":42,\\\"credits\\\":3,\\\"nameCanonical\\\":\\\"\\\"}],\\\"id\\\":8}],\\\"institution\\\":\\\"\\\"}},\\\"*\\\"); window.removeEventListener(\\\"message\\\",window.messageReceived); window.messageReceived=(function (event){return (event.data.curriculum!==undefined) ? (WebIO.setval({\\\"name\\\":\\\"curriculum-data\\\",\\\"scope\\\":\\\"12082338982970584131\\\",\\\"id\\\":\\\"14636254958156112931\\\",\\\"type\\\":\\\"observable\\\"},event.data.curriculum)) : undefined}); return window.addEventListener(\\\"message\\\",window.messageReceived)})\")),:style => Dict(:padding => \"0\",:height => \"100vh\",:margin => \"0\",:border => \"none\",:width => \"100%\"))), Dict{String,Tuple{Observables.AbstractObservable,Union{Nothing, Bool}}}(\"curriculum-data\" => (Observable{Dict{String,Any}} with 1 listeners. Value:\n",
       "Dict{String,Any}(\"options\" => Dict{String,Any}(\"hideTerms\" => false,\"edit\" => false),\"curriculum\" => Dict{String,Any}(\"name\" => \"Curriculum\",\"dp_name\" => \"Carnegie Mellon University.csv\",\"curriculum_terms\" => Dict{String,Any}[Dict(\"name\" => \"Term 1\",\"curriculum_items\" => Dict{String,Any}[Dict(\"curriculum_requisites\" => Dict{String,Any}[],\"name\" => \" \",\"metrics\" => Dict{String,Any}(\"centrality\" => 0,\"complexity\" => 8.0,\"blocking factor\" => 5,\"delay factor\" => 3.0),\"nameSub\" => \"18-100\",\"id\" => 1,\"credits\" => 3,\"nameCanonical\" => \"\"), Dict(\"curriculum_requisites\" => Dict{String,Any}[],\"name\" => \" \",\"metrics\" => Dict{String,Any}(\"centrality\" => 0,\"complexity\" => 7.0,\"blocking factor\" => 3,\"delay factor\" => 4.0),\"nameSub\" => \"15-112\",\"id\" => 2,\"credits\" => 3,\"nameCanonical\" => \"\"), Dict(\"curriculum_requisites\" => Dict{String,Any}[],\"name\" => \" \",\"metrics\" => Dict{String,Any}(\"centrality\" => 0,\"complexity\" => 13.0,\"blocking factor\" => 8,\"delay factor\" => 5.0),\"nameSub\" => \"21-120\",\"id\" => 3,\"credits\" => 3,\"nameCanonical\" => \"\"), Dict(\"curriculum_requisites\" => Dict{String,Any}[],\"name\" => \" \",\"metrics\" => Dict{String,Any}(\"centrality\" => 0,\"complexity\" => 1.0,\"blocking factor\" => 0,\"delay factor\" => 1.0),\"nameSub\" => \"76-101\",\"id\" => 4,\"credits\" => 3,\"nameCanonical\" => \"\"), Dict(\"curriculum_requisites\" => Dict{String,Any}[],\"name\" => \" \",\"metrics\" => Dict{String,Any}(\"centrality\" => 0,\"complexity\" => 1.0,\"blocking factor\" => 0,\"delay factor\" => 1.0),\"nameSub\" => \"99-101\",\"id\" => 5,\"credits\" => 3,\"nameCanonical\" => \"\")],\"id\" => 1), Dict(\"name\" => \"Term 2\",\"curriculum_items\" => Dict{String,Any}[Dict(\"curriculum_requisites\" => Dict{String,Any}[Dict(\"source_id\" => 3,\"target_id\" => 6,\"type\" => \"CurriculumPrerequisite\")],\"name\" => \" \",\"metrics\" => Dict{String,Any}(\"centrality\" => 5,\"complexity\" => 8.0,\"blocking factor\" => 3,\"delay factor\" => 5.0),\"nameSub\" => \"33-141\",\"id\" => 6,\"credits\" => 3,\"nameCanonical\" => \"\"), Dict(\"curriculum_requisites\" => Dict{String,Any}[Dict(\"source_id\" => 3,\"target_id\" => 7,\"type\" => \"CurriculumPrerequisite\")],\"name\" => \" \",\"metrics\" => Dict{String,Any}(\"centrality\" => 13,\"complexity\" => 10.0,\"blocking factor\" => 5,\"delay factor\" => 5.0),\"nameSub\" => \"21-122\",\"id\" => 7,\"credits\" => 3,\"nameCanonical\" => \"\"), Dict(\"curriculum_requisites\" => Dict{String,Any}[],\"name\" => \" \",\"metrics\" => Dict{String,Any}(\"centrality\" => 0,\"complexity\" => 1.0,\"blocking factor\" => 0,\"delay factor\" => 1.0),\"nameSub\" => \"Introductory Engineering course\",\"id\" => 8,\"credits\" => 3,\"nameCanonical\" => \"\"), Dict(\"curriculum_requisites\" => Dict{String,Any}[],\"name\" => \" \",\"metrics\" => Dict{String,Any}(\"centrality\" => 0,\"complexity\" => 1.0,\"blocking factor\" => 0,\"delay factor\" => 1.0),\"nameSub\" => \"General Education course\",\"id\" => 9,\"credits\" => 3,\"nameCanonical\" => \"\")],\"id\" => 2), Dict(\"name\" => \"Term 3\",\"curriculum_items\" => Dict{String,Any}[Dict(\"curriculum_requisites\" => Dict{String,Any}[Dict(\"source_id\" => 1,\"target_id\" => 10,\"type\" => \"CurriculumPrerequisite\")],\"name\" => \" \",\"metrics\" => Dict{String,Any}(\"centrality\" => 0,\"complexity\" => 2.0,\"blocking factor\" => 0,\"delay factor\" => 2.0),\"nameSub\" => \"18-200\",\"id\" => 10,\"credits\" => 3,\"nameCanonical\" => \"\"), Dict(\"curriculum_requisites\" => Dict{String,Any}[Dict(\"source_id\" => 7,\"target_id\" => 11,\"type\" => \"CurriculumPrerequisite\")],\"name\" => \" \",\"metrics\" => Dict{String,Any}(\"centrality\" => 10,\"complexity\" => 8.0,\"blocking factor\" => 3,\"delay factor\" => 5.0),\"nameSub\" => \"18-202\",\"id\" => 11,\"credits\" => 3,\"nameCanonical\" => \"\"), Dict(\"curriculum_requisites\" => Dict{String,Any}[Dict(\"source_id\" => 6,\"target_id\" => 12,\"type\" => \"CurriculumPrerequisite\")],\"name\" => \" \",\"metrics\" => Dict{String,Any}(\"centrality\" => 5,\"complexity\" => 7.0,\"blocking factor\" => 2,\"delay factor\" => 5.0),\"nameSub\" => \"33-142\",\"id\" => 12,\"credits\" => 3,\"nameCanonical\" => \"\"), Dict(\"curriculum_requisites\" => Dict{String,Any}[],\"name\" => \" \",\"metrics\" => Dict{String,Any}(\"centrality\" => 0,\"complexity\" => 5.0,\"blocking factor\" => 2,\"delay factor\" => 3.0),\"nameSub\" => \"39-210\",\"id\" => 13,\"credits\" => 3,\"nameCanonical\" => \"\"), Dict(\"curriculum_requisites\" => Dict{String,Any}[Dict(\"source_id\" => 11,\"target_id\" => 14,\"type\" => \"CurriculumCorequisite\"), Dict(\"source_id\" => 12,\"target_id\" => 14,\"type\" => \"CurriculumCorequisite\"), Dict(\"source_id\" => 1,\"target_id\" => 14,\"type\" => \"CurriculumPrerequisite\")],\"name\" => \" \",\"metrics\" => Dict{String,Any}(\"centrality\" => 13,\"complexity\" => 6.0,\"blocking factor\" => 1,\"delay factor\" => 5.0),\"nameSub\" => \"18-220\",\"id\" => 14,\"credits\" => 3,\"nameCanonical\" => \"\"), Dict(\"curriculum_requisites\" => Dict{String,Any}[],\"name\" => \" \",\"metrics\" => Dict{String,Any}(\"centrality\" => 0,\"complexity\" => 1.0,\"blocking factor\" => 0,\"delay factor\" => 1.0),\"nameSub\" => \"General Education course\",\"id\" => 15,\"credits\" => 3,\"nameCanonical\" => \"\")],\"id\" => 3), Dict(\"name\" => \"Term 4\",\"curriculum_items\" => Dict{String,Any}[Dict(\"curriculum_requisites\" => Dict{String,Any}[],\"name\" => \" \",\"metrics\" => Dict{String,Any}(\"centrality\" => 0,\"complexity\" => 5.0,\"blocking factor\" => 2,\"delay factor\" => 3.0),\"nameSub\" => \"21-127\",\"id\" => 16,\"credits\" => 3,\"nameCanonical\" => \"\"), Dict(\"curriculum_requisites\" => Dict{String,Any}[Dict(\"source_id\" => 2,\"target_id\" => 17,\"type\" => \"CurriculumPrerequisite\")],\"name\" => \" \",\"metrics\" => Dict{String,Any}(\"centrality\" => 4,\"complexity\" => 6.0,\"blocking factor\" => 2,\"delay factor\" => 4.0),\"nameSub\" => \"15-122\",\"id\" => 17,\"credits\" => 3,\"nameCanonical\" => \"\"), Dict(\"curriculum_requisites\" => Dict{String,Any}[Dict(\"source_id\" => 7,\"target_id\" => 18,\"type\" => \"CurriculumPrerequisite\")],\"name\" => \" \",\"metrics\" => Dict{String,Any}(\"centrality\" => 0,\"complexity\" => 3.0,\"blocking factor\" => 0,\"delay factor\" => 3.0),\"nameSub\" => \"36-217\",\"id\" => 18,\"credits\" => 3,\"nameCanonical\" => \"\"), Dict(\"curriculum_requisites\" => Dict{String,Any}[Dict(\"source_id\" => 13,\"target_id\" => 19,\"type\" => \"CurriculumPrerequisite\")],\"name\" => \" \",\"metrics\" => Dict{String,Any}(\"centrality\" => 3,\"complexity\" => 4.0,\"blocking factor\" => 1,\"delay factor\" => 3.0),\"nameSub\" => \"39-220\",\"id\" => 19,\"credits\" => 3,\"nameCanonical\" => \"\"), Dict(\"curriculum_requisites\" => Dict{String,Any}[],\"name\" => \" \",\"metrics\" => Dict{String,Any}(\"centrality\" => 0,\"complexity\" => 1.0,\"blocking factor\" => 0,\"delay factor\" => 1.0),\"nameSub\" => \"General Education course\",\"id\" => 20,\"credits\" => 3,\"nameCanonical\" => \"\"), Dict(\"curriculum_requisites\" => Dict{String,Any}[Dict(\"source_id\" => 11,\"target_id\" => 21,\"type\" => \"CurriculumCorequisite\"), Dict(\"source_id\" => 1,\"target_id\" => 21,\"type\" => \"CurriculumPrerequisite\")],\"name\" => \" \",\"metrics\" => Dict{String,Any}(\"centrality\" => 8,\"complexity\" => 6.0,\"blocking factor\" => 1,\"delay factor\" => 5.0),\"nameSub\" => \"18-290\",\"id\" => 21,\"credits\" => 3,\"nameCanonical\" => \"\")],\"id\" => 4), Dict(\"name\" => \"Term 5\",\"curriculum_items\" => Dict{String,Any}[Dict(\"curriculum_requisites\" => Dict{String,Any}[Dict(\"source_id\" => 19,\"target_id\" => 22,\"type\" => \"CurriculumPrerequisite\")],\"name\" => \" \",\"metrics\" => Dict{String,Any}(\"centrality\" => 0,\"complexity\" => 3.0,\"blocking factor\" => 0,\"delay factor\" => 3.0),\"nameSub\" => \"39-310\",\"id\" => 22,\"credits\" => 3,\"nameCanonical\" => \"\"), Dict(\"curriculum_requisites\" => Dict{String,Any}[],\"name\" => \" \",\"metrics\" => Dict{String,Any}(\"centrality\" => 0,\"complexity\" => 1.0,\"blocking factor\" => 0,\"delay factor\" => 1.0),\"nameSub\" => \"18-3xx/4xx ECE Area 1 course\",\"id\" => 23,\"credits\" => 3,\"nameCanonical\" => \"\"), Dict(\"curriculum_requisites\" => Dict{String,Any}[Dict(\"source_id\" => 16,\"target_id\" => 24,\"type\" => \"CurriculumCorequisite\"), Dict(\"source_id\" => 1,\"target_id\" => 24,\"type\" => \"CurriculumPrerequisite\")],\"name\" => \" \",\"metrics\" => Dict{String,Any}(\"centrality\" => 6,\"complexity\" => 4.0,\"blocking factor\" => 1,\"delay factor\" => 3.0),\"nameSub\" => \"18-240\",\"id\" => 24,\"credits\" => 3,\"nameCanonical\" => \"\"), Dict(\"curriculum_requisites\" => Dict{String,Any}[],\"name\" => \" \",\"metrics\" => Dict{String,Any}(\"centrality\" => 0,\"complexity\" => 1.0,\"blocking factor\" => 0,\"delay factor\" => 1.0),\"nameSub\" => \"Free Elective\",\"id\" => 25,\"credits\" => 3,\"nameCanonical\" => \"\"), Dict(\"curriculum_requisites\" => Dict{String,Any}[],\"name\" => \" \",\"metrics\" => Dict{String,Any}(\"centrality\" => 0,\"complexity\" => 1.0,\"blocking factor\" => 0,\"delay factor\" => 1.0),\"nameSub\" => \"General Education course\",\"id\" => 26,\"credits\" => 3,\"nameCanonical\" => \"\"), Dict(\"curriculum_requisites\" => Dict{String,Any}[],\"name\" => \" \",\"metrics\" => Dict{String,Any}(\"centrality\" => 0,\"complexity\" => 1.0,\"blocking factor\" => 0,\"delay factor\" => 1.0),\"nameSub\" => \"Math/Science elective 1\",\"id\" => 27,\"credits\" => 3,\"nameCanonical\" => \"\")],\"id\" => 5), Dict(\"name\" => \"Term 6\",\"curriculum_items\" => Dict{String,Any}[Dict(\"curriculum_requisites\" => Dict{String,Any}[Dict(\"source_id\" => 17,\"target_id\" => 28,\"type\" => \"CurriculumPrerequisite\")],\"name\" => \" \",\"metrics\" => Dict{String,Any}(\"centrality\" => 4,\"complexity\" => 5.0,\"blocking factor\" => 1,\"delay factor\" => 4.0),\"nameSub\" => \"18-213\",\"id\" => 28,\"credits\" => 3,\"nameCanonical\" => \"\"), Dict(\"curriculum_requisites\" => Dict{String,Any}[],\"name\" => \" \",\"metrics\" => Dict{String,Any}(\"centrality\" => 0,\"complexity\" => 3.0,\"blocking factor\" => 1,\"delay factor\" => 2.0),\"nameSub\" => \"18-xxx Area course 1\",\"id\" => 29,\"credits\" => 3,\"nameCanonical\" => \"\"), Dict(\"curriculum_requisites\" => Dict{String,Any}[],\"name\" => \" \",\"metrics\" => Dict{String,Any}(\"centrality\" => 0,\"complexity\" => 1.0,\"blocking factor\" => 0,\"delay factor\" => 1.0),\"nameSub\" => \"Free Elective\",\"id\" => 30,\"credits\" => 3,\"nameCanonical\" => \"\"), Dict(\"curriculum_requisites\" => Dict{String,Any}[],\"name\" => \" \",\"metrics\" => Dict{String,Any}(\"centrality\" => 0,\"complexity\" => 1.0,\"blocking factor\" => 0,\"delay factor\" => 1.0),\"nameSub\" => \"General Education course\",\"id\" => 31,\"credits\" => 3,\"nameCanonical\" => \"\"), Dict(\"curriculum_requisites\" => Dict{String,Any}[],\"name\" => \" \",\"metrics\" => Dict{String,Any}(\"centrality\" => 0,\"complexity\" => 1.0,\"blocking factor\" => 0,\"delay factor\" => 1.0),\"nameSub\" => \"Math/Science Elective 2\",\"id\" => 32,\"credits\" => 3,\"nameCanonical\" => \"\")],\"id\" => 6), Dict(\"name\" => \"Term 7\",\"curriculum_items\" => Dict{String,Any}[Dict(\"curriculum_requisites\" => Dict{String,Any}[],\"name\" => \" \",\"metrics\" => Dict{String,Any}(\"centrality\" => 0,\"complexity\" => 1.0,\"blocking factor\" => 0,\"delay factor\" => 1.0),\"nameSub\" => \"18-xxx ECE Coverage course\",\"id\" => 33,\"credits\" => 3,\"nameCanonical\" => \"\"), Dict(\"curriculum_requisites\" => Dict{String,Any}[],\"name\" => \" \",\"metrics\" => Dict{String,Any}(\"centrality\" => 0,\"complexity\" => 3.0,\"blocking factor\" => 1,\"delay factor\" => 2.0),\"nameSub\" => \"18-xxx Area course 2\",\"id\" => 34,\"credits\" => 3,\"nameCanonical\" => \"\"), Dict(\"curriculum_requisites\" => Dict{String,Any}[],\"name\" => \" \",\"metrics\" => Dict{String,Any}(\"centrality\" => 0,\"complexity\" => 1.0,\"blocking factor\" => 0,\"delay factor\" => 1.0),\"nameSub\" => \"Free Elective\",\"id\" => 35,\"credits\" => 3,\"nameCanonical\" => \"\"), Dict(\"curriculum_requisites\" => Dict{String,Any}[],\"name\" => \" \",\"metrics\" => Dict{String,Any}(\"centrality\" => 0,\"complexity\" => 1.0,\"blocking factor\" => 0,\"delay factor\" => 1.0),\"nameSub\" => \"Free Elective\",\"id\" => 36,\"credits\" => 3,\"nameCanonical\" => \"\"), Dict(\"curriculum_requisites\" => Dict{String,Any}[],\"name\" => \" \",\"metrics\" => Dict{String,Any}(\"centrality\" => 0,\"complexity\" => 1.0,\"blocking factor\" => 0,\"delay factor\" => 1.0),\"nameSub\" => \"General Education course\",\"id\" => 37,\"credits\" => 3,\"nameCanonical\" => \"\")],\"id\" => 7), Dict(\"name\" => \"Term 8\",\"curriculum_items\" => Dict{String,Any}[Dict(\"curriculum_requisites\" => Dict{String,Any}[Dict(\"source_id\" => 14,\"target_id\" => 38,\"type\" => \"CurriculumPrerequisite\"), Dict(\"source_id\" => 34,\"target_id\" => 38,\"type\" => \"CurriculumPrerequisite\"), Dict(\"source_id\" => 29,\"target_id\" => 38,\"type\" => \"CurriculumPrerequisite\"), Dict(\"source_id\" => 28,\"target_id\" => 38,\"type\" => \"CurriculumPrerequisite\"), Dict(\"source_id\" => 21,\"target_id\" => 38,\"type\" => \"CurriculumPrerequisite\"), Dict(\"source_id\" => 24,\"target_id\" => 38,\"type\" => \"CurriculumPrerequisite\")],\"name\" => \" \",\"metrics\" => Dict{String,Any}(\"centrality\" => 0,\"complexity\" => 5.0,\"blocking factor\" => 0,\"delay factor\" => 5.0),\"nameSub\" => \"18-500\",\"id\" => 38,\"credits\" => 3,\"nameCanonical\" => \"\"), Dict(\"curriculum_requisites\" => Dict{String,Any}[],\"name\" => \" \",\"metrics\" => Dict{String,Any}(\"centrality\" => 0,\"complexity\" => 1.0,\"blocking factor\" => 0,\"delay factor\" => 1.0),\"nameSub\" => \"Free Elective\",\"id\" => 39,\"credits\" => 3,\"nameCanonical\" => \"\"), Dict(\"curriculum_requisites\" => Dict{String,Any}[],\"name\" => \" \",\"metrics\" => Dict{String,Any}(\"centrality\" => 0,\"complexity\" => 1.0,\"blocking factor\" => 0,\"delay factor\" => 1.0),\"nameSub\" => \"Free Elective\",\"id\" => 40,\"credits\" => 3,\"nameCanonical\" => \"\"), Dict(\"curriculum_requisites\" => Dict{String,Any}[],\"name\" => \" \",\"metrics\" => Dict{String,Any}(\"centrality\" => 0,\"complexity\" => 1.0,\"blocking factor\" => 0,\"delay factor\" => 1.0),\"nameSub\" => \"Free Elective\",\"id\" => 41,\"credits\" => 3,\"nameCanonical\" => \"\"), Dict(\"curriculum_requisites\" => Dict{String,Any}[],\"name\" => \" \",\"metrics\" => Dict{String,Any}(\"centrality\" => 0,\"complexity\" => 1.0,\"blocking factor\" => 0,\"delay factor\" => 1.0),\"nameSub\" => \"General Education course\",\"id\" => 42,\"credits\" => 3,\"nameCanonical\" => \"\")],\"id\" => 8)],\"institution\" => \"\")), nothing)), Set{String}(), nothing, WebIO.Asset[], Dict{Any,Any}(), WebIO.ConnectionPool(Channel{Any}(sz_max:32,sz_curr:0), Set{WebIO.AbstractConnection}(), Base.GenericCondition{Base.AlwaysLockedST}(Base.InvasiveLinkedList{Task}(Task (runnable) @0x0000000135c63cd0, Task (runnable) @0x0000000135c63cd0), Base.AlwaysLockedST(1))), WebIO.JSString[])"
      ]
     },
     "execution_count": 2,
     "metadata": {
      "application/vnd.webio.node+json": {
       "kernelId": "cebc880b-810d-4b1b-b119-56d28929334f"
      }
     },
     "output_type": "execute_result"
    }
   ],
   "source": [
    "visualize(read_csv(\"./tier_top/Carnegie Mellon University.csv\"), notebook=true)"
   ]
  },
  {
   "cell_type": "markdown",
   "metadata": {},
   "source": [
    "By hovering your mouse over the courses in this degree plan, you can view the contribution that various course make to the overall compleixty of this curriculum.\n",
    "\n",
    "Next consider the degree plan for an electrical engineering program that has a much larger curricular complexity.\n"
   ]
  },
  {
   "cell_type": "code",
   "execution_count": 3,
   "metadata": {},
   "outputs": [
    {
     "data": {
      "application/vnd.webio.node+json": {
       "children": [
        {
         "children": [
          ""
         ],
         "instanceArgs": {
          "namespace": "html",
          "tag": "iframe"
         },
         "nodeType": "DOM",
         "props": {
          "events": {
           "load": "(function (){this.contentWindow.postMessage({\"options\":{\"hideTerms\":false,\"edit\":false},\"curriculum\":{\"name\":\"Curriculum\",\"dp_name\":\"University of Missouri--Kansas City.csv\",\"curriculum_terms\":[{\"name\":\"Term 1\",\"curriculum_items\":[{\"curriculum_requisites\":[],\"name\":\" \",\"metrics\":{\"centrality\":0,\"complexity\":1.0,\"blocking factor\":0,\"delay factor\":1.0},\"nameSub\":\"ANCH 150\",\"id\":1,\"credits\":3,\"nameCanonical\":\"\"},{\"curriculum_requisites\":[],\"name\":\" \",\"metrics\":{\"centrality\":0,\"complexity\":1.0,\"blocking factor\":0,\"delay factor\":1.0},\"nameSub\":\"CHEM 211\",\"id\":2,\"credits\":5,\"nameCanonical\":\"\"},{\"curriculum_requisites\":[],\"name\":\" \",\"metrics\":{\"centrality\":0,\"complexity\":1.0,\"blocking factor\":0,\"delay factor\":1.0},\"nameSub\":\"DISC 100\",\"id\":3,\"credits\":3,\"nameCanonical\":\"\"},{\"curriculum_requisites\":[],\"name\":\" \",\"metrics\":{\"centrality\":0,\"complexity\":1.0,\"blocking factor\":0,\"delay factor\":1.0},\"nameSub\":\"ECE 130\",\"id\":4,\"credits\":3,\"nameCanonical\":\"\"},{\"curriculum_requisites\":[],\"name\":\" \",\"metrics\":{\"centrality\":0,\"complexity\":37.0,\"blocking factor\":27,\"delay factor\":10.0},\"nameSub\":\"MATH 210\",\"id\":5,\"credits\":4,\"nameCanonical\":\"\"}],\"id\":1},{\"name\":\"Term 2\",\"curriculum_items\":[{\"curriculum_requisites\":[{\"source_id\":5,\"target_id\":6,\"type\":\"CurriculumPrerequisite\"}],\"name\":\" \",\"metrics\":{\"centrality\":236,\"complexity\":34.0,\"blocking factor\":24,\"delay factor\":10.0},\"nameSub\":\"MATH 220\",\"id\":6,\"credits\":4,\"nameCanonical\":\"\"},{\"curriculum_requisites\":[{\"source_id\":5,\"target_id\":7,\"type\":\"CurriculumPrerequisite\"}],\"name\":\" \",\"metrics\":{\"centrality\":99,\"complexity\":27.0,\"blocking factor\":18,\"delay factor\":9.0},\"nameSub\":\"PHYS 240\",\"id\":7,\"credits\":5,\"nameCanonical\":\"\"},{\"curriculum_requisites\":[],\"name\":\" \",\"metrics\":{\"centrality\":0,\"complexity\":1.0,\"blocking factor\":0,\"delay factor\":1.0},\"nameSub\":\"ANCH 200\",\"id\":8,\"credits\":3,\"nameCanonical\":\"\"},{\"curriculum_requisites\":[],\"name\":\" \",\"metrics\":{\"centrality\":0,\"complexity\":1.0,\"blocking factor\":0,\"delay factor\":1.0},\"nameSub\":\"DISC 200\",\"id\":9,\"credits\":3,\"nameCanonical\":\"\"}],\"id\":2},{\"name\":\"Term 3\",\"curriculum_items\":[{\"curriculum_requisites\":[{\"source_id\":5,\"target_id\":10,\"type\":\"CurriculumPrerequisite\"}],\"name\":\" \",\"metrics\":{\"centrality\":3,\"complexity\":4.0,\"blocking factor\":1,\"delay factor\":3.0},\"nameSub\":\"ECE 216\",\"id\":10,\"credits\":4,\"nameCanonical\":\"\"},{\"curriculum_requisites\":[],\"name\":\" \",\"metrics\":{\"centrality\":0,\"complexity\":16.0,\"blocking factor\":10,\"delay factor\":6.0},\"nameSub\":\"ECE 226\",\"id\":11,\"credits\":3,\"nameCanonical\":\"\"},{\"curriculum_requisites\":[{\"source_id\":11,\"target_id\":12,\"type\":\"CurriculumCorequisite\"}],\"name\":\" \",\"metrics\":{\"centrality\":29,\"complexity\":14.0,\"blocking factor\":8,\"delay factor\":6.0},\"nameSub\":\"ECE 227\",\"id\":12,\"credits\":1,\"nameCanonical\":\"\"},{\"curriculum_requisites\":[{\"source_id\":6,\"target_id\":13,\"type\":\"CurriculumPrerequisite\"}],\"name\":\" \",\"metrics\":{\"centrality\":134,\"complexity\":31.0,\"blocking factor\":21,\"delay factor\":10.0},\"nameSub\":\"ECE 241\",\"id\":13,\"credits\":3,\"nameCanonical\":\"\"},{\"curriculum_requisites\":[{\"source_id\":7,\"target_id\":14,\"type\":\"CurriculumPrerequisite\"},{\"source_id\":6,\"target_id\":14,\"type\":\"CurriculumPrerequisite\"}],\"name\":\" \",\"metrics\":{\"centrality\":192,\"complexity\":25.0,\"blocking factor\":16,\"delay factor\":9.0},\"nameSub\":\"PHYS 250\",\"id\":14,\"credits\":5,\"nameCanonical\":\"\"}],\"id\":3},{\"name\":\"Term 4\",\"curriculum_items\":[{\"curriculum_requisites\":[{\"source_id\":11,\"target_id\":15,\"type\":\"CurriculumPrerequisite\"},{\"source_id\":12,\"target_id\":15,\"type\":\"CurriculumPrerequisite\"}],\"name\":\" \",\"metrics\":{\"centrality\":7,\"complexity\":5.0,\"blocking factor\":1,\"delay factor\":4.0},\"nameSub\":\"ECE 228\",\"id\":15,\"credits\":3,\"nameCanonical\":\"\"},{\"curriculum_requisites\":[{\"source_id\":11,\"target_id\":16,\"type\":\"CurriculumPrerequisite\"},{\"source_id\":15,\"target_id\":16,\"type\":\"CurriculumCorequisite\"},{\"source_id\":12,\"target_id\":16,\"type\":\"CurriculumPrerequisite\"}],\"name\":\" \",\"metrics\":{\"centrality\":0,\"complexity\":4.0,\"blocking factor\":0,\"delay factor\":4.0},\"nameSub\":\"ECE 229\",\"id\":16,\"credits\":1,\"nameCanonical\":\"\"},{\"curriculum_requisites\":[{\"source_id\":7,\"target_id\":17,\"type\":\"CurriculumPrerequisite\"},{\"source_id\":6,\"target_id\":17,\"type\":\"CurriculumPrerequisite\"}],\"name\":\" \",\"metrics\":{\"centrality\":0,\"complexity\":3.0,\"blocking factor\":0,\"delay factor\":3.0},\"nameSub\":\"ECE 250\",\"id\":17,\"credits\":3,\"nameCanonical\":\"\"},{\"curriculum_requisites\":[{\"source_id\":14,\"target_id\":18,\"type\":\"CurriculumPrerequisite\"},{\"source_id\":20,\"target_id\":18,\"type\":\"CurriculumCorequisite\"}],\"name\":\" \",\"metrics\":{\"centrality\":254,\"complexity\":24.0,\"blocking factor\":14,\"delay factor\":10.0},\"nameSub\":\"ECE 276\",\"id\":18,\"credits\":3,\"nameCanonical\":\"\"},{\"curriculum_requisites\":[{\"source_id\":18,\"target_id\":19,\"type\":\"CurriculumCorequisite\"}],\"name\":\" \",\"metrics\":{\"centrality\":47,\"complexity\":15.0,\"blocking factor\":5,\"delay factor\":10.0},\"nameSub\":\"ECE 277\",\"id\":19,\"credits\":1,\"nameCanonical\":\"\"},{\"curriculum_requisites\":[{\"source_id\":13,\"target_id\":20,\"type\":\"CurriculumPrerequisite\"}],\"name\":\" \",\"metrics\":{\"centrality\":130,\"complexity\":29.0,\"blocking factor\":19,\"delay factor\":10.0},\"nameSub\":\"ECE 341R\",\"id\":20,\"credits\":3,\"nameCanonical\":\"\"},{\"curriculum_requisites\":[{\"source_id\":13,\"target_id\":21,\"type\":\"CurriculumPrerequisite\"},{\"source_id\":10,\"target_id\":21,\"type\":\"CurriculumPrerequisite\"},{\"source_id\":6,\"target_id\":21,\"type\":\"CurriculumPrerequisite\"}],\"name\":\" \",\"metrics\":{\"centrality\":0,\"complexity\":4.0,\"blocking factor\":0,\"delay factor\":4.0},\"nameSub\":\"CS 394R\",\"id\":21,\"credits\":3,\"nameCanonical\":\"\"}],\"id\":4},{\"name\":\"Term 5\",\"curriculum_items\":[{\"curriculum_requisites\":[{\"source_id\":14,\"target_id\":22,\"type\":\"CurriculumPrerequisite\"},{\"source_id\":20,\"target_id\":22,\"type\":\"CurriculumPrerequisite\"}],\"name\":\" \",\"metrics\":{\"centrality\":0,\"complexity\":5.0,\"blocking factor\":0,\"delay factor\":5.0},\"nameSub\":\"ECE 334\",\"id\":22,\"credits\":3,\"nameCanonical\":\"\"},{\"curriculum_requisites\":[{\"source_id\":18,\"target_id\":23,\"type\":\"CurriculumPrerequisite\"}],\"name\":\" \",\"metrics\":{\"centrality\":129,\"complexity\":18.0,\"blocking factor\":9,\"delay factor\":9.0},\"nameSub\":\"ECE 376\",\"id\":23,\"credits\":3,\"nameCanonical\":\"\"},{\"curriculum_requisites\":[{\"source_id\":23,\"target_id\":24,\"type\":\"CurriculumCorequisite\"},{\"source_id\":19,\"target_id\":24,\"type\":\"CurriculumPrerequisite\"}],\"name\":\" \",\"metrics\":{\"centrality\":0,\"complexity\":7.0,\"blocking factor\":0,\"delay factor\":7.0},\"nameSub\":\"ECE 377\",\"id\":24,\"credits\":1,\"nameCanonical\":\"\"},{\"curriculum_requisites\":[{\"source_id\":20,\"target_id\":25,\"type\":\"CurriculumPrerequisite\"}],\"name\":\" \",\"metrics\":{\"centrality\":20,\"complexity\":12.0,\"blocking factor\":5,\"delay factor\":7.0},\"nameSub\":\"ECE 380\",\"id\":25,\"credits\":3,\"nameCanonical\":\"\"},{\"curriculum_requisites\":[{\"source_id\":25,\"target_id\":26,\"type\":\"CurriculumCorequisite\"}],\"name\":\" \",\"metrics\":{\"centrality\":0,\"complexity\":6.0,\"blocking factor\":0,\"delay factor\":6.0},\"nameSub\":\"ECE 381\",\"id\":26,\"credits\":1,\"nameCanonical\":\"\"},{\"curriculum_requisites\":[{\"source_id\":11,\"target_id\":27,\"type\":\"CurriculumPrerequisite\"}],\"name\":\" \",\"metrics\":{\"centrality\":40,\"complexity\":12.0,\"blocking factor\":6,\"delay factor\":6.0},\"nameSub\":\"ECE 426\",\"id\":27,\"credits\":3,\"nameCanonical\":\"\"},{\"curriculum_requisites\":[{\"source_id\":27,\"target_id\":28,\"type\":\"CurriculumCorequisite\"},{\"source_id\":12,\"target_id\":28,\"type\":\"CurriculumPrerequisite\"}],\"name\":\" \",\"metrics\":{\"centrality\":44,\"complexity\":11.0,\"blocking factor\":5,\"delay factor\":6.0},\"nameSub\":\"ECE 427\",\"id\":28,\"credits\":1,\"nameCanonical\":\"\"}],\"id\":5},{\"name\":\"Term 6\",\"curriculum_items\":[{\"curriculum_requisites\":[{\"source_id\":23,\"target_id\":29,\"type\":\"CurriculumPrerequisite\"},{\"source_id\":14,\"target_id\":29,\"type\":\"CurriculumPrerequisite\"},{\"source_id\":20,\"target_id\":29,\"type\":\"CurriculumPrerequisite\"}],\"name\":\" \",\"metrics\":{\"centrality\":82,\"complexity\":12.0,\"blocking factor\":3,\"delay factor\":9.0},\"nameSub\":\"ECE 302\",\"id\":29,\"credits\":3,\"nameCanonical\":\"\"},{\"curriculum_requisites\":[{\"source_id\":29,\"target_id\":30,\"type\":\"CurriculumCorequisite\"}],\"name\":\" \",\"metrics\":{\"centrality\":0,\"complexity\":8.0,\"blocking factor\":0,\"delay factor\":8.0},\"nameSub\":\"ECE 303\",\"id\":30,\"credits\":1,\"nameCanonical\":\"\"},{\"curriculum_requisites\":[{\"source_id\":18,\"target_id\":31,\"type\":\"CurriculumPrerequisite\"}],\"name\":\" \",\"metrics\":{\"centrality\":53,\"complexity\":14.0,\"blocking factor\":4,\"delay factor\":10.0},\"nameSub\":\"ECE 330\",\"id\":31,\"credits\":3,\"nameCanonical\":\"\"},{\"curriculum_requisites\":[{\"source_id\":31,\"target_id\":32,\"type\":\"CurriculumCorequisite\"},{\"source_id\":19,\"target_id\":32,\"type\":\"CurriculumPrerequisite\"},{\"source_id\":18,\"target_id\":32,\"type\":\"CurriculumPrerequisite\"}],\"name\":\" \",\"metrics\":{\"centrality\":81,\"complexity\":13.0,\"blocking factor\":3,\"delay factor\":10.0},\"nameSub\":\"ECE 331\",\"id\":32,\"credits\":1,\"nameCanonical\":\"\"},{\"curriculum_requisites\":[{\"source_id\":35,\"target_id\":33,\"type\":\"CurriculumCorequisite\"},{\"source_id\":34,\"target_id\":33,\"type\":\"CurriculumCorequisite\"}],\"name\":\" \",\"metrics\":{\"centrality\":0,\"complexity\":6.0,\"blocking factor\":0,\"delay factor\":6.0},\"nameSub\":\"ECE 420\",\"id\":33,\"credits\":2,\"nameCanonical\":\"\"},{\"curriculum_requisites\":[{\"source_id\":27,\"target_id\":34,\"type\":\"CurriculumPrerequisite\"},{\"source_id\":28,\"target_id\":34,\"type\":\"CurriculumPrerequisite\"}],\"name\":\" \",\"metrics\":{\"centrality\":48,\"complexity\":10.0,\"blocking factor\":4,\"delay factor\":6.0},\"nameSub\":\"ECE 428R\",\"id\":34,\"credits\":3,\"nameCanonical\":\"\"},{\"curriculum_requisites\":[{\"source_id\":34,\"target_id\":35,\"type\":\"CurriculumCorequisite\"},{\"source_id\":27,\"target_id\":35,\"type\":\"CurriculumPrerequisite\"},{\"source_id\":28,\"target_id\":35,\"type\":\"CurriculumPrerequisite\"}],\"name\":\" \",\"metrics\":{\"centrality\":31,\"complexity\":7.0,\"blocking factor\":1,\"delay factor\":6.0},\"nameSub\":\"ECE 429\",\"id\":35,\"credits\":1,\"nameCanonical\":\"\"},{\"curriculum_requisites\":[{\"source_id\":23,\"target_id\":36,\"type\":\"CurriculumPrerequisite\"}],\"name\":\" \",\"metrics\":{\"centrality\":44,\"complexity\":10.0,\"blocking factor\":2,\"delay factor\":8.0},\"nameSub\":\"ECE 466\",\"id\":36,\"credits\":3,\"nameCanonical\":\"\"}],\"id\":6},{\"name\":\"Term 7\",\"curriculum_items\":[{\"curriculum_requisites\":[{\"source_id\":25,\"target_id\":37,\"type\":\"CurriculumPrerequisite\"}],\"name\":\" \",\"metrics\":{\"centrality\":7,\"complexity\":8.0,\"blocking factor\":1,\"delay factor\":7.0},\"nameSub\":\"ECE 358\",\"id\":37,\"credits\":3,\"nameCanonical\":\"\"},{\"curriculum_requisites\":[{\"source_id\":25,\"target_id\":38,\"type\":\"CurriculumPrerequisite\"},{\"source_id\":34,\"target_id\":38,\"type\":\"CurriculumPrerequisite\"},{\"source_id\":29,\"target_id\":38,\"type\":\"CurriculumPrerequisite\"},{\"source_id\":39,\"target_id\":38,\"type\":\"CurriculumCorequisite\"}],\"name\":\" \",\"metrics\":{\"centrality\":174,\"complexity\":11.0,\"blocking factor\":1,\"delay factor\":10.0},\"nameSub\":\"ECE 402\",\"id\":38,\"credits\":2,\"nameCanonical\":\"\"},{\"curriculum_requisites\":[{\"source_id\":31,\"target_id\":39,\"type\":\"CurriculumPrerequisite\"},{\"source_id\":32,\"target_id\":39,\"type\":\"CurriculumPrerequisite\"}],\"name\":\" \",\"metrics\":{\"centrality\":106,\"complexity\":12.0,\"blocking factor\":2,\"delay factor\":10.0},\"nameSub\":\"ECE 430\",\"id\":39,\"credits\":3,\"nameCanonical\":\"\"},{\"curriculum_requisites\":[{\"source_id\":23,\"target_id\":40,\"type\":\"CurriculumPrerequisite\"}],\"name\":\" \",\"metrics\":{\"centrality\":0,\"complexity\":7.0,\"blocking factor\":0,\"delay factor\":7.0},\"nameSub\":\"ECE 466\",\"id\":40,\"credits\":3,\"nameCanonical\":\"\"},{\"curriculum_requisites\":[],\"name\":\" \",\"metrics\":{\"centrality\":0,\"complexity\":1.0,\"blocking factor\":0,\"delay factor\":1.0},\"nameSub\":\"ANCH 308\",\"id\":41,\"credits\":3,\"nameCanonical\":\"\"},{\"curriculum_requisites\":[],\"name\":\" \",\"metrics\":{\"centrality\":0,\"complexity\":1.0,\"blocking factor\":0,\"delay factor\":1.0},\"nameSub\":\"DISC 300\",\"id\":42,\"credits\":3,\"nameCanonical\":\"\"}],\"id\":7},{\"name\":\"Term 8\",\"curriculum_items\":[{\"curriculum_requisites\":[],\"name\":\" \",\"metrics\":{\"centrality\":0,\"complexity\":1.0,\"blocking factor\":0,\"delay factor\":1.0},\"nameSub\":\"FOCUS A\",\"id\":43,\"credits\":3,\"nameCanonical\":\"\"},{\"curriculum_requisites\":[],\"name\":\" \",\"metrics\":{\"centrality\":0,\"complexity\":1.0,\"blocking factor\":0,\"delay factor\":1.0},\"nameSub\":\"FOCUS B\",\"id\":44,\"credits\":3,\"nameCanonical\":\"\"},{\"curriculum_requisites\":[{\"source_id\":38,\"target_id\":45,\"type\":\"CurriculumPrerequisite\"}],\"name\":\" \",\"metrics\":{\"centrality\":0,\"complexity\":10.0,\"blocking factor\":0,\"delay factor\":10.0},\"nameSub\":\"ECE 403\",\"id\":45,\"credits\":1,\"nameCanonical\":\"\"},{\"curriculum_requisites\":[{\"source_id\":37,\"target_id\":46,\"type\":\"CurriculumPrerequisite\"},{\"source_id\":36,\"target_id\":46,\"type\":\"CurriculumPrerequisite\"}],\"name\":\" \",\"metrics\":{\"centrality\":0,\"complexity\":8.0,\"blocking factor\":0,\"delay factor\":8.0},\"nameSub\":\"ECE 467\",\"id\":46,\"credits\":3,\"nameCanonical\":\"\"},{\"curriculum_requisites\":[{\"source_id\":36,\"target_id\":47,\"type\":\"CurriculumPrerequisite\"}],\"name\":\" \",\"metrics\":{\"centrality\":0,\"complexity\":8.0,\"blocking factor\":0,\"delay factor\":8.0},\"nameSub\":\"ECE 472\",\"id\":47,\"credits\":3,\"nameCanonical\":\"\"}],\"id\":8}],\"institution\":\"\"}},\"*\"); window.removeEventListener(\"message\",window.messageReceived); window.messageReceived=(function (event){return (event.data.curriculum!==undefined) ? (WebIO.setval({\"name\":\"curriculum-data\",\"scope\":\"8175409242315634414\",\"id\":\"1168602708386682813\",\"type\":\"observable\"},event.data.curriculum)) : undefined}); return window.addEventListener(\"message\",window.messageReceived)})"
          },
          "id": "curriculum",
          "src": "http://localhost:8156",
          "style": {
           "border": "none",
           "height": "100vh",
           "margin": "0",
           "padding": "0",
           "width": "100%"
          }
         },
         "type": "node"
        }
       ],
       "instanceArgs": {
        "handlers": {},
        "id": "8175409242315634414",
        "imports": {
         "data": [],
         "type": "async_block"
        },
        "mount_callbacks": [],
        "observables": {
         "curriculum-data": {
          "id": "1168602708386682813",
          "sync": true,
          "value": {
           "curriculum": {
            "curriculum_terms": [
             {
              "curriculum_items": [
               {
                "credits": 3,
                "curriculum_requisites": [],
                "id": 1,
                "metrics": {
                 "blocking factor": 0,
                 "centrality": 0,
                 "complexity": 1,
                 "delay factor": 1
                },
                "name": " ",
                "nameCanonical": "",
                "nameSub": "ANCH 150"
               },
               {
                "credits": 5,
                "curriculum_requisites": [],
                "id": 2,
                "metrics": {
                 "blocking factor": 0,
                 "centrality": 0,
                 "complexity": 1,
                 "delay factor": 1
                },
                "name": " ",
                "nameCanonical": "",
                "nameSub": "CHEM 211"
               },
               {
                "credits": 3,
                "curriculum_requisites": [],
                "id": 3,
                "metrics": {
                 "blocking factor": 0,
                 "centrality": 0,
                 "complexity": 1,
                 "delay factor": 1
                },
                "name": " ",
                "nameCanonical": "",
                "nameSub": "DISC 100"
               },
               {
                "credits": 3,
                "curriculum_requisites": [],
                "id": 4,
                "metrics": {
                 "blocking factor": 0,
                 "centrality": 0,
                 "complexity": 1,
                 "delay factor": 1
                },
                "name": " ",
                "nameCanonical": "",
                "nameSub": "ECE 130"
               },
               {
                "credits": 4,
                "curriculum_requisites": [],
                "id": 5,
                "metrics": {
                 "blocking factor": 27,
                 "centrality": 0,
                 "complexity": 37,
                 "delay factor": 10
                },
                "name": " ",
                "nameCanonical": "",
                "nameSub": "MATH 210"
               }
              ],
              "id": 1,
              "name": "Term 1"
             },
             {
              "curriculum_items": [
               {
                "credits": 4,
                "curriculum_requisites": [
                 {
                  "source_id": 5,
                  "target_id": 6,
                  "type": "CurriculumPrerequisite"
                 }
                ],
                "id": 6,
                "metrics": {
                 "blocking factor": 24,
                 "centrality": 236,
                 "complexity": 34,
                 "delay factor": 10
                },
                "name": " ",
                "nameCanonical": "",
                "nameSub": "MATH 220"
               },
               {
                "credits": 5,
                "curriculum_requisites": [
                 {
                  "source_id": 5,
                  "target_id": 7,
                  "type": "CurriculumPrerequisite"
                 }
                ],
                "id": 7,
                "metrics": {
                 "blocking factor": 18,
                 "centrality": 99,
                 "complexity": 27,
                 "delay factor": 9
                },
                "name": " ",
                "nameCanonical": "",
                "nameSub": "PHYS 240"
               },
               {
                "credits": 3,
                "curriculum_requisites": [],
                "id": 8,
                "metrics": {
                 "blocking factor": 0,
                 "centrality": 0,
                 "complexity": 1,
                 "delay factor": 1
                },
                "name": " ",
                "nameCanonical": "",
                "nameSub": "ANCH 200"
               },
               {
                "credits": 3,
                "curriculum_requisites": [],
                "id": 9,
                "metrics": {
                 "blocking factor": 0,
                 "centrality": 0,
                 "complexity": 1,
                 "delay factor": 1
                },
                "name": " ",
                "nameCanonical": "",
                "nameSub": "DISC 200"
               }
              ],
              "id": 2,
              "name": "Term 2"
             },
             {
              "curriculum_items": [
               {
                "credits": 4,
                "curriculum_requisites": [
                 {
                  "source_id": 5,
                  "target_id": 10,
                  "type": "CurriculumPrerequisite"
                 }
                ],
                "id": 10,
                "metrics": {
                 "blocking factor": 1,
                 "centrality": 3,
                 "complexity": 4,
                 "delay factor": 3
                },
                "name": " ",
                "nameCanonical": "",
                "nameSub": "ECE 216"
               },
               {
                "credits": 3,
                "curriculum_requisites": [],
                "id": 11,
                "metrics": {
                 "blocking factor": 10,
                 "centrality": 0,
                 "complexity": 16,
                 "delay factor": 6
                },
                "name": " ",
                "nameCanonical": "",
                "nameSub": "ECE 226"
               },
               {
                "credits": 1,
                "curriculum_requisites": [
                 {
                  "source_id": 11,
                  "target_id": 12,
                  "type": "CurriculumCorequisite"
                 }
                ],
                "id": 12,
                "metrics": {
                 "blocking factor": 8,
                 "centrality": 29,
                 "complexity": 14,
                 "delay factor": 6
                },
                "name": " ",
                "nameCanonical": "",
                "nameSub": "ECE 227"
               },
               {
                "credits": 3,
                "curriculum_requisites": [
                 {
                  "source_id": 6,
                  "target_id": 13,
                  "type": "CurriculumPrerequisite"
                 }
                ],
                "id": 13,
                "metrics": {
                 "blocking factor": 21,
                 "centrality": 134,
                 "complexity": 31,
                 "delay factor": 10
                },
                "name": " ",
                "nameCanonical": "",
                "nameSub": "ECE 241"
               },
               {
                "credits": 5,
                "curriculum_requisites": [
                 {
                  "source_id": 7,
                  "target_id": 14,
                  "type": "CurriculumPrerequisite"
                 },
                 {
                  "source_id": 6,
                  "target_id": 14,
                  "type": "CurriculumPrerequisite"
                 }
                ],
                "id": 14,
                "metrics": {
                 "blocking factor": 16,
                 "centrality": 192,
                 "complexity": 25,
                 "delay factor": 9
                },
                "name": " ",
                "nameCanonical": "",
                "nameSub": "PHYS 250"
               }
              ],
              "id": 3,
              "name": "Term 3"
             },
             {
              "curriculum_items": [
               {
                "credits": 3,
                "curriculum_requisites": [
                 {
                  "source_id": 11,
                  "target_id": 15,
                  "type": "CurriculumPrerequisite"
                 },
                 {
                  "source_id": 12,
                  "target_id": 15,
                  "type": "CurriculumPrerequisite"
                 }
                ],
                "id": 15,
                "metrics": {
                 "blocking factor": 1,
                 "centrality": 7,
                 "complexity": 5,
                 "delay factor": 4
                },
                "name": " ",
                "nameCanonical": "",
                "nameSub": "ECE 228"
               },
               {
                "credits": 1,
                "curriculum_requisites": [
                 {
                  "source_id": 11,
                  "target_id": 16,
                  "type": "CurriculumPrerequisite"
                 },
                 {
                  "source_id": 15,
                  "target_id": 16,
                  "type": "CurriculumCorequisite"
                 },
                 {
                  "source_id": 12,
                  "target_id": 16,
                  "type": "CurriculumPrerequisite"
                 }
                ],
                "id": 16,
                "metrics": {
                 "blocking factor": 0,
                 "centrality": 0,
                 "complexity": 4,
                 "delay factor": 4
                },
                "name": " ",
                "nameCanonical": "",
                "nameSub": "ECE 229"
               },
               {
                "credits": 3,
                "curriculum_requisites": [
                 {
                  "source_id": 7,
                  "target_id": 17,
                  "type": "CurriculumPrerequisite"
                 },
                 {
                  "source_id": 6,
                  "target_id": 17,
                  "type": "CurriculumPrerequisite"
                 }
                ],
                "id": 17,
                "metrics": {
                 "blocking factor": 0,
                 "centrality": 0,
                 "complexity": 3,
                 "delay factor": 3
                },
                "name": " ",
                "nameCanonical": "",
                "nameSub": "ECE 250"
               },
               {
                "credits": 3,
                "curriculum_requisites": [
                 {
                  "source_id": 14,
                  "target_id": 18,
                  "type": "CurriculumPrerequisite"
                 },
                 {
                  "source_id": 20,
                  "target_id": 18,
                  "type": "CurriculumCorequisite"
                 }
                ],
                "id": 18,
                "metrics": {
                 "blocking factor": 14,
                 "centrality": 254,
                 "complexity": 24,
                 "delay factor": 10
                },
                "name": " ",
                "nameCanonical": "",
                "nameSub": "ECE 276"
               },
               {
                "credits": 1,
                "curriculum_requisites": [
                 {
                  "source_id": 18,
                  "target_id": 19,
                  "type": "CurriculumCorequisite"
                 }
                ],
                "id": 19,
                "metrics": {
                 "blocking factor": 5,
                 "centrality": 47,
                 "complexity": 15,
                 "delay factor": 10
                },
                "name": " ",
                "nameCanonical": "",
                "nameSub": "ECE 277"
               },
               {
                "credits": 3,
                "curriculum_requisites": [
                 {
                  "source_id": 13,
                  "target_id": 20,
                  "type": "CurriculumPrerequisite"
                 }
                ],
                "id": 20,
                "metrics": {
                 "blocking factor": 19,
                 "centrality": 130,
                 "complexity": 29,
                 "delay factor": 10
                },
                "name": " ",
                "nameCanonical": "",
                "nameSub": "ECE 341R"
               },
               {
                "credits": 3,
                "curriculum_requisites": [
                 {
                  "source_id": 13,
                  "target_id": 21,
                  "type": "CurriculumPrerequisite"
                 },
                 {
                  "source_id": 10,
                  "target_id": 21,
                  "type": "CurriculumPrerequisite"
                 },
                 {
                  "source_id": 6,
                  "target_id": 21,
                  "type": "CurriculumPrerequisite"
                 }
                ],
                "id": 21,
                "metrics": {
                 "blocking factor": 0,
                 "centrality": 0,
                 "complexity": 4,
                 "delay factor": 4
                },
                "name": " ",
                "nameCanonical": "",
                "nameSub": "CS 394R"
               }
              ],
              "id": 4,
              "name": "Term 4"
             },
             {
              "curriculum_items": [
               {
                "credits": 3,
                "curriculum_requisites": [
                 {
                  "source_id": 14,
                  "target_id": 22,
                  "type": "CurriculumPrerequisite"
                 },
                 {
                  "source_id": 20,
                  "target_id": 22,
                  "type": "CurriculumPrerequisite"
                 }
                ],
                "id": 22,
                "metrics": {
                 "blocking factor": 0,
                 "centrality": 0,
                 "complexity": 5,
                 "delay factor": 5
                },
                "name": " ",
                "nameCanonical": "",
                "nameSub": "ECE 334"
               },
               {
                "credits": 3,
                "curriculum_requisites": [
                 {
                  "source_id": 18,
                  "target_id": 23,
                  "type": "CurriculumPrerequisite"
                 }
                ],
                "id": 23,
                "metrics": {
                 "blocking factor": 9,
                 "centrality": 129,
                 "complexity": 18,
                 "delay factor": 9
                },
                "name": " ",
                "nameCanonical": "",
                "nameSub": "ECE 376"
               },
               {
                "credits": 1,
                "curriculum_requisites": [
                 {
                  "source_id": 23,
                  "target_id": 24,
                  "type": "CurriculumCorequisite"
                 },
                 {
                  "source_id": 19,
                  "target_id": 24,
                  "type": "CurriculumPrerequisite"
                 }
                ],
                "id": 24,
                "metrics": {
                 "blocking factor": 0,
                 "centrality": 0,
                 "complexity": 7,
                 "delay factor": 7
                },
                "name": " ",
                "nameCanonical": "",
                "nameSub": "ECE 377"
               },
               {
                "credits": 3,
                "curriculum_requisites": [
                 {
                  "source_id": 20,
                  "target_id": 25,
                  "type": "CurriculumPrerequisite"
                 }
                ],
                "id": 25,
                "metrics": {
                 "blocking factor": 5,
                 "centrality": 20,
                 "complexity": 12,
                 "delay factor": 7
                },
                "name": " ",
                "nameCanonical": "",
                "nameSub": "ECE 380"
               },
               {
                "credits": 1,
                "curriculum_requisites": [
                 {
                  "source_id": 25,
                  "target_id": 26,
                  "type": "CurriculumCorequisite"
                 }
                ],
                "id": 26,
                "metrics": {
                 "blocking factor": 0,
                 "centrality": 0,
                 "complexity": 6,
                 "delay factor": 6
                },
                "name": " ",
                "nameCanonical": "",
                "nameSub": "ECE 381"
               },
               {
                "credits": 3,
                "curriculum_requisites": [
                 {
                  "source_id": 11,
                  "target_id": 27,
                  "type": "CurriculumPrerequisite"
                 }
                ],
                "id": 27,
                "metrics": {
                 "blocking factor": 6,
                 "centrality": 40,
                 "complexity": 12,
                 "delay factor": 6
                },
                "name": " ",
                "nameCanonical": "",
                "nameSub": "ECE 426"
               },
               {
                "credits": 1,
                "curriculum_requisites": [
                 {
                  "source_id": 27,
                  "target_id": 28,
                  "type": "CurriculumCorequisite"
                 },
                 {
                  "source_id": 12,
                  "target_id": 28,
                  "type": "CurriculumPrerequisite"
                 }
                ],
                "id": 28,
                "metrics": {
                 "blocking factor": 5,
                 "centrality": 44,
                 "complexity": 11,
                 "delay factor": 6
                },
                "name": " ",
                "nameCanonical": "",
                "nameSub": "ECE 427"
               }
              ],
              "id": 5,
              "name": "Term 5"
             },
             {
              "curriculum_items": [
               {
                "credits": 3,
                "curriculum_requisites": [
                 {
                  "source_id": 23,
                  "target_id": 29,
                  "type": "CurriculumPrerequisite"
                 },
                 {
                  "source_id": 14,
                  "target_id": 29,
                  "type": "CurriculumPrerequisite"
                 },
                 {
                  "source_id": 20,
                  "target_id": 29,
                  "type": "CurriculumPrerequisite"
                 }
                ],
                "id": 29,
                "metrics": {
                 "blocking factor": 3,
                 "centrality": 82,
                 "complexity": 12,
                 "delay factor": 9
                },
                "name": " ",
                "nameCanonical": "",
                "nameSub": "ECE 302"
               },
               {
                "credits": 1,
                "curriculum_requisites": [
                 {
                  "source_id": 29,
                  "target_id": 30,
                  "type": "CurriculumCorequisite"
                 }
                ],
                "id": 30,
                "metrics": {
                 "blocking factor": 0,
                 "centrality": 0,
                 "complexity": 8,
                 "delay factor": 8
                },
                "name": " ",
                "nameCanonical": "",
                "nameSub": "ECE 303"
               },
               {
                "credits": 3,
                "curriculum_requisites": [
                 {
                  "source_id": 18,
                  "target_id": 31,
                  "type": "CurriculumPrerequisite"
                 }
                ],
                "id": 31,
                "metrics": {
                 "blocking factor": 4,
                 "centrality": 53,
                 "complexity": 14,
                 "delay factor": 10
                },
                "name": " ",
                "nameCanonical": "",
                "nameSub": "ECE 330"
               },
               {
                "credits": 1,
                "curriculum_requisites": [
                 {
                  "source_id": 31,
                  "target_id": 32,
                  "type": "CurriculumCorequisite"
                 },
                 {
                  "source_id": 19,
                  "target_id": 32,
                  "type": "CurriculumPrerequisite"
                 },
                 {
                  "source_id": 18,
                  "target_id": 32,
                  "type": "CurriculumPrerequisite"
                 }
                ],
                "id": 32,
                "metrics": {
                 "blocking factor": 3,
                 "centrality": 81,
                 "complexity": 13,
                 "delay factor": 10
                },
                "name": " ",
                "nameCanonical": "",
                "nameSub": "ECE 331"
               },
               {
                "credits": 2,
                "curriculum_requisites": [
                 {
                  "source_id": 35,
                  "target_id": 33,
                  "type": "CurriculumCorequisite"
                 },
                 {
                  "source_id": 34,
                  "target_id": 33,
                  "type": "CurriculumCorequisite"
                 }
                ],
                "id": 33,
                "metrics": {
                 "blocking factor": 0,
                 "centrality": 0,
                 "complexity": 6,
                 "delay factor": 6
                },
                "name": " ",
                "nameCanonical": "",
                "nameSub": "ECE 420"
               },
               {
                "credits": 3,
                "curriculum_requisites": [
                 {
                  "source_id": 27,
                  "target_id": 34,
                  "type": "CurriculumPrerequisite"
                 },
                 {
                  "source_id": 28,
                  "target_id": 34,
                  "type": "CurriculumPrerequisite"
                 }
                ],
                "id": 34,
                "metrics": {
                 "blocking factor": 4,
                 "centrality": 48,
                 "complexity": 10,
                 "delay factor": 6
                },
                "name": " ",
                "nameCanonical": "",
                "nameSub": "ECE 428R"
               },
               {
                "credits": 1,
                "curriculum_requisites": [
                 {
                  "source_id": 34,
                  "target_id": 35,
                  "type": "CurriculumCorequisite"
                 },
                 {
                  "source_id": 27,
                  "target_id": 35,
                  "type": "CurriculumPrerequisite"
                 },
                 {
                  "source_id": 28,
                  "target_id": 35,
                  "type": "CurriculumPrerequisite"
                 }
                ],
                "id": 35,
                "metrics": {
                 "blocking factor": 1,
                 "centrality": 31,
                 "complexity": 7,
                 "delay factor": 6
                },
                "name": " ",
                "nameCanonical": "",
                "nameSub": "ECE 429"
               },
               {
                "credits": 3,
                "curriculum_requisites": [
                 {
                  "source_id": 23,
                  "target_id": 36,
                  "type": "CurriculumPrerequisite"
                 }
                ],
                "id": 36,
                "metrics": {
                 "blocking factor": 2,
                 "centrality": 44,
                 "complexity": 10,
                 "delay factor": 8
                },
                "name": " ",
                "nameCanonical": "",
                "nameSub": "ECE 466"
               }
              ],
              "id": 6,
              "name": "Term 6"
             },
             {
              "curriculum_items": [
               {
                "credits": 3,
                "curriculum_requisites": [
                 {
                  "source_id": 25,
                  "target_id": 37,
                  "type": "CurriculumPrerequisite"
                 }
                ],
                "id": 37,
                "metrics": {
                 "blocking factor": 1,
                 "centrality": 7,
                 "complexity": 8,
                 "delay factor": 7
                },
                "name": " ",
                "nameCanonical": "",
                "nameSub": "ECE 358"
               },
               {
                "credits": 2,
                "curriculum_requisites": [
                 {
                  "source_id": 25,
                  "target_id": 38,
                  "type": "CurriculumPrerequisite"
                 },
                 {
                  "source_id": 34,
                  "target_id": 38,
                  "type": "CurriculumPrerequisite"
                 },
                 {
                  "source_id": 29,
                  "target_id": 38,
                  "type": "CurriculumPrerequisite"
                 },
                 {
                  "source_id": 39,
                  "target_id": 38,
                  "type": "CurriculumCorequisite"
                 }
                ],
                "id": 38,
                "metrics": {
                 "blocking factor": 1,
                 "centrality": 174,
                 "complexity": 11,
                 "delay factor": 10
                },
                "name": " ",
                "nameCanonical": "",
                "nameSub": "ECE 402"
               },
               {
                "credits": 3,
                "curriculum_requisites": [
                 {
                  "source_id": 31,
                  "target_id": 39,
                  "type": "CurriculumPrerequisite"
                 },
                 {
                  "source_id": 32,
                  "target_id": 39,
                  "type": "CurriculumPrerequisite"
                 }
                ],
                "id": 39,
                "metrics": {
                 "blocking factor": 2,
                 "centrality": 106,
                 "complexity": 12,
                 "delay factor": 10
                },
                "name": " ",
                "nameCanonical": "",
                "nameSub": "ECE 430"
               },
               {
                "credits": 3,
                "curriculum_requisites": [
                 {
                  "source_id": 23,
                  "target_id": 40,
                  "type": "CurriculumPrerequisite"
                 }
                ],
                "id": 40,
                "metrics": {
                 "blocking factor": 0,
                 "centrality": 0,
                 "complexity": 7,
                 "delay factor": 7
                },
                "name": " ",
                "nameCanonical": "",
                "nameSub": "ECE 466"
               },
               {
                "credits": 3,
                "curriculum_requisites": [],
                "id": 41,
                "metrics": {
                 "blocking factor": 0,
                 "centrality": 0,
                 "complexity": 1,
                 "delay factor": 1
                },
                "name": " ",
                "nameCanonical": "",
                "nameSub": "ANCH 308"
               },
               {
                "credits": 3,
                "curriculum_requisites": [],
                "id": 42,
                "metrics": {
                 "blocking factor": 0,
                 "centrality": 0,
                 "complexity": 1,
                 "delay factor": 1
                },
                "name": " ",
                "nameCanonical": "",
                "nameSub": "DISC 300"
               }
              ],
              "id": 7,
              "name": "Term 7"
             },
             {
              "curriculum_items": [
               {
                "credits": 3,
                "curriculum_requisites": [],
                "id": 43,
                "metrics": {
                 "blocking factor": 0,
                 "centrality": 0,
                 "complexity": 1,
                 "delay factor": 1
                },
                "name": " ",
                "nameCanonical": "",
                "nameSub": "FOCUS A"
               },
               {
                "credits": 3,
                "curriculum_requisites": [],
                "id": 44,
                "metrics": {
                 "blocking factor": 0,
                 "centrality": 0,
                 "complexity": 1,
                 "delay factor": 1
                },
                "name": " ",
                "nameCanonical": "",
                "nameSub": "FOCUS B"
               },
               {
                "credits": 1,
                "curriculum_requisites": [
                 {
                  "source_id": 38,
                  "target_id": 45,
                  "type": "CurriculumPrerequisite"
                 }
                ],
                "id": 45,
                "metrics": {
                 "blocking factor": 0,
                 "centrality": 0,
                 "complexity": 10,
                 "delay factor": 10
                },
                "name": " ",
                "nameCanonical": "",
                "nameSub": "ECE 403"
               },
               {
                "credits": 3,
                "curriculum_requisites": [
                 {
                  "source_id": 37,
                  "target_id": 46,
                  "type": "CurriculumPrerequisite"
                 },
                 {
                  "source_id": 36,
                  "target_id": 46,
                  "type": "CurriculumPrerequisite"
                 }
                ],
                "id": 46,
                "metrics": {
                 "blocking factor": 0,
                 "centrality": 0,
                 "complexity": 8,
                 "delay factor": 8
                },
                "name": " ",
                "nameCanonical": "",
                "nameSub": "ECE 467"
               },
               {
                "credits": 3,
                "curriculum_requisites": [
                 {
                  "source_id": 36,
                  "target_id": 47,
                  "type": "CurriculumPrerequisite"
                 }
                ],
                "id": 47,
                "metrics": {
                 "blocking factor": 0,
                 "centrality": 0,
                 "complexity": 8,
                 "delay factor": 8
                },
                "name": " ",
                "nameCanonical": "",
                "nameSub": "ECE 472"
               }
              ],
              "id": 8,
              "name": "Term 8"
             }
            ],
            "dp_name": "University of Missouri--Kansas City.csv",
            "institution": "",
            "name": "Curriculum"
           },
           "options": {
            "edit": false,
            "hideTerms": false
           }
          }
         }
        },
        "systemjs_options": null
       },
       "nodeType": "Scope",
       "props": {},
       "type": "node"
      },
      "text/html": [
       "<div\n",
       "    class=\"webio-mountpoint\"\n",
       "    data-webio-mountpoint=\"1232173563514612770\"\n",
       ">\n",
       "    <script>\n",
       "    if (window.require && require.defined && require.defined(\"nbextensions/webio-jupyter-notebook\")) {\n",
       "        console.log(\"Jupyter WebIO extension detected, not mounting.\");\n",
       "    } else if (window.WebIO) {\n",
       "        WebIO.mount(\n",
       "            document.querySelector('[data-webio-mountpoint=\"1232173563514612770\"]'),\n",
       "            {\"props\":{},\"nodeType\":\"Scope\",\"type\":\"node\",\"instanceArgs\":{\"imports\":{\"data\":[],\"type\":\"async_block\"},\"id\":\"8175409242315634414\",\"handlers\":{},\"systemjs_options\":null,\"mount_callbacks\":[],\"observables\":{\"curriculum-data\":{\"sync\":true,\"id\":\"1168602708386682813\",\"value\":{\"options\":{\"hideTerms\":false,\"edit\":false},\"curriculum\":{\"name\":\"Curriculum\",\"dp_name\":\"University of Missouri--Kansas City.csv\",\"curriculum_terms\":[{\"name\":\"Term 1\",\"curriculum_items\":[{\"curriculum_requisites\":[],\"name\":\" \",\"metrics\":{\"centrality\":0,\"complexity\":1.0,\"blocking factor\":0,\"delay factor\":1.0},\"nameSub\":\"ANCH 150\",\"id\":1,\"credits\":3,\"nameCanonical\":\"\"},{\"curriculum_requisites\":[],\"name\":\" \",\"metrics\":{\"centrality\":0,\"complexity\":1.0,\"blocking factor\":0,\"delay factor\":1.0},\"nameSub\":\"CHEM 211\",\"id\":2,\"credits\":5,\"nameCanonical\":\"\"},{\"curriculum_requisites\":[],\"name\":\" \",\"metrics\":{\"centrality\":0,\"complexity\":1.0,\"blocking factor\":0,\"delay factor\":1.0},\"nameSub\":\"DISC 100\",\"id\":3,\"credits\":3,\"nameCanonical\":\"\"},{\"curriculum_requisites\":[],\"name\":\" \",\"metrics\":{\"centrality\":0,\"complexity\":1.0,\"blocking factor\":0,\"delay factor\":1.0},\"nameSub\":\"ECE 130\",\"id\":4,\"credits\":3,\"nameCanonical\":\"\"},{\"curriculum_requisites\":[],\"name\":\" \",\"metrics\":{\"centrality\":0,\"complexity\":37.0,\"blocking factor\":27,\"delay factor\":10.0},\"nameSub\":\"MATH 210\",\"id\":5,\"credits\":4,\"nameCanonical\":\"\"}],\"id\":1},{\"name\":\"Term 2\",\"curriculum_items\":[{\"curriculum_requisites\":[{\"source_id\":5,\"target_id\":6,\"type\":\"CurriculumPrerequisite\"}],\"name\":\" \",\"metrics\":{\"centrality\":236,\"complexity\":34.0,\"blocking factor\":24,\"delay factor\":10.0},\"nameSub\":\"MATH 220\",\"id\":6,\"credits\":4,\"nameCanonical\":\"\"},{\"curriculum_requisites\":[{\"source_id\":5,\"target_id\":7,\"type\":\"CurriculumPrerequisite\"}],\"name\":\" \",\"metrics\":{\"centrality\":99,\"complexity\":27.0,\"blocking factor\":18,\"delay factor\":9.0},\"nameSub\":\"PHYS 240\",\"id\":7,\"credits\":5,\"nameCanonical\":\"\"},{\"curriculum_requisites\":[],\"name\":\" \",\"metrics\":{\"centrality\":0,\"complexity\":1.0,\"blocking factor\":0,\"delay factor\":1.0},\"nameSub\":\"ANCH 200\",\"id\":8,\"credits\":3,\"nameCanonical\":\"\"},{\"curriculum_requisites\":[],\"name\":\" \",\"metrics\":{\"centrality\":0,\"complexity\":1.0,\"blocking factor\":0,\"delay factor\":1.0},\"nameSub\":\"DISC 200\",\"id\":9,\"credits\":3,\"nameCanonical\":\"\"}],\"id\":2},{\"name\":\"Term 3\",\"curriculum_items\":[{\"curriculum_requisites\":[{\"source_id\":5,\"target_id\":10,\"type\":\"CurriculumPrerequisite\"}],\"name\":\" \",\"metrics\":{\"centrality\":3,\"complexity\":4.0,\"blocking factor\":1,\"delay factor\":3.0},\"nameSub\":\"ECE 216\",\"id\":10,\"credits\":4,\"nameCanonical\":\"\"},{\"curriculum_requisites\":[],\"name\":\" \",\"metrics\":{\"centrality\":0,\"complexity\":16.0,\"blocking factor\":10,\"delay factor\":6.0},\"nameSub\":\"ECE 226\",\"id\":11,\"credits\":3,\"nameCanonical\":\"\"},{\"curriculum_requisites\":[{\"source_id\":11,\"target_id\":12,\"type\":\"CurriculumCorequisite\"}],\"name\":\" \",\"metrics\":{\"centrality\":29,\"complexity\":14.0,\"blocking factor\":8,\"delay factor\":6.0},\"nameSub\":\"ECE 227\",\"id\":12,\"credits\":1,\"nameCanonical\":\"\"},{\"curriculum_requisites\":[{\"source_id\":6,\"target_id\":13,\"type\":\"CurriculumPrerequisite\"}],\"name\":\" \",\"metrics\":{\"centrality\":134,\"complexity\":31.0,\"blocking factor\":21,\"delay factor\":10.0},\"nameSub\":\"ECE 241\",\"id\":13,\"credits\":3,\"nameCanonical\":\"\"},{\"curriculum_requisites\":[{\"source_id\":7,\"target_id\":14,\"type\":\"CurriculumPrerequisite\"},{\"source_id\":6,\"target_id\":14,\"type\":\"CurriculumPrerequisite\"}],\"name\":\" \",\"metrics\":{\"centrality\":192,\"complexity\":25.0,\"blocking factor\":16,\"delay factor\":9.0},\"nameSub\":\"PHYS 250\",\"id\":14,\"credits\":5,\"nameCanonical\":\"\"}],\"id\":3},{\"name\":\"Term 4\",\"curriculum_items\":[{\"curriculum_requisites\":[{\"source_id\":11,\"target_id\":15,\"type\":\"CurriculumPrerequisite\"},{\"source_id\":12,\"target_id\":15,\"type\":\"CurriculumPrerequisite\"}],\"name\":\" \",\"metrics\":{\"centrality\":7,\"complexity\":5.0,\"blocking factor\":1,\"delay factor\":4.0},\"nameSub\":\"ECE 228\",\"id\":15,\"credits\":3,\"nameCanonical\":\"\"},{\"curriculum_requisites\":[{\"source_id\":11,\"target_id\":16,\"type\":\"CurriculumPrerequisite\"},{\"source_id\":15,\"target_id\":16,\"type\":\"CurriculumCorequisite\"},{\"source_id\":12,\"target_id\":16,\"type\":\"CurriculumPrerequisite\"}],\"name\":\" \",\"metrics\":{\"centrality\":0,\"complexity\":4.0,\"blocking factor\":0,\"delay factor\":4.0},\"nameSub\":\"ECE 229\",\"id\":16,\"credits\":1,\"nameCanonical\":\"\"},{\"curriculum_requisites\":[{\"source_id\":7,\"target_id\":17,\"type\":\"CurriculumPrerequisite\"},{\"source_id\":6,\"target_id\":17,\"type\":\"CurriculumPrerequisite\"}],\"name\":\" \",\"metrics\":{\"centrality\":0,\"complexity\":3.0,\"blocking factor\":0,\"delay factor\":3.0},\"nameSub\":\"ECE 250\",\"id\":17,\"credits\":3,\"nameCanonical\":\"\"},{\"curriculum_requisites\":[{\"source_id\":14,\"target_id\":18,\"type\":\"CurriculumPrerequisite\"},{\"source_id\":20,\"target_id\":18,\"type\":\"CurriculumCorequisite\"}],\"name\":\" \",\"metrics\":{\"centrality\":254,\"complexity\":24.0,\"blocking factor\":14,\"delay factor\":10.0},\"nameSub\":\"ECE 276\",\"id\":18,\"credits\":3,\"nameCanonical\":\"\"},{\"curriculum_requisites\":[{\"source_id\":18,\"target_id\":19,\"type\":\"CurriculumCorequisite\"}],\"name\":\" \",\"metrics\":{\"centrality\":47,\"complexity\":15.0,\"blocking factor\":5,\"delay factor\":10.0},\"nameSub\":\"ECE 277\",\"id\":19,\"credits\":1,\"nameCanonical\":\"\"},{\"curriculum_requisites\":[{\"source_id\":13,\"target_id\":20,\"type\":\"CurriculumPrerequisite\"}],\"name\":\" \",\"metrics\":{\"centrality\":130,\"complexity\":29.0,\"blocking factor\":19,\"delay factor\":10.0},\"nameSub\":\"ECE 341R\",\"id\":20,\"credits\":3,\"nameCanonical\":\"\"},{\"curriculum_requisites\":[{\"source_id\":13,\"target_id\":21,\"type\":\"CurriculumPrerequisite\"},{\"source_id\":10,\"target_id\":21,\"type\":\"CurriculumPrerequisite\"},{\"source_id\":6,\"target_id\":21,\"type\":\"CurriculumPrerequisite\"}],\"name\":\" \",\"metrics\":{\"centrality\":0,\"complexity\":4.0,\"blocking factor\":0,\"delay factor\":4.0},\"nameSub\":\"CS 394R\",\"id\":21,\"credits\":3,\"nameCanonical\":\"\"}],\"id\":4},{\"name\":\"Term 5\",\"curriculum_items\":[{\"curriculum_requisites\":[{\"source_id\":14,\"target_id\":22,\"type\":\"CurriculumPrerequisite\"},{\"source_id\":20,\"target_id\":22,\"type\":\"CurriculumPrerequisite\"}],\"name\":\" \",\"metrics\":{\"centrality\":0,\"complexity\":5.0,\"blocking factor\":0,\"delay factor\":5.0},\"nameSub\":\"ECE 334\",\"id\":22,\"credits\":3,\"nameCanonical\":\"\"},{\"curriculum_requisites\":[{\"source_id\":18,\"target_id\":23,\"type\":\"CurriculumPrerequisite\"}],\"name\":\" \",\"metrics\":{\"centrality\":129,\"complexity\":18.0,\"blocking factor\":9,\"delay factor\":9.0},\"nameSub\":\"ECE 376\",\"id\":23,\"credits\":3,\"nameCanonical\":\"\"},{\"curriculum_requisites\":[{\"source_id\":23,\"target_id\":24,\"type\":\"CurriculumCorequisite\"},{\"source_id\":19,\"target_id\":24,\"type\":\"CurriculumPrerequisite\"}],\"name\":\" \",\"metrics\":{\"centrality\":0,\"complexity\":7.0,\"blocking factor\":0,\"delay factor\":7.0},\"nameSub\":\"ECE 377\",\"id\":24,\"credits\":1,\"nameCanonical\":\"\"},{\"curriculum_requisites\":[{\"source_id\":20,\"target_id\":25,\"type\":\"CurriculumPrerequisite\"}],\"name\":\" \",\"metrics\":{\"centrality\":20,\"complexity\":12.0,\"blocking factor\":5,\"delay factor\":7.0},\"nameSub\":\"ECE 380\",\"id\":25,\"credits\":3,\"nameCanonical\":\"\"},{\"curriculum_requisites\":[{\"source_id\":25,\"target_id\":26,\"type\":\"CurriculumCorequisite\"}],\"name\":\" \",\"metrics\":{\"centrality\":0,\"complexity\":6.0,\"blocking factor\":0,\"delay factor\":6.0},\"nameSub\":\"ECE 381\",\"id\":26,\"credits\":1,\"nameCanonical\":\"\"},{\"curriculum_requisites\":[{\"source_id\":11,\"target_id\":27,\"type\":\"CurriculumPrerequisite\"}],\"name\":\" \",\"metrics\":{\"centrality\":40,\"complexity\":12.0,\"blocking factor\":6,\"delay factor\":6.0},\"nameSub\":\"ECE 426\",\"id\":27,\"credits\":3,\"nameCanonical\":\"\"},{\"curriculum_requisites\":[{\"source_id\":27,\"target_id\":28,\"type\":\"CurriculumCorequisite\"},{\"source_id\":12,\"target_id\":28,\"type\":\"CurriculumPrerequisite\"}],\"name\":\" \",\"metrics\":{\"centrality\":44,\"complexity\":11.0,\"blocking factor\":5,\"delay factor\":6.0},\"nameSub\":\"ECE 427\",\"id\":28,\"credits\":1,\"nameCanonical\":\"\"}],\"id\":5},{\"name\":\"Term 6\",\"curriculum_items\":[{\"curriculum_requisites\":[{\"source_id\":23,\"target_id\":29,\"type\":\"CurriculumPrerequisite\"},{\"source_id\":14,\"target_id\":29,\"type\":\"CurriculumPrerequisite\"},{\"source_id\":20,\"target_id\":29,\"type\":\"CurriculumPrerequisite\"}],\"name\":\" \",\"metrics\":{\"centrality\":82,\"complexity\":12.0,\"blocking factor\":3,\"delay factor\":9.0},\"nameSub\":\"ECE 302\",\"id\":29,\"credits\":3,\"nameCanonical\":\"\"},{\"curriculum_requisites\":[{\"source_id\":29,\"target_id\":30,\"type\":\"CurriculumCorequisite\"}],\"name\":\" \",\"metrics\":{\"centrality\":0,\"complexity\":8.0,\"blocking factor\":0,\"delay factor\":8.0},\"nameSub\":\"ECE 303\",\"id\":30,\"credits\":1,\"nameCanonical\":\"\"},{\"curriculum_requisites\":[{\"source_id\":18,\"target_id\":31,\"type\":\"CurriculumPrerequisite\"}],\"name\":\" \",\"metrics\":{\"centrality\":53,\"complexity\":14.0,\"blocking factor\":4,\"delay factor\":10.0},\"nameSub\":\"ECE 330\",\"id\":31,\"credits\":3,\"nameCanonical\":\"\"},{\"curriculum_requisites\":[{\"source_id\":31,\"target_id\":32,\"type\":\"CurriculumCorequisite\"},{\"source_id\":19,\"target_id\":32,\"type\":\"CurriculumPrerequisite\"},{\"source_id\":18,\"target_id\":32,\"type\":\"CurriculumPrerequisite\"}],\"name\":\" \",\"metrics\":{\"centrality\":81,\"complexity\":13.0,\"blocking factor\":3,\"delay factor\":10.0},\"nameSub\":\"ECE 331\",\"id\":32,\"credits\":1,\"nameCanonical\":\"\"},{\"curriculum_requisites\":[{\"source_id\":35,\"target_id\":33,\"type\":\"CurriculumCorequisite\"},{\"source_id\":34,\"target_id\":33,\"type\":\"CurriculumCorequisite\"}],\"name\":\" \",\"metrics\":{\"centrality\":0,\"complexity\":6.0,\"blocking factor\":0,\"delay factor\":6.0},\"nameSub\":\"ECE 420\",\"id\":33,\"credits\":2,\"nameCanonical\":\"\"},{\"curriculum_requisites\":[{\"source_id\":27,\"target_id\":34,\"type\":\"CurriculumPrerequisite\"},{\"source_id\":28,\"target_id\":34,\"type\":\"CurriculumPrerequisite\"}],\"name\":\" \",\"metrics\":{\"centrality\":48,\"complexity\":10.0,\"blocking factor\":4,\"delay factor\":6.0},\"nameSub\":\"ECE 428R\",\"id\":34,\"credits\":3,\"nameCanonical\":\"\"},{\"curriculum_requisites\":[{\"source_id\":34,\"target_id\":35,\"type\":\"CurriculumCorequisite\"},{\"source_id\":27,\"target_id\":35,\"type\":\"CurriculumPrerequisite\"},{\"source_id\":28,\"target_id\":35,\"type\":\"CurriculumPrerequisite\"}],\"name\":\" \",\"metrics\":{\"centrality\":31,\"complexity\":7.0,\"blocking factor\":1,\"delay factor\":6.0},\"nameSub\":\"ECE 429\",\"id\":35,\"credits\":1,\"nameCanonical\":\"\"},{\"curriculum_requisites\":[{\"source_id\":23,\"target_id\":36,\"type\":\"CurriculumPrerequisite\"}],\"name\":\" \",\"metrics\":{\"centrality\":44,\"complexity\":10.0,\"blocking factor\":2,\"delay factor\":8.0},\"nameSub\":\"ECE 466\",\"id\":36,\"credits\":3,\"nameCanonical\":\"\"}],\"id\":6},{\"name\":\"Term 7\",\"curriculum_items\":[{\"curriculum_requisites\":[{\"source_id\":25,\"target_id\":37,\"type\":\"CurriculumPrerequisite\"}],\"name\":\" \",\"metrics\":{\"centrality\":7,\"complexity\":8.0,\"blocking factor\":1,\"delay factor\":7.0},\"nameSub\":\"ECE 358\",\"id\":37,\"credits\":3,\"nameCanonical\":\"\"},{\"curriculum_requisites\":[{\"source_id\":25,\"target_id\":38,\"type\":\"CurriculumPrerequisite\"},{\"source_id\":34,\"target_id\":38,\"type\":\"CurriculumPrerequisite\"},{\"source_id\":29,\"target_id\":38,\"type\":\"CurriculumPrerequisite\"},{\"source_id\":39,\"target_id\":38,\"type\":\"CurriculumCorequisite\"}],\"name\":\" \",\"metrics\":{\"centrality\":174,\"complexity\":11.0,\"blocking factor\":1,\"delay factor\":10.0},\"nameSub\":\"ECE 402\",\"id\":38,\"credits\":2,\"nameCanonical\":\"\"},{\"curriculum_requisites\":[{\"source_id\":31,\"target_id\":39,\"type\":\"CurriculumPrerequisite\"},{\"source_id\":32,\"target_id\":39,\"type\":\"CurriculumPrerequisite\"}],\"name\":\" \",\"metrics\":{\"centrality\":106,\"complexity\":12.0,\"blocking factor\":2,\"delay factor\":10.0},\"nameSub\":\"ECE 430\",\"id\":39,\"credits\":3,\"nameCanonical\":\"\"},{\"curriculum_requisites\":[{\"source_id\":23,\"target_id\":40,\"type\":\"CurriculumPrerequisite\"}],\"name\":\" \",\"metrics\":{\"centrality\":0,\"complexity\":7.0,\"blocking factor\":0,\"delay factor\":7.0},\"nameSub\":\"ECE 466\",\"id\":40,\"credits\":3,\"nameCanonical\":\"\"},{\"curriculum_requisites\":[],\"name\":\" \",\"metrics\":{\"centrality\":0,\"complexity\":1.0,\"blocking factor\":0,\"delay factor\":1.0},\"nameSub\":\"ANCH 308\",\"id\":41,\"credits\":3,\"nameCanonical\":\"\"},{\"curriculum_requisites\":[],\"name\":\" \",\"metrics\":{\"centrality\":0,\"complexity\":1.0,\"blocking factor\":0,\"delay factor\":1.0},\"nameSub\":\"DISC 300\",\"id\":42,\"credits\":3,\"nameCanonical\":\"\"}],\"id\":7},{\"name\":\"Term 8\",\"curriculum_items\":[{\"curriculum_requisites\":[],\"name\":\" \",\"metrics\":{\"centrality\":0,\"complexity\":1.0,\"blocking factor\":0,\"delay factor\":1.0},\"nameSub\":\"FOCUS A\",\"id\":43,\"credits\":3,\"nameCanonical\":\"\"},{\"curriculum_requisites\":[],\"name\":\" \",\"metrics\":{\"centrality\":0,\"complexity\":1.0,\"blocking factor\":0,\"delay factor\":1.0},\"nameSub\":\"FOCUS B\",\"id\":44,\"credits\":3,\"nameCanonical\":\"\"},{\"curriculum_requisites\":[{\"source_id\":38,\"target_id\":45,\"type\":\"CurriculumPrerequisite\"}],\"name\":\" \",\"metrics\":{\"centrality\":0,\"complexity\":10.0,\"blocking factor\":0,\"delay factor\":10.0},\"nameSub\":\"ECE 403\",\"id\":45,\"credits\":1,\"nameCanonical\":\"\"},{\"curriculum_requisites\":[{\"source_id\":37,\"target_id\":46,\"type\":\"CurriculumPrerequisite\"},{\"source_id\":36,\"target_id\":46,\"type\":\"CurriculumPrerequisite\"}],\"name\":\" \",\"metrics\":{\"centrality\":0,\"complexity\":8.0,\"blocking factor\":0,\"delay factor\":8.0},\"nameSub\":\"ECE 467\",\"id\":46,\"credits\":3,\"nameCanonical\":\"\"},{\"curriculum_requisites\":[{\"source_id\":36,\"target_id\":47,\"type\":\"CurriculumPrerequisite\"}],\"name\":\" \",\"metrics\":{\"centrality\":0,\"complexity\":8.0,\"blocking factor\":0,\"delay factor\":8.0},\"nameSub\":\"ECE 472\",\"id\":47,\"credits\":3,\"nameCanonical\":\"\"}],\"id\":8}],\"institution\":\"\"}}}}},\"children\":[{\"props\":{\"src\":\"http:\\/\\/localhost:8156\",\"id\":\"curriculum\",\"events\":{\"load\":\"(function (){this.contentWindow.postMessage({\\\"options\\\":{\\\"hideTerms\\\":false,\\\"edit\\\":false},\\\"curriculum\\\":{\\\"name\\\":\\\"Curriculum\\\",\\\"dp_name\\\":\\\"University of Missouri--Kansas City.csv\\\",\\\"curriculum_terms\\\":[{\\\"name\\\":\\\"Term 1\\\",\\\"curriculum_items\\\":[{\\\"curriculum_requisites\\\":[],\\\"name\\\":\\\" \\\",\\\"metrics\\\":{\\\"centrality\\\":0,\\\"complexity\\\":1.0,\\\"blocking factor\\\":0,\\\"delay factor\\\":1.0},\\\"nameSub\\\":\\\"ANCH 150\\\",\\\"id\\\":1,\\\"credits\\\":3,\\\"nameCanonical\\\":\\\"\\\"},{\\\"curriculum_requisites\\\":[],\\\"name\\\":\\\" \\\",\\\"metrics\\\":{\\\"centrality\\\":0,\\\"complexity\\\":1.0,\\\"blocking factor\\\":0,\\\"delay factor\\\":1.0},\\\"nameSub\\\":\\\"CHEM 211\\\",\\\"id\\\":2,\\\"credits\\\":5,\\\"nameCanonical\\\":\\\"\\\"},{\\\"curriculum_requisites\\\":[],\\\"name\\\":\\\" \\\",\\\"metrics\\\":{\\\"centrality\\\":0,\\\"complexity\\\":1.0,\\\"blocking factor\\\":0,\\\"delay factor\\\":1.0},\\\"nameSub\\\":\\\"DISC 100\\\",\\\"id\\\":3,\\\"credits\\\":3,\\\"nameCanonical\\\":\\\"\\\"},{\\\"curriculum_requisites\\\":[],\\\"name\\\":\\\" \\\",\\\"metrics\\\":{\\\"centrality\\\":0,\\\"complexity\\\":1.0,\\\"blocking factor\\\":0,\\\"delay factor\\\":1.0},\\\"nameSub\\\":\\\"ECE 130\\\",\\\"id\\\":4,\\\"credits\\\":3,\\\"nameCanonical\\\":\\\"\\\"},{\\\"curriculum_requisites\\\":[],\\\"name\\\":\\\" \\\",\\\"metrics\\\":{\\\"centrality\\\":0,\\\"complexity\\\":37.0,\\\"blocking factor\\\":27,\\\"delay factor\\\":10.0},\\\"nameSub\\\":\\\"MATH 210\\\",\\\"id\\\":5,\\\"credits\\\":4,\\\"nameCanonical\\\":\\\"\\\"}],\\\"id\\\":1},{\\\"name\\\":\\\"Term 2\\\",\\\"curriculum_items\\\":[{\\\"curriculum_requisites\\\":[{\\\"source_id\\\":5,\\\"target_id\\\":6,\\\"type\\\":\\\"CurriculumPrerequisite\\\"}],\\\"name\\\":\\\" \\\",\\\"metrics\\\":{\\\"centrality\\\":236,\\\"complexity\\\":34.0,\\\"blocking factor\\\":24,\\\"delay factor\\\":10.0},\\\"nameSub\\\":\\\"MATH 220\\\",\\\"id\\\":6,\\\"credits\\\":4,\\\"nameCanonical\\\":\\\"\\\"},{\\\"curriculum_requisites\\\":[{\\\"source_id\\\":5,\\\"target_id\\\":7,\\\"type\\\":\\\"CurriculumPrerequisite\\\"}],\\\"name\\\":\\\" \\\",\\\"metrics\\\":{\\\"centrality\\\":99,\\\"complexity\\\":27.0,\\\"blocking factor\\\":18,\\\"delay factor\\\":9.0},\\\"nameSub\\\":\\\"PHYS 240\\\",\\\"id\\\":7,\\\"credits\\\":5,\\\"nameCanonical\\\":\\\"\\\"},{\\\"curriculum_requisites\\\":[],\\\"name\\\":\\\" \\\",\\\"metrics\\\":{\\\"centrality\\\":0,\\\"complexity\\\":1.0,\\\"blocking factor\\\":0,\\\"delay factor\\\":1.0},\\\"nameSub\\\":\\\"ANCH 200\\\",\\\"id\\\":8,\\\"credits\\\":3,\\\"nameCanonical\\\":\\\"\\\"},{\\\"curriculum_requisites\\\":[],\\\"name\\\":\\\" \\\",\\\"metrics\\\":{\\\"centrality\\\":0,\\\"complexity\\\":1.0,\\\"blocking factor\\\":0,\\\"delay factor\\\":1.0},\\\"nameSub\\\":\\\"DISC 200\\\",\\\"id\\\":9,\\\"credits\\\":3,\\\"nameCanonical\\\":\\\"\\\"}],\\\"id\\\":2},{\\\"name\\\":\\\"Term 3\\\",\\\"curriculum_items\\\":[{\\\"curriculum_requisites\\\":[{\\\"source_id\\\":5,\\\"target_id\\\":10,\\\"type\\\":\\\"CurriculumPrerequisite\\\"}],\\\"name\\\":\\\" \\\",\\\"metrics\\\":{\\\"centrality\\\":3,\\\"complexity\\\":4.0,\\\"blocking factor\\\":1,\\\"delay factor\\\":3.0},\\\"nameSub\\\":\\\"ECE 216\\\",\\\"id\\\":10,\\\"credits\\\":4,\\\"nameCanonical\\\":\\\"\\\"},{\\\"curriculum_requisites\\\":[],\\\"name\\\":\\\" \\\",\\\"metrics\\\":{\\\"centrality\\\":0,\\\"complexity\\\":16.0,\\\"blocking factor\\\":10,\\\"delay factor\\\":6.0},\\\"nameSub\\\":\\\"ECE 226\\\",\\\"id\\\":11,\\\"credits\\\":3,\\\"nameCanonical\\\":\\\"\\\"},{\\\"curriculum_requisites\\\":[{\\\"source_id\\\":11,\\\"target_id\\\":12,\\\"type\\\":\\\"CurriculumCorequisite\\\"}],\\\"name\\\":\\\" \\\",\\\"metrics\\\":{\\\"centrality\\\":29,\\\"complexity\\\":14.0,\\\"blocking factor\\\":8,\\\"delay factor\\\":6.0},\\\"nameSub\\\":\\\"ECE 227\\\",\\\"id\\\":12,\\\"credits\\\":1,\\\"nameCanonical\\\":\\\"\\\"},{\\\"curriculum_requisites\\\":[{\\\"source_id\\\":6,\\\"target_id\\\":13,\\\"type\\\":\\\"CurriculumPrerequisite\\\"}],\\\"name\\\":\\\" \\\",\\\"metrics\\\":{\\\"centrality\\\":134,\\\"complexity\\\":31.0,\\\"blocking factor\\\":21,\\\"delay factor\\\":10.0},\\\"nameSub\\\":\\\"ECE 241\\\",\\\"id\\\":13,\\\"credits\\\":3,\\\"nameCanonical\\\":\\\"\\\"},{\\\"curriculum_requisites\\\":[{\\\"source_id\\\":7,\\\"target_id\\\":14,\\\"type\\\":\\\"CurriculumPrerequisite\\\"},{\\\"source_id\\\":6,\\\"target_id\\\":14,\\\"type\\\":\\\"CurriculumPrerequisite\\\"}],\\\"name\\\":\\\" \\\",\\\"metrics\\\":{\\\"centrality\\\":192,\\\"complexity\\\":25.0,\\\"blocking factor\\\":16,\\\"delay factor\\\":9.0},\\\"nameSub\\\":\\\"PHYS 250\\\",\\\"id\\\":14,\\\"credits\\\":5,\\\"nameCanonical\\\":\\\"\\\"}],\\\"id\\\":3},{\\\"name\\\":\\\"Term 4\\\",\\\"curriculum_items\\\":[{\\\"curriculum_requisites\\\":[{\\\"source_id\\\":11,\\\"target_id\\\":15,\\\"type\\\":\\\"CurriculumPrerequisite\\\"},{\\\"source_id\\\":12,\\\"target_id\\\":15,\\\"type\\\":\\\"CurriculumPrerequisite\\\"}],\\\"name\\\":\\\" \\\",\\\"metrics\\\":{\\\"centrality\\\":7,\\\"complexity\\\":5.0,\\\"blocking factor\\\":1,\\\"delay factor\\\":4.0},\\\"nameSub\\\":\\\"ECE 228\\\",\\\"id\\\":15,\\\"credits\\\":3,\\\"nameCanonical\\\":\\\"\\\"},{\\\"curriculum_requisites\\\":[{\\\"source_id\\\":11,\\\"target_id\\\":16,\\\"type\\\":\\\"CurriculumPrerequisite\\\"},{\\\"source_id\\\":15,\\\"target_id\\\":16,\\\"type\\\":\\\"CurriculumCorequisite\\\"},{\\\"source_id\\\":12,\\\"target_id\\\":16,\\\"type\\\":\\\"CurriculumPrerequisite\\\"}],\\\"name\\\":\\\" \\\",\\\"metrics\\\":{\\\"centrality\\\":0,\\\"complexity\\\":4.0,\\\"blocking factor\\\":0,\\\"delay factor\\\":4.0},\\\"nameSub\\\":\\\"ECE 229\\\",\\\"id\\\":16,\\\"credits\\\":1,\\\"nameCanonical\\\":\\\"\\\"},{\\\"curriculum_requisites\\\":[{\\\"source_id\\\":7,\\\"target_id\\\":17,\\\"type\\\":\\\"CurriculumPrerequisite\\\"},{\\\"source_id\\\":6,\\\"target_id\\\":17,\\\"type\\\":\\\"CurriculumPrerequisite\\\"}],\\\"name\\\":\\\" \\\",\\\"metrics\\\":{\\\"centrality\\\":0,\\\"complexity\\\":3.0,\\\"blocking factor\\\":0,\\\"delay factor\\\":3.0},\\\"nameSub\\\":\\\"ECE 250\\\",\\\"id\\\":17,\\\"credits\\\":3,\\\"nameCanonical\\\":\\\"\\\"},{\\\"curriculum_requisites\\\":[{\\\"source_id\\\":14,\\\"target_id\\\":18,\\\"type\\\":\\\"CurriculumPrerequisite\\\"},{\\\"source_id\\\":20,\\\"target_id\\\":18,\\\"type\\\":\\\"CurriculumCorequisite\\\"}],\\\"name\\\":\\\" \\\",\\\"metrics\\\":{\\\"centrality\\\":254,\\\"complexity\\\":24.0,\\\"blocking factor\\\":14,\\\"delay factor\\\":10.0},\\\"nameSub\\\":\\\"ECE 276\\\",\\\"id\\\":18,\\\"credits\\\":3,\\\"nameCanonical\\\":\\\"\\\"},{\\\"curriculum_requisites\\\":[{\\\"source_id\\\":18,\\\"target_id\\\":19,\\\"type\\\":\\\"CurriculumCorequisite\\\"}],\\\"name\\\":\\\" \\\",\\\"metrics\\\":{\\\"centrality\\\":47,\\\"complexity\\\":15.0,\\\"blocking factor\\\":5,\\\"delay factor\\\":10.0},\\\"nameSub\\\":\\\"ECE 277\\\",\\\"id\\\":19,\\\"credits\\\":1,\\\"nameCanonical\\\":\\\"\\\"},{\\\"curriculum_requisites\\\":[{\\\"source_id\\\":13,\\\"target_id\\\":20,\\\"type\\\":\\\"CurriculumPrerequisite\\\"}],\\\"name\\\":\\\" \\\",\\\"metrics\\\":{\\\"centrality\\\":130,\\\"complexity\\\":29.0,\\\"blocking factor\\\":19,\\\"delay factor\\\":10.0},\\\"nameSub\\\":\\\"ECE 341R\\\",\\\"id\\\":20,\\\"credits\\\":3,\\\"nameCanonical\\\":\\\"\\\"},{\\\"curriculum_requisites\\\":[{\\\"source_id\\\":13,\\\"target_id\\\":21,\\\"type\\\":\\\"CurriculumPrerequisite\\\"},{\\\"source_id\\\":10,\\\"target_id\\\":21,\\\"type\\\":\\\"CurriculumPrerequisite\\\"},{\\\"source_id\\\":6,\\\"target_id\\\":21,\\\"type\\\":\\\"CurriculumPrerequisite\\\"}],\\\"name\\\":\\\" \\\",\\\"metrics\\\":{\\\"centrality\\\":0,\\\"complexity\\\":4.0,\\\"blocking factor\\\":0,\\\"delay factor\\\":4.0},\\\"nameSub\\\":\\\"CS 394R\\\",\\\"id\\\":21,\\\"credits\\\":3,\\\"nameCanonical\\\":\\\"\\\"}],\\\"id\\\":4},{\\\"name\\\":\\\"Term 5\\\",\\\"curriculum_items\\\":[{\\\"curriculum_requisites\\\":[{\\\"source_id\\\":14,\\\"target_id\\\":22,\\\"type\\\":\\\"CurriculumPrerequisite\\\"},{\\\"source_id\\\":20,\\\"target_id\\\":22,\\\"type\\\":\\\"CurriculumPrerequisite\\\"}],\\\"name\\\":\\\" \\\",\\\"metrics\\\":{\\\"centrality\\\":0,\\\"complexity\\\":5.0,\\\"blocking factor\\\":0,\\\"delay factor\\\":5.0},\\\"nameSub\\\":\\\"ECE 334\\\",\\\"id\\\":22,\\\"credits\\\":3,\\\"nameCanonical\\\":\\\"\\\"},{\\\"curriculum_requisites\\\":[{\\\"source_id\\\":18,\\\"target_id\\\":23,\\\"type\\\":\\\"CurriculumPrerequisite\\\"}],\\\"name\\\":\\\" \\\",\\\"metrics\\\":{\\\"centrality\\\":129,\\\"complexity\\\":18.0,\\\"blocking factor\\\":9,\\\"delay factor\\\":9.0},\\\"nameSub\\\":\\\"ECE 376\\\",\\\"id\\\":23,\\\"credits\\\":3,\\\"nameCanonical\\\":\\\"\\\"},{\\\"curriculum_requisites\\\":[{\\\"source_id\\\":23,\\\"target_id\\\":24,\\\"type\\\":\\\"CurriculumCorequisite\\\"},{\\\"source_id\\\":19,\\\"target_id\\\":24,\\\"type\\\":\\\"CurriculumPrerequisite\\\"}],\\\"name\\\":\\\" \\\",\\\"metrics\\\":{\\\"centrality\\\":0,\\\"complexity\\\":7.0,\\\"blocking factor\\\":0,\\\"delay factor\\\":7.0},\\\"nameSub\\\":\\\"ECE 377\\\",\\\"id\\\":24,\\\"credits\\\":1,\\\"nameCanonical\\\":\\\"\\\"},{\\\"curriculum_requisites\\\":[{\\\"source_id\\\":20,\\\"target_id\\\":25,\\\"type\\\":\\\"CurriculumPrerequisite\\\"}],\\\"name\\\":\\\" \\\",\\\"metrics\\\":{\\\"centrality\\\":20,\\\"complexity\\\":12.0,\\\"blocking factor\\\":5,\\\"delay factor\\\":7.0},\\\"nameSub\\\":\\\"ECE 380\\\",\\\"id\\\":25,\\\"credits\\\":3,\\\"nameCanonical\\\":\\\"\\\"},{\\\"curriculum_requisites\\\":[{\\\"source_id\\\":25,\\\"target_id\\\":26,\\\"type\\\":\\\"CurriculumCorequisite\\\"}],\\\"name\\\":\\\" \\\",\\\"metrics\\\":{\\\"centrality\\\":0,\\\"complexity\\\":6.0,\\\"blocking factor\\\":0,\\\"delay factor\\\":6.0},\\\"nameSub\\\":\\\"ECE 381\\\",\\\"id\\\":26,\\\"credits\\\":1,\\\"nameCanonical\\\":\\\"\\\"},{\\\"curriculum_requisites\\\":[{\\\"source_id\\\":11,\\\"target_id\\\":27,\\\"type\\\":\\\"CurriculumPrerequisite\\\"}],\\\"name\\\":\\\" \\\",\\\"metrics\\\":{\\\"centrality\\\":40,\\\"complexity\\\":12.0,\\\"blocking factor\\\":6,\\\"delay factor\\\":6.0},\\\"nameSub\\\":\\\"ECE 426\\\",\\\"id\\\":27,\\\"credits\\\":3,\\\"nameCanonical\\\":\\\"\\\"},{\\\"curriculum_requisites\\\":[{\\\"source_id\\\":27,\\\"target_id\\\":28,\\\"type\\\":\\\"CurriculumCorequisite\\\"},{\\\"source_id\\\":12,\\\"target_id\\\":28,\\\"type\\\":\\\"CurriculumPrerequisite\\\"}],\\\"name\\\":\\\" \\\",\\\"metrics\\\":{\\\"centrality\\\":44,\\\"complexity\\\":11.0,\\\"blocking factor\\\":5,\\\"delay factor\\\":6.0},\\\"nameSub\\\":\\\"ECE 427\\\",\\\"id\\\":28,\\\"credits\\\":1,\\\"nameCanonical\\\":\\\"\\\"}],\\\"id\\\":5},{\\\"name\\\":\\\"Term 6\\\",\\\"curriculum_items\\\":[{\\\"curriculum_requisites\\\":[{\\\"source_id\\\":23,\\\"target_id\\\":29,\\\"type\\\":\\\"CurriculumPrerequisite\\\"},{\\\"source_id\\\":14,\\\"target_id\\\":29,\\\"type\\\":\\\"CurriculumPrerequisite\\\"},{\\\"source_id\\\":20,\\\"target_id\\\":29,\\\"type\\\":\\\"CurriculumPrerequisite\\\"}],\\\"name\\\":\\\" \\\",\\\"metrics\\\":{\\\"centrality\\\":82,\\\"complexity\\\":12.0,\\\"blocking factor\\\":3,\\\"delay factor\\\":9.0},\\\"nameSub\\\":\\\"ECE 302\\\",\\\"id\\\":29,\\\"credits\\\":3,\\\"nameCanonical\\\":\\\"\\\"},{\\\"curriculum_requisites\\\":[{\\\"source_id\\\":29,\\\"target_id\\\":30,\\\"type\\\":\\\"CurriculumCorequisite\\\"}],\\\"name\\\":\\\" \\\",\\\"metrics\\\":{\\\"centrality\\\":0,\\\"complexity\\\":8.0,\\\"blocking factor\\\":0,\\\"delay factor\\\":8.0},\\\"nameSub\\\":\\\"ECE 303\\\",\\\"id\\\":30,\\\"credits\\\":1,\\\"nameCanonical\\\":\\\"\\\"},{\\\"curriculum_requisites\\\":[{\\\"source_id\\\":18,\\\"target_id\\\":31,\\\"type\\\":\\\"CurriculumPrerequisite\\\"}],\\\"name\\\":\\\" \\\",\\\"metrics\\\":{\\\"centrality\\\":53,\\\"complexity\\\":14.0,\\\"blocking factor\\\":4,\\\"delay factor\\\":10.0},\\\"nameSub\\\":\\\"ECE 330\\\",\\\"id\\\":31,\\\"credits\\\":3,\\\"nameCanonical\\\":\\\"\\\"},{\\\"curriculum_requisites\\\":[{\\\"source_id\\\":31,\\\"target_id\\\":32,\\\"type\\\":\\\"CurriculumCorequisite\\\"},{\\\"source_id\\\":19,\\\"target_id\\\":32,\\\"type\\\":\\\"CurriculumPrerequisite\\\"},{\\\"source_id\\\":18,\\\"target_id\\\":32,\\\"type\\\":\\\"CurriculumPrerequisite\\\"}],\\\"name\\\":\\\" \\\",\\\"metrics\\\":{\\\"centrality\\\":81,\\\"complexity\\\":13.0,\\\"blocking factor\\\":3,\\\"delay factor\\\":10.0},\\\"nameSub\\\":\\\"ECE 331\\\",\\\"id\\\":32,\\\"credits\\\":1,\\\"nameCanonical\\\":\\\"\\\"},{\\\"curriculum_requisites\\\":[{\\\"source_id\\\":35,\\\"target_id\\\":33,\\\"type\\\":\\\"CurriculumCorequisite\\\"},{\\\"source_id\\\":34,\\\"target_id\\\":33,\\\"type\\\":\\\"CurriculumCorequisite\\\"}],\\\"name\\\":\\\" \\\",\\\"metrics\\\":{\\\"centrality\\\":0,\\\"complexity\\\":6.0,\\\"blocking factor\\\":0,\\\"delay factor\\\":6.0},\\\"nameSub\\\":\\\"ECE 420\\\",\\\"id\\\":33,\\\"credits\\\":2,\\\"nameCanonical\\\":\\\"\\\"},{\\\"curriculum_requisites\\\":[{\\\"source_id\\\":27,\\\"target_id\\\":34,\\\"type\\\":\\\"CurriculumPrerequisite\\\"},{\\\"source_id\\\":28,\\\"target_id\\\":34,\\\"type\\\":\\\"CurriculumPrerequisite\\\"}],\\\"name\\\":\\\" \\\",\\\"metrics\\\":{\\\"centrality\\\":48,\\\"complexity\\\":10.0,\\\"blocking factor\\\":4,\\\"delay factor\\\":6.0},\\\"nameSub\\\":\\\"ECE 428R\\\",\\\"id\\\":34,\\\"credits\\\":3,\\\"nameCanonical\\\":\\\"\\\"},{\\\"curriculum_requisites\\\":[{\\\"source_id\\\":34,\\\"target_id\\\":35,\\\"type\\\":\\\"CurriculumCorequisite\\\"},{\\\"source_id\\\":27,\\\"target_id\\\":35,\\\"type\\\":\\\"CurriculumPrerequisite\\\"},{\\\"source_id\\\":28,\\\"target_id\\\":35,\\\"type\\\":\\\"CurriculumPrerequisite\\\"}],\\\"name\\\":\\\" \\\",\\\"metrics\\\":{\\\"centrality\\\":31,\\\"complexity\\\":7.0,\\\"blocking factor\\\":1,\\\"delay factor\\\":6.0},\\\"nameSub\\\":\\\"ECE 429\\\",\\\"id\\\":35,\\\"credits\\\":1,\\\"nameCanonical\\\":\\\"\\\"},{\\\"curriculum_requisites\\\":[{\\\"source_id\\\":23,\\\"target_id\\\":36,\\\"type\\\":\\\"CurriculumPrerequisite\\\"}],\\\"name\\\":\\\" \\\",\\\"metrics\\\":{\\\"centrality\\\":44,\\\"complexity\\\":10.0,\\\"blocking factor\\\":2,\\\"delay factor\\\":8.0},\\\"nameSub\\\":\\\"ECE 466\\\",\\\"id\\\":36,\\\"credits\\\":3,\\\"nameCanonical\\\":\\\"\\\"}],\\\"id\\\":6},{\\\"name\\\":\\\"Term 7\\\",\\\"curriculum_items\\\":[{\\\"curriculum_requisites\\\":[{\\\"source_id\\\":25,\\\"target_id\\\":37,\\\"type\\\":\\\"CurriculumPrerequisite\\\"}],\\\"name\\\":\\\" \\\",\\\"metrics\\\":{\\\"centrality\\\":7,\\\"complexity\\\":8.0,\\\"blocking factor\\\":1,\\\"delay factor\\\":7.0},\\\"nameSub\\\":\\\"ECE 358\\\",\\\"id\\\":37,\\\"credits\\\":3,\\\"nameCanonical\\\":\\\"\\\"},{\\\"curriculum_requisites\\\":[{\\\"source_id\\\":25,\\\"target_id\\\":38,\\\"type\\\":\\\"CurriculumPrerequisite\\\"},{\\\"source_id\\\":34,\\\"target_id\\\":38,\\\"type\\\":\\\"CurriculumPrerequisite\\\"},{\\\"source_id\\\":29,\\\"target_id\\\":38,\\\"type\\\":\\\"CurriculumPrerequisite\\\"},{\\\"source_id\\\":39,\\\"target_id\\\":38,\\\"type\\\":\\\"CurriculumCorequisite\\\"}],\\\"name\\\":\\\" \\\",\\\"metrics\\\":{\\\"centrality\\\":174,\\\"complexity\\\":11.0,\\\"blocking factor\\\":1,\\\"delay factor\\\":10.0},\\\"nameSub\\\":\\\"ECE 402\\\",\\\"id\\\":38,\\\"credits\\\":2,\\\"nameCanonical\\\":\\\"\\\"},{\\\"curriculum_requisites\\\":[{\\\"source_id\\\":31,\\\"target_id\\\":39,\\\"type\\\":\\\"CurriculumPrerequisite\\\"},{\\\"source_id\\\":32,\\\"target_id\\\":39,\\\"type\\\":\\\"CurriculumPrerequisite\\\"}],\\\"name\\\":\\\" \\\",\\\"metrics\\\":{\\\"centrality\\\":106,\\\"complexity\\\":12.0,\\\"blocking factor\\\":2,\\\"delay factor\\\":10.0},\\\"nameSub\\\":\\\"ECE 430\\\",\\\"id\\\":39,\\\"credits\\\":3,\\\"nameCanonical\\\":\\\"\\\"},{\\\"curriculum_requisites\\\":[{\\\"source_id\\\":23,\\\"target_id\\\":40,\\\"type\\\":\\\"CurriculumPrerequisite\\\"}],\\\"name\\\":\\\" \\\",\\\"metrics\\\":{\\\"centrality\\\":0,\\\"complexity\\\":7.0,\\\"blocking factor\\\":0,\\\"delay factor\\\":7.0},\\\"nameSub\\\":\\\"ECE 466\\\",\\\"id\\\":40,\\\"credits\\\":3,\\\"nameCanonical\\\":\\\"\\\"},{\\\"curriculum_requisites\\\":[],\\\"name\\\":\\\" \\\",\\\"metrics\\\":{\\\"centrality\\\":0,\\\"complexity\\\":1.0,\\\"blocking factor\\\":0,\\\"delay factor\\\":1.0},\\\"nameSub\\\":\\\"ANCH 308\\\",\\\"id\\\":41,\\\"credits\\\":3,\\\"nameCanonical\\\":\\\"\\\"},{\\\"curriculum_requisites\\\":[],\\\"name\\\":\\\" \\\",\\\"metrics\\\":{\\\"centrality\\\":0,\\\"complexity\\\":1.0,\\\"blocking factor\\\":0,\\\"delay factor\\\":1.0},\\\"nameSub\\\":\\\"DISC 300\\\",\\\"id\\\":42,\\\"credits\\\":3,\\\"nameCanonical\\\":\\\"\\\"}],\\\"id\\\":7},{\\\"name\\\":\\\"Term 8\\\",\\\"curriculum_items\\\":[{\\\"curriculum_requisites\\\":[],\\\"name\\\":\\\" \\\",\\\"metrics\\\":{\\\"centrality\\\":0,\\\"complexity\\\":1.0,\\\"blocking factor\\\":0,\\\"delay factor\\\":1.0},\\\"nameSub\\\":\\\"FOCUS A\\\",\\\"id\\\":43,\\\"credits\\\":3,\\\"nameCanonical\\\":\\\"\\\"},{\\\"curriculum_requisites\\\":[],\\\"name\\\":\\\" \\\",\\\"metrics\\\":{\\\"centrality\\\":0,\\\"complexity\\\":1.0,\\\"blocking factor\\\":0,\\\"delay factor\\\":1.0},\\\"nameSub\\\":\\\"FOCUS B\\\",\\\"id\\\":44,\\\"credits\\\":3,\\\"nameCanonical\\\":\\\"\\\"},{\\\"curriculum_requisites\\\":[{\\\"source_id\\\":38,\\\"target_id\\\":45,\\\"type\\\":\\\"CurriculumPrerequisite\\\"}],\\\"name\\\":\\\" \\\",\\\"metrics\\\":{\\\"centrality\\\":0,\\\"complexity\\\":10.0,\\\"blocking factor\\\":0,\\\"delay factor\\\":10.0},\\\"nameSub\\\":\\\"ECE 403\\\",\\\"id\\\":45,\\\"credits\\\":1,\\\"nameCanonical\\\":\\\"\\\"},{\\\"curriculum_requisites\\\":[{\\\"source_id\\\":37,\\\"target_id\\\":46,\\\"type\\\":\\\"CurriculumPrerequisite\\\"},{\\\"source_id\\\":36,\\\"target_id\\\":46,\\\"type\\\":\\\"CurriculumPrerequisite\\\"}],\\\"name\\\":\\\" \\\",\\\"metrics\\\":{\\\"centrality\\\":0,\\\"complexity\\\":8.0,\\\"blocking factor\\\":0,\\\"delay factor\\\":8.0},\\\"nameSub\\\":\\\"ECE 467\\\",\\\"id\\\":46,\\\"credits\\\":3,\\\"nameCanonical\\\":\\\"\\\"},{\\\"curriculum_requisites\\\":[{\\\"source_id\\\":36,\\\"target_id\\\":47,\\\"type\\\":\\\"CurriculumPrerequisite\\\"}],\\\"name\\\":\\\" \\\",\\\"metrics\\\":{\\\"centrality\\\":0,\\\"complexity\\\":8.0,\\\"blocking factor\\\":0,\\\"delay factor\\\":8.0},\\\"nameSub\\\":\\\"ECE 472\\\",\\\"id\\\":47,\\\"credits\\\":3,\\\"nameCanonical\\\":\\\"\\\"}],\\\"id\\\":8}],\\\"institution\\\":\\\"\\\"}},\\\"*\\\"); window.removeEventListener(\\\"message\\\",window.messageReceived); window.messageReceived=(function (event){return (event.data.curriculum!==undefined) ? (WebIO.setval({\\\"name\\\":\\\"curriculum-data\\\",\\\"scope\\\":\\\"8175409242315634414\\\",\\\"id\\\":\\\"1168602708386682813\\\",\\\"type\\\":\\\"observable\\\"},event.data.curriculum)) : undefined}); return window.addEventListener(\\\"message\\\",window.messageReceived)})\"},\"style\":{\"padding\":\"0\",\"height\":\"100vh\",\"margin\":\"0\",\"border\":\"none\",\"width\":\"100%\"}},\"nodeType\":\"DOM\",\"type\":\"node\",\"instanceArgs\":{\"namespace\":\"html\",\"tag\":\"iframe\"},\"children\":[\"\"]}]},\n",
       "            window,\n",
       "        );\n",
       "    } else {\n",
       "        document\n",
       "            .querySelector('[data-webio-mountpoint=\"1232173563514612770\"]')\n",
       "            .innerHTML = (\n",
       "                '<div style=\"padding: 1em; background-color: #f8d6da; border: 1px solid #f5c6cb\">' +\n",
       "                '<p><strong>WebIO not detected.</strong></p>' +\n",
       "                '<p>Please read ' +\n",
       "                '<a href=\"https://juliagizmos.github.io/WebIO.jl/latest/troubleshooting/not-detected/\" target=\"_blank\">the troubleshooting guide</a> ' +\n",
       "                'for more information on how to resolve this issue.</p>' +\n",
       "                '<p><a href=\"https://juliagizmos.github.io/WebIO.jl/latest/troubleshooting/not-detected/\" target=\"_blank\">https://juliagizmos.github.io/WebIO.jl/latest/troubleshooting/not-detected/</a></p>' +\n",
       "                '</div>'\n",
       "            );\n",
       "    }\n",
       "    </script>\n",
       "</div>\n"
      ],
      "text/plain": [
       "WebIO.Scope(WebIO.Node{WebIO.DOM}(WebIO.DOM(:html, :iframe), Any[\"\"], Dict{Symbol,Any}(:src => \"http://localhost:8156\",:id => \"curriculum\",:events => Dict{Symbol,WebIO.JSString}(:load => WebIO.JSString(\"(function (){this.contentWindow.postMessage({\\\"options\\\":{\\\"hideTerms\\\":false,\\\"edit\\\":false},\\\"curriculum\\\":{\\\"name\\\":\\\"Curriculum\\\",\\\"dp_name\\\":\\\"University of Missouri--Kansas City.csv\\\",\\\"curriculum_terms\\\":[{\\\"name\\\":\\\"Term 1\\\",\\\"curriculum_items\\\":[{\\\"curriculum_requisites\\\":[],\\\"name\\\":\\\" \\\",\\\"metrics\\\":{\\\"centrality\\\":0,\\\"complexity\\\":1.0,\\\"blocking factor\\\":0,\\\"delay factor\\\":1.0},\\\"nameSub\\\":\\\"ANCH 150\\\",\\\"id\\\":1,\\\"credits\\\":3,\\\"nameCanonical\\\":\\\"\\\"},{\\\"curriculum_requisites\\\":[],\\\"name\\\":\\\" \\\",\\\"metrics\\\":{\\\"centrality\\\":0,\\\"complexity\\\":1.0,\\\"blocking factor\\\":0,\\\"delay factor\\\":1.0},\\\"nameSub\\\":\\\"CHEM 211\\\",\\\"id\\\":2,\\\"credits\\\":5,\\\"nameCanonical\\\":\\\"\\\"},{\\\"curriculum_requisites\\\":[],\\\"name\\\":\\\" \\\",\\\"metrics\\\":{\\\"centrality\\\":0,\\\"complexity\\\":1.0,\\\"blocking factor\\\":0,\\\"delay factor\\\":1.0},\\\"nameSub\\\":\\\"DISC 100\\\",\\\"id\\\":3,\\\"credits\\\":3,\\\"nameCanonical\\\":\\\"\\\"},{\\\"curriculum_requisites\\\":[],\\\"name\\\":\\\" \\\",\\\"metrics\\\":{\\\"centrality\\\":0,\\\"complexity\\\":1.0,\\\"blocking factor\\\":0,\\\"delay factor\\\":1.0},\\\"nameSub\\\":\\\"ECE 130\\\",\\\"id\\\":4,\\\"credits\\\":3,\\\"nameCanonical\\\":\\\"\\\"},{\\\"curriculum_requisites\\\":[],\\\"name\\\":\\\" \\\",\\\"metrics\\\":{\\\"centrality\\\":0,\\\"complexity\\\":37.0,\\\"blocking factor\\\":27,\\\"delay factor\\\":10.0},\\\"nameSub\\\":\\\"MATH 210\\\",\\\"id\\\":5,\\\"credits\\\":4,\\\"nameCanonical\\\":\\\"\\\"}],\\\"id\\\":1},{\\\"name\\\":\\\"Term 2\\\",\\\"curriculum_items\\\":[{\\\"curriculum_requisites\\\":[{\\\"source_id\\\":5,\\\"target_id\\\":6,\\\"type\\\":\\\"CurriculumPrerequisite\\\"}],\\\"name\\\":\\\" \\\",\\\"metrics\\\":{\\\"centrality\\\":236,\\\"complexity\\\":34.0,\\\"blocking factor\\\":24,\\\"delay factor\\\":10.0},\\\"nameSub\\\":\\\"MATH 220\\\",\\\"id\\\":6,\\\"credits\\\":4,\\\"nameCanonical\\\":\\\"\\\"},{\\\"curriculum_requisites\\\":[{\\\"source_id\\\":5,\\\"target_id\\\":7,\\\"type\\\":\\\"CurriculumPrerequisite\\\"}],\\\"name\\\":\\\" \\\",\\\"metrics\\\":{\\\"centrality\\\":99,\\\"complexity\\\":27.0,\\\"blocking factor\\\":18,\\\"delay factor\\\":9.0},\\\"nameSub\\\":\\\"PHYS 240\\\",\\\"id\\\":7,\\\"credits\\\":5,\\\"nameCanonical\\\":\\\"\\\"},{\\\"curriculum_requisites\\\":[],\\\"name\\\":\\\" \\\",\\\"metrics\\\":{\\\"centrality\\\":0,\\\"complexity\\\":1.0,\\\"blocking factor\\\":0,\\\"delay factor\\\":1.0},\\\"nameSub\\\":\\\"ANCH 200\\\",\\\"id\\\":8,\\\"credits\\\":3,\\\"nameCanonical\\\":\\\"\\\"},{\\\"curriculum_requisites\\\":[],\\\"name\\\":\\\" \\\",\\\"metrics\\\":{\\\"centrality\\\":0,\\\"complexity\\\":1.0,\\\"blocking factor\\\":0,\\\"delay factor\\\":1.0},\\\"nameSub\\\":\\\"DISC 200\\\",\\\"id\\\":9,\\\"credits\\\":3,\\\"nameCanonical\\\":\\\"\\\"}],\\\"id\\\":2},{\\\"name\\\":\\\"Term 3\\\",\\\"curriculum_items\\\":[{\\\"curriculum_requisites\\\":[{\\\"source_id\\\":5,\\\"target_id\\\":10,\\\"type\\\":\\\"CurriculumPrerequisite\\\"}],\\\"name\\\":\\\" \\\",\\\"metrics\\\":{\\\"centrality\\\":3,\\\"complexity\\\":4.0,\\\"blocking factor\\\":1,\\\"delay factor\\\":3.0},\\\"nameSub\\\":\\\"ECE 216\\\",\\\"id\\\":10,\\\"credits\\\":4,\\\"nameCanonical\\\":\\\"\\\"},{\\\"curriculum_requisites\\\":[],\\\"name\\\":\\\" \\\",\\\"metrics\\\":{\\\"centrality\\\":0,\\\"complexity\\\":16.0,\\\"blocking factor\\\":10,\\\"delay factor\\\":6.0},\\\"nameSub\\\":\\\"ECE 226\\\",\\\"id\\\":11,\\\"credits\\\":3,\\\"nameCanonical\\\":\\\"\\\"},{\\\"curriculum_requisites\\\":[{\\\"source_id\\\":11,\\\"target_id\\\":12,\\\"type\\\":\\\"CurriculumCorequisite\\\"}],\\\"name\\\":\\\" \\\",\\\"metrics\\\":{\\\"centrality\\\":29,\\\"complexity\\\":14.0,\\\"blocking factor\\\":8,\\\"delay factor\\\":6.0},\\\"nameSub\\\":\\\"ECE 227\\\",\\\"id\\\":12,\\\"credits\\\":1,\\\"nameCanonical\\\":\\\"\\\"},{\\\"curriculum_requisites\\\":[{\\\"source_id\\\":6,\\\"target_id\\\":13,\\\"type\\\":\\\"CurriculumPrerequisite\\\"}],\\\"name\\\":\\\" \\\",\\\"metrics\\\":{\\\"centrality\\\":134,\\\"complexity\\\":31.0,\\\"blocking factor\\\":21,\\\"delay factor\\\":10.0},\\\"nameSub\\\":\\\"ECE 241\\\",\\\"id\\\":13,\\\"credits\\\":3,\\\"nameCanonical\\\":\\\"\\\"},{\\\"curriculum_requisites\\\":[{\\\"source_id\\\":7,\\\"target_id\\\":14,\\\"type\\\":\\\"CurriculumPrerequisite\\\"},{\\\"source_id\\\":6,\\\"target_id\\\":14,\\\"type\\\":\\\"CurriculumPrerequisite\\\"}],\\\"name\\\":\\\" \\\",\\\"metrics\\\":{\\\"centrality\\\":192,\\\"complexity\\\":25.0,\\\"blocking factor\\\":16,\\\"delay factor\\\":9.0},\\\"nameSub\\\":\\\"PHYS 250\\\",\\\"id\\\":14,\\\"credits\\\":5,\\\"nameCanonical\\\":\\\"\\\"}],\\\"id\\\":3},{\\\"name\\\":\\\"Term 4\\\",\\\"curriculum_items\\\":[{\\\"curriculum_requisites\\\":[{\\\"source_id\\\":11,\\\"target_id\\\":15,\\\"type\\\":\\\"CurriculumPrerequisite\\\"},{\\\"source_id\\\":12,\\\"target_id\\\":15,\\\"type\\\":\\\"CurriculumPrerequisite\\\"}],\\\"name\\\":\\\" \\\",\\\"metrics\\\":{\\\"centrality\\\":7,\\\"complexity\\\":5.0,\\\"blocking factor\\\":1,\\\"delay factor\\\":4.0},\\\"nameSub\\\":\\\"ECE 228\\\",\\\"id\\\":15,\\\"credits\\\":3,\\\"nameCanonical\\\":\\\"\\\"},{\\\"curriculum_requisites\\\":[{\\\"source_id\\\":11,\\\"target_id\\\":16,\\\"type\\\":\\\"CurriculumPrerequisite\\\"},{\\\"source_id\\\":15,\\\"target_id\\\":16,\\\"type\\\":\\\"CurriculumCorequisite\\\"},{\\\"source_id\\\":12,\\\"target_id\\\":16,\\\"type\\\":\\\"CurriculumPrerequisite\\\"}],\\\"name\\\":\\\" \\\",\\\"metrics\\\":{\\\"centrality\\\":0,\\\"complexity\\\":4.0,\\\"blocking factor\\\":0,\\\"delay factor\\\":4.0},\\\"nameSub\\\":\\\"ECE 229\\\",\\\"id\\\":16,\\\"credits\\\":1,\\\"nameCanonical\\\":\\\"\\\"},{\\\"curriculum_requisites\\\":[{\\\"source_id\\\":7,\\\"target_id\\\":17,\\\"type\\\":\\\"CurriculumPrerequisite\\\"},{\\\"source_id\\\":6,\\\"target_id\\\":17,\\\"type\\\":\\\"CurriculumPrerequisite\\\"}],\\\"name\\\":\\\" \\\",\\\"metrics\\\":{\\\"centrality\\\":0,\\\"complexity\\\":3.0,\\\"blocking factor\\\":0,\\\"delay factor\\\":3.0},\\\"nameSub\\\":\\\"ECE 250\\\",\\\"id\\\":17,\\\"credits\\\":3,\\\"nameCanonical\\\":\\\"\\\"},{\\\"curriculum_requisites\\\":[{\\\"source_id\\\":14,\\\"target_id\\\":18,\\\"type\\\":\\\"CurriculumPrerequisite\\\"},{\\\"source_id\\\":20,\\\"target_id\\\":18,\\\"type\\\":\\\"CurriculumCorequisite\\\"}],\\\"name\\\":\\\" \\\",\\\"metrics\\\":{\\\"centrality\\\":254,\\\"complexity\\\":24.0,\\\"blocking factor\\\":14,\\\"delay factor\\\":10.0},\\\"nameSub\\\":\\\"ECE 276\\\",\\\"id\\\":18,\\\"credits\\\":3,\\\"nameCanonical\\\":\\\"\\\"},{\\\"curriculum_requisites\\\":[{\\\"source_id\\\":18,\\\"target_id\\\":19,\\\"type\\\":\\\"CurriculumCorequisite\\\"}],\\\"name\\\":\\\" \\\",\\\"metrics\\\":{\\\"centrality\\\":47,\\\"complexity\\\":15.0,\\\"blocking factor\\\":5,\\\"delay factor\\\":10.0},\\\"nameSub\\\":\\\"ECE 277\\\",\\\"id\\\":19,\\\"credits\\\":1,\\\"nameCanonical\\\":\\\"\\\"},{\\\"curriculum_requisites\\\":[{\\\"source_id\\\":13,\\\"target_id\\\":20,\\\"type\\\":\\\"CurriculumPrerequisite\\\"}],\\\"name\\\":\\\" \\\",\\\"metrics\\\":{\\\"centrality\\\":130,\\\"complexity\\\":29.0,\\\"blocking factor\\\":19,\\\"delay factor\\\":10.0},\\\"nameSub\\\":\\\"ECE 341R\\\",\\\"id\\\":20,\\\"credits\\\":3,\\\"nameCanonical\\\":\\\"\\\"},{\\\"curriculum_requisites\\\":[{\\\"source_id\\\":13,\\\"target_id\\\":21,\\\"type\\\":\\\"CurriculumPrerequisite\\\"},{\\\"source_id\\\":10,\\\"target_id\\\":21,\\\"type\\\":\\\"CurriculumPrerequisite\\\"},{\\\"source_id\\\":6,\\\"target_id\\\":21,\\\"type\\\":\\\"CurriculumPrerequisite\\\"}],\\\"name\\\":\\\" \\\",\\\"metrics\\\":{\\\"centrality\\\":0,\\\"complexity\\\":4.0,\\\"blocking factor\\\":0,\\\"delay factor\\\":4.0},\\\"nameSub\\\":\\\"CS 394R\\\",\\\"id\\\":21,\\\"credits\\\":3,\\\"nameCanonical\\\":\\\"\\\"}],\\\"id\\\":4},{\\\"name\\\":\\\"Term 5\\\",\\\"curriculum_items\\\":[{\\\"curriculum_requisites\\\":[{\\\"source_id\\\":14,\\\"target_id\\\":22,\\\"type\\\":\\\"CurriculumPrerequisite\\\"},{\\\"source_id\\\":20,\\\"target_id\\\":22,\\\"type\\\":\\\"CurriculumPrerequisite\\\"}],\\\"name\\\":\\\" \\\",\\\"metrics\\\":{\\\"centrality\\\":0,\\\"complexity\\\":5.0,\\\"blocking factor\\\":0,\\\"delay factor\\\":5.0},\\\"nameSub\\\":\\\"ECE 334\\\",\\\"id\\\":22,\\\"credits\\\":3,\\\"nameCanonical\\\":\\\"\\\"},{\\\"curriculum_requisites\\\":[{\\\"source_id\\\":18,\\\"target_id\\\":23,\\\"type\\\":\\\"CurriculumPrerequisite\\\"}],\\\"name\\\":\\\" \\\",\\\"metrics\\\":{\\\"centrality\\\":129,\\\"complexity\\\":18.0,\\\"blocking factor\\\":9,\\\"delay factor\\\":9.0},\\\"nameSub\\\":\\\"ECE 376\\\",\\\"id\\\":23,\\\"credits\\\":3,\\\"nameCanonical\\\":\\\"\\\"},{\\\"curriculum_requisites\\\":[{\\\"source_id\\\":23,\\\"target_id\\\":24,\\\"type\\\":\\\"CurriculumCorequisite\\\"},{\\\"source_id\\\":19,\\\"target_id\\\":24,\\\"type\\\":\\\"CurriculumPrerequisite\\\"}],\\\"name\\\":\\\" \\\",\\\"metrics\\\":{\\\"centrality\\\":0,\\\"complexity\\\":7.0,\\\"blocking factor\\\":0,\\\"delay factor\\\":7.0},\\\"nameSub\\\":\\\"ECE 377\\\",\\\"id\\\":24,\\\"credits\\\":1,\\\"nameCanonical\\\":\\\"\\\"},{\\\"curriculum_requisites\\\":[{\\\"source_id\\\":20,\\\"target_id\\\":25,\\\"type\\\":\\\"CurriculumPrerequisite\\\"}],\\\"name\\\":\\\" \\\",\\\"metrics\\\":{\\\"centrality\\\":20,\\\"complexity\\\":12.0,\\\"blocking factor\\\":5,\\\"delay factor\\\":7.0},\\\"nameSub\\\":\\\"ECE 380\\\",\\\"id\\\":25,\\\"credits\\\":3,\\\"nameCanonical\\\":\\\"\\\"},{\\\"curriculum_requisites\\\":[{\\\"source_id\\\":25,\\\"target_id\\\":26,\\\"type\\\":\\\"CurriculumCorequisite\\\"}],\\\"name\\\":\\\" \\\",\\\"metrics\\\":{\\\"centrality\\\":0,\\\"complexity\\\":6.0,\\\"blocking factor\\\":0,\\\"delay factor\\\":6.0},\\\"nameSub\\\":\\\"ECE 381\\\",\\\"id\\\":26,\\\"credits\\\":1,\\\"nameCanonical\\\":\\\"\\\"},{\\\"curriculum_requisites\\\":[{\\\"source_id\\\":11,\\\"target_id\\\":27,\\\"type\\\":\\\"CurriculumPrerequisite\\\"}],\\\"name\\\":\\\" \\\",\\\"metrics\\\":{\\\"centrality\\\":40,\\\"complexity\\\":12.0,\\\"blocking factor\\\":6,\\\"delay factor\\\":6.0},\\\"nameSub\\\":\\\"ECE 426\\\",\\\"id\\\":27,\\\"credits\\\":3,\\\"nameCanonical\\\":\\\"\\\"},{\\\"curriculum_requisites\\\":[{\\\"source_id\\\":27,\\\"target_id\\\":28,\\\"type\\\":\\\"CurriculumCorequisite\\\"},{\\\"source_id\\\":12,\\\"target_id\\\":28,\\\"type\\\":\\\"CurriculumPrerequisite\\\"}],\\\"name\\\":\\\" \\\",\\\"metrics\\\":{\\\"centrality\\\":44,\\\"complexity\\\":11.0,\\\"blocking factor\\\":5,\\\"delay factor\\\":6.0},\\\"nameSub\\\":\\\"ECE 427\\\",\\\"id\\\":28,\\\"credits\\\":1,\\\"nameCanonical\\\":\\\"\\\"}],\\\"id\\\":5},{\\\"name\\\":\\\"Term 6\\\",\\\"curriculum_items\\\":[{\\\"curriculum_requisites\\\":[{\\\"source_id\\\":23,\\\"target_id\\\":29,\\\"type\\\":\\\"CurriculumPrerequisite\\\"},{\\\"source_id\\\":14,\\\"target_id\\\":29,\\\"type\\\":\\\"CurriculumPrerequisite\\\"},{\\\"source_id\\\":20,\\\"target_id\\\":29,\\\"type\\\":\\\"CurriculumPrerequisite\\\"}],\\\"name\\\":\\\" \\\",\\\"metrics\\\":{\\\"centrality\\\":82,\\\"complexity\\\":12.0,\\\"blocking factor\\\":3,\\\"delay factor\\\":9.0},\\\"nameSub\\\":\\\"ECE 302\\\",\\\"id\\\":29,\\\"credits\\\":3,\\\"nameCanonical\\\":\\\"\\\"},{\\\"curriculum_requisites\\\":[{\\\"source_id\\\":29,\\\"target_id\\\":30,\\\"type\\\":\\\"CurriculumCorequisite\\\"}],\\\"name\\\":\\\" \\\",\\\"metrics\\\":{\\\"centrality\\\":0,\\\"complexity\\\":8.0,\\\"blocking factor\\\":0,\\\"delay factor\\\":8.0},\\\"nameSub\\\":\\\"ECE 303\\\",\\\"id\\\":30,\\\"credits\\\":1,\\\"nameCanonical\\\":\\\"\\\"},{\\\"curriculum_requisites\\\":[{\\\"source_id\\\":18,\\\"target_id\\\":31,\\\"type\\\":\\\"CurriculumPrerequisite\\\"}],\\\"name\\\":\\\" \\\",\\\"metrics\\\":{\\\"centrality\\\":53,\\\"complexity\\\":14.0,\\\"blocking factor\\\":4,\\\"delay factor\\\":10.0},\\\"nameSub\\\":\\\"ECE 330\\\",\\\"id\\\":31,\\\"credits\\\":3,\\\"nameCanonical\\\":\\\"\\\"},{\\\"curriculum_requisites\\\":[{\\\"source_id\\\":31,\\\"target_id\\\":32,\\\"type\\\":\\\"CurriculumCorequisite\\\"},{\\\"source_id\\\":19,\\\"target_id\\\":32,\\\"type\\\":\\\"CurriculumPrerequisite\\\"},{\\\"source_id\\\":18,\\\"target_id\\\":32,\\\"type\\\":\\\"CurriculumPrerequisite\\\"}],\\\"name\\\":\\\" \\\",\\\"metrics\\\":{\\\"centrality\\\":81,\\\"complexity\\\":13.0,\\\"blocking factor\\\":3,\\\"delay factor\\\":10.0},\\\"nameSub\\\":\\\"ECE 331\\\",\\\"id\\\":32,\\\"credits\\\":1,\\\"nameCanonical\\\":\\\"\\\"},{\\\"curriculum_requisites\\\":[{\\\"source_id\\\":35,\\\"target_id\\\":33,\\\"type\\\":\\\"CurriculumCorequisite\\\"},{\\\"source_id\\\":34,\\\"target_id\\\":33,\\\"type\\\":\\\"CurriculumCorequisite\\\"}],\\\"name\\\":\\\" \\\",\\\"metrics\\\":{\\\"centrality\\\":0,\\\"complexity\\\":6.0,\\\"blocking factor\\\":0,\\\"delay factor\\\":6.0},\\\"nameSub\\\":\\\"ECE 420\\\",\\\"id\\\":33,\\\"credits\\\":2,\\\"nameCanonical\\\":\\\"\\\"},{\\\"curriculum_requisites\\\":[{\\\"source_id\\\":27,\\\"target_id\\\":34,\\\"type\\\":\\\"CurriculumPrerequisite\\\"},{\\\"source_id\\\":28,\\\"target_id\\\":34,\\\"type\\\":\\\"CurriculumPrerequisite\\\"}],\\\"name\\\":\\\" \\\",\\\"metrics\\\":{\\\"centrality\\\":48,\\\"complexity\\\":10.0,\\\"blocking factor\\\":4,\\\"delay factor\\\":6.0},\\\"nameSub\\\":\\\"ECE 428R\\\",\\\"id\\\":34,\\\"credits\\\":3,\\\"nameCanonical\\\":\\\"\\\"},{\\\"curriculum_requisites\\\":[{\\\"source_id\\\":34,\\\"target_id\\\":35,\\\"type\\\":\\\"CurriculumCorequisite\\\"},{\\\"source_id\\\":27,\\\"target_id\\\":35,\\\"type\\\":\\\"CurriculumPrerequisite\\\"},{\\\"source_id\\\":28,\\\"target_id\\\":35,\\\"type\\\":\\\"CurriculumPrerequisite\\\"}],\\\"name\\\":\\\" \\\",\\\"metrics\\\":{\\\"centrality\\\":31,\\\"complexity\\\":7.0,\\\"blocking factor\\\":1,\\\"delay factor\\\":6.0},\\\"nameSub\\\":\\\"ECE 429\\\",\\\"id\\\":35,\\\"credits\\\":1,\\\"nameCanonical\\\":\\\"\\\"},{\\\"curriculum_requisites\\\":[{\\\"source_id\\\":23,\\\"target_id\\\":36,\\\"type\\\":\\\"CurriculumPrerequisite\\\"}],\\\"name\\\":\\\" \\\",\\\"metrics\\\":{\\\"centrality\\\":44,\\\"complexity\\\":10.0,\\\"blocking factor\\\":2,\\\"delay factor\\\":8.0},\\\"nameSub\\\":\\\"ECE 466\\\",\\\"id\\\":36,\\\"credits\\\":3,\\\"nameCanonical\\\":\\\"\\\"}],\\\"id\\\":6},{\\\"name\\\":\\\"Term 7\\\",\\\"curriculum_items\\\":[{\\\"curriculum_requisites\\\":[{\\\"source_id\\\":25,\\\"target_id\\\":37,\\\"type\\\":\\\"CurriculumPrerequisite\\\"}],\\\"name\\\":\\\" \\\",\\\"metrics\\\":{\\\"centrality\\\":7,\\\"complexity\\\":8.0,\\\"blocking factor\\\":1,\\\"delay factor\\\":7.0},\\\"nameSub\\\":\\\"ECE 358\\\",\\\"id\\\":37,\\\"credits\\\":3,\\\"nameCanonical\\\":\\\"\\\"},{\\\"curriculum_requisites\\\":[{\\\"source_id\\\":25,\\\"target_id\\\":38,\\\"type\\\":\\\"CurriculumPrerequisite\\\"},{\\\"source_id\\\":34,\\\"target_id\\\":38,\\\"type\\\":\\\"CurriculumPrerequisite\\\"},{\\\"source_id\\\":29,\\\"target_id\\\":38,\\\"type\\\":\\\"CurriculumPrerequisite\\\"},{\\\"source_id\\\":39,\\\"target_id\\\":38,\\\"type\\\":\\\"CurriculumCorequisite\\\"}],\\\"name\\\":\\\" \\\",\\\"metrics\\\":{\\\"centrality\\\":174,\\\"complexity\\\":11.0,\\\"blocking factor\\\":1,\\\"delay factor\\\":10.0},\\\"nameSub\\\":\\\"ECE 402\\\",\\\"id\\\":38,\\\"credits\\\":2,\\\"nameCanonical\\\":\\\"\\\"},{\\\"curriculum_requisites\\\":[{\\\"source_id\\\":31,\\\"target_id\\\":39,\\\"type\\\":\\\"CurriculumPrerequisite\\\"},{\\\"source_id\\\":32,\\\"target_id\\\":39,\\\"type\\\":\\\"CurriculumPrerequisite\\\"}],\\\"name\\\":\\\" \\\",\\\"metrics\\\":{\\\"centrality\\\":106,\\\"complexity\\\":12.0,\\\"blocking factor\\\":2,\\\"delay factor\\\":10.0},\\\"nameSub\\\":\\\"ECE 430\\\",\\\"id\\\":39,\\\"credits\\\":3,\\\"nameCanonical\\\":\\\"\\\"},{\\\"curriculum_requisites\\\":[{\\\"source_id\\\":23,\\\"target_id\\\":40,\\\"type\\\":\\\"CurriculumPrerequisite\\\"}],\\\"name\\\":\\\" \\\",\\\"metrics\\\":{\\\"centrality\\\":0,\\\"complexity\\\":7.0,\\\"blocking factor\\\":0,\\\"delay factor\\\":7.0},\\\"nameSub\\\":\\\"ECE 466\\\",\\\"id\\\":40,\\\"credits\\\":3,\\\"nameCanonical\\\":\\\"\\\"},{\\\"curriculum_requisites\\\":[],\\\"name\\\":\\\" \\\",\\\"metrics\\\":{\\\"centrality\\\":0,\\\"complexity\\\":1.0,\\\"blocking factor\\\":0,\\\"delay factor\\\":1.0},\\\"nameSub\\\":\\\"ANCH 308\\\",\\\"id\\\":41,\\\"credits\\\":3,\\\"nameCanonical\\\":\\\"\\\"},{\\\"curriculum_requisites\\\":[],\\\"name\\\":\\\" \\\",\\\"metrics\\\":{\\\"centrality\\\":0,\\\"complexity\\\":1.0,\\\"blocking factor\\\":0,\\\"delay factor\\\":1.0},\\\"nameSub\\\":\\\"DISC 300\\\",\\\"id\\\":42,\\\"credits\\\":3,\\\"nameCanonical\\\":\\\"\\\"}],\\\"id\\\":7},{\\\"name\\\":\\\"Term 8\\\",\\\"curriculum_items\\\":[{\\\"curriculum_requisites\\\":[],\\\"name\\\":\\\" \\\",\\\"metrics\\\":{\\\"centrality\\\":0,\\\"complexity\\\":1.0,\\\"blocking factor\\\":0,\\\"delay factor\\\":1.0},\\\"nameSub\\\":\\\"FOCUS A\\\",\\\"id\\\":43,\\\"credits\\\":3,\\\"nameCanonical\\\":\\\"\\\"},{\\\"curriculum_requisites\\\":[],\\\"name\\\":\\\" \\\",\\\"metrics\\\":{\\\"centrality\\\":0,\\\"complexity\\\":1.0,\\\"blocking factor\\\":0,\\\"delay factor\\\":1.0},\\\"nameSub\\\":\\\"FOCUS B\\\",\\\"id\\\":44,\\\"credits\\\":3,\\\"nameCanonical\\\":\\\"\\\"},{\\\"curriculum_requisites\\\":[{\\\"source_id\\\":38,\\\"target_id\\\":45,\\\"type\\\":\\\"CurriculumPrerequisite\\\"}],\\\"name\\\":\\\" \\\",\\\"metrics\\\":{\\\"centrality\\\":0,\\\"complexity\\\":10.0,\\\"blocking factor\\\":0,\\\"delay factor\\\":10.0},\\\"nameSub\\\":\\\"ECE 403\\\",\\\"id\\\":45,\\\"credits\\\":1,\\\"nameCanonical\\\":\\\"\\\"},{\\\"curriculum_requisites\\\":[{\\\"source_id\\\":37,\\\"target_id\\\":46,\\\"type\\\":\\\"CurriculumPrerequisite\\\"},{\\\"source_id\\\":36,\\\"target_id\\\":46,\\\"type\\\":\\\"CurriculumPrerequisite\\\"}],\\\"name\\\":\\\" \\\",\\\"metrics\\\":{\\\"centrality\\\":0,\\\"complexity\\\":8.0,\\\"blocking factor\\\":0,\\\"delay factor\\\":8.0},\\\"nameSub\\\":\\\"ECE 467\\\",\\\"id\\\":46,\\\"credits\\\":3,\\\"nameCanonical\\\":\\\"\\\"},{\\\"curriculum_requisites\\\":[{\\\"source_id\\\":36,\\\"target_id\\\":47,\\\"type\\\":\\\"CurriculumPrerequisite\\\"}],\\\"name\\\":\\\" \\\",\\\"metrics\\\":{\\\"centrality\\\":0,\\\"complexity\\\":8.0,\\\"blocking factor\\\":0,\\\"delay factor\\\":8.0},\\\"nameSub\\\":\\\"ECE 472\\\",\\\"id\\\":47,\\\"credits\\\":3,\\\"nameCanonical\\\":\\\"\\\"}],\\\"id\\\":8}],\\\"institution\\\":\\\"\\\"}},\\\"*\\\"); window.removeEventListener(\\\"message\\\",window.messageReceived); window.messageReceived=(function (event){return (event.data.curriculum!==undefined) ? (WebIO.setval({\\\"name\\\":\\\"curriculum-data\\\",\\\"scope\\\":\\\"8175409242315634414\\\",\\\"id\\\":\\\"1168602708386682813\\\",\\\"type\\\":\\\"observable\\\"},event.data.curriculum)) : undefined}); return window.addEventListener(\\\"message\\\",window.messageReceived)})\")),:style => Dict(:padding => \"0\",:height => \"100vh\",:margin => \"0\",:border => \"none\",:width => \"100%\"))), Dict{String,Tuple{Observables.AbstractObservable,Union{Nothing, Bool}}}(\"curriculum-data\" => (Observable{Dict{String,Any}} with 1 listeners. Value:\n",
       "Dict{String,Any}(\"options\" => Dict{String,Any}(\"hideTerms\" => false,\"edit\" => false),\"curriculum\" => Dict{String,Any}(\"name\" => \"Curriculum\",\"dp_name\" => \"University of Missouri--Kansas City.csv\",\"curriculum_terms\" => Dict{String,Any}[Dict(\"name\" => \"Term 1\",\"curriculum_items\" => Dict{String,Any}[Dict(\"curriculum_requisites\" => Dict{String,Any}[],\"name\" => \" \",\"metrics\" => Dict{String,Any}(\"centrality\" => 0,\"complexity\" => 1.0,\"blocking factor\" => 0,\"delay factor\" => 1.0),\"nameSub\" => \"ANCH 150\",\"id\" => 1,\"credits\" => 3,\"nameCanonical\" => \"\"), Dict(\"curriculum_requisites\" => Dict{String,Any}[],\"name\" => \" \",\"metrics\" => Dict{String,Any}(\"centrality\" => 0,\"complexity\" => 1.0,\"blocking factor\" => 0,\"delay factor\" => 1.0),\"nameSub\" => \"CHEM 211\",\"id\" => 2,\"credits\" => 5,\"nameCanonical\" => \"\"), Dict(\"curriculum_requisites\" => Dict{String,Any}[],\"name\" => \" \",\"metrics\" => Dict{String,Any}(\"centrality\" => 0,\"complexity\" => 1.0,\"blocking factor\" => 0,\"delay factor\" => 1.0),\"nameSub\" => \"DISC 100\",\"id\" => 3,\"credits\" => 3,\"nameCanonical\" => \"\"), Dict(\"curriculum_requisites\" => Dict{String,Any}[],\"name\" => \" \",\"metrics\" => Dict{String,Any}(\"centrality\" => 0,\"complexity\" => 1.0,\"blocking factor\" => 0,\"delay factor\" => 1.0),\"nameSub\" => \"ECE 130\",\"id\" => 4,\"credits\" => 3,\"nameCanonical\" => \"\"), Dict(\"curriculum_requisites\" => Dict{String,Any}[],\"name\" => \" \",\"metrics\" => Dict{String,Any}(\"centrality\" => 0,\"complexity\" => 37.0,\"blocking factor\" => 27,\"delay factor\" => 10.0),\"nameSub\" => \"MATH 210\",\"id\" => 5,\"credits\" => 4,\"nameCanonical\" => \"\")],\"id\" => 1), Dict(\"name\" => \"Term 2\",\"curriculum_items\" => Dict{String,Any}[Dict(\"curriculum_requisites\" => Dict{String,Any}[Dict(\"source_id\" => 5,\"target_id\" => 6,\"type\" => \"CurriculumPrerequisite\")],\"name\" => \" \",\"metrics\" => Dict{String,Any}(\"centrality\" => 236,\"complexity\" => 34.0,\"blocking factor\" => 24,\"delay factor\" => 10.0),\"nameSub\" => \"MATH 220\",\"id\" => 6,\"credits\" => 4,\"nameCanonical\" => \"\"), Dict(\"curriculum_requisites\" => Dict{String,Any}[Dict(\"source_id\" => 5,\"target_id\" => 7,\"type\" => \"CurriculumPrerequisite\")],\"name\" => \" \",\"metrics\" => Dict{String,Any}(\"centrality\" => 99,\"complexity\" => 27.0,\"blocking factor\" => 18,\"delay factor\" => 9.0),\"nameSub\" => \"PHYS 240\",\"id\" => 7,\"credits\" => 5,\"nameCanonical\" => \"\"), Dict(\"curriculum_requisites\" => Dict{String,Any}[],\"name\" => \" \",\"metrics\" => Dict{String,Any}(\"centrality\" => 0,\"complexity\" => 1.0,\"blocking factor\" => 0,\"delay factor\" => 1.0),\"nameSub\" => \"ANCH 200\",\"id\" => 8,\"credits\" => 3,\"nameCanonical\" => \"\"), Dict(\"curriculum_requisites\" => Dict{String,Any}[],\"name\" => \" \",\"metrics\" => Dict{String,Any}(\"centrality\" => 0,\"complexity\" => 1.0,\"blocking factor\" => 0,\"delay factor\" => 1.0),\"nameSub\" => \"DISC 200\",\"id\" => 9,\"credits\" => 3,\"nameCanonical\" => \"\")],\"id\" => 2), Dict(\"name\" => \"Term 3\",\"curriculum_items\" => Dict{String,Any}[Dict(\"curriculum_requisites\" => Dict{String,Any}[Dict(\"source_id\" => 5,\"target_id\" => 10,\"type\" => \"CurriculumPrerequisite\")],\"name\" => \" \",\"metrics\" => Dict{String,Any}(\"centrality\" => 3,\"complexity\" => 4.0,\"blocking factor\" => 1,\"delay factor\" => 3.0),\"nameSub\" => \"ECE 216\",\"id\" => 10,\"credits\" => 4,\"nameCanonical\" => \"\"), Dict(\"curriculum_requisites\" => Dict{String,Any}[],\"name\" => \" \",\"metrics\" => Dict{String,Any}(\"centrality\" => 0,\"complexity\" => 16.0,\"blocking factor\" => 10,\"delay factor\" => 6.0),\"nameSub\" => \"ECE 226\",\"id\" => 11,\"credits\" => 3,\"nameCanonical\" => \"\"), Dict(\"curriculum_requisites\" => Dict{String,Any}[Dict(\"source_id\" => 11,\"target_id\" => 12,\"type\" => \"CurriculumCorequisite\")],\"name\" => \" \",\"metrics\" => Dict{String,Any}(\"centrality\" => 29,\"complexity\" => 14.0,\"blocking factor\" => 8,\"delay factor\" => 6.0),\"nameSub\" => \"ECE 227\",\"id\" => 12,\"credits\" => 1,\"nameCanonical\" => \"\"), Dict(\"curriculum_requisites\" => Dict{String,Any}[Dict(\"source_id\" => 6,\"target_id\" => 13,\"type\" => \"CurriculumPrerequisite\")],\"name\" => \" \",\"metrics\" => Dict{String,Any}(\"centrality\" => 134,\"complexity\" => 31.0,\"blocking factor\" => 21,\"delay factor\" => 10.0),\"nameSub\" => \"ECE 241\",\"id\" => 13,\"credits\" => 3,\"nameCanonical\" => \"\"), Dict(\"curriculum_requisites\" => Dict{String,Any}[Dict(\"source_id\" => 7,\"target_id\" => 14,\"type\" => \"CurriculumPrerequisite\"), Dict(\"source_id\" => 6,\"target_id\" => 14,\"type\" => \"CurriculumPrerequisite\")],\"name\" => \" \",\"metrics\" => Dict{String,Any}(\"centrality\" => 192,\"complexity\" => 25.0,\"blocking factor\" => 16,\"delay factor\" => 9.0),\"nameSub\" => \"PHYS 250\",\"id\" => 14,\"credits\" => 5,\"nameCanonical\" => \"\")],\"id\" => 3), Dict(\"name\" => \"Term 4\",\"curriculum_items\" => Dict{String,Any}[Dict(\"curriculum_requisites\" => Dict{String,Any}[Dict(\"source_id\" => 11,\"target_id\" => 15,\"type\" => \"CurriculumPrerequisite\"), Dict(\"source_id\" => 12,\"target_id\" => 15,\"type\" => \"CurriculumPrerequisite\")],\"name\" => \" \",\"metrics\" => Dict{String,Any}(\"centrality\" => 7,\"complexity\" => 5.0,\"blocking factor\" => 1,\"delay factor\" => 4.0),\"nameSub\" => \"ECE 228\",\"id\" => 15,\"credits\" => 3,\"nameCanonical\" => \"\"), Dict(\"curriculum_requisites\" => Dict{String,Any}[Dict(\"source_id\" => 11,\"target_id\" => 16,\"type\" => \"CurriculumPrerequisite\"), Dict(\"source_id\" => 15,\"target_id\" => 16,\"type\" => \"CurriculumCorequisite\"), Dict(\"source_id\" => 12,\"target_id\" => 16,\"type\" => \"CurriculumPrerequisite\")],\"name\" => \" \",\"metrics\" => Dict{String,Any}(\"centrality\" => 0,\"complexity\" => 4.0,\"blocking factor\" => 0,\"delay factor\" => 4.0),\"nameSub\" => \"ECE 229\",\"id\" => 16,\"credits\" => 1,\"nameCanonical\" => \"\"), Dict(\"curriculum_requisites\" => Dict{String,Any}[Dict(\"source_id\" => 7,\"target_id\" => 17,\"type\" => \"CurriculumPrerequisite\"), Dict(\"source_id\" => 6,\"target_id\" => 17,\"type\" => \"CurriculumPrerequisite\")],\"name\" => \" \",\"metrics\" => Dict{String,Any}(\"centrality\" => 0,\"complexity\" => 3.0,\"blocking factor\" => 0,\"delay factor\" => 3.0),\"nameSub\" => \"ECE 250\",\"id\" => 17,\"credits\" => 3,\"nameCanonical\" => \"\"), Dict(\"curriculum_requisites\" => Dict{String,Any}[Dict(\"source_id\" => 14,\"target_id\" => 18,\"type\" => \"CurriculumPrerequisite\"), Dict(\"source_id\" => 20,\"target_id\" => 18,\"type\" => \"CurriculumCorequisite\")],\"name\" => \" \",\"metrics\" => Dict{String,Any}(\"centrality\" => 254,\"complexity\" => 24.0,\"blocking factor\" => 14,\"delay factor\" => 10.0),\"nameSub\" => \"ECE 276\",\"id\" => 18,\"credits\" => 3,\"nameCanonical\" => \"\"), Dict(\"curriculum_requisites\" => Dict{String,Any}[Dict(\"source_id\" => 18,\"target_id\" => 19,\"type\" => \"CurriculumCorequisite\")],\"name\" => \" \",\"metrics\" => Dict{String,Any}(\"centrality\" => 47,\"complexity\" => 15.0,\"blocking factor\" => 5,\"delay factor\" => 10.0),\"nameSub\" => \"ECE 277\",\"id\" => 19,\"credits\" => 1,\"nameCanonical\" => \"\"), Dict(\"curriculum_requisites\" => Dict{String,Any}[Dict(\"source_id\" => 13,\"target_id\" => 20,\"type\" => \"CurriculumPrerequisite\")],\"name\" => \" \",\"metrics\" => Dict{String,Any}(\"centrality\" => 130,\"complexity\" => 29.0,\"blocking factor\" => 19,\"delay factor\" => 10.0),\"nameSub\" => \"ECE 341R\",\"id\" => 20,\"credits\" => 3,\"nameCanonical\" => \"\"), Dict(\"curriculum_requisites\" => Dict{String,Any}[Dict(\"source_id\" => 13,\"target_id\" => 21,\"type\" => \"CurriculumPrerequisite\"), Dict(\"source_id\" => 10,\"target_id\" => 21,\"type\" => \"CurriculumPrerequisite\"), Dict(\"source_id\" => 6,\"target_id\" => 21,\"type\" => \"CurriculumPrerequisite\")],\"name\" => \" \",\"metrics\" => Dict{String,Any}(\"centrality\" => 0,\"complexity\" => 4.0,\"blocking factor\" => 0,\"delay factor\" => 4.0),\"nameSub\" => \"CS 394R\",\"id\" => 21,\"credits\" => 3,\"nameCanonical\" => \"\")],\"id\" => 4), Dict(\"name\" => \"Term 5\",\"curriculum_items\" => Dict{String,Any}[Dict(\"curriculum_requisites\" => Dict{String,Any}[Dict(\"source_id\" => 14,\"target_id\" => 22,\"type\" => \"CurriculumPrerequisite\"), Dict(\"source_id\" => 20,\"target_id\" => 22,\"type\" => \"CurriculumPrerequisite\")],\"name\" => \" \",\"metrics\" => Dict{String,Any}(\"centrality\" => 0,\"complexity\" => 5.0,\"blocking factor\" => 0,\"delay factor\" => 5.0),\"nameSub\" => \"ECE 334\",\"id\" => 22,\"credits\" => 3,\"nameCanonical\" => \"\"), Dict(\"curriculum_requisites\" => Dict{String,Any}[Dict(\"source_id\" => 18,\"target_id\" => 23,\"type\" => \"CurriculumPrerequisite\")],\"name\" => \" \",\"metrics\" => Dict{String,Any}(\"centrality\" => 129,\"complexity\" => 18.0,\"blocking factor\" => 9,\"delay factor\" => 9.0),\"nameSub\" => \"ECE 376\",\"id\" => 23,\"credits\" => 3,\"nameCanonical\" => \"\"), Dict(\"curriculum_requisites\" => Dict{String,Any}[Dict(\"source_id\" => 23,\"target_id\" => 24,\"type\" => \"CurriculumCorequisite\"), Dict(\"source_id\" => 19,\"target_id\" => 24,\"type\" => \"CurriculumPrerequisite\")],\"name\" => \" \",\"metrics\" => Dict{String,Any}(\"centrality\" => 0,\"complexity\" => 7.0,\"blocking factor\" => 0,\"delay factor\" => 7.0),\"nameSub\" => \"ECE 377\",\"id\" => 24,\"credits\" => 1,\"nameCanonical\" => \"\"), Dict(\"curriculum_requisites\" => Dict{String,Any}[Dict(\"source_id\" => 20,\"target_id\" => 25,\"type\" => \"CurriculumPrerequisite\")],\"name\" => \" \",\"metrics\" => Dict{String,Any}(\"centrality\" => 20,\"complexity\" => 12.0,\"blocking factor\" => 5,\"delay factor\" => 7.0),\"nameSub\" => \"ECE 380\",\"id\" => 25,\"credits\" => 3,\"nameCanonical\" => \"\"), Dict(\"curriculum_requisites\" => Dict{String,Any}[Dict(\"source_id\" => 25,\"target_id\" => 26,\"type\" => \"CurriculumCorequisite\")],\"name\" => \" \",\"metrics\" => Dict{String,Any}(\"centrality\" => 0,\"complexity\" => 6.0,\"blocking factor\" => 0,\"delay factor\" => 6.0),\"nameSub\" => \"ECE 381\",\"id\" => 26,\"credits\" => 1,\"nameCanonical\" => \"\"), Dict(\"curriculum_requisites\" => Dict{String,Any}[Dict(\"source_id\" => 11,\"target_id\" => 27,\"type\" => \"CurriculumPrerequisite\")],\"name\" => \" \",\"metrics\" => Dict{String,Any}(\"centrality\" => 40,\"complexity\" => 12.0,\"blocking factor\" => 6,\"delay factor\" => 6.0),\"nameSub\" => \"ECE 426\",\"id\" => 27,\"credits\" => 3,\"nameCanonical\" => \"\"), Dict(\"curriculum_requisites\" => Dict{String,Any}[Dict(\"source_id\" => 27,\"target_id\" => 28,\"type\" => \"CurriculumCorequisite\"), Dict(\"source_id\" => 12,\"target_id\" => 28,\"type\" => \"CurriculumPrerequisite\")],\"name\" => \" \",\"metrics\" => Dict{String,Any}(\"centrality\" => 44,\"complexity\" => 11.0,\"blocking factor\" => 5,\"delay factor\" => 6.0),\"nameSub\" => \"ECE 427\",\"id\" => 28,\"credits\" => 1,\"nameCanonical\" => \"\")],\"id\" => 5), Dict(\"name\" => \"Term 6\",\"curriculum_items\" => Dict{String,Any}[Dict(\"curriculum_requisites\" => Dict{String,Any}[Dict(\"source_id\" => 23,\"target_id\" => 29,\"type\" => \"CurriculumPrerequisite\"), Dict(\"source_id\" => 14,\"target_id\" => 29,\"type\" => \"CurriculumPrerequisite\"), Dict(\"source_id\" => 20,\"target_id\" => 29,\"type\" => \"CurriculumPrerequisite\")],\"name\" => \" \",\"metrics\" => Dict{String,Any}(\"centrality\" => 82,\"complexity\" => 12.0,\"blocking factor\" => 3,\"delay factor\" => 9.0),\"nameSub\" => \"ECE 302\",\"id\" => 29,\"credits\" => 3,\"nameCanonical\" => \"\"), Dict(\"curriculum_requisites\" => Dict{String,Any}[Dict(\"source_id\" => 29,\"target_id\" => 30,\"type\" => \"CurriculumCorequisite\")],\"name\" => \" \",\"metrics\" => Dict{String,Any}(\"centrality\" => 0,\"complexity\" => 8.0,\"blocking factor\" => 0,\"delay factor\" => 8.0),\"nameSub\" => \"ECE 303\",\"id\" => 30,\"credits\" => 1,\"nameCanonical\" => \"\"), Dict(\"curriculum_requisites\" => Dict{String,Any}[Dict(\"source_id\" => 18,\"target_id\" => 31,\"type\" => \"CurriculumPrerequisite\")],\"name\" => \" \",\"metrics\" => Dict{String,Any}(\"centrality\" => 53,\"complexity\" => 14.0,\"blocking factor\" => 4,\"delay factor\" => 10.0),\"nameSub\" => \"ECE 330\",\"id\" => 31,\"credits\" => 3,\"nameCanonical\" => \"\"), Dict(\"curriculum_requisites\" => Dict{String,Any}[Dict(\"source_id\" => 31,\"target_id\" => 32,\"type\" => \"CurriculumCorequisite\"), Dict(\"source_id\" => 19,\"target_id\" => 32,\"type\" => \"CurriculumPrerequisite\"), Dict(\"source_id\" => 18,\"target_id\" => 32,\"type\" => \"CurriculumPrerequisite\")],\"name\" => \" \",\"metrics\" => Dict{String,Any}(\"centrality\" => 81,\"complexity\" => 13.0,\"blocking factor\" => 3,\"delay factor\" => 10.0),\"nameSub\" => \"ECE 331\",\"id\" => 32,\"credits\" => 1,\"nameCanonical\" => \"\"), Dict(\"curriculum_requisites\" => Dict{String,Any}[Dict(\"source_id\" => 35,\"target_id\" => 33,\"type\" => \"CurriculumCorequisite\"), Dict(\"source_id\" => 34,\"target_id\" => 33,\"type\" => \"CurriculumCorequisite\")],\"name\" => \" \",\"metrics\" => Dict{String,Any}(\"centrality\" => 0,\"complexity\" => 6.0,\"blocking factor\" => 0,\"delay factor\" => 6.0),\"nameSub\" => \"ECE 420\",\"id\" => 33,\"credits\" => 2,\"nameCanonical\" => \"\"), Dict(\"curriculum_requisites\" => Dict{String,Any}[Dict(\"source_id\" => 27,\"target_id\" => 34,\"type\" => \"CurriculumPrerequisite\"), Dict(\"source_id\" => 28,\"target_id\" => 34,\"type\" => \"CurriculumPrerequisite\")],\"name\" => \" \",\"metrics\" => Dict{String,Any}(\"centrality\" => 48,\"complexity\" => 10.0,\"blocking factor\" => 4,\"delay factor\" => 6.0),\"nameSub\" => \"ECE 428R\",\"id\" => 34,\"credits\" => 3,\"nameCanonical\" => \"\"), Dict(\"curriculum_requisites\" => Dict{String,Any}[Dict(\"source_id\" => 34,\"target_id\" => 35,\"type\" => \"CurriculumCorequisite\"), Dict(\"source_id\" => 27,\"target_id\" => 35,\"type\" => \"CurriculumPrerequisite\"), Dict(\"source_id\" => 28,\"target_id\" => 35,\"type\" => \"CurriculumPrerequisite\")],\"name\" => \" \",\"metrics\" => Dict{String,Any}(\"centrality\" => 31,\"complexity\" => 7.0,\"blocking factor\" => 1,\"delay factor\" => 6.0),\"nameSub\" => \"ECE 429\",\"id\" => 35,\"credits\" => 1,\"nameCanonical\" => \"\"), Dict(\"curriculum_requisites\" => Dict{String,Any}[Dict(\"source_id\" => 23,\"target_id\" => 36,\"type\" => \"CurriculumPrerequisite\")],\"name\" => \" \",\"metrics\" => Dict{String,Any}(\"centrality\" => 44,\"complexity\" => 10.0,\"blocking factor\" => 2,\"delay factor\" => 8.0),\"nameSub\" => \"ECE 466\",\"id\" => 36,\"credits\" => 3,\"nameCanonical\" => \"\")],\"id\" => 6), Dict(\"name\" => \"Term 7\",\"curriculum_items\" => Dict{String,Any}[Dict(\"curriculum_requisites\" => Dict{String,Any}[Dict(\"source_id\" => 25,\"target_id\" => 37,\"type\" => \"CurriculumPrerequisite\")],\"name\" => \" \",\"metrics\" => Dict{String,Any}(\"centrality\" => 7,\"complexity\" => 8.0,\"blocking factor\" => 1,\"delay factor\" => 7.0),\"nameSub\" => \"ECE 358\",\"id\" => 37,\"credits\" => 3,\"nameCanonical\" => \"\"), Dict(\"curriculum_requisites\" => Dict{String,Any}[Dict(\"source_id\" => 25,\"target_id\" => 38,\"type\" => \"CurriculumPrerequisite\"), Dict(\"source_id\" => 34,\"target_id\" => 38,\"type\" => \"CurriculumPrerequisite\"), Dict(\"source_id\" => 29,\"target_id\" => 38,\"type\" => \"CurriculumPrerequisite\"), Dict(\"source_id\" => 39,\"target_id\" => 38,\"type\" => \"CurriculumCorequisite\")],\"name\" => \" \",\"metrics\" => Dict{String,Any}(\"centrality\" => 174,\"complexity\" => 11.0,\"blocking factor\" => 1,\"delay factor\" => 10.0),\"nameSub\" => \"ECE 402\",\"id\" => 38,\"credits\" => 2,\"nameCanonical\" => \"\"), Dict(\"curriculum_requisites\" => Dict{String,Any}[Dict(\"source_id\" => 31,\"target_id\" => 39,\"type\" => \"CurriculumPrerequisite\"), Dict(\"source_id\" => 32,\"target_id\" => 39,\"type\" => \"CurriculumPrerequisite\")],\"name\" => \" \",\"metrics\" => Dict{String,Any}(\"centrality\" => 106,\"complexity\" => 12.0,\"blocking factor\" => 2,\"delay factor\" => 10.0),\"nameSub\" => \"ECE 430\",\"id\" => 39,\"credits\" => 3,\"nameCanonical\" => \"\"), Dict(\"curriculum_requisites\" => Dict{String,Any}[Dict(\"source_id\" => 23,\"target_id\" => 40,\"type\" => \"CurriculumPrerequisite\")],\"name\" => \" \",\"metrics\" => Dict{String,Any}(\"centrality\" => 0,\"complexity\" => 7.0,\"blocking factor\" => 0,\"delay factor\" => 7.0),\"nameSub\" => \"ECE 466\",\"id\" => 40,\"credits\" => 3,\"nameCanonical\" => \"\"), Dict(\"curriculum_requisites\" => Dict{String,Any}[],\"name\" => \" \",\"metrics\" => Dict{String,Any}(\"centrality\" => 0,\"complexity\" => 1.0,\"blocking factor\" => 0,\"delay factor\" => 1.0),\"nameSub\" => \"ANCH 308\",\"id\" => 41,\"credits\" => 3,\"nameCanonical\" => \"\"), Dict(\"curriculum_requisites\" => Dict{String,Any}[],\"name\" => \" \",\"metrics\" => Dict{String,Any}(\"centrality\" => 0,\"complexity\" => 1.0,\"blocking factor\" => 0,\"delay factor\" => 1.0),\"nameSub\" => \"DISC 300\",\"id\" => 42,\"credits\" => 3,\"nameCanonical\" => \"\")],\"id\" => 7), Dict(\"name\" => \"Term 8\",\"curriculum_items\" => Dict{String,Any}[Dict(\"curriculum_requisites\" => Dict{String,Any}[],\"name\" => \" \",\"metrics\" => Dict{String,Any}(\"centrality\" => 0,\"complexity\" => 1.0,\"blocking factor\" => 0,\"delay factor\" => 1.0),\"nameSub\" => \"FOCUS A\",\"id\" => 43,\"credits\" => 3,\"nameCanonical\" => \"\"), Dict(\"curriculum_requisites\" => Dict{String,Any}[],\"name\" => \" \",\"metrics\" => Dict{String,Any}(\"centrality\" => 0,\"complexity\" => 1.0,\"blocking factor\" => 0,\"delay factor\" => 1.0),\"nameSub\" => \"FOCUS B\",\"id\" => 44,\"credits\" => 3,\"nameCanonical\" => \"\"), Dict(\"curriculum_requisites\" => Dict{String,Any}[Dict(\"source_id\" => 38,\"target_id\" => 45,\"type\" => \"CurriculumPrerequisite\")],\"name\" => \" \",\"metrics\" => Dict{String,Any}(\"centrality\" => 0,\"complexity\" => 10.0,\"blocking factor\" => 0,\"delay factor\" => 10.0),\"nameSub\" => \"ECE 403\",\"id\" => 45,\"credits\" => 1,\"nameCanonical\" => \"\"), Dict(\"curriculum_requisites\" => Dict{String,Any}[Dict(\"source_id\" => 37,\"target_id\" => 46,\"type\" => \"CurriculumPrerequisite\"), Dict(\"source_id\" => 36,\"target_id\" => 46,\"type\" => \"CurriculumPrerequisite\")],\"name\" => \" \",\"metrics\" => Dict{String,Any}(\"centrality\" => 0,\"complexity\" => 8.0,\"blocking factor\" => 0,\"delay factor\" => 8.0),\"nameSub\" => \"ECE 467\",\"id\" => 46,\"credits\" => 3,\"nameCanonical\" => \"\"), Dict(\"curriculum_requisites\" => Dict{String,Any}[Dict(\"source_id\" => 36,\"target_id\" => 47,\"type\" => \"CurriculumPrerequisite\")],\"name\" => \" \",\"metrics\" => Dict{String,Any}(\"centrality\" => 0,\"complexity\" => 8.0,\"blocking factor\" => 0,\"delay factor\" => 8.0),\"nameSub\" => \"ECE 472\",\"id\" => 47,\"credits\" => 3,\"nameCanonical\" => \"\")],\"id\" => 8)],\"institution\" => \"\")), nothing)), Set{String}(), nothing, WebIO.Asset[], Dict{Any,Any}(), WebIO.ConnectionPool(Channel{Any}(sz_max:32,sz_curr:0), Set{WebIO.AbstractConnection}(), Base.GenericCondition{Base.AlwaysLockedST}(Base.InvasiveLinkedList{Task}(Task (runnable) @0x0000000112f2c910, Task (runnable) @0x0000000112f2c910), Base.AlwaysLockedST(1))), WebIO.JSString[])"
      ]
     },
     "execution_count": 3,
     "metadata": {
      "application/vnd.webio.node+json": {
       "kernelId": "cebc880b-810d-4b1b-b119-56d28929334f"
      }
     },
     "output_type": "execute_result"
    }
   ],
   "source": [
    "visualize(read_csv(\"./tier_bottom/University of Missouri--Kansas City.csv\"), notebook=true)"
   ]
  },
  {
   "cell_type": "markdown",
   "metadata": {},
   "source": [
    "Notice that the overall curricular complexity of the second degree plan is more than three times that of the first; however, the U.S. News & World Report ranking of the first school is much higher than that of the second.  The question we answer here is whether or not that relationship holds in general."
   ]
  },
  {
   "cell_type": "markdown",
   "metadata": {},
   "source": [
    "## Methology\n",
    "The most well-known rankings in higher education are conducted by the U.S. News & World Report. In this study we used the rankings provided by the U.S. News & World Report 2018 Best Undergraduate Engineering Programs survey as a proxy for program quality \\cite{BaBo:10,By:18}.  That is, for the purpose of this study, we assume that the \"best\" engineering programs are synonymous with the highest quality engineering programs.  We acknowledge the concerns that are routinely expressed concerning these rankings \\cite{}.  However, it should be noted that this study uses aggregations of schools with tiers, and the statistics associated with the aggregations.  Thus, the specific rankings of the schools within the tiers are irrelevant, all that matters is the tier in which a school is placed. Upon inspection of the schools within each tier, we believe that knowledgable and impartial observes would agree that the three tiers constructed in this study are highly correlated with the program quality.\n",
    "\n",
    "To appear on a U.S. News & World Report undergraduate engineering survey, a school must have at least one undergraduate engineering program that is accredited by ABET. Two surveys are conducted, one for schools whose highest engineering degree offered is a doctorate and another for schools whose highest engineering degree offered is a bachelor's or master's. For this study we consider the ranking provided by the former; that is, the ranking of doctoral institutions. This ranking is based solely on the peer assessment provided by deans and senior faculty members at doctoral institutions, and involves asking these survey participants to rate each program they are familiar with on a scale from 1 (marginal) to 5 (distinguished). Two peer assessment surveys are sent to each ABET-accredited engineering program at these schools, with a response rate of approximately 58%.  U.S. News & World Report uses the two most recent years' responses to calculate weighted average scores of programs, which determines the ranking. The U.S. News & World Report 2018 Best Undergraduate Engineering Programs rankings for doctoral institutions lists 205 schools, with a formal ranking designation given to the programs in the 1-177 range. Programs ranked lower than 177 are listed alphabetically and lumped into a ranking category. "
   ]
  },
  {
   "cell_type": "markdown",
   "metadata": {},
   "source": [
    "## Experimental Design\n",
    "The question of interest in this study is whether or not curricular complexity is related to program quality. In order to answer this question, we constructed an analysis of variance (ANOVA) experiment that involved partitioning the schools in the U.S. News & World Report 2018 Best Undergraduate Engineering Programs rankings according to their decile within the ranking. From these three groups were created as follows. A *top tier* of schools defined as those in the first decile of the ranking.  A *mid tier*, defined as the set of schools in the fifth and sixth deciles of the ranking that are equidistant from first to last ranked schools. Due to the large number of ties that occur in the middle of the ranking, this resulted in selecting only those schools tied for 82-nd and 99-nth in the ranking, for a total of 26 schools. A *bottom tier* of schools comprised of the schools ranked below 177, which spans approximately three deciles. The null hypothesis is:\n",
    "\n",
    "    \"There is no difference between the mean values of the curricular complexities of those schools belonging \n",
    "     to the top, mid and bottom tiers.\" \n",
    "\n",
    "The alternative hypothesis is then: \n",
    "\n",
    "    \"At least one of the curricular complexity mean values of a school tier differs significantly from the \n",
    "     means of the other two tiers.\"\n",
    "     \n",
    "Histograms showing the curricular complexity distributions for the random samples drawn from each of the three tiers are shown below."
   ]
  },
  {
   "cell_type": "code",
   "execution_count": 4,
   "metadata": {},
   "outputs": [],
   "source": [
    "tier_top_files = glob(\"*\", \"tier_top\")\n",
    "tier_middle_files = glob(\"*\", \"tier_middle\")\n",
    "tier_bottom_files = glob(\"*\", \"tier_bottom\")\n",
    "files = vcat(tier_top_files, tier_middle_files, tier_bottom_files)\n",
    "\n",
    "curriculum = Dict{String, Curriculum}()\n",
    "for csv_filepath in files\n",
    "    dp = read_csv(csv_filepath)\n",
    "    complexity(dp.curriculum)\n",
    "    curriculum[csv_filepath] = dp.curriculum\n",
    "end"
   ]
  },
  {
   "cell_type": "code",
   "execution_count": 5,
   "metadata": {},
   "outputs": [
    {
     "name": "stdout",
     "output_type": "stream",
     "text": [
      "Virginia Polytechnic Institute and State University => 410.0\n",
      "University of California--Los Angeles => 234.89999999999984\n",
      "Cornel University => 122.0\n",
      "Columbia University => 251.0\n",
      "California Institute of Technology => 85.50000000000006\n",
      "Northwestern University => 208.0\n",
      "Princeton University => 77.0\n",
      "Duke University => 133.0\n",
      "Johns Hopkins University => 181.0\n",
      "Purdue University => 249.0\n",
      "University of California--San Diego => 177.69999999999987\n",
      "University of California--Berkeley => 57.300000000000054\n",
      "University of Michigan--Ann Arbor => 174.0\n",
      "University of Illinois--Urbana-Champaign => 180.0\n",
      "Stanford University => 88.80000000000004\n",
      "Rice University => 153.0\n",
      "Carnegie Mellon University => 142.0\n",
      "University of Texas--Austin => 175.0\n",
      "Texas AM University--College Station => 373.0\n",
      "University of Wisconsin => 284.0\n",
      "Georgia Institute of Technology => 287.0\n",
      "Avg. curricular complexity = 192.53\n"
     ]
    },
    {
     "data": {
      "image/svg+xml": [
       "<?xml version=\"1.0\" encoding=\"utf-8\"?>\n",
       "<svg xmlns=\"http://www.w3.org/2000/svg\" xmlns:xlink=\"http://www.w3.org/1999/xlink\" width=\"600\" height=\"400\" viewBox=\"0 0 2400 1600\">\n",
       "<defs>\n",
       "  <clipPath id=\"clip670\">\n",
       "    <rect x=\"0\" y=\"0\" width=\"2400\" height=\"1600\"/>\n",
       "  </clipPath>\n",
       "</defs>\n",
       "<path clip-path=\"url(#clip670)\" d=\"\n",
       "M0 1600 L2400 1600 L2400 0 L0 0  Z\n",
       "  \" fill=\"#ffffff\" fill-rule=\"evenodd\" fill-opacity=\"1\"/>\n",
       "<defs>\n",
       "  <clipPath id=\"clip671\">\n",
       "    <rect x=\"480\" y=\"0\" width=\"1681\" height=\"1600\"/>\n",
       "  </clipPath>\n",
       "</defs>\n",
       "<path clip-path=\"url(#clip670)\" d=\"\n",
       "M234.82 1423.18 L2352.76 1423.18 L2352.76 123.472 L234.82 123.472  Z\n",
       "  \" fill=\"#ffffff\" fill-rule=\"evenodd\" fill-opacity=\"1\"/>\n",
       "<defs>\n",
       "  <clipPath id=\"clip672\">\n",
       "    <rect x=\"234\" y=\"123\" width=\"2119\" height=\"1301\"/>\n",
       "  </clipPath>\n",
       "</defs>\n",
       "<polyline clip-path=\"url(#clip672)\" style=\"stroke:#000000; stroke-width:2; stroke-opacity:0.1; fill:none\" points=\"\n",
       "  234.82,1423.18 234.82,123.472 \n",
       "  \"/>\n",
       "<polyline clip-path=\"url(#clip672)\" style=\"stroke:#000000; stroke-width:2; stroke-opacity:0.1; fill:none\" points=\"\n",
       "  658.407,1423.18 658.407,123.472 \n",
       "  \"/>\n",
       "<polyline clip-path=\"url(#clip672)\" style=\"stroke:#000000; stroke-width:2; stroke-opacity:0.1; fill:none\" points=\"\n",
       "  1081.99,1423.18 1081.99,123.472 \n",
       "  \"/>\n",
       "<polyline clip-path=\"url(#clip672)\" style=\"stroke:#000000; stroke-width:2; stroke-opacity:0.1; fill:none\" points=\"\n",
       "  1505.58,1423.18 1505.58,123.472 \n",
       "  \"/>\n",
       "<polyline clip-path=\"url(#clip672)\" style=\"stroke:#000000; stroke-width:2; stroke-opacity:0.1; fill:none\" points=\"\n",
       "  1929.17,1423.18 1929.17,123.472 \n",
       "  \"/>\n",
       "<polyline clip-path=\"url(#clip672)\" style=\"stroke:#000000; stroke-width:2; stroke-opacity:0.1; fill:none\" points=\"\n",
       "  2352.76,1423.18 2352.76,123.472 \n",
       "  \"/>\n",
       "<polyline clip-path=\"url(#clip672)\" style=\"stroke:#000000; stroke-width:2; stroke-opacity:0.1; fill:none\" points=\"\n",
       "  234.82,1423.18 2352.76,1423.18 \n",
       "  \"/>\n",
       "<polyline clip-path=\"url(#clip672)\" style=\"stroke:#000000; stroke-width:2; stroke-opacity:0.1; fill:none\" points=\"\n",
       "  234.82,1113.73 2352.76,1113.73 \n",
       "  \"/>\n",
       "<polyline clip-path=\"url(#clip672)\" style=\"stroke:#000000; stroke-width:2; stroke-opacity:0.1; fill:none\" points=\"\n",
       "  234.82,804.271 2352.76,804.271 \n",
       "  \"/>\n",
       "<polyline clip-path=\"url(#clip672)\" style=\"stroke:#000000; stroke-width:2; stroke-opacity:0.1; fill:none\" points=\"\n",
       "  234.82,494.817 2352.76,494.817 \n",
       "  \"/>\n",
       "<polyline clip-path=\"url(#clip672)\" style=\"stroke:#000000; stroke-width:2; stroke-opacity:0.1; fill:none\" points=\"\n",
       "  234.82,185.363 2352.76,185.363 \n",
       "  \"/>\n",
       "<polyline clip-path=\"url(#clip670)\" style=\"stroke:#000000; stroke-width:4; stroke-opacity:1; fill:none\" points=\"\n",
       "  234.82,1423.18 2352.76,1423.18 \n",
       "  \"/>\n",
       "<polyline clip-path=\"url(#clip670)\" style=\"stroke:#000000; stroke-width:4; stroke-opacity:1; fill:none\" points=\"\n",
       "  234.82,1423.18 234.82,123.472 \n",
       "  \"/>\n",
       "<polyline clip-path=\"url(#clip670)\" style=\"stroke:#000000; stroke-width:4; stroke-opacity:1; fill:none\" points=\"\n",
       "  234.82,1423.18 234.82,1407.58 \n",
       "  \"/>\n",
       "<polyline clip-path=\"url(#clip670)\" style=\"stroke:#000000; stroke-width:4; stroke-opacity:1; fill:none\" points=\"\n",
       "  658.407,1423.18 658.407,1407.58 \n",
       "  \"/>\n",
       "<polyline clip-path=\"url(#clip670)\" style=\"stroke:#000000; stroke-width:4; stroke-opacity:1; fill:none\" points=\"\n",
       "  1081.99,1423.18 1081.99,1407.58 \n",
       "  \"/>\n",
       "<polyline clip-path=\"url(#clip670)\" style=\"stroke:#000000; stroke-width:4; stroke-opacity:1; fill:none\" points=\"\n",
       "  1505.58,1423.18 1505.58,1407.58 \n",
       "  \"/>\n",
       "<polyline clip-path=\"url(#clip670)\" style=\"stroke:#000000; stroke-width:4; stroke-opacity:1; fill:none\" points=\"\n",
       "  1929.17,1423.18 1929.17,1407.58 \n",
       "  \"/>\n",
       "<polyline clip-path=\"url(#clip670)\" style=\"stroke:#000000; stroke-width:4; stroke-opacity:1; fill:none\" points=\"\n",
       "  2352.76,1423.18 2352.76,1407.58 \n",
       "  \"/>\n",
       "<polyline clip-path=\"url(#clip670)\" style=\"stroke:#000000; stroke-width:4; stroke-opacity:1; fill:none\" points=\"\n",
       "  234.82,1423.18 260.235,1423.18 \n",
       "  \"/>\n",
       "<polyline clip-path=\"url(#clip670)\" style=\"stroke:#000000; stroke-width:4; stroke-opacity:1; fill:none\" points=\"\n",
       "  234.82,1113.73 260.235,1113.73 \n",
       "  \"/>\n",
       "<polyline clip-path=\"url(#clip670)\" style=\"stroke:#000000; stroke-width:4; stroke-opacity:1; fill:none\" points=\"\n",
       "  234.82,804.271 260.235,804.271 \n",
       "  \"/>\n",
       "<polyline clip-path=\"url(#clip670)\" style=\"stroke:#000000; stroke-width:4; stroke-opacity:1; fill:none\" points=\"\n",
       "  234.82,494.817 260.235,494.817 \n",
       "  \"/>\n",
       "<polyline clip-path=\"url(#clip670)\" style=\"stroke:#000000; stroke-width:4; stroke-opacity:1; fill:none\" points=\"\n",
       "  234.82,185.363 260.235,185.363 \n",
       "  \"/>\n",
       "<path clip-path=\"url(#clip670)\" d=\"M 0 0 M234.82 1445.17 Q231.209 1445.17 229.38 1448.74 Q227.575 1452.28 227.575 1459.41 Q227.575 1466.51 229.38 1470.08 Q231.209 1473.62 234.82 1473.62 Q238.454 1473.62 240.26 1470.08 Q242.088 1466.51 242.088 1459.41 Q242.088 1452.28 240.26 1448.74 Q238.454 1445.17 234.82 1445.17 M234.82 1441.47 Q240.63 1441.47 243.686 1446.07 Q246.764 1450.66 246.764 1459.41 Q246.764 1468.13 243.686 1472.74 Q240.63 1477.32 234.82 1477.32 Q229.01 1477.32 225.931 1472.74 Q222.876 1468.13 222.876 1459.41 Q222.876 1450.66 225.931 1446.07 Q229.01 1441.47 234.82 1441.47 Z\" fill=\"#000000\" fill-rule=\"evenodd\" fill-opacity=\"1\" /><path clip-path=\"url(#clip670)\" d=\"M 0 0 M621.775 1472.72 L629.414 1472.72 L629.414 1446.35 L621.104 1448.02 L621.104 1443.76 L629.368 1442.09 L634.044 1442.09 L634.044 1472.72 L641.683 1472.72 L641.683 1476.65 L621.775 1476.65 L621.775 1472.72 Z\" fill=\"#000000\" fill-rule=\"evenodd\" fill-opacity=\"1\" /><path clip-path=\"url(#clip670)\" d=\"M 0 0 M656.752 1445.17 Q653.141 1445.17 651.312 1448.74 Q649.507 1452.28 649.507 1459.41 Q649.507 1466.51 651.312 1470.08 Q653.141 1473.62 656.752 1473.62 Q660.386 1473.62 662.192 1470.08 Q664.02 1466.51 664.02 1459.41 Q664.02 1452.28 662.192 1448.74 Q660.386 1445.17 656.752 1445.17 M656.752 1441.47 Q662.562 1441.47 665.618 1446.07 Q668.696 1450.66 668.696 1459.41 Q668.696 1468.13 665.618 1472.74 Q662.562 1477.32 656.752 1477.32 Q650.942 1477.32 647.863 1472.74 Q644.808 1468.13 644.808 1459.41 Q644.808 1450.66 647.863 1446.07 Q650.942 1441.47 656.752 1441.47 Z\" fill=\"#000000\" fill-rule=\"evenodd\" fill-opacity=\"1\" /><path clip-path=\"url(#clip670)\" d=\"M 0 0 M683.766 1445.17 Q680.155 1445.17 678.326 1448.74 Q676.52 1452.28 676.52 1459.41 Q676.52 1466.51 678.326 1470.08 Q680.155 1473.62 683.766 1473.62 Q687.4 1473.62 689.206 1470.08 Q691.034 1466.51 691.034 1459.41 Q691.034 1452.28 689.206 1448.74 Q687.4 1445.17 683.766 1445.17 M683.766 1441.47 Q689.576 1441.47 692.631 1446.07 Q695.71 1450.66 695.71 1459.41 Q695.71 1468.13 692.631 1472.74 Q689.576 1477.32 683.766 1477.32 Q677.956 1477.32 674.877 1472.74 Q671.821 1468.13 671.821 1459.41 Q671.821 1450.66 674.877 1446.07 Q677.956 1441.47 683.766 1441.47 Z\" fill=\"#000000\" fill-rule=\"evenodd\" fill-opacity=\"1\" /><path clip-path=\"url(#clip670)\" d=\"M 0 0 M1049.63 1472.72 L1065.95 1472.72 L1065.95 1476.65 L1044.01 1476.65 L1044.01 1472.72 Q1046.67 1469.96 1051.25 1465.33 Q1055.86 1460.68 1057.04 1459.34 Q1059.29 1456.81 1060.17 1455.08 Q1061.07 1453.32 1061.07 1451.63 Q1061.07 1448.87 1059.12 1447.14 Q1057.2 1445.4 1054.1 1445.4 Q1051.9 1445.4 1049.45 1446.17 Q1047.02 1446.93 1044.24 1448.48 L1044.24 1443.76 Q1047.06 1442.62 1049.52 1442.05 Q1051.97 1441.47 1054.01 1441.47 Q1059.38 1441.47 1062.57 1444.15 Q1065.77 1446.84 1065.77 1451.33 Q1065.77 1453.46 1064.96 1455.38 Q1064.17 1457.28 1062.06 1459.87 Q1061.49 1460.54 1058.38 1463.76 Q1055.28 1466.95 1049.63 1472.72 Z\" fill=\"#000000\" fill-rule=\"evenodd\" fill-opacity=\"1\" /><path clip-path=\"url(#clip670)\" d=\"M 0 0 M1081.02 1445.17 Q1077.41 1445.17 1075.58 1448.74 Q1073.78 1452.28 1073.78 1459.41 Q1073.78 1466.51 1075.58 1470.08 Q1077.41 1473.62 1081.02 1473.62 Q1084.66 1473.62 1086.46 1470.08 Q1088.29 1466.51 1088.29 1459.41 Q1088.29 1452.28 1086.46 1448.74 Q1084.66 1445.17 1081.02 1445.17 M1081.02 1441.47 Q1086.83 1441.47 1089.89 1446.07 Q1092.97 1450.66 1092.97 1459.41 Q1092.97 1468.13 1089.89 1472.74 Q1086.83 1477.32 1081.02 1477.32 Q1075.21 1477.32 1072.13 1472.74 Q1069.08 1468.13 1069.08 1459.41 Q1069.08 1450.66 1072.13 1446.07 Q1075.21 1441.47 1081.02 1441.47 Z\" fill=\"#000000\" fill-rule=\"evenodd\" fill-opacity=\"1\" /><path clip-path=\"url(#clip670)\" d=\"M 0 0 M1108.04 1445.17 Q1104.42 1445.17 1102.6 1448.74 Q1100.79 1452.28 1100.79 1459.41 Q1100.79 1466.51 1102.6 1470.08 Q1104.42 1473.62 1108.04 1473.62 Q1111.67 1473.62 1113.48 1470.08 Q1115.3 1466.51 1115.3 1459.41 Q1115.3 1452.28 1113.48 1448.74 Q1111.67 1445.17 1108.04 1445.17 M1108.04 1441.47 Q1113.85 1441.47 1116.9 1446.07 Q1119.98 1450.66 1119.98 1459.41 Q1119.98 1468.13 1116.9 1472.74 Q1113.85 1477.32 1108.04 1477.32 Q1102.23 1477.32 1099.15 1472.74 Q1096.09 1468.13 1096.09 1459.41 Q1096.09 1450.66 1099.15 1446.07 Q1102.23 1441.47 1108.04 1441.47 Z\" fill=\"#000000\" fill-rule=\"evenodd\" fill-opacity=\"1\" /><path clip-path=\"url(#clip670)\" d=\"M 0 0 M1482.82 1458.02 Q1486.17 1458.74 1488.05 1461 Q1489.95 1463.27 1489.95 1466.61 Q1489.95 1471.72 1486.43 1474.52 Q1482.91 1477.32 1476.43 1477.32 Q1474.25 1477.32 1471.94 1476.88 Q1469.64 1476.47 1467.19 1475.61 L1467.19 1471.1 Q1469.13 1472.23 1471.45 1472.81 Q1473.76 1473.39 1476.29 1473.39 Q1480.69 1473.39 1482.98 1471.65 Q1485.29 1469.92 1485.29 1466.61 Q1485.29 1463.55 1483.14 1461.84 Q1481.01 1460.1 1477.19 1460.1 L1473.16 1460.1 L1473.16 1456.26 L1477.38 1456.26 Q1480.82 1456.26 1482.65 1454.89 Q1484.48 1453.5 1484.48 1450.91 Q1484.48 1448.25 1482.58 1446.84 Q1480.71 1445.4 1477.19 1445.4 Q1475.27 1445.4 1473.07 1445.82 Q1470.87 1446.24 1468.23 1447.11 L1468.23 1442.95 Q1470.89 1442.21 1473.21 1441.84 Q1475.55 1441.47 1477.61 1441.47 Q1482.93 1441.47 1486.03 1443.9 Q1489.13 1446.3 1489.13 1450.43 Q1489.13 1453.3 1487.49 1455.29 Q1485.85 1457.25 1482.82 1458.02 Z\" fill=\"#000000\" fill-rule=\"evenodd\" fill-opacity=\"1\" /><path clip-path=\"url(#clip670)\" d=\"M 0 0 M1505.01 1445.17 Q1501.4 1445.17 1499.57 1448.74 Q1497.77 1452.28 1497.77 1459.41 Q1497.77 1466.51 1499.57 1470.08 Q1501.4 1473.62 1505.01 1473.62 Q1508.65 1473.62 1510.45 1470.08 Q1512.28 1466.51 1512.28 1459.41 Q1512.28 1452.28 1510.45 1448.74 Q1508.65 1445.17 1505.01 1445.17 M1505.01 1441.47 Q1510.82 1441.47 1513.88 1446.07 Q1516.96 1450.66 1516.96 1459.41 Q1516.96 1468.13 1513.88 1472.74 Q1510.82 1477.32 1505.01 1477.32 Q1499.2 1477.32 1496.13 1472.74 Q1493.07 1468.13 1493.07 1459.41 Q1493.07 1450.66 1496.13 1446.07 Q1499.2 1441.47 1505.01 1441.47 Z\" fill=\"#000000\" fill-rule=\"evenodd\" fill-opacity=\"1\" /><path clip-path=\"url(#clip670)\" d=\"M 0 0 M1532.03 1445.17 Q1528.42 1445.17 1526.59 1448.74 Q1524.78 1452.28 1524.78 1459.41 Q1524.78 1466.51 1526.59 1470.08 Q1528.42 1473.62 1532.03 1473.62 Q1535.66 1473.62 1537.47 1470.08 Q1539.3 1466.51 1539.3 1459.41 Q1539.3 1452.28 1537.47 1448.74 Q1535.66 1445.17 1532.03 1445.17 M1532.03 1441.47 Q1537.84 1441.47 1540.89 1446.07 Q1543.97 1450.66 1543.97 1459.41 Q1543.97 1468.13 1540.89 1472.74 Q1537.84 1477.32 1532.03 1477.32 Q1526.22 1477.32 1523.14 1472.74 Q1520.08 1468.13 1520.08 1459.41 Q1520.08 1450.66 1523.14 1446.07 Q1526.22 1441.47 1532.03 1441.47 Z\" fill=\"#000000\" fill-rule=\"evenodd\" fill-opacity=\"1\" /><path clip-path=\"url(#clip670)\" d=\"M 0 0 M1905.16 1446.17 L1893.36 1464.61 L1905.16 1464.61 L1905.16 1446.17 M1903.94 1442.09 L1909.82 1442.09 L1909.82 1464.61 L1914.75 1464.61 L1914.75 1468.5 L1909.82 1468.5 L1909.82 1476.65 L1905.16 1476.65 L1905.16 1468.5 L1889.56 1468.5 L1889.56 1463.99 L1903.94 1442.09 Z\" fill=\"#000000\" fill-rule=\"evenodd\" fill-opacity=\"1\" /><path clip-path=\"url(#clip670)\" d=\"M 0 0 M1929.82 1445.17 Q1926.21 1445.17 1924.38 1448.74 Q1922.57 1452.28 1922.57 1459.41 Q1922.57 1466.51 1924.38 1470.08 Q1926.21 1473.62 1929.82 1473.62 Q1933.45 1473.62 1935.26 1470.08 Q1937.09 1466.51 1937.09 1459.41 Q1937.09 1452.28 1935.26 1448.74 Q1933.45 1445.17 1929.82 1445.17 M1929.82 1441.47 Q1935.63 1441.47 1938.68 1446.07 Q1941.76 1450.66 1941.76 1459.41 Q1941.76 1468.13 1938.68 1472.74 Q1935.63 1477.32 1929.82 1477.32 Q1924.01 1477.32 1920.93 1472.74 Q1917.87 1468.13 1917.87 1459.41 Q1917.87 1450.66 1920.93 1446.07 Q1924.01 1441.47 1929.82 1441.47 Z\" fill=\"#000000\" fill-rule=\"evenodd\" fill-opacity=\"1\" /><path clip-path=\"url(#clip670)\" d=\"M 0 0 M1956.83 1445.17 Q1953.22 1445.17 1951.39 1448.74 Q1949.59 1452.28 1949.59 1459.41 Q1949.59 1466.51 1951.39 1470.08 Q1953.22 1473.62 1956.83 1473.62 Q1960.46 1473.62 1962.27 1470.08 Q1964.1 1466.51 1964.1 1459.41 Q1964.1 1452.28 1962.27 1448.74 Q1960.46 1445.17 1956.83 1445.17 M1956.83 1441.47 Q1962.64 1441.47 1965.7 1446.07 Q1968.77 1450.66 1968.77 1459.41 Q1968.77 1468.13 1965.7 1472.74 Q1962.64 1477.32 1956.83 1477.32 Q1951.02 1477.32 1947.94 1472.74 Q1944.89 1468.13 1944.89 1459.41 Q1944.89 1450.66 1947.94 1446.07 Q1951.02 1441.47 1956.83 1441.47 Z\" fill=\"#000000\" fill-rule=\"evenodd\" fill-opacity=\"1\" /><path clip-path=\"url(#clip670)\" d=\"M 0 0 M2316.02 1442.09 L2334.38 1442.09 L2334.38 1446.03 L2320.3 1446.03 L2320.3 1454.5 Q2321.32 1454.15 2322.34 1453.99 Q2323.36 1453.8 2324.38 1453.8 Q2330.16 1453.8 2333.54 1456.98 Q2336.92 1460.15 2336.92 1465.56 Q2336.92 1471.14 2333.45 1474.24 Q2329.98 1477.32 2323.66 1477.32 Q2321.48 1477.32 2319.21 1476.95 Q2316.97 1476.58 2314.56 1475.84 L2314.56 1471.14 Q2316.64 1472.28 2318.87 1472.83 Q2321.09 1473.39 2323.57 1473.39 Q2327.57 1473.39 2329.91 1471.28 Q2332.25 1469.18 2332.25 1465.56 Q2332.25 1461.95 2329.91 1459.85 Q2327.57 1457.74 2323.57 1457.74 Q2321.69 1457.74 2319.82 1458.16 Q2317.96 1458.57 2316.02 1459.45 L2316.02 1442.09 Z\" fill=\"#000000\" fill-rule=\"evenodd\" fill-opacity=\"1\" /><path clip-path=\"url(#clip670)\" d=\"M 0 0 M2351.99 1445.17 Q2348.38 1445.17 2346.55 1448.74 Q2344.75 1452.28 2344.75 1459.41 Q2344.75 1466.51 2346.55 1470.08 Q2348.38 1473.62 2351.99 1473.62 Q2355.63 1473.62 2357.43 1470.08 Q2359.26 1466.51 2359.26 1459.41 Q2359.26 1452.28 2357.43 1448.74 Q2355.63 1445.17 2351.99 1445.17 M2351.99 1441.47 Q2357.8 1441.47 2360.86 1446.07 Q2363.94 1450.66 2363.94 1459.41 Q2363.94 1468.13 2360.86 1472.74 Q2357.8 1477.32 2351.99 1477.32 Q2346.18 1477.32 2343.1 1472.74 Q2340.05 1468.13 2340.05 1459.41 Q2340.05 1450.66 2343.1 1446.07 Q2346.18 1441.47 2351.99 1441.47 Z\" fill=\"#000000\" fill-rule=\"evenodd\" fill-opacity=\"1\" /><path clip-path=\"url(#clip670)\" d=\"M 0 0 M2379.01 1445.17 Q2375.39 1445.17 2373.57 1448.74 Q2371.76 1452.28 2371.76 1459.41 Q2371.76 1466.51 2373.57 1470.08 Q2375.39 1473.62 2379.01 1473.62 Q2382.64 1473.62 2384.45 1470.08 Q2386.27 1466.51 2386.27 1459.41 Q2386.27 1452.28 2384.45 1448.74 Q2382.64 1445.17 2379.01 1445.17 M2379.01 1441.47 Q2384.82 1441.47 2387.87 1446.07 Q2390.95 1450.66 2390.95 1459.41 Q2390.95 1468.13 2387.87 1472.74 Q2384.82 1477.32 2379.01 1477.32 Q2373.2 1477.32 2370.12 1472.74 Q2367.06 1468.13 2367.06 1459.41 Q2367.06 1450.66 2370.12 1446.07 Q2373.2 1441.47 2379.01 1441.47 Z\" fill=\"#000000\" fill-rule=\"evenodd\" fill-opacity=\"1\" /><path clip-path=\"url(#clip670)\" d=\"M 0 0 M161.908 1408.98 Q158.297 1408.98 156.468 1412.54 Q154.663 1416.08 154.663 1423.21 Q154.663 1430.32 156.468 1433.89 Q158.297 1437.43 161.908 1437.43 Q165.542 1437.43 167.348 1433.89 Q169.177 1430.32 169.177 1423.21 Q169.177 1416.08 167.348 1412.54 Q165.542 1408.98 161.908 1408.98 M161.908 1405.27 Q167.718 1405.27 170.774 1409.88 Q173.852 1414.46 173.852 1423.21 Q173.852 1431.94 170.774 1436.55 Q167.718 1441.13 161.908 1441.13 Q156.098 1441.13 153.019 1436.55 Q149.964 1431.94 149.964 1423.21 Q149.964 1414.46 153.019 1409.88 Q156.098 1405.27 161.908 1405.27 Z\" fill=\"#000000\" fill-rule=\"evenodd\" fill-opacity=\"1\" /><path clip-path=\"url(#clip670)\" d=\"M 0 0 M178.922 1434.58 L183.806 1434.58 L183.806 1440.46 L178.922 1440.46 L178.922 1434.58 Z\" fill=\"#000000\" fill-rule=\"evenodd\" fill-opacity=\"1\" /><path clip-path=\"url(#clip670)\" d=\"M 0 0 M198.876 1408.98 Q195.264 1408.98 193.436 1412.54 Q191.63 1416.08 191.63 1423.21 Q191.63 1430.32 193.436 1433.89 Q195.264 1437.43 198.876 1437.43 Q202.51 1437.43 204.315 1433.89 Q206.144 1430.32 206.144 1423.21 Q206.144 1416.08 204.315 1412.54 Q202.51 1408.98 198.876 1408.98 M198.876 1405.27 Q204.686 1405.27 207.741 1409.88 Q210.82 1414.46 210.82 1423.21 Q210.82 1431.94 207.741 1436.55 Q204.686 1441.13 198.876 1441.13 Q193.065 1441.13 189.987 1436.55 Q186.931 1431.94 186.931 1423.21 Q186.931 1414.46 189.987 1409.88 Q193.065 1405.27 198.876 1405.27 Z\" fill=\"#000000\" fill-rule=\"evenodd\" fill-opacity=\"1\" /><path clip-path=\"url(#clip670)\" d=\"M 0 0 M158.529 1127.07 L174.848 1127.07 L174.848 1131.01 L152.904 1131.01 L152.904 1127.07 Q155.566 1124.32 160.149 1119.69 Q164.755 1115.03 165.936 1113.69 Q168.181 1111.17 169.061 1109.43 Q169.964 1107.67 169.964 1105.98 Q169.964 1103.23 168.019 1101.49 Q166.098 1099.76 162.996 1099.76 Q160.797 1099.76 158.343 1100.52 Q155.913 1101.28 153.135 1102.83 L153.135 1098.11 Q155.959 1096.98 158.413 1096.4 Q160.866 1095.82 162.903 1095.82 Q168.274 1095.82 171.468 1098.51 Q174.663 1101.19 174.663 1105.68 Q174.663 1107.81 173.852 1109.73 Q173.065 1111.63 170.959 1114.22 Q170.38 1114.89 167.278 1118.11 Q164.177 1121.31 158.529 1127.07 Z\" fill=\"#000000\" fill-rule=\"evenodd\" fill-opacity=\"1\" /><path clip-path=\"url(#clip670)\" d=\"M 0 0 M179.917 1125.13 L184.802 1125.13 L184.802 1131.01 L179.917 1131.01 L179.917 1125.13 Z\" fill=\"#000000\" fill-rule=\"evenodd\" fill-opacity=\"1\" /><path clip-path=\"url(#clip670)\" d=\"M 0 0 M189.917 1096.45 L208.274 1096.45 L208.274 1100.38 L194.2 1100.38 L194.2 1108.85 Q195.218 1108.51 196.237 1108.34 Q197.255 1108.16 198.274 1108.16 Q204.061 1108.16 207.44 1111.33 Q210.82 1114.5 210.82 1119.92 Q210.82 1125.5 207.348 1128.6 Q203.875 1131.68 197.556 1131.68 Q195.38 1131.68 193.112 1131.31 Q190.866 1130.94 188.459 1130.2 L188.459 1125.5 Q190.542 1126.63 192.764 1127.19 Q194.987 1127.74 197.463 1127.74 Q201.468 1127.74 203.806 1125.64 Q206.144 1123.53 206.144 1119.92 Q206.144 1116.31 203.806 1114.2 Q201.468 1112.09 197.463 1112.09 Q195.588 1112.09 193.713 1112.51 Q191.862 1112.93 189.917 1113.81 L189.917 1096.45 Z\" fill=\"#000000\" fill-rule=\"evenodd\" fill-opacity=\"1\" /><path clip-path=\"url(#clip670)\" d=\"M 0 0 M152.95 786.991 L171.306 786.991 L171.306 790.927 L157.232 790.927 L157.232 799.399 Q158.251 799.052 159.269 798.889 Q160.288 798.704 161.306 798.704 Q167.093 798.704 170.473 801.876 Q173.852 805.047 173.852 810.464 Q173.852 816.042 170.38 819.144 Q166.908 822.223 160.589 822.223 Q158.413 822.223 156.144 821.852 Q153.899 821.482 151.492 820.741 L151.492 816.042 Q153.575 817.176 155.797 817.732 Q158.019 818.288 160.496 818.288 Q164.501 818.288 166.839 816.181 Q169.177 814.075 169.177 810.464 Q169.177 806.852 166.839 804.746 Q164.501 802.639 160.496 802.639 Q158.621 802.639 156.746 803.056 Q154.894 803.473 152.95 804.352 L152.95 786.991 Z\" fill=\"#000000\" fill-rule=\"evenodd\" fill-opacity=\"1\" /><path clip-path=\"url(#clip670)\" d=\"M 0 0 M178.922 815.672 L183.806 815.672 L183.806 821.551 L178.922 821.551 L178.922 815.672 Z\" fill=\"#000000\" fill-rule=\"evenodd\" fill-opacity=\"1\" /><path clip-path=\"url(#clip670)\" d=\"M 0 0 M198.876 790.07 Q195.264 790.07 193.436 793.635 Q191.63 797.177 191.63 804.306 Q191.63 811.413 193.436 814.977 Q195.264 818.519 198.876 818.519 Q202.51 818.519 204.315 814.977 Q206.144 811.413 206.144 804.306 Q206.144 797.177 204.315 793.635 Q202.51 790.07 198.876 790.07 M198.876 786.366 Q204.686 786.366 207.741 790.973 Q210.82 795.556 210.82 804.306 Q210.82 813.033 207.741 817.639 Q204.686 822.223 198.876 822.223 Q193.065 822.223 189.987 817.639 Q186.931 813.033 186.931 804.306 Q186.931 795.556 189.987 790.973 Q193.065 786.366 198.876 786.366 Z\" fill=\"#000000\" fill-rule=\"evenodd\" fill-opacity=\"1\" /><path clip-path=\"url(#clip670)\" d=\"M 0 0 M152.626 477.537 L174.848 477.537 L174.848 479.528 L162.302 512.097 L157.417 512.097 L169.223 481.472 L152.626 481.472 L152.626 477.537 Z\" fill=\"#000000\" fill-rule=\"evenodd\" fill-opacity=\"1\" /><path clip-path=\"url(#clip670)\" d=\"M 0 0 M179.917 506.218 L184.802 506.218 L184.802 512.097 L179.917 512.097 L179.917 506.218 Z\" fill=\"#000000\" fill-rule=\"evenodd\" fill-opacity=\"1\" /><path clip-path=\"url(#clip670)\" d=\"M 0 0 M189.917 477.537 L208.274 477.537 L208.274 481.472 L194.2 481.472 L194.2 489.945 Q195.218 489.597 196.237 489.435 Q197.255 489.25 198.274 489.25 Q204.061 489.25 207.44 492.421 Q210.82 495.593 210.82 501.009 Q210.82 506.588 207.348 509.69 Q203.875 512.768 197.556 512.768 Q195.38 512.768 193.112 512.398 Q190.866 512.028 188.459 511.287 L188.459 506.588 Q190.542 507.722 192.764 508.278 Q194.987 508.833 197.463 508.833 Q201.468 508.833 203.806 506.727 Q206.144 504.62 206.144 501.009 Q206.144 497.398 203.806 495.292 Q201.468 493.185 197.463 493.185 Q195.588 493.185 193.713 493.602 Q191.862 494.019 189.917 494.898 L189.917 477.537 Z\" fill=\"#000000\" fill-rule=\"evenodd\" fill-opacity=\"1\" /><path clip-path=\"url(#clip670)\" d=\"M 0 0 M126.931 198.708 L134.57 198.708 L134.57 172.342 L126.26 174.009 L126.26 169.75 L134.524 168.083 L139.2 168.083 L139.2 198.708 L146.839 198.708 L146.839 202.643 L126.931 202.643 L126.931 198.708 Z\" fill=\"#000000\" fill-rule=\"evenodd\" fill-opacity=\"1\" /><path clip-path=\"url(#clip670)\" d=\"M 0 0 M161.908 171.162 Q158.297 171.162 156.468 174.726 Q154.663 178.268 154.663 185.398 Q154.663 192.504 156.468 196.069 Q158.297 199.611 161.908 199.611 Q165.542 199.611 167.348 196.069 Q169.177 192.504 169.177 185.398 Q169.177 178.268 167.348 174.726 Q165.542 171.162 161.908 171.162 M161.908 167.458 Q167.718 167.458 170.774 172.064 Q173.852 176.648 173.852 185.398 Q173.852 194.124 170.774 198.731 Q167.718 203.314 161.908 203.314 Q156.098 203.314 153.019 198.731 Q149.964 194.124 149.964 185.398 Q149.964 176.648 153.019 172.064 Q156.098 167.458 161.908 167.458 Z\" fill=\"#000000\" fill-rule=\"evenodd\" fill-opacity=\"1\" /><path clip-path=\"url(#clip670)\" d=\"M 0 0 M178.922 196.763 L183.806 196.763 L183.806 202.643 L178.922 202.643 L178.922 196.763 Z\" fill=\"#000000\" fill-rule=\"evenodd\" fill-opacity=\"1\" /><path clip-path=\"url(#clip670)\" d=\"M 0 0 M198.876 171.162 Q195.264 171.162 193.436 174.726 Q191.63 178.268 191.63 185.398 Q191.63 192.504 193.436 196.069 Q195.264 199.611 198.876 199.611 Q202.51 199.611 204.315 196.069 Q206.144 192.504 206.144 185.398 Q206.144 178.268 204.315 174.726 Q202.51 171.162 198.876 171.162 M198.876 167.458 Q204.686 167.458 207.741 172.064 Q210.82 176.648 210.82 185.398 Q210.82 194.124 207.741 198.731 Q204.686 203.314 198.876 203.314 Q193.065 203.314 189.987 198.731 Q186.931 194.124 186.931 185.398 Q186.931 176.648 189.987 172.064 Q193.065 167.458 198.876 167.458 Z\" fill=\"#000000\" fill-rule=\"evenodd\" fill-opacity=\"1\" /><path clip-path=\"url(#clip670)\" d=\"M 0 0 M1142.71 12.096 L1193.87 12.096 L1193.87 18.9825 L1172.4 18.9825 L1172.4 72.576 L1164.18 72.576 L1164.18 18.9825 L1142.71 18.9825 L1142.71 12.096 Z\" fill=\"#000000\" fill-rule=\"evenodd\" fill-opacity=\"1\" /><path clip-path=\"url(#clip670)\" d=\"M 0 0 M1205.17 32.4315 Q1199.18 32.4315 1195.7 37.1306 Q1192.21 41.7891 1192.21 49.9314 Q1192.21 58.0738 1195.65 62.7728 Q1199.14 67.4314 1205.17 67.4314 Q1211.13 67.4314 1214.61 62.7323 Q1218.1 58.0333 1218.1 49.9314 Q1218.1 41.8701 1214.61 37.1711 Q1211.13 32.4315 1205.17 32.4315 M1205.17 26.1121 Q1214.9 26.1121 1220.45 32.4315 Q1226 38.7509 1226 49.9314 Q1226 61.0714 1220.45 67.4314 Q1214.9 73.7508 1205.17 73.7508 Q1195.41 73.7508 1189.86 67.4314 Q1184.35 61.0714 1184.35 49.9314 Q1184.35 38.7509 1189.86 32.4315 Q1195.41 26.1121 1205.17 26.1121 Z\" fill=\"#000000\" fill-rule=\"evenodd\" fill-opacity=\"1\" /><path clip-path=\"url(#clip670)\" d=\"M 0 0 M1241.02 65.7705 L1241.02 89.8329 L1233.53 89.8329 L1233.53 27.2059 L1241.02 27.2059 L1241.02 34.0924 Q1243.37 30.0415 1246.94 28.0971 Q1250.54 26.1121 1255.53 26.1121 Q1263.79 26.1121 1268.94 32.6746 Q1274.12 39.2371 1274.12 49.9314 Q1274.12 60.6258 1268.94 67.1883 Q1263.79 73.7508 1255.53 73.7508 Q1250.54 73.7508 1246.94 71.8063 Q1243.37 69.8214 1241.02 65.7705 M1266.38 49.9314 Q1266.38 41.7081 1262.98 37.0496 Q1259.62 32.3505 1253.7 32.3505 Q1247.79 32.3505 1244.39 37.0496 Q1241.02 41.7081 1241.02 49.9314 Q1241.02 58.1548 1244.39 62.8538 Q1247.79 67.5124 1253.7 67.5124 Q1259.62 67.5124 1262.98 62.8538 Q1266.38 58.1548 1266.38 49.9314 Z\" fill=\"#000000\" fill-rule=\"evenodd\" fill-opacity=\"1\" /><path clip-path=\"url(#clip670)\" d=\"M 0 0 M1300.25 12.096 L1351.41 12.096 L1351.41 18.9825 L1329.94 18.9825 L1329.94 72.576 L1321.72 72.576 L1321.72 18.9825 L1300.25 18.9825 L1300.25 12.096 Z\" fill=\"#000000\" fill-rule=\"evenodd\" fill-opacity=\"1\" /><path clip-path=\"url(#clip670)\" d=\"M 0 0 M1356.68 27.2059 L1364.13 27.2059 L1364.13 72.576 L1356.68 72.576 L1356.68 27.2059 M1356.68 9.54393 L1364.13 9.54393 L1364.13 18.9825 L1356.68 18.9825 L1356.68 9.54393 Z\" fill=\"#000000\" fill-rule=\"evenodd\" fill-opacity=\"1\" /><path clip-path=\"url(#clip670)\" d=\"M 0 0 M1410.76 48.0275 L1410.76 51.6733 L1376.49 51.6733 Q1376.97 59.3701 1381.11 63.421 Q1385.28 67.4314 1392.69 67.4314 Q1396.98 67.4314 1401 66.3781 Q1405.05 65.3249 1409.02 63.2184 L1409.02 70.267 Q1405.01 71.9684 1400.79 72.8596 Q1396.58 73.7508 1392.25 73.7508 Q1381.39 73.7508 1375.03 67.4314 Q1368.71 61.1119 1368.71 50.3365 Q1368.71 39.1965 1374.7 32.6746 Q1380.74 26.1121 1390.95 26.1121 Q1400.1 26.1121 1405.41 32.0264 Q1410.76 37.9003 1410.76 48.0275 M1403.3 45.84 Q1403.22 39.7232 1399.86 36.0774 Q1396.54 32.4315 1391.03 32.4315 Q1384.79 32.4315 1381.02 35.9558 Q1377.3 39.4801 1376.73 45.8805 L1403.3 45.84 Z\" fill=\"#000000\" fill-rule=\"evenodd\" fill-opacity=\"1\" /><path clip-path=\"url(#clip670)\" d=\"M 0 0 M1444.87 34.1734 Q1443.61 33.4443 1442.11 33.1202 Q1440.65 32.7556 1438.87 32.7556 Q1432.55 32.7556 1429.15 36.8875 Q1425.79 40.9789 1425.79 48.6757 L1425.79 72.576 L1418.29 72.576 L1418.29 27.2059 L1425.79 27.2059 L1425.79 34.2544 Q1428.14 30.1225 1431.9 28.1376 Q1435.67 26.1121 1441.06 26.1121 Q1441.83 26.1121 1442.76 26.2337 Q1443.69 26.3147 1444.83 26.5172 L1444.87 34.1734 Z\" fill=\"#000000\" fill-rule=\"evenodd\" fill-opacity=\"1\" /><path clip-path=\"url(#clip670)\" d=\"M 0 0 M1017.37 1521.76 L1017.37 1527.24 Q1014.89 1525.87 1012.38 1525.2 Q1009.89 1524.5 1007.35 1524.5 Q1001.65 1524.5 998.499 1528.13 Q995.348 1531.73 995.348 1538.25 Q995.348 1544.78 998.499 1548.4 Q1001.65 1552 1007.35 1552 Q1009.89 1552 1012.38 1551.33 Q1014.89 1550.63 1017.37 1549.26 L1017.37 1554.68 Q1014.92 1555.82 1012.28 1556.39 Q1009.67 1556.97 1006.71 1556.97 Q998.658 1556.97 993.915 1551.91 Q989.173 1546.85 989.173 1538.25 Q989.173 1529.53 993.947 1524.53 Q998.753 1519.54 1007.09 1519.54 Q1009.8 1519.54 1012.38 1520.11 Q1014.95 1520.65 1017.37 1521.76 Z\" fill=\"#000000\" fill-rule=\"evenodd\" fill-opacity=\"1\" /><path clip-path=\"url(#clip670)\" d=\"M 0 0 M1022.91 1541.98 L1022.91 1520.4 L1028.77 1520.4 L1028.77 1541.75 Q1028.77 1546.81 1030.74 1549.36 Q1032.71 1551.87 1036.66 1551.87 Q1041.4 1551.87 1044.14 1548.85 Q1046.91 1545.83 1046.91 1540.61 L1046.91 1520.4 L1052.77 1520.4 L1052.77 1556.04 L1046.91 1556.04 L1046.91 1550.57 Q1044.78 1553.82 1041.94 1555.41 Q1039.14 1556.97 1035.42 1556.97 Q1029.28 1556.97 1026.09 1553.15 Q1022.91 1549.33 1022.91 1541.98 M1037.65 1519.54 L1037.65 1519.54 Z\" fill=\"#000000\" fill-rule=\"evenodd\" fill-opacity=\"1\" /><path clip-path=\"url(#clip670)\" d=\"M 0 0 M1079.57 1525.87 Q1078.58 1525.3 1077.4 1525.04 Q1076.26 1524.76 1074.86 1524.76 Q1069.89 1524.76 1067.22 1528 Q1064.57 1531.22 1064.57 1537.27 L1064.57 1556.04 L1058.69 1556.04 L1058.69 1520.4 L1064.57 1520.4 L1064.57 1525.93 Q1066.42 1522.69 1069.38 1521.13 Q1072.34 1519.54 1076.57 1519.54 Q1077.18 1519.54 1077.91 1519.63 Q1078.64 1519.7 1079.53 1519.85 L1079.57 1525.87 Z\" fill=\"#000000\" fill-rule=\"evenodd\" fill-opacity=\"1\" /><path clip-path=\"url(#clip670)\" d=\"M 0 0 M1105.22 1525.87 Q1104.23 1525.3 1103.06 1525.04 Q1101.91 1524.76 1100.51 1524.76 Q1095.54 1524.76 1092.87 1528 Q1090.23 1531.22 1090.23 1537.27 L1090.23 1556.04 L1084.34 1556.04 L1084.34 1520.4 L1090.23 1520.4 L1090.23 1525.93 Q1092.07 1522.69 1095.03 1521.13 Q1097.99 1519.54 1102.23 1519.54 Q1102.83 1519.54 1103.56 1519.63 Q1104.3 1519.7 1105.19 1519.85 L1105.22 1525.87 Z\" fill=\"#000000\" fill-rule=\"evenodd\" fill-opacity=\"1\" /><path clip-path=\"url(#clip670)\" d=\"M 0 0 M1111.36 1520.4 L1117.22 1520.4 L1117.22 1556.04 L1111.36 1556.04 L1111.36 1520.4 M1111.36 1506.52 L1117.22 1506.52 L1117.22 1513.93 L1111.36 1513.93 L1111.36 1506.52 Z\" fill=\"#000000\" fill-rule=\"evenodd\" fill-opacity=\"1\" /><path clip-path=\"url(#clip670)\" d=\"M 0 0 M1149.02 1521.76 L1149.02 1527.24 Q1146.53 1525.87 1144.02 1525.2 Q1141.54 1524.5 1138.99 1524.5 Q1133.29 1524.5 1130.14 1528.13 Q1126.99 1531.73 1126.99 1538.25 Q1126.99 1544.78 1130.14 1548.4 Q1133.29 1552 1138.99 1552 Q1141.54 1552 1144.02 1551.33 Q1146.53 1550.63 1149.02 1549.26 L1149.02 1554.68 Q1146.57 1555.82 1143.92 1556.39 Q1141.31 1556.97 1138.35 1556.97 Q1130.3 1556.97 1125.56 1551.91 Q1120.82 1546.85 1120.82 1538.25 Q1120.82 1529.53 1125.59 1524.53 Q1130.4 1519.54 1138.74 1519.54 Q1141.44 1519.54 1144.02 1520.11 Q1146.6 1520.65 1149.02 1521.76 Z\" fill=\"#000000\" fill-rule=\"evenodd\" fill-opacity=\"1\" /><path clip-path=\"url(#clip670)\" d=\"M 0 0 M1154.55 1541.98 L1154.55 1520.4 L1160.41 1520.4 L1160.41 1541.75 Q1160.41 1546.81 1162.38 1549.36 Q1164.36 1551.87 1168.3 1551.87 Q1173.05 1551.87 1175.78 1548.85 Q1178.55 1545.83 1178.55 1540.61 L1178.55 1520.4 L1184.41 1520.4 L1184.41 1556.04 L1178.55 1556.04 L1178.55 1550.57 Q1176.42 1553.82 1173.59 1555.41 Q1170.79 1556.97 1167.06 1556.97 Q1160.92 1556.97 1157.74 1553.15 Q1154.55 1549.33 1154.55 1541.98 M1169.29 1519.54 L1169.29 1519.54 Z\" fill=\"#000000\" fill-rule=\"evenodd\" fill-opacity=\"1\" /><path clip-path=\"url(#clip670)\" d=\"M 0 0 M1190.55 1506.52 L1196.41 1506.52 L1196.41 1556.04 L1190.55 1556.04 L1190.55 1506.52 Z\" fill=\"#000000\" fill-rule=\"evenodd\" fill-opacity=\"1\" /><path clip-path=\"url(#clip670)\" d=\"M 0 0 M1218.75 1538.12 Q1211.65 1538.12 1208.92 1539.75 Q1206.18 1541.37 1206.18 1545.29 Q1206.18 1548.4 1208.22 1550.25 Q1210.29 1552.07 1213.82 1552.07 Q1218.69 1552.07 1221.62 1548.63 Q1224.58 1545.16 1224.58 1539.43 L1224.58 1538.12 L1218.75 1538.12 M1230.43 1535.71 L1230.43 1556.04 L1224.58 1556.04 L1224.58 1550.63 Q1222.57 1553.88 1219.58 1555.44 Q1216.59 1556.97 1212.26 1556.97 Q1206.78 1556.97 1203.54 1553.91 Q1200.32 1550.82 1200.32 1545.67 Q1200.32 1539.65 1204.33 1536.6 Q1208.38 1533.54 1216.36 1533.54 L1224.58 1533.54 L1224.58 1532.97 Q1224.58 1528.93 1221.9 1526.73 Q1219.26 1524.5 1214.46 1524.5 Q1211.4 1524.5 1208.5 1525.23 Q1205.61 1525.97 1202.93 1527.43 L1202.93 1522.02 Q1206.15 1520.78 1209.17 1520.17 Q1212.2 1519.54 1215.06 1519.54 Q1222.79 1519.54 1226.61 1523.55 Q1230.43 1527.56 1230.43 1535.71 Z\" fill=\"#000000\" fill-rule=\"evenodd\" fill-opacity=\"1\" /><path clip-path=\"url(#clip670)\" d=\"M 0 0 M1257.23 1525.87 Q1256.25 1525.3 1255.07 1525.04 Q1253.92 1524.76 1252.52 1524.76 Q1247.56 1524.76 1244.88 1528 Q1242.24 1531.22 1242.24 1537.27 L1242.24 1556.04 L1236.35 1556.04 L1236.35 1520.4 L1242.24 1520.4 L1242.24 1525.93 Q1244.09 1522.69 1247.05 1521.13 Q1250.01 1519.54 1254.24 1519.54 Q1254.85 1519.54 1255.58 1519.63 Q1256.31 1519.7 1257.2 1519.85 L1257.23 1525.87 Z\" fill=\"#000000\" fill-rule=\"evenodd\" fill-opacity=\"1\" /><path clip-path=\"url(#clip670)\" d=\"M 0 0 M1309.75 1521.76 L1309.75 1527.24 Q1307.27 1525.87 1304.75 1525.2 Q1302.27 1524.5 1299.72 1524.5 Q1294.03 1524.5 1290.88 1528.13 Q1287.72 1531.73 1287.72 1538.25 Q1287.72 1544.78 1290.88 1548.4 Q1294.03 1552 1299.72 1552 Q1302.27 1552 1304.75 1551.33 Q1307.27 1550.63 1309.75 1549.26 L1309.75 1554.68 Q1307.3 1555.82 1304.66 1556.39 Q1302.05 1556.97 1299.09 1556.97 Q1291.03 1556.97 1286.29 1551.91 Q1281.55 1546.85 1281.55 1538.25 Q1281.55 1529.53 1286.32 1524.53 Q1291.13 1519.54 1299.47 1519.54 Q1302.17 1519.54 1304.75 1520.11 Q1307.33 1520.65 1309.75 1521.76 Z\" fill=\"#000000\" fill-rule=\"evenodd\" fill-opacity=\"1\" /><path clip-path=\"url(#clip670)\" d=\"M 0 0 M1329.71 1524.5 Q1325 1524.5 1322.26 1528.19 Q1319.52 1531.85 1319.52 1538.25 Q1319.52 1544.65 1322.23 1548.34 Q1324.96 1552 1329.71 1552 Q1334.39 1552 1337.12 1548.31 Q1339.86 1544.62 1339.86 1538.25 Q1339.86 1531.92 1337.12 1528.23 Q1334.39 1524.5 1329.71 1524.5 M1329.71 1519.54 Q1337.35 1519.54 1341.71 1524.5 Q1346.07 1529.47 1346.07 1538.25 Q1346.07 1547 1341.71 1552 Q1337.35 1556.97 1329.71 1556.97 Q1322.04 1556.97 1317.68 1552 Q1313.35 1547 1313.35 1538.25 Q1313.35 1529.47 1317.68 1524.5 Q1322.04 1519.54 1329.71 1519.54 Z\" fill=\"#000000\" fill-rule=\"evenodd\" fill-opacity=\"1\" /><path clip-path=\"url(#clip670)\" d=\"M 0 0 M1379.96 1527.24 Q1382.16 1523.29 1385.22 1521.41 Q1388.27 1519.54 1392.41 1519.54 Q1397.98 1519.54 1401 1523.45 Q1404.03 1527.33 1404.03 1534.53 L1404.03 1556.04 L1398.14 1556.04 L1398.14 1534.72 Q1398.14 1529.59 1396.32 1527.11 Q1394.51 1524.63 1390.79 1524.63 Q1386.23 1524.63 1383.59 1527.65 Q1380.95 1530.68 1380.95 1535.9 L1380.95 1556.04 L1375.06 1556.04 L1375.06 1534.72 Q1375.06 1529.56 1373.25 1527.11 Q1371.43 1524.63 1367.65 1524.63 Q1363.16 1524.63 1360.52 1527.68 Q1357.87 1530.71 1357.87 1535.9 L1357.87 1556.04 L1351.99 1556.04 L1351.99 1520.4 L1357.87 1520.4 L1357.87 1525.93 Q1359.88 1522.66 1362.68 1521.1 Q1365.48 1519.54 1369.33 1519.54 Q1373.22 1519.54 1375.92 1521.51 Q1378.66 1523.48 1379.96 1527.24 Z\" fill=\"#000000\" fill-rule=\"evenodd\" fill-opacity=\"1\" /><path clip-path=\"url(#clip670)\" d=\"M 0 0 M1415.83 1550.7 L1415.83 1569.6 L1409.95 1569.6 L1409.95 1520.4 L1415.83 1520.4 L1415.83 1525.81 Q1417.68 1522.62 1420.48 1521.1 Q1423.31 1519.54 1427.23 1519.54 Q1433.72 1519.54 1437.76 1524.69 Q1441.84 1529.85 1441.84 1538.25 Q1441.84 1546.65 1437.76 1551.81 Q1433.72 1556.97 1427.23 1556.97 Q1423.31 1556.97 1420.48 1555.44 Q1417.68 1553.88 1415.83 1550.7 M1435.76 1538.25 Q1435.76 1531.79 1433.09 1528.13 Q1430.44 1524.44 1425.8 1524.44 Q1421.15 1524.44 1418.48 1528.13 Q1415.83 1531.79 1415.83 1538.25 Q1415.83 1544.71 1418.48 1548.4 Q1421.15 1552.07 1425.8 1552.07 Q1430.44 1552.07 1433.09 1548.4 Q1435.76 1544.71 1435.76 1538.25 Z\" fill=\"#000000\" fill-rule=\"evenodd\" fill-opacity=\"1\" /><path clip-path=\"url(#clip670)\" d=\"M 0 0 M1447.98 1506.52 L1453.84 1506.52 L1453.84 1556.04 L1447.98 1556.04 L1447.98 1506.52 Z\" fill=\"#000000\" fill-rule=\"evenodd\" fill-opacity=\"1\" /><path clip-path=\"url(#clip670)\" d=\"M 0 0 M1490.47 1536.76 L1490.47 1539.62 L1463.55 1539.62 Q1463.93 1545.67 1467.17 1548.85 Q1470.45 1552 1476.28 1552 Q1479.65 1552 1482.8 1551.17 Q1485.98 1550.35 1489.1 1548.69 L1489.1 1554.23 Q1485.95 1555.57 1482.64 1556.27 Q1479.33 1556.97 1475.93 1556.97 Q1467.4 1556.97 1462.4 1552 Q1457.43 1547.04 1457.43 1538.57 Q1457.43 1529.82 1462.14 1524.69 Q1466.89 1519.54 1474.91 1519.54 Q1482.1 1519.54 1486.27 1524.18 Q1490.47 1528.8 1490.47 1536.76 M1484.62 1535.04 Q1484.55 1530.23 1481.91 1527.37 Q1479.3 1524.5 1474.97 1524.5 Q1470.07 1524.5 1467.11 1527.27 Q1464.18 1530.04 1463.74 1535.07 L1484.62 1535.04 Z\" fill=\"#000000\" fill-rule=\"evenodd\" fill-opacity=\"1\" /><path clip-path=\"url(#clip670)\" d=\"M 0 0 M1525.1 1520.4 L1512.21 1537.74 L1525.77 1556.04 L1518.86 1556.04 L1508.49 1542.04 L1498.11 1556.04 L1491.2 1556.04 L1505.05 1537.39 L1492.38 1520.4 L1499.29 1520.4 L1508.74 1533.1 L1518.19 1520.4 L1525.1 1520.4 Z\" fill=\"#000000\" fill-rule=\"evenodd\" fill-opacity=\"1\" /><path clip-path=\"url(#clip670)\" d=\"M 0 0 M1531.91 1520.4 L1537.77 1520.4 L1537.77 1556.04 L1531.91 1556.04 L1531.91 1520.4 M1531.91 1506.52 L1537.77 1506.52 L1537.77 1513.93 L1531.91 1513.93 L1531.91 1506.52 Z\" fill=\"#000000\" fill-rule=\"evenodd\" fill-opacity=\"1\" /><path clip-path=\"url(#clip670)\" d=\"M 0 0 M1549.71 1510.27 L1549.71 1520.4 L1561.77 1520.4 L1561.77 1524.95 L1549.71 1524.95 L1549.71 1544.3 Q1549.71 1548.66 1550.88 1549.9 Q1552.09 1551.14 1555.75 1551.14 L1561.77 1551.14 L1561.77 1556.04 L1555.75 1556.04 Q1548.97 1556.04 1546.4 1553.53 Q1543.82 1550.98 1543.82 1544.3 L1543.82 1524.95 L1539.52 1524.95 L1539.52 1520.4 L1543.82 1520.4 L1543.82 1510.27 L1549.71 1510.27 Z\" fill=\"#000000\" fill-rule=\"evenodd\" fill-opacity=\"1\" /><path clip-path=\"url(#clip670)\" d=\"M 0 0 M1582.74 1559.35 Q1580.26 1565.72 1577.91 1567.66 Q1575.55 1569.6 1571.6 1569.6 L1566.92 1569.6 L1566.92 1564.7 L1570.36 1564.7 Q1572.78 1564.7 1574.12 1563.56 Q1575.45 1562.41 1577.08 1558.14 L1578.13 1555.47 L1563.71 1520.4 L1569.92 1520.4 L1581.06 1548.28 L1592.2 1520.4 L1598.4 1520.4 L1582.74 1559.35 Z\" fill=\"#000000\" fill-rule=\"evenodd\" fill-opacity=\"1\" /><path clip-path=\"url(#clip670)\" d=\"M 0 0 M59.3266 884.567 L59.3266 893.829 L69.9574 896.502 L69.9574 887.177 L59.3266 884.567 M41.2162 889.341 L54.4251 892.651 L54.4251 883.357 L41.2162 880.015 L41.2162 874.923 L54.4251 878.201 L54.4251 868.27 L59.3266 868.27 L59.3266 879.442 L69.9574 882.052 L69.9574 871.931 L74.8271 871.931 L74.8271 883.294 L88.0042 886.604 L88.0042 891.696 L74.8271 888.418 L74.8271 897.744 L88.0042 901.022 L88.0042 906.146 L74.8271 902.836 L74.8271 912.862 L69.9574 912.862 L69.9574 901.659 L59.3266 898.985 L59.3266 909.234 L54.4251 909.234 L54.4251 897.744 L41.2162 894.497 L41.2162 889.341 Z\" fill=\"#000000\" fill-rule=\"evenodd\" fill-opacity=\"1\" /><path clip-path=\"url(#clip670)\" d=\"M 0 0 M53.4065 818.682 L58.9447 818.682 Q57.6716 821.164 57.035 823.838 Q56.3984 826.511 56.3984 829.376 Q56.3984 833.737 57.7352 835.933 Q59.072 838.097 61.7456 838.097 Q63.7826 838.097 64.9603 836.537 Q66.1061 834.978 67.1565 830.267 L67.6021 828.262 Q68.9389 822.024 71.3897 819.414 Q73.8086 816.772 78.1691 816.772 Q83.1344 816.772 86.0308 820.719 Q88.9272 824.634 88.9272 831.509 Q88.9272 834.373 88.3543 837.492 Q87.8132 840.58 86.6992 844.017 L80.6518 844.017 Q82.3387 840.771 83.198 837.62 Q84.0256 834.469 84.0256 831.381 Q84.0256 827.244 82.6251 825.016 Q81.1929 822.788 78.6147 822.788 Q76.2276 822.788 74.9545 824.411 Q73.6813 826.002 72.5037 831.445 L72.0262 833.482 Q70.8804 838.925 68.5251 841.344 Q66.138 843.763 62.0002 843.763 Q56.9713 843.763 54.2341 840.198 Q51.4968 836.633 51.4968 830.076 Q51.4968 826.83 51.9743 823.965 Q52.4517 821.101 53.4065 818.682 Z\" fill=\"#000000\" fill-rule=\"evenodd\" fill-opacity=\"1\" /><path clip-path=\"url(#clip670)\" d=\"M 0 0 M53.7248 784.975 L59.1993 784.975 Q57.8307 787.458 57.1623 789.972 Q56.4621 792.455 56.4621 795.001 Q56.4621 800.699 60.0905 803.85 Q63.6872 807.001 70.212 807.001 Q76.7369 807.001 80.3653 803.85 Q83.9619 800.699 83.9619 795.001 Q83.9619 792.455 83.2935 789.972 Q82.5933 787.458 81.2247 784.975 L86.6355 784.975 Q87.7814 787.426 88.3543 790.068 Q88.9272 792.678 88.9272 795.638 Q88.9272 803.69 83.8664 808.433 Q78.8057 813.175 70.212 813.175 Q61.491 813.175 56.4939 808.401 Q51.4968 803.595 51.4968 795.256 Q51.4968 792.55 52.0697 789.972 Q52.6108 787.394 53.7248 784.975 Z\" fill=\"#000000\" fill-rule=\"evenodd\" fill-opacity=\"1\" /><path clip-path=\"url(#clip670)\" d=\"M 0 0 M66.4881 749.2 L88.0042 749.2 L88.0042 755.056 L66.679 755.056 Q61.6183 755.056 59.1038 757.03 Q56.5894 759.003 56.5894 762.95 Q56.5894 767.692 59.6131 770.43 Q62.6368 773.167 67.8567 773.167 L88.0042 773.167 L88.0042 779.055 L38.479 779.055 L38.479 773.167 L57.8944 773.167 Q54.6797 771.066 53.0883 768.233 Q51.4968 765.369 51.4968 761.645 Q51.4968 755.502 55.3163 752.351 Q59.1038 749.2 66.4881 749.2 Z\" fill=\"#000000\" fill-rule=\"evenodd\" fill-opacity=\"1\" /><path clip-path=\"url(#clip670)\" d=\"M 0 0 M56.4621 729.243 Q56.4621 733.954 60.1542 736.691 Q63.8145 739.429 70.212 739.429 Q76.6095 739.429 80.3017 736.723 Q83.9619 733.986 83.9619 729.243 Q83.9619 724.565 80.2698 721.827 Q76.5777 719.09 70.212 719.09 Q63.8781 719.09 60.186 721.827 Q56.4621 724.565 56.4621 729.243 M51.4968 729.243 Q51.4968 721.605 56.4621 717.244 Q61.4273 712.884 70.212 712.884 Q78.9649 712.884 83.9619 717.244 Q88.9272 721.605 88.9272 729.243 Q88.9272 736.914 83.9619 741.275 Q78.9649 745.603 70.212 745.603 Q61.4273 745.603 56.4621 741.275 Q51.4968 736.914 51.4968 729.243 Z\" fill=\"#000000\" fill-rule=\"evenodd\" fill-opacity=\"1\" /><path clip-path=\"url(#clip670)\" d=\"M 0 0 M56.4621 692.927 Q56.4621 697.638 60.1542 700.375 Q63.8145 703.112 70.212 703.112 Q76.6095 703.112 80.3017 700.407 Q83.9619 697.67 83.9619 692.927 Q83.9619 688.248 80.2698 685.511 Q76.5777 682.774 70.212 682.774 Q63.8781 682.774 60.186 685.511 Q56.4621 688.248 56.4621 692.927 M51.4968 692.927 Q51.4968 685.288 56.4621 680.928 Q61.4273 676.567 70.212 676.567 Q78.9649 676.567 83.9619 680.928 Q88.9272 685.288 88.9272 692.927 Q88.9272 700.598 83.9619 704.958 Q78.9649 709.287 70.212 709.287 Q61.4273 709.287 56.4621 704.958 Q51.4968 700.598 51.4968 692.927 Z\" fill=\"#000000\" fill-rule=\"evenodd\" fill-opacity=\"1\" /><path clip-path=\"url(#clip670)\" d=\"M 0 0 M38.479 670.424 L38.479 664.568 L88.0042 664.568 L88.0042 670.424 L38.479 670.424 Z\" fill=\"#000000\" fill-rule=\"evenodd\" fill-opacity=\"1\" /><path clip-path=\"url(#clip670)\" d=\"M 0 0 M53.4065 635.699 L58.9447 635.699 Q57.6716 638.182 57.035 640.856 Q56.3984 643.529 56.3984 646.394 Q56.3984 650.754 57.7352 652.95 Q59.072 655.115 61.7456 655.115 Q63.7826 655.115 64.9603 653.555 Q66.1061 651.996 67.1565 647.285 L67.6021 645.28 Q68.9389 639.041 71.3897 636.431 Q73.8086 633.79 78.1691 633.79 Q83.1344 633.79 86.0308 637.736 Q88.9272 641.651 88.9272 648.526 Q88.9272 651.391 88.3543 654.51 Q87.8132 657.597 86.6992 661.035 L80.6518 661.035 Q82.3387 657.788 83.198 654.637 Q84.0256 651.486 84.0256 648.399 Q84.0256 644.261 82.6251 642.033 Q81.1929 639.805 78.6147 639.805 Q76.2276 639.805 74.9545 641.429 Q73.6813 643.02 72.5037 648.463 L72.0262 650.5 Q70.8804 655.942 68.5251 658.361 Q66.138 660.78 62.0002 660.78 Q56.9713 660.78 54.2341 657.215 Q51.4968 653.651 51.4968 647.094 Q51.4968 643.848 51.9743 640.983 Q52.4517 638.118 53.4065 635.699 Z\" fill=\"#000000\" fill-rule=\"evenodd\" fill-opacity=\"1\" /><path clip-path=\"url(#clip672)\" d=\"\n",
       "M234.82 928.053 L234.82 1423.18 L658.407 1423.18 L658.407 928.053 L234.82 928.053 L234.82 928.053  Z\n",
       "  \" fill=\"#1874cd\" fill-rule=\"evenodd\" fill-opacity=\"0.7\"/>\n",
       "<polyline clip-path=\"url(#clip672)\" style=\"stroke:#000000; stroke-width:4; stroke-opacity:0.7; fill:none\" points=\"\n",
       "  234.82,928.053 234.82,1423.18 658.407,1423.18 658.407,928.053 234.82,928.053 \n",
       "  \"/>\n",
       "<path clip-path=\"url(#clip672)\" d=\"\n",
       "M658.407 309.145 L658.407 1423.18 L1081.99 1423.18 L1081.99 309.145 L658.407 309.145 L658.407 309.145  Z\n",
       "  \" fill=\"#1874cd\" fill-rule=\"evenodd\" fill-opacity=\"0.7\"/>\n",
       "<polyline clip-path=\"url(#clip672)\" style=\"stroke:#000000; stroke-width:4; stroke-opacity:0.7; fill:none\" points=\"\n",
       "  658.407,309.145 658.407,1423.18 1081.99,1423.18 1081.99,309.145 658.407,309.145 \n",
       "  \"/>\n",
       "<path clip-path=\"url(#clip672)\" d=\"\n",
       "M1081.99 680.49 L1081.99 1423.18 L1505.58 1423.18 L1505.58 680.49 L1081.99 680.49 L1081.99 680.49  Z\n",
       "  \" fill=\"#1874cd\" fill-rule=\"evenodd\" fill-opacity=\"0.7\"/>\n",
       "<polyline clip-path=\"url(#clip672)\" style=\"stroke:#000000; stroke-width:4; stroke-opacity:0.7; fill:none\" points=\"\n",
       "  1081.99,680.49 1081.99,1423.18 1505.58,1423.18 1505.58,680.49 1081.99,680.49 \n",
       "  \"/>\n",
       "<path clip-path=\"url(#clip672)\" d=\"\n",
       "M1505.58 1299.4 L1505.58 1423.18 L1929.17 1423.18 L1929.17 1299.4 L1505.58 1299.4 L1505.58 1299.4  Z\n",
       "  \" fill=\"#1874cd\" fill-rule=\"evenodd\" fill-opacity=\"0.7\"/>\n",
       "<polyline clip-path=\"url(#clip672)\" style=\"stroke:#000000; stroke-width:4; stroke-opacity:0.7; fill:none\" points=\"\n",
       "  1505.58,1299.4 1505.58,1423.18 1929.17,1423.18 1929.17,1299.4 1505.58,1299.4 \n",
       "  \"/>\n",
       "<path clip-path=\"url(#clip672)\" d=\"\n",
       "M1929.17 1299.4 L1929.17 1423.18 L2352.76 1423.18 L2352.76 1299.4 L1929.17 1299.4 L1929.17 1299.4  Z\n",
       "  \" fill=\"#1874cd\" fill-rule=\"evenodd\" fill-opacity=\"0.7\"/>\n",
       "<polyline clip-path=\"url(#clip672)\" style=\"stroke:#000000; stroke-width:4; stroke-opacity:0.7; fill:none\" points=\"\n",
       "  1929.17,1299.4 1929.17,1423.18 2352.76,1423.18 2352.76,1299.4 1929.17,1299.4 \n",
       "  \"/>\n",
       "</svg>\n"
      ]
     },
     "execution_count": 5,
     "metadata": {},
     "output_type": "execute_result"
    }
   ],
   "source": [
    "top_tier = Array{Curriculum,1}()\n",
    "top_tier_total_cc = 0\n",
    "top_tier_avg_cc = 0\n",
    "for (key, val) in curriculum\n",
    "    if (split(key, \"/\")[1]) == \"tier_top\"\n",
    "        name = split(split(key, \"/\")[2], \".\")[1]\n",
    "        println(\"$name => $(val.metrics[\"complexity\"][1])\")\n",
    "        push!(top_tier, val)\n",
    "        top_tier_total_cc += val.metrics[\"complexity\"][1]\n",
    "    end\n",
    "end\n",
    "top_tier_avg_cc = round(top_tier_total_cc / length(top_tier), digits=2)\n",
    "println(\"Avg. curricular complexity = $(top_tier_avg_cc)\")\n",
    "metric_histogram(top_tier, \"complexity\", nbins=5, title=\"Top Tier\", xlabel=\"curricular complexity\", ylabel=\"# schools\", xlim=(0,500))"
   ]
  },
  {
   "cell_type": "code",
   "execution_count": 6,
   "metadata": {},
   "outputs": [
    {
     "name": "stdout",
     "output_type": "stream",
     "text": [
      "University of Miami => 203.0\n",
      "Embry-Riddle Aeronautical University => 341.0\n",
      "University of Oklahoma => 248.0\n",
      "New Jersey Institute of Technology => 427.0\n",
      "University of North Carolina--Charlotte => 448.0\n",
      "Southern Methodist University => 294.0\n",
      "San Diego State University => 298.0\n",
      "University of Kentucky => 241.0\n",
      "Indiana University-Purdue University--Indianapolis => 269.0\n",
      "University of Houston => 520.0\n",
      "University of California--Riverside => 283.59999999999985\n",
      "Louisiana State University--Baton Rouge => 275.0\n",
      "Brigham Young University => 290.0\n",
      "George Washington University => 311.0\n",
      "Texas Tech University => 318.0\n",
      "University of Cincinnati => 173.0\n",
      "Oklahoma State University => 313.0\n",
      "University of California--Santa Cruz => 185.59999999999997\n",
      "Clarkson University => 217.0\n",
      "University of Missouri => 215.0\n",
      "University of Alabama => 294.0\n",
      "Avg. curricular complexity = 293.53333333333336\n"
     ]
    },
    {
     "data": {
      "image/svg+xml": [
       "<?xml version=\"1.0\" encoding=\"utf-8\"?>\n",
       "<svg xmlns=\"http://www.w3.org/2000/svg\" xmlns:xlink=\"http://www.w3.org/1999/xlink\" width=\"600\" height=\"400\" viewBox=\"0 0 2400 1600\">\n",
       "<defs>\n",
       "  <clipPath id=\"clip710\">\n",
       "    <rect x=\"0\" y=\"0\" width=\"2400\" height=\"1600\"/>\n",
       "  </clipPath>\n",
       "</defs>\n",
       "<path clip-path=\"url(#clip710)\" d=\"\n",
       "M0 1600 L2400 1600 L2400 0 L0 0  Z\n",
       "  \" fill=\"#ffffff\" fill-rule=\"evenodd\" fill-opacity=\"1\"/>\n",
       "<defs>\n",
       "  <clipPath id=\"clip711\">\n",
       "    <rect x=\"480\" y=\"0\" width=\"1681\" height=\"1600\"/>\n",
       "  </clipPath>\n",
       "</defs>\n",
       "<path clip-path=\"url(#clip710)\" d=\"\n",
       "M234.82 1423.18 L2352.76 1423.18 L2352.76 123.472 L234.82 123.472  Z\n",
       "  \" fill=\"#ffffff\" fill-rule=\"evenodd\" fill-opacity=\"1\"/>\n",
       "<defs>\n",
       "  <clipPath id=\"clip712\">\n",
       "    <rect x=\"234\" y=\"123\" width=\"2119\" height=\"1301\"/>\n",
       "  </clipPath>\n",
       "</defs>\n",
       "<polyline clip-path=\"url(#clip712)\" style=\"stroke:#000000; stroke-width:2; stroke-opacity:0.1; fill:none\" points=\"\n",
       "  234.82,1423.18 234.82,123.472 \n",
       "  \"/>\n",
       "<polyline clip-path=\"url(#clip712)\" style=\"stroke:#000000; stroke-width:2; stroke-opacity:0.1; fill:none\" points=\"\n",
       "  658.407,1423.18 658.407,123.472 \n",
       "  \"/>\n",
       "<polyline clip-path=\"url(#clip712)\" style=\"stroke:#000000; stroke-width:2; stroke-opacity:0.1; fill:none\" points=\"\n",
       "  1081.99,1423.18 1081.99,123.472 \n",
       "  \"/>\n",
       "<polyline clip-path=\"url(#clip712)\" style=\"stroke:#000000; stroke-width:2; stroke-opacity:0.1; fill:none\" points=\"\n",
       "  1505.58,1423.18 1505.58,123.472 \n",
       "  \"/>\n",
       "<polyline clip-path=\"url(#clip712)\" style=\"stroke:#000000; stroke-width:2; stroke-opacity:0.1; fill:none\" points=\"\n",
       "  1929.17,1423.18 1929.17,123.472 \n",
       "  \"/>\n",
       "<polyline clip-path=\"url(#clip712)\" style=\"stroke:#000000; stroke-width:2; stroke-opacity:0.1; fill:none\" points=\"\n",
       "  2352.76,1423.18 2352.76,123.472 \n",
       "  \"/>\n",
       "<polyline clip-path=\"url(#clip712)\" style=\"stroke:#000000; stroke-width:2; stroke-opacity:0.1; fill:none\" points=\"\n",
       "  234.82,1423.18 2352.76,1423.18 \n",
       "  \"/>\n",
       "<polyline clip-path=\"url(#clip712)\" style=\"stroke:#000000; stroke-width:2; stroke-opacity:0.1; fill:none\" points=\"\n",
       "  234.82,1113.73 2352.76,1113.73 \n",
       "  \"/>\n",
       "<polyline clip-path=\"url(#clip712)\" style=\"stroke:#000000; stroke-width:2; stroke-opacity:0.1; fill:none\" points=\"\n",
       "  234.82,804.271 2352.76,804.271 \n",
       "  \"/>\n",
       "<polyline clip-path=\"url(#clip712)\" style=\"stroke:#000000; stroke-width:2; stroke-opacity:0.1; fill:none\" points=\"\n",
       "  234.82,494.817 2352.76,494.817 \n",
       "  \"/>\n",
       "<polyline clip-path=\"url(#clip712)\" style=\"stroke:#000000; stroke-width:2; stroke-opacity:0.1; fill:none\" points=\"\n",
       "  234.82,185.363 2352.76,185.363 \n",
       "  \"/>\n",
       "<polyline clip-path=\"url(#clip710)\" style=\"stroke:#000000; stroke-width:4; stroke-opacity:1; fill:none\" points=\"\n",
       "  234.82,1423.18 2352.76,1423.18 \n",
       "  \"/>\n",
       "<polyline clip-path=\"url(#clip710)\" style=\"stroke:#000000; stroke-width:4; stroke-opacity:1; fill:none\" points=\"\n",
       "  234.82,1423.18 234.82,123.472 \n",
       "  \"/>\n",
       "<polyline clip-path=\"url(#clip710)\" style=\"stroke:#000000; stroke-width:4; stroke-opacity:1; fill:none\" points=\"\n",
       "  234.82,1423.18 234.82,1407.58 \n",
       "  \"/>\n",
       "<polyline clip-path=\"url(#clip710)\" style=\"stroke:#000000; stroke-width:4; stroke-opacity:1; fill:none\" points=\"\n",
       "  658.407,1423.18 658.407,1407.58 \n",
       "  \"/>\n",
       "<polyline clip-path=\"url(#clip710)\" style=\"stroke:#000000; stroke-width:4; stroke-opacity:1; fill:none\" points=\"\n",
       "  1081.99,1423.18 1081.99,1407.58 \n",
       "  \"/>\n",
       "<polyline clip-path=\"url(#clip710)\" style=\"stroke:#000000; stroke-width:4; stroke-opacity:1; fill:none\" points=\"\n",
       "  1505.58,1423.18 1505.58,1407.58 \n",
       "  \"/>\n",
       "<polyline clip-path=\"url(#clip710)\" style=\"stroke:#000000; stroke-width:4; stroke-opacity:1; fill:none\" points=\"\n",
       "  1929.17,1423.18 1929.17,1407.58 \n",
       "  \"/>\n",
       "<polyline clip-path=\"url(#clip710)\" style=\"stroke:#000000; stroke-width:4; stroke-opacity:1; fill:none\" points=\"\n",
       "  2352.76,1423.18 2352.76,1407.58 \n",
       "  \"/>\n",
       "<polyline clip-path=\"url(#clip710)\" style=\"stroke:#000000; stroke-width:4; stroke-opacity:1; fill:none\" points=\"\n",
       "  234.82,1423.18 260.235,1423.18 \n",
       "  \"/>\n",
       "<polyline clip-path=\"url(#clip710)\" style=\"stroke:#000000; stroke-width:4; stroke-opacity:1; fill:none\" points=\"\n",
       "  234.82,1113.73 260.235,1113.73 \n",
       "  \"/>\n",
       "<polyline clip-path=\"url(#clip710)\" style=\"stroke:#000000; stroke-width:4; stroke-opacity:1; fill:none\" points=\"\n",
       "  234.82,804.271 260.235,804.271 \n",
       "  \"/>\n",
       "<polyline clip-path=\"url(#clip710)\" style=\"stroke:#000000; stroke-width:4; stroke-opacity:1; fill:none\" points=\"\n",
       "  234.82,494.817 260.235,494.817 \n",
       "  \"/>\n",
       "<polyline clip-path=\"url(#clip710)\" style=\"stroke:#000000; stroke-width:4; stroke-opacity:1; fill:none\" points=\"\n",
       "  234.82,185.363 260.235,185.363 \n",
       "  \"/>\n",
       "<path clip-path=\"url(#clip710)\" d=\"M 0 0 M234.82 1445.17 Q231.209 1445.17 229.38 1448.74 Q227.575 1452.28 227.575 1459.41 Q227.575 1466.51 229.38 1470.08 Q231.209 1473.62 234.82 1473.62 Q238.454 1473.62 240.26 1470.08 Q242.088 1466.51 242.088 1459.41 Q242.088 1452.28 240.26 1448.74 Q238.454 1445.17 234.82 1445.17 M234.82 1441.47 Q240.63 1441.47 243.686 1446.07 Q246.764 1450.66 246.764 1459.41 Q246.764 1468.13 243.686 1472.74 Q240.63 1477.32 234.82 1477.32 Q229.01 1477.32 225.931 1472.74 Q222.876 1468.13 222.876 1459.41 Q222.876 1450.66 225.931 1446.07 Q229.01 1441.47 234.82 1441.47 Z\" fill=\"#000000\" fill-rule=\"evenodd\" fill-opacity=\"1\" /><path clip-path=\"url(#clip710)\" d=\"M 0 0 M621.775 1472.72 L629.414 1472.72 L629.414 1446.35 L621.104 1448.02 L621.104 1443.76 L629.368 1442.09 L634.044 1442.09 L634.044 1472.72 L641.683 1472.72 L641.683 1476.65 L621.775 1476.65 L621.775 1472.72 Z\" fill=\"#000000\" fill-rule=\"evenodd\" fill-opacity=\"1\" /><path clip-path=\"url(#clip710)\" d=\"M 0 0 M656.752 1445.17 Q653.141 1445.17 651.312 1448.74 Q649.507 1452.28 649.507 1459.41 Q649.507 1466.51 651.312 1470.08 Q653.141 1473.62 656.752 1473.62 Q660.386 1473.62 662.192 1470.08 Q664.02 1466.51 664.02 1459.41 Q664.02 1452.28 662.192 1448.74 Q660.386 1445.17 656.752 1445.17 M656.752 1441.47 Q662.562 1441.47 665.618 1446.07 Q668.696 1450.66 668.696 1459.41 Q668.696 1468.13 665.618 1472.74 Q662.562 1477.32 656.752 1477.32 Q650.942 1477.32 647.863 1472.74 Q644.808 1468.13 644.808 1459.41 Q644.808 1450.66 647.863 1446.07 Q650.942 1441.47 656.752 1441.47 Z\" fill=\"#000000\" fill-rule=\"evenodd\" fill-opacity=\"1\" /><path clip-path=\"url(#clip710)\" d=\"M 0 0 M683.766 1445.17 Q680.155 1445.17 678.326 1448.74 Q676.52 1452.28 676.52 1459.41 Q676.52 1466.51 678.326 1470.08 Q680.155 1473.62 683.766 1473.62 Q687.4 1473.62 689.206 1470.08 Q691.034 1466.51 691.034 1459.41 Q691.034 1452.28 689.206 1448.74 Q687.4 1445.17 683.766 1445.17 M683.766 1441.47 Q689.576 1441.47 692.631 1446.07 Q695.71 1450.66 695.71 1459.41 Q695.71 1468.13 692.631 1472.74 Q689.576 1477.32 683.766 1477.32 Q677.956 1477.32 674.877 1472.74 Q671.821 1468.13 671.821 1459.41 Q671.821 1450.66 674.877 1446.07 Q677.956 1441.47 683.766 1441.47 Z\" fill=\"#000000\" fill-rule=\"evenodd\" fill-opacity=\"1\" /><path clip-path=\"url(#clip710)\" d=\"M 0 0 M1049.63 1472.72 L1065.95 1472.72 L1065.95 1476.65 L1044.01 1476.65 L1044.01 1472.72 Q1046.67 1469.96 1051.25 1465.33 Q1055.86 1460.68 1057.04 1459.34 Q1059.29 1456.81 1060.17 1455.08 Q1061.07 1453.32 1061.07 1451.63 Q1061.07 1448.87 1059.12 1447.14 Q1057.2 1445.4 1054.1 1445.4 Q1051.9 1445.4 1049.45 1446.17 Q1047.02 1446.93 1044.24 1448.48 L1044.24 1443.76 Q1047.06 1442.62 1049.52 1442.05 Q1051.97 1441.47 1054.01 1441.47 Q1059.38 1441.47 1062.57 1444.15 Q1065.77 1446.84 1065.77 1451.33 Q1065.77 1453.46 1064.96 1455.38 Q1064.17 1457.28 1062.06 1459.87 Q1061.49 1460.54 1058.38 1463.76 Q1055.28 1466.95 1049.63 1472.72 Z\" fill=\"#000000\" fill-rule=\"evenodd\" fill-opacity=\"1\" /><path clip-path=\"url(#clip710)\" d=\"M 0 0 M1081.02 1445.17 Q1077.41 1445.17 1075.58 1448.74 Q1073.78 1452.28 1073.78 1459.41 Q1073.78 1466.51 1075.58 1470.08 Q1077.41 1473.62 1081.02 1473.62 Q1084.66 1473.62 1086.46 1470.08 Q1088.29 1466.51 1088.29 1459.41 Q1088.29 1452.28 1086.46 1448.74 Q1084.66 1445.17 1081.02 1445.17 M1081.02 1441.47 Q1086.83 1441.47 1089.89 1446.07 Q1092.97 1450.66 1092.97 1459.41 Q1092.97 1468.13 1089.89 1472.74 Q1086.83 1477.32 1081.02 1477.32 Q1075.21 1477.32 1072.13 1472.74 Q1069.08 1468.13 1069.08 1459.41 Q1069.08 1450.66 1072.13 1446.07 Q1075.21 1441.47 1081.02 1441.47 Z\" fill=\"#000000\" fill-rule=\"evenodd\" fill-opacity=\"1\" /><path clip-path=\"url(#clip710)\" d=\"M 0 0 M1108.04 1445.17 Q1104.42 1445.17 1102.6 1448.74 Q1100.79 1452.28 1100.79 1459.41 Q1100.79 1466.51 1102.6 1470.08 Q1104.42 1473.62 1108.04 1473.62 Q1111.67 1473.62 1113.48 1470.08 Q1115.3 1466.51 1115.3 1459.41 Q1115.3 1452.28 1113.48 1448.74 Q1111.67 1445.17 1108.04 1445.17 M1108.04 1441.47 Q1113.85 1441.47 1116.9 1446.07 Q1119.98 1450.66 1119.98 1459.41 Q1119.98 1468.13 1116.9 1472.74 Q1113.85 1477.32 1108.04 1477.32 Q1102.23 1477.32 1099.15 1472.74 Q1096.09 1468.13 1096.09 1459.41 Q1096.09 1450.66 1099.15 1446.07 Q1102.23 1441.47 1108.04 1441.47 Z\" fill=\"#000000\" fill-rule=\"evenodd\" fill-opacity=\"1\" /><path clip-path=\"url(#clip710)\" d=\"M 0 0 M1482.82 1458.02 Q1486.17 1458.74 1488.05 1461 Q1489.95 1463.27 1489.95 1466.61 Q1489.95 1471.72 1486.43 1474.52 Q1482.91 1477.32 1476.43 1477.32 Q1474.25 1477.32 1471.94 1476.88 Q1469.64 1476.47 1467.19 1475.61 L1467.19 1471.1 Q1469.13 1472.23 1471.45 1472.81 Q1473.76 1473.39 1476.29 1473.39 Q1480.69 1473.39 1482.98 1471.65 Q1485.29 1469.92 1485.29 1466.61 Q1485.29 1463.55 1483.14 1461.84 Q1481.01 1460.1 1477.19 1460.1 L1473.16 1460.1 L1473.16 1456.26 L1477.38 1456.26 Q1480.82 1456.26 1482.65 1454.89 Q1484.48 1453.5 1484.48 1450.91 Q1484.48 1448.25 1482.58 1446.84 Q1480.71 1445.4 1477.19 1445.4 Q1475.27 1445.4 1473.07 1445.82 Q1470.87 1446.24 1468.23 1447.11 L1468.23 1442.95 Q1470.89 1442.21 1473.21 1441.84 Q1475.55 1441.47 1477.61 1441.47 Q1482.93 1441.47 1486.03 1443.9 Q1489.13 1446.3 1489.13 1450.43 Q1489.13 1453.3 1487.49 1455.29 Q1485.85 1457.25 1482.82 1458.02 Z\" fill=\"#000000\" fill-rule=\"evenodd\" fill-opacity=\"1\" /><path clip-path=\"url(#clip710)\" d=\"M 0 0 M1505.01 1445.17 Q1501.4 1445.17 1499.57 1448.74 Q1497.77 1452.28 1497.77 1459.41 Q1497.77 1466.51 1499.57 1470.08 Q1501.4 1473.62 1505.01 1473.62 Q1508.65 1473.62 1510.45 1470.08 Q1512.28 1466.51 1512.28 1459.41 Q1512.28 1452.28 1510.45 1448.74 Q1508.65 1445.17 1505.01 1445.17 M1505.01 1441.47 Q1510.82 1441.47 1513.88 1446.07 Q1516.96 1450.66 1516.96 1459.41 Q1516.96 1468.13 1513.88 1472.74 Q1510.82 1477.32 1505.01 1477.32 Q1499.2 1477.32 1496.13 1472.74 Q1493.07 1468.13 1493.07 1459.41 Q1493.07 1450.66 1496.13 1446.07 Q1499.2 1441.47 1505.01 1441.47 Z\" fill=\"#000000\" fill-rule=\"evenodd\" fill-opacity=\"1\" /><path clip-path=\"url(#clip710)\" d=\"M 0 0 M1532.03 1445.17 Q1528.42 1445.17 1526.59 1448.74 Q1524.78 1452.28 1524.78 1459.41 Q1524.78 1466.51 1526.59 1470.08 Q1528.42 1473.62 1532.03 1473.62 Q1535.66 1473.62 1537.47 1470.08 Q1539.3 1466.51 1539.3 1459.41 Q1539.3 1452.28 1537.47 1448.74 Q1535.66 1445.17 1532.03 1445.17 M1532.03 1441.47 Q1537.84 1441.47 1540.89 1446.07 Q1543.97 1450.66 1543.97 1459.41 Q1543.97 1468.13 1540.89 1472.74 Q1537.84 1477.32 1532.03 1477.32 Q1526.22 1477.32 1523.14 1472.74 Q1520.08 1468.13 1520.08 1459.41 Q1520.08 1450.66 1523.14 1446.07 Q1526.22 1441.47 1532.03 1441.47 Z\" fill=\"#000000\" fill-rule=\"evenodd\" fill-opacity=\"1\" /><path clip-path=\"url(#clip710)\" d=\"M 0 0 M1905.16 1446.17 L1893.36 1464.61 L1905.16 1464.61 L1905.16 1446.17 M1903.94 1442.09 L1909.82 1442.09 L1909.82 1464.61 L1914.75 1464.61 L1914.75 1468.5 L1909.82 1468.5 L1909.82 1476.65 L1905.16 1476.65 L1905.16 1468.5 L1889.56 1468.5 L1889.56 1463.99 L1903.94 1442.09 Z\" fill=\"#000000\" fill-rule=\"evenodd\" fill-opacity=\"1\" /><path clip-path=\"url(#clip710)\" d=\"M 0 0 M1929.82 1445.17 Q1926.21 1445.17 1924.38 1448.74 Q1922.57 1452.28 1922.57 1459.41 Q1922.57 1466.51 1924.38 1470.08 Q1926.21 1473.62 1929.82 1473.62 Q1933.45 1473.62 1935.26 1470.08 Q1937.09 1466.51 1937.09 1459.41 Q1937.09 1452.28 1935.26 1448.74 Q1933.45 1445.17 1929.82 1445.17 M1929.82 1441.47 Q1935.63 1441.47 1938.68 1446.07 Q1941.76 1450.66 1941.76 1459.41 Q1941.76 1468.13 1938.68 1472.74 Q1935.63 1477.32 1929.82 1477.32 Q1924.01 1477.32 1920.93 1472.74 Q1917.87 1468.13 1917.87 1459.41 Q1917.87 1450.66 1920.93 1446.07 Q1924.01 1441.47 1929.82 1441.47 Z\" fill=\"#000000\" fill-rule=\"evenodd\" fill-opacity=\"1\" /><path clip-path=\"url(#clip710)\" d=\"M 0 0 M1956.83 1445.17 Q1953.22 1445.17 1951.39 1448.74 Q1949.59 1452.28 1949.59 1459.41 Q1949.59 1466.51 1951.39 1470.08 Q1953.22 1473.62 1956.83 1473.62 Q1960.46 1473.62 1962.27 1470.08 Q1964.1 1466.51 1964.1 1459.41 Q1964.1 1452.28 1962.27 1448.74 Q1960.46 1445.17 1956.83 1445.17 M1956.83 1441.47 Q1962.64 1441.47 1965.7 1446.07 Q1968.77 1450.66 1968.77 1459.41 Q1968.77 1468.13 1965.7 1472.74 Q1962.64 1477.32 1956.83 1477.32 Q1951.02 1477.32 1947.94 1472.74 Q1944.89 1468.13 1944.89 1459.41 Q1944.89 1450.66 1947.94 1446.07 Q1951.02 1441.47 1956.83 1441.47 Z\" fill=\"#000000\" fill-rule=\"evenodd\" fill-opacity=\"1\" /><path clip-path=\"url(#clip710)\" d=\"M 0 0 M2316.02 1442.09 L2334.38 1442.09 L2334.38 1446.03 L2320.3 1446.03 L2320.3 1454.5 Q2321.32 1454.15 2322.34 1453.99 Q2323.36 1453.8 2324.38 1453.8 Q2330.16 1453.8 2333.54 1456.98 Q2336.92 1460.15 2336.92 1465.56 Q2336.92 1471.14 2333.45 1474.24 Q2329.98 1477.32 2323.66 1477.32 Q2321.48 1477.32 2319.21 1476.95 Q2316.97 1476.58 2314.56 1475.84 L2314.56 1471.14 Q2316.64 1472.28 2318.87 1472.83 Q2321.09 1473.39 2323.57 1473.39 Q2327.57 1473.39 2329.91 1471.28 Q2332.25 1469.18 2332.25 1465.56 Q2332.25 1461.95 2329.91 1459.85 Q2327.57 1457.74 2323.57 1457.74 Q2321.69 1457.74 2319.82 1458.16 Q2317.96 1458.57 2316.02 1459.45 L2316.02 1442.09 Z\" fill=\"#000000\" fill-rule=\"evenodd\" fill-opacity=\"1\" /><path clip-path=\"url(#clip710)\" d=\"M 0 0 M2351.99 1445.17 Q2348.38 1445.17 2346.55 1448.74 Q2344.75 1452.28 2344.75 1459.41 Q2344.75 1466.51 2346.55 1470.08 Q2348.38 1473.62 2351.99 1473.62 Q2355.63 1473.62 2357.43 1470.08 Q2359.26 1466.51 2359.26 1459.41 Q2359.26 1452.28 2357.43 1448.74 Q2355.63 1445.17 2351.99 1445.17 M2351.99 1441.47 Q2357.8 1441.47 2360.86 1446.07 Q2363.94 1450.66 2363.94 1459.41 Q2363.94 1468.13 2360.86 1472.74 Q2357.8 1477.32 2351.99 1477.32 Q2346.18 1477.32 2343.1 1472.74 Q2340.05 1468.13 2340.05 1459.41 Q2340.05 1450.66 2343.1 1446.07 Q2346.18 1441.47 2351.99 1441.47 Z\" fill=\"#000000\" fill-rule=\"evenodd\" fill-opacity=\"1\" /><path clip-path=\"url(#clip710)\" d=\"M 0 0 M2379.01 1445.17 Q2375.39 1445.17 2373.57 1448.74 Q2371.76 1452.28 2371.76 1459.41 Q2371.76 1466.51 2373.57 1470.08 Q2375.39 1473.62 2379.01 1473.62 Q2382.64 1473.62 2384.45 1470.08 Q2386.27 1466.51 2386.27 1459.41 Q2386.27 1452.28 2384.45 1448.74 Q2382.64 1445.17 2379.01 1445.17 M2379.01 1441.47 Q2384.82 1441.47 2387.87 1446.07 Q2390.95 1450.66 2390.95 1459.41 Q2390.95 1468.13 2387.87 1472.74 Q2384.82 1477.32 2379.01 1477.32 Q2373.2 1477.32 2370.12 1472.74 Q2367.06 1468.13 2367.06 1459.41 Q2367.06 1450.66 2370.12 1446.07 Q2373.2 1441.47 2379.01 1441.47 Z\" fill=\"#000000\" fill-rule=\"evenodd\" fill-opacity=\"1\" /><path clip-path=\"url(#clip710)\" d=\"M 0 0 M161.908 1408.98 Q158.297 1408.98 156.468 1412.54 Q154.663 1416.08 154.663 1423.21 Q154.663 1430.32 156.468 1433.89 Q158.297 1437.43 161.908 1437.43 Q165.542 1437.43 167.348 1433.89 Q169.177 1430.32 169.177 1423.21 Q169.177 1416.08 167.348 1412.54 Q165.542 1408.98 161.908 1408.98 M161.908 1405.27 Q167.718 1405.27 170.774 1409.88 Q173.852 1414.46 173.852 1423.21 Q173.852 1431.94 170.774 1436.55 Q167.718 1441.13 161.908 1441.13 Q156.098 1441.13 153.019 1436.55 Q149.964 1431.94 149.964 1423.21 Q149.964 1414.46 153.019 1409.88 Q156.098 1405.27 161.908 1405.27 Z\" fill=\"#000000\" fill-rule=\"evenodd\" fill-opacity=\"1\" /><path clip-path=\"url(#clip710)\" d=\"M 0 0 M178.922 1434.58 L183.806 1434.58 L183.806 1440.46 L178.922 1440.46 L178.922 1434.58 Z\" fill=\"#000000\" fill-rule=\"evenodd\" fill-opacity=\"1\" /><path clip-path=\"url(#clip710)\" d=\"M 0 0 M198.876 1408.98 Q195.264 1408.98 193.436 1412.54 Q191.63 1416.08 191.63 1423.21 Q191.63 1430.32 193.436 1433.89 Q195.264 1437.43 198.876 1437.43 Q202.51 1437.43 204.315 1433.89 Q206.144 1430.32 206.144 1423.21 Q206.144 1416.08 204.315 1412.54 Q202.51 1408.98 198.876 1408.98 M198.876 1405.27 Q204.686 1405.27 207.741 1409.88 Q210.82 1414.46 210.82 1423.21 Q210.82 1431.94 207.741 1436.55 Q204.686 1441.13 198.876 1441.13 Q193.065 1441.13 189.987 1436.55 Q186.931 1431.94 186.931 1423.21 Q186.931 1414.46 189.987 1409.88 Q193.065 1405.27 198.876 1405.27 Z\" fill=\"#000000\" fill-rule=\"evenodd\" fill-opacity=\"1\" /><path clip-path=\"url(#clip710)\" d=\"M 0 0 M158.529 1127.07 L174.848 1127.07 L174.848 1131.01 L152.904 1131.01 L152.904 1127.07 Q155.566 1124.32 160.149 1119.69 Q164.755 1115.03 165.936 1113.69 Q168.181 1111.17 169.061 1109.43 Q169.964 1107.67 169.964 1105.98 Q169.964 1103.23 168.019 1101.49 Q166.098 1099.76 162.996 1099.76 Q160.797 1099.76 158.343 1100.52 Q155.913 1101.28 153.135 1102.83 L153.135 1098.11 Q155.959 1096.98 158.413 1096.4 Q160.866 1095.82 162.903 1095.82 Q168.274 1095.82 171.468 1098.51 Q174.663 1101.19 174.663 1105.68 Q174.663 1107.81 173.852 1109.73 Q173.065 1111.63 170.959 1114.22 Q170.38 1114.89 167.278 1118.11 Q164.177 1121.31 158.529 1127.07 Z\" fill=\"#000000\" fill-rule=\"evenodd\" fill-opacity=\"1\" /><path clip-path=\"url(#clip710)\" d=\"M 0 0 M179.917 1125.13 L184.802 1125.13 L184.802 1131.01 L179.917 1131.01 L179.917 1125.13 Z\" fill=\"#000000\" fill-rule=\"evenodd\" fill-opacity=\"1\" /><path clip-path=\"url(#clip710)\" d=\"M 0 0 M189.917 1096.45 L208.274 1096.45 L208.274 1100.38 L194.2 1100.38 L194.2 1108.85 Q195.218 1108.51 196.237 1108.34 Q197.255 1108.16 198.274 1108.16 Q204.061 1108.16 207.44 1111.33 Q210.82 1114.5 210.82 1119.92 Q210.82 1125.5 207.348 1128.6 Q203.875 1131.68 197.556 1131.68 Q195.38 1131.68 193.112 1131.31 Q190.866 1130.94 188.459 1130.2 L188.459 1125.5 Q190.542 1126.63 192.764 1127.19 Q194.987 1127.74 197.463 1127.74 Q201.468 1127.74 203.806 1125.64 Q206.144 1123.53 206.144 1119.92 Q206.144 1116.31 203.806 1114.2 Q201.468 1112.09 197.463 1112.09 Q195.588 1112.09 193.713 1112.51 Q191.862 1112.93 189.917 1113.81 L189.917 1096.45 Z\" fill=\"#000000\" fill-rule=\"evenodd\" fill-opacity=\"1\" /><path clip-path=\"url(#clip710)\" d=\"M 0 0 M152.95 786.991 L171.306 786.991 L171.306 790.927 L157.232 790.927 L157.232 799.399 Q158.251 799.052 159.269 798.889 Q160.288 798.704 161.306 798.704 Q167.093 798.704 170.473 801.876 Q173.852 805.047 173.852 810.464 Q173.852 816.042 170.38 819.144 Q166.908 822.223 160.589 822.223 Q158.413 822.223 156.144 821.852 Q153.899 821.482 151.492 820.741 L151.492 816.042 Q153.575 817.176 155.797 817.732 Q158.019 818.288 160.496 818.288 Q164.501 818.288 166.839 816.181 Q169.177 814.075 169.177 810.464 Q169.177 806.852 166.839 804.746 Q164.501 802.639 160.496 802.639 Q158.621 802.639 156.746 803.056 Q154.894 803.473 152.95 804.352 L152.95 786.991 Z\" fill=\"#000000\" fill-rule=\"evenodd\" fill-opacity=\"1\" /><path clip-path=\"url(#clip710)\" d=\"M 0 0 M178.922 815.672 L183.806 815.672 L183.806 821.551 L178.922 821.551 L178.922 815.672 Z\" fill=\"#000000\" fill-rule=\"evenodd\" fill-opacity=\"1\" /><path clip-path=\"url(#clip710)\" d=\"M 0 0 M198.876 790.07 Q195.264 790.07 193.436 793.635 Q191.63 797.177 191.63 804.306 Q191.63 811.413 193.436 814.977 Q195.264 818.519 198.876 818.519 Q202.51 818.519 204.315 814.977 Q206.144 811.413 206.144 804.306 Q206.144 797.177 204.315 793.635 Q202.51 790.07 198.876 790.07 M198.876 786.366 Q204.686 786.366 207.741 790.973 Q210.82 795.556 210.82 804.306 Q210.82 813.033 207.741 817.639 Q204.686 822.223 198.876 822.223 Q193.065 822.223 189.987 817.639 Q186.931 813.033 186.931 804.306 Q186.931 795.556 189.987 790.973 Q193.065 786.366 198.876 786.366 Z\" fill=\"#000000\" fill-rule=\"evenodd\" fill-opacity=\"1\" /><path clip-path=\"url(#clip710)\" d=\"M 0 0 M152.626 477.537 L174.848 477.537 L174.848 479.528 L162.302 512.097 L157.417 512.097 L169.223 481.472 L152.626 481.472 L152.626 477.537 Z\" fill=\"#000000\" fill-rule=\"evenodd\" fill-opacity=\"1\" /><path clip-path=\"url(#clip710)\" d=\"M 0 0 M179.917 506.218 L184.802 506.218 L184.802 512.097 L179.917 512.097 L179.917 506.218 Z\" fill=\"#000000\" fill-rule=\"evenodd\" fill-opacity=\"1\" /><path clip-path=\"url(#clip710)\" d=\"M 0 0 M189.917 477.537 L208.274 477.537 L208.274 481.472 L194.2 481.472 L194.2 489.945 Q195.218 489.597 196.237 489.435 Q197.255 489.25 198.274 489.25 Q204.061 489.25 207.44 492.421 Q210.82 495.593 210.82 501.009 Q210.82 506.588 207.348 509.69 Q203.875 512.768 197.556 512.768 Q195.38 512.768 193.112 512.398 Q190.866 512.028 188.459 511.287 L188.459 506.588 Q190.542 507.722 192.764 508.278 Q194.987 508.833 197.463 508.833 Q201.468 508.833 203.806 506.727 Q206.144 504.62 206.144 501.009 Q206.144 497.398 203.806 495.292 Q201.468 493.185 197.463 493.185 Q195.588 493.185 193.713 493.602 Q191.862 494.019 189.917 494.898 L189.917 477.537 Z\" fill=\"#000000\" fill-rule=\"evenodd\" fill-opacity=\"1\" /><path clip-path=\"url(#clip710)\" d=\"M 0 0 M126.931 198.708 L134.57 198.708 L134.57 172.342 L126.26 174.009 L126.26 169.75 L134.524 168.083 L139.2 168.083 L139.2 198.708 L146.839 198.708 L146.839 202.643 L126.931 202.643 L126.931 198.708 Z\" fill=\"#000000\" fill-rule=\"evenodd\" fill-opacity=\"1\" /><path clip-path=\"url(#clip710)\" d=\"M 0 0 M161.908 171.162 Q158.297 171.162 156.468 174.726 Q154.663 178.268 154.663 185.398 Q154.663 192.504 156.468 196.069 Q158.297 199.611 161.908 199.611 Q165.542 199.611 167.348 196.069 Q169.177 192.504 169.177 185.398 Q169.177 178.268 167.348 174.726 Q165.542 171.162 161.908 171.162 M161.908 167.458 Q167.718 167.458 170.774 172.064 Q173.852 176.648 173.852 185.398 Q173.852 194.124 170.774 198.731 Q167.718 203.314 161.908 203.314 Q156.098 203.314 153.019 198.731 Q149.964 194.124 149.964 185.398 Q149.964 176.648 153.019 172.064 Q156.098 167.458 161.908 167.458 Z\" fill=\"#000000\" fill-rule=\"evenodd\" fill-opacity=\"1\" /><path clip-path=\"url(#clip710)\" d=\"M 0 0 M178.922 196.763 L183.806 196.763 L183.806 202.643 L178.922 202.643 L178.922 196.763 Z\" fill=\"#000000\" fill-rule=\"evenodd\" fill-opacity=\"1\" /><path clip-path=\"url(#clip710)\" d=\"M 0 0 M198.876 171.162 Q195.264 171.162 193.436 174.726 Q191.63 178.268 191.63 185.398 Q191.63 192.504 193.436 196.069 Q195.264 199.611 198.876 199.611 Q202.51 199.611 204.315 196.069 Q206.144 192.504 206.144 185.398 Q206.144 178.268 204.315 174.726 Q202.51 171.162 198.876 171.162 M198.876 167.458 Q204.686 167.458 207.741 172.064 Q210.82 176.648 210.82 185.398 Q210.82 194.124 207.741 198.731 Q204.686 203.314 198.876 203.314 Q193.065 203.314 189.987 198.731 Q186.931 194.124 186.931 185.398 Q186.931 176.648 189.987 172.064 Q193.065 167.458 198.876 167.458 Z\" fill=\"#000000\" fill-rule=\"evenodd\" fill-opacity=\"1\" /><path clip-path=\"url(#clip710)\" d=\"M 0 0 M1097.04 12.096 L1109.23 12.096 L1124.66 53.2532 L1140.18 12.096 L1152.37 12.096 L1152.37 72.576 L1144.39 72.576 L1144.39 19.4686 L1128.79 60.9499 L1120.57 60.9499 L1104.98 19.4686 L1104.98 72.576 L1097.04 72.576 L1097.04 12.096 Z\" fill=\"#000000\" fill-rule=\"evenodd\" fill-opacity=\"1\" /><path clip-path=\"url(#clip710)\" d=\"M 0 0 M1160.19 27.2059 L1167.64 27.2059 L1167.64 72.576 L1160.19 72.576 L1160.19 27.2059 M1160.19 9.54393 L1167.64 9.54393 L1167.64 18.9825 L1160.19 18.9825 L1160.19 9.54393 Z\" fill=\"#000000\" fill-rule=\"evenodd\" fill-opacity=\"1\" /><path clip-path=\"url(#clip710)\" d=\"M 0 0 M1205.32 34.0924 L1205.32 9.54393 L1212.77 9.54393 L1212.77 72.576 L1205.32 72.576 L1205.32 65.7705 Q1202.97 69.8214 1199.36 71.8063 Q1195.8 73.7508 1190.77 73.7508 Q1182.55 73.7508 1177.36 67.1883 Q1172.22 60.6258 1172.22 49.9314 Q1172.22 39.2371 1177.36 32.6746 Q1182.55 26.1121 1190.77 26.1121 Q1195.8 26.1121 1199.36 28.0971 Q1202.97 30.0415 1205.32 34.0924 M1179.92 49.9314 Q1179.92 58.1548 1183.28 62.8538 Q1186.68 67.5124 1192.6 67.5124 Q1198.51 67.5124 1201.91 62.8538 Q1205.32 58.1548 1205.32 49.9314 Q1205.32 41.7081 1201.91 37.0496 Q1198.51 32.3505 1192.6 32.3505 Q1186.68 32.3505 1183.28 37.0496 Q1179.92 41.7081 1179.92 49.9314 Z\" fill=\"#000000\" fill-rule=\"evenodd\" fill-opacity=\"1\" /><path clip-path=\"url(#clip710)\" d=\"M 0 0 M1250.44 34.0924 L1250.44 9.54393 L1257.9 9.54393 L1257.9 72.576 L1250.44 72.576 L1250.44 65.7705 Q1248.09 69.8214 1244.49 71.8063 Q1240.92 73.7508 1235.9 73.7508 Q1227.68 73.7508 1222.49 67.1883 Q1217.35 60.6258 1217.35 49.9314 Q1217.35 39.2371 1222.49 32.6746 Q1227.68 26.1121 1235.9 26.1121 Q1240.92 26.1121 1244.49 28.0971 Q1248.09 30.0415 1250.44 34.0924 M1225.04 49.9314 Q1225.04 58.1548 1228.41 62.8538 Q1231.81 67.5124 1237.72 67.5124 Q1243.64 67.5124 1247.04 62.8538 Q1250.44 58.1548 1250.44 49.9314 Q1250.44 41.7081 1247.04 37.0496 Q1243.64 32.3505 1237.72 32.3505 Q1231.81 32.3505 1228.41 37.0496 Q1225.04 41.7081 1225.04 49.9314 Z\" fill=\"#000000\" fill-rule=\"evenodd\" fill-opacity=\"1\" /><path clip-path=\"url(#clip710)\" d=\"M 0 0 M1265.72 9.54393 L1273.17 9.54393 L1273.17 72.576 L1265.72 72.576 L1265.72 9.54393 Z\" fill=\"#000000\" fill-rule=\"evenodd\" fill-opacity=\"1\" /><path clip-path=\"url(#clip710)\" d=\"M 0 0 M1319.79 48.0275 L1319.79 51.6733 L1285.52 51.6733 Q1286.01 59.3701 1290.14 63.421 Q1294.31 67.4314 1301.73 67.4314 Q1306.02 67.4314 1310.03 66.3781 Q1314.08 65.3249 1318.05 63.2184 L1318.05 70.267 Q1314.04 71.9684 1309.83 72.8596 Q1305.62 73.7508 1301.28 73.7508 Q1290.43 73.7508 1284.07 67.4314 Q1277.75 61.1119 1277.75 50.3365 Q1277.75 39.1965 1283.74 32.6746 Q1289.78 26.1121 1299.99 26.1121 Q1309.14 26.1121 1314.45 32.0264 Q1319.79 37.9003 1319.79 48.0275 M1312.34 45.84 Q1312.26 39.7232 1308.9 36.0774 Q1305.58 32.4315 1300.07 32.4315 Q1293.83 32.4315 1290.06 35.9558 Q1286.33 39.4801 1285.77 45.8805 L1312.34 45.84 Z\" fill=\"#000000\" fill-rule=\"evenodd\" fill-opacity=\"1\" /><path clip-path=\"url(#clip710)\" d=\"M 0 0 M1345.92 12.096 L1397.09 12.096 L1397.09 18.9825 L1375.62 18.9825 L1375.62 72.576 L1367.39 72.576 L1367.39 18.9825 L1345.92 18.9825 L1345.92 12.096 Z\" fill=\"#000000\" fill-rule=\"evenodd\" fill-opacity=\"1\" /><path clip-path=\"url(#clip710)\" d=\"M 0 0 M1402.35 27.2059 L1409.81 27.2059 L1409.81 72.576 L1402.35 72.576 L1402.35 27.2059 M1402.35 9.54393 L1409.81 9.54393 L1409.81 18.9825 L1402.35 18.9825 L1402.35 9.54393 Z\" fill=\"#000000\" fill-rule=\"evenodd\" fill-opacity=\"1\" /><path clip-path=\"url(#clip710)\" d=\"M 0 0 M1456.43 48.0275 L1456.43 51.6733 L1422.16 51.6733 Q1422.65 59.3701 1426.78 63.421 Q1430.95 67.4314 1438.36 67.4314 Q1442.66 67.4314 1446.67 66.3781 Q1450.72 65.3249 1454.69 63.2184 L1454.69 70.267 Q1450.68 71.9684 1446.47 72.8596 Q1442.25 73.7508 1437.92 73.7508 Q1427.06 73.7508 1420.7 67.4314 Q1414.38 61.1119 1414.38 50.3365 Q1414.38 39.1965 1420.38 32.6746 Q1426.41 26.1121 1436.62 26.1121 Q1445.78 26.1121 1451.08 32.0264 Q1456.43 37.9003 1456.43 48.0275 M1448.98 45.84 Q1448.9 39.7232 1445.53 36.0774 Q1442.21 32.4315 1436.7 32.4315 Q1430.47 32.4315 1426.7 35.9558 Q1422.97 39.4801 1422.4 45.8805 L1448.98 45.84 Z\" fill=\"#000000\" fill-rule=\"evenodd\" fill-opacity=\"1\" /><path clip-path=\"url(#clip710)\" d=\"M 0 0 M1490.54 34.1734 Q1489.28 33.4443 1487.79 33.1202 Q1486.33 32.7556 1484.54 32.7556 Q1478.23 32.7556 1474.82 36.8875 Q1471.46 40.9789 1471.46 48.6757 L1471.46 72.576 L1463.97 72.576 L1463.97 27.2059 L1471.46 27.2059 L1471.46 34.2544 Q1473.81 30.1225 1477.58 28.1376 Q1481.34 26.1121 1486.73 26.1121 Q1487.5 26.1121 1488.43 26.2337 Q1489.37 26.3147 1490.5 26.5172 L1490.54 34.1734 Z\" fill=\"#000000\" fill-rule=\"evenodd\" fill-opacity=\"1\" /><path clip-path=\"url(#clip710)\" d=\"M 0 0 M1017.37 1521.76 L1017.37 1527.24 Q1014.89 1525.87 1012.38 1525.2 Q1009.89 1524.5 1007.35 1524.5 Q1001.65 1524.5 998.499 1528.13 Q995.348 1531.73 995.348 1538.25 Q995.348 1544.78 998.499 1548.4 Q1001.65 1552 1007.35 1552 Q1009.89 1552 1012.38 1551.33 Q1014.89 1550.63 1017.37 1549.26 L1017.37 1554.68 Q1014.92 1555.82 1012.28 1556.39 Q1009.67 1556.97 1006.71 1556.97 Q998.658 1556.97 993.915 1551.91 Q989.173 1546.85 989.173 1538.25 Q989.173 1529.53 993.947 1524.53 Q998.753 1519.54 1007.09 1519.54 Q1009.8 1519.54 1012.38 1520.11 Q1014.95 1520.65 1017.37 1521.76 Z\" fill=\"#000000\" fill-rule=\"evenodd\" fill-opacity=\"1\" /><path clip-path=\"url(#clip710)\" d=\"M 0 0 M1022.91 1541.98 L1022.91 1520.4 L1028.77 1520.4 L1028.77 1541.75 Q1028.77 1546.81 1030.74 1549.36 Q1032.71 1551.87 1036.66 1551.87 Q1041.4 1551.87 1044.14 1548.85 Q1046.91 1545.83 1046.91 1540.61 L1046.91 1520.4 L1052.77 1520.4 L1052.77 1556.04 L1046.91 1556.04 L1046.91 1550.57 Q1044.78 1553.82 1041.94 1555.41 Q1039.14 1556.97 1035.42 1556.97 Q1029.28 1556.97 1026.09 1553.15 Q1022.91 1549.33 1022.91 1541.98 M1037.65 1519.54 L1037.65 1519.54 Z\" fill=\"#000000\" fill-rule=\"evenodd\" fill-opacity=\"1\" /><path clip-path=\"url(#clip710)\" d=\"M 0 0 M1079.57 1525.87 Q1078.58 1525.3 1077.4 1525.04 Q1076.26 1524.76 1074.86 1524.76 Q1069.89 1524.76 1067.22 1528 Q1064.57 1531.22 1064.57 1537.27 L1064.57 1556.04 L1058.69 1556.04 L1058.69 1520.4 L1064.57 1520.4 L1064.57 1525.93 Q1066.42 1522.69 1069.38 1521.13 Q1072.34 1519.54 1076.57 1519.54 Q1077.18 1519.54 1077.91 1519.63 Q1078.64 1519.7 1079.53 1519.85 L1079.57 1525.87 Z\" fill=\"#000000\" fill-rule=\"evenodd\" fill-opacity=\"1\" /><path clip-path=\"url(#clip710)\" d=\"M 0 0 M1105.22 1525.87 Q1104.23 1525.3 1103.06 1525.04 Q1101.91 1524.76 1100.51 1524.76 Q1095.54 1524.76 1092.87 1528 Q1090.23 1531.22 1090.23 1537.27 L1090.23 1556.04 L1084.34 1556.04 L1084.34 1520.4 L1090.23 1520.4 L1090.23 1525.93 Q1092.07 1522.69 1095.03 1521.13 Q1097.99 1519.54 1102.23 1519.54 Q1102.83 1519.54 1103.56 1519.63 Q1104.3 1519.7 1105.19 1519.85 L1105.22 1525.87 Z\" fill=\"#000000\" fill-rule=\"evenodd\" fill-opacity=\"1\" /><path clip-path=\"url(#clip710)\" d=\"M 0 0 M1111.36 1520.4 L1117.22 1520.4 L1117.22 1556.04 L1111.36 1556.04 L1111.36 1520.4 M1111.36 1506.52 L1117.22 1506.52 L1117.22 1513.93 L1111.36 1513.93 L1111.36 1506.52 Z\" fill=\"#000000\" fill-rule=\"evenodd\" fill-opacity=\"1\" /><path clip-path=\"url(#clip710)\" d=\"M 0 0 M1149.02 1521.76 L1149.02 1527.24 Q1146.53 1525.87 1144.02 1525.2 Q1141.54 1524.5 1138.99 1524.5 Q1133.29 1524.5 1130.14 1528.13 Q1126.99 1531.73 1126.99 1538.25 Q1126.99 1544.78 1130.14 1548.4 Q1133.29 1552 1138.99 1552 Q1141.54 1552 1144.02 1551.33 Q1146.53 1550.63 1149.02 1549.26 L1149.02 1554.68 Q1146.57 1555.82 1143.92 1556.39 Q1141.31 1556.97 1138.35 1556.97 Q1130.3 1556.97 1125.56 1551.91 Q1120.82 1546.85 1120.82 1538.25 Q1120.82 1529.53 1125.59 1524.53 Q1130.4 1519.54 1138.74 1519.54 Q1141.44 1519.54 1144.02 1520.11 Q1146.6 1520.65 1149.02 1521.76 Z\" fill=\"#000000\" fill-rule=\"evenodd\" fill-opacity=\"1\" /><path clip-path=\"url(#clip710)\" d=\"M 0 0 M1154.55 1541.98 L1154.55 1520.4 L1160.41 1520.4 L1160.41 1541.75 Q1160.41 1546.81 1162.38 1549.36 Q1164.36 1551.87 1168.3 1551.87 Q1173.05 1551.87 1175.78 1548.85 Q1178.55 1545.83 1178.55 1540.61 L1178.55 1520.4 L1184.41 1520.4 L1184.41 1556.04 L1178.55 1556.04 L1178.55 1550.57 Q1176.42 1553.82 1173.59 1555.41 Q1170.79 1556.97 1167.06 1556.97 Q1160.92 1556.97 1157.74 1553.15 Q1154.55 1549.33 1154.55 1541.98 M1169.29 1519.54 L1169.29 1519.54 Z\" fill=\"#000000\" fill-rule=\"evenodd\" fill-opacity=\"1\" /><path clip-path=\"url(#clip710)\" d=\"M 0 0 M1190.55 1506.52 L1196.41 1506.52 L1196.41 1556.04 L1190.55 1556.04 L1190.55 1506.52 Z\" fill=\"#000000\" fill-rule=\"evenodd\" fill-opacity=\"1\" /><path clip-path=\"url(#clip710)\" d=\"M 0 0 M1218.75 1538.12 Q1211.65 1538.12 1208.92 1539.75 Q1206.18 1541.37 1206.18 1545.29 Q1206.18 1548.4 1208.22 1550.25 Q1210.29 1552.07 1213.82 1552.07 Q1218.69 1552.07 1221.62 1548.63 Q1224.58 1545.16 1224.58 1539.43 L1224.58 1538.12 L1218.75 1538.12 M1230.43 1535.71 L1230.43 1556.04 L1224.58 1556.04 L1224.58 1550.63 Q1222.57 1553.88 1219.58 1555.44 Q1216.59 1556.97 1212.26 1556.97 Q1206.78 1556.97 1203.54 1553.91 Q1200.32 1550.82 1200.32 1545.67 Q1200.32 1539.65 1204.33 1536.6 Q1208.38 1533.54 1216.36 1533.54 L1224.58 1533.54 L1224.58 1532.97 Q1224.58 1528.93 1221.9 1526.73 Q1219.26 1524.5 1214.46 1524.5 Q1211.4 1524.5 1208.5 1525.23 Q1205.61 1525.97 1202.93 1527.43 L1202.93 1522.02 Q1206.15 1520.78 1209.17 1520.17 Q1212.2 1519.54 1215.06 1519.54 Q1222.79 1519.54 1226.61 1523.55 Q1230.43 1527.56 1230.43 1535.71 Z\" fill=\"#000000\" fill-rule=\"evenodd\" fill-opacity=\"1\" /><path clip-path=\"url(#clip710)\" d=\"M 0 0 M1257.23 1525.87 Q1256.25 1525.3 1255.07 1525.04 Q1253.92 1524.76 1252.52 1524.76 Q1247.56 1524.76 1244.88 1528 Q1242.24 1531.22 1242.24 1537.27 L1242.24 1556.04 L1236.35 1556.04 L1236.35 1520.4 L1242.24 1520.4 L1242.24 1525.93 Q1244.09 1522.69 1247.05 1521.13 Q1250.01 1519.54 1254.24 1519.54 Q1254.85 1519.54 1255.58 1519.63 Q1256.31 1519.7 1257.2 1519.85 L1257.23 1525.87 Z\" fill=\"#000000\" fill-rule=\"evenodd\" fill-opacity=\"1\" /><path clip-path=\"url(#clip710)\" d=\"M 0 0 M1309.75 1521.76 L1309.75 1527.24 Q1307.27 1525.87 1304.75 1525.2 Q1302.27 1524.5 1299.72 1524.5 Q1294.03 1524.5 1290.88 1528.13 Q1287.72 1531.73 1287.72 1538.25 Q1287.72 1544.78 1290.88 1548.4 Q1294.03 1552 1299.72 1552 Q1302.27 1552 1304.75 1551.33 Q1307.27 1550.63 1309.75 1549.26 L1309.75 1554.68 Q1307.3 1555.82 1304.66 1556.39 Q1302.05 1556.97 1299.09 1556.97 Q1291.03 1556.97 1286.29 1551.91 Q1281.55 1546.85 1281.55 1538.25 Q1281.55 1529.53 1286.32 1524.53 Q1291.13 1519.54 1299.47 1519.54 Q1302.17 1519.54 1304.75 1520.11 Q1307.33 1520.65 1309.75 1521.76 Z\" fill=\"#000000\" fill-rule=\"evenodd\" fill-opacity=\"1\" /><path clip-path=\"url(#clip710)\" d=\"M 0 0 M1329.71 1524.5 Q1325 1524.5 1322.26 1528.19 Q1319.52 1531.85 1319.52 1538.25 Q1319.52 1544.65 1322.23 1548.34 Q1324.96 1552 1329.71 1552 Q1334.39 1552 1337.12 1548.31 Q1339.86 1544.62 1339.86 1538.25 Q1339.86 1531.92 1337.12 1528.23 Q1334.39 1524.5 1329.71 1524.5 M1329.71 1519.54 Q1337.35 1519.54 1341.71 1524.5 Q1346.07 1529.47 1346.07 1538.25 Q1346.07 1547 1341.71 1552 Q1337.35 1556.97 1329.71 1556.97 Q1322.04 1556.97 1317.68 1552 Q1313.35 1547 1313.35 1538.25 Q1313.35 1529.47 1317.68 1524.5 Q1322.04 1519.54 1329.71 1519.54 Z\" fill=\"#000000\" fill-rule=\"evenodd\" fill-opacity=\"1\" /><path clip-path=\"url(#clip710)\" d=\"M 0 0 M1379.96 1527.24 Q1382.16 1523.29 1385.22 1521.41 Q1388.27 1519.54 1392.41 1519.54 Q1397.98 1519.54 1401 1523.45 Q1404.03 1527.33 1404.03 1534.53 L1404.03 1556.04 L1398.14 1556.04 L1398.14 1534.72 Q1398.14 1529.59 1396.32 1527.11 Q1394.51 1524.63 1390.79 1524.63 Q1386.23 1524.63 1383.59 1527.65 Q1380.95 1530.68 1380.95 1535.9 L1380.95 1556.04 L1375.06 1556.04 L1375.06 1534.72 Q1375.06 1529.56 1373.25 1527.11 Q1371.43 1524.63 1367.65 1524.63 Q1363.16 1524.63 1360.52 1527.68 Q1357.87 1530.71 1357.87 1535.9 L1357.87 1556.04 L1351.99 1556.04 L1351.99 1520.4 L1357.87 1520.4 L1357.87 1525.93 Q1359.88 1522.66 1362.68 1521.1 Q1365.48 1519.54 1369.33 1519.54 Q1373.22 1519.54 1375.92 1521.51 Q1378.66 1523.48 1379.96 1527.24 Z\" fill=\"#000000\" fill-rule=\"evenodd\" fill-opacity=\"1\" /><path clip-path=\"url(#clip710)\" d=\"M 0 0 M1415.83 1550.7 L1415.83 1569.6 L1409.95 1569.6 L1409.95 1520.4 L1415.83 1520.4 L1415.83 1525.81 Q1417.68 1522.62 1420.48 1521.1 Q1423.31 1519.54 1427.23 1519.54 Q1433.72 1519.54 1437.76 1524.69 Q1441.84 1529.85 1441.84 1538.25 Q1441.84 1546.65 1437.76 1551.81 Q1433.72 1556.97 1427.23 1556.97 Q1423.31 1556.97 1420.48 1555.44 Q1417.68 1553.88 1415.83 1550.7 M1435.76 1538.25 Q1435.76 1531.79 1433.09 1528.13 Q1430.44 1524.44 1425.8 1524.44 Q1421.15 1524.44 1418.48 1528.13 Q1415.83 1531.79 1415.83 1538.25 Q1415.83 1544.71 1418.48 1548.4 Q1421.15 1552.07 1425.8 1552.07 Q1430.44 1552.07 1433.09 1548.4 Q1435.76 1544.71 1435.76 1538.25 Z\" fill=\"#000000\" fill-rule=\"evenodd\" fill-opacity=\"1\" /><path clip-path=\"url(#clip710)\" d=\"M 0 0 M1447.98 1506.52 L1453.84 1506.52 L1453.84 1556.04 L1447.98 1556.04 L1447.98 1506.52 Z\" fill=\"#000000\" fill-rule=\"evenodd\" fill-opacity=\"1\" /><path clip-path=\"url(#clip710)\" d=\"M 0 0 M1490.47 1536.76 L1490.47 1539.62 L1463.55 1539.62 Q1463.93 1545.67 1467.17 1548.85 Q1470.45 1552 1476.28 1552 Q1479.65 1552 1482.8 1551.17 Q1485.98 1550.35 1489.1 1548.69 L1489.1 1554.23 Q1485.95 1555.57 1482.64 1556.27 Q1479.33 1556.97 1475.93 1556.97 Q1467.4 1556.97 1462.4 1552 Q1457.43 1547.04 1457.43 1538.57 Q1457.43 1529.82 1462.14 1524.69 Q1466.89 1519.54 1474.91 1519.54 Q1482.1 1519.54 1486.27 1524.18 Q1490.47 1528.8 1490.47 1536.76 M1484.62 1535.04 Q1484.55 1530.23 1481.91 1527.37 Q1479.3 1524.5 1474.97 1524.5 Q1470.07 1524.5 1467.11 1527.27 Q1464.18 1530.04 1463.74 1535.07 L1484.62 1535.04 Z\" fill=\"#000000\" fill-rule=\"evenodd\" fill-opacity=\"1\" /><path clip-path=\"url(#clip710)\" d=\"M 0 0 M1525.1 1520.4 L1512.21 1537.74 L1525.77 1556.04 L1518.86 1556.04 L1508.49 1542.04 L1498.11 1556.04 L1491.2 1556.04 L1505.05 1537.39 L1492.38 1520.4 L1499.29 1520.4 L1508.74 1533.1 L1518.19 1520.4 L1525.1 1520.4 Z\" fill=\"#000000\" fill-rule=\"evenodd\" fill-opacity=\"1\" /><path clip-path=\"url(#clip710)\" d=\"M 0 0 M1531.91 1520.4 L1537.77 1520.4 L1537.77 1556.04 L1531.91 1556.04 L1531.91 1520.4 M1531.91 1506.52 L1537.77 1506.52 L1537.77 1513.93 L1531.91 1513.93 L1531.91 1506.52 Z\" fill=\"#000000\" fill-rule=\"evenodd\" fill-opacity=\"1\" /><path clip-path=\"url(#clip710)\" d=\"M 0 0 M1549.71 1510.27 L1549.71 1520.4 L1561.77 1520.4 L1561.77 1524.95 L1549.71 1524.95 L1549.71 1544.3 Q1549.71 1548.66 1550.88 1549.9 Q1552.09 1551.14 1555.75 1551.14 L1561.77 1551.14 L1561.77 1556.04 L1555.75 1556.04 Q1548.97 1556.04 1546.4 1553.53 Q1543.82 1550.98 1543.82 1544.3 L1543.82 1524.95 L1539.52 1524.95 L1539.52 1520.4 L1543.82 1520.4 L1543.82 1510.27 L1549.71 1510.27 Z\" fill=\"#000000\" fill-rule=\"evenodd\" fill-opacity=\"1\" /><path clip-path=\"url(#clip710)\" d=\"M 0 0 M1582.74 1559.35 Q1580.26 1565.72 1577.91 1567.66 Q1575.55 1569.6 1571.6 1569.6 L1566.92 1569.6 L1566.92 1564.7 L1570.36 1564.7 Q1572.78 1564.7 1574.12 1563.56 Q1575.45 1562.41 1577.08 1558.14 L1578.13 1555.47 L1563.71 1520.4 L1569.92 1520.4 L1581.06 1548.28 L1592.2 1520.4 L1598.4 1520.4 L1582.74 1559.35 Z\" fill=\"#000000\" fill-rule=\"evenodd\" fill-opacity=\"1\" /><path clip-path=\"url(#clip710)\" d=\"M 0 0 M59.3266 884.567 L59.3266 893.829 L69.9574 896.502 L69.9574 887.177 L59.3266 884.567 M41.2162 889.341 L54.4251 892.651 L54.4251 883.357 L41.2162 880.015 L41.2162 874.923 L54.4251 878.201 L54.4251 868.27 L59.3266 868.27 L59.3266 879.442 L69.9574 882.052 L69.9574 871.931 L74.8271 871.931 L74.8271 883.294 L88.0042 886.604 L88.0042 891.696 L74.8271 888.418 L74.8271 897.744 L88.0042 901.022 L88.0042 906.146 L74.8271 902.836 L74.8271 912.862 L69.9574 912.862 L69.9574 901.659 L59.3266 898.985 L59.3266 909.234 L54.4251 909.234 L54.4251 897.744 L41.2162 894.497 L41.2162 889.341 Z\" fill=\"#000000\" fill-rule=\"evenodd\" fill-opacity=\"1\" /><path clip-path=\"url(#clip710)\" d=\"M 0 0 M53.4065 818.682 L58.9447 818.682 Q57.6716 821.164 57.035 823.838 Q56.3984 826.511 56.3984 829.376 Q56.3984 833.737 57.7352 835.933 Q59.072 838.097 61.7456 838.097 Q63.7826 838.097 64.9603 836.537 Q66.1061 834.978 67.1565 830.267 L67.6021 828.262 Q68.9389 822.024 71.3897 819.414 Q73.8086 816.772 78.1691 816.772 Q83.1344 816.772 86.0308 820.719 Q88.9272 824.634 88.9272 831.509 Q88.9272 834.373 88.3543 837.492 Q87.8132 840.58 86.6992 844.017 L80.6518 844.017 Q82.3387 840.771 83.198 837.62 Q84.0256 834.469 84.0256 831.381 Q84.0256 827.244 82.6251 825.016 Q81.1929 822.788 78.6147 822.788 Q76.2276 822.788 74.9545 824.411 Q73.6813 826.002 72.5037 831.445 L72.0262 833.482 Q70.8804 838.925 68.5251 841.344 Q66.138 843.763 62.0002 843.763 Q56.9713 843.763 54.2341 840.198 Q51.4968 836.633 51.4968 830.076 Q51.4968 826.83 51.9743 823.965 Q52.4517 821.101 53.4065 818.682 Z\" fill=\"#000000\" fill-rule=\"evenodd\" fill-opacity=\"1\" /><path clip-path=\"url(#clip710)\" d=\"M 0 0 M53.7248 784.975 L59.1993 784.975 Q57.8307 787.458 57.1623 789.972 Q56.4621 792.455 56.4621 795.001 Q56.4621 800.699 60.0905 803.85 Q63.6872 807.001 70.212 807.001 Q76.7369 807.001 80.3653 803.85 Q83.9619 800.699 83.9619 795.001 Q83.9619 792.455 83.2935 789.972 Q82.5933 787.458 81.2247 784.975 L86.6355 784.975 Q87.7814 787.426 88.3543 790.068 Q88.9272 792.678 88.9272 795.638 Q88.9272 803.69 83.8664 808.433 Q78.8057 813.175 70.212 813.175 Q61.491 813.175 56.4939 808.401 Q51.4968 803.595 51.4968 795.256 Q51.4968 792.55 52.0697 789.972 Q52.6108 787.394 53.7248 784.975 Z\" fill=\"#000000\" fill-rule=\"evenodd\" fill-opacity=\"1\" /><path clip-path=\"url(#clip710)\" d=\"M 0 0 M66.4881 749.2 L88.0042 749.2 L88.0042 755.056 L66.679 755.056 Q61.6183 755.056 59.1038 757.03 Q56.5894 759.003 56.5894 762.95 Q56.5894 767.692 59.6131 770.43 Q62.6368 773.167 67.8567 773.167 L88.0042 773.167 L88.0042 779.055 L38.479 779.055 L38.479 773.167 L57.8944 773.167 Q54.6797 771.066 53.0883 768.233 Q51.4968 765.369 51.4968 761.645 Q51.4968 755.502 55.3163 752.351 Q59.1038 749.2 66.4881 749.2 Z\" fill=\"#000000\" fill-rule=\"evenodd\" fill-opacity=\"1\" /><path clip-path=\"url(#clip710)\" d=\"M 0 0 M56.4621 729.243 Q56.4621 733.954 60.1542 736.691 Q63.8145 739.429 70.212 739.429 Q76.6095 739.429 80.3017 736.723 Q83.9619 733.986 83.9619 729.243 Q83.9619 724.565 80.2698 721.827 Q76.5777 719.09 70.212 719.09 Q63.8781 719.09 60.186 721.827 Q56.4621 724.565 56.4621 729.243 M51.4968 729.243 Q51.4968 721.605 56.4621 717.244 Q61.4273 712.884 70.212 712.884 Q78.9649 712.884 83.9619 717.244 Q88.9272 721.605 88.9272 729.243 Q88.9272 736.914 83.9619 741.275 Q78.9649 745.603 70.212 745.603 Q61.4273 745.603 56.4621 741.275 Q51.4968 736.914 51.4968 729.243 Z\" fill=\"#000000\" fill-rule=\"evenodd\" fill-opacity=\"1\" /><path clip-path=\"url(#clip710)\" d=\"M 0 0 M56.4621 692.927 Q56.4621 697.638 60.1542 700.375 Q63.8145 703.112 70.212 703.112 Q76.6095 703.112 80.3017 700.407 Q83.9619 697.67 83.9619 692.927 Q83.9619 688.248 80.2698 685.511 Q76.5777 682.774 70.212 682.774 Q63.8781 682.774 60.186 685.511 Q56.4621 688.248 56.4621 692.927 M51.4968 692.927 Q51.4968 685.288 56.4621 680.928 Q61.4273 676.567 70.212 676.567 Q78.9649 676.567 83.9619 680.928 Q88.9272 685.288 88.9272 692.927 Q88.9272 700.598 83.9619 704.958 Q78.9649 709.287 70.212 709.287 Q61.4273 709.287 56.4621 704.958 Q51.4968 700.598 51.4968 692.927 Z\" fill=\"#000000\" fill-rule=\"evenodd\" fill-opacity=\"1\" /><path clip-path=\"url(#clip710)\" d=\"M 0 0 M38.479 670.424 L38.479 664.568 L88.0042 664.568 L88.0042 670.424 L38.479 670.424 Z\" fill=\"#000000\" fill-rule=\"evenodd\" fill-opacity=\"1\" /><path clip-path=\"url(#clip710)\" d=\"M 0 0 M53.4065 635.699 L58.9447 635.699 Q57.6716 638.182 57.035 640.856 Q56.3984 643.529 56.3984 646.394 Q56.3984 650.754 57.7352 652.95 Q59.072 655.115 61.7456 655.115 Q63.7826 655.115 64.9603 653.555 Q66.1061 651.996 67.1565 647.285 L67.6021 645.28 Q68.9389 639.041 71.3897 636.431 Q73.8086 633.79 78.1691 633.79 Q83.1344 633.79 86.0308 637.736 Q88.9272 641.651 88.9272 648.526 Q88.9272 651.391 88.3543 654.51 Q87.8132 657.597 86.6992 661.035 L80.6518 661.035 Q82.3387 657.788 83.198 654.637 Q84.0256 651.486 84.0256 648.399 Q84.0256 644.261 82.6251 642.033 Q81.1929 639.805 78.6147 639.805 Q76.2276 639.805 74.9545 641.429 Q73.6813 643.02 72.5037 648.463 L72.0262 650.5 Q70.8804 655.942 68.5251 658.361 Q66.138 660.78 62.0002 660.78 Q56.9713 660.78 54.2341 657.215 Q51.4968 653.651 51.4968 647.094 Q51.4968 643.848 51.9743 640.983 Q52.4517 638.118 53.4065 635.699 Z\" fill=\"#000000\" fill-rule=\"evenodd\" fill-opacity=\"1\" /><path clip-path=\"url(#clip712)\" d=\"\n",
       "M658.407 1175.62 L658.407 1423.18 L1081.99 1423.18 L1081.99 1175.62 L658.407 1175.62 L658.407 1175.62  Z\n",
       "  \" fill=\"#1874cd\" fill-rule=\"evenodd\" fill-opacity=\"0.7\"/>\n",
       "<polyline clip-path=\"url(#clip712)\" style=\"stroke:#000000; stroke-width:4; stroke-opacity:0.7; fill:none\" points=\"\n",
       "  658.407,1175.62 658.407,1423.18 1081.99,1423.18 1081.99,1175.62 658.407,1175.62 \n",
       "  \"/>\n",
       "<path clip-path=\"url(#clip712)\" d=\"\n",
       "M1081.99 -62.2004 L1081.99 1423.18 L1505.58 1423.18 L1505.58 -62.2004 L1081.99 -62.2004 L1081.99 -62.2004  Z\n",
       "  \" fill=\"#1874cd\" fill-rule=\"evenodd\" fill-opacity=\"0.7\"/>\n",
       "<polyline clip-path=\"url(#clip712)\" style=\"stroke:#000000; stroke-width:4; stroke-opacity:0.7; fill:none\" points=\"\n",
       "  1081.99,-62.2004 1081.99,1423.18 1505.58,1423.18 1505.58,-62.2004 1081.99,-62.2004 \n",
       "  \"/>\n",
       "<path clip-path=\"url(#clip712)\" d=\"\n",
       "M1505.58 928.053 L1505.58 1423.18 L1929.17 1423.18 L1929.17 928.053 L1505.58 928.053 L1505.58 928.053  Z\n",
       "  \" fill=\"#1874cd\" fill-rule=\"evenodd\" fill-opacity=\"0.7\"/>\n",
       "<polyline clip-path=\"url(#clip712)\" style=\"stroke:#000000; stroke-width:4; stroke-opacity:0.7; fill:none\" points=\"\n",
       "  1505.58,928.053 1505.58,1423.18 1929.17,1423.18 1929.17,928.053 1505.58,928.053 \n",
       "  \"/>\n",
       "<path clip-path=\"url(#clip712)\" d=\"\n",
       "M1929.17 1175.62 L1929.17 1423.18 L2352.76 1423.18 L2352.76 1175.62 L1929.17 1175.62 L1929.17 1175.62  Z\n",
       "  \" fill=\"#1874cd\" fill-rule=\"evenodd\" fill-opacity=\"0.7\"/>\n",
       "<polyline clip-path=\"url(#clip712)\" style=\"stroke:#000000; stroke-width:4; stroke-opacity:0.7; fill:none\" points=\"\n",
       "  1929.17,1175.62 1929.17,1423.18 2352.76,1423.18 2352.76,1175.62 1929.17,1175.62 \n",
       "  \"/>\n",
       "<path clip-path=\"url(#clip712)\" d=\"\n",
       "M2352.76 1299.4 L2352.76 1423.18 L2776.34 1423.18 L2776.34 1299.4 L2352.76 1299.4 L2352.76 1299.4  Z\n",
       "  \" fill=\"#1874cd\" fill-rule=\"evenodd\" fill-opacity=\"0.7\"/>\n",
       "<polyline clip-path=\"url(#clip712)\" style=\"stroke:#000000; stroke-width:4; stroke-opacity:0.7; fill:none\" points=\"\n",
       "  2352.76,1299.4 2352.76,1423.18 2776.34,1423.18 2776.34,1299.4 2352.76,1299.4 \n",
       "  \"/>\n",
       "</svg>\n"
      ]
     },
     "execution_count": 6,
     "metadata": {},
     "output_type": "execute_result"
    }
   ],
   "source": [
    "middle_tier = Array{Curriculum,1}()\n",
    "middle_tier_total_cc = 0\n",
    "middle_tier_avg_cc = 0\n",
    "for (key, val) in curriculum\n",
    "    if (split(key, \"/\")[1]) == \"tier_middle\"\n",
    "        name = split(split(key, \"/\")[2], \".\")[1]\n",
    "        println(\"$name => $(val.metrics[\"complexity\"][1])\")\n",
    "        push!(middle_tier, val)\n",
    "        middle_tier_total_cc += val.metrics[\"complexity\"][1]\n",
    "    end\n",
    "end\n",
    "middle_tier_avg_cc = middle_tier_total_cc / length(middle_tier)\n",
    "println(\"Avg. curricular complexity = $(middle_tier_avg_cc)\")\n",
    "metric_histogram(middle_tier, \"complexity\", nbins=5, title=\"Middle Tier\", xlabel=\"curricular complexity\", ylabel=\"# schools\", xlim=(0,500))"
   ]
  },
  {
   "cell_type": "code",
   "execution_count": 7,
   "metadata": {
    "scrolled": false
   },
   "outputs": [
    {
     "name": "stdout",
     "output_type": "stream",
     "text": [
      "Florida Atlantic University => 296.0\n",
      "Oakland University => 244.0\n",
      "University of Louisiana--Lafayette => 331.0\n",
      "South Dakota State University => 398.0\n",
      "Texas State University => 273.0\n",
      "University of Bridgeport => 167.0\n",
      "Jackson State University => 304.0\n",
      "University of Denver => 360.0\n",
      "University of North Texas => 376.0\n",
      "Texas AM University--Kingsville => 353.0\n",
      "Morgan State University => 311.0\n",
      "University of New Orleans => 260.0\n",
      "Prairie View AM University => 375.0\n",
      "University of Detroit Mercy => 394.0\n",
      "University of North Dakota => 361.0\n",
      "Lamar University => 343.0\n",
      "University of Missouri--Kansas City => 497.0\n",
      "Western Michigan University => 308.0\n",
      "Tuskegee University => 397.0\n",
      "University of Tennessee--Chattanooga => 404.0\n",
      "Tennessee State University => 500.0\n",
      "Avg. curricular complexity = 345.3333333333333\n"
     ]
    },
    {
     "data": {
      "image/svg+xml": [
       "<?xml version=\"1.0\" encoding=\"utf-8\"?>\n",
       "<svg xmlns=\"http://www.w3.org/2000/svg\" xmlns:xlink=\"http://www.w3.org/1999/xlink\" width=\"600\" height=\"400\" viewBox=\"0 0 2400 1600\">\n",
       "<defs>\n",
       "  <clipPath id=\"clip750\">\n",
       "    <rect x=\"0\" y=\"0\" width=\"2400\" height=\"1600\"/>\n",
       "  </clipPath>\n",
       "</defs>\n",
       "<path clip-path=\"url(#clip750)\" d=\"\n",
       "M0 1600 L2400 1600 L2400 0 L0 0  Z\n",
       "  \" fill=\"#ffffff\" fill-rule=\"evenodd\" fill-opacity=\"1\"/>\n",
       "<defs>\n",
       "  <clipPath id=\"clip751\">\n",
       "    <rect x=\"480\" y=\"0\" width=\"1681\" height=\"1600\"/>\n",
       "  </clipPath>\n",
       "</defs>\n",
       "<path clip-path=\"url(#clip750)\" d=\"\n",
       "M234.82 1423.18 L2352.76 1423.18 L2352.76 123.472 L234.82 123.472  Z\n",
       "  \" fill=\"#ffffff\" fill-rule=\"evenodd\" fill-opacity=\"1\"/>\n",
       "<defs>\n",
       "  <clipPath id=\"clip752\">\n",
       "    <rect x=\"234\" y=\"123\" width=\"2119\" height=\"1301\"/>\n",
       "  </clipPath>\n",
       "</defs>\n",
       "<polyline clip-path=\"url(#clip752)\" style=\"stroke:#000000; stroke-width:2; stroke-opacity:0.1; fill:none\" points=\"\n",
       "  234.82,1423.18 234.82,123.472 \n",
       "  \"/>\n",
       "<polyline clip-path=\"url(#clip752)\" style=\"stroke:#000000; stroke-width:2; stroke-opacity:0.1; fill:none\" points=\"\n",
       "  658.407,1423.18 658.407,123.472 \n",
       "  \"/>\n",
       "<polyline clip-path=\"url(#clip752)\" style=\"stroke:#000000; stroke-width:2; stroke-opacity:0.1; fill:none\" points=\"\n",
       "  1081.99,1423.18 1081.99,123.472 \n",
       "  \"/>\n",
       "<polyline clip-path=\"url(#clip752)\" style=\"stroke:#000000; stroke-width:2; stroke-opacity:0.1; fill:none\" points=\"\n",
       "  1505.58,1423.18 1505.58,123.472 \n",
       "  \"/>\n",
       "<polyline clip-path=\"url(#clip752)\" style=\"stroke:#000000; stroke-width:2; stroke-opacity:0.1; fill:none\" points=\"\n",
       "  1929.17,1423.18 1929.17,123.472 \n",
       "  \"/>\n",
       "<polyline clip-path=\"url(#clip752)\" style=\"stroke:#000000; stroke-width:2; stroke-opacity:0.1; fill:none\" points=\"\n",
       "  2352.76,1423.18 2352.76,123.472 \n",
       "  \"/>\n",
       "<polyline clip-path=\"url(#clip752)\" style=\"stroke:#000000; stroke-width:2; stroke-opacity:0.1; fill:none\" points=\"\n",
       "  234.82,1423.18 2352.76,1423.18 \n",
       "  \"/>\n",
       "<polyline clip-path=\"url(#clip752)\" style=\"stroke:#000000; stroke-width:2; stroke-opacity:0.1; fill:none\" points=\"\n",
       "  234.82,1113.73 2352.76,1113.73 \n",
       "  \"/>\n",
       "<polyline clip-path=\"url(#clip752)\" style=\"stroke:#000000; stroke-width:2; stroke-opacity:0.1; fill:none\" points=\"\n",
       "  234.82,804.271 2352.76,804.271 \n",
       "  \"/>\n",
       "<polyline clip-path=\"url(#clip752)\" style=\"stroke:#000000; stroke-width:2; stroke-opacity:0.1; fill:none\" points=\"\n",
       "  234.82,494.817 2352.76,494.817 \n",
       "  \"/>\n",
       "<polyline clip-path=\"url(#clip752)\" style=\"stroke:#000000; stroke-width:2; stroke-opacity:0.1; fill:none\" points=\"\n",
       "  234.82,185.363 2352.76,185.363 \n",
       "  \"/>\n",
       "<polyline clip-path=\"url(#clip750)\" style=\"stroke:#000000; stroke-width:4; stroke-opacity:1; fill:none\" points=\"\n",
       "  234.82,1423.18 2352.76,1423.18 \n",
       "  \"/>\n",
       "<polyline clip-path=\"url(#clip750)\" style=\"stroke:#000000; stroke-width:4; stroke-opacity:1; fill:none\" points=\"\n",
       "  234.82,1423.18 234.82,123.472 \n",
       "  \"/>\n",
       "<polyline clip-path=\"url(#clip750)\" style=\"stroke:#000000; stroke-width:4; stroke-opacity:1; fill:none\" points=\"\n",
       "  234.82,1423.18 234.82,1407.58 \n",
       "  \"/>\n",
       "<polyline clip-path=\"url(#clip750)\" style=\"stroke:#000000; stroke-width:4; stroke-opacity:1; fill:none\" points=\"\n",
       "  658.407,1423.18 658.407,1407.58 \n",
       "  \"/>\n",
       "<polyline clip-path=\"url(#clip750)\" style=\"stroke:#000000; stroke-width:4; stroke-opacity:1; fill:none\" points=\"\n",
       "  1081.99,1423.18 1081.99,1407.58 \n",
       "  \"/>\n",
       "<polyline clip-path=\"url(#clip750)\" style=\"stroke:#000000; stroke-width:4; stroke-opacity:1; fill:none\" points=\"\n",
       "  1505.58,1423.18 1505.58,1407.58 \n",
       "  \"/>\n",
       "<polyline clip-path=\"url(#clip750)\" style=\"stroke:#000000; stroke-width:4; stroke-opacity:1; fill:none\" points=\"\n",
       "  1929.17,1423.18 1929.17,1407.58 \n",
       "  \"/>\n",
       "<polyline clip-path=\"url(#clip750)\" style=\"stroke:#000000; stroke-width:4; stroke-opacity:1; fill:none\" points=\"\n",
       "  2352.76,1423.18 2352.76,1407.58 \n",
       "  \"/>\n",
       "<polyline clip-path=\"url(#clip750)\" style=\"stroke:#000000; stroke-width:4; stroke-opacity:1; fill:none\" points=\"\n",
       "  234.82,1423.18 260.235,1423.18 \n",
       "  \"/>\n",
       "<polyline clip-path=\"url(#clip750)\" style=\"stroke:#000000; stroke-width:4; stroke-opacity:1; fill:none\" points=\"\n",
       "  234.82,1113.73 260.235,1113.73 \n",
       "  \"/>\n",
       "<polyline clip-path=\"url(#clip750)\" style=\"stroke:#000000; stroke-width:4; stroke-opacity:1; fill:none\" points=\"\n",
       "  234.82,804.271 260.235,804.271 \n",
       "  \"/>\n",
       "<polyline clip-path=\"url(#clip750)\" style=\"stroke:#000000; stroke-width:4; stroke-opacity:1; fill:none\" points=\"\n",
       "  234.82,494.817 260.235,494.817 \n",
       "  \"/>\n",
       "<polyline clip-path=\"url(#clip750)\" style=\"stroke:#000000; stroke-width:4; stroke-opacity:1; fill:none\" points=\"\n",
       "  234.82,185.363 260.235,185.363 \n",
       "  \"/>\n",
       "<path clip-path=\"url(#clip750)\" d=\"M 0 0 M234.82 1445.17 Q231.209 1445.17 229.38 1448.74 Q227.575 1452.28 227.575 1459.41 Q227.575 1466.51 229.38 1470.08 Q231.209 1473.62 234.82 1473.62 Q238.454 1473.62 240.26 1470.08 Q242.088 1466.51 242.088 1459.41 Q242.088 1452.28 240.26 1448.74 Q238.454 1445.17 234.82 1445.17 M234.82 1441.47 Q240.63 1441.47 243.686 1446.07 Q246.764 1450.66 246.764 1459.41 Q246.764 1468.13 243.686 1472.74 Q240.63 1477.32 234.82 1477.32 Q229.01 1477.32 225.931 1472.74 Q222.876 1468.13 222.876 1459.41 Q222.876 1450.66 225.931 1446.07 Q229.01 1441.47 234.82 1441.47 Z\" fill=\"#000000\" fill-rule=\"evenodd\" fill-opacity=\"1\" /><path clip-path=\"url(#clip750)\" d=\"M 0 0 M621.775 1472.72 L629.414 1472.72 L629.414 1446.35 L621.104 1448.02 L621.104 1443.76 L629.368 1442.09 L634.044 1442.09 L634.044 1472.72 L641.683 1472.72 L641.683 1476.65 L621.775 1476.65 L621.775 1472.72 Z\" fill=\"#000000\" fill-rule=\"evenodd\" fill-opacity=\"1\" /><path clip-path=\"url(#clip750)\" d=\"M 0 0 M656.752 1445.17 Q653.141 1445.17 651.312 1448.74 Q649.507 1452.28 649.507 1459.41 Q649.507 1466.51 651.312 1470.08 Q653.141 1473.62 656.752 1473.62 Q660.386 1473.62 662.192 1470.08 Q664.02 1466.51 664.02 1459.41 Q664.02 1452.28 662.192 1448.74 Q660.386 1445.17 656.752 1445.17 M656.752 1441.47 Q662.562 1441.47 665.618 1446.07 Q668.696 1450.66 668.696 1459.41 Q668.696 1468.13 665.618 1472.74 Q662.562 1477.32 656.752 1477.32 Q650.942 1477.32 647.863 1472.74 Q644.808 1468.13 644.808 1459.41 Q644.808 1450.66 647.863 1446.07 Q650.942 1441.47 656.752 1441.47 Z\" fill=\"#000000\" fill-rule=\"evenodd\" fill-opacity=\"1\" /><path clip-path=\"url(#clip750)\" d=\"M 0 0 M683.766 1445.17 Q680.155 1445.17 678.326 1448.74 Q676.52 1452.28 676.52 1459.41 Q676.52 1466.51 678.326 1470.08 Q680.155 1473.62 683.766 1473.62 Q687.4 1473.62 689.206 1470.08 Q691.034 1466.51 691.034 1459.41 Q691.034 1452.28 689.206 1448.74 Q687.4 1445.17 683.766 1445.17 M683.766 1441.47 Q689.576 1441.47 692.631 1446.07 Q695.71 1450.66 695.71 1459.41 Q695.71 1468.13 692.631 1472.74 Q689.576 1477.32 683.766 1477.32 Q677.956 1477.32 674.877 1472.74 Q671.821 1468.13 671.821 1459.41 Q671.821 1450.66 674.877 1446.07 Q677.956 1441.47 683.766 1441.47 Z\" fill=\"#000000\" fill-rule=\"evenodd\" fill-opacity=\"1\" /><path clip-path=\"url(#clip750)\" d=\"M 0 0 M1049.63 1472.72 L1065.95 1472.72 L1065.95 1476.65 L1044.01 1476.65 L1044.01 1472.72 Q1046.67 1469.96 1051.25 1465.33 Q1055.86 1460.68 1057.04 1459.34 Q1059.29 1456.81 1060.17 1455.08 Q1061.07 1453.32 1061.07 1451.63 Q1061.07 1448.87 1059.12 1447.14 Q1057.2 1445.4 1054.1 1445.4 Q1051.9 1445.4 1049.45 1446.17 Q1047.02 1446.93 1044.24 1448.48 L1044.24 1443.76 Q1047.06 1442.62 1049.52 1442.05 Q1051.97 1441.47 1054.01 1441.47 Q1059.38 1441.47 1062.57 1444.15 Q1065.77 1446.84 1065.77 1451.33 Q1065.77 1453.46 1064.96 1455.38 Q1064.17 1457.28 1062.06 1459.87 Q1061.49 1460.54 1058.38 1463.76 Q1055.28 1466.95 1049.63 1472.72 Z\" fill=\"#000000\" fill-rule=\"evenodd\" fill-opacity=\"1\" /><path clip-path=\"url(#clip750)\" d=\"M 0 0 M1081.02 1445.17 Q1077.41 1445.17 1075.58 1448.74 Q1073.78 1452.28 1073.78 1459.41 Q1073.78 1466.51 1075.58 1470.08 Q1077.41 1473.62 1081.02 1473.62 Q1084.66 1473.62 1086.46 1470.08 Q1088.29 1466.51 1088.29 1459.41 Q1088.29 1452.28 1086.46 1448.74 Q1084.66 1445.17 1081.02 1445.17 M1081.02 1441.47 Q1086.83 1441.47 1089.89 1446.07 Q1092.97 1450.66 1092.97 1459.41 Q1092.97 1468.13 1089.89 1472.74 Q1086.83 1477.32 1081.02 1477.32 Q1075.21 1477.32 1072.13 1472.74 Q1069.08 1468.13 1069.08 1459.41 Q1069.08 1450.66 1072.13 1446.07 Q1075.21 1441.47 1081.02 1441.47 Z\" fill=\"#000000\" fill-rule=\"evenodd\" fill-opacity=\"1\" /><path clip-path=\"url(#clip750)\" d=\"M 0 0 M1108.04 1445.17 Q1104.42 1445.17 1102.6 1448.74 Q1100.79 1452.28 1100.79 1459.41 Q1100.79 1466.51 1102.6 1470.08 Q1104.42 1473.62 1108.04 1473.62 Q1111.67 1473.62 1113.48 1470.08 Q1115.3 1466.51 1115.3 1459.41 Q1115.3 1452.28 1113.48 1448.74 Q1111.67 1445.17 1108.04 1445.17 M1108.04 1441.47 Q1113.85 1441.47 1116.9 1446.07 Q1119.98 1450.66 1119.98 1459.41 Q1119.98 1468.13 1116.9 1472.74 Q1113.85 1477.32 1108.04 1477.32 Q1102.23 1477.32 1099.15 1472.74 Q1096.09 1468.13 1096.09 1459.41 Q1096.09 1450.66 1099.15 1446.07 Q1102.23 1441.47 1108.04 1441.47 Z\" fill=\"#000000\" fill-rule=\"evenodd\" fill-opacity=\"1\" /><path clip-path=\"url(#clip750)\" d=\"M 0 0 M1482.82 1458.02 Q1486.17 1458.74 1488.05 1461 Q1489.95 1463.27 1489.95 1466.61 Q1489.95 1471.72 1486.43 1474.52 Q1482.91 1477.32 1476.43 1477.32 Q1474.25 1477.32 1471.94 1476.88 Q1469.64 1476.47 1467.19 1475.61 L1467.19 1471.1 Q1469.13 1472.23 1471.45 1472.81 Q1473.76 1473.39 1476.29 1473.39 Q1480.69 1473.39 1482.98 1471.65 Q1485.29 1469.92 1485.29 1466.61 Q1485.29 1463.55 1483.14 1461.84 Q1481.01 1460.1 1477.19 1460.1 L1473.16 1460.1 L1473.16 1456.26 L1477.38 1456.26 Q1480.82 1456.26 1482.65 1454.89 Q1484.48 1453.5 1484.48 1450.91 Q1484.48 1448.25 1482.58 1446.84 Q1480.71 1445.4 1477.19 1445.4 Q1475.27 1445.4 1473.07 1445.82 Q1470.87 1446.24 1468.23 1447.11 L1468.23 1442.95 Q1470.89 1442.21 1473.21 1441.84 Q1475.55 1441.47 1477.61 1441.47 Q1482.93 1441.47 1486.03 1443.9 Q1489.13 1446.3 1489.13 1450.43 Q1489.13 1453.3 1487.49 1455.29 Q1485.85 1457.25 1482.82 1458.02 Z\" fill=\"#000000\" fill-rule=\"evenodd\" fill-opacity=\"1\" /><path clip-path=\"url(#clip750)\" d=\"M 0 0 M1505.01 1445.17 Q1501.4 1445.17 1499.57 1448.74 Q1497.77 1452.28 1497.77 1459.41 Q1497.77 1466.51 1499.57 1470.08 Q1501.4 1473.62 1505.01 1473.62 Q1508.65 1473.62 1510.45 1470.08 Q1512.28 1466.51 1512.28 1459.41 Q1512.28 1452.28 1510.45 1448.74 Q1508.65 1445.17 1505.01 1445.17 M1505.01 1441.47 Q1510.82 1441.47 1513.88 1446.07 Q1516.96 1450.66 1516.96 1459.41 Q1516.96 1468.13 1513.88 1472.74 Q1510.82 1477.32 1505.01 1477.32 Q1499.2 1477.32 1496.13 1472.74 Q1493.07 1468.13 1493.07 1459.41 Q1493.07 1450.66 1496.13 1446.07 Q1499.2 1441.47 1505.01 1441.47 Z\" fill=\"#000000\" fill-rule=\"evenodd\" fill-opacity=\"1\" /><path clip-path=\"url(#clip750)\" d=\"M 0 0 M1532.03 1445.17 Q1528.42 1445.17 1526.59 1448.74 Q1524.78 1452.28 1524.78 1459.41 Q1524.78 1466.51 1526.59 1470.08 Q1528.42 1473.62 1532.03 1473.62 Q1535.66 1473.62 1537.47 1470.08 Q1539.3 1466.51 1539.3 1459.41 Q1539.3 1452.28 1537.47 1448.74 Q1535.66 1445.17 1532.03 1445.17 M1532.03 1441.47 Q1537.84 1441.47 1540.89 1446.07 Q1543.97 1450.66 1543.97 1459.41 Q1543.97 1468.13 1540.89 1472.74 Q1537.84 1477.32 1532.03 1477.32 Q1526.22 1477.32 1523.14 1472.74 Q1520.08 1468.13 1520.08 1459.41 Q1520.08 1450.66 1523.14 1446.07 Q1526.22 1441.47 1532.03 1441.47 Z\" fill=\"#000000\" fill-rule=\"evenodd\" fill-opacity=\"1\" /><path clip-path=\"url(#clip750)\" d=\"M 0 0 M1905.16 1446.17 L1893.36 1464.61 L1905.16 1464.61 L1905.16 1446.17 M1903.94 1442.09 L1909.82 1442.09 L1909.82 1464.61 L1914.75 1464.61 L1914.75 1468.5 L1909.82 1468.5 L1909.82 1476.65 L1905.16 1476.65 L1905.16 1468.5 L1889.56 1468.5 L1889.56 1463.99 L1903.94 1442.09 Z\" fill=\"#000000\" fill-rule=\"evenodd\" fill-opacity=\"1\" /><path clip-path=\"url(#clip750)\" d=\"M 0 0 M1929.82 1445.17 Q1926.21 1445.17 1924.38 1448.74 Q1922.57 1452.28 1922.57 1459.41 Q1922.57 1466.51 1924.38 1470.08 Q1926.21 1473.62 1929.82 1473.62 Q1933.45 1473.62 1935.26 1470.08 Q1937.09 1466.51 1937.09 1459.41 Q1937.09 1452.28 1935.26 1448.74 Q1933.45 1445.17 1929.82 1445.17 M1929.82 1441.47 Q1935.63 1441.47 1938.68 1446.07 Q1941.76 1450.66 1941.76 1459.41 Q1941.76 1468.13 1938.68 1472.74 Q1935.63 1477.32 1929.82 1477.32 Q1924.01 1477.32 1920.93 1472.74 Q1917.87 1468.13 1917.87 1459.41 Q1917.87 1450.66 1920.93 1446.07 Q1924.01 1441.47 1929.82 1441.47 Z\" fill=\"#000000\" fill-rule=\"evenodd\" fill-opacity=\"1\" /><path clip-path=\"url(#clip750)\" d=\"M 0 0 M1956.83 1445.17 Q1953.22 1445.17 1951.39 1448.74 Q1949.59 1452.28 1949.59 1459.41 Q1949.59 1466.51 1951.39 1470.08 Q1953.22 1473.62 1956.83 1473.62 Q1960.46 1473.62 1962.27 1470.08 Q1964.1 1466.51 1964.1 1459.41 Q1964.1 1452.28 1962.27 1448.74 Q1960.46 1445.17 1956.83 1445.17 M1956.83 1441.47 Q1962.64 1441.47 1965.7 1446.07 Q1968.77 1450.66 1968.77 1459.41 Q1968.77 1468.13 1965.7 1472.74 Q1962.64 1477.32 1956.83 1477.32 Q1951.02 1477.32 1947.94 1472.74 Q1944.89 1468.13 1944.89 1459.41 Q1944.89 1450.66 1947.94 1446.07 Q1951.02 1441.47 1956.83 1441.47 Z\" fill=\"#000000\" fill-rule=\"evenodd\" fill-opacity=\"1\" /><path clip-path=\"url(#clip750)\" d=\"M 0 0 M2316.02 1442.09 L2334.38 1442.09 L2334.38 1446.03 L2320.3 1446.03 L2320.3 1454.5 Q2321.32 1454.15 2322.34 1453.99 Q2323.36 1453.8 2324.38 1453.8 Q2330.16 1453.8 2333.54 1456.98 Q2336.92 1460.15 2336.92 1465.56 Q2336.92 1471.14 2333.45 1474.24 Q2329.98 1477.32 2323.66 1477.32 Q2321.48 1477.32 2319.21 1476.95 Q2316.97 1476.58 2314.56 1475.84 L2314.56 1471.14 Q2316.64 1472.28 2318.87 1472.83 Q2321.09 1473.39 2323.57 1473.39 Q2327.57 1473.39 2329.91 1471.28 Q2332.25 1469.18 2332.25 1465.56 Q2332.25 1461.95 2329.91 1459.85 Q2327.57 1457.74 2323.57 1457.74 Q2321.69 1457.74 2319.82 1458.16 Q2317.96 1458.57 2316.02 1459.45 L2316.02 1442.09 Z\" fill=\"#000000\" fill-rule=\"evenodd\" fill-opacity=\"1\" /><path clip-path=\"url(#clip750)\" d=\"M 0 0 M2351.99 1445.17 Q2348.38 1445.17 2346.55 1448.74 Q2344.75 1452.28 2344.75 1459.41 Q2344.75 1466.51 2346.55 1470.08 Q2348.38 1473.62 2351.99 1473.62 Q2355.63 1473.62 2357.43 1470.08 Q2359.26 1466.51 2359.26 1459.41 Q2359.26 1452.28 2357.43 1448.74 Q2355.63 1445.17 2351.99 1445.17 M2351.99 1441.47 Q2357.8 1441.47 2360.86 1446.07 Q2363.94 1450.66 2363.94 1459.41 Q2363.94 1468.13 2360.86 1472.74 Q2357.8 1477.32 2351.99 1477.32 Q2346.18 1477.32 2343.1 1472.74 Q2340.05 1468.13 2340.05 1459.41 Q2340.05 1450.66 2343.1 1446.07 Q2346.18 1441.47 2351.99 1441.47 Z\" fill=\"#000000\" fill-rule=\"evenodd\" fill-opacity=\"1\" /><path clip-path=\"url(#clip750)\" d=\"M 0 0 M2379.01 1445.17 Q2375.39 1445.17 2373.57 1448.74 Q2371.76 1452.28 2371.76 1459.41 Q2371.76 1466.51 2373.57 1470.08 Q2375.39 1473.62 2379.01 1473.62 Q2382.64 1473.62 2384.45 1470.08 Q2386.27 1466.51 2386.27 1459.41 Q2386.27 1452.28 2384.45 1448.74 Q2382.64 1445.17 2379.01 1445.17 M2379.01 1441.47 Q2384.82 1441.47 2387.87 1446.07 Q2390.95 1450.66 2390.95 1459.41 Q2390.95 1468.13 2387.87 1472.74 Q2384.82 1477.32 2379.01 1477.32 Q2373.2 1477.32 2370.12 1472.74 Q2367.06 1468.13 2367.06 1459.41 Q2367.06 1450.66 2370.12 1446.07 Q2373.2 1441.47 2379.01 1441.47 Z\" fill=\"#000000\" fill-rule=\"evenodd\" fill-opacity=\"1\" /><path clip-path=\"url(#clip750)\" d=\"M 0 0 M161.908 1408.98 Q158.297 1408.98 156.468 1412.54 Q154.663 1416.08 154.663 1423.21 Q154.663 1430.32 156.468 1433.89 Q158.297 1437.43 161.908 1437.43 Q165.542 1437.43 167.348 1433.89 Q169.177 1430.32 169.177 1423.21 Q169.177 1416.08 167.348 1412.54 Q165.542 1408.98 161.908 1408.98 M161.908 1405.27 Q167.718 1405.27 170.774 1409.88 Q173.852 1414.46 173.852 1423.21 Q173.852 1431.94 170.774 1436.55 Q167.718 1441.13 161.908 1441.13 Q156.098 1441.13 153.019 1436.55 Q149.964 1431.94 149.964 1423.21 Q149.964 1414.46 153.019 1409.88 Q156.098 1405.27 161.908 1405.27 Z\" fill=\"#000000\" fill-rule=\"evenodd\" fill-opacity=\"1\" /><path clip-path=\"url(#clip750)\" d=\"M 0 0 M178.922 1434.58 L183.806 1434.58 L183.806 1440.46 L178.922 1440.46 L178.922 1434.58 Z\" fill=\"#000000\" fill-rule=\"evenodd\" fill-opacity=\"1\" /><path clip-path=\"url(#clip750)\" d=\"M 0 0 M198.876 1408.98 Q195.264 1408.98 193.436 1412.54 Q191.63 1416.08 191.63 1423.21 Q191.63 1430.32 193.436 1433.89 Q195.264 1437.43 198.876 1437.43 Q202.51 1437.43 204.315 1433.89 Q206.144 1430.32 206.144 1423.21 Q206.144 1416.08 204.315 1412.54 Q202.51 1408.98 198.876 1408.98 M198.876 1405.27 Q204.686 1405.27 207.741 1409.88 Q210.82 1414.46 210.82 1423.21 Q210.82 1431.94 207.741 1436.55 Q204.686 1441.13 198.876 1441.13 Q193.065 1441.13 189.987 1436.55 Q186.931 1431.94 186.931 1423.21 Q186.931 1414.46 189.987 1409.88 Q193.065 1405.27 198.876 1405.27 Z\" fill=\"#000000\" fill-rule=\"evenodd\" fill-opacity=\"1\" /><path clip-path=\"url(#clip750)\" d=\"M 0 0 M158.529 1127.07 L174.848 1127.07 L174.848 1131.01 L152.904 1131.01 L152.904 1127.07 Q155.566 1124.32 160.149 1119.69 Q164.755 1115.03 165.936 1113.69 Q168.181 1111.17 169.061 1109.43 Q169.964 1107.67 169.964 1105.98 Q169.964 1103.23 168.019 1101.49 Q166.098 1099.76 162.996 1099.76 Q160.797 1099.76 158.343 1100.52 Q155.913 1101.28 153.135 1102.83 L153.135 1098.11 Q155.959 1096.98 158.413 1096.4 Q160.866 1095.82 162.903 1095.82 Q168.274 1095.82 171.468 1098.51 Q174.663 1101.19 174.663 1105.68 Q174.663 1107.81 173.852 1109.73 Q173.065 1111.63 170.959 1114.22 Q170.38 1114.89 167.278 1118.11 Q164.177 1121.31 158.529 1127.07 Z\" fill=\"#000000\" fill-rule=\"evenodd\" fill-opacity=\"1\" /><path clip-path=\"url(#clip750)\" d=\"M 0 0 M179.917 1125.13 L184.802 1125.13 L184.802 1131.01 L179.917 1131.01 L179.917 1125.13 Z\" fill=\"#000000\" fill-rule=\"evenodd\" fill-opacity=\"1\" /><path clip-path=\"url(#clip750)\" d=\"M 0 0 M189.917 1096.45 L208.274 1096.45 L208.274 1100.38 L194.2 1100.38 L194.2 1108.85 Q195.218 1108.51 196.237 1108.34 Q197.255 1108.16 198.274 1108.16 Q204.061 1108.16 207.44 1111.33 Q210.82 1114.5 210.82 1119.92 Q210.82 1125.5 207.348 1128.6 Q203.875 1131.68 197.556 1131.68 Q195.38 1131.68 193.112 1131.31 Q190.866 1130.94 188.459 1130.2 L188.459 1125.5 Q190.542 1126.63 192.764 1127.19 Q194.987 1127.74 197.463 1127.74 Q201.468 1127.74 203.806 1125.64 Q206.144 1123.53 206.144 1119.92 Q206.144 1116.31 203.806 1114.2 Q201.468 1112.09 197.463 1112.09 Q195.588 1112.09 193.713 1112.51 Q191.862 1112.93 189.917 1113.81 L189.917 1096.45 Z\" fill=\"#000000\" fill-rule=\"evenodd\" fill-opacity=\"1\" /><path clip-path=\"url(#clip750)\" d=\"M 0 0 M152.95 786.991 L171.306 786.991 L171.306 790.927 L157.232 790.927 L157.232 799.399 Q158.251 799.052 159.269 798.889 Q160.288 798.704 161.306 798.704 Q167.093 798.704 170.473 801.876 Q173.852 805.047 173.852 810.464 Q173.852 816.042 170.38 819.144 Q166.908 822.223 160.589 822.223 Q158.413 822.223 156.144 821.852 Q153.899 821.482 151.492 820.741 L151.492 816.042 Q153.575 817.176 155.797 817.732 Q158.019 818.288 160.496 818.288 Q164.501 818.288 166.839 816.181 Q169.177 814.075 169.177 810.464 Q169.177 806.852 166.839 804.746 Q164.501 802.639 160.496 802.639 Q158.621 802.639 156.746 803.056 Q154.894 803.473 152.95 804.352 L152.95 786.991 Z\" fill=\"#000000\" fill-rule=\"evenodd\" fill-opacity=\"1\" /><path clip-path=\"url(#clip750)\" d=\"M 0 0 M178.922 815.672 L183.806 815.672 L183.806 821.551 L178.922 821.551 L178.922 815.672 Z\" fill=\"#000000\" fill-rule=\"evenodd\" fill-opacity=\"1\" /><path clip-path=\"url(#clip750)\" d=\"M 0 0 M198.876 790.07 Q195.264 790.07 193.436 793.635 Q191.63 797.177 191.63 804.306 Q191.63 811.413 193.436 814.977 Q195.264 818.519 198.876 818.519 Q202.51 818.519 204.315 814.977 Q206.144 811.413 206.144 804.306 Q206.144 797.177 204.315 793.635 Q202.51 790.07 198.876 790.07 M198.876 786.366 Q204.686 786.366 207.741 790.973 Q210.82 795.556 210.82 804.306 Q210.82 813.033 207.741 817.639 Q204.686 822.223 198.876 822.223 Q193.065 822.223 189.987 817.639 Q186.931 813.033 186.931 804.306 Q186.931 795.556 189.987 790.973 Q193.065 786.366 198.876 786.366 Z\" fill=\"#000000\" fill-rule=\"evenodd\" fill-opacity=\"1\" /><path clip-path=\"url(#clip750)\" d=\"M 0 0 M152.626 477.537 L174.848 477.537 L174.848 479.528 L162.302 512.097 L157.417 512.097 L169.223 481.472 L152.626 481.472 L152.626 477.537 Z\" fill=\"#000000\" fill-rule=\"evenodd\" fill-opacity=\"1\" /><path clip-path=\"url(#clip750)\" d=\"M 0 0 M179.917 506.218 L184.802 506.218 L184.802 512.097 L179.917 512.097 L179.917 506.218 Z\" fill=\"#000000\" fill-rule=\"evenodd\" fill-opacity=\"1\" /><path clip-path=\"url(#clip750)\" d=\"M 0 0 M189.917 477.537 L208.274 477.537 L208.274 481.472 L194.2 481.472 L194.2 489.945 Q195.218 489.597 196.237 489.435 Q197.255 489.25 198.274 489.25 Q204.061 489.25 207.44 492.421 Q210.82 495.593 210.82 501.009 Q210.82 506.588 207.348 509.69 Q203.875 512.768 197.556 512.768 Q195.38 512.768 193.112 512.398 Q190.866 512.028 188.459 511.287 L188.459 506.588 Q190.542 507.722 192.764 508.278 Q194.987 508.833 197.463 508.833 Q201.468 508.833 203.806 506.727 Q206.144 504.62 206.144 501.009 Q206.144 497.398 203.806 495.292 Q201.468 493.185 197.463 493.185 Q195.588 493.185 193.713 493.602 Q191.862 494.019 189.917 494.898 L189.917 477.537 Z\" fill=\"#000000\" fill-rule=\"evenodd\" fill-opacity=\"1\" /><path clip-path=\"url(#clip750)\" d=\"M 0 0 M126.931 198.708 L134.57 198.708 L134.57 172.342 L126.26 174.009 L126.26 169.75 L134.524 168.083 L139.2 168.083 L139.2 198.708 L146.839 198.708 L146.839 202.643 L126.931 202.643 L126.931 198.708 Z\" fill=\"#000000\" fill-rule=\"evenodd\" fill-opacity=\"1\" /><path clip-path=\"url(#clip750)\" d=\"M 0 0 M161.908 171.162 Q158.297 171.162 156.468 174.726 Q154.663 178.268 154.663 185.398 Q154.663 192.504 156.468 196.069 Q158.297 199.611 161.908 199.611 Q165.542 199.611 167.348 196.069 Q169.177 192.504 169.177 185.398 Q169.177 178.268 167.348 174.726 Q165.542 171.162 161.908 171.162 M161.908 167.458 Q167.718 167.458 170.774 172.064 Q173.852 176.648 173.852 185.398 Q173.852 194.124 170.774 198.731 Q167.718 203.314 161.908 203.314 Q156.098 203.314 153.019 198.731 Q149.964 194.124 149.964 185.398 Q149.964 176.648 153.019 172.064 Q156.098 167.458 161.908 167.458 Z\" fill=\"#000000\" fill-rule=\"evenodd\" fill-opacity=\"1\" /><path clip-path=\"url(#clip750)\" d=\"M 0 0 M178.922 196.763 L183.806 196.763 L183.806 202.643 L178.922 202.643 L178.922 196.763 Z\" fill=\"#000000\" fill-rule=\"evenodd\" fill-opacity=\"1\" /><path clip-path=\"url(#clip750)\" d=\"M 0 0 M198.876 171.162 Q195.264 171.162 193.436 174.726 Q191.63 178.268 191.63 185.398 Q191.63 192.504 193.436 196.069 Q195.264 199.611 198.876 199.611 Q202.51 199.611 204.315 196.069 Q206.144 192.504 206.144 185.398 Q206.144 178.268 204.315 174.726 Q202.51 171.162 198.876 171.162 M198.876 167.458 Q204.686 167.458 207.741 172.064 Q210.82 176.648 210.82 185.398 Q210.82 194.124 207.741 198.731 Q204.686 203.314 198.876 203.314 Q193.065 203.314 189.987 198.731 Q186.931 194.124 186.931 185.398 Q186.931 176.648 189.987 172.064 Q193.065 167.458 198.876 167.458 Z\" fill=\"#000000\" fill-rule=\"evenodd\" fill-opacity=\"1\" /><path clip-path=\"url(#clip750)\" d=\"M 0 0 M1081.5 43.6931 L1081.5 65.8515 L1094.63 65.8515 Q1101.23 65.8515 1104.39 63.1374 Q1107.59 60.3828 1107.59 54.752 Q1107.59 49.0808 1104.39 46.4072 Q1101.23 43.6931 1094.63 43.6931 L1081.5 43.6931 M1081.5 18.8205 L1081.5 37.0496 L1093.61 37.0496 Q1099.61 37.0496 1102.52 34.8216 Q1105.48 32.5531 1105.48 27.935 Q1105.48 23.3575 1102.52 21.089 Q1099.61 18.8205 1093.61 18.8205 L1081.5 18.8205 M1073.32 12.096 L1094.22 12.096 Q1103.58 12.096 1108.64 15.9849 Q1113.7 19.8737 1113.7 27.0438 Q1113.7 32.5936 1111.11 35.8748 Q1108.52 39.156 1103.5 39.9662 Q1109.53 41.2625 1112.85 45.3944 Q1116.22 49.4858 1116.22 55.6432 Q1116.22 63.745 1110.71 68.1605 Q1105.2 72.576 1095.03 72.576 L1073.32 72.576 L1073.32 12.096 Z\" fill=\"#000000\" fill-rule=\"evenodd\" fill-opacity=\"1\" /><path clip-path=\"url(#clip750)\" d=\"M 0 0 M1141.62 32.4315 Q1135.62 32.4315 1132.14 37.1306 Q1128.65 41.7891 1128.65 49.9314 Q1128.65 58.0738 1132.1 62.7728 Q1135.58 67.4314 1141.62 67.4314 Q1147.57 67.4314 1151.05 62.7323 Q1154.54 58.0333 1154.54 49.9314 Q1154.54 41.8701 1151.05 37.1711 Q1147.57 32.4315 1141.62 32.4315 M1141.62 26.1121 Q1151.34 26.1121 1156.89 32.4315 Q1162.44 38.7509 1162.44 49.9314 Q1162.44 61.0714 1156.89 67.4314 Q1151.34 73.7508 1141.62 73.7508 Q1131.85 73.7508 1126.3 67.4314 Q1120.79 61.0714 1120.79 49.9314 Q1120.79 38.7509 1126.3 32.4315 Q1131.85 26.1121 1141.62 26.1121 Z\" fill=\"#000000\" fill-rule=\"evenodd\" fill-opacity=\"1\" /><path clip-path=\"url(#clip750)\" d=\"M 0 0 M1177.63 14.324 L1177.63 27.2059 L1192.98 27.2059 L1192.98 32.9987 L1177.63 32.9987 L1177.63 57.6282 Q1177.63 63.1779 1179.13 64.7578 Q1180.67 66.3376 1185.32 66.3376 L1192.98 66.3376 L1192.98 72.576 L1185.32 72.576 Q1176.7 72.576 1173.42 69.3758 Q1170.13 66.1351 1170.13 57.6282 L1170.13 32.9987 L1164.67 32.9987 L1164.67 27.2059 L1170.13 27.2059 L1170.13 14.324 L1177.63 14.324 Z\" fill=\"#000000\" fill-rule=\"evenodd\" fill-opacity=\"1\" /><path clip-path=\"url(#clip750)\" d=\"M 0 0 M1208.17 14.324 L1208.17 27.2059 L1223.52 27.2059 L1223.52 32.9987 L1208.17 32.9987 L1208.17 57.6282 Q1208.17 63.1779 1209.67 64.7578 Q1211.21 66.3376 1215.87 66.3376 L1223.52 66.3376 L1223.52 72.576 L1215.87 72.576 Q1207.24 72.576 1203.96 69.3758 Q1200.68 66.1351 1200.68 57.6282 L1200.68 32.9987 L1195.21 32.9987 L1195.21 27.2059 L1200.68 27.2059 L1200.68 14.324 L1208.17 14.324 Z\" fill=\"#000000\" fill-rule=\"evenodd\" fill-opacity=\"1\" /><path clip-path=\"url(#clip750)\" d=\"M 0 0 M1248.92 32.4315 Q1242.93 32.4315 1239.45 37.1306 Q1235.96 41.7891 1235.96 49.9314 Q1235.96 58.0738 1239.4 62.7728 Q1242.89 67.4314 1248.92 67.4314 Q1254.88 67.4314 1258.36 62.7323 Q1261.85 58.0333 1261.85 49.9314 Q1261.85 41.8701 1258.36 37.1711 Q1254.88 32.4315 1248.92 32.4315 M1248.92 26.1121 Q1258.65 26.1121 1264.2 32.4315 Q1269.75 38.7509 1269.75 49.9314 Q1269.75 61.0714 1264.2 67.4314 Q1258.65 73.7508 1248.92 73.7508 Q1239.16 73.7508 1233.61 67.4314 Q1228.1 61.0714 1228.1 49.9314 Q1228.1 38.7509 1233.61 32.4315 Q1239.16 26.1121 1248.92 26.1121 Z\" fill=\"#000000\" fill-rule=\"evenodd\" fill-opacity=\"1\" /><path clip-path=\"url(#clip750)\" d=\"M 0 0 M1312.89 35.9153 Q1315.68 30.8922 1319.57 28.5022 Q1323.46 26.1121 1328.73 26.1121 Q1335.82 26.1121 1339.66 31.0947 Q1343.51 36.0368 1343.51 45.1919 L1343.51 72.576 L1336.02 72.576 L1336.02 45.4349 Q1336.02 38.913 1333.71 35.7533 Q1331.4 32.5936 1326.66 32.5936 Q1320.87 32.5936 1317.51 36.4419 Q1314.14 40.2903 1314.14 46.9338 L1314.14 72.576 L1306.65 72.576 L1306.65 45.4349 Q1306.65 38.8725 1304.34 35.7533 Q1302.03 32.5936 1297.21 32.5936 Q1291.5 32.5936 1288.14 36.4824 Q1284.77 40.3308 1284.77 46.9338 L1284.77 72.576 L1277.28 72.576 L1277.28 27.2059 L1284.77 27.2059 L1284.77 34.2544 Q1287.33 30.082 1290.89 28.0971 Q1294.46 26.1121 1299.36 26.1121 Q1304.3 26.1121 1307.74 28.6237 Q1311.23 31.1352 1312.89 35.9153 Z\" fill=\"#000000\" fill-rule=\"evenodd\" fill-opacity=\"1\" /><path clip-path=\"url(#clip750)\" d=\"M 0 0 M1369.64 12.096 L1420.8 12.096 L1420.8 18.9825 L1399.33 18.9825 L1399.33 72.576 L1391.11 72.576 L1391.11 18.9825 L1369.64 18.9825 L1369.64 12.096 Z\" fill=\"#000000\" fill-rule=\"evenodd\" fill-opacity=\"1\" /><path clip-path=\"url(#clip750)\" d=\"M 0 0 M1426.07 27.2059 L1433.52 27.2059 L1433.52 72.576 L1426.07 72.576 L1426.07 27.2059 M1426.07 9.54393 L1433.52 9.54393 L1433.52 18.9825 L1426.07 18.9825 L1426.07 9.54393 Z\" fill=\"#000000\" fill-rule=\"evenodd\" fill-opacity=\"1\" /><path clip-path=\"url(#clip750)\" d=\"M 0 0 M1480.15 48.0275 L1480.15 51.6733 L1445.88 51.6733 Q1446.37 59.3701 1450.5 63.421 Q1454.67 67.4314 1462.08 67.4314 Q1466.38 67.4314 1470.39 66.3781 Q1474.44 65.3249 1478.41 63.2184 L1478.41 70.267 Q1474.4 71.9684 1470.18 72.8596 Q1465.97 73.7508 1461.64 73.7508 Q1450.78 73.7508 1444.42 67.4314 Q1438.1 61.1119 1438.1 50.3365 Q1438.1 39.1965 1444.1 32.6746 Q1450.13 26.1121 1460.34 26.1121 Q1469.5 26.1121 1474.8 32.0264 Q1480.15 37.9003 1480.15 48.0275 M1472.7 45.84 Q1472.62 39.7232 1469.25 36.0774 Q1465.93 32.4315 1460.42 32.4315 Q1454.18 32.4315 1450.42 35.9558 Q1446.69 39.4801 1446.12 45.8805 L1472.7 45.84 Z\" fill=\"#000000\" fill-rule=\"evenodd\" fill-opacity=\"1\" /><path clip-path=\"url(#clip750)\" d=\"M 0 0 M1514.26 34.1734 Q1513 33.4443 1511.5 33.1202 Q1510.05 32.7556 1508.26 32.7556 Q1501.94 32.7556 1498.54 36.8875 Q1495.18 40.9789 1495.18 48.6757 L1495.18 72.576 L1487.68 72.576 L1487.68 27.2059 L1495.18 27.2059 L1495.18 34.2544 Q1497.53 30.1225 1501.3 28.1376 Q1505.06 26.1121 1510.45 26.1121 Q1511.22 26.1121 1512.15 26.2337 Q1513.08 26.3147 1514.22 26.5172 L1514.26 34.1734 Z\" fill=\"#000000\" fill-rule=\"evenodd\" fill-opacity=\"1\" /><path clip-path=\"url(#clip750)\" d=\"M 0 0 M1017.37 1521.76 L1017.37 1527.24 Q1014.89 1525.87 1012.38 1525.2 Q1009.89 1524.5 1007.35 1524.5 Q1001.65 1524.5 998.499 1528.13 Q995.348 1531.73 995.348 1538.25 Q995.348 1544.78 998.499 1548.4 Q1001.65 1552 1007.35 1552 Q1009.89 1552 1012.38 1551.33 Q1014.89 1550.63 1017.37 1549.26 L1017.37 1554.68 Q1014.92 1555.82 1012.28 1556.39 Q1009.67 1556.97 1006.71 1556.97 Q998.658 1556.97 993.915 1551.91 Q989.173 1546.85 989.173 1538.25 Q989.173 1529.53 993.947 1524.53 Q998.753 1519.54 1007.09 1519.54 Q1009.8 1519.54 1012.38 1520.11 Q1014.95 1520.65 1017.37 1521.76 Z\" fill=\"#000000\" fill-rule=\"evenodd\" fill-opacity=\"1\" /><path clip-path=\"url(#clip750)\" d=\"M 0 0 M1022.91 1541.98 L1022.91 1520.4 L1028.77 1520.4 L1028.77 1541.75 Q1028.77 1546.81 1030.74 1549.36 Q1032.71 1551.87 1036.66 1551.87 Q1041.4 1551.87 1044.14 1548.85 Q1046.91 1545.83 1046.91 1540.61 L1046.91 1520.4 L1052.77 1520.4 L1052.77 1556.04 L1046.91 1556.04 L1046.91 1550.57 Q1044.78 1553.82 1041.94 1555.41 Q1039.14 1556.97 1035.42 1556.97 Q1029.28 1556.97 1026.09 1553.15 Q1022.91 1549.33 1022.91 1541.98 M1037.65 1519.54 L1037.65 1519.54 Z\" fill=\"#000000\" fill-rule=\"evenodd\" fill-opacity=\"1\" /><path clip-path=\"url(#clip750)\" d=\"M 0 0 M1079.57 1525.87 Q1078.58 1525.3 1077.4 1525.04 Q1076.26 1524.76 1074.86 1524.76 Q1069.89 1524.76 1067.22 1528 Q1064.57 1531.22 1064.57 1537.27 L1064.57 1556.04 L1058.69 1556.04 L1058.69 1520.4 L1064.57 1520.4 L1064.57 1525.93 Q1066.42 1522.69 1069.38 1521.13 Q1072.34 1519.54 1076.57 1519.54 Q1077.18 1519.54 1077.91 1519.63 Q1078.64 1519.7 1079.53 1519.85 L1079.57 1525.87 Z\" fill=\"#000000\" fill-rule=\"evenodd\" fill-opacity=\"1\" /><path clip-path=\"url(#clip750)\" d=\"M 0 0 M1105.22 1525.87 Q1104.23 1525.3 1103.06 1525.04 Q1101.91 1524.76 1100.51 1524.76 Q1095.54 1524.76 1092.87 1528 Q1090.23 1531.22 1090.23 1537.27 L1090.23 1556.04 L1084.34 1556.04 L1084.34 1520.4 L1090.23 1520.4 L1090.23 1525.93 Q1092.07 1522.69 1095.03 1521.13 Q1097.99 1519.54 1102.23 1519.54 Q1102.83 1519.54 1103.56 1519.63 Q1104.3 1519.7 1105.19 1519.85 L1105.22 1525.87 Z\" fill=\"#000000\" fill-rule=\"evenodd\" fill-opacity=\"1\" /><path clip-path=\"url(#clip750)\" d=\"M 0 0 M1111.36 1520.4 L1117.22 1520.4 L1117.22 1556.04 L1111.36 1556.04 L1111.36 1520.4 M1111.36 1506.52 L1117.22 1506.52 L1117.22 1513.93 L1111.36 1513.93 L1111.36 1506.52 Z\" fill=\"#000000\" fill-rule=\"evenodd\" fill-opacity=\"1\" /><path clip-path=\"url(#clip750)\" d=\"M 0 0 M1149.02 1521.76 L1149.02 1527.24 Q1146.53 1525.87 1144.02 1525.2 Q1141.54 1524.5 1138.99 1524.5 Q1133.29 1524.5 1130.14 1528.13 Q1126.99 1531.73 1126.99 1538.25 Q1126.99 1544.78 1130.14 1548.4 Q1133.29 1552 1138.99 1552 Q1141.54 1552 1144.02 1551.33 Q1146.53 1550.63 1149.02 1549.26 L1149.02 1554.68 Q1146.57 1555.82 1143.92 1556.39 Q1141.31 1556.97 1138.35 1556.97 Q1130.3 1556.97 1125.56 1551.91 Q1120.82 1546.85 1120.82 1538.25 Q1120.82 1529.53 1125.59 1524.53 Q1130.4 1519.54 1138.74 1519.54 Q1141.44 1519.54 1144.02 1520.11 Q1146.6 1520.65 1149.02 1521.76 Z\" fill=\"#000000\" fill-rule=\"evenodd\" fill-opacity=\"1\" /><path clip-path=\"url(#clip750)\" d=\"M 0 0 M1154.55 1541.98 L1154.55 1520.4 L1160.41 1520.4 L1160.41 1541.75 Q1160.41 1546.81 1162.38 1549.36 Q1164.36 1551.87 1168.3 1551.87 Q1173.05 1551.87 1175.78 1548.85 Q1178.55 1545.83 1178.55 1540.61 L1178.55 1520.4 L1184.41 1520.4 L1184.41 1556.04 L1178.55 1556.04 L1178.55 1550.57 Q1176.42 1553.82 1173.59 1555.41 Q1170.79 1556.97 1167.06 1556.97 Q1160.92 1556.97 1157.74 1553.15 Q1154.55 1549.33 1154.55 1541.98 M1169.29 1519.54 L1169.29 1519.54 Z\" fill=\"#000000\" fill-rule=\"evenodd\" fill-opacity=\"1\" /><path clip-path=\"url(#clip750)\" d=\"M 0 0 M1190.55 1506.52 L1196.41 1506.52 L1196.41 1556.04 L1190.55 1556.04 L1190.55 1506.52 Z\" fill=\"#000000\" fill-rule=\"evenodd\" fill-opacity=\"1\" /><path clip-path=\"url(#clip750)\" d=\"M 0 0 M1218.75 1538.12 Q1211.65 1538.12 1208.92 1539.75 Q1206.18 1541.37 1206.18 1545.29 Q1206.18 1548.4 1208.22 1550.25 Q1210.29 1552.07 1213.82 1552.07 Q1218.69 1552.07 1221.62 1548.63 Q1224.58 1545.16 1224.58 1539.43 L1224.58 1538.12 L1218.75 1538.12 M1230.43 1535.71 L1230.43 1556.04 L1224.58 1556.04 L1224.58 1550.63 Q1222.57 1553.88 1219.58 1555.44 Q1216.59 1556.97 1212.26 1556.97 Q1206.78 1556.97 1203.54 1553.91 Q1200.32 1550.82 1200.32 1545.67 Q1200.32 1539.65 1204.33 1536.6 Q1208.38 1533.54 1216.36 1533.54 L1224.58 1533.54 L1224.58 1532.97 Q1224.58 1528.93 1221.9 1526.73 Q1219.26 1524.5 1214.46 1524.5 Q1211.4 1524.5 1208.5 1525.23 Q1205.61 1525.97 1202.93 1527.43 L1202.93 1522.02 Q1206.15 1520.78 1209.17 1520.17 Q1212.2 1519.54 1215.06 1519.54 Q1222.79 1519.54 1226.61 1523.55 Q1230.43 1527.56 1230.43 1535.71 Z\" fill=\"#000000\" fill-rule=\"evenodd\" fill-opacity=\"1\" /><path clip-path=\"url(#clip750)\" d=\"M 0 0 M1257.23 1525.87 Q1256.25 1525.3 1255.07 1525.04 Q1253.92 1524.76 1252.52 1524.76 Q1247.56 1524.76 1244.88 1528 Q1242.24 1531.22 1242.24 1537.27 L1242.24 1556.04 L1236.35 1556.04 L1236.35 1520.4 L1242.24 1520.4 L1242.24 1525.93 Q1244.09 1522.69 1247.05 1521.13 Q1250.01 1519.54 1254.24 1519.54 Q1254.85 1519.54 1255.58 1519.63 Q1256.31 1519.7 1257.2 1519.85 L1257.23 1525.87 Z\" fill=\"#000000\" fill-rule=\"evenodd\" fill-opacity=\"1\" /><path clip-path=\"url(#clip750)\" d=\"M 0 0 M1309.75 1521.76 L1309.75 1527.24 Q1307.27 1525.87 1304.75 1525.2 Q1302.27 1524.5 1299.72 1524.5 Q1294.03 1524.5 1290.88 1528.13 Q1287.72 1531.73 1287.72 1538.25 Q1287.72 1544.78 1290.88 1548.4 Q1294.03 1552 1299.72 1552 Q1302.27 1552 1304.75 1551.33 Q1307.27 1550.63 1309.75 1549.26 L1309.75 1554.68 Q1307.3 1555.82 1304.66 1556.39 Q1302.05 1556.97 1299.09 1556.97 Q1291.03 1556.97 1286.29 1551.91 Q1281.55 1546.85 1281.55 1538.25 Q1281.55 1529.53 1286.32 1524.53 Q1291.13 1519.54 1299.47 1519.54 Q1302.17 1519.54 1304.75 1520.11 Q1307.33 1520.65 1309.75 1521.76 Z\" fill=\"#000000\" fill-rule=\"evenodd\" fill-opacity=\"1\" /><path clip-path=\"url(#clip750)\" d=\"M 0 0 M1329.71 1524.5 Q1325 1524.5 1322.26 1528.19 Q1319.52 1531.85 1319.52 1538.25 Q1319.52 1544.65 1322.23 1548.34 Q1324.96 1552 1329.71 1552 Q1334.39 1552 1337.12 1548.31 Q1339.86 1544.62 1339.86 1538.25 Q1339.86 1531.92 1337.12 1528.23 Q1334.39 1524.5 1329.71 1524.5 M1329.71 1519.54 Q1337.35 1519.54 1341.71 1524.5 Q1346.07 1529.47 1346.07 1538.25 Q1346.07 1547 1341.71 1552 Q1337.35 1556.97 1329.71 1556.97 Q1322.04 1556.97 1317.68 1552 Q1313.35 1547 1313.35 1538.25 Q1313.35 1529.47 1317.68 1524.5 Q1322.04 1519.54 1329.71 1519.54 Z\" fill=\"#000000\" fill-rule=\"evenodd\" fill-opacity=\"1\" /><path clip-path=\"url(#clip750)\" d=\"M 0 0 M1379.96 1527.24 Q1382.16 1523.29 1385.22 1521.41 Q1388.27 1519.54 1392.41 1519.54 Q1397.98 1519.54 1401 1523.45 Q1404.03 1527.33 1404.03 1534.53 L1404.03 1556.04 L1398.14 1556.04 L1398.14 1534.72 Q1398.14 1529.59 1396.32 1527.11 Q1394.51 1524.63 1390.79 1524.63 Q1386.23 1524.63 1383.59 1527.65 Q1380.95 1530.68 1380.95 1535.9 L1380.95 1556.04 L1375.06 1556.04 L1375.06 1534.72 Q1375.06 1529.56 1373.25 1527.11 Q1371.43 1524.63 1367.65 1524.63 Q1363.16 1524.63 1360.52 1527.68 Q1357.87 1530.71 1357.87 1535.9 L1357.87 1556.04 L1351.99 1556.04 L1351.99 1520.4 L1357.87 1520.4 L1357.87 1525.93 Q1359.88 1522.66 1362.68 1521.1 Q1365.48 1519.54 1369.33 1519.54 Q1373.22 1519.54 1375.92 1521.51 Q1378.66 1523.48 1379.96 1527.24 Z\" fill=\"#000000\" fill-rule=\"evenodd\" fill-opacity=\"1\" /><path clip-path=\"url(#clip750)\" d=\"M 0 0 M1415.83 1550.7 L1415.83 1569.6 L1409.95 1569.6 L1409.95 1520.4 L1415.83 1520.4 L1415.83 1525.81 Q1417.68 1522.62 1420.48 1521.1 Q1423.31 1519.54 1427.23 1519.54 Q1433.72 1519.54 1437.76 1524.69 Q1441.84 1529.85 1441.84 1538.25 Q1441.84 1546.65 1437.76 1551.81 Q1433.72 1556.97 1427.23 1556.97 Q1423.31 1556.97 1420.48 1555.44 Q1417.68 1553.88 1415.83 1550.7 M1435.76 1538.25 Q1435.76 1531.79 1433.09 1528.13 Q1430.44 1524.44 1425.8 1524.44 Q1421.15 1524.44 1418.48 1528.13 Q1415.83 1531.79 1415.83 1538.25 Q1415.83 1544.71 1418.48 1548.4 Q1421.15 1552.07 1425.8 1552.07 Q1430.44 1552.07 1433.09 1548.4 Q1435.76 1544.71 1435.76 1538.25 Z\" fill=\"#000000\" fill-rule=\"evenodd\" fill-opacity=\"1\" /><path clip-path=\"url(#clip750)\" d=\"M 0 0 M1447.98 1506.52 L1453.84 1506.52 L1453.84 1556.04 L1447.98 1556.04 L1447.98 1506.52 Z\" fill=\"#000000\" fill-rule=\"evenodd\" fill-opacity=\"1\" /><path clip-path=\"url(#clip750)\" d=\"M 0 0 M1490.47 1536.76 L1490.47 1539.62 L1463.55 1539.62 Q1463.93 1545.67 1467.17 1548.85 Q1470.45 1552 1476.28 1552 Q1479.65 1552 1482.8 1551.17 Q1485.98 1550.35 1489.1 1548.69 L1489.1 1554.23 Q1485.95 1555.57 1482.64 1556.27 Q1479.33 1556.97 1475.93 1556.97 Q1467.4 1556.97 1462.4 1552 Q1457.43 1547.04 1457.43 1538.57 Q1457.43 1529.82 1462.14 1524.69 Q1466.89 1519.54 1474.91 1519.54 Q1482.1 1519.54 1486.27 1524.18 Q1490.47 1528.8 1490.47 1536.76 M1484.62 1535.04 Q1484.55 1530.23 1481.91 1527.37 Q1479.3 1524.5 1474.97 1524.5 Q1470.07 1524.5 1467.11 1527.27 Q1464.18 1530.04 1463.74 1535.07 L1484.62 1535.04 Z\" fill=\"#000000\" fill-rule=\"evenodd\" fill-opacity=\"1\" /><path clip-path=\"url(#clip750)\" d=\"M 0 0 M1525.1 1520.4 L1512.21 1537.74 L1525.77 1556.04 L1518.86 1556.04 L1508.49 1542.04 L1498.11 1556.04 L1491.2 1556.04 L1505.05 1537.39 L1492.38 1520.4 L1499.29 1520.4 L1508.74 1533.1 L1518.19 1520.4 L1525.1 1520.4 Z\" fill=\"#000000\" fill-rule=\"evenodd\" fill-opacity=\"1\" /><path clip-path=\"url(#clip750)\" d=\"M 0 0 M1531.91 1520.4 L1537.77 1520.4 L1537.77 1556.04 L1531.91 1556.04 L1531.91 1520.4 M1531.91 1506.52 L1537.77 1506.52 L1537.77 1513.93 L1531.91 1513.93 L1531.91 1506.52 Z\" fill=\"#000000\" fill-rule=\"evenodd\" fill-opacity=\"1\" /><path clip-path=\"url(#clip750)\" d=\"M 0 0 M1549.71 1510.27 L1549.71 1520.4 L1561.77 1520.4 L1561.77 1524.95 L1549.71 1524.95 L1549.71 1544.3 Q1549.71 1548.66 1550.88 1549.9 Q1552.09 1551.14 1555.75 1551.14 L1561.77 1551.14 L1561.77 1556.04 L1555.75 1556.04 Q1548.97 1556.04 1546.4 1553.53 Q1543.82 1550.98 1543.82 1544.3 L1543.82 1524.95 L1539.52 1524.95 L1539.52 1520.4 L1543.82 1520.4 L1543.82 1510.27 L1549.71 1510.27 Z\" fill=\"#000000\" fill-rule=\"evenodd\" fill-opacity=\"1\" /><path clip-path=\"url(#clip750)\" d=\"M 0 0 M1582.74 1559.35 Q1580.26 1565.72 1577.91 1567.66 Q1575.55 1569.6 1571.6 1569.6 L1566.92 1569.6 L1566.92 1564.7 L1570.36 1564.7 Q1572.78 1564.7 1574.12 1563.56 Q1575.45 1562.41 1577.08 1558.14 L1578.13 1555.47 L1563.71 1520.4 L1569.92 1520.4 L1581.06 1548.28 L1592.2 1520.4 L1598.4 1520.4 L1582.74 1559.35 Z\" fill=\"#000000\" fill-rule=\"evenodd\" fill-opacity=\"1\" /><path clip-path=\"url(#clip750)\" d=\"M 0 0 M59.3266 884.567 L59.3266 893.829 L69.9574 896.502 L69.9574 887.177 L59.3266 884.567 M41.2162 889.341 L54.4251 892.651 L54.4251 883.357 L41.2162 880.015 L41.2162 874.923 L54.4251 878.201 L54.4251 868.27 L59.3266 868.27 L59.3266 879.442 L69.9574 882.052 L69.9574 871.931 L74.8271 871.931 L74.8271 883.294 L88.0042 886.604 L88.0042 891.696 L74.8271 888.418 L74.8271 897.744 L88.0042 901.022 L88.0042 906.146 L74.8271 902.836 L74.8271 912.862 L69.9574 912.862 L69.9574 901.659 L59.3266 898.985 L59.3266 909.234 L54.4251 909.234 L54.4251 897.744 L41.2162 894.497 L41.2162 889.341 Z\" fill=\"#000000\" fill-rule=\"evenodd\" fill-opacity=\"1\" /><path clip-path=\"url(#clip750)\" d=\"M 0 0 M53.4065 818.682 L58.9447 818.682 Q57.6716 821.164 57.035 823.838 Q56.3984 826.511 56.3984 829.376 Q56.3984 833.737 57.7352 835.933 Q59.072 838.097 61.7456 838.097 Q63.7826 838.097 64.9603 836.537 Q66.1061 834.978 67.1565 830.267 L67.6021 828.262 Q68.9389 822.024 71.3897 819.414 Q73.8086 816.772 78.1691 816.772 Q83.1344 816.772 86.0308 820.719 Q88.9272 824.634 88.9272 831.509 Q88.9272 834.373 88.3543 837.492 Q87.8132 840.58 86.6992 844.017 L80.6518 844.017 Q82.3387 840.771 83.198 837.62 Q84.0256 834.469 84.0256 831.381 Q84.0256 827.244 82.6251 825.016 Q81.1929 822.788 78.6147 822.788 Q76.2276 822.788 74.9545 824.411 Q73.6813 826.002 72.5037 831.445 L72.0262 833.482 Q70.8804 838.925 68.5251 841.344 Q66.138 843.763 62.0002 843.763 Q56.9713 843.763 54.2341 840.198 Q51.4968 836.633 51.4968 830.076 Q51.4968 826.83 51.9743 823.965 Q52.4517 821.101 53.4065 818.682 Z\" fill=\"#000000\" fill-rule=\"evenodd\" fill-opacity=\"1\" /><path clip-path=\"url(#clip750)\" d=\"M 0 0 M53.7248 784.975 L59.1993 784.975 Q57.8307 787.458 57.1623 789.972 Q56.4621 792.455 56.4621 795.001 Q56.4621 800.699 60.0905 803.85 Q63.6872 807.001 70.212 807.001 Q76.7369 807.001 80.3653 803.85 Q83.9619 800.699 83.9619 795.001 Q83.9619 792.455 83.2935 789.972 Q82.5933 787.458 81.2247 784.975 L86.6355 784.975 Q87.7814 787.426 88.3543 790.068 Q88.9272 792.678 88.9272 795.638 Q88.9272 803.69 83.8664 808.433 Q78.8057 813.175 70.212 813.175 Q61.491 813.175 56.4939 808.401 Q51.4968 803.595 51.4968 795.256 Q51.4968 792.55 52.0697 789.972 Q52.6108 787.394 53.7248 784.975 Z\" fill=\"#000000\" fill-rule=\"evenodd\" fill-opacity=\"1\" /><path clip-path=\"url(#clip750)\" d=\"M 0 0 M66.4881 749.2 L88.0042 749.2 L88.0042 755.056 L66.679 755.056 Q61.6183 755.056 59.1038 757.03 Q56.5894 759.003 56.5894 762.95 Q56.5894 767.692 59.6131 770.43 Q62.6368 773.167 67.8567 773.167 L88.0042 773.167 L88.0042 779.055 L38.479 779.055 L38.479 773.167 L57.8944 773.167 Q54.6797 771.066 53.0883 768.233 Q51.4968 765.369 51.4968 761.645 Q51.4968 755.502 55.3163 752.351 Q59.1038 749.2 66.4881 749.2 Z\" fill=\"#000000\" fill-rule=\"evenodd\" fill-opacity=\"1\" /><path clip-path=\"url(#clip750)\" d=\"M 0 0 M56.4621 729.243 Q56.4621 733.954 60.1542 736.691 Q63.8145 739.429 70.212 739.429 Q76.6095 739.429 80.3017 736.723 Q83.9619 733.986 83.9619 729.243 Q83.9619 724.565 80.2698 721.827 Q76.5777 719.09 70.212 719.09 Q63.8781 719.09 60.186 721.827 Q56.4621 724.565 56.4621 729.243 M51.4968 729.243 Q51.4968 721.605 56.4621 717.244 Q61.4273 712.884 70.212 712.884 Q78.9649 712.884 83.9619 717.244 Q88.9272 721.605 88.9272 729.243 Q88.9272 736.914 83.9619 741.275 Q78.9649 745.603 70.212 745.603 Q61.4273 745.603 56.4621 741.275 Q51.4968 736.914 51.4968 729.243 Z\" fill=\"#000000\" fill-rule=\"evenodd\" fill-opacity=\"1\" /><path clip-path=\"url(#clip750)\" d=\"M 0 0 M56.4621 692.927 Q56.4621 697.638 60.1542 700.375 Q63.8145 703.112 70.212 703.112 Q76.6095 703.112 80.3017 700.407 Q83.9619 697.67 83.9619 692.927 Q83.9619 688.248 80.2698 685.511 Q76.5777 682.774 70.212 682.774 Q63.8781 682.774 60.186 685.511 Q56.4621 688.248 56.4621 692.927 M51.4968 692.927 Q51.4968 685.288 56.4621 680.928 Q61.4273 676.567 70.212 676.567 Q78.9649 676.567 83.9619 680.928 Q88.9272 685.288 88.9272 692.927 Q88.9272 700.598 83.9619 704.958 Q78.9649 709.287 70.212 709.287 Q61.4273 709.287 56.4621 704.958 Q51.4968 700.598 51.4968 692.927 Z\" fill=\"#000000\" fill-rule=\"evenodd\" fill-opacity=\"1\" /><path clip-path=\"url(#clip750)\" d=\"M 0 0 M38.479 670.424 L38.479 664.568 L88.0042 664.568 L88.0042 670.424 L38.479 670.424 Z\" fill=\"#000000\" fill-rule=\"evenodd\" fill-opacity=\"1\" /><path clip-path=\"url(#clip750)\" d=\"M 0 0 M53.4065 635.699 L58.9447 635.699 Q57.6716 638.182 57.035 640.856 Q56.3984 643.529 56.3984 646.394 Q56.3984 650.754 57.7352 652.95 Q59.072 655.115 61.7456 655.115 Q63.7826 655.115 64.9603 653.555 Q66.1061 651.996 67.1565 647.285 L67.6021 645.28 Q68.9389 639.041 71.3897 636.431 Q73.8086 633.79 78.1691 633.79 Q83.1344 633.79 86.0308 637.736 Q88.9272 641.651 88.9272 648.526 Q88.9272 651.391 88.3543 654.51 Q87.8132 657.597 86.6992 661.035 L80.6518 661.035 Q82.3387 657.788 83.198 654.637 Q84.0256 651.486 84.0256 648.399 Q84.0256 644.261 82.6251 642.033 Q81.1929 639.805 78.6147 639.805 Q76.2276 639.805 74.9545 641.429 Q73.6813 643.02 72.5037 648.463 L72.0262 650.5 Q70.8804 655.942 68.5251 658.361 Q66.138 660.78 62.0002 660.78 Q56.9713 660.78 54.2341 657.215 Q51.4968 653.651 51.4968 647.094 Q51.4968 643.848 51.9743 640.983 Q52.4517 638.118 53.4065 635.699 Z\" fill=\"#000000\" fill-rule=\"evenodd\" fill-opacity=\"1\" /><path clip-path=\"url(#clip752)\" d=\"\n",
       "M658.407 1299.4 L658.407 1423.18 L1081.99 1423.18 L1081.99 1299.4 L658.407 1299.4 L658.407 1299.4  Z\n",
       "  \" fill=\"#1874cd\" fill-rule=\"evenodd\" fill-opacity=\"0.7\"/>\n",
       "<polyline clip-path=\"url(#clip752)\" style=\"stroke:#000000; stroke-width:4; stroke-opacity:0.7; fill:none\" points=\"\n",
       "  658.407,1299.4 658.407,1423.18 1081.99,1423.18 1081.99,1299.4 658.407,1299.4 \n",
       "  \"/>\n",
       "<path clip-path=\"url(#clip752)\" d=\"\n",
       "M1081.99 928.053 L1081.99 1423.18 L1505.58 1423.18 L1505.58 928.053 L1081.99 928.053 L1081.99 928.053  Z\n",
       "  \" fill=\"#1874cd\" fill-rule=\"evenodd\" fill-opacity=\"0.7\"/>\n",
       "<polyline clip-path=\"url(#clip752)\" style=\"stroke:#000000; stroke-width:4; stroke-opacity:0.7; fill:none\" points=\"\n",
       "  1081.99,928.053 1081.99,1423.18 1505.58,1423.18 1505.58,928.053 1081.99,928.053 \n",
       "  \"/>\n",
       "<path clip-path=\"url(#clip752)\" d=\"\n",
       "M1505.58 -185.982 L1505.58 1423.18 L1929.17 1423.18 L1929.17 -185.982 L1505.58 -185.982 L1505.58 -185.982  Z\n",
       "  \" fill=\"#1874cd\" fill-rule=\"evenodd\" fill-opacity=\"0.7\"/>\n",
       "<polyline clip-path=\"url(#clip752)\" style=\"stroke:#000000; stroke-width:4; stroke-opacity:0.7; fill:none\" points=\"\n",
       "  1505.58,-185.982 1505.58,1423.18 1929.17,1423.18 1929.17,-185.982 1505.58,-185.982 \n",
       "  \"/>\n",
       "<path clip-path=\"url(#clip752)\" d=\"\n",
       "M1929.17 1175.62 L1929.17 1423.18 L2352.76 1423.18 L2352.76 1175.62 L1929.17 1175.62 L1929.17 1175.62  Z\n",
       "  \" fill=\"#1874cd\" fill-rule=\"evenodd\" fill-opacity=\"0.7\"/>\n",
       "<polyline clip-path=\"url(#clip752)\" style=\"stroke:#000000; stroke-width:4; stroke-opacity:0.7; fill:none\" points=\"\n",
       "  1929.17,1175.62 1929.17,1423.18 2352.76,1423.18 2352.76,1175.62 1929.17,1175.62 \n",
       "  \"/>\n",
       "<path clip-path=\"url(#clip752)\" d=\"\n",
       "M2352.76 1299.4 L2352.76 1423.18 L2776.34 1423.18 L2776.34 1299.4 L2352.76 1299.4 L2352.76 1299.4  Z\n",
       "  \" fill=\"#1874cd\" fill-rule=\"evenodd\" fill-opacity=\"0.7\"/>\n",
       "<polyline clip-path=\"url(#clip752)\" style=\"stroke:#000000; stroke-width:4; stroke-opacity:0.7; fill:none\" points=\"\n",
       "  2352.76,1299.4 2352.76,1423.18 2776.34,1423.18 2776.34,1299.4 2352.76,1299.4 \n",
       "  \"/>\n",
       "</svg>\n"
      ]
     },
     "execution_count": 7,
     "metadata": {},
     "output_type": "execute_result"
    }
   ],
   "source": [
    "bottom_tier = Array{Curriculum,1}()\n",
    "bottom_tier_total_cc = 0\n",
    "bottom_tier_avg_cc = 0\n",
    "for (key, val) in curriculum\n",
    "    if (split(key, \"/\")[1]) == \"tier_bottom\"\n",
    "        name = split(split(key, \"/\")[2], \".\")[1]\n",
    "        println(\"$name => $(val.metrics[\"complexity\"][1])\")\n",
    "        push!(bottom_tier, val)\n",
    "        bottom_tier_total_cc += val.metrics[\"complexity\"][1]\n",
    "    end\n",
    "end\n",
    "bottom_tier_avg_cc = bottom_tier_total_cc / length(bottom_tier)\n",
    "println(\"Avg. curricular complexity = $(bottom_tier_avg_cc)\")\n",
    "metric_histogram(bottom_tier, \"complexity\", nbins=5, title=\"Bottom Tier\", xlabel=\"curricular complexity\", ylabel=\"# schools\", xlim=(0,500))"
   ]
  },
  {
   "cell_type": "code",
   "execution_count": 8,
   "metadata": {
    "scrolled": false
   },
   "outputs": [
    {
     "data": {
      "image/svg+xml": [
       "<?xml version=\"1.0\" encoding=\"utf-8\"?>\n",
       "<svg xmlns=\"http://www.w3.org/2000/svg\" xmlns:xlink=\"http://www.w3.org/1999/xlink\" width=\"600\" height=\"400\" viewBox=\"0 0 2400 1600\">\n",
       "<defs>\n",
       "  <clipPath id=\"clip790\">\n",
       "    <rect x=\"0\" y=\"0\" width=\"2400\" height=\"1600\"/>\n",
       "  </clipPath>\n",
       "</defs>\n",
       "<path clip-path=\"url(#clip790)\" d=\"\n",
       "M0 1600 L2400 1600 L2400 0 L0 0  Z\n",
       "  \" fill=\"#ffffff\" fill-rule=\"evenodd\" fill-opacity=\"1\"/>\n",
       "<defs>\n",
       "  <clipPath id=\"clip791\">\n",
       "    <rect x=\"480\" y=\"0\" width=\"1681\" height=\"1600\"/>\n",
       "  </clipPath>\n",
       "</defs>\n",
       "<path clip-path=\"url(#clip790)\" d=\"\n",
       "M197.852 1423.18 L2352.76 1423.18 L2352.76 123.472 L197.852 123.472  Z\n",
       "  \" fill=\"#ffffff\" fill-rule=\"evenodd\" fill-opacity=\"1\"/>\n",
       "<defs>\n",
       "  <clipPath id=\"clip792\">\n",
       "    <rect x=\"197\" y=\"123\" width=\"2156\" height=\"1301\"/>\n",
       "  </clipPath>\n",
       "</defs>\n",
       "<polyline clip-path=\"url(#clip792)\" style=\"stroke:#000000; stroke-width:2; stroke-opacity:0.1; fill:none\" points=\"\n",
       "  197.852,1423.18 197.852,123.472 \n",
       "  \"/>\n",
       "<polyline clip-path=\"url(#clip792)\" style=\"stroke:#000000; stroke-width:2; stroke-opacity:0.1; fill:none\" points=\"\n",
       "  557.003,1423.18 557.003,123.472 \n",
       "  \"/>\n",
       "<polyline clip-path=\"url(#clip792)\" style=\"stroke:#000000; stroke-width:2; stroke-opacity:0.1; fill:none\" points=\"\n",
       "  916.154,1423.18 916.154,123.472 \n",
       "  \"/>\n",
       "<polyline clip-path=\"url(#clip792)\" style=\"stroke:#000000; stroke-width:2; stroke-opacity:0.1; fill:none\" points=\"\n",
       "  1275.3,1423.18 1275.3,123.472 \n",
       "  \"/>\n",
       "<polyline clip-path=\"url(#clip792)\" style=\"stroke:#000000; stroke-width:2; stroke-opacity:0.1; fill:none\" points=\"\n",
       "  1634.45,1423.18 1634.45,123.472 \n",
       "  \"/>\n",
       "<polyline clip-path=\"url(#clip792)\" style=\"stroke:#000000; stroke-width:2; stroke-opacity:0.1; fill:none\" points=\"\n",
       "  1993.61,1423.18 1993.61,123.472 \n",
       "  \"/>\n",
       "<polyline clip-path=\"url(#clip792)\" style=\"stroke:#000000; stroke-width:2; stroke-opacity:0.1; fill:none\" points=\"\n",
       "  2352.76,1423.18 2352.76,123.472 \n",
       "  \"/>\n",
       "<polyline clip-path=\"url(#clip792)\" style=\"stroke:#000000; stroke-width:2; stroke-opacity:0.1; fill:none\" points=\"\n",
       "  197.852,1423.18 2352.76,1423.18 \n",
       "  \"/>\n",
       "<polyline clip-path=\"url(#clip792)\" style=\"stroke:#000000; stroke-width:2; stroke-opacity:0.1; fill:none\" points=\"\n",
       "  197.852,989.944 2352.76,989.944 \n",
       "  \"/>\n",
       "<polyline clip-path=\"url(#clip792)\" style=\"stroke:#000000; stroke-width:2; stroke-opacity:0.1; fill:none\" points=\"\n",
       "  197.852,556.708 2352.76,556.708 \n",
       "  \"/>\n",
       "<polyline clip-path=\"url(#clip792)\" style=\"stroke:#000000; stroke-width:2; stroke-opacity:0.1; fill:none\" points=\"\n",
       "  197.852,123.472 2352.76,123.472 \n",
       "  \"/>\n",
       "<polyline clip-path=\"url(#clip790)\" style=\"stroke:#000000; stroke-width:4; stroke-opacity:1; fill:none\" points=\"\n",
       "  197.852,1423.18 2352.76,1423.18 \n",
       "  \"/>\n",
       "<polyline clip-path=\"url(#clip790)\" style=\"stroke:#000000; stroke-width:4; stroke-opacity:1; fill:none\" points=\"\n",
       "  197.852,1423.18 197.852,123.472 \n",
       "  \"/>\n",
       "<polyline clip-path=\"url(#clip790)\" style=\"stroke:#000000; stroke-width:4; stroke-opacity:1; fill:none\" points=\"\n",
       "  197.852,1423.18 197.852,1407.58 \n",
       "  \"/>\n",
       "<polyline clip-path=\"url(#clip790)\" style=\"stroke:#000000; stroke-width:4; stroke-opacity:1; fill:none\" points=\"\n",
       "  557.003,1423.18 557.003,1407.58 \n",
       "  \"/>\n",
       "<polyline clip-path=\"url(#clip790)\" style=\"stroke:#000000; stroke-width:4; stroke-opacity:1; fill:none\" points=\"\n",
       "  916.154,1423.18 916.154,1407.58 \n",
       "  \"/>\n",
       "<polyline clip-path=\"url(#clip790)\" style=\"stroke:#000000; stroke-width:4; stroke-opacity:1; fill:none\" points=\"\n",
       "  1275.3,1423.18 1275.3,1407.58 \n",
       "  \"/>\n",
       "<polyline clip-path=\"url(#clip790)\" style=\"stroke:#000000; stroke-width:4; stroke-opacity:1; fill:none\" points=\"\n",
       "  1634.45,1423.18 1634.45,1407.58 \n",
       "  \"/>\n",
       "<polyline clip-path=\"url(#clip790)\" style=\"stroke:#000000; stroke-width:4; stroke-opacity:1; fill:none\" points=\"\n",
       "  1993.61,1423.18 1993.61,1407.58 \n",
       "  \"/>\n",
       "<polyline clip-path=\"url(#clip790)\" style=\"stroke:#000000; stroke-width:4; stroke-opacity:1; fill:none\" points=\"\n",
       "  2352.76,1423.18 2352.76,1407.58 \n",
       "  \"/>\n",
       "<polyline clip-path=\"url(#clip790)\" style=\"stroke:#000000; stroke-width:4; stroke-opacity:1; fill:none\" points=\"\n",
       "  197.852,1423.18 223.711,1423.18 \n",
       "  \"/>\n",
       "<polyline clip-path=\"url(#clip790)\" style=\"stroke:#000000; stroke-width:4; stroke-opacity:1; fill:none\" points=\"\n",
       "  197.852,989.944 223.711,989.944 \n",
       "  \"/>\n",
       "<polyline clip-path=\"url(#clip790)\" style=\"stroke:#000000; stroke-width:4; stroke-opacity:1; fill:none\" points=\"\n",
       "  197.852,556.708 223.711,556.708 \n",
       "  \"/>\n",
       "<polyline clip-path=\"url(#clip790)\" style=\"stroke:#000000; stroke-width:4; stroke-opacity:1; fill:none\" points=\"\n",
       "  197.852,123.472 223.711,123.472 \n",
       "  \"/>\n",
       "<path clip-path=\"url(#clip790)\" d=\"M 0 0 M197.852 1445.17 Q194.241 1445.17 192.413 1448.74 Q190.607 1452.28 190.607 1459.41 Q190.607 1466.51 192.413 1470.08 Q194.241 1473.62 197.852 1473.62 Q201.487 1473.62 203.292 1470.08 Q205.121 1466.51 205.121 1459.41 Q205.121 1452.28 203.292 1448.74 Q201.487 1445.17 197.852 1445.17 M197.852 1441.47 Q203.663 1441.47 206.718 1446.07 Q209.797 1450.66 209.797 1459.41 Q209.797 1468.13 206.718 1472.74 Q203.663 1477.32 197.852 1477.32 Q192.042 1477.32 188.964 1472.74 Q185.908 1468.13 185.908 1459.41 Q185.908 1450.66 188.964 1446.07 Q192.042 1441.47 197.852 1441.47 Z\" fill=\"#000000\" fill-rule=\"evenodd\" fill-opacity=\"1\" /><path clip-path=\"url(#clip790)\" d=\"M 0 0 M520.371 1472.72 L528.01 1472.72 L528.01 1446.35 L519.7 1448.02 L519.7 1443.76 L527.964 1442.09 L532.64 1442.09 L532.64 1472.72 L540.279 1472.72 L540.279 1476.65 L520.371 1476.65 L520.371 1472.72 Z\" fill=\"#000000\" fill-rule=\"evenodd\" fill-opacity=\"1\" /><path clip-path=\"url(#clip790)\" d=\"M 0 0 M555.348 1445.17 Q551.737 1445.17 549.908 1448.74 Q548.103 1452.28 548.103 1459.41 Q548.103 1466.51 549.908 1470.08 Q551.737 1473.62 555.348 1473.62 Q558.982 1473.62 560.788 1470.08 Q562.616 1466.51 562.616 1459.41 Q562.616 1452.28 560.788 1448.74 Q558.982 1445.17 555.348 1445.17 M555.348 1441.47 Q561.158 1441.47 564.214 1446.07 Q567.292 1450.66 567.292 1459.41 Q567.292 1468.13 564.214 1472.74 Q561.158 1477.32 555.348 1477.32 Q549.538 1477.32 546.459 1472.74 Q543.404 1468.13 543.404 1459.41 Q543.404 1450.66 546.459 1446.07 Q549.538 1441.47 555.348 1441.47 Z\" fill=\"#000000\" fill-rule=\"evenodd\" fill-opacity=\"1\" /><path clip-path=\"url(#clip790)\" d=\"M 0 0 M582.362 1445.17 Q578.751 1445.17 576.922 1448.74 Q575.116 1452.28 575.116 1459.41 Q575.116 1466.51 576.922 1470.08 Q578.751 1473.62 582.362 1473.62 Q585.996 1473.62 587.802 1470.08 Q589.63 1466.51 589.63 1459.41 Q589.63 1452.28 587.802 1448.74 Q585.996 1445.17 582.362 1445.17 M582.362 1441.47 Q588.172 1441.47 591.227 1446.07 Q594.306 1450.66 594.306 1459.41 Q594.306 1468.13 591.227 1472.74 Q588.172 1477.32 582.362 1477.32 Q576.552 1477.32 573.473 1472.74 Q570.417 1468.13 570.417 1459.41 Q570.417 1450.66 573.473 1446.07 Q576.552 1441.47 582.362 1441.47 Z\" fill=\"#000000\" fill-rule=\"evenodd\" fill-opacity=\"1\" /><path clip-path=\"url(#clip790)\" d=\"M 0 0 M883.793 1472.72 L900.112 1472.72 L900.112 1476.65 L878.168 1476.65 L878.168 1472.72 Q880.83 1469.96 885.413 1465.33 Q890.02 1460.68 891.2 1459.34 Q893.445 1456.81 894.325 1455.08 Q895.228 1453.32 895.228 1451.63 Q895.228 1448.87 893.283 1447.14 Q891.362 1445.4 888.26 1445.4 Q886.061 1445.4 883.608 1446.17 Q881.177 1446.93 878.399 1448.48 L878.399 1443.76 Q881.223 1442.62 883.677 1442.05 Q886.131 1441.47 888.168 1441.47 Q893.538 1441.47 896.732 1444.15 Q899.927 1446.84 899.927 1451.33 Q899.927 1453.46 899.117 1455.38 Q898.33 1457.28 896.223 1459.87 Q895.644 1460.54 892.543 1463.76 Q889.441 1466.95 883.793 1472.72 Z\" fill=\"#000000\" fill-rule=\"evenodd\" fill-opacity=\"1\" /><path clip-path=\"url(#clip790)\" d=\"M 0 0 M915.181 1445.17 Q911.57 1445.17 909.742 1448.74 Q907.936 1452.28 907.936 1459.41 Q907.936 1466.51 909.742 1470.08 Q911.57 1473.62 915.181 1473.62 Q918.816 1473.62 920.621 1470.08 Q922.45 1466.51 922.45 1459.41 Q922.45 1452.28 920.621 1448.74 Q918.816 1445.17 915.181 1445.17 M915.181 1441.47 Q920.992 1441.47 924.047 1446.07 Q927.126 1450.66 927.126 1459.41 Q927.126 1468.13 924.047 1472.74 Q920.992 1477.32 915.181 1477.32 Q909.371 1477.32 906.293 1472.74 Q903.237 1468.13 903.237 1459.41 Q903.237 1450.66 906.293 1446.07 Q909.371 1441.47 915.181 1441.47 Z\" fill=\"#000000\" fill-rule=\"evenodd\" fill-opacity=\"1\" /><path clip-path=\"url(#clip790)\" d=\"M 0 0 M942.195 1445.17 Q938.584 1445.17 936.755 1448.74 Q934.95 1452.28 934.95 1459.41 Q934.95 1466.51 936.755 1470.08 Q938.584 1473.62 942.195 1473.62 Q945.829 1473.62 947.635 1470.08 Q949.464 1466.51 949.464 1459.41 Q949.464 1452.28 947.635 1448.74 Q945.829 1445.17 942.195 1445.17 M942.195 1441.47 Q948.005 1441.47 951.061 1446.07 Q954.14 1450.66 954.14 1459.41 Q954.14 1468.13 951.061 1472.74 Q948.005 1477.32 942.195 1477.32 Q936.385 1477.32 933.306 1472.74 Q930.251 1468.13 930.251 1459.41 Q930.251 1450.66 933.306 1446.07 Q936.385 1441.47 942.195 1441.47 Z\" fill=\"#000000\" fill-rule=\"evenodd\" fill-opacity=\"1\" /><path clip-path=\"url(#clip790)\" d=\"M 0 0 M1252.54 1458.02 Q1255.89 1458.74 1257.77 1461 Q1259.67 1463.27 1259.67 1466.61 Q1259.67 1471.72 1256.15 1474.52 Q1252.63 1477.32 1246.15 1477.32 Q1243.97 1477.32 1241.66 1476.88 Q1239.37 1476.47 1236.91 1475.61 L1236.91 1471.1 Q1238.86 1472.23 1241.17 1472.81 Q1243.49 1473.39 1246.01 1473.39 Q1250.41 1473.39 1252.7 1471.65 Q1255.01 1469.92 1255.01 1466.61 Q1255.01 1463.55 1252.86 1461.84 Q1250.73 1460.1 1246.91 1460.1 L1242.89 1460.1 L1242.89 1456.26 L1247.1 1456.26 Q1250.55 1456.26 1252.38 1454.89 Q1254.2 1453.5 1254.2 1450.91 Q1254.2 1448.25 1252.31 1446.84 Q1250.43 1445.4 1246.91 1445.4 Q1244.99 1445.4 1242.79 1445.82 Q1240.59 1446.24 1237.95 1447.11 L1237.95 1442.95 Q1240.62 1442.21 1242.93 1441.84 Q1245.27 1441.47 1247.33 1441.47 Q1252.65 1441.47 1255.76 1443.9 Q1258.86 1446.3 1258.86 1450.43 Q1258.86 1453.3 1257.21 1455.29 Q1255.57 1457.25 1252.54 1458.02 Z\" fill=\"#000000\" fill-rule=\"evenodd\" fill-opacity=\"1\" /><path clip-path=\"url(#clip790)\" d=\"M 0 0 M1274.74 1445.17 Q1271.13 1445.17 1269.3 1448.74 Q1267.49 1452.28 1267.49 1459.41 Q1267.49 1466.51 1269.3 1470.08 Q1271.13 1473.62 1274.74 1473.62 Q1278.37 1473.62 1280.18 1470.08 Q1282.01 1466.51 1282.01 1459.41 Q1282.01 1452.28 1280.18 1448.74 Q1278.37 1445.17 1274.74 1445.17 M1274.74 1441.47 Q1280.55 1441.47 1283.6 1446.07 Q1286.68 1450.66 1286.68 1459.41 Q1286.68 1468.13 1283.6 1472.74 Q1280.55 1477.32 1274.74 1477.32 Q1268.93 1477.32 1265.85 1472.74 Q1262.79 1468.13 1262.79 1459.41 Q1262.79 1450.66 1265.85 1446.07 Q1268.93 1441.47 1274.74 1441.47 Z\" fill=\"#000000\" fill-rule=\"evenodd\" fill-opacity=\"1\" /><path clip-path=\"url(#clip790)\" d=\"M 0 0 M1301.75 1445.17 Q1298.14 1445.17 1296.31 1448.74 Q1294.51 1452.28 1294.51 1459.41 Q1294.51 1466.51 1296.31 1470.08 Q1298.14 1473.62 1301.75 1473.62 Q1305.39 1473.62 1307.19 1470.08 Q1309.02 1466.51 1309.02 1459.41 Q1309.02 1452.28 1307.19 1448.74 Q1305.39 1445.17 1301.75 1445.17 M1301.75 1441.47 Q1307.56 1441.47 1310.62 1446.07 Q1313.7 1450.66 1313.7 1459.41 Q1313.7 1468.13 1310.62 1472.74 Q1307.56 1477.32 1301.75 1477.32 Q1295.94 1477.32 1292.86 1472.74 Q1289.81 1468.13 1289.81 1459.41 Q1289.81 1450.66 1292.86 1446.07 Q1295.94 1441.47 1301.75 1441.47 Z\" fill=\"#000000\" fill-rule=\"evenodd\" fill-opacity=\"1\" /><path clip-path=\"url(#clip790)\" d=\"M 0 0 M1610.45 1446.17 L1598.64 1464.61 L1610.45 1464.61 L1610.45 1446.17 M1609.22 1442.09 L1615.1 1442.09 L1615.1 1464.61 L1620.03 1464.61 L1620.03 1468.5 L1615.1 1468.5 L1615.1 1476.65 L1610.45 1476.65 L1610.45 1468.5 L1594.85 1468.5 L1594.85 1463.99 L1609.22 1442.09 Z\" fill=\"#000000\" fill-rule=\"evenodd\" fill-opacity=\"1\" /><path clip-path=\"url(#clip790)\" d=\"M 0 0 M1635.1 1445.17 Q1631.49 1445.17 1629.66 1448.74 Q1627.86 1452.28 1627.86 1459.41 Q1627.86 1466.51 1629.66 1470.08 Q1631.49 1473.62 1635.1 1473.62 Q1638.74 1473.62 1640.54 1470.08 Q1642.37 1466.51 1642.37 1459.41 Q1642.37 1452.28 1640.54 1448.74 Q1638.74 1445.17 1635.1 1445.17 M1635.1 1441.47 Q1640.91 1441.47 1643.97 1446.07 Q1647.05 1450.66 1647.05 1459.41 Q1647.05 1468.13 1643.97 1472.74 Q1640.91 1477.32 1635.1 1477.32 Q1629.29 1477.32 1626.21 1472.74 Q1623.16 1468.13 1623.16 1459.41 Q1623.16 1450.66 1626.21 1446.07 Q1629.29 1441.47 1635.1 1441.47 Z\" fill=\"#000000\" fill-rule=\"evenodd\" fill-opacity=\"1\" /><path clip-path=\"url(#clip790)\" d=\"M 0 0 M1662.12 1445.17 Q1658.51 1445.17 1656.68 1448.74 Q1654.87 1452.28 1654.87 1459.41 Q1654.87 1466.51 1656.68 1470.08 Q1658.51 1473.62 1662.12 1473.62 Q1665.75 1473.62 1667.56 1470.08 Q1669.39 1466.51 1669.39 1459.41 Q1669.39 1452.28 1667.56 1448.74 Q1665.75 1445.17 1662.12 1445.17 M1662.12 1441.47 Q1667.93 1441.47 1670.98 1446.07 Q1674.06 1450.66 1674.06 1459.41 Q1674.06 1468.13 1670.98 1472.74 Q1667.93 1477.32 1662.12 1477.32 Q1656.31 1477.32 1653.23 1472.74 Q1650.17 1468.13 1650.17 1459.41 Q1650.17 1450.66 1653.23 1446.07 Q1656.31 1441.47 1662.12 1441.47 Z\" fill=\"#000000\" fill-rule=\"evenodd\" fill-opacity=\"1\" /><path clip-path=\"url(#clip790)\" d=\"M 0 0 M1956.87 1442.09 L1975.23 1442.09 L1975.23 1446.03 L1961.15 1446.03 L1961.15 1454.5 Q1962.17 1454.15 1963.19 1453.99 Q1964.21 1453.8 1965.23 1453.8 Q1971.01 1453.8 1974.39 1456.98 Q1977.77 1460.15 1977.77 1465.56 Q1977.77 1471.14 1974.3 1474.24 Q1970.83 1477.32 1964.51 1477.32 Q1962.33 1477.32 1960.06 1476.95 Q1957.82 1476.58 1955.41 1475.84 L1955.41 1471.14 Q1957.49 1472.28 1959.72 1472.83 Q1961.94 1473.39 1964.42 1473.39 Q1968.42 1473.39 1970.76 1471.28 Q1973.1 1469.18 1973.1 1465.56 Q1973.1 1461.95 1970.76 1459.85 Q1968.42 1457.74 1964.42 1457.74 Q1962.54 1457.74 1960.67 1458.16 Q1958.81 1458.57 1956.87 1459.45 L1956.87 1442.09 Z\" fill=\"#000000\" fill-rule=\"evenodd\" fill-opacity=\"1\" /><path clip-path=\"url(#clip790)\" d=\"M 0 0 M1992.84 1445.17 Q1989.23 1445.17 1987.4 1448.74 Q1985.6 1452.28 1985.6 1459.41 Q1985.6 1466.51 1987.4 1470.08 Q1989.23 1473.62 1992.84 1473.62 Q1996.48 1473.62 1998.28 1470.08 Q2000.11 1466.51 2000.11 1459.41 Q2000.11 1452.28 1998.28 1448.74 Q1996.48 1445.17 1992.84 1445.17 M1992.84 1441.47 Q1998.65 1441.47 2001.71 1446.07 Q2004.79 1450.66 2004.79 1459.41 Q2004.79 1468.13 2001.71 1472.74 Q1998.65 1477.32 1992.84 1477.32 Q1987.03 1477.32 1983.95 1472.74 Q1980.9 1468.13 1980.9 1459.41 Q1980.9 1450.66 1983.95 1446.07 Q1987.03 1441.47 1992.84 1441.47 Z\" fill=\"#000000\" fill-rule=\"evenodd\" fill-opacity=\"1\" /><path clip-path=\"url(#clip790)\" d=\"M 0 0 M2019.86 1445.17 Q2016.24 1445.17 2014.42 1448.74 Q2012.61 1452.28 2012.61 1459.41 Q2012.61 1466.51 2014.42 1470.08 Q2016.24 1473.62 2019.86 1473.62 Q2023.49 1473.62 2025.29 1470.08 Q2027.12 1466.51 2027.12 1459.41 Q2027.12 1452.28 2025.29 1448.74 Q2023.49 1445.17 2019.86 1445.17 M2019.86 1441.47 Q2025.67 1441.47 2028.72 1446.07 Q2031.8 1450.66 2031.8 1459.41 Q2031.8 1468.13 2028.72 1472.74 Q2025.67 1477.32 2019.86 1477.32 Q2014.05 1477.32 2010.97 1472.74 Q2007.91 1468.13 2007.91 1459.41 Q2007.91 1450.66 2010.97 1446.07 Q2014.05 1441.47 2019.86 1441.47 Z\" fill=\"#000000\" fill-rule=\"evenodd\" fill-opacity=\"1\" /><path clip-path=\"url(#clip790)\" d=\"M 0 0 M2326.15 1457.51 Q2323 1457.51 2321.15 1459.66 Q2319.32 1461.81 2319.32 1465.56 Q2319.32 1469.29 2321.15 1471.47 Q2323 1473.62 2326.15 1473.62 Q2329.3 1473.62 2331.12 1471.47 Q2332.98 1469.29 2332.98 1465.56 Q2332.98 1461.81 2331.12 1459.66 Q2329.3 1457.51 2326.15 1457.51 M2335.43 1442.86 L2335.43 1447.11 Q2333.67 1446.28 2331.86 1445.84 Q2330.08 1445.4 2328.32 1445.4 Q2323.69 1445.4 2321.24 1448.53 Q2318.81 1451.65 2318.46 1457.97 Q2319.83 1455.96 2321.89 1454.89 Q2323.95 1453.8 2326.43 1453.8 Q2331.63 1453.8 2334.64 1456.98 Q2337.67 1460.12 2337.67 1465.56 Q2337.67 1470.89 2334.53 1474.11 Q2331.38 1477.32 2326.15 1477.32 Q2320.15 1477.32 2316.98 1472.74 Q2313.81 1468.13 2313.81 1459.41 Q2313.81 1451.21 2317.7 1446.35 Q2321.59 1441.47 2328.14 1441.47 Q2329.9 1441.47 2331.68 1441.81 Q2333.49 1442.16 2335.43 1442.86 Z\" fill=\"#000000\" fill-rule=\"evenodd\" fill-opacity=\"1\" /><path clip-path=\"url(#clip790)\" d=\"M 0 0 M2352.74 1445.17 Q2349.13 1445.17 2347.3 1448.74 Q2345.5 1452.28 2345.5 1459.41 Q2345.5 1466.51 2347.3 1470.08 Q2349.13 1473.62 2352.74 1473.62 Q2356.38 1473.62 2358.18 1470.08 Q2360.01 1466.51 2360.01 1459.41 Q2360.01 1452.28 2358.18 1448.74 Q2356.38 1445.17 2352.74 1445.17 M2352.74 1441.47 Q2358.55 1441.47 2361.61 1446.07 Q2364.69 1450.66 2364.69 1459.41 Q2364.69 1468.13 2361.61 1472.74 Q2358.55 1477.32 2352.74 1477.32 Q2346.93 1477.32 2343.86 1472.74 Q2340.8 1468.13 2340.8 1459.41 Q2340.8 1450.66 2343.86 1446.07 Q2346.93 1441.47 2352.74 1441.47 Z\" fill=\"#000000\" fill-rule=\"evenodd\" fill-opacity=\"1\" /><path clip-path=\"url(#clip790)\" d=\"M 0 0 M2379.76 1445.17 Q2376.15 1445.17 2374.32 1448.74 Q2372.51 1452.28 2372.51 1459.41 Q2372.51 1466.51 2374.32 1470.08 Q2376.15 1473.62 2379.76 1473.62 Q2383.39 1473.62 2385.2 1470.08 Q2387.03 1466.51 2387.03 1459.41 Q2387.03 1452.28 2385.2 1448.74 Q2383.39 1445.17 2379.76 1445.17 M2379.76 1441.47 Q2385.57 1441.47 2388.62 1446.07 Q2391.7 1450.66 2391.7 1459.41 Q2391.7 1468.13 2388.62 1472.74 Q2385.57 1477.32 2379.76 1477.32 Q2373.95 1477.32 2370.87 1472.74 Q2367.81 1468.13 2367.81 1459.41 Q2367.81 1450.66 2370.87 1446.07 Q2373.95 1441.47 2379.76 1441.47 Z\" fill=\"#000000\" fill-rule=\"evenodd\" fill-opacity=\"1\" /><path clip-path=\"url(#clip790)\" d=\"M 0 0 M161.908 1408.98 Q158.297 1408.98 156.468 1412.54 Q154.663 1416.08 154.663 1423.21 Q154.663 1430.32 156.468 1433.89 Q158.297 1437.43 161.908 1437.43 Q165.542 1437.43 167.348 1433.89 Q169.177 1430.32 169.177 1423.21 Q169.177 1416.08 167.348 1412.54 Q165.542 1408.98 161.908 1408.98 M161.908 1405.27 Q167.718 1405.27 170.774 1409.88 Q173.852 1414.46 173.852 1423.21 Q173.852 1431.94 170.774 1436.55 Q167.718 1441.13 161.908 1441.13 Q156.098 1441.13 153.019 1436.55 Q149.964 1431.94 149.964 1423.21 Q149.964 1414.46 153.019 1409.88 Q156.098 1405.27 161.908 1405.27 Z\" fill=\"#000000\" fill-rule=\"evenodd\" fill-opacity=\"1\" /><path clip-path=\"url(#clip790)\" d=\"M 0 0 M152.95 972.664 L171.306 972.664 L171.306 976.599 L157.232 976.599 L157.232 985.071 Q158.251 984.724 159.269 984.562 Q160.288 984.377 161.306 984.377 Q167.093 984.377 170.473 987.548 Q173.852 990.719 173.852 996.136 Q173.852 1001.71 170.38 1004.82 Q166.908 1007.9 160.589 1007.9 Q158.413 1007.9 156.144 1007.52 Q153.899 1007.15 151.492 1006.41 L151.492 1001.71 Q153.575 1002.85 155.797 1003.4 Q158.019 1003.96 160.496 1003.96 Q164.501 1003.96 166.839 1001.85 Q169.177 999.747 169.177 996.136 Q169.177 992.525 166.839 990.418 Q164.501 988.312 160.496 988.312 Q158.621 988.312 156.746 988.729 Q154.894 989.145 152.95 990.025 L152.95 972.664 Z\" fill=\"#000000\" fill-rule=\"evenodd\" fill-opacity=\"1\" /><path clip-path=\"url(#clip790)\" d=\"M 0 0 M126.931 570.053 L134.57 570.053 L134.57 543.687 L126.26 545.354 L126.26 541.095 L134.524 539.428 L139.2 539.428 L139.2 570.053 L146.839 570.053 L146.839 573.988 L126.931 573.988 L126.931 570.053 Z\" fill=\"#000000\" fill-rule=\"evenodd\" fill-opacity=\"1\" /><path clip-path=\"url(#clip790)\" d=\"M 0 0 M161.908 542.507 Q158.297 542.507 156.468 546.072 Q154.663 549.613 154.663 556.743 Q154.663 563.849 156.468 567.414 Q158.297 570.956 161.908 570.956 Q165.542 570.956 167.348 567.414 Q169.177 563.849 169.177 556.743 Q169.177 549.613 167.348 546.072 Q165.542 542.507 161.908 542.507 M161.908 538.803 Q167.718 538.803 170.774 543.409 Q173.852 547.993 173.852 556.743 Q173.852 565.47 170.774 570.076 Q167.718 574.659 161.908 574.659 Q156.098 574.659 153.019 570.076 Q149.964 565.47 149.964 556.743 Q149.964 547.993 153.019 543.409 Q156.098 538.803 161.908 538.803 Z\" fill=\"#000000\" fill-rule=\"evenodd\" fill-opacity=\"1\" /><path clip-path=\"url(#clip790)\" d=\"M 0 0 M127.927 136.817 L135.566 136.817 L135.566 110.451 L127.256 112.118 L127.256 107.859 L135.519 106.192 L140.195 106.192 L140.195 136.817 L147.834 136.817 L147.834 140.752 L127.927 140.752 L127.927 136.817 Z\" fill=\"#000000\" fill-rule=\"evenodd\" fill-opacity=\"1\" /><path clip-path=\"url(#clip790)\" d=\"M 0 0 M152.95 106.192 L171.306 106.192 L171.306 110.127 L157.232 110.127 L157.232 118.599 Q158.251 118.252 159.269 118.09 Q160.288 117.905 161.306 117.905 Q167.093 117.905 170.473 121.076 Q173.852 124.248 173.852 129.664 Q173.852 135.243 170.38 138.345 Q166.908 141.423 160.589 141.423 Q158.413 141.423 156.144 141.053 Q153.899 140.683 151.492 139.942 L151.492 135.243 Q153.575 136.377 155.797 136.933 Q158.019 137.488 160.496 137.488 Q164.501 137.488 166.839 135.382 Q169.177 133.275 169.177 129.664 Q169.177 126.053 166.839 123.947 Q164.501 121.84 160.496 121.84 Q158.621 121.84 156.746 122.257 Q154.894 122.674 152.95 123.553 L152.95 106.192 Z\" fill=\"#000000\" fill-rule=\"evenodd\" fill-opacity=\"1\" /><path clip-path=\"url(#clip790)\" d=\"M 0 0 M1106.38 20.1573 L1095.28 50.2555 L1117.52 50.2555 L1106.38 20.1573 M1101.76 12.096 L1111.04 12.096 L1134.09 72.576 L1125.58 72.576 L1120.07 57.061 L1092.81 57.061 L1087.3 72.576 L1078.67 72.576 L1101.76 12.096 Z\" fill=\"#000000\" fill-rule=\"evenodd\" fill-opacity=\"1\" /><path clip-path=\"url(#clip790)\" d=\"M 0 0 M1141.91 9.54393 L1149.36 9.54393 L1149.36 72.576 L1141.91 72.576 L1141.91 9.54393 Z\" fill=\"#000000\" fill-rule=\"evenodd\" fill-opacity=\"1\" /><path clip-path=\"url(#clip790)\" d=\"M 0 0 M1157.18 9.54393 L1164.63 9.54393 L1164.63 72.576 L1157.18 72.576 L1157.18 9.54393 Z\" fill=\"#000000\" fill-rule=\"evenodd\" fill-opacity=\"1\" /><path clip-path=\"url(#clip790)\" d=\"M 0 0 M1235.4 14.0809 L1235.4 22.0612 Q1230.74 19.8332 1226.61 18.7395 Q1222.48 17.6457 1218.63 17.6457 Q1211.95 17.6457 1208.3 20.2383 Q1204.7 22.8309 1204.7 27.611 Q1204.7 31.6214 1207.09 33.6873 Q1209.52 35.7128 1216.24 36.9686 L1221.18 37.9813 Q1230.34 39.7232 1234.67 44.1387 Q1239.05 48.5136 1239.05 55.8863 Q1239.05 64.6767 1233.13 69.2137 Q1227.26 73.7508 1215.88 73.7508 Q1211.58 73.7508 1206.72 72.7785 Q1201.9 71.8063 1196.72 69.9024 L1196.72 61.4765 Q1201.7 64.2716 1206.48 65.6895 Q1211.26 67.1073 1215.88 67.1073 Q1222.89 67.1073 1226.69 64.3527 Q1230.5 61.598 1230.5 56.4939 Q1230.5 52.0379 1227.75 49.5264 Q1225.03 47.0148 1218.79 45.759 L1213.81 44.7868 Q1204.66 42.9639 1200.57 39.075 Q1196.47 35.1862 1196.47 28.2591 Q1196.47 20.2383 1202.1 15.6203 Q1207.78 11.0023 1217.7 11.0023 Q1221.95 11.0023 1226.37 11.7719 Q1230.78 12.5416 1235.4 14.0809 Z\" fill=\"#000000\" fill-rule=\"evenodd\" fill-opacity=\"1\" /><path clip-path=\"url(#clip790)\" d=\"M 0 0 M1279.52 28.9478 L1279.52 35.9153 Q1276.36 34.1734 1273.16 33.3227 Q1270 32.4315 1266.76 32.4315 Q1259.51 32.4315 1255.5 37.0496 Q1251.48 41.6271 1251.48 49.9314 Q1251.48 58.2358 1255.5 62.8538 Q1259.51 67.4314 1266.76 67.4314 Q1270 67.4314 1273.16 66.5807 Q1276.36 65.6895 1279.52 63.9476 L1279.52 70.8341 Q1276.4 72.2924 1273.04 73.0216 Q1269.71 73.7508 1265.95 73.7508 Q1255.7 73.7508 1249.66 67.3098 Q1243.63 60.8689 1243.63 49.9314 Q1243.63 38.832 1249.7 32.472 Q1255.82 26.1121 1266.43 26.1121 Q1269.88 26.1121 1273.16 26.8413 Q1276.44 27.5299 1279.52 28.9478 Z\" fill=\"#000000\" fill-rule=\"evenodd\" fill-opacity=\"1\" /><path clip-path=\"url(#clip790)\" d=\"M 0 0 M1325.05 45.1919 L1325.05 72.576 L1317.6 72.576 L1317.6 45.4349 Q1317.6 38.994 1315.08 35.7938 Q1312.57 32.5936 1307.55 32.5936 Q1301.51 32.5936 1298.03 36.4419 Q1294.55 40.2903 1294.55 46.9338 L1294.55 72.576 L1287.05 72.576 L1287.05 9.54393 L1294.55 9.54393 L1294.55 34.2544 Q1297.22 30.163 1300.82 28.1376 Q1304.47 26.1121 1309.21 26.1121 Q1317.03 26.1121 1321.04 30.9732 Q1325.05 35.7938 1325.05 45.1919 Z\" fill=\"#000000\" fill-rule=\"evenodd\" fill-opacity=\"1\" /><path clip-path=\"url(#clip790)\" d=\"M 0 0 M1350.45 32.4315 Q1344.45 32.4315 1340.97 37.1306 Q1337.49 41.7891 1337.49 49.9314 Q1337.49 58.0738 1340.93 62.7728 Q1344.41 67.4314 1350.45 67.4314 Q1356.4 67.4314 1359.89 62.7323 Q1363.37 58.0333 1363.37 49.9314 Q1363.37 41.8701 1359.89 37.1711 Q1356.4 32.4315 1350.45 32.4315 M1350.45 26.1121 Q1360.17 26.1121 1365.72 32.4315 Q1371.27 38.7509 1371.27 49.9314 Q1371.27 61.0714 1365.72 67.4314 Q1360.17 73.7508 1350.45 73.7508 Q1340.69 73.7508 1335.14 67.4314 Q1329.63 61.0714 1329.63 49.9314 Q1329.63 38.7509 1335.14 32.4315 Q1340.69 26.1121 1350.45 26.1121 Z\" fill=\"#000000\" fill-rule=\"evenodd\" fill-opacity=\"1\" /><path clip-path=\"url(#clip790)\" d=\"M 0 0 M1396.67 32.4315 Q1390.67 32.4315 1387.19 37.1306 Q1383.71 41.7891 1383.71 49.9314 Q1383.71 58.0738 1387.15 62.7728 Q1390.63 67.4314 1396.67 67.4314 Q1402.62 67.4314 1406.11 62.7323 Q1409.59 58.0333 1409.59 49.9314 Q1409.59 41.8701 1406.11 37.1711 Q1402.62 32.4315 1396.67 32.4315 M1396.67 26.1121 Q1406.39 26.1121 1411.94 32.4315 Q1417.49 38.7509 1417.49 49.9314 Q1417.49 61.0714 1411.94 67.4314 Q1406.39 73.7508 1396.67 73.7508 Q1386.91 73.7508 1381.36 67.4314 Q1375.85 61.0714 1375.85 49.9314 Q1375.85 38.7509 1381.36 32.4315 Q1386.91 26.1121 1396.67 26.1121 Z\" fill=\"#000000\" fill-rule=\"evenodd\" fill-opacity=\"1\" /><path clip-path=\"url(#clip790)\" d=\"M 0 0 M1425.31 9.54393 L1432.76 9.54393 L1432.76 72.576 L1425.31 72.576 L1425.31 9.54393 Z\" fill=\"#000000\" fill-rule=\"evenodd\" fill-opacity=\"1\" /><path clip-path=\"url(#clip790)\" d=\"M 0 0 M1469.5 28.5427 L1469.5 35.5912 Q1466.34 33.9709 1462.94 33.1607 Q1459.54 32.3505 1455.89 32.3505 Q1450.34 32.3505 1447.55 34.0519 Q1444.79 35.7533 1444.79 39.156 Q1444.79 41.7486 1446.78 43.2475 Q1448.76 44.7058 1454.76 46.0426 L1457.31 46.6097 Q1465.25 48.3111 1468.57 51.4303 Q1471.94 54.509 1471.94 60.0587 Q1471.94 66.3781 1466.91 70.0644 Q1461.93 73.7508 1453.18 73.7508 Q1449.53 73.7508 1445.56 73.0216 Q1441.63 72.3329 1437.26 70.9151 L1437.26 63.2184 Q1441.39 65.3654 1445.4 66.4591 Q1449.41 67.5124 1453.34 67.5124 Q1458.61 67.5124 1461.44 65.73 Q1464.28 63.9071 1464.28 60.6258 Q1464.28 57.5877 1462.21 55.9673 Q1460.19 54.3469 1453.26 52.8481 L1450.67 52.2405 Q1443.74 50.7821 1440.66 47.7845 Q1437.58 44.7463 1437.58 39.4801 Q1437.58 33.0797 1442.12 29.5959 Q1446.66 26.1121 1455 26.1121 Q1459.13 26.1121 1462.78 26.7198 Q1466.43 27.3274 1469.5 28.5427 Z\" fill=\"#000000\" fill-rule=\"evenodd\" fill-opacity=\"1\" /><path clip-path=\"url(#clip790)\" d=\"M 0 0 M991.33 1521.45 L991.33 1526.98 Q988.847 1525.71 986.174 1525.07 Q983.5 1524.44 980.636 1524.44 Q976.275 1524.44 974.079 1525.77 Q971.915 1527.11 971.915 1529.79 Q971.915 1531.82 973.474 1533 Q975.034 1534.15 979.744 1535.2 L981.75 1535.64 Q987.988 1536.98 990.598 1539.43 Q993.24 1541.85 993.24 1546.21 Q993.24 1551.17 989.293 1554.07 Q985.378 1556.97 978.503 1556.97 Q975.639 1556.97 972.519 1556.39 Q969.432 1555.85 965.995 1554.74 L965.995 1548.69 Q969.241 1550.38 972.392 1551.24 Q975.543 1552.07 978.63 1552.07 Q982.768 1552.07 984.996 1550.66 Q987.224 1549.23 987.224 1546.65 Q987.224 1544.27 985.601 1542.99 Q984.009 1541.72 978.567 1540.54 L976.53 1540.07 Q971.087 1538.92 968.668 1536.56 Q966.249 1534.18 966.249 1530.04 Q966.249 1525.01 969.814 1522.27 Q973.379 1519.54 979.935 1519.54 Q983.182 1519.54 986.046 1520.01 Q988.911 1520.49 991.33 1521.45 Z\" fill=\"#000000\" fill-rule=\"evenodd\" fill-opacity=\"1\" /><path clip-path=\"url(#clip790)\" d=\"M 0 0 M1005.18 1510.27 L1005.18 1520.4 L1017.24 1520.4 L1017.24 1524.95 L1005.18 1524.95 L1005.18 1544.3 Q1005.18 1548.66 1006.35 1549.9 Q1007.56 1551.14 1011.22 1551.14 L1017.24 1551.14 L1017.24 1556.04 L1011.22 1556.04 Q1004.44 1556.04 1001.87 1553.53 Q999.287 1550.98 999.287 1544.3 L999.287 1524.95 L994.99 1524.95 L994.99 1520.4 L999.287 1520.4 L999.287 1510.27 L1005.18 1510.27 Z\" fill=\"#000000\" fill-rule=\"evenodd\" fill-opacity=\"1\" /><path clip-path=\"url(#clip790)\" d=\"M 0 0 M1044.04 1525.87 Q1043.05 1525.3 1041.87 1525.04 Q1040.73 1524.76 1039.33 1524.76 Q1034.36 1524.76 1031.69 1528 Q1029.05 1531.22 1029.05 1537.27 L1029.05 1556.04 L1023.16 1556.04 L1023.16 1520.4 L1029.05 1520.4 L1029.05 1525.93 Q1030.89 1522.69 1033.85 1521.13 Q1036.81 1519.54 1041.05 1519.54 Q1041.65 1519.54 1042.38 1519.63 Q1043.12 1519.7 1044.01 1519.85 L1044.04 1525.87 Z\" fill=\"#000000\" fill-rule=\"evenodd\" fill-opacity=\"1\" /><path clip-path=\"url(#clip790)\" d=\"M 0 0 M1049.58 1541.98 L1049.58 1520.4 L1055.43 1520.4 L1055.43 1541.75 Q1055.43 1546.81 1057.41 1549.36 Q1059.38 1551.87 1063.33 1551.87 Q1068.07 1551.87 1070.81 1548.85 Q1073.57 1545.83 1073.57 1540.61 L1073.57 1520.4 L1079.43 1520.4 L1079.43 1556.04 L1073.57 1556.04 L1073.57 1550.57 Q1071.44 1553.82 1068.61 1555.41 Q1065.81 1556.97 1062.08 1556.97 Q1055.94 1556.97 1052.76 1553.15 Q1049.58 1549.33 1049.58 1541.98 M1064.31 1519.54 L1064.31 1519.54 Z\" fill=\"#000000\" fill-rule=\"evenodd\" fill-opacity=\"1\" /><path clip-path=\"url(#clip790)\" d=\"M 0 0 M1111.23 1521.76 L1111.23 1527.24 Q1108.75 1525.87 1106.23 1525.2 Q1103.75 1524.5 1101.2 1524.5 Q1095.5 1524.5 1092.35 1528.13 Q1089.2 1531.73 1089.2 1538.25 Q1089.2 1544.78 1092.35 1548.4 Q1095.5 1552 1101.2 1552 Q1103.75 1552 1106.23 1551.33 Q1108.75 1550.63 1111.23 1549.26 L1111.23 1554.68 Q1108.78 1555.82 1106.14 1556.39 Q1103.53 1556.97 1100.57 1556.97 Q1092.51 1556.97 1087.77 1551.91 Q1083.03 1546.85 1083.03 1538.25 Q1083.03 1529.53 1087.8 1524.53 Q1092.61 1519.54 1100.95 1519.54 Q1103.65 1519.54 1106.23 1520.11 Q1108.81 1520.65 1111.23 1521.76 Z\" fill=\"#000000\" fill-rule=\"evenodd\" fill-opacity=\"1\" /><path clip-path=\"url(#clip790)\" d=\"M 0 0 M1123.16 1510.27 L1123.16 1520.4 L1135.23 1520.4 L1135.23 1524.95 L1123.16 1524.95 L1123.16 1544.3 Q1123.16 1548.66 1124.34 1549.9 Q1125.55 1551.14 1129.21 1551.14 L1135.23 1551.14 L1135.23 1556.04 L1129.21 1556.04 Q1122.43 1556.04 1119.85 1553.53 Q1117.28 1550.98 1117.28 1544.3 L1117.28 1524.95 L1112.98 1524.95 L1112.98 1520.4 L1117.28 1520.4 L1117.28 1510.27 L1123.16 1510.27 Z\" fill=\"#000000\" fill-rule=\"evenodd\" fill-opacity=\"1\" /><path clip-path=\"url(#clip790)\" d=\"M 0 0 M1140.76 1541.98 L1140.76 1520.4 L1146.62 1520.4 L1146.62 1541.75 Q1146.62 1546.81 1148.59 1549.36 Q1150.57 1551.87 1154.51 1551.87 Q1159.26 1551.87 1161.99 1548.85 Q1164.76 1545.83 1164.76 1540.61 L1164.76 1520.4 L1170.62 1520.4 L1170.62 1556.04 L1164.76 1556.04 L1164.76 1550.57 Q1162.63 1553.82 1159.8 1555.41 Q1157 1556.97 1153.27 1556.97 Q1147.13 1556.97 1143.95 1553.15 Q1140.76 1549.33 1140.76 1541.98 M1155.5 1519.54 L1155.5 1519.54 Z\" fill=\"#000000\" fill-rule=\"evenodd\" fill-opacity=\"1\" /><path clip-path=\"url(#clip790)\" d=\"M 0 0 M1197.42 1525.87 Q1196.43 1525.3 1195.26 1525.04 Q1194.11 1524.76 1192.71 1524.76 Q1187.74 1524.76 1185.07 1528 Q1182.43 1531.22 1182.43 1537.27 L1182.43 1556.04 L1176.54 1556.04 L1176.54 1520.4 L1182.43 1520.4 L1182.43 1525.93 Q1184.27 1522.69 1187.23 1521.13 Q1190.19 1519.54 1194.43 1519.54 Q1195.03 1519.54 1195.76 1519.63 Q1196.5 1519.7 1197.39 1519.85 L1197.42 1525.87 Z\" fill=\"#000000\" fill-rule=\"evenodd\" fill-opacity=\"1\" /><path clip-path=\"url(#clip790)\" d=\"M 0 0 M1219.76 1538.12 Q1212.67 1538.12 1209.93 1539.75 Q1207.19 1541.37 1207.19 1545.29 Q1207.19 1548.4 1209.23 1550.25 Q1211.3 1552.07 1214.83 1552.07 Q1219.7 1552.07 1222.63 1548.63 Q1225.59 1545.16 1225.59 1539.43 L1225.59 1538.12 L1219.76 1538.12 M1231.44 1535.71 L1231.44 1556.04 L1225.59 1556.04 L1225.59 1550.63 Q1223.58 1553.88 1220.59 1555.44 Q1217.6 1556.97 1213.27 1556.97 Q1207.8 1556.97 1204.55 1553.91 Q1201.33 1550.82 1201.33 1545.67 Q1201.33 1539.65 1205.35 1536.6 Q1209.39 1533.54 1217.38 1533.54 L1225.59 1533.54 L1225.59 1532.97 Q1225.59 1528.93 1222.91 1526.73 Q1220.27 1524.5 1215.47 1524.5 Q1212.41 1524.5 1209.51 1525.23 Q1206.62 1525.97 1203.94 1527.43 L1203.94 1522.02 Q1207.16 1520.78 1210.18 1520.17 Q1213.21 1519.54 1216.07 1519.54 Q1223.81 1519.54 1227.63 1523.55 Q1231.44 1527.56 1231.44 1535.71 Z\" fill=\"#000000\" fill-rule=\"evenodd\" fill-opacity=\"1\" /><path clip-path=\"url(#clip790)\" d=\"M 0 0 M1237.59 1506.52 L1243.44 1506.52 L1243.44 1556.04 L1237.59 1556.04 L1237.59 1506.52 Z\" fill=\"#000000\" fill-rule=\"evenodd\" fill-opacity=\"1\" /><path clip-path=\"url(#clip790)\" d=\"M 0 0 M1295.96 1521.76 L1295.96 1527.24 Q1293.48 1525.87 1290.96 1525.2 Q1288.48 1524.5 1285.93 1524.5 Q1280.24 1524.5 1277.09 1528.13 Q1273.94 1531.73 1273.94 1538.25 Q1273.94 1544.78 1277.09 1548.4 Q1280.24 1552 1285.93 1552 Q1288.48 1552 1290.96 1551.33 Q1293.48 1550.63 1295.96 1549.26 L1295.96 1554.68 Q1293.51 1555.82 1290.87 1556.39 Q1288.26 1556.97 1285.3 1556.97 Q1277.25 1556.97 1272.5 1551.91 Q1267.76 1546.85 1267.76 1538.25 Q1267.76 1529.53 1272.54 1524.53 Q1277.34 1519.54 1285.68 1519.54 Q1288.39 1519.54 1290.96 1520.11 Q1293.54 1520.65 1295.96 1521.76 Z\" fill=\"#000000\" fill-rule=\"evenodd\" fill-opacity=\"1\" /><path clip-path=\"url(#clip790)\" d=\"M 0 0 M1315.92 1524.5 Q1311.21 1524.5 1308.47 1528.19 Q1305.73 1531.85 1305.73 1538.25 Q1305.73 1544.65 1308.44 1548.34 Q1311.17 1552 1315.92 1552 Q1320.6 1552 1323.33 1548.31 Q1326.07 1544.62 1326.07 1538.25 Q1326.07 1531.92 1323.33 1528.23 Q1320.6 1524.5 1315.92 1524.5 M1315.92 1519.54 Q1323.56 1519.54 1327.92 1524.5 Q1332.28 1529.47 1332.28 1538.25 Q1332.28 1547 1327.92 1552 Q1323.56 1556.97 1315.92 1556.97 Q1308.25 1556.97 1303.89 1552 Q1299.56 1547 1299.56 1538.25 Q1299.56 1529.47 1303.89 1524.5 Q1308.25 1519.54 1315.92 1519.54 Z\" fill=\"#000000\" fill-rule=\"evenodd\" fill-opacity=\"1\" /><path clip-path=\"url(#clip790)\" d=\"M 0 0 M1366.17 1527.24 Q1368.37 1523.29 1371.43 1521.41 Q1374.48 1519.54 1378.62 1519.54 Q1384.19 1519.54 1387.21 1523.45 Q1390.24 1527.33 1390.24 1534.53 L1390.24 1556.04 L1384.35 1556.04 L1384.35 1534.72 Q1384.35 1529.59 1382.53 1527.11 Q1380.72 1524.63 1377 1524.63 Q1372.44 1524.63 1369.8 1527.65 Q1367.16 1530.68 1367.16 1535.9 L1367.16 1556.04 L1361.27 1556.04 L1361.27 1534.72 Q1361.27 1529.56 1359.46 1527.11 Q1357.64 1524.63 1353.86 1524.63 Q1349.37 1524.63 1346.73 1527.68 Q1344.09 1530.71 1344.09 1535.9 L1344.09 1556.04 L1338.2 1556.04 L1338.2 1520.4 L1344.09 1520.4 L1344.09 1525.93 Q1346.09 1522.66 1348.89 1521.1 Q1351.69 1519.54 1355.54 1519.54 Q1359.43 1519.54 1362.13 1521.51 Q1364.87 1523.48 1366.17 1527.24 Z\" fill=\"#000000\" fill-rule=\"evenodd\" fill-opacity=\"1\" /><path clip-path=\"url(#clip790)\" d=\"M 0 0 M1402.05 1550.7 L1402.05 1569.6 L1396.16 1569.6 L1396.16 1520.4 L1402.05 1520.4 L1402.05 1525.81 Q1403.89 1522.62 1406.69 1521.1 Q1409.53 1519.54 1413.44 1519.54 Q1419.93 1519.54 1423.98 1524.69 Q1428.05 1529.85 1428.05 1538.25 Q1428.05 1546.65 1423.98 1551.81 Q1419.93 1556.97 1413.44 1556.97 Q1409.53 1556.97 1406.69 1555.44 Q1403.89 1553.88 1402.05 1550.7 M1421.97 1538.25 Q1421.97 1531.79 1419.3 1528.13 Q1416.65 1524.44 1412.01 1524.44 Q1407.36 1524.44 1404.69 1528.13 Q1402.05 1531.79 1402.05 1538.25 Q1402.05 1544.71 1404.69 1548.4 Q1407.36 1552.07 1412.01 1552.07 Q1416.65 1552.07 1419.3 1548.4 Q1421.97 1544.71 1421.97 1538.25 Z\" fill=\"#000000\" fill-rule=\"evenodd\" fill-opacity=\"1\" /><path clip-path=\"url(#clip790)\" d=\"M 0 0 M1434.19 1506.52 L1440.05 1506.52 L1440.05 1556.04 L1434.19 1556.04 L1434.19 1506.52 Z\" fill=\"#000000\" fill-rule=\"evenodd\" fill-opacity=\"1\" /><path clip-path=\"url(#clip790)\" d=\"M 0 0 M1476.68 1536.76 L1476.68 1539.62 L1449.76 1539.62 Q1450.14 1545.67 1453.38 1548.85 Q1456.66 1552 1462.49 1552 Q1465.86 1552 1469.01 1551.17 Q1472.2 1550.35 1475.31 1548.69 L1475.31 1554.23 Q1472.16 1555.57 1468.85 1556.27 Q1465.54 1556.97 1462.14 1556.97 Q1453.61 1556.97 1448.61 1552 Q1443.65 1547.04 1443.65 1538.57 Q1443.65 1529.82 1448.36 1524.69 Q1453.1 1519.54 1461.12 1519.54 Q1468.31 1519.54 1472.48 1524.18 Q1476.68 1528.8 1476.68 1536.76 M1470.83 1535.04 Q1470.76 1530.23 1468.12 1527.37 Q1465.51 1524.5 1461.18 1524.5 Q1456.28 1524.5 1453.32 1527.27 Q1450.39 1530.04 1449.95 1535.07 L1470.83 1535.04 Z\" fill=\"#000000\" fill-rule=\"evenodd\" fill-opacity=\"1\" /><path clip-path=\"url(#clip790)\" d=\"M 0 0 M1511.31 1520.4 L1498.42 1537.74 L1511.98 1556.04 L1505.07 1556.04 L1494.7 1542.04 L1484.32 1556.04 L1477.42 1556.04 L1491.26 1537.39 L1478.59 1520.4 L1485.5 1520.4 L1494.95 1533.1 L1504.41 1520.4 L1511.31 1520.4 Z\" fill=\"#000000\" fill-rule=\"evenodd\" fill-opacity=\"1\" /><path clip-path=\"url(#clip790)\" d=\"M 0 0 M1518.12 1520.4 L1523.98 1520.4 L1523.98 1556.04 L1518.12 1556.04 L1518.12 1520.4 M1518.12 1506.52 L1523.98 1506.52 L1523.98 1513.93 L1518.12 1513.93 L1518.12 1506.52 Z\" fill=\"#000000\" fill-rule=\"evenodd\" fill-opacity=\"1\" /><path clip-path=\"url(#clip790)\" d=\"M 0 0 M1535.92 1510.27 L1535.92 1520.4 L1547.98 1520.4 L1547.98 1524.95 L1535.92 1524.95 L1535.92 1544.3 Q1535.92 1548.66 1537.09 1549.9 Q1538.3 1551.14 1541.96 1551.14 L1547.98 1551.14 L1547.98 1556.04 L1541.96 1556.04 Q1535.18 1556.04 1532.61 1553.53 Q1530.03 1550.98 1530.03 1544.3 L1530.03 1524.95 L1525.73 1524.95 L1525.73 1520.4 L1530.03 1520.4 L1530.03 1510.27 L1535.92 1510.27 Z\" fill=\"#000000\" fill-rule=\"evenodd\" fill-opacity=\"1\" /><path clip-path=\"url(#clip790)\" d=\"M 0 0 M1568.95 1559.35 Q1566.47 1565.72 1564.12 1567.66 Q1561.76 1569.6 1557.81 1569.6 L1553.14 1569.6 L1553.14 1564.7 L1556.57 1564.7 Q1558.99 1564.7 1560.33 1563.56 Q1561.67 1562.41 1563.29 1558.14 L1564.34 1555.47 L1549.92 1520.4 L1556.13 1520.4 L1567.27 1548.28 L1578.41 1520.4 L1584.61 1520.4 L1568.95 1559.35 Z\" fill=\"#000000\" fill-rule=\"evenodd\" fill-opacity=\"1\" /><path clip-path=\"url(#clip790)\" d=\"M 0 0 M59.3266 900.115 L59.3266 909.377 L69.9574 912.051 L69.9574 902.725 L59.3266 900.115 M41.2162 904.889 L54.4251 908.199 L54.4251 898.905 L41.2162 895.563 L41.2162 890.471 L54.4251 893.749 L54.4251 883.819 L59.3266 883.819 L59.3266 894.991 L69.9574 897.6 L69.9574 887.479 L74.8271 887.479 L74.8271 898.842 L88.0042 902.152 L88.0042 907.245 L74.8271 903.966 L74.8271 913.292 L88.0042 916.57 L88.0042 921.695 L74.8271 918.385 L74.8271 928.411 L69.9574 928.411 L69.9574 917.207 L59.3266 914.533 L59.3266 924.782 L54.4251 924.782 L54.4251 913.292 L41.2162 910.045 L41.2162 904.889 Z\" fill=\"#000000\" fill-rule=\"evenodd\" fill-opacity=\"1\" /><path clip-path=\"url(#clip790)\" d=\"M 0 0 M53.7248 831.302 L59.1993 831.302 Q57.8307 833.784 57.1623 836.299 Q56.4621 838.781 56.4621 841.328 Q56.4621 847.025 60.0905 850.176 Q63.6872 853.327 70.212 853.327 Q76.7369 853.327 80.3653 850.176 Q83.9619 847.025 83.9619 841.328 Q83.9619 838.781 83.2935 836.299 Q82.5933 833.784 81.2247 831.302 L86.6355 831.302 Q87.7814 833.752 88.3543 836.394 Q88.9272 839.004 88.9272 841.964 Q88.9272 850.017 83.8664 854.759 Q78.8057 859.502 70.212 859.502 Q61.491 859.502 56.4939 854.727 Q51.4968 849.921 51.4968 841.582 Q51.4968 838.877 52.0697 836.299 Q52.6108 833.721 53.7248 831.302 Z\" fill=\"#000000\" fill-rule=\"evenodd\" fill-opacity=\"1\" /><path clip-path=\"url(#clip790)\" d=\"M 0 0 M73.9359 825.763 L52.3562 825.763 L52.3562 819.907 L73.7131 819.907 Q78.7739 819.907 81.3202 817.934 Q83.8346 815.96 83.8346 812.014 Q83.8346 807.271 80.8109 804.534 Q77.7872 801.765 72.5673 801.765 L52.3562 801.765 L52.3562 795.908 L88.0042 795.908 L88.0042 801.765 L82.5296 801.765 Q85.7762 803.897 87.3676 806.73 Q88.9272 809.531 88.9272 813.255 Q88.9272 819.398 85.1078 822.581 Q81.2883 825.763 73.9359 825.763 M51.4968 811.027 L51.4968 811.027 Z\" fill=\"#000000\" fill-rule=\"evenodd\" fill-opacity=\"1\" /><path clip-path=\"url(#clip790)\" d=\"M 0 0 M57.8307 769.109 Q57.2578 770.095 57.0032 771.273 Q56.7167 772.419 56.7167 773.819 Q56.7167 778.785 59.9632 781.458 Q63.1779 784.1 69.2253 784.1 L88.0042 784.1 L88.0042 789.988 L52.3562 789.988 L52.3562 784.1 L57.8944 784.1 Q54.6479 782.254 53.0883 779.294 Q51.4968 776.334 51.4968 772.101 Q51.4968 771.496 51.5923 770.764 Q51.656 770.032 51.8151 769.141 L57.8307 769.109 Z\" fill=\"#000000\" fill-rule=\"evenodd\" fill-opacity=\"1\" /><path clip-path=\"url(#clip790)\" d=\"M 0 0 M57.8307 743.455 Q57.2578 744.442 57.0032 745.619 Q56.7167 746.765 56.7167 748.166 Q56.7167 753.131 59.9632 755.804 Q63.1779 758.446 69.2253 758.446 L88.0042 758.446 L88.0042 764.334 L52.3562 764.334 L52.3562 758.446 L57.8944 758.446 Q54.6479 756.6 53.0883 753.64 Q51.4968 750.68 51.4968 746.447 Q51.4968 745.842 51.5923 745.11 Q51.656 744.378 51.8151 743.487 L57.8307 743.455 Z\" fill=\"#000000\" fill-rule=\"evenodd\" fill-opacity=\"1\" /><path clip-path=\"url(#clip790)\" d=\"M 0 0 M52.3562 737.312 L52.3562 731.456 L88.0042 731.456 L88.0042 737.312 L52.3562 737.312 M38.479 737.312 L38.479 731.456 L45.895 731.456 L45.895 737.312 L38.479 737.312 Z\" fill=\"#000000\" fill-rule=\"evenodd\" fill-opacity=\"1\" /><path clip-path=\"url(#clip790)\" d=\"M 0 0 M53.7248 699.659 L59.1993 699.659 Q57.8307 702.141 57.1623 704.656 Q56.4621 707.139 56.4621 709.685 Q56.4621 715.382 60.0905 718.533 Q63.6872 721.684 70.212 721.684 Q76.7369 721.684 80.3653 718.533 Q83.9619 715.382 83.9619 709.685 Q83.9619 707.139 83.2935 704.656 Q82.5933 702.141 81.2247 699.659 L86.6355 699.659 Q87.7814 702.11 88.3543 704.751 Q88.9272 707.361 88.9272 710.321 Q88.9272 718.374 83.8664 723.116 Q78.8057 727.859 70.212 727.859 Q61.491 727.859 56.4939 723.085 Q51.4968 718.279 51.4968 709.939 Q51.4968 707.234 52.0697 704.656 Q52.6108 702.078 53.7248 699.659 Z\" fill=\"#000000\" fill-rule=\"evenodd\" fill-opacity=\"1\" /><path clip-path=\"url(#clip790)\" d=\"M 0 0 M73.9359 694.121 L52.3562 694.121 L52.3562 688.264 L73.7131 688.264 Q78.7739 688.264 81.3202 686.291 Q83.8346 684.317 83.8346 680.371 Q83.8346 675.628 80.8109 672.891 Q77.7872 670.122 72.5673 670.122 L52.3562 670.122 L52.3562 664.266 L88.0042 664.266 L88.0042 670.122 L82.5296 670.122 Q85.7762 672.254 87.3676 675.087 Q88.9272 677.888 88.9272 681.612 Q88.9272 687.755 85.1078 690.938 Q81.2883 694.121 73.9359 694.121 M51.4968 679.384 L51.4968 679.384 Z\" fill=\"#000000\" fill-rule=\"evenodd\" fill-opacity=\"1\" /><path clip-path=\"url(#clip790)\" d=\"M 0 0 M38.479 658.123 L38.479 652.266 L88.0042 652.266 L88.0042 658.123 L38.479 658.123 Z\" fill=\"#000000\" fill-rule=\"evenodd\" fill-opacity=\"1\" /><path clip-path=\"url(#clip790)\" d=\"M 0 0 M70.0847 629.923 Q70.0847 637.02 71.7079 639.758 Q73.3312 642.495 77.2461 642.495 Q80.3653 642.495 82.2114 640.458 Q84.0256 638.389 84.0256 634.856 Q84.0256 629.986 80.5881 627.058 Q77.1188 624.098 71.3897 624.098 L70.0847 624.098 L70.0847 629.923 M67.6657 618.241 L88.0042 618.241 L88.0042 624.098 L82.5933 624.098 Q85.8398 626.103 87.3994 629.095 Q88.9272 632.087 88.9272 636.416 Q88.9272 641.89 85.8716 645.137 Q82.7843 648.351 77.6281 648.351 Q71.6125 648.351 68.5569 644.341 Q65.5014 640.299 65.5014 632.31 L65.5014 624.098 L64.9285 624.098 Q60.8862 624.098 58.6901 626.772 Q56.4621 629.413 56.4621 634.219 Q56.4621 637.275 57.1941 640.171 Q57.9262 643.068 59.3903 645.741 L53.9795 645.741 Q52.7381 642.527 52.1334 639.503 Q51.4968 636.479 51.4968 633.615 Q51.4968 625.88 55.5072 622.061 Q59.5176 618.241 67.6657 618.241 Z\" fill=\"#000000\" fill-rule=\"evenodd\" fill-opacity=\"1\" /><path clip-path=\"url(#clip792)\" d=\"\n",
       "M377.428 1076.59 L377.428 1423.18 L557.003 1423.18 L557.003 1076.59 L377.428 1076.59 L377.428 1076.59  Z\n",
       "  \" fill=\"#1874cd\" fill-rule=\"evenodd\" fill-opacity=\"0.7\"/>\n",
       "<polyline clip-path=\"url(#clip792)\" style=\"stroke:#000000; stroke-width:4; stroke-opacity:0.7; fill:none\" points=\"\n",
       "  377.428,1076.59 377.428,1423.18 557.003,1423.18 557.003,1076.59 377.428,1076.59 \n",
       "  \"/>\n",
       "<path clip-path=\"url(#clip792)\" d=\"\n",
       "M557.003 1163.24 L557.003 1423.18 L736.578 1423.18 L736.578 1163.24 L557.003 1163.24 L557.003 1163.24  Z\n",
       "  \" fill=\"#1874cd\" fill-rule=\"evenodd\" fill-opacity=\"0.7\"/>\n",
       "<polyline clip-path=\"url(#clip792)\" style=\"stroke:#000000; stroke-width:4; stroke-opacity:0.7; fill:none\" points=\"\n",
       "  557.003,1163.24 557.003,1423.18 736.578,1423.18 736.578,1163.24 557.003,1163.24 \n",
       "  \"/>\n",
       "<path clip-path=\"url(#clip792)\" d=\"\n",
       "M736.578 643.355 L736.578 1423.18 L916.154 1423.18 L916.154 643.355 L736.578 643.355 L736.578 643.355  Z\n",
       "  \" fill=\"#1874cd\" fill-rule=\"evenodd\" fill-opacity=\"0.7\"/>\n",
       "<polyline clip-path=\"url(#clip792)\" style=\"stroke:#000000; stroke-width:4; stroke-opacity:0.7; fill:none\" points=\"\n",
       "  736.578,643.355 736.578,1423.18 916.154,1423.18 916.154,643.355 736.578,643.355 \n",
       "  \"/>\n",
       "<path clip-path=\"url(#clip792)\" d=\"\n",
       "M916.154 643.355 L916.154 1423.18 L1095.73 1423.18 L1095.73 643.355 L916.154 643.355 L916.154 643.355  Z\n",
       "  \" fill=\"#1874cd\" fill-rule=\"evenodd\" fill-opacity=\"0.7\"/>\n",
       "<polyline clip-path=\"url(#clip792)\" style=\"stroke:#000000; stroke-width:4; stroke-opacity:0.7; fill:none\" points=\"\n",
       "  916.154,643.355 916.154,1423.18 1095.73,1423.18 1095.73,643.355 916.154,643.355 \n",
       "  \"/>\n",
       "<path clip-path=\"url(#clip792)\" d=\"\n",
       "M1095.73 296.766 L1095.73 1423.18 L1275.3 1423.18 L1275.3 296.766 L1095.73 296.766 L1095.73 296.766  Z\n",
       "  \" fill=\"#1874cd\" fill-rule=\"evenodd\" fill-opacity=\"0.7\"/>\n",
       "<polyline clip-path=\"url(#clip792)\" style=\"stroke:#000000; stroke-width:4; stroke-opacity:0.7; fill:none\" points=\"\n",
       "  1095.73,296.766 1095.73,1423.18 1275.3,1423.18 1275.3,296.766 1095.73,296.766 \n",
       "  \"/>\n",
       "<path clip-path=\"url(#clip792)\" d=\"\n",
       "M1275.3 643.355 L1275.3 1423.18 L1454.88 1423.18 L1454.88 643.355 L1275.3 643.355 L1275.3 643.355  Z\n",
       "  \" fill=\"#1874cd\" fill-rule=\"evenodd\" fill-opacity=\"0.7\"/>\n",
       "<polyline clip-path=\"url(#clip792)\" style=\"stroke:#000000; stroke-width:4; stroke-opacity:0.7; fill:none\" points=\"\n",
       "  1275.3,643.355 1275.3,1423.18 1454.88,1423.18 1454.88,643.355 1275.3,643.355 \n",
       "  \"/>\n",
       "<path clip-path=\"url(#clip792)\" d=\"\n",
       "M1454.88 643.355 L1454.88 1423.18 L1634.45 1423.18 L1634.45 643.355 L1454.88 643.355 L1454.88 643.355  Z\n",
       "  \" fill=\"#1874cd\" fill-rule=\"evenodd\" fill-opacity=\"0.7\"/>\n",
       "<polyline clip-path=\"url(#clip792)\" style=\"stroke:#000000; stroke-width:4; stroke-opacity:0.7; fill:none\" points=\"\n",
       "  1454.88,643.355 1454.88,1423.18 1634.45,1423.18 1634.45,643.355 1454.88,643.355 \n",
       "  \"/>\n",
       "<path clip-path=\"url(#clip792)\" d=\"\n",
       "M1634.45 1076.59 L1634.45 1423.18 L1814.03 1423.18 L1814.03 1076.59 L1634.45 1076.59 L1634.45 1076.59  Z\n",
       "  \" fill=\"#1874cd\" fill-rule=\"evenodd\" fill-opacity=\"0.7\"/>\n",
       "<polyline clip-path=\"url(#clip792)\" style=\"stroke:#000000; stroke-width:4; stroke-opacity:0.7; fill:none\" points=\"\n",
       "  1634.45,1076.59 1634.45,1423.18 1814.03,1423.18 1814.03,1076.59 1634.45,1076.59 \n",
       "  \"/>\n",
       "<path clip-path=\"url(#clip792)\" d=\"\n",
       "M1814.03 1336.53 L1814.03 1423.18 L1993.61 1423.18 L1993.61 1336.53 L1814.03 1336.53 L1814.03 1336.53  Z\n",
       "  \" fill=\"#1874cd\" fill-rule=\"evenodd\" fill-opacity=\"0.7\"/>\n",
       "<polyline clip-path=\"url(#clip792)\" style=\"stroke:#000000; stroke-width:4; stroke-opacity:0.7; fill:none\" points=\"\n",
       "  1814.03,1336.53 1814.03,1423.18 1993.61,1423.18 1993.61,1336.53 1814.03,1336.53 \n",
       "  \"/>\n",
       "<path clip-path=\"url(#clip792)\" d=\"\n",
       "M1993.61 1249.89 L1993.61 1423.18 L2173.18 1423.18 L2173.18 1249.89 L1993.61 1249.89 L1993.61 1249.89  Z\n",
       "  \" fill=\"#1874cd\" fill-rule=\"evenodd\" fill-opacity=\"0.7\"/>\n",
       "<polyline clip-path=\"url(#clip792)\" style=\"stroke:#000000; stroke-width:4; stroke-opacity:0.7; fill:none\" points=\"\n",
       "  1993.61,1249.89 1993.61,1423.18 2173.18,1423.18 2173.18,1249.89 1993.61,1249.89 \n",
       "  \"/>\n",
       "</svg>\n"
      ]
     },
     "execution_count": 8,
     "metadata": {},
     "output_type": "execute_result"
    }
   ],
   "source": [
    "metric_histogram([top_tier; middle_tier; bottom_tier], \"complexity\", nbins=10, title=\"All Schools\", xlabel=\"structural complexity\", ylabel=\"# curricula\", xlim=(0,600), ylim=(0,15))"
   ]
  },
  {
   "cell_type": "markdown",
   "metadata": {},
   "source": [
    "A box-and-whisker diagram for each of the three samples, provided below, shows the differences between the various statistics associated with these samples.  The quesion we will answer using ANOVA anlaysis is whether or not these variances are statistically significant across these three tiers."
   ]
  },
  {
   "cell_type": "code",
   "execution_count": 9,
   "metadata": {
    "scrolled": false
   },
   "outputs": [
    {
     "data": {
      "image/svg+xml": [
       "<?xml version=\"1.0\" encoding=\"utf-8\"?>\n",
       "<svg xmlns=\"http://www.w3.org/2000/svg\" xmlns:xlink=\"http://www.w3.org/1999/xlink\" width=\"600\" height=\"400\" viewBox=\"0 0 2400 1600\">\n",
       "<defs>\n",
       "  <clipPath id=\"clip830\">\n",
       "    <rect x=\"0\" y=\"0\" width=\"2400\" height=\"1600\"/>\n",
       "  </clipPath>\n",
       "</defs>\n",
       "<path clip-path=\"url(#clip830)\" d=\"\n",
       "M0 1600 L2400 1600 L2400 0 L0 0  Z\n",
       "  \" fill=\"#ffffff\" fill-rule=\"evenodd\" fill-opacity=\"1\"/>\n",
       "<defs>\n",
       "  <clipPath id=\"clip831\">\n",
       "    <rect x=\"480\" y=\"0\" width=\"1681\" height=\"1600\"/>\n",
       "  </clipPath>\n",
       "</defs>\n",
       "<path clip-path=\"url(#clip830)\" d=\"\n",
       "M229.473 1423.18 L2352.76 1423.18 L2352.76 123.472 L229.473 123.472  Z\n",
       "  \" fill=\"#ffffff\" fill-rule=\"evenodd\" fill-opacity=\"1\"/>\n",
       "<defs>\n",
       "  <clipPath id=\"clip832\">\n",
       "    <rect x=\"229\" y=\"123\" width=\"2124\" height=\"1301\"/>\n",
       "  </clipPath>\n",
       "</defs>\n",
       "<polyline clip-path=\"url(#clip832)\" style=\"stroke:#000000; stroke-width:2; stroke-opacity:0.1; fill:none\" points=\"\n",
       "  512.132,1423.18 512.132,123.472 \n",
       "  \"/>\n",
       "<polyline clip-path=\"url(#clip832)\" style=\"stroke:#000000; stroke-width:2; stroke-opacity:0.1; fill:none\" points=\"\n",
       "  1291.11,1423.18 1291.11,123.472 \n",
       "  \"/>\n",
       "<polyline clip-path=\"url(#clip832)\" style=\"stroke:#000000; stroke-width:2; stroke-opacity:0.1; fill:none\" points=\"\n",
       "  2070.1,1423.18 2070.1,123.472 \n",
       "  \"/>\n",
       "<polyline clip-path=\"url(#clip832)\" style=\"stroke:#000000; stroke-width:2; stroke-opacity:0.1; fill:none\" points=\"\n",
       "  229.473,1273.24 2352.76,1273.24 \n",
       "  \"/>\n",
       "<polyline clip-path=\"url(#clip832)\" style=\"stroke:#000000; stroke-width:2; stroke-opacity:0.1; fill:none\" points=\"\n",
       "  229.473,1008.25 2352.76,1008.25 \n",
       "  \"/>\n",
       "<polyline clip-path=\"url(#clip832)\" style=\"stroke:#000000; stroke-width:2; stroke-opacity:0.1; fill:none\" points=\"\n",
       "  229.473,743.249 2352.76,743.249 \n",
       "  \"/>\n",
       "<polyline clip-path=\"url(#clip832)\" style=\"stroke:#000000; stroke-width:2; stroke-opacity:0.1; fill:none\" points=\"\n",
       "  229.473,478.252 2352.76,478.252 \n",
       "  \"/>\n",
       "<polyline clip-path=\"url(#clip832)\" style=\"stroke:#000000; stroke-width:2; stroke-opacity:0.1; fill:none\" points=\"\n",
       "  229.473,213.256 2352.76,213.256 \n",
       "  \"/>\n",
       "<polyline clip-path=\"url(#clip830)\" style=\"stroke:#000000; stroke-width:4; stroke-opacity:1; fill:none\" points=\"\n",
       "  229.473,1423.18 2352.76,1423.18 \n",
       "  \"/>\n",
       "<polyline clip-path=\"url(#clip830)\" style=\"stroke:#000000; stroke-width:4; stroke-opacity:1; fill:none\" points=\"\n",
       "  229.473,1423.18 229.473,123.472 \n",
       "  \"/>\n",
       "<polyline clip-path=\"url(#clip830)\" style=\"stroke:#000000; stroke-width:4; stroke-opacity:1; fill:none\" points=\"\n",
       "  512.132,1423.18 512.132,1407.58 \n",
       "  \"/>\n",
       "<polyline clip-path=\"url(#clip830)\" style=\"stroke:#000000; stroke-width:4; stroke-opacity:1; fill:none\" points=\"\n",
       "  1291.11,1423.18 1291.11,1407.58 \n",
       "  \"/>\n",
       "<polyline clip-path=\"url(#clip830)\" style=\"stroke:#000000; stroke-width:4; stroke-opacity:1; fill:none\" points=\"\n",
       "  2070.1,1423.18 2070.1,1407.58 \n",
       "  \"/>\n",
       "<polyline clip-path=\"url(#clip830)\" style=\"stroke:#000000; stroke-width:4; stroke-opacity:1; fill:none\" points=\"\n",
       "  229.473,1273.24 254.952,1273.24 \n",
       "  \"/>\n",
       "<polyline clip-path=\"url(#clip830)\" style=\"stroke:#000000; stroke-width:4; stroke-opacity:1; fill:none\" points=\"\n",
       "  229.473,1008.25 254.952,1008.25 \n",
       "  \"/>\n",
       "<polyline clip-path=\"url(#clip830)\" style=\"stroke:#000000; stroke-width:4; stroke-opacity:1; fill:none\" points=\"\n",
       "  229.473,743.249 254.952,743.249 \n",
       "  \"/>\n",
       "<polyline clip-path=\"url(#clip830)\" style=\"stroke:#000000; stroke-width:4; stroke-opacity:1; fill:none\" points=\"\n",
       "  229.473,478.252 254.952,478.252 \n",
       "  \"/>\n",
       "<polyline clip-path=\"url(#clip830)\" style=\"stroke:#000000; stroke-width:4; stroke-opacity:1; fill:none\" points=\"\n",
       "  229.473,213.256 254.952,213.256 \n",
       "  \"/>\n",
       "<path clip-path=\"url(#clip830)\" d=\"M 0 0 M484.493 1443.36 L484.493 1450.73 L493.266 1450.73 L493.266 1454.04 L484.493 1454.04 L484.493 1468.11 Q484.493 1471.28 485.35 1472.18 Q486.229 1473.09 488.891 1473.09 L493.266 1473.09 L493.266 1476.65 L488.891 1476.65 Q483.961 1476.65 482.086 1474.82 Q480.211 1472.97 480.211 1468.11 L480.211 1454.04 L477.086 1454.04 L477.086 1450.73 L480.211 1450.73 L480.211 1443.36 L484.493 1443.36 Z\" fill=\"#000000\" fill-rule=\"evenodd\" fill-opacity=\"1\" /><path clip-path=\"url(#clip830)\" d=\"M 0 0 M507.78 1453.71 Q504.354 1453.71 502.364 1456.4 Q500.373 1459.06 500.373 1463.71 Q500.373 1468.36 502.34 1471.05 Q504.331 1473.71 507.78 1473.71 Q511.183 1473.71 513.174 1471.03 Q515.164 1468.34 515.164 1463.71 Q515.164 1459.11 513.174 1456.42 Q511.183 1453.71 507.78 1453.71 M507.78 1450.1 Q513.336 1450.1 516.507 1453.71 Q519.678 1457.32 519.678 1463.71 Q519.678 1470.08 516.507 1473.71 Q513.336 1477.32 507.78 1477.32 Q502.201 1477.32 499.03 1473.71 Q495.882 1470.08 495.882 1463.71 Q495.882 1457.32 499.03 1453.71 Q502.201 1450.1 507.78 1450.1 Z\" fill=\"#000000\" fill-rule=\"evenodd\" fill-opacity=\"1\" /><path clip-path=\"url(#clip830)\" d=\"M 0 0 M528.266 1472.76 L528.266 1486.51 L523.984 1486.51 L523.984 1450.73 L528.266 1450.73 L528.266 1454.66 Q529.609 1452.35 531.646 1451.24 Q533.706 1450.1 536.553 1450.1 Q541.275 1450.1 544.215 1453.85 Q547.178 1457.6 547.178 1463.71 Q547.178 1469.82 544.215 1473.57 Q541.275 1477.32 536.553 1477.32 Q533.706 1477.32 531.646 1476.21 Q529.609 1475.08 528.266 1472.76 M542.757 1463.71 Q542.757 1459.01 540.812 1456.35 Q538.891 1453.67 535.511 1453.67 Q532.132 1453.67 530.187 1456.35 Q528.266 1459.01 528.266 1463.71 Q528.266 1468.41 530.187 1471.1 Q532.132 1473.76 535.511 1473.76 Q538.891 1473.76 540.812 1471.1 Q542.757 1468.41 542.757 1463.71 Z\" fill=\"#000000\" fill-rule=\"evenodd\" fill-opacity=\"1\" /><path clip-path=\"url(#clip830)\" d=\"M 0 0 M1244.7 1455.7 Q1246.3 1452.83 1248.52 1451.47 Q1250.74 1450.1 1253.75 1450.1 Q1257.8 1450.1 1260 1452.95 Q1262.2 1455.77 1262.2 1461 L1262.2 1476.65 L1257.92 1476.65 L1257.92 1461.14 Q1257.92 1457.42 1256.6 1455.61 Q1255.28 1453.8 1252.57 1453.8 Q1249.26 1453.8 1247.34 1456 Q1245.42 1458.2 1245.42 1462 L1245.42 1476.65 L1241.14 1476.65 L1241.14 1461.14 Q1241.14 1457.39 1239.82 1455.61 Q1238.5 1453.8 1235.74 1453.8 Q1232.48 1453.8 1230.56 1456.03 Q1228.64 1458.23 1228.64 1462 L1228.64 1476.65 L1224.36 1476.65 L1224.36 1450.73 L1228.64 1450.73 L1228.64 1454.75 Q1230.1 1452.37 1232.13 1451.24 Q1234.17 1450.1 1236.97 1450.1 Q1239.8 1450.1 1241.76 1451.54 Q1243.75 1452.97 1244.7 1455.7 Z\" fill=\"#000000\" fill-rule=\"evenodd\" fill-opacity=\"1\" /><path clip-path=\"url(#clip830)\" d=\"M 0 0 M1266.67 1450.73 L1270.93 1450.73 L1270.93 1476.65 L1266.67 1476.65 L1266.67 1450.73 M1266.67 1440.63 L1270.93 1440.63 L1270.93 1446.03 L1266.67 1446.03 L1266.67 1440.63 Z\" fill=\"#000000\" fill-rule=\"evenodd\" fill-opacity=\"1\" /><path clip-path=\"url(#clip830)\" d=\"M 0 0 M1292.46 1454.66 L1292.46 1440.63 L1296.72 1440.63 L1296.72 1476.65 L1292.46 1476.65 L1292.46 1472.76 Q1291.11 1475.08 1289.05 1476.21 Q1287.02 1477.32 1284.15 1477.32 Q1279.45 1477.32 1276.48 1473.57 Q1273.54 1469.82 1273.54 1463.71 Q1273.54 1457.6 1276.48 1453.85 Q1279.45 1450.1 1284.15 1450.1 Q1287.02 1450.1 1289.05 1451.24 Q1291.11 1452.35 1292.46 1454.66 M1277.94 1463.71 Q1277.94 1468.41 1279.86 1471.1 Q1281.81 1473.76 1285.19 1473.76 Q1288.57 1473.76 1290.51 1471.1 Q1292.46 1468.41 1292.46 1463.71 Q1292.46 1459.01 1290.51 1456.35 Q1288.57 1453.67 1285.19 1453.67 Q1281.81 1453.67 1279.86 1456.35 Q1277.94 1459.01 1277.94 1463.71 Z\" fill=\"#000000\" fill-rule=\"evenodd\" fill-opacity=\"1\" /><path clip-path=\"url(#clip830)\" d=\"M 0 0 M1318.24 1454.66 L1318.24 1440.63 L1322.5 1440.63 L1322.5 1476.65 L1318.24 1476.65 L1318.24 1472.76 Q1316.9 1475.08 1314.84 1476.21 Q1312.8 1477.32 1309.93 1477.32 Q1305.23 1477.32 1302.27 1473.57 Q1299.33 1469.82 1299.33 1463.71 Q1299.33 1457.6 1302.27 1453.85 Q1305.23 1450.1 1309.93 1450.1 Q1312.8 1450.1 1314.84 1451.24 Q1316.9 1452.35 1318.24 1454.66 M1303.73 1463.71 Q1303.73 1468.41 1305.65 1471.1 Q1307.6 1473.76 1310.98 1473.76 Q1314.35 1473.76 1316.3 1471.1 Q1318.24 1468.41 1318.24 1463.71 Q1318.24 1459.01 1316.3 1456.35 Q1314.35 1453.67 1310.98 1453.67 Q1307.6 1453.67 1305.65 1456.35 Q1303.73 1459.01 1303.73 1463.71 Z\" fill=\"#000000\" fill-rule=\"evenodd\" fill-opacity=\"1\" /><path clip-path=\"url(#clip830)\" d=\"M 0 0 M1326.97 1440.63 L1331.23 1440.63 L1331.23 1476.65 L1326.97 1476.65 L1326.97 1440.63 Z\" fill=\"#000000\" fill-rule=\"evenodd\" fill-opacity=\"1\" /><path clip-path=\"url(#clip830)\" d=\"M 0 0 M1357.87 1462.62 L1357.87 1464.71 L1338.29 1464.71 Q1338.57 1469.11 1340.93 1471.42 Q1343.31 1473.71 1347.55 1473.71 Q1350 1473.71 1352.29 1473.11 Q1354.61 1472.51 1356.88 1471.3 L1356.88 1475.33 Q1354.59 1476.3 1352.18 1476.81 Q1349.77 1477.32 1347.29 1477.32 Q1341.09 1477.32 1337.46 1473.71 Q1333.85 1470.1 1333.85 1463.94 Q1333.85 1457.58 1337.27 1453.85 Q1340.72 1450.1 1346.55 1450.1 Q1351.79 1450.1 1354.82 1453.48 Q1357.87 1456.84 1357.87 1462.62 M1353.61 1461.37 Q1353.57 1457.88 1351.65 1455.8 Q1349.75 1453.71 1346.6 1453.71 Q1343.04 1453.71 1340.88 1455.73 Q1338.75 1457.74 1338.43 1461.4 L1353.61 1461.37 Z\" fill=\"#000000\" fill-rule=\"evenodd\" fill-opacity=\"1\" /><path clip-path=\"url(#clip830)\" d=\"M 0 0 M2012.33 1463.71 Q2012.33 1459.01 2010.39 1456.35 Q2008.46 1453.67 2005.09 1453.67 Q2001.71 1453.67 1999.76 1456.35 Q1997.84 1459.01 1997.84 1463.71 Q1997.84 1468.41 1999.76 1471.1 Q2001.71 1473.76 2005.09 1473.76 Q2008.46 1473.76 2010.39 1471.1 Q2012.33 1468.41 2012.33 1463.71 M1997.84 1454.66 Q1999.18 1452.35 2001.22 1451.24 Q2003.28 1450.1 2006.13 1450.1 Q2010.85 1450.1 2013.79 1453.85 Q2016.75 1457.6 2016.75 1463.71 Q2016.75 1469.82 2013.79 1473.57 Q2010.85 1477.32 2006.13 1477.32 Q2003.28 1477.32 2001.22 1476.21 Q1999.18 1475.08 1997.84 1472.76 L1997.84 1476.65 L1993.56 1476.65 L1993.56 1440.63 L1997.84 1440.63 L1997.84 1454.66 Z\" fill=\"#000000\" fill-rule=\"evenodd\" fill-opacity=\"1\" /><path clip-path=\"url(#clip830)\" d=\"M 0 0 M2031.27 1453.71 Q2027.84 1453.71 2025.85 1456.4 Q2023.86 1459.06 2023.86 1463.71 Q2023.86 1468.36 2025.83 1471.05 Q2027.82 1473.71 2031.27 1473.71 Q2034.67 1473.71 2036.66 1471.03 Q2038.65 1468.34 2038.65 1463.71 Q2038.65 1459.11 2036.66 1456.42 Q2034.67 1453.71 2031.27 1453.71 M2031.27 1450.1 Q2036.82 1450.1 2039.99 1453.71 Q2043.16 1457.32 2043.16 1463.71 Q2043.16 1470.08 2039.99 1473.71 Q2036.82 1477.32 2031.27 1477.32 Q2025.69 1477.32 2022.52 1473.71 Q2019.37 1470.08 2019.37 1463.71 Q2019.37 1457.32 2022.52 1453.71 Q2025.69 1450.1 2031.27 1450.1 Z\" fill=\"#000000\" fill-rule=\"evenodd\" fill-opacity=\"1\" /><path clip-path=\"url(#clip830)\" d=\"M 0 0 M2051.84 1443.36 L2051.84 1450.73 L2060.62 1450.73 L2060.62 1454.04 L2051.84 1454.04 L2051.84 1468.11 Q2051.84 1471.28 2052.7 1472.18 Q2053.58 1473.09 2056.24 1473.09 L2060.62 1473.09 L2060.62 1476.65 L2056.24 1476.65 Q2051.31 1476.65 2049.44 1474.82 Q2047.56 1472.97 2047.56 1468.11 L2047.56 1454.04 L2044.44 1454.04 L2044.44 1450.73 L2047.56 1450.73 L2047.56 1443.36 L2051.84 1443.36 Z\" fill=\"#000000\" fill-rule=\"evenodd\" fill-opacity=\"1\" /><path clip-path=\"url(#clip830)\" d=\"M 0 0 M2069.3 1443.36 L2069.3 1450.73 L2078.07 1450.73 L2078.07 1454.04 L2069.3 1454.04 L2069.3 1468.11 Q2069.3 1471.28 2070.15 1472.18 Q2071.03 1473.09 2073.7 1473.09 L2078.07 1473.09 L2078.07 1476.65 L2073.7 1476.65 Q2068.77 1476.65 2066.89 1474.82 Q2065.02 1472.97 2065.02 1468.11 L2065.02 1454.04 L2061.89 1454.04 L2061.89 1450.73 L2065.02 1450.73 L2065.02 1443.36 L2069.3 1443.36 Z\" fill=\"#000000\" fill-rule=\"evenodd\" fill-opacity=\"1\" /><path clip-path=\"url(#clip830)\" d=\"M 0 0 M2092.58 1453.71 Q2089.16 1453.71 2087.17 1456.4 Q2085.18 1459.06 2085.18 1463.71 Q2085.18 1468.36 2087.15 1471.05 Q2089.14 1473.71 2092.58 1473.71 Q2095.99 1473.71 2097.98 1471.03 Q2099.97 1468.34 2099.97 1463.71 Q2099.97 1459.11 2097.98 1456.42 Q2095.99 1453.71 2092.58 1453.71 M2092.58 1450.1 Q2098.14 1450.1 2101.31 1453.71 Q2104.48 1457.32 2104.48 1463.71 Q2104.48 1470.08 2101.31 1473.71 Q2098.14 1477.32 2092.58 1477.32 Q2087.01 1477.32 2083.83 1473.71 Q2080.69 1470.08 2080.69 1463.71 Q2080.69 1457.32 2083.83 1453.71 Q2087.01 1450.1 2092.58 1450.1 Z\" fill=\"#000000\" fill-rule=\"evenodd\" fill-opacity=\"1\" /><path clip-path=\"url(#clip830)\" d=\"M 0 0 M2129.14 1455.7 Q2130.73 1452.83 2132.96 1451.47 Q2135.18 1450.1 2138.19 1450.1 Q2142.24 1450.1 2144.44 1452.95 Q2146.64 1455.77 2146.64 1461 L2146.64 1476.65 L2142.35 1476.65 L2142.35 1461.14 Q2142.35 1457.42 2141.03 1455.61 Q2139.71 1453.8 2137.01 1453.8 Q2133.7 1453.8 2131.77 1456 Q2129.85 1458.2 2129.85 1462 L2129.85 1476.65 L2125.57 1476.65 L2125.57 1461.14 Q2125.57 1457.39 2124.25 1455.61 Q2122.93 1453.8 2120.18 1453.8 Q2116.91 1453.8 2114.99 1456.03 Q2113.07 1458.23 2113.07 1462 L2113.07 1476.65 L2108.79 1476.65 L2108.79 1450.73 L2113.07 1450.73 L2113.07 1454.75 Q2114.53 1452.37 2116.57 1451.24 Q2118.6 1450.1 2121.4 1450.1 Q2124.23 1450.1 2126.2 1451.54 Q2128.19 1452.97 2129.14 1455.7 Z\" fill=\"#000000\" fill-rule=\"evenodd\" fill-opacity=\"1\" /><path clip-path=\"url(#clip830)\" d=\"M 0 0 M131.538 1286.59 L139.177 1286.59 L139.177 1260.22 L130.867 1261.89 L130.867 1257.63 L139.13 1255.96 L143.806 1255.96 L143.806 1286.59 L151.445 1286.59 L151.445 1290.52 L131.538 1290.52 L131.538 1286.59 Z\" fill=\"#000000\" fill-rule=\"evenodd\" fill-opacity=\"1\" /><path clip-path=\"url(#clip830)\" d=\"M 0 0 M166.515 1259.04 Q162.903 1259.04 161.075 1262.61 Q159.269 1266.15 159.269 1273.28 Q159.269 1280.38 161.075 1283.95 Q162.903 1287.49 166.515 1287.49 Q170.149 1287.49 171.954 1283.95 Q173.783 1280.38 173.783 1273.28 Q173.783 1266.15 171.954 1262.61 Q170.149 1259.04 166.515 1259.04 M166.515 1255.34 Q172.325 1255.34 175.38 1259.94 Q178.459 1264.53 178.459 1273.28 Q178.459 1282 175.38 1286.61 Q172.325 1291.19 166.515 1291.19 Q160.704 1291.19 157.626 1286.61 Q154.57 1282 154.57 1273.28 Q154.57 1264.53 157.626 1259.94 Q160.704 1255.34 166.515 1255.34 Z\" fill=\"#000000\" fill-rule=\"evenodd\" fill-opacity=\"1\" /><path clip-path=\"url(#clip830)\" d=\"M 0 0 M193.528 1259.04 Q189.917 1259.04 188.089 1262.61 Q186.283 1266.15 186.283 1273.28 Q186.283 1280.38 188.089 1283.95 Q189.917 1287.49 193.528 1287.49 Q197.163 1287.49 198.968 1283.95 Q200.797 1280.38 200.797 1273.28 Q200.797 1266.15 198.968 1262.61 Q197.163 1259.04 193.528 1259.04 M193.528 1255.34 Q199.338 1255.34 202.394 1259.94 Q205.473 1264.53 205.473 1273.28 Q205.473 1282 202.394 1286.61 Q199.338 1291.19 193.528 1291.19 Q187.718 1291.19 184.639 1286.61 Q181.584 1282 181.584 1273.28 Q181.584 1264.53 184.639 1259.94 Q187.718 1255.34 193.528 1255.34 Z\" fill=\"#000000\" fill-rule=\"evenodd\" fill-opacity=\"1\" /><path clip-path=\"url(#clip830)\" d=\"M 0 0 M135.126 1021.59 L151.445 1021.59 L151.445 1025.53 L129.501 1025.53 L129.501 1021.59 Q132.163 1018.84 136.746 1014.21 Q141.353 1009.55 142.533 1008.21 Q144.779 1005.69 145.658 1003.95 Q146.561 1002.19 146.561 1000.5 Q146.561 997.748 144.617 996.012 Q142.695 994.276 139.593 994.276 Q137.394 994.276 134.941 995.04 Q132.51 995.803 129.732 997.354 L129.732 992.632 Q132.556 991.498 135.01 990.919 Q137.464 990.34 139.501 990.34 Q144.871 990.34 148.066 993.026 Q151.26 995.711 151.26 1000.2 Q151.26 1002.33 150.45 1004.25 Q149.663 1006.15 147.556 1008.74 Q146.978 1009.41 143.876 1012.63 Q140.774 1015.83 135.126 1021.59 Z\" fill=\"#000000\" fill-rule=\"evenodd\" fill-opacity=\"1\" /><path clip-path=\"url(#clip830)\" d=\"M 0 0 M166.515 994.044 Q162.903 994.044 161.075 997.609 Q159.269 1001.15 159.269 1008.28 Q159.269 1015.39 161.075 1018.95 Q162.903 1022.49 166.515 1022.49 Q170.149 1022.49 171.954 1018.95 Q173.783 1015.39 173.783 1008.28 Q173.783 1001.15 171.954 997.609 Q170.149 994.044 166.515 994.044 M166.515 990.34 Q172.325 990.34 175.38 994.947 Q178.459 999.53 178.459 1008.28 Q178.459 1017.01 175.38 1021.61 Q172.325 1026.2 166.515 1026.2 Q160.704 1026.2 157.626 1021.61 Q154.57 1017.01 154.57 1008.28 Q154.57 999.53 157.626 994.947 Q160.704 990.34 166.515 990.34 Z\" fill=\"#000000\" fill-rule=\"evenodd\" fill-opacity=\"1\" /><path clip-path=\"url(#clip830)\" d=\"M 0 0 M193.528 994.044 Q189.917 994.044 188.089 997.609 Q186.283 1001.15 186.283 1008.28 Q186.283 1015.39 188.089 1018.95 Q189.917 1022.49 193.528 1022.49 Q197.163 1022.49 198.968 1018.95 Q200.797 1015.39 200.797 1008.28 Q200.797 1001.15 198.968 997.609 Q197.163 994.044 193.528 994.044 M193.528 990.34 Q199.338 990.34 202.394 994.947 Q205.473 999.53 205.473 1008.28 Q205.473 1017.01 202.394 1021.61 Q199.338 1026.2 193.528 1026.2 Q187.718 1026.2 184.639 1021.61 Q181.584 1017.01 181.584 1008.28 Q181.584 999.53 184.639 994.947 Q187.718 990.34 193.528 990.34 Z\" fill=\"#000000\" fill-rule=\"evenodd\" fill-opacity=\"1\" /><path clip-path=\"url(#clip830)\" d=\"M 0 0 M144.316 741.895 Q147.672 742.612 149.547 744.881 Q151.445 747.149 151.445 750.483 Q151.445 755.598 147.927 758.399 Q144.408 761.2 137.927 761.2 Q135.751 761.2 133.436 760.76 Q131.144 760.344 128.691 759.487 L128.691 754.973 Q130.635 756.108 132.95 756.686 Q135.265 757.265 137.788 757.265 Q142.186 757.265 144.478 755.529 Q146.792 753.793 146.792 750.483 Q146.792 747.427 144.64 745.714 Q142.51 743.978 138.691 743.978 L134.663 743.978 L134.663 740.135 L138.876 740.135 Q142.325 740.135 144.154 738.77 Q145.982 737.381 145.982 734.788 Q145.982 732.126 144.084 730.714 Q142.209 729.279 138.691 729.279 Q136.769 729.279 134.57 729.696 Q132.371 730.112 129.732 730.992 L129.732 726.825 Q132.394 726.085 134.709 725.714 Q137.047 725.344 139.107 725.344 Q144.431 725.344 147.533 727.774 Q150.635 730.182 150.635 734.302 Q150.635 737.173 148.992 739.163 Q147.348 741.131 144.316 741.895 Z\" fill=\"#000000\" fill-rule=\"evenodd\" fill-opacity=\"1\" /><path clip-path=\"url(#clip830)\" d=\"M 0 0 M166.515 729.048 Q162.903 729.048 161.075 732.612 Q159.269 736.154 159.269 743.284 Q159.269 750.39 161.075 753.955 Q162.903 757.496 166.515 757.496 Q170.149 757.496 171.954 753.955 Q173.783 750.39 173.783 743.284 Q173.783 736.154 171.954 732.612 Q170.149 729.048 166.515 729.048 M166.515 725.344 Q172.325 725.344 175.38 729.95 Q178.459 734.534 178.459 743.284 Q178.459 752.01 175.38 756.617 Q172.325 761.2 166.515 761.2 Q160.704 761.2 157.626 756.617 Q154.57 752.01 154.57 743.284 Q154.57 734.534 157.626 729.95 Q160.704 725.344 166.515 725.344 Z\" fill=\"#000000\" fill-rule=\"evenodd\" fill-opacity=\"1\" /><path clip-path=\"url(#clip830)\" d=\"M 0 0 M193.528 729.048 Q189.917 729.048 188.089 732.612 Q186.283 736.154 186.283 743.284 Q186.283 750.39 188.089 753.955 Q189.917 757.496 193.528 757.496 Q197.163 757.496 198.968 753.955 Q200.797 750.39 200.797 743.284 Q200.797 736.154 198.968 732.612 Q197.163 729.048 193.528 729.048 M193.528 725.344 Q199.338 725.344 202.394 729.95 Q205.473 734.534 205.473 743.284 Q205.473 752.01 202.394 756.617 Q199.338 761.2 193.528 761.2 Q187.718 761.2 184.639 756.617 Q181.584 752.01 181.584 743.284 Q181.584 734.534 184.639 729.95 Q187.718 725.344 193.528 725.344 Z\" fill=\"#000000\" fill-rule=\"evenodd\" fill-opacity=\"1\" /><path clip-path=\"url(#clip830)\" d=\"M 0 0 M141.862 465.046 L130.056 483.495 L141.862 483.495 L141.862 465.046 M140.635 460.972 L146.515 460.972 L146.515 483.495 L151.445 483.495 L151.445 487.384 L146.515 487.384 L146.515 495.532 L141.862 495.532 L141.862 487.384 L126.26 487.384 L126.26 482.87 L140.635 460.972 Z\" fill=\"#000000\" fill-rule=\"evenodd\" fill-opacity=\"1\" /><path clip-path=\"url(#clip830)\" d=\"M 0 0 M166.515 464.051 Q162.903 464.051 161.075 467.616 Q159.269 471.157 159.269 478.287 Q159.269 485.393 161.075 488.958 Q162.903 492.5 166.515 492.5 Q170.149 492.5 171.954 488.958 Q173.783 485.393 173.783 478.287 Q173.783 471.157 171.954 467.616 Q170.149 464.051 166.515 464.051 M166.515 460.347 Q172.325 460.347 175.38 464.954 Q178.459 469.537 178.459 478.287 Q178.459 487.014 175.38 491.62 Q172.325 496.204 166.515 496.204 Q160.704 496.204 157.626 491.62 Q154.57 487.014 154.57 478.287 Q154.57 469.537 157.626 464.954 Q160.704 460.347 166.515 460.347 Z\" fill=\"#000000\" fill-rule=\"evenodd\" fill-opacity=\"1\" /><path clip-path=\"url(#clip830)\" d=\"M 0 0 M193.528 464.051 Q189.917 464.051 188.089 467.616 Q186.283 471.157 186.283 478.287 Q186.283 485.393 188.089 488.958 Q189.917 492.5 193.528 492.5 Q197.163 492.5 198.968 488.958 Q200.797 485.393 200.797 478.287 Q200.797 471.157 198.968 467.616 Q197.163 464.051 193.528 464.051 M193.528 460.347 Q199.338 460.347 202.394 464.954 Q205.473 469.537 205.473 478.287 Q205.473 487.014 202.394 491.62 Q199.338 496.204 193.528 496.204 Q187.718 496.204 184.639 491.62 Q181.584 487.014 181.584 478.287 Q181.584 469.537 184.639 464.954 Q187.718 460.347 193.528 460.347 Z\" fill=\"#000000\" fill-rule=\"evenodd\" fill-opacity=\"1\" /><path clip-path=\"url(#clip830)\" d=\"M 0 0 M130.543 195.976 L148.899 195.976 L148.899 199.911 L134.825 199.911 L134.825 208.383 Q135.843 208.036 136.862 207.874 Q137.88 207.689 138.899 207.689 Q144.686 207.689 148.066 210.86 Q151.445 214.031 151.445 219.448 Q151.445 225.026 147.973 228.128 Q144.501 231.207 138.181 231.207 Q136.005 231.207 133.737 230.837 Q131.492 230.466 129.084 229.725 L129.084 225.026 Q131.168 226.161 133.39 226.716 Q135.612 227.272 138.089 227.272 Q142.093 227.272 144.431 225.165 Q146.769 223.059 146.769 219.448 Q146.769 215.837 144.431 213.73 Q142.093 211.624 138.089 211.624 Q136.214 211.624 134.339 212.04 Q132.487 212.457 130.543 213.337 L130.543 195.976 Z\" fill=\"#000000\" fill-rule=\"evenodd\" fill-opacity=\"1\" /><path clip-path=\"url(#clip830)\" d=\"M 0 0 M166.515 199.054 Q162.903 199.054 161.075 202.619 Q159.269 206.161 159.269 213.29 Q159.269 220.397 161.075 223.962 Q162.903 227.503 166.515 227.503 Q170.149 227.503 171.954 223.962 Q173.783 220.397 173.783 213.29 Q173.783 206.161 171.954 202.619 Q170.149 199.054 166.515 199.054 M166.515 195.351 Q172.325 195.351 175.38 199.957 Q178.459 204.54 178.459 213.29 Q178.459 222.017 175.38 226.624 Q172.325 231.207 166.515 231.207 Q160.704 231.207 157.626 226.624 Q154.57 222.017 154.57 213.29 Q154.57 204.54 157.626 199.957 Q160.704 195.351 166.515 195.351 Z\" fill=\"#000000\" fill-rule=\"evenodd\" fill-opacity=\"1\" /><path clip-path=\"url(#clip830)\" d=\"M 0 0 M193.528 199.054 Q189.917 199.054 188.089 202.619 Q186.283 206.161 186.283 213.29 Q186.283 220.397 188.089 223.962 Q189.917 227.503 193.528 227.503 Q197.163 227.503 198.968 223.962 Q200.797 220.397 200.797 213.29 Q200.797 206.161 198.968 202.619 Q197.163 199.054 193.528 199.054 M193.528 195.351 Q199.338 195.351 202.394 199.957 Q205.473 204.54 205.473 213.29 Q205.473 222.017 202.394 226.624 Q199.338 231.207 193.528 231.207 Q187.718 231.207 184.639 226.624 Q181.584 222.017 181.584 213.29 Q181.584 204.54 184.639 199.957 Q187.718 195.351 193.528 195.351 Z\" fill=\"#000000\" fill-rule=\"evenodd\" fill-opacity=\"1\" /><path clip-path=\"url(#clip830)\" d=\"M 0 0 M708.797 12.096 L747.037 12.096 L747.037 18.9825 L716.98 18.9825 L716.98 36.8875 L745.782 36.8875 L745.782 43.7741 L716.98 43.7741 L716.98 65.6895 L747.767 65.6895 L747.767 72.576 L708.797 72.576 L708.797 12.096 Z\" fill=\"#000000\" fill-rule=\"evenodd\" fill-opacity=\"1\" /><path clip-path=\"url(#clip830)\" d=\"M 0 0 M755.585 9.54393 L763.038 9.54393 L763.038 72.576 L755.585 72.576 L755.585 9.54393 Z\" fill=\"#000000\" fill-rule=\"evenodd\" fill-opacity=\"1\" /><path clip-path=\"url(#clip830)\" d=\"M 0 0 M809.664 48.0275 L809.664 51.6733 L775.394 51.6733 Q775.88 59.3701 780.012 63.421 Q784.184 67.4314 791.597 67.4314 Q795.891 67.4314 799.902 66.3781 Q803.953 65.3249 807.922 63.2184 L807.922 70.267 Q803.912 71.9684 799.699 72.8596 Q795.486 73.7508 791.152 73.7508 Q780.295 73.7508 773.935 67.4314 Q767.616 61.1119 767.616 50.3365 Q767.616 39.1965 773.611 32.6746 Q779.647 26.1121 789.855 26.1121 Q799.01 26.1121 804.317 32.0264 Q809.664 37.9003 809.664 48.0275 M802.211 45.84 Q802.13 39.7232 798.767 36.0774 Q795.446 32.4315 789.936 32.4315 Q783.698 32.4315 779.931 35.9558 Q776.204 39.4801 775.637 45.8805 L802.211 45.84 Z\" fill=\"#000000\" fill-rule=\"evenodd\" fill-opacity=\"1\" /><path clip-path=\"url(#clip830)\" d=\"M 0 0 M850.133 28.9478 L850.133 35.9153 Q846.973 34.1734 843.773 33.3227 Q840.613 32.4315 837.373 32.4315 Q830.121 32.4315 826.111 37.0496 Q822.101 41.6271 822.101 49.9314 Q822.101 58.2358 826.111 62.8538 Q830.121 67.4314 837.373 67.4314 Q840.613 67.4314 843.773 66.5807 Q846.973 65.6895 850.133 63.9476 L850.133 70.8341 Q847.014 72.2924 843.651 73.0216 Q840.33 73.7508 836.562 73.7508 Q826.314 73.7508 820.278 67.3098 Q814.242 60.8689 814.242 49.9314 Q814.242 38.832 820.318 32.472 Q826.435 26.1121 837.048 26.1121 Q840.492 26.1121 843.773 26.8413 Q847.054 27.5299 850.133 28.9478 Z\" fill=\"#000000\" fill-rule=\"evenodd\" fill-opacity=\"1\" /><path clip-path=\"url(#clip830)\" d=\"M 0 0 M865.324 14.324 L865.324 27.2059 L880.677 27.2059 L880.677 32.9987 L865.324 32.9987 L865.324 57.6282 Q865.324 63.1779 866.823 64.7578 Q868.362 66.3376 873.02 66.3376 L880.677 66.3376 L880.677 72.576 L873.02 72.576 Q864.392 72.576 861.111 69.3758 Q857.83 66.1351 857.83 57.6282 L857.83 32.9987 L852.361 32.9987 L852.361 27.2059 L857.83 27.2059 L857.83 14.324 L865.324 14.324 Z\" fill=\"#000000\" fill-rule=\"evenodd\" fill-opacity=\"1\" /><path clip-path=\"url(#clip830)\" d=\"M 0 0 M914.785 34.1734 Q913.53 33.4443 912.031 33.1202 Q910.572 32.7556 908.79 32.7556 Q902.471 32.7556 899.068 36.8875 Q895.706 40.9789 895.706 48.6757 L895.706 72.576 L888.211 72.576 L888.211 27.2059 L895.706 27.2059 L895.706 34.2544 Q898.055 30.1225 901.822 28.1376 Q905.59 26.1121 910.977 26.1121 Q911.747 26.1121 912.679 26.2337 Q913.611 26.3147 914.745 26.5172 L914.785 34.1734 Z\" fill=\"#000000\" fill-rule=\"evenodd\" fill-opacity=\"1\" /><path clip-path=\"url(#clip830)\" d=\"M 0 0 M922.604 27.2059 L930.057 27.2059 L930.057 72.576 L922.604 72.576 L922.604 27.2059 M922.604 9.54393 L930.057 9.54393 L930.057 18.9825 L922.604 18.9825 L922.604 9.54393 Z\" fill=\"#000000\" fill-rule=\"evenodd\" fill-opacity=\"1\" /><path clip-path=\"url(#clip830)\" d=\"M 0 0 M970.526 28.9478 L970.526 35.9153 Q967.366 34.1734 964.166 33.3227 Q961.006 32.4315 957.765 32.4315 Q950.514 32.4315 946.504 37.0496 Q942.493 41.6271 942.493 49.9314 Q942.493 58.2358 946.504 62.8538 Q950.514 67.4314 957.765 67.4314 Q961.006 67.4314 964.166 66.5807 Q967.366 65.6895 970.526 63.9476 L970.526 70.8341 Q967.407 72.2924 964.044 73.0216 Q960.723 73.7508 956.955 73.7508 Q946.706 73.7508 940.671 67.3098 Q934.635 60.8689 934.635 49.9314 Q934.635 38.832 940.711 32.472 Q946.828 26.1121 957.441 26.1121 Q960.885 26.1121 964.166 26.8413 Q967.447 27.5299 970.526 28.9478 Z\" fill=\"#000000\" fill-rule=\"evenodd\" fill-opacity=\"1\" /><path clip-path=\"url(#clip830)\" d=\"M 0 0 M998.963 49.7694 Q989.93 49.7694 986.446 51.8354 Q982.962 53.9013 982.962 58.8839 Q982.962 62.8538 985.555 65.2034 Q988.188 67.5124 992.684 67.5124 Q998.882 67.5124 1002.61 63.1374 Q1006.38 58.7219 1006.38 51.4303 L1006.38 49.7694 L998.963 49.7694 M1013.83 46.6907 L1013.83 72.576 L1006.38 72.576 L1006.38 65.6895 Q1003.82 69.8214 1000.02 71.8063 Q996.208 73.7508 990.699 73.7508 Q983.732 73.7508 979.6 69.8619 Q975.508 65.9325 975.508 59.3701 Q975.508 51.7138 980.612 47.825 Q985.757 43.9361 995.925 43.9361 L1006.38 43.9361 L1006.38 43.2069 Q1006.38 38.0623 1002.97 35.2672 Q999.611 32.4315 993.494 32.4315 Q989.605 32.4315 985.919 33.3632 Q982.233 34.295 978.83 36.1584 L978.83 29.2718 Q982.922 27.692 986.77 26.9223 Q990.618 26.1121 994.264 26.1121 Q1004.11 26.1121 1008.97 31.2163 Q1013.83 36.3204 1013.83 46.6907 Z\" fill=\"#000000\" fill-rule=\"evenodd\" fill-opacity=\"1\" /><path clip-path=\"url(#clip830)\" d=\"M 0 0 M1021.65 9.54393 L1029.1 9.54393 L1029.1 72.576 L1021.65 72.576 L1021.65 9.54393 Z\" fill=\"#000000\" fill-rule=\"evenodd\" fill-opacity=\"1\" /><path clip-path=\"url(#clip830)\" d=\"M 0 0 M1063.62 12.096 L1101.86 12.096 L1101.86 18.9825 L1071.8 18.9825 L1071.8 36.8875 L1100.6 36.8875 L1100.6 43.7741 L1071.8 43.7741 L1071.8 65.6895 L1102.59 65.6895 L1102.59 72.576 L1063.62 72.576 L1063.62 12.096 Z\" fill=\"#000000\" fill-rule=\"evenodd\" fill-opacity=\"1\" /><path clip-path=\"url(#clip830)\" d=\"M 0 0 M1148.12 45.1919 L1148.12 72.576 L1140.66 72.576 L1140.66 45.4349 Q1140.66 38.994 1138.15 35.7938 Q1135.64 32.5936 1130.62 32.5936 Q1124.58 32.5936 1121.1 36.4419 Q1117.61 40.2903 1117.61 46.9338 L1117.61 72.576 L1110.12 72.576 L1110.12 27.2059 L1117.61 27.2059 L1117.61 34.2544 Q1120.29 30.163 1123.89 28.1376 Q1127.54 26.1121 1132.28 26.1121 Q1140.1 26.1121 1144.11 30.9732 Q1148.12 35.7938 1148.12 45.1919 Z\" fill=\"#000000\" fill-rule=\"evenodd\" fill-opacity=\"1\" /><path clip-path=\"url(#clip830)\" d=\"M 0 0 M1185.79 49.3643 Q1185.79 41.2625 1182.43 36.8065 Q1179.11 32.3505 1173.07 32.3505 Q1167.08 32.3505 1163.71 36.8065 Q1160.39 41.2625 1160.39 49.3643 Q1160.39 57.4256 1163.71 61.8816 Q1167.08 66.3376 1173.07 66.3376 Q1179.11 66.3376 1182.43 61.8816 Q1185.79 57.4256 1185.79 49.3643 M1193.24 66.9452 Q1193.24 78.5308 1188.1 84.1616 Q1182.96 89.8329 1172.34 89.8329 Q1168.41 89.8329 1164.93 89.2252 Q1161.44 88.6581 1158.16 87.4428 L1158.16 80.1917 Q1161.44 81.9741 1164.65 82.8248 Q1167.85 83.6755 1171.17 83.6755 Q1178.5 83.6755 1182.14 79.8271 Q1185.79 76.0193 1185.79 68.282 L1185.79 64.5957 Q1183.48 68.6061 1179.88 70.5911 Q1176.27 72.576 1171.25 72.576 Q1162.9 72.576 1157.8 66.2161 Q1152.69 59.8562 1152.69 49.3643 Q1152.69 38.832 1157.8 32.472 Q1162.9 26.1121 1171.25 26.1121 Q1176.27 26.1121 1179.88 28.0971 Q1183.48 30.082 1185.79 34.0924 L1185.79 27.2059 L1193.24 27.2059 L1193.24 66.9452 Z\" fill=\"#000000\" fill-rule=\"evenodd\" fill-opacity=\"1\" /><path clip-path=\"url(#clip830)\" d=\"M 0 0 M1201.06 27.2059 L1208.52 27.2059 L1208.52 72.576 L1201.06 72.576 L1201.06 27.2059 M1201.06 9.54393 L1208.52 9.54393 L1208.52 18.9825 L1201.06 18.9825 L1201.06 9.54393 Z\" fill=\"#000000\" fill-rule=\"evenodd\" fill-opacity=\"1\" /><path clip-path=\"url(#clip830)\" d=\"M 0 0 M1254.05 45.1919 L1254.05 72.576 L1246.59 72.576 L1246.59 45.4349 Q1246.59 38.994 1244.08 35.7938 Q1241.57 32.5936 1236.55 32.5936 Q1230.51 32.5936 1227.03 36.4419 Q1223.55 40.2903 1223.55 46.9338 L1223.55 72.576 L1216.05 72.576 L1216.05 27.2059 L1223.55 27.2059 L1223.55 34.2544 Q1226.22 30.163 1229.82 28.1376 Q1233.47 26.1121 1238.21 26.1121 Q1246.03 26.1121 1250.04 30.9732 Q1254.05 35.7938 1254.05 45.1919 Z\" fill=\"#000000\" fill-rule=\"evenodd\" fill-opacity=\"1\" /><path clip-path=\"url(#clip830)\" d=\"M 0 0 M1300.67 48.0275 L1300.67 51.6733 L1266.4 51.6733 Q1266.89 59.3701 1271.02 63.421 Q1275.19 67.4314 1282.61 67.4314 Q1286.9 67.4314 1290.91 66.3781 Q1294.96 65.3249 1298.93 63.2184 L1298.93 70.267 Q1294.92 71.9684 1290.71 72.8596 Q1286.5 73.7508 1282.16 73.7508 Q1271.31 73.7508 1264.95 67.4314 Q1258.63 61.1119 1258.63 50.3365 Q1258.63 39.1965 1264.62 32.6746 Q1270.66 26.1121 1280.87 26.1121 Q1290.02 26.1121 1295.33 32.0264 Q1300.67 37.9003 1300.67 48.0275 M1293.22 45.84 Q1293.14 39.7232 1289.78 36.0774 Q1286.46 32.4315 1280.95 32.4315 Q1274.71 32.4315 1270.94 35.9558 Q1267.21 39.4801 1266.65 45.8805 L1293.22 45.84 Z\" fill=\"#000000\" fill-rule=\"evenodd\" fill-opacity=\"1\" /><path clip-path=\"url(#clip830)\" d=\"M 0 0 M1347.3 48.0275 L1347.3 51.6733 L1313.03 51.6733 Q1313.52 59.3701 1317.65 63.421 Q1321.82 67.4314 1329.23 67.4314 Q1333.53 67.4314 1337.54 66.3781 Q1341.59 65.3249 1345.56 63.2184 L1345.56 70.267 Q1341.55 71.9684 1337.34 72.8596 Q1333.12 73.7508 1328.79 73.7508 Q1317.93 73.7508 1311.57 67.4314 Q1305.25 61.1119 1305.25 50.3365 Q1305.25 39.1965 1311.25 32.6746 Q1317.28 26.1121 1327.49 26.1121 Q1336.65 26.1121 1341.95 32.0264 Q1347.3 37.9003 1347.3 48.0275 M1339.85 45.84 Q1339.77 39.7232 1336.4 36.0774 Q1333.08 32.4315 1327.57 32.4315 Q1321.33 32.4315 1317.57 35.9558 Q1313.84 39.4801 1313.27 45.8805 L1339.85 45.84 Z\" fill=\"#000000\" fill-rule=\"evenodd\" fill-opacity=\"1\" /><path clip-path=\"url(#clip830)\" d=\"M 0 0 M1381.41 34.1734 Q1380.15 33.4443 1378.65 33.1202 Q1377.2 32.7556 1375.41 32.7556 Q1369.09 32.7556 1365.69 36.8875 Q1362.33 40.9789 1362.33 48.6757 L1362.33 72.576 L1354.84 72.576 L1354.84 27.2059 L1362.33 27.2059 L1362.33 34.2544 Q1364.68 30.1225 1368.45 28.1376 Q1372.21 26.1121 1377.6 26.1121 Q1378.37 26.1121 1379.3 26.2337 Q1380.23 26.3147 1381.37 26.5172 L1381.41 34.1734 Z\" fill=\"#000000\" fill-rule=\"evenodd\" fill-opacity=\"1\" /><path clip-path=\"url(#clip830)\" d=\"M 0 0 M1389.23 27.2059 L1396.68 27.2059 L1396.68 72.576 L1389.23 72.576 L1389.23 27.2059 M1389.23 9.54393 L1396.68 9.54393 L1396.68 18.9825 L1389.23 18.9825 L1389.23 9.54393 Z\" fill=\"#000000\" fill-rule=\"evenodd\" fill-opacity=\"1\" /><path clip-path=\"url(#clip830)\" d=\"M 0 0 M1442.21 45.1919 L1442.21 72.576 L1434.76 72.576 L1434.76 45.4349 Q1434.76 38.994 1432.25 35.7938 Q1429.74 32.5936 1424.71 32.5936 Q1418.68 32.5936 1415.19 36.4419 Q1411.71 40.2903 1411.71 46.9338 L1411.71 72.576 L1404.22 72.576 L1404.22 27.2059 L1411.71 27.2059 L1411.71 34.2544 Q1414.38 30.163 1417.99 28.1376 Q1421.63 26.1121 1426.37 26.1121 Q1434.19 26.1121 1438.2 30.9732 Q1442.21 35.7938 1442.21 45.1919 Z\" fill=\"#000000\" fill-rule=\"evenodd\" fill-opacity=\"1\" /><path clip-path=\"url(#clip830)\" d=\"M 0 0 M1479.89 49.3643 Q1479.89 41.2625 1476.52 36.8065 Q1473.2 32.3505 1467.17 32.3505 Q1461.17 32.3505 1457.81 36.8065 Q1454.49 41.2625 1454.49 49.3643 Q1454.49 57.4256 1457.81 61.8816 Q1461.17 66.3376 1467.17 66.3376 Q1473.2 66.3376 1476.52 61.8816 Q1479.89 57.4256 1479.89 49.3643 M1487.34 66.9452 Q1487.34 78.5308 1482.2 84.1616 Q1477.05 89.8329 1466.44 89.8329 Q1462.51 89.8329 1459.02 89.2252 Q1455.54 88.6581 1452.26 87.4428 L1452.26 80.1917 Q1455.54 81.9741 1458.74 82.8248 Q1461.94 83.6755 1465.26 83.6755 Q1472.59 83.6755 1476.24 79.8271 Q1479.89 76.0193 1479.89 68.282 L1479.89 64.5957 Q1477.58 68.6061 1473.97 70.5911 Q1470.37 72.576 1465.34 72.576 Q1457 72.576 1451.89 66.2161 Q1446.79 59.8562 1446.79 49.3643 Q1446.79 38.832 1451.89 32.472 Q1457 26.1121 1465.34 26.1121 Q1470.37 26.1121 1473.97 28.0971 Q1477.58 30.082 1479.89 34.0924 L1479.89 27.2059 L1487.34 27.2059 L1487.34 66.9452 Z\" fill=\"#000000\" fill-rule=\"evenodd\" fill-opacity=\"1\" /><path clip-path=\"url(#clip830)\" d=\"M 0 0 M1530.04 18.8205 L1530.04 41.5461 L1540.33 41.5461 Q1546.04 41.5461 1549.16 38.5889 Q1552.28 35.6318 1552.28 30.163 Q1552.28 24.7348 1549.16 21.7777 Q1546.04 18.8205 1540.33 18.8205 L1530.04 18.8205 M1521.85 12.096 L1540.33 12.096 Q1550.49 12.096 1555.68 16.714 Q1560.9 21.2916 1560.9 30.163 Q1560.9 39.1155 1555.68 43.6931 Q1550.49 48.2706 1540.33 48.2706 L1530.04 48.2706 L1530.04 72.576 L1521.85 72.576 L1521.85 12.096 Z\" fill=\"#000000\" fill-rule=\"evenodd\" fill-opacity=\"1\" /><path clip-path=\"url(#clip830)\" d=\"M 0 0 M1593.55 34.1734 Q1592.3 33.4443 1590.8 33.1202 Q1589.34 32.7556 1587.56 32.7556 Q1581.24 32.7556 1577.84 36.8875 Q1574.48 40.9789 1574.48 48.6757 L1574.48 72.576 L1566.98 72.576 L1566.98 27.2059 L1574.48 27.2059 L1574.48 34.2544 Q1576.82 30.1225 1580.59 28.1376 Q1584.36 26.1121 1589.75 26.1121 Q1590.52 26.1121 1591.45 26.2337 Q1592.38 26.3147 1593.51 26.5172 L1593.55 34.1734 Z\" fill=\"#000000\" fill-rule=\"evenodd\" fill-opacity=\"1\" /><path clip-path=\"url(#clip830)\" d=\"M 0 0 M1617.13 32.4315 Q1611.14 32.4315 1607.65 37.1306 Q1604.17 41.7891 1604.17 49.9314 Q1604.17 58.0738 1607.61 62.7728 Q1611.1 67.4314 1617.13 67.4314 Q1623.09 67.4314 1626.57 62.7323 Q1630.05 58.0333 1630.05 49.9314 Q1630.05 41.8701 1626.57 37.1711 Q1623.09 32.4315 1617.13 32.4315 M1617.13 26.1121 Q1626.85 26.1121 1632.4 32.4315 Q1637.95 38.7509 1637.95 49.9314 Q1637.95 61.0714 1632.4 67.4314 Q1626.85 73.7508 1617.13 73.7508 Q1607.37 73.7508 1601.82 67.4314 Q1596.31 61.0714 1596.31 49.9314 Q1596.31 38.7509 1601.82 32.4315 Q1607.37 26.1121 1617.13 26.1121 Z\" fill=\"#000000\" fill-rule=\"evenodd\" fill-opacity=\"1\" /><path clip-path=\"url(#clip830)\" d=\"M 0 0 M1675.63 49.3643 Q1675.63 41.2625 1672.26 36.8065 Q1668.94 32.3505 1662.91 32.3505 Q1656.91 32.3505 1653.55 36.8065 Q1650.23 41.2625 1650.23 49.3643 Q1650.23 57.4256 1653.55 61.8816 Q1656.91 66.3376 1662.91 66.3376 Q1668.94 66.3376 1672.26 61.8816 Q1675.63 57.4256 1675.63 49.3643 M1683.08 66.9452 Q1683.08 78.5308 1677.94 84.1616 Q1672.79 89.8329 1662.18 89.8329 Q1658.25 89.8329 1654.76 89.2252 Q1651.28 88.6581 1648 87.4428 L1648 80.1917 Q1651.28 81.9741 1654.48 82.8248 Q1657.68 83.6755 1661 83.6755 Q1668.33 83.6755 1671.98 79.8271 Q1675.63 76.0193 1675.63 68.282 L1675.63 64.5957 Q1673.32 68.6061 1669.71 70.5911 Q1666.11 72.576 1661.08 72.576 Q1652.74 72.576 1647.63 66.2161 Q1642.53 59.8562 1642.53 49.3643 Q1642.53 38.832 1647.63 32.472 Q1652.74 26.1121 1661.08 26.1121 Q1666.11 26.1121 1669.71 28.0971 Q1673.32 30.082 1675.63 34.0924 L1675.63 27.2059 L1683.08 27.2059 L1683.08 66.9452 Z\" fill=\"#000000\" fill-rule=\"evenodd\" fill-opacity=\"1\" /><path clip-path=\"url(#clip830)\" d=\"M 0 0 M1717.19 34.1734 Q1715.93 33.4443 1714.43 33.1202 Q1712.98 32.7556 1711.19 32.7556 Q1704.87 32.7556 1701.47 36.8875 Q1698.11 40.9789 1698.11 48.6757 L1698.11 72.576 L1690.61 72.576 L1690.61 27.2059 L1698.11 27.2059 L1698.11 34.2544 Q1700.46 30.1225 1704.23 28.1376 Q1707.99 26.1121 1713.38 26.1121 Q1714.15 26.1121 1715.08 26.2337 Q1716.01 26.3147 1717.15 26.5172 L1717.19 34.1734 Z\" fill=\"#000000\" fill-rule=\"evenodd\" fill-opacity=\"1\" /><path clip-path=\"url(#clip830)\" d=\"M 0 0 M1745.63 49.7694 Q1736.59 49.7694 1733.11 51.8354 Q1729.62 53.9013 1729.62 58.8839 Q1729.62 62.8538 1732.22 65.2034 Q1734.85 67.5124 1739.35 67.5124 Q1745.54 67.5124 1749.27 63.1374 Q1753.04 58.7219 1753.04 51.4303 L1753.04 49.7694 L1745.63 49.7694 M1760.49 46.6907 L1760.49 72.576 L1753.04 72.576 L1753.04 65.6895 Q1750.49 69.8214 1746.68 71.8063 Q1742.87 73.7508 1737.36 73.7508 Q1730.39 73.7508 1726.26 69.8619 Q1722.17 65.9325 1722.17 59.3701 Q1722.17 51.7138 1727.28 47.825 Q1732.42 43.9361 1742.59 43.9361 L1753.04 43.9361 L1753.04 43.2069 Q1753.04 38.0623 1749.64 35.2672 Q1746.27 32.4315 1740.16 32.4315 Q1736.27 32.4315 1732.58 33.3632 Q1728.9 34.295 1725.49 36.1584 L1725.49 29.2718 Q1729.58 27.692 1733.43 26.9223 Q1737.28 26.1121 1740.93 26.1121 Q1750.77 26.1121 1755.63 31.2163 Q1760.49 36.3204 1760.49 46.6907 Z\" fill=\"#000000\" fill-rule=\"evenodd\" fill-opacity=\"1\" /><path clip-path=\"url(#clip830)\" d=\"M 0 0 M1803.63 35.9153 Q1806.43 30.8922 1810.32 28.5022 Q1814.21 26.1121 1819.47 26.1121 Q1826.56 26.1121 1830.41 31.0947 Q1834.26 36.0368 1834.26 45.1919 L1834.26 72.576 L1826.77 72.576 L1826.77 45.4349 Q1826.77 38.913 1824.46 35.7533 Q1822.15 32.5936 1817.41 32.5936 Q1811.61 32.5936 1808.25 36.4419 Q1804.89 40.2903 1804.89 46.9338 L1804.89 72.576 L1797.4 72.576 L1797.4 45.4349 Q1797.4 38.8725 1795.09 35.7533 Q1792.78 32.5936 1787.96 32.5936 Q1782.25 32.5936 1778.88 36.4824 Q1775.52 40.3308 1775.52 46.9338 L1775.52 72.576 L1768.03 72.576 L1768.03 27.2059 L1775.52 27.2059 L1775.52 34.2544 Q1778.07 30.082 1781.64 28.0971 Q1785.2 26.1121 1790.1 26.1121 Q1795.05 26.1121 1798.49 28.6237 Q1801.97 31.1352 1803.63 35.9153 Z\" fill=\"#000000\" fill-rule=\"evenodd\" fill-opacity=\"1\" /><path clip-path=\"url(#clip830)\" d=\"M 0 0 M1871 28.5427 L1871 35.5912 Q1867.84 33.9709 1864.44 33.1607 Q1861.04 32.3505 1857.39 32.3505 Q1851.84 32.3505 1849.05 34.0519 Q1846.29 35.7533 1846.29 39.156 Q1846.29 41.7486 1848.28 43.2475 Q1850.26 44.7058 1856.26 46.0426 L1858.81 46.6097 Q1866.75 48.3111 1870.07 51.4303 Q1873.43 54.509 1873.43 60.0587 Q1873.43 66.3781 1868.41 70.0644 Q1863.43 73.7508 1854.68 73.7508 Q1851.03 73.7508 1847.06 73.0216 Q1843.13 72.3329 1838.76 70.9151 L1838.76 63.2184 Q1842.89 65.3654 1846.9 66.4591 Q1850.91 67.5124 1854.84 67.5124 Q1860.1 67.5124 1862.94 65.73 Q1865.78 63.9071 1865.78 60.6258 Q1865.78 57.5877 1863.71 55.9673 Q1861.68 54.3469 1854.76 52.8481 L1852.16 52.2405 Q1845.24 50.7821 1842.16 47.7845 Q1839.08 44.7463 1839.08 39.4801 Q1839.08 33.0797 1843.62 29.5959 Q1848.15 26.1121 1856.5 26.1121 Q1860.63 26.1121 1864.28 26.7198 Q1867.92 27.3274 1871 28.5427 Z\" fill=\"#000000\" fill-rule=\"evenodd\" fill-opacity=\"1\" /><path clip-path=\"url(#clip830)\" d=\"M 0 0 M1237.07 1510.27 L1237.07 1520.4 L1249.13 1520.4 L1249.13 1524.95 L1237.07 1524.95 L1237.07 1544.3 Q1237.07 1548.66 1238.25 1549.9 Q1239.46 1551.14 1243.12 1551.14 L1249.13 1551.14 L1249.13 1556.04 L1243.12 1556.04 Q1236.34 1556.04 1233.76 1553.53 Q1231.18 1550.98 1231.18 1544.3 L1231.18 1524.95 L1226.88 1524.95 L1226.88 1520.4 L1231.18 1520.4 L1231.18 1510.27 L1237.07 1510.27 Z\" fill=\"#000000\" fill-rule=\"evenodd\" fill-opacity=\"1\" /><path clip-path=\"url(#clip830)\" d=\"M 0 0 M1255.28 1520.4 L1261.13 1520.4 L1261.13 1556.04 L1255.28 1556.04 L1255.28 1520.4 M1255.28 1506.52 L1261.13 1506.52 L1261.13 1513.93 L1255.28 1513.93 L1255.28 1506.52 Z\" fill=\"#000000\" fill-rule=\"evenodd\" fill-opacity=\"1\" /><path clip-path=\"url(#clip830)\" d=\"M 0 0 M1297.77 1536.76 L1297.77 1539.62 L1270.84 1539.62 Q1271.22 1545.67 1274.47 1548.85 Q1277.75 1552 1283.57 1552 Q1286.94 1552 1290.1 1551.17 Q1293.28 1550.35 1296.4 1548.69 L1296.4 1554.23 Q1293.25 1555.57 1289.94 1556.27 Q1286.63 1556.97 1283.22 1556.97 Q1274.69 1556.97 1269.69 1552 Q1264.73 1547.04 1264.73 1538.57 Q1264.73 1529.82 1269.44 1524.69 Q1274.18 1519.54 1282.2 1519.54 Q1289.4 1519.54 1293.57 1524.18 Q1297.77 1528.8 1297.77 1536.76 M1291.91 1535.04 Q1291.85 1530.23 1289.2 1527.37 Q1286.59 1524.5 1282.27 1524.5 Q1277.36 1524.5 1274.4 1527.27 Q1271.48 1530.04 1271.03 1535.07 L1291.91 1535.04 Z\" fill=\"#000000\" fill-rule=\"evenodd\" fill-opacity=\"1\" /><path clip-path=\"url(#clip830)\" d=\"M 0 0 M1324.57 1525.87 Q1323.58 1525.3 1322.4 1525.04 Q1321.26 1524.76 1319.86 1524.76 Q1314.89 1524.76 1312.22 1528 Q1309.57 1531.22 1309.57 1537.27 L1309.57 1556.04 L1303.69 1556.04 L1303.69 1520.4 L1309.57 1520.4 L1309.57 1525.93 Q1311.42 1522.69 1314.38 1521.13 Q1317.34 1519.54 1321.57 1519.54 Q1322.18 1519.54 1322.91 1519.63 Q1323.64 1519.7 1324.53 1519.85 L1324.57 1525.87 Z\" fill=\"#000000\" fill-rule=\"evenodd\" fill-opacity=\"1\" /><path clip-path=\"url(#clip830)\" d=\"M 0 0 M1353.43 1521.45 L1353.43 1526.98 Q1350.95 1525.71 1348.28 1525.07 Q1345.6 1524.44 1342.74 1524.44 Q1338.38 1524.44 1336.18 1525.77 Q1334.02 1527.11 1334.02 1529.79 Q1334.02 1531.82 1335.58 1533 Q1337.14 1534.15 1341.85 1535.2 L1343.85 1535.64 Q1350.09 1536.98 1352.7 1539.43 Q1355.34 1541.85 1355.34 1546.21 Q1355.34 1551.17 1351.4 1554.07 Q1347.48 1556.97 1340.61 1556.97 Q1337.74 1556.97 1334.62 1556.39 Q1331.54 1555.85 1328.1 1554.74 L1328.1 1548.69 Q1331.35 1550.38 1334.5 1551.24 Q1337.65 1552.07 1340.73 1552.07 Q1344.87 1552.07 1347.1 1550.66 Q1349.33 1549.23 1349.33 1546.65 Q1349.33 1544.27 1347.71 1542.99 Q1346.11 1541.72 1340.67 1540.54 L1338.63 1540.07 Q1333.19 1538.92 1330.77 1536.56 Q1328.35 1534.18 1328.35 1530.04 Q1328.35 1525.01 1331.92 1522.27 Q1335.48 1519.54 1342.04 1519.54 Q1345.29 1519.54 1348.15 1520.01 Q1351.02 1520.49 1353.43 1521.45 Z\" fill=\"#000000\" fill-rule=\"evenodd\" fill-opacity=\"1\" /><path clip-path=\"url(#clip830)\" d=\"M 0 0 M53.7248 1049.74 L59.1993 1049.74 Q57.8307 1052.22 57.1623 1054.74 Q56.4621 1057.22 56.4621 1059.77 Q56.4621 1065.46 60.0905 1068.62 Q63.6872 1071.77 70.212 1071.77 Q76.7369 1071.77 80.3653 1068.62 Q83.9619 1065.46 83.9619 1059.77 Q83.9619 1057.22 83.2935 1054.74 Q82.5933 1052.22 81.2247 1049.74 L86.6355 1049.74 Q87.7814 1052.19 88.3543 1054.83 Q88.9272 1057.44 88.9272 1060.4 Q88.9272 1068.46 83.8664 1073.2 Q78.8057 1077.94 70.212 1077.94 Q61.491 1077.94 56.4939 1073.17 Q51.4968 1068.36 51.4968 1060.02 Q51.4968 1057.32 52.0697 1054.74 Q52.6108 1052.16 53.7248 1049.74 Z\" fill=\"#000000\" fill-rule=\"evenodd\" fill-opacity=\"1\" /><path clip-path=\"url(#clip830)\" d=\"M 0 0 M73.9359 1044.2 L52.3562 1044.2 L52.3562 1038.35 L73.7131 1038.35 Q78.7739 1038.35 81.3202 1036.37 Q83.8346 1034.4 83.8346 1030.45 Q83.8346 1025.71 80.8109 1022.97 Q77.7872 1020.2 72.5673 1020.2 L52.3562 1020.2 L52.3562 1014.35 L88.0042 1014.35 L88.0042 1020.2 L82.5296 1020.2 Q85.7762 1022.34 87.3676 1025.17 Q88.9272 1027.97 88.9272 1031.69 Q88.9272 1037.84 85.1078 1041.02 Q81.2883 1044.2 73.9359 1044.2 M51.4968 1029.47 L51.4968 1029.47 Z\" fill=\"#000000\" fill-rule=\"evenodd\" fill-opacity=\"1\" /><path clip-path=\"url(#clip830)\" d=\"M 0 0 M57.8307 987.548 Q57.2578 988.535 57.0032 989.712 Q56.7167 990.858 56.7167 992.259 Q56.7167 997.224 59.9632 999.897 Q63.1779 1002.54 69.2253 1002.54 L88.0042 1002.54 L88.0042 1008.43 L52.3562 1008.43 L52.3562 1002.54 L57.8944 1002.54 Q54.6479 1000.69 53.0883 997.733 Q51.4968 994.773 51.4968 990.54 Q51.4968 989.935 51.5923 989.203 Q51.656 988.471 51.8151 987.58 L57.8307 987.548 Z\" fill=\"#000000\" fill-rule=\"evenodd\" fill-opacity=\"1\" /><path clip-path=\"url(#clip830)\" d=\"M 0 0 M57.8307 961.894 Q57.2578 962.881 57.0032 964.058 Q56.7167 965.204 56.7167 966.605 Q56.7167 971.57 59.9632 974.244 Q63.1779 976.885 69.2253 976.885 L88.0042 976.885 L88.0042 982.774 L52.3562 982.774 L52.3562 976.885 L57.8944 976.885 Q54.6479 975.039 53.0883 972.079 Q51.4968 969.119 51.4968 964.886 Q51.4968 964.281 51.5923 963.549 Q51.656 962.817 51.8151 961.926 L57.8307 961.894 Z\" fill=\"#000000\" fill-rule=\"evenodd\" fill-opacity=\"1\" /><path clip-path=\"url(#clip830)\" d=\"M 0 0 M52.3562 955.751 L52.3562 949.895 L88.0042 949.895 L88.0042 955.751 L52.3562 955.751 M38.479 955.751 L38.479 949.895 L45.895 949.895 L45.895 955.751 L38.479 955.751 Z\" fill=\"#000000\" fill-rule=\"evenodd\" fill-opacity=\"1\" /><path clip-path=\"url(#clip830)\" d=\"M 0 0 M53.7248 918.098 L59.1993 918.098 Q57.8307 920.581 57.1623 923.095 Q56.4621 925.578 56.4621 928.124 Q56.4621 933.821 60.0905 936.972 Q63.6872 940.123 70.212 940.123 Q76.7369 940.123 80.3653 936.972 Q83.9619 933.821 83.9619 928.124 Q83.9619 925.578 83.2935 923.095 Q82.5933 920.581 81.2247 918.098 L86.6355 918.098 Q87.7814 920.549 88.3543 923.191 Q88.9272 925.801 88.9272 928.761 Q88.9272 936.813 83.8664 941.556 Q78.8057 946.298 70.212 946.298 Q61.491 946.298 56.4939 941.524 Q51.4968 936.718 51.4968 928.379 Q51.4968 925.673 52.0697 923.095 Q52.6108 920.517 53.7248 918.098 Z\" fill=\"#000000\" fill-rule=\"evenodd\" fill-opacity=\"1\" /><path clip-path=\"url(#clip830)\" d=\"M 0 0 M73.9359 912.56 L52.3562 912.56 L52.3562 906.703 L73.7131 906.703 Q78.7739 906.703 81.3202 904.73 Q83.8346 902.757 83.8346 898.81 Q83.8346 894.068 80.8109 891.33 Q77.7872 888.561 72.5673 888.561 L52.3562 888.561 L52.3562 882.705 L88.0042 882.705 L88.0042 888.561 L82.5296 888.561 Q85.7762 890.694 87.3676 893.526 Q88.9272 896.327 88.9272 900.051 Q88.9272 906.194 85.1078 909.377 Q81.2883 912.56 73.9359 912.56 M51.4968 897.823 L51.4968 897.823 Z\" fill=\"#000000\" fill-rule=\"evenodd\" fill-opacity=\"1\" /><path clip-path=\"url(#clip830)\" d=\"M 0 0 M38.479 876.562 L38.479 870.705 L88.0042 870.705 L88.0042 876.562 L38.479 876.562 Z\" fill=\"#000000\" fill-rule=\"evenodd\" fill-opacity=\"1\" /><path clip-path=\"url(#clip830)\" d=\"M 0 0 M70.0847 848.362 Q70.0847 855.46 71.7079 858.197 Q73.3312 860.934 77.2461 860.934 Q80.3653 860.934 82.2114 858.897 Q84.0256 856.828 84.0256 853.295 Q84.0256 848.425 80.5881 845.497 Q77.1188 842.537 71.3897 842.537 L70.0847 842.537 L70.0847 848.362 M67.6657 836.681 L88.0042 836.681 L88.0042 842.537 L82.5933 842.537 Q85.8398 844.542 87.3994 847.534 Q88.9272 850.526 88.9272 854.855 Q88.9272 860.329 85.8716 863.576 Q82.7843 866.79 77.6281 866.79 Q71.6125 866.79 68.5569 862.78 Q65.5014 858.738 65.5014 850.749 L65.5014 842.537 L64.9285 842.537 Q60.8862 842.537 58.6901 845.211 Q56.4621 847.852 56.4621 852.659 Q56.4621 855.714 57.1941 858.611 Q57.9262 861.507 59.3903 864.181 L53.9795 864.181 Q52.7381 860.966 52.1334 857.942 Q51.4968 854.918 51.4968 852.054 Q51.4968 844.32 55.5072 840.5 Q59.5176 836.681 67.6657 836.681 Z\" fill=\"#000000\" fill-rule=\"evenodd\" fill-opacity=\"1\" /><path clip-path=\"url(#clip830)\" d=\"M 0 0 M57.8307 809.881 Q57.2578 810.868 57.0032 812.045 Q56.7167 813.191 56.7167 814.592 Q56.7167 819.557 59.9632 822.231 Q63.1779 824.872 69.2253 824.872 L88.0042 824.872 L88.0042 830.761 L52.3562 830.761 L52.3562 824.872 L57.8944 824.872 Q54.6479 823.026 53.0883 820.066 Q51.4968 817.106 51.4968 812.873 Q51.4968 812.268 51.5923 811.536 Q51.656 810.804 51.8151 809.913 L57.8307 809.881 Z\" fill=\"#000000\" fill-rule=\"evenodd\" fill-opacity=\"1\" /><path clip-path=\"url(#clip830)\" d=\"M 0 0 M53.7248 757.364 L59.1993 757.364 Q57.8307 759.847 57.1623 762.361 Q56.4621 764.844 56.4621 767.39 Q56.4621 773.087 60.0905 776.238 Q63.6872 779.389 70.212 779.389 Q76.7369 779.389 80.3653 776.238 Q83.9619 773.087 83.9619 767.39 Q83.9619 764.844 83.2935 762.361 Q82.5933 759.847 81.2247 757.364 L86.6355 757.364 Q87.7814 759.815 88.3543 762.457 Q88.9272 765.066 88.9272 768.027 Q88.9272 776.079 83.8664 780.822 Q78.8057 785.564 70.212 785.564 Q61.491 785.564 56.4939 780.79 Q51.4968 775.984 51.4968 767.645 Q51.4968 764.939 52.0697 762.361 Q52.6108 759.783 53.7248 757.364 Z\" fill=\"#000000\" fill-rule=\"evenodd\" fill-opacity=\"1\" /><path clip-path=\"url(#clip830)\" d=\"M 0 0 M56.4621 737.407 Q56.4621 742.118 60.1542 744.855 Q63.8145 747.593 70.212 747.593 Q76.6095 747.593 80.3017 744.887 Q83.9619 742.15 83.9619 737.407 Q83.9619 732.729 80.2698 729.991 Q76.5777 727.254 70.212 727.254 Q63.8781 727.254 60.186 729.991 Q56.4621 732.729 56.4621 737.407 M51.4968 737.407 Q51.4968 729.769 56.4621 725.408 Q61.4273 721.048 70.212 721.048 Q78.9649 721.048 83.9619 725.408 Q88.9272 729.769 88.9272 737.407 Q88.9272 745.078 83.9619 749.439 Q78.9649 753.767 70.212 753.767 Q61.4273 753.767 56.4621 749.439 Q51.4968 745.078 51.4968 737.407 Z\" fill=\"#000000\" fill-rule=\"evenodd\" fill-opacity=\"1\" /><path clip-path=\"url(#clip830)\" d=\"M 0 0 M59.1993 687.15 Q55.2526 684.954 53.3747 681.899 Q51.4968 678.843 51.4968 674.705 Q51.4968 669.135 55.4117 666.112 Q59.2948 663.088 66.4881 663.088 L88.0042 663.088 L88.0042 668.976 L66.679 668.976 Q61.5546 668.976 59.072 670.79 Q56.5894 672.605 56.5894 676.329 Q56.5894 680.88 59.6131 683.522 Q62.6368 686.164 67.8567 686.164 L88.0042 686.164 L88.0042 692.052 L66.679 692.052 Q61.5228 692.052 59.072 693.866 Q56.5894 695.68 56.5894 699.468 Q56.5894 703.956 59.6449 706.597 Q62.6686 709.239 67.8567 709.239 L88.0042 709.239 L88.0042 715.128 L52.3562 715.128 L52.3562 709.239 L57.8944 709.239 Q54.616 707.234 53.0564 704.433 Q51.4968 701.632 51.4968 697.781 Q51.4968 693.898 53.4702 691.192 Q55.4436 688.455 59.1993 687.15 Z\" fill=\"#000000\" fill-rule=\"evenodd\" fill-opacity=\"1\" /><path clip-path=\"url(#clip830)\" d=\"M 0 0 M82.657 651.279 L101.563 651.279 L101.563 657.168 L52.3562 657.168 L52.3562 651.279 L57.7671 651.279 Q54.5842 649.433 53.0564 646.633 Q51.4968 643.8 51.4968 639.885 Q51.4968 633.392 56.6531 629.35 Q61.8093 625.276 70.212 625.276 Q78.6147 625.276 83.771 629.35 Q88.9272 633.392 88.9272 639.885 Q88.9272 643.8 87.3994 646.633 Q85.8398 649.433 82.657 651.279 M70.212 631.355 Q63.7508 631.355 60.0905 634.028 Q56.3984 636.67 56.3984 641.317 Q56.3984 645.964 60.0905 648.638 Q63.7508 651.279 70.212 651.279 Q76.6732 651.279 80.3653 648.638 Q84.0256 645.964 84.0256 641.317 Q84.0256 636.67 80.3653 634.028 Q76.6732 631.355 70.212 631.355 Z\" fill=\"#000000\" fill-rule=\"evenodd\" fill-opacity=\"1\" /><path clip-path=\"url(#clip830)\" d=\"M 0 0 M38.479 619.133 L38.479 613.276 L88.0042 613.276 L88.0042 619.133 L38.479 619.133 Z\" fill=\"#000000\" fill-rule=\"evenodd\" fill-opacity=\"1\" /><path clip-path=\"url(#clip830)\" d=\"M 0 0 M68.7161 576.642 L71.5806 576.642 L71.5806 603.569 Q77.6281 603.187 80.8109 599.94 Q83.9619 596.662 83.9619 590.837 Q83.9619 587.463 83.1344 584.312 Q82.3069 581.129 80.6518 578.01 L86.1899 578.01 Q87.5267 581.161 88.227 584.471 Q88.9272 587.782 88.9272 591.187 Q88.9272 599.717 83.9619 604.714 Q78.9967 609.68 70.5303 609.68 Q61.7774 609.68 56.6531 604.969 Q51.4968 600.227 51.4968 592.206 Q51.4968 585.012 56.1438 580.843 Q60.7589 576.642 68.7161 576.642 M66.9973 582.498 Q62.1912 582.562 59.3266 585.203 Q56.4621 587.813 56.4621 592.142 Q56.4621 597.044 59.2312 600.004 Q62.0002 602.932 67.0292 603.378 L66.9973 582.498 Z\" fill=\"#000000\" fill-rule=\"evenodd\" fill-opacity=\"1\" /><path clip-path=\"url(#clip830)\" d=\"M 0 0 M52.3562 542.012 L69.7028 554.903 L88.0042 541.344 L88.0042 548.251 L73.9996 558.627 L88.0042 569.003 L88.0042 575.91 L69.3526 562.064 L52.3562 574.732 L52.3562 567.825 L65.0558 558.372 L52.3562 548.919 L52.3562 542.012 Z\" fill=\"#000000\" fill-rule=\"evenodd\" fill-opacity=\"1\" /><path clip-path=\"url(#clip830)\" d=\"M 0 0 M52.3562 535.201 L52.3562 529.344 L88.0042 529.344 L88.0042 535.201 L52.3562 535.201 M38.479 535.201 L38.479 529.344 L45.895 529.344 L45.895 535.201 L38.479 535.201 Z\" fill=\"#000000\" fill-rule=\"evenodd\" fill-opacity=\"1\" /><path clip-path=\"url(#clip830)\" d=\"M 0 0 M42.2347 517.409 L52.3562 517.409 L52.3562 505.346 L56.9077 505.346 L56.9077 517.409 L76.2594 517.409 Q80.6199 517.409 81.8613 516.231 Q83.1026 515.022 83.1026 511.361 L83.1026 505.346 L88.0042 505.346 L88.0042 511.361 Q88.0042 518.141 85.4897 520.719 Q82.9434 523.297 76.2594 523.297 L56.9077 523.297 L56.9077 527.594 L52.3562 527.594 L52.3562 523.297 L42.2347 523.297 L42.2347 517.409 Z\" fill=\"#000000\" fill-rule=\"evenodd\" fill-opacity=\"1\" /><path clip-path=\"url(#clip830)\" d=\"M 0 0 M91.3143 484.371 Q97.68 486.853 99.6216 489.209 Q101.563 491.564 101.563 495.511 L101.563 500.189 L96.6615 500.189 L96.6615 496.752 Q96.6615 494.333 95.5157 492.996 Q94.3699 491.659 90.1048 490.036 L87.4312 488.986 L52.3562 503.404 L52.3562 497.198 L80.238 486.058 L52.3562 474.918 L52.3562 468.711 L91.3143 484.371 Z\" fill=\"#000000\" fill-rule=\"evenodd\" fill-opacity=\"1\" /><path clip-path=\"url(#clip832)\" d=\"\n",
       "M512.132 1386.4 L289.566 1386.4 L734.698 1386.4 L512.132 1386.4 L512.132 1185.79 L512.132 1386.4  Z\n",
       "  \" fill=\"#1874cd\" fill-rule=\"evenodd\" fill-opacity=\"0.7\"/>\n",
       "<polyline clip-path=\"url(#clip832)\" style=\"stroke:#000000; stroke-width:4; stroke-opacity:0.7; fill:none\" points=\"\n",
       "  512.132,1386.4 289.566,1386.4 734.698,1386.4 512.132,1386.4 512.132,1185.79 512.132,1386.4 \n",
       "  \"/>\n",
       "<path clip-path=\"url(#clip832)\" d=\"\n",
       "M289.566 1185.79 L289.566 1067.34 L734.698 1067.34 L734.698 1185.79 L289.566 1185.79 L289.566 1185.79  Z\n",
       "  \" fill=\"#1874cd\" fill-rule=\"evenodd\" fill-opacity=\"0.7\"/>\n",
       "<polyline clip-path=\"url(#clip832)\" style=\"stroke:#000000; stroke-width:4; stroke-opacity:0.7; fill:none\" points=\"\n",
       "  289.566,1185.79 289.566,1067.34 734.698,1067.34 734.698,1185.79 289.566,1185.79 \n",
       "  \"/>\n",
       "<path clip-path=\"url(#clip832)\" d=\"\n",
       "M289.566 878.397 L289.566 1067.34 L734.698 1067.34 L734.698 878.397 L289.566 878.397 L289.566 878.397  Z\n",
       "  \" fill=\"#1874cd\" fill-rule=\"evenodd\" fill-opacity=\"0.7\"/>\n",
       "<polyline clip-path=\"url(#clip832)\" style=\"stroke:#000000; stroke-width:4; stroke-opacity:0.7; fill:none\" points=\"\n",
       "  289.566,878.397 289.566,1067.34 734.698,1067.34 734.698,878.397 289.566,878.397 \n",
       "  \"/>\n",
       "<path clip-path=\"url(#clip832)\" d=\"\n",
       "M512.132 451.753 L289.566 451.753 L734.698 451.753 L512.132 451.753 L512.132 878.397 L512.132 451.753  Z\n",
       "  \" fill=\"#1874cd\" fill-rule=\"evenodd\" fill-opacity=\"0.7\"/>\n",
       "<polyline clip-path=\"url(#clip832)\" style=\"stroke:#000000; stroke-width:4; stroke-opacity:0.7; fill:none\" points=\"\n",
       "  512.132,451.753 289.566,451.753 734.698,451.753 512.132,451.753 512.132,878.397 512.132,451.753 \n",
       "  \"/>\n",
       "<circle clip-path=\"url(#clip832)\" cx=\"1291.11\" cy=\"406.703\" r=\"14\" fill=\"#1874cd\" fill-rule=\"evenodd\" fill-opacity=\"0.7\" stroke=\"#000000\" stroke-opacity=\"0.7\" stroke-width=\"3.2\"/>\n",
       "<circle clip-path=\"url(#clip832)\" cx=\"1291.11\" cy=\"351.054\" r=\"14\" fill=\"#1874cd\" fill-rule=\"evenodd\" fill-opacity=\"0.7\" stroke=\"#000000\" stroke-opacity=\"0.7\" stroke-width=\"3.2\"/>\n",
       "<circle clip-path=\"url(#clip832)\" cx=\"1291.11\" cy=\"160.256\" r=\"14\" fill=\"#1874cd\" fill-rule=\"evenodd\" fill-opacity=\"0.7\" stroke=\"#000000\" stroke-opacity=\"0.7\" stroke-width=\"3.2\"/>\n",
       "<path clip-path=\"url(#clip832)\" d=\"\n",
       "M1291.11 1079.79 L1068.55 1079.79 L1513.68 1079.79 L1291.11 1079.79 L1291.11 899.597 L1291.11 1079.79  Z\n",
       "  \" fill=\"#1874cd\" fill-rule=\"evenodd\" fill-opacity=\"0.7\"/>\n",
       "<polyline clip-path=\"url(#clip832)\" style=\"stroke:#000000; stroke-width:4; stroke-opacity:0.7; fill:none\" points=\"\n",
       "  1291.11,1079.79 1068.55,1079.79 1513.68,1079.79 1291.11,1079.79 1291.11,899.597 1291.11,1079.79 \n",
       "  \"/>\n",
       "<path clip-path=\"url(#clip832)\" d=\"\n",
       "M1068.55 899.597 L1068.55 769.749 L1513.68 769.749 L1513.68 899.597 L1068.55 899.597 L1068.55 899.597  Z\n",
       "  \" fill=\"#1874cd\" fill-rule=\"evenodd\" fill-opacity=\"0.7\"/>\n",
       "<polyline clip-path=\"url(#clip832)\" style=\"stroke:#000000; stroke-width:4; stroke-opacity:0.7; fill:none\" points=\"\n",
       "  1068.55,899.597 1068.55,769.749 1513.68,769.749 1513.68,899.597 1068.55,899.597 \n",
       "  \"/>\n",
       "<path clip-path=\"url(#clip832)\" d=\"\n",
       "M1068.55 708.799 L1068.55 769.749 L1513.68 769.749 L1513.68 708.799 L1068.55 708.799 L1068.55 708.799  Z\n",
       "  \" fill=\"#1874cd\" fill-rule=\"evenodd\" fill-opacity=\"0.7\"/>\n",
       "<polyline clip-path=\"url(#clip832)\" style=\"stroke:#000000; stroke-width:4; stroke-opacity:0.7; fill:none\" points=\"\n",
       "  1068.55,708.799 1068.55,769.749 1513.68,769.749 1513.68,708.799 1068.55,708.799 \n",
       "  \"/>\n",
       "<path clip-path=\"url(#clip832)\" d=\"\n",
       "M1291.11 634.6 L1068.55 634.6 L1513.68 634.6 L1291.11 634.6 L1291.11 708.799 L1291.11 634.6  Z\n",
       "  \" fill=\"#1874cd\" fill-rule=\"evenodd\" fill-opacity=\"0.7\"/>\n",
       "<polyline clip-path=\"url(#clip832)\" style=\"stroke:#000000; stroke-width:4; stroke-opacity:0.7; fill:none\" points=\"\n",
       "  1291.11,634.6 1068.55,634.6 1513.68,634.6 1291.11,634.6 1291.11,708.799 1291.11,634.6 \n",
       "  \"/>\n",
       "<circle clip-path=\"url(#clip832)\" cx=\"2070.1\" cy=\"1095.69\" r=\"14\" fill=\"#1874cd\" fill-rule=\"evenodd\" fill-opacity=\"0.7\" stroke=\"#000000\" stroke-opacity=\"0.7\" stroke-width=\"3.2\"/>\n",
       "<path clip-path=\"url(#clip832)\" d=\"\n",
       "M2070.1 891.647 L1847.53 891.647 L2292.66 891.647 L2070.1 891.647 L2070.1 732.649 L2070.1 891.647  Z\n",
       "  \" fill=\"#1874cd\" fill-rule=\"evenodd\" fill-opacity=\"0.7\"/>\n",
       "<polyline clip-path=\"url(#clip832)\" style=\"stroke:#000000; stroke-width:4; stroke-opacity:0.7; fill:none\" points=\"\n",
       "  2070.1,891.647 1847.53,891.647 2292.66,891.647 2070.1,891.647 2070.1,732.649 2070.1,891.647 \n",
       "  \"/>\n",
       "<path clip-path=\"url(#clip832)\" d=\"\n",
       "M1847.53 732.649 L1847.53 602.801 L2292.66 602.801 L2292.66 732.649 L1847.53 732.649 L1847.53 732.649  Z\n",
       "  \" fill=\"#1874cd\" fill-rule=\"evenodd\" fill-opacity=\"0.7\"/>\n",
       "<polyline clip-path=\"url(#clip832)\" style=\"stroke:#000000; stroke-width:4; stroke-opacity:0.7; fill:none\" points=\"\n",
       "  1847.53,732.649 1847.53,602.801 2292.66,602.801 2292.66,732.649 1847.53,732.649 \n",
       "  \"/>\n",
       "<path clip-path=\"url(#clip832)\" d=\"\n",
       "M1847.53 494.152 L1847.53 602.801 L2292.66 602.801 L2292.66 494.152 L1847.53 494.152 L1847.53 494.152  Z\n",
       "  \" fill=\"#1874cd\" fill-rule=\"evenodd\" fill-opacity=\"0.7\"/>\n",
       "<polyline clip-path=\"url(#clip832)\" style=\"stroke:#000000; stroke-width:4; stroke-opacity:0.7; fill:none\" points=\"\n",
       "  1847.53,494.152 1847.53,602.801 2292.66,602.801 2292.66,494.152 1847.53,494.152 \n",
       "  \"/>\n",
       "<path clip-path=\"url(#clip832)\" d=\"\n",
       "M2070.1 213.256 L1847.53 213.256 L2292.66 213.256 L2070.1 213.256 L2070.1 494.152 L2070.1 213.256  Z\n",
       "  \" fill=\"#1874cd\" fill-rule=\"evenodd\" fill-opacity=\"0.7\"/>\n",
       "<polyline clip-path=\"url(#clip832)\" style=\"stroke:#000000; stroke-width:4; stroke-opacity:0.7; fill:none\" points=\"\n",
       "  2070.1,213.256 1847.53,213.256 2292.66,213.256 2070.1,213.256 2070.1,494.152 2070.1,213.256 \n",
       "  \"/>\n",
       "</svg>\n"
      ]
     },
     "execution_count": 9,
     "metadata": {},
     "output_type": "execute_result"
    }
   ],
   "source": [
    "metric_boxplot([\"top\" \"middle\" \"bottom\"], [top_tier, middle_tier, bottom_tier], \"complexity\", \n",
    "    title=\"Electrical Engineering Programs\", xlabel=\"tiers\", ylabel=\"curricular complexity\")"
   ]
  },
  {
   "cell_type": "markdown",
   "metadata": {},
   "source": [
    "## ANOVA Analysis\n",
    "\n",
    "The ANOVA analysis involves random sampling of schools within each of the three tiers. In order to ensure the analysis is able to distinguish between actual curricular complexity differences among the tiers, and random variation, sufficient sample sizes must be determined. Under the assumption that the curricular complexity distributions within the tiers are approximately normal, with variance $\\sigma^2$, the number of samples that should be selected from each tier is given by\n",
    "\\begin{equation}\n",
    " n = \\left({\\sigma Z \\over E}\\right)^2,\n",
    "\\end{equation}\n",
    "where $Z$ is the confidence interval expressed using deviation within the standard normal distribution, and $E$ is the margin of error. To obtain an estimate of $\\sigma$, pilot samples from each of the three tiers were taken, yielding the estimate $\\hat{\\sigma} = 90$. For a 95\\% confidence interval, which corresponds to $Z = 1.96$, the margin of error will be 40 curricular complexity points, i.e., 20 points on either side of the mean for a tier. Using these values in the equation provided above leads to sample sizes of $n_1 = n_2 = n_3 = 20$, where $n_1, n_2$ and $n_3$ are the sample sizes for the top, medium and bottom tiers, respectively. Thus, by sampling at least 20 schools from each tier, we can have 95\\% confidence that the error in this analysis will be by no more than 40 curricular complexity points.\n",
    "\n",
    "In order to test the null hypothesis using ANOVA, we must assume the curricular complexity values of the schools within each tier are normally distributed, and that all three tiers have the same variance $\\sigma^2$. It should be noted that these conditions can be moderately relaxed (particularly the normality assumption) and the analysis will remain valid \\cite{MeScWa:81}. \n",
    "\n",
    "The ANOVA method partitions the total sum of squares of the deviations in curricular complexity across all schools into two independent parts, one that is attributed to the independent variable (program quality in this case), and a remainder that is attributed to random errors arising from other factors not accounted for in this experiment. That is,\n",
    "\\begin{equation}\n",
    " TSS = SST + SSE,\n",
    "\\end{equation}\n",
    "where $TSS$ denotes the total sum of squares of deviations, $SST$ represents the sum of squares of the deviations between the tiers, and SSE is the sum of squares attributed to errors or noise. More specifically, if we let $cc_{ij}$ denote the curricular complexity of the $j$\\nth school sampled from the $i$-th tier, then\n",
    "\\begin{equation}\n",
    " TSS = \\sum_{i=1}^3 \\sum_{j=1}^{n_i} \\left(cc_{ij} - \\overline{cc}\\right)^2,\n",
    "\\end{equation}\n",
    "where $\\overline{cc}$ is the sample mean for all samples drawn over all tiers.  The sum of squares deviation between the tiers is given by \n",
    "\\begin{equation}\n",
    " SST = \\sum_{i=1}^3 n_i\\left(\\overline{T}_i - \\overline{cc}\\right)^2,\n",
    "\\end{equation}\n",
    "where $T_i$ is the total curricular complexity of the schools sampled from the $i$-th tier, and $\\overline{T}_i = T_i/n_i, i = 1,2,3$, are the tier sample averages.\n",
    "Note that when the sample means for the three tiers are the same, $SST=0$.\n",
    "\n",
    "Substituting the TSS and SST equations provided above into $TSS = SST + SSE$, and solving for $SSE$ yields:\n",
    "\\begin{equation}\n",
    " SSE = {\\sum_{i=1}^3 \\sum_{j=1}^{n_i} \\left(cc_{ij} - \\bar{T}_i\\right)^2}.\n",
    "\\end{equation}\n",
    "\n",
    "The unbiased estimator of $\\sigma^2$ based on $n - 3$ degrees of freedom is given by the mean square error,\n",
    "\\begin{equation}\n",
    " MSE = {SSE \\over n - 3},\n",
    "\\end{equation}\n",
    "where $n = n_1 + n_2 + n_3$.\n",
    "\n",
    "The mean square for the tiers has 2 degrees of freedom, i.e., one less than the number of tiers, and is therefore\n",
    "\\begin{equation}\n",
    " MST = {SST \\over 2}. \n",
    "\\end{equation}\n",
    "\n",
    "In order to assess the statistical significance of a decision to reject the null hypothesis, an $F$-test is conducted to compare the deviation among the tier variances.  The $F$-test statistic is given by\n",
    "\\[\n",
    " F = {MST \\over MSE}.\n",
    "\\] \n",
    "Note that the $F$-test is a ratio that compares the mean square variability between the tiers to the mean square variability within the tiers. Thus, as $F$-test values increase above $1$, the data are increasingly inconsistent with the null hypothesis, and the null hypothesis should be rejected when $F > F_{\\alpha}$,\n",
    "where $F_{\\alpha}$ is the critical value of $F$ where the probability of a type I error is $\\alpha$.\n",
    "\n",
    "For the $F$ distribution with $(2, 65)$ degrees of freedom, $F_{0.05} = 3.15$.  That is, if the $F$-test for the experiment yields a value greater than $3.15$, we can reject the null hypothesis with only a 5\\% chance of doing so in error."
   ]
  },
  {
   "cell_type": "markdown",
   "metadata": {},
   "source": [
    "Let $n_1, n_2$ and $n_3$ be the sample sizes drawn from top, medium and low tier schools, respectively, with $n = n_1 + n_2 + n_3$."
   ]
  },
  {
   "cell_type": "code",
   "execution_count": 10,
   "metadata": {},
   "outputs": [],
   "source": [
    "n_1 = length(top_tier)\n",
    "n_2 = length(middle_tier)\n",
    "n_3 = length(bottom_tier)\n",
    "\n",
    "n = n_1 + n_2 +n_3;"
   ]
  },
  {
   "cell_type": "markdown",
   "metadata": {},
   "source": [
    "Compute the TSS:\n",
    "\n",
    "\\begin{equation}\n",
    " TSS = \\sum_{i=1}^3 \\sum_{j=1}^{n_i} \\left(cc_{ij} - \\overline{cc}\\right)^2\n",
    "\\end{equation}\n",
    "\n"
   ]
  },
  {
   "cell_type": "code",
   "execution_count": 11,
   "metadata": {},
   "outputs": [
    {
     "data": {
      "text/plain": [
       "697898.88"
      ]
     },
     "execution_count": 11,
     "metadata": {},
     "output_type": "execute_result"
    }
   ],
   "source": [
    "cc_bar = (top_tier_total_cc + middle_tier_total_cc + bottom_tier_total_cc) / n \n",
    "TSS = 0.0\n",
    "for curric in values(top_tier)\n",
    "    cc_ij = curric.metrics[\"complexity\"][1]\n",
    "    TSS += (cc_ij - cc_bar)^2\n",
    "end\n",
    "for curric in values(middle_tier)\n",
    "    cc_ij = curric.metrics[\"complexity\"][1]\n",
    "    TSS += (cc_ij - cc_bar)^2\n",
    "end\n",
    "for curric in values(bottom_tier)\n",
    "    cc_ij = curric.metrics[\"complexity\"][1]\n",
    "    TSS += (cc_ij - cc_bar)^2\n",
    "end\n",
    "TSS = round(TSS, digits=2)"
   ]
  },
  {
   "cell_type": "markdown",
   "metadata": {},
   "source": [
    "Compute the SST:\n",
    "\n",
    "\\begin{equation}\n",
    " SST = \\sum_{i=1}^3 n_i\\left(\\overline{T}_i - \\overline{cc}\\right)^2\n",
    "\\end{equation}"
   ]
  },
  {
   "cell_type": "code",
   "execution_count": 12,
   "metadata": {},
   "outputs": [
    {
     "data": {
      "text/plain": [
       "253636.4"
      ]
     },
     "execution_count": 12,
     "metadata": {},
     "output_type": "execute_result"
    }
   ],
   "source": [
    "SST = round(n_1 * (top_tier_avg_cc - cc_bar)^2 + \n",
    "            n_2 * (middle_tier_avg_cc - cc_bar)^2 + \n",
    "            n_3 * (bottom_tier_avg_cc - cc_bar)^2, digits=2)"
   ]
  },
  {
   "cell_type": "markdown",
   "metadata": {},
   "source": [
    "Compute the SSE: \n",
    "\\begin{equation}\n",
    " SSE = {\\sum_{i=1}^3 \\sum_{j=1}^{n_i} \\left(cc_{ij} - \\bar{T}_i\\right)^2}\n",
    "\\end{equation}"
   ]
  },
  {
   "cell_type": "code",
   "execution_count": 49,
   "metadata": {},
   "outputs": [
    {
     "name": "stdout",
     "output_type": "stream",
     "text": [
      "253458.77\n",
      "444134.21\n",
      "697592.98\n"
     ]
    }
   ],
   "source": [
    "SSE = 0.0\n",
    "for curric in values(top_tier)\n",
    "    cc_ij = curric.metrics[\"complexity\"][1]\n",
    "    SSE += (cc_ij - top_tier_avg_cc)^2\n",
    "end\n",
    "for curric in values(middle_tier)\n",
    "    cc_ij = curric.metrics[\"complexity\"][1]\n",
    "    SSE += (cc_ij - middle_tier_avg_cc)^2\n",
    "end\n",
    "for curric in values(bottom_tier)\n",
    "    cc_ij = curric.metrics[\"complexity\"][1]\n",
    "    SSE += (cc_ij - bottom_tier_avg_cc)^2\n",
    "end\n",
    "SSE = round(SSE, digits=2)\n",
    "println(SST)\n",
    "println(SSE)\n",
    "println(SST+SSE)"
   ]
  },
  {
   "cell_type": "markdown",
   "metadata": {},
   "source": [
    "\\begin{equation}\n",
    " MSE = {SSE \\over n - 3}\n",
    "\\end{equation}"
   ]
  },
  {
   "cell_type": "code",
   "execution_count": 50,
   "metadata": {},
   "outputs": [
    {
     "data": {
      "text/plain": [
       "7402.24"
      ]
     },
     "execution_count": 50,
     "metadata": {},
     "output_type": "execute_result"
    }
   ],
   "source": [
    "MSE = round(SSE/(n-3), digits=2)"
   ]
  },
  {
   "cell_type": "markdown",
   "metadata": {},
   "source": [
    "\\begin{equation}\n",
    " MST = {SST \\over 2}\n",
    "\\end{equation}"
   ]
  },
  {
   "cell_type": "code",
   "execution_count": 51,
   "metadata": {},
   "outputs": [
    {
     "data": {
      "text/plain": [
       "126729.38"
      ]
     },
     "execution_count": 51,
     "metadata": {},
     "output_type": "execute_result"
    }
   ],
   "source": [
    "MST = round(SST/2, digits=2)"
   ]
  },
  {
   "cell_type": "markdown",
   "metadata": {},
   "source": [
    "The $F$-test statistic is given by\n",
    "\\begin{equation}\n",
    "F = {MST \\over MSE}\n",
    "\\end{equation}"
   ]
  },
  {
   "cell_type": "code",
   "execution_count": 52,
   "metadata": {},
   "outputs": [
    {
     "data": {
      "text/plain": [
       "17.12"
      ]
     },
     "execution_count": 52,
     "metadata": {},
     "output_type": "execute_result"
    }
   ],
   "source": [
    "F = round(MST/MSE, digits=2)"
   ]
  },
  {
   "cell_type": "markdown",
   "metadata": {},
   "source": [
    "The results of the ANOVA analysis associated with the samples selected from the three tiers of schools are shown below. "
   ]
  },
  {
   "cell_type": "code",
   "execution_count": 53,
   "metadata": {},
   "outputs": [
    {
     "name": "stdout",
     "output_type": "stream",
     "text": [
      "\t   SS\t\tdf\t\t  MS\t\t F\n",
      "\t-----------------------------------------------------\n",
      "Tiers  | 253458.77\t2\t\t126729.38\t17.12\n",
      "Error  | 444134.21\t60\t\t7402.24\n",
      "Totals | 697592.98\t62\n"
     ]
    }
   ],
   "source": [
    "println(\"\\t   SS\\t\\tdf\\t\\t  MS\\t\\t F\")\n",
    "println(\"\\t-----------------------------------------------------\")\n",
    "println(\"Tiers  | $SST\\t2\\t\\t$MST\\t$F\")\n",
    "println(\"Error  | $SSE\\t$(n-3)\\t\\t$MSE\")\n",
    "println(\"Totals | $(SST+SSE)\\t$(n-1)\")"
   ]
  },
  {
   "cell_type": "markdown",
   "metadata": {},
   "source": [
    "Notice that the $F$-test statistic obtained from this analysis is $17.45$.  Because\n",
    "\\begin{equation}\n",
    "  17.45 > F_{0.05} = 3.15,\n",
    "\\end{equation}\n",
    "the null hypothesis should be rejected.  That is, with a low probability of error, the samples collected from each tier indicate that the mean curricular complexity values of the tiers are different.  This result, along with the evidence given in histograms and box-and-whisker diagram, provide strong evidence that higher quality undergraduate computer science programs have lower curricular complexity, and that lower quality undergraduate computer science programs have higher curricular complexity. "
   ]
  },
  {
   "cell_type": "markdown",
   "metadata": {},
   "source": [
    "### Notched Box Plot\n",
    "In a notched box plot the notches represent confidence intervals. Specifically, the notch provides an interval about  the median $m$ computed using:\n",
    "$$\n",
    " m \\pm 1.57 \\times IQR/\\sqrt{n_i}\n",
    "$$\n",
    "where $IQR$ is the interquartile range (the distance between the 25th and 75 percentile), and $n_i$ is number of observations in the $i$th sample.  Informally, if the notches of two boxes do not overlap on the $y$ axis, there is strong evidence (i.e., 95% confidence) their medians differ."
   ]
  },
  {
   "cell_type": "code",
   "execution_count": 17,
   "metadata": {},
   "outputs": [
    {
     "name": "stderr",
     "output_type": "stream",
     "text": [
      "┌ Warning: Boxplot's notch went outside hinges. Set notch to false.\n",
      "└ @ StatsPlots /Users/heileman/.julia/packages/StatsPlots/HJWh4/src/boxplot.jl:36\n"
     ]
    },
    {
     "data": {
      "image/svg+xml": [
       "<?xml version=\"1.0\" encoding=\"utf-8\"?>\n",
       "<svg xmlns=\"http://www.w3.org/2000/svg\" xmlns:xlink=\"http://www.w3.org/1999/xlink\" width=\"600\" height=\"400\" viewBox=\"0 0 2400 1600\">\n",
       "<defs>\n",
       "  <clipPath id=\"clip310\">\n",
       "    <rect x=\"0\" y=\"0\" width=\"2400\" height=\"1600\"/>\n",
       "  </clipPath>\n",
       "</defs>\n",
       "<path clip-path=\"url(#clip310)\" d=\"\n",
       "M0 1600 L2400 1600 L2400 0 L0 0  Z\n",
       "  \" fill=\"#ffffff\" fill-rule=\"evenodd\" fill-opacity=\"1\"/>\n",
       "<defs>\n",
       "  <clipPath id=\"clip311\">\n",
       "    <rect x=\"480\" y=\"0\" width=\"1681\" height=\"1600\"/>\n",
       "  </clipPath>\n",
       "</defs>\n",
       "<path clip-path=\"url(#clip310)\" d=\"\n",
       "M229.473 1423.18 L2352.76 1423.18 L2352.76 123.472 L229.473 123.472  Z\n",
       "  \" fill=\"#ffffff\" fill-rule=\"evenodd\" fill-opacity=\"1\"/>\n",
       "<defs>\n",
       "  <clipPath id=\"clip312\">\n",
       "    <rect x=\"229\" y=\"123\" width=\"2124\" height=\"1301\"/>\n",
       "  </clipPath>\n",
       "</defs>\n",
       "<polyline clip-path=\"url(#clip312)\" style=\"stroke:#000000; stroke-width:2; stroke-opacity:0.1; fill:none\" points=\"\n",
       "  512.132,1423.18 512.132,123.472 \n",
       "  \"/>\n",
       "<polyline clip-path=\"url(#clip312)\" style=\"stroke:#000000; stroke-width:2; stroke-opacity:0.1; fill:none\" points=\"\n",
       "  1291.11,1423.18 1291.11,123.472 \n",
       "  \"/>\n",
       "<polyline clip-path=\"url(#clip312)\" style=\"stroke:#000000; stroke-width:2; stroke-opacity:0.1; fill:none\" points=\"\n",
       "  2070.1,1423.18 2070.1,123.472 \n",
       "  \"/>\n",
       "<polyline clip-path=\"url(#clip312)\" style=\"stroke:#000000; stroke-width:2; stroke-opacity:0.1; fill:none\" points=\"\n",
       "  229.473,1273.24 2352.76,1273.24 \n",
       "  \"/>\n",
       "<polyline clip-path=\"url(#clip312)\" style=\"stroke:#000000; stroke-width:2; stroke-opacity:0.1; fill:none\" points=\"\n",
       "  229.473,1008.25 2352.76,1008.25 \n",
       "  \"/>\n",
       "<polyline clip-path=\"url(#clip312)\" style=\"stroke:#000000; stroke-width:2; stroke-opacity:0.1; fill:none\" points=\"\n",
       "  229.473,743.249 2352.76,743.249 \n",
       "  \"/>\n",
       "<polyline clip-path=\"url(#clip312)\" style=\"stroke:#000000; stroke-width:2; stroke-opacity:0.1; fill:none\" points=\"\n",
       "  229.473,478.252 2352.76,478.252 \n",
       "  \"/>\n",
       "<polyline clip-path=\"url(#clip312)\" style=\"stroke:#000000; stroke-width:2; stroke-opacity:0.1; fill:none\" points=\"\n",
       "  229.473,213.256 2352.76,213.256 \n",
       "  \"/>\n",
       "<polyline clip-path=\"url(#clip310)\" style=\"stroke:#000000; stroke-width:4; stroke-opacity:1; fill:none\" points=\"\n",
       "  229.473,1423.18 2352.76,1423.18 \n",
       "  \"/>\n",
       "<polyline clip-path=\"url(#clip310)\" style=\"stroke:#000000; stroke-width:4; stroke-opacity:1; fill:none\" points=\"\n",
       "  229.473,1423.18 229.473,123.472 \n",
       "  \"/>\n",
       "<polyline clip-path=\"url(#clip310)\" style=\"stroke:#000000; stroke-width:4; stroke-opacity:1; fill:none\" points=\"\n",
       "  512.132,1423.18 512.132,1407.58 \n",
       "  \"/>\n",
       "<polyline clip-path=\"url(#clip310)\" style=\"stroke:#000000; stroke-width:4; stroke-opacity:1; fill:none\" points=\"\n",
       "  1291.11,1423.18 1291.11,1407.58 \n",
       "  \"/>\n",
       "<polyline clip-path=\"url(#clip310)\" style=\"stroke:#000000; stroke-width:4; stroke-opacity:1; fill:none\" points=\"\n",
       "  2070.1,1423.18 2070.1,1407.58 \n",
       "  \"/>\n",
       "<polyline clip-path=\"url(#clip310)\" style=\"stroke:#000000; stroke-width:4; stroke-opacity:1; fill:none\" points=\"\n",
       "  229.473,1273.24 254.952,1273.24 \n",
       "  \"/>\n",
       "<polyline clip-path=\"url(#clip310)\" style=\"stroke:#000000; stroke-width:4; stroke-opacity:1; fill:none\" points=\"\n",
       "  229.473,1008.25 254.952,1008.25 \n",
       "  \"/>\n",
       "<polyline clip-path=\"url(#clip310)\" style=\"stroke:#000000; stroke-width:4; stroke-opacity:1; fill:none\" points=\"\n",
       "  229.473,743.249 254.952,743.249 \n",
       "  \"/>\n",
       "<polyline clip-path=\"url(#clip310)\" style=\"stroke:#000000; stroke-width:4; stroke-opacity:1; fill:none\" points=\"\n",
       "  229.473,478.252 254.952,478.252 \n",
       "  \"/>\n",
       "<polyline clip-path=\"url(#clip310)\" style=\"stroke:#000000; stroke-width:4; stroke-opacity:1; fill:none\" points=\"\n",
       "  229.473,213.256 254.952,213.256 \n",
       "  \"/>\n",
       "<path clip-path=\"url(#clip310)\" d=\"M 0 0 M484.493 1443.36 L484.493 1450.73 L493.266 1450.73 L493.266 1454.04 L484.493 1454.04 L484.493 1468.11 Q484.493 1471.28 485.35 1472.18 Q486.229 1473.09 488.891 1473.09 L493.266 1473.09 L493.266 1476.65 L488.891 1476.65 Q483.961 1476.65 482.086 1474.82 Q480.211 1472.97 480.211 1468.11 L480.211 1454.04 L477.086 1454.04 L477.086 1450.73 L480.211 1450.73 L480.211 1443.36 L484.493 1443.36 Z\" fill=\"#000000\" fill-rule=\"evenodd\" fill-opacity=\"1\" /><path clip-path=\"url(#clip310)\" d=\"M 0 0 M507.78 1453.71 Q504.354 1453.71 502.364 1456.4 Q500.373 1459.06 500.373 1463.71 Q500.373 1468.36 502.34 1471.05 Q504.331 1473.71 507.78 1473.71 Q511.183 1473.71 513.174 1471.03 Q515.164 1468.34 515.164 1463.71 Q515.164 1459.11 513.174 1456.42 Q511.183 1453.71 507.78 1453.71 M507.78 1450.1 Q513.336 1450.1 516.507 1453.71 Q519.678 1457.32 519.678 1463.71 Q519.678 1470.08 516.507 1473.71 Q513.336 1477.32 507.78 1477.32 Q502.201 1477.32 499.03 1473.71 Q495.882 1470.08 495.882 1463.71 Q495.882 1457.32 499.03 1453.71 Q502.201 1450.1 507.78 1450.1 Z\" fill=\"#000000\" fill-rule=\"evenodd\" fill-opacity=\"1\" /><path clip-path=\"url(#clip310)\" d=\"M 0 0 M528.266 1472.76 L528.266 1486.51 L523.984 1486.51 L523.984 1450.73 L528.266 1450.73 L528.266 1454.66 Q529.609 1452.35 531.646 1451.24 Q533.706 1450.1 536.553 1450.1 Q541.275 1450.1 544.215 1453.85 Q547.178 1457.6 547.178 1463.71 Q547.178 1469.82 544.215 1473.57 Q541.275 1477.32 536.553 1477.32 Q533.706 1477.32 531.646 1476.21 Q529.609 1475.08 528.266 1472.76 M542.757 1463.71 Q542.757 1459.01 540.812 1456.35 Q538.891 1453.67 535.511 1453.67 Q532.132 1453.67 530.187 1456.35 Q528.266 1459.01 528.266 1463.71 Q528.266 1468.41 530.187 1471.1 Q532.132 1473.76 535.511 1473.76 Q538.891 1473.76 540.812 1471.1 Q542.757 1468.41 542.757 1463.71 Z\" fill=\"#000000\" fill-rule=\"evenodd\" fill-opacity=\"1\" /><path clip-path=\"url(#clip310)\" d=\"M 0 0 M1244.7 1455.7 Q1246.3 1452.83 1248.52 1451.47 Q1250.74 1450.1 1253.75 1450.1 Q1257.8 1450.1 1260 1452.95 Q1262.2 1455.77 1262.2 1461 L1262.2 1476.65 L1257.92 1476.65 L1257.92 1461.14 Q1257.92 1457.42 1256.6 1455.61 Q1255.28 1453.8 1252.57 1453.8 Q1249.26 1453.8 1247.34 1456 Q1245.42 1458.2 1245.42 1462 L1245.42 1476.65 L1241.14 1476.65 L1241.14 1461.14 Q1241.14 1457.39 1239.82 1455.61 Q1238.5 1453.8 1235.74 1453.8 Q1232.48 1453.8 1230.56 1456.03 Q1228.64 1458.23 1228.64 1462 L1228.64 1476.65 L1224.36 1476.65 L1224.36 1450.73 L1228.64 1450.73 L1228.64 1454.75 Q1230.1 1452.37 1232.13 1451.24 Q1234.17 1450.1 1236.97 1450.1 Q1239.8 1450.1 1241.76 1451.54 Q1243.75 1452.97 1244.7 1455.7 Z\" fill=\"#000000\" fill-rule=\"evenodd\" fill-opacity=\"1\" /><path clip-path=\"url(#clip310)\" d=\"M 0 0 M1266.67 1450.73 L1270.93 1450.73 L1270.93 1476.65 L1266.67 1476.65 L1266.67 1450.73 M1266.67 1440.63 L1270.93 1440.63 L1270.93 1446.03 L1266.67 1446.03 L1266.67 1440.63 Z\" fill=\"#000000\" fill-rule=\"evenodd\" fill-opacity=\"1\" /><path clip-path=\"url(#clip310)\" d=\"M 0 0 M1292.46 1454.66 L1292.46 1440.63 L1296.72 1440.63 L1296.72 1476.65 L1292.46 1476.65 L1292.46 1472.76 Q1291.11 1475.08 1289.05 1476.21 Q1287.02 1477.32 1284.15 1477.32 Q1279.45 1477.32 1276.48 1473.57 Q1273.54 1469.82 1273.54 1463.71 Q1273.54 1457.6 1276.48 1453.85 Q1279.45 1450.1 1284.15 1450.1 Q1287.02 1450.1 1289.05 1451.24 Q1291.11 1452.35 1292.46 1454.66 M1277.94 1463.71 Q1277.94 1468.41 1279.86 1471.1 Q1281.81 1473.76 1285.19 1473.76 Q1288.57 1473.76 1290.51 1471.1 Q1292.46 1468.41 1292.46 1463.71 Q1292.46 1459.01 1290.51 1456.35 Q1288.57 1453.67 1285.19 1453.67 Q1281.81 1453.67 1279.86 1456.35 Q1277.94 1459.01 1277.94 1463.71 Z\" fill=\"#000000\" fill-rule=\"evenodd\" fill-opacity=\"1\" /><path clip-path=\"url(#clip310)\" d=\"M 0 0 M1318.24 1454.66 L1318.24 1440.63 L1322.5 1440.63 L1322.5 1476.65 L1318.24 1476.65 L1318.24 1472.76 Q1316.9 1475.08 1314.84 1476.21 Q1312.8 1477.32 1309.93 1477.32 Q1305.23 1477.32 1302.27 1473.57 Q1299.33 1469.82 1299.33 1463.71 Q1299.33 1457.6 1302.27 1453.85 Q1305.23 1450.1 1309.93 1450.1 Q1312.8 1450.1 1314.84 1451.24 Q1316.9 1452.35 1318.24 1454.66 M1303.73 1463.71 Q1303.73 1468.41 1305.65 1471.1 Q1307.6 1473.76 1310.98 1473.76 Q1314.35 1473.76 1316.3 1471.1 Q1318.24 1468.41 1318.24 1463.71 Q1318.24 1459.01 1316.3 1456.35 Q1314.35 1453.67 1310.98 1453.67 Q1307.6 1453.67 1305.65 1456.35 Q1303.73 1459.01 1303.73 1463.71 Z\" fill=\"#000000\" fill-rule=\"evenodd\" fill-opacity=\"1\" /><path clip-path=\"url(#clip310)\" d=\"M 0 0 M1326.97 1440.63 L1331.23 1440.63 L1331.23 1476.65 L1326.97 1476.65 L1326.97 1440.63 Z\" fill=\"#000000\" fill-rule=\"evenodd\" fill-opacity=\"1\" /><path clip-path=\"url(#clip310)\" d=\"M 0 0 M1357.87 1462.62 L1357.87 1464.71 L1338.29 1464.71 Q1338.57 1469.11 1340.93 1471.42 Q1343.31 1473.71 1347.55 1473.71 Q1350 1473.71 1352.29 1473.11 Q1354.61 1472.51 1356.88 1471.3 L1356.88 1475.33 Q1354.59 1476.3 1352.18 1476.81 Q1349.77 1477.32 1347.29 1477.32 Q1341.09 1477.32 1337.46 1473.71 Q1333.85 1470.1 1333.85 1463.94 Q1333.85 1457.58 1337.27 1453.85 Q1340.72 1450.1 1346.55 1450.1 Q1351.79 1450.1 1354.82 1453.48 Q1357.87 1456.84 1357.87 1462.62 M1353.61 1461.37 Q1353.57 1457.88 1351.65 1455.8 Q1349.75 1453.71 1346.6 1453.71 Q1343.04 1453.71 1340.88 1455.73 Q1338.75 1457.74 1338.43 1461.4 L1353.61 1461.37 Z\" fill=\"#000000\" fill-rule=\"evenodd\" fill-opacity=\"1\" /><path clip-path=\"url(#clip310)\" d=\"M 0 0 M2012.33 1463.71 Q2012.33 1459.01 2010.39 1456.35 Q2008.46 1453.67 2005.09 1453.67 Q2001.71 1453.67 1999.76 1456.35 Q1997.84 1459.01 1997.84 1463.71 Q1997.84 1468.41 1999.76 1471.1 Q2001.71 1473.76 2005.09 1473.76 Q2008.46 1473.76 2010.39 1471.1 Q2012.33 1468.41 2012.33 1463.71 M1997.84 1454.66 Q1999.18 1452.35 2001.22 1451.24 Q2003.28 1450.1 2006.13 1450.1 Q2010.85 1450.1 2013.79 1453.85 Q2016.75 1457.6 2016.75 1463.71 Q2016.75 1469.82 2013.79 1473.57 Q2010.85 1477.32 2006.13 1477.32 Q2003.28 1477.32 2001.22 1476.21 Q1999.18 1475.08 1997.84 1472.76 L1997.84 1476.65 L1993.56 1476.65 L1993.56 1440.63 L1997.84 1440.63 L1997.84 1454.66 Z\" fill=\"#000000\" fill-rule=\"evenodd\" fill-opacity=\"1\" /><path clip-path=\"url(#clip310)\" d=\"M 0 0 M2031.27 1453.71 Q2027.84 1453.71 2025.85 1456.4 Q2023.86 1459.06 2023.86 1463.71 Q2023.86 1468.36 2025.83 1471.05 Q2027.82 1473.71 2031.27 1473.71 Q2034.67 1473.71 2036.66 1471.03 Q2038.65 1468.34 2038.65 1463.71 Q2038.65 1459.11 2036.66 1456.42 Q2034.67 1453.71 2031.27 1453.71 M2031.27 1450.1 Q2036.82 1450.1 2039.99 1453.71 Q2043.16 1457.32 2043.16 1463.71 Q2043.16 1470.08 2039.99 1473.71 Q2036.82 1477.32 2031.27 1477.32 Q2025.69 1477.32 2022.52 1473.71 Q2019.37 1470.08 2019.37 1463.71 Q2019.37 1457.32 2022.52 1453.71 Q2025.69 1450.1 2031.27 1450.1 Z\" fill=\"#000000\" fill-rule=\"evenodd\" fill-opacity=\"1\" /><path clip-path=\"url(#clip310)\" d=\"M 0 0 M2051.84 1443.36 L2051.84 1450.73 L2060.62 1450.73 L2060.62 1454.04 L2051.84 1454.04 L2051.84 1468.11 Q2051.84 1471.28 2052.7 1472.18 Q2053.58 1473.09 2056.24 1473.09 L2060.62 1473.09 L2060.62 1476.65 L2056.24 1476.65 Q2051.31 1476.65 2049.44 1474.82 Q2047.56 1472.97 2047.56 1468.11 L2047.56 1454.04 L2044.44 1454.04 L2044.44 1450.73 L2047.56 1450.73 L2047.56 1443.36 L2051.84 1443.36 Z\" fill=\"#000000\" fill-rule=\"evenodd\" fill-opacity=\"1\" /><path clip-path=\"url(#clip310)\" d=\"M 0 0 M2069.3 1443.36 L2069.3 1450.73 L2078.07 1450.73 L2078.07 1454.04 L2069.3 1454.04 L2069.3 1468.11 Q2069.3 1471.28 2070.15 1472.18 Q2071.03 1473.09 2073.7 1473.09 L2078.07 1473.09 L2078.07 1476.65 L2073.7 1476.65 Q2068.77 1476.65 2066.89 1474.82 Q2065.02 1472.97 2065.02 1468.11 L2065.02 1454.04 L2061.89 1454.04 L2061.89 1450.73 L2065.02 1450.73 L2065.02 1443.36 L2069.3 1443.36 Z\" fill=\"#000000\" fill-rule=\"evenodd\" fill-opacity=\"1\" /><path clip-path=\"url(#clip310)\" d=\"M 0 0 M2092.58 1453.71 Q2089.16 1453.71 2087.17 1456.4 Q2085.18 1459.06 2085.18 1463.71 Q2085.18 1468.36 2087.15 1471.05 Q2089.14 1473.71 2092.58 1473.71 Q2095.99 1473.71 2097.98 1471.03 Q2099.97 1468.34 2099.97 1463.71 Q2099.97 1459.11 2097.98 1456.42 Q2095.99 1453.71 2092.58 1453.71 M2092.58 1450.1 Q2098.14 1450.1 2101.31 1453.71 Q2104.48 1457.32 2104.48 1463.71 Q2104.48 1470.08 2101.31 1473.71 Q2098.14 1477.32 2092.58 1477.32 Q2087.01 1477.32 2083.83 1473.71 Q2080.69 1470.08 2080.69 1463.71 Q2080.69 1457.32 2083.83 1453.71 Q2087.01 1450.1 2092.58 1450.1 Z\" fill=\"#000000\" fill-rule=\"evenodd\" fill-opacity=\"1\" /><path clip-path=\"url(#clip310)\" d=\"M 0 0 M2129.14 1455.7 Q2130.73 1452.83 2132.96 1451.47 Q2135.18 1450.1 2138.19 1450.1 Q2142.24 1450.1 2144.44 1452.95 Q2146.64 1455.77 2146.64 1461 L2146.64 1476.65 L2142.35 1476.65 L2142.35 1461.14 Q2142.35 1457.42 2141.03 1455.61 Q2139.71 1453.8 2137.01 1453.8 Q2133.7 1453.8 2131.77 1456 Q2129.85 1458.2 2129.85 1462 L2129.85 1476.65 L2125.57 1476.65 L2125.57 1461.14 Q2125.57 1457.39 2124.25 1455.61 Q2122.93 1453.8 2120.18 1453.8 Q2116.91 1453.8 2114.99 1456.03 Q2113.07 1458.23 2113.07 1462 L2113.07 1476.65 L2108.79 1476.65 L2108.79 1450.73 L2113.07 1450.73 L2113.07 1454.75 Q2114.53 1452.37 2116.57 1451.24 Q2118.6 1450.1 2121.4 1450.1 Q2124.23 1450.1 2126.2 1451.54 Q2128.19 1452.97 2129.14 1455.7 Z\" fill=\"#000000\" fill-rule=\"evenodd\" fill-opacity=\"1\" /><path clip-path=\"url(#clip310)\" d=\"M 0 0 M131.538 1286.59 L139.177 1286.59 L139.177 1260.22 L130.867 1261.89 L130.867 1257.63 L139.13 1255.96 L143.806 1255.96 L143.806 1286.59 L151.445 1286.59 L151.445 1290.52 L131.538 1290.52 L131.538 1286.59 Z\" fill=\"#000000\" fill-rule=\"evenodd\" fill-opacity=\"1\" /><path clip-path=\"url(#clip310)\" d=\"M 0 0 M166.515 1259.04 Q162.903 1259.04 161.075 1262.61 Q159.269 1266.15 159.269 1273.28 Q159.269 1280.38 161.075 1283.95 Q162.903 1287.49 166.515 1287.49 Q170.149 1287.49 171.954 1283.95 Q173.783 1280.38 173.783 1273.28 Q173.783 1266.15 171.954 1262.61 Q170.149 1259.04 166.515 1259.04 M166.515 1255.34 Q172.325 1255.34 175.38 1259.94 Q178.459 1264.53 178.459 1273.28 Q178.459 1282 175.38 1286.61 Q172.325 1291.19 166.515 1291.19 Q160.704 1291.19 157.626 1286.61 Q154.57 1282 154.57 1273.28 Q154.57 1264.53 157.626 1259.94 Q160.704 1255.34 166.515 1255.34 Z\" fill=\"#000000\" fill-rule=\"evenodd\" fill-opacity=\"1\" /><path clip-path=\"url(#clip310)\" d=\"M 0 0 M193.528 1259.04 Q189.917 1259.04 188.089 1262.61 Q186.283 1266.15 186.283 1273.28 Q186.283 1280.38 188.089 1283.95 Q189.917 1287.49 193.528 1287.49 Q197.163 1287.49 198.968 1283.95 Q200.797 1280.38 200.797 1273.28 Q200.797 1266.15 198.968 1262.61 Q197.163 1259.04 193.528 1259.04 M193.528 1255.34 Q199.338 1255.34 202.394 1259.94 Q205.473 1264.53 205.473 1273.28 Q205.473 1282 202.394 1286.61 Q199.338 1291.19 193.528 1291.19 Q187.718 1291.19 184.639 1286.61 Q181.584 1282 181.584 1273.28 Q181.584 1264.53 184.639 1259.94 Q187.718 1255.34 193.528 1255.34 Z\" fill=\"#000000\" fill-rule=\"evenodd\" fill-opacity=\"1\" /><path clip-path=\"url(#clip310)\" d=\"M 0 0 M135.126 1021.59 L151.445 1021.59 L151.445 1025.53 L129.501 1025.53 L129.501 1021.59 Q132.163 1018.84 136.746 1014.21 Q141.353 1009.55 142.533 1008.21 Q144.779 1005.69 145.658 1003.95 Q146.561 1002.19 146.561 1000.5 Q146.561 997.748 144.617 996.012 Q142.695 994.276 139.593 994.276 Q137.394 994.276 134.941 995.04 Q132.51 995.803 129.732 997.354 L129.732 992.632 Q132.556 991.498 135.01 990.919 Q137.464 990.34 139.501 990.34 Q144.871 990.34 148.066 993.026 Q151.26 995.711 151.26 1000.2 Q151.26 1002.33 150.45 1004.25 Q149.663 1006.15 147.556 1008.74 Q146.978 1009.41 143.876 1012.63 Q140.774 1015.83 135.126 1021.59 Z\" fill=\"#000000\" fill-rule=\"evenodd\" fill-opacity=\"1\" /><path clip-path=\"url(#clip310)\" d=\"M 0 0 M166.515 994.044 Q162.903 994.044 161.075 997.609 Q159.269 1001.15 159.269 1008.28 Q159.269 1015.39 161.075 1018.95 Q162.903 1022.49 166.515 1022.49 Q170.149 1022.49 171.954 1018.95 Q173.783 1015.39 173.783 1008.28 Q173.783 1001.15 171.954 997.609 Q170.149 994.044 166.515 994.044 M166.515 990.34 Q172.325 990.34 175.38 994.947 Q178.459 999.53 178.459 1008.28 Q178.459 1017.01 175.38 1021.61 Q172.325 1026.2 166.515 1026.2 Q160.704 1026.2 157.626 1021.61 Q154.57 1017.01 154.57 1008.28 Q154.57 999.53 157.626 994.947 Q160.704 990.34 166.515 990.34 Z\" fill=\"#000000\" fill-rule=\"evenodd\" fill-opacity=\"1\" /><path clip-path=\"url(#clip310)\" d=\"M 0 0 M193.528 994.044 Q189.917 994.044 188.089 997.609 Q186.283 1001.15 186.283 1008.28 Q186.283 1015.39 188.089 1018.95 Q189.917 1022.49 193.528 1022.49 Q197.163 1022.49 198.968 1018.95 Q200.797 1015.39 200.797 1008.28 Q200.797 1001.15 198.968 997.609 Q197.163 994.044 193.528 994.044 M193.528 990.34 Q199.338 990.34 202.394 994.947 Q205.473 999.53 205.473 1008.28 Q205.473 1017.01 202.394 1021.61 Q199.338 1026.2 193.528 1026.2 Q187.718 1026.2 184.639 1021.61 Q181.584 1017.01 181.584 1008.28 Q181.584 999.53 184.639 994.947 Q187.718 990.34 193.528 990.34 Z\" fill=\"#000000\" fill-rule=\"evenodd\" fill-opacity=\"1\" /><path clip-path=\"url(#clip310)\" d=\"M 0 0 M144.316 741.895 Q147.672 742.612 149.547 744.881 Q151.445 747.149 151.445 750.483 Q151.445 755.598 147.927 758.399 Q144.408 761.2 137.927 761.2 Q135.751 761.2 133.436 760.76 Q131.144 760.344 128.691 759.487 L128.691 754.973 Q130.635 756.108 132.95 756.686 Q135.265 757.265 137.788 757.265 Q142.186 757.265 144.478 755.529 Q146.792 753.793 146.792 750.483 Q146.792 747.427 144.64 745.714 Q142.51 743.978 138.691 743.978 L134.663 743.978 L134.663 740.135 L138.876 740.135 Q142.325 740.135 144.154 738.77 Q145.982 737.381 145.982 734.788 Q145.982 732.126 144.084 730.714 Q142.209 729.279 138.691 729.279 Q136.769 729.279 134.57 729.696 Q132.371 730.112 129.732 730.992 L129.732 726.825 Q132.394 726.085 134.709 725.714 Q137.047 725.344 139.107 725.344 Q144.431 725.344 147.533 727.774 Q150.635 730.182 150.635 734.302 Q150.635 737.173 148.992 739.163 Q147.348 741.131 144.316 741.895 Z\" fill=\"#000000\" fill-rule=\"evenodd\" fill-opacity=\"1\" /><path clip-path=\"url(#clip310)\" d=\"M 0 0 M166.515 729.048 Q162.903 729.048 161.075 732.612 Q159.269 736.154 159.269 743.284 Q159.269 750.39 161.075 753.955 Q162.903 757.496 166.515 757.496 Q170.149 757.496 171.954 753.955 Q173.783 750.39 173.783 743.284 Q173.783 736.154 171.954 732.612 Q170.149 729.048 166.515 729.048 M166.515 725.344 Q172.325 725.344 175.38 729.95 Q178.459 734.534 178.459 743.284 Q178.459 752.01 175.38 756.617 Q172.325 761.2 166.515 761.2 Q160.704 761.2 157.626 756.617 Q154.57 752.01 154.57 743.284 Q154.57 734.534 157.626 729.95 Q160.704 725.344 166.515 725.344 Z\" fill=\"#000000\" fill-rule=\"evenodd\" fill-opacity=\"1\" /><path clip-path=\"url(#clip310)\" d=\"M 0 0 M193.528 729.048 Q189.917 729.048 188.089 732.612 Q186.283 736.154 186.283 743.284 Q186.283 750.39 188.089 753.955 Q189.917 757.496 193.528 757.496 Q197.163 757.496 198.968 753.955 Q200.797 750.39 200.797 743.284 Q200.797 736.154 198.968 732.612 Q197.163 729.048 193.528 729.048 M193.528 725.344 Q199.338 725.344 202.394 729.95 Q205.473 734.534 205.473 743.284 Q205.473 752.01 202.394 756.617 Q199.338 761.2 193.528 761.2 Q187.718 761.2 184.639 756.617 Q181.584 752.01 181.584 743.284 Q181.584 734.534 184.639 729.95 Q187.718 725.344 193.528 725.344 Z\" fill=\"#000000\" fill-rule=\"evenodd\" fill-opacity=\"1\" /><path clip-path=\"url(#clip310)\" d=\"M 0 0 M141.862 465.046 L130.056 483.495 L141.862 483.495 L141.862 465.046 M140.635 460.972 L146.515 460.972 L146.515 483.495 L151.445 483.495 L151.445 487.384 L146.515 487.384 L146.515 495.532 L141.862 495.532 L141.862 487.384 L126.26 487.384 L126.26 482.87 L140.635 460.972 Z\" fill=\"#000000\" fill-rule=\"evenodd\" fill-opacity=\"1\" /><path clip-path=\"url(#clip310)\" d=\"M 0 0 M166.515 464.051 Q162.903 464.051 161.075 467.616 Q159.269 471.157 159.269 478.287 Q159.269 485.393 161.075 488.958 Q162.903 492.5 166.515 492.5 Q170.149 492.5 171.954 488.958 Q173.783 485.393 173.783 478.287 Q173.783 471.157 171.954 467.616 Q170.149 464.051 166.515 464.051 M166.515 460.347 Q172.325 460.347 175.38 464.954 Q178.459 469.537 178.459 478.287 Q178.459 487.014 175.38 491.62 Q172.325 496.204 166.515 496.204 Q160.704 496.204 157.626 491.62 Q154.57 487.014 154.57 478.287 Q154.57 469.537 157.626 464.954 Q160.704 460.347 166.515 460.347 Z\" fill=\"#000000\" fill-rule=\"evenodd\" fill-opacity=\"1\" /><path clip-path=\"url(#clip310)\" d=\"M 0 0 M193.528 464.051 Q189.917 464.051 188.089 467.616 Q186.283 471.157 186.283 478.287 Q186.283 485.393 188.089 488.958 Q189.917 492.5 193.528 492.5 Q197.163 492.5 198.968 488.958 Q200.797 485.393 200.797 478.287 Q200.797 471.157 198.968 467.616 Q197.163 464.051 193.528 464.051 M193.528 460.347 Q199.338 460.347 202.394 464.954 Q205.473 469.537 205.473 478.287 Q205.473 487.014 202.394 491.62 Q199.338 496.204 193.528 496.204 Q187.718 496.204 184.639 491.62 Q181.584 487.014 181.584 478.287 Q181.584 469.537 184.639 464.954 Q187.718 460.347 193.528 460.347 Z\" fill=\"#000000\" fill-rule=\"evenodd\" fill-opacity=\"1\" /><path clip-path=\"url(#clip310)\" d=\"M 0 0 M130.543 195.976 L148.899 195.976 L148.899 199.911 L134.825 199.911 L134.825 208.383 Q135.843 208.036 136.862 207.874 Q137.88 207.689 138.899 207.689 Q144.686 207.689 148.066 210.86 Q151.445 214.031 151.445 219.448 Q151.445 225.026 147.973 228.128 Q144.501 231.207 138.181 231.207 Q136.005 231.207 133.737 230.837 Q131.492 230.466 129.084 229.725 L129.084 225.026 Q131.168 226.161 133.39 226.716 Q135.612 227.272 138.089 227.272 Q142.093 227.272 144.431 225.165 Q146.769 223.059 146.769 219.448 Q146.769 215.837 144.431 213.73 Q142.093 211.624 138.089 211.624 Q136.214 211.624 134.339 212.04 Q132.487 212.457 130.543 213.337 L130.543 195.976 Z\" fill=\"#000000\" fill-rule=\"evenodd\" fill-opacity=\"1\" /><path clip-path=\"url(#clip310)\" d=\"M 0 0 M166.515 199.054 Q162.903 199.054 161.075 202.619 Q159.269 206.161 159.269 213.29 Q159.269 220.397 161.075 223.962 Q162.903 227.503 166.515 227.503 Q170.149 227.503 171.954 223.962 Q173.783 220.397 173.783 213.29 Q173.783 206.161 171.954 202.619 Q170.149 199.054 166.515 199.054 M166.515 195.351 Q172.325 195.351 175.38 199.957 Q178.459 204.54 178.459 213.29 Q178.459 222.017 175.38 226.624 Q172.325 231.207 166.515 231.207 Q160.704 231.207 157.626 226.624 Q154.57 222.017 154.57 213.29 Q154.57 204.54 157.626 199.957 Q160.704 195.351 166.515 195.351 Z\" fill=\"#000000\" fill-rule=\"evenodd\" fill-opacity=\"1\" /><path clip-path=\"url(#clip310)\" d=\"M 0 0 M193.528 199.054 Q189.917 199.054 188.089 202.619 Q186.283 206.161 186.283 213.29 Q186.283 220.397 188.089 223.962 Q189.917 227.503 193.528 227.503 Q197.163 227.503 198.968 223.962 Q200.797 220.397 200.797 213.29 Q200.797 206.161 198.968 202.619 Q197.163 199.054 193.528 199.054 M193.528 195.351 Q199.338 195.351 202.394 199.957 Q205.473 204.54 205.473 213.29 Q205.473 222.017 202.394 226.624 Q199.338 231.207 193.528 231.207 Q187.718 231.207 184.639 226.624 Q181.584 222.017 181.584 213.29 Q181.584 204.54 184.639 199.957 Q187.718 195.351 193.528 195.351 Z\" fill=\"#000000\" fill-rule=\"evenodd\" fill-opacity=\"1\" /><path clip-path=\"url(#clip310)\" d=\"M 0 0 M708.797 12.096 L747.037 12.096 L747.037 18.9825 L716.98 18.9825 L716.98 36.8875 L745.782 36.8875 L745.782 43.7741 L716.98 43.7741 L716.98 65.6895 L747.767 65.6895 L747.767 72.576 L708.797 72.576 L708.797 12.096 Z\" fill=\"#000000\" fill-rule=\"evenodd\" fill-opacity=\"1\" /><path clip-path=\"url(#clip310)\" d=\"M 0 0 M755.585 9.54393 L763.038 9.54393 L763.038 72.576 L755.585 72.576 L755.585 9.54393 Z\" fill=\"#000000\" fill-rule=\"evenodd\" fill-opacity=\"1\" /><path clip-path=\"url(#clip310)\" d=\"M 0 0 M809.664 48.0275 L809.664 51.6733 L775.394 51.6733 Q775.88 59.3701 780.012 63.421 Q784.184 67.4314 791.597 67.4314 Q795.891 67.4314 799.902 66.3781 Q803.953 65.3249 807.922 63.2184 L807.922 70.267 Q803.912 71.9684 799.699 72.8596 Q795.486 73.7508 791.152 73.7508 Q780.295 73.7508 773.935 67.4314 Q767.616 61.1119 767.616 50.3365 Q767.616 39.1965 773.611 32.6746 Q779.647 26.1121 789.855 26.1121 Q799.01 26.1121 804.317 32.0264 Q809.664 37.9003 809.664 48.0275 M802.211 45.84 Q802.13 39.7232 798.767 36.0774 Q795.446 32.4315 789.936 32.4315 Q783.698 32.4315 779.931 35.9558 Q776.204 39.4801 775.637 45.8805 L802.211 45.84 Z\" fill=\"#000000\" fill-rule=\"evenodd\" fill-opacity=\"1\" /><path clip-path=\"url(#clip310)\" d=\"M 0 0 M850.133 28.9478 L850.133 35.9153 Q846.973 34.1734 843.773 33.3227 Q840.613 32.4315 837.373 32.4315 Q830.121 32.4315 826.111 37.0496 Q822.101 41.6271 822.101 49.9314 Q822.101 58.2358 826.111 62.8538 Q830.121 67.4314 837.373 67.4314 Q840.613 67.4314 843.773 66.5807 Q846.973 65.6895 850.133 63.9476 L850.133 70.8341 Q847.014 72.2924 843.651 73.0216 Q840.33 73.7508 836.562 73.7508 Q826.314 73.7508 820.278 67.3098 Q814.242 60.8689 814.242 49.9314 Q814.242 38.832 820.318 32.472 Q826.435 26.1121 837.048 26.1121 Q840.492 26.1121 843.773 26.8413 Q847.054 27.5299 850.133 28.9478 Z\" fill=\"#000000\" fill-rule=\"evenodd\" fill-opacity=\"1\" /><path clip-path=\"url(#clip310)\" d=\"M 0 0 M865.324 14.324 L865.324 27.2059 L880.677 27.2059 L880.677 32.9987 L865.324 32.9987 L865.324 57.6282 Q865.324 63.1779 866.823 64.7578 Q868.362 66.3376 873.02 66.3376 L880.677 66.3376 L880.677 72.576 L873.02 72.576 Q864.392 72.576 861.111 69.3758 Q857.83 66.1351 857.83 57.6282 L857.83 32.9987 L852.361 32.9987 L852.361 27.2059 L857.83 27.2059 L857.83 14.324 L865.324 14.324 Z\" fill=\"#000000\" fill-rule=\"evenodd\" fill-opacity=\"1\" /><path clip-path=\"url(#clip310)\" d=\"M 0 0 M914.785 34.1734 Q913.53 33.4443 912.031 33.1202 Q910.572 32.7556 908.79 32.7556 Q902.471 32.7556 899.068 36.8875 Q895.706 40.9789 895.706 48.6757 L895.706 72.576 L888.211 72.576 L888.211 27.2059 L895.706 27.2059 L895.706 34.2544 Q898.055 30.1225 901.822 28.1376 Q905.59 26.1121 910.977 26.1121 Q911.747 26.1121 912.679 26.2337 Q913.611 26.3147 914.745 26.5172 L914.785 34.1734 Z\" fill=\"#000000\" fill-rule=\"evenodd\" fill-opacity=\"1\" /><path clip-path=\"url(#clip310)\" d=\"M 0 0 M922.604 27.2059 L930.057 27.2059 L930.057 72.576 L922.604 72.576 L922.604 27.2059 M922.604 9.54393 L930.057 9.54393 L930.057 18.9825 L922.604 18.9825 L922.604 9.54393 Z\" fill=\"#000000\" fill-rule=\"evenodd\" fill-opacity=\"1\" /><path clip-path=\"url(#clip310)\" d=\"M 0 0 M970.526 28.9478 L970.526 35.9153 Q967.366 34.1734 964.166 33.3227 Q961.006 32.4315 957.765 32.4315 Q950.514 32.4315 946.504 37.0496 Q942.493 41.6271 942.493 49.9314 Q942.493 58.2358 946.504 62.8538 Q950.514 67.4314 957.765 67.4314 Q961.006 67.4314 964.166 66.5807 Q967.366 65.6895 970.526 63.9476 L970.526 70.8341 Q967.407 72.2924 964.044 73.0216 Q960.723 73.7508 956.955 73.7508 Q946.706 73.7508 940.671 67.3098 Q934.635 60.8689 934.635 49.9314 Q934.635 38.832 940.711 32.472 Q946.828 26.1121 957.441 26.1121 Q960.885 26.1121 964.166 26.8413 Q967.447 27.5299 970.526 28.9478 Z\" fill=\"#000000\" fill-rule=\"evenodd\" fill-opacity=\"1\" /><path clip-path=\"url(#clip310)\" d=\"M 0 0 M998.963 49.7694 Q989.93 49.7694 986.446 51.8354 Q982.962 53.9013 982.962 58.8839 Q982.962 62.8538 985.555 65.2034 Q988.188 67.5124 992.684 67.5124 Q998.882 67.5124 1002.61 63.1374 Q1006.38 58.7219 1006.38 51.4303 L1006.38 49.7694 L998.963 49.7694 M1013.83 46.6907 L1013.83 72.576 L1006.38 72.576 L1006.38 65.6895 Q1003.82 69.8214 1000.02 71.8063 Q996.208 73.7508 990.699 73.7508 Q983.732 73.7508 979.6 69.8619 Q975.508 65.9325 975.508 59.3701 Q975.508 51.7138 980.612 47.825 Q985.757 43.9361 995.925 43.9361 L1006.38 43.9361 L1006.38 43.2069 Q1006.38 38.0623 1002.97 35.2672 Q999.611 32.4315 993.494 32.4315 Q989.605 32.4315 985.919 33.3632 Q982.233 34.295 978.83 36.1584 L978.83 29.2718 Q982.922 27.692 986.77 26.9223 Q990.618 26.1121 994.264 26.1121 Q1004.11 26.1121 1008.97 31.2163 Q1013.83 36.3204 1013.83 46.6907 Z\" fill=\"#000000\" fill-rule=\"evenodd\" fill-opacity=\"1\" /><path clip-path=\"url(#clip310)\" d=\"M 0 0 M1021.65 9.54393 L1029.1 9.54393 L1029.1 72.576 L1021.65 72.576 L1021.65 9.54393 Z\" fill=\"#000000\" fill-rule=\"evenodd\" fill-opacity=\"1\" /><path clip-path=\"url(#clip310)\" d=\"M 0 0 M1063.62 12.096 L1101.86 12.096 L1101.86 18.9825 L1071.8 18.9825 L1071.8 36.8875 L1100.6 36.8875 L1100.6 43.7741 L1071.8 43.7741 L1071.8 65.6895 L1102.59 65.6895 L1102.59 72.576 L1063.62 72.576 L1063.62 12.096 Z\" fill=\"#000000\" fill-rule=\"evenodd\" fill-opacity=\"1\" /><path clip-path=\"url(#clip310)\" d=\"M 0 0 M1148.12 45.1919 L1148.12 72.576 L1140.66 72.576 L1140.66 45.4349 Q1140.66 38.994 1138.15 35.7938 Q1135.64 32.5936 1130.62 32.5936 Q1124.58 32.5936 1121.1 36.4419 Q1117.61 40.2903 1117.61 46.9338 L1117.61 72.576 L1110.12 72.576 L1110.12 27.2059 L1117.61 27.2059 L1117.61 34.2544 Q1120.29 30.163 1123.89 28.1376 Q1127.54 26.1121 1132.28 26.1121 Q1140.1 26.1121 1144.11 30.9732 Q1148.12 35.7938 1148.12 45.1919 Z\" fill=\"#000000\" fill-rule=\"evenodd\" fill-opacity=\"1\" /><path clip-path=\"url(#clip310)\" d=\"M 0 0 M1185.79 49.3643 Q1185.79 41.2625 1182.43 36.8065 Q1179.11 32.3505 1173.07 32.3505 Q1167.08 32.3505 1163.71 36.8065 Q1160.39 41.2625 1160.39 49.3643 Q1160.39 57.4256 1163.71 61.8816 Q1167.08 66.3376 1173.07 66.3376 Q1179.11 66.3376 1182.43 61.8816 Q1185.79 57.4256 1185.79 49.3643 M1193.24 66.9452 Q1193.24 78.5308 1188.1 84.1616 Q1182.96 89.8329 1172.34 89.8329 Q1168.41 89.8329 1164.93 89.2252 Q1161.44 88.6581 1158.16 87.4428 L1158.16 80.1917 Q1161.44 81.9741 1164.65 82.8248 Q1167.85 83.6755 1171.17 83.6755 Q1178.5 83.6755 1182.14 79.8271 Q1185.79 76.0193 1185.79 68.282 L1185.79 64.5957 Q1183.48 68.6061 1179.88 70.5911 Q1176.27 72.576 1171.25 72.576 Q1162.9 72.576 1157.8 66.2161 Q1152.69 59.8562 1152.69 49.3643 Q1152.69 38.832 1157.8 32.472 Q1162.9 26.1121 1171.25 26.1121 Q1176.27 26.1121 1179.88 28.0971 Q1183.48 30.082 1185.79 34.0924 L1185.79 27.2059 L1193.24 27.2059 L1193.24 66.9452 Z\" fill=\"#000000\" fill-rule=\"evenodd\" fill-opacity=\"1\" /><path clip-path=\"url(#clip310)\" d=\"M 0 0 M1201.06 27.2059 L1208.52 27.2059 L1208.52 72.576 L1201.06 72.576 L1201.06 27.2059 M1201.06 9.54393 L1208.52 9.54393 L1208.52 18.9825 L1201.06 18.9825 L1201.06 9.54393 Z\" fill=\"#000000\" fill-rule=\"evenodd\" fill-opacity=\"1\" /><path clip-path=\"url(#clip310)\" d=\"M 0 0 M1254.05 45.1919 L1254.05 72.576 L1246.59 72.576 L1246.59 45.4349 Q1246.59 38.994 1244.08 35.7938 Q1241.57 32.5936 1236.55 32.5936 Q1230.51 32.5936 1227.03 36.4419 Q1223.55 40.2903 1223.55 46.9338 L1223.55 72.576 L1216.05 72.576 L1216.05 27.2059 L1223.55 27.2059 L1223.55 34.2544 Q1226.22 30.163 1229.82 28.1376 Q1233.47 26.1121 1238.21 26.1121 Q1246.03 26.1121 1250.04 30.9732 Q1254.05 35.7938 1254.05 45.1919 Z\" fill=\"#000000\" fill-rule=\"evenodd\" fill-opacity=\"1\" /><path clip-path=\"url(#clip310)\" d=\"M 0 0 M1300.67 48.0275 L1300.67 51.6733 L1266.4 51.6733 Q1266.89 59.3701 1271.02 63.421 Q1275.19 67.4314 1282.61 67.4314 Q1286.9 67.4314 1290.91 66.3781 Q1294.96 65.3249 1298.93 63.2184 L1298.93 70.267 Q1294.92 71.9684 1290.71 72.8596 Q1286.5 73.7508 1282.16 73.7508 Q1271.31 73.7508 1264.95 67.4314 Q1258.63 61.1119 1258.63 50.3365 Q1258.63 39.1965 1264.62 32.6746 Q1270.66 26.1121 1280.87 26.1121 Q1290.02 26.1121 1295.33 32.0264 Q1300.67 37.9003 1300.67 48.0275 M1293.22 45.84 Q1293.14 39.7232 1289.78 36.0774 Q1286.46 32.4315 1280.95 32.4315 Q1274.71 32.4315 1270.94 35.9558 Q1267.21 39.4801 1266.65 45.8805 L1293.22 45.84 Z\" fill=\"#000000\" fill-rule=\"evenodd\" fill-opacity=\"1\" /><path clip-path=\"url(#clip310)\" d=\"M 0 0 M1347.3 48.0275 L1347.3 51.6733 L1313.03 51.6733 Q1313.52 59.3701 1317.65 63.421 Q1321.82 67.4314 1329.23 67.4314 Q1333.53 67.4314 1337.54 66.3781 Q1341.59 65.3249 1345.56 63.2184 L1345.56 70.267 Q1341.55 71.9684 1337.34 72.8596 Q1333.12 73.7508 1328.79 73.7508 Q1317.93 73.7508 1311.57 67.4314 Q1305.25 61.1119 1305.25 50.3365 Q1305.25 39.1965 1311.25 32.6746 Q1317.28 26.1121 1327.49 26.1121 Q1336.65 26.1121 1341.95 32.0264 Q1347.3 37.9003 1347.3 48.0275 M1339.85 45.84 Q1339.77 39.7232 1336.4 36.0774 Q1333.08 32.4315 1327.57 32.4315 Q1321.33 32.4315 1317.57 35.9558 Q1313.84 39.4801 1313.27 45.8805 L1339.85 45.84 Z\" fill=\"#000000\" fill-rule=\"evenodd\" fill-opacity=\"1\" /><path clip-path=\"url(#clip310)\" d=\"M 0 0 M1381.41 34.1734 Q1380.15 33.4443 1378.65 33.1202 Q1377.2 32.7556 1375.41 32.7556 Q1369.09 32.7556 1365.69 36.8875 Q1362.33 40.9789 1362.33 48.6757 L1362.33 72.576 L1354.84 72.576 L1354.84 27.2059 L1362.33 27.2059 L1362.33 34.2544 Q1364.68 30.1225 1368.45 28.1376 Q1372.21 26.1121 1377.6 26.1121 Q1378.37 26.1121 1379.3 26.2337 Q1380.23 26.3147 1381.37 26.5172 L1381.41 34.1734 Z\" fill=\"#000000\" fill-rule=\"evenodd\" fill-opacity=\"1\" /><path clip-path=\"url(#clip310)\" d=\"M 0 0 M1389.23 27.2059 L1396.68 27.2059 L1396.68 72.576 L1389.23 72.576 L1389.23 27.2059 M1389.23 9.54393 L1396.68 9.54393 L1396.68 18.9825 L1389.23 18.9825 L1389.23 9.54393 Z\" fill=\"#000000\" fill-rule=\"evenodd\" fill-opacity=\"1\" /><path clip-path=\"url(#clip310)\" d=\"M 0 0 M1442.21 45.1919 L1442.21 72.576 L1434.76 72.576 L1434.76 45.4349 Q1434.76 38.994 1432.25 35.7938 Q1429.74 32.5936 1424.71 32.5936 Q1418.68 32.5936 1415.19 36.4419 Q1411.71 40.2903 1411.71 46.9338 L1411.71 72.576 L1404.22 72.576 L1404.22 27.2059 L1411.71 27.2059 L1411.71 34.2544 Q1414.38 30.163 1417.99 28.1376 Q1421.63 26.1121 1426.37 26.1121 Q1434.19 26.1121 1438.2 30.9732 Q1442.21 35.7938 1442.21 45.1919 Z\" fill=\"#000000\" fill-rule=\"evenodd\" fill-opacity=\"1\" /><path clip-path=\"url(#clip310)\" d=\"M 0 0 M1479.89 49.3643 Q1479.89 41.2625 1476.52 36.8065 Q1473.2 32.3505 1467.17 32.3505 Q1461.17 32.3505 1457.81 36.8065 Q1454.49 41.2625 1454.49 49.3643 Q1454.49 57.4256 1457.81 61.8816 Q1461.17 66.3376 1467.17 66.3376 Q1473.2 66.3376 1476.52 61.8816 Q1479.89 57.4256 1479.89 49.3643 M1487.34 66.9452 Q1487.34 78.5308 1482.2 84.1616 Q1477.05 89.8329 1466.44 89.8329 Q1462.51 89.8329 1459.02 89.2252 Q1455.54 88.6581 1452.26 87.4428 L1452.26 80.1917 Q1455.54 81.9741 1458.74 82.8248 Q1461.94 83.6755 1465.26 83.6755 Q1472.59 83.6755 1476.24 79.8271 Q1479.89 76.0193 1479.89 68.282 L1479.89 64.5957 Q1477.58 68.6061 1473.97 70.5911 Q1470.37 72.576 1465.34 72.576 Q1457 72.576 1451.89 66.2161 Q1446.79 59.8562 1446.79 49.3643 Q1446.79 38.832 1451.89 32.472 Q1457 26.1121 1465.34 26.1121 Q1470.37 26.1121 1473.97 28.0971 Q1477.58 30.082 1479.89 34.0924 L1479.89 27.2059 L1487.34 27.2059 L1487.34 66.9452 Z\" fill=\"#000000\" fill-rule=\"evenodd\" fill-opacity=\"1\" /><path clip-path=\"url(#clip310)\" d=\"M 0 0 M1530.04 18.8205 L1530.04 41.5461 L1540.33 41.5461 Q1546.04 41.5461 1549.16 38.5889 Q1552.28 35.6318 1552.28 30.163 Q1552.28 24.7348 1549.16 21.7777 Q1546.04 18.8205 1540.33 18.8205 L1530.04 18.8205 M1521.85 12.096 L1540.33 12.096 Q1550.49 12.096 1555.68 16.714 Q1560.9 21.2916 1560.9 30.163 Q1560.9 39.1155 1555.68 43.6931 Q1550.49 48.2706 1540.33 48.2706 L1530.04 48.2706 L1530.04 72.576 L1521.85 72.576 L1521.85 12.096 Z\" fill=\"#000000\" fill-rule=\"evenodd\" fill-opacity=\"1\" /><path clip-path=\"url(#clip310)\" d=\"M 0 0 M1593.55 34.1734 Q1592.3 33.4443 1590.8 33.1202 Q1589.34 32.7556 1587.56 32.7556 Q1581.24 32.7556 1577.84 36.8875 Q1574.48 40.9789 1574.48 48.6757 L1574.48 72.576 L1566.98 72.576 L1566.98 27.2059 L1574.48 27.2059 L1574.48 34.2544 Q1576.82 30.1225 1580.59 28.1376 Q1584.36 26.1121 1589.75 26.1121 Q1590.52 26.1121 1591.45 26.2337 Q1592.38 26.3147 1593.51 26.5172 L1593.55 34.1734 Z\" fill=\"#000000\" fill-rule=\"evenodd\" fill-opacity=\"1\" /><path clip-path=\"url(#clip310)\" d=\"M 0 0 M1617.13 32.4315 Q1611.14 32.4315 1607.65 37.1306 Q1604.17 41.7891 1604.17 49.9314 Q1604.17 58.0738 1607.61 62.7728 Q1611.1 67.4314 1617.13 67.4314 Q1623.09 67.4314 1626.57 62.7323 Q1630.05 58.0333 1630.05 49.9314 Q1630.05 41.8701 1626.57 37.1711 Q1623.09 32.4315 1617.13 32.4315 M1617.13 26.1121 Q1626.85 26.1121 1632.4 32.4315 Q1637.95 38.7509 1637.95 49.9314 Q1637.95 61.0714 1632.4 67.4314 Q1626.85 73.7508 1617.13 73.7508 Q1607.37 73.7508 1601.82 67.4314 Q1596.31 61.0714 1596.31 49.9314 Q1596.31 38.7509 1601.82 32.4315 Q1607.37 26.1121 1617.13 26.1121 Z\" fill=\"#000000\" fill-rule=\"evenodd\" fill-opacity=\"1\" /><path clip-path=\"url(#clip310)\" d=\"M 0 0 M1675.63 49.3643 Q1675.63 41.2625 1672.26 36.8065 Q1668.94 32.3505 1662.91 32.3505 Q1656.91 32.3505 1653.55 36.8065 Q1650.23 41.2625 1650.23 49.3643 Q1650.23 57.4256 1653.55 61.8816 Q1656.91 66.3376 1662.91 66.3376 Q1668.94 66.3376 1672.26 61.8816 Q1675.63 57.4256 1675.63 49.3643 M1683.08 66.9452 Q1683.08 78.5308 1677.94 84.1616 Q1672.79 89.8329 1662.18 89.8329 Q1658.25 89.8329 1654.76 89.2252 Q1651.28 88.6581 1648 87.4428 L1648 80.1917 Q1651.28 81.9741 1654.48 82.8248 Q1657.68 83.6755 1661 83.6755 Q1668.33 83.6755 1671.98 79.8271 Q1675.63 76.0193 1675.63 68.282 L1675.63 64.5957 Q1673.32 68.6061 1669.71 70.5911 Q1666.11 72.576 1661.08 72.576 Q1652.74 72.576 1647.63 66.2161 Q1642.53 59.8562 1642.53 49.3643 Q1642.53 38.832 1647.63 32.472 Q1652.74 26.1121 1661.08 26.1121 Q1666.11 26.1121 1669.71 28.0971 Q1673.32 30.082 1675.63 34.0924 L1675.63 27.2059 L1683.08 27.2059 L1683.08 66.9452 Z\" fill=\"#000000\" fill-rule=\"evenodd\" fill-opacity=\"1\" /><path clip-path=\"url(#clip310)\" d=\"M 0 0 M1717.19 34.1734 Q1715.93 33.4443 1714.43 33.1202 Q1712.98 32.7556 1711.19 32.7556 Q1704.87 32.7556 1701.47 36.8875 Q1698.11 40.9789 1698.11 48.6757 L1698.11 72.576 L1690.61 72.576 L1690.61 27.2059 L1698.11 27.2059 L1698.11 34.2544 Q1700.46 30.1225 1704.23 28.1376 Q1707.99 26.1121 1713.38 26.1121 Q1714.15 26.1121 1715.08 26.2337 Q1716.01 26.3147 1717.15 26.5172 L1717.19 34.1734 Z\" fill=\"#000000\" fill-rule=\"evenodd\" fill-opacity=\"1\" /><path clip-path=\"url(#clip310)\" d=\"M 0 0 M1745.63 49.7694 Q1736.59 49.7694 1733.11 51.8354 Q1729.62 53.9013 1729.62 58.8839 Q1729.62 62.8538 1732.22 65.2034 Q1734.85 67.5124 1739.35 67.5124 Q1745.54 67.5124 1749.27 63.1374 Q1753.04 58.7219 1753.04 51.4303 L1753.04 49.7694 L1745.63 49.7694 M1760.49 46.6907 L1760.49 72.576 L1753.04 72.576 L1753.04 65.6895 Q1750.49 69.8214 1746.68 71.8063 Q1742.87 73.7508 1737.36 73.7508 Q1730.39 73.7508 1726.26 69.8619 Q1722.17 65.9325 1722.17 59.3701 Q1722.17 51.7138 1727.28 47.825 Q1732.42 43.9361 1742.59 43.9361 L1753.04 43.9361 L1753.04 43.2069 Q1753.04 38.0623 1749.64 35.2672 Q1746.27 32.4315 1740.16 32.4315 Q1736.27 32.4315 1732.58 33.3632 Q1728.9 34.295 1725.49 36.1584 L1725.49 29.2718 Q1729.58 27.692 1733.43 26.9223 Q1737.28 26.1121 1740.93 26.1121 Q1750.77 26.1121 1755.63 31.2163 Q1760.49 36.3204 1760.49 46.6907 Z\" fill=\"#000000\" fill-rule=\"evenodd\" fill-opacity=\"1\" /><path clip-path=\"url(#clip310)\" d=\"M 0 0 M1803.63 35.9153 Q1806.43 30.8922 1810.32 28.5022 Q1814.21 26.1121 1819.47 26.1121 Q1826.56 26.1121 1830.41 31.0947 Q1834.26 36.0368 1834.26 45.1919 L1834.26 72.576 L1826.77 72.576 L1826.77 45.4349 Q1826.77 38.913 1824.46 35.7533 Q1822.15 32.5936 1817.41 32.5936 Q1811.61 32.5936 1808.25 36.4419 Q1804.89 40.2903 1804.89 46.9338 L1804.89 72.576 L1797.4 72.576 L1797.4 45.4349 Q1797.4 38.8725 1795.09 35.7533 Q1792.78 32.5936 1787.96 32.5936 Q1782.25 32.5936 1778.88 36.4824 Q1775.52 40.3308 1775.52 46.9338 L1775.52 72.576 L1768.03 72.576 L1768.03 27.2059 L1775.52 27.2059 L1775.52 34.2544 Q1778.07 30.082 1781.64 28.0971 Q1785.2 26.1121 1790.1 26.1121 Q1795.05 26.1121 1798.49 28.6237 Q1801.97 31.1352 1803.63 35.9153 Z\" fill=\"#000000\" fill-rule=\"evenodd\" fill-opacity=\"1\" /><path clip-path=\"url(#clip310)\" d=\"M 0 0 M1871 28.5427 L1871 35.5912 Q1867.84 33.9709 1864.44 33.1607 Q1861.04 32.3505 1857.39 32.3505 Q1851.84 32.3505 1849.05 34.0519 Q1846.29 35.7533 1846.29 39.156 Q1846.29 41.7486 1848.28 43.2475 Q1850.26 44.7058 1856.26 46.0426 L1858.81 46.6097 Q1866.75 48.3111 1870.07 51.4303 Q1873.43 54.509 1873.43 60.0587 Q1873.43 66.3781 1868.41 70.0644 Q1863.43 73.7508 1854.68 73.7508 Q1851.03 73.7508 1847.06 73.0216 Q1843.13 72.3329 1838.76 70.9151 L1838.76 63.2184 Q1842.89 65.3654 1846.9 66.4591 Q1850.91 67.5124 1854.84 67.5124 Q1860.1 67.5124 1862.94 65.73 Q1865.78 63.9071 1865.78 60.6258 Q1865.78 57.5877 1863.71 55.9673 Q1861.68 54.3469 1854.76 52.8481 L1852.16 52.2405 Q1845.24 50.7821 1842.16 47.7845 Q1839.08 44.7463 1839.08 39.4801 Q1839.08 33.0797 1843.62 29.5959 Q1848.15 26.1121 1856.5 26.1121 Q1860.63 26.1121 1864.28 26.7198 Q1867.92 27.3274 1871 28.5427 Z\" fill=\"#000000\" fill-rule=\"evenodd\" fill-opacity=\"1\" /><path clip-path=\"url(#clip310)\" d=\"M 0 0 M1237.07 1510.27 L1237.07 1520.4 L1249.13 1520.4 L1249.13 1524.95 L1237.07 1524.95 L1237.07 1544.3 Q1237.07 1548.66 1238.25 1549.9 Q1239.46 1551.14 1243.12 1551.14 L1249.13 1551.14 L1249.13 1556.04 L1243.12 1556.04 Q1236.34 1556.04 1233.76 1553.53 Q1231.18 1550.98 1231.18 1544.3 L1231.18 1524.95 L1226.88 1524.95 L1226.88 1520.4 L1231.18 1520.4 L1231.18 1510.27 L1237.07 1510.27 Z\" fill=\"#000000\" fill-rule=\"evenodd\" fill-opacity=\"1\" /><path clip-path=\"url(#clip310)\" d=\"M 0 0 M1255.28 1520.4 L1261.13 1520.4 L1261.13 1556.04 L1255.28 1556.04 L1255.28 1520.4 M1255.28 1506.52 L1261.13 1506.52 L1261.13 1513.93 L1255.28 1513.93 L1255.28 1506.52 Z\" fill=\"#000000\" fill-rule=\"evenodd\" fill-opacity=\"1\" /><path clip-path=\"url(#clip310)\" d=\"M 0 0 M1297.77 1536.76 L1297.77 1539.62 L1270.84 1539.62 Q1271.22 1545.67 1274.47 1548.85 Q1277.75 1552 1283.57 1552 Q1286.94 1552 1290.1 1551.17 Q1293.28 1550.35 1296.4 1548.69 L1296.4 1554.23 Q1293.25 1555.57 1289.94 1556.27 Q1286.63 1556.97 1283.22 1556.97 Q1274.69 1556.97 1269.69 1552 Q1264.73 1547.04 1264.73 1538.57 Q1264.73 1529.82 1269.44 1524.69 Q1274.18 1519.54 1282.2 1519.54 Q1289.4 1519.54 1293.57 1524.18 Q1297.77 1528.8 1297.77 1536.76 M1291.91 1535.04 Q1291.85 1530.23 1289.2 1527.37 Q1286.59 1524.5 1282.27 1524.5 Q1277.36 1524.5 1274.4 1527.27 Q1271.48 1530.04 1271.03 1535.07 L1291.91 1535.04 Z\" fill=\"#000000\" fill-rule=\"evenodd\" fill-opacity=\"1\" /><path clip-path=\"url(#clip310)\" d=\"M 0 0 M1324.57 1525.87 Q1323.58 1525.3 1322.4 1525.04 Q1321.26 1524.76 1319.86 1524.76 Q1314.89 1524.76 1312.22 1528 Q1309.57 1531.22 1309.57 1537.27 L1309.57 1556.04 L1303.69 1556.04 L1303.69 1520.4 L1309.57 1520.4 L1309.57 1525.93 Q1311.42 1522.69 1314.38 1521.13 Q1317.34 1519.54 1321.57 1519.54 Q1322.18 1519.54 1322.91 1519.63 Q1323.64 1519.7 1324.53 1519.85 L1324.57 1525.87 Z\" fill=\"#000000\" fill-rule=\"evenodd\" fill-opacity=\"1\" /><path clip-path=\"url(#clip310)\" d=\"M 0 0 M1353.43 1521.45 L1353.43 1526.98 Q1350.95 1525.71 1348.28 1525.07 Q1345.6 1524.44 1342.74 1524.44 Q1338.38 1524.44 1336.18 1525.77 Q1334.02 1527.11 1334.02 1529.79 Q1334.02 1531.82 1335.58 1533 Q1337.14 1534.15 1341.85 1535.2 L1343.85 1535.64 Q1350.09 1536.98 1352.7 1539.43 Q1355.34 1541.85 1355.34 1546.21 Q1355.34 1551.17 1351.4 1554.07 Q1347.48 1556.97 1340.61 1556.97 Q1337.74 1556.97 1334.62 1556.39 Q1331.54 1555.85 1328.1 1554.74 L1328.1 1548.69 Q1331.35 1550.38 1334.5 1551.24 Q1337.65 1552.07 1340.73 1552.07 Q1344.87 1552.07 1347.1 1550.66 Q1349.33 1549.23 1349.33 1546.65 Q1349.33 1544.27 1347.71 1542.99 Q1346.11 1541.72 1340.67 1540.54 L1338.63 1540.07 Q1333.19 1538.92 1330.77 1536.56 Q1328.35 1534.18 1328.35 1530.04 Q1328.35 1525.01 1331.92 1522.27 Q1335.48 1519.54 1342.04 1519.54 Q1345.29 1519.54 1348.15 1520.01 Q1351.02 1520.49 1353.43 1521.45 Z\" fill=\"#000000\" fill-rule=\"evenodd\" fill-opacity=\"1\" /><path clip-path=\"url(#clip310)\" d=\"M 0 0 M53.4065 1057.3 L58.9447 1057.3 Q57.6716 1059.78 57.035 1062.46 Q56.3984 1065.13 56.3984 1067.99 Q56.3984 1072.36 57.7352 1074.55 Q59.072 1076.72 61.7456 1076.72 Q63.7826 1076.72 64.9603 1075.16 Q66.1061 1073.6 67.1565 1068.89 L67.6021 1066.88 Q68.9389 1060.64 71.3897 1058.03 Q73.8086 1055.39 78.1691 1055.39 Q83.1344 1055.39 86.0308 1059.34 Q88.9272 1063.25 88.9272 1070.13 Q88.9272 1072.99 88.3543 1076.11 Q87.8132 1079.2 86.6992 1082.64 L80.6518 1082.64 Q82.3387 1079.39 83.198 1076.24 Q84.0256 1073.09 84.0256 1070 Q84.0256 1065.86 82.6251 1063.63 Q81.1929 1061.41 78.6147 1061.41 Q76.2276 1061.41 74.9545 1063.03 Q73.6813 1064.62 72.5037 1070.06 L72.0262 1072.1 Q70.8804 1077.54 68.5251 1079.96 Q66.138 1082.38 62.0002 1082.38 Q56.9713 1082.38 54.2341 1078.82 Q51.4968 1075.25 51.4968 1068.69 Q51.4968 1065.45 51.9743 1062.58 Q52.4517 1059.72 53.4065 1057.3 Z\" fill=\"#000000\" fill-rule=\"evenodd\" fill-opacity=\"1\" /><path clip-path=\"url(#clip310)\" d=\"M 0 0 M42.2347 1043.45 L52.3562 1043.45 L52.3562 1031.39 L56.9077 1031.39 L56.9077 1043.45 L76.2594 1043.45 Q80.6199 1043.45 81.8613 1042.28 Q83.1026 1041.07 83.1026 1037.41 L83.1026 1031.39 L88.0042 1031.39 L88.0042 1037.41 Q88.0042 1044.19 85.4897 1046.76 Q82.9434 1049.34 76.2594 1049.34 L56.9077 1049.34 L56.9077 1053.64 L52.3562 1053.64 L52.3562 1049.34 L42.2347 1049.34 L42.2347 1043.45 Z\" fill=\"#000000\" fill-rule=\"evenodd\" fill-opacity=\"1\" /><path clip-path=\"url(#clip310)\" d=\"M 0 0 M57.8307 1004.59 Q57.2578 1005.58 57.0032 1006.76 Q56.7167 1007.9 56.7167 1009.3 Q56.7167 1014.27 59.9632 1016.94 Q63.1779 1019.58 69.2253 1019.58 L88.0042 1019.58 L88.0042 1025.47 L52.3562 1025.47 L52.3562 1019.58 L57.8944 1019.58 Q54.6479 1017.74 53.0883 1014.78 Q51.4968 1011.82 51.4968 1007.58 Q51.4968 1006.98 51.5923 1006.25 Q51.656 1005.52 51.8151 1004.62 L57.8307 1004.59 Z\" fill=\"#000000\" fill-rule=\"evenodd\" fill-opacity=\"1\" /><path clip-path=\"url(#clip310)\" d=\"M 0 0 M73.9359 999.054 L52.3562 999.054 L52.3562 993.197 L73.7131 993.197 Q78.7739 993.197 81.3202 991.224 Q83.8346 989.251 83.8346 985.304 Q83.8346 980.562 80.8109 977.824 Q77.7872 975.055 72.5673 975.055 L52.3562 975.055 L52.3562 969.199 L88.0042 969.199 L88.0042 975.055 L82.5296 975.055 Q85.7762 977.188 87.3676 980.02 Q88.9272 982.821 88.9272 986.545 Q88.9272 992.688 85.1078 995.871 Q81.2883 999.054 73.9359 999.054 M51.4968 984.317 L51.4968 984.317 Z\" fill=\"#000000\" fill-rule=\"evenodd\" fill-opacity=\"1\" /><path clip-path=\"url(#clip310)\" d=\"M 0 0 M53.7248 937.402 L59.1993 937.402 Q57.8307 939.885 57.1623 942.399 Q56.4621 944.882 56.4621 947.428 Q56.4621 953.125 60.0905 956.276 Q63.6872 959.427 70.212 959.427 Q76.7369 959.427 80.3653 956.276 Q83.9619 953.125 83.9619 947.428 Q83.9619 944.882 83.2935 942.399 Q82.5933 939.885 81.2247 937.402 L86.6355 937.402 Q87.7814 939.853 88.3543 942.495 Q88.9272 945.105 88.9272 948.065 Q88.9272 956.117 83.8664 960.86 Q78.8057 965.602 70.212 965.602 Q61.491 965.602 56.4939 960.828 Q51.4968 956.022 51.4968 947.683 Q51.4968 944.977 52.0697 942.399 Q52.6108 939.821 53.7248 937.402 Z\" fill=\"#000000\" fill-rule=\"evenodd\" fill-opacity=\"1\" /><path clip-path=\"url(#clip310)\" d=\"M 0 0 M42.2347 925.466 L52.3562 925.466 L52.3562 913.403 L56.9077 913.403 L56.9077 925.466 L76.2594 925.466 Q80.6199 925.466 81.8613 924.289 Q83.1026 923.079 83.1026 919.419 L83.1026 913.403 L88.0042 913.403 L88.0042 919.419 Q88.0042 926.198 85.4897 928.777 Q82.9434 931.355 76.2594 931.355 L56.9077 931.355 L56.9077 935.652 L52.3562 935.652 L52.3562 931.355 L42.2347 931.355 L42.2347 925.466 Z\" fill=\"#000000\" fill-rule=\"evenodd\" fill-opacity=\"1\" /><path clip-path=\"url(#clip310)\" d=\"M 0 0 M73.9359 907.865 L52.3562 907.865 L52.3562 902.009 L73.7131 902.009 Q78.7739 902.009 81.3202 900.035 Q83.8346 898.062 83.8346 894.115 Q83.8346 889.373 80.8109 886.636 Q77.7872 883.866 72.5673 883.866 L52.3562 883.866 L52.3562 878.01 L88.0042 878.01 L88.0042 883.866 L82.5296 883.866 Q85.7762 885.999 87.3676 888.832 Q88.9272 891.633 88.9272 895.357 Q88.9272 901.499 85.1078 904.682 Q81.2883 907.865 73.9359 907.865 M51.4968 893.129 L51.4968 893.129 Z\" fill=\"#000000\" fill-rule=\"evenodd\" fill-opacity=\"1\" /><path clip-path=\"url(#clip310)\" d=\"M 0 0 M57.8307 851.21 Q57.2578 852.197 57.0032 853.375 Q56.7167 854.521 56.7167 855.921 Q56.7167 860.886 59.9632 863.56 Q63.1779 866.202 69.2253 866.202 L88.0042 866.202 L88.0042 872.09 L52.3562 872.09 L52.3562 866.202 L57.8944 866.202 Q54.6479 864.356 53.0883 861.396 Q51.4968 858.435 51.4968 854.202 Q51.4968 853.598 51.5923 852.865 Q51.656 852.133 51.8151 851.242 L57.8307 851.21 Z\" fill=\"#000000\" fill-rule=\"evenodd\" fill-opacity=\"1\" /><path clip-path=\"url(#clip310)\" d=\"M 0 0 M70.0847 828.867 Q70.0847 835.965 71.7079 838.702 Q73.3312 841.439 77.2461 841.439 Q80.3653 841.439 82.2114 839.402 Q84.0256 837.333 84.0256 833.8 Q84.0256 828.93 80.5881 826.002 Q77.1188 823.042 71.3897 823.042 L70.0847 823.042 L70.0847 828.867 M67.6657 817.186 L88.0042 817.186 L88.0042 823.042 L82.5933 823.042 Q85.8398 825.047 87.3994 828.039 Q88.9272 831.031 88.9272 835.36 Q88.9272 840.834 85.8716 844.081 Q82.7843 847.295 77.6281 847.295 Q71.6125 847.295 68.5569 843.285 Q65.5014 839.243 65.5014 831.254 L65.5014 823.042 L64.9285 823.042 Q60.8862 823.042 58.6901 825.716 Q56.4621 828.358 56.4621 833.164 Q56.4621 836.219 57.1941 839.116 Q57.9262 842.012 59.3903 844.686 L53.9795 844.686 Q52.7381 841.471 52.1334 838.447 Q51.4968 835.423 51.4968 832.559 Q51.4968 824.825 55.5072 821.005 Q59.5176 817.186 67.6657 817.186 Z\" fill=\"#000000\" fill-rule=\"evenodd\" fill-opacity=\"1\" /><path clip-path=\"url(#clip310)\" d=\"M 0 0 M38.479 811.043 L38.479 805.186 L88.0042 805.186 L88.0042 811.043 L38.479 811.043 Z\" fill=\"#000000\" fill-rule=\"evenodd\" fill-opacity=\"1\" /><path clip-path=\"url(#clip310)\" d=\"M 0 0 M53.7248 752.669 L59.1993 752.669 Q57.8307 755.152 57.1623 757.666 Q56.4621 760.149 56.4621 762.695 Q56.4621 768.393 60.0905 771.544 Q63.6872 774.695 70.212 774.695 Q76.7369 774.695 80.3653 771.544 Q83.9619 768.393 83.9619 762.695 Q83.9619 760.149 83.2935 757.666 Q82.5933 755.152 81.2247 752.669 L86.6355 752.669 Q87.7814 755.12 88.3543 757.762 Q88.9272 760.372 88.9272 763.332 Q88.9272 771.384 83.8664 776.127 Q78.8057 780.869 70.212 780.869 Q61.491 780.869 56.4939 776.095 Q51.4968 771.289 51.4968 762.95 Q51.4968 760.244 52.0697 757.666 Q52.6108 755.088 53.7248 752.669 Z\" fill=\"#000000\" fill-rule=\"evenodd\" fill-opacity=\"1\" /><path clip-path=\"url(#clip310)\" d=\"M 0 0 M56.4621 732.713 Q56.4621 737.423 60.1542 740.161 Q63.8145 742.898 70.212 742.898 Q76.6095 742.898 80.3017 740.192 Q83.9619 737.455 83.9619 732.713 Q83.9619 728.034 80.2698 725.297 Q76.5777 722.559 70.212 722.559 Q63.8781 722.559 60.186 725.297 Q56.4621 728.034 56.4621 732.713 M51.4968 732.713 Q51.4968 725.074 56.4621 720.713 Q61.4273 716.353 70.212 716.353 Q78.9649 716.353 83.9619 720.713 Q88.9272 725.074 88.9272 732.713 Q88.9272 740.383 83.9619 744.744 Q78.9649 749.073 70.212 749.073 Q61.4273 749.073 56.4621 744.744 Q51.4968 740.383 51.4968 732.713 Z\" fill=\"#000000\" fill-rule=\"evenodd\" fill-opacity=\"1\" /><path clip-path=\"url(#clip310)\" d=\"M 0 0 M59.1993 682.456 Q55.2526 680.259 53.3747 677.204 Q51.4968 674.148 51.4968 670.011 Q51.4968 664.441 55.4117 661.417 Q59.2948 658.393 66.4881 658.393 L88.0042 658.393 L88.0042 664.281 L66.679 664.281 Q61.5546 664.281 59.072 666.096 Q56.5894 667.91 56.5894 671.634 Q56.5894 676.185 59.6131 678.827 Q62.6368 681.469 67.8567 681.469 L88.0042 681.469 L88.0042 687.357 L66.679 687.357 Q61.5228 687.357 59.072 689.171 Q56.5894 690.986 56.5894 694.773 Q56.5894 699.261 59.6449 701.903 Q62.6686 704.545 67.8567 704.545 L88.0042 704.545 L88.0042 710.433 L52.3562 710.433 L52.3562 704.545 L57.8944 704.545 Q54.616 702.539 53.0564 699.738 Q51.4968 696.938 51.4968 693.086 Q51.4968 689.203 53.4702 686.498 Q55.4436 683.76 59.1993 682.456 Z\" fill=\"#000000\" fill-rule=\"evenodd\" fill-opacity=\"1\" /><path clip-path=\"url(#clip310)\" d=\"M 0 0 M82.657 646.585 L101.563 646.585 L101.563 652.473 L52.3562 652.473 L52.3562 646.585 L57.7671 646.585 Q54.5842 644.739 53.0564 641.938 Q51.4968 639.105 51.4968 635.19 Q51.4968 628.697 56.6531 624.655 Q61.8093 620.581 70.212 620.581 Q78.6147 620.581 83.771 624.655 Q88.9272 628.697 88.9272 635.19 Q88.9272 639.105 87.3994 641.938 Q85.8398 644.739 82.657 646.585 M70.212 626.66 Q63.7508 626.66 60.0905 629.334 Q56.3984 631.975 56.3984 636.622 Q56.3984 641.269 60.0905 643.943 Q63.7508 646.585 70.212 646.585 Q76.6732 646.585 80.3653 643.943 Q84.0256 641.269 84.0256 636.622 Q84.0256 631.975 80.3653 629.334 Q76.6732 626.66 70.212 626.66 Z\" fill=\"#000000\" fill-rule=\"evenodd\" fill-opacity=\"1\" /><path clip-path=\"url(#clip310)\" d=\"M 0 0 M38.479 614.438 L38.479 608.581 L88.0042 608.581 L88.0042 614.438 L38.479 614.438 Z\" fill=\"#000000\" fill-rule=\"evenodd\" fill-opacity=\"1\" /><path clip-path=\"url(#clip310)\" d=\"M 0 0 M68.7161 571.947 L71.5806 571.947 L71.5806 598.874 Q77.6281 598.492 80.8109 595.245 Q83.9619 591.967 83.9619 586.142 Q83.9619 582.769 83.1344 579.618 Q82.3069 576.435 80.6518 573.315 L86.1899 573.315 Q87.5267 576.467 88.227 579.777 Q88.9272 583.087 88.9272 586.492 Q88.9272 595.023 83.9619 600.02 Q78.9967 604.985 70.5303 604.985 Q61.7774 604.985 56.6531 600.274 Q51.4968 595.532 51.4968 587.511 Q51.4968 580.318 56.1438 576.148 Q60.7589 571.947 68.7161 571.947 M66.9973 577.803 Q62.1912 577.867 59.3266 580.509 Q56.4621 583.119 56.4621 587.447 Q56.4621 592.349 59.2312 595.309 Q62.0002 598.237 67.0292 598.683 L66.9973 577.803 Z\" fill=\"#000000\" fill-rule=\"evenodd\" fill-opacity=\"1\" /><path clip-path=\"url(#clip310)\" d=\"M 0 0 M52.3562 537.317 L69.7028 550.208 L88.0042 536.649 L88.0042 543.556 L73.9996 553.932 L88.0042 564.308 L88.0042 571.215 L69.3526 557.369 L52.3562 570.037 L52.3562 563.13 L65.0558 553.677 L52.3562 544.224 L52.3562 537.317 Z\" fill=\"#000000\" fill-rule=\"evenodd\" fill-opacity=\"1\" /><path clip-path=\"url(#clip310)\" d=\"M 0 0 M52.3562 530.506 L52.3562 524.65 L88.0042 524.65 L88.0042 530.506 L52.3562 530.506 M38.479 530.506 L38.479 524.65 L45.895 524.65 L45.895 530.506 L38.479 530.506 Z\" fill=\"#000000\" fill-rule=\"evenodd\" fill-opacity=\"1\" /><path clip-path=\"url(#clip310)\" d=\"M 0 0 M42.2347 512.714 L52.3562 512.714 L52.3562 500.651 L56.9077 500.651 L56.9077 512.714 L76.2594 512.714 Q80.6199 512.714 81.8613 511.536 Q83.1026 510.327 83.1026 506.667 L83.1026 500.651 L88.0042 500.651 L88.0042 506.667 Q88.0042 513.446 85.4897 516.024 Q82.9434 518.602 76.2594 518.602 L56.9077 518.602 L56.9077 522.899 L52.3562 522.899 L52.3562 518.602 L42.2347 518.602 L42.2347 512.714 Z\" fill=\"#000000\" fill-rule=\"evenodd\" fill-opacity=\"1\" /><path clip-path=\"url(#clip310)\" d=\"M 0 0 M91.3143 479.676 Q97.68 482.159 99.6216 484.514 Q101.563 486.869 101.563 490.816 L101.563 495.495 L96.6615 495.495 L96.6615 492.057 Q96.6615 489.638 95.5157 488.301 Q94.3699 486.965 90.1048 485.341 L87.4312 484.291 L52.3562 498.709 L52.3562 492.503 L80.238 481.363 L52.3562 470.223 L52.3562 464.016 L91.3143 479.676 Z\" fill=\"#000000\" fill-rule=\"evenodd\" fill-opacity=\"1\" /><path clip-path=\"url(#clip312)\" d=\"\n",
       "M512.132 1386.4 L289.566 1386.4 L734.698 1386.4 L512.132 1386.4 L512.132 1185.79 L512.132 1386.4  Z\n",
       "  \" fill=\"#1874cd\" fill-rule=\"evenodd\" fill-opacity=\"0.7\"/>\n",
       "<polyline clip-path=\"url(#clip312)\" style=\"stroke:#000000; stroke-width:4; stroke-opacity:0.7; fill:none\" points=\"\n",
       "  512.132,1386.4 289.566,1386.4 734.698,1386.4 512.132,1386.4 512.132,1185.79 512.132,1386.4 \n",
       "  \"/>\n",
       "<path clip-path=\"url(#clip312)\" d=\"\n",
       "M289.566 1185.79 L289.566 1173.33 L400.849 1067.34 L623.415 1067.34 L734.698 1173.33 L734.698 1185.79 L289.566 1185.79 L289.566 1185.79  Z\n",
       "  \" fill=\"#1874cd\" fill-rule=\"evenodd\" fill-opacity=\"0.7\"/>\n",
       "<polyline clip-path=\"url(#clip312)\" style=\"stroke:#000000; stroke-width:4; stroke-opacity:0.7; fill:none\" points=\"\n",
       "  289.566,1185.79 289.566,1173.33 400.849,1067.34 623.415,1067.34 734.698,1173.33 734.698,1185.79 289.566,1185.79 \n",
       "  \"/>\n",
       "<path clip-path=\"url(#clip312)\" d=\"\n",
       "M289.566 878.397 L289.566 961.354 L400.849 1067.34 L623.415 1067.34 L734.698 961.354 L734.698 878.397 L289.566 878.397 L289.566 878.397  Z\n",
       "  \" fill=\"#1874cd\" fill-rule=\"evenodd\" fill-opacity=\"0.7\"/>\n",
       "<polyline clip-path=\"url(#clip312)\" style=\"stroke:#000000; stroke-width:4; stroke-opacity:0.7; fill:none\" points=\"\n",
       "  289.566,878.397 289.566,961.354 400.849,1067.34 623.415,1067.34 734.698,961.354 734.698,878.397 289.566,878.397 \n",
       "  \"/>\n",
       "<path clip-path=\"url(#clip312)\" d=\"\n",
       "M512.132 451.753 L289.566 451.753 L734.698 451.753 L512.132 451.753 L512.132 878.397 L512.132 451.753  Z\n",
       "  \" fill=\"#1874cd\" fill-rule=\"evenodd\" fill-opacity=\"0.7\"/>\n",
       "<polyline clip-path=\"url(#clip312)\" style=\"stroke:#000000; stroke-width:4; stroke-opacity:0.7; fill:none\" points=\"\n",
       "  512.132,451.753 289.566,451.753 734.698,451.753 512.132,451.753 512.132,878.397 512.132,451.753 \n",
       "  \"/>\n",
       "<circle clip-path=\"url(#clip312)\" cx=\"1291.11\" cy=\"406.703\" r=\"14\" fill=\"#1874cd\" fill-rule=\"evenodd\" fill-opacity=\"0.7\" stroke=\"#000000\" stroke-opacity=\"0.7\" stroke-width=\"3.2\"/>\n",
       "<circle clip-path=\"url(#clip312)\" cx=\"1291.11\" cy=\"351.054\" r=\"14\" fill=\"#1874cd\" fill-rule=\"evenodd\" fill-opacity=\"0.7\" stroke=\"#000000\" stroke-opacity=\"0.7\" stroke-width=\"3.2\"/>\n",
       "<circle clip-path=\"url(#clip312)\" cx=\"1291.11\" cy=\"160.256\" r=\"14\" fill=\"#1874cd\" fill-rule=\"evenodd\" fill-opacity=\"0.7\" stroke=\"#000000\" stroke-opacity=\"0.7\" stroke-width=\"3.2\"/>\n",
       "<path clip-path=\"url(#clip312)\" d=\"\n",
       "M1291.11 1079.79 L1068.55 1079.79 L1513.68 1079.79 L1291.11 1079.79 L1291.11 899.597 L1291.11 1079.79  Z\n",
       "  \" fill=\"#1874cd\" fill-rule=\"evenodd\" fill-opacity=\"0.7\"/>\n",
       "<polyline clip-path=\"url(#clip312)\" style=\"stroke:#000000; stroke-width:4; stroke-opacity:0.7; fill:none\" points=\"\n",
       "  1291.11,1079.79 1068.55,1079.79 1513.68,1079.79 1291.11,1079.79 1291.11,899.597 1291.11,1079.79 \n",
       "  \"/>\n",
       "<path clip-path=\"url(#clip312)\" d=\"\n",
       "M1068.55 899.597 L1068.55 835.533 L1179.83 769.749 L1402.4 769.749 L1513.68 835.533 L1513.68 899.597 L1068.55 899.597 L1068.55 899.597  Z\n",
       "  \" fill=\"#1874cd\" fill-rule=\"evenodd\" fill-opacity=\"0.7\"/>\n",
       "<polyline clip-path=\"url(#clip312)\" style=\"stroke:#000000; stroke-width:4; stroke-opacity:0.7; fill:none\" points=\"\n",
       "  1068.55,899.597 1068.55,835.533 1179.83,769.749 1402.4,769.749 1513.68,835.533 1513.68,899.597 1068.55,899.597 \n",
       "  \"/>\n",
       "<path clip-path=\"url(#clip312)\" d=\"\n",
       "M1068.55 708.799 L1068.55 703.965 L1179.83 769.749 L1402.4 769.749 L1513.68 703.965 L1513.68 708.799 L1068.55 708.799 L1068.55 708.799  Z\n",
       "  \" fill=\"#1874cd\" fill-rule=\"evenodd\" fill-opacity=\"0.7\"/>\n",
       "<polyline clip-path=\"url(#clip312)\" style=\"stroke:#000000; stroke-width:4; stroke-opacity:0.7; fill:none\" points=\"\n",
       "  1068.55,708.799 1068.55,703.965 1179.83,769.749 1402.4,769.749 1513.68,703.965 1513.68,708.799 1068.55,708.799 \n",
       "  \"/>\n",
       "<path clip-path=\"url(#clip312)\" d=\"\n",
       "M1291.11 634.6 L1068.55 634.6 L1513.68 634.6 L1291.11 634.6 L1291.11 708.799 L1291.11 634.6  Z\n",
       "  \" fill=\"#1874cd\" fill-rule=\"evenodd\" fill-opacity=\"0.7\"/>\n",
       "<polyline clip-path=\"url(#clip312)\" style=\"stroke:#000000; stroke-width:4; stroke-opacity:0.7; fill:none\" points=\"\n",
       "  1291.11,634.6 1068.55,634.6 1513.68,634.6 1291.11,634.6 1291.11,708.799 1291.11,634.6 \n",
       "  \"/>\n",
       "<circle clip-path=\"url(#clip312)\" cx=\"2070.1\" cy=\"1095.69\" r=\"14\" fill=\"#1874cd\" fill-rule=\"evenodd\" fill-opacity=\"0.7\" stroke=\"#000000\" stroke-opacity=\"0.7\" stroke-width=\"3.2\"/>\n",
       "<path clip-path=\"url(#clip312)\" d=\"\n",
       "M2070.1 891.647 L1847.53 891.647 L2292.66 891.647 L2070.1 891.647 L2070.1 732.649 L2070.1 891.647  Z\n",
       "  \" fill=\"#1874cd\" fill-rule=\"evenodd\" fill-opacity=\"0.7\"/>\n",
       "<polyline clip-path=\"url(#clip312)\" style=\"stroke:#000000; stroke-width:4; stroke-opacity:0.7; fill:none\" points=\"\n",
       "  2070.1,891.647 1847.53,891.647 2292.66,891.647 2070.1,891.647 2070.1,732.649 2070.1,891.647 \n",
       "  \"/>\n",
       "<path clip-path=\"url(#clip312)\" d=\"\n",
       "M1847.53 732.649 L1847.53 685.031 L1958.81 602.801 L2181.38 602.801 L2292.66 685.031 L2292.66 732.649 L1847.53 732.649 L1847.53 732.649  Z\n",
       "  \" fill=\"#1874cd\" fill-rule=\"evenodd\" fill-opacity=\"0.7\"/>\n",
       "<polyline clip-path=\"url(#clip312)\" style=\"stroke:#000000; stroke-width:4; stroke-opacity:0.7; fill:none\" points=\"\n",
       "  1847.53,732.649 1847.53,685.031 1958.81,602.801 2181.38,602.801 2292.66,685.031 2292.66,732.649 1847.53,732.649 \n",
       "  \"/>\n",
       "<path clip-path=\"url(#clip312)\" d=\"\n",
       "M1847.53 494.152 L1847.53 520.571 L1958.81 602.801 L2181.38 602.801 L2292.66 520.571 L2292.66 494.152 L1847.53 494.152 L1847.53 494.152  Z\n",
       "  \" fill=\"#1874cd\" fill-rule=\"evenodd\" fill-opacity=\"0.7\"/>\n",
       "<polyline clip-path=\"url(#clip312)\" style=\"stroke:#000000; stroke-width:4; stroke-opacity:0.7; fill:none\" points=\"\n",
       "  1847.53,494.152 1847.53,520.571 1958.81,602.801 2181.38,602.801 2292.66,520.571 2292.66,494.152 1847.53,494.152 \n",
       "  \"/>\n",
       "<path clip-path=\"url(#clip312)\" d=\"\n",
       "M2070.1 213.256 L1847.53 213.256 L2292.66 213.256 L2070.1 213.256 L2070.1 494.152 L2070.1 213.256  Z\n",
       "  \" fill=\"#1874cd\" fill-rule=\"evenodd\" fill-opacity=\"0.7\"/>\n",
       "<polyline clip-path=\"url(#clip312)\" style=\"stroke:#000000; stroke-width:4; stroke-opacity:0.7; fill:none\" points=\"\n",
       "  2070.1,213.256 1847.53,213.256 2292.66,213.256 2070.1,213.256 2070.1,494.152 2070.1,213.256 \n",
       "  \"/>\n",
       "</svg>\n"
      ]
     },
     "execution_count": 17,
     "metadata": {},
     "output_type": "execute_result"
    }
   ],
   "source": [
    "series_top = Array{Real,1}();  series_middle = Array{Real,1}();  series_bottom = Array{Real,1}()\n",
    "for curric in top_tier\n",
    "    push!(series_top, curric.metrics[\"complexity\"][1])\n",
    "end\n",
    "for curric in middle_tier\n",
    "    push!(series_middle, curric.metrics[\"complexity\"][1])\n",
    "end\n",
    "for curric in bottom_tier\n",
    "    push!(series_bottom, curric.metrics[\"complexity\"][1])\n",
    "end\n",
    "boxplot([\"top\" \"middle\" \"bottom\"], [series_top, series_middle, series_bottom], notch=true, title=\"Electrical Engineering Programs\", \n",
    "    xlabel=\"tiers\", ylabel=\"structural complexity\", legend=false, alpha=0.7, color=:dodgerblue3)"
   ]
  },
  {
   "cell_type": "markdown",
   "metadata": {},
   "source": [
    "## Conclusions"
   ]
  },
  {
   "cell_type": "markdown",
   "metadata": {},
   "source": [
    "We have demonstrated that an inverse relationship exists between the complexity of the curricula in undergraduate electrical engineering programs and the perceived quality of these programs. Specifically, at doctoral-granting engineering schools the complexity of the electrical engineering undergraduate curricula at the highest quality schools (where quality is subjectively determined by a survey proved to all schools in this category) is drastically less than the complexity of the curricula at those schools judged to be at the lower end of this quality ranking. The average complexity of those schools at the bottom of the raking is almost twice the average of those schools in the top decile of the ranking. In addition, we demonstrated that this difference is statistically significant; that is, this difference is due to something other than chance. Because the complexity of a curriculum is a measure of the difficulty that students are expected to have completing that curriculum, this difference has important student success implications. In particular, if we were to equalize instructional factors (e.g., the difficulty of the courses in the curriculum, the support services provided to students, etc.) and student background preparation, we would expect students to graduate at a higher rate from the lower complexity curricula. This is indeed what we observe, and the fact that this benefit is most pronounced in the highest quality programs deserves further investigation. It is possible to produce arguments for both sides of a possible cause-and-effect relationship between curricular complexity and program quality.  Below we consider a few.\n",
    "\n",
    "One might argue that because the top tier schools admit better prepared students they can offer less complex curricula, as their students can more easily overcome any knowledge gaps that may exist due to having fewer prerequisites prior to attempting a given course, as well as fewer total courses in their curricula. It should be noted, however, that there are a number of schools outside the tier that have created pathways in the first year of their curricula that substantially reduce curricular complexity. These curricular innovations have been demonstrated to significantly improve graduation rates, as well as the attainment of program learning outcomes. That is, it is possible to reduce the complexity of engineering programs that serve less-prepared students, while actually improving program quality (as judged by outcomes). More generally, we note that the principle of Occam's razor is often applied to guide engineering designs towards the simplest and therefore best solutions.  One of the most popular versions of this principle states, ``Entities are not to be multiplied without necessity.''  We posit that this study indicates this principle applies to curricula.  Namely, the simplest curriculum (in terms of complexity) that allows students to attain a program's learning outcomes yields the best student success outcomes and therefore the highest quality program."
   ]
  },
  {
   "cell_type": "markdown",
   "metadata": {},
   "source": [
    "## References\n",
    "Accreditation Board for Engineering and Technology (ABET) (2017). Criteria for Accrediting Engineering Programs: Effective for Reviews During the 2017–2018 Accreditation Cycle. www.abet.org.\n",
    "\n",
    "Cornell University, Electrical and Computer Engineering, Program Requirements, (accessed August 10, 2018). www.ece.cornell.edu/ece/programs/undergraduate-programs/majors/program-requirements.\n",
    "\n",
    "Heileman, G. L., Abdallah, C.T., Slim, A., and Hickman, M. (2018). Curricular analytics: A framework for quantifying the impact of curricular reforms and pedagogical innovations. www.arXiv.org, arXiv:1811.09676 [cs.CY].\n",
    "\n",
    "Heileman, G. L., Free, H. W., Abar, O. and Thompson-Arjona, W. G, (2019). CurricularAnalytics.jl Toolbox. https://github.com/heileman/CurricularAnalytics.jl."
   ]
  },
  {
   "cell_type": "code",
   "execution_count": null,
   "metadata": {},
   "outputs": [],
   "source": []
  }
 ],
 "metadata": {
  "@webio": {
   "lastCommId": "ff49bb9bdab24f75843e5d7052ae2651",
   "lastKernelId": "cebc880b-810d-4b1b-b119-56d28929334f"
  },
  "kernelspec": {
   "display_name": "Julia 1.5.0",
   "language": "julia",
   "name": "julia-1.5"
  },
  "language_info": {
   "file_extension": ".jl",
   "mimetype": "application/julia",
   "name": "julia",
   "version": "1.5.0"
  }
 },
 "nbformat": 4,
 "nbformat_minor": 2
}
