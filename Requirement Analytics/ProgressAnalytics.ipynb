{
 "cells": [
  {
   "cell_type": "markdown",
   "metadata": {},
   "source": [
    "# <center>Degree Progress Analytics</center>\n",
    "\n",
    "<center>\n",
    "    <b>Gregory L. Heileman,$^\\star$ Hayden W. Free$^\\ddagger$ and Chaouki T. Abdallah$^\\bullet$</b> <br><br>\n",
    "    $^\\star$Department of Electrical & Computer Engineering <br>\n",
    "    University of Arizona <br>\n",
    "    heileman@arizona.edu <br><br>\n",
    "    $^\\ddagger$Department of Computer Science <br>\n",
    "    University of Kentucky <br>\n",
    "    hayden.free@uky.edu<br><br>\n",
    "    $^\\bullet$Department of Electrical & Computer Engineering <br>\n",
    "    Georgia Institute of Technology <br>\n",
    "    ctabdallah@gatech.edu\n",
    "</center>\n",
    "\n",
    "## Introduction\n",
    "The Curricular Analytics Toolbox includes capablities that allow you to create customized degree plans according to various user-specifed optimization criteria. In order to use these capabilities, you first must have permission to access the CurricularOptimziation.jl package through a professional-level account. To obtain a professional-level account, please visit: http://CurricularAnalytics.org/pro. \n",
    "\n",
    "After obtaining your professional account, in order to use the CurricularOptimization tools, first enter package mode from the Julia REPL by pressing `]`, then enter: \n",
    "\n",
    "`pkg> add https://github.com/CurricularAnalytics/CurricularOptimization.jl.git`\n",
    "\n",
    "The curricular optimization features make use of the [JuMP](https://github.com/JuliaOpt/JuMP.jl) domain-specific language for specifying optimization problems in Julia, and call the [Gurobi](https://www.gurobi.com) solver in order to solve the optimzaton problems. In order to use these features you must also install the solver, called [Gurobi Optimizer](https://www.gurobi.com/downloads/gurobi-optimizer-eula). Gurobi is a commercial product, and requires a license key; however, [academic licenses](https://www.gurobi.com/downloads/end-user-license-agreement-academic) are available at no cost.\n",
    "\n",
    "After installing the Gurobi Solver on your computer, execute the following commands to use the optimization capabilities within the Curricular Analytics Toolbox: "
   ]
  },
  {
   "cell_type": "code",
   "execution_count": 1,
   "metadata": {
    "scrolled": false
   },
   "outputs": [
    {
     "name": "stderr",
     "output_type": "stream",
     "text": [
      "┌ Info: Precompiling CurricularVisualization [fbaee398-1ac9-4ee2-a69c-ef17203eefbf]\n",
      "└ @ Base loading.jl:1278\n",
      "WARNING: Method definition (::Type{CurricularAnalytics.DegreePlan})(AbstractString, CurricularAnalytics.Curriculum, Array{CurricularAnalytics.Term, 1}) in module CurricularAnalytics at /Users/hayden/.julia/packages/CurricularAnalytics/qqlQU/src/DataTypes/DegreePlan.jl:74 overwritten at /Users/hayden/.julia/packages/CurricularAnalytics/qqlQU/src/DataTypes/DegreePlan.jl:99.\n",
      "  ** incremental compilation may be fatally broken for this module **\n",
      "\n",
      "┌ Warning: `@get!(dict, key, default)` at /Users/hayden/.julia/packages/WebIO/nTMDV/src/scope.jl:160 is deprecated, use `get!(()->default, dict, key)` instead.\n",
      "└ @ Base deprecated.jl:204\n",
      "┌ Warning: `@get!(dict, key, default)` at /Users/hayden/.julia/packages/WebIO/nTMDV/src/scope.jl:357 is deprecated, use `get!(()->default, dict, key)` instead.\n",
      "└ @ Base deprecated.jl:204\n",
      "┌ Warning: `@get!(dict, key, default)` at /Users/hayden/.julia/packages/Lazy/mAoZN/src/collections.jl:49 is deprecated, use `get!(()->default, dict, key)` instead.\n",
      "└ @ Base deprecated.jl:204\n"
     ]
    },
    {
     "data": {
      "text/html": [
       "<script>\n",
       "// Immediately-invoked-function-expression to avoid global variables.\n",
       "(function() {\n",
       "    var warning_div = document.getElementById(\"webio-warning-16948889873995515335\");\n",
       "    var hide = function () {\n",
       "        var script = document.getElementById(\"webio-setup-12823204282779418915\");\n",
       "        var parent = script && script.parentElement;\n",
       "        var grandparent = parent && parent.parentElement;\n",
       "        if (grandparent) {\n",
       "            grandparent.style.display = \"none\";\n",
       "        }\n",
       "        warning_div.style.display = \"none\";\n",
       "    };\n",
       "    if (typeof Jupyter !== \"undefined\") {\n",
       "        console.log(\"WebIO detected Jupyter notebook environment.\");\n",
       "        // Jupyter notebook.\n",
       "        var extensions = (\n",
       "            Jupyter\n",
       "            && Jupyter.notebook.config.data\n",
       "            && Jupyter.notebook.config.data.load_extensions\n",
       "        );\n",
       "        if (extensions && extensions[\"webio-jupyter-notebook\"]) {\n",
       "            // Extension already loaded.\n",
       "            console.log(\"Jupyter WebIO nbextension detected; not loading ad-hoc.\");\n",
       "            hide();\n",
       "            return;\n",
       "        }\n",
       "    } else if (window.location.pathname.includes(\"/lab\")) {\n",
       "        // Guessing JupyterLa\n",
       "        console.log(\"Jupyter Lab detected; make sure the @webio/jupyter-lab-provider labextension is installed.\");\n",
       "        hide();\n",
       "        return;\n",
       "    }\n",
       "})();\n",
       "\n",
       "</script>\n",
       "<p\n",
       "    id=\"webio-warning-16948889873995515335\"\n",
       "    class=\"output_text output_stderr\"\n",
       "    style=\"padding: 1em; font-weight: bold;\"\n",
       ">\n",
       "    Unable to load WebIO. Please make sure WebIO works for your Jupyter client.\n",
       "    For troubleshooting, please see <a href=\"https://juliagizmos.github.io/WebIO.jl/latest/providers/ijulia/\">\n",
       "    the WebIO/IJulia documentation</a>.\n",
       "    <!-- TODO: link to installation docs. -->\n",
       "</p>\n"
      ],
      "text/plain": [
       "HTML{String}(\"<script>\\n// Immediately-invoked-function-expression to avoid global variables.\\n(function() {\\n    var warning_div = document.getElementById(\\\"webio-warning-16948889873995515335\\\");\\n    var hide = function () {\\n        var script = document.getElementById(\\\"webio-setup-12823204282779418915\\\");\\n        var parent = script && script.parentElement;\\n        var grandparent = parent && parent.parentElement;\\n        if (grandparent) {\\n            grandparent.style.display = \\\"none\\\";\\n        }\\n        warning_div.style.display = \\\"none\\\";\\n    };\\n    if (typeof Jupyter !== \\\"undefined\\\") {\\n        console.log(\\\"WebIO detected Jupyter notebook environment.\\\");\\n        // Jupyter notebook.\\n        var extensions = (\\n            Jupyter\\n            && Jupyter.notebook.config.data\\n            && Jupyter.notebook.config.data.load_extensions\\n        );\\n        if (extensions && extensions[\\\"webio-jupyter-notebook\\\"]) {\\n            // Extension already loaded.\\n            console.log(\\\"Jupyter WebIO nbextension detected; not loading ad-hoc.\\\");\\n            hide();\\n            return;\\n        }\\n    } else if (window.location.pathname.includes(\\\"/lab\\\")) {\\n        // Guessing JupyterLa\\n        console.log(\\\"Jupyter Lab detected; make sure the @webio/jupyter-lab-provider labextension is installed.\\\");\\n        hide();\\n        return;\\n    }\\n})();\\n\\n</script>\\n<p\\n    id=\\\"webio-warning-16948889873995515335\\\"\\n    class=\\\"output_text output_stderr\\\"\\n    style=\\\"padding: 1em; font-weight: bold;\\\"\\n>\\n    Unable to load WebIO. Please make sure WebIO works for your Jupyter client.\\n    For troubleshooting, please see <a href=\\\"https://juliagizmos.github.io/WebIO.jl/latest/providers/ijulia/\\\">\\n    the WebIO/IJulia documentation</a>.\\n    <!-- TODO: link to installation docs. -->\\n</p>\\n\")"
      ]
     },
     "metadata": {},
     "output_type": "display_data"
    },
    {
     "ename": "LoadError",
     "evalue": "ArgumentError: Package CurricularOptimization not found in current path:\n- Run `import Pkg; Pkg.add(\"CurricularOptimization\")` to install the CurricularOptimization package.\n",
     "output_type": "error",
     "traceback": [
      "ArgumentError: Package CurricularOptimization not found in current path:\n- Run `import Pkg; Pkg.add(\"CurricularOptimization\")` to install the CurricularOptimization package.\n",
      "",
      "Stacktrace:",
      " [1] require(::Module, ::Symbol) at ./loading.jl:893",
      " [2] include_string(::Function, ::Module, ::String, ::String) at ./loading.jl:1091"
     ]
    }
   ],
   "source": [
    "using CurricularAnalytics, CurricularVisualization, CurricularOptimization"
   ]
  },
  {
   "cell_type": "markdown",
   "metadata": {},
   "source": [
    "# Introduction\n",
    "The ability to determine a student's progress towards degree completion is a fundamental capability used throughout higher education.\n",
    "Specifically, given a collection of degree requirements a student must satisfy in order to earn the credential associated with an academic program, we are interested in answering questions related to degree progress relative to a student record.  A student record is assumed to contain the set of courses a student has attempted to complete, along with the grades they have earned on these attempts.  We are interested in answering the following types of questions:\n",
    "\n",
    "- **Degree Completion Progress**. For a given degree program at a particular institution, which degree requirements are satisfied by a given student transcript?  Note: degree completion progress capabilities can be used to perform \"degree audits.\"\n",
    "- **Cohort Analytics**. This involve the aggregation of individual degree progress analyses for the purpose of answering cohort-based analytics questions. E.g., what is the average progress of a particular first-time full-time cohort, and the expected graduation rate of the cohort based upon this progress?\n",
    "- **Transfer Articulation**. Given a student transcript from institution $A$, and a transfer articulation plan that details how courses at institution $A$ transfer as course credits to institution $B$, determine the degree requirements satisfied by the student transcript at institution $B$?  This capability can be used to support what-if analyses over an entire system of schools. E.g., given a student record from institution $A$, and a collection of institutions $\\Omega = (B, C, D, \\ldots)$, along with the transfer articulation plans from $A$ to every institution in $\\Omega$, for each program at each institution in $\\Omega$, what degree requirements are satisfied by the student record through transfer articulation? Based on these results, a student may wish to know which of the degrees offered by the institutions in $\\Omega$ they are closest to earning.\n",
    "- **Reverse Transfer Articulation**. Given a student transcript that includes credits from institutions $A$ and $B$, and a a transfer articulation plan that details how courses at institution $B$ transfer as course credits to institution $A$, determine if the entire set of degree requirements for any program at institution $A$ can be satisfied by transferring some credits from institution $B$."
   ]
  },
  {
   "cell_type": "markdown",
   "metadata": {},
   "source": [
    "## Degree Requirements, Degree Plans, and Curricula\n",
    "In order to better understand this work, it is helpful to establish some terminology related to academic degree programs. Any degree program (aka, major or academic program) at a college has a set of *degree requirements* that must be satisfied by students in order for them to earn the degree associated with the program.  For instance, a program at the undergraduate level may require its students to satisfy a general education core, major requirements, elective requirements, minor requirements, etc. For instance, in order for a student to earn the BA in Biology degree, they must complete a set of courses that satisfy all of the degree requirements associated with BA in Biology pogram.\n",
    "\n",
    "The particular collection of courses a student uses to satisfy a program's degree requirements is referred to as a *curriculum*. It is generally the case that many different curricula can satisfy a given set of degree requirements. For instance, students are given freedom in how to select the courses needed to satisfy technical electives, general electives, etc., and each choice produces a slightly different curriculum. The notion that a single set of degree requirements can be satisfied by numerous curricula is depicted in Figure 1. \n",
    "In summary, a curriculum specifies a set of courses, that if completed while earning sufficient grades, will lead to the conferral of a degree.\n",
    "\n",
    "<img src=\"data-types.pdf\" width=\"600\">\n",
    "<center>Figure 1. The relationships between degree requirements, curricula and degree plans.</center>\n",
    "\n",
    "It is worth noting that the courses in a curriculum often have prerequisite arrangements between them which create constraints on the order in which courses may be taken. More broadly, a degree plan for completing a curriculum over a certain number of terms is often provided to students. That is, a *degree plan* includes a temporal component that stipulates how a curriculum should be organized on a term-by-term basis. Figure 1 depicts the fact that, depending upon how courses are arranged, many different degree plans can be constructed from a single curriculum.\n",
    "\n",
    "### Combinatorial Complexity\n",
    "How many different curricula can be constructed that satisfy a single set of degree requriements, and how many degree plans can be constructed that satisfy a single curriculum?\n",
    "\n",
    "### Representing Degree Requirements\n",
    "A convenient way of representing a set of degree requirements is as a *requirements tree*, as shown in Figure 2.\n",
    "\n",
    "<img src=\"requirements-ex.pdf\" width=\"800\">\n",
    "<center>Figure 2. An example requirement tree associated with a degree program. Requirements are shown as rectangles, and the courses that must be successfully completed in order to satisfy a requirement are shown as circles.</center>\n",
    "\n",
    "As a simple example, consider a basket weaving program consisting of the following set of degree requirements:\n",
    "\n",
    "- A set of *general educaiton core* requirements, consisting of math and english sub-requirements. \n",
    "- A set of *major requirements* specific to the basket weaving major.\n"
   ]
  },
  {
   "cell_type": "code",
   "execution_count": null,
   "metadata": {},
   "outputs": [],
   "source": []
  },
  {
   "cell_type": "markdown",
   "metadata": {},
   "source": [
    "## Computing Degree Progress \n",
    "A brief overview of how we have structured the degree requirements satisfaction problem process as a mathematical optimzation problem is provided next. If you'd like to get straight to using the optimization features, you may skip to the code sections below.\n",
    "\n",
    "The formal framework we will use to represent a set of degree requirements in a requirements tree involves two types of structures, one for storing a collection of course requirements, i.e., course sets, and the other for storing a collection of requirements, i.e., requirement sets, as shown in Figure 3.\n",
    "\n",
    "<img src=\"requirement.pdf\" width=\"600\">\n",
    "<center>The two types of structures used to construct a requirements tree. <strong>(a)</strong> A <em>course set</em> requirement consists of a collection of course/minimum grade pairs $\\{\\rho_{1j}, \\ldots, \\rho_{jk}\\}$, as well as the number of credit hours taken from the courses in $\\{\\rho_{1j}, \\ldots, \\rho_{jk}\\}$ that must be successfully completed~(i.e., earn at least the minimum grade) in order to satisfy the requirement. <strong>(b)</strong> A <em>requirement set</em> consists of a set of requirements, i.e., course sets or other requirements sets, along with a specification of how many of them must be satisfied in order to satisfy the requirement set as a whole.</center>\n",
    "\n",
    "A *course set* is simply a set of course requirements, along with the minimum number of credit hours required to satisfy the course set requirement.  More specifically, a single course-set requirement, $cs_j$, consists of two elements:\n",
    "\\[\n",
    "  cs_j = (\\rho_j, \\theta_j)\n",
    "\\]\n",
    "where $\\rho_j$ is a list of the $|\\rho_j|$ courses in the course set, along with the minimum grade that must be earned in each, and $\\theta_j$ is the number of credit hours that must be completed (while earning the minimum grades) from the courses contained in the course set.  We will use $\\mbox{cr}[c_i]$ to denote the number of credit hours associated with course $c_i$.  With reference to a given student transcript, we will use $\\mbox{gr}[c_i]$ to denote the highest grade value for course $c_i$ on the transcript, assigning the value zero if course $c_i$ is not on the transcript.  \n",
    "\n",
    "> <u>**Course Set:**</u> Math General Education<br>\n",
    "> **Mininum # of Credits:** 6<br>\n",
    "> **Double Count:** True<br>\n",
    "> **Course Requirements:**\n",
    ">> (MATH 180: College Algebra (3 credits), D)<br> \n",
    ">>  (MATH 190: Trig. and Analytical Geometry (4 credits), D)<br> \n",
    ">>  (STA 120: Statistics and Probability (4 credits), D)<br> \n",
    ">>  (MATH 180: Calculus I (4 credits), D)<br> \n",
    ">>  (MATH 181: Calculus II (4 credits), D) \n",
    " \n",
    "This course set corresponds to the Math General Education requirement shown in Figure 2. It consists of five courses from which a student must earn D or better grades while accumulating at least six credit hours. In addition, the courses from this list may also be used to satisfy other degree requirements, i.e., they may be \"double counted.\"   \n",
    "\n",
    "A *requirement set* is a collection of other degree requirements, which may be course sets or other requirement sets as child requirements in the requirements. In addition, a requirement set specifies how many of the child requirements must be satisfied in order to satisfy the requirement set as a whole, and how many credit hours must be earned in doing so.  An example requirement set, corresponding to the General Education Core requirement shown in Figure 2, could then be specified as:\n",
    "\n",
    "> <u>**Requirement Set:**</u> General Education Core<br>\n",
    "> **Mininum # of Credits:** 30<br>\n",
    "> **Satisfy:** All<br>\n",
    "> **Requirements:** \n",
    ">> Math General Education<br>\n",
    ">> English General Education<br>\n",
    ">> Humanities General Education<br>\n",
    ">> Fine Arts General Education \n",
    "\n",
    "This requirement set contains four child requirements, all of which must be satisfied in order to satisfy the requirement set as a whole. A total of 30 credit hours must be completed from among the courses in the course sets that are descendants of the requirement set in the requirements tree. \n",
    "\n",
    "We now demonstrate, using the Theorem state below, that the expressive power of the requirement tree formulation is universal (functionally complete); that is, it can be used to represent any set of degree requirements expressible as Boolean functions. (Note: A functionally complete set of Boolean operators is capable of representing all Boolean functions $f:\\{0,1\\}^n \\rightarrow \\{0,1\\}, n \\ge 1$.) This means that any set of degree requirements specified using propositional logic can be represented in a requirements tree, where satisfaction of the propositional logical formula in this case corresponds to satisfaction of the corresponding degree requirements.\n",
    "\n",
    "**Theorem:** Any set of degree requirements expressible as a Boolean formula over a collection of courses can be represented using the previously described formal model for degree requirements.\n",
    "\n",
    "**Proof:** Consider a collection of courses, $c_1, \\ldots, c_n$, that may be used to satisfy a set of degree requirements. Create a collection of Boolean literals, $v_1, \\ldots, v_n$, where $v_i$ evaluates true if course $c_i$ was completed while earning the minimum grade necessary for it to count towards the satisfaction of a degree requirement. (If the same course appears in more than one degree requirement with different minimum required grades, simply treat this as two courses.) Using these literals, construct a disjunctive normal form (DNF) Boolean expression that evaluates true if and only if the set of earned course grades satisfy the degree requirements.  Because DNF expressions are functionally complete, we will demonstrate how to convert any DNF expression into an equivalent requirement tree. Consider a DNF expression consisting of a disjunction of $k$ conjunctive clauses, each containing a subset of the $n$ literals.  For each of the $k$ clauses create a separate course set, where each course set contains the courses corresponding to the literals in its corresponding clause, and set the minimum number of required credits in each course set to be the sum of the credits associated with the courses in the course set.  Note that a conjunctive clause will only evaluate true if all of the literals it contains evaluate true, and that the course set constructed from this clause will only be satisfied if all of the courses it contains are successfully completed.  Next, consider the disjunction $(p \\lor q)$ involving clauses $p$ and $q$, and assume the course set construction just described was used to construct course sets from clauses $p$ and $q$.  Construct three requirement sets using the course sets for $p$ and $q$, and organize them as follows:\n",
    "\n",
    "<img src=\"requirement_set_construct.pdf\" width=\"300\">\n",
    "\n",
    "where requirement sets $a$ and $b$ are set to satisfy one of their two child requirements, and requirement set $c$ is set to satisfy both of its child requirements. In addition, set both of the $p$ course sets and both of the $q$ course sets to allow double counting.  To see why the requirement set construction above will only be satisfied when $(p \\lor q)$ evaluates true, notice that satisfying one of two child requirements in a requirement set is equivalent to an exclusive disjunction, and satisfying two of two child requirements in a requirement set is equivalent to a conjunction. Then, using the fact that  \n",
    "$$\n",
    "   (p \\lor q) = (p \\oplus q) \\oplus (p \\land q)\n",
    "$$\n",
    "the result follows.  Finally, use the same construction as above to create the necessary requirement sets associated with all of the remaining disjunctions in the original DNF expression.  QED\n",
    "\n"
   ]
  },
  {
   "cell_type": "code",
   "execution_count": null,
   "metadata": {},
   "outputs": [],
   "source": []
  }
 ],
 "metadata": {
  "kernelspec": {
   "display_name": "Julia 1.5.0",
   "language": "julia",
   "name": "julia-1.5"
  },
  "language_info": {
   "file_extension": ".jl",
   "mimetype": "application/julia",
   "name": "julia",
   "version": "1.5.0"
  }
 },
 "nbformat": 4,
 "nbformat_minor": 2
}
