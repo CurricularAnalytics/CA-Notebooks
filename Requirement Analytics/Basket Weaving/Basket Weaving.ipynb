{
 "cells": [
  {
   "cell_type": "markdown",
   "metadata": {},
   "source": [
    "# <center>Curricular Analtyics Applied to Transfer Articulation: A Case Study</center>\n",
    "\n",
    "<center>\n",
    "    <b>Hayden W. Free$^\\ddagger$, Gregory L. Heileman,$^\\star$ and Chaouki T. Abdallah$^\\bullet$</b> <br><br>\n",
    "    $^\\star$Department of Electrical & Computer Engineering <br>\n",
    "    University of Arizona <br>\n",
    "    heileman@arizona.edu <br><br>\n",
    "    $^\\ddagger$Department of Computer Science <br>\n",
    "    University of Kentucky <br>\n",
    "    hayden.free@uky.edu<br><br>\n",
    "    $^\\bullet$Department of Electrical & Computer Engineering <br>\n",
    "    Georgia Institute of Technology <br>\n",
    "    ctabdallah@gatech.edu\n",
    "</center>\n",
    "\n",
    "The Curricular Analytics Toolbox includes capablities that allow you to create customized degree plans according to various user-specifed optimization criteria. In order to use these capabilities, you first must have permission to access the CurricularOptimziation.jl package through a professional-level account. To obtain a professional-level account, please visit: http://CurricularAnalytics.org/pro. \n",
    "\n",
    "After obtaining your professional account, in order to use the CurricularOptimization tools, first enter package mode from the Julia REPL by pressing `]`, then enter: \n",
    "\n",
    "`pkg> add https://github.com/CurricularAnalytics/CurricularOptimization.jl.git`\n",
    "\n",
    "The curricular optimization features make use of the [JuMP](https://github.com/JuliaOpt/JuMP.jl) domain-specific language for specifying optimization problems in Julia, and call the [Gurobi](https://www.gurobi.com) solver in order to solve the optimzaton problems. In order to use these features you must also install the solver, called [Gurobi Optimizer](https://www.gurobi.com/downloads/gurobi-optimizer-eula). Gurobi is a commercial product, and requires a license key; however, [academic licenses](https://www.gurobi.com/downloads/end-user-license-agreement-academic) are available at no cost.\n",
    "\n",
    "After installing the Gurobi Solver on your computer, execute the following commands to use the optimization capabilities within the Curricular Analytics Toolbox: "
   ]
  },
  {
   "cell_type": "code",
   "execution_count": 8,
   "metadata": {},
   "outputs": [],
   "source": [
    "using CurricularAnalytics, CurricularVisualization, CurricularOptimization, JuMP"
   ]
  },
  {
   "cell_type": "markdown",
   "metadata": {},
   "source": [
    "# Introduction\n",
    "What makes this problem hard? \n",
    "- Credit recognition - how will the courses be counted once tranferred?\n",
    "- Double counting courses that satisfy major & gen ed requirements"
   ]
  },
  {
   "cell_type": "markdown",
   "metadata": {},
   "source": [
    "# Example - Two Students Attempt to Study Basket Weaving\n",
    "In the following example we demonstrate two students that take very similiar courses, but one student transfers from a community college. This example highlights the large difference in degree progress that can occur depending on how courses transfer.\n",
    "\n",
    "For the sake of conserving space most of the input to perform these steps is contained in the `basket-weaving-example.jl` file, which is included with this notebook. Snippets of the various actions are highlighted below."
   ]
  },
  {
   "cell_type": "markdown",
   "metadata": {},
   "source": [
    "```julia\n",
    "# Create stores for institutions courses and catalog.\n",
    "college = \"KCTCS\"\n",
    "univ = \"Northern Keuncky University\"\n",
    "KCTCS_catalog = CourseCatalog(\"2019-20 Academic Year\", college)\n",
    "NKU_catalog = CourseCatalog(\"2019-20 Academic Year\", univ)\n",
    "KCTCS_courses = Array{Course,1}()\n",
    "NKU_courses = Array{Course,1}()\n",
    "\n",
    "# Create the KCTCS Courses \n",
    "push!(KCTCS_courses, Course(\"Writing I\", 3, prefix=\"ENG\", num=\"101\", institution=college))\n",
    "...\n",
    "# Add KCTCS courses to catalog\n",
    "add_course!(KCTCS_catalog, KCTCS_courses)\n",
    "\n",
    "# NKU Courses\n",
    "push!(NKU_courses, Course(\"Great Archaeological Sites\", 3, prefix=\"ANT\", num=\"114\", institution=univ))\n",
    "...\n",
    "# Add NKU courses to catalog\n",
    "add_course!(NKU_catalog, NKU_courses)\n",
    "\n",
    "# NKU General Education Requirement\n",
    "# First Communication subrequirement\n",
    "opt1 = CourseSet(\"Written Option 1\", 3, [course(NKU_catalog, \"ENG\", \"104\", \"Honors College Writing\") => grade(\"D\")])\n",
    "...\n",
    "# Construct full communication requirement set\n",
    "comm = RequirementSet(\"Communication\", 9, [written, oral], description=\"Gen. Ed. sub-requirement\")\n",
    "\n",
    "# Create CS Major Requirements\n",
    "cs_dr = RequirementSet(\"Degree Requirements\", 120, convert(Array{AbstractRequirement,1}, [gen_ed, cs_mr]), description=\"Degree Requirements for the BS Computer Science Degree\")\n",
    "\n",
    "# Create the transfer articulation map between KCTCS and NKU\n",
    "NKU_xfer = TransferArticulation(\"NKU Transfer Articulation\", univ, NKU_catalog)\n",
    "add_transfer_catalog(NKU_xfer, KCTCS_catalog)\n",
    "add_transfer_course(NKU_xfer, [course_id(\"ENG\", \"101\", \"College Writing\", univ)], KCTCS_catalog.id, course_id(\"ENG\", \"101\", \"Writing I\", college))\n",
    "...\n",
    "\n",
    "# Create a transcript involving KCTCS coursework\n",
    "KCTCS_transcript = Array{CourseRecord,1}()\n",
    "push!(KCTCS_transcript, CourseRecord(course(KCTCS_catalog, \"CIT\", \"105\", \"Introduction to Computing\"), grade(\"A\")))\n",
    "...\n",
    "\n",
    "# Finally use the NKU_xfer object to find equivalent courses for all courses in KCTCS_transcript\n",
    "```"
   ]
  },
  {
   "cell_type": "code",
   "execution_count": 9,
   "metadata": {},
   "outputs": [
    {
     "name": "stdout",
     "output_type": "stream",
     "text": [
      "Academic license - for non-commercial use only\n",
      "Gurobi Optimizer version 9.0.1 build v9.0.1rc0 (mac64)\n",
      "Optimize a model with 17 rows, 32 columns and 154 nonzeros\n",
      "Model fingerprint: 0xd8c700fc\n",
      "Model has 2 general constraints\n",
      "Variable types: 0 continuous, 32 integer (32 binary)\n",
      "Coefficient statistics:\n",
      "  Matrix range     [1e+00, 4e+00]\n",
      "  Objective range  [3e+00, 5e+00]\n",
      "  Bounds range     [0e+00, 0e+00]\n",
      "  RHS range        [1e+00, 3e+01]\n",
      "\n",
      "---------------------------------------------------------------------------\n",
      "Multi-objectives: starting optimization with 2 objectives (1 combined) ...\n",
      "---------------------------------------------------------------------------\n",
      "---------------------------------------------------------------------------\n",
      "\n",
      "Multi-objectives: optimize objective 1 (weighted) ...\n",
      "---------------------------------------------------------------------------\n",
      "\n",
      "Optimize a model with 17 rows, 32 columns and 154 nonzeros\n",
      "Model has 2 general constraints\n",
      "Variable types: 0 continuous, 32 integer (32 binary)\n",
      "Coefficient statistics:\n",
      "  Matrix range     [1e+00, 4e+00]\n",
      "  Objective range  [6e+00, 9e+00]\n",
      "  Bounds range     [1e+00, 1e+00]\n",
      "  RHS range        [1e+00, 3e+01]\n",
      "Presolve removed 17 rows and 32 columns\n",
      "Presolve time: 0.00s\n",
      "Presolve: All rows and columns removed\n",
      "\n",
      "Explored 0 nodes (0 simplex iterations) in 0.00 seconds\n",
      "Thread count was 1 (of 8 available processors)\n",
      "\n",
      "Solution count 1: 25 \n",
      "\n",
      "Optimal solution found (tolerance 1.00e-04)\n",
      "Best objective 2.500000000000e+01, best bound 2.500000000000e+01, gap 0.0000%\n",
      "\n",
      "---------------------------------------------------------------------------\n",
      "Multi-objectives: solved in 0.00 seconds, solution count 1\n",
      "\n",
      "\n",
      "User-callback calls 45, time in user-callback 0.00 sec\n",
      "An optimal solution was found with objective value = 12.0\n"
     ]
    },
    {
     "ename": "LoadError",
     "evalue": "LoadError: MethodError: no method matching satisfied(::Array{CourseRecord,1}, ::RequirementSet, ::Array{Float64,2})\nin expression starting at /Users/heileman/Library/Mobile Documents/com~apple~CloudDocs/work/research/Curricular Analytics/CA-Notebooks/Requirement Analytics/Basket Weaving/basket-weaving-example.jl:126",
     "output_type": "error",
     "traceback": [
      "LoadError: MethodError: no method matching satisfied(::Array{CourseRecord,1}, ::RequirementSet, ::Array{Float64,2})\nin expression starting at /Users/heileman/Library/Mobile Documents/com~apple~CloudDocs/work/research/Curricular Analytics/CA-Notebooks/Requirement Analytics/Basket Weaving/basket-weaving-example.jl:126",
      "",
      "Stacktrace:",
      " [1] top-level scope at /Users/heileman/Library/Mobile Documents/com~apple~CloudDocs/work/research/Curricular Analytics/CA-Notebooks/Requirement Analytics/Basket Weaving/basket-weaving-example.jl:126",
      " [2] include(::String) at ./client.jl:457",
      " [3] top-level scope at In[9]:1",
      " [4] include_string(::Function, ::Module, ::String, ::String) at ./loading.jl:1091"
     ]
    }
   ],
   "source": [
    "include(\"./basket-weaving-example.jl\")\n",
    "display(\"text/html\", \"<style>.container { width:100% !important; }</style>\")"
   ]
  },
  {
   "cell_type": "code",
   "execution_count": null,
   "metadata": {},
   "outputs": [],
   "source": []
  }
 ],
 "metadata": {
  "kernelspec": {
   "display_name": "Julia 1.5.0",
   "language": "julia",
   "name": "julia-1.5"
  },
  "language_info": {
   "file_extension": ".jl",
   "mimetype": "application/julia",
   "name": "julia",
   "version": "1.5.0"
  }
 },
 "nbformat": 4,
 "nbformat_minor": 5
}
