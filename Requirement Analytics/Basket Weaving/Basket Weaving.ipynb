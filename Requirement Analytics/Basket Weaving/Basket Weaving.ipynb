{
 "cells": [
  {
   "cell_type": "markdown",
   "id": "recognized-christianity",
   "metadata": {},
   "source": [
    "# <center>Basket Weaving</center>\n",
    "\n",
    "<center>\n",
    "    <b>Gregory L. Heileman,$^\\star$ Hayden W. Free$^\\ddagger$ and Chaouki T. Abdallah$^\\bullet$</b> <br><br>\n",
    "    $^\\star$Department of Electrical & Computer Engineering <br>\n",
    "    University of Arizona <br>\n",
    "    heileman@arizona.edu <br><br>\n",
    "    $^\\ddagger$Department of Computer Science <br>\n",
    "    University of Kentucky <br>\n",
    "    hayden.free@uky.edu<br><br>\n",
    "    $^\\bullet$Department of Electrical & Computer Engineering <br>\n",
    "    Georgia Institute of Technology <br>\n",
    "    ctabdallah@gatech.edu\n",
    "</center>\n",
    "\n",
    "The Curricular Analytics Toolbox includes capablities that allow you to create customized degree plans according to various user-specifed optimization criteria. In order to use these capabilities, you first must have permission to access the CurricularOptimziation.jl package through a professional-level account. To obtain a professional-level account, please visit: http://CurricularAnalytics.org/pro. \n",
    "\n",
    "After obtaining your professional account, in order to use the CurricularOptimization tools, first enter package mode from the Julia REPL by pressing `]`, then enter: \n",
    "\n",
    "`pkg> add https://github.com/CurricularAnalytics/CurricularOptimization.jl.git`\n",
    "\n",
    "The curricular optimization features make use of the [JuMP](https://github.com/JuliaOpt/JuMP.jl) domain-specific language for specifying optimization problems in Julia, and call the [Gurobi](https://www.gurobi.com) solver in order to solve the optimzaton problems. In order to use these features you must also install the solver, called [Gurobi Optimizer](https://www.gurobi.com/downloads/gurobi-optimizer-eula). Gurobi is a commercial product, and requires a license key; however, [academic licenses](https://www.gurobi.com/downloads/end-user-license-agreement-academic) are available at no cost.\n",
    "\n",
    "After installing the Gurobi Solver on your computer, execute the following commands to use the optimization capabilities within the Curricular Analytics Toolbox: "
   ]
  },
  {
   "cell_type": "code",
   "execution_count": 5,
   "id": "coastal-madison",
   "metadata": {},
   "outputs": [],
   "source": [
    "using CurricularAnalytics, CurricularVisualization, CurricularOptimization"
   ]
  },
  {
   "cell_type": "markdown",
   "id": "modern-feeding",
   "metadata": {},
   "source": [
    "# Introduction\n",
    "What makes this problem hard? \n",
    "- Credit recognition - how will the courses be counted once tranferred?\n",
    "- Double counting courses that satisfy major & gen ed requirements"
   ]
  },
  {
   "cell_type": "markdown",
   "id": "cellular-thought",
   "metadata": {},
   "source": [
    "# Example - Two Students Attempt to Study Basket Weaving\n",
    "In the following example we demonstrate two students that take very similiar courses, but one student transfers from a community college. This example highlights the large difference in degree progress that can occur depending on how courses transfer.\n",
    "\n",
    "For the sake of conserving space most of the input to perform these steps is contained in the `basket-weaving-example.jl` file, which is included with this notebook. Snippets of the various actions are highlighted below."
   ]
  },
  {
   "cell_type": "markdown",
   "id": "driving-separation",
   "metadata": {},
   "source": [
    "```julia\n",
    "# Create stores for institutions courses and catalog.\n",
    "college = \"KCTCS\"\n",
    "univ = \"Northern Keuncky University\"\n",
    "KCTCS_catalog = CourseCatalog(\"2019-20 Academic Year\", college)\n",
    "NKU_catalog = CourseCatalog(\"2019-20 Academic Year\", univ)\n",
    "KCTCS_courses = Array{Course,1}()\n",
    "NKU_courses = Array{Course,1}()\n",
    "\n",
    "# Create the KCTCS Courses \n",
    "push!(KCTCS_courses, Course(\"Writing I\", 3, prefix=\"ENG\", num=\"101\", institution=college))\n",
    "...\n",
    "# Add KCTCS courses to catalog\n",
    "add_course!(KCTCS_catalog, KCTCS_courses)\n",
    "\n",
    "# NKU Courses\n",
    "push!(NKU_courses, Course(\"Great Archaeological Sites\", 3, prefix=\"ANT\", num=\"114\", institution=univ))\n",
    "...\n",
    "# Add NKU courses to catalog\n",
    "add_course!(NKU_catalog, NKU_courses)\n",
    "\n",
    "# NKU General Education Requirement\n",
    "# First Communication subrequirement\n",
    "opt1 = CourseSet(\"Written Option 1\", 3, [course(NKU_catalog, \"ENG\", \"104\", \"Honors College Writing\") => grade(\"D\")])\n",
    "...\n",
    "# Construct full communication requirement set\n",
    "comm = RequirementSet(\"Communication\", 9, [written, oral], description=\"Gen. Ed. sub-requirement\")\n",
    "\n",
    "# Create CS Major Requirements\n",
    "cs_dr = RequirementSet(\"Degree Requirements\", 120, convert(Array{AbstractRequirement,1}, [gen_ed, cs_mr]), description=\"Degree Requirements for the BS Computer Science Degree\")\n",
    "\n",
    "# Create the transfer articulation map between KCTCS and NKU\n",
    "NKU_xfer = TransferArticulation(\"NKU Transfer Articulation\", univ, NKU_catalog)\n",
    "add_transfer_catalog(NKU_xfer, KCTCS_catalog)\n",
    "add_transfer_course(NKU_xfer, [course_id(\"ENG\", \"101\", \"College Writing\", univ)], KCTCS_catalog.id, course_id(\"ENG\", \"101\", \"Writing I\", college))\n",
    "...\n",
    "\n",
    "# Create a transcript involving KCTCS coursework\n",
    "KCTCS_transcript = Array{CourseRecord,1}()\n",
    "push!(KCTCS_transcript, CourseRecord(course(KCTCS_catalog, \"CIT\", \"105\", \"Introduction to Computing\"), grade(\"A\")))\n",
    "...\n",
    "\n",
    "# Finally use the NKU_xfer object to find equivalent courses for all courses in KCTCS_transcript\n",
    "```"
   ]
  },
  {
   "cell_type": "code",
   "execution_count": null,
   "id": "informed-timber",
   "metadata": {},
   "outputs": [],
   "source": [
    "include(\"./basket-weaving-example.jl\")\n",
    "display(\"text/html\", \"<style>.container { width:100% !important; }</style>\")"
   ]
  }
 ],
 "metadata": {
  "kernelspec": {
   "display_name": "Julia 1.5.0",
   "language": "julia",
   "name": "julia-1.5"
  },
  "language_info": {
   "file_extension": ".jl",
   "mimetype": "application/julia",
   "name": "julia",
   "version": "1.5.0"
  }
 },
 "nbformat": 4,
 "nbformat_minor": 5
}
