{
 "cells": [
  {
   "cell_type": "markdown",
   "metadata": {},
   "source": [
    "# <center>Curricular Analytics Applied to Transfer Articulation: A Case Study</center>\n",
    "\n",
    "<center>\n",
    "    <b>Hayden W. Free$^\\ddagger$, Gregory L. Heileman,$^\\star$ and Chaouki T. Abdallah$^\\bullet$</b> <br><br>\n",
    "    $^\\star$Department of Electrical & Computer Engineering <br>\n",
    "    University of Arizona <br>\n",
    "    heileman@arizona.edu <br><br>\n",
    "    $^\\ddagger$Department of Computer Science <br>\n",
    "    University of Kentucky <br>\n",
    "    hayden.free@uky.edu<br><br>\n",
    "    $^\\bullet$Department of Electrical & Computer Engineering <br>\n",
    "    Georgia Institute of Technology <br>\n",
    "    ctabdallah@gatech.edu\n",
    "</center>\n",
    "\n",
    "The Curricular Analytics Toolbox includes capablities that allow you to create customized degree plans according to various user-specifed optimization criteria. In order to use these capabilities, you first must have permission to access the CurricularOptimziation.jl package through a professional-level account. To obtain a professional-level account, please visit: http://CurricularAnalytics.org/pro. \n",
    "\n",
    "After obtaining your professional account, in order to use the CurricularOptimization tools, first enter package mode from the Julia REPL by pressing `]`, then enter: \n",
    "\n",
    "`pkg> add https://github.com/CurricularAnalytics/CurricularOptimization.jl.git`\n",
    "\n",
    "The curricular optimization features make use of the [JuMP](https://github.com/JuliaOpt/JuMP.jl) domain-specific language for specifying optimization problems in Julia, and call the [Gurobi](https://www.gurobi.com) solver in order to solve the optimzaton problems. In order to use these features you must also install the solver, called [Gurobi Optimizer](https://www.gurobi.com/downloads/gurobi-optimizer-eula). Gurobi is a commercial product, and requires a license key; however, [academic licenses](https://www.gurobi.com/downloads/end-user-license-agreement-academic) are available at no cost.\n",
    "\n",
    "After installing the Gurobi Solver on your computer, execute the following commands to use the optimization capabilities within the Curricular Analytics Toolbox: "
   ]
  },
  {
   "cell_type": "code",
   "execution_count": 2,
   "metadata": {
    "scrolled": false
   },
   "outputs": [],
   "source": [
    "using CurricularAnalytics, CurricularVisualization, CurricularOptimization;"
   ]
  },
  {
   "cell_type": "markdown",
   "metadata": {},
   "source": [
    "# Introduction\n",
    "\n",
    "In many cases when a student transfers the credits from the original institution are not lost, but are either wasted or ineffecient in progressing towards the target degree.\n",
    "\n",
    "### What makes this problem hard?\n",
    "NOTE: automotive always trips people up, use that example. military credits **rarely** apply even though they're accepted\n",
    "<img src=\"hard-problem.png\" width=\"600\" style=\"float:left\">"
   ]
  },
  {
   "cell_type": "markdown",
   "metadata": {},
   "source": [
    "### We want credits that apply, not just count!"
   ]
  },
  {
   "cell_type": "markdown",
   "metadata": {},
   "source": [
    "# Example - Two Students Attempt to Study Basket Weaving\n",
    "In the following example we demonstrate two students that take very similiar courses, but one student transfers from a community college. This example highlights the large difference in degree progress that can occur depending on how courses transfer.\n",
    "\n",
    "For the sake of conserving space most of the input to perform these steps is contained in the `basket-weaving-example.jl` file, which is included with this notebook. Snippets of the various actions are highlighted below."
   ]
  },
  {
   "cell_type": "markdown",
   "metadata": {},
   "source": [
    "```julia\n",
    "# Create stores for institutions courses and catalog.\n",
    "college = \"Tri-County Community College\"\n",
    "univ = \"Big State U\"\n",
    "tri_county_catalog = CourseCatalog(\"2019-20 Academic Year\", college)\n",
    "big_state_catalog = CourseCatalog(\"2019-20 Academic Year\", univ)\n",
    "tri_county_courses = Array{Course,1}()\n",
    "big_state_courses = Array{Course,1}()\n",
    "\n",
    "# Create the tri county Courses \n",
    "push!(tri_county_courses, Course(\"Probability & Statistics\", 3, prefix=\"MA\", num=\"107\", institution=college))\n",
    "...\n",
    "# Add tri county courses to catalog\n",
    "add_course!(tri_county_catalog, tri_county_courses)\n",
    "\n",
    "\n",
    "# Create the big state Courses\n",
    "push!(big_state_courses, Course(\"Statistics\", 3, prefix=\"MATH\", num=\"120\", institution=univ))\n",
    "...\n",
    "# Add big state courses to catalog\n",
    "add_course!(big_state_catalog, big_state_courses)\n",
    "\n",
    "\n",
    "# Big State U General Education Requirement\n",
    "# Math Requirement\n",
    "math = CourseSet(\"Math Requirement\", 3, [course(big_state_catalog, \"MATH\", \"120\", \"Statistics\") => grade(\"D\"),course(big_state_catalog, \"MATH\", \"180\", \"Calculus I\") => grade(\"D\"), course(big_state_catalog, \"MATH\", \"140\", \"College Trigonometry\") => grade(\"D\")], double_count = true)\n",
    "#                                               ^^^ Double Count is critical here\n",
    "...\n",
    "\n",
    "# Construct full GenEd requirement set\n",
    "gen_ed = RequirementSet(\"General Education Core\", 9, convert(Array{AbstractRequirement,1}, [math, phys_ed, humanities]), description=\"General Education Requirements\")\n",
    "\n",
    "\n",
    "# Create BW Degree Requirements\n",
    "bw_dr = RequirementSet(\"Degree Requirements\", 30, convert(Array{AbstractRequirement,1}, [gen_ed, bw_major]), description=\"Degree Requirements for the BS Computer Science Degree\")\n",
    "\n",
    "\n",
    "# Create the transfer articulation map between tri county and big state\n",
    "BSU_xfer = TransferArticulation(\"Big State U Transfer Articulation\", univ, big_state_catalog)\n",
    "add_transfer_catalog(BSU_xfer, tri_county_catalog)\n",
    "add_transfer_course(BSU_xfer, [course_id(\"MATH\", \"120\", \"Statistics\", univ)], tri_county_catalog.id, course_id(\"MA\", \"107\", \"Probability & Statistics\", college))\n",
    "...\n",
    "\n",
    "# Create a transcript involving tri county coursework (Our transfer student)\n",
    "tri_county_transcript = Array{CourseRecord,1}()\n",
    "push!(tri_county_transcript, CourseRecord(course(tri_county_catalog, \"MA\", \"107\", \"Probability & Statistics\"), grade(\"A\")))\n",
    "...\n",
    "\n",
    "# Map tri state courses and grades to big state courses and grades through transfer equivalences\n",
    "BSU_equiv_transcript = Array{CourseRecord,1}()\n",
    "for cr in tri_county_transcript\n",
    "    ...\n",
    "end\n",
    "\n",
    "\n",
    "# Determine the requirements satisfied at BSU by the articulated courses\n",
    "model = assign_courses(BSU_equiv_transcript, bw_dr, [applied_credits, requirement_level])\n",
    "x = model.obj_dict[:x]\n",
    "is_satisfied = satisfied(BSU_equiv_transcript, bw_dr, JuMP.value.(x))\n",
    "show_requirements(bw_dr, satisfied=is_satisfied)\n",
    "```"
   ]
  },
  {
   "cell_type": "code",
   "execution_count": 8,
   "metadata": {},
   "outputs": [
    {
     "ename": "LoadError",
     "evalue": "UndefVarError: big_state_catalog not defined",
     "output_type": "error",
     "traceback": [
      "UndefVarError: big_state_catalog not defined",
      "",
      "Stacktrace:",
      " [1] top-level scope",
      "   @ In[8]:2",
      " [2] eval",
      "   @ ./boot.jl:360 [inlined]",
      " [3] include_string(mapexpr::typeof(REPL.softscope), mod::Module, code::String, filename::String)",
      "   @ Base ./loading.jl:1094"
     ]
    }
   ],
   "source": [
    "big_state_transcript = Array{CourseRecord,1}()\n",
    "push!(big_state_transcript, CourseRecord(course(big_state_catalog, \"MATH\", \"110\", \"College Algebra\"), grade(\"A\")))\n",
    "push!(big_state_transcript, CourseRecord(course(big_state_catalog, \"PHS\", \"110\", \"Swimming\"), grade(\"B\")))\n",
    "push!(big_state_transcript, CourseRecord(course(big_state_catalog, \"BW\", \"101\", \"Basic Basket Forms\"), grade(\"A\")))\n",
    "push!(big_state_transcript, CourseRecord(course(big_state_catalog, \"PHIL\", \"100\", \"Intro. Philosophy\"), grade(\"D\")))\n",
    "push!(big_state_transcript, CourseRecord(course(big_state_catalog, \"MATH\", \"140\", \"College Trigonometry\"), grade(\"B\")))\n",
    "\n",
    "bsu_model = assign_courses(big_state_transcript, bw_dr, [applied_credits, requirement_level]);\n",
    "x = bsu_model.obj_dict[:x];\n",
    "bsu_satisfied = satisfied(big_state_transcript, bw_dr, JuMP.value.(x));\n",
    "show_requirements(bw_dr, satisfied=bsu_satisfied)"
   ]
  },
  {
   "cell_type": "code",
   "execution_count": 7,
   "metadata": {},
   "outputs": [
    {
     "ename": "LoadError",
     "evalue": "UndefVarError: value not defined",
     "output_type": "error",
     "traceback": [
      "UndefVarError: value not defined",
      "",
      "Stacktrace:",
      " [1] top-level scope",
      "   @ In[7]:1",
      " [2] eval",
      "   @ ./boot.jl:360 [inlined]",
      " [3] include_string(mapexpr::typeof(REPL.softscope), mod::Module, code::String, filename::String)",
      "   @ Base ./loading.jl:1094"
     ]
    }
   ],
   "source": [
    "bsu_audit = audit_transcript(big_state_transcript, bw_dr, value.(x))\n",
    "\n",
    "for (course,reason) in bsu_audit\n",
    "    println(\"$(course.course.name) ---> $(reason)\")\n",
    "end"
   ]
  },
  {
   "cell_type": "markdown",
   "metadata": {},
   "source": [
    "# How These Students Compare\n",
    "\n",
    "## Big State University Student\n",
    "<img src=\"bsu-student.png\" width=\"600\">\n",
    "\n",
    "<br>\n",
    "<br>\n",
    "<br>\n",
    "<br>\n",
    "\n",
    "## Tri County Transfer Student\n",
    "<img src=\"tri-county-student.png\" width=\"600\">"
   ]
  }
 ],
 "metadata": {
  "@webio": {
   "lastCommId": null,
   "lastKernelId": null
  },
  "kernelspec": {
   "display_name": "Julia 1.6.0",
   "language": "julia",
   "name": "julia-1.6"
  },
  "language_info": {
   "file_extension": ".jl",
   "mimetype": "application/julia",
   "name": "julia",
   "version": "1.6.0"
  }
 },
 "nbformat": 4,
 "nbformat_minor": 5
}
