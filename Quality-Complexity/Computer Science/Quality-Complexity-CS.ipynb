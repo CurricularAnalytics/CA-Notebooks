{
 "cells": [
  {
   "cell_type": "markdown",
   "metadata": {},
   "source": [
    "# <center>Quality/Complexity of Computer Science Programs</center>\n",
    "\n",
    "<center>\n",
    "    <b>Gregory L. Heileman$^\\dagger$ and Hayden W. Free$^\\ddagger$ and Johnny and Camden</b> <br>\n",
    "    $^\\dagger$Department of Electrical & Computer Engineering <br>\n",
    "    $^\\ddagger$Department of Computer Science <br>\n",
    "    University of Kentucky <br>\n",
    "    {greg.heileman, wgthompson, orhan.abar,  hayden.free}@uky.edu\n",
    "</center>\n",
    "\n",
    "## Introduction\n",
    "In this notebook we compare the complexity of computer science programs across the U.S. News & World report rankings.\n",
    "\n",
    "This analysis is based upon recently developed curricular complexity metrics (see <cite data-cite=\"he:18\">Heileman, et. al, (2018)</cite>).  Research in this area demonstrates that according to these complexity metrics, engineering programs tend to be among the most complex univeristy curricula. This is attributed to the large number of prerequisites that accompany many of the courses in engineering programs, as well as the long prerequisite chains that tend to exist in these curricula. This notebook makes use use of a Curricular Analytics toolbox that was built to compute these curricular complexity metrics <cite data-cite=\"he:18\">Heileman, et. al. (2019)</cite>).    \n",
    "\n",
    "The following Julia packages are needed for this analyisis:"
   ]
  },
  {
   "cell_type": "code",
   "execution_count": 1,
   "metadata": {},
   "outputs": [
    {
     "data": {
      "text/html": [
       "<script>\n",
       "// Immediately-invoked-function-expression to avoid global variables.\n",
       "(function() {\n",
       "    var warning_div = document.getElementById(\"webio-warning-10320161504641510283\");\n",
       "    var hide = function () {\n",
       "        var script = document.getElementById(\"webio-setup-10689667359029827390\");\n",
       "        var parent = script && script.parentElement;\n",
       "        var grandparent = parent && parent.parentElement;\n",
       "        if (grandparent) {\n",
       "            grandparent.style.display = \"none\";\n",
       "        }\n",
       "        warning_div.style.display = \"none\";\n",
       "    };\n",
       "    if (typeof Jupyter !== \"undefined\") {\n",
       "        console.log(\"WebIO detected Jupyter notebook environment.\");\n",
       "        // Jupyter notebook.\n",
       "        var extensions = (\n",
       "            Jupyter\n",
       "            && Jupyter.notebook.config.data\n",
       "            && Jupyter.notebook.config.data.load_extensions\n",
       "        );\n",
       "        if (extensions && extensions[\"webio/main\"]) {\n",
       "            // Extension already loaded.\n",
       "            console.log(\"Jupyter WebIO nbextension detected; not loading ad-hoc.\");\n",
       "            hide();\n",
       "            return;\n",
       "        }\n",
       "        console.warn(\"Loading WebIO Jupyter extension on an ad-hoc basis. Consider enabling the WebIO nbextension for a stabler experience (this should happen automatically when building WebIO).\");\n",
       "        warning_div.innerHTML = \"<strong>Loading WebIO Jupyter extension on an ad-hoc basis. Consider enabling the WebIO nbextension for a stabler experience (this should happen automatically when building WebIO).</strong>\";\n",
       "    } else if (window.location.pathname.includes(\"/lab\")) {\n",
       "        // Guessing JupyterLa\n",
       "        console.log(\"Jupyter Lab detected; make sure the @webio/jupyter-lab-provider labextension is installed.\");\n",
       "        hide();\n",
       "        return;\n",
       "    }\n",
       "})();\n",
       "\n",
       "</script>\n",
       "<p\n",
       "    id=\"webio-warning-10320161504641510283\"\n",
       "    class=\"output_text output_stderr\"\n",
       "    style=\"padding: 1em; font-weight: bold;\"\n",
       ">\n",
       "    Unable to load WebIO. Please make sure WebIO works for your Jupyter client.\n",
       "    For troubleshooting, please see <a href=\"https://juliagizmos.github.io/WebIO.jl/latest/providers/ijulia/\">\n",
       "    the WebIO/IJulia documentation</a>.\n",
       "    <!-- TODO: link to installation docs. -->\n",
       "</p>\n"
      ],
      "text/plain": [
       "HTML{String}(\"<script>\\n// Immediately-invoked-function-expression to avoid global variables.\\n(function() {\\n    var warning_div = document.getElementById(\\\"webio-warning-10320161504641510283\\\");\\n    var hide = function () {\\n        var script = document.getElementById(\\\"webio-setup-10689667359029827390\\\");\\n        var parent = script && script.parentElement;\\n        var grandparent = parent && parent.parentElement;\\n        if (grandparent) {\\n            grandparent.style.display = \\\"none\\\";\\n        }\\n        warning_div.style.display = \\\"none\\\";\\n    };\\n    if (typeof Jupyter !== \\\"undefined\\\") {\\n        console.log(\\\"WebIO detected Jupyter notebook environment.\\\");\\n        // Jupyter notebook.\\n        var extensions = (\\n            Jupyter\\n            && Jupyter.notebook.config.data\\n            && Jupyter.notebook.config.data.load_extensions\\n        );\\n        if (extensions && extensions[\\\"webio/main\\\"]) {\\n            // Extension already loaded.\\n            console.log(\\\"Jupyter WebIO nbextension detected; not loading ad-hoc.\\\");\\n            hide();\\n            return;\\n        }\\n        console.warn(\\\"Loading WebIO Jupyter extension on an ad-hoc basis. Consider enabling the WebIO nbextension for a stabler experience (this should happen automatically when building WebIO).\\\");\\n        warning_div.innerHTML = \\\"<strong>Loading WebIO Jupyter extension on an ad-hoc basis. Consider enabling the WebIO nbextension for a stabler experience (this should happen automatically when building WebIO).</strong>\\\";\\n    } else if (window.location.pathname.includes(\\\"/lab\\\")) {\\n        // Guessing JupyterLa\\n        console.log(\\\"Jupyter Lab detected; make sure the @webio/jupyter-lab-provider labextension is installed.\\\");\\n        hide();\\n        return;\\n    }\\n})();\\n\\n</script>\\n<p\\n    id=\\\"webio-warning-10320161504641510283\\\"\\n    class=\\\"output_text output_stderr\\\"\\n    style=\\\"padding: 1em; font-weight: bold;\\\"\\n>\\n    Unable to load WebIO. Please make sure WebIO works for your Jupyter client.\\n    For troubleshooting, please see <a href=\\\"https://juliagizmos.github.io/WebIO.jl/latest/providers/ijulia/\\\">\\n    the WebIO/IJulia documentation</a>.\\n    <!-- TODO: link to installation docs. -->\\n</p>\\n\")"
      ]
     },
     "metadata": {},
     "output_type": "display_data"
    },
    {
     "name": "stderr",
     "output_type": "stream",
     "text": [
      "┌ Info: Recompiling stale cache file /Users/hayden/.julia/compiled/v1.1/StatsPlots/SiylL.ji for StatsPlots [f3b207a7-027a-5e70-b257-86293d7955fd]\n",
      "└ @ Base loading.jl:1184\n"
     ]
    }
   ],
   "source": [
    "using CurricularAnalytics\n",
    "using Glob\n",
    "using CSV\n",
    "using DataFrames\n",
    "using Statistics\n",
    "using StatsPlots"
   ]
  },
  {
   "cell_type": "markdown",
   "metadata": {},
   "source": [
    "## Complexity of Computer Science Curricula\n",
    "To get a sense of the diversity in the complexities of undergraduate computer science program curricula, below we provide  visulizations of a few computer science programs."
   ]
  },
  {
   "cell_type": "code",
   "execution_count": 2,
   "metadata": {
    "scrolled": false
   },
   "outputs": [
    {
     "ename": "SystemError",
     "evalue": "SystemError: opening file \"./curricula/Montana_State-CS.csv\": No such file or directory",
     "output_type": "error",
     "traceback": [
      "SystemError: opening file \"./curricula/Montana_State-CS.csv\": No such file or directory",
      "",
      "Stacktrace:",
      " [1] #systemerror#43(::Nothing, ::Function, ::String, ::Bool) at ./error.jl:134",
      " [2] systemerror at ./error.jl:134 [inlined]",
      " [3] #open#309(::Nothing, ::Nothing, ::Nothing, ::Nothing, ::Nothing, ::Function, ::String) at ./iostream.jl:283",
      " [4] open at ./iostream.jl:275 [inlined]",
      " [5] #open#310(::Base.Iterators.Pairs{Union{},Union{},Tuple{},NamedTuple{(),Tuple{}}}, ::Function, ::getfield(CurricularAnalytics, Symbol(\"##22#23\")), ::String) at ./iostream.jl:367",
      " [6] open at ./iostream.jl:367 [inlined]",
      " [7] readfile at /Users/hayden/.julia/packages/CurricularAnalytics/J3tqV/src/CSVUtilities.jl:5 [inlined]",
      " [8] remove_empty_lines(::String) at /Users/hayden/.julia/packages/CurricularAnalytics/J3tqV/src/CSVUtilities.jl:17",
      " [9] read_csv(::String) at /Users/hayden/.julia/packages/CurricularAnalytics/J3tqV/src/DataHandler.jl:22",
      " [10] top-level scope at In[2]:1"
     ]
    }
   ],
   "source": [
    "dp = read_csv(\"./curricula/Montana_State-CS.csv\")\n",
    "visualize(dp, notebook=true)"
   ]
  },
  {
   "cell_type": "code",
   "execution_count": 3,
   "metadata": {
    "scrolled": false
   },
   "outputs": [
    {
     "ename": "SystemError",
     "evalue": "SystemError: opening file \"./curricula/Carnegie_Mellon-CS.csv\": No such file or directory",
     "output_type": "error",
     "traceback": [
      "SystemError: opening file \"./curricula/Carnegie_Mellon-CS.csv\": No such file or directory",
      "",
      "Stacktrace:",
      " [1] #systemerror#43(::Nothing, ::Function, ::String, ::Bool) at ./error.jl:134",
      " [2] systemerror at ./error.jl:134 [inlined]",
      " [3] #open#309(::Nothing, ::Nothing, ::Nothing, ::Nothing, ::Nothing, ::Function, ::String) at ./iostream.jl:283",
      " [4] open at ./iostream.jl:275 [inlined]",
      " [5] #open#310(::Base.Iterators.Pairs{Union{},Union{},Tuple{},NamedTuple{(),Tuple{}}}, ::Function, ::getfield(CurricularAnalytics, Symbol(\"##22#23\")), ::String) at ./iostream.jl:367",
      " [6] open at ./iostream.jl:367 [inlined]",
      " [7] readfile at /Users/hayden/.julia/packages/CurricularAnalytics/J3tqV/src/CSVUtilities.jl:5 [inlined]",
      " [8] remove_empty_lines(::String) at /Users/hayden/.julia/packages/CurricularAnalytics/J3tqV/src/CSVUtilities.jl:17",
      " [9] read_csv(::String) at /Users/hayden/.julia/packages/CurricularAnalytics/J3tqV/src/DataHandler.jl:22",
      " [10] top-level scope at In[3]:1"
     ]
    }
   ],
   "source": [
    "dp = read_csv(\"./curricula/Carnegie_Mellon-CS.csv\")\n",
    "visualize(dp, notebook=true)"
   ]
  },
  {
   "cell_type": "code",
   "execution_count": 4,
   "metadata": {},
   "outputs": [
    {
     "ename": "SystemError",
     "evalue": "SystemError: opening file \"./curricula/University_of_Arizona-CS.csv\": No such file or directory",
     "output_type": "error",
     "traceback": [
      "SystemError: opening file \"./curricula/University_of_Arizona-CS.csv\": No such file or directory",
      "",
      "Stacktrace:",
      " [1] #systemerror#43(::Nothing, ::Function, ::String, ::Bool) at ./error.jl:134",
      " [2] systemerror at ./error.jl:134 [inlined]",
      " [3] #open#309(::Nothing, ::Nothing, ::Nothing, ::Nothing, ::Nothing, ::Function, ::String) at ./iostream.jl:283",
      " [4] open at ./iostream.jl:275 [inlined]",
      " [5] #open#310(::Base.Iterators.Pairs{Union{},Union{},Tuple{},NamedTuple{(),Tuple{}}}, ::Function, ::getfield(CurricularAnalytics, Symbol(\"##22#23\")), ::String) at ./iostream.jl:367",
      " [6] open at ./iostream.jl:367 [inlined]",
      " [7] readfile at /Users/hayden/.julia/packages/CurricularAnalytics/J3tqV/src/CSVUtilities.jl:5 [inlined]",
      " [8] remove_empty_lines(::String) at /Users/hayden/.julia/packages/CurricularAnalytics/J3tqV/src/CSVUtilities.jl:17",
      " [9] read_csv(::String) at /Users/hayden/.julia/packages/CurricularAnalytics/J3tqV/src/DataHandler.jl:22",
      " [10] top-level scope at In[4]:1"
     ]
    }
   ],
   "source": [
    "dp = read_csv(\"./curricula/University_of_Arizona-CS.csv\")\n",
    "visualize(dp, notebook=true)"
   ]
  },
  {
   "cell_type": "code",
   "execution_count": 5,
   "metadata": {},
   "outputs": [
    {
     "name": "stdout",
     "output_type": "stream",
     "text": [
      "\u001b[33mWARNING: Curriculum was created, but is invalid:\u001b[39m\n",
      "Curriculum 'Computer Science (Engineering)' has extraneous requisites:\n",
      "-University Physics: Mechanics has redundant requisite Calculus 1\n",
      "-Data Structure and Software Principles has redundant requisite Introduction to Computer Science\n",
      "-Computer Architecture has redundant requisite Introduction to Computer Science\n",
      "-Computer Architecture has redundant requisite Introduction to Computer Science\n",
      "-Computer Architecture has redundant requisite Introduction to Computer Science\n",
      "-Computer Architecture has redundant requisite Discrete Structures\n",
      "-System Programming has redundant requisite Data Structure and Software Principles\n",
      "\n"
     ]
    },
    {
     "name": "stderr",
     "output_type": "stream",
     "text": [
      "┌ Warning: Accessing `scope.id` is deprecated, use `scopeid(scope)` instead.\n",
      "│   caller = ip:0x0\n",
      "└ @ Core :-1\n"
     ]
    },
    {
     "data": {
      "application/vnd.webio.node+json": {
       "children": [
        {
         "children": [
          ""
         ],
         "instanceArgs": {
          "namespace": "html",
          "tag": "iframe"
         },
         "nodeType": "DOM",
         "props": {
          "events": {
           "load": "(function (){this.contentWindow.postMessage({\"options\":{\"hideTerms\":true,\"edit\":false},\"curriculum\":{\"name\":\"Computer Science (Engineering)\",\"dp_name\":\"\",\"curriculum_terms\":[{\"name\":\"Term 1\",\"curriculum_items\":[{\"curriculum_requisites\":[],\"name\":\"MATH 221\",\"metrics\":{},\"nameSub\":\"Calculus 1\",\"id\":7,\"credits\":4,\"nameCanonical\":\"\"},{\"curriculum_requisites\":[],\"name\":\"CS 125\",\"metrics\":{},\"nameSub\":\"Introduction to Computer Science\",\"id\":13,\"credits\":4,\"nameCanonical\":\"\"},{\"curriculum_requisites\":[],\"name\":\" \",\"metrics\":{},\"nameSub\":\"Composition I\",\"id\":1,\"credits\":4,\"nameCanonical\":\"\"},{\"curriculum_requisites\":[],\"name\":\" \",\"metrics\":{},\"nameSub\":\"Advanced Composition\",\"id\":2,\"credits\":3,\"nameCanonical\":\"\"},{\"curriculum_requisites\":[],\"name\":\"ENG 100\",\"metrics\":{},\"nameSub\":\"Engineering Orientation\",\"id\":3,\"credits\":0,\"nameCanonical\":\"\"},{\"curriculum_requisites\":[],\"name\":\" \",\"metrics\":{},\"nameSub\":\"Science Elective\",\"id\":4,\"credits\":3,\"nameCanonical\":\"\"}],\"id\":1},{\"name\":\"Term 2\",\"curriculum_items\":[{\"curriculum_requisites\":[{\"source_id\":7,\"target_id\":8,\"type\":\"prereq\"}],\"name\":\"MATH 231\",\"metrics\":{},\"nameSub\":\"Calculus 2\",\"id\":8,\"credits\":4,\"nameCanonical\":\"\"},{\"curriculum_requisites\":[{\"source_id\":7,\"target_id\":15,\"type\":\"prereq\"},{\"source_id\":13,\"target_id\":15,\"type\":\"prereq\"}],\"name\":\"CS 173\",\"metrics\":{},\"nameSub\":\"Discrete Structures\",\"id\":15,\"credits\":3,\"nameCanonical\":\"\"},{\"curriculum_requisites\":[{\"source_id\":7,\"target_id\":5,\"type\":\"prereq\"},{\"source_id\":8,\"target_id\":5,\"type\":\"coreq\"}],\"name\":\"PHYS 211\",\"metrics\":{},\"nameSub\":\"University Physics: Mechanics\",\"id\":5,\"credits\":4,\"nameCanonical\":\"\"},{\"curriculum_requisites\":[{\"source_id\":13,\"target_id\":14,\"type\":\"prereq\"}],\"name\":\"CS 126\",\"metrics\":{},\"nameSub\":\"Software Design Studio\",\"id\":14,\"credits\":3,\"nameCanonical\":\"\"},{\"curriculum_requisites\":[],\"name\":\"CS 100\",\"metrics\":{},\"nameSub\":\"Freshman Orientation\",\"id\":11,\"credits\":1,\"nameCanonical\":\"\"},{\"curriculum_requisites\":[],\"name\":\"CS \",\"metrics\":{},\"nameSub\":\"400 Level CS\",\"id\":24,\"credits\":3,\"nameCanonical\":\"\"}],\"id\":2},{\"name\":\"Term 3\",\"curriculum_items\":[{\"curriculum_requisites\":[{\"source_id\":13,\"target_id\":17,\"type\":\"prereq\"},{\"source_id\":15,\"target_id\":17,\"type\":\"prereq\"}],\"name\":\"CS 225\",\"metrics\":{},\"nameSub\":\"Data Structure and Software Principles\",\"id\":17,\"credits\":4,\"nameCanonical\":\"\"},{\"curriculum_requisites\":[{\"source_id\":8,\"target_id\":9,\"type\":\"prereq\"}],\"name\":\"MATH 241\",\"metrics\":{},\"nameSub\":\"Calculus 3\",\"id\":9,\"credits\":4,\"nameCanonical\":\"\"},{\"curriculum_requisites\":[{\"source_id\":9,\"target_id\":6,\"type\":\"coreq\"},{\"source_id\":5,\"target_id\":6,\"type\":\"prereq\"}],\"name\":\"PHYS 212\",\"metrics\":{},\"nameSub\":\"University Physics: Elec & Mag\",\"id\":6,\"credits\":4,\"nameCanonical\":\"\"},{\"curriculum_requisites\":[],\"name\":\"CS \",\"metrics\":{},\"nameSub\":\"400 Level CS\",\"id\":25,\"credits\":3,\"nameCanonical\":\"\"},{\"curriculum_requisites\":[],\"name\":\"CS \",\"metrics\":{},\"nameSub\":\"400 Level CS\",\"id\":26,\"credits\":3,\"nameCanonical\":\"\"}],\"id\":3},{\"name\":\"Term 4\",\"curriculum_items\":[{\"curriculum_requisites\":[{\"source_id\":9,\"target_id\":12,\"type\":\"prereq\"}],\"name\":\"MATH 415\",\"metrics\":{},\"nameSub\":\"Applied Linear Algebra\",\"id\":12,\"credits\":3,\"nameCanonical\":\"\"},{\"curriculum_requisites\":[{\"source_id\":13,\"target_id\":18,\"type\":\"prereq\"},{\"source_id\":17,\"target_id\":18,\"type\":\"prereq\"},{\"source_id\":15,\"target_id\":18,\"type\":\"prereq\"}],\"name\":\"CS 233\",\"metrics\":{},\"nameSub\":\"Computer Architecture\",\"id\":18,\"credits\":4,\"nameCanonical\":\"\"},{\"curriculum_requisites\":[{\"source_id\":17,\"target_id\":22,\"type\":\"prereq\"}],\"name\":\"CS 374\",\"metrics\":{},\"nameSub\":\"Algorithms and Models of Computation\",\"id\":22,\"credits\":4,\"nameCanonical\":\"\"},{\"curriculum_requisites\":[{\"source_id\":17,\"target_id\":16,\"type\":\"prereq\"}],\"name\":\"CS 210\",\"metrics\":{},\"nameSub\":\"Ethical and Professional Issues in CS\",\"id\":16,\"credits\":2,\"nameCanonical\":\"\"},{\"curriculum_requisites\":[],\"name\":\"CS \",\"metrics\":{},\"nameSub\":\"400 Level CS\",\"id\":27,\"credits\":3,\"nameCanonical\":\"\"}],\"id\":4},{\"name\":\"Term 5\",\"curriculum_items\":[{\"curriculum_requisites\":[{\"source_id\":17,\"target_id\":19,\"type\":\"prereq\"},{\"source_id\":18,\"target_id\":19,\"type\":\"prereq\"}],\"name\":\"CS 241\",\"metrics\":{},\"nameSub\":\"System Programming\",\"id\":19,\"credits\":4,\"nameCanonical\":\"\"},{\"curriculum_requisites\":[{\"source_id\":12,\"target_id\":20,\"type\":\"prereq\"}],\"name\":\"CS 357\",\"metrics\":{},\"nameSub\":\"Numerical Methods I\",\"id\":20,\"credits\":3,\"nameCanonical\":\"\"},{\"curriculum_requisites\":[{\"source_id\":12,\"target_id\":21,\"type\":\"prereq\"}],\"name\":\"CS 361\",\"metrics\":{},\"nameSub\":\"Probability and Statistics for Computer Science\",\"id\":21,\"credits\":3,\"nameCanonical\":\"\"},{\"curriculum_requisites\":[{\"source_id\":22,\"target_id\":23,\"type\":\"prereq\"},{\"source_id\":18,\"target_id\":23,\"type\":\"prereq\"}],\"name\":\"CS 421\",\"metrics\":{},\"nameSub\":\"Programming Languages and Compilers\",\"id\":23,\"credits\":3,\"nameCanonical\":\"\"},{\"curriculum_requisites\":[],\"name\":\"CS \",\"metrics\":{},\"nameSub\":\"400 Level CS\",\"id\":28,\"credits\":3,\"nameCanonical\":\"\"}],\"id\":5},{\"name\":\"Term 6\",\"curriculum_items\":[{\"curriculum_requisites\":[],\"name\":\" \",\"metrics\":{},\"nameSub\":\"Humanities and Social Sciences\",\"id\":10,\"credits\":18,\"nameCanonical\":\"\"}],\"id\":6},{\"name\":\"Term 7\",\"curriculum_items\":[{\"curriculum_requisites\":[],\"name\":\"CS \",\"metrics\":{},\"nameSub\":\"400 Level CS\",\"id\":29,\"credits\":3,\"nameCanonical\":\"\"},{\"curriculum_requisites\":[],\"name\":\" \",\"metrics\":{},\"nameSub\":\"400 Level Advanced Elective\",\"id\":30,\"credits\":3,\"nameCanonical\":\"\"},{\"curriculum_requisites\":[],\"name\":\" \",\"metrics\":{},\"nameSub\":\"400 Level Advanced Elective\",\"id\":31,\"credits\":3,\"nameCanonical\":\"\"}],\"id\":7},{\"name\":\"Term 8\",\"curriculum_items\":[{\"curriculum_requisites\":[],\"name\":\" \",\"metrics\":{},\"nameSub\":\"Free Electives to reach 128 hours\",\"id\":32,\"credits\":15,\"nameCanonical\":\"\"}],\"id\":8}],\"institution\":\"University of Illinois Urbana-Champaign\"}},\"*\"); window.removeEventListener(\"message\",window.messageReceived); window.messageReceived=(function (event){return (event.data.curriculum!==undefined) ? (WebIO.setval({\"name\":\"curriculum-data\",\"scope\":\"17512237860904868558\",\"id\":\"ob_01\",\"type\":\"observable\"},event.data.curriculum)) : undefined}); return window.addEventListener(\"message\",window.messageReceived)})"
          },
          "id": "curriculum",
          "src": "http://localhost:8156",
          "style": {
           "border": "none",
           "height": "100vh",
           "margin": "0",
           "padding": "0",
           "width": "100%"
          }
         },
         "type": "node"
        }
       ],
       "instanceArgs": {
        "handlers": {},
        "id": "17512237860904868558",
        "imports": {
         "data": [],
         "type": "async_block"
        },
        "mount_callbacks": [],
        "observables": {
         "curriculum-data": {
          "id": "ob_01",
          "sync": true,
          "value": {
           "curriculum": {
            "curriculum_terms": [
             {
              "curriculum_items": [
               {
                "credits": 4,
                "curriculum_requisites": [],
                "id": 7,
                "metrics": {},
                "name": "MATH 221",
                "nameCanonical": "",
                "nameSub": "Calculus 1"
               },
               {
                "credits": 4,
                "curriculum_requisites": [],
                "id": 13,
                "metrics": {},
                "name": "CS 125",
                "nameCanonical": "",
                "nameSub": "Introduction to Computer Science"
               },
               {
                "credits": 4,
                "curriculum_requisites": [],
                "id": 1,
                "metrics": {},
                "name": " ",
                "nameCanonical": "",
                "nameSub": "Composition I"
               },
               {
                "credits": 3,
                "curriculum_requisites": [],
                "id": 2,
                "metrics": {},
                "name": " ",
                "nameCanonical": "",
                "nameSub": "Advanced Composition"
               },
               {
                "credits": 0,
                "curriculum_requisites": [],
                "id": 3,
                "metrics": {},
                "name": "ENG 100",
                "nameCanonical": "",
                "nameSub": "Engineering Orientation"
               },
               {
                "credits": 3,
                "curriculum_requisites": [],
                "id": 4,
                "metrics": {},
                "name": " ",
                "nameCanonical": "",
                "nameSub": "Science Elective"
               }
              ],
              "id": 1,
              "name": "Term 1"
             },
             {
              "curriculum_items": [
               {
                "credits": 4,
                "curriculum_requisites": [
                 {
                  "source_id": 7,
                  "target_id": 8,
                  "type": "prereq"
                 }
                ],
                "id": 8,
                "metrics": {},
                "name": "MATH 231",
                "nameCanonical": "",
                "nameSub": "Calculus 2"
               },
               {
                "credits": 3,
                "curriculum_requisites": [
                 {
                  "source_id": 7,
                  "target_id": 15,
                  "type": "prereq"
                 },
                 {
                  "source_id": 13,
                  "target_id": 15,
                  "type": "prereq"
                 }
                ],
                "id": 15,
                "metrics": {},
                "name": "CS 173",
                "nameCanonical": "",
                "nameSub": "Discrete Structures"
               },
               {
                "credits": 4,
                "curriculum_requisites": [
                 {
                  "source_id": 7,
                  "target_id": 5,
                  "type": "prereq"
                 },
                 {
                  "source_id": 8,
                  "target_id": 5,
                  "type": "coreq"
                 }
                ],
                "id": 5,
                "metrics": {},
                "name": "PHYS 211",
                "nameCanonical": "",
                "nameSub": "University Physics: Mechanics"
               },
               {
                "credits": 3,
                "curriculum_requisites": [
                 {
                  "source_id": 13,
                  "target_id": 14,
                  "type": "prereq"
                 }
                ],
                "id": 14,
                "metrics": {},
                "name": "CS 126",
                "nameCanonical": "",
                "nameSub": "Software Design Studio"
               },
               {
                "credits": 1,
                "curriculum_requisites": [],
                "id": 11,
                "metrics": {},
                "name": "CS 100",
                "nameCanonical": "",
                "nameSub": "Freshman Orientation"
               },
               {
                "credits": 3,
                "curriculum_requisites": [],
                "id": 24,
                "metrics": {},
                "name": "CS ",
                "nameCanonical": "",
                "nameSub": "400 Level CS"
               }
              ],
              "id": 2,
              "name": "Term 2"
             },
             {
              "curriculum_items": [
               {
                "credits": 4,
                "curriculum_requisites": [
                 {
                  "source_id": 13,
                  "target_id": 17,
                  "type": "prereq"
                 },
                 {
                  "source_id": 15,
                  "target_id": 17,
                  "type": "prereq"
                 }
                ],
                "id": 17,
                "metrics": {},
                "name": "CS 225",
                "nameCanonical": "",
                "nameSub": "Data Structure and Software Principles"
               },
               {
                "credits": 4,
                "curriculum_requisites": [
                 {
                  "source_id": 8,
                  "target_id": 9,
                  "type": "prereq"
                 }
                ],
                "id": 9,
                "metrics": {},
                "name": "MATH 241",
                "nameCanonical": "",
                "nameSub": "Calculus 3"
               },
               {
                "credits": 4,
                "curriculum_requisites": [
                 {
                  "source_id": 9,
                  "target_id": 6,
                  "type": "coreq"
                 },
                 {
                  "source_id": 5,
                  "target_id": 6,
                  "type": "prereq"
                 }
                ],
                "id": 6,
                "metrics": {},
                "name": "PHYS 212",
                "nameCanonical": "",
                "nameSub": "University Physics: Elec & Mag"
               },
               {
                "credits": 3,
                "curriculum_requisites": [],
                "id": 25,
                "metrics": {},
                "name": "CS ",
                "nameCanonical": "",
                "nameSub": "400 Level CS"
               },
               {
                "credits": 3,
                "curriculum_requisites": [],
                "id": 26,
                "metrics": {},
                "name": "CS ",
                "nameCanonical": "",
                "nameSub": "400 Level CS"
               }
              ],
              "id": 3,
              "name": "Term 3"
             },
             {
              "curriculum_items": [
               {
                "credits": 3,
                "curriculum_requisites": [
                 {
                  "source_id": 9,
                  "target_id": 12,
                  "type": "prereq"
                 }
                ],
                "id": 12,
                "metrics": {},
                "name": "MATH 415",
                "nameCanonical": "",
                "nameSub": "Applied Linear Algebra"
               },
               {
                "credits": 4,
                "curriculum_requisites": [
                 {
                  "source_id": 13,
                  "target_id": 18,
                  "type": "prereq"
                 },
                 {
                  "source_id": 17,
                  "target_id": 18,
                  "type": "prereq"
                 },
                 {
                  "source_id": 15,
                  "target_id": 18,
                  "type": "prereq"
                 }
                ],
                "id": 18,
                "metrics": {},
                "name": "CS 233",
                "nameCanonical": "",
                "nameSub": "Computer Architecture"
               },
               {
                "credits": 4,
                "curriculum_requisites": [
                 {
                  "source_id": 17,
                  "target_id": 22,
                  "type": "prereq"
                 }
                ],
                "id": 22,
                "metrics": {},
                "name": "CS 374",
                "nameCanonical": "",
                "nameSub": "Algorithms and Models of Computation"
               },
               {
                "credits": 2,
                "curriculum_requisites": [
                 {
                  "source_id": 17,
                  "target_id": 16,
                  "type": "prereq"
                 }
                ],
                "id": 16,
                "metrics": {},
                "name": "CS 210",
                "nameCanonical": "",
                "nameSub": "Ethical and Professional Issues in CS"
               },
               {
                "credits": 3,
                "curriculum_requisites": [],
                "id": 27,
                "metrics": {},
                "name": "CS ",
                "nameCanonical": "",
                "nameSub": "400 Level CS"
               }
              ],
              "id": 4,
              "name": "Term 4"
             },
             {
              "curriculum_items": [
               {
                "credits": 4,
                "curriculum_requisites": [
                 {
                  "source_id": 17,
                  "target_id": 19,
                  "type": "prereq"
                 },
                 {
                  "source_id": 18,
                  "target_id": 19,
                  "type": "prereq"
                 }
                ],
                "id": 19,
                "metrics": {},
                "name": "CS 241",
                "nameCanonical": "",
                "nameSub": "System Programming"
               },
               {
                "credits": 3,
                "curriculum_requisites": [
                 {
                  "source_id": 12,
                  "target_id": 20,
                  "type": "prereq"
                 }
                ],
                "id": 20,
                "metrics": {},
                "name": "CS 357",
                "nameCanonical": "",
                "nameSub": "Numerical Methods I"
               },
               {
                "credits": 3,
                "curriculum_requisites": [
                 {
                  "source_id": 12,
                  "target_id": 21,
                  "type": "prereq"
                 }
                ],
                "id": 21,
                "metrics": {},
                "name": "CS 361",
                "nameCanonical": "",
                "nameSub": "Probability and Statistics for Computer Science"
               },
               {
                "credits": 3,
                "curriculum_requisites": [
                 {
                  "source_id": 22,
                  "target_id": 23,
                  "type": "prereq"
                 },
                 {
                  "source_id": 18,
                  "target_id": 23,
                  "type": "prereq"
                 }
                ],
                "id": 23,
                "metrics": {},
                "name": "CS 421",
                "nameCanonical": "",
                "nameSub": "Programming Languages and Compilers"
               },
               {
                "credits": 3,
                "curriculum_requisites": [],
                "id": 28,
                "metrics": {},
                "name": "CS ",
                "nameCanonical": "",
                "nameSub": "400 Level CS"
               }
              ],
              "id": 5,
              "name": "Term 5"
             },
             {
              "curriculum_items": [
               {
                "credits": 18,
                "curriculum_requisites": [],
                "id": 10,
                "metrics": {},
                "name": " ",
                "nameCanonical": "",
                "nameSub": "Humanities and Social Sciences"
               }
              ],
              "id": 6,
              "name": "Term 6"
             },
             {
              "curriculum_items": [
               {
                "credits": 3,
                "curriculum_requisites": [],
                "id": 29,
                "metrics": {},
                "name": "CS ",
                "nameCanonical": "",
                "nameSub": "400 Level CS"
               },
               {
                "credits": 3,
                "curriculum_requisites": [],
                "id": 30,
                "metrics": {},
                "name": " ",
                "nameCanonical": "",
                "nameSub": "400 Level Advanced Elective"
               },
               {
                "credits": 3,
                "curriculum_requisites": [],
                "id": 31,
                "metrics": {},
                "name": " ",
                "nameCanonical": "",
                "nameSub": "400 Level Advanced Elective"
               }
              ],
              "id": 7,
              "name": "Term 7"
             },
             {
              "curriculum_items": [
               {
                "credits": 15,
                "curriculum_requisites": [],
                "id": 32,
                "metrics": {},
                "name": " ",
                "nameCanonical": "",
                "nameSub": "Free Electives to reach 128 hours"
               }
              ],
              "id": 8,
              "name": "Term 8"
             }
            ],
            "dp_name": "",
            "institution": "University of Illinois Urbana-Champaign",
            "name": "Computer Science (Engineering)"
           },
           "options": {
            "edit": false,
            "hideTerms": true
           }
          }
         }
        },
        "systemjs_options": null
       },
       "nodeType": "Scope",
       "props": {},
       "type": "node"
      },
      "text/html": [
       "<div\n",
       "    class=\"webio-mountpoint\"\n",
       "    data-webio-mountpoint=\"8621986023447314354\"\n",
       ">\n",
       "    <script>\n",
       "    if (window.require && require.defined && require.defined(\"nbextensions/webio/main\")) {\n",
       "        console.log(\"Jupyter WebIO extension detected, not mounting.\");\n",
       "    } else if (window.WebIO) {\n",
       "        WebIO.mount(\n",
       "            document.querySelector('[data-webio-mountpoint=\"8621986023447314354\"]'),\n",
       "            {\"props\":{},\"nodeType\":\"Scope\",\"type\":\"node\",\"instanceArgs\":{\"imports\":{\"data\":[],\"type\":\"async_block\"},\"id\":\"17512237860904868558\",\"handlers\":{},\"systemjs_options\":null,\"mount_callbacks\":[],\"observables\":{\"curriculum-data\":{\"sync\":true,\"id\":\"ob_01\",\"value\":{\"options\":{\"hideTerms\":true,\"edit\":false},\"curriculum\":{\"name\":\"Computer Science (Engineering)\",\"dp_name\":\"\",\"curriculum_terms\":[{\"name\":\"Term 1\",\"curriculum_items\":[{\"curriculum_requisites\":[],\"name\":\"MATH 221\",\"metrics\":{},\"nameSub\":\"Calculus 1\",\"id\":7,\"credits\":4,\"nameCanonical\":\"\"},{\"curriculum_requisites\":[],\"name\":\"CS 125\",\"metrics\":{},\"nameSub\":\"Introduction to Computer Science\",\"id\":13,\"credits\":4,\"nameCanonical\":\"\"},{\"curriculum_requisites\":[],\"name\":\" \",\"metrics\":{},\"nameSub\":\"Composition I\",\"id\":1,\"credits\":4,\"nameCanonical\":\"\"},{\"curriculum_requisites\":[],\"name\":\" \",\"metrics\":{},\"nameSub\":\"Advanced Composition\",\"id\":2,\"credits\":3,\"nameCanonical\":\"\"},{\"curriculum_requisites\":[],\"name\":\"ENG 100\",\"metrics\":{},\"nameSub\":\"Engineering Orientation\",\"id\":3,\"credits\":0,\"nameCanonical\":\"\"},{\"curriculum_requisites\":[],\"name\":\" \",\"metrics\":{},\"nameSub\":\"Science Elective\",\"id\":4,\"credits\":3,\"nameCanonical\":\"\"}],\"id\":1},{\"name\":\"Term 2\",\"curriculum_items\":[{\"curriculum_requisites\":[{\"source_id\":7,\"target_id\":8,\"type\":\"prereq\"}],\"name\":\"MATH 231\",\"metrics\":{},\"nameSub\":\"Calculus 2\",\"id\":8,\"credits\":4,\"nameCanonical\":\"\"},{\"curriculum_requisites\":[{\"source_id\":7,\"target_id\":15,\"type\":\"prereq\"},{\"source_id\":13,\"target_id\":15,\"type\":\"prereq\"}],\"name\":\"CS 173\",\"metrics\":{},\"nameSub\":\"Discrete Structures\",\"id\":15,\"credits\":3,\"nameCanonical\":\"\"},{\"curriculum_requisites\":[{\"source_id\":7,\"target_id\":5,\"type\":\"prereq\"},{\"source_id\":8,\"target_id\":5,\"type\":\"coreq\"}],\"name\":\"PHYS 211\",\"metrics\":{},\"nameSub\":\"University Physics: Mechanics\",\"id\":5,\"credits\":4,\"nameCanonical\":\"\"},{\"curriculum_requisites\":[{\"source_id\":13,\"target_id\":14,\"type\":\"prereq\"}],\"name\":\"CS 126\",\"metrics\":{},\"nameSub\":\"Software Design Studio\",\"id\":14,\"credits\":3,\"nameCanonical\":\"\"},{\"curriculum_requisites\":[],\"name\":\"CS 100\",\"metrics\":{},\"nameSub\":\"Freshman Orientation\",\"id\":11,\"credits\":1,\"nameCanonical\":\"\"},{\"curriculum_requisites\":[],\"name\":\"CS \",\"metrics\":{},\"nameSub\":\"400 Level CS\",\"id\":24,\"credits\":3,\"nameCanonical\":\"\"}],\"id\":2},{\"name\":\"Term 3\",\"curriculum_items\":[{\"curriculum_requisites\":[{\"source_id\":13,\"target_id\":17,\"type\":\"prereq\"},{\"source_id\":15,\"target_id\":17,\"type\":\"prereq\"}],\"name\":\"CS 225\",\"metrics\":{},\"nameSub\":\"Data Structure and Software Principles\",\"id\":17,\"credits\":4,\"nameCanonical\":\"\"},{\"curriculum_requisites\":[{\"source_id\":8,\"target_id\":9,\"type\":\"prereq\"}],\"name\":\"MATH 241\",\"metrics\":{},\"nameSub\":\"Calculus 3\",\"id\":9,\"credits\":4,\"nameCanonical\":\"\"},{\"curriculum_requisites\":[{\"source_id\":9,\"target_id\":6,\"type\":\"coreq\"},{\"source_id\":5,\"target_id\":6,\"type\":\"prereq\"}],\"name\":\"PHYS 212\",\"metrics\":{},\"nameSub\":\"University Physics: Elec & Mag\",\"id\":6,\"credits\":4,\"nameCanonical\":\"\"},{\"curriculum_requisites\":[],\"name\":\"CS \",\"metrics\":{},\"nameSub\":\"400 Level CS\",\"id\":25,\"credits\":3,\"nameCanonical\":\"\"},{\"curriculum_requisites\":[],\"name\":\"CS \",\"metrics\":{},\"nameSub\":\"400 Level CS\",\"id\":26,\"credits\":3,\"nameCanonical\":\"\"}],\"id\":3},{\"name\":\"Term 4\",\"curriculum_items\":[{\"curriculum_requisites\":[{\"source_id\":9,\"target_id\":12,\"type\":\"prereq\"}],\"name\":\"MATH 415\",\"metrics\":{},\"nameSub\":\"Applied Linear Algebra\",\"id\":12,\"credits\":3,\"nameCanonical\":\"\"},{\"curriculum_requisites\":[{\"source_id\":13,\"target_id\":18,\"type\":\"prereq\"},{\"source_id\":17,\"target_id\":18,\"type\":\"prereq\"},{\"source_id\":15,\"target_id\":18,\"type\":\"prereq\"}],\"name\":\"CS 233\",\"metrics\":{},\"nameSub\":\"Computer Architecture\",\"id\":18,\"credits\":4,\"nameCanonical\":\"\"},{\"curriculum_requisites\":[{\"source_id\":17,\"target_id\":22,\"type\":\"prereq\"}],\"name\":\"CS 374\",\"metrics\":{},\"nameSub\":\"Algorithms and Models of Computation\",\"id\":22,\"credits\":4,\"nameCanonical\":\"\"},{\"curriculum_requisites\":[{\"source_id\":17,\"target_id\":16,\"type\":\"prereq\"}],\"name\":\"CS 210\",\"metrics\":{},\"nameSub\":\"Ethical and Professional Issues in CS\",\"id\":16,\"credits\":2,\"nameCanonical\":\"\"},{\"curriculum_requisites\":[],\"name\":\"CS \",\"metrics\":{},\"nameSub\":\"400 Level CS\",\"id\":27,\"credits\":3,\"nameCanonical\":\"\"}],\"id\":4},{\"name\":\"Term 5\",\"curriculum_items\":[{\"curriculum_requisites\":[{\"source_id\":17,\"target_id\":19,\"type\":\"prereq\"},{\"source_id\":18,\"target_id\":19,\"type\":\"prereq\"}],\"name\":\"CS 241\",\"metrics\":{},\"nameSub\":\"System Programming\",\"id\":19,\"credits\":4,\"nameCanonical\":\"\"},{\"curriculum_requisites\":[{\"source_id\":12,\"target_id\":20,\"type\":\"prereq\"}],\"name\":\"CS 357\",\"metrics\":{},\"nameSub\":\"Numerical Methods I\",\"id\":20,\"credits\":3,\"nameCanonical\":\"\"},{\"curriculum_requisites\":[{\"source_id\":12,\"target_id\":21,\"type\":\"prereq\"}],\"name\":\"CS 361\",\"metrics\":{},\"nameSub\":\"Probability and Statistics for Computer Science\",\"id\":21,\"credits\":3,\"nameCanonical\":\"\"},{\"curriculum_requisites\":[{\"source_id\":22,\"target_id\":23,\"type\":\"prereq\"},{\"source_id\":18,\"target_id\":23,\"type\":\"prereq\"}],\"name\":\"CS 421\",\"metrics\":{},\"nameSub\":\"Programming Languages and Compilers\",\"id\":23,\"credits\":3,\"nameCanonical\":\"\"},{\"curriculum_requisites\":[],\"name\":\"CS \",\"metrics\":{},\"nameSub\":\"400 Level CS\",\"id\":28,\"credits\":3,\"nameCanonical\":\"\"}],\"id\":5},{\"name\":\"Term 6\",\"curriculum_items\":[{\"curriculum_requisites\":[],\"name\":\" \",\"metrics\":{},\"nameSub\":\"Humanities and Social Sciences\",\"id\":10,\"credits\":18,\"nameCanonical\":\"\"}],\"id\":6},{\"name\":\"Term 7\",\"curriculum_items\":[{\"curriculum_requisites\":[],\"name\":\"CS \",\"metrics\":{},\"nameSub\":\"400 Level CS\",\"id\":29,\"credits\":3,\"nameCanonical\":\"\"},{\"curriculum_requisites\":[],\"name\":\" \",\"metrics\":{},\"nameSub\":\"400 Level Advanced Elective\",\"id\":30,\"credits\":3,\"nameCanonical\":\"\"},{\"curriculum_requisites\":[],\"name\":\" \",\"metrics\":{},\"nameSub\":\"400 Level Advanced Elective\",\"id\":31,\"credits\":3,\"nameCanonical\":\"\"}],\"id\":7},{\"name\":\"Term 8\",\"curriculum_items\":[{\"curriculum_requisites\":[],\"name\":\" \",\"metrics\":{},\"nameSub\":\"Free Electives to reach 128 hours\",\"id\":32,\"credits\":15,\"nameCanonical\":\"\"}],\"id\":8}],\"institution\":\"University of Illinois Urbana-Champaign\"}}}}},\"children\":[{\"props\":{\"src\":\"http:\\/\\/localhost:8156\",\"id\":\"curriculum\",\"events\":{\"load\":\"(function (){this.contentWindow.postMessage({\\\"options\\\":{\\\"hideTerms\\\":true,\\\"edit\\\":false},\\\"curriculum\\\":{\\\"name\\\":\\\"Computer Science (Engineering)\\\",\\\"dp_name\\\":\\\"\\\",\\\"curriculum_terms\\\":[{\\\"name\\\":\\\"Term 1\\\",\\\"curriculum_items\\\":[{\\\"curriculum_requisites\\\":[],\\\"name\\\":\\\"MATH 221\\\",\\\"metrics\\\":{},\\\"nameSub\\\":\\\"Calculus 1\\\",\\\"id\\\":7,\\\"credits\\\":4,\\\"nameCanonical\\\":\\\"\\\"},{\\\"curriculum_requisites\\\":[],\\\"name\\\":\\\"CS 125\\\",\\\"metrics\\\":{},\\\"nameSub\\\":\\\"Introduction to Computer Science\\\",\\\"id\\\":13,\\\"credits\\\":4,\\\"nameCanonical\\\":\\\"\\\"},{\\\"curriculum_requisites\\\":[],\\\"name\\\":\\\" \\\",\\\"metrics\\\":{},\\\"nameSub\\\":\\\"Composition I\\\",\\\"id\\\":1,\\\"credits\\\":4,\\\"nameCanonical\\\":\\\"\\\"},{\\\"curriculum_requisites\\\":[],\\\"name\\\":\\\" \\\",\\\"metrics\\\":{},\\\"nameSub\\\":\\\"Advanced Composition\\\",\\\"id\\\":2,\\\"credits\\\":3,\\\"nameCanonical\\\":\\\"\\\"},{\\\"curriculum_requisites\\\":[],\\\"name\\\":\\\"ENG 100\\\",\\\"metrics\\\":{},\\\"nameSub\\\":\\\"Engineering Orientation\\\",\\\"id\\\":3,\\\"credits\\\":0,\\\"nameCanonical\\\":\\\"\\\"},{\\\"curriculum_requisites\\\":[],\\\"name\\\":\\\" \\\",\\\"metrics\\\":{},\\\"nameSub\\\":\\\"Science Elective\\\",\\\"id\\\":4,\\\"credits\\\":3,\\\"nameCanonical\\\":\\\"\\\"}],\\\"id\\\":1},{\\\"name\\\":\\\"Term 2\\\",\\\"curriculum_items\\\":[{\\\"curriculum_requisites\\\":[{\\\"source_id\\\":7,\\\"target_id\\\":8,\\\"type\\\":\\\"prereq\\\"}],\\\"name\\\":\\\"MATH 231\\\",\\\"metrics\\\":{},\\\"nameSub\\\":\\\"Calculus 2\\\",\\\"id\\\":8,\\\"credits\\\":4,\\\"nameCanonical\\\":\\\"\\\"},{\\\"curriculum_requisites\\\":[{\\\"source_id\\\":7,\\\"target_id\\\":15,\\\"type\\\":\\\"prereq\\\"},{\\\"source_id\\\":13,\\\"target_id\\\":15,\\\"type\\\":\\\"prereq\\\"}],\\\"name\\\":\\\"CS 173\\\",\\\"metrics\\\":{},\\\"nameSub\\\":\\\"Discrete Structures\\\",\\\"id\\\":15,\\\"credits\\\":3,\\\"nameCanonical\\\":\\\"\\\"},{\\\"curriculum_requisites\\\":[{\\\"source_id\\\":7,\\\"target_id\\\":5,\\\"type\\\":\\\"prereq\\\"},{\\\"source_id\\\":8,\\\"target_id\\\":5,\\\"type\\\":\\\"coreq\\\"}],\\\"name\\\":\\\"PHYS 211\\\",\\\"metrics\\\":{},\\\"nameSub\\\":\\\"University Physics: Mechanics\\\",\\\"id\\\":5,\\\"credits\\\":4,\\\"nameCanonical\\\":\\\"\\\"},{\\\"curriculum_requisites\\\":[{\\\"source_id\\\":13,\\\"target_id\\\":14,\\\"type\\\":\\\"prereq\\\"}],\\\"name\\\":\\\"CS 126\\\",\\\"metrics\\\":{},\\\"nameSub\\\":\\\"Software Design Studio\\\",\\\"id\\\":14,\\\"credits\\\":3,\\\"nameCanonical\\\":\\\"\\\"},{\\\"curriculum_requisites\\\":[],\\\"name\\\":\\\"CS 100\\\",\\\"metrics\\\":{},\\\"nameSub\\\":\\\"Freshman Orientation\\\",\\\"id\\\":11,\\\"credits\\\":1,\\\"nameCanonical\\\":\\\"\\\"},{\\\"curriculum_requisites\\\":[],\\\"name\\\":\\\"CS \\\",\\\"metrics\\\":{},\\\"nameSub\\\":\\\"400 Level CS\\\",\\\"id\\\":24,\\\"credits\\\":3,\\\"nameCanonical\\\":\\\"\\\"}],\\\"id\\\":2},{\\\"name\\\":\\\"Term 3\\\",\\\"curriculum_items\\\":[{\\\"curriculum_requisites\\\":[{\\\"source_id\\\":13,\\\"target_id\\\":17,\\\"type\\\":\\\"prereq\\\"},{\\\"source_id\\\":15,\\\"target_id\\\":17,\\\"type\\\":\\\"prereq\\\"}],\\\"name\\\":\\\"CS 225\\\",\\\"metrics\\\":{},\\\"nameSub\\\":\\\"Data Structure and Software Principles\\\",\\\"id\\\":17,\\\"credits\\\":4,\\\"nameCanonical\\\":\\\"\\\"},{\\\"curriculum_requisites\\\":[{\\\"source_id\\\":8,\\\"target_id\\\":9,\\\"type\\\":\\\"prereq\\\"}],\\\"name\\\":\\\"MATH 241\\\",\\\"metrics\\\":{},\\\"nameSub\\\":\\\"Calculus 3\\\",\\\"id\\\":9,\\\"credits\\\":4,\\\"nameCanonical\\\":\\\"\\\"},{\\\"curriculum_requisites\\\":[{\\\"source_id\\\":9,\\\"target_id\\\":6,\\\"type\\\":\\\"coreq\\\"},{\\\"source_id\\\":5,\\\"target_id\\\":6,\\\"type\\\":\\\"prereq\\\"}],\\\"name\\\":\\\"PHYS 212\\\",\\\"metrics\\\":{},\\\"nameSub\\\":\\\"University Physics: Elec & Mag\\\",\\\"id\\\":6,\\\"credits\\\":4,\\\"nameCanonical\\\":\\\"\\\"},{\\\"curriculum_requisites\\\":[],\\\"name\\\":\\\"CS \\\",\\\"metrics\\\":{},\\\"nameSub\\\":\\\"400 Level CS\\\",\\\"id\\\":25,\\\"credits\\\":3,\\\"nameCanonical\\\":\\\"\\\"},{\\\"curriculum_requisites\\\":[],\\\"name\\\":\\\"CS \\\",\\\"metrics\\\":{},\\\"nameSub\\\":\\\"400 Level CS\\\",\\\"id\\\":26,\\\"credits\\\":3,\\\"nameCanonical\\\":\\\"\\\"}],\\\"id\\\":3},{\\\"name\\\":\\\"Term 4\\\",\\\"curriculum_items\\\":[{\\\"curriculum_requisites\\\":[{\\\"source_id\\\":9,\\\"target_id\\\":12,\\\"type\\\":\\\"prereq\\\"}],\\\"name\\\":\\\"MATH 415\\\",\\\"metrics\\\":{},\\\"nameSub\\\":\\\"Applied Linear Algebra\\\",\\\"id\\\":12,\\\"credits\\\":3,\\\"nameCanonical\\\":\\\"\\\"},{\\\"curriculum_requisites\\\":[{\\\"source_id\\\":13,\\\"target_id\\\":18,\\\"type\\\":\\\"prereq\\\"},{\\\"source_id\\\":17,\\\"target_id\\\":18,\\\"type\\\":\\\"prereq\\\"},{\\\"source_id\\\":15,\\\"target_id\\\":18,\\\"type\\\":\\\"prereq\\\"}],\\\"name\\\":\\\"CS 233\\\",\\\"metrics\\\":{},\\\"nameSub\\\":\\\"Computer Architecture\\\",\\\"id\\\":18,\\\"credits\\\":4,\\\"nameCanonical\\\":\\\"\\\"},{\\\"curriculum_requisites\\\":[{\\\"source_id\\\":17,\\\"target_id\\\":22,\\\"type\\\":\\\"prereq\\\"}],\\\"name\\\":\\\"CS 374\\\",\\\"metrics\\\":{},\\\"nameSub\\\":\\\"Algorithms and Models of Computation\\\",\\\"id\\\":22,\\\"credits\\\":4,\\\"nameCanonical\\\":\\\"\\\"},{\\\"curriculum_requisites\\\":[{\\\"source_id\\\":17,\\\"target_id\\\":16,\\\"type\\\":\\\"prereq\\\"}],\\\"name\\\":\\\"CS 210\\\",\\\"metrics\\\":{},\\\"nameSub\\\":\\\"Ethical and Professional Issues in CS\\\",\\\"id\\\":16,\\\"credits\\\":2,\\\"nameCanonical\\\":\\\"\\\"},{\\\"curriculum_requisites\\\":[],\\\"name\\\":\\\"CS \\\",\\\"metrics\\\":{},\\\"nameSub\\\":\\\"400 Level CS\\\",\\\"id\\\":27,\\\"credits\\\":3,\\\"nameCanonical\\\":\\\"\\\"}],\\\"id\\\":4},{\\\"name\\\":\\\"Term 5\\\",\\\"curriculum_items\\\":[{\\\"curriculum_requisites\\\":[{\\\"source_id\\\":17,\\\"target_id\\\":19,\\\"type\\\":\\\"prereq\\\"},{\\\"source_id\\\":18,\\\"target_id\\\":19,\\\"type\\\":\\\"prereq\\\"}],\\\"name\\\":\\\"CS 241\\\",\\\"metrics\\\":{},\\\"nameSub\\\":\\\"System Programming\\\",\\\"id\\\":19,\\\"credits\\\":4,\\\"nameCanonical\\\":\\\"\\\"},{\\\"curriculum_requisites\\\":[{\\\"source_id\\\":12,\\\"target_id\\\":20,\\\"type\\\":\\\"prereq\\\"}],\\\"name\\\":\\\"CS 357\\\",\\\"metrics\\\":{},\\\"nameSub\\\":\\\"Numerical Methods I\\\",\\\"id\\\":20,\\\"credits\\\":3,\\\"nameCanonical\\\":\\\"\\\"},{\\\"curriculum_requisites\\\":[{\\\"source_id\\\":12,\\\"target_id\\\":21,\\\"type\\\":\\\"prereq\\\"}],\\\"name\\\":\\\"CS 361\\\",\\\"metrics\\\":{},\\\"nameSub\\\":\\\"Probability and Statistics for Computer Science\\\",\\\"id\\\":21,\\\"credits\\\":3,\\\"nameCanonical\\\":\\\"\\\"},{\\\"curriculum_requisites\\\":[{\\\"source_id\\\":22,\\\"target_id\\\":23,\\\"type\\\":\\\"prereq\\\"},{\\\"source_id\\\":18,\\\"target_id\\\":23,\\\"type\\\":\\\"prereq\\\"}],\\\"name\\\":\\\"CS 421\\\",\\\"metrics\\\":{},\\\"nameSub\\\":\\\"Programming Languages and Compilers\\\",\\\"id\\\":23,\\\"credits\\\":3,\\\"nameCanonical\\\":\\\"\\\"},{\\\"curriculum_requisites\\\":[],\\\"name\\\":\\\"CS \\\",\\\"metrics\\\":{},\\\"nameSub\\\":\\\"400 Level CS\\\",\\\"id\\\":28,\\\"credits\\\":3,\\\"nameCanonical\\\":\\\"\\\"}],\\\"id\\\":5},{\\\"name\\\":\\\"Term 6\\\",\\\"curriculum_items\\\":[{\\\"curriculum_requisites\\\":[],\\\"name\\\":\\\" \\\",\\\"metrics\\\":{},\\\"nameSub\\\":\\\"Humanities and Social Sciences\\\",\\\"id\\\":10,\\\"credits\\\":18,\\\"nameCanonical\\\":\\\"\\\"}],\\\"id\\\":6},{\\\"name\\\":\\\"Term 7\\\",\\\"curriculum_items\\\":[{\\\"curriculum_requisites\\\":[],\\\"name\\\":\\\"CS \\\",\\\"metrics\\\":{},\\\"nameSub\\\":\\\"400 Level CS\\\",\\\"id\\\":29,\\\"credits\\\":3,\\\"nameCanonical\\\":\\\"\\\"},{\\\"curriculum_requisites\\\":[],\\\"name\\\":\\\" \\\",\\\"metrics\\\":{},\\\"nameSub\\\":\\\"400 Level Advanced Elective\\\",\\\"id\\\":30,\\\"credits\\\":3,\\\"nameCanonical\\\":\\\"\\\"},{\\\"curriculum_requisites\\\":[],\\\"name\\\":\\\" \\\",\\\"metrics\\\":{},\\\"nameSub\\\":\\\"400 Level Advanced Elective\\\",\\\"id\\\":31,\\\"credits\\\":3,\\\"nameCanonical\\\":\\\"\\\"}],\\\"id\\\":7},{\\\"name\\\":\\\"Term 8\\\",\\\"curriculum_items\\\":[{\\\"curriculum_requisites\\\":[],\\\"name\\\":\\\" \\\",\\\"metrics\\\":{},\\\"nameSub\\\":\\\"Free Electives to reach 128 hours\\\",\\\"id\\\":32,\\\"credits\\\":15,\\\"nameCanonical\\\":\\\"\\\"}],\\\"id\\\":8}],\\\"institution\\\":\\\"University of Illinois Urbana-Champaign\\\"}},\\\"*\\\"); window.removeEventListener(\\\"message\\\",window.messageReceived); window.messageReceived=(function (event){return (event.data.curriculum!==undefined) ? (WebIO.setval({\\\"name\\\":\\\"curriculum-data\\\",\\\"scope\\\":\\\"17512237860904868558\\\",\\\"id\\\":\\\"ob_01\\\",\\\"type\\\":\\\"observable\\\"},event.data.curriculum)) : undefined}); return window.addEventListener(\\\"message\\\",window.messageReceived)})\"},\"style\":{\"padding\":\"0\",\"height\":\"100vh\",\"margin\":\"0\",\"border\":\"none\",\"width\":\"100%\"}},\"nodeType\":\"DOM\",\"type\":\"node\",\"instanceArgs\":{\"namespace\":\"html\",\"tag\":\"iframe\"},\"children\":[\"\"]}]},\n",
       "            window,\n",
       "        );\n",
       "    } else {\n",
       "        document\n",
       "            .querySelector('[data-webio-mountpoint=\"8621986023447314354\"]')\n",
       "            .innerHTML = '<strong>WebIO not detected.</strong>';\n",
       "    }\n",
       "    </script>\n",
       "</div>\n"
      ],
      "text/plain": [
       "WebIO.Scope(WebIO.Node{WebIO.DOM}(WebIO.DOM(:html, :iframe), Any[\"\"], Dict{Symbol,Any}(:src=>\"http://localhost:8156\",:id=>\"curriculum\",:events=>Dict(:load=>JSString(\"(function (){this.contentWindow.postMessage({\\\"options\\\":{\\\"hideTerms\\\":true,\\\"edit\\\":false},\\\"curriculum\\\":{\\\"name\\\":\\\"Computer Science (Engineering)\\\",\\\"dp_name\\\":\\\"\\\",\\\"curriculum_terms\\\":[{\\\"name\\\":\\\"Term 1\\\",\\\"curriculum_items\\\":[{\\\"curriculum_requisites\\\":[],\\\"name\\\":\\\"MATH 221\\\",\\\"metrics\\\":{},\\\"nameSub\\\":\\\"Calculus 1\\\",\\\"id\\\":7,\\\"credits\\\":4,\\\"nameCanonical\\\":\\\"\\\"},{\\\"curriculum_requisites\\\":[],\\\"name\\\":\\\"CS 125\\\",\\\"metrics\\\":{},\\\"nameSub\\\":\\\"Introduction to Computer Science\\\",\\\"id\\\":13,\\\"credits\\\":4,\\\"nameCanonical\\\":\\\"\\\"},{\\\"curriculum_requisites\\\":[],\\\"name\\\":\\\" \\\",\\\"metrics\\\":{},\\\"nameSub\\\":\\\"Composition I\\\",\\\"id\\\":1,\\\"credits\\\":4,\\\"nameCanonical\\\":\\\"\\\"},{\\\"curriculum_requisites\\\":[],\\\"name\\\":\\\" \\\",\\\"metrics\\\":{},\\\"nameSub\\\":\\\"Advanced Composition\\\",\\\"id\\\":2,\\\"credits\\\":3,\\\"nameCanonical\\\":\\\"\\\"},{\\\"curriculum_requisites\\\":[],\\\"name\\\":\\\"ENG 100\\\",\\\"metrics\\\":{},\\\"nameSub\\\":\\\"Engineering Orientation\\\",\\\"id\\\":3,\\\"credits\\\":0,\\\"nameCanonical\\\":\\\"\\\"},{\\\"curriculum_requisites\\\":[],\\\"name\\\":\\\" \\\",\\\"metrics\\\":{},\\\"nameSub\\\":\\\"Science Elective\\\",\\\"id\\\":4,\\\"credits\\\":3,\\\"nameCanonical\\\":\\\"\\\"}],\\\"id\\\":1},{\\\"name\\\":\\\"Term 2\\\",\\\"curriculum_items\\\":[{\\\"curriculum_requisites\\\":[{\\\"source_id\\\":7,\\\"target_id\\\":8,\\\"type\\\":\\\"prereq\\\"}],\\\"name\\\":\\\"MATH 231\\\",\\\"metrics\\\":{},\\\"nameSub\\\":\\\"Calculus 2\\\",\\\"id\\\":8,\\\"credits\\\":4,\\\"nameCanonical\\\":\\\"\\\"},{\\\"curriculum_requisites\\\":[{\\\"source_id\\\":7,\\\"target_id\\\":15,\\\"type\\\":\\\"prereq\\\"},{\\\"source_id\\\":13,\\\"target_id\\\":15,\\\"type\\\":\\\"prereq\\\"}],\\\"name\\\":\\\"CS 173\\\",\\\"metrics\\\":{},\\\"nameSub\\\":\\\"Discrete Structures\\\",\\\"id\\\":15,\\\"credits\\\":3,\\\"nameCanonical\\\":\\\"\\\"},{\\\"curriculum_requisites\\\":[{\\\"source_id\\\":7,\\\"target_id\\\":5,\\\"type\\\":\\\"prereq\\\"},{\\\"source_id\\\":8,\\\"target_id\\\":5,\\\"type\\\":\\\"coreq\\\"}],\\\"name\\\":\\\"PHYS 211\\\",\\\"metrics\\\":{},\\\"nameSub\\\":\\\"University Physics: Mechanics\\\",\\\"id\\\":5,\\\"credits\\\":4,\\\"nameCanonical\\\":\\\"\\\"},{\\\"curriculum_requisites\\\":[{\\\"source_id\\\":13,\\\"target_id\\\":14,\\\"type\\\":\\\"prereq\\\"}],\\\"name\\\":\\\"CS 126\\\",\\\"metrics\\\":{},\\\"nameSub\\\":\\\"Software Design Studio\\\",\\\"id\\\":14,\\\"credits\\\":3,\\\"nameCanonical\\\":\\\"\\\"},{\\\"curriculum_requisites\\\":[],\\\"name\\\":\\\"CS 100\\\",\\\"metrics\\\":{},\\\"nameSub\\\":\\\"Freshman Orientation\\\",\\\"id\\\":11,\\\"credits\\\":1,\\\"nameCanonical\\\":\\\"\\\"},{\\\"curriculum_requisites\\\":[],\\\"name\\\":\\\"CS \\\",\\\"metrics\\\":{},\\\"nameSub\\\":\\\"400 Level CS\\\",\\\"id\\\":24,\\\"credits\\\":3,\\\"nameCanonical\\\":\\\"\\\"}],\\\"id\\\":2},{\\\"name\\\":\\\"Term 3\\\",\\\"curriculum_items\\\":[{\\\"curriculum_requisites\\\":[{\\\"source_id\\\":13,\\\"target_id\\\":17,\\\"type\\\":\\\"prereq\\\"},{\\\"source_id\\\":15,\\\"target_id\\\":17,\\\"type\\\":\\\"prereq\\\"}],\\\"name\\\":\\\"CS 225\\\",\\\"metrics\\\":{},\\\"nameSub\\\":\\\"Data Structure and Software Principles\\\",\\\"id\\\":17,\\\"credits\\\":4,\\\"nameCanonical\\\":\\\"\\\"},{\\\"curriculum_requisites\\\":[{\\\"source_id\\\":8,\\\"target_id\\\":9,\\\"type\\\":\\\"prereq\\\"}],\\\"name\\\":\\\"MATH 241\\\",\\\"metrics\\\":{},\\\"nameSub\\\":\\\"Calculus 3\\\",\\\"id\\\":9,\\\"credits\\\":4,\\\"nameCanonical\\\":\\\"\\\"},{\\\"curriculum_requisites\\\":[{\\\"source_id\\\":9,\\\"target_id\\\":6,\\\"type\\\":\\\"coreq\\\"},{\\\"source_id\\\":5,\\\"target_id\\\":6,\\\"type\\\":\\\"prereq\\\"}],\\\"name\\\":\\\"PHYS 212\\\",\\\"metrics\\\":{},\\\"nameSub\\\":\\\"University Physics: Elec & Mag\\\",\\\"id\\\":6,\\\"credits\\\":4,\\\"nameCanonical\\\":\\\"\\\"},{\\\"curriculum_requisites\\\":[],\\\"name\\\":\\\"CS \\\",\\\"metrics\\\":{},\\\"nameSub\\\":\\\"400 Level CS\\\",\\\"id\\\":25,\\\"credits\\\":3,\\\"nameCanonical\\\":\\\"\\\"},{\\\"curriculum_requisites\\\":[],\\\"name\\\":\\\"CS \\\",\\\"metrics\\\":{},\\\"nameSub\\\":\\\"400 Level CS\\\",\\\"id\\\":26,\\\"credits\\\":3,\\\"nameCanonical\\\":\\\"\\\"}],\\\"id\\\":3},{\\\"name\\\":\\\"Term 4\\\",\\\"curriculum_items\\\":[{\\\"curriculum_requisites\\\":[{\\\"source_id\\\":9,\\\"target_id\\\":12,\\\"type\\\":\\\"prereq\\\"}],\\\"name\\\":\\\"MATH 415\\\",\\\"metrics\\\":{},\\\"nameSub\\\":\\\"Applied Linear Algebra\\\",\\\"id\\\":12,\\\"credits\\\":3,\\\"nameCanonical\\\":\\\"\\\"},{\\\"curriculum_requisites\\\":[{\\\"source_id\\\":13,\\\"target_id\\\":18,\\\"type\\\":\\\"prereq\\\"},{\\\"source_id\\\":17,\\\"target_id\\\":18,\\\"type\\\":\\\"prereq\\\"},{\\\"source_id\\\":15,\\\"target_id\\\":18,\\\"type\\\":\\\"prereq\\\"}],\\\"name\\\":\\\"CS 233\\\",\\\"metrics\\\":{},\\\"nameSub\\\":\\\"Computer Architecture\\\",\\\"id\\\":18,\\\"credits\\\":4,\\\"nameCanonical\\\":\\\"\\\"},{\\\"curriculum_requisites\\\":[{\\\"source_id\\\":17,\\\"target_id\\\":22,\\\"type\\\":\\\"prereq\\\"}],\\\"name\\\":\\\"CS 374\\\",\\\"metrics\\\":{},\\\"nameSub\\\":\\\"Algorithms and Models of Computation\\\",\\\"id\\\":22,\\\"credits\\\":4,\\\"nameCanonical\\\":\\\"\\\"},{\\\"curriculum_requisites\\\":[{\\\"source_id\\\":17,\\\"target_id\\\":16,\\\"type\\\":\\\"prereq\\\"}],\\\"name\\\":\\\"CS 210\\\",\\\"metrics\\\":{},\\\"nameSub\\\":\\\"Ethical and Professional Issues in CS\\\",\\\"id\\\":16,\\\"credits\\\":2,\\\"nameCanonical\\\":\\\"\\\"},{\\\"curriculum_requisites\\\":[],\\\"name\\\":\\\"CS \\\",\\\"metrics\\\":{},\\\"nameSub\\\":\\\"400 Level CS\\\",\\\"id\\\":27,\\\"credits\\\":3,\\\"nameCanonical\\\":\\\"\\\"}],\\\"id\\\":4},{\\\"name\\\":\\\"Term 5\\\",\\\"curriculum_items\\\":[{\\\"curriculum_requisites\\\":[{\\\"source_id\\\":17,\\\"target_id\\\":19,\\\"type\\\":\\\"prereq\\\"},{\\\"source_id\\\":18,\\\"target_id\\\":19,\\\"type\\\":\\\"prereq\\\"}],\\\"name\\\":\\\"CS 241\\\",\\\"metrics\\\":{},\\\"nameSub\\\":\\\"System Programming\\\",\\\"id\\\":19,\\\"credits\\\":4,\\\"nameCanonical\\\":\\\"\\\"},{\\\"curriculum_requisites\\\":[{\\\"source_id\\\":12,\\\"target_id\\\":20,\\\"type\\\":\\\"prereq\\\"}],\\\"name\\\":\\\"CS 357\\\",\\\"metrics\\\":{},\\\"nameSub\\\":\\\"Numerical Methods I\\\",\\\"id\\\":20,\\\"credits\\\":3,\\\"nameCanonical\\\":\\\"\\\"},{\\\"curriculum_requisites\\\":[{\\\"source_id\\\":12,\\\"target_id\\\":21,\\\"type\\\":\\\"prereq\\\"}],\\\"name\\\":\\\"CS 361\\\",\\\"metrics\\\":{},\\\"nameSub\\\":\\\"Probability and Statistics for Computer Science\\\",\\\"id\\\":21,\\\"credits\\\":3,\\\"nameCanonical\\\":\\\"\\\"},{\\\"curriculum_requisites\\\":[{\\\"source_id\\\":22,\\\"target_id\\\":23,\\\"type\\\":\\\"prereq\\\"},{\\\"source_id\\\":18,\\\"target_id\\\":23,\\\"type\\\":\\\"prereq\\\"}],\\\"name\\\":\\\"CS 421\\\",\\\"metrics\\\":{},\\\"nameSub\\\":\\\"Programming Languages and Compilers\\\",\\\"id\\\":23,\\\"credits\\\":3,\\\"nameCanonical\\\":\\\"\\\"},{\\\"curriculum_requisites\\\":[],\\\"name\\\":\\\"CS \\\",\\\"metrics\\\":{},\\\"nameSub\\\":\\\"400 Level CS\\\",\\\"id\\\":28,\\\"credits\\\":3,\\\"nameCanonical\\\":\\\"\\\"}],\\\"id\\\":5},{\\\"name\\\":\\\"Term 6\\\",\\\"curriculum_items\\\":[{\\\"curriculum_requisites\\\":[],\\\"name\\\":\\\" \\\",\\\"metrics\\\":{},\\\"nameSub\\\":\\\"Humanities and Social Sciences\\\",\\\"id\\\":10,\\\"credits\\\":18,\\\"nameCanonical\\\":\\\"\\\"}],\\\"id\\\":6},{\\\"name\\\":\\\"Term 7\\\",\\\"curriculum_items\\\":[{\\\"curriculum_requisites\\\":[],\\\"name\\\":\\\"CS \\\",\\\"metrics\\\":{},\\\"nameSub\\\":\\\"400 Level CS\\\",\\\"id\\\":29,\\\"credits\\\":3,\\\"nameCanonical\\\":\\\"\\\"},{\\\"curriculum_requisites\\\":[],\\\"name\\\":\\\" \\\",\\\"metrics\\\":{},\\\"nameSub\\\":\\\"400 Level Advanced Elective\\\",\\\"id\\\":30,\\\"credits\\\":3,\\\"nameCanonical\\\":\\\"\\\"},{\\\"curriculum_requisites\\\":[],\\\"name\\\":\\\" \\\",\\\"metrics\\\":{},\\\"nameSub\\\":\\\"400 Level Advanced Elective\\\",\\\"id\\\":31,\\\"credits\\\":3,\\\"nameCanonical\\\":\\\"\\\"}],\\\"id\\\":7},{\\\"name\\\":\\\"Term 8\\\",\\\"curriculum_items\\\":[{\\\"curriculum_requisites\\\":[],\\\"name\\\":\\\" \\\",\\\"metrics\\\":{},\\\"nameSub\\\":\\\"Free Electives to reach 128 hours\\\",\\\"id\\\":32,\\\"credits\\\":15,\\\"nameCanonical\\\":\\\"\\\"}],\\\"id\\\":8}],\\\"institution\\\":\\\"University of Illinois Urbana-Champaign\\\"}},\\\"*\\\"); window.removeEventListener(\\\"message\\\",window.messageReceived); window.messageReceived=(function (event){return (event.data.curriculum!==undefined) ? (WebIO.setval({\\\"name\\\":\\\"curriculum-data\\\",\\\"scope\\\":\\\"17512237860904868558\\\",\\\"id\\\":\\\"ob_01\\\",\\\"type\\\":\\\"observable\\\"},event.data.curriculum)) : undefined}); return window.addEventListener(\\\"message\\\",window.messageReceived)})\")),:style=>Dict(:padding=>\"0\",:height=>\"100vh\",:margin=>\"0\",:border=>\"none\",:width=>\"100%\"))), Dict{String,Tuple{Observables.AbstractObservable,Union{Nothing, Bool}}}(\"curriculum-data\"=>(Observable{Dict{String,Any}} with 1 listeners. Value:\n",
       "Dict{String,Any}(\"options\"=>Dict{String,Any}(\"hideTerms\"=>true,\"edit\"=>false),\"curriculum\"=>Dict{String,Any}(\"name\"=>\"Computer Science (Engineering)\",\"dp_name\"=>\"\",\"curriculum_terms\"=>Dict{String,Any}[Dict(\"name\"=>\"Term 1\",\"curriculum_items\"=>Dict{String,Any}[Dict(\"curriculum_requisites\"=>Dict{String,Any}[],\"name\"=>\"MATH 221\",\"metrics\"=>Dict{String,Any}(),\"nameSub\"=>\"Calculus 1\",\"id\"=>7,\"credits\"=>4,\"nameCanonical\"=>\"\"), Dict(\"curriculum_requisites\"=>Dict{String,Any}[],\"name\"=>\"CS 125\",\"metrics\"=>Dict{String,Any}(),\"nameSub\"=>\"Introduction to Computer Science\",\"id\"=>13,\"credits\"=>4,\"nameCanonical\"=>\"\"), Dict(\"curriculum_requisites\"=>Dict{String,Any}[],\"name\"=>\" \",\"metrics\"=>Dict{String,Any}(),\"nameSub\"=>\"Composition I\",\"id\"=>1,\"credits\"=>4,\"nameCanonical\"=>\"\"), Dict(\"curriculum_requisites\"=>Dict{String,Any}[],\"name\"=>\" \",\"metrics\"=>Dict{String,Any}(),\"nameSub\"=>\"Advanced Composition\",\"id\"=>2,\"credits\"=>3,\"nameCanonical\"=>\"\"), Dict(\"curriculum_requisites\"=>Dict{String,Any}[],\"name\"=>\"ENG 100\",\"metrics\"=>Dict{String,Any}(),\"nameSub\"=>\"Engineering Orientation\",\"id\"=>3,\"credits\"=>0,\"nameCanonical\"=>\"\"), Dict(\"curriculum_requisites\"=>Dict{String,Any}[],\"name\"=>\" \",\"metrics\"=>Dict{String,Any}(),\"nameSub\"=>\"Science Elective\",\"id\"=>4,\"credits\"=>3,\"nameCanonical\"=>\"\")],\"id\"=>1), Dict(\"name\"=>\"Term 2\",\"curriculum_items\"=>Dict{String,Any}[Dict(\"curriculum_requisites\"=>Dict{String,Any}[Dict(\"source_id\"=>7,\"target_id\"=>8,\"type\"=>\"prereq\")],\"name\"=>\"MATH 231\",\"metrics\"=>Dict{String,Any}(),\"nameSub\"=>\"Calculus 2\",\"id\"=>8,\"credits\"=>4,\"nameCanonical\"=>\"\"), Dict(\"curriculum_requisites\"=>Dict{String,Any}[Dict(\"source_id\"=>7,\"target_id\"=>15,\"type\"=>\"prereq\"), Dict(\"source_id\"=>13,\"target_id\"=>15,\"type\"=>\"prereq\")],\"name\"=>\"CS 173\",\"metrics\"=>Dict{String,Any}(),\"nameSub\"=>\"Discrete Structures\",\"id\"=>15,\"credits\"=>3,\"nameCanonical\"=>\"\"), Dict(\"curriculum_requisites\"=>Dict{String,Any}[Dict(\"source_id\"=>7,\"target_id\"=>5,\"type\"=>\"prereq\"), Dict(\"source_id\"=>8,\"target_id\"=>5,\"type\"=>\"coreq\")],\"name\"=>\"PHYS 211\",\"metrics\"=>Dict{String,Any}(),\"nameSub\"=>\"University Physics: Mechanics\",\"id\"=>5,\"credits\"=>4,\"nameCanonical\"=>\"\"), Dict(\"curriculum_requisites\"=>Dict{String,Any}[Dict(\"source_id\"=>13,\"target_id\"=>14,\"type\"=>\"prereq\")],\"name\"=>\"CS 126\",\"metrics\"=>Dict{String,Any}(),\"nameSub\"=>\"Software Design Studio\",\"id\"=>14,\"credits\"=>3,\"nameCanonical\"=>\"\"), Dict(\"curriculum_requisites\"=>Dict{String,Any}[],\"name\"=>\"CS 100\",\"metrics\"=>Dict{String,Any}(),\"nameSub\"=>\"Freshman Orientation\",\"id\"=>11,\"credits\"=>1,\"nameCanonical\"=>\"\"), Dict(\"curriculum_requisites\"=>Dict{String,Any}[],\"name\"=>\"CS \",\"metrics\"=>Dict{String,Any}(),\"nameSub\"=>\"400 Level CS\",\"id\"=>24,\"credits\"=>3,\"nameCanonical\"=>\"\")],\"id\"=>2), Dict(\"name\"=>\"Term 3\",\"curriculum_items\"=>Dict{String,Any}[Dict(\"curriculum_requisites\"=>Dict{String,Any}[Dict(\"source_id\"=>13,\"target_id\"=>17,\"type\"=>\"prereq\"), Dict(\"source_id\"=>15,\"target_id\"=>17,\"type\"=>\"prereq\")],\"name\"=>\"CS 225\",\"metrics\"=>Dict{String,Any}(),\"nameSub\"=>\"Data Structure and Software Principles\",\"id\"=>17,\"credits\"=>4,\"nameCanonical\"=>\"\"), Dict(\"curriculum_requisites\"=>Dict{String,Any}[Dict(\"source_id\"=>8,\"target_id\"=>9,\"type\"=>\"prereq\")],\"name\"=>\"MATH 241\",\"metrics\"=>Dict{String,Any}(),\"nameSub\"=>\"Calculus 3\",\"id\"=>9,\"credits\"=>4,\"nameCanonical\"=>\"\"), Dict(\"curriculum_requisites\"=>Dict{String,Any}[Dict(\"source_id\"=>9,\"target_id\"=>6,\"type\"=>\"coreq\"), Dict(\"source_id\"=>5,\"target_id\"=>6,\"type\"=>\"prereq\")],\"name\"=>\"PHYS 212\",\"metrics\"=>Dict{String,Any}(),\"nameSub\"=>\"University Physics: Elec & Mag\",\"id\"=>6,\"credits\"=>4,\"nameCanonical\"=>\"\"), Dict(\"curriculum_requisites\"=>Dict{String,Any}[],\"name\"=>\"CS \",\"metrics\"=>Dict{String,Any}(),\"nameSub\"=>\"400 Level CS\",\"id\"=>25,\"credits\"=>3,\"nameCanonical\"=>\"\"), Dict(\"curriculum_requisites\"=>Dict{String,Any}[],\"name\"=>\"CS \",\"metrics\"=>Dict{String,Any}(),\"nameSub\"=>\"400 Level CS\",\"id\"=>26,\"credits\"=>3,\"nameCanonical\"=>\"\")],\"id\"=>3), Dict(\"name\"=>\"Term 4\",\"curriculum_items\"=>Dict{String,Any}[Dict(\"curriculum_requisites\"=>Dict{String,Any}[Dict(\"source_id\"=>9,\"target_id\"=>12,\"type\"=>\"prereq\")],\"name\"=>\"MATH 415\",\"metrics\"=>Dict{String,Any}(),\"nameSub\"=>\"Applied Linear Algebra\",\"id\"=>12,\"credits\"=>3,\"nameCanonical\"=>\"\"), Dict(\"curriculum_requisites\"=>Dict{String,Any}[Dict(\"source_id\"=>13,\"target_id\"=>18,\"type\"=>\"prereq\"), Dict(\"source_id\"=>17,\"target_id\"=>18,\"type\"=>\"prereq\"), Dict(\"source_id\"=>15,\"target_id\"=>18,\"type\"=>\"prereq\")],\"name\"=>\"CS 233\",\"metrics\"=>Dict{String,Any}(),\"nameSub\"=>\"Computer Architecture\",\"id\"=>18,\"credits\"=>4,\"nameCanonical\"=>\"\"), Dict(\"curriculum_requisites\"=>Dict{String,Any}[Dict(\"source_id\"=>17,\"target_id\"=>22,\"type\"=>\"prereq\")],\"name\"=>\"CS 374\",\"metrics\"=>Dict{String,Any}(),\"nameSub\"=>\"Algorithms and Models of Computation\",\"id\"=>22,\"credits\"=>4,\"nameCanonical\"=>\"\"), Dict(\"curriculum_requisites\"=>Dict{String,Any}[Dict(\"source_id\"=>17,\"target_id\"=>16,\"type\"=>\"prereq\")],\"name\"=>\"CS 210\",\"metrics\"=>Dict{String,Any}(),\"nameSub\"=>\"Ethical and Professional Issues in CS\",\"id\"=>16,\"credits\"=>2,\"nameCanonical\"=>\"\"), Dict(\"curriculum_requisites\"=>Dict{String,Any}[],\"name\"=>\"CS \",\"metrics\"=>Dict{String,Any}(),\"nameSub\"=>\"400 Level CS\",\"id\"=>27,\"credits\"=>3,\"nameCanonical\"=>\"\")],\"id\"=>4), Dict(\"name\"=>\"Term 5\",\"curriculum_items\"=>Dict{String,Any}[Dict(\"curriculum_requisites\"=>Dict{String,Any}[Dict(\"source_id\"=>17,\"target_id\"=>19,\"type\"=>\"prereq\"), Dict(\"source_id\"=>18,\"target_id\"=>19,\"type\"=>\"prereq\")],\"name\"=>\"CS 241\",\"metrics\"=>Dict{String,Any}(),\"nameSub\"=>\"System Programming\",\"id\"=>19,\"credits\"=>4,\"nameCanonical\"=>\"\"), Dict(\"curriculum_requisites\"=>Dict{String,Any}[Dict(\"source_id\"=>12,\"target_id\"=>20,\"type\"=>\"prereq\")],\"name\"=>\"CS 357\",\"metrics\"=>Dict{String,Any}(),\"nameSub\"=>\"Numerical Methods I\",\"id\"=>20,\"credits\"=>3,\"nameCanonical\"=>\"\"), Dict(\"curriculum_requisites\"=>Dict{String,Any}[Dict(\"source_id\"=>12,\"target_id\"=>21,\"type\"=>\"prereq\")],\"name\"=>\"CS 361\",\"metrics\"=>Dict{String,Any}(),\"nameSub\"=>\"Probability and Statistics for Computer Science\",\"id\"=>21,\"credits\"=>3,\"nameCanonical\"=>\"\"), Dict(\"curriculum_requisites\"=>Dict{String,Any}[Dict(\"source_id\"=>22,\"target_id\"=>23,\"type\"=>\"prereq\"), Dict(\"source_id\"=>18,\"target_id\"=>23,\"type\"=>\"prereq\")],\"name\"=>\"CS 421\",\"metrics\"=>Dict{String,Any}(),\"nameSub\"=>\"Programming Languages and Compilers\",\"id\"=>23,\"credits\"=>3,\"nameCanonical\"=>\"\"), Dict(\"curriculum_requisites\"=>Dict{String,Any}[],\"name\"=>\"CS \",\"metrics\"=>Dict{String,Any}(),\"nameSub\"=>\"400 Level CS\",\"id\"=>28,\"credits\"=>3,\"nameCanonical\"=>\"\")],\"id\"=>5), Dict(\"name\"=>\"Term 6\",\"curriculum_items\"=>Dict{String,Any}[Dict(\"curriculum_requisites\"=>Dict{String,Any}[],\"name\"=>\" \",\"metrics\"=>Dict{String,Any}(),\"nameSub\"=>\"Humanities and Social Sciences\",\"id\"=>10,\"credits\"=>18,\"nameCanonical\"=>\"\")],\"id\"=>6), Dict(\"name\"=>\"Term 7\",\"curriculum_items\"=>Dict{String,Any}[Dict(\"curriculum_requisites\"=>Dict{String,Any}[],\"name\"=>\"CS \",\"metrics\"=>Dict{String,Any}(),\"nameSub\"=>\"400 Level CS\",\"id\"=>29,\"credits\"=>3,\"nameCanonical\"=>\"\"), Dict(\"curriculum_requisites\"=>Dict{String,Any}[],\"name\"=>\" \",\"metrics\"=>Dict{String,Any}(),\"nameSub\"=>\"400 Level Advanced Elective\",\"id\"=>30,\"credits\"=>3,\"nameCanonical\"=>\"\"), Dict(\"curriculum_requisites\"=>Dict{String,Any}[],\"name\"=>\" \",\"metrics\"=>Dict{String,Any}(),\"nameSub\"=>\"400 Level Advanced Elective\",\"id\"=>31,\"credits\"=>3,\"nameCanonical\"=>\"\")],\"id\"=>7), Dict(\"name\"=>\"Term 8\",\"curriculum_items\"=>Dict{String,Any}[Dict(\"curriculum_requisites\"=>Dict{String,Any}[],\"name\"=>\" \",\"metrics\"=>Dict{String,Any}(),\"nameSub\"=>\"Free Electives to reach 128 hours\",\"id\"=>32,\"credits\"=>15,\"nameCanonical\"=>\"\")],\"id\"=>8)],\"institution\"=>\"University of Illinois Urbana-Champaign\")), nothing)), Set(String[]), nothing, WebIO.Asset[], Dict{Any,Any}(), WebIO.ConnectionPool(Channel{Any}(sz_max:32,sz_curr:0), Set(WebIO.AbstractConnection[]), Channel{WebIO.AbstractConnection}(sz_max:32,sz_curr:0)), WebIO.JSString[])"
      ]
     },
     "execution_count": 5,
     "metadata": {
      "application/vnd.webio.node+json": {
       "kernelId": "90ec2814-7838-48e6-87f4-6a08ae0cc82c"
      }
     },
     "output_type": "execute_result"
    }
   ],
   "source": [
    "dp = read_csv(\"./curricula/University_of_Illinois_Urbana_Champaign-CS.csv\")\n",
    "visualize(dp, notebook=true)"
   ]
  },
  {
   "cell_type": "code",
   "execution_count": 6,
   "metadata": {},
   "outputs": [
    {
     "ename": "SystemError",
     "evalue": "SystemError: opening file \"./curricula/University_of_Kentucky-CS.csv\": No such file or directory",
     "output_type": "error",
     "traceback": [
      "SystemError: opening file \"./curricula/University_of_Kentucky-CS.csv\": No such file or directory",
      "",
      "Stacktrace:",
      " [1] #systemerror#43(::Nothing, ::Function, ::String, ::Bool) at ./error.jl:134",
      " [2] systemerror at ./error.jl:134 [inlined]",
      " [3] #open#309(::Nothing, ::Nothing, ::Nothing, ::Nothing, ::Nothing, ::Function, ::String) at ./iostream.jl:283",
      " [4] open at ./iostream.jl:275 [inlined]",
      " [5] #open#310(::Base.Iterators.Pairs{Union{},Union{},Tuple{},NamedTuple{(),Tuple{}}}, ::Function, ::getfield(CurricularAnalytics, Symbol(\"##22#23\")), ::String) at ./iostream.jl:367",
      " [6] open at ./iostream.jl:367 [inlined]",
      " [7] readfile at /Users/hayden/.julia/packages/CurricularAnalytics/J3tqV/src/CSVUtilities.jl:5 [inlined]",
      " [8] remove_empty_lines(::String) at /Users/hayden/.julia/packages/CurricularAnalytics/J3tqV/src/CSVUtilities.jl:17",
      " [9] read_csv(::String) at /Users/hayden/.julia/packages/CurricularAnalytics/J3tqV/src/DataHandler.jl:22",
      " [10] top-level scope at In[6]:1"
     ]
    }
   ],
   "source": [
    "dp = read_csv(\"./curricula/University_of_Kentucky-CS.csv\")\n",
    "visualize(dp, notebook=true)"
   ]
  },
  {
   "cell_type": "markdown",
   "metadata": {},
   "source": [
    "By hovering your mouse over the courses in these degree plans, you can view the contribution that various courses make to the overall compleixty of a curriculum."
   ]
  },
  {
   "cell_type": "markdown",
   "metadata": {},
   "source": [
    "## Methology\n",
    "The most well-known rankings in higher education are conducted by the U.S. News & World Report. In this study we used the rankings provided by the U.S. News & World Report 2018 Best Undergraduate Engineering Programs survey as a proxy for program quality~\\cite{BaBo:10,By:18}.  That is, for the purpose of this study, we assume that the \"best\" engineering programs are synonymous with the highest quality engineering programs.  We acknowledge the concerns that are routinely expressed concerning these rankings~\\cite{}.  However, it should be noted that this study uses aggregations of schools with tiers, and the statistics associated with the aggregations.  Thus, the specific rankings of the schools within the tiers are irrelevant, all that matters is the tier in which a school is placed. Upon inspection of the schools within each tier, we believe that knowledgable and impartial observes would agree that the three tiers constructed in this study are highly correlated with the program quality.\n",
    "\n",
    "To appear on a U.S. News & World Report undergraduate engineering survey, a school must have at least one undergraduate engineering program that is accredited by ABET. Two surveys are conducted, one for schools whose highest engineering degree offered is a doctorate and another for schools whose highest engineering degree offered is a bachelor's or master's. For this study we consider the ranking provided by the former; that is, the ranking of doctoral institutions. This ranking is based solely on the peer assessment provided by deans and senior faculty members at doctoral institutions, and involves asking these survey participants to rate each program they are familiar with on a scale from 1~(marginal) to 5~(distinguished). Two peer assessment surveys are sent to each ABET-accredited engineering program at these schools, with a response rate of approximately 58%.  U.S. News & World Report uses the two most recent years' responses to calculate weighted average scores of programs, which determines the ranking. The U.S. News & World Report 2018 Best Undergraduate Engineering Programs rankings for doctoral institutions lists 205 schools, with a formal ranking designation given to the programs in the 1-177 range. Programs ranked lower than 177 are listed alphabetically and lumped into a ranking category. "
   ]
  },
  {
   "cell_type": "markdown",
   "metadata": {},
   "source": [
    "## Experimental Design\n",
    "The question of interest in this study is whether or not curricular complexity is related to program quality. In order to answer this question, we constructed an analysis of variance~(ANOVA) experiment that involved partitioning the schools in the U.S. News & World Report 2018 Best Undergraduate Engineering Programs rankings according to their decile within the ranking. From these three groups were created as follows. A *top tier* of schools defined as those in the first decile of the ranking.  A *mid tier*, defined as the set of schools in the fifth and sixth deciles of the ranking that are equidistant from first to last ranked schools. Due to the large number of ties that occur in the middle of the ranking, this resulted in selecting only those schools tied for 82-nd and 99-nth in the ranking, for a total of 26 schools. A *bottom tier* of schools comprised of the schools ranked below 177, which spans approximately three deciles. The null hypothesis is:\n",
    "\n",
    "    \"There is no difference between the mean values of the curricular complexities of those schools belonging \n",
    "     to the top, mid and bottom tiers.\" \n",
    "\n",
    "The alternative hypothesis is then: \n",
    "\n",
    "    \"At least one of the curricular complexity mean values of a school tier differs significantly from the \n",
    "     means of the other two tiers.\"\n",
    "     \n",
    "The ANOVA analysis involves random sampling of schools within each of the three tiers. In order to ensure the analysis is able to distinguish between actual curricular complexity differences among the tiers, and random variation, sufficient sample sizes must be determined. Under the assumption that the curricular complexity distributions within the tiers are approximately normal, with variance $\\sigma^2$, the number of samples that should be selected from each tier is given by\n",
    "\\begin{equation}\n",
    " n = \\left({\\sigma Z \\over E}\\right)^2,\n",
    "\\end{equation}\n",
    "where $Z$ is the confidence interval expressed using deviation within the standard normal distribution, and $E$ is the margin of error. To obtain an estimate of $\\sigma$, pilot samples from each of the three tiers were taken, yielding the estimate $\\hat{\\sigma} = 90$. For a 95\\% confidence interval, which corresponds to $Z = 1.96$, the margin of error will be 40 curricular complexity points, i.e., 20 points on either side of the mean for a tier. Using these values in the equation provided above leads to sample sizes of $n_1 = n_2 = n_3 = 20$, where $n_1, n_2$ and $n_3$ are the sample sizes for the top, medium and bottom tiers, respectively. Thus, by sampling at least 20 schools from each tier, we can have 95\\% confidence that the error in this analysis will be by no more than 40 curricular complexity points.\n",
    "\n",
    "Histograms showing the curricular complexity distributions for the random samples drawn from each of the three tiers are created next."
   ]
  },
  {
   "cell_type": "code",
   "execution_count": 7,
   "metadata": {},
   "outputs": [
    {
     "data": {
      "text/plain": [
       "generate_histogram (generic function with 1 method)"
      ]
     },
     "execution_count": 7,
     "metadata": {},
     "output_type": "execute_result"
    }
   ],
   "source": [
    "function generate_histogram(complexity_scores, average, std, title; all::Bool=false)\n",
    "    title_hist = \"The Average Curriculum Complexity for $title Schools is $average\\nwith a standard deviation of $std\\n\"\n",
    "    if all \n",
    "        hist = StatsPlots.histogram(complexity_scores;nbins=5, title = title_hist, xlabel=\"Curricular Complexity\", \n",
    "        #hist = GR.histogram(complexity_scores;nbins=5, xlabel=\"Complexity\",   \n",
    "            ylabel=\"Number of Schools\",xlim=(0,500), ylim=(0,25), alpha = 0.7, color=:dodgerblue3)\n",
    "    else\n",
    "        hist = StatsPlots.histogram(complexity_scores;nbins=5, title = title_hist, xlabel=\"Curricular Complexity\", \n",
    "        #hist = GR.histogram(complexity_scores;nbins=5, xlabel=\"Complexity\",\n",
    "            ylabel=\"Number of Schools\",xlim=(0,500), ylim=(0,15), alpha = 0.7, color=:dodgerblue3)\n",
    "    end\n",
    "    return hist\n",
    "end"
   ]
  },
  {
   "cell_type": "code",
   "execution_count": 8,
   "metadata": {
    "scrolled": true
   },
   "outputs": [
    {
     "name": "stdout",
     "output_type": "stream",
     "text": [
      "Looking at: curricula/tier1/Carnegie_Mellon-CS.csv\n",
      "\u001b[33mWARNING: Curriculum was created, but is invalid:\u001b[39m\n",
      "Curriculum 'Computer Science' has extraneous requisites:\n",
      "-Great Ideas in Theoretical Computer Science has redundant requisite Mathematical Foundations for Computer Science\n",
      "\n",
      "Looking at: curricula/tier1/New_York_University-CS.csv\n",
      "\u001b[33mWARNING: Curriculum was created, but is invalid:\u001b[39m\n",
      "Curriculum 'Computer Science' has extraneous requisites:\n",
      "-Introduction to Operating Systm has redundant requisite Object Oriented Programming\n",
      "-Introduction to Operating Systm has redundant requisite Discrete Mathematics\n",
      "\n",
      "Looking at: curricula/tier1/Northeastern-University-CS.csv\n",
      "Looking at: curricula/tier1/Purdue-University-CS.csv\n",
      "Looking at: curricula/tier1/Stanford-CS.csv\n",
      "\u001b[33mWARNING: Curriculum was created, but is invalid:\u001b[39m\n",
      "Curriculum 'Computer Science' has extraneous requisites:\n",
      "-Artificial Intelligence: Principles and Techniques has redundant requisite Programming Abstractions\n",
      "-\tDesign and Analysis of Algorithms has redundant requisite Mathematical Foundations of Computing\n",
      "-Artificial Intelligence: Principles and Techniques has redundant requisite Mathematical Foundations of Computing\n",
      "\n",
      "Looking at: curricula/tier1/Texas_A&M_CS.csv\n",
      "\u001b[33mWARNING: Curriculum was created, but is invalid:\u001b[39m\n",
      "Curriculum 'Computer Science' has extraneous requisites:\n",
      "-Programming Studio has redundant requisite Computer Organization\n",
      "\n",
      "Looking at: curricula/tier1/University-of Southern-California-CS.csv\n",
      "Looking at: curricula/tier1/University-of-Pennsylvania-CS.csv\n",
      "\u001b[33mWARNING: Curriculum was created, but is invalid:\u001b[39m\n",
      "Curriculum 'Computer Science' has extraneous requisites:\n",
      "-Introduction to Algorithms has redundant requisite Programming Languages and Techniques I\n",
      "\n",
      "Tier average is 95.65\n",
      "Looking at: curricula/tier2/Clemson_CS.csv\n",
      "Looking at: curricula/tier2/Drexel_CS.csv\n",
      "\u001b[33mWARNING: Curriculum was created, but is invalid:\u001b[39m\n",
      "Curriculum 'Computer Science' has extraneous requisites:\n",
      "-Programming Language Concepts has redundant requisite Mathematical Foundations of Computer Science\n",
      "-Software Architecture I has redundant requisite Mathematical Foundations of Computer Science\n",
      "\n",
      "base64 binary data: TG9va2luZyBhdDogY3VycmljdWxhL3RpZXIyL0hvdXN0b25fQ1MuY3N2ChtbMzNtV0FSTklORzogQ3VycmljdWx1bSB3YXMgY3JlYXRlZCwgYnV0IGlzIGludmFsaWQ6G1szOW0KQ3VycmljdWx1bSAnQ29tcHV0ZXIgU2NpZW5jZScgaGFzIGV4dHJhbmVvdXMgcmVxdWlzaXRlczoKLUZ1bmRhbSBvZiBTb2Z0d2FyZSBFbmdpbmVlcmluZyBoYXMgcmVkdW5kYW50IHJlcXVpc2l0ZSBEaXNjcmV0ZcpNYXRoZW1hdGljcwoKTG9va2luZyBhdDogY3VycmljdWxhL3RpZXIyL0lvd2FfQ1MuY3N2\n",
      "\n",
      "\u001b[33mWARNING: Curriculum was created, but is invalid:\u001b[39m\n",
      "Curriculum 'Computer Science' has extraneous requisites:\n",
      "-Computer Organization has redundant requisite Discrete Structures\n",
      "-Object-Oriented Software Development has redundant requisite Discrete Structures\n",
      "-Algorithms has redundant requisite Discrete Structures\n",
      "\n",
      "Looking at: curricula/tier2/New_Hampshire_CS.csv\n",
      "Looking at: curricula/tier2/South_Florida_CS.csv\n",
      "\u001b[33mWARNING: Curriculum was created, but is invalid:\u001b[39m\n",
      "Curriculum 'Computer Science' has extraneous requisites:\n",
      "-Analysis of Algorithms has redundant requisite Discrete Structures\n",
      "\n",
      "Looking at: curricula/tier2/Tennessee_CS.csv\n",
      "\u001b[33mWARNING: Curriculum was created, but is invalid:\u001b[39m\n",
      "Curriculum 'Computer Science' has extraneous requisites:\n",
      "-Systems Programming has redundant requisite Computer Organization\n",
      "-Operating Systems has redundant requisite Computer Organization\n",
      "\n",
      "Looking at: curricula/tier2/University_of_Arizona-CS.csv\n",
      "Looking at: curricula/tier2/University_of_Georgia-CS.csv\n",
      "Looking at: curricula/tier2/University_of_Kentucky-CS.csv\n",
      "\u001b[33mWARNING: Curriculum was created, but is invalid:\u001b[39m\n",
      "Curriculum 'Computer Science' has extraneous requisites:\n",
      "-Logic/Theory of Computing has redundant requisite Calculus I\n",
      "-Software Engineering for Senior Project has redundant requisite Intr to Pgm Design Abstraction/Prob Solv\n",
      "\n",
      "Tier average is 141.82\n",
      "Looking at: curricula/tier3/Boston_College_CS.csv\n",
      "Looking at: curricula/tier3/Mississippi-State-CS.csv\n",
      "Looking at: curricula/tier3/Missouri-University-Technology-CS.csv\n",
      "Looking at: curricula/tier3/Montana_State-CS.csv\n",
      "\u001b[33mWARNING: Curriculum was created, but is invalid:\u001b[39m\n",
      "Curriculum 'Computer Science' has extraneous requisites:\n",
      "-Computer Science Theory has redundant requisite Calculus I\n",
      "\n",
      "Looking at: curricula/tier3/Oklahoma_CS.csv\n",
      "Looking at: curricula/tier3/Texas-Tech-CS.csv\n",
      "\u001b[33mWARNING: Curriculum was created, but is invalid:\u001b[39m\n",
      "Curriculum 'Computer Science' has extraneous requisites:\n",
      "-Introduction to Technical Writing has redundant requisite Essentials of College Rhetoric\n",
      "\n",
      "Looking at: curricula/tier3/University_of_Arkansas-CS.csv\n",
      "\u001b[33mWARNING: Curriculum was created, but is invalid:\u001b[39m\n",
      "Curriculum 'Computer Science' has extraneous requisites:\n",
      "-Fundamentals of Software Engineering has redundant requisite Calculus II\n",
      "\n",
      "Looking at: curricula/tier3/University_of_Miami-CS.csv\n",
      "Looking at: curricula/tier3/University_of_Missouri-CS.csv\n",
      "Looking at: curricula/tier3/University_of_Wisconsin_Milwaukee-CS.csv\n",
      "\u001b[33mWARNING: Curriculum was created, but is invalid:\u001b[39m\n",
      "Curriculum 'Computer Science' has extraneous requisites:\n",
      "-Capstone Project has redundant requisite Data Structures and Algorithms\n",
      "-Data Structures and Algorithms has redundant requisite Survey in Calculus and Analytic Geometry\n",
      "-Algorithm Design and Analysis has redundant requisite Survey in Calculus and Analytic Geometry\n",
      "-Algorithm Design and Analysis has redundant requisite Survey in Calculus and Analytic Geometry\n",
      "\n",
      "Tier average is 150.2\n",
      "tier2/Tennessee_CS => 169.0\n",
      "tier2/Clemson_CS => 123.0\n",
      "tier2/University_of_Kentucky-CS => 144.0\n",
      "tier1/Stanford-CS => 76.20000000000006\n",
      "tier1/University-of-Pennsylvania-CS => 91.0\n",
      "tier3/University_of_Miami-CS => 142.0\n",
      "tier3/University_of_Wisconsin_Milwaukee-CS => 143.0\n",
      "tier1/New_York_University-CS => 96.0\n",
      "tier1/Northeastern-University-CS => 88.0\n",
      "tier1/University-of Southern-California-CS => 111.0\n",
      "tier3/University_of_Arkansas-CS => 146.0\n",
      "tier2/South_Florida_CS => 250.0\n",
      "tier3/Boston_College_CS => 74.0\n",
      "tier3/Texas-Tech-CS => 256.0\n",
      "tier3/Mississippi-State-CS => 165.0\n",
      "tier3/Montana_State-CS => 105.0\n",
      "tier3/University_of_Missouri-CS => 173.0\n",
      "tier2/Iowa_CS => 60.0\n",
      "tier2/New_Hampshire_CS => 123.0\n",
      "tier2/University_of_Georgia-CS => 77.0\n",
      "tier3/Oklahoma_CS => 162.0\n",
      "tier1/Purdue-University-CS => 106.0\n",
      "tier2/University_of_Arizona-CS => 108.0\n",
      "tier3/Missouri-University-Technology-CS => 136.0\n",
      "tier1/Carnegie_Mellon-CS => 61.0\n",
      "tier2/Houston_CS => 184.0\n",
      "tier1/Texas_A&M_CS => 136.0\n",
      "tier2/Drexel_CS => 180.19999999999987\n"
     ]
    },
    {
     "data": {
      "image/svg+xml": [
       "<?xml version=\"1.0\" encoding=\"utf-8\"?>\n",
       "<svg xmlns=\"http://www.w3.org/2000/svg\" xmlns:xlink=\"http://www.w3.org/1999/xlink\" width=\"600\" height=\"400\" viewBox=\"0 0 2400 1600\">\n",
       "<defs>\n",
       "  <clipPath id=\"clip3100\">\n",
       "    <rect x=\"0\" y=\"0\" width=\"2400\" height=\"1600\"/>\n",
       "  </clipPath>\n",
       "</defs>\n",
       "<polygon clip-path=\"url(#clip3100)\" points=\"\n",
       "0,1600 2400,1600 2400,0 0,0 \n",
       "  \" fill=\"#ffffff\" fill-rule=\"evenodd\" fill-opacity=\"1\"/>\n",
       "<defs>\n",
       "  <clipPath id=\"clip3101\">\n",
       "    <rect x=\"480\" y=\"0\" width=\"1681\" height=\"1600\"/>\n",
       "  </clipPath>\n",
       "</defs>\n",
       "<polygon clip-path=\"url(#clip3100)\" points=\"\n",
       "202.373,1425.62 2352.76,1425.62 2352.76,183.952 202.373,183.952 \n",
       "  \" fill=\"#ffffff\" fill-rule=\"evenodd\" fill-opacity=\"1\"/>\n",
       "<defs>\n",
       "  <clipPath id=\"clip3102\">\n",
       "    <rect x=\"202\" y=\"183\" width=\"2151\" height=\"1243\"/>\n",
       "  </clipPath>\n",
       "</defs>\n",
       "<polyline clip-path=\"url(#clip3102)\" style=\"stroke:#000000; stroke-width:2; stroke-opacity:0.1; fill:none\" points=\"\n",
       "  202.373,1425.62 202.373,183.952 \n",
       "  \"/>\n",
       "<polyline clip-path=\"url(#clip3102)\" style=\"stroke:#000000; stroke-width:2; stroke-opacity:0.1; fill:none\" points=\"\n",
       "  632.45,1425.62 632.45,183.952 \n",
       "  \"/>\n",
       "<polyline clip-path=\"url(#clip3102)\" style=\"stroke:#000000; stroke-width:2; stroke-opacity:0.1; fill:none\" points=\"\n",
       "  1062.53,1425.62 1062.53,183.952 \n",
       "  \"/>\n",
       "<polyline clip-path=\"url(#clip3102)\" style=\"stroke:#000000; stroke-width:2; stroke-opacity:0.1; fill:none\" points=\"\n",
       "  1492.6,1425.62 1492.6,183.952 \n",
       "  \"/>\n",
       "<polyline clip-path=\"url(#clip3102)\" style=\"stroke:#000000; stroke-width:2; stroke-opacity:0.1; fill:none\" points=\"\n",
       "  1922.68,1425.62 1922.68,183.952 \n",
       "  \"/>\n",
       "<polyline clip-path=\"url(#clip3102)\" style=\"stroke:#000000; stroke-width:2; stroke-opacity:0.1; fill:none\" points=\"\n",
       "  2352.76,1425.62 2352.76,183.952 \n",
       "  \"/>\n",
       "<polyline clip-path=\"url(#clip3102)\" style=\"stroke:#000000; stroke-width:2; stroke-opacity:0.1; fill:none\" points=\"\n",
       "  202.373,1425.62 2352.76,1425.62 \n",
       "  \"/>\n",
       "<polyline clip-path=\"url(#clip3102)\" style=\"stroke:#000000; stroke-width:2; stroke-opacity:0.1; fill:none\" points=\"\n",
       "  202.373,1011.73 2352.76,1011.73 \n",
       "  \"/>\n",
       "<polyline clip-path=\"url(#clip3102)\" style=\"stroke:#000000; stroke-width:2; stroke-opacity:0.1; fill:none\" points=\"\n",
       "  202.373,597.841 2352.76,597.841 \n",
       "  \"/>\n",
       "<polyline clip-path=\"url(#clip3102)\" style=\"stroke:#000000; stroke-width:2; stroke-opacity:0.1; fill:none\" points=\"\n",
       "  202.373,183.952 2352.76,183.952 \n",
       "  \"/>\n",
       "<polyline clip-path=\"url(#clip3100)\" style=\"stroke:#000000; stroke-width:4; stroke-opacity:1; fill:none\" points=\"\n",
       "  202.373,1425.62 2352.76,1425.62 \n",
       "  \"/>\n",
       "<polyline clip-path=\"url(#clip3100)\" style=\"stroke:#000000; stroke-width:4; stroke-opacity:1; fill:none\" points=\"\n",
       "  202.373,1425.62 202.373,183.952 \n",
       "  \"/>\n",
       "<polyline clip-path=\"url(#clip3100)\" style=\"stroke:#000000; stroke-width:4; stroke-opacity:1; fill:none\" points=\"\n",
       "  202.373,1425.62 202.373,1406.99 \n",
       "  \"/>\n",
       "<polyline clip-path=\"url(#clip3100)\" style=\"stroke:#000000; stroke-width:4; stroke-opacity:1; fill:none\" points=\"\n",
       "  632.45,1425.62 632.45,1406.99 \n",
       "  \"/>\n",
       "<polyline clip-path=\"url(#clip3100)\" style=\"stroke:#000000; stroke-width:4; stroke-opacity:1; fill:none\" points=\"\n",
       "  1062.53,1425.62 1062.53,1406.99 \n",
       "  \"/>\n",
       "<polyline clip-path=\"url(#clip3100)\" style=\"stroke:#000000; stroke-width:4; stroke-opacity:1; fill:none\" points=\"\n",
       "  1492.6,1425.62 1492.6,1406.99 \n",
       "  \"/>\n",
       "<polyline clip-path=\"url(#clip3100)\" style=\"stroke:#000000; stroke-width:4; stroke-opacity:1; fill:none\" points=\"\n",
       "  1922.68,1425.62 1922.68,1406.99 \n",
       "  \"/>\n",
       "<polyline clip-path=\"url(#clip3100)\" style=\"stroke:#000000; stroke-width:4; stroke-opacity:1; fill:none\" points=\"\n",
       "  2352.76,1425.62 2352.76,1406.99 \n",
       "  \"/>\n",
       "<polyline clip-path=\"url(#clip3100)\" style=\"stroke:#000000; stroke-width:4; stroke-opacity:1; fill:none\" points=\"\n",
       "  202.373,1425.62 234.629,1425.62 \n",
       "  \"/>\n",
       "<polyline clip-path=\"url(#clip3100)\" style=\"stroke:#000000; stroke-width:4; stroke-opacity:1; fill:none\" points=\"\n",
       "  202.373,1011.73 234.629,1011.73 \n",
       "  \"/>\n",
       "<polyline clip-path=\"url(#clip3100)\" style=\"stroke:#000000; stroke-width:4; stroke-opacity:1; fill:none\" points=\"\n",
       "  202.373,597.841 234.629,597.841 \n",
       "  \"/>\n",
       "<polyline clip-path=\"url(#clip3100)\" style=\"stroke:#000000; stroke-width:4; stroke-opacity:1; fill:none\" points=\"\n",
       "  202.373,183.952 234.629,183.952 \n",
       "  \"/>\n",
       "<g clip-path=\"url(#clip3100)\">\n",
       "<text style=\"fill:#000000; fill-opacity:1; font-family:Arial,Helvetica Neue,Helvetica,sans-serif; font-size:48px; text-anchor:middle;\" transform=\"rotate(0, 202.373, 1479.62)\" x=\"202.373\" y=\"1479.62\">0</text>\n",
       "</g>\n",
       "<g clip-path=\"url(#clip3100)\">\n",
       "<text style=\"fill:#000000; fill-opacity:1; font-family:Arial,Helvetica Neue,Helvetica,sans-serif; font-size:48px; text-anchor:middle;\" transform=\"rotate(0, 632.45, 1479.62)\" x=\"632.45\" y=\"1479.62\">100</text>\n",
       "</g>\n",
       "<g clip-path=\"url(#clip3100)\">\n",
       "<text style=\"fill:#000000; fill-opacity:1; font-family:Arial,Helvetica Neue,Helvetica,sans-serif; font-size:48px; text-anchor:middle;\" transform=\"rotate(0, 1062.53, 1479.62)\" x=\"1062.53\" y=\"1479.62\">200</text>\n",
       "</g>\n",
       "<g clip-path=\"url(#clip3100)\">\n",
       "<text style=\"fill:#000000; fill-opacity:1; font-family:Arial,Helvetica Neue,Helvetica,sans-serif; font-size:48px; text-anchor:middle;\" transform=\"rotate(0, 1492.6, 1479.62)\" x=\"1492.6\" y=\"1479.62\">300</text>\n",
       "</g>\n",
       "<g clip-path=\"url(#clip3100)\">\n",
       "<text style=\"fill:#000000; fill-opacity:1; font-family:Arial,Helvetica Neue,Helvetica,sans-serif; font-size:48px; text-anchor:middle;\" transform=\"rotate(0, 1922.68, 1479.62)\" x=\"1922.68\" y=\"1479.62\">400</text>\n",
       "</g>\n",
       "<g clip-path=\"url(#clip3100)\">\n",
       "<text style=\"fill:#000000; fill-opacity:1; font-family:Arial,Helvetica Neue,Helvetica,sans-serif; font-size:48px; text-anchor:middle;\" transform=\"rotate(0, 2352.76, 1479.62)\" x=\"2352.76\" y=\"1479.62\">500</text>\n",
       "</g>\n",
       "<g clip-path=\"url(#clip3100)\">\n",
       "<text style=\"fill:#000000; fill-opacity:1; font-family:Arial,Helvetica Neue,Helvetica,sans-serif; font-size:48px; text-anchor:end;\" transform=\"rotate(0, 178.373, 1443.12)\" x=\"178.373\" y=\"1443.12\">0</text>\n",
       "</g>\n",
       "<g clip-path=\"url(#clip3100)\">\n",
       "<text style=\"fill:#000000; fill-opacity:1; font-family:Arial,Helvetica Neue,Helvetica,sans-serif; font-size:48px; text-anchor:end;\" transform=\"rotate(0, 178.373, 1029.23)\" x=\"178.373\" y=\"1029.23\">5</text>\n",
       "</g>\n",
       "<g clip-path=\"url(#clip3100)\">\n",
       "<text style=\"fill:#000000; fill-opacity:1; font-family:Arial,Helvetica Neue,Helvetica,sans-serif; font-size:48px; text-anchor:end;\" transform=\"rotate(0, 178.373, 615.341)\" x=\"178.373\" y=\"615.341\">10</text>\n",
       "</g>\n",
       "<g clip-path=\"url(#clip3100)\">\n",
       "<text style=\"fill:#000000; fill-opacity:1; font-family:Arial,Helvetica Neue,Helvetica,sans-serif; font-size:48px; text-anchor:end;\" transform=\"rotate(0, 178.373, 201.452)\" x=\"178.373\" y=\"201.452\">15</text>\n",
       "</g>\n",
       "<g clip-path=\"url(#clip3100)\">\n",
       "<text style=\"fill:#000000; fill-opacity:1; font-family:Arial,Helvetica Neue,Helvetica,sans-serif; font-size:84px; text-anchor:middle;\" transform=\"rotate(0, 1277.56, 73.2)\" x=\"1277.56\" y=\"73.2\">The Average Curriculum Complexity for Computer Science Programs Schools is 131.62</text>\n",
       "</g>\n",
       "<g clip-path=\"url(#clip3100)\">\n",
       "<text style=\"fill:#000000; fill-opacity:1; font-family:Arial,Helvetica Neue,Helvetica,sans-serif; font-size:84px; text-anchor:middle;\" transform=\"rotate(0, 1277.56, 163.92)\" x=\"1277.56\" y=\"163.92\">with a standard deviation of 49.88129135771474</text>\n",
       "</g>\n",
       "<g clip-path=\"url(#clip3100)\">\n",
       "<text style=\"fill:#000000; fill-opacity:1; font-family:Arial,Helvetica Neue,Helvetica,sans-serif; font-size:66px; text-anchor:middle;\" transform=\"rotate(0, 1277.56, 1559.48)\" x=\"1277.56\" y=\"1559.48\">Curricular Complexity</text>\n",
       "</g>\n",
       "<g clip-path=\"url(#clip3100)\">\n",
       "<text style=\"fill:#000000; fill-opacity:1; font-family:Arial,Helvetica Neue,Helvetica,sans-serif; font-size:66px; text-anchor:middle;\" transform=\"rotate(-90, 89.2861, 804.785)\" x=\"89.2861\" y=\"804.785\">Number of Schools</text>\n",
       "</g>\n",
       "<polygon clip-path=\"url(#clip3102)\" points=\"\n",
       "417.411,763.396 417.411,1425.62 632.45,1425.62 632.45,763.396 417.411,763.396 417.411,763.396 \n",
       "  \" fill=\"#1874cd\" fill-rule=\"evenodd\" fill-opacity=\"0.7\"/>\n",
       "<polyline clip-path=\"url(#clip3102)\" style=\"stroke:#000000; stroke-width:4; stroke-opacity:0.7; fill:none\" points=\"\n",
       "  417.411,763.396 417.411,1425.62 632.45,1425.62 632.45,763.396 417.411,763.396 \n",
       "  \"/>\n",
       "<polygon clip-path=\"url(#clip3102)\" points=\"\n",
       "632.45,432.285 632.45,1425.62 847.488,1425.62 847.488,432.285 632.45,432.285 632.45,432.285 \n",
       "  \" fill=\"#1874cd\" fill-rule=\"evenodd\" fill-opacity=\"0.7\"/>\n",
       "<polyline clip-path=\"url(#clip3102)\" style=\"stroke:#000000; stroke-width:4; stroke-opacity:0.7; fill:none\" points=\"\n",
       "  632.45,432.285 632.45,1425.62 847.488,1425.62 847.488,432.285 632.45,432.285 \n",
       "  \"/>\n",
       "<polygon clip-path=\"url(#clip3102)\" points=\"\n",
       "847.488,928.952 847.488,1425.62 1062.53,1425.62 1062.53,928.952 847.488,928.952 847.488,928.952 \n",
       "  \" fill=\"#1874cd\" fill-rule=\"evenodd\" fill-opacity=\"0.7\"/>\n",
       "<polyline clip-path=\"url(#clip3102)\" style=\"stroke:#000000; stroke-width:4; stroke-opacity:0.7; fill:none\" points=\"\n",
       "  847.488,928.952 847.488,1425.62 1062.53,1425.62 1062.53,928.952 847.488,928.952 \n",
       "  \"/>\n",
       "<polygon clip-path=\"url(#clip3102)\" points=\"\n",
       "1062.53,1425.62 1062.53,1425.62 1277.56,1425.62 1277.56,1425.62 1062.53,1425.62 1062.53,1425.62 \n",
       "  \" fill=\"#1874cd\" fill-rule=\"evenodd\" fill-opacity=\"0.7\"/>\n",
       "<polyline clip-path=\"url(#clip3102)\" style=\"stroke:#000000; stroke-width:4; stroke-opacity:0.7; fill:none\" points=\"\n",
       "  1062.53,1425.62 1062.53,1425.62 1277.56,1425.62 1062.53,1425.62 \n",
       "  \"/>\n",
       "<polygon clip-path=\"url(#clip3102)\" points=\"\n",
       "1277.56,1260.06 1277.56,1425.62 1492.6,1425.62 1492.6,1260.06 1277.56,1260.06 1277.56,1260.06 \n",
       "  \" fill=\"#1874cd\" fill-rule=\"evenodd\" fill-opacity=\"0.7\"/>\n",
       "<polyline clip-path=\"url(#clip3102)\" style=\"stroke:#000000; stroke-width:4; stroke-opacity:0.7; fill:none\" points=\"\n",
       "  1277.56,1260.06 1277.56,1425.62 1492.6,1425.62 1492.6,1260.06 1277.56,1260.06 \n",
       "  \"/>\n",
       "<polygon clip-path=\"url(#clip3100)\" points=\"\n",
       "1989.93,388.432 2280.76,388.432 2280.76,267.472 1989.93,267.472 \n",
       "  \" fill=\"#ffffff\" fill-rule=\"evenodd\" fill-opacity=\"1\"/>\n",
       "<polyline clip-path=\"url(#clip3100)\" style=\"stroke:#000000; stroke-width:4; stroke-opacity:1; fill:none\" points=\"\n",
       "  1989.93,388.432 2280.76,388.432 2280.76,267.472 1989.93,267.472 1989.93,388.432 \n",
       "  \"/>\n",
       "<polygon clip-path=\"url(#clip3100)\" points=\"\n",
       "2013.93,352.144 2157.93,352.144 2157.93,303.76 2013.93,303.76 2013.93,352.144 \n",
       "  \" fill=\"#1874cd\" fill-rule=\"evenodd\" fill-opacity=\"0.7\"/>\n",
       "<polyline clip-path=\"url(#clip3100)\" style=\"stroke:#000000; stroke-width:4; stroke-opacity:1; fill:none\" points=\"\n",
       "  2013.93,352.144 2157.93,352.144 2157.93,303.76 2013.93,303.76 2013.93,352.144 \n",
       "  \"/>\n",
       "<g clip-path=\"url(#clip3100)\">\n",
       "<text style=\"fill:#000000; fill-opacity:1; font-family:Arial,Helvetica Neue,Helvetica,sans-serif; font-size:48px; text-anchor:start;\" transform=\"rotate(0, 2181.93, 345.452)\" x=\"2181.93\" y=\"345.452\">y1</text>\n",
       "</g>\n",
       "</svg>\n"
      ]
     },
     "execution_count": 8,
     "metadata": {},
     "output_type": "execute_result"
    }
   ],
   "source": [
    "tier1_files = glob(\"*\",\"curricula/tier1\")\n",
    "tier2_files = glob(\"*\",\"curricula/tier2\")\n",
    "tier3_files = glob(\"*\",\"curricula/tier3\")\n",
    "tiers = [tier1_files, tier2_files, tier3_files]\n",
    "score = Dict{String, Any}()\n",
    "\n",
    "for tier in tiers\n",
    "    tier_avg = 0\n",
    "    for csv_filepath in tier\n",
    "        println(\"Looking at: $(csv_filepath)\")\n",
    "        dp = read_csv(csv_filepath)\n",
    "        if(typeof(dp) == DegreePlan)\n",
    "            complexity(dp.curriculum)\n",
    "            curric = dp.curriculum\n",
    "            score[csv_filepath] = dp.curriculum.metrics[\"complexity\"][1]\n",
    "            tier_avg += dp.curriculum.metrics[\"complexity\"][1]\n",
    "        elseif(typeof(dp) == Curriculum)\n",
    "            complexity(dp)\n",
    "            curric = dp\n",
    "            score[csv_filepath] = dp.metrics[\"complexity\"][1]\n",
    "            tier_avg += dp.metrics[\"complexity\"][1]\n",
    "        end\n",
    "    end\n",
    "    tier_avg = tier_avg / length(tier)\n",
    "    println(\"Tier average is $tier_avg\")\n",
    "end\n",
    "\n",
    "for (k, v) in score\n",
    "    k = split(split(k, \"curricula/\")[2],\".\")[1]\n",
    "    println(\"$k => $v\")\n",
    "end\n",
    "\n",
    "complexity_scores = collect(values(score))\n",
    "schools = collect(keys(score))\n",
    "# score_hat is the sample average.\n",
    "score_hat = round(sum(complexity_scores) / size(complexity_scores, 1), digits=2)\n",
    "score_std = round(std(complexity_scores), digits=243)\n",
    "\n",
    "schools = generate_histogram(complexity_scores, score_hat, score_std, \"Computer Science Programs\")"
   ]
  },
  {
   "cell_type": "markdown",
   "metadata": {},
   "source": [
    "## References\n",
    "\n",
    "Heileman, G. L., Abdallah, C.T., Slim, A., and Hickman, M. (2018). Curricular analytics: A framework for quantifying the impact of curricular reforms and pedagogical innovations. www.arXiv.org, arXiv:1811.09676 [cs.CY].\n",
    "\n",
    "Heileman, G. L., Free, H. W., Abar, O. and Thompson-Arjona, W. G, (2019). CurricularAnalytics.jl Toolbox. https://github.com/heileman/CurricularAnalytics.jl."
   ]
  },
  {
   "cell_type": "code",
   "execution_count": null,
   "metadata": {},
   "outputs": [],
   "source": []
  }
 ],
 "metadata": {
  "@webio": {
   "lastCommId": "657e5336634e41c5b996e5c300314a99",
   "lastKernelId": "90ec2814-7838-48e6-87f4-6a08ae0cc82c"
  },
  "kernelspec": {
   "display_name": "Julia 1.1.0",
   "language": "julia",
   "name": "julia-1.1"
  },
  "language_info": {
   "file_extension": ".jl",
   "mimetype": "application/julia",
   "name": "julia",
   "version": "1.1.0"
  }
 },
 "nbformat": 4,
 "nbformat_minor": 2
}
